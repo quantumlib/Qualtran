{
 "cells": [
  {
   "cell_type": "markdown",
   "id": "6f3d7cc7-39a1-443a-84fb-8810097b0637",
   "metadata": {},
   "source": [
    "# Qualtran + QREF & Bartiq"
   ]
  },
  {
   "cell_type": "markdown",
   "id": "9de43b9f-5b74-4d0a-92d8-b27e9c3f5e15",
   "metadata": {},
   "source": [
    "This notebook shows how to convert Bloqs to [QREF](https://github.com/PsiQ/qref) and use them with [Bartiq](https://github.com/PsiQ/bartiq) library for symbolic compilation.\n",
    "\n",
    "This is not meant to be introduction to these packages, we assume that the reader has a basic understanding of what these packages allow them to do. If not, please refer to their documentation."
   ]
  },
  {
   "cell_type": "markdown",
   "id": "0d62ccdd-3336-4971-9a68-d67dc0e060f8",
   "metadata": {},
   "source": [
    "## Basics\n",
    "\n",
    "QREF is a format for serializing quantum algorithms for the purpose of performing resource estimations.\n",
    "Bartiq is a library for obtaining symbolic expressions for QREs. \n",
    "\n",
    "To showcase how using QREF and Bartiq with Qualtran could be useful, we'll analyze Alias Sampling – a state preparation method described in [Encoding Electronic Spectra in Quantum Circuits with Linear T Complexity](https://arxiv.org/abs/1805.03662).\n",
    "\n",
    "Let's start from the basics – converting Bloq to QREF and compiling costs using Bartiq."
   ]
  },
  {
   "cell_type": "code",
   "execution_count": null,
   "id": "cfeb60ce-81af-494c-8e6c-9033642048f8",
   "metadata": {},
   "outputs": [],
   "source": [
    "from qualtran.bloqs.state_preparation import StatePreparationAliasSampling\n",
    "from qualtran.drawing.graphviz import PrettyGraphDrawer\n",
    "\n",
    "probs_list = list(range(24))\n",
    "bloq = StatePreparationAliasSampling.from_probabilities(probs_list).decompose_bloq()\n",
    "PrettyGraphDrawer(bloq).get_svg()"
   ]
  },
  {
   "cell_type": "code",
   "execution_count": null,
   "id": "f3726d8c-ce01-4b6a-b5b6-72654b58f09b",
   "metadata": {},
   "outputs": [],
   "source": [
    "from qualtran.qref_interop import bloq_to_qref\n",
    "from qref.experimental.rendering import to_graphviz\n",
    "\n",
    "# We can easily convert it to QREF representation with the following code:\n",
    "qref_definition = bloq_to_qref(bloq)\n",
    "to_graphviz(qref_definition)"
   ]
  },
  {
   "cell_type": "code",
   "execution_count": null,
   "id": "755d7031-617a-4908-9ee1-45a42c422fbd",
   "metadata": {},
   "outputs": [],
   "source": [
    "from pprint import pprint\n",
    "# We can check that the resources for both representations are the same:\n",
    "pprint(bloq.t_complexity())\n",
    "pprint(qref_definition.program.resources)"
   ]
  },
  {
   "cell_type": "markdown",
   "id": "5133d33a-017a-488e-a8f9-2c37a058062d",
   "metadata": {},
   "source": [
    "These are only the \"top-level\" resources, we can also see what are the resources of the building blocks, for example Uniform State Preparation:"
   ]
  },
  {
   "cell_type": "code",
   "execution_count": null,
   "id": "bafd2405-3ac0-43ff-b9b4-7978ffd49cef",
   "metadata": {},
   "outputs": [],
   "source": [
    "USP_bloq = [bloq_inst.bloq for bloq_inst in bloq.bloq_instances if bloq_inst.bloq.pretty_name() == \"PrepareUniformSuperposition\"][0]\n",
    "pprint(USP_bloq.t_complexity())\n",
    "pprint(qref_definition.program.children.by_name[\"PrepareUniformSuperposition_0\"].resources)"
   ]
  },
  {
   "cell_type": "markdown",
   "id": "4953f807-5ce0-42c5-9bf4-6773c5f45e87",
   "metadata": {},
   "source": [
    "Now we can take the QREF definition and pass it to Bartiq.\n",
    "However, it would be trivial as all the resources are already there. For this reason, before passing it to Bartiq, we'll remove the top level resources in QREF."
   ]
  },
  {
   "cell_type": "code",
   "execution_count": null,
   "id": "56beb66e-0989-4cf6-920b-bbc51cae559d",
   "metadata": {},
   "outputs": [],
   "source": [
    "from bartiq.integrations.qref import qref_to_bartiq\n",
    "from bartiq import compile_routine\n",
    "\n",
    "qref_definition.program.resources =  [] \n",
    "bartiq_routine = qref_to_bartiq(qref_definition)\n",
    "compiled_routine = compile_routine(bartiq_routine)\n",
    "pprint(compiled_routine.resources)"
   ]
  },
  {
   "cell_type": "markdown",
   "id": "2db6c501-5756-4356-ae6f-a6f412155e68",
   "metadata": {},
   "source": [
    "As we can see, Bartiq correctly reconstructed the costs from the subroutines."
   ]
  },
  {
   "cell_type": "markdown",
   "id": "27483d83-d008-499c-9322-c2953f6db573",
   "metadata": {},
   "source": [
    "## Writing custom USP implementation\n",
    "\n",
    "So far so good, but we used Bartiq to derive the same information we already had in Qualtran.\n",
    "\n",
    "There are two limitations of Qualtran implementation, with which Bartiq can help us, let's see what these are.\n",
    "\n",
    "### Numeric implementation\n",
    "\n",
    "The example above is purely numeric. We can get the symbolic cost of the whole `StatePreparationAliasSampling` (see snippet below) but we can't decompose it using `decompose_bloq()`.\n",
    "\n",
    "```\n",
    "import sympy\n",
    "N, M, eps = sympy.symbols(\"N M eps\")\n",
    "bloq = StatePreparationAliasSampling.from_n_coeff(n_coeff=N, sum_of_unnormalized_probabilites=M, precision=eps)\n",
    "pprint(bloq.t_complexity())\n",
    "bloq.decompose_bloq()\n",
    "```\n",
    "\n",
    "### Resources tied to a specific implementation\n",
    "\n",
    "At the time of writing, if we look at the source code of [PrepareUniformSuperposition](https://github.com/quantumlib/Qualtran/blob/c0a3a94d712f4eebb1cad119fc507a6cd9a7d8e7/qualtran/bloqs/state_preparation/prepare_uniform_superposition.py#L44), we'll see the following information in the docstring:\n",
    "\n",
    "> Performs a single round of amplitude amplification and prepares a uniform superposition over the first $n$ basis states $|0>, |1>, ..., |n - 1>$. The expected T-complexity should be $10 * log(L) + 2 * K$ T-gates and $2$ single qubit rotation gates, where $n = L * 2^K$.\n",
    ">\n",
    "> However, the current T-complexity is $12 * log(L)$ T-gates and $2 + 2 * (K + log(L))$ rotations\n",
    "because of two open issues:\n",
    "> \n",
    "> - https://github.com/quantumlib/Qualtran/issues/233 and\n",
    "> - https://github.com/quantumlib/Qualtran/issues/235\n",
    "\n",
    "We see that in Qualtran we're sometimes tied with the resources to a specific implementation, even if we know it's incorrect.\n",
    "\n",
    "\n",
    "\n",
    "Below we'll see how we can quickly create an alternative implementation of USP with QREF"
   ]
  },
  {
   "cell_type": "code",
   "execution_count": null,
   "id": "b6491b25-8364-4542-ba4e-3de3b990ad10",
   "metadata": {},
   "outputs": [],
   "source": [
    "from qualtran.bloqs.state_preparation import PrepareUniformSuperposition\n",
    "import sympy\n",
    "N = sympy.symbols(\"N\")\n",
    "USP_bloq = PrepareUniformSuperposition(N)\n",
    "# We see that contrary to the docstring, number of rotations is already correct\n",
    "USP_bloq.t_complexity()"
   ]
  },
  {
   "cell_type": "code",
   "execution_count": null,
   "id": "1c730d6c-1ed3-4da5-8988-3d8bac2dcbd3",
   "metadata": {},
   "outputs": [],
   "source": [
    "# Now we create two QREF definitions based on the PrepareUniformSuperposition bloq\n",
    "usp_1_qref = bloq_to_qref(USP_bloq) # this will be left unchanged\n",
    "usp_2_qref = bloq_to_qref(USP_bloq) # this will be updated"
   ]
  },
  {
   "cell_type": "code",
   "execution_count": null,
   "id": "d5c82602-5db5-4071-9b52-062454ce154a",
   "metadata": {},
   "outputs": [],
   "source": [
    "# We check if the expressions are \n",
    "usp_1_qref.program.resources"
   ]
  },
  {
   "cell_type": "code",
   "execution_count": null,
   "id": "97d88fce-c538-4282-a665-b2c721716d84",
   "metadata": {},
   "outputs": [],
   "source": [
    "# We'll implement the new version of USP straight in QREF, it's based on `usp_1_qref.model_dump()`\n",
    "# Note that we omit Clifford gates here, as the expression for them is not mentioned in the docstring.\n",
    "from qref import SchemaV1\n",
    "import math\n",
    "port_size = math.ceil(math.log2(len(probs_list)))\n",
    "\n",
    "usp_2_qref = SchemaV1(\n",
    "    program={\n",
    "        \"name\": \"PrepareUniformSuperposition\",\n",
    "        \"input_params\": [\"N\"],\n",
    "        \"ports\": [\n",
    "            {\"direction\": \"input\", \"name\": \"in_target\", \"size\": port_size},\n",
    "            {\"direction\": \"output\", \"name\": \"out_target\", \"size\": port_size},\n",
    "        ],\n",
    "        \"resources\": [\n",
    "            {\"name\": \"t\", \"type\": \"additive\", \"value\": \"10*ceiling(log2(L)) + 2*k\"},\n",
    "            {\"name\": \"rotations\", \"type\": \"additive\", \"value\": \"2\"},\n",
    "        ],\n",
    "        \"local_variables\": {\"k\": \"multiplicity(2, N)\", \"L\": \"N/2**k\"},\n",
    "    },\n",
    "    version=\"v1\",\n",
    ")"
   ]
  },
  {
   "cell_type": "code",
   "execution_count": null,
   "id": "814c2e11-d430-411e-b015-85e803528b3a",
   "metadata": {},
   "outputs": [],
   "source": [
    "usp_1_bartiq = qref_to_bartiq(usp_1_qref)\n",
    "compile_routine(usp_1_bartiq).resources[\"t\"]"
   ]
  },
  {
   "cell_type": "code",
   "execution_count": null,
   "id": "1183503a-0aa5-42e9-8c10-1218b9a2dbf7",
   "metadata": {},
   "outputs": [],
   "source": [
    "usp_2_bartiq = qref_to_bartiq(usp_2_qref)\n",
    "compile_routine(usp_2_bartiq).resources[\"t\"]"
   ]
  },
  {
   "cell_type": "markdown",
   "id": "07d684ae-fa77-4d48-8850-4d394b2ec4e3",
   "metadata": {},
   "source": [
    "## Updating Alias Sampling"
   ]
  },
  {
   "cell_type": "code",
   "execution_count": null,
   "id": "d2bddbd7-fd86-400e-8cfe-b593995f91f3",
   "metadata": {},
   "outputs": [],
   "source": [
    "bloq = StatePreparationAliasSampling.from_probabilities(probs_list).decompose_bloq()"
   ]
  },
  {
   "cell_type": "code",
   "execution_count": null,
   "id": "b1a54903-29a3-4017-84cf-e87d51d53a4a",
   "metadata": {},
   "outputs": [],
   "source": [
    "# We export our Alias Sampling bloq to QREF and remove top-level resources so we can re-compute them later.\n",
    "qref_as_1 = bloq_to_qref(bloq)\n",
    "qref_as_2 = bloq_to_qref(bloq)\n",
    "qref_as_1.program.resources = []\n",
    "qref_as_2.program.resources = []"
   ]
  },
  {
   "cell_type": "code",
   "execution_count": null,
   "id": "f2305c8f-7bf0-44a2-8c2f-d6afd63111ea",
   "metadata": {},
   "outputs": [],
   "source": [
    "# Before we put the subroutine in the right place, we need to make sure it's named correctly, otherwise \n",
    "# some of the connections will be invalid.\n",
    "usp_2_qref.program.name = \"PrepareUniformSuperposition_0\"\n",
    "qref_as_2.program.children.by_name[\"PrepareUniformSuperposition_0\"] = usp_2_qref.program"
   ]
  },
  {
   "cell_type": "code",
   "execution_count": null,
   "id": "8fe913dc-a880-432f-bc37-d18316d6da92",
   "metadata": {},
   "outputs": [],
   "source": [
    "bartiq_as_1 = qref_to_bartiq(qref_as_1)\n",
    "compile_routine(bartiq_as_1).resources[\"t\"]"
   ]
  },
  {
   "cell_type": "code",
   "execution_count": null,
   "id": "72f0b802-a3cd-4e43-86da-ad1bbe0fe39b",
   "metadata": {},
   "outputs": [],
   "source": [
    "bartiq_as_2 = qref_to_bartiq(qref_as_2)\n",
    "compile_routine(bartiq_as_2).resources[\"t\"]"
   ]
  },
  {
   "cell_type": "markdown",
   "id": "44cc58e6-6155-4919-9156-556b5e42fdf4",
   "metadata": {},
   "source": [
    "Since the top-level routine does not have knowledge about it's children parameter, the parameter `N` from USP routine got namespaced and we see: `PrepareUniformSuperposition_0.N` in the expression. To get rid of that, we'll make a tiny update:"
   ]
  },
  {
   "cell_type": "code",
   "execution_count": null,
   "id": "275437ee-aab0-4f38-93dc-603ba1a4a5f2",
   "metadata": {},
   "outputs": [],
   "source": [
    "from qref.schema_v1 import ParamLinkV1\n",
    "qref_as_2.program.input_params = [\"N\"]\n",
    "qref_as_2.program.linked_params = [{\"source\": \"N\", \"targets\": [\"PrepareUniformSuperposition_0.N\"]}]"
   ]
  },
  {
   "cell_type": "code",
   "execution_count": null,
   "id": "2d0cc292-9421-42ee-a4ef-f8753e308167",
   "metadata": {},
   "outputs": [],
   "source": [
    "bartiq_as_2 = qref_to_bartiq(qref_as_2)\n",
    "compiled_as_2 = compile_routine(bartiq_as_2)\n",
    "compiled_as_2.resources[\"t\"]"
   ]
  },
  {
   "cell_type": "markdown",
   "id": "e864d60d-66cc-4bc7-92dc-708c2a77b614",
   "metadata": {},
   "source": [
    "In order to get the value of these resources for a specific value of `N`, we can use Bartiq's `evaluate` method:"
   ]
  },
  {
   "cell_type": "code",
   "execution_count": null,
   "id": "1ecc7d7a-22da-4072-bf96-1d6e26e01493",
   "metadata": {},
   "outputs": [],
   "source": [
    "from bartiq import evaluate\n",
    "\n",
    "N_value = len(probs_list)\n",
    "\n",
    "assignments = {f\"N={N_value}\"}\n",
    "\n",
    "evaluate(compiled_as_2, assignments).resources[\"t\"]"
   ]
  },
  {
   "cell_type": "markdown",
   "id": "0d866675-d219-4ff7-a5a8-d1c2419b7863",
   "metadata": {},
   "source": [
    "# Custom functions"
   ]
  },
  {
   "cell_type": "markdown",
   "id": "765b39e3-2665-4e7d-ab90-0db7da3d9d96",
   "metadata": {},
   "source": [
    "Another case where Bartiq can be useful is when the cost of a particular routine is given by a custom function.\n",
    "Let's say that we have an idea for defining cost of USP by using a recursive function `foo` as defined below."
   ]
  },
  {
   "cell_type": "code",
   "execution_count": null,
   "id": "5e6f5a6e-3b31-4bb0-ad9e-2cc45e2290ed",
   "metadata": {},
   "outputs": [],
   "source": [
    "def foo(n):\n",
    "    if n < 10:\n",
    "        return n\n",
    "    else:\n",
    "        return foo(n-3) "
   ]
  },
  {
   "cell_type": "code",
   "execution_count": null,
   "id": "1bc1821a-0b41-4c4c-9cbf-24d71e0f18ec",
   "metadata": {},
   "outputs": [],
   "source": [
    "import copy\n",
    "usp_3_qref = copy.copy(usp_2_qref)\n",
    "usp_3_qref.program.resources = [{\"name\": \"t\", \"type\": \"additive\", \"value\": \"2*foo(N)\"}]\n",
    "\n",
    "usp_3_bartiq = qref_to_bartiq(usp_3_qref)\n",
    "compiled_usp_3 = compile_routine(usp_3_bartiq)\n",
    "compiled_usp_3.resources"
   ]
  },
  {
   "cell_type": "code",
   "execution_count": null,
   "id": "4cf814e0-d3e5-43f0-9197-373b897233a0",
   "metadata": {},
   "outputs": [],
   "source": [
    "assignments = {\"N=101\"}\n",
    "functions_map = {\"foo\": foo}\n",
    "evaluate(compiled_usp_3, assignments, functions_map=functions_map).resources"
   ]
  },
  {
   "cell_type": "markdown",
   "id": "51f03933-923d-4386-8dbc-f329ae22e2d2",
   "metadata": {},
   "source": [
    "We see that in such case we can both use custom functions in the symbolic expressions for the costs, as well as evaluate them with specific numeric values."
   ]
  },
  {
   "cell_type": "markdown",
   "id": "c23692ca-2038-4db2-aeb2-4608940d1e31",
   "metadata": {},
   "source": [
    "## Closing remarks"
   ]
  },
  {
   "cell_type": "markdown",
   "id": "4bd2b13a-2127-4797-866e-a9fe26bb0f7e",
   "metadata": {},
   "source": [
    "Thank you for going through this notebook!\n",
    "QREF and Bartiq are still in beta, and there's so much more we could do to make the integration with Qualtran better.\n",
    "If you have specific usecase in mind or if you encounter any issues, please leave an issue in any of the involved projects and we'll love to help you make it work."
   ]
  }
 ],
 "metadata": {
  "kernelspec": {
   "display_name": "Python 3 (ipykernel)",
   "language": "python",
   "name": "python3"
  },
  "language_info": {
   "codemirror_mode": {
    "name": "ipython",
    "version": 3
   },
   "file_extension": ".py",
   "mimetype": "text/x-python",
   "name": "python",
   "nbconvert_exporter": "python",
   "pygments_lexer": "ipython3",
   "version": "3.10.10"
  }
 },
 "nbformat": 4,
 "nbformat_minor": 5
}
