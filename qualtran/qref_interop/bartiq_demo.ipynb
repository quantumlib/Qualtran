{
 "cells": [
  {
   "cell_type": "markdown",
   "id": "6f3d7cc7-39a1-443a-84fb-8810097b0637",
   "metadata": {},
   "source": [
    "# Qualtran + QREF & Bartiq"
   ]
  },
  {
   "cell_type": "markdown",
   "id": "9de43b9f-5b74-4d0a-92d8-b27e9c3f5e15",
   "metadata": {},
   "source": [
    "This notebook provides an example of converting Bloqs to [QREF](https://github.com/PsiQ/qref), then using QREF with [Bartiq](https://github.com/PsiQ/bartiq) for symbolic compilation.\n",
    "\n",
    "The following is not meant to be an introduction to these packages and it is expected that the reader has a basic understanding of the functionality of each package. For more information about an individual package, please consult the respective documentation."
   ]
  },
  {
   "cell_type": "markdown",
   "id": "0d62ccdd-3336-4971-9a68-d67dc0e060f8",
   "metadata": {},
   "source": [
    "## Basics\n",
    "\n",
    "**QREF** is a format for serializing quantum algorithms for the purpose of performing quantum resource estimations (QREs.)\n",
    "\n",
    "**Bartiq** is a library for obtaining symbolic expressions for QREs. \n",
    "\n",
    "In order to highlight the benefits of the integration between Qualtran and QREF and Bartiq, we will analyze Alias Sampling – a state preparation method described in [Encoding Electronic Spectra in Quantum Circuits with Linear T Complexity](https://arxiv.org/abs/1805.03662).\n",
    "\n",
    "Let's start with the basics: converting a Bloq to QREF, then compiling the costs using Bartiq."
   ]
  },
  {
   "cell_type": "markdown",
   "id": "ffb0d513",
   "metadata": {},
   "source": [
    "### Use the Qualtran Alias Sampling Implementation\n",
    "\n",
    "First, we will invoke the `StatePreparationAliasSampling` to generate a Bloq representing Alias Sampling method."
   ]
  },
  {
   "cell_type": "code",
   "execution_count": null,
   "id": "cfeb60ce-81af-494c-8e6c-9033642048f8",
   "metadata": {},
   "outputs": [],
   "source": [
    "from qualtran.bloqs.state_preparation import StatePreparationAliasSampling\n",
    "from qualtran.drawing.graphviz import PrettyGraphDrawer\n",
    "\n",
    "probs_list = list(range(24))\n",
    "bloq = StatePreparationAliasSampling.from_probabilities(probs_list).decompose_bloq()\n",
    "PrettyGraphDrawer(bloq).get_svg()"
   ]
  },
  {
   "cell_type": "markdown",
   "id": "716e917b",
   "metadata": {},
   "source": [
    "### Convert the Bloq to QREF\n",
    "\n",
    "Once you have a Bloq, converting it to QREF is easy with `bloq_to_qref`. We also print out the QREF object for easy comparison to the Bloq print out above."
   ]
  },
  {
   "cell_type": "code",
   "execution_count": null,
   "id": "f3726d8c-ce01-4b6a-b5b6-72654b58f09b",
   "metadata": {},
   "outputs": [],
   "source": [
    "from qualtran.qref_interop import bloq_to_qref\n",
    "from qref.experimental.rendering import to_graphviz\n",
    "\n",
    "# We can easily convert it to QREF representation with the following code:\n",
    "qref_definition = bloq_to_qref(bloq)\n",
    "to_graphviz(qref_definition)"
   ]
  },
  {
   "cell_type": "markdown",
   "id": "d801c78f",
   "metadata": {},
   "source": [
    "### Comparing Bloq and QREF Resources\n",
    "\n",
    "Besides comparing the print outs of the two different objects above, it is helpful to review the cost details of the Bloq and QREF definition. "
   ]
  },
  {
   "cell_type": "code",
   "execution_count": null,
   "id": "755d7031-617a-4908-9ee1-45a42c422fbd",
   "metadata": {},
   "outputs": [],
   "source": [
    "from pprint import pprint\n",
    "# We can check that the resources for both representations are the same:\n",
    "print(\"Qualtran Bloq T Complexity: \")\n",
    "pprint(bloq.t_complexity())\n",
    "print(\"\\nQREF Resources: \")\n",
    "pprint(qref_definition.program.resources)"
   ]
  },
  {
   "cell_type": "markdown",
   "id": "5133d33a-017a-488e-a8f9-2c37a058062d",
   "metadata": {},
   "source": [
    "The resources printed above are the \"top-level\" resources. However, the resources of the building blocks can also be accessed. For example, Uniform State Preparation (`PrepareUniformSuperposition`) can be accessed with the following code:"
   ]
  },
  {
   "cell_type": "code",
   "execution_count": null,
   "id": "bafd2405-3ac0-43ff-b9b4-7978ffd49cef",
   "metadata": {},
   "outputs": [],
   "source": [
    "USP_bloq = [bloq_inst.bloq for bloq_inst in bloq.bloq_instances if str(bloq_inst.bloq) == \"PrepareUniformSuperposition\"][0]\n",
    "print(\"Qualtran PrepareUniformSuperposition T Complexity: \")\n",
    "pprint(USP_bloq.t_complexity())\n",
    "print(\"\\n QREF PrepareUniformSuperposition_0 Resources: \")\n",
    "pprint(qref_definition.program.children.by_name[\"PrepareUniformSuperposition_0\"].resources)"
   ]
  },
  {
   "cell_type": "markdown",
   "id": "4953f807-5ce0-42c5-9bf4-6773c5f45e87",
   "metadata": {},
   "source": [
    "### Use Bartiq with QREF to Compile the Costs \n",
    "\n",
    "The `qref_definition` can now be passed to Bartiq. However, it would be trivial since all of the resources are included from the Bloq. Therefore, before passing it to Bartiq, we will remove the \"top-level\" resources in `qref_definition`. After clearing the resources, calling `compile_routine` will compile the costs from the building blocks or subroutines."
   ]
  },
  {
   "cell_type": "code",
   "execution_count": null,
   "id": "56beb66e-0989-4cf6-920b-bbc51cae559d",
   "metadata": {},
   "outputs": [],
   "source": [
    "from bartiq.integrations.qref import qref_to_bartiq\n",
    "from bartiq import compile_routine\n",
    "\n",
    "\n",
    "# Clear the resources from the top-level\n",
    "qref_definition.program.resources =  [] \n",
    "\n",
    "bartiq_routine = qref_to_bartiq(qref_definition)\n",
    "compiled_routine = compile_routine(bartiq_routine)\n",
    "\n",
    "print(\"Qualtran Bloq T Complexity: \")\n",
    "pprint(bloq.t_complexity())\n",
    "print(\"\\nQREF Resources:\")\n",
    "pprint(compiled_routine.resources)"
   ]
  },
  {
   "cell_type": "markdown",
   "id": "31b2ceb7",
   "metadata": {},
   "source": [
    "## Writing a Custom Uniform Superposition (USP) Implementation\n",
    "\n",
    "While the example above demonstrated the integration, the information derived by Bartiq was the same as the information from Qualtran. Therefore, let's try other scenarios highlighting use cases where Bartiq can provide unique information.\n"
   ]
  },
  {
   "cell_type": "markdown",
   "id": "91aa9d2b",
   "metadata": {},
   "source": [
    "### Numeric Implementation\n",
    "\n",
    "The example above is purely numeric. If symbolic expressions are used, we are able to produce resources and decompose the \"top-level\" bloq, `StatePreparationAliasSampling` (see snippet below). However, subsequent bloqs, like `PrepareUniformSuperposition`, cannot be further decomposed using `decompose_bloq()` This is most likely temporary and as Qualtran improves, this might cease being a problem.\n",
    "\n",
    "```\n",
    "import sympy\n",
    "N, M, eps = sympy.symbols(\"N M eps\")\n",
    "bloq = StatePreparationAliasSampling.from_n_coeff(n_coeff=N, sum_of_unnormalized_probabilites=M, precision=eps)\n",
    "pprint(bloq.t_complexity())\n",
    "```"
   ]
  },
  {
   "cell_type": "markdown",
   "id": "27483d83-d008-499c-9322-c2953f6db573",
   "metadata": {},
   "source": [
    "\n",
    "### Resources Tied to a Specific Implementation\n",
    "\n",
    "At the time of writing this, the source code of [PrepareUniformSuperposition](https://github.com/quantumlib/Qualtran/blob/c0a3a94d712f4eebb1cad119fc507a6cd9a7d8e7/qualtran/bloqs/state_preparation/prepare_uniform_superposition.py#L44), includes the following information in the docstring:\n",
    "\n",
    "> Performs a single round of amplitude amplification and prepares a uniform superposition over the first $n$ basis states $|0>, |1>, ..., |n - 1>$. The expected T-complexity should be $10 * log(L) + 2 * K$ T-gates and $2$ single qubit rotation gates, where $n = L * 2^K$.\n",
    ">\n",
    "> However, the current T-complexity is $12 * log(L)$ T-gates and $2 + 2 * (K + log(L))$ rotations\n",
    "because of two open issues:\n",
    "> \n",
    "> - https://github.com/quantumlib/Qualtran/issues/233 and\n",
    "> - https://github.com/quantumlib/Qualtran/issues/235\n",
    "\n",
    "\n",
    "Unfortunately, in Qualtran there are instances of being tied to a specific implementation of a resource, even if it is known to be incorrect.\n",
    "\n",
    "Below we will see how we can quickly create an alternative implementation of USP with QREF."
   ]
  },
  {
   "cell_type": "markdown",
   "id": "1dfcfc18",
   "metadata": {},
   "source": [
    "### Create the USP Implementation with Symbolic Expressions\n",
    "\n",
    "First, we will create the Qualtran USP Bloq and then convert it to a QREF definition. We will do this to confirm the incorrect T-Complexity expressions."
   ]
  },
  {
   "cell_type": "code",
   "execution_count": null,
   "id": "b6491b25-8364-4542-ba4e-3de3b990ad10",
   "metadata": {},
   "outputs": [],
   "source": [
    "from qualtran.bloqs.state_preparation import PrepareUniformSuperposition\n",
    "import sympy\n",
    "\n",
    "N = sympy.symbols(\"N\")\n",
    "USP_bloq = PrepareUniformSuperposition(N)\n",
    "\n",
    "# We see that contrary to the docstring, the number of rotations is already correct\n",
    "print(\"Qualtran USP Bloq T Complexity: \")\n",
    "pprint(USP_bloq.t_complexity())\n",
    "\n",
    "# Now we create a QREF definitions based on the PrepareUniformSuperposition bloq\n",
    "usp_1_qref = bloq_to_qref(USP_bloq) # this will be left unchanged\n",
    "print(\"\\nQREF USP Resources: \")\n",
    "pprint(usp_1_qref.program.resources)"
   ]
  },
  {
   "cell_type": "markdown",
   "id": "5951a8fe",
   "metadata": {},
   "source": [
    "We can see above that Bloq and QREF resources, for the USP have the same, incorrect symbolic expressions. From the docstring, we know that it should be $10 * log(L) + 2 * K$."
   ]
  },
  {
   "cell_type": "markdown",
   "id": "3a36c459",
   "metadata": {},
   "source": [
    "### Manually Create a New USP in QREF\n",
    "\n",
    "We will implement the new version of USP directly in QREF with the correct expressions for the number of T gates and rotations. To fill in the other USP information we used the details from `usp_1_qref.model_dump()`. "
   ]
  },
  {
   "cell_type": "code",
   "execution_count": null,
   "id": "97d88fce-c538-4282-a665-b2c721716d84",
   "metadata": {},
   "outputs": [],
   "source": [
    "# Note that we omit Clifford gates here, as the expression for them is not mentioned in the docstring.\n",
    "from qref import SchemaV1\n",
    "import math\n",
    "port_size = math.ceil(math.log2(len(probs_list)))\n",
    "\n",
    "usp_2_qref = SchemaV1(\n",
    "    program={\n",
    "        \"name\": \"PrepareUniformSuperposition\",\n",
    "        \"input_params\": [\"N\"],\n",
    "        \"ports\": [\n",
    "            {\"direction\": \"input\", \"name\": \"in_target\", \"size\": port_size},\n",
    "            {\"direction\": \"output\", \"name\": \"out_target\", \"size\": port_size},\n",
    "        ],\n",
    "        \"resources\": [\n",
    "            {\"name\": \"t\", \"type\": \"additive\", \"value\": \"10*ceiling(log2(L)) + 2*k\"},\n",
    "            {\"name\": \"rotations\", \"type\": \"additive\", \"value\": \"2\"},\n",
    "        ],\n",
    "        \"local_variables\": {\"k\": \"multiplicity(2, N)\", \"L\": \"N/2**k\"},\n",
    "    },\n",
    "    version=\"v1\",\n",
    ")"
   ]
  },
  {
   "cell_type": "markdown",
   "id": "83025aeb",
   "metadata": {},
   "source": [
    "Now that we have the QREF definition from both the Qualtran USP bloq and the manually created USP information, we can compare the symbolix expressions for the number of T gates."
   ]
  },
  {
   "cell_type": "code",
   "execution_count": null,
   "id": "814c2e11-d430-411e-b015-85e803528b3a",
   "metadata": {},
   "outputs": [],
   "source": [
    "usp_1_bartiq = qref_to_bartiq(usp_1_qref)\n",
    "print(\"Qualtran USP Bloq T Complexity - T Gates\")\n",
    "pprint(compile_routine(usp_1_bartiq).resources[\"t\"])\n",
    "\n",
    "usp_2_bartiq = qref_to_bartiq(usp_2_qref)\n",
    "print(\"\\nQREF USP Custom Implementation - T Gates\")\n",
    "pprint(compile_routine(usp_2_bartiq).resources[\"t\"])"
   ]
  },
  {
   "cell_type": "markdown",
   "id": "07d684ae-fa77-4d48-8850-4d394b2ec4e3",
   "metadata": {},
   "source": [
    "## Updating Alias Sampling\n",
    "\n",
    "Now that we have a corrected USP component as a QREF definition, it is important to update Alias Sampling with the new component."
   ]
  },
  {
   "cell_type": "code",
   "execution_count": null,
   "id": "b1a54903-29a3-4017-84cf-e87d51d53a4a",
   "metadata": {},
   "outputs": [],
   "source": [
    "# Create the Alias Sampling bloq\n",
    "bloq = StatePreparationAliasSampling.from_probabilities(probs_list).decompose_bloq()\n",
    "\n",
    "# We export our Alias Sampling bloq to QREF and remove top-level resources so we can re-compute them later.\n",
    "qref_as_1 = bloq_to_qref(bloq) # this will be left unchanged\n",
    "qref_as_2 = bloq_to_qref(bloq) # this will be updated\n",
    "qref_as_1.program.resources = []\n",
    "qref_as_2.program.resources = []\n",
    "\n",
    "print([child.name for child in qref_as_2.program.children])\n"
   ]
  },
  {
   "cell_type": "markdown",
   "id": "da9a9486",
   "metadata": {},
   "source": [
    "You will notice we printed out the names of the components of the Alias Sampling QREF defintion. This is important because before we put the subroutine in the right place, we need to make sure it is named correctly. If we failed to ensure the proper name, some of the connections will be invalid."
   ]
  },
  {
   "cell_type": "code",
   "execution_count": null,
   "id": "f2305c8f-7bf0-44a2-8c2f-d6afd63111ea",
   "metadata": {},
   "outputs": [],
   "source": [
    "usp_2_qref.program.name = \"PrepareUniformSuperposition_0\"\n",
    "qref_as_2.program.children.by_name[\"PrepareUniformSuperposition_0\"] = usp_2_qref.program\n",
    "\n",
    "\n",
    "bartiq_as_1 = qref_to_bartiq(qref_as_1)\n",
    "print(\"Unchanged Alias Sampling T Complexity - T Gates: \")\n",
    "pprint(compile_routine(bartiq_as_1).resources[\"t\"])\n",
    "\n",
    "bartiq_as_2 = qref_to_bartiq(qref_as_2)\n",
    "print(\"\\nUpdated Alias Sampling T Complexity - T Gates: \")\n",
    "pprint(compile_routine(bartiq_as_2).resources[\"t\"])\n"
   ]
  },
  {
   "cell_type": "markdown",
   "id": "44cc58e6-6155-4919-9156-556b5e42fdf4",
   "metadata": {},
   "source": [
    "The unchanged Alias Sampling results shows the same 307 T gates that we saw earlier in the notebook. However, for the updated Alias Sampling, we see a much different result. While the T-gates resource is printed, a warning is also seen. Since the \"top-level\" routine does not have knowledge of its child's parameter, the parameter `N` from the USP routine is namespaced resulting in `PrepareUniformSuperposition_0.N` in the expression. To address the warning, at a \"top-level\" we will need to include `N` as an input paramter and link that to `PrepareUniformSuperposition_0.N`."
   ]
  },
  {
   "cell_type": "code",
   "execution_count": null,
   "id": "275437ee-aab0-4f38-93dc-603ba1a4a5f2",
   "metadata": {},
   "outputs": [],
   "source": [
    "qref_as_2.program.input_params = [\"N\"]\n",
    "qref_as_2.program.linked_params = [{\"source\": \"N\", \"targets\": [\"PrepareUniformSuperposition_0.N\"]}]\n",
    "\n",
    "bartiq_as_2 = qref_to_bartiq(qref_as_2)\n",
    "compiled_as_2 = compile_routine(bartiq_as_2)\n",
    "compiled_as_2.resources[\"t\"]"
   ]
  },
  {
   "cell_type": "markdown",
   "id": "e864d60d-66cc-4bc7-92dc-708c2a77b614",
   "metadata": {},
   "source": [
    "With the `N` parameter correctly setup, we no longer see the warning and correctly compile and print the symbolic expression for the number of T gates. Now we can generate numerical values for the resources given a specific value of `N`. To do this, we can use Bartiq's `evaluate` method."
   ]
  },
  {
   "cell_type": "code",
   "execution_count": null,
   "id": "1ecc7d7a-22da-4072-bf96-1d6e26e01493",
   "metadata": {},
   "outputs": [],
   "source": [
    "from bartiq import evaluate\n",
    "N_value = len(probs_list)\n",
    "assignments = {f\"N={N_value}\"}\n",
    "evaluate(compiled_as_2, assignments).resources[\"t\"]"
   ]
  },
  {
   "cell_type": "markdown",
   "id": "0d866675-d219-4ff7-a5a8-d1c2419b7863",
   "metadata": {},
   "source": [
    "## Custom Cost Functions\n",
    "\n",
    "Another case highlighting the usefulness of Bartiq is when the cost of a particular routine is given by a custom function. For example, we can set the cost of USP using a recursive function, `foo`, as defined below."
   ]
  },
  {
   "cell_type": "code",
   "execution_count": null,
   "id": "5e6f5a6e-3b31-4bb0-ad9e-2cc45e2290ed",
   "metadata": {},
   "outputs": [],
   "source": [
    "def foo(n):\n",
    "    if n < 10:\n",
    "        return n\n",
    "    else:\n",
    "        return foo(n-3) "
   ]
  },
  {
   "cell_type": "code",
   "execution_count": null,
   "id": "1bc1821a-0b41-4c4c-9cbf-24d71e0f18ec",
   "metadata": {},
   "outputs": [],
   "source": [
    "import copy\n",
    "usp_3_qref = copy.copy(usp_2_qref)\n",
    "usp_3_qref.program.resources = [{\"name\": \"t\", \"type\": \"additive\", \"value\": \"2*foo(N)\"}]\n",
    "\n",
    "usp_3_bartiq = qref_to_bartiq(usp_3_qref)\n",
    "compiled_usp_3 = compile_routine(usp_3_bartiq)\n",
    "compiled_usp_3.resources"
   ]
  },
  {
   "cell_type": "markdown",
   "id": "243e6f30",
   "metadata": {},
   "source": [
    "The function, `foo`, is now included in the cost expression for the number of T gates. Similar to what we did previously, by providing a value for `N` and mapping the function `foo` in the expression to the defined function `foo`, we can call `evaluate` to generate numerical values."
   ]
  },
  {
   "cell_type": "code",
   "execution_count": null,
   "id": "4cf814e0-d3e5-43f0-9197-373b897233a0",
   "metadata": {},
   "outputs": [],
   "source": [
    "assignments = {\"N=101\"}\n",
    "functions_map = {\"foo\": foo}\n",
    "evaluate(compiled_usp_3, assignments, functions_map=functions_map).resources"
   ]
  },
  {
   "cell_type": "markdown",
   "id": "51f03933-923d-4386-8dbc-f329ae22e2d2",
   "metadata": {},
   "source": [
    "Again, this highlights the power of Bartiq by allowing us to both use custom functions in the symbolic expressions for the costs, as well as evaluate them with specific numeric values."
   ]
  },
  {
   "cell_type": "markdown",
   "id": "c23692ca-2038-4db2-aeb2-4608940d1e31",
   "metadata": {},
   "source": [
    "## Closing Remarks"
   ]
  },
  {
   "cell_type": "markdown",
   "id": "4bd2b13a-2127-4797-866e-a9fe26bb0f7e",
   "metadata": {},
   "source": [
    "Thank you for going through this notebook!\n",
    "QREF and Bartiq are still in beta, and there is so much more we could do to make the integration with Qualtran better.\n",
    "If you have a specific use case in mind, or if you encounter any problems, please leave an issue in any of the involved projects. We'd love to help you make it work!"
   ]
  }
 ],
 "metadata": {
  "kernelspec": {
   "display_name": "Python 3 (ipykernel)",
   "language": "python",
   "name": "python3"
  },
  "language_info": {
   "codemirror_mode": {
    "name": "ipython",
    "version": 3
   },
   "file_extension": ".py",
   "mimetype": "text/x-python",
   "name": "python",
   "nbconvert_exporter": "python",
   "pygments_lexer": "ipython3",
   "version": "3.11.9"
  }
 },
 "nbformat": 4,
 "nbformat_minor": 5
}
