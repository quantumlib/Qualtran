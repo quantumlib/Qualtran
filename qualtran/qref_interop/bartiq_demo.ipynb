{
 "cells": [
  {
   "cell_type": "markdown",
   "id": "6f3d7cc7-39a1-443a-84fb-8810097b0637",
   "metadata": {},
   "source": [
    "# Qualtran + QREF & Bartiq"
   ]
  },
  {
   "cell_type": "markdown",
   "id": "9de43b9f-5b74-4d0a-92d8-b27e9c3f5e15",
   "metadata": {},
   "source": [
    "This notebook provides an example of converting Bloqs to [QREF](https://github.com/PsiQ/qref), then using QREF with [Bartiq](https://github.com/PsiQ/bartiq) for symbolic compilation.\n",
    "\n",
    "The following is not meant to be an introduction to these packages and it is expected that the reader has a basic understanding of the functionality of each package. For more information about an individual package, please consult the respective documentation."
   ]
  },
  {
   "cell_type": "markdown",
   "id": "0d62ccdd-3336-4971-9a68-d67dc0e060f8",
   "metadata": {},
   "source": [
    "## Basics\n",
    "\n",
    "**QREF** is a format for serializing quantum algorithms for the purpose of performing quantum resource estimations (QREs.)\n",
    "\n",
    "**Bartiq** is a library for obtaining symbolic expressions for QREs. \n",
    "\n",
    "In order to highlight the benefits of the integration between Qualtran and QREF and Bartiq, we will analyze Alias Sampling – a state preparation method described in [Encoding Electronic Spectra in Quantum Circuits with Linear T Complexity](https://arxiv.org/abs/1805.03662).\n",
    "\n",
    "Let's start with the basics: converting a Bloq to QREF, then compiling the costs using Bartiq."
   ]
  },
  {
   "cell_type": "markdown",
   "id": "ffb0d513",
   "metadata": {},
   "source": [
    "### Use the Qualtran Alias Sampling Implementation\n",
    "\n",
    "First, we will invoke the `StatePreparationAliasSampling` to generate a Bloq representing Alias Sampling method."
   ]
  },
  {
   "cell_type": "code",
   "execution_count": 22,
   "id": "cfeb60ce-81af-494c-8e6c-9033642048f8",
   "metadata": {},
   "outputs": [
    {
     "data": {
      "image/svg+xml": [
       "<svg xmlns=\"http://www.w3.org/2000/svg\" xmlns:xlink=\"http://www.w3.org/1999/xlink\" width=\"715pt\" height=\"265pt\" viewBox=\"0.00 0.00 714.50 265.00\">\n",
       "<g id=\"graph0\" class=\"graph\" transform=\"scale(1 1) rotate(0) translate(4 261)\">\n",
       "<title>my_graph</title>\n",
       "<polygon fill=\"white\" stroke=\"none\" points=\"-4,4 -4,-261 710.5,-261 710.5,4 -4,4\"/>\n",
       "<!-- selection_G9 -->\n",
       "<g id=\"node1\" class=\"node\">\n",
       "<title>selection_G9</title>\n",
       "<text text-anchor=\"middle\" x=\"51.12\" y=\"-122.95\" font-family=\"Times,serif\" font-size=\"14.00\">selection</text>\n",
       "</g>\n",
       "<!-- PrepareUniformSuperposition -->\n",
       "<g id=\"node8\" class=\"node\">\n",
       "<title>PrepareUniformSuperposition</title>\n",
       "<polygon fill=\"none\" stroke=\"black\" points=\"139.25,-139.5 139.25,-156.5 266.25,-156.5 266.25,-139.5 139.25,-139.5\"/>\n",
       "<text text-anchor=\"start\" x=\"142\" y=\"-144\" font-family=\"Times,serif\" font-size=\"10.00\">PrepareUniformSuperposition</text>\n",
       "<polygon fill=\"none\" stroke=\"black\" points=\"139.25,-117.5 139.25,-139.5 266.25,-139.5 266.25,-117.5 139.25,-117.5\"/>\n",
       "<text text-anchor=\"start\" x=\"187.38\" y=\"-123.2\" font-family=\"Times,serif\" font-size=\"14.00\">target</text>\n",
       "</g>\n",
       "<!-- selection_G9&#45;&gt;PrepareUniformSuperposition -->\n",
       "<g id=\"edge1\" class=\"edge\">\n",
       "<title>selection_G9:e-&gt;PrepareUniformSuperposition:w</title>\n",
       "<path fill=\"none\" stroke=\"black\" d=\"M84.12,-128C107.67,-128 114.24,-128 136.46,-128\"/>\n",
       "<ellipse fill=\"black\" stroke=\"black\" cx=\"137.75\" cy=\"-128\" rx=\"1\" ry=\"1\"/>\n",
       "<text text-anchor=\"middle\" x=\"120.75\" y=\"-129.75\" font-family=\"Times,serif\" font-size=\"10.00\">5</text>\n",
       "</g>\n",
       "<!-- sigma_mu_G19 -->\n",
       "<g id=\"node2\" class=\"node\">\n",
       "<title>sigma_mu_G19</title>\n",
       "<text text-anchor=\"middle\" x=\"51.12\" y=\"-179.95\" font-family=\"Times,serif\" font-size=\"14.00\">sigma_mu</text>\n",
       "</g>\n",
       "<!-- OnEach -->\n",
       "<g id=\"node7\" class=\"node\">\n",
       "<title>OnEach</title>\n",
       "<polygon fill=\"none\" stroke=\"black\" points=\"284.25,-196 284.25,-214 317.25,-214 317.25,-196 284.25,-196\"/>\n",
       "<text text-anchor=\"start\" x=\"287.25\" y=\"-201.5\" font-family=\"Times,serif\" font-size=\"10.00\">H⨂21</text>\n",
       "<polygon fill=\"none\" stroke=\"black\" points=\"284.25,-174 284.25,-196 317.25,-196 317.25,-174 284.25,-174\"/>\n",
       "<text text-anchor=\"start\" x=\"297.38\" y=\"-179.7\" font-family=\"Times,serif\" font-size=\"14.00\">q</text>\n",
       "</g>\n",
       "<!-- sigma_mu_G19&#45;&gt;OnEach -->\n",
       "<g id=\"edge2\" class=\"edge\">\n",
       "<title>sigma_mu_G19:e-&gt;OnEach:w</title>\n",
       "<path fill=\"none\" stroke=\"black\" d=\"M89.12,-185C174.92,-185 197.05,-185 281.48,-185\"/>\n",
       "<ellipse fill=\"black\" stroke=\"black\" cx=\"282.75\" cy=\"-185\" rx=\"1\" ry=\"1\"/>\n",
       "<text text-anchor=\"middle\" x=\"120.75\" y=\"-186.75\" font-family=\"Times,serif\" font-size=\"10.00\">21</text>\n",
       "</g>\n",
       "<!-- alt_G17 -->\n",
       "<g id=\"node3\" class=\"node\">\n",
       "<title>alt_G17</title>\n",
       "<text text-anchor=\"middle\" x=\"51.12\" y=\"-12.95\" font-family=\"Times,serif\" font-size=\"14.00\">alt</text>\n",
       "</g>\n",
       "<!-- QROM -->\n",
       "<g id=\"node10\" class=\"node\">\n",
       "<title>QROM</title>\n",
       "<polygon fill=\"none\" stroke=\"black\" points=\"335.25,-130.5 335.25,-147.5 389.25,-147.5 389.25,-130.5 335.25,-130.5\"/>\n",
       "<text text-anchor=\"start\" x=\"346.88\" y=\"-135\" font-family=\"Times,serif\" font-size=\"10.00\">QROM</text>\n",
       "<polygon fill=\"none\" stroke=\"black\" points=\"335.25,-108.5 335.25,-130.5 389.25,-130.5 389.25,-108.5 335.25,-108.5\"/>\n",
       "<text text-anchor=\"start\" x=\"338.25\" y=\"-114.2\" font-family=\"Times,serif\" font-size=\"14.00\">selection</text>\n",
       "<polygon fill=\"none\" stroke=\"black\" points=\"335.25,-86.5 335.25,-108.5 389.25,-108.5 389.25,-86.5 335.25,-86.5\"/>\n",
       "<text text-anchor=\"start\" x=\"340.12\" y=\"-92.2\" font-family=\"Times,serif\" font-size=\"14.00\">target0_</text>\n",
       "<polygon fill=\"none\" stroke=\"black\" points=\"335.25,-64.5 335.25,-86.5 389.25,-86.5 389.25,-64.5 335.25,-64.5\"/>\n",
       "<text text-anchor=\"start\" x=\"340.12\" y=\"-70.2\" font-family=\"Times,serif\" font-size=\"14.00\">target1_</text>\n",
       "</g>\n",
       "<!-- alt_G17&#45;&gt;QROM -->\n",
       "<g id=\"edge4\" class=\"edge\">\n",
       "<title>alt_G17:e-&gt;QROM:w</title>\n",
       "<path fill=\"none\" stroke=\"black\" d=\"M79.12,-18C165.1,-18 185.01,-38.89 266.25,-67 296.99,-77.64 301.57,-95.96 332.57,-96.96\"/>\n",
       "<ellipse fill=\"black\" stroke=\"black\" cx=\"333.75\" cy=\"-96.98\" rx=\"1\" ry=\"1\"/>\n",
       "<text text-anchor=\"middle\" x=\"202.75\" y=\"-68.75\" font-family=\"Times,serif\" font-size=\"10.00\">5</text>\n",
       "</g>\n",
       "<!-- keep_G11 -->\n",
       "<g id=\"node4\" class=\"node\">\n",
       "<title>keep_G11</title>\n",
       "<text text-anchor=\"middle\" x=\"51.12\" y=\"-66.95\" font-family=\"Times,serif\" font-size=\"14.00\">keep</text>\n",
       "</g>\n",
       "<!-- keep_G11&#45;&gt;QROM -->\n",
       "<g id=\"edge5\" class=\"edge\">\n",
       "<title>keep_G11:e-&gt;QROM:w</title>\n",
       "<path fill=\"none\" stroke=\"black\" d=\"M79.12,-72C191.97,-72 220.9,-74.95 332.27,-75\"/>\n",
       "<ellipse fill=\"black\" stroke=\"black\" cx=\"333.75\" cy=\"-75\" rx=\"1\" ry=\"1\"/>\n",
       "<text text-anchor=\"middle\" x=\"202.75\" y=\"-75.75\" font-family=\"Times,serif\" font-size=\"10.00\">21</text>\n",
       "</g>\n",
       "<!-- less_than_equal_G10 -->\n",
       "<g id=\"node5\" class=\"node\">\n",
       "<title>less_than_equal_G10</title>\n",
       "<text text-anchor=\"middle\" x=\"51.12\" y=\"-233.95\" font-family=\"Times,serif\" font-size=\"14.00\">less_than_equal</text>\n",
       "</g>\n",
       "<!-- LessThanEqual -->\n",
       "<g id=\"node9\" class=\"node\">\n",
       "<title>LessThanEqual</title>\n",
       "<polygon fill=\"none\" stroke=\"black\" points=\"426.25,-215.5 426.25,-232.5 495.25,-232.5 495.25,-215.5 426.25,-215.5\"/>\n",
       "<text text-anchor=\"start\" x=\"429.25\" y=\"-220\" font-family=\"Times,serif\" font-size=\"10.00\">LessThanEqual</text>\n",
       "<polygon fill=\"none\" stroke=\"black\" points=\"426.25,-193.5 426.25,-215.5 495.25,-215.5 495.25,-193.5 426.25,-193.5\"/>\n",
       "<text text-anchor=\"start\" x=\"457.38\" y=\"-199.2\" font-family=\"Times,serif\" font-size=\"14.00\">x</text>\n",
       "<polygon fill=\"none\" stroke=\"black\" points=\"426.25,-171.5 426.25,-193.5 495.25,-193.5 495.25,-171.5 426.25,-171.5\"/>\n",
       "<text text-anchor=\"start\" x=\"457.38\" y=\"-177.2\" font-family=\"Times,serif\" font-size=\"14.00\">y</text>\n",
       "<polygon fill=\"none\" stroke=\"black\" points=\"426.25,-149.5 426.25,-171.5 495.25,-171.5 495.25,-149.5 426.25,-149.5\"/>\n",
       "<text text-anchor=\"start\" x=\"445.38\" y=\"-155.2\" font-family=\"Times,serif\" font-size=\"14.00\">target</text>\n",
       "</g>\n",
       "<!-- less_than_equal_G10&#45;&gt;LessThanEqual -->\n",
       "<g id=\"edge8\" class=\"edge\">\n",
       "<title>less_than_equal_G10:e-&gt;LessThanEqual:w</title>\n",
       "<path fill=\"none\" stroke=\"black\" d=\"M102.25,-239C198.35,-239 223.74,-238.16 317.25,-216 350.51,-208.12 359.71,-206.18 389.25,-189 406.46,-178.99 405.5,-161.72 423.46,-160.12\"/>\n",
       "<ellipse fill=\"black\" stroke=\"black\" cx=\"424.75\" cy=\"-160.06\" rx=\"1\" ry=\"1\"/>\n",
       "<text text-anchor=\"middle\" x=\"300.75\" y=\"-224.75\" font-family=\"Times,serif\" font-size=\"10.00\">1</text>\n",
       "</g>\n",
       "<!-- CSwap -->\n",
       "<g id=\"node6\" class=\"node\">\n",
       "<title>CSwap</title>\n",
       "<polygon fill=\"none\" stroke=\"black\" points=\"532.25,-125.5 532.25,-142.5 567.25,-142.5 567.25,-125.5 532.25,-125.5\"/>\n",
       "<text text-anchor=\"start\" x=\"535.12\" y=\"-130\" font-family=\"Times,serif\" font-size=\"10.00\">CSwap</text>\n",
       "<polygon fill=\"none\" stroke=\"black\" points=\"532.25,-103.5 532.25,-125.5 567.25,-125.5 567.25,-103.5 532.25,-103.5\"/>\n",
       "<text text-anchor=\"start\" x=\"540.75\" y=\"-109.2\" font-family=\"Times,serif\" font-size=\"14.00\">ctrl</text>\n",
       "<polygon fill=\"none\" stroke=\"black\" points=\"532.25,-81.5 532.25,-103.5 567.25,-103.5 567.25,-81.5 532.25,-81.5\"/>\n",
       "<text text-anchor=\"start\" x=\"546.38\" y=\"-87.2\" font-family=\"Times,serif\" font-size=\"14.00\">x</text>\n",
       "<polygon fill=\"none\" stroke=\"black\" points=\"532.25,-59.5 532.25,-81.5 567.25,-81.5 567.25,-59.5 532.25,-59.5\"/>\n",
       "<text text-anchor=\"start\" x=\"546.38\" y=\"-65.2\" font-family=\"Times,serif\" font-size=\"14.00\">y</text>\n",
       "</g>\n",
       "<!-- selection_G13 -->\n",
       "<g id=\"node11\" class=\"node\">\n",
       "<title>selection_G13</title>\n",
       "<text text-anchor=\"middle\" x=\"655.38\" y=\"-14.95\" font-family=\"Times,serif\" font-size=\"14.00\">selection</text>\n",
       "</g>\n",
       "<!-- CSwap&#45;&gt;selection_G13 -->\n",
       "<g id=\"edge12\" class=\"edge\">\n",
       "<title>CSwap:e-&gt;selection_G13:w</title>\n",
       "<path fill=\"none\" stroke=\"black\" d=\"M567.25,-70C599.29,-70 589.94,-23.08 619.4,-20.14\"/>\n",
       "<ellipse fill=\"black\" stroke=\"black\" cx=\"620.88\" cy=\"-20.07\" rx=\"1\" ry=\"1\"/>\n",
       "<text text-anchor=\"middle\" x=\"585.75\" y=\"-63.75\" font-family=\"Times,serif\" font-size=\"10.00\">5</text>\n",
       "</g>\n",
       "<!-- alt -->\n",
       "<g id=\"node13\" class=\"node\">\n",
       "<title>alt</title>\n",
       "<text text-anchor=\"middle\" x=\"655.38\" y=\"-68.95\" font-family=\"Times,serif\" font-size=\"14.00\">alt</text>\n",
       "</g>\n",
       "<!-- CSwap&#45;&gt;alt -->\n",
       "<g id=\"edge14\" class=\"edge\">\n",
       "<title>CSwap:e-&gt;alt:w</title>\n",
       "<path fill=\"none\" stroke=\"black\" d=\"M567.25,-92C594.16,-92 599.15,-75.24 624.52,-74.07\"/>\n",
       "<ellipse fill=\"black\" stroke=\"black\" cx=\"625.88\" cy=\"-74.03\" rx=\"1\" ry=\"1\"/>\n",
       "<text text-anchor=\"middle\" x=\"585.75\" y=\"-89.75\" font-family=\"Times,serif\" font-size=\"10.00\">5</text>\n",
       "</g>\n",
       "<!-- less_than_equal -->\n",
       "<g id=\"node15\" class=\"node\">\n",
       "<title>less_than_equal</title>\n",
       "<text text-anchor=\"middle\" x=\"655.38\" y=\"-122.95\" font-family=\"Times,serif\" font-size=\"14.00\">less_than_equal</text>\n",
       "</g>\n",
       "<!-- CSwap&#45;&gt;less_than_equal -->\n",
       "<g id=\"edge16\" class=\"edge\">\n",
       "<title>CSwap:e-&gt;less_than_equal:w</title>\n",
       "<path fill=\"none\" stroke=\"black\" d=\"M567.25,-115C583.73,-115 586.54,-126.62 601.52,-127.89\"/>\n",
       "<ellipse fill=\"black\" stroke=\"black\" cx=\"602.75\" cy=\"-127.94\" rx=\"1\" ry=\"1\"/>\n",
       "<text text-anchor=\"middle\" x=\"585.75\" y=\"-122.75\" font-family=\"Times,serif\" font-size=\"10.00\">1</text>\n",
       "</g>\n",
       "<!-- OnEach&#45;&gt;LessThanEqual -->\n",
       "<g id=\"edge7\" class=\"edge\">\n",
       "<title>OnEach:e-&gt;LessThanEqual:w</title>\n",
       "<path fill=\"none\" stroke=\"black\" d=\"M317.25,-185C364.77,-185 377.3,-182.12 423.45,-182\"/>\n",
       "<ellipse fill=\"black\" stroke=\"black\" cx=\"424.75\" cy=\"-182\" rx=\"1\" ry=\"1\"/>\n",
       "<text text-anchor=\"middle\" x=\"362.25\" y=\"-185.75\" font-family=\"Times,serif\" font-size=\"10.00\">21</text>\n",
       "</g>\n",
       "<!-- PrepareUniformSuperposition&#45;&gt;QROM -->\n",
       "<g id=\"edge3\" class=\"edge\">\n",
       "<title>PrepareUniformSuperposition:e-&gt;QROM:w</title>\n",
       "<path fill=\"none\" stroke=\"black\" d=\"M266.25,-128C296.16,-128 303.9,-120.49 332.42,-120.02\"/>\n",
       "<ellipse fill=\"black\" stroke=\"black\" cx=\"333.75\" cy=\"-120.01\" rx=\"1\" ry=\"1\"/>\n",
       "<text text-anchor=\"middle\" x=\"300.75\" y=\"-127.75\" font-family=\"Times,serif\" font-size=\"10.00\">5</text>\n",
       "</g>\n",
       "<!-- LessThanEqual&#45;&gt;CSwap -->\n",
       "<g id=\"edge9\" class=\"edge\">\n",
       "<title>LessThanEqual:e-&gt;CSwap:w</title>\n",
       "<path fill=\"none\" stroke=\"black\" d=\"M495.25,-160C520.13,-160 507.45,-118.45 529.4,-115.2\"/>\n",
       "<ellipse fill=\"black\" stroke=\"black\" cx=\"530.75\" cy=\"-115.11\" rx=\"1\" ry=\"1\"/>\n",
       "<text text-anchor=\"middle\" x=\"513.75\" y=\"-139.75\" font-family=\"Times,serif\" font-size=\"10.00\">1</text>\n",
       "</g>\n",
       "<!-- sigma_mu -->\n",
       "<g id=\"node12\" class=\"node\">\n",
       "<title>sigma_mu</title>\n",
       "<text text-anchor=\"middle\" x=\"655.38\" y=\"-176.95\" font-family=\"Times,serif\" font-size=\"14.00\">sigma_mu</text>\n",
       "</g>\n",
       "<!-- LessThanEqual&#45;&gt;sigma_mu -->\n",
       "<g id=\"edge13\" class=\"edge\">\n",
       "<title>LessThanEqual:e-&gt;sigma_mu:w</title>\n",
       "<path fill=\"none\" stroke=\"black\" d=\"M495.25,-182C548.57,-182 562.61,-182 614.55,-182\"/>\n",
       "<ellipse fill=\"black\" stroke=\"black\" cx=\"615.88\" cy=\"-182\" rx=\"1\" ry=\"1\"/>\n",
       "<text text-anchor=\"middle\" x=\"549.75\" y=\"-183.75\" font-family=\"Times,serif\" font-size=\"10.00\">21</text>\n",
       "</g>\n",
       "<!-- keep -->\n",
       "<g id=\"node14\" class=\"node\">\n",
       "<title>keep</title>\n",
       "<text text-anchor=\"middle\" x=\"655.38\" y=\"-230.95\" font-family=\"Times,serif\" font-size=\"14.00\">keep</text>\n",
       "</g>\n",
       "<!-- LessThanEqual&#45;&gt;keep -->\n",
       "<g id=\"edge15\" class=\"edge\">\n",
       "<title>LessThanEqual:e-&gt;keep:w</title>\n",
       "<path fill=\"none\" stroke=\"black\" d=\"M495.25,-205C554.62,-205 566.69,-235.04 624.58,-235.98\"/>\n",
       "<ellipse fill=\"black\" stroke=\"black\" cx=\"625.88\" cy=\"-235.99\" rx=\"1\" ry=\"1\"/>\n",
       "<text text-anchor=\"middle\" x=\"549.75\" y=\"-223.75\" font-family=\"Times,serif\" font-size=\"10.00\">21</text>\n",
       "</g>\n",
       "<!-- QROM&#45;&gt;CSwap -->\n",
       "<g id=\"edge10\" class=\"edge\">\n",
       "<title>QROM:e-&gt;CSwap:w</title>\n",
       "<path fill=\"none\" stroke=\"black\" d=\"M389.25,-97C451.85,-97 468.15,-92.16 529.3,-92\"/>\n",
       "<ellipse fill=\"black\" stroke=\"black\" cx=\"530.75\" cy=\"-92\" rx=\"1\" ry=\"1\"/>\n",
       "<text text-anchor=\"middle\" x=\"460.75\" y=\"-97.75\" font-family=\"Times,serif\" font-size=\"10.00\">5</text>\n",
       "</g>\n",
       "<!-- QROM&#45;&gt;CSwap -->\n",
       "<g id=\"edge11\" class=\"edge\">\n",
       "<title>QROM:e-&gt;CSwap:w</title>\n",
       "<path fill=\"none\" stroke=\"black\" d=\"M389.25,-120C437.11,-120 451.89,-121.27 495.25,-101 513.77,-92.34 511.11,-72.03 529.4,-70.14\"/>\n",
       "<ellipse fill=\"black\" stroke=\"black\" cx=\"530.75\" cy=\"-70.07\" rx=\"1\" ry=\"1\"/>\n",
       "<text text-anchor=\"middle\" x=\"460.75\" y=\"-120.75\" font-family=\"Times,serif\" font-size=\"10.00\">5</text>\n",
       "</g>\n",
       "<!-- QROM&#45;&gt;LessThanEqual -->\n",
       "<g id=\"edge6\" class=\"edge\">\n",
       "<title>QROM:e-&gt;LessThanEqual:w</title>\n",
       "<path fill=\"none\" stroke=\"black\" d=\"M389.25,-75C419.23,-75 399.04,-111.17 407.25,-140 415.2,-167.93 397.48,-202.47 423.26,-204.87\"/>\n",
       "<ellipse fill=\"black\" stroke=\"black\" cx=\"424.75\" cy=\"-204.93\" rx=\"1\" ry=\"1\"/>\n",
       "<text text-anchor=\"middle\" x=\"407.75\" y=\"-144.75\" font-family=\"Times,serif\" font-size=\"10.00\">21</text>\n",
       "</g>\n",
       "</g>\n",
       "</svg>"
      ],
      "text/plain": [
       "<IPython.core.display.SVG object>"
      ]
     },
     "execution_count": 22,
     "metadata": {},
     "output_type": "execute_result"
    }
   ],
   "source": [
    "from qualtran.bloqs.state_preparation import StatePreparationAliasSampling\n",
    "from qualtran.drawing.graphviz import PrettyGraphDrawer\n",
    "\n",
    "probs_list = list(range(24))\n",
    "bloq = StatePreparationAliasSampling.from_probabilities(probs_list).decompose_bloq()\n",
    "PrettyGraphDrawer(bloq).get_svg()"
   ]
  },
  {
   "cell_type": "markdown",
   "id": "716e917b",
   "metadata": {},
   "source": [
    "### Convert the Bloq to QREF\n",
    "\n",
    "Once you have a Bloq, converting it to QREF is easy with `bloq_to_qref`. We also print out the QREF object for easy comparison to the Bloq print out above."
   ]
  },
  {
   "cell_type": "code",
   "execution_count": 23,
   "id": "f3726d8c-ce01-4b6a-b5b6-72654b58f09b",
   "metadata": {},
   "outputs": [
    {
     "data": {
      "image/svg+xml": [
       "<?xml version=\"1.0\" encoding=\"UTF-8\" standalone=\"no\"?>\n",
       "<!DOCTYPE svg PUBLIC \"-//W3C//DTD SVG 1.1//EN\"\n",
       " \"http://www.w3.org/Graphics/SVG/1.1/DTD/svg11.dtd\">\n",
       "<!-- Generated by graphviz version 10.0.1 (20240210.2158)\n",
       " -->\n",
       "<!-- Pages: 1 -->\n",
       "<svg width=\"1342pt\" height=\"547pt\"\n",
       " viewBox=\"0.00 0.00 1341.74 547.00\" xmlns=\"http://www.w3.org/2000/svg\" xmlns:xlink=\"http://www.w3.org/1999/xlink\">\n",
       "<g id=\"graph0\" class=\"graph\" transform=\"scale(1 1) rotate(0) translate(4 543)\">\n",
       "<polygon fill=\"white\" stroke=\"none\" points=\"-4,4 -4,-543 1337.74,-543 1337.74,4 -4,4\"/>\n",
       "<g id=\"clust1\" class=\"cluster\">\n",
       "<title>cluster_.CompositeBloq</title>\n",
       "<path fill=\"none\" stroke=\"black\" d=\"M20,-8C20,-8 1313.74,-8 1313.74,-8 1319.74,-8 1325.74,-14 1325.74,-20 1325.74,-20 1325.74,-519 1325.74,-519 1325.74,-525 1319.74,-531 1313.74,-531 1313.74,-531 20,-531 20,-531 14,-531 8,-525 8,-519 8,-519 8,-20 8,-20 8,-14 14,-8 20,-8\"/>\n",
       "<text text-anchor=\"middle\" x=\"666.87\" y=\"-513.7\" font-family=\"Helvetica,sans-Serif\" font-size=\"14.00\">CompositeBloq</text>\n",
       "</g>\n",
       "<!-- &quot;.CompositeBloq.in_alt&quot; -->\n",
       "<g id=\"node1\" class=\"node\">\n",
       "<title>&quot;.CompositeBloq.in_alt&quot;</title>\n",
       "<ellipse fill=\"none\" stroke=\"#ffa44a\" stroke-width=\"2\" cx=\"72.51\" cy=\"-145\" rx=\"23.67\" ry=\"23.67\"/>\n",
       "<text text-anchor=\"middle\" x=\"72.51\" y=\"-141.12\" font-family=\"Times,serif\" font-size=\"10.00\">in_alt</text>\n",
       "</g>\n",
       "<!-- &quot;.CompositeBloq.QROM_2&quot; -->\n",
       "<g id=\"node15\" class=\"node\">\n",
       "<title>&quot;.CompositeBloq.QROM_2&quot;</title>\n",
       "<path fill=\"none\" stroke=\"#0288f5\" stroke-width=\"2\" d=\"M503.26,-121.62C503.26,-121.62 694.51,-121.62 694.51,-121.62 700.51,-121.62 706.51,-127.62 706.51,-133.62 706.51,-133.62 706.51,-176.38 706.51,-176.38 706.51,-182.38 700.51,-188.38 694.51,-188.38 694.51,-188.38 503.26,-188.38 503.26,-188.38 497.26,-188.38 491.26,-182.38 491.26,-176.38 491.26,-176.38 491.26,-133.62 491.26,-133.62 491.26,-127.62 497.26,-121.62 503.26,-121.62\"/>\n",
       "<text text-anchor=\"middle\" x=\"527.39\" y=\"-172.97\" font-family=\"Times,serif\" font-size=\"12.00\">in_selection</text>\n",
       "<polyline fill=\"none\" stroke=\"#0288f5\" stroke-width=\"2\" points=\"491.26,-166.12 563.51,-166.12\"/>\n",
       "<text text-anchor=\"middle\" x=\"527.39\" y=\"-150.72\" font-family=\"Times,serif\" font-size=\"12.00\">in_target0_</text>\n",
       "<polyline fill=\"none\" stroke=\"#0288f5\" stroke-width=\"2\" points=\"491.26,-143.88 563.51,-143.88\"/>\n",
       "<text text-anchor=\"middle\" x=\"527.39\" y=\"-128.47\" font-family=\"Times,serif\" font-size=\"12.00\">in_target1_</text>\n",
       "<polyline fill=\"none\" stroke=\"#0288f5\" stroke-width=\"2\" points=\"563.51,-121.62 563.51,-188.38\"/>\n",
       "<text text-anchor=\"middle\" x=\"595.89\" y=\"-150.72\" font-family=\"Times,serif\" font-size=\"12.00\">QROM_2</text>\n",
       "<polyline fill=\"none\" stroke=\"#0288f5\" stroke-width=\"2\" points=\"628.26,-121.62 628.26,-188.38\"/>\n",
       "<text text-anchor=\"middle\" x=\"667.39\" y=\"-172.97\" font-family=\"Times,serif\" font-size=\"12.00\">out_selection</text>\n",
       "<polyline fill=\"none\" stroke=\"#0288f5\" stroke-width=\"2\" points=\"628.26,-166.12 706.51,-166.12\"/>\n",
       "<text text-anchor=\"middle\" x=\"667.39\" y=\"-150.72\" font-family=\"Times,serif\" font-size=\"12.00\">out_target0_</text>\n",
       "<polyline fill=\"none\" stroke=\"#0288f5\" stroke-width=\"2\" points=\"628.26,-143.88 706.51,-143.88\"/>\n",
       "<text text-anchor=\"middle\" x=\"667.39\" y=\"-128.47\" font-family=\"Times,serif\" font-size=\"12.00\">out_target1_</text>\n",
       "</g>\n",
       "<!-- &quot;.CompositeBloq.in_alt&quot;&#45;&gt;&quot;.CompositeBloq.QROM_2&quot; -->\n",
       "<g id=\"edge12\" class=\"edge\">\n",
       "<title>&quot;.CompositeBloq.in_alt&quot;&#45;&gt;&quot;.CompositeBloq.QROM_2&quot;:in_target0_</title>\n",
       "<path fill=\"none\" stroke=\"black\" d=\"M96.6,-145.94C158.22,-148.37 331.96,-154.68 480.19,-154.99\"/>\n",
       "<polygon fill=\"black\" stroke=\"black\" points=\"479.75,-158.49 489.75,-155 479.75,-151.49 479.75,-158.49\"/>\n",
       "</g>\n",
       "<!-- &quot;.CompositeBloq.in_keep&quot; -->\n",
       "<g id=\"node2\" class=\"node\">\n",
       "<title>&quot;.CompositeBloq.in_keep&quot;</title>\n",
       "<ellipse fill=\"none\" stroke=\"#ffa44a\" stroke-width=\"2\" cx=\"72.51\" cy=\"-74\" rx=\"28.99\" ry=\"28.99\"/>\n",
       "<text text-anchor=\"middle\" x=\"72.51\" y=\"-70.12\" font-family=\"Times,serif\" font-size=\"10.00\">in_keep</text>\n",
       "</g>\n",
       "<!-- &quot;.CompositeBloq.in_keep&quot;&#45;&gt;&quot;.CompositeBloq.QROM_2&quot; -->\n",
       "<g id=\"edge13\" class=\"edge\">\n",
       "<title>&quot;.CompositeBloq.in_keep&quot;&#45;&gt;&quot;.CompositeBloq.QROM_2&quot;:in_target1_</title>\n",
       "<path fill=\"none\" stroke=\"black\" d=\"M101.18,-80.65C166.18,-95.69 334.12,-131.14 479.92,-132.93\"/>\n",
       "<polygon fill=\"black\" stroke=\"black\" points=\"479.73,-136.43 489.75,-132.99 479.77,-129.43 479.73,-136.43\"/>\n",
       "</g>\n",
       "<!-- &quot;.CompositeBloq.in_less_than_equal&quot; -->\n",
       "<g id=\"node3\" class=\"node\">\n",
       "<title>&quot;.CompositeBloq.in_less_than_equal&quot;</title>\n",
       "<ellipse fill=\"none\" stroke=\"#ffa44a\" stroke-width=\"2\" cx=\"72.51\" cy=\"-443\" rx=\"56.51\" ry=\"56.51\"/>\n",
       "<text text-anchor=\"middle\" x=\"72.51\" y=\"-439.12\" font-family=\"Times,serif\" font-size=\"10.00\">in_less_than_equal</text>\n",
       "</g>\n",
       "<!-- &quot;.CompositeBloq.LessThanEqual_3&quot; -->\n",
       "<g id=\"node12\" class=\"node\">\n",
       "<title>&quot;.CompositeBloq.LessThanEqual_3&quot;</title>\n",
       "<path fill=\"none\" stroke=\"#0288f5\" stroke-width=\"2\" d=\"M754.51,-345.62C754.51,-345.62 953.26,-345.62 953.26,-345.62 959.26,-345.62 965.26,-351.62 965.26,-357.62 965.26,-357.62 965.26,-400.38 965.26,-400.38 965.26,-406.38 959.26,-412.38 953.26,-412.38 953.26,-412.38 754.51,-412.38 754.51,-412.38 748.51,-412.38 742.51,-406.38 742.51,-400.38 742.51,-400.38 742.51,-357.62 742.51,-357.62 742.51,-351.62 748.51,-345.62 754.51,-345.62\"/>\n",
       "<text text-anchor=\"middle\" x=\"771.14\" y=\"-396.98\" font-family=\"Times,serif\" font-size=\"12.00\">in_target</text>\n",
       "<polyline fill=\"none\" stroke=\"#0288f5\" stroke-width=\"2\" points=\"742.51,-390.12 799.76,-390.12\"/>\n",
       "<text text-anchor=\"middle\" x=\"771.14\" y=\"-374.73\" font-family=\"Times,serif\" font-size=\"12.00\">in_x</text>\n",
       "<polyline fill=\"none\" stroke=\"#0288f5\" stroke-width=\"2\" points=\"742.51,-367.88 799.76,-367.88\"/>\n",
       "<text text-anchor=\"middle\" x=\"771.14\" y=\"-352.48\" font-family=\"Times,serif\" font-size=\"12.00\">in_y</text>\n",
       "<polyline fill=\"none\" stroke=\"#0288f5\" stroke-width=\"2\" points=\"799.76,-345.62 799.76,-412.38\"/>\n",
       "<text text-anchor=\"middle\" x=\"850.89\" y=\"-374.73\" font-family=\"Times,serif\" font-size=\"12.00\">LessThanEqual_3</text>\n",
       "<polyline fill=\"none\" stroke=\"#0288f5\" stroke-width=\"2\" points=\"902.01,-345.62 902.01,-412.38\"/>\n",
       "<text text-anchor=\"middle\" x=\"933.64\" y=\"-396.98\" font-family=\"Times,serif\" font-size=\"12.00\">out_target</text>\n",
       "<polyline fill=\"none\" stroke=\"#0288f5\" stroke-width=\"2\" points=\"902.01,-390.12 965.26,-390.12\"/>\n",
       "<text text-anchor=\"middle\" x=\"933.64\" y=\"-374.73\" font-family=\"Times,serif\" font-size=\"12.00\">out_x</text>\n",
       "<polyline fill=\"none\" stroke=\"#0288f5\" stroke-width=\"2\" points=\"902.01,-367.88 965.26,-367.88\"/>\n",
       "<text text-anchor=\"middle\" x=\"933.64\" y=\"-352.48\" font-family=\"Times,serif\" font-size=\"12.00\">out_y</text>\n",
       "</g>\n",
       "<!-- &quot;.CompositeBloq.in_less_than_equal&quot;&#45;&gt;&quot;.CompositeBloq.LessThanEqual_3&quot; -->\n",
       "<g id=\"edge14\" class=\"edge\">\n",
       "<title>&quot;.CompositeBloq.in_less_than_equal&quot;&#45;&gt;&quot;.CompositeBloq.LessThanEqual_3&quot;:in_target</title>\n",
       "<path fill=\"none\" stroke=\"black\" d=\"M128.94,-437.16C241.53,-425.81 505.46,-401.81 731.12,-401.02\"/>\n",
       "<polygon fill=\"black\" stroke=\"black\" points=\"731.01,-404.52 741,-401 730.99,-397.52 731.01,-404.52\"/>\n",
       "</g>\n",
       "<!-- &quot;.CompositeBloq.in_selection&quot; -->\n",
       "<g id=\"node4\" class=\"node\">\n",
       "<title>&quot;.CompositeBloq.in_selection&quot;</title>\n",
       "<ellipse fill=\"none\" stroke=\"#ffa44a\" stroke-width=\"2\" cx=\"72.51\" cy=\"-226\" rx=\"39.2\" ry=\"39.2\"/>\n",
       "<text text-anchor=\"middle\" x=\"72.51\" y=\"-222.12\" font-family=\"Times,serif\" font-size=\"10.00\">in_selection</text>\n",
       "</g>\n",
       "<!-- &quot;.CompositeBloq.PrepareUniformSuperposition_0&quot; -->\n",
       "<g id=\"node14\" class=\"node\">\n",
       "<title>&quot;.CompositeBloq.PrepareUniformSuperposition_0&quot;</title>\n",
       "<path fill=\"none\" stroke=\"#0288f5\" stroke-width=\"2\" d=\"M177.01,-187C177.01,-187 443.26,-187 443.26,-187 449.26,-187 455.26,-193 455.26,-199 455.26,-199 455.26,-211 455.26,-211 455.26,-217 449.26,-223 443.26,-223 443.26,-223 177.01,-223 177.01,-223 171.01,-223 165.01,-217 165.01,-211 165.01,-211 165.01,-199 165.01,-199 165.01,-193 171.01,-187 177.01,-187\"/>\n",
       "<text text-anchor=\"middle\" x=\"193.64\" y=\"-201.1\" font-family=\"Times,serif\" font-size=\"12.00\">in_target</text>\n",
       "<polyline fill=\"none\" stroke=\"#0288f5\" stroke-width=\"2\" points=\"222.26,-187.75 222.26,-223\"/>\n",
       "<text text-anchor=\"middle\" x=\"307.14\" y=\"-201.1\" font-family=\"Times,serif\" font-size=\"12.00\">PrepareUniformSuperposition_0</text>\n",
       "<polyline fill=\"none\" stroke=\"#0288f5\" stroke-width=\"2\" points=\"392.01,-187.75 392.01,-223\"/>\n",
       "<text text-anchor=\"middle\" x=\"423.64\" y=\"-201.1\" font-family=\"Times,serif\" font-size=\"12.00\">out_target</text>\n",
       "</g>\n",
       "<!-- &quot;.CompositeBloq.in_selection&quot;&#45;&gt;&quot;.CompositeBloq.PrepareUniformSuperposition_0&quot; -->\n",
       "<g id=\"edge15\" class=\"edge\">\n",
       "<title>&quot;.CompositeBloq.in_selection&quot;&#45;&gt;&quot;.CompositeBloq.PrepareUniformSuperposition_0&quot;:in_target</title>\n",
       "<path fill=\"none\" stroke=\"black\" d=\"M110.03,-213.66C123.24,-210.02 138.62,-206.68 153.64,-205.48\"/>\n",
       "<polygon fill=\"black\" stroke=\"black\" points=\"153.66,-208.98 163.5,-205.06 153.36,-201.98 153.66,-208.98\"/>\n",
       "</g>\n",
       "<!-- &quot;.CompositeBloq.in_sigma_mu&quot; -->\n",
       "<g id=\"node5\" class=\"node\">\n",
       "<title>&quot;.CompositeBloq.in_sigma_mu&quot;</title>\n",
       "<ellipse fill=\"none\" stroke=\"#ffa44a\" stroke-width=\"2\" cx=\"72.51\" cy=\"-326\" rx=\"42.31\" ry=\"42.31\"/>\n",
       "<text text-anchor=\"middle\" x=\"72.51\" y=\"-322.12\" font-family=\"Times,serif\" font-size=\"10.00\">in_sigma_mu</text>\n",
       "</g>\n",
       "<!-- &quot;.CompositeBloq.OnEach_1&quot; -->\n",
       "<g id=\"node13\" class=\"node\">\n",
       "<title>&quot;.CompositeBloq.OnEach_1&quot;</title>\n",
       "<path fill=\"none\" stroke=\"#0288f5\" stroke-width=\"2\" d=\"M537.39,-333C537.39,-333 660.39,-333 660.39,-333 666.39,-333 672.39,-339 672.39,-345 672.39,-345 672.39,-357 672.39,-357 672.39,-363 666.39,-369 660.39,-369 660.39,-369 537.39,-369 537.39,-369 531.39,-369 525.39,-363 525.39,-357 525.39,-357 525.39,-345 525.39,-345 525.39,-339 531.39,-333 537.39,-333\"/>\n",
       "<text text-anchor=\"middle\" x=\"543.89\" y=\"-347.1\" font-family=\"Times,serif\" font-size=\"12.00\">in_q</text>\n",
       "<polyline fill=\"none\" stroke=\"#0288f5\" stroke-width=\"2\" points=\"562.39,-333.75 562.39,-369\"/>\n",
       "<text text-anchor=\"middle\" x=\"595.89\" y=\"-347.1\" font-family=\"Times,serif\" font-size=\"12.00\">OnEach_1</text>\n",
       "<polyline fill=\"none\" stroke=\"#0288f5\" stroke-width=\"2\" points=\"629.39,-333.75 629.39,-369\"/>\n",
       "<text text-anchor=\"middle\" x=\"650.89\" y=\"-347.1\" font-family=\"Times,serif\" font-size=\"12.00\">out_q</text>\n",
       "</g>\n",
       "<!-- &quot;.CompositeBloq.in_sigma_mu&quot;&#45;&gt;&quot;.CompositeBloq.OnEach_1&quot; -->\n",
       "<g id=\"edge16\" class=\"edge\">\n",
       "<title>&quot;.CompositeBloq.in_sigma_mu&quot;&#45;&gt;&quot;.CompositeBloq.OnEach_1&quot;:in_q</title>\n",
       "<path fill=\"none\" stroke=\"black\" d=\"M115.07,-329.85C192.5,-336.69 364.47,-350.31 512.8,-350.98\"/>\n",
       "<polygon fill=\"black\" stroke=\"black\" points=\"512.37,-354.47 522.38,-351 512.38,-347.47 512.37,-354.47\"/>\n",
       "</g>\n",
       "<!-- &quot;.CompositeBloq.out_alt&quot; -->\n",
       "<g id=\"node6\" class=\"node\">\n",
       "<title>&quot;.CompositeBloq.out_alt&quot;</title>\n",
       "<ellipse fill=\"none\" stroke=\"#ffa44a\" stroke-width=\"2\" cx=\"1258.13\" cy=\"-145\" rx=\"26.77\" ry=\"26.77\"/>\n",
       "<text text-anchor=\"middle\" x=\"1258.13\" y=\"-141.12\" font-family=\"Times,serif\" font-size=\"10.00\">out_alt</text>\n",
       "</g>\n",
       "<!-- &quot;.CompositeBloq.out_keep&quot; -->\n",
       "<g id=\"node7\" class=\"node\">\n",
       "<title>&quot;.CompositeBloq.out_keep&quot;</title>\n",
       "<ellipse fill=\"none\" stroke=\"#ffa44a\" stroke-width=\"2\" cx=\"1258.13\" cy=\"-468\" rx=\"32.1\" ry=\"32.1\"/>\n",
       "<text text-anchor=\"middle\" x=\"1258.13\" y=\"-464.12\" font-family=\"Times,serif\" font-size=\"10.00\">out_keep</text>\n",
       "</g>\n",
       "<!-- &quot;.CompositeBloq.out_less_than_equal&quot; -->\n",
       "<g id=\"node8\" class=\"node\">\n",
       "<title>&quot;.CompositeBloq.out_less_than_equal&quot;</title>\n",
       "<ellipse fill=\"none\" stroke=\"#ffa44a\" stroke-width=\"2\" cx=\"1258.13\" cy=\"-249\" rx=\"59.61\" ry=\"59.61\"/>\n",
       "<text text-anchor=\"middle\" x=\"1258.13\" y=\"-245.12\" font-family=\"Times,serif\" font-size=\"10.00\">out_less_than_equal</text>\n",
       "</g>\n",
       "<!-- &quot;.CompositeBloq.out_selection&quot; -->\n",
       "<g id=\"node9\" class=\"node\">\n",
       "<title>&quot;.CompositeBloq.out_selection&quot;</title>\n",
       "<ellipse fill=\"none\" stroke=\"#ffa44a\" stroke-width=\"2\" cx=\"1258.13\" cy=\"-58\" rx=\"42.31\" ry=\"42.31\"/>\n",
       "<text text-anchor=\"middle\" x=\"1258.13\" y=\"-54.12\" font-family=\"Times,serif\" font-size=\"10.00\">out_selection</text>\n",
       "</g>\n",
       "<!-- &quot;.CompositeBloq.out_sigma_mu&quot; -->\n",
       "<g id=\"node10\" class=\"node\">\n",
       "<title>&quot;.CompositeBloq.out_sigma_mu&quot;</title>\n",
       "<ellipse fill=\"none\" stroke=\"#ffa44a\" stroke-width=\"2\" cx=\"1258.13\" cy=\"-372\" rx=\"45.41\" ry=\"45.41\"/>\n",
       "<text text-anchor=\"middle\" x=\"1258.13\" y=\"-368.12\" font-family=\"Times,serif\" font-size=\"10.00\">out_sigma_mu</text>\n",
       "</g>\n",
       "<!-- &quot;.CompositeBloq.CSwap_4&quot; -->\n",
       "<g id=\"node11\" class=\"node\">\n",
       "<title>&quot;.CompositeBloq.CSwap_4&quot;</title>\n",
       "<path fill=\"none\" stroke=\"#0288f5\" stroke-width=\"2\" d=\"M1013.26,-130.62C1013.26,-130.62 1150.51,-130.62 1150.51,-130.62 1156.51,-130.62 1162.51,-136.62 1162.51,-142.62 1162.51,-142.62 1162.51,-185.38 1162.51,-185.38 1162.51,-191.38 1156.51,-197.38 1150.51,-197.38 1150.51,-197.38 1013.26,-197.38 1013.26,-197.38 1007.26,-197.38 1001.26,-191.38 1001.26,-185.38 1001.26,-185.38 1001.26,-142.62 1001.26,-142.62 1001.26,-136.62 1007.26,-130.62 1013.26,-130.62\"/>\n",
       "<text text-anchor=\"middle\" x=\"1024.26\" y=\"-181.97\" font-family=\"Times,serif\" font-size=\"12.00\">in_ctrl</text>\n",
       "<polyline fill=\"none\" stroke=\"#0288f5\" stroke-width=\"2\" points=\"1001.26,-175.12 1047.26,-175.12\"/>\n",
       "<text text-anchor=\"middle\" x=\"1024.26\" y=\"-159.72\" font-family=\"Times,serif\" font-size=\"12.00\">in_x</text>\n",
       "<polyline fill=\"none\" stroke=\"#0288f5\" stroke-width=\"2\" points=\"1001.26,-152.88 1047.26,-152.88\"/>\n",
       "<text text-anchor=\"middle\" x=\"1024.26\" y=\"-137.47\" font-family=\"Times,serif\" font-size=\"12.00\">in_y</text>\n",
       "<polyline fill=\"none\" stroke=\"#0288f5\" stroke-width=\"2\" points=\"1047.26,-130.62 1047.26,-197.38\"/>\n",
       "<text text-anchor=\"middle\" x=\"1078.89\" y=\"-159.72\" font-family=\"Times,serif\" font-size=\"12.00\">CSwap_4</text>\n",
       "<polyline fill=\"none\" stroke=\"#0288f5\" stroke-width=\"2\" points=\"1110.51,-130.62 1110.51,-197.38\"/>\n",
       "<text text-anchor=\"middle\" x=\"1136.51\" y=\"-181.97\" font-family=\"Times,serif\" font-size=\"12.00\">out_ctrl</text>\n",
       "<polyline fill=\"none\" stroke=\"#0288f5\" stroke-width=\"2\" points=\"1110.51,-175.12 1162.51,-175.12\"/>\n",
       "<text text-anchor=\"middle\" x=\"1136.51\" y=\"-159.72\" font-family=\"Times,serif\" font-size=\"12.00\">out_x</text>\n",
       "<polyline fill=\"none\" stroke=\"#0288f5\" stroke-width=\"2\" points=\"1110.51,-152.88 1162.51,-152.88\"/>\n",
       "<text text-anchor=\"middle\" x=\"1136.51\" y=\"-137.47\" font-family=\"Times,serif\" font-size=\"12.00\">out_y</text>\n",
       "</g>\n",
       "<!-- &quot;.CompositeBloq.CSwap_4&quot;&#45;&gt;&quot;.CompositeBloq.out_alt&quot; -->\n",
       "<g id=\"edge2\" class=\"edge\">\n",
       "<title>&quot;.CompositeBloq.CSwap_4&quot;:out_x&#45;&gt;&quot;.CompositeBloq.out_alt&quot;</title>\n",
       "<path fill=\"none\" stroke=\"black\" d=\"M1162.51,-164C1182.17,-164 1203.67,-160.01 1221.21,-155.69\"/>\n",
       "<polygon fill=\"black\" stroke=\"black\" points=\"1221.85,-159.14 1230.64,-153.22 1220.08,-152.37 1221.85,-159.14\"/>\n",
       "</g>\n",
       "<!-- &quot;.CompositeBloq.CSwap_4&quot;&#45;&gt;&quot;.CompositeBloq.out_less_than_equal&quot; -->\n",
       "<g id=\"edge1\" class=\"edge\">\n",
       "<title>&quot;.CompositeBloq.CSwap_4&quot;:out_ctrl&#45;&gt;&quot;.CompositeBloq.out_less_than_equal&quot;</title>\n",
       "<path fill=\"none\" stroke=\"black\" d=\"M1162.51,-186C1178.08,-186 1193.03,-191.98 1206.27,-200.25\"/>\n",
       "<polygon fill=\"black\" stroke=\"black\" points=\"1204.12,-203.02 1214.35,-205.77 1208.07,-197.24 1204.12,-203.02\"/>\n",
       "</g>\n",
       "<!-- &quot;.CompositeBloq.CSwap_4&quot;&#45;&gt;&quot;.CompositeBloq.out_selection&quot; -->\n",
       "<g id=\"edge3\" class=\"edge\">\n",
       "<title>&quot;.CompositeBloq.CSwap_4&quot;:out_y&#45;&gt;&quot;.CompositeBloq.out_selection&quot;</title>\n",
       "<path fill=\"none\" stroke=\"black\" d=\"M1162.51,-142C1184.22,-142 1182.33,-123.46 1198.51,-109 1204.46,-103.69 1210.79,-98.11 1217,-92.67\"/>\n",
       "<polygon fill=\"black\" stroke=\"black\" points=\"1218.99,-95.58 1224.22,-86.37 1214.38,-90.31 1218.99,-95.58\"/>\n",
       "</g>\n",
       "<!-- &quot;.CompositeBloq.LessThanEqual_3&quot;&#45;&gt;&quot;.CompositeBloq.out_keep&quot; -->\n",
       "<g id=\"edge5\" class=\"edge\">\n",
       "<title>&quot;.CompositeBloq.LessThanEqual_3&quot;:out_x&#45;&gt;&quot;.CompositeBloq.out_keep&quot;</title>\n",
       "<path fill=\"none\" stroke=\"black\" d=\"M965.26,-379C1059.87,-379 1164.52,-422.32 1219.16,-448.51\"/>\n",
       "<polygon fill=\"black\" stroke=\"black\" points=\"1217.52,-451.6 1228.04,-452.84 1220.59,-445.31 1217.52,-451.6\"/>\n",
       "</g>\n",
       "<!-- &quot;.CompositeBloq.LessThanEqual_3&quot;&#45;&gt;&quot;.CompositeBloq.out_sigma_mu&quot; -->\n",
       "<g id=\"edge6\" class=\"edge\">\n",
       "<title>&quot;.CompositeBloq.LessThanEqual_3&quot;:out_y&#45;&gt;&quot;.CompositeBloq.out_sigma_mu&quot;</title>\n",
       "<path fill=\"none\" stroke=\"black\" d=\"M965.26,-357C1047.55,-357 1142.72,-363.02 1201.42,-367.43\"/>\n",
       "<polygon fill=\"black\" stroke=\"black\" points=\"1200.92,-370.9 1211.15,-368.18 1201.45,-363.92 1200.92,-370.9\"/>\n",
       "</g>\n",
       "<!-- &quot;.CompositeBloq.LessThanEqual_3&quot;&#45;&gt;&quot;.CompositeBloq.CSwap_4&quot; -->\n",
       "<g id=\"edge4\" class=\"edge\">\n",
       "<title>&quot;.CompositeBloq.LessThanEqual_3&quot;:out_target&#45;&gt;&quot;.CompositeBloq.CSwap_4&quot;:in_ctrl</title>\n",
       "<path fill=\"none\" stroke=\"black\" d=\"M965.26,-401C1057.99,-401 917.47,-204.08 990.14,-187.16\"/>\n",
       "<polygon fill=\"black\" stroke=\"black\" points=\"990.17,-190.67 999.76,-186.16 989.45,-183.71 990.17,-190.67\"/>\n",
       "</g>\n",
       "<!-- &quot;.CompositeBloq.OnEach_1&quot;&#45;&gt;&quot;.CompositeBloq.LessThanEqual_3&quot; -->\n",
       "<g id=\"edge7\" class=\"edge\">\n",
       "<title>&quot;.CompositeBloq.OnEach_1&quot;:out_q&#45;&gt;&quot;.CompositeBloq.LessThanEqual_3&quot;:in_y</title>\n",
       "<path fill=\"none\" stroke=\"black\" d=\"M673.89,-351C700.32,-351 709.44,-355.47 731.14,-356.69\"/>\n",
       "<polygon fill=\"black\" stroke=\"black\" points=\"730.91,-360.19 741,-356.96 731.1,-353.19 730.91,-360.19\"/>\n",
       "</g>\n",
       "<!-- &quot;.CompositeBloq.PrepareUniformSuperposition_0&quot;&#45;&gt;&quot;.CompositeBloq.QROM_2&quot; -->\n",
       "<g id=\"edge8\" class=\"edge\">\n",
       "<title>&quot;.CompositeBloq.PrepareUniformSuperposition_0&quot;:out_target&#45;&gt;&quot;.CompositeBloq.QROM_2&quot;:in_selection</title>\n",
       "<path fill=\"none\" stroke=\"black\" d=\"M455.26,-205C470.78,-205 471.76,-188.59 480.46,-180.89\"/>\n",
       "<polygon fill=\"black\" stroke=\"black\" points=\"481.62,-184.2 489.84,-177.51 479.25,-177.61 481.62,-184.2\"/>\n",
       "</g>\n",
       "<!-- &quot;.CompositeBloq.QROM_2&quot;&#45;&gt;&quot;.CompositeBloq.CSwap_4&quot; -->\n",
       "<g id=\"edge9\" class=\"edge\">\n",
       "<title>&quot;.CompositeBloq.QROM_2&quot;:out_selection&#45;&gt;&quot;.CompositeBloq.CSwap_4&quot;:in_y</title>\n",
       "<path fill=\"none\" stroke=\"black\" d=\"M706.51,-177C724.4,-177 725.25,-163.68 742.51,-159 850.06,-129.86 883.79,-141.17 990.05,-141.96\"/>\n",
       "<polygon fill=\"black\" stroke=\"black\" points=\"989.74,-145.46 999.75,-141.99 989.76,-138.46 989.74,-145.46\"/>\n",
       "</g>\n",
       "<!-- &quot;.CompositeBloq.QROM_2&quot;&#45;&gt;&quot;.CompositeBloq.CSwap_4&quot; -->\n",
       "<g id=\"edge10\" class=\"edge\">\n",
       "<title>&quot;.CompositeBloq.QROM_2&quot;:out_target0_&#45;&gt;&quot;.CompositeBloq.CSwap_4&quot;:in_x</title>\n",
       "<path fill=\"none\" stroke=\"black\" d=\"M706.51,-155C833.74,-155 868.21,-163.48 989.99,-163.98\"/>\n",
       "<polygon fill=\"black\" stroke=\"black\" points=\"989.74,-167.48 999.75,-164 989.76,-160.48 989.74,-167.48\"/>\n",
       "</g>\n",
       "<!-- &quot;.CompositeBloq.QROM_2&quot;&#45;&gt;&quot;.CompositeBloq.LessThanEqual_3&quot; -->\n",
       "<g id=\"edge11\" class=\"edge\">\n",
       "<title>&quot;.CompositeBloq.QROM_2&quot;:out_target1_&#45;&gt;&quot;.CompositeBloq.LessThanEqual_3&quot;:in_x</title>\n",
       "<path fill=\"none\" stroke=\"black\" d=\"M706.51,-133C757.66,-133 697.61,-343.84 732.25,-375.14\"/>\n",
       "<polygon fill=\"black\" stroke=\"black\" points=\"730.51,-378.22 741.1,-378.47 732.97,-371.67 730.51,-378.22\"/>\n",
       "</g>\n",
       "</g>\n",
       "</svg>\n"
      ],
      "text/plain": [
       "<graphviz.graphs.Digraph at 0x165838eb0>"
      ]
     },
     "execution_count": 23,
     "metadata": {},
     "output_type": "execute_result"
    }
   ],
   "source": [
    "from qualtran.qref_interop import bloq_to_qref\n",
    "from qref.experimental.rendering import to_graphviz\n",
    "\n",
    "# We can easily convert it to QREF representation with the following code:\n",
    "qref_definition = bloq_to_qref(bloq)\n",
    "to_graphviz(qref_definition)"
   ]
  },
  {
   "cell_type": "markdown",
   "id": "d801c78f",
   "metadata": {},
   "source": [
    "### Comparing Bloq and QREF Resources\n",
    "\n",
    "Besides comparing the print outs of the two different objects above, it is helpful to review the cost details of the Bloq and QREF definition. "
   ]
  },
  {
   "cell_type": "code",
   "execution_count": 24,
   "id": "755d7031-617a-4908-9ee1-45a42c422fbd",
   "metadata": {},
   "outputs": [
    {
     "name": "stdout",
     "output_type": "stream",
     "text": [
      "Qualtran Bloq T Complexity: \n",
      "TComplexity(t=307, clifford=1770, rotations=2)\n",
      "\n",
      "QREF Resources: \n",
      "[ResourceV1(name='clifford', type='additive', value=1770),\n",
      " ResourceV1(name='rotations', type='additive', value=2),\n",
      " ResourceV1(name='t', type='additive', value=307)]\n"
     ]
    }
   ],
   "source": [
    "from pprint import pprint\n",
    "# We can check that the resources for both representations are the same:\n",
    "print(\"Qualtran Bloq T Complexity: \")\n",
    "pprint(bloq.t_complexity())\n",
    "print(\"\\nQREF Resources: \")\n",
    "pprint(qref_definition.program.resources)"
   ]
  },
  {
   "cell_type": "markdown",
   "id": "5133d33a-017a-488e-a8f9-2c37a058062d",
   "metadata": {},
   "source": [
    "The resources printed above are the \"top-level\" resources. However, the resources of the building blocks can also be accessed. For example, Uniform State Preparation (`PrepareUniformSuperposition`) can be accessed with the following code:"
   ]
  },
  {
   "cell_type": "code",
   "execution_count": 4,
   "id": "bafd2405-3ac0-43ff-b9b4-7978ffd49cef",
   "metadata": {},
   "outputs": [
    {
     "name": "stdout",
     "output_type": "stream",
     "text": [
      "Qualtran PrepareUniformSuperposition T Complexity: \n",
      "TComplexity(t=20, clifford=106, rotations=2)\n",
      "\n",
      " QREF PrepareUniformSuperposition_0 Resources: \n",
      "[ResourceV1(name='clifford', type='additive', value=106),\n",
      " ResourceV1(name='rotations', type='additive', value=2),\n",
      " ResourceV1(name='t', type='additive', value=20)]\n"
     ]
    }
   ],
   "source": [
    "USP_bloq = [bloq_inst.bloq for bloq_inst in bloq.bloq_instances if str(bloq_inst.bloq) == \"PrepareUniformSuperposition\"][0]\n",
    "print(\"Qualtran PrepareUniformSuperposition T Complexity: \")\n",
    "pprint(USP_bloq.t_complexity())\n",
    "print(\"\\n QREF PrepareUniformSuperposition_0 Resources: \")\n",
    "pprint(qref_definition.program.children.by_name[\"PrepareUniformSuperposition_0\"].resources)"
   ]
  },
  {
   "cell_type": "markdown",
   "id": "4953f807-5ce0-42c5-9bf4-6773c5f45e87",
   "metadata": {},
   "source": [
    "### Use Bartiq with QREF to Compile the Costs \n",
    "\n",
    "The `qref_definition` can now be passed to Bartiq. However, it would be trivial since all of the resources are included from the Bloq. Therefore, before passing it to Bartiq, we will remove the \"top-level\" resources in `qref_definition`. After clearing the resources, calling `compile_routine` will compile the costs from the building blocks or subroutines."
   ]
  },
  {
   "cell_type": "code",
   "execution_count": 6,
   "id": "56beb66e-0989-4cf6-920b-bbc51cae559d",
   "metadata": {},
   "outputs": [
    {
     "name": "stdout",
     "output_type": "stream",
     "text": [
      "Qualtran Bloq T Complexity: \n",
      "TComplexity(t=307, clifford=1770, rotations=2)\n",
      "\n",
      "QREF Resources:\n",
      "{'clifford': Resource(name='clifford',\n",
      "                      type=<ResourceType.additive: 'additive'>,\n",
      "                      value=1770),\n",
      " 'rotations': Resource(name='rotations',\n",
      "                       type=<ResourceType.additive: 'additive'>,\n",
      "                       value=2),\n",
      " 't': Resource(name='t', type=<ResourceType.additive: 'additive'>, value=307)}\n"
     ]
    }
   ],
   "source": [
    "from bartiq import compile_routine\n",
    "\n",
    "\n",
    "# Clear the resources from the top-level\n",
    "qref_definition.program.resources =  [] \n",
    "\n",
    "compiled_routine = compile_routine(qref_definition).routine\n",
    "\n",
    "print(\"Qualtran Bloq T Complexity: \")\n",
    "pprint(bloq.t_complexity())\n",
    "print(\"\\nQREF Resources:\")\n",
    "pprint(compiled_routine.resources)"
   ]
  },
  {
   "cell_type": "markdown",
   "id": "31b2ceb7",
   "metadata": {},
   "source": [
    "## Writing a Custom Uniform Superposition (USP) Implementation\n",
    "\n",
    "While the example above demonstrated the integration, the information derived by Bartiq was the same as the information from Qualtran. Therefore, let's try other scenarios highlighting use cases where Bartiq can provide unique information.\n"
   ]
  },
  {
   "cell_type": "markdown",
   "id": "91aa9d2b",
   "metadata": {},
   "source": [
    "### Numeric Implementation\n",
    "\n",
    "The example above is purely numeric. If symbolic expressions are used, we are able to produce resources and decompose the \"top-level\" bloq, `StatePreparationAliasSampling` (see snippet below). However, subsequent bloqs, like `PrepareUniformSuperposition`, cannot be further decomposed using `decompose_bloq()` This is most likely temporary and as Qualtran improves, this might cease being a problem."
   ]
  },
  {
   "cell_type": "code",
   "execution_count": 26,
   "id": "4495c810-fdfd-43d0-a70a-bf40dfdff061",
   "metadata": {},
   "outputs": [
    {
     "name": "stdout",
     "output_type": "stream",
     "text": [
      "TComplexity(t=4*N + 8*ceiling(log2(M/(N*eps))) + 19*ceiling(log2(floor(N))) - 8, clifford=N*ceiling(log2(M/(N*eps)))*ceiling(log2(floor(N))) + 13*N + 47*ceiling(log2(M/(N*eps))) + 62*ceiling(log2(floor(N))) - 12, rotations=2)\n"
     ]
    }
   ],
   "source": [
    "import sympy\n",
    "N, M, eps = sympy.symbols(\"N M eps\")\n",
    "bloq = StatePreparationAliasSampling.from_n_coeff(n_coeff=N, sum_of_unnormalized_probabilites=M, precision=eps)\n",
    "pprint(bloq.t_complexity())\n",
    "children = bloq.decompose_bloq().bloq_instances\n",
    "# Doesn't curently work:\n",
    "# decomposed_children = [child.decompose_bloq() for child in children]\n",
    "# decomposed_children = [child.t_complexity() for child in children]"
   ]
  },
  {
   "cell_type": "markdown",
   "id": "27483d83-d008-499c-9322-c2953f6db573",
   "metadata": {},
   "source": [
    "\n",
    "### Resources Tied to a Specific Implementation\n",
    "\n",
    "At the time of writing this, the source code of [PrepareUniformSuperposition](https://github.com/quantumlib/Qualtran/blob/c0a3a94d712f4eebb1cad119fc507a6cd9a7d8e7/qualtran/bloqs/state_preparation/prepare_uniform_superposition.py#L44), includes the following information in the docstring:\n",
    "\n",
    "> Performs a single round of amplitude amplification and prepares a uniform superposition over the first $n$ basis states $|0>, |1>, ..., |n - 1>$. The expected T-complexity should be $10 * log(L) + 2 * K$ T-gates and $2$ single qubit rotation gates, where $n = L * 2^K$.\n",
    ">\n",
    "> However, the current T-complexity is $12 * log(L)$ T-gates and $2 + 2 * (K + log(L))$ rotations\n",
    "because of two open issues:\n",
    "> \n",
    "> - https://github.com/quantumlib/Qualtran/issues/233 and\n",
    "> - https://github.com/quantumlib/Qualtran/issues/235\n",
    "\n",
    "\n",
    "Unfortunately, in Qualtran there are instances of being tied to a specific implementation of a resource, even if it is known to be incorrect.\n",
    "\n",
    "Below we will see how we can quickly create an alternative implementation of USP with QREF."
   ]
  },
  {
   "cell_type": "markdown",
   "id": "1dfcfc18",
   "metadata": {},
   "source": [
    "### Create the USP Implementation with Symbolic Expressions\n",
    "\n",
    "First, we will create the Qualtran USP Bloq and then convert it to a QREF definition. We will do this to confirm the incorrect T-Complexity expressions."
   ]
  },
  {
   "cell_type": "code",
   "execution_count": 31,
   "id": "b6491b25-8364-4542-ba4e-3de3b990ad10",
   "metadata": {},
   "outputs": [
    {
     "name": "stdout",
     "output_type": "stream",
     "text": [
      "Qualtran USP Bloq T Complexity: \n",
      "TComplexity(t=12*ceiling(log2(floor(N))) - 4, clifford=52*ceiling(log2(floor(N))) - 9, rotations=2)\n",
      "\n",
      "QREF USP Resources: \n",
      "[ResourceV1(name='clifford', type='additive', value='52*ceiling(log2(floor(N))) - 9'),\n",
      " ResourceV1(name='rotations', type='additive', value='2'),\n",
      " ResourceV1(name='t', type='additive', value='12*ceiling(log2(floor(N))) - 4')]\n"
     ]
    }
   ],
   "source": [
    "from qualtran.bloqs.state_preparation import PrepareUniformSuperposition\n",
    "import sympy\n",
    "\n",
    "N = sympy.symbols(\"N\")\n",
    "USP_bloq = PrepareUniformSuperposition(N)\n",
    "\n",
    "# We see that contrary to the docstring, the number of rotations is already correct\n",
    "print(\"Qualtran USP Bloq T Complexity: \")\n",
    "pprint(USP_bloq.t_complexity())\n",
    "\n",
    "# Now we create a QREF definitions based on the PrepareUniformSuperposition bloq\n",
    "usp_1_qref = bloq_to_qref(USP_bloq) # this will be left unchanged\n",
    "print(\"\\nQREF USP Resources: \")\n",
    "pprint(usp_1_qref.program.resources)"
   ]
  },
  {
   "cell_type": "markdown",
   "id": "5951a8fe",
   "metadata": {},
   "source": [
    "We can see above that Bloq and QREF resources, for the USP have the same, incorrect symbolic expressions. From the docstring, we know that it should be $10 * log(L) + 2 * K$."
   ]
  },
  {
   "cell_type": "markdown",
   "id": "3a36c459",
   "metadata": {},
   "source": [
    "### Manually Create a New USP in QREF\n",
    "\n",
    "We will implement the new version of USP directly in QREF with the correct expressions for the number of T gates and rotations. To fill in the other USP information we used the details from `usp_1_qref.model_dump()`. "
   ]
  },
  {
   "cell_type": "code",
   "execution_count": 32,
   "id": "97d88fce-c538-4282-a665-b2c721716d84",
   "metadata": {},
   "outputs": [],
   "source": [
    "# Note that we omit Clifford gates here, as the expression for them is not mentioned in the docstring.\n",
    "from qref import SchemaV1\n",
    "import math\n",
    "port_size = math.ceil(math.log2(len(probs_list)))\n",
    "\n",
    "usp_2_qref = SchemaV1(\n",
    "    program={\n",
    "        \"name\": \"PrepareUniformSuperposition\",\n",
    "        \"input_params\": [\"N\"],\n",
    "        \"ports\": [\n",
    "            {\"direction\": \"input\", \"name\": \"in_target\", \"size\": port_size},\n",
    "            {\"direction\": \"output\", \"name\": \"out_target\", \"size\": port_size},\n",
    "        ],\n",
    "        \"resources\": [\n",
    "            {\"name\": \"t\", \"type\": \"additive\", \"value\": \"10*ceiling(log2(L)) + 2*k\"},\n",
    "            {\"name\": \"rotations\", \"type\": \"additive\", \"value\": \"2\"},\n",
    "        ],\n",
    "        \"local_variables\": {\"k\": \"multiplicity(2, N)\", \"L\": \"N/2**k\"},\n",
    "    },\n",
    "    version=\"v1\",\n",
    ")"
   ]
  },
  {
   "cell_type": "markdown",
   "id": "83025aeb",
   "metadata": {},
   "source": [
    "Now that we have the QREF definition from both the Qualtran USP bloq and the manually created USP information, we can compare the symbolix expressions for the number of T gates."
   ]
  },
  {
   "cell_type": "code",
   "execution_count": 34,
   "id": "814c2e11-d430-411e-b015-85e803528b3a",
   "metadata": {},
   "outputs": [
    {
     "name": "stdout",
     "output_type": "stream",
     "text": [
      "Qualtran USP Bloq T Complexity - T Gates\n",
      "Resource(name='t',\n",
      "         type=<ResourceType.additive: 'additive'>,\n",
      "         value=12*ceiling(log2(floor(N))) - 4)\n",
      "\n",
      "QREF USP Custom Implementation - T Gates\n",
      "Resource(name='t',\n",
      "         type=<ResourceType.additive: 'additive'>,\n",
      "         value=10*ceiling(log2(N/2**multiplicity(2, N))) + 2*multiplicity(2, N))\n"
     ]
    }
   ],
   "source": [
    "print(\"Qualtran USP Bloq T Complexity - T Gates\")\n",
    "pprint(compile_routine(usp_1_qref).routine.resources[\"t\"])\n",
    "\n",
    "print(\"\\nQREF USP Custom Implementation - T Gates\")\n",
    "pprint(compile_routine(usp_2_qref).routine.resources[\"t\"])"
   ]
  },
  {
   "cell_type": "markdown",
   "id": "07d684ae-fa77-4d48-8850-4d394b2ec4e3",
   "metadata": {},
   "source": [
    "## Updating Alias Sampling\n",
    "\n",
    "Now that we have a corrected USP component as a QREF definition, it is important to update Alias Sampling with the new component."
   ]
  },
  {
   "cell_type": "code",
   "execution_count": 35,
   "id": "b1a54903-29a3-4017-84cf-e87d51d53a4a",
   "metadata": {},
   "outputs": [
    {
     "name": "stdout",
     "output_type": "stream",
     "text": [
      "['CSwap_4', 'LessThanEqual_3', 'OnEach_1', 'PrepareUniformSuperposition_0', 'QROM_2']\n"
     ]
    }
   ],
   "source": [
    "# Create the Alias Sampling bloq\n",
    "bloq = StatePreparationAliasSampling.from_probabilities(probs_list).decompose_bloq()\n",
    "\n",
    "# We export our Alias Sampling bloq to QREF and remove top-level resources so we can re-compute them later.\n",
    "qref_as_1 = bloq_to_qref(bloq) # this will be left unchanged\n",
    "qref_as_2 = bloq_to_qref(bloq) # this will be updated\n",
    "qref_as_1.program.resources = []\n",
    "qref_as_2.program.resources = []\n",
    "\n",
    "print([child.name for child in qref_as_2.program.children])\n"
   ]
  },
  {
   "cell_type": "markdown",
   "id": "da9a9486",
   "metadata": {},
   "source": [
    "You will notice we printed out the names of the components of the Alias Sampling QREF defintion. This is important because before we put the subroutine in the right place, we need to make sure it is named correctly. If we failed to ensure the proper name, some of the connections will be invalid."
   ]
  },
  {
   "cell_type": "code",
   "execution_count": 39,
   "id": "f2305c8f-7bf0-44a2-8c2f-d6afd63111ea",
   "metadata": {},
   "outputs": [
    {
     "name": "stdout",
     "output_type": "stream",
     "text": [
      "Unchanged Alias Sampling T Complexity - T Gates: \n",
      "Resource(name='t', type=<ResourceType.additive: 'additive'>, value=307)\n",
      "\n",
      "Updated Alias Sampling T Complexity - T Gates: \n",
      "Resource(name='t',\n",
      "         type=<ResourceType.additive: 'additive'>,\n",
      "         value=10*ceiling(log2(PrepareUniformSuperposition_0.N/2**multiplicity(2, PrepareUniformSuperposition_0.N))) + 2*multiplicity(2, PrepareUniformSuperposition_0.N) + 287)\n"
     ]
    }
   ],
   "source": [
    "usp_2_qref.program.name = \"PrepareUniformSuperposition_0\"\n",
    "qref_as_2.program.children.by_name[\"PrepareUniformSuperposition_0\"] = usp_2_qref.program\n",
    "\n",
    "\n",
    "print(\"Unchanged Alias Sampling T Complexity - T Gates: \")\n",
    "compiled_as_1 = compile_routine(qref_as_1).routine\n",
    "pprint(compiled_as_1.resources[\"t\"])\n",
    "\n",
    "print(\"\\nUpdated Alias Sampling T Complexity - T Gates: \")\n",
    "compiled_as_2 = compile_routine(qref_as_2).routine\n",
    "pprint(compiled_as_2.resources[\"t\"])\n"
   ]
  },
  {
   "cell_type": "markdown",
   "id": "44cc58e6-6155-4919-9156-556b5e42fdf4",
   "metadata": {},
   "source": [
    "The unchanged Alias Sampling results shows the same 307 T gates that we saw earlier in the notebook. However, for the updated Alias Sampling, we see a much different result. Now we can generate numerical values for the resources given a specific value of `N`. To do this, we can use Bartiq's `evaluate` method."
   ]
  },
  {
   "cell_type": "code",
   "execution_count": 42,
   "id": "1ecc7d7a-22da-4072-bf96-1d6e26e01493",
   "metadata": {},
   "outputs": [
    {
     "data": {
      "text/plain": [
       "Resource(name='t', type=<ResourceType.additive: 'additive'>, value=10*ceiling(log2(PrepareUniformSuperposition_0.N/2**multiplicity(2, PrepareUniformSuperposition_0.N))) + 2*multiplicity(2, PrepareUniformSuperposition_0.N) + 287)"
      ]
     },
     "execution_count": 42,
     "metadata": {},
     "output_type": "execute_result"
    }
   ],
   "source": [
    "from bartiq import evaluate\n",
    "N_value = len(probs_list)\n",
    "assignments = {\"N\": N_value}\n",
    "evaluate(compiled_as_2, assignments).routine.resources[\"t\"]"
   ]
  },
  {
   "cell_type": "markdown",
   "id": "0d866675-d219-4ff7-a5a8-d1c2419b7863",
   "metadata": {},
   "source": [
    "## Custom Cost Functions\n",
    "\n",
    "Another case highlighting the usefulness of Bartiq is when the cost of a particular routine is given by a custom function. For example, we can set the cost of USP using a recursive function, `foo`, as defined below."
   ]
  },
  {
   "cell_type": "code",
   "execution_count": 43,
   "id": "5e6f5a6e-3b31-4bb0-ad9e-2cc45e2290ed",
   "metadata": {},
   "outputs": [],
   "source": [
    "def foo(n):\n",
    "    if n < 10:\n",
    "        return n\n",
    "    else:\n",
    "        return foo(n-3) "
   ]
  },
  {
   "cell_type": "code",
   "execution_count": 44,
   "id": "1bc1821a-0b41-4c4c-9cbf-24d71e0f18ec",
   "metadata": {},
   "outputs": [
    {
     "ename": "NameError",
     "evalue": "name 'qref_to_bartiq' is not defined",
     "output_type": "error",
     "traceback": [
      "\u001b[0;31m---------------------------------------------------------------------------\u001b[0m",
      "\u001b[0;31mNameError\u001b[0m                                 Traceback (most recent call last)",
      "Cell \u001b[0;32mIn[44], line 5\u001b[0m\n\u001b[1;32m      2\u001b[0m usp_3_qref \u001b[38;5;241m=\u001b[39m copy\u001b[38;5;241m.\u001b[39mcopy(usp_2_qref)\n\u001b[1;32m      3\u001b[0m usp_3_qref\u001b[38;5;241m.\u001b[39mprogram\u001b[38;5;241m.\u001b[39mresources \u001b[38;5;241m=\u001b[39m [{\u001b[38;5;124m\"\u001b[39m\u001b[38;5;124mname\u001b[39m\u001b[38;5;124m\"\u001b[39m: \u001b[38;5;124m\"\u001b[39m\u001b[38;5;124mt\u001b[39m\u001b[38;5;124m\"\u001b[39m, \u001b[38;5;124m\"\u001b[39m\u001b[38;5;124mtype\u001b[39m\u001b[38;5;124m\"\u001b[39m: \u001b[38;5;124m\"\u001b[39m\u001b[38;5;124madditive\u001b[39m\u001b[38;5;124m\"\u001b[39m, \u001b[38;5;124m\"\u001b[39m\u001b[38;5;124mvalue\u001b[39m\u001b[38;5;124m\"\u001b[39m: \u001b[38;5;124m\"\u001b[39m\u001b[38;5;124m2*foo(N)\u001b[39m\u001b[38;5;124m\"\u001b[39m}]\n\u001b[0;32m----> 5\u001b[0m usp_3_bartiq \u001b[38;5;241m=\u001b[39m \u001b[43mqref_to_bartiq\u001b[49m(usp_3_qref)\n\u001b[1;32m      6\u001b[0m compiled_usp_3 \u001b[38;5;241m=\u001b[39m compile_routine(usp_3_bartiq)\n\u001b[1;32m      7\u001b[0m compiled_usp_3\u001b[38;5;241m.\u001b[39mresources\n",
      "\u001b[0;31mNameError\u001b[0m: name 'qref_to_bartiq' is not defined"
     ]
    }
   ],
   "source": [
    "import copy\n",
    "usp_3_qref = copy.copy(usp_2_qref)\n",
    "usp_3_qref.program.resources = [{\"name\": \"t\", \"type\": \"additive\", \"value\": \"2*foo(N)\"}]\n",
    "\n",
    "usp_3_bartiq = qref_to_bartiq(usp_3_qref)\n",
    "compiled_usp_3 = compile_routine(usp_3_bartiq)\n",
    "compiled_usp_3.resources"
   ]
  },
  {
   "cell_type": "markdown",
   "id": "243e6f30",
   "metadata": {},
   "source": [
    "The function, `foo`, is now included in the cost expression for the number of T gates. Similar to what we did previously, by providing a value for `N` and mapping the function `foo` in the expression to the defined function `foo`, we can call `evaluate` to generate numerical values."
   ]
  },
  {
   "cell_type": "code",
   "execution_count": null,
   "id": "4cf814e0-d3e5-43f0-9197-373b897233a0",
   "metadata": {},
   "outputs": [],
   "source": [
    "assignments = {\"N=101\"}\n",
    "functions_map = {\"foo\": foo}\n",
    "evaluate(compiled_usp_3, assignments, functions_map=functions_map).resources"
   ]
  },
  {
   "cell_type": "markdown",
   "id": "51f03933-923d-4386-8dbc-f329ae22e2d2",
   "metadata": {},
   "source": [
    "Again, this highlights the power of Bartiq by allowing us to both use custom functions in the symbolic expressions for the costs, as well as evaluate them with specific numeric values."
   ]
  },
  {
   "cell_type": "markdown",
   "id": "c23692ca-2038-4db2-aeb2-4608940d1e31",
   "metadata": {},
   "source": [
    "## Closing Remarks"
   ]
  },
  {
   "cell_type": "markdown",
   "id": "4bd2b13a-2127-4797-866e-a9fe26bb0f7e",
   "metadata": {},
   "source": [
    "Thank you for going through this notebook!\n",
    "QREF and Bartiq are still in beta, and there is so much more we could do to make the integration with Qualtran better.\n",
    "If you have a specific use case in mind, or if you encounter any problems, please leave an issue in any of the involved projects. We'd love to help you make it work!"
   ]
  }
 ],
 "metadata": {
  "kernelspec": {
   "display_name": "Python 3 (ipykernel)",
   "language": "python",
   "name": "python3"
  },
  "language_info": {
   "codemirror_mode": {
    "name": "ipython",
    "version": 3
   },
   "file_extension": ".py",
   "mimetype": "text/x-python",
   "name": "python",
   "nbconvert_exporter": "python",
   "pygments_lexer": "ipython3",
   "version": "3.10.14"
  }
 },
 "nbformat": 4,
 "nbformat_minor": 5
}
