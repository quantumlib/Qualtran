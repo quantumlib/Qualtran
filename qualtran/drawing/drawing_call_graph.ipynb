{
 "cells": [
  {
   "cell_type": "markdown",
   "id": "18bbe142-52e2-4a87-b1ff-07893bd55f3f",
   "metadata": {},
   "source": [
    "# Drawing Call Graphs\n",
    "\n",
    "The \"call graph\" is a graph that encodes how bloqs \"call\" other bloqs as part of their decomposition. We can visualize the call graph of a bloq using the convenience method `qualtran.drawing.show_call_graph`."
   ]
  },
  {
   "cell_type": "code",
   "execution_count": null,
   "id": "c7ce1a63-3f9e-41b6-9e0c-e2955797c375",
   "metadata": {},
   "outputs": [],
   "source": [
    "from qualtran.bloqs.for_testing.with_call_graph import TestBloqWithCallGraph\n",
    "from qualtran.drawing import show_call_graph\n",
    "\n",
    "bloq = TestBloqWithCallGraph()\n",
    "call_graph, _ = bloq.call_graph()\n",
    "show_call_graph(call_graph)"
   ]
  },
  {
   "cell_type": "markdown",
   "id": "d93b7d58-70e9-4628-99c2-59eff84367b2",
   "metadata": {},
   "source": [
    "## `GraphvizCounts`\n",
    "\n",
    "Under the hood, the above function uses the `GraphvizCounts` class, which describes how to format the display of each bloq and interfaces with Graphviz through `pydot`. "
   ]
  },
  {
   "cell_type": "code",
   "execution_count": null,
   "id": "9ed24e7b-5d73-4cd0-bd09-ec55bee79a9a",
   "metadata": {},
   "outputs": [],
   "source": [
    "from qualtran.drawing import GraphvizCounts\n",
    "\n",
    "drawer = GraphvizCounts(call_graph)\n",
    "\n",
    "# Additional methods are provided like `get_svg_bytes` which can\n",
    "# be written to a file to save the diagram.\n",
    "print(drawer.get_svg_bytes()[:400], '...')"
   ]
  },
  {
   "cell_type": "markdown",
   "id": "7ed9f005-4286-4c72-834d-08bb97abc5c0",
   "metadata": {},
   "source": [
    "## `GraphvizCallGraph`\n",
    "\n",
    "In the future, the default drawing style will switch to using `GraphvizCallGraph` to provide standardized control over how bloqs are displayed, and to annotate additional information about each bloq. At present, you must manually invoke this drawing class"
   ]
  },
  {
   "cell_type": "code",
   "execution_count": null,
   "id": "bdfdfb9a-abaf-4b25-95fd-1100a6a4c2c7",
   "metadata": {},
   "outputs": [],
   "source": [
    "from qualtran.drawing import GraphvizCallGraph\n",
    "\n",
    "drawer2 = GraphvizCallGraph(call_graph)\n",
    "drawer2.get_svg()"
   ]
  },
  {
   "cell_type": "markdown",
   "id": "ab093837-1973-4229-a4fa-49b3ac973066",
   "metadata": {},
   "source": [
    "For example, you can annotate each bloq with its t complexity"
   ]
  },
  {
   "cell_type": "code",
   "execution_count": null,
   "id": "60797c4a-93b5-4a38-8019-d38dbe376020",
   "metadata": {},
   "outputs": [],
   "source": [
    "# Collect T-Complexity data\n",
    "bloq_data = {}\n",
    "for bloq in call_graph.nodes:\n",
    "    tcomp = bloq.t_complexity()\n",
    "    record = {\n",
    "        'T count': tcomp.t,\n",
    "        'clifford': tcomp.clifford,\n",
    "        'rot': tcomp.rotations,\n",
    "    }\n",
    "    bloq_data[bloq] = record\n",
    "\n",
    "# Draw the call graph with the additional data\n",
    "GraphvizCallGraph(call_graph, bloq_data=bloq_data).get_svg()"
   ]
  },
  {
   "cell_type": "markdown",
   "id": "f501fe80-2c10-4052-b79d-17ecf11cc888",
   "metadata": {},
   "source": [
    "The abstract base class `_CallGraphDrawerBase` is provided with overridable methods if you need additional customization of how bloqs are displayed in the call graph."
   ]
  }
 ],
 "metadata": {
  "kernelspec": {
   "display_name": "Python 3 (ipykernel)",
   "language": "python",
   "name": "python3"
  },
  "language_info": {
   "codemirror_mode": {
    "name": "ipython",
    "version": 3
   },
   "file_extension": ".py",
   "mimetype": "text/x-python",
   "name": "python",
   "nbconvert_exporter": "python",
   "pygments_lexer": "ipython3",
   "version": "3.11.7"
  }
 },
 "nbformat": 4,
 "nbformat_minor": 5
}
