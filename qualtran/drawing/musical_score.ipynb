{
 "cells": [
  {
   "cell_type": "markdown",
   "id": "5fa41bdb",
   "metadata": {},
   "source": [
    "# Musical Score\n",
    "\n",
    "The internal representation of a `CompositeBloq` is a directed acyclic graph. Here, we lay out that graph on a \"musical score\", which avoids the problems of edges crossing over each other and is more familiar to quantum computing practitioners.\n",
    "\n",
    "A musical score is one where time proceeds from left to right and each horizontal line\n",
    "represents a qubit or register of qubits."
   ]
  },
  {
   "cell_type": "markdown",
   "id": "664d4689",
   "metadata": {},
   "source": [
    "## Graph\n",
    "\n",
    "Below is a graphviz-rendered view of a 4-bit and's decomposition."
   ]
  },
  {
   "cell_type": "code",
   "execution_count": null,
   "id": "d642c664",
   "metadata": {},
   "outputs": [],
   "source": [
    "from qualtran.bloqs.mcmt import MultiAnd\n",
    "from qualtran.drawing import show_bloq\n",
    "\n",
    "cbloq = MultiAnd((1,1,0,1)).decompose_bloq()\n",
    "show_bloq(cbloq)"
   ]
  },
  {
   "cell_type": "markdown",
   "id": "b5c0f814",
   "metadata": {},
   "source": [
    "## Matplotlib musical score\n",
    "\n",
    "The first step to drawing a musical score diagram is to call `get_musical_score_data` on the composite bloq, which will lay out the various symbols on the score and return a data structure containing position and other information. We provide two backends for actually drawing the score as laid out in `msd`. `draw_musical_score` will use matplotlib to draw a diagram."
   ]
  },
  {
   "cell_type": "code",
   "execution_count": null,
   "id": "fcbbcc9b",
   "metadata": {},
   "outputs": [],
   "source": [
    "from qualtran.drawing import get_musical_score_data, draw_musical_score\n",
    "msd = get_musical_score_data(cbloq)\n",
    "fig, ax = draw_musical_score(msd)\n",
    "fig.tight_layout()"
   ]
  },
  {
   "cell_type": "markdown",
   "id": "b76e47bd",
   "metadata": {},
   "source": [
    "## Javascript musical score\n",
    "\n",
    "We can dump the salient visualization information to JSON so it can be loaded from javascript and displayed using the d3-based drawing utilities in `musical_score.js`. See `musical_score.html` where we load in this information."
   ]
  },
  {
   "cell_type": "code",
   "execution_count": null,
   "id": "38271e89",
   "metadata": {},
   "outputs": [],
   "source": [
    "from qualtran.drawing import dump_musical_score\n",
    "\n",
    "dump_musical_score(msd, name='musical_score_example')"
   ]
  }
 ],
 "metadata": {
  "kernelspec": {
   "display_name": "Python 3 (ipykernel)",
   "language": "python",
   "name": "python3"
  },
  "language_info": {
   "codemirror_mode": {
    "name": "ipython",
    "version": 3
   },
   "file_extension": ".py",
   "mimetype": "text/x-python",
   "name": "python",
   "nbconvert_exporter": "python",
   "pygments_lexer": "ipython3",
   "version": "3.10.9"
  }
 },
 "nbformat": 4,
 "nbformat_minor": 5
}
