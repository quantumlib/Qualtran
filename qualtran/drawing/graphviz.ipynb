{
 "cells": [
  {
   "cell_type": "markdown",
   "id": "41fecc30",
   "metadata": {},
   "source": [
    "# CompositeBloq Graph Drawing\n",
    "\n",
    "`qualtran.drawing` includes classes for drawing a `CompositeBloq` as a directed acyclic graph. This uses the popular package `graphviz` to render the drawings. The simplest way to get started is by calling `show_bloq`."
   ]
  },
  {
   "cell_type": "markdown",
   "id": "088dd01d",
   "metadata": {},
   "source": [
    "## Basic Usage"
   ]
  },
  {
   "cell_type": "code",
   "execution_count": null,
   "id": "718515b1",
   "metadata": {},
   "outputs": [],
   "source": [
    "from qualtran.drawing import show_bloq\n",
    "\n",
    "# Use some test bloqs to show drawing features\n",
    "from qualtran.bloqs.for_testing import TestAtom, TestParallelCombo"
   ]
  },
  {
   "cell_type": "markdown",
   "id": "8b968c08",
   "metadata": {},
   "source": [
    "Each constituent bloq is a table whose header contains the bloq name. Each row is a register. Edges represent connections between soquets. Each edge is labeled with the bitsize of the connected registers. Dangling soquets (corresponding to the enclosing bloq's registers) are drawn as plain text."
   ]
  },
  {
   "cell_type": "code",
   "execution_count": null,
   "id": "767bb12a",
   "metadata": {},
   "outputs": [],
   "source": [
    "show_bloq(TestAtom())"
   ]
  },
  {
   "cell_type": "code",
   "execution_count": null,
   "id": "05c06c0c",
   "metadata": {},
   "outputs": [],
   "source": [
    "show_bloq(TestParallelCombo())"
   ]
  },
  {
   "cell_type": "code",
   "execution_count": null,
   "id": "58b65061",
   "metadata": {},
   "outputs": [],
   "source": [
    "cbloq = TestParallelCombo().decompose_bloq()\n",
    "show_bloq(cbloq)"
   ]
  },
  {
   "cell_type": "markdown",
   "id": "84fac4a3",
   "metadata": {},
   "source": [
    "## Advanced Usage"
   ]
  },
  {
   "cell_type": "markdown",
   "id": "431413a1",
   "metadata": {},
   "source": [
    "### `PrettyGraphDrawer` and `GraphDrawer`\n",
    "\n",
    "These classes contain the complete functionality for translating a composite bloq into a graphviz-compatible graph.\n",
    "\n",
    "By default, we use `PrettyGraphDrawer` which abbreviates names, hides some details of reshaping bloqs, and chooses drawing parameters to give a compact visualization of the bloq. For debugging purposes or to serve as a base class for modifying drawing parameters to your liking, consider `GraphDrawer` which relies solely on graphviz defaults."
   ]
  },
  {
   "cell_type": "code",
   "execution_count": null,
   "id": "76cd07ac",
   "metadata": {},
   "outputs": [],
   "source": [
    "from qualtran.drawing import PrettyGraphDrawer\n",
    "\n",
    "PrettyGraphDrawer(cbloq).get_svg()"
   ]
  },
  {
   "cell_type": "code",
   "execution_count": null,
   "id": "719532ad",
   "metadata": {},
   "outputs": [],
   "source": [
    "from qualtran.drawing import GraphDrawer\n",
    "\n",
    "GraphDrawer(cbloq).get_svg()"
   ]
  },
  {
   "cell_type": "markdown",
   "id": "971cf24c",
   "metadata": {},
   "source": [
    "### `ClassicalSimGraphDrawer`\n",
    "\n",
    "This simple extension of `GraphDrawer` annotates each edge according to classical data that flows through bloqs supporting the classical simulation protocol."
   ]
  },
  {
   "cell_type": "code",
   "execution_count": null,
   "id": "f6241147",
   "metadata": {},
   "outputs": [],
   "source": [
    "from qualtran.drawing import ClassicalSimGraphDrawer\n",
    "from qualtran.bloqs.mcmt import MultiAnd\n",
    "\n",
    "ClassicalSimGraphDrawer(\n",
    "    bloq=MultiAnd((1,1,1,1)).decompose_bloq(), \n",
    "    vals=dict(ctrl=[1,1,0,1])\n",
    ").get_svg()"
   ]
  },
  {
   "cell_type": "markdown",
   "id": "e5cd3633",
   "metadata": {},
   "source": [
    "### Graphviz and `pydot`\n",
    "\n",
    "We use `pydot` to manupulate graphviz graphs. You can get that graph directly:"
   ]
  },
  {
   "cell_type": "code",
   "execution_count": null,
   "id": "47f60696",
   "metadata": {
    "scrolled": false
   },
   "outputs": [],
   "source": [
    "graph = GraphDrawer(cbloq).get_graph()\n",
    "print(graph.to_string())"
   ]
  },
  {
   "cell_type": "markdown",
   "id": "bfaeb3e8",
   "metadata": {},
   "source": [
    "### Register Groups\n",
    "\n",
    "We group left and right registers with shared names. This section shows some usual and unusual register specifications to test the graphviz logic for making the table rows match up."
   ]
  },
  {
   "cell_type": "code",
   "execution_count": null,
   "id": "12aa623b",
   "metadata": {},
   "outputs": [],
   "source": [
    "from qualtran import Bloq, Register, Signature, Side, QAny\n",
    "\n",
    "class SignatureBloq(Bloq):\n",
    "    \"\"\"Placeholder bloq that lets you specify its signature.\"\"\"\n",
    "    def __init__(self, signature: Signature):\n",
    "        self._signature = signature\n",
    "        \n",
    "    @property\n",
    "    def signature(self) -> Signature:\n",
    "        return self._signature\n",
    "        \n",
    "    def pretty_name(self):\n",
    "        return 'Bloq'"
   ]
  },
  {
   "cell_type": "code",
   "execution_count": null,
   "id": "d0233c20",
   "metadata": {},
   "outputs": [],
   "source": [
    "bloq = SignatureBloq(Signature([\n",
    "    Register('x', QAny(100)),\n",
    "    Register('y', QAny(200)),\n",
    "]))\n",
    "show_bloq(bloq)"
   ]
  },
  {
   "cell_type": "code",
   "execution_count": null,
   "id": "2ea26cf4",
   "metadata": {},
   "outputs": [],
   "source": [
    "bloq = SignatureBloq(Signature([\n",
    "    Register('x', QAny(100)),\n",
    "    Register('a', QAny(2), shape=(2,), side=Side.LEFT),\n",
    "    Register('y', QAny(200)),\n",
    "]))\n",
    "show_bloq(bloq)"
   ]
  },
  {
   "cell_type": "code",
   "execution_count": null,
   "id": "a34add74",
   "metadata": {},
   "outputs": [],
   "source": [
    "bloq = SignatureBloq(Signature([\n",
    "    Register('x', QAny(100)),\n",
    "    Register('a', QAny(2), shape=(2,2), side=Side.LEFT),\n",
    "    Register('a', QAny(8),  side=Side.RIGHT),\n",
    "    Register('y', QAny(200)),\n",
    "]))\n",
    "show_bloq(bloq)"
   ]
  },
  {
   "cell_type": "code",
   "execution_count": null,
   "id": "656c7f39",
   "metadata": {},
   "outputs": [],
   "source": [
    "bloq = SignatureBloq(Signature([\n",
    "    Register('x', QAny(100)),\n",
    "    Register('a', QAny(2), shape=(2,2), side=Side.LEFT),\n",
    "    Register('a', QAny(4), shape=(2,), side=Side.RIGHT),\n",
    "    Register('y', QAny(200)),\n",
    "]))\n",
    "show_bloq(bloq)"
   ]
  }
 ],
 "metadata": {
  "kernelspec": {
   "display_name": "Python 3 (ipykernel)",
   "language": "python",
   "name": "python3"
  },
  "language_info": {
   "codemirror_mode": {
    "name": "ipython",
    "version": 3
   },
   "file_extension": ".py",
   "mimetype": "text/x-python",
   "name": "python",
   "nbconvert_exporter": "python",
   "pygments_lexer": "ipython3",
   "version": "3.11.6"
  }
 },
 "nbformat": 4,
 "nbformat_minor": 5
}
