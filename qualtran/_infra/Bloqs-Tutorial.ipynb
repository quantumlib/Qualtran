{
 "cells": [
  {
   "cell_type": "markdown",
   "id": "9640a40f",
   "metadata": {},
   "source": [
    "# Bloqs Tutorial\n",
    "\n",
    "Qualtran lets you represent high-level quantum programs and subroutines as a hierarchical\n",
    "collection of Python objects. The main interface is the `Bloq` abstract base class."
   ]
  },
  {
   "cell_type": "code",
   "execution_count": 1,
   "id": "37c9b7ce",
   "metadata": {},
   "outputs": [],
   "source": [
    "import abc\n",
    "from typing import *\n",
    "\n",
    "\n",
    "class Bloq(metaclass=abc.ABCMeta):\n",
    "    ..."
   ]
  },
  {
   "cell_type": "markdown",
   "id": "d4169ffa",
   "metadata": {},
   "source": [
    "We use a graph-like container to wire up collections of bloqs to define new bloqs.\n",
    "\n",
    "By the end of this tutorial, you should understand how to declare bloqs, wire them up, use named registers, use high-bitsize registers, use 'bookkeeping' operations to split and join wires, represent allocations as operations in the graph, and use linear logic to prevent violations of the no cloning theorem."
   ]
  },
  {
   "cell_type": "markdown",
   "id": "7a3d76e5",
   "metadata": {},
   "source": [
    "## Basics\n",
    "\n",
    "There are two important flavors of implementations of the `Bloq` interface. The first flavor\n",
    "consists of bloqs implemented by you, the user-developer to express quantum operations of\n",
    "interest. For example:"
   ]
  },
  {
   "cell_type": "code",
   "execution_count": 2,
   "id": "4aaf9451",
   "metadata": {},
   "outputs": [],
   "source": [
    "class ShorsAlgorithm(Bloq):\n",
    "    ..."
   ]
  },
  {
   "cell_type": "markdown",
   "id": "9b504f60",
   "metadata": {},
   "source": [
    "The other important `Bloq` subclass is `CompositeBloq`, which is a container type for a\n",
    "collection of sub-bloqs. We'll investigate this class more later. First, let's define a\n",
    "bloq for a simple quantum operation: the controlled-not (CNOT)."
   ]
  },
  {
   "cell_type": "code",
   "execution_count": 3,
   "id": "114b1560",
   "metadata": {},
   "outputs": [],
   "source": [
    "class CNOT(Bloq):\n",
    "    ..."
   ]
  },
  {
   "cell_type": "markdown",
   "id": "c632807b",
   "metadata": {},
   "source": [
    "There is only one mandatory method we must implement to have a well-formed `Bloq`. There\n",
    "are many other methods we can optionally implement to encode more information about the\n",
    "bloq, which we will add as we go along.\n",
    "\n",
    "The mandatory method is the `Bloq.signature` property. This declares what the inputs and\n",
    "outputs are for our bloq, and is a list of registers. A register has a name and quantum-type\n",
    "information. By default, a register declares both an input and an output allowing quantum\n",
    "data to pass through it, like the \"control\" register below. We call these `THRU` registers.\n",
    "\n",
    "The `Bloq.signature` property can be thought of as analogous\n",
    "to the function signature in ordinary programming. You can think of a bloq\n",
    "with just this property implemented like a function\n",
    "declarations in a C header (`*.h`) file."
   ]
  },
  {
   "cell_type": "code",
   "execution_count": 4,
   "id": "22d8749d",
   "metadata": {},
   "outputs": [
    {
     "data": {
      "text/plain": "Register(name='control', bitsize=1, shape=(), side=<Side.THRU: 3>)"
     },
     "execution_count": 4,
     "metadata": {},
     "output_type": "execute_result"
    }
   ],
   "source": [
    "from qualtran import Register, QBit\n",
    "\n",
    "Register('control', QBit())"
   ]
  },
  {
   "cell_type": "markdown",
   "id": "11e163ca",
   "metadata": {},
   "source": [
    "The above declares a register named \"control\" with a size of 1. We'll return this as well\n",
    "as a register for the \"target\" input/output of the CNOT bloq wrapped in the `Signature`\n",
    "container. <div class=\"alert alert-block alert-info\">The `attrs.frozen` annotation removes some of the boilerplate to write an immutable Python class with a pre-defined set of attributes.</div>"
   ]
  },
  {
   "cell_type": "code",
   "execution_count": 5,
   "id": "34a159c4",
   "metadata": {},
   "outputs": [],
   "source": [
    "import attrs\n",
    "from qualtran import Bloq, Signature\n",
    "\n",
    "@attrs.frozen\n",
    "class CNOT(Bloq):\n",
    "    @property\n",
    "    def signature(self):\n",
    "        return Signature([\n",
    "            Register('control', QBit()),\n",
    "            Register('target', QBit()),\n",
    "        ])"
   ]
  },
  {
   "cell_type": "markdown",
   "id": "8533a7f5",
   "metadata": {},
   "source": [
    "We now have a well-formed bloq. We can instantiate it and visualize it."
   ]
  },
  {
   "cell_type": "code",
   "execution_count": 6,
   "id": "5cec9aff",
   "metadata": {},
   "outputs": [
    {
     "name": "stderr",
     "output_type": "stream",
     "text": [
      "OMP: Info #276: omp_set_nested routine deprecated, please use omp_set_max_active_levels instead.\n",
      "/Users/samuelkushnir/miniconda3/envs/Qualtran/lib/python3.10/site-packages/cotengra/hyperoptimizers/hyper.py:34: UserWarning: Couldn't import `kahypar` - skipping from default hyper optimizer and using basic `labels` method instead.\n",
      "  warnings.warn(\n"
     ]
    },
    {
     "data": {
      "text/plain": "<IPython.core.display.SVG object>",
      "image/svg+xml": "<svg xmlns=\"http://www.w3.org/2000/svg\" xmlns:xlink=\"http://www.w3.org/1999/xlink\" width=\"235pt\" height=\"98pt\" viewBox=\"0.00 0.00 234.50 98.00\">\n<g id=\"graph0\" class=\"graph\" transform=\"scale(1 1) rotate(0) translate(4 94)\">\n<title>my_graph</title>\n<polygon fill=\"white\" stroke=\"none\" points=\"-4,4 -4,-94 230.5,-94 230.5,4 -4,4\"/>\n<!-- control_G3 -->\n<g id=\"node1\" class=\"node\">\n<title>control_G3</title>\n<text text-anchor=\"middle\" x=\"27.12\" y=\"-66.95\" font-family=\"Times,serif\" font-size=\"14.00\">control</text>\n</g>\n<!-- CNOT -->\n<g id=\"node3\" class=\"node\">\n<title>CNOT</title>\n<polygon fill=\"none\" stroke=\"black\" points=\"91.25,-66.5 91.25,-83.5 135.25,-83.5 135.25,-66.5 91.25,-66.5\"/>\n<text text-anchor=\"start\" x=\"99.38\" y=\"-71\" font-family=\"Times,serif\" font-size=\"10.00\">CNOT</text>\n<polygon fill=\"none\" stroke=\"black\" points=\"91.25,-44.5 91.25,-66.5 135.25,-66.5 135.25,-44.5 91.25,-44.5\"/>\n<text text-anchor=\"start\" x=\"94.12\" y=\"-50.2\" font-family=\"Times,serif\" font-size=\"14.00\">control</text>\n<polygon fill=\"none\" stroke=\"black\" points=\"91.25,-22.5 91.25,-44.5 135.25,-44.5 135.25,-22.5 91.25,-22.5\"/>\n<text text-anchor=\"start\" x=\"97.88\" y=\"-28.2\" font-family=\"Times,serif\" font-size=\"14.00\">target</text>\n</g>\n<!-- control_G3&#45;&gt;CNOT -->\n<g id=\"edge1\" class=\"edge\">\n<title>control_G3:e-&gt;CNOT:w</title>\n<path fill=\"none\" stroke=\"black\" d=\"M54.25,-72C71.19,-72 73.16,-57.7 88.46,-56.14\"/>\n<ellipse fill=\"black\" stroke=\"black\" cx=\"89.75\" cy=\"-56.07\" rx=\"1\" ry=\"1\"/>\n<text text-anchor=\"middle\" x=\"72.75\" y=\"-65.75\" font-family=\"Times,serif\" font-size=\"10.00\">1</text>\n</g>\n<!-- target_G0 -->\n<g id=\"node2\" class=\"node\">\n<title>target_G0</title>\n<text text-anchor=\"middle\" x=\"27.12\" y=\"-12.95\" font-family=\"Times,serif\" font-size=\"14.00\">target</text>\n</g>\n<!-- target_G0&#45;&gt;CNOT -->\n<g id=\"edge2\" class=\"edge\">\n<title>target_G0:e-&gt;CNOT:w</title>\n<path fill=\"none\" stroke=\"black\" d=\"M54.25,-18C71.02,-18 73.29,-31.4 88.48,-32.87\"/>\n<ellipse fill=\"black\" stroke=\"black\" cx=\"89.75\" cy=\"-32.93\" rx=\"1\" ry=\"1\"/>\n<text text-anchor=\"middle\" x=\"72.75\" y=\"-27.75\" font-family=\"Times,serif\" font-size=\"10.00\">1</text>\n</g>\n<!-- control_G2 -->\n<g id=\"node4\" class=\"node\">\n<title>control_G2</title>\n<text text-anchor=\"middle\" x=\"199.38\" y=\"-66.95\" font-family=\"Times,serif\" font-size=\"14.00\">control</text>\n</g>\n<!-- CNOT&#45;&gt;control_G2 -->\n<g id=\"edge3\" class=\"edge\">\n<title>CNOT:e-&gt;control_G2:w</title>\n<path fill=\"none\" stroke=\"black\" d=\"M135.25,-56C152.19,-56 154.16,-70.3 169.46,-71.86\"/>\n<ellipse fill=\"black\" stroke=\"black\" cx=\"170.75\" cy=\"-71.93\" rx=\"1\" ry=\"1\"/>\n<text text-anchor=\"middle\" x=\"153.75\" y=\"-65.75\" font-family=\"Times,serif\" font-size=\"10.00\">1</text>\n</g>\n<!-- target_G5 -->\n<g id=\"node5\" class=\"node\">\n<title>target_G5</title>\n<text text-anchor=\"middle\" x=\"199.38\" y=\"-12.95\" font-family=\"Times,serif\" font-size=\"14.00\">target</text>\n</g>\n<!-- CNOT&#45;&gt;target_G5 -->\n<g id=\"edge4\" class=\"edge\">\n<title>CNOT:e-&gt;target_G5:w</title>\n<path fill=\"none\" stroke=\"black\" d=\"M135.25,-33C152.02,-33 154.29,-19.6 169.48,-18.13\"/>\n<ellipse fill=\"black\" stroke=\"black\" cx=\"170.75\" cy=\"-18.07\" rx=\"1\" ry=\"1\"/>\n<text text-anchor=\"middle\" x=\"153.75\" y=\"-27.75\" font-family=\"Times,serif\" font-size=\"10.00\">1</text>\n</g>\n</g>\n</svg>"
     },
     "metadata": {},
     "output_type": "display_data"
    }
   ],
   "source": [
    "from qualtran.drawing import show_bloq\n",
    "\n",
    "cnot = CNOT()\n",
    "show_bloq(cnot)"
   ]
  },
  {
   "cell_type": "markdown",
   "id": "da9baea0",
   "metadata": {},
   "source": [
    "This is the absolute minimum amount of information needed to define a Bloq: a name (i.e.\n",
    "the class name) and a `signature` property. <div class=\"alert alert-block alert-warning\">If you're familiar with Cirq, you can consider\n",
    "a `cirq.Gate` to be analogous to a `Bloq` with one register named \"qubits\" of size `n`. In\n",
    "fact, `CirqGateAsBloq` lets you wrap any Cirq gate in\n",
    "this way.</div>"
   ]
  },
  {
   "cell_type": "markdown",
   "id": "9b36a23d",
   "metadata": {},
   "source": [
    "## Decomposing Bloqs\n",
    "\n",
    "As you can probably guess, such a simple block-box model of an operation has limited utility.\n",
    "We now turn our attention to a second bloq: SWAP -- which we will define in terms of its\n",
    "decomposition into three CNOTs."
   ]
  },
  {
   "cell_type": "code",
   "execution_count": 7,
   "id": "c2bf35bf",
   "metadata": {},
   "outputs": [],
   "source": [
    "class SwapTwoBits(Bloq):\n",
    "    ..."
   ]
  },
  {
   "cell_type": "markdown",
   "id": "1bdf983c",
   "metadata": {},
   "source": [
    "As before, we must define the function signature by naming and sizing the registers on\n",
    "which it operates. We'll implement a bloq that swaps two (qu)bits. We'll name the arguments\n",
    "`x` and `y`, but you have some creative freedom with these choices. <div class=\"alert alert-block alert-info\">We've been filling in the `name` and `bitsize`\n",
    "attributes for our registers. The other two attributes are for more advanced usage and\n",
    "will be covered later. In simple cases, we could use the convenience method\n",
    "`Signature.build(x=1, y=1)` for the same object below.</div>"
   ]
  },
  {
   "cell_type": "code",
   "execution_count": 8,
   "id": "9e548b5f",
   "metadata": {},
   "outputs": [],
   "source": [
    "class SwapTwoBits(Bloq):\n",
    "    @property\n",
    "    def signature(self):\n",
    "        return Signature([\n",
    "            Register('x', QBit()),\n",
    "            Register('y', QBit()),\n",
    "        ])"
   ]
  },
  {
   "cell_type": "markdown",
   "id": "54bf8781",
   "metadata": {},
   "source": [
    "Now, for the moment you've been waiting for. We can define the implementation of SWAP in terms\n",
    "of sub-operations. `Bloq.decompose_bloq()` will decompose a bloq into its component parts.\n",
    "The return type of this operation is `CompositeBloq` -- our bloq container type which itself\n",
    "follows the `Bloq` interface.\n",
    "\n",
    "Instead of overriding `decompose_bloq()` directly, we override `build_composite_bloq`, which\n",
    "makes it easier for you, the user-developer, to write decompositions."
   ]
  },
  {
   "cell_type": "code",
   "execution_count": 9,
   "id": "305ad1ed",
   "metadata": {},
   "outputs": [],
   "source": [
    "from qualtran import BloqBuilder\n",
    "\n",
    "class SwapTwoBits(Bloq):\n",
    "    ...\n",
    "\n",
    "    def build_composite_bloq(self, bb: BloqBuilder, *, x, y):\n",
    "        ..."
   ]
  },
  {
   "cell_type": "markdown",
   "id": "dfdfc199",
   "metadata": {},
   "source": [
    "The bloqs infrastructure will pass in keyword arguments for each of the input registers,\n",
    "here `x` and `y`. I stress that these names must match the names of the registers declared\n",
    "in the `.signatures` property. The infrastructure also passes in a `BloqBuilder`\n",
    "which is what you will use to add suboperations to the composite bloq storing your\n",
    "decomposition.\n",
    "\n",
    "We use `bb.add(...)` to add sub-operations. For our swap operation, we will need to call\n",
    "`add` three times for each of the CNOTs. The signature is: `bb.add(bloq, **bloq_args)` where\n",
    "the first argument is an instantiation of the bloq we want to add, and then keyword arguments\n",
    "providing the input quantum variables. This call will return quantum variables representing\n",
    "the outputs of the operation that are suitable for using as inputs to subsequent operations.\n",
    "\n",
    "The method returns a dictionary mapping (output) register names to the final quantum variables."
   ]
  },
  {
   "cell_type": "code",
   "execution_count": 11,
   "id": "1b2af153",
   "metadata": {},
   "outputs": [],
   "source": [
    "class SwapTwoBits(Bloq):\n",
    "    @property\n",
    "    def signature(self):\n",
    "        return Signature([\n",
    "            Register('x', QBit()),\n",
    "            Register('y', QBit()),\n",
    "        ])\n",
    "\n",
    "    def build_composite_bloq(self, bb: BloqBuilder, *, x, y):\n",
    "        x, y = bb.add(CNOT(), control=x, target=y)\n",
    "        y, x = bb.add(CNOT(), control=y, target=x)\n",
    "        x, y = bb.add(CNOT(), control=x, target=y)\n",
    "        return {'x': x, 'y': y}"
   ]
  },
  {
   "cell_type": "code",
   "execution_count": 20,
   "outputs": [
    {
     "ename": "KeyboardInterrupt",
     "evalue": "",
     "output_type": "error",
     "traceback": [
      "\u001B[0;31m---------------------------------------------------------------------------\u001B[0m",
      "\u001B[0;31mKeyboardInterrupt\u001B[0m                         Traceback (most recent call last)",
      "Cell \u001B[0;32mIn[20], line 3\u001B[0m\n\u001B[1;32m      1\u001B[0m swap \u001B[38;5;241m=\u001B[39m SwapTwoBits()\n\u001B[1;32m      2\u001B[0m listEl \u001B[38;5;241m=\u001B[39m \u001B[38;5;28mlist\u001B[39m(swap\u001B[38;5;241m.\u001B[39mdecompose_bloq()\u001B[38;5;241m.\u001B[39miter_bloqsoqs())\n\u001B[0;32m----> 3\u001B[0m \u001B[38;5;28;01mfor\u001B[39;00m el \u001B[38;5;129;01min\u001B[39;00m \u001B[43mswap\u001B[49m\u001B[38;5;241m.\u001B[39mdecompose_bloq()\u001B[38;5;241m.\u001B[39miter_bloqsoqs():\n\u001B[1;32m      4\u001B[0m     \u001B[38;5;28mprint\u001B[39m(el)\n",
      "Cell \u001B[0;32mIn[20], line 3\u001B[0m\n\u001B[1;32m      1\u001B[0m swap \u001B[38;5;241m=\u001B[39m SwapTwoBits()\n\u001B[1;32m      2\u001B[0m listEl \u001B[38;5;241m=\u001B[39m \u001B[38;5;28mlist\u001B[39m(swap\u001B[38;5;241m.\u001B[39mdecompose_bloq()\u001B[38;5;241m.\u001B[39miter_bloqsoqs())\n\u001B[0;32m----> 3\u001B[0m \u001B[38;5;28;01mfor\u001B[39;00m el \u001B[38;5;129;01min\u001B[39;00m \u001B[43mswap\u001B[49m\u001B[38;5;241m.\u001B[39mdecompose_bloq()\u001B[38;5;241m.\u001B[39miter_bloqsoqs():\n\u001B[1;32m      4\u001B[0m     \u001B[38;5;28mprint\u001B[39m(el)\n",
      "File \u001B[0;32m_pydevd_bundle/pydevd_cython_darwin_310_64.pyx:1179\u001B[0m, in \u001B[0;36m_pydevd_bundle.pydevd_cython_darwin_310_64.SafeCallWrapper.__call__\u001B[0;34m()\u001B[0m\n",
      "File \u001B[0;32m_pydevd_bundle/pydevd_cython_darwin_310_64.pyx:620\u001B[0m, in \u001B[0;36m_pydevd_bundle.pydevd_cython_darwin_310_64.PyDBFrame.trace_dispatch\u001B[0;34m()\u001B[0m\n",
      "File \u001B[0;32m_pydevd_bundle/pydevd_cython_darwin_310_64.pyx:929\u001B[0m, in \u001B[0;36m_pydevd_bundle.pydevd_cython_darwin_310_64.PyDBFrame.trace_dispatch\u001B[0;34m()\u001B[0m\n",
      "File \u001B[0;32m_pydevd_bundle/pydevd_cython_darwin_310_64.pyx:920\u001B[0m, in \u001B[0;36m_pydevd_bundle.pydevd_cython_darwin_310_64.PyDBFrame.trace_dispatch\u001B[0;34m()\u001B[0m\n",
      "File \u001B[0;32m_pydevd_bundle/pydevd_cython_darwin_310_64.pyx:317\u001B[0m, in \u001B[0;36m_pydevd_bundle.pydevd_cython_darwin_310_64.PyDBFrame.do_wait_suspend\u001B[0;34m()\u001B[0m\n",
      "File \u001B[0;32m/Applications/PyCharm.app/Contents/plugins/python/helpers/pydev/pydevd.py:1160\u001B[0m, in \u001B[0;36mPyDB.do_wait_suspend\u001B[0;34m(self, thread, frame, event, arg, send_suspend_message, is_unhandled_exception)\u001B[0m\n\u001B[1;32m   1157\u001B[0m         from_this_thread\u001B[38;5;241m.\u001B[39mappend(frame_id)\n\u001B[1;32m   1159\u001B[0m \u001B[38;5;28;01mwith\u001B[39;00m \u001B[38;5;28mself\u001B[39m\u001B[38;5;241m.\u001B[39m_threads_suspended_single_notification\u001B[38;5;241m.\u001B[39mnotify_thread_suspended(thread_id, stop_reason):\n\u001B[0;32m-> 1160\u001B[0m     \u001B[38;5;28;43mself\u001B[39;49m\u001B[38;5;241;43m.\u001B[39;49m\u001B[43m_do_wait_suspend\u001B[49m\u001B[43m(\u001B[49m\u001B[43mthread\u001B[49m\u001B[43m,\u001B[49m\u001B[43m \u001B[49m\u001B[43mframe\u001B[49m\u001B[43m,\u001B[49m\u001B[43m \u001B[49m\u001B[43mevent\u001B[49m\u001B[43m,\u001B[49m\u001B[43m \u001B[49m\u001B[43marg\u001B[49m\u001B[43m,\u001B[49m\u001B[43m \u001B[49m\u001B[43msuspend_type\u001B[49m\u001B[43m,\u001B[49m\u001B[43m \u001B[49m\u001B[43mfrom_this_thread\u001B[49m\u001B[43m)\u001B[49m\n",
      "File \u001B[0;32m/Applications/PyCharm.app/Contents/plugins/python/helpers/pydev/pydevd.py:1175\u001B[0m, in \u001B[0;36mPyDB._do_wait_suspend\u001B[0;34m(self, thread, frame, event, arg, suspend_type, from_this_thread)\u001B[0m\n\u001B[1;32m   1172\u001B[0m             \u001B[38;5;28mself\u001B[39m\u001B[38;5;241m.\u001B[39m_call_mpl_hook()\n\u001B[1;32m   1174\u001B[0m         \u001B[38;5;28mself\u001B[39m\u001B[38;5;241m.\u001B[39mprocess_internal_commands()\n\u001B[0;32m-> 1175\u001B[0m         \u001B[43mtime\u001B[49m\u001B[38;5;241;43m.\u001B[39;49m\u001B[43msleep\u001B[49m\u001B[43m(\u001B[49m\u001B[38;5;241;43m0.01\u001B[39;49m\u001B[43m)\u001B[49m\n\u001B[1;32m   1177\u001B[0m \u001B[38;5;28mself\u001B[39m\u001B[38;5;241m.\u001B[39mcancel_async_evaluation(get_current_thread_id(thread), \u001B[38;5;28mstr\u001B[39m(\u001B[38;5;28mid\u001B[39m(frame)))\n\u001B[1;32m   1179\u001B[0m \u001B[38;5;66;03m# process any stepping instructions\u001B[39;00m\n",
      "\u001B[0;31mKeyboardInterrupt\u001B[0m: "
     ]
    }
   ],
   "source": [
    "swap = SwapTwoBits()\n",
    "listEl = list(swap.decompose_bloq().iter_bloqsoqs())\n",
    "for el in swap.decompose_bloq().iter_bloqsoqs():\n",
    "    print(el)"
   ],
   "metadata": {
    "collapsed": false
   }
  },
  {
   "cell_type": "markdown",
   "id": "9ade0bc3",
   "metadata": {},
   "source": [
    "Note that each CNOT operation takes two arguments named \"control\" and \"target\" and returns\n",
    "two quantum variables which are ordered according to the ordering of the registers\n",
    "in `CNOT.signature` (so in this case: control, target).\n",
    "\n",
    "Let's see what this looks like."
   ]
  },
  {
   "cell_type": "code",
   "execution_count": 12,
   "id": "676dddd5",
   "metadata": {},
   "outputs": [
    {
     "data": {
      "text/plain": "<IPython.core.display.SVG object>",
      "image/svg+xml": "<svg xmlns=\"http://www.w3.org/2000/svg\" xmlns:xlink=\"http://www.w3.org/1999/xlink\" width=\"247pt\" height=\"98pt\" viewBox=\"0.00 0.00 247.00 98.00\">\n<g id=\"graph0\" class=\"graph\" transform=\"scale(1 1) rotate(0) translate(4 94)\">\n<title>my_graph</title>\n<polygon fill=\"white\" stroke=\"none\" points=\"-4,4 -4,-94 243,-94 243,4 -4,4\"/>\n<!-- x_G0 -->\n<g id=\"node1\" class=\"node\">\n<title>x_G0</title>\n<text text-anchor=\"middle\" x=\"27\" y=\"-66.95\" font-family=\"Times,serif\" font-size=\"14.00\">x</text>\n</g>\n<!-- SwapTwoBits -->\n<g id=\"node3\" class=\"node\">\n<title>SwapTwoBits</title>\n<polygon fill=\"none\" stroke=\"black\" points=\"91,-66.5 91,-83.5 148,-83.5 148,-66.5 91,-66.5\"/>\n<text text-anchor=\"start\" x=\"93.62\" y=\"-71\" font-family=\"Times,serif\" font-size=\"10.00\">SwapTwoB..</text>\n<polygon fill=\"none\" stroke=\"black\" points=\"91,-44.5 91,-66.5 148,-66.5 148,-44.5 91,-44.5\"/>\n<text text-anchor=\"start\" x=\"116.12\" y=\"-50.2\" font-family=\"Times,serif\" font-size=\"14.00\">x</text>\n<polygon fill=\"none\" stroke=\"black\" points=\"91,-22.5 91,-44.5 148,-44.5 148,-22.5 91,-22.5\"/>\n<text text-anchor=\"start\" x=\"116.12\" y=\"-28.2\" font-family=\"Times,serif\" font-size=\"14.00\">y</text>\n</g>\n<!-- x_G0&#45;&gt;SwapTwoBits -->\n<g id=\"edge1\" class=\"edge\">\n<title>x_G0:e-&gt;SwapTwoBits:w</title>\n<path fill=\"none\" stroke=\"black\" d=\"M54,-72C70.94,-72 72.91,-57.7 88.21,-56.14\"/>\n<ellipse fill=\"black\" stroke=\"black\" cx=\"89.5\" cy=\"-56.07\" rx=\"1\" ry=\"1\"/>\n<text text-anchor=\"middle\" x=\"72.5\" y=\"-65.75\" font-family=\"Times,serif\" font-size=\"10.00\">1</text>\n</g>\n<!-- y_G4 -->\n<g id=\"node2\" class=\"node\">\n<title>y_G4</title>\n<text text-anchor=\"middle\" x=\"27\" y=\"-12.95\" font-family=\"Times,serif\" font-size=\"14.00\">y</text>\n</g>\n<!-- y_G4&#45;&gt;SwapTwoBits -->\n<g id=\"edge2\" class=\"edge\">\n<title>y_G4:e-&gt;SwapTwoBits:w</title>\n<path fill=\"none\" stroke=\"black\" d=\"M54,-18C70.77,-18 73.04,-31.4 88.23,-32.87\"/>\n<ellipse fill=\"black\" stroke=\"black\" cx=\"89.5\" cy=\"-32.93\" rx=\"1\" ry=\"1\"/>\n<text text-anchor=\"middle\" x=\"72.5\" y=\"-27.75\" font-family=\"Times,serif\" font-size=\"10.00\">1</text>\n</g>\n<!-- x_G3 -->\n<g id=\"node4\" class=\"node\">\n<title>x_G3</title>\n<text text-anchor=\"middle\" x=\"212\" y=\"-66.95\" font-family=\"Times,serif\" font-size=\"14.00\">x</text>\n</g>\n<!-- SwapTwoBits&#45;&gt;x_G3 -->\n<g id=\"edge3\" class=\"edge\">\n<title>SwapTwoBits:e-&gt;x_G3:w</title>\n<path fill=\"none\" stroke=\"black\" d=\"M148,-56C164.94,-56 166.91,-70.3 182.21,-71.86\"/>\n<ellipse fill=\"black\" stroke=\"black\" cx=\"183.5\" cy=\"-71.93\" rx=\"1\" ry=\"1\"/>\n<text text-anchor=\"middle\" x=\"166.5\" y=\"-65.75\" font-family=\"Times,serif\" font-size=\"10.00\">1</text>\n</g>\n<!-- y_G5 -->\n<g id=\"node5\" class=\"node\">\n<title>y_G5</title>\n<text text-anchor=\"middle\" x=\"212\" y=\"-12.95\" font-family=\"Times,serif\" font-size=\"14.00\">y</text>\n</g>\n<!-- SwapTwoBits&#45;&gt;y_G5 -->\n<g id=\"edge4\" class=\"edge\">\n<title>SwapTwoBits:e-&gt;y_G5:w</title>\n<path fill=\"none\" stroke=\"black\" d=\"M148,-33C164.77,-33 167.04,-19.6 182.23,-18.13\"/>\n<ellipse fill=\"black\" stroke=\"black\" cx=\"183.5\" cy=\"-18.07\" rx=\"1\" ry=\"1\"/>\n<text text-anchor=\"middle\" x=\"166.5\" y=\"-27.75\" font-family=\"Times,serif\" font-size=\"10.00\">1</text>\n</g>\n</g>\n</svg>"
     },
     "metadata": {},
     "output_type": "display_data"
    }
   ],
   "source": [
    "swap = SwapTwoBits()\n",
    "show_bloq(swap)"
   ]
  },
  {
   "cell_type": "markdown",
   "id": "87172163",
   "metadata": {},
   "source": [
    "Wait! This is still just a two-bit black box! I thought we defined the bloq by its decomposition.\n",
    "The Bloq object always represents the atomic operation and `CompositeBloq` always represents\n",
    "a collection of sub-operations. We have to explicitly request the decomposition if that's\n",
    "what we want to visualize."
   ]
  },
  {
   "cell_type": "code",
   "execution_count": 48,
   "id": "f08bb50b",
   "metadata": {},
   "outputs": [
    {
     "data": {
      "text/plain": "<IPython.core.display.SVG object>",
      "image/svg+xml": "<svg xmlns=\"http://www.w3.org/2000/svg\" xmlns:xlink=\"http://www.w3.org/1999/xlink\" width=\"396pt\" height=\"98pt\" viewBox=\"0.00 0.00 396.00 98.00\">\n<g id=\"graph0\" class=\"graph\" transform=\"scale(1 1) rotate(0) translate(4 94)\">\n<title>my_graph</title>\n<polygon fill=\"white\" stroke=\"none\" points=\"-4,4 -4,-94 392,-94 392,4 -4,4\"/>\n<!-- x -->\n<g id=\"node1\" class=\"node\">\n<title>x</title>\n<text text-anchor=\"middle\" x=\"27\" y=\"-66.95\" font-family=\"Times,serif\" font-size=\"14.00\">x</text>\n</g>\n<!-- CNOT -->\n<g id=\"node3\" class=\"node\">\n<title>CNOT</title>\n<polygon fill=\"none\" stroke=\"black\" points=\"91,-66.5 91,-83.5 135,-83.5 135,-66.5 91,-66.5\"/>\n<text text-anchor=\"start\" x=\"99.12\" y=\"-71\" font-family=\"Times,serif\" font-size=\"10.00\">CNOT</text>\n<polygon fill=\"none\" stroke=\"black\" points=\"91,-44.5 91,-66.5 135,-66.5 135,-44.5 91,-44.5\"/>\n<text text-anchor=\"start\" x=\"93.88\" y=\"-50.2\" font-family=\"Times,serif\" font-size=\"14.00\">control</text>\n<polygon fill=\"none\" stroke=\"black\" points=\"91,-22.5 91,-44.5 135,-44.5 135,-22.5 91,-22.5\"/>\n<text text-anchor=\"start\" x=\"97.62\" y=\"-28.2\" font-family=\"Times,serif\" font-size=\"14.00\">target</text>\n</g>\n<!-- x&#45;&gt;CNOT -->\n<g id=\"edge1\" class=\"edge\">\n<title>x:e-&gt;CNOT:w</title>\n<path fill=\"none\" stroke=\"black\" d=\"M54,-72C70.94,-72 72.91,-57.7 88.21,-56.14\"/>\n<ellipse fill=\"black\" stroke=\"black\" cx=\"89.5\" cy=\"-56.07\" rx=\"1\" ry=\"1\"/>\n<text text-anchor=\"middle\" x=\"72.5\" y=\"-65.75\" font-family=\"Times,serif\" font-size=\"10.00\">1</text>\n</g>\n<!-- y_G10 -->\n<g id=\"node2\" class=\"node\">\n<title>y_G10</title>\n<text text-anchor=\"middle\" x=\"27\" y=\"-12.95\" font-family=\"Times,serif\" font-size=\"14.00\">y</text>\n</g>\n<!-- y_G10&#45;&gt;CNOT -->\n<g id=\"edge2\" class=\"edge\">\n<title>y_G10:e-&gt;CNOT:w</title>\n<path fill=\"none\" stroke=\"black\" d=\"M54,-18C70.77,-18 73.04,-31.4 88.23,-32.87\"/>\n<ellipse fill=\"black\" stroke=\"black\" cx=\"89.5\" cy=\"-32.93\" rx=\"1\" ry=\"1\"/>\n<text text-anchor=\"middle\" x=\"72.5\" y=\"-27.75\" font-family=\"Times,serif\" font-size=\"10.00\">1</text>\n</g>\n<!-- CNOT_G0 -->\n<g id=\"node4\" class=\"node\">\n<title>CNOT_G0</title>\n<polygon fill=\"none\" stroke=\"black\" points=\"172,-66.5 172,-83.5 216,-83.5 216,-66.5 172,-66.5\"/>\n<text text-anchor=\"start\" x=\"180.12\" y=\"-71\" font-family=\"Times,serif\" font-size=\"10.00\">CNOT</text>\n<polygon fill=\"none\" stroke=\"black\" points=\"172,-44.5 172,-66.5 216,-66.5 216,-44.5 172,-44.5\"/>\n<text text-anchor=\"start\" x=\"174.88\" y=\"-50.2\" font-family=\"Times,serif\" font-size=\"14.00\">control</text>\n<polygon fill=\"none\" stroke=\"black\" points=\"172,-22.5 172,-44.5 216,-44.5 216,-22.5 172,-22.5\"/>\n<text text-anchor=\"start\" x=\"178.62\" y=\"-28.2\" font-family=\"Times,serif\" font-size=\"14.00\">target</text>\n</g>\n<!-- CNOT&#45;&gt;CNOT_G0 -->\n<g id=\"edge3\" class=\"edge\">\n<title>CNOT:e-&gt;CNOT_G0:w</title>\n<path fill=\"none\" stroke=\"black\" d=\"M135,-33C144.34,-33 146.04,-37.1 154,-42 161.69,-46.73 161.92,-54.14 169.04,-55.7\"/>\n<ellipse fill=\"black\" stroke=\"black\" cx=\"170.51\" cy=\"-55.85\" rx=\"1\" ry=\"1\"/>\n<text text-anchor=\"middle\" x=\"153.5\" y=\"-43.75\" font-family=\"Times,serif\" font-size=\"10.00\">1</text>\n</g>\n<!-- CNOT&#45;&gt;CNOT_G0 -->\n<g id=\"edge4\" class=\"edge\">\n<title>CNOT:e-&gt;CNOT_G0:w</title>\n<path fill=\"none\" stroke=\"black\" d=\"M135,-56C153.46,-56 152.75,-35.11 169.41,-33.15\"/>\n<ellipse fill=\"black\" stroke=\"black\" cx=\"170.5\" cy=\"-33.09\" rx=\"1\" ry=\"1\"/>\n<text text-anchor=\"middle\" x=\"153.5\" y=\"-45.75\" font-family=\"Times,serif\" font-size=\"10.00\">1</text>\n</g>\n<!-- CNOT_G3 -->\n<g id=\"node5\" class=\"node\">\n<title>CNOT_G3</title>\n<polygon fill=\"none\" stroke=\"black\" points=\"253,-66.5 253,-83.5 297,-83.5 297,-66.5 253,-66.5\"/>\n<text text-anchor=\"start\" x=\"261.12\" y=\"-71\" font-family=\"Times,serif\" font-size=\"10.00\">CNOT</text>\n<polygon fill=\"none\" stroke=\"black\" points=\"253,-44.5 253,-66.5 297,-66.5 297,-44.5 253,-44.5\"/>\n<text text-anchor=\"start\" x=\"255.88\" y=\"-50.2\" font-family=\"Times,serif\" font-size=\"14.00\">control</text>\n<polygon fill=\"none\" stroke=\"black\" points=\"253,-22.5 253,-44.5 297,-44.5 297,-22.5 253,-22.5\"/>\n<text text-anchor=\"start\" x=\"259.62\" y=\"-28.2\" font-family=\"Times,serif\" font-size=\"14.00\">target</text>\n</g>\n<!-- CNOT_G0&#45;&gt;CNOT_G3 -->\n<g id=\"edge5\" class=\"edge\">\n<title>CNOT_G0:e-&gt;CNOT_G3:w</title>\n<path fill=\"none\" stroke=\"black\" d=\"M216,-33C225.34,-33 227.04,-37.1 235,-42 242.69,-46.73 242.92,-54.14 250.04,-55.7\"/>\n<ellipse fill=\"black\" stroke=\"black\" cx=\"251.51\" cy=\"-55.85\" rx=\"1\" ry=\"1\"/>\n<text text-anchor=\"middle\" x=\"234.5\" y=\"-43.75\" font-family=\"Times,serif\" font-size=\"10.00\">1</text>\n</g>\n<!-- CNOT_G0&#45;&gt;CNOT_G3 -->\n<g id=\"edge6\" class=\"edge\">\n<title>CNOT_G0:e-&gt;CNOT_G3:w</title>\n<path fill=\"none\" stroke=\"black\" d=\"M216,-56C234.46,-56 233.75,-35.11 250.41,-33.15\"/>\n<ellipse fill=\"black\" stroke=\"black\" cx=\"251.5\" cy=\"-33.09\" rx=\"1\" ry=\"1\"/>\n<text text-anchor=\"middle\" x=\"234.5\" y=\"-45.75\" font-family=\"Times,serif\" font-size=\"10.00\">1</text>\n</g>\n<!-- x_G13 -->\n<g id=\"node6\" class=\"node\">\n<title>x_G13</title>\n<text text-anchor=\"middle\" x=\"361\" y=\"-66.95\" font-family=\"Times,serif\" font-size=\"14.00\">x</text>\n</g>\n<!-- CNOT_G3&#45;&gt;x_G13 -->\n<g id=\"edge7\" class=\"edge\">\n<title>CNOT_G3:e-&gt;x_G13:w</title>\n<path fill=\"none\" stroke=\"black\" d=\"M297,-56C313.94,-56 315.91,-70.3 331.21,-71.86\"/>\n<ellipse fill=\"black\" stroke=\"black\" cx=\"332.5\" cy=\"-71.93\" rx=\"1\" ry=\"1\"/>\n<text text-anchor=\"middle\" x=\"315.5\" y=\"-65.75\" font-family=\"Times,serif\" font-size=\"10.00\">1</text>\n</g>\n<!-- y -->\n<g id=\"node7\" class=\"node\">\n<title>y</title>\n<text text-anchor=\"middle\" x=\"361\" y=\"-12.95\" font-family=\"Times,serif\" font-size=\"14.00\">y</text>\n</g>\n<!-- CNOT_G3&#45;&gt;y -->\n<g id=\"edge8\" class=\"edge\">\n<title>CNOT_G3:e-&gt;y:w</title>\n<path fill=\"none\" stroke=\"black\" d=\"M297,-33C313.77,-33 316.04,-19.6 331.23,-18.13\"/>\n<ellipse fill=\"black\" stroke=\"black\" cx=\"332.5\" cy=\"-18.07\" rx=\"1\" ry=\"1\"/>\n<text text-anchor=\"middle\" x=\"315.5\" y=\"-27.75\" font-family=\"Times,serif\" font-size=\"10.00\">1</text>\n</g>\n</g>\n</svg>"
     },
     "metadata": {},
     "output_type": "display_data"
    }
   ],
   "source": [
    "show_bloq(swap.decompose_bloq())"
   ]
  },
  {
   "cell_type": "markdown",
   "id": "5cf1a3d8",
   "metadata": {},
   "source": [
    "### Using `BloqBuilder` directly\n",
    "\n",
    "You can build a standalone `CompositeBloq` (i.e. not as part of the decomposition of\n",
    "another bloq) as well. This can come in handy for testing or prototyping. Simply\n",
    "instantiate a `BloqBuilder`. You need to manually\n",
    "manage your registers with `bb.add_register(...)` and you must finish your building session\n",
    "by calling `bb.finalize(...)` to freeze your composite-bloq-under-construction into an\n",
    "immutable `CompositeBloq`."
   ]
  },
  {
   "cell_type": "code",
   "execution_count": 49,
   "id": "d23ab186",
   "metadata": {},
   "outputs": [
    {
     "data": {
      "text/plain": "<IPython.core.display.SVG object>",
      "image/svg+xml": "<svg xmlns=\"http://www.w3.org/2000/svg\" xmlns:xlink=\"http://www.w3.org/1999/xlink\" width=\"396pt\" height=\"98pt\" viewBox=\"0.00 0.00 396.00 98.00\">\n<g id=\"graph0\" class=\"graph\" transform=\"scale(1 1) rotate(0) translate(4 94)\">\n<title>my_graph</title>\n<polygon fill=\"white\" stroke=\"none\" points=\"-4,4 -4,-94 392,-94 392,4 -4,4\"/>\n<!-- x -->\n<g id=\"node1\" class=\"node\">\n<title>x</title>\n<text text-anchor=\"middle\" x=\"27\" y=\"-66.95\" font-family=\"Times,serif\" font-size=\"14.00\">x</text>\n</g>\n<!-- CNOT -->\n<g id=\"node3\" class=\"node\">\n<title>CNOT</title>\n<polygon fill=\"none\" stroke=\"black\" points=\"91,-66.5 91,-83.5 135,-83.5 135,-66.5 91,-66.5\"/>\n<text text-anchor=\"start\" x=\"99.12\" y=\"-71\" font-family=\"Times,serif\" font-size=\"10.00\">CNOT</text>\n<polygon fill=\"none\" stroke=\"black\" points=\"91,-44.5 91,-66.5 135,-66.5 135,-44.5 91,-44.5\"/>\n<text text-anchor=\"start\" x=\"93.88\" y=\"-50.2\" font-family=\"Times,serif\" font-size=\"14.00\">control</text>\n<polygon fill=\"none\" stroke=\"black\" points=\"91,-22.5 91,-44.5 135,-44.5 135,-22.5 91,-22.5\"/>\n<text text-anchor=\"start\" x=\"97.62\" y=\"-28.2\" font-family=\"Times,serif\" font-size=\"14.00\">target</text>\n</g>\n<!-- x&#45;&gt;CNOT -->\n<g id=\"edge1\" class=\"edge\">\n<title>x:e-&gt;CNOT:w</title>\n<path fill=\"none\" stroke=\"black\" d=\"M54,-72C70.94,-72 72.91,-57.7 88.21,-56.14\"/>\n<ellipse fill=\"black\" stroke=\"black\" cx=\"89.5\" cy=\"-56.07\" rx=\"1\" ry=\"1\"/>\n<text text-anchor=\"middle\" x=\"72.5\" y=\"-65.75\" font-family=\"Times,serif\" font-size=\"10.00\">1</text>\n</g>\n<!-- y_G10 -->\n<g id=\"node2\" class=\"node\">\n<title>y_G10</title>\n<text text-anchor=\"middle\" x=\"27\" y=\"-12.95\" font-family=\"Times,serif\" font-size=\"14.00\">y</text>\n</g>\n<!-- y_G10&#45;&gt;CNOT -->\n<g id=\"edge2\" class=\"edge\">\n<title>y_G10:e-&gt;CNOT:w</title>\n<path fill=\"none\" stroke=\"black\" d=\"M54,-18C70.77,-18 73.04,-31.4 88.23,-32.87\"/>\n<ellipse fill=\"black\" stroke=\"black\" cx=\"89.5\" cy=\"-32.93\" rx=\"1\" ry=\"1\"/>\n<text text-anchor=\"middle\" x=\"72.5\" y=\"-27.75\" font-family=\"Times,serif\" font-size=\"10.00\">1</text>\n</g>\n<!-- CNOT_G0 -->\n<g id=\"node4\" class=\"node\">\n<title>CNOT_G0</title>\n<polygon fill=\"none\" stroke=\"black\" points=\"172,-66.5 172,-83.5 216,-83.5 216,-66.5 172,-66.5\"/>\n<text text-anchor=\"start\" x=\"180.12\" y=\"-71\" font-family=\"Times,serif\" font-size=\"10.00\">CNOT</text>\n<polygon fill=\"none\" stroke=\"black\" points=\"172,-44.5 172,-66.5 216,-66.5 216,-44.5 172,-44.5\"/>\n<text text-anchor=\"start\" x=\"174.88\" y=\"-50.2\" font-family=\"Times,serif\" font-size=\"14.00\">control</text>\n<polygon fill=\"none\" stroke=\"black\" points=\"172,-22.5 172,-44.5 216,-44.5 216,-22.5 172,-22.5\"/>\n<text text-anchor=\"start\" x=\"178.62\" y=\"-28.2\" font-family=\"Times,serif\" font-size=\"14.00\">target</text>\n</g>\n<!-- CNOT&#45;&gt;CNOT_G0 -->\n<g id=\"edge3\" class=\"edge\">\n<title>CNOT:e-&gt;CNOT_G0:w</title>\n<path fill=\"none\" stroke=\"black\" d=\"M135,-33C144.34,-33 146.04,-37.1 154,-42 161.69,-46.73 161.92,-54.14 169.04,-55.7\"/>\n<ellipse fill=\"black\" stroke=\"black\" cx=\"170.51\" cy=\"-55.85\" rx=\"1\" ry=\"1\"/>\n<text text-anchor=\"middle\" x=\"153.5\" y=\"-43.75\" font-family=\"Times,serif\" font-size=\"10.00\">1</text>\n</g>\n<!-- CNOT&#45;&gt;CNOT_G0 -->\n<g id=\"edge4\" class=\"edge\">\n<title>CNOT:e-&gt;CNOT_G0:w</title>\n<path fill=\"none\" stroke=\"black\" d=\"M135,-56C153.46,-56 152.75,-35.11 169.41,-33.15\"/>\n<ellipse fill=\"black\" stroke=\"black\" cx=\"170.5\" cy=\"-33.09\" rx=\"1\" ry=\"1\"/>\n<text text-anchor=\"middle\" x=\"153.5\" y=\"-45.75\" font-family=\"Times,serif\" font-size=\"10.00\">1</text>\n</g>\n<!-- CNOT_G3 -->\n<g id=\"node5\" class=\"node\">\n<title>CNOT_G3</title>\n<polygon fill=\"none\" stroke=\"black\" points=\"253,-66.5 253,-83.5 297,-83.5 297,-66.5 253,-66.5\"/>\n<text text-anchor=\"start\" x=\"261.12\" y=\"-71\" font-family=\"Times,serif\" font-size=\"10.00\">CNOT</text>\n<polygon fill=\"none\" stroke=\"black\" points=\"253,-44.5 253,-66.5 297,-66.5 297,-44.5 253,-44.5\"/>\n<text text-anchor=\"start\" x=\"255.88\" y=\"-50.2\" font-family=\"Times,serif\" font-size=\"14.00\">control</text>\n<polygon fill=\"none\" stroke=\"black\" points=\"253,-22.5 253,-44.5 297,-44.5 297,-22.5 253,-22.5\"/>\n<text text-anchor=\"start\" x=\"259.62\" y=\"-28.2\" font-family=\"Times,serif\" font-size=\"14.00\">target</text>\n</g>\n<!-- CNOT_G0&#45;&gt;CNOT_G3 -->\n<g id=\"edge5\" class=\"edge\">\n<title>CNOT_G0:e-&gt;CNOT_G3:w</title>\n<path fill=\"none\" stroke=\"black\" d=\"M216,-33C225.34,-33 227.04,-37.1 235,-42 242.69,-46.73 242.92,-54.14 250.04,-55.7\"/>\n<ellipse fill=\"black\" stroke=\"black\" cx=\"251.51\" cy=\"-55.85\" rx=\"1\" ry=\"1\"/>\n<text text-anchor=\"middle\" x=\"234.5\" y=\"-43.75\" font-family=\"Times,serif\" font-size=\"10.00\">1</text>\n</g>\n<!-- CNOT_G0&#45;&gt;CNOT_G3 -->\n<g id=\"edge6\" class=\"edge\">\n<title>CNOT_G0:e-&gt;CNOT_G3:w</title>\n<path fill=\"none\" stroke=\"black\" d=\"M216,-56C234.46,-56 233.75,-35.11 250.41,-33.15\"/>\n<ellipse fill=\"black\" stroke=\"black\" cx=\"251.5\" cy=\"-33.09\" rx=\"1\" ry=\"1\"/>\n<text text-anchor=\"middle\" x=\"234.5\" y=\"-45.75\" font-family=\"Times,serif\" font-size=\"10.00\">1</text>\n</g>\n<!-- x_G13 -->\n<g id=\"node6\" class=\"node\">\n<title>x_G13</title>\n<text text-anchor=\"middle\" x=\"361\" y=\"-66.95\" font-family=\"Times,serif\" font-size=\"14.00\">x</text>\n</g>\n<!-- CNOT_G3&#45;&gt;x_G13 -->\n<g id=\"edge7\" class=\"edge\">\n<title>CNOT_G3:e-&gt;x_G13:w</title>\n<path fill=\"none\" stroke=\"black\" d=\"M297,-56C313.94,-56 315.91,-70.3 331.21,-71.86\"/>\n<ellipse fill=\"black\" stroke=\"black\" cx=\"332.5\" cy=\"-71.93\" rx=\"1\" ry=\"1\"/>\n<text text-anchor=\"middle\" x=\"315.5\" y=\"-65.75\" font-family=\"Times,serif\" font-size=\"10.00\">1</text>\n</g>\n<!-- y -->\n<g id=\"node7\" class=\"node\">\n<title>y</title>\n<text text-anchor=\"middle\" x=\"361\" y=\"-12.95\" font-family=\"Times,serif\" font-size=\"14.00\">y</text>\n</g>\n<!-- CNOT_G3&#45;&gt;y -->\n<g id=\"edge8\" class=\"edge\">\n<title>CNOT_G3:e-&gt;y:w</title>\n<path fill=\"none\" stroke=\"black\" d=\"M297,-33C313.77,-33 316.04,-19.6 331.23,-18.13\"/>\n<ellipse fill=\"black\" stroke=\"black\" cx=\"332.5\" cy=\"-18.07\" rx=\"1\" ry=\"1\"/>\n<text text-anchor=\"middle\" x=\"315.5\" y=\"-27.75\" font-family=\"Times,serif\" font-size=\"10.00\">1</text>\n</g>\n</g>\n</svg>"
     },
     "metadata": {},
     "output_type": "display_data"
    }
   ],
   "source": [
    "bb = BloqBuilder()\n",
    "x = bb.add_register('x', 1)\n",
    "y = bb.add_register('y', 1)\n",
    "x, y = bb.add(CNOT(), control=x, target=y)\n",
    "y, x = bb.add(CNOT(), control=y, target=x)\n",
    "x, y = bb.add(CNOT(), control=x, target=y)\n",
    "cbloq = bb.finalize(x=x, y=y)\n",
    "show_bloq(cbloq)"
   ]
  },
  {
   "cell_type": "markdown",
   "id": "a63a9531",
   "metadata": {},
   "source": [
    "## Quantum variables and `Soquet`s.\n",
    "\n",
    "What are the types of `x` and `y`? They represent quantum variables used to \"wire up\" sub\n",
    "operations by providing them as inputs and receiving them as outputs during calls to `bb.add`. <div class=\"alert alert-block alert-warning\">If you're familiar with Cirq, you might think\n",
    "that they are equivalent to `cirq.Qubit`s. Whereas a cirq.Circuit has a fixed pool of qubits\n",
    "on which many operations act, these quantum variables follow different rules &mdash; read on!</div>\n",
    "\n",
    "The rules of quantum mechanics makes these quantum variables behave very differently than\n",
    "normal variables. The most salient rules are the no-cloning theorem and its dual, the\n",
    "[no-deleting theorem](https://en.wikipedia.org/wiki/No-deleting_theorem). In the parlance\n",
    "of programming language research, our variables follow \"linear logic\". A linear variable\n",
    "must be used once and only once.\n",
    "\n",
    "The following snippets show improper use of our quantum variables. Luckily, the bloq builder will\n",
    "raise an error if the rules of quantum mechanics are not followed!"
   ]
  },
  {
   "cell_type": "code",
   "execution_count": 50,
   "id": "85da3eb7",
   "metadata": {},
   "outputs": [
    {
     "name": "stdout",
     "output_type": "stream",
     "text": [
      "Can't use a variable as both control and target!\n",
      "LeftDangle.x is not an available Soquet for `CNOT().target`.\n"
     ]
    }
   ],
   "source": [
    "from qualtran import BloqError\n",
    "\n",
    "bb = BloqBuilder()\n",
    "x = bb.add_register('x', 1)\n",
    "y = bb.add_register('y', 1)\n",
    "\n",
    "try:\n",
    "    _ = bb.add(CNOT(), control=x, target=x)\n",
    "except BloqError as e:\n",
    "    print(\"Can't use a variable as both control and target!\")\n",
    "    print(e)"
   ]
  },
  {
   "cell_type": "code",
   "execution_count": 51,
   "id": "cfe23c3e",
   "metadata": {},
   "outputs": [
    {
     "name": "stdout",
     "output_type": "stream",
     "text": [
      "`x` and `y` were consumed by the first call to `add`.\n",
      "Returned quantum variables are *new, immutable* variables that you use\n",
      "in subsequent operations\n",
      "LeftDangle.x is not an available Soquet for `CNOT().control`.\n"
     ]
    }
   ],
   "source": [
    "bb = BloqBuilder()\n",
    "x = bb.add_register('x', 1)\n",
    "y = bb.add_register('y', 1)\n",
    "x2, y2 = bb.add(CNOT(), control=x, target=y)\n",
    "\n",
    "try:\n",
    "    x3, y3 = bb.add(CNOT(), control=x, target=y)\n",
    "except BloqError as e:\n",
    "    print(\"`x` and `y` were consumed by the first call to `add`.\")\n",
    "    print(\"Returned quantum variables are *new, immutable* variables that you use\")\n",
    "    print(\"in subsequent operations\")\n",
    "    print(e)"
   ]
  },
  {
   "cell_type": "code",
   "execution_count": 52,
   "id": "3b07af73",
   "metadata": {},
   "outputs": [
    {
     "name": "stdout",
     "output_type": "stream",
     "text": [
      "Any unused variables must be 'passed on' to `finalize` to be outputs.\n",
      "Finalizing requires a Soquet named `y`.\n"
     ]
    }
   ],
   "source": [
    "bb = BloqBuilder()\n",
    "x = bb.add_register('x', 1)\n",
    "y = bb.add_register('y', 1)\n",
    "\n",
    "# The following line turns on the additional checks needed to\n",
    "# raise an exception in this case:\n",
    "bb.add_register_allowed = False\n",
    "\n",
    "x2, y2 = bb.add(CNOT(), control=x, target=y)\n",
    "x3, y3 = bb.add(CNOT(), control=x2, target=y2)\n",
    "\n",
    "try:\n",
    "    bb.finalize(x=x3)\n",
    "except BloqError as e:\n",
    "    print(\"Any unused variables must be 'passed on' to `finalize` to be outputs.\")\n",
    "    print(e)"
   ]
  },
  {
   "cell_type": "markdown",
   "id": "432b4c75",
   "metadata": {},
   "source": [
    "The actual Python type of these objects is `Soquet`, which you will see in type annotations,\n",
    "but you should never instantiate a `Soquet` directly, nor should you use or set its attributes.\n",
    "Soquets should be constructed and managed by `BloqBuilder` and other infrastructure. <div class=\"alert alert-block alert-warning\">Another opaque, infrastructural class that\n",
    "    you may see but should not be manipulating directly is `BloqInstance`. This simple wrapper\n",
    "lets us distinguish between two *instances* of e.g. a CNOT bloq. Usually we want value\n",
    "equality semantics between bloqs.</div>"
   ]
  },
  {
   "cell_type": "markdown",
   "id": "4f44f287",
   "metadata": {},
   "source": [
    "## Larger registers\n",
    "\n",
    "Our two bloqs have still been operating at the level of individual bits. We now consider\n",
    "a general swap between two `n`-sized registers. <div class=\"alert alert-block alert-info\">The `n: int` line means our class has one attribute named `n` of type `int`. The attrs annotation will automatically generate an `__init__` function.</div>"
   ]
  },
  {
   "cell_type": "code",
   "execution_count": 53,
   "id": "145c65b6",
   "metadata": {},
   "outputs": [],
   "source": [
    "from qualtran import QAny\n",
    "\n",
    "@attrs.frozen\n",
    "class Swap(Bloq):\n",
    "    n: int\n",
    "\n",
    "    @property\n",
    "    def signature(self):\n",
    "        return Signature([\n",
    "            Register('x', QAny(bitsize=self.n)),\n",
    "            Register('y', QAny(bitsize=self.n)),\n",
    "        ])"
   ]
  },
  {
   "cell_type": "markdown",
   "id": "1513500c",
   "metadata": {},
   "source": [
    "Note that our bloq now has an attrs attribute `n` that lets us configure the exact parameters\n",
    "of the bloq without defining a new class. This is analogous to a template parameter in C++,\n",
    "for example. Bloqs should be immutable and hashable."
   ]
  },
  {
   "cell_type": "code",
   "execution_count": 54,
   "id": "4bcc3e93",
   "metadata": {},
   "outputs": [],
   "source": [
    "assert Swap(5) == Swap(5)\n",
    "assert Swap(5) != Swap(6)"
   ]
  },
  {
   "cell_type": "code",
   "execution_count": 22,
   "id": "2ebf0d70",
   "metadata": {},
   "outputs": [],
   "source": [
    "from qualtran import SoquetT\n",
    "\n",
    "@attrs.frozen\n",
    "class Swap(Bloq):\n",
    "    n: int\n",
    "\n",
    "    @property\n",
    "    def signature(self):\n",
    "        return Signature.build(x=self.n, y=self.n)\n",
    "\n",
    "    def build_composite_bloq(\n",
    "            self, bb: BloqBuilder, *, x: SoquetT, y: SoquetT\n",
    "    ) -> Dict[str, SoquetT]:\n",
    "        # THIS WON'T ACTUALLY WORK! Read on.\n",
    "        for i in range(self.n):\n",
    "            x[i], y[i] = bb.add(SwapTwoBits(), x=x[i], y=y[i])\n",
    "        return {'x': x, 'y': y}"
   ]
  },
  {
   "cell_type": "markdown",
   "id": "3db1bfa8",
   "metadata": {},
   "source": [
    "For our first attempt, we will straightforwardly decompose our swap between two n-bit registers\n",
    "into n swaps over each bit in the two registers. There's a note that this won't actually work.\n",
    "Let's see what happens."
   ]
  },
  {
   "cell_type": "code",
   "execution_count": 56,
   "id": "b08436af",
   "metadata": {},
   "outputs": [
    {
     "data": {
      "text/plain": "<IPython.core.display.SVG object>",
      "image/svg+xml": "<svg xmlns=\"http://www.w3.org/2000/svg\" xmlns:xlink=\"http://www.w3.org/1999/xlink\" width=\"218pt\" height=\"98pt\" viewBox=\"0.00 0.00 218.00 98.00\">\n<g id=\"graph0\" class=\"graph\" transform=\"scale(1 1) rotate(0) translate(4 94)\">\n<title>my_graph</title>\n<polygon fill=\"white\" stroke=\"none\" points=\"-4,4 -4,-94 214,-94 214,4 -4,4\"/>\n<!-- x_G0 -->\n<g id=\"node1\" class=\"node\">\n<title>x_G0</title>\n<text text-anchor=\"middle\" x=\"27\" y=\"-66.95\" font-family=\"Times,serif\" font-size=\"14.00\">x</text>\n</g>\n<!-- Swap -->\n<g id=\"node3\" class=\"node\">\n<title>Swap</title>\n<polygon fill=\"none\" stroke=\"black\" points=\"91,-66.5 91,-83.5 119,-83.5 119,-66.5 91,-66.5\"/>\n<text text-anchor=\"start\" x=\"93.75\" y=\"-71\" font-family=\"Times,serif\" font-size=\"10.00\">Swap</text>\n<polygon fill=\"none\" stroke=\"black\" points=\"91,-44.5 91,-66.5 119,-66.5 119,-44.5 91,-44.5\"/>\n<text text-anchor=\"start\" x=\"101.62\" y=\"-50.2\" font-family=\"Times,serif\" font-size=\"14.00\">x</text>\n<polygon fill=\"none\" stroke=\"black\" points=\"91,-22.5 91,-44.5 119,-44.5 119,-22.5 91,-22.5\"/>\n<text text-anchor=\"start\" x=\"101.62\" y=\"-28.2\" font-family=\"Times,serif\" font-size=\"14.00\">y</text>\n</g>\n<!-- x_G0&#45;&gt;Swap -->\n<g id=\"edge1\" class=\"edge\">\n<title>x_G0:e-&gt;Swap:w</title>\n<path fill=\"none\" stroke=\"black\" d=\"M54,-72C70.94,-72 72.91,-57.7 88.21,-56.14\"/>\n<ellipse fill=\"black\" stroke=\"black\" cx=\"89.5\" cy=\"-56.07\" rx=\"1\" ry=\"1\"/>\n<text text-anchor=\"middle\" x=\"72.5\" y=\"-65.75\" font-family=\"Times,serif\" font-size=\"10.00\">5</text>\n</g>\n<!-- y_G4 -->\n<g id=\"node2\" class=\"node\">\n<title>y_G4</title>\n<text text-anchor=\"middle\" x=\"27\" y=\"-12.95\" font-family=\"Times,serif\" font-size=\"14.00\">y</text>\n</g>\n<!-- y_G4&#45;&gt;Swap -->\n<g id=\"edge2\" class=\"edge\">\n<title>y_G4:e-&gt;Swap:w</title>\n<path fill=\"none\" stroke=\"black\" d=\"M54,-18C70.77,-18 73.04,-31.4 88.23,-32.87\"/>\n<ellipse fill=\"black\" stroke=\"black\" cx=\"89.5\" cy=\"-32.93\" rx=\"1\" ry=\"1\"/>\n<text text-anchor=\"middle\" x=\"72.5\" y=\"-27.75\" font-family=\"Times,serif\" font-size=\"10.00\">5</text>\n</g>\n<!-- x_G2 -->\n<g id=\"node4\" class=\"node\">\n<title>x_G2</title>\n<text text-anchor=\"middle\" x=\"183\" y=\"-66.95\" font-family=\"Times,serif\" font-size=\"14.00\">x</text>\n</g>\n<!-- Swap&#45;&gt;x_G2 -->\n<g id=\"edge3\" class=\"edge\">\n<title>Swap:e-&gt;x_G2:w</title>\n<path fill=\"none\" stroke=\"black\" d=\"M119,-56C135.94,-56 137.91,-70.3 153.21,-71.86\"/>\n<ellipse fill=\"black\" stroke=\"black\" cx=\"154.5\" cy=\"-71.93\" rx=\"1\" ry=\"1\"/>\n<text text-anchor=\"middle\" x=\"137.5\" y=\"-65.75\" font-family=\"Times,serif\" font-size=\"10.00\">5</text>\n</g>\n<!-- y_G5 -->\n<g id=\"node5\" class=\"node\">\n<title>y_G5</title>\n<text text-anchor=\"middle\" x=\"183\" y=\"-12.95\" font-family=\"Times,serif\" font-size=\"14.00\">y</text>\n</g>\n<!-- Swap&#45;&gt;y_G5 -->\n<g id=\"edge4\" class=\"edge\">\n<title>Swap:e-&gt;y_G5:w</title>\n<path fill=\"none\" stroke=\"black\" d=\"M119,-33C135.77,-33 138.04,-19.6 153.23,-18.13\"/>\n<ellipse fill=\"black\" stroke=\"black\" cx=\"154.5\" cy=\"-18.07\" rx=\"1\" ry=\"1\"/>\n<text text-anchor=\"middle\" x=\"137.5\" y=\"-27.75\" font-family=\"Times,serif\" font-size=\"10.00\">5</text>\n</g>\n</g>\n</svg>"
     },
     "metadata": {},
     "output_type": "display_data"
    }
   ],
   "source": [
    "show_bloq(Swap(n=5))"
   ]
  },
  {
   "cell_type": "markdown",
   "id": "fdc991f3",
   "metadata": {},
   "source": [
    "That looks fine... In fact: you can see a useful property of bloqs. Instead of representing\n",
    "each qubit as its own quantum variable, the size of our register is just a property annotated\n",
    "on the graph. We can make it arbitrarily large with no performance penalty"
   ]
  },
  {
   "cell_type": "code",
   "execution_count": 57,
   "id": "fba876e0",
   "metadata": {},
   "outputs": [
    {
     "data": {
      "text/plain": "<IPython.core.display.SVG object>",
      "image/svg+xml": "<svg xmlns=\"http://www.w3.org/2000/svg\" xmlns:xlink=\"http://www.w3.org/1999/xlink\" width=\"218pt\" height=\"98pt\" viewBox=\"0.00 0.00 218.00 98.00\">\n<g id=\"graph0\" class=\"graph\" transform=\"scale(1 1) rotate(0) translate(4 94)\">\n<title>my_graph</title>\n<polygon fill=\"white\" stroke=\"none\" points=\"-4,4 -4,-94 214,-94 214,4 -4,4\"/>\n<!-- x_G1 -->\n<g id=\"node1\" class=\"node\">\n<title>x_G1</title>\n<text text-anchor=\"middle\" x=\"27\" y=\"-66.95\" font-family=\"Times,serif\" font-size=\"14.00\">x</text>\n</g>\n<!-- Swap -->\n<g id=\"node3\" class=\"node\">\n<title>Swap</title>\n<polygon fill=\"none\" stroke=\"black\" points=\"91,-66.5 91,-83.5 119,-83.5 119,-66.5 91,-66.5\"/>\n<text text-anchor=\"start\" x=\"93.75\" y=\"-71\" font-family=\"Times,serif\" font-size=\"10.00\">Swap</text>\n<polygon fill=\"none\" stroke=\"black\" points=\"91,-44.5 91,-66.5 119,-66.5 119,-44.5 91,-44.5\"/>\n<text text-anchor=\"start\" x=\"101.62\" y=\"-50.2\" font-family=\"Times,serif\" font-size=\"14.00\">x</text>\n<polygon fill=\"none\" stroke=\"black\" points=\"91,-22.5 91,-44.5 119,-44.5 119,-22.5 91,-22.5\"/>\n<text text-anchor=\"start\" x=\"101.62\" y=\"-28.2\" font-family=\"Times,serif\" font-size=\"14.00\">y</text>\n</g>\n<!-- x_G1&#45;&gt;Swap -->\n<g id=\"edge1\" class=\"edge\">\n<title>x_G1:e-&gt;Swap:w</title>\n<path fill=\"none\" stroke=\"black\" d=\"M54,-72C70.94,-72 72.91,-57.7 88.21,-56.14\"/>\n<ellipse fill=\"black\" stroke=\"black\" cx=\"89.5\" cy=\"-56.07\" rx=\"1\" ry=\"1\"/>\n<text text-anchor=\"middle\" x=\"72.5\" y=\"-65.75\" font-family=\"Times,serif\" font-size=\"10.00\">10000</text>\n</g>\n<!-- y_G4 -->\n<g id=\"node2\" class=\"node\">\n<title>y_G4</title>\n<text text-anchor=\"middle\" x=\"27\" y=\"-12.95\" font-family=\"Times,serif\" font-size=\"14.00\">y</text>\n</g>\n<!-- y_G4&#45;&gt;Swap -->\n<g id=\"edge2\" class=\"edge\">\n<title>y_G4:e-&gt;Swap:w</title>\n<path fill=\"none\" stroke=\"black\" d=\"M54,-18C70.77,-18 73.04,-31.4 88.23,-32.87\"/>\n<ellipse fill=\"black\" stroke=\"black\" cx=\"89.5\" cy=\"-32.93\" rx=\"1\" ry=\"1\"/>\n<text text-anchor=\"middle\" x=\"72.5\" y=\"-27.75\" font-family=\"Times,serif\" font-size=\"10.00\">10000</text>\n</g>\n<!-- x_G3 -->\n<g id=\"node4\" class=\"node\">\n<title>x_G3</title>\n<text text-anchor=\"middle\" x=\"183\" y=\"-66.95\" font-family=\"Times,serif\" font-size=\"14.00\">x</text>\n</g>\n<!-- Swap&#45;&gt;x_G3 -->\n<g id=\"edge3\" class=\"edge\">\n<title>Swap:e-&gt;x_G3:w</title>\n<path fill=\"none\" stroke=\"black\" d=\"M119,-56C135.94,-56 137.91,-70.3 153.21,-71.86\"/>\n<ellipse fill=\"black\" stroke=\"black\" cx=\"154.5\" cy=\"-71.93\" rx=\"1\" ry=\"1\"/>\n<text text-anchor=\"middle\" x=\"137.5\" y=\"-65.75\" font-family=\"Times,serif\" font-size=\"10.00\">10000</text>\n</g>\n<!-- y_G0 -->\n<g id=\"node5\" class=\"node\">\n<title>y_G0</title>\n<text text-anchor=\"middle\" x=\"183\" y=\"-12.95\" font-family=\"Times,serif\" font-size=\"14.00\">y</text>\n</g>\n<!-- Swap&#45;&gt;y_G0 -->\n<g id=\"edge4\" class=\"edge\">\n<title>Swap:e-&gt;y_G0:w</title>\n<path fill=\"none\" stroke=\"black\" d=\"M119,-33C135.77,-33 138.04,-19.6 153.23,-18.13\"/>\n<ellipse fill=\"black\" stroke=\"black\" cx=\"154.5\" cy=\"-18.07\" rx=\"1\" ry=\"1\"/>\n<text text-anchor=\"middle\" x=\"137.5\" y=\"-27.75\" font-family=\"Times,serif\" font-size=\"10.00\">10000</text>\n</g>\n</g>\n</svg>"
     },
     "metadata": {},
     "output_type": "display_data"
    }
   ],
   "source": [
    "show_bloq(Swap(n=10_000))"
   ]
  },
  {
   "cell_type": "markdown",
   "id": "ec5150d2",
   "metadata": {},
   "source": [
    "The problem occurs when we decompose our bloq."
   ]
  },
  {
   "cell_type": "code",
   "execution_count": 58,
   "id": "48648ac4",
   "metadata": {},
   "outputs": [
    {
     "name": "stdout",
     "output_type": "stream",
     "text": [
      "Traceback (most recent call last):\n",
      "  File \"/var/folders/r2/h4tfqk1n6vx5knt9bjm969hc0000gn/T/ipykernel_10950/2856710510.py\", line 4, in <module>\n",
      "    cbloq = Swap(n=5).decompose_bloq()\n",
      "  File \"/Users/samuelkushnir/Documents/GitHub/Qualtran/qualtran/_infra/bloq.py\", line 138, in decompose_bloq\n",
      "    return _decompose_from_build_composite_bloq(self)\n",
      "  File \"/Users/samuelkushnir/Documents/GitHub/Qualtran/qualtran/_infra/bloq.py\", line 40, in _decompose_from_build_composite_bloq\n",
      "    out_soqs = bloq.build_composite_bloq(bb=bb, **initial_soqs)\n",
      "  File \"/var/folders/r2/h4tfqk1n6vx5knt9bjm969hc0000gn/T/ipykernel_10950/1581424675.py\", line 16, in build_composite_bloq\n",
      "    x[i], y[i] = bb.add(SwapTwoBits(), x=x[i], y=y[i])\n",
      "TypeError: 'Soquet' object is not subscriptable\n",
      "\n"
     ]
    }
   ],
   "source": [
    "import traceback\n",
    "\n",
    "try:\n",
    "    cbloq = Swap(n=5).decompose_bloq()\n",
    "except TypeError as e:\n",
    "    print(traceback.format_exc())"
   ]
  },
  {
   "cell_type": "markdown",
   "id": "d029bf65",
   "metadata": {},
   "source": [
    "Can you figure out what's happening? The very advantage alluded to above has come back\n",
    "to bite us! If we have one object representing an n-bit register, we can't index into it\n",
    "to do bit-twiddling in our decomposition. We'll take a second look at `Register` to see\n",
    "if we can modify our signature declaration to make this work.\n",
    "\n",
    "`Register` can represent an n-dimensional array of quantum bits. For example, I can\n",
    "declare a 3x3 matrix of 32-bit quantum variables:"
   ]
  },
  {
   "cell_type": "code",
   "execution_count": 59,
   "id": "c98fa648",
   "metadata": {},
   "outputs": [
    {
     "name": "stdout",
     "output_type": "stream",
     "text": [
      "total bits: 288\n"
     ]
    }
   ],
   "source": [
    "arr_reg = Register('arr', QAny(32), shape=(3, 3))\n",
    "print('total bits:', arr_reg.total_bits())"
   ]
  },
  {
   "cell_type": "markdown",
   "id": "91d649ca",
   "metadata": {},
   "source": [
    "<div class=\"alert alert-block alert-info\">`shape` is like `np.ndarray.shape`.</div>\n",
    "\n",
    "In computing, we can think of all data as an ndarray of bits or qubits, but -- analogous to\n",
    "classical data types -- it's preferable to treat a certain number of bits (or qubits) as\n",
    "our atomic datatype. For example, in C, an array of `int32 x[10];` does not let you index\n",
    "into individual bits like `x[3][31]`. Unlike in C, you are not limited by machine word size\n",
    "for atomic type sizes, which is why above we could define a register of `bitsize=5`.\n",
    "\n",
    "In the `SwapTwoBits` example everything was `bitsize=1` and we could write our decomposition\n",
    "without slicing into the registers. Let's write a version of `Swap` that uses an array\n",
    "of `bitsize=1` values."
   ]
  },
  {
   "cell_type": "code",
   "execution_count": 25,
   "id": "7095d363",
   "metadata": {},
   "outputs": [],
   "source": [
    "@attrs.frozen\n",
    "class SwapManyBits(Bloq):\n",
    "    n: int\n",
    "\n",
    "    @property\n",
    "    def signature(self):\n",
    "        # Not ideal; read on.\n",
    "        return Signature([\n",
    "            Register('x', QBit(), shape=(self.n,)),\n",
    "            Register('y', QBit(), shape=(self.n,)),\n",
    "        ])\n",
    "\n",
    "    def build_composite_bloq(\n",
    "            self, bb: BloqBuilder, *, x: SoquetT, y: SoquetT\n",
    "    ) -> Dict[str, SoquetT]:\n",
    "        for i in range(self.n):\n",
    "            x[i], y[i] = bb.add(SwapTwoBits(), x=x[i], y=y[i])\n",
    "        return {'x': x, 'y': y}"
   ]
  },
  {
   "cell_type": "code",
   "execution_count": 27,
   "outputs": [
    {
     "ename": "KeyboardInterrupt",
     "evalue": "",
     "output_type": "error",
     "traceback": [
      "\u001B[0;31m---------------------------------------------------------------------------\u001B[0m",
      "\u001B[0;31mKeyboardInterrupt\u001B[0m                         Traceback (most recent call last)",
      "Cell \u001B[0;32mIn[27], line 3\u001B[0m\n\u001B[1;32m      1\u001B[0m swap \u001B[38;5;241m=\u001B[39m SwapManyBits(\u001B[38;5;241m5\u001B[39m)\n\u001B[1;32m      2\u001B[0m listEl \u001B[38;5;241m=\u001B[39m \u001B[38;5;28mlist\u001B[39m(swap\u001B[38;5;241m.\u001B[39mdecompose_bloq()\u001B[38;5;241m.\u001B[39miter_bloqsoqs())\n\u001B[0;32m----> 3\u001B[0m \u001B[38;5;28;01mfor\u001B[39;00m el \u001B[38;5;129;01min\u001B[39;00m \u001B[43mswap\u001B[49m\u001B[38;5;241m.\u001B[39mdecompose_bloq()\u001B[38;5;241m.\u001B[39miter_bloqsoqs():\n\u001B[1;32m      4\u001B[0m     \u001B[38;5;28mprint\u001B[39m(el)\n",
      "Cell \u001B[0;32mIn[27], line 3\u001B[0m\n\u001B[1;32m      1\u001B[0m swap \u001B[38;5;241m=\u001B[39m SwapManyBits(\u001B[38;5;241m5\u001B[39m)\n\u001B[1;32m      2\u001B[0m listEl \u001B[38;5;241m=\u001B[39m \u001B[38;5;28mlist\u001B[39m(swap\u001B[38;5;241m.\u001B[39mdecompose_bloq()\u001B[38;5;241m.\u001B[39miter_bloqsoqs())\n\u001B[0;32m----> 3\u001B[0m \u001B[38;5;28;01mfor\u001B[39;00m el \u001B[38;5;129;01min\u001B[39;00m \u001B[43mswap\u001B[49m\u001B[38;5;241m.\u001B[39mdecompose_bloq()\u001B[38;5;241m.\u001B[39miter_bloqsoqs():\n\u001B[1;32m      4\u001B[0m     \u001B[38;5;28mprint\u001B[39m(el)\n",
      "File \u001B[0;32m_pydevd_bundle/pydevd_cython_darwin_310_64.pyx:1179\u001B[0m, in \u001B[0;36m_pydevd_bundle.pydevd_cython_darwin_310_64.SafeCallWrapper.__call__\u001B[0;34m()\u001B[0m\n",
      "File \u001B[0;32m_pydevd_bundle/pydevd_cython_darwin_310_64.pyx:620\u001B[0m, in \u001B[0;36m_pydevd_bundle.pydevd_cython_darwin_310_64.PyDBFrame.trace_dispatch\u001B[0;34m()\u001B[0m\n",
      "File \u001B[0;32m_pydevd_bundle/pydevd_cython_darwin_310_64.pyx:929\u001B[0m, in \u001B[0;36m_pydevd_bundle.pydevd_cython_darwin_310_64.PyDBFrame.trace_dispatch\u001B[0;34m()\u001B[0m\n",
      "File \u001B[0;32m_pydevd_bundle/pydevd_cython_darwin_310_64.pyx:920\u001B[0m, in \u001B[0;36m_pydevd_bundle.pydevd_cython_darwin_310_64.PyDBFrame.trace_dispatch\u001B[0;34m()\u001B[0m\n",
      "File \u001B[0;32m_pydevd_bundle/pydevd_cython_darwin_310_64.pyx:317\u001B[0m, in \u001B[0;36m_pydevd_bundle.pydevd_cython_darwin_310_64.PyDBFrame.do_wait_suspend\u001B[0;34m()\u001B[0m\n",
      "File \u001B[0;32m/Applications/PyCharm.app/Contents/plugins/python/helpers/pydev/pydevd.py:1160\u001B[0m, in \u001B[0;36mPyDB.do_wait_suspend\u001B[0;34m(self, thread, frame, event, arg, send_suspend_message, is_unhandled_exception)\u001B[0m\n\u001B[1;32m   1157\u001B[0m         from_this_thread\u001B[38;5;241m.\u001B[39mappend(frame_id)\n\u001B[1;32m   1159\u001B[0m \u001B[38;5;28;01mwith\u001B[39;00m \u001B[38;5;28mself\u001B[39m\u001B[38;5;241m.\u001B[39m_threads_suspended_single_notification\u001B[38;5;241m.\u001B[39mnotify_thread_suspended(thread_id, stop_reason):\n\u001B[0;32m-> 1160\u001B[0m     \u001B[38;5;28;43mself\u001B[39;49m\u001B[38;5;241;43m.\u001B[39;49m\u001B[43m_do_wait_suspend\u001B[49m\u001B[43m(\u001B[49m\u001B[43mthread\u001B[49m\u001B[43m,\u001B[49m\u001B[43m \u001B[49m\u001B[43mframe\u001B[49m\u001B[43m,\u001B[49m\u001B[43m \u001B[49m\u001B[43mevent\u001B[49m\u001B[43m,\u001B[49m\u001B[43m \u001B[49m\u001B[43marg\u001B[49m\u001B[43m,\u001B[49m\u001B[43m \u001B[49m\u001B[43msuspend_type\u001B[49m\u001B[43m,\u001B[49m\u001B[43m \u001B[49m\u001B[43mfrom_this_thread\u001B[49m\u001B[43m)\u001B[49m\n",
      "File \u001B[0;32m/Applications/PyCharm.app/Contents/plugins/python/helpers/pydev/pydevd.py:1175\u001B[0m, in \u001B[0;36mPyDB._do_wait_suspend\u001B[0;34m(self, thread, frame, event, arg, suspend_type, from_this_thread)\u001B[0m\n\u001B[1;32m   1172\u001B[0m             \u001B[38;5;28mself\u001B[39m\u001B[38;5;241m.\u001B[39m_call_mpl_hook()\n\u001B[1;32m   1174\u001B[0m         \u001B[38;5;28mself\u001B[39m\u001B[38;5;241m.\u001B[39mprocess_internal_commands()\n\u001B[0;32m-> 1175\u001B[0m         \u001B[43mtime\u001B[49m\u001B[38;5;241;43m.\u001B[39;49m\u001B[43msleep\u001B[49m\u001B[43m(\u001B[49m\u001B[38;5;241;43m0.01\u001B[39;49m\u001B[43m)\u001B[49m\n\u001B[1;32m   1177\u001B[0m \u001B[38;5;28mself\u001B[39m\u001B[38;5;241m.\u001B[39mcancel_async_evaluation(get_current_thread_id(thread), \u001B[38;5;28mstr\u001B[39m(\u001B[38;5;28mid\u001B[39m(frame)))\n\u001B[1;32m   1179\u001B[0m \u001B[38;5;66;03m# process any stepping instructions\u001B[39;00m\n",
      "\u001B[0;31mKeyboardInterrupt\u001B[0m: "
     ]
    }
   ],
   "source": [],
   "metadata": {
    "collapsed": false
   }
  },
  {
   "cell_type": "markdown",
   "id": "6a5649f3",
   "metadata": {},
   "source": [
    "Now since we've moved our `n` dimension of our inputs into the `shape` part of\n",
    "the register declaration, slicing should work:"
   ]
  },
  {
   "cell_type": "code",
   "execution_count": 61,
   "id": "6db17a87",
   "metadata": {},
   "outputs": [
    {
     "data": {
      "text/plain": "<IPython.core.display.SVG object>",
      "image/svg+xml": "<svg xmlns=\"http://www.w3.org/2000/svg\" xmlns:xlink=\"http://www.w3.org/1999/xlink\" width=\"247pt\" height=\"435pt\" viewBox=\"0.00 0.00 247.00 434.50\">\n<g id=\"graph0\" class=\"graph\" transform=\"scale(1 1) rotate(0) translate(4 430.5)\">\n<title>my_graph</title>\n<polygon fill=\"white\" stroke=\"none\" points=\"-4,4 -4,-430.5 243,-430.5 243,4 -4,4\"/>\n<!-- x_G25 -->\n<g id=\"node1\" class=\"node\">\n<title>x_G25</title>\n<text text-anchor=\"middle\" x=\"27\" y=\"-66.95\" font-family=\"Times,serif\" font-size=\"14.00\">x[0]</text>\n</g>\n<!-- SwapTwoBits_G6 -->\n<g id=\"node12\" class=\"node\">\n<title>SwapTwoBits_G6</title>\n<polygon fill=\"none\" stroke=\"black\" points=\"91,-66.5 91,-83.5 148,-83.5 148,-66.5 91,-66.5\"/>\n<text text-anchor=\"start\" x=\"93.62\" y=\"-71\" font-family=\"Times,serif\" font-size=\"10.00\">SwapTwoB..</text>\n<polygon fill=\"none\" stroke=\"black\" points=\"91,-44.5 91,-66.5 148,-66.5 148,-44.5 91,-44.5\"/>\n<text text-anchor=\"start\" x=\"116.12\" y=\"-50.2\" font-family=\"Times,serif\" font-size=\"14.00\">x</text>\n<polygon fill=\"none\" stroke=\"black\" points=\"91,-22.5 91,-44.5 148,-44.5 148,-22.5 91,-22.5\"/>\n<text text-anchor=\"start\" x=\"116.12\" y=\"-28.2\" font-family=\"Times,serif\" font-size=\"14.00\">y</text>\n</g>\n<!-- x_G25&#45;&gt;SwapTwoBits_G6 -->\n<g id=\"edge1\" class=\"edge\">\n<title>x_G25:e-&gt;SwapTwoBits_G6:w</title>\n<path fill=\"none\" stroke=\"black\" d=\"M54,-72C70.94,-72 72.91,-57.7 88.21,-56.14\"/>\n<ellipse fill=\"black\" stroke=\"black\" cx=\"89.5\" cy=\"-56.07\" rx=\"1\" ry=\"1\"/>\n<text text-anchor=\"middle\" x=\"72.5\" y=\"-65.75\" font-family=\"Times,serif\" font-size=\"10.00\">1</text>\n</g>\n<!-- x_G22 -->\n<g id=\"node2\" class=\"node\">\n<title>x_G22</title>\n<text text-anchor=\"middle\" x=\"27\" y=\"-185.95\" font-family=\"Times,serif\" font-size=\"14.00\">x[1]</text>\n</g>\n<!-- SwapTwoBits_G3 -->\n<g id=\"node11\" class=\"node\">\n<title>SwapTwoBits_G3</title>\n<polygon fill=\"none\" stroke=\"black\" points=\"91,-179.5 91,-196.5 148,-196.5 148,-179.5 91,-179.5\"/>\n<text text-anchor=\"start\" x=\"93.62\" y=\"-184\" font-family=\"Times,serif\" font-size=\"10.00\">SwapTwoB..</text>\n<polygon fill=\"none\" stroke=\"black\" points=\"91,-157.5 91,-179.5 148,-179.5 148,-157.5 91,-157.5\"/>\n<text text-anchor=\"start\" x=\"116.12\" y=\"-163.2\" font-family=\"Times,serif\" font-size=\"14.00\">x</text>\n<polygon fill=\"none\" stroke=\"black\" points=\"91,-135.5 91,-157.5 148,-157.5 148,-135.5 91,-135.5\"/>\n<text text-anchor=\"start\" x=\"116.12\" y=\"-141.2\" font-family=\"Times,serif\" font-size=\"14.00\">y</text>\n</g>\n<!-- x_G22&#45;&gt;SwapTwoBits_G3 -->\n<g id=\"edge3\" class=\"edge\">\n<title>x_G22:e-&gt;SwapTwoBits_G3:w</title>\n<path fill=\"none\" stroke=\"black\" d=\"M54,-191C72.09,-191 71.95,-171.34 88.04,-169.19\"/>\n<ellipse fill=\"black\" stroke=\"black\" cx=\"89.5\" cy=\"-169.1\" rx=\"1\" ry=\"1\"/>\n<text text-anchor=\"middle\" x=\"72.5\" y=\"-181.75\" font-family=\"Times,serif\" font-size=\"10.00\">1</text>\n</g>\n<!-- x_G30 -->\n<g id=\"node3\" class=\"node\">\n<title>x_G30</title>\n<text text-anchor=\"middle\" x=\"27\" y=\"-293.95\" font-family=\"Times,serif\" font-size=\"14.00\">x[2]</text>\n</g>\n<!-- SwapTwoBits_G0 -->\n<g id=\"node10\" class=\"node\">\n<title>SwapTwoBits_G0</title>\n<polygon fill=\"none\" stroke=\"black\" points=\"91,-291.5 91,-308.5 148,-308.5 148,-291.5 91,-291.5\"/>\n<text text-anchor=\"start\" x=\"93.62\" y=\"-296\" font-family=\"Times,serif\" font-size=\"10.00\">SwapTwoB..</text>\n<polygon fill=\"none\" stroke=\"black\" points=\"91,-269.5 91,-291.5 148,-291.5 148,-269.5 91,-269.5\"/>\n<text text-anchor=\"start\" x=\"116.12\" y=\"-275.2\" font-family=\"Times,serif\" font-size=\"14.00\">x</text>\n<polygon fill=\"none\" stroke=\"black\" points=\"91,-247.5 91,-269.5 148,-269.5 148,-247.5 91,-247.5\"/>\n<text text-anchor=\"start\" x=\"116.12\" y=\"-253.2\" font-family=\"Times,serif\" font-size=\"14.00\">y</text>\n</g>\n<!-- x_G30&#45;&gt;SwapTwoBits_G0 -->\n<g id=\"edge5\" class=\"edge\">\n<title>x_G30:e-&gt;SwapTwoBits_G0:w</title>\n<path fill=\"none\" stroke=\"black\" d=\"M54,-299C71.29,-299 72.61,-282.91 88.15,-281.16\"/>\n<ellipse fill=\"black\" stroke=\"black\" cx=\"89.5\" cy=\"-281.08\" rx=\"1\" ry=\"1\"/>\n<text text-anchor=\"middle\" x=\"72.5\" y=\"-291.75\" font-family=\"Times,serif\" font-size=\"10.00\">1</text>\n</g>\n<!-- x_G10 -->\n<g id=\"node4\" class=\"node\">\n<title>x_G10</title>\n<text text-anchor=\"middle\" x=\"27\" y=\"-401.95\" font-family=\"Times,serif\" font-size=\"14.00\">x[3]</text>\n</g>\n<!-- SwapTwoBits -->\n<g id=\"node9\" class=\"node\">\n<title>SwapTwoBits</title>\n<polygon fill=\"none\" stroke=\"black\" points=\"91,-409.5 91,-426.5 148,-426.5 148,-409.5 91,-409.5\"/>\n<text text-anchor=\"start\" x=\"93.62\" y=\"-414\" font-family=\"Times,serif\" font-size=\"10.00\">SwapTwoB..</text>\n<polygon fill=\"none\" stroke=\"black\" points=\"91,-387.5 91,-409.5 148,-409.5 148,-387.5 91,-387.5\"/>\n<text text-anchor=\"start\" x=\"116.12\" y=\"-393.2\" font-family=\"Times,serif\" font-size=\"14.00\">x</text>\n<polygon fill=\"none\" stroke=\"black\" points=\"91,-365.5 91,-387.5 148,-387.5 148,-365.5 91,-365.5\"/>\n<text text-anchor=\"start\" x=\"116.12\" y=\"-371.2\" font-family=\"Times,serif\" font-size=\"14.00\">y</text>\n</g>\n<!-- x_G10&#45;&gt;SwapTwoBits -->\n<g id=\"edge7\" class=\"edge\">\n<title>x_G10:e-&gt;SwapTwoBits:w</title>\n<path fill=\"none\" stroke=\"black\" d=\"M54,-407C69.9,-407 73.77,-399.85 88.36,-399.07\"/>\n<ellipse fill=\"black\" stroke=\"black\" cx=\"89.5\" cy=\"-399.04\" rx=\"1\" ry=\"1\"/>\n<text text-anchor=\"middle\" x=\"72.5\" y=\"-404.75\" font-family=\"Times,serif\" font-size=\"10.00\">1</text>\n</g>\n<!-- y_G15 -->\n<g id=\"node5\" class=\"node\">\n<title>y_G15</title>\n<text text-anchor=\"middle\" x=\"27\" y=\"-12.95\" font-family=\"Times,serif\" font-size=\"14.00\">y[0]</text>\n</g>\n<!-- y_G15&#45;&gt;SwapTwoBits_G6 -->\n<g id=\"edge2\" class=\"edge\">\n<title>y_G15:e-&gt;SwapTwoBits_G6:w</title>\n<path fill=\"none\" stroke=\"black\" d=\"M54,-18C70.77,-18 73.04,-31.4 88.23,-32.87\"/>\n<ellipse fill=\"black\" stroke=\"black\" cx=\"89.5\" cy=\"-32.93\" rx=\"1\" ry=\"1\"/>\n<text text-anchor=\"middle\" x=\"72.5\" y=\"-27.75\" font-family=\"Times,serif\" font-size=\"10.00\">1</text>\n</g>\n<!-- y_G12 -->\n<g id=\"node6\" class=\"node\">\n<title>y_G12</title>\n<text text-anchor=\"middle\" x=\"27\" y=\"-131.95\" font-family=\"Times,serif\" font-size=\"14.00\">y[1]</text>\n</g>\n<!-- y_G12&#45;&gt;SwapTwoBits_G3 -->\n<g id=\"edge4\" class=\"edge\">\n<title>y_G12:e-&gt;SwapTwoBits_G3:w</title>\n<path fill=\"none\" stroke=\"black\" d=\"M54,-137C70,-137 73.69,-145.04 88.34,-145.92\"/>\n<ellipse fill=\"black\" stroke=\"black\" cx=\"89.5\" cy=\"-145.96\" rx=\"1\" ry=\"1\"/>\n<text text-anchor=\"middle\" x=\"72.5\" y=\"-143.75\" font-family=\"Times,serif\" font-size=\"10.00\">1</text>\n</g>\n<!-- y_G19 -->\n<g id=\"node7\" class=\"node\">\n<title>y_G19</title>\n<text text-anchor=\"middle\" x=\"27\" y=\"-239.95\" font-family=\"Times,serif\" font-size=\"14.00\">y[2]</text>\n</g>\n<!-- y_G19&#45;&gt;SwapTwoBits_G0 -->\n<g id=\"edge6\" class=\"edge\">\n<title>y_G19:e-&gt;SwapTwoBits_G0:w</title>\n<path fill=\"none\" stroke=\"black\" d=\"M54,-245C70.48,-245 73.29,-256.62 88.27,-257.89\"/>\n<ellipse fill=\"black\" stroke=\"black\" cx=\"89.5\" cy=\"-257.94\" rx=\"1\" ry=\"1\"/>\n<text text-anchor=\"middle\" x=\"72.5\" y=\"-252.75\" font-family=\"Times,serif\" font-size=\"10.00\">1</text>\n</g>\n<!-- y_G28 -->\n<g id=\"node8\" class=\"node\">\n<title>y_G28</title>\n<text text-anchor=\"middle\" x=\"27\" y=\"-347.95\" font-family=\"Times,serif\" font-size=\"14.00\">y[3]</text>\n</g>\n<!-- y_G28&#45;&gt;SwapTwoBits -->\n<g id=\"edge8\" class=\"edge\">\n<title>y_G28:e-&gt;SwapTwoBits:w</title>\n<path fill=\"none\" stroke=\"black\" d=\"M54,-353C72.46,-353 71.75,-373.89 88.41,-375.85\"/>\n<ellipse fill=\"black\" stroke=\"black\" cx=\"89.5\" cy=\"-375.91\" rx=\"1\" ry=\"1\"/>\n<text text-anchor=\"middle\" x=\"72.5\" y=\"-365.75\" font-family=\"Times,serif\" font-size=\"10.00\">1</text>\n</g>\n<!-- x_G23 -->\n<g id=\"node16\" class=\"node\">\n<title>x_G23</title>\n<text text-anchor=\"middle\" x=\"212\" y=\"-400.95\" font-family=\"Times,serif\" font-size=\"14.00\">x[3]</text>\n</g>\n<!-- SwapTwoBits&#45;&gt;x_G23 -->\n<g id=\"edge12\" class=\"edge\">\n<title>SwapTwoBits:e-&gt;x_G23:w</title>\n<path fill=\"none\" stroke=\"black\" d=\"M148,-399C163.69,-399 167.77,-405.15 182.01,-405.92\"/>\n<ellipse fill=\"black\" stroke=\"black\" cx=\"183.5\" cy=\"-405.96\" rx=\"1\" ry=\"1\"/>\n<text text-anchor=\"middle\" x=\"166.5\" y=\"-403.75\" font-family=\"Times,serif\" font-size=\"10.00\">1</text>\n</g>\n<!-- y_G9 -->\n<g id=\"node20\" class=\"node\">\n<title>y_G9</title>\n<text text-anchor=\"middle\" x=\"212\" y=\"-346.95\" font-family=\"Times,serif\" font-size=\"14.00\">y[3]</text>\n</g>\n<!-- SwapTwoBits&#45;&gt;y_G9 -->\n<g id=\"edge16\" class=\"edge\">\n<title>SwapTwoBits:e-&gt;y_G9:w</title>\n<path fill=\"none\" stroke=\"black\" d=\"M148,-376C166.68,-376 165.56,-354.2 182.38,-352.15\"/>\n<ellipse fill=\"black\" stroke=\"black\" cx=\"183.5\" cy=\"-352.09\" rx=\"1\" ry=\"1\"/>\n<text text-anchor=\"middle\" x=\"166.5\" y=\"-365.75\" font-family=\"Times,serif\" font-size=\"10.00\">1</text>\n</g>\n<!-- x_G17 -->\n<g id=\"node15\" class=\"node\">\n<title>x_G17</title>\n<text text-anchor=\"middle\" x=\"212\" y=\"-290.95\" font-family=\"Times,serif\" font-size=\"14.00\">x[2]</text>\n</g>\n<!-- SwapTwoBits_G0&#45;&gt;x_G17 -->\n<g id=\"edge11\" class=\"edge\">\n<title>SwapTwoBits_G0:e-&gt;x_G17:w</title>\n<path fill=\"none\" stroke=\"black\" d=\"M148,-281C164.77,-281 167.04,-294.4 182.23,-295.87\"/>\n<ellipse fill=\"black\" stroke=\"black\" cx=\"183.5\" cy=\"-295.93\" rx=\"1\" ry=\"1\"/>\n<text text-anchor=\"middle\" x=\"166.5\" y=\"-289.75\" font-family=\"Times,serif\" font-size=\"10.00\">1</text>\n</g>\n<!-- y_G27 -->\n<g id=\"node19\" class=\"node\">\n<title>y_G27</title>\n<text text-anchor=\"middle\" x=\"212\" y=\"-236.95\" font-family=\"Times,serif\" font-size=\"14.00\">y[2]</text>\n</g>\n<!-- SwapTwoBits_G0&#45;&gt;y_G27 -->\n<g id=\"edge15\" class=\"edge\">\n<title>SwapTwoBits_G0:e-&gt;y_G27:w</title>\n<path fill=\"none\" stroke=\"black\" d=\"M148,-258C164.94,-258 166.91,-243.7 182.21,-242.14\"/>\n<ellipse fill=\"black\" stroke=\"black\" cx=\"183.5\" cy=\"-242.07\" rx=\"1\" ry=\"1\"/>\n<text text-anchor=\"middle\" x=\"166.5\" y=\"-251.75\" font-family=\"Times,serif\" font-size=\"10.00\">1</text>\n</g>\n<!-- x_G11 -->\n<g id=\"node14\" class=\"node\">\n<title>x_G11</title>\n<text text-anchor=\"middle\" x=\"212\" y=\"-178.95\" font-family=\"Times,serif\" font-size=\"14.00\">x[1]</text>\n</g>\n<!-- SwapTwoBits_G3&#45;&gt;x_G11 -->\n<g id=\"edge10\" class=\"edge\">\n<title>SwapTwoBits_G3:e-&gt;x_G11:w</title>\n<path fill=\"none\" stroke=\"black\" d=\"M148,-169C164.77,-169 167.04,-182.4 182.23,-183.87\"/>\n<ellipse fill=\"black\" stroke=\"black\" cx=\"183.5\" cy=\"-183.93\" rx=\"1\" ry=\"1\"/>\n<text text-anchor=\"middle\" x=\"166.5\" y=\"-178.75\" font-family=\"Times,serif\" font-size=\"10.00\">1</text>\n</g>\n<!-- y_G21 -->\n<g id=\"node18\" class=\"node\">\n<title>y_G21</title>\n<text text-anchor=\"middle\" x=\"212\" y=\"-124.95\" font-family=\"Times,serif\" font-size=\"14.00\">y[1]</text>\n</g>\n<!-- SwapTwoBits_G3&#45;&gt;y_G21 -->\n<g id=\"edge14\" class=\"edge\">\n<title>SwapTwoBits_G3:e-&gt;y_G21:w</title>\n<path fill=\"none\" stroke=\"black\" d=\"M148,-146C164.94,-146 166.91,-131.7 182.21,-130.14\"/>\n<ellipse fill=\"black\" stroke=\"black\" cx=\"183.5\" cy=\"-130.07\" rx=\"1\" ry=\"1\"/>\n<text text-anchor=\"middle\" x=\"166.5\" y=\"-139.75\" font-family=\"Times,serif\" font-size=\"10.00\">1</text>\n</g>\n<!-- x_G13 -->\n<g id=\"node13\" class=\"node\">\n<title>x_G13</title>\n<text text-anchor=\"middle\" x=\"212\" y=\"-70.95\" font-family=\"Times,serif\" font-size=\"14.00\">x[0]</text>\n</g>\n<!-- SwapTwoBits_G6&#45;&gt;x_G13 -->\n<g id=\"edge9\" class=\"edge\">\n<title>SwapTwoBits_G6:e-&gt;x_G13:w</title>\n<path fill=\"none\" stroke=\"black\" d=\"M148,-56C165.67,-56 166.29,-73.87 182.1,-75.83\"/>\n<ellipse fill=\"black\" stroke=\"black\" cx=\"183.5\" cy=\"-75.91\" rx=\"1\" ry=\"1\"/>\n<text text-anchor=\"middle\" x=\"166.5\" y=\"-67.75\" font-family=\"Times,serif\" font-size=\"10.00\">1</text>\n</g>\n<!-- y_G24 -->\n<g id=\"node17\" class=\"node\">\n<title>y_G24</title>\n<text text-anchor=\"middle\" x=\"212\" y=\"-16.95\" font-family=\"Times,serif\" font-size=\"14.00\">y[0]</text>\n</g>\n<!-- SwapTwoBits_G6&#45;&gt;y_G24 -->\n<g id=\"edge13\" class=\"edge\">\n<title>SwapTwoBits_G6:e-&gt;y_G24:w</title>\n<path fill=\"none\" stroke=\"black\" d=\"M148,-33C164.22,-33 167.51,-23.17 182.31,-22.1\"/>\n<ellipse fill=\"black\" stroke=\"black\" cx=\"183.5\" cy=\"-22.05\" rx=\"1\" ry=\"1\"/>\n<text text-anchor=\"middle\" x=\"166.5\" y=\"-29.75\" font-family=\"Times,serif\" font-size=\"10.00\">1</text>\n</g>\n</g>\n</svg>"
     },
     "metadata": {},
     "output_type": "display_data"
    }
   ],
   "source": [
    "cbloq = SwapManyBits(n=4).decompose_bloq()\n",
    "show_bloq(cbloq)"
   ]
  },
  {
   "cell_type": "markdown",
   "id": "41a1cb9a",
   "metadata": {},
   "source": [
    "The problem is now we (once again) have a Python object constructed for each bit:"
   ]
  },
  {
   "cell_type": "code",
   "execution_count": 62,
   "id": "a301b582",
   "metadata": {},
   "outputs": [
    {
     "data": {
      "text/plain": "<IPython.core.display.SVG object>",
      "image/svg+xml": "<svg xmlns=\"http://www.w3.org/2000/svg\" xmlns:xlink=\"http://www.w3.org/1999/xlink\" width=\"246pt\" height=\"422pt\" viewBox=\"0.00 0.00 246.00 422.00\">\n<g id=\"graph0\" class=\"graph\" transform=\"scale(1 1) rotate(0) translate(4 418)\">\n<title>my_graph</title>\n<polygon fill=\"white\" stroke=\"none\" points=\"-4,4 -4,-418 242,-418 242,4 -4,4\"/>\n<!-- x_G18 -->\n<g id=\"node1\" class=\"node\">\n<title>x_G18</title>\n<text text-anchor=\"middle\" x=\"27\" y=\"-390.95\" font-family=\"Times,serif\" font-size=\"14.00\">x[0]</text>\n</g>\n<!-- SwapManyBits -->\n<g id=\"node9\" class=\"node\">\n<title>SwapManyBits</title>\n<polygon fill=\"none\" stroke=\"black\" points=\"91,-294.5 91,-311.5 147,-311.5 147,-294.5 91,-294.5\"/>\n<text text-anchor=\"start\" x=\"93.88\" y=\"-299\" font-family=\"Times,serif\" font-size=\"10.00\">SwapMany..</text>\n<polygon fill=\"none\" stroke=\"black\" points=\"91,-272.5 91,-294.5 147,-294.5 147,-272.5 91,-272.5\"/>\n<text text-anchor=\"start\" x=\"107.75\" y=\"-278.2\" font-family=\"Times,serif\" font-size=\"14.00\">x[0]</text>\n<polygon fill=\"none\" stroke=\"black\" points=\"91,-250.5 91,-272.5 147,-272.5 147,-250.5 91,-250.5\"/>\n<text text-anchor=\"start\" x=\"107.75\" y=\"-256.2\" font-family=\"Times,serif\" font-size=\"14.00\">x[1]</text>\n<polygon fill=\"none\" stroke=\"black\" points=\"91,-228.5 91,-250.5 147,-250.5 147,-228.5 91,-228.5\"/>\n<text text-anchor=\"start\" x=\"107.75\" y=\"-234.2\" font-family=\"Times,serif\" font-size=\"14.00\">x[2]</text>\n<polygon fill=\"none\" stroke=\"black\" points=\"91,-206.5 91,-228.5 147,-228.5 147,-206.5 91,-206.5\"/>\n<text text-anchor=\"start\" x=\"107.75\" y=\"-212.2\" font-family=\"Times,serif\" font-size=\"14.00\">x[3]</text>\n<polygon fill=\"none\" stroke=\"black\" points=\"91,-184.5 91,-206.5 147,-206.5 147,-184.5 91,-184.5\"/>\n<text text-anchor=\"start\" x=\"107.75\" y=\"-190.2\" font-family=\"Times,serif\" font-size=\"14.00\">y[0]</text>\n<polygon fill=\"none\" stroke=\"black\" points=\"91,-162.5 91,-184.5 147,-184.5 147,-162.5 91,-162.5\"/>\n<text text-anchor=\"start\" x=\"107.75\" y=\"-168.2\" font-family=\"Times,serif\" font-size=\"14.00\">y[1]</text>\n<polygon fill=\"none\" stroke=\"black\" points=\"91,-140.5 91,-162.5 147,-162.5 147,-140.5 91,-140.5\"/>\n<text text-anchor=\"start\" x=\"107.75\" y=\"-146.2\" font-family=\"Times,serif\" font-size=\"14.00\">y[2]</text>\n<polygon fill=\"none\" stroke=\"black\" points=\"91,-118.5 91,-140.5 147,-140.5 147,-118.5 91,-118.5\"/>\n<text text-anchor=\"start\" x=\"107.75\" y=\"-124.2\" font-family=\"Times,serif\" font-size=\"14.00\">y[3]</text>\n</g>\n<!-- x_G18&#45;&gt;SwapManyBits -->\n<g id=\"edge1\" class=\"edge\">\n<title>x_G18:e-&gt;SwapManyBits:w</title>\n<path fill=\"none\" stroke=\"black\" d=\"M54,-396C79.19,-396 65.93,-292.58 88.11,-284.5\"/>\n<ellipse fill=\"black\" stroke=\"black\" cx=\"89.52\" cy=\"-284.26\" rx=\"1\" ry=\"1\"/>\n<text text-anchor=\"middle\" x=\"72.5\" y=\"-344.75\" font-family=\"Times,serif\" font-size=\"10.00\">1</text>\n</g>\n<!-- x_G14 -->\n<g id=\"node2\" class=\"node\">\n<title>x_G14</title>\n<text text-anchor=\"middle\" x=\"27\" y=\"-336.95\" font-family=\"Times,serif\" font-size=\"14.00\">x[1]</text>\n</g>\n<!-- x_G14&#45;&gt;SwapManyBits -->\n<g id=\"edge2\" class=\"edge\">\n<title>x_G14:e-&gt;SwapManyBits:w</title>\n<path fill=\"none\" stroke=\"black\" d=\"M54,-342C92.26,-342 53.72,-265.71 88.38,-262.13\"/>\n<ellipse fill=\"black\" stroke=\"black\" cx=\"89.5\" cy=\"-262.07\" rx=\"1\" ry=\"1\"/>\n<text text-anchor=\"middle\" x=\"72.5\" y=\"-323.75\" font-family=\"Times,serif\" font-size=\"10.00\">1</text>\n</g>\n<!-- x_G23 -->\n<g id=\"node3\" class=\"node\">\n<title>x_G23</title>\n<text text-anchor=\"middle\" x=\"27\" y=\"-282.95\" font-family=\"Times,serif\" font-size=\"14.00\">x[2]</text>\n</g>\n<!-- x_G23&#45;&gt;SwapManyBits -->\n<g id=\"edge3\" class=\"edge\">\n<title>x_G23:e-&gt;SwapManyBits:w</title>\n<path fill=\"none\" stroke=\"black\" d=\"M54,-288C79.88,-288 65.32,-243.68 88.04,-240.21\"/>\n<ellipse fill=\"black\" stroke=\"black\" cx=\"89.5\" cy=\"-240.11\" rx=\"1\" ry=\"1\"/>\n<text text-anchor=\"middle\" x=\"72.5\" y=\"-266.75\" font-family=\"Times,serif\" font-size=\"10.00\">1</text>\n</g>\n<!-- x_G1 -->\n<g id=\"node4\" class=\"node\">\n<title>x_G1</title>\n<text text-anchor=\"middle\" x=\"27\" y=\"-228.95\" font-family=\"Times,serif\" font-size=\"14.00\">x[3]</text>\n</g>\n<!-- x_G1&#45;&gt;SwapManyBits -->\n<g id=\"edge4\" class=\"edge\">\n<title>x_G1:e-&gt;SwapManyBits:w</title>\n<path fill=\"none\" stroke=\"black\" d=\"M54,-234C70.94,-234 72.91,-219.7 88.21,-218.14\"/>\n<ellipse fill=\"black\" stroke=\"black\" cx=\"89.5\" cy=\"-218.07\" rx=\"1\" ry=\"1\"/>\n<text text-anchor=\"middle\" x=\"72.5\" y=\"-227.75\" font-family=\"Times,serif\" font-size=\"10.00\">1</text>\n</g>\n<!-- y_G8 -->\n<g id=\"node5\" class=\"node\">\n<title>y_G8</title>\n<text text-anchor=\"middle\" x=\"27\" y=\"-174.95\" font-family=\"Times,serif\" font-size=\"14.00\">y[0]</text>\n</g>\n<!-- y_G8&#45;&gt;SwapManyBits -->\n<g id=\"edge5\" class=\"edge\">\n<title>y_G8:e-&gt;SwapManyBits:w</title>\n<path fill=\"none\" stroke=\"black\" d=\"M54,-180C70.77,-180 73.04,-193.4 88.23,-194.87\"/>\n<ellipse fill=\"black\" stroke=\"black\" cx=\"89.5\" cy=\"-194.93\" rx=\"1\" ry=\"1\"/>\n<text text-anchor=\"middle\" x=\"72.5\" y=\"-188.75\" font-family=\"Times,serif\" font-size=\"10.00\">1</text>\n</g>\n<!-- y_G5 -->\n<g id=\"node6\" class=\"node\">\n<title>y_G5</title>\n<text text-anchor=\"middle\" x=\"27\" y=\"-120.95\" font-family=\"Times,serif\" font-size=\"14.00\">y[1]</text>\n</g>\n<!-- y_G5&#45;&gt;SwapManyBits -->\n<g id=\"edge6\" class=\"edge\">\n<title>y_G5:e-&gt;SwapManyBits:w</title>\n<path fill=\"none\" stroke=\"black\" d=\"M54,-126C79.55,-126 65.61,-169.4 88.08,-172.79\"/>\n<ellipse fill=\"black\" stroke=\"black\" cx=\"89.5\" cy=\"-172.89\" rx=\"1\" ry=\"1\"/>\n<text text-anchor=\"middle\" x=\"72.5\" y=\"-151.75\" font-family=\"Times,serif\" font-size=\"10.00\">1</text>\n</g>\n<!-- y_G11 -->\n<g id=\"node7\" class=\"node\">\n<title>y_G11</title>\n<text text-anchor=\"middle\" x=\"27\" y=\"-66.95\" font-family=\"Times,serif\" font-size=\"14.00\">y[2]</text>\n</g>\n<!-- y_G11&#45;&gt;SwapManyBits -->\n<g id=\"edge7\" class=\"edge\">\n<title>y_G11:e-&gt;SwapManyBits:w</title>\n<path fill=\"none\" stroke=\"black\" d=\"M54,-72C91.86,-72 54.09,-147.34 88.4,-150.87\"/>\n<ellipse fill=\"black\" stroke=\"black\" cx=\"89.5\" cy=\"-150.93\" rx=\"1\" ry=\"1\"/>\n<text text-anchor=\"middle\" x=\"72.5\" y=\"-132.75\" font-family=\"Times,serif\" font-size=\"10.00\">1</text>\n</g>\n<!-- y_G22 -->\n<g id=\"node8\" class=\"node\">\n<title>y_G22</title>\n<text text-anchor=\"middle\" x=\"27\" y=\"-12.95\" font-family=\"Times,serif\" font-size=\"14.00\">y[3]</text>\n</g>\n<!-- y_G22&#45;&gt;SwapManyBits -->\n<g id=\"edge8\" class=\"edge\">\n<title>y_G22:e-&gt;SwapManyBits:w</title>\n<path fill=\"none\" stroke=\"black\" d=\"M54,-18C78.99,-18 66.11,-120.5 88.14,-128.51\"/>\n<ellipse fill=\"black\" stroke=\"black\" cx=\"89.52\" cy=\"-128.74\" rx=\"1\" ry=\"1\"/>\n<text text-anchor=\"middle\" x=\"72.5\" y=\"-78.75\" font-family=\"Times,serif\" font-size=\"10.00\">1</text>\n</g>\n<!-- x_G7 -->\n<g id=\"node10\" class=\"node\">\n<title>x_G7</title>\n<text text-anchor=\"middle\" x=\"211\" y=\"-390.95\" font-family=\"Times,serif\" font-size=\"14.00\">x[0]</text>\n</g>\n<!-- SwapManyBits&#45;&gt;x_G7 -->\n<g id=\"edge9\" class=\"edge\">\n<title>SwapManyBits:e-&gt;x_G7:w</title>\n<path fill=\"none\" stroke=\"black\" d=\"M147,-284C172.19,-284 158.93,-387.42 181.11,-395.5\"/>\n<ellipse fill=\"black\" stroke=\"black\" cx=\"182.52\" cy=\"-395.74\" rx=\"1\" ry=\"1\"/>\n<text text-anchor=\"middle\" x=\"165.5\" y=\"-344.75\" font-family=\"Times,serif\" font-size=\"10.00\">1</text>\n</g>\n<!-- x_G4 -->\n<g id=\"node11\" class=\"node\">\n<title>x_G4</title>\n<text text-anchor=\"middle\" x=\"211\" y=\"-336.95\" font-family=\"Times,serif\" font-size=\"14.00\">x[1]</text>\n</g>\n<!-- SwapManyBits&#45;&gt;x_G4 -->\n<g id=\"edge10\" class=\"edge\">\n<title>SwapManyBits:e-&gt;x_G4:w</title>\n<path fill=\"none\" stroke=\"black\" d=\"M147,-262C185.26,-262 146.72,-338.29 181.38,-341.87\"/>\n<ellipse fill=\"black\" stroke=\"black\" cx=\"182.5\" cy=\"-341.93\" rx=\"1\" ry=\"1\"/>\n<text text-anchor=\"middle\" x=\"165.5\" y=\"-323.75\" font-family=\"Times,serif\" font-size=\"10.00\">1</text>\n</g>\n<!-- x_G10 -->\n<g id=\"node12\" class=\"node\">\n<title>x_G10</title>\n<text text-anchor=\"middle\" x=\"211\" y=\"-282.95\" font-family=\"Times,serif\" font-size=\"14.00\">x[2]</text>\n</g>\n<!-- SwapManyBits&#45;&gt;x_G10 -->\n<g id=\"edge11\" class=\"edge\">\n<title>SwapManyBits:e-&gt;x_G10:w</title>\n<path fill=\"none\" stroke=\"black\" d=\"M147,-240C172.88,-240 158.32,-284.32 181.04,-287.79\"/>\n<ellipse fill=\"black\" stroke=\"black\" cx=\"182.5\" cy=\"-287.89\" rx=\"1\" ry=\"1\"/>\n<text text-anchor=\"middle\" x=\"165.5\" y=\"-266.75\" font-family=\"Times,serif\" font-size=\"10.00\">1</text>\n</g>\n<!-- x_G15 -->\n<g id=\"node13\" class=\"node\">\n<title>x_G15</title>\n<text text-anchor=\"middle\" x=\"211\" y=\"-228.95\" font-family=\"Times,serif\" font-size=\"14.00\">x[3]</text>\n</g>\n<!-- SwapManyBits&#45;&gt;x_G15 -->\n<g id=\"edge12\" class=\"edge\">\n<title>SwapManyBits:e-&gt;x_G15:w</title>\n<path fill=\"none\" stroke=\"black\" d=\"M147,-218C163.94,-218 165.91,-232.3 181.21,-233.86\"/>\n<ellipse fill=\"black\" stroke=\"black\" cx=\"182.5\" cy=\"-233.93\" rx=\"1\" ry=\"1\"/>\n<text text-anchor=\"middle\" x=\"165.5\" y=\"-227.75\" font-family=\"Times,serif\" font-size=\"10.00\">1</text>\n</g>\n<!-- y_G16 -->\n<g id=\"node14\" class=\"node\">\n<title>y_G16</title>\n<text text-anchor=\"middle\" x=\"211\" y=\"-174.95\" font-family=\"Times,serif\" font-size=\"14.00\">y[0]</text>\n</g>\n<!-- SwapManyBits&#45;&gt;y_G16 -->\n<g id=\"edge13\" class=\"edge\">\n<title>SwapManyBits:e-&gt;y_G16:w</title>\n<path fill=\"none\" stroke=\"black\" d=\"M147,-195C163.77,-195 166.04,-181.6 181.23,-180.13\"/>\n<ellipse fill=\"black\" stroke=\"black\" cx=\"182.5\" cy=\"-180.07\" rx=\"1\" ry=\"1\"/>\n<text text-anchor=\"middle\" x=\"165.5\" y=\"-188.75\" font-family=\"Times,serif\" font-size=\"10.00\">1</text>\n</g>\n<!-- y_G13 -->\n<g id=\"node15\" class=\"node\">\n<title>y_G13</title>\n<text text-anchor=\"middle\" x=\"211\" y=\"-120.95\" font-family=\"Times,serif\" font-size=\"14.00\">y[1]</text>\n</g>\n<!-- SwapManyBits&#45;&gt;y_G13 -->\n<g id=\"edge14\" class=\"edge\">\n<title>SwapManyBits:e-&gt;y_G13:w</title>\n<path fill=\"none\" stroke=\"black\" d=\"M147,-173C172.55,-173 158.61,-129.6 181.08,-126.21\"/>\n<ellipse fill=\"black\" stroke=\"black\" cx=\"182.5\" cy=\"-126.11\" rx=\"1\" ry=\"1\"/>\n<text text-anchor=\"middle\" x=\"165.5\" y=\"-151.75\" font-family=\"Times,serif\" font-size=\"10.00\">1</text>\n</g>\n<!-- y_G21 -->\n<g id=\"node16\" class=\"node\">\n<title>y_G21</title>\n<text text-anchor=\"middle\" x=\"211\" y=\"-66.95\" font-family=\"Times,serif\" font-size=\"14.00\">y[2]</text>\n</g>\n<!-- SwapManyBits&#45;&gt;y_G21 -->\n<g id=\"edge15\" class=\"edge\">\n<title>SwapManyBits:e-&gt;y_G21:w</title>\n<path fill=\"none\" stroke=\"black\" d=\"M147,-151C184.86,-151 147.09,-75.66 181.4,-72.13\"/>\n<ellipse fill=\"black\" stroke=\"black\" cx=\"182.5\" cy=\"-72.07\" rx=\"1\" ry=\"1\"/>\n<text text-anchor=\"middle\" x=\"165.5\" y=\"-132.75\" font-family=\"Times,serif\" font-size=\"10.00\">1</text>\n</g>\n<!-- y_G0 -->\n<g id=\"node17\" class=\"node\">\n<title>y_G0</title>\n<text text-anchor=\"middle\" x=\"211\" y=\"-12.95\" font-family=\"Times,serif\" font-size=\"14.00\">y[3]</text>\n</g>\n<!-- SwapManyBits&#45;&gt;y_G0 -->\n<g id=\"edge16\" class=\"edge\">\n<title>SwapManyBits:e-&gt;y_G0:w</title>\n<path fill=\"none\" stroke=\"black\" d=\"M147,-129C171.99,-129 159.11,-26.5 181.14,-18.49\"/>\n<ellipse fill=\"black\" stroke=\"black\" cx=\"182.52\" cy=\"-18.26\" rx=\"1\" ry=\"1\"/>\n<text text-anchor=\"middle\" x=\"165.5\" y=\"-78.75\" font-family=\"Times,serif\" font-size=\"10.00\">1</text>\n</g>\n</g>\n</svg>"
     },
     "metadata": {},
     "output_type": "display_data"
    }
   ],
   "source": [
    "show_bloq(SwapManyBits(n=4))"
   ]
  },
  {
   "cell_type": "markdown",
   "id": "57f16270",
   "metadata": {},
   "source": [
    "<div class=\"alert alert-block alert-info\">Forget about trying to show `n=10_000`.</div>\n",
    "\n",
    "Can we have the best of both worlds? Yes: the general technique is to represent the Bloq\n",
    "definition in as high-level terms as practical and use `bb.split(...)` and `bb.join(...)`\n",
    "to break apart registers during decomposition. This way a user can use the Bloq as a black-box\n",
    "without incurring the performance overhead of representing each bit if they do not care about\n",
    "the decomposition. If they *are* interested in the decomposition, then the cost will only be\n",
    "paid when actually doing the decomposition."
   ]
  },
  {
   "cell_type": "code",
   "execution_count": 23,
   "id": "99f9fd52",
   "metadata": {},
   "outputs": [],
   "source": [
    "@attrs.frozen\n",
    "class Swap(Bloq):\n",
    "    n: int\n",
    "\n",
    "    @property\n",
    "    def signature(self):\n",
    "        return Signature.build(x=self.n, y=self.n)\n",
    "\n",
    "    def build_composite_bloq(\n",
    "            self, bb: BloqBuilder, *, x: SoquetT, y: SoquetT\n",
    "    ) -> Dict[str, SoquetT]:\n",
    "        xs = bb.split(x)\n",
    "        ys = bb.split(y)\n",
    "\n",
    "        for i in range(self.n):\n",
    "            xs[i], ys[i] = bb.add(SwapTwoBits(), x=xs[i], y=ys[i])\n",
    "        return {\n",
    "            'x': bb.join(xs),\n",
    "            'y': bb.join(ys),\n",
    "        }"
   ]
  },
  {
   "cell_type": "code",
   "execution_count": 41,
   "outputs": [
    {
     "ename": "KeyboardInterrupt",
     "evalue": "",
     "output_type": "error",
     "traceback": [
      "\u001B[0;31m---------------------------------------------------------------------------\u001B[0m",
      "\u001B[0;31mKeyboardInterrupt\u001B[0m                         Traceback (most recent call last)",
      "Cell \u001B[0;32mIn[41], line 2\u001B[0m\n\u001B[1;32m      1\u001B[0m swap \u001B[38;5;241m=\u001B[39m Swap(\u001B[38;5;241m5\u001B[39m)\n\u001B[0;32m----> 2\u001B[0m listEl \u001B[38;5;241m=\u001B[39m \u001B[38;5;28;43mlist\u001B[39;49m(swap\u001B[38;5;241m.\u001B[39mdecompose_bloq()\u001B[38;5;241m.\u001B[39miter_bloqsoqs())\n\u001B[1;32m      3\u001B[0m \u001B[38;5;28;01mfor\u001B[39;00m el \u001B[38;5;129;01min\u001B[39;00m swap\u001B[38;5;241m.\u001B[39mdecompose_bloq()\u001B[38;5;241m.\u001B[39miter_bloqsoqs():\n\u001B[1;32m      4\u001B[0m     \u001B[38;5;28mprint\u001B[39m(el)\n",
      "Cell \u001B[0;32mIn[41], line 2\u001B[0m\n\u001B[1;32m      1\u001B[0m swap \u001B[38;5;241m=\u001B[39m Swap(\u001B[38;5;241m5\u001B[39m)\n\u001B[0;32m----> 2\u001B[0m listEl \u001B[38;5;241m=\u001B[39m \u001B[38;5;28;43mlist\u001B[39;49m(swap\u001B[38;5;241m.\u001B[39mdecompose_bloq()\u001B[38;5;241m.\u001B[39miter_bloqsoqs())\n\u001B[1;32m      3\u001B[0m \u001B[38;5;28;01mfor\u001B[39;00m el \u001B[38;5;129;01min\u001B[39;00m swap\u001B[38;5;241m.\u001B[39mdecompose_bloq()\u001B[38;5;241m.\u001B[39miter_bloqsoqs():\n\u001B[1;32m      4\u001B[0m     \u001B[38;5;28mprint\u001B[39m(el)\n",
      "File \u001B[0;32m_pydevd_bundle/pydevd_cython_darwin_310_64.pyx:1179\u001B[0m, in \u001B[0;36m_pydevd_bundle.pydevd_cython_darwin_310_64.SafeCallWrapper.__call__\u001B[0;34m()\u001B[0m\n",
      "File \u001B[0;32m_pydevd_bundle/pydevd_cython_darwin_310_64.pyx:620\u001B[0m, in \u001B[0;36m_pydevd_bundle.pydevd_cython_darwin_310_64.PyDBFrame.trace_dispatch\u001B[0;34m()\u001B[0m\n",
      "File \u001B[0;32m_pydevd_bundle/pydevd_cython_darwin_310_64.pyx:929\u001B[0m, in \u001B[0;36m_pydevd_bundle.pydevd_cython_darwin_310_64.PyDBFrame.trace_dispatch\u001B[0;34m()\u001B[0m\n",
      "File \u001B[0;32m_pydevd_bundle/pydevd_cython_darwin_310_64.pyx:920\u001B[0m, in \u001B[0;36m_pydevd_bundle.pydevd_cython_darwin_310_64.PyDBFrame.trace_dispatch\u001B[0;34m()\u001B[0m\n",
      "File \u001B[0;32m_pydevd_bundle/pydevd_cython_darwin_310_64.pyx:317\u001B[0m, in \u001B[0;36m_pydevd_bundle.pydevd_cython_darwin_310_64.PyDBFrame.do_wait_suspend\u001B[0;34m()\u001B[0m\n",
      "File \u001B[0;32m/Applications/PyCharm.app/Contents/plugins/python/helpers/pydev/pydevd.py:1160\u001B[0m, in \u001B[0;36mPyDB.do_wait_suspend\u001B[0;34m(self, thread, frame, event, arg, send_suspend_message, is_unhandled_exception)\u001B[0m\n\u001B[1;32m   1157\u001B[0m         from_this_thread\u001B[38;5;241m.\u001B[39mappend(frame_id)\n\u001B[1;32m   1159\u001B[0m \u001B[38;5;28;01mwith\u001B[39;00m \u001B[38;5;28mself\u001B[39m\u001B[38;5;241m.\u001B[39m_threads_suspended_single_notification\u001B[38;5;241m.\u001B[39mnotify_thread_suspended(thread_id, stop_reason):\n\u001B[0;32m-> 1160\u001B[0m     \u001B[38;5;28;43mself\u001B[39;49m\u001B[38;5;241;43m.\u001B[39;49m\u001B[43m_do_wait_suspend\u001B[49m\u001B[43m(\u001B[49m\u001B[43mthread\u001B[49m\u001B[43m,\u001B[49m\u001B[43m \u001B[49m\u001B[43mframe\u001B[49m\u001B[43m,\u001B[49m\u001B[43m \u001B[49m\u001B[43mevent\u001B[49m\u001B[43m,\u001B[49m\u001B[43m \u001B[49m\u001B[43marg\u001B[49m\u001B[43m,\u001B[49m\u001B[43m \u001B[49m\u001B[43msuspend_type\u001B[49m\u001B[43m,\u001B[49m\u001B[43m \u001B[49m\u001B[43mfrom_this_thread\u001B[49m\u001B[43m)\u001B[49m\n",
      "File \u001B[0;32m/Applications/PyCharm.app/Contents/plugins/python/helpers/pydev/pydevd.py:1175\u001B[0m, in \u001B[0;36mPyDB._do_wait_suspend\u001B[0;34m(self, thread, frame, event, arg, suspend_type, from_this_thread)\u001B[0m\n\u001B[1;32m   1172\u001B[0m             \u001B[38;5;28mself\u001B[39m\u001B[38;5;241m.\u001B[39m_call_mpl_hook()\n\u001B[1;32m   1174\u001B[0m         \u001B[38;5;28mself\u001B[39m\u001B[38;5;241m.\u001B[39mprocess_internal_commands()\n\u001B[0;32m-> 1175\u001B[0m         \u001B[43mtime\u001B[49m\u001B[38;5;241;43m.\u001B[39;49m\u001B[43msleep\u001B[49m\u001B[43m(\u001B[49m\u001B[38;5;241;43m0.01\u001B[39;49m\u001B[43m)\u001B[49m\n\u001B[1;32m   1177\u001B[0m \u001B[38;5;28mself\u001B[39m\u001B[38;5;241m.\u001B[39mcancel_async_evaluation(get_current_thread_id(thread), \u001B[38;5;28mstr\u001B[39m(\u001B[38;5;28mid\u001B[39m(frame)))\n\u001B[1;32m   1179\u001B[0m \u001B[38;5;66;03m# process any stepping instructions\u001B[39;00m\n",
      "\u001B[0;31mKeyboardInterrupt\u001B[0m: "
     ]
    }
   ],
   "source": [
    "swap = Swap(5)\n",
    "listEl = list(swap.decompose_bloq().iter_bloqsoqs())\n",
    "for el in swap.decompose_bloq().iter_bloqsoqs():\n",
    "    print(el)"
   ],
   "metadata": {
    "collapsed": false
   }
  },
  {
   "cell_type": "code",
   "execution_count": 64,
   "id": "c5932695",
   "metadata": {},
   "outputs": [
    {
     "data": {
      "text/plain": "<IPython.core.display.SVG object>",
      "image/svg+xml": "<svg xmlns=\"http://www.w3.org/2000/svg\" xmlns:xlink=\"http://www.w3.org/1999/xlink\" width=\"345pt\" height=\"385pt\" viewBox=\"0.00 0.00 345.00 385.00\">\n<g id=\"graph0\" class=\"graph\" transform=\"scale(1 1) rotate(0) translate(4 381)\">\n<title>my_graph</title>\n<polygon fill=\"white\" stroke=\"none\" points=\"-4,4 -4,-381 341,-381 341,4 -4,4\"/>\n<!-- x_G51 -->\n<g id=\"node1\" class=\"node\">\n<title>x_G51</title>\n<text text-anchor=\"middle\" x=\"27\" y=\"-218.45\" font-family=\"Times,serif\" font-size=\"14.00\">x</text>\n</g>\n<!-- Split_G9 -->\n<g id=\"node9\" class=\"node\">\n<title>Split_G9</title>\n<polygon fill=\"none\" stroke=\"black\" points=\"91,-238.5 91,-244.5 103,-244.5 103,-238.5 91,-238.5\"/>\n<polygon fill=\"none\" stroke=\"black\" points=\"91,-208.5 91,-238.5 97,-238.5 97,-208.5 91,-208.5\"/>\n<polygon fill=\"none\" stroke=\"black\" points=\"97,-232.5 97,-238.5 103,-238.5 103,-232.5 97,-232.5\"/>\n<polygon fill=\"none\" stroke=\"black\" points=\"97,-226.5 97,-232.5 103,-232.5 103,-226.5 97,-226.5\"/>\n<polygon fill=\"none\" stroke=\"black\" points=\"97,-220.5 97,-226.5 103,-226.5 103,-220.5 97,-220.5\"/>\n<polygon fill=\"none\" stroke=\"black\" points=\"97,-214.5 97,-220.5 103,-220.5 103,-214.5 97,-214.5\"/>\n<polygon fill=\"none\" stroke=\"black\" points=\"97,-208.5 97,-214.5 103,-214.5 103,-208.5 97,-208.5\"/>\n</g>\n<!-- x_G51&#45;&gt;Split_G9 -->\n<g id=\"edge1\" class=\"edge\">\n<title>x_G51:e-&gt;Split_G9:w</title>\n<path fill=\"none\" stroke=\"black\" d=\"M54,-223.5C69.42,-223.5 73.99,-223.5 88.06,-223.5\"/>\n<ellipse fill=\"black\" stroke=\"black\" cx=\"89.5\" cy=\"-223.5\" rx=\"1\" ry=\"1\"/>\n<text text-anchor=\"middle\" x=\"72.5\" y=\"-225.25\" font-family=\"Times,serif\" font-size=\"10.00\">5</text>\n</g>\n<!-- y_G35 -->\n<g id=\"node2\" class=\"node\">\n<title>y_G35</title>\n<text text-anchor=\"middle\" x=\"27\" y=\"-122.45\" font-family=\"Times,serif\" font-size=\"14.00\">y</text>\n</g>\n<!-- Split -->\n<g id=\"node8\" class=\"node\">\n<title>Split</title>\n<polygon fill=\"none\" stroke=\"black\" points=\"91,-142.5 91,-148.5 103,-148.5 103,-142.5 91,-142.5\"/>\n<polygon fill=\"none\" stroke=\"black\" points=\"91,-112.5 91,-142.5 97,-142.5 97,-112.5 91,-112.5\"/>\n<polygon fill=\"none\" stroke=\"black\" points=\"97,-136.5 97,-142.5 103,-142.5 103,-136.5 97,-136.5\"/>\n<polygon fill=\"none\" stroke=\"black\" points=\"97,-130.5 97,-136.5 103,-136.5 103,-130.5 97,-130.5\"/>\n<polygon fill=\"none\" stroke=\"black\" points=\"97,-124.5 97,-130.5 103,-130.5 103,-124.5 97,-124.5\"/>\n<polygon fill=\"none\" stroke=\"black\" points=\"97,-118.5 97,-124.5 103,-124.5 103,-118.5 97,-118.5\"/>\n<polygon fill=\"none\" stroke=\"black\" points=\"97,-112.5 97,-118.5 103,-118.5 103,-112.5 97,-112.5\"/>\n</g>\n<!-- y_G35&#45;&gt;Split -->\n<g id=\"edge2\" class=\"edge\">\n<title>y_G35:e-&gt;Split:w</title>\n<path fill=\"none\" stroke=\"black\" d=\"M54,-127.5C69.42,-127.5 73.99,-127.5 88.06,-127.5\"/>\n<ellipse fill=\"black\" stroke=\"black\" cx=\"89.5\" cy=\"-127.5\" rx=\"1\" ry=\"1\"/>\n<text text-anchor=\"middle\" x=\"72.5\" y=\"-129.25\" font-family=\"Times,serif\" font-size=\"10.00\">5</text>\n</g>\n<!-- SwapTwoBits -->\n<g id=\"node3\" class=\"node\">\n<title>SwapTwoBits</title>\n<polygon fill=\"none\" stroke=\"black\" points=\"140,-202 140,-219 197,-219 197,-202 140,-202\"/>\n<text text-anchor=\"start\" x=\"142.62\" y=\"-206.5\" font-family=\"Times,serif\" font-size=\"10.00\">SwapTwoB..</text>\n<polygon fill=\"none\" stroke=\"black\" points=\"140,-180 140,-202 197,-202 197,-180 140,-180\"/>\n<text text-anchor=\"start\" x=\"165.12\" y=\"-185.7\" font-family=\"Times,serif\" font-size=\"14.00\">x</text>\n<polygon fill=\"none\" stroke=\"black\" points=\"140,-158 140,-180 197,-180 197,-158 140,-158\"/>\n<text text-anchor=\"start\" x=\"165.12\" y=\"-163.7\" font-family=\"Times,serif\" font-size=\"14.00\">y</text>\n</g>\n<!-- Join -->\n<g id=\"node4\" class=\"node\">\n<title>Join</title>\n<polygon fill=\"none\" stroke=\"black\" points=\"234,-155.5 234,-161.5 246,-161.5 246,-155.5 234,-155.5\"/>\n<polygon fill=\"none\" stroke=\"black\" points=\"234,-149.5 234,-155.5 240,-155.5 240,-149.5 234,-149.5\"/>\n<polygon fill=\"none\" stroke=\"black\" points=\"240,-125.5 240,-155.5 246,-155.5 246,-125.5 240,-125.5\"/>\n<polygon fill=\"none\" stroke=\"black\" points=\"234,-143.5 234,-149.5 240,-149.5 240,-143.5 234,-143.5\"/>\n<polygon fill=\"none\" stroke=\"black\" points=\"234,-137.5 234,-143.5 240,-143.5 240,-137.5 234,-137.5\"/>\n<polygon fill=\"none\" stroke=\"black\" points=\"234,-131.5 234,-137.5 240,-137.5 240,-131.5 234,-131.5\"/>\n<polygon fill=\"none\" stroke=\"black\" points=\"234,-125.5 234,-131.5 240,-131.5 240,-125.5 234,-125.5\"/>\n</g>\n<!-- SwapTwoBits&#45;&gt;Join -->\n<g id=\"edge20\" class=\"edge\">\n<title>SwapTwoBits:e-&gt;Join:w</title>\n<path fill=\"none\" stroke=\"black\" d=\"M197,-168.5C208.63,-168.5 205.58,-156.33 215,-149.5 221.74,-144.61 224.13,-141.29 231.18,-140.62\"/>\n<ellipse fill=\"black\" stroke=\"black\" cx=\"232.5\" cy=\"-140.57\" rx=\"1\" ry=\"1\"/>\n<text text-anchor=\"middle\" x=\"215.5\" y=\"-151.25\" font-family=\"Times,serif\" font-size=\"10.00\">1</text>\n</g>\n<!-- Join_G3 -->\n<g id=\"node6\" class=\"node\">\n<title>Join_G3</title>\n<polygon fill=\"none\" stroke=\"black\" points=\"234,-227.5 234,-233.5 246,-233.5 246,-227.5 234,-227.5\"/>\n<polygon fill=\"none\" stroke=\"black\" points=\"234,-221.5 234,-227.5 240,-227.5 240,-221.5 234,-221.5\"/>\n<polygon fill=\"none\" stroke=\"black\" points=\"240,-197.5 240,-227.5 246,-227.5 246,-197.5 240,-197.5\"/>\n<polygon fill=\"none\" stroke=\"black\" points=\"234,-215.5 234,-221.5 240,-221.5 240,-215.5 234,-215.5\"/>\n<polygon fill=\"none\" stroke=\"black\" points=\"234,-209.5 234,-215.5 240,-215.5 240,-209.5 234,-209.5\"/>\n<polygon fill=\"none\" stroke=\"black\" points=\"234,-203.5 234,-209.5 240,-209.5 240,-203.5 234,-203.5\"/>\n<polygon fill=\"none\" stroke=\"black\" points=\"234,-197.5 234,-203.5 240,-203.5 240,-197.5 234,-197.5\"/>\n</g>\n<!-- SwapTwoBits&#45;&gt;Join_G3 -->\n<g id=\"edge15\" class=\"edge\">\n<title>SwapTwoBits:e-&gt;Join_G3:w</title>\n<path fill=\"none\" stroke=\"black\" d=\"M197,-191.5C214.87,-191.5 215.12,-210.27 231.07,-212.32\"/>\n<ellipse fill=\"black\" stroke=\"black\" cx=\"232.5\" cy=\"-212.41\" rx=\"1\" ry=\"1\"/>\n<text text-anchor=\"middle\" x=\"215.5\" y=\"-203.25\" font-family=\"Times,serif\" font-size=\"10.00\">1</text>\n</g>\n<!-- y_G46 -->\n<g id=\"node13\" class=\"node\">\n<title>y_G46</title>\n<text text-anchor=\"middle\" x=\"310\" y=\"-135.45\" font-family=\"Times,serif\" font-size=\"14.00\">y</text>\n</g>\n<!-- Join&#45;&gt;y_G46 -->\n<g id=\"edge24\" class=\"edge\">\n<title>Join:e-&gt;y_G46:w</title>\n<path fill=\"none\" stroke=\"black\" d=\"M246,-140.5C261.42,-140.5 265.99,-140.5 280.06,-140.5\"/>\n<ellipse fill=\"black\" stroke=\"black\" cx=\"281.5\" cy=\"-140.5\" rx=\"1\" ry=\"1\"/>\n<text text-anchor=\"middle\" x=\"264.5\" y=\"-142.25\" font-family=\"Times,serif\" font-size=\"10.00\">5</text>\n</g>\n<!-- SwapTwoBits_G0 -->\n<g id=\"node5\" class=\"node\">\n<title>SwapTwoBits_G0</title>\n<polygon fill=\"none\" stroke=\"black\" points=\"140,-44 140,-61 197,-61 197,-44 140,-44\"/>\n<text text-anchor=\"start\" x=\"142.62\" y=\"-48.5\" font-family=\"Times,serif\" font-size=\"10.00\">SwapTwoB..</text>\n<polygon fill=\"none\" stroke=\"black\" points=\"140,-22 140,-44 197,-44 197,-22 140,-22\"/>\n<text text-anchor=\"start\" x=\"165.12\" y=\"-27.7\" font-family=\"Times,serif\" font-size=\"14.00\">x</text>\n<polygon fill=\"none\" stroke=\"black\" points=\"140,0 140,-22 197,-22 197,0 140,0\"/>\n<text text-anchor=\"start\" x=\"165.12\" y=\"-5.7\" font-family=\"Times,serif\" font-size=\"14.00\">y</text>\n</g>\n<!-- SwapTwoBits_G0&#45;&gt;Join -->\n<g id=\"edge22\" class=\"edge\">\n<title>SwapTwoBits_G0:e-&gt;Join:w</title>\n<path fill=\"none\" stroke=\"black\" d=\"M197,-10.5C223.51,-10.5 207.73,-120.35 231.27,-128.07\"/>\n<ellipse fill=\"black\" stroke=\"black\" cx=\"232.52\" cy=\"-128.27\" rx=\"1\" ry=\"1\"/>\n<text text-anchor=\"middle\" x=\"215.5\" y=\"-74.25\" font-family=\"Times,serif\" font-size=\"10.00\">1</text>\n</g>\n<!-- SwapTwoBits_G0&#45;&gt;Join_G3 -->\n<g id=\"edge17\" class=\"edge\">\n<title>SwapTwoBits_G0:e-&gt;Join_G3:w</title>\n<path fill=\"none\" stroke=\"black\" d=\"M197,-33.5C215.11,-33.5 215.05,-185.21 231.46,-199.43\"/>\n<ellipse fill=\"black\" stroke=\"black\" cx=\"232.62\" cy=\"-199.92\" rx=\"1\" ry=\"1\"/>\n<text text-anchor=\"middle\" x=\"215.5\" y=\"-118.25\" font-family=\"Times,serif\" font-size=\"10.00\">1</text>\n</g>\n<!-- x_G27 -->\n<g id=\"node12\" class=\"node\">\n<title>x_G27</title>\n<text text-anchor=\"middle\" x=\"310\" y=\"-207.45\" font-family=\"Times,serif\" font-size=\"14.00\">x</text>\n</g>\n<!-- Join_G3&#45;&gt;x_G27 -->\n<g id=\"edge23\" class=\"edge\">\n<title>Join_G3:e-&gt;x_G27:w</title>\n<path fill=\"none\" stroke=\"black\" d=\"M246,-212.5C261.42,-212.5 265.99,-212.5 280.06,-212.5\"/>\n<ellipse fill=\"black\" stroke=\"black\" cx=\"281.5\" cy=\"-212.5\" rx=\"1\" ry=\"1\"/>\n<text text-anchor=\"middle\" x=\"264.5\" y=\"-214.25\" font-family=\"Times,serif\" font-size=\"10.00\">5</text>\n</g>\n<!-- SwapTwoBits_G5 -->\n<g id=\"node7\" class=\"node\">\n<title>SwapTwoBits_G5</title>\n<polygon fill=\"none\" stroke=\"black\" points=\"140,-281 140,-298 197,-298 197,-281 140,-281\"/>\n<text text-anchor=\"start\" x=\"142.62\" y=\"-285.5\" font-family=\"Times,serif\" font-size=\"10.00\">SwapTwoB..</text>\n<polygon fill=\"none\" stroke=\"black\" points=\"140,-259 140,-281 197,-281 197,-259 140,-259\"/>\n<text text-anchor=\"start\" x=\"165.12\" y=\"-264.7\" font-family=\"Times,serif\" font-size=\"14.00\">x</text>\n<polygon fill=\"none\" stroke=\"black\" points=\"140,-237 140,-259 197,-259 197,-237 140,-237\"/>\n<text text-anchor=\"start\" x=\"165.12\" y=\"-242.7\" font-family=\"Times,serif\" font-size=\"14.00\">y</text>\n</g>\n<!-- SwapTwoBits_G5&#45;&gt;Join -->\n<g id=\"edge19\" class=\"edge\">\n<title>SwapTwoBits_G5:e-&gt;Join:w</title>\n<path fill=\"none\" stroke=\"black\" d=\"M197,-247.5C220.62,-247.5 206.88,-219.68 215,-197.5 222.99,-175.67 210.83,-148.7 231.33,-146.63\"/>\n<ellipse fill=\"black\" stroke=\"black\" cx=\"232.5\" cy=\"-146.57\" rx=\"1\" ry=\"1\"/>\n<text text-anchor=\"middle\" x=\"215.5\" y=\"-199.25\" font-family=\"Times,serif\" font-size=\"10.00\">1</text>\n</g>\n<!-- SwapTwoBits_G5&#45;&gt;Join_G3 -->\n<g id=\"edge14\" class=\"edge\">\n<title>SwapTwoBits_G5:e-&gt;Join_G3:w</title>\n<path fill=\"none\" stroke=\"black\" d=\"M197,-270.5C211.31,-270.5 207.7,-256.16 216,-244.5 223.51,-233.94 220.53,-220.75 231.03,-218.76\"/>\n<ellipse fill=\"black\" stroke=\"black\" cx=\"232.51\" cy=\"-218.63\" rx=\"1\" ry=\"1\"/>\n<text text-anchor=\"middle\" x=\"215.5\" y=\"-247.25\" font-family=\"Times,serif\" font-size=\"10.00\">1</text>\n</g>\n<!-- Split&#45;&gt;SwapTwoBits -->\n<g id=\"edge8\" class=\"edge\">\n<title>Split:e-&gt;SwapTwoBits:w</title>\n<path fill=\"none\" stroke=\"black\" d=\"M103,-127.5C112.34,-127.5 115.17,-130.13 122,-136.5 133.19,-146.93 124.88,-165.93 137.24,-168.26\"/>\n<ellipse fill=\"black\" stroke=\"black\" cx=\"138.51\" cy=\"-168.37\" rx=\"1\" ry=\"1\"/>\n<text text-anchor=\"middle\" x=\"121.5\" y=\"-138.25\" font-family=\"Times,serif\" font-size=\"10.00\">1</text>\n</g>\n<!-- Split&#45;&gt;SwapTwoBits_G0 -->\n<g id=\"edge12\" class=\"edge\">\n<title>Split:e-&gt;SwapTwoBits_G0:w</title>\n<path fill=\"none\" stroke=\"black\" d=\"M103,-115.5C126.77,-115.5 116.18,-18.54 137.27,-10.97\"/>\n<ellipse fill=\"black\" stroke=\"black\" cx=\"138.52\" cy=\"-10.75\" rx=\"1\" ry=\"1\"/>\n<text text-anchor=\"middle\" x=\"121.5\" y=\"-67.25\" font-family=\"Times,serif\" font-size=\"10.00\">1</text>\n</g>\n<!-- Split&#45;&gt;SwapTwoBits_G5 -->\n<g id=\"edge6\" class=\"edge\">\n<title>Split:e-&gt;SwapTwoBits_G5:w</title>\n<path fill=\"none\" stroke=\"black\" d=\"M103,-133.5C117.67,-133.5 116.17,-147.03 122,-160.5 129.48,-177.77 121.12,-241.15 137.41,-247.06\"/>\n<ellipse fill=\"black\" stroke=\"black\" cx=\"138.52\" cy=\"-247.25\" rx=\"1\" ry=\"1\"/>\n<text text-anchor=\"middle\" x=\"121.5\" y=\"-162.25\" font-family=\"Times,serif\" font-size=\"10.00\">1</text>\n</g>\n<!-- SwapTwoBits_G11 -->\n<g id=\"node10\" class=\"node\">\n<title>SwapTwoBits_G11</title>\n<polygon fill=\"none\" stroke=\"black\" points=\"140,-123 140,-140 197,-140 197,-123 140,-123\"/>\n<text text-anchor=\"start\" x=\"142.62\" y=\"-127.5\" font-family=\"Times,serif\" font-size=\"10.00\">SwapTwoB..</text>\n<polygon fill=\"none\" stroke=\"black\" points=\"140,-101 140,-123 197,-123 197,-101 140,-101\"/>\n<text text-anchor=\"start\" x=\"165.12\" y=\"-106.7\" font-family=\"Times,serif\" font-size=\"14.00\">x</text>\n<polygon fill=\"none\" stroke=\"black\" points=\"140,-79 140,-101 197,-101 197,-79 140,-79\"/>\n<text text-anchor=\"start\" x=\"165.12\" y=\"-84.7\" font-family=\"Times,serif\" font-size=\"14.00\">y</text>\n</g>\n<!-- Split&#45;&gt;SwapTwoBits_G11 -->\n<g id=\"edge10\" class=\"edge\">\n<title>Split:e-&gt;SwapTwoBits_G11:w</title>\n<path fill=\"none\" stroke=\"black\" d=\"M103,-121.5C114,-121.5 112.67,-111.69 121,-104.5 128.38,-98.13 129.15,-90.99 137.24,-89.7\"/>\n<ellipse fill=\"black\" stroke=\"black\" cx=\"138.5\" cy=\"-89.61\" rx=\"1\" ry=\"1\"/>\n<text text-anchor=\"middle\" x=\"121.5\" y=\"-106.25\" font-family=\"Times,serif\" font-size=\"10.00\">1</text>\n</g>\n<!-- SwapTwoBits_G14 -->\n<g id=\"node11\" class=\"node\">\n<title>SwapTwoBits_G14</title>\n<polygon fill=\"none\" stroke=\"black\" points=\"140,-360 140,-377 197,-377 197,-360 140,-360\"/>\n<text text-anchor=\"start\" x=\"142.62\" y=\"-364.5\" font-family=\"Times,serif\" font-size=\"10.00\">SwapTwoB..</text>\n<polygon fill=\"none\" stroke=\"black\" points=\"140,-338 140,-360 197,-360 197,-338 140,-338\"/>\n<text text-anchor=\"start\" x=\"165.12\" y=\"-343.7\" font-family=\"Times,serif\" font-size=\"14.00\">x</text>\n<polygon fill=\"none\" stroke=\"black\" points=\"140,-316 140,-338 197,-338 197,-316 140,-316\"/>\n<text text-anchor=\"start\" x=\"165.12\" y=\"-321.7\" font-family=\"Times,serif\" font-size=\"14.00\">y</text>\n</g>\n<!-- Split&#45;&gt;SwapTwoBits_G14 -->\n<g id=\"edge4\" class=\"edge\">\n<title>Split:e-&gt;SwapTwoBits_G14:w</title>\n<path fill=\"none\" stroke=\"black\" d=\"M103,-139.5C129.09,-139.5 115.62,-229.97 121,-255.5 127.53,-286.46 108.58,-324.07 137.09,-326.39\"/>\n<ellipse fill=\"black\" stroke=\"black\" cx=\"138.5\" cy=\"-326.44\" rx=\"1\" ry=\"1\"/>\n<text text-anchor=\"middle\" x=\"121.5\" y=\"-316.25\" font-family=\"Times,serif\" font-size=\"10.00\">1</text>\n</g>\n<!-- Split_G9&#45;&gt;SwapTwoBits -->\n<g id=\"edge7\" class=\"edge\">\n<title>Split_G9:e-&gt;SwapTwoBits:w</title>\n<path fill=\"none\" stroke=\"black\" d=\"M103,-223.5C123.72,-223.5 118.8,-194.43 137.12,-191.7\"/>\n<ellipse fill=\"black\" stroke=\"black\" cx=\"138.5\" cy=\"-191.61\" rx=\"1\" ry=\"1\"/>\n<text text-anchor=\"middle\" x=\"121.5\" y=\"-209.25\" font-family=\"Times,serif\" font-size=\"10.00\">1</text>\n</g>\n<!-- Split_G9&#45;&gt;SwapTwoBits_G0 -->\n<g id=\"edge11\" class=\"edge\">\n<title>Split_G9:e-&gt;SwapTwoBits_G0:w</title>\n<path fill=\"none\" stroke=\"black\" d=\"M103,-211.5C130.13,-211.5 115.74,-179.89 122,-153.5 128,-128.18 114.08,-40.01 137.31,-33.84\"/>\n<ellipse fill=\"black\" stroke=\"black\" cx=\"138.51\" cy=\"-33.69\" rx=\"1\" ry=\"1\"/>\n<text text-anchor=\"middle\" x=\"121.5\" y=\"-159.25\" font-family=\"Times,serif\" font-size=\"10.00\">1</text>\n</g>\n<!-- Split_G9&#45;&gt;SwapTwoBits_G5 -->\n<g id=\"edge5\" class=\"edge\">\n<title>Split_G9:e-&gt;SwapTwoBits_G5:w</title>\n<path fill=\"none\" stroke=\"black\" d=\"M103,-229.5C126.49,-229.5 116.43,-267.05 137.03,-270.28\"/>\n<ellipse fill=\"black\" stroke=\"black\" cx=\"138.5\" cy=\"-270.39\" rx=\"1\" ry=\"1\"/>\n<text text-anchor=\"middle\" x=\"121.5\" y=\"-252.25\" font-family=\"Times,serif\" font-size=\"10.00\">1</text>\n</g>\n<!-- Split_G9&#45;&gt;SwapTwoBits_G11 -->\n<g id=\"edge9\" class=\"edge\">\n<title>Split_G9:e-&gt;SwapTwoBits_G11:w</title>\n<path fill=\"none\" stroke=\"black\" d=\"M103,-217.5C122.68,-217.5 115.13,-195.94 122,-177.5 132.1,-150.4 111.56,-115.08 137.03,-112.63\"/>\n<ellipse fill=\"black\" stroke=\"black\" cx=\"138.5\" cy=\"-112.57\" rx=\"1\" ry=\"1\"/>\n<text text-anchor=\"middle\" x=\"121.5\" y=\"-181.25\" font-family=\"Times,serif\" font-size=\"10.00\">1</text>\n</g>\n<!-- Split_G9&#45;&gt;SwapTwoBits_G14 -->\n<g id=\"edge3\" class=\"edge\">\n<title>Split_G9:e-&gt;SwapTwoBits_G14:w</title>\n<path fill=\"none\" stroke=\"black\" d=\"M103,-235.5C120.57,-235.5 114.94,-296.01 121,-312.5 127.03,-328.9 122.12,-347.36 137.18,-349.33\"/>\n<ellipse fill=\"black\" stroke=\"black\" cx=\"138.5\" cy=\"-349.41\" rx=\"1\" ry=\"1\"/>\n<text text-anchor=\"middle\" x=\"121.5\" y=\"-316.25\" font-family=\"Times,serif\" font-size=\"10.00\">1</text>\n</g>\n<!-- SwapTwoBits_G11&#45;&gt;Join -->\n<g id=\"edge21\" class=\"edge\">\n<title>SwapTwoBits_G11:e-&gt;Join:w</title>\n<path fill=\"none\" stroke=\"black\" d=\"M197,-89.5C206.34,-89.5 209.32,-91.96 216,-98.5 228.08,-110.33 217.42,-131.96 231.33,-134.29\"/>\n<ellipse fill=\"black\" stroke=\"black\" cx=\"232.5\" cy=\"-134.39\" rx=\"1\" ry=\"1\"/>\n<text text-anchor=\"middle\" x=\"215.5\" y=\"-100.25\" font-family=\"Times,serif\" font-size=\"10.00\">1</text>\n</g>\n<!-- SwapTwoBits_G11&#45;&gt;Join_G3 -->\n<g id=\"edge16\" class=\"edge\">\n<title>SwapTwoBits_G11:e-&gt;Join_G3:w</title>\n<path fill=\"none\" stroke=\"black\" d=\"M197,-112.5C218.57,-112.5 212.12,-199.3 231.5,-206.08\"/>\n<ellipse fill=\"black\" stroke=\"black\" cx=\"232.52\" cy=\"-206.25\" rx=\"1\" ry=\"1\"/>\n<text text-anchor=\"middle\" x=\"215.5\" y=\"-163.25\" font-family=\"Times,serif\" font-size=\"10.00\">1</text>\n</g>\n<!-- SwapTwoBits_G14&#45;&gt;Join -->\n<g id=\"edge18\" class=\"edge\">\n<title>SwapTwoBits_G14:e-&gt;Join:w</title>\n<path fill=\"none\" stroke=\"black\" d=\"M197,-326.5C215.84,-326.5 214.42,-168.43 231.36,-153.61\"/>\n<ellipse fill=\"black\" stroke=\"black\" cx=\"232.62\" cy=\"-153.08\" rx=\"1\" ry=\"1\"/>\n<text text-anchor=\"middle\" x=\"215.5\" y=\"-241.25\" font-family=\"Times,serif\" font-size=\"10.00\">1</text>\n</g>\n<!-- SwapTwoBits_G14&#45;&gt;Join_G3 -->\n<g id=\"edge13\" class=\"edge\">\n<title>SwapTwoBits_G14:e-&gt;Join_G3:w</title>\n<path fill=\"none\" stroke=\"black\" d=\"M197,-349.5C224.95,-349.5 206.44,-233.13 231.13,-224.95\"/>\n<ellipse fill=\"black\" stroke=\"black\" cx=\"232.52\" cy=\"-224.73\" rx=\"1\" ry=\"1\"/>\n<text text-anchor=\"middle\" x=\"215.5\" y=\"-295.25\" font-family=\"Times,serif\" font-size=\"10.00\">1</text>\n</g>\n</g>\n</svg>"
     },
     "metadata": {},
     "output_type": "display_data"
    }
   ],
   "source": [
    "cbloq = Swap(n=5).decompose_bloq()\n",
    "show_bloq(cbloq)"
   ]
  },
  {
   "cell_type": "markdown",
   "id": "c20817f9",
   "metadata": {},
   "source": [
    "The interleaved wires can get a little confusing. An alternative method of visualization via the familiar \"musical score\" diagram is also available"
   ]
  },
  {
   "cell_type": "code",
   "execution_count": 65,
   "id": "5e35b5bb",
   "metadata": {},
   "outputs": [
    {
     "data": {
      "text/plain": "<Figure size 900x500 with 1 Axes>",
      "image/png": "[encoded data removed]"
     },
     "metadata": {},
     "output_type": "display_data"
    }
   ],
   "source": [
    "from qualtran.drawing import get_musical_score_data, draw_musical_score\n",
    "msd = get_musical_score_data(cbloq)\n",
    "fig, ax = draw_musical_score(msd)\n",
    "fig.set_figwidth(9)"
   ]
  },
  {
   "cell_type": "markdown",
   "id": "a56b18da",
   "metadata": {},
   "source": [
    "## Allocations and de-allocations\n",
    "\n",
    "We can encode operations that allocate and/or de-allocate quantum data as well. Each `Register` has an attribute called `side`. By default, it is set to `THRU` meaning that the quantum data moves through the register and that register is available for use as both an input and an output."
   ]
  },
  {
   "cell_type": "code",
   "execution_count": null,
   "id": "2b195829",
   "metadata": {},
   "outputs": [],
   "source": [
    "reg = Register('ctrl', QBit())\n",
    "reg.side"
   ]
  },
  {
   "cell_type": "markdown",
   "id": "4788d0c9",
   "metadata": {},
   "source": [
    "### `LEFT` and `RIGHT`\n",
    "\n",
    "We can declare registers that are input-only (\"LEFT\") or output-only (\"RIGHT\"). Pure-state quantum evolution is unitary; so using registers like these implies you're encoding a non-unitary operation. For example: bloqs which allocate a new qubit or discard an existing qubit would have asymmetric registers."
   ]
  },
  {
   "cell_type": "code",
   "execution_count": 66,
   "id": "02d510b9",
   "metadata": {},
   "outputs": [
    {
     "data": {
      "text/plain": "<IPython.core.display.SVG object>",
      "image/svg+xml": "<svg xmlns=\"http://www.w3.org/2000/svg\" xmlns:xlink=\"http://www.w3.org/1999/xlink\" width=\"373pt\" height=\"77pt\" viewBox=\"0.00 0.00 372.75 76.50\">\n<g id=\"graph0\" class=\"graph\" transform=\"scale(1 1) rotate(0) translate(4 72.5)\">\n<title>my_graph</title>\n<polygon fill=\"white\" stroke=\"none\" points=\"-4,4 -4,-72.5 368.75,-72.5 368.75,4 -4,4\"/>\n<!-- input_only_G3 -->\n<g id=\"node1\" class=\"node\">\n<title>input_only_G3</title>\n<text text-anchor=\"middle\" x=\"37.25\" y=\"-35.95\" font-family=\"Times,serif\" font-size=\"14.00\">input_only</text>\n</g>\n<!-- ReAlloc -->\n<g id=\"node2\" class=\"node\">\n<title>ReAlloc</title>\n<polygon fill=\"none\" stroke=\"black\" points=\"111.5,-51.5 111.5,-68.5 246.5,-68.5 246.5,-51.5 111.5,-51.5\"/>\n<text text-anchor=\"start\" x=\"161.75\" y=\"-56\" font-family=\"Times,serif\" font-size=\"10.00\">ReAlloc</text>\n<polygon fill=\"none\" stroke=\"black\" points=\"111.5,-29.5 111.5,-51.5 175.5,-51.5 175.5,-29.5 111.5,-29.5\"/>\n<text text-anchor=\"start\" x=\"114.25\" y=\"-35.2\" font-family=\"Times,serif\" font-size=\"14.00\">input_only</text>\n<polygon fill=\"none\" stroke=\"black\" points=\"175.5,-29.5 175.5,-51.5 246.5,-51.5 246.5,-29.5 175.5,-29.5\"/>\n<polygon fill=\"none\" stroke=\"black\" points=\"111.5,-7.5 111.5,-29.5 175.5,-29.5 175.5,-7.5 111.5,-7.5\"/>\n<polygon fill=\"none\" stroke=\"black\" points=\"175.5,-7.5 175.5,-29.5 246.5,-29.5 246.5,-7.5 175.5,-7.5\"/>\n<text text-anchor=\"start\" x=\"178.38\" y=\"-13.2\" font-family=\"Times,serif\" font-size=\"14.00\">output_only</text>\n</g>\n<!-- input_only_G3&#45;&gt;ReAlloc -->\n<g id=\"edge1\" class=\"edge\">\n<title>input_only_G3:e-&gt;ReAlloc:w</title>\n<path fill=\"none\" stroke=\"black\" d=\"M74.5,-41C89.92,-41 94.49,-41 108.56,-41\"/>\n<ellipse fill=\"black\" stroke=\"black\" cx=\"110\" cy=\"-41\" rx=\"1\" ry=\"1\"/>\n<text text-anchor=\"middle\" x=\"93\" y=\"-42.75\" font-family=\"Times,serif\" font-size=\"10.00\">1</text>\n</g>\n<!-- output_only_G0 -->\n<g id=\"node3\" class=\"node\">\n<title>output_only_G0</title>\n<text text-anchor=\"middle\" x=\"324.12\" y=\"-12.95\" font-family=\"Times,serif\" font-size=\"14.00\">output_only</text>\n</g>\n<!-- ReAlloc&#45;&gt;output_only_G0 -->\n<g id=\"edge2\" class=\"edge\">\n<title>ReAlloc:e-&gt;output_only_G0:w</title>\n<path fill=\"none\" stroke=\"black\" d=\"M246.5,-18C261.92,-18 266.49,-18 280.56,-18\"/>\n<ellipse fill=\"black\" stroke=\"black\" cx=\"282\" cy=\"-18\" rx=\"1\" ry=\"1\"/>\n<text text-anchor=\"middle\" x=\"265\" y=\"-19.75\" font-family=\"Times,serif\" font-size=\"10.00\">1</text>\n</g>\n</g>\n</svg>"
     },
     "metadata": {},
     "output_type": "display_data"
    }
   ],
   "source": [
    "from qualtran import Side\n",
    "\n",
    "@attrs.frozen\n",
    "class ReAlloc(Bloq):\n",
    "    @property\n",
    "    def signature(self):\n",
    "        return Signature([\n",
    "            Register('input_only', QBit(), side=Side.LEFT),\n",
    "            Register('output_only', QBit(), side=Side.RIGHT),\n",
    "        ])\n",
    "    \n",
    "show_bloq(ReAlloc())"
   ]
  },
  {
   "cell_type": "markdown",
   "id": "1537693c",
   "metadata": {},
   "source": [
    "Of course, the signature *only* provides the `side` of the register. It is up to the bloq author to give it functionality by providing a decomposition or annotating it with simulation information. We'll use the `State` and `Effect` one-qubit bloqs provided by the library to explore their behavior under simulation."
   ]
  },
  {
   "cell_type": "code",
   "execution_count": 67,
   "id": "ad7b8708",
   "metadata": {},
   "outputs": [
    {
     "data": {
      "text/plain": "<IPython.core.display.SVG object>",
      "image/svg+xml": "<svg xmlns=\"http://www.w3.org/2000/svg\" xmlns:xlink=\"http://www.w3.org/1999/xlink\" width=\"117pt\" height=\"55pt\" viewBox=\"0.00 0.00 117.00 54.50\">\n<g id=\"graph0\" class=\"graph\" transform=\"scale(1 1) rotate(0) translate(4 50.5)\">\n<title>my_graph</title>\n<polygon fill=\"white\" stroke=\"none\" points=\"-4,4 -4,-50.5 113,-50.5 113,4 -4,4\"/>\n<!-- ZeroState -->\n<g id=\"node1\" class=\"node\">\n<title>ZeroState</title>\n<polygon fill=\"none\" stroke=\"black\" points=\"0,-29.5 0,-46.5 18,-46.5 18,-29.5 0,-29.5\"/>\n<text text-anchor=\"start\" x=\"6.38\" y=\"-34\" font-family=\"Times,serif\" font-size=\"10.00\">0</text>\n<polygon fill=\"none\" stroke=\"black\" points=\"0,-7.5 0,-29.5 6,-29.5 6,-7.5 0,-7.5\"/>\n<polygon fill=\"none\" stroke=\"black\" points=\"6,-7.5 6,-29.5 18,-29.5 18,-7.5 6,-7.5\"/>\n<text text-anchor=\"start\" x=\"8.62\" y=\"-13.2\" font-family=\"Times,serif\" font-size=\"14.00\">q</text>\n</g>\n<!-- q_G0 -->\n<g id=\"node2\" class=\"node\">\n<title>q_G0</title>\n<text text-anchor=\"middle\" x=\"82\" y=\"-12.95\" font-family=\"Times,serif\" font-size=\"14.00\">q</text>\n</g>\n<!-- ZeroState&#45;&gt;q_G0 -->\n<g id=\"edge1\" class=\"edge\">\n<title>ZeroState:e-&gt;q_G0:w</title>\n<path fill=\"none\" stroke=\"black\" d=\"M18,-18C33.42,-18 37.99,-18 52.06,-18\"/>\n<ellipse fill=\"black\" stroke=\"black\" cx=\"53.5\" cy=\"-18\" rx=\"1\" ry=\"1\"/>\n<text text-anchor=\"middle\" x=\"36.5\" y=\"-19.75\" font-family=\"Times,serif\" font-size=\"10.00\">1</text>\n</g>\n</g>\n</svg>"
     },
     "metadata": {},
     "output_type": "display_data"
    },
    {
     "data": {
      "text/plain": "array([1.+0.j, 0.+0.j])"
     },
     "execution_count": 67,
     "metadata": {},
     "output_type": "execute_result"
    }
   ],
   "source": [
    "from qualtran.bloqs.basic_gates import ZeroState\n",
    "\n",
    "# Show a simple allocating bloq and its tensor representation\n",
    "show_bloq(ZeroState())\n",
    "ZeroState().tensor_contract()"
   ]
  },
  {
   "cell_type": "code",
   "execution_count": 70,
   "id": "b5a764f7",
   "metadata": {},
   "outputs": [
    {
     "data": {
      "text/plain": "<IPython.core.display.SVG object>",
      "image/svg+xml": "<svg xmlns=\"http://www.w3.org/2000/svg\" xmlns:xlink=\"http://www.w3.org/1999/xlink\" width=\"81pt\" height=\"47pt\" viewBox=\"0.00 0.00 81.00 47.00\">\n<g id=\"graph0\" class=\"graph\" transform=\"scale(1 1) rotate(0) translate(4 43)\">\n<title>my_graph</title>\n<polygon fill=\"white\" stroke=\"none\" points=\"-4,4 -4,-43 77,-43 77,4 -4,4\"/>\n<!-- PlusState -->\n<g id=\"node1\" class=\"node\">\n<title>PlusState</title>\n<polygon fill=\"none\" stroke=\"black\" points=\"0,-22 0,-39 18,-39 18,-22 0,-22\"/>\n<text text-anchor=\"start\" x=\"6\" y=\"-26.5\" font-family=\"Times,serif\" font-size=\"10.00\">+</text>\n<polygon fill=\"none\" stroke=\"black\" points=\"0,0 0,-22 6,-22 6,0 0,0\"/>\n<polygon fill=\"none\" stroke=\"black\" points=\"6,0 6,-22 18,-22 18,0 6,0\"/>\n<text text-anchor=\"start\" x=\"8.62\" y=\"-5.7\" font-family=\"Times,serif\" font-size=\"14.00\">q</text>\n</g>\n<!-- ZeroEffect -->\n<g id=\"node2\" class=\"node\">\n<title>ZeroEffect</title>\n<polygon fill=\"none\" stroke=\"black\" points=\"55,-22 55,-39 73,-39 73,-22 55,-22\"/>\n<text text-anchor=\"start\" x=\"61.38\" y=\"-26.5\" font-family=\"Times,serif\" font-size=\"10.00\">0</text>\n<polygon fill=\"none\" stroke=\"black\" points=\"55,0 55,-22 67,-22 67,0 55,0\"/>\n<text text-anchor=\"start\" x=\"57.62\" y=\"-5.7\" font-family=\"Times,serif\" font-size=\"14.00\">q</text>\n<polygon fill=\"none\" stroke=\"black\" points=\"67,0 67,-22 73,-22 73,0 67,0\"/>\n</g>\n<!-- PlusState&#45;&gt;ZeroEffect -->\n<g id=\"edge1\" class=\"edge\">\n<title>PlusState:e-&gt;ZeroEffect:w</title>\n<path fill=\"none\" stroke=\"black\" d=\"M18,-10.5C33.42,-10.5 37.99,-10.5 52.06,-10.5\"/>\n<ellipse fill=\"black\" stroke=\"black\" cx=\"53.5\" cy=\"-10.5\" rx=\"1\" ry=\"1\"/>\n<text text-anchor=\"middle\" x=\"36.5\" y=\"-12.25\" font-family=\"Times,serif\" font-size=\"10.00\">1</text>\n</g>\n</g>\n</svg>"
     },
     "metadata": {},
     "output_type": "display_data"
    },
    {
     "data": {
      "text/plain": "0.4999999999999999"
     },
     "execution_count": 70,
     "metadata": {},
     "output_type": "execute_result"
    }
   ],
   "source": [
    "from qualtran.bloqs.basic_gates import PlusState, ZeroEffect\n",
    "\n",
    "bb = BloqBuilder()\n",
    "\n",
    "# Wire up <+|0>\n",
    "q = bb.add(PlusState())\n",
    "bb.add(ZeroEffect(), q=q)\n",
    "\n",
    "# Show it and find its probability\n",
    "cbloq = bb.finalize()\n",
    "show_bloq(cbloq)\n",
    "cbloq.tensor_contract() ** 2"
   ]
  },
  {
   "cell_type": "markdown",
   "id": "83c0a66d",
   "metadata": {},
   "source": [
    "## Algorithms\n",
    "\n",
    "We've been looking at small, familiar bloqs to get acquainted with the functionality. Bloqs can represent quantum operations at any level of complexity, but are particularly useful for reasoning about high-level algorithms. For example, Qualtran includes a reference implementation of modular exponentiation (the limiting operation for Shor's factoring)"
   ]
  },
  {
   "cell_type": "code",
   "execution_count": 71,
   "id": "f5fd2783",
   "metadata": {},
   "outputs": [
    {
     "data": {
      "text/plain": "<IPython.core.display.SVG object>",
      "image/svg+xml": "<svg xmlns=\"http://www.w3.org/2000/svg\" xmlns:xlink=\"http://www.w3.org/1999/xlink\" width=\"268pt\" height=\"98pt\" viewBox=\"0.00 0.00 268.00 98.00\">\n<g id=\"graph0\" class=\"graph\" transform=\"scale(1 1) rotate(0) translate(4 94)\">\n<title>my_graph</title>\n<polygon fill=\"white\" stroke=\"none\" points=\"-4,4 -4,-94 264,-94 264,4 -4,4\"/>\n<!-- exponent_G3 -->\n<g id=\"node1\" class=\"node\">\n<title>exponent_G3</title>\n<text text-anchor=\"middle\" x=\"32.75\" y=\"-50.95\" font-family=\"Times,serif\" font-size=\"14.00\">exponent</text>\n</g>\n<!-- ModExp -->\n<g id=\"node2\" class=\"node\">\n<title>ModExp</title>\n<polygon fill=\"none\" stroke=\"black\" points=\"102.5,-66.5 102.5,-83.5 157.5,-83.5 157.5,-66.5 102.5,-66.5\"/>\n<text text-anchor=\"start\" x=\"108.62\" y=\"-71\" font-family=\"Times,serif\" font-size=\"10.00\">8^e % 221</text>\n<polygon fill=\"none\" stroke=\"black\" points=\"102.5,-44.5 102.5,-66.5 157.5,-66.5 157.5,-44.5 102.5,-44.5\"/>\n<text text-anchor=\"start\" x=\"105.25\" y=\"-50.2\" font-family=\"Times,serif\" font-size=\"14.00\">exponent</text>\n<polygon fill=\"none\" stroke=\"black\" points=\"102.5,-22.5 102.5,-44.5 126.5,-44.5 126.5,-22.5 102.5,-22.5\"/>\n<polygon fill=\"none\" stroke=\"black\" points=\"126.5,-22.5 126.5,-44.5 157.5,-44.5 157.5,-22.5 126.5,-22.5\"/>\n<text text-anchor=\"start\" x=\"138.62\" y=\"-28.2\" font-family=\"Times,serif\" font-size=\"14.00\">x</text>\n</g>\n<!-- exponent_G3&#45;&gt;ModExp -->\n<g id=\"edge1\" class=\"edge\">\n<title>exponent_G3:e-&gt;ModExp:w</title>\n<path fill=\"none\" stroke=\"black\" d=\"M65.5,-56C80.92,-56 85.49,-56 99.56,-56\"/>\n<ellipse fill=\"black\" stroke=\"black\" cx=\"101\" cy=\"-56\" rx=\"1\" ry=\"1\"/>\n<text text-anchor=\"middle\" x=\"84\" y=\"-57.75\" font-family=\"Times,serif\" font-size=\"10.00\">3</text>\n</g>\n<!-- exponent_G2 -->\n<g id=\"node3\" class=\"node\">\n<title>exponent_G2</title>\n<text text-anchor=\"middle\" x=\"227.25\" y=\"-66.95\" font-family=\"Times,serif\" font-size=\"14.00\">exponent</text>\n</g>\n<!-- ModExp&#45;&gt;exponent_G2 -->\n<g id=\"edge2\" class=\"edge\">\n<title>ModExp:e-&gt;exponent_G2:w</title>\n<path fill=\"none\" stroke=\"black\" d=\"M157.5,-56C174.44,-56 176.41,-70.3 191.71,-71.86\"/>\n<ellipse fill=\"black\" stroke=\"black\" cx=\"193\" cy=\"-71.93\" rx=\"1\" ry=\"1\"/>\n<text text-anchor=\"middle\" x=\"176\" y=\"-65.75\" font-family=\"Times,serif\" font-size=\"10.00\">3</text>\n</g>\n<!-- x_G0 -->\n<g id=\"node4\" class=\"node\">\n<title>x_G0</title>\n<text text-anchor=\"middle\" x=\"227.25\" y=\"-12.95\" font-family=\"Times,serif\" font-size=\"14.00\">x</text>\n</g>\n<!-- ModExp&#45;&gt;x_G0 -->\n<g id=\"edge3\" class=\"edge\">\n<title>ModExp:e-&gt;x_G0:w</title>\n<path fill=\"none\" stroke=\"black\" d=\"M157.5,-33C176.29,-33 179.28,-19.37 196.59,-18.1\"/>\n<ellipse fill=\"black\" stroke=\"black\" cx=\"197.75\" cy=\"-18.05\" rx=\"1\" ry=\"1\"/>\n<text text-anchor=\"middle\" x=\"176\" y=\"-29.75\" font-family=\"Times,serif\" font-size=\"10.00\">1024</text>\n</g>\n</g>\n</svg>"
     },
     "metadata": {},
     "output_type": "display_data"
    }
   ],
   "source": [
    "from qualtran.bloqs.cryptography.rsa import ModExp\n",
    "\n",
    "mod_exp = ModExp(base=8, mod=13*17, exp_bitsize=3, x_bitsize=1024)\n",
    "show_bloq(mod_exp)"
   ]
  },
  {
   "cell_type": "markdown",
   "id": "e6ff4cfd",
   "metadata": {},
   "source": [
    "High-level bloqs should be defined in terms of only-slightly-less high-level bloqs to keep each step of the decomposition understandable. The `ModExp` bloq's decomposition is:"
   ]
  },
  {
   "cell_type": "code",
   "execution_count": 72,
   "id": "7f5bf452",
   "metadata": {},
   "outputs": [],
   "source": [
    "def build_composite_bloq(self, bb: 'BloqBuilder', exponent: 'SoquetT') -> Dict[str, 'SoquetT']:\n",
    "    x = bb.add(IntState(val=1, bitsize=self.x_bitsize))\n",
    "    exponent = bb.split(exponent)\n",
    "\n",
    "    # https://en.wikipedia.org/wiki/Modular_exponentiation#Right-to-left_binary_method\n",
    "    base = self.base\n",
    "    for j in range(self.exp_bitsize - 1, 0 - 1, -1):\n",
    "        exponent[j], x = bb.add(self._CtrlModMul(k=base), ctrl=exponent[j], x=x)\n",
    "        base = base * base % self.mod\n",
    "\n",
    "    return {'exponent': bb.join(exponent), 'x': x}"
   ]
  },
  {
   "cell_type": "markdown",
   "id": "5a17bad6",
   "metadata": {},
   "source": [
    "In addition to decomposing and visualizing, we can use other protocols to query properties of the bloq or test its correctness. "
   ]
  },
  {
   "cell_type": "code",
   "execution_count": 73,
   "id": "c2268b3c",
   "metadata": {},
   "outputs": [
    {
     "data": {
      "text/plain": "<IPython.core.display.SVG object>",
      "image/svg+xml": "<svg xmlns=\"http://www.w3.org/2000/svg\" xmlns:xlink=\"http://www.w3.org/1999/xlink\" width=\"596pt\" height=\"184pt\" viewBox=\"0.00 0.00 596.00 184.00\">\n<g id=\"graph0\" class=\"graph\" transform=\"scale(1 1) rotate(0) translate(4 180)\">\n<title>my_graph</title>\n<polygon fill=\"white\" stroke=\"none\" points=\"-4,4 -4,-180 592,-180 592,4 -4,4\"/>\n<!-- exponent -->\n<g id=\"node1\" class=\"node\">\n<title>exponent</title>\n<text text-anchor=\"middle\" x=\"32.75\" y=\"-92.45\" font-family=\"Times,serif\" font-size=\"14.00\">exponent</text>\n</g>\n<!-- Split -->\n<g id=\"node4\" class=\"node\">\n<title>Split</title>\n<polygon fill=\"none\" stroke=\"black\" points=\"110.5,-106.5 110.5,-112.5 122.5,-112.5 122.5,-106.5 110.5,-106.5\"/>\n<polygon fill=\"none\" stroke=\"black\" points=\"110.5,-88.5 110.5,-106.5 116.5,-106.5 116.5,-88.5 110.5,-88.5\"/>\n<polygon fill=\"none\" stroke=\"black\" points=\"116.5,-100.5 116.5,-106.5 122.5,-106.5 122.5,-100.5 116.5,-100.5\"/>\n<polygon fill=\"none\" stroke=\"black\" points=\"116.5,-94.5 116.5,-100.5 122.5,-100.5 122.5,-94.5 116.5,-94.5\"/>\n<polygon fill=\"none\" stroke=\"black\" points=\"116.5,-88.5 116.5,-94.5 122.5,-94.5 122.5,-88.5 116.5,-88.5\"/>\n</g>\n<!-- exponent&#45;&gt;Split -->\n<g id=\"edge1\" class=\"edge\">\n<title>exponent:e-&gt;Split:w</title>\n<path fill=\"none\" stroke=\"black\" d=\"M65.5,-97.5C84.14,-97.5 89.45,-97.5 106.84,-97.5\"/>\n<ellipse fill=\"black\" stroke=\"black\" cx=\"108\" cy=\"-97.5\" rx=\"1\" ry=\"1\"/>\n<text text-anchor=\"middle\" x=\"84\" y=\"-99.25\" font-family=\"Times,serif\" font-size=\"10.00\">3</text>\n</g>\n<!-- Join -->\n<g id=\"node2\" class=\"node\">\n<title>Join</title>\n<polygon fill=\"none\" stroke=\"black\" points=\"473.5,-73.5 473.5,-79.5 485.5,-79.5 485.5,-73.5 473.5,-73.5\"/>\n<polygon fill=\"none\" stroke=\"black\" points=\"473.5,-67.5 473.5,-73.5 479.5,-73.5 479.5,-67.5 473.5,-67.5\"/>\n<polygon fill=\"none\" stroke=\"black\" points=\"479.5,-55.5 479.5,-73.5 485.5,-73.5 485.5,-55.5 479.5,-55.5\"/>\n<polygon fill=\"none\" stroke=\"black\" points=\"473.5,-61.5 473.5,-67.5 479.5,-67.5 479.5,-61.5 473.5,-61.5\"/>\n<polygon fill=\"none\" stroke=\"black\" points=\"473.5,-55.5 473.5,-61.5 479.5,-61.5 479.5,-55.5 473.5,-55.5\"/>\n</g>\n<!-- exponent_G22 -->\n<g id=\"node8\" class=\"node\">\n<title>exponent_G22</title>\n<text text-anchor=\"middle\" x=\"555.25\" y=\"-58.45\" font-family=\"Times,serif\" font-size=\"14.00\">exponent</text>\n</g>\n<!-- Join&#45;&gt;exponent_G22 -->\n<g id=\"edge11\" class=\"edge\">\n<title>Join:e-&gt;exponent_G22:w</title>\n<path fill=\"none\" stroke=\"black\" d=\"M485.5,-64.5C500.92,-64.5 505.49,-63.62 519.55,-63.51\"/>\n<ellipse fill=\"black\" stroke=\"black\" cx=\"521\" cy=\"-63.51\" rx=\"1\" ry=\"1\"/>\n<text text-anchor=\"middle\" x=\"504\" y=\"-66.25\" font-family=\"Times,serif\" font-size=\"10.00\">3</text>\n</g>\n<!-- IntState -->\n<g id=\"node3\" class=\"node\">\n<title>IntState</title>\n<polygon fill=\"none\" stroke=\"black\" points=\"102.5,-22 102.5,-39 130.5,-39 130.5,-22 102.5,-22\"/>\n<text text-anchor=\"start\" x=\"113.88\" y=\"-26.5\" font-family=\"Times,serif\" font-size=\"10.00\">1</text>\n<polygon fill=\"none\" stroke=\"black\" points=\"102.5,0 102.5,-22 108.5,-22 108.5,0 102.5,0\"/>\n<polygon fill=\"none\" stroke=\"black\" points=\"108.5,0 108.5,-22 130.5,-22 130.5,0 108.5,0\"/>\n<text text-anchor=\"start\" x=\"111.25\" y=\"-5.7\" font-family=\"Times,serif\" font-size=\"14.00\">val</text>\n</g>\n<!-- CtrlModMul_G4 -->\n<g id=\"node7\" class=\"node\">\n<title>CtrlModMul_G4</title>\n<polygon fill=\"none\" stroke=\"black\" points=\"167.5,-44 167.5,-61 227.5,-61 227.5,-44 167.5,-44\"/>\n<text text-anchor=\"start\" x=\"170.12\" y=\"-48.5\" font-family=\"Times,serif\" font-size=\"10.00\">x *= 8 % 221</text>\n<polygon fill=\"none\" stroke=\"black\" points=\"167.5,-22 167.5,-44 227.5,-44 227.5,-22 167.5,-22\"/>\n<text text-anchor=\"start\" x=\"188.5\" y=\"-27.7\" font-family=\"Times,serif\" font-size=\"14.00\">ctrl</text>\n<polygon fill=\"none\" stroke=\"black\" points=\"167.5,0 167.5,-22 227.5,-22 227.5,0 167.5,0\"/>\n<text text-anchor=\"start\" x=\"194.12\" y=\"-5.7\" font-family=\"Times,serif\" font-size=\"14.00\">x</text>\n</g>\n<!-- IntState&#45;&gt;CtrlModMul_G4 -->\n<g id=\"edge3\" class=\"edge\">\n<title>IntState:e-&gt;CtrlModMul_G4:w</title>\n<path fill=\"none\" stroke=\"black\" d=\"M130.5,-10.5C145.92,-10.5 150.49,-10.5 164.56,-10.5\"/>\n<ellipse fill=\"black\" stroke=\"black\" cx=\"166\" cy=\"-10.5\" rx=\"1\" ry=\"1\"/>\n<text text-anchor=\"middle\" x=\"149\" y=\"-12.25\" font-family=\"Times,serif\" font-size=\"10.00\">1024</text>\n</g>\n<!-- CtrlModMul -->\n<g id=\"node5\" class=\"node\">\n<title>CtrlModMul</title>\n<polygon fill=\"none\" stroke=\"black\" points=\"367.5,-159 367.5,-176 436.5,-176 436.5,-159 367.5,-159\"/>\n<text text-anchor=\"start\" x=\"370.12\" y=\"-163.5\" font-family=\"Times,serif\" font-size=\"10.00\">x *= 118 % 221</text>\n<polygon fill=\"none\" stroke=\"black\" points=\"367.5,-137 367.5,-159 436.5,-159 436.5,-137 367.5,-137\"/>\n<text text-anchor=\"start\" x=\"393\" y=\"-142.7\" font-family=\"Times,serif\" font-size=\"14.00\">ctrl</text>\n<polygon fill=\"none\" stroke=\"black\" points=\"367.5,-115 367.5,-137 436.5,-137 436.5,-115 367.5,-115\"/>\n<text text-anchor=\"start\" x=\"398.62\" y=\"-120.7\" font-family=\"Times,serif\" font-size=\"14.00\">x</text>\n</g>\n<!-- Split&#45;&gt;CtrlModMul -->\n<g id=\"edge6\" class=\"edge\">\n<title>Split:e-&gt;CtrlModMul:w</title>\n<path fill=\"none\" stroke=\"black\" d=\"M123.5,-103.5C135.17,-103.5 137.16,-108.74 148.5,-111.5 243.48,-134.6 268.3,-148.23 364.63,-148.5\"/>\n<ellipse fill=\"black\" stroke=\"black\" cx=\"366\" cy=\"-148.5\" rx=\"1\" ry=\"1\"/>\n<text text-anchor=\"middle\" x=\"246\" y=\"-137.25\" font-family=\"Times,serif\" font-size=\"10.00\">1</text>\n</g>\n<!-- CtrlModMul_G1 -->\n<g id=\"node6\" class=\"node\">\n<title>CtrlModMul_G1</title>\n<polygon fill=\"none\" stroke=\"black\" points=\"264.5,-104 264.5,-121 330.5,-121 330.5,-104 264.5,-104\"/>\n<text text-anchor=\"start\" x=\"267.5\" y=\"-108.5\" font-family=\"Times,serif\" font-size=\"10.00\">x *= 64 % 221</text>\n<polygon fill=\"none\" stroke=\"black\" points=\"264.5,-82 264.5,-104 330.5,-104 330.5,-82 264.5,-82\"/>\n<text text-anchor=\"start\" x=\"288.5\" y=\"-87.7\" font-family=\"Times,serif\" font-size=\"14.00\">ctrl</text>\n<polygon fill=\"none\" stroke=\"black\" points=\"264.5,-60 264.5,-82 330.5,-82 330.5,-60 264.5,-60\"/>\n<text text-anchor=\"start\" x=\"294.12\" y=\"-65.7\" font-family=\"Times,serif\" font-size=\"14.00\">x</text>\n</g>\n<!-- Split&#45;&gt;CtrlModMul_G1 -->\n<g id=\"edge4\" class=\"edge\">\n<title>Split:e-&gt;CtrlModMul_G1:w</title>\n<path fill=\"none\" stroke=\"black\" d=\"M123.5,-97.5C185.21,-97.5 201.31,-93.62 261.6,-93.5\"/>\n<ellipse fill=\"black\" stroke=\"black\" cx=\"263\" cy=\"-93.5\" rx=\"1\" ry=\"1\"/>\n<text text-anchor=\"middle\" x=\"197.5\" y=\"-99.25\" font-family=\"Times,serif\" font-size=\"10.00\">1</text>\n</g>\n<!-- Split&#45;&gt;CtrlModMul_G4 -->\n<g id=\"edge2\" class=\"edge\">\n<title>Split:e-&gt;CtrlModMul_G4:w</title>\n<path fill=\"none\" stroke=\"black\" d=\"M123.5,-91.5C154.84,-91.5 136.39,-37.07 164.62,-33.67\"/>\n<ellipse fill=\"black\" stroke=\"black\" cx=\"166\" cy=\"-33.59\" rx=\"1\" ry=\"1\"/>\n<text text-anchor=\"middle\" x=\"149\" y=\"-51.25\" font-family=\"Times,serif\" font-size=\"10.00\">1</text>\n</g>\n<!-- CtrlModMul&#45;&gt;Join -->\n<g id=\"edge8\" class=\"edge\">\n<title>CtrlModMul:e-&gt;Join:w</title>\n<path fill=\"none\" stroke=\"black\" d=\"M436.5,-148.5C454.79,-148.5 454.4,-77.64 470.93,-71\"/>\n<ellipse fill=\"black\" stroke=\"black\" cx=\"472.03\" cy=\"-70.79\" rx=\"1\" ry=\"1\"/>\n<text text-anchor=\"middle\" x=\"455\" y=\"-111.25\" font-family=\"Times,serif\" font-size=\"10.00\">1</text>\n</g>\n<!-- x_G11 -->\n<g id=\"node9\" class=\"node\">\n<title>x_G11</title>\n<text text-anchor=\"middle\" x=\"555.25\" y=\"-112.45\" font-family=\"Times,serif\" font-size=\"14.00\">x</text>\n</g>\n<!-- CtrlModMul&#45;&gt;x_G11 -->\n<g id=\"edge12\" class=\"edge\">\n<title>CtrlModMul:e-&gt;x_G11:w</title>\n<path fill=\"none\" stroke=\"black\" d=\"M436.5,-125.5C476.04,-125.5 486.29,-117.87 524.45,-117.51\"/>\n<ellipse fill=\"black\" stroke=\"black\" cx=\"525.75\" cy=\"-117.51\" rx=\"1\" ry=\"1\"/>\n<text text-anchor=\"middle\" x=\"479.5\" y=\"-124.25\" font-family=\"Times,serif\" font-size=\"10.00\">1024</text>\n</g>\n<!-- CtrlModMul_G1&#45;&gt;Join -->\n<g id=\"edge9\" class=\"edge\">\n<title>CtrlModMul_G1:e-&gt;Join:w</title>\n<path fill=\"none\" stroke=\"black\" d=\"M330.5,-93.5C394.46,-93.5 408.28,-65.29 470.87,-64.52\"/>\n<ellipse fill=\"black\" stroke=\"black\" cx=\"472\" cy=\"-64.51\" rx=\"1\" ry=\"1\"/>\n<text text-anchor=\"middle\" x=\"402\" y=\"-92.25\" font-family=\"Times,serif\" font-size=\"10.00\">1</text>\n</g>\n<!-- CtrlModMul_G1&#45;&gt;CtrlModMul -->\n<g id=\"edge7\" class=\"edge\">\n<title>CtrlModMul_G1:e-&gt;CtrlModMul:w</title>\n<path fill=\"none\" stroke=\"black\" d=\"M330.5,-70.5C358.93,-70.5 339.52,-121.7 364.58,-125.3\"/>\n<ellipse fill=\"black\" stroke=\"black\" cx=\"366\" cy=\"-125.4\" rx=\"1\" ry=\"1\"/>\n<text text-anchor=\"middle\" x=\"349\" y=\"-103.25\" font-family=\"Times,serif\" font-size=\"10.00\">1024</text>\n</g>\n<!-- CtrlModMul_G4&#45;&gt;Join -->\n<g id=\"edge10\" class=\"edge\">\n<title>CtrlModMul_G4:e-&gt;Join:w</title>\n<path fill=\"none\" stroke=\"black\" d=\"M227.5,-33.5C336.43,-33.5 363.14,-58.06 470.62,-58.49\"/>\n<ellipse fill=\"black\" stroke=\"black\" cx=\"472\" cy=\"-58.5\" rx=\"1\" ry=\"1\"/>\n<text text-anchor=\"middle\" x=\"349\" y=\"-48.25\" font-family=\"Times,serif\" font-size=\"10.00\">1</text>\n</g>\n<!-- CtrlModMul_G4&#45;&gt;CtrlModMul_G1 -->\n<g id=\"edge5\" class=\"edge\">\n<title>CtrlModMul_G4:e-&gt;CtrlModMul_G1:w</title>\n<path fill=\"none\" stroke=\"black\" d=\"M227.5,-10.5C257.85,-10.5 234.72,-66.81 261.73,-70.33\"/>\n<ellipse fill=\"black\" stroke=\"black\" cx=\"263\" cy=\"-70.41\" rx=\"1\" ry=\"1\"/>\n<text text-anchor=\"middle\" x=\"246\" y=\"-46.25\" font-family=\"Times,serif\" font-size=\"10.00\">1024</text>\n</g>\n</g>\n</svg>"
     },
     "metadata": {},
     "output_type": "display_data"
    }
   ],
   "source": [
    "show_bloq(mod_exp.decompose_bloq())"
   ]
  },
  {
   "cell_type": "code",
   "execution_count": null,
   "outputs": [],
   "source": [],
   "metadata": {
    "collapsed": false
   }
  }
 ],
 "metadata": {
  "kernelspec": {
   "display_name": "Python 3 (ipykernel)",
   "language": "python",
   "name": "python3"
  },
  "language_info": {
   "codemirror_mode": {
    "name": "ipython",
    "version": 3
   },
   "file_extension": ".py",
   "mimetype": "text/x-python",
   "name": "python",
   "nbconvert_exporter": "python",
   "pygments_lexer": "ipython3",
   "version": "3.10.9"
  }
 },
 "nbformat": 4,
 "nbformat_minor": 5
}
