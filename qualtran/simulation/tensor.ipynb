{
 "cells": [
  {
   "cell_type": "markdown",
   "id": "8cad0714",
   "metadata": {},
   "source": [
    "# Tensor\n",
    "\n",
    "The tensor protocol lets you query the tensor (vector, matrix, etc.) representation of a bloq. For example, we can easily inspect the familiar unitary matrix representing the controlled-not operation:"
   ]
  },
  {
   "cell_type": "code",
   "execution_count": null,
   "id": "26e14784",
   "metadata": {},
   "outputs": [],
   "source": [
    "from qualtran.bloqs.basic_gates import CNOT\n",
    "\n",
    "cnot = CNOT()\n",
    "cnot.tensor_contract().real"
   ]
  },
  {
   "cell_type": "markdown",
   "id": "5a2f84d3",
   "metadata": {},
   "source": [
    "Bloqs can represent states, effects, and non-unitary operations. Below, we see the vector representation of the plus state and zero effect."
   ]
  },
  {
   "cell_type": "code",
   "execution_count": null,
   "id": "077910f6",
   "metadata": {},
   "outputs": [],
   "source": [
    "from qualtran.bloqs.basic_gates import PlusState, ZeroEffect\n",
    "\n",
    "print('|+> \\t', PlusState().tensor_contract())  # state\n",
    "print('<0| \\t', ZeroEffect().tensor_contract()) # effect"
   ]
  },
  {
   "cell_type": "markdown",
   "id": "6861ae75",
   "metadata": {},
   "source": [
    "We can also look at the non-unitary `And` operation which outputs its result to a new qubit. As such, it's shape is $(2^3, 2^2)$ instead of being a square matrix."
   ]
  },
  {
   "cell_type": "code",
   "execution_count": null,
   "id": "d7a36b4f",
   "metadata": {},
   "outputs": [],
   "source": [
    "from qualtran.bloqs.mcmt import And\n",
    "\n",
    "And().tensor_contract().shape"
   ]
  },
  {
   "cell_type": "markdown",
   "id": "912fb914",
   "metadata": {},
   "source": [
    "## Interface\n",
    "\n",
    "The main way of accessing the dense, contracted, tensor representation of a bloq or composite bloq is through the `Bloq.tensor_contract()` method as we've seen.\n",
    "\n",
    "All functionality for the tensor protocol is contained in the `qualtran.simulation.tensor` module. For example: `Bloq.tensor_contract()` is an alias for `bloq_to_dense(bloq: Bloq)` within that module. "
   ]
  },
  {
   "cell_type": "code",
   "execution_count": null,
   "id": "f24e2248",
   "metadata": {},
   "outputs": [],
   "source": [
    "import numpy as np\n",
    "from qualtran.simulation.tensor import bloq_to_dense\n",
    "\n",
    "np.array_equal(\n",
    "    cnot.tensor_contract(),\n",
    "    bloq_to_dense(cnot)\n",
    ")"
   ]
  },
  {
   "cell_type": "markdown",
   "id": "050e7f90",
   "metadata": {},
   "source": [
    "## Additional functionality\n",
    "\n",
    "### Direct manipulation of the `qtn.TensorNetwork`\n",
    "\n",
    "A composite bloq can be easily transformed into a tensor network. We use [Quimb](https://quimb.readthedocs.io/) to handle efficient contraction of such networks.\n",
    "\n",
    "The most important library function is `qualtran.simulation.tensor.cbloq_to_quimb`. This will build a quimb `qtn.TensorNetwork` tensor network representation of the composite bloq. You may want to manipulate this object directly using the full Quimb API. Otherwise, this function is used as the workhorse behind the public functions and methods like `Bloq.tensor_contract()`. \n",
    "\n",
    "As an example below, we decompose `MultiAnd` into a `CompositeBloq` consisting of a ladder of two-bit `And`s."
   ]
  },
  {
   "cell_type": "code",
   "execution_count": null,
   "id": "58a0a012",
   "metadata": {},
   "outputs": [],
   "source": [
    "from qualtran.bloqs.mcmt import MultiAnd\n",
    "from qualtran.drawing import show_bloq\n",
    "\n",
    "bloq = MultiAnd(cvs=(1,)*4)\n",
    "cbloq = bloq.decompose_bloq()\n",
    "show_bloq(cbloq)"
   ]
  },
  {
   "cell_type": "markdown",
   "id": "2dd02b3b",
   "metadata": {},
   "source": [
    "This composite bloq graph can be transformed into a quimb tensor network. Some of the visual flair has been lost, but the topology of the graph is the same."
   ]
  },
  {
   "cell_type": "code",
   "execution_count": null,
   "id": "04cd38d8",
   "metadata": {},
   "outputs": [],
   "source": [
    "from qualtran.simulation.tensor import cbloq_to_quimb\n",
    "\n",
    "tn = cbloq_to_quimb(cbloq)\n",
    "tn.draw(show_inds=False)"
   ]
  },
  {
   "cell_type": "markdown",
   "id": "f18e1f2d",
   "metadata": {},
   "source": [
    "With this `qtn.TensorNetwork` in hand, the entire suite of Quimb tools are available."
   ]
  },
  {
   "cell_type": "code",
   "execution_count": null,
   "id": "8365af84",
   "metadata": {},
   "outputs": [],
   "source": [
    "tn.contraction_info()"
   ]
  },
  {
   "cell_type": "markdown",
   "id": "fc6c12e0-6c89-4f7b-8814-a9d5724e73d9",
   "metadata": {},
   "source": [
    "### Quimb index format\n",
    "\n",
    "In `CompositeBloq`, we form the compute graph by storing a list of nodes and edges. Quimb uses a different strategy for representing the tensor network graphs. To form a tensor network in Quimb, we provide a list of `qtn.Tensor` which contain not only the tensor data but also a list of \"indices\" that can form connections to other tensors. Similar to the Einstein summation convention, if two tensors each have an index with the same name: an edge is created in the tensor network graph and this shared index is summed over. These indices are traditionally short strings like `\"k\"`, but can be any hashable Python object. In `CompositeBloq`, the unique object that identifies a connection between bloqs is `qualtran.Connection`, so we use these connection objects as our indices.\n",
    "\n",
    "Qualtran and Quimb both support \"wires\" with arbitrary bitsize. Qualtran uses bookkeeping bloqs like `Join` and `Split` to fuse and un-fuse indices. In theory, these operations should be free in the tensor contraction, as they are essentially an identity tensor. In our understanding, Quimb does not have special support for supporting these re-shaping operations within the tensor network graph. In versions of Qualtran prior to v0.5, split and join operations were tensored up to `n`-sized identity tensors. This would form a bottleneck in any contraction ordering. Therefore, we keep all the indices un-fused in the tensor network representation and use tuples of `(cxn, i)` for our tensor indices, where the second integer `i` indexes the individual bits in a register with `reg.dtype.num_qubits` > 1.\n",
    "\n",
    "**In summary:**\n",
    " - Each tensor index is a tuple `(cxn, i)`\n",
    " - The `cxn: qualtran.Connection` entry identifies the connection between soquets in a Qualtran compute graph.\n",
    " - The second integer `i` is the bit index within high-bitsize registers, which is necessary due to technical restrictions."
   ]
  },
  {
   "cell_type": "code",
   "execution_count": null,
   "id": "d9c0ed47-275e-417b-bbf5-b8dff2f84099",
   "metadata": {},
   "outputs": [],
   "source": [
    "# Use `get_right_and_left_inds` to get the quimb indices ordered according to\n",
    "# the bloq's signature.\n",
    "\n",
    "from qualtran.simulation.tensor import get_right_and_left_inds\n",
    "left, right = get_right_and_left_inds(tn, bloq.signature)\n",
    "\n",
    "print(\"Left outer inds:\")\n",
    "for cxn, i in left:\n",
    "    print(' ', cxn.left)\n",
    "\n",
    "print(\"Right outer inds\")\n",
    "for cxn, i in right:\n",
    "    print(' ', cxn.right)"
   ]
  },
  {
   "cell_type": "markdown",
   "id": "05279b9b-b7db-4b4e-ad27-adfe2d88a4d7",
   "metadata": {},
   "source": [
    "### Flattening\n",
    "\n",
    "A call to `Bloq.tensor_contract` will first \"flatten\" the bloq by doing `bloq.as_composite_bloq().flatten()`. This is a sensible default default for constructing tensor networks, as the best contraction performance can generally be achieved by keeping tensors as small as possible in the network. \n",
    "\n",
    "In Qualtran, we usually avoid flattening bloqs and strongly to prefer to work with one level of decomposition at a time. This is to avoid performance issues with large, abstract algorithms. But typically if the full circuit is large enough to cause performance issues with flattening it is also too large to simulate numerically; so an exception to the general advice is made here.\n",
    "\n",
    "All bloqs in the flattened circuit must provide their explicit tensors. If your bloq's tensors ought to be derived from its decomposition: this is achieved by the previously mentioned flattening operation. If a bloq provides tensors through overriding `Bloq.my_tensors` _and also_ defines a decomposition, the explicit tensors will not be used (by default). This is because any bloq with a decomposition will be flattened. If you would like to control the flattening operation, use the free functions to control the tensor network construction and contraction."
   ]
  },
  {
   "cell_type": "code",
   "execution_count": null,
   "id": "7d9983b2-e241-4cab-a518-fe2fa7a5ac92",
   "metadata": {},
   "outputs": [],
   "source": [
    "# Stop flattening if e.g. a bloq supports explicit tensors _and_ a decomposition.\n",
    "# Use the flatten predicate to control.\n",
    "custom_flat = bloq.as_composite_bloq().flatten(lambda binst: binst.i != 2)\n",
    "tn = cbloq_to_quimb(custom_flat)\n",
    "len(tn.tensors)"
   ]
  },
  {
   "cell_type": "markdown",
   "id": "85fb5d5f",
   "metadata": {},
   "source": [
    "## Implementation\n",
    "\n",
    "The `qualtran.simulation.tensor` functions rely on the `Bloq.my_tensors(...)` method to implement the protocol. This is where a bloq's tensor information is actually encoded.\n",
    "\n",
    "Usually, the most efficient way of supporting tensor simulation is by providing a decomposition for your bloq. However, bloq authors may want to override `my_tensors` if the bloq can't or shouldn't define a decomposition. The method takes dictionaries of incoming and outgoing indices (keyed by register name) to asist the author in matching up dimensions of their `np.ndarray` to the incoming and outgoing wires when constructing `qtn.Tensor`s.\n",
    "\n",
    "The docstring for `Bloq.my_tensors` provides a complete, technical description of how to successfully override this method. In brief, the method must return one or more `qtn.Tensor`s that get added to the tensor network. The indices used to construct these **must** be of the correct form. Each tensor index is a tuple `(cxn, j)`. The connection entry comes from the `incoming` and `outgoing` arguments to the method. The `j` integer is the bit index within multi-bit registers.\n",
    "\n",
    "New, we write our own `CNOT` bloq with custom tensors."
   ]
  },
  {
   "cell_type": "code",
   "execution_count": null,
   "id": "0ff904cd",
   "metadata": {},
   "outputs": [],
   "source": [
    "from functools import cached_property\n",
    "from typing import Any, Dict, Tuple, List\n",
    "\n",
    "import numpy as np\n",
    "import quimb.tensor as qtn\n",
    "from attrs import frozen\n",
    "\n",
    "from qualtran import Bloq, Signature, Soquet, SoquetT, Register, Side\n",
    "\n",
    "@frozen\n",
    "class MyCNOT(Bloq):\n",
    "    @cached_property\n",
    "    def signature(self) -> 'Signature':\n",
    "        return Signature.build(ctrl=1, target=1)\n",
    "\n",
    "    def my_tensors(\n",
    "        self, incoming: Dict[str, 'ConnectionT'], outgoing: Dict[str, 'ConnectionT']\n",
    "    ) -> List['qtn.Tensor']:\n",
    "        # The familiar CNOT matrix. We make sure to\n",
    "        # cast this to np.complex128 so we don't accidentally\n",
    "        # lose precision anywhere else in the contraction.\n",
    "        matrix = np.array([\n",
    "            [1, 0, 0, 0],\n",
    "            [0, 1, 0, 0],\n",
    "            [0, 0, 0, 1],\n",
    "            [0, 0, 1, 0],\n",
    "        ], dtype=np.complex128)\n",
    "        \n",
    "        # According to our signature, we have two thru-registers.\n",
    "        # This means two incoming and two outgoing wires.\n",
    "        # We'll reshape our matrix into the more natural n-dimensional\n",
    "        # tensor form.\n",
    "        tensor = matrix.reshape((2,2,2,2))\n",
    "        \n",
    "\n",
    "        # This is a simple case: we only need one tensor and\n",
    "        # each register is one bit.\n",
    "        outgoing_inds = [\n",
    "            (outgoing['ctrl'], 0),\n",
    "            (outgoing['target'], 0),\n",
    "        ]\n",
    "        incoming_inds = [\n",
    "            (incoming['ctrl'], 0),\n",
    "            (incoming['target'], 0),\n",
    "        ]\n",
    "        \n",
    "        return [qtn.Tensor(\n",
    "            data=tensor, \n",
    "            inds=outgoing_inds + incoming_inds\n",
    "        )]"
   ]
  },
  {
   "cell_type": "code",
   "execution_count": null,
   "id": "aea735aa",
   "metadata": {},
   "outputs": [],
   "source": [
    "# Sanity check\n",
    "MyCNOT().tensor_contract()"
   ]
  },
  {
   "cell_type": "markdown",
   "id": "e30eec6e",
   "metadata": {},
   "source": [
    "## Default Fallback\n",
    "\n",
    "By default, the flattening operation in a given tensor contraction should mean that only a finite number of small, target-gateset bloqs\n",
    "should need to explicitly override `my_tensors()`. \n",
    "\n",
    "If a bloq does not override `my_tensors(...)` and doesn't provide a decomposition, the tensor protocol will throw an error when trying to construct a tensor network.\n",
    " \n",
    "For example, we author a `BellState` bloq. We define a decomposition but do not explicitly provide tensor information."
   ]
  },
  {
   "cell_type": "code",
   "execution_count": null,
   "id": "5a58c7cc",
   "metadata": {},
   "outputs": [],
   "source": [
    "from qualtran import QBit\n",
    "from qualtran.bloqs.basic_gates import PlusState, ZeroState\n",
    "\n",
    "@frozen\n",
    "class BellState(Bloq):\n",
    "    @cached_property\n",
    "    def signature(self) -> 'Signature':\n",
    "        return Signature([\n",
    "            Register('q0', QBit(), side=Side.RIGHT),\n",
    "            Register('q1', QBit(), side=Side.RIGHT)\n",
    "        ])\n",
    "\n",
    "    def build_composite_bloq(self, bb):\n",
    "        q0 = bb.add(PlusState())\n",
    "        q1 = bb.add(ZeroState())\n",
    "\n",
    "        q0, q1 = bb.add(CNOT(), ctrl=q0, target=q1)\n",
    "        return {'q0': q0, 'q1': q1}\n"
   ]
  },
  {
   "cell_type": "markdown",
   "id": "d0eebfb4",
   "metadata": {},
   "source": [
    "The system can still contract the tensor network implied by this bloq because it will automatically flatten the bloq."
   ]
  },
  {
   "cell_type": "code",
   "execution_count": null,
   "id": "7ef8f831",
   "metadata": {},
   "outputs": [],
   "source": [
    "print(BellState().tensor_contract())"
   ]
  },
  {
   "cell_type": "markdown",
   "id": "ebbe9a2a",
   "metadata": {},
   "source": [
    "If you don't flatten first, an error will be raised"
   ]
  },
  {
   "cell_type": "code",
   "execution_count": null,
   "id": "aeb3096d-8745-49ec-8809-61bd6d17ae67",
   "metadata": {},
   "outputs": [],
   "source": [
    "try:\n",
    "    cbloq_to_quimb(BellState().as_composite_bloq())\n",
    "except NotImplementedError as e:\n",
    "    print(\"Expected error because we didn't flatten first:\", repr(e))"
   ]
  },
  {
   "cell_type": "markdown",
   "id": "7d2bb01f-819f-4c4c-b771-520b1f647d1d",
   "metadata": {},
   "source": [
    "## Properties and Relations"
   ]
  },
  {
   "cell_type": "markdown",
   "id": "eac56aea-8676-44d3-922b-4c88316cb77f",
   "metadata": {},
   "source": [
    "### Gates with factorized tensors\n",
    "\n",
    "The `my_tensors` method can return multiple `Tensor` objects if there is a known factorization of the bloq's tensors. For example: CNOT can be written as a dense 4x4 matrix or by contracting the so-called COPY and XOR tensors. "
   ]
  },
  {
   "cell_type": "code",
   "execution_count": null,
   "id": "4c2e84c3-6197-41ab-a287-47a66be4c272",
   "metadata": {},
   "outputs": [],
   "source": [
    "from qualtran.bloqs.basic_gates import CNOT\n",
    "from qualtran.simulation.tensor import (\n",
    "    cbloq_to_quimb, get_right_and_left_inds\n",
    ")\n",
    "\n",
    "cbloq = CNOT().as_composite_bloq()\n",
    "tn = cbloq_to_quimb(cbloq)\n",
    "\n",
    "# Rename the indices to something less verbose\n",
    "lefts, rights = get_right_and_left_inds(tn, cbloq.signature)\n",
    "rename = {left: f'{left[0].left.reg.name}_in' for left in lefts}\n",
    "rename |= {right: f'{right[0].right.reg.name}_out' for right in rights}\n",
    "tn = tn.reindex(rename)\n",
    "\n",
    "tn.draw(color=['COPY', 'XOR'], show_tags=True, initial_layout='spectral')\n",
    "for tensor in tn:\n",
    "    print(tensor.tags)\n",
    "    print(tensor.data)\n",
    "    print()"
   ]
  }
 ],
 "metadata": {
  "kernelspec": {
   "display_name": "Python 3 (ipykernel)",
   "language": "python",
   "name": "python3"
  },
  "language_info": {
   "codemirror_mode": {
    "name": "ipython",
    "version": 3
   },
   "file_extension": ".py",
   "mimetype": "text/x-python",
   "name": "python",
   "nbconvert_exporter": "python",
   "pygments_lexer": "ipython3",
   "version": "3.11.8"
  }
 },
 "nbformat": 4,
 "nbformat_minor": 5
}
