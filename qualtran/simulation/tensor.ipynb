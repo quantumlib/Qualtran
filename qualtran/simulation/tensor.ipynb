{
 "cells": [
  {
   "cell_type": "markdown",
   "id": "8cad0714",
   "metadata": {},
   "source": [
    "# Tensor\n",
    "\n",
    "The tensor protocol lets you query the tensor (vector, matrix, etc.) representation of a bloq. For example, we can easily inspect the familiar unitary matrix representing the controlled-not operation:"
   ]
  },
  {
   "cell_type": "code",
   "execution_count": null,
   "id": "26e14784",
   "metadata": {},
   "outputs": [],
   "source": [
    "from qualtran.bloqs.basic_gates import CNOT\n",
    "\n",
    "cnot = CNOT()\n",
    "cnot.tensor_contract().real"
   ]
  },
  {
   "cell_type": "markdown",
   "id": "5a2f84d3",
   "metadata": {},
   "source": [
    "Bloqs can represent states, effects, and non-unitary operations. Below, we see the vector representation of the plus state and zero effect."
   ]
  },
  {
   "cell_type": "code",
   "execution_count": null,
   "id": "077910f6",
   "metadata": {},
   "outputs": [],
   "source": [
    "from qualtran.bloqs.basic_gates import PlusState, ZeroEffect\n",
    "\n",
    "print('|+> \\t', PlusState().tensor_contract())  # state\n",
    "print('<0| \\t', ZeroEffect().tensor_contract()) # effect"
   ]
  },
  {
   "cell_type": "markdown",
   "id": "6861ae75",
   "metadata": {},
   "source": [
    "We can also look at the non-unitary `And` operation which outputs its result to a new qubit. As such, it's shape is $(2^3, 2^2)$ instead of being a square matrix."
   ]
  },
  {
   "cell_type": "code",
   "execution_count": null,
   "id": "d7a36b4f",
   "metadata": {},
   "outputs": [],
   "source": [
    "from qualtran.bloqs.mcmt import And\n",
    "\n",
    "And().tensor_contract().shape"
   ]
  },
  {
   "cell_type": "markdown",
   "id": "912fb914",
   "metadata": {},
   "source": [
    "## Interface\n",
    "\n",
    "The main way of accessing the dense, contracted, tensor representation of a bloq or composite bloq is through the `Bloq.tensor_contract()` method as we've seen.\n",
    "\n",
    "All functionality for the tensor protocol is contained in the `qualtran.simulation.tensor` module. For example: `Bloq.tensor_contract()` is an alias for `bloq_to_dense(bloq: Bloq)` within that module. "
   ]
  },
  {
   "cell_type": "code",
   "execution_count": null,
   "id": "f24e2248",
   "metadata": {},
   "outputs": [],
   "source": [
    "import numpy as np\n",
    "from qualtran.simulation.tensor import bloq_to_dense\n",
    "\n",
    "np.array_equal(\n",
    "    cnot.tensor_contract(),\n",
    "    bloq_to_dense(cnot)\n",
    ")"
   ]
  },
  {
   "cell_type": "markdown",
   "id": "050e7f90",
   "metadata": {},
   "source": [
    "## Additional functionality\n",
    "\n",
    "A composite bloq has a 1-to-1 mapping with a tensor network. We use [Quimb](https://quimb.readthedocs.io/) to handle efficient contraction of such networks.\n",
    "\n",
    "The most important library function is `qualtran.simulation.tensor.cbloq_to_quimb`. This will build a quimb `qtn.TensorNetwork` tensor network representation of the composite bloq. You may want to manipulate this object directly using the full Quimb API. Otherwise, this function is used as the workhorse behind the public functions and methods like `Bloq.tensor_contract()`. \n",
    "\n",
    "As an example below, we decompose `MultiAnd` into a `CompositeBloq` consisting of a ladder of two-bit `And`s."
   ]
  },
  {
   "cell_type": "code",
   "execution_count": null,
   "id": "58a0a012",
   "metadata": {},
   "outputs": [],
   "source": [
    "from qualtran.bloqs.mcmt import MultiAnd\n",
    "from qualtran.drawing import show_bloq\n",
    "\n",
    "bloq = MultiAnd(cvs=(1,)*4)\n",
    "cbloq = bloq.decompose_bloq()\n",
    "show_bloq(cbloq)"
   ]
  },
  {
   "cell_type": "markdown",
   "id": "2dd02b3b",
   "metadata": {},
   "source": [
    "This composite bloq graph can be transformed into a quimb tensor network. Some of the visual flair has been lost, but the topology of the graph is the same."
   ]
  },
  {
   "cell_type": "code",
   "execution_count": null,
   "id": "04cd38d8",
   "metadata": {},
   "outputs": [],
   "source": [
    "from qualtran.simulation.tensor import cbloq_to_quimb\n",
    "\n",
    "tn, fix = cbloq_to_quimb(cbloq)\n",
    "tn.draw(show_inds=False)"
   ]
  },
  {
   "cell_type": "markdown",
   "id": "f18e1f2d",
   "metadata": {},
   "source": [
    "The entire suite of Quimb tools are now available."
   ]
  },
  {
   "cell_type": "code",
   "execution_count": null,
   "id": "8365af84",
   "metadata": {},
   "outputs": [],
   "source": [
    "tn.contraction_info()"
   ]
  },
  {
   "cell_type": "markdown",
   "id": "85fb5d5f",
   "metadata": {},
   "source": [
    "## Implementation\n",
    "\n",
    "The `qualtran.simulation.tensor` functions rely on the `Bloq.add_my_tensors(...)` method to implement the protocol. This is where a bloq's tensor information is actually encoded.\n",
    "\n",
    "Bloq authors may want to override this method. The library will provide a (partial) `qtn.TensorNetwork` as well as dictionaries of incoming and outgoing indices (keyed by register name) to asist the author in matching up dimensions of their `np.ndarray` to the incoming and outgoing wires. Bloq authors are encouraged to read the docstring for this method for more details.\n",
    "\n",
    "Below, we write our own `CNOT` bloq with custom tensors."
   ]
  },
  {
   "cell_type": "code",
   "execution_count": null,
   "id": "0ff904cd",
   "metadata": {},
   "outputs": [],
   "source": [
    "from functools import cached_property\n",
    "from typing import Any, Dict, Tuple\n",
    "\n",
    "import numpy as np\n",
    "import quimb.tensor as qtn\n",
    "from attrs import frozen\n",
    "\n",
    "from qualtran import Bloq, Signature, Soquet, SoquetT, Register, Side\n",
    "\n",
    "@frozen\n",
    "class MyCNOT(Bloq):\n",
    "    @cached_property\n",
    "    def signature(self) -> 'Signature':\n",
    "        return Signature.build(ctrl=1, target=1)\n",
    "\n",
    "    def add_my_tensors(\n",
    "        self, tn: qtn.TensorNetwork, tag: Any,\n",
    "        *, incoming: Dict[str, SoquetT], outgoing: Dict[str, SoquetT],\n",
    "    ):\n",
    "        # The familiar CNOT matrix. We make sure to\n",
    "        # cast this to np.complex128 so we don't accidentally\n",
    "        # lose precision anywhere else in the contraction.\n",
    "        matrix = np.array([\n",
    "            [1, 0, 0, 0],\n",
    "            [0, 1, 0, 0],\n",
    "            [0, 0, 0, 1],\n",
    "            [0, 0, 1, 0],\n",
    "        ], dtype=np.complex128)\n",
    "        \n",
    "        # According to our signature, we have two thru-registers.\n",
    "        # This means two incoming and two outgoing wires.\n",
    "        # We'll reshape our matrix into the more natural n-dimensional\n",
    "        # tensor form.\n",
    "        tensor = matrix.reshape((2,2,2,2))\n",
    "        \n",
    "\n",
    "        tn.add(qtn.Tensor(\n",
    "            data=tensor, \n",
    "            inds=(outgoing['ctrl'], outgoing['target'], \n",
    "                  incoming['ctrl'], incoming['target']),\n",
    "            tags = ['cnot', tag],\n",
    "        ))"
   ]
  },
  {
   "cell_type": "code",
   "execution_count": null,
   "id": "aea735aa",
   "metadata": {},
   "outputs": [],
   "source": [
    "# Sanity check\n",
    "MyCNOT().tensor_contract()"
   ]
  },
  {
   "cell_type": "markdown",
   "id": "e30eec6e",
   "metadata": {},
   "source": [
    "## Default Fallback\n",
    "\n",
    "If a bloq does not override `add_my_tensors(...)`, the default fallback will be used by `qualtran` to support the tensor protocol.\n",
    "\n",
    "By default, qualtran will fall back on the tensor contraction of the decomposition. This recursion will continue until each leaf bloq defines `add_my_tensors` or a bloq cannot be further decomposed.\n",
    "\n",
    "Specifically, the system will:\n",
    "\n",
    " - decompose the bloq with `bloq.decompose_bloq()` into a composite bloq.\n",
    " - use the result of `cbloq_as_contracted_tensor(...)` as the bloq's tensor.\n",
    " \n",
    " \n",
    "For example, below we author a `BellState` bloq. We define a decomposition but do not explicitly provide tensor information."
   ]
  },
  {
   "cell_type": "code",
   "execution_count": null,
   "id": "5a58c7cc",
   "metadata": {},
   "outputs": [],
   "source": [
    "from qualtran import QBit\n",
    "from qualtran.bloqs.basic_gates import PlusState, ZeroState\n",
    "\n",
    "@frozen\n",
    "class BellState(Bloq):\n",
    "    @cached_property\n",
    "    def signature(self) -> 'Signature':\n",
    "        return Signature([\n",
    "            Register('q0', QBit(), side=Side.RIGHT),\n",
    "            Register('q1', QBit(), side=Side.RIGHT)\n",
    "        ])\n",
    "\n",
    "    def build_composite_bloq(self, bb):\n",
    "        q0 = bb.add(PlusState())\n",
    "        q1 = bb.add(ZeroState())\n",
    "\n",
    "        q0, q1 = bb.add(CNOT(), ctrl=q0, target=q1)\n",
    "        return {'q0': q0, 'q1': q1}\n"
   ]
  },
  {
   "cell_type": "markdown",
   "id": "d0eebfb4",
   "metadata": {},
   "source": [
    "Nevertheless, the system can recursively determine the tensor form:"
   ]
  },
  {
   "cell_type": "code",
   "execution_count": null,
   "id": "7ef8f831",
   "metadata": {},
   "outputs": [],
   "source": [
    "print(BellState().tensor_contract())"
   ]
  },
  {
   "cell_type": "markdown",
   "id": "ebbe9a2a",
   "metadata": {},
   "source": [
    "Note that the composite bloq is fully contracted to a dense tensor at each level of decomposition, which likely will prevent quimb from finding the best contraction ordering. See `flatten_for_tensor_contraction` if this is an issue."
   ]
  },
  {
   "cell_type": "markdown",
   "id": "7d2bb01f-819f-4c4c-b771-520b1f647d1d",
   "metadata": {},
   "source": [
    "## Properties and Relations"
   ]
  },
  {
   "cell_type": "markdown",
   "id": "eac56aea-8676-44d3-922b-4c88316cb77f",
   "metadata": {},
   "source": [
    "### Gates with factorized tensors\n",
    "\n",
    "The `add_my_tensors` method can add multiple `Tensor` objects to the method if there is a known factorization of the bloq's tensors. For example: CNOT can be written as a dense 4x4 matrix or by contracting the so-called COPY and XOR tensors. "
   ]
  },
  {
   "cell_type": "code",
   "execution_count": null,
   "id": "4c2e84c3-6197-41ab-a287-47a66be4c272",
   "metadata": {},
   "outputs": [],
   "source": [
    "from qualtran.bloqs.basic_gates import CNOT\n",
    "from qualtran.simulation.tensor import (\n",
    "    cbloq_to_quimb, get_right_and_left_inds\n",
    ")\n",
    "\n",
    "cbloq = CNOT().as_composite_bloq()\n",
    "tn, _ = cbloq_to_quimb(cbloq)\n",
    "\n",
    "# Rename the indices to something less verbose\n",
    "from qualtran._infra.composite_bloq import _get_dangling_soquets\n",
    "lsoqs = _get_dangling_soquets(cbloq.signature, right=False)\n",
    "rsoqs = _get_dangling_soquets(cbloq.signature, right=True)\n",
    "\n",
    "rename = {lsoqs[k]: f'{k}_in' for k in lsoqs.keys()}\n",
    "rename |= {rsoqs[k]: f'{k}_out' for k in rsoqs.keys()}\n",
    "tn = tn.reindex(rename)\n",
    "\n",
    "tn.draw(color=['COPY', 'XOR'], show_tags=False, initial_layout='spectral')\n",
    "for tensor in tn:\n",
    "    print(tensor.tags)\n",
    "    print(tensor.data)\n",
    "    print()"
   ]
  }
 ],
 "metadata": {
  "kernelspec": {
   "display_name": "Python 3 (ipykernel)",
   "language": "python",
   "name": "python3"
  },
  "language_info": {
   "codemirror_mode": {
    "name": "ipython",
    "version": 3
   },
   "file_extension": ".py",
   "mimetype": "text/x-python",
   "name": "python",
   "nbconvert_exporter": "python",
   "pygments_lexer": "ipython3",
   "version": "3.11.8"
  }
 },
 "nbformat": 4,
 "nbformat_minor": 5
}
