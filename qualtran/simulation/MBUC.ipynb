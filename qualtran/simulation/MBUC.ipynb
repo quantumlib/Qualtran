{
 "cells": [
  {
   "cell_type": "markdown",
   "id": "44f40baf-3f87-40c5-9bf1-409ac3f86e68",
   "metadata": {},
   "source": [
    "# Verifying Measurement-Based Uncomputation\n",
    "\n",
    "Quantum information cannot be destroyed, but during a computation, we may produce intermediate values that we wish to discard. We can \"uncompute\" these values by running the computation in reverse. The ordinary uncomputation strategy requires paying the cost of the computation twice, but [*Halving the cost of quantum addition.* Gidney 2017](https://arxiv.org/abs/1709.06648) shows how measurement in the X basis can effectively discard a bit without expensive uncomputation. The consequence is that the remaining states of the system will pick up phases depending on the random measurement result. [*Verifying Measurement Based Uncomputation.* Gidney 2019](https://algassert.com/post/1903) provides more detail about these phases. It also describes a proceedure for using a phased-classical simulator to \"fuzz test\" measurement-based uncomputation circuits.\n",
    "\n",
    "Here, we show how Qualtran can be used to verify measurement based uncomputation circuits following Gidney's proposal."
   ]
  },
  {
   "cell_type": "markdown",
   "id": "3c3fdd7b-a94b-4f57-bb51-eec6217018df",
   "metadata": {},
   "source": [
    "## Uncomputing $\\mathrm{And}$\n",
    "\n",
    "As a warm-up, we can use the reference classical action of `And(uncompute=True)` to verify the truth table of the operation. First, we check the bloq over valid inputs."
   ]
  },
  {
   "cell_type": "code",
   "execution_count": null,
   "id": "3dddb0a5-a2b6-44cb-beb9-79b9600aae5e",
   "metadata": {},
   "outputs": [],
   "source": [
    "import itertools\n",
    "from qualtran.bloqs.mcmt import And\n",
    "\n",
    "and_dag = And(uncompute=True)\n",
    "for q1, q2 in itertools.product(range(2), repeat=2):\n",
    "    target = int(q1==1 and q2 == 1)\n",
    "    print(f'{q1=}, {q2=}, {target=}', end='  ')\n",
    "    (q1_out, q2_out), = and_dag.call_classically(ctrl=[q1,q2], target=target)\n",
    "    assert q1_out == q1\n",
    "    assert q2_out == q2\n",
    "    print('✓')"
   ]
  },
  {
   "cell_type": "markdown",
   "id": "33c34f76-b53c-4ef7-9d72-1e7f6ebf7725",
   "metadata": {},
   "source": [
    "In a quantum computer, there is no error handling; but the classical simulation will helpfully inform you if you supply invalid inputs to the bloq. Here, there is an error because the `target` register does not contain the result of a (forwards) computation of $\\mathrm{And}$."
   ]
  },
  {
   "cell_type": "code",
   "execution_count": null,
   "id": "dae8d49d-cc11-4d1c-84f7-70765d7c621b",
   "metadata": {},
   "outputs": [],
   "source": [
    "try:\n",
    "    and_dag.call_classically(ctrl=[1,1], target=0)\n",
    "except ValueError as e:\n",
    "    print(e)"
   ]
  },
  {
   "cell_type": "markdown",
   "id": "c82cfd5d-8482-496c-8084-0abeb315a9ca",
   "metadata": {},
   "source": [
    "## Naive attempt at $\\mathrm{And}^\\dagger$\n",
    "\n",
    "What happens if we just measure the target bit in the X basis and throw it away? We'll build this simple circuit below so we can use the phased-classical simulator to find out."
   ]
  },
  {
   "cell_type": "code",
   "execution_count": null,
   "id": "3a76a727-a742-422b-a8ac-e588f00fe765",
   "metadata": {},
   "outputs": [],
   "source": [
    "from qualtran import BloqBuilder, Register, QBit, Side, Controlled, CtrlSpec, CBit\n",
    "from qualtran.bloqs.basic_gates import MeasX, Discard, CZ\n",
    "\n",
    "bb = BloqBuilder()\n",
    "q1 = bb.add_register('q1', 1)\n",
    "q2 = bb.add_register('q2', 1)\n",
    "target = bb.add_register(Register('target', QBit(), side=Side.LEFT))\n",
    "\n",
    "ctarget= bb.add(MeasX(), q=target)\n",
    "bb.add(Discard(), c=ctarget)\n",
    "\n",
    "throw_out_target = bb.finalize(q1=q1, q2=q2)\n",
    "from qualtran.drawing import show_bloq\n",
    "show_bloq(throw_out_target, 'musical_score')"
   ]
  },
  {
   "cell_type": "markdown",
   "id": "ca44fb5b-e961-434e-af6d-5deaa4fa984d",
   "metadata": {},
   "source": [
    "## Fuzz testing measurement circuits\n",
    "\n",
    "Given a computational basis state input, the X-basis measurement operation returns a random outcome. We explicitly supply a random number generator to the phased classical simulation function to support these circuits.\n",
    "\n",
    "Since our simulation is now stochastic, we run it 10 times and see if we get the right answer."
   ]
  },
  {
   "cell_type": "code",
   "execution_count": null,
   "id": "d123b5b4-dc1c-4957-b214-e4b9d41bb700",
   "metadata": {},
   "outputs": [],
   "source": [
    "import numpy as np\n",
    "from qualtran.simulation.classical_sim import do_phased_classical_simulation\n",
    "\n",
    "rng = np.random.default_rng(seed=123)\n",
    "in_vals = {'q1': 1, 'q2': 1, 'target': 1}\n",
    "for _ in range(10):\n",
    "    out_vals, phase = do_phased_classical_simulation(throw_out_target, in_vals, rng=rng)\n",
    "    assert out_vals['q1'] == 1\n",
    "    assert out_vals['q2'] == 1\n",
    "    assert 'target' not in out_vals\n",
    "    if phase == 1:\n",
    "        print(\"✓\", end=' ')\n",
    "    else:\n",
    "        print(f\"Bad phase: {phase}\")"
   ]
  },
  {
   "cell_type": "markdown",
   "id": "368810bd-5ffb-46c6-8a83-6db6d09dcd78",
   "metadata": {},
   "source": [
    "A phase on our computational basis state will result in *relative phases amongst* the computational basis states when this operation is called on a register in superposition, so these spurious phases must be fixed."
   ]
  },
  {
   "cell_type": "markdown",
   "id": "1dba8338-21d9-49ff-b19a-845663779039",
   "metadata": {},
   "source": [
    "## MBUC circuit for $\\mathrm{And}^\\dagger$\n",
    "\n",
    "So simply measuring the bit in an orthogonal basis and throwing it away hasn't worked. The fix here is straightforward: a phase is encountered when the target bit is `1` and the random measurement outcome is also `1`, so we can flip it back. We flip the phase conditioned on 1) the two control qubits being `1` and 2) the classical measurement result being `1`. The first condition can be achieved with a `CZ`. We use a classically-controlled `CZ` to implement conditions (1) *and* (2) with only a Clifford operation."
   ]
  },
  {
   "cell_type": "code",
   "execution_count": null,
   "id": "6717ad61-132d-4df7-9d7e-63a38ddcf233",
   "metadata": {},
   "outputs": [],
   "source": [
    "bb = BloqBuilder()\n",
    "q1 = bb.add_register('q1', 1)\n",
    "q2 = bb.add_register('q2', 1)\n",
    "target = bb.add_register(Register('target', QBit(), side=Side.LEFT))\n",
    "\n",
    "ctarget = bb.add(MeasX(), q=target)\n",
    "classically_controlled_cz = CZ().controlled(CtrlSpec(qdtypes=[CBit()]))\n",
    "ctarget, q1, q2 = bb.add(\n",
    "    classically_controlled_cz,\n",
    "    **{'ctrl': ctarget,\n",
    "       'q1': q1,\n",
    "       'q2': q2\n",
    "      }\n",
    ")\n",
    "bb.add(Discard(), c=ctarget)\n",
    "\n",
    "mbuc_target = bb.finalize(q1=q1, q2=q2)\n",
    "show_bloq(mbuc_target, 'musical_score')"
   ]
  },
  {
   "cell_type": "markdown",
   "id": "2d2455c1-715f-4040-a7d1-a9197e9b1992",
   "metadata": {},
   "source": [
    "## Fuzz testing MBUC\n",
    "\n",
    "We can continue to use random measurement results in simulation to \"fuzz test\" our construction. Here, all ten runs pass our check."
   ]
  },
  {
   "cell_type": "code",
   "execution_count": null,
   "id": "65b0fbf5-f341-452f-af32-74e309207e48",
   "metadata": {},
   "outputs": [],
   "source": [
    "rng = np.random.default_rng(seed=123)\n",
    "in_vals = {'q1': 1, 'q2': 1, 'target': 1}\n",
    "for _ in range(10):\n",
    "    out_vals, phase = do_phased_classical_simulation(mbuc_target, in_vals, rng=rng)\n",
    "    assert out_vals['q1'] == 1\n",
    "    assert out_vals['q2'] == 1\n",
    "    assert 'target' not in out_vals\n",
    "    if phase == 1:\n",
    "        print(\"✓\", end=' ')\n",
    "    else:\n",
    "        print(f\"Bad phase: {phase}\")"
   ]
  },
  {
   "cell_type": "markdown",
   "id": "4c6a8409-0dff-47ec-8a44-efa7edcc157c",
   "metadata": {},
   "source": [
    "## Exhaustive testing of MBUC\n",
    "\n",
    "With some additional work, we can inject particular patterns of measurement results to check all possible cases. For circuits with a small number of `MeasX` bloqs, this can be more valuable than fuzz testing. The exhaustive number of cases grows exponentially in the number of measured bits."
   ]
  },
  {
   "cell_type": "markdown",
   "id": "aa8e8503-242f-42c3-9f89-ae24a4dd7934",
   "metadata": {},
   "source": [
    "#### Preparation: find the bloq index of our measurement operation"
   ]
  },
  {
   "cell_type": "code",
   "execution_count": null,
   "id": "e0e233b4-2ec0-4c37-9b3f-101be212e673",
   "metadata": {},
   "outputs": [],
   "source": [
    "# Prep work: find the bloq instance indices of measurement operations.\n",
    "# Here, there's only one; but this code snippet will work for MBUC circuits\n",
    "# with additional MeasX bloqs\n",
    "cbloq = mbuc_target\n",
    "meas_binst_is = [binst.i for binst in cbloq.bloq_instances if binst.bloq_is(MeasX)]\n",
    "assert len(meas_binst_is) == 1, 'this circuit only has one'\n",
    "meas_binst_i = meas_binst_is[0]\n",
    "meas_binst_i"
   ]
  },
  {
   "cell_type": "markdown",
   "id": "60ec0fd0-1b48-45d5-80da-de4cac34e9aa",
   "metadata": {},
   "source": [
    "### Loop over inputs *and* measurement results"
   ]
  },
  {
   "cell_type": "code",
   "execution_count": null,
   "id": "98c2a2fb-125e-4388-a5a2-f905083cbf31",
   "metadata": {},
   "outputs": [],
   "source": [
    "from qualtran.simulation.classical_sim import PhasedClassicalSimState\n",
    "import itertools\n",
    "\n",
    "for q1, q2 in itertools.product(range(2), repeat=2):\n",
    "    target = int(q1==1 and q2 == 1)\n",
    "    print(f'{q1=}, {q2=}, {target=}')\n",
    "\n",
    "    for meas_result in [0, 1]:\n",
    "        print(f'  meas {meas_result}', end=' ')\n",
    "        fixed_rnd_vals = {meas_binst_i: meas_result}\n",
    "        sim = PhasedClassicalSimState.from_cbloq(\n",
    "            cbloq, \n",
    "            vals={'q1': q1, 'q2': q2, 'target': target},\n",
    "            fixed_random_vals={meas_binst_i: meas_result}\n",
    "        )\n",
    "        out_vals = sim.simulate()\n",
    "        \n",
    "        assert out_vals['q1'] == q1\n",
    "        assert out_vals['q2'] == q2\n",
    "        assert 'target' not in out_vals\n",
    "        assert phase == 1.0\n",
    "        print(' ✓')"
   ]
  },
  {
   "cell_type": "markdown",
   "id": "f5b50da9-cbf8-4663-9cb2-164675c079ff",
   "metadata": {},
   "source": [
    "### Inspecting the phase during simulation\n",
    "\n",
    "For visibility into the progress of the simulation, we extend the `step` method of the simulator to print out the current phase of the system. We've also modified the exhaustive loop to use `itertools.product` so this code snippet can handle circuits with multiple `MeasX` gates (with exponential scaling). "
   ]
  },
  {
   "cell_type": "code",
   "execution_count": null,
   "id": "20a732fe-74d8-43ea-80bf-f7c3d7b09e3f",
   "metadata": {},
   "outputs": [],
   "source": [
    "class DebugPhasedClassicalSim(PhasedClassicalSimState):\n",
    "    \"\"\"Phased-classical simulator that prints debug information.\"\"\"\n",
    "    \n",
    "    def step(self):\n",
    "        \"\"\"At each step, print a brief representation of the current phase.\"\"\"\n",
    "        super().step()\n",
    "        if sim.phase == 1.0:\n",
    "            print('+', end='')\n",
    "        elif sim.phase == -1.0:\n",
    "            print('-', end='')\n",
    "        else:\n",
    "            print('?', end='')"
   ]
  },
  {
   "cell_type": "code",
   "execution_count": null,
   "id": "47c2db6d-b7ba-4710-9406-e1737d34cef1",
   "metadata": {},
   "outputs": [],
   "source": [
    "meas_binst_is = [binst.i for binst in cbloq.bloq_instances if binst.bloq_is(MeasX)]\n",
    "\n",
    "for q1, q2 in itertools.product(range(2), repeat=2):\n",
    "    target = int(q1==1 and q2 == 1)\n",
    "    print(f'{q1=}, {q2=}, {target=}')\n",
    "\n",
    "    for meas_result in itertools.product(range(2), repeat=len(meas_binst_is)):\n",
    "        print(f'  meas {meas_result}', end=' ')\n",
    "        fixed_rnd_vals = {binst_i: meas_result[j] for j, binst_i in enumerate(meas_binst_is)}\n",
    "\n",
    "        sim = DebugPhasedClassicalSim.from_cbloq(\n",
    "            cbloq,\n",
    "            {'q1': q1, 'q2': q2, 'target': target},\n",
    "            fixed_random_vals=fixed_rnd_vals\n",
    "        )\n",
    "        out_vals = sim.simulate()\n",
    "        \n",
    "        assert out_vals['q1'] == q1\n",
    "        assert out_vals['q2'] == q2\n",
    "        assert 'target' not in out_vals\n",
    "        assert phase == 1.0\n",
    "        print(' ✓')"
   ]
  },
  {
   "cell_type": "markdown",
   "id": "89b36959-ce99-4b65-a89a-8175b4849127",
   "metadata": {},
   "source": [
    "Note that the phase is unaffected for all cases except when the `target` bit is `1` *and* the measurement result is `1`. Note that it is immediately fixed by the classically-controlled CZ."
   ]
  }
 ],
 "metadata": {
  "kernelspec": {
   "display_name": "Python 3 (ipykernel)",
   "language": "python",
   "name": "python3"
  },
  "language_info": {
   "codemirror_mode": {
    "name": "ipython",
    "version": 3
   },
   "file_extension": ".py",
   "mimetype": "text/x-python",
   "name": "python",
   "nbconvert_exporter": "python",
   "pygments_lexer": "ipython3",
   "version": "3.11.8"
  }
 },
 "nbformat": 4,
 "nbformat_minor": 5
}
