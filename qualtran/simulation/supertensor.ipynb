{
 "cells": [
  {
   "cell_type": "markdown",
   "id": "c90db82e-fe68-40ab-8093-0ee1b76f1cba",
   "metadata": {},
   "source": [
    "# Super-Tensor Simulation\n",
    "\n",
    "Simulation of a quantum program involves encoding the state of the system and encoding operators that update the state according to the desired operation.\n",
    "\n",
    "In *closed* quantum systems, we can encode our state in a *state vector* and our operations as *unitary matrices*. For a given bloq, we can query these objects with the `Bloq.tensor_contract()` method. Bloqs with only right registers correspond to states; and bloqs with thru registers correspond to unitary matrices. The tensor simulation protocol handles composing the states and unitaries to get e.g. the final state or unitary.\n",
    "\n",
    "In *open* quantum systems, the state of our system is (potentially) a classically-probabalistic mixture over pure states (which are the states found in closed quantum systems). The operations map this mixture of states to a new mixture of states. The superoperator tensor protocol lets you simulate Qualtran programs that include non-unitary operations like measurement or discarding qubits. Any pure state can also be simulated using this protocol, but it is more expensive than the normal tensor simulation protocol; so we encourage you to use the ordinary tensor contraction protocol wherever feasible.\n"
   ]
  },
  {
   "cell_type": "markdown",
   "id": "c038ddeb-185a-45f9-8304-de9e96f1b4dc",
   "metadata": {},
   "source": [
    "## Density matrix\n",
    "\n",
    "In this section, we contract all bloqs to thier `numpy.ndarray` numerical representation. There are more indices and fewer conventions about the arrangement of these indices, so practitioners must either pay close attention to the following documentation, or deal exclusively and directly with the Quimb `qtn.TensorNetwork` objects and their named indices (see the next section).\n",
    "\n",
    "When dealing with open system simulation, the state of the system is no longer represented by a 1-dimensional vector of probability amplitudes, but rather **a 2-dimensional matrix** of classical probabilities along the diagonal and quantum *coherences* off-diagonal.\n",
    "\n",
    "\n",
    "### The $|+\\rangle$ state\n",
    "First, let's inspect the statevector and density matrix representation of the $|+\\rangle$ state."
   ]
  },
  {
   "cell_type": "code",
   "execution_count": null,
   "id": "12c866ec-abf8-4a4f-941e-33922edf8348",
   "metadata": {},
   "outputs": [],
   "source": [
    "# Ordinary statevector of |+>\n",
    "from qualtran.bloqs.basic_gates import PlusState\n",
    "PlusState().tensor_contract()"
   ]
  },
  {
   "cell_type": "code",
   "execution_count": null,
   "id": "794c0d72-ee3a-4679-83bd-6a6b3a504dd1",
   "metadata": {},
   "outputs": [],
   "source": [
    "# Use the superoperator simulation machinery. States are\n",
    "# now density _matrices_. \n",
    "PlusState().tensor_contract(superoperator=True)"
   ]
  },
  {
   "cell_type": "markdown",
   "id": "d25c6f88-baf2-4a9f-bdfb-0f33b25ebbda",
   "metadata": {},
   "source": [
    "### Incoherent states\n",
    "\n",
    "We know that the $|+\\rangle$ state has a 50% chance of being measured in the 0 vs. 1 state. What is the difference between this and a classical coin flip? We'll compare the density matrices between the coherent `PlusState` vs. measuring the result."
   ]
  },
  {
   "cell_type": "code",
   "execution_count": null,
   "id": "5cab8731-7cd0-4486-93d2-69ab79853786",
   "metadata": {},
   "outputs": [],
   "source": [
    "from qualtran import BloqBuilder\n",
    "from qualtran.drawing import show_bloq\n",
    "from qualtran.bloqs.basic_gates import ZeroState, Hadamard, MeasZ\n",
    "\n",
    "# Initialize a qubit, do a Hadamard\n",
    "bb = BloqBuilder()\n",
    "q = bb.add(ZeroState())\n",
    "q = bb.add(Hadamard(), q=q)\n",
    "c = bb.add(MeasZ(), q=q)\n",
    "coin_flip = bb.finalize(c=c)\n",
    "\n",
    "# The circuit\n",
    "show_bloq(coin_flip, 'musical_score')\n",
    "\n",
    "# Its density matrix\n",
    "rho_coin_flip = coin_flip.tensor_contract(superoperator=True)\n",
    "display(rho_coin_flip)"
   ]
  },
  {
   "cell_type": "markdown",
   "id": "3fb7e165-2be8-4c37-b7e5-08159e9c96aa",
   "metadata": {},
   "source": [
    "## Superoperator evolution with matrix-vector multiplication\n",
    "\n",
    "Under the hood, the Quimb tensor network package can find efficient contraction orderings for performing superoperator simulation. However, for clarity we can show how the superoperator tensors can be manipulated to evolve a vector representation of the density operator with a matrix representation of the superoperator."
   ]
  },
  {
   "cell_type": "markdown",
   "id": "2dc0cc33-3150-405c-ac13-d317ed72c570",
   "metadata": {},
   "source": [
    "### Superoperator tensors\n",
    "\n",
    "Operations (like `Hadamard` below) are encoded in 4-index tensors. You saw above that states are encoded in 2-index tensors (the density matrix)."
   ]
  },
  {
   "cell_type": "code",
   "execution_count": null,
   "id": "fa757980-f244-4c30-828b-82cae9253248",
   "metadata": {},
   "outputs": [],
   "source": [
    "super_h = Hadamard().tensor_contract(superoperator=True)\n",
    "super_h.shape"
   ]
  },
  {
   "cell_type": "code",
   "execution_count": null,
   "id": "6fc177a0-36b2-4403-95e3-fc644d505b0b",
   "metadata": {},
   "outputs": [],
   "source": [
    "rho_coin_flip.shape"
   ]
  },
  {
   "cell_type": "markdown",
   "id": "89bec971-0894-4e48-a016-3ca6536e33cb",
   "metadata": {},
   "source": [
    "There is no standard naming scheme for these four indices, but we describe them here:\n",
    "\n",
    " - Unitary operations in standard, statevector evolution have two indices (i.e. they are matrices). We name the two indices **left** and **right** indices, corresponding to the input and output (resp.) basis states.\n",
    " - The density matrix $\\rho$ for a pure state $|\\psi\\rangle$ is given by $|\\psi\\rangle \\langle \\psi|$.\n",
    " - Evolution of a pure state by a unitary $U$ corresponds to applying $U|\\psi\\rangle$ to the first part of $\\rho$ and  $\\langle \\psi | U^\\dagger$ to the latter part.\n",
    " - With a bit of poetic license, we call the indices of the $|\\psi\\rangle$ part the **forward** indices and the $\\langle \\psi|$ part the **backward** indices.\n",
    "\n",
    "The Qualtran ordering of the superoperator tensor is:\n",
    "\n",
    "    (right_forward, right_backward, left_forward, left_backward)\n",
    "\n",
    "The ordering of the density matrix indices is the familiar, textbook ordering which&mdash;following the terminoligy we set up&mdash;is either\n",
    "\n",
    "    (right_forward, right_backward)\n",
    "    *or*\n",
    "    (left_foward, left_backward)\n",
    "\n",
    "depending on whether it is an initializing state or de-allocating state, respectively."
   ]
  },
  {
   "cell_type": "markdown",
   "id": "51c1dddd-99cb-4205-83ce-326be9c3d5bf",
   "metadata": {},
   "source": [
    "### Reshaping\n",
    "\n",
    "The index ordering allows reshaping of superoperators into matrices and density matrices into vectors so evolution can be computed by the traditional matrix-vector product.\n",
    "\n",
    "We'll see that applying a reshaped tensor of `Hadamard` to our reshaped `rho_coin_flip` gives us a random result, but applying it to a coherent state results in a deterministic output."
   ]
  },
  {
   "cell_type": "code",
   "execution_count": null,
   "id": "c8c33878-f71a-4ea3-b116-a1682c3a45e8",
   "metadata": {},
   "outputs": [],
   "source": [
    "# Applying H to our incoherent, coin-flip state\n",
    "(super_h.reshape(4,4) @ rho_coin_flip.reshape(4)).reshape(2,2)"
   ]
  },
  {
   "cell_type": "code",
   "execution_count": null,
   "id": "0ca8abb6-7156-42e4-905b-c17f2d71bf64",
   "metadata": {},
   "outputs": [],
   "source": [
    "# Applying H to our coherent state\n",
    "rho_coherent = PlusState().tensor_contract(superoperator=True)\n",
    "(super_h.reshape(4,4) @ rho_coherent.reshape(4)).reshape(2,2)"
   ]
  },
  {
   "cell_type": "markdown",
   "id": "fd627fc9-d734-4ed0-901c-d09e22480e37",
   "metadata": {},
   "source": [
    "## Quimb Tensor Network\n",
    "\n",
    "The function `cbloq_to_superquimb` returns a `qtn.TensorNetwork` representing the composite bloq. The structure is apparent: there are effectively two pure-state evolutions occuring ('forward' and 'backward'). Non-unitary operations introduce an index coupling the forward and backward evolutions."
   ]
  },
  {
   "cell_type": "code",
   "execution_count": null,
   "id": "84d7be2f-44ac-4c69-aaa0-cc6f15364530",
   "metadata": {},
   "outputs": [],
   "source": [
    "from qualtran.simulation.tensor import cbloq_to_superquimb\n",
    "tn = cbloq_to_superquimb(coin_flip, friendly_indices=True)\n",
    "tn.draw(color=['|0>', 'H', 'MeasZ', 'dag'])"
   ]
  },
  {
   "cell_type": "markdown",
   "id": "6375ba0c-1b8c-4de9-9153-bc848f626730",
   "metadata": {},
   "source": [
    "## System+Environment modeling\n",
    "\n",
    "All CPTP maps can be implemented by unitary evolution in a larger \"system + environment\" space. In this section, we show how to build a measurement operation with only standard, unitary bloqs and the ability to discard information.\n",
    "\n",
    "Any Hermitian operator can be \"measured\" into a fresh ancilla using a simple prescription, see e.g. Nielsen and Chuang Exercise 4.44. We build that construction below."
   ]
  },
  {
   "cell_type": "code",
   "execution_count": null,
   "id": "8cde1066-7e36-49b6-a665-58905250521c",
   "metadata": {},
   "outputs": [],
   "source": [
    "from qualtran import BloqBuilder, Register, Side, CtrlSpec, QBit, CBit\n",
    "from qualtran.bloqs.basic_gates import ZeroState, Hadamard, MeasZ, ZGate\n",
    "from qualtran.bloqs.bookkeeping import Cast\n",
    "\n",
    "bb = BloqBuilder()\n",
    "# Take a single qubit as input\n",
    "q = bb.add_register(Register(\"q\", QBit()))\n",
    "# Set up our output register: we'll return one classical bit\n",
    "bb.add_register(Register(\"c\", CBit(), side=Side.RIGHT))\n",
    "\n",
    "# This construction works for any Hermitian operator. We'll\n",
    "# use Z as a familiar first example.\n",
    "op = ZGate()\n",
    "\n",
    "# Allocate space to record the result of our measurement operation\n",
    "meas_space = bb.add(ZeroState())\n",
    "meas_space = bb.add(Hadamard(), q=meas_space)\n",
    "\n",
    "# Do Controlled(op)\n",
    "_, add_ctrled = op.get_ctrl_system(CtrlSpec())\n",
    "(meas_space,), (q,) = add_ctrled(bb, ctrl_soqs=[meas_space], in_soqs={'q': q})\n",
    "\n",
    "# Final Hadamard, and cast our measurement register\n",
    "# into a classical bit.\n",
    "meas_space = bb.add(Hadamard(), q=meas_space)\n",
    "meas_result = bb.add(Cast(QBit(), CBit(), allow_quantum_to_classical=True), reg=meas_space)\n",
    "meas_cbloq = bb.finalize(c = meas_result, q=q)\n",
    "show_bloq(meas_cbloq)"
   ]
  },
  {
   "cell_type": "markdown",
   "id": "455ab7ed-c93d-4fc3-8f81-a694d4f90a24",
   "metadata": {},
   "source": [
    "Note that we've entangled our system \"q\" with a fresh register. We've used a `Cast` operation to denote that the new bit is a classical bit. Practically this means we can no longer perform quantum operations like `Hadamard` to it, and any classical processing can happen on ordinary CPUs. But at a quantum-information level, there is nothing about the tensor structure to show that \"c\" is a 'classical' index. Below, we draw the tensor network encoding of the State/Unitary composite bloq using the ordinary tensor protocol"
   ]
  },
  {
   "cell_type": "code",
   "execution_count": null,
   "id": "57f300ec-28a5-4b6f-aabd-4cc5c8cf31ed",
   "metadata": {},
   "outputs": [],
   "source": [
    "from qualtran.simulation.tensor import cbloq_to_quimb\n",
    "tn = cbloq_to_quimb(meas_cbloq, friendly_indices=True)\n",
    "tn.draw(color=['CZ', 'H'])\n",
    "display(tn.contract())"
   ]
  },
  {
   "cell_type": "markdown",
   "id": "6ec443b0-d7e9-4d69-89eb-a7c068ed2737",
   "metadata": {},
   "source": [
    "### Making a measurement operation\n",
    "\n",
    "In an open system&mdash;like the world we live in&mdash;we don't have coherent access to each (qu)bit worth of information. Our measurement apparatus might have $10^{23}$ particles, each recording the result of a measurement. We can simulate the standard measurement channel where information is lost to the environment by using the previous circuit and discarding the coherent qubit wire. Now, the signature of our composite bloq takes in one `QBit()` and returns one `CBit()`."
   ]
  },
  {
   "cell_type": "code",
   "execution_count": null,
   "id": "690955e1-eab3-4f90-863b-53090d13a75c",
   "metadata": {},
   "outputs": [],
   "source": [
    "from qualtran.bloqs.basic_gates import DiscardQ\n",
    "\n",
    "bb = BloqBuilder()\n",
    "q = bb.add_register(Register(\"q\", QBit(), side=Side.LEFT))\n",
    "q, c = bb.add_from(meas_cbloq, q=q)\n",
    "bb.add(DiscardQ(), q=q)\n",
    "meas2_cbloq = bb.finalize(c=c)\n",
    "show_bloq(meas2_cbloq)"
   ]
  },
  {
   "cell_type": "markdown",
   "id": "2842fec6-d709-488a-9d31-d8817f47dbb0",
   "metadata": {},
   "source": [
    "The ordinary tensor simulation protocol is insufficient to handle discarding a qubit. "
   ]
  },
  {
   "cell_type": "code",
   "execution_count": null,
   "id": "b48228f0-3ef1-4e07-b89a-65c46fd0a865",
   "metadata": {},
   "outputs": [],
   "source": [
    "try:\n",
    "    tn = cbloq_to_quimb(meas2_cbloq, friendly_indices=True)\n",
    "except ValueError as e:\n",
    "    print(\"ValueError:\", e)"
   ]
  },
  {
   "cell_type": "markdown",
   "id": "cbec03e4-1a88-4a2b-ae4c-32f1efb6ddc7",
   "metadata": {},
   "source": [
    "To remove a qubit, we need to sum over its possible states as we would when computing a marginal probability distribution. But our probability *amplitudes* only sum to 1 when we consider their absolute value squared\n",
    "$$\n",
    "\\sum a^* a = 1,\n",
    "$$\n",
    "so our integration proceedure requires indexing into both our state $|\\psi\\rangle$ and its adjoint $\\langle \\psi|$ to remove the offending bit.\n",
    "\n",
    "If you're using a densitry matrix, this correspond to performing a parital trace. In Qualtran, the superoperator tensor simulation protocol sets up two simultaneous tensor networks for simulating unitary action on the circuit *and* its adjoint. That is, we simulate both $|\\psi\\rangle$ and $\\langle \\psi|$.  Discarding a qubit is performed by contracting the qubit's index in the forward network with its corresponding index in the backwards, adjoint network."
   ]
  },
  {
   "cell_type": "code",
   "execution_count": null,
   "id": "ca011792-af4d-463e-bd26-df7c0cdba14a",
   "metadata": {},
   "outputs": [],
   "source": [
    "tn = cbloq_to_superquimb(meas2_cbloq, friendly_indices=True)\n",
    "tn.draw(color=['CZ', 'H', 'dag'], initial_layout='spectral')\n",
    "display(tn.shape)"
   ]
  },
  {
   "cell_type": "markdown",
   "id": "5dbadc5c-7422-4ea6-8a5d-379a58bc81b8",
   "metadata": {},
   "source": [
    "The discard operation couples the two pure evolutions. The superoperator is now a rank-4 tensor.\n",
    "\n",
    "By the Stinespring dilation theorem, we can actually represent any superoperator (aka quantum channel, aka CPTP map) with only pure state evolution and the ability to discard qubits. This gives rise to the \"System-Environment\" representation of superoperators, which is the native representation in Qualtran. It is quite natural for the open-system operations we're most concerned with (like measurement); but practitioners may have to do some careful translation to encode superoperators traditionally expressed in another representation like the operator-sum (Kraus operator) representation."
   ]
  },
  {
   "cell_type": "markdown",
   "id": "91784324-c495-4878-afed-5597ea6782d6",
   "metadata": {},
   "source": [
    "## Implementation\n",
    "\n",
    "The super-tensor protocol is a superset of the ordinary tensor simulation protocol. Bloqs override the same method to define their tensors for open-system simulation: the bloq author overrides `Bloq.my_tensors` and is responsible for returning a list of tensors whose indices follow the same prescribed format as documented in the [tensor protocol](.). \n",
    "\n",
    "All additional functionality is unlocked by the ability to return a `qualtran.simulation.tensor.DiscardInd` object amongst the ordinary `qtn.Tensor` objects. Per above, any superoperator can be expressed in this system-environment representation. This simple sentinel object flags the named index as subject to \"tracing out\" during construction of the complete network.\n",
    "\n",
    "When calling `cbloq_to_quimb` the indices are faithfully kept as `(cxn: Connection, j: int)` tuples. During the conversion to the superoperator tensor network, each tensor returned by `Bloq.my_tensors` is added twice:\n",
    " - The 'forward' tensor is added. Its indices `(cxn, j)` are transformed to `(cxn, j, True)`\n",
    " - The 'backward' tensor is added. Its indices `(cxn, j)` are transformed to `(cxn, j, False)` and we take the element-wise complex conjugate of its data ndarray.\n",
    " - A `DiscardInd` will remove the booleans from the named index in tensors which have already been added. This causes the forward and backward indices to be contracted together.\n",
    "\n",
    "Note that index permutation operations like taking the transpose of the backwards tensor is handled by the structure of the tensor network rather than mutating the data ndarray. \n",
    "\n",
    "The `my_tensors` override must order its return values such that a `DiscardInd` is encountered *after* the tensor that defines the index to discard. "
   ]
  }
 ],
 "metadata": {
  "kernelspec": {
   "display_name": "Python 3 (ipykernel)",
   "language": "python",
   "name": "python3"
  },
  "language_info": {
   "codemirror_mode": {
    "name": "ipython",
    "version": 3
   },
   "file_extension": ".py",
   "mimetype": "text/x-python",
   "name": "python",
   "nbconvert_exporter": "python",
   "pygments_lexer": "ipython3",
   "version": "3.11.8"
  }
 },
 "nbformat": 4,
 "nbformat_minor": 5
}
