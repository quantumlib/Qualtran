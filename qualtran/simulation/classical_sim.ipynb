{
 "cells": [
  {
   "cell_type": "markdown",
   "id": "19c8aede",
   "metadata": {},
   "source": [
    "# Classical Simulation\n",
    "\n",
    "Many quantum information subroutines are reversible classical operations. The catch is that they are operated on superpositions of classical bitstrings. However, we can unit test these operations by checking against specific bitstrings through the `call_classically` bloqs protocol."
   ]
  },
  {
   "cell_type": "code",
   "execution_count": null,
   "id": "689149fc",
   "metadata": {},
   "outputs": [],
   "source": [
    "from typing import *\n",
    "\n",
    "import numpy as np\n",
    "from attrs import frozen\n",
    "from numpy.typing import NDArray\n",
    "\n",
    "from qualtran import Bloq, BloqBuilder, Register, Signature, Side\n",
    "from qualtran.drawing import show_bloq"
   ]
  },
  {
   "cell_type": "markdown",
   "id": "71193328",
   "metadata": {},
   "source": [
    "## CNOT\n",
    "\n",
    "The simplest classical gate is the controlled not. This flips the target bit if `ctrl` is set. We can implement the `on_classical_vals` method to encode this behavior."
   ]
  },
  {
   "cell_type": "code",
   "execution_count": null,
   "id": "3f251026",
   "metadata": {},
   "outputs": [],
   "source": [
    "@frozen\n",
    "class CNOTExample(Bloq):\n",
    "    @property\n",
    "    def signature(self) -> 'Signature':\n",
    "        return Signature.build(ctrl=1, target=1)\n",
    "\n",
    "    def on_classical_vals(\n",
    "        self, ctrl: NDArray[np.uint8], target: NDArray[np.uint8]\n",
    "    ) -> Dict[str, NDArray[np.uint8]]:\n",
    "        target_out = (ctrl + target) % 2\n",
    "        return {'ctrl': ctrl, 'target': target_out}"
   ]
  },
  {
   "cell_type": "markdown",
   "id": "62a974c9",
   "metadata": {},
   "source": [
    "We can call the Bloq on classical inputs by using `Bloq.call_classically()`. "
   ]
  },
  {
   "cell_type": "code",
   "execution_count": null,
   "id": "84d2ee13",
   "metadata": {},
   "outputs": [],
   "source": [
    "CNOTExample().call_classically(ctrl=1, target=0)"
   ]
  },
  {
   "cell_type": "code",
   "execution_count": null,
   "id": "4d5fd4dc",
   "metadata": {},
   "outputs": [],
   "source": [
    "import itertools\n",
    "for c, t in itertools.product([0,1], repeat=2):\n",
    "    out_c, out_t = CNOTExample().call_classically(ctrl=c, target=t)\n",
    "    print(f'{c}{t} -> {out_c}{out_t}')"
   ]
  },
  {
   "cell_type": "markdown",
   "id": "5a9e2ec0",
   "metadata": {},
   "source": [
    "### Drawing\n",
    "\n",
    "We can draw the flow of classical values as well using `ClassicalSimGraphDrawer`"
   ]
  },
  {
   "cell_type": "code",
   "execution_count": null,
   "id": "4653d4f9",
   "metadata": {},
   "outputs": [],
   "source": [
    "from qualtran.drawing import ClassicalSimGraphDrawer\n",
    "\n",
    "drawer = ClassicalSimGraphDrawer(CNOTExample(), vals=dict(ctrl=1, target=0))\n",
    "drawer.get_svg()"
   ]
  },
  {
   "cell_type": "code",
   "execution_count": null,
   "id": "8b62e282",
   "metadata": {},
   "outputs": [],
   "source": [
    "# Build a SWAP circuit\n",
    "bb = BloqBuilder()\n",
    "q0 = bb.add_register('q0', 1)\n",
    "q1 = bb.add_register('q1', 1)\n",
    "q0, q1 = bb.add(CNOTExample(), ctrl=q0, target=q1)\n",
    "q1, q0 = bb.add(CNOTExample(), ctrl=q1, target=q0)\n",
    "q0, q1 = bb.add(CNOTExample(), ctrl=q0, target=q1)\n",
    "cbloq = bb.finalize(q0=q0, q1=q1)\n",
    "\n",
    "drawer = ClassicalSimGraphDrawer(cbloq, vals=dict(q0=1, q1=0))\n",
    "drawer.get_svg()"
   ]
  },
  {
   "cell_type": "markdown",
   "id": "10",
   "metadata": {},
   "source": [
    "## Quantum Data Types\n",
    "\n",
    "To convert back and forth between classical values and bitstrings, we use the `QDType.to_bits` and `QDType.from_bits` functions.\n",
    "\n",
    "\n",
    "### QFxp classical values\n",
    "\n",
    "Currently, QFxp classical values are represented as fixed-width integers.\n",
    "See the class docstring for QFxp for precise details.\n",
    "To convert from true floating point values to this representation and vice-versa,\n",
    "users can use `QFxp.to_fixed_width_int` and `QFxp.float_from_fixed_width_int` respectively."
   ]
  },
  {
   "cell_type": "code",
   "execution_count": null,
   "id": "11",
   "metadata": {},
   "outputs": [],
   "source": [
    "from qualtran import QFxp\n",
    "\n",
    "@frozen\n",
    "class DoubleFxp(Bloq):\n",
    "    \"\"\"Bloq with a QFxp of 4 bits (0 int, 4 frac).\n",
    "    \n",
    "    This bloq doubles the input value inplace, discarding any overflow\n",
    "    \"\"\"\n",
    "    num_frac: int = 4\n",
    "    \n",
    "    @property\n",
    "    def signature(self) -> Signature:\n",
    "        return Signature.build_from_dtypes(x=QFxp(self.num_frac, self.num_frac))\n",
    "    \n",
    "    def on_classical_vals(self, x) -> dict[str, 'ClassicalValT']:\n",
    "        \"\"\"Double the input value, discarding overflow\"\"\"\n",
    "        return {'x': (x * 2) % (2**self.num_frac)}\n",
    "\n",
    "\n",
    "bloq_with_qfxp = DoubleFxp()\n",
    "x_float = 0.25\n",
    "x_as_int = QFxp(4, 4).to_fixed_width_int(x_float)\n",
    "(x_out_as_int,) = bloq_with_qfxp.call_classically(x=x_as_int)\n",
    "x_out_float = QFxp(4, 4).float_from_fixed_width_int(x_out_as_int)\n",
    "assert x_out_float == 0.5"
   ]
  }
 ],
 "metadata": {
  "kernelspec": {
   "display_name": "Python 3 (ipykernel)",
   "language": "python",
   "name": "python3"
  },
  "language_info": {
   "codemirror_mode": {
    "name": "ipython",
    "version": 3
   },
   "file_extension": ".py",
   "mimetype": "text/x-python",
   "name": "python",
   "nbconvert_exporter": "python",
   "pygments_lexer": "ipython3",
   "version": "3.10.9"
  }
 },
 "nbformat": 4,
 "nbformat_minor": 5
}
