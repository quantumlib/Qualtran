{
 "cells": [
  {
   "cell_type": "markdown",
   "id": "19c8aede",
   "metadata": {},
   "source": [
    "# Classical Simulation\n",
    "\n",
    "Many quantum information subroutines are reversible classical operations. The catch is that they are operated on superpositions of classical bitstrings. However, we can unit test these operations by checking against specific bitstrings through the `call_classically` bloqs protocol."
   ]
  },
  {
   "cell_type": "code",
   "execution_count": null,
   "id": "e8d6c2a3-ed22-459d-9bcb-959ebf9a3e0c",
   "metadata": {},
   "outputs": [],
   "source": [
    "from qualtran.bloqs.basic_gates import CNOT\n",
    "\n",
    "cnot = CNOT()\n",
    "cnot.call_classically(ctrl=1, target=0)"
   ]
  },
  {
   "cell_type": "markdown",
   "id": "0b3cb890-627f-4095-8970-18a891fe1fa8",
   "metadata": {},
   "source": [
    "## Interface\n",
    "\n",
    "The primary way to simulate the classical action of a bloq is through the `Bloq.call_classically` method. This takes classical values for each left- or thru-register and returns a classical value for each right- or thru-register (in the order of the bloq's signature). \n",
    "\n",
    "The functionality for this method is contained in the `qualtran.simulation.classical_sim` module. "
   ]
  },
  {
   "cell_type": "code",
   "execution_count": null,
   "id": "612eeda6-11d8-4ee1-ba12-85aefe6a1e29",
   "metadata": {},
   "outputs": [],
   "source": [
    "import itertools\n",
    "for c, t in itertools.product([0,1], repeat=2):\n",
    "    out_c, out_t = CNOT().call_classically(ctrl=c, target=t)\n",
    "    print(f'{c}{t} -> {out_c}{out_t}')"
   ]
  },
  {
   "cell_type": "markdown",
   "id": "1c9d1041-67ad-4c5b-b836-70766eb65ee7",
   "metadata": {},
   "source": [
    "## Additional Functionality"
   ]
  },
  {
   "cell_type": "markdown",
   "id": "4e020b40-2bf0-47f5-86b2-96d05ee3a4d4",
   "metadata": {},
   "source": [
    "### Consistent classical action\n",
    "\n",
    "The primary method of testing the classical action of a bloq is comparing the classical action from the bloq's decomposition with its directly annotated, reference action. For example: the `Add` is annotated with a method override that directly adds two numbers. This is the reference classical action for addition\n"
   ]
  },
  {
   "cell_type": "code",
   "execution_count": null,
   "id": "7ecc2944-21cc-4127-9f2f-fd5814472963",
   "metadata": {},
   "outputs": [],
   "source": [
    "from qualtran import QUInt\n",
    "from qualtran.bloqs.arithmetic import Add\n",
    "\n",
    "add = Add(QUInt(8))\n",
    "add.call_classically(a=5, b=7)"
   ]
  },
  {
   "cell_type": "markdown",
   "id": "5eb82a5b-c43e-4872-a4b8-c0c5886bb547",
   "metadata": {},
   "source": [
    "The `Add` bloq also is annotated with a decomposition that we would like to validate. We can check various input/output pairs against the reference implementation to gain confidence that the decomposition is correct."
   ]
  },
  {
   "cell_type": "code",
   "execution_count": null,
   "id": "96f02ca2-4a33-4fa2-864f-a07a6f94c909",
   "metadata": {},
   "outputs": [],
   "source": [
    "import numpy as np\n",
    "rs = np.random.RandomState(seed=52)\n",
    "\n",
    "add_cbloq = add.decompose_bloq()\n",
    "\n",
    "for _ in range(10):\n",
    "    a = rs.randint(256)\n",
    "    b = rs.randint(256)\n",
    "    ref_vals = add.call_classically(a=a, b=b)\n",
    "    decomp_vals = add_cbloq.call_classically(a=a, b=b)\n",
    "    assert ref_vals == decomp_vals\n",
    "    print('✓', end='')"
   ]
  },
  {
   "cell_type": "markdown",
   "id": "dd945628-d120-4dbe-b84f-721a668f555e",
   "metadata": {},
   "source": [
    "### `assert_consistent_classical_action`\n",
    "\n",
    "The idea above is encapsulated in an exhaustive testing function. You can use properties of the quantum data types involved to make the function quite general"
   ]
  },
  {
   "cell_type": "code",
   "execution_count": null,
   "id": "8caab611-4bca-409a-98b2-147cf8b8db39",
   "metadata": {},
   "outputs": [],
   "source": [
    "import qualtran.testing as qlt_testing\n",
    "\n",
    "dtype = QUInt(2)\n",
    "qlt_testing.assert_consistent_classical_action(\n",
    "    bloq=Add(dtype), \n",
    "    a=dtype.get_classical_domain(),\n",
    "    b=dtype.get_classical_domain(),\n",
    ")\n",
    "print('✓')"
   ]
  },
  {
   "cell_type": "markdown",
   "id": "c47c770e-b2c6-40fa-b355-58866195311e",
   "metadata": {},
   "source": [
    "### Printing truth tables\n",
    "\n",
    "There are functions provided to quickly print the truth table of a bloq."
   ]
  },
  {
   "cell_type": "code",
   "execution_count": null,
   "id": "e6f114c2-3a9d-40f4-83ae-f184b4b7ef02",
   "metadata": {},
   "outputs": [],
   "source": [
    "from qualtran.simulation.classical_sim import get_classical_truth_table, format_classical_truth_table\n",
    "from qualtran.bloqs.arithmetic import Add\n",
    "from qualtran import QUInt\n",
    "\n",
    "add = Add(QUInt(2))\n",
    "print(format_classical_truth_table(*get_classical_truth_table(add)))"
   ]
  },
  {
   "cell_type": "markdown",
   "id": "829aff81-c396-46a5-8918-c251fb10f38e",
   "metadata": {},
   "source": [
    "## Implementation\n",
    "\n",
    "The `qualtran.simulation.classical_sim` functions rely on `Bloq.on_classical_vals` overrides to implement the protocol. This method encodes a bloq's classical action.\n",
    "\n",
    "Bloq authors should aim to always provide a `on_classical_vals` override if the bloq implements a classical function. The override on high-level bloqs can serve as a reference implementation for testing decompositions, see above.\n",
    "\n",
    "A simple classical gate is the controlled not. This flips the target bit if `ctrl` is set. We'll implement `on_classical_vals` to encode this behavior"
   ]
  },
  {
   "cell_type": "code",
   "execution_count": null,
   "id": "689149fc",
   "metadata": {},
   "outputs": [],
   "source": [
    "from typing import *\n",
    "\n",
    "import numpy as np\n",
    "from attrs import frozen\n",
    "from numpy.typing import NDArray\n",
    "\n",
    "from qualtran import Bloq, BloqBuilder, Register, Signature, Side\n",
    "from qualtran.drawing import show_bloq"
   ]
  },
  {
   "cell_type": "code",
   "execution_count": null,
   "id": "3f251026",
   "metadata": {},
   "outputs": [],
   "source": [
    "@frozen\n",
    "class CNOTExample(Bloq):\n",
    "    @property\n",
    "    def signature(self) -> 'Signature':\n",
    "        return Signature.build(ctrl=1, target=1)\n",
    "\n",
    "    def on_classical_vals(\n",
    "        self, ctrl: NDArray[np.uint8], target: NDArray[np.uint8]\n",
    "    ) -> Dict[str, NDArray[np.uint8]]:\n",
    "        target_out = (ctrl + target) % 2\n",
    "        return {'ctrl': ctrl, 'target': target_out}"
   ]
  },
  {
   "cell_type": "markdown",
   "id": "62a974c9",
   "metadata": {},
   "source": [
    "We can call the Bloq on classical inputs by using `Bloq.call_classically()`. Below, we inspect the truth table."
   ]
  },
  {
   "cell_type": "code",
   "execution_count": null,
   "id": "1c9d022e-6169-4f7b-b424-d27cd430f4c4",
   "metadata": {},
   "outputs": [],
   "source": [
    "my_cnot = CNOTExample()\n",
    "print(format_classical_truth_table(*get_classical_truth_table(my_cnot)))"
   ]
  },
  {
   "cell_type": "markdown",
   "id": "d685f136-6e5e-4d0c-83a1-e1c38ec2b498",
   "metadata": {},
   "source": [
    "## Properties and Relations"
   ]
  },
  {
   "cell_type": "markdown",
   "id": "5a9e2ec0",
   "metadata": {},
   "source": [
    "### Drawing\n",
    "\n",
    "We can draw the flow of classical values as well using `ClassicalSimGraphDrawer`"
   ]
  },
  {
   "cell_type": "code",
   "execution_count": null,
   "id": "4653d4f9",
   "metadata": {},
   "outputs": [],
   "source": [
    "from qualtran.drawing import ClassicalSimGraphDrawer\n",
    "\n",
    "drawer = ClassicalSimGraphDrawer(Add(QUInt(2)).decompose_bloq(), vals=dict(a=3, b=2))\n",
    "drawer.get_svg()"
   ]
  },
  {
   "cell_type": "markdown",
   "id": "ef352653-4b7e-4735-b8af-b78de0320426",
   "metadata": {},
   "source": [
    "### Quantum Data Types\n",
    "\n",
    "To convert back and forth between classical values and bitstrings, we use the `QDType.to_bits` and `QDType.from_bits` functions. Qualtran uses a big-endian convention. The most significant bit is at index 0."
   ]
  },
  {
   "cell_type": "code",
   "execution_count": null,
   "id": "c0a52e07-d117-447e-b171-3e2d16cb991f",
   "metadata": {},
   "outputs": [],
   "source": [
    "QUInt(8).to_bits(254)"
   ]
  },
  {
   "cell_type": "markdown",
   "id": "be896d15-f576-4113-b81c-306b0457dd23",
   "metadata": {},
   "source": [
    "### QFxp classical values\n",
    "\n",
    "Due to technical limitations, `QFxp` classical values are represented as fixed-width integers.\n",
    "See the class docstring for QFxp for precise details.\n",
    "To convert from true floating point values to this representation and vice-versa,\n",
    "users can use `QFxp.to_fixed_width_int` and `QFxp.float_from_fixed_width_int` respectively."
   ]
  },
  {
   "cell_type": "code",
   "execution_count": null,
   "id": "11",
   "metadata": {},
   "outputs": [],
   "source": [
    "from qualtran import QFxp\n",
    "\n",
    "@frozen\n",
    "class DoubleFxp(Bloq):\n",
    "    \"\"\"Bloq with a QFxp of 4 bits (0 int, 4 frac).\n",
    "    \n",
    "    This bloq doubles the input value inplace, discarding any overflow\n",
    "    \"\"\"\n",
    "    num_frac: int = 4\n",
    "    \n",
    "    @property\n",
    "    def signature(self) -> Signature:\n",
    "        return Signature.build_from_dtypes(x=QFxp(self.num_frac, self.num_frac))\n",
    "    \n",
    "    def on_classical_vals(self, x) -> dict[str, 'ClassicalValT']:\n",
    "        \"\"\"Double the input value, discarding overflow\"\"\"\n",
    "        return {'x': (x * 2) % (2**self.num_frac)}\n",
    "\n",
    "\n",
    "bloq_with_qfxp = DoubleFxp()\n",
    "x_float = 0.25\n",
    "x_as_int = QFxp(4, 4).to_fixed_width_int(x_float)\n",
    "(x_out_as_int,) = bloq_with_qfxp.call_classically(x=x_as_int)\n",
    "x_out_float = QFxp(4, 4).float_from_fixed_width_int(x_out_as_int)\n",
    "assert x_out_float == 0.5"
   ]
  }
 ],
 "metadata": {
  "kernelspec": {
   "display_name": "Python 3 (ipykernel)",
   "language": "python",
   "name": "python3"
  },
  "language_info": {
   "codemirror_mode": {
    "name": "ipython",
    "version": 3
   },
   "file_extension": ".py",
   "mimetype": "text/x-python",
   "name": "python",
   "nbconvert_exporter": "python",
   "pygments_lexer": "ipython3",
   "version": "3.11.8"
  }
 },
 "nbformat": 4,
 "nbformat_minor": 5
}
