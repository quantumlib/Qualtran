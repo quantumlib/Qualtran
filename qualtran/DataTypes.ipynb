{
 "cells": [
  {
   "cell_type": "markdown",
   "id": "cc3bc886-66ec-4a5e-8042-ed84c98ae210",
   "metadata": {},
   "source": [
    "# Data Types\n",
    "\n",
    "## Introduction to quantum data: the qubit\n",
    "Qualtran lets you write quantum programs that operate on quantum data. The smallest unit of quantum data is the qubit (\"quantum bit\"). A quantum bit can be in the familiar `0` or `1` states (called computational basis states) or any combination of them, like $|+\\rangle = (|0\\rangle + |1\\rangle)/\\sqrt{2}$. Allocation-like bloqs can allocate a qubit in a particular state. Below, we create a simple program that allocates one quantum vairalbe in the `0` state and one in the `+` state."
   ]
  },
  {
   "cell_type": "code",
   "execution_count": 1,
   "id": "780e26eb-b50a-46fd-aec9-a74d68201c2f",
   "metadata": {},
   "outputs": [
    {
     "data": {
      "image/svg+xml": [
       "<svg xmlns=\"http://www.w3.org/2000/svg\" xmlns:xlink=\"http://www.w3.org/1999/xlink\" width=\"119pt\" height=\"112pt\" viewBox=\"0.00 0.00 119.00 111.50\">\n",
       "<g id=\"graph0\" class=\"graph\" transform=\"scale(1 1) rotate(0) translate(4 107.5)\">\n",
       "<title>my_graph</title>\n",
       "<polygon fill=\"white\" stroke=\"none\" points=\"-4,4 -4,-107.5 115,-107.5 115,4 -4,4\"/>\n",
       "<!-- ZeroState -->\n",
       "<g id=\"node1\" class=\"node\">\n",
       "<title>ZeroState</title>\n",
       "<polygon fill=\"none\" stroke=\"black\" points=\"0.5,-29.5 0.5,-46.5 19.5,-46.5 19.5,-29.5 0.5,-29.5\"/>\n",
       "<text text-anchor=\"start\" x=\"3.25\" y=\"-34\" font-family=\"Times,serif\" font-size=\"10.00\">|0&gt;</text>\n",
       "<polygon fill=\"none\" stroke=\"black\" points=\"0.5,-7.5 0.5,-29.5 6.5,-29.5 6.5,-7.5 0.5,-7.5\"/>\n",
       "<polygon fill=\"none\" stroke=\"black\" points=\"6.5,-7.5 6.5,-29.5 19.5,-29.5 19.5,-7.5 6.5,-7.5\"/>\n",
       "<text text-anchor=\"start\" x=\"9.62\" y=\"-13.2\" font-family=\"Times,serif\" font-size=\"14.00\">q</text>\n",
       "</g>\n",
       "<!-- q0 -->\n",
       "<g id=\"node3\" class=\"node\">\n",
       "<title>q0</title>\n",
       "<text text-anchor=\"middle\" x=\"84\" y=\"-12.95\" font-family=\"Times,serif\" font-size=\"14.00\">q0</text>\n",
       "</g>\n",
       "<!-- ZeroState&#45;&gt;q0 -->\n",
       "<g id=\"edge1\" class=\"edge\">\n",
       "<title>ZeroState:e-&gt;q0:w</title>\n",
       "<path fill=\"none\" stroke=\"black\" d=\"M20,-18C35.42,-18 39.99,-18 54.06,-18\"/>\n",
       "<ellipse fill=\"black\" stroke=\"black\" cx=\"55.5\" cy=\"-18\" rx=\"1\" ry=\"1\"/>\n",
       "<text text-anchor=\"middle\" x=\"38.5\" y=\"-19.75\" font-family=\"Times,serif\" font-size=\"10.00\">1</text>\n",
       "</g>\n",
       "<!-- PlusState -->\n",
       "<g id=\"node2\" class=\"node\">\n",
       "<title>PlusState</title>\n",
       "<polygon fill=\"none\" stroke=\"black\" points=\"0,-86.5 0,-103.5 20,-103.5 20,-86.5 0,-86.5\"/>\n",
       "<text text-anchor=\"start\" x=\"2.88\" y=\"-91\" font-family=\"Times,serif\" font-size=\"10.00\">|+&gt;</text>\n",
       "<polygon fill=\"none\" stroke=\"black\" points=\"0,-64.5 0,-86.5 7,-86.5 7,-64.5 0,-64.5\"/>\n",
       "<polygon fill=\"none\" stroke=\"black\" points=\"7,-64.5 7,-86.5 20,-86.5 20,-64.5 7,-64.5\"/>\n",
       "<text text-anchor=\"start\" x=\"10.12\" y=\"-70.2\" font-family=\"Times,serif\" font-size=\"14.00\">q</text>\n",
       "</g>\n",
       "<!-- q1 -->\n",
       "<g id=\"node4\" class=\"node\">\n",
       "<title>q1</title>\n",
       "<text text-anchor=\"middle\" x=\"84\" y=\"-69.95\" font-family=\"Times,serif\" font-size=\"14.00\">q1</text>\n",
       "</g>\n",
       "<!-- PlusState&#45;&gt;q1 -->\n",
       "<g id=\"edge2\" class=\"edge\">\n",
       "<title>PlusState:e-&gt;q1:w</title>\n",
       "<path fill=\"none\" stroke=\"black\" d=\"M20,-75C35.42,-75 39.99,-75 54.06,-75\"/>\n",
       "<ellipse fill=\"black\" stroke=\"black\" cx=\"55.5\" cy=\"-75\" rx=\"1\" ry=\"1\"/>\n",
       "<text text-anchor=\"middle\" x=\"38.5\" y=\"-76.75\" font-family=\"Times,serif\" font-size=\"10.00\">1</text>\n",
       "</g>\n",
       "</g>\n",
       "</svg>"
      ],
      "text/plain": [
       "<IPython.core.display.SVG object>"
      ]
     },
     "metadata": {},
     "output_type": "display_data"
    }
   ],
   "source": [
    "from qualtran import BloqBuilder\n",
    "from qualtran.bloqs.basic_gates import ZeroState, PlusState\n",
    "\n",
    "bb = BloqBuilder()\n",
    "zero_q = bb.add(ZeroState())\n",
    "plus_q = bb.add(PlusState())\n",
    "cbloq = bb.finalize(q0=zero_q, q1=plus_q)\n",
    "\n",
    "from qualtran.drawing import show_bloq\n",
    "show_bloq(cbloq)"
   ]
  },
  {
   "cell_type": "markdown",
   "id": "a3ead17f-c2b1-4d7b-8467-deb4691ce4a2",
   "metadata": {},
   "source": [
    "## Quantum variables\n",
    "\n",
    "When we use `BloqBuilder` to `add` these allocation operations to our program, we are given a handle to the resulting quantum data. These handles are *quantum variables*, which can be provided as inputs to subsequent operations. Quantum variables follow *linear logic*: that is, each quantum variable must be used exactly once. You cannot use the same variable twice (this would violate the *no-cloning theorem*), and you cannot leave a variable unused (this would violate the corresponding *no-deleting theorem*). In the above program, we use the `finalize` method to account for our unused quantum variables&mdash;it is presumed that the programmer will handle these piece of data with subsequent bloqs."
   ]
  },
  {
   "cell_type": "markdown",
   "id": "f51e6b35-64a9-442c-b677-b7053791e3f0",
   "metadata": {},
   "source": [
    "## Bloq signatures and `QBit()`\n",
    "\n",
    "We write quantum programs by composing subroutines encoded as Qualtran *bloqs*. A bloq class inherits from the `qualtran.Bloq` interface, which only has one required property: `signature`. A bloq's signature declares the names and types of quantum data the bloq takes as input and output. You might think of a bloq with nothing other than its signature analogous to declaring (but not defining) a function in a C/C++ header file. \n",
    "\n",
    "The `Bloq.signature` property method must return a `qualtran.Signature` object, which is itself a list of `Register` objects. Each register is the name and data type of an input/output variable. In quantum computing (as a consequence of the no-deleting theorem), we often have a pattern we term *thru registers* where quantum data is used as input and returned with the same name and data type, so registers default to simultaneous input and output arguments.\n",
    "\n",
    "Below, we construct a signature consisting of two input-output arguments named 'arg1' and 'arg2'; and we declare that each must be a qubit using the data type specification `qualtran.QBit()`. "
   ]
  },
  {
   "cell_type": "code",
   "execution_count": 2,
   "id": "9da1ffe1-b214-43aa-82f6-098dffec10eb",
   "metadata": {},
   "outputs": [
    {
     "name": "stdout",
     "output_type": "stream",
     "text": [
      "2\n"
     ]
    }
   ],
   "source": [
    "from qualtran import Signature, Register, QBit\n",
    "\n",
    "signature = Signature([\n",
    "    Register('arg1', QBit()),\n",
    "    Register('arg2', QBit()),\n",
    "])\n",
    "print(signature.n_qubits())"
   ]
  },
  {
   "cell_type": "markdown",
   "id": "e3f1675d-57af-4712-b694-62cca89440c3",
   "metadata": {},
   "source": [
    "## Quantum data types\n",
    "\n",
    "Completely analogously to classical computation, collections of individual qubits can be used to encode a variety of data types. For example, `qualtran.QUInt(32)` represents a 32-bit unsigned, quantum integer. These data type objects are used in the definition of signatures to provide type checking for your quantum programs. \n",
    "\n",
    "In Qualtran, quantum variables of arbitrary type are first-class objects. You can represent a program operating on e.g. 2048-bit registers without having a unique index or an individual Python object for each underlying qubit (like in many NISQ frameworks like Cirq). \n",
    "\n",
    "We support statically-sized data; and do not support sum or union types. Built-in data types like `QInt`, `QFxp` (fixed-point reals), `QIntOnesComp` (signed integers using ones' complement), and others are available in the top-level `qualtran` namespace. Custom data types can be implemented by inheriting from `QDType`.\n",
    "\n",
    "Below, we construct a signature consisting of two input-output arguments named 'x' and 'y'; and we declare that each is a 32-bit quantum unsigned integer."
   ]
  },
  {
   "cell_type": "code",
   "execution_count": 3,
   "id": "578c71e2-3b6b-43d1-bb91-88c94ae4f70e",
   "metadata": {},
   "outputs": [
    {
     "name": "stdout",
     "output_type": "stream",
     "text": [
      "64\n"
     ]
    }
   ],
   "source": [
    "from qualtran import QUInt\n",
    "\n",
    "signature = Signature([\n",
    "    Register('x', QUInt(32)),\n",
    "    Register('y', QUInt(32)),\n",
    "])\n",
    "print(signature.n_qubits())"
   ]
  },
  {
   "cell_type": "markdown",
   "id": "3fc9dd5c-7e05-4b4c-a423-0c58399bc46e",
   "metadata": {},
   "source": [
    "### Quantum data types as bloq parameters\n",
    "\n",
    "By using compile-time classical attributes of bloqs, we can support *generic programming* where a single bloq class can be used with a variety of quantum data types. Many of the arithmetic operations take the data type as a compile-time classical attribute.\n",
    "\n",
    "Below, we show that the `Negate` operation can handle a `QUInt` of arbitrary size; and indeed you can read the documentation to figure out that it also supports signed and other types of integers. Note: we can represent programs on large bitsize variables without any performance overhead."
   ]
  },
  {
   "cell_type": "code",
   "execution_count": 4,
   "id": "fb259875-b438-4ee8-882c-092bd9711682",
   "metadata": {},
   "outputs": [
    {
     "data": {
      "image/svg+xml": [
       "<svg xmlns=\"http://www.w3.org/2000/svg\" xmlns:xlink=\"http://www.w3.org/1999/xlink\" width=\"311pt\" height=\"55pt\" viewBox=\"0.00 0.00 311.00 54.50\">\n",
       "<g id=\"graph0\" class=\"graph\" transform=\"scale(1 1) rotate(0) translate(4 50.5)\">\n",
       "<title>my_graph</title>\n",
       "<polygon fill=\"white\" stroke=\"none\" points=\"-4,4 -4,-50.5 307,-50.5 307,4 -4,4\"/>\n",
       "<!-- x_G2 -->\n",
       "<g id=\"node1\" class=\"node\">\n",
       "<title>x_G2</title>\n",
       "<text text-anchor=\"middle\" x=\"27\" y=\"-12.95\" font-family=\"Times,serif\" font-size=\"14.00\">x</text>\n",
       "</g>\n",
       "<!-- BitwiseNot -->\n",
       "<g id=\"node2\" class=\"node\">\n",
       "<title>BitwiseNot</title>\n",
       "<polygon fill=\"none\" stroke=\"black\" points=\"91,-29.5 91,-46.5 144,-46.5 144,-29.5 91,-29.5\"/>\n",
       "<text text-anchor=\"start\" x=\"93.88\" y=\"-34\" font-family=\"Times,serif\" font-size=\"10.00\">BitwiseNot</text>\n",
       "<polygon fill=\"none\" stroke=\"black\" points=\"91,-7.5 91,-29.5 144,-29.5 144,-7.5 91,-7.5\"/>\n",
       "<text text-anchor=\"start\" x=\"114.12\" y=\"-13.2\" font-family=\"Times,serif\" font-size=\"14.00\">x</text>\n",
       "</g>\n",
       "<!-- x_G2&#45;&gt;BitwiseNot -->\n",
       "<g id=\"edge1\" class=\"edge\">\n",
       "<title>x_G2:e-&gt;BitwiseNot:w</title>\n",
       "<path fill=\"none\" stroke=\"black\" d=\"M54,-18C69.42,-18 73.99,-18 88.06,-18\"/>\n",
       "<ellipse fill=\"black\" stroke=\"black\" cx=\"89.5\" cy=\"-18\" rx=\"1\" ry=\"1\"/>\n",
       "<text text-anchor=\"middle\" x=\"72.5\" y=\"-19.75\" font-family=\"Times,serif\" font-size=\"10.00\">2048</text>\n",
       "</g>\n",
       "<!-- AddK -->\n",
       "<g id=\"node3\" class=\"node\">\n",
       "<title>AddK</title>\n",
       "<polygon fill=\"none\" stroke=\"black\" points=\"181,-29.5 181,-46.5 212,-46.5 212,-29.5 181,-29.5\"/>\n",
       "<text text-anchor=\"start\" x=\"183.75\" y=\"-34\" font-family=\"Times,serif\" font-size=\"10.00\">AddK</text>\n",
       "<polygon fill=\"none\" stroke=\"black\" points=\"181,-7.5 181,-29.5 212,-29.5 212,-7.5 181,-7.5\"/>\n",
       "<text text-anchor=\"start\" x=\"193.12\" y=\"-13.2\" font-family=\"Times,serif\" font-size=\"14.00\">x</text>\n",
       "</g>\n",
       "<!-- BitwiseNot&#45;&gt;AddK -->\n",
       "<g id=\"edge2\" class=\"edge\">\n",
       "<title>BitwiseNot:e-&gt;AddK:w</title>\n",
       "<path fill=\"none\" stroke=\"black\" d=\"M144,-18C159.42,-18 163.99,-18 178.06,-18\"/>\n",
       "<ellipse fill=\"black\" stroke=\"black\" cx=\"179.5\" cy=\"-18\" rx=\"1\" ry=\"1\"/>\n",
       "<text text-anchor=\"middle\" x=\"162.5\" y=\"-19.75\" font-family=\"Times,serif\" font-size=\"10.00\">2048</text>\n",
       "</g>\n",
       "<!-- x_G3 -->\n",
       "<g id=\"node4\" class=\"node\">\n",
       "<title>x_G3</title>\n",
       "<text text-anchor=\"middle\" x=\"276\" y=\"-12.95\" font-family=\"Times,serif\" font-size=\"14.00\">x</text>\n",
       "</g>\n",
       "<!-- AddK&#45;&gt;x_G3 -->\n",
       "<g id=\"edge3\" class=\"edge\">\n",
       "<title>AddK:e-&gt;x_G3:w</title>\n",
       "<path fill=\"none\" stroke=\"black\" d=\"M212,-18C227.42,-18 231.99,-18 246.06,-18\"/>\n",
       "<ellipse fill=\"black\" stroke=\"black\" cx=\"247.5\" cy=\"-18\" rx=\"1\" ry=\"1\"/>\n",
       "<text text-anchor=\"middle\" x=\"230.5\" y=\"-19.75\" font-family=\"Times,serif\" font-size=\"10.00\">2048</text>\n",
       "</g>\n",
       "</g>\n",
       "</svg>"
      ],
      "text/plain": [
       "<IPython.core.display.SVG object>"
      ]
     },
     "metadata": {},
     "output_type": "display_data"
    }
   ],
   "source": [
    "from qualtran.bloqs.arithmetic import Negate\n",
    "\n",
    "negate = Negate(dtype=QUInt(2048))\n",
    "show_bloq(negate.decompose_bloq())"
   ]
  },
  {
   "cell_type": "markdown",
   "id": "5d9426cd-087a-4d7c-a5cc-8ad95ed4257e",
   "metadata": {},
   "source": [
    "## Splitting\n",
    "\n",
    "It is great if you can express your algorithm as manipulations of quantum ints, reals, or other *high-level* data types. But, we anticipate that the gateset of a quantum computer will consist of 1-, 2- and 3-qubit operations. At some point, we need to define our operations in terms of their action on individual bits. We can use `Split` and other *bookkeeping* operations to carefully cast the data type of a quantum variable so we can write decompositions down to the architecture-supported gateset.\n",
    "\n",
    "As an example, we'll consider the `BitwiseNot` used in the previous snippet. We'll take a quantum unsigned integer and just do a *not* (in quantum computing: `XGate`) on each bit."
   ]
  },
  {
   "cell_type": "code",
   "execution_count": 5,
   "id": "9b5fdb88-9a4d-4ccc-801f-76769df67214",
   "metadata": {},
   "outputs": [
    {
     "data": {
      "image/svg+xml": [
       "<svg xmlns=\"http://www.w3.org/2000/svg\" xmlns:xlink=\"http://www.w3.org/1999/xlink\" width=\"301pt\" height=\"161pt\" viewBox=\"0.00 0.00 301.00 161.00\">\n",
       "<g id=\"graph0\" class=\"graph\" transform=\"scale(1 1) rotate(0) translate(4 157)\">\n",
       "<title>my_graph</title>\n",
       "<polygon fill=\"white\" stroke=\"none\" points=\"-4,4 -4,-157 297,-157 297,4 -4,4\"/>\n",
       "<!-- x -->\n",
       "<g id=\"node1\" class=\"node\">\n",
       "<title>x</title>\n",
       "<text text-anchor=\"middle\" x=\"27\" y=\"-62.45\" font-family=\"Times,serif\" font-size=\"14.00\">x</text>\n",
       "</g>\n",
       "<!-- Split -->\n",
       "<g id=\"node4\" class=\"node\">\n",
       "<title>Split</title>\n",
       "<polygon fill=\"none\" stroke=\"black\" points=\"91,-76.5 91,-82.5 103,-82.5 103,-76.5 91,-76.5\"/>\n",
       "<polygon fill=\"none\" stroke=\"black\" points=\"91,-58.5 91,-76.5 97,-76.5 97,-58.5 91,-58.5\"/>\n",
       "<polygon fill=\"none\" stroke=\"black\" points=\"97,-70.5 97,-76.5 103,-76.5 103,-70.5 97,-70.5\"/>\n",
       "<polygon fill=\"none\" stroke=\"black\" points=\"97,-64.5 97,-70.5 103,-70.5 103,-64.5 97,-64.5\"/>\n",
       "<polygon fill=\"none\" stroke=\"black\" points=\"97,-58.5 97,-64.5 103,-64.5 103,-58.5 97,-58.5\"/>\n",
       "</g>\n",
       "<!-- x&#45;&gt;Split -->\n",
       "<g id=\"edge1\" class=\"edge\">\n",
       "<title>x:e-&gt;Split:w</title>\n",
       "<path fill=\"none\" stroke=\"black\" d=\"M54,-67.5C69.42,-67.5 73.99,-67.5 88.06,-67.5\"/>\n",
       "<ellipse fill=\"black\" stroke=\"black\" cx=\"89.5\" cy=\"-67.5\" rx=\"1\" ry=\"1\"/>\n",
       "<text text-anchor=\"middle\" x=\"72.5\" y=\"-69.25\" font-family=\"Times,serif\" font-size=\"10.00\">3</text>\n",
       "</g>\n",
       "<!-- XGate -->\n",
       "<g id=\"node2\" class=\"node\">\n",
       "<title>XGate</title>\n",
       "<polygon fill=\"none\" stroke=\"black\" points=\"140,-79 140,-96 153,-96 153,-79 140,-79\"/>\n",
       "<text text-anchor=\"start\" x=\"142.75\" y=\"-83.5\" font-family=\"Times,serif\" font-size=\"10.00\">X</text>\n",
       "<polygon fill=\"none\" stroke=\"black\" points=\"140,-57 140,-79 153,-79 153,-57 140,-57\"/>\n",
       "<text text-anchor=\"start\" x=\"143.12\" y=\"-62.7\" font-family=\"Times,serif\" font-size=\"14.00\">q</text>\n",
       "</g>\n",
       "<!-- Join -->\n",
       "<g id=\"node5\" class=\"node\">\n",
       "<title>Join</title>\n",
       "<polygon fill=\"none\" stroke=\"black\" points=\"190,-76.5 190,-82.5 202,-82.5 202,-76.5 190,-76.5\"/>\n",
       "<polygon fill=\"none\" stroke=\"black\" points=\"190,-70.5 190,-76.5 196,-76.5 196,-70.5 190,-70.5\"/>\n",
       "<polygon fill=\"none\" stroke=\"black\" points=\"196,-58.5 196,-76.5 202,-76.5 202,-58.5 196,-58.5\"/>\n",
       "<polygon fill=\"none\" stroke=\"black\" points=\"190,-64.5 190,-70.5 196,-70.5 196,-64.5 190,-64.5\"/>\n",
       "<polygon fill=\"none\" stroke=\"black\" points=\"190,-58.5 190,-64.5 196,-64.5 196,-58.5 190,-58.5\"/>\n",
       "</g>\n",
       "<!-- XGate&#45;&gt;Join -->\n",
       "<g id=\"edge6\" class=\"edge\">\n",
       "<title>XGate:e-&gt;Join:w</title>\n",
       "<path fill=\"none\" stroke=\"black\" d=\"M153,-67.5C168.42,-67.5 172.99,-67.5 187.06,-67.5\"/>\n",
       "<ellipse fill=\"black\" stroke=\"black\" cx=\"188.5\" cy=\"-67.5\" rx=\"1\" ry=\"1\"/>\n",
       "<text text-anchor=\"middle\" x=\"171.5\" y=\"-69.25\" font-family=\"Times,serif\" font-size=\"10.00\">1</text>\n",
       "</g>\n",
       "<!-- XGate_G0 -->\n",
       "<g id=\"node3\" class=\"node\">\n",
       "<title>XGate_G0</title>\n",
       "<polygon fill=\"none\" stroke=\"black\" points=\"140,-22 140,-39 153,-39 153,-22 140,-22\"/>\n",
       "<text text-anchor=\"start\" x=\"142.75\" y=\"-26.5\" font-family=\"Times,serif\" font-size=\"10.00\">X</text>\n",
       "<polygon fill=\"none\" stroke=\"black\" points=\"140,0 140,-22 153,-22 153,0 140,0\"/>\n",
       "<text text-anchor=\"start\" x=\"143.12\" y=\"-5.7\" font-family=\"Times,serif\" font-size=\"14.00\">q</text>\n",
       "</g>\n",
       "<!-- XGate_G0&#45;&gt;Join -->\n",
       "<g id=\"edge7\" class=\"edge\">\n",
       "<title>XGate_G0:e-&gt;Join:w</title>\n",
       "<path fill=\"none\" stroke=\"black\" d=\"M153,-10.5C180.02,-10.5 163.27,-57.98 187.22,-61.32\"/>\n",
       "<ellipse fill=\"black\" stroke=\"black\" cx=\"188.5\" cy=\"-61.4\" rx=\"1\" ry=\"1\"/>\n",
       "<text text-anchor=\"middle\" x=\"171.5\" y=\"-40.25\" font-family=\"Times,serif\" font-size=\"10.00\">1</text>\n",
       "</g>\n",
       "<!-- Split&#45;&gt;XGate -->\n",
       "<g id=\"edge3\" class=\"edge\">\n",
       "<title>Split:e-&gt;XGate:w</title>\n",
       "<path fill=\"none\" stroke=\"black\" d=\"M103,-67.5C118.42,-67.5 122.99,-67.5 137.06,-67.5\"/>\n",
       "<ellipse fill=\"black\" stroke=\"black\" cx=\"138.5\" cy=\"-67.5\" rx=\"1\" ry=\"1\"/>\n",
       "<text text-anchor=\"middle\" x=\"121.5\" y=\"-69.25\" font-family=\"Times,serif\" font-size=\"10.00\">1</text>\n",
       "</g>\n",
       "<!-- Split&#45;&gt;XGate_G0 -->\n",
       "<g id=\"edge4\" class=\"edge\">\n",
       "<title>Split:e-&gt;XGate_G0:w</title>\n",
       "<path fill=\"none\" stroke=\"black\" d=\"M103,-61.5C130.02,-61.5 113.27,-14.02 137.22,-10.68\"/>\n",
       "<ellipse fill=\"black\" stroke=\"black\" cx=\"138.5\" cy=\"-10.6\" rx=\"1\" ry=\"1\"/>\n",
       "<text text-anchor=\"middle\" x=\"121.5\" y=\"-40.25\" font-family=\"Times,serif\" font-size=\"10.00\">1</text>\n",
       "</g>\n",
       "<!-- XGate_G3 -->\n",
       "<g id=\"node6\" class=\"node\">\n",
       "<title>XGate_G3</title>\n",
       "<polygon fill=\"none\" stroke=\"black\" points=\"140,-136 140,-153 153,-153 153,-136 140,-136\"/>\n",
       "<text text-anchor=\"start\" x=\"142.75\" y=\"-140.5\" font-family=\"Times,serif\" font-size=\"10.00\">X</text>\n",
       "<polygon fill=\"none\" stroke=\"black\" points=\"140,-114 140,-136 153,-136 153,-114 140,-114\"/>\n",
       "<text text-anchor=\"start\" x=\"143.12\" y=\"-119.7\" font-family=\"Times,serif\" font-size=\"14.00\">q</text>\n",
       "</g>\n",
       "<!-- Split&#45;&gt;XGate_G3 -->\n",
       "<g id=\"edge2\" class=\"edge\">\n",
       "<title>Split:e-&gt;XGate_G3:w</title>\n",
       "<path fill=\"none\" stroke=\"black\" d=\"M103,-73.5C130.02,-73.5 113.27,-120.98 137.22,-124.32\"/>\n",
       "<ellipse fill=\"black\" stroke=\"black\" cx=\"138.5\" cy=\"-124.4\" rx=\"1\" ry=\"1\"/>\n",
       "<text text-anchor=\"middle\" x=\"121.5\" y=\"-102.25\" font-family=\"Times,serif\" font-size=\"10.00\">1</text>\n",
       "</g>\n",
       "<!-- x_G14 -->\n",
       "<g id=\"node7\" class=\"node\">\n",
       "<title>x_G14</title>\n",
       "<text text-anchor=\"middle\" x=\"266\" y=\"-62.45\" font-family=\"Times,serif\" font-size=\"14.00\">x</text>\n",
       "</g>\n",
       "<!-- Join&#45;&gt;x_G14 -->\n",
       "<g id=\"edge8\" class=\"edge\">\n",
       "<title>Join:e-&gt;x_G14:w</title>\n",
       "<path fill=\"none\" stroke=\"black\" d=\"M202,-67.5C217.42,-67.5 221.99,-67.5 236.06,-67.5\"/>\n",
       "<ellipse fill=\"black\" stroke=\"black\" cx=\"237.5\" cy=\"-67.5\" rx=\"1\" ry=\"1\"/>\n",
       "<text text-anchor=\"middle\" x=\"220.5\" y=\"-69.25\" font-family=\"Times,serif\" font-size=\"10.00\">3</text>\n",
       "</g>\n",
       "<!-- XGate_G3&#45;&gt;Join -->\n",
       "<g id=\"edge5\" class=\"edge\">\n",
       "<title>XGate_G3:e-&gt;Join:w</title>\n",
       "<path fill=\"none\" stroke=\"black\" d=\"M153,-124.5C180.02,-124.5 163.27,-77.02 187.22,-73.68\"/>\n",
       "<ellipse fill=\"black\" stroke=\"black\" cx=\"188.5\" cy=\"-73.6\" rx=\"1\" ry=\"1\"/>\n",
       "<text text-anchor=\"middle\" x=\"171.5\" y=\"-102.25\" font-family=\"Times,serif\" font-size=\"10.00\">1</text>\n",
       "</g>\n",
       "</g>\n",
       "</svg>"
      ],
      "text/plain": [
       "<IPython.core.display.SVG object>"
      ]
     },
     "metadata": {},
     "output_type": "display_data"
    }
   ],
   "source": [
    "from qualtran.bloqs.basic_gates import XGate\n",
    "\n",
    "dtype = QUInt(3)  # 3-bit integer for demonstration purposes\n",
    "\n",
    "# We'll use BloqBuilder directly. In the standard library this would\n",
    "# be the `build_composite_bloq` method on the `BitwiseNot` bloq class\n",
    "bb = BloqBuilder()\n",
    "x = bb.add_register_from_dtype('x', dtype)\n",
    "\n",
    "# First, we split up the bits using the `.split` helper method on BloqBuilder.\n",
    "# It returns a numpy array of quantum variables.\n",
    "x_bits = bb.split(x)\n",
    "\n",
    "# Then, we apply the XGate to each bit. Remember that each quantum variable\n",
    "# must be used exactly once, so the input bits are consumed by the XGate and\n",
    "# we get a new variable back that we store in our `x_bits` array.\n",
    "for i in range(len(x_bits)):\n",
    "    x_bits[i] = bb.add(XGate(), q=x_bits[i])\n",
    "\n",
    "# For users calling this bloq, we want the fact that we split up all the bits\n",
    "# to be an \"implementation detail\"; so we re-join our output bits back into\n",
    "# a 3-bit unsigned integer\n",
    "x = bb.join(x_bits, dtype=dtype)\n",
    "\n",
    "# Finish up and draw a diagram\n",
    "cbloq = bb.finalize(x=x)\n",
    "show_bloq(cbloq)"
   ]
  },
  {
   "cell_type": "markdown",
   "id": "a0c2d228-8f1e-4d7b-938e-4b59430aa27d",
   "metadata": {},
   "source": [
    "## Endianness\n",
    "\n",
    "The Qualtran data types use a big-endian bit convention. The most significant bit is at index 0."
   ]
  },
  {
   "cell_type": "code",
   "execution_count": 6,
   "id": "bbe875d9-7a15-488c-ad19-02cd0487765a",
   "metadata": {},
   "outputs": [
    {
     "data": {
      "text/plain": [
       "[0, 0, 1, 1, 0, 0, 0, 0]"
      ]
     },
     "execution_count": 6,
     "metadata": {},
     "output_type": "execute_result"
    }
   ],
   "source": [
    "QUInt(8).to_bits(x=0x30)"
   ]
  },
  {
   "cell_type": "markdown",
   "id": "08a9d5cd-ef4e-4695-b992-e8c7f777248a",
   "metadata": {},
   "source": [
    "## Casting and QAny\n",
    "\n",
    "In general, we can cast from one data type to another using the `Cast` bloq. The system will validate that the number of bits between the two data types match, but this operation must still be done with some care.\n",
    "\n",
    "When type checking is irrelevant, you can use the `QAny(n)` type to represent an arbitrary collection of qubits that doesn't necessarily encode anything. \n",
    "\n",
    "Below, we allocate individual qubits and then join them into a new quantum variable. Since there's no type information, the resulting variable will have the `QAny(3)` type. We can declare that this should encode a `QUInt(3)` by using a `Cast`. (There's also a `dtype` argument to `bb.join`, which you would probably use in practice)."
   ]
  },
  {
   "cell_type": "code",
   "execution_count": 7,
   "id": "3ecf4057-9ea9-4854-8b66-d5b041a8cc49",
   "metadata": {},
   "outputs": [
    {
     "data": {
      "image/svg+xml": [
       "<svg xmlns=\"http://www.w3.org/2000/svg\" xmlns:xlink=\"http://www.w3.org/1999/xlink\" width=\"250pt\" height=\"161pt\" viewBox=\"0.00 0.00 250.00 161.00\">\n",
       "<g id=\"graph0\" class=\"graph\" transform=\"scale(1 1) rotate(0) translate(4 157)\">\n",
       "<title>my_graph</title>\n",
       "<polygon fill=\"white\" stroke=\"none\" points=\"-4,4 -4,-157 246,-157 246,4 -4,4\"/>\n",
       "<!-- ZeroState -->\n",
       "<g id=\"node1\" class=\"node\">\n",
       "<title>ZeroState</title>\n",
       "<polygon fill=\"none\" stroke=\"black\" points=\"0,-136 0,-153 19,-153 19,-136 0,-136\"/>\n",
       "<text text-anchor=\"start\" x=\"2.75\" y=\"-140.5\" font-family=\"Times,serif\" font-size=\"10.00\">|0&gt;</text>\n",
       "<polygon fill=\"none\" stroke=\"black\" points=\"0,-114 0,-136 6,-136 6,-114 0,-114\"/>\n",
       "<polygon fill=\"none\" stroke=\"black\" points=\"6,-114 6,-136 19,-136 19,-114 6,-114\"/>\n",
       "<text text-anchor=\"start\" x=\"9.12\" y=\"-119.7\" font-family=\"Times,serif\" font-size=\"14.00\">q</text>\n",
       "</g>\n",
       "<!-- Join -->\n",
       "<g id=\"node5\" class=\"node\">\n",
       "<title>Join</title>\n",
       "<polygon fill=\"none\" stroke=\"black\" points=\"56,-76.5 56,-82.5 68,-82.5 68,-76.5 56,-76.5\"/>\n",
       "<polygon fill=\"none\" stroke=\"black\" points=\"56,-70.5 56,-76.5 62,-76.5 62,-70.5 56,-70.5\"/>\n",
       "<polygon fill=\"none\" stroke=\"black\" points=\"62,-58.5 62,-76.5 68,-76.5 68,-58.5 62,-58.5\"/>\n",
       "<polygon fill=\"none\" stroke=\"black\" points=\"56,-64.5 56,-70.5 62,-70.5 62,-64.5 56,-64.5\"/>\n",
       "<polygon fill=\"none\" stroke=\"black\" points=\"56,-58.5 56,-64.5 62,-64.5 62,-58.5 56,-58.5\"/>\n",
       "</g>\n",
       "<!-- ZeroState&#45;&gt;Join -->\n",
       "<g id=\"edge1\" class=\"edge\">\n",
       "<title>ZeroState:e-&gt;Join:w</title>\n",
       "<path fill=\"none\" stroke=\"black\" d=\"M19,-124.5C46.02,-124.5 29.27,-77.02 53.22,-73.68\"/>\n",
       "<ellipse fill=\"black\" stroke=\"black\" cx=\"54.5\" cy=\"-73.6\" rx=\"1\" ry=\"1\"/>\n",
       "<text text-anchor=\"middle\" x=\"37.5\" y=\"-102.25\" font-family=\"Times,serif\" font-size=\"10.00\">1</text>\n",
       "</g>\n",
       "<!-- ZeroState_G0 -->\n",
       "<g id=\"node2\" class=\"node\">\n",
       "<title>ZeroState_G0</title>\n",
       "<polygon fill=\"none\" stroke=\"black\" points=\"0,-79 0,-96 19,-96 19,-79 0,-79\"/>\n",
       "<text text-anchor=\"start\" x=\"2.75\" y=\"-83.5\" font-family=\"Times,serif\" font-size=\"10.00\">|0&gt;</text>\n",
       "<polygon fill=\"none\" stroke=\"black\" points=\"0,-57 0,-79 6,-79 6,-57 0,-57\"/>\n",
       "<polygon fill=\"none\" stroke=\"black\" points=\"6,-57 6,-79 19,-79 19,-57 6,-57\"/>\n",
       "<text text-anchor=\"start\" x=\"9.12\" y=\"-62.7\" font-family=\"Times,serif\" font-size=\"14.00\">q</text>\n",
       "</g>\n",
       "<!-- ZeroState_G0&#45;&gt;Join -->\n",
       "<g id=\"edge2\" class=\"edge\">\n",
       "<title>ZeroState_G0:e-&gt;Join:w</title>\n",
       "<path fill=\"none\" stroke=\"black\" d=\"M19,-67.5C34.42,-67.5 38.99,-67.5 53.06,-67.5\"/>\n",
       "<ellipse fill=\"black\" stroke=\"black\" cx=\"54.5\" cy=\"-67.5\" rx=\"1\" ry=\"1\"/>\n",
       "<text text-anchor=\"middle\" x=\"37.5\" y=\"-69.25\" font-family=\"Times,serif\" font-size=\"10.00\">1</text>\n",
       "</g>\n",
       "<!-- ZeroState_G2 -->\n",
       "<g id=\"node3\" class=\"node\">\n",
       "<title>ZeroState_G2</title>\n",
       "<polygon fill=\"none\" stroke=\"black\" points=\"0,-22 0,-39 19,-39 19,-22 0,-22\"/>\n",
       "<text text-anchor=\"start\" x=\"2.75\" y=\"-26.5\" font-family=\"Times,serif\" font-size=\"10.00\">|0&gt;</text>\n",
       "<polygon fill=\"none\" stroke=\"black\" points=\"0,0 0,-22 6,-22 6,0 0,0\"/>\n",
       "<polygon fill=\"none\" stroke=\"black\" points=\"6,0 6,-22 19,-22 19,0 6,0\"/>\n",
       "<text text-anchor=\"start\" x=\"9.12\" y=\"-5.7\" font-family=\"Times,serif\" font-size=\"14.00\">q</text>\n",
       "</g>\n",
       "<!-- ZeroState_G2&#45;&gt;Join -->\n",
       "<g id=\"edge3\" class=\"edge\">\n",
       "<title>ZeroState_G2:e-&gt;Join:w</title>\n",
       "<path fill=\"none\" stroke=\"black\" d=\"M19,-10.5C46.02,-10.5 29.27,-57.98 53.22,-61.32\"/>\n",
       "<ellipse fill=\"black\" stroke=\"black\" cx=\"54.5\" cy=\"-61.4\" rx=\"1\" ry=\"1\"/>\n",
       "<text text-anchor=\"middle\" x=\"37.5\" y=\"-39.25\" font-family=\"Times,serif\" font-size=\"10.00\">1</text>\n",
       "</g>\n",
       "<!-- Cast -->\n",
       "<g id=\"node4\" class=\"node\">\n",
       "<title>Cast</title>\n",
       "<polygon fill=\"none\" stroke=\"black\" points=\"105,-79 105,-96 151,-96 151,-79 105,-79\"/>\n",
       "<text text-anchor=\"start\" x=\"119\" y=\"-83.5\" font-family=\"Times,serif\" font-size=\"10.00\">Cast</text>\n",
       "<polygon fill=\"none\" stroke=\"black\" points=\"105,-57 105,-79 128,-79 128,-57 105,-57\"/>\n",
       "<text text-anchor=\"start\" x=\"107.88\" y=\"-62.7\" font-family=\"Times,serif\" font-size=\"14.00\">reg</text>\n",
       "<polygon fill=\"none\" stroke=\"black\" points=\"128,-57 128,-79 151,-79 151,-57 128,-57\"/>\n",
       "<text text-anchor=\"start\" x=\"130.88\" y=\"-62.7\" font-family=\"Times,serif\" font-size=\"14.00\">reg</text>\n",
       "</g>\n",
       "<!-- x -->\n",
       "<g id=\"node6\" class=\"node\">\n",
       "<title>x</title>\n",
       "<text text-anchor=\"middle\" x=\"215\" y=\"-62.45\" font-family=\"Times,serif\" font-size=\"14.00\">x</text>\n",
       "</g>\n",
       "<!-- Cast&#45;&gt;x -->\n",
       "<g id=\"edge5\" class=\"edge\">\n",
       "<title>Cast:e-&gt;x:w</title>\n",
       "<path fill=\"none\" stroke=\"black\" d=\"M151,-67.5C166.42,-67.5 170.99,-67.5 185.06,-67.5\"/>\n",
       "<ellipse fill=\"black\" stroke=\"black\" cx=\"186.5\" cy=\"-67.5\" rx=\"1\" ry=\"1\"/>\n",
       "<text text-anchor=\"middle\" x=\"169.5\" y=\"-69.25\" font-family=\"Times,serif\" font-size=\"10.00\">3</text>\n",
       "</g>\n",
       "<!-- Join&#45;&gt;Cast -->\n",
       "<g id=\"edge4\" class=\"edge\">\n",
       "<title>Join:e-&gt;Cast:w</title>\n",
       "<path fill=\"none\" stroke=\"black\" d=\"M68,-67.5C83.42,-67.5 87.99,-67.5 102.06,-67.5\"/>\n",
       "<ellipse fill=\"black\" stroke=\"black\" cx=\"103.5\" cy=\"-67.5\" rx=\"1\" ry=\"1\"/>\n",
       "<text text-anchor=\"middle\" x=\"86.5\" y=\"-69.25\" font-family=\"Times,serif\" font-size=\"10.00\">3</text>\n",
       "</g>\n",
       "</g>\n",
       "</svg>"
      ],
      "text/plain": [
       "<IPython.core.display.SVG object>"
      ]
     },
     "metadata": {},
     "output_type": "display_data"
    }
   ],
   "source": [
    "bb = BloqBuilder()\n",
    "\n",
    "# Make three |0> qubits\n",
    "qs = [bb.add(ZeroState()) for _ in range(3)]\n",
    "\n",
    "# Join them into one quantum variable. Since\n",
    "# we don't specify a type, `x` is `QAny(3)`. \n",
    "x = bb.join(qs)\n",
    "\n",
    "# Maybe we're trying to allocate an unsigned integer.\n",
    "from qualtran.bloqs.bookkeeping import Cast\n",
    "from qualtran import QAny\n",
    "x = bb.add(Cast(inp_dtype=QAny(3), out_dtype=QUInt(3)), reg=x)\n",
    "\n",
    "cbloq = bb.finalize(x=x)\n",
    "show_bloq(cbloq)"
   ]
  },
  {
   "cell_type": "markdown",
   "id": "e6987d5b-1465-47dd-894e-f966cadb868f",
   "metadata": {},
   "source": [
    "## Type checking\n",
    "\n",
    "When wiring up bloqs, the data types must be compatible. \n",
    "\n",
    " - When the two data types are the same, they are always compatible\n",
    " - All single-qubit data types are compatible\n",
    "\n",
    "The consistency checking functions accept a severity parameter. If it is set to `STRICT`, then nothing outside of the above two rules are compatible. If it is set to `LOOSE` (the default), the following pairs are also compatible:\n",
    "\n",
    " - `QAny` is compatible with any other data type if its number of qubits match\n",
    " - Integer types are mutually compatible if the number of qubits match\n",
    " - An unsigned `QFxp` fixed-point with only an integer part is compatible with integer types."
   ]
  },
  {
   "cell_type": "code",
   "execution_count": 8,
   "id": "9f4e4a13-e112-4b7e-95e1-6fee0168d989",
   "metadata": {},
   "outputs": [
    {
     "name": "stdout",
     "output_type": "stream",
     "text": [
      "same   True\n",
      "1bit   True\n",
      "qany   True False\n",
      "qint   True False\n",
      "diff   False\n"
     ]
    }
   ],
   "source": [
    "from qualtran import QDTypeCheckingSeverity, check_dtypes_consistent\n",
    "\n",
    "print('same  ', check_dtypes_consistent(QUInt(3), QUInt(3)))\n",
    "print('1bit  ', check_dtypes_consistent(QBit(), QAny(1)))\n",
    "print('qany  ',\n",
    "    check_dtypes_consistent(QAny(3), QUInt(3)),\n",
    "    check_dtypes_consistent(QAny(3), QUInt(3), QDTypeCheckingSeverity.STRICT)\n",
    ")\n",
    "from qualtran import QInt\n",
    "print('qint  ', \n",
    "    check_dtypes_consistent(QUInt(3), QInt(3)),\n",
    "    check_dtypes_consistent(QUInt(3), QInt(3), QDTypeCheckingSeverity.STRICT)\n",
    ")\n",
    "print('diff  ', check_dtypes_consistent(QAny(3), QAny(4)))"
   ]
  },
  {
   "cell_type": "markdown",
   "id": "a27b83f4-44e4-4b53-a878-ecce6a100675",
   "metadata": {},
   "source": [
    "## `QDType`, `CDType`, and `QCDType`\n",
    "\n",
    "Quantum variables are essential when authoring quantum programs, but we live in a classical world. Measuring a qubit yields a classical bit, and a program can do classical branching (choosing which quantum operations to execute based on a classical bit). Each data type we've seen so far is a quantum data type and inherits from `QDType`. There is a more general base class: `QCDType` that includes both quantum and classical data types. Classical data types inherit from `CDType`"
   ]
  },
  {
   "cell_type": "code",
   "execution_count": 9,
   "id": "25191c43-18d1-49fd-9a76-363cc3b7548c",
   "metadata": {},
   "outputs": [],
   "source": [
    "# Make a list of all the built-in data types\n",
    "import qualtran.dtype as qdt\n",
    "\n",
    "dtypes = [\n",
    "    qdt.QBit(), qdt.CBit(),\n",
    "    qdt.QAny(8),\n",
    "    qdt.QInt(8), qdt.CInt(8),\n",
    "    qdt.QIntOnesComp(8), qdt.CIntOnesComp(8),\n",
    "    qdt.QUInt(8), qdt.CUInt(8),\n",
    "    qdt.BQUInt(8, 230), qdt.BCUInt(8, 230),\n",
    "    qdt.QFxp(8, 2), qdt.CFxp(8, 2)\n",
    "]"
   ]
  },
  {
   "cell_type": "markdown",
   "id": "701ebb85-8e44-4456-95da-ef2ead979c5f",
   "metadata": {},
   "source": [
    "### Table of data type properties"
   ]
  },
  {
   "cell_type": "code",
   "execution_count": 10,
   "id": "7c38eb9b-60d5-4d0c-b282-19f2638bc483",
   "metadata": {},
   "outputs": [
    {
     "name": "stdout",
     "output_type": "stream",
     "text": [
      "dtype           QCDType?  QDType?   CDType?     bits qubits  cbits\n",
      "--------------------------------------------------------------------------------\n",
      "QBit()          True      True      False         1      1      0\n",
      "CBit()          True      False     True          1      0      1\n",
      "QAny(8)         True      True      False         8      8      0\n",
      "QInt(8)         True      True      False         8      8      0\n",
      "CInt(8)         True      False     True          8      0      8\n",
      "QIntOnesComp(8) True      True      False         8      8      0\n",
      "CIntOnesComp(8) True      False     True          8      0      8\n",
      "QUInt(8)        True      True      False         8      8      0\n",
      "CUInt(8)        True      False     True          8      0      8\n",
      "BQUInt(8, 230)  True      True      False         8      8      0\n",
      "BCUInt(8, 230)  True      False     True          8      0      8\n",
      "QFxp(8, 2)      True      True      False         8      8      0\n",
      "CFxp(8, 2)      True      True      False         8      8      0\n"
     ]
    }
   ],
   "source": [
    "print(f\"{'dtype':15} {'QCDType?':9s} \"\n",
    "      f\"{'QDType?':9s} {'CDType?':9s} \"\n",
    "      f\"{'bits':>6s} {'qubits':>6s} {'cbits':>6s}\")\n",
    "print(\"-\"*80)\n",
    "for dtype in dtypes:\n",
    "    print(f\"{dtype!s:15} {isinstance(dtype, qdt.QCDType)!s:9} \"\n",
    "          f\"{isinstance(dtype, qdt.QDType)!s:9} {isinstance(dtype, qdt.CDType)!s:9}\"\n",
    "          f\"{dtype.num_bits:6d} {dtype.num_qubits:6d} {dtype.num_cbits:6d}\")"
   ]
  },
  {
   "cell_type": "markdown",
   "id": "c2089b62-36ce-4c90-b794-4e5e8338de47",
   "metadata": {},
   "source": [
    "### Table of data type encoding examples"
   ]
  },
  {
   "cell_type": "code",
   "execution_count": 11,
   "id": "dd0c1fd9-94d3-45fd-8766-c18615fc5123",
   "metadata": {},
   "outputs": [
    {
     "name": "stdout",
     "output_type": "stream",
     "text": [
      "dtype              val  encoding\n",
      "------------------------------------------------------------\n",
      "QBit()               0  0\n",
      "                     1  1\n",
      "CBit()               0  0\n",
      "                     1  1\n",
      "QAny(8)                 [opaque encoding]\n",
      "QInt(8)           -128  1,0,0,0,0,0,0,0\n",
      "                   127  0,1,1,1,1,1,1,1\n",
      "CInt(8)           -128  1,0,0,0,0,0,0,0\n",
      "                   127  0,1,1,1,1,1,1,1\n",
      "QIntOnesComp(8)   -127  1,0,0,0,0,0,0,0\n",
      "                   127  0,1,1,1,1,1,1,1\n",
      "CIntOnesComp(8)   -127  1,0,0,0,0,0,0,0\n",
      "                   127  0,1,1,1,1,1,1,1\n",
      "QUInt(8)             0  0,0,0,0,0,0,0,0\n",
      "                   255  1,1,1,1,1,1,1,1\n",
      "CUInt(8)             0  0,0,0,0,0,0,0,0\n",
      "                   255  1,1,1,1,1,1,1,1\n",
      "BQUInt(8, 230)       0  0,0,0,0,0,0,0,0\n",
      "                   229  1,1,1,0,0,1,0,1\n",
      "BCUInt(8, 230)       0  0,0,0,0,0,0,0,0\n",
      "                   229  1,1,1,0,0,1,0,1\n",
      "QFxp(8, 2)           0  0,0,0,0,0,0,0,0\n",
      "                   255  1,1,1,1,1,1,1,1\n",
      "CFxp(8, 2)           0  0,0,0,0,0,0,0,0\n",
      "                   255  1,1,1,1,1,1,1,1\n"
     ]
    }
   ],
   "source": [
    "print(f\"{'dtype':15} {'val':>6s}  \"\n",
    "      f\"{'encoding':s}\")\n",
    "print(\"-\"*60)\n",
    "for dtype in dtypes:\n",
    "    if isinstance(dtype, QAny):\n",
    "        print(f\"{dtype!s:15} {'':6s}  [opaque encoding]\")\n",
    "        continue\n",
    "    vals = list(dtype.get_classical_domain())\n",
    "\n",
    "    val = vals[0] # take the minimum\n",
    "    val_bits = dtype.to_bits(val)\n",
    "    val_bits_str = ','.join(str(bit) for bit in val_bits)\n",
    "    print(f\"{dtype!s:15} {val!s:>6}  {val_bits_str}\")\n",
    "\n",
    "    val = vals[-1] # take the maximum\n",
    "    val_bits = dtype.to_bits(val)\n",
    "    val_bits_str = ','.join(str(bit) for bit in val_bits)\n",
    "    print(f\"{'':15} {val!s:>6}  {val_bits_str}\")"
   ]
  },
  {
   "cell_type": "markdown",
   "id": "a40933a4-1656-4a5a-b352-a09daf626518",
   "metadata": {},
   "source": [
    "## Adding a new type\n",
    "\n",
    "You can add custom types by implementing the `_BitEncoding` interface and defining a light-weight `QDType` and/or `CDType`.\n",
    "\n",
    " 1. Define a class that implements the `BitEncoding[T]` abstract interface. the generic `T` should be the type of the analogous Python classical type. For example, `_Int` inherits from `BitEncoding[int]` and defines methods `to_bits`, `from_bits`, etc.\n",
    " 2. Define a _quantum_ data type class that inherits from the `QDType[T]` base class.  Override the abstract property `_bit_encoding` to return an instance of the bit encoding class you defined before. For example, `QInt` inherits from `QDType[int]` and its `_bit_encoding` property returns `_Int(self.bitsize)`. \n",
    " 3. Perform an analogous step to deinfe a _classical_ data type class that inherits from `CDType[T]` (but returns the same `BitEncoding` implementation). For example, `CInt` inherits from `CDType[int]` and its `_bit_encoding` property returns `_Int(self.bitsize)`. "
   ]
  }
 ],
 "metadata": {
  "kernelspec": {
   "display_name": "Python 3 (ipykernel)",
   "language": "python",
   "name": "python3"
  },
  "language_info": {
   "codemirror_mode": {
    "name": "ipython",
    "version": 3
   },
   "file_extension": ".py",
   "mimetype": "text/x-python",
   "name": "python",
   "nbconvert_exporter": "python",
   "pygments_lexer": "ipython3",
   "version": "3.11.8"
  }
 },
 "nbformat": 4,
 "nbformat_minor": 5
}
