{
 "cells": [
  {
   "cell_type": "markdown",
   "id": "eb6226ee",
   "metadata": {},
   "source": [
    "# Cirq Interoperability\n",
    "\n",
    "Cirq is a quantum SDK for explicitly addressing physical qubits and scheduling gates. You can consider it analogous to a quantum assembly language. Qualtran provides interoperability with Cirq."
   ]
  },
  {
   "cell_type": "code",
   "execution_count": null,
   "id": "a2aee820",
   "metadata": {},
   "outputs": [],
   "source": [
    "import cirq\n",
    "from cirq.contrib.svg import SVGCircuit\n",
    "\n",
    "from qualtran import Bloq, CompositeBloq, BloqBuilder, Signature\n",
    "from qualtran.drawing import show_bloq"
   ]
  },
  {
   "cell_type": "markdown",
   "id": "1e14d29e",
   "metadata": {},
   "source": [
    "## Using Cirq gates from Bloqs\n",
    "\n",
    " - `CirqGateAsBloq(gate)` lets you use any Cirq gate in your composite bloqs.\n",
    " - `CompositeBloq.from_cirq_circuit(circuit)` lets you turn any Cirq circuit into an equivalent `CompositeBloq`. Each subbloq will be a `CirqGateAsBloq` wrapper."
   ]
  },
  {
   "cell_type": "markdown",
   "id": "5dd2cc96",
   "metadata": {},
   "source": [
    "### `CirqGateAsBloq`\n",
    "\n",
    "This wrapper uses the Cirq \"calling convention\" of one thru-register composted of a 1d array of qubits."
   ]
  },
  {
   "cell_type": "code",
   "execution_count": null,
   "id": "02cb4281",
   "metadata": {},
   "outputs": [],
   "source": [
    "from qualtran.cirq_interop import CirqGateAsBloq\n",
    "\n",
    "cgab = CirqGateAsBloq(cirq.QuantumFourierTransformGate(num_qubits=5))\n",
    "print(cgab)\n",
    "for reg in cgab.signature:\n",
    "    print(' ', reg)"
   ]
  },
  {
   "cell_type": "code",
   "execution_count": null,
   "id": "8ba385b0",
   "metadata": {},
   "outputs": [],
   "source": [
    "show_bloq(cgab)"
   ]
  },
  {
   "cell_type": "markdown",
   "id": "847b01e7",
   "metadata": {},
   "source": [
    "### `CompositeBloq.from_cirq_circuit`\n",
    "\n",
    "A Cirq circuit can be converted to a composite bloq by wrapping each operation with the `CirqGateAsBloq` wrapper. "
   ]
  },
  {
   "cell_type": "code",
   "execution_count": null,
   "id": "3fa0b8e9",
   "metadata": {},
   "outputs": [],
   "source": [
    "# Make a random cirq circuit\n",
    "qubits = cirq.LineQubit.range(4)\n",
    "circuit = cirq.testing.random_circuit(qubits, n_moments=5, op_density=1.0, random_state=52)\n",
    "\n",
    "# Convert to CompositeBloq\n",
    "cbloq = CompositeBloq.from_cirq_circuit(circuit)\n",
    "display(SVGCircuit(circuit))\n",
    "show_bloq(cbloq)"
   ]
  },
  {
   "cell_type": "markdown",
   "id": "5d9997f4",
   "metadata": {},
   "source": [
    "### Unitaries\n",
    "\n",
    "Both containers support numerical contraction to a dense unitary matrix. Cirq contracts operations in order. Bloqs use `quimb` to find a good contraction ordering and perform the contraction. "
   ]
  },
  {
   "cell_type": "code",
   "execution_count": null,
   "id": "85a40f2a",
   "metadata": {},
   "outputs": [],
   "source": [
    "import numpy as np\n",
    "\n",
    "bloq_unitary = cbloq.tensor_contract()\n",
    "cirq_unitary = circuit.unitary(qubits)\n",
    "np.testing.assert_allclose(cirq_unitary, bloq_unitary, atol=1e-8)"
   ]
  },
  {
   "cell_type": "markdown",
   "id": "2fe60767",
   "metadata": {},
   "source": [
    "### Back to `cirq.Circuit`"
   ]
  },
  {
   "cell_type": "code",
   "execution_count": null,
   "id": "97be35a3",
   "metadata": {},
   "outputs": [],
   "source": [
    "# Note: a 1d `shape` bloq register is actually two-dimensional in cirq conversion\n",
    "# because of the implicit `bitsize` dimension (which must be explicit during cirq conversion).\n",
    "# CirqGateAsBloq has registers of bitsize=1 and shape=(n,); hence the list transpose below.\n",
    "circuit2, _ = cbloq.to_cirq_circuit(qubits=[[q] for q in qubits], qubit_manager=cirq.ops.SimpleQubitManager())\n",
    "SVGCircuit(circuit2)"
   ]
  },
  {
   "cell_type": "code",
   "execution_count": null,
   "id": "f95dbe1d",
   "metadata": {},
   "outputs": [],
   "source": [
    "# We lose the moment structure during the roundtrip.\n",
    "circuit == circuit2"
   ]
  },
  {
   "cell_type": "code",
   "execution_count": null,
   "id": "ce93a502",
   "metadata": {},
   "outputs": [],
   "source": [
    "# But the left-aligned `circuit` is recovered.\n",
    "cirq.Circuit(circuit.all_operations()) == circuit2"
   ]
  },
  {
   "cell_type": "markdown",
   "id": "115b1c2f-001c-4c03-aefa-150373800184",
   "metadata": {},
   "source": [
    "# Importing Cirq-FT algorithms to Bloqs\n",
    "`CirqGateAsBloq` also supports wrapping Cirq-FT's `GateWithRegisters` objects. As an example, we show how you can directly import `SELECT` and `PREPARE` primitives for the 2D Hubbard model from Cirq-FT into Bloqs. "
   ]
  },
  {
   "cell_type": "code",
   "execution_count": null,
   "id": "ee1f5334-da8c-40d8-9b6f-55b7f0183d30",
   "metadata": {},
   "outputs": [],
   "source": [
    "import cirq_ft\n",
    "from cirq_ft.algos.hubbard_model import SelectHubbard, PrepareHubbard\n",
    "import cirq_ft.infra.testing as cq_testing\n",
    "x_dim, y_dim, t = 2, 2, 5\n",
    "mu = 4 * t\n",
    "# SELECT and PREPARE for 2D Hubbard Model\n",
    "prepare = cq_testing.GateHelper(PrepareHubbard(x_dim=x_dim, y_dim=x_dim, t=t, mu=mu))\n",
    "select = cq_testing.GateHelper(SelectHubbard(x_dim=x_dim, y_dim=y_dim, control_val=1))"
   ]
  },
  {
   "cell_type": "code",
   "execution_count": null,
   "id": "1a591511-54dd-4040-8328-ff01eb62782d",
   "metadata": {},
   "outputs": [],
   "source": [
    "from qualtran.drawing.musical_score import get_musical_score_data, draw_musical_score\n",
    "print(cirq.Circuit(cirq.decompose_once(select.operation)))\n",
    "bloq = CirqGateAsBloq(select.gate)\n",
    "fig, ax = draw_musical_score(get_musical_score_data(bloq.decompose_bloq()))\n",
    "fig.set_size_inches(30, 12)\n",
    "assert bloq.t_complexity() == cirq_ft.t_complexity(select.gate)"
   ]
  },
  {
   "cell_type": "code",
   "execution_count": null,
   "id": "a6170e55-94a9-43f2-8503-e9a8e2d0f193",
   "metadata": {},
   "outputs": [],
   "source": [
    "print(cirq.Circuit(cirq.decompose_once(prepare.operation)))\n",
    "bloq = CirqGateAsBloq(prepare.gate)\n",
    "fig, ax = draw_musical_score(get_musical_score_data(bloq.decompose_bloq()))\n",
    "fig.set_size_inches(30, 12)\n",
    "assert bloq.t_complexity() == cirq_ft.t_complexity(prepare.gate)"
   ]
  },
  {
   "cell_type": "markdown",
   "id": "5065f197-f9f9-4fd2-a3a5-abfd82e3e387",
   "metadata": {},
   "source": [
    "Another example as follows is to import the data loading oracle QROM from Cirq-FT into Qualtran by wrapping it into a `CirqGateAsBloq`."
   ]
  },
  {
   "cell_type": "code",
   "execution_count": null,
   "id": "ba083d2c-c0b2-4fec-ab61-2cae21676169",
   "metadata": {},
   "outputs": [],
   "source": [
    "cirq_qrom = cirq_ft.QROM.build([10, 20, 30], num_controls=1)\n",
    "bloq = CirqGateAsBloq(cirq_qrom)\n",
    "cbloq = bloq.decompose_bloq()\n",
    "show_bloq(cbloq)\n",
    "fig, ax = draw_musical_score(get_musical_score_data(cbloq))\n",
    "fig.set_size_inches(16, 5)"
   ]
  },
  {
   "cell_type": "markdown",
   "id": "03f03231",
   "metadata": {},
   "source": [
    "## Converting Bloqs to Cirq objects\n",
    "\n",
    " - `Bloq.as_cirq_op` is an overridable method to declare what cirq operation corresponds to a bloq.\n",
    " - `CompositeBloq.to_cirq_circuit` will export a CompositeBloq to a cirq circuit.\n",
    " - `BloqAsCirqGate` provides a shim for using bloqs in cirq circuits automatically."
   ]
  },
  {
   "cell_type": "markdown",
   "id": "6efb079b",
   "metadata": {},
   "source": [
    "### `as_cirq_op` \n",
    "\n",
    "Bloqs can override `as_cirq_op` to optionally declare their corresponding Cirq operation. For example, the `SwapTwoBits` bloqs from the tutorial corresponds to `cirq.SWAP`.\n",
    "\n",
    "The bloqs infrastructure will call `as_cirq_op` with keyword arguments mapping register names to `np.ndarray`s of `cirq.Qid` whose shape is `reg.shape + (reg.bitsize,)`. The type alias `CirqQuregT` is provided for convenience.\n",
    "\n",
    "The method must return both the Cirq operation as well as a mapping from right register names to arrays of output `cirq.Qid`. This is to permit the use of `cirq_ft.infra.qubit_manager` allocation facilities."
   ]
  },
  {
   "cell_type": "code",
   "execution_count": null,
   "id": "9aa00801",
   "metadata": {},
   "outputs": [],
   "source": [
    "import attrs\n",
    "from typing import *\n",
    "\n",
    "from qualtran.cirq_interop import CirqQuregT\n",
    "\n",
    "@attrs.frozen\n",
    "class SwapTwoBits(Bloq):\n",
    "    @property\n",
    "    def signature(self):\n",
    "        return Signature.build(x=1, y=1)\n",
    "    \n",
    "    def as_cirq_op(\n",
    "            self, qubit_manager, x: CirqQuregT, y: CirqQuregT\n",
    "    ) -> Tuple[cirq.Operation, Dict[str, CirqQuregT]]:\n",
    "        x, = x  # each is an array of length one\n",
    "        y, = y\n",
    "        op = cirq.SWAP(x, y)\n",
    "        out_quregs = {'x': [x], 'y': [y]}\n",
    "        return op, out_quregs"
   ]
  },
  {
   "cell_type": "code",
   "execution_count": null,
   "id": "78dd903f",
   "metadata": {},
   "outputs": [],
   "source": [
    "circuit, out_quregs = SwapTwoBits().as_composite_bloq()\\\n",
    "    .to_cirq_circuit(x=[cirq.NamedQubit('q1')], y=[cirq.NamedQubit('q2')])\n",
    "SVGCircuit(circuit)"
   ]
  },
  {
   "cell_type": "markdown",
   "id": "ca594c53",
   "metadata": {},
   "source": [
    "### `CompositeBloq.to_cirq_circuit`\n",
    "\n",
    "A composite bloq can be turned into a circuit composed of the result of `as_cirq_op` for each of the subbloqs.\n",
    "\n",
    "A bloq's `Signature` has a helper method to instantiate Cirq qubits in the correct form for input to the function."
   ]
  },
  {
   "cell_type": "code",
   "execution_count": null,
   "id": "569218e8",
   "metadata": {},
   "outputs": [],
   "source": [
    "SwapTwoBits().signature.get_cirq_quregs()"
   ]
  },
  {
   "cell_type": "code",
   "execution_count": null,
   "id": "9a06155b",
   "metadata": {},
   "outputs": [],
   "source": [
    "# Build a simple composite bloq\n",
    "bb = BloqBuilder()\n",
    "x = bb.add_register('x', 1)\n",
    "y = bb.add_register('y', 1)\n",
    "x, y = bb.add(SwapTwoBits(), x=x, y=y)\n",
    "x, y = bb.add(SwapTwoBits(), x=x, y=y)\n",
    "cbloq = bb.finalize(x=x, y=y)\n",
    "\n",
    "# Turn it into a cirq circuit\n",
    "quregs = cbloq.signature.get_cirq_quregs()\n",
    "circuit, _ = cbloq.to_cirq_circuit(**quregs)\n",
    "\n",
    "# Observe\n",
    "show_bloq(cbloq)\n",
    "display(SVGCircuit(circuit))"
   ]
  },
  {
   "cell_type": "markdown",
   "id": "01bf3b99",
   "metadata": {},
   "source": [
    "### `BloqAsCirqGate`\n",
    "\n",
    "The default behavior of `as_cirq_op` will shim the bloq into this object which lets you use a bloq in cirq circuits.\n",
    "\n",
    "Below, we reproduce the multi-bit swap from the tutorial. This time, we do not implement `as_cirq_op` ourselves. This is appropriate if there isn't an equivalent gate in Cirq, which is likely the case for high-level bloqs."
   ]
  },
  {
   "cell_type": "code",
   "execution_count": null,
   "id": "c36205ba",
   "metadata": {},
   "outputs": [],
   "source": [
    "@attrs.frozen\n",
    "class Swap(Bloq):\n",
    "    n: int\n",
    "\n",
    "    @property\n",
    "    def signature(self):\n",
    "        return Signature.build(x=self.n, y=self.n)\n",
    "\n",
    "    def build_composite_bloq(\n",
    "            self, bb: 'BloqBuilder', *, x: 'SoquetT', y: 'SoquetT'\n",
    "    ) -> Dict[str, 'SoquetT']:\n",
    "        xs = bb.split(x)\n",
    "        ys = bb.split(y)\n",
    "        for i in range(self.n):\n",
    "            xs[i], ys[i] = bb.add(SwapTwoBits(), x=xs[i], y=ys[i])\n",
    "        return {'x': bb.join(xs), 'y': bb.join(ys)}"
   ]
  },
  {
   "cell_type": "code",
   "execution_count": null,
   "id": "1824c829",
   "metadata": {},
   "outputs": [],
   "source": [
    "swap = Swap(n=5)\n",
    "show_bloq(swap)"
   ]
  },
  {
   "cell_type": "markdown",
   "id": "4eae1c53",
   "metadata": {},
   "source": [
    "Instead, we get a `BloqAsCirqGate` by default."
   ]
  },
  {
   "cell_type": "code",
   "execution_count": null,
   "id": "5e76fb54",
   "metadata": {},
   "outputs": [],
   "source": [
    "circuit, _ = swap.as_composite_bloq().to_cirq_circuit(\n",
    "    x=cirq.LineQubit.range(5), y=cirq.LineQubit.range(100,105))\n",
    "\n",
    "op = next(circuit.all_operations())\n",
    "op.gate"
   ]
  },
  {
   "cell_type": "markdown",
   "id": "d506ce16",
   "metadata": {},
   "source": [
    "This wrapper can delegate cirq `decompose` calls to bloq decomposition. If the bloqs in the decomposition have native `as_cirq_op` operations, then we successfully have a standard Cirq circuit."
   ]
  },
  {
   "cell_type": "code",
   "execution_count": null,
   "id": "ca5b5881",
   "metadata": {},
   "outputs": [],
   "source": [
    "swap_decomp_circuit = cirq.Circuit(cirq.decompose_once(op))\n",
    "print(repr(swap_decomp_circuit))"
   ]
  },
  {
   "cell_type": "code",
   "execution_count": null,
   "id": "3fd9ebd7",
   "metadata": {},
   "outputs": [],
   "source": [
    "import cirq_ft.infra.testing as cq_testing\n",
    "from cirq_ft.infra.jupyter_tools import display_gate_and_compilation\n",
    "\n",
    "g = cq_testing.GateHelper(op.gate)\n",
    "display_gate_and_compilation(g, include_costs=False)"
   ]
  },
  {
   "cell_type": "markdown",
   "id": "6b16c692",
   "metadata": {},
   "source": [
    "### Allocation and de-allocation\n",
    "\n",
    "Cirq conversion can allocate and deallocate qubits with the help of `cirq_ft.infra.qubit_manager` tools. As an example, we look at the `MultiAnd` bloq. Behind the scenes, this uses the default `BloqAsCirqGate` shim which will allocate the target and junk right-only registers automatically."
   ]
  },
  {
   "cell_type": "code",
   "execution_count": null,
   "id": "7b846fba",
   "metadata": {},
   "outputs": [],
   "source": [
    "from qualtran.bloqs.and_bloq import MultiAnd\n",
    "\n",
    "multi_and = MultiAnd(cvs=(1, 1, 1, 1))"
   ]
  },
  {
   "cell_type": "markdown",
   "id": "d266e6b8",
   "metadata": {},
   "source": [
    "Our input Cirq qubit registers include just the control qubits."
   ]
  },
  {
   "cell_type": "code",
   "execution_count": null,
   "id": "0f13f658",
   "metadata": {},
   "outputs": [],
   "source": [
    "cirq_quregs = multi_and.signature.get_cirq_quregs()\n",
    "cirq_quregs"
   ]
  },
  {
   "cell_type": "code",
   "execution_count": null,
   "id": "a956c712",
   "metadata": {},
   "outputs": [],
   "source": [
    "multi_and_circuit, out_quregs = multi_and.decompose_bloq().to_cirq_circuit(**cirq_quregs)\n",
    "SVGCircuit(multi_and_circuit)"
   ]
  },
  {
   "cell_type": "markdown",
   "id": "f99495e0",
   "metadata": {},
   "source": [
    "The second return value of `as_cirq_op` and `to_cirq_circuit` is the output cirq qubit registers that we can use to identify allocated qubits."
   ]
  },
  {
   "cell_type": "code",
   "execution_count": null,
   "id": "fb2890bd",
   "metadata": {},
   "outputs": [],
   "source": [
    "# Note the new precense of `junk` and `target` entries.\n",
    "out_quregs"
   ]
  }
 ],
 "metadata": {
  "kernelspec": {
   "display_name": "Python 3 (ipykernel)",
   "language": "python",
   "name": "python3"
  },
  "language_info": {
   "codemirror_mode": {
    "name": "ipython",
    "version": 3
   },
   "file_extension": ".py",
   "mimetype": "text/x-python",
   "name": "python",
   "nbconvert_exporter": "python",
   "pygments_lexer": "ipython3",
   "version": "3.11.4"
  }
 },
 "nbformat": 4,
 "nbformat_minor": 5
}
