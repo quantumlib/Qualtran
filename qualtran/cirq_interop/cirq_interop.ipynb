{
 "cells": [
  {
   "cell_type": "markdown",
   "id": "eb6226ee",
   "metadata": {},
   "source": [
    "# Cirq Interoperability\n",
    "\n",
    "Cirq is a quantum SDK for explicitly addressing physical qubits and scheduling gates. You can consider it analogous to a quantum assembly language. Qualtran provides interoperability with Cirq."
   ]
  },
  {
   "cell_type": "code",
   "execution_count": null,
   "id": "a2aee820",
   "metadata": {},
   "outputs": [],
   "source": [
    "import cirq\n",
    "from cirq.contrib.svg import SVGCircuit\n",
    "\n",
    "from qualtran import Bloq, CompositeBloq, BloqBuilder, Signature\n",
    "from qualtran.drawing import show_bloq"
   ]
  },
  {
   "cell_type": "markdown",
   "id": "1e14d29e",
   "metadata": {},
   "source": [
    "## Using Cirq gates from Bloqs\n",
    "\n",
    " - `CirqGateAsBloq(gate)` lets you use any Cirq gate in your composite bloqs.\n",
    " - `CompositeBloq.from_cirq_circuit(circuit)` lets you turn any Cirq circuit into an equivalent `CompositeBloq`. Each subbloq will be a `CirqGateAsBloq` wrapper."
   ]
  },
  {
   "cell_type": "markdown",
   "id": "5dd2cc96",
   "metadata": {},
   "source": [
    "### `CirqGateAsBloq`\n",
    "\n",
    "This wrapper uses the Cirq \"calling convention\" of one thru-register composted of a 1d array of qubits."
   ]
  },
  {
   "cell_type": "code",
   "execution_count": null,
   "id": "02cb4281",
   "metadata": {},
   "outputs": [],
   "source": [
    "from qualtran.cirq_interop import CirqGateAsBloq\n",
    "\n",
    "cgab = CirqGateAsBloq(cirq.QuantumFourierTransformGate(num_qubits=5))\n",
    "print(cgab)\n",
    "for reg in cgab.signature:\n",
    "    print(' ', reg)"
   ]
  },
  {
   "cell_type": "code",
   "execution_count": null,
   "id": "8ba385b0",
   "metadata": {},
   "outputs": [],
   "source": [
    "show_bloq(cgab)"
   ]
  },
  {
   "cell_type": "markdown",
   "id": "847b01e7",
   "metadata": {},
   "source": [
    "### `CompositeBloq.from_cirq_circuit`\n",
    "\n",
    "A Cirq circuit can be converted to a composite bloq by wrapping each operation with the `CirqGateAsBloq` wrapper. "
   ]
  },
  {
   "cell_type": "code",
   "execution_count": null,
   "id": "3fa0b8e9",
   "metadata": {},
   "outputs": [],
   "source": [
    "# Make a random cirq circuit\n",
    "qubits = cirq.LineQubit.range(4)\n",
    "circuit = cirq.testing.random_circuit(qubits, n_moments=5, op_density=1.0, random_state=52)\n",
    "\n",
    "# Convert to CompositeBloq\n",
    "cbloq = CompositeBloq.from_cirq_circuit(circuit)\n",
    "display(SVGCircuit(circuit))\n",
    "show_bloq(cbloq)"
   ]
  },
  {
   "cell_type": "markdown",
   "id": "5d9997f4",
   "metadata": {},
   "source": [
    "### Unitaries\n",
    "\n",
    "Both containers support numerical contraction to a dense unitary matrix. Cirq contracts operations in order. Bloqs use `quimb` to find a good contraction ordering and perform the contraction. "
   ]
  },
  {
   "cell_type": "code",
   "execution_count": null,
   "id": "85a40f2a",
   "metadata": {},
   "outputs": [],
   "source": [
    "import numpy as np\n",
    "\n",
    "bloq_unitary = cbloq.tensor_contract()\n",
    "cirq_unitary = circuit.unitary(qubits)\n",
    "np.testing.assert_allclose(cirq_unitary, bloq_unitary, atol=1e-8)"
   ]
  },
  {
   "cell_type": "markdown",
   "id": "2fe60767",
   "metadata": {},
   "source": [
    "### Back to `cirq.Circuit`"
   ]
  },
  {
   "cell_type": "code",
   "execution_count": null,
   "id": "97be35a3",
   "metadata": {},
   "outputs": [],
   "source": [
    "# Note: a 1d `shape` bloq register is actually two-dimensional in cirq conversion\n",
    "# because of the implicit `bitsize` dimension (which must be explicit during cirq conversion).\n",
    "# CirqGateAsBloq has registers of bitsize=1 and shape=(n,); hence the list transpose below.\n",
    "circuit2, _ = cbloq.to_cirq_circuit(qubits=[[q] for q in qubits], qubit_manager=cirq.ops.SimpleQubitManager())\n",
    "SVGCircuit(circuit2)"
   ]
  },
  {
   "cell_type": "code",
   "execution_count": null,
   "id": "f95dbe1d",
   "metadata": {},
   "outputs": [],
   "source": [
    "# We lose the moment structure during the roundtrip.\n",
    "circuit == circuit2"
   ]
  },
  {
   "cell_type": "code",
   "execution_count": null,
   "id": "ce93a502",
   "metadata": {},
   "outputs": [],
   "source": [
    "# But the left-aligned `circuit` is recovered.\n",
    "cirq.Circuit(circuit.all_operations()) == circuit2"
   ]
  },
  {
   "cell_type": "markdown",
   "id": "03f03231",
   "metadata": {},
   "source": [
    "## Converting Bloqs to Cirq objects\n",
    "\n",
    " - `Bloq.as_cirq_op` is an overridable method to declare what cirq operation corresponds to a bloq.\n",
    " - `CompositeBloq.to_cirq_circuit` will export a CompositeBloq to a cirq circuit.\n",
    " - `BloqAsCirqGate` provides a shim for using bloqs in cirq circuits automatically."
   ]
  },
  {
   "cell_type": "markdown",
   "id": "6efb079b",
   "metadata": {},
   "source": [
    "### `as_cirq_op` \n",
    "\n",
    "Bloqs can override `as_cirq_op` to optionally declare their corresponding Cirq operation. For example, the `SwapTwoBits` bloqs from the tutorial corresponds to `cirq.SWAP`.\n",
    "\n",
    "The bloqs infrastructure will call `as_cirq_op` with keyword arguments mapping register names to `np.ndarray`s of `cirq.Qid` whose shape is `reg.shape + (reg.bitsize,)`. The type alias `CirqQuregT` is provided for convenience.\n",
    "\n",
    "The method must return both the Cirq operation as well as a mapping from right register names to arrays of output `cirq.Qid`. This is to permit the use of qubit allocation facilities in `cirq`."
   ]
  },
  {
   "cell_type": "code",
   "execution_count": null,
   "id": "9aa00801",
   "metadata": {},
   "outputs": [],
   "source": [
    "import attrs\n",
    "from typing import *\n",
    "\n",
    "from qualtran.cirq_interop import CirqQuregT\n",
    "\n",
    "@attrs.frozen\n",
    "class SwapTwoBits(Bloq):\n",
    "    @property\n",
    "    def signature(self):\n",
    "        return Signature.build(x=1, y=1)\n",
    "    \n",
    "    def as_cirq_op(\n",
    "            self, qubit_manager, x: CirqQuregT, y: CirqQuregT\n",
    "    ) -> Tuple[cirq.Operation, Dict[str, CirqQuregT]]:\n",
    "        x, = x  # each is an array of length one\n",
    "        y, = y\n",
    "        op = cirq.SWAP(x, y)\n",
    "        out_quregs = {'x': [x], 'y': [y]}\n",
    "        return op, out_quregs"
   ]
  },
  {
   "cell_type": "code",
   "execution_count": null,
   "id": "78dd903f",
   "metadata": {},
   "outputs": [],
   "source": [
    "circuit, out_quregs = SwapTwoBits().as_composite_bloq()\\\n",
    "    .to_cirq_circuit(x=[cirq.NamedQubit('q1')], y=[cirq.NamedQubit('q2')])\n",
    "SVGCircuit(circuit)"
   ]
  },
  {
   "cell_type": "markdown",
   "id": "ca594c53",
   "metadata": {},
   "source": [
    "### `CompositeBloq.to_cirq_circuit`\n",
    "\n",
    "A composite bloq can be turned into a circuit composed of the result of `as_cirq_op` for each of the subbloqs.\n",
    "\n",
    "A bloq's `Signature` has a helper method to instantiate Cirq qubits in the correct form for input to the function."
   ]
  },
  {
   "cell_type": "code",
   "execution_count": null,
   "id": "569218e8",
   "metadata": {},
   "outputs": [],
   "source": [
    "from qualtran._infra.gate_with_registers import get_named_qubits\n",
    "\n",
    "get_named_qubits(SwapTwoBits().signature.lefts())"
   ]
  },
  {
   "cell_type": "code",
   "execution_count": null,
   "id": "9a06155b",
   "metadata": {},
   "outputs": [],
   "source": [
    "# Build a simple composite bloq\n",
    "bb = BloqBuilder()\n",
    "x = bb.add_register('x', 1)\n",
    "y = bb.add_register('y', 1)\n",
    "x, y = bb.add(SwapTwoBits(), x=x, y=y)\n",
    "x, y = bb.add(SwapTwoBits(), x=x, y=y)\n",
    "cbloq = bb.finalize(x=x, y=y)\n",
    "\n",
    "# Turn it into a cirq circuit\n",
    "quregs = get_named_qubits(cbloq.signature.lefts())\n",
    "circuit, _ = cbloq.to_cirq_circuit(**quregs)\n",
    "\n",
    "# Observe\n",
    "show_bloq(cbloq)\n",
    "display(SVGCircuit(circuit))"
   ]
  },
  {
   "cell_type": "markdown",
   "id": "01bf3b99",
   "metadata": {},
   "source": [
    "### `BloqAsCirqGate`\n",
    "\n",
    "The default behavior of `as_cirq_op` will shim the bloq into this object which lets you use a bloq in cirq circuits.\n",
    "\n",
    "Below, we reproduce the multi-bit swap from the tutorial. This time, we do not implement `as_cirq_op` ourselves. This is appropriate if there isn't an equivalent gate in Cirq, which is likely the case for high-level bloqs."
   ]
  },
  {
   "cell_type": "code",
   "execution_count": null,
   "id": "c36205ba",
   "metadata": {},
   "outputs": [],
   "source": [
    "from qualtran.cirq_interop import BloqAsCirqGate, cirq_optree_to_cbloq\n",
    "\n",
    "@attrs.frozen\n",
    "class Swap(Bloq):\n",
    "    n: int\n",
    "\n",
    "    @property\n",
    "    def signature(self):\n",
    "        return Signature.build(x=self.n, y=self.n)\n",
    "\n",
    "    def build_composite_bloq(\n",
    "            self, bb: 'BloqBuilder', *, x: 'SoquetT', y: 'SoquetT'\n",
    "    ) -> Dict[str, 'SoquetT']:\n",
    "        xs = bb.split(x)\n",
    "        ys = bb.split(y)\n",
    "        for i in range(self.n):\n",
    "            xs[i], ys[i] = bb.add(SwapTwoBits(), x=xs[i], y=ys[i])\n",
    "        return {'x': bb.join(xs), 'y': bb.join(ys)}"
   ]
  },
  {
   "cell_type": "code",
   "execution_count": null,
   "id": "1824c829",
   "metadata": {},
   "outputs": [],
   "source": [
    "swap = Swap(n=5)\n",
    "show_bloq(swap)\n",
    "show_bloq(swap.decompose_bloq())"
   ]
  },
  {
   "cell_type": "markdown",
   "id": "4eae1c53",
   "metadata": {},
   "source": [
    "Instead, we get a `BloqAsCirqGate` by default."
   ]
  },
  {
   "cell_type": "code",
   "execution_count": null,
   "id": "5e76fb54",
   "metadata": {},
   "outputs": [],
   "source": [
    "circuit, _ = swap.as_composite_bloq().to_cirq_circuit(\n",
    "    x=cirq.LineQubit.range(5), y=cirq.LineQubit.range(100,105))\n",
    "\n",
    "op = next(circuit.all_operations())"
   ]
  },
  {
   "cell_type": "markdown",
   "id": "d506ce16",
   "metadata": {},
   "source": [
    "This wrapper can delegate cirq `decompose` calls to bloq decomposition. If the bloqs in the decomposition have native `as_cirq_op` operations, then we successfully have a standard Cirq circuit."
   ]
  },
  {
   "cell_type": "code",
   "execution_count": null,
   "id": "ca5b5881",
   "metadata": {},
   "outputs": [],
   "source": [
    "swap_decomp_circuit = cirq.Circuit(cirq.decompose_once(op))\n",
    "print(repr(swap_decomp_circuit))"
   ]
  },
  {
   "cell_type": "code",
   "execution_count": null,
   "id": "3fd9ebd7",
   "metadata": {},
   "outputs": [],
   "source": [
    "import qualtran.cirq_interop.testing as cq_testing\n",
    "from qualtran.cirq_interop.jupyter_tools import display_gate_and_compilation\n",
    "\n",
    "g = cq_testing.GateHelper(op.gate)\n",
    "display_gate_and_compilation(g, include_costs=False)"
   ]
  },
  {
   "cell_type": "markdown",
   "id": "6b16c692",
   "metadata": {},
   "source": [
    "### Allocation and de-allocation\n",
    "\n",
    "Cirq conversion can allocate and deallocate qubits with the help of qubit allocation tools in `cirq`. As an example, we look at the `MultiAnd` bloq. Behind the scenes, this uses the default `BloqAsCirqGate` shim which will allocate the target and junk right-only registers automatically."
   ]
  },
  {
   "cell_type": "code",
   "execution_count": null,
   "id": "7b846fba",
   "metadata": {},
   "outputs": [],
   "source": [
    "from qualtran.bloqs.mcmt import MultiAnd\n",
    "\n",
    "multi_and = MultiAnd(cvs=(1, 1, 1, 1))"
   ]
  },
  {
   "cell_type": "markdown",
   "id": "d266e6b8",
   "metadata": {},
   "source": [
    "Our input Cirq qubit registers include just the control qubits."
   ]
  },
  {
   "cell_type": "code",
   "execution_count": null,
   "id": "0f13f658",
   "metadata": {},
   "outputs": [],
   "source": [
    "cirq_quregs = get_named_qubits(multi_and.signature.lefts())\n",
    "cirq_quregs"
   ]
  },
  {
   "cell_type": "code",
   "execution_count": null,
   "id": "a956c712",
   "metadata": {},
   "outputs": [],
   "source": [
    "multi_and_circuit, out_quregs = multi_and.decompose_bloq().to_cirq_circuit(**cirq_quregs)\n",
    "SVGCircuit(multi_and_circuit)"
   ]
  },
  {
   "cell_type": "markdown",
   "id": "f99495e0",
   "metadata": {},
   "source": [
    "The second return value of `as_cirq_op` and `to_cirq_circuit` is the output cirq qubit registers that we can use to identify allocated qubits."
   ]
  },
  {
   "cell_type": "code",
   "execution_count": null,
   "id": "fb2890bd",
   "metadata": {},
   "outputs": [],
   "source": [
    "# Note the new precense of `junk` and `target` entries.\n",
    "out_quregs"
   ]
  },
  {
   "cell_type": "markdown",
   "id": "896e0392-3f1f-4965-bb13-0a541581ec25",
   "metadata": {},
   "source": [
    "## Test `Cirq -> Bloqs -> Cirq` roundtrip using `QROM`\n",
    "\n",
    "Another example is to import the data loading oracle QROM from Cirq into Qualtran by wrapping it into a `CirqGateAsBloq`."
   ]
  },
  {
   "cell_type": "code",
   "execution_count": null,
   "id": "978141e4",
   "metadata": {},
   "outputs": [],
   "source": [
    "from qualtran.bloqs.qrom import QROM\n",
    "from qualtran._infra.gate_with_registers import get_named_qubits\n",
    "from qualtran.drawing import get_musical_score_data, draw_musical_score\n",
    "# Ensure no information is lost in Cirq -> Bloqs -> Cirq conversion.\n",
    "cirq_qrom = QROM.build([10, 20, 30], num_controls=1)\n",
    "quregs = get_named_qubits(cirq_qrom.signature)\n",
    "circuit = cirq.Circuit(cirq.decompose_once(cirq_qrom.on_registers(**quregs)))\n",
    "print(circuit)\n",
    "qrom_gate_via_bloq = BloqAsCirqGate(CirqGateAsBloq(cirq_qrom))\n",
    "circuit_roundrip = cirq.Circuit(cirq.decompose_once(qrom_gate_via_bloq.on_registers(**quregs)))\n",
    "print(circuit_roundrip)"
   ]
  },
  {
   "cell_type": "code",
   "execution_count": null,
   "id": "52765449-acc2-4673-b7f4-f2add2b83c66",
   "metadata": {},
   "outputs": [],
   "source": [
    "# The same decomposition can be obtained by directly decomposing the corresponding Bloq.\n",
    "# 1. Decompose wrapped Bloq directly to obtain the Composite Bloq for QROM.\n",
    "bloq = CirqGateAsBloq(cirq_qrom)\n",
    "cbloq = bloq.decompose_bloq()\n",
    "fig, ax = draw_musical_score(get_musical_score_data(cbloq))\n",
    "fig.set_size_inches(16, 5)\n",
    "# 2. Convert Cirq decomposed circuit to composite Bloq.\n",
    "cbloq = cirq_optree_to_cbloq(circuit, signature=bloq.signature, in_quregs=quregs, out_quregs=quregs)\n",
    "fig, ax = draw_musical_score(get_musical_score_data(cbloq))\n",
    "fig.set_size_inches(16, 5)"
   ]
  },
  {
   "cell_type": "markdown",
   "id": "8ec19639-ae2d-4a66-91eb-8cd4d10068ef",
   "metadata": {},
   "source": [
    "## Test `Bloqs -> Cirq -> Bloqs` roundtrip using `ModExp`"
   ]
  },
  {
   "cell_type": "code",
   "execution_count": null,
   "id": "8f05d340-f3ca-45d2-bde0-cc4bf0bd0c5d",
   "metadata": {},
   "outputs": [],
   "source": [
    "from qualtran.bloqs.factoring.mod_exp import ModExp\n",
    "from qualtran.drawing import show_bloq\n",
    "N = 13*17\n",
    "n = int(np.ceil(np.log2(N)))\n",
    "g = 8\n",
    "mod_exp = ModExp(base=g, mod=N, exp_bitsize=32, x_bitsize=32)\n",
    "show_bloq(mod_exp)\n",
    "cbloq = mod_exp.decompose_bloq()\n",
    "fig, ax = draw_musical_score(get_musical_score_data(cbloq))\n",
    "fig.set_size_inches(24, 15)"
   ]
  },
  {
   "cell_type": "code",
   "execution_count": null,
   "id": "8f60ad59-b3fe-4745-b0d0-e2f0feb1fbaf",
   "metadata": {},
   "outputs": [],
   "source": [
    "in_quregs = {'exponent': np.array(cirq.LineQubit.range(32))}\n",
    "\n",
    "op, out_quregs = BloqAsCirqGate.bloq_on(mod_exp, cirq_quregs=in_quregs, qubit_manager=cirq.ops.SimpleQubitManager())\n",
    "\n",
    "# 1. Decompose using cirq.decompose_once(op) and then convert back into a CompositeBloq.\n",
    "decomposed_circuit = cirq.Circuit(cirq.decompose_once(op))\n",
    "cbloq = cirq_optree_to_cbloq(decomposed_circuit, signature=mod_exp.signature, in_quregs=in_quregs, out_quregs=out_quregs)\n",
    "fig, ax = draw_musical_score(get_musical_score_data(cbloq))\n",
    "fig.set_size_inches(24, 15)"
   ]
  },
  {
   "cell_type": "code",
   "execution_count": null,
   "id": "d51c58ae-89f6-4f29-b7d7-da0f437f5af3",
   "metadata": {},
   "outputs": [],
   "source": [
    "# 2. Ensure that Bloq -> BloqAsCirqGate -> CirqGateAsBloq.decompose_bloq() roundtrip works as expected.\n",
    "# This makes sure no information is lost when converting from Bloqs -> Cirq -> Bloqs.\n",
    "bloq = CirqGateAsBloq(BloqAsCirqGate(mod_exp))\n",
    "show_bloq(bloq)\n",
    "cbloq = CirqGateAsBloq(op.gate).decompose_bloq()\n",
    "fig, ax = draw_musical_score(get_musical_score_data(cbloq))\n",
    "fig.set_size_inches(24, 15)"
   ]
  }
 ],
 "metadata": {
  "kernelspec": {
   "display_name": "Python 3 (ipykernel)",
   "language": "python",
   "name": "python3"
  },
  "language_info": {
   "codemirror_mode": {
    "name": "ipython",
    "version": 3
   },
   "file_extension": ".py",
   "mimetype": "text/x-python",
   "name": "python",
   "nbconvert_exporter": "python",
   "pygments_lexer": "ipython3",
   "version": "3.10.9"
  }
 },
 "nbformat": 4,
 "nbformat_minor": 5
}
