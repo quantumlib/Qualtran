{
 "cells": [
  {
   "cell_type": "code",
   "execution_count": null,
   "id": "51db731e",
   "metadata": {},
   "outputs": [],
   "source": [
    "# Copyright 2023 The Cirq Developers\n",
    "#\n",
    "# Licensed under the Apache License, Version 2.0 (the \"License\");\n",
    "# you may not use this file except in compliance with the License.\n",
    "# You may obtain a copy of the License at\n",
    "#\n",
    "#     https://www.apache.org/licenses/LICENSE-2.0\n",
    "#\n",
    "# Unless required by applicable law or agreed to in writing, software\n",
    "# distributed under the License is distributed on an \"AS IS\" BASIS,\n",
    "# WITHOUT WARRANTIES OR CONDITIONS OF ANY KIND, either express or implied.\n",
    "# See the License for the specific language governing permissions and\n",
    "# limitations under the License."
   ]
  },
  {
   "cell_type": "markdown",
   "id": "33438ed0",
   "metadata": {},
   "source": [
    "# T Complexity"
   ]
  },
  {
   "cell_type": "code",
   "execution_count": null,
   "id": "abed0743",
   "metadata": {},
   "outputs": [],
   "source": [
    "import matplotlib.pyplot as plt\n",
    "import numpy as np\n",
    "\n",
    "from qualtran.bloqs.mcmt import And, MultiAnd\n",
    "from qualtran._infra.gate_with_registers import get_named_qubits\n",
    "from qualtran.cirq_interop.t_complexity_protocol import t_complexity"
   ]
  },
  {
   "cell_type": "markdown",
   "id": "29f4c77d",
   "metadata": {},
   "source": [
    "## Two Qubit And Gate"
   ]
  },
  {
   "cell_type": "code",
   "execution_count": null,
   "id": "635a411e",
   "metadata": {},
   "outputs": [],
   "source": [
    "# And of two qubits\n",
    "gate = And() # create an And gate\n",
    "# create an operation\n",
    "operation = gate.on_registers(**get_named_qubits(gate.signature))\n",
    "# this operation doesn't directly support TComplexity but it's decomposable and its components are simple.\n",
    "print(t_complexity(operation))"
   ]
  },
  {
   "cell_type": "markdown",
   "id": "88cfc5f4",
   "metadata": {},
   "source": [
    "## Adjoint of two qubit And gate"
   ]
  },
  {
   "cell_type": "code",
   "execution_count": null,
   "id": "3c0301d9",
   "metadata": {},
   "outputs": [],
   "source": [
    "gate = And() ** -1 # adjoint of And\n",
    "operation = gate.on_registers(**get_named_qubits(gate.signature))\n",
    "# the deomposition is H, measure, CZ, and Reset\n",
    "print(t_complexity(operation))"
   ]
  },
  {
   "cell_type": "markdown",
   "id": "8e585436",
   "metadata": {},
   "source": [
    "## And gate on n qubits"
   ]
  },
  {
   "cell_type": "code",
   "execution_count": null,
   "id": "a207ea1a",
   "metadata": {},
   "outputs": [],
   "source": [
    "n = 5\n",
    "gate = MultiAnd((1, )*n)\n",
    "operation = gate.on_registers(**get_named_qubits(gate.signature))\n",
    "print(t_complexity(operation))"
   ]
  },
  {
   "cell_type": "code",
   "execution_count": null,
   "id": "394032a5",
   "metadata": {},
   "outputs": [],
   "source": [
    "def Generate(n_max: int = 10):\n",
    "    \"\"\"Returns the #T when the number of qubits is between 3 and n_max inclusive\"\"\"\n",
    "    n_controls = []\n",
    "    t_count = []\n",
    "    for n in range(3, n_max + 2):\n",
    "        n_controls.append(n)\n",
    "        gate = MultiAnd(cvs=(1, )*n)\n",
    "        op = gate.on_registers(**get_named_qubits(gate.signature))\n",
    "        c = t_complexity(op)\n",
    "        t_count.append(c.t)\n",
    "    return n_controls, t_count"
   ]
  },
  {
   "cell_type": "code",
   "execution_count": null,
   "id": "919ca418",
   "metadata": {},
   "outputs": [],
   "source": [
    "n_controls, t_count = Generate()\n",
    "plt.plot(n_controls, t_count, label='T')\n",
    "plt.ylabel('count')\n",
    "plt.xlabel('number of qubits')\n",
    "plt.title('And gate')\n",
    "plt.legend()\n",
    "plt.show()"
   ]
  }
 ],
 "metadata": {
  "kernelspec": {
   "display_name": "Python 3 (ipykernel)",
   "language": "python",
   "name": "python3"
  },
  "language_info": {
   "codemirror_mode": {
    "name": "ipython",
    "version": 3
   },
   "file_extension": ".py",
   "mimetype": "text/x-python",
   "name": "python",
   "nbconvert_exporter": "python",
   "pygments_lexer": "ipython3",
   "version": "3.10.9"
  },
  "vscode": {
   "interpreter": {
    "hash": "1882f3b63550a2f9350e6532bf63174910df57e92f62a2be07440f9e606398c8"
   }
  }
 },
 "nbformat": 4,
 "nbformat_minor": 5
}
