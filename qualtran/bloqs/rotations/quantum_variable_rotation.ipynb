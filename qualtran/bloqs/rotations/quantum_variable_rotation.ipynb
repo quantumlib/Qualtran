{
 "cells": [
  {
   "cell_type": "markdown",
   "id": "f56145c1",
   "metadata": {
    "cq.autogen": "title_cell"
   },
   "source": [
    "# Quantum Variable Rotation\n",
    "\n",
    "Quantum variable rotation (QVR) represents a family of Bloqs that can act as a Phase Oracle[1, 2],\n",
    "i.e. it implements a unitary which phases each computational basis state $|x\\rangle$, on which\n",
    "the wave-function has support, by an amount $e^{i 2\\pi \\gamma x}$. The general unitary can be\n",
    "defined as\n",
    "\n",
    "$$\n",
    "\\text{QVR}_{n, \\epsilon}(\\gamma)\\sum_{j=0}^{2^n-1} c_j|x_j\\rangle\\rightarrow\\sum_{j=0}^{2^n-1} e^{2\\pi i\\widetilde{\\gamma x_j}}c_j|x_j\\rangle\n",
    "$$\n",
    "\n",
    "where $\\epsilon$ parameterizes the accuracy to which we wish to synthesize the phase coefficients s.t.\n",
    "\n",
    "$$\n",
    "|e^{2\\pi i\\widetilde{\\gamma x_j}} - e^{2\\pi i \\gamma x_j}| \\leq \\epsilon\n",
    "$$\n",
    "\n",
    "which, using rules of propagation of error [3], implies\n",
    "\n",
    "$$\n",
    "|\\gamma x_j - \\widetilde{\\gamma x_j}| \\leq \\frac{\\epsilon}{2\\pi}\n",
    "$$\n",
    "\n",
    "The linked references typically assume that $0 \\leq x_{j} \\le 1$ and $-1 \\leq \\gamma \\leq 1$,\n",
    "for ease of exposition and analysis, but we do not have any such constraint. In the implementations\n",
    "presented below, both the cost register $|x\\rangle$ and $\\gamma$ can be arbitrary fixed point integer types.\n",
    "Each section below presents more details about the constraints on cost register $|x\\rangle$ and\n",
    "scaling constant $\\gamma$.\n",
    "\n",
    "\n",
    "References:\n",
    "  1. [Faster quantum chemistry simulation on fault-tolerant quantum\n",
    "        computers](https://iopscience.iop.org/article/10.1088/1367-2630/14/11/115023/meta)\n",
    "        Fig 14.\n",
    "  2. [Compilation of Fault-Tolerant Quantum Heuristics for Combinatorial Optimization](https://arxiv.org/abs/2007.07391) Appendix C: Oracles for phasing by cost function\n",
    "  3. [Formulae for propagating uncertainty](https://en.wikipedia.org/wiki/Propagation_of_uncertainty#Example_formulae)"
   ]
  },
  {
   "cell_type": "code",
   "execution_count": null,
   "id": "f17cc597",
   "metadata": {
    "cq.autogen": "top_imports"
   },
   "outputs": [],
   "source": [
    "from qualtran import Bloq, CompositeBloq, BloqBuilder, Signature, Register\n",
    "from qualtran.drawing import show_bloq, show_call_graph, show_counts_sigma\n",
    "from typing import *\n",
    "import numpy as np\n",
    "import sympy\n",
    "import cirq"
   ]
  },
  {
   "cell_type": "markdown",
   "id": "0099d00f",
   "metadata": {
    "cq.autogen": "QvrZPow.bloq_doc.md"
   },
   "source": [
    "## `QvrZPow`\n",
    "QVR oracle that applies a ZPow rotation to every qubit in the n-bit cost register.\n",
    "\n",
    "This phase oracle simply applies a Z^{2^{k}} rotation to every qubit in the cost register.\n",
    "To obtain a desired accuracy of $\\epsilon$, each individual rotation is synthesized with accuracy\n",
    "$\\frac{\\epsilon}{n}$, where $n$ is the size of cost register.\n",
    "\n",
    "The toffoli cost of this method scales as\n",
    "\n",
    "$$\n",
    "    \\text{Toffoli Cost} \\approxeq \\mathcal{O}\\left(n \\log{\\frac{n}{\\epsilon}} \\right)\n",
    "$$\n",
    "\n",
    "#### Parameters\n",
    " - `cost_reg`: Cost register of dtype `QFxp`. Supports arbitrary `QFxp` types, including signed and unsigned.\n",
    " - `gamma`: Scaling factor to multiply the cost register by, before applying the phase. Can be arbitrary floating point number.\n",
    " - `eps`: Precision for synthesizing the phases.\n"
   ]
  },
  {
   "cell_type": "code",
   "execution_count": null,
   "id": "f3c8a9ef",
   "metadata": {
    "cq.autogen": "QvrZPow.bloq_doc.py"
   },
   "outputs": [],
   "source": [
    "from qualtran.bloqs.rotations.quantum_variable_rotation import QvrZPow"
   ]
  },
  {
   "cell_type": "markdown",
   "id": "4b7f9c42",
   "metadata": {
    "cq.autogen": "QvrZPow.example_instances.md"
   },
   "source": [
    "### Example Instances"
   ]
  },
  {
   "cell_type": "code",
   "execution_count": null,
   "id": "f57b8981",
   "metadata": {
    "cq.autogen": "QvrZPow.qvr_zpow"
   },
   "outputs": [],
   "source": [
    "qvr_zpow = QvrZPow.from_bitsize(12)"
   ]
  },
  {
   "cell_type": "markdown",
   "id": "b8f32acb",
   "metadata": {
    "cq.autogen": "QvrZPow.graphical_signature.md"
   },
   "source": [
    "#### Graphical Signature"
   ]
  },
  {
   "cell_type": "code",
   "execution_count": null,
   "id": "32069e11",
   "metadata": {
    "cq.autogen": "QvrZPow.graphical_signature.py"
   },
   "outputs": [],
   "source": [
    "from qualtran.drawing import show_bloqs\n",
    "show_bloqs([qvr_zpow],\n",
    "           ['`qvr_zpow`'])"
   ]
  },
  {
   "cell_type": "markdown",
   "id": "343002d9",
   "metadata": {
    "cq.autogen": "QvrZPow.call_graph.md"
   },
   "source": [
    "### Call Graph"
   ]
  },
  {
   "cell_type": "code",
   "execution_count": null,
   "id": "5f84e8e3",
   "metadata": {
    "cq.autogen": "QvrZPow.call_graph.py"
   },
   "outputs": [],
   "source": [
    "qvr_zpow_g, qvr_zpow_sigma = qvr_zpow.call_graph()\n",
    "show_call_graph(qvr_zpow_g)\n",
    "show_counts_sigma(qvr_zpow_sigma)"
   ]
  },
  {
   "cell_type": "markdown",
   "id": "38d3bc75",
   "metadata": {
    "cq.autogen": "QvrPhaseGradient.bloq_doc.md"
   },
   "source": [
    "## `QvrPhaseGradient`\n",
    "QVR oracle that applies a rotation via addition into the phase gradient register.\n",
    "\n",
    "A $b_\\text{grad}$-bit phase gradient state $|\\phi\\rangle_{b_\\text{grad}}$ can be written as\n",
    "\n",
    "<!-- can be thought of as a superposition of states $|\\frac{0}{2^{b_\\text{grad}}}\\rangle, |\\frac{2}{2^{b_\\text{grad}}}\\rangle, |\\frac{2}{2^{b_\\text{grad}}}\\rangle, ... |k/$ where each integer $0\\leq k \\lt 2^{b_\\text{grad}}$ represents a $b_\\text{grad}$-bit fixed point number $\\frac{k}{2^{b_\\text{grad}}}$ -->\n",
    "$$\n",
    "    |\\phi\\rangle_{b_\\text{grad}} = \\frac{1}{\\sqrt{2^{b_\\text{grad}}}} \\sum_{k=0}^{2^{b_\\text{grad}} - 1} e^{\\frac{-2\\pi i k}{2^{b_\\text{grad}}}} \\ket{\\frac{k}{b_\\text{grad}}}\n",
    "$$\n",
    "\n",
    "In the above equation $\\frac{k}{b_\\text{grad}}$ represents a fixed point fraction. In Qualtran, we can represent such a\n",
    "quantum register using quantum data type `QFxp(bitsize=b_grad, num_frac=b_grad, signed=False)`. Let $\\tilde{k}=\\frac{k}{b_\\text{grad}}$\n",
    "be a $b_\\text{grad}$-bit fixed point fraction, we can rewrite the phase gradient state as\n",
    "\n",
    "\n",
    "$$\n",
    "    |\\phi\\rangle_{b_\\text{grad}} = \\frac{1}{\\sqrt{2^{b_\\text{grad}}}}\\sum_{\\tilde{k}=0}^{\\frac{2^{b_\\text{grad}-1}}{2^{b_\\text{grad}}}} e^{-2\\pi i \\tilde{k}} \\ket{\\tilde{k}}\n",
    "$$\n",
    "\n",
    "\n",
    "A useful property of the phase gradient state is that adding a fixed-point number $\\tilde{l}$ to the state applies a phase-kickback\n",
    "of $e^{2\\pi i \\tilde{l}}$\n",
    "\n",
    "$$\n",
    "|\\phi + \\tilde{l}\\rangle_{b_\\text{grad}} = e^{2\\pi i \\tilde{l}}|\\phi\\rangle_{b_\\text{grad}}\n",
    "$$\n",
    "\n",
    "We exploit this property of the phase gradient states to implement a quantum variable rotation via addition into the phase gradient\n",
    "state s.t.\n",
    "\n",
    "$$\\begin{aligned}\n",
    "    \\text{QVR}_{n, \\epsilon}(\\gamma)|x\\rangle |\\phi\\rangle &= |x\\rangle |\\phi + \\gamma x\\rangle \\\\\n",
    "                                      &= e^{2\\pi i \\gamma x}|x\\rangle |\\phi\\rangle\n",
    "\\end{aligned}$$\n",
    "\n",
    "A number of subtleties arise as part of this procedure and we describe them below one by one.\n",
    "\n",
    "- **Adding a scaled value into phase gradient register** Instead of computing $\\gamma x$ an intermediate register, we perform the multiplication via repeated additions into the phase gradient register, as described in [2]. This requires us to represent $\\gamma$ as a fixed point fraction with bitsize $\\gamma_\\text{bitsize}$. This procedure introduces two sources of errors:\n",
    "    - **Errors due to fixed point representation of $\\gamma$** - Note that adding any fixed point number of the form $a.b$ to the phase gradient register is equivalent to adding $0.b$ since $e^{2\\pi i a} = 1$ for every integer $a$. Let $\\tilde{\\gamma} = a.b$ and $x = p.q$ be fixed point decimal representations of $\\gamma$ and $x$. We can write the product $\\gamma x$ as\n",
    "    $$\n",
    "          \\tilde{\\gamma} x = (\\sum_{i=0}^{\\gamma_\\text{n\\_int}} a_{i} * 2^{i} + \\sum_{i=1}^{\\gamma_\\text{n\\_frac}} \\frac{b_i}{2^i}) (\\sum_{j=0}^{x_\\text{n\\_int}} p_{j} * 2^{j} + \\sum_{j=1}^{x_\\text{n\\_frac}} \\frac{q_{j}}{2^{j}})\n",
    "    $$\n",
    "    In order to compute $\\tilde{\\gamma} x$ to precision $\\frac{\\epsilon}{2\\pi}$, we can ignore all terms in the above summation that are < $\\frac{\\epsilon}{2\\pi}$. Let $b_\\text{phase} = \\log_2{\\frac{2\\pi}{\\epsilon}}$, then we get $\\gamma_\\text{n\\_frac} = x_\\text{n\\_int} + b_\\text{phase}$. Thus,\n",
    "\n",
    "    $$\\begin{aligned}\n",
    "          \\gamma_\\text{bitsize} &= \\gamma_\\text{n\\_int} + x_\\text{n\\_int} + b_\\text{phase} \\\\\n",
    "                                &\\approxeq \\log_2{\\frac{1}{\\epsilon}} + O(1)\n",
    "    \\end{aligned}$$\n",
    "\n",
    "    - **Errors due to truncation of digits of $|x\\rangle$ during multiplication via repeated addition** - Let $b_\\text{grad}$ be the size of the phase gradient register. When adding right shifted copies of state $x$ to the phase gradient register, we incur an error every time the fractional part of the right shifted state to be added needs to be truncated to $b_\\text{grad}$ digits. For each such addition the error is upper bounded by $\\frac{2\\pi}{2^{b_\\text{grad}}}$, because we omit adding bits that would correspond to phase shifts of $\\frac{2\\pi}{2^{b_\\text{grad}+1}}$, $\\frac{2\\pi}{2^{b_\\text{grad}+2}}$, and so forth. The number of such additions can be upper bounded by $\\frac{(\\gamma_\\text{n\\_frac} + 2)}{2}$ using techniques from [2]. When $b_\\text{grad} >= x_\\text{bitsize}$, the first $x_\\text{n\\_int}$ additions do not contribute to any phase error and thus the number of error causing additions can be upper bounded by $\\frac{(b_\\text{phase} + 2)}{2}$. In order to keep the error less then $\\epsilon$, we get\n",
    "\n",
    "    $$\\begin{aligned}\n",
    "    b_\\text{grad} &= \\left \\lceil \\log_2{\\frac{\\text{num\\_additions} * 2\\pi}{\\epsilon}} \\right\\rceil   \\\\\n",
    "                  &= \\left \\lceil \\log_2{\\frac{(b_\\text{phase} + 2)\\pi}{\\epsilon}} \\right\\rceil \\text{; if } b_\\text{grad} \\geq x_\\text{bitsize}  \\\\\n",
    "                  &= \\left \\lceil \\log_2{\\frac{(b_\\text{phase} + \\text{x\\_int} + 2)\\pi}{\\epsilon}} \\right\\rceil \\text{; otherwise}\n",
    "    \\end{aligned}$$\n",
    "\n",
    "\n",
    "- **Constraints on $\\gamma$ and $|x\\rangle$** - In the current implementation, $\\gamma$ can be any arbitrary floating point number (signed or unsigned) and $|x\\rangle$ must be an unsigned fixed point register.\n",
    "\n",
    "- **Cost of the phase gradient procedure** - Each addition into the phase gradient register costs $b_\\text{grad} - 2$ Toffoli's and there are $\\frac{\\gamma_\\text{bitsize} + 2}{2}$ such additions, therefore the total Toffoli cost is\n",
    "\n",
    "    $$\\begin{aligned}\n",
    "        \\text{Toffoli Cost} &= \\frac{(b_\\text{grad} - 2)(\\gamma_\\text{bitsize} + 2)}{2} \\\\\n",
    "    \\end{aligned}$$\n",
    "\n",
    "\n",
    "Thus, for cases where $-1\\lt \\gamma \\lt 1$ and $0 \\leq x \\lt 1$, the toffoli cost scales as $\\mathcal{O}\\left(\\log^2{\\frac{1}{\\epsilon}} \\log{\\log{\\frac{1}{\\epsilon}}}\\right)$\n",
    "\n",
    "#### References\n",
    "1. [Compilation of Fault-Tolerant Quantum Heuristics for Combinatorial Optimization](https://arxiv.org/abs/2007.07391) Section II-C: Oracles for phasing by cost function\n",
    "2. [Compilation of Fault-Tolerant Quantum Heuristics for Combinatorial Optimization](https://arxiv.org/abs/2007.07391) Appendix A: Addition for controlled rotations\n"
   ]
  },
  {
   "cell_type": "code",
   "execution_count": null,
   "id": "1fc40bf1",
   "metadata": {
    "cq.autogen": "QvrPhaseGradient.bloq_doc.py"
   },
   "outputs": [],
   "source": [
    "from qualtran.bloqs.rotations.quantum_variable_rotation import QvrPhaseGradient"
   ]
  },
  {
   "cell_type": "markdown",
   "id": "fe574c2e",
   "metadata": {
    "cq.autogen": "QvrPhaseGradient.example_instances.md"
   },
   "source": [
    "### Example Instances"
   ]
  },
  {
   "cell_type": "code",
   "execution_count": null,
   "id": "6541ac35",
   "metadata": {
    "cq.autogen": "QvrPhaseGradient.qvr_phase_gradient"
   },
   "outputs": [],
   "source": [
    "qvr_phase_gradient = QvrPhaseGradient.from_bitsize(12)"
   ]
  },
  {
   "cell_type": "markdown",
   "id": "6b602852",
   "metadata": {
    "cq.autogen": "QvrPhaseGradient.graphical_signature.md"
   },
   "source": [
    "#### Graphical Signature"
   ]
  },
  {
   "cell_type": "code",
   "execution_count": null,
   "id": "76cbb9e9",
   "metadata": {
    "cq.autogen": "QvrPhaseGradient.graphical_signature.py"
   },
   "outputs": [],
   "source": [
    "from qualtran.drawing import show_bloqs\n",
    "show_bloqs([qvr_phase_gradient],\n",
    "           ['`qvr_phase_gradient`'])"
   ]
  },
  {
   "cell_type": "markdown",
   "id": "a4477f2c",
   "metadata": {
    "cq.autogen": "QvrPhaseGradient.call_graph.md"
   },
   "source": [
    "### Call Graph"
   ]
  },
  {
   "cell_type": "code",
   "execution_count": null,
   "id": "66ff4fef",
   "metadata": {
    "cq.autogen": "QvrPhaseGradient.call_graph.py"
   },
   "outputs": [],
   "source": [
    "qvr_phase_gradient_g, qvr_phase_gradient_sigma = qvr_phase_gradient.call_graph()\n",
    "show_call_graph(qvr_phase_gradient_g)\n",
    "show_counts_sigma(qvr_phase_gradient_sigma)"
   ]
  }
 ],
 "metadata": {
  "kernelspec": {
   "display_name": "Python 3 (ipykernel)",
   "language": "python",
   "name": "python3"
  },
  "language_info": {
   "codemirror_mode": {
    "name": "ipython",
    "version": 3
   },
   "file_extension": ".py",
   "mimetype": "text/x-python",
   "name": "python",
   "nbconvert_exporter": "python",
   "pygments_lexer": "ipython3",
   "version": "3.11.4"
  }
 },
 "nbformat": 4,
 "nbformat_minor": 5
}
