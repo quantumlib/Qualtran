{
 "cells": [
  {
   "cell_type": "markdown",
   "id": "514e86ba",
   "metadata": {
    "cq.autogen": "title_cell"
   },
   "source": [
    "# Quantum Variable Rotation\n",
    "\n",
    "Quantum variable rotation (QVR) represents a family of Bloqs that can act as a Phase Oracle[1, 2],\n",
    "i.e. it implements a unitary which phases each computational basis state $|x\\rangle$, on which\n",
    "the wave-function has support, by an amount $e^{i 2\\pi \\gamma x}$. The general unitary can be\n",
    "defined as\n",
    "\n",
    "$$\n",
    "\\text{QVR}_{n, \\epsilon}(\\gamma)\\sum_{j=0}^{2^n-1} c_j|x_j\\rangle\\rightarrow\\sum_{j=0}^{2^n-1}\n",
    "e^{2\\pi i\\widetilde{\\gamma x_j}}c_j|x_j\\rangle\n",
    "$$\n",
    "\n",
    "where $\\epsilon$ parameterizes the accuracy to which we wish to synthesize the phase\n",
    "coefficients s.t.\n",
    "\n",
    "$$\n",
    "|e^{2\\pi i\\widetilde{\\gamma x_j}} - e^{2\\pi i \\gamma x_j}| \\leq \\epsilon\n",
    "$$\n",
    "\n",
    "which, using rules of propagation of error [3], implies\n",
    "\n",
    "$$\n",
    "|\\gamma x_j - \\widetilde{\\gamma x_j}| \\leq \\frac{\\epsilon}{2\\pi}\n",
    "$$\n",
    "\n",
    "The linked references typically assume that $0 \\leq x_{j} \\le 1$ and $-1 \\leq \\gamma \\leq 1$,\n",
    "for ease of exposition and analysis, but we do not have any such constraint. In the\n",
    "implementations presented below, both the cost register $|x\\rangle$ and $\\gamma$ can be\n",
    "arbitrary fixed point integer types.\n",
    "Each section below presents more details about the constraints on cost register\n",
    "$|x\\rangle$ and scaling constant $\\gamma$.\n",
    "\n",
    "\n",
    "References:\n",
    "  1. [Faster quantum chemistry simulation on fault-tolerant quantum\n",
    "        computers](https://iopscience.iop.org/article/10.1088/1367-2630/14/11/115023/meta)\n",
    "        Fig 14.\n",
    "  2. [Compilation of Fault-Tolerant Quantum Heuristics for Combinatorial\n",
    "        Optimization](https://arxiv.org/abs/2007.07391) Appendix C: Oracles for\n",
    "        phasing by cost function\n",
    "  3. [Formulae for propagating\n",
    "        uncertainty](https://en.wikipedia.org/wiki/Propagation_of_uncertainty#Example_formulae)"
   ]
  },
  {
   "cell_type": "code",
   "execution_count": null,
   "id": "07fd6c19",
   "metadata": {
    "cq.autogen": "top_imports"
   },
   "outputs": [],
   "source": [
    "from qualtran import Bloq, CompositeBloq, BloqBuilder, Signature, Register\n",
    "from qualtran import QBit, QInt, QUInt, QAny\n",
    "from qualtran.drawing import show_bloq, show_call_graph, show_counts_sigma\n",
    "from typing import *\n",
    "import numpy as np\n",
    "import sympy\n",
    "import cirq"
   ]
  },
  {
   "cell_type": "markdown",
   "id": "7f597121",
   "metadata": {
    "cq.autogen": "QvrZPow.bloq_doc.md"
   },
   "source": [
    "## `QvrZPow`\n",
    "QVR oracle that applies a ZPow rotation to every qubit in the n-bit cost register.\n",
    "\n",
    "This phase oracle simply applies a $Z^{2^{k}}$ rotation to every qubit in the cost register.\n",
    "To obtain a desired accuracy of $\\epsilon$, each individual rotation is synthesized with\n",
    "accuracy $\\frac{\\epsilon}{n}$, where $n$ is the size of cost register.\n",
    "\n",
    "The toffoli cost of this method scales as\n",
    "\n",
    "$$\n",
    "    \\text{T-Cost} \\approxeq \\mathcal{O}\\left(n \\log{\\frac{n}{\\epsilon}} \\right)\n",
    "$$\n",
    "\n",
    "Note that when $n$ is large, we can ignore small angle rotations s.t. number of rotations to\n",
    "synthesize $\\leq \\log{\\left(\\frac{2\\pi \\gamma}{\\epsilon}\\right)}$\n",
    "\n",
    "Thus, the T-cost scales as\n",
    "\n",
    "$$\\begin{aligned}\n",
    "\\text{T-Cost} &\\approxeq \\mathcal{O}\\left(n \\log{\\frac{n}{\\epsilon}} \\right) \\\\\n",
    "          &\\approxeq \\mathcal{O}\\left(\\log^2{\\frac{1}{\\epsilon}}\n",
    "           + \\log{\\left(\\frac{1}{\\epsilon}\\right)}\n",
    "             \\log{\\left(\\log{\\left(\\frac{1}{\\epsilon}\\right)}\\right)}\\right)\n",
    "\\end{aligned}$$\n",
    "\n",
    "#### Parameters\n",
    " - `cost_reg`: Cost register of dtype `QFxp`. Supports arbitrary `QFxp` types, including signed and unsigned.\n",
    " - `gamma`: Scaling factor to multiply the cost register by, before applying the phase. Can be arbitrary floating point number.\n",
    " - `eps`: Precision for synthesizing the phases.\n"
   ]
  },
  {
   "cell_type": "code",
   "execution_count": null,
   "id": "d6ee3182",
   "metadata": {
    "cq.autogen": "QvrZPow.bloq_doc.py"
   },
   "outputs": [],
   "source": [
    "from qualtran.bloqs.rotations.quantum_variable_rotation import QvrZPow"
   ]
  },
  {
   "cell_type": "markdown",
   "id": "1293336c",
   "metadata": {
    "cq.autogen": "QvrZPow.example_instances.md"
   },
   "source": [
    "### Example Instances"
   ]
  },
  {
   "cell_type": "code",
   "execution_count": null,
   "id": "40bcf22d",
   "metadata": {
    "cq.autogen": "QvrZPow.qvr_zpow"
   },
   "outputs": [],
   "source": [
    "qvr_zpow = QvrZPow.from_bitsize(12, gamma=0.1, eps=1e-2)"
   ]
  },
  {
   "cell_type": "markdown",
   "id": "be0b667d",
   "metadata": {
    "cq.autogen": "QvrZPow.graphical_signature.md"
   },
   "source": [
    "#### Graphical Signature"
   ]
  },
  {
   "cell_type": "code",
   "execution_count": null,
   "id": "c141bb25",
   "metadata": {
    "cq.autogen": "QvrZPow.graphical_signature.py"
   },
   "outputs": [],
   "source": [
    "from qualtran.drawing import show_bloqs\n",
    "show_bloqs([qvr_zpow],\n",
    "           ['`qvr_zpow`'])"
   ]
  },
  {
   "cell_type": "markdown",
   "id": "c962082a",
   "metadata": {
    "cq.autogen": "QvrZPow.call_graph.md"
   },
   "source": [
    "### Call Graph"
   ]
  },
  {
   "cell_type": "code",
   "execution_count": null,
   "id": "f1cbbf9b",
   "metadata": {
    "cq.autogen": "QvrZPow.call_graph.py"
   },
   "outputs": [],
   "source": [
    "from qualtran.resource_counting.generalizers import ignore_split_join\n",
    "qvr_zpow_g, qvr_zpow_sigma = qvr_zpow.call_graph(max_depth=1, generalizer=ignore_split_join)\n",
    "show_call_graph(qvr_zpow_g)\n",
    "show_counts_sigma(qvr_zpow_sigma)"
   ]
  },
  {
   "cell_type": "markdown",
   "id": "131c0c51",
   "metadata": {
    "cq.autogen": "QvrPhaseGradient.bloq_doc.md"
   },
   "source": [
    "## `QvrPhaseGradient`\n",
    "QVR oracle that applies a rotation via addition into the phase gradient register.\n",
    "\n",
    "A $b_\\text{grad}$-bit phase gradient state $|\\phi\\rangle_{b_\\text{grad}}$ can be written as\n",
    "\n",
    "$$\n",
    "\\begin{aligned}\n",
    "|\\phi\\rangle_{b_\\text{grad}} &= \\frac{1}{\\sqrt{2^{b_\\text{grad}}}}\n",
    "                                \\sum_{k=0}^{2^{b_\\text{grad}} - 1}\n",
    "                                e^{\\frac{-2\\pi i k}{2^{b_\\text{grad}}}}\n",
    "                                |\\frac{k}{2^{b_\\text{grad}}}\\rangle \\\\\n",
    "                             &= \\text{QVR}_{(b_\\text{grad}, b_\\text{grad}), \\epsilon}(-1)\n",
    "                                |+\\rangle ^ {b_\\text{grad}}\n",
    "\\end{aligned}\n",
    "$$\n",
    "\n",
    "In the above equation $\\frac{k}{2^{b_\\text{grad}}}$ represents a fixed point fraction. In\n",
    "Qualtran, we can represent such a quantum register using quantum data type\n",
    "`QFxp(bitsize=b_grad, num_frac=b_grad, signed=False)`. Let\n",
    "$\\tilde{k}=\\frac{k}{2^{b_\\text{grad}}}$ be a $b_\\text{grad}$-bit fixed point fraction,\n",
    "we can rewrite the phase gradient state as\n",
    "\n",
    "\n",
    "$$\n",
    "    |\\phi\\rangle_{b_\\text{grad}} = \\frac{1}{\\sqrt{2^{b_\\text{grad}}}}\n",
    "    \\sum_{\\tilde{k}=0}^{\\frac{2^{b_\\text{grad}}-1}{2^{b_\\text{grad}}}}\n",
    "    e^{-2\\pi i \\tilde{k}} \\ket{\\tilde{k}}\n",
    "$$\n",
    "\n",
    "\n",
    "A useful property of the phase gradient state is that adding a fixed-point number\n",
    "$\\tilde{l}$ to the state applies a phase-kickback of $e^{2\\pi i \\tilde{l}}$\n",
    "\n",
    "$$\n",
    "|\\phi + \\tilde{l}\\rangle_{b_\\text{grad}} = e^{2\\pi i \\tilde{l}}|\\phi\\rangle_{b_\\text{grad}}\n",
    "$$\n",
    "\n",
    "We exploit this property of the phase gradient states to implement a quantum variable\n",
    "rotation via addition into the phase gradient state s.t.\n",
    "\n",
    "$$\\begin{aligned}\n",
    "    \\text{QVR}_{n,\\epsilon}(\\gamma)|x\\rangle|\\phi\\rangle &=|x\\rangle|\\phi+\\gamma x\\rangle \\\\\n",
    "                                      &= e^{2\\pi i \\gamma x}|x\\rangle |\\phi\\rangle\n",
    "\\end{aligned}$$\n",
    "\n",
    "A number of subtleties arise as part of this procedure and we describe them below one by one.\n",
    "\n",
    "- **Adding a scaled value into phase gradient register** Instead of computing $\\gamma x$ an\n",
    "    intermediate register, we perform the multiplication via repeated additions into the phase\n",
    "    gradient register, as described in [2]. This requires us to represent $\\gamma$ as a fixed\n",
    "    point fraction with bitsize $\\gamma_\\text{bitsize}$. This procedure introduces two sources\n",
    "    of errors:\n",
    "    - **Errors due to fixed point representation of $\\gamma$** - Note that adding any fixed\n",
    "        point number of the form $a.b$ to the phase gradient register is equivalent to adding\n",
    "        $0.b$ since $e^{2\\pi i a} = 1$ for every integer $a$. Let $\\tilde{\\gamma} = a.b$ and\n",
    "        $x = p.q$ be fixed point decimal representations of $\\gamma$ and $x$. We can write\n",
    "        the product $\\gamma x$ as\n",
    "    $$\n",
    "          \\tilde{\\gamma} x = (\\sum_{i=0}^{\\gamma_\\text{n\\_int}} a_{i} * 2^{i} +\n",
    "          \\sum_{i=1}^{\\gamma_\\text{n\\_frac}} \\frac{b_i}{2^i}) (\\sum_{j=0}^{x_\\text{n\\_int}}\n",
    "          p_{j} * 2^{j} + \\sum_{j=1}^{x_\\text{n\\_frac}} \\frac{q_{j}}{2^{j}})\n",
    "    $$\n",
    "    In order to compute $\\tilde{\\gamma} x$ to precision $\\frac{\\epsilon}{2\\pi}$, we can\n",
    "    ignore all terms in the above summation that are < $\\frac{\\epsilon}{2\\pi}$.\n",
    "    Let $b_\\text{phase} = \\log_2{\\frac{2\\pi}{\\epsilon}}$, then we get\n",
    "    $\\gamma_\\text{n\\_frac} = x_\\text{n\\_int} + b_\\text{phase}$. Thus,\n",
    "\n",
    "    $$\\begin{aligned}\n",
    "          \\gamma_\\text{bitsize} &= \\gamma_\\text{n\\_int} + x_\\text{n\\_int} + b_\\text{phase} \\\\\n",
    "                                &\\approxeq \\log_2{\\frac{1}{\\epsilon}} + x_\\text{n\\_int} + O(1)\n",
    "    \\end{aligned}$$\n",
    "\n",
    "    - **Errors due to truncation of digits of $|x\\rangle$ during multiplication via repeated\n",
    "        addition** - Let $b_\\text{grad}$ be the size of the phase gradient register. When\n",
    "        adding left/right shifted copies of state $x$ to the phase gradient register, we incur\n",
    "        an error every time the fractional part of the shifted state to be added needs to be\n",
    "        truncated to $b_\\text{grad}$ digits. For each such addition the error is upper bounded\n",
    "        by $\\frac{2\\pi}{2^{b_\\text{grad}}}$, because we omit adding bits that would correspond\n",
    "        to phase shifts of $\\frac{2\\pi}{2^{b_\\text{grad}+1}}$, $\\frac{2\\pi}{2^{b_\\text{grad}+2}}$,\n",
    "        and so forth. The number of such additions can be upper bounded by\n",
    "        $\\frac{(\\gamma_\\text{bitsize} + 2)}{2}$ using techniques from [2].\n",
    "\n",
    "      - **When $b_\\text{grad} \\geq x_\\text{bitsize}$**:  the first $x_\\text{n\\_int}$ additions\n",
    "        do not contribute to any phase error and thus the number of error causing additions can\n",
    "        be upper bounded by $\\frac{(b_\\text{phase} + 2)}{2}$. In order to keep the error less\n",
    "        than $\\epsilon$, we get\n",
    "        $$\\begin{aligned}\n",
    "        b_\\text{grad}&=\\left\\lceil\\log_2{\\frac{\\text{num\\_additions}\\times2\\pi}{\\epsilon}}\n",
    "                    \\right\\rceil \\\\\n",
    "                    &=\\left\\lceil\\log_2{\\frac{(b_\\text{phase}+2)\\pi}{\\epsilon}}\\right\\rceil\n",
    "                    \\text{; if }\n",
    "                    b_\\text{grad} \\geq x_\\text{bitsize}  \\\\\n",
    "        \\end{aligned}$$\n",
    "      - **When $b_\\text{grad} \\lt x_\\text{bitsize}$**: We believe that the above precision for\n",
    "        $b_\\text{grad}$ holds even for this case we have some numerics in tests to verify that.\n",
    "        Currently, `QvrPhaseGradient` always sets the bitsize of phase gradient register as per\n",
    "        the above equation.\n",
    "\n",
    "- **Constraints on $\\gamma$ and $|x\\rangle$** - In the current implementation, $\\gamma$ can be\n",
    "    any arbitrary floating point number (signed or unsigned) and $|x\\rangle$ must be an unsigned\n",
    "    fixed point register.\n",
    "\n",
    "- **Cost of the phase gradient procedure** - Each addition into the phase gradient register\n",
    "    costs $b_\\text{grad} - 2$ Toffoli's and there are $\\frac{\\gamma_\\text{bitsize} + 2}{2}$\n",
    "    such additions, therefore the total Toffoli cost is\n",
    "\n",
    "    $$\\begin{aligned}\n",
    "    \\text{T-Cost} &= \\frac{(b_\\text{grad} - 2)(\\gamma_\\text{bitsize} + 2)}{2} \\\\\n",
    "              &\\approxeq \\mathcal{O}\\left(\\log^2{\\frac{1}{\\epsilon}} +\n",
    "              \\log{\\left(\\frac{1}{\\epsilon}\\right)}\n",
    "              \\log{\\left(\\log{\\left(\\frac{1}{\\epsilon}\\right)}\\right)}\\right)\n",
    "    \\end{aligned}$$\n",
    "\n",
    "\n",
    "Thus, for cases where $-1\\lt \\gamma \\lt 1$ and $0 \\leq x \\lt 1$, the toffoli cost scales\n",
    "as $\\mathcal{O}\\left(\\log^2{\\frac{1}{\\epsilon}} \\log{\\log{\\frac{1}{\\epsilon}}}\\right)$\n",
    "\n",
    "#### References\n",
    " - [Compilation of Fault-Tolerant Quantum Heuristics for Combinatorial Optimization](https://arxiv.org/abs/2007.07391). Section II-C: Oracles for phasing by cost function. Appendix A: Addition for controlled rotations\n"
   ]
  },
  {
   "cell_type": "code",
   "execution_count": null,
   "id": "239b5602",
   "metadata": {
    "cq.autogen": "QvrPhaseGradient.bloq_doc.py"
   },
   "outputs": [],
   "source": [
    "from qualtran.bloqs.rotations.quantum_variable_rotation import QvrPhaseGradient"
   ]
  },
  {
   "cell_type": "markdown",
   "id": "143b2bad",
   "metadata": {
    "cq.autogen": "QvrPhaseGradient.example_instances.md"
   },
   "source": [
    "### Example Instances"
   ]
  },
  {
   "cell_type": "code",
   "execution_count": null,
   "id": "70b36064",
   "metadata": {
    "cq.autogen": "QvrPhaseGradient.qvr_phase_gradient"
   },
   "outputs": [],
   "source": [
    "qvr_phase_gradient = QvrPhaseGradient.from_bitsize(12, gamma=0.1, eps=1e-4)"
   ]
  },
  {
   "cell_type": "markdown",
   "id": "7dcbe818",
   "metadata": {
    "cq.autogen": "QvrPhaseGradient.graphical_signature.md"
   },
   "source": [
    "#### Graphical Signature"
   ]
  },
  {
   "cell_type": "code",
   "execution_count": null,
   "id": "04dcad77",
   "metadata": {
    "cq.autogen": "QvrPhaseGradient.graphical_signature.py"
   },
   "outputs": [],
   "source": [
    "from qualtran.drawing import show_bloqs\n",
    "show_bloqs([qvr_phase_gradient],\n",
    "           ['`qvr_phase_gradient`'])"
   ]
  },
  {
   "cell_type": "markdown",
   "id": "e42e352a",
   "metadata": {
    "cq.autogen": "QvrPhaseGradient.call_graph.md"
   },
   "source": [
    "### Call Graph"
   ]
  },
  {
   "cell_type": "code",
   "execution_count": null,
   "id": "5f6858ff",
   "metadata": {
    "cq.autogen": "QvrPhaseGradient.call_graph.py"
   },
   "outputs": [],
   "source": [
    "from qualtran.resource_counting.generalizers import ignore_split_join\n",
    "qvr_phase_gradient_g, qvr_phase_gradient_sigma = qvr_phase_gradient.call_graph(max_depth=1, generalizer=ignore_split_join)\n",
    "show_call_graph(qvr_phase_gradient_g)\n",
    "show_counts_sigma(qvr_phase_gradient_sigma)"
   ]
  },
  {
   "cell_type": "markdown",
   "id": "c6699238-870e-4bb6-8aa3-51a7569412d8",
   "metadata": {},
   "source": [
    "## QVR Cost analysis"
   ]
  },
  {
   "cell_type": "markdown",
   "id": "b2ab12f9-3646-4ca8-a1dd-1a214d2bc3a7",
   "metadata": {},
   "source": [
    "### T-Count Expression for `QvrZpow`"
   ]
  },
  {
   "cell_type": "code",
   "execution_count": null,
   "id": "9c7c96f5-3acd-4ba3-a243-fcbc30919a7b",
   "metadata": {},
   "outputs": [],
   "source": [
    "from qualtran.cirq_interop.t_complexity_protocol import TComplexity\n",
    "\n",
    "def get_t_counts_qvr_zpow(n, gamma, eps):\n",
    "    _, sigma = QvrZPow.from_bitsize(n, gamma, eps).call_graph()\n",
    "    (bloq, counts), = [*sigma.items()]\n",
    "    return TComplexity.rotation_cost(bloq.eps) * counts\n",
    "\n",
    "\n",
    "get_t_counts_qvr_zpow(*sympy.symbols('n, \\gamma, \\epsilon'))"
   ]
  },
  {
   "cell_type": "markdown",
   "id": "16a8dd4d-1c00-4eea-9cb2-f025c8cde23e",
   "metadata": {},
   "source": [
    "### T-Count Expression for `QvrPhaseGradient`"
   ]
  },
  {
   "cell_type": "code",
   "execution_count": null,
   "id": "0df0d697-ca91-4d0e-b629-d7265615e98d",
   "metadata": {},
   "outputs": [],
   "source": [
    "from qualtran.resource_counting.t_counts_from_sigma import t_counts_from_sigma\n",
    "\n",
    "def get_t_counts_qvr_phase_gradient(n, gamma, eps):\n",
    "    _, sigma = QvrPhaseGradient.from_bitsize(n, gamma, eps).call_graph()\n",
    "    return t_counts_from_sigma(sigma)\n",
    "\n",
    "\n",
    "get_t_counts_qvr_phase_gradient(*sympy.symbols('n, \\gamma, \\epsilon'))"
   ]
  },
  {
   "cell_type": "markdown",
   "id": "0df5e681-815b-4381-8b2d-2b42fed91d3b",
   "metadata": {},
   "source": [
    "### b_grad($\\epsilon$) assuming $n=\\log_2(\\frac{2\\pi}{\\epsilon})$ and various fixed values of $\\gamma$"
   ]
  },
  {
   "cell_type": "code",
   "execution_count": null,
   "id": "bfcfdcbc-7339-42fe-a94b-a3bef148b8ee",
   "metadata": {},
   "outputs": [],
   "source": [
    "import matplotlib.pyplot as plt\n",
    "\n",
    "num_eps = 20\n",
    "eps_vals = [1/2**i for i in range(1, num_eps)]\n",
    "n_vals = [int(np.ceil(np.log2(2 * np.pi / eps))) for eps in eps_vals]\n",
    "x_vals = [i for i in range(1, num_eps)]\n",
    "\n",
    "bgrad_formula, bgrad_opt = [], []\n",
    "gamma_ones = [i for i in range(1, 30, 4)]\n",
    "for n_ones in gamma_ones:\n",
    "    gamma = (2**n_ones - 1)/2**n_ones\n",
    "    curr_formula, curr_opt = [], []\n",
    "    for n, eps in zip(n_vals, eps_vals):\n",
    "        bloq = QvrPhaseGradient.from_bitsize(n, gamma, eps)\n",
    "        curr_formula.append(bloq.b_grad_via_formula)\n",
    "        curr_opt.append(bloq.b_grad_via_fxp_optimization)\n",
    "    bgrad_formula.append(tuple(curr_formula))\n",
    "    bgrad_opt.append(tuple(curr_opt))\n",
    "\n",
    "\n",
    "plt.figure(figsize=(16,6))\n",
    "for i, n_ones in enumerate(gamma_ones):\n",
    "    gamma_str = f\"1/2^{{{n_ones}}}\"\n",
    "    plt.plot(x_vals, bgrad_formula[i], label=f'bgrad formula, $\\gamma={gamma_str}$')\n",
    "    plt.plot(x_vals, bgrad_opt[i], label=f'bgrad opt, $\\gamma={gamma_str}$', linestyle='--')\n",
    "\n",
    "x_labels = [f'{x}|{n}' for x, n in  zip(x_vals, n_vals)]\n",
    "plt.xticks(ticks=x_vals, labels=x_labels)\n",
    "plt.title(r'b_grad($\\epsilon$) assuming $n=\\log_2(\\frac{2\\pi}{\\epsilon})$ and various fixed values of $\\gamma$')\n",
    "plt.ylabel(r'Size of b_grad for $\\text{QVR}_{n, \\epsilon}(\\gamma)$ where $n=\\log_2(\\frac{2\\pi}{\\epsilon})$')\n",
    "plt.xlabel(r'-$\\log_{2}(\\epsilon)$ | $n=\\log_2(\\frac{2\\pi}{\\epsilon})$')\n",
    "plt.legend()"
   ]
  },
  {
   "cell_type": "markdown",
   "id": "7fa7a0b9-c5a7-4891-bbde-107451a20f8b",
   "metadata": {},
   "source": [
    "### b_grad($n$) assuming a fixed $\\epsilon = 10^{-12}$ and various fixed values of $\\gamma$"
   ]
  },
  {
   "cell_type": "code",
   "execution_count": null,
   "id": "bc65de32-15c7-4c44-9638-487bf6fcaba9",
   "metadata": {},
   "outputs": [],
   "source": [
    "import matplotlib.pyplot as plt\n",
    "\n",
    "eps = 1e-12\n",
    "n_vals = [*range(1, 50)]\n",
    "\n",
    "x_vals = [n for n in n_vals]\n",
    "bgrad_formula, bgrad_opt = [], []\n",
    "gamma_ones = [i for i in range(1, 30, 4)]\n",
    "for n_ones in gamma_ones:\n",
    "    gamma = (2**n_ones - 1)/2**n_ones\n",
    "    curr_formula, curr_opt = [], []\n",
    "    for n in n_vals:\n",
    "        bloq = QvrPhaseGradient.from_bitsize(n, gamma, eps)\n",
    "        curr_formula.append(bloq.b_grad_via_formula)\n",
    "        curr_opt.append(bloq.b_grad_via_fxp_optimization)\n",
    "    bgrad_formula.append(tuple(curr_formula))\n",
    "    bgrad_opt.append(tuple(curr_opt))\n",
    "\n",
    "\n",
    "plt.figure(figsize=(16,6))\n",
    "for i, n_ones in enumerate(gamma_ones):\n",
    "    gamma_str = f\"1 - 1/2^{{{n_ones}}}\"\n",
    "    plt.plot(x_vals, bgrad_formula[i], label=f'bgrad formula, $\\gamma={gamma_str}$')\n",
    "    plt.plot(x_vals, bgrad_opt[i], label=f'bgrad opt, $\\gamma={gamma_str}$', linestyle='--')\n",
    "\n",
    "plt.title(r'b_grad($n$) assuming a fixed $\\epsilon = 10^{-12}$ and various fixed values of $\\gamma$')\n",
    "plt.ylabel(r'Size of b_grad for $\\text{QVR}_{n, \\epsilon}(\\gamma)$ where $\\epsilon=10^{-12}$')\n",
    "plt.xlabel(r'Size of the cost register - $n$')\n",
    "plt.legend()"
   ]
  },
  {
   "cell_type": "markdown",
   "id": "39c8d4c2-d903-43bb-af30-8495337ff949",
   "metadata": {},
   "source": [
    "### T-Counts($\\epsilon$) assuming $n=\\log_2(\\frac{2\\pi}{\\epsilon})$ and various fixed values of $\\gamma$"
   ]
  },
  {
   "cell_type": "code",
   "execution_count": null,
   "id": "d31f9864-8c63-42af-a52d-15e78ee67ba4",
   "metadata": {},
   "outputs": [],
   "source": [
    "import matplotlib.pyplot as plt\n",
    "\n",
    "num_eps = 20\n",
    "x_vals = [i for i in range(1, num_eps)]\n",
    "eps_vals = [1/10**i for i in range(1, num_eps)]\n",
    "n_vals = [int(np.ceil(np.log2(2 * np.pi / eps))) for eps in eps_vals]\n",
    "zpow_vals = [get_t_counts_qvr_zpow(n, 1, eps) for n, eps in zip(n_vals, eps_vals)]\n",
    "\n",
    "pg = []\n",
    "gamma_ones = [i for i in range(1, 30, 4)]\n",
    "for n_ones in gamma_ones:\n",
    "    gamma = (2**n_ones - 1)/2**n_ones\n",
    "    pg.append([get_t_counts_qvr_phase_gradient(n, gamma, eps) for n, eps in zip(n_vals, eps_vals)])\n",
    "\n",
    "\n",
    "plt.figure(figsize=(16,6))\n",
    "plt.plot(x_vals, zpow_vals, label=r'zpow (does not depend on $\\gamma$)', linestyle='--')\n",
    "for i, n_ones in enumerate(gamma_ones):\n",
    "    plt.plot(x_vals, pg[i], label=f'phase gradient, $\\gamma=0.{\"1\"*n_ones}$')\n",
    "\n",
    "x_labels = [f'{x}|{n}' for x, n in  zip(x_vals, n_vals)]\n",
    "plt.xticks(ticks=x_vals, labels=x_labels)\n",
    "plt.title(r'T-Counts($\\epsilon$) assuming $n=\\log_2(\\frac{2\\pi}{\\epsilon})$ and various fixed values of $\\gamma$')\n",
    "plt.ylabel(r'T-cost of $\\text{QVR}_{n, \\epsilon}(\\gamma)$ where $n=\\log_2(\\frac{2\\pi}{\\epsilon})$')\n",
    "plt.xlabel(r'-$\\log_{10}(\\epsilon)$ | $n=\\log_2(\\frac{2\\pi}{\\epsilon})$')\n",
    "plt.legend()"
   ]
  },
  {
   "cell_type": "markdown",
   "id": "e49c8b45-d3fa-4a0c-8c82-46b8cdce82b4",
   "metadata": {},
   "source": [
    "### T-Counts($n$) assuming a fixed $\\epsilon = 10^{-12}$ and various fixed values of $\\gamma$"
   ]
  },
  {
   "cell_type": "code",
   "execution_count": null,
   "id": "ab44b347-710b-42a2-8aaa-03256b91fb44",
   "metadata": {},
   "outputs": [],
   "source": [
    "import matplotlib.pyplot as plt\n",
    "\n",
    "eps = 1e-12\n",
    "n_vals = [*range(1, 70)]\n",
    "\n",
    "zpow_vals = [get_t_counts_qvr_zpow(n, 1, eps) for n in n_vals]\n",
    "\n",
    "pg = []\n",
    "for n_ones in gamma_ones:\n",
    "    gamma = (2**n_ones - 1)/2**n_ones\n",
    "    pg.append([get_t_counts_qvr_phase_gradient(n, gamma, eps) for n in n_vals])\n",
    "\n",
    "plt.figure(figsize=(12,6))\n",
    "\n",
    "x_vals = [n for n in n_vals]\n",
    "plt.plot(x_vals, zpow_vals, label=r'zpow (does not depend on $\\gamma$)', linestyle='--')\n",
    "for i, n_ones in enumerate(gamma_ones):\n",
    "    plt.plot(x_vals, pg[i], label=f'phase gradient, $\\gamma=0.{\"1\"*n_ones}$')\n",
    "plt.title(r'T-Counts($n$) assuming a fixed $\\epsilon = 10^{-12}$ and various fixed values of $\\gamma$')\n",
    "plt.ylabel(r'T-cost of $\\text{QVR}_{n, \\epsilon}(\\gamma)$ where $\\epsilon=10^{-12}$')\n",
    "plt.xlabel(r'Size of the cost register - $n$')\n",
    "plt.legend()"
   ]
  },
  {
   "cell_type": "code",
   "execution_count": null,
   "id": "bf3533d5-9423-42b6-9963-30e008e570ec",
   "metadata": {},
   "outputs": [],
   "source": []
  }
 ],
 "metadata": {
  "kernelspec": {
   "display_name": "Python 3 (ipykernel)",
   "language": "python",
   "name": "python3"
  },
  "language_info": {
   "codemirror_mode": {
    "name": "ipython",
    "version": 3
   },
   "file_extension": ".py",
   "mimetype": "text/x-python",
   "name": "python",
   "nbconvert_exporter": "python",
   "pygments_lexer": "ipython3",
   "version": "3.11.8"
  }
 },
 "nbformat": 4,
 "nbformat_minor": 5
}
