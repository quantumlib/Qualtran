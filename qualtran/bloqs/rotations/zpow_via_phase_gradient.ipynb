{
 "cells": [
  {
   "cell_type": "markdown",
   "id": "7e96cff5",
   "metadata": {
    "cq.autogen": "title_cell"
   },
   "source": [
    "# ZPow Rotation via Phase Gradient"
   ]
  },
  {
   "cell_type": "code",
   "execution_count": null,
   "id": "197bfd0b",
   "metadata": {
    "cq.autogen": "top_imports"
   },
   "outputs": [],
   "source": [
    "from qualtran import Bloq, CompositeBloq, BloqBuilder, Signature, Register\n",
    "from qualtran import QBit, QInt, QUInt, QAny\n",
    "from qualtran.drawing import show_bloq, show_call_graph, show_counts_sigma\n",
    "from typing import *\n",
    "import numpy as np\n",
    "import sympy\n",
    "import cirq"
   ]
  },
  {
   "cell_type": "markdown",
   "id": "a1b0782f",
   "metadata": {
    "cq.autogen": "ZPowConstViaPhaseGradient.bloq_doc.md"
   },
   "source": [
    "## `ZPowConstViaPhaseGradient`\n",
    "Apply an $Z**t$ on a qubit using a phase gradient state.\n",
    "\n",
    "This bloq implements a `Z**t` by conditionally loading `t/2` into a quantum\n",
    "register, conditioned on the qubit `q` (rotation target), and then adding\n",
    "this value to the phase gradient to get a phase kickback, and uncomputes the load.\n",
    "This controlled-load trick is taken from Ref. [2], Fig 2a.\n",
    "\n",
    "See :class:`PhaseGradientState` for details on phase gradients.\n",
    "\n",
    "It loads an approximation of `t/2` to `phase_grad_bitsize` bits,\n",
    "which is loaded using `phase_grad_bitsize` clean ancilla.\n",
    "\n",
    "The total Tofolli cost is `phase_grad_bitsize - 2`.\n",
    "\n",
    "\n",
    "#### Parameters\n",
    " - `exponent`: value of `t` to apply `Z**t`\n",
    " - `phase_grad_bitsize`: number of qubits of the phase gradient state. \n",
    "\n",
    "#### Registers\n",
    " - `q`: qubit to apply rotation on.\n",
    " - `phase_grad`: phase gradient state of type `QFxp` with `phase_grad_bitsize` fractional bits. \n",
    "\n",
    "#### References\n",
    " - [Improved quantum circuits for elliptic curve discrete logarithms](https://arxiv.org/abs/2001.09580). Haner et al. 2020. Section 3: Components. \"Integer addition\" and Fig 2a.\n"
   ]
  },
  {
   "cell_type": "code",
   "execution_count": null,
   "id": "d9111c04",
   "metadata": {
    "cq.autogen": "ZPowConstViaPhaseGradient.bloq_doc.py"
   },
   "outputs": [],
   "source": [
    "from qualtran.bloqs.rotations import ZPowConstViaPhaseGradient"
   ]
  },
  {
   "cell_type": "markdown",
   "id": "b09c61b5",
   "metadata": {
    "cq.autogen": "ZPowConstViaPhaseGradient.example_instances.md"
   },
   "source": [
    "### Example Instances"
   ]
  },
  {
   "cell_type": "code",
   "execution_count": null,
   "id": "ab048833",
   "metadata": {
    "cq.autogen": "ZPowConstViaPhaseGradient.zpow_const_via_phase_grad"
   },
   "outputs": [],
   "source": [
    "zpow_const_via_phase_grad = ZPowConstViaPhaseGradient.from_precision(3 / 8, eps=1e-11)"
   ]
  },
  {
   "cell_type": "code",
   "execution_count": null,
   "id": "f61b0a60",
   "metadata": {
    "cq.autogen": "ZPowConstViaPhaseGradient.zpow_const_via_phase_grad_symb_prec"
   },
   "outputs": [],
   "source": [
    "eps = sympy.symbols(\"eps\")\n",
    "zpow_const_via_phase_grad_symb_prec = ZPowConstViaPhaseGradient.from_precision(3 / 8, eps=eps)"
   ]
  },
  {
   "cell_type": "code",
   "execution_count": null,
   "id": "66d60de6",
   "metadata": {
    "cq.autogen": "ZPowConstViaPhaseGradient.zpow_const_via_phase_grad_symb_angle"
   },
   "outputs": [],
   "source": [
    "t = sympy.symbols(\"t\")\n",
    "zpow_const_via_phase_grad_symb_angle = ZPowConstViaPhaseGradient.from_precision(t, eps=1e-11)"
   ]
  },
  {
   "cell_type": "markdown",
   "id": "9b31feb6",
   "metadata": {
    "cq.autogen": "ZPowConstViaPhaseGradient.graphical_signature.md"
   },
   "source": [
    "#### Graphical Signature"
   ]
  },
  {
   "cell_type": "code",
   "execution_count": null,
   "id": "faa5dba0",
   "metadata": {
    "cq.autogen": "ZPowConstViaPhaseGradient.graphical_signature.py"
   },
   "outputs": [],
   "source": [
    "from qualtran.drawing import show_bloqs\n",
    "show_bloqs([zpow_const_via_phase_grad, zpow_const_via_phase_grad_symb_prec, zpow_const_via_phase_grad_symb_angle],\n",
    "           ['`zpow_const_via_phase_grad`', '`zpow_const_via_phase_grad_symb_prec`', '`zpow_const_via_phase_grad_symb_angle`'])"
   ]
  },
  {
   "cell_type": "markdown",
   "id": "91234700",
   "metadata": {
    "cq.autogen": "ZPowConstViaPhaseGradient.call_graph.md"
   },
   "source": [
    "### Call Graph"
   ]
  },
  {
   "cell_type": "code",
   "execution_count": null,
   "id": "93ec7137",
   "metadata": {
    "cq.autogen": "ZPowConstViaPhaseGradient.call_graph.py"
   },
   "outputs": [],
   "source": [
    "from qualtran.resource_counting.generalizers import ignore_split_join\n",
    "zpow_const_via_phase_grad_g, zpow_const_via_phase_grad_sigma = zpow_const_via_phase_grad.call_graph(max_depth=1, generalizer=ignore_split_join)\n",
    "show_call_graph(zpow_const_via_phase_grad_g)\n",
    "show_counts_sigma(zpow_const_via_phase_grad_sigma)"
   ]
  }
 ],
 "metadata": {
  "kernelspec": {
   "display_name": "Python 3",
   "language": "python",
   "name": "python3"
  },
  "language_info": {
   "name": "python"
  }
 },
 "nbformat": 4,
 "nbformat_minor": 5
}
