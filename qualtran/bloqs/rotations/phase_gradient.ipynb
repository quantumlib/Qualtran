{
 "cells": [
  {
   "cell_type": "markdown",
   "id": "1a00bfe1",
   "metadata": {
    "cq.autogen": "title_cell"
   },
   "source": [
    "# Rotations via Phase Gradients"
   ]
  },
  {
   "cell_type": "code",
   "execution_count": null,
   "id": "023f9b68",
   "metadata": {
    "cq.autogen": "top_imports"
   },
   "outputs": [],
   "source": [
    "from qualtran import Bloq, CompositeBloq, BloqBuilder, Signature, Register\n",
    "from qualtran import QBit, QInt, QUInt, QAny\n",
    "from qualtran.drawing import show_bloq, show_call_graph, show_counts_sigma\n",
    "from typing import *\n",
    "import numpy as np\n",
    "import sympy\n",
    "import cirq"
   ]
  },
  {
   "cell_type": "markdown",
   "id": "2ff23077",
   "metadata": {
    "cq.autogen": "PhaseGradientUnitary.bloq_doc.md"
   },
   "source": [
    "## `PhaseGradientUnitary`\n",
    "Implementation of (Controlled-/)PhaseGradient unitary gate on an n-bit register.\n",
    "\n",
    "The class supports implementing the phase gradient unitary gate and a controlled version\n",
    "thereof. The n bit phase gradient unitary is defined as\n",
    "\n",
    "$$\n",
    "    \\text{PhaseGrad}_{n, t} = \\sum_{k=0}^{2^{n}-1}|k\\rangle \\langle k| \\omega_{n, t}^{k}\n",
    "$$\n",
    "\n",
    "where\n",
    "\n",
    "$$\n",
    "    \\omega_{n, t} = \\exp\\left(\\frac{2\\pi i t}{2^n}\\right)\n",
    "$$\n",
    "\n",
    "The implementation simply decomposes into $n$ (controlled-) rotations, one on each qubit.\n",
    "\n",
    "#### Registers\n",
    " - `phase_grad`: A THRU register which the phase gradient is applied to. \n",
    "\n",
    "#### References\n",
    " - [Compilation of Fault-Tolerant Quantum Heuristics for Combinatorial Optimization](https://arxiv.org/abs/2007.07391). Appendix A: Addition for controlled rotations\n",
    " - [Halving the cost of quantum addition](https://quantum-journal.org/papers/q-2018-06-18-74/pdf/). \n"
   ]
  },
  {
   "cell_type": "code",
   "execution_count": null,
   "id": "da8e8cb9",
   "metadata": {
    "cq.autogen": "PhaseGradientUnitary.bloq_doc.py"
   },
   "outputs": [],
   "source": [
    "from qualtran.bloqs.rotations.phase_gradient import PhaseGradientUnitary"
   ]
  },
  {
   "cell_type": "markdown",
   "id": "4a61e929",
   "metadata": {
    "cq.autogen": "PhaseGradientUnitary.example_instances.md"
   },
   "source": [
    "### Example Instances"
   ]
  },
  {
   "cell_type": "code",
   "execution_count": null,
   "id": "fb8b2119",
   "metadata": {
    "cq.autogen": "PhaseGradientUnitary.phase_gradient_unitary"
   },
   "outputs": [],
   "source": [
    "phase_gradient_unitary = PhaseGradientUnitary(4)"
   ]
  },
  {
   "cell_type": "markdown",
   "id": "fb1868c8",
   "metadata": {
    "cq.autogen": "PhaseGradientUnitary.graphical_signature.md"
   },
   "source": [
    "#### Graphical Signature"
   ]
  },
  {
   "cell_type": "code",
   "execution_count": null,
   "id": "3dd69f8a",
   "metadata": {
    "cq.autogen": "PhaseGradientUnitary.graphical_signature.py"
   },
   "outputs": [],
   "source": [
    "from qualtran.drawing import show_bloqs\n",
    "show_bloqs([phase_gradient_unitary],\n",
    "           ['`phase_gradient_unitary`'])"
   ]
  },
  {
   "cell_type": "markdown",
   "id": "3d6c5c30",
   "metadata": {
    "cq.autogen": "PhaseGradientUnitary.call_graph.md"
   },
   "source": [
    "### Call Graph"
   ]
  },
  {
   "cell_type": "code",
   "execution_count": null,
   "id": "68ae28a6",
   "metadata": {
    "cq.autogen": "PhaseGradientUnitary.call_graph.py"
   },
   "outputs": [],
   "source": [
    "from qualtran.resource_counting.generalizers import ignore_split_join\n",
    "phase_gradient_unitary_g, phase_gradient_unitary_sigma = phase_gradient_unitary.call_graph(max_depth=1, generalizer=ignore_split_join)\n",
    "show_call_graph(phase_gradient_unitary_g)\n",
    "show_counts_sigma(phase_gradient_unitary_sigma)"
   ]
  },
  {
   "cell_type": "markdown",
   "id": "d572c61b",
   "metadata": {
    "cq.autogen": "PhaseGradientState.bloq_doc.md"
   },
   "source": [
    "## `PhaseGradientState`\n",
    "Prepare a phase gradient state $|\\phi\\rangle$ on a new register of bitsize $b_{grad}$\n",
    "\n",
    "$$\n",
    "    |\\phi\\rangle = \\frac{1}{\\sqrt{2^{n}}} \\sum_{k=0}^{2^{n} - 1} \\omega_{n, t}^{k} |k\\rangle\n",
    "$$\n",
    "\n",
    "where\n",
    "\n",
    "$$\n",
    "    \\omega_{n, t} = \\exp\\left(\\frac{2\\pi i t}{2^n}\\right)\n",
    "$$\n",
    "\n",
    "Allocates / deallocates registers to store the phase gradient state and delegates\n",
    "to the `PhaseGradientUnitary` bloq defined above.\n",
    "\n",
    "#### References\n",
    " - [Compilation of Fault-Tolerant Quantum Heuristics for Combinatorial Optimization](https://arxiv.org/abs/2007.07391). Appendix A: Addition for controlled rotations\n"
   ]
  },
  {
   "cell_type": "code",
   "execution_count": null,
   "id": "ea9d2c04",
   "metadata": {
    "cq.autogen": "PhaseGradientState.bloq_doc.py"
   },
   "outputs": [],
   "source": [
    "from qualtran.bloqs.rotations import PhaseGradientState"
   ]
  },
  {
   "cell_type": "markdown",
   "id": "9b9f4cc7",
   "metadata": {
    "cq.autogen": "PhaseGradientState.example_instances.md"
   },
   "source": [
    "### Example Instances"
   ]
  },
  {
   "cell_type": "code",
   "execution_count": null,
   "id": "d82675a2",
   "metadata": {
    "cq.autogen": "PhaseGradientState.phase_gradient_state"
   },
   "outputs": [],
   "source": [
    "from qualtran import QFxp\n",
    "phase_gradient_state = PhaseGradientState(4)"
   ]
  },
  {
   "cell_type": "markdown",
   "id": "929172e4",
   "metadata": {
    "cq.autogen": "PhaseGradientState.graphical_signature.md"
   },
   "source": [
    "#### Graphical Signature"
   ]
  },
  {
   "cell_type": "code",
   "execution_count": null,
   "id": "93825488",
   "metadata": {
    "cq.autogen": "PhaseGradientState.graphical_signature.py"
   },
   "outputs": [],
   "source": [
    "from qualtran.drawing import show_bloqs\n",
    "show_bloqs([phase_gradient_state],\n",
    "           ['`phase_gradient_state`'])"
   ]
  },
  {
   "cell_type": "markdown",
   "id": "5aba9e2b",
   "metadata": {
    "cq.autogen": "PhaseGradientState.call_graph.md"
   },
   "source": [
    "### Call Graph"
   ]
  },
  {
   "cell_type": "code",
   "execution_count": null,
   "id": "1c258d12",
   "metadata": {
    "cq.autogen": "PhaseGradientState.call_graph.py"
   },
   "outputs": [],
   "source": [
    "from qualtran.resource_counting.generalizers import ignore_split_join\n",
    "phase_gradient_state_g, phase_gradient_state_sigma = phase_gradient_state.call_graph(max_depth=1, generalizer=ignore_split_join)\n",
    "show_call_graph(phase_gradient_state_g)\n",
    "show_counts_sigma(phase_gradient_state_sigma)"
   ]
  },
  {
   "cell_type": "markdown",
   "id": "b6d54adf",
   "metadata": {
    "cq.autogen": "AddIntoPhaseGrad.bloq_doc.md"
   },
   "source": [
    "## `AddIntoPhaseGrad`\n",
    "Quantum-quantum addition into a phase gradient register using $b_{phase} - 2$ Toffolis\n",
    "\n",
    "$$\n",
    "    U|x\\rangle|\\text{phase\\_grad}\\rangle = |x\\rangle|\\text{phase\\_grad} + x\\rangle\n",
    "$$\n",
    "\n",
    "#### Parameters\n",
    " - `x_bitsize`: Size of input register.\n",
    " - `phase_bitsize`: Size of phase gradient register to which the input value should be added.\n",
    " - `right_shift`: An integer specifying the amount by which the input register x should be right shifted before adding to the phase gradient register.\n",
    " - `sign`: Whether the input register x should be  added or subtracted from the phase gradient register.\n",
    " - `controlled_by`: Whether to control this bloq with a ctrl register. When controlled_by=None, this bloq is not controlled. When controlled_by=0, this bloq is active when the ctrl register is 0. When controlled_by=1, this bloq is active when the ctrl register is 1. \n",
    "\n",
    "#### Registers\n",
    " - `- ctrl`: Control THRU register\n",
    " - `- x`: Input THRU register storing input value x to be added to the phase gradient register.\n",
    " - `- phase_grad`: Phase gradient THRU register. \n",
    "\n",
    "#### References\n",
    " - [Compilation of Fault-Tolerant Quantum Heuristics for Combinatorial Optimization](https://arxiv.org/abs/2007.07391). Appendix A: Addition for controlled rotations\n"
   ]
  },
  {
   "cell_type": "code",
   "execution_count": null,
   "id": "705e0252",
   "metadata": {
    "cq.autogen": "AddIntoPhaseGrad.bloq_doc.py"
   },
   "outputs": [],
   "source": [
    "from qualtran.bloqs.rotations import AddIntoPhaseGrad"
   ]
  },
  {
   "cell_type": "markdown",
   "id": "628fe4e3",
   "metadata": {
    "cq.autogen": "AddIntoPhaseGrad.example_instances.md"
   },
   "source": [
    "### Example Instances"
   ]
  },
  {
   "cell_type": "code",
   "execution_count": null,
   "id": "0984e1dd",
   "metadata": {
    "cq.autogen": "AddIntoPhaseGrad.add_into_phase_grad"
   },
   "outputs": [],
   "source": [
    "add_into_phase_grad = AddIntoPhaseGrad(4, 4)"
   ]
  },
  {
   "cell_type": "markdown",
   "id": "9217c298",
   "metadata": {
    "cq.autogen": "AddIntoPhaseGrad.graphical_signature.md"
   },
   "source": [
    "#### Graphical Signature"
   ]
  },
  {
   "cell_type": "code",
   "execution_count": null,
   "id": "6f0dbbe2",
   "metadata": {
    "cq.autogen": "AddIntoPhaseGrad.graphical_signature.py"
   },
   "outputs": [],
   "source": [
    "from qualtran.drawing import show_bloqs\n",
    "show_bloqs([add_into_phase_grad],\n",
    "           ['`add_into_phase_grad`'])"
   ]
  },
  {
   "cell_type": "markdown",
   "id": "b9a03265",
   "metadata": {
    "cq.autogen": "AddIntoPhaseGrad.call_graph.md"
   },
   "source": [
    "### Call Graph"
   ]
  },
  {
   "cell_type": "code",
   "execution_count": null,
   "id": "7bb14a8c",
   "metadata": {
    "cq.autogen": "AddIntoPhaseGrad.call_graph.py"
   },
   "outputs": [],
   "source": [
    "from qualtran.resource_counting.generalizers import ignore_split_join\n",
    "add_into_phase_grad_g, add_into_phase_grad_sigma = add_into_phase_grad.call_graph(max_depth=1, generalizer=ignore_split_join)\n",
    "show_call_graph(add_into_phase_grad_g)\n",
    "show_counts_sigma(add_into_phase_grad_sigma)"
   ]
  },
  {
   "cell_type": "markdown",
   "id": "7cca35d4",
   "metadata": {
    "cq.autogen": "AddScaledValIntoPhaseReg.bloq_doc.md"
   },
   "source": [
    "## `AddScaledValIntoPhaseReg`\n",
    "Optimized quantum-quantum addition into a phase gradient register scaled by a constant $\\gamma$.\n",
    "\n",
    "$$\n",
    "    U(\\gamma)|x\\rangle|\\text{phase_grad}\\rangle = |x\\rangle|\\text{phase_grad} + x * \\gamma\\rangle\n",
    "$$\n",
    "\n",
    "The operation calls `AddIntoPhaseGrad` gate $(\\text{gamma_bitsize} + 2) / 2$ times.\n",
    "\n",
    "#### Parameters\n",
    " - `x_dtype`: Fixed point specification of the input register.\n",
    " - `phase_bitsize`: Size of phase gradient register to which the scaled input should be added.\n",
    " - `gamma`: Floating point scaling factor.\n",
    " - `gamma_dtype`: `QFxp` data type capturing number of bits of precisions to be used for integer and fractional part of `gamma`. \n",
    "\n",
    "#### Registers\n",
    " - `x`: Input THRU register storing input value x to be scaled and added to the phase gradient register.\n",
    " - `phase_grad`: Phase gradient THRU register. \n",
    "\n",
    "#### References\n",
    " - [Compilation of Fault-Tolerant Quantum Heuristics for Combinatorial Optimization](https://arxiv.org/abs/2007.07391). Appendix A: Addition for controlled rotations\n"
   ]
  },
  {
   "cell_type": "code",
   "execution_count": null,
   "id": "2ed29eb4",
   "metadata": {
    "cq.autogen": "AddScaledValIntoPhaseReg.bloq_doc.py"
   },
   "outputs": [],
   "source": [
    "from qualtran.bloqs.rotations import AddScaledValIntoPhaseReg"
   ]
  },
  {
   "cell_type": "markdown",
   "id": "ff3bc5ed",
   "metadata": {
    "cq.autogen": "AddScaledValIntoPhaseReg.example_instances.md"
   },
   "source": [
    "### Example Instances"
   ]
  },
  {
   "cell_type": "code",
   "execution_count": null,
   "id": "d470659a",
   "metadata": {
    "cq.autogen": "AddScaledValIntoPhaseReg.add_scaled_val_into_phase_reg"
   },
   "outputs": [],
   "source": [
    "add_scaled_val_into_phase_reg = AddScaledValIntoPhaseReg(\n",
    "    QFxp(2, 2), phase_bitsize=2, gamma=2, gamma_dtype=QFxp(2, 2)\n",
    ")"
   ]
  },
  {
   "cell_type": "markdown",
   "id": "10b1c40e",
   "metadata": {
    "cq.autogen": "AddScaledValIntoPhaseReg.graphical_signature.md"
   },
   "source": [
    "#### Graphical Signature"
   ]
  },
  {
   "cell_type": "code",
   "execution_count": null,
   "id": "584ab205",
   "metadata": {
    "cq.autogen": "AddScaledValIntoPhaseReg.graphical_signature.py"
   },
   "outputs": [],
   "source": [
    "from qualtran.drawing import show_bloqs\n",
    "show_bloqs([add_scaled_val_into_phase_reg],\n",
    "           ['`add_scaled_val_into_phase_reg`'])"
   ]
  },
  {
   "cell_type": "markdown",
   "id": "105f37bf",
   "metadata": {
    "cq.autogen": "AddScaledValIntoPhaseReg.call_graph.md"
   },
   "source": [
    "### Call Graph"
   ]
  },
  {
   "cell_type": "code",
   "execution_count": null,
   "id": "57ad18ba",
   "metadata": {
    "cq.autogen": "AddScaledValIntoPhaseReg.call_graph.py"
   },
   "outputs": [],
   "source": [
    "from qualtran.resource_counting.generalizers import ignore_split_join\n",
    "add_scaled_val_into_phase_reg_g, add_scaled_val_into_phase_reg_sigma = add_scaled_val_into_phase_reg.call_graph(max_depth=1, generalizer=ignore_split_join)\n",
    "show_call_graph(add_scaled_val_into_phase_reg_g)\n",
    "show_counts_sigma(add_scaled_val_into_phase_reg_sigma)"
   ]
  }
 ],
 "metadata": {
  "kernelspec": {
   "display_name": "Python 3",
   "language": "python",
   "name": "python3"
  },
  "language_info": {
   "name": "python",
   "version": "3.12.2"
  }
 },
 "nbformat": 4,
 "nbformat_minor": 5
}
