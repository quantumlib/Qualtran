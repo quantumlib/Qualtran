{
 "cells": [
  {
   "cell_type": "markdown",
   "id": "cd9af9c1",
   "metadata": {
    "cq.autogen": "title_cell"
   },
   "source": [
    "# Programmable Rotation Gate Array"
   ]
  },
  {
   "cell_type": "code",
   "execution_count": null,
   "id": "d1abb757",
   "metadata": {
    "cq.autogen": "top_imports"
   },
   "outputs": [],
   "source": [
    "from qualtran import Bloq, CompositeBloq, BloqBuilder, Signature, Register\n",
    "from qualtran import QBit, QInt, QUInt, QAny\n",
    "from qualtran.drawing import show_bloq, show_call_graph, show_counts_sigma\n",
    "from typing import *\n",
    "import numpy as np\n",
    "import sympy\n",
    "import cirq"
   ]
  },
  {
   "cell_type": "markdown",
   "id": "c850551e",
   "metadata": {
    "cq.autogen": "ProgrammableRotationGateArray.bloq_doc.md"
   },
   "source": [
    "## `ProgrammableRotationGateArray`\n",
    "An implementation of `ProgrammableRotationGateArrayBase` base class\n",
    "\n",
    "\n",
    "This implementation of the `ProgrammableRotationGateArray` base class expects\n",
    "all interleaved_unitaries to act on the `rotations_target` register.\n",
    "\n",
    "See docstring of `ProgrammableRotationGateArrayBase` for more details."
   ]
  },
  {
   "cell_type": "code",
   "execution_count": null,
   "id": "d53f66f1",
   "metadata": {
    "cq.autogen": "ProgrammableRotationGateArray.bloq_doc.py"
   },
   "outputs": [],
   "source": [
    "from qualtran.bloqs.rotations.programmable_rotation_gate_array import ProgrammableRotationGateArray"
   ]
  },
  {
   "cell_type": "markdown",
   "id": "7a33d905",
   "metadata": {
    "cq.autogen": "ProgrammableRotationGateArray.example_instances.md"
   },
   "source": [
    "### Example Instances"
   ]
  },
  {
   "cell_type": "code",
   "execution_count": null,
   "id": "fc9007a4",
   "metadata": {
    "cq.autogen": "ProgrammableRotationGateArray.programmable_rotation_gate_array"
   },
   "outputs": [],
   "source": [
    "programmable_rotation_gate_array = ProgrammableRotationGateArray(\n",
    "    [1, 2, 3, 4], kappa=2, rotation_gate=cirq.Z\n",
    ")"
   ]
  },
  {
   "cell_type": "markdown",
   "id": "bff17fcf",
   "metadata": {
    "cq.autogen": "ProgrammableRotationGateArray.graphical_signature.md"
   },
   "source": [
    "#### Graphical Signature"
   ]
  },
  {
   "cell_type": "code",
   "execution_count": null,
   "id": "d63ccdd6",
   "metadata": {
    "cq.autogen": "ProgrammableRotationGateArray.graphical_signature.py"
   },
   "outputs": [],
   "source": [
    "from qualtran.drawing import show_bloqs\n",
    "show_bloqs([programmable_rotation_gate_array],\n",
    "           ['`programmable_rotation_gate_array`'])"
   ]
  },
  {
   "cell_type": "markdown",
   "id": "6525116b",
   "metadata": {
    "cq.autogen": "ProgrammableRotationGateArray.call_graph.md"
   },
   "source": [
    "### Call Graph"
   ]
  },
  {
   "cell_type": "code",
   "execution_count": null,
   "id": "aac3adcd",
   "metadata": {
    "cq.autogen": "ProgrammableRotationGateArray.call_graph.py"
   },
   "outputs": [],
   "source": [
    "from qualtran.resource_counting.generalizers import ignore_split_join\n",
    "programmable_rotation_gate_array_g, programmable_rotation_gate_array_sigma = programmable_rotation_gate_array.call_graph(max_depth=1, generalizer=ignore_split_join)\n",
    "show_call_graph(programmable_rotation_gate_array_g)\n",
    "show_counts_sigma(programmable_rotation_gate_array_sigma)"
   ]
  }
 ],
 "metadata": {
  "kernelspec": {
   "display_name": "Python 3",
   "language": "python",
   "name": "python3"
  },
  "language_info": {
   "name": "python"
  }
 },
 "nbformat": 4,
 "nbformat_minor": 5
}
