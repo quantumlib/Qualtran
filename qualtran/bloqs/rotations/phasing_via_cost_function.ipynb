{
 "cells": [
  {
   "cell_type": "markdown",
   "id": "ff057e77",
   "metadata": {
    "cq.autogen": "title_cell"
   },
   "source": [
    "# Phasing via Cost function"
   ]
  },
  {
   "cell_type": "code",
   "execution_count": null,
   "id": "a36fa3ca",
   "metadata": {
    "cq.autogen": "top_imports"
   },
   "outputs": [],
   "source": [
    "from qualtran import Bloq, CompositeBloq, BloqBuilder, Signature, Register\n",
    "from qualtran.drawing import show_bloq, show_call_graph, show_counts_sigma\n",
    "from typing import *\n",
    "import numpy as np\n",
    "import sympy\n",
    "import cirq"
   ]
  },
  {
   "cell_type": "markdown",
   "id": "e730b939",
   "metadata": {
    "cq.autogen": "PhasingViaCostFunction.bloq_doc.md"
   },
   "source": [
    "## `PhasingViaCostFunction`\n",
    "Phases every basis state $|x\\rangle$ by an amount proportional to a cost function $f(x)$\n",
    "\n",
    "This Bloq implements a unitary $U_f(\\gamma)$ which phases each computational state on which\n",
    "the wave-function has support, by an amount proportional to a function of that computational\n",
    "basis state. The general unitary can be defined as\n",
    "$$\n",
    "    U_f(\\gamma) = \\sum_{x=0}^{N-1} e^{i 2 \\pi \\gamma f(x)} |x\\rangle \\langle x|\n",
    "$$\n",
    "\n",
    "The strategy to implement $U_f(\\gamma)$ is to use two oracles $O_\\text{direct}$\n",
    "and $O_\\text{phase}$ s.t.\n",
    "$$\n",
    "U_f(\\gamma) = O_\\text{direct}^\\dagger(\\mathbb{I}\\otimes O_\\text{phase})O_\\text{direct}\n",
    "$$\n",
    "\n",
    "$O^\\text{direct}$ evaluates a $b_\\text{direct}$-bit approximation of the cost function $f(x)$\n",
    "and stores it in a new output cost register. Note that the cost register can represent\n",
    "arbitrary fixed point values and be of type `QFxp(b_direct, n_frac, signed)`.\n",
    "$$\n",
    "O^\\text{direct}|x\\rangle|0\\rangle^{\\otimes b_\\text{direct}}_\\text{cost}=|x\\rangle|f(x)\\rangle\n",
    "$$\n",
    "\n",
    "$O^\\text{phase}$ acts on the cost register computed by $O^\\text{direct}$ and phases the\n",
    "state $|f(x)\\rangle$ by $e^{i 2\\pi \\gamma f(x)}$\n",
    "$$\n",
    "O^\\text{phase}(\\gamma)=\\sum_{k=0}^{2^{b_\\text{direct}}-1}e^{i 2\\pi\\gamma k}|k\\rangle\\langle k|\n",
    "$$\n",
    "\n",
    "\n",
    "Different strategies for implementing the two oracles would give different costs tradeoffs.\n",
    "See `QvrZPow` and `QvrPhaseGradient` for two different implementations of\n",
    "phase oracles described in the reference.\n",
    "\n",
    "#### Parameters\n",
    " - `cost_eval_oracle`: Cost function evaluation oracle. Must compute the cost in a newly allocated RIGHT register.\n",
    " - `phase_oracle`: Oracle to phase the cost register. Must consume the cost register allocated by `cost_eval_oracle` as a THRU input. \n",
    "\n",
    "#### References\n",
    "[Compilation of Fault-Tolerant Quantum Heuristics for Combinatorial Optimization](https://arxiv.org/abs/2007.07391),\n",
    "    Appendix C: Oracles for phasing by cost function\n"
   ]
  },
  {
   "cell_type": "code",
   "execution_count": null,
   "id": "461665ac",
   "metadata": {
    "cq.autogen": "PhasingViaCostFunction.bloq_doc.py"
   },
   "outputs": [],
   "source": [
    "from qualtran.bloqs.rotations.phasing_via_cost_function import PhasingViaCostFunction"
   ]
  },
  {
   "cell_type": "markdown",
   "id": "ee3e0757",
   "metadata": {
    "cq.autogen": "PhasingViaCostFunction.example_instances.md"
   },
   "source": [
    "### Example Instances"
   ]
  },
  {
   "cell_type": "code",
   "execution_count": null,
   "id": "ff92d8f5",
   "metadata": {
    "cq.autogen": "PhasingViaCostFunction.square_via_zpow_phasing"
   },
   "outputs": [],
   "source": [
    "from qualtran import QFxp, Register\n",
    "from qualtran.bloqs.arithmetic import Square\n",
    "from qualtran.bloqs.rotations.quantum_variable_rotation import QvrZPow\n",
    "\n",
    "n, gamma, eps = 5, 0.1234, 1e-8\n",
    "cost_reg = Register('result', QFxp(2 * n, 2 * n, signed=False))\n",
    "cost_eval_oracle = Square(n)\n",
    "phase_oracle = QvrZPow(cost_reg, gamma, eps)\n",
    "square_via_zpow_phasing = PhasingViaCostFunction(cost_eval_oracle, phase_oracle)"
   ]
  },
  {
   "cell_type": "code",
   "execution_count": null,
   "id": "59357cd2",
   "metadata": {
    "cq.autogen": "PhasingViaCostFunction.square_via_phase_gradient"
   },
   "outputs": [],
   "source": [
    "from qualtran import QFxp, Register\n",
    "from qualtran.bloqs.arithmetic import Square\n",
    "from qualtran.bloqs.rotations.quantum_variable_rotation import QvrPhaseGradient\n",
    "\n",
    "n, gamma, eps = 5, 0.1234, 1e-8\n",
    "cost_reg = Register('result', QFxp(2 * n, 2 * n, signed=False))\n",
    "cost_eval_oracle = Square(n)\n",
    "phase_oracle = QvrPhaseGradient(cost_reg, gamma, eps)\n",
    "square_via_phase_gradient = PhasingViaCostFunction(cost_eval_oracle, phase_oracle)"
   ]
  },
  {
   "cell_type": "markdown",
   "id": "5581c747",
   "metadata": {
    "cq.autogen": "PhasingViaCostFunction.graphical_signature.md"
   },
   "source": [
    "#### Graphical Signature"
   ]
  },
  {
   "cell_type": "code",
   "execution_count": null,
   "id": "a9b1feda",
   "metadata": {
    "cq.autogen": "PhasingViaCostFunction.graphical_signature.py"
   },
   "outputs": [],
   "source": [
    "from qualtran.drawing import show_bloqs\n",
    "show_bloqs([square_via_phase_gradient, square_via_zpow_phasing],\n",
    "           ['`square_via_phase_gradient`', '`square_via_zpow_phasing`'])"
   ]
  },
  {
   "cell_type": "markdown",
   "id": "cbb448f5",
   "metadata": {
    "cq.autogen": "PhasingViaCostFunction.call_graph.md"
   },
   "source": [
    "### Call Graph"
   ]
  },
  {
   "cell_type": "code",
   "execution_count": null,
   "id": "24f2a28f",
   "metadata": {
    "cq.autogen": "PhasingViaCostFunction.call_graph.py"
   },
   "outputs": [],
   "source": [
    "square_via_phase_gradient_g, square_via_phase_gradient_sigma = square_via_phase_gradient.call_graph()\n",
    "show_call_graph(square_via_phase_gradient_g)\n",
    "show_counts_sigma(square_via_phase_gradient_sigma)"
   ]
  },
  {
   "cell_type": "code",
   "execution_count": null,
   "id": "d2dd8d24-a723-46e8-80ae-4845be71a1b3",
   "metadata": {},
   "outputs": [],
   "source": [
    "square_via_zpow_phasing_g, square_via_zpow_phasing_sigma = square_via_zpow_phasing.call_graph()\n",
    "show_call_graph(square_via_zpow_phasing_g)\n",
    "show_counts_sigma(square_via_zpow_phasing_sigma)"
   ]
  }
 ],
 "metadata": {
  "kernelspec": {
   "display_name": "Python 3 (ipykernel)",
   "language": "python",
   "name": "python3"
  },
  "language_info": {
   "codemirror_mode": {
    "name": "ipython",
    "version": 3
   },
   "file_extension": ".py",
   "mimetype": "text/x-python",
   "name": "python",
   "nbconvert_exporter": "python",
   "pygments_lexer": "ipython3",
   "version": "3.11.4"
  }
 },
 "nbformat": 4,
 "nbformat_minor": 5
}
