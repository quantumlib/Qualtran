{
 "cells": [
  {
   "cell_type": "markdown",
   "id": "287eb288",
   "metadata": {
    "cq.autogen": "title_cell"
   },
   "source": [
    "# Swap Network"
   ]
  },
  {
   "cell_type": "code",
   "execution_count": null,
   "id": "0aea9bd4",
   "metadata": {
    "cq.autogen": "top_imports"
   },
   "outputs": [],
   "source": [
    "from qualtran import Bloq, CompositeBloq, BloqBuilder, Signature, Register\n",
    "from qualtran.drawing import show_bloq\n",
    "from typing import *\n",
    "import numpy as np"
   ]
  },
  {
   "cell_type": "markdown",
   "id": "8e668982",
   "metadata": {
    "cq.autogen": "_make_CSwap.md"
   },
   "source": [
    "## `CSwap`\n",
    "Swap two registers controlled on a control bit.\n",
    "\n",
    "Implements a multi-target controlled swap unitary $CSWAP_n = |0><0| I + |1><1| SWAP_n$.\n",
    "\n",
    "This decomposes into a qubitwise SWAP on the two target registers, and takes 14*n T-gates.\n",
    "\n",
    "#### Parameters\n",
    " - `bitsize`: The bitsize of each of the two registers being swapped. \n",
    "\n",
    "#### Registers\n",
    " - `ctrl`: the control bit\n",
    " - `x`: the first register\n",
    " - `y`: the second register\n"
   ]
  },
  {
   "cell_type": "code",
   "execution_count": null,
   "id": "7486a640",
   "metadata": {
    "cq.autogen": "_make_CSwap.py"
   },
   "outputs": [],
   "source": [
    "from qualtran.bloqs.basic_gates import CSwap\n",
    "\n",
    "bloq = CSwap(bitsize=64)\n",
    "show_bloq(bloq)"
   ]
  },
  {
   "cell_type": "markdown",
   "id": "714c89db",
   "metadata": {
    "cq.autogen": "_make_CSwapApprox.md"
   },
   "source": [
    "## `CSwapApprox`\n",
    "Approximately implements a multi-target controlled swap unitary using only 4 * n T-gates.\n",
    "\n",
    "Implements $\\mathrm{CSWAP}_n = |0 \\rangle\\langle 0| I + |1 \\rangle\\langle 1| \\mathrm{SWAP}_n$\n",
    "such that the output state is correct up to a global phase factor of +1 / -1.\n",
    "\n",
    "This is useful when the incorrect phase can be absorbed in a garbage state of an algorithm\n",
    "and thus ignored. See the reference for more details.\n",
    "\n",
    "#### Parameters\n",
    " - `bitsize`: The bitsize of the two registers being swapped. \n",
    "\n",
    "#### Registers\n",
    " - `ctrl`: the control bit\n",
    " - `x`: the first register\n",
    " - `y`: the second register \n",
    "\n",
    "#### References\n",
    "[Trading T-gates for dirty qubits in state preparation and unitary synthesis](https://arxiv.org/abs/1812.00954). Low et. al. 2018. See Appendix B.2.c.\n"
   ]
  },
  {
   "cell_type": "code",
   "execution_count": null,
   "id": "0818b4b3",
   "metadata": {
    "cq.autogen": "_make_CSwapApprox.py"
   },
   "outputs": [],
   "source": [
    "from qualtran.bloqs.swap_network import CSwapApprox\n",
    "\n",
    "bloq = CSwapApprox(bitsize=64)\n",
    "show_bloq(bloq)"
   ]
  },
  {
   "cell_type": "markdown",
   "id": "786a4524",
   "metadata": {
    "cq.autogen": "_make_SwapWithZero.md"
   },
   "source": [
    "## `SwapWithZero`\n",
    "Swaps |Psi_0> with |Psi_x> if selection register stores index `x`.\n",
    "\n",
    "Implements the unitary U |x> |Psi_0> |Psi_1> ... |Psi_{n-1}> --> |x> |Psi_x> |Rest of Psi>.\n",
    "Note that the state of `|Rest of Psi>` is allowed to be anything and should not be depended\n",
    "upon.\n",
    "\n",
    "#### References\n",
    "[Trading T-gates for dirty qubits in state preparation and unitary synthesis] (https://arxiv.org/abs/1812.00954). Low, Kliuchnikov, Schaeffer. 2018.\n"
   ]
  },
  {
   "cell_type": "code",
   "execution_count": null,
   "id": "26ca63f7",
   "metadata": {
    "cq.autogen": "_make_SwapWithZero.py"
   },
   "outputs": [],
   "source": [
    "from qualtran.bloqs.swap_network import SwapWithZero\n",
    "\n",
    "bloq = SwapWithZero(selection_bitsize=3, target_bitsize=64, n_target_registers=5)\n",
    "show_bloq(bloq)"
   ]
  }
 ],
 "metadata": {
  "kernelspec": {
   "display_name": "Python 3 (ipykernel)",
   "language": "python",
   "name": "python3"
  },
  "language_info": {
   "codemirror_mode": {
    "name": "ipython",
    "version": 3
   },
   "file_extension": ".py",
   "mimetype": "text/x-python",
   "name": "python",
   "nbconvert_exporter": "python",
   "pygments_lexer": "ipython3",
   "version": "3.10.9"
  }
 },
 "nbformat": 4,
 "nbformat_minor": 5
}
