{
 "cells": [
  {
   "cell_type": "markdown",
   "id": "1f6baa88",
   "metadata": {
    "cq.autogen": "title_cell"
   },
   "source": [
    "# Y Gate"
   ]
  },
  {
   "cell_type": "code",
   "execution_count": null,
   "id": "a4dd57f4",
   "metadata": {
    "cq.autogen": "top_imports"
   },
   "outputs": [],
   "source": [
    "from qualtran import Bloq, CompositeBloq, BloqBuilder, Signature, Register\n",
    "from qualtran import QBit, QInt, QUInt, QAny\n",
    "from qualtran.drawing import show_bloq, show_call_graph, show_counts_sigma\n",
    "from typing import *\n",
    "import numpy as np\n",
    "import sympy\n",
    "import cirq"
   ]
  },
  {
   "cell_type": "markdown",
   "id": "39518f37",
   "metadata": {
    "cq.autogen": "YGate.bloq_doc.md"
   },
   "source": [
    "## `YGate`\n",
    "The Pauli Y gate.\n",
    "\n",
    "This causes a bit flip (with a complex phase): Y|0> = 1j|1>, Y|1> = -1j|0>\n",
    "\n",
    "#### Registers\n",
    " - `q`: The qubit.\n"
   ]
  },
  {
   "cell_type": "code",
   "execution_count": null,
   "id": "4f9aa8e7",
   "metadata": {
    "cq.autogen": "YGate.bloq_doc.py"
   },
   "outputs": [],
   "source": [
    "from qualtran.bloqs.basic_gates import YGate"
   ]
  },
  {
   "cell_type": "markdown",
   "id": "f1dae24e",
   "metadata": {
    "cq.autogen": "YGate.example_instances.md"
   },
   "source": [
    "### Example Instances"
   ]
  },
  {
   "cell_type": "code",
   "execution_count": null,
   "id": "9c3a5a18",
   "metadata": {
    "cq.autogen": "YGate.y_gate"
   },
   "outputs": [],
   "source": [
    "y_gate = YGate()"
   ]
  },
  {
   "cell_type": "markdown",
   "id": "0bcd3fda",
   "metadata": {
    "cq.autogen": "YGate.graphical_signature.md"
   },
   "source": [
    "#### Graphical Signature"
   ]
  },
  {
   "cell_type": "code",
   "execution_count": null,
   "id": "2c5d7345",
   "metadata": {
    "cq.autogen": "YGate.graphical_signature.py"
   },
   "outputs": [],
   "source": [
    "from qualtran.drawing import show_bloqs\n",
    "show_bloqs([y_gate],\n",
    "           ['`y_gate`'])"
   ]
  },
  {
   "cell_type": "code",
   "execution_count": null,
   "id": "7a1ba7bf-de51-496d-b637-9db51ed40cce",
   "metadata": {},
   "outputs": [],
   "source": [
    "show_bloq(y_gate, 'musical_score')"
   ]
  },
  {
   "cell_type": "markdown",
   "id": "5f68305f",
   "metadata": {
    "cq.autogen": "CYGate.bloq_doc.md"
   },
   "source": [
    "## `CYGate`\n",
    "A controlled Y gate.\n",
    "\n",
    "#### Registers\n",
    " - `ctrl`: The control qubit.\n",
    " - `target`: The target qubit.\n"
   ]
  },
  {
   "cell_type": "code",
   "execution_count": null,
   "id": "8fa440cd",
   "metadata": {
    "cq.autogen": "CYGate.bloq_doc.py"
   },
   "outputs": [],
   "source": [
    "from qualtran.bloqs.basic_gates import CYGate"
   ]
  },
  {
   "cell_type": "markdown",
   "id": "6cd4b475",
   "metadata": {
    "cq.autogen": "CYGate.example_instances.md"
   },
   "source": [
    "### Example Instances"
   ]
  },
  {
   "cell_type": "code",
   "execution_count": null,
   "id": "fb197f4d",
   "metadata": {
    "cq.autogen": "CYGate.cy_gate"
   },
   "outputs": [],
   "source": [
    "cy_gate = YGate().controlled()\n",
    "assert isinstance(cy_gate, CYGate)"
   ]
  },
  {
   "cell_type": "markdown",
   "id": "61fdd296",
   "metadata": {
    "cq.autogen": "CYGate.graphical_signature.md"
   },
   "source": [
    "#### Graphical Signature"
   ]
  },
  {
   "cell_type": "code",
   "execution_count": null,
   "id": "ad2d7347",
   "metadata": {
    "cq.autogen": "CYGate.graphical_signature.py"
   },
   "outputs": [],
   "source": [
    "from qualtran.drawing import show_bloqs\n",
    "show_bloqs([cy_gate],\n",
    "           ['`cy_gate`'])"
   ]
  },
  {
   "cell_type": "code",
   "execution_count": null,
   "id": "4242fd0b-17a0-48ad-bae9-ec146c65d810",
   "metadata": {},
   "outputs": [],
   "source": [
    "show_bloq(cy_gate, 'musical_score')"
   ]
  }
 ],
 "metadata": {
  "kernelspec": {
   "display_name": "Python 3 (ipykernel)",
   "language": "python",
   "name": "python3"
  },
  "language_info": {
   "codemirror_mode": {
    "name": "ipython",
    "version": 3
   },
   "file_extension": ".py",
   "mimetype": "text/x-python",
   "name": "python",
   "nbconvert_exporter": "python",
   "pygments_lexer": "ipython3",
   "version": "3.11.8"
  }
 },
 "nbformat": 4,
 "nbformat_minor": 5
}
