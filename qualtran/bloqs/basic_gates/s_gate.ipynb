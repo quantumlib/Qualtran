{
 "cells": [
  {
   "cell_type": "markdown",
   "id": "3a0a8313",
   "metadata": {
    "cq.autogen": "title_cell"
   },
   "source": [
    "# S Gate"
   ]
  },
  {
   "cell_type": "code",
   "execution_count": null,
   "id": "35a51b51",
   "metadata": {
    "cq.autogen": "top_imports"
   },
   "outputs": [],
   "source": [
    "from qualtran import Bloq, CompositeBloq, BloqBuilder, Signature, Register\n",
    "from qualtran import QBit, QInt, QUInt, QAny\n",
    "from qualtran.drawing import show_bloq, show_call_graph, show_counts_sigma\n",
    "from typing import *\n",
    "import numpy as np\n",
    "import sympy\n",
    "import cirq"
   ]
  },
  {
   "cell_type": "markdown",
   "id": "274978f8",
   "metadata": {
    "cq.autogen": "SGate.bloq_doc.md"
   },
   "source": [
    "## `SGate`\n",
    "The S gate.\n",
    "\n",
    "The unitary matrix of `cirq.S` is\n",
    "$$\n",
    "\\begin{bmatrix}\n",
    "    1 & 0 \\\\\n",
    "    0 & i\n",
    "\\end{bmatrix}\n",
    "$$\n",
    "\n",
    "#### Registers\n",
    " - `q`: The qubit\n"
   ]
  },
  {
   "cell_type": "code",
   "execution_count": null,
   "id": "152d1726",
   "metadata": {
    "cq.autogen": "SGate.bloq_doc.py"
   },
   "outputs": [],
   "source": [
    "from qualtran.bloqs.basic_gates import SGate"
   ]
  },
  {
   "cell_type": "markdown",
   "id": "04dd8c63",
   "metadata": {
    "cq.autogen": "SGate.example_instances.md"
   },
   "source": [
    "### Example Instances"
   ]
  },
  {
   "cell_type": "code",
   "execution_count": null,
   "id": "e0fb5f84",
   "metadata": {
    "cq.autogen": "SGate.s_gate"
   },
   "outputs": [],
   "source": [
    "s_gate = SGate()"
   ]
  },
  {
   "cell_type": "markdown",
   "id": "2f5658a1",
   "metadata": {
    "cq.autogen": "SGate.graphical_signature.md"
   },
   "source": [
    "#### Graphical Signature"
   ]
  },
  {
   "cell_type": "code",
   "execution_count": null,
   "id": "93dfdef0",
   "metadata": {
    "cq.autogen": "SGate.graphical_signature.py"
   },
   "outputs": [],
   "source": [
    "from qualtran.drawing import show_bloqs\n",
    "show_bloqs([s_gate],\n",
    "           ['`s_gate`'])"
   ]
  },
  {
   "cell_type": "markdown",
   "id": "e517a8ba",
   "metadata": {
    "cq.autogen": "SGate.call_graph.md"
   },
   "source": [
    "### Call Graph"
   ]
  },
  {
   "cell_type": "code",
   "execution_count": null,
   "id": "d9a6a76a",
   "metadata": {
    "cq.autogen": "SGate.call_graph.py"
   },
   "outputs": [],
   "source": [
    "from qualtran.resource_counting.generalizers import ignore_split_join\n",
    "s_gate_g, s_gate_sigma = s_gate.call_graph(max_depth=1, generalizer=ignore_split_join)\n",
    "show_call_graph(s_gate_g)\n",
    "show_counts_sigma(s_gate_sigma)"
   ]
  }
 ],
 "metadata": {
  "kernelspec": {
   "display_name": "Python 3",
   "language": "python",
   "name": "python3"
  },
  "language_info": {
   "name": "python"
  }
 },
 "nbformat": 4,
 "nbformat_minor": 5
}
