{
 "cells": [
  {
   "cell_type": "markdown",
   "id": "a8789fc9",
   "metadata": {
    "cq.autogen": "title_cell"
   },
   "source": [
    "# Measurement"
   ]
  },
  {
   "cell_type": "code",
   "execution_count": null,
   "id": "92e78f48",
   "metadata": {
    "cq.autogen": "top_imports"
   },
   "outputs": [],
   "source": [
    "from qualtran import Bloq, CompositeBloq, BloqBuilder, Signature, Register\n",
    "from qualtran import QBit, QInt, QUInt, QAny\n",
    "from qualtran.drawing import show_bloq, show_call_graph, show_counts_sigma\n",
    "from typing import *\n",
    "import numpy as np\n",
    "import sympy\n",
    "import cirq"
   ]
  },
  {
   "cell_type": "markdown",
   "id": "c1aa4ee3",
   "metadata": {
    "cq.autogen": "MeasureZ.bloq_doc.md"
   },
   "source": [
    "## `MeasureZ`\n",
    "Measure a qubit in the Z basis.\n",
    "\n",
    "#### Registers\n",
    " - `q [LEFT]`: The qubit to measure.\n",
    " - `c [RIGHT]`: The classical measurement result.\n"
   ]
  },
  {
   "cell_type": "code",
   "execution_count": null,
   "id": "c520b64e",
   "metadata": {
    "cq.autogen": "MeasureZ.bloq_doc.py"
   },
   "outputs": [],
   "source": [
    "from qualtran.bloqs.basic_gates import MeasureZ"
   ]
  },
  {
   "cell_type": "markdown",
   "id": "3ed69f91",
   "metadata": {
    "cq.autogen": "MeasureZ.example_instances.md"
   },
   "source": [
    "### Example Instances"
   ]
  },
  {
   "cell_type": "code",
   "execution_count": null,
   "id": "13547296",
   "metadata": {
    "cq.autogen": "MeasureZ.meas_z"
   },
   "outputs": [],
   "source": [
    "meas_z = MeasureZ()"
   ]
  },
  {
   "cell_type": "markdown",
   "id": "61b0e737",
   "metadata": {
    "cq.autogen": "MeasureZ.graphical_signature.md"
   },
   "source": [
    "#### Graphical Signature"
   ]
  },
  {
   "cell_type": "code",
   "execution_count": null,
   "id": "0879d68c",
   "metadata": {
    "cq.autogen": "MeasureZ.graphical_signature.py"
   },
   "outputs": [],
   "source": [
    "from qualtran.drawing import show_bloqs\n",
    "show_bloqs([meas_z],\n",
    "           ['`meas_z`'])"
   ]
  },
  {
   "cell_type": "markdown",
   "id": "0f5c94c4",
   "metadata": {
    "cq.autogen": "MeasureZ.call_graph.md"
   },
   "source": [
    "### Call Graph"
   ]
  },
  {
   "cell_type": "code",
   "execution_count": null,
   "id": "51add4d2",
   "metadata": {
    "cq.autogen": "MeasureZ.call_graph.py"
   },
   "outputs": [],
   "source": [
    "from qualtran.resource_counting.generalizers import ignore_split_join\n",
    "meas_z_g, meas_z_sigma = meas_z.call_graph(max_depth=1, generalizer=ignore_split_join)\n",
    "show_call_graph(meas_z_g)\n",
    "show_counts_sigma(meas_z_sigma)"
   ]
  },
  {
   "cell_type": "markdown",
   "id": "a0ff6074",
   "metadata": {
    "cq.autogen": "MeasureX.bloq_doc.md"
   },
   "source": [
    "## `MeasureX`\n",
    "Measure a qubit in the X basis.\n",
    "\n",
    "#### Registers\n",
    " - `q [LEFT]`: The qubit to measure.\n",
    " - `c [RIGHT]`: The classical measurement result.\n"
   ]
  },
  {
   "cell_type": "code",
   "execution_count": null,
   "id": "2b6f77da",
   "metadata": {
    "cq.autogen": "MeasureX.bloq_doc.py"
   },
   "outputs": [],
   "source": [
    "from qualtran.bloqs.basic_gates import MeasureX"
   ]
  },
  {
   "cell_type": "markdown",
   "id": "8b77dc94",
   "metadata": {
    "cq.autogen": "MeasureX.example_instances.md"
   },
   "source": [
    "### Example Instances"
   ]
  },
  {
   "cell_type": "code",
   "execution_count": null,
   "id": "e8016b96",
   "metadata": {
    "cq.autogen": "MeasureX.meas_x"
   },
   "outputs": [],
   "source": [
    "meas_x = MeasureX()"
   ]
  },
  {
   "cell_type": "markdown",
   "id": "1161d96e",
   "metadata": {
    "cq.autogen": "MeasureX.graphical_signature.md"
   },
   "source": [
    "#### Graphical Signature"
   ]
  },
  {
   "cell_type": "code",
   "execution_count": null,
   "id": "732670fa",
   "metadata": {
    "cq.autogen": "MeasureX.graphical_signature.py"
   },
   "outputs": [],
   "source": [
    "from qualtran.drawing import show_bloqs\n",
    "show_bloqs([meas_x],\n",
    "           ['`meas_x`'])"
   ]
  },
  {
   "cell_type": "markdown",
   "id": "1bd468ae",
   "metadata": {
    "cq.autogen": "MeasureX.call_graph.md"
   },
   "source": [
    "### Call Graph"
   ]
  },
  {
   "cell_type": "code",
   "execution_count": null,
   "id": "b05b2734",
   "metadata": {
    "cq.autogen": "MeasureX.call_graph.py"
   },
   "outputs": [],
   "source": [
    "from qualtran.resource_counting.generalizers import ignore_split_join\n",
    "meas_x_g, meas_x_sigma = meas_x.call_graph(max_depth=1, generalizer=ignore_split_join)\n",
    "show_call_graph(meas_x_g)\n",
    "show_counts_sigma(meas_x_sigma)"
   ]
  }
 ],
 "metadata": {
  "kernelspec": {
   "display_name": "Python 3",
   "language": "python",
   "name": "python3"
  },
  "language_info": {
   "name": "python"
  }
 },
 "nbformat": 4,
 "nbformat_minor": 5
}
