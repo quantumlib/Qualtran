{
 "cells": [
  {
   "cell_type": "markdown",
   "id": "9fc6c1b3",
   "metadata": {
    "cq.autogen": "title_cell"
   },
   "source": [
    "# Toffoli"
   ]
  },
  {
   "cell_type": "code",
   "execution_count": null,
   "id": "f7ebfc9a",
   "metadata": {
    "cq.autogen": "top_imports"
   },
   "outputs": [],
   "source": [
    "from qualtran import Bloq, CompositeBloq, BloqBuilder, Signature, Register\n",
    "from qualtran.drawing import show_bloq, show_call_graph, show_counts_sigma\n",
    "from typing import *\n",
    "import numpy as np\n",
    "import sympy\n",
    "import cirq"
   ]
  },
  {
   "cell_type": "markdown",
   "id": "9cbdc9e5",
   "metadata": {
    "cq.autogen": "Toffoli.bloq_doc.md"
   },
   "source": [
    "## `Toffoli`\n",
    "The Toffoli gate.\n",
    "\n",
    "This will flip the target bit if both controls are active. It can be thought of as\n",
    "a reversible AND gate.\n",
    "\n",
    "Like `TGate`, this is a common compilation target. The Clifford+Toffoli gateset is\n",
    "universal.\n",
    "\n",
    "#### References\n",
    "[Novel constructions for the fault-tolerant Toffoli gate](https://arxiv.org/abs/1212.5069).\n",
    "Cody Jones. 2012. Provides a decomposition into 4 `TGate`.\n"
   ]
  },
  {
   "cell_type": "code",
   "execution_count": null,
   "id": "016aaf44",
   "metadata": {
    "cq.autogen": "Toffoli.bloq_doc.py"
   },
   "outputs": [],
   "source": [
    "from qualtran.bloqs.basic_gates import Toffoli"
   ]
  },
  {
   "cell_type": "markdown",
   "id": "d6e985de",
   "metadata": {
    "cq.autogen": "Toffoli.example_instances.md"
   },
   "source": [
    "### Example Instances"
   ]
  },
  {
   "cell_type": "code",
   "execution_count": null,
   "id": "5f65ce4e",
   "metadata": {
    "cq.autogen": "Toffoli.toffoli"
   },
   "outputs": [],
   "source": [
    "toffoli = Toffoli()"
   ]
  },
  {
   "cell_type": "markdown",
   "id": "f1eeb955",
   "metadata": {
    "cq.autogen": "Toffoli.graphical_signature.md"
   },
   "source": [
    "#### Graphical Signature"
   ]
  },
  {
   "cell_type": "code",
   "execution_count": null,
   "id": "7b0a7c76",
   "metadata": {
    "cq.autogen": "Toffoli.graphical_signature.py"
   },
   "outputs": [],
   "source": [
    "from qualtran.drawing import show_bloqs\n",
    "show_bloqs([toffoli],\n",
    "           ['`toffoli`'])"
   ]
  },
  {
   "cell_type": "code",
   "execution_count": null,
   "id": "c216f2e8",
   "metadata": {},
   "outputs": [],
   "source": [
    "show_bloq(toffoli, 'musical_score')"
   ]
  },
  {
   "cell_type": "markdown",
   "id": "b62346c2",
   "metadata": {
    "cq.autogen": "Toffoli.call_graph.md"
   },
   "source": [
    "### Call Graph"
   ]
  },
  {
   "cell_type": "code",
   "execution_count": null,
   "id": "9e260f18",
   "metadata": {
    "cq.autogen": "Toffoli.call_graph.py"
   },
   "outputs": [],
   "source": [
    "toffoli_g, toffoli_sigma = toffoli.call_graph()\n",
    "show_call_graph(toffoli_g)\n",
    "show_counts_sigma(toffoli_sigma)"
   ]
  },
  {
   "cell_type": "code",
   "execution_count": null,
   "id": "ad6ba003",
   "metadata": {},
   "outputs": [],
   "source": []
  }
 ],
 "metadata": {
  "kernelspec": {
   "display_name": "Python 3 (ipykernel)",
   "language": "python",
   "name": "python3"
  },
  "language_info": {
   "codemirror_mode": {
    "name": "ipython",
    "version": 3
   },
   "file_extension": ".py",
   "mimetype": "text/x-python",
   "name": "python",
   "nbconvert_exporter": "python",
   "pygments_lexer": "ipython3",
   "version": "3.10.9"
  }
 },
 "nbformat": 4,
 "nbformat_minor": 5
}
