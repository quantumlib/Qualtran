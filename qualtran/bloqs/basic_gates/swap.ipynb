{
 "cells": [
  {
   "cell_type": "markdown",
   "id": "14e2b0ae",
   "metadata": {
    "cq.autogen": "title_cell"
   },
   "source": [
    "# Basic Swaps"
   ]
  },
  {
   "cell_type": "code",
   "execution_count": null,
   "id": "9f05e9c2",
   "metadata": {
    "cq.autogen": "top_imports"
   },
   "outputs": [],
   "source": [
    "from qualtran import Bloq, CompositeBloq, BloqBuilder, Signature, Register\n",
    "from qualtran import QBit, QInt, QUInt, QAny\n",
    "from qualtran.drawing import show_bloq, show_call_graph, show_counts_sigma\n",
    "from typing import *\n",
    "import numpy as np\n",
    "import sympy\n",
    "import cirq"
   ]
  },
  {
   "cell_type": "markdown",
   "id": "e2cbcfe8",
   "metadata": {
    "cq.autogen": "TwoBitSwap.bloq_doc.md"
   },
   "source": [
    "## `TwoBitSwap`\n",
    "Swap two bits.\n",
    "\n",
    "This is a Clifford operation.\n",
    "\n",
    "#### Registers\n",
    " - `x`: the first bit\n",
    " - `y`: the second bit\n"
   ]
  },
  {
   "cell_type": "code",
   "execution_count": null,
   "id": "daf1d7ba",
   "metadata": {
    "cq.autogen": "TwoBitSwap.bloq_doc.py"
   },
   "outputs": [],
   "source": [
    "from qualtran.bloqs.basic_gates import TwoBitSwap"
   ]
  },
  {
   "cell_type": "markdown",
   "id": "358f64f0",
   "metadata": {
    "cq.autogen": "TwoBitSwap.example_instances.md"
   },
   "source": [
    "### Example Instances"
   ]
  },
  {
   "cell_type": "code",
   "execution_count": null,
   "id": "bff96ba3",
   "metadata": {
    "cq.autogen": "TwoBitSwap.swap_bit"
   },
   "outputs": [],
   "source": [
    "swap_bit = TwoBitSwap()"
   ]
  },
  {
   "cell_type": "markdown",
   "id": "c9889dd6",
   "metadata": {
    "cq.autogen": "TwoBitSwap.graphical_signature.md"
   },
   "source": [
    "#### Graphical Signature"
   ]
  },
  {
   "cell_type": "code",
   "execution_count": null,
   "id": "ae8b94b4",
   "metadata": {
    "cq.autogen": "TwoBitSwap.graphical_signature.py"
   },
   "outputs": [],
   "source": [
    "from qualtran.drawing import show_bloqs\n",
    "show_bloqs([swap_bit],\n",
    "           ['`swap_bit`'])"
   ]
  },
  {
   "cell_type": "markdown",
   "id": "1b73e8f3",
   "metadata": {
    "cq.autogen": "TwoBitCSwap.bloq_doc.md"
   },
   "source": [
    "## `TwoBitCSwap`\n",
    "Swap two bits controlled on a control bit.\n",
    "\n",
    "This is sometimes known as the [Fredkin Gate](https://en.wikipedia.org/wiki/Fredkin_gate).\n",
    "\n",
    "#### Registers\n",
    " - `ctrl`: the control bit\n",
    " - `x`: the first bit\n",
    " - `y`: the second bit \n",
    "\n",
    "#### References\n",
    " - [An algorithm for the T-count](https://arxiv.org/abs/1308.4134). Gosset et al. 2013. Figure 5.2.\n"
   ]
  },
  {
   "cell_type": "code",
   "execution_count": null,
   "id": "16bea751",
   "metadata": {
    "cq.autogen": "TwoBitCSwap.bloq_doc.py"
   },
   "outputs": [],
   "source": [
    "from qualtran.bloqs.basic_gates import TwoBitCSwap"
   ]
  },
  {
   "cell_type": "markdown",
   "id": "86e8d4e0",
   "metadata": {
    "cq.autogen": "TwoBitCSwap.example_instances.md"
   },
   "source": [
    "### Example Instances"
   ]
  },
  {
   "cell_type": "code",
   "execution_count": null,
   "id": "cd0cd0f4",
   "metadata": {
    "cq.autogen": "TwoBitCSwap.cswap_bit"
   },
   "outputs": [],
   "source": [
    "cswap_bit = TwoBitCSwap()"
   ]
  },
  {
   "cell_type": "markdown",
   "id": "883806ba",
   "metadata": {
    "cq.autogen": "TwoBitCSwap.graphical_signature.md"
   },
   "source": [
    "#### Graphical Signature"
   ]
  },
  {
   "cell_type": "code",
   "execution_count": null,
   "id": "191155bc",
   "metadata": {
    "cq.autogen": "TwoBitCSwap.graphical_signature.py"
   },
   "outputs": [],
   "source": [
    "from qualtran.drawing import show_bloqs\n",
    "show_bloqs([cswap_bit],\n",
    "           ['`cswap_bit`'])"
   ]
  },
  {
   "cell_type": "markdown",
   "id": "2e20fd3d-54fb-4762-a4e2-9498553a3f74",
   "metadata": {},
   "source": [
    "### Clifford+T circuit"
   ]
  },
  {
   "cell_type": "markdown",
   "id": "892102fa-8192-48a6-a5d9-51e47f1fa3c5",
   "metadata": {},
   "source": [
    "In Qualtran, this bloq is treated as atomic because its implementation is architecture-dependent. A clifford+T compilation is provided via a Cirq circuit on the `to_clifford_t_circuit()` method"
   ]
  },
  {
   "cell_type": "code",
   "execution_count": null,
   "id": "aa390bfc-816b-4623-b341-614a6dd30dbf",
   "metadata": {},
   "outputs": [],
   "source": [
    "cswap_bit.to_clifford_t_circuit()"
   ]
  },
  {
   "cell_type": "markdown",
   "id": "883ca296",
   "metadata": {
    "cq.autogen": "Swap.bloq_doc.md"
   },
   "source": [
    "## `Swap`\n",
    "Swap two registers\n",
    "\n",
    "This corresponds to a qubitwise `TwoBitSwap` on the two registers.\n",
    "\n",
    "#### Parameters\n",
    " - `bitsize`: The bitsize of each of the two registers being swapped. \n",
    "\n",
    "#### Registers\n",
    " - `x`: the first register\n",
    " - `y`: the second register\n"
   ]
  },
  {
   "cell_type": "code",
   "execution_count": null,
   "id": "fba2eaf0",
   "metadata": {
    "cq.autogen": "Swap.bloq_doc.py"
   },
   "outputs": [],
   "source": [
    "from qualtran.bloqs.basic_gates import Swap"
   ]
  },
  {
   "cell_type": "markdown",
   "id": "37b0df8c",
   "metadata": {
    "cq.autogen": "Swap.example_instances.md"
   },
   "source": [
    "### Example Instances"
   ]
  },
  {
   "cell_type": "code",
   "execution_count": null,
   "id": "bbfa7691",
   "metadata": {
    "cq.autogen": "Swap.swap"
   },
   "outputs": [],
   "source": [
    "n = sympy.Symbol('n', positive=True, integer=True)\n",
    "swap = Swap(bitsize=n)"
   ]
  },
  {
   "cell_type": "code",
   "execution_count": null,
   "id": "6fc3b608",
   "metadata": {
    "cq.autogen": "Swap.swap_small"
   },
   "outputs": [],
   "source": [
    "swap_small = Swap(bitsize=4)"
   ]
  },
  {
   "cell_type": "code",
   "execution_count": null,
   "id": "b16f9c34",
   "metadata": {
    "cq.autogen": "Swap.swap_large"
   },
   "outputs": [],
   "source": [
    "swap_large = Swap(bitsize=64)"
   ]
  },
  {
   "cell_type": "markdown",
   "id": "ec258365",
   "metadata": {
    "cq.autogen": "Swap.graphical_signature.md"
   },
   "source": [
    "#### Graphical Signature"
   ]
  },
  {
   "cell_type": "code",
   "execution_count": null,
   "id": "b327687f",
   "metadata": {
    "cq.autogen": "Swap.graphical_signature.py"
   },
   "outputs": [],
   "source": [
    "from qualtran.drawing import show_bloqs\n",
    "show_bloqs([swap, swap_small, swap_large],\n",
    "           ['`swap`', '`swap_small`', '`swap_large`'])"
   ]
  },
  {
   "cell_type": "markdown",
   "id": "fe3030df",
   "metadata": {
    "cq.autogen": "Swap.call_graph.md"
   },
   "source": [
    "### Call Graph"
   ]
  },
  {
   "cell_type": "code",
   "execution_count": null,
   "id": "6c773542",
   "metadata": {
    "cq.autogen": "Swap.call_graph.py"
   },
   "outputs": [],
   "source": [
    "from qualtran.resource_counting.generalizers import ignore_split_join\n",
    "swap_g, swap_sigma = swap.call_graph(max_depth=1, generalizer=ignore_split_join)\n",
    "show_call_graph(swap_g)\n",
    "show_counts_sigma(swap_sigma)"
   ]
  },
  {
   "cell_type": "markdown",
   "id": "b893cfae",
   "metadata": {
    "cq.autogen": "CSwap.bloq_doc.md"
   },
   "source": [
    "## `CSwap`\n",
    "Swap two registers controlled on a control bit.\n",
    "\n",
    "This decomposes into a qubitwise `TwoBitCSwap` on the two target registers,\n",
    "and takes $n$ TwoBitCSwap gates.\n",
    "\n",
    "#### Parameters\n",
    " - `bitsize`: The bitsize of each of the two registers being swapped. \n",
    "\n",
    "#### Registers\n",
    " - `ctrl`: the control bit\n",
    " - `x`: the first register\n",
    " - `y`: the second register\n"
   ]
  },
  {
   "cell_type": "code",
   "execution_count": null,
   "id": "3282a474",
   "metadata": {
    "cq.autogen": "CSwap.bloq_doc.py"
   },
   "outputs": [],
   "source": [
    "from qualtran.bloqs.basic_gates import CSwap"
   ]
  },
  {
   "cell_type": "markdown",
   "id": "2b72b8d4",
   "metadata": {
    "cq.autogen": "CSwap.example_instances.md"
   },
   "source": [
    "### Example Instances"
   ]
  },
  {
   "cell_type": "code",
   "execution_count": null,
   "id": "5a532894",
   "metadata": {
    "cq.autogen": "CSwap.cswap"
   },
   "outputs": [],
   "source": [
    "n = sympy.Symbol('n', positive=True, integer=True)\n",
    "cswap = CSwap(bitsize=n)"
   ]
  },
  {
   "cell_type": "code",
   "execution_count": null,
   "id": "d1a9b594",
   "metadata": {
    "cq.autogen": "CSwap.cswap_small"
   },
   "outputs": [],
   "source": [
    "# A small version on four bits.\n",
    "cswap_small = CSwap(bitsize=4)"
   ]
  },
  {
   "cell_type": "code",
   "execution_count": null,
   "id": "6045b697",
   "metadata": {
    "cq.autogen": "CSwap.cswap_large"
   },
   "outputs": [],
   "source": [
    "# A large version that swaps 64-bit registers.\n",
    "cswap_large = CSwap(bitsize=64)"
   ]
  },
  {
   "cell_type": "markdown",
   "id": "d5265723",
   "metadata": {
    "cq.autogen": "CSwap.graphical_signature.md"
   },
   "source": [
    "#### Graphical Signature"
   ]
  },
  {
   "cell_type": "code",
   "execution_count": null,
   "id": "4bf1115f",
   "metadata": {
    "cq.autogen": "CSwap.graphical_signature.py"
   },
   "outputs": [],
   "source": [
    "from qualtran.drawing import show_bloqs\n",
    "show_bloqs([cswap, cswap_small, cswap_large],\n",
    "           ['`cswap`', '`cswap_small`', '`cswap_large`'])"
   ]
  },
  {
   "cell_type": "markdown",
   "id": "34028742",
   "metadata": {
    "cq.autogen": "CSwap.call_graph.md"
   },
   "source": [
    "### Call Graph"
   ]
  },
  {
   "cell_type": "code",
   "execution_count": null,
   "id": "5cf02307",
   "metadata": {
    "cq.autogen": "CSwap.call_graph.py"
   },
   "outputs": [],
   "source": [
    "from qualtran.resource_counting.generalizers import ignore_split_join\n",
    "cswap_g, cswap_sigma = cswap.call_graph(max_depth=1, generalizer=ignore_split_join)\n",
    "show_call_graph(cswap_g)\n",
    "show_counts_sigma(cswap_sigma)"
   ]
  }
 ],
 "metadata": {
  "kernelspec": {
   "display_name": "Python 3 (ipykernel)",
   "language": "python",
   "name": "python3"
  },
  "language_info": {
   "codemirror_mode": {
    "name": "ipython",
    "version": 3
   },
   "file_extension": ".py",
   "mimetype": "text/x-python",
   "name": "python",
   "nbconvert_exporter": "python",
   "pygments_lexer": "ipython3",
   "version": "3.11.8"
  }
 },
 "nbformat": 4,
 "nbformat_minor": 5
}
