{
 "cells": [
  {
   "cell_type": "markdown",
   "id": "d6d914da",
   "metadata": {
    "cq.autogen": "title_cell"
   },
   "source": [
    "# SU2 Rotation"
   ]
  },
  {
   "cell_type": "code",
   "execution_count": null,
   "id": "ded96bc8",
   "metadata": {
    "cq.autogen": "top_imports"
   },
   "outputs": [],
   "source": [
    "from qualtran import Bloq, CompositeBloq, BloqBuilder, Signature, Register\n",
    "from qualtran import QBit, QInt, QUInt, QAny\n",
    "from qualtran.drawing import show_bloq, show_call_graph, show_counts_sigma\n",
    "from typing import *\n",
    "import numpy as np\n",
    "import sympy\n",
    "import cirq"
   ]
  },
  {
   "cell_type": "markdown",
   "id": "4b2a9c14",
   "metadata": {
    "cq.autogen": "SU2RotationGate.bloq_doc.md"
   },
   "source": [
    "## `SU2RotationGate`\n",
    "Implements an arbitrary SU(2) rotation.\n",
    "\n",
    "The rotation is represented by the matrix:\n",
    "\n",
    "$$\n",
    "    e^{i \\alpha}\n",
    "    \\begin{pmatrix}\n",
    "    e^{i(\\lambda + \\phi)} \\cos(\\theta) & e^{i\\phi} \\sin(\\theta) \\\\\n",
    "    e^{i\\lambda} \\sin(\\theta) & - \\cos(\\theta)\n",
    "    \\end{pmatrix}\n",
    "$$\n",
    "\n",
    "#### Parameters\n",
    " - `theta`: rotation angle $\\theta$ in the above matrix.\n",
    " - `phi`: phase angle $\\phi$ in the above matrix.\n",
    " - `lambd`: phase angle $\\lambda$ in the above matrix.\n",
    " - `global_shift`: phase angle $\\alpha$, i.e. apply a global phase shift of $e^{i \\alpha}$. \n",
    "\n",
    "#### References\n",
    " - [Generalized Quantum Signal Processing](https://arxiv.org/abs/2308.01501). Motlagh and Wiebe. (2023). Equation 7.\n"
   ]
  },
  {
   "cell_type": "code",
   "execution_count": null,
   "id": "950a1fe9",
   "metadata": {
    "cq.autogen": "SU2RotationGate.bloq_doc.py"
   },
   "outputs": [],
   "source": [
    "from qualtran.bloqs.basic_gates import SU2RotationGate"
   ]
  },
  {
   "cell_type": "markdown",
   "id": "26277091",
   "metadata": {
    "cq.autogen": "SU2RotationGate.example_instances.md"
   },
   "source": [
    "### Example Instances"
   ]
  },
  {
   "cell_type": "code",
   "execution_count": null,
   "id": "5d165eae",
   "metadata": {
    "cq.autogen": "SU2RotationGate.su2_rotation_gate"
   },
   "outputs": [],
   "source": [
    "su2_rotation_gate = SU2RotationGate(np.pi / 4, np.pi / 2, np.pi / 2)"
   ]
  },
  {
   "cell_type": "code",
   "execution_count": null,
   "id": "6b034a9b",
   "metadata": {
    "cq.autogen": "SU2RotationGate.hadamard"
   },
   "outputs": [],
   "source": [
    "hadamard = SU2RotationGate(np.pi / 4, 0, 0)"
   ]
  },
  {
   "cell_type": "code",
   "execution_count": null,
   "id": "baa38dac",
   "metadata": {
    "cq.autogen": "SU2RotationGate.t_gate"
   },
   "outputs": [],
   "source": [
    "t_gate = SU2RotationGate(0, 3 * np.pi / 4, 0, -3 * np.pi / 4)"
   ]
  },
  {
   "cell_type": "markdown",
   "id": "e85d6f3f",
   "metadata": {
    "cq.autogen": "SU2RotationGate.graphical_signature.md"
   },
   "source": [
    "#### Graphical Signature"
   ]
  },
  {
   "cell_type": "code",
   "execution_count": null,
   "id": "1469a240",
   "metadata": {
    "cq.autogen": "SU2RotationGate.graphical_signature.py"
   },
   "outputs": [],
   "source": [
    "from qualtran.drawing import show_bloqs\n",
    "show_bloqs([su2_rotation_gate, hadamard, t_gate],\n",
    "           ['`su2_rotation_gate`', '`hadamard`', '`t_gate`'])"
   ]
  },
  {
   "cell_type": "markdown",
   "id": "eb5742c2",
   "metadata": {
    "cq.autogen": "SU2RotationGate.call_graph.md"
   },
   "source": [
    "### Call Graph"
   ]
  },
  {
   "cell_type": "code",
   "execution_count": null,
   "id": "1198abe9",
   "metadata": {
    "cq.autogen": "SU2RotationGate.call_graph.py"
   },
   "outputs": [],
   "source": [
    "from qualtran.resource_counting.generalizers import ignore_split_join\n",
    "su2_rotation_gate_g, su2_rotation_gate_sigma = su2_rotation_gate.call_graph(max_depth=1, generalizer=ignore_split_join)\n",
    "show_call_graph(su2_rotation_gate_g)\n",
    "show_counts_sigma(su2_rotation_gate_sigma)"
   ]
  }
 ],
 "metadata": {
  "kernelspec": {
   "display_name": "Python 3",
   "language": "python",
   "name": "python3"
  },
  "language_info": {
   "name": "python"
  }
 },
 "nbformat": 4,
 "nbformat_minor": 5
}
