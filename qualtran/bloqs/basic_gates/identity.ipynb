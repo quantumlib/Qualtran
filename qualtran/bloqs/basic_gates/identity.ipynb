{
 "cells": [
  {
   "cell_type": "markdown",
   "id": "6cc35310",
   "metadata": {
    "cq.autogen": "title_cell"
   },
   "source": [
    "# Identity Gate"
   ]
  },
  {
   "cell_type": "code",
   "execution_count": null,
   "id": "0097397d",
   "metadata": {
    "cq.autogen": "top_imports"
   },
   "outputs": [],
   "source": [
    "from qualtran import Bloq, CompositeBloq, BloqBuilder, Signature, Register\n",
    "from qualtran import QBit, QInt, QUInt, QAny\n",
    "from qualtran.drawing import show_bloq, show_call_graph, show_counts_sigma\n",
    "from typing import *\n",
    "import numpy as np\n",
    "import sympy\n",
    "import cirq"
   ]
  },
  {
   "cell_type": "markdown",
   "id": "79691443",
   "metadata": {
    "cq.autogen": "Identity.bloq_doc.md"
   },
   "source": [
    "## `Identity`\n",
    "The identity gate on `n` qubits.\n",
    "\n",
    "#### Parameters\n",
    " - `bitsize`: number of qubits `n`, defaults to 1. \n",
    "\n",
    "#### Registers\n",
    " - `q`: register of `n` qubits\n"
   ]
  },
  {
   "cell_type": "code",
   "execution_count": null,
   "id": "f93ce35e",
   "metadata": {
    "cq.autogen": "Identity.bloq_doc.py"
   },
   "outputs": [],
   "source": [
    "from qualtran.bloqs.basic_gates import Identity"
   ]
  },
  {
   "cell_type": "markdown",
   "id": "af0c1bd3",
   "metadata": {
    "cq.autogen": "Identity.example_instances.md"
   },
   "source": [
    "### Example Instances"
   ]
  },
  {
   "cell_type": "code",
   "execution_count": null,
   "id": "6c3e5fe5",
   "metadata": {
    "cq.autogen": "Identity.identity_symb"
   },
   "outputs": [],
   "source": [
    "import sympy\n",
    "\n",
    "n = sympy.Symbol(\"n\")\n",
    "identity_symb = Identity(n)"
   ]
  },
  {
   "cell_type": "code",
   "execution_count": null,
   "id": "f741716a",
   "metadata": {
    "cq.autogen": "Identity.identity"
   },
   "outputs": [],
   "source": [
    "identity = Identity()"
   ]
  },
  {
   "cell_type": "code",
   "execution_count": null,
   "id": "3caceb77",
   "metadata": {
    "cq.autogen": "Identity.identity_n"
   },
   "outputs": [],
   "source": [
    "n = 4\n",
    "identity_n = Identity(n)"
   ]
  },
  {
   "cell_type": "markdown",
   "id": "11cdf868",
   "metadata": {
    "cq.autogen": "Identity.graphical_signature.md"
   },
   "source": [
    "#### Graphical Signature"
   ]
  },
  {
   "cell_type": "code",
   "execution_count": null,
   "id": "b3fcc484",
   "metadata": {
    "cq.autogen": "Identity.graphical_signature.py"
   },
   "outputs": [],
   "source": [
    "from qualtran.drawing import show_bloqs\n",
    "show_bloqs([identity_symb, identity, identity_n],\n",
    "           ['`identity_symb`', '`identity`', '`identity_n`'])"
   ]
  },
  {
   "cell_type": "markdown",
   "id": "17e96642",
   "metadata": {
    "cq.autogen": "Identity.call_graph.md"
   },
   "source": [
    "### Call Graph"
   ]
  },
  {
   "cell_type": "code",
   "execution_count": null,
   "id": "303fa191",
   "metadata": {
    "cq.autogen": "Identity.call_graph.py"
   },
   "outputs": [],
   "source": [
    "from qualtran.resource_counting.generalizers import ignore_split_join\n",
    "identity_symb_g, identity_symb_sigma = identity_symb.call_graph(max_depth=1, generalizer=ignore_split_join)\n",
    "show_call_graph(identity_symb_g)\n",
    "show_counts_sigma(identity_symb_sigma)"
   ]
  }
 ],
 "metadata": {
  "kernelspec": {
   "display_name": "Python 3",
   "language": "python",
   "name": "python3"
  },
  "language_info": {
   "name": "python"
  }
 },
 "nbformat": 4,
 "nbformat_minor": 5
}
