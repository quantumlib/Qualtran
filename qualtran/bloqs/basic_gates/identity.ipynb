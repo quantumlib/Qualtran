{
 "cells": [
  {
   "cell_type": "markdown",
   "id": "92a37b86",
   "metadata": {
    "cq.autogen": "title_cell"
   },
   "source": [
    "# Identity Gate"
   ]
  },
  {
   "cell_type": "code",
   "execution_count": null,
   "id": "c6021f9f",
   "metadata": {
    "cq.autogen": "top_imports"
   },
   "outputs": [],
   "source": [
    "from qualtran import Bloq, CompositeBloq, BloqBuilder, Signature, Register\n",
    "from qualtran import QBit, QInt, QUInt, QAny\n",
    "from qualtran.drawing import show_bloq, show_call_graph, show_counts_sigma\n",
    "from typing import *\n",
    "import numpy as np\n",
    "import sympy\n",
    "import cirq"
   ]
  },
  {
   "cell_type": "markdown",
   "id": "422855fc",
   "metadata": {
    "cq.autogen": "Identity.bloq_doc.md"
   },
   "source": [
    "## `Identity`\n",
    "The identity gate on one qubit.\n",
    "\n",
    "#### Registers\n",
    " - `q`: The qubit\n"
   ]
  },
  {
   "cell_type": "code",
   "execution_count": null,
   "id": "ae7e658c",
   "metadata": {
    "cq.autogen": "Identity.bloq_doc.py"
   },
   "outputs": [],
   "source": [
    "from qualtran.bloqs.basic_gates import Identity"
   ]
  },
  {
   "cell_type": "markdown",
   "id": "beb2c934",
   "metadata": {
    "cq.autogen": "Identity.example_instances.md"
   },
   "source": [
    "### Example Instances"
   ]
  },
  {
   "cell_type": "code",
   "execution_count": null,
   "id": "69ab2ac9",
   "metadata": {
    "cq.autogen": "Identity.identity"
   },
   "outputs": [],
   "source": [
    "identity = Identity()"
   ]
  },
  {
   "cell_type": "markdown",
   "id": "7d5b3859",
   "metadata": {
    "cq.autogen": "Identity.graphical_signature.md"
   },
   "source": [
    "#### Graphical Signature"
   ]
  },
  {
   "cell_type": "code",
   "execution_count": null,
   "id": "376ca25a",
   "metadata": {
    "cq.autogen": "Identity.graphical_signature.py"
   },
   "outputs": [],
   "source": [
    "from qualtran.drawing import show_bloqs\n",
    "show_bloqs([identity],\n",
    "           ['`identity`'])"
   ]
  },
  {
   "cell_type": "markdown",
   "id": "5099be1d",
   "metadata": {
    "cq.autogen": "Identity.call_graph.md"
   },
   "source": [
    "### Call Graph"
   ]
  },
  {
   "cell_type": "code",
   "execution_count": null,
   "id": "6d7ccccc",
   "metadata": {
    "cq.autogen": "Identity.call_graph.py"
   },
   "outputs": [],
   "source": [
    "from qualtran.resource_counting.generalizers import ignore_split_join\n",
    "identity_g, identity_sigma = identity.call_graph(max_depth=1, generalizer=ignore_split_join)\n",
    "show_call_graph(identity_g)\n",
    "show_counts_sigma(identity_sigma)"
   ]
  }
 ],
 "metadata": {
  "kernelspec": {
   "display_name": "Python 3",
   "language": "python",
   "name": "python3"
  },
  "language_info": {
   "name": "python"
  }
 },
 "nbformat": 4,
 "nbformat_minor": 5
}
