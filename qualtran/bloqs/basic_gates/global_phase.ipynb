{
 "cells": [
  {
   "cell_type": "markdown",
   "id": "34af6d4a",
   "metadata": {
    "cq.autogen": "title_cell"
   },
   "source": [
    "# Global Phase"
   ]
  },
  {
   "cell_type": "code",
   "execution_count": null,
   "id": "f1de2e20",
   "metadata": {
    "cq.autogen": "top_imports"
   },
   "outputs": [],
   "source": [
    "from qualtran import Bloq, CompositeBloq, BloqBuilder, Signature, Register\n",
    "from qualtran import QBit, QInt, QUInt, QAny\n",
    "from qualtran.drawing import show_bloq, show_call_graph, show_counts_sigma\n",
    "from typing import *\n",
    "import numpy as np\n",
    "import sympy\n",
    "import cirq"
   ]
  },
  {
   "cell_type": "markdown",
   "id": "7293f4e4",
   "metadata": {
    "cq.autogen": "GlobalPhase.bloq_doc.md"
   },
   "source": [
    "## `GlobalPhase`\n",
    "Global phase operation of $z$ (where $|z| = 1$).\n",
    "\n",
    "#### Parameters\n",
    " - `coefficient`: a unit complex number $z$ representing the global phase\n",
    " - `eps`: precision\n"
   ]
  },
  {
   "cell_type": "code",
   "execution_count": null,
   "id": "60d45fc7",
   "metadata": {
    "cq.autogen": "GlobalPhase.bloq_doc.py"
   },
   "outputs": [],
   "source": [
    "from qualtran.bloqs.basic_gates import GlobalPhase"
   ]
  },
  {
   "cell_type": "markdown",
   "id": "1608ddd1",
   "metadata": {
    "cq.autogen": "GlobalPhase.example_instances.md"
   },
   "source": [
    "### Example Instances"
   ]
  },
  {
   "cell_type": "code",
   "execution_count": null,
   "id": "1ee2bf0e",
   "metadata": {
    "cq.autogen": "GlobalPhase.global_phase"
   },
   "outputs": [],
   "source": [
    "global_phase = GlobalPhase(1j)"
   ]
  },
  {
   "cell_type": "markdown",
   "id": "a21e8a14",
   "metadata": {
    "cq.autogen": "GlobalPhase.graphical_signature.md"
   },
   "source": [
    "#### Graphical Signature"
   ]
  },
  {
   "cell_type": "code",
   "execution_count": null,
   "id": "bd9c2dbb",
   "metadata": {
    "cq.autogen": "GlobalPhase.graphical_signature.py"
   },
   "outputs": [],
   "source": [
    "from qualtran.drawing import show_bloqs\n",
    "show_bloqs([global_phase],\n",
    "           ['`global_phase`'])"
   ]
  },
  {
   "cell_type": "markdown",
   "id": "facc4a57",
   "metadata": {
    "cq.autogen": "GlobalPhase.call_graph.md"
   },
   "source": [
    "### Call Graph"
   ]
  },
  {
   "cell_type": "code",
   "execution_count": null,
   "id": "94dfefb2",
   "metadata": {
    "cq.autogen": "GlobalPhase.call_graph.py"
   },
   "outputs": [],
   "source": [
    "from qualtran.resource_counting.generalizers import ignore_split_join\n",
    "global_phase_g, global_phase_sigma = global_phase.call_graph(max_depth=1, generalizer=ignore_split_join)\n",
    "show_call_graph(global_phase_g)\n",
    "show_counts_sigma(global_phase_sigma)"
   ]
  }
 ],
 "metadata": {
  "kernelspec": {
   "display_name": "Python 3 (ipykernel)",
   "language": "python",
   "name": "python3"
  },
  "language_info": {
   "codemirror_mode": {
    "name": "ipython",
    "version": 3
   },
   "file_extension": ".py",
   "mimetype": "text/x-python",
   "name": "python",
   "nbconvert_exporter": "python",
   "pygments_lexer": "ipython3",
   "version": "3.11.7"
  }
 },
 "nbformat": 4,
 "nbformat_minor": 5
}
