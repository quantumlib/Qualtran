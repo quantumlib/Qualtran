{
 "cells": [
  {
   "cell_type": "markdown",
   "id": "34af6d4a",
   "metadata": {
    "cq.autogen": "title_cell"
   },
   "source": [
    "# Global Phase"
   ]
  },
  {
   "cell_type": "code",
   "execution_count": null,
   "id": "f1de2e20",
   "metadata": {
    "cq.autogen": "top_imports"
   },
   "outputs": [],
   "source": [
    "from qualtran import Bloq, CompositeBloq, BloqBuilder, Signature, Register\n",
    "from qualtran import QBit, QInt, QUInt, QAny\n",
    "from qualtran.drawing import show_bloq, show_call_graph, show_counts_sigma\n",
    "from typing import *\n",
    "import numpy as np\n",
    "import sympy\n",
    "import cirq"
   ]
  },
  {
   "cell_type": "markdown",
   "id": "7293f4e4",
   "metadata": {
    "cq.autogen": "GlobalPhase.bloq_doc.md"
   },
   "source": [
    "## `GlobalPhase`\n",
    "Applies a global phase to the circuit as a whole.\n",
    "\n",
    "For an exponent $t$, the unitary effect is to multiply the state vector by the complex scalar\n",
    "$$\n",
    "(-1)^t = e^{i \\pi t}\n",
    "$$\n",
    "\n",
    "The global phase of a state or circuit does not affect any observable quantity, but\n",
    "keeping track of it can be a useful bookkeeping mechanism for testing circuit identities, and\n",
    "the global phase becomes important when controlling an operation.\n",
    "\n",
    "This is fundamentally an atomic operation and this bloq has no decomposition in Qualtran.\n",
    "\n",
    "The single-qubit controlled version of `GlobalPhase` is `ZPowGate`.\n",
    "\n",
    "#### Parameters\n",
    " - `exponent`: the exponent t of the global phase (-1)^t to apply.\n",
    " - `eps`: The precision of the rotation. This parameter is for bookkeeping and does not affect e.g. the tensor representation of this gate.\n"
   ]
  },
  {
   "cell_type": "code",
   "execution_count": null,
   "id": "60d45fc7",
   "metadata": {
    "cq.autogen": "GlobalPhase.bloq_doc.py"
   },
   "outputs": [],
   "source": [
    "from qualtran.bloqs.basic_gates import GlobalPhase"
   ]
  },
  {
   "cell_type": "markdown",
   "id": "1608ddd1",
   "metadata": {
    "cq.autogen": "GlobalPhase.example_instances.md"
   },
   "source": [
    "### Example Instances"
   ]
  },
  {
   "cell_type": "code",
   "execution_count": null,
   "id": "1ee2bf0e",
   "metadata": {
    "cq.autogen": "GlobalPhase.global_phase"
   },
   "outputs": [],
   "source": [
    "global_phase = GlobalPhase(exponent=0.5)"
   ]
  },
  {
   "cell_type": "markdown",
   "id": "a21e8a14",
   "metadata": {
    "cq.autogen": "GlobalPhase.graphical_signature.md"
   },
   "source": [
    "#### Graphical Signature"
   ]
  },
  {
   "cell_type": "code",
   "execution_count": null,
   "id": "bd9c2dbb",
   "metadata": {
    "cq.autogen": "GlobalPhase.graphical_signature.py"
   },
   "outputs": [],
   "source": [
    "from qualtran.drawing import show_bloqs\n",
    "show_bloqs([global_phase],\n",
    "           ['`global_phase`'])"
   ]
  },
  {
   "cell_type": "markdown",
   "id": "c183275c-cc9c-477d-888c-d8b850f67a2e",
   "metadata": {},
   "source": [
    "### Tensors and Controlled\n",
    "\n",
    "The \"tensor\" of the global phase gate is just a number."
   ]
  },
  {
   "cell_type": "code",
   "execution_count": null,
   "id": "d053b20b-3d61-487a-b962-e2368d834c40",
   "metadata": {},
   "outputs": [],
   "source": [
    "global_phase.tensor_contract()"
   ]
  },
  {
   "cell_type": "markdown",
   "id": "b737b871-9c61-4d54-860a-d9928f18808b",
   "metadata": {},
   "source": [
    "When a global phase is controlled, it is equivalent to a `ZPowGate`"
   ]
  },
  {
   "cell_type": "code",
   "execution_count": null,
   "id": "d873856e-a687-4b73-acdc-9188dd13a60e",
   "metadata": {},
   "outputs": [],
   "source": [
    "cgp = global_phase.controlled()\n",
    "print(repr(cgp))\n",
    "print(cgp.tensor_contract())"
   ]
  }
 ],
 "metadata": {
  "kernelspec": {
   "display_name": "Python 3 (ipykernel)",
   "language": "python",
   "name": "python3"
  },
  "language_info": {
   "codemirror_mode": {
    "name": "ipython",
    "version": 3
   },
   "file_extension": ".py",
   "mimetype": "text/x-python",
   "name": "python",
   "nbconvert_exporter": "python",
   "pygments_lexer": "ipython3",
   "version": "3.11.8"
  }
 },
 "nbformat": 4,
 "nbformat_minor": 5
}
