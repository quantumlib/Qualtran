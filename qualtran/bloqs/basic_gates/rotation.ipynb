{
 "cells": [
  {
   "cell_type": "markdown",
   "id": "c2c338ca",
   "metadata": {
    "cq.autogen": "title_cell"
   },
   "source": [
    "# Basic Rotation Gates"
   ]
  },
  {
   "cell_type": "code",
   "execution_count": null,
   "id": "612ab535",
   "metadata": {
    "cq.autogen": "top_imports"
   },
   "outputs": [],
   "source": [
    "from qualtran import Bloq, CompositeBloq, BloqBuilder, Signature, Register\n",
    "from qualtran import QBit, QInt, QUInt, QAny\n",
    "from qualtran.drawing import show_bloq, show_call_graph, show_counts_sigma\n",
    "from typing import *\n",
    "import numpy as np\n",
    "import sympy\n",
    "import cirq"
   ]
  },
  {
   "cell_type": "markdown",
   "id": "520a7128",
   "metadata": {
    "cq.autogen": "XPowGate.bloq_doc.md"
   },
   "source": [
    "## `XPowGate`\n",
    "A gate that rotates around the X axis of the Bloch sphere.\n",
    "\n",
    "The unitary matrix of `XPowGate(exponent=t, global_shift=s)` is:\n",
    "$$\n",
    "e^{i \\pi t (s + 1/2)}\n",
    "\\begin{bmatrix}\n",
    "  \\cos(\\pi t /2) & -i \\sin(\\pi t /2) \\\\\n",
    "  -i \\sin(\\pi t /2) & \\cos(\\pi t /2)\n",
    "\\end{bmatrix}\n",
    "$$\n",
    "\n",
    "Note in particular that this gate has a global phase factor of\n",
    "$e^{i \\pi t / 2}$ vs the traditionally defined rotation matrices\n",
    "about the Pauli X axis. See `Rx` for rotations without the global\n",
    "phase. The global phase factor can be adjusted by using the `global_shift`\n",
    "parameter when initializing.\n",
    "\n",
    "#### Parameters\n",
    " - `exponent`: The t in gate**t. Determines how much the eigenvalues of the gate are phased by. For example, eigenvectors phased by -1 when `gate**1` is applied will gain a relative phase of e^{i pi exponent} when `gate**exponent` is applied (relative to eigenvectors unaffected by `gate**1`).\n",
    " - `global_shift`: Offsets the eigenvalues of the gate at exponent=1. In effect, this controls a global phase factor on the gate's unitary matrix. The factor for global_shift=s is:     exp(i * pi * s * t)\n",
    " - `eps`: precision for implementation of rotation. \n",
    "\n",
    "#### Registers\n",
    " - `q`: One-bit register. \n",
    "\n",
    "#### References\n",
    " - [Efficient synthesis of universal Repeat-Until-Success circuits](https://arxiv.org/abs/1404.5320). Offers a small improvement\n",
    " - [Optimal ancilla-free Clifford+T approximation of z-rotations](https://arxiv.org/pdf/1403.2975.pdf). \n"
   ]
  },
  {
   "cell_type": "code",
   "execution_count": null,
   "id": "87de6a53",
   "metadata": {
    "cq.autogen": "XPowGate.bloq_doc.py"
   },
   "outputs": [],
   "source": [
    "from qualtran.bloqs.basic_gates import XPowGate"
   ]
  },
  {
   "cell_type": "markdown",
   "id": "138bee7e",
   "metadata": {
    "cq.autogen": "XPowGate.example_instances.md"
   },
   "source": [
    "### Example Instances"
   ]
  },
  {
   "cell_type": "code",
   "execution_count": null,
   "id": "530a736e",
   "metadata": {
    "cq.autogen": "XPowGate.x_pow"
   },
   "outputs": [],
   "source": [
    "x_pow = XPowGate(exponent=0.123, eps=1e-8)"
   ]
  },
  {
   "cell_type": "markdown",
   "id": "c641f023",
   "metadata": {
    "cq.autogen": "XPowGate.graphical_signature.md"
   },
   "source": [
    "#### Graphical Signature"
   ]
  },
  {
   "cell_type": "code",
   "execution_count": null,
   "id": "0558ecd1",
   "metadata": {
    "cq.autogen": "XPowGate.graphical_signature.py"
   },
   "outputs": [],
   "source": [
    "from qualtran.drawing import show_bloqs\n",
    "show_bloqs([x_pow],\n",
    "           ['`x_pow`'])"
   ]
  },
  {
   "cell_type": "markdown",
   "id": "1092a383",
   "metadata": {
    "cq.autogen": "XPowGate.call_graph.md"
   },
   "source": [
    "### Call Graph"
   ]
  },
  {
   "cell_type": "code",
   "execution_count": null,
   "id": "f6ae8a85",
   "metadata": {
    "cq.autogen": "XPowGate.call_graph.py"
   },
   "outputs": [],
   "source": [
    "from qualtran.resource_counting.generalizers import ignore_split_join\n",
    "x_pow_g, x_pow_sigma = x_pow.call_graph(max_depth=1, generalizer=ignore_split_join)\n",
    "show_call_graph(x_pow_g)\n",
    "show_counts_sigma(x_pow_sigma)"
   ]
  },
  {
   "cell_type": "markdown",
   "id": "9f018721",
   "metadata": {
    "cq.autogen": "YPowGate.bloq_doc.md"
   },
   "source": [
    "## `YPowGate`\n",
    "A gate that rotates around the Y axis of the Bloch sphere.\n",
    "\n",
    "The unitary matrix of `YPowGate(exponent=t)` is:\n",
    "$$\n",
    "    \\begin{bmatrix}\n",
    "        e^{i \\pi t /2} \\cos(\\pi t /2) & - e^{i \\pi t /2} \\sin(\\pi t /2) \\\\\n",
    "        e^{i \\pi t /2} \\sin(\\pi t /2) & e^{i \\pi t /2} \\cos(\\pi t /2)\n",
    "    \\end{bmatrix}\n",
    "$$\n",
    "\n",
    "Note in particular that this gate has a global phase factor of\n",
    "$e^{i \\pi t / 2}$ vs the traditionally defined rotation matrices\n",
    "about the Pauli Y axis. See `Ry` for rotations without the global\n",
    "phase. The global phase factor can be adjusted by using the `global_shift`\n",
    "parameter when initializing.\n",
    "\n",
    "#### Parameters\n",
    " - `exponent`: The t in gate**t. Determines how much the eigenvalues of the gate are phased by. For example, eigenvectors phased by -1 when `gate**1` is applied will gain a relative phase of e^{i pi exponent} when `gate**exponent` is applied (relative to eigenvectors unaffected by `gate**1`). \n",
    " - `global_shift`: Offsets the eigenvalues of the gate at exponent=1. In effect, this controls a global phase factor on the gate's unitary matrix. The factor for global_shift=s is:     exp(i * pi * s * t)\n",
    " - `eps`: precision for implementation of rotation. \n",
    "\n",
    "#### Registers\n",
    " - `q`: One-bit register. \n",
    "\n",
    "#### References\n",
    " - [Efficient synthesis of universal Repeat-Until-Success circuits](https://arxiv.org/abs/1404.5320). Offers a small improvement\n",
    " - [Optimal ancilla-free Clifford+T approximation of z-rotations](https://arxiv.org/pdf/1403.2975.pdf). \n"
   ]
  },
  {
   "cell_type": "code",
   "execution_count": null,
   "id": "77954a77",
   "metadata": {
    "cq.autogen": "YPowGate.bloq_doc.py"
   },
   "outputs": [],
   "source": [
    "from qualtran.bloqs.basic_gates import YPowGate"
   ]
  },
  {
   "cell_type": "markdown",
   "id": "980943e2",
   "metadata": {
    "cq.autogen": "YPowGate.example_instances.md"
   },
   "source": [
    "### Example Instances"
   ]
  },
  {
   "cell_type": "code",
   "execution_count": null,
   "id": "b00d653f",
   "metadata": {
    "cq.autogen": "YPowGate.y_pow"
   },
   "outputs": [],
   "source": [
    "y_pow = YPowGate(exponent=0.123, eps=1e-8)"
   ]
  },
  {
   "cell_type": "markdown",
   "id": "6b4f9a33",
   "metadata": {
    "cq.autogen": "YPowGate.graphical_signature.md"
   },
   "source": [
    "#### Graphical Signature"
   ]
  },
  {
   "cell_type": "code",
   "execution_count": null,
   "id": "ca8982ff",
   "metadata": {
    "cq.autogen": "YPowGate.graphical_signature.py"
   },
   "outputs": [],
   "source": [
    "from qualtran.drawing import show_bloqs\n",
    "show_bloqs([y_pow],\n",
    "           ['`y_pow`'])"
   ]
  },
  {
   "cell_type": "markdown",
   "id": "2842d574",
   "metadata": {
    "cq.autogen": "YPowGate.call_graph.md"
   },
   "source": [
    "### Call Graph"
   ]
  },
  {
   "cell_type": "code",
   "execution_count": null,
   "id": "6069507c",
   "metadata": {
    "cq.autogen": "YPowGate.call_graph.py"
   },
   "outputs": [],
   "source": [
    "from qualtran.resource_counting.generalizers import ignore_split_join\n",
    "y_pow_g, y_pow_sigma = y_pow.call_graph(max_depth=1, generalizer=ignore_split_join)\n",
    "show_call_graph(y_pow_g)\n",
    "show_counts_sigma(y_pow_sigma)"
   ]
  },
  {
   "cell_type": "markdown",
   "id": "2becabd1",
   "metadata": {
    "cq.autogen": "ZPowGate.bloq_doc.md"
   },
   "source": [
    "## `ZPowGate`\n",
    "A gate that rotates around the Z axis of the Bloch sphere.\n",
    "\n",
    "The unitary matrix of `ZPowGate(exponent=t, global_shift=s)` is:\n",
    "$$\n",
    "    e^{i \\pi s t}\n",
    "    \\begin{bmatrix}\n",
    "        1 & 0 \\\\\n",
    "        0 & e^{i \\pi t}\n",
    "    \\end{bmatrix}\n",
    "$$\n",
    "\n",
    "Note in particular that this gate has a global phase factor of\n",
    "$e^{i\\pi t/2}$ vs the traditionally defined rotation matrices\n",
    "about the Pauli Z axis. See `Rz` for rotations without the global\n",
    "phase. The global phase factor can be adjusted by using the `global_shift`\n",
    "parameter when initializing.\n",
    "\n",
    "#### Parameters\n",
    " - `exponent`: The t in gate**t. Determines how much the eigenvalues of the gate are phased by. For example, eigenvectors phased by -1 when `gate**1` is applied will gain a relative phase of e^{i pi exponent} when `gate**exponent` is applied (relative to eigenvectors unaffected by `gate**1`).\n",
    " - `global_shift`: Offsets the eigenvalues of the gate at exponent=1. In effect, this controls a global phase factor on the gate's unitary matrix. The factor for global_shift=s is:     exp(i * pi * s * t)\n",
    " - `eps`: precision for implementation of rotation. \n",
    "\n",
    "#### Registers\n",
    " - `qubits`: One-bit register. \n",
    "\n",
    "#### References\n",
    " - [Efficient synthesis of universal Repeat-Until-Success circuits](https://arxiv.org/abs/1404.5320). Offers a small improvement\n",
    " - [Optimal ancilla-free Clifford+T approximation of z-rotations](https://arxiv.org/pdf/1403.2975.pdf). \n"
   ]
  },
  {
   "cell_type": "code",
   "execution_count": null,
   "id": "7e49732e",
   "metadata": {
    "cq.autogen": "ZPowGate.bloq_doc.py"
   },
   "outputs": [],
   "source": [
    "from qualtran.bloqs.basic_gates import ZPowGate"
   ]
  },
  {
   "cell_type": "markdown",
   "id": "3b1c7641",
   "metadata": {
    "cq.autogen": "ZPowGate.example_instances.md"
   },
   "source": [
    "### Example Instances"
   ]
  },
  {
   "cell_type": "code",
   "execution_count": null,
   "id": "9524ef48",
   "metadata": {
    "cq.autogen": "ZPowGate.z_pow"
   },
   "outputs": [],
   "source": [
    "z_pow = ZPowGate(exponent=0.123, eps=1e-8)"
   ]
  },
  {
   "cell_type": "markdown",
   "id": "410c9c7a",
   "metadata": {
    "cq.autogen": "ZPowGate.graphical_signature.md"
   },
   "source": [
    "#### Graphical Signature"
   ]
  },
  {
   "cell_type": "code",
   "execution_count": null,
   "id": "dbb6a2cb",
   "metadata": {
    "cq.autogen": "ZPowGate.graphical_signature.py"
   },
   "outputs": [],
   "source": [
    "from qualtran.drawing import show_bloqs\n",
    "show_bloqs([z_pow],\n",
    "           ['`z_pow`'])"
   ]
  },
  {
   "cell_type": "markdown",
   "id": "0be1c5f9",
   "metadata": {
    "cq.autogen": "ZPowGate.call_graph.md"
   },
   "source": [
    "### Call Graph"
   ]
  },
  {
   "cell_type": "code",
   "execution_count": null,
   "id": "935667f4",
   "metadata": {
    "cq.autogen": "ZPowGate.call_graph.py"
   },
   "outputs": [],
   "source": [
    "from qualtran.resource_counting.generalizers import ignore_split_join\n",
    "z_pow_g, z_pow_sigma = z_pow.call_graph(max_depth=1, generalizer=ignore_split_join)\n",
    "show_call_graph(z_pow_g)\n",
    "show_counts_sigma(z_pow_sigma)"
   ]
  }
 ],
 "metadata": {
  "kernelspec": {
   "display_name": "Python 3 (ipykernel)",
   "language": "python",
   "name": "python3"
  },
  "language_info": {
   "codemirror_mode": {
    "name": "ipython",
    "version": 3
   },
   "file_extension": ".py",
   "mimetype": "text/x-python",
   "name": "python",
   "nbconvert_exporter": "python",
   "pygments_lexer": "ipython3",
   "version": "3.11.8"
  }
 },
 "nbformat": 4,
 "nbformat_minor": 5
}
