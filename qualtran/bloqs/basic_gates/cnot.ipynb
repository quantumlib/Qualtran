{
 "cells": [
  {
   "cell_type": "markdown",
   "id": "4bb9b4ff",
   "metadata": {
    "cq.autogen": "title_cell"
   },
   "source": [
    "# CNOT"
   ]
  },
  {
   "cell_type": "code",
   "execution_count": null,
   "id": "441ab7c0",
   "metadata": {
    "cq.autogen": "top_imports"
   },
   "outputs": [],
   "source": [
    "from qualtran import Bloq, CompositeBloq, BloqBuilder, Signature, Register\n",
    "from qualtran import QBit, QInt, QUInt, QAny\n",
    "from qualtran.drawing import show_bloq, show_call_graph, show_counts_sigma\n",
    "from typing import *\n",
    "import numpy as np\n",
    "import sympy\n",
    "import cirq"
   ]
  },
  {
   "cell_type": "markdown",
   "id": "fcb7ce4a",
   "metadata": {
    "cq.autogen": "CNOT.bloq_doc.md"
   },
   "source": [
    "## `CNOT`\n",
    "Two-qubit controlled-NOT.\n",
    "\n",
    "#### Registers\n",
    " - `ctrl`: One-bit control register.\n",
    " - `target`: One-bit target register.\n"
   ]
  },
  {
   "cell_type": "code",
   "execution_count": null,
   "id": "451b0fe6",
   "metadata": {
    "cq.autogen": "CNOT.bloq_doc.py"
   },
   "outputs": [],
   "source": [
    "from qualtran.bloqs.basic_gates import CNOT"
   ]
  },
  {
   "cell_type": "markdown",
   "id": "0028d226",
   "metadata": {
    "cq.autogen": "CNOT.example_instances.md"
   },
   "source": [
    "### Example Instances"
   ]
  },
  {
   "cell_type": "code",
   "execution_count": null,
   "id": "395fbefa",
   "metadata": {
    "cq.autogen": "CNOT.cnot"
   },
   "outputs": [],
   "source": [
    "cnot = CNOT()"
   ]
  },
  {
   "cell_type": "markdown",
   "id": "04eb4958",
   "metadata": {
    "cq.autogen": "CNOT.graphical_signature.md"
   },
   "source": [
    "#### Graphical Signature"
   ]
  },
  {
   "cell_type": "code",
   "execution_count": null,
   "id": "d927bff4",
   "metadata": {
    "cq.autogen": "CNOT.graphical_signature.py"
   },
   "outputs": [],
   "source": [
    "from qualtran.drawing import show_bloqs\n",
    "show_bloqs([cnot],\n",
    "           ['`cnot`'])"
   ]
  },
  {
   "cell_type": "markdown",
   "id": "b3e33c75",
   "metadata": {
    "cq.autogen": "CNOT.call_graph.md"
   },
   "source": [
    "### Call Graph"
   ]
  },
  {
   "cell_type": "code",
   "execution_count": null,
   "id": "7ba2a8c1",
   "metadata": {
    "cq.autogen": "CNOT.call_graph.py"
   },
   "outputs": [],
   "source": [
    "from qualtran.resource_counting.generalizers import ignore_split_join\n",
    "cnot_g, cnot_sigma = cnot.call_graph(max_depth=1, generalizer=ignore_split_join)\n",
    "show_call_graph(cnot_g)\n",
    "show_counts_sigma(cnot_sigma)"
   ]
  }
 ],
 "metadata": {
  "kernelspec": {
   "display_name": "Python 3 (ipykernel)",
   "language": "python",
   "name": "python3"
  },
  "language_info": {
   "codemirror_mode": {
    "name": "ipython",
    "version": 3
   },
   "file_extension": ".py",
   "mimetype": "text/x-python",
   "name": "python",
   "nbconvert_exporter": "python",
   "pygments_lexer": "ipython3",
   "version": "3.11.8"
  }
 },
 "nbformat": 4,
 "nbformat_minor": 5
}
