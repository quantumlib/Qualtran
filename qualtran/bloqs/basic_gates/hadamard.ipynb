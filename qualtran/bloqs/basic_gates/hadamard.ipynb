{
 "cells": [
  {
   "cell_type": "markdown",
   "id": "269cd713",
   "metadata": {
    "cq.autogen": "title_cell"
   },
   "source": [
    "# Hadamard"
   ]
  },
  {
   "cell_type": "code",
   "execution_count": null,
   "id": "a181241c",
   "metadata": {
    "cq.autogen": "top_imports"
   },
   "outputs": [],
   "source": [
    "from qualtran import Bloq, CompositeBloq, BloqBuilder, Signature, Register\n",
    "from qualtran import QBit, QInt, QUInt, QAny\n",
    "from qualtran.drawing import show_bloq, show_call_graph, show_counts_sigma\n",
    "from typing import *\n",
    "import numpy as np\n",
    "import sympy\n",
    "import cirq"
   ]
  },
  {
   "cell_type": "markdown",
   "id": "51e3fa62",
   "metadata": {
    "cq.autogen": "Hadamard.bloq_doc.md"
   },
   "source": [
    "## `Hadamard`\n",
    "The Hadamard gate\n",
    "\n",
    "This converts between the X and Z basis.\n",
    "\n",
    "$$\\begin{aligned}\n",
    "H |0\\rangle = |+\\rangle \\\\\n",
    "H |-\\rangle = |1\\rangle\n",
    "\\end{aligned}$$\n",
    "\n",
    "#### Registers\n",
    " - `q`: The qubit\n"
   ]
  },
  {
   "cell_type": "code",
   "execution_count": null,
   "id": "d05cfd73",
   "metadata": {
    "cq.autogen": "Hadamard.bloq_doc.py"
   },
   "outputs": [],
   "source": [
    "from qualtran.bloqs.basic_gates import Hadamard"
   ]
  },
  {
   "cell_type": "markdown",
   "id": "35b53a72",
   "metadata": {
    "cq.autogen": "Hadamard.example_instances.md"
   },
   "source": [
    "### Example Instances"
   ]
  },
  {
   "cell_type": "code",
   "execution_count": null,
   "id": "39ebe976",
   "metadata": {
    "cq.autogen": "Hadamard.hadamard"
   },
   "outputs": [],
   "source": [
    "hadamard = Hadamard()"
   ]
  },
  {
   "cell_type": "markdown",
   "id": "f19223de",
   "metadata": {
    "cq.autogen": "Hadamard.graphical_signature.md"
   },
   "source": [
    "#### Graphical Signature"
   ]
  },
  {
   "cell_type": "code",
   "execution_count": null,
   "id": "92b60b87",
   "metadata": {
    "cq.autogen": "Hadamard.graphical_signature.py"
   },
   "outputs": [],
   "source": [
    "from qualtran.drawing import show_bloqs\n",
    "show_bloqs([hadamard],\n",
    "           ['`hadamard`'])"
   ]
  },
  {
   "cell_type": "markdown",
   "id": "fbc791ac",
   "metadata": {
    "cq.autogen": "CHadamard.bloq_doc.md"
   },
   "source": [
    "## `CHadamard`\n",
    "The controlled Hadamard gate\n",
    "\n",
    "#### Registers\n",
    " - `ctrl`: The control qubit.\n",
    " - `q`: The target qubit.\n"
   ]
  },
  {
   "cell_type": "code",
   "execution_count": null,
   "id": "ce21798b",
   "metadata": {
    "cq.autogen": "CHadamard.bloq_doc.py"
   },
   "outputs": [],
   "source": [
    "from qualtran.bloqs.basic_gates import CHadamard"
   ]
  },
  {
   "cell_type": "markdown",
   "id": "01eb9903",
   "metadata": {
    "cq.autogen": "CHadamard.example_instances.md"
   },
   "source": [
    "### Example Instances"
   ]
  },
  {
   "cell_type": "code",
   "execution_count": null,
   "id": "6e79299e",
   "metadata": {
    "cq.autogen": "CHadamard.chadamard"
   },
   "outputs": [],
   "source": [
    "chadamard = Hadamard().controlled()\n",
    "assert isinstance(chadamard, CHadamard)"
   ]
  },
  {
   "cell_type": "markdown",
   "id": "47b363a1",
   "metadata": {
    "cq.autogen": "CHadamard.graphical_signature.md"
   },
   "source": [
    "#### Graphical Signature"
   ]
  },
  {
   "cell_type": "code",
   "execution_count": null,
   "id": "01cc88a3",
   "metadata": {
    "cq.autogen": "CHadamard.graphical_signature.py"
   },
   "outputs": [],
   "source": [
    "from qualtran.drawing import show_bloqs\n",
    "show_bloqs([chadamard],\n",
    "           ['`chadamard`'])"
   ]
  },
  {
   "cell_type": "code",
   "execution_count": null,
   "id": "cf5fe532-b44b-4570-a52c-cd915fb8bf3d",
   "metadata": {},
   "outputs": [],
   "source": [
    "show_bloq(chadamard, 'musical_score')"
   ]
  },
  {
   "cell_type": "markdown",
   "id": "bd22a519-40bd-4275-8fb1-e4981e6ac4d9",
   "metadata": {},
   "source": [
    "### Specialty circuits\n",
    "\n",
    "The `CHadamard` bloq is atomic and cannot be decomposed with `.decompose_bloq()`. An actual implementation on an error-corrected quantum computer will likely be architecture-dependent. A naive circuit for CHadamard can be found using Cirq."
   ]
  },
  {
   "cell_type": "code",
   "execution_count": null,
   "id": "5608b887-c3c8-49db-858a-d06df9005078",
   "metadata": {},
   "outputs": [],
   "source": [
    "circuit = cirq.Circuit(cirq.decompose_multi_controlled_rotation(\n",
    "    cirq.unitary(cirq.H),\n",
    "    controls=[cirq.NamedQubit('ctrl')],\n",
    "    target=cirq.NamedQubit('q'),\n",
    "))\n",
    "circuit"
   ]
  }
 ],
 "metadata": {
  "kernelspec": {
   "display_name": "Python 3 (ipykernel)",
   "language": "python",
   "name": "python3"
  },
  "language_info": {
   "codemirror_mode": {
    "name": "ipython",
    "version": 3
   },
   "file_extension": ".py",
   "mimetype": "text/x-python",
   "name": "python",
   "nbconvert_exporter": "python",
   "pygments_lexer": "ipython3",
   "version": "3.11.8"
  }
 },
 "nbformat": 4,
 "nbformat_minor": 5
}
