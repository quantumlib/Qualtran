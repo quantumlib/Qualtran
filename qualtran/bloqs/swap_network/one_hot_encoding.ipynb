{
 "cells": [
  {
   "cell_type": "markdown",
   "id": "fc2b66f2",
   "metadata": {
    "cq.autogen": "title_cell"
   },
   "source": [
    "# One Hot Encodings"
   ]
  },
  {
   "cell_type": "code",
   "execution_count": null,
   "id": "4fe93874",
   "metadata": {
    "cq.autogen": "top_imports"
   },
   "outputs": [],
   "source": [
    "from qualtran import Bloq, CompositeBloq, BloqBuilder, Signature, Register\n",
    "from qualtran import QBit, QInt, QUInt, QAny\n",
    "from qualtran.drawing import show_bloq, show_call_graph, show_counts_sigma\n",
    "from typing import *\n",
    "import numpy as np\n",
    "import sympy\n",
    "import cirq"
   ]
  },
  {
   "cell_type": "markdown",
   "id": "cf33d078",
   "metadata": {
    "cq.autogen": "OneHotLogDepth.bloq_doc.md"
   },
   "source": [
    "## `OneHotLogDepth`\n",
    "Log depth one hot encoding using N - 1 CSWAPs."
   ]
  },
  {
   "cell_type": "code",
   "execution_count": null,
   "id": "d873a11f",
   "metadata": {
    "cq.autogen": "OneHotLogDepth.bloq_doc.py"
   },
   "outputs": [],
   "source": [
    "from qualtran.bloqs.swap_network import OneHotLogDepth"
   ]
  },
  {
   "cell_type": "markdown",
   "id": "ddd4c000",
   "metadata": {
    "cq.autogen": "OneHotLogDepth.example_instances.md"
   },
   "source": [
    "### Example Instances"
   ]
  },
  {
   "cell_type": "code",
   "execution_count": null,
   "id": "bd0a15fa",
   "metadata": {
    "cq.autogen": "OneHotLogDepth.one_hot_log_depth"
   },
   "outputs": [],
   "source": [
    "from qualtran import BQUInt\n",
    "\n",
    "one_hot_log_depth = OneHotLogDepth(BQUInt(4, 14))"
   ]
  },
  {
   "cell_type": "markdown",
   "id": "6d5915cb",
   "metadata": {
    "cq.autogen": "OneHotLogDepth.graphical_signature.md"
   },
   "source": [
    "#### Graphical Signature"
   ]
  },
  {
   "cell_type": "code",
   "execution_count": null,
   "id": "f4b05b47",
   "metadata": {
    "cq.autogen": "OneHotLogDepth.graphical_signature.py"
   },
   "outputs": [],
   "source": [
    "from qualtran.drawing import show_bloqs\n",
    "show_bloqs([one_hot_log_depth],\n",
    "           ['`one_hot_log_depth`'])"
   ]
  },
  {
   "cell_type": "markdown",
   "id": "05b1373f",
   "metadata": {
    "cq.autogen": "OneHotLogDepth.call_graph.md"
   },
   "source": [
    "### Call Graph"
   ]
  },
  {
   "cell_type": "code",
   "execution_count": null,
   "id": "7973a854",
   "metadata": {
    "cq.autogen": "OneHotLogDepth.call_graph.py"
   },
   "outputs": [],
   "source": [
    "from qualtran.resource_counting.generalizers import ignore_split_join\n",
    "one_hot_log_depth_g, one_hot_log_depth_sigma = one_hot_log_depth.call_graph(max_depth=1, generalizer=ignore_split_join)\n",
    "show_call_graph(one_hot_log_depth_g)\n",
    "show_counts_sigma(one_hot_log_depth_sigma)"
   ]
  },
  {
   "cell_type": "markdown",
   "id": "f440d529",
   "metadata": {
    "cq.autogen": "OneHotLinearDepth.bloq_doc.md"
   },
   "source": [
    "## `OneHotLinearDepth`\n",
    "Linear depth one hot encoding using N - 1 CSWAPs."
   ]
  },
  {
   "cell_type": "code",
   "execution_count": null,
   "id": "916169e5",
   "metadata": {
    "cq.autogen": "OneHotLinearDepth.bloq_doc.py"
   },
   "outputs": [],
   "source": [
    "from qualtran.bloqs.swap_network import OneHotLinearDepth"
   ]
  },
  {
   "cell_type": "markdown",
   "id": "d0647430",
   "metadata": {
    "cq.autogen": "OneHotLinearDepth.example_instances.md"
   },
   "source": [
    "### Example Instances"
   ]
  },
  {
   "cell_type": "code",
   "execution_count": null,
   "id": "68bd4068",
   "metadata": {
    "cq.autogen": "OneHotLinearDepth.one_hot_linear_depth"
   },
   "outputs": [],
   "source": [
    "from qualtran import BQUInt\n",
    "\n",
    "one_hot_linear_depth = OneHotLinearDepth(BQUInt(4, 14))"
   ]
  },
  {
   "cell_type": "markdown",
   "id": "dde49844",
   "metadata": {
    "cq.autogen": "OneHotLinearDepth.graphical_signature.md"
   },
   "source": [
    "#### Graphical Signature"
   ]
  },
  {
   "cell_type": "code",
   "execution_count": null,
   "id": "9440730a",
   "metadata": {
    "cq.autogen": "OneHotLinearDepth.graphical_signature.py"
   },
   "outputs": [],
   "source": [
    "from qualtran.drawing import show_bloqs\n",
    "show_bloqs([one_hot_linear_depth],\n",
    "           ['`one_hot_linear_depth`'])"
   ]
  },
  {
   "cell_type": "markdown",
   "id": "47ab8e36",
   "metadata": {
    "cq.autogen": "OneHotLinearDepth.call_graph.md"
   },
   "source": [
    "### Call Graph"
   ]
  },
  {
   "cell_type": "code",
   "execution_count": null,
   "id": "96546b81",
   "metadata": {
    "cq.autogen": "OneHotLinearDepth.call_graph.py"
   },
   "outputs": [],
   "source": [
    "from qualtran.resource_counting.generalizers import ignore_split_join\n",
    "one_hot_linear_depth_g, one_hot_linear_depth_sigma = one_hot_linear_depth.call_graph(max_depth=1, generalizer=ignore_split_join)\n",
    "show_call_graph(one_hot_linear_depth_g)\n",
    "show_counts_sigma(one_hot_linear_depth_sigma)"
   ]
  }
 ],
 "metadata": {
  "kernelspec": {
   "display_name": "Python 3",
   "language": "python",
   "name": "python3"
  },
  "language_info": {
   "name": "python"
  }
 },
 "nbformat": 4,
 "nbformat_minor": 5
}
