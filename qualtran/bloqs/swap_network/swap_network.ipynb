{
 "cells": [
  {
   "cell_type": "markdown",
   "id": "287eb288",
   "metadata": {
    "cq.autogen": "title_cell"
   },
   "source": [
    "# Swap Network\n",
    "\n",
    "Functionality for moving data between registers (swapping)."
   ]
  },
  {
   "cell_type": "code",
   "execution_count": null,
   "id": "0aea9bd4",
   "metadata": {
    "cq.autogen": "top_imports"
   },
   "outputs": [],
   "source": [
    "from qualtran import Bloq, CompositeBloq, BloqBuilder, Signature, Register\n",
    "from qualtran import QBit, QInt, QUInt, QAny\n",
    "from qualtran.drawing import show_bloq, show_call_graph, show_counts_sigma\n",
    "from typing import *\n",
    "import numpy as np\n",
    "import sympy\n",
    "import cirq"
   ]
  },
  {
   "cell_type": "markdown",
   "id": "8e668982",
   "metadata": {
    "cq.autogen": "CSwap.bloq_doc.md"
   },
   "source": [
    "## `CSwap`\n",
    "Swap two registers controlled on a control bit.\n",
    "\n",
    "Implements a multi-target controlled swap unitary $CSWAP_n = |0><0| I + |1><1| SWAP_n$.\n",
    "\n",
    "This decomposes into a qubitwise SWAP on the two target registers, and takes $14n$ T-gates.\n",
    "\n",
    "#### Parameters\n",
    " - `bitsize`: The bitsize of each of the two registers being swapped. \n",
    "\n",
    "#### Registers\n",
    " - `ctrl`: the control bit\n",
    " - `x`: the first register\n",
    " - `y`: the second register\n"
   ]
  },
  {
   "cell_type": "code",
   "execution_count": null,
   "id": "7486a640",
   "metadata": {
    "cq.autogen": "CSwap.bloq_doc.py"
   },
   "outputs": [],
   "source": [
    "from qualtran.bloqs.basic_gates import CSwap"
   ]
  },
  {
   "cell_type": "markdown",
   "id": "fa8b3b02",
   "metadata": {
    "cq.autogen": "CSwap.example_instances.md"
   },
   "source": [
    "### Example Instances"
   ]
  },
  {
   "cell_type": "code",
   "execution_count": null,
   "id": "6b9600e8",
   "metadata": {
    "cq.autogen": "CSwap.cswap_symb"
   },
   "outputs": [],
   "source": [
    "# A symbolic version. The bitsize is the symbol 'n'.\n",
    "from sympy import sympify\n",
    "\n",
    "cswap_symb = CSwap(bitsize=sympify('n'))"
   ]
  },
  {
   "cell_type": "code",
   "execution_count": null,
   "id": "745afb32",
   "metadata": {
    "cq.autogen": "CSwap.cswap_small"
   },
   "outputs": [],
   "source": [
    "# A small version on four bits.\n",
    "cswap_small = CSwap(bitsize=4)"
   ]
  },
  {
   "cell_type": "code",
   "execution_count": null,
   "id": "a5bac02b",
   "metadata": {
    "cq.autogen": "CSwap.cswap_large"
   },
   "outputs": [],
   "source": [
    "# A large version that swaps 64-bit registers.\n",
    "cswap_large = CSwap(bitsize=64)"
   ]
  },
  {
   "cell_type": "markdown",
   "id": "70b14690",
   "metadata": {
    "cq.autogen": "CSwap.graphical_signature.md"
   },
   "source": [
    "#### Graphical Signature"
   ]
  },
  {
   "cell_type": "code",
   "execution_count": null,
   "id": "c4ad9f12",
   "metadata": {
    "cq.autogen": "CSwap.graphical_signature.py"
   },
   "outputs": [],
   "source": [
    "from qualtran.drawing import show_bloqs\n",
    "show_bloqs([cswap_symb, cswap_small, cswap_large],\n",
    "           ['`cswap_symb`', '`cswap_small`', '`cswap_large`'])"
   ]
  },
  {
   "cell_type": "markdown",
   "id": "615155b0",
   "metadata": {
    "cq.autogen": "CSwap.call_graph.md"
   },
   "source": [
    "### Call Graph"
   ]
  },
  {
   "cell_type": "code",
   "execution_count": null,
   "id": "7c1215b2",
   "metadata": {
    "cq.autogen": "CSwap.call_graph.py"
   },
   "outputs": [],
   "source": [
    "from qualtran.resource_counting.generalizers import ignore_split_join\n",
    "cswap_symb_g, cswap_symb_sigma = cswap_symb.call_graph(max_depth=1, generalizer=ignore_split_join)\n",
    "show_call_graph(cswap_symb_g)\n",
    "show_counts_sigma(cswap_symb_sigma)"
   ]
  },
  {
   "cell_type": "markdown",
   "id": "c4d14510",
   "metadata": {
    "cq.autogen": "CSwapApprox.bloq_doc.md"
   },
   "source": [
    "## `CSwapApprox`\n",
    "Approximately implements a multi-target controlled swap unitary using only $4n$ T-gates.\n",
    "\n",
    "Implements $\\mathrm{CSWAP}_n = |0 \\rangle\\langle 0| I + |1 \\rangle\\langle 1| \\mathrm{SWAP}_n$\n",
    "such that the output state is correct up to a global phase factor of +1 / -1.\n",
    "\n",
    "This is useful when the incorrect phase can be absorbed in a garbage state of an algorithm\n",
    "and thus ignored. See the reference for more details.\n",
    "\n",
    "#### Parameters\n",
    " - `bitsize`: The bitsize of the two registers being swapped. \n",
    "\n",
    "#### Registers\n",
    " - `ctrl`: the control bit\n",
    " - `x`: the first register\n",
    " - `y`: the second register \n",
    "\n",
    "#### References\n",
    " - [Trading T-gates for dirty qubits in state preparation and unitary synthesis](https://arxiv.org/abs/1812.00954). Low et. al. 2018. See Appendix B.2.c.\n"
   ]
  },
  {
   "cell_type": "code",
   "execution_count": null,
   "id": "0818b4b3",
   "metadata": {
    "cq.autogen": "CSwapApprox.bloq_doc.py"
   },
   "outputs": [],
   "source": [
    "from qualtran.bloqs.swap_network import CSwapApprox"
   ]
  },
  {
   "cell_type": "markdown",
   "id": "c84a60b4",
   "metadata": {
    "cq.autogen": "CSwapApprox.example_instances.md"
   },
   "source": [
    "### Example Instances"
   ]
  },
  {
   "cell_type": "code",
   "execution_count": null,
   "id": "6e3ad9fb",
   "metadata": {
    "cq.autogen": "CSwapApprox.approx_cswap_symb"
   },
   "outputs": [],
   "source": [
    "# A symbolic version. The bitsize is the symbol 'n'.\n",
    "from sympy import sympify\n",
    "\n",
    "approx_cswap_symb = CSwapApprox(bitsize=sympify('n'))"
   ]
  },
  {
   "cell_type": "code",
   "execution_count": null,
   "id": "a84e60be",
   "metadata": {
    "cq.autogen": "CSwapApprox.approx_cswap_small"
   },
   "outputs": [],
   "source": [
    "# A small version on four bits.\n",
    "approx_cswap_small = CSwapApprox(bitsize=4)"
   ]
  },
  {
   "cell_type": "code",
   "execution_count": null,
   "id": "c9b806da",
   "metadata": {
    "cq.autogen": "CSwapApprox.approx_cswap_large"
   },
   "outputs": [],
   "source": [
    "# A large version that swaps 64-bit registers.\n",
    "approx_cswap_large = CSwapApprox(bitsize=64)"
   ]
  },
  {
   "cell_type": "markdown",
   "id": "d761ec04",
   "metadata": {
    "cq.autogen": "CSwapApprox.graphical_signature.md"
   },
   "source": [
    "#### Graphical Signature"
   ]
  },
  {
   "cell_type": "code",
   "execution_count": null,
   "id": "b5202f4c",
   "metadata": {
    "cq.autogen": "CSwapApprox.graphical_signature.py"
   },
   "outputs": [],
   "source": [
    "from qualtran.drawing import show_bloqs\n",
    "show_bloqs([approx_cswap_symb, approx_cswap_small, approx_cswap_large],\n",
    "           ['`approx_cswap_symb`', '`approx_cswap_small`', '`approx_cswap_large`'])"
   ]
  },
  {
   "cell_type": "markdown",
   "id": "cb519e6b",
   "metadata": {
    "cq.autogen": "CSwapApprox.call_graph.md"
   },
   "source": [
    "### Call Graph"
   ]
  },
  {
   "cell_type": "code",
   "execution_count": null,
   "id": "ee0a90c5",
   "metadata": {
    "cq.autogen": "CSwapApprox.call_graph.py"
   },
   "outputs": [],
   "source": [
    "from qualtran.resource_counting.generalizers import ignore_split_join\n",
    "approx_cswap_symb_g, approx_cswap_symb_sigma = approx_cswap_symb.call_graph(max_depth=1, generalizer=ignore_split_join)\n",
    "show_call_graph(approx_cswap_symb_g)\n",
    "show_counts_sigma(approx_cswap_symb_sigma)"
   ]
  },
  {
   "cell_type": "markdown",
   "id": "0697fe71",
   "metadata": {
    "cq.autogen": "SwapWithZero.bloq_doc.md"
   },
   "source": [
    "## `SwapWithZero`\n",
    "Swaps |Psi_0> with |Psi_x> if selection register stores index `x`.\n",
    "\n",
    "Implements the unitary U |x> |Psi_0> |Psi_1> ... |Psi_{n-1}> --> |x> |Psi_x> |Rest of Psi>.\n",
    "Note that the state of `|Rest of Psi>` is allowed to be anything and should not be depended\n",
    "upon.\n",
    "\n",
    "#### References\n",
    " - [Trading T-gates for dirty qubits in state preparation and unitary synthesis](https://arxiv.org/abs/1812.00954). Low, Kliuchnikov, Schaeffer. 2018.\n"
   ]
  },
  {
   "cell_type": "code",
   "execution_count": null,
   "id": "26ca63f7",
   "metadata": {
    "cq.autogen": "SwapWithZero.bloq_doc.py"
   },
   "outputs": [],
   "source": [
    "from qualtran.bloqs.swap_network import SwapWithZero"
   ]
  },
  {
   "cell_type": "markdown",
   "id": "cf2ee142",
   "metadata": {
    "cq.autogen": "SwapWithZero.example_instances.md"
   },
   "source": [
    "### Example Instances"
   ]
  },
  {
   "cell_type": "code",
   "execution_count": null,
   "id": "4ae57bc8",
   "metadata": {
    "cq.autogen": "SwapWithZero.swz"
   },
   "outputs": [],
   "source": [
    "swz = SwapWithZero(selection_bitsize=8, target_bitsize=32, n_target_registers=4)"
   ]
  },
  {
   "cell_type": "code",
   "execution_count": null,
   "id": "53b5d9ce",
   "metadata": {
    "cq.autogen": "SwapWithZero.swz_small"
   },
   "outputs": [],
   "source": [
    "# A small version on four bits.\n",
    "swz_small = SwapWithZero(selection_bitsize=3, target_bitsize=2, n_target_registers=2)"
   ]
  },
  {
   "cell_type": "markdown",
   "id": "d8f18107",
   "metadata": {
    "cq.autogen": "SwapWithZero.graphical_signature.md"
   },
   "source": [
    "#### Graphical Signature"
   ]
  },
  {
   "cell_type": "code",
   "execution_count": null,
   "id": "ad7b860d",
   "metadata": {
    "cq.autogen": "SwapWithZero.graphical_signature.py"
   },
   "outputs": [],
   "source": [
    "from qualtran.drawing import show_bloqs\n",
    "show_bloqs([swz, swz_small],\n",
    "           ['`swz`', '`swz_small`'])"
   ]
  },
  {
   "cell_type": "markdown",
   "id": "e2e0a267",
   "metadata": {
    "cq.autogen": "SwapWithZero.call_graph.md"
   },
   "source": [
    "### Call Graph"
   ]
  },
  {
   "cell_type": "code",
   "execution_count": null,
   "id": "0e577a02",
   "metadata": {
    "cq.autogen": "SwapWithZero.call_graph.py"
   },
   "outputs": [],
   "source": [
    "from qualtran.resource_counting.generalizers import ignore_split_join\n",
    "swz_g, swz_sigma = swz.call_graph(max_depth=1, generalizer=ignore_split_join)\n",
    "show_call_graph(swz_g)\n",
    "show_counts_sigma(swz_sigma)"
   ]
  },
  {
   "cell_type": "markdown",
   "id": "9f8d8d5b",
   "metadata": {
    "cq.autogen": "MultiplexedCSwap.bloq_doc.md"
   },
   "source": [
    "## `MultiplexedCSwap`\n",
    "Swaps the $l$-th register into an ancilla using unary iteration.\n",
    "\n",
    "Applies the unitary which performs\n",
    "$$\n",
    "    U |l\\rangle|\\psi_0\\rangle\\cdots|\\psi_l\\rangle\\cdots|\\psi_n\\rangle|\\mathrm{junk}\\rangle\n",
    "    \\rightarrow\n",
    "    |l\\rangle|\\psi_0\\rangle\\cdots|\\mathrm{junk}\\rangle\\cdots|\\psi_n\\rangle|\\psi_l\\rangle\n",
    "$$\n",
    "through a combination of unary iteration and CSwaps.\n",
    "\n",
    "The toffoli cost should be $L n_b + L - 2 + n_c$, where $L$ is the\n",
    "iteration length, $n_b$ is the bitsize of\n",
    "the registers to swap, and $n_c$ is the number of controls.\n",
    "\n",
    "#### Parameters\n",
    " - `selection_regs`: Indexing `select` signature of type Tuple[`Register`, ...]. It also contains information about the iteration length of each selection register.\n",
    " - `target_bitsize`: The size of the registers we want to swap.\n",
    " - `control_regs`: Control registers for constructing a controlled version of the gate. \n",
    "\n",
    "#### Registers\n",
    " - `control_registers`: Control registers\n",
    " - `selection_regs`: Indexing `select` signature of type Tuple[`Register`, ...]. It also contains information about the iteration length of each selection register.\n",
    " - `target_registers`: Target registers to swap. We swap FROM registers labelled x`i`, where i is an integer and TO a single register called y \n",
    "\n",
    "#### References\n",
    " - [Fault-Tolerant Quantum Simulations of Chemistry in First Quantization](https://arxiv.org/abs/2105.12767). page 20 paragraph 2.\n"
   ]
  },
  {
   "cell_type": "code",
   "execution_count": null,
   "id": "1ed31356",
   "metadata": {
    "cq.autogen": "MultiplexedCSwap.bloq_doc.py"
   },
   "outputs": [],
   "source": [
    "from qualtran.bloqs.swap_network import MultiplexedCSwap"
   ]
  },
  {
   "cell_type": "markdown",
   "id": "7820463a",
   "metadata": {
    "cq.autogen": "MultiplexedCSwap.example_instances.md"
   },
   "source": [
    "### Example Instances"
   ]
  },
  {
   "cell_type": "code",
   "execution_count": null,
   "id": "eecc8c55",
   "metadata": {
    "cq.autogen": "MultiplexedCSwap.multiplexed_cswap"
   },
   "outputs": [],
   "source": [
    "from qualtran import BoundedQUInt\n",
    "\n",
    "selection_bitsize = 3\n",
    "iteration_length = 5\n",
    "target_bitsize = 2\n",
    "multiplexed_cswap = MultiplexedCSwap(\n",
    "    Register('selection', BoundedQUInt(selection_bitsize, iteration_length)),\n",
    "    target_bitsize=target_bitsize,\n",
    ")\n"
   ]
  },
  {
   "cell_type": "markdown",
   "id": "def65ae4",
   "metadata": {
    "cq.autogen": "MultiplexedCSwap.graphical_signature.md"
   },
   "source": [
    "#### Graphical Signature"
   ]
  },
  {
   "cell_type": "code",
   "execution_count": null,
   "id": "a1058418",
   "metadata": {
    "cq.autogen": "MultiplexedCSwap.graphical_signature.py"
   },
   "outputs": [],
   "source": [
    "from qualtran.drawing import show_bloqs\n",
    "show_bloqs([multiplexed_cswap],\n",
    "           ['`multiplexed_cswap`'])"
   ]
  },
  {
   "cell_type": "markdown",
   "id": "0846b1dd",
   "metadata": {
    "cq.autogen": "MultiplexedCSwap.call_graph.md"
   },
   "source": [
    "### Call Graph"
   ]
  },
  {
   "cell_type": "code",
   "execution_count": null,
   "id": "14e42074",
   "metadata": {
    "cq.autogen": "MultiplexedCSwap.call_graph.py"
   },
   "outputs": [],
   "source": [
    "from qualtran.resource_counting.generalizers import ignore_split_join\n",
    "multiplexed_cswap_g, multiplexed_cswap_sigma = multiplexed_cswap.call_graph(max_depth=1, generalizer=ignore_split_join)\n",
    "show_call_graph(multiplexed_cswap_g)\n",
    "show_counts_sigma(multiplexed_cswap_sigma)"
   ]
  }
 ],
 "metadata": {
  "kernelspec": {
   "display_name": "Python 3 (ipykernel)",
   "language": "python",
   "name": "python3"
  },
  "language_info": {
   "codemirror_mode": {
    "name": "ipython",
    "version": 3
   },
   "file_extension": ".py",
   "mimetype": "text/x-python",
   "name": "python",
   "nbconvert_exporter": "python",
   "pygments_lexer": "ipython3",
   "version": "3.11.7"
  }
 },
 "nbformat": 4,
 "nbformat_minor": 5
}
