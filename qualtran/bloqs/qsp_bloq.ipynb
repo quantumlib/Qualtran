{
 "cells": [
  {
   "cell_type": "code",
   "execution_count": 1,
   "id": "initial_id",
   "metadata": {
    "collapsed": true,
    "ExecuteTime": {
     "end_time": "2023-10-15T20:40:26.324261327Z",
     "start_time": "2023-10-15T20:40:22.337672342Z"
    }
   },
   "outputs": [],
   "source": [
    "import numpy as np\n",
    "\n",
    "import cirq\n",
    "from cirq_ft.algos.qubitization_walk_operator_test import get_walk_operator_for_1d_Ising_model\n",
    "from qualtran.cirq_interop._cirq_to_bloq import CirqGateAsBloq\n",
    "from qualtran.drawing import show_bloq\n",
    "\n",
    "from qualtran.bloqs.qsp_bloq import QEVTCircuit"
   ]
  },
  {
   "cell_type": "code",
   "execution_count": 2,
   "outputs": [],
   "source": [
    "U = get_walk_operator_for_1d_Ising_model(4, 2e-1)"
   ],
   "metadata": {
    "collapsed": false,
    "ExecuteTime": {
     "end_time": "2023-10-15T20:40:26.329241915Z",
     "start_time": "2023-10-15T20:40:26.328117968Z"
    }
   },
   "id": "fe92e1e9225b8026"
  },
  {
   "cell_type": "code",
   "execution_count": 3,
   "outputs": [
    {
     "data": {
      "text/plain": "<IPython.core.display.SVG object>",
      "image/svg+xml": "<svg xmlns=\"http://www.w3.org/2000/svg\" xmlns:xlink=\"http://www.w3.org/1999/xlink\" width=\"528pt\" height=\"115pt\" viewBox=\"0.00 0.00 527.50 114.50\">\n<g id=\"graph0\" class=\"graph\" transform=\"scale(1 1) rotate(0) translate(4 110.5)\">\n<title>my_graph</title>\n<polygon fill=\"white\" stroke=\"none\" points=\"-4,4 -4,-110.5 523.5,-110.5 523.5,4 -4,4\"/>\n<!-- selection_G3 -->\n<g id=\"node1\" class=\"node\">\n<title>selection_G3</title>\n<text text-anchor=\"middle\" x=\"39.88\" y=\"-67.33\" font-family=\"Times,serif\" font-size=\"14.00\">selection</text>\n</g>\n<!-- CirqGateAsBloq_G0 -->\n<g id=\"node4\" class=\"node\">\n<title>CirqGateAsBloq_G0</title>\n<polygon fill=\"none\" stroke=\"black\" points=\"116.75,-68 116.75,-86 215.75,-86 215.75,-68 116.75,-68\"/>\n<text text-anchor=\"start\" x=\"119.75\" y=\"-73.5\" font-family=\"Times,serif\" font-size=\"10.00\">cirq.GenericSelect</text>\n<polygon fill=\"none\" stroke=\"black\" points=\"116.75,-45 116.75,-68 215.75,-68 215.75,-45 116.75,-45\"/>\n<text text-anchor=\"start\" x=\"134.38\" y=\"-51.7\" font-family=\"Times,serif\" font-size=\"14.00\">selection</text>\n<polygon fill=\"none\" stroke=\"black\" points=\"116.75,-22 116.75,-45 215.75,-45 215.75,-22 116.75,-22\"/>\n<text text-anchor=\"start\" x=\"144.12\" y=\"-28.7\" font-family=\"Times,serif\" font-size=\"14.00\">target</text>\n</g>\n<!-- selection_G3&#45;&gt;CirqGateAsBloq_G0 -->\n<g id=\"edge1\" class=\"edge\">\n<title>selection_G3:e-&gt;CirqGateAsBloq_G0:w</title>\n<path fill=\"none\" stroke=\"black\" d=\"M79.75,-72C96.52,-72 98.79,-58.6 113.98,-57.13\"/>\n<ellipse fill=\"black\" stroke=\"black\" cx=\"115.25\" cy=\"-57.07\" rx=\"1\" ry=\"1\"/>\n<text text-anchor=\"middle\" x=\"98.25\" y=\"-67.25\" font-family=\"Times,serif\" font-size=\"10.00\">3</text>\n</g>\n<!-- target_G2 -->\n<g id=\"node2\" class=\"node\">\n<title>target_G2</title>\n<text text-anchor=\"middle\" x=\"39.88\" y=\"-13.32\" font-family=\"Times,serif\" font-size=\"14.00\">target</text>\n</g>\n<!-- target_G2&#45;&gt;CirqGateAsBloq_G0 -->\n<g id=\"edge2\" class=\"edge\">\n<title>target_G2:e-&gt;CirqGateAsBloq_G0:w</title>\n<path fill=\"none\" stroke=\"black\" d=\"M70.88,-18C91.32,-18 94.98,-31.63 113.85,-32.9\"/>\n<ellipse fill=\"black\" stroke=\"black\" cx=\"115.25\" cy=\"-32.95\" rx=\"1\" ry=\"1\"/>\n<text text-anchor=\"middle\" x=\"98.25\" y=\"-32.25\" font-family=\"Times,serif\" font-size=\"10.00\">4</text>\n</g>\n<!-- CirqGateAsBloq -->\n<g id=\"node3\" class=\"node\">\n<title>CirqGateAsBloq</title>\n<polygon fill=\"none\" stroke=\"black\" points=\"252.75,-88.5 252.75,-106.5 402.75,-106.5 402.75,-88.5 252.75,-88.5\"/>\n<text text-anchor=\"start\" x=\"255.75\" y=\"-94\" font-family=\"Times,serif\" font-size=\"10.00\">cirq.ReflectionUsingPrepare</text>\n<polygon fill=\"none\" stroke=\"black\" points=\"252.75,-65.5 252.75,-88.5 402.75,-88.5 402.75,-65.5 252.75,-65.5\"/>\n<text text-anchor=\"start\" x=\"295.88\" y=\"-72.2\" font-family=\"Times,serif\" font-size=\"14.00\">selection</text>\n</g>\n<!-- selection_G4 -->\n<g id=\"node5\" class=\"node\">\n<title>selection_G4</title>\n<text text-anchor=\"middle\" x=\"479.62\" y=\"-78.33\" font-family=\"Times,serif\" font-size=\"14.00\">selection</text>\n</g>\n<!-- CirqGateAsBloq&#45;&gt;selection_G4 -->\n<g id=\"edge4\" class=\"edge\">\n<title>CirqGateAsBloq:e-&gt;selection_G4:w</title>\n<path fill=\"none\" stroke=\"black\" d=\"M402.75,-77C418.37,-77 422.58,-82.27 436.77,-82.93\"/>\n<ellipse fill=\"black\" stroke=\"black\" cx=\"438.25\" cy=\"-82.97\" rx=\"1\" ry=\"1\"/>\n<text text-anchor=\"middle\" x=\"421.25\" y=\"-83.25\" font-family=\"Times,serif\" font-size=\"10.00\">3</text>\n</g>\n<!-- CirqGateAsBloq_G0&#45;&gt;CirqGateAsBloq -->\n<g id=\"edge3\" class=\"edge\">\n<title>CirqGateAsBloq_G0:e-&gt;CirqGateAsBloq:w</title>\n<path fill=\"none\" stroke=\"black\" d=\"M215.75,-57C233.42,-57 234.04,-74.87 249.85,-76.83\"/>\n<ellipse fill=\"black\" stroke=\"black\" cx=\"251.25\" cy=\"-76.91\" rx=\"1\" ry=\"1\"/>\n<text text-anchor=\"middle\" x=\"234.25\" y=\"-70.25\" font-family=\"Times,serif\" font-size=\"10.00\">3</text>\n</g>\n<!-- target_G6 -->\n<g id=\"node6\" class=\"node\">\n<title>target_G6</title>\n<text text-anchor=\"middle\" x=\"479.62\" y=\"-24.32\" font-family=\"Times,serif\" font-size=\"14.00\">target</text>\n</g>\n<!-- CirqGateAsBloq_G0&#45;&gt;target_G6 -->\n<g id=\"edge5\" class=\"edge\">\n<title>CirqGateAsBloq_G0:e-&gt;target_G6:w</title>\n<path fill=\"none\" stroke=\"black\" d=\"M215.75,-33C318.36,-33 344.65,-29.07 445.91,-29\"/>\n<ellipse fill=\"black\" stroke=\"black\" cx=\"447.13\" cy=\"-29\" rx=\"1\" ry=\"1\"/>\n<text text-anchor=\"middle\" x=\"327.75\" y=\"-36.25\" font-family=\"Times,serif\" font-size=\"10.00\">4</text>\n</g>\n</g>\n</svg>"
     },
     "metadata": {},
     "output_type": "display_data"
    }
   ],
   "source": [
    "bloq_U = CirqGateAsBloq(U)\n",
    "show_bloq(bloq_U.decompose_bloq())"
   ],
   "metadata": {
    "collapsed": false,
    "ExecuteTime": {
     "end_time": "2023-10-15T20:40:26.429292399Z",
     "start_time": "2023-10-15T20:40:26.337947426Z"
    }
   },
   "id": "e968e8f0d1ea5320"
  },
  {
   "cell_type": "code",
   "execution_count": 4,
   "outputs": [],
   "source": [
    "pU = QEVTCircuit(U, (0.5, 0.5), (0.5, -0.5))\n",
    "bloq_pU = CirqGateAsBloq(pU)"
   ],
   "metadata": {
    "collapsed": false,
    "ExecuteTime": {
     "end_time": "2023-10-15T20:40:26.429586558Z",
     "start_time": "2023-10-15T20:40:26.425278317Z"
    }
   },
   "id": "dc7100fd94d58c6b"
  },
  {
   "cell_type": "code",
   "execution_count": 5,
   "outputs": [
    {
     "data": {
      "text/plain": "<IPython.core.display.SVG object>",
      "image/svg+xml": "<svg xmlns=\"http://www.w3.org/2000/svg\" xmlns:xlink=\"http://www.w3.org/1999/xlink\" width=\"617pt\" height=\"159pt\" viewBox=\"0.00 0.00 616.50 158.50\">\n<g id=\"graph0\" class=\"graph\" transform=\"scale(1 1) rotate(0) translate(4 154.5)\">\n<title>my_graph</title>\n<polygon fill=\"white\" stroke=\"none\" points=\"-4,4 -4,-154.5 612.5,-154.5 612.5,4 -4,4\"/>\n<!-- signal -->\n<g id=\"node1\" class=\"node\">\n<title>signal</title>\n<text text-anchor=\"middle\" x=\"39.88\" y=\"-121.33\" font-family=\"Times,serif\" font-size=\"14.00\">signal</text>\n</g>\n<!-- CirqGateAsBloq -->\n<g id=\"node4\" class=\"node\">\n<title>CirqGateAsBloq</title>\n<polygon fill=\"none\" stroke=\"black\" points=\"116.75,-132.5 116.75,-150.5 186.75,-150.5 186.75,-132.5 116.75,-132.5\"/>\n<text text-anchor=\"start\" x=\"137.12\" y=\"-138\" font-family=\"Times,serif\" font-size=\"10.00\">cirq.Z</text>\n<polygon fill=\"none\" stroke=\"black\" points=\"116.75,-109.5 116.75,-132.5 186.75,-132.5 186.75,-109.5 116.75,-109.5\"/>\n<text text-anchor=\"start\" x=\"119.5\" y=\"-116.2\" font-family=\"Times,serif\" font-size=\"14.00\">qubits[0]</text>\n</g>\n<!-- signal&#45;&gt;CirqGateAsBloq -->\n<g id=\"edge1\" class=\"edge\">\n<title>signal:e-&gt;CirqGateAsBloq:w</title>\n<path fill=\"none\" stroke=\"black\" d=\"M69.88,-126C89.84,-126 95.3,-121.46 113.91,-121.03\"/>\n<ellipse fill=\"black\" stroke=\"black\" cx=\"115.25\" cy=\"-121.02\" rx=\"1\" ry=\"1\"/>\n<text text-anchor=\"middle\" x=\"98.25\" y=\"-125.25\" font-family=\"Times,serif\" font-size=\"10.00\">1</text>\n</g>\n<!-- selection_G8 -->\n<g id=\"node2\" class=\"node\">\n<title>selection_G8</title>\n<text text-anchor=\"middle\" x=\"39.88\" y=\"-67.33\" font-family=\"Times,serif\" font-size=\"14.00\">selection</text>\n</g>\n<!-- CirqGateAsBloq_G2 -->\n<g id=\"node6\" class=\"node\">\n<title>CirqGateAsBloq_G2</title>\n<polygon fill=\"none\" stroke=\"black\" points=\"223.75,-106.5 223.75,-124.5 384.75,-124.5 384.75,-106.5 223.75,-106.5\"/>\n<text text-anchor=\"start\" x=\"226.62\" y=\"-112\" font-family=\"Times,serif\" font-size=\"10.00\">cirq.QubitizationWalkOperator</text>\n<polygon fill=\"none\" stroke=\"black\" points=\"223.75,-83.5 223.75,-106.5 384.75,-106.5 384.75,-83.5 223.75,-83.5\"/>\n<text text-anchor=\"start\" x=\"279.12\" y=\"-90.2\" font-family=\"Times,serif\" font-size=\"14.00\">control</text>\n<polygon fill=\"none\" stroke=\"black\" points=\"223.75,-60.5 223.75,-83.5 384.75,-83.5 384.75,-60.5 223.75,-60.5\"/>\n<text text-anchor=\"start\" x=\"272.38\" y=\"-67.2\" font-family=\"Times,serif\" font-size=\"14.00\">selection</text>\n<polygon fill=\"none\" stroke=\"black\" points=\"223.75,-37.5 223.75,-60.5 384.75,-60.5 384.75,-37.5 223.75,-37.5\"/>\n<text text-anchor=\"start\" x=\"282.12\" y=\"-44.2\" font-family=\"Times,serif\" font-size=\"14.00\">target</text>\n</g>\n<!-- selection_G8&#45;&gt;CirqGateAsBloq_G2 -->\n<g id=\"edge3\" class=\"edge\">\n<title>selection_G8:e-&gt;CirqGateAsBloq_G2:w</title>\n<path fill=\"none\" stroke=\"black\" d=\"M79.75,-72C142.75,-72 159.24,-72 220.78,-72\"/>\n<ellipse fill=\"black\" stroke=\"black\" cx=\"222.25\" cy=\"-72\" rx=\"1\" ry=\"1\"/>\n<text text-anchor=\"middle\" x=\"151.75\" y=\"-75.25\" font-family=\"Times,serif\" font-size=\"10.00\">3</text>\n</g>\n<!-- target_G3 -->\n<g id=\"node3\" class=\"node\">\n<title>target_G3</title>\n<text text-anchor=\"middle\" x=\"39.88\" y=\"-13.32\" font-family=\"Times,serif\" font-size=\"14.00\">target</text>\n</g>\n<!-- target_G3&#45;&gt;CirqGateAsBloq_G2 -->\n<g id=\"edge4\" class=\"edge\">\n<title>target_G3:e-&gt;CirqGateAsBloq_G2:w</title>\n<path fill=\"none\" stroke=\"black\" d=\"M70.88,-18C139.25,-18 154.02,-48.16 220.94,-48.98\"/>\n<ellipse fill=\"black\" stroke=\"black\" cx=\"222.25\" cy=\"-48.99\" rx=\"1\" ry=\"1\"/>\n<text text-anchor=\"middle\" x=\"151.75\" y=\"-48.25\" font-family=\"Times,serif\" font-size=\"10.00\">4</text>\n</g>\n<!-- CirqGateAsBloq&#45;&gt;CirqGateAsBloq_G2 -->\n<g id=\"edge2\" class=\"edge\">\n<title>CirqGateAsBloq:e-&gt;CirqGateAsBloq_G2:w</title>\n<path fill=\"none\" stroke=\"black\" d=\"M186.75,-121C205.91,-121 203.9,-97.38 221.07,-95.17\"/>\n<ellipse fill=\"black\" stroke=\"black\" cx=\"222.25\" cy=\"-95.09\" rx=\"1\" ry=\"1\"/>\n<text text-anchor=\"middle\" x=\"205.25\" y=\"-111.25\" font-family=\"Times,serif\" font-size=\"10.00\">1</text>\n</g>\n<!-- CirqGateAsBloq_G0 -->\n<g id=\"node5\" class=\"node\">\n<title>CirqGateAsBloq_G0</title>\n<polygon fill=\"none\" stroke=\"black\" points=\"421.75,-132.5 421.75,-150.5 491.75,-150.5 491.75,-132.5 421.75,-132.5\"/>\n<text text-anchor=\"start\" x=\"427.5\" y=\"-138\" font-family=\"Times,serif\" font-size=\"10.00\">cirq.Y**-0.5</text>\n<polygon fill=\"none\" stroke=\"black\" points=\"421.75,-109.5 421.75,-132.5 491.75,-132.5 491.75,-109.5 421.75,-109.5\"/>\n<text text-anchor=\"start\" x=\"424.5\" y=\"-116.2\" font-family=\"Times,serif\" font-size=\"14.00\">qubits[0]</text>\n</g>\n<!-- signal_G12 -->\n<g id=\"node7\" class=\"node\">\n<title>signal_G12</title>\n<text text-anchor=\"middle\" x=\"568.62\" y=\"-121.33\" font-family=\"Times,serif\" font-size=\"14.00\">signal</text>\n</g>\n<!-- CirqGateAsBloq_G0&#45;&gt;signal_G12 -->\n<g id=\"edge6\" class=\"edge\">\n<title>CirqGateAsBloq_G0:e-&gt;signal_G12:w</title>\n<path fill=\"none\" stroke=\"black\" d=\"M491.75,-121C511.72,-121 517.17,-125.54 535.78,-125.97\"/>\n<ellipse fill=\"black\" stroke=\"black\" cx=\"537.13\" cy=\"-125.98\" rx=\"1\" ry=\"1\"/>\n<text text-anchor=\"middle\" x=\"510.25\" y=\"-125.25\" font-family=\"Times,serif\" font-size=\"10.00\">1</text>\n</g>\n<!-- CirqGateAsBloq_G2&#45;&gt;CirqGateAsBloq_G0 -->\n<g id=\"edge5\" class=\"edge\">\n<title>CirqGateAsBloq_G2:e-&gt;CirqGateAsBloq_G0:w</title>\n<path fill=\"none\" stroke=\"black\" d=\"M384.75,-95C403.91,-95 401.9,-118.62 419.07,-120.83\"/>\n<ellipse fill=\"black\" stroke=\"black\" cx=\"420.25\" cy=\"-120.91\" rx=\"1\" ry=\"1\"/>\n<text text-anchor=\"middle\" x=\"403.25\" y=\"-111.25\" font-family=\"Times,serif\" font-size=\"10.00\">1</text>\n</g>\n<!-- selection_G9 -->\n<g id=\"node8\" class=\"node\">\n<title>selection_G9</title>\n<text text-anchor=\"middle\" x=\"568.62\" y=\"-67.33\" font-family=\"Times,serif\" font-size=\"14.00\">selection</text>\n</g>\n<!-- CirqGateAsBloq_G2&#45;&gt;selection_G9 -->\n<g id=\"edge7\" class=\"edge\">\n<title>CirqGateAsBloq_G2:e-&gt;selection_G9:w</title>\n<path fill=\"none\" stroke=\"black\" d=\"M384.75,-72C447.75,-72 464.24,-72 525.78,-72\"/>\n<ellipse fill=\"black\" stroke=\"black\" cx=\"527.25\" cy=\"-72\" rx=\"1\" ry=\"1\"/>\n<text text-anchor=\"middle\" x=\"456.75\" y=\"-75.25\" font-family=\"Times,serif\" font-size=\"10.00\">3</text>\n</g>\n<!-- target_G11 -->\n<g id=\"node9\" class=\"node\">\n<title>target_G11</title>\n<text text-anchor=\"middle\" x=\"568.62\" y=\"-13.32\" font-family=\"Times,serif\" font-size=\"14.00\">target</text>\n</g>\n<!-- CirqGateAsBloq_G2&#45;&gt;target_G11 -->\n<g id=\"edge8\" class=\"edge\">\n<title>CirqGateAsBloq_G2:e-&gt;target_G11:w</title>\n<path fill=\"none\" stroke=\"black\" d=\"M384.75,-49C453.13,-49 467.9,-18.84 534.81,-18.02\"/>\n<ellipse fill=\"black\" stroke=\"black\" cx=\"536.13\" cy=\"-18.01\" rx=\"1\" ry=\"1\"/>\n<text text-anchor=\"middle\" x=\"456.75\" y=\"-48.25\" font-family=\"Times,serif\" font-size=\"10.00\">4</text>\n</g>\n</g>\n</svg>"
     },
     "metadata": {},
     "output_type": "display_data"
    }
   ],
   "source": [
    "show_bloq(bloq_pU.decompose_bloq())"
   ],
   "metadata": {
    "collapsed": false,
    "ExecuteTime": {
     "end_time": "2023-10-15T20:40:26.563974087Z",
     "start_time": "2023-10-15T20:40:26.429459351Z"
    }
   },
   "id": "e571c325780e9c8a"
  }
 ],
 "metadata": {
  "kernelspec": {
   "display_name": "Python 3",
   "language": "python",
   "name": "python3"
  },
  "language_info": {
   "codemirror_mode": {
    "name": "ipython",
    "version": 2
   },
   "file_extension": ".py",
   "mimetype": "text/x-python",
   "name": "python",
   "nbconvert_exporter": "python",
   "pygments_lexer": "ipython2",
   "version": "2.7.6"
  }
 },
 "nbformat": 4,
 "nbformat_minor": 5
}
