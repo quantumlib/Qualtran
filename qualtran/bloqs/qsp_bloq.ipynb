{
 "cells": [
  {
   "cell_type": "code",
   "execution_count": null,
   "id": "initial_id",
   "metadata": {},
   "outputs": [],
   "source": [
    "import numpy as np\n",
    "\n",
    "import cirq\n",
    "from cirq_ft.algos.qubitization_walk_operator_test import get_walk_operator_for_1d_Ising_model\n",
    "from qualtran.cirq_interop._cirq_to_bloq import CirqGateAsBloq\n",
    "from qualtran.drawing import show_bloq\n",
    "\n",
    "from qualtran.bloqs.qsp_bloq import QEVTCircuit"
   ]
  },
  {
   "cell_type": "code",
   "execution_count": null,
   "id": "fe92e1e9225b8026",
   "metadata": {
    "jupyter": {
     "outputs_hidden": false
    }
   },
   "outputs": [],
   "source": [
    "U = get_walk_operator_for_1d_Ising_model(4, 2e-1)\n",
    "show_bloq(CirqGateAsBloq(U).decompose_bloq())"
   ]
  },
  {
   "cell_type": "markdown",
   "id": "6963c30f339d42de",
   "metadata": {
    "jupyter": {
     "outputs_hidden": false
    }
   },
   "source": [
    "`QEVTCircuit` implements the Quantum Eigenvalue Transform on a unitary $U = e^{iH}$ using QSP. Given a QSP polynomial $P$ (and it's complement $Q$), it implements the unitary:\n",
    "$$U' = \\begin{bmatrix} P(U) & \\cdot \\\\ Q(U) & \\cdot \\end{bmatrix}$$"
   ]
  },
  {
   "cell_type": "code",
   "execution_count": null,
   "id": "dc7100fd94d58c6b",
   "metadata": {
    "jupyter": {
     "outputs_hidden": false
    }
   },
   "outputs": [],
   "source": [
    "pU = QEVTCircuit(U, P=(0.5, 0.5), Q=(0.5, -0.5))\n",
    "bloq_pU = CirqGateAsBloq(pU)"
   ]
  },
  {
   "cell_type": "code",
   "execution_count": null,
   "id": "e571c325780e9c8a",
   "metadata": {
    "jupyter": {
     "outputs_hidden": false
    }
   },
   "outputs": [],
   "source": [
    "show_bloq(bloq_pU.decompose_bloq())"
   ]
  }
 ],
 "metadata": {
  "kernelspec": {
   "display_name": "Python 3 (ipykernel)",
   "language": "python",
   "name": "python3"
  },
  "language_info": {
   "codemirror_mode": {
    "name": "ipython",
    "version": 3
   },
   "file_extension": ".py",
   "mimetype": "text/x-python",
   "name": "python",
   "nbconvert_exporter": "python",
   "pygments_lexer": "ipython3",
   "version": "3.11.5"
  }
 },
 "nbformat": 4,
 "nbformat_minor": 5
}
