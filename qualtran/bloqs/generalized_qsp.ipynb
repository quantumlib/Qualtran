{
 "cells": [
  {
   "cell_type": "markdown",
   "id": "59822098",
   "metadata": {},
   "source": [
    "# Generalized QSP"
   ]
  },
  {
   "cell_type": "code",
   "execution_count": null,
   "id": "initial_id",
   "metadata": {},
   "outputs": [],
   "source": [
    "from qualtran.bloqs.qubitization_walk_operator_test import get_walk_operator_for_1d_ising_model\n",
    "from qualtran.drawing import show_bloq\n",
    "\n",
    "from qualtran.bloqs.generalized_qsp import GeneralizedQSP"
   ]
  },
  {
   "cell_type": "code",
   "execution_count": null,
   "id": "fe92e1e9225b8026",
   "metadata": {},
   "outputs": [],
   "source": [
    "U = get_walk_operator_for_1d_ising_model(4, 2e-1)\n",
    "show_bloq(U.decompose_bloq())"
   ]
  },
  {
   "cell_type": "markdown",
   "id": "6963c30f339d42de",
   "metadata": {},
   "source": [
    "`GeneralizedQSP` implements the Quantum Eigenvalue Transform on a unitary $U$ using QSP. Given a complex QSP polynomial $P$ (and its complement $Q$), it implements the unitary:\n",
    "$$U' = \\begin{bmatrix} P(U) & \\cdot \\\\ Q(U) & \\cdot \\end{bmatrix}$$\n",
    "\n",
    "Here, the polynomials $P, Q$ must satisfy the following constraint:\n",
    "\n",
    "$$\\left\\mid P(e^{i\\theta}) \\right\\mid^2 + \\left\\mid Q(e^{i\\theta}) \\right\\mid^2 = 1 ~~\\text{for every}~ \\theta \\in [0, 2\\pi]$$\n",
    "\n",
    "\n",
    "Reference: https://arxiv.org/abs/2308.01501"
   ]
  },
  {
   "cell_type": "code",
   "execution_count": null,
   "id": "dc7100fd94d58c6b",
   "metadata": {},
   "outputs": [],
   "source": [
    "pU = GeneralizedQSP(U, (0.5, 0.5))\n",
    "show_bloq(pU.decompose_bloq())"
   ]
  },
  {
   "cell_type": "code",
   "execution_count": null,
   "id": "78cd3857297f092b",
   "metadata": {},
   "outputs": [],
   "source": [
    "pU = GeneralizedQSP(U, (0.5, 0, 0.5))\n",
    "show_bloq(pU.decompose_bloq())"
   ]
  }
 ],
 "metadata": {
  "kernelspec": {
   "display_name": "Python 3 (ipykernel)",
   "language": "python",
   "name": "python3"
  },
  "language_info": {
   "codemirror_mode": {
    "name": "ipython",
    "version": 3
   },
   "file_extension": ".py",
   "mimetype": "text/x-python",
   "name": "python",
   "nbconvert_exporter": "python",
   "pygments_lexer": "ipython3",
   "version": "3.10.9"
  }
 },
 "nbformat": 4,
 "nbformat_minor": 5
}
