{
 "cells": [
  {
   "cell_type": "code",
   "execution_count": null,
   "id": "e2fa907b",
   "metadata": {},
   "outputs": [],
   "source": [
    "#  Copyright 2023 Google LLC\n",
    "#\n",
    "#  Licensed under the Apache License, Version 2.0 (the \"License\");\n",
    "#  you may not use this file except in compliance with the License.\n",
    "#  You may obtain a copy of the License at\n",
    "#\n",
    "#      https://www.apache.org/licenses/LICENSE-2.0\n",
    "#\n",
    "#  Unless required by applicable law or agreed to in writing, software\n",
    "#  distributed under the License is distributed on an \"AS IS\" BASIS,\n",
    "#  WITHOUT WARRANTIES OR CONDITIONS OF ANY KIND, either express or implied.\n",
    "#  See the License for the specific language governing permissions and\n",
    "#  limitations under the License."
   ]
  },
  {
   "cell_type": "markdown",
   "id": "49b5e1e6",
   "metadata": {},
   "source": [
    "# Unary Iteration"
   ]
  },
  {
   "cell_type": "markdown",
   "id": "fcdb39f2",
   "metadata": {},
   "source": [
    "Given an array of potential operations, for example:\n",
    "\n",
    "    ops = [X(i) for i in range(5)]\n",
    "    \n",
    "we would like to select an operation to apply:\n",
    "\n",
    "    n = 4 --> apply ops[4]\n",
    "    \n",
    "If $n$ is a quantum integer, we need to apply the transformation\n",
    "\n",
    "$$\n",
    "    |n \\rangle |\\psi\\rangle \\rightarrow |n\\rangle \\, \\mathrm{ops}_n \\cdot |\\psi\\rangle\n",
    "$$\n",
    "\n",
    "The simplest conceptual way to do this is to use a \"total control\" quantum circuit where you introduce a multi-controlled operation for each of the `len(ops)` possible `n` values."
   ]
  },
  {
   "cell_type": "code",
   "execution_count": null,
   "id": "0148f529",
   "metadata": {},
   "outputs": [],
   "source": [
    "import cirq\n",
    "from cirq.contrib.svg import SVGCircuit\n",
    "import numpy as np\n",
    "from typing import *"
   ]
  },
  {
   "cell_type": "code",
   "execution_count": null,
   "id": "32e90969",
   "metadata": {},
   "outputs": [],
   "source": [
    "import operator\n",
    "import cirq._compat\n",
    "import itertools"
   ]
  },
  {
   "cell_type": "markdown",
   "id": "a6d947da",
   "metadata": {},
   "source": [
    "## Total Control\n",
    "\n",
    "Here, we'll use Sympy's boolean logic to show how total control works. We perform an `And( ... )` for each possible bit pattern. We use an `Xnor` on each selection bit to toggle whether it's a positive or negative control (filled or open circle in quantum circuit diagrams).\n",
    "\n",
    "In this example, we indeed consider $X_n$ as our potential operations and toggle bits in the `target` register according to the total control."
   ]
  },
  {
   "cell_type": "code",
   "execution_count": null,
   "id": "8e61bf03",
   "metadata": {
    "scrolled": false
   },
   "outputs": [],
   "source": [
    "import sympy as S\n",
    "import sympy.logic.boolalg as slb\n",
    "\n",
    "def total_control(selection, target):\n",
    "    \"\"\"Toggle bits in `target` depending on `selection`.\"\"\"\n",
    "    print(f\"Selection is {selection}\")\n",
    "    \n",
    "    for n, trial in enumerate(itertools.product((0, 1), repeat=len(selection))):\n",
    "        print(f\"Step {n}, apply total control: {trial}\")\n",
    "        target[n] ^= slb.And(*[slb.Xnor(s, t) for s, t in zip(selection, trial)])\n",
    "          \n",
    "        if target[n] == S.true:\n",
    "            print(f\"  -> At this stage, {n}= and our output bit is set\")\n",
    "\n",
    "        \n",
    "selection = [0, 0, 0]\n",
    "target = [False]*8\n",
    "total_control(selection, target)    \n",
    "print()\n",
    "print(\"Target:\")\n",
    "print(target)"
   ]
  },
  {
   "cell_type": "markdown",
   "id": "e572a31d",
   "metadata": {},
   "source": [
    "Note that our target register shows we have indeed applied $X_\\mathrm{0b010}$. Try changing `selection` to other bit patterns and notice how it changes."
   ]
  },
  {
   "cell_type": "markdown",
   "id": "a4a75f61",
   "metadata": {},
   "source": [
    "Of course, we don't know what state the selection register will be in. We can use sympy's support for symbolic boolean logic to verify our gadget for all possible selection inputs."
   ]
  },
  {
   "cell_type": "code",
   "execution_count": null,
   "id": "5df67d45",
   "metadata": {},
   "outputs": [],
   "source": [
    "selection = [S.Symbol(f's{i}') for i in range(3)]\n",
    "target = [S.false for i in range(2**len(selection)) ]\n",
    "total_control(selection, target)\n",
    "\n",
    "print()\n",
    "print(\"Target:\")\n",
    "for n, t in enumerate(target):\n",
    "    print(f'{n}= {t}')\n",
    "    \n",
    "tc_target = target.copy()"
   ]
  },
  {
   "cell_type": "markdown",
   "id": "deab0553",
   "metadata": {},
   "source": [
    "As expected, the \"not pattern\" (where `~` is boolean not) matches the binary representations of `n`."
   ]
  },
  {
   "cell_type": "markdown",
   "id": "81b69e70",
   "metadata": {},
   "source": [
    "## Unary Iteration with segment trees\n",
    "\n",
    "A [segment tree](https://en.wikipedia.org/wiki/Segment_tree) is a data structure that allows logrithmic-time querying of intervals. We use a segment tree where each interval is length 1 and comprises all the `n` integers we may select.\n",
    "\n",
    "It is defined recursively by dividing the input interval into two half-size intervals until the left limit meets the right limit."
   ]
  },
  {
   "cell_type": "code",
   "execution_count": null,
   "id": "ab998aa4",
   "metadata": {},
   "outputs": [],
   "source": [
    "def segtree(ctrl, selection, target, depth, left, right):\n",
    "    \"\"\"Toggle bits in `target` depending on `selection` using a recursive segment tree.\"\"\"\n",
    "    print(f'depth={depth} left={left} right={right}', end=' ')\n",
    "    \n",
    "    if left == (right - 1):\n",
    "        # Leaf of the recusion.\n",
    "        print(f'n={n} ctrl={ctrl}')\n",
    "        target[left] ^= ctrl\n",
    "        return \n",
    "    print()\n",
    "    \n",
    "    assert depth < len(selection)\n",
    "    mid = (left + right) >> 1\n",
    "    \n",
    "    # Recurse left interval\n",
    "    new_ctrl = slb.And(ctrl, slb.Not(selection[depth]))\n",
    "    segtree(ctrl=new_ctrl, selection=selection, target=target, depth=depth+1, left=left, right=mid)\n",
    "    \n",
    "    # Recurse right interval\n",
    "    new_ctrl = slb.And(ctrl, selection[depth])\n",
    "    segtree(ctrl=new_ctrl, selection=selection, target=target, depth=depth+1, left=mid, right=right)\n",
    "    \n",
    "    # Quantum note:\n",
    "    # instead of throwing away the first value of `new_ctrl` and re-anding\n",
    "    # with selection, we can just invert the first one (but only if `ctrl` is active)\n",
    "    # new_ctrl ^= ctrl"
   ]
  },
  {
   "cell_type": "code",
   "execution_count": null,
   "id": "6a514ee6",
   "metadata": {},
   "outputs": [],
   "source": [
    "selection = [S.Symbol(f's{i}') for i in range(3)]\n",
    "target = [S.false for i in range(2**len(selection)) ]\n",
    "segtree(S.true, selection, target, 0, 0, 2**len(selection))\n",
    "\n",
    "print()\n",
    "print(\"Target:\")\n",
    "for n, t in enumerate(target):\n",
    "    print(f'n={n} {slb.simplify_logic(t)}')"
   ]
  },
  {
   "cell_type": "code",
   "execution_count": null,
   "id": "23d91438",
   "metadata": {},
   "outputs": [],
   "source": [
    "print(f\"{'n':3s} | {'segtree':18s} | {'total control':18s} | same?\")\n",
    "for n, (t1, t2) in enumerate(zip(target, tc_target)):\n",
    "    t1 = slb.simplify_logic(t1)\n",
    "    print(f'{n:3d} | {str(t1):18s} | {str(t2):18s} | {str(t1==t2)}')"
   ]
  },
  {
   "cell_type": "markdown",
   "id": "e39448e6",
   "metadata": {},
   "source": [
    "## Quantum Circuit\n",
    "\n",
    "We can translate the boolean logic to reversible, quantum logic. It is instructive to start from the suboptimal total control quantum circuit for comparison purposes. We can build this as in the sympy boolean-logic case by adding controlled X operations to the target signature, with the controls on the selection signature toggled on or off according to the binary representation of the selection index.\n",
    "\n",
    "Let us first build a GateWithRegisters object to implement the circuit"
   ]
  },
  {
   "cell_type": "code",
   "execution_count": null,
   "id": "6b37d717",
   "metadata": {},
   "outputs": [],
   "source": [
    "import cirq\n",
    "from functools import cached_property\n",
    "from qualtran import Signature, GateWithRegisters, QUInt\n",
    "\n",
    "class TotallyControlledNot(GateWithRegisters):\n",
    "    \n",
    "    def __init__(self, selection_bitsize: int, target_bitsize: int, control_bitsize: int = 1):\n",
    "        self._selection_bitsize = selection_bitsize\n",
    "        self._target_bitsize = target_bitsize\n",
    "        self._control_bitsize = control_bitsize\n",
    "\n",
    "    @cached_property\n",
    "    def signature(self) -> Signature:\n",
    "        return Signature(\n",
    "            [\n",
    "                *Signature.build(control=self._control_bitsize),\n",
    "                *Signature.build(selection=self._selection_bitsize),\n",
    "                *Signature.build(target=self._target_bitsize)\n",
    "            ]\n",
    "        )\n",
    "\n",
    "    def decompose_from_registers(self, **qubit_regs: Sequence[cirq.Qid]) -> cirq.OP_TREE:\n",
    "        num_controls = self._control_bitsize + self._selection_bitsize\n",
    "        for target_bit in range(self._target_bitsize):\n",
    "            bit_pattern = QUInt(self._selection_bitsize).to_bits(target_bit)\n",
    "            control_values = [1]*self._control_bitsize + list(bit_pattern)\n",
    "            yield cirq.X.controlled(\n",
    "                num_controls=num_controls,\n",
    "                control_values=control_values\n",
    "                ).on(\n",
    "                    *qubit_regs[\"control\"], \n",
    "                    *qubit_regs[\"selection\"],\n",
    "                    qubit_regs[\"target\"][-(target_bit+1)])\n",
    "        "
   ]
  },
  {
   "cell_type": "code",
   "execution_count": null,
   "id": "1f7b6758",
   "metadata": {},
   "outputs": [],
   "source": [
    "import qualtran.cirq_interop.testing as cq_testing\n",
    "tc_not = TotallyControlledNot(3, 5)\n",
    "tc = cq_testing.GateHelper(tc_not)\n",
    "cirq.Circuit((cirq.decompose_once(tc.operation)))\n",
    "SVGCircuit(cirq.Circuit(cirq.decompose_once(tc.operation)))"
   ]
  },
  {
   "cell_type": "markdown",
   "id": "7b28663a",
   "metadata": {},
   "source": [
    "## Tests for Correctness\n",
    "\n",
    "We can use a full statevector simulation to compare the desired statevector to the one generated by the unary iteration circuit for each basis state."
   ]
  },
  {
   "cell_type": "code",
   "execution_count": null,
   "id": "574c5058",
   "metadata": {},
   "outputs": [],
   "source": [
    "selection_bitsize = 3\n",
    "target_bitsize = 5\n",
    "for n in range(target_bitsize):\n",
    "    # Initial qubit values\n",
    "    qubit_vals = {q: 0 for q in tc.all_qubits}\n",
    "    # All controls 'on' to activate circuit\n",
    "    qubit_vals.update({c: 1 for c in tc.quregs['control']})\n",
    "    # Set selection according to `n`\n",
    "    qubit_vals.update(zip(tc.quregs['selection'], QUInt(selection_bitsize).to_bits(n)))\n",
    "\n",
    "    initial_state = [qubit_vals[x] for x in tc.all_qubits]\n",
    "    final_state = [qubit_vals[x] for x in tc.all_qubits]\n",
    "    final_state[-(n+1)] = 1\n",
    "    cq_testing.assert_circuit_inp_out_cirqsim(\n",
    "        tc.circuit, tc.all_qubits, initial_state, final_state\n",
    "    )\n",
    "    print(f'n={n} checked!')"
   ]
  },
  {
   "cell_type": "markdown",
   "id": "d76fcf8f",
   "metadata": {},
   "source": [
    "## Towards a segment tree \n",
    "\n",
    "Next let's see how we can reduce the circuit to the observe the tree structure.\n",
    "First let's recall what we are trying to do with the controlled not. Given a\n",
    "selection integer (say 3 = 011), we want to toggle the bit in the target\n",
    "register to on if the qubit 1 and 2 are set to on in the selection register."
   ]
  },
  {
   "cell_type": "code",
   "execution_count": null,
   "id": "3aca2666",
   "metadata": {},
   "outputs": [],
   "source": [
    "# The selection bits [1-3] are set according to binary representation of the number 3 (011)\n",
    "initial_state = [1, 0, 1, 1, 0, 0, 0, 0, 0]\n",
    "final_state = [1, 0, 1, 1, 0, 1, 0, 0, 0]\n",
    "actual, should_be = cq_testing.get_circuit_inp_out_cirqsim(\n",
    "        tc.circuit, tc.all_qubits, initial_state, final_state\n",
    "    )\n",
    "print(\"simulated: \", actual)\n",
    "print(\"expected : \", should_be)\n"
   ]
  },
  {
   "cell_type": "markdown",
   "id": "4640eeed",
   "metadata": {},
   "source": [
    "Now what is important to note is that we can remove many repeated controlled operations by using ancilla qubits to flag what part of the circuit we need to apply, this works because we know the bit pattern of nearby integers is very similar. \n",
    "\n",
    "A circuit demonstrating this for our example is given below."
   ]
  },
  {
   "cell_type": "code",
   "execution_count": null,
   "id": "ef853ae7",
   "metadata": {},
   "outputs": [],
   "source": [
    "from qualtran.bloqs.mcmt import And\n",
    "\n",
    "selection_bitsize = 2\n",
    "target_bitsize = 4\n",
    "qubits = cirq.LineQubit(0).range(1 + selection_bitsize * 2 + target_bitsize)\n",
    "circuit = cirq.Circuit()\n",
    "circuit.append(\n",
    "    [\n",
    "        And(1, 0).on(qubits[0], qubits[1], qubits[2]),\n",
    "        And(1, 0).on(qubits[2], qubits[3], qubits[4]),\n",
    "        cirq.CX(qubits[4], qubits[8]),\n",
    "        cirq.CNOT(qubits[2], qubits[4]),\n",
    "        cirq.CX(qubits[4], qubits[7]),\n",
    "        And().adjoint().on(qubits[2], qubits[3], qubits[4]),\n",
    "        cirq.CNOT(qubits[0], qubits[2]),\n",
    "        And(1, 0).on(qubits[2], qubits[3], qubits[4]),\n",
    "        cirq.CX(qubits[4], qubits[6]),\n",
    "        cirq.CNOT(qubits[2], qubits[4]),\n",
    "        cirq.CX(qubits[4], qubits[5]),\n",
    "        And().adjoint().on(qubits[2], qubits[3], qubits[4]),\n",
    "        And().adjoint().on(qubits[0], qubits[1], qubits[2]),\n",
    "    ]\n",
    ")\n",
    "\n",
    "SVGCircuit(circuit)"
   ]
  },
  {
   "cell_type": "markdown",
   "id": "b9d45d52",
   "metadata": {},
   "source": [
    "Reading from left to right we first check the control is set to on and the selection qubit is off, if both these conditions are met then the ancilla qubit is now set to 1. The next control checks if the previous condition was met and likewise the second selection index is also off. At this point if both these conditions are met we must be indexing 0 as the first two qubits are set to off (00), otherwise we know that we want to apply X to qubit 1 so we perform a CNOT operation to flip the bit value in the second ancilla qubit, before returning back up the circuit. Now if the left half of the circuit was not applied (i.e. the first selection register was set to 1) then the CNOT between the control qubit and the first ancilla qubit causes the ancilla qubit to toggle on. This triggers the right side of the circuit, which now performs the previously described operations to figure out if the lowest bit is set. Combining these two then yields the expected controlled X operation. \n",
    "\n",
    "Below we check the circuit is giving the expected behaviour."
   ]
  },
  {
   "cell_type": "code",
   "execution_count": null,
   "id": "83d1287d",
   "metadata": {},
   "outputs": [],
   "source": [
    "initial_state = [1, 0, 0, 0, 0, 0, 0, 0, 0]\n",
    "target_indx = 3\n",
    "sel_bits = QUInt(selection_bitsize).to_bits(target_indx)\n",
    "sel_indices = [i for i in range(1, 2*selection_bitsize+1, 2)]\n",
    "initial_state[sel_indices[0]] = sel_bits[0]\n",
    "initial_state[sel_indices[1]] = sel_bits[1]\n",
    "result = cirq.Simulator(dtype=np.complex128).simulate(\n",
    "    circuit, initial_state=initial_state\n",
    ")\n",
    "actual = result.dirac_notation(decimals=2)[1:-1]\n",
    "print(\"simulated: {}, index set in string {}\".format(actual, len(qubits)-1-target_indx))"
   ]
  },
  {
   "cell_type": "markdown",
   "id": "a86e0d42",
   "metadata": {},
   "source": [
    "Extending the above idea to larger ranges of integers is relatively straightforward. For example consider the next simplest case of $L=8 = 2^3$. The circuit above takes care of the last two bits and can be duplicated. For the extra bit we just need to add a additional `AND` operations, and a CNOT to switch between the original range `[0,3]` or the new range `[4,7]` depending on whether the new selection register is off or on respectively. This procedure can be repeated and we can begin to notice the recursive tree-like structure. \n",
    "\n",
    "This structure is just the segtree described previously for boolean logic and this gives is the basic idea of unary iteration, \n",
    "which uses `L-1` `AND` operations. Below the `ApplyXToLthQubit` builds the controlled Not operation using the `UnaryIterationGate` as a base class which defines the `decompose_from_registers` method appropriately to recursively construct the unary iteration circuit.\n",
    "\n",
    "Note below a different ordering of ancilla and selection qubits is taken to what was used in the simpler `L=4` example."
   ]
  },
  {
   "cell_type": "code",
   "execution_count": null,
   "id": "9cba52b1",
   "metadata": {},
   "outputs": [],
   "source": [
    "from qualtran import QAny, Register, Register, BoundedQUInt\n",
    "from qualtran.bloqs.multiplexers.unary_iteration_bloq import UnaryIterationGate\n",
    "from functools import cached_property\n",
    "\n",
    "\n",
    "\n",
    "class ApplyXToLthQubit(UnaryIterationGate):\n",
    "    def __init__(self, selection_bitsize: int, target_bitsize: int, control_bitsize: int = 1):\n",
    "        self._selection_bitsize = selection_bitsize\n",
    "        self._target_bitsize = target_bitsize\n",
    "        self._control_bitsize = control_bitsize\n",
    "\n",
    "    @cached_property\n",
    "    def control_registers(self) -> Tuple[Register, ...]:\n",
    "        return (Register('control', QAny(self._control_bitsize)),)\n",
    "\n",
    "    @cached_property\n",
    "    def selection_registers(self) -> Tuple[Register, ...]:\n",
    "        return (Register('selection', BoundedQUInt(self._selection_bitsize, self._target_bitsize)),)\n",
    "\n",
    "    @cached_property\n",
    "    def target_registers(self) -> Tuple[Register, ...]:\n",
    "        return (Register('target', QAny(self._target_bitsize)),)\n",
    "\n",
    "    def nth_operation(\n",
    "        self, context, control: cirq.Qid, selection: int, target: Sequence[cirq.Qid]\n",
    "    ) -> cirq.OP_TREE:\n",
    "        return cirq.CNOT(control, target[-(selection + 1)])"
   ]
  },
  {
   "cell_type": "code",
   "execution_count": null,
   "id": "a1e4bafa",
   "metadata": {},
   "outputs": [],
   "source": [
    "import qualtran.cirq_interop.testing as cq_testing\n",
    "selection_bitsize = 3\n",
    "target_bitsize = 5\n",
    "\n",
    "g = cq_testing.GateHelper(\n",
    "    ApplyXToLthQubit(selection_bitsize, target_bitsize))\n",
    "SVGCircuit(cirq.Circuit(cirq.decompose_once(g.operation)))"
   ]
  },
  {
   "cell_type": "markdown",
   "id": "13773620",
   "metadata": {},
   "source": [
    "## Tests for Correctness\n",
    "\n",
    "We can use a full statevector simulation to check again that the optimized circuit produces the expected result."
   ]
  },
  {
   "cell_type": "code",
   "execution_count": null,
   "id": "32ae469b",
   "metadata": {},
   "outputs": [],
   "source": [
    "from qualtran import QUInt\n",
    "\n",
    "for n in range(target_bitsize):\n",
    "    # Initial qubit values\n",
    "    qubit_vals = {q: 0 for q in g.all_qubits}\n",
    "    # All controls 'on' to activate circuit\n",
    "    qubit_vals.update({c: 1 for c in g.quregs['control']})\n",
    "    # Set selection according to `n`\n",
    "    qubit_vals.update(zip(g.quregs['selection'], QUInt(selection_bitsize).to_bits(n)))\n",
    "\n",
    "    initial_state = [qubit_vals[x] for x in g.all_qubits]\n",
    "    qubit_vals[g.quregs['target'][-(n + 1)]] = 1\n",
    "    final_state = [qubit_vals[x] for x in g.all_qubits]\n",
    "    cq_testing.assert_circuit_inp_out_cirqsim(\n",
    "        g.decomposed_circuit, g.all_qubits, initial_state, final_state\n",
    "    )\n",
    "    print(f'n={n} checked!')"
   ]
  }
 ],
 "metadata": {
  "kernelspec": {
   "display_name": "Python 3 (ipykernel)",
   "language": "python",
   "name": "python3"
  },
  "language_info": {
   "codemirror_mode": {
    "name": "ipython",
    "version": 3
   },
   "file_extension": ".py",
   "mimetype": "text/x-python",
   "name": "python",
   "nbconvert_exporter": "python",
   "pygments_lexer": "ipython3",
   "version": "3.10.9"
  }
 },
 "nbformat": 4,
 "nbformat_minor": 5
}
