{
 "cells": [
  {
   "cell_type": "markdown",
   "id": "a6993083",
   "metadata": {
    "cq.autogen": "title_cell"
   },
   "source": [
    "# Apply Lth Bloq"
   ]
  },
  {
   "cell_type": "code",
   "execution_count": null,
   "id": "626a98f3",
   "metadata": {
    "cq.autogen": "top_imports"
   },
   "outputs": [],
   "source": [
    "from qualtran import Bloq, CompositeBloq, BloqBuilder, Signature, Register\n",
    "from qualtran import QBit, QInt, QUInt, QAny\n",
    "from qualtran.drawing import show_bloq, show_call_graph, show_counts_sigma\n",
    "from typing import *\n",
    "import numpy as np\n",
    "import sympy\n",
    "import cirq"
   ]
  },
  {
   "cell_type": "markdown",
   "id": "f87d064a",
   "metadata": {
    "cq.autogen": "ApplyLthBloq.bloq_doc.md"
   },
   "source": [
    "## `ApplyLthBloq`\n",
    "A SELECT operation that executes one of a list of bloqs $U_l$ based on a quantum index:\n",
    "\n",
    "$$\n",
    "\\mathrm{SELECT} = \\sum_{l}|l \\rangle \\langle l| \\otimes U_l\n",
    "$$\n",
    "\n",
    "This bloq uses the unary iteration scheme to apply `ops[selection]` controlled on an optional\n",
    "single-bit `control` register.\n",
    "\n",
    "#### Parameters\n",
    " - `ops`: NDArray of bloqs. Each bloq must have identical registers that are all THRU.\n",
    " - `selection_regs`: List of selection registers, defaults to N-D selection index based on `ops`.\n",
    " - `control_val`: If provided, a singly controlled gate is constructed. \n",
    "\n",
    "#### Registers\n",
    " - `selection`: The indices of the bloq in `ops` to execute.\n",
    " - `control`: The control bit if specified above.\n",
    " - `[user_spec]`: The output registers of the bloqs in `ops`. \n",
    "\n",
    "#### References\n",
    " - [Encoding Electronic Spectra in Quantum Circuits with Linear T Complexity]( https://arxiv.org/abs/1805.03662). Babbush et. al. (2018). Section III.A. and Figure 7.\n"
   ]
  },
  {
   "cell_type": "code",
   "execution_count": null,
   "id": "79159c94",
   "metadata": {
    "cq.autogen": "ApplyLthBloq.bloq_doc.py"
   },
   "outputs": [],
   "source": [
    "from qualtran.bloqs.multiplexers.apply_lth_bloq import ApplyLthBloq"
   ]
  },
  {
   "cell_type": "markdown",
   "id": "a8ab572d",
   "metadata": {
    "cq.autogen": "ApplyLthBloq.example_instances.md"
   },
   "source": [
    "### Example Instances"
   ]
  },
  {
   "cell_type": "code",
   "execution_count": null,
   "id": "054c9a08",
   "metadata": {
    "cq.autogen": "ApplyLthBloq.apply_lth_bloq"
   },
   "outputs": [],
   "source": [
    "from qualtran.bloqs.basic_gates import Hadamard, TGate, XGate, ZGate\n",
    "\n",
    "ops = np.array((TGate(), Hadamard(), ZGate(), XGate()))\n",
    "apply_lth_bloq = ApplyLthBloq(ops, control_val=1)"
   ]
  },
  {
   "cell_type": "markdown",
   "id": "5902609c",
   "metadata": {
    "cq.autogen": "ApplyLthBloq.graphical_signature.md"
   },
   "source": [
    "#### Graphical Signature"
   ]
  },
  {
   "cell_type": "code",
   "execution_count": null,
   "id": "0c1f7131",
   "metadata": {
    "cq.autogen": "ApplyLthBloq.graphical_signature.py"
   },
   "outputs": [],
   "source": [
    "from qualtran.drawing import show_bloqs\n",
    "show_bloqs([apply_lth_bloq],\n",
    "           ['`apply_lth_bloq`'])"
   ]
  },
  {
   "cell_type": "markdown",
   "id": "ea47186f",
   "metadata": {
    "cq.autogen": "ApplyLthBloq.call_graph.md"
   },
   "source": [
    "### Call Graph"
   ]
  },
  {
   "cell_type": "code",
   "execution_count": null,
   "id": "984f9c96",
   "metadata": {
    "cq.autogen": "ApplyLthBloq.call_graph.py"
   },
   "outputs": [],
   "source": [
    "from qualtran.resource_counting.generalizers import ignore_split_join\n",
    "apply_lth_bloq_g, apply_lth_bloq_sigma = apply_lth_bloq.call_graph(max_depth=1, generalizer=ignore_split_join)\n",
    "show_call_graph(apply_lth_bloq_g)\n",
    "show_counts_sigma(apply_lth_bloq_sigma)"
   ]
  }
 ],
 "metadata": {
  "kernelspec": {
   "display_name": "Python 3",
   "language": "python",
   "name": "python3"
  },
  "language_info": {
   "name": "python"
  }
 },
 "nbformat": 4,
 "nbformat_minor": 5
}
