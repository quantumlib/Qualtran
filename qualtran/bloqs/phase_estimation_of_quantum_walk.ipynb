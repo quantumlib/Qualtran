{
 "cells": [
  {
   "cell_type": "markdown",
   "metadata": {},
   "source": [
    "# Phase Estimation of Quantum Walks"
   ]
  },
  {
   "cell_type": "code",
   "execution_count": null,
   "metadata": {},
   "outputs": [],
   "source": [
    "#  Copyright 2023 Google LLC\n",
    "#\n",
    "#  Licensed under the Apache License, Version 2.0 (the \"License\");\n",
    "#  you may not use this file except in compliance with the License.\n",
    "#  You may obtain a copy of the License at\n",
    "#\n",
    "#      https://www.apache.org/licenses/LICENSE-2.0\n",
    "#\n",
    "#  Unless required by applicable law or agreed to in writing, software\n",
    "#  distributed under the License is distributed on an \"AS IS\" BASIS,\n",
    "#  WITHOUT WARRANTIES OR CONDITIONS OF ANY KIND, either express or implied.\n",
    "#  See the License for the specific language governing permissions and\n",
    "#  limitations under the License."
   ]
  },
  {
   "cell_type": "markdown",
   "metadata": {},
   "source": [
    "## Heisenberg limited phase estimation\n",
    "Implements Heisenberg-Limited Phase Estimation of the Qubitized Quantum Walks as described in Section-II B. of [Encoding Electronic Spectra in Quantum Circuits with Linear T Complexity](https://arxiv.org/abs/1805.03662)"
   ]
  },
  {
   "cell_type": "code",
   "execution_count": null,
   "metadata": {},
   "outputs": [],
   "source": [
    "import cirq\n",
    "import numpy as np\n",
    "import attrs\n",
    "\n",
    "from qualtran import GateWithRegisters, Signature, Register, QFxp \n",
    "from qualtran._infra.gate_with_registers import get_named_qubits\n",
    "from qualtran.bloqs.qubitization_walk_operator import QubitizationWalkOperator\n",
    "from qualtran.bloqs.qubitization_walk_operator_test import get_walk_operator_for_1d_Ising_model\n",
    "from qualtran.bloqs.hubbard_model import get_walk_operator_for_hubbard_model\n",
    "from qualtran.cirq_interop.testing import GateHelper\n",
    "from qualtran.cirq_interop.t_complexity_protocol import t_complexity\n",
    "from qualtran.drawing.flame_graph import show_flame_graph\n",
    "from qualtran.resource_counting.generalizers import cirq_to_bloqs"
   ]
  },
  {
   "cell_type": "code",
   "execution_count": null,
   "metadata": {},
   "outputs": [],
   "source": [
    "def get_resource_state(m: int):\n",
    "    r\"\"\"Returns a state vector representing the resource state on m qubits from Eq.17 of Ref-1.\n",
    "    \n",
    "    Returns a numpy array of size 2^{m} representing the state vector corresponding to the state\n",
    "    $$\n",
    "        \\sqrt{\\frac{2}{2^m + 1}} \\sum_{n=0}^{2^{m}-1} \\sin{\\frac{\\pi(n + 1)}{2^{m}+1}}\\ket{n}\n",
    "    $$\n",
    "    \n",
    "    Args:\n",
    "        m: Number of qubits to prepare the resource state on.\n",
    "    \n",
    "    Ref:\n",
    "        1) [Encoding Electronic Spectra in Quantum Circuits with Linear T Complexity]\n",
    "            (https://arxiv.org/abs/1805.03662)\n",
    "            Eq. 17\n",
    "    \"\"\"\n",
    "    den = 1 + 2 ** m\n",
    "    norm = np.sqrt(2 / den)\n",
    "    return norm * np.sin(np.pi * (1 + np.arange(2**m)) / den)        \n",
    "\n",
    "\n",
    "@attrs.frozen\n",
    "class ResourceStatePhaseEstimation(GateWithRegisters):\n",
    "    \"\"\"Heisenberg limited phase estimation circuit for learning eigenphase of `walk`.\n",
    "    \n",
    "    The method yields an OPTREE to construct Heisenberg limited phase estimation circuit \n",
    "    for learning eigenphases of the `walk` operator with `m` bits of accuracy. The \n",
    "    circuit is implemented as given in Fig.2 of Ref-1.\n",
    "    \n",
    "    Args:\n",
    "        walk: Qubitization walk operator.\n",
    "        m: Number of bits of accuracy for phase estimation. \n",
    "        \n",
    "    Ref:\n",
    "        1) [Encoding Electronic Spectra in Quantum Circuits with Linear T Complexity]\n",
    "            (https://arxiv.org/abs/1805.03662)\n",
    "            Fig. 2\n",
    "    \"\"\"\n",
    "    walk: QubitizationWalkOperator\n",
    "    m: int\n",
    "\n",
    "    @property\n",
    "    def signature(self) -> Signature:\n",
    "        return Signature([*self.walk.signature, Register('phase_reg', QFxp(self.m, self.m))])\n",
    "\n",
    "    def pretty_name(self) -> str:\n",
    "        return f'ResourceStatePhaseEstimation[walk][{self.m}]'\n",
    "\n",
    "    def decompose_from_registers(self, **quregs):\n",
    "        m, walk = self.m, self.walk\n",
    "        reflect = walk.reflect\n",
    "        walk_regs = {reg.name: quregs[reg.name] for reg in self.walk.signature}\n",
    "        reflect_regs = {reg.name: walk_regs[reg.name] for reg in reflect.signature}\n",
    "        \n",
    "        reflect_controlled = reflect.controlled(control_values=[0])\n",
    "        walk_controlled = walk.controlled(control_values=[1])\n",
    "    \n",
    "        m_qubits = quregs['phase_reg']\n",
    "    \n",
    "        yield walk_controlled.on_registers(**walk_regs, control=m_qubits[0])\n",
    "        for i in range(1, m):\n",
    "            yield reflect_controlled.on_registers(control=m_qubits[i], **reflect_regs)\n",
    "            yield walk.on_registers(**walk_regs)\n",
    "            walk = walk ** 2\n",
    "            yield reflect_controlled.on_registers(control=m_qubits[i], **reflect_regs)\n",
    "            \n",
    "\n",
    "def phase_estimation(walk, m_bits):\n",
    "    pe_walk = ResourceStatePhaseEstimation(walk, m_bits)\n",
    "    gh = GateHelper(pe_walk)\n",
    "    state_prep = cirq.StatePreparationChannel(get_resource_state(m_bits), name='chi_m')\n",
    "    yield state_prep.on(*gh.quregs['phase_reg'])\n",
    "    yield from cirq.decompose_once(gh.operation)\n",
    "    yield cirq.qft(*gh.quregs['phase_reg'], inverse=True)"
   ]
  },
  {
   "cell_type": "code",
   "execution_count": null,
   "metadata": {},
   "outputs": [],
   "source": [
    "x_dim, y_dim = 20, 20\n",
    "t = 20\n",
    "mu = 4 * t\n",
    "N = x_dim * y_dim * 2\n",
    "qlambda = 2 * N * t + (N * mu) // 2\n",
    "delta_E = t / 100\n",
    "m_bits = int(np.log2(qlambda * np.pi * np.sqrt(2) / delta_E))\n",
    "walk = get_walk_operator_for_hubbard_model(x_dim, y_dim, t, mu)\n",
    "print(walk.t_complexity())\n",
    "show_flame_graph(walk, file_path='out.svg')"
   ]
  },
  {
   "cell_type": "code",
   "execution_count": null,
   "metadata": {},
   "outputs": [],
   "source": [
    "num_sites: int = 6\n",
    "eps: float = 1e-2\n",
    "m_bits: int = 4\n",
    "\n",
    "\n",
    "circuit = cirq.Circuit(phase_estimation(get_walk_operator_for_1d_Ising_model(num_sites, eps), m_bits))\n",
    "print(circuit)\n",
    "print(t_complexity(circuit[1:-1]))\n",
    "pe_walk = ResourceStatePhaseEstimation(get_walk_operator_for_1d_Ising_model(num_sites, eps), m_bits)\n",
    "show_flame_graph(pe_walk)"
   ]
  },
  {
   "cell_type": "markdown",
   "metadata": {},
   "source": [
    "## Resource estimates for 1D Ising model using generic SELECT / PREPARE "
   ]
  },
  {
   "cell_type": "code",
   "execution_count": null,
   "metadata": {},
   "outputs": [],
   "source": [
    "num_sites: int = 200\n",
    "eps: float = 1e-5\n",
    "m_bits: int = 14\n",
    "\n",
    "walk = get_walk_operator_for_1d_Ising_model(num_sites, eps)\n",
    "\n",
    "circuit = cirq.Circuit(phase_estimation(walk, m_bits))\n",
    "%time result = t_complexity(circuit[1:-1])\n",
    "print(result)"
   ]
  },
  {
   "cell_type": "markdown",
   "metadata": {},
   "source": [
    "## Resource estimates for 2D Hubbard model using specialized SELECT / PREPARE \n",
    "Phase estimation of walk operator for 2D Hubbard Model using SELECT and PREPARE circuits from Section V of https://arxiv.org/abs/1805.03662"
   ]
  },
  {
   "cell_type": "code",
   "execution_count": null,
   "metadata": {},
   "outputs": [],
   "source": [
    "x_dim, y_dim = 20, 20\n",
    "t = 20\n",
    "mu = 4 * t\n",
    "N = x_dim * y_dim * 2\n",
    "qlambda = 2 * N * t + (N * mu) // 2\n",
    "delta_E = t / 100\n",
    "m_bits = int(np.log2(qlambda * np.pi * np.sqrt(2) / delta_E))\n",
    "walk = get_walk_operator_for_hubbard_model(x_dim, y_dim, t, mu)\n",
    "circuit = cirq.Circuit(phase_estimation(walk, m_bits))\n",
    "%time result = t_complexity(circuit[1:-1])\n",
    "print(result)"
   ]
  },
  {
   "cell_type": "markdown",
   "metadata": {},
   "source": [
    "## Resource estimates for THC model using specialized SELECT / PREPARE "
   ]
  },
  {
   "cell_type": "code",
   "execution_count": null,
   "metadata": {},
   "outputs": [],
   "source": [
    "from qualtran.bloqs.chemistry.thc.select_bloq import SelectTHC\n",
    "from qualtran.bloqs.chemistry.thc.prepare import PrepareTHC\n",
    "num_spat = 4\n",
    "num_mu = 8\n",
    "t_l = np.random.normal(0, 1, size=num_spat)\n",
    "zeta = np.random.normal(0, 1, size=(num_mu, num_mu))\n",
    "zeta = 0.5 * (zeta + zeta.T)\n",
    "thc_prep = PrepareTHC.from_hamiltonian_coeffs(t_l, zeta, num_bits_state_prep=8)\n",
    "\n",
    "num_mu = 8\n",
    "num_spin_orb = 2 * 4\n",
    "thc_sel = SelectTHC(num_mu=num_mu, num_spin_orb=num_spin_orb, num_bits_theta=12)\n",
    "\n",
    "walk = QubitizationWalkOperator(select=thc_sel, prepare=thc_prep)\n",
    "m_bits = 4\n",
    "pe_walk = ResourceStatePhaseEstimation(walk, m_bits)\n",
    "\n",
    "circuit = cirq.Circuit(phase_estimation(walk, m_bits))\n",
    "%time result = t_complexity(circuit[1:-1])\n",
    "print(result)\n",
    "\n",
    "show_flame_graph(pe_walk)"
   ]
  }
 ],
 "metadata": {
  "kernelspec": {
   "display_name": "Python 3 (ipykernel)",
   "language": "python",
   "name": "python3"
  },
  "language_info": {
   "codemirror_mode": {
    "name": "ipython",
    "version": 3
   },
   "file_extension": ".py",
   "mimetype": "text/x-python",
   "name": "python",
   "nbconvert_exporter": "python",
   "pygments_lexer": "ipython3",
   "version": "3.11.4"
  }
 },
 "nbformat": 4,
 "nbformat_minor": 4
}
