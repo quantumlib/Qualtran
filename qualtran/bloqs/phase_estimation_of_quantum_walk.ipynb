{
 "cells": [
  {
   "cell_type": "markdown",
   "metadata": {},
   "source": [
    "# Phase Estimation of Quantum Walks"
   ]
  },
  {
   "cell_type": "code",
   "execution_count": null,
   "metadata": {},
   "outputs": [],
   "source": [
    "#  Copyright 2023 Google LLC\n",
    "#\n",
    "#  Licensed under the Apache License, Version 2.0 (the \"License\");\n",
    "#  you may not use this file except in compliance with the License.\n",
    "#  You may obtain a copy of the License at\n",
    "#\n",
    "#      https://www.apache.org/licenses/LICENSE-2.0\n",
    "#\n",
    "#  Unless required by applicable law or agreed to in writing, software\n",
    "#  distributed under the License is distributed on an \"AS IS\" BASIS,\n",
    "#  WITHOUT WARRANTIES OR CONDITIONS OF ANY KIND, either express or implied.\n",
    "#  See the License for the specific language governing permissions and\n",
    "#  limitations under the License."
   ]
  },
  {
   "cell_type": "markdown",
   "metadata": {},
   "source": [
    "## Heisenberg limited phase estimation\n",
    "Implements Heisenberg-Limited Phase Estimation of the Qubitized Quantum Walks as described in Section-II B. of [Encoding Electronic Spectra in Quantum Circuits with Linear T Complexity](https://arxiv.org/abs/1805.03662)"
   ]
  },
  {
   "cell_type": "code",
   "execution_count": null,
   "metadata": {},
   "outputs": [],
   "source": [
    "import cirq\n",
    "import numpy as np\n",
    "\n",
    "from qualtran._infra.gate_with_registers import get_named_qubits\n",
    "from qualtran.bloqs.qubitization_walk_operator import QubitizationWalkOperator\n",
    "from qualtran.bloqs.qubitization_walk_operator_test import get_walk_operator_for_1d_ising_model\n",
    "from qualtran.bloqs.hubbard_model import get_walk_operator_for_hubbard_model"
   ]
  },
  {
   "cell_type": "code",
   "execution_count": null,
   "metadata": {},
   "outputs": [],
   "source": [
    "def get_resource_state(m: int):\n",
    "    r\"\"\"Returns a state vector representing the resource state on m qubits from Eq.17 of Ref-1.\n",
    "    \n",
    "    Returns a numpy array of size 2^{m} representing the state vector corresponding to the state\n",
    "    $$\n",
    "        \\sqrt{\\frac{2}{2^m + 1}} \\sum_{n=0}^{2^{m}-1} \\sin{\\frac{\\pi(n + 1)}{2^{m}+1}}\\ket{n}\n",
    "    $$\n",
    "    \n",
    "    Args:\n",
    "        m: Number of qubits to prepare the resource state on.\n",
    "    \n",
    "    Ref:\n",
    "        1) [Encoding Electronic Spectra in Quantum Circuits with Linear T Complexity]\n",
    "            (https://arxiv.org/abs/1805.03662)\n",
    "            Eq. 17\n",
    "    \"\"\"\n",
    "    den = 1 + 2 ** m\n",
    "    norm = np.sqrt(2 / den)\n",
    "    return norm * np.sin(np.pi * (1 + np.arange(2**m)) / den)        \n",
    "    \n",
    "def phase_estimation(walk: QubitizationWalkOperator, m: int) -> cirq.OP_TREE:\n",
    "    \"\"\"Heisenberg limited phase estimation circuit for learning eigenphase of `walk`.\n",
    "    \n",
    "    The method yields an OPTREE to construct Heisenberg limited phase estimation circuit \n",
    "    for learning eigenphases of the `walk` operator with `m` bits of accuracy. The \n",
    "    circuit is implemented as given in Fig.2 of Ref-1.\n",
    "    \n",
    "    Args:\n",
    "        walk: Qubitization walk operator.\n",
    "        m: Number of bits of accuracy for phase estimation. \n",
    "        \n",
    "    Ref:\n",
    "        1) [Encoding Electronic Spectra in Quantum Circuits with Linear T Complexity]\n",
    "            (https://arxiv.org/abs/1805.03662)\n",
    "            Fig. 2\n",
    "    \"\"\"\n",
    "    reflect = walk.reflect\n",
    "    walk_regs = get_named_qubits(walk.signature)\n",
    "    reflect_regs = {reg.name: walk_regs[reg.name] for reg in reflect.signature}\n",
    "    \n",
    "    reflect_controlled = reflect.controlled(control_values=[0])\n",
    "    walk_controlled = walk.controlled(control_values=[1])\n",
    "\n",
    "    m_qubits = [cirq.q(f'm_{i}') for i in range(m)]\n",
    "    state_prep = cirq.StatePreparationChannel(get_resource_state(m), name='chi_m')\n",
    "\n",
    "    yield state_prep.on(*m_qubits)\n",
    "    yield walk_controlled.on_registers(**walk_regs, control=m_qubits[0])\n",
    "    for i in range(1, m):\n",
    "        yield reflect_controlled.on_registers(control=m_qubits[i], **reflect_regs)\n",
    "        walk = walk ** 2\n",
    "        yield walk.on_registers(**walk_regs)\n",
    "        yield reflect_controlled.on_registers(control=m_qubits[i], **reflect_regs)\n",
    "        \n",
    "    yield cirq.qft(*m_qubits, inverse=True)"
   ]
  },
  {
   "cell_type": "code",
   "execution_count": null,
   "metadata": {},
   "outputs": [],
   "source": [
    "num_sites: int = 6\n",
    "eps: float = 1e-2\n",
    "m_bits: int = 4\n",
    "\n",
    "circuit = cirq.Circuit(phase_estimation(get_walk_operator_for_1d_ising_model(num_sites, eps), m=m_bits))\n",
    "print(circuit)"
   ]
  },
  {
   "cell_type": "markdown",
   "metadata": {},
   "source": [
    "## Resource estimates for 1D Ising model using generic SELECT / PREPARE "
   ]
  },
  {
   "cell_type": "code",
   "execution_count": null,
   "metadata": {},
   "outputs": [],
   "source": [
    "from qualtran.cirq_interop.t_complexity_protocol import t_complexity\n",
    "\n",
    "num_sites: int = 200\n",
    "eps: float = 1e-5\n",
    "m_bits: int = 14\n",
    "\n",
    "walk = get_walk_operator_for_1d_ising_model(num_sites, eps)\n",
    "\n",
    "circuit = cirq.Circuit(phase_estimation(walk, m=m_bits))\n",
    "%time result = t_complexity(circuit[1:-1])\n",
    "print(result)"
   ]
  },
  {
   "cell_type": "markdown",
   "metadata": {},
   "source": [
    "## Resource estimates for 2D Hubbard model using specialized SELECT / PREPARE \n",
    "Phase estimation of walk operator for 2D Hubbard Model using SELECT and PREPARE circuits from Section V of https://arxiv.org/abs/1805.03662"
   ]
  },
  {
   "cell_type": "code",
   "execution_count": null,
   "metadata": {},
   "outputs": [],
   "source": [
    "x_dim, y_dim = 20, 20\n",
    "t = 20\n",
    "mu = 4 * t\n",
    "N = x_dim * y_dim * 2\n",
    "qlambda = 2 * N * t + (N * mu) // 2\n",
    "delta_E = t / 100\n",
    "m_bits = int(np.ceil(np.log2(qlambda * np.pi * np.sqrt(2) / delta_E)))\n",
    "walk = get_walk_operator_for_hubbard_model(x_dim, y_dim, t, mu)\n",
    "circuit = cirq.Circuit(phase_estimation(walk, m=m_bits))\n",
    "t_complexity.cache_clear()\n",
    "%time result = t_complexity(circuit[1:-1])\n",
    "print(result)"
   ]
  },
  {
   "cell_type": "code",
   "execution_count": null,
   "metadata": {},
   "outputs": [],
   "source": [
    "from qualtran.bloqs.phase_estimation.qubitization_qpe import _qubitization_qpe_hubbard_model_large\n",
    "from qualtran.drawing import show_call_graph\n",
    "qpe = _qubitization_qpe_hubbard_model_large.make()\n",
    "t_complexity.cache_clear()\n",
    "%time result = qpe.t_complexity()\n",
    "print(result)"
   ]
  }
 ],
 "metadata": {
  "kernelspec": {
   "display_name": "Python 3 (ipykernel)",
   "language": "python",
   "name": "python3"
  },
  "language_info": {
   "codemirror_mode": {
    "name": "ipython",
    "version": 3
   },
   "file_extension": ".py",
   "mimetype": "text/x-python",
   "name": "python",
   "nbconvert_exporter": "python",
   "pygments_lexer": "ipython3",
   "version": "3.11.8"
  }
 },
 "nbformat": 4,
 "nbformat_minor": 4
}
