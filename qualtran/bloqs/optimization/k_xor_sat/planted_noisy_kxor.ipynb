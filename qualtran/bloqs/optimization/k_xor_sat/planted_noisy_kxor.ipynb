{
 "cells": [
  {
   "cell_type": "markdown",
   "id": "2f5804fa",
   "metadata": {
    "cq.autogen": "title_cell"
   },
   "source": [
    "# Algorithm: Planted Noisy kXOR"
   ]
  },
  {
   "cell_type": "code",
   "execution_count": null,
   "id": "2483e4cd",
   "metadata": {
    "cq.autogen": "top_imports"
   },
   "outputs": [],
   "source": [
    "from qualtran import Bloq, CompositeBloq, BloqBuilder, Signature, Register\n",
    "from qualtran import QBit, QInt, QUInt, QAny\n",
    "from qualtran.drawing import show_bloq, show_call_graph, show_counts_sigma\n",
    "from typing import *\n",
    "import numpy as np\n",
    "import sympy\n",
    "import cirq"
   ]
  },
  {
   "cell_type": "markdown",
   "id": "5af9aea4",
   "metadata": {
    "cq.autogen": "PlantedNoisyKXOR.bloq_doc.md"
   },
   "source": [
    "## `PlantedNoisyKXOR`\n",
    "Algorithm for Planted Noisy kXOR.\n",
    "\n",
    "Problem (Problem 2.6 of Ref [1]):\n",
    "\n",
    "Given a noisy-kXOR instance $\\hat{\\mathcal{I}}$ which is drawn either:\n",
    "\n",
    "1. with planted advantage $\\rho$, from $\\tilde\\mathcal{P}^{z}_{n, k}(m, \\rho)$.\n",
    "2. at random, from $\\tilde\\mathcal{R}_{n, k}(m)$.\n",
    "\n",
    "output a single bit such that it is whp `1` in case 1, and `0` in case 2.\n",
    "\n",
    "Algorithm (Section 4.4, Theorem 4.18):\n",
    "We first split the instance into $\\hat{\\mathcal{I}} = \\mathcal{I} \\cup \\mathcal{I}_\\text{guide}$,\n",
    "by placing each constraint independently in $\\mathcal{I}$ with prob. $1 - \\zeta$,\n",
    "otherwise in $\\mathcal{I}_\\text{guide}$.\n",
    "$\\zeta$ is picked to be $1 / \\ln n$.\n",
    "\n",
    "#### Parameters\n",
    " - `inst_guide`: The subset of contraints $\\mathcal{I}_\\text{guide}$ for the guided state.\n",
    " - `inst_solve`: The subset of constraints $\\mathcal{I}$ for eigenvalue estimation.\n",
    " - `ell`: Kikuchi parameter $\\ell$.\n",
    " - `rho`: the planted advantage $\\rho$ in the planted case. \n",
    "\n",
    "#### References\n",
    " - [Quartic quantum speedups for planted inference](https://arxiv.org/abs/2406.19378v1). \n"
   ]
  },
  {
   "cell_type": "code",
   "execution_count": null,
   "id": "357d74a3",
   "metadata": {
    "cq.autogen": "PlantedNoisyKXOR.bloq_doc.py"
   },
   "outputs": [],
   "source": [
    "from qualtran.bloqs.optimization.k_xor_sat import PlantedNoisyKXOR"
   ]
  },
  {
   "cell_type": "markdown",
   "id": "d7f9176e",
   "metadata": {
    "cq.autogen": "PlantedNoisyKXOR.example_instances.md"
   },
   "source": [
    "### Example Instances"
   ]
  },
  {
   "cell_type": "code",
   "execution_count": null,
   "id": "e063c6b5",
   "metadata": {
    "cq.autogen": "PlantedNoisyKXOR.solve_planted_symbolic"
   },
   "outputs": [],
   "source": [
    "from qualtran.bloqs.optimization.k_xor_sat import KXorInstance\n",
    "from qualtran.symbolics import HasLength, ln\n",
    "\n",
    "n, m = sympy.symbols(\"n m\", positive=True, integer=True)\n",
    "k = sympy.symbols(\"k\", positive=True, integer=True, even=True)\n",
    "c = sympy.symbols(\"c\", positive=True, integer=True)\n",
    "ell = c * k\n",
    "rho = sympy.Symbol(r\"\\rho\", positive=True, real=True)\n",
    "\n",
    "inst = KXorInstance.symbolic(n, m, k)\n",
    "zeta = 1 / ln(n)\n",
    "solve_planted_symbolic = PlantedNoisyKXOR(\n",
    "    inst_guide=inst.subset(HasLength((1 - zeta) * m)),\n",
    "    inst_solve=inst.subset(HasLength(zeta * m)),\n",
    "    ell=ell,\n",
    "    rho=rho,\n",
    ")"
   ]
  },
  {
   "cell_type": "code",
   "execution_count": null,
   "id": "7c02f3d4",
   "metadata": {
    "cq.autogen": "PlantedNoisyKXOR.solve_planted"
   },
   "outputs": [],
   "source": [
    "from qualtran.bloqs.optimization.k_xor_sat import KXorInstance\n",
    "\n",
    "rng = np.random.default_rng(42)\n",
    "n, m, k = 50, 1000, 4\n",
    "ell = k\n",
    "rho = 0.8\n",
    "\n",
    "inst = KXorInstance.random_instance(n, m, k, planted_advantage=rho, rng=rng)\n",
    "solve_planted = PlantedNoisyKXOR.from_inst(inst, ell=ell, rho=rho, zeta=0.1, rng=rng)"
   ]
  },
  {
   "cell_type": "markdown",
   "id": "39837726",
   "metadata": {
    "cq.autogen": "PlantedNoisyKXOR.graphical_signature.md"
   },
   "source": [
    "#### Graphical Signature"
   ]
  },
  {
   "cell_type": "code",
   "execution_count": null,
   "id": "65f7eda3",
   "metadata": {
    "cq.autogen": "PlantedNoisyKXOR.graphical_signature.py"
   },
   "outputs": [],
   "source": [
    "from qualtran.drawing import show_bloqs\n",
    "show_bloqs([solve_planted_symbolic, solve_planted],\n",
    "           ['`solve_planted_symbolic`', '`solve_planted`'])"
   ]
  },
  {
   "cell_type": "markdown",
   "id": "94bf8e7b",
   "metadata": {
    "cq.autogen": "PlantedNoisyKXOR.call_graph.md"
   },
   "source": [
    "### Call Graph"
   ]
  },
  {
   "cell_type": "code",
   "execution_count": null,
   "id": "b91613a3",
   "metadata": {
    "cq.autogen": "PlantedNoisyKXOR.call_graph.py"
   },
   "outputs": [],
   "source": [
    "from qualtran.resource_counting.generalizers import ignore_split_join\n",
    "solve_planted_symbolic_g, solve_planted_symbolic_sigma = solve_planted_symbolic.call_graph(max_depth=1, generalizer=ignore_split_join)\n",
    "show_call_graph(solve_planted_symbolic_g)\n",
    "show_counts_sigma(solve_planted_symbolic_sigma)"
   ]
  }
 ],
 "metadata": {
  "kernelspec": {
   "display_name": "Python 3",
   "language": "python",
   "name": "python3"
  },
  "language_info": {
   "name": "python"
  }
 },
 "nbformat": 4,
 "nbformat_minor": 5
}
