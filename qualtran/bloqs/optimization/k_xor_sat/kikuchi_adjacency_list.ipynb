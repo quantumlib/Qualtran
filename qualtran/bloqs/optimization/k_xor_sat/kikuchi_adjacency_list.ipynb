{
 "cells": [
  {
   "cell_type": "markdown",
   "id": "3c1703d8",
   "metadata": {
    "cq.autogen": "title_cell"
   },
   "source": [
    "# Planted Noisy kXOR: Kikuchi Adjacency List"
   ]
  },
  {
   "cell_type": "code",
   "execution_count": null,
   "id": "ece15719",
   "metadata": {
    "cq.autogen": "top_imports"
   },
   "outputs": [],
   "source": [
    "from qualtran import Bloq, CompositeBloq, BloqBuilder, Signature, Register\n",
    "from qualtran import QBit, QInt, QUInt, QAny\n",
    "from qualtran.drawing import show_bloq, show_call_graph, show_counts_sigma\n",
    "from typing import *\n",
    "import numpy as np\n",
    "import sympy\n",
    "import cirq"
   ]
  },
  {
   "cell_type": "markdown",
   "id": "c187b17d",
   "metadata": {
    "cq.autogen": "KikuchiNonZeroIndex.bloq_doc.md"
   },
   "source": [
    "## `KikuchiNonZeroIndex`\n",
    "Adjacency list oracle $O_F$ for the Kikuchi matrix.\n",
    "\n",
    "The oracle $O_F$ (Definition 4.5) takes in $i, k$,\n",
    "and outputs $i, f(i, k)$ where $f(i, k)$ is\n",
    "index of the $k$-th non-zero entry in row $i$.\n",
    "\n",
    "As the Kikuchi matrix is symmetric, we can use the same oracle for both rows and columns.\n",
    "\n",
    "The Kikuchi matrix is indexed by $S \\in {[n] \\choose k}$.\n",
    "For a given row $S$ and column $T$, the entry $\\mathcal{K}_{k}_{S, T}$\n",
    "is potentially non-zero if $S \\Delta T = U_j$ for some $j$, which is\n",
    "equivalent to $T = S \\Delta U_j$.\n",
    "Here, $U_j$ is the $j$-th unique scope in the instance $\\mathcal{I}$,\n",
    "and $\\Delta$ is the symmetric difference operator.\n",
    "\n",
    "See docstring for :class:`KXorInstance` for the overall problem definition.\n",
    "\n",
    "To find the $k$-th non-zero entry, we use two oracles:\n",
    "1. $(S, k) \\mapsto f(S, k)$, implemented by `ColumnOfKthNonZeroEntry`\n",
    "2. $(S, f(S, k)) \\mapsto k$, implemented by `IndexOfNonZeroColumn`.\n",
    "\n",
    "Both these above oracles are unitary: they do not have any entangled ancilla/junk registers.\n",
    "\n",
    "\n",
    "Note on sparsity: This bloq expects the user to provide the sparsity, as it is in general\n",
    "difficult to compute the precise sparsity of the Kikuchi matrix efficiently. As long as the\n",
    "provided number is at least the true sparsity, the algorithm will work as expected.\n",
    "In case the provided sparsity is smaller, it is equivalent to making the remaining entries zero in the final block encoding.\n",
    "\n",
    "#### Parameters\n",
    " - `inst`: the kXOR instance $\\mathcal{I}$.\n",
    " - `ell`: Kikuchi parameter $\\ell$.\n",
    " - `s`: sparsity, i.e. max number of non-zero entries in a row/column. \n",
    "\n",
    "#### Registers\n",
    " - `i`: integer in [2^N]\n",
    " - `k`: integer in [2^N] \n",
    "\n",
    "#### References\n",
    " - [Quartic quantum speedups for planted inference](https://arxiv.org/abs/2406.19378v1). Theorem 4.17, proof para 4 (top of page 39).\n"
   ]
  },
  {
   "cell_type": "code",
   "execution_count": null,
   "id": "d329e657",
   "metadata": {
    "cq.autogen": "KikuchiNonZeroIndex.bloq_doc.py"
   },
   "outputs": [],
   "source": [
    "from qualtran.bloqs.optimization.k_xor_sat import KikuchiNonZeroIndex"
   ]
  },
  {
   "cell_type": "markdown",
   "id": "8516f446",
   "metadata": {
    "cq.autogen": "KikuchiNonZeroIndex.example_instances.md"
   },
   "source": [
    "### Example Instances"
   ]
  },
  {
   "cell_type": "code",
   "execution_count": null,
   "id": "409ea009",
   "metadata": {
    "cq.autogen": "KikuchiNonZeroIndex.kikuchi_nonzero_index"
   },
   "outputs": [],
   "source": [
    "from qualtran.bloqs.optimization.k_xor_sat.kxor_instance import example_kxor_instance\n",
    "\n",
    "inst = example_kxor_instance()\n",
    "ell = 8\n",
    "s = inst.brute_force_sparsity(ell)\n",
    "\n",
    "kikuchi_nonzero_index = KikuchiNonZeroIndex(inst, ell, s=s)"
   ]
  },
  {
   "cell_type": "markdown",
   "id": "c08eb466",
   "metadata": {
    "cq.autogen": "KikuchiNonZeroIndex.graphical_signature.md"
   },
   "source": [
    "#### Graphical Signature"
   ]
  },
  {
   "cell_type": "code",
   "execution_count": null,
   "id": "a7478a9a",
   "metadata": {
    "cq.autogen": "KikuchiNonZeroIndex.graphical_signature.py"
   },
   "outputs": [],
   "source": [
    "from qualtran.drawing import show_bloqs\n",
    "show_bloqs([kikuchi_nonzero_index],\n",
    "           ['`kikuchi_nonzero_index`'])"
   ]
  },
  {
   "cell_type": "markdown",
   "id": "2e07ff5a",
   "metadata": {
    "cq.autogen": "KikuchiNonZeroIndex.call_graph.md"
   },
   "source": [
    "### Call Graph"
   ]
  },
  {
   "cell_type": "code",
   "execution_count": null,
   "id": "138befd7",
   "metadata": {
    "cq.autogen": "KikuchiNonZeroIndex.call_graph.py"
   },
   "outputs": [],
   "source": [
    "from qualtran.resource_counting.generalizers import ignore_split_join\n",
    "kikuchi_nonzero_index_g, kikuchi_nonzero_index_sigma = kikuchi_nonzero_index.call_graph(max_depth=1, generalizer=ignore_split_join)\n",
    "show_call_graph(kikuchi_nonzero_index_g)\n",
    "show_counts_sigma(kikuchi_nonzero_index_sigma)"
   ]
  }
 ],
 "metadata": {
  "kernelspec": {
   "display_name": "Python 3",
   "language": "python",
   "name": "python3"
  },
  "language_info": {
   "name": "python"
  }
 },
 "nbformat": 4,
 "nbformat_minor": 5
}
