{
 "cells": [
  {
   "cell_type": "markdown",
   "id": "448cdbc3",
   "metadata": {
    "cq.autogen": "title_cell"
   },
   "source": [
    "# kXOR: Instance load Oracles\n",
    "\n",
    "We define three oracles that load a kXOR instance, which are used in the algorithm.\n",
    "\n",
    "We are given a kXOR instance $\\mathcal{I}$ of $n$ variables,\n",
    "with $\\bar{m}$ unique scopes $\\{U_j | j \\in [\\bar{m}]\\}$.\n",
    "We provide oracles to:\n",
    "1. `LoadConstraintScopes`: Given $j \\in [\\bar{m}]$, compute $U_j$.\n",
    "2. `LoadUniqueScopeIndex`: Given $U_j$, compute $j \\in [\\bar{m}]$\n",
    "3. `PRGAUniqueConstraintRHS` Given $j$, apply $Rx(arccos(\\sqrt{B_\\mathcal{I}(S)/M}))$ on a target qubit.\n",
    "(for an appropriate normalization $M$).\n",
    "\n",
    "The first two oracles are independent of the RHS.\n",
    "All these oracles can output arbitrary values for invalid inputs.\n",
    "\n",
    "See :class:`KXorInstance` for the overall problem definition.\n",
    "\n",
    "References:\n",
    "    [Quartic quantum speedups for planted inference](https://arxiv.org/abs/2406.19378v1)\n",
    "    Notation 2.24 for $B_\\mathcal{I}$.\n",
    "    Theorem 4.17, proof para 2 for $U_j$."
   ]
  },
  {
   "cell_type": "code",
   "execution_count": null,
   "id": "611e4ef6",
   "metadata": {
    "cq.autogen": "top_imports"
   },
   "outputs": [],
   "source": [
    "from qualtran import Bloq, CompositeBloq, BloqBuilder, Signature, Register\n",
    "from qualtran import QBit, QInt, QUInt, QAny\n",
    "from qualtran.drawing import show_bloq, show_call_graph, show_counts_sigma\n",
    "from typing import *\n",
    "import numpy as np\n",
    "import sympy\n",
    "import cirq"
   ]
  },
  {
   "cell_type": "markdown",
   "id": "b5e118d0",
   "metadata": {
    "cq.autogen": "LoadConstraintScopes.bloq_doc.md"
   },
   "source": [
    "## `LoadConstraintScopes`\n",
    "Given an index $j$, load the scope of the $j$-th unique constraint.\n",
    "\n",
    "Given a $k$-XOR-SAT instance `inst` with $n$ variables and $m$ constraints.\n",
    "Assuming `inst` has $\\bar{m}$ unique constraints, we define $U_j \\in {[n] \\choose k}$\n",
    "for $j \\in [\\bar{m}]$ as the $j$-th unique constraint scope.\n",
    "\n",
    "See :class:`KXorInstance` for the overall problem definition.\n",
    "\n",
    "The scopes are loaded using a QROM. If the input contains an invalid index, then\n",
    "the output can be an arbitrary value.\n",
    "\n",
    "#### Registers\n",
    " - `j`: a number in [\\bar{m}]\n",
    " - `U`: $j$-th unique scope\n",
    " - `ancilla`: entangled intermediate qubits, to be uncomputed by the adjoint. \n",
    "\n",
    "#### References\n",
    " - [Quartic quantum speedups for planted inference](https://arxiv.org/abs/2406.19378v1). Theorem 4.17, proof para 2.\n"
   ]
  },
  {
   "cell_type": "code",
   "execution_count": null,
   "id": "51cbd971",
   "metadata": {
    "cq.autogen": "LoadConstraintScopes.bloq_doc.py"
   },
   "outputs": [],
   "source": [
    "from qualtran.bloqs.optimization.k_xor_sat import LoadConstraintScopes"
   ]
  },
  {
   "cell_type": "markdown",
   "id": "45f7354e",
   "metadata": {
    "cq.autogen": "LoadConstraintScopes.example_instances.md"
   },
   "source": [
    "### Example Instances"
   ]
  },
  {
   "cell_type": "code",
   "execution_count": null,
   "id": "137d0cb6",
   "metadata": {
    "cq.autogen": "LoadConstraintScopes.load_scopes_symb"
   },
   "outputs": [],
   "source": [
    "import sympy\n",
    "\n",
    "from qualtran.bloqs.optimization.k_xor_sat.kxor_instance import KXorInstance\n",
    "\n",
    "n, m, k = sympy.symbols(\"n m k\", positive=True, integer=True)\n",
    "inst = KXorInstance.symbolic(n=n, m=m, k=k)\n",
    "load_scopes_symb = LoadConstraintScopes(inst)"
   ]
  },
  {
   "cell_type": "code",
   "execution_count": null,
   "id": "d1a93c7c",
   "metadata": {
    "cq.autogen": "LoadConstraintScopes.load_scopes"
   },
   "outputs": [],
   "source": [
    "from qualtran.bloqs.optimization.k_xor_sat.kxor_instance import Constraint, KXorInstance\n",
    "\n",
    "inst = KXorInstance(\n",
    "    n=6,\n",
    "    k=4,\n",
    "    constraints=(\n",
    "        Constraint(S=(0, 1, 2, 3), b=1),\n",
    "        Constraint(S=(0, 1, 4, 5), b=-1),\n",
    "        Constraint(S=(1, 2, 4, 5), b=1),\n",
    "        Constraint(S=(0, 3, 4, 5), b=1),\n",
    "        Constraint(S=(2, 3, 4, 5), b=1),\n",
    "        Constraint(S=(0, 1, 2, 3), b=1),\n",
    "        Constraint(S=(0, 3, 4, 5), b=1),\n",
    "        Constraint(S=(2, 3, 4, 5), b=1),\n",
    "    ),\n",
    ")\n",
    "load_scopes = LoadConstraintScopes(inst)"
   ]
  },
  {
   "cell_type": "markdown",
   "id": "107c977f",
   "metadata": {
    "cq.autogen": "LoadConstraintScopes.graphical_signature.md"
   },
   "source": [
    "#### Graphical Signature"
   ]
  },
  {
   "cell_type": "code",
   "execution_count": null,
   "id": "3a998692",
   "metadata": {
    "cq.autogen": "LoadConstraintScopes.graphical_signature.py"
   },
   "outputs": [],
   "source": [
    "from qualtran.drawing import show_bloqs\n",
    "show_bloqs([load_scopes_symb, load_scopes],\n",
    "           ['`load_scopes_symb`', '`load_scopes`'])"
   ]
  },
  {
   "cell_type": "markdown",
   "id": "8b3ac93d",
   "metadata": {
    "cq.autogen": "LoadConstraintScopes.call_graph.md"
   },
   "source": [
    "### Call Graph"
   ]
  },
  {
   "cell_type": "code",
   "execution_count": null,
   "id": "29b2841a",
   "metadata": {
    "cq.autogen": "LoadConstraintScopes.call_graph.py"
   },
   "outputs": [],
   "source": [
    "from qualtran.resource_counting.generalizers import ignore_split_join\n",
    "load_scopes_symb_g, load_scopes_symb_sigma = load_scopes_symb.call_graph(max_depth=1, generalizer=ignore_split_join)\n",
    "show_call_graph(load_scopes_symb_g)\n",
    "show_counts_sigma(load_scopes_symb_sigma)"
   ]
  }
 ],
 "metadata": {
  "kernelspec": {
   "display_name": "Python 3",
   "language": "python",
   "name": "python3"
  },
  "language_info": {
   "name": "python"
  }
 },
 "nbformat": 4,
 "nbformat_minor": 5
}
