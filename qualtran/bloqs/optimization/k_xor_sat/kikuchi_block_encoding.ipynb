{
 "cells": [
  {
   "cell_type": "markdown",
   "id": "e1597556",
   "metadata": {
    "cq.autogen": "title_cell"
   },
   "source": [
    "# Planted Noisy kXOR: Block-encoding the Kikuchi Matrix\n",
    "\n",
    "Section 4.4.2 Simulating the Kikuchi Hamiltonian\n",
    "\n",
    "This module contains oracles to implement the block-encoding of the Kikuchi\n",
    "Hamiltonian corresponding to an input k-XOR-SAT instance.\n",
    "\n",
    "References:\n",
    "    [Quartic quantum speedups for planted inference](https://arxiv.org/abs/2406.19378v1)\n",
    "    Section 4.4.2 for algorithm. Section 2.4 for definitions and notation."
   ]
  },
  {
   "cell_type": "code",
   "execution_count": null,
   "id": "8d69b0bd",
   "metadata": {
    "cq.autogen": "top_imports"
   },
   "outputs": [],
   "source": [
    "from qualtran import Bloq, CompositeBloq, BloqBuilder, Signature, Register\n",
    "from qualtran import QBit, QInt, QUInt, QAny\n",
    "from qualtran.drawing import show_bloq, show_call_graph, show_counts_sigma\n",
    "from typing import *\n",
    "import numpy as np\n",
    "import sympy\n",
    "import cirq"
   ]
  },
  {
   "cell_type": "markdown",
   "id": "4e549ab8",
   "metadata": {
    "cq.autogen": "KikuchiHamiltonian.bloq_doc.md"
   },
   "source": [
    "## `KikuchiHamiltonian`\n",
    "Block encoding of the Kikuchi matrix $\\mathcal{K}_\\ell$.\n",
    "\n",
    "This is implemented by a sparse matrix block encoding using the adjacency matrix\n",
    "and adjacency list oracles.\n",
    "\n",
    "This assumes a default sparsity of $\\bar{m}$, which is the number of unique\n",
    "scopes in the instance $\\mathcal{I}$.\n",
    "If a better bound on sparsity is known, it can be passed in by the user.\n",
    "\n",
    "#### Parameters\n",
    " - `inst`: kXOR instance $\\mathcal{I}$.\n",
    " - `ell`: Kikuchi parameter $\\ell$.\n",
    " - `entry_bitsize`: Number of bits $b$ to approximate the matrix entries (angles) to.\n",
    " - `s`: sparsity of the Kikuchi matrix, defaults to $\\bar{m}$.\n"
   ]
  },
  {
   "cell_type": "code",
   "execution_count": null,
   "id": "9a89ce06",
   "metadata": {
    "cq.autogen": "KikuchiHamiltonian.bloq_doc.py"
   },
   "outputs": [],
   "source": [
    "from qualtran.bloqs.optimization.k_xor_sat import KikuchiHamiltonian"
   ]
  },
  {
   "cell_type": "markdown",
   "id": "9b0195ad",
   "metadata": {
    "cq.autogen": "KikuchiHamiltonian.example_instances.md"
   },
   "source": [
    "### Example Instances"
   ]
  },
  {
   "cell_type": "code",
   "execution_count": null,
   "id": "8660eb37",
   "metadata": {
    "cq.autogen": "KikuchiHamiltonian.kikuchi_matrix"
   },
   "outputs": [],
   "source": [
    "from qualtran.bloqs.optimization.k_xor_sat.kxor_instance import example_kxor_instance\n",
    "\n",
    "inst = example_kxor_instance()\n",
    "ell = 8\n",
    "\n",
    "kikuchi_matrix = KikuchiHamiltonian(inst, ell)"
   ]
  },
  {
   "cell_type": "code",
   "execution_count": null,
   "id": "4f6f324e",
   "metadata": {
    "cq.autogen": "KikuchiHamiltonian.kikuchi_matrix_symb"
   },
   "outputs": [],
   "source": [
    "from qualtran.bloqs.optimization.k_xor_sat.kxor_instance import KXorInstance\n",
    "\n",
    "n, m, k, c = sympy.symbols(\"n m k c\", positive=True, integer=True)\n",
    "inst = KXorInstance.symbolic(n=n, m=m, k=k)\n",
    "ell = c * k\n",
    "\n",
    "kikuchi_matrix_symb = KikuchiHamiltonian(inst, ell)"
   ]
  },
  {
   "cell_type": "markdown",
   "id": "312f1765",
   "metadata": {
    "cq.autogen": "KikuchiHamiltonian.graphical_signature.md"
   },
   "source": [
    "#### Graphical Signature"
   ]
  },
  {
   "cell_type": "code",
   "execution_count": null,
   "id": "1419c085",
   "metadata": {
    "cq.autogen": "KikuchiHamiltonian.graphical_signature.py"
   },
   "outputs": [],
   "source": [
    "from qualtran.drawing import show_bloqs\n",
    "show_bloqs([kikuchi_matrix, kikuchi_matrix_symb],\n",
    "           ['`kikuchi_matrix`', '`kikuchi_matrix_symb`'])"
   ]
  },
  {
   "cell_type": "markdown",
   "id": "720f08a4",
   "metadata": {
    "cq.autogen": "KikuchiHamiltonian.call_graph.md"
   },
   "source": [
    "### Call Graph"
   ]
  },
  {
   "cell_type": "code",
   "execution_count": null,
   "id": "c492110d",
   "metadata": {
    "cq.autogen": "KikuchiHamiltonian.call_graph.py"
   },
   "outputs": [],
   "source": [
    "from qualtran.resource_counting.generalizers import ignore_split_join\n",
    "kikuchi_matrix_g, kikuchi_matrix_sigma = kikuchi_matrix.call_graph(max_depth=1, generalizer=ignore_split_join)\n",
    "show_call_graph(kikuchi_matrix_g)\n",
    "show_counts_sigma(kikuchi_matrix_sigma)"
   ]
  }
 ],
 "metadata": {
  "kernelspec": {
   "display_name": "Python 3",
   "language": "python",
   "name": "python3"
  },
  "language_info": {
   "name": "python"
  }
 },
 "nbformat": 4,
 "nbformat_minor": 5
}
