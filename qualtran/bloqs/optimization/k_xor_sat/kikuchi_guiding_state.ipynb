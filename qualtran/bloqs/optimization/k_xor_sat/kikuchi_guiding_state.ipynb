{
 "cells": [
  {
   "cell_type": "markdown",
   "id": "7d1e1d47",
   "metadata": {
    "cq.autogen": "title_cell"
   },
   "source": [
    "# Planted Noisy kXOR - Kikuchi Guiding State\n",
    "\n",
    "Prepare the guiding state for a kXOR instance $\\mathcal{I}$ with\n",
    "Kikuchi parameter $\\ell$.\n",
    "\n",
    "References:\n",
    "    [Quartic quantum speedups for planted inference](https://arxiv.org/abs/2406.19378v1)\n",
    "    Section 4.4.1, Theorem 4.15."
   ]
  },
  {
   "cell_type": "code",
   "execution_count": null,
   "id": "a512234f",
   "metadata": {
    "cq.autogen": "top_imports"
   },
   "outputs": [],
   "source": [
    "from qualtran import Bloq, CompositeBloq, BloqBuilder, Signature, Register\n",
    "from qualtran import QBit, QInt, QUInt, QAny\n",
    "from qualtran.drawing import show_bloq, show_call_graph, show_counts_sigma\n",
    "from typing import *\n",
    "import numpy as np\n",
    "import sympy\n",
    "import cirq"
   ]
  },
  {
   "cell_type": "markdown",
   "id": "a2f5b939",
   "metadata": {
    "cq.autogen": "SimpleGuidingState.bloq_doc.md"
   },
   "source": [
    "## `SimpleGuidingState`\n",
    "Prepare the guiding state for $\\ell = k$.\n",
    "\n",
    "Given an kXOR instance $\\mathcal{I}$, prepare the guiding state for\n",
    "parameter $\\ell = k$ (i.e. $c = 1$), defined in Eq 134:\n",
    "    $$\n",
    "    |\\phi\\rangle\n",
    "    \\propto\n",
    "    |\\Gamma^k(\\mathcal{A})\\rangle\n",
    "    =\n",
    "    \\frac{1}{\\sqrt{\\tilde{m}}}\n",
    "    \\sum_{S \\in {[n] \\choose k}} B_\\mathcal{I}(S) |S\\rangle\n",
    "    $$\n",
    "\n",
    "Here, $\\tilde{m}$ is the number of constraints in the input instance $\\mathcal{I}$,\n",
    "and $\\mathcal{A} = \\sqrt{\\frac{{n\\choose k}}{\\tilde{m}}} \\mathcal{I}$.\n",
    "\n",
    "This bloq has a gate cost of $O(\\tilde{m} \\log n)$ (see Eq 142 and paragraph below).\n",
    "\n",
    "#### Parameters\n",
    " - `inst`: the kXOR instance $\\mathcal{I}$.\n",
    " - `eps`: Precision of the prepared state (defaults to 1e-6). \n",
    "\n",
    "#### Registers\n",
    " - `S`: a scope of $k$ variables, each in $[n]$. \n",
    "\n",
    "#### References\n",
    " - [Quartic quantum speedups for planted inference](https://arxiv.org/abs/2406.19378v1). Equation 134.\n"
   ]
  },
  {
   "cell_type": "code",
   "execution_count": null,
   "id": "90222153",
   "metadata": {
    "cq.autogen": "SimpleGuidingState.bloq_doc.py"
   },
   "outputs": [],
   "source": [
    "from qualtran.bloqs.optimization.k_xor_sat import SimpleGuidingState"
   ]
  },
  {
   "cell_type": "markdown",
   "id": "0a234e2c",
   "metadata": {
    "cq.autogen": "SimpleGuidingState.example_instances.md"
   },
   "source": [
    "### Example Instances"
   ]
  },
  {
   "cell_type": "code",
   "execution_count": null,
   "id": "1cc6e639",
   "metadata": {
    "cq.autogen": "SimpleGuidingState.simple_guiding_state_symb"
   },
   "outputs": [],
   "source": [
    "import sympy\n",
    "\n",
    "from qualtran.bloqs.optimization.k_xor_sat import KXorInstance\n",
    "\n",
    "n, m, k = sympy.symbols(\"n m k\", positive=True, integer=True)\n",
    "inst = KXorInstance.symbolic(n=n, m=m, k=k)\n",
    "simple_guiding_state_symb = SimpleGuidingState(inst)"
   ]
  },
  {
   "cell_type": "code",
   "execution_count": null,
   "id": "dc206f50",
   "metadata": {
    "cq.autogen": "SimpleGuidingState.simple_guiding_state"
   },
   "outputs": [],
   "source": [
    "from qualtran.bloqs.optimization.k_xor_sat import Constraint, KXorInstance\n",
    "\n",
    "inst = KXorInstance(\n",
    "    n=4,\n",
    "    k=2,\n",
    "    constraints=(\n",
    "        Constraint(S=(0, 1), b=1),\n",
    "        Constraint(S=(2, 3), b=-1),\n",
    "        Constraint(S=(1, 2), b=1),\n",
    "    ),\n",
    ")\n",
    "simple_guiding_state = SimpleGuidingState(inst)"
   ]
  },
  {
   "cell_type": "markdown",
   "id": "079db1ee",
   "metadata": {
    "cq.autogen": "SimpleGuidingState.graphical_signature.md"
   },
   "source": [
    "#### Graphical Signature"
   ]
  },
  {
   "cell_type": "code",
   "execution_count": null,
   "id": "818d3518",
   "metadata": {
    "cq.autogen": "SimpleGuidingState.graphical_signature.py"
   },
   "outputs": [],
   "source": [
    "from qualtran.drawing import show_bloqs\n",
    "show_bloqs([simple_guiding_state_symb, simple_guiding_state],\n",
    "           ['`simple_guiding_state_symb`', '`simple_guiding_state`'])"
   ]
  },
  {
   "cell_type": "markdown",
   "id": "b1455ca0",
   "metadata": {
    "cq.autogen": "SimpleGuidingState.call_graph.md"
   },
   "source": [
    "### Call Graph"
   ]
  },
  {
   "cell_type": "code",
   "execution_count": null,
   "id": "2a289ffd",
   "metadata": {
    "cq.autogen": "SimpleGuidingState.call_graph.py"
   },
   "outputs": [],
   "source": [
    "from qualtran.resource_counting.generalizers import ignore_split_join\n",
    "simple_guiding_state_symb_g, simple_guiding_state_symb_sigma = simple_guiding_state_symb.call_graph(max_depth=1, generalizer=ignore_split_join)\n",
    "show_call_graph(simple_guiding_state_symb_g)\n",
    "show_counts_sigma(simple_guiding_state_symb_sigma)"
   ]
  },
  {
   "cell_type": "markdown",
   "id": "ff5356ef",
   "metadata": {
    "cq.autogen": "GuidingState.bloq_doc.md"
   },
   "source": [
    "## `GuidingState`\n",
    "Prepare a guiding state for a kXOR instance with parameter $\\ell$.\n",
    "\n",
    "Given an kXOR instance $\\mathcal{I}$, and parameter $\\ell$ (a multiple of $k$),\n",
    "we want to prepare the unit-length guiding state $|\\mathbb{\\Psi}\\rangle$ (Eq 135):\n",
    "\n",
    "    $$\n",
    "    |\\mathbb{\\Psi}\\rangle\n",
    "    \\propto\n",
    "    |\\Gamma^\\ell(\\mathcal{A})\\rangle\n",
    "    \\propto\n",
    "    \\sum_{T \\in {[n] \\choose \\ell}}\n",
    "    \\sum_{\\{S_1, \\ldots, S_c\\} \\in \\text{Part}_k(T)}\n",
    "    \\left(\n",
    "    \\prod_{j = 1}^c B_{\\mathcal{I}}(S)\n",
    "    \\right)\n",
    "    |T\\rangle\n",
    "    $$\n",
    "\n",
    "This bloq prepares the state (Eq 136):\n",
    "    $$ \\beta |\\mathbb{\\Psi}\\rangle |0^{\\ell \\log \\ell + 3}\\rangle\n",
    "       + |\\perp\\rangle |1\\rangle\n",
    "    $$\n",
    "where $\\beta \\ge \\Omega(1 / \\ell^{\\ell/2})$,\n",
    "and $\\tilde{m}$ is the number of constraints in $\\mathcal{I}$.\n",
    "\n",
    "This has a gate cost of $O(\\ell \\tilde{m} \\log n)$.\n",
    "\n",
    "#### Parameters\n",
    " - `inst`: the kXOR instance $\\mathcal{I}$.\n",
    " - `ell`: the Kikuchi parameter $\\ell$.\n",
    " - `amplitude_good_part`: (optional) the amplitude $\\beta$ of the guiding state $|\\Psi\\rangle$ Defaults to $\\beta = 0.99 / \\ell^{\\ell/2}$.\n",
    " - `eps`: Precision of the prepared state (defaults to 1e-6). \n",
    "\n",
    "#### Registers\n",
    " - `T`: $\\ell$ indices each in $[n]$.\n",
    " - `ancilla`: (entangled) $\\ell\\log\\ell+3$ ancilla qubits used for state preparation. The all zeros state of the ancilla is the good subspace. \n",
    "\n",
    "#### References\n",
    " - [Quartic quantum speedups for planted inference](https://arxiv.org/abs/2406.19378v1). Section 4.4.1 \"Preparing the guiding state\", Theorem 4.15. Eq 136.\n"
   ]
  },
  {
   "cell_type": "code",
   "execution_count": null,
   "id": "e0cc9892",
   "metadata": {
    "cq.autogen": "GuidingState.bloq_doc.py"
   },
   "outputs": [],
   "source": [
    "from qualtran.bloqs.optimization.k_xor_sat import GuidingState"
   ]
  },
  {
   "cell_type": "markdown",
   "id": "72832b7b",
   "metadata": {
    "cq.autogen": "GuidingState.example_instances.md"
   },
   "source": [
    "### Example Instances"
   ]
  },
  {
   "cell_type": "code",
   "execution_count": null,
   "id": "5be4da60",
   "metadata": {
    "cq.autogen": "GuidingState.guiding_state_symb_c"
   },
   "outputs": [],
   "source": [
    "import sympy\n",
    "\n",
    "from qualtran.bloqs.optimization.k_xor_sat import KXorInstance\n",
    "\n",
    "n, m, c = sympy.symbols(\"n m c\", positive=True, integer=True)\n",
    "k = sympy.symbols(\"k\", positive=True, integer=True, even=True)\n",
    "inst = KXorInstance.symbolic(n=n, m=m, k=k)\n",
    "guiding_state_symb_c = GuidingState(inst, ell=c * k)"
   ]
  },
  {
   "cell_type": "code",
   "execution_count": null,
   "id": "716440ae",
   "metadata": {
    "cq.autogen": "GuidingState.guiding_state_symb"
   },
   "outputs": [],
   "source": [
    "import sympy\n",
    "\n",
    "from qualtran.bloqs.optimization.k_xor_sat import KXorInstance\n",
    "\n",
    "n, m, k = sympy.symbols(\"n m k\", positive=True, integer=True)\n",
    "inst = KXorInstance.symbolic(n=n, m=m, k=k)\n",
    "c = 2\n",
    "guiding_state_symb = GuidingState(inst, ell=c * inst.k)"
   ]
  },
  {
   "cell_type": "code",
   "execution_count": null,
   "id": "4268c839",
   "metadata": {
    "cq.autogen": "GuidingState.guiding_state"
   },
   "outputs": [],
   "source": [
    "from qualtran.bloqs.optimization.k_xor_sat import Constraint, KXorInstance\n",
    "\n",
    "inst = KXorInstance(\n",
    "    n=4,\n",
    "    k=2,\n",
    "    constraints=(\n",
    "        Constraint(S=(0, 1), b=1),\n",
    "        Constraint(S=(2, 3), b=-1),\n",
    "        Constraint(S=(1, 2), b=1),\n",
    "    ),\n",
    ")\n",
    "guiding_state = GuidingState(inst, ell=4)"
   ]
  },
  {
   "cell_type": "markdown",
   "id": "1ac65a7c",
   "metadata": {
    "cq.autogen": "GuidingState.graphical_signature.md"
   },
   "source": [
    "#### Graphical Signature"
   ]
  },
  {
   "cell_type": "code",
   "execution_count": null,
   "id": "95513b51",
   "metadata": {
    "cq.autogen": "GuidingState.graphical_signature.py"
   },
   "outputs": [],
   "source": [
    "from qualtran.drawing import show_bloqs\n",
    "show_bloqs([guiding_state_symb_c, guiding_state_symb, guiding_state],\n",
    "           ['`guiding_state_symb_c`', '`guiding_state_symb`', '`guiding_state`'])"
   ]
  },
  {
   "cell_type": "markdown",
   "id": "53f2e5f6",
   "metadata": {
    "cq.autogen": "GuidingState.call_graph.md"
   },
   "source": [
    "### Call Graph"
   ]
  },
  {
   "cell_type": "code",
   "execution_count": null,
   "id": "6c00e9e4",
   "metadata": {
    "cq.autogen": "GuidingState.call_graph.py"
   },
   "outputs": [],
   "source": [
    "from qualtran.resource_counting.generalizers import ignore_split_join\n",
    "guiding_state_symb_c_g, guiding_state_symb_c_sigma = guiding_state_symb_c.call_graph(max_depth=1, generalizer=ignore_split_join)\n",
    "show_call_graph(guiding_state_symb_c_g)\n",
    "show_counts_sigma(guiding_state_symb_c_sigma)"
   ]
  }
 ],
 "metadata": {
  "kernelspec": {
   "display_name": "Python 3",
   "language": "python",
   "name": "python3"
  },
  "language_info": {
   "name": "python"
  }
 },
 "nbformat": 4,
 "nbformat_minor": 5
}
