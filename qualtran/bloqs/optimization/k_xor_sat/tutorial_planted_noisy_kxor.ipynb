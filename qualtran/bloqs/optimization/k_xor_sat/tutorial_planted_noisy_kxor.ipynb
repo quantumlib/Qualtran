{
 "cells": [
  {
   "cell_type": "code",
   "execution_count": null,
   "id": "0",
   "metadata": {},
   "outputs": [],
   "source": [
    "import numpy as np"
   ]
  },
  {
   "cell_type": "markdown",
   "id": "1",
   "metadata": {},
   "source": [
    "### Implementing [Quartic quantum speedups for planted inference](https://arxiv.org/abs/2406.19378v1)"
   ]
  },
  {
   "cell_type": "markdown",
   "id": "2",
   "metadata": {},
   "source": [
    "### Problem Definition"
   ]
  },
  {
   "cell_type": "markdown",
   "id": "3",
   "metadata": {},
   "source": [
    "**Definition 2.2 (simplified):**\n",
    "A kXOR instance $\\mathcal{I}$ on $n$ variables in ${0, 1}$ is a collection of $m$ constraints, each of the form\n",
    "$$ x_{c_1} \\oplus x_{c_2} \\oplus ... x_{c_k} = b $$ "
   ]
  },
  {
   "cell_type": "markdown",
   "id": "4",
   "metadata": {},
   "source": [
    "**Notation 2.3**\n",
    "Random Instance: Pick each clause independently:\n",
    "- Pick $C$, a $k$ subset of $[n] = \\{1, ... n\\}$ uniformly at random.\n",
    "- Pick $b \\in {0, 1}$ uniformly at random."
   ]
  },
  {
   "cell_type": "code",
   "execution_count": null,
   "id": "5",
   "metadata": {},
   "outputs": [],
   "source": [
    "from qualtran.bloqs.optimization.k_xor_sat import KXorInstance, Constraint\n",
    "\n",
    "n, k = 10, 4\n",
    "cs = (\n",
    "    Constraint((0, 1, 2, 3), -1), # read: x_0 ^ x_1 ^ x_2 ^ x_3 = 0\n",
    "    Constraint((0, 2, 4, 5), 1),\n",
    "    Constraint((0, 3, 4, 5), 1),\n",
    "    Constraint((0, 3, 4, 5), 1),\n",
    "    Constraint((1, 2, 3, 4), -1),\n",
    "    Constraint((1, 3, 4, 5), -1),\n",
    "    Constraint((1, 3, 4, 5), -1),\n",
    "    Constraint((2, 3, 4, 5), 1),\n",
    ")\n",
    "simple_inst = KXorInstance(n, k, cs)\n",
    "simple_inst"
   ]
  },
  {
   "cell_type": "markdown",
   "id": "6",
   "metadata": {},
   "source": [
    "**Notation 2.4 (simplified)** Planted Instance:\n",
    "Given $\\rho \\in [0, 1]$ (the _planted advantage_),\n",
    "\n",
    "first pick a secret assignment $z \\in \\{0, 1\\}^n$.\n",
    "Now pick each clause independently by: \n",
    "- Pick $C$, a $k$ subset of $[n]$ uniformly at random.\n",
    "- Pick noise $\\eta \\in {0, 1}$, s.t. $\\eta = 0$ with probability $(1 + \\rho)/2$\n",
    "- Set $b = C(z) \\oplus \\eta$\n",
    "\n",
    "Note: when $\\rho = 0$, the noise is random, and when $\\rho = 1$, there is no noise."
   ]
  },
  {
   "cell_type": "code",
   "execution_count": null,
   "id": "7",
   "metadata": {},
   "outputs": [],
   "source": [
    "random_inst = KXorInstance.random_instance(\n",
    "    n=10, \n",
    "    m=20, \n",
    "    k=4,\n",
    "    planted_advantage=0.8,\n",
    "    rng=np.random.default_rng(42),\n",
    ")\n",
    "random_inst"
   ]
  },
  {
   "cell_type": "markdown",
   "id": "8",
   "metadata": {},
   "source": [
    "## Problem\n",
    "\n",
    "**Problem 2.6 (Planted Noisy kXOR)**\n",
    "Given $\\rho \\in (0, 1)$, and an instance $\\mathcal{I}$ that is promised to be either drawn from the random distribution or planted distribution (with $\\rho$), distinguish which case it is."
   ]
  },
  {
   "cell_type": "markdown",
   "id": "9",
   "metadata": {},
   "source": [
    "## Kikuchi Method\n",
    "This is a technique to reduce $k$XOR problems to $2$XOR problems, on an exponentially larger set of variables (say, $O(n^k)$).\n",
    "The 2XOR is known to be efficiently solvable by some spectral analysis.\n",
    "\n",
    "For this, we pick our new variables as subsets of $[n]$ of size $k$, call them $X_S$ for each subset $S$.\n",
    "There are ${n \\choose k}$ variables now, and for $k \\ll n$, this is about $O(n^k)$.\n",
    "\n",
    "The equations are of the form $X_S \\oplus X_T = b(S, T)$ for every $S, T$ with $|S \\Delta T| = k$.\n",
    "Here $b(S, T)$ is the xor of all variables in S and T (common ones cancel out, leaving only the $k$ as above)"
   ]
  },
  {
   "cell_type": "markdown",
   "id": "10",
   "metadata": {},
   "source": [
    "## Quantum Algorithm\n",
    "\n",
    "**Theorem 4.18 (simplified)**\n",
    "Let $k$ (even) and $\\rho \\in (0, 1)$ be known constants.\n",
    "\n",
    "We are given an instance $\\mathcal{I}$ which is either random or planted (with advantage $\\rho$),\n",
    "where the number of constraints $m$ is picked above a given threshold (see Alice Theorem).\n",
    "\n",
    "For a parameter $\\ell$, if we have a classical _Kikuchi style_ algorithm with complexity $\\tilde{O}(n^\\ell)$,\n",
    "then there is a quantum algorithm with $\\tilde{O}(n^{\\ell/4} m \\ell^{O{\\ell}} \\log^{\\ell/2k}n)$."
   ]
  },
  {
   "cell_type": "code",
   "execution_count": null,
   "id": "11",
   "metadata": {},
   "outputs": [],
   "source": [
    "from qualtran.bloqs.optimization.k_xor_sat.planted_noisy_kxor import PlantedNoisyKXOR\n",
    "from qualtran.drawing import show_bloq, show_call_graph, show_counts_sigma"
   ]
  },
  {
   "cell_type": "code",
   "execution_count": null,
   "id": "12",
   "metadata": {},
   "outputs": [],
   "source": [
    "def make_algo_example():\n",
    "    k = 4\n",
    "    n, m = 100, 1000\n",
    "    rho = 0.8\n",
    "    \n",
    "    c = 2  # Kikuchi param: ell = c * k\n",
    "    \n",
    "    # generate instance\n",
    "    rng = np.random.default_rng(142)\n",
    "    ell = c * k\n",
    "    inst = KXorInstance.random_instance(n=n, m=m, k=k, planted_advantage=rho, rng=rng)\n",
    "    algo_bloq = PlantedNoisyKXOR.from_inst(inst=inst, ell=ell, rho=rho, zeta=1 / np.log(n), rng=rng)\n",
    "\n",
    "    expected_complexity = n ** (ell/4) * m * ell**ell * np.log(n)**(c//2)\n",
    "\n",
    "    return algo_bloq, expected_complexity"
   ]
  },
  {
   "cell_type": "code",
   "execution_count": null,
   "id": "13",
   "metadata": {},
   "outputs": [],
   "source": [
    "bloq, cost_O_tilde = make_algo_example()"
   ]
  },
  {
   "cell_type": "code",
   "execution_count": null,
   "id": "14",
   "metadata": {},
   "outputs": [],
   "source": [
    "show_bloq(bloq)"
   ]
  },
  {
   "cell_type": "code",
   "execution_count": null,
   "id": "15",
   "metadata": {},
   "outputs": [],
   "source": [
    "g, sigma = bloq.call_graph(max_depth=6)\n",
    "show_call_graph(g)"
   ]
  },
  {
   "cell_type": "code",
   "execution_count": null,
   "id": "16",
   "metadata": {},
   "outputs": [],
   "source": [
    "from qualtran.resource_counting import get_cost_value, QECGatesCost\n",
    "\n",
    "gc = get_cost_value(bloq, QECGatesCost())\n",
    "gc.asdict()"
   ]
  },
  {
   "cell_type": "code",
   "execution_count": null,
   "id": "17",
   "metadata": {},
   "outputs": [],
   "source": [
    "(gc * (1/cost_O_tilde)).asdict()"
   ]
  },
  {
   "cell_type": "code",
   "execution_count": null,
   "id": "18",
   "metadata": {},
   "outputs": [],
   "source": [
    "f\"{cost_O_tilde:e}\""
   ]
  }
 ],
 "metadata": {
  "kernelspec": {
   "display_name": "Python 3 (ipykernel)",
   "language": "python",
   "name": "python3"
  },
  "language_info": {
   "codemirror_mode": {
    "name": "ipython",
    "version": 3
   },
   "file_extension": ".py",
   "mimetype": "text/x-python",
   "name": "python",
   "nbconvert_exporter": "python",
   "pygments_lexer": "ipython3",
   "version": "3.11.9"
  }
 },
 "nbformat": 4,
 "nbformat_minor": 5
}
