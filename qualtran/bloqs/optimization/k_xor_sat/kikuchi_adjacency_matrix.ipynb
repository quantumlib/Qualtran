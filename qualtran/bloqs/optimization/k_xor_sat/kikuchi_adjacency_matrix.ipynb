{
 "cells": [
  {
   "cell_type": "markdown",
   "id": "f82c4ce3",
   "metadata": {
    "cq.autogen": "title_cell"
   },
   "source": [
    "# Planted Noisy kXOR: Kikuchi Adjacency Matrix"
   ]
  },
  {
   "cell_type": "code",
   "execution_count": null,
   "id": "8910a435",
   "metadata": {
    "cq.autogen": "top_imports"
   },
   "outputs": [],
   "source": [
    "from qualtran import Bloq, CompositeBloq, BloqBuilder, Signature, Register\n",
    "from qualtran import QBit, QInt, QUInt, QAny\n",
    "from qualtran.drawing import show_bloq, show_call_graph, show_counts_sigma\n",
    "from typing import *\n",
    "import numpy as np\n",
    "import sympy\n",
    "import cirq"
   ]
  },
  {
   "cell_type": "markdown",
   "id": "3702603c",
   "metadata": {
    "cq.autogen": "KikuchiMatrixEntry.bloq_doc.md"
   },
   "source": [
    "## `KikuchiMatrixEntry`\n",
    "Adjacency matrix oracle for the Kikuchi matrix.\n",
    "\n",
    "Given a kXOR instance $\\mathcal{I}$ with $n$ variables, $m$ constraints,\n",
    "the Kikuchi matrix with parameter $\\ell$ is indexed by ${[n] \\choose l}$.\n",
    "For $S, T \\in {[n] \\choose l}$, the entry is given by\n",
    "$H_{S, T} = B_{\\mathcal{I}}(S \\Delta T)/M$, where $M$ is the max entry.\n",
    "\n",
    "This bloq implements the transform:\n",
    "    $$\n",
    "    |0 \\rangle |S\\rangle |T\\rangle\n",
    "    \\mapsto\n",
    "    (\\sqrt{H_{S, T}}|0\\rangle + \\sqrt{1 - |H_{S, T}|}|1\\rangle)|S\\rangle |T\\rangle\n",
    "    $$\n",
    "\n",
    "This is equivalent to $O_H$ (Def. 4.3) from the paper, but is optimized to classically\n",
    "compute the `arccos` of the entries, and directly apply the rotation,\n",
    "instead of computing them using a quantum circuit.\n",
    "\n",
    "This bloq performs the following steps\n",
    "1. Compute the symmetric difference $D = S \\Delta T$.\n",
    "2. Compute the index $j$ s.t. $U_j = D$ (where $U_j$ are a list of unique scopes)\n",
    "4. Apply a controlled Y-rotation with angle for the $j$-th entry.\n",
    "5. Uncompute steps 3, 2, 1.\n",
    "\n",
    "#### Parameters\n",
    " - `inst`: k-XOR instance\n",
    " - `ell`: the Kikuchi parameter $\\ell$, must be a multiple of $k$.\n",
    " - `entry_bitsize`: number of bits to approximate each rotation angle to.\n",
    " - `cv`: single bit control value (0 or 1), or None for uncontrolled (default). \n",
    "\n",
    "#### Registers\n",
    " - `S`: row index\n",
    " - `T`: column index\n",
    " - `q`: the qubit to rotate by $Ry(2 \\arccos(\\sqrt{H_{S,T} / M}))$ as defined above. \n",
    "\n",
    "#### References\n",
    " - [Quartic quantum speedups for planted inference](https://arxiv.org/abs/2406.19378v1). Definition 4.3. Theorem 4.17 para 3.\n"
   ]
  },
  {
   "cell_type": "code",
   "execution_count": null,
   "id": "06c85c6c",
   "metadata": {
    "cq.autogen": "KikuchiMatrixEntry.bloq_doc.py"
   },
   "outputs": [],
   "source": [
    "from qualtran.bloqs.optimization.k_xor_sat import KikuchiMatrixEntry"
   ]
  },
  {
   "cell_type": "markdown",
   "id": "f45d82af",
   "metadata": {
    "cq.autogen": "KikuchiMatrixEntry.example_instances.md"
   },
   "source": [
    "### Example Instances"
   ]
  },
  {
   "cell_type": "code",
   "execution_count": null,
   "id": "e5a5035e",
   "metadata": {
    "cq.autogen": "KikuchiMatrixEntry.kikuchi_matrix_entry_symb"
   },
   "outputs": [],
   "source": [
    "from qualtran.bloqs.optimization.k_xor_sat.kxor_instance import KXorInstance\n",
    "\n",
    "n, m, k, c = sympy.symbols(\"n m k c\", positive=True, integer=True)\n",
    "inst = KXorInstance.symbolic(n=n, m=m, k=k)\n",
    "ell = c * k\n",
    "\n",
    "kikuchi_matrix_entry_symb = KikuchiMatrixEntry(inst, ell, entry_bitsize=3)"
   ]
  },
  {
   "cell_type": "code",
   "execution_count": null,
   "id": "802ff581",
   "metadata": {
    "cq.autogen": "KikuchiMatrixEntry.kikuchi_matrix_entry"
   },
   "outputs": [],
   "source": [
    "from qualtran.bloqs.optimization.k_xor_sat.kxor_instance import example_kxor_instance\n",
    "\n",
    "inst = example_kxor_instance()\n",
    "ell = 8\n",
    "\n",
    "kikuchi_matrix_entry = KikuchiMatrixEntry(inst, ell, entry_bitsize=3)"
   ]
  },
  {
   "cell_type": "markdown",
   "id": "fd2fd175",
   "metadata": {
    "cq.autogen": "KikuchiMatrixEntry.graphical_signature.md"
   },
   "source": [
    "#### Graphical Signature"
   ]
  },
  {
   "cell_type": "code",
   "execution_count": null,
   "id": "5d9b2e3a",
   "metadata": {
    "cq.autogen": "KikuchiMatrixEntry.graphical_signature.py"
   },
   "outputs": [],
   "source": [
    "from qualtran.drawing import show_bloqs\n",
    "show_bloqs([kikuchi_matrix_entry_symb, kikuchi_matrix_entry],\n",
    "           ['`kikuchi_matrix_entry_symb`', '`kikuchi_matrix_entry`'])"
   ]
  },
  {
   "cell_type": "markdown",
   "id": "649be2c9",
   "metadata": {
    "cq.autogen": "KikuchiMatrixEntry.call_graph.md"
   },
   "source": [
    "### Call Graph"
   ]
  },
  {
   "cell_type": "code",
   "execution_count": null,
   "id": "a901dca4",
   "metadata": {
    "cq.autogen": "KikuchiMatrixEntry.call_graph.py"
   },
   "outputs": [],
   "source": [
    "from qualtran.resource_counting.generalizers import ignore_split_join\n",
    "kikuchi_matrix_entry_symb_g, kikuchi_matrix_entry_symb_sigma = kikuchi_matrix_entry_symb.call_graph(max_depth=1, generalizer=ignore_split_join)\n",
    "show_call_graph(kikuchi_matrix_entry_symb_g)\n",
    "show_counts_sigma(kikuchi_matrix_entry_symb_sigma)"
   ]
  }
 ],
 "metadata": {
  "kernelspec": {
   "display_name": "Python 3",
   "language": "python",
   "name": "python3"
  },
  "language_info": {
   "name": "python"
  }
 },
 "nbformat": 4,
 "nbformat_minor": 5
}
