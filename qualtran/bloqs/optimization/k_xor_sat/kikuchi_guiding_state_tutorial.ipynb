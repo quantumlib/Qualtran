{
 "cells": [
  {
   "cell_type": "code",
   "execution_count": null,
   "id": "0",
   "metadata": {},
   "outputs": [],
   "source": [
    "import numpy as np\n",
    "import sympy\n",
    "from qualtran.drawing import show_bloq, show_call_graph"
   ]
  },
  {
   "cell_type": "markdown",
   "id": "1",
   "metadata": {},
   "source": [
    "Let us start with a kXOR instance with $n$ variables and $m$ constraints."
   ]
  },
  {
   "cell_type": "code",
   "execution_count": null,
   "id": "2",
   "metadata": {},
   "outputs": [],
   "source": [
    "from qualtran.bloqs.optimization.k_xor_sat.kxor_instance import KXorInstance\n",
    "\n",
    "n, m, k = sympy.symbols(\"n m k\", positive=True, integer=True)\n",
    "inst = KXorInstance.symbolic(n, m, k)\n",
    "inst"
   ]
  },
  {
   "cell_type": "markdown",
   "id": "3",
   "metadata": {},
   "source": [
    "We first prepare the guiding state to use in the guided sparse hamiltonian algorithm.\n",
    "The guiding state is defined by the instance, and a parameter $\\ell$ (a multiple of $k$)\n",
    "\n",
    "From Theorem 4.15 of the paper, this should be a circuit of $O(\\ell m \\log n)$ gates,\n",
    "and prepare the state $\\beta |\\Psi\\rangle|0^{\\ell \\log \\ell}\\rangle + |\\perp\\rangle|1\\rangle$,\n",
    "where $\\beta \\ge 0.99 / \\ell^{\\ell/2}$."
   ]
  },
  {
   "cell_type": "code",
   "execution_count": null,
   "id": "4",
   "metadata": {},
   "outputs": [],
   "source": [
    "from qualtran.bloqs.optimization.k_xor_sat.kikuchi_guiding_state import GuidingState\n",
    "\n",
    "c = sympy.symbols(\"c\", positive=True, integer=True)\n",
    "l = c * k\n",
    "guiding_state = GuidingState(inst, l)\n",
    "show_call_graph(guiding_state.call_graph(max_depth=1)[0])"
   ]
  },
  {
   "cell_type": "code",
   "execution_count": null,
   "id": "5",
   "metadata": {},
   "outputs": [],
   "source": [
    "guiding_state_3 = GuidingState(inst, 3 * k)\n",
    "show_bloq(guiding_state_3.decompose_bloq())"
   ]
  },
  {
   "cell_type": "markdown",
   "id": "6",
   "metadata": {},
   "source": [
    "We can also build the guiding state for a concrete (non symbolic) instance:"
   ]
  },
  {
   "cell_type": "code",
   "execution_count": null,
   "id": "7",
   "metadata": {},
   "outputs": [],
   "source": [
    "inst = KXorInstance.random_instance(n=20, m=100, k=4, planted_advantage=0.8, rng=np.random.default_rng(100))\n",
    "guiding_state_concrete = GuidingState(inst, ell=12)\n",
    "show_bloq(guiding_state_concrete)"
   ]
  },
  {
   "cell_type": "code",
   "execution_count": null,
   "id": "8",
   "metadata": {},
   "outputs": [],
   "source": [
    "show_bloq(guiding_state_concrete.decompose_bloq())"
   ]
  },
  {
   "cell_type": "code",
   "execution_count": null,
   "id": "9",
   "metadata": {},
   "outputs": [],
   "source": [
    "show_bloq(guiding_state_concrete.decompose_bloq().flatten_once())"
   ]
  },
  {
   "cell_type": "markdown",
   "id": "10",
   "metadata": {},
   "source": [
    "Let us evaluate the gate cost for the above bloqs."
   ]
  },
  {
   "cell_type": "code",
   "execution_count": null,
   "id": "11",
   "metadata": {},
   "outputs": [],
   "source": [
    "from qualtran.resource_counting import get_cost_value, QECGatesCost\n",
    "\n",
    "get_cost_value(guiding_state_concrete, QECGatesCost())"
   ]
  },
  {
   "cell_type": "code",
   "execution_count": null,
   "id": "12",
   "metadata": {},
   "outputs": [],
   "source": [
    "gc = get_cost_value(guiding_state, QECGatesCost())\n",
    "t_cost = gc.total_t_count(ts_per_toffoli=4, ts_per_cswap=4, ts_per_and_bloq=4)\n",
    "t_cost"
   ]
  },
  {
   "cell_type": "code",
   "execution_count": null,
   "id": "13",
   "metadata": {},
   "outputs": [],
   "source": [
    "from qualtran.symbolics import ceil, log2, floor\n",
    "from qualtran.resource_counting import big_O\n",
    "\n",
    "# simplify some expressions that sympy could not\n",
    "klogn = k * ceil(log2(n))\n",
    "klogn_long = ceil(log2(floor(2**klogn)))\n",
    "t_cost = t_cost.subs(klogn_long, klogn)\n",
    "t_cost = t_cost.simplify()\n",
    "\n",
    "# replace l with a symbol\n",
    "l_symb = sympy.symbols(r\"\\ell\", positive=True, integer=True)\n",
    "t_cost = t_cost.subs(c * k, l_symb)\n",
    "\n",
    "big_O(t_cost) # matches paper Theorem 4.15 (as c, l are O(m))"
   ]
  },
  {
   "cell_type": "code",
   "execution_count": null,
   "id": "14",
   "metadata": {},
   "outputs": [],
   "source": [
    "show_call_graph(guiding_state_concrete, max_depth=3)"
   ]
  },
  {
   "cell_type": "markdown",
   "id": "15",
   "metadata": {},
   "source": [
    "As we know that $c = \\ell/k \\le \\ell$ and $\\ell \\le m$, the above expression matches the paper result of $O(\\ell m \\log_2(n))$ 1/2-qubit gates.\n",
    "<!-- Here, we synthesize each 1-qubit rotation to precision $2^{-b_\\text{grad}}$, with $4 (b_\\text{grad}-2)$ T gates using phase gradients. -->"
   ]
  }
 ],
 "metadata": {
  "kernelspec": {
   "display_name": "Python 3 (ipykernel)",
   "language": "python",
   "name": "python3"
  },
  "language_info": {
   "codemirror_mode": {
    "name": "ipython",
    "version": 3
   },
   "file_extension": ".py",
   "mimetype": "text/x-python",
   "name": "python",
   "nbconvert_exporter": "python",
   "pygments_lexer": "ipython3",
   "version": "3.11.9"
  }
 },
 "nbformat": 4,
 "nbformat_minor": 5
}
