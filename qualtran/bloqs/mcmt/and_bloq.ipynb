{
 "cells": [
  {
   "cell_type": "markdown",
   "id": "0fe14f49",
   "metadata": {
    "cq.autogen": "title_cell"
   },
   "source": [
    "# And\n",
    "\n",
    "Bloqs for doing \"AND\" logical operations.\n",
    "\n",
    "The behavior is modified by the 'control variable' attributes. A traditional value of '1'\n",
    "means that a bit value of '1' is logical true for the and operation. A control value of\n",
    "'0' means that a bit value of '0' is the logical true.\n",
    "\n",
    "The `Toffoli` bloq is similar to the `And` bloq. Toffoli will flip the target bit according\n",
    "to the and of its control registers. `And` will output the result into a fresh register."
   ]
  },
  {
   "cell_type": "code",
   "execution_count": null,
   "id": "47e0d2c9",
   "metadata": {
    "cq.autogen": "top_imports"
   },
   "outputs": [],
   "source": [
    "from qualtran import Bloq, CompositeBloq, BloqBuilder, Signature, Register\n",
    "from qualtran import QBit, QInt, QUInt, QAny\n",
    "from qualtran.drawing import show_bloq, show_call_graph, show_counts_sigma\n",
    "from typing import *\n",
    "import numpy as np\n",
    "import sympy\n",
    "import cirq"
   ]
  },
  {
   "cell_type": "markdown",
   "id": "dd63e8be",
   "metadata": {
    "cq.autogen": "And.bloq_doc.md"
   },
   "source": [
    "## `And`\n",
    "A two-bit 'and' operation optimized for T-count.\n",
    "\n",
    "#### Parameters\n",
    " - `cv1`: Whether the first bit is a positive control.\n",
    " - `cv2`: Whether the second bit is a positive control. \n",
    "\n",
    "#### Registers\n",
    " - `ctrl`: A two-bit control register.\n",
    " - `target [right]`: The output bit. \n",
    "\n",
    "#### References\n",
    " - [Encoding Electronic Spectra in Quantum Circuits with Linear T Complexity](https://arxiv.org/abs/1805.03662).     Babbush et. al. 2018. Section III.A. and Fig. 4.\n",
    " - [Verifying Measurement Based Uncomputation](https://algassert.com/post/1903). Gidney, C. 2019.\n"
   ]
  },
  {
   "cell_type": "code",
   "execution_count": null,
   "id": "4c4ec376",
   "metadata": {
    "cq.autogen": "And.bloq_doc.py"
   },
   "outputs": [],
   "source": [
    "from qualtran.bloqs.mcmt import And"
   ]
  },
  {
   "cell_type": "markdown",
   "id": "797e03e0",
   "metadata": {
    "cq.autogen": "And.example_instances.md"
   },
   "source": [
    "### Example Instances"
   ]
  },
  {
   "cell_type": "code",
   "execution_count": null,
   "id": "222e5c17",
   "metadata": {
    "cq.autogen": "And.and_bloq"
   },
   "outputs": [],
   "source": [
    "and_bloq = And()"
   ]
  },
  {
   "cell_type": "markdown",
   "id": "83ee1466",
   "metadata": {
    "cq.autogen": "And.graphical_signature.md"
   },
   "source": [
    "#### Graphical Signature"
   ]
  },
  {
   "cell_type": "code",
   "execution_count": null,
   "id": "099456c6",
   "metadata": {
    "cq.autogen": "And.graphical_signature.py"
   },
   "outputs": [],
   "source": [
    "from qualtran.drawing import show_bloqs\n",
    "show_bloqs([and_bloq],\n",
    "           ['`and_bloq`'])"
   ]
  },
  {
   "cell_type": "markdown",
   "id": "589f32bb",
   "metadata": {
    "cq.autogen": "And.call_graph.md"
   },
   "source": [
    "### Call Graph"
   ]
  },
  {
   "cell_type": "code",
   "execution_count": null,
   "id": "3da10012",
   "metadata": {
    "cq.autogen": "And.call_graph.py"
   },
   "outputs": [],
   "source": [
    "from qualtran.resource_counting.generalizers import ignore_split_join\n",
    "and_bloq_g, and_bloq_sigma = and_bloq.call_graph(max_depth=1, generalizer=ignore_split_join)\n",
    "show_call_graph(and_bloq_g)\n",
    "show_counts_sigma(and_bloq_sigma)"
   ]
  },
  {
   "cell_type": "markdown",
   "id": "50800962",
   "metadata": {
    "cq.autogen": "MultiAnd.bloq_doc.md"
   },
   "source": [
    "## `MultiAnd`\n",
    "A many-bit (multi-control) 'and' operation.\n",
    "\n",
    "#### Parameters\n",
    " - `cvs`: A tuple of control variable settings. Each entry specifies whether that control line is a \"positive\" control (`cv[i]=1`) or a \"negative\" control `0`. If a HasLength object is passed, assumes the control values to be all 1's.  \n",
    "\n",
    "#### Registers\n",
    " - `ctrl`: An n-bit control register.\n",
    " - `junk [right]`: An `n-2` bit junk register to be cleaned up by the inverse operation.\n",
    " - `target [right]`: The output bit.\n"
   ]
  },
  {
   "cell_type": "code",
   "execution_count": null,
   "id": "51233de9",
   "metadata": {
    "cq.autogen": "MultiAnd.bloq_doc.py"
   },
   "outputs": [],
   "source": [
    "from qualtran.bloqs.mcmt import MultiAnd"
   ]
  },
  {
   "cell_type": "markdown",
   "id": "0de01272",
   "metadata": {
    "cq.autogen": "MultiAnd.example_instances.md"
   },
   "source": [
    "### Example Instances"
   ]
  },
  {
   "cell_type": "code",
   "execution_count": null,
   "id": "e3624703",
   "metadata": {
    "cq.autogen": "MultiAnd.multi_and"
   },
   "outputs": [],
   "source": [
    "multi_and = MultiAnd(cvs=(1, 0, 1, 0, 1, 0))"
   ]
  },
  {
   "cell_type": "markdown",
   "id": "bec95a47",
   "metadata": {
    "cq.autogen": "MultiAnd.graphical_signature.md"
   },
   "source": [
    "#### Graphical Signature"
   ]
  },
  {
   "cell_type": "code",
   "execution_count": null,
   "id": "2065cd95",
   "metadata": {
    "cq.autogen": "MultiAnd.graphical_signature.py"
   },
   "outputs": [],
   "source": [
    "from qualtran.drawing import show_bloqs\n",
    "show_bloqs([multi_and],\n",
    "           ['`multi_and`'])"
   ]
  },
  {
   "cell_type": "markdown",
   "id": "533031f3",
   "metadata": {
    "cq.autogen": "MultiAnd.call_graph.md"
   },
   "source": [
    "### Call Graph"
   ]
  },
  {
   "cell_type": "code",
   "execution_count": null,
   "id": "8b08e41b",
   "metadata": {
    "cq.autogen": "MultiAnd.call_graph.py"
   },
   "outputs": [],
   "source": [
    "from qualtran.resource_counting.generalizers import ignore_split_join\n",
    "multi_and_g, multi_and_sigma = multi_and.call_graph(max_depth=1, generalizer=ignore_split_join)\n",
    "show_call_graph(multi_and_g)\n",
    "show_counts_sigma(multi_and_sigma)"
   ]
  },
  {
   "cell_type": "markdown",
   "id": "1a29bb95",
   "metadata": {},
   "source": [
    "## Additional Demos"
   ]
  },
  {
   "cell_type": "markdown",
   "id": "bc24c183",
   "metadata": {},
   "source": [
    "### Testing with states and effects\n",
    "\n",
    "We can use `ZeroState` and its friends to test the truth table on this classical logic."
   ]
  },
  {
   "cell_type": "code",
   "execution_count": null,
   "id": "979530da",
   "metadata": {},
   "outputs": [],
   "source": [
    "from qualtran.bloqs.basic_gates import OneEffect, OneState, ZeroEffect, ZeroState\n",
    "\n",
    "state = [ZeroState(), OneState()]\n",
    "eff = [ZeroEffect(), OneEffect()]\n",
    "\n",
    "# Experiment with changing the following:\n",
    "cvs = (1, 1, 1)\n",
    "ctrl_string = (1, 1, 1)\n",
    "\n",
    "\n",
    "bb = BloqBuilder()\n",
    "ctrl_qs = [bb.add(state[c]) for c in ctrl_string]\n",
    "ctrl_qs, junk, res = bb.add_from(MultiAnd(cvs), ctrl=ctrl_qs)\n",
    "for c, q in zip(ctrl_string, ctrl_qs):\n",
    "    bb.add(eff[c], q=q)\n",
    "\n",
    "cbloq = bb.finalize(junk=junk, res=res)\n",
    "show_bloq(cbloq)"
   ]
  },
  {
   "cell_type": "code",
   "execution_count": null,
   "id": "aa0ec9b1",
   "metadata": {},
   "outputs": [],
   "source": [
    "# Our tensor network now just has the result index and a junk index.\n",
    "# We use `np.where` to find non-zero entries into this.\n",
    "# In fact -- the second index corresponding to `res` is the bit output\n",
    "vec = cbloq.tensor_contract()\n",
    "junk_i, res_i = np.where(vec.reshape((2, 2)))\n",
    "res_i"
   ]
  },
  {
   "cell_type": "code",
   "execution_count": null,
   "id": "6ee9b855",
   "metadata": {},
   "outputs": [],
   "source": [
    "# The truthiness of the non-zero res index should match the desired logical function.\n",
    "should_be = np.all(ctrl_string == cvs)\n",
    "should_be"
   ]
  },
  {
   "cell_type": "markdown",
   "id": "faeca991",
   "metadata": {},
   "source": [
    "### Classical Simulation\n",
    "\n",
    "The `And` gate is classical logic, so we can simulate it on discrete bitstrings."
   ]
  },
  {
   "cell_type": "code",
   "execution_count": null,
   "id": "c8701a60",
   "metadata": {},
   "outputs": [],
   "source": [
    "ctrl, out = And().call_classically(ctrl=np.array([1, 1]))\n",
    "out"
   ]
  },
  {
   "cell_type": "code",
   "execution_count": null,
   "id": "e6965536",
   "metadata": {},
   "outputs": [],
   "source": [
    "ctrl = np.array([1,1,1,1])\n",
    "ctrl, junk, out = MultiAnd((1,1,1,1)).call_classically(ctrl=ctrl)\n",
    "out"
   ]
  },
  {
   "cell_type": "code",
   "execution_count": null,
   "id": "9a502db4",
   "metadata": {},
   "outputs": [],
   "source": [
    "from qualtran.drawing import ClassicalSimGraphDrawer\n",
    "\n",
    "ClassicalSimGraphDrawer(\n",
    "    MultiAnd((1,1,1,1)).decompose_bloq(), \n",
    "    vals=dict(ctrl=[1,1,0,1])\n",
    ").get_svg()"
   ]
  }
 ],
 "metadata": {
  "kernelspec": {
   "display_name": "Python 3 (ipykernel)",
   "language": "python",
   "name": "python3"
  },
  "language_info": {
   "codemirror_mode": {
    "name": "ipython",
    "version": 3
   },
   "file_extension": ".py",
   "mimetype": "text/x-python",
   "name": "python",
   "nbconvert_exporter": "python",
   "pygments_lexer": "ipython3",
   "version": "3.10.9"
  }
 },
 "nbformat": 4,
 "nbformat_minor": 5
}
