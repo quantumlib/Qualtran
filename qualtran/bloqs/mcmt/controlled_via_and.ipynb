{
 "cells": [
  {
   "cell_type": "markdown",
   "id": "fa539e78",
   "metadata": {
    "cq.autogen": "title_cell"
   },
   "source": [
    "# Multi control bloq via single control bloq and `And` ladder"
   ]
  },
  {
   "cell_type": "code",
   "execution_count": null,
   "id": "bcb7aec6",
   "metadata": {
    "cq.autogen": "top_imports"
   },
   "outputs": [],
   "source": [
    "from qualtran import Bloq, CompositeBloq, BloqBuilder, Signature, Register\n",
    "from qualtran import QBit, QInt, QUInt, QAny\n",
    "from qualtran.drawing import show_bloq, show_call_graph, show_counts_sigma\n",
    "from typing import *\n",
    "import numpy as np\n",
    "import sympy\n",
    "import cirq"
   ]
  },
  {
   "cell_type": "markdown",
   "id": "0653bdfc",
   "metadata": {
    "cq.autogen": "ControlledViaAnd.bloq_doc.md"
   },
   "source": [
    "## `ControlledViaAnd`\n",
    "Reduces a generic controlled bloq to a singly-controlled bloq using an And ladder.\n",
    "\n",
    "Implements a generic controlled version of the subbloq, by first reducing the\n",
    "arbitrary control to a single qubit, and then using a single-qubit-controlled\n",
    "variant of the subbloq.\n",
    "\n",
    "For signature, see :class:`Controlled`.\n",
    "\n",
    "#### Parameters\n",
    " - `subbloq`: The bloq we are controlling.\n",
    " - `ctrl_spec`: The specification for how to control the bloq.\n"
   ]
  },
  {
   "cell_type": "code",
   "execution_count": null,
   "id": "cdeee9e0",
   "metadata": {
    "cq.autogen": "ControlledViaAnd.bloq_doc.py"
   },
   "outputs": [],
   "source": [
    "from qualtran.bloqs.mcmt import ControlledViaAnd"
   ]
  },
  {
   "cell_type": "markdown",
   "id": "63037b5b",
   "metadata": {
    "cq.autogen": "ControlledViaAnd.example_instances.md"
   },
   "source": [
    "### Example Instances"
   ]
  },
  {
   "cell_type": "code",
   "execution_count": null,
   "id": "789e7f88",
   "metadata": {
    "cq.autogen": "ControlledViaAnd.controlled_via_and_ints"
   },
   "outputs": [],
   "source": [
    "from qualtran import CtrlSpec, QInt, QUInt\n",
    "from qualtran.bloqs.basic_gates import Hadamard\n",
    "\n",
    "controlled_via_and_ints = ControlledViaAnd(\n",
    "    Hadamard(),\n",
    "    CtrlSpec(\n",
    "        qdtypes=(QUInt(4), QInt(4)), cvs=(np.array([0, 1, 2, 3]), np.array([0, 1, -1, -2]))\n",
    "    ),\n",
    ")"
   ]
  },
  {
   "cell_type": "code",
   "execution_count": null,
   "id": "7140523f",
   "metadata": {
    "cq.autogen": "ControlledViaAnd.controlled_via_and_qbits"
   },
   "outputs": [],
   "source": [
    "from qualtran.bloqs.basic_gates import Hadamard\n",
    "\n",
    "controlled_via_and_qbits = ControlledViaAnd(Hadamard(), CtrlSpec(cvs=(np.array([0, 1, 1, 0]),)))"
   ]
  },
  {
   "cell_type": "markdown",
   "id": "27d4d6e1",
   "metadata": {
    "cq.autogen": "ControlledViaAnd.graphical_signature.md"
   },
   "source": [
    "#### Graphical Signature"
   ]
  },
  {
   "cell_type": "code",
   "execution_count": null,
   "id": "45a0473b",
   "metadata": {
    "cq.autogen": "ControlledViaAnd.graphical_signature.py"
   },
   "outputs": [],
   "source": [
    "from qualtran.drawing import show_bloqs\n",
    "show_bloqs([controlled_via_and_ints, controlled_via_and_qbits],\n",
    "           ['`controlled_via_and_ints`', '`controlled_via_and_qbits`'])"
   ]
  },
  {
   "cell_type": "markdown",
   "id": "b0301e73",
   "metadata": {
    "cq.autogen": "ControlledViaAnd.call_graph.md"
   },
   "source": [
    "### Call Graph"
   ]
  },
  {
   "cell_type": "code",
   "execution_count": null,
   "id": "9af47394",
   "metadata": {
    "cq.autogen": "ControlledViaAnd.call_graph.py"
   },
   "outputs": [],
   "source": [
    "from qualtran.resource_counting.generalizers import ignore_split_join\n",
    "controlled_via_and_ints_g, controlled_via_and_ints_sigma = controlled_via_and_ints.call_graph(max_depth=1, generalizer=ignore_split_join)\n",
    "show_call_graph(controlled_via_and_ints_g)\n",
    "show_counts_sigma(controlled_via_and_ints_sigma)"
   ]
  },
  {
   "cell_type": "markdown",
   "id": "11",
   "metadata": {},
   "source": [
    "## Nested Controls\n",
    "Calling `controlled` on a `ControlledViaAnd` returns another `ControlledViaAnd` by combining the existing and new controls into a single control specification."
   ]
  },
  {
   "cell_type": "code",
   "execution_count": null,
   "id": "12",
   "metadata": {},
   "outputs": [],
   "source": [
    "nested_ctrl_bloq = controlled_via_and_qbits.controlled(CtrlSpec(cvs=[1, 1]))\n",
    "show_bloqs([nested_ctrl_bloq])"
   ]
  },
  {
   "cell_type": "code",
   "execution_count": null,
   "id": "13",
   "metadata": {},
   "outputs": [],
   "source": [
    "show_call_graph(nested_ctrl_bloq)"
   ]
  }
 ],
 "metadata": {
  "kernelspec": {
   "display_name": "Python 3",
   "language": "python",
   "name": "python3"
  },
  "language_info": {
   "name": "python"
  }
 },
 "nbformat": 4,
 "nbformat_minor": 5
}
