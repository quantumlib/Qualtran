{
 "cells": [
  {
   "cell_type": "markdown",
   "id": "cd3fbf46",
   "metadata": {
    "cq.autogen": "title_cell"
   },
   "source": [
    "# Control Specification"
   ]
  },
  {
   "cell_type": "code",
   "execution_count": null,
   "id": "ba898e59",
   "metadata": {
    "cq.autogen": "top_imports"
   },
   "outputs": [],
   "source": [
    "from qualtran import Bloq, CompositeBloq, BloqBuilder, Signature, Register\n",
    "from qualtran import QBit, QInt, QUInt, QAny\n",
    "from qualtran.drawing import show_bloq, show_call_graph, show_counts_sigma\n",
    "from typing import *\n",
    "import numpy as np\n",
    "import sympy\n",
    "import cirq"
   ]
  },
  {
   "cell_type": "markdown",
   "id": "bf5a246f",
   "metadata": {
    "cq.autogen": "CtrlSpecActivation.bloq_doc.md"
   },
   "source": [
    "## `CtrlSpecActivation`\n",
    "Computes a single qubit which is `1` iff the CtrlSpec is satisfied.\n",
    "\n",
    "This reduces an arbitrary control specification to a single qubit, which can be used\n",
    "to then control a bloq. Therefore, a bloq author is only required to implement a\n",
    "single-controlled version of their bloq, and can be generalized to arbitrary controls.\n",
    "\n",
    "The control registers are passed through as-is. If the same control bit is required for\n",
    "multiple bloqs, the user can use the `target` qubit of this bloq multiple times, and only\n",
    "uncompute at the very end. For more custom strategies and trade-offs, see Ref. [1].\n",
    "\n",
    "#### Parameters\n",
    " - `ctrl_spec`: The control specification. \n",
    "\n",
    "#### Registers\n",
    " - `ctrl_i`: The control register for the i-th ctrl dtype in the `ctrl_spec`.\n",
    " - `junk [right]`: `ctrl_spec.num_qubits - 2` qubits that can be cleaned up by the inverse. Only present if the above size is non-zero.\n",
    " - `target [right]`: The output bit storing the result of the `ctrl_spec`. \n",
    "\n",
    "#### References\n",
    " - [Unqomp: synthesizing uncomputation in Quantum circuits](https://dl.acm.org/doi/10.1145/3453483.3454040). Paradis et. al. 2021.\n"
   ]
  },
  {
   "cell_type": "code",
   "execution_count": null,
   "id": "fa455341",
   "metadata": {
    "cq.autogen": "CtrlSpecActivation.bloq_doc.py"
   },
   "outputs": [],
   "source": [
    "from qualtran.bloqs.mcmt.ctrl_spec_activation import CtrlSpecActivation"
   ]
  },
  {
   "cell_type": "markdown",
   "id": "b6bca1ca",
   "metadata": {
    "cq.autogen": "CtrlSpecActivation.example_instances.md"
   },
   "source": [
    "### Example Instances"
   ]
  },
  {
   "cell_type": "code",
   "execution_count": null,
   "id": "39841616",
   "metadata": {
    "cq.autogen": "CtrlSpecActivation.ctrl_int"
   },
   "outputs": [],
   "source": [
    "from qualtran import CtrlSpec, QUInt\n",
    "\n",
    "ctrl_int = CtrlSpecActivation(CtrlSpec(qdtypes=QUInt(4), cvs=[0b0101]))"
   ]
  },
  {
   "cell_type": "markdown",
   "id": "26f1616a",
   "metadata": {
    "cq.autogen": "CtrlSpecActivation.graphical_signature.md"
   },
   "source": [
    "#### Graphical Signature"
   ]
  },
  {
   "cell_type": "code",
   "execution_count": null,
   "id": "3da2c842",
   "metadata": {
    "cq.autogen": "CtrlSpecActivation.graphical_signature.py"
   },
   "outputs": [],
   "source": [
    "from qualtran.drawing import show_bloqs\n",
    "show_bloqs([ctrl_int],\n",
    "           ['`ctrl_int`'])"
   ]
  },
  {
   "cell_type": "markdown",
   "id": "2794013a",
   "metadata": {
    "cq.autogen": "CtrlSpecActivation.call_graph.md"
   },
   "source": [
    "### Call Graph"
   ]
  },
  {
   "cell_type": "code",
   "execution_count": null,
   "id": "50db9c98",
   "metadata": {
    "cq.autogen": "CtrlSpecActivation.call_graph.py"
   },
   "outputs": [],
   "source": [
    "from qualtran.resource_counting.generalizers import ignore_split_join\n",
    "ctrl_int_g, ctrl_int_sigma = ctrl_int.call_graph(max_depth=1, generalizer=ignore_split_join)\n",
    "show_call_graph(ctrl_int_g)\n",
    "show_counts_sigma(ctrl_int_sigma)"
   ]
  }
 ],
 "metadata": {
  "kernelspec": {
   "display_name": "Python 3",
   "language": "python",
   "name": "python3"
  },
  "language_info": {
   "name": "python"
  }
 },
 "nbformat": 4,
 "nbformat_minor": 5
}
