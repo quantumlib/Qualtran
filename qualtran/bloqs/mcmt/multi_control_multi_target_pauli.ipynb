{
 "cells": [
  {
   "cell_type": "markdown",
   "id": "5c75973b",
   "metadata": {
    "cq.autogen": "title_cell"
   },
   "source": [
    "# Multi-Paulis"
   ]
  },
  {
   "cell_type": "code",
   "execution_count": null,
   "id": "c0d3d2b2",
   "metadata": {
    "cq.autogen": "top_imports"
   },
   "outputs": [],
   "source": [
    "from qualtran import Bloq, CompositeBloq, BloqBuilder, Signature, Register\n",
    "from qualtran import QBit, QInt, QUInt, QAny\n",
    "from qualtran.drawing import show_bloq, show_call_graph, show_counts_sigma\n",
    "from typing import *\n",
    "import numpy as np\n",
    "import sympy\n",
    "import cirq"
   ]
  },
  {
   "cell_type": "markdown",
   "id": "ac237fd0",
   "metadata": {
    "cq.autogen": "MultiTargetCNOT.bloq_doc.md"
   },
   "source": [
    "## `MultiTargetCNOT`\n",
    "Implements single control, multi-target $C[X^{\\otimes n}]$ gate.\n",
    "\n",
    "Implements $|0><0| I + |1><1| X^{\\otimes n}$ using a circuit of depth $2\\log(n) + 1$\n",
    "containing only CNOT gates.\n",
    "\n",
    "#### References\n",
    " - [Trading T-gates for dirty qubits in state preparation and unitary synthesis](https://arxiv.org/abs/1812.00954). Appendix B.1.\n"
   ]
  },
  {
   "cell_type": "code",
   "execution_count": null,
   "id": "a9e53831",
   "metadata": {
    "cq.autogen": "MultiTargetCNOT.bloq_doc.py"
   },
   "outputs": [],
   "source": [
    "from qualtran.bloqs.mcmt import MultiTargetCNOT"
   ]
  },
  {
   "cell_type": "markdown",
   "id": "70036306",
   "metadata": {
    "cq.autogen": "MultiTargetCNOT.example_instances.md"
   },
   "source": [
    "### Example Instances"
   ]
  },
  {
   "cell_type": "code",
   "execution_count": null,
   "id": "40a9ec07",
   "metadata": {
    "cq.autogen": "MultiTargetCNOT.c_multi_not_symb"
   },
   "outputs": [],
   "source": [
    "n = sympy.Symbol('n')\n",
    "c_multi_not_symb = MultiTargetCNOT(bitsize=n)"
   ]
  },
  {
   "cell_type": "code",
   "execution_count": null,
   "id": "ecddf931",
   "metadata": {
    "cq.autogen": "MultiTargetCNOT.c_multi_not"
   },
   "outputs": [],
   "source": [
    "c_multi_not = MultiTargetCNOT(bitsize=5)"
   ]
  },
  {
   "cell_type": "markdown",
   "id": "251ca68a",
   "metadata": {
    "cq.autogen": "MultiTargetCNOT.graphical_signature.md"
   },
   "source": [
    "#### Graphical Signature"
   ]
  },
  {
   "cell_type": "code",
   "execution_count": null,
   "id": "bff75a03",
   "metadata": {
    "cq.autogen": "MultiTargetCNOT.graphical_signature.py"
   },
   "outputs": [],
   "source": [
    "from qualtran.drawing import show_bloqs\n",
    "show_bloqs([c_multi_not_symb, c_multi_not],\n",
    "           ['`c_multi_not_symb`', '`c_multi_not`'])"
   ]
  },
  {
   "cell_type": "markdown",
   "id": "bd425677",
   "metadata": {
    "cq.autogen": "MultiTargetCNOT.call_graph.md"
   },
   "source": [
    "### Call Graph"
   ]
  },
  {
   "cell_type": "code",
   "execution_count": null,
   "id": "a0082f8f",
   "metadata": {
    "cq.autogen": "MultiTargetCNOT.call_graph.py"
   },
   "outputs": [],
   "source": [
    "from qualtran.resource_counting.generalizers import ignore_split_join\n",
    "c_multi_not_symb_g, c_multi_not_symb_sigma = c_multi_not_symb.call_graph(max_depth=1, generalizer=ignore_split_join)\n",
    "show_call_graph(c_multi_not_symb_g)\n",
    "show_counts_sigma(c_multi_not_symb_sigma)"
   ]
  },
  {
   "cell_type": "code",
   "execution_count": null,
   "id": "5457e35b",
   "metadata": {},
   "outputs": [],
   "source": [
    "from qualtran.drawing import get_musical_score_data, draw_musical_score\n",
    "\n",
    "draw_musical_score(get_musical_score_data(c_multi_not.decompose_bloq()))"
   ]
  },
  {
   "cell_type": "markdown",
   "id": "aba024ec",
   "metadata": {
    "cq.autogen": "MultiControlPauli.bloq_doc.md"
   },
   "source": [
    "## `MultiControlPauli`\n",
    "Implements multi-control, single-target C^{n}P gate.\n",
    "\n",
    "Implements $C^{n}P = (1 - |1^{n}><1^{n}|) I + |1^{n}><1^{n}| P^{n}$ using $n-1$\n",
    "clean ancillas using a multi-controlled `AND` gate. Uses the Toffoli ladder\n",
    "construction described in \"n−2 Ancilla Bits\" section of Ref[1] but uses an\n",
    "$\\text{AND} / \\text{AND}^\\dagger$ ladder instead for computing / uncomputing\n",
    "using clean ancillas instead of the Toffoli ladder. The measurement based\n",
    "uncomputation of $\\text{AND}$ does not consume any magic states and thus has\n",
    "better constant factors.\n",
    "\n",
    "#### References\n",
    " - [Constructing Large Controlled Nots](https://algassert.com/circuits/2015/06/05/Constructing-Large-Controlled-Nots.html). \n"
   ]
  },
  {
   "cell_type": "code",
   "execution_count": null,
   "id": "bf4f6c5a",
   "metadata": {
    "cq.autogen": "MultiControlPauli.bloq_doc.py"
   },
   "outputs": [],
   "source": [
    "from qualtran.bloqs.mcmt import MultiControlPauli"
   ]
  },
  {
   "cell_type": "markdown",
   "id": "a3deef58",
   "metadata": {
    "cq.autogen": "MultiControlPauli.example_instances.md"
   },
   "source": [
    "### Example Instances"
   ]
  },
  {
   "cell_type": "code",
   "execution_count": null,
   "id": "610dfdf5",
   "metadata": {
    "cq.autogen": "MultiControlPauli.ccpauli"
   },
   "outputs": [],
   "source": [
    "ccpauli = MultiControlPauli(cvs=(1, 0, 1, 0, 1), target_gate=cirq.X)"
   ]
  },
  {
   "cell_type": "markdown",
   "id": "29045880",
   "metadata": {
    "cq.autogen": "MultiControlPauli.graphical_signature.md"
   },
   "source": [
    "#### Graphical Signature"
   ]
  },
  {
   "cell_type": "code",
   "execution_count": null,
   "id": "df830018",
   "metadata": {
    "cq.autogen": "MultiControlPauli.graphical_signature.py"
   },
   "outputs": [],
   "source": [
    "from qualtran.drawing import show_bloqs\n",
    "show_bloqs([ccpauli],\n",
    "           ['`ccpauli`'])"
   ]
  },
  {
   "cell_type": "markdown",
   "id": "6849b86b",
   "metadata": {
    "cq.autogen": "MultiControlPauli.call_graph.md"
   },
   "source": [
    "### Call Graph"
   ]
  },
  {
   "cell_type": "code",
   "execution_count": null,
   "id": "dd1f8a53",
   "metadata": {
    "cq.autogen": "MultiControlPauli.call_graph.py"
   },
   "outputs": [],
   "source": [
    "from qualtran.resource_counting.generalizers import ignore_split_join\n",
    "ccpauli_g, ccpauli_sigma = ccpauli.call_graph(max_depth=1, generalizer=ignore_split_join)\n",
    "show_call_graph(ccpauli_g)\n",
    "show_counts_sigma(ccpauli_sigma)"
   ]
  }
 ],
 "metadata": {
  "kernelspec": {
   "display_name": "Python 3 (ipykernel)",
   "language": "python",
   "name": "python3"
  },
  "language_info": {
   "codemirror_mode": {
    "name": "ipython",
    "version": 3
   },
   "file_extension": ".py",
   "mimetype": "text/x-python",
   "name": "python",
   "nbconvert_exporter": "python",
   "pygments_lexer": "ipython3",
   "version": "3.10.9"
  }
 },
 "nbformat": 4,
 "nbformat_minor": 5
}
