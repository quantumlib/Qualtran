{
 "cells": [
  {
   "cell_type": "markdown",
   "id": "8533d106",
   "metadata": {
    "cq.autogen": "title_cell"
   },
   "source": [
    "# Multi-Paulis"
   ]
  },
  {
   "cell_type": "code",
   "execution_count": null,
   "id": "b5831fa4",
   "metadata": {
    "cq.autogen": "top_imports"
   },
   "outputs": [],
   "source": [
    "from qualtran import Bloq, CompositeBloq, BloqBuilder, Signature, Register\n",
    "from qualtran import QBit, QInt, QUInt, QAny\n",
    "from qualtran.drawing import show_bloq, show_call_graph, show_counts_sigma\n",
    "from typing import *\n",
    "import numpy as np\n",
    "import sympy\n",
    "import cirq"
   ]
  },
  {
   "cell_type": "markdown",
   "id": "b85b5ac2",
   "metadata": {
    "cq.autogen": "MultiTargetCNOT.bloq_doc.md"
   },
   "source": [
    "## `MultiTargetCNOT`\n",
    "Implements single control, multi-target $C[X^{\\otimes n}]$ gate.\n",
    "\n",
    "Implements $|0><0| I + |1><1| X^{\\otimes n}$ using a circuit of depth $2\\log(n) + 1$\n",
    "containing only CNOT gates.\n",
    "\n",
    "#### References\n",
    " - [Trading T-gates for dirty qubits in state preparation and unitary synthesis](https://arxiv.org/abs/1812.00954). Appendix B.1.\n"
   ]
  },
  {
   "cell_type": "code",
   "execution_count": null,
   "id": "387c77c3",
   "metadata": {
    "cq.autogen": "MultiTargetCNOT.bloq_doc.py"
   },
   "outputs": [],
   "source": [
    "from qualtran.bloqs.mcmt import MultiTargetCNOT"
   ]
  },
  {
   "cell_type": "markdown",
   "id": "cb66ffb6",
   "metadata": {
    "cq.autogen": "MultiTargetCNOT.example_instances.md"
   },
   "source": [
    "### Example Instances"
   ]
  },
  {
   "cell_type": "code",
   "execution_count": null,
   "id": "e4d9154a",
   "metadata": {
    "cq.autogen": "MultiTargetCNOT.c_multi_not_symb"
   },
   "outputs": [],
   "source": [
    "n = sympy.Symbol('n')\n",
    "c_multi_not_symb = MultiTargetCNOT(bitsize=n)"
   ]
  },
  {
   "cell_type": "code",
   "execution_count": null,
   "id": "ca47c43a",
   "metadata": {
    "cq.autogen": "MultiTargetCNOT.c_multi_not"
   },
   "outputs": [],
   "source": [
    "c_multi_not = MultiTargetCNOT(bitsize=5)"
   ]
  },
  {
   "cell_type": "markdown",
   "id": "a44ef0b1",
   "metadata": {
    "cq.autogen": "MultiTargetCNOT.graphical_signature.md"
   },
   "source": [
    "#### Graphical Signature"
   ]
  },
  {
   "cell_type": "code",
   "execution_count": null,
   "id": "baafd2bf",
   "metadata": {
    "cq.autogen": "MultiTargetCNOT.graphical_signature.py"
   },
   "outputs": [],
   "source": [
    "from qualtran.drawing import show_bloqs\n",
    "show_bloqs([c_multi_not_symb, c_multi_not],\n",
    "           ['`c_multi_not_symb`', '`c_multi_not`'])"
   ]
  },
  {
   "cell_type": "markdown",
   "id": "60bc96ef",
   "metadata": {
    "cq.autogen": "MultiTargetCNOT.call_graph.md"
   },
   "source": [
    "### Call Graph"
   ]
  },
  {
   "cell_type": "code",
   "execution_count": null,
   "id": "59e8162e",
   "metadata": {
    "cq.autogen": "MultiTargetCNOT.call_graph.py"
   },
   "outputs": [],
   "source": [
    "from qualtran.resource_counting.generalizers import ignore_split_join\n",
    "c_multi_not_symb_g, c_multi_not_symb_sigma = c_multi_not_symb.call_graph(max_depth=1, generalizer=ignore_split_join)\n",
    "show_call_graph(c_multi_not_symb_g)\n",
    "show_counts_sigma(c_multi_not_symb_sigma)"
   ]
  },
  {
   "cell_type": "markdown",
   "id": "2de64cfb",
   "metadata": {
    "cq.autogen": "MultiControlX.bloq_doc.md"
   },
   "source": [
    "## `MultiControlX`\n",
    "Implements multi-control, single-target X gate.\n",
    "\n",
    "Reduces multiple controls to a single control using an `And` ladder.\n",
    "See class `ControlledViaAnd` for details on construction.\n",
    "\n",
    "Alternatively, one can directly use `XGate().controlled(CtrlSpec(cvs=cvs))`\n",
    "\n",
    "#### Parameters\n",
    " - `cvs`: a tuple of `n` control bits, or a `HasLength(n)` to control by `n` 1s. \n",
    "\n",
    "#### Registers\n",
    " - `controls`: control register of type `QBit` and shape `(n,)`.\n",
    " - `target`: single qubit target register.\n"
   ]
  },
  {
   "cell_type": "code",
   "execution_count": null,
   "id": "9b43be2a",
   "metadata": {
    "cq.autogen": "MultiControlX.bloq_doc.py"
   },
   "outputs": [],
   "source": [
    "from qualtran.bloqs.mcmt import MultiControlX"
   ]
  },
  {
   "cell_type": "markdown",
   "id": "f9fbb578",
   "metadata": {
    "cq.autogen": "MultiControlX.example_instances.md"
   },
   "source": [
    "### Example Instances"
   ]
  },
  {
   "cell_type": "code",
   "execution_count": null,
   "id": "050b0f8d",
   "metadata": {
    "cq.autogen": "MultiControlX.ccpauli"
   },
   "outputs": [],
   "source": [
    "ccpauli = MultiControlX(cvs=(1, 0, 1, 0, 1))"
   ]
  },
  {
   "cell_type": "markdown",
   "id": "ccf7ef61",
   "metadata": {
    "cq.autogen": "MultiControlX.graphical_signature.md"
   },
   "source": [
    "#### Graphical Signature"
   ]
  },
  {
   "cell_type": "code",
   "execution_count": null,
   "id": "4fb51559",
   "metadata": {
    "cq.autogen": "MultiControlX.graphical_signature.py"
   },
   "outputs": [],
   "source": [
    "from qualtran.drawing import show_bloqs\n",
    "show_bloqs([ccpauli],\n",
    "           ['`ccpauli`'])"
   ]
  },
  {
   "cell_type": "markdown",
   "id": "358ff8ae",
   "metadata": {
    "cq.autogen": "MultiControlX.call_graph.md"
   },
   "source": [
    "### Call Graph"
   ]
  },
  {
   "cell_type": "code",
   "execution_count": null,
   "id": "216d9bdf",
   "metadata": {
    "cq.autogen": "MultiControlX.call_graph.py"
   },
   "outputs": [],
   "source": [
    "from qualtran.resource_counting.generalizers import ignore_split_join\n",
    "ccpauli_g, ccpauli_sigma = ccpauli.call_graph(max_depth=1, generalizer=ignore_split_join)\n",
    "show_call_graph(ccpauli_g)\n",
    "show_counts_sigma(ccpauli_sigma)"
   ]
  }
 ],
 "metadata": {
  "kernelspec": {
   "display_name": "Python 3",
   "language": "python",
   "name": "python3"
  },
  "language_info": {
   "name": "python"
  }
 },
 "nbformat": 4,
 "nbformat_minor": 5
}
