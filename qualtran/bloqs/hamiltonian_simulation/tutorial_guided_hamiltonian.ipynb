{
 "cells": [
  {
   "cell_type": "markdown",
   "id": "0",
   "metadata": {},
   "source": [
    "# Guided (sparse) Hamiltonian Problem"
   ]
  },
  {
   "cell_type": "code",
   "execution_count": null,
   "id": "1",
   "metadata": {},
   "outputs": [],
   "source": [
    "from attrs import frozen\n",
    "import attrs\n",
    "from qualtran import Bloq, Signature, Register, QAny, CtrlSpec\n",
    "from qualtran.drawing import show_bloq, show_call_graph, show_counts_sigma\n",
    "from qualtran.symbolics import SymbolicInt, ceil, log2, ln, is_symbolic\n",
    "from qualtran.resource_counting import big_O\n",
    "from qualtran.resource_counting.generalizers import ignore_alloc_free, ignore_split_join, ignore_cliffords\n",
    "from qualtran.bloqs.block_encoding import BlockEncoding\n",
    "from qualtran.bloqs.reflections.reflection_using_prepare import ReflectionUsingPrepare\n",
    "from qualtran.bloqs.hamiltonian_simulation.guided_hamiltonian import GuidedHamiltonian\n",
    "from qualtran.resource_counting import CostKey, GateCounts, QECGatesCost"
   ]
  },
  {
   "cell_type": "code",
   "execution_count": null,
   "id": "2",
   "metadata": {},
   "outputs": [],
   "source": [
    "from typing import Optional\n",
    "\n",
    "@attrs.frozen\n",
    "class ArbitraryGate(Bloq):\n",
    "    \"\"\"Placeholder gate for costing\n",
    "\n",
    "    Footnote 18, page 29:\n",
    "        By “gate complexity”, we mean the total number of (arbitrary) 1- and 2-qubit gates\n",
    "        used by the quantum algorithm. These gates can be further represented using a\n",
    "        finite universal gate set with a logarithmic overhead.\n",
    "\n",
    "    References:\n",
    "        [Quartic quantum speedups for planted inference](https://arxiv.org/abs/2406.19378v1)\n",
    "        Section 4.4.2 for algorithm. Section 2.4 for definitions and notation.\n",
    "    \"\"\"\n",
    "\n",
    "    n_ctrls: SymbolicInt = 0\n",
    "\n",
    "    @property\n",
    "    def signature(self) -> 'Signature':\n",
    "        return Signature.build(q=1 + self.n_ctrls)\n",
    "\n",
    "    def my_static_costs(self, cost_key: 'CostKey'):\n",
    "        if isinstance(cost_key, QECGatesCost):\n",
    "            # placeholder cost: reduce controls to single bit, and use C-SU2 (say).\n",
    "            return GateCounts(rotation=1, and_bloq=self.n_ctrls)\n",
    "\n",
    "        return NotImplemented\n",
    "\n",
    "    def adjoint(self) -> 'Bloq':\n",
    "        return self\n",
    "\n",
    "    def get_ctrl_system(self, ctrl_spec: CtrlSpec):\n",
    "        ctrl_bloq = attrs.evolve(self, n_ctrls=self.n_ctrls + ctrl_spec.num_qubits)\n",
    "\n",
    "        return ctrl_bloq, NotImplemented\n",
    "\n",
    "\n",
    "def generalize_1_2_qubit_gates(b: Bloq) -> Optional[Bloq]:\n",
    "    from qualtran.bloqs.basic_gates import GlobalPhase, Identity\n",
    "    from qualtran.bloqs.bookkeeping import ArbitraryClifford\n",
    "    from qualtran.resource_counting.classify_bloqs import (\n",
    "        bloq_is_clifford,\n",
    "        bloq_is_rotation,\n",
    "        bloq_is_t_like,\n",
    "    )\n",
    "\n",
    "    if bloq_is_t_like(b) or bloq_is_clifford(b) or bloq_is_rotation(b):\n",
    "        return ArbitraryGate()\n",
    "\n",
    "    if isinstance(b, ArbitraryClifford):\n",
    "        return ArbitraryGate()\n",
    "\n",
    "    if isinstance(b, (GlobalPhase, Identity)):\n",
    "        return None\n",
    "\n",
    "    return b\n"
   ]
  },
  {
   "cell_type": "markdown",
   "id": "3",
   "metadata": {},
   "source": [
    "## `GuidedHamiltonian`\n",
    "Solve the guided (sparse) hamiltonian problem.\n",
    "\n",
    "Definition 4.8 (modified with sparsity generalized to any):\n",
    "In the Guided Hamiltonian problem we are given the following as input:\n",
    "\n",
    "1. A Hamiltonian $H$ with $\\|H\\|_\\max \\le 1$, specified via a block-encoding.\n",
    "2. A unitary program that takes $|0^N\\rangle|0^A\\rangle$ and prepares $|\\Psi\\rangle|0^A\\rangle$.\n",
    "3. Parameters $\\lambda \\in [-\\Lambda, \\Lambda]$, $\\alpha \\in (0, 1)$, $\\gamma \\in (0, 1]$.\n",
    "\n",
    "and we should output\n",
    "\n",
    "- YES if $\\| \\Pi_{\\ge \\lambda} (H) |\\Psi\\rangle \\| \\ge \\gamma$\n",
    "- NO if $\\|H\\| \\le (1 - \\alpha) \\lambda$\n",
    "\n",
    "Note that the above drops the sparse requirement, and accepts any\n",
    "$(\\alpha_H, \\cdot, \\cdot)$-block-encoding of $H$.\n",
    "In the sparse Hamiltonian case, $\\alpha_H = s$ (where $s$ is the sparsity).\n",
    "\n",
    "Algorithm (Theorem 4.9):\n",
    "    This uses phase estimation on the block-encoding of $e^{iHt}$, and then uses\n",
    "    amplitude amplification to increase the success probability to $1 - o(1)$.\n",
    "\n",
    "We instead directly do phase-estimation on the qubitized (Szegedy) walk operator for $H$.\n",
    "\n",
    "#### Parameters\n",
    " - `hamiltonian`: the block-encoding of $H$\n",
    " - `guiding_state`: the unitary that prepares $|\\Psi\\rangle$\n",
    " - `lambd`: parameter $\\lambda$\n",
    " - `alpha`: parameter $\\alpha$\n",
    " - `gamma`: parameter $\\gamma$"
   ]
  },
  {
   "cell_type": "markdown",
   "id": "4",
   "metadata": {},
   "source": [
    "# Computing Query Costs with Qualtran\n",
    "\n",
    "We will first create black-boxes for a Hamiltonian and a guiding state preparation, that can be passed to the `GuidedHamiltonian` bloq to count number of queries and gates."
   ]
  },
  {
   "cell_type": "markdown",
   "id": "5",
   "metadata": {},
   "source": [
    "## Building black-box oracles"
   ]
  },
  {
   "cell_type": "markdown",
   "id": "6",
   "metadata": {},
   "source": [
    "### Graph oracles for the Hamiltonian\n",
    "We first build the oracles $O_F$ and $O_H$, and use them to block-encode a sparse matrix."
   ]
  },
  {
   "cell_type": "code",
   "execution_count": null,
   "id": "7",
   "metadata": {},
   "outputs": [],
   "source": [
    "@frozen\n",
    "class oracle_O_H(Bloq):\n",
    "    \"\"\"given (i, j), output H_{i, j}\"\"\"\n",
    "    N: SymbolicInt\n",
    "    entry_bits: SymbolicInt\n",
    "\n",
    "    @property\n",
    "    def signature(self):\n",
    "        return Signature.build(i=self.N, j=self.N, entry=self.entry_bits)\n",
    "\n",
    "    def adjoint(self):\n",
    "        return self\n",
    "\n",
    "@frozen\n",
    "class oracle_O_F(Bloq):\n",
    "    \"\"\"Given (i, k), output (i, f(i, k)) s.t. f(i, k) is the k-th non zero entry in row i\"\"\"\n",
    "    N: SymbolicInt\n",
    "    reverse: bool = False\n",
    "\n",
    "    @property\n",
    "    def signature(self):\n",
    "        return Signature.build(i=self.N, k=self.N)\n",
    "\n",
    "    def adjoint(self):\n",
    "        return oracle_O_F(self.N, reverse=not self.reverse)\n",
    "\n",
    "\n",
    "@frozen\n",
    "class EncodeSparseHamiltonian(BlockEncoding):\n",
    "    \"\"\"(s, N+1, 0)-block-encoding of s-sparse NxN matrix H\"\"\"\n",
    "    N: SymbolicInt\n",
    "    s: SymbolicInt # sparsity\n",
    "    O_F: oracle_O_F\n",
    "    O_H: oracle_O_H\n",
    "\n",
    "    @property\n",
    "    def signature(self) -> Signature:\n",
    "        return Signature.build_from_dtypes(\n",
    "            system=QAny(self.system_bitsize),\n",
    "            ancilla=QAny(self.ancilla_bitsize),\n",
    "        )\n",
    "\n",
    "    @property\n",
    "    def system_bitsize(self):\n",
    "        return self.N\n",
    "\n",
    "    @property\n",
    "    def ancilla_bitsize(self):\n",
    "        return self.N + 1\n",
    "\n",
    "    @property\n",
    "    def resource_bitsize(self):\n",
    "        return 0\n",
    "\n",
    "    @property\n",
    "    def alpha(self):\n",
    "        return self.s\n",
    "\n",
    "    @property\n",
    "    def epsilon(self):\n",
    "        return 0\n",
    "\n",
    "    @property\n",
    "    def signal_state(self):\n",
    "        from qualtran.bloqs.reflections.prepare_identity import PrepareIdentity\n",
    "        from qualtran.bloqs.state_preparation.black_box_prepare import BlackBoxPrepare\n",
    "\n",
    "        return BlackBoxPrepare(PrepareIdentity.from_bitsizes([self.ancilla_bitsize]))\n",
    "\n",
    "    def build_call_graph(self, ssa):\n",
    "        \"\"\"\n",
    "        References:\n",
    "            [Lecture Notes on Quantum Algorithms for Scientific Computation](https://arxiv.org/abs/2201.08309). Lin Lin (2022). Ch. 6.5.\n",
    "        \"\"\"\n",
    "        log_s = ceil(log2(self.s))\n",
    "        return {(self.O_F, 2), (self.O_H, 2), (ArbitraryGate(), 2*log_s)}"
   ]
  },
  {
   "cell_type": "markdown",
   "id": "8",
   "metadata": {},
   "source": [
    "### State-preparation Oracle for the guiding state\n",
    "\n",
    "Point 2.  Quantum circuit that uses $G$ gates and maps $|0^N\\rangle|0^A\\rangle$ to $|\\Psi\\rangle|0^A\\rangle$"
   ]
  },
  {
   "cell_type": "code",
   "execution_count": null,
   "id": "9",
   "metadata": {},
   "outputs": [],
   "source": [
    "@frozen\n",
    "class GuidingState(Bloq):\n",
    "    \"\"\"Point 2. Quantum circuit that uses G gates and maps |0^N>|0^A> to |\\Psi>|0^A>\"\"\"\n",
    "    N: SymbolicInt\n",
    "    A: SymbolicInt\n",
    "    G: SymbolicInt\n",
    "\n",
    "    @property\n",
    "    def signature(self) -> Bloq:\n",
    "        return Signature.build(selection=self.N, junk=self.A)\n",
    "\n",
    "    def build_call_graph(self, ssa):\n",
    "        return {(ArbitraryGate(), self.G)}\n",
    "\n",
    "    @property\n",
    "    def selection_bitsize(self):\n",
    "        return self.N\n",
    "    @property\n",
    "    def junk_bitsize(self):\n",
    "        return self.A\n",
    "    @property\n",
    "    def selection_registers(self):\n",
    "        return (Register('selection', QAny(self.N)),)\n",
    "    @property\n",
    "    def junk_registers(self):\n",
    "        return (Register('junk', QAny(self.A)),)"
   ]
  },
  {
   "cell_type": "markdown",
   "id": "10",
   "metadata": {},
   "source": [
    "## An example invocation\n",
    "With these oracles in place, we can now invoke the `GuidedHamiltonian` algorithm."
   ]
  },
  {
   "cell_type": "code",
   "execution_count": null,
   "id": "11",
   "metadata": {},
   "outputs": [],
   "source": [
    "import sympy\n",
    "\n",
    "def example_bloq() -> GuidedHamiltonian:\n",
    "    N, A, G, s = sympy.symbols(\"N A G s\", positive=True, integer=True)\n",
    "    lambd, alpha, gamma = sympy.symbols(r\"\\lambda \\alpha \\gamma\", positive=True, real=True)\n",
    "\n",
    "    O_F = oracle_O_F(N)\n",
    "    O_H = oracle_O_H(N, 10)\n",
    "    be_H = EncodeSparseHamiltonian(N, s, O_F, O_H)\n",
    "    psi = GuidingState(N, A, G)\n",
    "\n",
    "    return GuidedHamiltonian(be_H, psi, lambd, alpha, gamma)"
   ]
  },
  {
   "cell_type": "code",
   "execution_count": null,
   "id": "12",
   "metadata": {},
   "outputs": [],
   "source": [
    "bloq = example_bloq()\n",
    "show_bloq(bloq)"
   ]
  },
  {
   "cell_type": "markdown",
   "id": "13",
   "metadata": {},
   "source": [
    "## Query and gate costs\n",
    "We will count queries to the above oracles, and arbitrary 1/2-qubit gates as described in the paper."
   ]
  },
  {
   "cell_type": "code",
   "execution_count": null,
   "id": "14",
   "metadata": {},
   "outputs": [],
   "source": [
    "g, sigma = bloq.call_graph(\n",
    "    generalizer=[ignore_alloc_free, ignore_split_join, generalize_1_2_qubit_gates]\n",
    ")"
   ]
  },
  {
   "cell_type": "code",
   "execution_count": null,
   "id": "15",
   "metadata": {},
   "outputs": [],
   "source": [
    "show_counts_sigma(sigma)"
   ]
  },
  {
   "cell_type": "markdown",
   "id": "16",
   "metadata": {},
   "source": [
    "### Cost from the paper\n",
    "Theorem 4.9 of the paper states that the algorithm uses:\n",
    "1. $Q = \\widetilde{O}(s / (\\gamma \\alpha \\lambda))$ queries to oracles for H\n",
    "2. $\\widetilde{O}(G/\\gamma + \\text{polylog}(Q)/\\gamma + QN)$ gates\n",
    "\n",
    "Let us simplify the symbolic costs obtained above and verify if they match."
   ]
  },
  {
   "cell_type": "code",
   "execution_count": null,
   "id": "17",
   "metadata": {},
   "outputs": [],
   "source": [
    "def simplify_2_pow_log(my_expr, inner_term):\n",
    "    # replace `2**(ceil(log2(T)))` upper bound `2T`.\n",
    "    temp = sympy.symbols(f\"_temp\", positive=True, integer=True)\n",
    "    my_expr = my_expr.replace(ceil(log2(inner_term)), temp)\n",
    "    my_expr = my_expr.replace(2**temp, 2 * inner_term)\n",
    "    my_expr = my_expr.replace(temp, ceil(log2(inner_term)))\n",
    "    return my_expr\n",
    "\n",
    "def simplify_expression(expr):\n",
    "    if not is_symbolic(expr): return expr\n",
    "    N, A, G, s = sympy.symbols(\"N A G s\", positive=True, integer=True)\n",
    "    lambd, alpha, gamma = sympy.symbols(r\"\\lambda \\alpha \\gamma\", positive=True, real=True)\n",
    "\n",
    "    expr = simplify_2_pow_log(expr, (s * ln(1/gamma**3)) / (alpha * lambd))\n",
    "    expr = sympy.simplify(expr)\n",
    "    return expr\n",
    "\n",
    "sigma_simpl = {k: simplify_expression(v) for k, v in sigma.items()}\n",
    "show_counts_sigma(sigma_simpl)"
   ]
  },
  {
   "cell_type": "markdown",
   "id": "18",
   "metadata": {},
   "source": [
    "### Cost of Phase Estimation\n",
    "\n",
    "For simplicity, we can also look at the cost of a single phase estimation call (which is repeated $1/\\gamma$ times to obtain the above algorithm)."
   ]
  },
  {
   "cell_type": "code",
   "execution_count": null,
   "id": "19",
   "metadata": {},
   "outputs": [],
   "source": [
    "g_pe, sigma_pe = bloq.qpe_bloq.call_graph(\n",
    "    generalizer=[ignore_alloc_free, ignore_split_join, generalize_1_2_qubit_gates]\n",
    ")\n",
    "sigma_pe = {k: simplify_expression(v) for k, v in sigma_pe.items()}\n",
    "show_counts_sigma(sigma_pe)"
   ]
  }
 ],
 "metadata": {
  "kernelspec": {
   "display_name": "Python 3 (ipykernel)",
   "language": "python",
   "name": "python3"
  },
  "language_info": {
   "codemirror_mode": {
    "name": "ipython",
    "version": 3
   },
   "file_extension": ".py",
   "mimetype": "text/x-python",
   "name": "python",
   "nbconvert_exporter": "python",
   "pygments_lexer": "ipython3",
   "version": "3.11.9"
  }
 },
 "nbformat": 4,
 "nbformat_minor": 5
}
