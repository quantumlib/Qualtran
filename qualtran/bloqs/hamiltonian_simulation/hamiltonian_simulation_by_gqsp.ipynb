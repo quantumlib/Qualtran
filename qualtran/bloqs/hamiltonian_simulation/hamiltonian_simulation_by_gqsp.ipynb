{
 "cells": [
  {
   "cell_type": "markdown",
   "id": "337f7001",
   "metadata": {
    "cq.autogen": "title_cell"
   },
   "source": [
    "# Hamiltonian Simulation by Generalized Quantum Signal Processing"
   ]
  },
  {
   "cell_type": "code",
   "execution_count": null,
   "id": "19a28d60",
   "metadata": {
    "cq.autogen": "top_imports"
   },
   "outputs": [],
   "source": [
    "from qualtran import Bloq, CompositeBloq, BloqBuilder, Signature, Register\n",
    "from qualtran import QBit, QInt, QUInt, QAny\n",
    "from qualtran.drawing import show_bloq, show_call_graph, show_counts_sigma\n",
    "from typing import *\n",
    "import numpy as np\n",
    "import sympy\n",
    "import cirq"
   ]
  },
  {
   "cell_type": "markdown",
   "id": "c4a2b917",
   "metadata": {
    "cq.autogen": "HamiltonianSimulationByGQSP.bloq_doc.md"
   },
   "source": [
    "## `HamiltonianSimulationByGQSP`\n",
    "Hamiltonian simulation using Generalized QSP given a qubitized quantum walk operator.\n",
    "\n",
    "Given the Szegedy Quantum Walk Operator for a Hamiltonian $H$ constructed from SELECT and PREPARE oracles,\n",
    "one can construct a block-encoding of $e^{-iHt}$ using GQSP (Corollary 8).\n",
    "\n",
    "### Recap: Qubitization Walk Operator\n",
    "\n",
    "For a Hamiltonian $H = \\sum_j \\alpha_j U_j$ where $U_j$ are unitaries and $\\alpha_j \\ge 0$,\n",
    "we are given the SELECT and PREPARE oracles:\n",
    "$$ \\text{SELECT} = \\sum_j |j\\rangle\\langle j| \\otimes U_j $$\n",
    "$$ \\text{PREPARE} |0\\rangle = \\sum_j \\frac{\\sqrt{\\alpha_j}}{\\|\\alpha\\|_1} |j\\rangle $$\n",
    "\n",
    "We can then implement the [QubitizationWalkOperator](../qubitization_walk_operator.ipynb) that encodes the spectrum of $H$ in the eigenphases of the walk operator $W$.\n",
    "\n",
    "### Approximating the function $e^{i\\theta} \\mapsto e^{it\\cos\\theta}$\n",
    "\n",
    "We can use the [Jacobi-Anger expansion](https://en.wikipedia.org/wiki/Jacobi%E2%80%93Anger_expansion) to obtain low-degree polynomial approximations for the $\\cos$ function:\n",
    "\n",
    "$$\n",
    "    e^{it\\cos\\theta} = \\sum_{n = -\\infty}^{\\infty} i^n J_n(t) (e^{i\\theta})^n\n",
    "$$\n",
    "where $J_n$ is the $n$-th [Bessel function of the first kind](https://en.wikipedia.org/wiki/Bessel_function#Bessel_functions_of_the_first_kind).\n",
    "\n",
    "If we cut-off the above to terms upto degree $d$, we get\n",
    "\n",
    "$$\n",
    "    P[t](z) = \\sum_{n = -d}^d i^n J_n(t) z^n\n",
    "$$\n",
    "\n",
    "Polynomial approximations of the above are provided in the [`qualtran.linalg.jacobi_anger_approximations`](../../linalg/jacobi_anger_approximations.py) module.\n",
    "\n",
    "### Simulation: Block-encoding $e^{-iHt}$\n",
    "\n",
    "As the eigenphases of the walk operator above are $e^{-i\\arccos(E_k / \\|\\alpha\\|_1)}$,\n",
    "we can use the GQSP polynomial with $P = P[-\\|\\alpha\\|_1 t]$ to obtain $P(U) = e^{-iHt}$.\n",
    "The obtained GQSP operator $G$ can then be used with two calls to the PREPARE oracle to simulate the hamiltonian:\n",
    "\n",
    "$$\n",
    "    (I \\otimes \\text{PREPARE}^\\dagger \\otimes I) G (I \\otimes \\text{PREPARE} \\otimes I) |0\\rangle|0\\rangle|\\psi\\rangle = |0\\rangle|0\\rangle e^{-iHt}|\\psi\\rangle\n",
    "$$\n",
    "\n",
    "This therefore block-encodes $e^{-iHt}$ in the block where the signal qubit and selection registers are all $|0\\rangle$.\n",
    "\n",
    "#### References\n",
    " - [Generalized Quantum Signal Processing](https://arxiv.org/abs/2308.01501). Motlagh and Wiebe. (2023). Theorem 7, Corollary 8. \n",
    "\n",
    "#### Parameters\n",
    " - `walk_operator`: qubitization walk operator of $H$ constructed from SELECT and PREPARE oracles.\n",
    " - `t`: time to simulate the Hamiltonian, i.e. $e^{-iHt}$\n",
    " - `precision`: the precision $\\epsilon$ to approximate $e^{it\\cos\\theta}$ to a polynomial.\n"
   ]
  },
  {
   "cell_type": "code",
   "execution_count": null,
   "id": "ddf29316",
   "metadata": {
    "cq.autogen": "HamiltonianSimulationByGQSP.bloq_doc.py"
   },
   "outputs": [],
   "source": [
    "from qualtran.bloqs.hamiltonian_simulation.hamiltonian_simulation_by_gqsp import HamiltonianSimulationByGQSP"
   ]
  },
  {
   "cell_type": "markdown",
   "id": "63c77206",
   "metadata": {
    "cq.autogen": "HamiltonianSimulationByGQSP.example_instances.md"
   },
   "source": [
    "### Example Instances"
   ]
  },
  {
   "cell_type": "code",
   "execution_count": null,
   "id": "7757dd77",
   "metadata": {
    "cq.autogen": "HamiltonianSimulationByGQSP.hubbard_time_evolution_by_gqsp"
   },
   "outputs": [],
   "source": [
    "from qualtran.bloqs.hubbard_model import get_walk_operator_for_hubbard_model\n",
    "\n",
    "walk_op = get_walk_operator_for_hubbard_model(2, 2, 1, 1)\n",
    "hubbard_time_evolution_by_gqsp = HamiltonianSimulationByGQSP(walk_op, t=5, precision=1e-7)"
   ]
  },
  {
   "cell_type": "code",
   "execution_count": null,
   "id": "11baa846",
   "metadata": {
    "cq.autogen": "HamiltonianSimulationByGQSP.symbolic_hamsim_by_gqsp"
   },
   "outputs": [],
   "source": [
    "import sympy\n",
    "\n",
    "from qualtran.bloqs.hubbard_model import get_walk_operator_for_hubbard_model\n",
    "\n",
    "walk_op = get_walk_operator_for_hubbard_model(2, 2, 1, 1)\n",
    "\n",
    "t, inv_eps = sympy.symbols(\"t N\")\n",
    "symbolic_hamsim_by_gqsp = HamiltonianSimulationByGQSP(walk_op, t=t, precision=1 / inv_eps)"
   ]
  },
  {
   "cell_type": "markdown",
   "id": "a6e29295",
   "metadata": {
    "cq.autogen": "HamiltonianSimulationByGQSP.graphical_signature.md"
   },
   "source": [
    "#### Graphical Signature"
   ]
  },
  {
   "cell_type": "code",
   "execution_count": null,
   "id": "68558d61",
   "metadata": {
    "cq.autogen": "HamiltonianSimulationByGQSP.graphical_signature.py"
   },
   "outputs": [],
   "source": [
    "from qualtran.drawing import show_bloqs\n",
    "show_bloqs([hubbard_time_evolution_by_gqsp, symbolic_hamsim_by_gqsp],\n",
    "           ['`hubbard_time_evolution_by_gqsp`', '`symbolic_hamsim_by_gqsp`'])"
   ]
  },
  {
   "cell_type": "markdown",
   "id": "4e6e9fc9",
   "metadata": {
    "cq.autogen": "HamiltonianSimulationByGQSP.call_graph.md"
   },
   "source": [
    "### Call Graph"
   ]
  },
  {
   "cell_type": "code",
   "execution_count": null,
   "id": "22c2e259",
   "metadata": {
    "cq.autogen": "HamiltonianSimulationByGQSP.call_graph.py"
   },
   "outputs": [],
   "source": [
    "from qualtran.resource_counting.generalizers import ignore_split_join\n",
    "hubbard_time_evolution_by_gqsp_g, hubbard_time_evolution_by_gqsp_sigma = hubbard_time_evolution_by_gqsp.call_graph(max_depth=1, generalizer=ignore_split_join)\n",
    "show_call_graph(hubbard_time_evolution_by_gqsp_g)\n",
    "show_counts_sigma(hubbard_time_evolution_by_gqsp_sigma)"
   ]
  },
  {
   "cell_type": "code",
   "execution_count": null,
   "id": "7045d204b9fcd6f1",
   "metadata": {},
   "outputs": [],
   "source": [
    "from qualtran.resource_counting.generalizers import generalize_rotation_angle, ignore_split_join, ignore_alloc_free\n",
    "_, symbolic_hamsim_by_gqsp_sigma = symbolic_hamsim_by_gqsp.call_graph(max_depth=2, generalizer=[ignore_split_join, ignore_alloc_free, generalize_rotation_angle])\n",
    "show_counts_sigma(symbolic_hamsim_by_gqsp_sigma)"
   ]
  }
 ],
 "metadata": {
  "kernelspec": {
   "display_name": "Python 3 (ipykernel)",
   "language": "python",
   "name": "python3"
  },
  "language_info": {
   "codemirror_mode": {
    "name": "ipython",
    "version": 3
   },
   "file_extension": ".py",
   "mimetype": "text/x-python",
   "name": "python",
   "nbconvert_exporter": "python",
   "pygments_lexer": "ipython3",
   "version": "3.11.8"
  }
 },
 "nbformat": 4,
 "nbformat_minor": 5
}
