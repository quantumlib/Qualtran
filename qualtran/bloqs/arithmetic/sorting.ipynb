{
 "cells": [
  {
   "cell_type": "markdown",
   "id": "61ac4a56",
   "metadata": {
    "cq.autogen": "title_cell"
   },
   "source": [
    "# Sorting"
   ]
  },
  {
   "cell_type": "code",
   "execution_count": null,
   "id": "e24cc6e0",
   "metadata": {
    "cq.autogen": "top_imports"
   },
   "outputs": [],
   "source": [
    "from qualtran import Bloq, CompositeBloq, BloqBuilder, Signature, Register\n",
    "from qualtran import QBit, QInt, QUInt, QAny\n",
    "from qualtran.drawing import show_bloq, show_call_graph, show_counts_sigma\n",
    "from typing import *\n",
    "import numpy as np\n",
    "import sympy\n",
    "import cirq"
   ]
  },
  {
   "cell_type": "markdown",
   "id": "4c9967bd",
   "metadata": {
    "cq.autogen": "Comparator.bloq_doc.md"
   },
   "source": [
    "## `Comparator`\n",
    "Compare and potentially swaps two n-bit numbers.\n",
    "\n",
    "Implements $|a\\rangle|b\\rangle \\mapsto |\\min(a,b)\\rangle|\\max(a,b)\\rangle|a>b\\rangle$,\n",
    "\n",
    "where $a$ and $b$ are n-qubit quantum registers. On output a and b are\n",
    "swapped if a > b. Forms the base primitive for sorting.\n",
    "\n",
    "#### Parameters\n",
    " - `bitsize`: value of $n$ (i.e. the inputs are $n$-bit numbers). \n",
    "\n",
    "#### Registers\n",
    " - `a`: A n-bit-sized input register (register a above).\n",
    " - `b`: A n-bit-sized input register (register b above).\n",
    " - `out`: A single bit output register which will store the result of the comparator. \n",
    "\n",
    "#### References\n",
    " - [Improved techniques for preparing eigenstates of fermionic Hamiltonians](https://www.nature.com/articles/s41534-018-0071-5). Fig. 1. in main text.\n"
   ]
  },
  {
   "cell_type": "code",
   "execution_count": null,
   "id": "34f6d201",
   "metadata": {
    "cq.autogen": "Comparator.bloq_doc.py"
   },
   "outputs": [],
   "source": [
    "from qualtran.bloqs.arithmetic import Comparator"
   ]
  },
  {
   "cell_type": "markdown",
   "id": "9422999e",
   "metadata": {
    "cq.autogen": "Comparator.example_instances.md"
   },
   "source": [
    "### Example Instances"
   ]
  },
  {
   "cell_type": "code",
   "execution_count": null,
   "id": "e470acb6",
   "metadata": {
    "cq.autogen": "Comparator.comparator"
   },
   "outputs": [],
   "source": [
    "comparator = Comparator(7)"
   ]
  },
  {
   "cell_type": "code",
   "execution_count": null,
   "id": "6c7e9aba",
   "metadata": {
    "cq.autogen": "Comparator.comparator_symb"
   },
   "outputs": [],
   "source": [
    "n = sympy.Symbol('n')\n",
    "comparator_symb = Comparator(n)"
   ]
  },
  {
   "cell_type": "markdown",
   "id": "b657ce59",
   "metadata": {
    "cq.autogen": "Comparator.graphical_signature.md"
   },
   "source": [
    "#### Graphical Signature"
   ]
  },
  {
   "cell_type": "code",
   "execution_count": null,
   "id": "23f09055",
   "metadata": {
    "cq.autogen": "Comparator.graphical_signature.py"
   },
   "outputs": [],
   "source": [
    "from qualtran.drawing import show_bloqs\n",
    "show_bloqs([comparator, comparator_symb],\n",
    "           ['`comparator`', '`comparator_symb`'])"
   ]
  },
  {
   "cell_type": "markdown",
   "id": "c44cf34f",
   "metadata": {
    "cq.autogen": "Comparator.call_graph.md"
   },
   "source": [
    "### Call Graph"
   ]
  },
  {
   "cell_type": "code",
   "execution_count": null,
   "id": "321184e6",
   "metadata": {
    "cq.autogen": "Comparator.call_graph.py"
   },
   "outputs": [],
   "source": [
    "from qualtran.resource_counting.generalizers import ignore_split_join\n",
    "comparator_g, comparator_sigma = comparator.call_graph(max_depth=1, generalizer=ignore_split_join)\n",
    "show_call_graph(comparator_g)\n",
    "show_counts_sigma(comparator_sigma)"
   ]
  },
  {
   "cell_type": "markdown",
   "id": "1016b6f1",
   "metadata": {
    "cq.autogen": "BitonicSort.bloq_doc.md"
   },
   "source": [
    "## `BitonicSort`\n",
    "Sort k n-bit integers in-place using a Bitonic sorting network.\n",
    "\n",
    "For a given input list $x_1, x_2, \\ldots, x_k$, applies the transform\n",
    "\n",
    "$$\n",
    "    |x_1, x_2, \\ldots, x_k\\rangle \\mapsto |y_1, y_2, \\ldots, y_k\\rangle|\\mathsf{junk}\\rangle\n",
    "$$\n",
    "\n",
    "where $y_1, y_2, \\ldots, y_k = \\mathrm{sorted}(x_1, x_2, \\ldots, x_k)$, and the junk register\n",
    "stores the result of comparisons done during the sorting. Note that the `junk` register will\n",
    "be entangled with the input list register.\n",
    "\n",
    "Currently only supports $k$ being a power of two (#1090).\n",
    "\n",
    "The bitonic sorting network requires $\\frac{k}{2} \\frac{\\log{k} (1+\\log{k})}{2}$ total comparisons,\n",
    "and has depth $\\frac{\\log{k} (1+\\log{k})}{2}$, when $k$ is a power of 2. Each comparison generates\n",
    "one ancilla qubit that stores the result of the comparison, so the total size of `junk` register\n",
    "equals the number of comparisons.\n",
    "\n",
    "#### Parameters\n",
    " - `k`: Number of integers to sort.\n",
    " - `bitsize`: number of bits $n$ of each input number. \n",
    "\n",
    "#### Registers\n",
    " - `xs`: List of k integers we want to sort.\n",
    " - `junk`: the generated ancilla qubits of each comparison in the sorting network. \n",
    "\n",
    "#### References\n",
    " - [Improved techniques for preparing eigenstates of fermionic Hamiltonians](https://www.nature.com/articles/s41534-018-0071-5). Supporting Information Sec. II.\n"
   ]
  },
  {
   "cell_type": "code",
   "execution_count": null,
   "id": "54d5f819",
   "metadata": {
    "cq.autogen": "BitonicSort.bloq_doc.py"
   },
   "outputs": [],
   "source": [
    "from qualtran.bloqs.arithmetic import BitonicSort"
   ]
  },
  {
   "cell_type": "markdown",
   "id": "4c5c4e4f",
   "metadata": {
    "cq.autogen": "BitonicSort.example_instances.md"
   },
   "source": [
    "### Example Instances"
   ]
  },
  {
   "cell_type": "code",
   "execution_count": null,
   "id": "73dd6562",
   "metadata": {
    "cq.autogen": "BitonicSort.bitonic_sort"
   },
   "outputs": [],
   "source": [
    "bitonic_sort = BitonicSort(8, 4)"
   ]
  },
  {
   "cell_type": "code",
   "execution_count": null,
   "id": "b3aa8a0c",
   "metadata": {
    "cq.autogen": "BitonicSort.bitonic_sort_symb"
   },
   "outputs": [],
   "source": [
    "n = sympy.Symbol('n')\n",
    "bitonic_sort_symb = BitonicSort(4, n)"
   ]
  },
  {
   "cell_type": "markdown",
   "id": "b225e7c2",
   "metadata": {
    "cq.autogen": "BitonicSort.graphical_signature.md"
   },
   "source": [
    "#### Graphical Signature"
   ]
  },
  {
   "cell_type": "code",
   "execution_count": null,
   "id": "9e529594",
   "metadata": {
    "cq.autogen": "BitonicSort.graphical_signature.py"
   },
   "outputs": [],
   "source": [
    "from qualtran.drawing import show_bloqs\n",
    "show_bloqs([bitonic_sort, bitonic_sort_symb],\n",
    "           ['`bitonic_sort`', '`bitonic_sort_symb`'])"
   ]
  },
  {
   "cell_type": "markdown",
   "id": "73410cdf",
   "metadata": {
    "cq.autogen": "BitonicSort.call_graph.md"
   },
   "source": [
    "### Call Graph"
   ]
  },
  {
   "cell_type": "code",
   "execution_count": null,
   "id": "b24c142f",
   "metadata": {
    "cq.autogen": "BitonicSort.call_graph.py"
   },
   "outputs": [],
   "source": [
    "from qualtran.resource_counting.generalizers import ignore_split_join\n",
    "bitonic_sort_g, bitonic_sort_sigma = bitonic_sort.call_graph(max_depth=1, generalizer=ignore_split_join)\n",
    "show_call_graph(bitonic_sort_g)\n",
    "show_counts_sigma(bitonic_sort_sigma)"
   ]
  },
  {
   "cell_type": "markdown",
   "id": "8d1d261a",
   "metadata": {
    "cq.autogen": "ParallelComparators.bloq_doc.md"
   },
   "source": [
    "## `ParallelComparators`\n",
    "Given k n-bit numbers, for each pair that is `offset` apart, compare and swap if needed to order them.\n",
    "\n",
    "For each block of `2 * offset` numbers, apply a `Comparator` between each pair that is `offset` apart.\n",
    "For an offset of $\\delta$, this requires\n",
    "\n",
    "$$\n",
    "    \\delta \\left\\lfloor \\frac{k}{2\\delta} \\right\\rfloor\n",
    "    + \\max((k\\mod 2\\delta) - \\delta, 0)\n",
    "$$\n",
    "\n",
    "totals comparisons. The above expression is at most $k / 2$. Each comparison generates one ancilla qubit\n",
    "which stores the result of comparsion, and these qubits are aggregated into the `junk` register.\n",
    "\n",
    "This is used by `BitonicMerge` to apply parallel merges with offsets 1, 2, 4 and so on.\n",
    "\n",
    "#### Parameters\n",
    " - `k`: size of the input list.\n",
    " - `offset`: compare numbers whose indices are offset apart.\n",
    " - `bitsize`: value of $n$ (i.e. the inputs are $n$-bit numbers). \n",
    "\n",
    "#### Registers\n",
    " - `xs`: input list of numbers.\n",
    " - `junk`: ancilla generated by comparators.\n"
   ]
  },
  {
   "cell_type": "code",
   "execution_count": null,
   "id": "df1602d4",
   "metadata": {
    "cq.autogen": "ParallelComparators.bloq_doc.py"
   },
   "outputs": [],
   "source": [
    "from qualtran.bloqs.arithmetic.sorting import ParallelComparators"
   ]
  },
  {
   "cell_type": "markdown",
   "id": "5211e222",
   "metadata": {
    "cq.autogen": "ParallelComparators.example_instances.md"
   },
   "source": [
    "### Example Instances"
   ]
  },
  {
   "cell_type": "code",
   "execution_count": null,
   "id": "1e021f19",
   "metadata": {
    "cq.autogen": "ParallelComparators.parallel_compare"
   },
   "outputs": [],
   "source": [
    "parallel_compare = ParallelComparators(7, 2, bitsize=3)"
   ]
  },
  {
   "cell_type": "markdown",
   "id": "e4802c0b",
   "metadata": {
    "cq.autogen": "ParallelComparators.graphical_signature.md"
   },
   "source": [
    "#### Graphical Signature"
   ]
  },
  {
   "cell_type": "code",
   "execution_count": null,
   "id": "d34c1b77",
   "metadata": {
    "cq.autogen": "ParallelComparators.graphical_signature.py"
   },
   "outputs": [],
   "source": [
    "from qualtran.drawing import show_bloqs\n",
    "show_bloqs([parallel_compare],\n",
    "           ['`parallel_compare`'])"
   ]
  },
  {
   "cell_type": "markdown",
   "id": "f4cbbbdf",
   "metadata": {
    "cq.autogen": "ParallelComparators.call_graph.md"
   },
   "source": [
    "### Call Graph"
   ]
  },
  {
   "cell_type": "code",
   "execution_count": null,
   "id": "d636d73e",
   "metadata": {
    "cq.autogen": "ParallelComparators.call_graph.py"
   },
   "outputs": [],
   "source": [
    "from qualtran.resource_counting.generalizers import ignore_split_join\n",
    "parallel_compare_g, parallel_compare_sigma = parallel_compare.call_graph(max_depth=1, generalizer=ignore_split_join)\n",
    "show_call_graph(parallel_compare_g)\n",
    "show_counts_sigma(parallel_compare_sigma)"
   ]
  },
  {
   "cell_type": "markdown",
   "id": "2e229256",
   "metadata": {
    "cq.autogen": "BitonicMerge.bloq_doc.md"
   },
   "source": [
    "## `BitonicMerge`\n",
    "Merge two sorted sequences of n-bit integers.\n",
    "\n",
    "Given two sorted lists of length `half_length`, merges them inplace into a single\n",
    "sorted list.\n",
    "\n",
    "Currently only supports `half_length` equal to a power of two (#1090).\n",
    "\n",
    "If each half has length $k$, then the merge network uses $k (1+\\log{k})$ comparisons\n",
    "when $k$ is a power of 2. Each comparison generates one ancilla qubit which stores\n",
    "the result of comparsion, and these qubits are aggregated into the `junk` register.\n",
    "\n",
    "#### Parameters\n",
    " - `half_length`: Number of integers in each half\n",
    " - `bitsize`: value of $n$ (i.e. the inputs are $n$-bit numbers). \n",
    "\n",
    "#### Registers\n",
    " - `xs`: first input list of size `half_length`\n",
    " - `ys`: second input list of size `half_length`\n",
    " - `result`: merged output list of size `2 * half_length`\n",
    " - `junk`: ancilla generated by comparators.\n"
   ]
  },
  {
   "cell_type": "code",
   "execution_count": null,
   "id": "aa03e68a",
   "metadata": {
    "cq.autogen": "BitonicMerge.bloq_doc.py"
   },
   "outputs": [],
   "source": [
    "from qualtran.bloqs.arithmetic.sorting import BitonicMerge"
   ]
  },
  {
   "cell_type": "markdown",
   "id": "846f4a20",
   "metadata": {
    "cq.autogen": "BitonicMerge.example_instances.md"
   },
   "source": [
    "### Example Instances"
   ]
  },
  {
   "cell_type": "code",
   "execution_count": null,
   "id": "a0f26859",
   "metadata": {
    "cq.autogen": "BitonicMerge.bitonic_merge"
   },
   "outputs": [],
   "source": [
    "bitonic_merge = BitonicMerge(4, 7)"
   ]
  },
  {
   "cell_type": "markdown",
   "id": "47260e54",
   "metadata": {
    "cq.autogen": "BitonicMerge.graphical_signature.md"
   },
   "source": [
    "#### Graphical Signature"
   ]
  },
  {
   "cell_type": "code",
   "execution_count": null,
   "id": "e68cafea",
   "metadata": {
    "cq.autogen": "BitonicMerge.graphical_signature.py"
   },
   "outputs": [],
   "source": [
    "from qualtran.drawing import show_bloqs\n",
    "show_bloqs([bitonic_merge],\n",
    "           ['`bitonic_merge`'])"
   ]
  },
  {
   "cell_type": "markdown",
   "id": "0fffc250",
   "metadata": {
    "cq.autogen": "BitonicMerge.call_graph.md"
   },
   "source": [
    "### Call Graph"
   ]
  },
  {
   "cell_type": "code",
   "execution_count": null,
   "id": "805e34b9",
   "metadata": {
    "cq.autogen": "BitonicMerge.call_graph.py"
   },
   "outputs": [],
   "source": [
    "from qualtran.resource_counting.generalizers import ignore_split_join\n",
    "bitonic_merge_g, bitonic_merge_sigma = bitonic_merge.call_graph(max_depth=1, generalizer=ignore_split_join)\n",
    "show_call_graph(bitonic_merge_g)\n",
    "show_counts_sigma(bitonic_merge_sigma)"
   ]
  }
 ],
 "metadata": {
  "kernelspec": {
   "display_name": "Python 3",
   "language": "python",
   "name": "python3"
  },
  "language_info": {
   "name": "python"
  }
 },
 "nbformat": 4,
 "nbformat_minor": 5
}
