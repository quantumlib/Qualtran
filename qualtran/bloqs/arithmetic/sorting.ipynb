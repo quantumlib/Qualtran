{
 "cells": [
  {
   "cell_type": "markdown",
   "id": "60a1531e",
   "metadata": {
    "cq.autogen": "title_cell"
   },
   "source": [
    "# Sorting"
   ]
  },
  {
   "cell_type": "code",
   "execution_count": null,
   "id": "cf61ba01",
   "metadata": {
    "cq.autogen": "top_imports"
   },
   "outputs": [],
   "source": [
    "from qualtran import Bloq, CompositeBloq, BloqBuilder, Signature, Register\n",
    "from qualtran.drawing import show_bloq, show_call_graph, show_counts_sigma\n",
    "from typing import *\n",
    "import numpy as np\n",
    "import sympy\n",
    "import cirq"
   ]
  },
  {
   "cell_type": "markdown",
   "id": "6a182ade",
   "metadata": {
    "cq.autogen": "Comparator.bloq_doc.md"
   },
   "source": [
    "## `Comparator`\n",
    "Compare and potentially swaps two n-bit numbers.\n",
    "\n",
    "Implements $U|a\\rangle|b\\rangle|0\\rangle \\rightarrow |\\min(a,b)\\rangle|\\max(a,b)\\rangle|a>b\\rangle$,\n",
    "\n",
    "where $a$ and $b$ are n-qubit quantum registers. On output a and b are\n",
    "swapped if a > b. Forms the base primitive for sorting.\n",
    "\n",
    "#### Parameters\n",
    " - `bitsize`: Number of bits used to represent each integer. \n",
    "\n",
    "#### Registers\n",
    " - `a`: A nbit-sized input register (register a above).\n",
    " - `b`: A nbit-sized input register (register b above).\n",
    " - `out`: A single bit output register which will store the result of the comparator. \n",
    "\n",
    "#### References\n",
    "[Improved techniques for preparing eigenstates of fermionic\n",
    "Hamiltonians](https://www.nature.com/articles/s41534-018-0071-5),\n",
    "Fig. 1. in main text.\n"
   ]
  },
  {
   "cell_type": "code",
   "execution_count": null,
   "id": "122a754a",
   "metadata": {
    "cq.autogen": "Comparator.bloq_doc.py"
   },
   "outputs": [],
   "source": [
    "from qualtran.bloqs.arithmetic.sorting import Comparator"
   ]
  },
  {
   "cell_type": "markdown",
   "id": "51747c6f",
   "metadata": {
    "cq.autogen": "Comparator.example_instances.md"
   },
   "source": [
    "### Example Instances"
   ]
  },
  {
   "cell_type": "code",
   "execution_count": null,
   "id": "f7c879d3",
   "metadata": {
    "cq.autogen": "Comparator.cmp_symb"
   },
   "outputs": [],
   "source": [
    "n = sympy.Symbol('n')\n",
    "cmp_symb = Comparator(bitsize=n)"
   ]
  },
  {
   "cell_type": "markdown",
   "id": "d50a5d05",
   "metadata": {
    "cq.autogen": "Comparator.graphical_signature.md"
   },
   "source": [
    "#### Graphical Signature"
   ]
  },
  {
   "cell_type": "code",
   "execution_count": null,
   "id": "fcc725a9",
   "metadata": {
    "cq.autogen": "Comparator.graphical_signature.py"
   },
   "outputs": [],
   "source": [
    "from qualtran.drawing import show_bloqs\n",
    "show_bloqs([cmp_symb],\n",
    "           ['`cmp_symb`'])"
   ]
  },
  {
   "cell_type": "markdown",
   "id": "e7f23fbf",
   "metadata": {
    "cq.autogen": "Comparator.call_graph.md"
   },
   "source": [
    "### Call Graph"
   ]
  },
  {
   "cell_type": "code",
   "execution_count": null,
   "id": "0108c0f3",
   "metadata": {
    "cq.autogen": "Comparator.call_graph.py"
   },
   "outputs": [],
   "source": [
    "cmp_symb_g, cmp_symb_sigma = cmp_symb.call_graph()\n",
    "show_call_graph(cmp_symb_g)\n",
    "show_counts_sigma(cmp_symb_sigma)"
   ]
  },
  {
   "cell_type": "markdown",
   "id": "8a69c8dd",
   "metadata": {
    "cq.autogen": "BitonicSort.bloq_doc.md"
   },
   "source": [
    "## `BitonicSort`\n",
    "Sort k n-bit numbers.\n",
    "\n",
    "TODO: actually implement the algorithm using comparitor. Hiding ancilla cost\n",
    "    for the moment. Issue #219\n",
    "\n",
    "#### Parameters\n",
    " - `bitsize`: Number of bits used to represent each integer.\n",
    " - `k`: Number of integers to sort. \n",
    "\n",
    "#### Registers\n",
    " - `input`: List of k integers we want to sort. \n",
    "\n",
    "#### References\n",
    "[Improved techniques for preparing eigenstates of fermionic\n",
    "Hamiltonians](https://www.nature.com/articles/s41534-018-0071-5),\n",
    "Supporting Information Sec. II.\n"
   ]
  },
  {
   "cell_type": "code",
   "execution_count": null,
   "id": "0f539993",
   "metadata": {
    "cq.autogen": "BitonicSort.bloq_doc.py"
   },
   "outputs": [],
   "source": [
    "from qualtran.bloqs.arithmetic.sorting import BitonicSort"
   ]
  },
  {
   "cell_type": "markdown",
   "id": "267f7e8e",
   "metadata": {
    "cq.autogen": "BitonicSort.example_instances.md"
   },
   "source": [
    "### Example Instances"
   ]
  },
  {
   "cell_type": "code",
   "execution_count": null,
   "id": "fe271196",
   "metadata": {
    "cq.autogen": "BitonicSort.bitonic_sort"
   },
   "outputs": [],
   "source": [
    "n = sympy.Symbol('n')\n",
    "bitonic_sort = BitonicSort(bitsize=n, k=3)"
   ]
  },
  {
   "cell_type": "markdown",
   "id": "5033dd38",
   "metadata": {
    "cq.autogen": "BitonicSort.graphical_signature.md"
   },
   "source": [
    "#### Graphical Signature"
   ]
  },
  {
   "cell_type": "code",
   "execution_count": null,
   "id": "f5a57cac",
   "metadata": {
    "cq.autogen": "BitonicSort.graphical_signature.py"
   },
   "outputs": [],
   "source": [
    "from qualtran.drawing import show_bloqs\n",
    "show_bloqs([bitonic_sort],\n",
    "           ['`bitonic_sort`'])"
   ]
  },
  {
   "cell_type": "markdown",
   "id": "21589c68",
   "metadata": {
    "cq.autogen": "BitonicSort.call_graph.md"
   },
   "source": [
    "### Call Graph"
   ]
  },
  {
   "cell_type": "code",
   "execution_count": null,
   "id": "9f3b7c3a",
   "metadata": {
    "cq.autogen": "BitonicSort.call_graph.py"
   },
   "outputs": [],
   "source": [
    "bitonic_sort_g, bitonic_sort_sigma = bitonic_sort.call_graph()\n",
    "show_call_graph(bitonic_sort_g)\n",
    "show_counts_sigma(bitonic_sort_sigma)"
   ]
  }
 ],
 "metadata": {
  "kernelspec": {
   "display_name": "Python 3 (ipykernel)",
   "language": "python",
   "name": "python3"
  },
  "language_info": {
   "codemirror_mode": {
    "name": "ipython",
    "version": 3
   },
   "file_extension": ".py",
   "mimetype": "text/x-python",
   "name": "python",
   "nbconvert_exporter": "python",
   "pygments_lexer": "ipython3",
   "version": "3.10.9"
  }
 },
 "nbformat": 4,
 "nbformat_minor": 5
}
