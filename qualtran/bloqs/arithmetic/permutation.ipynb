{
 "cells": [
  {
   "cell_type": "markdown",
   "id": "a48878df",
   "metadata": {
    "cq.autogen": "title_cell"
   },
   "source": [
    "# Permutations"
   ]
  },
  {
   "cell_type": "code",
   "execution_count": null,
   "id": "d083d346",
   "metadata": {
    "cq.autogen": "top_imports"
   },
   "outputs": [],
   "source": [
    "from qualtran import Bloq, CompositeBloq, BloqBuilder, Signature, Register\n",
    "from qualtran import QBit, QInt, QUInt, QAny\n",
    "from qualtran.drawing import show_bloq, show_call_graph, show_counts_sigma\n",
    "from typing import *\n",
    "import numpy as np\n",
    "import sympy\n",
    "import cirq"
   ]
  },
  {
   "cell_type": "markdown",
   "id": "56539662",
   "metadata": {
    "cq.autogen": "Permutation.bloq_doc.md"
   },
   "source": [
    "## `Permutation`\n",
    "Apply a permutation of [0, N - 1] on the basis states.\n",
    "\n",
    "Given a permutation $P : [0, N - 1] \\to [0, N - 1]$, this bloq applies the unitary:\n",
    "\n",
    "$$\n",
    "    U|x\\rangle = |P(x)\\rangle\n",
    "$$\n",
    "\n",
    "Decomposes a permutation into cycles and applies them in order.\n",
    "See :meth:`from_dense_permutation` to construct this bloq from a permutation,\n",
    "and :meth:`from_partial_permutation_map` to construct it from a mapping.\n",
    "\n",
    "#### Parameters\n",
    " - `N`: the total size the permutation acts on.\n",
    " - `cycles`: a sequence of permutation cycles that form the permutation. \n",
    "\n",
    "#### Registers\n",
    " - `x`: integer register storing a value in [0, ..., N - 1] \n",
    "\n",
    "#### References\n",
    " - [A simple quantum algorithm to efficiently prepare sparse states](https://arxiv.org/abs/2310.19309v1). Appendix B.\n"
   ]
  },
  {
   "cell_type": "code",
   "execution_count": null,
   "id": "df73124f",
   "metadata": {
    "cq.autogen": "Permutation.bloq_doc.py"
   },
   "outputs": [],
   "source": [
    "from qualtran.bloqs.arithmetic.permutation import Permutation"
   ]
  },
  {
   "cell_type": "markdown",
   "id": "31147b0d",
   "metadata": {
    "cq.autogen": "Permutation.example_instances.md"
   },
   "source": [
    "### Example Instances"
   ]
  },
  {
   "cell_type": "code",
   "execution_count": null,
   "id": "ec6460b6",
   "metadata": {
    "cq.autogen": "Permutation.permutation"
   },
   "outputs": [],
   "source": [
    "permutation = Permutation.from_dense_permutation([1, 3, 0, 2])"
   ]
  },
  {
   "cell_type": "code",
   "execution_count": null,
   "id": "0c8e04f0",
   "metadata": {
    "cq.autogen": "Permutation.permutation_symb"
   },
   "outputs": [],
   "source": [
    "import sympy\n",
    "\n",
    "from qualtran.symbolics import Shaped\n",
    "\n",
    "N, k = sympy.symbols(\"N k\")\n",
    "permutation_symb = Permutation(N, Shaped((k,)))"
   ]
  },
  {
   "cell_type": "code",
   "execution_count": null,
   "id": "8578d036",
   "metadata": {
    "cq.autogen": "Permutation.permutation_symb_with_cycles"
   },
   "outputs": [],
   "source": [
    "import sympy\n",
    "\n",
    "from qualtran.symbolics import Shaped\n",
    "\n",
    "N = sympy.symbols(\"N\")\n",
    "n_cycles = 4\n",
    "d = sympy.IndexedBase('d', shape=(n_cycles,))\n",
    "permutation_symb_with_cycles = Permutation(N, tuple(Shaped((d[i],)) for i in range(n_cycles)))"
   ]
  },
  {
   "cell_type": "code",
   "execution_count": null,
   "id": "84b5606a",
   "metadata": {
    "cq.autogen": "Permutation.sparse_permutation"
   },
   "outputs": [],
   "source": [
    "sparse_permutation = Permutation.from_partial_permutation_map(\n",
    "    16, {0: 1, 1: 3, 2: 8, 3: 15, 4: 12}\n",
    ")"
   ]
  },
  {
   "cell_type": "markdown",
   "id": "369df9cb",
   "metadata": {
    "cq.autogen": "Permutation.graphical_signature.md"
   },
   "source": [
    "#### Graphical Signature"
   ]
  },
  {
   "cell_type": "code",
   "execution_count": null,
   "id": "25b2dc2b",
   "metadata": {
    "cq.autogen": "Permutation.graphical_signature.py"
   },
   "outputs": [],
   "source": [
    "from qualtran.drawing import show_bloqs\n",
    "show_bloqs([permutation, permutation_symb, permutation_symb_with_cycles, sparse_permutation],\n",
    "           ['`permutation`', '`permutation_symb`', '`permutation_symb_with_cycles`', '`sparse_permutation`'])"
   ]
  },
  {
   "cell_type": "markdown",
   "id": "ad4321ad",
   "metadata": {
    "cq.autogen": "Permutation.call_graph.md"
   },
   "source": [
    "### Call Graph"
   ]
  },
  {
   "cell_type": "code",
   "execution_count": null,
   "id": "3bfbf3f7",
   "metadata": {
    "cq.autogen": "Permutation.call_graph.py"
   },
   "outputs": [],
   "source": [
    "from qualtran.resource_counting.generalizers import ignore_split_join\n",
    "permutation_g, permutation_sigma = permutation.call_graph(max_depth=1, generalizer=ignore_split_join)\n",
    "show_call_graph(permutation_g)\n",
    "show_counts_sigma(permutation_sigma)"
   ]
  },
  {
   "cell_type": "markdown",
   "id": "b3e895db",
   "metadata": {
    "cq.autogen": "PermutationCycle.bloq_doc.md"
   },
   "source": [
    "## `PermutationCycle`\n",
    "Apply a single permutation cycle on the basis states.\n",
    "\n",
    "Given a permutation cycle $C = (v_0 v_2 \\ldots v_{k - 1})$, applies the following unitary:\n",
    "\n",
    "    $$\n",
    "        U|v_i\\rangle \\mapsto |v_{(i + 1)\\mod k}\\rangle\n",
    "    $$\n",
    "\n",
    "for each $i \\in [0, k)$, and\n",
    "\n",
    "    $$\n",
    "        U|x\\rangle \\mapsto |x\\rangle\n",
    "    $$\n",
    "\n",
    "and for every $x \\not\\in C$.\n",
    "\n",
    "#### Parameters\n",
    " - `N`: the total size the permutation acts on.\n",
    " - `cycle`: the permutation cycle to apply. \n",
    "\n",
    "#### Registers\n",
    " - `x`: integer register storing a value in [0, ..., N - 1] \n",
    "\n",
    "#### References\n",
    " - [A simple quantum algorithm to efficiently prepare sparse states](https://arxiv.org/abs/2310.19309v1). Appendix B, Algorithm 7.\n"
   ]
  },
  {
   "cell_type": "code",
   "execution_count": null,
   "id": "d569cd2c",
   "metadata": {
    "cq.autogen": "PermutationCycle.bloq_doc.py"
   },
   "outputs": [],
   "source": [
    "from qualtran.bloqs.arithmetic.permutation import PermutationCycle"
   ]
  },
  {
   "cell_type": "markdown",
   "id": "a93c6e89",
   "metadata": {
    "cq.autogen": "PermutationCycle.example_instances.md"
   },
   "source": [
    "### Example Instances"
   ]
  },
  {
   "cell_type": "code",
   "execution_count": null,
   "id": "264ba946",
   "metadata": {
    "cq.autogen": "PermutationCycle.permutation_cycle"
   },
   "outputs": [],
   "source": [
    "permutation_cycle = PermutationCycle(4, (0, 1, 2))"
   ]
  },
  {
   "cell_type": "code",
   "execution_count": null,
   "id": "78572528",
   "metadata": {
    "cq.autogen": "PermutationCycle.permutation_cycle_symb"
   },
   "outputs": [],
   "source": [
    "import sympy\n",
    "\n",
    "from qualtran.symbolics import Shaped\n",
    "\n",
    "N, L = sympy.symbols(\"N L\")\n",
    "cycle = Shaped((L,))\n",
    "permutation_cycle_symb = PermutationCycle(N, cycle)"
   ]
  },
  {
   "cell_type": "markdown",
   "id": "87615783",
   "metadata": {
    "cq.autogen": "PermutationCycle.graphical_signature.md"
   },
   "source": [
    "#### Graphical Signature"
   ]
  },
  {
   "cell_type": "code",
   "execution_count": null,
   "id": "f6961010",
   "metadata": {
    "cq.autogen": "PermutationCycle.graphical_signature.py"
   },
   "outputs": [],
   "source": [
    "from qualtran.drawing import show_bloqs\n",
    "show_bloqs([permutation_cycle, permutation_cycle_symb],\n",
    "           ['`permutation_cycle`', '`permutation_cycle_symb`'])"
   ]
  },
  {
   "cell_type": "markdown",
   "id": "16e1c105",
   "metadata": {
    "cq.autogen": "PermutationCycle.call_graph.md"
   },
   "source": [
    "### Call Graph"
   ]
  },
  {
   "cell_type": "code",
   "execution_count": null,
   "id": "27628f10",
   "metadata": {
    "cq.autogen": "PermutationCycle.call_graph.py"
   },
   "outputs": [],
   "source": [
    "from qualtran.resource_counting.generalizers import ignore_split_join\n",
    "permutation_cycle_g, permutation_cycle_sigma = permutation_cycle.call_graph(max_depth=1, generalizer=ignore_split_join)\n",
    "show_call_graph(permutation_cycle_g)\n",
    "show_counts_sigma(permutation_cycle_sigma)"
   ]
  }
 ],
 "metadata": {
  "kernelspec": {
   "display_name": "Python 3",
   "language": "python",
   "name": "python3"
  },
  "language_info": {
   "name": "python"
  }
 },
 "nbformat": 4,
 "nbformat_minor": 5
}
