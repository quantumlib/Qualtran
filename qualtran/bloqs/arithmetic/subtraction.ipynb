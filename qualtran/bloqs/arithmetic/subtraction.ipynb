{
 "cells": [
  {
   "cell_type": "markdown",
   "id": "5e1ac363",
   "metadata": {
    "cq.autogen": "title_cell"
   },
   "source": [
    "# Subtraction"
   ]
  },
  {
   "cell_type": "code",
   "execution_count": null,
   "id": "3a2de513",
   "metadata": {
    "cq.autogen": "top_imports"
   },
   "outputs": [],
   "source": [
    "from qualtran import Bloq, CompositeBloq, BloqBuilder, Signature, Register\n",
    "from qualtran import QBit, QInt, QUInt, QAny\n",
    "from qualtran.drawing import show_bloq, show_call_graph, show_counts_sigma\n",
    "from typing import *\n",
    "import numpy as np\n",
    "import sympy\n",
    "import cirq"
   ]
  },
  {
   "cell_type": "markdown",
   "id": "b91ab938",
   "metadata": {
    "cq.autogen": "Subtract.bloq_doc.md"
   },
   "source": [
    "## `Subtract`\n",
    "An n-bit subtraction gate.\n",
    "\n",
    "Implements $U|a\\rangle|b\\rangle \\rightarrow |a\\rangle|a-b\\rangle$ using $4n - 4 T$ gates.\n",
    "\n",
    "This first negates $b$ (assuming a two's complement representation), and then adds $a$ into it.\n",
    "\n",
    "#### Parameters\n",
    " - `a_dtype`: Quantum datatype used to represent the integer a.\n",
    " - `b_dtype`: Quantum datatype used to represent the integer b. Must be large enough to hold the result in the output register of a - b, or else it simply drops the most significant bits. If not specified, b_dtype is set to a_dtype. \n",
    "\n",
    "#### Registers\n",
    " - `a`: A a_dtype.bitsize-sized input register (register a above).\n",
    " - `b`: A b_dtype.bitsize-sized input/output register (register b above).\n"
   ]
  },
  {
   "cell_type": "code",
   "execution_count": null,
   "id": "64dd238f",
   "metadata": {
    "cq.autogen": "Subtract.bloq_doc.py"
   },
   "outputs": [],
   "source": [
    "from qualtran.bloqs.arithmetic import Subtract"
   ]
  },
  {
   "cell_type": "markdown",
   "id": "4f77ad26",
   "metadata": {
    "cq.autogen": "Subtract.example_instances.md"
   },
   "source": [
    "### Example Instances"
   ]
  },
  {
   "cell_type": "code",
   "execution_count": null,
   "id": "2cd50aa6",
   "metadata": {
    "cq.autogen": "Subtract.sub_symb"
   },
   "outputs": [],
   "source": [
    "n = sympy.Symbol('n')\n",
    "sub_symb = Subtract(QInt(bitsize=n))"
   ]
  },
  {
   "cell_type": "code",
   "execution_count": null,
   "id": "e2862687",
   "metadata": {
    "cq.autogen": "Subtract.sub_small"
   },
   "outputs": [],
   "source": [
    "sub_small = Subtract(QInt(bitsize=4))"
   ]
  },
  {
   "cell_type": "code",
   "execution_count": null,
   "id": "8b6584fc",
   "metadata": {
    "cq.autogen": "Subtract.sub_large"
   },
   "outputs": [],
   "source": [
    "sub_large = Subtract(QInt(bitsize=64))"
   ]
  },
  {
   "cell_type": "code",
   "execution_count": null,
   "id": "27312995",
   "metadata": {
    "cq.autogen": "Subtract.sub_diff_size_regs"
   },
   "outputs": [],
   "source": [
    "sub_diff_size_regs = Subtract(QInt(bitsize=4), QInt(bitsize=16))"
   ]
  },
  {
   "cell_type": "markdown",
   "id": "82c580af",
   "metadata": {
    "cq.autogen": "Subtract.graphical_signature.md"
   },
   "source": [
    "#### Graphical Signature"
   ]
  },
  {
   "cell_type": "code",
   "execution_count": null,
   "id": "4e508f72",
   "metadata": {
    "cq.autogen": "Subtract.graphical_signature.py"
   },
   "outputs": [],
   "source": [
    "from qualtran.drawing import show_bloqs\n",
    "show_bloqs([sub_symb, sub_small, sub_large, sub_diff_size_regs],\n",
    "           ['`sub_symb`', '`sub_small`', '`sub_large`', '`sub_diff_size_regs`'])"
   ]
  },
  {
   "cell_type": "markdown",
   "id": "a282a369",
   "metadata": {
    "cq.autogen": "Subtract.call_graph.md"
   },
   "source": [
    "### Call Graph"
   ]
  },
  {
   "cell_type": "code",
   "execution_count": null,
   "id": "43f1884d",
   "metadata": {
    "cq.autogen": "Subtract.call_graph.py"
   },
   "outputs": [],
   "source": [
    "from qualtran.resource_counting.generalizers import ignore_split_join\n",
    "sub_symb_g, sub_symb_sigma = sub_symb.call_graph(max_depth=1, generalizer=ignore_split_join)\n",
    "show_call_graph(sub_symb_g)\n",
    "show_counts_sigma(sub_symb_sigma)"
   ]
  },
  {
   "cell_type": "markdown",
   "id": "12650fb1",
   "metadata": {
    "cq.autogen": "SubtractFrom.bloq_doc.md"
   },
   "source": [
    "## `SubtractFrom`\n",
    "A version of `Subtract` that subtracts the first register from the second in place.\n",
    "\n",
    "Implements $U|a\n",
    "angle|b\n",
    "angle\n",
    "ightarrow |a\n",
    "angle|b - a\n",
    "angle$, essentially equivalent to\n",
    "the statement `b -= a`.\n",
    "\n",
    "#### Parameters\n",
    " - `dtype`: Quantum datatype used to represent the integers a, b, and b - a. \n",
    "\n",
    "#### Registers\n",
    " - `a`: A dtype.bitsize-sized input register (register a above).\n",
    " - `b`: A dtype.bitsize-sized input/output register (register b above).\n"
   ]
  },
  {
   "cell_type": "code",
   "execution_count": null,
   "id": "746c25eb",
   "metadata": {
    "cq.autogen": "SubtractFrom.bloq_doc.py"
   },
   "outputs": [],
   "source": [
    "from qualtran.bloqs.arithmetic import SubtractFrom"
   ]
  },
  {
   "cell_type": "markdown",
   "id": "75ea545f",
   "metadata": {
    "cq.autogen": "SubtractFrom.example_instances.md"
   },
   "source": [
    "### Example Instances"
   ]
  },
  {
   "cell_type": "code",
   "execution_count": null,
   "id": "e7ee57a8",
   "metadata": {
    "cq.autogen": "SubtractFrom.sub_from_symb"
   },
   "outputs": [],
   "source": [
    "n = sympy.Symbol('n')\n",
    "sub_from_symb = SubtractFrom(QInt(bitsize=n))"
   ]
  },
  {
   "cell_type": "code",
   "execution_count": null,
   "id": "8123a738",
   "metadata": {
    "cq.autogen": "SubtractFrom.sub_from_small"
   },
   "outputs": [],
   "source": [
    "sub_from_small = SubtractFrom(QInt(bitsize=4))"
   ]
  },
  {
   "cell_type": "code",
   "execution_count": null,
   "id": "e469b17a",
   "metadata": {
    "cq.autogen": "SubtractFrom.sub_from_large"
   },
   "outputs": [],
   "source": [
    "sub_from_large = SubtractFrom(QInt(bitsize=64))"
   ]
  },
  {
   "cell_type": "markdown",
   "id": "a32af1e3",
   "metadata": {
    "cq.autogen": "SubtractFrom.graphical_signature.md"
   },
   "source": [
    "#### Graphical Signature"
   ]
  },
  {
   "cell_type": "code",
   "execution_count": null,
   "id": "0fd2dbd7",
   "metadata": {
    "cq.autogen": "SubtractFrom.graphical_signature.py"
   },
   "outputs": [],
   "source": [
    "from qualtran.drawing import show_bloqs\n",
    "show_bloqs([sub_from_symb, sub_from_small, sub_from_large],\n",
    "           ['`sub_from_symb`', '`sub_from_small`', '`sub_from_large`'])"
   ]
  },
  {
   "cell_type": "markdown",
   "id": "47e50576",
   "metadata": {
    "cq.autogen": "SubtractFrom.call_graph.md"
   },
   "source": [
    "### Call Graph"
   ]
  },
  {
   "cell_type": "code",
   "execution_count": null,
   "id": "4564d561",
   "metadata": {
    "cq.autogen": "SubtractFrom.call_graph.py"
   },
   "outputs": [],
   "source": [
    "from qualtran.resource_counting.generalizers import ignore_split_join\n",
    "sub_from_symb_g, sub_from_symb_sigma = sub_from_symb.call_graph(max_depth=1, generalizer=ignore_split_join)\n",
    "show_call_graph(sub_from_symb_g)\n",
    "show_counts_sigma(sub_from_symb_sigma)"
   ]
  }
 ],
 "metadata": {
  "kernelspec": {
   "display_name": "Python 3",
   "language": "python",
   "name": "python3"
  },
  "language_info": {
   "name": "python"
  }
 },
 "nbformat": 4,
 "nbformat_minor": 5
}
