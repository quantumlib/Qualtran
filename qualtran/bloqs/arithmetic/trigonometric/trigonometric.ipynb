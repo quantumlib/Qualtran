{
 "cells": [
  {
   "cell_type": "markdown",
   "id": "9f3283ca",
   "metadata": {
    "cq.autogen": "title_cell"
   },
   "source": [
    "# Trigonometric Functions"
   ]
  },
  {
   "cell_type": "code",
   "execution_count": null,
   "id": "9a721c1b",
   "metadata": {
    "cq.autogen": "top_imports"
   },
   "outputs": [],
   "source": [
    "from qualtran import Bloq, CompositeBloq, BloqBuilder, Signature, Register\n",
    "from qualtran import QBit, QInt, QUInt, QAny\n",
    "from qualtran.drawing import show_bloq, show_call_graph, show_counts_sigma\n",
    "from typing import *\n",
    "import numpy as np\n",
    "import sympy\n",
    "import cirq"
   ]
  },
  {
   "cell_type": "markdown",
   "id": "3c33f767",
   "metadata": {
    "cq.autogen": "ArcSin.bloq_doc.md"
   },
   "source": [
    "## `ArcSin`\n",
    "Compute the arcsine of a fixed-point number.\n",
    "\n",
    "Implements the unitary:\n",
    "$$\n",
    "    |a\\rangle|0\\rangle \\rightarrow |a\\rangle|\\arcsin(a)\\rangle\n",
    "$$\n",
    "\n",
    "#### Parameters\n",
    " - `bitsize`: Number of bits used to represent the number.\n",
    " - `num_frac`: Number of fraction bits in the number.\n",
    " - `num_iters`: Number of Newton-Raphson iterations. Defaults to 4; the reference studies 3, 4, or 5 iterations.\n",
    " - `degree`: Degree of the polynomial of the initial approximation. Defaults to 4; the reference studies degree-3, 4, 5, or 6 polynomials. \n",
    "\n",
    "#### Registers\n",
    " - `x`: `bitsize`-sized input register.\n",
    " - `result`: `bitsize`-sized output register. \n",
    "\n",
    "#### References\n",
    " - [Optimizing Quantum Circuits for Arithmetic](https://arxiv.org/abs/1805.12445). Appendix D.\n"
   ]
  },
  {
   "cell_type": "code",
   "execution_count": null,
   "id": "65c376cd",
   "metadata": {
    "cq.autogen": "ArcSin.bloq_doc.py"
   },
   "outputs": [],
   "source": [
    "from qualtran.bloqs.arithmetic.trigonometric import ArcSin"
   ]
  },
  {
   "cell_type": "markdown",
   "id": "2c4377e8",
   "metadata": {
    "cq.autogen": "ArcSin.example_instances.md"
   },
   "source": [
    "### Example Instances"
   ]
  },
  {
   "cell_type": "code",
   "execution_count": null,
   "id": "5fae7a38",
   "metadata": {
    "cq.autogen": "ArcSin.arcsin"
   },
   "outputs": [],
   "source": [
    "arcsin = ArcSin(bitsize=10, num_frac=7)"
   ]
  },
  {
   "cell_type": "markdown",
   "id": "52dabd98",
   "metadata": {
    "cq.autogen": "ArcSin.graphical_signature.md"
   },
   "source": [
    "#### Graphical Signature"
   ]
  },
  {
   "cell_type": "code",
   "execution_count": null,
   "id": "aa796d04",
   "metadata": {
    "cq.autogen": "ArcSin.graphical_signature.py"
   },
   "outputs": [],
   "source": [
    "from qualtran.drawing import show_bloqs\n",
    "show_bloqs([arcsin],\n",
    "           ['`arcsin`'])"
   ]
  },
  {
   "cell_type": "markdown",
   "id": "64371891",
   "metadata": {
    "cq.autogen": "ArcSin.call_graph.md"
   },
   "source": [
    "### Call Graph"
   ]
  },
  {
   "cell_type": "code",
   "execution_count": null,
   "id": "42268a31",
   "metadata": {
    "cq.autogen": "ArcSin.call_graph.py"
   },
   "outputs": [],
   "source": [
    "from qualtran.resource_counting.generalizers import ignore_split_join\n",
    "arcsin_g, arcsin_sigma = arcsin.call_graph(max_depth=1, generalizer=ignore_split_join)\n",
    "show_call_graph(arcsin_g)\n",
    "show_counts_sigma(arcsin_sigma)"
   ]
  }
 ],
 "metadata": {
  "kernelspec": {
   "display_name": "Python 3",
   "language": "python",
   "name": "python3"
  },
  "language_info": {
   "name": "python"
  }
 },
 "nbformat": 4,
 "nbformat_minor": 5
}
