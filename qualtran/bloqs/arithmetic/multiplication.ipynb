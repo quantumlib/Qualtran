{
 "cells": [
  {
   "cell_type": "markdown",
   "id": "45ff0be8",
   "metadata": {
    "cq.autogen": "title_cell"
   },
   "source": [
    "# Multiplication"
   ]
  },
  {
   "cell_type": "code",
   "execution_count": null,
   "id": "0bbda185",
   "metadata": {
    "cq.autogen": "top_imports"
   },
   "outputs": [],
   "source": [
    "from qualtran import Bloq, CompositeBloq, BloqBuilder, Signature, Register\n",
    "from qualtran import QBit, QInt, QUInt, QAny\n",
    "from qualtran.drawing import show_bloq, show_call_graph, show_counts_sigma\n",
    "from typing import *\n",
    "import numpy as np\n",
    "import sympy\n",
    "import cirq"
   ]
  },
  {
   "cell_type": "markdown",
   "id": "6449ea17",
   "metadata": {
    "cq.autogen": "PlusEqualProduct.bloq_doc.md"
   },
   "source": [
    "## `PlusEqualProduct`\n",
    "Performs result += a * b"
   ]
  },
  {
   "cell_type": "code",
   "execution_count": null,
   "id": "d9a48363",
   "metadata": {
    "cq.autogen": "PlusEqualProduct.bloq_doc.py"
   },
   "outputs": [],
   "source": [
    "from qualtran.bloqs.arithmetic import PlusEqualProduct"
   ]
  },
  {
   "cell_type": "markdown",
   "id": "3b03ae71",
   "metadata": {
    "cq.autogen": "PlusEqualProduct.example_instances.md"
   },
   "source": [
    "### Example Instances"
   ]
  },
  {
   "cell_type": "code",
   "execution_count": null,
   "id": "a4c3b6cd",
   "metadata": {
    "cq.autogen": "PlusEqualProduct.plus_equal_product"
   },
   "outputs": [],
   "source": [
    "a_bit, b_bit, res_bit = 2, 2, 4\n",
    "plus_equal_product = PlusEqualProduct(a_bit, b_bit, res_bit)"
   ]
  },
  {
   "cell_type": "markdown",
   "id": "ec36b3e6",
   "metadata": {
    "cq.autogen": "PlusEqualProduct.graphical_signature.md"
   },
   "source": [
    "#### Graphical Signature"
   ]
  },
  {
   "cell_type": "markdown",
   "id": "a20877dc",
   "metadata": {
    "cq.autogen": "PlusEqualProduct.call_graph.md"
   },
   "source": [
    "### Call Graph"
   ]
  },
  {
   "cell_type": "code",
   "execution_count": null,
   "id": "e838de84",
   "metadata": {
    "cq.autogen": "PlusEqualProduct.call_graph.py"
   },
   "outputs": [],
   "source": [
    "from qualtran.resource_counting.generalizers import ignore_split_join\n",
    "plus_equal_product_g, plus_equal_product_sigma = plus_equal_product.call_graph(max_depth=1, generalizer=ignore_split_join)\n",
    "show_call_graph(plus_equal_product_g)\n",
    "show_counts_sigma(plus_equal_product_sigma)"
   ]
  },
  {
   "cell_type": "markdown",
   "id": "d80c7a3a",
   "metadata": {
    "cq.autogen": "Product.bloq_doc.md"
   },
   "source": [
    "## `Product`\n",
    "Compute the product of an `n` and `m` bit binary number.\n",
    "\n",
    "Implements $U|a\\rangle|b\\rangle|0\\rangle \\rightarrow\n",
    "|a\\rangle|b\\rangle|a\\times b\\rangle$ using $2nm-n$ Toffolis.\n",
    "\n",
    "#### Parameters\n",
    " - `a_bitsize`: Number of bits used to represent the first integer.\n",
    " - `b_bitsize`: Number of bits used to represent the second integer. \n",
    "\n",
    "#### Registers\n",
    " - `a`: a_bitsize-sized input register.\n",
    " - `b`: b_bitsize-sized input register.\n",
    " - `result`: A 2*`max(a_bitsize, b_bitsize)` bit-sized output register to store the result a*b. \n",
    "\n",
    "#### References\n",
    " - [Fault-Tolerant Quantum Simulations of Chemistry in First Quantization](https://arxiv.org/abs/2105.12767). pg 81 gives a Toffoli complexity for multiplying two numbers.\n"
   ]
  },
  {
   "cell_type": "code",
   "execution_count": null,
   "id": "b9474c15",
   "metadata": {
    "cq.autogen": "Product.bloq_doc.py"
   },
   "outputs": [],
   "source": [
    "from qualtran.bloqs.arithmetic import Product"
   ]
  },
  {
   "cell_type": "markdown",
   "id": "8c66a5ee",
   "metadata": {
    "cq.autogen": "Product.example_instances.md"
   },
   "source": [
    "### Example Instances"
   ]
  },
  {
   "cell_type": "code",
   "execution_count": null,
   "id": "dc021736",
   "metadata": {
    "cq.autogen": "Product.product"
   },
   "outputs": [],
   "source": [
    "product = Product(a_bitsize=4, b_bitsize=6)"
   ]
  },
  {
   "cell_type": "markdown",
   "id": "a567e14b",
   "metadata": {
    "cq.autogen": "Product.graphical_signature.md"
   },
   "source": [
    "#### Graphical Signature"
   ]
  },
  {
   "cell_type": "code",
   "execution_count": null,
   "id": "a726ecb3",
   "metadata": {
    "cq.autogen": "Product.graphical_signature.py"
   },
   "outputs": [],
   "source": [
    "from qualtran.drawing import show_bloqs\n",
    "show_bloqs([product],\n",
    "           ['`product`'])"
   ]
  },
  {
   "cell_type": "markdown",
   "id": "805f21e5",
   "metadata": {
    "cq.autogen": "Product.call_graph.md"
   },
   "source": [
    "### Call Graph"
   ]
  },
  {
   "cell_type": "code",
   "execution_count": null,
   "id": "96c26635",
   "metadata": {
    "cq.autogen": "Product.call_graph.py"
   },
   "outputs": [],
   "source": [
    "from qualtran.resource_counting.generalizers import ignore_split_join\n",
    "product_g, product_sigma = product.call_graph(max_depth=1, generalizer=ignore_split_join)\n",
    "show_call_graph(product_g)\n",
    "show_counts_sigma(product_sigma)"
   ]
  },
  {
   "cell_type": "markdown",
   "id": "28db7d6c",
   "metadata": {
    "cq.autogen": "Square.bloq_doc.md"
   },
   "source": [
    "## `Square`\n",
    "Square an n-bit binary number.\n",
    "\n",
    "Implements $U|a\\rangle|0\\rangle \\rightarrow |a\\rangle|a^2\\rangle$ using $n^2 - n$ Toffolis.\n",
    "\n",
    "#### Parameters\n",
    " - `bitsize`: Number of bits used to represent the integer to be squared. The result is stored in a register of size 2*bitsize. \n",
    "\n",
    "#### Registers\n",
    " - `a`: A bitsize-sized input register (register a above).\n",
    " - `result`: A 2-bitsize-sized input/output register. \n",
    "\n",
    "#### References\n",
    " - [Fault-Tolerant Quantum Simulations of Chemistry in First Quantization](https://arxiv.org/abs/2105.12767). pg 76 for Toffoli complexity.\n"
   ]
  },
  {
   "cell_type": "code",
   "execution_count": null,
   "id": "b9c9b141",
   "metadata": {
    "cq.autogen": "Square.bloq_doc.py"
   },
   "outputs": [],
   "source": [
    "from qualtran.bloqs.arithmetic import Square"
   ]
  },
  {
   "cell_type": "markdown",
   "id": "2f2fa4cb",
   "metadata": {
    "cq.autogen": "Square.example_instances.md"
   },
   "source": [
    "### Example Instances"
   ]
  },
  {
   "cell_type": "code",
   "execution_count": null,
   "id": "74f0c312",
   "metadata": {
    "cq.autogen": "Square.square"
   },
   "outputs": [],
   "source": [
    "square = Square(bitsize=8)"
   ]
  },
  {
   "cell_type": "markdown",
   "id": "af4d7c44",
   "metadata": {
    "cq.autogen": "Square.graphical_signature.md"
   },
   "source": [
    "#### Graphical Signature"
   ]
  },
  {
   "cell_type": "code",
   "execution_count": null,
   "id": "d1fb05e3",
   "metadata": {
    "cq.autogen": "Square.graphical_signature.py"
   },
   "outputs": [],
   "source": [
    "from qualtran.drawing import show_bloqs\n",
    "show_bloqs([square],\n",
    "           ['`square`'])"
   ]
  },
  {
   "cell_type": "markdown",
   "id": "61ad10d5",
   "metadata": {
    "cq.autogen": "Square.call_graph.md"
   },
   "source": [
    "### Call Graph"
   ]
  },
  {
   "cell_type": "code",
   "execution_count": null,
   "id": "f899d345",
   "metadata": {
    "cq.autogen": "Square.call_graph.py"
   },
   "outputs": [],
   "source": [
    "from qualtran.resource_counting.generalizers import ignore_split_join\n",
    "square_g, square_sigma = square.call_graph(max_depth=1, generalizer=ignore_split_join)\n",
    "show_call_graph(square_g)\n",
    "show_counts_sigma(square_sigma)"
   ]
  },
  {
   "cell_type": "markdown",
   "id": "b8cb3d26",
   "metadata": {
    "cq.autogen": "SumOfSquares.bloq_doc.md"
   },
   "source": [
    "## `SumOfSquares`\n",
    "Compute the sum of squares of k n-bit binary numbers.\n",
    "\n",
    "Implements $U|a\\rangle|b\\rangle\\dots k\\rangle|0\\rangle \\rightarrow\n",
    "    |a\\rangle|b\\rangle\\dots|k\\rangle|a^2+b^2+\\dots k^2\\rangle$ using\n",
    "    $4 k n^2 T$ gates.\n",
    "\n",
    "The number of bits required by the output register is 2*bitsize + ceil(log2(k)).\n",
    "\n",
    "#### Parameters\n",
    " - `bitsize`: Number of bits used to represent each of the k integers.\n",
    " - `k`: The number of integers we want to square. \n",
    "\n",
    "#### Registers\n",
    " - `input`: k n-bit registers.\n",
    " - `result`: 2 * bitsize + ceil(log2(k)) sized output register. \n",
    "\n",
    "#### References\n",
    " - [Fault-Tolerant Quantum Simulations of Chemistry in First Quantization](https://arxiv.org/abs/2105.12767). pg 80 gives a Toffoli complexity for squaring.\n"
   ]
  },
  {
   "cell_type": "code",
   "execution_count": null,
   "id": "c67129b2",
   "metadata": {
    "cq.autogen": "SumOfSquares.bloq_doc.py"
   },
   "outputs": [],
   "source": [
    "from qualtran.bloqs.arithmetic import SumOfSquares"
   ]
  },
  {
   "cell_type": "markdown",
   "id": "d7c136d2",
   "metadata": {
    "cq.autogen": "SumOfSquares.example_instances.md"
   },
   "source": [
    "### Example Instances"
   ]
  },
  {
   "cell_type": "code",
   "execution_count": null,
   "id": "9398c94f",
   "metadata": {
    "cq.autogen": "SumOfSquares.sum_of_squares"
   },
   "outputs": [],
   "source": [
    "sum_of_squares = SumOfSquares(bitsize=8, k=4)"
   ]
  },
  {
   "cell_type": "markdown",
   "id": "3d954684",
   "metadata": {
    "cq.autogen": "SumOfSquares.graphical_signature.md"
   },
   "source": [
    "#### Graphical Signature"
   ]
  },
  {
   "cell_type": "code",
   "execution_count": null,
   "id": "5d15b935",
   "metadata": {
    "cq.autogen": "SumOfSquares.graphical_signature.py"
   },
   "outputs": [],
   "source": [
    "from qualtran.drawing import show_bloqs\n",
    "show_bloqs([sum_of_squares],\n",
    "           ['`sum_of_squares`'])"
   ]
  },
  {
   "cell_type": "markdown",
   "id": "45fc4f90",
   "metadata": {
    "cq.autogen": "SumOfSquares.call_graph.md"
   },
   "source": [
    "### Call Graph"
   ]
  },
  {
   "cell_type": "code",
   "execution_count": null,
   "id": "a79cf488",
   "metadata": {
    "cq.autogen": "SumOfSquares.call_graph.py"
   },
   "outputs": [],
   "source": [
    "from qualtran.resource_counting.generalizers import ignore_split_join\n",
    "sum_of_squares_g, sum_of_squares_sigma = sum_of_squares.call_graph(max_depth=1, generalizer=ignore_split_join)\n",
    "show_call_graph(sum_of_squares_g)\n",
    "show_counts_sigma(sum_of_squares_sigma)"
   ]
  },
  {
   "cell_type": "markdown",
   "id": "263d02db",
   "metadata": {
    "cq.autogen": "ScaleIntByReal.bloq_doc.md"
   },
   "source": [
    "## `ScaleIntByReal`\n",
    "Scale an integer by fixed-point representation of a real number.\n",
    "\n",
    "i.e.\n",
    "\n",
    "$$\n",
    "    |r\\rangle|i\\rangle|0\\rangle \\rightarrow |r\\rangle|i\\rangle|r \\times i\\rangle\n",
    "$$\n",
    "\n",
    "The real number is assumed to be in the range [0, 1).\n",
    "\n",
    "#### Parameters\n",
    " - `r_bitsize`: Number of bits used to represent the real number.\n",
    " - `i_bitsize`: Number of bits used to represent the integer. \n",
    "\n",
    "#### Registers\n",
    " - `real_in`: r_bitsize-sized input fixed-point register.\n",
    " - `int_in`: i_bitsize-sized input register.\n",
    " - `result`: a r_bitsize sized output fixed-point register. \n",
    "\n",
    "#### References\n",
    " - [Compilation of Fault-Tolerant Quantum Heuristics for Combinatorial Optimization](     https://arxiv.org/pdf/2007.07391.pdf) pg 70.\n"
   ]
  },
  {
   "cell_type": "code",
   "execution_count": null,
   "id": "5b7ae7b1",
   "metadata": {
    "cq.autogen": "ScaleIntByReal.bloq_doc.py"
   },
   "outputs": [],
   "source": [
    "from qualtran.bloqs.arithmetic import ScaleIntByReal"
   ]
  },
  {
   "cell_type": "markdown",
   "id": "1afc0f65",
   "metadata": {
    "cq.autogen": "ScaleIntByReal.example_instances.md"
   },
   "source": [
    "### Example Instances"
   ]
  },
  {
   "cell_type": "code",
   "execution_count": null,
   "id": "97276ea9",
   "metadata": {
    "cq.autogen": "ScaleIntByReal.scale_int_by_real"
   },
   "outputs": [],
   "source": [
    "scale_int_by_real = ScaleIntByReal(r_bitsize=12, i_bitsize=4)"
   ]
  },
  {
   "cell_type": "markdown",
   "id": "d46ee13e",
   "metadata": {
    "cq.autogen": "ScaleIntByReal.graphical_signature.md"
   },
   "source": [
    "#### Graphical Signature"
   ]
  },
  {
   "cell_type": "code",
   "execution_count": null,
   "id": "b0f3c38b",
   "metadata": {
    "cq.autogen": "ScaleIntByReal.graphical_signature.py"
   },
   "outputs": [],
   "source": [
    "from qualtran.drawing import show_bloqs\n",
    "show_bloqs([scale_int_by_real],\n",
    "           ['`scale_int_by_real`'])"
   ]
  },
  {
   "cell_type": "markdown",
   "id": "b4ea9935",
   "metadata": {
    "cq.autogen": "ScaleIntByReal.call_graph.md"
   },
   "source": [
    "### Call Graph"
   ]
  },
  {
   "cell_type": "code",
   "execution_count": null,
   "id": "b3364d83",
   "metadata": {
    "cq.autogen": "ScaleIntByReal.call_graph.py"
   },
   "outputs": [],
   "source": [
    "from qualtran.resource_counting.generalizers import ignore_split_join\n",
    "scale_int_by_real_g, scale_int_by_real_sigma = scale_int_by_real.call_graph(max_depth=1, generalizer=ignore_split_join)\n",
    "show_call_graph(scale_int_by_real_g)\n",
    "show_counts_sigma(scale_int_by_real_sigma)"
   ]
  },
  {
   "cell_type": "markdown",
   "id": "09dcd608",
   "metadata": {
    "cq.autogen": "MultiplyTwoReals.bloq_doc.md"
   },
   "source": [
    "## `MultiplyTwoReals`\n",
    "Multiply two fixed-point representations of real numbers\n",
    "\n",
    "i.e.\n",
    "\n",
    "$$\n",
    "    |a\\rangle|b\\rangle|0\\rangle \\rightarrow |a\\rangle|b\\rangle|a \\times b\\rangle\n",
    "$$\n",
    "\n",
    "The real numbers are assumed to be in the range [0, 1).\n",
    "\n",
    "#### Parameters\n",
    " - `bitsize`: Number of bits used to represent the real number. \n",
    "\n",
    "#### Registers\n",
    " - `a`: bitsize-sized input register.\n",
    " - `b`: bitsize-sized input register.\n",
    " - `result`: bitsize output register \n",
    "\n",
    "#### References\n",
    " - [Compilation of Fault-Tolerant Quantum Heuristics for Combinatorial Optimization](https://arxiv.org/abs/2007.07391). Appendix D. Section 5. (p. 71).\n"
   ]
  },
  {
   "cell_type": "code",
   "execution_count": null,
   "id": "fc413fbc",
   "metadata": {
    "cq.autogen": "MultiplyTwoReals.bloq_doc.py"
   },
   "outputs": [],
   "source": [
    "from qualtran.bloqs.arithmetic import MultiplyTwoReals"
   ]
  },
  {
   "cell_type": "markdown",
   "id": "766c68e4",
   "metadata": {
    "cq.autogen": "MultiplyTwoReals.example_instances.md"
   },
   "source": [
    "### Example Instances"
   ]
  },
  {
   "cell_type": "code",
   "execution_count": null,
   "id": "2e090bbf",
   "metadata": {
    "cq.autogen": "MultiplyTwoReals.multiply_two_reals"
   },
   "outputs": [],
   "source": [
    "multiply_two_reals = MultiplyTwoReals(bitsize=10)"
   ]
  },
  {
   "cell_type": "markdown",
   "id": "b9322b48",
   "metadata": {
    "cq.autogen": "MultiplyTwoReals.graphical_signature.md"
   },
   "source": [
    "#### Graphical Signature"
   ]
  },
  {
   "cell_type": "code",
   "execution_count": null,
   "id": "85940d98",
   "metadata": {
    "cq.autogen": "MultiplyTwoReals.graphical_signature.py"
   },
   "outputs": [],
   "source": [
    "from qualtran.drawing import show_bloqs\n",
    "show_bloqs([multiply_two_reals],\n",
    "           ['`multiply_two_reals`'])"
   ]
  },
  {
   "cell_type": "markdown",
   "id": "85d69a0e",
   "metadata": {
    "cq.autogen": "MultiplyTwoReals.call_graph.md"
   },
   "source": [
    "### Call Graph"
   ]
  },
  {
   "cell_type": "code",
   "execution_count": null,
   "id": "de70dbe6",
   "metadata": {
    "cq.autogen": "MultiplyTwoReals.call_graph.py"
   },
   "outputs": [],
   "source": [
    "from qualtran.resource_counting.generalizers import ignore_split_join\n",
    "multiply_two_reals_g, multiply_two_reals_sigma = multiply_two_reals.call_graph(max_depth=1, generalizer=ignore_split_join)\n",
    "show_call_graph(multiply_two_reals_g)\n",
    "show_counts_sigma(multiply_two_reals_sigma)"
   ]
  },
  {
   "cell_type": "markdown",
   "id": "075c2d2a",
   "metadata": {
    "cq.autogen": "SquareRealNumber.bloq_doc.md"
   },
   "source": [
    "## `SquareRealNumber`\n",
    "Square a fixed-point representation of a real number\n",
    "\n",
    "i.e.\n",
    "\n",
    "$$\n",
    "    |a\\rangle|0\\rangle \\rightarrow |a\\rangle|a^2\\rangle\n",
    "$$\n",
    "\n",
    "The real numbers are assumed to be in the range [0, 1).\n",
    "\n",
    "#### Parameters\n",
    " - `bitsize`: Number of bits used to represent the real number. \n",
    "\n",
    "#### Registers\n",
    " - `a`: bitsize-sized input register.\n",
    " - `b`: bitsize-sized input register.\n",
    " - `result`: bitsize output register \n",
    "\n",
    "#### References\n",
    " - [Compilation of Fault-Tolerant Quantum Heuristics for Combinatorial Optimization](https://arxiv.org/abs/2007.07391). Appendix D. Section 6. (p. 74).\n"
   ]
  },
  {
   "cell_type": "code",
   "execution_count": null,
   "id": "1521a0dd",
   "metadata": {
    "cq.autogen": "SquareRealNumber.bloq_doc.py"
   },
   "outputs": [],
   "source": [
    "from qualtran.bloqs.arithmetic import SquareRealNumber"
   ]
  },
  {
   "cell_type": "markdown",
   "id": "36bc840d",
   "metadata": {
    "cq.autogen": "SquareRealNumber.example_instances.md"
   },
   "source": [
    "### Example Instances"
   ]
  },
  {
   "cell_type": "code",
   "execution_count": null,
   "id": "2c7f730f",
   "metadata": {
    "cq.autogen": "SquareRealNumber.square_real_number"
   },
   "outputs": [],
   "source": [
    "square_real_number = SquareRealNumber(bitsize=10)"
   ]
  },
  {
   "cell_type": "markdown",
   "id": "5e2fc726",
   "metadata": {
    "cq.autogen": "SquareRealNumber.graphical_signature.md"
   },
   "source": [
    "#### Graphical Signature"
   ]
  },
  {
   "cell_type": "code",
   "execution_count": null,
   "id": "c1eea122",
   "metadata": {
    "cq.autogen": "SquareRealNumber.graphical_signature.py"
   },
   "outputs": [],
   "source": [
    "from qualtran.drawing import show_bloqs\n",
    "show_bloqs([square_real_number],\n",
    "           ['`square_real_number`'])"
   ]
  },
  {
   "cell_type": "markdown",
   "id": "b410a3af",
   "metadata": {
    "cq.autogen": "SquareRealNumber.call_graph.md"
   },
   "source": [
    "### Call Graph"
   ]
  },
  {
   "cell_type": "code",
   "execution_count": null,
   "id": "f2016953",
   "metadata": {
    "cq.autogen": "SquareRealNumber.call_graph.py"
   },
   "outputs": [],
   "source": [
    "from qualtran.resource_counting.generalizers import ignore_split_join\n",
    "square_real_number_g, square_real_number_sigma = square_real_number.call_graph(max_depth=1, generalizer=ignore_split_join)\n",
    "show_call_graph(square_real_number_g)\n",
    "show_counts_sigma(square_real_number_sigma)"
   ]
  },
  {
   "cell_type": "code",
   "execution_count": null,
   "id": "54754463",
   "metadata": {
    "cq.autogen": "PlusEqualProduct.graphical_signature.py"
   },
   "outputs": [],
   "source": [
    "from qualtran.drawing import show_bloqs\n",
    "show_bloqs([plus_equal_product],\n",
    "           ['`plus_equal_product`'])"
   ]
  }
 ],
 "metadata": {
  "kernelspec": {
   "display_name": "Python 3",
   "language": "python",
   "name": "python3"
  },
  "language_info": {
   "codemirror_mode": {
    "name": "ipython",
    "version": 3
   },
   "file_extension": ".py",
   "mimetype": "text/x-python",
   "name": "python",
   "nbconvert_exporter": "python",
   "pygments_lexer": "ipython3",
   "version": "3.11.6"
  }
 },
 "nbformat": 4,
 "nbformat_minor": 5
}
