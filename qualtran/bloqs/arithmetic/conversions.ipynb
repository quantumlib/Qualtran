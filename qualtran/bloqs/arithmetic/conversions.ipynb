{
 "cells": [
  {
   "cell_type": "markdown",
   "id": "1d183aeb",
   "metadata": {
    "cq.autogen": "title_cell"
   },
   "source": [
    "# Conversions"
   ]
  },
  {
   "cell_type": "code",
   "execution_count": null,
   "id": "14109d45",
   "metadata": {
    "cq.autogen": "top_imports"
   },
   "outputs": [],
   "source": [
    "from qualtran import Bloq, CompositeBloq, BloqBuilder, Signature, Register\n",
    "from qualtran import QBit, QInt, QUInt, QAny\n",
    "from qualtran.drawing import show_bloq, show_call_graph, show_counts_sigma\n",
    "from typing import *\n",
    "import numpy as np\n",
    "import sympy\n",
    "import cirq"
   ]
  },
  {
   "cell_type": "markdown",
   "id": "eb2d037e",
   "metadata": {
    "cq.autogen": "SignedIntegerToTwosComplement.bloq_doc.md"
   },
   "source": [
    "## `SignedIntegerToTwosComplement`\n",
    "Convert a register storing the signed integer representation to two's complement inplace.\n",
    "\n",
    "#### Parameters\n",
    " - `bitsize`: size of the register. \n",
    "\n",
    "#### Registers\n",
    " - `x`: input signed integer (ones' complement) register.\n",
    " - `y`: output signed integer register in two's complement. \n",
    "\n",
    "#### References\n",
    " - [Fault-Tolerant Quantum Simulations of Chemistry in First Quantization](https://arxiv.org/abs/2105.12767). page 24, 4th paragraph from the bottom.\n"
   ]
  },
  {
   "cell_type": "code",
   "execution_count": null,
   "id": "90bb1bed",
   "metadata": {
    "cq.autogen": "SignedIntegerToTwosComplement.bloq_doc.py"
   },
   "outputs": [],
   "source": [
    "from qualtran.bloqs.arithmetic import SignedIntegerToTwosComplement"
   ]
  },
  {
   "cell_type": "markdown",
   "id": "8f3c1147",
   "metadata": {
    "cq.autogen": "SignedIntegerToTwosComplement.example_instances.md"
   },
   "source": [
    "### Example Instances"
   ]
  },
  {
   "cell_type": "code",
   "execution_count": null,
   "id": "2dfb8e27",
   "metadata": {
    "cq.autogen": "SignedIntegerToTwosComplement.signed_to_twos"
   },
   "outputs": [],
   "source": [
    "signed_to_twos = SignedIntegerToTwosComplement(bitsize=10)"
   ]
  },
  {
   "cell_type": "markdown",
   "id": "06ef9a13",
   "metadata": {
    "cq.autogen": "SignedIntegerToTwosComplement.graphical_signature.md"
   },
   "source": [
    "#### Graphical Signature"
   ]
  },
  {
   "cell_type": "code",
   "execution_count": null,
   "id": "325d1c85",
   "metadata": {
    "cq.autogen": "SignedIntegerToTwosComplement.graphical_signature.py"
   },
   "outputs": [],
   "source": [
    "from qualtran.drawing import show_bloqs\n",
    "show_bloqs([signed_to_twos],\n",
    "           ['`signed_to_twos`'])"
   ]
  },
  {
   "cell_type": "markdown",
   "id": "de47d9a4",
   "metadata": {
    "cq.autogen": "SignedIntegerToTwosComplement.call_graph.md"
   },
   "source": [
    "### Call Graph"
   ]
  },
  {
   "cell_type": "code",
   "execution_count": null,
   "id": "da2e339e",
   "metadata": {
    "cq.autogen": "SignedIntegerToTwosComplement.call_graph.py"
   },
   "outputs": [],
   "source": [
    "from qualtran.resource_counting.generalizers import ignore_split_join\n",
    "signed_to_twos_g, signed_to_twos_sigma = signed_to_twos.call_graph(max_depth=1, generalizer=ignore_split_join)\n",
    "show_call_graph(signed_to_twos_g)\n",
    "show_counts_sigma(signed_to_twos_sigma)"
   ]
  },
  {
   "cell_type": "markdown",
   "id": "8db78a21",
   "metadata": {
    "cq.autogen": "ToContiguousIndex.bloq_doc.md"
   },
   "source": [
    "## `ToContiguousIndex`\n",
    "Build a contiguous register s from mu and nu.\n",
    "\n",
    "$$\n",
    "    s = \\nu (\\nu + 1) / 2 + \\mu\n",
    "$$\n",
    "\n",
    "Assuming nu is zero indexed (in contrast to the THC paper which assumes 1,\n",
    "hence the slightly different formula).\n",
    "\n",
    "#### Parameters\n",
    " - `bitsize`: number of bits for mu and nu registers.\n",
    " - `s_bitsize`: Number of bits for contiguous register. \n",
    "\n",
    "#### Registers\n",
    " - `mu`: input register\n",
    " - `nu`: input register\n",
    " - `s`: output contiguous register \n",
    "\n",
    "#### References\n",
    " - [Even more efficient quantum computations of chemistry through tensor hypercontraction](https://arxiv.org/pdf/2011.03494.pdf). Eq. 29.\n"
   ]
  },
  {
   "cell_type": "code",
   "execution_count": null,
   "id": "fc4d5d9b",
   "metadata": {
    "cq.autogen": "ToContiguousIndex.bloq_doc.py"
   },
   "outputs": [],
   "source": [
    "from qualtran.bloqs.arithmetic import ToContiguousIndex"
   ]
  },
  {
   "cell_type": "markdown",
   "id": "5f88c48f",
   "metadata": {
    "cq.autogen": "ToContiguousIndex.example_instances.md"
   },
   "source": [
    "### Example Instances"
   ]
  },
  {
   "cell_type": "code",
   "execution_count": null,
   "id": "f1b9eba4",
   "metadata": {
    "cq.autogen": "ToContiguousIndex.to_contg_index"
   },
   "outputs": [],
   "source": [
    "to_contg_index = ToContiguousIndex(bitsize=4, s_bitsize=8)"
   ]
  },
  {
   "cell_type": "markdown",
   "id": "6565d270",
   "metadata": {
    "cq.autogen": "ToContiguousIndex.graphical_signature.md"
   },
   "source": [
    "#### Graphical Signature"
   ]
  },
  {
   "cell_type": "code",
   "execution_count": null,
   "id": "676836df",
   "metadata": {
    "cq.autogen": "ToContiguousIndex.graphical_signature.py"
   },
   "outputs": [],
   "source": [
    "from qualtran.drawing import show_bloqs\n",
    "show_bloqs([to_contg_index],\n",
    "           ['`to_contg_index`'])"
   ]
  },
  {
   "cell_type": "markdown",
   "id": "7ec6b833",
   "metadata": {
    "cq.autogen": "ToContiguousIndex.call_graph.md"
   },
   "source": [
    "### Call Graph"
   ]
  },
  {
   "cell_type": "code",
   "execution_count": null,
   "id": "b7c7b076",
   "metadata": {
    "cq.autogen": "ToContiguousIndex.call_graph.py"
   },
   "outputs": [],
   "source": [
    "from qualtran.resource_counting.generalizers import ignore_split_join\n",
    "to_contg_index_g, to_contg_index_sigma = to_contg_index.call_graph(max_depth=1, generalizer=ignore_split_join)\n",
    "show_call_graph(to_contg_index_g)\n",
    "show_counts_sigma(to_contg_index_sigma)"
   ]
  },
  {
   "cell_type": "markdown",
   "id": "cc8b699b",
   "metadata": {
    "cq.autogen": "ToFxp.bloq_doc.md"
   },
   "source": [
    "## `ToFxp`\n",
    "Convert a register storing a `QUInt` to a `QFxp`, optionally dividing by a power of two.\n",
    "\n",
    "#### Parameters\n",
    " - `a_dtype`: Quantum datatype used to represent the input.\n",
    " - `b_dtype`: Quantum datatype used to represent the output.\n",
    " - `divide_by`: Power of two to divide by when converting (default: 0). \n",
    "\n",
    "#### Registers\n",
    " - `a`: A a_dtype.bitsize-sized input register (register a above).\n",
    " - `b`: A b_dtype.bitsize-sized output register (register b above).\n"
   ]
  },
  {
   "cell_type": "code",
   "execution_count": null,
   "id": "a27378ba",
   "metadata": {
    "cq.autogen": "ToFxp.bloq_doc.py"
   },
   "outputs": [],
   "source": [
    "from qualtran.bloqs.arithmetic import ToFxp"
   ]
  },
  {
   "cell_type": "markdown",
   "id": "2c6486fa",
   "metadata": {
    "cq.autogen": "ToFxp.example_instances.md"
   },
   "source": [
    "### Example Instances"
   ]
  },
  {
   "cell_type": "code",
   "execution_count": null,
   "id": "2c8ecc32",
   "metadata": {
    "cq.autogen": "ToFxp.to_fxp"
   },
   "outputs": [],
   "source": [
    "from qualtran import QFxp, QUInt\n",
    "\n",
    "to_fxp = ToFxp(QUInt(4), QFxp(4, 2, False), 2)"
   ]
  },
  {
   "cell_type": "markdown",
   "id": "f3333f12",
   "metadata": {
    "cq.autogen": "ToFxp.graphical_signature.md"
   },
   "source": [
    "#### Graphical Signature"
   ]
  },
  {
   "cell_type": "code",
   "execution_count": null,
   "id": "a4a8791a",
   "metadata": {
    "cq.autogen": "ToFxp.graphical_signature.py"
   },
   "outputs": [],
   "source": [
    "from qualtran.drawing import show_bloqs\n",
    "show_bloqs([to_fxp],\n",
    "           ['`to_fxp`'])"
   ]
  },
  {
   "cell_type": "markdown",
   "id": "137cb66b",
   "metadata": {
    "cq.autogen": "ToFxp.call_graph.md"
   },
   "source": [
    "### Call Graph"
   ]
  },
  {
   "cell_type": "code",
   "execution_count": null,
   "id": "30033a51",
   "metadata": {
    "cq.autogen": "ToFxp.call_graph.py"
   },
   "outputs": [],
   "source": [
    "from qualtran.resource_counting.generalizers import ignore_split_join\n",
    "to_fxp_g, to_fxp_sigma = to_fxp.call_graph(max_depth=1, generalizer=ignore_split_join)\n",
    "show_call_graph(to_fxp_g)\n",
    "show_counts_sigma(to_fxp_sigma)"
   ]
  }
 ],
 "metadata": {
  "kernelspec": {
   "display_name": "Python 3",
   "language": "python",
   "name": "python3"
  },
  "language_info": {
   "codemirror_mode": {
    "name": "ipython",
    "version": 3
   },
   "file_extension": ".py",
   "mimetype": "text/x-python",
   "name": "python",
   "nbconvert_exporter": "python",
   "pygments_lexer": "ipython3",
   "version": "3.11.6"
  }
 },
 "nbformat": 4,
 "nbformat_minor": 5
}
