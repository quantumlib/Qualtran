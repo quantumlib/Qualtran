{
 "cells": [
  {
   "cell_type": "markdown",
   "metadata": {
    "id": "cXYDgQH3jnNQ"
   },
   "source": [
    "# T Complexity Of Comparison Gates\n",
    "\n",
    "<p style=\"text-align: center;\"><a href=\"mailto:noureldinyosri@gmail.com\">Noureldin Yosri</a></p>\n",
    "<p style=\"text-align: center;\">May 2023</p>"
   ]
  },
  {
   "cell_type": "markdown",
   "metadata": {
    "id": "FS_qGUVPouBf"
   },
   "source": [
    "## Abstract\n",
    "Quantum comparison gates can be split into two categories: quantum-classical when comparing a quantum number to a classical number and quantum-quantum when comparing two quantum numbers (i.e. quantum registers).\n",
    "\n",
    "Comparison gates are an important building block for quantum algorithms, yet they are always relegated to the appendices usually with figures showing how they work only on a small number of qubits. This leads to cases where researchers potentially waste time reinventing already existing methods.\n",
    "This notebook intends to serve as a documentary of the current state of the art for comparison gates while explaining how they work both algorithmically and programmatically.\n",
    "\n",
    "**Note:** Most of the ideas explained here are built into [qualtran](https://github.com/quantumlib/Qualtran/tree/main/qualtran)."
   ]
  },
  {
   "cell_type": "markdown",
   "metadata": {
    "id": "_-GG5ry9o6RI"
   },
   "source": [
    "## Introduction\n",
    "The current optimal implementation of a reversible oracle for comparing two quantum numbers of $n$ qubits each is $4n + \\mathcal{O}(1)$ T operations. This is done by reducing the problem to subtraction which takes $4n + \\mathcal{O}(1)$ (see. [Gidney, 2018](https://arxiv.org/abs/1709.06648)). \n",
    "\n",
    "This way while optimal in terms of T count has linear depth. The question of whether we can trade some T operations in order to reduce the depth of the circuit is interesting and turns out to have multiple answers.\n",
    "In this notebook, we consider the problem of doing a comparison at a depth logarithmic in the number of qubits $\\mathcal{O}(\\log{n})$. The current best way to do this is given in the supplementary materials of [Berry et al., 2018](https://doi.org/10.1038/s41534-018-0071-5) and leverages the divide and conquer technique. \n",
    "\n",
    "When this decomposition is applied to the case where one input is a list of qubits and the other is a classical number (i.e. a string of bits) this decomposition gives a $6n + \\mathcal{O}(1)$ T complexity.\n",
    "\n",
    "In what follows I will explain the current T optimal ways for comparison in all cases. Our focus on T count is because T count is the bottleneck when running quantum circuits in a fault-tolerant way using surface code (see. [Litinski et al., 2018](https://doi.org/10.48550/arXiv.1808.02892))\n",
    "\n",
    "$$\\renewcommand{\\ket}[1]{|#1\\rangle}$$"
   ]
  },
  {
   "cell_type": "markdown",
   "metadata": {
    "id": "JxeFr2ClqHn9"
   },
   "source": [
    "## Equality as a special case\n",
    "Before we proceed to the comparison oracle we take a look at the equality oracle actually as a special case with a T complexity of only $4n + \\mathcal{O}(1)$, as it can be implemented as a qubit-wise And operation. This qubit-wise `And` operation itself can be done using only $4n + \\mathcal{O}(1)$ as per [Babbush et al., 2018](https://doi.org/10.1103%2Fphysrevx.8.041015) and [Craig Gidney](https://algassert.com/post/1903).\n",
    "\n",
    "### Quantum-Classical Case\n",
    "In the quantum-classical case, all we need to do is to compute qubit/bit-wise equality\n",
    "$$(q_0 = b_0) \\wedge \\cdots \\wedge (q_{n-1} = b_{n-1})$$\n",
    "\n",
    "In `cirq-ft` this can be accomplished using the `And` gate as `And(cv=bits)` where `bits` are the bits of the classical number.\n",
    "\n",
    "### Quantum-Quantum Case\n",
    "In the quantum-quantum case the equality is still bitwise $$(q_0 = p_0) \\wedge \\cdots \\wedge (q_{n-1} = p_{n-1})$$\n",
    "\n",
    "This is the same as the and $$(q_0 \\oplus p_0 = 0) \\wedge \\cdots \\wedge (q_{n-1}\\oplus p_{n-1} = 0)$$\n",
    "\n",
    "Where $\\oplus$ is the binary xor operation. This allows us to use `qualtran`'s `And` on the result of the xor."
   ]
  },
  {
   "cell_type": "code",
   "execution_count": null,
   "metadata": {},
   "outputs": [],
   "source": [
    "from typing import Sequence\n",
    "\n",
    "import cirq\n",
    "from qualtran.cirq_interop.t_complexity_protocol import t_complexity\n",
    "from qualtran.bloqs.mcmt import And, MultiAnd"
   ]
  },
  {
   "cell_type": "code",
   "execution_count": null,
   "metadata": {
    "id": "AAKDUijqrmEG"
   },
   "outputs": [],
   "source": [
    "def equality_oracle_quantum_classical(B: int, A: Sequence[cirq.Qid], z: cirq.Qid) -> cirq.OP_TREE:\n",
    "    # Returns a decomposition of the oracle O_B |A>|z> = |A>|z^(A == B)> in only 4n T operations.\n",
    "    bits = list(reversed([(B >> i) & 1 for i in range(len(A))]))\n",
    "\n",
    "    ancilla = cirq.NamedQubit.range(len(bits) - 1, prefix='ancilla')\n",
    "    yield MultiAnd(cvs=bits).on(\n",
    "        *A, *ancilla\n",
    "    )  # `ancilla[-1]` now has the result of equality. uses 4n T operations.\n",
    "\n",
    "    yield cirq.CNOT(ancilla[-1], z)  # update result qubit.\n",
    "\n",
    "    yield MultiAnd(cvs=bits).adjoint().on(\n",
    "        *A, *ancilla\n",
    "    )  # Restore the qubits to their original states."
   ]
  },
  {
   "cell_type": "markdown",
   "metadata": {},
   "source": [
    "As an example, we construct the equality gate for checking if a 3-qubit register is equal to 5. First, we print the decomposition of the gate followed by the result of running the gate on each of the 8 possibilities individually and finally the result of running the gate on the uniform superposition of all 8 possibilities."
   ]
  },
  {
   "cell_type": "code",
   "execution_count": null,
   "metadata": {},
   "outputs": [],
   "source": [
    "classical_number = 5  # Classical Number to compare with.\n",
    "quantum_number = cirq.NamedQubit.range(3, prefix='qn')  # The qubit that will hold quantum numbers.\n",
    "z = cirq.NamedQubit('z')  # The qubit that will hold the comparison result.\n",
    "equality_circuit = cirq.Circuit(\n",
    "    equality_oracle_quantum_classical(classical_number, quantum_number, z)\n",
    ")\n",
    "equality_circuit"
   ]
  },
  {
   "cell_type": "code",
   "execution_count": null,
   "metadata": {},
   "outputs": [],
   "source": [
    "# This should have T count of 4*(3 qubits) - 4 = 8\n",
    "t_complexity(equality_circuit)"
   ]
  },
  {
   "cell_type": "code",
   "execution_count": null,
   "metadata": {},
   "outputs": [],
   "source": [
    "# This cell contains helper code to visualize the output.\n",
    "# You can safely skip it.\n",
    "def format_dirac(s: str, n: int, m: int, quantum_classical: bool = False) -> str:\n",
    "    \"\"\"Reformats a dirac vector on as |input qubits|ancilla qubits|result qubit>\"\"\"\n",
    "    if quantum_classical:\n",
    "        return s[: n + 1] + '|' + s[n + 1 : -m - 1] + '|' + s[-m - 1 :]\n",
    "    return s[: n + 1] + '|' + s[n + 1 : 2 * n + 1] + '|' + s[2 * n + 1 : -m - 1] + '|' + s[-m - 1 :]\n",
    "\n",
    "\n",
    "def check_each_possibility(\n",
    "    c, data_qubits, target_qubits, quantum_classical=True, qn: int = classical_number\n",
    "):\n",
    "    sim = cirq.Simulator()\n",
    "    qubit_order = list(data_qubits)\n",
    "    not_ancilla = set(data_qubits + target_qubits)\n",
    "    qubit_order += [q for q in c.all_qubits() if q not in not_ancilla]\n",
    "    qubit_order += target_qubits\n",
    "    n_qubits = len(data_qubits)\n",
    "    if not quantum_classical:\n",
    "        n_qubits >>= 1\n",
    "    for v in range(1 << len(data_qubits)):\n",
    "        bits = [(v >> i) & 1 for i in range(len(data_qubits) - 1, -1, -1)]\n",
    "        bits += (len(qubit_order) - len(data_qubits)) * [0]\n",
    "        result = sim.simulate(c, qubit_order=qubit_order, initial_state=bits)\n",
    "        s = f'final state vector of {v} compared to {qn}'\n",
    "        if not quantum_classical:\n",
    "            msk = (1 << n_qubits) - 1\n",
    "            s = f'final state vector of {v >> n_qubits} compared to {v & msk}'\n",
    "        print(\n",
    "            s,\n",
    "            format_dirac(result.dirac_notation(), n_qubits, len(target_qubits), quantum_classical),\n",
    "        )"
   ]
  },
  {
   "cell_type": "code",
   "execution_count": null,
   "metadata": {},
   "outputs": [],
   "source": [
    "check_each_possibility(equality_circuit, quantum_number, [z])"
   ]
  },
  {
   "cell_type": "markdown",
   "metadata": {},
   "source": [
    "As this is a quantum circuit, it's important to check that it works with superpositions as well. This is why we will check the uniform superposition."
   ]
  },
  {
   "cell_type": "code",
   "execution_count": null,
   "metadata": {},
   "outputs": [],
   "source": [
    "# This cell contains helper code to visualize the output.\n",
    "# You can safely skip it.\n",
    "def check_uniform_superposition(c, data_qubits, target_qubits, quantum_classical: bool = True):\n",
    "    if quantum_classical:\n",
    "        n_qubits = len(data_qubits)\n",
    "    else:\n",
    "        n_qubits = len(data_qubits) // 2\n",
    "    c = cirq.Circuit(cirq.H.on_each(data_qubits) + [c])\n",
    "    sim = cirq.Simulator()\n",
    "    qubit_order = list(data_qubits)\n",
    "    qubit_order += [q for q in c.all_qubits() if q not in qubit_order + target_qubits]\n",
    "    qubit_order += target_qubits\n",
    "    result = sim.simulate(c, qubit_order=qubit_order)\n",
    "    result = result.dirac_notation()\n",
    "    final = []\n",
    "    for s in result.split('|'):\n",
    "        if '⟩' not in s:\n",
    "            final.append(s)\n",
    "            continue\n",
    "        parts = s.split('⟩')\n",
    "        parts[0] = format_dirac(\n",
    "            '|' + parts[0] + '⟩', n_qubits, len(target_qubits), quantum_classical\n",
    "        )\n",
    "        final.append(''.join(parts))\n",
    "    print('Acting on the uniform superposition of all states we get:')\n",
    "    print('\\t', ''.join(final))"
   ]
  },
  {
   "cell_type": "code",
   "execution_count": null,
   "metadata": {},
   "outputs": [],
   "source": [
    "check_uniform_superposition(equality_circuit, quantum_number, [z])"
   ]
  },
  {
   "cell_type": "markdown",
   "metadata": {},
   "source": [
    "And for the quantum-quantum case, we have."
   ]
  },
  {
   "cell_type": "code",
   "execution_count": null,
   "metadata": {},
   "outputs": [],
   "source": [
    "def equality_oracle_quantum_quantum(\n",
    "    A: Sequence[cirq.Qid], B: Sequence[cirq.Qid], z: cirq.Qid\n",
    ") -> cirq.OP_TREE:\n",
    "    # Returns a decomposition of the oracle O |A>|B>|z> = |A>|B>|z^(A == B)> in only 4n T operations.\n",
    "\n",
    "    ancilla = cirq.NamedQubit.range(len(A) - 1, prefix='ancilla')\n",
    "    yield cirq.CNOT.on_each(zip(A, B))  # Store the bitwise xor in B.\n",
    "    \n",
    "    assert len(B) >= 2\n",
    "    andop = MultiAnd(cvs=(0,) * len(B)) if len(B) >= 3 else And(0, 0)\n",
    "    \n",
    "    yield andop.on( *B, *ancilla)  # `ancilla[-1]` now has the result of equality. uses 4n T operations.\n",
    "\n",
    "    yield cirq.CNOT(ancilla[-1], z)  # update result qubit.\n",
    "\n",
    "    yield andop.adjoint().on(*B, *ancilla)  # Reverse the And operation.\n",
    "\n",
    "    yield cirq.CNOT.on_each(zip(A, B))  # Restore the qubits to their original states."
   ]
  },
  {
   "cell_type": "markdown",
   "metadata": {},
   "source": [
    "As we did before we construct the gate to compare two 2-qubit numbers. First, we print the decomposition of the gate followed by the result of running the gate on each of the 16 possibilities individually and finally the result of running the gate on the uniform superposition of all 16 possibilities."
   ]
  },
  {
   "cell_type": "code",
   "execution_count": null,
   "metadata": {},
   "outputs": [],
   "source": [
    "first_quantum_number = cirq.NamedQubit.range(\n",
    "    2, prefix='P'\n",
    ")  # The qubit that will hold quantum numbers.\n",
    "second_quantum_number = cirq.NamedQubit.range(\n",
    "    2, prefix='Q'\n",
    ")  # The qubit that will hold quantum numbers.\n",
    "quantum_quantum_equality = cirq.Circuit(\n",
    "    equality_oracle_quantum_quantum(first_quantum_number, second_quantum_number, z)\n",
    ")\n",
    "quantum_quantum_equality"
   ]
  },
  {
   "cell_type": "code",
   "execution_count": null,
   "metadata": {},
   "outputs": [],
   "source": [
    "# This should have T count of 4*(2 qubits) - 4 = 4\n",
    "t_complexity(quantum_quantum_equality)"
   ]
  },
  {
   "cell_type": "code",
   "execution_count": null,
   "metadata": {},
   "outputs": [],
   "source": [
    "# Now we check individual possibilities.\n",
    "check_each_possibility(\n",
    "    quantum_quantum_equality,\n",
    "    first_quantum_number + second_quantum_number,\n",
    "    [z],\n",
    "    quantum_classical=False,\n",
    ")"
   ]
  },
  {
   "cell_type": "code",
   "execution_count": null,
   "metadata": {},
   "outputs": [],
   "source": [
    "# Finally we check the uniform superposition.\n",
    "check_uniform_superposition(\n",
    "    quantum_quantum_equality,\n",
    "    first_quantum_number + second_quantum_number,\n",
    "    [z],\n",
    "    quantum_classical=False,\n",
    ")"
   ]
  },
  {
   "cell_type": "markdown",
   "metadata": {},
   "source": [
    "Notice that the ancilla qubit are always clean at the end of execution and that the input qubits are not affected"
   ]
  },
  {
   "cell_type": "markdown",
   "metadata": {},
   "source": [
    "## Definition of the Comparison Operator\n",
    "\n",
    "Before we proceed let's formally define the the operator we want to implement. The operator is the less-than-operator. We chose to focus on this case since the $\\leq$ and greater than cases differ by only Clifford operations. \n",
    "\n",
    "There are two versions of this operator. The first is the quantum-quantum case where we compare two-qubit register $\\ket{p}$ and $\\ket{q}$ and store the result in qubit $z$.\n",
    "$$\\hat{O}\\ket{p}\\ket{q}\\ket{z} = \\ket{p}\\ket{q}\\ket{z \\oplus (p < q)}$$\n",
    "\n",
    "The second is the quantum-classical case, where we compare a quantum register $\\ket{p}$ to classical number $v$ (i.e. string of bits)\n",
    "$$\\hat{O}_v\\ket{p}\\ket{z} = \\ket{p}\\ket{z \\oplus (p < v)}$$\n"
   ]
  },
  {
   "cell_type": "markdown",
   "metadata": {},
   "source": [
    "## The Quantum-Quantum Comparator $8n + \\mathcal{O}(1)$ T gates\n",
    "For this case, the optimal decomposition in T count with logarithmic depth was proposed by [Berry et al., 2018](https://doi.org/10.1038/s41534-018-0071-5) and has $8n + \\mathcal{O}(1)$ T complexity. This decomposition leverages the divide and conquer technique and builds a binary tree of depth $\\log_2{(n)}$ whose leaves are the qubits of the numbers with intermediate values stored in $\\mathcal{O}(n)$ ancillas. Each non-leaf node uses two CSWAP operations and the value of the comparison is computed from the root node using one Toffoli. \n",
    "\n",
    "Before we get into the implementation detail of this gate we will discuss two special cases $n=1$ and $n=2$ because as we will see later the general case is built out of these cases."
   ]
  },
  {
   "cell_type": "markdown",
   "metadata": {},
   "source": [
    "### $n = 1$ Case\n",
    "\n",
    "Given 2 qubits, we would like a way to represent the three cases of equality, less than, greater than in a reversible way. This can be done using two extra qubits `less_than` and `greater_than` which will hold the less than and greater than while equality will be held in the second operand (qubit). In other words implementing the operator\n",
    "$$\\hat{O} \\ket{p}\\ket{q}\\ket{0}\\ket{0} \\rightarrow \\ket{p}\\ket{p=q} \\ket{p < q} \\ket{p > q}$$\n",
    "\n",
    "Note that this is different from our original goal to compute $$\\hat{O}\\ket{p}\\ket{q}\\ket{z} = \\ket{p}\\ket{q}\\ket{z \\oplus (p < q)}$$However our goal can be computed from this operator using a `CNOT` with its control being the first ancilla and its target being qubit $z$."
   ]
  },
  {
   "cell_type": "code",
   "execution_count": null,
   "metadata": {},
   "outputs": [],
   "source": [
    "def single_qubit_compare(\n",
    "    p: cirq.Qid, q: cirq.Qid, lz: cirq.Qid, less_than: cirq.Qid, greater_than: cirq.Qid\n",
    ") -> cirq.OP_TREE:\n",
    "    anc = cirq.NamedQubit.range(2, prefix='anc')\n",
    "    # The case p < q happens only when\n",
    "    # p=0 and y=1 so it's simply a controlled-controlled-not.\n",
    "    yield cirq.X(p)  # Flip p\n",
    "    yield cirq.CCNOT(p, q, anc[0])\n",
    "    yield cirq.X(p)  # Restore p\n",
    "\n",
    "    # The case p = q happens only when the xor sum is zero.\n",
    "\n",
    "    yield cirq.CNOT(p, q)  # Store xor sum in q.\n",
    "    yield cirq.X(q)  # Flip q.\n",
    "\n",
    "    # The case p > q can be done in the same manner as the first case,\n",
    "    # however we don't need to since it's simply not equality and\n",
    "    # not less than. This saves us the cost of one CCNOT gate (i.e. Toffoli gate = 4 T gates)\n",
    "    yield cirq.X(anc[1])  # Initial belief is that p > q\n",
    "    yield cirq.CNOT(q, anc[1])  # But not if p=q\n",
    "    yield cirq.CNOT(anc[0], anc[1])  # OR if p < q.\n",
    "\n",
    "    yield cirq.CNOT(anc[0], less_than)\n",
    "    yield cirq.CNOT(q, z)\n",
    "    yield cirq.CNOT(anc[1], greater_than)\n",
    "\n",
    "    # Undo changes done the data and ancilla qubits.\n",
    "    yield cirq.CNOT(anc[0], anc[1])\n",
    "    yield cirq.CNOT(q, anc[1])\n",
    "    yield cirq.X(anc[1])\n",
    "    yield cirq.X(q)\n",
    "    yield cirq.CNOT(p, q)\n",
    "    yield cirq.X(p)\n",
    "    yield cirq.CCNOT(p, q, anc[0])\n",
    "    yield cirq.X(p)"
   ]
  },
  {
   "cell_type": "code",
   "execution_count": null,
   "metadata": {},
   "outputs": [],
   "source": [
    "less_than = cirq.NamedQubit('less_than')\n",
    "greater_than = cirq.NamedQubit('greater_than')\n",
    "single_qubit_compare_circuit = cirq.Circuit(\n",
    "    single_qubit_compare(\n",
    "        first_quantum_number[0], second_quantum_number[0], z, less_than, greater_than\n",
    "    )\n",
    ")\n",
    "single_qubit_compare_circuit"
   ]
  },
  {
   "cell_type": "code",
   "execution_count": null,
   "metadata": {},
   "outputs": [],
   "source": [
    "# Now we check individual possibilities.\n",
    "# The output for this and the following circuits\n",
    "# will be three qubits in the order [less_than, equal, greater_than]\n",
    "check_each_possibility(\n",
    "    single_qubit_compare_circuit,\n",
    "    [first_quantum_number[0], second_quantum_number[0]],\n",
    "    [less_than, z, greater_than],\n",
    "    quantum_classical=False,\n",
    ")"
   ]
  },
  {
   "cell_type": "code",
   "execution_count": null,
   "metadata": {},
   "outputs": [],
   "source": [
    "check_uniform_superposition(\n",
    "    single_qubit_compare_circuit,\n",
    "    [first_quantum_number[0], second_quantum_number[0]],\n",
    "    [less_than, z, greater_than],\n",
    "    quantum_classical=False,\n",
    ")"
   ]
  },
  {
   "cell_type": "markdown",
   "metadata": {},
   "source": [
    "A slightly different circuit is given in the paper which we implemented in `qualtran` as `SingleQubitCompare` and has a cost of only one CCNOT (i.e. Toffoli = 4T).\n",
    "\n",
    "`SingleQubitCompare` is implemented using measurement-based uncomputation so that its adjoint has a T count of zero."
   ]
  },
  {
   "cell_type": "markdown",
   "metadata": {},
   "source": [
    "### $n=2$ Case\n",
    "In this case the two qubit numbers $P$ and $Q$ can be written as\n",
    "$$\n",
    "P = 2*p_1 + p_0\\\\\n",
    "Q = 2*q_1 + q_0\n",
    "$$\n",
    "\n",
    "We will do this in two steps. First we update qubits such that $\\mathrm{sign}(P - Q) = \\mathrm{sign}(p_0^f - q_0^f)$ where $p_0^f$ and $q_0^f$ are the final values of $p_0$ and $q_0$ respectively. This way the comparison result between the two numbers can be extracted using `SingleQubitCompare` applied on $p_0^f$ and $q_0^f$.\n",
    "\n",
    "Notice that if $p_1 = q_1$ then we don't need to do anything since $p_0$ and $q_0$ are already in the required state, but when $p_1 \\neq q_1$ then all we need to do is to swap the qubits of each number since the result of comparing $P$ and $Q$ is the same as comparing $p_1$ and $q_1$. "
   ]
  },
  {
   "cell_type": "code",
   "execution_count": null,
   "metadata": {},
   "outputs": [],
   "source": [
    "def bi_qubit_mixer(P, Q) -> cirq.OP_TREE:\n",
    "    p_1, p_0 = P\n",
    "    q_1, q_0 = Q\n",
    "    ancilla = cirq.NamedQubit('anc')\n",
    "    yield cirq.CNOT(p_1, ancilla)\n",
    "    yield cirq.CNOT(q_1, ancilla)  # Now ancilla has p_1 != q_1\n",
    "    # SWAP iff p_1 != q_1 => ancilla = 1.\n",
    "    yield cirq.CSWAP(ancilla, p_1, p_0)\n",
    "    yield cirq.CSWAP(ancilla, q_1, q_0)"
   ]
  },
  {
   "cell_type": "markdown",
   "metadata": {},
   "source": [
    "In  [Berry et al., 2018](https://doi.org/10.1038/s41534-018-0071-5) the circuit that does the first step is called `COMPARE2` (FIG. 1 in the supplementary materials) and we implemented it in `qualtran` as `BiQubitsMixer`. This circuit is different from the simple circuit above. Yet both are equivalent as we will see below with this circuit having a smaller number of Clifford operations.\n",
    "\n",
    "Each of the CSWAP operations has a T count of 4. We again utilized measurement-based uncomputation so that the adjoint of `BiQubitsMixer` has zero T count."
   ]
  },
  {
   "cell_type": "code",
   "execution_count": null,
   "metadata": {},
   "outputs": [],
   "source": [
    "from qualtran.bloqs.arithmetic import SingleQubitCompare, BiQubitsMixer\n",
    "\n",
    "def compare_two(\n",
    "    P: Sequence[cirq.Qid], Q: Sequence[cirq.Qid], equal, less_than, greater_than\n",
    ") -> cirq.OP_TREE:\n",
    "    # Put the qubits in little-endian order.\n",
    "    P = P[::-1]\n",
    "    Q = Q[::-1]\n",
    "\n",
    "    xor = cirq.NamedQubit('xor')\n",
    "    yield cirq.CNOT(P[1], xor)\n",
    "    yield cirq.CNOT(Q[1], xor)  # Has the p_1^q_1 which is 1 iff p_1 != q_1.\n",
    "    # SWAP iff p_1 != q_1 => xor = 1.\n",
    "    yield cirq.CSWAP(xor, *P)\n",
    "    yield cirq.CSWAP(xor, *Q)\n",
    "\n",
    "    anc = cirq.NamedQubit.range(2, prefix='anc')\n",
    "    yield SingleQubitCompare()(P[0], Q[0], *anc)\n",
    "\n",
    "    yield cirq.CNOT(anc[0], less_than)\n",
    "    yield cirq.CNOT(Q[0], equal)\n",
    "    yield cirq.CNOT(anc[1], greater_than)\n",
    "\n",
    "    # Undo changes made to the data qubits.\n",
    "    yield SingleQubitCompare().adjoint().on(P[0], Q[0], *anc)\n",
    "    yield cirq.CSWAP(xor, *Q)\n",
    "    yield cirq.CSWAP(xor, *P)\n",
    "    yield cirq.CNOT(Q[1], xor)\n",
    "    yield cirq.CNOT(P[1], xor)\n",
    "\n",
    "\n",
    "compare_two_circuit = cirq.Circuit(\n",
    "    compare_two(first_quantum_number, second_quantum_number, z, less_than, greater_than)\n",
    ")\n",
    "compare_two_circuit"
   ]
  },
  {
   "cell_type": "code",
   "execution_count": null,
   "metadata": {},
   "outputs": [],
   "source": [
    "# Now we check individual possibilities.\n",
    "check_each_possibility(\n",
    "    compare_two_circuit,\n",
    "    first_quantum_number + second_quantum_number,\n",
    "    [less_than, z, greater_than],\n",
    "    quantum_classical=False,\n",
    ")"
   ]
  },
  {
   "cell_type": "code",
   "execution_count": null,
   "metadata": {},
   "outputs": [],
   "source": [
    "check_uniform_superposition(\n",
    "    compare_two_circuit,\n",
    "    first_quantum_number + second_quantum_number,\n",
    "    [less_than, z, greater_than],\n",
    "    quantum_classical=False,\n",
    ")"
   ]
  },
  {
   "cell_type": "markdown",
   "metadata": {},
   "source": [
    "Now notice that for $n > 2$ we can group the qubits in $\\frac{n}{2}$ pairs and use our COMPARE2 circuit to compare them, in other words:\n",
    "$$\n",
    "   \\textit{Compare2}((P_0, P_1), (Q_0, Q_1)), \\cdots, \\textit{Compare2}((P_{n-2}, P_{n-1}), (Q_{n-2}, Q_{n-1}))\n",
    "$$\n",
    "\n",
    "The comparison result of the original sequences $P$ and $Q$ of length $n$ is preserved in this $\\frac{n}{2}$ sequence.\n",
    "\n",
    "Doing this $\\log_2{n}$ times gives a circuit that has a tree structure (FIG. 2 of the supplementary materials of [Berry et al., 2018](https://doi.org/10.1038/s41534-018-0071-5)) of depth $\\log_2{n}$ where each layer/depth contains independent operations. So the circuit has logarithmic depth.\n",
    "\n",
    "Note that as in the case of 2 qubits, we still need a final `SingleQubitCompare` operation to extract the result."
   ]
  },
  {
   "cell_type": "code",
   "execution_count": null,
   "metadata": {},
   "outputs": [],
   "source": [
    "def quantum_quantum_comparator(\n",
    "    A: Sequence[cirq.Qid],\n",
    "    B: Sequence[cirq.Qid],\n",
    "    z: cirq.Qid,\n",
    "    less_than: cirq.Qid,\n",
    "    greater_than: cirq.Qid,\n",
    "):\n",
    "    adjoint = []\n",
    "    anc_cnt = 0\n",
    "\n",
    "    def build_tree(A: Sequence[cirq.Qid], B: Sequence[cirq.Qid]) -> cirq.OP_TREE:\n",
    "        nonlocal adjoint, anc_cnt\n",
    "        if len(A) <= 1:\n",
    "            return\n",
    "        if len(A) == 2:\n",
    "            anc = [cirq.NamedQubit(f'anc_{i+anc_cnt}') for i in range(3)]\n",
    "            anc_cnt += 3\n",
    "            op = BiQubitsMixer().on_registers(x=A, y=B, ancilla=anc)\n",
    "            yield op\n",
    "            adjoint.append(op**-1)\n",
    "            return\n",
    "        m = len(A) >> 1\n",
    "        yield from build_tree(A[:m], B[:m])\n",
    "        yield from build_tree(A[m:], B[m:])\n",
    "\n",
    "        anc = [cirq.NamedQubit(f'anc_{i+anc_cnt}') for i in range(3)]\n",
    "        anc_cnt += 3\n",
    "        op = BiQubitsMixer().on_registers(\n",
    "            x=(A[m - 1], A[-1]), y=(B[m - 1], B[-1]), ancilla=anc\n",
    "        )\n",
    "        yield op\n",
    "        adjoint.append(op**-1)\n",
    "\n",
    "    # Build Tree\n",
    "    yield from build_tree(A, B)\n",
    "\n",
    "    # Add the final SingleQubitCompare\n",
    "    anc = [cirq.NamedQubit(f'anc_{i+anc_cnt}') for i in range(2)]\n",
    "    anc_cnt += 2\n",
    "    op = SingleQubitCompare()(A[-1], B[-1], *anc)\n",
    "    yield op\n",
    "\n",
    "    # Update result qubits.\n",
    "    yield cirq.CNOT(anc[0], less_than)\n",
    "    yield cirq.CNOT(B[-1], z)\n",
    "    yield cirq.CNOT(anc[1], greater_than)\n",
    "\n",
    "    # Undo changes made to data and ancilla qubits.\n",
    "    yield op**-1\n",
    "    yield from reversed(adjoint)\n",
    "\n",
    "\n",
    "P = cirq.NamedQubit.range(3, prefix='p_')\n",
    "Q = cirq.NamedQubit.range(3, prefix='q_')\n",
    "quantum_compare = cirq.Circuit(quantum_quantum_comparator(P, Q, z, less_than, greater_than))\n",
    "quantum_compare"
   ]
  },
  {
   "cell_type": "code",
   "execution_count": null,
   "metadata": {},
   "outputs": [],
   "source": [
    "# This should have T count of 8*(3 qubits) - 4 = 20\n",
    "t_complexity(quantum_compare)"
   ]
  },
  {
   "cell_type": "code",
   "execution_count": null,
   "metadata": {},
   "outputs": [],
   "source": [
    "# Now we check individual possibilities.\n",
    "# Note it's a bit slow to simulate the 64 possibilities.\n",
    "run_check = False  # Change this to True to run the check.\n",
    "if run_check:\n",
    "    check_each_possibility(\n",
    "        quantum_compare, P + Q, [less_than, z, greater_than], quantum_classical=False\n",
    "    )"
   ]
  },
  {
   "cell_type": "code",
   "execution_count": null,
   "metadata": {},
   "outputs": [],
   "source": [
    "check_uniform_superposition(\n",
    "    quantum_compare, P + Q, [less_than, z, greater_than], quantum_classical=False\n",
    ")"
   ]
  },
  {
   "cell_type": "markdown",
   "metadata": {},
   "source": [
    "### T Complexity Analysis\n",
    "\n",
    "The tree from above has $n-1$ nodes. Each of these nodes does a `BiQubitsMixer` and its adjoint gives a T count of $8 + 0 = 8$ per node. The final step is a `SingleQubitCompare` which has a T count of $4 + 0 = 4$. This gives a total of $8(n-1) + 4 = 8n-4$ T operations.\n",
    "\n",
    "Note that the adjoints of `SingleQubitCompare` and `BiQubitsMixer` have zero T count as discussed above."
   ]
  },
  {
   "cell_type": "markdown",
   "metadata": {},
   "source": [
    "## $\\mathcal{O}(6n)$ Quantum-Classical Comparator with logarithmic depth\n",
    "\n",
    "We can use the tree structure we have for this case to achieve the desired depth. However, we need a new version of `BiQubitsMixer` that expects just one quantum number with the other being classical. This new version will have the advantage of processing a classical number so it can tweak its structure to reduce its T count.\n",
    "\n",
    "Notice that our original `BiQubitsMixer` has two `CSWAP` operations with one of them swapping the two qubits of $Q$ but in our case, $Q$ is just a classical number and the CSWAP operation degenerates into either identity when the two bits of the numbers are equal (e.g. $Q \\in \\{0, 3\\}$) or a CNOT when they are different (e.g. $Q \\in \\{1, 2\\}$). This reduces the T count by half going from 8 to 4."
   ]
  },
  {
   "cell_type": "code",
   "execution_count": null,
   "metadata": {},
   "outputs": [],
   "source": [
    "def quantum_classical_mixer(P: Sequence[cirq.Qid], Q: int):\n",
    "    P = P[::-1]\n",
    "    ancilla = cirq.NamedQubit('ancilla')\n",
    "\n",
    "    # Create the qubit that will represent Q.\n",
    "    qubit_for_q = cirq.NamedQubit('q')\n",
    "\n",
    "    operations = []\n",
    "\n",
    "    q_0 = Q & 1  # The 0th bit of Q.\n",
    "    q_1 = (Q >> 1) & 1  # The 1s bit of Q.\n",
    "\n",
    "    # Copy q_0 to `qubit_for_q`\n",
    "    if q_0:\n",
    "        operations.append(cirq.X(qubit_for_q))\n",
    "\n",
    "    # Store the xor of p_1 and q_1 into ancilla\n",
    "    operations.append(cirq.CNOT(P[1], ancilla))\n",
    "    if q_1:\n",
    "        operations.append(cirq.X(ancilla))\n",
    "\n",
    "    # Do CSWAP on `P`\n",
    "    cswap_ancilla = cirq.NamedQubit('cswap_ancilla')\n",
    "    operations.append(cirq.CNOT(*P))\n",
    "    operations.append(And()(ancilla, P[1], cswap_ancilla))\n",
    "    operations.append(cirq.CNOT(cswap_ancilla, P[0]))\n",
    "    operations.append(cirq.CNOT(*P))\n",
    "\n",
    "    # Second CSWAP collapses to either identity or CNOT.\n",
    "    if q_0 != q_1:\n",
    "        operations.append(cirq.CNOT(ancilla, qubit_for_q))\n",
    "\n",
    "    return operations, qubit_for_q"
   ]
  },
  {
   "cell_type": "code",
   "execution_count": null,
   "metadata": {},
   "outputs": [],
   "source": [
    "# For example when Q = 2 this is what the circuit looks like.\n",
    "circuit, q = quantum_classical_mixer(first_quantum_number, 2)\n",
    "circuit = cirq.Circuit(circuit)\n",
    "circuit"
   ]
  },
  {
   "cell_type": "code",
   "execution_count": null,
   "metadata": {},
   "outputs": [],
   "source": [
    "# Now let's add SingleQubitCompare and build the full comparator.\n",
    "def quantum_classical_comparator_logn(\n",
    "    P: Sequence[cirq.Qid], Q: int, z: cirq.Qid, less_than: cirq.Qid, greater_than: cirq.Qid\n",
    "):\n",
    "    mixer, q = quantum_classical_mixer(P, Q)\n",
    "    yield mixer\n",
    "    anc = cirq.NamedQubit.range(2, prefix='anc')\n",
    "    yield SingleQubitCompare()(P[1], q, *anc)\n",
    "\n",
    "    yield cirq.CNOT(anc[0], less_than)\n",
    "    yield cirq.CNOT(q, z)\n",
    "    yield cirq.CNOT(anc[-1], greater_than)\n",
    "\n",
    "    yield SingleQubitCompare().adjoint().on(P[1], q, *anc)\n",
    "    yield from reversed([op**-1 for op in mixer])\n",
    "\n",
    "\n",
    "q_n = 2\n",
    "circuit = cirq.Circuit(\n",
    "    quantum_classical_comparator_logn(first_quantum_number, q_n, z, less_than, greater_than)\n",
    ")\n",
    "circuit"
   ]
  },
  {
   "cell_type": "code",
   "execution_count": null,
   "metadata": {},
   "outputs": [],
   "source": [
    "# This should have T complexity of 6*(2 qubits) + O(1)\n",
    "t_complexity(circuit)"
   ]
  },
  {
   "cell_type": "code",
   "execution_count": null,
   "metadata": {},
   "outputs": [],
   "source": [
    "# Now we check individual possibilities.\n",
    "check_each_possibility(circuit, first_quantum_number, [less_than, z, greater_than], qn=q_n)"
   ]
  },
  {
   "cell_type": "code",
   "execution_count": null,
   "metadata": {},
   "outputs": [],
   "source": [
    "check_uniform_superposition(circuit, first_quantum_number, [less_than, z, greater_than])"
   ]
  },
  {
   "cell_type": "markdown",
   "metadata": {},
   "source": [
    "#### T Complexity Analysis\n",
    "\n",
    "Now that we have our `quantum_classical_mixer` we can use it in our tree. However, we can't use it except at the last layer of the tree (leaf nodes), since that's the only layer that sees the classical number. This means that only this layer can benefit from the classical information. The number of nodes in this layer is $\\frac{n-1}{2}$ since this is a binary tree with $n-1$ nodes.\n",
    "\n",
    "Putting all of it together we get 4T for the $\\frac{n-1}{2}$ leaf nodes, 8T for the $\\frac{n-1}{2}$ internal nodes, 4T for the final `SingleQubitCompare` or\n",
    "\n",
    "$$4 \\frac{n-1}{2} + 8\\frac{n-1}{2} + 4 = 6n + \\mathcal{O}(1)$$\n",
    "\n",
    "Where the constant ($\\approx -2$) depends only on the parity of $n$."
   ]
  },
  {
   "cell_type": "markdown",
   "metadata": {
    "id": "q8Zyy7SVtnxo"
   },
   "source": [
    "## Bonus: The quantum-classical comparator with $4n + \\mathcal{O}(1)$ T gates and linear depth\n",
    "\n",
    "### Inspiration\n",
    "\n",
    "[Berry et al., 2019](https://doi.org/10.48550/arXiv.1902.02134) reduced the problem to subtraction, we however take a different approach. Note that comparing two numbers of equal size is the same finding which of them is lexicographically smaller. This problem is usually solved sequentially and is essentially a finite state machine of $n + 3$ states each having two transitions. The result is an almost identical decomposition (up to Clifford operations) with the same T complexity.\n",
    "\n",
    "More concretely, consider how C/C++ [std::strcmp](https://en.cppreference.com/w/cpp/string/byte/strcmp) compares two sequences $A$ and $B$ of equal length $n$. The function scans the sequences from left to right until the first index $i^*$ where they differ and returns $A_{i^*} < B_{i^*}$.\n",
    "\n",
    "Implicitly this algorithm has $n + 3$ states $\\{e_0, \\ldots, e_n\\} \\cup \\{L, R\\}$ where being in the $e_k$ state means the prefixes of length $k$ are equal. with transitions being the states governed by:\n",
    "\n",
    "\\begin{equation}\n",
    "\\begin{split}\n",
    "    e_k \\rightarrow e_{k+1} \\textit{ if } u_k = v_k \\\\\n",
    "    e_k \\rightarrow L \\textit{ if } u_k < v_k \\\\\n",
    "    e_k \\rightarrow R \\textit{ if } u_k > v_k \\\\\n",
    "\\end{split}\n",
    "\\end{equation}\n",
    "\n",
    "When the result of comparison between individual indices becomes probabilistic these states form a Markov decision process with three terminal states $\\{L, e_n, R\\}$. This gives us inspiration for a new implementation.\n",
    "\n",
    "### Algorithm\n",
    "We start by allocating $n+1$ qubits representing the $e_0, \\ldots, e_n$ states and then scan the qubit register and number from left to right.\n",
    "\n",
    "if the current bit is zero then we only need to compute the $e_k \\rightarrow e_{k+1}$ transition since the qubit can't be less than zero. otherwise, we need to compute the transition as well as the $e_k → L$ transition."
   ]
  },
  {
   "cell_type": "code",
   "execution_count": null,
   "metadata": {
    "id": "XCdnBGwzwqK7"
   },
   "outputs": [],
   "source": [
    "def less_than(B: int, A: Sequence[cirq.Qid], z: cirq.Qid) -> cirq.OP_TREE:\n",
    "    # Returns a decomposition of the oracle O_B |A>z> = |A>|z^(A < B)> in only 4n T operations.\n",
    "    bits = [(B >> i) & 1 for i in range(len(A) - 1, -1, -1)]\n",
    "\n",
    "    adjoint = []\n",
    "\n",
    "    es = cirq.NamedQubit.range(len(A) + 1, prefix='e_')\n",
    "    ek = es.pop(0)\n",
    "\n",
    "    # Initially we believe that the numbers are equal.\n",
    "    yield cirq.X(ek)\n",
    "    adjoint.append(cirq.X(ek))\n",
    "\n",
    "    for q, b, ekp1 in zip(A, bits, es):\n",
    "        if b:\n",
    "            yield cirq.X(q)\n",
    "            adjoint.append(cirq.X(q))\n",
    "\n",
    "            # Temporarily hold e_k and not q\n",
    "            yield And().on(q, ek, ekp1)\n",
    "            adjoint.append(And().adjoint().on(q, ek, ekp1))\n",
    "\n",
    "            # e_{k+1} currently has are_equal so far and (q != b)\n",
    "            # which is equivalent to: Is the current prefix of the qubits < the prefix of B and the previous prefix equal?\n",
    "            yield cirq.CNOT(ekp1, z)\n",
    "\n",
    "            yield cirq.CNOT(ek, ekp1)  # Now e_{k+1} has the prefix equality.\n",
    "            adjoint.append(cirq.CNOT(ek, ekp1))\n",
    "        else:\n",
    "            # e_{k+1} = e_k and not q\n",
    "            yield And(1, 0).on(ek, q, ekp1)\n",
    "            adjoint.append(And(1, 0).adjoint().on(ek, q, ekp1))\n",
    "\n",
    "        ek = ekp1\n",
    "\n",
    "    yield from reversed(adjoint)"
   ]
  },
  {
   "cell_type": "markdown",
   "metadata": {},
   "source": [
    "As we did before we construct the less than gate for checking if a 3 registers are less than 5. First, we print the decomposition of the gate followed by the result of running the gate on each of 8 possiblities individually and finally the result of running the gate on the uniform superposition of all 8 possibilities."
   ]
  },
  {
   "cell_type": "code",
   "execution_count": null,
   "metadata": {},
   "outputs": [],
   "source": [
    "less_than_circuit = cirq.Circuit(less_than(classical_number, quantum_number, z))\n",
    "less_than_circuit"
   ]
  },
  {
   "cell_type": "code",
   "execution_count": null,
   "metadata": {},
   "outputs": [],
   "source": [
    "# T count should be 4*(3 qubits) = 12\n",
    "t_complexity(less_than_circuit)"
   ]
  },
  {
   "cell_type": "code",
   "execution_count": null,
   "metadata": {},
   "outputs": [],
   "source": [
    "# Now we check individual possibilities.\n",
    "check_each_possibility(less_than_circuit, quantum_number, [z])"
   ]
  },
  {
   "cell_type": "code",
   "execution_count": null,
   "metadata": {},
   "outputs": [],
   "source": [
    "# Finally we check the uniform superposition.\n",
    "check_uniform_superposition(less_than_circuit, quantum_number, [z])"
   ]
  },
  {
   "cell_type": "markdown",
   "metadata": {},
   "source": [
    "And as before, notice that the ancilla qubits are always clean at the end of execution and that the input qubits are not affected."
   ]
  },
  {
   "cell_type": "markdown",
   "metadata": {
    "id": "qa-90pTK0Spu"
   },
   "source": [
    "## Improving the constant\n",
    "\n",
    "The implementation above has a T complexity of exactly $4n$ since there are exactly $n$ And gates each uses $4$ Ts. Note however that the first of them is not needed since one of its inputs is in the $\\ket{1}$ state so it collapses to either identity or `cirq.X` depending on the most significant bit of $B$. This gives a T complexity of $4(n-1) = 4n - 4$."
   ]
  },
  {
   "cell_type": "markdown",
   "metadata": {},
   "source": [
    "## Citation\n",
    "\n",
    "```\n",
    "@article{Noureldin_2023,\n",
    "\tdoi = {10.5281/zenodo.8384491},\n",
    "\turl = {https://doi.org/10.5281/zenodo.8384491},  \n",
    "\tyear = 2023,\n",
    "\tauthor = {Noureldin Yosri},  \n",
    "\ttitle = {T Complexity Of Comparison Gates},\n",
    "}\n",
    "```"
   ]
  }
 ],
 "metadata": {
  "colab": {
   "provenance": []
  },
  "kernelspec": {
   "display_name": "Python 3 (ipykernel)",
   "language": "python",
   "name": "python3"
  },
  "language_info": {
   "codemirror_mode": {
    "name": "ipython",
    "version": 3
   },
   "file_extension": ".py",
   "mimetype": "text/x-python",
   "name": "python",
   "nbconvert_exporter": "python",
   "pygments_lexer": "ipython3",
   "version": "3.10.9"
  }
 },
 "nbformat": 4,
 "nbformat_minor": 1
}
