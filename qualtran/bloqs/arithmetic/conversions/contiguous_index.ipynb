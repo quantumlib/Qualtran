{
 "cells": [
  {
   "cell_type": "markdown",
   "id": "00b83a3b",
   "metadata": {
    "cq.autogen": "title_cell"
   },
   "source": [
    "# Indexing"
   ]
  },
  {
   "cell_type": "code",
   "execution_count": null,
   "id": "dff756fd",
   "metadata": {
    "cq.autogen": "top_imports"
   },
   "outputs": [],
   "source": [
    "from qualtran import Bloq, CompositeBloq, BloqBuilder, Signature, Register\n",
    "from qualtran import QBit, QInt, QUInt, QAny\n",
    "from qualtran.drawing import show_bloq, show_call_graph, show_counts_sigma\n",
    "from typing import *\n",
    "import numpy as np\n",
    "import sympy\n",
    "import cirq"
   ]
  },
  {
   "cell_type": "markdown",
   "id": "df9965c5",
   "metadata": {
    "cq.autogen": "ToContiguousIndex.bloq_doc.md"
   },
   "source": [
    "## `ToContiguousIndex`\n",
    "Build a contiguous register s from mu and nu.\n",
    "\n",
    "$$\n",
    "    s = \\nu (\\nu + 1) / 2 + \\mu\n",
    "$$\n",
    "\n",
    "Assuming nu is zero indexed (in contrast to the THC paper which assumes 1,\n",
    "hence the slightly different formula).\n",
    "\n",
    "#### Parameters\n",
    " - `bitsize`: number of bits for mu and nu registers.\n",
    " - `s_bitsize`: Number of bits for contiguous register. \n",
    "\n",
    "#### Registers\n",
    " - `mu`: input register\n",
    " - `nu`: input register\n",
    " - `s`: output contiguous register \n",
    "\n",
    "#### References\n",
    " - [Even more efficient quantum computations of chemistry through tensor hypercontraction](https://arxiv.org/pdf/2011.03494.pdf). Eq. 29.\n"
   ]
  },
  {
   "cell_type": "code",
   "execution_count": null,
   "id": "47dbd7bb",
   "metadata": {
    "cq.autogen": "ToContiguousIndex.bloq_doc.py"
   },
   "outputs": [],
   "source": [
    "from qualtran.bloqs.arithmetic.conversions import ToContiguousIndex"
   ]
  },
  {
   "cell_type": "markdown",
   "id": "c8045139",
   "metadata": {
    "cq.autogen": "ToContiguousIndex.example_instances.md"
   },
   "source": [
    "### Example Instances"
   ]
  },
  {
   "cell_type": "code",
   "execution_count": null,
   "id": "c8afdd6d",
   "metadata": {
    "cq.autogen": "ToContiguousIndex.to_contg_index"
   },
   "outputs": [],
   "source": [
    "to_contg_index = ToContiguousIndex(bitsize=4, s_bitsize=8)"
   ]
  },
  {
   "cell_type": "markdown",
   "id": "7602c882",
   "metadata": {
    "cq.autogen": "ToContiguousIndex.graphical_signature.md"
   },
   "source": [
    "#### Graphical Signature"
   ]
  },
  {
   "cell_type": "code",
   "execution_count": null,
   "id": "ae5d88e2",
   "metadata": {
    "cq.autogen": "ToContiguousIndex.graphical_signature.py"
   },
   "outputs": [],
   "source": [
    "from qualtran.drawing import show_bloqs\n",
    "show_bloqs([to_contg_index],\n",
    "           ['`to_contg_index`'])"
   ]
  },
  {
   "cell_type": "markdown",
   "id": "95bf5977",
   "metadata": {
    "cq.autogen": "ToContiguousIndex.call_graph.md"
   },
   "source": [
    "### Call Graph"
   ]
  },
  {
   "cell_type": "code",
   "execution_count": null,
   "id": "7094f64c",
   "metadata": {
    "cq.autogen": "ToContiguousIndex.call_graph.py"
   },
   "outputs": [],
   "source": [
    "from qualtran.resource_counting.generalizers import ignore_split_join\n",
    "to_contg_index_g, to_contg_index_sigma = to_contg_index.call_graph(max_depth=1, generalizer=ignore_split_join)\n",
    "show_call_graph(to_contg_index_g)\n",
    "show_counts_sigma(to_contg_index_sigma)"
   ]
  }
 ],
 "metadata": {
  "kernelspec": {
   "display_name": "Python 3",
   "language": "python",
   "name": "python3"
  },
  "language_info": {
   "name": "python"
  }
 },
 "nbformat": 4,
 "nbformat_minor": 5
}
