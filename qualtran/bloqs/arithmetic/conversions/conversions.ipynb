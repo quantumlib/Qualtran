{
 "cells": [
  {
   "cell_type": "markdown",
   "id": "1d183aeb",
   "metadata": {
    "cq.autogen": "title_cell"
   },
   "source": [
    "# Integer Conversions"
   ]
  },
  {
   "cell_type": "code",
   "execution_count": null,
   "id": "14109d45",
   "metadata": {
    "cq.autogen": "top_imports"
   },
   "outputs": [],
   "source": [
    "from qualtran import Bloq, CompositeBloq, BloqBuilder, Signature, Register\n",
    "from qualtran import QBit, QInt, QUInt, QAny\n",
    "from qualtran.drawing import show_bloq, show_call_graph, show_counts_sigma\n",
    "from typing import *\n",
    "import numpy as np\n",
    "import sympy\n",
    "import cirq"
   ]
  },
  {
   "cell_type": "markdown",
   "id": "eb2d037e",
   "metadata": {
    "cq.autogen": "SignedIntegerToTwosComplement.bloq_doc.md"
   },
   "source": [
    "## `SignedIntegerToTwosComplement`\n",
    "Convert a register storing the signed integer representation to two's complement inplace.\n",
    "\n",
    "#### Parameters\n",
    " - `bitsize`: size of the register. \n",
    "\n",
    "#### Registers\n",
    " - `x`: input signed integer (ones' complement) register.\n",
    " - `y`: output signed integer register in two's complement. \n",
    "\n",
    "#### References\n",
    " - [Fault-Tolerant Quantum Simulations of Chemistry in First Quantization](https://arxiv.org/abs/2105.12767). page 24, 4th paragraph from the bottom.\n"
   ]
  },
  {
   "cell_type": "code",
   "execution_count": null,
   "id": "90bb1bed",
   "metadata": {
    "cq.autogen": "SignedIntegerToTwosComplement.bloq_doc.py"
   },
   "outputs": [],
   "source": [
    "from qualtran.bloqs.arithmetic.conversions import SignedIntegerToTwosComplement"
   ]
  },
  {
   "cell_type": "markdown",
   "id": "8f3c1147",
   "metadata": {
    "cq.autogen": "SignedIntegerToTwosComplement.example_instances.md"
   },
   "source": [
    "### Example Instances"
   ]
  },
  {
   "cell_type": "code",
   "execution_count": null,
   "id": "2dfb8e27",
   "metadata": {
    "cq.autogen": "SignedIntegerToTwosComplement.signed_to_twos"
   },
   "outputs": [],
   "source": [
    "signed_to_twos = SignedIntegerToTwosComplement(bitsize=10)"
   ]
  },
  {
   "cell_type": "markdown",
   "id": "06ef9a13",
   "metadata": {
    "cq.autogen": "SignedIntegerToTwosComplement.graphical_signature.md"
   },
   "source": [
    "#### Graphical Signature"
   ]
  },
  {
   "cell_type": "code",
   "execution_count": null,
   "id": "325d1c85",
   "metadata": {
    "cq.autogen": "SignedIntegerToTwosComplement.graphical_signature.py"
   },
   "outputs": [],
   "source": [
    "from qualtran.drawing import show_bloqs\n",
    "show_bloqs([signed_to_twos],\n",
    "           ['`signed_to_twos`'])"
   ]
  },
  {
   "cell_type": "markdown",
   "id": "de47d9a4",
   "metadata": {
    "cq.autogen": "SignedIntegerToTwosComplement.call_graph.md"
   },
   "source": [
    "### Call Graph"
   ]
  },
  {
   "cell_type": "code",
   "execution_count": null,
   "id": "da2e339e",
   "metadata": {
    "cq.autogen": "SignedIntegerToTwosComplement.call_graph.py"
   },
   "outputs": [],
   "source": [
    "from qualtran.resource_counting.generalizers import ignore_split_join\n",
    "signed_to_twos_g, signed_to_twos_sigma = signed_to_twos.call_graph(max_depth=1, generalizer=ignore_split_join)\n",
    "show_call_graph(signed_to_twos_g)\n",
    "show_counts_sigma(signed_to_twos_sigma)"
   ]
  },
  {
   "cell_type": "code",
   "execution_count": null,
   "id": "fc4d5d9b",
   "metadata": {
    "cq.autogen": "ToContiguousIndex.bloq_doc.py"
   },
   "outputs": [],
   "source": [
    "from qualtran.bloqs.arithmetic import ToContiguousIndex"
   ]
  },
  {
   "cell_type": "markdown",
   "id": "5f88c48f",
   "metadata": {
    "cq.autogen": "ToContiguousIndex.example_instances.md"
   },
   "source": [
    "### Example Instances"
   ]
  },
  {
   "cell_type": "code",
   "execution_count": null,
   "id": "f1b9eba4",
   "metadata": {
    "cq.autogen": "ToContiguousIndex.to_contg_index"
   },
   "outputs": [],
   "source": [
    "to_contg_index = ToContiguousIndex(bitsize=4, s_bitsize=8)"
   ]
  },
  {
   "cell_type": "markdown",
   "id": "6565d270",
   "metadata": {
    "cq.autogen": "ToContiguousIndex.graphical_signature.md"
   },
   "source": [
    "#### Graphical Signature"
   ]
  },
  {
   "cell_type": "code",
   "execution_count": null,
   "id": "676836df",
   "metadata": {
    "cq.autogen": "ToContiguousIndex.graphical_signature.py"
   },
   "outputs": [],
   "source": [
    "from qualtran.drawing import show_bloqs\n",
    "show_bloqs([to_contg_index],\n",
    "           ['`to_contg_index`'])"
   ]
  },
  {
   "cell_type": "markdown",
   "id": "7ec6b833",
   "metadata": {
    "cq.autogen": "ToContiguousIndex.call_graph.md"
   },
   "source": [
    "### Call Graph"
   ]
  },
  {
   "cell_type": "code",
   "execution_count": null,
   "id": "b7c7b076",
   "metadata": {
    "cq.autogen": "ToContiguousIndex.call_graph.py"
   },
   "outputs": [],
   "source": [
    "from qualtran.resource_counting.generalizers import ignore_split_join\n",
    "to_contg_index_g, to_contg_index_sigma = to_contg_index.call_graph(max_depth=1, generalizer=ignore_split_join)\n",
    "show_call_graph(to_contg_index_g)\n",
    "show_counts_sigma(to_contg_index_sigma)"
   ]
  },
  {
   "cell_type": "markdown",
   "id": "53d5ff62",
   "metadata": {
    "cq.autogen": "SignExtend.bloq_doc.md"
   },
   "source": [
    "## `SignExtend`\n",
    "Sign-Extend a value to a value of larger bitsize.\n",
    "\n",
    "Useful to implement arithmetic operations with differing operand bitsizes.\n",
    "A sign extension copies the MSB into the new bits of the wider value. For\n",
    "example: a 4-bit to 6-bit sign-extension of `1010` gives `111010`.\n",
    "\n",
    "See :class:`SignTruncate` for the adjoint operation.\n",
    "\n",
    "#### Parameters\n",
    " - `inp_dtype`: input data type.\n",
    " - `out_dtype`: output data type. must be same class as `inp_dtype`, and have larger bitsize. \n",
    "\n",
    "#### Registers\n",
    " - `x`: the input register of type `inp_dtype`\n",
    " - `y`: the output register of type `out_dtype`\n"
   ]
  },
  {
   "cell_type": "code",
   "execution_count": null,
   "id": "af71ff16",
   "metadata": {
    "cq.autogen": "SignExtend.bloq_doc.py"
   },
   "outputs": [],
   "source": [
    "from qualtran.bloqs.arithmetic.conversions import SignExtend"
   ]
  },
  {
   "cell_type": "markdown",
   "id": "23aced7a",
   "metadata": {
    "cq.autogen": "SignExtend.example_instances.md"
   },
   "source": [
    "### Example Instances"
   ]
  },
  {
   "cell_type": "code",
   "execution_count": null,
   "id": "59e4bc6c",
   "metadata": {
    "cq.autogen": "SignExtend.sign_extend"
   },
   "outputs": [],
   "source": [
    "from qualtran import QInt\n",
    "\n",
    "sign_extend = SignExtend(QInt(8), QInt(16))"
   ]
  },
  {
   "cell_type": "code",
   "execution_count": null,
   "id": "df97b5aa",
   "metadata": {
    "cq.autogen": "SignExtend.sign_extend_fxp"
   },
   "outputs": [],
   "source": [
    "from qualtran import QFxp\n",
    "\n",
    "sign_extend_fxp = SignExtend(QFxp(8, 4, signed=True), QFxp(16, 4, signed=True))"
   ]
  },
  {
   "cell_type": "markdown",
   "id": "f641c72d",
   "metadata": {
    "cq.autogen": "SignExtend.graphical_signature.md"
   },
   "source": [
    "#### Graphical Signature"
   ]
  },
  {
   "cell_type": "code",
   "execution_count": null,
   "id": "ccd86c90",
   "metadata": {
    "cq.autogen": "SignExtend.graphical_signature.py"
   },
   "outputs": [],
   "source": [
    "from qualtran.drawing import show_bloqs\n",
    "show_bloqs([sign_extend],\n",
    "           ['`sign_extend`'])"
   ]
  },
  {
   "cell_type": "markdown",
   "id": "c74f758b",
   "metadata": {
    "cq.autogen": "SignExtend.call_graph.md"
   },
   "source": [
    "### Call Graph"
   ]
  },
  {
   "cell_type": "code",
   "execution_count": null,
   "id": "f0c90ef4",
   "metadata": {
    "cq.autogen": "SignExtend.call_graph.py"
   },
   "outputs": [],
   "source": [
    "from qualtran.resource_counting.generalizers import ignore_split_join\n",
    "sign_extend_g, sign_extend_sigma = sign_extend.call_graph(max_depth=1, generalizer=ignore_split_join)\n",
    "show_call_graph(sign_extend_g)\n",
    "show_counts_sigma(sign_extend_sigma)"
   ]
  },
  {
   "cell_type": "markdown",
   "id": "2ba208c9",
   "metadata": {
    "cq.autogen": "SignTruncate.bloq_doc.md"
   },
   "source": [
    "## `SignTruncate`\n",
    "Truncate a signed value to a smaller bitsize.\n",
    "\n",
    "Useful to implement arithmetic operations with differing operand bitsizes.\n",
    "A signed truncation xors the MSB (sign bit) into the bits to drop, and\n",
    "deallocates them.\n",
    "\n",
    "See :class:`SignExtend` for the adjoint operation.\n",
    "\n",
    "\n",
    "#### Parameters\n",
    " - `inp_dtype`: input data type.\n",
    " - `out_dtype`: output data type. must be same class as `inp_dtype`, and have smaller bitsize. \n",
    "\n",
    "#### Registers\n",
    " - `x`: the input register of type `inp_dtype`\n",
    " - `y`: the output register of type `out_dtype`\n"
   ]
  },
  {
   "cell_type": "code",
   "execution_count": null,
   "id": "f3e28e97",
   "metadata": {
    "cq.autogen": "SignTruncate.bloq_doc.py"
   },
   "outputs": [],
   "source": [
    "from qualtran.bloqs.arithmetic.conversions import SignTruncate"
   ]
  },
  {
   "cell_type": "markdown",
   "id": "40fca6fe",
   "metadata": {
    "cq.autogen": "SignTruncate.example_instances.md"
   },
   "source": [
    "### Example Instances"
   ]
  },
  {
   "cell_type": "code",
   "execution_count": null,
   "id": "7f86437b",
   "metadata": {
    "cq.autogen": "SignTruncate.sign_truncate"
   },
   "outputs": [],
   "source": [
    "from qualtran import QInt\n",
    "\n",
    "sign_truncate = SignTruncate(QInt(16), QInt(8))"
   ]
  },
  {
   "cell_type": "markdown",
   "id": "a68686b6",
   "metadata": {
    "cq.autogen": "SignTruncate.graphical_signature.md"
   },
   "source": [
    "#### Graphical Signature"
   ]
  },
  {
   "cell_type": "code",
   "execution_count": null,
   "id": "2858c246",
   "metadata": {
    "cq.autogen": "SignTruncate.graphical_signature.py"
   },
   "outputs": [],
   "source": [
    "from qualtran.drawing import show_bloqs\n",
    "show_bloqs([sign_truncate],\n",
    "           ['`sign_truncate`'])"
   ]
  },
  {
   "cell_type": "markdown",
   "id": "61625d4e",
   "metadata": {
    "cq.autogen": "SignTruncate.call_graph.md"
   },
   "source": [
    "### Call Graph"
   ]
  },
  {
   "cell_type": "code",
   "execution_count": null,
   "id": "8b34ef47",
   "metadata": {
    "cq.autogen": "SignTruncate.call_graph.py"
   },
   "outputs": [],
   "source": [
    "from qualtran.resource_counting.generalizers import ignore_split_join\n",
    "sign_truncate_g, sign_truncate_sigma = sign_truncate.call_graph(max_depth=1, generalizer=ignore_split_join)\n",
    "show_call_graph(sign_truncate_g)\n",
    "show_counts_sigma(sign_truncate_sigma)"
   ]
  }
 ],
 "metadata": {
  "kernelspec": {
   "display_name": "Python 3",
   "language": "python",
   "name": "python3"
  },
  "language_info": {
   "codemirror_mode": {
    "name": "ipython",
    "version": 3
   },
   "file_extension": ".py",
   "mimetype": "text/x-python",
   "name": "python",
   "nbconvert_exporter": "python",
   "pygments_lexer": "ipython3",
   "version": "3.11.6"
  }
 },
 "nbformat": 4,
 "nbformat_minor": 5
}
