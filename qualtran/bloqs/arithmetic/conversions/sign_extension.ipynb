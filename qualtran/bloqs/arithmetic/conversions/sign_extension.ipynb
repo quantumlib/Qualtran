{
 "cells": [
  {
   "cell_type": "markdown",
   "id": "8a2ef164",
   "metadata": {
    "cq.autogen": "title_cell"
   },
   "source": [
    "# Sign Extension"
   ]
  },
  {
   "cell_type": "code",
   "execution_count": null,
   "id": "76be8def",
   "metadata": {
    "cq.autogen": "top_imports"
   },
   "outputs": [],
   "source": [
    "from qualtran import Bloq, CompositeBloq, BloqBuilder, Signature, Register\n",
    "from qualtran import QBit, QInt, QUInt, QAny\n",
    "from qualtran.drawing import show_bloq, show_call_graph, show_counts_sigma\n",
    "from typing import *\n",
    "import numpy as np\n",
    "import sympy\n",
    "import cirq"
   ]
  },
  {
   "cell_type": "markdown",
   "id": "283c1b7e",
   "metadata": {
    "cq.autogen": "SignExtend.bloq_doc.md"
   },
   "source": [
    "## `SignExtend`\n",
    "Sign-Extend a value to a value of larger bitsize.\n",
    "\n",
    "Useful to implement arithmetic operations with differing operand bitsizes.\n",
    "A sign extension copies the MSB into the new bits of the wider value. For\n",
    "example: a 4-bit to 6-bit sign-extension of `1010` gives `111010`.\n",
    "\n",
    "\n",
    "#### Parameters\n",
    " - `inp_dtype`: input data type.\n",
    " - `out_dtype`: output data type. must be same class as `inp_dtype`, and have larger bitsize. \n",
    "\n",
    "#### Registers\n",
    " - `x`: the input register of type `inp_dtype`\n",
    " - `y`: the output register of type `out_dtype`\n"
   ]
  },
  {
   "cell_type": "code",
   "execution_count": null,
   "id": "6504d380",
   "metadata": {
    "cq.autogen": "SignExtend.bloq_doc.py"
   },
   "outputs": [],
   "source": [
    "from qualtran.bloqs.arithmetic import SignExtend"
   ]
  },
  {
   "cell_type": "markdown",
   "id": "9354fcdc",
   "metadata": {
    "cq.autogen": "SignExtend.example_instances.md"
   },
   "source": [
    "### Example Instances"
   ]
  },
  {
   "cell_type": "code",
   "execution_count": null,
   "id": "30a40ff3",
   "metadata": {
    "cq.autogen": "SignExtend.sign_extend"
   },
   "outputs": [],
   "source": [
    "from qualtran import QInt\n",
    "\n",
    "sign_extend = SignExtend(QInt(8), QInt(16))"
   ]
  },
  {
   "cell_type": "code",
   "execution_count": null,
   "id": "9e43e994",
   "metadata": {
    "cq.autogen": "SignExtend.sign_extend_fxp"
   },
   "outputs": [],
   "source": [
    "from qualtran import QFxp\n",
    "\n",
    "sign_extend_fxp = SignExtend(QFxp(8, 4, signed=True), QFxp(16, 4, signed=True))"
   ]
  },
  {
   "cell_type": "markdown",
   "id": "ae58afdf",
   "metadata": {
    "cq.autogen": "SignExtend.graphical_signature.md"
   },
   "source": [
    "#### Graphical Signature"
   ]
  },
  {
   "cell_type": "code",
   "execution_count": null,
   "id": "2c96ebb1",
   "metadata": {
    "cq.autogen": "SignExtend.graphical_signature.py"
   },
   "outputs": [],
   "source": [
    "from qualtran.drawing import show_bloqs\n",
    "show_bloqs([sign_extend, sign_extend_fxp],\n",
    "           ['`sign_extend`', '`sign_extend_fxp`'])"
   ]
  },
  {
   "cell_type": "markdown",
   "id": "38f234ca",
   "metadata": {
    "cq.autogen": "SignExtend.call_graph.md"
   },
   "source": [
    "### Call Graph"
   ]
  },
  {
   "cell_type": "code",
   "execution_count": null,
   "id": "094ebe4f",
   "metadata": {
    "cq.autogen": "SignExtend.call_graph.py"
   },
   "outputs": [],
   "source": [
    "from qualtran.resource_counting.generalizers import ignore_split_join\n",
    "sign_extend_g, sign_extend_sigma = sign_extend.call_graph(max_depth=1, generalizer=ignore_split_join)\n",
    "show_call_graph(sign_extend_g)\n",
    "show_counts_sigma(sign_extend_sigma)"
   ]
  }
 ],
 "metadata": {
  "kernelspec": {
   "display_name": "Python 3",
   "language": "python",
   "name": "python3"
  },
  "language_info": {
   "name": "python"
  }
 },
 "nbformat": 4,
 "nbformat_minor": 5
}
