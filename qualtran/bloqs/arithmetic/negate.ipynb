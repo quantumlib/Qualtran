{
 "cells": [
  {
   "cell_type": "markdown",
   "id": "2f4b71c0",
   "metadata": {
    "cq.autogen": "title_cell"
   },
   "source": [
    "# Negation"
   ]
  },
  {
   "cell_type": "code",
   "execution_count": null,
   "id": "1a24a509",
   "metadata": {
    "cq.autogen": "top_imports"
   },
   "outputs": [],
   "source": [
    "from qualtran import Bloq, CompositeBloq, BloqBuilder, Signature, Register\n",
    "from qualtran import QBit, QInt, QUInt, QAny\n",
    "from qualtran.drawing import show_bloq, show_call_graph, show_counts_sigma\n",
    "from typing import *\n",
    "import numpy as np\n",
    "import sympy\n",
    "import cirq"
   ]
  },
  {
   "cell_type": "markdown",
   "id": "960bd7ab",
   "metadata": {
    "cq.autogen": "Negate.bloq_doc.md"
   },
   "source": [
    "## `Negate`\n",
    "Compute the two's complement negation for a integer/fixed-point value.\n",
    "\n",
    "This bloq is equivalent to the \"Unary minus\" [1] C++ operator.\n",
    "- For a signed `x`, the output is `-x`.\n",
    "- For an unsigned `x`, the output is `2^n - x` (where `n` is the bitsize).\n",
    "\n",
    "This is computed by the bit-fiddling trick `-x = ~x + 1`, as follows:\n",
    "1. Flip all the bits (i.e. `x := ~x`)\n",
    "2. Add 1 to the value (interpreted as an unsigned integer), ignoring\n",
    "   any overflow. (i.e. `x := x + 1`)\n",
    "\n",
    "For a controlled negate bloq: the second step uses a quantum-quantum adder by\n",
    "loading the constant (i.e. 1), therefore has an improved controlled version\n",
    "which only controls the constant load and not the adder circuit, hence halving\n",
    "the T-cost compared to a controlled adder.\n",
    "\n",
    "#### Parameters\n",
    " - `dtype`: The data type of the input value. \n",
    "\n",
    "#### Registers\n",
    " - `x`: Any unsigned value or signed value (in two's complement form). \n",
    "\n",
    "#### References\n",
    " - [Arithmetic Operators - cppreference](https://en.cppreference.com/w/cpp/language/operator_arithmetic). Operator \"Unary Minus\". Last accessed 17 July 2024.\n"
   ]
  },
  {
   "cell_type": "code",
   "execution_count": null,
   "id": "90fc7252",
   "metadata": {
    "cq.autogen": "Negate.bloq_doc.py"
   },
   "outputs": [],
   "source": [
    "from qualtran.bloqs.arithmetic import Negate"
   ]
  },
  {
   "cell_type": "markdown",
   "id": "7d7e0b3c",
   "metadata": {
    "cq.autogen": "Negate.example_instances.md"
   },
   "source": [
    "### Example Instances"
   ]
  },
  {
   "cell_type": "code",
   "execution_count": null,
   "id": "8cd8d8b2",
   "metadata": {
    "cq.autogen": "Negate.negate"
   },
   "outputs": [],
   "source": [
    "negate = Negate(QInt(8))"
   ]
  },
  {
   "cell_type": "code",
   "execution_count": null,
   "id": "b3bf4577",
   "metadata": {
    "cq.autogen": "Negate.negate_symb"
   },
   "outputs": [],
   "source": [
    "import sympy\n",
    "\n",
    "n = sympy.Symbol(\"n\")\n",
    "negate_symb = Negate(QInt(n))"
   ]
  },
  {
   "cell_type": "markdown",
   "id": "1617757d",
   "metadata": {
    "cq.autogen": "Negate.graphical_signature.md"
   },
   "source": [
    "#### Graphical Signature"
   ]
  },
  {
   "cell_type": "code",
   "execution_count": null,
   "id": "9986a92e",
   "metadata": {
    "cq.autogen": "Negate.graphical_signature.py"
   },
   "outputs": [],
   "source": [
    "from qualtran.drawing import show_bloqs\n",
    "show_bloqs([negate, negate_symb],\n",
    "           ['`negate`', '`negate_symb`'])"
   ]
  },
  {
   "cell_type": "markdown",
   "id": "ab653b84",
   "metadata": {
    "cq.autogen": "Negate.call_graph.md"
   },
   "source": [
    "### Call Graph"
   ]
  },
  {
   "cell_type": "code",
   "execution_count": null,
   "id": "345ef9d4",
   "metadata": {
    "cq.autogen": "Negate.call_graph.py"
   },
   "outputs": [],
   "source": [
    "from qualtran.resource_counting.generalizers import ignore_split_join\n",
    "negate_g, negate_sigma = negate.call_graph(max_depth=1, generalizer=ignore_split_join)\n",
    "show_call_graph(negate_g)\n",
    "show_counts_sigma(negate_sigma)"
   ]
  }
 ],
 "metadata": {
  "kernelspec": {
   "display_name": "Python 3",
   "language": "python",
   "name": "python3"
  },
  "language_info": {
   "name": "python"
  }
 },
 "nbformat": 4,
 "nbformat_minor": 5
}
