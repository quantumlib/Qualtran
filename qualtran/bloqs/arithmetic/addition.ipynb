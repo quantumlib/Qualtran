{
 "cells": [
  {
   "cell_type": "markdown",
   "id": "c231998b",
   "metadata": {
    "cq.autogen": "title_cell"
   },
   "source": [
    "# Addition"
   ]
  },
  {
   "cell_type": "code",
   "execution_count": null,
   "id": "b572d769",
   "metadata": {
    "cq.autogen": "top_imports"
   },
   "outputs": [],
   "source": [
    "from qualtran import Bloq, CompositeBloq, BloqBuilder, Signature, Register\n",
    "from qualtran import QBit, QInt, QUInt, QAny\n",
    "from qualtran.drawing import show_bloq, show_call_graph, show_counts_sigma\n",
    "from typing import *\n",
    "import numpy as np\n",
    "import sympy\n",
    "import cirq"
   ]
  },
  {
   "cell_type": "markdown",
   "id": "d3f4ce95",
   "metadata": {
    "cq.autogen": "Add.bloq_doc.md"
   },
   "source": [
    "## `Add`\n",
    "An n-bit addition gate.\n",
    "\n",
    "Implements $U|a\\rangle|b\\rangle \\rightarrow |a\\rangle|a+b\\rangle$ using $4n - 4 T$ gates.\n",
    "\n",
    "#### Parameters\n",
    " - `a_dtype`: Quantum datatype used to represent the integer a.\n",
    " - `b_dtype`: Quantum datatype used to represent the integer b. Must be large enough to hold the result in the output register of a + b, or else it simply drops the most significant bits. If not specified, b_dtype is set to a_dtype. \n",
    "\n",
    "#### Registers\n",
    " - `a`: A a_dtype.bitsize-sized input register (register a above).\n",
    " - `b`: A b_dtype.bitsize-sized input/output register (register b above). \n",
    "\n",
    "#### References\n",
    " - [Halving the cost of quantum addition](https://arxiv.org/abs/1709.06648). \n"
   ]
  },
  {
   "cell_type": "code",
   "execution_count": null,
   "id": "6426bb53",
   "metadata": {
    "cq.autogen": "Add.bloq_doc.py"
   },
   "outputs": [],
   "source": [
    "from qualtran.bloqs.arithmetic import Add"
   ]
  },
  {
   "cell_type": "markdown",
   "id": "3c8caad1",
   "metadata": {
    "cq.autogen": "Add.example_instances.md"
   },
   "source": [
    "### Example Instances"
   ]
  },
  {
   "cell_type": "code",
   "execution_count": null,
   "id": "73929b65",
   "metadata": {
    "cq.autogen": "Add.add_small"
   },
   "outputs": [],
   "source": [
    "add_small = Add(QUInt(bitsize=4))"
   ]
  },
  {
   "cell_type": "code",
   "execution_count": null,
   "id": "fbd4dbe9",
   "metadata": {
    "cq.autogen": "Add.add_large"
   },
   "outputs": [],
   "source": [
    "add_large = Add(QUInt(bitsize=64))"
   ]
  },
  {
   "cell_type": "code",
   "execution_count": null,
   "id": "e749abdb",
   "metadata": {
    "cq.autogen": "Add.add_symb"
   },
   "outputs": [],
   "source": [
    "n = sympy.Symbol('n')\n",
    "add_symb = Add(QInt(bitsize=n))"
   ]
  },
  {
   "cell_type": "code",
   "execution_count": null,
   "id": "e5b746c1",
   "metadata": {
    "collapsed": false
   },
   "outputs": [],
   "source": [
    "add_diff_size_regs = Add(QUInt(bitsize=4), QUInt(bitsize=16))"
   ]
  },
  {
   "cell_type": "markdown",
   "id": "c3c1a7e4",
   "metadata": {
    "cq.autogen": "Add.graphical_signature.md"
   },
   "source": [
    "#### Graphical Signature"
   ]
  },
  {
   "cell_type": "code",
   "execution_count": null,
   "id": "0f92be09",
   "metadata": {
    "cq.autogen": "Add.graphical_signature.py"
   },
   "outputs": [],
   "source": [
    "from qualtran.drawing import show_bloqs\n",
    "show_bloqs([add_symb, add_small, add_large, add_diff_size_regs],\n",
    "           ['`add_symb`', '`add_small`', '`add_large`', '`add_diff_size_regs`'])"
   ]
  },
  {
   "cell_type": "markdown",
   "id": "350cb374",
   "metadata": {
    "cq.autogen": "Add.call_graph.md"
   },
   "source": [
    "### Call Graph"
   ]
  },
  {
   "cell_type": "code",
   "execution_count": null,
   "id": "c36a3fc4",
   "metadata": {
    "cq.autogen": "Add.call_graph.py"
   },
   "outputs": [],
   "source": [
    "from qualtran.resource_counting.generalizers import ignore_split_join\n",
    "add_symb_g, add_symb_sigma = add_symb.call_graph(max_depth=1, generalizer=ignore_split_join)\n",
    "show_call_graph(add_symb_g)\n",
    "show_counts_sigma(add_symb_sigma)"
   ]
  },
  {
   "cell_type": "markdown",
   "id": "ffc76cc5",
   "metadata": {
    "cq.autogen": "OutOfPlaceAdder.bloq_doc.md"
   },
   "source": [
    "## `OutOfPlaceAdder`\n",
    "An n-bit addition gate.\n",
    "\n",
    "Implements $U|a\\rangle|b\\rangle 0\\rangle \\rightarrow |a\\rangle|b\\rangle|a+b\\rangle$\n",
    "using $4n - 4 T$ gates. Uncomputation requires 0 T-gates.\n",
    "\n",
    "#### Parameters\n",
    " - `bitsize`: Number of bits used to represent each input integer. The allocated output register is of size `bitsize+1` so it has enough space to hold the sum of `a+b`. \n",
    "\n",
    "#### Registers\n",
    " - `a`: A bitsize-sized input register (register a above).\n",
    " - `b`: A bitsize-sized input register (register b above).\n",
    " - `c`: A bitize+1-sized LEFT/RIGHT register depending on whether the gate adjoint or not. \n",
    "\n",
    "#### References\n",
    " - [Halving the cost of quantum addition](https://arxiv.org/abs/1709.06648). \n"
   ]
  },
  {
   "cell_type": "code",
   "execution_count": null,
   "id": "c2450d62",
   "metadata": {
    "cq.autogen": "OutOfPlaceAdder.bloq_doc.py"
   },
   "outputs": [],
   "source": [
    "from qualtran.bloqs.arithmetic import OutOfPlaceAdder"
   ]
  },
  {
   "cell_type": "markdown",
   "id": "b5c79e25",
   "metadata": {
    "cq.autogen": "OutOfPlaceAdder.example_instances.md"
   },
   "source": [
    "### Example Instances"
   ]
  },
  {
   "cell_type": "code",
   "execution_count": null,
   "id": "e31acd2b",
   "metadata": {
    "cq.autogen": "OutOfPlaceAdder.add_oop_symb"
   },
   "outputs": [],
   "source": [
    "n = sympy.Symbol('n')\n",
    "add_oop_symb = OutOfPlaceAdder(bitsize=n)"
   ]
  },
  {
   "cell_type": "code",
   "execution_count": null,
   "id": "ef8871a6",
   "metadata": {
    "cq.autogen": "OutOfPlaceAdder.add_oop_small"
   },
   "outputs": [],
   "source": [
    "add_oop_small = OutOfPlaceAdder(bitsize=4)"
   ]
  },
  {
   "cell_type": "code",
   "execution_count": null,
   "id": "e57b8c8d",
   "metadata": {
    "cq.autogen": "OutOfPlaceAdder.add_oop_large"
   },
   "outputs": [],
   "source": [
    "add_oop_large = OutOfPlaceAdder(bitsize=64)"
   ]
  },
  {
   "cell_type": "markdown",
   "id": "01915f46",
   "metadata": {
    "cq.autogen": "OutOfPlaceAdder.graphical_signature.md"
   },
   "source": [
    "#### Graphical Signature"
   ]
  },
  {
   "cell_type": "code",
   "execution_count": null,
   "id": "d117e345",
   "metadata": {
    "cq.autogen": "OutOfPlaceAdder.graphical_signature.py"
   },
   "outputs": [],
   "source": [
    "from qualtran.drawing import show_bloqs\n",
    "show_bloqs([add_oop_symb, add_oop_small, add_oop_large],\n",
    "           ['`add_oop_symb`', '`add_oop_small`', '`add_oop_large`'])"
   ]
  },
  {
   "cell_type": "markdown",
   "id": "3b6469e0",
   "metadata": {
    "cq.autogen": "OutOfPlaceAdder.call_graph.md"
   },
   "source": [
    "### Call Graph"
   ]
  },
  {
   "cell_type": "code",
   "execution_count": null,
   "id": "ff84301f",
   "metadata": {
    "cq.autogen": "OutOfPlaceAdder.call_graph.py"
   },
   "outputs": [],
   "source": [
    "from qualtran.resource_counting.generalizers import ignore_split_join\n",
    "add_oop_symb_g, add_oop_symb_sigma = add_oop_symb.call_graph(max_depth=1, generalizer=ignore_split_join)\n",
    "show_call_graph(add_oop_symb_g)\n",
    "show_counts_sigma(add_oop_symb_sigma)"
   ]
  },
  {
   "cell_type": "markdown",
   "id": "1df2fb29",
   "metadata": {
    "cq.autogen": "AddConstantMod.bloq_doc.md"
   },
   "source": [
    "## `AddConstantMod`\n",
    "Applies U(add, M)|x> = |(x + add) % M> if x < M else |x>.\n",
    "\n",
    "Applies modular addition to input register `|x>` given parameters `mod` and `add_val` s.t.\n",
    " 1. If integer `x` < `mod`: output is `|(x + add) % M>`\n",
    " 2. If integer `x` >= `mod`: output is `|x>`.\n",
    "\n",
    "This condition is needed to ensure that the mapping of all input basis states (i.e. input\n",
    "states |0>, |1>, ..., |2 ** bitsize - 1) to corresponding output states is bijective and thus\n",
    "the gate is reversible.\n",
    "\n",
    "Also supports controlled version of the gate by specifying a per qubit control value as a tuple\n",
    "of integers passed as `cvs`."
   ]
  },
  {
   "cell_type": "code",
   "execution_count": null,
   "id": "5ef2dab4",
   "metadata": {
    "cq.autogen": "AddConstantMod.bloq_doc.py"
   },
   "outputs": [],
   "source": [
    "from qualtran.bloqs.arithmetic import AddConstantMod"
   ]
  },
  {
   "cell_type": "markdown",
   "id": "ed3f3c05",
   "metadata": {
    "cq.autogen": "AddConstantMod.example_instances.md"
   },
   "source": [
    "### Example Instances"
   ]
  },
  {
   "cell_type": "code",
   "execution_count": null,
   "id": "195a8047",
   "metadata": {
    "cq.autogen": "AddConstantMod.add_k_symb"
   },
   "outputs": [],
   "source": [
    "n, m, k = sympy.symbols('n m k')\n",
    "add_k_symb = AddConstantMod(bitsize=n, mod=m, add_val=k)"
   ]
  },
  {
   "cell_type": "code",
   "execution_count": null,
   "id": "9c3f7fb3",
   "metadata": {
    "cq.autogen": "AddConstantMod.add_k_small"
   },
   "outputs": [],
   "source": [
    "add_k_small = AddConstantMod(bitsize=4, mod=7, add_val=1)"
   ]
  },
  {
   "cell_type": "code",
   "execution_count": null,
   "id": "bdc82bc1",
   "metadata": {
    "cq.autogen": "AddConstantMod.add_k_large"
   },
   "outputs": [],
   "source": [
    "add_k_large = AddConstantMod(bitsize=64, mod=500, add_val=23)"
   ]
  },
  {
   "cell_type": "markdown",
   "id": "b6885dbb",
   "metadata": {
    "cq.autogen": "AddConstantMod.graphical_signature.md"
   },
   "source": [
    "#### Graphical Signature"
   ]
  },
  {
   "cell_type": "code",
   "execution_count": null,
   "id": "65773e01",
   "metadata": {
    "cq.autogen": "AddConstantMod.graphical_signature.py"
   },
   "outputs": [],
   "source": [
    "from qualtran.drawing import show_bloqs\n",
    "show_bloqs([add_k_symb, add_k_small, add_k_large],\n",
    "           ['`add_k_symb`', '`add_k_small`', '`add_k_large`'])"
   ]
  },
  {
   "cell_type": "markdown",
   "id": "1a4bf832",
   "metadata": {
    "cq.autogen": "AddConstantMod.call_graph.md"
   },
   "source": [
    "### Call Graph"
   ]
  },
  {
   "cell_type": "code",
   "execution_count": null,
   "id": "61f1568e",
   "metadata": {
    "cq.autogen": "AddConstantMod.call_graph.py"
   },
   "outputs": [],
   "source": [
    "from qualtran.resource_counting.generalizers import ignore_split_join\n",
    "add_k_symb_g, add_k_symb_sigma = add_k_symb.call_graph(max_depth=1, generalizer=ignore_split_join)\n",
    "show_call_graph(add_k_symb_g)\n",
    "show_counts_sigma(add_k_symb_sigma)"
   ]
  },
  {
   "cell_type": "markdown",
   "id": "9449e4e9",
   "metadata": {
    "cq.autogen": "SimpleAddConstant.bloq_doc.md"
   },
   "source": [
    "## `SimpleAddConstant`\n",
    "Takes |x> to |x + k> for a classical integer `k`.\n",
    "\n",
    "Applies addition to input register `|x>` given classical integer 'k'.\n",
    "\n",
    "This is the simple version of constant addition because it involves simply converting the\n",
    "classical integer into a quantum parameter and using quantum-quantum addition as opposed to\n",
    "designing a bespoke circuit for constant addition based on the classical parameter.\n",
    "\n",
    "#### Parameters\n",
    " - `bitsize`: Number of bits used to represent each integer.\n",
    " - `k`: The classical integer value to be added to x.\n",
    " - `cvs`: A tuple of control values. Each entry specifies whether that control line is a \"positive\" control (`cv[i]=1`) or a \"negative\" control (`cv[i]=0`).\n",
    " - `signed`: A boolean condition which controls whether the x register holds a value represented in 2's Complement or Unsigned. This affects the ability to add a negative constant. \n",
    "\n",
    "#### Registers\n",
    " - `x`: A bitsize-sized input register (register x above). \n",
    "\n",
    "#### References\n",
    " - [Improved quantum circuits for elliptic curve discrete logarithms](https://arxiv.org/abs/2001.09580). Fig 2a\n"
   ]
  },
  {
   "cell_type": "code",
   "execution_count": null,
   "id": "cd255bf9",
   "metadata": {
    "cq.autogen": "SimpleAddConstant.bloq_doc.py"
   },
   "outputs": [],
   "source": [
    "from qualtran.bloqs.arithmetic import SimpleAddConstant"
   ]
  },
  {
   "cell_type": "markdown",
   "id": "7538f9a5",
   "metadata": {
    "cq.autogen": "SimpleAddConstant.example_instances.md"
   },
   "source": [
    "### Example Instances"
   ]
  },
  {
   "cell_type": "code",
   "execution_count": null,
   "id": "4305289f",
   "metadata": {
    "cq.autogen": "SimpleAddConstant.simple_add_k_symb"
   },
   "outputs": [],
   "source": [
    "n, k = sympy.symbols('n k')\n",
    "simple_add_k_symb = SimpleAddConstant(bitsize=n, k=k)"
   ]
  },
  {
   "cell_type": "code",
   "execution_count": null,
   "id": "f6048819",
   "metadata": {
    "cq.autogen": "SimpleAddConstant.simple_add_k_small"
   },
   "outputs": [],
   "source": [
    "simple_add_k_small = SimpleAddConstant(bitsize=4, k=2, signed=False)"
   ]
  },
  {
   "cell_type": "code",
   "execution_count": null,
   "id": "b67fd469",
   "metadata": {
    "cq.autogen": "SimpleAddConstant.simple_add_k_large"
   },
   "outputs": [],
   "source": [
    "simple_add_k_large = SimpleAddConstant(bitsize=64, k=-23, signed=True)"
   ]
  },
  {
   "cell_type": "markdown",
   "id": "b8b04228",
   "metadata": {
    "cq.autogen": "SimpleAddConstant.graphical_signature.md"
   },
   "source": [
    "#### Graphical Signature"
   ]
  },
  {
   "cell_type": "code",
   "execution_count": null,
   "id": "e93e7f2e",
   "metadata": {
    "cq.autogen": "SimpleAddConstant.graphical_signature.py"
   },
   "outputs": [],
   "source": [
    "from qualtran.drawing import show_bloqs\n",
    "show_bloqs([simple_add_k_small, simple_add_k_large],\n",
    "           ['`simple_add_k_small`', '`simple_add_k_large`'])"
   ]
  },
  {
   "cell_type": "markdown",
   "id": "13552795",
   "metadata": {
    "cq.autogen": "SimpleAddConstant.call_graph.md"
   },
   "source": [
    "### Call Graph"
   ]
  },
  {
   "cell_type": "code",
   "execution_count": null,
   "id": "d8d6584e",
   "metadata": {
    "cq.autogen": "SimpleAddConstant.call_graph.py"
   },
   "outputs": [],
   "source": [
    "from qualtran.resource_counting.generalizers import ignore_split_join\n",
    "simple_add_k_small_g, simple_add_k_small_sigma = simple_add_k_small.call_graph(max_depth=1, generalizer=ignore_split_join)\n",
    "show_call_graph(simple_add_k_small_g)\n",
    "show_counts_sigma(simple_add_k_small_sigma)"
   ]
  },
  {
   "cell_type": "code",
   "execution_count": null,
   "id": "8853ae5d",
   "metadata": {
    "cq.autogen": "Add.add_diff_size_regs"
   },
   "outputs": [],
   "source": [
    "add_diff_size_regs = Add(QUInt(bitsize=4), QUInt(bitsize=16))"
   ]
  }
 ],
 "metadata": {
  "kernelspec": {
   "display_name": "Python 3 (ipykernel)",
   "language": "python",
   "name": "python3"
  },
  "language_info": {
   "codemirror_mode": {
    "name": "ipython",
    "version": 3
   },
   "file_extension": ".py",
   "mimetype": "text/x-python",
   "name": "python",
   "nbconvert_exporter": "python",
   "pygments_lexer": "ipython3",
   "version": "3.11.7"
  }
 },
 "nbformat": 4,
 "nbformat_minor": 5
}
