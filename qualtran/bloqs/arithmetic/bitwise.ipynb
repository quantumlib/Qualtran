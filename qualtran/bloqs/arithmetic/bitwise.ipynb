{
 "cells": [
  {
   "cell_type": "markdown",
   "id": "046f6195",
   "metadata": {
    "cq.autogen": "title_cell"
   },
   "source": [
    "# Bitwise Operations"
   ]
  },
  {
   "cell_type": "code",
   "execution_count": null,
   "id": "e7fb03a9",
   "metadata": {
    "cq.autogen": "top_imports"
   },
   "outputs": [],
   "source": [
    "from qualtran import Bloq, CompositeBloq, BloqBuilder, Signature, Register\n",
    "from qualtran import QBit, QInt, QUInt, QAny\n",
    "from qualtran.drawing import show_bloq, show_call_graph, show_counts_sigma\n",
    "from typing import *\n",
    "import numpy as np\n",
    "import sympy\n",
    "import cirq"
   ]
  },
  {
   "cell_type": "markdown",
   "id": "18fe7319",
   "metadata": {
    "cq.autogen": "Xor.bloq_doc.md"
   },
   "source": [
    "## `Xor`\n",
    "Xor the value of one register into another via CNOTs.\n",
    "\n",
    "Maps basis states $|x, y\\rangle$ to $|x, y \\oplus x\\rangle$.\n",
    "\n",
    "When both registers are in computational basis and the destination is 0,\n",
    "effectively copies the value of the source into the destination.\n",
    "\n",
    "#### Parameters\n",
    " - `dtype`: Data type of the input registers `x` and `y`. \n",
    "\n",
    "#### Registers\n",
    " - `x`: The source register.\n",
    " - `y`: The target register.\n"
   ]
  },
  {
   "cell_type": "code",
   "execution_count": null,
   "id": "9304ba8f",
   "metadata": {
    "cq.autogen": "Xor.bloq_doc.py"
   },
   "outputs": [],
   "source": [
    "from qualtran.bloqs.arithmetic import Xor"
   ]
  },
  {
   "cell_type": "markdown",
   "id": "0432ed40",
   "metadata": {
    "cq.autogen": "Xor.example_instances.md"
   },
   "source": [
    "### Example Instances"
   ]
  },
  {
   "cell_type": "code",
   "execution_count": null,
   "id": "55b01f5d",
   "metadata": {
    "cq.autogen": "Xor.xor"
   },
   "outputs": [],
   "source": [
    "xor = Xor(QAny(4))"
   ]
  },
  {
   "cell_type": "code",
   "execution_count": null,
   "id": "8b8090ff",
   "metadata": {
    "cq.autogen": "Xor.xor_symb"
   },
   "outputs": [],
   "source": [
    "xor_symb = Xor(QAny(sympy.Symbol(\"n\")))"
   ]
  },
  {
   "cell_type": "markdown",
   "id": "45b7826f",
   "metadata": {
    "cq.autogen": "Xor.graphical_signature.md"
   },
   "source": [
    "#### Graphical Signature"
   ]
  },
  {
   "cell_type": "code",
   "execution_count": null,
   "id": "320f183d",
   "metadata": {
    "cq.autogen": "Xor.graphical_signature.py"
   },
   "outputs": [],
   "source": [
    "from qualtran.drawing import show_bloqs\n",
    "show_bloqs([xor, xor_symb],\n",
    "           ['`xor`', '`xor_symb`'])"
   ]
  },
  {
   "cell_type": "markdown",
   "id": "b17250e4",
   "metadata": {
    "cq.autogen": "Xor.call_graph.md"
   },
   "source": [
    "### Call Graph"
   ]
  },
  {
   "cell_type": "code",
   "execution_count": null,
   "id": "0ff8ffa9",
   "metadata": {
    "cq.autogen": "Xor.call_graph.py"
   },
   "outputs": [],
   "source": [
    "from qualtran.resource_counting.generalizers import ignore_split_join\n",
    "xor_g, xor_sigma = xor.call_graph(max_depth=1, generalizer=ignore_split_join)\n",
    "show_call_graph(xor_g)\n",
    "show_counts_sigma(xor_sigma)"
   ]
  },
  {
   "cell_type": "markdown",
   "id": "e31daefa",
   "metadata": {
    "cq.autogen": "BitwiseNot.bloq_doc.md"
   },
   "source": [
    "## `BitwiseNot`\n",
    "Flips every bit of the input register.\n",
    "\n",
    "#### Parameters\n",
    " - `dtype`: Data type of the input register `x`. \n",
    "\n",
    "#### Registers\n",
    " - `x`: A quantum register of type `self.dtype`.\n"
   ]
  },
  {
   "cell_type": "code",
   "execution_count": null,
   "id": "b5c8e8f0",
   "metadata": {
    "cq.autogen": "BitwiseNot.bloq_doc.py"
   },
   "outputs": [],
   "source": [
    "from qualtran.bloqs.arithmetic.bitwise import BitwiseNot"
   ]
  },
  {
   "cell_type": "markdown",
   "id": "17f9af3e",
   "metadata": {
    "cq.autogen": "BitwiseNot.example_instances.md"
   },
   "source": [
    "### Example Instances"
   ]
  },
  {
   "cell_type": "code",
   "execution_count": null,
   "id": "701b7629",
   "metadata": {
    "cq.autogen": "BitwiseNot.bitwise_not"
   },
   "outputs": [],
   "source": [
    "bitwise_not = BitwiseNot(QUInt(4))"
   ]
  },
  {
   "cell_type": "code",
   "execution_count": null,
   "id": "76d2c35f",
   "metadata": {
    "cq.autogen": "BitwiseNot.bitwise_not_symb"
   },
   "outputs": [],
   "source": [
    "n = sympy.Symbol(\"n\")\n",
    "bitwise_not_symb = BitwiseNot(QUInt(n))"
   ]
  },
  {
   "cell_type": "markdown",
   "id": "b68ac0d3",
   "metadata": {
    "cq.autogen": "BitwiseNot.graphical_signature.md"
   },
   "source": [
    "#### Graphical Signature"
   ]
  },
  {
   "cell_type": "code",
   "execution_count": null,
   "id": "2831aab5",
   "metadata": {
    "cq.autogen": "BitwiseNot.graphical_signature.py"
   },
   "outputs": [],
   "source": [
    "from qualtran.drawing import show_bloqs\n",
    "show_bloqs([bitwise_not, bitwise_not_symb],\n",
    "           ['`bitwise_not`', '`bitwise_not_symb`'])"
   ]
  },
  {
   "cell_type": "markdown",
   "id": "7ad37a4d",
   "metadata": {
    "cq.autogen": "BitwiseNot.call_graph.md"
   },
   "source": [
    "### Call Graph"
   ]
  },
  {
   "cell_type": "code",
   "execution_count": null,
   "id": "5b4c0241",
   "metadata": {
    "cq.autogen": "BitwiseNot.call_graph.py"
   },
   "outputs": [],
   "source": [
    "from qualtran.resource_counting.generalizers import ignore_split_join\n",
    "bitwise_not_g, bitwise_not_sigma = bitwise_not.call_graph(max_depth=1, generalizer=ignore_split_join)\n",
    "show_call_graph(bitwise_not_g)\n",
    "show_counts_sigma(bitwise_not_sigma)"
   ]
  }
 ],
 "metadata": {
  "kernelspec": {
   "display_name": "Python 3",
   "language": "python",
   "name": "python3"
  },
  "language_info": {
   "name": "python"
  }
 },
 "nbformat": 4,
 "nbformat_minor": 5
}
