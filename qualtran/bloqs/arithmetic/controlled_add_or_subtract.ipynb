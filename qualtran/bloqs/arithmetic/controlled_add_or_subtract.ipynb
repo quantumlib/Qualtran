{
 "cells": [
  {
   "cell_type": "markdown",
   "id": "3f5866ad",
   "metadata": {
    "cq.autogen": "title_cell"
   },
   "source": [
    "# Controlled Add-or-Subtract"
   ]
  },
  {
   "cell_type": "code",
   "execution_count": null,
   "id": "2cd93efb",
   "metadata": {
    "cq.autogen": "top_imports"
   },
   "outputs": [],
   "source": [
    "from qualtran import Bloq, CompositeBloq, BloqBuilder, Signature, Register\n",
    "from qualtran import QBit, QInt, QUInt, QAny\n",
    "from qualtran.drawing import show_bloq, show_call_graph, show_counts_sigma\n",
    "from typing import *\n",
    "import numpy as np\n",
    "import sympy\n",
    "import cirq"
   ]
  },
  {
   "cell_type": "markdown",
   "id": "bab535ef",
   "metadata": {
    "cq.autogen": "ControlledAddOrSubtract.bloq_doc.md"
   },
   "source": [
    "## `ControlledAddOrSubtract`\n",
    "Adds or subtracts in-place into the target, based on a control bit.\n",
    "\n",
    "Applies the transformation\n",
    "\n",
    "$$\n",
    "    |1\\rangle |a\\rangle |b\\rangle \\mapsto |1\\rangle |a\\rangle |b + a\\rangle \\\\\n",
    "    |0\\rangle |a\\rangle |b\\rangle \\mapsto |0\\rangle |a\\rangle |b - a\\rangle\n",
    "$$\n",
    "\n",
    "Given two numbers `a`, `b` and a control bit `ctrl`, this bloq computes:\n",
    "\n",
    "- the sum `b + a` when `ctrl=1`,\n",
    "- the difference `b - a` when `ctrl=0`,\n",
    "\n",
    "and stores the result in the second register (`b`).\n",
    "\n",
    "This uses an uncontrolled `Add` surrounded by controlled `BitwiseNot`s, and only\n",
    "the `Add` requires T gates, which has half the T-cost of a controlled `Add`.\n",
    "\n",
    "\n",
    "#### Parameters\n",
    " - `a_dtype`: dtype of the lhs `a`\n",
    " - `b_dtype`: dtype of the rhs `b`. If it is not big enough to store the result, the most significant bits are dropped on overflow.\n",
    " - `add_when_ctrl_is_on`: If True (default), add when `ctrl=1` and subtract when `ctrl=0`. If False, do the opposite: subtract when `ctrl=0` and add when `ctrl=1`. \n",
    "\n",
    "#### Registers\n",
    " - `ctrl`: a single control bit\n",
    " - `a`: an integer value.\n",
    " - `b`: an integer value. \n",
    "\n",
    "#### References\n",
    " - [Compilation of Fault-Tolerant Quantum Heuristics for Combinatorial Optimization](https://arxiv.org/abs/2007.07391). Sanders et. al. Section II-A-1, Algorithm 1.\n"
   ]
  },
  {
   "cell_type": "code",
   "execution_count": null,
   "id": "759a4cb5",
   "metadata": {
    "cq.autogen": "ControlledAddOrSubtract.bloq_doc.py"
   },
   "outputs": [],
   "source": [
    "from qualtran.bloqs.arithmetic.controlled_add_or_subtract import ControlledAddOrSubtract"
   ]
  },
  {
   "cell_type": "markdown",
   "id": "e2e9a2be",
   "metadata": {
    "cq.autogen": "ControlledAddOrSubtract.example_instances.md"
   },
   "source": [
    "### Example Instances"
   ]
  },
  {
   "cell_type": "code",
   "execution_count": null,
   "id": "77844520",
   "metadata": {
    "cq.autogen": "ControlledAddOrSubtract.ctrl_add_or_sub_unsigned"
   },
   "outputs": [],
   "source": [
    "ctrl_add_or_sub_unsigned = ControlledAddOrSubtract(QUInt(8), QUInt(8))"
   ]
  },
  {
   "cell_type": "code",
   "execution_count": null,
   "id": "871ae83f",
   "metadata": {
    "cq.autogen": "ControlledAddOrSubtract.ctrl_add_or_sub_signed"
   },
   "outputs": [],
   "source": [
    "ctrl_add_or_sub_signed = ControlledAddOrSubtract(QInt(8), QInt(8))"
   ]
  },
  {
   "cell_type": "code",
   "execution_count": null,
   "id": "0df1d5cb",
   "metadata": {
    "cq.autogen": "ControlledAddOrSubtract.ctrl_add_or_sub_signed_symb"
   },
   "outputs": [],
   "source": [
    "import sympy\n",
    "\n",
    "n = sympy.Symbol(\"n\")\n",
    "ctrl_add_or_sub_signed_symb = ControlledAddOrSubtract(QInt(n), QInt(n))"
   ]
  },
  {
   "cell_type": "markdown",
   "id": "a4f0e47e",
   "metadata": {
    "cq.autogen": "ControlledAddOrSubtract.graphical_signature.md"
   },
   "source": [
    "#### Graphical Signature"
   ]
  },
  {
   "cell_type": "code",
   "execution_count": null,
   "id": "76c8da21",
   "metadata": {
    "cq.autogen": "ControlledAddOrSubtract.graphical_signature.py"
   },
   "outputs": [],
   "source": [
    "from qualtran.drawing import show_bloqs\n",
    "show_bloqs([ctrl_add_or_sub_signed_symb, ctrl_add_or_sub_unsigned, ctrl_add_or_sub_signed],\n",
    "           ['`ctrl_add_or_sub_signed_symb`', '`ctrl_add_or_sub_unsigned`', '`ctrl_add_or_sub_signed`'])"
   ]
  },
  {
   "cell_type": "markdown",
   "id": "a0d571ad",
   "metadata": {
    "cq.autogen": "ControlledAddOrSubtract.call_graph.md"
   },
   "source": [
    "### Call Graph"
   ]
  },
  {
   "cell_type": "code",
   "execution_count": null,
   "id": "eb6944d0",
   "metadata": {
    "cq.autogen": "ControlledAddOrSubtract.call_graph.py"
   },
   "outputs": [],
   "source": [
    "from qualtran.resource_counting.generalizers import ignore_split_join\n",
    "ctrl_add_or_sub_signed_symb_g, ctrl_add_or_sub_signed_symb_sigma = ctrl_add_or_sub_signed_symb.call_graph(max_depth=1, generalizer=ignore_split_join)\n",
    "show_call_graph(ctrl_add_or_sub_signed_symb_g)\n",
    "show_counts_sigma(ctrl_add_or_sub_signed_symb_sigma)"
   ]
  }
 ],
 "metadata": {
  "kernelspec": {
   "display_name": "Python 3",
   "language": "python",
   "name": "python3"
  },
  "language_info": {
   "name": "python"
  }
 },
 "nbformat": 4,
 "nbformat_minor": 5
}
