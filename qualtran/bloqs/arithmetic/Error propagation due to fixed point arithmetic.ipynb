{
 "cells": [
  {
   "cell_type": "markdown",
   "id": "6d12f4fc-8129-4c12-a00f-fe52aa4888e5",
   "metadata": {},
   "source": [
    "## Fixed point arithmetic error propagation analysis using fxpmath\n",
    "\n",
    "In this notebook, we use library fxpmath to analyze the propagation of errors due to fixed point arithmetic for algorithms described in [Compilation of Fault-Tolerant Quantum Heuristics for Combinatorial Optimization](https://arxiv.org/abs/2007.07391). \n",
    "\n",
    "Qualtran should provide tools to enable such analysis for algorithms that use fixed point arithmetic Bloqs as subroutines. "
   ]
  },
  {
   "cell_type": "code",
   "execution_count": 1,
   "id": "92cdfbaa-1e5f-4aac-9fdd-4d4015fd384a",
   "metadata": {},
   "outputs": [],
   "source": [
    "from fxpmath import Fxp\n",
    "import numpy as np\n",
    "\n",
    "# Initial setup - Helpers\n",
    "def fxp(x: float, d: int) -> Fxp:\n",
    "    dtype = f'fxp-u{d}/{d}'\n",
    "    ret = Fxp(x, dtype=dtype, op_sizing='same', const_op_sizing='same', shifting='trunc')\n",
    "    return ret\n",
    "\n",
    "def assert_allclose(x: Fxp, y: float, eps: float):\n",
    "    np.testing.assert_allclose(x.get_val(), y, atol=eps)"
   ]
  },
  {
   "cell_type": "markdown",
   "id": "33cfaea3-f594-48f8-a846-4fa30bb9774b",
   "metadata": {},
   "source": [
    "###  Appendix D5: Multiplying two different real numbers\n",
    "Goal: Given quantum registers A and B with real numbers $\\kappa$ ($0 \\leq \\kappa \\lt 1$) and $\\lambda$ ($0 \\leq \\lambda \\lt 1$), our goal is to compute an approximation $\\widetilde{\\gamma}$ of $\\gamma = \\kappa * \\lambda$ s.t. $|\\widetilde{\\gamma} - \\gamma| < \\epsilon$\n",
    "\n",
    "$$\n",
    "    |\\kappa\\rangle_{A} |\\lambda\\rangle_{B} |0\\rangle_{\\text{out}} \\rightarrow |\\kappa\\rangle_{A} |\\lambda\\rangle_{B} |\\widetilde{\\gamma}\\rangle_{\\text{out}}\n",
    "$$\n",
    "\n",
    "\n",
    "We analyze the error due to fixed point arithmetic for algorithm described in Appendix D5 of https://arxiv.org/abs/2007.07391"
   ]
  },
  {
   "cell_type": "code",
   "execution_count": 17,
   "id": "b89122eb-d6b0-48f6-a3f4-4d3a0824ba7b",
   "metadata": {},
   "outputs": [
    {
     "name": "stdout",
     "output_type": "stream",
     "text": [
      "Success! d=13, eps=0.001\n",
      "Success! d=17, eps=0.0001\n",
      "Success! d=21, eps=1e-05\n",
      "Success! d=24, eps=1e-06\n",
      "Success! d=28, eps=1e-07\n"
     ]
    }
   ],
   "source": [
    "# Multiplying two real numbers\n",
    "def get_bitsize_for_fxp_mul(eps: float):\n",
    "    return int(np.ceil(1 + np.log2(1/eps)) + np.log2(1 + np.log2(1/eps)))\n",
    "\n",
    "def mul_via_repeated_add(a: float, b: float, d: int):\n",
    "    a_fxp, b_fxp = fxp(a, d=d), fxp(b, d=d)\n",
    "    res = fxp(0, d=d)\n",
    "    for i, b_bin in enumerate(b_fxp.bin()[:-1]):\n",
    "        a_fxp >>= 1\n",
    "        if int(b_bin):\n",
    "            res += a_fxp\n",
    "    return res\n",
    "\n",
    "def test_multiplication_for_eps(eps: float, d: int):\n",
    "    rng = np.random.default_rng(int(eps * 1e9))\n",
    "    try:\n",
    "        for _ in range(100):\n",
    "            a, b = rng.random(2)\n",
    "            res = mul_via_repeated_add(a, b, d)\n",
    "            assert_allclose(res, a * b, eps)\n",
    "        print(f'Success! {d=}, {eps=}')\n",
    "    except:\n",
    "        print(f'Failed! {d=}, {eps=}')\n",
    "\n",
    "for eps in [1e-3, 1e-4, 1e-5, 1e-6, 1e-7]:\n",
    "    d = get_bitsize_for_fxp_mul(eps)\n",
    "    test_multiplication_for_eps(eps, d - 1) # Works for d-1 as well, bounds in the paper are probably loose?"
   ]
  },
  {
   "cell_type": "markdown",
   "id": "ab654283-695c-49ce-9d36-61c9a5d377e4",
   "metadata": {},
   "source": [
    "###  Appendix D6: Squaring a real number\n",
    "Goal: Given a quantum register A with a real number $\\kappa$ ($0 \\leq \\kappa \\lt 1$), our goal is to compute an approximation $\\widetilde{\\gamma}$ of $\\gamma = \\kappa^2$ s.t. $|\\widetilde{\\gamma} - \\gamma| < \\epsilon$\n",
    "\n",
    "$$\n",
    "    |\\kappa\\rangle_{A} |0\\rangle_{\\text{out}} \\rightarrow |\\kappa\\rangle_{A} |\\widetilde{\\gamma}\\rangle_{\\text{out}}\n",
    "$$\n",
    "\n",
    "\n",
    "We analyze the error due to fixed point arithmetic for algorithm described in Appendix D6 of https://arxiv.org/abs/2007.07391"
   ]
  },
  {
   "cell_type": "code",
   "execution_count": 18,
   "id": "e9a6fa62-8db1-4470-b3af-d81066fc81fa",
   "metadata": {},
   "outputs": [
    {
     "name": "stdout",
     "output_type": "stream",
     "text": [
      "Failed! d=14, eps=0.001\n",
      "Failed! d=18, eps=0.0001\n",
      "Failed! d=21, eps=1e-05\n",
      "Success! d=25, eps=1e-06\n",
      "Success! d=29, eps=1e-07\n"
     ]
    }
   ],
   "source": [
    "# Squaring a real number\n",
    "def get_bitsize_for_fxp_square(eps: float):\n",
    "    return int(np.ceil(np.log2(1/eps) + np.log2(11/3 + np.log2(1/eps)))) # Equation D36\n",
    "\n",
    "def square_via_repeated_add(a: float, d: int):\n",
    "    a = fxp(a, d)\n",
    "    res = fxp(0, d=d)\n",
    "    a_bin = [int(x) for x in a.bin()]\n",
    "    one = fxp(0.5, d=d)\n",
    "    \n",
    "    # Equation D23 & D29\n",
    "    for n in range(d//2, d-1):\n",
    "        res += (a >> n) * a_bin[n]\n",
    "    mask = fxp(0, d=d)\n",
    "    for n in range((d - 1) // 2):\n",
    "        res += (((a & mask) >> n) + ((one >> (2*n+1)) * a_bin[n])) * a_bin[n]\n",
    "        mask |= (one >> n)\n",
    "    if not d & 1: # Equation D29\n",
    "        n = d // 2 - 1\n",
    "        res += ((a & mask) >> n) * a_bin[n]\n",
    "    return res\n",
    "\n",
    "def test_square_for_eps(eps: float, d: int):\n",
    "    rng = np.random.default_rng(int(eps * 1e9))\n",
    "    try:\n",
    "        for _ in range(100):\n",
    "            a, = rng.random(1)\n",
    "            res = square_via_repeated_add(a, d)\n",
    "            assert_allclose(res, a**2, eps)\n",
    "        print(f'Success! {d=}, {eps=}')\n",
    "    except:\n",
    "        print(f'Failed! {d=}, {eps=}')\n",
    "\n",
    "\n",
    "for eps in [1e-3, 1e-4, 1e-5, 1e-6, 1e-7]:\n",
    "    d = get_bitsize_for_fxp_square(eps) # Need a +1 to make it work for smaller `eps`. Bound in the paper is too tight?\n",
    "    test_square_for_eps(eps, d)"
   ]
  },
  {
   "cell_type": "code",
   "execution_count": null,
   "id": "d17cf694-4f01-49b2-ab55-22f82c48221c",
   "metadata": {},
   "outputs": [],
   "source": []
  }
 ],
 "metadata": {
  "kernelspec": {
   "display_name": "Python 3 (ipykernel)",
   "language": "python",
   "name": "python3"
  },
  "language_info": {
   "codemirror_mode": {
    "name": "ipython",
    "version": 3
   },
   "file_extension": ".py",
   "mimetype": "text/x-python",
   "name": "python",
   "nbconvert_exporter": "python",
   "pygments_lexer": "ipython3",
   "version": "3.11.4"
  }
 },
 "nbformat": 4,
 "nbformat_minor": 5
}
