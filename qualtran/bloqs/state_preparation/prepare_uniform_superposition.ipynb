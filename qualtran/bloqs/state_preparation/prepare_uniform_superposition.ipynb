{
 "cells": [
  {
   "cell_type": "markdown",
   "id": "9a9d3252",
   "metadata": {
    "cq.autogen": "title_cell"
   },
   "source": [
    "# Prepare Uniform Superposition"
   ]
  },
  {
   "cell_type": "code",
   "execution_count": null,
   "id": "7c8d8ac9",
   "metadata": {
    "cq.autogen": "top_imports"
   },
   "outputs": [],
   "source": [
    "from qualtran import Bloq, CompositeBloq, BloqBuilder, Signature, Register\n",
    "from qualtran import QBit, QInt, QUInt, QAny\n",
    "from qualtran.drawing import show_bloq, show_call_graph, show_counts_sigma\n",
    "from typing import *\n",
    "import numpy as np\n",
    "import sympy\n",
    "import cirq"
   ]
  },
  {
   "cell_type": "markdown",
   "id": "def95de5",
   "metadata": {
    "cq.autogen": "PrepareUniformSuperposition.bloq_doc.md"
   },
   "source": [
    "## `PrepareUniformSuperposition`\n",
    "Prepares a uniform superposition over first $n$ basis states using $O(log(n))$ T-gates.\n",
    "\n",
    "Performs a single round of amplitude amplification and prepares a uniform superposition over\n",
    "the first $n$ basis states $|0>, |1>, ..., |n - 1>$. The expected T-complexity should be\n",
    "$10 * log(L) + 2 * K$ T-gates and $2$ single qubit rotation gates, where $n = L * 2^K$.\n",
    "\n",
    "However, the current T-complexity is $12 * log(L)$ T-gates and $2 + 2 * (K + log(L))$ rotations\n",
    "because of two open issues:\n",
    " - https://github.com/quantumlib/Qualtran/issues/233 and\n",
    " - https://github.com/quantumlib/Qualtran/issues/235\n",
    "\n",
    "#### Parameters\n",
    " - `n`: The gate prepares a uniform superposition over first $n$ basis states.\n",
    " - `cvs`: Control values for each control qubit. If specified, a controlled version of the gate is constructed. \n",
    "\n",
    "#### References\n",
    " - [Encoding Electronic Spectra in Quantum Circuits with Linear T Complexity](https://arxiv.org/abs/1805.03662). Fig 12.\n"
   ]
  },
  {
   "cell_type": "code",
   "execution_count": null,
   "id": "310d03d9",
   "metadata": {
    "cq.autogen": "PrepareUniformSuperposition.bloq_doc.py"
   },
   "outputs": [],
   "source": [
    "from qualtran.bloqs.state_preparation import PrepareUniformSuperposition"
   ]
  },
  {
   "cell_type": "markdown",
   "id": "5b29f5e7",
   "metadata": {
    "cq.autogen": "PrepareUniformSuperposition.example_instances.md"
   },
   "source": [
    "### Example Instances"
   ]
  },
  {
   "cell_type": "code",
   "execution_count": null,
   "id": "8ce0c967",
   "metadata": {
    "cq.autogen": "PrepareUniformSuperposition.prep_uniform"
   },
   "outputs": [],
   "source": [
    "prep_uniform = PrepareUniformSuperposition(n=5)"
   ]
  },
  {
   "cell_type": "code",
   "execution_count": null,
   "id": "cbd8e75c",
   "metadata": {
    "cq.autogen": "PrepareUniformSuperposition.c_prep_uniform"
   },
   "outputs": [],
   "source": [
    "c_prep_uniform = PrepareUniformSuperposition(n=5, cvs=[1])"
   ]
  },
  {
   "cell_type": "markdown",
   "id": "1adad413",
   "metadata": {
    "cq.autogen": "PrepareUniformSuperposition.graphical_signature.md"
   },
   "source": [
    "#### Graphical Signature"
   ]
  },
  {
   "cell_type": "code",
   "execution_count": null,
   "id": "40adbbcc",
   "metadata": {
    "cq.autogen": "PrepareUniformSuperposition.graphical_signature.py"
   },
   "outputs": [],
   "source": [
    "from qualtran.drawing import show_bloqs\n",
    "show_bloqs([prep_uniform, c_prep_uniform],\n",
    "           ['`prep_uniform`', '`c_prep_uniform`'])"
   ]
  },
  {
   "cell_type": "markdown",
   "id": "d5b67f42",
   "metadata": {
    "cq.autogen": "PrepareUniformSuperposition.call_graph.md"
   },
   "source": [
    "### Call Graph"
   ]
  },
  {
   "cell_type": "code",
   "execution_count": null,
   "id": "2fbbacaf",
   "metadata": {
    "cq.autogen": "PrepareUniformSuperposition.call_graph.py"
   },
   "outputs": [],
   "source": [
    "from qualtran.resource_counting.generalizers import ignore_split_join\n",
    "prep_uniform_g, prep_uniform_sigma = prep_uniform.call_graph(max_depth=1, generalizer=ignore_split_join)\n",
    "show_call_graph(prep_uniform_g)\n",
    "show_counts_sigma(prep_uniform_sigma)"
   ]
  }
 ],
 "metadata": {
  "kernelspec": {
   "display_name": "Python 3 (ipykernel)",
   "language": "python",
   "name": "python3"
  },
  "language_info": {
   "codemirror_mode": {
    "name": "ipython",
    "version": 3
   },
   "file_extension": ".py",
   "mimetype": "text/x-python",
   "name": "python",
   "nbconvert_exporter": "python",
   "pygments_lexer": "ipython3",
   "version": "3.10.9"
  }
 },
 "nbformat": 4,
 "nbformat_minor": 5
}
