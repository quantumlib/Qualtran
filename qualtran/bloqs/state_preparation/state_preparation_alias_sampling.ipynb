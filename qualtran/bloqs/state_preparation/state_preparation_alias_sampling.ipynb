{
 "cells": [
  {
   "cell_type": "markdown",
   "id": "0b54e6c7",
   "metadata": {
    "cq.autogen": "title_cell"
   },
   "source": [
    "# State Preparation via Alias Sampling\n",
    "\n",
    "Gates for preparing coefficient states.\n",
    "\n",
    "In section III.D. of the [Linear T paper](https://arxiv.org/abs/1805.03662) the authors introduce\n",
    "a technique for initializing a state with $L$ unique coefficients (provided by a classical\n",
    "database) with a number of T gates scaling as 4L + O(log(1/eps)) where eps is the\n",
    "largest absolute error that one can tolerate in the prepared amplitudes."
   ]
  },
  {
   "cell_type": "code",
   "execution_count": null,
   "id": "40df8d85",
   "metadata": {
    "cq.autogen": "top_imports"
   },
   "outputs": [],
   "source": [
    "from qualtran import Bloq, CompositeBloq, BloqBuilder, Signature, Register\n",
    "from qualtran import QBit, QInt, QUInt, QAny\n",
    "from qualtran.drawing import show_bloq, show_call_graph, show_counts_sigma\n",
    "from typing import *\n",
    "import numpy as np\n",
    "import sympy\n",
    "import cirq"
   ]
  },
  {
   "cell_type": "markdown",
   "id": "375acf91",
   "metadata": {
    "cq.autogen": "StatePreparationAliasSampling.bloq_doc.md"
   },
   "source": [
    "## `StatePreparationAliasSampling`\n",
    "Initialize a state with $L$ unique coefficients using coherent alias sampling.\n",
    "\n",
    "In particular, we take the zero state to:\n",
    "\n",
    "$$\n",
    "\\sum_{\\ell=0}^{L-1} \\sqrt{p_\\ell} |\\ell\\rangle |\\mathrm{temp}_\\ell\\rangle\n",
    "$$\n",
    "\n",
    "where the probabilities $p_\\ell$ are $\\mu$-bit binary approximations to the true values and\n",
    "where the temporary register must be treated with care, see the details in Section III.D. of\n",
    "the reference.\n",
    "\n",
    "The preparation is equivalent to [classical alias sampling]\n",
    "(https://en.wikipedia.org/wiki/Alias_method): we sample `l` with probability `p[l]` by first\n",
    "selecting `l` uniformly at random and then returning it with probability `keep[l] / 2**mu`;\n",
    "otherwise returning `alt[l]`.\n",
    "\n",
    "Signature:\n",
    "    selection: The input/output register $|\\ell\\rangle$ of size lg(L) where the desired\n",
    "        coefficient state is prepared.\n",
    "    temp: Work space comprised of sub signature:\n",
    "        - sigma: A mu-sized register containing uniform probabilities for comparison against\n",
    "            `keep`.\n",
    "        - alt: A lg(L)-sized register of alternate indices\n",
    "        - keep: a mu-sized register of probabilities of keeping the initially sampled index.\n",
    "        - one bit for the result of the comparison.\n",
    "\n",
    "This gate corresponds to the following operations:\n",
    " - UNIFORM_L on the selection register\n",
    " - H^mu on the sigma register\n",
    " - QROM addressed by the selection register into the alt and keep signature.\n",
    " - LessThanEqualGate comparing the keep and sigma signature.\n",
    " - Coherent swap between the selection register and alt register if the comparison\n",
    "   returns True.\n",
    "\n",
    "Total space will be (2 * log(L) + 2 mu + 1) work qubits + log(L) ancillas for QROM.\n",
    "The 1 ancilla in work qubits is for the `LessThanEqualGate` followed by coherent swap.\n",
    "\n",
    "#### References\n",
    " - [Encoding Electronic Spectra in Quantum Circuits with Linear T Complexity](https://arxiv.org/abs/1805.03662). Babbush et. al. (2018). Section III.D. and Figure 11.\n"
   ]
  },
  {
   "cell_type": "code",
   "execution_count": null,
   "id": "4383c10a",
   "metadata": {
    "cq.autogen": "StatePreparationAliasSampling.bloq_doc.py"
   },
   "outputs": [],
   "source": [
    "from qualtran.bloqs.state_preparation import StatePreparationAliasSampling"
   ]
  },
  {
   "cell_type": "markdown",
   "id": "b7943612",
   "metadata": {
    "cq.autogen": "StatePreparationAliasSampling.example_instances.md"
   },
   "source": [
    "### Example Instances"
   ]
  },
  {
   "cell_type": "code",
   "execution_count": null,
   "id": "0f939ef0",
   "metadata": {
    "cq.autogen": "StatePreparationAliasSampling.state_prep_alias"
   },
   "outputs": [],
   "source": [
    "coeffs = [1.0, 1, 3, 2]\n",
    "mu = 3\n",
    "state_prep_alias = StatePreparationAliasSampling.from_lcu_probs(\n",
    "    coeffs, probability_epsilon=2**-mu / len(coeffs)\n",
    ")"
   ]
  },
  {
   "cell_type": "code",
   "execution_count": null,
   "id": "717afc71",
   "metadata": {
    "cq.autogen": "StatePreparationAliasSampling.state_prep_alias_symb"
   },
   "outputs": [],
   "source": [
    "import sympy\n",
    "\n",
    "n_coeffs, sum_coeff, eps = sympy.symbols(r\"L S \\epsilon\")\n",
    "state_prep_alias_symb = StatePreparationAliasSampling.from_n_coeff(\n",
    "    n_coeffs, sum_coeff, probability_epsilon=eps\n",
    ")"
   ]
  },
  {
   "cell_type": "markdown",
   "id": "75ef3e40",
   "metadata": {
    "cq.autogen": "StatePreparationAliasSampling.graphical_signature.md"
   },
   "source": [
    "#### Graphical Signature"
   ]
  },
  {
   "cell_type": "code",
   "execution_count": null,
   "id": "c014ed7a",
   "metadata": {
    "cq.autogen": "StatePreparationAliasSampling.graphical_signature.py"
   },
   "outputs": [],
   "source": [
    "from qualtran.drawing import show_bloqs\n",
    "show_bloqs([state_prep_alias, state_prep_alias_symb],\n",
    "           ['`state_prep_alias`', '`state_prep_alias_symb`'])"
   ]
  },
  {
   "cell_type": "markdown",
   "id": "9e7748f0",
   "metadata": {
    "cq.autogen": "StatePreparationAliasSampling.call_graph.md"
   },
   "source": [
    "### Call Graph"
   ]
  },
  {
   "cell_type": "code",
   "execution_count": null,
   "id": "ca170386",
   "metadata": {
    "cq.autogen": "StatePreparationAliasSampling.call_graph.py"
   },
   "outputs": [],
   "source": [
    "from qualtran.resource_counting.generalizers import ignore_split_join\n",
    "state_prep_alias_g, state_prep_alias_sigma = state_prep_alias.call_graph(max_depth=1, generalizer=ignore_split_join)\n",
    "show_call_graph(state_prep_alias_g)\n",
    "show_counts_sigma(state_prep_alias_sigma)"
   ]
  }
 ],
 "metadata": {
  "kernelspec": {
   "display_name": "Python 3",
   "language": "python",
   "name": "python3"
  },
  "language_info": {
   "name": "python"
  }
 },
 "nbformat": 4,
 "nbformat_minor": 5
}
