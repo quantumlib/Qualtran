{
 "cells": [
  {
   "cell_type": "markdown",
   "id": "0b54e6c7",
   "metadata": {
    "cq.autogen": "title_cell"
   },
   "source": [
    "# State Preparation via Alias Sampling\n",
    "\n",
    "Gates for preparing coefficient states.\n",
    "\n",
    "In section III.D. of the [Linear T paper](https://arxiv.org/abs/1805.03662) the authors introduce\n",
    "a technique for initializing a state with $L$ unique coefficients (provided by a classical\n",
    "database) with a number of T gates scaling as 4L + O(log(1/eps)) where eps is the\n",
    "largest absolute error that one can tolerate in the prepared amplitudes."
   ]
  },
  {
   "cell_type": "code",
   "execution_count": null,
   "id": "40df8d85",
   "metadata": {
    "cq.autogen": "top_imports"
   },
   "outputs": [],
   "source": [
    "from qualtran import Bloq, CompositeBloq, BloqBuilder, Signature, Register\n",
    "from qualtran import QBit, QInt, QUInt, QAny\n",
    "from qualtran.drawing import show_bloq, show_call_graph, show_counts_sigma\n",
    "from typing import *\n",
    "import numpy as np\n",
    "import sympy\n",
    "import cirq"
   ]
  },
  {
   "cell_type": "markdown",
   "id": "375acf91",
   "metadata": {
    "cq.autogen": "StatePreparationAliasSampling.bloq_doc.md"
   },
   "source": [
    "## `StatePreparationAliasSampling`\n",
    "Initialize a state with $L$ coefficients using coherent alias sampling.\n",
    "\n",
    "In particular, given coefficients $w_\\ell$, we take the zero state to:\n",
    "\n",
    "$$\n",
    "\\sum_{\\ell=0}^{L-1} \\sqrt{p_\\ell} |\\ell\\rangle |\\mathrm{temp}_\\ell\\rangle\n",
    "$$\n",
    "\n",
    "where the probabilities $p_\\ell$ are $\\mu$-bit binary approximations to the true values\n",
    "$w_\\ell / \\lambda$ (where $\\lambda = \\sum_\\ell w_\\ell$).\n",
    "Note that the temporary register must be treated with care, see the details in Section III.D.\n",
    "of the reference.\n",
    "\n",
    "This construction is designed to work specifically when you don't require specific phases,\n",
    "and the problem is reduced to [classical alias sampling]\n",
    "(https://en.wikipedia.org/wiki/Alias_method). We sample `l` with probability `p[l]` by first\n",
    "selecting `l` uniformly at random and then returning it with probability `keep[l] / 2**mu`;\n",
    "otherwise returning `alt[l]`.\n",
    "\n",
    "This gate corresponds to the following operations:\n",
    " - UNIFORM_L on the selection register\n",
    " - H^mu on the sigma register\n",
    " - QROM addressed by the selection register into the alt and keep signature.\n",
    " - LessThanEqualGate comparing the keep and sigma signature.\n",
    " - Coherent swap between the selection register and alt register if the comparison\n",
    "   returns True.\n",
    "\n",
    "Total space will be (2 * log(L) + 2 mu + 1) work qubits + log(L) ancillas for QROM.\n",
    "The 1 ancilla in work qubits is for the `LessThanEqualGate` followed by coherent swap.\n",
    "\n",
    "#### Registers\n",
    " - `selection`: The input/output register $|\\mathrm{ind}_l\\rangle$ of size lg(L) where the desired coefficient state is prepared. Default name is 'selection' if the builder methods on the class are used. Or else, users can specify custom named registers\n",
    " - `sigma_mu`: A mu-sized register containing uniform probabilities for comparison against `keep`.\n",
    " - `alt`: A lg(L)-sized register of alternate indices\n",
    " - `keep`: a mu-sized register of probabilities of keeping the initially sampled index.\n",
    " - `less_than_equal`: one bit for the result of the comparison. \n",
    "\n",
    "#### Parameters\n",
    " - `selection_registers`: The input/output registers to prepare the state on (see Registers section).\n",
    " - `keep`: The discretized `keep` probabilities for alias sampling.\n",
    " - `alt`: The alternate/alias values to swap.\n",
    " - `mu`: The number of bits to approximate the `keep` probabilities.\n",
    " - `sum_of_unnormalized_probabilities`: The total of the input unnormalized probabilities, i.e., $\\lambda$. This is used as the `PrepareOracle.l1_norm_of_coeffs` property. \n",
    "\n",
    "#### References\n",
    " - [Encoding Electronic Spectra in Quantum Circuits with Linear T Complexity](https://arxiv.org/abs/1805.03662). Babbush et. al. (2018). Section III.D. and Figure 11.\n"
   ]
  },
  {
   "cell_type": "code",
   "execution_count": null,
   "id": "4383c10a",
   "metadata": {
    "cq.autogen": "StatePreparationAliasSampling.bloq_doc.py"
   },
   "outputs": [],
   "source": [
    "from qualtran.bloqs.state_preparation import StatePreparationAliasSampling"
   ]
  },
  {
   "cell_type": "markdown",
   "id": "b7943612",
   "metadata": {
    "cq.autogen": "StatePreparationAliasSampling.example_instances.md"
   },
   "source": [
    "### Example Instances"
   ]
  },
  {
   "cell_type": "code",
   "execution_count": null,
   "id": "0f939ef0",
   "metadata": {
    "cq.autogen": "StatePreparationAliasSampling.state_prep_alias"
   },
   "outputs": [],
   "source": [
    "coeffs = [1.0, 1, 3, 2]\n",
    "mu = 3\n",
    "state_prep_alias = StatePreparationAliasSampling.from_probabilities(\n",
    "    coeffs, precision=2**-mu / len(coeffs) * sum(coeffs)\n",
    ")"
   ]
  },
  {
   "cell_type": "code",
   "execution_count": null,
   "id": "717afc71",
   "metadata": {
    "cq.autogen": "StatePreparationAliasSampling.state_prep_alias_symb"
   },
   "outputs": [],
   "source": [
    "import sympy\n",
    "\n",
    "n_coeffs, sum_coeff, eps = sympy.symbols(r\"L \\lambda \\epsilon\")\n",
    "state_prep_alias_symb = StatePreparationAliasSampling.from_n_coeff(\n",
    "    n_coeffs, sum_coeff, precision=eps\n",
    ")"
   ]
  },
  {
   "cell_type": "markdown",
   "id": "75ef3e40",
   "metadata": {
    "cq.autogen": "StatePreparationAliasSampling.graphical_signature.md"
   },
   "source": [
    "#### Graphical Signature"
   ]
  },
  {
   "cell_type": "code",
   "execution_count": null,
   "id": "c014ed7a",
   "metadata": {
    "cq.autogen": "StatePreparationAliasSampling.graphical_signature.py"
   },
   "outputs": [],
   "source": [
    "from qualtran.drawing import show_bloqs\n",
    "show_bloqs([state_prep_alias, state_prep_alias_symb],\n",
    "           ['`state_prep_alias`', '`state_prep_alias_symb`'])"
   ]
  },
  {
   "cell_type": "markdown",
   "id": "9e7748f0",
   "metadata": {
    "cq.autogen": "StatePreparationAliasSampling.call_graph.md"
   },
   "source": [
    "### Call Graph"
   ]
  },
  {
   "cell_type": "code",
   "execution_count": null,
   "id": "ca170386",
   "metadata": {
    "cq.autogen": "StatePreparationAliasSampling.call_graph.py"
   },
   "outputs": [],
   "source": [
    "from qualtran.resource_counting.generalizers import ignore_split_join\n",
    "state_prep_alias_g, state_prep_alias_sigma = state_prep_alias.call_graph(max_depth=1, generalizer=ignore_split_join)\n",
    "show_call_graph(state_prep_alias_g)\n",
    "show_counts_sigma(state_prep_alias_sigma)"
   ]
  },
  {
   "cell_type": "markdown",
   "id": "f1559dde",
   "metadata": {
    "cq.autogen": "SparseStatePreparationAliasSampling.bloq_doc.md"
   },
   "source": [
    "## `SparseStatePreparationAliasSampling`\n",
    "Initialize a $d$-sparse state over $L$ indices using coherent alias sampling.\n",
    "\n",
    "In particular, we take the zero state to:\n",
    "\n",
    "$$\n",
    "    \\sum_{j=0}^{d-1} \\sqrt{p_{\\mathrm{ind}_j}} |\\mathrm{ind}_j\\rangle |\\mathrm{temp}_j\\rangle\n",
    "$$\n",
    "\n",
    "where $\\mathrm{ind}_j \\in [0, L)$ is the index of the $j$-th non-zero coefficient,\n",
    "and the probabilities $p_l$ are $\\mu$-bit binary approximations to the true values,\n",
    "and the register $|\\mathrm{temp}_j\\rangle$ may be entangled with the index register.\n",
    "\n",
    "This bloq is nearly identical to :class:`StatePreparationByAliasSampling`, except\n",
    "that it loads the non-zero indices from the QROM and prepares a dense state on them.\n",
    "In comparison, this uses $\\lceil \\log d \\rceil$ extra ancilla qubits, and reduces\n",
    "the iteration length to $d$ from $L$.\n",
    "\n",
    "See :class:`StatePreparationAliasSampling` for an exposition on alias sampling.\n",
    "\n",
    "\n",
    "#### Registers\n",
    " - `selection`: The input/output register $|\\mathrm{ind}_l\\rangle$ of size lg(L) where the desired coefficient state is prepared.\n",
    " - `sigma_mu`: A mu-sized register containing uniform probabilities for comparison against `keep`.\n",
    " - `sparse_index`: A lg(d)-sized register storing the sparse index $j \\in [0, d)$.\n",
    " - `alt`: A lg(L)-sized register of alternate indices\n",
    " - `keep`: a mu-sized register of probabilities of keeping the initially sampled index.\n",
    " - `less_than_equal`: one bit for the result of the comparison. \n",
    "\n",
    "This gate corresponds to the following operations:\n",
    " - UNIFORM_d on the `sparse_index` register.\n",
    " - H^mu on the `sigma` register.\n",
    " - QROM addressed by the `sparse_index` register into the `selection`, `alt`, and `keep` signature.\n",
    " - LessThanEqualGate comparing the `keep` and `sigma` registers.\n",
    " - Coherent swap between the `selection` and `alt` registers if the comparison returns True.\n",
    "\n",
    "Total space will be $(2 \\log(L) + \\log(d) + 2 \\mu + 1)$ work qubits + $log(L)$ ancillas for QROM.\n",
    "\n",
    "#### References\n",
    " - [1] [Qubitization of Arbitrary Basis Quantum Chemistry Leveraging Sparsity and Low Rank Factorization](https://arxiv.org/pdf/1902.02134#page=15.30) Berry et al. (2019). Section 5, Eqs. 43, 44. [2] [Encoding Electronic Spectra in Quantum Circuits with Linear T Complexity](https://arxiv.org/abs/1805.03662). Babbush et al. (2018). Section III.D. and Figure 11.\n"
   ]
  },
  {
   "cell_type": "code",
   "execution_count": null,
   "id": "a5c09b86",
   "metadata": {
    "cq.autogen": "SparseStatePreparationAliasSampling.bloq_doc.py"
   },
   "outputs": [],
   "source": [
    "from qualtran.bloqs.state_preparation import SparseStatePreparationAliasSampling"
   ]
  },
  {
   "cell_type": "markdown",
   "id": "4cba7cd8",
   "metadata": {
    "cq.autogen": "SparseStatePreparationAliasSampling.example_instances.md"
   },
   "source": [
    "### Example Instances"
   ]
  },
  {
   "cell_type": "code",
   "execution_count": null,
   "id": "90068f1c",
   "metadata": {
    "cq.autogen": "SparseStatePreparationAliasSampling.sparse_state_prep_alias"
   },
   "outputs": [],
   "source": [
    "coeff_map = {0: 1.0, 3: 1.0, 5: 3.0, 7: 2.0}\n",
    "N = 9\n",
    "mu = 3\n",
    "sparse_state_prep_alias = SparseStatePreparationAliasSampling.from_sparse_dict(\n",
    "    coeff_map, N, precision=2**-mu / len(coeff_map)\n",
    ")"
   ]
  },
  {
   "cell_type": "code",
   "execution_count": null,
   "id": "beeea709",
   "metadata": {
    "cq.autogen": "SparseStatePreparationAliasSampling.sparse_state_prep_alias_from_list"
   },
   "outputs": [],
   "source": [
    "coeffs = [1.0, 0, 0, 1, 0, 3, 0, 2, 0]\n",
    "mu = 3\n",
    "sparse_state_prep_alias_from_list = (\n",
    "    SparseStatePreparationAliasSampling.from_dense_probabilities(coeffs, precision=2**-mu / 4)\n",
    ")"
   ]
  },
  {
   "cell_type": "code",
   "execution_count": null,
   "id": "1bf9d4f9",
   "metadata": {
    "cq.autogen": "SparseStatePreparationAliasSampling.sparse_state_prep_alias_symb"
   },
   "outputs": [],
   "source": [
    "import sympy\n",
    "\n",
    "n_coeffs, n_nonzero_coeffs, sum_coeff, eps = sympy.symbols(r\"L d \\lambda \\epsilon\")\n",
    "sparse_state_prep_alias_symb = SparseStatePreparationAliasSampling.from_n_coeff(\n",
    "    n_coeffs, n_nonzero_coeffs, sum_coeff, precision=eps\n",
    ")"
   ]
  },
  {
   "cell_type": "markdown",
   "id": "d3ca3eec",
   "metadata": {
    "cq.autogen": "SparseStatePreparationAliasSampling.graphical_signature.md"
   },
   "source": [
    "#### Graphical Signature"
   ]
  },
  {
   "cell_type": "code",
   "execution_count": null,
   "id": "7a294570",
   "metadata": {
    "cq.autogen": "SparseStatePreparationAliasSampling.graphical_signature.py"
   },
   "outputs": [],
   "source": [
    "from qualtran.drawing import show_bloqs\n",
    "show_bloqs([sparse_state_prep_alias, sparse_state_prep_alias_from_list, sparse_state_prep_alias_symb],\n",
    "           ['`sparse_state_prep_alias`', '`sparse_state_prep_alias_from_list`', '`sparse_state_prep_alias_symb`'])"
   ]
  },
  {
   "cell_type": "markdown",
   "id": "4f02d080",
   "metadata": {
    "cq.autogen": "SparseStatePreparationAliasSampling.call_graph.md"
   },
   "source": [
    "### Call Graph"
   ]
  },
  {
   "cell_type": "code",
   "execution_count": null,
   "id": "56ac92d0",
   "metadata": {
    "cq.autogen": "SparseStatePreparationAliasSampling.call_graph.py"
   },
   "outputs": [],
   "source": [
    "from qualtran.resource_counting.generalizers import ignore_split_join\n",
    "sparse_state_prep_alias_g, sparse_state_prep_alias_sigma = sparse_state_prep_alias.call_graph(max_depth=1, generalizer=ignore_split_join)\n",
    "show_call_graph(sparse_state_prep_alias_g)\n",
    "show_counts_sigma(sparse_state_prep_alias_sigma)"
   ]
  }
 ],
 "metadata": {
  "kernelspec": {
   "display_name": "Python 3",
   "language": "python",
   "name": "python3"
  },
  "language_info": {
   "name": "python"
  }
 },
 "nbformat": 4,
 "nbformat_minor": 5
}
