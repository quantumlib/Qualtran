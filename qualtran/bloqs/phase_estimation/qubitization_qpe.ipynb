{
 "cells": [
  {
   "cell_type": "markdown",
   "id": "8a9351ad",
   "metadata": {
    "cq.autogen": "title_cell"
   },
   "source": [
    "# Qubitization Phase Estimation"
   ]
  },
  {
   "cell_type": "code",
   "execution_count": null,
   "id": "5edd9118",
   "metadata": {
    "cq.autogen": "top_imports"
   },
   "outputs": [],
   "source": [
    "from qualtran import Bloq, CompositeBloq, BloqBuilder, Signature, Register\n",
    "from qualtran import QBit, QInt, QUInt, QAny\n",
    "from qualtran.drawing import show_bloq, show_call_graph, show_counts_sigma\n",
    "from typing import *\n",
    "import numpy as np\n",
    "import sympy\n",
    "import cirq"
   ]
  },
  {
   "cell_type": "markdown",
   "id": "6d311772",
   "metadata": {
    "cq.autogen": "QubitizationQPE.bloq_doc.md"
   },
   "source": [
    "## `QubitizationQPE`\n",
    "Heisenberg limited phase estimation circuit for learning eigenphase of `walk`.\n",
    "\n",
    "The Bloq yields an OPTREE to construct Heisenberg limited phase estimation circuit\n",
    "for learning eigenphases of the `walk` operator with `m` bits of accuracy. The\n",
    "circuit is implemented as given in Fig.2 of Ref-1.\n",
    "\n",
    "    ```\n",
    "       ┌─────────┐                                     ┌─────────┐\n",
    "  |0> -│         │-------------------------(0)---(0)---│         │---M--- [m1]:highest bit\n",
    "       │         │                          |     |    │         │\n",
    "  |0> -│         │----------------(0)---(0)-+-----+----│         │---M--- [m2]\n",
    "       │CtrlState│                 |     |  |     |    │ QFT_inv │\n",
    "  |0> -│  Prep   │-------(0)---(0)-+-----+--+-----+----│         │---M--- [m3]\n",
    "       │         │        |     |  |     |  |     |    │         │\n",
    "  |0> -│         │---@----+-----+--+-----+--+-----+----│         │---M--- [m4]:lowest bit\n",
    "       └─────────┘   |    |     |  |     |  |     |    └─────────┘\n",
    "|Psi> ---------------W----R-W^2-R--R-W^4-R--R-W^8-R---------------------- |Psi>\n",
    "    ```\n",
    "\n",
    "TODO: Note that there are slight differences between the Fig2 of the Ref[1] and the circuit\n",
    "      implemented here. Further investigation is required to reconcile the difference.\n",
    "\n",
    "#### Parameters\n",
    " - `walk`: Bloq representing the Qubitization walk operator to run the phase estimation protocol on.\n",
    " - `m_bits`: Bitsize of the phase register to be used during phase estimation.\n",
    " - `ctrl_state_prep`: Bloq to prepare the control state on the phase register. Defaults to `OnEach(self.m_bits, Hadamard())`.\n",
    " - `qft_inv`: Bloq to apply inverse QFT on the phase register. Defaults to `QFTTextBook(self.m_bits).adjoint()`  \n",
    "\n",
    "#### Registers\n",
    " - `qpe_reg`: Control register of type `QFxp(self.m_bits, self.m_bits)` for phase estimation.\n",
    " - `target registers`: All registers used in `self.unitary.signature` \n",
    "\n",
    "#### References\n",
    " - [Encoding Electronic Spectra in Quantum Circuits with Linear T Complexity](https://arxiv.org/abs/1805.03662). Fig. 2\n"
   ]
  },
  {
   "cell_type": "code",
   "execution_count": null,
   "id": "64641b14",
   "metadata": {
    "cq.autogen": "QubitizationQPE.bloq_doc.py"
   },
   "outputs": [],
   "source": [
    "from qualtran.bloqs.phase_estimation.qubitization_qpe import QubitizationQPE"
   ]
  },
  {
   "cell_type": "markdown",
   "id": "1521d292",
   "metadata": {
    "cq.autogen": "QubitizationQPE.example_instances.md"
   },
   "source": [
    "### Example Instances"
   ]
  },
  {
   "cell_type": "code",
   "execution_count": null,
   "id": "3521613b",
   "metadata": {
    "cq.autogen": "QubitizationQPE.qubitization_qpe_hubbard_model_small"
   },
   "outputs": [],
   "source": [
    "import numpy as np\n",
    "\n",
    "from qualtran.bloqs.chemistry.hubbard_model.qubitization import (\n",
    "    get_walk_operator_for_hubbard_model,\n",
    ")\n",
    "from qualtran.bloqs.phase_estimation import QubitizationQPE\n",
    "\n",
    "x_dim, y_dim, t = 2, 2, 2\n",
    "u = 4 * t\n",
    "walk = get_walk_operator_for_hubbard_model(x_dim, y_dim, t, u)\n",
    "\n",
    "algo_eps = t / 100\n",
    "N = x_dim * y_dim * 2\n",
    "qlambda = 2 * N * t + (N * u) // 2\n",
    "qpe_eps = algo_eps / (qlambda * np.sqrt(2))\n",
    "qubitization_qpe_hubbard_model_small = QubitizationQPE.from_standard_deviation_eps(\n",
    "    walk, qpe_eps\n",
    ")"
   ]
  },
  {
   "cell_type": "code",
   "execution_count": null,
   "id": "f6a6e748",
   "metadata": {
    "cq.autogen": "QubitizationQPE.qubitization_qpe_sparse_chem"
   },
   "outputs": [],
   "source": [
    "import numpy as np\n",
    "\n",
    "from qualtran.bloqs.chemistry.sparse.prepare_test import build_random_test_integrals\n",
    "from qualtran.bloqs.chemistry.sparse.walk_operator import get_walk_operator_for_sparse_chem_ham\n",
    "from qualtran.bloqs.phase_estimation import QubitizationQPE\n",
    "\n",
    "num_spatial = 6\n",
    "tpq, eris = build_random_test_integrals(num_spatial // 2)\n",
    "walk = get_walk_operator_for_sparse_chem_ham(\n",
    "    tpq, eris, num_bits_rot_aa=8, num_bits_state_prep=16\n",
    ")\n",
    "\n",
    "algo_eps = 0.0016\n",
    "qlambda = np.sum(np.abs(tpq)) + 0.5 * np.sum(np.abs(eris))\n",
    "qpe_eps = algo_eps / (qlambda * np.sqrt(2))\n",
    "qubitization_qpe_sparse_chem = QubitizationQPE.from_standard_deviation_eps(walk, qpe_eps)"
   ]
  },
  {
   "cell_type": "code",
   "execution_count": null,
   "id": "8879e3e4",
   "metadata": {
    "cq.autogen": "QubitizationQPE.qubitization_qpe_chem_thc"
   },
   "outputs": [],
   "source": [
    "from openfermion.resource_estimates.utils import QI\n",
    "\n",
    "from qualtran.bloqs.chemistry.thc.walk_operator import get_walk_operator_for_thc_ham\n",
    "\n",
    "# Li et al parameters from openfermion.resource_estimates.thc.compute_cost_thc_test\n",
    "num_spinorb = 152\n",
    "num_bits_state_prep = 10\n",
    "num_bits_rot = 20\n",
    "thc_dim = 450\n",
    "num_spat = num_spinorb // 2\n",
    "tpq = np.random.normal(size=(num_spat, num_spat))\n",
    "tpq = 0.5 * (tpq + tpq) / 2\n",
    "zeta = np.random.normal(size=(thc_dim, thc_dim))\n",
    "zeta = 0.5 * (zeta + zeta) / 2\n",
    "qroam_blocking_factor = np.power(2, QI(thc_dim + num_spat)[0])\n",
    "walk = get_walk_operator_for_thc_ham(\n",
    "    tpq,\n",
    "    zeta,\n",
    "    num_bits_state_prep=num_bits_state_prep,\n",
    "    num_bits_theta=num_bits_rot,\n",
    "    kr1=qroam_blocking_factor,\n",
    "    kr2=qroam_blocking_factor,\n",
    ")\n",
    "\n",
    "algo_eps = 0.0016\n",
    "qlambda = 1201.5\n",
    "qpe_eps = algo_eps / (qlambda * np.sqrt(2))\n",
    "qubitization_qpe_chem_thc = QubitizationQPE.from_standard_deviation_eps(walk, qpe_eps)"
   ]
  },
  {
   "cell_type": "markdown",
   "id": "b19f9365",
   "metadata": {
    "cq.autogen": "QubitizationQPE.graphical_signature.md"
   },
   "source": [
    "#### Graphical Signature"
   ]
  },
  {
   "cell_type": "code",
   "execution_count": null,
   "id": "82261d0a",
   "metadata": {
    "cq.autogen": "QubitizationQPE.graphical_signature.py"
   },
   "outputs": [],
   "source": [
    "from qualtran.drawing import show_bloqs\n",
    "show_bloqs([qubitization_qpe_hubbard_model_small, qubitization_qpe_sparse_chem, qubitization_qpe_chem_thc],\n",
    "           ['`qubitization_qpe_hubbard_model_small`', '`qubitization_qpe_sparse_chem`', '`qubitization_qpe_chem_thc`'])"
   ]
  },
  {
   "cell_type": "markdown",
   "id": "a3597eeb",
   "metadata": {
    "cq.autogen": "QubitizationQPE.call_graph.md"
   },
   "source": [
    "### Call Graph"
   ]
  },
  {
   "cell_type": "code",
   "execution_count": null,
   "id": "27176312",
   "metadata": {
    "cq.autogen": "QubitizationQPE.call_graph.py"
   },
   "outputs": [],
   "source": [
    "from qualtran.resource_counting.generalizers import ignore_split_join\n",
    "qubitization_qpe_hubbard_model_small_g, qubitization_qpe_hubbard_model_small_sigma = qubitization_qpe_hubbard_model_small.call_graph(max_depth=1, generalizer=ignore_split_join)\n",
    "show_call_graph(qubitization_qpe_hubbard_model_small_g)\n",
    "show_counts_sigma(qubitization_qpe_hubbard_model_small_sigma)"
   ]
  }
 ],
 "metadata": {
  "kernelspec": {
   "display_name": "Python 3 (ipykernel)",
   "language": "python",
   "name": "python3"
  },
  "language_info": {
   "codemirror_mode": {
    "name": "ipython",
    "version": 3
   },
   "file_extension": ".py",
   "mimetype": "text/x-python",
   "name": "python",
   "nbconvert_exporter": "python",
   "pygments_lexer": "ipython3",
   "version": "3.11.8"
  }
 },
 "nbformat": 4,
 "nbformat_minor": 5
}
