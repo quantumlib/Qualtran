{
 "cells": [
  {
   "cell_type": "markdown",
   "id": "1cf5d12a",
   "metadata": {
    "cq.autogen": "title_cell"
   },
   "source": [
    "# Kaiser Window State for Quantum Phase Estimation"
   ]
  },
  {
   "cell_type": "code",
   "execution_count": null,
   "id": "5e51f8aa",
   "metadata": {
    "cq.autogen": "top_imports"
   },
   "outputs": [],
   "source": [
    "from qualtran import Bloq, CompositeBloq, BloqBuilder, Signature, Register\n",
    "from qualtran import QBit, QInt, QUInt, QAny\n",
    "from qualtran.drawing import show_bloq, show_call_graph, show_counts_sigma\n",
    "from typing import *\n",
    "import numpy as np\n",
    "import sympy\n",
    "import cirq"
   ]
  },
  {
   "cell_type": "markdown",
   "id": "afc0bf73",
   "metadata": {
    "cq.autogen": "KaiserWindowState.bloq_doc.md"
   },
   "source": [
    "## `KaiserWindowState`\n",
    "Bloq to prepare a Kaiser window state for high confidence Quantum Phase Estimation.\n",
    "\n",
    "Kaiser window states are optimal to minimize the probability of error outside a given\n",
    "confidence interval.\n",
    "Given the bitsize $m$ and parameter $\\alpha$, the bloq prepares an $m$-bit state with\n",
    "coefficients\n",
    "\n",
    "$$\n",
    "    \\sum\\limits_{x=-M}^{M}\\frac{1}{2M} \\frac{I_0\\left(\\pi\\alpha\\sqrt{1-(x/M)^2}\\right)}{I_0\\left(\\pi\\alpha\\right)}\\ket{x}\n",
    "$$\n",
    "\n",
    "where $M = 2^{m-1}$. See Ref[1] for more details.\n",
    "\n",
    "\n",
    "#### Parameters\n",
    " - `bitsize`: Number of bits in the control register of QPE.\n",
    " - `alpha`: Shape parameter, determines trade-off between main-lobe width and side lobe level. \n",
    "\n",
    "#### References\n",
    " - [Analyzing Prospects for Quantum Advantage in Topological Data Analysis](https://arxiv.org/abs/2209.13581). Berry et al. (2022). Appendix D\n"
   ]
  },
  {
   "cell_type": "code",
   "execution_count": null,
   "id": "a7069b8f",
   "metadata": {
    "cq.autogen": "KaiserWindowState.bloq_doc.py"
   },
   "outputs": [],
   "source": [
    "from qualtran.bloqs.phase_estimation.kaiser_window_state import KaiserWindowState"
   ]
  },
  {
   "cell_type": "markdown",
   "id": "e00a42ff",
   "metadata": {
    "cq.autogen": "KaiserWindowState.example_instances.md"
   },
   "source": [
    "### Example Instances"
   ]
  },
  {
   "cell_type": "code",
   "execution_count": null,
   "id": "07877dd0",
   "metadata": {
    "cq.autogen": "KaiserWindowState.kaiser_window_state_small"
   },
   "outputs": [],
   "source": [
    "kaiser_window_state_small = KaiserWindowState(5, 2)"
   ]
  },
  {
   "cell_type": "code",
   "execution_count": null,
   "id": "6fee6ed4",
   "metadata": {
    "cq.autogen": "KaiserWindowState.kaiser_window_state_symbolic"
   },
   "outputs": [],
   "source": [
    "import sympy\n",
    "\n",
    "kaiser_window_state_symbolic = KaiserWindowState(*sympy.symbols('n, alpha'))"
   ]
  },
  {
   "cell_type": "markdown",
   "id": "c61fccb5",
   "metadata": {
    "cq.autogen": "KaiserWindowState.graphical_signature.md"
   },
   "source": [
    "#### Graphical Signature"
   ]
  },
  {
   "cell_type": "code",
   "execution_count": null,
   "id": "5fdaba20",
   "metadata": {
    "cq.autogen": "KaiserWindowState.graphical_signature.py"
   },
   "outputs": [],
   "source": [
    "from qualtran.drawing import show_bloqs\n",
    "show_bloqs([kaiser_window_state_small, kaiser_window_state_symbolic],\n",
    "           ['`kaiser_window_state_small`', '`kaiser_window_state_symbolic`'])"
   ]
  },
  {
   "cell_type": "markdown",
   "id": "d41cf909",
   "metadata": {
    "cq.autogen": "KaiserWindowState.call_graph.md"
   },
   "source": [
    "### Call Graph"
   ]
  },
  {
   "cell_type": "code",
   "execution_count": null,
   "id": "189bcc85",
   "metadata": {
    "cq.autogen": "KaiserWindowState.call_graph.py"
   },
   "outputs": [],
   "source": [
    "from qualtran.resource_counting.generalizers import ignore_split_join\n",
    "kaiser_window_state_small_g, kaiser_window_state_small_sigma = kaiser_window_state_small.call_graph(max_depth=1, generalizer=ignore_split_join)\n",
    "show_call_graph(kaiser_window_state_small_g)\n",
    "show_counts_sigma(kaiser_window_state_small_sigma)"
   ]
  },
  {
   "cell_type": "markdown",
   "id": "19e7add5-c01c-4441-9f95-99f0475243f7",
   "metadata": {},
   "source": [
    "## Example of QPE comparing different window functions"
   ]
  },
  {
   "cell_type": "code",
   "execution_count": null,
   "id": "ef07f4b9-39ec-43d2-a11e-92f926a6e0e4",
   "metadata": {},
   "outputs": [],
   "source": [
    "import cirq\n",
    "import numpy as np\n",
    "from qualtran import BloqBuilder, CompositeBloq\n",
    "from qualtran.bloqs.basic_gates import ZPowGate, OneState, OneEffect\n",
    "from qualtran.bloqs.phase_estimation import TextbookQPE, RectangularWindowState, LPResourceState, KaiserWindowState"
   ]
  },
  {
   "cell_type": "code",
   "execution_count": null,
   "id": "ae2404c0-b51e-4196-905f-94310abac5fa",
   "metadata": {},
   "outputs": [],
   "source": [
    "def construct_composite_boq(bloq: TextbookQPE) -> CompositeBloq:\n",
    "    bb = BloqBuilder()\n",
    "    q = bb.add(OneState())\n",
    "    phase_reg, q = bb.add(bloq, q=q)\n",
    "    bb.add(OneEffect(), q=q)\n",
    "    return bb.finalize(phase_reg=phase_reg)\n",
    "\n",
    "def simulate_theta_estimate(bloq: TextbookQPE, n_samples: int) -> float:\n",
    "    cbloq = construct_composite_boq(bloq)\n",
    "    final_state = cbloq.tensor_contract()\n",
    "    samples = cirq.sample_state_vector(final_state, indices=[*range(bloq.m_bits)], repetitions=n_samples)\n",
    "    thetas = samples.dot(1 << np.arange(samples.shape[-1] - 1, -1, -1))\n",
    "    return thetas\n",
    "\n",
    "def holevo_variance(thetas):\n",
    "    mu = np.mean(np.cos(thetas - theta))\n",
    "    return 1 / mu**2 - 1"
   ]
  },
  {
   "cell_type": "code",
   "execution_count": null,
   "id": "e04196ba-4d8c-481a-a498-a0cf1a991fd6",
   "metadata": {},
   "outputs": [],
   "source": [
    "theta = 0.51234\n",
    "unitary = ZPowGate(2 * theta)\n",
    "n_samples = 100_000\n",
    "m = 6\n",
    "x_vals = [x / 2**m for x in range(2**m)]\n",
    "# Textbook QPE\n",
    "qpe_textbook = TextbookQPE(unitary, RectangularWindowState(m))\n",
    "thetas_textbook = simulate_theta_estimate(qpe_textbook, n_samples)\n",
    "# SinState QPE\n",
    "qpe_sinstate = TextbookQPE(unitary, LPResourceState(m))\n",
    "thetas_sinstate = simulate_theta_estimate(qpe_sinstate, n_samples)\n",
    "# Kaiser QPE\n",
    "kaiser_window_state = KaiserWindowState.from_precision_and_delta(3, 1e-2)\n",
    "alpha = kaiser_window_state.alpha\n",
    "assert kaiser_window_state.bitsize == m, f'{kaiser_window_state.bitsize}'\n",
    "qpe_kaiser_state = TextbookQPE(unitary, kaiser_window_state)\n",
    "thetas_kaiser_state = simulate_theta_estimate(qpe_kaiser_state, n_samples)"
   ]
  },
  {
   "cell_type": "code",
   "execution_count": null,
   "id": "f074f9e0-773c-4076-8461-d99560e25db0",
   "metadata": {},
   "outputs": [],
   "source": [
    "import matplotlib.pyplot as plt\n",
    "\n",
    "plt.rcParams['figure.figsize'] = (20, 10)\n",
    "\n",
    "theta_counts_textbok = np.bincount(thetas_textbook) / n_samples\n",
    "theta_counts_sinstate = np.bincount(thetas_sinstate) / n_samples\n",
    "theta_counts_kaiser = np.bincount(thetas_kaiser_state) / n_samples\n",
    "var_textbook = holevo_variance(thetas_textbook / 2**m)\n",
    "var_sinstate = holevo_variance(thetas_sinstate / 2**m)\n",
    "var_kaiser = holevo_variance(thetas_kaiser_state / 2**m)\n",
    "\n",
    "plt.plot(np.array(x_vals[:len(theta_counts_textbok)]), theta_counts_textbok, label=r\"TextbookQPE; var($\\tilde{\\phi}$)=\"f\"{var_textbook:.2e}\")\n",
    "plt.plot(np.array(x_vals[:len(theta_counts_sinstate)]), theta_counts_sinstate, label=r\"SinStateQPE; var($\\tilde{\\phi}$)=\"f\"{var_sinstate:.2e}\")\n",
    "plt.plot(np.array(x_vals[:len(theta_counts_kaiser)]), theta_counts_kaiser, label=f\"KaiserQPE({alpha=:0.3}); \"r\"var($\\tilde{\\phi}$)=\"f\"{var_kaiser:.2e}\")\n",
    "plt.vlines(theta, 0, 1, linestyles='--', label=f'True Phase $\\phi$={theta}', colors='red')\n",
    "plt.yscale('log', base=10)\n",
    "plt.ylabel(f'Fraction of samples')\n",
    "plt.xlabel(f'{m}-bit approximation of phase measured by running QPE. Should be close to {theta=}')\n",
    "plt.title(f'QPE on ZPowGate(2 * {theta}) using {m=} bit control register and {n_samples} samples.')\n",
    "plt.legend()\n",
    "plt.show()"
   ]
  }
 ],
 "metadata": {
  "kernelspec": {
   "display_name": "Python 3 (ipykernel)",
   "language": "python",
   "name": "python3"
  },
  "language_info": {
   "codemirror_mode": {
    "name": "ipython",
    "version": 3
   },
   "file_extension": ".py",
   "mimetype": "text/x-python",
   "name": "python",
   "nbconvert_exporter": "python",
   "pygments_lexer": "ipython3",
   "version": "3.11.8"
  }
 },
 "nbformat": 4,
 "nbformat_minor": 5
}
