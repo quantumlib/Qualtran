{
 "cells": [
  {
   "cell_type": "markdown",
   "id": "69261832",
   "metadata": {
    "cq.autogen": "title_cell"
   },
   "source": [
    "# Textbook Quantum Phase Estimation"
   ]
  },
  {
   "cell_type": "code",
   "execution_count": null,
   "id": "71898ded",
   "metadata": {
    "cq.autogen": "top_imports"
   },
   "outputs": [],
   "source": [
    "from qualtran import Bloq, CompositeBloq, BloqBuilder, Signature, Register\n",
    "from qualtran import QBit, QInt, QUInt, QAny\n",
    "from qualtran.drawing import show_bloq, show_call_graph, show_counts_sigma\n",
    "from typing import *\n",
    "import numpy as np\n",
    "import sympy\n",
    "import cirq"
   ]
  },
  {
   "cell_type": "markdown",
   "id": "d9c794e6",
   "metadata": {
    "cq.autogen": "TextbookQPE.bloq_doc.md"
   },
   "source": [
    "## `TextbookQPE`\n",
    "Phase Estimation algorithm as presented in Chapter 5.2 of Neilson & Chuang\n",
    "\n",
    "The bloq implements the following phase estimation circuit, where `ctrl_state_prep` and\n",
    "`qft_inv` are configurable parameters.\n",
    "\n",
    "```\n",
    "       ┌─────────┐                              ┌─────────┐\n",
    "  |0> -│         │-----------------------@------│         │---M--- [m1]:highest bit\n",
    "       │         │                       |      │         │\n",
    "  |0> -│         │-----------------@-----+------│         │---M--- [m2]\n",
    "       │CtrlState│                 |     |      │ QFT_inv │\n",
    "  |0> -│  Prep   │-----------@-----+-----+------│         │---M--- [m3]\n",
    "       │         │           |     |     |      │         │\n",
    "  |0> -│         │-----@-----+-----+-----+------│         │---M--- [m4]:lowest bit\n",
    "       └─────────┘     |     |     |     |      └─────────┘\n",
    "|Psi> -----------------U-----U^2---U^4---U^8---------------------- |Psi>\n",
    "```\n",
    "\n",
    "Note that the circuit measures $\\varphi$ (in fixed point representation,\n",
    "so $0 \\leq \\varphi \\leq 1$) s.t. $e^{i\\phi}$ is an eigenvalue of $U$ where $\\phi = 2\\pi\\varphi$\n",
    "is the estimated phase.\n",
    "\n",
    "The standard textbook version, as described in Ref[1], uses\n",
    "\n",
    "1. A uniform state preparation via hadamard on all control qubits for `CtrlStatePrep`\n",
    "2. A textbook QFT inverse algorithm, implemented in `QFTTextBook`, for `QFT_inv`\n",
    "\n",
    "Some useful properties of the phase estimation algorithm are given as follows -\n",
    "\n",
    "## Cost of TextbookQPE\n",
    "The cost of textbook QPE on `m` control qubits is a sum of costs of\n",
    "\n",
    "1. **CtrlStatePrep** - This typically scales as $\\mathcal{O}(m)$. For uniform state preparation,\n",
    "        the cost is simply $m$ clifford gates.\n",
    "2. **Controlled-Us** - There are two cases:\n",
    "    1. If the unitary is fast forwardable; i.e. cost of $U^n$ is independent of $n$, the cost\n",
    "        of this step is simply $\\mathcal{O}(m \\text{ cost(C-U)})$\n",
    "    2. If the unitary is not fast forwardable; the cost of this step is\n",
    "        $\\mathcal{O}((2 ^ {m} - 1) \\text{cost(C-U)})$.\n",
    "4. **QFT_inv** - The textbook version of QFT uses $\\mathcal{O}(m^2)$ rotations but this can be\n",
    "        improved to $\\mathcal{O}(m \\log{m})$ using approximate QFT constructions.\n",
    "\n",
    "As seen above, in most cases the dominant cost of phase estimation comes from step 2.B, which\n",
    "depends exponentially on the number of control bits $m$.\n",
    "\n",
    "## Choosing number of control bits - $m$.\n",
    "In the analysis below, we assume the textbook version of phase estimation where `CtrlStatePrep`\n",
    "is a uniform state preparation. One can obtain smaller values for $m$ when using different\n",
    "initial states for the control register, like then `LPResourceState` implemented in Qualtran.\n",
    "\n",
    "### Dependence of $m$ using precision $n$ and success probability $\\delta$ as the measure of uncertainty\n",
    "One way to think about the uncertainty in the obtained phase is to consider the problem where\n",
    "you wish to estimate the phase $\\varphi$ upto $n$ bits of precision (i.e. with accuracy\n",
    "$2^{-n}$) with probability of success $1 - \\delta$. In this setup, the expression of $m$ can be\n",
    "written as (following Eq 5.35 of Ref[1])\n",
    "\n",
    "$$\n",
    "    m = n + \\left\\lceil\\log_2\\left({2 + \\frac{2}{\\delta}}\\right)\\right\\rceil\n",
    "$$\n",
    "\n",
    "Setting the number of bits $m$ as per the expression above, we get\n",
    "\n",
    "$$\n",
    "    Pr\\left[|\\tilde{\\varphi} - \\varphi| < \\frac{1}{2^n}\\right] \\geq 1 - \\delta\n",
    "$$\n",
    "\n",
    "Here $\\varphi$ is the true phase and $\\tilde{\\varphi}$ is the estimated phase.\n",
    "\n",
    "`TextbookQPE.from_precision_and_delta` method can be used to instantiate the Bloq with\n",
    "parameters $m$ and $\\delta$ as described above.\n",
    "\n",
    "### Dependence of $m$ using standard deviation $\\epsilon$ as the measure of uncertainty\n",
    "A stronger way to bound the uncertainty in the obtained phase is to bound the variance of the\n",
    "estimator $\\tilde{\\varphi}$ by a given parameter $\\epsilon$. Following the analysis in Ref[1,2],\n",
    "we can show that the variance for textbook phase estimation follows the Standard Quantum\n",
    "Limit(SQL) of\n",
    "\n",
    "$$\n",
    "    \\sigma[\\phi] = 2\\pi \\sigma[\\tilde{\\varphi}] = 2\\pi\\sqrt{\\text{Var}[\\tilde{\\varphi}]}\n",
    "                                                \\leq\\frac{\\pi}{\\sqrt{M}}=\\frac{\\pi}{\\sqrt{2^m}}\n",
    "$$\n",
    "\n",
    "Therefore, to bound the standard deviation of the phase estimator $\\tilde{\\phi}$ by given parameter\n",
    "$\\epsilon$, we set\n",
    "\n",
    "$$\n",
    "    m = \\left\\lceil2\\log_2 \\left(\\frac{\\pi}{\\epsilon}\\right)\\right\\rceil\n",
    "$$\n",
    "\n",
    "`TextbookQPE.from_standard_deviation_eps` method can be used to instantiate the Bloq with\n",
    "parameter $\\epsilon$ as described above.\n",
    "\n",
    "\n",
    "#### Parameters\n",
    " - `unitary`: Bloq representing the unitary to run the phase estimation protocol on.\n",
    " - `m_bits`: Bitsize of the phase register to be used during phase estimation.\n",
    " - `ctrl_state_prep`: Bloq to prepare the control state on the phase register. Defaults to `OnEach(self.m_bits, Hadamard())`.\n",
    " - `qft_inv`: Bloq to apply inverse QFT on the phase register. Defaults to `QFTTextBook(self.m_bits).adjoint()`  \n",
    "\n",
    "#### Registers\n",
    " - `qpe_reg`: Control register of type `QFxp(self.m_bits, self.m_bits)` for phase estimation.\n",
    " - `target registers`: All registers used in `self.unitary.signature`  \n",
    "\n",
    "#### References\n",
    " - [Quantum Computation and Quantum Information: 10th Anniversary Edition, Nielsen & Chuang](https://www.cambridge.org/highereducation/books/quantum-computation-and-quantum-information/01E10196D0A682A6AEFFEA52D53BE9AE#overview). Chapter 5.2\n",
    " - [Entanglement-free Heisenberg-limited phase estimation](https://arxiv.org/abs/0709.2996). \n"
   ]
  },
  {
   "cell_type": "code",
   "execution_count": null,
   "id": "5f77b8d6",
   "metadata": {
    "cq.autogen": "TextbookQPE.bloq_doc.py"
   },
   "outputs": [],
   "source": [
    "from qualtran.bloqs.phase_estimation import TextbookQPE"
   ]
  },
  {
   "cell_type": "markdown",
   "id": "b266e23f",
   "metadata": {
    "cq.autogen": "TextbookQPE.example_instances.md"
   },
   "source": [
    "### Example Instances"
   ]
  },
  {
   "cell_type": "code",
   "execution_count": null,
   "id": "7b407070",
   "metadata": {
    "cq.autogen": "TextbookQPE.textbook_qpe_small"
   },
   "outputs": [],
   "source": [
    "from qualtran.bloqs.basic_gates import ZPowGate\n",
    "from qualtran.bloqs.phase_estimation import TextbookQPE\n",
    "\n",
    "textbook_qpe_small = TextbookQPE(ZPowGate(exponent=2 * 0.234), 3)"
   ]
  },
  {
   "cell_type": "code",
   "execution_count": null,
   "id": "4f338289",
   "metadata": {
    "cq.autogen": "TextbookQPE.textbook_qpe_using_m_bits"
   },
   "outputs": [],
   "source": [
    "import sympy\n",
    "\n",
    "from qualtran.bloqs.basic_gates import ZPowGate\n",
    "from qualtran.bloqs.phase_estimation import TextbookQPE\n",
    "\n",
    "theta = sympy.Symbol('theta')\n",
    "m_bits = sympy.Symbol('m')\n",
    "textbook_qpe_using_m_bits = TextbookQPE(ZPowGate(exponent=2 * theta), m_bits)"
   ]
  },
  {
   "cell_type": "code",
   "execution_count": null,
   "id": "da75b058",
   "metadata": {
    "cq.autogen": "TextbookQPE.textbook_qpe_from_standard_deviation_eps"
   },
   "outputs": [],
   "source": [
    "import sympy\n",
    "\n",
    "from qualtran.bloqs.basic_gates import ZPowGate\n",
    "from qualtran.bloqs.phase_estimation import TextbookQPE\n",
    "\n",
    "theta = sympy.Symbol('theta')\n",
    "epsilon = sympy.symbols('epsilon')\n",
    "textbook_qpe_from_standard_deviation_eps = TextbookQPE.from_standard_deviation_eps(\n",
    "    ZPowGate(exponent=2 * theta), epsilon\n",
    ")"
   ]
  },
  {
   "cell_type": "code",
   "execution_count": null,
   "id": "09232258",
   "metadata": {
    "cq.autogen": "TextbookQPE.textbook_qpe_from_precision_and_delta"
   },
   "outputs": [],
   "source": [
    "import sympy\n",
    "\n",
    "from qualtran.bloqs.basic_gates import ZPowGate\n",
    "from qualtran.bloqs.phase_estimation import TextbookQPE\n",
    "\n",
    "theta = sympy.Symbol('theta')\n",
    "precision, delta = sympy.symbols('n, delta')\n",
    "textbook_qpe_from_precision_and_delta = TextbookQPE.from_precision_and_delta(\n",
    "    ZPowGate(exponent=2 * theta), precision, delta\n",
    ")"
   ]
  },
  {
   "cell_type": "markdown",
   "id": "709aee73",
   "metadata": {
    "cq.autogen": "TextbookQPE.graphical_signature.md"
   },
   "source": [
    "#### Graphical Signature"
   ]
  },
  {
   "cell_type": "code",
   "execution_count": null,
   "id": "4492b3eb",
   "metadata": {
    "cq.autogen": "TextbookQPE.graphical_signature.py"
   },
   "outputs": [],
   "source": [
    "from qualtran.drawing import show_bloqs\n",
    "show_bloqs([textbook_qpe_small, textbook_qpe_using_m_bits, textbook_qpe_from_standard_deviation_eps, textbook_qpe_from_precision_and_delta],\n",
    "           ['`textbook_qpe_small`', '`textbook_qpe_using_m_bits`', '`textbook_qpe_from_standard_deviation_eps`', '`textbook_qpe_from_precision_and_delta`'])"
   ]
  },
  {
   "cell_type": "markdown",
   "id": "03a8c0ed",
   "metadata": {
    "cq.autogen": "TextbookQPE.call_graph.md"
   },
   "source": [
    "### Call Graph"
   ]
  },
  {
   "cell_type": "code",
   "execution_count": null,
   "id": "acd6b4cc",
   "metadata": {
    "cq.autogen": "TextbookQPE.call_graph.py"
   },
   "outputs": [],
   "source": [
    "from qualtran.resource_counting.generalizers import ignore_split_join\n",
    "textbook_qpe_small_g, textbook_qpe_small_sigma = textbook_qpe_small.call_graph(max_depth=1, generalizer=ignore_split_join)\n",
    "show_call_graph(textbook_qpe_small_g)\n",
    "show_counts_sigma(textbook_qpe_small_sigma)"
   ]
  },
  {
   "cell_type": "markdown",
   "id": "36d9d884-ccd3-45cd-9be8-0db809ea74f8",
   "metadata": {},
   "source": [
    "## Appendix\n",
    "\n",
    "### Derivation of variance for textbook phase estimation \n",
    "\n",
    "When using a phase register of size  $m$ and uniform superposition state as the initial state, textbook phase estimation ends with a state\n",
    "\n",
    "$$\n",
    "    \\frac{1}{2^m}\\sum_{k, l=0}^{2^m-1}e^\\frac{-2\\pi i k l}{2^m} e^{2 \\pi i \\varphi k} |l\\rangle\n",
    "$$\n",
    "\n",
    "Let $b$ be an integer in the range $[0, 2^m)$ that represents the best $m$-bit estimate of the phase $\\varphi$ s.t. $\\varphi = b / 2^m + \\delta$ where $0 \\leq \\delta \\leq 2^{-m}$. \n",
    "\n",
    "Let $\\alpha_l$ be the amplitude of state $|(b + l) \\text{ mod } 2^m\\rangle$, then $\\alpha_{l}$ can be written as \n",
    "\n",
    "$$\n",
    "    \\alpha_l = \\frac{1}{2^m} \\left( \\frac{1 - e^{2\\pi i \\left(2^m \\delta - l\\right)}}\n",
    "                                         {1 - e^{2\\pi i \\left(\\delta - l/2^m \\right)}} \\right)\n",
    "$$\n",
    "\n",
    "For any real $\\theta$, $|1 - e^{i \\theta}| \\leq 2$, so\n",
    "\n",
    "$$\n",
    "    |\\alpha_l| \\leq \\frac{2}{2^m | 1 - e^{2\\pi i \\left(\\delta - l/2^m \\right)} | }\n",
    "$$\n",
    "\n",
    "Whenever $-\\pi \\leq \\theta \\leq \\pi$, we have $|1 - e^{i \\theta}| \\geq \\frac{2 |\\theta|}{\\pi}$ and when $−2^{m−1} \\lt l \\leq 2^{m−1}$ we have $-\\pi \\leq 2\\pi \\left(\\delta - l/2^m \\right) \\leq \\pi$. Therefore, we have\n",
    "\n",
    "$$\n",
    "    |\\alpha_l| \\leq \\frac{1}{2^{m + 1} |\\left(\\delta - l/2^m \\right)| }\n",
    "$$\n",
    "\n",
    "Let $\\tilde{\\varphi}$ be a random variable that represents the estimated phase. We have\n",
    "\n",
    "$$\n",
    "\\begin{align}\n",
    "Var[\\tilde{\\varphi}]&\\leq \\sum_{l=-2^{m-1} + 1}^{2^{m-1}} |\\alpha_l|^2 \\left(\\frac{b + l}{2^m} - \\varphi\\right)^2 \\\\\n",
    "                    &= \\sum_{l=-2^{m-1} + 1}^{2^{m-1}} |\\alpha_l|^2 \\left(\\delta - l/2^m \\right)^2 \\\\ \n",
    "                    &= \\sum_{l=-2^{m-1} + 1}^{2^{m-1}} \\frac{1}{2^{2(m + 1)} |\\left(\\delta - l/2^m \\right)|}\\left(\\delta - l/2^m \\right)^2 \\\\\n",
    "                    &= \\sum_{l=-2^{m-1} + 1}^{2^{m-1}} \\frac{1}{2^{2(m + 1)}} \\\\\n",
    "                    &= \\frac{2^m}{2^{2(m + 1)}} = \\frac{1}{4 2^{m}} = \\frac{1}{4 M}\\\\\n",
    "\\end{align}\n",
    "$$\n",
    "\n",
    "Therefore, we get\n",
    "\n",
    "$$\n",
    "    \\sigma[\\tilde{\\phi}] = 2\\pi\\sigma[\\tilde{\\varphi}] = \\frac{\\pi}{\\sqrt{M}}\n",
    "$$"
   ]
  }
 ],
 "metadata": {
  "kernelspec": {
   "display_name": "Python 3 (ipykernel)",
   "language": "python",
   "name": "python3"
  },
  "language_info": {
   "codemirror_mode": {
    "name": "ipython",
    "version": 3
   },
   "file_extension": ".py",
   "mimetype": "text/x-python",
   "name": "python",
   "nbconvert_exporter": "python",
   "pygments_lexer": "ipython3",
   "version": "3.11.8"
  }
 },
 "nbformat": 4,
 "nbformat_minor": 5
}
