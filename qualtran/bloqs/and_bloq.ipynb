{
 "cells": [
  {
   "cell_type": "markdown",
   "id": "0fe14f49",
   "metadata": {
    "cq.autogen": "title_cell"
   },
   "source": [
    "# And"
   ]
  },
  {
   "cell_type": "code",
   "execution_count": null,
   "id": "47e0d2c9",
   "metadata": {
    "cq.autogen": "top_imports"
   },
   "outputs": [],
   "source": [
    "from qualtran import Bloq, CompositeBloq, BloqBuilder, Signature, Register\n",
    "from qualtran.drawing import show_bloq\n",
    "from typing import *\n",
    "import numpy as np"
   ]
  },
  {
   "cell_type": "markdown",
   "id": "dd63e8be",
   "metadata": {
    "cq.autogen": "_make_and.md"
   },
   "source": [
    "## `And`\n",
    "A two-bit 'and' operation.\n",
    "\n",
    "#### Parameters\n",
    " - `cv1`: Whether the first bit is a positive control.\n",
    " - `cv2`: Whether the second bit is a positive control. \n",
    "\n",
    "#### Registers\n",
    " - `ctrl`: A two-bit control register.\n",
    " - `target [right]`: The output bit. \n",
    "\n",
    "#### References\n",
    "(Encoding Electronic Spectra in Quantum Circuits with Linear T Complexity)[https://arxiv.org/abs/1805.03662]. Babbush et. al. 2018. Section III.A. and Fig. 4. (Verifying Measurement Based Uncomputation)[https://algassert.com/post/1903]. Gidney, C. 2019.\n"
   ]
  },
  {
   "cell_type": "code",
   "execution_count": null,
   "id": "4c4ec376",
   "metadata": {
    "cq.autogen": "_make_and.py"
   },
   "outputs": [],
   "source": [
    "from qualtran.bloqs.and_bloq import And\n",
    "\n",
    "bloq = And()\n",
    "show_bloq(bloq)"
   ]
  },
  {
   "cell_type": "code",
   "execution_count": null,
   "id": "310e538e",
   "metadata": {},
   "outputs": [],
   "source": [
    "from qualtran.resource_counting import get_bloq_counts_graph, GraphvizCounts, SympySymbolAllocator\n",
    "import attrs\n",
    "\n",
    "graph, sigma = get_bloq_counts_graph(bloq)\n",
    "GraphvizCounts(graph).get_svg()"
   ]
  },
  {
   "cell_type": "markdown",
   "id": "9f0b6b69",
   "metadata": {},
   "source": [
    "### Test `adjoint`"
   ]
  },
  {
   "cell_type": "code",
   "execution_count": null,
   "id": "3750053b",
   "metadata": {},
   "outputs": [],
   "source": [
    "bb = BloqBuilder()\n",
    "q0 = bb.add_register('q0', 1)\n",
    "q1 = bb.add_register('q1', 1)\n",
    "qs, trg = bb.add(And(), ctrl=[q0, q1])\n",
    "qs = bb.add(And(adjoint=True), ctrl=qs, target=trg)\n",
    "cbloq = bb.finalize(q0=qs[0], q1=qs[1])\n",
    "\n",
    "show_bloq(cbloq)"
   ]
  },
  {
   "cell_type": "code",
   "execution_count": null,
   "id": "a65ce1f3",
   "metadata": {},
   "outputs": [],
   "source": [
    "mat = cbloq.tensor_contract()\n",
    "np.testing.assert_allclose(np.eye(4), mat)\n",
    "mat"
   ]
  },
  {
   "cell_type": "markdown",
   "id": "50800962",
   "metadata": {
    "cq.autogen": "_make_multi_and.md"
   },
   "source": [
    "## `MultiAnd`\n",
    "A many-bit (multi-control) 'and' operation.\n",
    "\n",
    "#### Parameters\n",
    " - `cvs`: A tuple of control variable settings. Each entry specifies whether that control line is a \"positive\" control (`cv[i]=1`) or a \"negative\" control `0`. \n",
    "\n",
    "#### Registers\n",
    " - `ctrl`: An n-bit control register.\n",
    " - `junk [right]`: An `n-2` bit junk register to be cleaned up by the inverse operation.\n",
    " - `target [right]`: The output bit.\n"
   ]
  },
  {
   "cell_type": "code",
   "execution_count": null,
   "id": "51233de9",
   "metadata": {
    "cq.autogen": "_make_multi_and.py"
   },
   "outputs": [],
   "source": [
    "from qualtran.bloqs.and_bloq import MultiAnd\n",
    "\n",
    "bloq = MultiAnd(cvs=(1, 1, 1, 1))\n",
    "show_bloq(bloq)"
   ]
  },
  {
   "cell_type": "code",
   "execution_count": null,
   "id": "dac3eaba",
   "metadata": {},
   "outputs": [],
   "source": [
    "bloq = MultiAnd(cvs=(1, 1, 1, 1))\n",
    "show_bloq(bloq.decompose_bloq())"
   ]
  },
  {
   "cell_type": "code",
   "execution_count": null,
   "id": "a61eb113",
   "metadata": {},
   "outputs": [],
   "source": [
    "graph, sigma = get_bloq_counts_graph(bloq)\n",
    "GraphvizCounts(graph).get_svg()"
   ]
  },
  {
   "cell_type": "markdown",
   "id": "42799db5",
   "metadata": {},
   "source": [
    "### Testing with states and effects"
   ]
  },
  {
   "cell_type": "code",
   "execution_count": null,
   "id": "979530da",
   "metadata": {},
   "outputs": [],
   "source": [
    "from qualtran.bloqs.basic_gates import OneEffect, OneState, ZeroEffect, ZeroState\n",
    "\n",
    "state = [ZeroState(), OneState()]\n",
    "eff = [ZeroEffect(), OneEffect()]\n",
    "\n",
    "# Experiment with changing the following:\n",
    "cvs = (1, 1, 1)\n",
    "ctrl_string = (1, 1, 1)\n",
    "\n",
    "\n",
    "bb = BloqBuilder()\n",
    "ctrl_qs = [bb.add(state[c]) for c in ctrl_string]\n",
    "ctrl_qs, junk, res = bb.add_from(MultiAnd(cvs), ctrl=ctrl_qs)\n",
    "for c, q in zip(ctrl_string, ctrl_qs):\n",
    "    bb.add(eff[c], q=q)\n",
    "\n",
    "cbloq = bb.finalize(junk=junk, res=res)\n",
    "show_bloq(cbloq)"
   ]
  },
  {
   "cell_type": "code",
   "execution_count": null,
   "id": "aa0ec9b1",
   "metadata": {},
   "outputs": [],
   "source": [
    "vec = cbloq.tensor_contract()\n",
    "junk_i, res_i = np.where(vec.reshape((2, 2)))\n",
    "res_i"
   ]
  },
  {
   "cell_type": "code",
   "execution_count": null,
   "id": "6ee9b855",
   "metadata": {},
   "outputs": [],
   "source": [
    "should_be = np.all(ctrl_string == cvs)\n",
    "should_be"
   ]
  },
  {
   "cell_type": "markdown",
   "id": "caab294c",
   "metadata": {},
   "source": [
    "### MultiAnd Adjoint"
   ]
  },
  {
   "cell_type": "code",
   "execution_count": null,
   "id": "68588c96",
   "metadata": {},
   "outputs": [],
   "source": [
    "bb = BloqBuilder()\n",
    "q0 = bb.add_register('q0', 1)\n",
    "q1 = bb.add_register('q1', 1)\n",
    "q2 = bb.add_register('q2', 1)\n",
    "\n",
    "qs, junk, trg = bb.add(MultiAnd((1,1,1)), ctrl=[q0, q1, q2])\n",
    "qs = bb.add(MultiAnd((1,1,1), adjoint=True), ctrl=qs, target=trg, junk=junk)\n",
    "\n",
    "cbloq = bb.finalize(q0=qs[0], q1=qs[1], q2=qs[2])\n",
    "\n",
    "show_bloq(cbloq)"
   ]
  },
  {
   "cell_type": "code",
   "execution_count": null,
   "id": "7e16156a",
   "metadata": {},
   "outputs": [],
   "source": [
    "bb = BloqBuilder()\n",
    "q0 = bb.add_register('q0', 1)\n",
    "q1 = bb.add_register('q1', 1)\n",
    "q2 = bb.add_register('q2', 1)\n",
    "\n",
    "qs, junk, trg = bb.add_from(MultiAnd((1,1,1)), ctrl=[q0, q1, q2])\n",
    "qs = bb.add(MultiAnd((1,1,1), adjoint=True), ctrl=qs, target=trg, junk=junk)\n",
    "\n",
    "cbloq = bb.finalize(q0=qs[0], q1=qs[1], q2=qs[2])\n",
    "\n",
    "show_bloq(cbloq)"
   ]
  },
  {
   "cell_type": "code",
   "execution_count": null,
   "id": "f93ce8ed",
   "metadata": {
    "scrolled": false
   },
   "outputs": [],
   "source": [
    "from qualtran.bloqs.and_bloq import MultiAnd\n",
    "bloq = MultiAnd((1,1,1,1))\n",
    "show_bloq(bloq.decompose_bloq())"
   ]
  },
  {
   "cell_type": "markdown",
   "id": "faeca991",
   "metadata": {},
   "source": [
    "## Classical Simulation\n",
    "\n",
    "The `And` gate is classical logic, so we can simulate it on discrete bitstrings."
   ]
  },
  {
   "cell_type": "code",
   "execution_count": null,
   "id": "c8701a60",
   "metadata": {},
   "outputs": [],
   "source": [
    "ctrl, out = And().call_classically(ctrl=np.array([1, 1]))\n",
    "out"
   ]
  },
  {
   "cell_type": "code",
   "execution_count": null,
   "id": "e6965536",
   "metadata": {},
   "outputs": [],
   "source": [
    "ctrl = np.array([1,1,1,1])\n",
    "ctrl, junk, out = MultiAnd((1,1,1,1)).call_classically(ctrl=ctrl)\n",
    "out"
   ]
  },
  {
   "cell_type": "code",
   "execution_count": null,
   "id": "9a502db4",
   "metadata": {},
   "outputs": [],
   "source": [
    "from qualtran.drawing import ClassicalSimGraphDrawer\n",
    "\n",
    "ClassicalSimGraphDrawer(\n",
    "    MultiAnd((1,1,1,1)).decompose_bloq(), \n",
    "    vals=dict(ctrl=[1,1,0,1])\n",
    ").get_svg()"
   ]
  }
 ],
 "metadata": {
  "kernelspec": {
   "display_name": "Python 3 (ipykernel)",
   "language": "python",
   "name": "python3"
  },
  "language_info": {
   "codemirror_mode": {
    "name": "ipython",
    "version": 3
   },
   "file_extension": ".py",
   "mimetype": "text/x-python",
   "name": "python",
   "nbconvert_exporter": "python",
   "pygments_lexer": "ipython3",
   "version": "3.10.9"
  }
 },
 "nbformat": 4,
 "nbformat_minor": 5
}
