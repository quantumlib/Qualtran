{
 "cells": [
  {
   "cell_type": "markdown",
   "id": "150c4dfe",
   "metadata": {
    "cq.autogen": "title_cell"
   },
   "source": [
    "# Bookkeeping Bloqs\n",
    "\n",
    "Bloqs for virtual operations and register reshaping."
   ]
  },
  {
   "cell_type": "code",
   "execution_count": null,
   "id": "9ae23b01",
   "metadata": {
    "cq.autogen": "top_imports"
   },
   "outputs": [],
   "source": [
    "from qualtran import Bloq, CompositeBloq, BloqBuilder, Signature, Register\n",
    "from qualtran import QBit, QInt, QUInt, QAny\n",
    "from qualtran.drawing import show_bloq, show_call_graph, show_counts_sigma\n",
    "from typing import *\n",
    "import numpy as np\n",
    "import sympy\n",
    "import cirq"
   ]
  },
  {
   "cell_type": "markdown",
   "id": "5abdd240",
   "metadata": {
    "cq.autogen": "Allocate.bloq_doc.md"
   },
   "source": [
    "## `Allocate`\n",
    "Allocate an `n` bit register.\n",
    "\n",
    "#### Parameters\n",
    " - `dtype`: the quantum data type of the allocated register. \n",
    "\n",
    "#### Registers\n",
    " - `reg [right]`: The allocated register.\n"
   ]
  },
  {
   "cell_type": "code",
   "execution_count": null,
   "id": "07aac208",
   "metadata": {
    "cq.autogen": "Allocate.bloq_doc.py"
   },
   "outputs": [],
   "source": [
    "from qualtran.bloqs.bookkeeping import Allocate"
   ]
  },
  {
   "cell_type": "markdown",
   "id": "b10de857",
   "metadata": {
    "cq.autogen": "Allocate.example_instances.md"
   },
   "source": [
    "### Example Instances"
   ]
  },
  {
   "cell_type": "code",
   "execution_count": null,
   "id": "68418ff9",
   "metadata": {
    "cq.autogen": "Allocate.alloc"
   },
   "outputs": [],
   "source": [
    "n = sympy.Symbol('n')\n",
    "alloc = Allocate(QUInt(n))"
   ]
  },
  {
   "cell_type": "markdown",
   "id": "edec0a3b",
   "metadata": {
    "cq.autogen": "Allocate.graphical_signature.md"
   },
   "source": [
    "#### Graphical Signature"
   ]
  },
  {
   "cell_type": "code",
   "execution_count": null,
   "id": "34167337",
   "metadata": {
    "cq.autogen": "Allocate.graphical_signature.py"
   },
   "outputs": [],
   "source": [
    "from qualtran.drawing import show_bloqs\n",
    "show_bloqs([alloc],\n",
    "           ['`alloc`'])"
   ]
  },
  {
   "cell_type": "markdown",
   "id": "bd71c1ae",
   "metadata": {
    "cq.autogen": "Allocate.call_graph.md"
   },
   "source": [
    "### Call Graph"
   ]
  },
  {
   "cell_type": "code",
   "execution_count": null,
   "id": "cf84a40d",
   "metadata": {
    "cq.autogen": "Allocate.call_graph.py"
   },
   "outputs": [],
   "source": [
    "from qualtran.resource_counting.generalizers import ignore_split_join\n",
    "alloc_g, alloc_sigma = alloc.call_graph(max_depth=1, generalizer=ignore_split_join)\n",
    "show_call_graph(alloc_g)\n",
    "show_counts_sigma(alloc_sigma)"
   ]
  },
  {
   "cell_type": "markdown",
   "id": "13f15a31",
   "metadata": {
    "cq.autogen": "Free.bloq_doc.md"
   },
   "source": [
    "## `Free`\n",
    "Free (i.e. de-allocate) a register.\n",
    "\n",
    "The tensor decomposition assumes the register is uncomputed and is in the zero\n",
    "state before getting freed. To verify that is the case, one can compute the resulting state\n",
    "vector after freeing qubits and make sure it is normalized.\n",
    "\n",
    "#### Parameters\n",
    " - `dtype`: The quantum data type of the register to be freed. \n",
    "\n",
    "#### Registers\n",
    " - `reg [left]`: The register to free.\n"
   ]
  },
  {
   "cell_type": "code",
   "execution_count": null,
   "id": "53ace9c4",
   "metadata": {
    "cq.autogen": "Free.bloq_doc.py"
   },
   "outputs": [],
   "source": [
    "from qualtran.bloqs.bookkeeping import Free"
   ]
  },
  {
   "cell_type": "markdown",
   "id": "6375feb7",
   "metadata": {
    "cq.autogen": "Free.example_instances.md"
   },
   "source": [
    "### Example Instances"
   ]
  },
  {
   "cell_type": "code",
   "execution_count": null,
   "id": "cb31f226",
   "metadata": {
    "cq.autogen": "Free.free"
   },
   "outputs": [],
   "source": [
    "n = sympy.Symbol('n')\n",
    "free = Free(QUInt(n))"
   ]
  },
  {
   "cell_type": "markdown",
   "id": "b4cc0aac",
   "metadata": {
    "cq.autogen": "Free.graphical_signature.md"
   },
   "source": [
    "#### Graphical Signature"
   ]
  },
  {
   "cell_type": "code",
   "execution_count": null,
   "id": "dff1e1ff",
   "metadata": {
    "cq.autogen": "Free.graphical_signature.py"
   },
   "outputs": [],
   "source": [
    "from qualtran.drawing import show_bloqs\n",
    "show_bloqs([free],\n",
    "           ['`free`'])"
   ]
  },
  {
   "cell_type": "markdown",
   "id": "38d79b30",
   "metadata": {
    "cq.autogen": "Free.call_graph.md"
   },
   "source": [
    "### Call Graph"
   ]
  },
  {
   "cell_type": "code",
   "execution_count": null,
   "id": "768baaed",
   "metadata": {
    "cq.autogen": "Free.call_graph.py"
   },
   "outputs": [],
   "source": [
    "from qualtran.resource_counting.generalizers import ignore_split_join\n",
    "free_g, free_sigma = free.call_graph(max_depth=1, generalizer=ignore_split_join)\n",
    "show_call_graph(free_g)\n",
    "show_counts_sigma(free_sigma)"
   ]
  },
  {
   "cell_type": "markdown",
   "id": "37f64a1b",
   "metadata": {
    "cq.autogen": "Split.bloq_doc.md"
   },
   "source": [
    "## `Split`\n",
    "Split a register of a given `dtype` into an array of `QBit`s.\n",
    "\n",
    "A logical operation may be defined on e.g. a quantum integer, but to define its decomposition\n",
    "we must operate on individual bits. `Split` can be used for this purpose. See `Join` for the\n",
    "inverse operation.\n",
    "\n",
    "#### Parameters\n",
    " - `dtype`: The quantum data type of the incoming data that will be split into an array of `QBit`s. \n",
    "\n",
    "#### Registers\n",
    " - `reg`: The register to be split. On its left, it is of the given data type. On the right, it is an array of `QBit()`s of shape `(dtype.num_qubits,)`.\n"
   ]
  },
  {
   "cell_type": "code",
   "execution_count": null,
   "id": "989a32e4",
   "metadata": {
    "cq.autogen": "Split.bloq_doc.py"
   },
   "outputs": [],
   "source": [
    "from qualtran.bloqs.bookkeeping import Split"
   ]
  },
  {
   "cell_type": "markdown",
   "id": "b637603e",
   "metadata": {
    "cq.autogen": "Split.example_instances.md"
   },
   "source": [
    "### Example Instances"
   ]
  },
  {
   "cell_type": "code",
   "execution_count": null,
   "id": "51b40d3a",
   "metadata": {
    "cq.autogen": "Split.split"
   },
   "outputs": [],
   "source": [
    "split = Split(QUInt(4))"
   ]
  },
  {
   "cell_type": "markdown",
   "id": "7fe4eb73",
   "metadata": {
    "cq.autogen": "Split.graphical_signature.md"
   },
   "source": [
    "#### Graphical Signature"
   ]
  },
  {
   "cell_type": "code",
   "execution_count": null,
   "id": "06ab26d2",
   "metadata": {
    "cq.autogen": "Split.graphical_signature.py"
   },
   "outputs": [],
   "source": [
    "from qualtran.drawing import show_bloqs\n",
    "show_bloqs([split],\n",
    "           ['`split`'])"
   ]
  },
  {
   "cell_type": "markdown",
   "id": "1de18159",
   "metadata": {
    "cq.autogen": "Join.bloq_doc.md"
   },
   "source": [
    "## `Join`\n",
    "Join an array of `QBit`s into one register of type `dtype`.\n",
    "\n",
    "#### Parameters\n",
    " - `dtype`: The quantum data type of the right (joined) register. \n",
    "\n",
    "#### Registers\n",
    " - `reg`: The register to be joined. On its left, it is an array of qubits. On the right, it is a register of the given data type.\n"
   ]
  },
  {
   "cell_type": "code",
   "execution_count": null,
   "id": "2e4641c9",
   "metadata": {
    "cq.autogen": "Join.bloq_doc.py"
   },
   "outputs": [],
   "source": [
    "from qualtran.bloqs.bookkeeping import Join"
   ]
  },
  {
   "cell_type": "markdown",
   "id": "6a54320c",
   "metadata": {
    "cq.autogen": "Join.example_instances.md"
   },
   "source": [
    "### Example Instances"
   ]
  },
  {
   "cell_type": "code",
   "execution_count": null,
   "id": "bc9df57b",
   "metadata": {
    "cq.autogen": "Join.join"
   },
   "outputs": [],
   "source": [
    "join = Join(dtype=QUInt(4))"
   ]
  },
  {
   "cell_type": "markdown",
   "id": "15b2c289",
   "metadata": {
    "cq.autogen": "Join.graphical_signature.md"
   },
   "source": [
    "#### Graphical Signature"
   ]
  },
  {
   "cell_type": "code",
   "execution_count": null,
   "id": "a16522f5",
   "metadata": {
    "cq.autogen": "Join.graphical_signature.py"
   },
   "outputs": [],
   "source": [
    "from qualtran.drawing import show_bloqs\n",
    "show_bloqs([join],\n",
    "           ['`join`'])"
   ]
  },
  {
   "cell_type": "markdown",
   "id": "3eeceacd-10ef-471b-b476-6b4f527b0c49",
   "metadata": {},
   "source": [
    "### Combining Split and Join\n",
    "\n",
    "As a brief example, we compose split and join into an identity operation."
   ]
  },
  {
   "cell_type": "code",
   "execution_count": null,
   "id": "ac2e083b-7a2e-48d0-8d91-dbf148822ea9",
   "metadata": {},
   "outputs": [],
   "source": [
    "import attrs\n",
    "\n",
    "@attrs.frozen\n",
    "class SplitJoin(Bloq):\n",
    "    n: int\n",
    "\n",
    "    @property\n",
    "    def signature(self) -> Signature:\n",
    "        return Signature([Register('x', QAny(self.n))])\n",
    "\n",
    "    def build_composite_bloq(\n",
    "        self, bb: 'BloqBuilder', *, x: 'Soquet'\n",
    "    ) -> Dict[str, 'Soquet']:\n",
    "        xs = bb.split(x)\n",
    "        x = bb.join(xs)\n",
    "        return {'x': x}\n",
    "\n",
    "split_join = SplitJoin(n=4).decompose_bloq()\n",
    "show_bloq(split_join)"
   ]
  },
  {
   "cell_type": "markdown",
   "id": "e36f4ea3-d77e-43f0-9522-63f4295521a1",
   "metadata": {},
   "source": [
    "In the \"musical score\" diagrams, splits are drawn such that the `dtype` wire is terminated, and the array-of-bits wires are started; and vice-versa for join."
   ]
  },
  {
   "cell_type": "code",
   "execution_count": null,
   "id": "5aab6f53-6be9-4e6a-946b-c23227cd5e13",
   "metadata": {},
   "outputs": [],
   "source": [
    "show_bloq(split_join, 'musical_score')"
   ]
  },
  {
   "cell_type": "markdown",
   "id": "668a3eda",
   "metadata": {
    "cq.autogen": "Partition.bloq_doc.md"
   },
   "source": [
    "## `Partition`\n",
    "Partition a generic index into multiple registers.\n",
    "\n",
    "#### Parameters\n",
    " - `n`: The total bitsize of the un-partitioned register\n",
    " - `regs`: Registers to partition into. The `side` attribute is ignored.\n",
    " - `partition`: `False` means un-partition instead. \n",
    "\n",
    "#### Registers\n",
    " - `x`: the un-partitioned register. LEFT by default.\n",
    " - `[user spec]`: The registers provided by the `regs` argument. RIGHT by default.\n"
   ]
  },
  {
   "cell_type": "code",
   "execution_count": null,
   "id": "f028e493",
   "metadata": {
    "cq.autogen": "Partition.bloq_doc.py"
   },
   "outputs": [],
   "source": [
    "from qualtran.bloqs.bookkeeping import Partition"
   ]
  },
  {
   "cell_type": "markdown",
   "id": "eeef3484",
   "metadata": {
    "cq.autogen": "Partition.example_instances.md"
   },
   "source": [
    "### Example Instances"
   ]
  },
  {
   "cell_type": "code",
   "execution_count": null,
   "id": "f7a3737a",
   "metadata": {
    "cq.autogen": "Partition.partition"
   },
   "outputs": [],
   "source": [
    "regs = (Register('xx', QAny(2), shape=(2, 3)), Register('yy', QAny(37)))\n",
    "bitsize = sum(reg.total_bits() for reg in regs)\n",
    "partition = Partition(n=bitsize, regs=regs)"
   ]
  },
  {
   "cell_type": "markdown",
   "id": "379dc723",
   "metadata": {
    "cq.autogen": "Partition.graphical_signature.md"
   },
   "source": [
    "#### Graphical Signature"
   ]
  },
  {
   "cell_type": "code",
   "execution_count": null,
   "id": "eb3b3494",
   "metadata": {
    "cq.autogen": "Partition.graphical_signature.py"
   },
   "outputs": [],
   "source": [
    "from qualtran.drawing import show_bloqs\n",
    "show_bloqs([partition],\n",
    "           ['`partition`'])"
   ]
  },
  {
   "cell_type": "markdown",
   "id": "908912b4-865d-4cce-8e53-a0ac68554ecd",
   "metadata": {},
   "source": [
    "As an example of the utility of `Partition`, we'll use the generic `TestMultiRegister` bloq as an example sub-bloq with many registers. We can wrap it in the `BlackBoxBloq` adapter defined below to abstract away the complicated signature into one register named \"system\"."
   ]
  },
  {
   "cell_type": "code",
   "execution_count": null,
   "id": "11e572d9-4ce8-42c3-be61-10b85fe41569",
   "metadata": {},
   "outputs": [],
   "source": [
    "from qualtran.bloqs.for_testing.many_registers import TestMultiRegister\n",
    "\n",
    "subbloq = TestMultiRegister()\n",
    "show_bloq(subbloq)"
   ]
  },
  {
   "cell_type": "code",
   "execution_count": null,
   "id": "bc0aeb16-791b-43ee-8877-0a060b8e45aa",
   "metadata": {},
   "outputs": [],
   "source": [
    "import attrs\n",
    "\n",
    "@attrs.frozen\n",
    "class BlackBoxBloq(Bloq):\n",
    "    subbloq: Bloq\n",
    "\n",
    "    @property\n",
    "    def signature(self) -> Signature:\n",
    "        return Signature.build(system=self.bitsize)\n",
    "\n",
    "    @property\n",
    "    def bitsize(self):\n",
    "        return sum(reg.total_bits() for reg in self.subbloq.signature)\n",
    "\n",
    "    def build_composite_bloq(self, bb: 'BloqBuilder', system: 'SoquetT') -> Dict[str, 'Soquet']:\n",
    "        bloq_regs = self.subbloq.signature\n",
    "        partition = Partition(self.bitsize, bloq_regs)\n",
    "        partitioned_vars = bb.add(partition, x=system)\n",
    "        partitioned_vars = bb.add(\n",
    "            self.subbloq, **{reg.name: sp for reg, sp in zip(bloq_regs, partitioned_vars)}\n",
    "        )\n",
    "        system = bb.add(\n",
    "            partition.adjoint(), **{reg.name: sp for reg, sp in zip(bloq_regs, partitioned_vars)}\n",
    "        )\n",
    "        return {'system': system}"
   ]
  },
  {
   "cell_type": "code",
   "execution_count": null,
   "id": "e3f923a9-acc4-4ebb-a9ef-f160c3adc53b",
   "metadata": {},
   "outputs": [],
   "source": [
    "# The signature is now just one register named \"system\"\n",
    "show_bloq(BlackBoxBloq(subbloq))"
   ]
  },
  {
   "cell_type": "code",
   "execution_count": null,
   "id": "fb46a8bd-f498-40ba-b76b-27a20e667c2c",
   "metadata": {},
   "outputs": [],
   "source": [
    "# The `Partition` bloq partitions the one \"system\" register into the quantum interface\n",
    "# expected by the subbloq (and back again).\n",
    "show_bloq(BlackBoxBloq(subbloq).decompose_bloq())"
   ]
  },
  {
   "cell_type": "markdown",
   "id": "1c79689b",
   "metadata": {
    "cq.autogen": "Cast.bloq_doc.md"
   },
   "source": [
    "## `Cast`\n",
    "Cast a register from one n-bit QDType to another QDType.\n",
    "\n",
    "This re-interprets the register's data type from `inp_dtype` to `out_dtype`.\n",
    "\n",
    "#### Parameters\n",
    " - `inp_dtype`: Input QDType to cast from.\n",
    " - `out_dtype`: Output QDType to cast to.\n",
    " - `shape`: shape of the register to cast. \n",
    "\n",
    "#### Registers\n",
    " - `in`: input register to cast from.\n",
    " - `out`: input register to cast to.\n"
   ]
  },
  {
   "cell_type": "code",
   "execution_count": null,
   "id": "918357d7",
   "metadata": {
    "cq.autogen": "Cast.bloq_doc.py"
   },
   "outputs": [],
   "source": [
    "from qualtran.bloqs.bookkeeping import Cast"
   ]
  },
  {
   "cell_type": "markdown",
   "id": "73d8af3b",
   "metadata": {
    "cq.autogen": "Cast.example_instances.md"
   },
   "source": [
    "### Example Instances"
   ]
  },
  {
   "cell_type": "code",
   "execution_count": null,
   "id": "4b780e54",
   "metadata": {
    "cq.autogen": "Cast.cast"
   },
   "outputs": [],
   "source": [
    "from qualtran import QFxp, QInt\n",
    "\n",
    "cast = Cast(QInt(32), QFxp(32, 32))"
   ]
  },
  {
   "cell_type": "markdown",
   "id": "10c93d9d",
   "metadata": {
    "cq.autogen": "Cast.graphical_signature.md"
   },
   "source": [
    "#### Graphical Signature"
   ]
  },
  {
   "cell_type": "code",
   "execution_count": null,
   "id": "e234de5c",
   "metadata": {
    "cq.autogen": "Cast.graphical_signature.py"
   },
   "outputs": [],
   "source": [
    "from qualtran.drawing import show_bloqs\n",
    "show_bloqs([cast],\n",
    "           ['`cast`'])"
   ]
  },
  {
   "cell_type": "markdown",
   "id": "fad4fc6e-5e44-4c9c-9da5-38d935466ad4",
   "metadata": {},
   "source": [
    "### Annotating diagrams with DTypes\n",
    "\n",
    "Here, we see an example where the `Cast` re-interprets the input `QFxp` register as a `QUInt` so an addition can be performed. We annotate the compute graph wires with their quantum data types by using `type='dtype'` in the call to `show_bloq`."
   ]
  },
  {
   "cell_type": "code",
   "execution_count": null,
   "id": "acd11981-60bb-4c7d-804f-6972c4e36263",
   "metadata": {},
   "outputs": [],
   "source": [
    "from qualtran.bloqs.for_testing import TestCastToFrom\n",
    "show_bloq(TestCastToFrom().decompose_bloq(), type='dtype')"
   ]
  },
  {
   "cell_type": "markdown",
   "id": "b6e0f882",
   "metadata": {
    "cq.autogen": "AutoPartition.bloq_doc.md"
   },
   "source": [
    "## `AutoPartition`\n",
    "Wrap a bloq with `Partition` to fit an alternative set of input and output registers\n",
    "   such that splits / joins can be avoided in diagrams.\n",
    "\n",
    "#### Parameters\n",
    " - `bloq`: The bloq to wrap.\n",
    " - `partitions`: A sequence of pairs specifying each register that the wrapped bloq should accept and the names of registers from `bloq.signature.lefts()` that concatenate to form it.\n",
    " - `left_only`: If False, the output registers will also follow `partition`. Otherwise, the output registers will follow `bloq.signature.rights()`. This flag must be set to True if `bloq` does not have the same LEFT and RIGHT registers, as is required for the bloq to be fully wrapped on the left and right. \n",
    "\n",
    "#### Registers\n",
    " - `[user_spec]`: The output registers of the wrapped bloq.\n"
   ]
  },
  {
   "cell_type": "code",
   "execution_count": null,
   "id": "1c0a8e98",
   "metadata": {
    "cq.autogen": "AutoPartition.bloq_doc.py"
   },
   "outputs": [],
   "source": [
    "from qualtran.bloqs.bookkeeping import AutoPartition"
   ]
  },
  {
   "cell_type": "markdown",
   "id": "77223022",
   "metadata": {
    "cq.autogen": "AutoPartition.example_instances.md"
   },
   "source": [
    "### Example Instances"
   ]
  },
  {
   "cell_type": "code",
   "execution_count": null,
   "id": "3759b4fa",
   "metadata": {
    "cq.autogen": "AutoPartition.auto_partition"
   },
   "outputs": [],
   "source": [
    "from qualtran import Controlled, CtrlSpec\n",
    "from qualtran.bloqs.basic_gates import Swap\n",
    "\n",
    "bloq = Controlled(Swap(1), CtrlSpec())\n",
    "auto_partition = AutoPartition(\n",
    "    bloq, [(Register('x', QAny(2)), ['ctrl', 'x']), (Register('y', QAny(1)), ['y'])]\n",
    ")"
   ]
  },
  {
   "cell_type": "markdown",
   "id": "06481dca",
   "metadata": {
    "cq.autogen": "AutoPartition.graphical_signature.md"
   },
   "source": [
    "#### Graphical Signature"
   ]
  },
  {
   "cell_type": "code",
   "execution_count": null,
   "id": "49cd2fe3",
   "metadata": {
    "cq.autogen": "AutoPartition.graphical_signature.py"
   },
   "outputs": [],
   "source": [
    "from qualtran.drawing import show_bloqs\n",
    "show_bloqs([auto_partition],\n",
    "           ['`auto_partition`'])"
   ]
  },
  {
   "cell_type": "markdown",
   "id": "9735ebbc",
   "metadata": {
    "cq.autogen": "AutoPartition.call_graph.md"
   },
   "source": [
    "### Call Graph"
   ]
  },
  {
   "cell_type": "code",
   "execution_count": null,
   "id": "c4ac66db",
   "metadata": {
    "cq.autogen": "AutoPartition.call_graph.py"
   },
   "outputs": [],
   "source": [
    "from qualtran.resource_counting.generalizers import ignore_split_join\n",
    "auto_partition_g, auto_partition_sigma = auto_partition.call_graph(max_depth=1, generalizer=ignore_split_join)\n",
    "show_call_graph(auto_partition_g)\n",
    "show_counts_sigma(auto_partition_sigma)"
   ]
  },
  {
   "cell_type": "markdown",
   "id": "a1b2e826",
   "metadata": {},
   "source": [
    "### Using `AutoPartition` to simplify diagrams"
   ]
  },
  {
   "cell_type": "markdown",
   "id": "31946e00",
   "metadata": {},
   "source": [
    "Sometimes, we want to use bloqs whose signatures don't quite match up with the signature of a bigger bloq we want to build. For example, the bloq might have a flat list of qubits whereas we have a big register, or vice versa. \n",
    "\n",
    "Normally, we can just split / join / partition during the decomposition and go on our way, but this leads to unsightly diagrams like this:"
   ]
  },
  {
   "cell_type": "code",
   "execution_count": null,
   "id": "d9737eea",
   "metadata": {},
   "outputs": [],
   "source": [
    "from functools import cached_property\n",
    "\n",
    "from qualtran.bloqs.rotations.hamming_weight_phasing import HammingWeightPhasing\n",
    "from qualtran.drawing import draw_musical_score\n",
    "from qualtran.drawing.musical_score import get_musical_score_data\n",
    "\n",
    "\n",
    "@attrs.frozen\n",
    "class ManyBit(Bloq):\n",
    "    @cached_property\n",
    "    def signature(self) -> Signature:\n",
    "        return Signature((Register('xs', QBit(), shape=(20,)),))\n",
    "\n",
    "\n",
    "@attrs.frozen\n",
    "class NotWrapped(Bloq):\n",
    "    bitsize: int = 10\n",
    "\n",
    "    @cached_property\n",
    "    def signature(self) -> Signature:\n",
    "        return Signature((Register('x', QBit(), shape=(self.bitsize,)), Register('y', QAny(20))))\n",
    "\n",
    "    def build_composite_bloq(\n",
    "        self, bb: BloqBuilder, x: 'SoquetT', y: 'SoquetT'\n",
    "    ) -> Dict[str, 'SoquetT']:\n",
    "        for i in range(5):\n",
    "            two_bit = bb.join(x[i * 2 : i * 2 + 2], QUInt(2))\n",
    "            two_bit = bb.add(HammingWeightPhasing(2, 0.11), x=two_bit)\n",
    "            x[i * 2 : i * 2 + 2] = bb.split(two_bit)\n",
    "        many_bit = bb.split(y)\n",
    "        many_bit = bb.add(ManyBit(), xs=many_bit)\n",
    "        return {'x': x, 'y': bb.join(many_bit)}\n",
    "\n",
    "\n",
    "bloq = NotWrapped()\n",
    "draw_musical_score(get_musical_score_data(bloq.decompose_bloq()))"
   ]
  },
  {
   "cell_type": "markdown",
   "id": "e6bfd5c7",
   "metadata": {},
   "source": [
    "Using the `AutoPartition` bloq, we can hide the partition/unpartition pairs behind a level of decomposition, thereby cleaning up the diagram:"
   ]
  },
  {
   "cell_type": "code",
   "execution_count": null,
   "id": "72cfb27f",
   "metadata": {},
   "outputs": [],
   "source": [
    "@attrs.frozen\n",
    "class Wrapped(Bloq):\n",
    "    bitsize: int = 10\n",
    "\n",
    "    @cached_property\n",
    "    def signature(self) -> Signature:\n",
    "        return Signature((Register('x', QBit(), shape=(self.bitsize,)), Register('y', QAny(20))))\n",
    "\n",
    "    def build_composite_bloq(\n",
    "        self, bb: BloqBuilder, x: 'SoquetT', y: 'SoquetT'\n",
    "    ) -> Dict[str, 'SoquetT']:\n",
    "        for i in range(5):\n",
    "            hwp = HammingWeightPhasing(2, i * 0.11)\n",
    "            x[i * 2 : i * 2 + 2] = bb.add(\n",
    "                AutoPartition(hwp, [(Register('reg_1', QBit(), shape=(2,)), ('x',))]),\n",
    "                reg_1=x[i * 2 : i * 2 + 2],\n",
    "            )\n",
    "        many = ManyBit()\n",
    "        b = AutoPartition(many, [(Register('y', QAny(20)), ('xs',))])\n",
    "        y = bb.add(b, y=y)\n",
    "        return {'x': x, 'y': y}\n",
    "\n",
    "\n",
    "bloq = Wrapped()\n",
    "draw_musical_score(get_musical_score_data(bloq.decompose_bloq()))"
   ]
  },
  {
   "cell_type": "markdown",
   "id": "310a67d5",
   "metadata": {},
   "source": [
    "Instead of explicitly instantiating a `AutoPartition`, we can also use the utility function `BloqBuilder.add_and_partition`:"
   ]
  },
  {
   "cell_type": "code",
   "execution_count": null,
   "id": "8e3be77e",
   "metadata": {},
   "outputs": [],
   "source": [
    "@attrs.frozen\n",
    "class Wrapped(Bloq):\n",
    "    bitsize: int = 10\n",
    "\n",
    "    @cached_property\n",
    "    def signature(self) -> Signature:\n",
    "        return Signature((Register('x', QBit(), shape=(self.bitsize,)), Register('y', QAny(20))))\n",
    "\n",
    "    def build_composite_bloq(\n",
    "        self, bb: BloqBuilder, x: 'SoquetT', y: 'SoquetT'\n",
    "    ) -> Dict[str, 'SoquetT']:\n",
    "        for i in range(5):\n",
    "            hwp = HammingWeightPhasing(2, i * 0.11)\n",
    "            x[i * 2 : i * 2 + 2] = bb.add_and_partition(\n",
    "                hwp, [(Register('reg_1', QBit(), shape=(2,)), ('x',))], reg_1=x[i * 2 : i * 2 + 2]\n",
    "            )\n",
    "        many = ManyBit()\n",
    "        y = bb.add_and_partition(many, [(Register('y', QAny(20)), ('xs',))], y=y)\n",
    "        return {'x': x, 'y': y}\n",
    "\n",
    "\n",
    "bloq = Wrapped()\n",
    "draw_musical_score(get_musical_score_data(bloq.decompose_bloq()))"
   ]
  }
 ],
 "metadata": {
  "kernelspec": {
   "display_name": "Python 3 (ipykernel)",
   "language": "python",
   "name": "python3"
  },
  "language_info": {
   "codemirror_mode": {
    "name": "ipython",
    "version": 3
   },
   "file_extension": ".py",
   "mimetype": "text/x-python",
   "name": "python",
   "nbconvert_exporter": "python",
   "pygments_lexer": "ipython3",
   "version": "3.11.8"
  }
 },
 "nbformat": 4,
 "nbformat_minor": 5
}
