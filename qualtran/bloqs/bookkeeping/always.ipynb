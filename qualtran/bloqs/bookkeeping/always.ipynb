{
 "cells": [
  {
   "cell_type": "markdown",
   "id": "bf48fd51",
   "metadata": {
    "cq.autogen": "title_cell"
   },
   "source": [
    "# Always"
   ]
  },
  {
   "cell_type": "code",
   "execution_count": null,
   "id": "6648f76d",
   "metadata": {
    "cq.autogen": "top_imports"
   },
   "outputs": [],
   "source": [
    "from qualtran import Bloq, CompositeBloq, BloqBuilder, Signature, Register\n",
    "from qualtran import QBit, QInt, QUInt, QAny\n",
    "from qualtran.drawing import show_bloq, show_call_graph, show_counts_sigma\n",
    "from typing import *\n",
    "import numpy as np\n",
    "import sympy\n",
    "import cirq"
   ]
  },
  {
   "cell_type": "markdown",
   "id": "179ca2bc",
   "metadata": {
    "cq.autogen": "Always.bloq_doc.md"
   },
   "source": [
    "## `Always`\n",
    "Always execute the wrapped bloq, even when a controlled version is requested\n",
    "\n",
    "A controlled version of a composite bloq in turn controls each subbloq in the decomposition.\n",
    "Wrapping a particular subbloq with `Always` lets it bypass the controls,\n",
    "i.e. it is \"always\" executed, irrespective of what the controls are.\n",
    "\n",
    "This is useful when writing decompositions for two known patterns:\n",
    "\n",
    "1. Compute-uncompute pairs: If a decomposition contains a compute-uncompute pair,\n",
    "then for a controlled version, we only need to control the rest of the bloqs.\n",
    "Wrapping both the compute and uncompute bloqs in `Always` lets them bypass the controls.\n",
    "\n",
    "2. Controlled data-loading: For example, in the `AddK` bloq which adds a constant `k` to the\n",
    "register, we (controlled) load the value `k` into a quantum register, and \"always\" perform an\n",
    "quantum-quantum addition using `Add`, and unload `k`. Here wrapping the middle `Add` with\n",
    "`Always` lets it bypass controls, e.g. when using `AddK.controlled()`.\n",
    "\n",
    "This simplifies the decompositions by avoiding the need to explicitly define the decomposition\n",
    "for the controlled version of bloq.\n",
    "\n",
    "**Caution:** This wrapper should be used with care. It is up to the bloq author to ensure that\n",
    "the controlled version of a decomposition containing `Always` bloqs still respects the\n",
    "controlled protocol. That is, ignoring controls on these subbloqs wrapped in `Always` should not\n",
    "change the action of the overall bloq with respect to the reference controlled implementation.\n",
    "\n",
    "#### Parameters\n",
    " - `subbloq`: The bloq to always apply, irrespective of any controls.\n"
   ]
  },
  {
   "cell_type": "code",
   "execution_count": null,
   "id": "05a62257",
   "metadata": {
    "cq.autogen": "Always.bloq_doc.py"
   },
   "outputs": [],
   "source": [
    "from qualtran.bloqs.bookkeeping import Always"
   ]
  },
  {
   "cell_type": "markdown",
   "id": "60e2374a",
   "metadata": {
    "cq.autogen": "Always.example_instances.md"
   },
   "source": [
    "### Example Instances"
   ]
  },
  {
   "cell_type": "code",
   "execution_count": null,
   "id": "21ae2088",
   "metadata": {
    "cq.autogen": "Always.always_and"
   },
   "outputs": [],
   "source": [
    "from qualtran.bloqs.mcmt.and_bloq import And\n",
    "\n",
    "always_and = Always(And())\n"
   ]
  },
  {
   "cell_type": "markdown",
   "id": "c0aa6a45",
   "metadata": {
    "cq.autogen": "Always.graphical_signature.md"
   },
   "source": [
    "#### Graphical Signature"
   ]
  },
  {
   "cell_type": "code",
   "execution_count": null,
   "id": "827d9092",
   "metadata": {
    "cq.autogen": "Always.graphical_signature.py"
   },
   "outputs": [],
   "source": [
    "from qualtran.drawing import show_bloqs\n",
    "show_bloqs([always_and],\n",
    "           ['`always_and`'])"
   ]
  },
  {
   "cell_type": "markdown",
   "id": "c15ef785",
   "metadata": {
    "cq.autogen": "Always.call_graph.md"
   },
   "source": [
    "### Call Graph"
   ]
  },
  {
   "cell_type": "code",
   "execution_count": null,
   "id": "b2625032",
   "metadata": {
    "cq.autogen": "Always.call_graph.py"
   },
   "outputs": [],
   "source": [
    "from qualtran.resource_counting.generalizers import ignore_split_join\n",
    "always_and_g, always_and_sigma = always_and.call_graph(max_depth=1, generalizer=ignore_split_join)\n",
    "show_call_graph(always_and_g)\n",
    "show_counts_sigma(always_and_sigma)"
   ]
  }
 ],
 "metadata": {
  "kernelspec": {
   "display_name": "Python 3",
   "language": "python",
   "name": "python3"
  },
  "language_info": {
   "name": "python"
  }
 },
 "nbformat": 4,
 "nbformat_minor": 5
}
