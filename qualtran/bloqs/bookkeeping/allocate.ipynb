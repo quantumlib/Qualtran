{
 "cells": [
  {
   "cell_type": "markdown",
   "id": "a7be8545",
   "metadata": {
    "cq.autogen": "title_cell"
   },
   "source": [
    "# Alloc / Free"
   ]
  },
  {
   "cell_type": "code",
   "execution_count": null,
   "id": "01fdc670",
   "metadata": {
    "cq.autogen": "top_imports"
   },
   "outputs": [],
   "source": [
    "from qualtran import Bloq, CompositeBloq, BloqBuilder, Signature, Register\n",
    "from qualtran import QBit, QInt, QUInt, QAny\n",
    "from qualtran.drawing import show_bloq, show_call_graph, show_counts_sigma\n",
    "from typing import *\n",
    "import numpy as np\n",
    "import sympy\n",
    "import cirq"
   ]
  },
  {
   "cell_type": "markdown",
   "id": "9639fbe4",
   "metadata": {
    "cq.autogen": "Allocate.bloq_doc.md"
   },
   "source": [
    "## `Allocate`\n",
    "Allocate an `n` bit register.\n",
    "\n",
    "#### Parameters\n",
    " - `dtype`: the quantum data type of the allocated register.\n",
    " - `dirty`: If true, represents a borrowing operation where allocated qubits can be dirty. \n",
    "\n",
    "#### Registers\n",
    " - `reg [right]`: The allocated register.\n"
   ]
  },
  {
   "cell_type": "code",
   "execution_count": null,
   "id": "3a32133e",
   "metadata": {
    "cq.autogen": "Allocate.bloq_doc.py"
   },
   "outputs": [],
   "source": [
    "from qualtran.bloqs.bookkeeping import Allocate"
   ]
  },
  {
   "cell_type": "markdown",
   "id": "3e445f38",
   "metadata": {
    "cq.autogen": "Allocate.example_instances.md"
   },
   "source": [
    "### Example Instances"
   ]
  },
  {
   "cell_type": "code",
   "execution_count": null,
   "id": "64eae920",
   "metadata": {
    "cq.autogen": "Allocate.alloc"
   },
   "outputs": [],
   "source": [
    "n = sympy.Symbol('n')\n",
    "alloc = Allocate(QUInt(n))"
   ]
  },
  {
   "cell_type": "markdown",
   "id": "9799a674",
   "metadata": {
    "cq.autogen": "Allocate.graphical_signature.md"
   },
   "source": [
    "#### Graphical Signature"
   ]
  },
  {
   "cell_type": "code",
   "execution_count": null,
   "id": "cc30ba5a",
   "metadata": {
    "cq.autogen": "Allocate.graphical_signature.py"
   },
   "outputs": [],
   "source": [
    "from qualtran.drawing import show_bloqs\n",
    "show_bloqs([alloc],\n",
    "           ['`alloc`'])"
   ]
  },
  {
   "cell_type": "markdown",
   "id": "b3279532",
   "metadata": {
    "cq.autogen": "Allocate.call_graph.md"
   },
   "source": [
    "### Call Graph"
   ]
  },
  {
   "cell_type": "code",
   "execution_count": null,
   "id": "9109defa",
   "metadata": {
    "cq.autogen": "Allocate.call_graph.py"
   },
   "outputs": [],
   "source": [
    "from qualtran.resource_counting.generalizers import ignore_split_join\n",
    "alloc_g, alloc_sigma = alloc.call_graph(max_depth=1, generalizer=ignore_split_join)\n",
    "show_call_graph(alloc_g)\n",
    "show_counts_sigma(alloc_sigma)"
   ]
  },
  {
   "cell_type": "markdown",
   "id": "d97992a2",
   "metadata": {
    "cq.autogen": "Free.bloq_doc.md"
   },
   "source": [
    "## `Free`\n",
    "Free (i.e. de-allocate) a register.\n",
    "\n",
    "The tensor decomposition assumes the register is uncomputed and is in the zero\n",
    "state before getting freed. To verify that is the case, one can compute the resulting state\n",
    "vector after freeing qubits and make sure it is normalized.\n",
    "\n",
    "#### Parameters\n",
    " - `dtype`: The quantum data type of the register to be freed.\n",
    " - `dirty`: If true, represents adjoint of a borrowing operation where deallocated qubits were borrowed dirty from another part of the algorithm and must be free'd in the same dirty state. \n",
    "\n",
    "#### Registers\n",
    " - `reg [left]`: The register to free.\n"
   ]
  },
  {
   "cell_type": "code",
   "execution_count": null,
   "id": "02f58e9f",
   "metadata": {
    "cq.autogen": "Free.bloq_doc.py"
   },
   "outputs": [],
   "source": [
    "from qualtran.bloqs.bookkeeping import Free"
   ]
  },
  {
   "cell_type": "markdown",
   "id": "2330f781",
   "metadata": {
    "cq.autogen": "Free.example_instances.md"
   },
   "source": [
    "### Example Instances"
   ]
  },
  {
   "cell_type": "code",
   "execution_count": null,
   "id": "57cb3a2d",
   "metadata": {
    "cq.autogen": "Free.free"
   },
   "outputs": [],
   "source": [
    "n = sympy.Symbol('n')\n",
    "free = Free(QUInt(n))"
   ]
  },
  {
   "cell_type": "markdown",
   "id": "20d2be05",
   "metadata": {
    "cq.autogen": "Free.graphical_signature.md"
   },
   "source": [
    "#### Graphical Signature"
   ]
  },
  {
   "cell_type": "code",
   "execution_count": null,
   "id": "b5a9e693",
   "metadata": {
    "cq.autogen": "Free.graphical_signature.py"
   },
   "outputs": [],
   "source": [
    "from qualtran.drawing import show_bloqs\n",
    "show_bloqs([free],\n",
    "           ['`free`'])"
   ]
  },
  {
   "cell_type": "markdown",
   "id": "203cfda5",
   "metadata": {
    "cq.autogen": "Free.call_graph.md"
   },
   "source": [
    "### Call Graph"
   ]
  },
  {
   "cell_type": "code",
   "execution_count": null,
   "id": "34f77821",
   "metadata": {
    "cq.autogen": "Free.call_graph.py"
   },
   "outputs": [],
   "source": [
    "from qualtran.resource_counting.generalizers import ignore_split_join\n",
    "free_g, free_sigma = free.call_graph(max_depth=1, generalizer=ignore_split_join)\n",
    "show_call_graph(free_g)\n",
    "show_counts_sigma(free_sigma)"
   ]
  }
 ],
 "metadata": {
  "kernelspec": {
   "display_name": "Python 3",
   "language": "python",
   "name": "python3"
  },
  "language_info": {
   "name": "python"
  }
 },
 "nbformat": 4,
 "nbformat_minor": 5
}
