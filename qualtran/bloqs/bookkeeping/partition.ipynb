{
 "cells": [
  {
   "cell_type": "markdown",
   "id": "9e4e7fa3",
   "metadata": {
    "cq.autogen": "title_cell"
   },
   "source": [
    "# Partition"
   ]
  },
  {
   "cell_type": "code",
   "execution_count": null,
   "id": "aae845b6",
   "metadata": {
    "cq.autogen": "top_imports"
   },
   "outputs": [],
   "source": [
    "from qualtran import Bloq, CompositeBloq, BloqBuilder, Signature, Register\n",
    "from qualtran import QBit, QInt, QUInt, QAny\n",
    "from qualtran.drawing import show_bloq, show_call_graph, show_counts_sigma\n",
    "from typing import *\n",
    "import numpy as np\n",
    "import sympy\n",
    "import cirq"
   ]
  },
  {
   "cell_type": "markdown",
   "id": "1e48528b",
   "metadata": {
    "cq.autogen": "Partition.bloq_doc.md"
   },
   "source": [
    "## `Partition`\n",
    "Partition a generic index into multiple registers.\n",
    "\n",
    "#### Parameters\n",
    " - `n`: The total bitsize of the un-partitioned register\n",
    " - `regs`: Registers to partition into. The `side` attribute is ignored.\n",
    " - `partition`: `False` means un-partition instead. \n",
    "\n",
    "#### Registers\n",
    " - `x`: the un-partitioned register. LEFT by default.\n",
    " - `[user spec]`: The registers provided by the `regs` argument. RIGHT by default.\n"
   ]
  },
  {
   "cell_type": "code",
   "execution_count": null,
   "id": "84622dd1",
   "metadata": {
    "cq.autogen": "Partition.bloq_doc.py"
   },
   "outputs": [],
   "source": [
    "from qualtran.bloqs.bookkeeping import Partition"
   ]
  },
  {
   "cell_type": "markdown",
   "id": "8485c9a2",
   "metadata": {
    "cq.autogen": "Partition.example_instances.md"
   },
   "source": [
    "### Example Instances"
   ]
  },
  {
   "cell_type": "code",
   "execution_count": null,
   "id": "4a597a8a",
   "metadata": {
    "cq.autogen": "Partition.partition"
   },
   "outputs": [],
   "source": [
    "regs = (Register('xx', QAny(2), shape=(2, 3)), Register('yy', QAny(37)))\n",
    "bitsize = sum(reg.total_bits() for reg in regs)\n",
    "partition = Partition(n=bitsize, regs=regs)"
   ]
  },
  {
   "cell_type": "markdown",
   "id": "de852435",
   "metadata": {
    "cq.autogen": "Partition.graphical_signature.md"
   },
   "source": [
    "#### Graphical Signature"
   ]
  },
  {
   "cell_type": "code",
   "execution_count": null,
   "id": "f5d4bed5",
   "metadata": {
    "cq.autogen": "Partition.graphical_signature.py"
   },
   "outputs": [],
   "source": [
    "from qualtran.drawing import show_bloqs\n",
    "show_bloqs([partition],\n",
    "           ['`partition`'])"
   ]
  },
  {
   "cell_type": "markdown",
   "id": "629aa0d9",
   "metadata": {
    "cq.autogen": "AutoPartition.bloq_doc.md"
   },
   "source": [
    "## `AutoPartition`\n",
    "Automatically adds and undoes `Partition` of registers to match the signature of a sub-bloq.\n",
    "\n",
    "This tool enables using a bloq in a context expecting an alternative signature that combines\n",
    "registers in the bloq's signature or operates over more registers than the bloq does.\n",
    "For example, it can adapt a bloq exposing multiple selection registers to a quantum interface\n",
    "that expects only one unified selection register.\n",
    "\n",
    "Wrapping in `AutoPartition` also hides splits and joins behind a level of decomposition, which\n",
    "can produce more helpful circuit diagrams compared to manually splitting and joining.\n",
    "\n",
    "#### Parameters\n",
    " - `bloq`: The sub-bloq to wrap. Its register names are used within the second items in each pair in the `partitions` argument below.\n",
    " - `partitions`: A sequence of pairs specifying each register that is exposed in the external signature of the `AutoPartition` and its relationship to the registers of `bloq`. The first element of each pair is a `Register` exposed externally. The second is a list of register names of `bloq` that concatenate to form the externally exposed register. If `bloq` does not operate on some portion (of `n` bits) of the externally exposed register, the sentinel value `Unused(n)` can be used in place of a register name.\n",
    " - `left_only`: If False, the output registers will also follow `partition`. Otherwise, the output registers will follow `bloq.signature.rights()`. This flag must be set to True if `bloq` does not have the same LEFT and RIGHT registers, as is required for the bloq to be fully wrapped on the left and right. \n",
    "\n",
    "#### Registers\n",
    " - `[user_spec]`: The output registers of the wrapped bloq.\n"
   ]
  },
  {
   "cell_type": "code",
   "execution_count": null,
   "id": "897f739c",
   "metadata": {
    "cq.autogen": "AutoPartition.bloq_doc.py"
   },
   "outputs": [],
   "source": [
    "from qualtran.bloqs.bookkeeping import AutoPartition"
   ]
  },
  {
   "cell_type": "markdown",
   "id": "80dcaba6",
   "metadata": {
    "cq.autogen": "AutoPartition.example_instances.md"
   },
   "source": [
    "### Example Instances"
   ]
  },
  {
   "cell_type": "code",
   "execution_count": null,
   "id": "923f331d",
   "metadata": {
    "cq.autogen": "AutoPartition.auto_partition"
   },
   "outputs": [],
   "source": [
    "from qualtran import Controlled, CtrlSpec\n",
    "from qualtran.bloqs.basic_gates import Swap\n",
    "\n",
    "bloq = Controlled(Swap(1), CtrlSpec())\n",
    "auto_partition = AutoPartition(\n",
    "    bloq, [(Register('x', QAny(2)), ['ctrl', 'x']), (Register('y', QAny(1)), ['y'])]\n",
    ")"
   ]
  },
  {
   "cell_type": "code",
   "execution_count": null,
   "id": "cce3a121",
   "metadata": {
    "cq.autogen": "AutoPartition.auto_partition_unused"
   },
   "outputs": [],
   "source": [
    "from qualtran import Controlled, CtrlSpec\n",
    "from qualtran.bloqs.basic_gates import Swap\n",
    "from qualtran.bloqs.bookkeeping.auto_partition import Unused\n",
    "\n",
    "bloq = Controlled(Swap(1), CtrlSpec())\n",
    "auto_partition_unused = AutoPartition(\n",
    "    bloq,\n",
    "    [\n",
    "        (Register('x', QAny(3)), ['ctrl', 'x', Unused(1)]),\n",
    "        (Register('y', QAny(1)), ['y']),\n",
    "        (Register('z', QAny(2)), [Unused(2)]),\n",
    "    ],\n",
    ")"
   ]
  },
  {
   "cell_type": "markdown",
   "id": "44c7e3d9",
   "metadata": {
    "cq.autogen": "AutoPartition.graphical_signature.md"
   },
   "source": [
    "#### Graphical Signature"
   ]
  },
  {
   "cell_type": "code",
   "execution_count": null,
   "id": "f2c675dc",
   "metadata": {
    "cq.autogen": "AutoPartition.graphical_signature.py"
   },
   "outputs": [],
   "source": [
    "from qualtran.drawing import show_bloqs\n",
    "show_bloqs([auto_partition, auto_partition_unused],\n",
    "           ['`auto_partition`', '`auto_partition_unused`'])"
   ]
  },
  {
   "cell_type": "markdown",
   "id": "123fa0af",
   "metadata": {
    "cq.autogen": "AutoPartition.call_graph.md"
   },
   "source": [
    "### Call Graph"
   ]
  },
  {
   "cell_type": "code",
   "execution_count": null,
   "id": "d20e03b8",
   "metadata": {
    "cq.autogen": "AutoPartition.call_graph.py"
   },
   "outputs": [],
   "source": [
    "from qualtran.resource_counting.generalizers import ignore_split_join\n",
    "auto_partition_g, auto_partition_sigma = auto_partition.call_graph(max_depth=1, generalizer=ignore_split_join)\n",
    "show_call_graph(auto_partition_g)\n",
    "show_counts_sigma(auto_partition_sigma)"
   ]
  }
 ],
 "metadata": {
  "kernelspec": {
   "display_name": "Python 3",
   "language": "python",
   "name": "python3"
  },
  "language_info": {
   "name": "python"
  }
 },
 "nbformat": 4,
 "nbformat_minor": 5
}
