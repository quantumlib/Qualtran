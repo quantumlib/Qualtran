{
 "cells": [
  {
   "cell_type": "markdown",
   "id": "8fbcedde",
   "metadata": {
    "cq.autogen": "title_cell"
   },
   "source": [
    "# Split2 / Join2"
   ]
  },
  {
   "cell_type": "code",
   "execution_count": null,
   "id": "9390fc64",
   "metadata": {
    "cq.autogen": "top_imports"
   },
   "outputs": [],
   "source": [
    "from qualtran import Bloq, CompositeBloq, BloqBuilder, Signature, Register\n",
    "from qualtran import QBit, QInt, QUInt, QAny\n",
    "from qualtran.drawing import show_bloq, show_call_graph, show_counts_sigma\n",
    "from typing import *\n",
    "import numpy as np\n",
    "import sympy\n",
    "import cirq"
   ]
  },
  {
   "cell_type": "markdown",
   "id": "4fc76dcd",
   "metadata": {
    "cq.autogen": "Split2.bloq_doc.md"
   },
   "source": [
    "## `Split2`\n",
    "Split one register into two registers.\n",
    "\n",
    "Contrast this with `Split`, which splits one register into `n` 1-bit wires. See also\n",
    "`Partition` which allows arbitrary partitioning schemes.\n",
    "\n",
    "#### Parameters\n",
    " - `n1`: The size of the y1 output register. n1 + n2 must add up to the size of the input register.\n",
    " - `n2`: The size of the y2 output register. n1 + n2 must add up to the size of the input register. \n",
    "\n",
    "#### Registers\n",
    " - `x [LEFT]`: The input register of size n = n1 + n2 and type QAny.\n",
    " - `y1 [RIGHT]`: The first output register of size n1 and type QAny.\n",
    " - `y2 [RIGHT]`: The second output register of size n2 and type QAny.\n"
   ]
  },
  {
   "cell_type": "code",
   "execution_count": null,
   "id": "cad821fc",
   "metadata": {
    "cq.autogen": "Split2.bloq_doc.py"
   },
   "outputs": [],
   "source": [
    "from qualtran.bloqs.bookkeeping import Split2"
   ]
  },
  {
   "cell_type": "markdown",
   "id": "df0064f9",
   "metadata": {
    "cq.autogen": "Split2.example_instances.md"
   },
   "source": [
    "### Example Instances"
   ]
  },
  {
   "cell_type": "code",
   "execution_count": null,
   "id": "0ffe354f",
   "metadata": {
    "cq.autogen": "Split2.split2"
   },
   "outputs": [],
   "source": [
    "n1, n2 = sympy.symbols('n1 n2')\n",
    "split2 = Split2(n1, n2)"
   ]
  },
  {
   "cell_type": "markdown",
   "id": "40f45c95",
   "metadata": {
    "cq.autogen": "Split2.graphical_signature.md"
   },
   "source": [
    "#### Graphical Signature"
   ]
  },
  {
   "cell_type": "code",
   "execution_count": null,
   "id": "d51f85bc",
   "metadata": {
    "cq.autogen": "Split2.graphical_signature.py"
   },
   "outputs": [],
   "source": [
    "from qualtran.drawing import show_bloqs\n",
    "show_bloqs([split2],\n",
    "           ['`split2`'])"
   ]
  },
  {
   "cell_type": "markdown",
   "id": "e1d5160e",
   "metadata": {
    "cq.autogen": "Join2.bloq_doc.md"
   },
   "source": [
    "## `Join2`\n",
    "Join two registers into one register.\n",
    "\n",
    "Contrast this with `Join`, which joins `n` 1-bit registers into one. See also\n",
    "`Partition` which allows arbitrary partitioning schemes.\n",
    "\n",
    "#### Parameters\n",
    " - `n1`: The size of the y1 input register. n1 + n2 must add up to the size of the output register.\n",
    " - `n2`: The size of the y2 input register. n1 + n2 must add up to the size of the output register. \n",
    "\n",
    "#### Registers\n",
    " - `x [RIGHT]`: The output register of size n = n1 + n2 and type QAny.\n",
    " - `y1 [LEFT]`: The first input register of size n1 and type QAny.\n",
    " - `y2 [LEFT]`: The second input register of size n2 and type QAny.\n"
   ]
  },
  {
   "cell_type": "code",
   "execution_count": null,
   "id": "f1b38d1a",
   "metadata": {
    "cq.autogen": "Join2.bloq_doc.py"
   },
   "outputs": [],
   "source": [
    "from qualtran.bloqs.bookkeeping import Join2"
   ]
  },
  {
   "cell_type": "markdown",
   "id": "8a345a73",
   "metadata": {
    "cq.autogen": "Join2.example_instances.md"
   },
   "source": [
    "### Example Instances"
   ]
  },
  {
   "cell_type": "code",
   "execution_count": null,
   "id": "300cc5c9",
   "metadata": {
    "cq.autogen": "Join2.join2"
   },
   "outputs": [],
   "source": [
    "n1, n2 = sympy.symbols('n1 n2')\n",
    "join2 = Join2(n1, n2)"
   ]
  },
  {
   "cell_type": "markdown",
   "id": "8dd9a16a",
   "metadata": {
    "cq.autogen": "Join2.graphical_signature.md"
   },
   "source": [
    "#### Graphical Signature"
   ]
  },
  {
   "cell_type": "code",
   "execution_count": null,
   "id": "24ec727b",
   "metadata": {
    "cq.autogen": "Join2.graphical_signature.py"
   },
   "outputs": [],
   "source": [
    "from qualtran.drawing import show_bloqs\n",
    "show_bloqs([join2],\n",
    "           ['`join2`'])"
   ]
  }
 ],
 "metadata": {
  "kernelspec": {
   "display_name": "Python 3",
   "language": "python",
   "name": "python3"
  },
  "language_info": {
   "name": "python"
  }
 },
 "nbformat": 4,
 "nbformat_minor": 5
}
