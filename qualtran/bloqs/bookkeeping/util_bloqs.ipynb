{
 "cells": [
  {
   "cell_type": "markdown",
   "id": "3d7d85df",
   "metadata": {},
   "source": [
    "# Util Bloqs\n",
    "\n",
    "The utility bloqs let you reshape Soquets."
   ]
  },
  {
   "cell_type": "code",
   "execution_count": null,
   "id": "31422993",
   "metadata": {},
   "outputs": [],
   "source": [
    "from qualtran import QAny\n",
    "from qualtran.drawing import GraphDrawer, PrettyGraphDrawer, show_bloq\n",
    "from qualtran.bloqs.bookkeeping import Split, Join, Partition\n",
    "import numpy as np\n",
    "\n",
    "from IPython.display import SVG"
   ]
  },
  {
   "cell_type": "markdown",
   "id": "bf300ec8",
   "metadata": {},
   "source": [
    "## Split and Join\n",
    "\n",
    "Split and join take a `bitsize=n, shape=()` to `bitsize=1, shape=(n,)` and back."
   ]
  },
  {
   "cell_type": "code",
   "execution_count": null,
   "id": "00d29330",
   "metadata": {},
   "outputs": [],
   "source": [
    "show_bloq(Split(QAny(3)))"
   ]
  },
  {
   "cell_type": "code",
   "execution_count": null,
   "id": "14fe912f",
   "metadata": {},
   "outputs": [],
   "source": [
    "show_bloq(Join(QAny(3)))"
   ]
  },
  {
   "cell_type": "markdown",
   "id": "c6e3ad7e",
   "metadata": {},
   "source": [
    "## SplitJoin\n",
    "\n",
    "For fun, we can pair `Split` and `Join` into an identity operation."
   ]
  },
  {
   "cell_type": "code",
   "execution_count": null,
   "id": "b800d8e4",
   "metadata": {},
   "outputs": [],
   "source": [
    "from attrs import frozen\n",
    "from functools import cached_property\n",
    "from typing import *\n",
    "from qualtran import Bloq, Signature, Register\n",
    "from qualtran.bloqs.basic_gates import CNOT\n",
    "\n",
    "@frozen\n",
    "class SplitJoin(Bloq):\n",
    "    n: int\n",
    "\n",
    "    @cached_property\n",
    "    def signature(self) -> Signature:\n",
    "        return Signature([Register('x', QAny(self.n))])\n",
    "\n",
    "    def build_composite_bloq(\n",
    "        self, bb: 'BloqBuilder', *, x: 'Soquet'\n",
    "    ) -> Dict[str, 'Soquet']:\n",
    "        xs = bb.split(x)\n",
    "        xs[0], xs[1] = bb.add(CNOT(), ctrl=xs[0], target=xs[1])\n",
    "        x = bb.join(xs)\n",
    "        return {'x': x}"
   ]
  },
  {
   "cell_type": "code",
   "execution_count": null,
   "id": "1f3d37be",
   "metadata": {},
   "outputs": [],
   "source": [
    "show_bloq(SplitJoin(10))"
   ]
  },
  {
   "cell_type": "code",
   "execution_count": null,
   "id": "f9aedd60",
   "metadata": {},
   "outputs": [],
   "source": [
    "show_bloq(SplitJoin(10).decompose_bloq())"
   ]
  },
  {
   "cell_type": "markdown",
   "id": "294bf286",
   "metadata": {},
   "source": [
    "## Partition\n",
    "\n",
    "A Partition is a useful bloq for abstracting away the details of large registers (like multiple selection registers, spin, orbital, ...). We can use a partition bloq to hide these detailed registers until we decompose the bloq further."
   ]
  },
  {
   "cell_type": "code",
   "execution_count": null,
   "id": "95f378f2",
   "metadata": {},
   "outputs": [],
   "source": [
    "regs = (Register('xx', QAny(2), shape=(2,3)), Register('yy', QAny(37)))\n",
    "bitsize = sum(reg.total_bits() for reg in regs)\n",
    "bloq = Partition(n=bitsize, regs=regs)\n",
    "show_bloq(bloq)"
   ]
  },
  {
   "cell_type": "markdown",
   "id": "0985a408",
   "metadata": {},
   "source": [
    "An example of using a `Partition` as part of a decomposition is given below:"
   ]
  },
  {
   "cell_type": "code",
   "execution_count": null,
   "id": "b12cc1d1",
   "metadata": {},
   "outputs": [],
   "source": [
    "from qualtran import BloqBuilder, Soquet, SoquetT\n",
    "from qualtran.bloqs.for_testing import TestMultiRegister\n",
    "\n",
    "@frozen\n",
    "class BlackBoxBloq(Bloq):\n",
    "    subbloq: Bloq\n",
    "\n",
    "    @cached_property\n",
    "    def bitsize(self):\n",
    "        return sum(reg.total_bits() for reg in self.subbloq.signature)\n",
    "\n",
    "    @cached_property\n",
    "    def signature(self) -> Signature:\n",
    "        return Signature.build(system=self.bitsize)\n",
    "\n",
    "    def build_composite_bloq(self, bb: 'BloqBuilder', system: 'SoquetT') -> Dict[str, 'Soquet']:\n",
    "        bloq_regs = self.subbloq.signature\n",
    "        partition = Partition(self.bitsize, bloq_regs)\n",
    "        partitioned_vars = bb.add(partition, x=system)\n",
    "        partitioned_vars = bb.add(\n",
    "            self.subbloq, **{reg.name: sp for reg, sp in zip(bloq_regs, partitioned_vars)}\n",
    "        )\n",
    "        system = bb.add(\n",
    "            partition.adjoint(), **{reg.name: sp for reg, sp in zip(bloq_regs, partitioned_vars)}\n",
    "        )\n",
    "        return {'system': system}\n",
    "    \n",
    "    def pretty_name(self) -> str:\n",
    "        return \"BBBloq\" "
   ]
  },
  {
   "cell_type": "markdown",
   "id": "d62031c1",
   "metadata": {},
   "source": [
    "As an example, we'll use the generic `TestMultiRegister` bloq as our sub-bloq with many registers. It does different (contrived) things to the `xx`, `yy`, and `zz` registers:"
   ]
  },
  {
   "cell_type": "code",
   "execution_count": null,
   "id": "c0bca171",
   "metadata": {},
   "outputs": [],
   "source": [
    "subbloq = TestMultiRegister()\n",
    "show_bloq(subbloq.decompose_bloq())"
   ]
  },
  {
   "cell_type": "markdown",
   "id": "dac7a234",
   "metadata": {},
   "source": [
    "By wrapping it in `BlackBoxBloq`, the previously-complicated signature is now just one register named \"system\" with a larger bitsize."
   ]
  },
  {
   "cell_type": "code",
   "execution_count": null,
   "id": "f84e69ee",
   "metadata": {},
   "outputs": [],
   "source": [
    "show_bloq(BlackBoxBloq(subbloq))"
   ]
  },
  {
   "cell_type": "markdown",
   "id": "a302d6e3",
   "metadata": {},
   "source": [
    "`Partition` adapts between the two register sets. We can inspect this in the decomposition:"
   ]
  },
  {
   "cell_type": "code",
   "execution_count": null,
   "id": "cb6901a0",
   "metadata": {},
   "outputs": [],
   "source": [
    "show_bloq(BlackBoxBloq(subbloq).decompose_bloq())"
   ]
  },
  {
   "cell_type": "markdown",
   "id": "3e0aecd6",
   "metadata": {},
   "source": [
    "## Cast\n",
    "\n",
    "Split, Joins and Partitions technically cast registers from one QDType to another. E.g. we can split an 32 QBit QInt register into an array of 32 QBits, and then join can be used to reinterpret this as a a different QDType (say a 32 bit QFxp). The Cast bloq cuts out the intermediate splits and joins and simply reinterprets n qubit registers."
   ]
  },
  {
   "cell_type": "code",
   "execution_count": null,
   "id": "cd254054",
   "metadata": {},
   "outputs": [],
   "source": [
    "from qualtran import QInt, QFxp\n",
    "from qualtran.bloqs.bookkeeping import Cast\n",
    "\n",
    "show_bloq(Cast(QInt(32), QFxp(32, 32)), type='dtype')"
   ]
  },
  {
   "cell_type": "markdown",
   "id": "bea26b7c",
   "metadata": {},
   "source": [
    "This bloq is helpful if we want to explicitly cast registers from one type to another, which may be useful during a complex decomposition involving numeric registers."
   ]
  },
  {
   "cell_type": "code",
   "execution_count": null,
   "id": "0a451dac",
   "metadata": {},
   "outputs": [],
   "source": [
    "from qualtran.bloqs.for_testing import TestCastToFrom\n",
    "show_bloq(TestCastToFrom().decompose_bloq(), type='dtype')"
   ]
  }
 ],
 "metadata": {
  "kernelspec": {
   "display_name": "Python 3 (ipykernel)",
   "language": "python",
   "name": "python3"
  },
  "language_info": {
   "codemirror_mode": {
    "name": "ipython",
    "version": 3
   },
   "file_extension": ".py",
   "mimetype": "text/x-python",
   "name": "python",
   "nbconvert_exporter": "python",
   "pygments_lexer": "ipython3",
   "version": "3.11.6"
  }
 },
 "nbformat": 4,
 "nbformat_minor": 5
}
