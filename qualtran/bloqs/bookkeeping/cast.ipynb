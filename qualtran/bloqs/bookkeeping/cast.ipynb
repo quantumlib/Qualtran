{
 "cells": [
  {
   "cell_type": "markdown",
   "id": "42307ca8",
   "metadata": {
    "cq.autogen": "title_cell"
   },
   "source": [
    "# Cast"
   ]
  },
  {
   "cell_type": "code",
   "execution_count": null,
   "id": "84b37ac8",
   "metadata": {
    "cq.autogen": "top_imports"
   },
   "outputs": [],
   "source": [
    "from qualtran import Bloq, CompositeBloq, BloqBuilder, Signature, Register\n",
    "from qualtran import QBit, QInt, QUInt, QAny\n",
    "from qualtran.drawing import show_bloq, show_call_graph, show_counts_sigma\n",
    "from typing import *\n",
    "import numpy as np\n",
    "import sympy\n",
    "import cirq"
   ]
  },
  {
   "cell_type": "markdown",
   "id": "4ee51a62",
   "metadata": {
    "cq.autogen": "Cast.bloq_doc.md"
   },
   "source": [
    "## `Cast`\n",
    "Cast a register from one n-bit QCDType to another QCDType.\n",
    "\n",
    "This simply re-interprets the register's data, and is a bookkeeping operation.\n",
    "\n",
    "#### Parameters\n",
    " - `inp_dtype`: Input QCDType to cast from.\n",
    " - `out_dtype`: Output QCDType to cast to.\n",
    " - `shape`: Optional multidimensional shape of the register to cast.\n",
    " - `allow_quantum_to_classical`: Whether to allow (potentially dangerous) casting a quantum value to a classical value and vice versa. If you cast a classical bit to a qubit that was originally obtained by casting a qubit to a classical bit, the program will model unphysical quantum coherences that can give you fundamentally incorrect resource estimates. Use a measurement operation to convert a qubit to a classical bit (and correctly model the decoherence that results). \n",
    "\n",
    "#### Registers\n",
    " - `reg`: The quantum variable to cast\n"
   ]
  },
  {
   "cell_type": "code",
   "execution_count": null,
   "id": "3f0ed040",
   "metadata": {
    "cq.autogen": "Cast.bloq_doc.py"
   },
   "outputs": [],
   "source": [
    "from qualtran.bloqs.bookkeeping import Cast"
   ]
  },
  {
   "cell_type": "markdown",
   "id": "87a65316",
   "metadata": {
    "cq.autogen": "Cast.example_instances.md"
   },
   "source": [
    "### Example Instances"
   ]
  },
  {
   "cell_type": "code",
   "execution_count": null,
   "id": "e8c05a88",
   "metadata": {
    "cq.autogen": "Cast.cast"
   },
   "outputs": [],
   "source": [
    "from qualtran import QFxp, QInt\n",
    "\n",
    "cast = Cast(QInt(32), QFxp(32, 32))"
   ]
  },
  {
   "cell_type": "markdown",
   "id": "247e94c0",
   "metadata": {
    "cq.autogen": "Cast.graphical_signature.md"
   },
   "source": [
    "#### Graphical Signature"
   ]
  },
  {
   "cell_type": "code",
   "execution_count": null,
   "id": "374ebe2d",
   "metadata": {
    "cq.autogen": "Cast.graphical_signature.py"
   },
   "outputs": [],
   "source": [
    "from qualtran.drawing import show_bloqs\n",
    "show_bloqs([cast],\n",
    "           ['`cast`'])"
   ]
  }
 ],
 "metadata": {
  "kernelspec": {
   "display_name": "Python 3",
   "language": "python",
   "name": "python3"
  },
  "language_info": {
   "name": "python"
  }
 },
 "nbformat": 4,
 "nbformat_minor": 5
}
