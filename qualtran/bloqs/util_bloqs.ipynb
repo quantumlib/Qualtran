{
 "cells": [
  {
   "cell_type": "markdown",
   "id": "3d7d85df",
   "metadata": {},
   "source": [
    "# Util Bloqs\n",
    "\n",
    "The utility bloqs let you reshape Soquets."
   ]
  },
  {
   "cell_type": "code",
   "execution_count": null,
   "id": "31422993",
   "metadata": {},
   "outputs": [],
   "source": [
    "from qualtran.drawing import GraphDrawer, PrettyGraphDrawer\n",
    "from qualtran.bloqs.util_bloqs import Split, Join, Partition\n",
    "import numpy as np\n",
    "\n",
    "from IPython.display import SVG\n",
    "\n",
    "def show_bloq(bloq, draw_cls=PrettyGraphDrawer):\n",
    "    display(SVG(draw_cls(bloq).get_graph().create_svg()))"
   ]
  },
  {
   "cell_type": "markdown",
   "id": "bf300ec8",
   "metadata": {},
   "source": [
    "## Split and Join\n",
    "\n",
    "Split and join take a `bitsize=n, shape=()` to `bitsize=1, shape=(n,)` and back."
   ]
  },
  {
   "cell_type": "code",
   "execution_count": null,
   "id": "00d29330",
   "metadata": {},
   "outputs": [],
   "source": [
    "show_bloq(Split(3))"
   ]
  },
  {
   "cell_type": "code",
   "execution_count": null,
   "id": "14fe912f",
   "metadata": {},
   "outputs": [],
   "source": [
    "show_bloq(Join(3))"
   ]
  },
  {
   "cell_type": "markdown",
   "id": "c6e3ad7e",
   "metadata": {},
   "source": [
    "## SplitJoin\n",
    "\n",
    "For fun, we can pair `Split` and `Join` into an identity operation."
   ]
  },
  {
   "cell_type": "code",
   "execution_count": null,
   "id": "b800d8e4",
   "metadata": {},
   "outputs": [],
   "source": [
    "from attrs import frozen\n",
    "from functools import cached_property\n",
    "from typing import *\n",
    "from qualtran import Bloq, Signature, Register\n",
    "from qualtran.bloqs.basic_gates import CNOT\n",
    "\n",
    "@frozen\n",
    "class SplitJoin(Bloq):\n",
    "    n: int\n",
    "\n",
    "    @cached_property\n",
    "    def signature(self) -> Signature:\n",
    "        return Signature([Register('x', self.n)])\n",
    "\n",
    "    def build_composite_bloq(\n",
    "        self, bb: 'BloqBuilder', *, x: 'Soquet'\n",
    "    ) -> Dict[str, 'Soquet']:\n",
    "        xs = bb.split(x)\n",
    "        xs[0], xs[1] = bb.add(CNOT(), ctrl=xs[0], target=xs[1])\n",
    "        x = bb.join(xs)\n",
    "        return {'x': x}"
   ]
  },
  {
   "cell_type": "code",
   "execution_count": null,
   "metadata": {},
   "outputs": [],
   "source": [
    "show_bloq(SplitJoin(10))"
   ]
  },
  {
   "cell_type": "code",
   "execution_count": null,
   "id": "f9aedd60",
   "metadata": {},
   "outputs": [],
   "source": [
    "show_bloq(SplitJoin(10).decompose_bloq())"
   ]
  },
  {
   "cell_type": "markdown",
   "metadata": {},
   "source": [
    "## Partition\n",
    "\n",
    "A Partition is a useful bloq for abstracting away the details of large registers (like multiple selection registers, spin, orbital, ...). We can use a partition bloq to hide these detailed registers until we decompose the bloq further."
   ]
  },
  {
   "cell_type": "code",
   "execution_count": null,
   "metadata": {},
   "outputs": [],
   "source": [
    "regs = (Register('xx', 2, shape=(2,3)), Register('yy', 37))\n",
    "bitsize = sum(reg.total_bits() for reg in regs)\n",
    "bloq = Partition(n=bitsize, regs=regs)\n",
    "show_bloq(bloq)"
   ]
  },
  {
   "cell_type": "markdown",
   "metadata": {},
   "source": [
    "An example of using a `Partition` as part of a decomposition is given below:"
   ]
  },
  {
   "cell_type": "code",
   "execution_count": null,
   "metadata": {},
   "outputs": [],
   "source": [
    "from qualtran import BloqBuilder, Soquet, SoquetT\n",
    "from qualtran.bloqs.basic_gates import Hadamard, CNOT\n",
    "\n",
    "@frozen\n",
    "class ComplicatedBloq(Bloq):\n",
    "    @cached_property\n",
    "    def signature(self) -> Signature:\n",
    "        return Signature([Register('xx', 1), Register('yy', 2, shape=(2, 2)), Register('zz', 3)])\n",
    "\n",
    "    def build_composite_bloq(\n",
    "        self, bb: 'BloqBuilder', xx: 'SoquetT', yy: 'SoquetT', zz: 'SoquetT'\n",
    "    ) -> Dict[str, 'Soquet']:\n",
    "        xx = bb.add(Hadamard(), q=xx)\n",
    "        for i in range(2):\n",
    "            for j in range(2):\n",
    "                a, b = bb.split(yy[i, j])\n",
    "                a, b = bb.add(CNOT(), ctrl=a, target=b)\n",
    "                yy[i, j] = bb.join(np.array([a, b]))\n",
    "        a, b, c = bb.split(zz)\n",
    "        zz = bb.join(np.array([a, b, c]))\n",
    "        return {'xx': xx, 'yy': yy, 'zz': zz}\n",
    "\n",
    "    def short_name(self) -> str:\n",
    "        return 'CB'\n",
    "\n",
    "@frozen\n",
    "class BlackBoxBloq(Bloq):\n",
    "    test_bloq: Bloq\n",
    "\n",
    "    @cached_property\n",
    "    def bitsize(self):\n",
    "        return sum(reg.total_bits() for reg in self.test_bloq.signature)\n",
    "\n",
    "    def short_name(self) -> str:\n",
    "        return \"BBBloq\" \n",
    "\n",
    "    @cached_property\n",
    "    def signature(self) -> Signature:\n",
    "        return Signature.build(test_regs=self.bitsize)\n",
    "\n",
    "    def build_composite_bloq(self, bb: 'BloqBuilder', test_regs: 'SoquetT') -> Dict[str, 'Soquet']:\n",
    "        bloq_regs = self.test_bloq.signature\n",
    "        partition = Partition(self.bitsize, bloq_regs)\n",
    "        out_regs = bb.add(partition, x=test_regs)\n",
    "        out_regs = bb.add(self.test_bloq, **{reg.name: sp for reg, sp in zip(bloq_regs, out_regs)})\n",
    "        test_regs = bb.add(\n",
    "            partition.dagger(), **{reg.name: sp for reg, sp in zip(bloq_regs, out_regs)}\n",
    "        )\n",
    "        return {'test_regs': test_regs}"
   ]
  },
  {
   "cell_type": "code",
   "execution_count": null,
   "metadata": {},
   "outputs": [],
   "source": [
    "show_bloq(BlackBoxBloq(ComplicatedBloq()))"
   ]
  },
  {
   "cell_type": "code",
   "execution_count": null,
   "metadata": {},
   "outputs": [],
   "source": [
    "show_bloq(BlackBoxBloq(ComplicatedBloq()).decompose_bloq())"
   ]
  }
 ],
 "metadata": {
  "kernelspec": {
   "display_name": "Python 3 (ipykernel)",
   "language": "python",
   "name": "python3"
  },
  "language_info": {
   "codemirror_mode": {
    "name": "ipython",
    "version": 3
   },
   "file_extension": ".py",
   "mimetype": "text/x-python",
   "name": "python",
   "nbconvert_exporter": "python",
   "pygments_lexer": "ipython3",
   "version": "3.11.5"
  }
 },
 "nbformat": 4,
 "nbformat_minor": 5
}
