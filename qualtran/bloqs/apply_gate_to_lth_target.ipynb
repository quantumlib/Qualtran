{
 "cells": [
  {
   "cell_type": "code",
   "execution_count": null,
   "id": "60432dd0",
   "metadata": {},
   "outputs": [],
   "source": [
    "#  Copyright 2023 Google LLC\n",
    "#\n",
    "#  Licensed under the Apache License, Version 2.0 (the \"License\");\n",
    "#  you may not use this file except in compliance with the License.\n",
    "#  You may obtain a copy of the License at\n",
    "#\n",
    "#      https://www.apache.org/licenses/LICENSE-2.0\n",
    "#\n",
    "#  Unless required by applicable law or agreed to in writing, software\n",
    "#  distributed under the License is distributed on an \"AS IS\" BASIS,\n",
    "#  WITHOUT WARRANTIES OR CONDITIONS OF ANY KIND, either express or implied.\n",
    "#  See the License for the specific language governing permissions and\n",
    "#  limitations under the License."
   ]
  },
  {
   "cell_type": "markdown",
   "id": "ac3bfb05",
   "metadata": {
    "cq.autogen": "title_cell"
   },
   "source": [
    "# Apply to Lth Target"
   ]
  },
  {
   "cell_type": "code",
   "execution_count": null,
   "id": "4e214a27",
   "metadata": {
    "cq.autogen": "top_imports"
   },
   "outputs": [],
   "source": [
    "from qualtran import Bloq, CompositeBloq, BloqBuilder, Signature, Register\n",
    "from qualtran.drawing import show_bloq, show_call_graph, show_counts_sigma\n",
    "from typing import *\n",
    "import numpy as np\n",
    "import sympy\n",
    "import cirq"
   ]
  },
  {
   "cell_type": "markdown",
   "id": "249829b0",
   "metadata": {
    "cq.autogen": "ApplyGateToLthQubit.bloq_doc.md"
   },
   "source": [
    "## `ApplyGateToLthQubit`\n",
    "A controlled SELECT operation for single-qubit gates.\n",
    "\n",
    "$$\n",
    "\\mathrm{SELECT} = \\sum_{l}|l \\rangle \\langle l| \\otimes [G(l)]_l\n",
    "$$\n",
    "\n",
    "Where $G$ is a function that maps an index to a single-qubit gate.\n",
    "\n",
    "This gate uses the unary iteration scheme to apply `nth_gate(selection)` to the\n",
    "`selection`-th qubit of `target` all controlled by the `control` register.\n",
    "\n",
    "#### Parameters\n",
    " - `selection_regs`: Indexing `select` signature of type Tuple[`Register`, ...]. It also contains information about the iteration length of each selection register.\n",
    " - `nth_gate`: A function mapping the composite selection index to a single-qubit gate.\n",
    " - `control_regs`: Control signature for constructing a controlled version of the gate. \n",
    "\n",
    "#### References\n",
    "[Encoding Electronic Spectra in Quantum Circuits with Linear T Complexity](https://arxiv.org/abs/1805.03662).\n",
    "Babbush et. al. (2018). Section III.A. and Figure 7.\n"
   ]
  },
  {
   "cell_type": "code",
   "execution_count": null,
   "id": "b8d2a7bf",
   "metadata": {
    "cq.autogen": "ApplyGateToLthQubit.bloq_doc.py"
   },
   "outputs": [],
   "source": [
    "from qualtran.bloqs.apply_gate_to_lth_target import ApplyGateToLthQubit"
   ]
  },
  {
   "cell_type": "markdown",
   "id": "4fb12f9c",
   "metadata": {
    "cq.autogen": "ApplyGateToLthQubit.example_instances.md"
   },
   "source": [
    "### Example Instances"
   ]
  },
  {
   "cell_type": "code",
   "execution_count": null,
   "id": "8ed7d01a",
   "metadata": {
    "cq.autogen": "ApplyGateToLthQubit.apply_z_to_odd"
   },
   "outputs": [],
   "source": [
    "from qualtran import BoundedQUInt, Register\n",
    "\n",
    "def _z_to_odd(n: int):\n",
    "    if n % 2 == 1:\n",
    "        return cirq.Z\n",
    "    return cirq.I\n",
    "\n",
    "apply_z_to_odd = ApplyGateToLthQubit(\n",
    "    Register('selection', BoundedQUInt(3, 4)),\n",
    "    nth_gate=_z_to_odd,\n",
    "    control_regs=Signature.build(control=2),\n",
    ")\n"
   ]
  },
  {
   "cell_type": "markdown",
   "id": "19527432",
   "metadata": {
    "cq.autogen": "ApplyGateToLthQubit.graphical_signature.md"
   },
   "source": [
    "#### Graphical Signature"
   ]
  },
  {
   "cell_type": "code",
   "execution_count": null,
   "id": "f0c83967",
   "metadata": {
    "cq.autogen": "ApplyGateToLthQubit.graphical_signature.py"
   },
   "outputs": [],
   "source": [
    "from qualtran.drawing import show_bloqs\n",
    "show_bloqs([apply_z_to_odd],\n",
    "           ['`apply_z_to_odd`'])"
   ]
  },
  {
   "cell_type": "markdown",
   "id": "5dedba84",
   "metadata": {},
   "source": [
    "## Decomposition"
   ]
  },
  {
   "cell_type": "code",
   "execution_count": null,
   "id": "d61a8c3f",
   "metadata": {},
   "outputs": [],
   "source": [
    "import qualtran.cirq_interop.testing as cq_testing\n",
    "from qualtran.cirq_interop.jupyter_tools import display_gate_and_compilation\n",
    "\n",
    "g = cq_testing.GateHelper(\n",
    "    apply_z_to_odd\n",
    ")\n",
    "\n",
    "display_gate_and_compilation(g)"
   ]
  },
  {
   "cell_type": "markdown",
   "id": "96e5f93d",
   "metadata": {
    "cq.autogen": "ApplyGateToLthQubit.call_graph.md"
   },
   "source": [
    "### Call Graph"
   ]
  },
  {
   "cell_type": "code",
   "execution_count": null,
   "id": "01d191bb",
   "metadata": {
    "cq.autogen": "ApplyGateToLthQubit.call_graph.py"
   },
   "outputs": [],
   "source": [
    "apply_z_to_odd_g, apply_z_to_odd_sigma = apply_z_to_odd.call_graph()\n",
    "show_call_graph(apply_z_to_odd_g)\n",
    "show_counts_sigma(apply_z_to_odd_sigma)"
   ]
  }
 ],
 "metadata": {
  "kernelspec": {
   "display_name": "Python 3",
   "language": "python",
   "name": "python3"
  },
  "language_info": {
   "codemirror_mode": {
    "name": "ipython",
    "version": 3
   },
   "file_extension": ".py",
   "mimetype": "text/x-python",
   "name": "python",
   "nbconvert_exporter": "python",
   "pygments_lexer": "ipython3",
   "version": "3.10.9"
  }
 },
 "nbformat": 4,
 "nbformat_minor": 5
}
