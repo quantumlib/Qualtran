{
 "cells": [
  {
   "cell_type": "code",
   "execution_count": null,
   "id": "60432dd0",
   "metadata": {},
   "outputs": [],
   "source": [
    "#  Copyright 2023 Google LLC\n",
    "#\n",
    "#  Licensed under the Apache License, Version 2.0 (the \"License\");\n",
    "#  you may not use this file except in compliance with the License.\n",
    "#  You may obtain a copy of the License at\n",
    "#\n",
    "#      https://www.apache.org/licenses/LICENSE-2.0\n",
    "#\n",
    "#  Unless required by applicable law or agreed to in writing, software\n",
    "#  distributed under the License is distributed on an \"AS IS\" BASIS,\n",
    "#  WITHOUT WARRANTIES OR CONDITIONS OF ANY KIND, either express or implied.\n",
    "#  See the License for the specific language governing permissions and\n",
    "#  limitations under the License."
   ]
  },
  {
   "cell_type": "markdown",
   "id": "ac3bfb05",
   "metadata": {
    "cq.autogen": "title_cell"
   },
   "source": [
    "# Apply to L-th Target"
   ]
  },
  {
   "cell_type": "code",
   "execution_count": null,
   "id": "4e214a27",
   "metadata": {
    "cq.autogen": "top_imports"
   },
   "outputs": [],
   "source": [
    "import cirq\n",
    "import numpy as np\n",
    "from qualtran import Signature, SelectionRegister\n",
    "from qualtran.bloqs.apply_gate_to_lth_target import ApplyGateToLthQubit\n",
    "import qualtran.cirq_interop.testing as cq_testing\n",
    "from qualtran.cirq_interop.jupyter_tools import display_gate_and_compilation\n",
    "from typing import *"
   ]
  },
  {
   "cell_type": "markdown",
   "id": "249829b0",
   "metadata": {
    "cq.autogen": "_make_ApplyGateToLthQubit.md"
   },
   "source": [
    "## `ApplyGateToLthQubit`\n",
    "A controlled SELECT operation for single-qubit gates.\n",
    "\n",
    "$$\n",
    "\\mathrm{SELECT} = \\sum_{l}|l \\rangle \\langle l| \\otimes [G(l)]_l\n",
    "$$\n",
    "\n",
    "Where $G$ is a function that maps an index to a single-qubit gate.\n",
    "\n",
    "This gate uses the unary iteration scheme to apply `nth_gate(selection)` to the\n",
    "`selection`-th qubit of `target` all controlled by the `control` register.\n",
    "\n",
    "#### Parameters\n",
    " - `selection_regs`: Indexing `select` signature of type Tuple[`SelectionRegister`, ...]. It also contains information about the iteration length of each selection register.\n",
    " - `nth_gate`: A function mapping the composite selection index to a single-qubit gate.\n",
    " - `control_regs`: Control signature for constructing a controlled version of the gate.\n"
   ]
  },
  {
   "cell_type": "code",
   "execution_count": null,
   "id": "b8d2a7bf",
   "metadata": {
    "cq.autogen": "_make_ApplyGateToLthQubit.py"
   },
   "outputs": [],
   "source": [
    "def _z_to_odd(n: int):\n",
    "    if n % 2 == 1:\n",
    "        return cirq.Z\n",
    "    return cirq.I\n",
    "\n",
    "apply_z_to_odd = ApplyGateToLthQubit(\n",
    "    SelectionRegister('selection', 3, 4),\n",
    "    nth_gate=_z_to_odd,\n",
    "    control_regs=Signature.build(control=2),\n",
    ")\n",
    "\n",
    "g = cq_testing.GateHelper(\n",
    "    apply_z_to_odd\n",
    ")\n",
    "\n",
    "display_gate_and_compilation(g)"
   ]
  }
 ],
 "metadata": {
  "kernelspec": {
   "display_name": "Python 3",
   "language": "python",
   "name": "python3"
  },
  "language_info": {
   "codemirror_mode": {
    "name": "ipython",
    "version": 3
   },
   "file_extension": ".py",
   "mimetype": "text/x-python",
   "name": "python",
   "nbconvert_exporter": "python",
   "pygments_lexer": "ipython3",
   "version": "3.8.16"
  }
 },
 "nbformat": 4,
 "nbformat_minor": 5
}