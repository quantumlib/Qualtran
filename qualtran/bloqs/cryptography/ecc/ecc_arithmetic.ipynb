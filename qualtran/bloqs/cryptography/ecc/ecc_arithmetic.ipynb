{
 "cells": [
  {
   "cell_type": "markdown",
   "id": "1aaac3e4",
   "metadata": {
    "cq.autogen": "title_cell"
   },
   "source": [
    "# Elliptic Curve Cryptography\n",
    "\n",
    "Bloqs for breaking elliptic curve cryptography systems via the discrete log.\n",
    "\n",
    "Elliptic curve cryptography is a form of public key cryptography based on the finite\n",
    "field of elliptic curves. For our purposes, we will denote the group operation as addition\n",
    "(whose definition we will explore later) $A + B$. We will denote repeated addition\n",
    " as $[k] A = A + \\dots + A$ ($k$ times).\n",
    "\n",
    "Within this algebra, the cryptographic scheme relates the public and private keys via\n",
    "$$\n",
    "Q = [k] P\n",
    "$$\n",
    "for private key $k$, public key $Q$, and a choice of base point $P$. The cryptographic\n",
    "security comes from the difficulty of inverting the multiplication. I.e. it is difficult\n",
    "to do a discrete logarithm in this field.\n",
    "\n",
    "Using Shor's algorithm for the discrete logarithm, we can find $k$ in polynomial time\n",
    "with a quantum algorithm."
   ]
  },
  {
   "cell_type": "code",
   "execution_count": null,
   "id": "b24b3daa",
   "metadata": {
    "cq.autogen": "top_imports"
   },
   "outputs": [],
   "source": [
    "from qualtran import Bloq, CompositeBloq, BloqBuilder, Signature, Register\n",
    "from qualtran import QBit, QInt, QUInt, QAny\n",
    "from qualtran.drawing import show_bloq, show_call_graph, show_counts_sigma\n",
    "from typing import *\n",
    "import numpy as np\n",
    "import sympy\n",
    "import cirq"
   ]
  },
  {
   "cell_type": "markdown",
   "id": "d20e347c",
   "metadata": {
    "cq.autogen": "FindECCPrivateKey.bloq_doc.md"
   },
   "source": [
    "## `FindECCPrivateKey`\n",
    "Perform two phase estimations to break elliptic curve cryptography.\n",
    "\n",
    "This follows the strategy in Litinski 2023. We perform two phase estimations corresponding\n",
    "to `ECCAddR(R=P)` and `ECCAddR(R=Q)` for base point $P$ and public key $Q$.\n",
    "\n",
    "The first phase estimation projects us into a random eigenstate of the ECCAddR(R=P) operator\n",
    "which we index by the integer $c$. Per eq. 5 in the reference, these eigenstates take the form\n",
    "$$\n",
    "|\\psi_c \\rangle = \\sum_j^{r-1} \\omega^{cj}\\ | [j]P \\rangle  \\\\\n",
    "\\omega = e^{2\\pi i / r} \\\\\n",
    "[r] P = P\n",
    "$$\n",
    "\n",
    "This state is a simultaneous eigenstate of the second operator, `ECCAddR(R=Q)`. By\n",
    "the definition of the operator, acting it upon $|\\psi_c\\rangle$ gives:\n",
    "$$\n",
    "|\\psi_c \\rangle \\rightarrow \\sum_j w^{cj} | [j]P + Q \\rangle\\rangle\n",
    "$$\n",
    "\n",
    "The private key $k$ that we wish to recover relates the public key to the base point\n",
    "$$\n",
    "Q = [k] P\n",
    "$$\n",
    "so our simultaneous eigenstate can be equivalently written as\n",
    "$$\n",
    "\\sum_j^{r-1} \\omega^{cj} | [j+k] P \\rangle \\\\\n",
    "= \\omega^{-ck} |\\psi_c \\rangle\n",
    "$$\n",
    "\n",
    "Therefore, the measured result of the second phase estimation is $ck$. Since we have\n",
    "already measured the random index $c$, we can divide it out to recover the private key $k$.\n",
    "\n",
    "#### Parameters\n",
    " - `n`: The bitsize of the elliptic curve points' x and y registers.\n",
    " - `base_point`: The base point $P$ with unknown order $r$ such that $P = [r] P$.\n",
    " - `public_key`: The public key $Q$ such that $Q = [k] P$ for private key $k$.\n",
    " - `add_window_size`: The number of bits in the ECAdd window.\n",
    " - `mul_window_size`: The number of bits in the modular multiplication window. \n",
    "\n",
    "#### References\n",
    " - [How to compute a 256-bit elliptic curve private key with only 50 million Toffoli gates](https://arxiv.org/abs/2306.08585). Litinski. 2023. Figure 4 (a).\n"
   ]
  },
  {
   "cell_type": "code",
   "execution_count": null,
   "id": "b593703c",
   "metadata": {
    "cq.autogen": "FindECCPrivateKey.bloq_doc.py"
   },
   "outputs": [],
   "source": [
    "from qualtran.bloqs.cryptography.ecc import FindECCPrivateKey"
   ]
  },
  {
   "cell_type": "markdown",
   "id": "67e1a021",
   "metadata": {
    "cq.autogen": "FindECCPrivateKey.example_instances.md"
   },
   "source": [
    "### Example Instances"
   ]
  },
  {
   "cell_type": "code",
   "execution_count": null,
   "id": "33570652",
   "metadata": {
    "cq.autogen": "FindECCPrivateKey.ecc"
   },
   "outputs": [],
   "source": [
    "from qualtran.bloqs.cryptography.ecc import ECPoint\n",
    "\n",
    "n, p = sympy.symbols('n p')\n",
    "Px, Py, Qx, Qy = sympy.symbols('P_x P_y Q_x Q_y')\n",
    "P = ECPoint(Px, Py, mod=p)\n",
    "Q = ECPoint(Qx, Qy, mod=p)\n",
    "ecc = FindECCPrivateKey(n=n, base_point=P, public_key=Q)"
   ]
  },
  {
   "cell_type": "markdown",
   "id": "502f66e1",
   "metadata": {
    "cq.autogen": "FindECCPrivateKey.graphical_signature.md"
   },
   "source": [
    "#### Graphical Signature"
   ]
  },
  {
   "cell_type": "code",
   "execution_count": null,
   "id": "77177488",
   "metadata": {
    "cq.autogen": "FindECCPrivateKey.graphical_signature.py"
   },
   "outputs": [],
   "source": [
    "from qualtran.drawing import show_bloqs\n",
    "show_bloqs([ecc],\n",
    "           ['`ecc`'])"
   ]
  },
  {
   "cell_type": "markdown",
   "id": "40e7ced4",
   "metadata": {
    "cq.autogen": "FindECCPrivateKey.call_graph.md"
   },
   "source": [
    "### Call Graph"
   ]
  },
  {
   "cell_type": "code",
   "execution_count": null,
   "id": "720bb7b9",
   "metadata": {
    "cq.autogen": "FindECCPrivateKey.call_graph.py"
   },
   "outputs": [],
   "source": [
    "from qualtran.resource_counting.generalizers import ignore_split_join\n",
    "ecc_g, ecc_sigma = ecc.call_graph(max_depth=1, generalizer=ignore_split_join)\n",
    "show_call_graph(ecc_g)\n",
    "show_counts_sigma(ecc_sigma)"
   ]
  },
  {
   "cell_type": "markdown",
   "id": "73b11a5b",
   "metadata": {
    "cq.autogen": "ECPhaseEstimateR.bloq_doc.md"
   },
   "source": [
    "## `ECPhaseEstimateR`\n",
    "Perform a single phase estimation of ECAddR for a given point.\n",
    "\n",
    "This is used as a subroutine in `FindECCPrivateKey`. First, we phase-estimate the\n",
    "addition of the base point $P$, then of the public key $Q$.\n",
    "\n",
    "When the ellptic curve point addition window size is 1 we use the ECAddR bloq which has it's\n",
    "own bespoke circuit; when it is greater than 1 we use the windowed circuit which uses\n",
    "pre-computed classical additions loaded into the circuit.\n",
    "\n",
    "#### Parameters\n",
    " - `n`: The bitsize of the elliptic curve points' x and y registers.\n",
    " - `point`: The elliptic curve point to phase estimate against.\n",
    " - `add_window_size`: The number of bits in the ECAdd window.\n",
    " - `mul_window_size`: The number of bits in the modular multiplication window.\n"
   ]
  },
  {
   "cell_type": "code",
   "execution_count": null,
   "id": "7c9b2f45",
   "metadata": {
    "cq.autogen": "ECPhaseEstimateR.bloq_doc.py"
   },
   "outputs": [],
   "source": [
    "from qualtran.bloqs.cryptography.ecc import ECPhaseEstimateR"
   ]
  },
  {
   "cell_type": "markdown",
   "id": "3e5866b7",
   "metadata": {
    "cq.autogen": "ECPhaseEstimateR.example_instances.md"
   },
   "source": [
    "### Example Instances"
   ]
  },
  {
   "cell_type": "code",
   "execution_count": null,
   "id": "3d903148",
   "metadata": {
    "cq.autogen": "ECPhaseEstimateR.ec_pe"
   },
   "outputs": [],
   "source": [
    "n, p = sympy.symbols('n p')\n",
    "Rx, Ry = sympy.symbols('R_x R_y')\n",
    "ec_pe = ECPhaseEstimateR(n=n, point=ECPoint(Rx, Ry, mod=p))"
   ]
  },
  {
   "cell_type": "code",
   "execution_count": null,
   "id": "e8d187cf",
   "metadata": {
    "cq.autogen": "ECPhaseEstimateR.ec_pe_small"
   },
   "outputs": [],
   "source": [
    "n = 3\n",
    "Rx, Ry, p = sympy.symbols('R_x R_y p')\n",
    "ec_pe_small = ECPhaseEstimateR(n=n, point=ECPoint(Rx, Ry, mod=p))"
   ]
  },
  {
   "cell_type": "markdown",
   "id": "be0ea83a",
   "metadata": {
    "cq.autogen": "ECPhaseEstimateR.graphical_signature.md"
   },
   "source": [
    "#### Graphical Signature"
   ]
  },
  {
   "cell_type": "code",
   "execution_count": null,
   "id": "e784f967",
   "metadata": {
    "cq.autogen": "ECPhaseEstimateR.graphical_signature.py"
   },
   "outputs": [],
   "source": [
    "from qualtran.drawing import show_bloqs\n",
    "show_bloqs([ec_pe, ec_pe_small],\n",
    "           ['`ec_pe`', '`ec_pe_small`'])"
   ]
  },
  {
   "cell_type": "markdown",
   "id": "a771bea2",
   "metadata": {
    "cq.autogen": "ECPhaseEstimateR.call_graph.md"
   },
   "source": [
    "### Call Graph"
   ]
  },
  {
   "cell_type": "code",
   "execution_count": null,
   "id": "a98990b8",
   "metadata": {
    "cq.autogen": "ECPhaseEstimateR.call_graph.py"
   },
   "outputs": [],
   "source": [
    "from qualtran.resource_counting.generalizers import ignore_split_join\n",
    "ec_pe_g, ec_pe_sigma = ec_pe.call_graph(max_depth=1, generalizer=ignore_split_join)\n",
    "show_call_graph(ec_pe_g)\n",
    "show_counts_sigma(ec_pe_sigma)"
   ]
  },
  {
   "cell_type": "markdown",
   "id": "eeb676de",
   "metadata": {
    "cq.autogen": "ECAddR.bloq_doc.md"
   },
   "source": [
    "## `ECAddR`\n",
    "Perform elliptic curve addition of constant `R`.\n",
    "\n",
    "Given the constant elliptic curve point $R$ and an input point $A$\n",
    "factored into the `x` and `y` registers such that $|A\\rangle = |(a_x,a_y)\\rangle$,\n",
    "this bloq takes\n",
    "\n",
    "$$\n",
    "|A\\rangle \\rightarrow |A+R\\rangle\n",
    "$$\n",
    "\n",
    "#### Parameters\n",
    " - `n`: The bitsize of the two registers storing the elliptic curve point.\n",
    " - `R`: The elliptic curve point to add. \n",
    "\n",
    "#### Registers\n",
    " - `ctrl`: A control bit.\n",
    " - `x`: The x component of the input elliptic curve point of bitsize `n`.\n",
    " - `y`: The y component of the input elliptic curve point of bitsize `n`. \n",
    "\n",
    "#### References\n",
    " - [How to compute a 256-bit elliptic curve private key with only 50 million Toffoli gates](https://arxiv.org/abs/2306.08585). Litinski. 2023. Section 1, eq. (3) and (4).\n",
    " - [Quantum resource estimates for computing elliptic curve discrete logarithms](https://arxiv.org/abs/1706.06752). Roetteler et al. 2017. Algorithm 1 and Figure 10.\n",
    " - [https://github.com/microsoft/QuantumEllipticCurves/blob/dbf4836afaf7a9fab813cbc0970e65af85a6f93a/MicrosoftQuantumCrypto/EllipticCurves.qs#L456](QuantumQuantumCrypto). `DistinctEllipticCurveClassicalPointAddition`.\n"
   ]
  },
  {
   "cell_type": "code",
   "execution_count": null,
   "id": "d4de8b11",
   "metadata": {
    "cq.autogen": "ECAddR.bloq_doc.py"
   },
   "outputs": [],
   "source": [
    "from qualtran.bloqs.cryptography.ecc import ECAddR"
   ]
  },
  {
   "cell_type": "markdown",
   "id": "ae316d61",
   "metadata": {
    "cq.autogen": "ECAddR.example_instances.md"
   },
   "source": [
    "### Example Instances"
   ]
  },
  {
   "cell_type": "code",
   "execution_count": null,
   "id": "5ebfe991",
   "metadata": {
    "cq.autogen": "ECAddR.ec_add_r"
   },
   "outputs": [],
   "source": [
    "n, p, Rx, Ry = sympy.symbols('n p R_x R_y')\n",
    "ec_add_r = ECAddR(n=n, R=ECPoint(Rx, Ry, mod=p))"
   ]
  },
  {
   "cell_type": "code",
   "execution_count": null,
   "id": "ef61f868",
   "metadata": {
    "cq.autogen": "ECAddR.ec_add_r_small"
   },
   "outputs": [],
   "source": [
    "n = 5  # fits our mod = 17\n",
    "P = ECPoint(15, 13, mod=17, curve_a=0)\n",
    "ec_add_r_small = ECAddR(n=n, R=P)"
   ]
  },
  {
   "cell_type": "markdown",
   "id": "79fa11b2",
   "metadata": {
    "cq.autogen": "ECAddR.graphical_signature.md"
   },
   "source": [
    "#### Graphical Signature"
   ]
  },
  {
   "cell_type": "code",
   "execution_count": null,
   "id": "ce93f3b2",
   "metadata": {
    "cq.autogen": "ECAddR.graphical_signature.py"
   },
   "outputs": [],
   "source": [
    "from qualtran.drawing import show_bloqs\n",
    "show_bloqs([ec_add_r, ec_add_r_small],\n",
    "           ['`ec_add_r`', '`ec_add_r_small`'])"
   ]
  },
  {
   "cell_type": "markdown",
   "id": "15d726a9",
   "metadata": {
    "cq.autogen": "ECAddR.call_graph.md"
   },
   "source": [
    "### Call Graph"
   ]
  },
  {
   "cell_type": "code",
   "execution_count": null,
   "id": "589fe557",
   "metadata": {
    "cq.autogen": "ECAddR.call_graph.py"
   },
   "outputs": [],
   "source": [
    "from qualtran.resource_counting.generalizers import ignore_split_join\n",
    "ec_add_r_g, ec_add_r_sigma = ec_add_r.call_graph(max_depth=1, generalizer=ignore_split_join)\n",
    "show_call_graph(ec_add_r_g)\n",
    "show_counts_sigma(ec_add_r_sigma)"
   ]
  },
  {
   "cell_type": "markdown",
   "id": "20d7fe4e",
   "metadata": {
    "cq.autogen": "ECWindowAddR.bloq_doc.md"
   },
   "source": [
    "## `ECWindowAddR`\n",
    "Perform elliptic curve addition of many multiples of constant `R`.\n",
    "\n",
    "This adds R, 2R, ... 2^window_size into the register.\n",
    "\n",
    "#### Parameters\n",
    " - `n`: The bitsize of the two registers storing the elliptic curve point\n",
    " - `R`: The elliptic curve point to add (NOT in montgomery form).\n",
    " - `add_window_size`: The number of bits in the ECAdd window.\n",
    " - `mul_window_size`: The number of bits in the modular multiplication window. \n",
    "\n",
    "#### Registers\n",
    " - `ctrl`: `window_size` control bits.\n",
    " - `x`: The x component of the input elliptic curve point of bitsize `n` in montgomery form.\n",
    " - `y`: The y component of the input elliptic curve point of bitsize `n` in montgomery form. \n",
    "\n",
    "#### References\n",
    " - [How to compute a 256-bit elliptic curve private key with only 50 million Toffoli gates](https://arxiv.org/abs/2306.08585). Litinski. 2013. Section 1, eq. (3) and (4).\n"
   ]
  },
  {
   "cell_type": "code",
   "execution_count": null,
   "id": "7fe259cf",
   "metadata": {
    "cq.autogen": "ECWindowAddR.bloq_doc.py"
   },
   "outputs": [],
   "source": [
    "from qualtran.bloqs.cryptography.ecc import ECWindowAddR"
   ]
  },
  {
   "cell_type": "markdown",
   "id": "5a31ee0b",
   "metadata": {
    "cq.autogen": "ECWindowAddR.example_instances.md"
   },
   "source": [
    "### Example Instances"
   ]
  },
  {
   "cell_type": "code",
   "execution_count": null,
   "id": "1a0c53e4",
   "metadata": {
    "cq.autogen": "ECWindowAddR.ec_window_add_r_small"
   },
   "outputs": [],
   "source": [
    "n = 16\n",
    "P = ECPoint(2, 2, mod=7, curve_a=3)\n",
    "ec_window_add_r_small = ECWindowAddR(n=n, R=P, add_window_size=4)"
   ]
  },
  {
   "cell_type": "markdown",
   "id": "20afa877",
   "metadata": {
    "cq.autogen": "ECWindowAddR.graphical_signature.md"
   },
   "source": [
    "#### Graphical Signature"
   ]
  },
  {
   "cell_type": "code",
   "execution_count": null,
   "id": "aeb63b25",
   "metadata": {
    "cq.autogen": "ECWindowAddR.graphical_signature.py"
   },
   "outputs": [],
   "source": [
    "from qualtran.drawing import show_bloqs\n",
    "show_bloqs([ec_window_add_r_small],\n",
    "           ['`ec_window_add_r_small`'])"
   ]
  },
  {
   "cell_type": "markdown",
   "id": "cc918527",
   "metadata": {
    "cq.autogen": "ECWindowAddR.call_graph.md"
   },
   "source": [
    "### Call Graph"
   ]
  },
  {
   "cell_type": "code",
   "execution_count": null,
   "id": "345d1410",
   "metadata": {
    "cq.autogen": "ECWindowAddR.call_graph.py"
   },
   "outputs": [],
   "source": [
    "from qualtran.resource_counting.generalizers import ignore_split_join\n",
    "ec_window_add_r_small_g, ec_window_add_r_small_sigma = ec_window_add_r_small.call_graph(max_depth=1, generalizer=ignore_split_join)\n",
    "show_call_graph(ec_window_add_r_small_g)\n",
    "show_counts_sigma(ec_window_add_r_small_sigma)"
   ]
  }
 ],
 "metadata": {
  "kernelspec": {
   "display_name": "Python 3",
   "language": "python",
   "name": "python3"
  },
  "language_info": {
   "name": "python"
  }
 },
 "nbformat": 4,
 "nbformat_minor": 5
}
