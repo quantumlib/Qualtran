{
 "cells": [
  {
   "cell_type": "markdown",
   "id": "0e934f87",
   "metadata": {
    "cq.autogen": "title_cell"
   },
   "source": [
    "# Modular arithmetic"
   ]
  },
  {
   "cell_type": "markdown",
   "id": "7309b0ba",
   "metadata": {},
   "source": [
    "This notebook documents the modular arithmetic bloqs needed to implement the \"reference\" implementation in [GE2019]."
   ]
  },
  {
   "cell_type": "code",
   "execution_count": null,
   "id": "7dd20f34",
   "metadata": {
    "cq.autogen": "top_imports"
   },
   "outputs": [],
   "source": [
    "from qualtran import Bloq, CompositeBloq, BloqBuilder, Signature, Register\n",
    "from qualtran.drawing import show_bloq\n",
    "from typing import *\n",
    "import numpy as np"
   ]
  },
  {
   "cell_type": "markdown",
   "id": "bbdbc39b",
   "metadata": {
    "cq.autogen": "_make_modexp.md"
   },
   "source": [
    "## `ModExp`\n",
    "Perform $b^e \\mod{m}$ for constant `base` $b$, `mod` $m$, and quantum `exponent` $e$.\n",
    "\n",
    "Modular exponentiation is the main computational primitive for quantum factoring algorithms.\n",
    "We follow [GE2019]'s \"reference implementation\" for factoring. See `ModExp.make_for_shor`\n",
    "to set the class attributes for a factoring run.\n",
    "\n",
    "This bloq decomposes into controlled modular exponentiation for each exponent bit.\n",
    "\n",
    "#### Parameters\n",
    " - `base`: The integer base of the exponentiation\n",
    " - `mod`: The integer modulus\n",
    " - `exp_bitsize`: The size of the `exponent` thru-register\n",
    " - `x_bitsize`: The size of the `x` right-register \n",
    "\n",
    "#### Registers\n",
    " - `exponent`: The exponent\n",
    " - `x [right]`: The output register containing the result of the exponentiation \n",
    "\n",
    "#### References\n",
    "[GE2019] How to factor 2048 bit RSA integers in 8 hours using 20 million noisy qubits. [arxiv:1905.09749](https://arxiv.org/abs/1905.09749). Gidney and Ekerå. 2019.\n"
   ]
  },
  {
   "cell_type": "code",
   "execution_count": null,
   "id": "10ce5e42",
   "metadata": {
    "cq.autogen": "_make_modexp.py"
   },
   "outputs": [],
   "source": [
    "from qualtran.bloqs.factoring.mod_exp import ModExp\n",
    "\n",
    "bloq = ModExp(base=3, mod=15, exp_bitsize=3, x_bitsize=2048)\n",
    "show_bloq(bloq)"
   ]
  },
  {
   "cell_type": "code",
   "execution_count": null,
   "id": "1948589e",
   "metadata": {},
   "outputs": [],
   "source": [
    "cbloq = bloq.decompose_bloq()\n",
    "show_bloq(cbloq)"
   ]
  },
  {
   "cell_type": "markdown",
   "id": "dd1b1238",
   "metadata": {},
   "source": [
    "### Larger exponent\n",
    "\n",
    "The number of `CtrlModMul` scales with the exponent bitsize."
   ]
  },
  {
   "cell_type": "code",
   "execution_count": null,
   "id": "65944027",
   "metadata": {},
   "outputs": [],
   "source": [
    "from qualtran.drawing import (\n",
    "    get_musical_score_data, draw_musical_score, dump_musical_score)\n",
    "\n",
    "bloq = ModExp(base=3, mod=15, exp_bitsize=8, x_bitsize=2048)\n",
    "msd_bloq = get_musical_score_data(bloq)\n",
    "dump_musical_score(msd_bloq, 'mod_exp_bloq')\n",
    "\n",
    "msd_cbloq = get_musical_score_data(bloq.decompose_bloq())\n",
    "dump_musical_score(msd_cbloq, 'mod_exp_cbloq')\n",
    "\n",
    "fig, ax = draw_musical_score(msd_cbloq)\n",
    "ax.axis('equal')\n",
    "ax.axis('off')\n",
    "fig.tight_layout()"
   ]
  },
  {
   "cell_type": "code",
   "execution_count": null,
   "id": "358157b9",
   "metadata": {},
   "outputs": [],
   "source": [
    "# We can quickly count up the number of T-gates required to factor a number\n",
    "ModExp.make_for_shor(17*19, g=8).t_complexity()"
   ]
  },
  {
   "cell_type": "markdown",
   "id": "bdd6f948",
   "metadata": {},
   "source": [
    "### Symbolic\n",
    "\n",
    "`ModExp` supports symbolic parameters. If we use the `make_for_shors` constructor, everything is in terms of the ceil of the base-two logarithm of the composite number."
   ]
  },
  {
   "cell_type": "code",
   "execution_count": null,
   "id": "38fb1969",
   "metadata": {},
   "outputs": [],
   "source": [
    "import sympy\n",
    "g, N = sympy.symbols('g N')\n",
    "bloq = ModExp.make_for_shor(big_n=N, g=g)\n",
    "for reg in bloq.signature:\n",
    "    display(reg.name, reg.bitsize)"
   ]
  },
  {
   "cell_type": "markdown",
   "id": "d461fabc",
   "metadata": {},
   "source": [
    "To avoid clutter, we'll use more specific sympy symbols"
   ]
  },
  {
   "cell_type": "code",
   "execution_count": null,
   "id": "a370b2ba",
   "metadata": {},
   "outputs": [],
   "source": [
    "g, N, n_e, n_x = sympy.symbols('g N n_e, n_x')\n",
    "bloq = ModExp(base=g, mod=N, exp_bitsize=n_e, x_bitsize=n_x)\n",
    "show_bloq(bloq)"
   ]
  },
  {
   "cell_type": "code",
   "execution_count": null,
   "id": "5d08252a",
   "metadata": {},
   "outputs": [],
   "source": [
    "b, x = bloq.call_classically(exponent=sympy.Symbol('b'))\n",
    "x"
   ]
  },
  {
   "cell_type": "markdown",
   "id": "e60ed071",
   "metadata": {},
   "source": [
    "### Bloq counts\n",
    "\n",
    "We can see how the modular arithmetic functions decompose into other bloqs until we get to something that can be expressed with T gates."
   ]
  },
  {
   "cell_type": "code",
   "execution_count": null,
   "id": "da17e8e3",
   "metadata": {
    "scrolled": false
   },
   "outputs": [],
   "source": [
    "from qualtran.resource_counting import get_bloq_counts_graph\n",
    "from qualtran.drawing import show_counts_graph, show_counts_sigma\n",
    "\n",
    "g, sigma = get_bloq_counts_graph(bloq)\n",
    "show_counts_graph(g)\n",
    "show_counts_sigma(sigma)"
   ]
  },
  {
   "cell_type": "markdown",
   "id": "55250b32",
   "metadata": {
    "cq.autogen": "_make_modmul.md"
   },
   "source": [
    "## `CtrlModMul`\n",
    "Perform controlled `x *= k mod m` for constant k, m and variable x.\n",
    "\n",
    "#### Parameters\n",
    " - `k`: The integer multiplicative constant.\n",
    " - `mod`: The integer modulus.\n",
    " - `bitsize`: The size of the `x` register. \n",
    "\n",
    "#### Registers\n",
    " - `ctrl`: The control bit\n",
    " - `x`: The integer being multiplied\n"
   ]
  },
  {
   "cell_type": "code",
   "execution_count": null,
   "id": "7cefa340",
   "metadata": {
    "cq.autogen": "_make_modmul.py"
   },
   "outputs": [],
   "source": [
    "from qualtran.bloqs.factoring.mod_mul import CtrlModMul\n",
    "\n",
    "bloq = CtrlModMul(k=123, mod=13 * 17, bitsize=8)\n",
    "show_bloq(bloq)"
   ]
  },
  {
   "cell_type": "code",
   "execution_count": null,
   "id": "6986e674",
   "metadata": {},
   "outputs": [],
   "source": [
    "show_bloq(bloq.decompose_bloq())"
   ]
  }
 ],
 "metadata": {
  "kernelspec": {
   "display_name": "Python 3 (ipykernel)",
   "language": "python",
   "name": "python3"
  },
  "language_info": {
   "codemirror_mode": {
    "name": "ipython",
    "version": 3
   },
   "file_extension": ".py",
   "mimetype": "text/x-python",
   "name": "python",
   "nbconvert_exporter": "python",
   "pygments_lexer": "ipython3",
   "version": "3.10.9"
  }
 },
 "nbformat": 4,
 "nbformat_minor": 5
}
