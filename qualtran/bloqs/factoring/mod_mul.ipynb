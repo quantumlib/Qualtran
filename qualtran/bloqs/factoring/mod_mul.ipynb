{
 "cells": [
  {
   "cell_type": "markdown",
   "id": "02f5b269",
   "metadata": {
    "cq.autogen": "title_cell"
   },
   "source": [
    "# Modular Multiplication"
   ]
  },
  {
   "cell_type": "code",
   "execution_count": null,
   "id": "f50d4b6a",
   "metadata": {
    "cq.autogen": "top_imports"
   },
   "outputs": [],
   "source": [
    "from qualtran import Bloq, CompositeBloq, BloqBuilder, Signature, Register\n",
    "from qualtran.drawing import show_bloq\n",
    "from typing import *\n",
    "import numpy as np"
   ]
  },
  {
   "cell_type": "markdown",
   "id": "cb2566d8",
   "metadata": {
    "cq.autogen": "CtrlModMul.bloq_doc.md"
   },
   "source": [
    "## `CtrlModMul`\n",
    "Perform controlled `x *= k mod m` for constant k, m and variable x.\n",
    "\n",
    "#### Parameters\n",
    " - `k`: The integer multiplicative constant.\n",
    " - `mod`: The integer modulus.\n",
    " - `bitsize`: The size of the `x` register. \n",
    "\n",
    "#### Registers\n",
    " - `ctrl`: The control bit\n",
    " - `x`: The integer being multiplied\n"
   ]
  },
  {
   "cell_type": "code",
   "execution_count": null,
   "id": "96c87e53",
   "metadata": {
    "cq.autogen": "CtrlModMul.bloq_doc.py"
   },
   "outputs": [],
   "source": [
    "from qualtran.bloqs.factoring.mod_mul import CtrlModMul"
   ]
  },
  {
   "cell_type": "markdown",
   "id": "fb267af1",
   "metadata": {
    "cq.autogen": "CtrlModMul.example_instances.md"
   },
   "source": [
    "### Example Instances"
   ]
  },
  {
   "cell_type": "code",
   "execution_count": null,
   "id": "305b2135",
   "metadata": {
    "cq.autogen": "CtrlModMul.modmul"
   },
   "outputs": [],
   "source": [
    "modmul = CtrlModMul(k=123, mod=13 * 17, bitsize=8)"
   ]
  },
  {
   "cell_type": "code",
   "execution_count": null,
   "id": "17775149",
   "metadata": {
    "cq.autogen": "CtrlModMul.modmul_symb"
   },
   "outputs": [],
   "source": [
    "import sympy\n",
    "\n",
    "k, N, n_x = sympy.symbols('k N n_x')\n",
    "modmul_symb = CtrlModMul(k=k, mod=N, bitsize=n_x)"
   ]
  },
  {
   "cell_type": "markdown",
   "id": "9b4d86fd",
   "metadata": {
    "cq.autogen": "CtrlModMul.graphical_signature.md"
   },
   "source": [
    "#### Graphical Signature"
   ]
  },
  {
   "cell_type": "code",
   "execution_count": null,
   "id": "a2bf9f39",
   "metadata": {
    "cq.autogen": "CtrlModMul.graphical_signature.py"
   },
   "outputs": [],
   "source": [
    "from qualtran.drawing import show_bloqs\n",
    "show_bloqs([modmul_symb, modmul],\n",
    "           ['`modmul_symb`', '`modmul`'])"
   ]
  }
 ],
 "metadata": {
  "kernelspec": {
   "display_name": "Python 3 (ipykernel)",
   "language": "python",
   "name": "python3"
  },
  "language_info": {
   "codemirror_mode": {
    "name": "ipython",
    "version": 3
   },
   "file_extension": ".py",
   "mimetype": "text/x-python",
   "name": "python",
   "nbconvert_exporter": "python",
   "pygments_lexer": "ipython3",
   "version": "3.10.9"
  }
 },
 "nbformat": 4,
 "nbformat_minor": 5
}
