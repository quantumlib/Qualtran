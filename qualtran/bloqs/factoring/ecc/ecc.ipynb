{
 "cells": [
  {
   "cell_type": "markdown",
   "id": "ed4630ba",
   "metadata": {
    "cq.autogen": "title_cell"
   },
   "source": [
    "# Elliptic Curve Cryptography\n",
    "\n",
    "Bloqs for breaking elliptic curve cryptography systems via the discrete log.\n",
    "\n",
    "Elliptic curve cryptography is a form of public key cryptography based on the finite\n",
    "field of elliptic curves. For our purposes, we will denote the group operation as addition\n",
    "(whose definition we will explore later) $A + B$. We will denote repeated addition\n",
    " as $[k] A = A + \\dots + A$ ($k$ times).\n",
    "\n",
    "Within this algebra, the cryptographic scheme relates the public and private keys via\n",
    "$$\n",
    "Q = [k] P\n",
    "$$\n",
    "for private key $k$, public key $Q$, and a choice of base point $P$. The cryptographic\n",
    "security comes from the difficulty of inverting the multiplication. I.e. it is difficult\n",
    "to do a discrete logarithm in this field.\n",
    "\n",
    "Using Shor's algorithm for the discrete logarithm, we can find $k$ in polynomial time\n",
    "with a quantum algorithm."
   ]
  },
  {
   "cell_type": "code",
   "execution_count": null,
   "id": "82580882",
   "metadata": {
    "cq.autogen": "top_imports"
   },
   "outputs": [],
   "source": [
    "from qualtran import Bloq, CompositeBloq, BloqBuilder, Signature, Register\n",
    "from qualtran import QBit, QInt, QUInt, QAny\n",
    "from qualtran.drawing import show_bloq, show_call_graph, show_counts_sigma\n",
    "from typing import *\n",
    "import numpy as np\n",
    "import sympy\n",
    "import cirq"
   ]
  },
  {
   "cell_type": "markdown",
   "id": "60163c9f",
   "metadata": {
    "cq.autogen": "FindECCPrivateKey.bloq_doc.md"
   },
   "source": [
    "## `FindECCPrivateKey`\n",
    "Perform two phase estimations to break elliptic curve cryptography.\n",
    "\n",
    "This follows the strategy in Litinski 2023. We perform two phase estimations corresponding\n",
    "to `ECCAddR(R=P)` and `ECCAddR(R=Q)` for base point $P$ and public key $Q$.\n",
    "\n",
    "The first phase estimation projects us into a random eigenstate of the ECCAddR(R=P) operator\n",
    "which we index by the integer $c$. Per eq. 5 in the reference, these eigenstates take the form\n",
    "$$\n",
    "|\\psi_c \\rangle = \\sum_j^{r-1} \\omega^{cj}\\ | [j]P \\rangle  \\\\\n",
    "\\omega = e^{2\\pi i / r} \\\\\n",
    "[r] P = P\n",
    "$$\n",
    "\n",
    "This state is a simultaneous eigenstate of the second operator, `ECCAddR(R=Q)`. By\n",
    "the definition of the operator, acting it upon $|\\psi_c\\rangle$ gives:\n",
    "$$\n",
    "|\\psi_c \\rangle \\rightarrow \\sum_j w^{cj} | [j]P + Q \\rangle\\rangle\n",
    "$$\n",
    "\n",
    "The private key $k$ that we wish to recover relates the public key to the base point\n",
    "$$\n",
    "Q = [k] P\n",
    "$$\n",
    "so our simultaneous eigenstate can be equivalently written as\n",
    "$$\n",
    "\\sum_j^{r-1} \\omega^{cj} | [j+k] P \\rangle \\\\\n",
    "= \\omega^{-ck} |\\psi_c \\rangle\n",
    "$$\n",
    "\n",
    "Therefore, the measured result of the second phase estimation is $ck$. Since we have\n",
    "already measured the random index $c$, we can divide it out to recover the private key $k$.\n",
    "\n",
    "#### Parameters\n",
    " - `n`: The bitsize of the elliptic curve points' x and y registers.\n",
    " - `base_point`: The base point $P$ with unknown order $r$ such that $P = [r] P$.\n",
    " - `public_key`: The public key $Q$ such that $Q = [k] P$ for private key $k$. \n",
    "\n",
    "#### References\n",
    " - [How to compute a 256-bit elliptic curve private key with only 50 million Toffoli gates](https://arxiv.org/abs/2306.08585). Litinski. 2023. Figure 4 (a).\n"
   ]
  },
  {
   "cell_type": "code",
   "execution_count": null,
   "id": "92003a1f",
   "metadata": {
    "cq.autogen": "FindECCPrivateKey.bloq_doc.py"
   },
   "outputs": [],
   "source": [
    "from qualtran.bloqs.factoring.ecc import FindECCPrivateKey"
   ]
  },
  {
   "cell_type": "code",
   "execution_count": null,
   "id": "6cb48b0a-44c8-40e5-ba1e-d0b3a0745046",
   "metadata": {},
   "outputs": [],
   "source": [
    "from qualtran.bloqs.factoring.ecc import ECPoint"
   ]
  },
  {
   "cell_type": "markdown",
   "id": "e7c573eb",
   "metadata": {
    "cq.autogen": "FindECCPrivateKey.example_instances.md"
   },
   "source": [
    "### Example Instances"
   ]
  },
  {
   "cell_type": "code",
   "execution_count": null,
   "id": "51f1d2bf",
   "metadata": {
    "cq.autogen": "FindECCPrivateKey.ecc"
   },
   "outputs": [],
   "source": [
    "n, p = sympy.symbols('n p')\n",
    "Px, Py, Qx, Qy = sympy.symbols('P_x P_y Q_x Q_y')\n",
    "P = ECPoint(Px, Py, mod=p)\n",
    "Q = ECPoint(Qx, Qy, mod=p)\n",
    "ecc = FindECCPrivateKey(n=n, base_point=P, public_key=Q)"
   ]
  },
  {
   "cell_type": "markdown",
   "id": "921c0ce8",
   "metadata": {
    "cq.autogen": "FindECCPrivateKey.graphical_signature.md"
   },
   "source": [
    "#### Graphical Signature"
   ]
  },
  {
   "cell_type": "code",
   "execution_count": null,
   "id": "d231c54e",
   "metadata": {
    "cq.autogen": "FindECCPrivateKey.graphical_signature.py"
   },
   "outputs": [],
   "source": [
    "from qualtran.drawing import show_bloqs\n",
    "show_bloqs([ecc],\n",
    "           ['`ecc`'])"
   ]
  },
  {
   "cell_type": "markdown",
   "id": "73f68a55",
   "metadata": {
    "cq.autogen": "FindECCPrivateKey.call_graph.md"
   },
   "source": [
    "### Call Graph"
   ]
  },
  {
   "cell_type": "code",
   "execution_count": null,
   "id": "ff6e72fa",
   "metadata": {
    "cq.autogen": "FindECCPrivateKey.call_graph.py"
   },
   "outputs": [],
   "source": [
    "from qualtran.resource_counting.generalizers import ignore_split_join\n",
    "ecc_g, ecc_sigma = ecc.call_graph(max_depth=1, generalizer=ignore_split_join)\n",
    "show_call_graph(ecc_g)\n",
    "show_counts_sigma(ecc_sigma)"
   ]
  },
  {
   "cell_type": "code",
   "execution_count": null,
   "id": "510c3f43-5a16-4113-95e4-74e4c1618a68",
   "metadata": {},
   "outputs": [],
   "source": [
    "show_bloq(ecc.decompose_bloq())"
   ]
  },
  {
   "cell_type": "markdown",
   "id": "fff25268",
   "metadata": {
    "cq.autogen": "ECPhaseEstimateR.bloq_doc.md"
   },
   "source": [
    "## `ECPhaseEstimateR`\n",
    "Perform a single phase estimation of ECAddR for a given point.\n",
    "\n",
    "This is used as a subroutine in `FindECCPrivateKey`. First, we phase-estimate the\n",
    "addition of the base point $P$, then of the public key $Q$.\n",
    "\n",
    "#### Parameters\n",
    " - `n`: The bitsize of the elliptic curve points' x and y registers.\n",
    " - `point`: The elliptic curve point to phase estimate against.\n"
   ]
  },
  {
   "cell_type": "code",
   "execution_count": null,
   "id": "5220a4ad",
   "metadata": {
    "cq.autogen": "ECPhaseEstimateR.bloq_doc.py"
   },
   "outputs": [],
   "source": [
    "from qualtran.bloqs.factoring.ecc import ECPhaseEstimateR"
   ]
  },
  {
   "cell_type": "markdown",
   "id": "f3421d38",
   "metadata": {
    "cq.autogen": "ECPhaseEstimateR.example_instances.md"
   },
   "source": [
    "### Example Instances"
   ]
  },
  {
   "cell_type": "code",
   "execution_count": null,
   "id": "17642453",
   "metadata": {
    "cq.autogen": "ECPhaseEstimateR.ec_pe"
   },
   "outputs": [],
   "source": [
    "n, p = sympy.symbols('n p ')\n",
    "Rx, Ry = sympy.symbols('R_x R_y')\n",
    "ec_pe = ECPhaseEstimateR(n=n, point=ECPoint(Rx, Ry, mod=p))"
   ]
  },
  {
   "cell_type": "markdown",
   "id": "33824ce4",
   "metadata": {
    "cq.autogen": "ECPhaseEstimateR.graphical_signature.md"
   },
   "source": [
    "#### Graphical Signature"
   ]
  },
  {
   "cell_type": "code",
   "execution_count": null,
   "id": "528b7d0e",
   "metadata": {
    "cq.autogen": "ECPhaseEstimateR.graphical_signature.py"
   },
   "outputs": [],
   "source": [
    "from qualtran.drawing import show_bloqs\n",
    "show_bloqs([ec_pe],\n",
    "           ['`ec_pe`'])"
   ]
  },
  {
   "cell_type": "markdown",
   "id": "38b665f4",
   "metadata": {
    "cq.autogen": "ECPhaseEstimateR.call_graph.md"
   },
   "source": [
    "### Call Graph"
   ]
  },
  {
   "cell_type": "code",
   "execution_count": null,
   "id": "9ce3d4df",
   "metadata": {
    "cq.autogen": "ECPhaseEstimateR.call_graph.py"
   },
   "outputs": [],
   "source": [
    "from qualtran.resource_counting.generalizers import ignore_split_join\n",
    "ec_pe_g, ec_pe_sigma = ec_pe.call_graph(max_depth=1, generalizer=ignore_split_join)\n",
    "show_call_graph(ec_pe_g)\n",
    "show_counts_sigma(ec_pe_sigma)"
   ]
  },
  {
   "cell_type": "markdown",
   "id": "fe222fde",
   "metadata": {
    "cq.autogen": "ECAddR.bloq_doc.md"
   },
   "source": [
    "## `ECAddR`\n",
    "Perform elliptic curve addition of constant `R`.\n",
    "\n",
    "Given the constant elliptic curve point $R$ and an input point $A$\n",
    "factored into the `x` and `y` registers such that $|A\\rangle = |(a_x,a_y)\\rangle$,\n",
    "this bloq takes\n",
    "\n",
    "$$\n",
    "|A\\rangle \\rightarrow |A+R\\rangle\n",
    "$$\n",
    "\n",
    "#### Parameters\n",
    " - `n`: The bitsize of the two registers storing the elliptic curve point.\n",
    " - `R`: The elliptic curve point to add. \n",
    "\n",
    "#### Registers\n",
    " - `ctrl`: A control bit.\n",
    " - `x`: The x component of the input elliptic curve point of bitsize `n`.\n",
    " - `y`: The y component of the input elliptic curve point of bitsize `n`. \n",
    "\n",
    "#### References\n",
    " - [How to compute a 256-bit elliptic curve private key with only 50 million Toffoli gates](https://arxiv.org/abs/2306.08585). Litinski. 2023. Section 1, eq. (3) and (4).\n",
    " - [Quantum resource estimates for computing elliptic curve discrete logarithms](https://arxiv.org/abs/1706.06752). Roetteler et. al. 2017. Algorithm 1 and Figure 10.\n",
    " - [https://github.com/microsoft/QuantumEllipticCurves/blob/dbf4836afaf7a9fab813cbc0970e65af85a6f93a/MicrosoftQuantumCrypto/EllipticCurves.qs#L456](QuantumQuantumCrypto). `DistinctEllipticCurveClassicalPointAddition`.\n"
   ]
  },
  {
   "cell_type": "code",
   "execution_count": null,
   "id": "757bfce9",
   "metadata": {
    "cq.autogen": "ECAddR.bloq_doc.py"
   },
   "outputs": [],
   "source": [
    "from qualtran.bloqs.factoring.ecc import ECAddR"
   ]
  },
  {
   "cell_type": "markdown",
   "id": "999b9be2",
   "metadata": {
    "cq.autogen": "ECAddR.example_instances.md"
   },
   "source": [
    "### Example Instances"
   ]
  },
  {
   "cell_type": "code",
   "execution_count": null,
   "id": "2336e803",
   "metadata": {
    "cq.autogen": "ECAddR.ec_add_r"
   },
   "outputs": [],
   "source": [
    "n, p, Rx, Ry = sympy.symbols('n p R_x R_y')\n",
    "ec_add_r = ECAddR(n=n, R=ECPoint(Rx, Ry, mod=p))"
   ]
  },
  {
   "cell_type": "code",
   "execution_count": null,
   "id": "322c447d",
   "metadata": {
    "cq.autogen": "ECAddR.ec_add_r_small"
   },
   "outputs": [],
   "source": [
    "n = 5  # fits our mod = 17\n",
    "P = ECPoint(15, 13, mod=17, curve_a=0)\n",
    "ec_add_r_small = ECAddR(n=n, R=P)"
   ]
  },
  {
   "cell_type": "markdown",
   "id": "abe24e4e",
   "metadata": {
    "cq.autogen": "ECAddR.graphical_signature.md"
   },
   "source": [
    "#### Graphical Signature"
   ]
  },
  {
   "cell_type": "code",
   "execution_count": null,
   "id": "5422be2d",
   "metadata": {
    "cq.autogen": "ECAddR.graphical_signature.py"
   },
   "outputs": [],
   "source": [
    "from qualtran.drawing import show_bloqs\n",
    "show_bloqs([ec_add_r, ec_add_r_small],\n",
    "           ['`ec_add_r`', '`ec_add_r_small`'])"
   ]
  },
  {
   "cell_type": "markdown",
   "id": "c4db715e",
   "metadata": {
    "cq.autogen": "ECAddR.call_graph.md"
   },
   "source": [
    "### Call Graph"
   ]
  },
  {
   "cell_type": "code",
   "execution_count": null,
   "id": "bd38ad5f",
   "metadata": {
    "cq.autogen": "ECAddR.call_graph.py"
   },
   "outputs": [],
   "source": [
    "from qualtran.resource_counting.generalizers import ignore_split_join\n",
    "ec_add_r_g, ec_add_r_sigma = ec_add_r.call_graph(max_depth=1, generalizer=ignore_split_join)\n",
    "show_call_graph(ec_add_r_g)\n",
    "show_counts_sigma(ec_add_r_sigma)"
   ]
  },
  {
   "cell_type": "code",
   "execution_count": null,
   "id": "35d9dc15-7a16-4aeb-9f1a-a5e7a14461ba",
   "metadata": {},
   "outputs": [],
   "source": [
    "for j in range(1, 20+1):\n",
    "    bloq = ECAddR(n=5, R=j*P)\n",
    "    ctrl, x, y = bloq.call_classically(ctrl=1, x=P.x, y=P.y)\n",
    "    print(f'+[{j:2d}] P  ->  ({x:2d}, {y:2d})')"
   ]
  },
  {
   "cell_type": "markdown",
   "id": "72c1ad66",
   "metadata": {
    "cq.autogen": "ECWindowAddR.bloq_doc.md"
   },
   "source": [
    "## `ECWindowAddR`\n",
    "Perform elliptic curve addition of many multiples of constant `R`.\n",
    "\n",
    "This adds R, 2R, ... 2^window_size into the register.\n",
    "\n",
    "#### Parameters\n",
    " - `n`: The bitsize of the two registers storing the elliptic curve point\n",
    " - `window_size`: The number of bits in the window.\n",
    " - `R`: The elliptic curve point to add. \n",
    "\n",
    "#### Registers\n",
    " - `ctrl`: `window_size` control bits.\n",
    " - `x`: The x component of the input elliptic curve point of bitsize `n`.\n",
    " - `y`: The y component of the input elliptic curve point of bitsize `n`. \n",
    "\n",
    "#### References\n",
    " - [How to compute a 256-bit elliptic curve private key with only 50 million Toffoli gates](https://arxiv.org/abs/2306.08585). Litinski. 2013. Section 1, eq. (3) and (4).\n"
   ]
  },
  {
   "cell_type": "code",
   "execution_count": null,
   "id": "289623e8",
   "metadata": {
    "cq.autogen": "ECWindowAddR.bloq_doc.py"
   },
   "outputs": [],
   "source": [
    "from qualtran.bloqs.factoring.ecc import ECWindowAddR"
   ]
  },
  {
   "cell_type": "markdown",
   "id": "dd6c7d57",
   "metadata": {
    "cq.autogen": "ECWindowAddR.example_instances.md"
   },
   "source": [
    "### Example Instances"
   ]
  },
  {
   "cell_type": "code",
   "execution_count": null,
   "id": "e1a3a397",
   "metadata": {
    "cq.autogen": "ECWindowAddR.ec_window_add"
   },
   "outputs": [],
   "source": [
    "n, p = sympy.symbols('n p')\n",
    "Rx, Ry = sympy.symbols('Rx Ry')\n",
    "ec_window_add = ECWindowAddR(n=n, window_size=3, R=ECPoint(Rx, Ry, mod=p))"
   ]
  },
  {
   "cell_type": "markdown",
   "id": "dafa7d88",
   "metadata": {
    "cq.autogen": "ECWindowAddR.graphical_signature.md"
   },
   "source": [
    "#### Graphical Signature"
   ]
  },
  {
   "cell_type": "code",
   "execution_count": null,
   "id": "39be6000",
   "metadata": {
    "cq.autogen": "ECWindowAddR.graphical_signature.py"
   },
   "outputs": [],
   "source": [
    "from qualtran.drawing import show_bloqs\n",
    "show_bloqs([ec_window_add],\n",
    "           ['`ec_window_add`'])"
   ]
  },
  {
   "cell_type": "markdown",
   "id": "a923ec58",
   "metadata": {
    "cq.autogen": "ECWindowAddR.call_graph.md"
   },
   "source": [
    "### Call Graph"
   ]
  },
  {
   "cell_type": "code",
   "execution_count": null,
   "id": "eea0704c",
   "metadata": {
    "cq.autogen": "ECWindowAddR.call_graph.py"
   },
   "outputs": [],
   "source": [
    "from qualtran.resource_counting.generalizers import ignore_split_join\n",
    "ec_window_add_g, ec_window_add_sigma = ec_window_add.call_graph(max_depth=1, generalizer=ignore_split_join)\n",
    "show_call_graph(ec_window_add_g)\n",
    "show_counts_sigma(ec_window_add_sigma)"
   ]
  }
 ],
 "metadata": {
  "kernelspec": {
   "display_name": "Python 3 (ipykernel)",
   "language": "python",
   "name": "python3"
  },
  "language_info": {
   "codemirror_mode": {
    "name": "ipython",
    "version": 3
   },
   "file_extension": ".py",
   "mimetype": "text/x-python",
   "name": "python",
   "nbconvert_exporter": "python",
   "pygments_lexer": "ipython3",
   "version": "3.11.7"
  }
 },
 "nbformat": 4,
 "nbformat_minor": 5
}
