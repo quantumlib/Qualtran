{
 "cells": [
  {
   "cell_type": "markdown",
   "id": "e29a137f",
   "metadata": {
    "cq.autogen": "title_cell"
   },
   "source": [
    "# Elliptic Curve Addition"
   ]
  },
  {
   "cell_type": "code",
   "execution_count": null,
   "id": "06da449a",
   "metadata": {
    "cq.autogen": "top_imports"
   },
   "outputs": [],
   "source": [
    "from qualtran import Bloq, CompositeBloq, BloqBuilder, Signature, Register\n",
    "from qualtran import QBit, QInt, QUInt, QAny\n",
    "from qualtran.drawing import show_bloq, show_call_graph, show_counts_sigma\n",
    "from typing import *\n",
    "import numpy as np\n",
    "import sympy\n",
    "import cirq"
   ]
  },
  {
   "cell_type": "markdown",
   "id": "dc1d3b04",
   "metadata": {
    "cq.autogen": "ECAdd.bloq_doc.md"
   },
   "source": [
    "## `ECAdd`\n",
    "Add two elliptic curve points.\n",
    "\n",
    "This takes elliptic curve points given by (a, b) and (x, y)\n",
    "and outputs the sum (x_r, y_r) in the second pair of registers.\n",
    "\n",
    "#### Parameters\n",
    " - `n`: The bitsize of the two registers storing the elliptic curve point\n",
    " - `mod`: The modulus of the field in which we do the addition. \n",
    "\n",
    "#### Registers\n",
    " - `a`: The x component of the first input elliptic curve point of bitsize `n`.\n",
    " - `b`: The y component of the first input elliptic curve point of bitsize `n`.\n",
    " - `x`: The x component of the second input elliptic curve point of bitsize `n`, which will contain the x component of the resultant curve point.\n",
    " - `y`: The y component of the second input elliptic curve point of bitsize `n`, which will contain the y component of the resultant curve point.\n",
    " - `lam`: The precomputed lambda slope used in the addition operation. \n",
    "\n",
    "#### References\n",
    " - [How to compute a 256-bit elliptic curve private key with only 50 million Toffoli gates](https://arxiv.org/abs/2306.08585). Litinski. 2023. Fig 5.\n"
   ]
  },
  {
   "cell_type": "code",
   "execution_count": null,
   "id": "68605201",
   "metadata": {
    "cq.autogen": "ECAdd.bloq_doc.py"
   },
   "outputs": [],
   "source": [
    "from qualtran.bloqs.factoring.ecc import ECAdd"
   ]
  },
  {
   "cell_type": "markdown",
   "id": "bba2f42d",
   "metadata": {
    "cq.autogen": "ECAdd.example_instances.md"
   },
   "source": [
    "### Example Instances"
   ]
  },
  {
   "cell_type": "code",
   "execution_count": null,
   "id": "0d051c3b",
   "metadata": {
    "cq.autogen": "ECAdd.ec_add"
   },
   "outputs": [],
   "source": [
    "n, p = sympy.symbols('n p')\n",
    "ec_add = ECAdd(n, mod=p)"
   ]
  },
  {
   "cell_type": "markdown",
   "id": "39210af4",
   "metadata": {
    "cq.autogen": "ECAdd.graphical_signature.md"
   },
   "source": [
    "#### Graphical Signature"
   ]
  },
  {
   "cell_type": "code",
   "execution_count": null,
   "id": "d353f0ec",
   "metadata": {
    "cq.autogen": "ECAdd.graphical_signature.py"
   },
   "outputs": [],
   "source": [
    "from qualtran.drawing import show_bloqs\n",
    "show_bloqs([ec_add],\n",
    "           ['`ec_add`'])"
   ]
  },
  {
   "cell_type": "markdown",
   "id": "d7fcd725",
   "metadata": {
    "cq.autogen": "ECAdd.call_graph.md"
   },
   "source": [
    "### Call Graph"
   ]
  },
  {
   "cell_type": "code",
   "execution_count": null,
   "id": "976398e1",
   "metadata": {
    "cq.autogen": "ECAdd.call_graph.py"
   },
   "outputs": [],
   "source": [
    "from qualtran.resource_counting.generalizers import ignore_split_join\n",
    "ec_add_g, ec_add_sigma = ec_add.call_graph(max_depth=1, generalizer=ignore_split_join)\n",
    "show_call_graph(ec_add_g)\n",
    "show_counts_sigma(ec_add_sigma)"
   ]
  }
 ],
 "metadata": {
  "kernelspec": {
   "display_name": "Python 3 (ipykernel)",
   "language": "python",
   "name": "python3"
  },
  "language_info": {
   "codemirror_mode": {
    "name": "ipython",
    "version": 3
   },
   "file_extension": ".py",
   "mimetype": "text/x-python",
   "name": "python",
   "nbconvert_exporter": "python",
   "pygments_lexer": "ipython3",
   "version": "3.11.7"
  }
 },
 "nbformat": 4,
 "nbformat_minor": 5
}
