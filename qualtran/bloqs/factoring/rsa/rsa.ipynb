{
 "cells": [
  {
   "cell_type": "markdown",
   "id": "48ce60bb",
   "metadata": {
    "cq.autogen": "title_cell"
   },
   "source": [
    "# Factoring RSA\n",
    "\n",
    "Bloqs for breaking RSA cryptography systems via integer factorization.\n",
    "\n",
    "RSA cryptography is a form of public key cryptography based on the difficulty of\n",
    "factoring the product of two large prime numbers.\n",
    "\n",
    "Using RSA, the cryptographic scheme chooses two large prime numbers p, q, their product n,\n",
    "λ(n) = lcm(p - 1, q - 1) where λ is Carmichael's totient function, an integer e such that\n",
    "1 < e < λ(n), and finally d as d ≡ e^-1 (mod λ(n)). The public key consists of the modulus n and\n",
    "the public (or encryption) exponent e. The private key consists of the private (or decryption)\n",
    "exponent d, which must be kept secret. p, q, and λ(n) must also be kept secret because they can be\n",
    "used to calculate d.\n",
    "\n",
    "Using Shor's algorithm for factoring, we can find p and q (the factors of n) in polynomial time\n",
    "with a quantum algorithm.\n",
    "\n",
    "References:\n",
    "    [RSA (cryptosystem)](https://en.wikipedia.org/wiki/RSA_(cryptosystem))."
   ]
  },
  {
   "cell_type": "code",
   "execution_count": null,
   "id": "d12766dd",
   "metadata": {
    "cq.autogen": "top_imports"
   },
   "outputs": [],
   "source": [
    "from qualtran import Bloq, CompositeBloq, BloqBuilder, Signature, Register\n",
    "from qualtran import QBit, QInt, QUInt, QAny\n",
    "from qualtran.drawing import show_bloq, show_call_graph, show_counts_sigma\n",
    "from typing import *\n",
    "import numpy as np\n",
    "import sympy\n",
    "import cirq"
   ]
  },
  {
   "cell_type": "markdown",
   "id": "881834c3",
   "metadata": {
    "cq.autogen": "ModExp.bloq_doc.md"
   },
   "source": [
    "## `ModExp`\n",
    "Perform $b^e \\mod{m}$ for constant `base` $b$, `mod` $m$, and quantum `exponent` $e$.\n",
    "\n",
    "Modular exponentiation is the main computational primitive for quantum factoring algorithms.\n",
    "We follow [GE2019]'s \"reference implementation\" for factoring. See `ModExp.make_for_shor`\n",
    "to set the class attributes for a factoring run.\n",
    "\n",
    "This bloq decomposes into controlled modular exponentiation for each exponent bit.\n",
    "\n",
    "#### Parameters\n",
    " - `base`: The integer base of the exponentiation\n",
    " - `mod`: The integer modulus\n",
    " - `exp_bitsize`: The size of the `exponent` thru-register\n",
    " - `x_bitsize`: The size of the `x` right-register \n",
    "\n",
    "#### Registers\n",
    " - `exponent`: The exponent\n",
    " - `x [right]`: The output register containing the result of the exponentiation \n",
    "\n",
    "#### References\n",
    " - [How to factor 2048 bit RSA integers in 8 hours using 20 million noisy qubits](https://arxiv.org/abs/1905.09749). Gidney and Ekerå. 2019.\n"
   ]
  },
  {
   "cell_type": "code",
   "execution_count": null,
   "id": "61062a3d",
   "metadata": {
    "cq.autogen": "ModExp.bloq_doc.py"
   },
   "outputs": [],
   "source": [
    "from qualtran.bloqs.factoring.rsa import ModExp"
   ]
  },
  {
   "cell_type": "markdown",
   "id": "6963ad94",
   "metadata": {
    "cq.autogen": "ModExp.example_instances.md"
   },
   "source": [
    "### Example Instances"
   ]
  },
  {
   "cell_type": "code",
   "execution_count": null,
   "id": "56d35af9",
   "metadata": {
    "cq.autogen": "ModExp.modexp_symb"
   },
   "outputs": [],
   "source": [
    "g, N, n_e, n_x = sympy.symbols('g N n_e, n_x')\n",
    "modexp_symb = ModExp(base=g, mod=N, exp_bitsize=n_e, x_bitsize=n_x)"
   ]
  },
  {
   "cell_type": "code",
   "execution_count": null,
   "id": "7d3d90b4",
   "metadata": {
    "cq.autogen": "ModExp.modexp_small"
   },
   "outputs": [],
   "source": [
    "modexp_small = ModExp(base=4, mod=15, exp_bitsize=3, x_bitsize=2048)"
   ]
  },
  {
   "cell_type": "code",
   "execution_count": null,
   "id": "e3a004d3",
   "metadata": {
    "cq.autogen": "ModExp.modexp"
   },
   "outputs": [],
   "source": [
    "modexp = ModExp.make_for_shor(big_n=13 * 17, g=9)"
   ]
  },
  {
   "cell_type": "markdown",
   "id": "39422b45",
   "metadata": {
    "cq.autogen": "ModExp.graphical_signature.md"
   },
   "source": [
    "#### Graphical Signature"
   ]
  },
  {
   "cell_type": "code",
   "execution_count": null,
   "id": "83a891e2",
   "metadata": {
    "cq.autogen": "ModExp.graphical_signature.py"
   },
   "outputs": [],
   "source": [
    "from qualtran.drawing import show_bloqs\n",
    "show_bloqs([modexp_small, modexp, modexp_symb],\n",
    "           ['`modexp_small`', '`modexp`', '`modexp_symb`'])"
   ]
  },
  {
   "cell_type": "markdown",
   "id": "9c271392",
   "metadata": {
    "cq.autogen": "ModExp.call_graph.md"
   },
   "source": [
    "### Call Graph"
   ]
  },
  {
   "cell_type": "code",
   "execution_count": null,
   "id": "c6d55278",
   "metadata": {
    "cq.autogen": "ModExp.call_graph.py"
   },
   "outputs": [],
   "source": [
    "from qualtran.resource_counting.generalizers import ignore_split_join\n",
    "modexp_small_g, modexp_small_sigma = modexp_small.call_graph(max_depth=1, generalizer=ignore_split_join)\n",
    "show_call_graph(modexp_small_g)\n",
    "show_counts_sigma(modexp_small_sigma)"
   ]
  },
  {
   "cell_type": "markdown",
   "id": "2603abbd",
   "metadata": {
    "cq.autogen": "RSAPhaseEstimate.bloq_doc.md"
   },
   "source": [
    "## `RSAPhaseEstimate`\n",
    "Perform a single phase estimation of the decomposition of Modular Exponentiation for the\n",
    "given base.\n",
    "\n",
    "The constructor requires a pre-set base, see the make_for_shor factory method for picking a\n",
    "random, valid base\n",
    "\n",
    "#### Parameters\n",
    " - `n`: The bitsize of the modulus N.\n",
    " - `mod`: The modulus N; a part of the public key for RSA.\n",
    " - `base`: A base for modular exponentiation. \n",
    "\n",
    "#### References\n",
    " - [Circuit for Shor's algorithm using 2n+3 qubits](https://arxiv.org/abs/quant-ph/0205095). Beauregard. 2003. Fig 1.\n"
   ]
  },
  {
   "cell_type": "code",
   "execution_count": null,
   "id": "5b838c20",
   "metadata": {
    "cq.autogen": "RSAPhaseEstimate.bloq_doc.py"
   },
   "outputs": [],
   "source": [
    "from qualtran.bloqs.factoring.rsa import RSAPhaseEstimate"
   ]
  },
  {
   "cell_type": "markdown",
   "id": "20426b03",
   "metadata": {
    "cq.autogen": "RSAPhaseEstimate.example_instances.md"
   },
   "source": [
    "### Example Instances"
   ]
  },
  {
   "cell_type": "code",
   "execution_count": null,
   "id": "f696c5fd",
   "metadata": {
    "cq.autogen": "RSAPhaseEstimate.rsa_pe"
   },
   "outputs": [],
   "source": [
    "n, p, g = sympy.symbols('n p g')\n",
    "rsa_pe = RSAPhaseEstimate(n=n, mod=p, base=g)"
   ]
  },
  {
   "cell_type": "code",
   "execution_count": null,
   "id": "b16e84a5",
   "metadata": {
    "cq.autogen": "RSAPhaseEstimate.rsa_pe_small"
   },
   "outputs": [],
   "source": [
    "rsa_pe_small = RSAPhaseEstimate.make_for_shor(big_n=13 * 17, g=9)"
   ]
  },
  {
   "cell_type": "markdown",
   "id": "0c0078d5",
   "metadata": {
    "cq.autogen": "RSAPhaseEstimate.graphical_signature.md"
   },
   "source": [
    "#### Graphical Signature"
   ]
  },
  {
   "cell_type": "code",
   "execution_count": null,
   "id": "6b493a30",
   "metadata": {
    "cq.autogen": "RSAPhaseEstimate.graphical_signature.py"
   },
   "outputs": [],
   "source": [
    "from qualtran.drawing import show_bloqs\n",
    "show_bloqs([rsa_pe_small, rsa_pe],\n",
    "           ['`rsa_pe_small`', '`rsa_pe`'])"
   ]
  },
  {
   "cell_type": "markdown",
   "id": "441028fa",
   "metadata": {
    "cq.autogen": "RSAPhaseEstimate.call_graph.md"
   },
   "source": [
    "### Call Graph"
   ]
  },
  {
   "cell_type": "code",
   "execution_count": null,
   "id": "7f30cb55",
   "metadata": {
    "cq.autogen": "RSAPhaseEstimate.call_graph.py"
   },
   "outputs": [],
   "source": [
    "from qualtran.resource_counting.generalizers import ignore_split_join\n",
    "rsa_pe_small_g, rsa_pe_small_sigma = rsa_pe_small.call_graph(max_depth=1, generalizer=ignore_split_join)\n",
    "show_call_graph(rsa_pe_small_g)\n",
    "show_counts_sigma(rsa_pe_small_sigma)"
   ]
  },
  {
   "cell_type": "code",
   "execution_count": null,
   "id": "d72bc625",
   "metadata": {
    "cq.autogen": "RSAPhaseEstimate.rsa_pe_shor"
   },
   "outputs": [],
   "source": [
    "rsa_pe_shor = RSAPhaseEstimate.make_for_shor(big_n=13 * 17, g=9)"
   ]
  }
 ],
 "metadata": {
  "kernelspec": {
   "display_name": "Python 3",
   "language": "python",
   "name": "python3"
  },
  "language_info": {
   "name": "python"
  }
 },
 "nbformat": 4,
 "nbformat_minor": 5
}
