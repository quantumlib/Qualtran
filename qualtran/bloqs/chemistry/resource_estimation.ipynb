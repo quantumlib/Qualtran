{
 "cells": [
  {
   "cell_type": "markdown",
   "id": "8a1cab3e",
   "metadata": {
    "cq.autogen": "title_cell"
   },
   "source": [
    "# A Guide to Resource Estimation for Quantum Chemical Hamiltonians\n",
    "\n",
    "<p style=\"text-align: center;\"><a href=\"mailto:fmalone@google.com\">Fionn Malone</a></p>\n",
    "\n",
    "A key feature of Qualtran is the ability to implement, inspect, and cost out fault tolerant algorithms. One area which has received considerable attention over recent years is the development of improved fault tolerant algorithms for simulating problems relevant to chemistry applications. For many applications in chemistry we are only concerned with finding the ground state of the many-electron Hamiltonian. The ground state can be computed using [phase esimation](../phase_estimation_of_quantum_walk.ipynb) of a [walk operator](../qubitization_walk_operator.ipynb).\n",
    "\n",
    "To construct a walk operator we start by representing the Hamiltonian as a linear combination of unitaries (LCU)\n",
    "$$\n",
    "    H = \\sum_{l=0}^{L-1} w_l H_l,\n",
    "$$\n",
    "where $w_l \\ge 0$, $w_l \\in \\mathbb{R}$, $H_l$ is unitary, and $\\lambda = \\sum_l w_l$. With this representation we next define two oracles with the following action\n",
    "$$\n",
    "    \\mathrm{PREPARE} |0\\rangle_a = \\sum_l \\sqrt{\\frac{w_l}{\\lambda}} |l\\rangle_a,\n",
    "$$\n",
    "and\n",
    "$$\n",
    "    \\mathrm{SELECT} |l\\rangle_a|\\psi\\rangle_s = |l\\rangle_a U_l |\\psi\\rangle_s,\n",
    "$$\n",
    "where the subscripts $a$ and $s$ signify ancilla and system registers respectively. Note that these oracles **block encode** the Hamiltonian, as\n",
    "$$\n",
    "_a\\langle 0| _s\\langle \\psi |\\mathrm{PREPARE}^\\dagger \\cdot \\mathrm{SELECT} \\cdot \\mathrm{PREPARE}  |0\\rangle_a |\\psi\\rangle_s = \\frac{1}{\\lambda}\\sum_{l} w_l H_L = \\frac{H}{\\lambda}\n",
    "$$\n",
    "Similarly, the walk operator can be formed by through a combination of SELECT, PREPARE, $\\mathrm{PREPARE}^{\\dagger}$ and a reflection about zero.  \n",
    "\n",
    "The total cost of phase estimation is determined by the cost of constructing SELECT and PREPARE, and the number of iterations ($\\mathcal{I}$) (or queries) required to obtain the energy to a given precision $\\Delta E$, which is typically take to be about $1\\times10^{-3}$ Hartree. The number of iterations is given as\n",
    "$$\n",
    "\\mathcal{I} = \\frac{\\pi \\lambda}{2 \\Delta E}.\n",
    "$$\n",
    "[OpenFermion](https://github.com/quantumlib/OpenFermion) provides routines for computing $\\lambda$ for the different variations of second quantized Hamiltonians implemented in Qualtran, while we can use Qualtran to construct SELECT and PREPARE. \n",
    "\n",
    "In this tutorial we will provide an overview of how to cost out phase estimation for quantum chemical algorithms using Qualtran.  "
   ]
  },
  {
   "cell_type": "markdown",
   "id": "b25c7684",
   "metadata": {},
   "source": [
    "## Second Quantized Hamiltonians \n",
    "\n",
    "Before costing out algorithms, first recall that the Born-Oppenheimer Hamiltonian describing a system of electrons and static nuclei is written in second quantization as \n",
    "$$\n",
    "H = \\sum_\\sigma \\sum_{pq}^{N/2} T_{pq} a_{p\\sigma}^\\dagger a_{q\\sigma}\n",
    "+\n",
    "\\frac{1}{2}\\sum_{\\alpha\\beta}\n",
    "\\sum_{pqrs}^{N/2}\n",
    "V_{pqrs} a_{p\\alpha}^\\dagger a_{q\\alpha} a_{r\\beta}^\\dagger a_{s\\beta} ,\n",
    "$$\n",
    "where $a_{p\\sigma}$ ($a_{q\\sigma}^\\dagger$) annihilate (create) an electron in the\n",
    "$p$-th orbital of spin $\\sigma$. The $V_{pqrs}$ tensor contains $O(N^4)$ elements and represents a bottleneck for block encoding second quantized Hamiltonians.\n",
    "\n",
    "To get an idea for why this form of the Hamiltonian is problematic, consider a very naive block encoding of $H$. Following some algebra (reordering the creation and annihilation operators and mapping to Paulis using the Jordan Wigner transformation), we could attempt to use a [generic state preparation](../state_preparation.ipynb) routine to load the Hamiltonian coefficients. This would have complexity of $\\mathcal{O}(N^4)$ Toffolis which arises from using QROM to load the data for state preparation. This complexity could be reduced using [QROAM](../select_swap_qrom.py) at the cost of $\\mathcal{O}(N^2)$ additional ancilla. The select operation has a cost proportional to $N$ in this case, so we see PREPARE would dominate the complexity.\n",
    "\n",
    "In recent years there has been a focus on reducing this complexity through using different factorizations of the electron repulsion integral tensor (ERI) $V_{pqrs} \\equiv (pq|rs)$. A summary of these methods is given in the table below:\n",
    "\n",
    "| Name | $$V_{pqrs} $$ | Space complexity |\n",
    "| :---- | :---- | :---- | \n",
    "| [Sparse](sparse/sparse.ipynb)   | $$\\tilde{V}_{pqrs}$$ | $$O(N^3)$$ |\n",
    "| [Single Factorization](sf/single_factorization.ipynb) | $$\\sum_X^{L} L_{pq}^X L_{rs}^X $$ | $$O(N^3)$$ |\n",
    "| [Double Factorization](df/double_factorization.ipynb) | $$\\sum_X^{} \\left(\\sum_k^{\\Xi} U^{X}_{pk}f_k^X U_{qk}^{X*}\\right)^2$$ | $$O(N^2\\Xi)$$ |\n",
    "| [Tensor Hypercontraction](thc/thc.ipynb) | $$\\sum_{\\mu\\nu}^{M} \\chi_p^{\\mu}\\chi_q^{\\mu}\\zeta_{\\mu\\nu}\\chi_r^\\nu\\chi_s^\\nu$$ | $$O(N^2)$$ |\n",
    "\n",
    "where the space complexity column represents the amount of classical data ($\\Gamma$, say) required to specify the Hamiltonian. The Toffoli complexity for state preparation for all of these approaches goes roughly like $\\sqrt{\\Gamma}$. "
   ]
  },
  {
   "cell_type": "markdown",
   "id": "3eedfe58",
   "metadata": {},
   "source": [
    "## Block Encoding Bloqs\n",
    "\n",
    "We saw above that the cost of constructing the walk operator is essentially the same as the cost of block encoding our Hamiltonian (up to a reflection). So, for convenience, let us instead consider the cost of block encoding our chemistry Hamiltonians. Qualtran provides a high level [BlockEncodingBloq](../block_encoding.ipynb) for this purpose. We will consider the tensor hypercontraction (THC) algorithm as an example."
   ]
  },
  {
   "cell_type": "code",
   "execution_count": null,
   "id": "2fb17f7f",
   "metadata": {},
   "outputs": [],
   "source": [
    "import numpy as np\n",
    "from qualtran.bloqs.chemistry.thc import SelectTHC, PrepareTHC\n",
    "\n",
    "# Let's just generate some random coefficients for the moment with parameters\n",
    "# corresponding to the FeMoCo model complex.\n",
    "num_spin_orb = 108\n",
    "num_mu = 350\n",
    "num_bits_theta = 16\n",
    "num_bits_state_prep = 10\n",
    "t_l = np.random.normal(0, 1, size=num_spin_orb//2)\n",
    "zeta = np.random.normal(0, 1, size=(num_mu, num_mu))\n",
    "zeta = 0.5 * (zeta + zeta.T)\n",
    "\n",
    "# Build Select and Prepare\n",
    "prep_thc = PrepareTHC.from_hamiltonian_coeffs(t_l, zeta, num_bits_state_prep=num_bits_state_prep)\n",
    "sel_thc = SelectTHC(num_mu, num_spin_orb, num_bits_theta=num_bits_theta, keep_bitsize=prep_thc.keep_bitsize, kr1=16, kr2=16)"
   ]
  },
  {
   "cell_type": "code",
   "execution_count": null,
   "id": "5cd5d9e8",
   "metadata": {},
   "outputs": [],
   "source": [
    "from qualtran.bloqs.block_encoding import BlackBoxBlockEncoding, BlackBoxSelect, BlackBoxPrepare\n",
    "# We now use wrapper bloqs to hide some of the register details.\n",
    "# Build our block encoding bloq\n",
    "select = BlackBoxSelect(sel_thc)\n",
    "prepare = BlackBoxPrepare(prep_thc)\n",
    "block_encoding_bloq = BlackBoxBlockEncoding(select, prepare) "
   ]
  },
  {
   "cell_type": "code",
   "execution_count": null,
   "id": "55ce02c5",
   "metadata": {},
   "outputs": [],
   "source": [
    "import matplotlib.pyplot as plt\n",
    "from qualtran.drawing.musical_score import get_musical_score_data, draw_musical_score\n",
    "msd = get_musical_score_data(block_encoding_bloq.decompose_bloq())\n",
    "fig, ax = draw_musical_score(msd)\n",
    "plt.tick_params(left=False, right=False, labelleft=False, labelbottom=False, bottom=False)\n",
    "fig.set_size_inches(8, 4)"
   ]
  },
  {
   "cell_type": "markdown",
   "id": "deb5c0fa",
   "metadata": {},
   "source": [
    "This looks like our math expression above. Now given our block encoding block we can determine the resources required as follows"
   ]
  },
  {
   "cell_type": "code",
   "execution_count": null,
   "id": "51d755a0",
   "metadata": {},
   "outputs": [],
   "source": [
    "from qualtran.resource_counting import get_bloq_call_graph \n",
    "import attrs\n",
    "from qualtran.bloqs.util_bloqs import Partition, Split, Join, Allocate, Free\n",
    "from qualtran.bloqs.basic_gates import CSwap, TGate\n",
    "from qualtran.drawing import show_call_graph\n",
    "\n",
    "def keeper(bloq): \n",
    "    # intercept CSwaps which are lumped in with Toffolis in the reference papers\n",
    "    if isinstance(bloq, CSwap):\n",
    "        return True\n",
    "    return False\n",
    "\n",
    "def generalizer(bloq):\n",
    "    if isinstance(bloq, (Partition, Split, Join, Allocate, Free)):\n",
    "        return None\n",
    "    return bloq\n",
    "\n",
    "\n",
    "def get_toffoli_counts(bloq):\n",
    "    _, sigma = get_bloq_call_graph(bloq, generalizer=generalizer, keep=keeper)\n",
    "    toffolis = 0\n",
    "    for k, v in sigma.items():\n",
    "        if isinstance(k, CSwap):\n",
    "            toffolis += v * k.bitsize\n",
    "        elif isinstance(k, TGate):\n",
    "            toffolis += v // 4\n",
    "    return toffolis \n",
    "\n",
    "num_toff = get_toffoli_counts(block_encoding_bloq)\n",
    "# note the cost here is from openfermion, the reference number excludes the reflection\n",
    "print(f'qualtran = {num_toff} vs. ref = 10880, delta = {num_toff - 10880}')"
   ]
  },
  {
   "cell_type": "markdown",
   "id": "dbd1615f",
   "metadata": {},
   "source": [
    "We see that our bloq is pretty close to the quoted result, with the difference being around 300 Toffolis. For some insight into the source of differences see the [THC notebook](thc/thc.ipynb). Typically we may expect some small differences with quoted literature results, with Qualtran hopefully providing the more accurate result!\n",
    "\n",
    "Now, for this algorithm we might wonder: what are the dominant sources of this cost? Is this cost large? How do other factorizations of the ERIs fares? A natural place to start is comparing select and prepare."
   ]
  },
  {
   "cell_type": "code",
   "execution_count": null,
   "id": "16c0c1e6",
   "metadata": {},
   "outputs": [],
   "source": [
    "toffoli_counts = [get_toffoli_counts(b) for b in [sel_thc, prep_thc, prep_thc.adjoint()]]\n",
    "print(toffoli_counts)"
   ]
  },
  {
   "cell_type": "code",
   "execution_count": null,
   "id": "693397f4",
   "metadata": {},
   "outputs": [],
   "source": [
    "plt.pie(toffoli_counts, labels=['SELECT', 'PREPARE', r'PREPARE$^{\\dagger}$'], autopct='%1.1f%%')"
   ]
  },
  {
   "cell_type": "markdown",
   "id": "94fe7d78",
   "metadata": {},
   "source": [
    "We see SELECT is the dominant cost and the inverse state preparation is significantly more expensive than its inverse. Let's have a look at the circuits to see where the costs are coming from."
   ]
  },
  {
   "cell_type": "code",
   "execution_count": null,
   "id": "f671f121",
   "metadata": {},
   "outputs": [],
   "source": [
    "msd = get_musical_score_data(prep_thc.decompose_bloq())\n",
    "fig, ax = draw_musical_score(msd)\n",
    "fig.set_size_inches(12, 8)\n",
    "ax.set_title('Prepare')\n",
    "plt.tick_params(left=False, right=False, labelleft=False, labelbottom=False, bottom=False)"
   ]
  },
  {
   "cell_type": "markdown",
   "id": "cec920ff",
   "metadata": {},
   "source": [
    "This figure should resemble Fig. 4 in the [THC paper](https://arxiv.org/abs/2011.03494). This circuit takes a familiar form, uniform state preparation followed by coherent alias sampling (QROM + swaps). Let's see a breakdown of these costs."
   ]
  },
  {
   "cell_type": "code",
   "execution_count": null,
   "id": "5efd66ae",
   "metadata": {},
   "outputs": [],
   "source": [
    "from qualtran.resource_counting.classify_bloqs import classify_t_count_by_bloq_type\n",
    "costs = classify_t_count_by_bloq_type(prep_thc)"
   ]
  },
  {
   "cell_type": "code",
   "execution_count": null,
   "id": "340a4dfe",
   "metadata": {},
   "outputs": [],
   "source": [
    "fig, ax = plt.subplots()\n",
    "values = np.array(list(costs.values()))\n",
    "ix = np.argsort(values)[::-1]\n",
    "values = values[ix]\n",
    "handles = np.arange(len(costs.values()))\n",
    "keys = np.array(list(costs.keys()))[ix]\n",
    "norm = sum(values)\n",
    "labels = [f'{l}: {100*v/norm:3.4f}' for l, v in zip(keys, values)]\n",
    "plt.pie(values)\n",
    "ax.legend(handles, labels=labels, prop={'size': 10},\n",
    "          bbox_to_anchor=(1.0, 0.60))"
   ]
  },
  {
   "cell_type": "markdown",
   "id": "c443862a",
   "metadata": {},
   "source": [
    "Roughly 94% of the cost is from the QROM, the other costs being mostly negligible."
   ]
  },
  {
   "cell_type": "markdown",
   "id": "c1ef2155",
   "metadata": {},
   "source": [
    "Let's now look at SELECT"
   ]
  },
  {
   "cell_type": "code",
   "execution_count": null,
   "id": "f68fb539",
   "metadata": {},
   "outputs": [],
   "source": [
    "msd = get_musical_score_data(sel_thc.decompose_bloq())\n",
    "fig, ax = draw_musical_score(msd)\n",
    "fig.set_size_inches(12, 8)\n",
    "ax.set_title('Select')\n",
    "plt.tick_params(left=False, right=False, labelleft=False, labelbottom=False, bottom=False)"
   ]
  },
  {
   "cell_type": "markdown",
   "id": "0f97fe06",
   "metadata": {},
   "source": [
    "Note that the swaps at the beginning and end of SELECT from Fig. 7 are included as part of Prepare. We see that SELECT only contains swaps and something called In-mu-R, which implements the rotations. Let's take a look at that bloq."
   ]
  },
  {
   "cell_type": "code",
   "execution_count": null,
   "id": "2ae641a5",
   "metadata": {},
   "outputs": [],
   "source": [
    "from qualtran.bloqs.chemistry.thc.select_bloq import THCRotations\n",
    "\n",
    "bloq = THCRotations(num_mu, num_spin_orb, num_bits_theta, kr1=16, kr2=16, adjoint=False)\n",
    "graph, sigma = bloq.call_graph()\n",
    "show_call_graph(graph)\n",
    "print(f\"rotation cost = {108 * 14}, qrom cost = {402}\")"
   ]
  },
  {
   "cell_type": "markdown",
   "id": "2204490e",
   "metadata": {},
   "source": [
    "Unfortunately right now we don't get much insight into the cost breakdown from the diagram, but we know that the dominant cost arise from applying the rotations, which are more than 3 times as expensive as outputting the rotation angles. Check back soon for a more detailed decomposition."
   ]
  },
  {
   "cell_type": "markdown",
   "id": "0b9176a2",
   "metadata": {},
   "source": [
    "## Other Hamiltonians\n",
    "\n",
    "The next best factorization is the double factorized Hamiltonian, let's take a look at it. Note in this case we have directly constructed the block encoding rather than providing Select and Prepare primitives."
   ]
  },
  {
   "cell_type": "code",
   "execution_count": null,
   "id": "614bfb21",
   "metadata": {},
   "outputs": [],
   "source": [
    "from qualtran.bloqs.chemistry.df.double_factorization import DoubleFactorizationBlockEncoding\n",
    "\n",
    "# papameters for the FeMoCo hamiltonian\n",
    "num_aux = 360\n",
    "num_eig = 13031\n",
    "df_bloq = DoubleFactorizationBlockEncoding(num_spin_orb, num_aux, num_eig, num_bits_state_prep, num_bits_rot=num_bits_theta)"
   ]
  },
  {
   "cell_type": "code",
   "execution_count": null,
   "id": "1cf0cd0d",
   "metadata": {},
   "outputs": [],
   "source": [
    "msd = get_musical_score_data(df_bloq.decompose_bloq()) \n",
    "fig, ax = draw_musical_score(msd)\n",
    "fig.set_size_inches(14, 8)\n",
    "plt.tick_params(left=False, right=False, labelleft=False, labelbottom=False, bottom=False)"
   ]
  },
  {
   "cell_type": "markdown",
   "id": "b9d2577a",
   "metadata": {},
   "source": [
    "This should resemble(!) Fig 16 in [the THC reference](https://arxiv.org/abs/2011.03494). Feel free to inspect the bloqs!"
   ]
  },
  {
   "cell_type": "code",
   "execution_count": null,
   "id": "f7e7879b",
   "metadata": {},
   "outputs": [],
   "source": [
    "_, sigma = df_bloq.call_graph()\n",
    "refl_cost_and_qpe = (df_bloq.num_aux -1).bit_length() + (num_spin_orb // 2 - 1).bit_length() + num_bits_state_prep + 1 + 2\n",
    "print(f'qualtran cost = {sigma[TGate()] // 4} vs paper = {21753 - refl_cost_and_qpe}')"
   ]
  },
  {
   "cell_type": "markdown",
   "id": "3d134102",
   "metadata": {},
   "source": [
    "## First Quantization\n",
    "\n",
    "Qualtran also provides bloqs implementing the [first quantized Hamiltonian](pbc/first_quantization/first_quantization.ipynb) representation of the Hamiltonian. Let's build our block encoding again and inspect the dominant costs as a function of the number of electrons ($\\eta$). "
   ]
  },
  {
   "cell_type": "code",
   "execution_count": null,
   "id": "e34dcb1c",
   "metadata": {},
   "outputs": [],
   "source": [
    "from qualtran.bloqs.chemistry.pbc.first_quantization.select_and_prepare import SelectFirstQuantization, PrepareFirstQuantization\n",
    "num_bits_p = 6\n",
    "# keep the electron count small to make the diagrams nicer\n",
    "eta = 3 \n",
    "prep_fq = PrepareFirstQuantization(num_bits_p, eta, eta, eta)\n",
    "sel_fq = SelectFirstQuantization(num_bits_p, eta, eta, eta) \n",
    "prepare = BlackBoxPrepare(prep_fq)\n",
    "select = BlackBoxPrepare(sel_fq)\n",
    "block_encoding_bloq = BlackBoxBlockEncoding(select, prepare)"
   ]
  },
  {
   "cell_type": "code",
   "execution_count": null,
   "id": "ee5806f1",
   "metadata": {},
   "outputs": [],
   "source": [
    "fig, ax = plt.subplots(nrows=1, ncols=5)\n",
    "for ieta, eta in enumerate([10, 20, 40, 60, 80]):\n",
    "    prep_fq = PrepareFirstQuantization(num_bits_p, eta, eta, eta)\n",
    "    sel_fq = SelectFirstQuantization(num_bits_p, eta, eta, eta) \n",
    "    prepare = BlackBoxPrepare(prep_fq)\n",
    "    select = BlackBoxPrepare(sel_fq)\n",
    "    block_encoding_bloq = BlackBoxBlockEncoding(select, prepare) \n",
    "    toffoli_counts = [get_toffoli_counts(b) for b in [sel_fq, prep_fq, attrs.evolve(prep_fq, adjoint=True)]]\n",
    "    ax[ieta].set_title(rf'$\\eta = {eta}$')\n",
    "    ax[ieta].pie(toffoli_counts, autopct='%1.1f%%')\n",
    "ax[-1].legend(labels=['SELECT', 'PREPARE', r'PREPARE$^{\\dagger}$'], loc='best', bbox_to_anchor=(2, 1))\n",
    "fig.set_size_inches(10, 6)"
   ]
  },
  {
   "cell_type": "markdown",
   "id": "940a3538",
   "metadata": {},
   "source": [
    "Interesting! We see that as $\\eta$ grows the cost of SELECT dominates. Let's inspect the circuit to see what is the source of the dominant cost."
   ]
  },
  {
   "cell_type": "code",
   "execution_count": null,
   "id": "48ba76b0",
   "metadata": {},
   "outputs": [],
   "source": [
    "msd = get_musical_score_data(attrs.evolve(sel_fq, eta=2).decompose_bloq())\n",
    "fig, ax = draw_musical_score(msd)\n",
    "fig.set_size_inches(16, 10)\n",
    "ax.set_title('Select')\n",
    "plt.tick_params(left=False, right=False, labelleft=False, labelbottom=False, bottom=False)"
   ]
  },
  {
   "cell_type": "markdown",
   "id": "09290c3b",
   "metadata": {},
   "source": [
    "We see that there are only 3 components, a multiplexed swap, a SELECT operation for the kinetic energy and a SELECT for the potential energy terms. Let's inspect the scaling of these costs with the system size again."
   ]
  },
  {
   "cell_type": "code",
   "execution_count": null,
   "id": "a11b23c0",
   "metadata": {},
   "outputs": [],
   "source": [
    "# let's just get the names of the relevant bloqs in select first\n",
    "fig, ax = plt.subplots(nrows=1, ncols=5)\n",
    "eta_vals = [10, 20, 40, 60, 80]\n",
    "for ieta, eta in enumerate(eta_vals):\n",
    "    sel_fq = SelectFirstQuantization(num_bits_p, eta, eta, eta)\n",
    "    bloq_counts = sel_fq.bloq_counts(generalizer=generalizer)\n",
    "    # dictionary returned does not preserve any order so sort by the short names of the bloqs\n",
    "    sorted_bloqs = sorted(\n",
    "        [bloq for bloq in sel_fq.bloq_counts(generalizer=generalizer).keys()],\n",
    "        key=lambda x: x.short_name(),\n",
    "    )\n",
    "    keys = [b.short_name() for b in sorted_bloqs]\n",
    "    toffoli_counts = []\n",
    "    for bloq in sorted_bloqs:\n",
    "        count = bloq_counts[bloq]\n",
    "        toffoli_counts.append(count * get_toffoli_counts(bloq))\n",
    "    ax[ieta].set_title(rf'$\\eta = {eta}$')\n",
    "    ax[ieta].pie(toffoli_counts, autopct='%1.1f%%')\n",
    "ax[-1].legend(\n",
    "    labels=keys, loc='best', bbox_to_anchor=(2, 1)\n",
    ")\n",
    "fig.set_size_inches(10, 6)"
   ]
  },
  {
   "cell_type": "markdown",
   "id": "d3c32927",
   "metadata": {},
   "source": [
    "We see that for any interestingly sized system $(\\eta > 50)$ that the multiplexed swaps are the dominant cost. Going a little deeper we know that the cost of these swaps is $12 \\eta n_p + 4 \\eta - 8$ Toffolis while the other costs only depend on the bitsizes of different registers which is typically logarithmic in the system size (if there is any dependence). A more careful analysis would determine these parameters more precisely!"
   ]
  }
 ],
 "metadata": {
  "kernelspec": {
   "display_name": "Python 3 (ipykernel)",
   "language": "python",
   "name": "python3"
  },
  "language_info": {
   "codemirror_mode": {
    "name": "ipython",
    "version": 3
   },
   "file_extension": ".py",
   "mimetype": "text/x-python",
   "name": "python",
   "nbconvert_exporter": "python",
   "pygments_lexer": "ipython3",
   "version": "3.10.12"
  }
 },
 "nbformat": 4,
 "nbformat_minor": 5
}
