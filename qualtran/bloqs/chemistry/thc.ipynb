{
 "cells": [
  {
   "cell_type": "markdown",
   "id": "8a1cab3e",
   "metadata": {
    "cq.autogen": "title_cell"
   },
   "source": [
    "# Tensor Hypercontraction\n",
    "\n",
    "SELECT and PREPARE for the molecular tensor hypercontraction (THC) hamiltonian"
   ]
  },
  {
   "cell_type": "code",
   "execution_count": null,
   "id": "76fe66a3",
   "metadata": {
    "cq.autogen": "top_imports"
   },
   "outputs": [],
   "source": [
    "from qualtran import Bloq, CompositeBloq, BloqBuilder, Signature, Register\n",
    "from qualtran.drawing import show_bloq\n",
    "from typing import *\n",
    "import numpy as np"
   ]
  },
  {
   "cell_type": "markdown",
   "id": "1423d573",
   "metadata": {
    "cq.autogen": "_make_uniform_superposition.md"
   },
   "source": [
    "## `UniformSuperpositionTHC`\n",
    "Prepare uniform superposition state for THC.\n",
    "\n",
    "$$\n",
    "    |0\\rangle^{\\otimes 2\\log(M+1)} \\rightarrow \\sum_{\\mu\\le\\nu}^{M} |\\mu\\rangle|\\nu\\rangle\n",
    "    + \\sum_{\\mu}^{N/2}|\\mu\\rangle|\\nu=M+1\\rangle,\n",
    "$$\n",
    "\n",
    "where $M$ is the THC auxiliary dimension, and $N$ is the number of spin orbitals.\n",
    "\n",
    "The toffoli complexity of this gate should be $10 \\log(M+1) + 2 b_r - 9$.\n",
    "Currently it is a good deal larger due to:\n",
    " 1. inverting inequality tests should not need more toffolis.\n",
    " 2. We are not using phase-gradient gate toffoli cost for Ry rotations\n",
    " 3. Small differences in quoted vs implemented comparator costs.\n",
    "\n",
    "See: https://github.com/quantumlib/Qualtran/issues/390\n",
    "\n",
    "#### Parameters\n",
    " - `num_mu`: THC auxiliary index dimension $M$\n",
    " - `num_spin_orb`: number of spin orbitals $N$ \n",
    "\n",
    "#### Registers\n",
    " - `mu`: $\\mu$ register.\n",
    " - `nu`: $\\nu$ register.\n",
    " - `succ`: ancilla flagging success of amplitude amplification.\n",
    " - `eq_nu_mp1`: ancillas for flagging if $\\nu = M+1$. \n",
    "\n",
    "#### References\n",
    "[Even more efficient quantum computations of chemistry through tensor hypercontraction](https://arxiv.org/pdf/2011.03494.pdf). Eq. 29.\n"
   ]
  },
  {
   "cell_type": "code",
   "execution_count": null,
   "id": "1b6bb0e0",
   "metadata": {
    "cq.autogen": "_make_uniform_superposition.py"
   },
   "outputs": [],
   "source": [
    "from qualtran.bloqs.chemistry.thc import UniformSuperpositionTHC\n",
    "\n",
    "num_mu = 10\n",
    "num_spin_orb = 4\n",
    "bloq = UniformSuperpositionTHC(num_mu=num_mu, num_spin_orb=num_spin_orb)\n",
    "show_bloq(bloq)"
   ]
  },
  {
   "cell_type": "code",
   "execution_count": null,
   "id": "a89e358f",
   "metadata": {},
   "outputs": [],
   "source": [
    "from qualtran.resource_counting import get_bloq_counts_graph\n",
    "from qualtran.drawing import GraphvizCounts\n",
    "from qualtran.bloqs.chemistry.thc_notebook_utils import generalize\n",
    "graph, sigma = get_bloq_counts_graph(bloq, generalizer=generalize)\n",
    "GraphvizCounts(graph).get_svg()"
   ]
  },
  {
   "cell_type": "markdown",
   "id": "f2cbc8e6",
   "metadata": {},
   "source": [
    "Let's print out the costs contributing to the TCount."
   ]
  },
  {
   "cell_type": "code",
   "execution_count": null,
   "id": "fa6858a5",
   "metadata": {},
   "outputs": [],
   "source": [
    "from qualtran.bloqs.chemistry.thc_notebook_utils import bin_bloq_counts\n",
    "\n",
    "binned_counts = bin_bloq_counts(bloq)\n",
    "# number of bits for mu register (nm in THC paper)\n",
    "# note this register should range up to num_mu + 1, not num_mu, hence it's just bit_length not (num_mu - 1).bit_length()\n",
    "nm = bloq.num_mu.bit_length()\n",
    "# Costs for THC paper\n",
    "# The factor of 4 is for Toffoli -> T conversion\n",
    "paper_costs = {\n",
    "    'comparator': 4*(4*(nm - 1) + (4*nm - 3)), # 4 comparitors of cost nm - 1 Toffolis\n",
    "    'rotation': 4*(4 + 4), # Given as br - 3, br = 7 is the number of bits of precision for rotations.\n",
    "    'reflections': 4*(3 + 2*nm-1), # 5 qubit reflection for comparitors and 2*nm + 1 qubits reflect after hadamards\n",
    "    'other': 4*3, # \"Checking the inequality test\" unclear if this is the multi-control not gate.\n",
    "}\n",
    "for k, v in paper_costs.items():\n",
    "    print(f\"{k+':':15s} qualtran = {binned_counts[k]:5d} vs paper cost = {v:5d}.\")"
   ]
  },
  {
   "cell_type": "markdown",
   "id": "e92c2265",
   "metadata": {},
   "source": [
    "The discrepancies arise from the following issues:\n",
    "\n",
    "1. Comparators: The paper uncomputes the comparators at zero Toffoli cost, whereas we do not. This is nearly a factor of two difference. This leaves us with 144 vs 100. The extra factor of 44 arises from the different costs of the comparators listed in the paper and those in qualtran. The paper uses a cost of $n_m - 1$ for all the comparitors (with the final $\\nu = M+1$ equality test costing $n_m$), whereas the qualtran comparators assume a cost of $n_m - 1$ for equality testing to a classical value, $n_m$ for comparison to a classical value and $2 n_m - 1$ when comparing two quantum registers.\n",
    "2. Rotations: The paper uses a phase gradient register which has a much lower cost than the qualtran cost which assumes a generic synthesis cost. \n",
    "3. Reflections and other: This discrepancy arises because the paper states the first reflection in between the comparators has Toffoli cost of 3, rather than what we have which is 2 Toffolis and 1 Multi-Controlled Z which costs 2 Toffolis. Our costs for the second reflection match. The other discrepancy is for the operations in between the second set of comparators. Here we count 2 Toffolis and 1 Multi-Controlled-Not gate of cost 2 Toffolis.  \n",
    "\n",
    "The leading order Toffoli cost of this state preparation is 10 $n_m$ in the paper which arises from the comparators and the reflection on the $\\mu$ and $\\nu$ registers, i.e. $4(n_m - 1) + 4n_m - 3 + 2n_m -1 \\approx 10 n_m$."
   ]
  },
  {
   "cell_type": "markdown",
   "id": "5b253057",
   "metadata": {
    "cq.autogen": "_make_prepare.md"
   },
   "source": [
    "## `PrepareTHC`\n",
    "State Preparation for THC Hamilontian.\n",
    "\n",
    "Prepares the state\n",
    "\n",
    "$$\n",
    "    \\frac{1}{\\sqrt{\\lambda}}|+\\rangle|+\\rangle\\left[\n",
    "        \\sum_\\ell^{N/2} \\sqrt{t_\\ell}|\\ell\\rangle|M+1\\rangle\n",
    "        + \\frac{1}{\\sqrt{2}} \\sum_{\\mu\\le\\nu}^M \\sqrt{\\zeta_{\\mu\\nu}} |\\mu\\rangle|\\nu\\rangle\n",
    "    \\right].\n",
    "$$\n",
    "\n",
    "Note we use UniformSuperpositionTHC as a subroutine as part of this bloq in\n",
    "contrast to the reference which keeps them separate.\n",
    "\n",
    "#### Parameters\n",
    " - `num_mu`: THC auxiliary index dimension $M$\n",
    " - `num_spin_orb`: number of spin orbitals $N$\n",
    " - `alt_mu`: Alternate values for mu indices.\n",
    " - `alt_nu`: Alternate values for nu indices.\n",
    " - `alt_theta`: Alternate values for theta indices.\n",
    " - `theta`: Signs of lcu coefficients.\n",
    " - `keep`: keep values.\n",
    " - `keep_bitsize`: number of bits for keep register for coherent alias sampling. \n",
    "\n",
    "#### Registers\n",
    " - `mu`: $\\mu$ register.\n",
    " - `nu`: $\\nu$ register.\n",
    " - `theta`: sign register.\n",
    " - `succ`: success flag qubit from uniform state preparation\n",
    " - `eq_nu_mp1`: flag for if $nu = M+1$\n",
    " - `plus_a / plus_b`: plus state for controlled swaps on spins. \n",
    "\n",
    "#### References\n",
    "[Even more efficient quantum computations of chemistry through tensor hypercontraction](https://arxiv.org/pdf/2011.03494.pdf) Fig. 2 and Fig. 3.\n"
   ]
  },
  {
   "cell_type": "code",
   "execution_count": null,
   "id": "c4886f09",
   "metadata": {
    "cq.autogen": "_make_prepare.py"
   },
   "outputs": [],
   "source": [
    "from qualtran.bloqs.chemistry.thc import PrepareTHC\n",
    "\n",
    "num_spat = 4\n",
    "num_mu = 8\n",
    "t_l = np.random.normal(0, 1, size=num_spat)\n",
    "zeta = np.random.normal(0, 1, size=(num_mu, num_mu))\n",
    "zeta = 0.5 * (zeta + zeta.T)\n",
    "eps = 1e-3\n",
    "bloq = PrepareTHC.from_hamiltonian_coeffs(t_l, zeta, probability_epsilon=eps)\n",
    "show_bloq(bloq)"
   ]
  },
  {
   "cell_type": "markdown",
   "id": "e8c786a3",
   "metadata": {},
   "source": []
  },
  {
   "cell_type": "code",
   "execution_count": null,
   "id": "ec8f8b91",
   "metadata": {},
   "outputs": [],
   "source": [
    "from qualtran.resource_counting import get_bloq_counts_graph\n",
    "from qualtran.drawing import GraphvizCounts\n",
    "from cirq_ft.algos.multi_control_multi_target_pauli import MultiControlPauli\n",
    "\n",
    "graph, sigma = get_bloq_counts_graph(bloq, generalizer=generalize)\n",
    "GraphvizCounts(graph).get_svg()"
   ]
  },
  {
   "cell_type": "markdown",
   "id": "85818cf5",
   "metadata": {},
   "source": [
    "### Paper Comparison\n",
    "\n",
    "Let's compare our costs to those from the paper. Note we will only look at the cost of prepare. Inverting prepare has the same cost up to the cost of the inverse QROM being reduced to\n",
    "\n",
    "$$\n",
    "\\lceil \\frac{d}{k_{s2}} \\rceil + k_{s2}\n",
    "$$\n"
   ]
  },
  {
   "cell_type": "code",
   "execution_count": null,
   "id": "5be7dcf4",
   "metadata": {},
   "outputs": [],
   "source": [
    "from qualtran.bloqs.chemistry.thc_notebook_utils import bin_bloq_counts\n",
    "\n",
    "binned_counts = bin_bloq_counts(bloq)\n",
    "data_size = bloq.num_mu * (bloq.num_mu + 1) // 2 + bloq.num_spin_orb // 2\n",
    "\n",
    "num_bits_mu = bloq.num_mu.bit_length() \n",
    "qrom_bitsize = 2 * num_bits_mu + 2 + bloq.keep_bitsize\n",
    "paper_costs = {\n",
    "    'contiguous_register': 4*(num_bits_mu ** 2 + num_bits_mu - 1),\n",
    "    'controlled_swaps': 4*(2 * num_bits_mu + (num_bits_mu + 1)), # Swaps from inequality and swap from from \n",
    "    'qrom': 4 * (int(np.ceil(data_size/4) + qrom_bitsize * (4 - 1))), # Eq. 31 from THC paper, k = 4 in this specific case.\n",
    "    'comparator': 4*bloq.keep_bitsize,\n",
    "}\n",
    "for k, v in paper_costs.items():\n",
    "    print(f\"{k+':':20s} qualtran = {binned_counts[k]:5d} vs paper cost = {v:5d}.\")\n",
    "\n",
    "\n",
    "print(f\"Total cost = {sum(v for v in binned_counts.values())}\")"
   ]
  },
  {
   "cell_type": "markdown",
   "id": "807674de",
   "metadata": {},
   "source": [
    "The main discrepancies arise from QROAM assumptions and the difference in comparator cost seen before. "
   ]
  }
 ],
 "metadata": {
  "kernelspec": {
   "display_name": "Python 3",
   "language": "python",
   "name": "python3"
  },
  "language_info": {
   "codemirror_mode": {
    "name": "ipython",
    "version": 3
   },
   "file_extension": ".py",
   "mimetype": "text/x-python",
   "name": "python",
   "nbconvert_exporter": "python",
   "pygments_lexer": "ipython3",
   "version": "3.11.5"
  }
 },
 "nbformat": 4,
 "nbformat_minor": 5
}
