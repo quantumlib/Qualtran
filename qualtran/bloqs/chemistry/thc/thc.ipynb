{
 "cells": [
  {
   "cell_type": "markdown",
   "id": "b65b5bd8",
   "metadata": {
    "cq.autogen": "title_cell"
   },
   "source": [
    "# Tensor Hypercontraction\n",
    "\n",
    "SELECT and PREPARE for the second quantized Tensor Hypercontracted (THC) chemistry Hamtiltonian."
   ]
  },
  {
   "cell_type": "code",
   "execution_count": null,
   "id": "1936da8a",
   "metadata": {
    "cq.autogen": "top_imports"
   },
   "outputs": [],
   "source": [
    "from qualtran import Bloq, CompositeBloq, BloqBuilder, Signature, Register\n",
    "from qualtran import QBit, QInt, QUInt, QAny\n",
    "from qualtran.drawing import show_bloq, show_call_graph, show_counts_sigma\n",
    "from typing import *\n",
    "import numpy as np\n",
    "import sympy\n",
    "import cirq"
   ]
  },
  {
   "cell_type": "markdown",
   "id": "b1c848ea",
   "metadata": {
    "cq.autogen": "UniformSuperpositionTHC.bloq_doc.md"
   },
   "source": [
    "## `UniformSuperpositionTHC`\n",
    "Prepare uniform superposition state for THC.\n",
    "\n",
    "$$\n",
    "    |0\\rangle^{\\otimes 2\\log(M+1)} \\rightarrow \\sum_{\\mu\\le\\nu}^{M} |\\mu\\rangle|\\nu\\rangle\n",
    "    + \\sum_{\\mu}^{N/2}|\\mu\\rangle|\\nu=M+1\\rangle,\n",
    "$$\n",
    "\n",
    "where $M$ is the THC auxiliary dimension, and $N$ is the number of spin orbitals.\n",
    "\n",
    "The toffoli complexity of this gate should be $10 \\log(M+1) + 2 b_r - 9$.\n",
    "Currently it is a good deal larger due to:\n",
    " 1. inverting inequality tests should not need more toffolis.\n",
    " 2. We are not using phase-gradient gate toffoli cost for Ry rotations.\n",
    " 3. Small differences in quoted vs implemented comparator costs.\n",
    "\n",
    "See: https://github.com/quantumlib/Qualtran/issues/390\n",
    "\n",
    "#### Parameters\n",
    " - `num_mu`: THC auxiliary index dimension $M$\n",
    " - `num_spin_orb`: number of spin orbitals $N$ \n",
    "\n",
    "#### Registers\n",
    " - `mu`: $\\mu$ register.\n",
    " - `nu`: $\\nu$ register.\n",
    " - `succ`: ancilla flagging success of amplitude amplification.\n",
    " - `nu_eq_mp1`: ancillas for flagging if $\\nu = M+1$.\n",
    " - `rot`: The ancilla to be rotated for amplitude amplification. \n",
    "\n",
    "#### References\n",
    " - [Even more efficient quantum computations of chemistry through     tensor hypercontraction](https://arxiv.org/pdf/2011.03494.pdf). Eq. 29.\n"
   ]
  },
  {
   "cell_type": "code",
   "execution_count": null,
   "id": "b5ff7633",
   "metadata": {
    "cq.autogen": "UniformSuperpositionTHC.bloq_doc.py"
   },
   "outputs": [],
   "source": [
    "from qualtran.bloqs.chemistry.thc.prepare import UniformSuperpositionTHC"
   ]
  },
  {
   "cell_type": "markdown",
   "id": "e1fddec5",
   "metadata": {
    "cq.autogen": "UniformSuperpositionTHC.example_instances.md"
   },
   "source": [
    "### Example Instances"
   ]
  },
  {
   "cell_type": "code",
   "execution_count": null,
   "id": "fdce0654",
   "metadata": {
    "cq.autogen": "UniformSuperpositionTHC.thc_uni"
   },
   "outputs": [],
   "source": [
    "num_mu = 10\n",
    "num_spin_orb = 4\n",
    "thc_uni = UniformSuperpositionTHC(num_mu=num_mu, num_spin_orb=num_spin_orb)"
   ]
  },
  {
   "cell_type": "markdown",
   "id": "9eca0582",
   "metadata": {
    "cq.autogen": "UniformSuperpositionTHC.graphical_signature.md"
   },
   "source": [
    "#### Graphical Signature"
   ]
  },
  {
   "cell_type": "code",
   "execution_count": null,
   "id": "41eefb04",
   "metadata": {
    "cq.autogen": "UniformSuperpositionTHC.graphical_signature.py"
   },
   "outputs": [],
   "source": [
    "from qualtran.drawing import show_bloqs\n",
    "show_bloqs([thc_uni],\n",
    "           ['`thc_uni`'])"
   ]
  },
  {
   "cell_type": "markdown",
   "id": "f7ea50cb",
   "metadata": {
    "cq.autogen": "UniformSuperpositionTHC.call_graph.md"
   },
   "source": [
    "### Call Graph"
   ]
  },
  {
   "cell_type": "code",
   "execution_count": null,
   "id": "134616a6",
   "metadata": {
    "cq.autogen": "UniformSuperpositionTHC.call_graph.py"
   },
   "outputs": [],
   "source": [
    "from qualtran.resource_counting.generalizers import ignore_split_join\n",
    "thc_uni_g, thc_uni_sigma = thc_uni.call_graph(max_depth=1, generalizer=ignore_split_join)\n",
    "show_call_graph(thc_uni_g)\n",
    "show_counts_sigma(thc_uni_sigma)"
   ]
  },
  {
   "cell_type": "markdown",
   "id": "176027fd-e452-40d4-a526-9e1b9e86896a",
   "metadata": {},
   "source": [
    "### Flame Graph"
   ]
  },
  {
   "cell_type": "code",
   "execution_count": null,
   "id": "65f3c175-c87d-4bf5-8e5f-8bde322152f4",
   "metadata": {},
   "outputs": [],
   "source": [
    "from qualtran.drawing import show_flame_graph\n",
    "show_flame_graph(thc_uni)"
   ]
  },
  {
   "cell_type": "markdown",
   "id": "f2cbc8e6",
   "metadata": {},
   "source": [
    "Let's print out the costs contributing to the TCount."
   ]
  },
  {
   "cell_type": "code",
   "execution_count": null,
   "id": "fa6858a5",
   "metadata": {},
   "outputs": [],
   "source": [
    "from qualtran.resource_counting.classify_bloqs import classify_t_count_by_bloq_type\n",
    "\n",
    "binned_counts = classify_t_count_by_bloq_type(thc_uni)\n",
    "# number of bits for mu register (nm in THC paper)\n",
    "# note this register should range up to num_mu + 1, not num_mu, hence it's just bit_length not (num_mu - 1).bit_length()\n",
    "nm = thc_uni.num_mu.bit_length()\n",
    "# Costs for THC paper\n",
    "# The factor of 4 is for Toffoli -> T conversion\n",
    "paper_costs = {\n",
    "    'arithmetic': 4*(4*(nm - 1) + (4*nm - 3)), # 4 comparitors of cost nm - 1 Toffolis\n",
    "    'rotation': 4*(4 + 4), # Given as br - 3, br = 7 is the number of bits of precision for rotations.\n",
    "    'reflection': 4*(3 + 2*nm-1), # 5 qubit reflection for comparitors and 2*nm + 1 qubits reflect after hadamards\n",
    "    'other': 4*3, # \"Checking the inequality test\" unclear if this is the multi-control not gate.\n",
    "}\n",
    "for k, v in paper_costs.items():\n",
    "    print(f\"{k+':':15s} qualtran = {binned_counts[k]:5d} vs paper cost = {v:5d}.\")\n",
    "\n",
    "assert binned_counts['arithmetic'] == 276"
   ]
  },
  {
   "cell_type": "markdown",
   "id": "e92c2265",
   "metadata": {},
   "source": [
    "The discrepancies arise from the following issues:\n",
    "\n",
    "1. Comparators: The paper uncomputes the comparators at zero Toffoli cost, whereas we do not. This is nearly a factor of two difference. This leaves us with 144 vs 100. The extra factor of 44 arises from the different costs of the comparators listed in the paper and those in qualtran. The paper uses a cost of $n_m - 1$ for all the comparitors (with the final $\\nu = M+1$ equality test costing $n_m$), whereas the qualtran comparators assume a cost of $n_m - 1$ for equality testing to a classical value, $n_m$ for comparison to a classical value and $2 n_m - 1$ when comparing two quantum registers.\n",
    "2. Rotations: The paper uses a phase gradient register which has a much lower cost than the qualtran cost which assumes a generic synthesis cost. \n",
    "3. Reflections and other: This discrepancy arises because the paper states the first reflection in between the comparators has Toffoli cost of 3, rather than what we have which is 2 Toffolis and 1 Multi-Controlled Z which costs 2 Toffolis. Our costs for the second reflection match. The other discrepancy is for the operations in between the second set of comparators. Here we count 2 Toffolis and 1 Multi-Controlled-Not gate of cost 2 Toffolis.  \n",
    "\n",
    "The leading order Toffoli cost of this state preparation is 10 $n_m$ in the paper which arises from the comparators and the reflection on the $\\mu$ and $\\nu$ registers, i.e. $4(n_m - 1) + 4n_m - 3 + 2n_m -1 \\approx 10 n_m$."
   ]
  },
  {
   "cell_type": "code",
   "execution_count": null,
   "id": "01436b52",
   "metadata": {},
   "outputs": [],
   "source": [
    "\n",
    "from qualtran.drawing.musical_score import draw_musical_score, get_musical_score_data\n",
    "\n",
    "msd = get_musical_score_data(thc_uni.decompose_bloq())\n",
    "fig, ax = draw_musical_score(msd)\n",
    "fig.set_size_inches(20, 10)"
   ]
  },
  {
   "cell_type": "markdown",
   "id": "c1c26aa0",
   "metadata": {
    "cq.autogen": "PrepareTHC.bloq_doc.md"
   },
   "source": [
    "## `PrepareTHC`\n",
    "State Preparation for THC Hamilontian.\n",
    "\n",
    "Prepares the state\n",
    "\n",
    "$$\n",
    "    \\frac{1}{\\sqrt{\\lambda}}|+\\rangle|+\\rangle\\left[\n",
    "        \\sum_\\ell^{N/2} \\sqrt{t_\\ell}|\\ell\\rangle|M+1\\rangle\n",
    "        + \\frac{1}{\\sqrt{2}} \\sum_{\\mu\\le\\nu}^M \\sqrt{\\zeta_{\\mu\\nu}} |\\mu\\rangle|\\nu\\rangle\n",
    "    \\right].\n",
    "$$\n",
    "\n",
    "Note we use UniformSuperpositionTHC as a subroutine as part of this bloq in\n",
    "contrast to the reference which keeps them separate.\n",
    "\n",
    "#### Parameters\n",
    " - `num_mu`: THC auxiliary index dimension $M$\n",
    " - `num_spin_orb`: number of spin orbitals $N$\n",
    " - `alt_mu`: Alternate values for mu indices.\n",
    " - `alt_nu`: Alternate values for nu indices.\n",
    " - `alt_theta`: Alternate values for theta indices.\n",
    " - `theta`: Signs of lcu coefficients.\n",
    " - `keep`: keep values.\n",
    " - `keep_bitsize`: number of bits for keep register for coherent alias sampling. \n",
    "\n",
    "#### Registers\n",
    " - `mu`: $\\mu$ register.\n",
    " - `nu`: $\\nu$ register.\n",
    " - `plus_mn`: plus state for controlled swaps on mu/nu.\n",
    " - `plus_a / plus_b`: plus state for controlled swaps on spins.\n",
    " - `sigma`: ancilla register for alias sampling.\n",
    " - `rot`: ancilla register for rotation for uniform superposition state.\n",
    " - `succ`: success flag qubit from uniform state preparation\n",
    " - `nu_eq_mp1`: flag for if $nu = M+1$\n",
    " - `theta`: sign register.\n",
    " - `s`: Contiguous index register.\n",
    " - `alt_mn`: Register to store alt mu and nu values.\n",
    " - `alt_theta`: Register for alternate theta values.\n",
    " - `keep`: keep_bitsize-sized register for the keep values from coherent alias sampling.\n",
    " - `less_than`: Single qubit ancilla for alias sampling.\n",
    " - `extra_ctrl`: An extra control register for producing a multi-controlled CSwap. \n",
    "\n",
    "#### References\n",
    " - [Even more efficient quantum computations of chemistry through     tensor hypercontraction](https://arxiv.org/pdf/2011.03494.pdf). Fig. 2 and Fig. 3.\n"
   ]
  },
  {
   "cell_type": "code",
   "execution_count": null,
   "id": "d6cd1df7",
   "metadata": {
    "cq.autogen": "PrepareTHC.bloq_doc.py"
   },
   "outputs": [],
   "source": [
    "from qualtran.bloqs.chemistry.thc.prepare import PrepareTHC"
   ]
  },
  {
   "cell_type": "markdown",
   "id": "ec7c8839",
   "metadata": {
    "cq.autogen": "PrepareTHC.example_instances.md"
   },
   "source": [
    "### Example Instances"
   ]
  },
  {
   "cell_type": "code",
   "execution_count": null,
   "id": "fc1ebede",
   "metadata": {
    "cq.autogen": "PrepareTHC.thc_prep"
   },
   "outputs": [],
   "source": [
    "num_spat = 4\n",
    "num_mu = 8\n",
    "t_l = np.random.normal(0, 1, size=num_spat)\n",
    "zeta = np.random.normal(0, 1, size=(num_mu, num_mu))\n",
    "zeta = 0.5 * (zeta + zeta.T)\n",
    "thc_prep = PrepareTHC.from_hamiltonian_coeffs(t_l, zeta, num_bits_state_prep=8)"
   ]
  },
  {
   "cell_type": "markdown",
   "id": "f327eeaf",
   "metadata": {
    "cq.autogen": "PrepareTHC.graphical_signature.md"
   },
   "source": [
    "#### Graphical Signature"
   ]
  },
  {
   "cell_type": "code",
   "execution_count": null,
   "id": "87f90feb",
   "metadata": {
    "cq.autogen": "PrepareTHC.graphical_signature.py"
   },
   "outputs": [],
   "source": [
    "from qualtran.drawing import show_bloqs\n",
    "show_bloqs([thc_prep],\n",
    "           ['`thc_prep`'])"
   ]
  },
  {
   "cell_type": "markdown",
   "id": "b60183fb",
   "metadata": {
    "cq.autogen": "PrepareTHC.call_graph.md"
   },
   "source": [
    "### Call Graph"
   ]
  },
  {
   "cell_type": "code",
   "execution_count": null,
   "id": "d18fe659",
   "metadata": {
    "cq.autogen": "PrepareTHC.call_graph.py"
   },
   "outputs": [],
   "source": [
    "from qualtran.resource_counting.generalizers import ignore_split_join\n",
    "thc_prep_g, thc_prep_sigma = thc_prep.call_graph(max_depth=1, generalizer=ignore_split_join)\n",
    "show_call_graph(thc_prep_g)\n",
    "show_counts_sigma(thc_prep_sigma)"
   ]
  },
  {
   "cell_type": "markdown",
   "id": "c70647ea-256b-410c-abf7-33c9e2e12ac5",
   "metadata": {},
   "source": [
    "### Flame Graph"
   ]
  },
  {
   "cell_type": "code",
   "execution_count": null,
   "id": "7c5e44f2-d481-4e41-b9f3-10e9ec5de498",
   "metadata": {},
   "outputs": [],
   "source": [
    "from qualtran.drawing import show_flame_graph\n",
    "show_flame_graph(thc_prep)"
   ]
  },
  {
   "cell_type": "markdown",
   "id": "85818cf5",
   "metadata": {},
   "source": [
    "### Paper Comparison\n",
    "\n",
    "Let's compare our costs to those from the paper. Note we will only look at the cost of prepare. Inverting prepare has the same cost up to the cost of the inverse QROM being reduced to\n",
    "\n",
    "$$\n",
    "\\lceil \\frac{d}{k_{s2}} \\rceil + k_{s2}\n",
    "$$\n"
   ]
  },
  {
   "cell_type": "code",
   "execution_count": null,
   "id": "5be7dcf4",
   "metadata": {},
   "outputs": [],
   "source": [
    "binned_counts = classify_t_count_by_bloq_type(thc_prep.decompose_bloq())\n",
    "data_size = thc_prep.num_mu * (thc_prep.num_mu + 1) // 2 + thc_prep.num_spin_orb // 2\n",
    "\n",
    "num_bits_mu = thc_prep.num_mu.bit_length() \n",
    "qrom_bitsize = 2 * num_bits_mu + 2 + thc_prep.keep_bitsize\n",
    "paper_costs = {\n",
    "    'arithmetic': 4*(num_bits_mu ** 2 + num_bits_mu - 1) + 4*thc_prep.keep_bitsize,\n",
    "    'swaps': 4*(2 * num_bits_mu + (num_bits_mu + 1)), # Swaps from inequality and swap from from \n",
    "    'data_loading': 4 * (int(np.ceil(data_size/4) + qrom_bitsize * (4 - 1))), # Eq. 31 from THC paper, k = 4 in this specific case.\n",
    "}\n",
    "for k, v in paper_costs.items():\n",
    "    print(f\"{k+':':20s} qualtran = {binned_counts[k]:5d} vs paper cost = {v:5d}.\")\n",
    "\n",
    "print(f\"Total cost = {sum(v for v in binned_counts.values())}\")\n",
    "assert binned_counts['data_loading'] == 432"
   ]
  },
  {
   "cell_type": "markdown",
   "id": "807674de",
   "metadata": {},
   "source": [
    "The main discrepancies arise from QROAM assumptions and the difference in comparator cost seen before. "
   ]
  },
  {
   "cell_type": "code",
   "execution_count": null,
   "id": "4dc799bb",
   "metadata": {},
   "outputs": [],
   "source": [
    "from qualtran.drawing.musical_score import draw_musical_score, get_musical_score_data\n",
    "\n",
    "\n",
    "msd = get_musical_score_data(thc_prep.decompose_bloq())\n",
    "fig, ax = draw_musical_score(msd)\n",
    "fig.set_size_inches(10, 10)"
   ]
  },
  {
   "cell_type": "markdown",
   "id": "82f5f156",
   "metadata": {
    "cq.autogen": "SelectTHC.bloq_doc.md"
   },
   "source": [
    "## `SelectTHC`\n",
    "SELECT for THC Hamiltonian.\n",
    "\n",
    "#### Parameters\n",
    " - `num_mu`: THC auxiliary index dimension $M$\n",
    " - `num_spin_orb`: number of spin orbitals $N$\n",
    " - `num_bits_theta`: Number of bits of precision for the rotations. Called $\\beth$ in the reference.\n",
    " - `kr1`: block sizes for QROM erasure for outputting rotation angles. See Eq 34.\n",
    " - `kr2`: block sizes for QROM erasure for outputting rotation angles. This is for the second QROM (eq 35)\n",
    " - `control_val`: A control bit for the entire gate.\n",
    " - `keep_bitsize`: number of bits for keep register for coherent alias\n",
    " - `sampling. This can be determined from the PrepareTHC bloq. See`: \n",
    " - `https`: //github.com/quantumlib/Qualtran/issues/549 \n",
    "\n",
    "#### Registers\n",
    " - `succ`: success flag qubit from uniform state preparation\n",
    " - `nu_eq_mp1`: flag for if $nu = M+1$\n",
    " - `mu`: $\\mu$ register.\n",
    " - `nu`: $\\nu$ register.\n",
    " - `theta`: sign register.\n",
    " - `plus_mn`: Flag controlling swaps between mu and nu. Note that as per the Reference, the swaps are NOT performed as part of SELECT as they're acounted for during Prepare.\n",
    " - `plus_a / plus_b`: plus state for controlled swaps on spins.\n",
    " - `sys_a / sys_b`: System registers for (a)lpha/(b)eta orbitals. \n",
    "\n",
    "#### References\n",
    " - [Even more efficient quantum computations of chemistry through     tensor hypercontraction](https://arxiv.org/pdf/2011.03494.pdf). Fig. 7.\n"
   ]
  },
  {
   "cell_type": "code",
   "execution_count": null,
   "id": "6d60ada0",
   "metadata": {
    "cq.autogen": "SelectTHC.bloq_doc.py"
   },
   "outputs": [],
   "source": [
    "from qualtran.bloqs.chemistry.thc.select_bloq import SelectTHC"
   ]
  },
  {
   "cell_type": "markdown",
   "id": "7c68adb1",
   "metadata": {
    "cq.autogen": "SelectTHC.example_instances.md"
   },
   "source": [
    "### Example Instances"
   ]
  },
  {
   "cell_type": "code",
   "execution_count": null,
   "id": "9ebf4208",
   "metadata": {
    "cq.autogen": "SelectTHC.thc_sel"
   },
   "outputs": [],
   "source": [
    "num_mu = 8\n",
    "num_mu = 10\n",
    "num_spin_orb = 2 * 4\n",
    "thc_sel = SelectTHC(\n",
    "    num_mu=num_mu, num_spin_orb=num_spin_orb, num_bits_theta=12, keep_bitsize=10\n",
    ")"
   ]
  },
  {
   "cell_type": "markdown",
   "id": "3d34aa4b",
   "metadata": {
    "cq.autogen": "SelectTHC.graphical_signature.md"
   },
   "source": [
    "#### Graphical Signature"
   ]
  },
  {
   "cell_type": "code",
   "execution_count": null,
   "id": "436ebbcd",
   "metadata": {
    "cq.autogen": "SelectTHC.graphical_signature.py"
   },
   "outputs": [],
   "source": [
    "from qualtran.drawing import show_bloqs\n",
    "show_bloqs([thc_sel],\n",
    "           ['`thc_sel`'])"
   ]
  },
  {
   "cell_type": "markdown",
   "id": "acd232bb",
   "metadata": {
    "cq.autogen": "SelectTHC.call_graph.md"
   },
   "source": [
    "### Call Graph"
   ]
  },
  {
   "cell_type": "code",
   "execution_count": null,
   "id": "44fed1ba",
   "metadata": {
    "cq.autogen": "SelectTHC.call_graph.py"
   },
   "outputs": [],
   "source": [
    "from qualtran.resource_counting.generalizers import ignore_split_join\n",
    "thc_sel_g, thc_sel_sigma = thc_sel.call_graph(max_depth=1, generalizer=ignore_split_join)\n",
    "show_call_graph(thc_sel_g)\n",
    "show_counts_sigma(thc_sel_sigma)"
   ]
  },
  {
   "cell_type": "markdown",
   "id": "e98a837b-7df6-41b8-9685-f00817b33550",
   "metadata": {},
   "source": [
    "### Flame Graph"
   ]
  },
  {
   "cell_type": "code",
   "execution_count": null,
   "id": "ec11328c-f2f0-4217-8ad5-00f711d8f78c",
   "metadata": {},
   "outputs": [],
   "source": [
    "from qualtran.drawing import show_flame_graph\n",
    "show_flame_graph(thc_sel)"
   ]
  },
  {
   "cell_type": "code",
   "execution_count": null,
   "id": "002749a5-7118-4c86-9a36-da44c8ffb3a4",
   "metadata": {},
   "outputs": [],
   "source": []
  }
 ],
 "metadata": {
  "kernelspec": {
   "display_name": "Python 3 (ipykernel)",
   "language": "python",
   "name": "python3"
  },
  "language_info": {
   "codemirror_mode": {
    "name": "ipython",
    "version": 3
   },
   "file_extension": ".py",
   "mimetype": "text/x-python",
   "name": "python",
   "nbconvert_exporter": "python",
   "pygments_lexer": "ipython3",
   "version": "3.11.8"
  }
 },
 "nbformat": 4,
 "nbformat_minor": 5
}
