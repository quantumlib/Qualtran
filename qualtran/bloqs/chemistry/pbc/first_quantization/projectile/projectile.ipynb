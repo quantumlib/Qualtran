{
 "cells": [
  {
   "cell_type": "markdown",
   "id": "2a72942d",
   "metadata": {
    "cq.autogen": "title_cell"
   },
   "source": [
    "# First Quantized Hamiltonian with Quantum Projectile\n",
    "\n",
    "SELECT and PREPARE for the first quantized chemistry Hamiltonian with a quantum projectile.\n",
    "\n",
    "Here we consider the simulation setup from [Quantum computation of stopping\n",
    "power for inertial fusion target design](https://arxiv.org/abs/2308.12352),\n",
    "which is concerned with the dyamics on a (quantum) projectile traversing a\n",
    "medium, which is modelled using a first quantizated representation. The main\n",
    "modifications are that we need to add the Hamiltonian terms for the projectile\n",
    "and allow for a different (larger) set of momenta for the projectile.\n",
    "\n",
    "Specifically, the modified Hamiltonian is given by\n",
    "\n",
    "$$\n",
    "H = T + U + V + T_\\mathrm{proj} + U_{\\mathrm{proj}} + V_{\\mathrm{elec-proj}},\n",
    "$$\n",
    "where $T$, $U$, and $V$ are the same as they were for the [first quantized\n",
    "Hamiltonian](../first_quantization.ipynb). The new terms are\n",
    "$$\n",
    "T_\\mathrm{proj} =\n",
    "\\sum_{p\\in\\tilde{G}}\n",
    "\\frac{\\lVert k_p - k_\\mathrm{proj}\\rVert^2}{2 M_\\mathrm{proj}}\n",
    "|p\\rangle\\langle p|_\\mathrm{proj},\n",
    "$$\n",
    "which describes the kinetic energy of the projectile in the center of momentum frame,\n",
    "$$\n",
    "U_\\mathrm{proj} = -\\frac{4\\pi}{\\Omega}\n",
    "\\sum_{\\ell=1}^L \\sum_{i}^\\eta\n",
    "\\sum\\limits_{\\substack{{p,q\\in \\tilde{G} \\\\ p\\ne q}}}\n",
    "\\left(\n",
    "    \\zeta_{\\ell}\n",
    "    \\zeta_{\\mathrm{proj}}\n",
    "    \\frac{e^{i k_{q-p}\\cdot R_\\ell}}{\\lVert k_{p-q}\\rVert^2}\n",
    "    |p\\rangle\\langle q|_\\mathrm{proj}\n",
    "\\right),\n",
    "$$\n",
    "which describes the Coulomb interaction of the projectile with the nuclei of the medium, and\n",
    "$$\n",
    "V = -\\frac{4\\pi}{\\Omega}\n",
    "\\sum_{i=1}^\\eta\n",
    "\\sum_{p\\in G}\n",
    "\\sum_{q\\in \\tilde{G}}\n",
    "\\sum\\limits_{\\substack{\\nu \\in G_0 \\\\ (p+\\nu)\\in G \\\\ (q-\\nu)\\in \\tilde{G}}}\n",
    "\\left(\n",
    "    \\frac{\\zeta_\\mathrm{proj}}{\\lVert k_{\\nu}\\rVert^2}\n",
    "    |p + \\nu\\rangle\\langle p|_i\n",
    "    |q -\\nu\\rangle\\langle q|_\\mathrm{proj}\n",
    "\\right),\n",
    "$$\n",
    "which describes the interaction of the projectile with the electrons of the medium.\n",
    "\n",
    "The projectile is represented by a single system register (of size $n_n$ bits),\n",
    "and is initially modelled as a Gaussian wavepacket. The projectile has charge\n",
    "$\\zeta_\\mathrm{proj}$ and mass $M_\\mathrm{proj}$. In practice, to model stopping\n",
    "power a momentum `kick' of $k_\\mathrm{proj}$ is applied at $t=0$ and\n",
    "we monitor how the kinetic energy of the projectile changes with time. Here, we\n",
    "will only concern ourselves with the additional block encoding costs of\n",
    "including this quantum projectile.  Again, state preparation costs are currently\n",
    "ignored as this is logarithmic in the size of the basis set."
   ]
  },
  {
   "cell_type": "code",
   "execution_count": null,
   "id": "b32ea7ce",
   "metadata": {
    "cq.autogen": "top_imports"
   },
   "outputs": [],
   "source": [
    "from qualtran import Bloq, CompositeBloq, BloqBuilder, Signature, Register\n",
    "from qualtran import QBit, QInt, QUInt, QAny\n",
    "from qualtran.drawing import show_bloq, show_call_graph, show_counts_sigma\n",
    "from typing import *\n",
    "import numpy as np\n",
    "import sympy\n",
    "import cirq"
   ]
  },
  {
   "cell_type": "markdown",
   "id": "68211ddc",
   "metadata": {
    "cq.autogen": "PrepareFirstQuantizationWithProj.bloq_doc.md"
   },
   "source": [
    "## `PrepareFirstQuantizationWithProj`\n",
    "State preparation for the first quantized chemistry Hamiltonian with a quntum projectile.\n",
    "\n",
    "#### Parameters\n",
    " - `num_bits_p`: The number of bits to represent each dimension of the momentum register.\n",
    " - `num_bits_n`: The number of bits to represent each dimension of the momentum register for the projectile. Should be larger than num_bits_p.\n",
    " - `eta`: The number of electrons.\n",
    " - `num_atoms`: The number of atoms. $L$ in the reference.\n",
    " - `lambda_zeta`: sum of nuclear charges.\n",
    " - `m_param`: $\\mathcal{M}$ in the reference.\n",
    " - `num_bits_nuc_pos`: The number of bits of precision for representing the nuclear coordinates.\n",
    " - `num_bits_t`: The number of bits of precision for the state preparation over the register selecting between the different components of the Hamiltonian.\n",
    " - `num_bits_rot_aa`: The number of bits of precision for the rotation for amplitude amplification.\n",
    " - `is_adjoint`: Whether to dagger the bloq or not. \n",
    "\n",
    "#### Registers\n",
    " - `tuv`: Register for preparing superposition for selecting between kinetic and potential terms in the Hamiltonian.\n",
    " - `tepm`: Register to prepare to select between (e)lectron, (p)rojectile, or (m)ean terms.\n",
    " - `uv`: Register to prepare to select between coulombic terms.\n",
    " - `i`: A register for selecting electronic registers.\n",
    " - `j`: A register for selecting electronic registers.\n",
    " - `w`: A register for selecting x, y and z components of the momentum register.\n",
    " - `r`: A register for controlling elements of the momentum register. Used for block encodiding kinetic energy operator.\n",
    " - `s`: A register for controlling elements of the momentum register. Used for block encodiding kinetic energy operator.\n",
    " - `mu`: A register used for implementing nested boxes for the momentum state preparation.\n",
    " - `nu_x`: x component of the momentum register for Coulomb potential.\n",
    " - `nu_y`: y component of the momentum register for Coulomb potential.\n",
    " - `nu_z`: z component of the momentum register for Coulomb potential.\n",
    " - `m`: an ancilla register in a uniform superposition.\n",
    " - `l`: The register for selecting the nuclei.\n",
    " - `succ_nu`: A flag to indiciate the success of the $\\nu$ state preparation.\n",
    " - `plus_t`: A flag qubit prepared in the $|+\\rangle$ state.\n",
    " - `flags`: A 4 qubit flag register indicating which component of the Hamiltonian to apply. \n",
    "\n",
    "#### References\n",
    " - [Fault-Tolerant Quantum Simulations of Chemistry in First Quantization](     https://arxiv.org/abs/2105.12767)\n"
   ]
  },
  {
   "cell_type": "code",
   "execution_count": null,
   "id": "56f1a1b0",
   "metadata": {
    "cq.autogen": "PrepareFirstQuantizationWithProj.bloq_doc.py"
   },
   "outputs": [],
   "source": [
    "from qualtran.bloqs.chemistry.pbc.first_quantization.projectile import PrepareFirstQuantizationWithProj"
   ]
  },
  {
   "cell_type": "markdown",
   "id": "eece03d5",
   "metadata": {
    "cq.autogen": "PrepareFirstQuantizationWithProj.example_instances.md"
   },
   "source": [
    "### Example Instances"
   ]
  },
  {
   "cell_type": "code",
   "execution_count": null,
   "id": "75bde9f1",
   "metadata": {
    "cq.autogen": "PrepareFirstQuantizationWithProj.prep_first_quant"
   },
   "outputs": [],
   "source": [
    "num_bits_p = 6\n",
    "num_bits_n = 8\n",
    "eta = 10\n",
    "num_atoms = 10\n",
    "lambda_zeta = 10\n",
    "prep_first_quant = PrepareFirstQuantizationWithProj(\n",
    "    num_bits_p, num_bits_n, eta, num_atoms, lambda_zeta\n",
    ")\n"
   ]
  },
  {
   "cell_type": "markdown",
   "id": "0e6ca02f",
   "metadata": {
    "cq.autogen": "PrepareFirstQuantizationWithProj.graphical_signature.md"
   },
   "source": [
    "#### Graphical Signature"
   ]
  },
  {
   "cell_type": "code",
   "execution_count": null,
   "id": "a32be9fa",
   "metadata": {
    "cq.autogen": "PrepareFirstQuantizationWithProj.graphical_signature.py"
   },
   "outputs": [],
   "source": [
    "from qualtran.drawing import show_bloqs\n",
    "show_bloqs([prep_first_quant],\n",
    "           ['`prep_first_quant`'])"
   ]
  },
  {
   "cell_type": "markdown",
   "id": "afa6100f",
   "metadata": {
    "cq.autogen": "PrepareFirstQuantizationWithProj.call_graph.md"
   },
   "source": [
    "### Call Graph"
   ]
  },
  {
   "cell_type": "code",
   "execution_count": null,
   "id": "67d7715f",
   "metadata": {
    "cq.autogen": "PrepareFirstQuantizationWithProj.call_graph.py"
   },
   "outputs": [],
   "source": [
    "from qualtran.resource_counting.generalizers import ignore_split_join\n",
    "prep_first_quant_g, prep_first_quant_sigma = prep_first_quant.call_graph(max_depth=1, generalizer=ignore_split_join)\n",
    "show_call_graph(prep_first_quant_g)\n",
    "show_counts_sigma(prep_first_quant_sigma)"
   ]
  },
  {
   "cell_type": "markdown",
   "id": "d86a0fba",
   "metadata": {
    "cq.autogen": "SelectFirstQuantizationWithProj.bloq_doc.md"
   },
   "source": [
    "## `SelectFirstQuantizationWithProj`\n",
    "SELECT operation for the first quantized chemistry Hamiltonian.\n",
    "\n",
    "#### Parameters\n",
    " - `num_bits_p`: The number of bits to represent each dimension of the momentum register.\n",
    " - `eta`: The number of electrons.\n",
    " - `num_atoms`: The number of atoms. $L$ in the reference.\n",
    " - `lambda_zeta`: sum of nuclear charges.\n",
    " - `m_param`: $\\mathcal{M}$ in the reference.\n",
    " - `num_bits_nuc_pos`: The number of bits of precision for representing the nuclear coordinates.\n",
    " - `num_bits_t`: The number of bits of precision for the state preparation over the register selecting between the different components of the Hamiltonian.\n",
    " - `num_bits_rot_aa`: The number of bits of precision for the rotation for amplitude amplification. \n",
    "\n",
    "#### Registers\n",
    " - `ham_ctrl`: Control bits flagging which component of the Hamiltonian to apply.\n",
    " - `i_ne_j`: Register flagging $i \\ne j$\n",
    " - `plus_t`: A register prepared in the $|+\\rangle$ state.\n",
    " - `i`: A register for selecting electronic registers.\n",
    " - `j`: A register for selecting electronic registers.\n",
    " - `w`: A register for selecting x, y and z components of the momentum register.\n",
    " - `r`: A register for controlling elements of the momentum register. Used for block encodiding kinetic energy operator.\n",
    " - `s`: A register for controlling elements of the momentum register. Used for block encodiding kinetic energy operator.\n",
    " - `mu`: A register used for implementing nested boxes for the momentum state preparation.\n",
    " - `nu_x`: x component of the momentum register for Coulomb potential.\n",
    " - `nu_y`: y component of the momentum register for Coulomb potential.\n",
    " - `nu_z`: z component of the momentum register for Coulomb potential.\n",
    " - `m`: an ancilla register in a uniform superposition.\n",
    " - `l`: The register for selecting the nuclei.\n",
    " - `sys`: The system register. Will store $\\eta$ registers (x, y and z) components of size num_bits_p.\n",
    " - `proj`: The system register. Will store a single register (x, y and z) components of size num_bits_n. \n",
    "\n",
    "#### References\n",
    " - [Fault-Tolerant Quantum Simulations of Chemistry in First Quantization](     https://arxiv.org/abs/2105.12767)\n"
   ]
  },
  {
   "cell_type": "code",
   "execution_count": null,
   "id": "55a6aa0e",
   "metadata": {
    "cq.autogen": "SelectFirstQuantizationWithProj.bloq_doc.py"
   },
   "outputs": [],
   "source": [
    "from qualtran.bloqs.chemistry.pbc.first_quantization.projectile import SelectFirstQuantizationWithProj"
   ]
  },
  {
   "cell_type": "markdown",
   "id": "2c249265",
   "metadata": {
    "cq.autogen": "SelectFirstQuantizationWithProj.example_instances.md"
   },
   "source": [
    "### Example Instances"
   ]
  },
  {
   "cell_type": "code",
   "execution_count": null,
   "id": "d79dbca6",
   "metadata": {
    "cq.autogen": "SelectFirstQuantizationWithProj.sel_first_quant"
   },
   "outputs": [],
   "source": [
    "num_bits_p = 6\n",
    "num_bits_n = 8\n",
    "eta = 10\n",
    "num_atoms = 10\n",
    "lambda_zeta = 10\n",
    "sel_first_quant = SelectFirstQuantizationWithProj(\n",
    "    num_bits_p, num_bits_n, eta, num_atoms, lambda_zeta\n",
    ")\n"
   ]
  },
  {
   "cell_type": "markdown",
   "id": "c788fdf2",
   "metadata": {
    "cq.autogen": "SelectFirstQuantizationWithProj.graphical_signature.md"
   },
   "source": [
    "#### Graphical Signature"
   ]
  },
  {
   "cell_type": "code",
   "execution_count": null,
   "id": "35871570",
   "metadata": {
    "cq.autogen": "SelectFirstQuantizationWithProj.graphical_signature.py"
   },
   "outputs": [],
   "source": [
    "from qualtran.drawing import show_bloqs\n",
    "show_bloqs([sel_first_quant],\n",
    "           ['`sel_first_quant`'])"
   ]
  },
  {
   "cell_type": "markdown",
   "id": "e8b4388c",
   "metadata": {
    "cq.autogen": "SelectFirstQuantizationWithProj.call_graph.md"
   },
   "source": [
    "### Call Graph"
   ]
  },
  {
   "cell_type": "code",
   "execution_count": null,
   "id": "b5dccb93",
   "metadata": {
    "cq.autogen": "SelectFirstQuantizationWithProj.call_graph.py"
   },
   "outputs": [],
   "source": [
    "from qualtran.resource_counting.generalizers import ignore_split_join\n",
    "sel_first_quant_g, sel_first_quant_sigma = sel_first_quant.call_graph(max_depth=1, generalizer=ignore_split_join)\n",
    "show_call_graph(sel_first_quant_g)\n",
    "show_counts_sigma(sel_first_quant_sigma)"
   ]
  }
 ],
 "metadata": {
  "kernelspec": {
   "display_name": "Python 3 (ipykernel)",
   "language": "python",
   "name": "python3"
  },
  "language_info": {
   "codemirror_mode": {
    "name": "ipython",
    "version": 3
   },
   "file_extension": ".py",
   "mimetype": "text/x-python",
   "name": "python",
   "nbconvert_exporter": "python",
   "pygments_lexer": "ipython3",
   "version": "3.10.9"
  }
 },
 "nbformat": 4,
 "nbformat_minor": 5
}
