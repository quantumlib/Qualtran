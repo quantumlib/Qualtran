{
 "cells": [
  {
   "cell_type": "markdown",
   "id": "dafff26c",
   "metadata": {
    "cq.autogen": "title_cell"
   },
   "source": [
    "# First Quantized Hamiltonian\n",
    "\n",
    "SELECT and PREPARE for the first quantized chemistry Hamiltonian.\n",
    "\n",
    "Here we assume the Born-Oppenheimer Hamiltonian and seek to simulate a\n",
    "collection of $\\eta$ electrons and $L$ static nuclei with a Hamiltonian given\n",
    "by:\n",
    "$$\n",
    "H_{BO} = T + U + V + \\frac{1}{2}\n",
    "\\sum_{\\ell\\ne\\kappa=1}^L\\frac{\\zeta_\\ell\\zeta_\\kappa}{\\lVert R_\\ell - R_\\kappa \\rVert}\n",
    "$$\n",
    "\n",
    "In the first quantized approach we assume periodic boundary conditions and use a\n",
    "plane wave Galerkin discretization.\n",
    "A plane wave basis function is given by\n",
    "$$\n",
    "\\phi_p(r) = \\frac{1}{\\sqrt{\\Omega}} e^{-i k_p\\cdot r}\n",
    "$$\n",
    "where $r$ is a position vector in real space, $\\Omega$ is the simulation cell\n",
    "volume and $k_p$ is a reciprocal lattice vector.\n",
    "In three dimensions we have\n",
    "$$\n",
    "k_p = \\frac{2\\pi p }{\\Omega}\n",
    "$$\n",
    "for $p \\in G$ and\n",
    "$$\n",
    "G = [-\\frac{N^{1/3} -\n",
    "1}{2},\\frac{N^{1/3} - 1}{2}]^3 \\subset \\mathcal{Z}^3.\n",
    "$$\n",
    "and $N$ is the total number of planewaves.\n",
    "\n",
    "With these definitions we can write the components of the Hamiltonian as:\n",
    "$$\n",
    "T = \\sum_{i}^\\eta\\sum_{p\\in G}\\frac{\\lVert k_p\\rVert^2}{2} |p\\rangle\\langle p|_i\n",
    "$$\n",
    "which defines the kinetic energy of the electrons,\n",
    "$$\n",
    "U = -\\frac{4\\pi}{\\Omega}\n",
    "\\sum_{\\ell=1}^L \\sum_{i}^\\eta\n",
    "\\sum_{p,q\\in G, p\\ne q}\n",
    "\\left(\n",
    "    \\zeta_{\\ell}\n",
    "    \\frac{e^{i k_{q-p}\\cdot R_\\ell}}{\\lVert k_{p-q}\\rVert^2}\n",
    "    |p\\rangle\\langle q|_i\n",
    "\\right)\n",
    "$$\n",
    "describes the interaction of the electrons and the nuclei, and,\n",
    "$$\n",
    "V = \\frac{2\\pi}{\\Omega}\n",
    "\\sum_{i\\ne j=1}^\\eta\n",
    "\\sum_{p,q\\in G, p\\ne q}\n",
    "\\sum_{\\nu \\in G_0}\n",
    "\\left(\n",
    "    \\frac{1}{\\lVert k_{\\nu}\\rVert^2}\n",
    "    |p + \\nu\\rangle\\langle p|_i\n",
    "    |q -\\nu\\rangle\\langle q|_i\n",
    "\\right)\n",
    "$$\n",
    "describes the electron-electron interaction. The notation $|p\\rangle\\langle p|_i$ is shorthand for\n",
    "$I_1\\otimes\\cdots\\otimes |p\\rangle \\langle p |_j \\otimes \\cdots \\otimes I_\\eta$.\n",
    "The system is represented using a set of $\\eta$ signed integer registers each of\n",
    "size $3 n_p$ where $n_p =  \\lceil \\log (N^{1/3} + 1) \\rceil$, with the factor of\n",
    "3 accounting for the 3 spatial dimensions.\n",
    "\n",
    "In the first quantized approach, fermion antisymmetry is encoded through initial\n",
    "state preparation. Spin labels are also absent and should be accounted for\n",
    "during state preparation. The cost of initial state preparation is typically\n",
    "ignored."
   ]
  },
  {
   "cell_type": "code",
   "execution_count": null,
   "id": "a586d019",
   "metadata": {
    "cq.autogen": "top_imports"
   },
   "outputs": [],
   "source": [
    "from qualtran import Bloq, CompositeBloq, BloqBuilder, Signature, Register\n",
    "from qualtran import QBit, QInt, QUInt, QAny\n",
    "from qualtran.drawing import show_bloq, show_call_graph, show_counts_sigma\n",
    "from typing import *\n",
    "import numpy as np\n",
    "import sympy\n",
    "import cirq"
   ]
  },
  {
   "cell_type": "markdown",
   "id": "a6f00172",
   "metadata": {
    "cq.autogen": "PrepareFirstQuantization.bloq_doc.md"
   },
   "source": [
    "## `PrepareFirstQuantization`\n",
    "State preparation for the first quantized chemistry Hamiltonian.\n",
    "\n",
    "Prepares the state in Eq. 48 of the reference.\n",
    "\n",
    "#### Parameters\n",
    " - `num_bits_p`: The number of bits to represent each dimension of the momentum register.\n",
    " - `eta`: The number of electrons.\n",
    " - `num_atoms`: The number of atoms. $L$ in the reference.\n",
    " - `lambda_zeta`: sum of nuclear charges.\n",
    " - `m_param`: $\\mathcal{M}$ in the reference.\n",
    " - `num_bits_nuc_pos`: The number of bits of precision for representing the nuclear coordinates.\n",
    " - `num_bits_t`: The number of bits of precision for the state preparation over the register selecting between the different components of the Hamiltonian.\n",
    " - `num_bits_rot_aa`: The number of bits of precision for the rotation for amplitude amplification. \n",
    "\n",
    "#### Registers\n",
    " - `tuv`: Flag register for selecting between kinetic and potential terms in the Hamiltonian.\n",
    " - `uv`: Flag register for selecting between the different potential components of the Hamiltonian.\n",
    " - `i`: A register for selecting electronic registers.\n",
    " - `j`: A register for selecting electronic registers.\n",
    " - `w`: A register for selecting x, y and z components of the momentum register.\n",
    " - `r`: A register for controlling elements of the momentum register. Used for block encodiding kinetic energy operator.\n",
    " - `s`: A register for controlling elements of the momentum register. Used for block encodiding kinetic energy operator.\n",
    " - `mu`: A register used for implementing nested boxes for the momentum state preparation.\n",
    " - `nu_x`: x component of the momentum register for Coulomb potential.\n",
    " - `nu_y`: y component of the momentum register for Coulomb potential.\n",
    " - `nu_z`: z component of the momentum register for Coulomb potential.\n",
    " - `m`: an ancilla register in a uniform superposition.\n",
    " - `l`: The register for selecting the nuclei. \n",
    "\n",
    "#### References\n",
    " - [Fault-Tolerant Quantum Simulations of Chemistry in First Quantization](https://arxiv.org/abs/2105.12767). \n"
   ]
  },
  {
   "cell_type": "code",
   "execution_count": null,
   "id": "169f3ef5",
   "metadata": {
    "cq.autogen": "PrepareFirstQuantization.bloq_doc.py"
   },
   "outputs": [],
   "source": [
    "from qualtran.bloqs.chemistry.pbc.first_quantization import PrepareFirstQuantization"
   ]
  },
  {
   "cell_type": "markdown",
   "id": "5b656d90",
   "metadata": {
    "cq.autogen": "PrepareFirstQuantization.example_instances.md"
   },
   "source": [
    "### Example Instances"
   ]
  },
  {
   "cell_type": "code",
   "execution_count": null,
   "id": "944c62fe",
   "metadata": {
    "cq.autogen": "PrepareFirstQuantization.prep_first_quant"
   },
   "outputs": [],
   "source": [
    "num_bits_p = 6\n",
    "eta = 10\n",
    "num_atoms = 10\n",
    "lambda_zeta = 10\n",
    "prep_first_quant = PrepareFirstQuantization(num_bits_p, eta, num_atoms, lambda_zeta)\n"
   ]
  },
  {
   "cell_type": "markdown",
   "id": "5123f8bc",
   "metadata": {
    "cq.autogen": "PrepareFirstQuantization.graphical_signature.md"
   },
   "source": [
    "#### Graphical Signature"
   ]
  },
  {
   "cell_type": "code",
   "execution_count": null,
   "id": "10a889bb",
   "metadata": {
    "cq.autogen": "PrepareFirstQuantization.graphical_signature.py"
   },
   "outputs": [],
   "source": [
    "from qualtran.drawing import show_bloqs\n",
    "show_bloqs([prep_first_quant],\n",
    "           ['`prep_first_quant`'])"
   ]
  },
  {
   "cell_type": "markdown",
   "id": "daa98464",
   "metadata": {
    "cq.autogen": "PrepareFirstQuantization.call_graph.md"
   },
   "source": [
    "### Call Graph"
   ]
  },
  {
   "cell_type": "code",
   "execution_count": null,
   "id": "6423a637",
   "metadata": {
    "cq.autogen": "PrepareFirstQuantization.call_graph.py"
   },
   "outputs": [],
   "source": [
    "from qualtran.resource_counting.generalizers import ignore_split_join\n",
    "prep_first_quant_g, prep_first_quant_sigma = prep_first_quant.call_graph(max_depth=1, generalizer=ignore_split_join)\n",
    "show_call_graph(prep_first_quant_g)\n",
    "show_counts_sigma(prep_first_quant_sigma)"
   ]
  },
  {
   "cell_type": "markdown",
   "id": "71e6f550",
   "metadata": {
    "cq.autogen": "SelectFirstQuantization.bloq_doc.md"
   },
   "source": [
    "## `SelectFirstQuantization`\n",
    "SELECT operation for the first quantized chemistry Hamiltonian.\n",
    "\n",
    "#### Parameters\n",
    " - `num_bits_p`: The number of bits to represent each dimension of the momentum register.\n",
    " - `eta`: The number of electrons.\n",
    " - `num_atoms`: The number of atoms. $L$ in the reference.\n",
    " - `lambda_zeta`: sum of nuclear charges.\n",
    " - `m_param`: $\\mathcal{M}$ in the reference.\n",
    " - `num_bits_nuc_pos`: The number of bits of precision for representing the nuclear coordinates.\n",
    " - `num_bits_t`: The number of bits of precision for the state preparation over the register selecting between the different components of the Hamiltonian.\n",
    " - `num_bits_rot_aa`: The number of bits of precision for the rotation for amplitude amplification. \n",
    "\n",
    "#### Registers\n",
    " - `tuv`: Flag register for selecting between kinetic and potential terms in the Hamiltonian.\n",
    " - `uv`: Flag register for selecting between the different potential components of the Hamiltonian.\n",
    " - `i_ne_j`: Register flagging $i \\ne j$\n",
    " - `plus_t`: A register prepared in the $|+\\rangle$ state.\n",
    " - `i`: A register for selecting electronic registers.\n",
    " - `j`: A register for selecting electronic registers.\n",
    " - `w`: A register for selecting x, y and z components of the momentum register.\n",
    " - `r`: A register for controlling elements of the momentum register. Used for block encodiding kinetic energy operator.\n",
    " - `s`: A register for controlling elements of the momentum register. Used for block encodiding kinetic energy operator.\n",
    " - `mu`: A register used for implementing nested boxes for the momentum state preparation.\n",
    " - `nu_x`: x component of the momentum register for Coulomb potential.\n",
    " - `nu_y`: y component of the momentum register for Coulomb potential.\n",
    " - `nu_z`: z component of the momentum register for Coulomb potential.\n",
    " - `m`: an ancilla register in a uniform superposition.\n",
    " - `l`: The register for selecting the nuclei.\n",
    " - `sys`: The system register. Will store $\\eta$ registers (x, y and z) compents of size num_bits_p. \n",
    "\n",
    "#### References\n",
    " - [Fault-Tolerant Quantum Simulations of Chemistry in First Quantization](https://arxiv.org/abs/2105.12767). \n"
   ]
  },
  {
   "cell_type": "code",
   "execution_count": null,
   "id": "3e819c6a",
   "metadata": {
    "cq.autogen": "SelectFirstQuantization.bloq_doc.py"
   },
   "outputs": [],
   "source": [
    "from qualtran.bloqs.chemistry.pbc.first_quantization import SelectFirstQuantization"
   ]
  },
  {
   "cell_type": "markdown",
   "id": "0932ad56",
   "metadata": {
    "cq.autogen": "SelectFirstQuantization.example_instances.md"
   },
   "source": [
    "### Example Instances"
   ]
  },
  {
   "cell_type": "code",
   "execution_count": null,
   "id": "f1368fe3",
   "metadata": {
    "cq.autogen": "SelectFirstQuantization.sel_first_quant"
   },
   "outputs": [],
   "source": [
    "num_bits_p = 6\n",
    "eta = 10\n",
    "num_atoms = 10\n",
    "lambda_zeta = 10\n",
    "sel_first_quant = SelectFirstQuantization(num_bits_p, eta, num_atoms, lambda_zeta)\n"
   ]
  },
  {
   "cell_type": "markdown",
   "id": "861b3be0",
   "metadata": {
    "cq.autogen": "SelectFirstQuantization.graphical_signature.md"
   },
   "source": [
    "#### Graphical Signature"
   ]
  },
  {
   "cell_type": "code",
   "execution_count": null,
   "id": "c45f6a15",
   "metadata": {
    "cq.autogen": "SelectFirstQuantization.graphical_signature.py"
   },
   "outputs": [],
   "source": [
    "from qualtran.drawing import show_bloqs\n",
    "show_bloqs([sel_first_quant],\n",
    "           ['`sel_first_quant`'])"
   ]
  },
  {
   "cell_type": "markdown",
   "id": "03d2e689",
   "metadata": {
    "cq.autogen": "SelectFirstQuantization.call_graph.md"
   },
   "source": [
    "### Call Graph"
   ]
  },
  {
   "cell_type": "code",
   "execution_count": null,
   "id": "29b98834",
   "metadata": {
    "cq.autogen": "SelectFirstQuantization.call_graph.py"
   },
   "outputs": [],
   "source": [
    "from qualtran.resource_counting.generalizers import ignore_split_join\n",
    "sel_first_quant_g, sel_first_quant_sigma = sel_first_quant.call_graph(max_depth=1, generalizer=ignore_split_join)\n",
    "show_call_graph(sel_first_quant_g)\n",
    "show_counts_sigma(sel_first_quant_sigma)"
   ]
  },
  {
   "cell_type": "markdown",
   "id": "2ed8c9aa",
   "metadata": {
    "cq.autogen": "PrepareTFirstQuantization.bloq_doc.md"
   },
   "source": [
    "## `PrepareTFirstQuantization`\n",
    "PREPARE for the kinetic energy operator for the first quantized chemistry Hamiltonian.\n",
    "\n",
    "This prepares the state\n",
    "\n",
    "$$\n",
    "    |+\\rangle\\sum_{j=1}^{\\eta}|j\\rangle\\sum_{w=0}^{2}|w\\rangle\n",
    "    \\sum_{r=0}^{n_{p}-2}2^{r/2}|r\\rangle\n",
    "    \\sum_{s=0}^{n_{p}-2}2^{s/2}|s\\rangle\n",
    "$$\n",
    "\n",
    "We assume that the uniform superposition over ($i$ and) $j$ has already occured via\n",
    "UniformSuperPositionIJFirstQuantization.\n",
    "\n",
    "#### Parameters\n",
    " - `num_bits_p`: The number of bits to represent each dimension of the momentum register.\n",
    " - `eta`: The number of electrons.\n",
    " - `num_bits_rot_aa`: The number of bits of precision for the single qubit rotation for amplitude amplification. Called $b_r$ in the reference. \n",
    "\n",
    "#### Registers\n",
    " - `w`: a register to index one of three components of the momenta.\n",
    " - `r`: a register encoding bits for each component of the momenta.\n",
    " - `s`: a register encoding bits for each component of the momenta. \n",
    "\n",
    "#### References\n",
    " - [Fault-Tolerant Quantum Simulations of Chemistry in First Quantization](https://arxiv.org/abs/2105.12767). page 19, section B\n"
   ]
  },
  {
   "cell_type": "code",
   "execution_count": null,
   "id": "92be5edd",
   "metadata": {
    "cq.autogen": "PrepareTFirstQuantization.bloq_doc.py"
   },
   "outputs": [],
   "source": [
    "from qualtran.bloqs.chemistry.pbc.first_quantization.prepare_t import PrepareTFirstQuantization"
   ]
  },
  {
   "cell_type": "markdown",
   "id": "ca5b91f6",
   "metadata": {
    "cq.autogen": "PrepareTFirstQuantization.example_instances.md"
   },
   "source": [
    "### Example Instances"
   ]
  },
  {
   "cell_type": "code",
   "execution_count": null,
   "id": "cd2c9b15",
   "metadata": {
    "cq.autogen": "PrepareTFirstQuantization.prepare_t"
   },
   "outputs": [],
   "source": [
    "num_bits_p = 5\n",
    "eta = 10\n",
    "\n",
    "prepare_t = PrepareTFirstQuantization(num_bits_p=num_bits_p, eta=eta)"
   ]
  },
  {
   "cell_type": "markdown",
   "id": "de3deb44",
   "metadata": {
    "cq.autogen": "PrepareTFirstQuantization.graphical_signature.md"
   },
   "source": [
    "#### Graphical Signature"
   ]
  },
  {
   "cell_type": "code",
   "execution_count": null,
   "id": "3d2f5b1c",
   "metadata": {
    "cq.autogen": "PrepareTFirstQuantization.graphical_signature.py"
   },
   "outputs": [],
   "source": [
    "from qualtran.drawing import show_bloqs\n",
    "show_bloqs([prepare_t],\n",
    "           ['`prepare_t`'])"
   ]
  },
  {
   "cell_type": "markdown",
   "id": "8f3a8e09",
   "metadata": {
    "cq.autogen": "PrepareTFirstQuantization.call_graph.md"
   },
   "source": [
    "### Call Graph"
   ]
  },
  {
   "cell_type": "code",
   "execution_count": null,
   "id": "2d5da3f7",
   "metadata": {
    "cq.autogen": "PrepareTFirstQuantization.call_graph.py"
   },
   "outputs": [],
   "source": [
    "from qualtran.resource_counting.generalizers import ignore_split_join\n",
    "prepare_t_g, prepare_t_sigma = prepare_t.call_graph(max_depth=1, generalizer=ignore_split_join)\n",
    "show_call_graph(prepare_t_g)\n",
    "show_counts_sigma(prepare_t_sigma)"
   ]
  },
  {
   "cell_type": "markdown",
   "id": "5bb3fb85",
   "metadata": {
    "cq.autogen": "PrepareUVFirstQuantization.bloq_doc.md"
   },
   "source": [
    "## `PrepareUVFirstQuantization`\n",
    "PREPARE the U and V parts of the Hamiltonian.\n",
    "\n",
    "#### Parameters\n",
    " - `num_bits_p`: The number of bits to represent each dimension of the momentum register.\n",
    " - `eta`: The number of electrons.\n",
    " - `num_atoms`: The number of atoms. $L$ in the reference.\n",
    " - `m_param`: $\\mathcal{M}$ in the reference.\n",
    " - `lambda_zeta`: sum of nuclear charges.\n",
    " - `num_bits_nuc_pos`: The number of bits of precision for representing the nuclear coordinates. \n",
    "\n",
    "#### Registers\n",
    " - `mu`: The state controlling the nested boxes procedure.\n",
    " - `nu`: The momentum transfer register.\n",
    " - `m`: an ancilla register in a uniform superposition.\n",
    " - `l`: The register for atomic species.\n",
    " - `flag_nu`: Flag for success of the state preparation. \n",
    "\n",
    "#### References\n",
    " - [Fault-Tolerant Quantum Simulations of Chemistry in First Quantization](https://arxiv.org/abs/2105.12767). page 19, section B\n"
   ]
  },
  {
   "cell_type": "code",
   "execution_count": null,
   "id": "d13f6915",
   "metadata": {
    "cq.autogen": "PrepareUVFirstQuantization.bloq_doc.py"
   },
   "outputs": [],
   "source": [
    "from qualtran.bloqs.chemistry.pbc.first_quantization.prepare_uv import PrepareUVFirstQuantization"
   ]
  },
  {
   "cell_type": "markdown",
   "id": "754731ae",
   "metadata": {
    "cq.autogen": "PrepareUVFirstQuantization.example_instances.md"
   },
   "source": [
    "### Example Instances"
   ]
  },
  {
   "cell_type": "code",
   "execution_count": null,
   "id": "09d41f99",
   "metadata": {
    "cq.autogen": "PrepareUVFirstQuantization.prepare_uv"
   },
   "outputs": [],
   "source": [
    "num_bits_p = 5\n",
    "eta = 10\n",
    "num_atoms = 10\n",
    "lambda_zeta = 10\n",
    "m_param = 2**8\n",
    "num_bits_nuc_pos = 16\n",
    "\n",
    "prepare_uv = PrepareUVFirstQuantization(\n",
    "    num_bits_p=num_bits_p,\n",
    "    eta=eta,\n",
    "    num_atoms=num_atoms,\n",
    "    m_param=m_param,\n",
    "    lambda_zeta=lambda_zeta,\n",
    "    num_bits_nuc_pos=num_bits_nuc_pos,\n",
    ")"
   ]
  },
  {
   "cell_type": "markdown",
   "id": "305d8a86",
   "metadata": {
    "cq.autogen": "PrepareUVFirstQuantization.graphical_signature.md"
   },
   "source": [
    "#### Graphical Signature"
   ]
  },
  {
   "cell_type": "code",
   "execution_count": null,
   "id": "8d9e3cfe",
   "metadata": {
    "cq.autogen": "PrepareUVFirstQuantization.graphical_signature.py"
   },
   "outputs": [],
   "source": [
    "from qualtran.drawing import show_bloqs\n",
    "show_bloqs([prepare_uv],\n",
    "           ['`prepare_uv`'])"
   ]
  },
  {
   "cell_type": "markdown",
   "id": "3a8dc7c2",
   "metadata": {
    "cq.autogen": "PrepareUVFirstQuantization.call_graph.md"
   },
   "source": [
    "### Call Graph"
   ]
  },
  {
   "cell_type": "code",
   "execution_count": null,
   "id": "8f171b9b",
   "metadata": {
    "cq.autogen": "PrepareUVFirstQuantization.call_graph.py"
   },
   "outputs": [],
   "source": [
    "from qualtran.resource_counting.generalizers import ignore_split_join\n",
    "prepare_uv_g, prepare_uv_sigma = prepare_uv.call_graph(max_depth=1, generalizer=ignore_split_join)\n",
    "show_call_graph(prepare_uv_g)\n",
    "show_counts_sigma(prepare_uv_sigma)"
   ]
  },
  {
   "cell_type": "markdown",
   "id": "9dc8a9f3",
   "metadata": {
    "cq.autogen": "SelectTFirstQuantization.bloq_doc.md"
   },
   "source": [
    "## `SelectTFirstQuantization`\n",
    "SELECT for the kinetic energy operator for the first quantized chemistry Hamiltonian.\n",
    "\n",
    "#### Parameters\n",
    " - `num_bits_p`: The number of bits to represent each dimension of the momentum register.\n",
    " - `eta`: The number of electrons. \n",
    "\n",
    "#### Registers\n",
    " - `sys`: The system register.\n",
    " - `plus`: A $|+\\rangle$ state.\n",
    " - `flag_T`: a flag to control on the success of the $T$ state preparation. \n",
    "\n",
    "#### References\n",
    " - [Fault-Tolerant Quantum Simulations of Chemistry in First Quantization](https://arxiv.org/abs/2105.12767). page 20, section B\n"
   ]
  },
  {
   "cell_type": "code",
   "execution_count": null,
   "id": "5e5dd6b0",
   "metadata": {
    "cq.autogen": "SelectTFirstQuantization.bloq_doc.py"
   },
   "outputs": [],
   "source": [
    "from qualtran.bloqs.chemistry.pbc.first_quantization.select_t import SelectTFirstQuantization"
   ]
  },
  {
   "cell_type": "markdown",
   "id": "453792f3",
   "metadata": {
    "cq.autogen": "SelectTFirstQuantization.example_instances.md"
   },
   "source": [
    "### Example Instances"
   ]
  },
  {
   "cell_type": "code",
   "execution_count": null,
   "id": "1708e7a9",
   "metadata": {
    "cq.autogen": "SelectTFirstQuantization.select_t"
   },
   "outputs": [],
   "source": [
    "num_bits_p = 5\n",
    "eta = 10\n",
    "\n",
    "select_t = SelectTFirstQuantization(num_bits_p=num_bits_p, eta=eta)"
   ]
  },
  {
   "cell_type": "markdown",
   "id": "49ab234d",
   "metadata": {
    "cq.autogen": "SelectTFirstQuantization.graphical_signature.md"
   },
   "source": [
    "#### Graphical Signature"
   ]
  },
  {
   "cell_type": "code",
   "execution_count": null,
   "id": "f7e08f08",
   "metadata": {
    "cq.autogen": "SelectTFirstQuantization.graphical_signature.py"
   },
   "outputs": [],
   "source": [
    "from qualtran.drawing import show_bloqs\n",
    "show_bloqs([select_t],\n",
    "           ['`select_t`'])"
   ]
  },
  {
   "cell_type": "markdown",
   "id": "1c03cf92",
   "metadata": {
    "cq.autogen": "SelectTFirstQuantization.call_graph.md"
   },
   "source": [
    "### Call Graph"
   ]
  },
  {
   "cell_type": "code",
   "execution_count": null,
   "id": "de4af7ab",
   "metadata": {
    "cq.autogen": "SelectTFirstQuantization.call_graph.py"
   },
   "outputs": [],
   "source": [
    "from qualtran.resource_counting.generalizers import ignore_split_join\n",
    "select_t_g, select_t_sigma = select_t.call_graph(max_depth=1, generalizer=ignore_split_join)\n",
    "show_call_graph(select_t_g)\n",
    "show_counts_sigma(select_t_sigma)"
   ]
  },
  {
   "cell_type": "markdown",
   "id": "2ddf9166",
   "metadata": {
    "cq.autogen": "SelectUVFirstQuantization.bloq_doc.md"
   },
   "source": [
    "## `SelectUVFirstQuantization`\n",
    "SELECT for the U and V operators for the first quantized chemistry Hamiltonian.\n",
    "\n",
    "This does not include the controlled swaps from p_i and q_j system registers\n",
    "into ancilla registers and back again. Hence there is no system register.\n",
    "\n",
    "#### Parameters\n",
    " - `num_bits_p`: The number of bits to represent each dimension of the momentum register.\n",
    " - `eta`: The number of electrons.\n",
    " - `num_atoms`: The number of atoms.\n",
    " - `num_bits_nuc_pos`: The number of bits to store each component of the nuclear positions. $n_R$ in the reference. \n",
    "\n",
    "Registers:\n",
    "\n",
    "#### References\n",
    " - [Fault-Tolerant Quantum Simulations of Chemistry in First Quantization](https://arxiv.org/abs/2105.12767). \n"
   ]
  },
  {
   "cell_type": "code",
   "execution_count": null,
   "id": "dcb5fe31",
   "metadata": {
    "cq.autogen": "SelectUVFirstQuantization.bloq_doc.py"
   },
   "outputs": [],
   "source": [
    "from qualtran.bloqs.chemistry.pbc.first_quantization.select_uv import SelectUVFirstQuantization"
   ]
  },
  {
   "cell_type": "markdown",
   "id": "95b9f697",
   "metadata": {
    "cq.autogen": "SelectUVFirstQuantization.example_instances.md"
   },
   "source": [
    "### Example Instances"
   ]
  },
  {
   "cell_type": "code",
   "execution_count": null,
   "id": "f431864a",
   "metadata": {
    "cq.autogen": "SelectUVFirstQuantization.select_uv"
   },
   "outputs": [],
   "source": [
    "num_bits_p = 5\n",
    "eta = 10\n",
    "num_bits_nuc_pos = 16\n",
    "\n",
    "select_uv = SelectUVFirstQuantization(\n",
    "    num_bits_p=num_bits_p, eta=eta, num_atoms=eta, num_bits_nuc_pos=num_bits_nuc_pos\n",
    ")"
   ]
  },
  {
   "cell_type": "markdown",
   "id": "81143504",
   "metadata": {
    "cq.autogen": "SelectUVFirstQuantization.graphical_signature.md"
   },
   "source": [
    "#### Graphical Signature"
   ]
  },
  {
   "cell_type": "code",
   "execution_count": null,
   "id": "4aa7e222",
   "metadata": {
    "cq.autogen": "SelectUVFirstQuantization.graphical_signature.py"
   },
   "outputs": [],
   "source": [
    "from qualtran.drawing import show_bloqs\n",
    "show_bloqs([select_uv],\n",
    "           ['`select_uv`'])"
   ]
  },
  {
   "cell_type": "markdown",
   "id": "34e9be57",
   "metadata": {
    "cq.autogen": "SelectUVFirstQuantization.call_graph.md"
   },
   "source": [
    "### Call Graph"
   ]
  },
  {
   "cell_type": "code",
   "execution_count": null,
   "id": "a6cad568",
   "metadata": {
    "cq.autogen": "SelectUVFirstQuantization.call_graph.py"
   },
   "outputs": [],
   "source": [
    "from qualtran.resource_counting.generalizers import ignore_split_join\n",
    "select_uv_g, select_uv_sigma = select_uv.call_graph(max_depth=1, generalizer=ignore_split_join)\n",
    "show_call_graph(select_uv_g)\n",
    "show_counts_sigma(select_uv_sigma)"
   ]
  }
 ],
 "metadata": {
  "kernelspec": {
   "display_name": "Python 3",
   "language": "python",
   "name": "python3"
  },
  "language_info": {
   "codemirror_mode": {
    "name": "ipython",
    "version": 3
   },
   "file_extension": ".py",
   "mimetype": "text/x-python",
   "name": "python",
   "nbconvert_exporter": "python",
   "pygments_lexer": "ipython3",
   "version": "3.11.5"
  }
 },
 "nbformat": 4,
 "nbformat_minor": 5
}
