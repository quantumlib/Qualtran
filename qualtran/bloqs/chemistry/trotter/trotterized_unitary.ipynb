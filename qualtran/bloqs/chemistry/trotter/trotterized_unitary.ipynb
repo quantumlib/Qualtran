{
 "cells": [
  {
   "cell_type": "markdown",
   "id": "03f883e6",
   "metadata": {
    "cq.autogen": "title_cell"
   },
   "source": [
    "# Trotterization\n",
    "\n",
    "Bloq for building a Trotterized unitary"
   ]
  },
  {
   "cell_type": "code",
   "execution_count": null,
   "id": "5009f0be",
   "metadata": {
    "cq.autogen": "top_imports"
   },
   "outputs": [],
   "source": [
    "from qualtran import Bloq, CompositeBloq, BloqBuilder, Signature, Register\n",
    "from qualtran import QBit, QInt, QUInt, QAny\n",
    "from qualtran.drawing import show_bloq, show_call_graph, show_counts_sigma\n",
    "from typing import *\n",
    "import numpy as np\n",
    "import sympy\n",
    "import cirq"
   ]
  },
  {
   "cell_type": "markdown",
   "id": "85005986",
   "metadata": {
    "cq.autogen": "TrotterizedUnitary.bloq_doc.md"
   },
   "source": [
    "## `TrotterizedUnitary`\n",
    "Implement arbitrary trotterized unitary given any Trotter splitting of the Hamiltonian.\n",
    "\n",
    "Given an arbitrary splitting of the Hamiltonian into $\\Gamma$ terms\n",
    "\n",
    "$$\n",
    "    H = \\sum_{\\gamma=1}^\\Gamma H_\\gamma\n",
    "$$\n",
    "\n",
    "then the unitary $e^{-i t H}$ can be approximately implemented via a $p$-th order product\n",
    "formula\n",
    "\n",
    "$$\n",
    "    S_p(t) = \\prod_{v=1}^{\\Upsilon}\\prod_{\\gamma=1}^\\Gamma e^{-it a_{v,\\gamma} H_{\\pi_v(\\gamma)}}\n",
    "$$\n",
    "\n",
    "where $\\Upsilon$ is the number of `stages`, $a_{v, \\gamma}$ are real numbers\n",
    "and $\\pi_v(\\gamma)$ is a permutation of the Hamiltonian term labels.\n",
    "\n",
    "In practice, to construct the unitary we adopt the convention from the second reference\n",
    "which expands the product above and merges neighbouring unitaries where\n",
    "possible.\n",
    "In particular, the trotterized unitary can be specified by\n",
    "\n",
    "$$\n",
    "    S_p(t) = \\prod_{k}^M e^{-it c_k H_{l_k}}\n",
    "$$\n",
    "\n",
    "where the coefficients $c_k$ are real numbers and $l_k$ is an integer\n",
    "indexing which term of the Hamiltonian to apply.\n",
    "\n",
    "For example, the second order Suzuki splitting would have indicies $(l)$ = (0, 1, 0)\n",
    "and coeffs = $(c)$ = (0.5, 1, 0.5), which would build\n",
    "\n",
    "$$\n",
    "    e^{-i \\frac{t}{2} H_0} e^{-i t H_1} e^{-i \\frac{t}{2} H_0}\n",
    "$$\n",
    "\n",
    "#### Parameters\n",
    " - `bloqs`: A tuple of bloqs of length $\\Gamma$ which implement the unitaries for each term in the Hamiltonian. Each bloq should be a frozen attrs dataclass, have an `angle` parameter. All bloqs should have the same signature.\n",
    " - `indices`: A tuple of integers which specifies which bloq to apply when forming the unitary as a product of unitaries.\n",
    " - `coeffs`: The coefficients $a$ which appear in the expression for the unitary.\n",
    " - `timestep`: The timestep $t$. \n",
    "\n",
    "#### Registers\n",
    " - `system`: The system register to which to apply the unitary. \n",
    "\n",
    "#### References\n",
    " - [Theory of Trotter Error with Commutator Scaling](     https://journals.aps.org/prx/abstract/10.1103/PhysRevX.11.011020) Eq. 12 page 7.\n",
    " - [Trotter error with commutator scaling for the Fermi-Hubbard model](     https://arxiv.org/abs/2306.10603) see github repo for software to produce splittings.\n"
   ]
  },
  {
   "cell_type": "code",
   "execution_count": null,
   "id": "ea48a0a6",
   "metadata": {
    "cq.autogen": "TrotterizedUnitary.bloq_doc.py"
   },
   "outputs": [],
   "source": [
    "from qualtran.bloqs.chemistry.trotter.trotterized_unitary import TrotterizedUnitary"
   ]
  },
  {
   "cell_type": "markdown",
   "id": "9869f4e8",
   "metadata": {
    "cq.autogen": "TrotterizedUnitary.example_instances.md"
   },
   "source": [
    "### Example Instances"
   ]
  },
  {
   "cell_type": "code",
   "execution_count": null,
   "id": "2a8750ba",
   "metadata": {
    "cq.autogen": "TrotterizedUnitary.trott_unitary"
   },
   "outputs": [],
   "source": [
    "from qualtran.bloqs.chemistry.trotter.ising import IsingXUnitary, IsingZZUnitary\n",
    "\n",
    "nsites = 3\n",
    "j_zz = 2\n",
    "gamma_x = 0.1\n",
    "dt = 0.01\n",
    "indices = (0, 1, 0)\n",
    "coeffs = (0.5 * gamma_x, j_zz, 0.5 * gamma_x)\n",
    "# The angles for the Trotter bloqs will be overwritten, so these are placeholder values.\n",
    "zz_bloq = IsingZZUnitary(nsites=nsites, angle=2 * dt * j_zz)\n",
    "x_bloq = IsingXUnitary(nsites=nsites, angle=0.5 * 2 * dt * gamma_x)\n",
    "trott_unitary = TrotterizedUnitary(\n",
    "    bloqs=(x_bloq, zz_bloq), indices=indices, coeffs=coeffs, timestep=dt\n",
    ")"
   ]
  },
  {
   "cell_type": "markdown",
   "id": "bb4ac0ab",
   "metadata": {
    "cq.autogen": "TrotterizedUnitary.graphical_signature.md"
   },
   "source": [
    "#### Graphical Signature"
   ]
  },
  {
   "cell_type": "code",
   "execution_count": null,
   "id": "d58e9b46",
   "metadata": {
    "cq.autogen": "TrotterizedUnitary.graphical_signature.py"
   },
   "outputs": [],
   "source": [
    "from qualtran.drawing import show_bloqs\n",
    "show_bloqs([trott_unitary],\n",
    "           ['`trott_unitary`'])"
   ]
  },
  {
   "cell_type": "markdown",
   "id": "1b84ae91",
   "metadata": {
    "cq.autogen": "TrotterizedUnitary.call_graph.md"
   },
   "source": [
    "### Call Graph"
   ]
  },
  {
   "cell_type": "code",
   "execution_count": null,
   "id": "bfbcd7b1",
   "metadata": {
    "cq.autogen": "TrotterizedUnitary.call_graph.py"
   },
   "outputs": [],
   "source": [
    "from qualtran.resource_counting.generalizers import ignore_split_join\n",
    "trott_unitary_g, trott_unitary_sigma = trott_unitary.call_graph(max_depth=1, generalizer=ignore_split_join)\n",
    "show_call_graph(trott_unitary_g)\n",
    "show_counts_sigma(trott_unitary_sigma)"
   ]
  }
 ],
 "metadata": {
  "kernelspec": {
   "display_name": "Python 3",
   "language": "python",
   "name": "python3"
  },
  "language_info": {
   "codemirror_mode": {
    "name": "ipython",
    "version": 3
   },
   "file_extension": ".py",
   "mimetype": "text/x-python",
   "name": "python",
   "nbconvert_exporter": "python",
   "pygments_lexer": "ipython3",
   "version": "3.11.7"
  }
 },
 "nbformat": 4,
 "nbformat_minor": 5
}
