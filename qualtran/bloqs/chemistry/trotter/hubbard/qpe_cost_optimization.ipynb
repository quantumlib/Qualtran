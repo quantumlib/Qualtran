{
 "cells": [
  {
   "cell_type": "markdown",
   "metadata": {},
   "source": [
    "# Optimizing T Counts Given an Error Budget"
   ]
  },
  {
   "cell_type": "markdown",
   "metadata": {},
   "source": [
    "Quantum algorithms typically only allow us to estimate properties to within some additive error $\\epsilon$. For quantum phase estimation via Trotterization there are at least three sources of error [[1]](https://arxiv.org/abs/1902.10673): Trotter errors ($\\Delta_{TS}$), circuit synthesis errors ($\\Delta_{HT}$), and phase estimation errors ($\\Delta_{PE}$). Here we will focus on the Hubbard model but many features are similar for different Hamiltonian types."
   ]
  },
  {
   "cell_type": "markdown",
   "metadata": {},
   "source": [
    "###  1. Trotter Errors\n",
    "\n",
    "Given a $p$-th order product formula $S_p(t)$ for the unitary implementing $e^{-i t H}$ we have that \n",
    "$$\n",
    "\\Delta_U \\equiv \\lVert S_p(t) - e^{-i t H}\\rVert_{W_\\eta} = \\xi(\\eta, u, \\tau) t^{p+1}\n",
    "$$\n",
    "for some constant $\\xi$ which depends on the parameters of the system. The constant $\\xi$ can be either computed (through direct evaluation and extrapolating from small system sizes) or bounded using complicated commutator expressions.\n",
    "\n",
    "Ref. [[1]](https://arxiv.org/abs/1902.10673) showed that\n",
    "\n",
    "$$\n",
    "\\Delta_{TS} t \\equiv |E - E_{TS}|t \\le \\arctan\\left(\\Delta_U \\frac{\\sqrt{4-\\Delta_U^2}}{2-\\Delta_U^2}\\right) = \\Delta_U + \\frac{\\Delta_U^3}{24} + \\mathcal{O}(\\Delta_U^5),\n",
    "$$\n",
    "so that as long as $\\Delta_U \\gg \\frac{\\Delta_U^3}{24}$ we can estimate \n",
    "\n",
    "$$\n",
    "\\Delta_{TS} = \\Delta_U / t \\approx \\xi(\\eta, u, \\tau) t^{p} \n",
    "$$"
   ]
  },
  {
   "cell_type": "markdown",
   "metadata": {},
   "source": [
    "### 2. Circuit Synthesis Errors\n",
    "\n",
    "Circuit synthesis errors account for the approximate implementation of single qubit $R_z(\\theta)$ rotations when compiled to  Clifford+$T$ gates. A single qubit rotation gate can be synthesized to $\\epsilon_R$ error using\n",
    "$$\n",
    "T_\\mathrm{synth} \\approx 1.15 \\log_2(1/\\epsilon_R) + 9.2\n",
    "$$\n",
    "$T$ gates. Assuming ([see Appendix D corollary 1](https://arxiv.org/pdf/1605.03590)) these errors add at most linearly to the estimated phase then the cost is\n",
    "\n",
    "$$\n",
    "N_{HT} = 1.15 \\log_2 \\left(\\frac{N_R}{\\Delta_{HT} t}\\right) + 9.2\n",
    "$$\n",
    "$T$ gates per single qubit rotation, where $N_R$ is the number of rotations per Trotter step."
   ]
  },
  {
   "cell_type": "markdown",
   "metadata": {},
   "source": [
    "### 3. QPE Errors\n",
    "\n",
    "Phase estimation errors $\\Delta_{PE}$ arise due to not computing enough bits of the phase. Adaptive phase estimation allows one to reach a RMS error of $\\Delta_{PE} t$ using\n",
    "\n",
    "$$\n",
    "N_{PE} \\approx \\frac{0.76 \\pi}{\\Delta_{PE} t}\n",
    "$$\n",
    "repetitions of the simulation circuit."
   ]
  },
  {
   "cell_type": "markdown",
   "metadata": {},
   "source": [
    "## Optimizing the T counts\n",
    "\n",
    "We assume $\\epsilon \\ge \\Delta_{PE} + \\Delta_{TS} + \\Delta_{HT}$. There is some freedom for the relative weighting of these terms and we can minimize the $T$ count which this constraint. The total $T$ count comes from the Trotter step costs and the number of QPE repetitions $N_{PE}$\n",
    "\n",
    "$$\n",
    "N_{\\mathrm{tot}} = N_{PE} (N_{R} N_{HT} + N_T)\n",
    "$$\n",
    "where $N_T$ is the number of \"direct\" $T$ gates (i.e. those that appear in the circuit before synthesis).\n",
    "\n",
    "If we write $t = \\left(\\frac{\\Delta_{TS}}{\\xi}\\right)^{1/p}$, then\n",
    "$$\n",
    "N_\\mathrm{tot} \\approx \\frac{0.76 \\pi \\xi^{1/p}}{\\Delta_{PE}\\Delta_{TS}^{1/p}}\\left(N_R \\left[\\log\\left(\\frac{N_R \\xi^{1/p}}{\\Delta_{HT}\\Delta_{TS}^{1/p}}\\right) + 9.2\\right] + N_T\\right)\n",
    "$$\n",
    "\n",
    "Ref. [[1]](https://arxiv.org/abs/1902.10673) minimized this expression numerically. Qualtran should be able to produce this expression and perform the optimization. "
   ]
  },
  {
   "cell_type": "markdown",
   "metadata": {},
   "source": [
    "## Cost analysis \n",
    "\n",
    "Let us first reproduce the results from [[2]](https://arxiv.org/abs/2012.09238) for the PLAQ Hubbard splitting through direct minimization. We will then see how Qualtran can help with this analysis."
   ]
  },
  {
   "cell_type": "code",
   "execution_count": null,
   "metadata": {},
   "outputs": [],
   "source": [
    "from typing import Dict, Union, Tuple\n",
    "\n",
    "import numpy as np\n",
    "import sympy\n",
    "\n",
    "from qualtran.resource_counting.t_counts_from_sigma import _get_all_rotation_types\n",
    "from qualtran.resource_counting.generalizers import PHI\n",
    "from qualtran.cirq_interop.t_complexity_protocol import TComplexity\n",
    "from qualtran import Bloq\n",
    "from qualtran.bloqs.basic_gates import TGate, Rz\n",
    "from qualtran.bloqs.bookkeeping import ArbitraryClifford\n",
    "\n",
    "\n",
    "def catch_rotations(bloq) -> Bloq:\n",
    "    \"\"\"Generalizer to catch rotations.\"\"\"\n",
    "    if isinstance(bloq, Rz):\n",
    "        if isinstance(bloq.angle, float) and abs(bloq.angle) < 1e-12:\n",
    "            return ArbitraryClifford(1)\n",
    "        else:\n",
    "            return Rz(angle=PHI, eps=bloq.eps)\n",
    "    return bloq\n",
    "\n",
    "\n",
    "def t_and_rot_counts_from_sigma(sigma: Dict['Bloq', Union[int, 'sympy.Expr']]) -> Tuple[int, int]:\n",
    "    rotation_types = _get_all_rotation_types()\n",
    "    ret = sigma.get(TGate(), 0)\n",
    "    n_rot = 0\n",
    "    for bloq, counts in sigma.items():\n",
    "        if isinstance(bloq, rotation_types):\n",
    "            n_rot += counts\n",
    "    return ret, n_rot\n",
    "\n",
    "\n",
    "def timestep_from_params(delta_ts: float, xi: float, prod_ord: int) -> float:\n",
    "    \"\"\"Get the timestep from the product formula spectral norm error.\n",
    "\n",
    "    Args\n",
    "        delta_ts: The allowed Suzuki-Trotter error.\n",
    "        xi: The constant factor for the Trotter-Suzuki spectral norm error.\n",
    "        prod_ord: The product formula order.\n",
    "    Returns:\n",
    "        timestep: The computed timestep.\n",
    "    \"\"\"\n",
    "    return (delta_ts / xi) ** (1.0 / prod_ord)\n",
    "\n",
    "\n",
    "def get_single_rot_eps(n_rot: int, delta_ht: float, timestep: float) -> int:\n",
    "    \"\"\"Get the precision required for single qubit rotations given n_rot of them.\n",
    "\n",
    "    Args:\n",
    "        delta_ht: The allowed circuit synthesis error.\n",
    "        n_rot: The number of rotations in the circuit.\n",
    "        timestep: The timestep for trotterization.\n",
    "\n",
    "    Returns:\n",
    "        eps: the precision for single qubit rotations\n",
    "    \"\"\"\n",
    "    return (delta_ht * timestep) / n_rot\n",
    "\n",
    "\n",
    "def qpe_steps(delta_pe: float, timestep: float) -> int:\n",
    "    \"\"\"Get the number of QPE steps from the RMS error and timestep.\n",
    "\n",
    "    Args:\n",
    "        delta_pe: The desired adaptive phase estimation RMS error.\n",
    "        timestep: The timestep value.\n",
    "\n",
    "    Returns:\n",
    "        n_qpe: The number of QPE steps.\n",
    "    \"\"\"\n",
    "    return (0.76 * np.pi) / (delta_pe * timestep)\n",
    "\n",
    "\n",
    "def rotation_cost(n_rot: int, delta_ht: float, timestep: float) -> int:\n",
    "    \"\"\"Get the rotation costs.\n",
    "\n",
    "    Args:\n",
    "        n_rot: The number of rotations in the circuit.\n",
    "        delta_ht: The allowed circuit synthesis error.\n",
    "        timestep: The timestep value.\n",
    "    \"\"\"\n",
    "    rot_cost = TComplexity(rotations=n_rot).t_incl_rotations(\n",
    "        get_single_rot_eps(n_rot, delta_ht, timestep)\n",
    "    )\n",
    "    return rot_cost\n",
    "\n",
    "\n",
    "def qpe_t_count(\n",
    "    delta_pe: float,\n",
    "    delta_ts: float,\n",
    "    delta_ht: float,\n",
    "    n_rot: int,\n",
    "    n_t: int,\n",
    "    xi: float,\n",
    "    prod_ord: int,\n",
    ") -> int:\n",
    "    \"\"\"Compute the total number of T gates used for Trotterized QPE.\n",
    "\n",
    "    Args:\n",
    "        delta_pe: The allowed phase estimation error.\n",
    "        delta_ts: The allowed Suzuki-Trotter error.\n",
    "        delta_ht: The allowed circuit synthesis error.\n",
    "        n_rot: The number of rotations in the circuit.\n",
    "        n_t: The number of direct T gates (before synthesis).\n",
    "        xi: The constant factor for the Trotter-Suzuki spectral norm error.\n",
    "        prod_ord: The product formula order.\n",
    "\n",
    "    Returns:\n",
    "        tot_t_cost: The total number of T gates.\n",
    "    \"\"\"\n",
    "    timestep = timestep_from_params(delta_ts, xi, prod_ord)\n",
    "    rot_cost = rotation_cost(n_rot, delta_ht, timestep)\n",
    "    n_qpe = qpe_steps(delta_pe, timestep)\n",
    "    tot_t_cost = n_qpe * (rot_cost + n_t)\n",
    "    return tot_t_cost"
   ]
  },
  {
   "cell_type": "code",
   "execution_count": null,
   "metadata": {},
   "outputs": [],
   "source": [
    "# Get some system parameters from Ref. [2]\n",
    "# 8x8 lattice\n",
    "length = 8\n",
    "hubb_u = 4\n",
    "\n",
    "# From Ref[2] table 1.\n",
    "xi_bound = 5.3e2 \n",
    "# Fig 2. from Ref[2] uses this extensive size error (we're targeting some energy per lattice site)\n",
    "epsilon = 0.0051 * length**2\n",
    "# Arbitrary splitting of error for comparison purposes\n",
    "delta_ts = 0.5 * epsilon \n",
    "delta_pe = 0.45 * epsilon \n",
    "delta_ht = 0.05 * epsilon \n",
    "# using 2nd order Suzuki (Strang) splitting\n",
    "prod_ord = 2\n",
    "timestep = timestep_from_params(delta_ts, xi_bound, prod_ord)\n",
    "print(f\"Computed timestep: {timestep:4.3e}\")\n",
    "print(f\"Sum Error budget terms: {delta_ts + delta_ht + delta_pe}\")\n",
    "print(f\"Expected Error budget: {epsilon}\")"
   ]
  },
  {
   "cell_type": "markdown",
   "metadata": {},
   "source": [
    "Let's first check the fixed costs from the Trotter step match our expectations "
   ]
  },
  {
   "cell_type": "code",
   "execution_count": null,
   "metadata": {},
   "outputs": [],
   "source": [
    "from qualtran.bloqs.chemistry.trotter.hubbard.trotter_step import build_plaq_unitary_second_order_suzuki\n",
    "\n",
    "trotter_step = build_plaq_unitary_second_order_suzuki(length, hubb_u, timestep, eps=1e-10)\n",
    "n_t, n_rot = t_and_rot_counts_from_sigma(trotter_step.call_graph(generalizer=catch_rotations)[1])\n",
    "print(f\"N_T = {n_t} vs {(3*length**2 // 2)*8}\")\n",
    "print(f\"N_rot = {n_rot} vs {(3 * length**2 + 2*length**2)}\")"
   ]
  },
  {
   "cell_type": "markdown",
   "metadata": {},
   "source": [
    "Now let's look at the total cost and the error we incurred with our default parameter choices."
   ]
  },
  {
   "cell_type": "code",
   "execution_count": null,
   "metadata": {},
   "outputs": [],
   "source": [
    "import attrs\n",
    "from qualtran.drawing import show_call_graph\n",
    "# get appropriate epsilon given our input parameters now we know the number of rotations\n",
    "eps_single_rot = get_single_rot_eps(n_rot, delta_ht, timestep)\n",
    "print(f\"Adjusted eps_single_rot: {eps_single_rot}\")\n",
    "tot_t_count = qpe_t_count(delta_pe, delta_ts, delta_ht, n_rot, n_t, xi_bound, prod_ord)\n",
    "# This doesn't really matter right now because the cost is determined directly\n",
    "# from the formula assuming we used an appropriate delta_ht.\n",
    "# But let's show the call graph anyway to check the parameters all all what we expect.\n",
    "updated_eps_bloqs = tuple(attrs.evolve(b, eps=eps_single_rot) for b in trotter_step.bloqs)\n",
    "trotter_step = attrs.evolve(trotter_step, bloqs=updated_eps_bloqs)\n",
    "trotter_step_g, _ = trotter_step.call_graph(generalizer=catch_rotations)\n",
    "show_call_graph(trotter_step_g)"
   ]
  },
  {
   "cell_type": "code",
   "execution_count": null,
   "metadata": {},
   "outputs": [],
   "source": [
    "tot_t_count = qpe_t_count(delta_pe, delta_ts, delta_ht, n_rot, n_t, xi_bound, prod_ord)\n",
    "print(f\"N_{{T_tot}} = {tot_t_count:4.3e} T gates.\")"
   ]
  },
  {
   "cell_type": "markdown",
   "metadata": {},
   "source": [
    "# Visualization\n",
    "\n",
    "It's helpful at this point to do some visualization of the error dependencies."
   ]
  },
  {
   "cell_type": "markdown",
   "metadata": {},
   "source": [
    "The $T$ count varies slowly with $\\Delta_{HT}$ so we let's pick a value an look at the dependence of the $T$ counts on just $\\Delta_{TS}$ and $\\Delta_{PE}$."
   ]
  },
  {
   "cell_type": "code",
   "execution_count": null,
   "metadata": {},
   "outputs": [],
   "source": [
    "import matplotlib.pyplot as plt\n",
    "from matplotlib import cm\n",
    "\n",
    "X = np.logspace(-2, -0.5, 20)\n",
    "Y = np.logspace(-2, -0.5, 20)\n",
    "X, Y = np.meshgrid(X, Y)\n",
    "results = []\n",
    "delta_ht = 1e-5\n",
    "for x, y in zip(X, Y):\n",
    "    for xval, yval in zip(x, y):\n",
    "        results.append(np.log10(qpe_t_count(xval, yval, delta_ht, n_rot, n_t, xi_bound, prod_ord)))"
   ]
  },
  {
   "cell_type": "code",
   "execution_count": null,
   "metadata": {},
   "outputs": [],
   "source": [
    "fig, ax = plt.subplots(subplot_kw={\"projection\": \"3d\"})\n",
    "surf = ax.plot_surface(X, Y, np.array(results).reshape(20, 20), cmap=cm.coolwarm,\n",
    "                       linewidth=0, antialiased=False)\n",
    "ax.set_xlabel(r'$\\Delta_{TS}$')\n",
    "ax.set_ylabel(r'$\\Delta_{PE}$')"
   ]
  },
  {
   "cell_type": "code",
   "execution_count": null,
   "metadata": {},
   "outputs": [],
   "source": [
    "fig, ax = plt.subplots()\n",
    "surf = ax.contour(\n",
    "    X, Y, np.array(results).reshape(20, 20), 25, cmap=cm.coolwarm, \n",
    ")\n",
    "cs = ax.contour(X, Y, X + Y, 10, colors=\"k\", linestyles=\"solid\")\n",
    "ax.clabel(cs, inline=True, fontsize=10)\n",
    "clb = fig.colorbar(surf, shrink=0.5, aspect=5)\n",
    "clb.ax.set_title(r'$\\log(T_\\mathrm{tot}$)')\n",
    "cs = ax.contour(X, Y, X+Y, levels=[epsilon], linestyles='dotted')\n",
    "ax.clabel(cs, inline=True, fontsize=10)\n",
    "ax.set_xlabel(r'$\\Delta_{TS}$')\n",
    "ax.set_ylabel(r'$\\Delta_{PE}$')\n",
    "ax.set_title(f'Desired $\\epsilon$ = 0.0051 $L^2$ = {epsilon}')"
   ]
  },
  {
   "cell_type": "markdown",
   "metadata": {},
   "source": [
    "We can plot the cost function a long the line $\\Delta_{HT} + \\Delta_{PE} + \\Delta_{TS} = \\epsilon$."
   ]
  },
  {
   "cell_type": "code",
   "execution_count": null,
   "metadata": {},
   "outputs": [],
   "source": [
    "delta_ht_vals = np.array([1e-4, 1e-3, 1e-2, 1e-1]) * epsilon\n",
    "fig, ax = plt.subplots()\n",
    "for dht in delta_ht_vals:\n",
    "    delta_ts_vals = np.linspace(0.05*epsilon , epsilon - dht, 100)[:-1]\n",
    "    t_vals = []\n",
    "    for dts in delta_ts_vals:\n",
    "        t_vals.append(qpe_t_count(epsilon - dts - dht, dts, dht, n_rot, n_t, xi_bound, prod_ord))\n",
    "    ax.plot(delta_ts_vals, t_vals, label=fr'$\\Delta_{{HT}} / \\epsilon$ = {dht/epsilon:4.3e}')\n",
    "plt.yscale('log')\n",
    "plt.ylabel('$T$ count')\n",
    "plt.legend()\n",
    "plt.title(r'$\\Delta_{PE} + \\Delta_{TS} + \\Delta_{HT} = \\epsilon$')\n",
    "plt.xlabel(r'$\\Delta_{TS}/\\epsilon$')"
   ]
  },
  {
   "cell_type": "markdown",
   "metadata": {},
   "source": [
    "We can perform a very naive two step constrained optimization along this line to find a minimum which looks to be around $9\\times10^6$ T gates."
   ]
  },
  {
   "cell_type": "code",
   "execution_count": null,
   "metadata": {},
   "outputs": [],
   "source": [
    "from scipy.optimize import minimize, bisect, newton\n",
    "def objective(delta_ts, delta_ht, n_rot, n_t, xi_bound, prod_ord):\n",
    "    t_counts = qpe_t_count(epsilon - delta_ts - delta_ht, delta_ts, delta_ht, n_rot, n_t, xi_bound, prod_ord)\n",
    "    return t_counts\n",
    "\n",
    "def inner_objective(delta_ht, n_rot, n_t, xi_bound, prod_ord):\n",
    "    min_delta_ts = minimize(objective, x0=0.7*(epsilon-delta_ht), bounds=[(1e-3*epsilon, 0.9*(epsilon-delta_ht))], args=(delta_ht, n_rot, n_t, xi_bound, prod_ord)).x[0]\n",
    "    return objective(min_delta_ts, delta_ht, n_rot, n_t, xi_bound, prod_ord), min_delta_ts\n",
    "\n",
    "def minimize_linesearch(n_rot, n_t, xi_bound, prod_ord):\n",
    "    res_min = np.inf\n",
    "    dht_min = epsilon\n",
    "    for dht in np.linspace(5e-3*epsilon, 1e-1*epsilon, 100):\n",
    "        res, _ = inner_objective(dht, n_rot, n_t, xi_bound, prod_ord)\n",
    "        if res < res_min:\n",
    "            res_min = res\n",
    "            dht_min = dht\n",
    "    t_opt, delta_ts_opt = inner_objective(dht_min, n_rot, n_t, xi_bound, prod_ord)\n",
    "    return dht_min, delta_ts_opt, epsilon - delta_ts_opt - dht_min, t_opt\n",
    "\n",
    "delta_ht_opt, delta_ts_opt, delta_pe_opt, t_opt = minimize_linesearch(n_rot, n_t, xi_bound, prod_ord)\n",
    "print(rf\"\\Delta_{{HT}} = {delta_ht_opt}\")\n",
    "print(rf\"\\Delta_{{TS}} = {delta_ts_opt}\")\n",
    "print(rf\"\\Delta_{{PE}} = {delta_pe_opt}\")\n",
    "print(rf\"T_{{opt}} = {t_opt:4.3e}\")"
   ]
  },
  {
   "cell_type": "markdown",
   "metadata": {},
   "source": [
    "### Using Hamming Weight Phasing "
   ]
  },
  {
   "cell_type": "markdown",
   "metadata": {},
   "source": [
    "We can compare this cost to that found using Hamming weight phasing for the equal angle rotations. "
   ]
  },
  {
   "cell_type": "code",
   "execution_count": null,
   "metadata": {},
   "outputs": [],
   "source": [
    "from qualtran.bloqs.chemistry.trotter.hubbard.trotter_step import build_plaq_hwp_unitary_second_order_suzuki\n",
    "trotter_step_hwp = build_plaq_hwp_unitary_second_order_suzuki(length, hubb_u, timestep, eps=1e-10)\n",
    "n_t_hwp, n_rot_hwp = t_and_rot_counts_from_sigma(trotter_step_hwp.call_graph(generalizer=catch_rotations)[1])\n",
    "print(f\"N_T(HWP) = {n_t_hwp} vs {(3*length**2 // 2)*8}\")\n",
    "print(f\"N_rot(HWP) = {n_rot_hwp} vs {(3 * length**2 + 2*length**2)}\")\n",
    "delta_ht_opt, delta_ts_opt, delta_pe_opt, t_opt = minimize_linesearch(n_rot_hwp, n_t_hwp, xi_bound, prod_ord)\n",
    "print(rf\"T_{{OPT}}(HWP) = {t_opt:4.3e}\")\n",
    "# The reference counts Toffolis as 2 T gates, we count them as 4.\n",
    "print(rf\"Reference value = {1.7e6 + 4 * 1.8e5:4.3e}\")"
   ]
  },
  {
   "cell_type": "markdown",
   "metadata": {},
   "source": [
    "Our value is slightly higher as we included all terms in the Trotter step. The reference only counts one layer of interaction gates. Let's correct for that."
   ]
  },
  {
   "cell_type": "code",
   "execution_count": null,
   "metadata": {},
   "outputs": [],
   "source": [
    "trotter_step_hwp = build_plaq_hwp_unitary_second_order_suzuki(length, hubb_u, timestep, eps=1e-10, strip_layer=True)\n",
    "n_t_hwp, n_rot_hwp = t_and_rot_counts_from_sigma(trotter_step_hwp.call_graph(generalizer=catch_rotations)[1])\n",
    "print(f\"N_T(HWP) = {n_t_hwp}\")\n",
    "print(f\"N_rot(HWP) = {n_rot_hwp}\")\n",
    "delta_ht_opt, delta_ts_opt, delta_pe_opt, t_opt = minimize_linesearch(n_rot_hwp, n_t_hwp, xi_bound, prod_ord)\n",
    "print(rf\"T_{{OPT}}(HWP) = {t_opt:4.3e}\")\n",
    "print(rf\"Reference value = {1.7e6 + 4 * 1.8e5:4.3e}\")"
   ]
  },
  {
   "cell_type": "markdown",
   "metadata": {},
   "source": [
    "## Symbolic T counts\n",
    "\n",
    "We can avoid doing any manipulation ourselves using sympy to represent the error expression."
   ]
  },
  {
   "cell_type": "code",
   "execution_count": null,
   "metadata": {},
   "outputs": [],
   "source": [
    "s_eps_r, s_length, s_hubb_u, s_timestep, s_tau = sympy.symbols(r'\\epsilon_{R}, L, u, t, \\tau')"
   ]
  },
  {
   "cell_type": "markdown",
   "metadata": {},
   "source": [
    "First let's check the Bloq counts look correct for the Trotter step, there are two sources rotations from the interaction and hopping bloq and some direct T gates from the `TwoBitFFFT` gate."
   ]
  },
  {
   "cell_type": "code",
   "execution_count": null,
   "metadata": {},
   "outputs": [],
   "source": [
    "from qualtran.resource_counting.t_counts_from_sigma import t_counts_from_sigma\n",
    "\n",
    "s_trotter_step = build_plaq_unitary_second_order_suzuki(\n",
    "    s_length, s_hubb_u, s_timestep, eps=s_eps_r, hubb_t=s_tau\n",
    ")\n",
    "t_counts = t_counts_from_sigma(s_trotter_step.call_graph(generalizer=catch_rotations)[1])\n",
    "t_counts"
   ]
  },
  {
   "cell_type": "code",
   "execution_count": null,
   "metadata": {},
   "outputs": [],
   "source": [
    "# check the symbolic counts match the expected counts\n",
    "t_counts_orig = t_counts_from_sigma(trotter_step.call_graph(generalizer=catch_rotations)[1])\n",
    "# for some reason substituting both at once leads to a precision error\n",
    "t_counts = t_counts.evalf(subs={s_eps_r: eps_single_rot})\n",
    "t_counts_symb = t_counts.evalf(subs={s_length: length})\n",
    "assert t_counts_orig == t_counts_symb"
   ]
  },
  {
   "cell_type": "markdown",
   "metadata": {},
   "source": [
    "Now let's reproduce the expression for the total cost"
   ]
  },
  {
   "cell_type": "code",
   "execution_count": null,
   "metadata": {},
   "outputs": [],
   "source": [
    "s_delta_ht, s_delta_ts, s_delta_pe, s_p, s_xi = sympy.symbols(\n",
    "    '\\Delta_{HT}, \\Delta_{TS}, \\Delta_{PE}, p, xi'\n",
    ")\n",
    "s_n_rot, s_n_t, s_n_pe = sympy.symbols('N_R, N_T, N_PE')\n",
    "s_timestep = (s_delta_ts / s_xi) ** (1 / s_p)\n",
    "s_eps_r = (s_delta_ht * s_timestep) / s_n_rot\n",
    "s_n_pe = 0.76 * sympy.pi / (s_delta_pe * s_timestep)\n",
    "s_trotter_step = build_plaq_unitary_second_order_suzuki(\n",
    "    s_length, s_hubb_u, s_timestep, eps=s_eps_r, hubb_t=s_tau\n",
    ")\n",
    "# just use this cost in lieu of a QPE bloq\n",
    "# See: https://github.com/quantumlib/Qualtran/issues/932 this should be replaced by a real bloq.\n",
    "t_counts = s_n_pe * t_counts_from_sigma(s_trotter_step.call_graph(generalizer=catch_rotations)[1])\n",
    "t_counts"
   ]
  },
  {
   "cell_type": "code",
   "execution_count": null,
   "metadata": {},
   "outputs": [],
   "source": [
    "symb_t_count = t_counts.evalf(\n",
    "    subs={\n",
    "        s_length: length,\n",
    "        s_delta_ht: delta_ht,\n",
    "        s_delta_pe: delta_pe,\n",
    "        s_delta_ts: delta_ts,\n",
    "        s_xi: xi_bound,\n",
    "        s_n_rot: n_rot,\n",
    "    }\n",
    ")\n",
    "symb_t_count = symb_t_count.evalf(subs={s_p: prod_ord})\n",
    "tot_t_count = qpe_t_count(delta_pe, delta_ts, delta_ht, n_rot, n_t, xi_bound, prod_ord)\n",
    "assert int(symb_t_count) == int(tot_t_count)"
   ]
  }
 ],
 "metadata": {
  "kernelspec": {
   "display_name": "qualtran",
   "language": "python",
   "name": "python3"
  },
  "language_info": {
   "codemirror_mode": {
    "name": "ipython",
    "version": 3
   },
   "file_extension": ".py",
   "mimetype": "text/x-python",
   "name": "python",
   "nbconvert_exporter": "python",
   "pygments_lexer": "ipython3",
   "version": "3.11.7"
  }
 },
 "nbformat": 4,
 "nbformat_minor": 2
}
