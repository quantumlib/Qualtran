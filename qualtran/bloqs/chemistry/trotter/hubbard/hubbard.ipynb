{
 "cells": [
  {
   "cell_type": "markdown",
   "id": "e1362eaa",
   "metadata": {
    "cq.autogen": "title_cell"
   },
   "source": [
    "# Trotterized Hubbard\n",
    "\n",
    "Bloqs implementing Trotterized unitary evolution under the Hubbard Hamiltonian.\n",
    "\n",
    "The Hubbard model is given as a sum of two terms\n",
    "\n",
    "$$\n",
    "H = H_h + H_I\n",
    "$$\n",
    "\n",
    "where the hopping hamiltonian is given as \n",
    "$$\n",
    "H_h = -\\tau \\sum_{\\langle p, q\\rangle, \\sigma} \n",
    "    \\left(a_{p\\sigma}^{\\dagger} a_{q\\sigma} + \\mathrm{h.c.} \\right)\n",
    "$$\n",
    "where the sum is over nearest neighbour lattice sites (under periodic boundary conditions).\n",
    "\n",
    "Following the [reference](https://arxiv.org/abs/2012.09238) we assume the\n",
    "shifted form of the interacting Hamiltonian:\n",
    "$$\n",
    "H_I = \\frac{u}{4} \\sum_{p} z_{p\\uparrow}z_{p\\downarrow}\n",
    "$$\n",
    "where $z_{p\\sigma} = (2 n_{p\\sigma} - 1)$.\n",
    "\n",
    "\n",
    "For Trotterization we assume the plaquette splitting from the\n",
    "[reference](https://arxiv.org/abs/2012.09238).\n",
    "The plaquette splitting rewrites $H_h$ as a sum of $H_h^p$ and $H_h^g$ (for pink and gold\n",
    "respectively) which when combined tile the entire lattice. Each plaquette\n",
    "contains four sites and paritions the lattice such that each edge of the lattice\n",
    "belongs to a single plaquette. Each term within a grouping commutes so that the\n",
    "unitary can be be implemented as\n",
    "$$\n",
    "e^{i H_h^{x}} = \\prod_{k\\sigma} e^{i H_h^{x(k,\\sigma)}}\n",
    "$$\n",
    "without further trotter error."
   ]
  },
  {
   "cell_type": "code",
   "execution_count": null,
   "id": "f2f93e40",
   "metadata": {
    "cq.autogen": "top_imports"
   },
   "outputs": [],
   "source": [
    "from qualtran import Bloq, CompositeBloq, BloqBuilder, Signature, Register\n",
    "from qualtran import QBit, QInt, QUInt, QAny\n",
    "from qualtran.drawing import show_bloq, show_call_graph, show_counts_sigma\n",
    "from typing import *\n",
    "import numpy as np\n",
    "import sympy\n",
    "import cirq"
   ]
  },
  {
   "cell_type": "markdown",
   "id": "3e7aff24",
   "metadata": {
    "cq.autogen": "HoppingTile.bloq_doc.md"
   },
   "source": [
    "## `HoppingTile`\n",
    "Bloq implementing a \"tile\" of the one-body hopping unitary.\n",
    "\n",
    "Implements the unitary\n",
    "$$\n",
    "e^{i H_h^{x}} = \\prod_{k\\sigma} e^{i t H_h^{x(k,\\sigma)}}\n",
    "$$\n",
    "for a particular choise of of plaquette hamiltonian $H_h^x$, where $x$ = pink or gold.\n",
    "\n",
    "#### Parameters\n",
    " - `length`: Lattice side length L.\n",
    " - `angle`: The prefactor scaling the Hopping hamiltonian in the unitary (`t` above). This should contain any relevant prefactors including the time step and any splitting coefficients.\n",
    " - `tau`: The Hopping hamiltonian parameter. Typically the hubbard model is defined relative to $\\tau$ so it's defaulted to 1.\n",
    " - `eps`: The precision of the single qubit rotations.\n",
    " - `pink`: The colour of the plaquette. \n",
    "\n",
    "#### Registers\n",
    " - `system`: The system register of size 2 `length`. \n",
    "\n",
    "#### References\n",
    " - [Early fault-tolerant simulations of the Hubbard model](https://arxiv.org/abs/2012.09238). see Eq. 21 and App E.\n"
   ]
  },
  {
   "cell_type": "code",
   "execution_count": null,
   "id": "c9c2e7a7",
   "metadata": {
    "cq.autogen": "HoppingTile.bloq_doc.py"
   },
   "outputs": [],
   "source": [
    "from qualtran.bloqs.chemistry.trotter.hubbard.hopping import HoppingTile"
   ]
  },
  {
   "cell_type": "markdown",
   "id": "e9b0bec2",
   "metadata": {
    "cq.autogen": "HoppingTile.example_instances.md"
   },
   "source": [
    "### Example Instances"
   ]
  },
  {
   "cell_type": "code",
   "execution_count": null,
   "id": "b9ec98eb",
   "metadata": {
    "cq.autogen": "HoppingTile.hopping_tile"
   },
   "outputs": [],
   "source": [
    "length = 8\n",
    "angle = 0.5\n",
    "hopping_tile = HoppingTile(length, angle)"
   ]
  },
  {
   "cell_type": "markdown",
   "id": "9cbcd20d",
   "metadata": {
    "cq.autogen": "HoppingTile.graphical_signature.md"
   },
   "source": [
    "#### Graphical Signature"
   ]
  },
  {
   "cell_type": "code",
   "execution_count": null,
   "id": "367dbd6d",
   "metadata": {
    "cq.autogen": "HoppingTile.graphical_signature.py"
   },
   "outputs": [],
   "source": [
    "from qualtran.drawing import show_bloqs\n",
    "show_bloqs([hopping_tile],\n",
    "           ['`hopping_tile`'])"
   ]
  },
  {
   "cell_type": "markdown",
   "id": "4a336787",
   "metadata": {
    "cq.autogen": "HoppingTile.call_graph.md"
   },
   "source": [
    "### Call Graph"
   ]
  },
  {
   "cell_type": "code",
   "execution_count": null,
   "id": "a743762b",
   "metadata": {
    "cq.autogen": "HoppingTile.call_graph.py"
   },
   "outputs": [],
   "source": [
    "from qualtran.resource_counting.generalizers import ignore_split_join\n",
    "hopping_tile_g, hopping_tile_sigma = hopping_tile.call_graph(max_depth=1, generalizer=ignore_split_join)\n",
    "show_call_graph(hopping_tile_g)\n",
    "show_counts_sigma(hopping_tile_sigma)"
   ]
  },
  {
   "cell_type": "markdown",
   "id": "d6238e40",
   "metadata": {
    "cq.autogen": "HoppingPlaquette.bloq_doc.md"
   },
   "source": [
    "## `HoppingPlaquette`\n",
    "A bloq implementing a single plaquette unitary.\n",
    "\n",
    "The bloq implements\n",
    "$$\n",
    "    e^{i \\kappa R_\\mathrm{plaq}}\n",
    "$$\n",
    "where $\\tau R^{k\\sigma}_\\mathrm{plaq} = H_h^{x(k,\\sigma)}$, i.e. R is\n",
    "non-zero only in the subploq relevant for the particular indexed plaquette.\n",
    "\n",
    "The plaquette operator is given by\n",
    "$$\n",
    "    \\sum_{i,j} [R_{\\mathrm{plaq}}]_{i,j} a_{i\\sigma}^\\dagger a_{j\\sigma}\n",
    "$$\n",
    "where the non-zero sub-bloq of $R_{\\mathrm{plaq}}$ is\n",
    "\n",
    "$$\n",
    "    R_{\\mathrm{plaq}} =\n",
    "    \\begin{bmatrix}\n",
    "        0 & 1 & 0 & 1 \\\\\n",
    "        1 & 0 & 1 & 0 \\\\\n",
    "        0 & 1 & 0 & 1 \\\\\n",
    "        1 & 0 & 1 & 0\n",
    "    \\end{bmatrix}\n",
    "$$\n",
    "\n",
    "#### Parameters\n",
    " - `kappa`: The scalar prefactor appearing in the definition of the unitary. Usually a combination of the timestep and the hopping parameter $\\tau$.\n",
    " - `eps`: The precision of the single qubit rotations. \n",
    "\n",
    "#### Registers\n",
    " - `qubits`: A register of four qubits this unitary should act on. \n",
    "\n",
    "#### References\n",
    " - [Early fault-tolerant simulations of the Hubbard model](https://arxiv.org/abs/2012.09238). page 13 Eq. E4 and E5 (Appendix E)\n"
   ]
  },
  {
   "cell_type": "code",
   "execution_count": null,
   "id": "e092c287",
   "metadata": {
    "cq.autogen": "HoppingPlaquette.bloq_doc.py"
   },
   "outputs": [],
   "source": [
    "from qualtran.bloqs.chemistry.trotter.hubbard.hopping import HoppingPlaquette"
   ]
  },
  {
   "cell_type": "markdown",
   "id": "4016b7a7",
   "metadata": {
    "cq.autogen": "HoppingPlaquette.example_instances.md"
   },
   "source": [
    "### Example Instances"
   ]
  },
  {
   "cell_type": "code",
   "execution_count": null,
   "id": "03cd543d",
   "metadata": {
    "cq.autogen": "HoppingPlaquette.plaquette"
   },
   "outputs": [],
   "source": [
    "length = 8\n",
    "angle = 0.15\n",
    "plaquette = HoppingPlaquette(length, angle)"
   ]
  },
  {
   "cell_type": "markdown",
   "id": "da09068f",
   "metadata": {
    "cq.autogen": "HoppingPlaquette.graphical_signature.md"
   },
   "source": [
    "#### Graphical Signature"
   ]
  },
  {
   "cell_type": "code",
   "execution_count": null,
   "id": "d433f4ed",
   "metadata": {
    "cq.autogen": "HoppingPlaquette.graphical_signature.py"
   },
   "outputs": [],
   "source": [
    "from qualtran.drawing import show_bloqs\n",
    "show_bloqs([plaquette],\n",
    "           ['`plaquette`'])"
   ]
  },
  {
   "cell_type": "markdown",
   "id": "7a3ebc1c",
   "metadata": {
    "cq.autogen": "HoppingPlaquette.call_graph.md"
   },
   "source": [
    "### Call Graph"
   ]
  },
  {
   "cell_type": "code",
   "execution_count": null,
   "id": "ba578fcc",
   "metadata": {
    "cq.autogen": "HoppingPlaquette.call_graph.py"
   },
   "outputs": [],
   "source": [
    "from qualtran.resource_counting.generalizers import ignore_split_join\n",
    "plaquette_g, plaquette_sigma = plaquette.call_graph(max_depth=1, generalizer=ignore_split_join)\n",
    "show_call_graph(plaquette_g)\n",
    "show_counts_sigma(plaquette_sigma)"
   ]
  },
  {
   "cell_type": "markdown",
   "id": "b99592ea",
   "metadata": {
    "cq.autogen": "Interaction.bloq_doc.md"
   },
   "source": [
    "## `Interaction`\n",
    "Bloq implementing the hubbard U part of the hamiltonian.\n",
    "\n",
    "Specifically:\n",
    "$$\n",
    "    U_I = e^{i t H_I}\n",
    "$$\n",
    "which can be implemented using equal angle single-qubit Z rotations.\n",
    "\n",
    "#### Parameters\n",
    " - `length`: Lattice length $L$.\n",
    " - `angle`: The prefactor scaling the Hopping hamiltonian in the unitary (`t` above). This should contain any relevant prefactors including the time step and any splitting coefficients.\n",
    " - `hubb_u`: The hubbard $U$ parameter.\n",
    " - `eps`: The precision of the single qubit rotations. \n",
    "\n",
    "#### Registers\n",
    " - `system`: The system register of size 2 `length`. \n",
    "\n",
    "#### References\n",
    " - [Early fault-tolerant simulations of the Hubbard model](https://arxiv.org/abs/2012.09238). Eq. 6 page 2 and page 13 paragraph 1.\n"
   ]
  },
  {
   "cell_type": "code",
   "execution_count": null,
   "id": "99538cc0",
   "metadata": {
    "cq.autogen": "Interaction.bloq_doc.py"
   },
   "outputs": [],
   "source": [
    "from qualtran.bloqs.chemistry.trotter.hubbard.interaction import Interaction"
   ]
  },
  {
   "cell_type": "markdown",
   "id": "a0237960",
   "metadata": {
    "cq.autogen": "Interaction.example_instances.md"
   },
   "source": [
    "### Example Instances"
   ]
  },
  {
   "cell_type": "code",
   "execution_count": null,
   "id": "f8c459ce",
   "metadata": {
    "cq.autogen": "Interaction.interaction"
   },
   "outputs": [],
   "source": [
    "length = 8\n",
    "angle = 0.5\n",
    "hubb_u = 4.0\n",
    "interaction = Interaction(length, angle, hubb_u)"
   ]
  },
  {
   "cell_type": "markdown",
   "id": "3514c727",
   "metadata": {
    "cq.autogen": "Interaction.graphical_signature.md"
   },
   "source": [
    "#### Graphical Signature"
   ]
  },
  {
   "cell_type": "code",
   "execution_count": null,
   "id": "79203ad1",
   "metadata": {
    "cq.autogen": "Interaction.graphical_signature.py"
   },
   "outputs": [],
   "source": [
    "from qualtran.drawing import show_bloqs\n",
    "show_bloqs([interaction],\n",
    "           ['`interaction`'])"
   ]
  },
  {
   "cell_type": "markdown",
   "id": "d0499611",
   "metadata": {
    "cq.autogen": "Interaction.call_graph.md"
   },
   "source": [
    "### Call Graph"
   ]
  },
  {
   "cell_type": "code",
   "execution_count": null,
   "id": "7fcbb401",
   "metadata": {
    "cq.autogen": "Interaction.call_graph.py"
   },
   "outputs": [],
   "source": [
    "from qualtran.resource_counting.generalizers import ignore_split_join\n",
    "interaction_g, interaction_sigma = interaction.call_graph(max_depth=1, generalizer=ignore_split_join)\n",
    "show_call_graph(interaction_g)\n",
    "show_counts_sigma(interaction_sigma)"
   ]
  },
  {
   "cell_type": "markdown",
   "id": "0c78eac2",
   "metadata": {
    "cq.autogen": "HoppingTileHWP.bloq_doc.md"
   },
   "source": [
    "## `HoppingTileHWP`\n",
    "Bloq implementing a \"tile\" of the one-body hopping unitary using Hamming weight phasing.\n",
    "\n",
    "Implements the unitary\n",
    "$$\n",
    "e^{i H_h^{x}} = \\prod_{k\\sigma} e^{i t H_h^{x(k,\\sigma)}}\n",
    "$$\n",
    "for a particular choise of of plaquette hamiltonian $H_h^x$, where $x$ = pink or gold.\n",
    "\n",
    "Each plaquette Hamiltonian can be split into $L^2/4$ commuting terms. Each\n",
    "term can be implemented using the 4-qubit HoppingPlaquette above. The\n",
    "HoppingPlaquette bloq contains 2 arbitrary rotations which are flanked by Clifford operations.\n",
    "All of the rotations within a HoppingTile have the same angle so we can use\n",
    "HammingWeightPhaseing to reduce the number of T gates that need to be\n",
    "synthesized. Accounting for spin there are then $2 \\times 2 \\times L^2/4$\n",
    "arbitrary rotations in each Tile, but only  $L^2/2$ of them can be applied\n",
    "at the same time due to the $e^{iXX} e^{iYY}$ circuit not permitting parallel $R_z$ gates.\n",
    "\n",
    "Unlike in the HoppingTile implementation where we can neatly factor\n",
    "everything into sub-bloqs, here we would need to apply any clifford and F\n",
    "gates first in parallel then bulk apply the rotations in parallel using\n",
    "HammingWeightPhasing and then apply another layer of clifford and F gates.\n",
    "\n",
    "#### Parameters\n",
    " - `length`: Lattice side length L.\n",
    " - `angle`: The prefactor scaling the Hopping hamiltonian in the unitary (`t` above). This should contain any relevant prefactors including the time step and any splitting coefficients.\n",
    " - `tau`: The Hopping hamiltonian parameter. Typically the hubbard model is defined relative to $\\tau$ so it's defaulted to 1.\n",
    " - `eps`: The precision of the single qubit rotations.\n",
    " - `pink`: The colour of the plaquette. \n",
    "\n",
    "#### Registers\n",
    " - `system`: The system register of size 2 `length`. \n",
    "\n",
    "#### References\n",
    " - [Early fault-tolerant simulations of the Hubbard model](     https://arxiv.org/abs/2012.09238) see Eq. 21 and App E.\n"
   ]
  },
  {
   "cell_type": "code",
   "execution_count": null,
   "id": "ef1c708d",
   "metadata": {
    "cq.autogen": "HoppingTileHWP.bloq_doc.py"
   },
   "outputs": [],
   "source": [
    "from qualtran.bloqs.chemistry.trotter.hubbard.hopping import HoppingTileHWP"
   ]
  },
  {
   "cell_type": "markdown",
   "id": "c0a98207",
   "metadata": {
    "cq.autogen": "HoppingTileHWP.example_instances.md"
   },
   "source": [
    "### Example Instances"
   ]
  },
  {
   "cell_type": "code",
   "execution_count": null,
   "id": "e37d83bc",
   "metadata": {
    "cq.autogen": "HoppingTileHWP.hopping_tile_hwp"
   },
   "outputs": [],
   "source": [
    "length = 8\n",
    "angle = 0.15\n",
    "hopping_tile_hwp = HoppingTileHWP(length, angle)"
   ]
  },
  {
   "cell_type": "markdown",
   "id": "f3dd8f1d",
   "metadata": {
    "cq.autogen": "HoppingTileHWP.graphical_signature.md"
   },
   "source": [
    "#### Graphical Signature"
   ]
  },
  {
   "cell_type": "code",
   "execution_count": null,
   "id": "ee96d17f",
   "metadata": {
    "cq.autogen": "HoppingTileHWP.graphical_signature.py"
   },
   "outputs": [],
   "source": [
    "from qualtran.drawing import show_bloqs\n",
    "show_bloqs([hopping_tile_hwp],\n",
    "           ['`hopping_tile_hwp`'])"
   ]
  },
  {
   "cell_type": "markdown",
   "id": "d3a484f4",
   "metadata": {
    "cq.autogen": "HoppingTileHWP.call_graph.md"
   },
   "source": [
    "### Call Graph"
   ]
  },
  {
   "cell_type": "code",
   "execution_count": null,
   "id": "a6c1a69a",
   "metadata": {
    "cq.autogen": "HoppingTileHWP.call_graph.py"
   },
   "outputs": [],
   "source": [
    "from qualtran.resource_counting.generalizers import ignore_split_join\n",
    "hopping_tile_hwp_g, hopping_tile_hwp_sigma = hopping_tile_hwp.call_graph(max_depth=1, generalizer=ignore_split_join)\n",
    "show_call_graph(hopping_tile_hwp_g)\n",
    "show_counts_sigma(hopping_tile_hwp_sigma)"
   ]
  },
  {
   "cell_type": "markdown",
   "id": "f6ae394e",
   "metadata": {
    "cq.autogen": "InteractionHWP.bloq_doc.md"
   },
   "source": [
    "## `InteractionHWP`\n",
    "Bloq implementing the hubbard U part of the hamiltonian using Hamming weight phasing.\n",
    "\n",
    "Specifically:\n",
    "$$\n",
    "    U_I = e^{i t H_I}\n",
    "$$\n",
    "which can be implemented using equal angle single-qubit Z rotations.\n",
    "\n",
    "Each interaction term can be implemented using a e^{iZZ} gate, which\n",
    "decomposes into a single Rz gate flanked by cliffords. There are L^2\n",
    "equal angle rotations in total all of which may be applied in parallel using HWP.\n",
    "\n",
    "#### Parameters\n",
    " - `length`: Lattice length L.\n",
    " - `angle`: The rotation angle for unitary.\n",
    " - `hubb_u`: The hubbard U parameter.\n",
    " - `eps`: The precision for single qubit rotations. \n",
    "\n",
    "#### Registers\n",
    " - `system`: The system register of size 2 `length`. \n",
    "\n",
    "#### References\n",
    " - [Early fault-tolerant simulations of the Hubbard model](     https://arxiv.org/abs/2012.09238) Eq. page 13 paragraph 1, and page     14 paragraph 3 right column. The apply 2 batches of $L^2/2$ rotations.\n"
   ]
  },
  {
   "cell_type": "code",
   "execution_count": null,
   "id": "dc032232",
   "metadata": {
    "cq.autogen": "InteractionHWP.bloq_doc.py"
   },
   "outputs": [],
   "source": [
    "from qualtran.bloqs.chemistry.trotter.hubbard.interaction import InteractionHWP"
   ]
  },
  {
   "cell_type": "markdown",
   "id": "14a37bd0",
   "metadata": {
    "cq.autogen": "InteractionHWP.example_instances.md"
   },
   "source": [
    "### Example Instances"
   ]
  },
  {
   "cell_type": "code",
   "execution_count": null,
   "id": "c8e4267a",
   "metadata": {
    "cq.autogen": "InteractionHWP.interaction_hwp"
   },
   "outputs": [],
   "source": [
    "length = 8\n",
    "angle = 0.5\n",
    "hubb_u = 4.0\n",
    "interaction_hwp = InteractionHWP(length, angle, hubb_u)"
   ]
  },
  {
   "cell_type": "markdown",
   "id": "e27d9884",
   "metadata": {
    "cq.autogen": "InteractionHWP.graphical_signature.md"
   },
   "source": [
    "#### Graphical Signature"
   ]
  },
  {
   "cell_type": "code",
   "execution_count": null,
   "id": "1205e7b1",
   "metadata": {
    "cq.autogen": "InteractionHWP.graphical_signature.py"
   },
   "outputs": [],
   "source": [
    "from qualtran.drawing import show_bloqs\n",
    "show_bloqs([interaction_hwp],\n",
    "           ['`interaction_hwp`'])"
   ]
  },
  {
   "cell_type": "markdown",
   "id": "117c2246",
   "metadata": {
    "cq.autogen": "InteractionHWP.call_graph.md"
   },
   "source": [
    "### Call Graph"
   ]
  },
  {
   "cell_type": "code",
   "execution_count": null,
   "id": "18f68540",
   "metadata": {
    "cq.autogen": "InteractionHWP.call_graph.py"
   },
   "outputs": [],
   "source": [
    "from qualtran.resource_counting.generalizers import ignore_split_join\n",
    "interaction_hwp_g, interaction_hwp_sigma = interaction_hwp.call_graph(max_depth=1, generalizer=ignore_split_join)\n",
    "show_call_graph(interaction_hwp_g)\n",
    "show_counts_sigma(interaction_hwp_sigma)"
   ]
  }
 ],
 "metadata": {
  "kernelspec": {
   "display_name": "Python 3",
   "language": "python",
   "name": "python3"
  },
  "language_info": {
   "name": "python"
  }
 },
 "nbformat": 4,
 "nbformat_minor": 5
}
