{
 "cells": [
  {
   "cell_type": "markdown",
   "id": "1e593ef8",
   "metadata": {
    "cq.autogen": "title_cell"
   },
   "source": [
    "# Trotterized Hubbard\n",
    "\n",
    "Bloqs implementing Trotterized unitary evolution under the Hubbard Hamiltonian.\n",
    "\n",
    "The Hubbard model is given as a sum of two terms\n",
    "\n",
    "$$\n",
    "H = H_h + H_I\n",
    "$$\n",
    "\n",
    "where the hopping hamiltonian is given as \n",
    "$$\n",
    "H_h = -\\tau \\sum_{\\langle p, q\\rangle, \\sigma} \n",
    "    \\left(a_{p\\sigma}^{\\dagger} a_{q\\sigma} + \\mathrm{h.c.} \\right)\n",
    "$$\n",
    "where the sum is over nearest neighbour lattice sites (under periodic boundary conditions).\n",
    "\n",
    "Following the [reference](https://arxiv.org/abs/2012.09238) we assume the\n",
    "shifted form of the interacting Hamiltonian:\n",
    "$$\n",
    "H_I = \\frac{u}{4} \\sum_{p} z_{p\\uparrow}z_{p\\downarrow}\n",
    "$$\n",
    "where $z_{p\\sigma} = (2 n_{p\\sigma} - 1)$.\n",
    "\n",
    "\n",
    "For Trotterization we assume the plaquette splitting from the \n",
    "[reference](https://arxiv.org/abs/2012.09238).\n",
    "The plaquette splitting rewrites $H_h$ as a sum of $H_h^p$ and $H_h^g$ (for pink and gold \n",
    "respectively) which when combined tile the entire lattice. Each plaquette\n",
    "contains four sites and paritions the lattice such that each edge of the lattice\n",
    "belongs to a single plaquette. Each term within a grouping commutes so that the\n",
    "unitary can be be implemented as\n",
    "$$\n",
    "e^{i H_h^{x}} = \\prod_{k\\sigma} e^{i H_h^{x(k,\\sigma)}}\n",
    "$$\n",
    "without further trotter error."
   ]
  },
  {
   "cell_type": "code",
   "execution_count": null,
   "id": "05a9568d",
   "metadata": {
    "cq.autogen": "top_imports"
   },
   "outputs": [],
   "source": [
    "from qualtran import Bloq, CompositeBloq, BloqBuilder, Signature, Register\n",
    "from qualtran.drawing import show_bloq, show_call_graph, show_counts_sigma\n",
    "from typing import *\n",
    "import numpy as np\n",
    "import sympy\n",
    "import cirq"
   ]
  },
  {
   "cell_type": "markdown",
   "id": "f77ffe9c",
   "metadata": {
    "cq.autogen": "HoppingTile.bloq_doc.md"
   },
   "source": [
    "## `HoppingTile`\n",
    "Bloq implementing a \"tile\" of the one-body hopping unitary.\n",
    "\n",
    "Implements the unitary\n",
    "$$\n",
    "e^{i H_h^{x}} = \\prod_{k\\sigma} e^{i t H_h^{x(k,\\sigma)}}\n",
    "$$\n",
    "for a particular choise of of plaquette hamiltonian $H_h^x$, where $x$ = pink or gold.\n",
    "\n",
    "#### Parameters\n",
    " - `length`: Lattice side length L.\n",
    " - `angle`: The prefactor scaling the Hopping hamiltonian in the unitary (`t` above). This should contain any relevant prefactors including the time step and any splitting coefficients.\n",
    " - `tau`: The Hopping hamiltonian parameter. Typically the hubbard model is defined relative to $\\tau$ so it's defaulted to 1.\n",
    " - `eps`: The precision of the single qubit rotations.\n",
    " - `pink`: The colour of the plaquette. \n",
    "\n",
    "#### Registers\n",
    " - `system`: The system register of size 2 `length`. \n",
    "\n",
    "#### References\n",
    "[Early fault-tolerant simulations of the Hubbard model](\n",
    "    https://arxiv.org/abs/2012.09238) see Eq. 21 and App E.\n"
   ]
  },
  {
   "cell_type": "code",
   "execution_count": null,
   "id": "85e250cb",
   "metadata": {
    "cq.autogen": "HoppingTile.bloq_doc.py"
   },
   "outputs": [],
   "source": [
    "from qualtran.bloqs.chemistry.trotter.hubbard.hopping import HoppingTile"
   ]
  },
  {
   "cell_type": "markdown",
   "id": "b6d95ae1",
   "metadata": {
    "cq.autogen": "HoppingTile.example_instances.md"
   },
   "source": [
    "### Example Instances"
   ]
  },
  {
   "cell_type": "code",
   "execution_count": null,
   "id": "e48f160a",
   "metadata": {
    "cq.autogen": "HoppingTile.hopping_tile"
   },
   "outputs": [],
   "source": [
    "length = 8\n",
    "angle = 0.5\n",
    "hopping_tile = HoppingTile(length, angle)"
   ]
  },
  {
   "cell_type": "markdown",
   "id": "672adf17",
   "metadata": {
    "cq.autogen": "HoppingTile.graphical_signature.md"
   },
   "source": [
    "#### Graphical Signature"
   ]
  },
  {
   "cell_type": "code",
   "execution_count": null,
   "id": "467e12a7",
   "metadata": {
    "cq.autogen": "HoppingTile.graphical_signature.py"
   },
   "outputs": [],
   "source": [
    "from qualtran.drawing import show_bloqs\n",
    "show_bloqs([hopping_tile],\n",
    "           ['`hopping_tile`'])"
   ]
  },
  {
   "cell_type": "markdown",
   "id": "7fbdb423",
   "metadata": {
    "cq.autogen": "HoppingTile.call_graph.md"
   },
   "source": [
    "### Call Graph"
   ]
  },
  {
   "cell_type": "code",
   "execution_count": null,
   "id": "499da704",
   "metadata": {
    "cq.autogen": "HoppingTile.call_graph.py"
   },
   "outputs": [],
   "source": [
    "hopping_tile_g, hopping_tile_sigma = hopping_tile.call_graph()\n",
    "show_call_graph(hopping_tile_g)\n",
    "show_counts_sigma(hopping_tile_sigma)"
   ]
  },
  {
   "cell_type": "markdown",
   "id": "a6d226f9",
   "metadata": {
    "cq.autogen": "Interaction.bloq_doc.md"
   },
   "source": [
    "## `Interaction`\n",
    "Bloq implementing the hubbard U part of the hamiltonian.\n",
    "\n",
    "Specifically:\n",
    "$$\n",
    "    U_I = e^{i t H_I}\n",
    "$$\n",
    "which can be implemented using equal angle single-qubit Z rotations.\n",
    "\n",
    "#### Parameters\n",
    " - `length`: Lattice length L. \n",
    "\n",
    "#### Registers\n",
    " - `system`: The system register of size 2 `length`. \n",
    "\n",
    "#### References\n",
    "[Early fault-tolerant simulations of the Hubbard model](\n",
    "    https://arxiv.org/abs/2012.09238) Eq. 6 page 2 and page 13 paragraph 1.\n"
   ]
  },
  {
   "cell_type": "code",
   "execution_count": null,
   "id": "f59ebbcf",
   "metadata": {
    "cq.autogen": "Interaction.bloq_doc.py"
   },
   "outputs": [],
   "source": [
    "from qualtran.bloqs.chemistry.trotter.hubbard.interaction import Interaction"
   ]
  },
  {
   "cell_type": "markdown",
   "id": "abbc8d48",
   "metadata": {
    "cq.autogen": "Interaction.example_instances.md"
   },
   "source": [
    "### Example Instances"
   ]
  },
  {
   "cell_type": "code",
   "execution_count": null,
   "id": "28c8162e",
   "metadata": {
    "cq.autogen": "Interaction.interaction"
   },
   "outputs": [],
   "source": [
    "length = 8\n",
    "angle = 0.5\n",
    "interaction = Interaction(length, angle)"
   ]
  },
  {
   "cell_type": "markdown",
   "id": "1eb36835",
   "metadata": {
    "cq.autogen": "Interaction.graphical_signature.md"
   },
   "source": [
    "#### Graphical Signature"
   ]
  },
  {
   "cell_type": "code",
   "execution_count": null,
   "id": "8a6eba22",
   "metadata": {
    "cq.autogen": "Interaction.graphical_signature.py"
   },
   "outputs": [],
   "source": [
    "from qualtran.drawing import show_bloqs\n",
    "show_bloqs([interaction],\n",
    "           ['`interaction`'])"
   ]
  },
  {
   "cell_type": "markdown",
   "id": "e4cb2793",
   "metadata": {
    "cq.autogen": "Interaction.call_graph.md"
   },
   "source": [
    "### Call Graph"
   ]
  },
  {
   "cell_type": "code",
   "execution_count": null,
   "id": "4efb569f",
   "metadata": {
    "cq.autogen": "Interaction.call_graph.py"
   },
   "outputs": [],
   "source": [
    "interaction_g, interaction_sigma = interaction.call_graph()\n",
    "show_call_graph(interaction_g)\n",
    "show_counts_sigma(interaction_sigma)"
   ]
  }
 ],
 "metadata": {
  "kernelspec": {
   "display_name": "Python 3",
   "language": "python",
   "name": "python3"
  },
  "language_info": {
   "codemirror_mode": {
    "name": "ipython",
    "version": 3
   },
   "file_extension": ".py",
   "mimetype": "text/x-python",
   "name": "python",
   "nbconvert_exporter": "python",
   "pygments_lexer": "ipython3",
   "version": "3.11.7"
  }
 },
 "nbformat": 4,
 "nbformat_minor": 5
}
