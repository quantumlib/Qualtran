{
 "cells": [
  {
   "cell_type": "markdown",
   "id": "ad96f2d3",
   "metadata": {
    "cq.autogen": "title_cell"
   },
   "source": [
    "# Ising Trotter Bloqs\n",
    "\n",
    "Bloqs implementing Trotter steps for the 1D Ising model under periodic boundary conditions. \n",
    "\n",
    "The Ising model is given as\n",
    "$$\n",
    "H = -J\\sum_{k=0}^{L-1}\\sigma_{k}^{Z}\\sigma_{(k+1)}^{Z} - \\Gamma\\sum_{k=0}^{L-1}\\sigma_{k}^{X}\n",
    "$$\n",
    "\n",
    "where $J$ and $\\Gamma$ are coupling parameters."
   ]
  },
  {
   "cell_type": "code",
   "execution_count": null,
   "id": "2aac1d54",
   "metadata": {
    "cq.autogen": "top_imports"
   },
   "outputs": [],
   "source": [
    "from qualtran import Bloq, CompositeBloq, BloqBuilder, Signature, Register\n",
    "from qualtran import QBit, QInt, QUInt, QAny\n",
    "from qualtran.drawing import show_bloq, show_call_graph, show_counts_sigma\n",
    "from typing import *\n",
    "import numpy as np\n",
    "import sympy\n",
    "import cirq"
   ]
  },
  {
   "cell_type": "markdown",
   "id": "43d04f44",
   "metadata": {
    "cq.autogen": "IsingXUnitary.bloq_doc.md"
   },
   "source": [
    "## `IsingXUnitary`\n",
    "Implents the unitary $e^{-i \\alpha H_X}$.\n",
    "\n",
    "#### Parameters\n",
    " - `nsites`: The number of lattice sites.\n",
    " - `angle`: The angle of the rotation. $\\alpha$ in the docstring.\n",
    " - `eps`: The tolerance for the rotation. \n",
    "\n",
    "#### Registers\n",
    " - `system`: The system register to apply the unitary to.\n"
   ]
  },
  {
   "cell_type": "code",
   "execution_count": null,
   "id": "d151e87f",
   "metadata": {
    "cq.autogen": "IsingXUnitary.bloq_doc.py"
   },
   "outputs": [],
   "source": [
    "from qualtran.bloqs.chemistry.trotter.ising.unitaries import IsingXUnitary"
   ]
  },
  {
   "cell_type": "markdown",
   "id": "5bcfe4b5",
   "metadata": {
    "cq.autogen": "IsingXUnitary.example_instances.md"
   },
   "source": [
    "### Example Instances"
   ]
  },
  {
   "cell_type": "code",
   "execution_count": null,
   "id": "fcef2d6d",
   "metadata": {
    "cq.autogen": "IsingXUnitary.ising_x"
   },
   "outputs": [],
   "source": [
    "nsites = 3\n",
    "j_zz = 2\n",
    "dt = 0.01\n",
    "ising_x = IsingXUnitary(nsites=nsites, angle=2 * dt * j_zz)"
   ]
  },
  {
   "cell_type": "markdown",
   "id": "19bb70ff",
   "metadata": {
    "cq.autogen": "IsingXUnitary.graphical_signature.md"
   },
   "source": [
    "#### Graphical Signature"
   ]
  },
  {
   "cell_type": "code",
   "execution_count": null,
   "id": "eaa1eeae",
   "metadata": {
    "cq.autogen": "IsingXUnitary.graphical_signature.py"
   },
   "outputs": [],
   "source": [
    "from qualtran.drawing import show_bloqs\n",
    "show_bloqs([ising_x],\n",
    "           ['`ising_x`'])"
   ]
  },
  {
   "cell_type": "markdown",
   "id": "16cc82cd",
   "metadata": {
    "cq.autogen": "IsingXUnitary.call_graph.md"
   },
   "source": [
    "### Call Graph"
   ]
  },
  {
   "cell_type": "code",
   "execution_count": null,
   "id": "296d9905",
   "metadata": {
    "cq.autogen": "IsingXUnitary.call_graph.py"
   },
   "outputs": [],
   "source": [
    "from qualtran.resource_counting.generalizers import ignore_split_join\n",
    "ising_x_g, ising_x_sigma = ising_x.call_graph(max_depth=1, generalizer=ignore_split_join)\n",
    "show_call_graph(ising_x_g)\n",
    "show_counts_sigma(ising_x_sigma)"
   ]
  },
  {
   "cell_type": "markdown",
   "id": "40962444",
   "metadata": {
    "cq.autogen": "IsingZZUnitary.bloq_doc.md"
   },
   "source": [
    "## `IsingZZUnitary`\n",
    "Implents the unitary $e^{-i \\alpha H_{ZZ}}$.\n",
    "\n",
    "#### Parameters\n",
    " - `nsites`: The number of lattice sites.\n",
    " - `angle`: The angle of the rotation. $\\alpha$ in the docstring.\n",
    " - `eps`: The tolerance for the rotation. \n",
    "\n",
    "#### Registers\n",
    " - `system`: The system register to apply the unitary to.\n"
   ]
  },
  {
   "cell_type": "code",
   "execution_count": null,
   "id": "08068c33",
   "metadata": {
    "cq.autogen": "IsingZZUnitary.bloq_doc.py"
   },
   "outputs": [],
   "source": [
    "from qualtran.bloqs.chemistry.trotter.ising.unitaries import IsingZZUnitary"
   ]
  },
  {
   "cell_type": "markdown",
   "id": "de23fed5",
   "metadata": {
    "cq.autogen": "IsingZZUnitary.example_instances.md"
   },
   "source": [
    "### Example Instances"
   ]
  },
  {
   "cell_type": "code",
   "execution_count": null,
   "id": "3d815779",
   "metadata": {
    "cq.autogen": "IsingZZUnitary.ising_zz"
   },
   "outputs": [],
   "source": [
    "nsites = 3\n",
    "j_zz = 2\n",
    "dt = 0.01\n",
    "ising_zz = IsingZZUnitary(nsites=nsites, angle=2 * dt * j_zz)"
   ]
  },
  {
   "cell_type": "markdown",
   "id": "1def9c5a",
   "metadata": {
    "cq.autogen": "IsingZZUnitary.graphical_signature.md"
   },
   "source": [
    "#### Graphical Signature"
   ]
  },
  {
   "cell_type": "code",
   "execution_count": null,
   "id": "99c71623",
   "metadata": {
    "cq.autogen": "IsingZZUnitary.graphical_signature.py"
   },
   "outputs": [],
   "source": [
    "from qualtran.drawing import show_bloqs\n",
    "show_bloqs([ising_zz],\n",
    "           ['`ising_zz`'])"
   ]
  },
  {
   "cell_type": "markdown",
   "id": "3232c32a",
   "metadata": {
    "cq.autogen": "IsingZZUnitary.call_graph.md"
   },
   "source": [
    "### Call Graph"
   ]
  },
  {
   "cell_type": "code",
   "execution_count": null,
   "id": "fae6ee4a",
   "metadata": {
    "cq.autogen": "IsingZZUnitary.call_graph.py"
   },
   "outputs": [],
   "source": [
    "from qualtran.resource_counting.generalizers import ignore_split_join\n",
    "ising_zz_g, ising_zz_sigma = ising_zz.call_graph(max_depth=1, generalizer=ignore_split_join)\n",
    "show_call_graph(ising_zz_g)\n",
    "show_counts_sigma(ising_zz_sigma)"
   ]
  }
 ],
 "metadata": {
  "kernelspec": {
   "display_name": "Python 3",
   "language": "python",
   "name": "python3"
  },
  "language_info": {
   "codemirror_mode": {
    "name": "ipython",
    "version": 3
   },
   "file_extension": ".py",
   "mimetype": "text/x-python",
   "name": "python",
   "nbconvert_exporter": "python",
   "pygments_lexer": "ipython3",
   "version": "3.11.7"
  }
 },
 "nbformat": 4,
 "nbformat_minor": 5
}
