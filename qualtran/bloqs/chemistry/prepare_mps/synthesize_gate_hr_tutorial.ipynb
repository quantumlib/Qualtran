{
 "cells": [
  {
   "cell_type": "code",
   "execution_count": null,
   "metadata": {},
   "outputs": [],
   "source": [
    "#  Copyright 2023 Google LLC\n",
    "#\n",
    "#  Licensed under the Apache License, Version 2.0 (the \"License\");\n",
    "#  you may not use this file except in compliance with the License.\n",
    "#  You may obtain a copy of the License at\n",
    "#\n",
    "#      https://www.apache.org/licenses/LICENSE-2.0\n",
    "#\n",
    "#  Unless required by applicable law or agreed to in writing, software\n",
    "#  distributed under the License is distributed on an \"AS IS\" BASIS,\n",
    "#  WITHOUT WARRANTIES OR CONDITIONS OF ANY KIND, either express or implied.\n",
    "#  See the License for the specific language governing permissions and\n",
    "#  limitations under the License."
   ]
  },
  {
   "cell_type": "markdown",
   "metadata": {},
   "source": [
    "# Gate synthesis given its columns via Householder reflections"
   ]
  },
  {
   "cell_type": "code",
   "execution_count": null,
   "metadata": {},
   "outputs": [],
   "source": [
    "from scipy.stats import unitary_group\n",
    "import numpy as np\n",
    "\n",
    "from qualtran import BloqBuilder\n",
    "from qualtran.bloqs.basic_gates import PlusState\n",
    "from qualtran.drawing import show_bloq\n",
    "from qualtran.bloqs.rotations.phase_gradient import PhaseGradientState\n",
    "from qualtran.bloqs.chemistry.prepare_mps.synthesize_gate_hr import SynthesizeGateViaHR"
   ]
  },
  {
   "cell_type": "markdown",
   "metadata": {},
   "source": [
    "This bloq implements a quantum gate $U$ given a list of its columns, which might be incomplete. It uses Householder reflections on states prepared with `StatePreparationViaRotations`.\n",
    "\n",
    "Refer to https://arxiv.org/abs/1306.3200 for the method used."
   ]
  },
  {
   "cell_type": "markdown",
   "metadata": {},
   "source": [
    "## Example of use\n",
    "\n",
    "Assume one wants to compile a `gate_bitsize` qubit gate $U$ using a rotation precision given by `phase_bitsize`."
   ]
  },
  {
   "cell_type": "code",
   "execution_count": null,
   "metadata": {},
   "outputs": [],
   "source": [
    "def getRandomUnitary (gate_bitsize):\n",
    "  U = unitary_group.rvs(2**gate_bitsize)\n",
    "  return U\n",
    "\n",
    "gate_bitsize = 2\n",
    "phase_bitsize = 3\n",
    "U = getRandomUnitary(gate_bitsize)"
   ]
  },
  {
   "cell_type": "markdown",
   "metadata": {},
   "source": [
    "## Building the Bloq\n",
    "\n",
    "The parameters the bloq receives are:\n",
    "\n",
    "  - `phase_bitsize`: number of qubits used to store the rotation angle. This determines the\n",
    "    accuracy of the results, but increases computational resources.\n",
    "  - `gate_cols`: tuple that contains the columns of the gate. In each position this tuple has to\n",
    "    contain the index of the column and the data that it stores, i.e.: ((0, (1j,0)), (1, (0,1))).\n",
    "  - `uncompute`: defaults to `False`. Wether the compiled gate is $U$ or $U^\\dagger$. If true, the\n",
    "    data in `gate_cols`: determines the rows of the matrix, and the vectors will be transposed. That\n",
    "    is, if one wants to implement $U^\\dagger$ the `gate_cols` provided must be the same as in the\n",
    "    case of $U$. This can also be used if one wants to specify the rows of $U$ instead of the\n",
    "    columns. In this case take the conjugate of the coefficients.\n",
    "  - `internal_phase_grad`: if True, an internal phase gradient is used. Otherwise the user must\n",
    "    provide one when calling the bloq. It adds the cost of generating this state to the overall cost\n",
    "    of the Bloq, thus it should be set to True only when a single gate is to be produced or if Tcost\n",
    "    is irrelevant. Defaults to False.\n",
    "  - `internal_refl_ancilla`: if True, an internal register is used for the reflection ancilla,\n",
    "    otherwise it must be provided when calling the bloq. This register indicates the probability of\n",
    "    failure when producing the unitary (more on this in the section _Unitarity and error probability_\n",
    "    ), so it can be used externally for benchmarking. Defaults to True.\n",
    "\n",
    "The data in the array `U` declared previously must be adapted to the correct format. Below is an\n",
    "example of use together with its bloq decomposition for a gate that requires both the reflection\n",
    "ancilla and a phase gradient."
   ]
  },
  {
   "cell_type": "code",
   "execution_count": null,
   "metadata": {},
   "outputs": [],
   "source": [
    "# remember to take the transpose of the gate, as the vectors specify the columns of the matrix\n",
    "gate_cols = tuple([(i, tuple(c)) for i,c in enumerate(U.T)])\n",
    "gate_compiler = SynthesizeGateViaHR(phase_bitsize=phase_bitsize,\n",
    "                                   gate_cols=gate_cols,\n",
    "                                   internal_refl_ancilla=False)\n",
    "\n",
    "show_bloq(gate_compiler)\n",
    "show_bloq(gate_compiler.decompose_bloq())"
   ]
  },
  {
   "cell_type": "markdown",
   "metadata": {},
   "source": [
    "For each column it is possible to see a reflection bloq."
   ]
  },
  {
   "cell_type": "markdown",
   "metadata": {},
   "source": [
    "## Using the bloq in a circuit\n",
    "\n",
    "Now let us show an example of how to use this bloq in a circuit, together with the tensor\n",
    "contraction of it to show that it correctly implements the desired gate."
   ]
  },
  {
   "cell_type": "code",
   "execution_count": null,
   "metadata": {},
   "outputs": [],
   "source": [
    "gate_compiler = SynthesizeGateViaHR(phase_bitsize, gate_cols, internal_phase_grad=True)\n",
    "\n",
    "bb = BloqBuilder()\n",
    "state = bb.join(np.array([bb.add(PlusState()), bb.add(PlusState())]))\n",
    "state = bb.add(gate_compiler, gate_input = state)\n",
    "circuit = bb.finalize(state=state)\n",
    "\n",
    "show_bloq(circuit)\n",
    "result = circuit.tensor_contract()\n",
    "compiled_gate = gate_compiler.tensor_contract()"
   ]
  },
  {
   "cell_type": "markdown",
   "metadata": {},
   "source": [
    "And finally a comparison with the correct results."
   ]
  },
  {
   "cell_type": "code",
   "execution_count": null,
   "metadata": {},
   "outputs": [],
   "source": [
    "def c2pol (c):\n",
    "    # round 0 to eliminate phase\n",
    "    if abs(c) < 1e-14:\n",
    "        c = 0\n",
    "    return f\"{abs(c):.3f} ∠ {np.angle(c, deg=True):06.2f}º\"\n",
    "\n",
    "def compare_gate_results (comp, original):\n",
    "    print(\"* compiled gate  ||  original gate U (coefficients in polar form):\\n\")\n",
    "    for compiled, correct in zip(comp, original):\n",
    "        print(\"  \".join([c2pol(c) for c in compiled]) + \"    ||    \"\\\n",
    "            + \"  \".join([c2pol(c) for c in correct]))\n",
    "\n",
    "correct_result = 0.5*U@np.ones((4,1))\n",
    "correct_result = correct_result.reshape((-1))\n",
    "\n",
    "accuracy = abs(np.dot(correct_result.conj(), result))\n",
    "print(f\"* Accuracy of <++|U U_compiled|++>: {accuracy}\\n\")\n",
    "\n",
    "print(\"* Comparison of U|++> (coefficients in polar form):\\n\")\n",
    "for i, (compiled, correct) in enumerate(zip(result, correct_result)):\n",
    "    print(f\"  |{i:0{gate_bitsize}b}> result: {c2pol(compiled)}     correct: {c2pol(correct)}\")\n",
    "\n",
    "print(\"\\n\")\n",
    "compare_gate_results(compiled_gate, U)"
   ]
  },
  {
   "cell_type": "markdown",
   "metadata": {},
   "source": [
    "## Unitarity and error probability\n",
    "\n",
    "This bloq works by implementing each column separately with a reflection. These reflections rely\n",
    "on the columns of the original gate being unitary. This is the case for all quantum operators.\n",
    "Unfortunately, the columns that end up being produced are approximations to the original ones and\n",
    "are not guaranteed to be orthogonal (even though the projection decreases exponentially with\n",
    "the value of `phase_bitsize`). Because of this reason, the output of this gate ends up entangled\n",
    "with the reflection ancilla. When the reflection ancilla is projected into $|0\\rangle$ (either\n",
    "internally or externally by the user), this results in a state that is not normalized. In a real\n",
    "quantum circuit, measuring the reflection ancilla would reveal wether the application of the gate\n",
    "was successful or not.\n",
    "\n",
    "As mentioned before, this error decreases exponentially with `phase bitsize`, which does not\n",
    "contribute greatly to the T-gate count of the algorithm, so if sufficient computational resources\n",
    "are available, such as ancilla qubits and computing power for contracting the circuit, it is a good\n",
    "idea to keep this value as high as possible.\n",
    "\n",
    "Before preceding to review the failure probability and the error, let us recall that the gate\n",
    "synthesis of an unitary $U$ is done though a reflection ancilla that acts as\n",
    "$V = |0\\rangle\\langle 1| U + |1\\rangle\\langle 0| U^\\dagger$ (even though internally the bloq applies\n",
    "an $X$ gate to the reflection ancilla to transform it to\n",
    "$V = |0\\rangle\\langle 0| U + |1\\rangle\\langle 1| U^\\dagger$). If the synthesis is ideal then the\n",
    "bloq acts as $V|0_\\text{refl},0> = |0_\\text{refl}\\rangle U|0\\rangle$, but because of the\n",
    "non-orthogonality it results in\n",
    "$V|0_\\text{refl},0> = |1_\\text{refl}\\rangle|\\text{trash}\\rangle + |0_\\text{refl}\\rangle U|0\\rangle$.\n",
    "Thus, if the reflection ancilla is measured to be in the $|0\\rangle$ state then the gate turned out\n",
    "to be successfully decomposed, but otherwise the result is the entangled trash. Equivalently,\n",
    "projecting the output on $|0\\rangle$ and taking the square of the modulus gives the probability of\n",
    "success, as will be shown later.\n",
    "\n",
    "Let us show now an example of a gate that can be exactly decomposed, together with its $V$\n",
    "representation."
   ]
  },
  {
   "cell_type": "code",
   "execution_count": null,
   "metadata": {},
   "outputs": [],
   "source": [
    "phase_bitsize = 2\n",
    "non_approximable_cols = ((0, ((0.5+0.5j), (0.5-0.5j))),\n",
    "                         (1, ((-0.5-0.5j), (0.5-0.5j))))\n",
    "\n",
    "perfectly_decomposed_gate = SynthesizeGateViaHR(phase_bitsize,\n",
    "                                               non_approximable_cols,\n",
    "                                               internal_phase_grad=True,\n",
    "                                               internal_refl_ancilla=False)\n",
    "\n",
    "print(f\" * Original matrix U (coefficients in polar form):\")\n",
    "for row in np.array([col[1] for col in non_approximable_cols]).T:\n",
    "    print(\"  \".join([c2pol(c) for c in row]))\n",
    "\n",
    "print(f\"\\n * Resulting matrix V (coefficients in polar form):\")\n",
    "for row in perfectly_decomposed_gate.tensor_contract():\n",
    "    print(\"  \".join([c2pol(c) for c in row]))"
   ]
  },
  {
   "cell_type": "markdown",
   "metadata": {},
   "source": [
    "Now another matrix that can't be exactly decomposed with the `phase_bitsize` provided and thus\n",
    "produces entanglement with the ancilla. This is indicated by the presence of non-zero entries\n",
    "outside the upper left and lower right $2\\times 2$ sectors."
   ]
  },
  {
   "cell_type": "code",
   "execution_count": null,
   "metadata": {},
   "outputs": [],
   "source": [
    "phase_bitsize = 4\n",
    "non_approximable_cols = ((0, ((-0.4561633949103061+0.663718460551421j), (0.21542649847315268-0.5522537333714933j))),\n",
    "                         (1, ((0.5921919739627931-0.02648449057856236j), (0.7751214177490913-0.21861844725338886j))))\n",
    "\n",
    "\n",
    "imperfectly_decomposed_gate = SynthesizeGateViaHR(phase_bitsize,\n",
    "                                                 non_approximable_cols,\n",
    "                                                 internal_phase_grad=True,\n",
    "                                                 internal_refl_ancilla=False)\n",
    "\n",
    "\n",
    "print(f\" * Original matrix U (coefficients in polar form):\")\n",
    "for row in np.array([col[1] for col in non_approximable_cols]).T:\n",
    "    print(\"  \".join([c2pol(c) for c in row]))\n",
    "\n",
    "V_coefs = imperfectly_decomposed_gate.tensor_contract()\n",
    "\n",
    "print(f\"\\n * Resulting matrix V (coefficients in polar form):\")\n",
    "for row in V_coefs:\n",
    "    print(\"  \".join([c2pol(c) for c in row]))"
   ]
  },
  {
   "cell_type": "markdown",
   "metadata": {},
   "source": [
    "Finally an estimate of the probability of failure when measuring the reflection ancilla (ignoring\n",
    "second order terms). Which is computed as $1 - |\\langle 0_\\text{refl}|V|0_\\text{refl},0\\rangle |^2$."
   ]
  },
  {
   "cell_type": "code",
   "execution_count": null,
   "metadata": {},
   "outputs": [],
   "source": [
    "p_failure = np.linalg.norm(V_coefs.T[0][2:])**2\n",
    "\n",
    "bb = BloqBuilder()\n",
    "state = bb.allocate(1)\n",
    "refl_ancilla = bb.allocate()\n",
    "refl_ancilla, state = bb.add(imperfectly_decomposed_gate,\n",
    "                             gate_input=state,\n",
    "                             refl_ancilla=refl_ancilla)\n",
    "bb.free(refl_ancilla)\n",
    "final_state = bb.finalize(state=state).tensor_contract()\n",
    "\n",
    "p_failure = 1 - np.linalg.norm(final_state)**2\n",
    "print(f\"Probability of failure for V|0>: {p_failure*100:.4f}%\")"
   ]
  },
  {
   "cell_type": "markdown",
   "metadata": {},
   "source": [
    "## Partial specification of the gate\n",
    "\n",
    "As mentioned before, it is possible to specify only some columns of the matrix. However, take into\n",
    "account that, if the input does not belong to the space spanned by the $k$ columns that were\n",
    "specified, then there will be some degree of entanglement with the reflection ancilla. In the\n",
    "extreme case in which the input state to the gate does not overlap with any column of the matrix at\n",
    "all, the reflection ancilla will be at the state $|1\\rangle$ when projected into $|0\\rangle$\n",
    "(at deallocation), thus leaving a null vector (not to be confused with the state $|0\\rangle$).\n",
    "\n",
    "Notice below that only the first and last columns are close to the original operator. Te rest are\n",
    "set at zero because the non-zero values were present in the reflection ancilla $|1\\rangle$ sector,\n",
    "which was discarded when the reflection ancilla was deallocated."
   ]
  },
  {
   "cell_type": "code",
   "execution_count": null,
   "metadata": {},
   "outputs": [],
   "source": [
    "partial_gate_cols = (gate_cols[0], gate_cols[-1])\n",
    "gate_compiler = SynthesizeGateViaHR(phase_bitsize, partial_gate_cols, internal_phase_grad=True)\n",
    "compiled = gate_compiler.tensor_contract()\n",
    "compare_gate_results(compiled, U)"
   ]
  },
  {
   "cell_type": "markdown",
   "metadata": {},
   "source": [
    "## Using the adjoint\n",
    "\n",
    "This bloq also implements the adjoint of the compiled gate though the attribute `uncompute`, which\n",
    "is set to `False` as a default. In this example we will also provide a phase gradient externally to\n",
    "illustrate how it works.\n",
    "\n",
    "The circuit below prepares the identity by computing $U U^\\dagger$ for a random unitary. Also,\n",
    "because now two gate synthesis bloqs are being used, it is a good idea to provide a phase\n",
    "gradient externally to improve T-gate count."
   ]
  },
  {
   "cell_type": "code",
   "execution_count": null,
   "metadata": {},
   "outputs": [],
   "source": [
    "gate_comp     = SynthesizeGateViaHR(phase_bitsize, gate_cols,\n",
    "                                   uncompute=False,\n",
    "                                   internal_refl_ancilla=False)\n",
    "gate_comp_adj = SynthesizeGateViaHR(phase_bitsize, gate_cols,\n",
    "                                   uncompute=True,\n",
    "                                   internal_refl_ancilla=False)\n",
    "\n",
    "bb = BloqBuilder()\n",
    "state = bb.add_register(\"gate_input\", gate_bitsize)\n",
    "pg = bb.add(PhaseGradientState(phase_bitsize))\n",
    "ra = bb.allocate(1)\n",
    "ra, state, pg = bb.add(gate_comp, gate_input=state, phase_grad=pg, refl_ancilla=ra)\n",
    "ra, state, pg = bb.add(gate_comp_adj, gate_input=state, phase_grad=pg, refl_ancilla=ra)\n",
    "bb.add(PhaseGradientState(phase_bitsize).adjoint(), phase_grad=pg)\n",
    "bb.free(ra)\n",
    "circuit = bb.finalize(gate_input=state)\n",
    "result = circuit.tensor_contract()\n",
    "\n",
    "print(f\" * Resulting matrix (coefficients in polar form):\")\n",
    "for row in result:\n",
    "    print(\"  \".join([c2pol(c) for c in row]))"
   ]
  }
 ],
 "metadata": {
  "kernelspec": {
   "display_name": "venv",
   "language": "python",
   "name": "python3"
  },
  "language_info": {
   "codemirror_mode": {
    "name": "ipython",
    "version": 3
   },
   "file_extension": ".py",
   "mimetype": "text/x-python",
   "name": "python",
   "nbconvert_exporter": "python",
   "pygments_lexer": "ipython3",
   "version": "3.10.0"
  }
 },
 "nbformat": 4,
 "nbformat_minor": 2
}
