{
 "cells": [
  {
   "cell_type": "markdown",
   "id": "c18120aa",
   "metadata": {
    "cq.autogen": "title_cell"
   },
   "source": [
    "# Qubitized Hubbard Select\n",
    "\n",
    "Subroutines for the SELECT operation for the Hubbard model Hamiltonian.\n",
    "\n",
    "This module follows section V. of Encoding Electronic Spectra in Quantum Circuits with Linear T\n",
    "Complexity. Babbush et al. 2018. [arxiv:1805.03662](https://arxiv.org/abs/1805.03662).\n",
    "\n",
    "\n",
    "The goal is to construct a SELECT operator optimized for the following\n",
    "Hamiltonian:\n",
    "\n",
    "$$\n",
    "\\def\\Zvec{\\overrightarrow{Z}}\n",
    "\\def\\hop#1{#1_{p,\\sigma} \\Zvec #1_{q,\\sigma}}\n",
    "H = -\\frac{t}{2} \\sum_{\\langle p,q \\rangle, \\sigma} (\\hop{X} + \\hop{Y})\n",
    "  + \\frac{u}{8} \\sum_{p,\\alpha\\ne\\beta} Z_{p,\\alpha}Z_{p,\\beta}\n",
    "  - \\frac{u}{4} \\sum_{p,\\sigma} Z_{p,\\sigma} + \\frac{uN}{4}\\mathbb{1}\n",
    "$$\n",
    "\n",
    "With these operators, our selection register has indices\n",
    "for $p$, $\\alpha$, $q$, and $\\beta$ as well as two indicator bits $U$ and $V$. There are four cases\n",
    "considered in both the PREPARE and SELECT operations corresponding to the terms in the Hamiltonian:\n",
    "\n",
    " - $U=1$, single-body Z\n",
    " - $V=1$, spin-spin ZZ term\n",
    " - $p<q$, XZX term\n",
    " - $p>q$, YZY term."
   ]
  },
  {
   "cell_type": "code",
   "execution_count": 16,
   "id": "0edc13c7",
   "metadata": {
    "cq.autogen": "top_imports"
   },
   "outputs": [],
   "source": [
    "from qualtran import Bloq, CompositeBloq, BloqBuilder, Signature, Register\n",
    "from qualtran import QBit, QInt, QUInt, QAny\n",
    "from qualtran.drawing import show_bloq, show_call_graph, show_counts_sigma\n",
    "from typing import *\n",
    "import numpy as np\n",
    "import sympy\n",
    "import cirq"
   ]
  },
  {
   "cell_type": "markdown",
   "id": "c158cd81",
   "metadata": {
    "cq.autogen": "SelectHubbard.bloq_doc.md"
   },
   "source": [
    "## `SelectHubbard`\n",
    "The SELECT operation optimized for the 2D Hubbard model.\n",
    "\n",
    "In contrast to SELECT for an arbitrary chemistry Hamiltonian, we:\n",
    " - explicitly consider the two dimensions of indices to permit optimization of the circuits.\n",
    " - dispense with the `theta` index for phases.\n",
    "\n",
    "If neither $U$ nor $V$ is set we apply the kinetic terms of the Hamiltonian:\n",
    "\n",
    "$$\n",
    "\\def\\Zvec{\\overrightarrow{Z}}\n",
    "\\def\\hop#1{#1_{p,\\sigma} \\Zvec #1_{q,\\sigma}}\n",
    "-\\hop{X} \\quad p < q \\\\\n",
    "-\\hop{Y} \\quad p > q\n",
    "$$\n",
    "\n",
    "If $U$ is set we know $(p,\\alpha)=(q,\\beta)$ and apply the single-body term: $-Z_{p,\\alpha}$.\n",
    "If $V$ is set we know $p=q, \\alpha=0$, and $\\beta=1$ and apply the spin term:\n",
    "$Z_{p,\\alpha}Z_{p,\\beta}$\n",
    "\n",
    "`SelectHubbard`'s construction uses $10 * N + log(N)$ T-gates.\n",
    "\n",
    "#### Parameters\n",
    " - `x_dim`: the number of sites along the x axis.\n",
    " - `y_dim`: the number of sites along the y axis.\n",
    " - `control_val`: Optional bit specifying the control value for constructing a controlled version of this gate. Defaults to None, which means un-controlled. \n",
    "\n",
    "#### Registers\n",
    " - `control`: A control bit for the entire gate.\n",
    " - `U`: Whether we're applying the single-site part of the potential.\n",
    " - `V`: Whether we're applying the pairwise part of the potential.\n",
    " - `p_x`: First set of site indices, x component.\n",
    " - `p_y`: First set of site indices, y component.\n",
    " - `alpha`: First set of sites' spin indicator.\n",
    " - `q_x`: Second set of site indices, x component.\n",
    " - `q_y`: Second set of site indices, y component.\n",
    " - `beta`: Second set of sites' spin indicator.\n",
    " - `target`: The system register to apply the select operation. \n",
    "\n",
    "#### References\n",
    " - [Encoding Electronic Spectra in Quantum Circuits with Linear T Complexity](https://arxiv.org/abs/1805.03662). Section V. and Fig. 19.\n"
   ]
  },
  {
   "cell_type": "code",
   "execution_count": 17,
   "id": "31d993ae",
   "metadata": {
    "cq.autogen": "SelectHubbard.bloq_doc.py"
   },
   "outputs": [],
   "source": [
    "from qualtran.bloqs.chemistry.hubbard_model.qubitization import SelectHubbard"
   ]
  },
  {
   "cell_type": "markdown",
   "id": "d25c8e9c",
   "metadata": {
    "cq.autogen": "SelectHubbard.example_instances.md"
   },
   "source": [
    "### Example Instances"
   ]
  },
  {
   "cell_type": "code",
   "execution_count": 18,
   "id": "c168ac92",
   "metadata": {
    "cq.autogen": "SelectHubbard.sel_hubb"
   },
   "outputs": [],
   "source": [
    "x_dim = 4\n",
    "y_dim = 4\n",
    "sel_hubb = SelectHubbard(x_dim, y_dim)"
   ]
  },
  {
   "cell_type": "code",
   "execution_count": 19,
   "id": "7194a0cf-3a70-475c-8db3-ef06ae9742f0",
   "metadata": {},
   "outputs": [],
   "source": [
    "csel_hubb = sel_hubb.controlled()"
   ]
  },
  {
   "cell_type": "markdown",
   "id": "f863c3c0",
   "metadata": {
    "cq.autogen": "SelectHubbard.graphical_signature.md"
   },
   "source": [
    "#### Graphical Signature"
   ]
  },
  {
   "cell_type": "code",
   "execution_count": 20,
   "id": "fba1f35d",
   "metadata": {
    "cq.autogen": "SelectHubbard.graphical_signature.py"
   },
   "outputs": [
    {
     "data": {
      "application/vnd.jupyter.widget-view+json": {
       "model_id": "5f7b63fc6b484752a12ce7bc31294191",
       "version_major": 2,
       "version_minor": 0
      },
      "text/plain": [
       "HBox(children=(Output(outputs=({'output_type': 'display_data', 'data': {'text/plain': '<IPython.core.display.M…"
      ]
     },
     "metadata": {},
     "output_type": "display_data"
    }
   ],
   "source": [
    "from qualtran.drawing import show_bloqs\n",
    "show_bloqs([sel_hubb],\n",
    "           ['`sel_hubb`'])"
   ]
  },
  {
   "cell_type": "markdown",
   "id": "4367c389",
   "metadata": {
    "cq.autogen": "SelectHubbard.call_graph.md"
   },
   "source": [
    "### Call Graph"
   ]
  },
  {
   "cell_type": "code",
   "execution_count": 21,
   "id": "89e8060a",
   "metadata": {
    "cq.autogen": "SelectHubbard.call_graph.py"
   },
   "outputs": [
    {
     "data": {
      "image/svg+xml": [
       "<svg xmlns=\"http://www.w3.org/2000/svg\" xmlns:xlink=\"http://www.w3.org/1999/xlink\" width=\"880pt\" height=\"133pt\" viewBox=\"0.00 0.00 879.50 132.50\">\n",
       "<g id=\"graph0\" class=\"graph\" transform=\"scale(1 1) rotate(0) translate(4 128.5)\">\n",
       "<title>counts</title>\n",
       "<polygon fill=\"white\" stroke=\"none\" points=\"-4,4 -4,-128.5 875.5,-128.5 875.5,4 -4,4\"/>\n",
       "<!-- b0 -->\n",
       "<g id=\"node1\" class=\"node\">\n",
       "<title>b0</title>\n",
       "<polygon fill=\"none\" stroke=\"black\" points=\"349.38,-94.88 349.38,-118.12 444.12,-118.12 444.12,-94.88 349.38,-94.88\"/>\n",
       "<text text-anchor=\"start\" x=\"355.88\" y=\"-102.62\" font-family=\"Times,serif\" font-size=\"10.00\">SelectHubbard(4, 4)</text>\n",
       "</g>\n",
       "<!-- b1 -->\n",
       "<g id=\"node2\" class=\"node\">\n",
       "<title>b1</title>\n",
       "<polygon fill=\"none\" stroke=\"black\" points=\"8,-6.38 8,-29.62 169.5,-29.62 169.5,-6.38 8,-6.38\"/>\n",
       "<text text-anchor=\"start\" x=\"14.5\" y=\"-14.12\" font-family=\"Times,serif\" font-size=\"10.00\">HubbardMajorannaOperator(4, 4, Y)</text>\n",
       "</g>\n",
       "<!-- b0&#45;&gt;b1 -->\n",
       "<g id=\"edge1\" class=\"edge\">\n",
       "<title>b0-&gt;b1</title>\n",
       "<path fill=\"none\" stroke=\"black\" d=\"M341.69,-90.04C290.91,-75.78 215.26,-54.53 159.92,-38.99\"/>\n",
       "<polygon fill=\"black\" stroke=\"black\" points=\"161.16,-35.7 150.59,-36.37 159.27,-42.44 161.16,-35.7\"/>\n",
       "<text text-anchor=\"middle\" x=\"274.12\" y=\"-57.2\" font-family=\"Times,serif\" font-size=\"14.00\">1</text>\n",
       "</g>\n",
       "<!-- b2 -->\n",
       "<g id=\"node3\" class=\"node\">\n",
       "<title>b2</title>\n",
       "<polygon fill=\"none\" stroke=\"black\" points=\"204,-6.38 204,-29.62 269.5,-29.62 269.5,-6.38 204,-6.38\"/>\n",
       "<text text-anchor=\"start\" x=\"210.5\" y=\"-14.12\" font-family=\"Times,serif\" font-size=\"10.00\">GPhase(-0.5)</text>\n",
       "</g>\n",
       "<!-- b0&#45;&gt;b2 -->\n",
       "<g id=\"edge2\" class=\"edge\">\n",
       "<title>b0-&gt;b2</title>\n",
       "<path fill=\"none\" stroke=\"black\" d=\"M365.52,-88.62C340.6,-75.15 305.48,-56.16 278.2,-41.41\"/>\n",
       "<polygon fill=\"black\" stroke=\"black\" points=\"279.97,-38.39 269.51,-36.71 276.64,-44.54 279.97,-38.39\"/>\n",
       "<text text-anchor=\"middle\" x=\"335.12\" y=\"-57.2\" font-family=\"Times,serif\" font-size=\"14.00\">1</text>\n",
       "</g>\n",
       "<!-- b3 -->\n",
       "<g id=\"node4\" class=\"node\">\n",
       "<title>b3</title>\n",
       "<polygon fill=\"none\" stroke=\"black\" points=\"303.5,-6.38 303.5,-29.62 342,-29.62 342,-6.38 303.5,-6.38\"/>\n",
       "<text text-anchor=\"start\" x=\"310\" y=\"-14.12\" font-family=\"Times,serif\" font-size=\"10.00\">ZGate</text>\n",
       "</g>\n",
       "<!-- b0&#45;&gt;b3 -->\n",
       "<g id=\"edge3\" class=\"edge\">\n",
       "<title>b0-&gt;b3</title>\n",
       "<path fill=\"none\" stroke=\"black\" d=\"M382.48,-88.82C371.7,-76.22 356.71,-58.7 344.45,-44.36\"/>\n",
       "<polygon fill=\"black\" stroke=\"black\" points=\"347.37,-42.4 338.21,-37.07 342.05,-46.95 347.37,-42.4\"/>\n",
       "<text text-anchor=\"middle\" x=\"370.12\" y=\"-57.2\" font-family=\"Times,serif\" font-size=\"14.00\">1</text>\n",
       "</g>\n",
       "<!-- b4 -->\n",
       "<g id=\"node5\" class=\"node\">\n",
       "<title>b4</title>\n",
       "<polygon fill=\"none\" stroke=\"black\" points=\"375.62,-6.38 375.62,-29.62 417.88,-29.62 417.88,-6.38 375.62,-6.38\"/>\n",
       "<text text-anchor=\"start\" x=\"382.12\" y=\"-14.12\" font-family=\"Times,serif\" font-size=\"10.00\">CSwap</text>\n",
       "</g>\n",
       "<!-- b0&#45;&gt;b4 -->\n",
       "<g id=\"edge4\" class=\"edge\">\n",
       "<title>b0-&gt;b4</title>\n",
       "<path fill=\"none\" stroke=\"black\" d=\"M396.75,-88.82C396.75,-77.05 396.75,-60.99 396.75,-47.24\"/>\n",
       "<polygon fill=\"black\" stroke=\"black\" points=\"400.25,-47.44 396.75,-37.44 393.25,-47.44 400.25,-47.44\"/>\n",
       "<text text-anchor=\"middle\" x=\"400.12\" y=\"-57.2\" font-family=\"Times,serif\" font-size=\"14.00\">4</text>\n",
       "</g>\n",
       "<!-- b5 -->\n",
       "<g id=\"node6\" class=\"node\">\n",
       "<title>b5</title>\n",
       "<polygon fill=\"none\" stroke=\"black\" points=\"452.25,-6.38 452.25,-29.62 525.25,-29.62 525.25,-6.38 452.25,-6.38\"/>\n",
       "<text text-anchor=\"start\" x=\"458.75\" y=\"-14.12\" font-family=\"Times,serif\" font-size=\"10.00\">TwoBitCSwap</text>\n",
       "</g>\n",
       "<!-- b0&#45;&gt;b5 -->\n",
       "<g id=\"edge5\" class=\"edge\">\n",
       "<title>b0-&gt;b5</title>\n",
       "<path fill=\"none\" stroke=\"black\" d=\"M414.49,-88.82C428.15,-75.98 447.23,-58.04 462.63,-43.56\"/>\n",
       "<polygon fill=\"black\" stroke=\"black\" points=\"464.76,-46.36 469.65,-36.96 459.97,-41.26 464.76,-46.36\"/>\n",
       "<text text-anchor=\"middle\" x=\"455.12\" y=\"-57.2\" font-family=\"Times,serif\" font-size=\"14.00\">2</text>\n",
       "</g>\n",
       "<!-- b6 -->\n",
       "<g id=\"node7\" class=\"node\">\n",
       "<title>b6</title>\n",
       "<polygon fill=\"none\" stroke=\"black\" points=\"559.62,-6.38 559.62,-29.62 721.88,-29.62 721.88,-6.38 559.62,-6.38\"/>\n",
       "<text text-anchor=\"start\" x=\"566.12\" y=\"-14.12\" font-family=\"Times,serif\" font-size=\"10.00\">HubbardMajorannaOperator(4, 4, X)</text>\n",
       "</g>\n",
       "<!-- b0&#45;&gt;b6 -->\n",
       "<g id=\"edge6\" class=\"edge\">\n",
       "<title>b0-&gt;b6</title>\n",
       "<path fill=\"none\" stroke=\"black\" d=\"M444.67,-88.51C484.12,-74.53 540.2,-54.65 582.29,-39.72\"/>\n",
       "<polygon fill=\"black\" stroke=\"black\" points=\"583.26,-43.09 591.52,-36.45 580.92,-36.5 583.26,-43.09\"/>\n",
       "<text text-anchor=\"middle\" x=\"544.12\" y=\"-57.2\" font-family=\"Times,serif\" font-size=\"14.00\">1</text>\n",
       "</g>\n",
       "<!-- b7 -->\n",
       "<g id=\"node8\" class=\"node\">\n",
       "<title>b7</title>\n",
       "<polygon fill=\"none\" stroke=\"black\" points=\"756,-6.38 756,-29.62 863.5,-29.62 863.5,-6.38 756,-6.38\"/>\n",
       "<text text-anchor=\"start\" x=\"762.5\" y=\"-14.12\" font-family=\"Times,serif\" font-size=\"10.00\">HubbardSpinUpZ(4, 4)</text>\n",
       "</g>\n",
       "<!-- b0&#45;&gt;b7 -->\n",
       "<g id=\"edge7\" class=\"edge\">\n",
       "<title>b0-&gt;b7</title>\n",
       "<path fill=\"none\" stroke=\"black\" d=\"M451.96,-94.89C517.42,-82.17 630.09,-59.86 737.19,-36.3\"/>\n",
       "<polygon fill=\"black\" stroke=\"black\" points=\"737.72,-39.77 746.73,-34.2 736.21,-32.94 737.72,-39.77\"/>\n",
       "<text text-anchor=\"middle\" x=\"658.12\" y=\"-57.2\" font-family=\"Times,serif\" font-size=\"14.00\">1</text>\n",
       "</g>\n",
       "</g>\n",
       "</svg>"
      ],
      "text/plain": [
       "<IPython.core.display.SVG object>"
      ]
     },
     "metadata": {},
     "output_type": "display_data"
    },
    {
     "data": {
      "text/markdown": [
       "#### Counts totals:\n",
       " - `CSwap`: 4\n",
       " - `GPhase(-0.5)`: 1\n",
       " - `HubbardMajorannaOperator(4, 4, X)`: 1\n",
       " - `HubbardMajorannaOperator(4, 4, Y)`: 1\n",
       " - `HubbardSpinUpZ(4, 4)`: 1\n",
       " - `TwoBitCSwap`: 2\n",
       " - `ZGate`: 1"
      ],
      "text/plain": [
       "<IPython.core.display.Markdown object>"
      ]
     },
     "metadata": {},
     "output_type": "display_data"
    }
   ],
   "source": [
    "from qualtran.resource_counting.generalizers import ignore_split_join\n",
    "sel_hubb_g, sel_hubb_sigma = sel_hubb.call_graph(max_depth=1, generalizer=ignore_split_join)\n",
    "show_call_graph(sel_hubb_g)\n",
    "show_counts_sigma(sel_hubb_sigma)"
   ]
  },
  {
   "cell_type": "code",
   "execution_count": 29,
   "id": "b0056246-6237-40ca-86eb-4726211b8517",
   "metadata": {},
   "outputs": [],
   "source": [
    "%matplotlib inline\n",
    "import warnings\n",
    "warnings.filterwarnings('ignore')"
   ]
  },
  {
   "cell_type": "code",
   "execution_count": 33,
   "id": "2cbfac10-4189-46a3-b977-0ee7d3b2f129",
   "metadata": {},
   "outputs": [
    {
     "data": {
      "image/png": "[encoded data removed]",
      "text/plain": [
       "<Figure size 1120x840 with 1 Axes>"
      ]
     },
     "metadata": {},
     "output_type": "display_data"
    }
   ],
   "source": [
    "sh = SelectHubbard(x_dim=11, y_dim=11).controlled()\n",
    "show_bloq(sh.decompose_bloq(), 'musical_score')"
   ]
  },
  {
   "cell_type": "markdown",
   "id": "1ba7526f",
   "metadata": {
    "cq.autogen": "HubbardMajorannaOperator.bloq_doc.md"
   },
   "source": [
    "## `HubbardMajorannaOperator`\n",
    "Apply majoranna fermion operation to the Hubbard system.\n",
    "\n",
    "Specifically apply $\\overrightarrow{Z} P_{x,y,\\sigma}$ for single-qubit\n",
    "Pauli $P$.\n",
    "\n",
    "This is a subroutine of `HubbardSelect`.\n",
    "\n",
    "This uses $N$ Toffoli gates, where `N=2*x_dim*y_dim`.\n",
    "\n",
    "#### Parameters\n",
    " - `x_dim`: the number of sites along the x axis.\n",
    " - `y_dim`: the number of sites along the y axis.\n",
    " - `gate`: Either \"X\" or \"Y\" to do the corresponding Majoranna operation.\n",
    " - `control_val`: Optional bit specifying the control value for constructing a controlled version of this gate. Defaults to None, which means un-controlled. \n",
    "\n",
    "#### Registers\n",
    " - `x`: Site indices, x component.\n",
    " - `y`: Site indices, y component.\n",
    " - `spin`: Sites' spin indicator. \n",
    "\n",
    "#### References\n",
    " - [Encoding Electronic Spectra in Quantum Circuits with Linear T Complexity](https://arxiv.org/abs/1805.03662). Section V. and Fig. 19, \"Majoranna operators\". See also Figure 9.\n"
   ]
  },
  {
   "cell_type": "code",
   "execution_count": 23,
   "id": "67168098",
   "metadata": {
    "cq.autogen": "HubbardMajorannaOperator.bloq_doc.py"
   },
   "outputs": [],
   "source": [
    "from qualtran.bloqs.chemistry.hubbard_model.qubitization import HubbardMajorannaOperator"
   ]
  },
  {
   "cell_type": "markdown",
   "id": "c607350c",
   "metadata": {
    "cq.autogen": "HubbardMajorannaOperator.example_instances.md"
   },
   "source": [
    "### Example Instances"
   ]
  },
  {
   "cell_type": "code",
   "execution_count": null,
   "id": "76c31ec0",
   "metadata": {
    "cq.autogen": "HubbardMajorannaOperator.hubb_majoranna"
   },
   "outputs": [],
   "source": [
    "n = sympy.Symbol('n')\n",
    "hubb_majoranna = HubbardMajorannaOperator(x_dim=n, y_dim=n, gate='X', control_val=1)"
   ]
  },
  {
   "cell_type": "code",
   "execution_count": null,
   "id": "a2359694",
   "metadata": {
    "cq.autogen": "HubbardMajorannaOperator.hubb_majoranna_small"
   },
   "outputs": [],
   "source": [
    "hubb_majoranna_small = HubbardMajorannaOperator(x_dim=3, y_dim=3, gate='Y')"
   ]
  },
  {
   "cell_type": "markdown",
   "id": "65cac713",
   "metadata": {
    "cq.autogen": "HubbardMajorannaOperator.graphical_signature.md"
   },
   "source": [
    "#### Graphical Signature"
   ]
  },
  {
   "cell_type": "code",
   "execution_count": null,
   "id": "af878194",
   "metadata": {
    "cq.autogen": "HubbardMajorannaOperator.graphical_signature.py"
   },
   "outputs": [],
   "source": [
    "from qualtran.drawing import show_bloqs\n",
    "show_bloqs([hubb_majoranna, hubb_majoranna_small],\n",
    "           ['`hubb_majoranna`', '`hubb_majoranna_small`'])"
   ]
  },
  {
   "cell_type": "markdown",
   "id": "c727fba7",
   "metadata": {
    "cq.autogen": "HubbardSpinUpZ.bloq_doc.md"
   },
   "source": [
    "## `HubbardSpinUpZ`\n",
    "Phase the spin up subspace of the Hubbard system.\n",
    "\n",
    "Specifically, apply $Z_{q,1}$.\n",
    "\n",
    "In combination with the `HubbardMajorannaOperator` subroutines, this applies the spin term\n",
    "$Z_{p,\\alpha}Z_{p,\\beta}$ if $V$ is set. This is a subroutine of `HubbardSelect`.\n",
    "\n",
    "This uses $N/2$ Toffoli gates, where `N=2*x_dim*y_dim`.\n",
    "\n",
    "#### Parameters\n",
    " - `x_dim`: the number of sites along the x axis.\n",
    " - `y_dim`: the number of sites along the y axis.\n",
    " - `control_val`: Optional bit specifying the control value for constructing a controlled version of this gate. Defaults to None, which means un-controlled. \n",
    "\n",
    "#### Registers\n",
    " - `V`: Whether we're applying the pairwise part of the potential. If not set, this bloq does nothing.\n",
    " - `x`: Site indices, x component.\n",
    " - `y`: Site indices, y component. \n",
    "\n",
    "#### References\n",
    " - [Encoding Electronic Spectra in Quantum Circuits with Linear T Complexity](https://arxiv.org/abs/1805.03662). Section V. and Fig. 19, last operation; which references Fig 7.\n"
   ]
  },
  {
   "cell_type": "code",
   "execution_count": null,
   "id": "12c1832f",
   "metadata": {
    "cq.autogen": "HubbardSpinUpZ.bloq_doc.py"
   },
   "outputs": [],
   "source": [
    "from qualtran.bloqs.chemistry.hubbard_model.qubitization import HubbardSpinUpZ"
   ]
  },
  {
   "cell_type": "markdown",
   "id": "d0d41423",
   "metadata": {
    "cq.autogen": "HubbardSpinUpZ.example_instances.md"
   },
   "source": [
    "### Example Instances"
   ]
  },
  {
   "cell_type": "code",
   "execution_count": null,
   "id": "f696ee40",
   "metadata": {
    "cq.autogen": "HubbardSpinUpZ.hubb_spin_up_z"
   },
   "outputs": [],
   "source": [
    "n = sympy.Symbol('n')\n",
    "hubb_spin_up_z = HubbardSpinUpZ(x_dim=n, y_dim=n, control_val=1)"
   ]
  },
  {
   "cell_type": "code",
   "execution_count": null,
   "id": "84619902",
   "metadata": {
    "cq.autogen": "HubbardSpinUpZ.hubb_spin_up_z_small"
   },
   "outputs": [],
   "source": [
    "hubb_spin_up_z_small = HubbardSpinUpZ(x_dim=3, y_dim=3)"
   ]
  },
  {
   "cell_type": "markdown",
   "id": "374b7cbe",
   "metadata": {
    "cq.autogen": "HubbardSpinUpZ.graphical_signature.md"
   },
   "source": [
    "#### Graphical Signature"
   ]
  },
  {
   "cell_type": "code",
   "execution_count": null,
   "id": "d3907dca",
   "metadata": {
    "cq.autogen": "HubbardSpinUpZ.graphical_signature.py"
   },
   "outputs": [],
   "source": [
    "from qualtran.drawing import show_bloqs\n",
    "show_bloqs([hubb_spin_up_z, hubb_spin_up_z_small],\n",
    "           ['`hubb_spin_up_z`', '`hubb_spin_up_z_small`'])"
   ]
  }
 ],
 "metadata": {
  "kernelspec": {
   "display_name": "Python 3 (ipykernel)",
   "language": "python",
   "name": "python3"
  },
  "language_info": {
   "codemirror_mode": {
    "name": "ipython",
    "version": 3
   },
   "file_extension": ".py",
   "mimetype": "text/x-python",
   "name": "python",
   "nbconvert_exporter": "python",
   "pygments_lexer": "ipython3",
   "version": "3.11.8"
  }
 },
 "nbformat": 4,
 "nbformat_minor": 5
}
