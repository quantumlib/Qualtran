{
 "cells": [
  {
   "cell_type": "markdown",
   "id": "c18120aa",
   "metadata": {
    "cq.autogen": "title_cell"
   },
   "source": [
    "# Qubitized Hubbard Select\n",
    "\n",
    "Subroutines for the SELECT operation for the Hubbard model Hamiltonian.\n",
    "\n",
    "This module follows section V. of Encoding Electronic Spectra in Quantum Circuits with Linear T\n",
    "Complexity. Babbush et al. 2018. [arxiv:1805.03662](https://arxiv.org/abs/1805.03662).\n",
    "\n",
    "\n",
    "The goal is to construct a SELECT operator optimized for the following\n",
    "Hamiltonian:\n",
    "\n",
    "$$\n",
    "\\def\\Zvec{\\overrightarrow{Z}}\n",
    "\\def\\hop#1{#1_{p,\\sigma} \\Zvec #1_{q,\\sigma}}\n",
    "H = -\\frac{t}{2} \\sum_{\\langle p,q \\rangle, \\sigma} (\\hop{X} + \\hop{Y})\n",
    "  + \\frac{u}{8} \\sum_{p,\\alpha\\ne\\beta} Z_{p,\\alpha}Z_{p,\\beta}\n",
    "  - \\frac{u}{4} \\sum_{p,\\sigma} Z_{p,\\sigma} + \\frac{uN}{4}\\mathbb{1}\n",
    "$$\n",
    "\n",
    "With these operators, our selection register has indices\n",
    "for $p$, $\\alpha$, $q$, and $\\beta$ as well as two indicator bits $U$ and $V$. There are four cases\n",
    "considered in both the PREPARE and SELECT operations corresponding to the terms in the Hamiltonian:\n",
    "\n",
    " - $U=1$, single-body Z\n",
    " - $V=1$, spin-spin ZZ term\n",
    " - $p<q$, XZX term\n",
    " - $p>q$, YZY term."
   ]
  },
  {
   "cell_type": "code",
   "execution_count": null,
   "id": "0edc13c7",
   "metadata": {
    "cq.autogen": "top_imports"
   },
   "outputs": [],
   "source": [
    "from qualtran import Bloq, CompositeBloq, BloqBuilder, Signature, Register\n",
    "from qualtran import QBit, QInt, QUInt, QAny\n",
    "from qualtran.drawing import show_bloq, show_call_graph, show_counts_sigma\n",
    "from typing import *\n",
    "import numpy as np\n",
    "import sympy\n",
    "import cirq"
   ]
  },
  {
   "cell_type": "markdown",
   "id": "c158cd81",
   "metadata": {
    "cq.autogen": "SelectHubbard.bloq_doc.md"
   },
   "source": [
    "## `SelectHubbard`\n",
    "The SELECT operation optimized for the 2D Hubbard model.\n",
    "\n",
    "In contrast to SELECT for an arbitrary chemistry Hamiltonian, we:\n",
    " - explicitly consider the two dimensions of indices to permit optimization of the circuits.\n",
    " - dispense with the `theta` index for phases.\n",
    "\n",
    "If neither $U$ nor $V$ is set we apply the kinetic terms of the Hamiltonian:\n",
    "\n",
    "$$\n",
    "\\def\\Zvec{\\overrightarrow{Z}}\n",
    "\\def\\hop#1{#1_{p,\\sigma} \\Zvec #1_{q,\\sigma}}\n",
    "-\\hop{X} \\quad p < q \\\\\n",
    "-\\hop{Y} \\quad p > q\n",
    "$$\n",
    "\n",
    "If $U$ is set we know $(p,\\alpha)=(q,\\beta)$ and apply the single-body term: $-Z_{p,\\alpha}$.\n",
    "If $V$ is set we know $p=q, \\alpha=0$, and $\\beta=1$ and apply the spin term:\n",
    "$Z_{p,\\alpha}Z_{p,\\beta}$\n",
    "\n",
    "`SelectHubbard`'s construction uses $10 * N + log(N)$ T-gates.\n",
    "\n",
    "#### Parameters\n",
    " - `x_dim`: the number of sites along the x axis.\n",
    " - `y_dim`: the number of sites along the y axis.\n",
    " - `control_val`: Optional bit specifying the control value for constructing a controlled version of this gate. Defaults to None, which means un-controlled. \n",
    "\n",
    "#### Registers\n",
    " - `control`: A control bit for the entire gate.\n",
    " - `U`: Whether we're applying the single-site part of the potential.\n",
    " - `V`: Whether we're applying the pairwise part of the potential.\n",
    " - `p_x`: First set of site indices, x component.\n",
    " - `p_y`: First set of site indices, y component.\n",
    " - `alpha`: First set of sites' spin indicator.\n",
    " - `q_x`: Second set of site indices, x component.\n",
    " - `q_y`: Second set of site indices, y component.\n",
    " - `beta`: Second set of sites' spin indicator.\n",
    " - `target`: The system register to apply the select operation. \n",
    "\n",
    "#### References\n",
    " - [Encoding Electronic Spectra in Quantum Circuits with Linear T Complexity](https://arxiv.org/abs/1805.03662). Section V. and Fig. 19.\n"
   ]
  },
  {
   "cell_type": "code",
   "execution_count": null,
   "id": "31d993ae",
   "metadata": {
    "cq.autogen": "SelectHubbard.bloq_doc.py"
   },
   "outputs": [],
   "source": [
    "from qualtran.bloqs.chemistry.hubbard_model.qubitization import SelectHubbard"
   ]
  },
  {
   "cell_type": "markdown",
   "id": "d25c8e9c",
   "metadata": {
    "cq.autogen": "SelectHubbard.example_instances.md"
   },
   "source": [
    "### Example Instances"
   ]
  },
  {
   "cell_type": "code",
   "execution_count": null,
   "id": "c168ac92",
   "metadata": {
    "cq.autogen": "SelectHubbard.sel_hubb"
   },
   "outputs": [],
   "source": [
    "x_dim = 4\n",
    "y_dim = 4\n",
    "sel_hubb = SelectHubbard(x_dim, y_dim)"
   ]
  },
  {
   "cell_type": "code",
   "execution_count": null,
   "id": "7194a0cf-3a70-475c-8db3-ef06ae9742f0",
   "metadata": {},
   "outputs": [],
   "source": [
    "csel_hubb = sel_hubb.controlled()"
   ]
  },
  {
   "cell_type": "markdown",
   "id": "f863c3c0",
   "metadata": {
    "cq.autogen": "SelectHubbard.graphical_signature.md"
   },
   "source": [
    "#### Graphical Signature"
   ]
  },
  {
   "cell_type": "code",
   "execution_count": null,
   "id": "fba1f35d",
   "metadata": {
    "cq.autogen": "SelectHubbard.graphical_signature.py"
   },
   "outputs": [],
   "source": [
    "from qualtran.drawing import show_bloqs\n",
    "show_bloqs([sel_hubb],\n",
    "           ['`sel_hubb`'])"
   ]
  },
  {
   "cell_type": "markdown",
   "id": "4367c389",
   "metadata": {
    "cq.autogen": "SelectHubbard.call_graph.md"
   },
   "source": [
    "### Call Graph"
   ]
  },
  {
   "cell_type": "code",
   "execution_count": null,
   "id": "89e8060a",
   "metadata": {
    "cq.autogen": "SelectHubbard.call_graph.py"
   },
   "outputs": [],
   "source": [
    "from qualtran.resource_counting.generalizers import ignore_split_join\n",
    "sel_hubb_g, sel_hubb_sigma = sel_hubb.call_graph(max_depth=1, generalizer=ignore_split_join)\n",
    "show_call_graph(sel_hubb_g)\n",
    "show_counts_sigma(sel_hubb_sigma)"
   ]
  },
  {
   "cell_type": "code",
   "execution_count": null,
   "id": "b0056246-6237-40ca-86eb-4726211b8517",
   "metadata": {},
   "outputs": [],
   "source": [
    "%matplotlib inline\n",
    "import warnings\n",
    "warnings.filterwarnings('ignore')"
   ]
  },
  {
   "cell_type": "code",
   "execution_count": null,
   "id": "2cbfac10-4189-46a3-b977-0ee7d3b2f129",
   "metadata": {},
   "outputs": [],
   "source": [
    "sh = SelectHubbard(x_dim=11, y_dim=11).controlled()\n",
    "show_bloq(sh.decompose_bloq(), 'musical_score')"
   ]
  },
  {
   "cell_type": "markdown",
   "id": "1ba7526f",
   "metadata": {
    "cq.autogen": "HubbardMajorannaOperator.bloq_doc.md"
   },
   "source": [
    "## `HubbardMajorannaOperator`\n",
    "Apply majoranna fermion operation to the Hubbard system.\n",
    "\n",
    "Specifically apply $\\overrightarrow{Z} P_{x,y,\\sigma}$ for single-qubit\n",
    "Pauli $P$.\n",
    "\n",
    "This is a subroutine of `HubbardSelect`.\n",
    "\n",
    "This uses $N$ Toffoli gates, where `N=2*x_dim*y_dim`.\n",
    "\n",
    "#### Parameters\n",
    " - `x_dim`: the number of sites along the x axis.\n",
    " - `y_dim`: the number of sites along the y axis.\n",
    " - `gate`: Either \"X\" or \"Y\" to do the corresponding Majoranna operation.\n",
    " - `control_val`: Optional bit specifying the control value for constructing a controlled version of this gate. Defaults to None, which means un-controlled. \n",
    "\n",
    "#### Registers\n",
    " - `x`: Site indices, x component.\n",
    " - `y`: Site indices, y component.\n",
    " - `spin`: Sites' spin indicator. \n",
    "\n",
    "#### References\n",
    " - [Encoding Electronic Spectra in Quantum Circuits with Linear T Complexity](https://arxiv.org/abs/1805.03662). Section V. and Fig. 19, \"Majoranna operators\". See also Figure 9.\n"
   ]
  },
  {
   "cell_type": "code",
   "execution_count": null,
   "id": "67168098",
   "metadata": {
    "cq.autogen": "HubbardMajorannaOperator.bloq_doc.py"
   },
   "outputs": [],
   "source": [
    "from qualtran.bloqs.chemistry.hubbard_model.qubitization import HubbardMajorannaOperator"
   ]
  },
  {
   "cell_type": "markdown",
   "id": "c607350c",
   "metadata": {
    "cq.autogen": "HubbardMajorannaOperator.example_instances.md"
   },
   "source": [
    "### Example Instances"
   ]
  },
  {
   "cell_type": "code",
   "execution_count": null,
   "id": "76c31ec0",
   "metadata": {
    "cq.autogen": "HubbardMajorannaOperator.hubb_majoranna"
   },
   "outputs": [],
   "source": [
    "n = sympy.Symbol('n')\n",
    "hubb_majoranna = HubbardMajorannaOperator(x_dim=n, y_dim=n, gate='X', control_val=1)"
   ]
  },
  {
   "cell_type": "code",
   "execution_count": null,
   "id": "a2359694",
   "metadata": {
    "cq.autogen": "HubbardMajorannaOperator.hubb_majoranna_small"
   },
   "outputs": [],
   "source": [
    "hubb_majoranna_small = HubbardMajorannaOperator(x_dim=3, y_dim=3, gate='Y')"
   ]
  },
  {
   "cell_type": "markdown",
   "id": "65cac713",
   "metadata": {
    "cq.autogen": "HubbardMajorannaOperator.graphical_signature.md"
   },
   "source": [
    "#### Graphical Signature"
   ]
  },
  {
   "cell_type": "code",
   "execution_count": null,
   "id": "af878194",
   "metadata": {
    "cq.autogen": "HubbardMajorannaOperator.graphical_signature.py"
   },
   "outputs": [],
   "source": [
    "from qualtran.drawing import show_bloqs\n",
    "show_bloqs([hubb_majoranna, hubb_majoranna_small],\n",
    "           ['`hubb_majoranna`', '`hubb_majoranna_small`'])"
   ]
  },
  {
   "cell_type": "markdown",
   "id": "c727fba7",
   "metadata": {
    "cq.autogen": "HubbardSpinUpZ.bloq_doc.md"
   },
   "source": [
    "## `HubbardSpinUpZ`\n",
    "Phase the spin up subspace of the Hubbard system.\n",
    "\n",
    "Specifically, apply $Z_{q,1}$.\n",
    "\n",
    "In combination with the `HubbardMajorannaOperator` subroutines, this applies the spin term\n",
    "$Z_{p,\\alpha}Z_{p,\\beta}$ if $V$ is set. This is a subroutine of `HubbardSelect`.\n",
    "\n",
    "This uses $N/2$ Toffoli gates, where `N=2*x_dim*y_dim`.\n",
    "\n",
    "#### Parameters\n",
    " - `x_dim`: the number of sites along the x axis.\n",
    " - `y_dim`: the number of sites along the y axis.\n",
    " - `control_val`: Optional bit specifying the control value for constructing a controlled version of this gate. Defaults to None, which means un-controlled. \n",
    "\n",
    "#### Registers\n",
    " - `V`: Whether we're applying the pairwise part of the potential. If not set, this bloq does nothing.\n",
    " - `x`: Site indices, x component.\n",
    " - `y`: Site indices, y component. \n",
    "\n",
    "#### References\n",
    " - [Encoding Electronic Spectra in Quantum Circuits with Linear T Complexity](https://arxiv.org/abs/1805.03662). Section V. and Fig. 19, last operation; which references Fig 7.\n"
   ]
  },
  {
   "cell_type": "code",
   "execution_count": null,
   "id": "12c1832f",
   "metadata": {
    "cq.autogen": "HubbardSpinUpZ.bloq_doc.py"
   },
   "outputs": [],
   "source": [
    "from qualtran.bloqs.chemistry.hubbard_model.qubitization import HubbardSpinUpZ"
   ]
  },
  {
   "cell_type": "markdown",
   "id": "d0d41423",
   "metadata": {
    "cq.autogen": "HubbardSpinUpZ.example_instances.md"
   },
   "source": [
    "### Example Instances"
   ]
  },
  {
   "cell_type": "code",
   "execution_count": null,
   "id": "f696ee40",
   "metadata": {
    "cq.autogen": "HubbardSpinUpZ.hubb_spin_up_z"
   },
   "outputs": [],
   "source": [
    "n = sympy.Symbol('n')\n",
    "hubb_spin_up_z = HubbardSpinUpZ(x_dim=n, y_dim=n, control_val=1)"
   ]
  },
  {
   "cell_type": "code",
   "execution_count": null,
   "id": "84619902",
   "metadata": {
    "cq.autogen": "HubbardSpinUpZ.hubb_spin_up_z_small"
   },
   "outputs": [],
   "source": [
    "hubb_spin_up_z_small = HubbardSpinUpZ(x_dim=3, y_dim=3)"
   ]
  },
  {
   "cell_type": "markdown",
   "id": "374b7cbe",
   "metadata": {
    "cq.autogen": "HubbardSpinUpZ.graphical_signature.md"
   },
   "source": [
    "#### Graphical Signature"
   ]
  },
  {
   "cell_type": "code",
   "execution_count": null,
   "id": "d3907dca",
   "metadata": {
    "cq.autogen": "HubbardSpinUpZ.graphical_signature.py"
   },
   "outputs": [],
   "source": [
    "from qualtran.drawing import show_bloqs\n",
    "show_bloqs([hubb_spin_up_z, hubb_spin_up_z_small],\n",
    "           ['`hubb_spin_up_z`', '`hubb_spin_up_z_small`'])"
   ]
  }
 ],
 "metadata": {
  "kernelspec": {
   "display_name": "Python 3 (ipykernel)",
   "language": "python",
   "name": "python3"
  },
  "language_info": {
   "codemirror_mode": {
    "name": "ipython",
    "version": 3
   },
   "file_extension": ".py",
   "mimetype": "text/x-python",
   "name": "python",
   "nbconvert_exporter": "python",
   "pygments_lexer": "ipython3",
   "version": "3.11.8"
  }
 },
 "nbformat": 4,
 "nbformat_minor": 5
}
