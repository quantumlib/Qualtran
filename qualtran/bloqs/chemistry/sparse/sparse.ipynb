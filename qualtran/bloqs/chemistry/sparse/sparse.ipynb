{
 "cells": [
  {
   "cell_type": "markdown",
   "id": "0322a78b",
   "metadata": {
    "cq.autogen": "title_cell"
   },
   "source": [
    "# Sparse Hamiltonian\n",
    "\n",
    "SELECT and PREPARE for the second quantized sparse chemistry Hamiltonian.\n",
    "\n",
    "Starting from the traditional second quantized chemistry Hamiltonian\n",
    "$$\n",
    "H = \\sum_\\sigma \\sum_{pq} T_{pq} a_{p\\sigma}^\\dagger a_{q\\sigma}\n",
    "+\n",
    "\\frac{1}{2}\\sum_{\\alpha\\beta}\n",
    "\\sum_{pqrs}\n",
    "V_{pqrs} a_{p\\sigma}^\\dagger a_{r\\beta}^\\dagger a_{s\\beta} a_{q\\alpha},\n",
    "$$\n",
    "where $a_{p\\sigma}$ ($a_{q\\sigma}^\\dagger$) annihilate (create) an electron in the\n",
    "$p$-th orbital of spin $\\sigma$. \n",
    "We can rewrite this expression using the Jordan-Wigner transformation as\n",
    "$$\n",
    "H = T' + V',\n",
    "$$\n",
    "where\n",
    "$$\n",
    "T' = \\frac{1}{2} \\sum_\\sigma \\sum_{pq} T_{pq}'Q_{pq\\sigma},\n",
    "$$\n",
    "$$\n",
    "V' = \\sum_{\\alpha\\beta}\\sum_{pqrs}V_{pqrs}Q_{pq\\alpha}Q_{rs\\beta},\n",
    "$$\n",
    "and $V = (pq|rs)$ are the usual two-electron integrals in chemist's notation,\n",
    "$$\n",
    "T'_{pq} = T_{pq} - \\sum_r V_{pqrr},\n",
    "$$\n",
    "and\n",
    "$$\n",
    "Q_{pq\\sigma} =\n",
    "\\begin{cases}\n",
    "X_{p\\sigma}\\vec{Z}X_{q\\sigma} & p < q \\\\\n",
    "Y_{p\\sigma}\\vec{Z}Y_{q\\sigma} & p > q \\\\\n",
    "-Z_{p\\sigma} & p = q\n",
    "\\end{cases}.\n",
    "$$\n",
    "The sparse Hamiltonian simply sets to zero any term in the Hamiltonian where\n",
    "$|V_{pqrs}|$ is less than some threshold. This reduces the\n",
    "amount of data that is required to be loaded during state preparation as only\n",
    "non-zero symmetry inequivalent terms are required (the two electron integrals\n",
    "exhibit 8-fold permutational symmetry). Symmetries are restored by initially\n",
    "appropriately weighting these non-zero terms and then using $|+\\rangle$ states\n",
    "to perform control swaps between the $pqrs$ registers. "
   ]
  },
  {
   "cell_type": "code",
   "execution_count": null,
   "id": "fcd6b83b",
   "metadata": {
    "cq.autogen": "top_imports"
   },
   "outputs": [],
   "source": [
    "from qualtran import Bloq, CompositeBloq, BloqBuilder, Signature, Register\n",
    "from qualtran.drawing import show_bloq\n",
    "from typing import *\n",
    "import numpy as np"
   ]
  },
  {
   "cell_type": "markdown",
   "id": "b4812fa5",
   "metadata": {
    "cq.autogen": "_make_sparse_select.md"
   },
   "source": [
    "## `SelectSparse`\n",
    "SELECT oracle for the sparse Hamiltonian.\n",
    "\n",
    "Implements the two applications of Fig. 13.\n",
    "\n",
    "#### Parameters\n",
    " - `num_spin_orb`: The number of spin orbitals. Typically called N.\n",
    " - `num_controls`: The number of controls. \n",
    "\n",
    "#### Registers\n",
    " - `flag_1b`: a single qubit to flag whether the one-body Hamiltonian is to be applied or not during SELECT.\n",
    " - `swap_pq`: a |+> state to restore the symmetries of the p and q indices.\n",
    " - `swap_rs`: a |+> state to restore the symmetries of the r and s indices.\n",
    " - `swap_pqrs`: a |+> state to restore the symmetries of between (pq) and (rs).\n",
    " - `theta`: sign qubit.\n",
    " - `pqrs`: the register to store the spatial orbital index.\n",
    " - `alpha`: spin for (pq) indicies.\n",
    " - `beta`: spin for (rs) indicies. \n",
    "\n",
    "Refererences:\n",
    "    [Even More Efficient Quantum Computations of Chemistry Through Tensor\n",
    "        hypercontraction](https://arxiv.org/abs/2011.03494) Fig 13."
   ]
  },
  {
   "cell_type": "code",
   "execution_count": null,
   "id": "8031a99d",
   "metadata": {
    "cq.autogen": "_make_sparse_select.py"
   },
   "outputs": [],
   "source": [
    "from qualtran.bloqs.chemistry.sparse import SelectSparse\n",
    "\n",
    "bloq = SelectSparse(10)\n",
    "show_bloq(bloq)"
   ]
  },
  {
   "cell_type": "markdown",
   "id": "48cbeadd",
   "metadata": {
    "cq.autogen": "_make_sparse_prepare.md"
   },
   "source": [
    "## `PrepareSparse`\n",
    "Prepare oracle for the sparse chemistry Hamiltonian\n",
    "\n",
    "Prepare the state:\n",
    "\n",
    "$$\n",
    "    |0\\rangle|+\\rangle|0\\rangle|0\\rangle\n",
    "    \\sum_{\\sigma}\\sum_{pq}\n",
    "    \\sqrt{\\frac{T_{pq}'}{2\\lambda}}\n",
    "    |\\theta_{pq}^T\\rangle|pq\\sigma\\rangle|000\\rangle\n",
    "    +|1\\rangle|+\\rangle|+\\rangle|+\\rangle\n",
    "    \\sum_{\\alpha\\beta}\n",
    "    \\sum_{pqrs}\n",
    "    \\sqrt{\\frac{\\tilde{V}_{pqrs}'}{2\\lambda}}\n",
    "    |\\theta_{pqrs}^V\\rangle|pq\\alpha\\rangle|rs\\beta\\rangle\n",
    "$$\n",
    "\n",
    "#### Parameters\n",
    " - `num_spin_orb`: The number of spin orbitals.\n",
    " - `num_non_zero`: The number of non-zero matrix elements.\n",
    " - `num_bits_state_prep`: the number of bits of precision for state preparation. This will control the size of the keep register.\n",
    " - `num_bits_rot_aa`: The number of bits of precision for the single-qubit rotation for amplitude amplification during the uniform state preparataion. Default 8.\n",
    " - `adjoint`: Whether we are apply PREPARE or PREPARE^dag\n",
    " - `k`: qroam blocking factor. \n",
    "\n",
    "#### Registers\n",
    " - `pqrs`: the register to store the spatial orbital index.\n",
    " - `theta`: sign qubit.\n",
    " - `alpha`: spin for (pq) indicies.\n",
    " - `beta`: spin for (rs) indicies.\n",
    " - `swap_pq`: a |+> state to restore the symmetries of the p and q indices.\n",
    " - `swap_rs`: a |+> state to restore the symmetries of the r and s indices.\n",
    " - `swap_pqrs`: a |+> state to restore the symmetries of between (pq) and (rs).\n",
    " - `flag_1b`: a single qubit to flag whether the one-body Hamiltonian is to be applied or not during SELECT. \n",
    "\n",
    "Refererences:\n",
    "    [Even More Efficient Quantum Computations of Chemistry Through Tensor\n",
    "        hypercontraction](https://arxiv.org/abs/2011.03494) Eq. A11."
   ]
  },
  {
   "cell_type": "code",
   "execution_count": null,
   "id": "1d23a2ac",
   "metadata": {
    "cq.autogen": "_make_sparse_prepare.py"
   },
   "outputs": [],
   "source": [
    "from qualtran.bloqs.chemistry.sparse import PrepareSparse\n",
    "\n",
    "bloq = PrepareSparse(10, 1_000, 8)\n",
    "show_bloq(bloq)"
   ]
  }
 ],
 "metadata": {
  "kernelspec": {
   "display_name": "Python 3",
   "language": "python",
   "name": "python3"
  },
  "language_info": {
   "codemirror_mode": {
    "name": "ipython",
    "version": 3
   },
   "file_extension": ".py",
   "mimetype": "text/x-python",
   "name": "python",
   "nbconvert_exporter": "python",
   "pygments_lexer": "ipython3",
   "version": "3.11.5"
  }
 },
 "nbformat": 4,
 "nbformat_minor": 5
}
