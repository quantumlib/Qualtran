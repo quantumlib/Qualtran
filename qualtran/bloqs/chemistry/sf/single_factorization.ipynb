{
 "cells": [
  {
   "cell_type": "markdown",
   "id": "2fae5a66",
   "metadata": {
    "cq.autogen": "title_cell"
   },
   "source": [
    "# Single Factorization\n",
    "\n",
    "Bloqs for the single-factorized chemistry Hamiltonian in second quantization.\n",
    "\n",
    "Recall that for the single factorized Hamiltonian we have\n",
    "$$\n",
    "    H = \\sum_{pq}T'_{pq} a_p^\\dagger a_q + \\frac{1}{2} \\sum_l \\left(\\sum_{pq}\n",
    "W_{pq}^{(l)} a_p^\\dagger a_q\\right)^2.\n",
    "$$\n",
    "where $\\sum_l^L W_{pq}^{(l)} W_{rs}^{(l)} = (pq|rs)$ are the standard chemist's\n",
    "electron repulsion integrals."
   ]
  },
  {
   "cell_type": "code",
   "execution_count": null,
   "id": "3ac425f4",
   "metadata": {
    "cq.autogen": "top_imports"
   },
   "outputs": [],
   "source": [
    "from qualtran import Bloq, CompositeBloq, BloqBuilder, Signature, Register\n",
    "from qualtran import QBit, QInt, QUInt, QAny\n",
    "from qualtran.drawing import show_bloq, show_call_graph, show_counts_sigma\n",
    "from typing import *\n",
    "import numpy as np\n",
    "import sympy\n",
    "import cirq"
   ]
  },
  {
   "cell_type": "markdown",
   "id": "ab390dee",
   "metadata": {
    "cq.autogen": "SingleFactorizationOneBody.bloq_doc.md"
   },
   "source": [
    "## `SingleFactorizationOneBody`\n",
    "Block encoding of single factorization one-body Hamiltonian.\n",
    "\n",
    "Implements inner \"half\" of Fig. 15 in the reference. This block encoding is\n",
    "applied twice (with a reflection around the inner state preparation\n",
    "registers) to implement (roughly) the square of this one-body operator.\n",
    "\n",
    "#### Parameters\n",
    " - `num_aux`: Dimension of auxiliary index for single factorized Hamiltonian. Called $L$ in the reference.\n",
    " - `num_spin_orb`: The number of spin orbitals. Typically called $N$.\n",
    " - `num_bits_state_prep`: The number of bits of precision for coherent alias sampling. Called $\\aleph$ in the reference.\n",
    " - `num_bits_rot_aa`: Number of bits of precision for rotations for amplitude amplification in uniform state preparation. Called $b_r$ in the reference.\n",
    " - `is_adjoint`: Whether this bloq is daggered or not. This affects the QROM cost.\n",
    " - `kp1`: QROAM blocking factor for data prepared over l (auxiliary) index. Defaults to 1 (i.e. QROM).\n",
    " - `kp1`: QROAM blocking factor for data prepared over pq indicies. Defaults to 1 (i.e.) QROM.\n",
    " - `kp1_inv`: QROAM blocking factor for inverting data prepared over l (auxiliary) index.\n",
    " - `kp1_inv`: QROAM blocking factor for inverting of data prepared over pq. \n",
    "\n",
    "#### Registers\n",
    " - `succ_l`: Flag for success of l state preparation.\n",
    " - `l_ne_zero`: Flag for l != 0.\n",
    " - `succ_pq`: Flag for success of pq.\n",
    " - `l`: register to store L values for auxiliary index.\n",
    " - `p`: spatial orbital index. range(0, num_spin_orb // 2)\n",
    " - `q`: spatial orbital index. range(0, num_spin_orb // 2)\n",
    " - `rot_aa`: Qubit to rotate for amplitude amplification for state preparation.\n",
    " - `swap_pq`: Qubit for controlling swaps over p and q registers.\n",
    " - `spin`: Qubit for controlling swaps over system registers.\n",
    " - `sys`: The system registers. \n",
    "\n",
    "Refererences:\n",
    "    [Even More Efficient Quantum Computations of Chemistry Through Tensor\n",
    "        Hypercontraction](https://arxiv.org/abs/2011.03494) Fig. 15 page 43."
   ]
  },
  {
   "cell_type": "code",
   "execution_count": null,
   "id": "7e8ff548",
   "metadata": {
    "cq.autogen": "SingleFactorizationOneBody.bloq_doc.py"
   },
   "outputs": [],
   "source": [
    "from qualtran.bloqs.chemistry.sf.single_factorization import SingleFactorizationOneBody"
   ]
  },
  {
   "cell_type": "markdown",
   "id": "eca84002",
   "metadata": {
    "cq.autogen": "SingleFactorizationOneBody.example_instances.md"
   },
   "source": [
    "### Example Instances"
   ]
  },
  {
   "cell_type": "code",
   "execution_count": null,
   "id": "a3a8eec8",
   "metadata": {
    "cq.autogen": "SingleFactorizationOneBody.sf_one_body"
   },
   "outputs": [],
   "source": [
    "num_aux = 50\n",
    "num_bits_state_prep = 12\n",
    "num_bits_rot_aa = 7\n",
    "num_spin_orb = 10\n",
    "sf_one_body = SingleFactorizationOneBody(\n",
    "    num_aux=num_aux,\n",
    "    num_spin_orb=num_spin_orb,\n",
    "    num_bits_state_prep=num_bits_state_prep,\n",
    "    num_bits_rot_aa=num_bits_rot_aa,\n",
    "    is_adjoint=False,\n",
    ")"
   ]
  },
  {
   "cell_type": "markdown",
   "id": "fb3e5379",
   "metadata": {
    "cq.autogen": "SingleFactorizationOneBody.graphical_signature.md"
   },
   "source": [
    "#### Graphical Signature"
   ]
  },
  {
   "cell_type": "code",
   "execution_count": null,
   "id": "fa1c807d",
   "metadata": {
    "cq.autogen": "SingleFactorizationOneBody.graphical_signature.py"
   },
   "outputs": [],
   "source": [
    "from qualtran.drawing import show_bloqs\n",
    "show_bloqs([sf_one_body],\n",
    "           ['`sf_one_body`'])"
   ]
  },
  {
   "cell_type": "markdown",
   "id": "679296e6",
   "metadata": {
    "cq.autogen": "SingleFactorizationOneBody.call_graph.md"
   },
   "source": [
    "### Call Graph"
   ]
  },
  {
   "cell_type": "code",
   "execution_count": null,
   "id": "36b279af",
   "metadata": {
    "cq.autogen": "SingleFactorizationOneBody.call_graph.py"
   },
   "outputs": [],
   "source": [
    "from qualtran.resource_counting.generalizers import ignore_split_join\n",
    "sf_one_body_g, sf_one_body_sigma = sf_one_body.call_graph(max_depth=1, generalizer=ignore_split_join)\n",
    "show_call_graph(sf_one_body_g)\n",
    "show_counts_sigma(sf_one_body_sigma)"
   ]
  },
  {
   "cell_type": "markdown",
   "id": "e85fe81e",
   "metadata": {
    "cq.autogen": "SingleFactorizationBlockEncoding.bloq_doc.md"
   },
   "source": [
    "## `SingleFactorizationBlockEncoding`\n",
    "Block encoding of single factorization Hamiltonian.\n",
    "\n",
    "Implements Fig. 15 in the reference.\n",
    "\n",
    "#### Parameters\n",
    " - `num_spin_orb`: The number of spin orbitals. Typically called N.\n",
    " - `num_aux`: Dimension of auxiliary index for single factorized Hamiltonian. Called $L$ in the reference.\n",
    " - `num_bits_state_prep`: The number of bits of precision for coherent alias sampling. Called $\\aleph$ in the reference.\n",
    " - `num_bits_rot_aa_outer`: Number of bits of precision for rotations for amplitude amplification in outer uniform state preparation. Called $b_r$ in the reference.\n",
    " - `num_bits_rot_aa_inner`: Number of bits of precision for rotations for amplitude amplification in inner uniform state preparation. Called $b_r$ in the reference.\n",
    " - `kp1`: QROAM blocking factor for data prepared over l (auxiliary) index. Defaults to 1 (i.e. QROM).\n",
    " - `kp1`: QROAM blocking factor for data prepared over pq indicies. Defaults to 1 (i.e.) QROM.\n",
    " - `kp1_inv`: QROAM blocking factor for inverting the data prepared over l (auxiliary) index.\n",
    " - `kp1_inv`: QROAM blocking factor for inverting the data prepared over pq. \n",
    "\n",
    "#### Registers\n",
    " - `ctrl`: Control registers for state preparation.\n",
    " - `l`: register to store L values for auxiliary index.\n",
    " - `p`: spatial orbital index. range(0, num_spin_orb // 2)\n",
    " - `q`: spatial orbital index. range(0, num_spin_orb // 2)\n",
    " - `rot_aa`: Qubit to rotate for amplitude amplification for state preparation.\n",
    " - `swap_pq`: Qubit for controlling swaps over p and q registers.\n",
    " - `spin`: Qubit for controlling swaps over system registers.\n",
    " - `sys`: The system registers. \n",
    "\n",
    "Refererences:\n",
    "    [Even More Efficient Quantum Computations of Chemistry Through Tensor\n",
    "        Hypercontraction](https://arxiv.org/abs/2011.03494) Fig 15, page 43."
   ]
  },
  {
   "cell_type": "code",
   "execution_count": null,
   "id": "82d05628",
   "metadata": {
    "cq.autogen": "SingleFactorizationBlockEncoding.bloq_doc.py"
   },
   "outputs": [],
   "source": [
    "from qualtran.bloqs.chemistry.sf.single_factorization import SingleFactorizationBlockEncoding"
   ]
  },
  {
   "cell_type": "markdown",
   "id": "265a4c7c",
   "metadata": {
    "cq.autogen": "SingleFactorizationBlockEncoding.example_instances.md"
   },
   "source": [
    "### Example Instances"
   ]
  },
  {
   "cell_type": "code",
   "execution_count": null,
   "id": "318a995c",
   "metadata": {
    "cq.autogen": "SingleFactorizationBlockEncoding.sf_block_encoding"
   },
   "outputs": [],
   "source": [
    "num_spin_orb = 10\n",
    "num_aux = 50\n",
    "num_bits_state_prep = 12\n",
    "sf_block_encoding = SingleFactorizationBlockEncoding(\n",
    "    num_spin_orb=num_spin_orb,\n",
    "    num_aux=num_aux,\n",
    "    num_bits_state_prep=num_bits_state_prep,\n",
    "    num_bits_rot_aa_outer=7,\n",
    "    num_bits_rot_aa_inner=7,\n",
    ")"
   ]
  },
  {
   "cell_type": "markdown",
   "id": "314be7c7",
   "metadata": {
    "cq.autogen": "SingleFactorizationBlockEncoding.graphical_signature.md"
   },
   "source": [
    "#### Graphical Signature"
   ]
  },
  {
   "cell_type": "code",
   "execution_count": null,
   "id": "d34eb36a",
   "metadata": {
    "cq.autogen": "SingleFactorizationBlockEncoding.graphical_signature.py"
   },
   "outputs": [],
   "source": [
    "from qualtran.drawing import show_bloqs\n",
    "show_bloqs([sf_block_encoding],\n",
    "           ['`sf_block_encoding`'])"
   ]
  },
  {
   "cell_type": "markdown",
   "id": "e9fe3f4b",
   "metadata": {
    "cq.autogen": "SingleFactorizationBlockEncoding.call_graph.md"
   },
   "source": [
    "### Call Graph"
   ]
  },
  {
   "cell_type": "code",
   "execution_count": null,
   "id": "704e914e",
   "metadata": {
    "cq.autogen": "SingleFactorizationBlockEncoding.call_graph.py"
   },
   "outputs": [],
   "source": [
    "from qualtran.resource_counting.generalizers import ignore_split_join\n",
    "sf_block_encoding_g, sf_block_encoding_sigma = sf_block_encoding.call_graph(max_depth=1, generalizer=ignore_split_join)\n",
    "show_call_graph(sf_block_encoding_g)\n",
    "show_counts_sigma(sf_block_encoding_sigma)"
   ]
  }
 ],
 "metadata": {
  "kernelspec": {
   "display_name": "Python 3",
   "language": "python",
   "name": "python3"
  },
  "language_info": {
   "codemirror_mode": {
    "name": "ipython",
    "version": 3
   },
   "file_extension": ".py",
   "mimetype": "text/x-python",
   "name": "python",
   "nbconvert_exporter": "python",
   "pygments_lexer": "ipython3",
   "version": "3.11.5"
  }
 },
 "nbformat": 4,
 "nbformat_minor": 5
}
