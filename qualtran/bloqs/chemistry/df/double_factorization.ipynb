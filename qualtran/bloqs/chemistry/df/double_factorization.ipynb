{
 "cells": [
  {
   "cell_type": "markdown",
   "id": "bf3b37d4",
   "metadata": {
    "cq.autogen": "title_cell"
   },
   "source": [
    "# Double Factorization\n",
    "\n",
    "Bloqs for the double-factorized chemistry Hamiltonian in second quantization.\n",
    "\n",
    "Recall that for the single factorized Hamiltonian we have\n",
    "$$\n",
    "    H = \\sum_{pq}T'_{pq} a_p^\\dagger a_q + \\frac{1}{2} \\sum_l \\left(\\sum_{pq}\n",
    "W_{pq}^{(l)} a_p^\\dagger a_q\\right)^2.\n",
    "$$\n",
    "One arrives at the double factorized (DF) Hamiltonian by further factorizing the\n",
    "$W_{pq}^{(l)}$ terms as\n",
    "$$\n",
    "    W^{(l)}_{pq} = \\sum_{k} U^{(l)}_{pk} f_k^{(l)} U^{(l)*}_{qk},\n",
    "$$\n",
    "so that\n",
    "$$\n",
    "    H = \\sum_{pq}T'_{pq} a_p^\\dagger a_q + \\frac{1}{2} \\sum_l U^{(l)}\\left(\\sum_{k}^{\\Xi^{(l)}}\n",
    "        f_k^{(l)} n_k\\right)^2 U^{(l)\\dagger}\n",
    "$$\n",
    "where $\\Xi^{(l)} $ is the rank of second factorization."
   ]
  },
  {
   "cell_type": "code",
   "execution_count": null,
   "id": "a326aac6",
   "metadata": {
    "cq.autogen": "top_imports"
   },
   "outputs": [],
   "source": [
    "from qualtran import Bloq, CompositeBloq, BloqBuilder, Signature, Register\n",
    "from qualtran import QBit, QInt, QUInt, QAny\n",
    "from qualtran.drawing import show_bloq, show_call_graph, show_counts_sigma\n",
    "from typing import *\n",
    "import numpy as np\n",
    "import sympy\n",
    "import cirq"
   ]
  },
  {
   "cell_type": "markdown",
   "id": "18073b90",
   "metadata": {
    "cq.autogen": "DoubleFactorizationOneBody.bloq_doc.md"
   },
   "source": [
    "## `DoubleFactorizationOneBody`\n",
    "Block encoding of double factorization one-body Hamiltonian.\n",
    "\n",
    "Implements inner \"half\" of Fig. 15 in the reference. This block encoding is\n",
    "applied twice (with a reflection around the inner state preparation\n",
    "registers) to implement (roughly) the square of this one-body operator.\n",
    "\n",
    "#### Parameters\n",
    " - `num_aux`: Dimension of auxiliary index for double factorized Hamiltonian. Call L in Ref[1].\n",
    " - `num_spin_orb`: The number of spin orbitals. Typically called $N$.\n",
    " - `num_eig`: The total number of eigenvalues.\n",
    " - `num_bits_state_prep`: The number of bits of precision for coherent alias sampling. Called $\\aleph$ in the reference.\n",
    " - `num_bits_rot_aa_outer`: Number of bits of precision for single qubit rotation for amplitude amplification. Called $b_r$ in the reference.\n",
    " - `num_bits_rot`: Number of bits of precision for rotations for amplitude amplification in uniform state preparation. Called $\\beth$ in Ref[1]. \n",
    "\n",
    "#### Registers\n",
    " - `succ_l`: control for success for outer state preparation.\n",
    " - `succ_p`: control for success for inner state preparation, this is reused in second application.\n",
    " - `l_ne_zero`: control for one-body part of Hamiltonian.\n",
    " - `xi`: data register for number storing $\\Xi^{(l)}$.\n",
    " - `p`: Register for inner state preparation.\n",
    " - `rot_aa`: A qubit to be rotated for amplitude amplification.\n",
    " - `spin`: A single qubit register for spin superpositions.\n",
    " - `xi`: Register for rank parameter.\n",
    " - `offset`: Offset for p register.\n",
    " - `rot`: Amplitude amplification angles for inner preparations.\n",
    " - `rotations`: Rotations for basis rotations.\n",
    " - `sys`: The system register. \n",
    "\n",
    "Refererences:\n",
    "    [Even More Efficient Quantum Computations of Chemistry Through Tensor\n",
    "        Hypercontraction](https://arxiv.org/abs/2011.03494)"
   ]
  },
  {
   "cell_type": "code",
   "execution_count": null,
   "id": "47e59621",
   "metadata": {
    "cq.autogen": "DoubleFactorizationOneBody.bloq_doc.py"
   },
   "outputs": [],
   "source": [
    "from qualtran.bloqs.chemistry.df.double_factorization import DoubleFactorizationOneBody"
   ]
  },
  {
   "cell_type": "markdown",
   "id": "e369745c",
   "metadata": {
    "cq.autogen": "DoubleFactorizationOneBody.example_instances.md"
   },
   "source": [
    "### Example Instances"
   ]
  },
  {
   "cell_type": "code",
   "execution_count": null,
   "id": "089acc0a",
   "metadata": {
    "cq.autogen": "DoubleFactorizationOneBody.df_one_body"
   },
   "outputs": [],
   "source": [
    "num_bits_state_prep = 12\n",
    "num_bits_rot = 7\n",
    "num_spin_orb = 10\n",
    "num_aux = 50\n",
    "num_eig = num_aux * (num_spin_orb // 2)\n",
    "df_one_body = DoubleFactorizationOneBody(\n",
    "    num_aux=num_aux,\n",
    "    num_spin_orb=num_spin_orb,\n",
    "    num_eig=num_eig,\n",
    "    num_bits_state_prep=num_bits_state_prep,\n",
    "    num_bits_rot=num_bits_rot,\n",
    ")"
   ]
  },
  {
   "cell_type": "markdown",
   "id": "e0a9ff54",
   "metadata": {
    "cq.autogen": "DoubleFactorizationOneBody.graphical_signature.md"
   },
   "source": [
    "#### Graphical Signature"
   ]
  },
  {
   "cell_type": "code",
   "execution_count": null,
   "id": "27b7abca",
   "metadata": {
    "cq.autogen": "DoubleFactorizationOneBody.graphical_signature.py"
   },
   "outputs": [],
   "source": [
    "from qualtran.drawing import show_bloqs\n",
    "show_bloqs([df_one_body],\n",
    "           ['`df_one_body`'])"
   ]
  },
  {
   "cell_type": "markdown",
   "id": "30c20acc",
   "metadata": {
    "cq.autogen": "DoubleFactorizationOneBody.call_graph.md"
   },
   "source": [
    "### Call Graph"
   ]
  },
  {
   "cell_type": "code",
   "execution_count": null,
   "id": "9312ca7a",
   "metadata": {
    "cq.autogen": "DoubleFactorizationOneBody.call_graph.py"
   },
   "outputs": [],
   "source": [
    "from qualtran.resource_counting.generalizers import ignore_split_join\n",
    "df_one_body_g, df_one_body_sigma = df_one_body.call_graph(max_depth=1, generalizer=ignore_split_join)\n",
    "show_call_graph(df_one_body_g)\n",
    "show_counts_sigma(df_one_body_sigma)"
   ]
  },
  {
   "cell_type": "markdown",
   "id": "e763d309",
   "metadata": {
    "cq.autogen": "DoubleFactorizationBlockEncoding.bloq_doc.md"
   },
   "source": [
    "## `DoubleFactorizationBlockEncoding`\n",
    "Block encoding of double factorization Hamiltonian.\n",
    "\n",
    "Implements Fig. 15 in the reference.\n",
    "\n",
    "#### Parameters\n",
    " - `num_spin_orb`: The number of spin orbitals. Typically called $N$.\n",
    " - `num_aux`: Dimension of auxiliary index for double factorized Hamiltonian. Typically called $L$.\n",
    " - `num_eig`: The total number of eigenvalues.\n",
    " - `num_bits_state_prep`: The number of bits of precision for coherent alias sampling. Called $\\aleph$ in Ref[1]. We assume this is the same for both outer and inner state preparations.\n",
    " - `num_bits_rot`: Number of bits of precision for rotations amplification in uniform state preparation. Called $\\beth$ in Ref[1].\n",
    " - `num_bits_rot_aa_outer`: Number of bits of precision for single qubit rotation for amplitude amplification in outer state preparation. Called $b_r$ in the reference. Keeping inner and outer separate for consistency with openfermion.\n",
    " - `num_bits_rot_aa_inner`: Number of bits of precision for single qubit rotation for amplitude amplification in inner state preparation. Called $b_r$ in the reference. \n",
    "\n",
    "#### Registers\n",
    " - `ctrl`: Registers used to control application of Hamiltonian terms / preparation.\n",
    " - `l`: Register for outer state preparation.\n",
    " - `p`: Register for inner state preparation.\n",
    " - `rot_aa`: A qubit to be rotated for amplitude amplification.\n",
    " - `spin`: A single qubit register for spin superpositions.\n",
    " - `xi`: Register for rank parameter.\n",
    " - `offset`: Offset for p register.\n",
    " - `rot`: Amplitude amplification angles for inner preparations.\n",
    " - `rotations`: Rotations for basis rotations.\n",
    " - `sys`: The system register. \n",
    "\n",
    "Refererences:\n",
    "    [Even More Efficient Quantum Computations of Chemistry Through Tensor\n",
    "        hypercontraction](https://arxiv.org/abs/2011.03494)"
   ]
  },
  {
   "cell_type": "code",
   "execution_count": null,
   "id": "bae3b5ae",
   "metadata": {
    "cq.autogen": "DoubleFactorizationBlockEncoding.bloq_doc.py"
   },
   "outputs": [],
   "source": [
    "from qualtran.bloqs.chemistry.df.double_factorization import DoubleFactorizationBlockEncoding"
   ]
  },
  {
   "cell_type": "markdown",
   "id": "58a9f13e",
   "metadata": {
    "cq.autogen": "DoubleFactorizationBlockEncoding.example_instances.md"
   },
   "source": [
    "### Example Instances"
   ]
  },
  {
   "cell_type": "code",
   "execution_count": null,
   "id": "156d95bb",
   "metadata": {
    "cq.autogen": "DoubleFactorizationBlockEncoding.df_block_encoding"
   },
   "outputs": [],
   "source": [
    "num_spin_orb = 10\n",
    "num_aux = 50\n",
    "num_eig = num_aux * (num_spin_orb // 2)\n",
    "num_bits_state_prep = 12\n",
    "num_bits_rot = 7\n",
    "df_block_encoding = DoubleFactorizationBlockEncoding(\n",
    "    num_spin_orb=num_spin_orb,\n",
    "    num_aux=num_aux,\n",
    "    num_eig=num_eig,\n",
    "    num_bits_state_prep=num_bits_state_prep,\n",
    "    num_bits_rot_aa_outer=1,\n",
    "    num_bits_rot_aa_inner=7,\n",
    "    num_bits_rot=num_bits_rot,\n",
    ")"
   ]
  },
  {
   "cell_type": "markdown",
   "id": "93d8dd08",
   "metadata": {
    "cq.autogen": "DoubleFactorizationBlockEncoding.graphical_signature.md"
   },
   "source": [
    "#### Graphical Signature"
   ]
  },
  {
   "cell_type": "code",
   "execution_count": null,
   "id": "85a308fa",
   "metadata": {
    "cq.autogen": "DoubleFactorizationBlockEncoding.graphical_signature.py"
   },
   "outputs": [],
   "source": [
    "from qualtran.drawing import show_bloqs\n",
    "show_bloqs([df_block_encoding],\n",
    "           ['`df_block_encoding`'])"
   ]
  },
  {
   "cell_type": "code",
   "execution_count": null,
   "id": "134b077a",
   "metadata": {},
   "outputs": [],
   "source": [
    "from qualtran.drawing import get_musical_score_data, draw_musical_score\n",
    "msd = get_musical_score_data(df_block_encoding.decompose_bloq())\n",
    "fig, ax = draw_musical_score(msd)\n",
    "fig.set_size_inches(14, 10)"
   ]
  },
  {
   "cell_type": "markdown",
   "id": "1a7b8b68",
   "metadata": {
    "cq.autogen": "DoubleFactorizationBlockEncoding.call_graph.md"
   },
   "source": [
    "### Call Graph"
   ]
  },
  {
   "cell_type": "code",
   "execution_count": null,
   "id": "2ebe7ba9",
   "metadata": {
    "cq.autogen": "DoubleFactorizationBlockEncoding.call_graph.py"
   },
   "outputs": [],
   "source": [
    "from qualtran.resource_counting.generalizers import ignore_split_join\n",
    "df_block_encoding_g, df_block_encoding_sigma = df_block_encoding.call_graph(max_depth=1, generalizer=ignore_split_join)\n",
    "show_call_graph(df_block_encoding_g)\n",
    "show_counts_sigma(df_block_encoding_sigma)"
   ]
  }
 ],
 "metadata": {
  "kernelspec": {
   "display_name": "Python 3",
   "language": "python",
   "name": "python3"
  },
  "language_info": {
   "codemirror_mode": {
    "name": "ipython",
    "version": 3
   },
   "file_extension": ".py",
   "mimetype": "text/x-python",
   "name": "python",
   "nbconvert_exporter": "python",
   "pygments_lexer": "ipython3",
   "version": "3.11.5"
  }
 },
 "nbformat": 4,
 "nbformat_minor": 5
}
