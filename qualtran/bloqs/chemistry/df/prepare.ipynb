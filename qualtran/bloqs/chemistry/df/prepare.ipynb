{
 "cells": [
  {
   "cell_type": "markdown",
   "id": "ff27e7f2",
   "metadata": {
    "cq.autogen": "title_cell"
   },
   "source": [
    "# Sparse\n",
    "\n",
    "PREPARE for the sparse chemistry Hamiltonian in second quantization."
   ]
  },
  {
   "cell_type": "code",
   "execution_count": null,
   "id": "0bab4965",
   "metadata": {
    "cq.autogen": "top_imports"
   },
   "outputs": [],
   "source": [
    "from qualtran import Bloq, CompositeBloq, BloqBuilder, Signature, Register\n",
    "from qualtran.drawing import show_bloq, show_call_graph, show_counts_sigma\n",
    "from typing import *\n",
    "import numpy as np\n",
    "import sympy\n",
    "import cirq"
   ]
  },
  {
   "cell_type": "markdown",
   "id": "ee8f6cc5",
   "metadata": {
    "cq.autogen": "PrepareSparse.bloq_doc.md"
   },
   "source": [
    "## `PrepareSparse`\n",
    "Prepare oracle for the sparse chemistry Hamiltonian\n",
    "\n",
    "Prepare the state:\n",
    "\n",
    "$$\n",
    "    |0\\rangle|+\\rangle|0\\rangle|0\\rangle\n",
    "    \\sum_{\\sigma}\\sum_{pq}\n",
    "    \\sqrt{\\frac{T_{pq}'}{2\\lambda}}\n",
    "    |\\theta_{pq}^T\\rangle|pq\\sigma\\rangle|000\\rangle\n",
    "    +|1\\rangle|+\\rangle|+\\rangle|+\\rangle\n",
    "    \\sum_{\\alpha\\beta}\n",
    "    \\sum_{pqrs}\n",
    "    \\sqrt{\\frac{\\tilde{V}_{pqrs}'}{2\\lambda}}\n",
    "    |\\theta_{pqrs}^V\\rangle|pq\\alpha\\rangle|rs\\beta\\rangle\n",
    "$$\n",
    "\n",
    "#### Parameters\n",
    " - `num_spin_orb`: The number of spin orbitals.\n",
    " - `num_non_zero`: The number of non-zero matrix elements.\n",
    " - `num_bits_state_prep`: the number of bits of precision for state preparation. This will control the size of the keep register.\n",
    " - `num_bits_rot_aa`: The number of bits of precision for the single-qubit rotation for amplitude amplification during the uniform state preparataion. Default 8.\n",
    " - `adjoint`: Whether we are apply PREPARE or PREPARE^dag\n",
    " - `k`: qroam blocking factor. \n",
    "\n",
    "#### Registers\n",
    " - `pqrs`: the register to store the spatial orbital index.\n",
    " - `theta`: sign qubit.\n",
    " - `alpha`: spin for (pq) indicies.\n",
    " - `beta`: spin for (rs) indicies.\n",
    " - `swap_pq`: a |+> state to restore the symmetries of the p and q indices.\n",
    " - `swap_rs`: a |+> state to restore the symmetries of the r and s indices.\n",
    " - `swap_pqrs`: a |+> state to restore the symmetries of between (pq) and (rs).\n",
    " - `flag_1b`: a single qubit to flag whether the one-body Hamiltonian is to be applied or not during SELECT. \n",
    "\n",
    "Refererences:\n",
    "    [Even More Efficient Quantum Computations of Chemistry Through Tensor\n",
    "        hypercontraction](https://arxiv.org/abs/2011.03494) Eq. A11."
   ]
  },
  {
   "cell_type": "code",
   "execution_count": null,
   "id": "f646f5bf",
   "metadata": {
    "cq.autogen": "PrepareSparse.bloq_doc.py"
   },
   "outputs": [],
   "source": [
    "from qualtran.bloqs.chemistry.sparse.prepare import PrepareSparse"
   ]
  },
  {
   "cell_type": "markdown",
   "id": "87912e61",
   "metadata": {
    "cq.autogen": "PrepareSparse.example_instances.md"
   },
   "source": [
    "### Example Instances"
   ]
  },
  {
   "cell_type": "code",
   "execution_count": null,
   "id": "c3b5e661",
   "metadata": {
    "cq.autogen": "PrepareSparse.prepare_sparse"
   },
   "outputs": [],
   "source": [
    "num_spin_orb = 4\n",
    "tpq = np.random.random((num_spin_orb//2, num_spin_orb//2))\n",
    "tpq = 0.5 * (tpq + tpq.T)\n",
    "eris = np.random.random((num_spin_orb//2,) * 4)\n",
    "eris += np.transpose(eris, (0, 1, 3, 2))\n",
    "eris += np.transpose(eris, (1, 0, 2, 3))\n",
    "eris += np.transpose(eris, (2, 3, 0, 1))\n",
    "prep = PrepareSparse.from_hamiltonian_coeffs(num_spin_orb, tpq, eris)"
   ]
  },
  {
   "cell_type": "markdown",
   "id": "f20b4ea2",
   "metadata": {
    "cq.autogen": "PrepareSparse.graphical_signature.md"
   },
   "source": [
    "#### Graphical Signature"
   ]
  },
  {
   "cell_type": "code",
   "execution_count": null,
   "id": "c9fbab59",
   "metadata": {
    "cq.autogen": "PrepareSparse.graphical_signature.py"
   },
   "outputs": [],
   "source": [
    "from qualtran.drawing import show_bloqs\n",
    "show_bloqs([prepare_sparse],\n",
    "           ['`prepare_sparse`'])"
   ]
  },
  {
   "cell_type": "markdown",
   "id": "88be79e6",
   "metadata": {
    "cq.autogen": "PrepareSparse.call_graph.md"
   },
   "source": [
    "### Call Graph"
   ]
  },
  {
   "cell_type": "code",
   "execution_count": null,
   "id": "7fb3d82f",
   "metadata": {
    "cq.autogen": "PrepareSparse.call_graph.py"
   },
   "outputs": [],
   "source": [
    "prepare_sparse_g, prepare_sparse_sigma = prepare_sparse.call_graph()\n",
    "show_call_graph(prepare_sparse_g)\n",
    "show_counts_sigma(prepare_sparse_sigma)"
   ]
  }
 ],
 "metadata": {
  "kernelspec": {
   "display_name": "Python 3",
   "language": "python",
   "name": "python3"
  },
  "language_info": {
   "name": "python"
  }
 },
 "nbformat": 4,
 "nbformat_minor": 5
}
