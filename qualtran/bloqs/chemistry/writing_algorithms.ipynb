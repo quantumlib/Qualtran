{
 "cells": [
  {
   "cell_type": "markdown",
   "metadata": {},
   "source": [
    "# Writing and Optimizing Fault Tolerant Chemistry Algorithms with Qualtran \n",
    "\n",
    "In this tutorial we will outline how one might go about writing a **new** algorithm in qualtran, using the block encoding of the chemistry Hamiltonian as an example. We will attempt to implement the most naive block encoding of the second quantized chemistry Hamiltonian\n",
    "$$\n",
    "H = \\sum_\\sigma \\sum_{pq}^{N/2} T_{pq} a_{p\\sigma}^\\dagger a_{q\\sigma}\n",
    "+\n",
    "\\frac{1}{2}\\sum_{\\alpha\\beta}\n",
    "\\sum_{pqrs}^{N/2}\n",
    "V_{pqrs} a_{p\\alpha}^\\dagger a_{q\\alpha} a_{r\\beta}^\\dagger a_{s\\beta} ,\n",
    "$$\n",
    "where $a_{p\\sigma}$ ($a_{q\\sigma}^\\dagger$) annihilate (create) an electron in the\n",
    "$p$-th orbital of spin $\\sigma$. The $V_{pqrs}$ tensor contains $O(N^4)$ elements and represents a bottleneck for block encoding second quantized Hamiltonians. Our goal will be to \n",
    "\n",
    "1. Understand how to write algorithms in bloqs, including deferring the implementation of certain unimportant details.\n",
    "2. Develop a feel for the most expensive parts of an algorithm.\n",
    "3. Understand some basic principles on how to optimize an algorithm, including the trade-offs which arise.\n",
    "4. Compare our naive algorithm to those implemented in qualtran."
   ]
  },
  {
   "cell_type": "markdown",
   "metadata": {},
   "source": [
    "## Prepare\n",
    "\n",
    "To begin let's write a state preparation bloq using the [PrepareOracle](../select_and_prepare.py) abstract base class, which defines the registers we **must** define.  The goal will be to prepare the state\n",
    "\n",
    "$$\n",
    "\\mathrm{Prepare}|0\\rangle^{\\otimes 4 \\log(N/2) + 2} = \\sum_{\\sigma}\\sum_{pq} \\sqrt{\\frac{|T_{pq}|}{\\lambda}} |\\theta_{pq}\\rangle|pq\\sigma\\rangle|000\\rangle + \\sum_{\\alpha\\beta}\\sum_{pqrs}\\sqrt{\\frac{|V_{pqrs}|}{2\\lambda}}|\\theta_{pqrs}\\rangle|pq\\alpha\\rangle|rs\\beta\\rangle\n",
    "$$\n",
    "Here the registers $p, q, r$ and $s$ are of size $\\log(N/2)$ and the spin and sign ($\\theta$) registers are single qubits."
   ]
  },
  {
   "cell_type": "code",
   "execution_count": 3,
   "metadata": {},
   "outputs": [],
   "source": [
    "from functools import cached_property\n",
    "from typing import Tuple\n",
    "from attrs import frozen\n",
    "from qualtran import SelectionRegister\n",
    "\n",
    "from qualtran.bloqs.select_and_prepare import PrepareOracle\n",
    "\n",
    "@frozen\n",
    "class PrepareSecondQuantization(PrepareOracle):\n",
    "\n",
    "    num_spin_orb: int\n",
    "\n",
    "    @cached_property\n",
    "    def selection_registers(self) -> Tuple[SelectionRegister, ...]:\n",
    "        bitsize = (self.num_spin_orb // 2 - 1).bit_length()\n",
    "        return (\n",
    "            SelectionRegister(name='spatial', bitsize=bitsize, shape=(4,)),\n",
    "            SelectionRegister(name='spin', bitsize=1, shape=(2,)),\n",
    "            SelectionRegister(name='sign', bitsize=1),\n",
    "        )"
   ]
  },
  {
   "cell_type": "code",
   "execution_count": null,
   "metadata": {},
   "outputs": [],
   "source": []
  }
 ],
 "metadata": {
  "kernelspec": {
   "display_name": "qualtran",
   "language": "python",
   "name": "python3"
  },
  "language_info": {
   "codemirror_mode": {
    "name": "ipython",
    "version": 3
   },
   "file_extension": ".py",
   "mimetype": "text/x-python",
   "name": "python",
   "nbconvert_exporter": "python",
   "pygments_lexer": "ipython3",
   "version": "3.11.5"
  }
 },
 "nbformat": 4,
 "nbformat_minor": 2
}
