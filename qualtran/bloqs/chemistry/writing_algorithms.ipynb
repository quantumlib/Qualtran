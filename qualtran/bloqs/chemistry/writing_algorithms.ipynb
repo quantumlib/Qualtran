{
 "cells": [
  {
   "cell_type": "markdown",
   "metadata": {},
   "source": [
    "# Writing and Optimizing Fault Tolerant Chemistry Algorithms with Qualtran \n",
    "<p style=\"text-align: center;\"><a href=\"mailto:fmalone@google.com\">Fionn Malone</a></p>\n"
   ]
  },
  {
   "cell_type": "markdown",
   "metadata": {},
   "source": [
    "\n",
    "In this tutorial we will outline how one might go about writing a **new** algorithm in qualtran, using the block encoding of the chemistry Hamiltonian as an example. We will attempt to implement the most basic block encoding of the second quantized chemistry Hamiltonian\n",
    "$$\n",
    "H = \\sum_\\sigma \\sum_{pq}^{N/2} T_{pq} a_{p\\sigma}^\\dagger a_{q\\sigma}\n",
    "+\n",
    "\\frac{1}{2}\\sum_{\\alpha\\beta}\n",
    "\\sum_{pqrs}^{N/2}\n",
    "V_{pqrs} a_{p\\alpha}^\\dagger a_{q\\alpha} a_{r\\beta}^\\dagger a_{s\\beta} ,\n",
    "$$\n",
    "where $a_{p\\sigma}$ ($a_{q\\sigma}^\\dagger$) annihilate (create) an electron in the\n",
    "$p$-th orbital of spin $\\sigma$. The $V_{pqrs}$ tensor contains $O(N^4)$ elements and represents a bottleneck for block encoding second quantized Hamiltonians. Our goal will be to \n",
    "\n",
    "1. Understand how to write algorithms in bloqs, including deferring the implementation of certain unimportant details.\n",
    "2. Develop a feel for the most expensive parts of an algorithm.\n",
    "3. Understand some basic principles on how to optimize an algorithm, including the trade-offs which arise.\n",
    "4. Compare our naive algorithm to those implemented in qualtran.\n",
    "\n",
    "We will focus on building a Prepare bloq, as [select](sparse/select_bloq.py) has little to optimize."
   ]
  },
  {
   "cell_type": "markdown",
   "metadata": {},
   "source": [
    "## Simple Strategy\n",
    "We will follow a simple strategy for building up algorithms in qualtran:\n",
    "\n",
    "1. Define the signature of your bloq.\n",
    "2. Define the `build_call_graph` method using more primitive bloqs implemented in qualtran.\n",
    "3. Think about other implementations and adjust step 2 if necessary.\n",
    "4. Wire up your bloq using by defining a `build_composite_bloq` method.\n",
    "5. Check that the costs of step 4 == the costs of step 2"
   ]
  },
  {
   "cell_type": "markdown",
   "metadata": {},
   "source": [
    "## Prepare\n",
    "\n",
    "To begin, let's write a state preparation bloq using the [PrepareOracle](../select_and_prepare.py) abstract base class, which specifies groups of registers we **must** define.  The goal will be to prepare the state\n",
    "\n",
    "$$\n",
    "\\mathrm{Prepare}|0\\rangle^{\\otimes 4 \\log(N/2) + 3} = \\sum_{\\sigma}\\sum_{pq} \\sqrt{\\frac{|T_{pq}|}{\\lambda}} |\\theta_{pq}\\rangle|pq\\sigma\\rangle|000\\rangle + \\sum_{\\alpha\\beta}\\sum_{pqrs}\\sqrt{\\frac{|V_{pqrs}|}{2\\lambda}}|\\theta_{pqrs}\\rangle|pq\\alpha\\rangle|rs\\beta\\rangle\n",
    "$$\n",
    "Here the registers $p, q, r$ and $s$ are of size $\\log(N/2)$ and the spin and sign ($\\theta$) registers are single qubits. It helps to start by just specifying the signature of the bloq:"
   ]
  },
  {
   "cell_type": "code",
   "execution_count": null,
   "metadata": {},
   "outputs": [],
   "source": [
    "from functools import cached_property\n",
    "from typing import Tuple\n",
    "from attrs import frozen\n",
    "from qualtran import Register, BoundedQUInt\n",
    "\n",
    "from qualtran.drawing import show_bloq\n",
    "from qualtran.bloqs.select_and_prepare import PrepareOracle\n",
    "\n",
    "@frozen\n",
    "class PrepareSecondQuantization(PrepareOracle):\n",
    "\n",
    "    num_spin_orb: int\n",
    "\n",
    "    @cached_property\n",
    "    def selection_registers(self) -> Tuple[Register, ...]:\n",
    "        bitsize = (self.num_spin_orb // 2 - 1).bit_length()\n",
    "        return (\n",
    "            Register('p', BoundedQUInt(bitsize=bitsize, iteration_length=self.num_spin_orb//2)),\n",
    "            Register('q', BoundedQUInt(bitsize=bitsize, iteration_length=self.num_spin_orb//2)),\n",
    "            Register('r', BoundedQUInt(bitsize=bitsize, iteration_length=self.num_spin_orb//2)),\n",
    "            Register('s', BoundedQUInt(bitsize=bitsize, iteration_length=self.num_spin_orb//2)),\n",
    "            Register('alpha', BoundedQUInt(bitsize=1)),\n",
    "            Register('beta', BoundedQUInt(bitsize=1)),\n",
    "            Register('sign', BoundedQUInt(bitsize=1)),\n",
    "        )\n",
    "\n",
    "    # defer definition of junk registers until you actually need to implement a decomposition.\n",
    "\n",
    "show_bloq(PrepareSecondQuantization(4))"
   ]
  },
  {
   "cell_type": "markdown",
   "metadata": {},
   "source": [
    "Ok! That looks about right as a signature. Next we can think about how to implement the state preparation, which, for all second quantized algorithms follows the alias sampling procedure from the [Linear T paper](https://arxiv.org/abs/1805.03662). The general procedure is\n",
    "\n",
    "1. Prepare a uniform superposition over the selection registers ($p,q,r,s,\\alpha,\\beta$).\n",
    "2. Output a qrom with alt/keep values, with the qrom indexed by $p, q, r$ and $s$ (typically the chemistry inputs are spin-independent)\n",
    "3. Perform an inequality test between the keep register and a register in a uniform superposition.\n",
    "4. Swap the alt values dependent on controlled on the result of the inequality test."
   ]
  },
  {
   "cell_type": "code",
   "execution_count": null,
   "metadata": {},
   "outputs": [],
   "source": [
    "from typing import Set, Optional\n",
    "from qualtran.bloqs.arithmetic.comparison import LessThanEqual\n",
    "from qualtran.bloqs.basic_gates.swap import CSwap\n",
    "from qualtran.resource_counting import SympySymbolAllocator, BloqCountT\n",
    "from qualtran.bloqs.prepare_uniform_superposition import PrepareUniformSuperposition\n",
    "from qualtran.bloqs.chemistry.black_boxes import QROAM\n",
    "\n",
    "\n",
    "@frozen\n",
    "class PrepareSecondQuantization(PrepareOracle):\n",
    "\n",
    "    num_spin_orb: int\n",
    "    num_bits_state_prep: int = 16\n",
    "    qroam_block_size: Optional[int] = None\n",
    "\n",
    "    @cached_property\n",
    "    def selection_registers(self) -> Tuple[Register, ...]:\n",
    "        bitsize = (self.num_spin_orb // 2 - 1).bit_length()\n",
    "        return (\n",
    "            Register('p', BoundedQUInt(bitsize=bitsize, iteration_length=self.num_spin_orb // 2)),\n",
    "            Register('q', BoundedQUInt(bitsize=bitsize, iteration_length=self.num_spin_orb // 2)),\n",
    "            Register('r', BoundedQUInt(bitsize=bitsize, iteration_length=self.num_spin_orb // 2)),\n",
    "            Register('s', BoundedQUInt(bitsize=bitsize, iteration_length=self.num_spin_orb // 2)),\n",
    "            Register('alpha', BoundedQUInt(1)),\n",
    "            Register('beta', BoundedQUInt(1)),\n",
    "            Register('sign', BoundedQUInt(1)),\n",
    "        )\n",
    "\n",
    "    def build_call_graph(self, ssa: 'SympySymbolAllocator') -> Set['BloqCountT']:\n",
    "        # 1. Prepare a uniform superposition over p, q, r and s\n",
    "        bitsize = (self.num_spin_orb // 2 - 1).bit_length()\n",
    "        # a factor of 4 here for p, q, r, and s\n",
    "        cost_uni_prep = (PrepareUniformSuperposition(self.num_spin_orb//2), 4)\n",
    "        # we are free to ignore certain costs at this point, so let's forget\n",
    "        # about the Hadamards on the alpha/beta registers.\n",
    "        # 2. Output a QROM\n",
    "        # we have N^4 elements to output\n",
    "        data_size = (self.num_spin_orb // 2)**2 + (self.num_spin_orb // 2) ** 4\n",
    "        # We need the alt values for p,q,r,s, the theta values and alt values\n",
    "        # for theta, and the keep values (for alias sampling.)\n",
    "        target_bitsize = sum((bitsize,)*4 + (1, 1, self.num_bits_state_prep))\n",
    "        # here we are using a \"black box\" QROAM which has formulaic costs for\n",
    "        # qrom or qroam. Setting qroam_block_size=1 ensures we get a QROM.\n",
    "        cost_qrom = (QROAM(data_size, target_bitsize, qroam_block_size=self.qroam_block_size), 1)\n",
    "        # 3. inequality test the keep register \n",
    "        cost_ineq = (LessThanEqual(self.num_bits_state_prep, self.num_bits_state_prep), 1)\n",
    "        # 4. swap the alt values, the sign bit does not need a swap.\n",
    "        cost_swap = (CSwap(bitsize), 4)\n",
    "        return {cost_uni_prep, cost_qrom, cost_ineq, cost_swap}"
   ]
  },
  {
   "cell_type": "markdown",
   "metadata": {},
   "source": [
    "At this point we can check that the scaling of our \"algorithm\" is correct (i.e. $O(N^4)$)"
   ]
  },
  {
   "cell_type": "code",
   "execution_count": null,
   "metadata": {},
   "outputs": [],
   "source": [
    "import numpy as np\n",
    "from qualtran.bloqs.basic_gates import TGate\n",
    "from qualtran.bloqs.chemistry.chem_tutorials import plot_linear_log_log\n",
    "import matplotlib.pyplot as plt\n",
    "\n",
    "fig, ax = plt.subplots()\n",
    "basis_vals = np.linspace(10, 100, 10, dtype=int)\n",
    "tcounts = [PrepareSecondQuantization(int(n), qroam_block_size=1).call_graph()[1][TGate()] for n in basis_vals]\n",
    "plot_linear_log_log(ax, basis_vals, np.array(tcounts))\n",
    "ax.set_xlabel(\"$N$\")\n",
    "ax.set_ylabel(\"$T$ count\")"
   ]
  },
  {
   "cell_type": "markdown",
   "metadata": {},
   "source": [
    "Good. Now we can make our first optimization. What happens if we use QROAM instead of QROM? To do so we can set the qrom blocking factor to be $>1$."
   ]
  },
  {
   "cell_type": "code",
   "execution_count": null,
   "metadata": {},
   "outputs": [],
   "source": [
    "fig, ax = plt.subplots()\n",
    "basis_vals = np.linspace(50, 200, 10, dtype=int)\n",
    "for ib, block_size in enumerate([1, 2, 8, 32, None]):\n",
    "    tcounts = [PrepareSecondQuantization(int(n), qroam_block_size=block_size).call_graph()[1][TGate()] for n in basis_vals]\n",
    "    if block_size is None:\n",
    "        block_size = 'opt'\n",
    "    plot_linear_log_log(ax, basis_vals, np.array(tcounts), label=f'block size = {block_size}: ', color=f'C{ib}')\n",
    "ax.set_xlabel(\"$N$\")\n",
    "ax.set_ylabel(\"$T$ count\")"
   ]
  },
  {
   "cell_type": "markdown",
   "metadata": {},
   "source": [
    "So using the optimal block size (corresponding to None here), allows us to achieve an $O(N^2)$ scaling with the system size.\n",
    "Question: why does using a constant block size not affect the asymptotic scaling? \n",
    "\n",
    "But wait! We have made a mistake, QROAM requires a single index as a selection register, thus we need to form a contiguous index from $(p, q, r, s)$ as\n",
    "\n",
    "$$\n",
    "l = p (N/2)^3 + q (N/2)^2 + r (N/2) + s\n",
    "$$\n",
    "\n",
    "Could this be a significant cost? It requires three multiplications (the powers of $N$ can be precomputed and loaded as classical values) and 4 additions. Roughly this costs $3 (n^2 - n) + 4\\times(n-1) = 3n^2 + n - 1$ Toffolis, where $n = \\log \\lceil N/2\\rceil$. Given that this cost is logarithmic in $N$ and our QROAM costs is quadratic in $N$, it is totally negligible.\n",
    "\n",
    "### Exercises:\n",
    "1. Figure out where these arithmetic estimates came from. Hint: arithmetic.\n",
    "2. Work out the precise cost for multiplying a classical value by an integer and implement these as bloqs.\n",
    "3. Add these bloqs to your call_graph and check our logic about it being negligible. How negligible is negligible?"
   ]
  },
  {
   "cell_type": "markdown",
   "metadata": {},
   "source": [
    "## Wiring up\n",
    "\n",
    "At this point you might be suspicious of this QROAM bloq, or that just defining a call_graph is a little underwhelming. So let us get into the more unpleasant details and write some thing that will (nearly) compile down to a circuit. \n",
    "\n",
    "First let's write a placeholder bloq for our complicated contiguous register gate."
   ]
  },
  {
   "cell_type": "code",
   "execution_count": null,
   "metadata": {},
   "outputs": [],
   "source": [
    "from qualtran import Signature, Bloq\n",
    "from qualtran.bloqs.basic_gates import Toffoli\n",
    "from qualtran.cirq_interop.t_complexity_protocol import TComplexity\n",
    "\n",
    "\n",
    "@frozen\n",
    "class ContiguousIndexFourD(Bloq):\n",
    "    bitsize: int\n",
    "    output_bitsize: int\n",
    "\n",
    "    @cached_property\n",
    "    def signature(self) -> Signature:\n",
    "        return Signature.build(\n",
    "            p=self.bitsize, q=self.bitsize, r=self.bitsize, s=self.bitsize, l=self.output_bitsize\n",
    "        )\n",
    "\n",
    "    # Exercise (easy): wire up this bloq\n",
    "    # Exercise (harder): test that your decomposition is correct! Some of the\n",
    "    #   arithmetic sub-bloqs will require more details!\n",
    "    # Exercise (easy): add an on_classical_vals method\n",
    "    # Exercise: Send a PR for this bloq\n",
    "\n",
    "    def t_complexity(self) -> TComplexity:\n",
    "        return TComplexity(t=4 * (3 * (self.bitsize**2 - self.bitsize) + 4 * (self.bitsize - 1))) \n",
    "\n",
    "    def build_call_graph(self, ssa: 'SympySymbolAllocator') -> Set['BloqCountT']:\n",
    "        # Exercise: Use existing bloqs in qualtran to give this call graph a little more spice.\n",
    "        cost = 3 * (self.bitsize**2 - self.bitsize) + 4 * (self.bitsize - 1)\n",
    "        return {(Toffoli(), cost)}"
   ]
  },
  {
   "cell_type": "markdown",
   "metadata": {},
   "source": [
    "Next, we can write our bloq decomposition, using existing primitives / algorithms in qualtran. Be on the lookout, we've sprinkled in a few errors. "
   ]
  },
  {
   "cell_type": "code",
   "execution_count": null,
   "metadata": {},
   "outputs": [],
   "source": [
    "from attrs import field\n",
    "from typing import Dict\n",
    "from qualtran import SoquetT, BloqBuilder, Register\n",
    "\n",
    "from qualtran.bloqs.prepare_uniform_superposition import PrepareUniformSuperposition\n",
    "from qualtran.bloqs.select_swap_qrom import SelectSwapQROM, find_optimal_log_block_size\n",
    "from qualtran.bloqs.basic_gates import CSwap, Hadamard\n",
    "from qualtran.bloqs.on_each import OnEach\n",
    "\n",
    "\n",
    "@frozen\n",
    "class PrepareSecondQuantizationDetailed(PrepareOracle):\n",
    "\n",
    "    num_spin_orb: int\n",
    "    alt_pqrs: Tuple[int, ...] = field(repr=False)\n",
    "    keep: Tuple[int, ...] = field(repr=False)\n",
    "    num_bits_state_prep: int = 16\n",
    "    qroam_block_size: Optional[int] = None\n",
    "\n",
    "    @cached_property\n",
    "    def selection_registers(self) -> Tuple[Register, ...]:\n",
    "        ns = self.num_spin_orb // 2\n",
    "        bitsize = (ns - 1).bit_length()\n",
    "        data_size = (ns ** 2 + ns**4)\n",
    "        contg_reg_size = (data_size - 1).bit_length()\n",
    "        return (\n",
    "            Register('p', BoundedQUInt(bitsize=bitsize, iteration_length=self.num_spin_orb // 2)),\n",
    "            Register('q', BoundedQUInt(bitsize=bitsize, iteration_length=self.num_spin_orb // 2)),\n",
    "            Register('r', BoundedQUInt(bitsize=bitsize, iteration_length=self.num_spin_orb // 2)),\n",
    "            Register('s', BoundedQUInt(bitsize=bitsize, iteration_length=self.num_spin_orb // 2)),\n",
    "            Register(\n",
    "                'l', BoundedQUInt(bitsize=contg_reg_size, iteration_length=data_size),\n",
    "            ),\n",
    "            Register('alpha', BoundedQUInt(1)),\n",
    "            Register('beta', BoundedQUInt(1)),\n",
    "            Register('sigma', BoundedQUInt(bitsize=self.num_bits_state_prep)),\n",
    "        )\n",
    "\n",
    "    @cached_property\n",
    "    def junk_registers(self) -> Tuple[Register, ...]:\n",
    "        alt_bitsize = (self.num_spin_orb // 2 - 1).bit_length()\n",
    "        return (\n",
    "            Register('alt_pqrs', bitsize=alt_bitsize, shape=(4,)),\n",
    "            Register('keep', bitsize=self.num_bits_state_prep),\n",
    "            Register('less_than', bitsize=1),\n",
    "        )\n",
    "\n",
    "    def build_composite_bloq(\n",
    "        self,\n",
    "        bb: 'BloqBuilder',\n",
    "        p: 'SoquetT',\n",
    "        q: 'SoquetT',\n",
    "        r: 'SoquetT',\n",
    "        s: 'SoquetT',\n",
    "        l: 'SoquetT',\n",
    "        alpha: 'SoquetT',\n",
    "        beta: 'SoquetT',\n",
    "        sigma: 'SoquetT',\n",
    "        alt_pqrs: 'SoquetT',\n",
    "        keep: 'SoquetT',\n",
    "        less_than: 'SoquetT',\n",
    "    ) -> Dict[str, 'SoquetT']:\n",
    "        # 1. Prepare \\sum_d |d\\rangle\n",
    "        p = bb.add(PrepareUniformSuperposition(self.num_spin_orb // 2), target=p)\n",
    "        q = bb.add(PrepareUniformSuperposition(self.num_spin_orb // 2), target=q)\n",
    "        r = bb.add(PrepareUniformSuperposition(self.num_spin_orb // 2), target=r)\n",
    "        s = bb.add(PrepareUniformSuperposition(self.num_spin_orb // 2), target=s)\n",
    "        # 2. Make a contiguous register from our 4-registers\n",
    "        n_n = (self.num_spin_orb // 2 - 1).bit_length()\n",
    "        creg_bitsize = self.signature.get_left('l').bitsize\n",
    "        p, q, r, s, l = bb.add(ContiguousIndexFourD(n_n, creg_bitsize), p=p, q=q, r=r, s=s, l=l)\n",
    "        # 3. Output the alt / keep values using QRO(A)M. The target bitsizes are\n",
    "        # the sizes of the qrom data sets. The alt pqrs values have bitsize n_n\n",
    "        # and the keep register has bitsize of num_bits_state_prep, which\n",
    "        # controls the precision of the alias sampling.\n",
    "        target_bitsizes = (n_n,) * 4 + (self.num_bits_state_prep,)\n",
    "        ns = self.num_spin_orb // 2\n",
    "        data_size = ns ** 2 + ns**4\n",
    "        block_size = 2 ** find_optimal_log_block_size(data_size, sum(target_bitsizes))\n",
    "        qroam = SelectSwapQROM(\n",
    "            self.alt_pqrs[0],\n",
    "            self.alt_pqrs[1],\n",
    "            self.alt_pqrs[2],\n",
    "            self.alt_pqrs[3],\n",
    "            self.keep,\n",
    "            target_bitsizes=target_bitsizes,\n",
    "            block_size=block_size,\n",
    "        )\n",
    "        (l, alt_pqrs[0], alt_pqrs[1], alt_pqrs[2], alt_pqrs[3], keep) = bb.add(\n",
    "            qroam,\n",
    "            selection=l,\n",
    "            target0_=alt_pqrs[0],\n",
    "            target1_=alt_pqrs[1],\n",
    "            target2_=alt_pqrs[2],\n",
    "            target3_=alt_pqrs[3],\n",
    "            target4_=keep,\n",
    "        )\n",
    "        # 4. prepare uniform superposition over sigma\n",
    "        sigma = bb.add(OnEach(self.num_bits_state_prep, Hadamard()), q=sigma)\n",
    "        # 5. inequality test for alias sampling\n",
    "        lte_bloq = LessThanEqual(self.num_bits_state_prep, self.num_bits_state_prep)\n",
    "        keep, sigma, less_than = bb.add(lte_bloq, x=keep, y=sigma, target=less_than)\n",
    "        # 6. swap the ind and alt_pqrs values\n",
    "        less_than, alt_pqrs[0], p = bb.add(CSwap(n_n), ctrl=less_than, x=alt_pqrs[0], y=p)\n",
    "        less_than, alt_pqrs[1], q = bb.add(CSwap(n_n), ctrl=less_than, x=alt_pqrs[1], y=q)\n",
    "        less_than, alt_pqrs[2], r = bb.add(CSwap(n_n), ctrl=less_than, x=alt_pqrs[2], y=r)\n",
    "        less_than, alt_pqrs[3], s = bb.add(CSwap(n_n), ctrl=less_than, x=alt_pqrs[3], y=s)\n",
    "        # 7. invert the comparator\n",
    "        keep, sigma, less_than = bb.add(lte_bloq, x=keep, y=sigma, target=less_than)\n",
    "        return {\n",
    "            'p': p,\n",
    "            'q': q,\n",
    "            'r': r,\n",
    "            's': s,\n",
    "            'l': l,\n",
    "            'alpha': alpha,\n",
    "            'beta': beta,\n",
    "            'sigma': sigma,\n",
    "            'alt_pqrs': alt_pqrs,\n",
    "            'keep': keep,\n",
    "            'less_than': less_than,\n",
    "        }"
   ]
  },
  {
   "cell_type": "markdown",
   "metadata": {},
   "source": [
    "Let's generate an instance. We need alt and keep values for our register so let's generate those as follows:"
   ]
  },
  {
   "cell_type": "code",
   "execution_count": null,
   "metadata": {},
   "outputs": [],
   "source": [
    "from qualtran.linalg.lcu_util import preprocess_lcu_coefficients_for_reversible_sampling\n",
    "\n",
    "\n",
    "def build_alt_keep_vals(tpq, eris, num_spin_orb, num_bits_state_prep):\n",
    "    # Get some random hamiltonian matrix elements\n",
    "    lcu_coeffs = np.concatenate((tpq.ravel(), eris.ravel()))\n",
    "    alt, keep, mu = preprocess_lcu_coefficients_for_reversible_sampling(\n",
    "        np.abs(lcu_coeffs), 2**-num_bits_state_prep / len(lcu_coeffs)\n",
    "    )\n",
    "    # our alt value will be between 0 and len(lcu_coeffs), we need to map these\n",
    "    # back to p, q, and p, q, r, s indices\n",
    "    alt_pqrs = []\n",
    "    mat_size = (num_spin_orb // 2) ** 2\n",
    "    for k in alt:\n",
    "        if k < mat_size:\n",
    "            p, q = np.unravel_index(k, (num_spin_orb // 2,) * 2)\n",
    "            # we should flag the one-body part of the hamiltonian during select, so\n",
    "            # the r, and s values here won't be accessed.\n",
    "            alt_pqrs.append((p, q, 0, 0))\n",
    "        else:\n",
    "            p, q, r, s = np.unravel_index(k - mat_size, (num_spin_orb // 2,) * 4)\n",
    "            alt_pqrs.append((p, q, r, s))\n",
    "    alt_pqrs = np.array(alt_pqrs).T\n",
    "    alt_pqrs = tuple(tuple(int(_) for _ in x) for x in alt_pqrs)\n",
    "    return alt_pqrs, keep"
   ]
  },
  {
   "cell_type": "code",
   "execution_count": null,
   "metadata": {},
   "outputs": [],
   "source": [
    "from qualtran.bloqs.chemistry.chem_tutorials import gen_random_chem_ham\n",
    "num_bits_state_prep = 10\n",
    "num_spin_orb = 10\n",
    "tpq, eris = gen_random_chem_ham(num_spin_orb)\n",
    "alt_pqrs, keep = build_alt_keep_vals(tpq, eris, num_spin_orb, num_bits_state_prep)\n",
    "prep = PrepareSecondQuantizationDetailed(num_spin_orb, tuple(alt_pqrs), tuple(keep), num_bits_state_prep=num_bits_state_prep)"
   ]
  },
  {
   "cell_type": "code",
   "execution_count": null,
   "metadata": {},
   "outputs": [],
   "source": [
    "# Quick test that are decomposition is ok.\n",
    "from qualtran.testing import assert_valid_bloq_decomposition\n",
    "assert_valid_bloq_decomposition(prep);"
   ]
  },
  {
   "cell_type": "markdown",
   "metadata": {},
   "source": [
    "Great, the bloq decomposition at least satisifies some basic wiring conditions. Let's look at the circuit diagram. If you've seen chemistry algorithms you'll notice a familiar structure, which is a good hint that things are ok."
   ]
  },
  {
   "cell_type": "code",
   "execution_count": null,
   "metadata": {},
   "outputs": [],
   "source": [
    "from qualtran.drawing import get_musical_score_data, draw_musical_score\n",
    "msd = get_musical_score_data(prep.decompose_bloq()) \n",
    "fig, ax = draw_musical_score(msd)\n",
    "fig.set_size_inches(8, 6)"
   ]
  },
  {
   "cell_type": "markdown",
   "metadata": {},
   "source": [
    "That looks about right. How about our bloq counts:"
   ]
  },
  {
   "cell_type": "code",
   "execution_count": null,
   "metadata": {},
   "outputs": [],
   "source": [
    "prep_basic = PrepareSecondQuantization(num_spin_orb).call_graph()[1].get(TGate())\n",
    "prep_decom = prep.decompose_bloq().call_graph()[1].get(TGate())\n",
    "print(f\"call graph = {prep_basic}, decomposition = {prep_decom}\")"
   ]
  },
  {
   "cell_type": "markdown",
   "metadata": {},
   "source": [
    "This is quite a bit different, and stems from the difference between contiguous register (which contributes a relatively large amount for this small system), and, the black box QROAM cost is different from that provided by SelectSwapQROM. Nevertheless, they should exhibit the same asymptotic scaling.\n",
    "\n",
    "## Exercises:\n",
    "We left a few errors in our implementation. Can you spot them?\n",
    "\n",
    "1. What happened to the sign bit? How is this incorporated in state preparation?\n",
    "2. Think about the range of the selection registers compared to the amount of data we want to load from the contiguous register. Something doesn't add up. Consider Fig. 3 from the [THC paper](https://journals.aps.org/prxquantum/abstract/10.1103/PRXQuantum.2.030305), and the surrounding text on how you might remedy this. An alternative could be to consider the [sparse preparation](sparse/prepare.py).\n",
    "3. How can we tell what part of the Hamiltonian we prepare (one- or two-body). We need a flag qubit to control off of for [select](sparse/select_bloq.py)."
   ]
  },
  {
   "cell_type": "markdown",
   "metadata": {},
   "source": [
    "## Doing better\n",
    "\n",
    "We have achieved an asymptotic speed up for our quantum algorithm. Can we do better? The answer is yes.\n",
    "\n",
    "1. The two electron integrals are 8-fold symmetric: $V_{pqrs} = V_{qprs} = V_{pqsr} = V_{qpsr} = V_{rspq} = V_{srpq} = V_{srqp} = V_{rsqp}$. So we only need to prepare a fraction (roughly an eight) of the integrals.\n",
    "2. The two-electron matrix element tensor is sparse, with a sparsity that grows with the system size. Note that to see this sparsity in practice often one has to go to large system sizes (and use a localized basis set). Under these conditions we expect that the number of non-zero elements to scale like $N^3$ rather than $N^4$.\n",
    "\n",
    "Point 1 reduces our costs by roughly a factor of $8^{1/2}$, at the cost of introducing swaps which are of negligible cost. Point 2. reduces the scaling by a factor of $N$, which when QROAM is taken into account, results in an asymptotic cost of $O(N^{1.5})$.\n",
    "\n",
    "Let's compare our bloq to that of the sparse prepare bloq:"
   ]
  },
  {
   "cell_type": "code",
   "execution_count": null,
   "metadata": {},
   "outputs": [],
   "source": [
    "from qualtran.bloqs.chemistry.sparse.prepare import PrepareSparse\n",
    "num_bits_state_prep = 4\n",
    "num_spin_orb = 10\n",
    "tpq, eris = gen_random_chem_ham(num_spin_orb)\n",
    "alt_pqrs, keep = build_alt_keep_vals(tpq, eris, num_spin_orb, num_bits_state_prep)\n",
    "prep = PrepareSecondQuantizationDetailed(num_spin_orb, tuple(alt_pqrs), tuple(keep), num_bits_state_prep=num_bits_state_prep)\n",
    "prep_sparse = PrepareSparse.from_hamiltonian_coeffs(num_spin_orb, tpq, eris, num_bits_state_prep).decompose_bloq()\n",
    "print(f\"naive = {prep.call_graph()[1].get(TGate())}, sparse = {prep_sparse.call_graph()[1].get(TGate())}\")"
   ]
  }
 ],
 "metadata": {
  "kernelspec": {
   "display_name": "qualtran",
   "language": "python",
   "name": "python3"
  },
  "language_info": {
   "codemirror_mode": {
    "name": "ipython",
    "version": 3
   },
   "file_extension": ".py",
   "mimetype": "text/x-python",
   "name": "python",
   "nbconvert_exporter": "python",
   "pygments_lexer": "ipython3",
   "version": "3.11.6"
  }
 },
 "nbformat": 4,
 "nbformat_minor": 2
}
