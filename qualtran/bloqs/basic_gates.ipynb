{
 "cells": [
  {
   "cell_type": "markdown",
   "id": "4881cd25",
   "metadata": {
    "cq.autogen": "title_cell"
   },
   "source": [
    "# Basic Gates\n",
    "\n",
    "Basic quantum gates.\n",
    "\n",
    "The bloqs in this module encode gates you'd expect to find in any quantum computing\n",
    "framework. It includes single-qubit unitary gates like rotations, bit- and phase-flip;\n",
    "basic multi-qubit unitary gates; states and effects in the Pauli basis; and non-Clifford\n",
    "gates `TGate` and `Toffoli` which are commonly counted to estimate algorithm resource\n",
    "requirements."
   ]
  },
  {
   "cell_type": "code",
   "execution_count": null,
   "id": "0ab859e3",
   "metadata": {
    "cq.autogen": "top_imports"
   },
   "outputs": [],
   "source": [
    "from qualtran import Bloq, CompositeBloq, BloqBuilder, Signature, Register\n",
    "from qualtran.drawing import show_bloq\n",
    "from typing import *\n",
    "import numpy as np"
   ]
  },
  {
   "cell_type": "markdown",
   "id": "eaa7fa6e",
   "metadata": {
    "cq.autogen": "_make_CNOT.md"
   },
   "source": [
    "## `CNOT`\n",
    "Two-qubit controlled-NOT.\n",
    "\n",
    "#### Registers\n",
    " - `ctrl`: One-bit control register.\n",
    " - `target`: One-bit target register.\n"
   ]
  },
  {
   "cell_type": "code",
   "execution_count": null,
   "id": "9515f273",
   "metadata": {
    "cq.autogen": "_make_CNOT.py"
   },
   "outputs": [],
   "source": [
    "from qualtran.bloqs.basic_gates import CNOT\n",
    "\n",
    "bloq = CNOT()\n",
    "show_bloq(bloq)"
   ]
  },
  {
   "cell_type": "markdown",
   "id": "90478fd6",
   "metadata": {},
   "source": [
    "We show how CNOT is represented as a facorized tensor during Quimb tensor simulation."
   ]
  },
  {
   "cell_type": "code",
   "execution_count": null,
   "id": "f30a59a7",
   "metadata": {},
   "outputs": [],
   "source": [
    "from qualtran.simulation.quimb_sim import (\n",
    "    cbloq_to_quimb, get_right_and_left_inds\n",
    ")\n",
    "\n",
    "cbloq = bloq.as_composite_bloq()\n",
    "tn, _ = cbloq_to_quimb(cbloq)\n",
    "\n",
    "# Rename the indices to something less verbose\n",
    "from qualtran._infra.composite_bloq import _get_dangling_soquets\n",
    "lsoqs = _get_dangling_soquets(cbloq.signature, right=False)\n",
    "rsoqs = _get_dangling_soquets(cbloq.signature, right=True)\n",
    "\n",
    "# Note: the following only works for single-dimension soquets.\n",
    "rename = {lsoqs[k]: f'{k}_in' for k in lsoqs.keys()}\n",
    "rename |= {rsoqs[k]: f'{k}_out' for k in rsoqs.keys()}\n",
    "tn = tn.reindex(rename)\n",
    "\n",
    "tn.draw(color=['COPY', 'XOR'], show_tags=False, initial_layout='spectral')"
   ]
  },
  {
   "cell_type": "code",
   "execution_count": null,
   "id": "128b65b3",
   "metadata": {},
   "outputs": [],
   "source": [
    "bloq.tensor_contract()"
   ]
  },
  {
   "cell_type": "markdown",
   "id": "931869ce",
   "metadata": {
    "cq.autogen": "_make_plus_state.md"
   },
   "source": [
    "## `PlusState`\n",
    "The state |+>"
   ]
  },
  {
   "cell_type": "code",
   "execution_count": null,
   "id": "9fc15a60",
   "metadata": {
    "cq.autogen": "_make_plus_state.py"
   },
   "outputs": [],
   "source": [
    "from qualtran.bloqs.basic_gates import PlusState\n",
    "\n",
    "bloq = PlusState()\n",
    "show_bloq(bloq)"
   ]
  },
  {
   "cell_type": "code",
   "execution_count": null,
   "id": "ca77ccab",
   "metadata": {},
   "outputs": [],
   "source": [
    "bloq.tensor_contract()"
   ]
  },
  {
   "cell_type": "markdown",
   "id": "adf03968",
   "metadata": {
    "cq.autogen": "_make_zero_state.md"
   },
   "source": [
    "## `ZeroState`\n",
    "The state |0>"
   ]
  },
  {
   "cell_type": "code",
   "execution_count": null,
   "id": "c188f4bd",
   "metadata": {
    "cq.autogen": "_make_zero_state.py"
   },
   "outputs": [],
   "source": [
    "from qualtran.bloqs.basic_gates import ZeroState\n",
    "\n",
    "bloq = ZeroState()\n",
    "show_bloq(bloq)"
   ]
  },
  {
   "cell_type": "markdown",
   "id": "bd188cd5",
   "metadata": {},
   "source": [
    "## Synthesizing a Bell state\n",
    "\n",
    "We can create a bell state (|00> + |11>) by cnotting a |+> state into a |0> state."
   ]
  },
  {
   "cell_type": "code",
   "execution_count": null,
   "id": "e2758826",
   "metadata": {},
   "outputs": [],
   "source": [
    "from qualtran.bloqs.basic_gates import ZeroState\n",
    "\n",
    "bb = BloqBuilder()\n",
    "\n",
    "q0 = bb.add(PlusState())\n",
    "q1 = bb.add(ZeroState())\n",
    "\n",
    "q0, q1 = bb.add(CNOT(), ctrl=q0, target=q1)\n",
    "\n",
    "cbloq = bb.finalize(q0=q0, q1=q1)\n",
    "show_bloq(cbloq)"
   ]
  },
  {
   "cell_type": "code",
   "execution_count": null,
   "id": "61dcdfaf",
   "metadata": {},
   "outputs": [],
   "source": [
    "cbloq.tensor_contract()"
   ]
  },
  {
   "cell_type": "markdown",
   "id": "dec257be",
   "metadata": {},
   "source": [
    "We can see how this composite bloq corresponds to a quimb tensor network."
   ]
  },
  {
   "cell_type": "code",
   "execution_count": null,
   "id": "36c5bb1d",
   "metadata": {},
   "outputs": [],
   "source": [
    "tn, _ = cbloq_to_quimb(cbloq)\n",
    "lsoqs = _get_dangling_soquets(cbloq.signature, right=False)\n",
    "rsoqs = _get_dangling_soquets(cbloq.signature, right=True)\n",
    "\n",
    "# Note: the following only works for single-dimension soquets.\n",
    "rename = {lsoqs[k]: f'{k}_in' for k in lsoqs.keys()}\n",
    "rename |= {rsoqs[k]: f'{k}_out' for k in rsoqs.keys()}\n",
    "tn = tn.reindex(rename)\n",
    "\n",
    "tn.draw(color=['COPY', 'XOR', '0', '+'], show_tags=False, initial_layout='spectral')"
   ]
  },
  {
   "cell_type": "markdown",
   "id": "9c1e3acf",
   "metadata": {},
   "source": [
    "`PlusState` and `ZeroState` provide `as_cirq_op` methods for Cirq interoperability, resulting in the familiar `cirq.Circuit` for constructing a Bell state."
   ]
  },
  {
   "cell_type": "code",
   "execution_count": null,
   "id": "dcbe786b",
   "metadata": {},
   "outputs": [],
   "source": [
    "from cirq.contrib.svg import SVGCircuit\n",
    "circuit, qubits = cbloq.to_cirq_circuit()\n",
    "SVGCircuit(circuit)"
   ]
  },
  {
   "cell_type": "markdown",
   "id": "8846fb21",
   "metadata": {
    "cq.autogen": "_make_Rz.md"
   },
   "source": [
    "## `Rz`\n",
    "Single-qubit Rz gate.\n",
    "\n",
    "#### Parameters\n",
    " - `angle`: Rotation angle.\n",
    " - `eps`: precision for implementation of rotation. \n",
    "\n",
    "#### Registers\n",
    " - `q`: One-bit register. \n",
    "\n",
    "#### References\n",
    "[Efficient synthesis of universal Repeat-Until-Success circuits](https://arxiv.org/abs/1404.5320), which offers a small improvement [Optimal ancilla-free Clifford+T approximation of z-rotations](https://arxiv.org/pdf/1403.2975.pdf).\n"
   ]
  },
  {
   "cell_type": "code",
   "execution_count": null,
   "id": "82f2d005",
   "metadata": {
    "cq.autogen": "_make_Rz.py"
   },
   "outputs": [],
   "source": [
    "from qualtran.bloqs.basic_gates import Rz\n",
    "\n",
    "bloq = Rz(angle=np.pi / 4.0)\n",
    "show_bloq(bloq)"
   ]
  },
  {
   "cell_type": "markdown",
   "id": "0d1331d3",
   "metadata": {
    "cq.autogen": "_make_t_gate.md"
   },
   "source": [
    "## `TGate`\n",
    "The T gate.\n",
    "\n",
    "This is the fourth root of the Pauli Z gate. Quantum programs composed solely\n",
    "of gates belonging to the Clifford group (like X, Z, Hadamard, CNOT, S) can be simulated\n",
    "efficiently by a classical computer and therefore offer no quantum advantage. The Clifford\n",
    "gates do not provide a universal quantum gateset. The addition of any non-Clifford gate\n",
    "makes the gateset universal. One of the most popular additions is the T gate, yielding\n",
    "the common Clifford+T gateset.\n",
    "\n",
    "#### Registers\n",
    " - `q`: The qubit \n",
    "\n",
    "#### References\n",
    "[Universal Quantum Computation with ideal Clifford gates and noisy ancillas](https://arxiv.org/abs/quant-ph/0403025). Bravyi and Kitaev. 2004. [Fast and efficient exact synthesis of single qubit unitaries generated by Clifford and T gates](https://arxiv.org/abs/1206.5236). Kliuchnikov et. al. 2012. [Universal Gate Set, Magic States, and costliness of the T gate](https://quantumcomputing.stackexchange.com/a/33358). Gidney. 2023.\n"
   ]
  },
  {
   "cell_type": "code",
   "execution_count": null,
   "id": "74a10f2f",
   "metadata": {
    "cq.autogen": "_make_t_gate.py"
   },
   "outputs": [],
   "source": [
    "from qualtran.bloqs.basic_gates import TGate\n",
    "\n",
    "bloq = TGate()\n",
    "show_bloq(bloq)"
   ]
  },
  {
   "cell_type": "markdown",
   "id": "b53c95ca",
   "metadata": {},
   "source": [
    "We can create the \"magic state\" T|+> which is used via teleportation to do non-Clifford operations in the surface code."
   ]
  },
  {
   "cell_type": "code",
   "execution_count": null,
   "id": "db837f41",
   "metadata": {},
   "outputs": [],
   "source": [
    "bb = BloqBuilder()\n",
    "q = bb.add(PlusState())\n",
    "q = bb.add(TGate(), q=q)\n",
    "cbloq = bb.finalize(q=q)\n",
    "show_bloq(cbloq)"
   ]
  },
  {
   "cell_type": "code",
   "execution_count": null,
   "id": "cfc36441",
   "metadata": {},
   "outputs": [],
   "source": [
    "circuit, _ = cbloq.to_cirq_circuit()\n",
    "SVGCircuit(circuit)"
   ]
  },
  {
   "cell_type": "code",
   "execution_count": null,
   "id": "ae6f2fba",
   "metadata": {},
   "outputs": [],
   "source": [
    "psi = circuit.final_state_vector()\n",
    "psi * np.sqrt(2)"
   ]
  },
  {
   "cell_type": "markdown",
   "id": "30a5458b",
   "metadata": {
    "cq.autogen": "_make_Toffoli.md"
   },
   "source": [
    "## `Toffoli`\n",
    "The Toffoli gate.\n",
    "\n",
    "This will flip the target bit if both controls are active. It can be thought of as\n",
    "a reversible AND gate.\n",
    "\n",
    "Like `TGate`, this is a common compilation target. The Clifford+Toffoli gateset is\n",
    "universal.\n",
    "\n",
    "#### References\n",
    "[Novel constructions for the fault-tolerant Toffoli gate](https://arxiv.org/abs/1212.5069). Cody Jones. 2012. Provides a decomposition into 4 `TGate`.\n"
   ]
  },
  {
   "cell_type": "code",
   "execution_count": null,
   "id": "020ce731",
   "metadata": {
    "cq.autogen": "_make_Toffoli.py"
   },
   "outputs": [],
   "source": [
    "from qualtran.bloqs.basic_gates import Toffoli\n",
    "\n",
    "bloq = Toffoli()\n",
    "show_bloq(bloq)"
   ]
  },
  {
   "cell_type": "code",
   "execution_count": null,
   "id": "0aca6c53",
   "metadata": {},
   "outputs": [],
   "source": [
    "from qualtran.resource_counting import get_bloq_counts_graph, GraphvizCounts\n",
    "g, sigma = get_bloq_counts_graph(bloq)\n",
    "GraphvizCounts(g).get_svg()"
   ]
  },
  {
   "cell_type": "markdown",
   "id": "684063ca",
   "metadata": {
    "cq.autogen": "_make_Hadamard.md"
   },
   "source": [
    "## `Hadamard`\n",
    "The Hadamard gate\n",
    "\n",
    "This converts between the X and Z basis.\n",
    "\n",
    "$$\n",
    "H |0\\rangle = |+\\rangle \\\\\n",
    "H |-\\rangle = |1\\rangle\n",
    "$$\n",
    "\n",
    "#### Registers\n",
    " - `q`: The qubit\n"
   ]
  },
  {
   "cell_type": "code",
   "execution_count": null,
   "id": "a5c97801",
   "metadata": {
    "cq.autogen": "_make_Hadamard.py"
   },
   "outputs": [],
   "source": [
    "from qualtran.bloqs.basic_gates import Hadamard\n",
    "\n",
    "bloq = Hadamard()\n",
    "show_bloq(bloq)"
   ]
  }
 ],
 "metadata": {
  "kernelspec": {
   "display_name": "Python 3 (ipykernel)",
   "language": "python",
   "name": "python3"
  },
  "language_info": {
   "codemirror_mode": {
    "name": "ipython",
    "version": 3
   },
   "file_extension": ".py",
   "mimetype": "text/x-python",
   "name": "python",
   "nbconvert_exporter": "python",
   "pygments_lexer": "ipython3",
   "version": "3.10.9"
  }
 },
 "nbformat": 4,
 "nbformat_minor": 5
}
