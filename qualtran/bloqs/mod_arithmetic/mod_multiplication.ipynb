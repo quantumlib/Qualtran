{
 "cells": [
  {
   "cell_type": "markdown",
   "id": "b23ed079",
   "metadata": {
    "cq.autogen": "title_cell"
   },
   "source": [
    "# Modular Multiplication"
   ]
  },
  {
   "cell_type": "code",
   "execution_count": null,
   "id": "5cde4184",
   "metadata": {
    "cq.autogen": "top_imports"
   },
   "outputs": [],
   "source": [
    "from qualtran import Bloq, CompositeBloq, BloqBuilder, Signature, Register\n",
    "from qualtran import QBit, QInt, QUInt, QAny\n",
    "from qualtran.drawing import show_bloq, show_call_graph, show_counts_sigma\n",
    "from typing import *\n",
    "import numpy as np\n",
    "import sympy\n",
    "import cirq"
   ]
  },
  {
   "cell_type": "markdown",
   "id": "33013eac",
   "metadata": {
    "cq.autogen": "ModDbl.bloq_doc.md"
   },
   "source": [
    "## `ModDbl`\n",
    "An n-bit modular doubling gate.\n",
    "\n",
    "Implements $\\ket{x} \\rightarrow \\ket{2x \\mod p}$ using $2n$ Toffoli gates.\n",
    "\n",
    "#### Parameters\n",
    " - `dtype`: Dtype of the number to double.\n",
    " - `p`: The modulus for the doubling. \n",
    "\n",
    "#### Registers\n",
    " - `x`: The register containing the number to double. \n",
    "\n",
    "#### References\n",
    " - [How to compute a 256-bit elliptic curve private key with only 50 million Toffoli gates](https://arxiv.org/abs/2306.08585). Fig 6d and 8\n"
   ]
  },
  {
   "cell_type": "code",
   "execution_count": null,
   "id": "934adfa2",
   "metadata": {
    "cq.autogen": "ModDbl.bloq_doc.py"
   },
   "outputs": [],
   "source": [
    "from qualtran.bloqs.mod_arithmetic import ModDbl"
   ]
  },
  {
   "cell_type": "markdown",
   "id": "854a2f34",
   "metadata": {
    "cq.autogen": "ModDbl.example_instances.md"
   },
   "source": [
    "### Example Instances"
   ]
  },
  {
   "cell_type": "code",
   "execution_count": null,
   "id": "a376c520",
   "metadata": {
    "cq.autogen": "ModDbl.moddbl_small"
   },
   "outputs": [],
   "source": [
    "moddbl_small = ModDbl(QUInt(4), 13)"
   ]
  },
  {
   "cell_type": "code",
   "execution_count": null,
   "id": "559f3f97",
   "metadata": {
    "cq.autogen": "ModDbl.moddbl_large"
   },
   "outputs": [],
   "source": [
    "prime = 10**9 + 7\n",
    "moddbl_large = ModDbl(QUInt(32), prime)"
   ]
  },
  {
   "cell_type": "markdown",
   "id": "e90cf054",
   "metadata": {
    "cq.autogen": "ModDbl.graphical_signature.md"
   },
   "source": [
    "#### Graphical Signature"
   ]
  },
  {
   "cell_type": "code",
   "execution_count": null,
   "id": "75c4294c",
   "metadata": {
    "cq.autogen": "ModDbl.graphical_signature.py"
   },
   "outputs": [],
   "source": [
    "from qualtran.drawing import show_bloqs\n",
    "show_bloqs([moddbl_small, moddbl_large],\n",
    "           ['`moddbl_small`', '`moddbl_large`'])"
   ]
  },
  {
   "cell_type": "markdown",
   "id": "ef3bfee0",
   "metadata": {
    "cq.autogen": "ModDbl.call_graph.md"
   },
   "source": [
    "### Call Graph"
   ]
  },
  {
   "cell_type": "code",
   "execution_count": null,
   "id": "bd1dfb09",
   "metadata": {
    "cq.autogen": "ModDbl.call_graph.py"
   },
   "outputs": [],
   "source": [
    "from qualtran.resource_counting.generalizers import ignore_split_join\n",
    "moddbl_small_g, moddbl_small_sigma = moddbl_small.call_graph(max_depth=1, generalizer=ignore_split_join)\n",
    "show_call_graph(moddbl_small_g)\n",
    "show_counts_sigma(moddbl_small_sigma)"
   ]
  },
  {
   "cell_type": "markdown",
   "id": "03dac121",
   "metadata": {
    "cq.autogen": "CModMulK.bloq_doc.md"
   },
   "source": [
    "## `CModMulK`\n",
    "Perform controlled modular multiplication by a constant.\n",
    "\n",
    "Applies $\\ket{c}\\ket{c} \\rightarrow \\ket{c} \\ket{x*k^c \\mod p}$.\n",
    "\n",
    "#### Parameters\n",
    " - `dtype`: Dtype of the register.\n",
    " - `k`: The integer multiplicative constant.\n",
    " - `mod`: The integer modulus. \n",
    "\n",
    "#### Registers\n",
    " - `ctrl`: The control bit\n",
    " - `x`: The integer being multiplied\n"
   ]
  },
  {
   "cell_type": "code",
   "execution_count": null,
   "id": "b735fef0",
   "metadata": {
    "cq.autogen": "CModMulK.bloq_doc.py"
   },
   "outputs": [],
   "source": [
    "from qualtran.bloqs.mod_arithmetic import CModMulK"
   ]
  },
  {
   "cell_type": "markdown",
   "id": "0d8c1a4b",
   "metadata": {
    "cq.autogen": "CModMulK.example_instances.md"
   },
   "source": [
    "### Example Instances"
   ]
  },
  {
   "cell_type": "code",
   "execution_count": null,
   "id": "1986bbf9",
   "metadata": {
    "cq.autogen": "CModMulK.modmul_symb"
   },
   "outputs": [],
   "source": [
    "import sympy\n",
    "\n",
    "k, N, n_x = sympy.symbols('k N n_x')\n",
    "modmul_symb = CModMulK(QUInt(n_x), k=k, mod=N)"
   ]
  },
  {
   "cell_type": "code",
   "execution_count": null,
   "id": "ecdbe3f4",
   "metadata": {
    "cq.autogen": "CModMulK.modmul"
   },
   "outputs": [],
   "source": [
    "modmul = CModMulK(QUInt(8), k=123, mod=13 * 17)"
   ]
  },
  {
   "cell_type": "markdown",
   "id": "52e944f4",
   "metadata": {
    "cq.autogen": "CModMulK.graphical_signature.md"
   },
   "source": [
    "#### Graphical Signature"
   ]
  },
  {
   "cell_type": "code",
   "execution_count": null,
   "id": "1e28aa1f",
   "metadata": {
    "cq.autogen": "CModMulK.graphical_signature.py"
   },
   "outputs": [],
   "source": [
    "from qualtran.drawing import show_bloqs\n",
    "show_bloqs([modmul_symb, modmul],\n",
    "           ['`modmul_symb`', '`modmul`'])"
   ]
  },
  {
   "cell_type": "markdown",
   "id": "8e34d67f",
   "metadata": {
    "cq.autogen": "CModMulK.call_graph.md"
   },
   "source": [
    "### Call Graph"
   ]
  },
  {
   "cell_type": "code",
   "execution_count": null,
   "id": "f8645e0c",
   "metadata": {
    "cq.autogen": "CModMulK.call_graph.py"
   },
   "outputs": [],
   "source": [
    "from qualtran.resource_counting.generalizers import ignore_split_join\n",
    "modmul_symb_g, modmul_symb_sigma = modmul_symb.call_graph(max_depth=1, generalizer=ignore_split_join)\n",
    "show_call_graph(modmul_symb_g)\n",
    "show_counts_sigma(modmul_symb_sigma)"
   ]
  },
  {
   "cell_type": "markdown",
   "id": "849371cb",
   "metadata": {
    "cq.autogen": "DirtyOutOfPlaceMontgomeryModMul.bloq_doc.md"
   },
   "source": [
    "## `DirtyOutOfPlaceMontgomeryModMul`\n",
    "Perform windowed montgomery modular multiplication.\n",
    "\n",
    "Applies the trasformation\n",
    "$$\n",
    "    \\ket{x}\\ket{y}\\ket{0}\\ket{0}\\ket{0} \\rightarrow \\ket{x}\\ket{y}\\ket{xy2^{-n}}\\ket{h}\\ket{c}\n",
    "$$\n",
    "\n",
    "Where:\n",
    "\n",
    "- $n$ is the bitsize.\n",
    "- $x, y$ are in montgomery form\n",
    "- $h$ is an ancilla register that represents intermidate values.\n",
    "- $c$ is whether a final modular reduction was applied or not.\n",
    "\n",
    "#### Parameters\n",
    " - `bitsize`: size of the numbers.\n",
    " - `window_size`: size of the window.\n",
    " - `mod`: The integer modulus.\n",
    " - `uncompute`: whether to compute or uncompute. \n",
    "\n",
    "#### Registers\n",
    " - `x`: The first integer\n",
    " - `y`: The second integer\n",
    " - `target`: product in montgomery form $xy 2^{-n}$\n",
    " - `qrom_indices`: concatination of the indicies used to query QROM.\n",
    " - `reduced`: whether a final modular reduction was applied. \n",
    "\n",
    "#### References\n",
    " - [Performance Analysis of a Repetition Cat Code Architecture: Computing 256-bit Elliptic Curve Logarithm in 9 Hours with 126 133 Cat Qubits](https://arxiv.org/abs/2302.06639).     Appendix C4.\n",
    " - [How to compute a 256-bit elliptic curve private key with only 50 million Toffoli gates](https://arxiv.org/abs/2306.08585).     page 8.\n"
   ]
  },
  {
   "cell_type": "code",
   "execution_count": null,
   "id": "d08d7f3a",
   "metadata": {
    "cq.autogen": "DirtyOutOfPlaceMontgomeryModMul.bloq_doc.py"
   },
   "outputs": [],
   "source": [
    "from qualtran.bloqs.mod_arithmetic import DirtyOutOfPlaceMontgomeryModMul"
   ]
  },
  {
   "cell_type": "markdown",
   "id": "56c6466e",
   "metadata": {
    "cq.autogen": "DirtyOutOfPlaceMontgomeryModMul.example_instances.md"
   },
   "source": [
    "### Example Instances"
   ]
  },
  {
   "cell_type": "code",
   "execution_count": null,
   "id": "b573e60f",
   "metadata": {
    "cq.autogen": "DirtyOutOfPlaceMontgomeryModMul.dirtyoutofplacemontgomerymodmul_small"
   },
   "outputs": [],
   "source": [
    "dirtyoutofplacemontgomerymodmul_small = DirtyOutOfPlaceMontgomeryModMul(6, 2, 7)"
   ]
  },
  {
   "cell_type": "code",
   "execution_count": null,
   "id": "f339fb21",
   "metadata": {
    "cq.autogen": "DirtyOutOfPlaceMontgomeryModMul.dirtyoutofplacemontgomerymodmul_medium"
   },
   "outputs": [],
   "source": [
    "dirtyoutofplacemontgomerymodmul_medium = DirtyOutOfPlaceMontgomeryModMul(\n",
    "    bitsize=16, window_size=4, mod=2**15 - 1\n",
    ")"
   ]
  },
  {
   "cell_type": "markdown",
   "id": "c832c4a9",
   "metadata": {
    "cq.autogen": "DirtyOutOfPlaceMontgomeryModMul.graphical_signature.md"
   },
   "source": [
    "#### Graphical Signature"
   ]
  },
  {
   "cell_type": "code",
   "execution_count": null,
   "id": "99ee86e1",
   "metadata": {
    "cq.autogen": "DirtyOutOfPlaceMontgomeryModMul.graphical_signature.py"
   },
   "outputs": [],
   "source": [
    "from qualtran.drawing import show_bloqs\n",
    "show_bloqs([dirtyoutofplacemontgomerymodmul_small, dirtyoutofplacemontgomerymodmul_medium],\n",
    "           ['`dirtyoutofplacemontgomerymodmul_small`', '`dirtyoutofplacemontgomerymodmul_medium`'])"
   ]
  },
  {
   "cell_type": "markdown",
   "id": "1de095e7",
   "metadata": {
    "cq.autogen": "DirtyOutOfPlaceMontgomeryModMul.call_graph.md"
   },
   "source": [
    "### Call Graph"
   ]
  },
  {
   "cell_type": "code",
   "execution_count": null,
   "id": "bde436f4",
   "metadata": {
    "cq.autogen": "DirtyOutOfPlaceMontgomeryModMul.call_graph.py"
   },
   "outputs": [],
   "source": [
    "from qualtran.resource_counting.generalizers import ignore_split_join\n",
    "dirtyoutofplacemontgomerymodmul_small_g, dirtyoutofplacemontgomerymodmul_small_sigma = dirtyoutofplacemontgomerymodmul_small.call_graph(max_depth=1, generalizer=ignore_split_join)\n",
    "show_call_graph(dirtyoutofplacemontgomerymodmul_small_g)\n",
    "show_counts_sigma(dirtyoutofplacemontgomerymodmul_small_sigma)"
   ]
  }
 ],
 "metadata": {
  "kernelspec": {
   "display_name": "Python 3",
   "language": "python",
   "name": "python3"
  },
  "language_info": {
   "name": "python"
  }
 },
 "nbformat": 4,
 "nbformat_minor": 5
}
