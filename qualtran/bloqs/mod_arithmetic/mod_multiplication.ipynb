{
 "cells": [
  {
   "cell_type": "markdown",
   "id": "6b63cfe5",
   "metadata": {
    "cq.autogen": "title_cell"
   },
   "source": [
    "# Modular Multiplication"
   ]
  },
  {
   "cell_type": "code",
   "execution_count": null,
   "id": "d72f6711",
   "metadata": {
    "cq.autogen": "top_imports"
   },
   "outputs": [],
   "source": [
    "from qualtran import Bloq, CompositeBloq, BloqBuilder, Signature, Register\n",
    "from qualtran import QBit, QInt, QUInt, QAny\n",
    "from qualtran.drawing import show_bloq, show_call_graph, show_counts_sigma\n",
    "from typing import *\n",
    "import numpy as np\n",
    "import sympy\n",
    "import cirq"
   ]
  },
  {
   "cell_type": "markdown",
   "id": "d3899162",
   "metadata": {
    "cq.autogen": "ModDbl.bloq_doc.md"
   },
   "source": [
    "## `ModDbl`\n",
    "An n-bit modular doubling gate.\n",
    "\n",
    "Implements $\\ket{x} \\rightarrow \\ket{2x \\mod p}$ using $2n$ Toffoli gates.\n",
    "\n",
    "#### Parameters\n",
    " - `dtype`: Dtype of the number to double.\n",
    " - `p`: The modulus for the doubling. \n",
    "\n",
    "#### Registers\n",
    " - `x`: The register containing the number to double. \n",
    "\n",
    "#### References\n",
    " - [How to compute a 256-bit elliptic curve private key with only 50 million Toffoli gates](https://arxiv.org/abs/2306.08585). Fig 6d and 8\n"
   ]
  },
  {
   "cell_type": "code",
   "execution_count": null,
   "id": "53515719",
   "metadata": {
    "cq.autogen": "ModDbl.bloq_doc.py"
   },
   "outputs": [],
   "source": [
    "from qualtran.bloqs.mod_arithmetic import ModDbl"
   ]
  },
  {
   "cell_type": "markdown",
   "id": "b5e0c374",
   "metadata": {
    "cq.autogen": "ModDbl.example_instances.md"
   },
   "source": [
    "### Example Instances"
   ]
  },
  {
   "cell_type": "code",
   "execution_count": null,
   "id": "550f264b",
   "metadata": {
    "cq.autogen": "ModDbl.moddbl_small"
   },
   "outputs": [],
   "source": [
    "moddbl_small = ModDbl(QUInt(4), 13)"
   ]
  },
  {
   "cell_type": "code",
   "execution_count": null,
   "id": "89df68f0",
   "metadata": {
    "cq.autogen": "ModDbl.moddbl_large"
   },
   "outputs": [],
   "source": [
    "prime = 10**9 + 7\n",
    "moddbl_large = ModDbl(QUInt(32), prime)"
   ]
  },
  {
   "cell_type": "markdown",
   "id": "acd85b81",
   "metadata": {
    "cq.autogen": "ModDbl.graphical_signature.md"
   },
   "source": [
    "#### Graphical Signature"
   ]
  },
  {
   "cell_type": "code",
   "execution_count": null,
   "id": "c588ee92",
   "metadata": {
    "cq.autogen": "ModDbl.graphical_signature.py"
   },
   "outputs": [],
   "source": [
    "from qualtran.drawing import show_bloqs\n",
    "show_bloqs([moddbl_small, moddbl_large],\n",
    "           ['`moddbl_small`', '`moddbl_large`'])"
   ]
  },
  {
   "cell_type": "markdown",
   "id": "3cfc35a0",
   "metadata": {
    "cq.autogen": "ModDbl.call_graph.md"
   },
   "source": [
    "### Call Graph"
   ]
  },
  {
   "cell_type": "code",
   "execution_count": null,
   "id": "c5211901",
   "metadata": {
    "cq.autogen": "ModDbl.call_graph.py"
   },
   "outputs": [],
   "source": [
    "from qualtran.resource_counting.generalizers import ignore_split_join\n",
    "moddbl_small_g, moddbl_small_sigma = moddbl_small.call_graph(max_depth=1, generalizer=ignore_split_join)\n",
    "show_call_graph(moddbl_small_g)\n",
    "show_counts_sigma(moddbl_small_sigma)"
   ]
  },
  {
   "cell_type": "markdown",
   "id": "e21338a3",
   "metadata": {
    "cq.autogen": "CModMulK.bloq_doc.md"
   },
   "source": [
    "## `CModMulK`\n",
    "Perform controlled modular multiplication by a constant.\n",
    "\n",
    "Applies $\\ket{c}\\ket{c} \\rightarrow \\ket{c} \\ket{x*k^c \\mod p}$.\n",
    "\n",
    "#### Parameters\n",
    " - `dtype`: Dtype of the register.\n",
    " - `k`: The integer multiplicative constant.\n",
    " - `mod`: The integer modulus. \n",
    "\n",
    "#### Registers\n",
    " - `ctrl`: The control bit\n",
    " - `x`: The integer being multiplied\n"
   ]
  },
  {
   "cell_type": "code",
   "execution_count": null,
   "id": "08cc01f5",
   "metadata": {
    "cq.autogen": "CModMulK.bloq_doc.py"
   },
   "outputs": [],
   "source": [
    "from qualtran.bloqs.mod_arithmetic import CModMulK"
   ]
  },
  {
   "cell_type": "markdown",
   "id": "4a8585a7",
   "metadata": {
    "cq.autogen": "CModMulK.example_instances.md"
   },
   "source": [
    "### Example Instances"
   ]
  },
  {
   "cell_type": "code",
   "execution_count": null,
   "id": "7d72393a",
   "metadata": {
    "cq.autogen": "CModMulK.modmul_symb"
   },
   "outputs": [],
   "source": [
    "import sympy\n",
    "\n",
    "k, N, n_x = sympy.symbols('k N n_x')\n",
    "modmul_symb = CModMulK(QUInt(n_x), k=k, mod=N)"
   ]
  },
  {
   "cell_type": "code",
   "execution_count": null,
   "id": "521a0b51",
   "metadata": {
    "cq.autogen": "CModMulK.modmul"
   },
   "outputs": [],
   "source": [
    "modmul = CModMulK(QUInt(8), k=123, mod=13 * 17)"
   ]
  },
  {
   "cell_type": "markdown",
   "id": "b51e0ac8",
   "metadata": {
    "cq.autogen": "CModMulK.graphical_signature.md"
   },
   "source": [
    "#### Graphical Signature"
   ]
  },
  {
   "cell_type": "code",
   "execution_count": null,
   "id": "686db91d",
   "metadata": {
    "cq.autogen": "CModMulK.graphical_signature.py"
   },
   "outputs": [],
   "source": [
    "from qualtran.drawing import show_bloqs\n",
    "show_bloqs([modmul_symb, modmul],\n",
    "           ['`modmul_symb`', '`modmul`'])"
   ]
  },
  {
   "cell_type": "markdown",
   "id": "0749b88f",
   "metadata": {
    "cq.autogen": "CModMulK.call_graph.md"
   },
   "source": [
    "### Call Graph"
   ]
  },
  {
   "cell_type": "code",
   "execution_count": null,
   "id": "29decc82",
   "metadata": {
    "cq.autogen": "CModMulK.call_graph.py"
   },
   "outputs": [],
   "source": [
    "from qualtran.resource_counting.generalizers import ignore_split_join\n",
    "modmul_symb_g, modmul_symb_sigma = modmul_symb.call_graph(max_depth=1, generalizer=ignore_split_join)\n",
    "show_call_graph(modmul_symb_g)\n",
    "show_counts_sigma(modmul_symb_sigma)"
   ]
  }
 ],
 "metadata": {
  "kernelspec": {
   "display_name": "Python 3",
   "language": "python",
   "name": "python3"
  },
  "language_info": {
   "name": "python"
  }
 },
 "nbformat": 4,
 "nbformat_minor": 5
}
