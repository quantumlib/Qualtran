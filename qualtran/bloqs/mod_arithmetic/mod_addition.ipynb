{
 "cells": [
  {
   "cell_type": "markdown",
   "id": "b574ea6d",
   "metadata": {
    "cq.autogen": "title_cell"
   },
   "source": [
    "# Modular Addition"
   ]
  },
  {
   "cell_type": "code",
   "execution_count": null,
   "id": "0df46c1a",
   "metadata": {
    "cq.autogen": "top_imports"
   },
   "outputs": [],
   "source": [
    "from qualtran import Bloq, CompositeBloq, BloqBuilder, Signature, Register\n",
    "from qualtran import QBit, QInt, QUInt, QAny\n",
    "from qualtran.drawing import show_bloq, show_call_graph, show_counts_sigma\n",
    "from typing import *\n",
    "import numpy as np\n",
    "import sympy\n",
    "import cirq"
   ]
  },
  {
   "cell_type": "markdown",
   "id": "8267bb39",
   "metadata": {
    "cq.autogen": "ModAdd.bloq_doc.md"
   },
   "source": [
    "## `ModAdd`\n",
    "An n-bit modular addition gate.\n",
    "\n",
    "Implements |x>|y> => |x>|y + x % p> using $4n$ Toffoli\n",
    "gates.\n",
    "\n",
    "This gate can also operate on integers in the Montgomery form.\n",
    "\n",
    "#### Parameters\n",
    " - `bitsize`: Number of bits used to represent each integer.\n",
    " - `mod`: The modulus for the addition. \n",
    "\n",
    "#### Registers\n",
    " - `x`: A bitsize-sized input register (register x above).\n",
    " - `y`: A bitsize-sized input/output register (register y above). \n",
    "\n",
    "#### References\n",
    " - [How to compute a 256-bit elliptic curve private key with only 50 million Toffoli gates](https://arxiv.org/abs/2306.08585). Construction from Figure 6a and cost summary in Figure 8.\n"
   ]
  },
  {
   "cell_type": "code",
   "execution_count": null,
   "id": "5bda7415",
   "metadata": {
    "cq.autogen": "ModAdd.bloq_doc.py"
   },
   "outputs": [],
   "source": [
    "from qualtran.bloqs.mod_arithmetic import ModAdd"
   ]
  },
  {
   "cell_type": "markdown",
   "id": "a8456099",
   "metadata": {
    "cq.autogen": "ModAdd.example_instances.md"
   },
   "source": [
    "### Example Instances"
   ]
  },
  {
   "cell_type": "code",
   "execution_count": null,
   "id": "986e25fe",
   "metadata": {
    "cq.autogen": "ModAdd.mod_add"
   },
   "outputs": [],
   "source": [
    "n, p = sympy.symbols('n p')\n",
    "mod_add = ModAdd(n, mod=p)"
   ]
  },
  {
   "cell_type": "markdown",
   "id": "85546a13",
   "metadata": {
    "cq.autogen": "ModAdd.graphical_signature.md"
   },
   "source": [
    "#### Graphical Signature"
   ]
  },
  {
   "cell_type": "code",
   "execution_count": null,
   "id": "9cf51501",
   "metadata": {
    "cq.autogen": "ModAdd.graphical_signature.py"
   },
   "outputs": [],
   "source": [
    "from qualtran.drawing import show_bloqs\n",
    "show_bloqs([mod_add],\n",
    "           ['`mod_add`'])"
   ]
  },
  {
   "cell_type": "markdown",
   "id": "00d0734f",
   "metadata": {
    "cq.autogen": "ModAdd.call_graph.md"
   },
   "source": [
    "### Call Graph"
   ]
  },
  {
   "cell_type": "code",
   "execution_count": null,
   "id": "6541781e",
   "metadata": {
    "cq.autogen": "ModAdd.call_graph.py"
   },
   "outputs": [],
   "source": [
    "from qualtran.resource_counting.generalizers import ignore_split_join\n",
    "mod_add_g, mod_add_sigma = mod_add.call_graph(max_depth=1, generalizer=ignore_split_join)\n",
    "show_call_graph(mod_add_g)\n",
    "show_counts_sigma(mod_add_sigma)"
   ]
  },
  {
   "cell_type": "markdown",
   "id": "8e79d0cc",
   "metadata": {
    "cq.autogen": "ModAddK.bloq_doc.md"
   },
   "source": [
    "## `ModAddK`\n",
    "Applies U(add, M)|x> = |(x + add) % M> if x < M else |x>.\n",
    "\n",
    "Applies modular addition to input register `|x>` given parameters `mod` and `add_val` s.t.\n",
    " 1. If integer `x` < `mod`: output is `|(x + add) % M>`\n",
    " 2. If integer `x` >= `mod`: output is `|x>`.\n",
    "\n",
    "This condition is needed to ensure that the mapping of all input basis states (i.e. input\n",
    "states |0>, |1>, ..., |2 ** bitsize - 1) to corresponding output states is bijective and thus\n",
    "the gate is reversible.\n",
    "\n",
    "Also supports controlled version of the gate by specifying a per qubit control value as a tuple\n",
    "of integers passed as `cvs`."
   ]
  },
  {
   "cell_type": "code",
   "execution_count": null,
   "id": "3bba4e72",
   "metadata": {
    "cq.autogen": "ModAddK.bloq_doc.py"
   },
   "outputs": [],
   "source": [
    "from qualtran.bloqs.mod_arithmetic import ModAddK"
   ]
  },
  {
   "cell_type": "markdown",
   "id": "5163fde5",
   "metadata": {
    "cq.autogen": "ModAddK.example_instances.md"
   },
   "source": [
    "### Example Instances"
   ]
  },
  {
   "cell_type": "code",
   "execution_count": null,
   "id": "bd5727de",
   "metadata": {
    "cq.autogen": "ModAddK.mod_add_k"
   },
   "outputs": [],
   "source": [
    "n, m, k = sympy.symbols('n m k')\n",
    "mod_add_k = ModAddK(bitsize=n, mod=m, add_val=k)"
   ]
  },
  {
   "cell_type": "code",
   "execution_count": null,
   "id": "63edc731",
   "metadata": {
    "cq.autogen": "ModAddK.mod_add_k_small"
   },
   "outputs": [],
   "source": [
    "mod_add_k_small = ModAddK(bitsize=4, mod=7, add_val=1)"
   ]
  },
  {
   "cell_type": "code",
   "execution_count": null,
   "id": "c970ab8b",
   "metadata": {
    "cq.autogen": "ModAddK.mod_add_k_large"
   },
   "outputs": [],
   "source": [
    "mod_add_k_large = ModAddK(bitsize=64, mod=500, add_val=23)"
   ]
  },
  {
   "cell_type": "markdown",
   "id": "f5d2924e",
   "metadata": {
    "cq.autogen": "ModAddK.graphical_signature.md"
   },
   "source": [
    "#### Graphical Signature"
   ]
  },
  {
   "cell_type": "code",
   "execution_count": null,
   "id": "a844f606",
   "metadata": {
    "cq.autogen": "ModAddK.graphical_signature.py"
   },
   "outputs": [],
   "source": [
    "from qualtran.drawing import show_bloqs\n",
    "show_bloqs([mod_add_k, mod_add_k_small, mod_add_k_large],\n",
    "           ['`mod_add_k`', '`mod_add_k_small`', '`mod_add_k_large`'])"
   ]
  },
  {
   "cell_type": "markdown",
   "id": "1de9b870",
   "metadata": {
    "cq.autogen": "ModAddK.call_graph.md"
   },
   "source": [
    "### Call Graph"
   ]
  },
  {
   "cell_type": "code",
   "execution_count": null,
   "id": "c148ea99",
   "metadata": {
    "cq.autogen": "ModAddK.call_graph.py"
   },
   "outputs": [],
   "source": [
    "from qualtran.resource_counting.generalizers import ignore_split_join\n",
    "mod_add_k_g, mod_add_k_sigma = mod_add_k.call_graph(max_depth=1, generalizer=ignore_split_join)\n",
    "show_call_graph(mod_add_k_g)\n",
    "show_counts_sigma(mod_add_k_sigma)"
   ]
  },
  {
   "cell_type": "markdown",
   "id": "d281d1eb",
   "metadata": {
    "cq.autogen": "CModAdd.bloq_doc.md"
   },
   "source": [
    "## `CModAdd`\n",
    "Controlled Modular Addition.\n",
    "\n",
    "Implements $\\ket{c}\\ket{x}\\ket{y} \\rightarrow \\ket{c}\\ket{x}\\ket{(cx+y)\\%p}$\n",
    "using $5n+1$ Toffoli gates.\n",
    "\n",
    "Note: The reference reports $5n$ toffolis. Our construction has an extra toffoli gate due\n",
    "to the current implementaiton of `OutOfPlaceAdder`.\n",
    "\n",
    "#### Parameters\n",
    " - `dtype`: Type of the input registers.\n",
    " - `mod`: The modulus for the addition.\n",
    " - `cv`: Control value for which the gate is active. \n",
    "\n",
    "#### Registers\n",
    " - `ctrl`: The control qubit.\n",
    " - `x`: A dtype register.\n",
    " - `y`: A dtype register. \n",
    "\n",
    "#### References\n",
    " - [How to compute a 256-bit elliptic curve private key with only 50 million Toffoli gates](https://arxiv.org/abs/2306.08585). Construction from Figure 6a and cost summary in Figure 8.\n"
   ]
  },
  {
   "cell_type": "code",
   "execution_count": null,
   "id": "bfad2d98",
   "metadata": {
    "cq.autogen": "CModAdd.bloq_doc.py"
   },
   "outputs": [],
   "source": [
    "from qualtran.bloqs.mod_arithmetic import CModAdd"
   ]
  },
  {
   "cell_type": "markdown",
   "id": "51c55dd1",
   "metadata": {
    "cq.autogen": "CModAdd.example_instances.md"
   },
   "source": [
    "### Example Instances"
   ]
  },
  {
   "cell_type": "code",
   "execution_count": null,
   "id": "17ab6599",
   "metadata": {
    "cq.autogen": "CModAdd.cmodadd_example"
   },
   "outputs": [],
   "source": [
    "cmodadd_example = CModAdd(QUInt(32), 10**9 + 7)"
   ]
  },
  {
   "cell_type": "code",
   "execution_count": null,
   "id": "83b24868",
   "metadata": {
    "cq.autogen": "CModAdd.cmodadd_symbolic"
   },
   "outputs": [],
   "source": [
    "n, p = sympy.symbols('n p')\n",
    "cmodadd_symbolic = CModAdd(QUInt(n), p)"
   ]
  },
  {
   "cell_type": "markdown",
   "id": "0341ea39",
   "metadata": {
    "cq.autogen": "CModAdd.graphical_signature.md"
   },
   "source": [
    "#### Graphical Signature"
   ]
  },
  {
   "cell_type": "code",
   "execution_count": null,
   "id": "28706338",
   "metadata": {
    "cq.autogen": "CModAdd.graphical_signature.py"
   },
   "outputs": [],
   "source": [
    "from qualtran.drawing import show_bloqs\n",
    "show_bloqs([cmodadd_example, cmodadd_symbolic],\n",
    "           ['`cmodadd_example`', '`cmodadd_symbolic`'])"
   ]
  },
  {
   "cell_type": "markdown",
   "id": "e71a6f5f",
   "metadata": {
    "cq.autogen": "CModAdd.call_graph.md"
   },
   "source": [
    "### Call Graph"
   ]
  },
  {
   "cell_type": "code",
   "execution_count": null,
   "id": "d278edee",
   "metadata": {
    "cq.autogen": "CModAdd.call_graph.py"
   },
   "outputs": [],
   "source": [
    "from qualtran.resource_counting.generalizers import ignore_split_join\n",
    "cmodadd_example_g, cmodadd_example_sigma = cmodadd_example.call_graph(max_depth=1, generalizer=ignore_split_join)\n",
    "show_call_graph(cmodadd_example_g)\n",
    "show_counts_sigma(cmodadd_example_sigma)"
   ]
  },
  {
   "cell_type": "markdown",
   "id": "0523961e",
   "metadata": {
    "cq.autogen": "CModAddK.bloq_doc.md"
   },
   "source": [
    "## `CModAddK`\n",
    "Perform x += k mod m for constant k, m and quantum x.\n",
    "\n",
    "#### Parameters\n",
    " - `k`: The integer to add to `x`.\n",
    " - `mod`: The modulus for the addition.\n",
    " - `bitsize`: The bitsize of the `x` register. \n",
    "\n",
    "#### Registers\n",
    " - `ctrl`: The control bit\n",
    " - `x`: The register to perform the in-place modular addition. \n",
    "\n",
    "#### References\n",
    " - [How to factor 2048 bit RSA integers in 8 hours using 20 million noisy qubits](https://arxiv.org/abs/1905.09749). Gidney and Ekerå 2019. The reference implementation in section 2.2 uses CModAddK, but the circuit that it points to is just ModAdd (not ModAddK). This ModAdd is less efficient than the circuit later introduced in the Litinski paper so we choose to use that since it is more efficient and already implemented in Qualtran.\n",
    " - [How to compute a 256-bit elliptic curve private key with only 50 million Toffoli gates](https://arxiv.org/abs/2306.08585). Litinski et al. 2023. This CModAdd circuit uses 2 fewer additions than the implementation referenced in the paper above. Because of this we choose to use this CModAdd bloq instead.\n"
   ]
  },
  {
   "cell_type": "code",
   "execution_count": null,
   "id": "341211fa",
   "metadata": {
    "cq.autogen": "CModAddK.bloq_doc.py"
   },
   "outputs": [],
   "source": [
    "from qualtran.bloqs.mod_arithmetic import CModAddK"
   ]
  },
  {
   "cell_type": "markdown",
   "id": "6b00aef7",
   "metadata": {
    "cq.autogen": "CModAddK.example_instances.md"
   },
   "source": [
    "### Example Instances"
   ]
  },
  {
   "cell_type": "code",
   "execution_count": null,
   "id": "b8877f17",
   "metadata": {
    "cq.autogen": "CModAddK.cmod_add_k"
   },
   "outputs": [],
   "source": [
    "n, m, k = sympy.symbols('n m k')\n",
    "cmod_add_k = CModAddK(bitsize=n, mod=m, k=k)"
   ]
  },
  {
   "cell_type": "code",
   "execution_count": null,
   "id": "87fe8b8f",
   "metadata": {
    "cq.autogen": "CModAddK.cmod_add_k_small"
   },
   "outputs": [],
   "source": [
    "cmod_add_k_small = CModAddK(bitsize=4, mod=7, k=1)"
   ]
  },
  {
   "cell_type": "markdown",
   "id": "f44f0268",
   "metadata": {
    "cq.autogen": "CModAddK.graphical_signature.md"
   },
   "source": [
    "#### Graphical Signature"
   ]
  },
  {
   "cell_type": "code",
   "execution_count": null,
   "id": "b7a02d6e",
   "metadata": {
    "cq.autogen": "CModAddK.graphical_signature.py"
   },
   "outputs": [],
   "source": [
    "from qualtran.drawing import show_bloqs\n",
    "show_bloqs([cmod_add_k, cmod_add_k_small],\n",
    "           ['`cmod_add_k`', '`cmod_add_k_small`'])"
   ]
  },
  {
   "cell_type": "markdown",
   "id": "48b87ff2",
   "metadata": {
    "cq.autogen": "CModAddK.call_graph.md"
   },
   "source": [
    "### Call Graph"
   ]
  },
  {
   "cell_type": "code",
   "execution_count": null,
   "id": "f6e6770b",
   "metadata": {
    "cq.autogen": "CModAddK.call_graph.py"
   },
   "outputs": [],
   "source": [
    "from qualtran.resource_counting.generalizers import ignore_split_join\n",
    "cmod_add_k_g, cmod_add_k_sigma = cmod_add_k.call_graph(max_depth=1, generalizer=ignore_split_join)\n",
    "show_call_graph(cmod_add_k_g)\n",
    "show_counts_sigma(cmod_add_k_sigma)"
   ]
  },
  {
   "cell_type": "markdown",
   "id": "21f93349",
   "metadata": {
    "cq.autogen": "CtrlScaleModAdd.bloq_doc.md"
   },
   "source": [
    "## `CtrlScaleModAdd`\n",
    "Perform y += x*k mod m for constant k, m and quantum x, y.\n",
    "\n",
    "#### Parameters\n",
    " - `k`: The constant integer to scale `x` before adding into `y`.\n",
    " - `mod`: The modulus of the addition\n",
    " - `bitsize`: The size of the two registers. \n",
    "\n",
    "#### Registers\n",
    " - `ctrl`: The control bit\n",
    " - `x`: The 'source' quantum register containing the integer to be scaled and added to `y`.\n",
    " - `y`: The 'destination' quantum register to which the addition will apply. \n",
    "\n",
    "#### References\n",
    " - [How to factor 2048 bit RSA integers in 8 hours using 20 million noisy qubits](https://arxiv.org/abs/1905.09749). Construction based on description in section 2.2 paragraph 4. We add n And/And† bloqs because the bloq is controlled, but the construction also involves modular addition controlled on the qubits comprising register x.\n"
   ]
  },
  {
   "cell_type": "code",
   "execution_count": null,
   "id": "4ac170e5",
   "metadata": {
    "cq.autogen": "CtrlScaleModAdd.bloq_doc.py"
   },
   "outputs": [],
   "source": [
    "from qualtran.bloqs.mod_arithmetic import CtrlScaleModAdd"
   ]
  },
  {
   "cell_type": "markdown",
   "id": "58ee7de2",
   "metadata": {
    "cq.autogen": "CtrlScaleModAdd.example_instances.md"
   },
   "source": [
    "### Example Instances"
   ]
  },
  {
   "cell_type": "code",
   "execution_count": null,
   "id": "73c2c6f7",
   "metadata": {
    "cq.autogen": "CtrlScaleModAdd.ctrl_scale_mod_add"
   },
   "outputs": [],
   "source": [
    "n, m, k = sympy.symbols('n m k')\n",
    "ctrl_scale_mod_add = CtrlScaleModAdd(bitsize=n, mod=m, k=k)"
   ]
  },
  {
   "cell_type": "code",
   "execution_count": null,
   "id": "e822d5eb",
   "metadata": {
    "cq.autogen": "CtrlScaleModAdd.ctrl_scale_mod_add_small"
   },
   "outputs": [],
   "source": [
    "ctrl_scale_mod_add_small = CtrlScaleModAdd(bitsize=4, mod=7, k=1)"
   ]
  },
  {
   "cell_type": "markdown",
   "id": "fe4c8957",
   "metadata": {
    "cq.autogen": "CtrlScaleModAdd.graphical_signature.md"
   },
   "source": [
    "#### Graphical Signature"
   ]
  },
  {
   "cell_type": "code",
   "execution_count": null,
   "id": "e4dc8923",
   "metadata": {
    "cq.autogen": "CtrlScaleModAdd.graphical_signature.py"
   },
   "outputs": [],
   "source": [
    "from qualtran.drawing import show_bloqs\n",
    "show_bloqs([ctrl_scale_mod_add, ctrl_scale_mod_add_small],\n",
    "           ['`ctrl_scale_mod_add`', '`ctrl_scale_mod_add_small`'])"
   ]
  },
  {
   "cell_type": "markdown",
   "id": "97d6888d",
   "metadata": {
    "cq.autogen": "CtrlScaleModAdd.call_graph.md"
   },
   "source": [
    "### Call Graph"
   ]
  },
  {
   "cell_type": "code",
   "execution_count": null,
   "id": "bd734f6b",
   "metadata": {
    "cq.autogen": "CtrlScaleModAdd.call_graph.py"
   },
   "outputs": [],
   "source": [
    "from qualtran.resource_counting.generalizers import ignore_split_join\n",
    "ctrl_scale_mod_add_g, ctrl_scale_mod_add_sigma = ctrl_scale_mod_add.call_graph(max_depth=1, generalizer=ignore_split_join)\n",
    "show_call_graph(ctrl_scale_mod_add_g)\n",
    "show_counts_sigma(ctrl_scale_mod_add_sigma)"
   ]
  }
 ],
 "metadata": {
  "kernelspec": {
   "display_name": "Python 3",
   "language": "python",
   "name": "python3"
  },
  "language_info": {
   "name": "python"
  }
 },
 "nbformat": 4,
 "nbformat_minor": 5
}
