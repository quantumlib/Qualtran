{
 "cells": [
  {
   "cell_type": "markdown",
   "id": "f4f08a50",
   "metadata": {
    "cq.autogen": "title_cell"
   },
   "source": [
    "# Modular Addition"
   ]
  },
  {
   "cell_type": "code",
   "execution_count": null,
   "id": "3d60a8e4",
   "metadata": {
    "cq.autogen": "top_imports"
   },
   "outputs": [],
   "source": [
    "from qualtran import Bloq, CompositeBloq, BloqBuilder, Signature, Register\n",
    "from qualtran import QBit, QInt, QUInt, QAny\n",
    "from qualtran.drawing import show_bloq, show_call_graph, show_counts_sigma\n",
    "from typing import *\n",
    "import numpy as np\n",
    "import sympy\n",
    "import cirq"
   ]
  },
  {
   "cell_type": "markdown",
   "id": "9198f9e7",
   "metadata": {
    "cq.autogen": "ModAdd.bloq_doc.md"
   },
   "source": [
    "## `ModAdd`\n",
    "An n-bit modular addition gate.\n",
    "\n",
    "Implements |x>|y> => |x>|y + x % p> using $4n$ Toffoli\n",
    "gates.\n",
    "\n",
    "This gate can also operate on integers in the Montgomery form.\n",
    "\n",
    "#### Parameters\n",
    " - `bitsize`: Number of bits used to represent each integer.\n",
    " - `mod`: The modulus for the addition. \n",
    "\n",
    "#### Registers\n",
    " - `x`: A bitsize-sized input register (register x above).\n",
    " - `y`: A bitsize-sized input/output register (register y above). \n",
    "\n",
    "#### References\n",
    " - [How to compute a 256-bit elliptic curve private key with only 50 million Toffoli gates](https://arxiv.org/abs/2306.08585). Construction from Figure 6a and cost summary in Figure 8.\n"
   ]
  },
  {
   "cell_type": "code",
   "execution_count": null,
   "id": "9205f875",
   "metadata": {
    "cq.autogen": "ModAdd.bloq_doc.py"
   },
   "outputs": [],
   "source": [
    "from qualtran.bloqs.mod_arithmetic import ModAdd"
   ]
  },
  {
   "cell_type": "markdown",
   "id": "58858002",
   "metadata": {
    "cq.autogen": "ModAdd.example_instances.md"
   },
   "source": [
    "### Example Instances"
   ]
  },
  {
   "cell_type": "code",
   "execution_count": null,
   "id": "cbc5506a",
   "metadata": {
    "cq.autogen": "ModAdd.mod_add"
   },
   "outputs": [],
   "source": [
    "n, p = sympy.symbols('n p')\n",
    "mod_add = ModAdd(n, mod=p)"
   ]
  },
  {
   "cell_type": "markdown",
   "id": "8bc5ef97",
   "metadata": {
    "cq.autogen": "ModAdd.graphical_signature.md"
   },
   "source": [
    "#### Graphical Signature"
   ]
  },
  {
   "cell_type": "code",
   "execution_count": null,
   "id": "70ba06f7",
   "metadata": {
    "cq.autogen": "ModAdd.graphical_signature.py"
   },
   "outputs": [],
   "source": [
    "from qualtran.drawing import show_bloqs\n",
    "show_bloqs([mod_add],\n",
    "           ['`mod_add`'])"
   ]
  },
  {
   "cell_type": "markdown",
   "id": "20a1f851",
   "metadata": {
    "cq.autogen": "ModAdd.call_graph.md"
   },
   "source": [
    "### Call Graph"
   ]
  },
  {
   "cell_type": "code",
   "execution_count": null,
   "id": "ad2fb92f",
   "metadata": {
    "cq.autogen": "ModAdd.call_graph.py"
   },
   "outputs": [],
   "source": [
    "from qualtran.resource_counting.generalizers import ignore_split_join\n",
    "mod_add_g, mod_add_sigma = mod_add.call_graph(max_depth=1, generalizer=ignore_split_join)\n",
    "show_call_graph(mod_add_g)\n",
    "show_counts_sigma(mod_add_sigma)"
   ]
  },
  {
   "cell_type": "markdown",
   "id": "732e7df7",
   "metadata": {
    "cq.autogen": "ModAddK.bloq_doc.md"
   },
   "source": [
    "## `ModAddK`\n",
    "Applies U(add, M)|x> = |(x + add) % M> if x < M else |x>.\n",
    "\n",
    "Applies modular addition to input register `|x>` given parameters `mod` and `add_val` s.t.\n",
    " 1. If integer `x` < `mod`: output is `|(x + add) % M>`\n",
    " 2. If integer `x` >= `mod`: output is `|x>`.\n",
    "\n",
    "This condition is needed to ensure that the mapping of all input basis states (i.e. input\n",
    "states |0>, |1>, ..., |2 ** bitsize - 1) to corresponding output states is bijective and thus\n",
    "the gate is reversible.\n",
    "\n",
    "Also supports controlled version of the gate by specifying a per qubit control value as a tuple\n",
    "of integers passed as `cvs`."
   ]
  },
  {
   "cell_type": "code",
   "execution_count": null,
   "id": "6b978c53",
   "metadata": {
    "cq.autogen": "ModAddK.bloq_doc.py"
   },
   "outputs": [],
   "source": [
    "from qualtran.bloqs.mod_arithmetic import ModAddK"
   ]
  },
  {
   "cell_type": "markdown",
   "id": "60a3bb0e",
   "metadata": {
    "cq.autogen": "ModAddK.example_instances.md"
   },
   "source": [
    "### Example Instances"
   ]
  },
  {
   "cell_type": "code",
   "execution_count": null,
   "id": "4d032451",
   "metadata": {
    "cq.autogen": "ModAddK.mod_add_k"
   },
   "outputs": [],
   "source": [
    "n, m, k = sympy.symbols('n m k')\n",
    "mod_add_k = ModAddK(bitsize=n, mod=m, add_val=k)"
   ]
  },
  {
   "cell_type": "code",
   "execution_count": null,
   "id": "ad89d8b6",
   "metadata": {
    "cq.autogen": "ModAddK.mod_add_k_small"
   },
   "outputs": [],
   "source": [
    "mod_add_k_small = ModAddK(bitsize=4, mod=7, add_val=1)"
   ]
  },
  {
   "cell_type": "code",
   "execution_count": null,
   "id": "438ea8db",
   "metadata": {
    "cq.autogen": "ModAddK.mod_add_k_large"
   },
   "outputs": [],
   "source": [
    "mod_add_k_large = ModAddK(bitsize=64, mod=500, add_val=23)"
   ]
  },
  {
   "cell_type": "markdown",
   "id": "b9054563",
   "metadata": {
    "cq.autogen": "ModAddK.graphical_signature.md"
   },
   "source": [
    "#### Graphical Signature"
   ]
  },
  {
   "cell_type": "code",
   "execution_count": null,
   "id": "5e74b988",
   "metadata": {
    "cq.autogen": "ModAddK.graphical_signature.py"
   },
   "outputs": [],
   "source": [
    "from qualtran.drawing import show_bloqs\n",
    "show_bloqs([mod_add_k, mod_add_k_small, mod_add_k_large],\n",
    "           ['`mod_add_k`', '`mod_add_k_small`', '`mod_add_k_large`'])"
   ]
  },
  {
   "cell_type": "markdown",
   "id": "d91f3f90",
   "metadata": {
    "cq.autogen": "ModAddK.call_graph.md"
   },
   "source": [
    "### Call Graph"
   ]
  },
  {
   "cell_type": "code",
   "execution_count": null,
   "id": "494b8b4a",
   "metadata": {
    "cq.autogen": "ModAddK.call_graph.py"
   },
   "outputs": [],
   "source": [
    "from qualtran.resource_counting.generalizers import ignore_split_join\n",
    "mod_add_k_g, mod_add_k_sigma = mod_add_k.call_graph(max_depth=1, generalizer=ignore_split_join)\n",
    "show_call_graph(mod_add_k_g)\n",
    "show_counts_sigma(mod_add_k_sigma)"
   ]
  }
 ],
 "metadata": {
  "kernelspec": {
   "display_name": "Python 3 (ipykernel)",
   "language": "python",
   "name": "python3"
  },
  "language_info": {
   "codemirror_mode": {
    "name": "ipython",
    "version": 3
   },
   "file_extension": ".py",
   "mimetype": "text/x-python",
   "name": "python",
   "nbconvert_exporter": "python",
   "pygments_lexer": "ipython3",
   "version": "3.11.7"
  }
 },
 "nbformat": 4,
 "nbformat_minor": 5
}
