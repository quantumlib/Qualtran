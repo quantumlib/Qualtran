{
 "cells": [
  {
   "cell_type": "markdown",
   "id": "567a1344",
   "metadata": {
    "cq.autogen": "title_cell"
   },
   "source": [
    "# Modular Subtraction"
   ]
  },
  {
   "cell_type": "code",
   "execution_count": null,
   "id": "f6069923",
   "metadata": {
    "cq.autogen": "top_imports"
   },
   "outputs": [],
   "source": [
    "from qualtran import Bloq, CompositeBloq, BloqBuilder, Signature, Register\n",
    "from qualtran import QBit, QInt, QUInt, QAny\n",
    "from qualtran.drawing import show_bloq, show_call_graph, show_counts_sigma\n",
    "from typing import *\n",
    "import numpy as np\n",
    "import sympy\n",
    "import cirq"
   ]
  },
  {
   "cell_type": "markdown",
   "id": "60a5a14b",
   "metadata": {
    "cq.autogen": "ModNeg.bloq_doc.md"
   },
   "source": [
    "## `ModNeg`\n",
    "Performs modular negation.\n",
    "\n",
    "Applies the operation $\\ket{x} \\rightarrow \\ket{-x \\% p}$\n",
    "\n",
    "Note: This implements the decomposition from Fig 6 in but doesn't match table 8\n",
    "since we don't use measurement based uncompution because that introduces random phase flips.\n",
    "\n",
    "#### Parameters\n",
    " - `dtype`: Datatype of the register.\n",
    " - `p`: The modulus for the negation. \n",
    "\n",
    "#### Registers\n",
    " - `x`: The register contraining the integer we negate. \n",
    "\n",
    "#### References\n",
    " - [How to compute a 256-bit elliptic curve private key with only 50 million Toffoli gates](https://arxiv.org/abs/2306.08585). Fig 6b\n"
   ]
  },
  {
   "cell_type": "code",
   "execution_count": null,
   "id": "3b9fbaea",
   "metadata": {
    "cq.autogen": "ModNeg.bloq_doc.py"
   },
   "outputs": [],
   "source": [
    "from qualtran.bloqs.mod_arithmetic import ModNeg"
   ]
  },
  {
   "cell_type": "markdown",
   "id": "558ee8f7",
   "metadata": {
    "cq.autogen": "ModNeg.example_instances.md"
   },
   "source": [
    "### Example Instances"
   ]
  },
  {
   "cell_type": "code",
   "execution_count": null,
   "id": "4ae34a69",
   "metadata": {
    "cq.autogen": "ModNeg.mod_neg"
   },
   "outputs": [],
   "source": [
    "n = 32\n",
    "prime = sympy.Symbol('p')\n",
    "mod_neg = ModNeg(QUInt(n), mod=prime)"
   ]
  },
  {
   "cell_type": "markdown",
   "id": "f4272288",
   "metadata": {
    "cq.autogen": "ModNeg.graphical_signature.md"
   },
   "source": [
    "#### Graphical Signature"
   ]
  },
  {
   "cell_type": "code",
   "execution_count": null,
   "id": "14e73260",
   "metadata": {
    "cq.autogen": "ModNeg.graphical_signature.py"
   },
   "outputs": [],
   "source": [
    "from qualtran.drawing import show_bloqs\n",
    "show_bloqs([mod_neg],\n",
    "           ['`mod_neg`'])"
   ]
  },
  {
   "cell_type": "markdown",
   "id": "16c9df24",
   "metadata": {
    "cq.autogen": "ModNeg.call_graph.md"
   },
   "source": [
    "### Call Graph"
   ]
  },
  {
   "cell_type": "code",
   "execution_count": null,
   "id": "51facc0f",
   "metadata": {
    "cq.autogen": "ModNeg.call_graph.py"
   },
   "outputs": [],
   "source": [
    "from qualtran.resource_counting.generalizers import ignore_split_join\n",
    "mod_neg_g, mod_neg_sigma = mod_neg.call_graph(max_depth=1, generalizer=ignore_split_join)\n",
    "show_call_graph(mod_neg_g)\n",
    "show_counts_sigma(mod_neg_sigma)"
   ]
  },
  {
   "cell_type": "markdown",
   "id": "2f54b001",
   "metadata": {
    "cq.autogen": "CModNeg.bloq_doc.md"
   },
   "source": [
    "## `CModNeg`\n",
    "Performs controlled modular negation.\n",
    "\n",
    "Applies the operation $\\ket{c}\\ket{x} \\rightarrow \\ket{c}\\ket{(-1)^c x\\%p}$\n",
    "\n",
    "Note: while this matches the count from Fig 8, it's a different decomposition that controls\n",
    "only the Add operation instead of turning the CNOTs into toffolis.\n",
    "\n",
    "#### Parameters\n",
    " - `dtype`: Datatype of the register.\n",
    " - `p`: The modulus for the negation.\n",
    " - `cv`: value at which the gate is active. \n",
    "\n",
    "#### Registers\n",
    " - `ctrl`: Control bit.\n",
    " - `x`: The register contraining the integer we negate. \n",
    "\n",
    "#### References\n",
    " - [How to compute a 256-bit elliptic curve private key with only 50 million Toffoli gates](https://arxiv.org/abs/2306.08585). Fig 6b and 8\n"
   ]
  },
  {
   "cell_type": "code",
   "execution_count": null,
   "id": "32eac233",
   "metadata": {
    "cq.autogen": "CModNeg.bloq_doc.py"
   },
   "outputs": [],
   "source": [
    "from qualtran.bloqs.mod_arithmetic import CModNeg"
   ]
  },
  {
   "cell_type": "markdown",
   "id": "1fde6712",
   "metadata": {
    "cq.autogen": "CModNeg.example_instances.md"
   },
   "source": [
    "### Example Instances"
   ]
  },
  {
   "cell_type": "code",
   "execution_count": null,
   "id": "b0a97e62",
   "metadata": {
    "cq.autogen": "CModNeg.cmod_neg"
   },
   "outputs": [],
   "source": [
    "n = 32\n",
    "prime = sympy.Symbol('p')\n",
    "cmod_neg = CModNeg(QUInt(n), mod=prime)"
   ]
  },
  {
   "cell_type": "markdown",
   "id": "1c88491c",
   "metadata": {
    "cq.autogen": "CModNeg.graphical_signature.md"
   },
   "source": [
    "#### Graphical Signature"
   ]
  },
  {
   "cell_type": "code",
   "execution_count": null,
   "id": "116d99b4",
   "metadata": {
    "cq.autogen": "CModNeg.graphical_signature.py"
   },
   "outputs": [],
   "source": [
    "from qualtran.drawing import show_bloqs\n",
    "show_bloqs([cmod_neg],\n",
    "           ['`cmod_neg`'])"
   ]
  },
  {
   "cell_type": "markdown",
   "id": "2321a163",
   "metadata": {
    "cq.autogen": "CModNeg.call_graph.md"
   },
   "source": [
    "### Call Graph"
   ]
  },
  {
   "cell_type": "code",
   "execution_count": null,
   "id": "c8905d0c",
   "metadata": {
    "cq.autogen": "CModNeg.call_graph.py"
   },
   "outputs": [],
   "source": [
    "from qualtran.resource_counting.generalizers import ignore_split_join\n",
    "cmod_neg_g, cmod_neg_sigma = cmod_neg.call_graph(max_depth=1, generalizer=ignore_split_join)\n",
    "show_call_graph(cmod_neg_g)\n",
    "show_counts_sigma(cmod_neg_sigma)"
   ]
  }
 ],
 "metadata": {
  "kernelspec": {
   "display_name": "Python 3",
   "language": "python",
   "name": "python3"
  },
  "language_info": {
   "name": "python"
  }
 },
 "nbformat": 4,
 "nbformat_minor": 5
}
