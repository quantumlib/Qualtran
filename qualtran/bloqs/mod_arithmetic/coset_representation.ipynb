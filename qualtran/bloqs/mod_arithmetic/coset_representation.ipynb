{
 "cells": [
  {
   "cell_type": "markdown",
   "id": "2feee875",
   "metadata": {
    "cq.autogen": "title_cell"
   },
   "source": [
    "# Coset Representation"
   ]
  },
  {
   "cell_type": "code",
   "execution_count": null,
   "id": "4e5b47c0",
   "metadata": {
    "cq.autogen": "top_imports"
   },
   "outputs": [],
   "source": [
    "from qualtran import Bloq, CompositeBloq, BloqBuilder, Signature, Register\n",
    "from qualtran import QBit, QInt, QUInt, QAny\n",
    "from qualtran.drawing import show_bloq, show_call_graph, show_counts_sigma\n",
    "from typing import *\n",
    "import numpy as np\n",
    "import sympy\n",
    "import cirq"
   ]
  },
  {
   "cell_type": "markdown",
   "id": "521a3742",
   "metadata": {
    "cq.autogen": "InitCosetRepresntation.bloq_doc.md"
   },
   "source": [
    "## `InitCosetRepresntation`\n",
    "A state initialization of an integer in the coset representation.\n",
    "\n",
    "The cost representation of an integer $k$ modulo $N$ with $c_{pad}$ bits is defined as\n",
    "$$\n",
    "    \\frac{1}{\\sqrt{2^{c_{pad}}}}\\sum_{j=0}^{2^{c_{pad}}} \\ket{jN + k}\n",
    "$$\n",
    "\n",
    "This bloq can be built of only clifford gates ... namely $c_{pad}$ `H` gates on the padding\n",
    "qubitsfollowed by `CNOT` gates implementing the reversible operation $jN+k$.\n",
    "\n",
    "#### Parameters\n",
    " - `c_pad`: The number of padding bits.\n",
    " - `k_bitsize`: The number of bits used to represent $k$ ($\\geq$ the number of bits of $k$ and $N$).\n",
    " - `k`: The value of $k$.\n",
    " - `mod`: The value of $N$. \n",
    "\n",
    "#### Registers\n",
    " - `x`: A k_bitsize+c_pad register output register containing the initialized state. \n",
    "\n",
    "#### References\n",
    " - - [Shor's algorithm with fewer (pure) qubits](https://arxiv.org/abs/quant-ph/0601097)     section 4. - [How to factor 2048 bit RSA integers in 8 hours using 20 million noisy qubits](https://arxiv.org/abs/1905.09749)     section 2.4\n"
   ]
  },
  {
   "cell_type": "code",
   "execution_count": null,
   "id": "ecf59588",
   "metadata": {
    "cq.autogen": "InitCosetRepresntation.bloq_doc.py"
   },
   "outputs": [],
   "source": [
    "from qualtran.bloqs.mod_arithmetic import InitCosetRepresntation"
   ]
  },
  {
   "cell_type": "markdown",
   "id": "e8233189",
   "metadata": {
    "cq.autogen": "InitCosetRepresntation.example_instances.md"
   },
   "source": [
    "### Example Instances"
   ]
  },
  {
   "cell_type": "code",
   "execution_count": null,
   "id": "fcbe6508",
   "metadata": {
    "cq.autogen": "InitCosetRepresntation.init_coset_representation"
   },
   "outputs": [],
   "source": [
    "c_pad, k_bitsize = sympy.symbols('c k')\n",
    "init_coset_representation = InitCosetRepresntation(c_pad, k_bitsize, k=1, mod=19)"
   ]
  },
  {
   "cell_type": "markdown",
   "id": "76acaa4c",
   "metadata": {
    "cq.autogen": "InitCosetRepresntation.graphical_signature.md"
   },
   "source": [
    "#### Graphical Signature"
   ]
  },
  {
   "cell_type": "code",
   "execution_count": null,
   "id": "9859906c",
   "metadata": {
    "cq.autogen": "InitCosetRepresntation.graphical_signature.py"
   },
   "outputs": [],
   "source": [
    "from qualtran.drawing import show_bloqs\n",
    "show_bloqs([init_coset_representation],\n",
    "           ['`init_coset_representation`'])"
   ]
  },
  {
   "cell_type": "markdown",
   "id": "b7764566",
   "metadata": {
    "cq.autogen": "InitCosetRepresntation.call_graph.md"
   },
   "source": [
    "### Call Graph"
   ]
  },
  {
   "cell_type": "code",
   "execution_count": null,
   "id": "bce29566",
   "metadata": {
    "cq.autogen": "InitCosetRepresntation.call_graph.py"
   },
   "outputs": [],
   "source": [
    "from qualtran.resource_counting.generalizers import ignore_split_join\n",
    "init_coset_representation_g, init_coset_representation_sigma = init_coset_representation.call_graph(max_depth=1, generalizer=ignore_split_join)\n",
    "show_call_graph(init_coset_representation_g)\n",
    "show_counts_sigma(init_coset_representation_sigma)"
   ]
  }
 ],
 "metadata": {
  "kernelspec": {
   "display_name": "Python 3",
   "language": "python",
   "name": "python3"
  },
  "language_info": {
   "name": "python"
  }
 },
 "nbformat": 4,
 "nbformat_minor": 5
}
