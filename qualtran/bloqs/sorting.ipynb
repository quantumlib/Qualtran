{
 "cells": [
  {
   "cell_type": "markdown",
   "id": "60a1531e",
   "metadata": {
    "cq.autogen": "title_cell"
   },
   "source": [
    "# Sorting"
   ]
  },
  {
   "cell_type": "code",
   "execution_count": null,
   "id": "cf61ba01",
   "metadata": {
    "cq.autogen": "top_imports"
   },
   "outputs": [],
   "source": [
    "from qualtran import Bloq, CompositeBloq, BloqBuilder, Signature, Register\n",
    "from qualtran.drawing import show_bloq\n",
    "from typing import *\n",
    "import numpy as np"
   ]
  },
  {
   "cell_type": "markdown",
   "id": "6a182ade",
   "metadata": {
    "cq.autogen": "_make_comparator.md"
   },
   "source": [
    "## `Comparator`\n",
    "Compare and potentially swaps two n-bit numbers.\n",
    "\n",
    "Implements $U|a\\rangle|b\\rangle|0\\rangle \\rightarrow |\\min(a,b)\\rangle|\\max(a,b)\\rangle|a>b\\rangle$,\n",
    "\n",
    "where $a$ and $b$ are n-qubit quantum registers. On output a and b are\n",
    "swapped if a > b. Forms the base primitive for sorting.\n",
    "\n",
    "#### Parameters\n",
    " - `bitsize`: Number of bits used to represent each integer. \n",
    "\n",
    "#### Registers\n",
    " - `a`: A nbit-sized input register (register a above).\n",
    " - `b`: A nbit-sized input register (register b above).\n",
    " - `out`: A single bit output register which will store the result of the comparator. \n",
    "\n",
    "#### References\n",
    "[Improved techniques for preparing eigenstates of fermionic Hamiltonians](https://www.nature.com/articles/s41534-018-0071-5), Fig. 1. in main text.\n"
   ]
  },
  {
   "cell_type": "code",
   "execution_count": null,
   "id": "e191ccfe",
   "metadata": {
    "cq.autogen": "_make_comparator.py"
   },
   "outputs": [],
   "source": [
    "from qualtran.bloqs.sorting import Comparator\n",
    "\n",
    "bloq = Comparator(bitsize=4)\n",
    "show_bloq(bloq)"
   ]
  },
  {
   "cell_type": "markdown",
   "id": "1e4ba443",
   "metadata": {
    "cq.autogen": "_make_bitonic_sort.md"
   },
   "source": [
    "## `BitonicSort`\n",
    "Sort k n-bit numbers.\n",
    "\n",
    "TODO: actually implement the algorithm using comparitor. Hiding ancilla cost\n",
    "    for the moment. Issue #219\n",
    "\n",
    "#### Parameters\n",
    " - `bitsize`: Number of bits used to represent each integer.\n",
    " - `k`: Number of integers to sort. \n",
    "\n",
    "#### Registers\n",
    " - `input`: A k-nbit-sized input register (register a above). List of integers we want to sort. \n",
    "\n",
    "#### References\n",
    "[Improved techniques for preparing eigenstates of fermionic Hamiltonians](https://www.nature.com/articles/s41534-018-0071-5), Supporting Information Sec. II.\n"
   ]
  },
  {
   "cell_type": "code",
   "execution_count": null,
   "id": "8b54ab12",
   "metadata": {
    "cq.autogen": "_make_bitonic_sort.py"
   },
   "outputs": [],
   "source": [
    "from qualtran.bloqs.sorting import BitonicSort\n",
    "\n",
    "bloq = BitonicSort(bitsize=8, k=8)\n",
    "show_bloq(bloq)"
   ]
  }
 ],
 "metadata": {
  "kernelspec": {
   "display_name": "Python 3",
   "language": "python",
   "name": "python3"
  },
  "language_info": {
   "codemirror_mode": {
    "name": "ipython",
    "version": 3
   },
   "file_extension": ".py",
   "mimetype": "text/x-python",
   "name": "python",
   "nbconvert_exporter": "python",
   "pygments_lexer": "ipython3",
   "version": "3.10.9"
  }
 },
 "nbformat": 4,
 "nbformat_minor": 5
}
