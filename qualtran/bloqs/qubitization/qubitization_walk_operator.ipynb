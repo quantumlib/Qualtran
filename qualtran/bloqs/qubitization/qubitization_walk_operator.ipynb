{
 "cells": [
  {
   "cell_type": "markdown",
   "id": "cfd6b8eb",
   "metadata": {
    "cq.autogen": "title_cell"
   },
   "source": [
    "# Qubitization Walk Operator\n",
    "\n",
    "Bloqs for constructing quantum walks from Select and Prepare operators.\n",
    "\n",
    "The spectrum of a quantum Hamiltonian can be encoded in the spectrum of a quantum \"walk\"\n",
    "operator. The Prepare and Select subroutines are carefully designed so that the Hamiltonian\n",
    "$H$ is encoded as a projection of Select onto the state prepared by Prepare:\n",
    "\n",
    "$$\n",
    "\\mathrm{PREPARE}|0\\rangle = |\\mathcal{L}\\rangle \\\\\n",
    "(\\langle \\mathcal{L} | \\otimes \\mathbb{1}) \\mathrm{SELECT} (|\\mathcal{L} \\rangle \\otimes \\mathbb{1}) = H / \\lambda\n",
    "$$.\n",
    "\n",
    "We first document the SelectOracle and PrepareOracle abstract base bloqs, and then show\n",
    "how they can be combined in `QubitizationWalkOperator`."
   ]
  },
  {
   "cell_type": "code",
   "execution_count": null,
   "id": "b9661b50",
   "metadata": {
    "cq.autogen": "top_imports"
   },
   "outputs": [],
   "source": [
    "from qualtran import Bloq, CompositeBloq, BloqBuilder, Signature, Register\n",
    "from qualtran import QBit, QInt, QUInt, QAny\n",
    "from qualtran.drawing import show_bloq, show_call_graph, show_counts_sigma\n",
    "from typing import *\n",
    "import numpy as np\n",
    "import sympy\n",
    "import cirq"
   ]
  },
  {
   "cell_type": "markdown",
   "id": "399690ef",
   "metadata": {
    "cq.autogen": "SelectOracle.bloq_doc.md"
   },
   "source": [
    "## `SelectOracle`\n",
    "Abstract base class that defines the interface for a SELECT Oracle.\n",
    "\n",
    "The action of a SELECT oracle on a selection register $|l\\rangle$ and target register\n",
    "$|\\Psi\\rangle$ can be defined as:\n",
    "\n",
    "$$\n",
    "    \\mathrm{SELECT} = \\sum_{l}|l \\rangle \\langle l| \\otimes U_l\n",
    "$$\n",
    "\n",
    "In other words, the `SELECT` oracle applies $l$'th unitary $U_l$ on the target register\n",
    "$|\\Psi\\rangle$ when the selection register stores integer $l$.\n",
    "\n",
    "$$\n",
    "    \\mathrm{SELECT}|l\\rangle |\\Psi\\rangle = |l\\rangle U_{l}|\\Psi\\rangle\n",
    "$$"
   ]
  },
  {
   "cell_type": "code",
   "execution_count": null,
   "id": "b2bae756",
   "metadata": {
    "cq.autogen": "SelectOracle.bloq_doc.py"
   },
   "outputs": [],
   "source": [
    "from qualtran.bloqs.block_encoding.lcu_select_and_prepare import SelectOracle"
   ]
  },
  {
   "cell_type": "markdown",
   "id": "774308d5",
   "metadata": {
    "cq.autogen": "PrepareOracle.bloq_doc.md"
   },
   "source": [
    "## `PrepareOracle`\n",
    "Abstract base class that defines the API for a PREPARE Oracle.\n",
    "\n",
    "Given a set of coefficients $\\{c_0, c_1, ..., c_{N - 1}\\}$, the PREPARE oracle is used to encode\n",
    "the coefficients as amplitudes of a state $|\\Psi\\rangle = \\sum_{l=0}^{N-1} \\sqrt{\\frac{c_l}{\\lambda}} |l\\rangle$\n",
    "where $\\lambda = \\sum_l |c_l|$, using a selection register $|l\\rangle$. In order to prepare such\n",
    "a state, the PREPARE circuit is also allowed to use a junk register that is entangled with\n",
    "selection register.\n",
    "\n",
    "Thus, the action of a PREPARE circuit on an input state $|0\\rangle$ can be defined as:\n",
    "\n",
    "$$\n",
    "    \\mathrm{PREPARE} |0\\rangle = \\sum_{l=0}^{N-1} \\sqrt{ \\frac{c_l}{\\lambda} } |l\\rangle |\\mathrm{junk}_l\\rangle\n",
    "$$"
   ]
  },
  {
   "cell_type": "code",
   "execution_count": null,
   "id": "bba5bab6",
   "metadata": {
    "cq.autogen": "PrepareOracle.bloq_doc.py"
   },
   "outputs": [],
   "source": [
    "from qualtran.bloqs.block_encoding.lcu_select_and_prepare import PrepareOracle"
   ]
  },
  {
   "cell_type": "markdown",
   "id": "229ba8d6",
   "metadata": {
    "cq.autogen": "QubitizationWalkOperator.bloq_doc.md"
   },
   "source": [
    "## `QubitizationWalkOperator`\n",
    "Construct a Szegedy Quantum Walk operator using LCU oracles SELECT and PREPARE.\n",
    "\n",
    "For a Hamiltonian $H = \\sum_l w_l H_l$ (where coefficients $w_l > 0$ and $H_l$ are unitaries),\n",
    "This bloq constructs a Szegedy quantum walk operator $W = R_{L} \\cdot \\mathrm{SELECT}$,\n",
    "which is a product of two reflections:\n",
    " - $R_L = (2|L\\rangle\\langle L| - I)$ and\n",
    " - $\\mathrm{SELECT}=\\sum_l |l\\rangle\\langle l|H_l$.\n",
    "\n",
    "The action of $W$ partitions the Hilbert space into a direct sum of two-dimensional irreducible\n",
    "vector spaces giving it the name \"qubitization\".\n",
    "For an arbitrary eigenstate $|k\\rangle$ of $H$ with eigenvalue $E_k$,\n",
    "the two-dimensional space is spanned by $|L\\rangle|k\\rangle$ and\n",
    "an orthogonal state $\\phi_k$. In this space, $W$ implements a Pauli-Y rotation by an angle of\n",
    "$-2\\arccos(E_k / \\lambda)$ where $\\lambda = \\sum_l w_l$. That is,\n",
    "$W = e^{i \\arccos(E_k / \\lambda) Y}$.\n",
    "\n",
    "Thus, the walk operator $W$ encodes the spectrum of $H$ as a function of eigenphases of $W$,\n",
    "specifically $\\mathrm{spectrum}(H) = \\lambda \\cos(\\arg(\\mathrm{spectrum}(W)))$\n",
    "where $\\arg(e^{i\\phi}) = \\phi$.\n",
    "\n",
    "#### Parameters\n",
    " - `select`: The SELECT lcu gate implementing $\\mathrm{SELECT}=\\sum_{l}|l\\rangle\\langle l|H_{l}$.\n",
    " - `prepare`: Then PREPARE lcu gate implementing $\\mathrm{PREPARE}|0\\dots 0\\rangle = \\sum_l \\sqrt{\\frac{w_{l}}{\\lambda}} |l\\rangle = |L\\rangle$\n",
    " - `control_val`: If 0/1, a controlled version of the walk operator is constructed. Defaults to None, in which case the resulting walk operator is not controlled. \n",
    "\n",
    "#### References\n",
    " - [Encoding Electronic Spectra in Quantum Circuits with Linear T Complexity](https://arxiv.org/abs/1805.03662). Babbush et. al. (2018). Figure 1.\n"
   ]
  },
  {
   "cell_type": "code",
   "execution_count": null,
   "id": "15321e4d",
   "metadata": {
    "cq.autogen": "QubitizationWalkOperator.bloq_doc.py"
   },
   "outputs": [],
   "source": [
    "from qualtran.bloqs.qubitization import QubitizationWalkOperator"
   ]
  },
  {
   "cell_type": "markdown",
   "id": "96fc5764",
   "metadata": {
    "cq.autogen": "QubitizationWalkOperator.example_instances.md"
   },
   "source": [
    "### Example Instances"
   ]
  },
  {
   "cell_type": "code",
   "execution_count": null,
   "id": "f8392371",
   "metadata": {
    "cq.autogen": "QubitizationWalkOperator.walk_op"
   },
   "outputs": [],
   "source": [
    "from qualtran.bloqs.qubitization.qubitization_walk_operator_test import (\n",
    "    get_walk_operator_for_1d_ising_model,\n",
    ")\n",
    "\n",
    "walk_op = get_walk_operator_for_1d_ising_model(4, 2e-1)"
   ]
  },
  {
   "cell_type": "code",
   "execution_count": null,
   "id": "610b41e2",
   "metadata": {
    "cq.autogen": "QubitizationWalkOperator.thc_walk_op"
   },
   "outputs": [],
   "source": [
    "from openfermion.resource_estimates.utils import QI\n",
    "\n",
    "from qualtran.bloqs.chemistry.thc.walk_operator import get_walk_operator_for_thc_ham\n",
    "\n",
    "# Li et al parameters from openfermion.resource_estimates.thc.compute_cost_thc_test\n",
    "num_spinorb = 152\n",
    "num_bits_state_prep = 10\n",
    "num_bits_rot = 20\n",
    "thc_dim = 450\n",
    "num_spat = num_spinorb // 2\n",
    "tpq = np.random.normal(size=(num_spat, num_spat))\n",
    "tpq = 0.5 * (tpq + tpq) / 2\n",
    "zeta = np.random.normal(size=(thc_dim, thc_dim))\n",
    "zeta = 0.5 * (zeta + zeta) / 2\n",
    "qroam_blocking_factor = np.power(2, QI(thc_dim + num_spat)[0])\n",
    "thc_walk_op = get_walk_operator_for_thc_ham(\n",
    "    tpq,\n",
    "    zeta,\n",
    "    num_bits_state_prep=num_bits_state_prep,\n",
    "    num_bits_theta=num_bits_rot,\n",
    "    kr1=qroam_blocking_factor,\n",
    "    kr2=qroam_blocking_factor,\n",
    ")"
   ]
  },
  {
   "cell_type": "code",
   "execution_count": null,
   "id": "0832238d",
   "metadata": {
    "cq.autogen": "QubitizationWalkOperator.walk_op_chem_sparse"
   },
   "outputs": [],
   "source": [
    "from qualtran.bloqs.chemistry.sparse.prepare_test import build_random_test_integrals\n",
    "from qualtran.bloqs.chemistry.sparse.walk_operator import get_walk_operator_for_sparse_chem_ham\n",
    "\n",
    "num_spin_orb = 8\n",
    "num_bits_rot_aa = 8\n",
    "num_bits_state_prep = 12\n",
    "tpq, eris = build_random_test_integrals(num_spin_orb // 2)\n",
    "walk_op_chem_sparse = get_walk_operator_for_sparse_chem_ham(\n",
    "    tpq, eris, num_bits_rot_aa=num_bits_rot_aa, num_bits_state_prep=num_bits_state_prep\n",
    ")"
   ]
  },
  {
   "cell_type": "markdown",
   "id": "03c98002",
   "metadata": {
    "cq.autogen": "QubitizationWalkOperator.graphical_signature.md"
   },
   "source": [
    "#### Graphical Signature"
   ]
  },
  {
   "cell_type": "code",
   "execution_count": null,
   "id": "9351cadf",
   "metadata": {
    "cq.autogen": "QubitizationWalkOperator.graphical_signature.py"
   },
   "outputs": [],
   "source": [
    "from qualtran.drawing import show_bloqs\n",
    "show_bloqs([walk_op, thc_walk_op, walk_op_chem_sparse],\n",
    "           ['`walk_op`', '`thc_walk_op`', '`walk_op_chem_sparse`'])"
   ]
  },
  {
   "cell_type": "markdown",
   "id": "1bacb706",
   "metadata": {
    "cq.autogen": "QubitizationWalkOperator.call_graph.md"
   },
   "source": [
    "### Call Graph"
   ]
  },
  {
   "cell_type": "code",
   "execution_count": null,
   "id": "c675bcf0",
   "metadata": {
    "cq.autogen": "QubitizationWalkOperator.call_graph.py"
   },
   "outputs": [],
   "source": [
    "from qualtran.resource_counting.generalizers import ignore_split_join\n",
    "walk_op_g, walk_op_sigma = walk_op.call_graph(max_depth=1, generalizer=ignore_split_join)\n",
    "show_call_graph(walk_op_g)\n",
    "show_counts_sigma(walk_op_sigma)"
   ]
  }
 ],
 "metadata": {
  "kernelspec": {
   "display_name": "Python 3 (ipykernel)",
   "language": "python",
   "name": "python3"
  },
  "language_info": {
   "codemirror_mode": {
    "name": "ipython",
    "version": 3
   },
   "file_extension": ".py",
   "mimetype": "text/x-python",
   "name": "python",
   "nbconvert_exporter": "python",
   "pygments_lexer": "ipython3",
   "version": "3.11.8"
  }
 },
 "nbformat": 4,
 "nbformat_minor": 5
}
