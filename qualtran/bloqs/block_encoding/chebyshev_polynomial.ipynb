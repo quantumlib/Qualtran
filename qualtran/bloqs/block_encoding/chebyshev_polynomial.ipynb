{
 "cells": [
  {
   "cell_type": "markdown",
   "id": "669be67a",
   "metadata": {
    "cq.autogen": "title_cell"
   },
   "source": [
    "# Chebyshev Polynomial"
   ]
  },
  {
   "cell_type": "code",
   "execution_count": null,
   "id": "97a022fe",
   "metadata": {
    "cq.autogen": "top_imports"
   },
   "outputs": [],
   "source": [
    "from qualtran import Bloq, CompositeBloq, BloqBuilder, Signature, Register\n",
    "from qualtran import QBit, QInt, QUInt, QAny\n",
    "from qualtran.drawing import show_bloq, show_call_graph, show_counts_sigma\n",
    "from typing import *\n",
    "import numpy as np\n",
    "import sympy\n",
    "import cirq"
   ]
  },
  {
   "cell_type": "markdown",
   "id": "75318c87",
   "metadata": {
    "cq.autogen": "ChebyshevPolynomial.bloq_doc.md"
   },
   "source": [
    "## `ChebyshevPolynomial`\n",
    "Block encoding of $T_j[H]$ where $T_j$ is the $j$-th Chebyshev polynomial.\n",
    "\n",
    "Here H is a Hamiltonian with spectral norm $|H| \\le 1$, we assume we have\n",
    "an $n_L$ qubit ancilla register, and assume that $j > 0$ to avoid block\n",
    "encoding the identity operator.\n",
    "\n",
    "Recall:\n",
    "\n",
    "\\begin{align*}\n",
    "    T_0[H] &= \\mathbb{1} \\\\\n",
    "    T_1[H] &= H \\\\\n",
    "    T_2[H] &= 2 H^2 - \\mathbb{1} \\\\\n",
    "    T_3[H] &= 4 H^3 - 3 H \\\\\n",
    "    &\\dots\n",
    "\\end{align*}\n",
    "\n",
    "See https://github.com/quantumlib/Qualtran/issues/984 for an alternative.\n",
    "\n",
    "#### Parameters\n",
    " - `block_encoding`: Block encoding of a Hamiltonian $H$, $\\mathcal{B}[H]$. Assumes the $|G\\rangle$ state of the block encoding is the identity operator.\n",
    " - `order`: order of Chebychev polynomial. \n",
    "\n",
    "#### References\n",
    " - [Quantum computing enhanced computational catalysis](https://arxiv.org/abs/2007.14460).     von Burg et al. 2007. Page 45; Theorem 1.\n"
   ]
  },
  {
   "cell_type": "code",
   "execution_count": null,
   "id": "8c4c2cca",
   "metadata": {
    "cq.autogen": "ChebyshevPolynomial.bloq_doc.py"
   },
   "outputs": [],
   "source": [
    "from qualtran.bloqs.block_encoding import ChebyshevPolynomial"
   ]
  },
  {
   "cell_type": "markdown",
   "id": "bd4662f7",
   "metadata": {
    "cq.autogen": "ChebyshevPolynomial.example_instances.md"
   },
   "source": [
    "### Example Instances"
   ]
  },
  {
   "cell_type": "code",
   "execution_count": null,
   "id": "948022f5",
   "metadata": {
    "cq.autogen": "ChebyshevPolynomial.chebyshev_poly"
   },
   "outputs": [],
   "source": [
    "from qualtran.bloqs.block_encoding import LCUBlockEncodingZeroState\n",
    "from qualtran.bloqs.chemistry.hubbard_model.qubitization import PrepareHubbard, SelectHubbard\n",
    "\n",
    "dim = 3\n",
    "select = SelectHubbard(x_dim=dim, y_dim=dim)\n",
    "U = 4\n",
    "t = 1\n",
    "prepare = PrepareHubbard(x_dim=dim, y_dim=dim, t=t, u=U)\n",
    "N = dim * dim * 2\n",
    "qlambda = 2 * N * t + (N * U) // 2\n",
    "block_bloq = LCUBlockEncodingZeroState(\n",
    "    select=select, prepare=prepare, alpha=qlambda, epsilon=0.0\n",
    ")\n",
    "chebyshev_poly = ChebyshevPolynomial(block_bloq, order=3)"
   ]
  },
  {
   "cell_type": "code",
   "execution_count": null,
   "id": "5c2de09f",
   "metadata": {
    "cq.autogen": "ChebyshevPolynomial.black_box_chebyshev_poly"
   },
   "outputs": [],
   "source": [
    "from qualtran.bloqs.block_encoding import (\n",
    "    BlackBoxPrepare,\n",
    "    BlackBoxSelect,\n",
    "    LCUBlockEncodingZeroState,\n",
    ")\n",
    "from qualtran.bloqs.chemistry.hubbard_model.qubitization import PrepareHubbard, SelectHubbard\n",
    "\n",
    "dim = 3\n",
    "select = SelectHubbard(x_dim=dim, y_dim=dim)\n",
    "U = 4\n",
    "t = 1\n",
    "prepare = PrepareHubbard(x_dim=dim, y_dim=dim, t=t, u=U)\n",
    "N = dim * dim * 2\n",
    "qlambda = 2 * N * t + (N * U) // 2\n",
    "black_box_block_bloq = LCUBlockEncodingZeroState(\n",
    "    select=BlackBoxSelect(select), prepare=BlackBoxPrepare(prepare), alpha=qlambda, epsilon=0.0\n",
    ")\n",
    "black_box_chebyshev_poly = ChebyshevPolynomial(black_box_block_bloq, order=3)"
   ]
  },
  {
   "cell_type": "markdown",
   "id": "feb63ede",
   "metadata": {
    "cq.autogen": "ChebyshevPolynomial.graphical_signature.md"
   },
   "source": [
    "#### Graphical Signature"
   ]
  },
  {
   "cell_type": "code",
   "execution_count": null,
   "id": "5c240f74",
   "metadata": {
    "cq.autogen": "ChebyshevPolynomial.graphical_signature.py"
   },
   "outputs": [],
   "source": [
    "from qualtran.drawing import show_bloqs\n",
    "show_bloqs([chebyshev_poly, black_box_chebyshev_poly],\n",
    "           ['`chebyshev_poly`', '`black_box_chebyshev_poly`'])"
   ]
  },
  {
   "cell_type": "markdown",
   "id": "9ae67df3",
   "metadata": {
    "cq.autogen": "ChebyshevPolynomial.call_graph.md"
   },
   "source": [
    "### Call Graph"
   ]
  },
  {
   "cell_type": "code",
   "execution_count": null,
   "id": "8c7b9d94",
   "metadata": {
    "cq.autogen": "ChebyshevPolynomial.call_graph.py"
   },
   "outputs": [],
   "source": [
    "from qualtran.resource_counting.generalizers import ignore_split_join\n",
    "chebyshev_poly_g, chebyshev_poly_sigma = chebyshev_poly.call_graph(max_depth=1, generalizer=ignore_split_join)\n",
    "show_call_graph(chebyshev_poly_g)\n",
    "show_counts_sigma(chebyshev_poly_sigma)"
   ]
  }
 ],
 "metadata": {
  "kernelspec": {
   "display_name": "Python 3",
   "language": "python",
   "name": "python3"
  },
  "language_info": {
   "name": "python"
  }
 },
 "nbformat": 4,
 "nbformat_minor": 5
}
