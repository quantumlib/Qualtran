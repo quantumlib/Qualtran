{
 "cells": [
  {
   "cell_type": "markdown",
   "id": "669be67a",
   "metadata": {
    "cq.autogen": "title_cell"
   },
   "source": [
    "# Chebyshev Polynomial"
   ]
  },
  {
   "cell_type": "code",
   "execution_count": null,
   "id": "97a022fe",
   "metadata": {
    "cq.autogen": "top_imports"
   },
   "outputs": [],
   "source": [
    "from qualtran import Bloq, CompositeBloq, BloqBuilder, Signature, Register\n",
    "from qualtran import QBit, QInt, QUInt, QAny\n",
    "from qualtran.drawing import show_bloq, show_call_graph, show_counts_sigma\n",
    "from typing import *\n",
    "import numpy as np\n",
    "import sympy\n",
    "import cirq"
   ]
  },
  {
   "cell_type": "markdown",
   "id": "75318c87",
   "metadata": {
    "cq.autogen": "ChebyshevPolynomial.bloq_doc.md"
   },
   "source": [
    "## `ChebyshevPolynomial`\n",
    "Block encoding of $T_j[A]$ where $T_j$ is the $j$-th Chebyshev polynomial.\n",
    "\n",
    "Here $A$ is a Hermitian matrix with spectral norm $|A| \\le 1$, we assume we have\n",
    "an $n_L$ qubit ancilla register, and assume that $j > 0$ to avoid block\n",
    "encoding the identity operator.\n",
    "\n",
    "Recall:\n",
    "\n",
    "\\begin{align*}\n",
    "    T_0[A] &= I \\\\\n",
    "    T_1[A] &= A \\\\\n",
    "    T_2[A] &= 2 A^2 - I \\\\\n",
    "    T_3[A] &= 4 A^3 - 3 A \\\\\n",
    "    &\\dots\n",
    "\\end{align*}\n",
    "\n",
    "If `block_encoding` block encodes $A$ with normalization factor $\\alpha$, i.e. it constructs\n",
    "$\\mathcal{B}[A/\\alpha]$, then this bloq constructs $\\mathcal{B}[T_j(A/\\alpha)]$ with\n",
    "normalization factor 1. Note that $\\mathcal{B}[T_j(A/\\alpha)]$ is not a multiple of\n",
    "$\\mathcal{B}[T_j(A)]$ in general.\n",
    "\n",
    "See https://github.com/quantumlib/Qualtran/issues/984 for an alternative.\n",
    "\n",
    "#### Parameters\n",
    " - `block_encoding`: Block encoding of a Hermitian matrix $A$, $\\mathcal{B}[A]$. Assumes the $|G\\rangle$ state of the block encoding is the identity operator.\n",
    " - `order`: order of Chebychev polynomial. \n",
    "\n",
    "#### References\n",
    " - [Quantum computing enhanced computational catalysis](https://arxiv.org/abs/2007.14460).     von Burg et al. 2007. Page 45; Theorem 1.\n"
   ]
  },
  {
   "cell_type": "code",
   "execution_count": null,
   "id": "8c4c2cca",
   "metadata": {
    "cq.autogen": "ChebyshevPolynomial.bloq_doc.py"
   },
   "outputs": [],
   "source": [
    "from qualtran.bloqs.block_encoding import ChebyshevPolynomial"
   ]
  },
  {
   "cell_type": "markdown",
   "id": "bd4662f7",
   "metadata": {
    "cq.autogen": "ChebyshevPolynomial.example_instances.md"
   },
   "source": [
    "### Example Instances"
   ]
  },
  {
   "cell_type": "code",
   "execution_count": null,
   "id": "76559ac1",
   "metadata": {
    "cq.autogen": "ChebyshevPolynomial.chebyshev_poly_even"
   },
   "outputs": [],
   "source": [
    "from qualtran.bloqs.basic_gates import Hadamard, XGate\n",
    "from qualtran.bloqs.block_encoding import LinearCombination, Unitary\n",
    "\n",
    "bloq = LinearCombination((Unitary(XGate()), Unitary(Hadamard())), (1.0, 1.0), lambd_bits=1)\n",
    "chebyshev_poly_even = ChebyshevPolynomial(bloq, order=4)"
   ]
  },
  {
   "cell_type": "code",
   "execution_count": null,
   "id": "1d85b9c1",
   "metadata": {
    "cq.autogen": "ChebyshevPolynomial.chebyshev_poly_odd"
   },
   "outputs": [],
   "source": [
    "from qualtran.bloqs.basic_gates import Hadamard\n",
    "from qualtran.bloqs.block_encoding import Unitary\n",
    "\n",
    "bloq = Unitary(Hadamard())\n",
    "chebyshev_poly_odd = ChebyshevPolynomial(bloq, order=5)"
   ]
  },
  {
   "cell_type": "markdown",
   "id": "9dcdb85f",
   "metadata": {
    "cq.autogen": "ChebyshevPolynomial.graphical_signature.md"
   },
   "source": [
    "#### Graphical Signature"
   ]
  },
  {
   "cell_type": "code",
   "execution_count": null,
   "id": "70740244",
   "metadata": {
    "cq.autogen": "ChebyshevPolynomial.graphical_signature.py"
   },
   "outputs": [],
   "source": [
    "from qualtran.drawing import show_bloqs\n",
    "show_bloqs([chebyshev_poly_even, chebyshev_poly_odd],\n",
    "           ['`chebyshev_poly_even`', '`chebyshev_poly_odd`'])"
   ]
  },
  {
   "cell_type": "markdown",
   "id": "5ceaeb9b",
   "metadata": {
    "cq.autogen": "ChebyshevPolynomial.call_graph.md"
   },
   "source": [
    "### Call Graph"
   ]
  },
  {
   "cell_type": "code",
   "execution_count": null,
   "id": "d258bae7",
   "metadata": {
    "cq.autogen": "ChebyshevPolynomial.call_graph.py"
   },
   "outputs": [],
   "source": [
    "from qualtran.resource_counting.generalizers import ignore_split_join\n",
    "chebyshev_poly_even_g, chebyshev_poly_even_sigma = chebyshev_poly_even.call_graph(max_depth=1, generalizer=ignore_split_join)\n",
    "show_call_graph(chebyshev_poly_even_g)\n",
    "show_counts_sigma(chebyshev_poly_even_sigma)"
   ]
  }
 ],
 "metadata": {
  "kernelspec": {
   "display_name": "Python 3",
   "language": "python",
   "name": "python3"
  },
  "language_info": {
   "name": "python",
   "version": "3.11.2"
  }
 },
 "nbformat": 4,
 "nbformat_minor": 5
}
