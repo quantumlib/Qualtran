{
 "cells": [
  {
   "cell_type": "markdown",
   "id": "838721b7",
   "metadata": {
    "cq.autogen": "title_cell"
   },
   "source": [
    "# Linear Combination"
   ]
  },
  {
   "cell_type": "code",
   "execution_count": null,
   "id": "c401730d",
   "metadata": {
    "cq.autogen": "top_imports"
   },
   "outputs": [],
   "source": [
    "from qualtran import Bloq, CompositeBloq, BloqBuilder, Signature, Register\n",
    "from qualtran import QBit, QInt, QUInt, QAny\n",
    "from qualtran.drawing import show_bloq, show_call_graph, show_counts_sigma\n",
    "from typing import *\n",
    "import numpy as np\n",
    "import sympy\n",
    "import cirq"
   ]
  },
  {
   "cell_type": "markdown",
   "id": "864be3e1",
   "metadata": {
    "cq.autogen": "LinearCombination.bloq_doc.md"
   },
   "source": [
    "## `LinearCombination`\n",
    "Linear combination of a sequence of block encodings.\n",
    "\n",
    "Builds the block encoding $B[\\lambda_1 U_1 + \\lambda_2 U_2 + \\cdots + \\lambda_n U_n]$ given\n",
    "block encodings $B[U_1], \\ldots, B[U_n]$ and coefficients $\\lambda_i \\in \\mathbb{R}$.\n",
    "\n",
    "When each $B[U_i]$ is a $(\\alpha_i, a_i, \\epsilon_i)$-block encoding of $U_i$, we have that\n",
    "$B[\\lambda_1 U_1 + \\cdots + \\lambda_n U_n]$ is a $(\\alpha, a, \\epsilon)$-block encoding\n",
    "of $\\lambda_1 U_1 + \\cdots + \\lambda_n U_n$ where the normalization constant\n",
    "$\\alpha = \\sum_i \\lvert\\lambda_i\\rvert\\alpha_i$, number of ancillas\n",
    "$a = \\lceil \\log_2 n \\rceil + \\max_i a_i$, and precision\n",
    "$\\epsilon = (\\sum_i \\lvert\\lambda_i\\rvert)\\max_i \\epsilon_i$.\n",
    "\n",
    "Under the hood, this bloq uses LCU Prepare and Select oracles to build the block encoding.\n",
    "These oracles will be automatically instantiated if not specified by the user.\n",
    "\n",
    "#### Parameters\n",
    " - `block_encodings`: A sequence of block encodings.\n",
    " - `lambd`: Corresponding coefficients.\n",
    " - `lambd_bits`: Number of bits needed to represent coefficients precisely.\n",
    " - `prepare`: If specified, oracle preparing $\\sum_i \\sqrt{|\\lambda_i|} |i\\rangle$ (state should be normalized and can have junk).\n",
    " - `select`: If specified, oracle taking $|i\\rangle|\\psi\\rangle \\mapsto \\text{sgn}(\\lambda_i) |i\\rangle U_i|\\psi\\rangle$. \n",
    "\n",
    "#### Registers\n",
    " - `system`: The system register.\n",
    " - `ancilla`: The ancilla register (present only if bitsize > 0).\n",
    " - `resource`: The resource register (present only if bitsize > 0). \n",
    "\n",
    "#### References\n",
    " - [Quantum algorithms: A survey of applications and end-to-end complexities]( https://arxiv.org/abs/2310.03011). Dalzell et al. (2023). Ch. 10.2.\n"
   ]
  },
  {
   "cell_type": "code",
   "execution_count": null,
   "id": "8b8e6079",
   "metadata": {
    "cq.autogen": "LinearCombination.bloq_doc.py"
   },
   "outputs": [],
   "source": [
    "from qualtran.bloqs.block_encoding import LinearCombination"
   ]
  },
  {
   "cell_type": "markdown",
   "id": "a5109c86",
   "metadata": {
    "cq.autogen": "LinearCombination.example_instances.md"
   },
   "source": [
    "### Example Instances"
   ]
  },
  {
   "cell_type": "code",
   "execution_count": null,
   "id": "e11d9935",
   "metadata": {
    "cq.autogen": "LinearCombination.linear_combination_block_encoding"
   },
   "outputs": [],
   "source": [
    "from qualtran.bloqs.basic_gates import Hadamard, TGate, XGate, ZGate\n",
    "from qualtran.bloqs.block_encoding.unitary import Unitary\n",
    "\n",
    "linear_combination_block_encoding = LinearCombination(\n",
    "    (Unitary(TGate()), Unitary(Hadamard()), Unitary(XGate()), Unitary(ZGate())),\n",
    "    lambd=(0.25, -0.25, 0.25, -0.25),\n",
    "    lambd_bits=1,\n",
    ")"
   ]
  },
  {
   "cell_type": "markdown",
   "id": "fea2bf9f",
   "metadata": {
    "cq.autogen": "LinearCombination.graphical_signature.md"
   },
   "source": [
    "#### Graphical Signature"
   ]
  },
  {
   "cell_type": "code",
   "execution_count": null,
   "id": "476476dd",
   "metadata": {
    "cq.autogen": "LinearCombination.graphical_signature.py"
   },
   "outputs": [],
   "source": [
    "from qualtran.drawing import show_bloqs\n",
    "show_bloqs([linear_combination_block_encoding],\n",
    "           ['`linear_combination_block_encoding`'])"
   ]
  },
  {
   "cell_type": "markdown",
   "id": "5de97064",
   "metadata": {
    "cq.autogen": "LinearCombination.call_graph.md"
   },
   "source": [
    "### Call Graph"
   ]
  },
  {
   "cell_type": "code",
   "execution_count": null,
   "id": "1ce24ab1",
   "metadata": {
    "cq.autogen": "LinearCombination.call_graph.py"
   },
   "outputs": [],
   "source": [
    "from qualtran.resource_counting.generalizers import ignore_split_join\n",
    "linear_combination_block_encoding_g, linear_combination_block_encoding_sigma = linear_combination_block_encoding.call_graph(max_depth=1, generalizer=ignore_split_join)\n",
    "show_call_graph(linear_combination_block_encoding_g)\n",
    "show_counts_sigma(linear_combination_block_encoding_sigma)"
   ]
  }
 ],
 "metadata": {
  "kernelspec": {
   "display_name": "Python 3",
   "language": "python",
   "name": "python3"
  },
  "language_info": {
   "name": "python"
  }
 },
 "nbformat": 4,
 "nbformat_minor": 5
}
