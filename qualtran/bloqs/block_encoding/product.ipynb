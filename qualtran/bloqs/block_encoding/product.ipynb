{
 "cells": [
  {
   "cell_type": "markdown",
   "id": "3eaa12dc",
   "metadata": {
    "cq.autogen": "title_cell"
   },
   "source": [
    "# Product"
   ]
  },
  {
   "cell_type": "code",
   "execution_count": null,
   "id": "901db3a4",
   "metadata": {
    "cq.autogen": "top_imports"
   },
   "outputs": [],
   "source": [
    "from qualtran import Bloq, CompositeBloq, BloqBuilder, Signature, Register\n",
    "from qualtran import QBit, QInt, QUInt, QAny\n",
    "from qualtran.drawing import show_bloq, show_call_graph, show_counts_sigma\n",
    "from typing import *\n",
    "import numpy as np\n",
    "import sympy\n",
    "import cirq"
   ]
  },
  {
   "cell_type": "markdown",
   "id": "11030978",
   "metadata": {
    "cq.autogen": "Product.bloq_doc.md"
   },
   "source": [
    "## `Product`\n",
    "Product of a sequence of block encodings.\n",
    "\n",
    "Builds the block encoding $B[U_1 * U_2 * \\cdots * U_n]$ given block encodings\n",
    "$B[U_1], \\ldots, B[U_n]$.\n",
    "\n",
    "When each $B[U_i]$ is a $(\\alpha_i, a_i, \\epsilon_i)$-block encoding of $U_i$, we have that\n",
    "$B[U_1 * \\cdots * U_n]$ is a block encoding of $U_1 * \\cdots * U_n$ with normalization\n",
    "constant $\\prod_i \\alpha_i$, ancilla bitsize $n - 1 + \\max_i a_i$, and precision\n",
    "$\\sum_i \\alpha_i \\epsilon_i$.\n",
    "\n",
    "Following Fig. 2 in Dalzell et al. (2023), Ch. 10.2, the product is encoded by concatenating\n",
    "each constituent block encoding, using a shared ancilla register and a set of flag qubits to\n",
    "verify that the ancilla is left as zero after each use:\n",
    "```\n",
    "       ┌────────┐\n",
    "  |0> ─┤        ├─     |0> ───────────X──────X────\n",
    "       │        │                     │\n",
    "       │ U_(AB) │  =        ┌─────┐   │   ┌─────┐\n",
    "  |0> ─┤        ├─     |0> ─┤     ├──(0)──┤     ├─\n",
    "       │        │           │ U_B │       │ U_A │\n",
    "|Psi> ─┤        ├─   |Psi> ─┤     ├───────┤     ├─\n",
    "       └────────┘           └─────┘       └─────┘\n",
    "```\n",
    "\n",
    "#### Parameters\n",
    " - `block_encodings`: A sequence of block encodings. \n",
    "\n",
    "#### Registers\n",
    " - `system`: The system register.\n",
    " - `ancilla`: The ancilla register (present only if bitsize > 0).\n",
    " - `resource`: The resource register (present only if bitsize > 0). \n",
    "\n",
    "#### References\n",
    " - [Quantum algorithms: A survey of applications and end-to-end complexities]( https://arxiv.org/abs/2310.03011). Dalzell et al. (2023). Ch. 10.2.\n"
   ]
  },
  {
   "cell_type": "code",
   "execution_count": null,
   "id": "ae1ca92b",
   "metadata": {
    "cq.autogen": "Product.bloq_doc.py"
   },
   "outputs": [],
   "source": [
    "from qualtran.bloqs.block_encoding import Product"
   ]
  },
  {
   "cell_type": "markdown",
   "id": "34c018a3",
   "metadata": {
    "cq.autogen": "Product.example_instances.md"
   },
   "source": [
    "### Example Instances"
   ]
  },
  {
   "cell_type": "code",
   "execution_count": null,
   "id": "e4cf7e22",
   "metadata": {
    "cq.autogen": "Product.product_block_encoding"
   },
   "outputs": [],
   "source": [
    "from qualtran.bloqs.basic_gates import Hadamard, TGate\n",
    "from qualtran.bloqs.block_encoding.unitary import Unitary\n",
    "\n",
    "product_block_encoding = Product((Unitary(TGate()), Unitary(Hadamard())))"
   ]
  },
  {
   "cell_type": "code",
   "execution_count": null,
   "id": "1f3a6344",
   "metadata": {
    "cq.autogen": "Product.product_block_encoding_properties"
   },
   "outputs": [],
   "source": [
    "from qualtran.bloqs.basic_gates import Hadamard, TGate\n",
    "from qualtran.bloqs.block_encoding.unitary import Unitary\n",
    "\n",
    "u1 = Unitary(TGate(), alpha=0.5, ancilla_bitsize=2, resource_bitsize=1, epsilon=0.01)\n",
    "u2 = Unitary(Hadamard(), alpha=0.5, ancilla_bitsize=1, resource_bitsize=1, epsilon=0.1)\n",
    "product_block_encoding_properties = Product((u1, u2))"
   ]
  },
  {
   "cell_type": "code",
   "execution_count": null,
   "id": "012e09cb",
   "metadata": {
    "cq.autogen": "Product.product_block_encoding_symb"
   },
   "outputs": [],
   "source": [
    "import sympy\n",
    "\n",
    "from qualtran.bloqs.basic_gates import Hadamard, TGate\n",
    "from qualtran.bloqs.block_encoding.unitary import Unitary\n",
    "\n",
    "alpha1 = sympy.Symbol('alpha1')\n",
    "a1 = sympy.Symbol('a1')\n",
    "eps1 = sympy.Symbol('eps1')\n",
    "alpha2 = sympy.Symbol('alpha2')\n",
    "a2 = sympy.Symbol('a2')\n",
    "eps2 = sympy.Symbol('eps2')\n",
    "product_block_encoding_symb = Product(\n",
    "    (\n",
    "        Unitary(TGate(), alpha=alpha1, ancilla_bitsize=a1, epsilon=eps1),\n",
    "        Unitary(Hadamard(), alpha=alpha2, ancilla_bitsize=a2, epsilon=eps2),\n",
    "    )\n",
    ")"
   ]
  },
  {
   "cell_type": "markdown",
   "id": "70fbd51e",
   "metadata": {
    "cq.autogen": "Product.graphical_signature.md"
   },
   "source": [
    "#### Graphical Signature"
   ]
  },
  {
   "cell_type": "code",
   "execution_count": null,
   "id": "a3599535",
   "metadata": {
    "cq.autogen": "Product.graphical_signature.py"
   },
   "outputs": [],
   "source": [
    "from qualtran.drawing import show_bloqs\n",
    "show_bloqs([product_block_encoding, product_block_encoding_properties, product_block_encoding_symb],\n",
    "           ['`product_block_encoding`', '`product_block_encoding_properties`', '`product_block_encoding_symb`'])"
   ]
  },
  {
   "cell_type": "markdown",
   "id": "6139e688",
   "metadata": {
    "cq.autogen": "Product.call_graph.md"
   },
   "source": [
    "### Call Graph"
   ]
  },
  {
   "cell_type": "code",
   "execution_count": null,
   "id": "085af039",
   "metadata": {
    "cq.autogen": "Product.call_graph.py"
   },
   "outputs": [],
   "source": [
    "from qualtran.resource_counting.generalizers import ignore_split_join\n",
    "product_block_encoding_g, product_block_encoding_sigma = product_block_encoding.call_graph(max_depth=1, generalizer=ignore_split_join)\n",
    "show_call_graph(product_block_encoding_g)\n",
    "show_counts_sigma(product_block_encoding_sigma)"
   ]
  }
 ],
 "metadata": {
  "kernelspec": {
   "display_name": "Python 3",
   "language": "python",
   "name": "python3"
  },
  "language_info": {
   "name": "python"
  }
 },
 "nbformat": 4,
 "nbformat_minor": 5
}
