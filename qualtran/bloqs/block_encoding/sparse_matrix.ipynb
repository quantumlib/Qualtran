{
 "cells": [
  {
   "cell_type": "markdown",
   "id": "ab3af90b",
   "metadata": {
    "cq.autogen": "title_cell"
   },
   "source": [
    "# Sparse Matrix"
   ]
  },
  {
   "cell_type": "code",
   "execution_count": null,
   "id": "9bac692b",
   "metadata": {
    "cq.autogen": "top_imports"
   },
   "outputs": [],
   "source": [
    "from qualtran import Bloq, CompositeBloq, BloqBuilder, Signature, Register\n",
    "from qualtran import QBit, QInt, QUInt, QAny\n",
    "from qualtran.drawing import show_bloq, show_call_graph, show_counts_sigma\n",
    "from typing import *\n",
    "import numpy as np\n",
    "import sympy\n",
    "import cirq"
   ]
  },
  {
   "cell_type": "markdown",
   "id": "be3c04e3",
   "metadata": {
    "cq.autogen": "SparseMatrix.bloq_doc.md"
   },
   "source": [
    "## `SparseMatrix`\n",
    "Block encoding of a sparse-access matrix.\n",
    "\n",
    "Given row, column, and entry oracles $O_r$, $O_c$, and $O_A$ for an $s$-sparse matrix\n",
    "$A \\in \\mathbb{C}^{2^n \\times 2^n}$, i.e. one where each row / column has exactly $s$ non-zero\n",
    "entries, computes a $(s, n+1, \\epsilon)$-block encoding of $A$ as follows:\n",
    "```\n",
    "       ┌────┐                       ┌────┐\n",
    "  |0> ─┤    ├─     |0> ─────────────┤    ├───────────────\n",
    "       │    │           ┌──┐        │    │          ┌──┐\n",
    "       │ U  │  =        │ n│ ┌────┐ │ O  │   ┌────┐ │ n│\n",
    "|0^n> ─┤  A ├─   |0^n> ─┤H ├─┤    ├─┤  A ├─X─┤    ├─┤H ├─\n",
    "       │    │           └──┘ │ O  │ │    │ │ │ O* │ └──┘\n",
    "|Psi> ─┤    ├─   |Psi> ──────┤  c ├─┤    ├─X─┤  r ├──────\n",
    "       └────┘                └────┘ └────┘   └────┘\n",
    "```\n",
    "\n",
    "To encode a matrix of irregular dimension, the matrix should first be embedded into one of\n",
    "dimension $2^n \\times 2^n$ for suitable $n$.\n",
    "To encode a matrix where each row / column has at most $s$ non-zero entries, some zeroes should\n",
    "be treated as if they were non-zero so that each row / column has exactly $s$ non-zero entries.\n",
    "\n",
    "#### Parameters\n",
    " - `row_oracle`: The row oracle $O_r$. See `RowColumnOracle` for definition.\n",
    " - `col_oracle`: The column oracle $O_c$. See `RowColumnOracle` for definition.\n",
    " - `entry_oracle`: The entry oracle $O_A$. See `EntryOracle` for definition.\n",
    " - `eps`: The precision of the block encoding. \n",
    "\n",
    "#### Registers\n",
    " - `system`: The system register.\n",
    " - `ancilla`: The ancilla register.\n",
    " - `resource`: The resource register (present only if bitsize > 0). \n",
    "\n",
    "#### References\n",
    " - [Lecture Notes on Quantum Algorithms for Scientific Computation](https://arxiv.org/abs/2201.08309). Lin Lin (2022). Ch. 6.5.\n"
   ]
  },
  {
   "cell_type": "code",
   "execution_count": null,
   "id": "23a5d9b6",
   "metadata": {
    "cq.autogen": "SparseMatrix.bloq_doc.py"
   },
   "outputs": [],
   "source": [
    "from qualtran.bloqs.block_encoding import SparseMatrix"
   ]
  },
  {
   "cell_type": "markdown",
   "id": "25804c5a",
   "metadata": {
    "cq.autogen": "SparseMatrix.example_instances.md"
   },
   "source": [
    "### Example Instances"
   ]
  },
  {
   "cell_type": "code",
   "execution_count": null,
   "id": "914e46e7",
   "metadata": {
    "cq.autogen": "SparseMatrix.sparse_matrix_block_encoding"
   },
   "outputs": [],
   "source": [
    "from qualtran.bloqs.block_encoding.sparse_matrix import (\n",
    "    TopLeftRowColumnOracle,\n",
    "    UniformEntryOracle,\n",
    ")\n",
    "\n",
    "row_oracle = TopLeftRowColumnOracle(system_bitsize=2)\n",
    "col_oracle = TopLeftRowColumnOracle(system_bitsize=2)\n",
    "entry_oracle = UniformEntryOracle(system_bitsize=2, entry=0.3)\n",
    "sparse_matrix_block_encoding = SparseMatrix(row_oracle, col_oracle, entry_oracle, eps=0)"
   ]
  },
  {
   "cell_type": "code",
   "execution_count": null,
   "id": "80c99aa5",
   "metadata": {
    "cq.autogen": "SparseMatrix.sparse_matrix_symb_block_encoding"
   },
   "outputs": [],
   "source": [
    "from qualtran.bloqs.block_encoding.sparse_matrix import (\n",
    "    TopLeftRowColumnOracle,\n",
    "    UniformEntryOracle,\n",
    ")\n",
    "\n",
    "n = sympy.Symbol('n', positive=True, integer=True)\n",
    "row_oracle = TopLeftRowColumnOracle(system_bitsize=n)\n",
    "col_oracle = TopLeftRowColumnOracle(system_bitsize=n)\n",
    "entry_oracle = UniformEntryOracle(system_bitsize=n, entry=0.3)\n",
    "sparse_matrix_symb_block_encoding = SparseMatrix(row_oracle, col_oracle, entry_oracle, eps=0)"
   ]
  },
  {
   "cell_type": "code",
   "execution_count": null,
   "id": "bb12269b",
   "metadata": {
    "cq.autogen": "SparseMatrix.explicit_matrix_block_encoding"
   },
   "outputs": [],
   "source": [
    "from qualtran.bloqs.block_encoding.sparse_matrix import (\n",
    "    ExplicitEntryOracle,\n",
    "    TopLeftRowColumnOracle,\n",
    ")\n",
    "\n",
    "data = np.array([[0.0, 0.25], [1 / 3, 0.467]])\n",
    "row_oracle = TopLeftRowColumnOracle(system_bitsize=1)\n",
    "col_oracle = TopLeftRowColumnOracle(system_bitsize=1)\n",
    "entry_oracle = ExplicitEntryOracle(system_bitsize=1, data=data, entry_bitsize=10)\n",
    "explicit_matrix_block_encoding = SparseMatrix(row_oracle, col_oracle, entry_oracle, eps=0)"
   ]
  },
  {
   "cell_type": "code",
   "execution_count": null,
   "id": "56c936a2",
   "metadata": {
    "cq.autogen": "SparseMatrix.symmetric_banded_matrix_block_encoding"
   },
   "outputs": [],
   "source": [
    "from qualtran.bloqs.block_encoding.sparse_matrix import SymmetricBandedRowColumnOracle\n",
    "\n",
    "row_oracle = SymmetricBandedRowColumnOracle(3, bandsize=1)\n",
    "col_oracle = SymmetricBandedRowColumnOracle(3, bandsize=1)\n",
    "entry_oracle = UniformEntryOracle(3, entry=0.3)\n",
    "symmetric_banded_matrix_block_encoding = SparseMatrix(\n",
    "    row_oracle, col_oracle, entry_oracle, eps=0\n",
    ")"
   ]
  },
  {
   "cell_type": "markdown",
   "id": "e050842e",
   "metadata": {
    "cq.autogen": "SparseMatrix.graphical_signature.md"
   },
   "source": [
    "#### Graphical Signature"
   ]
  },
  {
   "cell_type": "code",
   "execution_count": null,
   "id": "ce43a463",
   "metadata": {
    "cq.autogen": "SparseMatrix.graphical_signature.py"
   },
   "outputs": [],
   "source": [
    "from qualtran.drawing import show_bloqs\n",
    "show_bloqs([sparse_matrix_block_encoding, sparse_matrix_symb_block_encoding, explicit_matrix_block_encoding, symmetric_banded_matrix_block_encoding],\n",
    "           ['`sparse_matrix_block_encoding`', '`sparse_matrix_symb_block_encoding`', '`explicit_matrix_block_encoding`', '`symmetric_banded_matrix_block_encoding`'])"
   ]
  },
  {
   "cell_type": "markdown",
   "id": "7a018480",
   "metadata": {
    "cq.autogen": "SparseMatrix.call_graph.md"
   },
   "source": [
    "### Call Graph"
   ]
  },
  {
   "cell_type": "code",
   "execution_count": null,
   "id": "3b00e8ed",
   "metadata": {
    "cq.autogen": "SparseMatrix.call_graph.py"
   },
   "outputs": [],
   "source": [
    "from qualtran.resource_counting.generalizers import ignore_split_join\n",
    "sparse_matrix_block_encoding_g, sparse_matrix_block_encoding_sigma = sparse_matrix_block_encoding.call_graph(max_depth=1, generalizer=ignore_split_join)\n",
    "show_call_graph(sparse_matrix_block_encoding_g)\n",
    "show_counts_sigma(sparse_matrix_block_encoding_sigma)"
   ]
  }
 ],
 "metadata": {
  "kernelspec": {
   "display_name": "Python 3",
   "language": "python",
   "name": "python3"
  },
  "language_info": {
   "name": "python"
  }
 },
 "nbformat": 4,
 "nbformat_minor": 5
}
