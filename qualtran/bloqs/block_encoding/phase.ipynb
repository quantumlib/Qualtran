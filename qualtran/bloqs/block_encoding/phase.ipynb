{
 "cells": [
  {
   "cell_type": "markdown",
   "id": "7f85bcf7",
   "metadata": {
    "cq.autogen": "title_cell"
   },
   "source": [
    "# Phase"
   ]
  },
  {
   "cell_type": "code",
   "execution_count": null,
   "id": "9425e59d",
   "metadata": {
    "cq.autogen": "top_imports"
   },
   "outputs": [],
   "source": [
    "from qualtran import Bloq, CompositeBloq, BloqBuilder, Signature, Register\n",
    "from qualtran import QBit, QInt, QUInt, QAny\n",
    "from qualtran.drawing import show_bloq, show_call_graph, show_counts_sigma\n",
    "from typing import *\n",
    "import numpy as np\n",
    "import sympy\n",
    "import cirq"
   ]
  },
  {
   "cell_type": "markdown",
   "id": "cab11f17",
   "metadata": {
    "cq.autogen": "Phase.bloq_doc.md"
   },
   "source": [
    "## `Phase`\n",
    "Apply a phase to a block encoding.\n",
    "\n",
    "Given $B[A]$ as a $(\\alpha, a, \\epsilon)$-block encoding of $A$, produces a\n",
    "$(\\alpha, a, \\epsilon)$-block encoding of $\\exp(i\\pi\\phi)A$.\n",
    "\n",
    "#### Parameters\n",
    " - `block_encoding`: The block encoding to apply a phase to.\n",
    " - `phi`: The phase angle.\n",
    " - `eps`: The precision of the phase angle. \n",
    "\n",
    "#### Registers\n",
    " - `system`: The system register.\n",
    " - `ancilla`: The ancilla register (present only if bitsize > 0).\n",
    " - `resource`: The resource register (present only if bitsize > 0).\n"
   ]
  },
  {
   "cell_type": "code",
   "execution_count": null,
   "id": "b3b17d4f",
   "metadata": {
    "cq.autogen": "Phase.bloq_doc.py"
   },
   "outputs": [],
   "source": [
    "from qualtran.bloqs.block_encoding import Phase"
   ]
  },
  {
   "cell_type": "markdown",
   "id": "9d300310",
   "metadata": {
    "cq.autogen": "Phase.example_instances.md"
   },
   "source": [
    "### Example Instances"
   ]
  },
  {
   "cell_type": "code",
   "execution_count": null,
   "id": "62539a3e",
   "metadata": {
    "cq.autogen": "Phase.phase_block_encoding"
   },
   "outputs": [],
   "source": [
    "from qualtran.bloqs.basic_gates import Hadamard\n",
    "from qualtran.bloqs.block_encoding.unitary import Unitary\n",
    "\n",
    "phase_block_encoding = Phase(Unitary(Hadamard()), phi=0.25, eps=0)"
   ]
  },
  {
   "cell_type": "markdown",
   "id": "a7522032",
   "metadata": {
    "cq.autogen": "Phase.graphical_signature.md"
   },
   "source": [
    "#### Graphical Signature"
   ]
  },
  {
   "cell_type": "code",
   "execution_count": null,
   "id": "aad41f5c",
   "metadata": {
    "cq.autogen": "Phase.graphical_signature.py"
   },
   "outputs": [],
   "source": [
    "from qualtran.drawing import show_bloqs\n",
    "show_bloqs([phase_block_encoding],\n",
    "           ['`phase_block_encoding`'])"
   ]
  },
  {
   "cell_type": "markdown",
   "id": "c2a7f83d",
   "metadata": {
    "cq.autogen": "Phase.call_graph.md"
   },
   "source": [
    "### Call Graph"
   ]
  },
  {
   "cell_type": "code",
   "execution_count": null,
   "id": "755d7f35",
   "metadata": {
    "cq.autogen": "Phase.call_graph.py"
   },
   "outputs": [],
   "source": [
    "from qualtran.resource_counting.generalizers import ignore_split_join\n",
    "phase_block_encoding_g, phase_block_encoding_sigma = phase_block_encoding.call_graph(max_depth=1, generalizer=ignore_split_join)\n",
    "show_call_graph(phase_block_encoding_g)\n",
    "show_counts_sigma(phase_block_encoding_sigma)"
   ]
  }
 ],
 "metadata": {
  "kernelspec": {
   "display_name": "Python 3",
   "language": "python",
   "name": "python3"
  },
  "language_info": {
   "name": "python"
  }
 },
 "nbformat": 4,
 "nbformat_minor": 5
}
