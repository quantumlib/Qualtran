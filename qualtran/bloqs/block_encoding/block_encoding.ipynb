{
 "cells": [
  {
   "cell_type": "markdown",
   "id": "69be7b80",
   "metadata": {
    "cq.autogen": "title_cell"
   },
   "source": [
    "# Block Encoding\n",
    "\n",
    "High level bloqs for defining bloq encodings and operations on block encodings."
   ]
  },
  {
   "cell_type": "code",
   "execution_count": null,
   "id": "8de1e975",
   "metadata": {
    "cq.autogen": "top_imports"
   },
   "outputs": [],
   "source": [
    "from qualtran import Bloq, CompositeBloq, BloqBuilder, Signature, Register\n",
    "from qualtran import QBit, QInt, QUInt, QAny\n",
    "from qualtran.drawing import show_bloq, show_call_graph, show_counts_sigma\n",
    "from typing import *\n",
    "import numpy as np\n",
    "import sympy\n",
    "import cirq"
   ]
  },
  {
   "cell_type": "markdown",
   "id": "211973b5",
   "metadata": {
    "cq.autogen": "BlockEncoding.bloq_doc.md"
   },
   "source": [
    "## `BlockEncoding`\n",
    "Abstract interface for an arbitrary block encoding.\n",
    "\n",
    "In general, given an $s$-qubit operator $H$ then the $(s+a)$-qubit unitary $B[H] = U$ is\n",
    "a $(\\alpha, a, \\epsilon)$-block encoding of $H$ if it satisfies:\n",
    "\n",
    "$$\n",
    "    \\lVert H - \\alpha (\\langle G|_a\\otimes I_s U |G\\rangle_a \\otimes I_s) \\rVert\n",
    "    \\le \\epsilon,\n",
    "$$\n",
    "\n",
    "where $a$ is an ancilla register and $s$ is the system register, $U$ is a unitary sometimes\n",
    "called a signal oracle, $\\alpha$ is a normalization constant chosen such\n",
    "that  $\\alpha \\ge \\lVert H\\rVert$ (where $\\lVert \\cdot \\rVert$ denotes the\n",
    "spectral norm), and $\\epsilon$ is the precision to which the block encoding\n",
    "is prepared. The state $|G\\rangle_a$ is sometimes called the signal state,\n",
    "and its form depends on the details of the block encoding.\n",
    "\n",
    "For LCU based block encodings with $H = \\sum_l w_l U_l$\n",
    "we have\n",
    "$$\n",
    "U = \\sum_l |l\\rangle\\langle l| \\otimes U_l\n",
    "$$\n",
    "and $|G\\rangle = \\sum_l \\sqrt{\\frac{w_l}{\\alpha}}|l\\rangle_a$, which define the\n",
    "usual SELECT and PREPARE oracles.\n",
    "\n",
    "Other ways of building block encodings exist so we define the abstract base\n",
    "class `BlockEncoding` bloq, which expects values for $\\alpha$, $\\epsilon$,\n",
    "system and ancilla registers and a bloq which prepares the state $|G\\rangle$.\n",
    "\n",
    "Users must specify:\n",
    "1. the normalization constant $\\alpha \\ge \\lVert A \\rVert$, where\n",
    "    $\\lVert \\cdot \\rVert$ denotes the spectral norm.\n",
    "2. the precision to which the block encoding is to be prepared ($\\epsilon$).\n",
    "\n",
    "Developers must provide a method to return a bloq to prepare $|G\\rangle$.\n",
    "\n",
    "#### References\n",
    " - [Hamiltonian Simulation by Qubitization](https://quantum-journal.org/papers/q-2019-07-12-163/).     Low et al. 2019. Sec 2 and 3 for introduction and definition of terms.\n",
    " - [The power of block-encoded matrix powers: improved regression techniques via faster Hamiltonian simulation](https://arxiv.org/abs/1804.01973).     Chakraborty et al. 2018. Definition 3 page 8.\n"
   ]
  },
  {
   "cell_type": "code",
   "execution_count": null,
   "id": "7136389f",
   "metadata": {
    "cq.autogen": "BlockEncoding.bloq_doc.py"
   },
   "outputs": [],
   "source": [
    "from qualtran.bloqs.block_encoding import BlockEncoding"
   ]
  },
  {
   "cell_type": "markdown",
   "id": "a3e033df",
   "metadata": {
    "cq.autogen": "LCUBlockEncoding.bloq_doc.md"
   },
   "source": [
    "## `LCUBlockEncoding`\n",
    "LCU based block encoding using SELECT and PREPARE oracles.\n",
    "\n",
    "Builds the block encoding via\n",
    "$$\n",
    "    B[H] = \\mathrm{SELECT}\n",
    "$$\n",
    "\n",
    "$$\n",
    "    \\mathrm{SELECT} |l\\rangle_a|\\psi\\rangle_s = |l\\rangle_a U_l |\\psi\\rangle_s.\n",
    "$$\n",
    "\n",
    "The Hamiltonian can be extracted via\n",
    "\n",
    "$$\n",
    "    \\langle G | B[H] | G \\rangle = H / \\alpha\n",
    "$$\n",
    "\n",
    "where\n",
    "\n",
    "$$\n",
    "    |G\\rangle = \\mathrm{PREPARE} |0\\rangle_a = \\sum_l \\sqrt{\\frac{w_l}{\\alpha}} |l\\rangle_a,\n",
    "$$\n",
    "\n",
    "The ancilla register is at least of size $\\log L$.\n",
    "\n",
    "In our implementations we typically split the ancilla registers into\n",
    "selection registers (i.e.  the $l$ registers above) and junk registers which\n",
    "are extra qubits needed by state preparation but not controlled upon during\n",
    "SELECT.\n",
    "\n",
    "#### Parameters\n",
    " - `alpha`: The normalization constant upper bounding the spectral norm of the Hamiltonian. Often called lambda.\n",
    " - `epsilon`: The precision to which the block encoding is performed. Currently this isn't used: see https://github.com/quantumlib/Qualtran/issues/985\n",
    " - `select`: The bloq implementing the `SelectOracle` interface.\n",
    " - `prepare`: The bloq implementing the `PrepareOracle` interface. \n",
    "\n",
    "#### Registers\n",
    " - `selection`: The combined selection register.\n",
    " - `junk`: Additional junk registers not prepared upon.\n",
    " - `system`: The combined system register. \n",
    "\n",
    "#### References\n",
    " - [Hamiltonian Simulation by Qubitization](https://quantum-journal.org/papers/q-2019-07-12-163/).     Low et al. 2019. Sec 3.1, page 7 and 8 for high level overview and definitions. A     block encoding is called a standard form encoding there.\n",
    " - [The power of block-encoded matrix powers: improved regression techniques via faster Hamiltonian simulation](https://arxiv.org/abs/1804.01973).     Chakraborty et al. 2018. Definition 3 page 8.\n"
   ]
  },
  {
   "cell_type": "code",
   "execution_count": null,
   "id": "11412b7b",
   "metadata": {
    "cq.autogen": "LCUBlockEncoding.bloq_doc.py"
   },
   "outputs": [],
   "source": [
    "from qualtran.bloqs.block_encoding import LCUBlockEncoding"
   ]
  },
  {
   "cell_type": "markdown",
   "id": "3a09fa48",
   "metadata": {
    "cq.autogen": "LCUBlockEncoding.example_instances.md"
   },
   "source": [
    "### Example Instances"
   ]
  },
  {
   "cell_type": "code",
   "execution_count": null,
   "id": "482839c7",
   "metadata": {
    "cq.autogen": "LCUBlockEncoding.lcu_block"
   },
   "outputs": [],
   "source": [
    "from qualtran.bloqs.chemistry.hubbard_model.qubitization import PrepareHubbard, SelectHubbard\n",
    "\n",
    "# 3x3 hubbard model U/t = 4\n",
    "dim = 3\n",
    "select = SelectHubbard(x_dim=dim, y_dim=dim)\n",
    "U = 4\n",
    "t = 1\n",
    "prepare = PrepareHubbard(x_dim=dim, y_dim=dim, t=t, u=U)\n",
    "N = dim * dim * 2\n",
    "qlambda = 2 * N * t + (N * U) // 2\n",
    "lcu_block = LCUBlockEncoding(select=select, prepare=prepare, alpha=qlambda, epsilon=0.0)"
   ]
  },
  {
   "cell_type": "code",
   "execution_count": null,
   "id": "fac89410",
   "metadata": {
    "cq.autogen": "LCUBlockEncoding.black_box_lcu_block"
   },
   "outputs": [],
   "source": [
    "from qualtran.bloqs.block_encoding import BlackBoxPrepare, BlackBoxSelect\n",
    "from qualtran.bloqs.chemistry.hubbard_model.qubitization import PrepareHubbard, SelectHubbard\n",
    "\n",
    "# 3x3 hubbard model U/t = 4\n",
    "dim = 3\n",
    "select = SelectHubbard(x_dim=dim, y_dim=dim)\n",
    "U = 4\n",
    "t = 1\n",
    "prepare = PrepareHubbard(x_dim=dim, y_dim=dim, t=t, u=U)\n",
    "N = dim * dim * 2\n",
    "qlambda = 2 * N * t + (N * U) // 2\n",
    "black_box_lcu_block = LCUBlockEncoding(\n",
    "    select=BlackBoxSelect(select), prepare=BlackBoxPrepare(prepare), alpha=qlambda, epsilon=0.0\n",
    ")"
   ]
  },
  {
   "cell_type": "markdown",
   "id": "60ad2a30",
   "metadata": {
    "cq.autogen": "LCUBlockEncoding.graphical_signature.md"
   },
   "source": [
    "#### Graphical Signature"
   ]
  },
  {
   "cell_type": "code",
   "execution_count": null,
   "id": "5aad465d",
   "metadata": {
    "cq.autogen": "LCUBlockEncoding.graphical_signature.py"
   },
   "outputs": [],
   "source": [
    "from qualtran.drawing import show_bloqs\n",
    "show_bloqs([lcu_block, black_box_lcu_block],\n",
    "           ['`lcu_block`', '`black_box_lcu_block`'])"
   ]
  },
  {
   "cell_type": "markdown",
   "id": "4039e3dd",
   "metadata": {
    "cq.autogen": "LCUBlockEncoding.call_graph.md"
   },
   "source": [
    "### Call Graph"
   ]
  },
  {
   "cell_type": "code",
   "execution_count": null,
   "id": "70e0c7f9",
   "metadata": {
    "cq.autogen": "LCUBlockEncoding.call_graph.py"
   },
   "outputs": [],
   "source": [
    "from qualtran.resource_counting.generalizers import ignore_split_join\n",
    "lcu_block_g, lcu_block_sigma = lcu_block.call_graph(max_depth=1, generalizer=ignore_split_join)\n",
    "show_call_graph(lcu_block_g)\n",
    "show_counts_sigma(lcu_block_sigma)"
   ]
  },
  {
   "cell_type": "markdown",
   "id": "91604dbe",
   "metadata": {
    "cq.autogen": "LCUBlockEncodingZeroState.bloq_doc.md"
   },
   "source": [
    "## `LCUBlockEncodingZeroState`\n",
    "LCU based block encoding using SELECT and PREPARE oracles.\n",
    "\n",
    "Builds the standard block encoding from an LCU as\n",
    "$$\n",
    "    B[H] = \\mathrm{PREPARE}^\\dagger \\cdot \\mathrm{SELECT} \\cdot \\mathrm{PREPARE},\n",
    "$$\n",
    "where\n",
    "$$\n",
    "    \\mathrm{PREPARE} |0\\rangle_a = \\sum_l \\sqrt{\\frac{w_l}{\\alpha}} |l\\rangle_a,\n",
    "$$\n",
    "and\n",
    "$$\n",
    "    \\mathrm{SELECT} |l\\rangle_a|\\psi\\rangle_s = |l\\rangle_a U_l |\\psi\\rangle_s.\n",
    "$$\n",
    "\n",
    "The Hamiltonian can be extracted via\n",
    "\n",
    "$$\n",
    "    \\langle G | B[H] | G \\rangle = H / \\alpha,\n",
    "$$\n",
    "where $|G\\rangle_a = I_a |0\\rangle_a$\n",
    "\n",
    "The ancilla register is at least of size $\\log L$.\n",
    "\n",
    "In our implementations we typically split the ancilla registers into\n",
    "selection registers (i.e.  the $l$ registers above) and junk registers which\n",
    "are extra qubits needed by state preparation but not controlled upon during\n",
    "SELECT.\n",
    "\n",
    "#### Parameters\n",
    " - `alpha`: The normalization constant upper bounding the spectral norm of the Hamiltonian. Often called lambda.\n",
    " - `epsilon`: The precision to which the block encoding is performed. Currently this isn't used: see https://github.com/quantumlib/Qualtran/issues/985\n",
    " - `select`: The bloq implementing the `SelectOracle` interface.\n",
    " - `prepare`: The bloq implementing the `PrepareOracle` interface. \n",
    "\n",
    "#### Registers\n",
    " - `selection`: The combined selection register.\n",
    " - `junk`: Additional junk registers not prepared upon.\n",
    " - `system`: The combined system register. \n",
    "\n",
    "#### References\n",
    " - [Hamiltonian Simulation by Qubitization](https://quantum-journal.org/papers/q-2019-07-12-163/).     Low et al. 2019. Sec 3.1, page 7 and 8 for high level overview and definitions. A     block encoding is called a standard form encoding there.\n",
    " - [The power of block-encoded matrix powers: improved regression techniques via faster Hamiltonian simulation](https://arxiv.org/abs/1804.01973).     Chakraborty et al. 2018. Definition 3 page 8.\n"
   ]
  },
  {
   "cell_type": "code",
   "execution_count": null,
   "id": "043e5b1f",
   "metadata": {
    "cq.autogen": "LCUBlockEncodingZeroState.bloq_doc.py"
   },
   "outputs": [],
   "source": [
    "from qualtran.bloqs.block_encoding import LCUBlockEncodingZeroState"
   ]
  },
  {
   "cell_type": "markdown",
   "id": "a568474d",
   "metadata": {
    "cq.autogen": "LCUBlockEncodingZeroState.example_instances.md"
   },
   "source": [
    "### Example Instances"
   ]
  },
  {
   "cell_type": "code",
   "execution_count": null,
   "id": "34006938",
   "metadata": {
    "cq.autogen": "LCUBlockEncodingZeroState.lcu_zero_state_block"
   },
   "outputs": [],
   "source": [
    "from qualtran.bloqs.chemistry.hubbard_model.qubitization import PrepareHubbard, SelectHubbard\n",
    "\n",
    "# 3x3 hubbard model U/t = 4\n",
    "dim = 3\n",
    "select = SelectHubbard(x_dim=dim, y_dim=dim)\n",
    "U = 4\n",
    "t = 1\n",
    "prepare = PrepareHubbard(x_dim=dim, y_dim=dim, t=t, u=U)\n",
    "N = dim * dim * 2\n",
    "qlambda = 2 * N * t + (N * U) // 2\n",
    "lcu_zero_state_block = LCUBlockEncodingZeroState(\n",
    "    select=select, prepare=prepare, alpha=qlambda, epsilon=0.0\n",
    ")"
   ]
  },
  {
   "cell_type": "code",
   "execution_count": null,
   "id": "8724a17c",
   "metadata": {
    "cq.autogen": "LCUBlockEncodingZeroState.black_box_lcu_zero_state_block"
   },
   "outputs": [],
   "source": [
    "from qualtran.bloqs.block_encoding import BlackBoxPrepare, BlackBoxSelect\n",
    "from qualtran.bloqs.chemistry.hubbard_model.qubitization import PrepareHubbard, SelectHubbard\n",
    "\n",
    "# 3x3 hubbard model U/t = 4\n",
    "dim = 3\n",
    "select = SelectHubbard(x_dim=dim, y_dim=dim)\n",
    "U = 4\n",
    "t = 1\n",
    "prepare = PrepareHubbard(x_dim=dim, y_dim=dim, t=t, u=U)\n",
    "N = dim * dim * 2\n",
    "qlambda = 2 * N * t + (N * U) // 2\n",
    "black_box_lcu_zero_state_block = LCUBlockEncodingZeroState(\n",
    "    select=BlackBoxSelect(select), prepare=BlackBoxPrepare(prepare), alpha=qlambda, epsilon=0.0\n",
    ")"
   ]
  },
  {
   "cell_type": "markdown",
   "id": "60d7eee0",
   "metadata": {
    "cq.autogen": "LCUBlockEncodingZeroState.graphical_signature.md"
   },
   "source": [
    "#### Graphical Signature"
   ]
  },
  {
   "cell_type": "code",
   "execution_count": null,
   "id": "330c111e",
   "metadata": {
    "cq.autogen": "LCUBlockEncodingZeroState.graphical_signature.py"
   },
   "outputs": [],
   "source": [
    "from qualtran.drawing import show_bloqs\n",
    "show_bloqs([lcu_zero_state_block, black_box_lcu_zero_state_block],\n",
    "           ['`lcu_zero_state_block`', '`black_box_lcu_zero_state_block`'])"
   ]
  },
  {
   "cell_type": "markdown",
   "id": "14fcb4fd",
   "metadata": {
    "cq.autogen": "LCUBlockEncodingZeroState.call_graph.md"
   },
   "source": [
    "### Call Graph"
   ]
  },
  {
   "cell_type": "code",
   "execution_count": null,
   "id": "9e3c81b0",
   "metadata": {
    "cq.autogen": "LCUBlockEncodingZeroState.call_graph.py"
   },
   "outputs": [],
   "source": [
    "from qualtran.resource_counting.generalizers import ignore_split_join\n",
    "lcu_zero_state_block_g, lcu_zero_state_block_sigma = lcu_zero_state_block.call_graph(max_depth=1, generalizer=ignore_split_join)\n",
    "show_call_graph(lcu_zero_state_block_g)\n",
    "show_counts_sigma(lcu_zero_state_block_sigma)"
   ]
  },
  {
   "cell_type": "markdown",
   "id": "a33919d6",
   "metadata": {
    "cq.autogen": "ChebyshevPolynomial.bloq_doc.md"
   },
   "source": [
    "## `ChebyshevPolynomial`\n",
    "Block encoding of $T_j[H]$ where $T_j$ is the $j$-th Chebyshev polynomial.\n",
    "\n",
    "Here H is a Hamiltonian with spectral norm $|H| \\le 1$, we assume we have\n",
    "an $n_L$ qubit ancilla register, and assume that $j > 0$ to avoid block\n",
    "encoding the identity operator.\n",
    "\n",
    "Recall:\n",
    "\n",
    "\\begin{align*}\n",
    "    T_0[H] &= \\mathbb{1} \\\\\n",
    "    T_1[H] &= H \\\\\n",
    "    T_2[H] &= 2 H^2 - \\mathbb{1} \\\\\n",
    "    T_3[H] &= 4 H^3 - 3 H \\\\\n",
    "    &\\dots\n",
    "\\end{align*}\n",
    "\n",
    "See https://github.com/quantumlib/Qualtran/issues/984 for an alternative.\n",
    "\n",
    "#### Parameters\n",
    " - `block_encoding`: Block encoding of a Hamiltonian $H$, $\\mathcal{B}[H]$. Assumes the $|G\\rangle$ state of the block encoding is the identity operator.\n",
    " - `order`: order of Chebychev polynomial. \n",
    "\n",
    "#### References\n",
    " - [Quantum computing enhanced computational catalysis](https://arxiv.org/abs/2007.14460).     von Burg et al. 2007. Page 45; Theorem 1.\n"
   ]
  },
  {
   "cell_type": "code",
   "execution_count": null,
   "id": "83c75860",
   "metadata": {
    "cq.autogen": "ChebyshevPolynomial.bloq_doc.py"
   },
   "outputs": [],
   "source": [
    "from qualtran.bloqs.block_encoding import ChebyshevPolynomial"
   ]
  },
  {
   "cell_type": "markdown",
   "id": "738715cd",
   "metadata": {
    "cq.autogen": "ChebyshevPolynomial.example_instances.md"
   },
   "source": [
    "### Example Instances"
   ]
  },
  {
   "cell_type": "code",
   "execution_count": null,
   "id": "63d2d2ac",
   "metadata": {
    "cq.autogen": "ChebyshevPolynomial.chebyshev_poly"
   },
   "outputs": [],
   "source": [
    "from qualtran.bloqs.block_encoding import LCUBlockEncodingZeroState\n",
    "from qualtran.bloqs.chemistry.hubbard_model.qubitization import PrepareHubbard, SelectHubbard\n",
    "\n",
    "dim = 3\n",
    "select = SelectHubbard(x_dim=dim, y_dim=dim)\n",
    "U = 4\n",
    "t = 1\n",
    "prepare = PrepareHubbard(x_dim=dim, y_dim=dim, t=t, u=U)\n",
    "N = dim * dim * 2\n",
    "qlambda = 2 * N * t + (N * U) // 2\n",
    "block_bloq = LCUBlockEncodingZeroState(\n",
    "    select=select, prepare=prepare, alpha=qlambda, epsilon=0.0\n",
    ")\n",
    "chebyshev_poly = ChebyshevPolynomial(block_bloq, order=3)"
   ]
  },
  {
   "cell_type": "code",
   "execution_count": null,
   "id": "e8c8161d",
   "metadata": {
    "cq.autogen": "ChebyshevPolynomial.black_box_chebyshev_poly"
   },
   "outputs": [],
   "source": [
    "from qualtran.bloqs.block_encoding import (\n",
    "    BlackBoxPrepare,\n",
    "    BlackBoxSelect,\n",
    "    LCUBlockEncodingZeroState,\n",
    ")\n",
    "from qualtran.bloqs.chemistry.hubbard_model.qubitization import PrepareHubbard, SelectHubbard\n",
    "\n",
    "dim = 3\n",
    "select = SelectHubbard(x_dim=dim, y_dim=dim)\n",
    "U = 4\n",
    "t = 1\n",
    "prepare = PrepareHubbard(x_dim=dim, y_dim=dim, t=t, u=U)\n",
    "N = dim * dim * 2\n",
    "qlambda = 2 * N * t + (N * U) // 2\n",
    "black_box_block_bloq = LCUBlockEncodingZeroState(\n",
    "    select=BlackBoxSelect(select), prepare=BlackBoxPrepare(prepare), alpha=qlambda, epsilon=0.0\n",
    ")\n",
    "black_box_chebyshev_poly = ChebyshevPolynomial(black_box_block_bloq, order=3)"
   ]
  },
  {
   "cell_type": "markdown",
   "id": "ad6e097e",
   "metadata": {
    "cq.autogen": "ChebyshevPolynomial.graphical_signature.md"
   },
   "source": [
    "#### Graphical Signature"
   ]
  },
  {
   "cell_type": "code",
   "execution_count": null,
   "id": "1d24eb7b",
   "metadata": {
    "cq.autogen": "ChebyshevPolynomial.graphical_signature.py"
   },
   "outputs": [],
   "source": [
    "from qualtran.drawing import show_bloqs\n",
    "show_bloqs([chebyshev_poly, black_box_chebyshev_poly],\n",
    "           ['`chebyshev_poly`', '`black_box_chebyshev_poly`'])"
   ]
  },
  {
   "cell_type": "markdown",
   "id": "e3bad495",
   "metadata": {
    "cq.autogen": "ChebyshevPolynomial.call_graph.md"
   },
   "source": [
    "### Call Graph"
   ]
  },
  {
   "cell_type": "code",
   "execution_count": null,
   "id": "f5018c11",
   "metadata": {
    "cq.autogen": "ChebyshevPolynomial.call_graph.py"
   },
   "outputs": [],
   "source": [
    "from qualtran.resource_counting.generalizers import ignore_split_join\n",
    "chebyshev_poly_g, chebyshev_poly_sigma = chebyshev_poly.call_graph(max_depth=1, generalizer=ignore_split_join)\n",
    "show_call_graph(chebyshev_poly_g)\n",
    "show_counts_sigma(chebyshev_poly_sigma)"
   ]
  },
  {
   "cell_type": "markdown",
   "id": "700368a9",
   "metadata": {
    "cq.autogen": "Unitary.bloq_doc.md"
   },
   "source": [
    "## `Unitary`\n",
    "Trivial block encoding of a unitary operator.\n",
    "\n",
    "Builds the block encoding as\n",
    "$\n",
    "    B[U] = U\n",
    "$\n",
    "where $U$ is a unitary operator. Here, $B[U]$ is a $(1, 0, 0)$-block encoding of $U$.\n",
    "\n",
    "#### Parameters\n",
    " - `U`: The unitary operator to block-encode.\n",
    " - `alpha`: The normalization factor (default 1).\n",
    " - `ancilla_bitsize`: The number of ancilla bits (default 0).\n",
    " - `resource_bitsize`: The number of resource bits (default 0).\n",
    " - `epsilon`: The precision parameter (default 0). \n",
    "\n",
    "#### Registers\n",
    " - `system`: The system register.\n",
    " - `ancilla`: The ancilla register (present only if bitsize > 0).\n",
    " - `resource`: The resource register (present only if bitsize > 0).\n"
   ]
  },
  {
   "cell_type": "code",
   "execution_count": null,
   "id": "69e80c37",
   "metadata": {
    "cq.autogen": "Unitary.bloq_doc.py"
   },
   "outputs": [],
   "source": [
    "from qualtran.bloqs.block_encoding import Unitary"
   ]
  },
  {
   "cell_type": "markdown",
   "id": "853ccd95",
   "metadata": {
    "cq.autogen": "Unitary.example_instances.md"
   },
   "source": [
    "### Example Instances"
   ]
  },
  {
   "cell_type": "code",
   "execution_count": null,
   "id": "af1f5871",
   "metadata": {
    "cq.autogen": "Unitary.unitary_block_encoding"
   },
   "outputs": [],
   "source": [
    "from qualtran.bloqs.basic_gates import TGate\n",
    "\n",
    "unitary_block_encoding = Unitary(TGate())"
   ]
  },
  {
   "cell_type": "code",
   "execution_count": null,
   "id": "92979e8f",
   "metadata": {
    "cq.autogen": "Unitary.unitary_block_encoding_properties"
   },
   "outputs": [],
   "source": [
    "from attrs import evolve\n",
    "\n",
    "from qualtran.bloqs.basic_gates import TGate\n",
    "\n",
    "unitary_block_encoding_properties = evolve(\n",
    "    Unitary(TGate()), alpha=0.5, ancilla_bitsize=2, resource_bitsize=1, epsilon=0.01\n",
    ")"
   ]
  },
  {
   "cell_type": "markdown",
   "id": "85b9c065",
   "metadata": {
    "cq.autogen": "Unitary.graphical_signature.md"
   },
   "source": [
    "#### Graphical Signature"
   ]
  },
  {
   "cell_type": "code",
   "execution_count": null,
   "id": "47675855",
   "metadata": {
    "cq.autogen": "Unitary.graphical_signature.py"
   },
   "outputs": [],
   "source": [
    "from qualtran.drawing import show_bloqs\n",
    "show_bloqs([unitary_block_encoding, unitary_block_encoding_properties],\n",
    "           ['`unitary_block_encoding`', '`unitary_block_encoding_properties`'])"
   ]
  },
  {
   "cell_type": "markdown",
   "id": "36167a23",
   "metadata": {
    "cq.autogen": "Unitary.call_graph.md"
   },
   "source": [
    "### Call Graph"
   ]
  },
  {
   "cell_type": "code",
   "execution_count": null,
   "id": "97a218a8",
   "metadata": {
    "cq.autogen": "Unitary.call_graph.py"
   },
   "outputs": [],
   "source": [
    "from qualtran.resource_counting.generalizers import ignore_split_join\n",
    "unitary_block_encoding_g, unitary_block_encoding_sigma = unitary_block_encoding.call_graph(max_depth=1, generalizer=ignore_split_join)\n",
    "show_call_graph(unitary_block_encoding_g)\n",
    "show_counts_sigma(unitary_block_encoding_sigma)"
   ]
  },
  {
   "cell_type": "markdown",
   "id": "2c274284",
   "metadata": {
    "cq.autogen": "TensorProduct.bloq_doc.md"
   },
   "source": [
    "## `TensorProduct`\n",
    "Tensor product of a sequence of block encodings.\n",
    "\n",
    "Builds the block encoding as\n",
    "$$\n",
    "    B[U_1 ⊗ U_2 ⊗ \\cdots ⊗ U_n] = B[U_1] ⊗ B[U_2] ⊗ \\cdots ⊗ B[U_n]\n",
    "$$\n",
    "\n",
    "When each $B[U_i]$ is a $(\\alpha_i, a_i, \\epsilon_i)$-block encoding of $U_i$, we have that\n",
    "$B[U_1 ⊗ \\cdots ⊗ U_n]$ is a $(\\prod_i \\alpha_i, \\sum_i a_i, \\sum_i \\alpha_i \\epsilon_i)$-block\n",
    "encoding of $U_1 ⊗ \\cdots ⊗ U_n$.\n",
    "\n",
    "#### Parameters\n",
    " - `block_encodings`: A sequence of block encodings. \n",
    "\n",
    "#### Registers\n",
    " - `system`: The system register.\n",
    " - `ancilla`: The ancilla register (present only if bitsize > 0).\n",
    " - `resource`: The resource register (present only if bitsize > 0). \n",
    "\n",
    "#### References\n",
    " - [Quantum algorithms: A survey of applications and end-to-end complexities](https://arxiv.org/abs/2310.03011). Dalzell et al. (2023). Ch. 10.2.\n"
   ]
  },
  {
   "cell_type": "code",
   "execution_count": null,
   "id": "0940792a",
   "metadata": {
    "cq.autogen": "TensorProduct.bloq_doc.py"
   },
   "outputs": [],
   "source": [
    "from qualtran.bloqs.block_encoding import TensorProduct"
   ]
  },
  {
   "cell_type": "markdown",
   "id": "9199daa6",
   "metadata": {
    "cq.autogen": "TensorProduct.example_instances.md"
   },
   "source": [
    "### Example Instances"
   ]
  },
  {
   "cell_type": "code",
   "execution_count": null,
   "id": "488f9bb9",
   "metadata": {
    "cq.autogen": "TensorProduct.tensor_product_block_encoding"
   },
   "outputs": [],
   "source": [
    "from qualtran.bloqs.basic_gates import Hadamard, TGate\n",
    "from qualtran.bloqs.block_encoding.unitary import Unitary\n",
    "\n",
    "tensor_product_block_encoding = TensorProduct((Unitary(TGate()), Unitary(Hadamard())))"
   ]
  },
  {
   "cell_type": "code",
   "execution_count": null,
   "id": "1fb90d01",
   "metadata": {
    "cq.autogen": "TensorProduct.tensor_product_block_encoding_properties"
   },
   "outputs": [],
   "source": [
    "from attrs import evolve\n",
    "\n",
    "from qualtran.bloqs.basic_gates import CNOT, TGate\n",
    "from qualtran.bloqs.block_encoding.unitary import Unitary\n",
    "\n",
    "u1 = evolve(Unitary(TGate()), alpha=0.5, ancilla_bitsize=2, resource_bitsize=1, epsilon=0.01)\n",
    "u2 = evolve(Unitary(CNOT()), alpha=0.5, ancilla_bitsize=1, resource_bitsize=1, epsilon=0.1)\n",
    "tensor_product_block_encoding_properties = TensorProduct((u1, u2))"
   ]
  },
  {
   "cell_type": "code",
   "execution_count": null,
   "id": "e41f94fa",
   "metadata": {
    "cq.autogen": "TensorProduct.tensor_product_block_encoding_symb"
   },
   "outputs": [],
   "source": [
    "import sympy\n",
    "\n",
    "from qualtran.bloqs.basic_gates import Hadamard, TGate\n",
    "from qualtran.bloqs.block_encoding.unitary import Unitary\n",
    "\n",
    "alpha1 = sympy.Symbol('alpha1')\n",
    "a1 = sympy.Symbol('a1')\n",
    "eps1 = sympy.Symbol('eps1')\n",
    "alpha2 = sympy.Symbol('alpha2')\n",
    "a2 = sympy.Symbol('a2')\n",
    "eps2 = sympy.Symbol('eps2')\n",
    "tensor_product_block_encoding_symb = TensorProduct(\n",
    "    (\n",
    "        Unitary(TGate(), alpha=alpha1, ancilla_bitsize=a1, epsilon=eps1),\n",
    "        Unitary(Hadamard(), alpha=alpha2, ancilla_bitsize=a2, epsilon=eps2),\n",
    "    )\n",
    ")"
   ]
  },
  {
   "cell_type": "markdown",
   "id": "605e1129",
   "metadata": {
    "cq.autogen": "TensorProduct.graphical_signature.md"
   },
   "source": [
    "#### Graphical Signature"
   ]
  },
  {
   "cell_type": "code",
   "execution_count": null,
   "id": "23f6bacf",
   "metadata": {
    "cq.autogen": "TensorProduct.graphical_signature.py"
   },
   "outputs": [],
   "source": [
    "from qualtran.drawing import show_bloqs\n",
    "show_bloqs([tensor_product_block_encoding, tensor_product_block_encoding_properties, tensor_product_block_encoding_symb],\n",
    "           ['`tensor_product_block_encoding`', '`tensor_product_block_encoding_properties`', '`tensor_product_block_encoding_symb`'])"
   ]
  },
  {
   "cell_type": "markdown",
   "id": "c6b0e68e",
   "metadata": {
    "cq.autogen": "TensorProduct.call_graph.md"
   },
   "source": [
    "### Call Graph"
   ]
  },
  {
   "cell_type": "code",
   "execution_count": null,
   "id": "bfab456d",
   "metadata": {
    "cq.autogen": "TensorProduct.call_graph.py"
   },
   "outputs": [],
   "source": [
    "from qualtran.resource_counting.generalizers import ignore_split_join\n",
    "tensor_product_block_encoding_g, tensor_product_block_encoding_sigma = tensor_product_block_encoding.call_graph(max_depth=1, generalizer=ignore_split_join)\n",
    "show_call_graph(tensor_product_block_encoding_g)\n",
    "show_counts_sigma(tensor_product_block_encoding_sigma)"
   ]
  },
  {
   "cell_type": "markdown",
   "id": "1127108b",
   "metadata": {
    "cq.autogen": "Product.bloq_doc.md"
   },
   "source": [
    "## `Product`\n",
    "Product of a sequence of block encodings.\n",
    "\n",
    "Builds the block encoding $B[U_1 * U_2 * \\cdots * U_n]$ given block encodings\n",
    "$B[U_1], \\ldots, B[U_n]$.\n",
    "\n",
    "When each $B[U_i]$ is a $(\\alpha_i, a_i, \\epsilon_i)$-block encoding of $U_i$, we have that\n",
    "$B[U_1 * \\cdots * U_n]$ is a block encoding of $U_1 * \\cdots * U_n$ with normalization\n",
    "constant $\\prod_i \\alpha_i$, ancilla bitsize $n - 1 + \\max_i a_i$, and precision\n",
    "$\\sum_i \\alpha_i \\epsilon_i$.\n",
    "\n",
    "Following Fig. 2 in Dalzell et al. (2023), Ch. 10.2, the product is encoded by concatenating\n",
    "each constituent block encoding, using a shared ancilla register and a set of flag qubits to\n",
    "verify that the ancilla is left as zero after each use:\n",
    "```\n",
    "       ┌────────┐\n",
    "  |0> ─┤        ├─     |0> ───────────X──────X────\n",
    "       │        │                     │\n",
    "       │ U_(AB) │  =        ┌─────┐   │   ┌─────┐\n",
    "  |0> ─┤        ├─     |0> ─┤     ├──(0)──┤     ├─\n",
    "       │        │           │ U_B │       │ U_A │\n",
    "|Psi> ─┤        ├─   |Psi> ─┤     ├───────┤     ├─\n",
    "       └────────┘           └─────┘       └─────┘\n",
    "```\n",
    "\n",
    "#### Parameters\n",
    " - `block_encodings`: A sequence of block encodings. \n",
    "\n",
    "#### Registers\n",
    " - `system`: The system register.\n",
    " - `ancilla`: The ancilla register (present only if bitsize > 0).\n",
    " - `resource`: The resource register (present only if bitsize > 0). \n",
    "\n",
    "#### References\n",
    " - [Quantum algorithms: A survey of applications and end-to-end complexities]( https://arxiv.org/abs/2310.03011). Dalzell et al. (2023). Ch. 10.2.\n"
   ]
  },
  {
   "cell_type": "code",
   "execution_count": null,
   "id": "3643f471",
   "metadata": {
    "cq.autogen": "Product.bloq_doc.py"
   },
   "outputs": [],
   "source": [
    "from qualtran.bloqs.block_encoding import Product"
   ]
  },
  {
   "cell_type": "markdown",
   "id": "feefd8ac",
   "metadata": {
    "cq.autogen": "Product.example_instances.md"
   },
   "source": [
    "### Example Instances"
   ]
  },
  {
   "cell_type": "code",
   "execution_count": null,
   "id": "1067eef2",
   "metadata": {
    "cq.autogen": "Product.product_block_encoding"
   },
   "outputs": [],
   "source": [
    "from qualtran.bloqs.basic_gates import Hadamard, TGate\n",
    "from qualtran.bloqs.block_encoding.unitary import Unitary\n",
    "\n",
    "product_block_encoding = Product((Unitary(TGate()), Unitary(Hadamard())))"
   ]
  },
  {
   "cell_type": "code",
   "execution_count": null,
   "id": "a3c9bef3",
   "metadata": {
    "cq.autogen": "Product.product_block_encoding_properties"
   },
   "outputs": [],
   "source": [
    "from qualtran.bloqs.basic_gates import Hadamard, TGate\n",
    "from qualtran.bloqs.block_encoding.unitary import Unitary\n",
    "\n",
    "u1 = Unitary(TGate(), alpha=0.5, ancilla_bitsize=2, resource_bitsize=1, epsilon=0.01)\n",
    "u2 = Unitary(Hadamard(), alpha=0.5, ancilla_bitsize=1, resource_bitsize=1, epsilon=0.1)\n",
    "product_block_encoding_properties = Product((u1, u2))"
   ]
  },
  {
   "cell_type": "code",
   "execution_count": null,
   "id": "a36f7cd9",
   "metadata": {
    "cq.autogen": "Product.product_block_encoding_symb"
   },
   "outputs": [],
   "source": [
    "import sympy\n",
    "\n",
    "from qualtran.bloqs.basic_gates import Hadamard, TGate\n",
    "from qualtran.bloqs.block_encoding.unitary import Unitary\n",
    "\n",
    "alpha1 = sympy.Symbol('alpha1')\n",
    "a1 = sympy.Symbol('a1')\n",
    "eps1 = sympy.Symbol('eps1')\n",
    "alpha2 = sympy.Symbol('alpha2')\n",
    "a2 = sympy.Symbol('a2')\n",
    "eps2 = sympy.Symbol('eps2')\n",
    "product_block_encoding_symb = Product(\n",
    "    (\n",
    "        Unitary(TGate(), alpha=alpha1, ancilla_bitsize=a1, epsilon=eps1),\n",
    "        Unitary(Hadamard(), alpha=alpha2, ancilla_bitsize=a2, epsilon=eps2),\n",
    "    )\n",
    ")"
   ]
  },
  {
   "cell_type": "markdown",
   "id": "f372c55c",
   "metadata": {
    "cq.autogen": "Product.graphical_signature.md"
   },
   "source": [
    "#### Graphical Signature"
   ]
  },
  {
   "cell_type": "code",
   "execution_count": null,
   "id": "189c579f",
   "metadata": {
    "cq.autogen": "Product.graphical_signature.py"
   },
   "outputs": [],
   "source": [
    "from qualtran.drawing import show_bloqs\n",
    "show_bloqs([product_block_encoding, product_block_encoding_properties, product_block_encoding_symb],\n",
    "           ['`product_block_encoding`', '`product_block_encoding_properties`', '`product_block_encoding_symb`'])"
   ]
  },
  {
   "cell_type": "markdown",
   "id": "442b1e19",
   "metadata": {
    "cq.autogen": "Product.call_graph.md"
   },
   "source": [
    "### Call Graph"
   ]
  },
  {
   "cell_type": "code",
   "execution_count": null,
   "id": "399ee3dd",
   "metadata": {
    "cq.autogen": "Product.call_graph.py"
   },
   "outputs": [],
   "source": [
    "from qualtran.resource_counting.generalizers import ignore_split_join\n",
    "product_block_encoding_g, product_block_encoding_sigma = product_block_encoding.call_graph(max_depth=1, generalizer=ignore_split_join)\n",
    "show_call_graph(product_block_encoding_g)\n",
    "show_counts_sigma(product_block_encoding_sigma)"
   ]
  },
  {
   "cell_type": "markdown",
   "id": "e9f1d56b",
   "metadata": {
    "cq.autogen": "Phase.bloq_doc.md"
   },
   "source": [
    "## `Phase`\n",
    "Apply a phase to a block encoding.\n",
    "\n",
    "Given $B[A]$ as a $(\\alpha, a, \\epsilon)$-block encoding of $A$, produces a\n",
    "$(\\alpha, a, \\epsilon)$-block encoding $B[\\exp(i\\pi\\phi)A]$ of $\\exp(i\\pi\\phi)A$.\n",
    "\n",
    "#### Parameters\n",
    " - `block_encoding`: The block encoding to apply a phase to.\n",
    " - `phi`: The phase angle.\n",
    " - `eps`: The precision of the phase angle. \n",
    "\n",
    "#### Registers\n",
    " - `system`: The system register.\n",
    " - `ancilla`: The ancilla register (present only if bitsize > 0).\n",
    " - `resource`: The resource register (present only if bitsize > 0).\n"
   ]
  },
  {
   "cell_type": "code",
   "execution_count": null,
   "id": "bffb0d88",
   "metadata": {
    "cq.autogen": "Phase.bloq_doc.py"
   },
   "outputs": [],
   "source": [
    "from qualtran.bloqs.block_encoding import Phase"
   ]
  },
  {
   "cell_type": "markdown",
   "id": "134b2b46",
   "metadata": {
    "cq.autogen": "Phase.example_instances.md"
   },
   "source": [
    "### Example Instances"
   ]
  },
  {
   "cell_type": "code",
   "execution_count": null,
   "id": "ad0eeadd",
   "metadata": {
    "cq.autogen": "Phase.phase_block_encoding"
   },
   "outputs": [],
   "source": [
    "from qualtran.bloqs.basic_gates import Hadamard\n",
    "from qualtran.bloqs.block_encoding.unitary import Unitary\n",
    "\n",
    "phase_block_encoding = Phase(Unitary(Hadamard()), phi=0.25, eps=0)"
   ]
  },
  {
   "cell_type": "markdown",
   "id": "5d1484bb",
   "metadata": {
    "cq.autogen": "Phase.graphical_signature.md"
   },
   "source": [
    "#### Graphical Signature"
   ]
  },
  {
   "cell_type": "code",
   "execution_count": null,
   "id": "f93026c3",
   "metadata": {
    "cq.autogen": "Phase.graphical_signature.py"
   },
   "outputs": [],
   "source": [
    "from qualtran.drawing import show_bloqs\n",
    "show_bloqs([phase_block_encoding],\n",
    "           ['`phase_block_encoding`'])"
   ]
  },
  {
   "cell_type": "markdown",
   "id": "14f00196",
   "metadata": {
    "cq.autogen": "Phase.call_graph.md"
   },
   "source": [
    "### Call Graph"
   ]
  },
  {
   "cell_type": "code",
   "execution_count": null,
   "id": "6c015067",
   "metadata": {
    "cq.autogen": "Phase.call_graph.py"
   },
   "outputs": [],
   "source": [
    "from qualtran.resource_counting.generalizers import ignore_split_join\n",
    "phase_block_encoding_g, phase_block_encoding_sigma = phase_block_encoding.call_graph(max_depth=1, generalizer=ignore_split_join)\n",
    "show_call_graph(phase_block_encoding_g)\n",
    "show_counts_sigma(phase_block_encoding_sigma)"
   ]
  }
 ],
 "metadata": {
  "kernelspec": {
   "display_name": "Python 3",
   "language": "python",
   "name": "python3"
  },
  "language_info": {
   "codemirror_mode": {
    "name": "ipython",
    "version": 3
   },
   "file_extension": ".py",
   "mimetype": "text/x-python",
   "name": "python",
   "nbconvert_exporter": "python",
   "pygments_lexer": "ipython3",
   "version": "3.11.2"
  }
 },
 "nbformat": 4,
 "nbformat_minor": 5
}
