{
 "cells": [
  {
   "cell_type": "markdown",
   "id": "8958f7fb",
   "metadata": {
    "cq.autogen": "title_cell"
   },
   "source": [
    "# Block Encoding Interface\n",
    "\n",
    "High level bloqs for defining bloq encodings and operations on block encodings."
   ]
  },
  {
   "cell_type": "code",
   "execution_count": null,
   "id": "335bbf2f",
   "metadata": {
    "cq.autogen": "top_imports"
   },
   "outputs": [],
   "source": [
    "from qualtran import Bloq, CompositeBloq, BloqBuilder, Signature, Register\n",
    "from qualtran import QBit, QInt, QUInt, QAny\n",
    "from qualtran.drawing import show_bloq, show_call_graph, show_counts_sigma\n",
    "from typing import *\n",
    "import numpy as np\n",
    "import sympy\n",
    "import cirq"
   ]
  },
  {
   "cell_type": "markdown",
   "id": "244152ee",
   "metadata": {
    "cq.autogen": "BlockEncoding.bloq_doc.md"
   },
   "source": [
    "## `BlockEncoding`\n",
    "Abstract interface for an arbitrary block encoding.\n",
    "\n",
    "In general, given an $s$-qubit operator $H$ then the $(s+a)$-qubit unitary $B[H] = U$ is\n",
    "a $(\\alpha, a, \\epsilon)$-block encoding of $H$ if it satisfies:\n",
    "\n",
    "$$\n",
    "    \\lVert H - \\alpha (\\langle G|_a\\otimes I_s U |G\\rangle_a \\otimes I_s) \\rVert\n",
    "    \\le \\epsilon,\n",
    "$$\n",
    "\n",
    "where $a$ is an ancilla register and $s$ is the system register, $U$ is a unitary sometimes\n",
    "called a signal oracle, $\\alpha$ is a normalization constant chosen such\n",
    "that  $\\alpha \\ge \\lVert H\\rVert$ (where $\\lVert \\cdot \\rVert$ denotes the\n",
    "spectral norm), and $\\epsilon$ is the precision to which the block encoding\n",
    "is prepared. The state $|G\\rangle_a$ is sometimes called the signal state,\n",
    "and its form depends on the details of the block encoding.\n",
    "\n",
    "For LCU based block encodings with $H = \\sum_l w_l U_l$\n",
    "we have\n",
    "$$\n",
    "U = \\sum_l |l\\rangle\\langle l| \\otimes U_l\n",
    "$$\n",
    "and $|G\\rangle = \\sum_l \\sqrt{\\frac{w_l}{\\alpha}}|l\\rangle_a$, which define the\n",
    "usual SELECT and PREPARE oracles.\n",
    "\n",
    "Other ways of building block encodings exist so we define the abstract base\n",
    "class `BlockEncoding` bloq, which expects values for $\\alpha$, $\\epsilon$,\n",
    "system and ancilla registers and a bloq which prepares the state $|G\\rangle$.\n",
    "\n",
    "Users must specify:\n",
    "1. the normalization constant $\\alpha \\ge \\lVert A \\rVert$, where\n",
    "    $\\lVert \\cdot \\rVert$ denotes the spectral norm.\n",
    "2. the precision to which the block encoding is to be prepared ($\\epsilon$).\n",
    "\n",
    "Developers must provide a method to return a bloq to prepare $|G\\rangle$.\n",
    "\n",
    "#### References\n",
    " - [Hamiltonian Simulation by Qubitization](https://quantum-journal.org/papers/q-2019-07-12-163/).     Low et al. 2019. Sec 2 and 3 for introduction and definition of terms.\n",
    " - [The power of block-encoded matrix powers: improved regression techniques via faster Hamiltonian simulation](https://arxiv.org/abs/1804.01973).     Chakraborty et al. 2018. Definition 3 page 8.\n"
   ]
  },
  {
   "cell_type": "code",
   "execution_count": null,
   "id": "0b6cc934",
   "metadata": {
    "cq.autogen": "BlockEncoding.bloq_doc.py"
   },
   "outputs": [],
   "source": [
    "from qualtran.bloqs.block_encoding import BlockEncoding"
   ]
  }
 ],
 "metadata": {
  "kernelspec": {
   "display_name": "Python 3",
   "language": "python",
   "name": "python3"
  },
  "language_info": {
   "codemirror_mode": {
    "name": "ipython",
    "version": 3
   },
   "file_extension": ".py",
   "mimetype": "text/x-python",
   "name": "python",
   "nbconvert_exporter": "python",
   "pygments_lexer": "ipython3",
   "version": "3.11.2"
  }
 },
 "nbformat": 4,
 "nbformat_minor": 5
}
