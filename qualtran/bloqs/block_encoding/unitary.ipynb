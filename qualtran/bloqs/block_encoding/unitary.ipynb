{
 "cells": [
  {
   "cell_type": "markdown",
   "id": "f15689a6",
   "metadata": {
    "cq.autogen": "title_cell"
   },
   "source": [
    "# Unitary"
   ]
  },
  {
   "cell_type": "code",
   "execution_count": null,
   "id": "445507e0",
   "metadata": {
    "cq.autogen": "top_imports"
   },
   "outputs": [],
   "source": [
    "from qualtran import Bloq, CompositeBloq, BloqBuilder, Signature, Register\n",
    "from qualtran import QBit, QInt, QUInt, QAny\n",
    "from qualtran.drawing import show_bloq, show_call_graph, show_counts_sigma\n",
    "from typing import *\n",
    "import numpy as np\n",
    "import sympy\n",
    "import cirq"
   ]
  },
  {
   "cell_type": "markdown",
   "id": "01253519",
   "metadata": {
    "cq.autogen": "Unitary.bloq_doc.md"
   },
   "source": [
    "## `Unitary`\n",
    "Trivial block encoding of a unitary operator.\n",
    "\n",
    "Builds the block encoding as\n",
    "$\n",
    "    B[U] = U\n",
    "$\n",
    "where $U$ is a unitary operator. Here, $B[U]$ is a $(1, 0, 0)$-block encoding of $U$.\n",
    "\n",
    "#### Parameters\n",
    " - `U`: The unitary operator to block-encode.\n",
    " - `alpha`: The normalization factor (default 1).\n",
    " - `ancilla_bitsize`: The number of ancilla bits (default 0).\n",
    " - `resource_bitsize`: The number of resource bits (default 0).\n",
    " - `epsilon`: The precision parameter (default 0). \n",
    "\n",
    "#### Registers\n",
    " - `system`: The system register.\n",
    " - `ancilla`: The ancilla register (present only if bitsize > 0).\n",
    " - `resource`: The resource register (present only if bitsize > 0).\n"
   ]
  },
  {
   "cell_type": "code",
   "execution_count": null,
   "id": "cb8dd004",
   "metadata": {
    "cq.autogen": "Unitary.bloq_doc.py"
   },
   "outputs": [],
   "source": [
    "from qualtran.bloqs.block_encoding import Unitary"
   ]
  },
  {
   "cell_type": "markdown",
   "id": "5757f235",
   "metadata": {
    "cq.autogen": "Unitary.example_instances.md"
   },
   "source": [
    "### Example Instances"
   ]
  },
  {
   "cell_type": "code",
   "execution_count": null,
   "id": "2790d6f3",
   "metadata": {
    "cq.autogen": "Unitary.unitary_block_encoding"
   },
   "outputs": [],
   "source": [
    "from qualtran.bloqs.basic_gates import TGate\n",
    "\n",
    "unitary_block_encoding = Unitary(TGate())"
   ]
  },
  {
   "cell_type": "code",
   "execution_count": null,
   "id": "e229723d",
   "metadata": {
    "cq.autogen": "Unitary.unitary_block_encoding_properties"
   },
   "outputs": [],
   "source": [
    "from attrs import evolve\n",
    "\n",
    "from qualtran.bloqs.basic_gates import TGate\n",
    "\n",
    "unitary_block_encoding_properties = evolve(\n",
    "    Unitary(TGate()), alpha=0.5, ancilla_bitsize=2, resource_bitsize=1, epsilon=0.01\n",
    ")"
   ]
  },
  {
   "cell_type": "markdown",
   "id": "b4456eeb",
   "metadata": {
    "cq.autogen": "Unitary.graphical_signature.md"
   },
   "source": [
    "#### Graphical Signature"
   ]
  },
  {
   "cell_type": "code",
   "execution_count": null,
   "id": "62b3252d",
   "metadata": {
    "cq.autogen": "Unitary.graphical_signature.py"
   },
   "outputs": [],
   "source": [
    "from qualtran.drawing import show_bloqs\n",
    "show_bloqs([unitary_block_encoding, unitary_block_encoding_properties],\n",
    "           ['`unitary_block_encoding`', '`unitary_block_encoding_properties`'])"
   ]
  },
  {
   "cell_type": "markdown",
   "id": "42d59bdc",
   "metadata": {
    "cq.autogen": "Unitary.call_graph.md"
   },
   "source": [
    "### Call Graph"
   ]
  },
  {
   "cell_type": "code",
   "execution_count": null,
   "id": "717e77ae",
   "metadata": {
    "cq.autogen": "Unitary.call_graph.py"
   },
   "outputs": [],
   "source": [
    "from qualtran.resource_counting.generalizers import ignore_split_join\n",
    "unitary_block_encoding_g, unitary_block_encoding_sigma = unitary_block_encoding.call_graph(max_depth=1, generalizer=ignore_split_join)\n",
    "show_call_graph(unitary_block_encoding_g)\n",
    "show_counts_sigma(unitary_block_encoding_sigma)"
   ]
  }
 ],
 "metadata": {
  "kernelspec": {
   "display_name": "Python 3",
   "language": "python",
   "name": "python3"
  },
  "language_info": {
   "name": "python"
  }
 },
 "nbformat": 4,
 "nbformat_minor": 5
}
