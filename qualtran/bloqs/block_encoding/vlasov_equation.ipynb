{
 "cells": [
  {
   "cell_type": "code",
   "execution_count": null,
   "metadata": {},
   "outputs": [],
   "source": [
    "import numpy as np\n",
    "import sympy\n",
    "\n",
    "from qualtran.bloqs.block_encoding.sparse_matrix import (\n",
    "    ExplicitEntryOracle,\n",
    "    SymmetricBandedRowColumnOracle,\n",
    "    SparseMatrix,\n",
    ")\n",
    "from qualtran.bloqs.block_encoding.vlasov_equation import VlasovEntryOracle\n",
    "from qualtran.drawing import show_counts_sigma\n",
    "from qualtran.resource_counting.generalizers import ignore_split_join\n",
    "from qualtran.resource_counting.t_counts_from_sigma import t_counts_from_sigma"
   ]
  },
  {
   "cell_type": "code",
   "execution_count": null,
   "metadata": {},
   "outputs": [],
   "source": [
    "n = sympy.Symbol('n')\n",
    "row_oracle = SymmetricBandedRowColumnOracle(n, bandsize=1)\n",
    "col_oracle = SymmetricBandedRowColumnOracle(n, bandsize=1)\n",
    "entry_oracle = VlasovEntryOracle(n, 7, alpha=0.2)\n",
    "bloq = SparseMatrix(row_oracle, col_oracle, entry_oracle, eps=0)"
   ]
  },
  {
   "cell_type": "code",
   "execution_count": null,
   "metadata": {},
   "outputs": [],
   "source": [
    "g, sigma = bloq.call_graph(generalizer=ignore_split_join)\n",
    "show_counts_sigma(sigma)"
   ]
  },
  {
   "cell_type": "code",
   "execution_count": null,
   "metadata": {},
   "outputs": [],
   "source": [
    "ts = t_counts_from_sigma(sigma)\n",
    "print(ts)"
   ]
  },
  {
   "cell_type": "code",
   "execution_count": null,
   "metadata": {},
   "outputs": [],
   "source": [
    "ts.subs(n, 11)"
   ]
  },
  {
   "cell_type": "code",
   "execution_count": null,
   "metadata": {},
   "outputs": [],
   "source": [
    "def gen_vlasov_hamiltonian(n, alpha, m):\n",
    "    data = np.zeros((2**n, 2**n))\n",
    "    data[0][1] = data[1][0] = np.sqrt((1 + alpha) / 2)\n",
    "    for i in range(2, m + 1):\n",
    "        data[i - 1][i] = data[i][i - 1] = np.sqrt(i / 2)\n",
    "    data /= np.max(data)\n",
    "    return data"
   ]
  },
  {
   "cell_type": "code",
   "execution_count": null,
   "metadata": {},
   "outputs": [],
   "source": [
    "n = 11\n",
    "k = 2\n",
    "alpha = 2 / k**2\n",
    "data = gen_vlasov_hamiltonian(n, alpha, m=(2**n - 1))\n",
    "row_oracle = SymmetricBandedRowColumnOracle(n, bandsize=1)\n",
    "col_oracle = SymmetricBandedRowColumnOracle(n, bandsize=1)\n",
    "entry_oracle = ExplicitEntryOracle(system_bitsize=n, data=data, entry_bitsize=7)\n",
    "bloq = SparseMatrix(row_oracle, col_oracle, entry_oracle, eps=0)"
   ]
  },
  {
   "cell_type": "code",
   "execution_count": null,
   "metadata": {},
   "outputs": [],
   "source": [
    "g, sigma = bloq.call_graph(generalizer=ignore_split_join)\n",
    "show_counts_sigma(sigma)"
   ]
  },
  {
   "cell_type": "code",
   "execution_count": null,
   "metadata": {},
   "outputs": [],
   "source": [
    "ts = t_counts_from_sigma(sigma)\n",
    "print(ts)"
   ]
  }
 ],
 "metadata": {
  "kernelspec": {
   "display_name": "qualtran",
   "language": "python",
   "name": "python3"
  },
  "language_info": {
   "codemirror_mode": {
    "name": "ipython",
    "version": 3
   },
   "file_extension": ".py",
   "mimetype": "text/x-python",
   "name": "python",
   "nbconvert_exporter": "python",
   "pygments_lexer": "ipython3",
   "version": "3.11.2"
  }
 },
 "nbformat": 4,
 "nbformat_minor": 2
}
