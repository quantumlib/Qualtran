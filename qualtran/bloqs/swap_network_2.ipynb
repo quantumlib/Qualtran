{
 "cells": [
  {
   "cell_type": "markdown",
   "id": "e71b133e",
   "metadata": {
    "cq.autogen": "title_cell"
   },
   "source": [
    "# Swap Network\n",
    "\n",
    "Functionality for moving data between registers (swapping)."
   ]
  },
  {
   "cell_type": "code",
   "execution_count": null,
   "id": "67c52313",
   "metadata": {
    "cq.autogen": "top_imports"
   },
   "outputs": [],
   "source": [
    "from qualtran import Bloq, CompositeBloq, BloqBuilder, Signature, Register\n",
    "from qualtran.drawing import show_bloq\n",
    "from typing import *\n",
    "import numpy as np"
   ]
  },
  {
   "cell_type": "markdown",
   "id": "9a2e8a29",
   "metadata": {
    "cq.autogen": "CSwap.bloq_doc.md"
   },
   "source": [
    "## `CSwap`\n",
    "Swap two registers controlled on a control bit.\n",
    "\n",
    "Implements a multi-target controlled swap unitary $CSWAP_n = |0><0| I + |1><1| SWAP_n$.\n",
    "\n",
    "This decomposes into a qubitwise SWAP on the two target registers, and takes $14n$ T-gates.\n",
    "\n",
    "#### Parameters\n",
    " - `bitsize`: The bitsize of each of the two registers being swapped. \n",
    "\n",
    "#### Registers\n",
    " - `ctrl`: the control bit\n",
    " - `x`: the first register\n",
    " - `y`: the second register\n"
   ]
  },
  {
   "cell_type": "code",
   "execution_count": null,
   "id": "2fc287a9",
   "metadata": {
    "cq.autogen": "CSwap.bloq_doc.py"
   },
   "outputs": [],
   "source": [
    "from qualtran.bloqs.basic_gates import CSwap"
   ]
  },
  {
   "cell_type": "markdown",
   "id": "fa8b3b02",
   "metadata": {
    "cq.autogen": "CSwap.example_instances.md"
   },
   "source": [
    "### Example Instances"
   ]
  },
  {
   "cell_type": "code",
   "execution_count": null,
   "id": "6b9600e8",
   "metadata": {
    "cq.autogen": "CSwap.cswap_symb"
   },
   "outputs": [],
   "source": [
    "# A symbolic version. The bitsize is the symbol 'n'.\n",
    "from sympy import sympify\n",
    "\n",
    "cswap_symb = CSwap(bitsize=sympify('n'))"
   ]
  },
  {
   "cell_type": "code",
   "execution_count": null,
   "id": "745afb32",
   "metadata": {
    "cq.autogen": "CSwap.cswap_small"
   },
   "outputs": [],
   "source": [
    "# A small version on four bits.\n",
    "cswap_small = CSwap(bitsize=4)"
   ]
  },
  {
   "cell_type": "code",
   "execution_count": null,
   "id": "a5bac02b",
   "metadata": {
    "cq.autogen": "CSwap.cswap_large"
   },
   "outputs": [],
   "source": [
    "# A large version that swaps 64-bit registers.\n",
    "cswap_large = CSwap(bitsize=64)"
   ]
  },
  {
   "cell_type": "markdown",
   "id": "70b14690",
   "metadata": {
    "cq.autogen": "CSwap.graphical_signature.md"
   },
   "source": [
    "#### Graphical Signature"
   ]
  },
  {
   "cell_type": "code",
   "execution_count": null,
   "id": "c4ad9f12",
   "metadata": {
    "cq.autogen": "CSwap.graphical_signature.py"
   },
   "outputs": [],
   "source": [
    "from qualtran.drawing import show_bloqs\n",
    "show_bloqs([cswap_symb, cswap_small, cswap_large],\n",
    "           ['`cswap_symb`', '`cswap_small`', '`cswap_large`'])"
   ]
  },
  {
   "cell_type": "markdown",
   "id": "c4d14510",
   "metadata": {
    "cq.autogen": "CSwapApprox.bloq_doc.md"
   },
   "source": [
    "## `CSwapApprox`\n",
    "Approximately implements a multi-target controlled swap unitary using only $4n$ T-gates.\n",
    "\n",
    "Implements $\\mathrm{CSWAP}_n = |0 \\rangle\\langle 0| I + |1 \\rangle\\langle 1| \\mathrm{SWAP}_n$\n",
    "such that the output state is correct up to a global phase factor of +1 / -1.\n",
    "\n",
    "This is useful when the incorrect phase can be absorbed in a garbage state of an algorithm\n",
    "and thus ignored. See the reference for more details.\n",
    "\n",
    "#### Parameters\n",
    " - `bitsize`: The bitsize of the two registers being swapped. \n",
    "\n",
    "#### Registers\n",
    " - `ctrl`: the control bit\n",
    " - `x`: the first register\n",
    " - `y`: the second register \n",
    "\n",
    "#### References\n",
    "[Trading T-gates for dirty qubits in state preparation and unitary synthesis](https://arxiv.org/abs/1812.00954). Low et. al. 2018. See Appendix B.2.c.\n"
   ]
  },
  {
   "cell_type": "code",
   "execution_count": null,
   "id": "d06c484e",
   "metadata": {
    "cq.autogen": "CSwapApprox.bloq_doc.py"
   },
   "outputs": [],
   "source": [
    "from qualtran.bloqs.swap_network import CSwapApprox"
   ]
  },
  {
   "cell_type": "markdown",
   "id": "c84a60b4",
   "metadata": {
    "cq.autogen": "CSwapApprox.example_instances.md"
   },
   "source": [
    "### Example Instances"
   ]
  },
  {
   "cell_type": "code",
   "execution_count": null,
   "id": "6e3ad9fb",
   "metadata": {
    "cq.autogen": "CSwapApprox.approx_cswap_symb"
   },
   "outputs": [],
   "source": [
    "# A symbolic version. The bitsize is the symbol 'n'.\n",
    "from sympy import sympify\n",
    "\n",
    "approx_cswap_symb = CSwapApprox(bitsize=sympify('n'))"
   ]
  },
  {
   "cell_type": "code",
   "execution_count": null,
   "id": "a84e60be",
   "metadata": {
    "cq.autogen": "CSwapApprox.approx_cswap_small"
   },
   "outputs": [],
   "source": [
    "# A small version on four bits.\n",
    "approx_cswap_small = CSwapApprox(bitsize=4)"
   ]
  },
  {
   "cell_type": "code",
   "execution_count": null,
   "id": "c9b806da",
   "metadata": {
    "cq.autogen": "CSwapApprox.approx_cswap_large"
   },
   "outputs": [],
   "source": [
    "# A large version that swaps 64-bit registers.\n",
    "approx_cswap_large = CSwapApprox(bitsize=64)"
   ]
  },
  {
   "cell_type": "markdown",
   "id": "d761ec04",
   "metadata": {
    "cq.autogen": "CSwapApprox.graphical_signature.md"
   },
   "source": [
    "#### Graphical Signature"
   ]
  },
  {
   "cell_type": "code",
   "execution_count": null,
   "id": "b5202f4c",
   "metadata": {
    "cq.autogen": "CSwapApprox.graphical_signature.py"
   },
   "outputs": [],
   "source": [
    "from qualtran.drawing import show_bloqs\n",
    "show_bloqs([approx_cswap_symb, approx_cswap_small, approx_cswap_large],\n",
    "           ['`approx_cswap_symb`', '`approx_cswap_small`', '`approx_cswap_large`'])"
   ]
  },
  {
   "cell_type": "markdown",
   "id": "0697fe71",
   "metadata": {
    "cq.autogen": "SwapWithZero.bloq_doc.md"
   },
   "source": [
    "## `SwapWithZero`\n",
    "Swaps |Psi_0> with |Psi_x> if selection register stores index `x`.\n",
    "\n",
    "Implements the unitary U |x> |Psi_0> |Psi_1> ... |Psi_{n-1}> --> |x> |Psi_x> |Rest of Psi>.\n",
    "Note that the state of `|Rest of Psi>` is allowed to be anything and should not be depended\n",
    "upon.\n",
    "\n",
    "#### References\n",
    "[Trading T-gates for dirty qubits in state preparation and unitary synthesis] (https://arxiv.org/abs/1812.00954). Low, Kliuchnikov, Schaeffer. 2018.\n"
   ]
  },
  {
   "cell_type": "code",
   "execution_count": null,
   "id": "8e68c8ee",
   "metadata": {
    "cq.autogen": "SwapWithZero.bloq_doc.py"
   },
   "outputs": [],
   "source": [
    "from qualtran.bloqs.swap_network import SwapWithZero"
   ]
  },
  {
   "cell_type": "markdown",
   "id": "cf2ee142",
   "metadata": {
    "cq.autogen": "SwapWithZero.example_instances.md"
   },
   "source": [
    "### Example Instances"
   ]
  },
  {
   "cell_type": "code",
   "execution_count": null,
   "id": "53b5d9ce",
   "metadata": {
    "cq.autogen": "SwapWithZero.swz_small"
   },
   "outputs": [],
   "source": [
    "# A small version on four bits.\n",
    "swz_small = SwapWithZero(selection_bitsize=3, target_bitsize=2, n_target_registers=2)"
   ]
  },
  {
   "cell_type": "markdown",
   "id": "d8f18107",
   "metadata": {
    "cq.autogen": "SwapWithZero.graphical_signature.md"
   },
   "source": [
    "#### Graphical Signature"
   ]
  },
  {
   "cell_type": "code",
   "execution_count": null,
   "id": "ad7b860d",
   "metadata": {
    "cq.autogen": "SwapWithZero.graphical_signature.py"
   },
   "outputs": [],
   "source": [
    "from qualtran.drawing import show_bloqs\n",
    "show_bloqs([swz_small],\n",
    "           ['`swz_small`'])"
   ]
  }
 ],
 "metadata": {
  "kernelspec": {
   "display_name": "Python 3 (ipykernel)",
   "language": "python",
   "name": "python3"
  },
  "language_info": {
   "codemirror_mode": {
    "name": "ipython",
    "version": 3
   },
   "file_extension": ".py",
   "mimetype": "text/x-python",
   "name": "python",
   "nbconvert_exporter": "python",
   "pygments_lexer": "ipython3",
   "version": "3.10.9"
  }
 },
 "nbformat": 4,
 "nbformat_minor": 5
}
