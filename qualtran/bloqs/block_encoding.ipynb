{
 "cells": [
  {
   "cell_type": "markdown",
   "id": "f74727f8",
   "metadata": {
    "cq.autogen": "title_cell"
   },
   "source": [
    "# Block Encoding\n",
    "\n",
    "High level bloqs for defining bloq encodings and operations on block encodings.\n",
    "\n",
    "In general, given an $s$-qubit operator $H$ then the $(s+a)$-qubit unitary $U$ is\n",
    "a $(\\alpha, a, \\epsilon)$-block encoding of $H$ if it satisfies:\n",
    "\n",
    "$$\n",
    "    \\lVert H - \\alpha (\\langle G|_a\\otimes I_s U |G\\rangle_a \\otimes I_s) \\rVert\n",
    "    \\le \\epsilon,\n",
    "$$\n",
    "\n",
    "where $a$ is an ancilla register and $s$ is the system register, $U$ is a unitary sometimes\n",
    "called a signal oracle and encodes $H$ in its top right corner, $\\alpha \\ge\n",
    "\\lVert H\\rVert$ (where $\\lVert \\cdot \\rVert$ denotes the spectral norm), and\n",
    "$\\epsilon$ is the precision to which the block encoding is prepared. The state\n",
    "$|G\\rangle_a$ is sometimes called the signal state, and its form depends on the\n",
    "details of the block encoding. \n",
    "\n",
    "For LCU based block encodings \n",
    "we have\n",
    "$$\n",
    "U = \\sum_l |l\\rangle\\langle l| \\otimes U_l\n",
    "$$\n",
    "and $|G\\rangle = \\sum_l \\sqrt{\\frac{\\alpha_l}{\\alpha}}|0\\rangle_a$, which define the\n",
    "usual SELECT and PREPARE oracles.\n",
    "\n",
    "Other ways of building block encodings exist so we define the abstract base\n",
    "class `BlockEncoding` bloq, which expects values for $\\alpha$, $\\epsilon$,\n",
    "system and ancilla registers and a bloq which prepares the state $|G\\rangle$. "
   ]
  },
  {
   "cell_type": "code",
   "execution_count": 1,
   "id": "032a712d",
   "metadata": {
    "cq.autogen": "top_imports"
   },
   "outputs": [],
   "source": [
    "from qualtran import Bloq, CompositeBloq, BloqBuilder, Signature, Register\n",
    "from qualtran import QBit, QInt, QUInt, QAny\n",
    "from qualtran.drawing import show_bloq, show_call_graph, show_counts_sigma\n",
    "from typing import *\n",
    "import numpy as np\n",
    "import sympy\n",
    "import cirq"
   ]
  },
  {
   "cell_type": "markdown",
   "id": "d16f721f",
   "metadata": {
    "cq.autogen": "LCUBlockEncoding.bloq_doc.md"
   },
   "source": [
    "## `LCUBlockEncoding`\n",
    "LCU based block encoding using SELECT and PREPARE oracles.\n",
    "\n",
    "Builds the block encoding via\n",
    "$$\n",
    "    B[H] = \\mathrm{PREPARE}^\\dagger \\cdot \\mathrm{SELECT} \\cdot \\mathrm{PREPARE},\n",
    "$$\n",
    "where\n",
    "$$\n",
    "    \\mathrm{PREPARE} |0\\rangle_a = \\sum_l \\sqrt{\\frac{w_l}{\\lambda}} |l\\rangle_a,\n",
    "$$\n",
    "and\n",
    "$$\n",
    "    \\mathrm{SELECT} |l\\rangle_a|\\psi\\rangle_s = |l\\rangle_a U_l |\\psi\\rangle_s.\n",
    "$$\n",
    "\n",
    "The ancilla register is at least of size $\\log L$.\n",
    "\n",
    "In our implementations we typically split the ancilla registers into\n",
    "selection registers (i.e.  the $l$ registers above) and junk registers which\n",
    "are extra qubits needed by state preparation but not controlled upon during\n",
    "SELECT.\n",
    "\n",
    "Here $|G\\rangle = \\mathrm{PREPARE}|0\\rangle$.\n",
    "\n",
    "#### Parameters\n",
    " - `alpha`: The normalization constant upper bounding the spectral norm of the Hamiltonian. Often called lambda.\n",
    " - `epsilon`: The precision to which the block encoding is performed. Currently this isn't used: see https://github.com/quantumlib/Qualtran/issues/985\n",
    " - `select`: The bloq implementing the `SelectOracle` interface.\n",
    " - `prepare`: The bloq implementing the `PrepareOracle` interface. \n",
    "\n",
    "#### Registers\n",
    " - `selection`: The combined selection register.\n",
    " - `junk`: Additional junk registers not prepared upon.\n",
    " - `system`: The combined system register. \n",
    "\n",
    "#### References\n",
    " - [Hamiltonian Simulation by Qubitization](https://quantum-journal.org/papers/q-2019-07-12-163/).     Sec 3.1, page 7 and 8 for high level overview and definitions. A     block encoding is called a standard form encoding there.\n",
    " - [The power of block-encoded matrix powers: improved regression techniques via faster Hamiltonian simulation](https://arxiv.org/abs/1804.01973).     Definition 3 page 8.\n"
   ]
  },
  {
   "cell_type": "code",
   "execution_count": 2,
   "id": "0dc5476c",
   "metadata": {
    "cq.autogen": "LCUBlockEncoding.bloq_doc.py"
   },
   "outputs": [],
   "source": [
    "from qualtran.bloqs.block_encoding import LCUBlockEncoding"
   ]
  },
  {
   "cell_type": "markdown",
   "id": "5ab0f455",
   "metadata": {
    "cq.autogen": "LCUBlockEncoding.example_instances.md"
   },
   "source": [
    "### Example Instances"
   ]
  },
  {
   "cell_type": "code",
   "execution_count": 3,
   "id": "349a4f99",
   "metadata": {
    "cq.autogen": "LCUBlockEncoding.black_box_block_bloq"
   },
   "outputs": [],
   "source": [
    "from qualtran.bloqs.hubbard_model import PrepareHubbard, SelectHubbard\n",
    "\n",
    "# 3x3 hubbard model U/t = 4\n",
    "dim = 3\n",
    "select = SelectHubbard(x_dim=dim, y_dim=dim)\n",
    "U = 4\n",
    "t = 1\n",
    "prepare = PrepareHubbard(x_dim=dim, y_dim=dim, t=t, u=U)\n",
    "N = dim * dim * 2\n",
    "qlambda = 2 * N * t + (N * U) // 2\n",
    "black_box_block_bloq = LCUBlockEncoding(\n",
    "    select=select, prepare=prepare, alpha=qlambda, epsilon=0.0\n",
    ")"
   ]
  },
  {
   "cell_type": "markdown",
   "id": "cb3538d3",
   "metadata": {
    "cq.autogen": "LCUBlockEncoding.graphical_signature.md"
   },
   "source": [
    "#### Graphical Signature"
   ]
  },
  {
   "cell_type": "code",
   "execution_count": 4,
   "id": "b6354639",
   "metadata": {
    "cq.autogen": "LCUBlockEncoding.graphical_signature.py"
   },
   "outputs": [
    {
     "data": {
      "application/vnd.jupyter.widget-view+json": {
       "model_id": "eb68dce71fd14f11b2b4a1ee9ac2eadb",
       "version_major": 2,
       "version_minor": 0
      },
      "text/plain": [
       "HBox(children=(Output(outputs=({'output_type': 'display_data', 'data': {'text/plain': '<IPython.core.display.M…"
      ]
     },
     "metadata": {},
     "output_type": "display_data"
    }
   ],
   "source": [
    "from qualtran.drawing import show_bloqs\n",
    "show_bloqs([black_box_block_bloq],\n",
    "           ['`black_box_block_bloq`'])"
   ]
  },
  {
   "cell_type": "markdown",
   "id": "09bb24fc",
   "metadata": {
    "cq.autogen": "LCUBlockEncoding.call_graph.md"
   },
   "source": [
    "### Call Graph"
   ]
  },
  {
   "cell_type": "code",
   "execution_count": 5,
   "id": "fc3c71be",
   "metadata": {
    "cq.autogen": "LCUBlockEncoding.call_graph.py"
   },
   "outputs": [
    {
     "data": {
      "image/svg+xml": [
       "<svg xmlns=\"http://www.w3.org/2000/svg\" xmlns:xlink=\"http://www.w3.org/1999/xlink\" width=\"409pt\" height=\"131pt\" viewBox=\"0.00 0.00 409.00 131.00\">\n",
       "<g id=\"graph0\" class=\"graph\" transform=\"scale(1 1) rotate(0) translate(4 127)\">\n",
       "<title>counts</title>\n",
       "<polygon fill=\"white\" stroke=\"transparent\" points=\"-4,4 -4,-127 405,-127 405,4 -4,4\"/>\n",
       "<!-- b0 -->\n",
       "<g id=\"node1\" class=\"node\">\n",
       "<title>b0</title>\n",
       "<polygon fill=\"none\" stroke=\"black\" points=\"401,-123 0,-123 0,-87 401,-87 401,-123\"/>\n",
       "<text text-anchor=\"start\" x=\"186.5\" y=\"-106.8\" font-family=\"Times,serif\" font-size=\"14.00\">B[H]</text>\n",
       "<text text-anchor=\"start\" x=\"8\" y=\"-96\" font-family=\"monospace\" font-size=\"10.00\">alpha=72, epsilon=0.0, select=SelectHu ..., prepare=PrepareH ...</text>\n",
       "</g>\n",
       "<!-- b1 -->\n",
       "<g id=\"node2\" class=\"node\">\n",
       "<title>b1</title>\n",
       "<polygon fill=\"none\" stroke=\"black\" points=\"311,-36 90,-36 90,0 311,0 311,-36\"/>\n",
       "<text text-anchor=\"start\" x=\"160\" y=\"-19.8\" font-family=\"Times,serif\" font-size=\"14.00\">SelectHubbard</text>\n",
       "<text text-anchor=\"start\" x=\"98\" y=\"-9\" font-family=\"monospace\" font-size=\"10.00\">x_dim=3, y_dim=3, control_val=None</text>\n",
       "</g>\n",
       "<!-- b0&#45;&gt;b1 -->\n",
       "<g id=\"edge1\" class=\"edge\">\n",
       "<title>b0-&gt;b1</title>\n",
       "<path fill=\"none\" stroke=\"black\" d=\"M200.5,-86.8C200.5,-75.16 200.5,-59.55 200.5,-46.24\"/>\n",
       "<polygon fill=\"black\" stroke=\"black\" points=\"204,-46.18 200.5,-36.18 197,-46.18 204,-46.18\"/>\n",
       "<text text-anchor=\"middle\" x=\"204\" y=\"-57.8\" font-family=\"Times,serif\" font-size=\"14.00\">1</text>\n",
       "</g>\n",
       "</g>\n",
       "</svg>"
      ],
      "text/plain": [
       "<IPython.core.display.SVG object>"
      ]
     },
     "metadata": {},
     "output_type": "display_data"
    },
    {
     "data": {
      "text/markdown": [
       "#### Counts totals:\n",
       " - `SelectHubbard(x_dim=3, y_dim=3, control_val=None)`: 1"
      ],
      "text/plain": [
       "<IPython.core.display.Markdown object>"
      ]
     },
     "metadata": {},
     "output_type": "display_data"
    }
   ],
   "source": [
    "from qualtran.resource_counting.generalizers import ignore_split_join\n",
    "black_box_block_bloq_g, black_box_block_bloq_sigma = black_box_block_bloq.call_graph(max_depth=1, generalizer=ignore_split_join)\n",
    "show_call_graph(black_box_block_bloq_g)\n",
    "show_counts_sigma(black_box_block_bloq_sigma)"
   ]
  },
  {
   "cell_type": "markdown",
   "id": "2ed5cb18",
   "metadata": {
    "cq.autogen": "ChebyshevPolynomial.bloq_doc.md"
   },
   "source": [
    "## `ChebyshevPolynomial`\n",
    "Block encoding of $T_j[H]$ where $T_j$ is the $j$-th Chebyshev polynomial.\n",
    "\n",
    "Here H is a Hamiltonian with spectral norm $|H| \\le 1$, we assume we have\n",
    "an $n_L$ qubit ancilla register, and assume that $j > 0$ to avoid block\n",
    "encoding the identity operator.\n",
    "\n",
    "Recall:\n",
    "\n",
    "\\begin{align*}\n",
    "    T_0[H] &= \\mathbb{1} \\\\\n",
    "    T_1[H] &= H \\\\\n",
    "    T_2[H] &= 2 H^2 - \\mathbb{1} \\\\\n",
    "    T_3[H] &= 4 H^3 - 3 H \\\\\n",
    "    &\\dots\n",
    "\\end{align*}\n",
    "\n",
    "See https://github.com/quantumlib/Qualtran/issues/984 for an alternative.\n",
    "\n",
    "#### Parameters\n",
    " - `block_encoding`: Block encoding of a Hamiltonian $H$, $\\mathcal{B}[H]$. Assumes the $|G\\rangle$ state of the block encoding is the identity operator.\n",
    " - `order`: order of Chebychev polynomial. \n",
    "\n",
    "#### References\n",
    " - [Quantum computing enhanced computational catalysis](https://arxiv.org/abs/2007.14460).     Page 45; Theorem 1.\n"
   ]
  },
  {
   "cell_type": "code",
   "execution_count": 6,
   "id": "721cad00",
   "metadata": {
    "cq.autogen": "ChebyshevPolynomial.bloq_doc.py"
   },
   "outputs": [],
   "source": [
    "from qualtran.bloqs.block_encoding import ChebyshevPolynomial"
   ]
  },
  {
   "cell_type": "markdown",
   "id": "5bc78942",
   "metadata": {
    "cq.autogen": "ChebyshevPolynomial.example_instances.md"
   },
   "source": [
    "### Example Instances"
   ]
  },
  {
   "cell_type": "code",
   "execution_count": 7,
   "id": "8af92b76",
   "metadata": {
    "cq.autogen": "ChebyshevPolynomial.chebyshev_poly"
   },
   "outputs": [],
   "source": [
    "from qualtran.bloqs.block_encoding import LCUBlockEncoding\n",
    "from qualtran.bloqs.hubbard_model import PrepareHubbard, SelectHubbard\n",
    "\n",
    "dim = 3\n",
    "select = SelectHubbard(x_dim=dim, y_dim=dim)\n",
    "U = 4\n",
    "t = 1\n",
    "prepare = PrepareHubbard(x_dim=dim, y_dim=dim, t=t, u=U)\n",
    "N = dim * dim * 2\n",
    "qlambda = 2 * N * t + (N * U) // 2\n",
    "black_box_block_bloq = LCUBlockEncoding(\n",
    "    select=select, prepare=prepare, alpha=qlambda, epsilon=0.0\n",
    ")\n",
    "chebyshev_poly = ChebyshevPolynomial(black_box_block_bloq, order=3)"
   ]
  },
  {
   "cell_type": "markdown",
   "id": "c8dc645a",
   "metadata": {
    "cq.autogen": "ChebyshevPolynomial.graphical_signature.md"
   },
   "source": [
    "#### Graphical Signature"
   ]
  },
  {
   "cell_type": "code",
   "execution_count": 8,
   "id": "50b2e9c7",
   "metadata": {
    "cq.autogen": "ChebyshevPolynomial.graphical_signature.py"
   },
   "outputs": [
    {
     "data": {
      "application/vnd.jupyter.widget-view+json": {
       "model_id": "85e2351c6fad42128bd3b8805817e259",
       "version_major": 2,
       "version_minor": 0
      },
      "text/plain": [
       "HBox(children=(Output(outputs=({'output_type': 'display_data', 'data': {'text/plain': '<IPython.core.display.M…"
      ]
     },
     "metadata": {},
     "output_type": "display_data"
    }
   ],
   "source": [
    "from qualtran.drawing import show_bloqs\n",
    "show_bloqs([chebyshev_poly.decompose_bloq()],\n",
    "           ['`chebyshev_poly`'])"
   ]
  },
  {
   "cell_type": "markdown",
   "id": "8abadaed",
   "metadata": {
    "cq.autogen": "ChebyshevPolynomial.call_graph.md"
   },
   "source": [
    "### Call Graph"
   ]
  },
  {
   "cell_type": "code",
   "execution_count": 9,
   "id": "8209eb98",
   "metadata": {
    "cq.autogen": "ChebyshevPolynomial.call_graph.py"
   },
   "outputs": [
    {
     "data": {
      "image/svg+xml": [
       "<svg xmlns=\"http://www.w3.org/2000/svg\" xmlns:xlink=\"http://www.w3.org/1999/xlink\" width=\"678pt\" height=\"131pt\" viewBox=\"0.00 0.00 678.00 131.00\">\n",
       "<g id=\"graph0\" class=\"graph\" transform=\"scale(1 1) rotate(0) translate(4 127)\">\n",
       "<title>counts</title>\n",
       "<polygon fill=\"white\" stroke=\"transparent\" points=\"-4,4 -4,-127 674,-127 674,4 -4,4\"/>\n",
       "<!-- b0 -->\n",
       "<g id=\"node1\" class=\"node\">\n",
       "<title>b0</title>\n",
       "<polygon fill=\"none\" stroke=\"black\" points=\"414,-123 181,-123 181,-87 414,-87 414,-123\"/>\n",
       "<text text-anchor=\"start\" x=\"268\" y=\"-106.8\" font-family=\"Times,serif\" font-size=\"14.00\">T_3[B[H]]</text>\n",
       "<text text-anchor=\"start\" x=\"189\" y=\"-96\" font-family=\"monospace\" font-size=\"10.00\">block_encoding=LCUBlock ..., order=3</text>\n",
       "</g>\n",
       "<!-- b1 -->\n",
       "<g id=\"node2\" class=\"node\">\n",
       "<title>b1</title>\n",
       "<polygon fill=\"none\" stroke=\"black\" points=\"251,-36 0,-36 0,0 251,0 251,-36\"/>\n",
       "<text text-anchor=\"start\" x=\"97\" y=\"-19.8\" font-family=\"Times,serif\" font-size=\"14.00\">Reflection</text>\n",
       "<text text-anchor=\"start\" x=\"8\" y=\"-9\" font-family=\"monospace\" font-size=\"10.00\">bitsizes=(1, 1, 2 ..., cvs=(0, 0, 0 ...</text>\n",
       "</g>\n",
       "<!-- b0&#45;&gt;b1 -->\n",
       "<g id=\"edge1\" class=\"edge\">\n",
       "<title>b0-&gt;b1</title>\n",
       "<path fill=\"none\" stroke=\"black\" d=\"M262.69,-86.8C235.68,-73.45 198.07,-54.86 169.05,-40.52\"/>\n",
       "<polygon fill=\"black\" stroke=\"black\" points=\"170.48,-37.32 159.96,-36.03 167.38,-43.6 170.48,-37.32\"/>\n",
       "<text text-anchor=\"middle\" x=\"226\" y=\"-57.8\" font-family=\"Times,serif\" font-size=\"14.00\">2</text>\n",
       "</g>\n",
       "<!-- b2 -->\n",
       "<g id=\"node3\" class=\"node\">\n",
       "<title>b2</title>\n",
       "<polygon fill=\"none\" stroke=\"black\" points=\"670,-36 269,-36 269,0 670,0 670,-36\"/>\n",
       "<text text-anchor=\"start\" x=\"455.5\" y=\"-19.8\" font-family=\"Times,serif\" font-size=\"14.00\">B[H]</text>\n",
       "<text text-anchor=\"start\" x=\"277\" y=\"-9\" font-family=\"monospace\" font-size=\"10.00\">alpha=72, epsilon=0.0, select=SelectHu ..., prepare=PrepareH ...</text>\n",
       "</g>\n",
       "<!-- b0&#45;&gt;b2 -->\n",
       "<g id=\"edge2\" class=\"edge\">\n",
       "<title>b0-&gt;b2</title>\n",
       "<path fill=\"none\" stroke=\"black\" d=\"M332.31,-86.8C359.32,-73.45 396.93,-54.86 425.95,-40.52\"/>\n",
       "<polygon fill=\"black\" stroke=\"black\" points=\"427.62,-43.6 435.04,-36.03 424.52,-37.32 427.62,-43.6\"/>\n",
       "<text text-anchor=\"middle\" x=\"398\" y=\"-57.8\" font-family=\"Times,serif\" font-size=\"14.00\">3</text>\n",
       "</g>\n",
       "</g>\n",
       "</svg>"
      ],
      "text/plain": [
       "<IPython.core.display.SVG object>"
      ]
     },
     "metadata": {},
     "output_type": "display_data"
    },
    {
     "data": {
      "text/markdown": [
       "#### Counts totals:\n",
       " - `LCUBlockEncoding(alpha=72, epsilon=0.0, select=SelectHubbard(x_dim=3, y_dim=3, control_val=None), prepare=PrepareHubbard(x_dim=3, y_dim=3, t=1, u=4))`: 3\n",
       " - `Reflection(bitsizes=(1, 1, 2, 2, 1, 2, 2, 1), cvs=(0, 0, 0, 0, 0, 0, 0, 0))`: 2"
      ],
      "text/plain": [
       "<IPython.core.display.Markdown object>"
      ]
     },
     "metadata": {},
     "output_type": "display_data"
    }
   ],
   "source": [
    "from qualtran.resource_counting.generalizers import ignore_split_join\n",
    "chebyshev_poly_g, chebyshev_poly_sigma = chebyshev_poly.call_graph(max_depth=1, generalizer=ignore_split_join)\n",
    "show_call_graph(chebyshev_poly_g)\n",
    "show_counts_sigma(chebyshev_poly_sigma)"
   ]
  }
 ],
 "metadata": {
  "kernelspec": {
   "display_name": "Python 3 (ipykernel)",
   "language": "python",
   "name": "python3"
  },
  "language_info": {
   "codemirror_mode": {
    "name": "ipython",
    "version": 3
   },
   "file_extension": ".py",
   "mimetype": "text/x-python",
   "name": "python",
   "nbconvert_exporter": "python",
   "pygments_lexer": "ipython3",
   "version": "3.11.8"
  }
 },
 "nbformat": 4,
 "nbformat_minor": 5
}
