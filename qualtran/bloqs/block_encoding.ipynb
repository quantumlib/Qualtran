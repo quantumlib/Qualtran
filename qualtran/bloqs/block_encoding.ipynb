{
 "cells": [
  {
   "cell_type": "markdown",
   "id": "774a1b4a",
   "metadata": {
    "cq.autogen": "title_cell"
   },
   "source": [
    "# Block Encoding\n",
    "\n",
    "High level bloqs for defining bloq encodings and operations on block encodings.\n",
    "\n",
    "Given an operator $V$ which can be expressed as a linear combination of unitaries\n",
    "\n",
    "$$\n",
    "    V = \\sum_l^L w_l U_l,\n",
    "$$\n",
    "where $w_l \\ge 0$, $w_l \\in \\mathbb{R}$, and $U_l$ is a unitary, then the block\n",
    "encoding $\\mathcal{B}\\left[\\frac{V}{\\lambda}\\right]$ satisifies\n",
    "$$\n",
    "    _a\\langle 0| \\mathcal{B}\\left[\\frac{V}{\\lambda}\\right] |0\\rangle_a\n",
    "    |\\psi\\rangle_s = \\frac{V}{\\lambda}|\\psi\\rangle_s\n",
    "$$\n",
    "where the subscripts $a$ and $s$ signify ancilla and system registers\n",
    "respectively, and $\\lambda = \\sum_l w_l$. The ancilla register is at least of size $\\log L$. In our\n",
    "implementations we typically split the ancilla registers into selection registers (i.e.\n",
    "the $l$ registers above) and junk registers which are extra qubits needed by\n",
    "state preparation but not controlled upon during SELECT."
   ]
  },
  {
   "cell_type": "code",
   "execution_count": null,
   "id": "b4bc97c7",
   "metadata": {
    "cq.autogen": "top_imports"
   },
   "outputs": [],
   "source": [
    "from qualtran import Bloq, CompositeBloq, BloqBuilder, Signature, Register\n",
    "from qualtran import QBit, QInt, QUInt, QAny\n",
    "from qualtran.drawing import show_bloq, show_call_graph, show_counts_sigma\n",
    "from typing import *\n",
    "import numpy as np\n",
    "import sympy\n",
    "import cirq"
   ]
  },
  {
   "cell_type": "markdown",
   "id": "1b5bfa35",
   "metadata": {
    "cq.autogen": "BlackBoxBlockEncoding.bloq_doc.md"
   },
   "source": [
    "## `BlackBoxBlockEncoding`\n",
    "Black box implementation of a block encoding using SELECT and PREPARE.\n",
    "\n",
    "Builds the block encoding via\n",
    "$$\n",
    "    \\mathcal{B}[V] = \\mathrm{PREPARE}^\\dagger \\cdot \\mathrm{SELECT} \\cdot \\mathrm{PREPARE},\n",
    "$$\n",
    "where\n",
    "$$\n",
    "    \\mathrm{PREPARE} |0\\rangle_a = \\sum_l \\sqrt{\\frac{w_l}{\\lambda}} |l\\rangle_a,\n",
    "$$\n",
    "and\n",
    "$$\n",
    "    \\mathrm{SELECT} |l\\rangle_a|\\psi\\rangle_s = |l\\rangle_a U_l |\\psi\\rangle_s.\n",
    "$$\n",
    "\n",
    "#### Parameters\n",
    " - `select`: The bloq implementing the `SelectOracle` interface.\n",
    " - `prepare`: The bloq implementing the `SelectOracle` interface. \n",
    "\n",
    "#### Registers\n",
    " - `selection`: The combined selection register.\n",
    " - `junk`: Additional junk registers not prepared upon.\n",
    " - `system`: The combined system register.\n"
   ]
  },
  {
   "cell_type": "code",
   "execution_count": null,
   "id": "0d0e1f95",
   "metadata": {
    "cq.autogen": "BlackBoxBlockEncoding.bloq_doc.py"
   },
   "outputs": [],
   "source": [
    "from qualtran.bloqs.block_encoding import BlackBoxBlockEncoding"
   ]
  },
  {
   "cell_type": "markdown",
   "id": "ba37811d",
   "metadata": {
    "cq.autogen": "BlackBoxBlockEncoding.example_instances.md"
   },
   "source": [
    "### Example Instances"
   ]
  },
  {
   "cell_type": "code",
   "execution_count": null,
   "id": "38a4e1fc",
   "metadata": {
    "cq.autogen": "BlackBoxBlockEncoding.black_box_block_bloq"
   },
   "outputs": [],
   "source": [
    "from qualtran.bloqs.block_encoding import BlackBoxBlockEncoding, BlackBoxPrepare, BlackBoxSelect\n",
    "from qualtran.bloqs.hubbard_model import PrepareHubbard, SelectHubbard\n",
    "\n",
    "dim = 3\n",
    "select = BlackBoxSelect(SelectHubbard(x_dim=dim, y_dim=dim))\n",
    "prepare = BlackBoxPrepare(PrepareHubbard(x_dim=dim, y_dim=dim, t=1, mu=4))\n",
    "black_box_block_bloq = BlackBoxBlockEncoding(select=select, prepare=prepare)"
   ]
  },
  {
   "cell_type": "markdown",
   "id": "fafa7659",
   "metadata": {
    "cq.autogen": "BlackBoxBlockEncoding.graphical_signature.md"
   },
   "source": [
    "#### Graphical Signature"
   ]
  },
  {
   "cell_type": "code",
   "execution_count": null,
   "id": "4e0223af",
   "metadata": {
    "cq.autogen": "BlackBoxBlockEncoding.graphical_signature.py"
   },
   "outputs": [],
   "source": [
    "from qualtran.drawing import show_bloqs\n",
    "show_bloqs([black_box_block_bloq],\n",
    "           ['`black_box_block_bloq`'])"
   ]
  },
  {
   "cell_type": "markdown",
   "id": "8664826d",
   "metadata": {
    "cq.autogen": "BlackBoxBlockEncoding.call_graph.md"
   },
   "source": [
    "### Call Graph"
   ]
  },
  {
   "cell_type": "code",
   "execution_count": null,
   "id": "fdb0d03b",
   "metadata": {
    "cq.autogen": "BlackBoxBlockEncoding.call_graph.py"
   },
   "outputs": [],
   "source": [
    "from qualtran.resource_counting.generalizers import ignore_split_join\n",
    "black_box_block_bloq_g, black_box_block_bloq_sigma = black_box_block_bloq.call_graph(max_depth=1, generalizer=ignore_split_join)\n",
    "show_call_graph(black_box_block_bloq_g)\n",
    "show_counts_sigma(black_box_block_bloq_sigma)"
   ]
  },
  {
   "cell_type": "markdown",
   "id": "995d6d20",
   "metadata": {
    "cq.autogen": "ChebyshevPolynomial.bloq_doc.md"
   },
   "source": [
    "## `ChebyshevPolynomial`\n",
    "Block encoding of $T_j[H]$ where $T_j$ is the $j$-th Chebyshev polynomial.\n",
    "\n",
    "Here H is a Hamiltonian with spectral norm $|H| \\le 1$, we assume we have\n",
    "an $n_L$ qubit ancilla register, and assume that $j > 0$ to avoid block\n",
    "encoding the identity operator.\n",
    "\n",
    "Recall:\n",
    "\n",
    "\\begin{align*}\n",
    "    T_0[H] &= \\mathbb{1} \\\\\n",
    "    T_1[H] &= H \\\\\n",
    "    T_2[H] &= 2 H^2 - \\mathbb{1} \\\\\n",
    "    T_3[H] &= 4 H^3 - 3 H \\\\\n",
    "    &\\dots\n",
    "\\end{align*}\n",
    "\n",
    "#### Parameters\n",
    " - `block_encoding`: Block encoding of a Hamiltonian $H$, $\\mathcal{B}[H]$.\n",
    " - `order`: order of Chebychev polynomial. \n",
    "\n",
    "#### References\n",
    " - [Quantum computing enhanced computational catalysis](     https://arxiv.org/abs/2007.14460). Page 45; Theorem 1.\n"
   ]
  },
  {
   "cell_type": "code",
   "execution_count": null,
   "id": "1b553eeb",
   "metadata": {
    "cq.autogen": "ChebyshevPolynomial.bloq_doc.py"
   },
   "outputs": [],
   "source": [
    "from qualtran.bloqs.block_encoding import ChebyshevPolynomial"
   ]
  },
  {
   "cell_type": "markdown",
   "id": "f8f02214",
   "metadata": {
    "cq.autogen": "ChebyshevPolynomial.example_instances.md"
   },
   "source": [
    "### Example Instances"
   ]
  },
  {
   "cell_type": "code",
   "execution_count": null,
   "id": "df1de952",
   "metadata": {
    "cq.autogen": "ChebyshevPolynomial.chebyshev_poly"
   },
   "outputs": [],
   "source": [
    "from qualtran.bloqs.block_encoding import BlackBoxBlockEncoding, BlackBoxPrepare, BlackBoxSelect\n",
    "from qualtran.bloqs.hubbard_model import PrepareHubbard, SelectHubbard\n",
    "\n",
    "dim = 3\n",
    "select = BlackBoxSelect(SelectHubbard(x_dim=dim, y_dim=dim))\n",
    "prepare = BlackBoxPrepare(PrepareHubbard(x_dim=dim, y_dim=dim, t=1, mu=4))\n",
    "black_box_block_bloq = BlackBoxBlockEncoding(select=select, prepare=prepare)\n",
    "chebyshev_poly = ChebyshevPolynomial(black_box_block_bloq, order=3)"
   ]
  },
  {
   "cell_type": "markdown",
   "id": "135e9723",
   "metadata": {
    "cq.autogen": "ChebyshevPolynomial.graphical_signature.md"
   },
   "source": [
    "#### Graphical Signature"
   ]
  },
  {
   "cell_type": "code",
   "execution_count": null,
   "id": "34b86d0b",
   "metadata": {
    "cq.autogen": "ChebyshevPolynomial.graphical_signature.py"
   },
   "outputs": [],
   "source": [
    "from qualtran.drawing import show_bloqs\n",
    "show_bloqs([chebyshev_poly],\n",
    "           ['`chebyshev_poly`'])"
   ]
  },
  {
   "cell_type": "markdown",
   "id": "f7ffbd99",
   "metadata": {
    "cq.autogen": "ChebyshevPolynomial.call_graph.md"
   },
   "source": [
    "### Call Graph"
   ]
  },
  {
   "cell_type": "code",
   "execution_count": null,
   "id": "62c9b270",
   "metadata": {
    "cq.autogen": "ChebyshevPolynomial.call_graph.py"
   },
   "outputs": [],
   "source": [
    "from qualtran.resource_counting.generalizers import ignore_split_join\n",
    "chebyshev_poly_g, chebyshev_poly_sigma = chebyshev_poly.call_graph(max_depth=1, generalizer=ignore_split_join)\n",
    "show_call_graph(chebyshev_poly_g)\n",
    "show_counts_sigma(chebyshev_poly_sigma)"
   ]
  }
 ],
 "metadata": {
  "kernelspec": {
   "display_name": "Python 3",
   "language": "python",
   "name": "python3"
  },
  "language_info": {
   "codemirror_mode": {
    "name": "ipython",
    "version": 3
   },
   "file_extension": ".py",
   "mimetype": "text/x-python",
   "name": "python",
   "nbconvert_exporter": "python",
   "pygments_lexer": "ipython3",
   "version": "3.11.5"
  }
 },
 "nbformat": 4,
 "nbformat_minor": 5
}
