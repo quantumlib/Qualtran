{
 "cells": [
  {
   "cell_type": "markdown",
   "id": "f74727f8",
   "metadata": {
    "cq.autogen": "title_cell"
   },
   "source": [
    "# Block Encoding\n",
    "\n",
    "High level bloqs for defining bloq encodings and operations on block encodings.\n",
    "\n",
    "A block encoding of the Hamiltonian $H$ obeys:\n",
    "\n",
    "$$\n",
    "    H = (\\langle G|_a\\otimes I_s U |G\\rangle_a \\otimes I_s),\n",
    "$$\n",
    "\n",
    "where $a$ is an ancilla register and $s$ is the system register, $U$ is a unitary sometimes\n",
    "called a signal oracle and encodes $H$ in its top right corner, while\n",
    "$|G\\rangle_a$ is called the signal state. Oftentimes $U$ is a SELECT oracle implementing\n",
    "$$\n",
    "    U|G\\rangle_a|\\psi\\rangle_s = |G\\rangle_a H |\\psi\\rangle_s,\n",
    "$$\n",
    "and $|G\\rangle = \\mathrm{PREPARE}|0\\rangle_a$, which for a LCU representation\n",
    "of $H$ would prepare a superposition over the Hamiltonian LCU coefficients.\n",
    "However, there are other cases where it is not convenient to factorize the\n",
    "block encoding so cleanly (single-factorizated and double factorizated)\n",
    "chemistry Hamiltonians, or more generally we may only have access to $U$.\n",
    "In that case $|G\\rangle = |0\\rangle_a$."
   ]
  },
  {
   "cell_type": "code",
   "execution_count": null,
   "id": "032a712d",
   "metadata": {
    "cq.autogen": "top_imports"
   },
   "outputs": [],
   "source": [
    "from qualtran import Bloq, CompositeBloq, BloqBuilder, Signature, Register\n",
    "from qualtran import QBit, QInt, QUInt, QAny\n",
    "from qualtran.drawing import show_bloq, show_call_graph, show_counts_sigma\n",
    "from typing import *\n",
    "import numpy as np\n",
    "import sympy\n",
    "import cirq"
   ]
  },
  {
   "cell_type": "markdown",
   "id": "d16f721f",
   "metadata": {
    "cq.autogen": "LCUBlockEncoding.bloq_doc.md"
   },
   "source": [
    "## `LCUBlockEncoding`\n",
    "LCU based block encoding from using SELECT and PREPARE oracles.\n",
    "\n",
    "Builds the block encoding via\n",
    "$$\n",
    "    \\mathcal{B}[H] = \\mathrm{PREPARE}^\\dagger \\cdot \\mathrm{SELECT} \\cdot \\mathrm{PREPARE},\n",
    "$$\n",
    "where\n",
    "$$\n",
    "    \\mathrm{PREPARE} |0\\rangle_a = \\sum_l \\sqrt{\\frac{w_l}{\\lambda}} |l\\rangle_a,\n",
    "$$\n",
    "and\n",
    "$$\n",
    "    \\mathrm{SELECT} |l\\rangle_a|\\psi\\rangle_s = |l\\rangle_a U_l |\\psi\\rangle_s.\n",
    "$$\n",
    "\n",
    "The ancilla register is at least of size $\\log L$. In our implementations we\n",
    "typically split the ancilla registers into selection registers (i.e.  the\n",
    "$l$ registers above) and junk registers which are extra qubits needed by\n",
    "state preparation but not controlled upon during SELECT.\n",
    "\n",
    "#### Parameters\n",
    " - `select`: The bloq implementing the `SelectOracle` interface.\n",
    " - `prepare`: The bloq implementing the `PrepareOracle` interface. \n",
    "\n",
    "#### Registers\n",
    " - `selection`: The combined selection register.\n",
    " - `junk`: Additional junk registers not prepared upon.\n",
    " - `system`: The combined system register. \n",
    "\n",
    "#### References\n",
    " - [Hamiltonian Simulation by Qubitization](https://quantum-journal.org/papers/q-2019-07-12-163/).     Sec 3.1, page 7 and 8 for high level overview and definitions. A     block encoding is called a standard form encoding there.\n"
   ]
  },
  {
   "cell_type": "code",
   "execution_count": null,
   "id": "0dc5476c",
   "metadata": {
    "cq.autogen": "LCUBlockEncoding.bloq_doc.py"
   },
   "outputs": [],
   "source": [
    "from qualtran.bloqs.block_encoding import LCUBlockEncoding"
   ]
  },
  {
   "cell_type": "markdown",
   "id": "5ab0f455",
   "metadata": {
    "cq.autogen": "LCUBlockEncoding.example_instances.md"
   },
   "source": [
    "### Example Instances"
   ]
  },
  {
   "cell_type": "code",
   "execution_count": null,
   "id": "349a4f99",
   "metadata": {
    "cq.autogen": "LCUBlockEncoding.black_box_block_bloq"
   },
   "outputs": [],
   "source": [
    "from qualtran.bloqs.hubbard_model import PrepareHubbard, SelectHubbard\n",
    "\n",
    "dim = 3\n",
    "select = SelectHubbard(x_dim=dim, y_dim=dim)\n",
    "prepare = PrepareHubbard(x_dim=dim, y_dim=dim, t=1, mu=4)\n",
    "black_box_block_bloq = LCUBlockEncoding(select=select, prepare=prepare)"
   ]
  },
  {
   "cell_type": "markdown",
   "id": "cb3538d3",
   "metadata": {
    "cq.autogen": "LCUBlockEncoding.graphical_signature.md"
   },
   "source": [
    "#### Graphical Signature"
   ]
  },
  {
   "cell_type": "code",
   "execution_count": null,
   "id": "b6354639",
   "metadata": {
    "cq.autogen": "LCUBlockEncoding.graphical_signature.py"
   },
   "outputs": [],
   "source": [
    "from qualtran.drawing import show_bloqs\n",
    "show_bloqs([black_box_block_bloq],\n",
    "           ['`black_box_block_bloq`'])"
   ]
  },
  {
   "cell_type": "markdown",
   "id": "09bb24fc",
   "metadata": {
    "cq.autogen": "LCUBlockEncoding.call_graph.md"
   },
   "source": [
    "### Call Graph"
   ]
  },
  {
   "cell_type": "code",
   "execution_count": null,
   "id": "fc3c71be",
   "metadata": {
    "cq.autogen": "LCUBlockEncoding.call_graph.py"
   },
   "outputs": [],
   "source": [
    "from qualtran.resource_counting.generalizers import ignore_split_join\n",
    "black_box_block_bloq_g, black_box_block_bloq_sigma = black_box_block_bloq.call_graph(max_depth=1, generalizer=ignore_split_join)\n",
    "show_call_graph(black_box_block_bloq_g)\n",
    "show_counts_sigma(black_box_block_bloq_sigma)"
   ]
  },
  {
   "cell_type": "markdown",
   "id": "2ed5cb18",
   "metadata": {
    "cq.autogen": "ChebyshevPolynomial.bloq_doc.md"
   },
   "source": [
    "## `ChebyshevPolynomial`\n",
    "Block encoding of $T_j[H]$ where $T_j$ is the $j$-th Chebyshev polynomial.\n",
    "\n",
    "Here H is a Hamiltonian with spectral norm $|H| \\le 1$, we assume we have\n",
    "an $n_L$ qubit ancilla register, and assume that $j > 0$ to avoid block\n",
    "encoding the identity operator.\n",
    "\n",
    "Recall:\n",
    "\n",
    "\\begin{align*}\n",
    "    T_0[H] &= \\mathbb{1} \\\\\n",
    "    T_1[H] &= H \\\\\n",
    "    T_2[H] &= 2 H^2 - \\mathbb{1} \\\\\n",
    "    T_3[H] &= 4 H^3 - 3 H \\\\\n",
    "    &\\dots\n",
    "\\end{align*}\n",
    "\n",
    "#### Parameters\n",
    " - `block_encoding`: Block encoding of a Hamiltonian $H$, $\\mathcal{B}[H]$.\n",
    " - `order`: order of Chebychev polynomial. \n",
    "\n",
    "#### References\n",
    " - [Quantum computing enhanced computational catalysis](https://arxiv.org/abs/2007.14460).     Page 45; Theorem 1.\n"
   ]
  },
  {
   "cell_type": "code",
   "execution_count": null,
   "id": "721cad00",
   "metadata": {
    "cq.autogen": "ChebyshevPolynomial.bloq_doc.py"
   },
   "outputs": [],
   "source": [
    "from qualtran.bloqs.block_encoding import ChebyshevPolynomial"
   ]
  },
  {
   "cell_type": "markdown",
   "id": "5bc78942",
   "metadata": {
    "cq.autogen": "ChebyshevPolynomial.example_instances.md"
   },
   "source": [
    "### Example Instances"
   ]
  },
  {
   "cell_type": "code",
   "execution_count": null,
   "id": "8af92b76",
   "metadata": {
    "cq.autogen": "ChebyshevPolynomial.chebyshev_poly"
   },
   "outputs": [],
   "source": [
    "from qualtran.bloqs.block_encoding import LCUBlockEncoding\n",
    "from qualtran.bloqs.hubbard_model import PrepareHubbard, SelectHubbard\n",
    "\n",
    "dim = 3\n",
    "select = SelectHubbard(x_dim=dim, y_dim=dim)\n",
    "prepare = PrepareHubbard(x_dim=dim, y_dim=dim, t=1, mu=4)\n",
    "black_box_block_bloq = LCUBlockEncoding(select=select, prepare=prepare)\n",
    "chebyshev_poly = ChebyshevPolynomial(black_box_block_bloq, order=3)"
   ]
  },
  {
   "cell_type": "markdown",
   "id": "c8dc645a",
   "metadata": {
    "cq.autogen": "ChebyshevPolynomial.graphical_signature.md"
   },
   "source": [
    "#### Graphical Signature"
   ]
  },
  {
   "cell_type": "code",
   "execution_count": null,
   "id": "50b2e9c7",
   "metadata": {
    "cq.autogen": "ChebyshevPolynomial.graphical_signature.py"
   },
   "outputs": [],
   "source": [
    "from qualtran.drawing import show_bloqs\n",
    "show_bloqs([chebyshev_poly],\n",
    "           ['`chebyshev_poly`'])"
   ]
  },
  {
   "cell_type": "markdown",
   "id": "8abadaed",
   "metadata": {
    "cq.autogen": "ChebyshevPolynomial.call_graph.md"
   },
   "source": [
    "### Call Graph"
   ]
  },
  {
   "cell_type": "code",
   "execution_count": null,
   "id": "8209eb98",
   "metadata": {
    "cq.autogen": "ChebyshevPolynomial.call_graph.py"
   },
   "outputs": [],
   "source": [
    "from qualtran.resource_counting.generalizers import ignore_split_join\n",
    "chebyshev_poly_g, chebyshev_poly_sigma = chebyshev_poly.call_graph(max_depth=1, generalizer=ignore_split_join)\n",
    "show_call_graph(chebyshev_poly_g)\n",
    "show_counts_sigma(chebyshev_poly_sigma)"
   ]
  }
 ],
 "metadata": {
  "kernelspec": {
   "display_name": "Python 3",
   "language": "python",
   "name": "python3"
  },
  "language_info": {
   "name": "python"
  }
 },
 "nbformat": 4,
 "nbformat_minor": 5
}
