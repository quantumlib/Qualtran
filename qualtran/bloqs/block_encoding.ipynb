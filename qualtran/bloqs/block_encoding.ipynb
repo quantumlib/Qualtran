{
 "cells": [
  {
   "cell_type": "markdown",
   "id": "774a1b4a",
   "metadata": {
    "cq.autogen": "title_cell"
   },
   "source": [
    "# Block Encoding\n",
    "\n",
    "High level bloqs for defining bloq encodings and operations on block encodings.\n",
    "\n",
    "Given an operator $V$ which can be expressed as a linear combination of unitaries\n",
    "\n",
    "$$\n",
    "    V = \\sum_l^L w_l U_l,\n",
    "$$\n",
    "where $w_l \\ge 0$, $w_l \\in \\mathbb{R}$, and $U_l$ is a unitary, then the block\n",
    "encoding $\\mathcal{B}\\left[\\frac{V}{\\lambda}\\right]$ satisifies\n",
    "$$\n",
    "    _a\\langle 0| \\mathcal{B}\\left[\\frac{V}{\\lambda}\\right] |0\\rangle_a\n",
    "    |\\psi\\rangle_s = \\frac{V}{\\lambda}|\\psi\\rangle_s\n",
    "$$\n",
    "where the subscripts $a$ and $s$ signify ancilla and system registers\n",
    "respectively, and $\\lambda = \\sum_l w_l$. The ancilla register is at least of size $\\log L$. In our\n",
    "implementations we typically split the ancilla registers into selection registers (i.e.\n",
    "the $l$ registers above) and junk registers which are extra qubits needed by\n",
    "state preparation but not controlled upon during SELECT."
   ]
  },
  {
   "cell_type": "code",
   "execution_count": null,
   "id": "b4bc97c7",
   "metadata": {
    "cq.autogen": "top_imports"
   },
   "outputs": [],
   "source": [
    "from qualtran import Bloq, CompositeBloq, BloqBuilder, Signature, Register\n",
    "from qualtran.drawing import show_bloq, show_call_graph, show_counts_sigma\n",
    "from typing import *\n",
    "import numpy as np\n",
    "import cirq"
   ]
  },
  {
   "cell_type": "markdown",
   "id": "1b5bfa35",
   "metadata": {
    "cq.autogen": "BlackBoxBlockEncoding.bloq_doc.md"
   },
   "source": [
    "## `BlackBoxBlockEncoding`\n",
    "Black box implementation of a block encoding using SELECT and PREPARE.\n",
    "\n",
    "Builds the block encoding via\n",
    "$$\n",
    "    \\mathcal{B}[V] = \\mathrm{PREPARE}^\\dagger \\cdot \\mathrm{SELECT} \\cdot \\mathrm{PREPARE},\n",
    "$$\n",
    "where\n",
    "$$\n",
    "    \\mathrm{PREPARE} |0\\rangle_a = \\sum_l \\sqrt{\\frac{w_l}{\\lambda}} |l\\rangle_a,\n",
    "$$\n",
    "and\n",
    "$$\n",
    "    \\mathrm{SELECT} |l\\rangle_a|\\psi\\rangle_s = |l\\rangle_a U_l |\\psi\\rangle_s.\n",
    "$$\n",
    "\n",
    "#### Parameters\n",
    " - `select`: The bloq implementing the `SelectOracle` interface.\n",
    " - `prepare`: The bloq implementing the `SelectOracle` interface. \n",
    "\n",
    "#### Registers\n",
    " - `selection`: The combined selection register\n",
    " - `system`: The combined system register\n",
    " - `adjoint`: Whether to dagger this bloq or not. \n",
    "\n",
    "#### Registers\n",
    " - `selection`: selection register.\n",
    " - `junk`: Additional junk registers not prepared upon.\n",
    " - `system`: The combined system register\n"
   ]
  },
  {
   "cell_type": "code",
   "execution_count": null,
   "id": "0d0e1f95",
   "metadata": {
    "cq.autogen": "BlackBoxBlockEncoding.bloq_doc.py"
   },
   "outputs": [],
   "source": [
    "from qualtran.bloqs.block_encoding import BlackBoxBlockEncoding"
   ]
  },
  {
   "cell_type": "markdown",
   "id": "ba37811d",
   "metadata": {
    "cq.autogen": "BlackBoxBlockEncoding.example_instances.md"
   },
   "source": [
    "### Example Instances"
   ]
  },
  {
   "cell_type": "code",
   "execution_count": null,
   "id": "38a4e1fc",
   "metadata": {
    "cq.autogen": "BlackBoxBlockEncoding.black_box_block_bloq"
   },
   "outputs": [],
   "source": [
    "from qualtran.bloqs.block_encoding import BlackBoxPrepare, BlackBoxSelect\n",
    "from qualtran.bloqs.hubbard_model import PrepareHubbard, SelectHubbard\n",
    "\n",
    "select = BlackBoxSelect(SelectHubbard(2, 2))\n",
    "prepare = BlackBoxPrepare(PrepareHubbard(2, 2, 1, 4))\n",
    "black_box_block_bloq = BlackBoxBlockEncoding(select=select, prepare=prepare)"
   ]
  },
  {
   "cell_type": "markdown",
   "id": "fafa7659",
   "metadata": {
    "cq.autogen": "BlackBoxBlockEncoding.graphical_signature.md"
   },
   "source": [
    "#### Graphical Signature"
   ]
  },
  {
   "cell_type": "code",
   "execution_count": null,
   "id": "4e0223af",
   "metadata": {
    "cq.autogen": "BlackBoxBlockEncoding.graphical_signature.py"
   },
   "outputs": [],
   "source": [
    "from qualtran.drawing import show_bloqs\n",
    "show_bloqs([black_box_block_bloq],\n",
    "           ['`black_box_block_bloq`'])"
   ]
  },
  {
   "cell_type": "markdown",
   "id": "8664826d",
   "metadata": {
    "cq.autogen": "BlackBoxBlockEncoding.call_graph.md"
   },
   "source": [
    "### Call Graph"
   ]
  },
  {
   "cell_type": "code",
   "execution_count": null,
   "id": "fdb0d03b",
   "metadata": {
    "cq.autogen": "BlackBoxBlockEncoding.call_graph.py"
   },
   "outputs": [],
   "source": [
    "black_box_block_bloq_g, black_box_block_bloq_sigma = black_box_block_bloq.call_graph()\n",
    "show_call_graph(black_box_block_bloq_g)\n",
    "show_counts_sigma(black_box_block_bloq_sigma)"
   ]
  }
 ],
 "metadata": {
  "kernelspec": {
   "display_name": "Python 3",
   "language": "python",
   "name": "python3"
  },
  "language_info": {
   "codemirror_mode": {
    "name": "ipython",
    "version": 3
   },
   "file_extension": ".py",
   "mimetype": "text/x-python",
   "name": "python",
   "nbconvert_exporter": "python",
   "pygments_lexer": "ipython3",
   "version": "3.11.5"
  }
 },
 "nbformat": 4,
 "nbformat_minor": 5
}
