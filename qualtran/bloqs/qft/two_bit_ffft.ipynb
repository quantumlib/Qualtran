{
 "cells": [
  {
   "cell_type": "markdown",
   "id": "bdada8fc",
   "metadata": {
    "cq.autogen": "title_cell"
   },
   "source": [
    "# Two Bit FFFT Gate"
   ]
  },
  {
   "cell_type": "code",
   "execution_count": null,
   "id": "bb23a892",
   "metadata": {
    "cq.autogen": "top_imports"
   },
   "outputs": [],
   "source": [
    "from qualtran import Bloq, CompositeBloq, BloqBuilder, Signature, Register\n",
    "from qualtran import QBit, QInt, QUInt, QAny\n",
    "from qualtran.drawing import show_bloq, show_call_graph, show_counts_sigma\n",
    "from typing import *\n",
    "import numpy as np\n",
    "import sympy\n",
    "import cirq"
   ]
  },
  {
   "cell_type": "markdown",
   "id": "a8f385c4",
   "metadata": {
    "cq.autogen": "TwoBitFFFT.bloq_doc.md"
   },
   "source": [
    "## `TwoBitFFFT`\n",
    "Two-qubit fermionic Fourier transform gate.\n",
    "\n",
    "#### Parameters\n",
    " - `k`: An integer.\n",
    " - `n`: The number of qubits the FFFT acts on.\n",
    " - `eps`: The rotation precision.\n",
    " - `is_adjoint`: If True, this bloq is $F^\\dagger$ instead. \n",
    "\n",
    "#### References\n",
    " - [Improved Fault-Tolerant Quantum Simulation of Condensed-Phase Correlated Electrons     via Trotterization](https://arxiv.org/abs/1902.10673). Eq 32 and Figure 8.\n"
   ]
  },
  {
   "cell_type": "code",
   "execution_count": null,
   "id": "862ad002",
   "metadata": {
    "cq.autogen": "TwoBitFFFT.bloq_doc.py"
   },
   "outputs": [],
   "source": [
    "from qualtran.bloqs.qft.two_bit_ffft import TwoBitFFFT"
   ]
  },
  {
   "cell_type": "markdown",
   "id": "d38e3e4f",
   "metadata": {
    "cq.autogen": "TwoBitFFFT.example_instances.md"
   },
   "source": [
    "### Example Instances"
   ]
  },
  {
   "cell_type": "code",
   "execution_count": null,
   "id": "d82d1373",
   "metadata": {
    "cq.autogen": "TwoBitFFFT.two_bit_ffft"
   },
   "outputs": [],
   "source": [
    "two_bit_ffft = TwoBitFFFT(2, 3)"
   ]
  },
  {
   "cell_type": "markdown",
   "id": "d8a93b71",
   "metadata": {
    "cq.autogen": "TwoBitFFFT.graphical_signature.md"
   },
   "source": [
    "#### Graphical Signature"
   ]
  },
  {
   "cell_type": "code",
   "execution_count": null,
   "id": "44f9a63a",
   "metadata": {
    "cq.autogen": "TwoBitFFFT.graphical_signature.py"
   },
   "outputs": [],
   "source": [
    "from qualtran.drawing import show_bloqs\n",
    "show_bloqs([two_bit_ffft],\n",
    "           ['`two_bit_ffft`'])"
   ]
  },
  {
   "cell_type": "markdown",
   "id": "873411f0",
   "metadata": {
    "cq.autogen": "TwoBitFFFT.call_graph.md"
   },
   "source": [
    "### Call Graph"
   ]
  },
  {
   "cell_type": "code",
   "execution_count": null,
   "id": "1cf91797",
   "metadata": {
    "cq.autogen": "TwoBitFFFT.call_graph.py"
   },
   "outputs": [],
   "source": [
    "from qualtran.resource_counting.generalizers import ignore_split_join\n",
    "two_bit_ffft_g, two_bit_ffft_sigma = two_bit_ffft.call_graph(max_depth=1, generalizer=ignore_split_join)\n",
    "show_call_graph(two_bit_ffft_g)\n",
    "show_counts_sigma(two_bit_ffft_sigma)"
   ]
  }
 ],
 "metadata": {
  "kernelspec": {
   "display_name": "Python 3",
   "language": "python",
   "name": "python3"
  },
  "language_info": {
   "name": "python"
  }
 },
 "nbformat": 4,
 "nbformat_minor": 5
}
