{
 "cells": [
  {
   "cell_type": "markdown",
   "id": "a51ebafc",
   "metadata": {
    "cq.autogen": "title_cell"
   },
   "source": [
    "# Approximate QFT"
   ]
  },
  {
   "cell_type": "code",
   "execution_count": null,
   "id": "01b76cf0",
   "metadata": {
    "cq.autogen": "top_imports"
   },
   "outputs": [],
   "source": [
    "from qualtran import Bloq, CompositeBloq, BloqBuilder, Signature, Register\n",
    "from qualtran import QBit, QInt, QUInt, QAny\n",
    "from qualtran.drawing import show_bloq, show_call_graph, show_counts_sigma\n",
    "from typing import *\n",
    "import numpy as np\n",
    "import sympy\n",
    "import cirq"
   ]
  },
  {
   "cell_type": "markdown",
   "id": "7aba7270",
   "metadata": {
    "cq.autogen": "ApproximateQFT.bloq_doc.md"
   },
   "source": [
    "## `ApproximateQFT`\n",
    "An approximate QFT in which phase shifts smaller than a certain threshold are deleted.\n",
    "\n",
    "Given a b-bit phase gradient state $|\\phi\\rangle$ prepared as\n",
    "\n",
    "$$\n",
    "    |\\phi\\rangle = \\frac{1}{\\sqrt{2^{b}}} \\sum_{k=0}^{2^{b} - 1} \\omega_{b}^{-k} |k\\rangle\n",
    "$$\n",
    "\n",
    "Phase gradient rotations can be synthesized via additions into the phase gradient register.\n",
    "This leads to significant reductions in T/Toffoli complexity and requires 0 arbitrary\n",
    "rotations (given a one-time cost to prepare the gradient register). See the linked reference\n",
    "for more details.\n",
    "\n",
    "The QFT uses exponentially small z-power gates. In practice, it is often sufficient to perform\n",
    "an approximate qft, where z-power gates smaller than a certain threshold are dropped. When using\n",
    "the \"add into phase-gradient trick\", this amounts to doing smaller additions with a smaller\n",
    "phase gradient register.\n",
    "\n",
    "#### Parameters\n",
    " - `bitsize`: Size of input register to apply QFT on.\n",
    " - `phase_bitsize`: The size of the phase gradient register. Defaults to being math.ceil(math.log2(bitsize)).\n",
    " - `with_reverse`: Whether or not to include the swaps at the end of the circuit decomposition that reverse the order of the qubits. If True, the swaps are inserted. Defaults to True. These are technically necessary in order to perform the correct effect, but can almost always be optimized away by just performing later operations on different qubits. \n",
    "\n",
    "#### References\n",
    " - [Turning Gradients into Additions into QFTs](https://algassert.com/post/1620). Gidney, C. 2016.\n",
    " - [Approximation Errors](https://arxiv.org/abs/quant-ph/0008056). Panike, N. 2000.\n"
   ]
  },
  {
   "cell_type": "code",
   "execution_count": null,
   "id": "33e7066d",
   "metadata": {
    "cq.autogen": "ApproximateQFT.bloq_doc.py"
   },
   "outputs": [],
   "source": [
    "from qualtran.bloqs.qft.approximate_qft import ApproximateQFT"
   ]
  },
  {
   "cell_type": "markdown",
   "id": "1a671529",
   "metadata": {
    "cq.autogen": "ApproximateQFT.example_instances.md"
   },
   "source": [
    "### Example Instances"
   ]
  },
  {
   "cell_type": "code",
   "execution_count": null,
   "id": "bf4ea035",
   "metadata": {
    "cq.autogen": "ApproximateQFT.approximate_qft_small"
   },
   "outputs": [],
   "source": [
    "approximate_qft_small = ApproximateQFT(6, 5)"
   ]
  },
  {
   "cell_type": "code",
   "execution_count": null,
   "id": "4ceb3153",
   "metadata": {
    "cq.autogen": "ApproximateQFT.approximate_qft_from_epsilon"
   },
   "outputs": [],
   "source": [
    "epsilon = 1e-5\n",
    "approximate_qft_from_epsilon = ApproximateQFT.from_epsilon(50, epsilon)"
   ]
  },
  {
   "cell_type": "markdown",
   "id": "37c030d1",
   "metadata": {
    "cq.autogen": "ApproximateQFT.graphical_signature.md"
   },
   "source": [
    "#### Graphical Signature"
   ]
  },
  {
   "cell_type": "code",
   "execution_count": null,
   "id": "809692b7",
   "metadata": {
    "cq.autogen": "ApproximateQFT.graphical_signature.py"
   },
   "outputs": [],
   "source": [
    "from qualtran.drawing import show_bloqs\n",
    "show_bloqs([approximate_qft_small, approximate_qft_from_epsilon],\n",
    "           ['`approximate_qft_small`', '`approximate_qft_from_epsilon`'])"
   ]
  },
  {
   "cell_type": "markdown",
   "id": "23fc1278",
   "metadata": {
    "cq.autogen": "ApproximateQFT.call_graph.md"
   },
   "source": [
    "### Call Graph"
   ]
  },
  {
   "cell_type": "code",
   "execution_count": null,
   "id": "bc42b5b7",
   "metadata": {
    "cq.autogen": "ApproximateQFT.call_graph.py"
   },
   "outputs": [],
   "source": [
    "from qualtran.resource_counting.generalizers import ignore_split_join\n",
    "approximate_qft_small_g, approximate_qft_small_sigma = approximate_qft_small.call_graph(max_depth=1, generalizer=ignore_split_join)\n",
    "show_call_graph(approximate_qft_small_g)\n",
    "show_counts_sigma(approximate_qft_small_sigma)"
   ]
  },
  {
   "cell_type": "markdown",
   "id": "c87a398e",
   "metadata": {
    "collapsed": false,
    "jupyter": {
     "outputs_hidden": false
    }
   },
   "source": [
    "## Approximate QFT Cost analysis\n",
    "### T-Count Expression for `ApproximateQFT`"
   ]
  },
  {
   "cell_type": "code",
   "execution_count": null,
   "id": "ddccb6b7",
   "metadata": {
    "collapsed": false,
    "jupyter": {
     "outputs_hidden": false
    }
   },
   "outputs": [],
   "source": [
    "from qualtran.resource_counting.t_counts_from_sigma import t_counts_from_sigma\n",
    "\n",
    "def get_t_counts_aqft(n, eps):\n",
    "    _, sigma = ApproximateQFT.from_epsilon(n, eps).call_graph()\n",
    "    return t_counts_from_sigma(sigma)\n",
    "\n",
    "get_t_counts_aqft(*sympy.symbols('n, \\epsilon'))"
   ]
  }
 ],
 "metadata": {
  "kernelspec": {
   "display_name": "Python 3 (ipykernel)",
   "language": "python",
   "name": "python3"
  },
  "language_info": {
   "codemirror_mode": {
    "name": "ipython",
    "version": 3
   },
   "file_extension": ".py",
   "mimetype": "text/x-python",
   "name": "python",
   "nbconvert_exporter": "python",
   "pygments_lexer": "ipython3",
   "version": "3.11.4"
  }
 },
 "nbformat": 4,
 "nbformat_minor": 5
}
