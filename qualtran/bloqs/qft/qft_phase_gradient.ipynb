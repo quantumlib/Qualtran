{
 "cells": [
  {
   "cell_type": "markdown",
   "id": "f5f7b6eb",
   "metadata": {
    "cq.autogen": "title_cell"
   },
   "source": [
    "# Phase Gradient QFT"
   ]
  },
  {
   "cell_type": "code",
   "execution_count": null,
   "id": "e59e16a4",
   "metadata": {
    "cq.autogen": "top_imports"
   },
   "outputs": [],
   "source": [
    "from qualtran import Bloq, CompositeBloq, BloqBuilder, Signature, Register\n",
    "from qualtran import QBit, QInt, QUInt, QAny\n",
    "from qualtran.drawing import show_bloq, show_call_graph, show_counts_sigma\n",
    "from typing import *\n",
    "import numpy as np\n",
    "import sympy\n",
    "import cirq"
   ]
  },
  {
   "cell_type": "markdown",
   "id": "a576d89e",
   "metadata": {
    "cq.autogen": "QFTPhaseGradient.bloq_doc.md"
   },
   "source": [
    "## `QFTPhaseGradient`\n",
    "QFT implemented using coherent addition into a phase gradient register\n",
    "\n",
    " A variant of the Quantum Fourier Transform (QFT) that utilizes an additional register provided\n",
    " in a phase gradient state to switch controlled rotations to coherent additions. Given an\n",
    " ancilla register prepared in the state\n",
    "$$\n",
    "    \\frac{1}{\\sqrt{2^{n}}} \\sum_{k=0}^{2^{n} - 1} \\omega_{n}^{-k} |k\\rangle,\n",
    "$$\n",
    "then coherent addition from the system into the ancilla applies the same phase that the\n",
    "controlled rotation in textbook QFT does. This reduces the number of T-gates to $O(n^2)$\n",
    "and requires no additional arbitrary rotations beyond the one time ancilla preparation cost.\n",
    "\n",
    "The size of the ancilla register is important, if the ancilla has less\n",
    "qubits than the system register then the accuracy of the QFT applied will be\n",
    "reduced. This implementation assumes an ancilla with `bitsize` qubits. See `ApproximateQFT` for\n",
    "an implementation or the linked reference for details.\n",
    "\n",
    "#### Parameters\n",
    " - `bitsize`: Size of input register to apply QFT on.\n",
    " - `with_reverse`: Whether or not to include the swaps at the end of the circuit decomposition that reverse the order of the qubits. If True, the swaps are inserted. Defaults to True. These are technically necessary in order to perform the correct effect, but can almost always be optimized away by just performing later operations on different qubits. \n",
    "\n",
    "#### Registers\n",
    " - `q`: The register to perform the QFT on.\n",
    " - `phase_grad`: An ancilla register assumed to be prepared in a phase gradient state. See `qualtran/bloqs/rotations/phase_gradient` for more information on how to prepare these states. \n",
    "\n",
    "Costs:\n",
    "    Qubits: Requires $2n$ qubits, $n$ for the register the QFT is performed on and $n$ for the\n",
    "        phase gradient ancilla. No additional qubits are allocated.\n",
    "    T gates: $O(n^2)$, based on the approximation for `PlusEqualsProduct`\n",
    "\n",
    "#### References\n",
    " - [Turning Gradients into Additions into QFTs](https://algassert.com/post/1620). \n"
   ]
  },
  {
   "cell_type": "code",
   "execution_count": null,
   "id": "ac366e73",
   "metadata": {
    "cq.autogen": "QFTPhaseGradient.bloq_doc.py"
   },
   "outputs": [],
   "source": [
    "from qualtran.bloqs.qft import QFTPhaseGradient"
   ]
  },
  {
   "cell_type": "markdown",
   "id": "a263029e",
   "metadata": {
    "cq.autogen": "QFTPhaseGradient.example_instances.md"
   },
   "source": [
    "### Example Instances"
   ]
  },
  {
   "cell_type": "code",
   "execution_count": null,
   "id": "4fbea763",
   "metadata": {
    "cq.autogen": "QFTPhaseGradient.qft_phase_gradient_small"
   },
   "outputs": [],
   "source": [
    "qft_phase_gradient_small = QFTPhaseGradient(3)"
   ]
  },
  {
   "cell_type": "markdown",
   "id": "7771a2aa",
   "metadata": {
    "cq.autogen": "QFTPhaseGradient.graphical_signature.md"
   },
   "source": [
    "#### Graphical Signature"
   ]
  },
  {
   "cell_type": "code",
   "execution_count": null,
   "id": "eff00465",
   "metadata": {
    "cq.autogen": "QFTPhaseGradient.graphical_signature.py"
   },
   "outputs": [],
   "source": [
    "from qualtran.drawing import show_bloqs\n",
    "show_bloqs([qft_phase_gradient_small],\n",
    "           ['`qft_phase_gradient_small`'])"
   ]
  },
  {
   "cell_type": "markdown",
   "id": "3b2f69c8",
   "metadata": {
    "cq.autogen": "QFTPhaseGradient.call_graph.md"
   },
   "source": [
    "### Call Graph"
   ]
  },
  {
   "cell_type": "code",
   "execution_count": null,
   "id": "cad50d97",
   "metadata": {
    "cq.autogen": "QFTPhaseGradient.call_graph.py"
   },
   "outputs": [],
   "source": [
    "from qualtran.resource_counting.generalizers import ignore_split_join\n",
    "qft_phase_gradient_small_g, qft_phase_gradient_small_sigma = qft_phase_gradient_small.call_graph(max_depth=1, generalizer=ignore_split_join)\n",
    "show_call_graph(qft_phase_gradient_small_g)\n",
    "show_counts_sigma(qft_phase_gradient_small_sigma)"
   ]
  }
 ],
 "metadata": {
  "kernelspec": {
   "display_name": "Python 3",
   "language": "python",
   "name": "python3"
  },
  "language_info": {
   "name": "python"
  }
 },
 "nbformat": 4,
 "nbformat_minor": 5
}
