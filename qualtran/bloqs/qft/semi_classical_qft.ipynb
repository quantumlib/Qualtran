{
 "cells": [
  {
   "cell_type": "markdown",
   "id": "de9c5ff4",
   "metadata": {
    "cq.autogen": "title_cell"
   },
   "source": [
    "# Semi-Classical QFT"
   ]
  },
  {
   "cell_type": "code",
   "execution_count": null,
   "id": "70368002",
   "metadata": {
    "cq.autogen": "top_imports"
   },
   "outputs": [],
   "source": [
    "from qualtran import Bloq, CompositeBloq, BloqBuilder, Signature, Register\n",
    "from qualtran import QBit, QInt, QUInt, QAny\n",
    "from qualtran.drawing import show_bloq, show_call_graph, show_counts_sigma\n",
    "from typing import *\n",
    "import numpy as np\n",
    "import sympy\n",
    "import cirq"
   ]
  },
  {
   "cell_type": "markdown",
   "id": "f7a1c4c5",
   "metadata": {
    "cq.autogen": "SemiClassicalQFT.bloq_doc.md"
   },
   "source": [
    "## `SemiClassicalQFT`\n",
    "Represents QFT followed by measurement.\n",
    "\n",
    "When QFT is followed by measurement, we can replace all two qubit gates with classically\n",
    "controlled Rz rotations (at most $n-1$ Rz rotations). The two structures (QFT + Measurement)\n",
    "and SemiClassicaQFT behave statistically the same.\n",
    "\n",
    "\n",
    "#### Registers\n",
    " - `q`: A `QUInt` of `bitsize` qubits on which the QFT is performed and then measured. \n",
    "\n",
    "#### Parameters\n",
    " - `bitsize`: Size of the input register to apply QFT on.\n",
    " - `is_adjoint`: Whether to apply QFT or QFT†. \n",
    "\n",
    "#### References\n",
    " - [Semiclassical Fourier Transform for Quantum Computation, Griffiths & Niu](https://arxiv.org/abs/quant-ph/9511007). \n",
    " - [Implementation of the Semiclassical Quantum Fourier Transform in a Scalable System](https://www.science.org/doi/10.1126/science.1110335). \n",
    " - [stackexchange answer, Gidney](https://quantumcomputing.stackexchange.com/a/23712). \n"
   ]
  },
  {
   "cell_type": "code",
   "execution_count": null,
   "id": "6da027d2",
   "metadata": {
    "cq.autogen": "SemiClassicalQFT.bloq_doc.py"
   },
   "outputs": [],
   "source": [
    "from qualtran.bloqs.qft import SemiClassicalQFT"
   ]
  },
  {
   "cell_type": "markdown",
   "id": "649aaa69",
   "metadata": {
    "cq.autogen": "SemiClassicalQFT.example_instances.md"
   },
   "source": [
    "### Example Instances"
   ]
  },
  {
   "cell_type": "code",
   "execution_count": null,
   "id": "6d39d25c",
   "metadata": {
    "cq.autogen": "SemiClassicalQFT.semi_classical_qft"
   },
   "outputs": [],
   "source": [
    "semi_classical_qft = SemiClassicalQFT(3)"
   ]
  },
  {
   "cell_type": "markdown",
   "id": "c2f31d47",
   "metadata": {
    "cq.autogen": "SemiClassicalQFT.graphical_signature.md"
   },
   "source": [
    "#### Graphical Signature"
   ]
  },
  {
   "cell_type": "code",
   "execution_count": null,
   "id": "3ac8fb19",
   "metadata": {
    "cq.autogen": "SemiClassicalQFT.graphical_signature.py"
   },
   "outputs": [],
   "source": [
    "from qualtran.drawing import show_bloqs\n",
    "show_bloqs([semi_classical_qft],\n",
    "           ['`semi_classical_qft`'])"
   ]
  },
  {
   "cell_type": "markdown",
   "id": "bd0754a1",
   "metadata": {
    "cq.autogen": "SemiClassicalQFT.call_graph.md"
   },
   "source": [
    "### Call Graph"
   ]
  },
  {
   "cell_type": "code",
   "execution_count": null,
   "id": "44d351d0",
   "metadata": {
    "cq.autogen": "SemiClassicalQFT.call_graph.py"
   },
   "outputs": [],
   "source": [
    "from qualtran.resource_counting.generalizers import ignore_split_join\n",
    "semi_classical_qft_g, semi_classical_qft_sigma = semi_classical_qft.call_graph(max_depth=1, generalizer=ignore_split_join)\n",
    "show_call_graph(semi_classical_qft_g)\n",
    "show_counts_sigma(semi_classical_qft_sigma)"
   ]
  }
 ],
 "metadata": {
  "kernelspec": {
   "display_name": "Python 3",
   "language": "python",
   "name": "python3"
  },
  "language_info": {
   "name": "python"
  }
 },
 "nbformat": 4,
 "nbformat_minor": 5
}
