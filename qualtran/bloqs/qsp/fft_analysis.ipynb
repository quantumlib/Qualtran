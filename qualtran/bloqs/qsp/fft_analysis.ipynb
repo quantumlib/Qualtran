{
 "cells": [
  {
   "cell_type": "markdown",
   "id": "0",
   "metadata": {},
   "source": [
    "# Relationship between num_modes and error for real complementary polynomials.\n",
    "\n",
    "This notebook investigates how the error of the fft_complementary_polynomial method changes based on the input parameters. This is used to explain how the default settings for the method were determined."
   ]
  },
  {
   "cell_type": "code",
   "execution_count": null,
   "id": "1",
   "metadata": {},
   "outputs": [],
   "source": [
    "\n",
    "import numpy as np\n",
    "import pytest\n",
    "\n",
    "from qualtran.bloqs.for_testing.matrix_gate import MatrixGate\n",
    "\n",
    "from qualtran.bloqs.qsp.fft_qsp import fft_complementary_polynomial\n",
    "from qualtran.bloqs.qsp.generalized_qsp_test import verify_generalized_qsp\n",
    "from qualtran.linalg.polynomial.qsp_testing import random_qsp_polynomial\n",
    "from numpy.polynomial import Polynomial\n",
    "from typing import Iterable, Iterator, Sequence, Set, Tuple, TYPE_CHECKING, Union\n",
    "from qualtran.symbolics import Shaped\n",
    "\n",
    "import matplotlib.pyplot as plt\n",
    "\n",
    "def check_gqsp_polynomial_pair_on_random_points_on_unit_circle(\n",
    "    P: Union[Sequence[complex], Polynomial, Shaped],\n",
    "    Q: Union[Sequence[complex], Polynomial, Shaped],\n",
    "    *,\n",
    "    random_state: np.random.RandomState,\n",
    "    n_points: int = 1000,\n",
    "):\n",
    "\n",
    "    P = Polynomial(P)\n",
    "    Q = Polynomial(Q)\n",
    "\n",
    "    z = np.exp(random_state.random(size=n_points) * np.pi * 2j)\n",
    "    unity = np.abs(P(z)) ** 2 + np.abs(Q(z)) ** 2\n",
    "    return max(abs(1-unity))\n",
    "\n",
    "def complimentary_polynomial_with_check(\n",
    "    degree: int,  min_modes: int, only_real_coeffs:bool\n",
    "):\n",
    "    random_state = np.random.RandomState(42)\n",
    "    tolerance = 1e-9\n",
    "    P = random_qsp_polynomial(degree, random_state=random_state, only_real_coeffs=only_real_coeffs)\n",
    "    Q = fft_complementary_polynomial(P, tolerance=tolerance, num_modes=min_modes)\n",
    "    if only_real_coeffs:\n",
    "        np.testing.assert_allclose(np.imag(Q), 0, atol=tolerance)\n",
    "    return check_gqsp_polynomial_pair_on_random_points_on_unit_circle(\n",
    "        P, Q, random_state=random_state, n_points=10000\n",
    "    )\n",
    "\n"
   ]
  },
  {
   "cell_type": "code",
   "execution_count": null,
   "id": "2",
   "metadata": {},
   "outputs": [],
   "source": [
    "def complimentary_real_polynomial_error_search():\n",
    "    xyz = []\n",
    "    for deg in range(3,100):\n",
    "        for modes in range(100,300): # Experimentally, at least 9 modes are needed to get an error within a \"ballpark\" tolerance.\n",
    "            result = complimentary_polynomial_with_check(deg, modes, only_real_coeffs=True)\n",
    "            xyz.append([deg, modes, result])\n",
    "    return np.array(xyz)\n",
    "xyz = complimentary_real_polynomial_error_search()\n"
   ]
  },
  {
   "cell_type": "markdown",
   "id": "3",
   "metadata": {},
   "source": [
    "# How does the degree and num_modes relate to a given error cutoff point?"
   ]
  },
  {
   "cell_type": "code",
   "execution_count": null,
   "id": "4",
   "metadata": {},
   "outputs": [],
   "source": [
    "def plot_deg_vs_num_modes(xyz:np.ndarray, tol:float):\n",
    "    good = np.where(xyz[:,2] < tol)\n",
    "    bad = np.where(xyz[:,2] >= tol)\n",
    "    plt.scatter(xyz[good,0], xyz[good,1], c='b')\n",
    "    plt.scatter(xyz[bad,0], xyz[bad,1], c='r')\n",
    "    plt.xlabel(\"degree\")\n",
    "    plt.ylabel(\"modes\")\n",
    "plot_deg_vs_num_modes(xyz,tol = 1e-9)"
   ]
  },
  {
   "cell_type": "markdown",
   "id": "5",
   "metadata": {},
   "source": [
    "The above plot shows that the number of modes needed "
   ]
  },
  {
   "cell_type": "code",
   "execution_count": null,
   "id": "6",
   "metadata": {},
   "outputs": [],
   "source": [
    "def plot_cutoff(xyz:np.ndarray, tol:float)->np.ndarray:\n",
    "    results = []\n",
    "    max_modes_in_dataset = np.max(xyz[:,1])\n",
    "\n",
    "    for deg in set(xyz[:,0]):\n",
    "        try:\n",
    "            points_at_deg = xyz[np.where(xyz[:,0] == deg)]\n",
    "            bad_points_at_deg = points_at_deg[np.where(points_at_deg[:,2] >= tol)]\n",
    "            needed_modes = np.max(bad_points_at_deg[:,1])\n",
    "            # We first make sure that we don't reach the maximum. \n",
    "            # We can only see points as high as what is in our dataset xyz.\n",
    "            # Anything that hits the maximum is considered \"off the chart\" \n",
    "            # and is discarded.\n",
    "            if needed_modes < max_modes_in_dataset:\n",
    "                results.append([deg, needed_modes])\n",
    "        except ValueError:\n",
    "            continue\n",
    "    results = np.array(results)\n",
    "    \n",
    "    plt.scatter(results[:,0],results[:,1])\n",
    "    plt.xlabel(\"degrees\")\n",
    "    plt.ylabel(\"min_modes\")\n",
    "    plt.title(\"Cutoffs\")\n",
    "    plt.show()\n",
    "    return results\n",
    "cutoffs = plot_cutoff(xyz,tol = 1e-9)\n"
   ]
  },
  {
   "cell_type": "markdown",
   "id": "7",
   "metadata": {},
   "source": [
    "It appears that the leftmost curve (going up to degree 35) remains consistent before noisiness takes over. This curve could likely be used as a conservative estimate for the number of modes needed."
   ]
  },
  {
   "cell_type": "code",
   "execution_count": null,
   "id": "8",
   "metadata": {},
   "outputs": [],
   "source": [
    "!pip install scikit-learn"
   ]
  },
  {
   "cell_type": "code",
   "execution_count": null,
   "id": "9",
   "metadata": {},
   "outputs": [],
   "source": [
    "from sklearn.metrics import r2_score \n",
    "def estimate_boundary(cutoffs:np.ndarray):\n",
    "    # We take the first 10 datapoints that form the conservative curve.\n",
    "    x = cutoffs[:,0]\n",
    "    y = cutoffs[:,1]\n",
    "    \n",
    "    # Use linear regression to create a polynomial fit.\n",
    "    coeffs = np.polyfit(x,y,1)\n",
    "    poly = Polynomial(np.flip(coeffs))\n",
    "    print(\"r2_score\",r2_score(y_true=y, y_pred=poly(x)))\n",
    "    print(\"poly:\",poly)\n",
    "    return poly\n",
    "    \n",
    "poly = estimate_boundary(cutoffs)"
   ]
  },
  {
   "cell_type": "markdown",
   "id": "10",
   "metadata": {},
   "source": [
    "As an estimate, we can calculate the needed minimum num_modes given the degree."
   ]
  },
  {
   "cell_type": "markdown",
   "id": "11",
   "metadata": {},
   "source": [
    "# Here we repeat the above process for complex polynomials"
   ]
  },
  {
   "cell_type": "code",
   "execution_count": null,
   "id": "12",
   "metadata": {},
   "outputs": [],
   "source": [
    "def complimentary_complex_polynomial_error_search():\n",
    "    xyz = []\n",
    "    for deg in range(3,100):\n",
    "        for modes in range(100,300): # Experimentally, at least 9 modes are needed to get an error within a \"ballpark\" tolerance.\n",
    "            result = complimentary_polynomial_with_check(deg, modes, only_real_coeffs=False)\n",
    "            xyz.append([deg, modes, result])\n",
    "    return np.array(xyz)\n",
    "xyz_complex = complimentary_complex_polynomial_error_search()\n",
    "plot_deg_vs_num_modes(xyz_complex,tol=1e-9)\n"
   ]
  },
  {
   "cell_type": "code",
   "execution_count": null,
   "id": "13",
   "metadata": {},
   "outputs": [],
   "source": [
    "cutoffs_complex =  plot_cutoff(xyz_complex,tol = 1e-9)\n",
    "poly_complex = estimate_boundary(cutoffs_complex)"
   ]
  },
  {
   "cell_type": "code",
   "execution_count": null,
   "id": "14",
   "metadata": {},
   "outputs": [],
   "source": [
    "poly_complex(100)"
   ]
  }
 ],
 "metadata": {
  "kernelspec": {
   "display_name": "Python 3 (ipykernel)",
   "language": "python",
   "name": "python3"
  },
  "language_info": {
   "codemirror_mode": {
    "name": "ipython",
    "version": 3
   },
   "file_extension": ".py",
   "mimetype": "text/x-python",
   "name": "python",
   "nbconvert_exporter": "python",
   "pygments_lexer": "ipython3",
   "version": "3.10.13"
  }
 },
 "nbformat": 4,
 "nbformat_minor": 5
}
