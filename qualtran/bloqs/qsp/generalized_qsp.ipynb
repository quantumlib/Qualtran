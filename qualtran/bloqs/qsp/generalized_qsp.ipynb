{
 "cells": [
  {
   "cell_type": "markdown",
   "id": "59822098",
   "metadata": {},
   "source": [
    "# Generalized QSP"
   ]
  },
  {
   "cell_type": "markdown",
   "id": "6963c30f339d42de",
   "metadata": {},
   "source": [
    "`GeneralizedQSP` implements the Quantum Eigenvalue Transform on a unitary $U$ using QSP. Given a complex GQSP polynomial $P$ (and its complement $Q$), it implements the unitary:\n",
    "$$U' = \\begin{bmatrix} P(U) & \\cdot \\\\ Q(U) & \\cdot \\end{bmatrix}$$\n",
    "\n",
    "Here, the polynomials $P, Q$ must satisfy the following constraint:\n",
    "\n",
    "$$\\left| P(e^{i\\theta}) \\right|^2 + \\left| Q(e^{i\\theta}) \\right|^2 = 1 ~~\\text{for every}~ \\theta \\in [0, 2\\pi]$$\n",
    "\n",
    "A polynomial $P$ is said to be a GQSP polynomial iff it satisfies $\\left| P(e^{i\\theta}) \\right|^2 \\le 1$ for every $\\theta \\in [0, 2\\pi]$. \n",
    "\n",
    "#### References\n",
    " - [Generalized Quantum Signal Processing](https://arxiv.org/abs/2308.01501).     Motlagh and Wiebe. (2023). Theorem 3; Figure 2; Theorem 6.\n"
   ]
  },
  {
   "cell_type": "code",
   "execution_count": 1,
   "id": "initial_id",
   "metadata": {
    "ExecuteTime": {
     "start_time": "2024-04-01T22:13:41.404554Z"
    },
    "is_executing": true
   },
   "outputs": [
    {
     "name": "stderr",
     "output_type": "stream",
     "text": [
      "/home/anurudh/sources/python-envs/qualtran/lib/python3.11/site-packages/cotengra/hyperoptimizers/hyper.py:34: UserWarning: Couldn't import `kahypar` - skipping from default hyper optimizer and using basic `labels` method instead.\n",
      "  warnings.warn(\n"
     ]
    }
   ],
   "source": [
    "from qualtran.bloqs.qubitization_walk_operator_test import get_walk_operator_for_1d_ising_model\n",
    "from qualtran.bloqs.qsp.generalized_qsp import GeneralizedQSP\n",
    "from qualtran.drawing import show_bloq\n",
    "from qualtran import Bloq, CompositeBloq, BloqBuilder, Signature, Register\n",
    "from qualtran import QBit, QInt, QUInt, QAny\n",
    "from qualtran.drawing import show_bloq, show_call_graph, show_counts_sigma\n",
    "from typing import *\n",
    "import numpy as np\n",
    "import sympy\n",
    "import cirq"
   ]
  },
  {
   "cell_type": "code",
   "execution_count": 2,
   "id": "fe92e1e9225b8026",
   "metadata": {},
   "outputs": [
    {
     "data": {
      "image/svg+xml": [
       "<svg xmlns=\"http://www.w3.org/2000/svg\" xmlns:xlink=\"http://www.w3.org/1999/xlink\" width=\"417pt\" height=\"115pt\" viewBox=\"0.00 0.00 416.50 114.50\">\n",
       "<g id=\"graph0\" class=\"graph\" transform=\"scale(1 1) rotate(0) translate(4 110.5)\">\n",
       "<title>my_graph</title>\n",
       "<polygon fill=\"white\" stroke=\"none\" points=\"-4,4 -4,-110.5 412.5,-110.5 412.5,4 -4,4\"/>\n",
       "<!-- selection_G7 -->\n",
       "<g id=\"node1\" class=\"node\">\n",
       "<title>selection_G7</title>\n",
       "<text text-anchor=\"middle\" x=\"39.88\" y=\"-67.33\" font-family=\"Times,serif\" font-size=\"14.00\">selection</text>\n",
       "</g>\n",
       "<!-- SelectPauliLCU -->\n",
       "<g id=\"node3\" class=\"node\">\n",
       "<title>SelectPauliLCU</title>\n",
       "<polygon fill=\"none\" stroke=\"black\" points=\"116.75,-68 116.75,-86 185.75,-86 185.75,-68 116.75,-68\"/>\n",
       "<text text-anchor=\"start\" x=\"126.88\" y=\"-73.5\" font-family=\"Times,serif\" font-size=\"10.00\">SelectPa..</text>\n",
       "<polygon fill=\"none\" stroke=\"black\" points=\"116.75,-45 116.75,-68 185.75,-68 185.75,-45 116.75,-45\"/>\n",
       "<text text-anchor=\"start\" x=\"119.38\" y=\"-51.7\" font-family=\"Times,serif\" font-size=\"14.00\">selection</text>\n",
       "<polygon fill=\"none\" stroke=\"black\" points=\"116.75,-22 116.75,-45 185.75,-45 185.75,-22 116.75,-22\"/>\n",
       "<text text-anchor=\"start\" x=\"129.12\" y=\"-28.7\" font-family=\"Times,serif\" font-size=\"14.00\">target</text>\n",
       "</g>\n",
       "<!-- selection_G7&#45;&gt;SelectPauliLCU -->\n",
       "<g id=\"edge1\" class=\"edge\">\n",
       "<title>selection_G7:e-&gt;SelectPauliLCU:w</title>\n",
       "<path fill=\"none\" stroke=\"black\" d=\"M79.75,-72C96.52,-72 98.79,-58.6 113.98,-57.13\"/>\n",
       "<ellipse fill=\"black\" stroke=\"black\" cx=\"115.25\" cy=\"-57.07\" rx=\"1\" ry=\"1\"/>\n",
       "<text text-anchor=\"middle\" x=\"98.25\" y=\"-67.25\" font-family=\"Times,serif\" font-size=\"10.00\">3</text>\n",
       "</g>\n",
       "<!-- target_G6 -->\n",
       "<g id=\"node2\" class=\"node\">\n",
       "<title>target_G6</title>\n",
       "<text text-anchor=\"middle\" x=\"39.88\" y=\"-13.32\" font-family=\"Times,serif\" font-size=\"14.00\">target</text>\n",
       "</g>\n",
       "<!-- target_G6&#45;&gt;SelectPauliLCU -->\n",
       "<g id=\"edge2\" class=\"edge\">\n",
       "<title>target_G6:e-&gt;SelectPauliLCU:w</title>\n",
       "<path fill=\"none\" stroke=\"black\" d=\"M70.88,-18C91.32,-18 94.98,-31.63 113.85,-32.9\"/>\n",
       "<ellipse fill=\"black\" stroke=\"black\" cx=\"115.25\" cy=\"-32.95\" rx=\"1\" ry=\"1\"/>\n",
       "<text text-anchor=\"middle\" x=\"98.25\" y=\"-32.25\" font-family=\"Times,serif\" font-size=\"10.00\">4</text>\n",
       "</g>\n",
       "<!-- ReflectionUsingPrepare -->\n",
       "<g id=\"node4\" class=\"node\">\n",
       "<title>ReflectionUsingPrepare</title>\n",
       "<polygon fill=\"none\" stroke=\"black\" points=\"222.75,-88.5 222.75,-106.5 291.75,-106.5 291.75,-88.5 222.75,-88.5\"/>\n",
       "<text text-anchor=\"start\" x=\"235.12\" y=\"-94\" font-family=\"Times,serif\" font-size=\"10.00\">Reflecti..</text>\n",
       "<polygon fill=\"none\" stroke=\"black\" points=\"222.75,-65.5 222.75,-88.5 291.75,-88.5 291.75,-65.5 222.75,-65.5\"/>\n",
       "<text text-anchor=\"start\" x=\"225.38\" y=\"-72.2\" font-family=\"Times,serif\" font-size=\"14.00\">selection</text>\n",
       "</g>\n",
       "<!-- SelectPauliLCU&#45;&gt;ReflectionUsingPrepare -->\n",
       "<g id=\"edge3\" class=\"edge\">\n",
       "<title>SelectPauliLCU:e-&gt;ReflectionUsingPrepare:w</title>\n",
       "<path fill=\"none\" stroke=\"black\" d=\"M185.75,-57C203.42,-57 204.04,-74.87 219.85,-76.83\"/>\n",
       "<ellipse fill=\"black\" stroke=\"black\" cx=\"221.25\" cy=\"-76.91\" rx=\"1\" ry=\"1\"/>\n",
       "<text text-anchor=\"middle\" x=\"204.25\" y=\"-70.25\" font-family=\"Times,serif\" font-size=\"10.00\">3</text>\n",
       "</g>\n",
       "<!-- target_G2 -->\n",
       "<g id=\"node6\" class=\"node\">\n",
       "<title>target_G2</title>\n",
       "<text text-anchor=\"middle\" x=\"368.62\" y=\"-24.32\" font-family=\"Times,serif\" font-size=\"14.00\">target</text>\n",
       "</g>\n",
       "<!-- SelectPauliLCU&#45;&gt;target_G2 -->\n",
       "<g id=\"edge5\" class=\"edge\">\n",
       "<title>SelectPauliLCU:e-&gt;target_G2:w</title>\n",
       "<path fill=\"none\" stroke=\"black\" d=\"M185.75,-33C252.35,-33 269.63,-29.11 334.88,-29\"/>\n",
       "<ellipse fill=\"black\" stroke=\"black\" cx=\"336.13\" cy=\"-29\" rx=\"1\" ry=\"1\"/>\n",
       "<text text-anchor=\"middle\" x=\"257.25\" y=\"-36.25\" font-family=\"Times,serif\" font-size=\"10.00\">4</text>\n",
       "</g>\n",
       "<!-- selection_G5 -->\n",
       "<g id=\"node5\" class=\"node\">\n",
       "<title>selection_G5</title>\n",
       "<text text-anchor=\"middle\" x=\"368.62\" y=\"-78.33\" font-family=\"Times,serif\" font-size=\"14.00\">selection</text>\n",
       "</g>\n",
       "<!-- ReflectionUsingPrepare&#45;&gt;selection_G5 -->\n",
       "<g id=\"edge4\" class=\"edge\">\n",
       "<title>ReflectionUsingPrepare:e-&gt;selection_G5:w</title>\n",
       "<path fill=\"none\" stroke=\"black\" d=\"M291.75,-77C307.37,-77 311.58,-82.27 325.77,-82.93\"/>\n",
       "<ellipse fill=\"black\" stroke=\"black\" cx=\"327.25\" cy=\"-82.97\" rx=\"1\" ry=\"1\"/>\n",
       "<text text-anchor=\"middle\" x=\"310.25\" y=\"-83.25\" font-family=\"Times,serif\" font-size=\"10.00\">3</text>\n",
       "</g>\n",
       "</g>\n",
       "</svg>"
      ],
      "text/plain": [
       "<IPython.core.display.SVG object>"
      ]
     },
     "metadata": {},
     "output_type": "display_data"
    }
   ],
   "source": [
    "U = get_walk_operator_for_1d_ising_model(4, 2e-1)\n",
    "show_bloq(U.decompose_bloq())"
   ]
  },
  {
   "cell_type": "code",
   "execution_count": 3,
   "id": "dc7100fd94d58c6b",
   "metadata": {},
   "outputs": [
    {
     "data": {
      "image/svg+xml": [
       "<svg xmlns=\"http://www.w3.org/2000/svg\" xmlns:xlink=\"http://www.w3.org/1999/xlink\" width=\"449pt\" height=\"159pt\" viewBox=\"0.00 0.00 448.50 158.50\">\n",
       "<g id=\"graph0\" class=\"graph\" transform=\"scale(1 1) rotate(0) translate(4 154.5)\">\n",
       "<title>my_graph</title>\n",
       "<polygon fill=\"white\" stroke=\"none\" points=\"-4,4 -4,-154.5 444.5,-154.5 444.5,4 -4,4\"/>\n",
       "<!-- signal_G9 -->\n",
       "<g id=\"node1\" class=\"node\">\n",
       "<title>signal_G9</title>\n",
       "<text text-anchor=\"middle\" x=\"39.88\" y=\"-121.33\" font-family=\"Times,serif\" font-size=\"14.00\">signal</text>\n",
       "</g>\n",
       "<!-- SU2RotationGate -->\n",
       "<g id=\"node4\" class=\"node\">\n",
       "<title>SU2RotationGate</title>\n",
       "<polygon fill=\"none\" stroke=\"black\" points=\"116.75,-132.5 116.75,-150.5 148.75,-150.5 148.75,-132.5 116.75,-132.5\"/>\n",
       "<text text-anchor=\"start\" x=\"119.62\" y=\"-138\" font-family=\"Times,serif\" font-size=\"10.00\">SU_2</text>\n",
       "<polygon fill=\"none\" stroke=\"black\" points=\"116.75,-109.5 116.75,-132.5 148.75,-132.5 148.75,-109.5 116.75,-109.5\"/>\n",
       "<text text-anchor=\"start\" x=\"128.25\" y=\"-116.2\" font-family=\"Times,serif\" font-size=\"14.00\">q</text>\n",
       "</g>\n",
       "<!-- signal_G9&#45;&gt;SU2RotationGate -->\n",
       "<g id=\"edge1\" class=\"edge\">\n",
       "<title>signal_G9:e-&gt;SU2RotationGate:w</title>\n",
       "<path fill=\"none\" stroke=\"black\" d=\"M69.88,-126C89.84,-126 95.3,-121.46 113.91,-121.03\"/>\n",
       "<ellipse fill=\"black\" stroke=\"black\" cx=\"115.25\" cy=\"-121.02\" rx=\"1\" ry=\"1\"/>\n",
       "<text text-anchor=\"middle\" x=\"98.25\" y=\"-125.25\" font-family=\"Times,serif\" font-size=\"10.00\">1</text>\n",
       "</g>\n",
       "<!-- selection_G7 -->\n",
       "<g id=\"node2\" class=\"node\">\n",
       "<title>selection_G7</title>\n",
       "<text text-anchor=\"middle\" x=\"39.88\" y=\"-67.33\" font-family=\"Times,serif\" font-size=\"14.00\">selection</text>\n",
       "</g>\n",
       "<!-- QubitizationWalkOperator -->\n",
       "<g id=\"node5\" class=\"node\">\n",
       "<title>QubitizationWalkOperator</title>\n",
       "<polygon fill=\"none\" stroke=\"black\" points=\"185.75,-106.5 185.75,-124.5 254.75,-124.5 254.75,-106.5 185.75,-106.5\"/>\n",
       "<text text-anchor=\"start\" x=\"195.88\" y=\"-112\" font-family=\"Times,serif\" font-size=\"10.00\">Qubitiza..</text>\n",
       "<polygon fill=\"none\" stroke=\"black\" points=\"185.75,-83.5 185.75,-106.5 254.75,-106.5 254.75,-83.5 185.75,-83.5\"/>\n",
       "<text text-anchor=\"start\" x=\"195.12\" y=\"-90.2\" font-family=\"Times,serif\" font-size=\"14.00\">control</text>\n",
       "<polygon fill=\"none\" stroke=\"black\" points=\"185.75,-60.5 185.75,-83.5 254.75,-83.5 254.75,-60.5 185.75,-60.5\"/>\n",
       "<text text-anchor=\"start\" x=\"188.38\" y=\"-67.2\" font-family=\"Times,serif\" font-size=\"14.00\">selection</text>\n",
       "<polygon fill=\"none\" stroke=\"black\" points=\"185.75,-37.5 185.75,-60.5 254.75,-60.5 254.75,-37.5 185.75,-37.5\"/>\n",
       "<text text-anchor=\"start\" x=\"198.12\" y=\"-44.2\" font-family=\"Times,serif\" font-size=\"14.00\">target</text>\n",
       "</g>\n",
       "<!-- selection_G7&#45;&gt;QubitizationWalkOperator -->\n",
       "<g id=\"edge3\" class=\"edge\">\n",
       "<title>selection_G7:e-&gt;QubitizationWalkOperator:w</title>\n",
       "<path fill=\"none\" stroke=\"black\" d=\"M79.75,-72C125.85,-72 138.12,-72 182.76,-72\"/>\n",
       "<ellipse fill=\"black\" stroke=\"black\" cx=\"184.25\" cy=\"-72\" rx=\"1\" ry=\"1\"/>\n",
       "<text text-anchor=\"middle\" x=\"132.75\" y=\"-75.25\" font-family=\"Times,serif\" font-size=\"10.00\">3</text>\n",
       "</g>\n",
       "<!-- target_G5 -->\n",
       "<g id=\"node3\" class=\"node\">\n",
       "<title>target_G5</title>\n",
       "<text text-anchor=\"middle\" x=\"39.88\" y=\"-13.32\" font-family=\"Times,serif\" font-size=\"14.00\">target</text>\n",
       "</g>\n",
       "<!-- target_G5&#45;&gt;QubitizationWalkOperator -->\n",
       "<g id=\"edge4\" class=\"edge\">\n",
       "<title>target_G5:e-&gt;QubitizationWalkOperator:w</title>\n",
       "<path fill=\"none\" stroke=\"black\" d=\"M70.88,-18C122.83,-18 132.53,-47.92 183,-48.97\"/>\n",
       "<ellipse fill=\"black\" stroke=\"black\" cx=\"184.25\" cy=\"-48.98\" rx=\"1\" ry=\"1\"/>\n",
       "<text text-anchor=\"middle\" x=\"132.75\" y=\"-45.25\" font-family=\"Times,serif\" font-size=\"10.00\">4</text>\n",
       "</g>\n",
       "<!-- SU2RotationGate&#45;&gt;QubitizationWalkOperator -->\n",
       "<g id=\"edge2\" class=\"edge\">\n",
       "<title>SU2RotationGate:e-&gt;QubitizationWalkOperator:w</title>\n",
       "<path fill=\"none\" stroke=\"black\" d=\"M148.75,-121C167.91,-121 165.9,-97.38 183.07,-95.17\"/>\n",
       "<ellipse fill=\"black\" stroke=\"black\" cx=\"184.25\" cy=\"-95.09\" rx=\"1\" ry=\"1\"/>\n",
       "<text text-anchor=\"middle\" x=\"167.25\" y=\"-111.25\" font-family=\"Times,serif\" font-size=\"10.00\">1</text>\n",
       "</g>\n",
       "<!-- SU2RotationGate_G0 -->\n",
       "<g id=\"node6\" class=\"node\">\n",
       "<title>SU2RotationGate_G0</title>\n",
       "<polygon fill=\"none\" stroke=\"black\" points=\"291.75,-132.5 291.75,-150.5 323.75,-150.5 323.75,-132.5 291.75,-132.5\"/>\n",
       "<text text-anchor=\"start\" x=\"294.62\" y=\"-138\" font-family=\"Times,serif\" font-size=\"10.00\">SU_2</text>\n",
       "<polygon fill=\"none\" stroke=\"black\" points=\"291.75,-109.5 291.75,-132.5 323.75,-132.5 323.75,-109.5 291.75,-109.5\"/>\n",
       "<text text-anchor=\"start\" x=\"303.25\" y=\"-116.2\" font-family=\"Times,serif\" font-size=\"14.00\">q</text>\n",
       "</g>\n",
       "<!-- QubitizationWalkOperator&#45;&gt;SU2RotationGate_G0 -->\n",
       "<g id=\"edge5\" class=\"edge\">\n",
       "<title>QubitizationWalkOperator:e-&gt;SU2RotationGate_G0:w</title>\n",
       "<path fill=\"none\" stroke=\"black\" d=\"M254.75,-95C273.91,-95 271.9,-118.62 289.07,-120.83\"/>\n",
       "<ellipse fill=\"black\" stroke=\"black\" cx=\"290.25\" cy=\"-120.91\" rx=\"1\" ry=\"1\"/>\n",
       "<text text-anchor=\"middle\" x=\"273.25\" y=\"-111.25\" font-family=\"Times,serif\" font-size=\"10.00\">1</text>\n",
       "</g>\n",
       "<!-- selection_G4 -->\n",
       "<g id=\"node8\" class=\"node\">\n",
       "<title>selection_G4</title>\n",
       "<text text-anchor=\"middle\" x=\"400.62\" y=\"-67.33\" font-family=\"Times,serif\" font-size=\"14.00\">selection</text>\n",
       "</g>\n",
       "<!-- QubitizationWalkOperator&#45;&gt;selection_G4 -->\n",
       "<g id=\"edge7\" class=\"edge\">\n",
       "<title>QubitizationWalkOperator:e-&gt;selection_G4:w</title>\n",
       "<path fill=\"none\" stroke=\"black\" d=\"M254.75,-72C300.85,-72 313.12,-72 357.76,-72\"/>\n",
       "<ellipse fill=\"black\" stroke=\"black\" cx=\"359.25\" cy=\"-72\" rx=\"1\" ry=\"1\"/>\n",
       "<text text-anchor=\"middle\" x=\"307.75\" y=\"-75.25\" font-family=\"Times,serif\" font-size=\"10.00\">3</text>\n",
       "</g>\n",
       "<!-- target_G3 -->\n",
       "<g id=\"node9\" class=\"node\">\n",
       "<title>target_G3</title>\n",
       "<text text-anchor=\"middle\" x=\"400.62\" y=\"-13.32\" font-family=\"Times,serif\" font-size=\"14.00\">target</text>\n",
       "</g>\n",
       "<!-- QubitizationWalkOperator&#45;&gt;target_G3 -->\n",
       "<g id=\"edge8\" class=\"edge\">\n",
       "<title>QubitizationWalkOperator:e-&gt;target_G3:w</title>\n",
       "<path fill=\"none\" stroke=\"black\" d=\"M254.75,-49C306.7,-49 316.41,-19.08 366.88,-18.03\"/>\n",
       "<ellipse fill=\"black\" stroke=\"black\" cx=\"368.13\" cy=\"-18.02\" rx=\"1\" ry=\"1\"/>\n",
       "<text text-anchor=\"middle\" x=\"307.75\" y=\"-45.25\" font-family=\"Times,serif\" font-size=\"10.00\">4</text>\n",
       "</g>\n",
       "<!-- signal -->\n",
       "<g id=\"node7\" class=\"node\">\n",
       "<title>signal</title>\n",
       "<text text-anchor=\"middle\" x=\"400.62\" y=\"-121.33\" font-family=\"Times,serif\" font-size=\"14.00\">signal</text>\n",
       "</g>\n",
       "<!-- SU2RotationGate_G0&#45;&gt;signal -->\n",
       "<g id=\"edge6\" class=\"edge\">\n",
       "<title>SU2RotationGate_G0:e-&gt;signal:w</title>\n",
       "<path fill=\"none\" stroke=\"black\" d=\"M323.75,-121C343.72,-121 349.17,-125.54 367.78,-125.97\"/>\n",
       "<ellipse fill=\"black\" stroke=\"black\" cx=\"369.13\" cy=\"-125.98\" rx=\"1\" ry=\"1\"/>\n",
       "<text text-anchor=\"middle\" x=\"342.25\" y=\"-125.25\" font-family=\"Times,serif\" font-size=\"10.00\">1</text>\n",
       "</g>\n",
       "</g>\n",
       "</svg>"
      ],
      "text/plain": [
       "<IPython.core.display.SVG object>"
      ]
     },
     "metadata": {},
     "output_type": "display_data"
    }
   ],
   "source": [
    "pU = GeneralizedQSP(U, (0.5, 0.5), (-0.5, 0.5))\n",
    "show_bloq(pU.decompose_bloq())"
   ]
  },
  {
   "cell_type": "markdown",
   "id": "935a03f7-5843-4b11-abe6-5eb9048c0ab5",
   "metadata": {},
   "source": [
    "There is also a method that directly computes $Q$ from $P$:"
   ]
  },
  {
   "cell_type": "code",
   "execution_count": 4,
   "id": "78cd3857297f092b",
   "metadata": {},
   "outputs": [
    {
     "data": {
      "image/svg+xml": [
       "<svg xmlns=\"http://www.w3.org/2000/svg\" xmlns:xlink=\"http://www.w3.org/1999/xlink\" width=\"624pt\" height=\"159pt\" viewBox=\"0.00 0.00 623.50 158.50\">\n",
       "<g id=\"graph0\" class=\"graph\" transform=\"scale(1 1) rotate(0) translate(4 154.5)\">\n",
       "<title>my_graph</title>\n",
       "<polygon fill=\"white\" stroke=\"none\" points=\"-4,4 -4,-154.5 619.5,-154.5 619.5,4 -4,4\"/>\n",
       "<!-- signal_G17 -->\n",
       "<g id=\"node1\" class=\"node\">\n",
       "<title>signal_G17</title>\n",
       "<text text-anchor=\"middle\" x=\"39.88\" y=\"-121.33\" font-family=\"Times,serif\" font-size=\"14.00\">signal</text>\n",
       "</g>\n",
       "<!-- SU2RotationGate -->\n",
       "<g id=\"node4\" class=\"node\">\n",
       "<title>SU2RotationGate</title>\n",
       "<polygon fill=\"none\" stroke=\"black\" points=\"116.75,-132.5 116.75,-150.5 148.75,-150.5 148.75,-132.5 116.75,-132.5\"/>\n",
       "<text text-anchor=\"start\" x=\"119.62\" y=\"-138\" font-family=\"Times,serif\" font-size=\"10.00\">SU_2</text>\n",
       "<polygon fill=\"none\" stroke=\"black\" points=\"116.75,-109.5 116.75,-132.5 148.75,-132.5 148.75,-109.5 116.75,-109.5\"/>\n",
       "<text text-anchor=\"start\" x=\"128.25\" y=\"-116.2\" font-family=\"Times,serif\" font-size=\"14.00\">q</text>\n",
       "</g>\n",
       "<!-- signal_G17&#45;&gt;SU2RotationGate -->\n",
       "<g id=\"edge1\" class=\"edge\">\n",
       "<title>signal_G17:e-&gt;SU2RotationGate:w</title>\n",
       "<path fill=\"none\" stroke=\"black\" d=\"M69.88,-126C89.84,-126 95.3,-121.46 113.91,-121.03\"/>\n",
       "<ellipse fill=\"black\" stroke=\"black\" cx=\"115.25\" cy=\"-121.02\" rx=\"1\" ry=\"1\"/>\n",
       "<text text-anchor=\"middle\" x=\"98.25\" y=\"-125.25\" font-family=\"Times,serif\" font-size=\"10.00\">1</text>\n",
       "</g>\n",
       "<!-- selection_G15 -->\n",
       "<g id=\"node2\" class=\"node\">\n",
       "<title>selection_G15</title>\n",
       "<text text-anchor=\"middle\" x=\"39.88\" y=\"-67.33\" font-family=\"Times,serif\" font-size=\"14.00\">selection</text>\n",
       "</g>\n",
       "<!-- QubitizationWalkOperator -->\n",
       "<g id=\"node5\" class=\"node\">\n",
       "<title>QubitizationWalkOperator</title>\n",
       "<polygon fill=\"none\" stroke=\"black\" points=\"185.75,-106.5 185.75,-124.5 254.75,-124.5 254.75,-106.5 185.75,-106.5\"/>\n",
       "<text text-anchor=\"start\" x=\"195.88\" y=\"-112\" font-family=\"Times,serif\" font-size=\"10.00\">Qubitiza..</text>\n",
       "<polygon fill=\"none\" stroke=\"black\" points=\"185.75,-83.5 185.75,-106.5 254.75,-106.5 254.75,-83.5 185.75,-83.5\"/>\n",
       "<text text-anchor=\"start\" x=\"195.12\" y=\"-90.2\" font-family=\"Times,serif\" font-size=\"14.00\">control</text>\n",
       "<polygon fill=\"none\" stroke=\"black\" points=\"185.75,-60.5 185.75,-83.5 254.75,-83.5 254.75,-60.5 185.75,-60.5\"/>\n",
       "<text text-anchor=\"start\" x=\"188.38\" y=\"-67.2\" font-family=\"Times,serif\" font-size=\"14.00\">selection</text>\n",
       "<polygon fill=\"none\" stroke=\"black\" points=\"185.75,-37.5 185.75,-60.5 254.75,-60.5 254.75,-37.5 185.75,-37.5\"/>\n",
       "<text text-anchor=\"start\" x=\"198.12\" y=\"-44.2\" font-family=\"Times,serif\" font-size=\"14.00\">target</text>\n",
       "</g>\n",
       "<!-- selection_G15&#45;&gt;QubitizationWalkOperator -->\n",
       "<g id=\"edge3\" class=\"edge\">\n",
       "<title>selection_G15:e-&gt;QubitizationWalkOperator:w</title>\n",
       "<path fill=\"none\" stroke=\"black\" d=\"M79.75,-72C125.85,-72 138.12,-72 182.76,-72\"/>\n",
       "<ellipse fill=\"black\" stroke=\"black\" cx=\"184.25\" cy=\"-72\" rx=\"1\" ry=\"1\"/>\n",
       "<text text-anchor=\"middle\" x=\"132.75\" y=\"-75.25\" font-family=\"Times,serif\" font-size=\"10.00\">3</text>\n",
       "</g>\n",
       "<!-- target_G13 -->\n",
       "<g id=\"node3\" class=\"node\">\n",
       "<title>target_G13</title>\n",
       "<text text-anchor=\"middle\" x=\"39.88\" y=\"-13.32\" font-family=\"Times,serif\" font-size=\"14.00\">target</text>\n",
       "</g>\n",
       "<!-- target_G13&#45;&gt;QubitizationWalkOperator -->\n",
       "<g id=\"edge4\" class=\"edge\">\n",
       "<title>target_G13:e-&gt;QubitizationWalkOperator:w</title>\n",
       "<path fill=\"none\" stroke=\"black\" d=\"M70.88,-18C122.83,-18 132.53,-47.92 183,-48.97\"/>\n",
       "<ellipse fill=\"black\" stroke=\"black\" cx=\"184.25\" cy=\"-48.98\" rx=\"1\" ry=\"1\"/>\n",
       "<text text-anchor=\"middle\" x=\"132.75\" y=\"-45.25\" font-family=\"Times,serif\" font-size=\"10.00\">4</text>\n",
       "</g>\n",
       "<!-- SU2RotationGate&#45;&gt;QubitizationWalkOperator -->\n",
       "<g id=\"edge2\" class=\"edge\">\n",
       "<title>SU2RotationGate:e-&gt;QubitizationWalkOperator:w</title>\n",
       "<path fill=\"none\" stroke=\"black\" d=\"M148.75,-121C167.91,-121 165.9,-97.38 183.07,-95.17\"/>\n",
       "<ellipse fill=\"black\" stroke=\"black\" cx=\"184.25\" cy=\"-95.09\" rx=\"1\" ry=\"1\"/>\n",
       "<text text-anchor=\"middle\" x=\"167.25\" y=\"-111.25\" font-family=\"Times,serif\" font-size=\"10.00\">1</text>\n",
       "</g>\n",
       "<!-- SU2RotationGate_G0 -->\n",
       "<g id=\"node6\" class=\"node\">\n",
       "<title>SU2RotationGate_G0</title>\n",
       "<polygon fill=\"none\" stroke=\"black\" points=\"291.75,-116.5 291.75,-134.5 323.75,-134.5 323.75,-116.5 291.75,-116.5\"/>\n",
       "<text text-anchor=\"start\" x=\"294.62\" y=\"-122\" font-family=\"Times,serif\" font-size=\"10.00\">SU_2</text>\n",
       "<polygon fill=\"none\" stroke=\"black\" points=\"291.75,-93.5 291.75,-116.5 323.75,-116.5 323.75,-93.5 291.75,-93.5\"/>\n",
       "<text text-anchor=\"start\" x=\"303.25\" y=\"-100.2\" font-family=\"Times,serif\" font-size=\"14.00\">q</text>\n",
       "</g>\n",
       "<!-- QubitizationWalkOperator&#45;&gt;SU2RotationGate_G0 -->\n",
       "<g id=\"edge5\" class=\"edge\">\n",
       "<title>QubitizationWalkOperator:e-&gt;SU2RotationGate_G0:w</title>\n",
       "<path fill=\"none\" stroke=\"black\" d=\"M254.75,-95C270.85,-95 274.35,-103.94 289.08,-104.91\"/>\n",
       "<ellipse fill=\"black\" stroke=\"black\" cx=\"290.25\" cy=\"-104.95\" rx=\"1\" ry=\"1\"/>\n",
       "<text text-anchor=\"middle\" x=\"273.25\" y=\"-103.25\" font-family=\"Times,serif\" font-size=\"10.00\">1</text>\n",
       "</g>\n",
       "<!-- QubitizationWalkOperator_G2 -->\n",
       "<g id=\"node7\" class=\"node\">\n",
       "<title>QubitizationWalkOperator_G2</title>\n",
       "<polygon fill=\"none\" stroke=\"black\" points=\"360.75,-106.5 360.75,-124.5 429.75,-124.5 429.75,-106.5 360.75,-106.5\"/>\n",
       "<text text-anchor=\"start\" x=\"370.88\" y=\"-112\" font-family=\"Times,serif\" font-size=\"10.00\">Qubitiza..</text>\n",
       "<polygon fill=\"none\" stroke=\"black\" points=\"360.75,-83.5 360.75,-106.5 429.75,-106.5 429.75,-83.5 360.75,-83.5\"/>\n",
       "<text text-anchor=\"start\" x=\"370.12\" y=\"-90.2\" font-family=\"Times,serif\" font-size=\"14.00\">control</text>\n",
       "<polygon fill=\"none\" stroke=\"black\" points=\"360.75,-60.5 360.75,-83.5 429.75,-83.5 429.75,-60.5 360.75,-60.5\"/>\n",
       "<text text-anchor=\"start\" x=\"363.38\" y=\"-67.2\" font-family=\"Times,serif\" font-size=\"14.00\">selection</text>\n",
       "<polygon fill=\"none\" stroke=\"black\" points=\"360.75,-37.5 360.75,-60.5 429.75,-60.5 429.75,-37.5 360.75,-37.5\"/>\n",
       "<text text-anchor=\"start\" x=\"373.12\" y=\"-44.2\" font-family=\"Times,serif\" font-size=\"14.00\">target</text>\n",
       "</g>\n",
       "<!-- QubitizationWalkOperator&#45;&gt;QubitizationWalkOperator_G2 -->\n",
       "<g id=\"edge7\" class=\"edge\">\n",
       "<title>QubitizationWalkOperator:e-&gt;QubitizationWalkOperator_G2:w</title>\n",
       "<path fill=\"none\" stroke=\"black\" d=\"M254.75,-72C300.85,-72 313.12,-72 357.76,-72\"/>\n",
       "<ellipse fill=\"black\" stroke=\"black\" cx=\"359.25\" cy=\"-72\" rx=\"1\" ry=\"1\"/>\n",
       "<text text-anchor=\"middle\" x=\"307.75\" y=\"-75.25\" font-family=\"Times,serif\" font-size=\"10.00\">3</text>\n",
       "</g>\n",
       "<!-- QubitizationWalkOperator&#45;&gt;QubitizationWalkOperator_G2 -->\n",
       "<g id=\"edge8\" class=\"edge\">\n",
       "<title>QubitizationWalkOperator:e-&gt;QubitizationWalkOperator_G2:w</title>\n",
       "<path fill=\"none\" stroke=\"black\" d=\"M254.75,-49C300.85,-49 313.12,-49 357.76,-49\"/>\n",
       "<ellipse fill=\"black\" stroke=\"black\" cx=\"359.25\" cy=\"-49\" rx=\"1\" ry=\"1\"/>\n",
       "<text text-anchor=\"middle\" x=\"307.75\" y=\"-52.25\" font-family=\"Times,serif\" font-size=\"10.00\">4</text>\n",
       "</g>\n",
       "<!-- SU2RotationGate_G0&#45;&gt;QubitizationWalkOperator_G2 -->\n",
       "<g id=\"edge6\" class=\"edge\">\n",
       "<title>SU2RotationGate_G0:e-&gt;QubitizationWalkOperator_G2:w</title>\n",
       "<path fill=\"none\" stroke=\"black\" d=\"M323.75,-105C339.85,-105 343.35,-96.06 358.08,-95.09\"/>\n",
       "<ellipse fill=\"black\" stroke=\"black\" cx=\"359.25\" cy=\"-95.05\" rx=\"1\" ry=\"1\"/>\n",
       "<text text-anchor=\"middle\" x=\"342.25\" y=\"-103.25\" font-family=\"Times,serif\" font-size=\"10.00\">1</text>\n",
       "</g>\n",
       "<!-- SU2RotationGate_G6 -->\n",
       "<g id=\"node8\" class=\"node\">\n",
       "<title>SU2RotationGate_G6</title>\n",
       "<polygon fill=\"none\" stroke=\"black\" points=\"466.75,-132.5 466.75,-150.5 498.75,-150.5 498.75,-132.5 466.75,-132.5\"/>\n",
       "<text text-anchor=\"start\" x=\"469.62\" y=\"-138\" font-family=\"Times,serif\" font-size=\"10.00\">SU_2</text>\n",
       "<polygon fill=\"none\" stroke=\"black\" points=\"466.75,-109.5 466.75,-132.5 498.75,-132.5 498.75,-109.5 466.75,-109.5\"/>\n",
       "<text text-anchor=\"start\" x=\"478.25\" y=\"-116.2\" font-family=\"Times,serif\" font-size=\"14.00\">q</text>\n",
       "</g>\n",
       "<!-- QubitizationWalkOperator_G2&#45;&gt;SU2RotationGate_G6 -->\n",
       "<g id=\"edge9\" class=\"edge\">\n",
       "<title>QubitizationWalkOperator_G2:e-&gt;SU2RotationGate_G6:w</title>\n",
       "<path fill=\"none\" stroke=\"black\" d=\"M429.75,-95C448.91,-95 446.9,-118.62 464.07,-120.83\"/>\n",
       "<ellipse fill=\"black\" stroke=\"black\" cx=\"465.25\" cy=\"-120.91\" rx=\"1\" ry=\"1\"/>\n",
       "<text text-anchor=\"middle\" x=\"448.25\" y=\"-111.25\" font-family=\"Times,serif\" font-size=\"10.00\">1</text>\n",
       "</g>\n",
       "<!-- selection_G12 -->\n",
       "<g id=\"node10\" class=\"node\">\n",
       "<title>selection_G12</title>\n",
       "<text text-anchor=\"middle\" x=\"575.62\" y=\"-67.33\" font-family=\"Times,serif\" font-size=\"14.00\">selection</text>\n",
       "</g>\n",
       "<!-- QubitizationWalkOperator_G2&#45;&gt;selection_G12 -->\n",
       "<g id=\"edge11\" class=\"edge\">\n",
       "<title>QubitizationWalkOperator_G2:e-&gt;selection_G12:w</title>\n",
       "<path fill=\"none\" stroke=\"black\" d=\"M429.75,-72C475.85,-72 488.12,-72 532.76,-72\"/>\n",
       "<ellipse fill=\"black\" stroke=\"black\" cx=\"534.25\" cy=\"-72\" rx=\"1\" ry=\"1\"/>\n",
       "<text text-anchor=\"middle\" x=\"482.75\" y=\"-75.25\" font-family=\"Times,serif\" font-size=\"10.00\">3</text>\n",
       "</g>\n",
       "<!-- target_G9 -->\n",
       "<g id=\"node11\" class=\"node\">\n",
       "<title>target_G9</title>\n",
       "<text text-anchor=\"middle\" x=\"575.62\" y=\"-13.32\" font-family=\"Times,serif\" font-size=\"14.00\">target</text>\n",
       "</g>\n",
       "<!-- QubitizationWalkOperator_G2&#45;&gt;target_G9 -->\n",
       "<g id=\"edge12\" class=\"edge\">\n",
       "<title>QubitizationWalkOperator_G2:e-&gt;target_G9:w</title>\n",
       "<path fill=\"none\" stroke=\"black\" d=\"M429.75,-49C481.7,-49 491.41,-19.08 541.88,-18.03\"/>\n",
       "<ellipse fill=\"black\" stroke=\"black\" cx=\"543.13\" cy=\"-18.02\" rx=\"1\" ry=\"1\"/>\n",
       "<text text-anchor=\"middle\" x=\"482.75\" y=\"-45.25\" font-family=\"Times,serif\" font-size=\"10.00\">4</text>\n",
       "</g>\n",
       "<!-- signal -->\n",
       "<g id=\"node9\" class=\"node\">\n",
       "<title>signal</title>\n",
       "<text text-anchor=\"middle\" x=\"575.62\" y=\"-121.33\" font-family=\"Times,serif\" font-size=\"14.00\">signal</text>\n",
       "</g>\n",
       "<!-- SU2RotationGate_G6&#45;&gt;signal -->\n",
       "<g id=\"edge10\" class=\"edge\">\n",
       "<title>SU2RotationGate_G6:e-&gt;signal:w</title>\n",
       "<path fill=\"none\" stroke=\"black\" d=\"M498.75,-121C518.72,-121 524.17,-125.54 542.78,-125.97\"/>\n",
       "<ellipse fill=\"black\" stroke=\"black\" cx=\"544.13\" cy=\"-125.98\" rx=\"1\" ry=\"1\"/>\n",
       "<text text-anchor=\"middle\" x=\"517.25\" y=\"-125.25\" font-family=\"Times,serif\" font-size=\"10.00\">1</text>\n",
       "</g>\n",
       "</g>\n",
       "</svg>"
      ],
      "text/plain": [
       "<IPython.core.display.SVG object>"
      ]
     },
     "metadata": {},
     "output_type": "display_data"
    }
   ],
   "source": [
    "pU = GeneralizedQSP.from_qsp_polynomial(U, (0.5, 0, 0.5))\n",
    "show_bloq(pU.decompose_bloq())"
   ]
  },
  {
   "cell_type": "markdown",
   "id": "a58f06ba-9287-435d-92a3-256f747024c2",
   "metadata": {},
   "source": [
    "### Negative degree terms\n",
    "\n",
    "To apply GQSP for a polynomial $P'(z) = z^{-k} P(z)$, we can just pass the polynomial $P$ along with negative power $k$.\n",
    "The QSP angle sequence is the same for both, and $P'$ can be achieved by running $(U^\\dagger)^k$ at any point in the circuit."
   ]
  },
  {
   "cell_type": "code",
   "execution_count": 5,
   "id": "ee60e95f-979f-420d-91b1-b6955b9c5a3b",
   "metadata": {},
   "outputs": [
    {
     "data": {
      "image/svg+xml": [
       "<svg xmlns=\"http://www.w3.org/2000/svg\" xmlns:xlink=\"http://www.w3.org/1999/xlink\" width=\"311pt\" height=\"152pt\" viewBox=\"0.00 0.00 310.50 152.00\">\n",
       "<g id=\"graph0\" class=\"graph\" transform=\"scale(1 1) rotate(0) translate(4 148)\">\n",
       "<title>my_graph</title>\n",
       "<polygon fill=\"white\" stroke=\"none\" points=\"-4,4 -4,-148 306.5,-148 306.5,4 -4,4\"/>\n",
       "<!-- signal_G7 -->\n",
       "<g id=\"node1\" class=\"node\">\n",
       "<title>signal_G7</title>\n",
       "<text text-anchor=\"middle\" x=\"39.88\" y=\"-121.33\" font-family=\"Times,serif\" font-size=\"14.00\">signal</text>\n",
       "</g>\n",
       "<!-- GeneralizedQSP -->\n",
       "<g id=\"node4\" class=\"node\">\n",
       "<title>GeneralizedQSP</title>\n",
       "<polygon fill=\"none\" stroke=\"black\" points=\"116.75,-106.5 116.75,-124.5 185.75,-124.5 185.75,-106.5 116.75,-106.5\"/>\n",
       "<text text-anchor=\"start\" x=\"126.5\" y=\"-112\" font-family=\"Times,serif\" font-size=\"10.00\">Generali..</text>\n",
       "<polygon fill=\"none\" stroke=\"black\" points=\"116.75,-83.5 116.75,-106.5 185.75,-106.5 185.75,-83.5 116.75,-83.5\"/>\n",
       "<text text-anchor=\"start\" x=\"129.88\" y=\"-90.2\" font-family=\"Times,serif\" font-size=\"14.00\">signal</text>\n",
       "<polygon fill=\"none\" stroke=\"black\" points=\"116.75,-60.5 116.75,-83.5 185.75,-83.5 185.75,-60.5 116.75,-60.5\"/>\n",
       "<text text-anchor=\"start\" x=\"119.38\" y=\"-67.2\" font-family=\"Times,serif\" font-size=\"14.00\">selection</text>\n",
       "<polygon fill=\"none\" stroke=\"black\" points=\"116.75,-37.5 116.75,-60.5 185.75,-60.5 185.75,-37.5 116.75,-37.5\"/>\n",
       "<text text-anchor=\"start\" x=\"129.12\" y=\"-44.2\" font-family=\"Times,serif\" font-size=\"14.00\">target</text>\n",
       "</g>\n",
       "<!-- signal_G7&#45;&gt;GeneralizedQSP -->\n",
       "<g id=\"edge1\" class=\"edge\">\n",
       "<title>signal_G7:e-&gt;GeneralizedQSP:w</title>\n",
       "<path fill=\"none\" stroke=\"black\" d=\"M69.88,-126C93.88,-126 91.97,-97.37 113.95,-95.14\"/>\n",
       "<ellipse fill=\"black\" stroke=\"black\" cx=\"115.25\" cy=\"-95.07\" rx=\"1\" ry=\"1\"/>\n",
       "<text text-anchor=\"middle\" x=\"98.25\" y=\"-107.25\" font-family=\"Times,serif\" font-size=\"10.00\">1</text>\n",
       "</g>\n",
       "<!-- selection_G5 -->\n",
       "<g id=\"node2\" class=\"node\">\n",
       "<title>selection_G5</title>\n",
       "<text text-anchor=\"middle\" x=\"39.88\" y=\"-67.33\" font-family=\"Times,serif\" font-size=\"14.00\">selection</text>\n",
       "</g>\n",
       "<!-- selection_G5&#45;&gt;GeneralizedQSP -->\n",
       "<g id=\"edge2\" class=\"edge\">\n",
       "<title>selection_G5:e-&gt;GeneralizedQSP:w</title>\n",
       "<path fill=\"none\" stroke=\"black\" d=\"M79.75,-72C95.17,-72 99.74,-72 113.81,-72\"/>\n",
       "<ellipse fill=\"black\" stroke=\"black\" cx=\"115.25\" cy=\"-72\" rx=\"1\" ry=\"1\"/>\n",
       "<text text-anchor=\"middle\" x=\"98.25\" y=\"-75.25\" font-family=\"Times,serif\" font-size=\"10.00\">3</text>\n",
       "</g>\n",
       "<!-- target_G3 -->\n",
       "<g id=\"node3\" class=\"node\">\n",
       "<title>target_G3</title>\n",
       "<text text-anchor=\"middle\" x=\"39.88\" y=\"-13.32\" font-family=\"Times,serif\" font-size=\"14.00\">target</text>\n",
       "</g>\n",
       "<!-- target_G3&#45;&gt;GeneralizedQSP -->\n",
       "<g id=\"edge3\" class=\"edge\">\n",
       "<title>target_G3:e-&gt;GeneralizedQSP:w</title>\n",
       "<path fill=\"none\" stroke=\"black\" d=\"M70.88,-18C94.52,-18 92.36,-46.63 113.99,-48.86\"/>\n",
       "<ellipse fill=\"black\" stroke=\"black\" cx=\"115.25\" cy=\"-48.92\" rx=\"1\" ry=\"1\"/>\n",
       "<text text-anchor=\"middle\" x=\"98.25\" y=\"-43.25\" font-family=\"Times,serif\" font-size=\"10.00\">4</text>\n",
       "</g>\n",
       "<!-- signal_G8 -->\n",
       "<g id=\"node5\" class=\"node\">\n",
       "<title>signal_G8</title>\n",
       "<text text-anchor=\"middle\" x=\"262.62\" y=\"-121.33\" font-family=\"Times,serif\" font-size=\"14.00\">signal</text>\n",
       "</g>\n",
       "<!-- GeneralizedQSP&#45;&gt;signal_G8 -->\n",
       "<g id=\"edge4\" class=\"edge\">\n",
       "<title>GeneralizedQSP:e-&gt;signal_G8:w</title>\n",
       "<path fill=\"none\" stroke=\"black\" d=\"M185.75,-95C209.75,-95 207.85,-123.63 229.82,-125.86\"/>\n",
       "<ellipse fill=\"black\" stroke=\"black\" cx=\"231.13\" cy=\"-125.93\" rx=\"1\" ry=\"1\"/>\n",
       "<text text-anchor=\"middle\" x=\"204.25\" y=\"-107.25\" font-family=\"Times,serif\" font-size=\"10.00\">1</text>\n",
       "</g>\n",
       "<!-- selection_G1 -->\n",
       "<g id=\"node6\" class=\"node\">\n",
       "<title>selection_G1</title>\n",
       "<text text-anchor=\"middle\" x=\"262.62\" y=\"-67.33\" font-family=\"Times,serif\" font-size=\"14.00\">selection</text>\n",
       "</g>\n",
       "<!-- GeneralizedQSP&#45;&gt;selection_G1 -->\n",
       "<g id=\"edge5\" class=\"edge\">\n",
       "<title>GeneralizedQSP:e-&gt;selection_G1:w</title>\n",
       "<path fill=\"none\" stroke=\"black\" d=\"M185.75,-72C201.17,-72 205.74,-72 219.81,-72\"/>\n",
       "<ellipse fill=\"black\" stroke=\"black\" cx=\"221.25\" cy=\"-72\" rx=\"1\" ry=\"1\"/>\n",
       "<text text-anchor=\"middle\" x=\"204.25\" y=\"-75.25\" font-family=\"Times,serif\" font-size=\"10.00\">3</text>\n",
       "</g>\n",
       "<!-- target_G0 -->\n",
       "<g id=\"node7\" class=\"node\">\n",
       "<title>target_G0</title>\n",
       "<text text-anchor=\"middle\" x=\"262.62\" y=\"-13.32\" font-family=\"Times,serif\" font-size=\"14.00\">target</text>\n",
       "</g>\n",
       "<!-- GeneralizedQSP&#45;&gt;target_G0 -->\n",
       "<g id=\"edge6\" class=\"edge\">\n",
       "<title>GeneralizedQSP:e-&gt;target_G0:w</title>\n",
       "<path fill=\"none\" stroke=\"black\" d=\"M185.75,-49C209.4,-49 207.24,-20.37 228.87,-18.14\"/>\n",
       "<ellipse fill=\"black\" stroke=\"black\" cx=\"230.13\" cy=\"-18.08\" rx=\"1\" ry=\"1\"/>\n",
       "<text text-anchor=\"middle\" x=\"204.25\" y=\"-43.25\" font-family=\"Times,serif\" font-size=\"10.00\">4</text>\n",
       "</g>\n",
       "</g>\n",
       "</svg>"
      ],
      "text/plain": [
       "<IPython.core.display.SVG object>"
      ]
     },
     "metadata": {},
     "output_type": "display_data"
    }
   ],
   "source": [
    "pU = GeneralizedQSP.from_qsp_polynomial(U, (0.5, 0, 0.5), negative_power=1)\n",
    "show_bloq(pU)"
   ]
  },
  {
   "cell_type": "markdown",
   "id": "674b41f5",
   "metadata": {
    "cq.autogen": "title_cell"
   },
   "source": [
    "# Generalized QSP"
   ]
  },
  {
   "cell_type": "code",
   "execution_count": 6,
   "id": "ca628aa3",
   "metadata": {
    "cq.autogen": "top_imports"
   },
   "outputs": [],
   "source": []
  },
  {
   "cell_type": "markdown",
   "id": "6e1645db",
   "metadata": {
    "cq.autogen": "GeneralizedQSP.bloq_doc.md"
   },
   "source": [
    "## `GeneralizedQSP`\n",
    "Applies a QSP polynomial $P$ to a unitary $U$ to obtain a block-encoding of $P(U)$.\n",
    "\n",
    "Can optionally provide a negative power offset $k$ (defaults to 0),\n",
    "to obtain $U^{-k} P(U)$. (Theorem 6)\n",
    "This gate represents the following unitary:\n",
    "\n",
    "    $$ \\begin{bmatrix} U^{-k} P(U) & \\cdot \\\\ Q(U) & \\cdot \\end{bmatrix} $$\n",
    "\n",
    "The polynomial $P$ must satisfy:\n",
    "$\\abs{P(e^{i \\theta})}^2 \\le 1$ for every $\\theta \\in \\mathbb{R}$.\n",
    "\n",
    "The exact circuit is described in Figure 2.\n",
    "\n",
    "#### Parameters\n",
    " - `U`: Unitary operation.\n",
    " - `P`: Co-efficients of a complex polynomial.\n",
    " - `negative_power`: value of $k$, which effectively applies $z^{-k} P(z)$. defaults to 0. \n",
    "\n",
    "#### References\n",
    " - [Generalized Quantum Signal Processing](https://arxiv.org/abs/2308.01501).     Motlagh and Wiebe. (2023). Theorem 3; Figure 2; Theorem 6.\n"
   ]
  },
  {
   "cell_type": "code",
   "execution_count": 7,
   "id": "be65f9cf",
   "metadata": {
    "cq.autogen": "GeneralizedQSP.bloq_doc.py"
   },
   "outputs": [],
   "source": [
    "from qualtran.bloqs.qsp.generalized_qsp import GeneralizedQSP"
   ]
  },
  {
   "cell_type": "markdown",
   "id": "a8a02423",
   "metadata": {
    "cq.autogen": "GeneralizedQSP.example_instances.md"
   },
   "source": [
    "### Example Instances"
   ]
  },
  {
   "cell_type": "code",
   "execution_count": 8,
   "id": "07c1e94a",
   "metadata": {
    "cq.autogen": "GeneralizedQSP.gqsp"
   },
   "outputs": [],
   "source": [
    "from qualtran.bloqs.for_testing.random_gate import RandomGate\n",
    "\n",
    "gqsp = GeneralizedQSP.from_qsp_polynomial(RandomGate.create(1, random_state=42), (0.5, 0.5))"
   ]
  },
  {
   "cell_type": "markdown",
   "id": "68bca13f",
   "metadata": {
    "cq.autogen": "GeneralizedQSP.graphical_signature.md"
   },
   "source": [
    "#### Graphical Signature"
   ]
  },
  {
   "cell_type": "code",
   "execution_count": 9,
   "id": "4bd00e30",
   "metadata": {
    "cq.autogen": "GeneralizedQSP.graphical_signature.py"
   },
   "outputs": [
    {
     "data": {
      "application/vnd.jupyter.widget-view+json": {
       "model_id": "a5d71725109f48b1b68c45a42d7a02f5",
       "version_major": 2,
       "version_minor": 0
      },
      "text/plain": [
       "HBox(children=(Output(outputs=({'output_type': 'display_data', 'data': {'text/plain': '<IPython.core.display.M…"
      ]
     },
     "metadata": {},
     "output_type": "display_data"
    }
   ],
   "source": [
    "from qualtran.drawing import show_bloqs\n",
    "show_bloqs([gqsp],\n",
    "           ['`gqsp`'])"
   ]
  },
  {
   "cell_type": "markdown",
   "id": "91675ec7",
   "metadata": {
    "cq.autogen": "GeneralizedQSP.call_graph.md"
   },
   "source": [
    "### Call Graph"
   ]
  },
  {
   "cell_type": "code",
   "execution_count": 10,
   "id": "94c8fa1a",
   "metadata": {
    "cq.autogen": "GeneralizedQSP.call_graph.py"
   },
   "outputs": [
    {
     "data": {
      "image/svg+xml": [
       "<svg xmlns=\"http://www.w3.org/2000/svg\" xmlns:xlink=\"http://www.w3.org/1999/xlink\" width=\"712pt\" height=\"133pt\" viewBox=\"0.00 0.00 712.00 133.25\">\n",
       "<g id=\"graph0\" class=\"graph\" transform=\"scale(1 1) rotate(0) translate(4 129.25)\">\n",
       "<title>counts</title>\n",
       "<polygon fill=\"white\" stroke=\"none\" points=\"-4,4 -4,-129.25 708,-129.25 708,4 -4,4\"/>\n",
       "<!-- b0 -->\n",
       "<g id=\"node1\" class=\"node\">\n",
       "<title>b0</title>\n",
       "<polygon fill=\"none\" stroke=\"black\" points=\"577,-125.25 189,-125.25 189,-89.25 577,-89.25 577,-125.25\"/>\n",
       "<text text-anchor=\"start\" x=\"324.88\" y=\"-106.95\" font-family=\"Times,serif\" font-size=\"14.00\">GeneralizedQSP</text>\n",
       "<text text-anchor=\"start\" x=\"197\" y=\"-96.75\" font-family=\"monospace\" font-size=\"10.00\">U=RandomGa ..., P=(0.5, 0.5), Q=(-0.4999 ..., negative_power=0</text>\n",
       "</g>\n",
       "<!-- b1 -->\n",
       "<g id=\"node2\" class=\"node\">\n",
       "<title>b1</title>\n",
       "<polygon fill=\"none\" stroke=\"black\" points=\"406,-36 0,-36 0,0 406,0 406,-36\"/>\n",
       "<text text-anchor=\"start\" x=\"184.25\" y=\"-17.7\" font-family=\"Times,serif\" font-size=\"14.00\">SU_2</text>\n",
       "<text text-anchor=\"start\" x=\"8\" y=\"-7.5\" font-family=\"monospace\" font-size=\"10.00\">theta=0.785398 ..., phi=0.0, lambd=0.0, global_shift=0, eps=1e-11</text>\n",
       "</g>\n",
       "<!-- b0&#45;&gt;b1 -->\n",
       "<g id=\"edge1\" class=\"edge\">\n",
       "<title>b0-&gt;b1</title>\n",
       "<path fill=\"none\" stroke=\"black\" d=\"M347.01,-88.8C318.92,-75.19 279.71,-56.18 249.29,-41.44\"/>\n",
       "<polygon fill=\"black\" stroke=\"black\" points=\"250.82,-38.29 240.29,-37.08 247.76,-44.59 250.82,-38.29\"/>\n",
       "<text text-anchor=\"middle\" x=\"314.5\" y=\"-57.95\" font-family=\"Times,serif\" font-size=\"14.00\">2</text>\n",
       "</g>\n",
       "<!-- b2 -->\n",
       "<g id=\"node3\" class=\"node\">\n",
       "<title>b2</title>\n",
       "<polygon fill=\"none\" stroke=\"black\" points=\"704,-36 424,-36 424,0 704,0 704,-36\"/>\n",
       "<text text-anchor=\"start\" x=\"507.38\" y=\"-17.7\" font-family=\"Times,serif\" font-size=\"14.00\">C[RandomGate]</text>\n",
       "<text text-anchor=\"start\" x=\"432\" y=\"-7.5\" font-family=\"monospace\" font-size=\"10.00\">subbloq=RandomGa ..., ctrl_spec=CtrlSpec ...</text>\n",
       "</g>\n",
       "<!-- b0&#45;&gt;b2 -->\n",
       "<g id=\"edge2\" class=\"edge\">\n",
       "<title>b0-&gt;b2</title>\n",
       "<path fill=\"none\" stroke=\"black\" d=\"M419.19,-88.8C447.56,-75.13 487.21,-56.02 517.85,-41.25\"/>\n",
       "<polygon fill=\"black\" stroke=\"black\" points=\"519.02,-44.57 526.51,-37.07 515.98,-38.26 519.02,-44.57\"/>\n",
       "<text text-anchor=\"middle\" x=\"494.5\" y=\"-57.95\" font-family=\"Times,serif\" font-size=\"14.00\">2</text>\n",
       "</g>\n",
       "</g>\n",
       "</svg>"
      ],
      "text/plain": [
       "<IPython.core.display.SVG object>"
      ]
     },
     "metadata": {},
     "output_type": "display_data"
    },
    {
     "data": {
      "text/markdown": [
       "#### Counts totals:\n",
       " - `C[RandomGate(bitsize=1, matrix=(((0.2770245903861146-0.13059068747491814j), (-0.7635048843051476+0.5685628727840187j)), ((0.3612251651727512+0.880749583430019j), (0.17008310438356575+0.25469253804737874j))))]`: 2\n",
       " - `SU2RotationGate(theta=0.7853981633974483, phi=0.0, lambd=0.0, global_shift=0, eps=1e-11)`: 2"
      ],
      "text/plain": [
       "<IPython.core.display.Markdown object>"
      ]
     },
     "metadata": {},
     "output_type": "display_data"
    }
   ],
   "source": [
    "from qualtran.resource_counting.generalizers import ignore_split_join\n",
    "gqsp_g, gqsp_sigma = gqsp.call_graph(max_depth=1, generalizer=ignore_split_join)\n",
    "show_call_graph(gqsp_g)\n",
    "show_counts_sigma(gqsp_sigma)"
   ]
  }
 ],
 "metadata": {
  "kernelspec": {
   "display_name": "Python 3 (ipykernel)",
   "language": "python",
   "name": "python3"
  },
  "language_info": {
   "codemirror_mode": {
    "name": "ipython",
    "version": 3
   },
   "file_extension": ".py",
   "mimetype": "text/x-python",
   "name": "python",
   "nbconvert_exporter": "python",
   "pygments_lexer": "ipython3",
   "version": "3.11.8"
  }
 },
 "nbformat": 4,
 "nbformat_minor": 5
}
