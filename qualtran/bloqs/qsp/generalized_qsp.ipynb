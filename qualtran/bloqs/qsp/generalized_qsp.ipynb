{
 "cells": [
  {
   "cell_type": "markdown",
   "id": "df592bf2",
   "metadata": {
    "cq.autogen": "title_cell"
   },
   "source": [
    "# Generalized Quantum Signal Processing"
   ]
  },
  {
   "cell_type": "code",
   "execution_count": null,
   "id": "ebe36f8a",
   "metadata": {
    "cq.autogen": "top_imports"
   },
   "outputs": [],
   "source": [
    "from qualtran import Bloq, CompositeBloq, BloqBuilder, Signature, Register\n",
    "from qualtran import QBit, QInt, QUInt, QAny\n",
    "from qualtran.drawing import show_bloq, show_call_graph, show_counts_sigma\n",
    "from typing import *\n",
    "import numpy as np\n",
    "import sympy\n",
    "import cirq"
   ]
  },
  {
   "cell_type": "markdown",
   "id": "81e6cb9a",
   "metadata": {
    "cq.autogen": "GeneralizedQSP.bloq_doc.md"
   },
   "source": [
    "## `GeneralizedQSP`\n",
    "Applies a QSP polynomial $P$ to a unitary $U$ to obtain a block-encoding of $P(U)$.\n",
    "\n",
    "Given a unitary $U$ and a QSP polynomial $P$ (and its complementary polynomial $Q$),\n",
    "this gate implements the following unitary:\n",
    "\n",
    "$$\n",
    "    \\begin{bmatrix} P(U) & \\cdot \\\\ Q(U) & \\cdot \\end{bmatrix}\n",
    "$$\n",
    "\n",
    "The polynomials $P$ and $Q$ should satisfy:\n",
    "\n",
    "$$\n",
    "    \\left|P(e^{i \\theta})\\right|^2 + \\left|Q(e^{i \\theta})\\right|^2 = 1 ~~\\text{for every}~ \\theta \\in \\mathbb{R}\n",
    "$$\n",
    "\n",
    "The polynomial $P$ is said to be a QSP Polynomial if it satisfies:\n",
    "\n",
    "$$\n",
    "    \\left|P(e^{i \\theta})\\right|^2 \\le 1 ~~\\text{for every}~ \\theta \\in \\mathbb{R}\n",
    "$$\n",
    "\n",
    "If only the QSP polynomial $P$ is known, one can simply call\n",
    "`GeneralizedQSP.from_qsp_polynomial(U, P)` which automatically computes $Q$.\n",
    "\n",
    "### Using Laurent Polynomials\n",
    "To apply GQSP with the transformation given by $P'$\n",
    "\n",
    "$$\n",
    "P(z) = \\sum_{n = -a}^b p_n z^n\n",
    "$$\n",
    "\n",
    "where $a, b \\ge 0$, we can simply invoke GQSP with the standard polynomial $P'(z) = z^a P(z)$\n",
    "which has degree $a + b$, and pass `negative_power=a`.\n",
    "\n",
    "Given complementary QSP polynomials $P', Q'$ and `negative_power=a`,\n",
    "this gate implements the unitary transform:\n",
    "\n",
    "$$\n",
    "    \\begin{bmatrix} U^{-a} P'(U) & \\cdot \\\\ U^{-a} Q'(U) & \\cdot \\end{bmatrix}\n",
    "$$\n",
    "\n",
    "\n",
    "The exact circuit implemented by this gate is described in Figure 2.\n",
    "\n",
    "#### Parameters\n",
    " - `U`: Unitary operation.\n",
    " - `P`: Co-efficients of a complex QSP polynomial.\n",
    " - `Q`: Co-efficients of a complex QSP polynomial.\n",
    " - `negative_power`: value of $k$, which effectively applies $z^{-k} P(z)$. defaults to 0. \n",
    "\n",
    "#### References\n",
    " - [Generalized Quantum Signal Processing](https://arxiv.org/abs/2308.01501). Motlagh and Wiebe. (2023). Theorem 3; Figure 2; Theorem 6.\n"
   ]
  },
  {
   "cell_type": "code",
   "execution_count": null,
   "id": "24403fec",
   "metadata": {
    "cq.autogen": "GeneralizedQSP.bloq_doc.py"
   },
   "outputs": [],
   "source": [
    "from qualtran.bloqs.qsp.generalized_qsp import GeneralizedQSP"
   ]
  },
  {
   "cell_type": "markdown",
   "id": "bc0f2d78",
   "metadata": {
    "cq.autogen": "GeneralizedQSP.example_instances.md"
   },
   "source": [
    "### Example Instances"
   ]
  },
  {
   "cell_type": "code",
   "execution_count": null,
   "id": "d7157de4",
   "metadata": {
    "cq.autogen": "GeneralizedQSP.gqsp"
   },
   "outputs": [],
   "source": [
    "from qualtran.bloqs.basic_gates import XPowGate\n",
    "\n",
    "gqsp = GeneralizedQSP.from_qsp_polynomial(XPowGate(), (0.5, 0.5))"
   ]
  },
  {
   "cell_type": "code",
   "execution_count": null,
   "id": "37d3ea8e",
   "metadata": {
    "cq.autogen": "GeneralizedQSP.gqsp_with_negative_power"
   },
   "outputs": [],
   "source": [
    "from qualtran.bloqs.basic_gates import XPowGate\n",
    "\n",
    "gqsp_with_negative_power = GeneralizedQSP.from_qsp_polynomial(\n",
    "    XPowGate(), (0.5, 0, 0.5), negative_power=1\n",
    ")"
   ]
  },
  {
   "cell_type": "code",
   "execution_count": null,
   "id": "78724c80",
   "metadata": {
    "cq.autogen": "GeneralizedQSP.gqsp_with_large_negative_power"
   },
   "outputs": [],
   "source": [
    "from qualtran.bloqs.basic_gates import XPowGate\n",
    "\n",
    "gqsp_with_large_negative_power = GeneralizedQSP.from_qsp_polynomial(\n",
    "    XPowGate(), (0.5, 0, 0.5), negative_power=5\n",
    ")"
   ]
  },
  {
   "cell_type": "markdown",
   "id": "74289b97",
   "metadata": {
    "cq.autogen": "GeneralizedQSP.graphical_signature.md"
   },
   "source": [
    "#### Graphical Signature"
   ]
  },
  {
   "cell_type": "code",
   "execution_count": null,
   "id": "d0a714e6",
   "metadata": {
    "cq.autogen": "GeneralizedQSP.graphical_signature.py"
   },
   "outputs": [],
   "source": [
    "from qualtran.drawing import show_bloqs\n",
    "show_bloqs([gqsp, gqsp_with_negative_power, gqsp_with_large_negative_power],\n",
    "           ['`gqsp`', '`gqsp_with_negative_power`', '`gqsp_with_large_negative_power`'])"
   ]
  },
  {
   "cell_type": "markdown",
   "id": "cf88a1e6",
   "metadata": {
    "cq.autogen": "GeneralizedQSP.call_graph.md"
   },
   "source": [
    "### Call Graph"
   ]
  },
  {
   "cell_type": "code",
   "execution_count": null,
   "id": "aaa3e889",
   "metadata": {
    "cq.autogen": "GeneralizedQSP.call_graph.py"
   },
   "outputs": [],
   "source": [
    "from qualtran.resource_counting.generalizers import ignore_split_join\n",
    "gqsp_g, gqsp_sigma = gqsp.call_graph(max_depth=1, generalizer=ignore_split_join)\n",
    "show_call_graph(gqsp_g)\n",
    "show_counts_sigma(gqsp_sigma)"
   ]
  }
 ],
 "metadata": {
  "kernelspec": {
   "display_name": "Python 3",
   "language": "python",
   "name": "python3"
  },
  "language_info": {
   "name": "python"
  }
 },
 "nbformat": 4,
 "nbformat_minor": 5
}
