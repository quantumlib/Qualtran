{
 "cells": [
  {
   "cell_type": "markdown",
   "id": "59822098",
   "metadata": {},
   "source": [
    "# Generalized QSP"
   ]
  },
  {
   "cell_type": "code",
   "execution_count": null,
   "id": "initial_id",
   "metadata": {},
   "outputs": [],
   "source": [
    "from qualtran.bloqs.qubitization_walk_operator_test import get_walk_operator_for_1d_ising_model\n",
    "from qualtran.bloqs.generalized_qsp import GeneralizedQSP\n",
    "from qualtran.drawing import show_bloq"
   ]
  },
  {
   "cell_type": "markdown",
   "id": "6963c30f339d42de",
   "metadata": {},
   "source": [
    "`GeneralizedQSP` implements the Quantum Eigenvalue Transform on a unitary $U$ using QSP. Given a complex GQSP polynomial $P$ (and its complement $Q$), it implements the unitary:\n",
    "$$U' = \\begin{bmatrix} P(U) & \\cdot \\\\ Q(U) & \\cdot \\end{bmatrix}$$\n",
    "\n",
    "Here, the polynomials $P, Q$ must satisfy the following constraint:\n",
    "\n",
    "$$\\left| P(e^{i\\theta}) \\right|^2 + \\left| Q(e^{i\\theta}) \\right|^2 = 1 ~~\\text{for every}~ \\theta \\in [0, 2\\pi]$$\n",
    "\n",
    "A polynomial $P$ is said to be a GQSP polynomial iff it satisfies $\\left| P(e^{i\\theta}) \\right|^2 \\le 1$ for every $\\theta \\in [0, 2\\pi]$. \n",
    "\n",
    "Reference: https://doi.org/10.48550/arXiv.2308.01501"
   ]
  },
  {
   "cell_type": "code",
   "execution_count": null,
   "id": "fe92e1e9225b8026",
   "metadata": {},
   "outputs": [],
   "source": [
    "U = get_walk_operator_for_1d_ising_model(4, 2e-1)\n",
    "show_bloq(U.decompose_bloq())"
   ]
  },
  {
   "cell_type": "code",
   "execution_count": null,
   "id": "dc7100fd94d58c6b",
   "metadata": {},
   "outputs": [],
   "source": [
    "pU = GeneralizedQSP(U, (0.5, 0.5), (-0.5, 0.5))\n",
    "show_bloq(pU.decompose_bloq())"
   ]
  },
  {
   "cell_type": "markdown",
   "id": "935a03f7-5843-4b11-abe6-5eb9048c0ab5",
   "metadata": {},
   "source": [
    "There is also a method that directly computes $Q$ from $P$:"
   ]
  },
  {
   "cell_type": "code",
   "execution_count": null,
   "id": "78cd3857297f092b",
   "metadata": {},
   "outputs": [],
   "source": [
    "pU = GeneralizedQSP.from_qsp_polynomial(U, (0.5, 0, 0.5))\n",
    "show_bloq(pU.decompose_bloq())"
   ]
  },
  {
   "cell_type": "markdown",
   "id": "a58f06ba-9287-435d-92a3-256f747024c2",
   "metadata": {},
   "source": [
    "### Negative degree terms\n",
    "\n",
    "To apply GQSP for a polynomial $P'(z) = z^{-k} P(z)$, we can just pass the polynomial $P$ along with negative power $k$.\n",
    "The QSP angle sequence is the same for both, and $P'$ can be achieved by running $(U^\\dagger)^k$ at any point in the circuit."
   ]
  },
  {
   "cell_type": "code",
   "execution_count": null,
   "id": "ee60e95f-979f-420d-91b1-b6955b9c5a3b",
   "metadata": {},
   "outputs": [],
   "source": [
    "pU = GeneralizedQSP.from_qsp_polynomial(U, (0.5, 0, 0.5), negative_power=1)\n",
    "show_bloq(pU)"
   ]
  }
 ],
 "metadata": {
  "kernelspec": {
   "display_name": "Python 3 (ipykernel)",
   "language": "python",
   "name": "python3"
  },
  "language_info": {
   "codemirror_mode": {
    "name": "ipython",
    "version": 3
   },
   "file_extension": ".py",
   "mimetype": "text/x-python",
   "name": "python",
   "nbconvert_exporter": "python",
   "pygments_lexer": "ipython3",
   "version": "3.10.9"
  }
 },
 "nbformat": 4,
 "nbformat_minor": 5
}
