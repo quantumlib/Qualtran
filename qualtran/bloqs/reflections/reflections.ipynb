{
 "cells": [
  {
   "cell_type": "markdown",
   "id": "c128d12f",
   "metadata": {
    "cq.autogen": "title_cell"
   },
   "source": [
    "# Reflections"
   ]
  },
  {
   "cell_type": "code",
   "execution_count": null,
   "id": "d6ea6f92",
   "metadata": {
    "cq.autogen": "top_imports"
   },
   "outputs": [],
   "source": [
    "from qualtran import Bloq, CompositeBloq, BloqBuilder, Signature, Register\n",
    "from qualtran import QBit, QInt, QUInt, QAny\n",
    "from qualtran.drawing import show_bloq, show_call_graph, show_counts_sigma\n",
    "from typing import *\n",
    "import numpy as np\n",
    "import sympy\n",
    "import cirq"
   ]
  },
  {
   "cell_type": "markdown",
   "id": "4fa5b67f",
   "metadata": {
    "cq.autogen": "PrepareIdentity.bloq_doc.md"
   },
   "source": [
    "## `PrepareIdentity`\n",
    "An identity PrepareOracle.\n",
    "\n",
    "This is helpful for creating a reflection about zero and as a signal state for block encodings.\n",
    "\n",
    "#### Parameters\n",
    " - `selection_regs`: The selection registers for state prepareation. These are the incilla the state will be prepared over. \n",
    "\n",
    "#### Registers\n",
    " - `selection_registers`: The selection registers.\n"
   ]
  },
  {
   "cell_type": "code",
   "execution_count": null,
   "id": "7dd6616a",
   "metadata": {
    "cq.autogen": "PrepareIdentity.bloq_doc.py"
   },
   "outputs": [],
   "source": [
    "from qualtran.bloqs.reflections.prepare_identity import PrepareIdentity"
   ]
  },
  {
   "cell_type": "markdown",
   "id": "61a4eae9",
   "metadata": {
    "cq.autogen": "PrepareIdentity.example_instances.md"
   },
   "source": [
    "### Example Instances"
   ]
  },
  {
   "cell_type": "code",
   "execution_count": null,
   "id": "6ac3ba2c",
   "metadata": {
    "cq.autogen": "PrepareIdentity.prepare_identity"
   },
   "outputs": [],
   "source": [
    "prepare_identity = PrepareIdentity.from_bitsizes((10, 4, 1))"
   ]
  },
  {
   "cell_type": "markdown",
   "id": "63f43e3f",
   "metadata": {
    "cq.autogen": "PrepareIdentity.graphical_signature.md"
   },
   "source": [
    "#### Graphical Signature"
   ]
  },
  {
   "cell_type": "code",
   "execution_count": null,
   "id": "156eeb36",
   "metadata": {
    "cq.autogen": "PrepareIdentity.graphical_signature.py"
   },
   "outputs": [],
   "source": [
    "from qualtran.drawing import show_bloqs\n",
    "show_bloqs([prepare_identity],\n",
    "           ['`prepare_identity`'])"
   ]
  },
  {
   "cell_type": "markdown",
   "id": "4c769886",
   "metadata": {
    "cq.autogen": "PrepareIdentity.call_graph.md"
   },
   "source": [
    "### Call Graph"
   ]
  },
  {
   "cell_type": "code",
   "execution_count": null,
   "id": "e946e0cb",
   "metadata": {
    "cq.autogen": "PrepareIdentity.call_graph.py"
   },
   "outputs": [],
   "source": [
    "from qualtran.resource_counting.generalizers import ignore_split_join\n",
    "prepare_identity_g, prepare_identity_sigma = prepare_identity.call_graph(max_depth=1, generalizer=ignore_split_join)\n",
    "show_call_graph(prepare_identity_g)\n",
    "show_counts_sigma(prepare_identity_sigma)"
   ]
  },
  {
   "cell_type": "markdown",
   "id": "4e35c0be",
   "metadata": {
    "cq.autogen": "ReflectionUsingPrepare.bloq_doc.md"
   },
   "source": [
    "## `ReflectionUsingPrepare`\n",
    "Applies reflection around a state prepared by `prepare_gate`\n",
    "\n",
    "Applies $R_{s, g=1} = g (I - 2|s\\rangle\\langle s|)$ using $R_{s} =\n",
    "P(I - 2|0\\rangle\\langle0|)P^{\\dagger}$ s.t. $P|0\\rangle = |s\\rangle$.\n",
    "\n",
    "Here:\n",
    "- $|s\\rangle$: The state along which we want to reflect.\n",
    "- $P$: Unitary that prepares that state $|s\\rangle $ from the zero state $|0\\rangle$\n",
    "- $R_{s}$: Reflection operator that adds a `-1` phase to all states in the subspace\n",
    "    spanned by $|s\\rangle$.\n",
    "- $g$: The global phase to control the behavior of the reflection. For example:\n",
    "    We often use $g=-1$ in literature to denote the reflection operator as\n",
    "    $R_{s} = -1 (I - 2|s\\rangle\\langle s|) = 2|s\\rangle\\langle s| - I$\n",
    "\n",
    "The composite gate corresponds to implementing the following circuit:\n",
    "\n",
    "```\n",
    "|control> ------------------ Z -------------------\n",
    "                             |\n",
    "|L>       ---- PREPARE^† --- o --- PREPARE -------\n",
    "```\n",
    "\n",
    "\n",
    "#### Parameters\n",
    " - `prepare_gate`: An implementation of `PREPARE` for state preparation.\n",
    " - `control_val`: If 0/1, a controlled version of the reflection operator is constructed. Defaults to None, in which case the resulting reflection operator is not controlled.\n",
    " - `global_phase`: The global phase to apply in front of the reflection operator. When building a controlled reflection operator, the global phase translates into a relative phase.\n",
    " - `eps`: precision for implementation of rotation. Only relevant if global_phase is arbitrary angle and gate is not controlled. \n",
    "\n",
    "#### References\n",
    " - [Encoding Electronic Spectra in Quantum Circuits with Linear T Complexity](https://arxiv.org/abs/1805.03662).     Babbush et. al. (2018). Figure 1.\n"
   ]
  },
  {
   "cell_type": "code",
   "execution_count": null,
   "id": "66be6a6b",
   "metadata": {
    "cq.autogen": "ReflectionUsingPrepare.bloq_doc.py"
   },
   "outputs": [],
   "source": [
    "from qualtran.bloqs.reflections.reflection_using_prepare import ReflectionUsingPrepare"
   ]
  },
  {
   "cell_type": "markdown",
   "id": "a2e8bb58",
   "metadata": {
    "cq.autogen": "ReflectionUsingPrepare.example_instances.md"
   },
   "source": [
    "### Example Instances"
   ]
  },
  {
   "cell_type": "code",
   "execution_count": null,
   "id": "da5be2d8",
   "metadata": {
    "cq.autogen": "ReflectionUsingPrepare.refl_using_prep"
   },
   "outputs": [],
   "source": [
    "from qualtran.bloqs.state_preparation import StatePreparationAliasSampling\n",
    "\n",
    "data = [1] * 5\n",
    "eps = 1e-2\n",
    "prepare_gate = StatePreparationAliasSampling.from_lcu_probs(data, probability_epsilon=eps)\n",
    "\n",
    "refl_using_prep = ReflectionUsingPrepare(prepare_gate)"
   ]
  },
  {
   "cell_type": "code",
   "execution_count": null,
   "id": "ffe4f5b0",
   "metadata": {
    "cq.autogen": "ReflectionUsingPrepare.refl_around_zero"
   },
   "outputs": [],
   "source": [
    "refl_around_zero = ReflectionUsingPrepare.reflection_around_zero(\n",
    "    bitsizes=(1, 2, 3), global_phase=-1, control_val=1\n",
    ")"
   ]
  },
  {
   "cell_type": "markdown",
   "id": "7e7ff130",
   "metadata": {
    "cq.autogen": "ReflectionUsingPrepare.graphical_signature.md"
   },
   "source": [
    "#### Graphical Signature"
   ]
  },
  {
   "cell_type": "code",
   "execution_count": null,
   "id": "ca275420",
   "metadata": {
    "cq.autogen": "ReflectionUsingPrepare.graphical_signature.py"
   },
   "outputs": [],
   "source": [
    "from qualtran.drawing import show_bloqs\n",
    "show_bloqs([refl_using_prep, refl_around_zero],\n",
    "           ['`refl_using_prep`', '`refl_around_zero`'])"
   ]
  },
  {
   "cell_type": "markdown",
   "id": "c7c93d4b",
   "metadata": {
    "cq.autogen": "ReflectionUsingPrepare.call_graph.md"
   },
   "source": [
    "### Call Graph"
   ]
  },
  {
   "cell_type": "code",
   "execution_count": null,
   "id": "4ac6f8c5",
   "metadata": {
    "cq.autogen": "ReflectionUsingPrepare.call_graph.py"
   },
   "outputs": [],
   "source": [
    "from qualtran.resource_counting.generalizers import ignore_split_join\n",
    "refl_using_prep_g, refl_using_prep_sigma = refl_using_prep.call_graph(max_depth=1, generalizer=ignore_split_join)\n",
    "show_call_graph(refl_using_prep_g)\n",
    "show_counts_sigma(refl_using_prep_sigma)"
   ]
  }
 ],
 "metadata": {
  "kernelspec": {
   "display_name": "Python 3 (ipykernel)",
   "language": "python",
   "name": "python3"
  },
  "language_info": {
   "codemirror_mode": {
    "name": "ipython",
    "version": 3
   },
   "file_extension": ".py",
   "mimetype": "text/x-python",
   "name": "python",
   "nbconvert_exporter": "python",
   "pygments_lexer": "ipython3",
   "version": "3.11.8"
  }
 },
 "nbformat": 4,
 "nbformat_minor": 5
}
