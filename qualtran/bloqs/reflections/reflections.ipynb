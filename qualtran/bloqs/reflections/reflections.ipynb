{
 "cells": [
  {
   "cell_type": "markdown",
   "id": "67dad1d9",
   "metadata": {
    "cq.autogen": "title_cell"
   },
   "source": [
    "# Reflection"
   ]
  },
  {
   "cell_type": "code",
   "execution_count": null,
   "id": "74ba6a81",
   "metadata": {
    "cq.autogen": "top_imports"
   },
   "outputs": [],
   "source": [
    "from qualtran import Bloq, CompositeBloq, BloqBuilder, Signature, Register\n",
    "from qualtran import QBit, QInt, QUInt, QAny\n",
    "from qualtran.drawing import show_bloq, show_call_graph, show_counts_sigma\n",
    "from typing import *\n",
    "import numpy as np\n",
    "import sympy\n",
    "import cirq"
   ]
  },
  {
   "cell_type": "markdown",
   "id": "4dd5e11c",
   "metadata": {
    "cq.autogen": "Reflection.bloq_doc.md"
   },
   "source": [
    "## `Reflection`\n",
    "Perform a reflection about zero: $2|0\\rangle\\langle 0| - 1$\n",
    "\n",
    "This is implemented as a large multi-controlled Z operation. It's convenient\n",
    "for drawing diagrams to hide the decompostion into MultiControlPauli.\n",
    "\n",
    "#### Parameters\n",
    " - `bitsizes`: The bitsizes of each of the registers to reflect about.\n",
    " - `cvs`: The control values for each register.\n"
   ]
  },
  {
   "cell_type": "code",
   "execution_count": null,
   "id": "f6525f2f",
   "metadata": {
    "cq.autogen": "Reflection.bloq_doc.py"
   },
   "outputs": [],
   "source": [
    "from qualtran.bloqs.reflections import Reflection"
   ]
  },
  {
   "cell_type": "markdown",
   "id": "d4da8cd8",
   "metadata": {
    "cq.autogen": "Reflection.example_instances.md"
   },
   "source": [
    "### Example Instances"
   ]
  },
  {
   "cell_type": "code",
   "execution_count": null,
   "id": "67708928",
   "metadata": {
    "cq.autogen": "Reflection.reflection"
   },
   "outputs": [],
   "source": [
    "reflection = Reflection(bitsizes=(2, 3, 1), cvs=(0, 1, 1))"
   ]
  },
  {
   "cell_type": "markdown",
   "id": "088795e4",
   "metadata": {
    "cq.autogen": "Reflection.graphical_signature.md"
   },
   "source": [
    "#### Graphical Signature"
   ]
  },
  {
   "cell_type": "code",
   "execution_count": null,
   "id": "d3c180cf",
   "metadata": {
    "cq.autogen": "Reflection.graphical_signature.py"
   },
   "outputs": [],
   "source": [
    "from qualtran.drawing import show_bloqs\n",
    "show_bloqs([reflection],\n",
    "           ['`reflection`'])"
   ]
  },
  {
   "cell_type": "markdown",
   "id": "d3f6af13",
   "metadata": {
    "cq.autogen": "Reflection.call_graph.md"
   },
   "source": [
    "### Call Graph"
   ]
  },
  {
   "cell_type": "code",
   "execution_count": null,
   "id": "69cabf4b",
   "metadata": {
    "cq.autogen": "Reflection.call_graph.py"
   },
   "outputs": [],
   "source": [
    "from qualtran.resource_counting.generalizers import ignore_split_join\n",
    "reflection_g, reflection_sigma = reflection.call_graph(max_depth=1, generalizer=ignore_split_join)\n",
    "show_call_graph(reflection_g)\n",
    "show_counts_sigma(reflection_sigma)"
   ]
  }
 ],
 "metadata": {
  "kernelspec": {
   "display_name": "Python 3",
   "language": "python",
   "name": "python3"
  },
  "language_info": {
   "name": "python"
  }
 },
 "nbformat": 4,
 "nbformat_minor": 5
}
