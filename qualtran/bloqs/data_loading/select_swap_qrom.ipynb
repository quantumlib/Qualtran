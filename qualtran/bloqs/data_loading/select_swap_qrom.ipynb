{
 "cells": [
  {
   "cell_type": "markdown",
   "id": "8f717aa7",
   "metadata": {
    "cq.autogen": "title_cell"
   },
   "source": [
    "# SelectSwapQROM"
   ]
  },
  {
   "cell_type": "code",
   "execution_count": null,
   "id": "d0e99ddc",
   "metadata": {
    "cq.autogen": "top_imports"
   },
   "outputs": [],
   "source": [
    "from qualtran import Bloq, CompositeBloq, BloqBuilder, Signature, Register\n",
    "from qualtran import QBit, QInt, QUInt, QAny\n",
    "from qualtran.drawing import show_bloq, show_call_graph, show_counts_sigma\n",
    "from typing import *\n",
    "import numpy as np\n",
    "import sympy\n",
    "import cirq"
   ]
  },
  {
   "cell_type": "markdown",
   "id": "fc5770d6",
   "metadata": {
    "cq.autogen": "QROMBase.bloq_doc.md"
   },
   "source": [
    "## `QROMBase`\n",
    "Interface for Bloqs to load `data[l]` when the selection register stores index `l`.\n",
    "\n",
    "## Overview\n",
    "The action of a QROM can be described as\n",
    "$$\n",
    "        \\text{QROM}_{s_1, s_2, \\dots, s_K}^{d_1, d_2, \\dots, d_L}\n",
    "        |s_1\\rangle |s_2\\rangle \\dots |s_K\\rangle\n",
    "        |0\\rangle^{\\otimes b_1} |0\\rangle^{\\otimes b_2} \\dots |0\\rangle^{\\otimes b_L}\n",
    "        \\rightarrow\n",
    "        |s_1\\rangle |s_2\\rangle \\dots |s_K\\rangle\n",
    "        |d_1[s_1, s_2, \\dots, s_k]\\rangle\n",
    "        |d_2[s_1, s_2, \\dots, s_k]\\rangle \\dots\n",
    "        |d_L[s_1, s_2, \\dots, s_k]\\rangle\n",
    "$$\n",
    "\n",
    "A behavior of a QROM can be understood in terms of its classical analogue, where a for-loop\n",
    "over one or more (selection) indices can be used to load one or more classical datasets, where\n",
    "each of the classical dataset can be multidimensional.\n",
    "\n",
    "```\n",
    ">>> # N, M, P, Q, R, S, T are pre-initialized integer parameters.\n",
    ">>> output = [np.zeros((P, Q)), np.zeros((R, S, T))]\n",
    ">>> # Load two different classical datasets; each of different shape.\n",
    ">>> data = [np.random.rand(N, M, P, Q), np.random.rand(N, M, R, S, T)]\n",
    ">>> for i in range(N): # For loop over two selection indices i and j.\n",
    ">>>     for j in range(M):\n",
    ">>>        # Load two multidimensional classical datasets data[0] and data[1] s.t.\n",
    ">>>        # |i, j⟩|0⟩  -> |i, j⟩|data[0][i, j, :]⟩|data[1][i, j, :]⟩\n",
    ">>>        output[0] = data[0][i, j, :]\n",
    ">>>        output[1] = data[1][i, j, :]\n",
    "```\n",
    "\n",
    "The parameters that control the behavior and costs of a QROM are -\n",
    "\n",
    "1. Number of selection registers (eg: $i$, $j$) and their iteration lengths (eg: $N$, $M$).\n",
    "2. Number of target registers, their quantum datatype and shape.\n",
    "    - Number of target registers: One for each classical dataset to load (eg: $\\text{data}[0]$\n",
    "        and $\\text{data}[1]$)\n",
    "    - QDType of target registers: Depends on `dtype` of the $i$'th classical dataset\n",
    "    - Shape of target registers: Depends on shape of classical data (eg: $(P, Q)$ and\n",
    "        $(R, S, T)$ above)\n",
    "\n",
    "### Specification of classical data via `data_or_shape`\n",
    "Users can specify the classical data to load via QROM by passing in an appropriate value\n",
    "for `data_or_shape` attribute. This is a list of numpy arrays or `Shaped` objects, where\n",
    "each item of the list corresponds to a classical dataset to load.\n",
    "\n",
    "Each classical dataset to load can be specified as a numpy array (or a `Shaped` object for\n",
    "symbolic bloqs). The shape of the dataset is a union of the selection shape and target shape,\n",
    "s.t.\n",
    "$$\n",
    "    \\text{data[i].shape} = \\text{selection\\_shape} + \\text{target\\_shape[i]}\n",
    "$$\n",
    "\n",
    "Note that the $\\text{selection\\_shape}$ should be same across all classical datasets to be\n",
    "loaded and correspond to a tuple of iteration lengths of selection indices (i.e. $(N, M)$\n",
    "in the example above).\n",
    "\n",
    "The target shape of each classical dataset can be different and parameterizes the size of\n",
    "the desired output that should be loaded in a target register.\n",
    "\n",
    "### Number of selection registers and their iteration lengths\n",
    "As describe in the previous section, the number of selection registers and their iteration\n",
    "lengths can be inferred from the shape of the classical dataset. All classical datasets\n",
    "to be loaded must have the same $\\text{selection\\_shape}$, which is a tuple of iteration\n",
    "lengths over each dimension of the dataset (i.e. the range for each nested for-loop).\n",
    "\n",
    "In order to load a data set with $\\text{selection\\_shape} == (P, Q, R, S)$ the QROM bloq\n",
    "needs four selection registers with bitsizes $(p, q, r, s)$ where each of\n",
    "$p,q,r,s \\geq \\log_2{P}, \\log_2{Q}, \\log_2{R}, \\log_2{S}$.\n",
    "\n",
    "In general, to load $K$ dimensional data, we use $K$ named selection registers\n",
    "$(\\text{selection}_0, \\text{selection}_1, ..., \\text{selection}_k)$ to index and\n",
    "load the data. For the $i$'th selection register, its size is configured using\n",
    "attribute $\\text{selection\\_bitsizes[i]}$ and the iteration range is configued\n",
    "using $\\text{data\\_or\\_shape[0].shape[i]}$.\n",
    "\n",
    "### Number of target registers, their quantum datatype and shape\n",
    "QROM bloq uses one target register for each entry corresponding to classical dataset in the\n",
    "tuple `data_or_shape`. Thus, to load $L$ classical datsets, we use $L$ names target registers\n",
    "$(\\text{target}_0, \\text{target}_1, ..., \\text{target}_L)$\n",
    "\n",
    "Each named target register has a bitsize $b_{i}=\\text{target\\_bitsizes[i]}$ that represents\n",
    "the size of the register and depends upon the maximum value of individual elements in the\n",
    "$i$'th classical dataset.\n",
    "\n",
    "Each named target register has a shape that can be configured using attribute\n",
    "$\\text{target\\_shape[i]}$ that represents the number of target registers if the output to load\n",
    "is multidimensional.\n",
    "\n",
    "#### Parameters\n",
    " - `data_or_shape`: List of numpy ndarrays specifying the data to load. If the length of this list ($L$) is greater than one then we use the same selection indices to load each dataset. The shape of a classical dataset is a concatenation of selection_shape and target_shape[i]; i.e. `data_or_shape[i].shape = selection_shape + target_shape[i]`. Thus, each data set is required to have the same selection shape $(S_1, S_2, ..., S_K)$ and can have a different target shape given by `target_shapes[i]`. For symbolic QROMs, pass a list of `Shaped` objects instead with shape $(S_1, S_2, ..., S_K) + target_shape[i]$.\n",
    " - `selection_bitsizes`: The number of bits used to represent each selection register corresponding to the size of each dimension of the selection_shape $(S_1, S_2, ..., S_K)$. Should be the same length as the selection shape of each of the datasets and $2**\\text{selection\\_bitsizes[i]} >= S_i$\n",
    " - `target_shapes`: Shape of target registers for each classical dataset to be loaded. Must be consistent with `data_or_shape` s.t. `len(data_or_shape) == len(target_shapes)` and `data_or_shape[-len(target_shapes[i]):] == target_shapes[i]`.\n",
    " - `target_bitsizes`: Bitsize (or qdtype) of the target registers for each classical dataset to be loaded. This can be deduced from the maximum element of each of the datasets. Must be consistent with `data_or_shape` s.t. `len(data_or_shape) == len(target_bitsizes)` and `target_bitsizes[i] >= max(data[i]).bitsize`.\n",
    " - `num_controls`: The number of controls to instanstiate a controlled version of this bloq.\n"
   ]
  },
  {
   "cell_type": "markdown",
   "id": "818551d0",
   "metadata": {
    "cq.autogen": "SelectSwapQROM.bloq_doc.md"
   },
   "source": [
    "## `SelectSwapQROM`\n",
    "Gate to load data[l] in the target register when the selection register stores integer l.\n",
    "\n",
    "Let\n",
    "    N:= Number of data elements to load.\n",
    "    b:= Bit-length of the target register in which data elements should be loaded.\n",
    "\n",
    "The `SelectSwapQROM` is a hybrid of the following two existing primitives:\n",
    "\n",
    "- Unary Iteration based `QROM` requires O(N) T-gates to load `N` data\n",
    "elements into a b-bit target register. Note that the T-complexity is independent of `b`.\n",
    "- `SwapWithZeroGate` can swap a `b` bit register indexed `x` with a `b`\n",
    "bit register at index `0` using O(b) T-gates, if the selection register stores integer `x`.\n",
    "Note that the swap complexity is independent of the iteration length `N`.\n",
    "\n",
    "The `SelectSwapQROM` uses square root decomposition by combining the above two approaches to\n",
    "further optimize the T-gate complexity of loading `N` data elements, each into a `b` bit\n",
    "target register as follows:\n",
    "\n",
    "- Divide the `N` data elements into batches of size `B` (a variable) and\n",
    "load each batch simultaneously into `B` distinct target signature using the conventional\n",
    "QROM. This has T-complexity `O(N / B)`.\n",
    "- Use `SwapWithZeroGate` to swap the `i % B`'th target register in batch number `i / B`\n",
    "to load `data[i]` in the 0'th target register. This has T-complexity `O(B * b)`.\n",
    "\n",
    "This, the final T-complexity of `SelectSwapQROM` is `O(B * b + N / B)` T-gates; where `B` is\n",
    "the block-size with an optimal value of `O(sqrt(N / b))`.\n",
    "\n",
    "This improvement in T-complexity is achieved at the cost of using an additional `O(B * b)`\n",
    "ancilla qubits, with a nice property that these additional ancillas can be `dirty`; i.e.\n",
    "they don't need to start in the |0> state and thus can be borrowed from other parts of the\n",
    "algorithm. The state of these dirty ancillas would be unaffected after the operation has\n",
    "finished.\n",
    "\n",
    "For more details, see the reference below:\n",
    "\n",
    "#### References\n",
    " - [Trading T-gates for dirty qubits in state preparation and unitary synthesis](https://arxiv.org/abs/1812.00954). Low, Kliuchnikov, Schaeffer. 2018.\n",
    " - [Qubitization of Arbitrary Basis Quantum Chemistry Leveraging Sparsity and Low Rank Factorization](https://arxiv.org/abs/1902.02134).     Berry et. al. (2019). Appendix A. and B.\n"
   ]
  },
  {
   "cell_type": "code",
   "execution_count": null,
   "id": "b91df7f9",
   "metadata": {
    "cq.autogen": "SelectSwapQROM.bloq_doc.py"
   },
   "outputs": [],
   "source": [
    "from qualtran.bloqs.data_loading.select_swap_qrom import SelectSwapQROM"
   ]
  },
  {
   "cell_type": "markdown",
   "id": "514bbe62",
   "metadata": {
    "cq.autogen": "SelectSwapQROM.example_instances.md"
   },
   "source": [
    "### Example Instances"
   ]
  },
  {
   "cell_type": "code",
   "execution_count": null,
   "id": "17f62143",
   "metadata": {
    "cq.autogen": "SelectSwapQROM.qroam_multi_data"
   },
   "outputs": [],
   "source": [
    "data1 = np.arange(5)\n",
    "data2 = np.arange(5) + 1\n",
    "qroam_multi_data = SelectSwapQROM.build_from_data([data1, data2])"
   ]
  },
  {
   "cell_type": "code",
   "execution_count": null,
   "id": "757edd48",
   "metadata": {
    "cq.autogen": "SelectSwapQROM.qroam_multi_dim"
   },
   "outputs": [],
   "source": [
    "data1 = np.arange(25).reshape((5, 5))\n",
    "data2 = (np.arange(25) + 1).reshape((5, 5))\n",
    "qroam_multi_dim = SelectSwapQROM.build_from_data([data1, data2])"
   ]
  },
  {
   "cell_type": "code",
   "execution_count": null,
   "id": "655da4ad",
   "metadata": {
    "cq.autogen": "SelectSwapQROM.qroam_symb_dirty_1d"
   },
   "outputs": [],
   "source": [
    "N, b, k, c = sympy.symbols('N b k c')\n",
    "qroam_symb_dirty_1d = SelectSwapQROM.build_from_bitsize(\n",
    "    (N,), (b,), log_block_sizes=(k,), num_controls=c\n",
    ")"
   ]
  },
  {
   "cell_type": "code",
   "execution_count": null,
   "id": "2ebd4b95",
   "metadata": {
    "cq.autogen": "SelectSwapQROM.qroam_symb_dirty_2d"
   },
   "outputs": [],
   "source": [
    "N, M, b1, b2, k1, k2, c = sympy.symbols('N M b1 b2 k1 k2 c')\n",
    "log_block_sizes = (k1, k2)\n",
    "qroam_symb_dirty_2d = SelectSwapQROM.build_from_bitsize(\n",
    "    (N, M), (b1, b2), log_block_sizes=log_block_sizes, num_controls=c\n",
    ")"
   ]
  },
  {
   "cell_type": "code",
   "execution_count": null,
   "id": "792cda31",
   "metadata": {
    "cq.autogen": "SelectSwapQROM.qroam_symb_clean_1d"
   },
   "outputs": [],
   "source": [
    "N, b, k, c = sympy.symbols('N b k c')\n",
    "qroam_symb_clean_1d = SelectSwapQROM.build_from_bitsize(\n",
    "    (N,), (b,), log_block_sizes=(k,), num_controls=c, use_dirty_ancilla=False\n",
    ")"
   ]
  },
  {
   "cell_type": "code",
   "execution_count": null,
   "id": "05eac1c8",
   "metadata": {
    "cq.autogen": "SelectSwapQROM.qroam_symb_clean_2d"
   },
   "outputs": [],
   "source": [
    "N, M, b1, b2, k1, k2, c = sympy.symbols('N M b1 b2 k1 k2 c')\n",
    "log_block_sizes = (k1, k2)\n",
    "qroam_symb_clean_2d = SelectSwapQROM.build_from_bitsize(\n",
    "    (N, M), (b1, b2), log_block_sizes=log_block_sizes, num_controls=c, use_dirty_ancilla=False\n",
    ")"
   ]
  },
  {
   "cell_type": "markdown",
   "id": "21aac4da",
   "metadata": {
    "cq.autogen": "SelectSwapQROM.graphical_signature.md"
   },
   "source": [
    "#### Graphical Signature"
   ]
  },
  {
   "cell_type": "code",
   "execution_count": null,
   "id": "e86e1c78",
   "metadata": {
    "cq.autogen": "SelectSwapQROM.graphical_signature.py"
   },
   "outputs": [],
   "source": [
    "from qualtran.drawing import show_bloqs\n",
    "show_bloqs([qroam_multi_data, qroam_multi_dim, qroam_symb_dirty_1d, qroam_symb_dirty_2d, qroam_symb_clean_1d, qroam_symb_clean_2d],\n",
    "           ['`qroam_multi_data`', '`qroam_multi_dim`', '`qroam_symb_dirty_1d`', '`qroam_symb_dirty_2d`', '`qroam_symb_clean_1d`', '`qroam_symb_clean_2d`'])"
   ]
  },
  {
   "cell_type": "markdown",
   "id": "3f1de46e",
   "metadata": {
    "cq.autogen": "SelectSwapQROM.call_graph.md"
   },
   "source": [
    "### Call Graph"
   ]
  },
  {
   "cell_type": "code",
   "execution_count": null,
   "id": "66358a0c",
   "metadata": {
    "cq.autogen": "SelectSwapQROM.call_graph.py"
   },
   "outputs": [],
   "source": [
    "from qualtran.resource_counting.generalizers import ignore_split_join\n",
    "qroam_multi_data_g, qroam_multi_data_sigma = qroam_multi_data.call_graph(max_depth=1, generalizer=ignore_split_join)\n",
    "show_call_graph(qroam_multi_data_g)\n",
    "show_counts_sigma(qroam_multi_data_sigma)"
   ]
  },
  {
   "cell_type": "code",
   "execution_count": null,
   "id": "db0f8242",
   "metadata": {
    "cq.autogen": "QROMBase.bloq_doc.py"
   },
   "outputs": [],
   "source": []
  }
 ],
 "metadata": {
  "kernelspec": {
   "display_name": "Python 3 (ipykernel)",
   "language": "python",
   "name": "python3"
  },
  "language_info": {
   "codemirror_mode": {
    "name": "ipython",
    "version": 3
   },
   "file_extension": ".py",
   "mimetype": "text/x-python",
   "name": "python",
   "nbconvert_exporter": "python",
   "pygments_lexer": "ipython3",
   "version": "3.11.8"
  }
 },
 "nbformat": 4,
 "nbformat_minor": 5
}
