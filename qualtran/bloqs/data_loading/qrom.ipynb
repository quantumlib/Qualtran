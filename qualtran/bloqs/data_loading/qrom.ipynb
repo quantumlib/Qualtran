{
 "cells": [
  {
   "cell_type": "markdown",
   "id": "ffe91e97",
   "metadata": {
    "cq.autogen": "title_cell"
   },
   "source": [
    "# QROM\n",
    "\n",
    "Quantum read-only memory."
   ]
  },
  {
   "cell_type": "code",
   "execution_count": null,
   "id": "2737c79f",
   "metadata": {
    "cq.autogen": "top_imports"
   },
   "outputs": [],
   "source": [
    "from qualtran import Bloq, CompositeBloq, BloqBuilder, Signature, Register\n",
    "from qualtran import QBit, QInt, QUInt, QAny\n",
    "from qualtran.drawing import show_bloq, show_call_graph, show_counts_sigma\n",
    "from typing import *\n",
    "import numpy as np\n",
    "import sympy\n",
    "import cirq"
   ]
  },
  {
   "cell_type": "markdown",
   "id": "4ea4344b",
   "metadata": {
    "cq.autogen": "QROM.bloq_doc.md"
   },
   "source": [
    "## `QROM`\n",
    "Bloq to load `data[l]` in the target register when the selection stores an index `l`.\n",
    "\n",
    "## Overview\n",
    "The action of a QROM can be described as\n",
    "$$\n",
    "        \\text{QROM}_{s_1, s_2, \\dots, s_K}^{d_1, d_2, \\dots, d_L}\n",
    "        |s_1\\rangle |s_2\\rangle \\dots |s_K\\rangle\n",
    "        |0\\rangle^{\\otimes b_1} |0\\rangle^{\\otimes b_2} \\dots |0\\rangle^{\\otimes b_L}\n",
    "        \\rightarrow\n",
    "        |s_1\\rangle |s_2\\rangle \\dots |s_K\\rangle\n",
    "        |d_1[s_1, s_2, \\dots, s_k]\\rangle\n",
    "        |d_2[s_1, s_2, \\dots, s_k]\\rangle \\dots\n",
    "        |d_L[s_1, s_2, \\dots, s_k]\\rangle\n",
    "$$\n",
    "\n",
    "There two high level parameters that control the behavior of a QROM are -\n",
    "\n",
    "1. Shape of the classical dataset to be loaded ($\\text{data.shape} = (S_1, S_2, ..., S_K)$).\n",
    "2. Number of distinct datasets to be loaded ($\\text{data.bitsizes} = (b_1, b_2, ..., b_L)$).\n",
    "\n",
    "Each of these have an effect on the cost of the QROM. The `data_or_shape` parameter stores\n",
    "either\n",
    "1. A numpy array of shape $(L, S_1, S_2, ..., S_K)$ when $L$ classical datasets, each of\n",
    "   shape $(S_1, S_2, ..., S_K)$ and bitsizes $(b_1, b_2, ..., b_L)$ are to be loaded and\n",
    "   the classical data is available to instantiate the QROM bloq. In this case, the helper\n",
    "   builder `QROM.build_from_data(data_1, data_2, ..., data_L)` can be used to build the QROM.\n",
    "\n",
    "2. A `Shaped` object that stores a (potentially symbolic) tuple $(L, S_1, S_2, ..., S_K)$\n",
    "   that represents the number of classical datasets `L=data_or_shape.shape[0]` and\n",
    "   their shape `data_shape=data_or_shape.shape[1:]` to be loaded by this QROM. This is used\n",
    "   to instantiate QROM bloqs for symbolic cost analysis where the exact data to be loaded\n",
    "   is not known. In this case, the helper builder `QROM.build_from_bitsize` can be used\n",
    "   to build the QROM.\n",
    "\n",
    "### Shape of the classical dataset to be loaded.\n",
    "QROM bloq supports loading multidimensional classical datasets. In order to load a data\n",
    "set of shape $\\mathrm{data.shape} == (P, Q, R, S)$ the QROM bloq needs four selection\n",
    "registers with bitsizes $(p, q, r, s)$ where\n",
    "$p,q,r,s=\\log_2{P}, \\log_2{Q}, \\log_2{R}, \\log_2{S}$.\n",
    "\n",
    "In general, to load K dimensional data, we use K named selection registers `(selection0,\n",
    "selection1, ..., selection{k})` to index and load the data.\n",
    "\n",
    "The T/Toffoli cost of the QROM scales linearly with the number of elements in the dataset\n",
    "(i.e. $\\mathcal{O}(\\mathrm{np.prod(data.shape)}$).\n",
    "\n",
    "### Number of distinct datasets to be loaded, and their corresponding target bitsize.\n",
    "To load a classical dataset into a target register of bitsize $b$, the clifford cost of a QROM\n",
    "scales as $\\mathcal{O}(b \\mathrm{np.prod}(\\mathrm{data.shape}))$. This is because we need\n",
    "$\\mathcal{O}(b)$ CNOT gates to load the ith data element in the target register when the\n",
    "selection register stores index $i$.\n",
    "\n",
    "If you have multiple classical datasets `(data_1, data_2, data_3, ..., data_L)` to be loaded\n",
    "and each of them has the same shape `(data_1.shape == data_2.shape == ... == data_L.shape)`\n",
    "and different target bitsizes `(b_1, b_2, ..., b_L)`, then one construct a single classical\n",
    "dataset `data = merge(data_1, data_2, ..., data_L)` where\n",
    "\n",
    "- `data.shape == data_1.shape == data_2.shape == ... == data_L` and\n",
    "- `data[idx] = f'{data_1[idx]!0{b_1}b}' + f'{data_2[idx]!0{b_2}b}' + ... + f'{data_L[idx]!0{b_L}b}'`\n",
    "\n",
    "Thus, the target bitsize of the merged dataset is $b = b_1 + b_2 + \\dots + b_L$ and clifford\n",
    "cost of loading merged dataset scales as\n",
    "$\\mathcal{O}((b_1 + b_2 + \\dots + b_L) \\mathrm{np.prod}(\\mathrm{data.shape}))$.\n",
    "\n",
    "## Variable spaced QROM\n",
    "When the input classical data contains consecutive entries of identical data elements to\n",
    "load, the QROM also implements the \"variable-spaced\" QROM optimization described in Ref [2].\n",
    "\n",
    "#### Parameters\n",
    " - `data_or_shape`: List of numpy ndarrays specifying the data to load. If the length of this list ($L$) is greater than one then we use the same selection indices to load each dataset. Each data set is required to have the same shape $(S_1, S_2, ..., S_K)$ and to be of integer type. For symbolic QROMs, pass a `Shaped` object instead with shape $(L, S_1, S_2, ..., S_K)$.\n",
    " - `selection_bitsizes`: The number of bits used to represent each selection register corresponding to the size of each dimension of the array $(S_1, S_2, ..., S_K)$. Should be the same length as the shape of each of the datasets.\n",
    " - `target_bitsizes`: The number of bits used to represent the data signature. This can be deduced from the maximum element of each of the datasets. Should be a tuple $(b_1, b_2, ..., b_L)$ of length `L = len(data)`, i.e. the number of datasets to be loaded.\n",
    " - `num_controls`: The number of controls. \n",
    "\n",
    "#### References\n",
    " - [Encoding Electronic Spectra in Quantum Circuits with Linear T Complexity](https://arxiv.org/abs/1805.03662).     Babbush et. al. (2018). Figure 1.\n",
    " - [Compilation of Fault-Tolerant Quantum Heuristics for Combinatorial Optimization](https://arxiv.org/abs/2007.07391).     Babbush et. al. (2020). Figure 3.\n"
   ]
  },
  {
   "cell_type": "code",
   "execution_count": null,
   "id": "af317b30",
   "metadata": {
    "cq.autogen": "QROM.bloq_doc.py"
   },
   "outputs": [],
   "source": [
    "from qualtran.bloqs.data_loading.qrom import QROM"
   ]
  },
  {
   "cell_type": "markdown",
   "id": "d5d3a19d",
   "metadata": {
    "cq.autogen": "QROM.example_instances.md"
   },
   "source": [
    "### Example Instances"
   ]
  },
  {
   "cell_type": "code",
   "execution_count": null,
   "id": "5f02d641",
   "metadata": {
    "cq.autogen": "QROM.qrom_small"
   },
   "outputs": [],
   "source": [
    "data = np.arange(5)\n",
    "qrom_small = QROM([data], selection_bitsizes=(3,), target_bitsizes=(3,))"
   ]
  },
  {
   "cell_type": "code",
   "execution_count": null,
   "id": "c2f8b350",
   "metadata": {
    "cq.autogen": "QROM.qrom_multi_data"
   },
   "outputs": [],
   "source": [
    "data1 = np.arange(5)\n",
    "data2 = np.arange(5) + 1\n",
    "qrom_multi_data = QROM([data1, data2], selection_bitsizes=(3,), target_bitsizes=(3, 4))"
   ]
  },
  {
   "cell_type": "code",
   "execution_count": null,
   "id": "036cf220",
   "metadata": {
    "cq.autogen": "QROM.qrom_multi_dim"
   },
   "outputs": [],
   "source": [
    "data1 = np.arange(9).reshape((3, 3))\n",
    "data2 = (np.arange(9) + 1).reshape((3, 3))\n",
    "qrom_multi_dim = QROM([data1, data2], selection_bitsizes=(2, 2), target_bitsizes=(8, 8))"
   ]
  },
  {
   "cell_type": "code",
   "execution_count": null,
   "id": "a084ca8c-0c89-4439-86d9-51cf91e972c4",
   "metadata": {},
   "outputs": [],
   "source": [
    "N, M, b1, b2, c = sympy.symbols('N M b1 b2 c')\n",
    "qrom_symb = QROM.build_from_bitsize((N, M), (b1, b2), num_controls=c)\n",
    "qrom_symb"
   ]
  },
  {
   "cell_type": "markdown",
   "id": "b92d1c8e",
   "metadata": {
    "cq.autogen": "QROM.graphical_signature.md"
   },
   "source": [
    "#### Graphical Signature"
   ]
  },
  {
   "cell_type": "code",
   "execution_count": null,
   "id": "9681cfed",
   "metadata": {
    "cq.autogen": "QROM.graphical_signature.py"
   },
   "outputs": [],
   "source": [
    "from qualtran.drawing import show_bloqs\n",
    "show_bloqs([qrom_small, qrom_multi_data, qrom_multi_dim, qrom_symb],\n",
    "           ['`qrom_small`', '`qrom_multi_data`', '`qrom_multi_dim`', '`qrom_symb`'])"
   ]
  },
  {
   "cell_type": "markdown",
   "id": "8eb02cb9",
   "metadata": {
    "cq.autogen": "QROM.call_graph.md"
   },
   "source": [
    "### Call Graph"
   ]
  },
  {
   "cell_type": "code",
   "execution_count": null,
   "id": "7f29f104",
   "metadata": {
    "cq.autogen": "QROM.call_graph.py"
   },
   "outputs": [],
   "source": [
    "from qualtran.resource_counting.generalizers import ignore_split_join\n",
    "qrom_small_g, qrom_small_sigma = qrom_small.call_graph(max_depth=1, generalizer=ignore_split_join)\n",
    "show_call_graph(qrom_small_g)\n",
    "show_counts_sigma(qrom_small_sigma)"
   ]
  },
  {
   "cell_type": "code",
   "execution_count": null,
   "id": "5392752e-276e-434c-9d60-fadcf6478077",
   "metadata": {},
   "outputs": [],
   "source": [
    "qrom_symb_g, qrom_symb_sigma = qrom_symb.call_graph(generalizer=ignore_split_join)\n",
    "show_call_graph(qrom_symb_g)\n",
    "show_counts_sigma(qrom_symb_sigma)"
   ]
  },
  {
   "cell_type": "code",
   "execution_count": null,
   "id": "52a98d72",
   "metadata": {
    "cq.autogen": "QROM.qrom_symb"
   },
   "outputs": [],
   "source": [
    "N, M, b1, b2, c = sympy.symbols('N M b1 b2 c')\n",
    "qrom_symb = QROM.build_from_bitsize((N, M), (b1, b2), num_controls=c)"
   ]
  }
 ],
 "metadata": {
  "kernelspec": {
   "display_name": "Python 3 (ipykernel)",
   "language": "python",
   "name": "python3"
  },
  "language_info": {
   "codemirror_mode": {
    "name": "ipython",
    "version": 3
   },
   "file_extension": ".py",
   "mimetype": "text/x-python",
   "name": "python",
   "nbconvert_exporter": "python",
   "pygments_lexer": "ipython3",
   "version": "3.11.8"
  }
 },
 "nbformat": 4,
 "nbformat_minor": 5
}
