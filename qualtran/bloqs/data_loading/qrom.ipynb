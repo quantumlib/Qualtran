{
 "cells": [
  {
   "cell_type": "markdown",
   "id": "ffe91e97",
   "metadata": {
    "cq.autogen": "title_cell"
   },
   "source": [
    "# QROM\n",
    "\n",
    "Quantum read-only memory."
   ]
  },
  {
   "cell_type": "code",
   "execution_count": 1,
   "id": "2737c79f",
   "metadata": {
    "cq.autogen": "top_imports"
   },
   "outputs": [
    {
     "name": "stderr",
     "output_type": "stream",
     "text": [
      "/Users/tanujkhattar/opt/anaconda3/envs/qualtran2/lib/python3.11/site-packages/cotengra/hyperoptimizers/hyper.py:34: UserWarning: Couldn't import `kahypar` - skipping from default hyper optimizer and using basic `labels` method instead.\n",
      "  warnings.warn(\n"
     ]
    }
   ],
   "source": [
    "from qualtran import Bloq, CompositeBloq, BloqBuilder, Signature, Register\n",
    "from qualtran import QBit, QInt, QUInt, QAny\n",
    "from qualtran.drawing import show_bloq, show_call_graph, show_counts_sigma\n",
    "from typing import *\n",
    "import numpy as np\n",
    "import sympy\n",
    "import cirq"
   ]
  },
  {
   "cell_type": "markdown",
   "id": "4ea4344b",
   "metadata": {
    "cq.autogen": "QROM.bloq_doc.md"
   },
   "source": [
    "## `QROM`\n",
    "Bloq to load `data[l]` in the target register when the selection stores an index `l`.\n",
    "\n",
    "In the case of multidimensional `data[p,q,r,...]` we use multiple named\n",
    "selection registers to index and load the data named selection0, selection1, ...\n",
    "\n",
    "When the input data elements contain consecutive entries of identical data elements to\n",
    "load, the QROM also implements the \"variable-spaced\" QROM optimization described in Ref [2].\n",
    "\n",
    "#### Parameters\n",
    " - `data`: List of numpy ndarrays specifying the data to load. If the length of this list is greater than one then we use the same selection indices to load each dataset (for example, to load alt and keep data for state preparation). Each data set is required to have the same shape and to be of integer type.\n",
    " - `selection_bitsizes`: The number of bits used to represent each selection register corresponding to the size of each dimension of the array. Should be the same length as the shape of each of the datasets.\n",
    " - `target_bitsizes`: The number of bits used to represent the data signature. This can be deduced from the maximum element of each of the datasets. Should be of length len(data), i.e. the number of datasets.\n",
    " - `num_controls`: The number of control signature. \n",
    "\n",
    "#### References\n",
    " - [Encoding Electronic Spectra in Quantum Circuits with Linear T Complexity](https://arxiv.org/abs/1805.03662).     Babbush et. al. (2018). Figure 1.\n",
    " - [Compilation of Fault-Tolerant Quantum Heuristics for Combinatorial Optimization](https://arxiv.org/abs/2007.07391).     Babbush et. al. (2020). Figure 3.\n"
   ]
  },
  {
   "cell_type": "code",
   "execution_count": 2,
   "id": "af317b30",
   "metadata": {
    "cq.autogen": "QROM.bloq_doc.py"
   },
   "outputs": [
    {
     "name": "stderr",
     "output_type": "stream",
     "text": [
      "/Users/tanujkhattar/quantum/Qualtran/qualtran/bloqs/data_loading/qrom.py:143: SyntaxWarning: \"is\" with a literal. Did you mean \"==\"?\n",
      "  if selection_bitsizes is ():\n"
     ]
    }
   ],
   "source": [
    "from qualtran.bloqs.data_loading.qrom import QROM"
   ]
  },
  {
   "cell_type": "markdown",
   "id": "d5d3a19d",
   "metadata": {
    "cq.autogen": "QROM.example_instances.md"
   },
   "source": [
    "### Example Instances"
   ]
  },
  {
   "cell_type": "code",
   "execution_count": 3,
   "id": "5f02d641",
   "metadata": {
    "cq.autogen": "QROM.qrom_small"
   },
   "outputs": [],
   "source": [
    "data = np.arange(5)\n",
    "qrom_small = QROM([data], selection_bitsizes=(3,), target_bitsizes=(3,))"
   ]
  },
  {
   "cell_type": "code",
   "execution_count": 4,
   "id": "c2f8b350",
   "metadata": {
    "cq.autogen": "QROM.qrom_multi_data"
   },
   "outputs": [],
   "source": [
    "data1 = np.arange(5)\n",
    "data2 = np.arange(5) + 1\n",
    "qrom_multi_data = QROM([data1, data2], selection_bitsizes=(3,), target_bitsizes=(3, 4))"
   ]
  },
  {
   "cell_type": "code",
   "execution_count": 5,
   "id": "036cf220",
   "metadata": {
    "cq.autogen": "QROM.qrom_multi_dim"
   },
   "outputs": [],
   "source": [
    "data1 = np.arange(9).reshape((3, 3))\n",
    "data2 = (np.arange(9) + 1).reshape((3, 3))\n",
    "qrom_multi_dim = QROM([data1, data2], selection_bitsizes=(2, 2), target_bitsizes=(8, 8))"
   ]
  },
  {
   "cell_type": "code",
   "execution_count": 6,
   "id": "a084ca8c-0c89-4439-86d9-51cf91e972c4",
   "metadata": {},
   "outputs": [
    {
     "data": {
      "text/plain": [
       "QROM(data_or_shape=Shaped(shape=(2, N, M)), selection_bitsizes=(ceiling(log2(N - 1)), ceiling(log2(M - 1))), target_bitsizes=(b1, b2), num_controls=c)"
      ]
     },
     "execution_count": 6,
     "metadata": {},
     "output_type": "execute_result"
    }
   ],
   "source": [
    "N, M, b1, b2, c = sympy.symbols('N M b1 b2 c')\n",
    "qrom_symb = QROM.build_from_bitsize((N, M), (b1, b2), num_controls=c)\n",
    "qrom_symb"
   ]
  },
  {
   "cell_type": "markdown",
   "id": "b92d1c8e",
   "metadata": {
    "cq.autogen": "QROM.graphical_signature.md"
   },
   "source": [
    "#### Graphical Signature"
   ]
  },
  {
   "cell_type": "code",
   "execution_count": 7,
   "id": "9681cfed",
   "metadata": {
    "cq.autogen": "QROM.graphical_signature.py"
   },
   "outputs": [
    {
     "data": {
      "application/vnd.jupyter.widget-view+json": {
       "model_id": "ddfa1ff6362e457bb5450ef591c98e62",
       "version_major": 2,
       "version_minor": 0
      },
      "text/plain": [
       "HBox(children=(Output(outputs=({'output_type': 'display_data', 'data': {'text/plain': '<IPython.core.display.M…"
      ]
     },
     "metadata": {},
     "output_type": "display_data"
    }
   ],
   "source": [
    "from qualtran.drawing import show_bloqs\n",
    "show_bloqs([qrom_small, qrom_multi_data, qrom_multi_dim, qrom_symb],\n",
    "           ['`qrom_small`', '`qrom_multi_data`', '`qrom_multi_dim`', '`qrom_symb`'])"
   ]
  },
  {
   "cell_type": "markdown",
   "id": "8eb02cb9",
   "metadata": {
    "cq.autogen": "QROM.call_graph.md"
   },
   "source": [
    "### Call Graph"
   ]
  },
  {
   "cell_type": "code",
   "execution_count": 8,
   "id": "7f29f104",
   "metadata": {
    "cq.autogen": "QROM.call_graph.py"
   },
   "outputs": [
    {
     "data": {
      "image/svg+xml": [
       "<svg xmlns=\"http://www.w3.org/2000/svg\" xmlns:xlink=\"http://www.w3.org/1999/xlink\" width=\"558pt\" height=\"133pt\" viewBox=\"0.00 0.00 558.00 132.50\">\n",
       "<g id=\"graph0\" class=\"graph\" transform=\"scale(1 1) rotate(0) translate(4 128.5)\">\n",
       "<title>counts</title>\n",
       "<polygon fill=\"white\" stroke=\"none\" points=\"-4,4 -4,-128.5 554,-128.5 554,4 -4,4\"/>\n",
       "<!-- b0 -->\n",
       "<g id=\"node1\" class=\"node\">\n",
       "<title>b0</title>\n",
       "<polygon fill=\"none\" stroke=\"black\" points=\"550,-124.5 0,-124.5 0,-88.5 550,-88.5 550,-124.5\"/>\n",
       "<text text-anchor=\"start\" x=\"254.38\" y=\"-106.2\" font-family=\"Times,serif\" font-size=\"14.00\">QROM</text>\n",
       "<text text-anchor=\"start\" x=\"8\" y=\"-96\" font-family=\"monospace\" font-size=\"10.00\">data_or_shape=array([[ ..., selection_bitsizes=(3,), target_bitsizes=(3,), num_controls=0</text>\n",
       "</g>\n",
       "<!-- b1 -->\n",
       "<g id=\"node2\" class=\"node\">\n",
       "<title>b1</title>\n",
       "<polygon fill=\"none\" stroke=\"black\" points=\"194,-36 4,-36 4,0 194,0 194,-36\"/>\n",
       "<text text-anchor=\"start\" x=\"87.38\" y=\"-17.7\" font-family=\"Times,serif\" font-size=\"14.00\">And</text>\n",
       "<text text-anchor=\"start\" x=\"12\" y=\"-7.5\" font-family=\"monospace\" font-size=\"10.00\">cv1=1, cv2=0, uncompute=False</text>\n",
       "</g>\n",
       "<!-- b0&#45;&gt;b1 -->\n",
       "<g id=\"edge1\" class=\"edge\">\n",
       "<title>b0-&gt;b1</title>\n",
       "<path fill=\"none\" stroke=\"black\" d=\"M239.81,-88.2C212.44,-74.75 174.25,-55.99 144.55,-41.39\"/>\n",
       "<polygon fill=\"black\" stroke=\"black\" points=\"146.31,-38.35 135.79,-37.08 143.22,-44.63 146.31,-38.35\"/>\n",
       "<text text-anchor=\"middle\" x=\"206.38\" y=\"-57.2\" font-family=\"Times,serif\" font-size=\"14.00\">3</text>\n",
       "</g>\n",
       "<!-- b2 -->\n",
       "<g id=\"node3\" class=\"node\">\n",
       "<title>b2</title>\n",
       "<polygon fill=\"none\" stroke=\"black\" points=\"266,-36 212,-36 212,0 266,0 266,-36\"/>\n",
       "<text text-anchor=\"start\" x=\"221.38\" y=\"-12.95\" font-family=\"Times,serif\" font-size=\"14.00\">XGate</text>\n",
       "</g>\n",
       "<!-- b0&#45;&gt;b2 -->\n",
       "<g id=\"edge2\" class=\"edge\">\n",
       "<title>b0-&gt;b2</title>\n",
       "<path fill=\"none\" stroke=\"black\" d=\"M267.89,-88.41C262.94,-76.52 256.23,-60.41 250.53,-46.7\"/>\n",
       "<polygon fill=\"black\" stroke=\"black\" points=\"253.88,-45.64 246.8,-37.75 247.41,-48.32 253.88,-45.64\"/>\n",
       "<text text-anchor=\"middle\" x=\"264.38\" y=\"-57.2\" font-family=\"Times,serif\" font-size=\"14.00\">2</text>\n",
       "</g>\n",
       "<!-- b3 -->\n",
       "<g id=\"node4\" class=\"node\">\n",
       "<title>b3</title>\n",
       "<polygon fill=\"none\" stroke=\"black\" points=\"338,-36 284,-36 284,0 338,0 338,-36\"/>\n",
       "<text text-anchor=\"start\" x=\"292.62\" y=\"-12.95\" font-family=\"Times,serif\" font-size=\"14.00\">CNOT</text>\n",
       "</g>\n",
       "<!-- b0&#45;&gt;b3 -->\n",
       "<g id=\"edge3\" class=\"edge\">\n",
       "<title>b0-&gt;b3</title>\n",
       "<path fill=\"none\" stroke=\"black\" d=\"M282.11,-88.41C287.06,-76.52 293.77,-60.41 299.47,-46.7\"/>\n",
       "<polygon fill=\"black\" stroke=\"black\" points=\"302.59,-48.32 303.2,-37.75 296.12,-45.64 302.59,-48.32\"/>\n",
       "<text text-anchor=\"middle\" x=\"300.38\" y=\"-57.2\" font-family=\"Times,serif\" font-size=\"14.00\">8</text>\n",
       "</g>\n",
       "<!-- b4 -->\n",
       "<g id=\"node5\" class=\"node\">\n",
       "<title>b4</title>\n",
       "<polygon fill=\"none\" stroke=\"black\" points=\"540,-36 356,-36 356,0 540,0 540,-36\"/>\n",
       "<text text-anchor=\"start\" x=\"433\" y=\"-17.7\" font-family=\"Times,serif\" font-size=\"14.00\">And†</text>\n",
       "<text text-anchor=\"start\" x=\"364\" y=\"-7.5\" font-family=\"monospace\" font-size=\"10.00\">cv1=1, cv2=1, uncompute=True</text>\n",
       "</g>\n",
       "<!-- b0&#45;&gt;b4 -->\n",
       "<g id=\"edge4\" class=\"edge\">\n",
       "<title>b0-&gt;b4</title>\n",
       "<path fill=\"none\" stroke=\"black\" d=\"M309.59,-88.2C336.5,-74.75 374.03,-55.99 403.22,-41.39\"/>\n",
       "<polygon fill=\"black\" stroke=\"black\" points=\"404.44,-44.69 411.82,-37.09 401.31,-38.43 404.44,-44.69\"/>\n",
       "<text text-anchor=\"middle\" x=\"380.38\" y=\"-57.2\" font-family=\"Times,serif\" font-size=\"14.00\">3</text>\n",
       "</g>\n",
       "</g>\n",
       "</svg>"
      ],
      "text/plain": [
       "<IPython.core.display.SVG object>"
      ]
     },
     "metadata": {},
     "output_type": "display_data"
    },
    {
     "data": {
      "text/markdown": [
       "#### Counts totals:\n",
       " - `And(cv1=1, cv2=0, uncompute=False)`: 3\n",
       " - `And(cv1=1, cv2=1, uncompute=True)`: 3\n",
       " - `CNOT()`: 8\n",
       " - `XGate()`: 2"
      ],
      "text/plain": [
       "<IPython.core.display.Markdown object>"
      ]
     },
     "metadata": {},
     "output_type": "display_data"
    }
   ],
   "source": [
    "from qualtran.resource_counting.generalizers import ignore_split_join\n",
    "qrom_small_g, qrom_small_sigma = qrom_small.call_graph(max_depth=1, generalizer=ignore_split_join)\n",
    "show_call_graph(qrom_small_g)\n",
    "show_counts_sigma(qrom_small_sigma)"
   ]
  },
  {
   "cell_type": "code",
   "execution_count": 12,
   "id": "5392752e-276e-434c-9d60-fadcf6478077",
   "metadata": {},
   "outputs": [
    {
     "data": {
      "image/svg+xml": [
       "<svg xmlns=\"http://www.w3.org/2000/svg\" xmlns:xlink=\"http://www.w3.org/1999/xlink\" width=\"630pt\" height=\"223pt\" viewBox=\"0.00 0.00 630.00 222.50\">\n",
       "<g id=\"graph0\" class=\"graph\" transform=\"scale(1 1) rotate(0) translate(4 218.5)\">\n",
       "<title>counts</title>\n",
       "<polygon fill=\"white\" stroke=\"none\" points=\"-4,4 -4,-218.5 626,-218.5 626,4 -4,4\"/>\n",
       "<!-- b0 -->\n",
       "<g id=\"node1\" class=\"node\">\n",
       "<title>b0</title>\n",
       "<polygon fill=\"none\" stroke=\"black\" points=\"622,-214.5 0,-214.5 0,-178.5 622,-178.5 622,-214.5\"/>\n",
       "<text text-anchor=\"start\" x=\"290.38\" y=\"-196.2\" font-family=\"Times,serif\" font-size=\"14.00\">QROM</text>\n",
       "<text text-anchor=\"start\" x=\"8\" y=\"-186\" font-family=\"monospace\" font-size=\"10.00\">data_or_shape=Shaped(s ..., selection_bitsizes=(ceiling ..., target_bitsizes=(b1, b2), num_controls=c</text>\n",
       "</g>\n",
       "<!-- b1 -->\n",
       "<g id=\"node2\" class=\"node\">\n",
       "<title>b1</title>\n",
       "<polygon fill=\"none\" stroke=\"black\" points=\"266,-124.5 76,-124.5 76,-88.5 266,-88.5 266,-124.5\"/>\n",
       "<text text-anchor=\"start\" x=\"159.38\" y=\"-106.2\" font-family=\"Times,serif\" font-size=\"14.00\">And</text>\n",
       "<text text-anchor=\"start\" x=\"84\" y=\"-96\" font-family=\"monospace\" font-size=\"10.00\">cv1=1, cv2=1, uncompute=False</text>\n",
       "</g>\n",
       "<!-- b0&#45;&gt;b1 -->\n",
       "<g id=\"edge1\" class=\"edge\">\n",
       "<title>b0-&gt;b1</title>\n",
       "<path fill=\"none\" stroke=\"black\" d=\"M270.74,-178.17C259.86,-172.95 248.25,-166.9 238,-160.5 224.7,-152.19 210.95,-141.71 199.4,-132.26\"/>\n",
       "<polygon fill=\"black\" stroke=\"black\" points=\"201.74,-129.65 191.82,-125.94 197.26,-135.03 201.74,-129.65\"/>\n",
       "<text text-anchor=\"middle\" x=\"272.5\" y=\"-146.45\" font-family=\"Times,serif\" font-size=\"14.00\">M⋅N + c - 2</text>\n",
       "</g>\n",
       "<!-- b2 -->\n",
       "<g id=\"node3\" class=\"node\">\n",
       "<title>b2</title>\n",
       "<polygon fill=\"none\" stroke=\"black\" points=\"338,-124.5 284,-124.5 284,-88.5 338,-88.5 338,-124.5\"/>\n",
       "<text text-anchor=\"start\" x=\"292.62\" y=\"-101.45\" font-family=\"Times,serif\" font-size=\"14.00\">CNOT</text>\n",
       "</g>\n",
       "<!-- b0&#45;&gt;b2 -->\n",
       "<g id=\"edge2\" class=\"edge\">\n",
       "<title>b0-&gt;b2</title>\n",
       "<path fill=\"none\" stroke=\"black\" d=\"M311,-178.11C311,-166.18 311,-150.07 311,-136.24\"/>\n",
       "<polygon fill=\"black\" stroke=\"black\" points=\"314.5,-136.36 311,-126.36 307.5,-136.36 314.5,-136.36\"/>\n",
       "<text text-anchor=\"middle\" x=\"344\" y=\"-147.2\" font-family=\"Times,serif\" font-size=\"14.00\">M⋅N⋅b₁⋅b₂</text>\n",
       "</g>\n",
       "<!-- b3 -->\n",
       "<g id=\"node4\" class=\"node\">\n",
       "<title>b3</title>\n",
       "<polygon fill=\"none\" stroke=\"black\" points=\"540,-124.5 356,-124.5 356,-88.5 540,-88.5 540,-124.5\"/>\n",
       "<text text-anchor=\"start\" x=\"433\" y=\"-106.2\" font-family=\"Times,serif\" font-size=\"14.00\">And†</text>\n",
       "<text text-anchor=\"start\" x=\"364\" y=\"-96\" font-family=\"monospace\" font-size=\"10.00\">cv1=1, cv2=1, uncompute=True</text>\n",
       "</g>\n",
       "<!-- b0&#45;&gt;b3 -->\n",
       "<g id=\"edge3\" class=\"edge\">\n",
       "<title>b0-&gt;b3</title>\n",
       "<path fill=\"none\" stroke=\"black\" d=\"M349.2,-178.17C359.75,-172.92 371.03,-166.84 381,-160.5 394.23,-152.08 407.96,-141.58 419.52,-132.15\"/>\n",
       "<polygon fill=\"black\" stroke=\"black\" points=\"421.66,-134.92 427.12,-125.84 417.19,-129.54 421.66,-134.92\"/>\n",
       "<text text-anchor=\"middle\" x=\"439.5\" y=\"-146.45\" font-family=\"Times,serif\" font-size=\"14.00\">M⋅N + c - 2</text>\n",
       "</g>\n",
       "<!-- b4 -->\n",
       "<g id=\"node5\" class=\"node\">\n",
       "<title>b4</title>\n",
       "<polygon fill=\"none\" stroke=\"black\" points=\"227,-36 115,-36 115,0 227,0 227,-36\"/>\n",
       "<text text-anchor=\"start\" x=\"166.88\" y=\"-17.7\" font-family=\"Times,serif\" font-size=\"14.00\">T</text>\n",
       "<text text-anchor=\"start\" x=\"123\" y=\"-7.5\" font-family=\"monospace\" font-size=\"10.00\">is_adjoint=False</text>\n",
       "</g>\n",
       "<!-- b1&#45;&gt;b4 -->\n",
       "<g id=\"edge5\" class=\"edge\">\n",
       "<title>b1-&gt;b4</title>\n",
       "<path fill=\"none\" stroke=\"black\" d=\"M171,-88.41C171,-76.76 171,-61.05 171,-47.52\"/>\n",
       "<polygon fill=\"black\" stroke=\"black\" points=\"174.5,-47.86 171,-37.86 167.5,-47.86 174.5,-47.86\"/>\n",
       "<text text-anchor=\"middle\" x=\"174.38\" y=\"-57.2\" font-family=\"Times,serif\" font-size=\"14.00\">4</text>\n",
       "</g>\n",
       "<!-- b5 -->\n",
       "<g id=\"node6\" class=\"node\">\n",
       "<title>b5</title>\n",
       "<polygon fill=\"none\" stroke=\"black\" points=\"428.88,-36 319.12,-36 319.12,0 428.88,0 428.88,-36\"/>\n",
       "<text text-anchor=\"start\" x=\"327.12\" y=\"-17.7\" font-family=\"Times,serif\" font-size=\"14.00\">ArbitraryClifford</text>\n",
       "<text text-anchor=\"start\" x=\"365\" y=\"-7.5\" font-family=\"monospace\" font-size=\"10.00\">n=2</text>\n",
       "</g>\n",
       "<!-- b1&#45;&gt;b5 -->\n",
       "<g id=\"edge4\" class=\"edge\">\n",
       "<title>b1-&gt;b5</title>\n",
       "<path fill=\"none\" stroke=\"black\" d=\"M211.59,-88.2C243.57,-74.58 288.36,-55.49 322.8,-40.82\"/>\n",
       "<polygon fill=\"black\" stroke=\"black\" points=\"323.91,-44.15 331.74,-37.01 321.17,-37.71 323.91,-44.15\"/>\n",
       "<text text-anchor=\"middle\" x=\"294.38\" y=\"-57.2\" font-family=\"Times,serif\" font-size=\"14.00\">9</text>\n",
       "</g>\n",
       "<!-- b3&#45;&gt;b5 -->\n",
       "<g id=\"edge6\" class=\"edge\">\n",
       "<title>b3-&gt;b5</title>\n",
       "<path fill=\"none\" stroke=\"black\" d=\"M433.38,-88.41C422.81,-76.05 408.33,-59.13 396.32,-45.08\"/>\n",
       "<polygon fill=\"black\" stroke=\"black\" points=\"398.99,-42.82 389.83,-37.5 393.67,-47.37 398.99,-42.82\"/>\n",
       "<text text-anchor=\"middle\" x=\"420.38\" y=\"-57.2\" font-family=\"Times,serif\" font-size=\"14.00\">4</text>\n",
       "</g>\n",
       "</g>\n",
       "</svg>"
      ],
      "text/plain": [
       "<IPython.core.display.SVG object>"
      ]
     },
     "metadata": {},
     "output_type": "display_data"
    },
    {
     "data": {
      "text/markdown": [
       "#### Counts totals:\n",
       " - `ArbitraryClifford(n=2)`: $\\displaystyle 13 M N + 13 c - 26$\n",
       " - `CNOT()`: $\\displaystyle M N b_{1} b_{2}$\n",
       " - `TGate()`: $\\displaystyle 4 M N + 4 c - 8$"
      ],
      "text/plain": [
       "<IPython.core.display.Markdown object>"
      ]
     },
     "metadata": {},
     "output_type": "display_data"
    }
   ],
   "source": [
    "qrom_symb_g, qrom_symb_sigma = qrom_symb.call_graph(generalizer=ignore_split_join)\n",
    "show_call_graph(qrom_symb_g)\n",
    "show_counts_sigma(qrom_symb_sigma)"
   ]
  }
 ],
 "metadata": {
  "kernelspec": {
   "display_name": "Python 3 (ipykernel)",
   "language": "python",
   "name": "python3"
  },
  "language_info": {
   "codemirror_mode": {
    "name": "ipython",
    "version": 3
   },
   "file_extension": ".py",
   "mimetype": "text/x-python",
   "name": "python",
   "nbconvert_exporter": "python",
   "pygments_lexer": "ipython3",
   "version": "3.11.8"
  }
 },
 "nbformat": 4,
 "nbformat_minor": 5
}
