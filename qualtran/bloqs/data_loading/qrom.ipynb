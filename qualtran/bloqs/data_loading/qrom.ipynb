{
 "cells": [
  {
   "cell_type": "markdown",
   "id": "6a30c548",
   "metadata": {
    "cq.autogen": "title_cell"
   },
   "source": [
    "# QROM\n",
    "\n",
    "Quantum read-only memory."
   ]
  },
  {
   "cell_type": "code",
   "execution_count": null,
   "id": "20c4cf8d",
   "metadata": {
    "cq.autogen": "top_imports"
   },
   "outputs": [],
   "source": [
    "from qualtran import Bloq, CompositeBloq, BloqBuilder, Signature, Register\n",
    "from qualtran import QBit, QInt, QUInt, QAny\n",
    "from qualtran.drawing import show_bloq, show_call_graph, show_counts_sigma\n",
    "from typing import *\n",
    "import numpy as np\n",
    "import sympy\n",
    "import cirq"
   ]
  },
  {
   "cell_type": "markdown",
   "id": "ee1b29d3",
   "metadata": {
    "cq.autogen": "QROMBase.bloq_doc.md"
   },
   "source": [
    "## `QROMBase`\n",
    "Interface for Bloqs to load `data[l]` when the selection register stores index `l`.\n",
    "\n",
    "## Overview\n",
    "The action of a QROM can be described as\n",
    "$$\n",
    "        \\text{QROM}_{s_1, s_2, \\dots, s_K}^{d_1, d_2, \\dots, d_L}\n",
    "        |s_1\\rangle |s_2\\rangle \\dots |s_K\\rangle\n",
    "        |0\\rangle^{\\otimes b_1} |0\\rangle^{\\otimes b_2} \\dots |0\\rangle^{\\otimes b_L}\n",
    "        \\rightarrow\n",
    "        |s_1\\rangle |s_2\\rangle \\dots |s_K\\rangle\n",
    "        |d_1[s_1, s_2, \\dots, s_k]\\rangle\n",
    "        |d_2[s_1, s_2, \\dots, s_k]\\rangle \\dots\n",
    "        |d_L[s_1, s_2, \\dots, s_k]\\rangle\n",
    "$$\n",
    "\n",
    "A behavior of a QROM can be understood in terms of its classical analogue, where a for-loop\n",
    "over one or more (selection) indices can be used to load one or more classical datasets, where\n",
    "each of the classical dataset can be multidimensional.\n",
    "\n",
    "```\n",
    ">>> # N, M, P, Q, R, S, T are pre-initialized integer parameters.\n",
    ">>> output = [np.zeros((P, Q)), np.zeros((R, S, T))]\n",
    ">>> # Load two different classical datasets; each of different shape.\n",
    ">>> data = [np.random.rand(N, M, P, Q), np.random.rand(N, M, R, S, T)]\n",
    ">>> for i in range(N): # For loop over two selection indices i and j.\n",
    ">>>     for j in range(M):\n",
    ">>>        # Load two multidimensional classical datasets data[0] and data[1] s.t.\n",
    ">>>        # |i, j⟩|0⟩  -> |i, j⟩|data[0][i, j, :]⟩|data[1][i, j, :]⟩\n",
    ">>>        output[0] = data[0][i, j, :]\n",
    ">>>        output[1] = data[1][i, j, :]\n",
    "```\n",
    "\n",
    "The parameters that control the behavior and costs of a QROM are -\n",
    "\n",
    "1. Number of selection registers (eg: $i$, $j$) and their iteration lengths (eg: $N$, $M$).\n",
    "2. Number of target registers, their quantum datatype and shape.\n",
    "    - Number of target registers: One for each classical dataset to load (eg: $\\text{data}[0]$\n",
    "        and $\\text{data}[1]$)\n",
    "    - QDType of target registers: Depends on `dtype` of the $i$'th classical dataset\n",
    "    - Shape of target registers: Depends on shape of classical data (eg: $(P, Q)$ and\n",
    "        $(R, S, T)$ above)\n",
    "\n",
    "### Specification of classical data via `data_or_shape`\n",
    "Users can specify the classical data to load via QROM by passing in an appropriate value\n",
    "for `data_or_shape` attribute. This is a list of numpy arrays or `Shaped` objects, where\n",
    "each item of the list corresponds to a classical dataset to load.\n",
    "\n",
    "Each classical dataset to load can be specified as a numpy array (or a `Shaped` object for\n",
    "symbolic bloqs). The shape of the dataset is a union of the selection shape and target shape,\n",
    "s.t.\n",
    "$$\n",
    "    \\text{data[i].shape} = \\text{selection\\_shape} + \\text{target\\_shape[i]}\n",
    "$$\n",
    "\n",
    "Note that the $\\text{selection\\_shape}$ should be same across all classical datasets to be\n",
    "loaded and correspond to a tuple of iteration lengths of selection indices (i.e. $(N, M)$\n",
    "in the example above).\n",
    "\n",
    "The target shape of each classical dataset can be different and parameterizes the size of\n",
    "the desired output that should be loaded in a target register.\n",
    "\n",
    "### Number of selection registers and their iteration lengths\n",
    "As describe in the previous section, the number of selection registers and their iteration\n",
    "lengths can be inferred from the shape of the classical dataset. All classical datasets\n",
    "to be loaded must have the same $\\text{selection\\_shape}$, which is a tuple of iteration\n",
    "lengths over each dimension of the dataset (i.e. the range for each nested for-loop).\n",
    "\n",
    "In order to load a data set with $\\text{selection\\_shape} == (P, Q, R, S)$ the QROM bloq\n",
    "needs four selection registers with bitsizes $(p, q, r, s)$ where each of\n",
    "$p,q,r,s \\geq \\log_2{P}, \\log_2{Q}, \\log_2{R}, \\log_2{S}$.\n",
    "\n",
    "In general, to load $K$ dimensional data, we use $K$ named selection registers\n",
    "$(\\text{selection}_0, \\text{selection}_1, ..., \\text{selection}_k)$ to index and\n",
    "load the data. For the $i$'th selection register, its size is configured using\n",
    "attribute $\\text{selection\\_bitsizes[i]}$ and the iteration range is configued\n",
    "using $\\text{data\\_or\\_shape[0].shape[i]}$.\n",
    "\n",
    "### Number of target registers, their quantum datatype and shape\n",
    "QROM bloq uses one target register for each entry corresponding to classical dataset in the\n",
    "tuple `data_or_shape`. Thus, to load $L$ classical datsets, we use $L$ names target registers\n",
    "$(\\text{target}_0, \\text{target}_1, ..., \\text{target}_L)$\n",
    "\n",
    "Each named target register has a bitsize $b_{i}=\\text{target\\_bitsizes[i]}$ that represents\n",
    "the size of the register and depends upon the maximum value of individual elements in the\n",
    "$i$'th classical dataset.\n",
    "\n",
    "Each named target register has a shape that can be configured using attribute\n",
    "$\\text{target\\_shape[i]}$ that represents the number of target registers if the output to load\n",
    "is multidimensional.\n",
    "\n",
    "#### Parameters\n",
    " - `data_or_shape`: List of numpy ndarrays specifying the data to load. If the length of this list ($L$) is greater than one then we use the same selection indices to load each dataset. The shape of a classical dataset is a concatenation of selection_shape and target_shape[i]; i.e. `data_or_shape[i].shape = selection_shape + target_shape[i]`. Thus, each data set is required to have the same selection shape $(S_1, S_2, ..., S_K)$ and can have a different target shape given by `target_shapes[i]`. For symbolic QROMs, pass a list of `Shaped` objects instead with shape $(S_1, S_2, ..., S_K) + target_shape[i]$.\n",
    " - `selection_bitsizes`: The number of bits used to represent each selection register corresponding to the size of each dimension of the selection_shape $(S_1, S_2, ..., S_K)$. Should be the same length as the selection shape of each of the datasets and $2**\\text{selection\\_bitsizes[i]} >= S_i$\n",
    " - `target_shapes`: Shape of target registers for each classical dataset to be loaded. Must be consistent with `data_or_shape` s.t. `len(data_or_shape) == len(target_shapes)` and `data_or_shape[-len(target_shapes[i]):] == target_shapes[i]`.\n",
    " - `target_bitsizes`: Bitsize (or qdtype) of the target registers for each classical dataset to be loaded. This can be deduced from the maximum element of each of the datasets. Must be consistent with `data_or_shape` s.t. `len(data_or_shape) == len(target_bitsizes)` and `target_bitsizes[i] >= max(data[i]).bitsize`.\n",
    " - `num_controls`: The number of controls to instanstiate a controlled version of this bloq.\n"
   ]
  },
  {
   "cell_type": "markdown",
   "id": "9d6450ad",
   "metadata": {
    "cq.autogen": "QROM.bloq_doc.md"
   },
   "source": [
    "## `QROM`\n",
    "Bloq to load `data[l]` in the target register when the selection stores an index `l`.\n",
    "\n",
    "See docstrings of `QROMBase` for an overview of the QROM primitive and the various attributes.\n",
    "\n",
    "This bloq is an implementation of the `QROMBase` interface that uses the unary iteration based\n",
    "approach described in Ref [1].\n",
    "\n",
    "## Cost of this (unary iteration based) QROM\n",
    "\n",
    "### T / Toffoli cost\n",
    "The T/Toffoli cost of this QROM scales linearly with the product of iteration lengths over\n",
    "all dimensions (i.e. $\\mathcal{O}(\\mathrm{np.prod(\\text{selection\\_shape})}$).\n",
    "\n",
    "### Clifford Cost\n",
    "To load a classical dataset into a target register of bitsize $b$ and shape\n",
    "$\\text{target\\_shape}$, the clifford cost of this QROM scales as\n",
    "$\\mathcal{O}(b \\cdot \\text{np.prod(selection\\_shape+target\\_shape)})\n",
    "=\\mathcal{O}(b \\cdot \\text{np.prod(data.shape)})$. This is because we need $\\mathcal{O}(b)$\n",
    "CNOT gates to load 1 classical data element in the target register and for each of the\n",
    "$\\text{np.prod(selection\\_shape)}$ selection indices, we have $\\text{np.prod(target\\_shape)}$\n",
    "such data elements to load.\n",
    "\n",
    "### Ancilla cost\n",
    "The number of clean ancilla required by this QROM scales linearly with the size of the\n",
    "selection registers + number of controls.\n",
    "\n",
    "## Variable spaced QROM\n",
    "When the input classical data contains consecutive entries of identical data elements to\n",
    "load, the QROM also implements the \"variable-spaced\" QROM optimization described in Ref [2].\n",
    "\n",
    "#### References\n",
    " - [Encoding Electronic Spectra in Quantum Circuits with Linear T Complexity](https://arxiv.org/abs/1805.03662).     Babbush et. al. (2018). Figure 1.\n",
    " - [Compilation of Fault-Tolerant Quantum Heuristics for Combinatorial Optimization](https://arxiv.org/abs/2007.07391).     Babbush et. al. (2020). Figure 3.\n"
   ]
  },
  {
   "cell_type": "code",
   "execution_count": null,
   "id": "2c3d471e",
   "metadata": {
    "cq.autogen": "QROM.bloq_doc.py"
   },
   "outputs": [],
   "source": [
    "from qualtran.bloqs.data_loading.qrom import QROM"
   ]
  },
  {
   "cell_type": "markdown",
   "id": "0b256e78",
   "metadata": {
    "cq.autogen": "QROM.example_instances.md"
   },
   "source": [
    "### Example Instances"
   ]
  },
  {
   "cell_type": "code",
   "execution_count": null,
   "id": "c457f9f9",
   "metadata": {
    "cq.autogen": "QROM.qrom_small"
   },
   "outputs": [],
   "source": [
    "data = np.arange(5)\n",
    "qrom_small = QROM([data], selection_bitsizes=(3,), target_bitsizes=(3,))"
   ]
  },
  {
   "cell_type": "code",
   "execution_count": null,
   "id": "2b97c379",
   "metadata": {
    "cq.autogen": "QROM.qrom_multi_data"
   },
   "outputs": [],
   "source": [
    "data1 = np.arange(5)\n",
    "data2 = np.arange(5) + 1\n",
    "qrom_multi_data = QROM([data1, data2], selection_bitsizes=(3,), target_bitsizes=(3, 4))"
   ]
  },
  {
   "cell_type": "code",
   "execution_count": null,
   "id": "fc65e4e0",
   "metadata": {
    "cq.autogen": "QROM.qrom_multi_dim"
   },
   "outputs": [],
   "source": [
    "data1 = np.arange(9).reshape((3, 3))\n",
    "data2 = (np.arange(9) + 1).reshape((3, 3))\n",
    "qrom_multi_dim = QROM([data1, data2], selection_bitsizes=(2, 2), target_bitsizes=(8, 8))"
   ]
  },
  {
   "cell_type": "code",
   "execution_count": null,
   "id": "01c89177",
   "metadata": {
    "cq.autogen": "QROM.qrom_symb"
   },
   "outputs": [],
   "source": [
    "N, M, b1, b2, c = sympy.symbols('N M b1 b2 c')\n",
    "qrom_symb = QROM.build_from_bitsize((N, M), (b1, b2), num_controls=c)"
   ]
  },
  {
   "cell_type": "markdown",
   "id": "d063ce85",
   "metadata": {
    "cq.autogen": "QROM.graphical_signature.md"
   },
   "source": [
    "#### Graphical Signature"
   ]
  },
  {
   "cell_type": "code",
   "execution_count": null,
   "id": "8a3ea28a",
   "metadata": {
    "cq.autogen": "QROM.graphical_signature.py"
   },
   "outputs": [],
   "source": [
    "from qualtran.drawing import show_bloqs\n",
    "show_bloqs([qrom_small, qrom_multi_data, qrom_multi_dim, qrom_symb],\n",
    "           ['`qrom_small`', '`qrom_multi_data`', '`qrom_multi_dim`', '`qrom_symb`'])"
   ]
  },
  {
   "cell_type": "markdown",
   "id": "b63db87f",
   "metadata": {
    "cq.autogen": "QROM.call_graph.md"
   },
   "source": [
    "### Call Graph"
   ]
  },
  {
   "cell_type": "code",
   "execution_count": null,
   "id": "65639e51",
   "metadata": {
    "cq.autogen": "QROM.call_graph.py"
   },
   "outputs": [],
   "source": [
    "from qualtran.resource_counting.generalizers import ignore_split_join\n",
    "qrom_small_g, qrom_small_sigma = qrom_small.call_graph(max_depth=1, generalizer=ignore_split_join)\n",
    "show_call_graph(qrom_small_g)\n",
    "show_counts_sigma(qrom_small_sigma)"
   ]
  },
  {
   "cell_type": "code",
   "execution_count": null,
   "id": "dc767f91",
   "metadata": {
    "cq.autogen": "QROMBase.bloq_doc.py"
   },
   "outputs": [],
   "source": []
  }
 ],
 "metadata": {
  "kernelspec": {
   "display_name": "Python 3 (ipykernel)",
   "language": "python",
   "name": "python3"
  },
  "language_info": {
   "codemirror_mode": {
    "name": "ipython",
    "version": 3
   },
   "file_extension": ".py",
   "mimetype": "text/x-python",
   "name": "python",
   "nbconvert_exporter": "python",
   "pygments_lexer": "ipython3",
   "version": "3.11.8"
  }
 },
 "nbformat": 4,
 "nbformat_minor": 5
}
