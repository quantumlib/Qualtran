{
 "cells": [
  {
   "cell_type": "markdown",
   "id": "bd16181d",
   "metadata": {
    "cq.autogen": "title_cell"
   },
   "source": [
    "# GF($2^m$) Multiplication"
   ]
  },
  {
   "cell_type": "code",
   "execution_count": null,
   "id": "c6216556",
   "metadata": {
    "cq.autogen": "top_imports"
   },
   "outputs": [],
   "source": [
    "from qualtran import Bloq, CompositeBloq, BloqBuilder, Signature, Register\n",
    "from qualtran import QBit, QInt, QUInt, QAny\n",
    "from qualtran.drawing import show_bloq, show_call_graph, show_counts_sigma\n",
    "from typing import *\n",
    "import numpy as np\n",
    "import sympy\n",
    "import cirq"
   ]
  },
  {
   "cell_type": "markdown",
   "id": "667e99e4",
   "metadata": {
    "cq.autogen": "GF2Multiplication.bloq_doc.md"
   },
   "source": [
    "## `GF2Multiplication`\n",
    "Out of place multiplication over GF($2^m$).\n",
    "\n",
    "The bloq implements out of place multiplication of two quantum registers storing elements\n",
    "from GF($2^m$) using construction described in Ref[1], which extends the classical construction\n",
    "of Ref[2].\n",
    "\n",
    "To multiply two m-bit inputs $a = [a_0, a_1, ..., a_{m-1}]$ and $b = [b_0, b_1, ..., b_{m-1}]$,\n",
    "the construction computes the output vector $c$ via the following three steps:\n",
    "    1. Compute $e = U.b$ where $U$ is an upper triangular matrix constructed using $a$.\n",
    "    2. Compute $Q.e$ where $Q$ is an $m \\times (m - 1)$ reduction matrix that depends upon the\n",
    "        irreducible polynomial $P(x)$ of the galois field $GF(2^m)$. The i'th column of the\n",
    "        matrix corresponds to coefficients of the polynomial $x^{m + i} % P(x)$. This matrix $Q$\n",
    "        is a linear reversible circuit that can be implemented only using CNOT gates.\n",
    "    3. Compute $d = L.b$ where $L$ is a lower triangular matrix constructed using $a$.\n",
    "    4. Compute $c = d + Q.e$ to obtain the final product.\n",
    "\n",
    "Steps 1 and 3 are performed using $n^2$ Toffoli gates and step 2 is performed only using CNOT\n",
    "gates.\n",
    "\n",
    "#### Parameters\n",
    " - `bitsize`: The degree $m$ of the galois field $GF(2^m)$. Also corresponds to the number of qubits in each of the two input registers $a$ and $b$ that should be multiplied.\n",
    " - `plus_equal_prod`: If True, implements the `PlusEqualProduct` version that applies the map $|x\\rangle |y\\rangle |z\\rangle \\rightarrow |x\\rangle |y\\rangle |x + z\\rangle$. \n",
    "\n",
    "#### Registers\n",
    " - `x`: Input THRU register of size $m$ that stores elements from $GF(2^m)$.\n",
    " - `y`: Input THRU register of size $m$ that stores elements from $GF(2^m)$.\n",
    " - `result`: Register of size $m$ that stores the product $x * y$ in $GF(2^m)$. If plus_equal_prod is True - result is a THRU register and stores $result + x * y$. If plus_equal_prod is False - result is a RIGHT register and stores $x * y$.  \n",
    "\n",
    "#### References\n",
    " - [On the Design and Optimization of a Quantum Polynomial-Time Attack on Elliptic Curve Cryptography](https://arxiv.org/abs/0710.1093). \n",
    " - [Low complexity bit parallel architectures for polynomial basis multiplication over GF(2m)](https://ieeexplore.ieee.org/abstract/document/1306989). \n"
   ]
  },
  {
   "cell_type": "code",
   "execution_count": null,
   "id": "e7be0a06",
   "metadata": {
    "cq.autogen": "GF2Multiplication.bloq_doc.py"
   },
   "outputs": [],
   "source": [
    "from qualtran.bloqs.gf_arithmetic import GF2Multiplication"
   ]
  },
  {
   "cell_type": "markdown",
   "id": "eda29d2c",
   "metadata": {
    "cq.autogen": "GF2Multiplication.example_instances.md"
   },
   "source": [
    "### Example Instances"
   ]
  },
  {
   "cell_type": "code",
   "execution_count": null,
   "id": "19a69ab5",
   "metadata": {
    "cq.autogen": "GF2Multiplication.gf16_multiplication"
   },
   "outputs": [],
   "source": [
    "gf16_multiplication = GF2Multiplication(4, plus_equal_prod=True)"
   ]
  },
  {
   "cell_type": "code",
   "execution_count": null,
   "id": "a5d9f3a7",
   "metadata": {
    "cq.autogen": "GF2Multiplication.gf2_multiplication_symbolic"
   },
   "outputs": [],
   "source": [
    "import sympy\n",
    "\n",
    "m = sympy.Symbol('m')\n",
    "gf2_multiplication_symbolic = GF2Multiplication(m, plus_equal_prod=False)"
   ]
  },
  {
   "cell_type": "markdown",
   "id": "22e6b63a",
   "metadata": {
    "cq.autogen": "GF2Multiplication.graphical_signature.md"
   },
   "source": [
    "#### Graphical Signature"
   ]
  },
  {
   "cell_type": "code",
   "execution_count": null,
   "id": "345d09a7",
   "metadata": {
    "cq.autogen": "GF2Multiplication.graphical_signature.py"
   },
   "outputs": [],
   "source": [
    "from qualtran.drawing import show_bloqs\n",
    "show_bloqs([gf16_multiplication, gf2_multiplication_symbolic],\n",
    "           ['`gf16_multiplication`', '`gf2_multiplication_symbolic`'])"
   ]
  },
  {
   "cell_type": "markdown",
   "id": "94ab395f",
   "metadata": {
    "cq.autogen": "GF2Multiplication.call_graph.md"
   },
   "source": [
    "### Call Graph"
   ]
  },
  {
   "cell_type": "code",
   "execution_count": null,
   "id": "7701f35c",
   "metadata": {
    "cq.autogen": "GF2Multiplication.call_graph.py"
   },
   "outputs": [],
   "source": [
    "from qualtran.resource_counting.generalizers import ignore_split_join\n",
    "gf16_multiplication_g, gf16_multiplication_sigma = gf16_multiplication.call_graph(max_depth=1, generalizer=ignore_split_join)\n",
    "show_call_graph(gf16_multiplication_g)\n",
    "show_counts_sigma(gf16_multiplication_sigma)"
   ]
  },
  {
   "cell_type": "markdown",
   "id": "410bdd3b",
   "metadata": {
    "cq.autogen": "GF2MultiplyByConstantMod.bloq_doc.md"
   },
   "source": [
    "## `GF2MultiplyByConstantMod`\n",
    "Multiply by constant $f(x)$ modulu $m(x)$. Both $f(x)$ and $m(x)$ are constants.\n",
    "\n",
    "#### Parameters\n",
    " - `const`: The multiplication constant which is an element of the given field.\n",
    " - `galois_field`: The galois field that defines the arithmetics. \n",
    "\n",
    "#### Registers\n",
    " - `g`: The polynomial coefficients (in GF(2)). \n",
    "\n",
    "#### References\n",
    " - [Space-efficient quantum multiplication of polynomials for binary finite fields with     sub-quadratic Toffoli gate count](https://arxiv.org/abs/1910.02849v2). Algorithm 1\n"
   ]
  },
  {
   "cell_type": "code",
   "execution_count": null,
   "id": "fcca1ecd",
   "metadata": {
    "cq.autogen": "GF2MultiplyByConstantMod.bloq_doc.py"
   },
   "outputs": [],
   "source": [
    "from qualtran.bloqs.gf_arithmetic import GF2MultiplyByConstantMod"
   ]
  },
  {
   "cell_type": "markdown",
   "id": "f17b748f",
   "metadata": {
    "cq.autogen": "GF2MultiplyByConstantMod.example_instances.md"
   },
   "source": [
    "### Example Instances"
   ]
  },
  {
   "cell_type": "code",
   "execution_count": null,
   "id": "b34f2d09",
   "metadata": {
    "cq.autogen": "GF2MultiplyByConstantMod.gf2_multiply_by_constant_modulu"
   },
   "outputs": [],
   "source": [
    "import galois\n",
    "\n",
    "mx = galois.Poly.Degrees([0, 1, 3])  # x^3 + x + 1\n",
    "gf = galois.GF(2, 3, irreducible_poly=mx)\n",
    "const = gf(5)  # x^2 + 1\n",
    "gf2_multiply_by_constant_modulu = GF2MultiplyByConstantMod(const, gf)"
   ]
  },
  {
   "cell_type": "code",
   "execution_count": null,
   "id": "b8488436",
   "metadata": {
    "cq.autogen": "GF2MultiplyByConstantMod.gf2_poly_multiply_by_constant_modulu"
   },
   "outputs": [],
   "source": [
    "fx = [2, 0]  # x^2 + 1\n",
    "mx = [0, 1, 3]  # x^3 + x + 1\n",
    "gf2_poly_multiply_by_constant_modulu = GF2MultiplyByConstantMod.from_polynomials(fx, mx)"
   ]
  },
  {
   "cell_type": "markdown",
   "id": "0836d017",
   "metadata": {
    "cq.autogen": "GF2MultiplyByConstantMod.graphical_signature.md"
   },
   "source": [
    "#### Graphical Signature"
   ]
  },
  {
   "cell_type": "code",
   "execution_count": null,
   "id": "46c85d5d",
   "metadata": {
    "cq.autogen": "GF2MultiplyByConstantMod.graphical_signature.py"
   },
   "outputs": [],
   "source": [
    "from qualtran.drawing import show_bloqs\n",
    "show_bloqs([gf2_multiply_by_constant_modulu, gf2_poly_multiply_by_constant_modulu],\n",
    "           ['`gf2_multiply_by_constant_modulu`', '`gf2_poly_multiply_by_constant_modulu`'])"
   ]
  },
  {
   "cell_type": "markdown",
   "id": "fea3aa3d",
   "metadata": {
    "cq.autogen": "GF2MultiplyByConstantMod.call_graph.md"
   },
   "source": [
    "### Call Graph"
   ]
  },
  {
   "cell_type": "code",
   "execution_count": null,
   "id": "a73ee748",
   "metadata": {
    "cq.autogen": "GF2MultiplyByConstantMod.call_graph.py"
   },
   "outputs": [],
   "source": [
    "from qualtran.resource_counting.generalizers import ignore_split_join\n",
    "gf2_multiply_by_constant_modulu_g, gf2_multiply_by_constant_modulu_sigma = gf2_multiply_by_constant_modulu.call_graph(max_depth=1, generalizer=ignore_split_join)\n",
    "show_call_graph(gf2_multiply_by_constant_modulu_g)\n",
    "show_counts_sigma(gf2_multiply_by_constant_modulu_sigma)"
   ]
  },
  {
   "cell_type": "markdown",
   "id": "0b276213",
   "metadata": {
    "cq.autogen": "MultiplyPolyByOnePlusXk.bloq_doc.md"
   },
   "source": [
    "## `MultiplyPolyByOnePlusXk`\n",
    "Out of place multiplication of $(1 + x^k) fg$\n",
    "\n",
    "Applies the transformation\n",
    "$$\n",
    "\\ket{f}\\ket{g}\\ket{h} \\rightarrow \\ket{f}{\\ket{g}}\\ket{h \\oplus (1+x^k)fg}\n",
    "$$\n",
    "\n",
    "Note: While this construction follows Algorithm2 of https://arxiv.org/abs/1910.02849v2,\n",
    "it has a slight modification. Namely that the original construction doesn't work in\n",
    "some cases where $k < n$. However reversing the order of the first set of CNOTs (line 2)\n",
    "makes the construction work for all $k \\leq n+1$.\n",
    "\n",
    "#### Parameters\n",
    " - `n`: The degree of the polynomial ($2^n$ is the size of the galois field).\n",
    " - `k`: An integer specifing the shift $1 + x^k$ (or $1 + 2^k$ for galois fields.) \n",
    "\n",
    "#### Registers\n",
    " - `f`: The first polynomial.\n",
    " - `g`: The second polyonmial.\n",
    " - `h`: The target polynomial. \n",
    "\n",
    "#### References\n",
    " - [Space-efficient quantum multiplication of polynomials for binary finite fields with     sub-quadratic Toffoli gate count](https://arxiv.org/abs/1910.02849v2). Algorithm 2\n"
   ]
  },
  {
   "cell_type": "code",
   "execution_count": null,
   "id": "9949a24e",
   "metadata": {
    "cq.autogen": "MultiplyPolyByOnePlusXk.bloq_doc.py"
   },
   "outputs": [],
   "source": [
    "from qualtran.bloqs.gf_arithmetic import MultiplyPolyByOnePlusXk"
   ]
  },
  {
   "cell_type": "markdown",
   "id": "dd7c9a74",
   "metadata": {
    "cq.autogen": "MultiplyPolyByOnePlusXk.example_instances.md"
   },
   "source": [
    "### Example Instances"
   ]
  },
  {
   "cell_type": "code",
   "execution_count": null,
   "id": "ad918c9f",
   "metadata": {
    "cq.autogen": "MultiplyPolyByOnePlusXk.multiplypolybyoneplusxk"
   },
   "outputs": [],
   "source": [
    "n = 5\n",
    "k = 3\n",
    "multiplypolybyoneplusxk = MultiplyPolyByOnePlusXk(n, k)"
   ]
  },
  {
   "cell_type": "markdown",
   "id": "aa939469",
   "metadata": {
    "cq.autogen": "MultiplyPolyByOnePlusXk.graphical_signature.md"
   },
   "source": [
    "#### Graphical Signature"
   ]
  },
  {
   "cell_type": "code",
   "execution_count": null,
   "id": "648d128f",
   "metadata": {
    "cq.autogen": "MultiplyPolyByOnePlusXk.graphical_signature.py"
   },
   "outputs": [],
   "source": [
    "from qualtran.drawing import show_bloqs\n",
    "show_bloqs([multiplypolybyoneplusxk],\n",
    "           ['`multiplypolybyoneplusxk`'])"
   ]
  },
  {
   "cell_type": "markdown",
   "id": "4bb8dcef",
   "metadata": {
    "cq.autogen": "MultiplyPolyByOnePlusXk.call_graph.md"
   },
   "source": [
    "### Call Graph"
   ]
  },
  {
   "cell_type": "code",
   "execution_count": null,
   "id": "0890198e",
   "metadata": {
    "cq.autogen": "MultiplyPolyByOnePlusXk.call_graph.py"
   },
   "outputs": [],
   "source": [
    "from qualtran.resource_counting.generalizers import ignore_split_join\n",
    "multiplypolybyoneplusxk_g, multiplypolybyoneplusxk_sigma = multiplypolybyoneplusxk.call_graph(max_depth=1, generalizer=ignore_split_join)\n",
    "show_call_graph(multiplypolybyoneplusxk_g)\n",
    "show_counts_sigma(multiplypolybyoneplusxk_sigma)"
   ]
  },
  {
   "cell_type": "markdown",
   "id": "9d9d1540",
   "metadata": {
    "cq.autogen": "BinaryPolynomialMultiplication.bloq_doc.md"
   },
   "source": [
    "## `BinaryPolynomialMultiplication`\n",
    "Out of place multiplication of binary polynomial multiplication.\n",
    "\n",
    "Applies the transformation\n",
    "$$\n",
    "\\ket{f}\\ket{g}\\ket{h} \\rightarrow \\ket{f}{\\ket{g}}\\ket{h \\oplus fg}\n",
    "$$\n",
    "\n",
    "The toffoli cost of this construction is $n^{\\log_2{3}}$, while CNOT count is\n",
    "upper bounded by $(10 + \\frac{1}{3}) n^{\\log_2{3}}$.\n",
    "\n",
    "#### Parameters\n",
    " - `n`: The degree of the polynomial ($2^n$ is the size of the galois field). \n",
    "\n",
    "#### Registers\n",
    " - `f`: The first polynomial.\n",
    " - `g`: The second polyonmial.\n",
    " - `h`: The target polynomial. \n",
    "\n",
    "#### References\n",
    " - [Space-efficient quantum multiplication of polynomials for binary finite fields with     sub-quadratic Toffoli gate count](https://arxiv.org/abs/1910.02849v2). Algorithm 3\n"
   ]
  },
  {
   "cell_type": "code",
   "execution_count": null,
   "id": "1ba3a057",
   "metadata": {
    "cq.autogen": "BinaryPolynomialMultiplication.bloq_doc.py"
   },
   "outputs": [],
   "source": [
    "from qualtran.bloqs.gf_arithmetic import BinaryPolynomialMultiplication"
   ]
  },
  {
   "cell_type": "markdown",
   "id": "296d193b",
   "metadata": {
    "cq.autogen": "BinaryPolynomialMultiplication.example_instances.md"
   },
   "source": [
    "### Example Instances"
   ]
  },
  {
   "cell_type": "code",
   "execution_count": null,
   "id": "907fcd25",
   "metadata": {
    "cq.autogen": "BinaryPolynomialMultiplication.binarypolynomialmultiplication"
   },
   "outputs": [],
   "source": [
    "n = 5\n",
    "binarypolynomialmultiplication = BinaryPolynomialMultiplication(n)"
   ]
  },
  {
   "cell_type": "markdown",
   "id": "a100a193",
   "metadata": {
    "cq.autogen": "BinaryPolynomialMultiplication.graphical_signature.md"
   },
   "source": [
    "#### Graphical Signature"
   ]
  },
  {
   "cell_type": "code",
   "execution_count": null,
   "id": "aad80309",
   "metadata": {
    "cq.autogen": "BinaryPolynomialMultiplication.graphical_signature.py"
   },
   "outputs": [],
   "source": [
    "from qualtran.drawing import show_bloqs\n",
    "show_bloqs([binarypolynomialmultiplication],\n",
    "           ['`binarypolynomialmultiplication`'])"
   ]
  },
  {
   "cell_type": "markdown",
   "id": "c1d23614",
   "metadata": {
    "cq.autogen": "BinaryPolynomialMultiplication.call_graph.md"
   },
   "source": [
    "### Call Graph"
   ]
  },
  {
   "cell_type": "code",
   "execution_count": null,
   "id": "8dc799ef",
   "metadata": {
    "cq.autogen": "BinaryPolynomialMultiplication.call_graph.py"
   },
   "outputs": [],
   "source": [
    "from qualtran.resource_counting.generalizers import ignore_split_join\n",
    "binarypolynomialmultiplication_g, binarypolynomialmultiplication_sigma = binarypolynomialmultiplication.call_graph(max_depth=1, generalizer=ignore_split_join)\n",
    "show_call_graph(binarypolynomialmultiplication_g)\n",
    "show_counts_sigma(binarypolynomialmultiplication_sigma)"
   ]
  }
 ],
 "metadata": {
  "kernelspec": {
   "display_name": "Python 3 (ipykernel)",
   "language": "python",
   "name": "python3"
  },
  "language_info": {
   "codemirror_mode": {
    "name": "ipython",
    "version": 3
   },
   "file_extension": ".py",
   "mimetype": "text/x-python",
   "name": "python",
   "nbconvert_exporter": "python",
   "pygments_lexer": "ipython3",
   "version": "3.11.9"
  }
 },
 "nbformat": 4,
 "nbformat_minor": 5
}
