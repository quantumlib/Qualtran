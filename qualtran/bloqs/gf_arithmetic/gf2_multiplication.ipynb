{
 "cells": [
  {
   "cell_type": "markdown",
   "id": "aff10415",
   "metadata": {
    "cq.autogen": "title_cell"
   },
   "source": [
    "# GF($2^m$) Multiplication"
   ]
  },
  {
   "cell_type": "code",
   "execution_count": null,
   "id": "822840ed",
   "metadata": {
    "cq.autogen": "top_imports"
   },
   "outputs": [],
   "source": [
    "from qualtran import Bloq, CompositeBloq, BloqBuilder, Signature, Register\n",
    "from qualtran import QBit, QInt, QUInt, QAny\n",
    "from qualtran.drawing import show_bloq, show_call_graph, show_counts_sigma\n",
    "from typing import *\n",
    "import numpy as np\n",
    "import sympy\n",
    "import cirq"
   ]
  },
  {
   "cell_type": "markdown",
   "id": "3362cee1",
   "metadata": {
    "cq.autogen": "GF2Multiplication.bloq_doc.md"
   },
   "source": [
    "## `GF2Multiplication`\n",
    "Out of place multiplication over GF($2^m$).\n",
    "\n",
    "The bloq implements out of place multiplication of two quantum registers storing elements\n",
    "from GF($2^m$) using construction described in Ref[1], which extends the classical construction\n",
    "of Ref[2].\n",
    "\n",
    "To multiply two m-bit inputs $a = [a_0, a_1, ..., a_{m-1}]$ and $b = [b_0, b_1, ..., b_{m-1}]$,\n",
    "the construction computes the output vector $c$ via the following three steps:\n",
    "    1. Compute $e = U.b$ where $U$ is an upper triangular matrix constructed using $a$.\n",
    "    2. Compute $Q.e$ where $Q$ is an $m \\times (m - 1)$ reduction matrix that depends upon the\n",
    "        irreducible polynomial $P(x)$ of the galois field $GF(2^m)$. The i'th column of the\n",
    "        matrix corresponds to coefficients of the polynomial $x^{m + i} % P(x)$. This matrix $Q$\n",
    "        is a linear reversible circuit that can be implemented only using CNOT gates.\n",
    "    3. Compute $d = L.b$ where $L$ is a lower triangular matrix constructed using $a$.\n",
    "    4. Compute $c = d + Q.e$ to obtain the final product.\n",
    "\n",
    "Steps 1 and 3 are performed using $n^2$ Toffoli gates and step 2 is performed only using CNOT\n",
    "gates.\n",
    "\n",
    "#### Parameters\n",
    " - `bitsize`: The degree $m$ of the galois field $GF(2^m)$. Also corresponds to the number of qubits in each of the two input registers $a$ and $b$ that should be multiplied.\n",
    " - `plus_equal_prod`: If True, implements the `PlusEqualProduct` version that applies the map $|x\\rangle |y\\rangle |z\\rangle \\rightarrow |x\\rangle |y\\rangle |x + z\\rangle$. \n",
    "\n",
    "#### Registers\n",
    " - `x`: Input THRU register of size $m$ that stores elements from $GF(2^m)$.\n",
    " - `y`: Input THRU register of size $m$ that stores elements from $GF(2^m)$.\n",
    " - `result`: Register of size $m$ that stores the product $x * y$ in $GF(2^m)$. If plus_equal_prod is True - result is a THRU register and stores $result + x * y$. If plus_equal_prod is False - result is a RIGHT register and stores $x * y$.  \n",
    "\n",
    "#### References\n",
    " - [On the Design and Optimization of a Quantum Polynomial-Time Attack on Elliptic Curve Cryptography](https://arxiv.org/abs/0710.1093). \n",
    " - [Low complexity bit parallel architectures for polynomial basis multiplication over GF(2m)](https://ieeexplore.ieee.org/abstract/document/1306989). \n"
   ]
  },
  {
   "cell_type": "code",
   "execution_count": null,
   "id": "73b45bb2",
   "metadata": {
    "cq.autogen": "GF2Multiplication.bloq_doc.py"
   },
   "outputs": [],
   "source": [
    "from qualtran.bloqs.gf_arithmetic import GF2Multiplication"
   ]
  },
  {
   "cell_type": "markdown",
   "id": "8c045401",
   "metadata": {
    "cq.autogen": "GF2Multiplication.example_instances.md"
   },
   "source": [
    "### Example Instances"
   ]
  },
  {
   "cell_type": "code",
   "execution_count": null,
   "id": "74eff41e",
   "metadata": {
    "cq.autogen": "GF2Multiplication.gf16_multiplication"
   },
   "outputs": [],
   "source": [
    "gf16_multiplication = GF2Multiplication(4, plus_equal_prod=True)"
   ]
  },
  {
   "cell_type": "code",
   "execution_count": null,
   "id": "44921bed",
   "metadata": {
    "cq.autogen": "GF2Multiplication.gf2_multiplication_symbolic"
   },
   "outputs": [],
   "source": [
    "import sympy\n",
    "\n",
    "m = sympy.Symbol('m')\n",
    "gf2_multiplication_symbolic = GF2Multiplication(m, plus_equal_prod=False)"
   ]
  },
  {
   "cell_type": "markdown",
   "id": "84016d41",
   "metadata": {
    "cq.autogen": "GF2Multiplication.graphical_signature.md"
   },
   "source": [
    "#### Graphical Signature"
   ]
  },
  {
   "cell_type": "code",
   "execution_count": null,
   "id": "8356b26f",
   "metadata": {
    "cq.autogen": "GF2Multiplication.graphical_signature.py"
   },
   "outputs": [],
   "source": [
    "from qualtran.drawing import show_bloqs\n",
    "show_bloqs([gf16_multiplication, gf2_multiplication_symbolic],\n",
    "           ['`gf16_multiplication`', '`gf2_multiplication_symbolic`'])"
   ]
  },
  {
   "cell_type": "markdown",
   "id": "059573ca",
   "metadata": {
    "cq.autogen": "GF2Multiplication.call_graph.md"
   },
   "source": [
    "### Call Graph"
   ]
  },
  {
   "cell_type": "code",
   "execution_count": null,
   "id": "c7d3b3fe",
   "metadata": {
    "cq.autogen": "GF2Multiplication.call_graph.py"
   },
   "outputs": [],
   "source": [
    "from qualtran.resource_counting.generalizers import ignore_split_join\n",
    "gf16_multiplication_g, gf16_multiplication_sigma = gf16_multiplication.call_graph(max_depth=1, generalizer=ignore_split_join)\n",
    "show_call_graph(gf16_multiplication_g)\n",
    "show_counts_sigma(gf16_multiplication_sigma)"
   ]
  },
  {
   "cell_type": "markdown",
   "id": "4e5637a8",
   "metadata": {
    "cq.autogen": "GF2MulK.bloq_doc.md"
   },
   "source": [
    "## `GF2MulK`\n",
    "Multiply by constant $f(x)$ modulo $m(x)$. Both $f(x)$ and $m(x)$ are constants.\n",
    "\n",
    "#### Parameters\n",
    " - `const`: The multiplication constant which is an element of the given field.\n",
    " - `galois_field`: The galois field that defines the arithmetics. \n",
    "\n",
    "#### Registers\n",
    " - `g`: The polynomial coefficients (in GF(2)). \n",
    "\n",
    "#### References\n",
    " - [Space-efficient quantum multiplication of polynomials for binary finite fields with     sub-quadratic Toffoli gate count](https://arxiv.org/abs/1910.02849v2). Algorithm 1\n"
   ]
  },
  {
   "cell_type": "code",
   "execution_count": null,
   "id": "4cafb8b1",
   "metadata": {
    "cq.autogen": "GF2MulK.bloq_doc.py"
   },
   "outputs": [],
   "source": [
    "from qualtran.bloqs.gf_arithmetic import GF2MulK"
   ]
  },
  {
   "cell_type": "markdown",
   "id": "6b91e5b1",
   "metadata": {
    "cq.autogen": "GF2MulK.example_instances.md"
   },
   "source": [
    "### Example Instances"
   ]
  },
  {
   "cell_type": "code",
   "execution_count": null,
   "id": "29499f23",
   "metadata": {
    "cq.autogen": "GF2MulK.gf2_multiply_by_constant"
   },
   "outputs": [],
   "source": [
    "import galois\n",
    "\n",
    "from qualtran import QGF\n",
    "\n",
    "mx = galois.Poly.Degrees([0, 1, 3])  # x^3 + x + 1\n",
    "gf = galois.GF(2, 3, irreducible_poly=mx)\n",
    "const = 5  # x^2 + 1\n",
    "gf2_multiply_by_constant = GF2MulK(QGF(2, 3, mx), const)"
   ]
  },
  {
   "cell_type": "code",
   "execution_count": null,
   "id": "8549c9a7",
   "metadata": {
    "cq.autogen": "GF2MulK.gf2_poly_multiply_by_constant"
   },
   "outputs": [],
   "source": [
    "fx = [2, 0]  # x^2 + 1\n",
    "mx = [0, 1, 3]  # x^3 + x + 1\n",
    "gf2_poly_multiply_by_constant = GF2MulK.from_polynomials(fx, mx)"
   ]
  },
  {
   "cell_type": "markdown",
   "id": "99bfb42b",
   "metadata": {
    "cq.autogen": "GF2MulK.graphical_signature.md"
   },
   "source": [
    "#### Graphical Signature"
   ]
  },
  {
   "cell_type": "code",
   "execution_count": null,
   "id": "3fbecb4d",
   "metadata": {
    "cq.autogen": "GF2MulK.graphical_signature.py"
   },
   "outputs": [],
   "source": [
    "from qualtran.drawing import show_bloqs\n",
    "show_bloqs([gf2_multiply_by_constant, gf2_poly_multiply_by_constant],\n",
    "           ['`gf2_multiply_by_constant`', '`gf2_poly_multiply_by_constant`'])"
   ]
  },
  {
   "cell_type": "markdown",
   "id": "48d667aa",
   "metadata": {
    "cq.autogen": "GF2MulK.call_graph.md"
   },
   "source": [
    "### Call Graph"
   ]
  },
  {
   "cell_type": "code",
   "execution_count": null,
   "id": "7f02c78c",
   "metadata": {
    "cq.autogen": "GF2MulK.call_graph.py"
   },
   "outputs": [],
   "source": [
    "from qualtran.resource_counting.generalizers import ignore_split_join\n",
    "gf2_multiply_by_constant_g, gf2_multiply_by_constant_sigma = gf2_multiply_by_constant.call_graph(max_depth=1, generalizer=ignore_split_join)\n",
    "show_call_graph(gf2_multiply_by_constant_g)\n",
    "show_counts_sigma(gf2_multiply_by_constant_sigma)"
   ]
  },
  {
   "cell_type": "markdown",
   "id": "948b3cda",
   "metadata": {
    "cq.autogen": "MultiplyPolyByOnePlusXk.bloq_doc.md"
   },
   "source": [
    "## `MultiplyPolyByOnePlusXk`\n",
    "Out of place multiplication of $(1 + x^k) fg$\n",
    "\n",
    "Applies the transformation\n",
    "$$\n",
    "\\ket{f}\\ket{g}\\ket{h} \\rightarrow \\ket{f}{\\ket{g}}\\ket{h \\oplus (1+x^k)fg}\n",
    "$$\n",
    "\n",
    "Note: While this construction follows Algorithm2 of https://arxiv.org/abs/1910.02849v2,\n",
    "it has a slight modification. Namely that the original construction doesn't work in\n",
    "some cases where $k < n$. However reversing the order of the first set of CNOTs (line 2)\n",
    "makes the construction work for all $k \\leq n+1$.\n",
    "\n",
    "#### Parameters\n",
    " - `n`: The degree of the polynomial ($2^n$ is the size of the galois field).\n",
    " - `k`: An integer specifing the shift $1 + x^k$ (or $1 + 2^k$ for galois fields.) \n",
    "\n",
    "#### Registers\n",
    " - `f`: The first polynomial.\n",
    " - `g`: The second polyonmial.\n",
    " - `h`: The target polynomial. \n",
    "\n",
    "#### References\n",
    " - [Space-efficient quantum multiplication of polynomials for binary finite fields with     sub-quadratic Toffoli gate count](https://arxiv.org/abs/1910.02849v2). Algorithm 2\n"
   ]
  },
  {
   "cell_type": "code",
   "execution_count": null,
   "id": "b6829688",
   "metadata": {
    "cq.autogen": "MultiplyPolyByOnePlusXk.bloq_doc.py"
   },
   "outputs": [],
   "source": [
    "from qualtran.bloqs.gf_arithmetic import MultiplyPolyByOnePlusXk"
   ]
  },
  {
   "cell_type": "markdown",
   "id": "6b87b237",
   "metadata": {
    "cq.autogen": "MultiplyPolyByOnePlusXk.example_instances.md"
   },
   "source": [
    "### Example Instances"
   ]
  },
  {
   "cell_type": "code",
   "execution_count": null,
   "id": "c7d3c794",
   "metadata": {
    "cq.autogen": "MultiplyPolyByOnePlusXk.multiplypolybyoneplusxk"
   },
   "outputs": [],
   "source": [
    "n = 5\n",
    "k = 3\n",
    "multiplypolybyoneplusxk = MultiplyPolyByOnePlusXk(n, k)"
   ]
  },
  {
   "cell_type": "markdown",
   "id": "1b30eb2b",
   "metadata": {
    "cq.autogen": "MultiplyPolyByOnePlusXk.graphical_signature.md"
   },
   "source": [
    "#### Graphical Signature"
   ]
  },
  {
   "cell_type": "code",
   "execution_count": null,
   "id": "9cbbee3f",
   "metadata": {
    "cq.autogen": "MultiplyPolyByOnePlusXk.graphical_signature.py"
   },
   "outputs": [],
   "source": [
    "from qualtran.drawing import show_bloqs\n",
    "show_bloqs([multiplypolybyoneplusxk],\n",
    "           ['`multiplypolybyoneplusxk`'])"
   ]
  },
  {
   "cell_type": "markdown",
   "id": "17ffe5c9",
   "metadata": {
    "cq.autogen": "MultiplyPolyByOnePlusXk.call_graph.md"
   },
   "source": [
    "### Call Graph"
   ]
  },
  {
   "cell_type": "code",
   "execution_count": null,
   "id": "8c1af971",
   "metadata": {
    "cq.autogen": "MultiplyPolyByOnePlusXk.call_graph.py"
   },
   "outputs": [],
   "source": [
    "from qualtran.resource_counting.generalizers import ignore_split_join\n",
    "multiplypolybyoneplusxk_g, multiplypolybyoneplusxk_sigma = multiplypolybyoneplusxk.call_graph(max_depth=1, generalizer=ignore_split_join)\n",
    "show_call_graph(multiplypolybyoneplusxk_g)\n",
    "show_counts_sigma(multiplypolybyoneplusxk_sigma)"
   ]
  },
  {
   "cell_type": "markdown",
   "id": "d4fd5fea",
   "metadata": {
    "cq.autogen": "BinaryPolynomialMultiplication.bloq_doc.md"
   },
   "source": [
    "## `BinaryPolynomialMultiplication`\n",
    "Out of place multiplication of binary polynomial multiplication.\n",
    "\n",
    "Applies the transformation\n",
    "$$\n",
    "\\ket{f}\\ket{g}\\ket{h} \\rightarrow \\ket{f}{\\ket{g}}\\ket{h \\oplus fg}\n",
    "$$\n",
    "\n",
    "The toffoli cost of this construction is $n^{\\log_2{3}}$, while CNOT count is\n",
    "upper bounded by $(10 + \\frac{1}{3}) n^{\\log_2{3}}$.\n",
    "\n",
    "#### Parameters\n",
    " - `n`: The degree of the polynomial ($2^n$ is the size of the galois field). \n",
    "\n",
    "#### Registers\n",
    " - `f`: The first polynomial.\n",
    " - `g`: The second polyonmial.\n",
    " - `h`: The target polynomial. \n",
    "\n",
    "#### References\n",
    " - [Space-efficient quantum multiplication of polynomials for binary finite fields with     sub-quadratic Toffoli gate count](https://arxiv.org/abs/1910.02849v2). Algorithm 3\n"
   ]
  },
  {
   "cell_type": "code",
   "execution_count": null,
   "id": "4e245fdc",
   "metadata": {
    "cq.autogen": "BinaryPolynomialMultiplication.bloq_doc.py"
   },
   "outputs": [],
   "source": [
    "from qualtran.bloqs.gf_arithmetic import BinaryPolynomialMultiplication"
   ]
  },
  {
   "cell_type": "markdown",
   "id": "b263e584",
   "metadata": {
    "cq.autogen": "BinaryPolynomialMultiplication.example_instances.md"
   },
   "source": [
    "### Example Instances"
   ]
  },
  {
   "cell_type": "code",
   "execution_count": null,
   "id": "f4542d86",
   "metadata": {
    "cq.autogen": "BinaryPolynomialMultiplication.binarypolynomialmultiplication"
   },
   "outputs": [],
   "source": [
    "n = 5\n",
    "binarypolynomialmultiplication = BinaryPolynomialMultiplication(n)"
   ]
  },
  {
   "cell_type": "markdown",
   "id": "961c51ba",
   "metadata": {
    "cq.autogen": "BinaryPolynomialMultiplication.graphical_signature.md"
   },
   "source": [
    "#### Graphical Signature"
   ]
  },
  {
   "cell_type": "code",
   "execution_count": null,
   "id": "c06938bc",
   "metadata": {
    "cq.autogen": "BinaryPolynomialMultiplication.graphical_signature.py"
   },
   "outputs": [],
   "source": [
    "from qualtran.drawing import show_bloqs\n",
    "show_bloqs([binarypolynomialmultiplication],\n",
    "           ['`binarypolynomialmultiplication`'])"
   ]
  },
  {
   "cell_type": "markdown",
   "id": "cedca829",
   "metadata": {
    "cq.autogen": "BinaryPolynomialMultiplication.call_graph.md"
   },
   "source": [
    "### Call Graph"
   ]
  },
  {
   "cell_type": "code",
   "execution_count": null,
   "id": "9484079a",
   "metadata": {
    "cq.autogen": "BinaryPolynomialMultiplication.call_graph.py"
   },
   "outputs": [],
   "source": [
    "from qualtran.resource_counting.generalizers import ignore_split_join\n",
    "binarypolynomialmultiplication_g, binarypolynomialmultiplication_sigma = binarypolynomialmultiplication.call_graph(max_depth=1, generalizer=ignore_split_join)\n",
    "show_call_graph(binarypolynomialmultiplication_g)\n",
    "show_counts_sigma(binarypolynomialmultiplication_sigma)"
   ]
  },
  {
   "cell_type": "markdown",
   "id": "0cdf9b44",
   "metadata": {
    "cq.autogen": "GF2ShiftRight.bloq_doc.md"
   },
   "source": [
    "## `GF2ShiftRight`\n",
    "Multiplies by $2^k$ (or $x^k$ for polynomials) modulo the given irreducible polynomial.\n",
    "\n",
    "Applies the transformation\n",
    "$$\n",
    "    \\ket{f} \\rightarrow \\ket{x^k f \\mod m(x)}\n",
    "$$\n",
    "\n",
    "Where the modulus $m(x)$ is the irreducible polynomial defining the galois field arithmetic.\n",
    "\n",
    "#### Parameters\n",
    " - `m_x`: The irreducible polynomial that defines the galois field.\n",
    " - `k`: The number of shifts (i.e. the exponent of $2$ or $x$). \n",
    "\n",
    "#### Registers\n",
    " - `f`: The number (polynomial) to shift. \n",
    "\n",
    "#### References\n",
    " - [Space-efficient quantum multiplication of polynomials for binary finite fields with     sub-quadratic Toffoli gate count](https://arxiv.org/abs/1910.02849v2). Section 3.1\n"
   ]
  },
  {
   "cell_type": "code",
   "execution_count": null,
   "id": "f8442bce",
   "metadata": {
    "cq.autogen": "GF2ShiftRight.bloq_doc.py"
   },
   "outputs": [],
   "source": [
    "from qualtran.bloqs.gf_arithmetic import GF2ShiftRight"
   ]
  },
  {
   "cell_type": "markdown",
   "id": "0564def6",
   "metadata": {
    "cq.autogen": "GF2ShiftRight.example_instances.md"
   },
   "source": [
    "### Example Instances"
   ]
  },
  {
   "cell_type": "code",
   "execution_count": null,
   "id": "5cd0bafe",
   "metadata": {
    "cq.autogen": "GF2ShiftRight.gf2shiftright"
   },
   "outputs": [],
   "source": [
    "m_x = [5, 2, 0]  # x^5 + x^2 + 1\n",
    "gf2shiftright = GF2ShiftRight(QGF(2, 5, m_x), k=3)  # shift by 3"
   ]
  },
  {
   "cell_type": "markdown",
   "id": "a4f243a3",
   "metadata": {
    "cq.autogen": "GF2ShiftRight.graphical_signature.md"
   },
   "source": [
    "#### Graphical Signature"
   ]
  },
  {
   "cell_type": "code",
   "execution_count": null,
   "id": "e4714dd8",
   "metadata": {
    "cq.autogen": "GF2ShiftRight.graphical_signature.py"
   },
   "outputs": [],
   "source": [
    "from qualtran.drawing import show_bloqs\n",
    "show_bloqs([gf2shiftright],\n",
    "           ['`gf2shiftright`'])"
   ]
  },
  {
   "cell_type": "markdown",
   "id": "3f738750",
   "metadata": {
    "cq.autogen": "GF2ShiftRight.call_graph.md"
   },
   "source": [
    "### Call Graph"
   ]
  },
  {
   "cell_type": "code",
   "execution_count": null,
   "id": "d467f6f7",
   "metadata": {
    "cq.autogen": "GF2ShiftRight.call_graph.py"
   },
   "outputs": [],
   "source": [
    "from qualtran.resource_counting.generalizers import ignore_split_join\n",
    "gf2shiftright_g, gf2shiftright_sigma = gf2shiftright.call_graph(max_depth=1, generalizer=ignore_split_join)\n",
    "show_call_graph(gf2shiftright_g)\n",
    "show_counts_sigma(gf2shiftright_sigma)"
   ]
  },
  {
   "cell_type": "markdown",
   "id": "3006b0ea",
   "metadata": {
    "cq.autogen": "GF2MulViaKaratsuba.bloq_doc.md"
   },
   "source": [
    "## `GF2MulViaKaratsuba`\n",
    "Multiplies two GF($2^n$) numbers (or binary polynomials) modulo $m(x)$.\n",
    "\n",
    "Applies the transformation\n",
    "$$\n",
    "    \\ket{f}\\ket{g} \\rightarrow \\ket{f} \\ket{g} \\ket{f*g \\mod m(x)}\n",
    "$$\n",
    "\n",
    "Where the modulus $m(x)$ is the irreducible polynomial defining the galois field arithmetic.\n",
    "The toffoli complexity is $n^{\\log_2{3}}$\n",
    "\n",
    "#### Parameters\n",
    " - `m_x`: The irreducible polynomial that defines the galois field.\n",
    " - `uncompute`: Whether to compute or uncompute the product. \n",
    "\n",
    "#### Registers\n",
    " - `x`: A TRHU register representing the first number (or polynomial).\n",
    " - `y`: A TRHU register representing the second number (polynomial).\n",
    " - `result`: The result (a RIGHT register). \n",
    "\n",
    "#### References\n",
    " - [Space-efficient quantum multiplication of polynomials for binary finite fields with     sub-quadratic Toffoli gate count](https://arxiv.org/abs/1910.02849v2). Algorithm 4.\n"
   ]
  },
  {
   "cell_type": "code",
   "execution_count": null,
   "id": "4d63e074",
   "metadata": {
    "cq.autogen": "GF2MulViaKaratsuba.bloq_doc.py"
   },
   "outputs": [],
   "source": [
    "from qualtran.bloqs.gf_arithmetic import GF2MulViaKaratsuba"
   ]
  },
  {
   "cell_type": "markdown",
   "id": "616b5a02",
   "metadata": {
    "cq.autogen": "GF2MulViaKaratsuba.example_instances.md"
   },
   "source": [
    "### Example Instances"
   ]
  },
  {
   "cell_type": "code",
   "execution_count": null,
   "id": "c799f7a9",
   "metadata": {
    "cq.autogen": "GF2MulViaKaratsuba.gf2mulviakaratsuba"
   },
   "outputs": [],
   "source": [
    "m_x = [5, 2, 0]  # x^5 + x^2 + 1\n",
    "gf2mulviakaratsuba = GF2MulViaKaratsuba(QGF(2, 5, m_x))"
   ]
  },
  {
   "cell_type": "markdown",
   "id": "b9425d24",
   "metadata": {
    "cq.autogen": "GF2MulViaKaratsuba.graphical_signature.md"
   },
   "source": [
    "#### Graphical Signature"
   ]
  },
  {
   "cell_type": "code",
   "execution_count": null,
   "id": "c0a2fbf5",
   "metadata": {
    "cq.autogen": "GF2MulViaKaratsuba.graphical_signature.py"
   },
   "outputs": [],
   "source": [
    "from qualtran.drawing import show_bloqs\n",
    "show_bloqs([gf2mulviakaratsuba],\n",
    "           ['`gf2mulviakaratsuba`'])"
   ]
  },
  {
   "cell_type": "markdown",
   "id": "8b8cecc3",
   "metadata": {
    "cq.autogen": "GF2MulViaKaratsuba.call_graph.md"
   },
   "source": [
    "### Call Graph"
   ]
  },
  {
   "cell_type": "code",
   "execution_count": null,
   "id": "a7df51ba",
   "metadata": {
    "cq.autogen": "GF2MulViaKaratsuba.call_graph.py"
   },
   "outputs": [],
   "source": [
    "from qualtran.resource_counting.generalizers import ignore_split_join\n",
    "gf2mulviakaratsuba_g, gf2mulviakaratsuba_sigma = gf2mulviakaratsuba.call_graph(max_depth=1, generalizer=ignore_split_join)\n",
    "show_call_graph(gf2mulviakaratsuba_g)\n",
    "show_counts_sigma(gf2mulviakaratsuba_sigma)"
   ]
  }
 ],
 "metadata": {
  "kernelspec": {
   "display_name": "Python 3",
   "language": "python",
   "name": "python3"
  },
  "language_info": {
   "name": "python"
  }
 },
 "nbformat": 4,
 "nbformat_minor": 5
}
