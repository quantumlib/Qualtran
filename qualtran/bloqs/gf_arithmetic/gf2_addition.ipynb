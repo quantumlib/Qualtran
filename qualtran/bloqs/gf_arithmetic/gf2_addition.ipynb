{
 "cells": [
  {
   "cell_type": "markdown",
   "id": "52204197",
   "metadata": {
    "cq.autogen": "title_cell"
   },
   "source": [
    "# GF($2^m$) Addition"
   ]
  },
  {
   "cell_type": "code",
   "execution_count": null,
   "id": "74b61b7c",
   "metadata": {
    "cq.autogen": "top_imports"
   },
   "outputs": [],
   "source": [
    "from qualtran import Bloq, CompositeBloq, BloqBuilder, Signature, Register\n",
    "from qualtran import QBit, QInt, QUInt, QAny\n",
    "from qualtran.drawing import show_bloq, show_call_graph, show_counts_sigma\n",
    "from typing import *\n",
    "import numpy as np\n",
    "import sympy\n",
    "import cirq"
   ]
  },
  {
   "cell_type": "markdown",
   "id": "fab3b162",
   "metadata": {
    "cq.autogen": "GF2Addition.bloq_doc.md"
   },
   "source": [
    "## `GF2Addition`\n",
    "In place addition over GF($2^m$).\n",
    "\n",
    "The bloq implements in place addition of two quantum registers storing elements\n",
    "from GF($2^m$). Addition in GF($2^m$) simply reduces to a component wise XOR, which\n",
    "can be implemented via CNOT gates. The addition is performed in-place such that\n",
    "\n",
    "$$\n",
    "|x\\rangle |y\\rangle \\rightarrow |x\\rangle |x + y\\rangle\n",
    "$$\n",
    "\n",
    "#### Parameters\n",
    " - `bitsize`: The degree $m$ of the galois field $GF(2^m)$. Also corresponds to the number of qubits in each of the two input registers x and y that should be added. \n",
    "\n",
    "#### Registers\n",
    " - `x`: Input THRU register of size $m$ that stores elements from $GF(2^m)$.\n",
    " - `y`: Input THRU register of size $m$ that stores elements from $GF(2^m)$.\n"
   ]
  },
  {
   "cell_type": "code",
   "execution_count": null,
   "id": "507cd9b4",
   "metadata": {
    "cq.autogen": "GF2Addition.bloq_doc.py"
   },
   "outputs": [],
   "source": [
    "from qualtran.bloqs.gf_arithmetic import GF2Addition"
   ]
  },
  {
   "cell_type": "markdown",
   "id": "fae463a5",
   "metadata": {
    "cq.autogen": "GF2Addition.example_instances.md"
   },
   "source": [
    "### Example Instances"
   ]
  },
  {
   "cell_type": "code",
   "execution_count": null,
   "id": "57a0702b",
   "metadata": {
    "cq.autogen": "GF2Addition.gf16_addition"
   },
   "outputs": [],
   "source": [
    "gf16_addition = GF2Addition(4)"
   ]
  },
  {
   "cell_type": "code",
   "execution_count": null,
   "id": "2c2db2b3",
   "metadata": {
    "cq.autogen": "GF2Addition.gf2_addition_symbolic"
   },
   "outputs": [],
   "source": [
    "import sympy\n",
    "\n",
    "m = sympy.Symbol('m')\n",
    "gf2_addition_symbolic = GF2Addition(m)"
   ]
  },
  {
   "cell_type": "markdown",
   "id": "3e416779",
   "metadata": {
    "cq.autogen": "GF2Addition.graphical_signature.md"
   },
   "source": [
    "#### Graphical Signature"
   ]
  },
  {
   "cell_type": "code",
   "execution_count": null,
   "id": "0691c5f3",
   "metadata": {
    "cq.autogen": "GF2Addition.graphical_signature.py"
   },
   "outputs": [],
   "source": [
    "from qualtran.drawing import show_bloqs\n",
    "show_bloqs([gf16_addition, gf2_addition_symbolic],\n",
    "           ['`gf16_addition`', '`gf2_addition_symbolic`'])"
   ]
  },
  {
   "cell_type": "markdown",
   "id": "189469f9",
   "metadata": {
    "cq.autogen": "GF2Addition.call_graph.md"
   },
   "source": [
    "### Call Graph"
   ]
  },
  {
   "cell_type": "code",
   "execution_count": null,
   "id": "eae7490a",
   "metadata": {
    "cq.autogen": "GF2Addition.call_graph.py"
   },
   "outputs": [],
   "source": [
    "from qualtran.resource_counting.generalizers import ignore_split_join\n",
    "gf16_addition_g, gf16_addition_sigma = gf16_addition.call_graph(max_depth=1, generalizer=ignore_split_join)\n",
    "show_call_graph(gf16_addition_g)\n",
    "show_counts_sigma(gf16_addition_sigma)"
   ]
  }
 ],
 "metadata": {
  "kernelspec": {
   "display_name": "Python 3",
   "language": "python",
   "name": "python3"
  },
  "language_info": {
   "name": "python"
  }
 },
 "nbformat": 4,
 "nbformat_minor": 5
}
