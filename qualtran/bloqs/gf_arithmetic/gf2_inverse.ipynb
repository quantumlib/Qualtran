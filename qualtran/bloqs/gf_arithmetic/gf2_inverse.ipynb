{
 "cells": [
  {
   "cell_type": "markdown",
   "id": "25463ba5",
   "metadata": {
    "cq.autogen": "title_cell"
   },
   "source": [
    "# GF($2^m$) Inverse"
   ]
  },
  {
   "cell_type": "code",
   "execution_count": null,
   "id": "38263a0a",
   "metadata": {
    "cq.autogen": "top_imports"
   },
   "outputs": [],
   "source": [
    "from qualtran import Bloq, CompositeBloq, BloqBuilder, Signature, Register\n",
    "from qualtran import QBit, QInt, QUInt, QAny\n",
    "from qualtran.drawing import show_bloq, show_call_graph, show_counts_sigma\n",
    "from typing import *\n",
    "import numpy as np\n",
    "import sympy\n",
    "import cirq"
   ]
  },
  {
   "cell_type": "markdown",
   "id": "9054cbbb",
   "metadata": {
    "cq.autogen": "GF2Inverse.bloq_doc.md"
   },
   "source": [
    "## `GF2Inverse`\n",
    "Out of place inversion for elements in GF($2^m$)\n",
    "\n",
    "Given a quantum register storing elements from GF($2^m$), this bloq computes the inverse\n",
    "of the given element in a new output register, out-of-place. Specifically,\n",
    "it implements the transformation\n",
    "\n",
    "$$\n",
    "    |a\\rangle |0\\rangle \\rightarrow |a\\rangle |a^{-1}\\rangle\n",
    "$$\n",
    "\n",
    "Inverse is computed by using Fermat's little theorem for Finite Fields, which states that\n",
    "for a finite field $\\mathbb{F}$ with $m$ elements, $\\forall a \\in \\mathbb{F}$\n",
    "$$\n",
    "    a^{m} = a\n",
    "$$\n",
    "\n",
    "When the finite field is GF($2^m$), Fermat's little theorem can be used to obtain the relation\n",
    "\n",
    "$$\n",
    "    a^{-1} = a^{2^m - 2}\n",
    "$$\n",
    "\n",
    "The exponential $a^{2^m - 2}$ is computed using $\\mathcal{O}(m)$ squaring and\n",
    "$\\mathcal{O}(\\log_2(m))$ multiplications via Itoh-Tsujii inversion. The algorithm is described on\n",
    "page 4 and 5 of Ref[1] and resembles binary exponentiation. The inverse is computed as $B_{n-1}^2$,\n",
    "where $B_1 = x$ and $B_{i+j} = B_i B_j^{2^i}$.\n",
    "\n",
    "#### Parameters\n",
    " - `bitsize`: The degree $m$ of the galois field $GF(2^m)$. Also corresponds to the number of qubits in the input register whose inverse should be calculated. \n",
    "\n",
    "#### Registers\n",
    " - `x`: Input THRU register of size $m$ that stores elements from $GF(2^m)$.\n",
    " - `result`: Output RIGHT register of size $m$ that stores $x^{-1}$ from $GF(2^m)$.\n",
    " - `junk`: Output RIGHT register of size $m$ and shape ($m - 2$) that stores results from intermediate multiplications. \n",
    "\n",
    "#### References\n",
    " - [Efficient quantum circuits for binary elliptic curve arithmetic: reducing T -gate complexity](https://arxiv.org/abs/1209.6348). Section 2.3\n",
    " - [Structure of parallel multipliers for a class of fields GF(2^m)](https://doi.org/10.1016/0890-5401(89)90045-X)\n"
   ]
  },
  {
   "cell_type": "code",
   "execution_count": null,
   "id": "b3a43c81",
   "metadata": {
    "cq.autogen": "GF2Inverse.bloq_doc.py"
   },
   "outputs": [],
   "source": [
    "from qualtran.bloqs.gf_arithmetic import GF2Inverse"
   ]
  },
  {
   "cell_type": "markdown",
   "id": "b0bf14cc",
   "metadata": {
    "cq.autogen": "GF2Inverse.example_instances.md"
   },
   "source": [
    "### Example Instances"
   ]
  },
  {
   "cell_type": "code",
   "execution_count": null,
   "id": "f6ce3222",
   "metadata": {
    "cq.autogen": "GF2Inverse.gf16_inverse"
   },
   "outputs": [],
   "source": [
    "gf16_inverse = GF2Inverse(4)"
   ]
  },
  {
   "cell_type": "code",
   "execution_count": null,
   "id": "6c26f44f",
   "metadata": {
    "cq.autogen": "GF2Inverse.gf2_inverse_symbolic"
   },
   "outputs": [],
   "source": [
    "import sympy\n",
    "\n",
    "m = sympy.Symbol('m')\n",
    "gf2_inverse_symbolic = GF2Inverse(m)"
   ]
  },
  {
   "cell_type": "markdown",
   "id": "c813ddef",
   "metadata": {
    "cq.autogen": "GF2Inverse.graphical_signature.md"
   },
   "source": [
    "#### Graphical Signature"
   ]
  },
  {
   "cell_type": "code",
   "execution_count": null,
   "id": "591221ff",
   "metadata": {
    "cq.autogen": "GF2Inverse.graphical_signature.py"
   },
   "outputs": [],
   "source": [
    "from qualtran.drawing import show_bloqs\n",
    "show_bloqs([gf16_inverse],\n",
    "           ['`gf16_inverse`'])"
   ]
  },
  {
   "cell_type": "markdown",
   "id": "c96fb97d",
   "metadata": {
    "cq.autogen": "GF2Inverse.call_graph.md"
   },
   "source": [
    "### Call Graph"
   ]
  },
  {
   "cell_type": "code",
   "execution_count": null,
   "id": "67aeeb6c",
   "metadata": {
    "cq.autogen": "GF2Inverse.call_graph.py"
   },
   "outputs": [],
   "source": [
    "from qualtran.resource_counting.generalizers import ignore_split_join\n",
    "gf16_inverse_g, gf16_inverse_sigma = gf16_inverse.call_graph(max_depth=1, generalizer=ignore_split_join)\n",
    "show_call_graph(gf16_inverse_g)\n",
    "show_counts_sigma(gf16_inverse_sigma)"
   ]
  }
 ],
 "metadata": {
  "kernelspec": {
   "display_name": "Python 3",
   "language": "python",
   "name": "python3"
  },
  "language_info": {
   "name": "python"
  }
 },
 "nbformat": 4,
 "nbformat_minor": 5
}
