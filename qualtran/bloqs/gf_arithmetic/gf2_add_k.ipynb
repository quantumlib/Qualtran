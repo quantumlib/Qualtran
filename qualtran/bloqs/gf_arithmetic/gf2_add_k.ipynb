{
 "cells": [
  {
   "cell_type": "markdown",
   "id": "b02daa35",
   "metadata": {
    "cq.autogen": "title_cell"
   },
   "source": [
    "# GF($2^m$) Add Constant"
   ]
  },
  {
   "cell_type": "code",
   "execution_count": null,
   "id": "c57ce930",
   "metadata": {
    "cq.autogen": "top_imports"
   },
   "outputs": [],
   "source": [
    "from qualtran import Bloq, CompositeBloq, BloqBuilder, Signature, Register\n",
    "from qualtran import QBit, QInt, QUInt, QAny\n",
    "from qualtran.drawing import show_bloq, show_call_graph, show_counts_sigma\n",
    "from typing import *\n",
    "import numpy as np\n",
    "import sympy\n",
    "import cirq"
   ]
  },
  {
   "cell_type": "markdown",
   "id": "e4620511",
   "metadata": {
    "cq.autogen": "GF2AddK.bloq_doc.md"
   },
   "source": [
    "## `GF2AddK`\n",
    "In place addition of a constant $k$ for elements in GF($2^m$).\n",
    "\n",
    "The bloq implements in place addition of a classical constant $k$ and a quantum register\n",
    "$|x\\rangle$ storing elements from GF($2^m$). Addition in GF($2^m$) simply reduces to a component\n",
    "wise XOR, which can be implemented via X gates.\n",
    "\n",
    "$$\n",
    "|x\\rangle  \\rightarrow |x + k\\rangle\n",
    "$$\n",
    "\n",
    "#### Parameters\n",
    " - `bitsize`: The degree $m$ of the galois field GF($2^m$). Also corresponds to the number of qubits in the input register x.\n",
    " - `k`: Integer representation of constant over GF($2^m$) that should be added to the input register x. \n",
    "\n",
    "#### Registers\n",
    " - `x`: Input THRU register of size $m$ that stores elements from $GF(2^m)$.\n"
   ]
  },
  {
   "cell_type": "code",
   "execution_count": null,
   "id": "04dc8f2b",
   "metadata": {
    "cq.autogen": "GF2AddK.bloq_doc.py"
   },
   "outputs": [],
   "source": [
    "from qualtran.bloqs.gf_arithmetic import GF2AddK"
   ]
  },
  {
   "cell_type": "markdown",
   "id": "a0d774d4",
   "metadata": {
    "cq.autogen": "GF2AddK.example_instances.md"
   },
   "source": [
    "### Example Instances"
   ]
  },
  {
   "cell_type": "code",
   "execution_count": null,
   "id": "0588ca5b",
   "metadata": {
    "cq.autogen": "GF2AddK.gf16_add_k"
   },
   "outputs": [],
   "source": [
    "gf16_add_k = GF2AddK(4, 1)"
   ]
  },
  {
   "cell_type": "code",
   "execution_count": null,
   "id": "8250af55",
   "metadata": {
    "cq.autogen": "GF2AddK.gf2_add_k_symbolic"
   },
   "outputs": [],
   "source": [
    "import sympy\n",
    "\n",
    "m, k = sympy.symbols('m, k', positive=True, integers=True)\n",
    "gf2_add_k_symbolic = GF2AddK(m, k)"
   ]
  },
  {
   "cell_type": "markdown",
   "id": "fe4c4550",
   "metadata": {
    "cq.autogen": "GF2AddK.graphical_signature.md"
   },
   "source": [
    "#### Graphical Signature"
   ]
  },
  {
   "cell_type": "code",
   "execution_count": null,
   "id": "2374ad42",
   "metadata": {
    "cq.autogen": "GF2AddK.graphical_signature.py"
   },
   "outputs": [],
   "source": [
    "from qualtran.drawing import show_bloqs\n",
    "show_bloqs([gf16_add_k, gf2_add_k_symbolic],\n",
    "           ['`gf16_add_k`', '`gf2_add_k_symbolic`'])"
   ]
  },
  {
   "cell_type": "markdown",
   "id": "f64d8798",
   "metadata": {
    "cq.autogen": "GF2AddK.call_graph.md"
   },
   "source": [
    "### Call Graph"
   ]
  },
  {
   "cell_type": "code",
   "execution_count": null,
   "id": "578f0f39",
   "metadata": {
    "cq.autogen": "GF2AddK.call_graph.py"
   },
   "outputs": [],
   "source": [
    "from qualtran.resource_counting.generalizers import ignore_split_join\n",
    "gf16_add_k_g, gf16_add_k_sigma = gf16_add_k.call_graph(max_depth=1, generalizer=ignore_split_join)\n",
    "show_call_graph(gf16_add_k_g)\n",
    "show_counts_sigma(gf16_add_k_sigma)"
   ]
  }
 ],
 "metadata": {
  "kernelspec": {
   "display_name": "Python 3",
   "language": "python",
   "name": "python3"
  },
  "language_info": {
   "name": "python"
  }
 },
 "nbformat": 4,
 "nbformat_minor": 5
}
