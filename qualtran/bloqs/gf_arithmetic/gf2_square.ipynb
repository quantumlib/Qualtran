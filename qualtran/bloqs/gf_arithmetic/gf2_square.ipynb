{
 "cells": [
  {
   "cell_type": "markdown",
   "id": "cb46f029",
   "metadata": {
    "cq.autogen": "title_cell"
   },
   "source": [
    "# GF($2^m$) Square"
   ]
  },
  {
   "cell_type": "code",
   "execution_count": null,
   "id": "6054ebf1",
   "metadata": {
    "cq.autogen": "top_imports"
   },
   "outputs": [],
   "source": [
    "from qualtran import Bloq, CompositeBloq, BloqBuilder, Signature, Register\n",
    "from qualtran import QBit, QInt, QUInt, QAny\n",
    "from qualtran.drawing import show_bloq, show_call_graph, show_counts_sigma\n",
    "from typing import *\n",
    "import numpy as np\n",
    "import sympy\n",
    "import cirq"
   ]
  },
  {
   "cell_type": "markdown",
   "id": "abc9f3d5",
   "metadata": {
    "cq.autogen": "GF2Square.bloq_doc.md"
   },
   "source": [
    "## `GF2Square`\n",
    "In place squaring for elements in GF($2^m$)\n",
    "\n",
    "The bloq implements in-place squaring of a quantum registers storing elements\n",
    "from GF($2^m$). Specifically, it implements the transformation\n",
    "\n",
    "$$\n",
    "    |a\\rangle \\rightarrow |a^2\\rangle\n",
    "$$\n",
    "\n",
    "The key insight is that for elements in GF($2^m$),\n",
    "$$\n",
    "    a^2 =a_0 + a_1 x^2 + a_2 x^4 + ... + a_{n-1} x^{2(n - 1)}\n",
    "$$\n",
    "\n",
    "Thus, squaring can be implemented via a linear reversible circuit using only CNOT gates.\n",
    "\n",
    "#### Parameters\n",
    " - `bitsize`: The degree $m$ of the galois field $GF(2^m)$. Also corresponds to the number of qubits in the input register to be squared. \n",
    "\n",
    "#### Registers\n",
    " - `x`: Input THRU register of size $m$ that stores elements from $GF(2^m)$.\n"
   ]
  },
  {
   "cell_type": "code",
   "execution_count": null,
   "id": "c78c541d",
   "metadata": {
    "cq.autogen": "GF2Square.bloq_doc.py"
   },
   "outputs": [],
   "source": [
    "from qualtran.bloqs.gf_arithmetic import GF2Square"
   ]
  },
  {
   "cell_type": "markdown",
   "id": "3867aabe",
   "metadata": {
    "cq.autogen": "GF2Square.example_instances.md"
   },
   "source": [
    "### Example Instances"
   ]
  },
  {
   "cell_type": "code",
   "execution_count": null,
   "id": "10c374a4",
   "metadata": {
    "cq.autogen": "GF2Square.gf16_square"
   },
   "outputs": [],
   "source": [
    "gf16_square = GF2Square(4)"
   ]
  },
  {
   "cell_type": "code",
   "execution_count": null,
   "id": "34d1aa8e",
   "metadata": {
    "cq.autogen": "GF2Square.gf2_square_symbolic"
   },
   "outputs": [],
   "source": [
    "import sympy\n",
    "\n",
    "m = sympy.Symbol('m')\n",
    "gf2_square_symbolic = GF2Square(m)"
   ]
  },
  {
   "cell_type": "markdown",
   "id": "40f24bac",
   "metadata": {
    "cq.autogen": "GF2Square.graphical_signature.md"
   },
   "source": [
    "#### Graphical Signature"
   ]
  },
  {
   "cell_type": "code",
   "execution_count": null,
   "id": "218453ac",
   "metadata": {
    "cq.autogen": "GF2Square.graphical_signature.py"
   },
   "outputs": [],
   "source": [
    "from qualtran.drawing import show_bloqs\n",
    "show_bloqs([gf16_square, gf2_square_symbolic],\n",
    "           ['`gf16_square`', '`gf2_square_symbolic`'])"
   ]
  },
  {
   "cell_type": "markdown",
   "id": "ffc34750",
   "metadata": {
    "cq.autogen": "GF2Square.call_graph.md"
   },
   "source": [
    "### Call Graph"
   ]
  },
  {
   "cell_type": "code",
   "execution_count": null,
   "id": "05bdb33f",
   "metadata": {
    "cq.autogen": "GF2Square.call_graph.py"
   },
   "outputs": [],
   "source": [
    "from qualtran.resource_counting.generalizers import ignore_split_join\n",
    "gf16_square_g, gf16_square_sigma = gf16_square.call_graph(max_depth=1, generalizer=ignore_split_join)\n",
    "show_call_graph(gf16_square_g)\n",
    "show_counts_sigma(gf16_square_sigma)"
   ]
  }
 ],
 "metadata": {
  "kernelspec": {
   "display_name": "Python 3",
   "language": "python",
   "name": "python3"
  },
  "language_info": {
   "name": "python"
  }
 },
 "nbformat": 4,
 "nbformat_minor": 5
}
