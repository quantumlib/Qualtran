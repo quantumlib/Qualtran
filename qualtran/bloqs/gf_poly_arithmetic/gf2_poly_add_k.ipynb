{
 "cells": [
  {
   "cell_type": "markdown",
   "id": "71e0dbd8",
   "metadata": {
    "cq.autogen": "title_cell"
   },
   "source": [
    "# Polynomials over GF($2^m$) - Add Constant"
   ]
  },
  {
   "cell_type": "code",
   "execution_count": null,
   "id": "c02448cd",
   "metadata": {
    "cq.autogen": "top_imports"
   },
   "outputs": [],
   "source": [
    "from qualtran import Bloq, CompositeBloq, BloqBuilder, Signature, Register\n",
    "from qualtran import QBit, QInt, QUInt, QAny\n",
    "from qualtran.drawing import show_bloq, show_call_graph, show_counts_sigma\n",
    "from typing import *\n",
    "import numpy as np\n",
    "import sympy\n",
    "import cirq"
   ]
  },
  {
   "cell_type": "markdown",
   "id": "a5f23a08",
   "metadata": {
    "cq.autogen": "GF2PolyAddK.bloq_doc.md"
   },
   "source": [
    "## `GF2PolyAddK`\n",
    "In place addition of a constant polynomial defined over GF($2^m$).\n",
    "\n",
    "The bloq implements in place addition of a classical constant polynomial $g(x)$ and\n",
    "a quantum register $|f(x)\\rangle$ storing coefficients of a degree-n polynomial defined\n",
    "over GF($2^m$). Addition in GF($2^m$) simply reduces to a component wise XOR, which can\n",
    "be implemented via X gates.\n",
    "\n",
    "$$\n",
    "    |f(x)\\rangle  \\rightarrow |f(x) + g(x)\\rangle\n",
    "$$\n",
    "\n",
    "#### Parameters\n",
    " - `qgf_poly`: An instance of `QGFPoly` type that defines the data type for quantum register $|f(x)\\rangle$ storing coefficients of a degree-n polynomial defined over GF($2^m$).\n",
    " - `g_x`: An instance of `galois.Poly` that specifies that constant polynomial g(x) defined over GF($2^m$) that should be added to the input register f(x). \n",
    "\n",
    "#### Registers\n",
    " - `f_x`: Input THRU register that stores coefficients of polynomial defined over $GF(2^m)$.\n"
   ]
  },
  {
   "cell_type": "code",
   "execution_count": null,
   "id": "d40e23be",
   "metadata": {
    "cq.autogen": "GF2PolyAddK.bloq_doc.py"
   },
   "outputs": [],
   "source": [
    "from qualtran.bloqs.gf_poly_arithmetic import GF2PolyAddK"
   ]
  },
  {
   "cell_type": "markdown",
   "id": "101615d7",
   "metadata": {
    "cq.autogen": "GF2PolyAddK.example_instances.md"
   },
   "source": [
    "### Example Instances"
   ]
  },
  {
   "cell_type": "code",
   "execution_count": null,
   "id": "2cc9165f",
   "metadata": {
    "cq.autogen": "GF2PolyAddK.gf2_poly_4_8_add_k"
   },
   "outputs": [],
   "source": [
    "from galois import Poly\n",
    "\n",
    "from qualtran import QGF, QGFPoly\n",
    "\n",
    "qgf_poly = QGFPoly(4, QGF(2, 3))\n",
    "g_x = Poly(qgf_poly.qgf.gf_type([1, 2, 3, 4, 5]))\n",
    "gf2_poly_4_8_add_k = GF2PolyAddK(qgf_poly, g_x)"
   ]
  },
  {
   "cell_type": "code",
   "execution_count": null,
   "id": "9081edee",
   "metadata": {
    "cq.autogen": "GF2PolyAddK.gf2_poly_add_k_symbolic"
   },
   "outputs": [],
   "source": [
    "import sympy\n",
    "from galois import Poly\n",
    "\n",
    "from qualtran import QGF, QGFPoly\n",
    "\n",
    "n, m = sympy.symbols('n, m', positive=True, integers=True)\n",
    "qgf_poly = QGFPoly(n, QGF(2, m))\n",
    "gf2_poly_add_k_symbolic = GF2PolyAddK(qgf_poly, Poly([0, 0, 0, 0]))"
   ]
  },
  {
   "cell_type": "markdown",
   "id": "11a4d71f",
   "metadata": {
    "cq.autogen": "GF2PolyAddK.graphical_signature.md"
   },
   "source": [
    "#### Graphical Signature"
   ]
  },
  {
   "cell_type": "code",
   "execution_count": null,
   "id": "66b4a211",
   "metadata": {
    "cq.autogen": "GF2PolyAddK.graphical_signature.py"
   },
   "outputs": [],
   "source": [
    "from qualtran.drawing import show_bloqs\n",
    "show_bloqs([gf2_poly_4_8_add_k, gf2_poly_add_k_symbolic],\n",
    "           ['`gf2_poly_4_8_add_k`', '`gf2_poly_add_k_symbolic`'])"
   ]
  },
  {
   "cell_type": "markdown",
   "id": "5940114d",
   "metadata": {
    "cq.autogen": "GF2PolyAddK.call_graph.md"
   },
   "source": [
    "### Call Graph"
   ]
  },
  {
   "cell_type": "code",
   "execution_count": null,
   "id": "dffd364c",
   "metadata": {
    "cq.autogen": "GF2PolyAddK.call_graph.py"
   },
   "outputs": [],
   "source": [
    "from qualtran.resource_counting.generalizers import ignore_split_join\n",
    "gf2_poly_4_8_add_k_g, gf2_poly_4_8_add_k_sigma = gf2_poly_4_8_add_k.call_graph(max_depth=1, generalizer=ignore_split_join)\n",
    "show_call_graph(gf2_poly_4_8_add_k_g)\n",
    "show_counts_sigma(gf2_poly_4_8_add_k_sigma)"
   ]
  }
 ],
 "metadata": {
  "kernelspec": {
   "display_name": "Python 3",
   "language": "python",
   "name": "python3"
  },
  "language_info": {
   "name": "python"
  }
 },
 "nbformat": 4,
 "nbformat_minor": 5
}
