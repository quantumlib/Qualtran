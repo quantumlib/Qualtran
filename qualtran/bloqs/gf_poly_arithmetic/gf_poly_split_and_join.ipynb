{
 "cells": [
  {
   "cell_type": "markdown",
   "id": "5c112e3c",
   "metadata": {
    "cq.autogen": "title_cell"
   },
   "source": [
    "# Polynomials over GF($p^m$) - Split and Join"
   ]
  },
  {
   "cell_type": "code",
   "execution_count": null,
   "id": "fa73d48d",
   "metadata": {
    "cq.autogen": "top_imports"
   },
   "outputs": [],
   "source": [
    "from qualtran import Bloq, CompositeBloq, BloqBuilder, Signature, Register\n",
    "from qualtran import QBit, QInt, QUInt, QAny\n",
    "from qualtran.drawing import show_bloq, show_call_graph, show_counts_sigma\n",
    "from typing import *\n",
    "import numpy as np\n",
    "import sympy\n",
    "import cirq"
   ]
  },
  {
   "cell_type": "markdown",
   "id": "bc9d0e45",
   "metadata": {
    "cq.autogen": "GFPolySplit.bloq_doc.md"
   },
   "source": [
    "## `GFPolySplit`\n",
    "Split a register representing coefficients of a polynomial into an array of `QGF` types.\n",
    "\n",
    "A register of type `QGFPoly` represents a univariate polynomial $f(x)$ with coefficients in a\n",
    "galois field GF($p^m$). Given an input quantum register representing a degree $n$ polynomial\n",
    "$f(x)$, this bloq splits it into $n + 1$ registers of type $QGF(p, m)$.\n",
    "\n",
    "Given a polynomial\n",
    "$$\n",
    "    f(x) = \\sum_{i = 0}^{n} a_{i} x^{i} \\\\ \\forall a_{i} \\in GF(p^m)\n",
    "$$\n",
    "\n",
    "the bloq splits it into a big-endian representation such that\n",
    "$$\n",
    "    \\ket{f(x)} \\xrightarrow{\\text{split}} \\ket{a_{n}}\\ket{a_{n - 1}} \\cdots \\ket{a_0}\n",
    "$$\n",
    "\n",
    "See `GFPolyJoin` for the inverse operation.\n",
    "\n",
    "#### Parameters\n",
    " - `dtype`: An instance of `QGFPoly` type that represents a degree $n$ polynomial defined over a galois field GF($p^m$). \n",
    "\n",
    "#### Registers\n",
    " - `reg`: The register to be split. On its left, it is of the type `qgf_poly`. On the right, it is an array of `QGF`s of shape `(qgf_poly.degree + 1,)`.\n"
   ]
  },
  {
   "cell_type": "code",
   "execution_count": null,
   "id": "f4ec23cc",
   "metadata": {
    "cq.autogen": "GFPolySplit.bloq_doc.py"
   },
   "outputs": [],
   "source": [
    "from qualtran.bloqs.gf_poly_arithmetic import GFPolySplit"
   ]
  },
  {
   "cell_type": "markdown",
   "id": "99406fdd",
   "metadata": {
    "cq.autogen": "GFPolySplit.example_instances.md"
   },
   "source": [
    "### Example Instances"
   ]
  },
  {
   "cell_type": "code",
   "execution_count": null,
   "id": "3b1e7f86",
   "metadata": {
    "cq.autogen": "GFPolySplit.gf_poly_split"
   },
   "outputs": [],
   "source": [
    "from qualtran import QGF, QGFPoly\n",
    "\n",
    "gf_poly_split = GFPolySplit(QGFPoly(4, QGF(2, 3)))"
   ]
  },
  {
   "cell_type": "markdown",
   "id": "4067682b",
   "metadata": {
    "cq.autogen": "GFPolySplit.graphical_signature.md"
   },
   "source": [
    "#### Graphical Signature"
   ]
  },
  {
   "cell_type": "code",
   "execution_count": null,
   "id": "0f323719",
   "metadata": {
    "cq.autogen": "GFPolySplit.graphical_signature.py"
   },
   "outputs": [],
   "source": [
    "from qualtran.drawing import show_bloqs\n",
    "show_bloqs([gf_poly_split],\n",
    "           ['`gf_poly_split`'])"
   ]
  },
  {
   "cell_type": "markdown",
   "id": "988becd9",
   "metadata": {
    "cq.autogen": "GFPolyJoin.bloq_doc.md"
   },
   "source": [
    "## `GFPolyJoin`\n",
    "Join $n+1$ registers representing coefficients of a polynomial into a `QGFPoly` type.\n",
    "\n",
    "A register of type `QGFPoly` represents a univariate polynomial $f(x)$ with coefficients in a\n",
    "galois field GF($p^m$). Given an input quantum register of shape (n + 1,) and type `QGF`\n",
    "representing coefficients of a degree $n$ polynomial $f(x)$, this bloq joins it into\n",
    "a register of type `QGFPoly`.\n",
    "\n",
    "Given a polynomial\n",
    "$$\n",
    "    f(x) = \\sum_{i = 0}^{n} a_{i} x^{i} \\\\ \\forall a_{i} \\in GF(p^m)\n",
    "$$\n",
    "\n",
    "the bloq joins registers representing coefficients of the polynomial in big-endian representation\n",
    "such that\n",
    "$$\n",
    "    \\ket{a_{n}}\\ket{a_{n - 1}} \\cdots \\ket{a_0} \\xrightarrow{\\text{join}} \\ket{f(x)}\n",
    "$$\n",
    "\n",
    "See `GFPolySplit` for the inverse operation.\n",
    "\n",
    "#### Parameters\n",
    " - `dtype`: An instance of `QGFPoly` type that represents a degree $n$ polynomial defined over a galois field GF($p^m$). \n",
    "\n",
    "#### Registers\n",
    " - `reg`: The register to be joined. On its left, it is an array of `QGF`s of shape `(qgf_poly.degree + 1,)`. On the right, it is of the type `qgf_poly`.\n"
   ]
  },
  {
   "cell_type": "code",
   "execution_count": null,
   "id": "97ecef9a",
   "metadata": {
    "cq.autogen": "GFPolyJoin.bloq_doc.py"
   },
   "outputs": [],
   "source": [
    "from qualtran.bloqs.gf_poly_arithmetic import GFPolyJoin"
   ]
  },
  {
   "cell_type": "markdown",
   "id": "dbeba5fc",
   "metadata": {
    "cq.autogen": "GFPolyJoin.example_instances.md"
   },
   "source": [
    "### Example Instances"
   ]
  },
  {
   "cell_type": "code",
   "execution_count": null,
   "id": "99cf9a48",
   "metadata": {
    "cq.autogen": "GFPolyJoin.gf_poly_join"
   },
   "outputs": [],
   "source": [
    "from qualtran import QGF, QGFPoly\n",
    "\n",
    "gf_poly_join = GFPolyJoin(QGFPoly(4, QGF(2, 3)))"
   ]
  },
  {
   "cell_type": "markdown",
   "id": "9dcb3e99",
   "metadata": {
    "cq.autogen": "GFPolyJoin.graphical_signature.md"
   },
   "source": [
    "#### Graphical Signature"
   ]
  },
  {
   "cell_type": "code",
   "execution_count": null,
   "id": "be92a58c",
   "metadata": {
    "cq.autogen": "GFPolyJoin.graphical_signature.py"
   },
   "outputs": [],
   "source": [
    "from qualtran.drawing import show_bloqs\n",
    "show_bloqs([gf_poly_join],\n",
    "           ['`gf_poly_join`'])"
   ]
  }
 ],
 "metadata": {
  "kernelspec": {
   "display_name": "Python 3",
   "language": "python",
   "name": "python3"
  },
  "language_info": {
   "name": "python"
  }
 },
 "nbformat": 4,
 "nbformat_minor": 5
}
