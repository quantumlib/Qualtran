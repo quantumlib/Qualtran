{
 "cells": [
  {
   "cell_type": "markdown",
   "id": "846e63df",
   "metadata": {
    "cq.autogen": "title_cell"
   },
   "source": [
    "# Polynomials over GF($2^m$) - Addition"
   ]
  },
  {
   "cell_type": "code",
   "execution_count": null,
   "id": "5dd599ca",
   "metadata": {
    "cq.autogen": "top_imports"
   },
   "outputs": [],
   "source": [
    "from qualtran import Bloq, CompositeBloq, BloqBuilder, Signature, Register\n",
    "from qualtran import QBit, QInt, QUInt, QAny\n",
    "from qualtran.drawing import show_bloq, show_call_graph, show_counts_sigma\n",
    "from typing import *\n",
    "import numpy as np\n",
    "import sympy\n",
    "import cirq"
   ]
  },
  {
   "cell_type": "markdown",
   "id": "458cf4fa",
   "metadata": {
    "cq.autogen": "GF2PolyAdd.bloq_doc.md"
   },
   "source": [
    "## `GF2PolyAdd`\n",
    "In place quantum-quantum addition of two polynomials defined over GF($2^m$).\n",
    "\n",
    "The bloq implements in place addition of quantum registers $|f(x)\\rangle$ and $|g(x)\\rangle$\n",
    "storing coefficients of two degree-n polynomials defined over GF($2^m$).\n",
    "Addition in GF($2^m$) simply reduces to a component wise XOR, which can be implemented via\n",
    "CNOT gates.\n",
    "\n",
    "$$\n",
    "    |f(x)\\rangle |g(x)\\rangle  \\rightarrow |f(x)\\rangle |f(x) + g(x)\\rangle\n",
    "$$\n",
    "\n",
    "#### Parameters\n",
    " - `qgf_poly`: An instance of `QGFPoly` type that defines the data type for quantum register $|f(x)\\rangle$ storing coefficients of a degree-n polynomial defined over GF($2^m$). \n",
    "\n",
    "#### Registers\n",
    " - `f_x`: THRU register that stores coefficients of first polynomial defined over $GF(2^m)$.\n",
    " - `g_x`: THRU register that stores coefficients of second polynomial defined over $GF(2^m)$.\n"
   ]
  },
  {
   "cell_type": "code",
   "execution_count": null,
   "id": "d67b7e61",
   "metadata": {
    "cq.autogen": "GF2PolyAdd.bloq_doc.py"
   },
   "outputs": [],
   "source": [
    "from qualtran.bloqs.gf_poly_arithmetic import GF2PolyAdd"
   ]
  },
  {
   "cell_type": "markdown",
   "id": "0a0a575b",
   "metadata": {
    "cq.autogen": "GF2PolyAdd.example_instances.md"
   },
   "source": [
    "### Example Instances"
   ]
  },
  {
   "cell_type": "code",
   "execution_count": null,
   "id": "f77964d0",
   "metadata": {
    "cq.autogen": "GF2PolyAdd.gf2_poly_4_8_add"
   },
   "outputs": [],
   "source": [
    "from qualtran import QGF, QGFPoly\n",
    "\n",
    "qgf_poly = QGFPoly(4, QGF(2, 3))\n",
    "gf2_poly_4_8_add = GF2PolyAdd(qgf_poly)"
   ]
  },
  {
   "cell_type": "code",
   "execution_count": null,
   "id": "0b094507",
   "metadata": {
    "cq.autogen": "GF2PolyAdd.gf2_poly_add_symbolic"
   },
   "outputs": [],
   "source": [
    "import sympy\n",
    "\n",
    "from qualtran import QGF, QGFPoly\n",
    "\n",
    "n, m = sympy.symbols('n, m', positive=True, integers=True)\n",
    "qgf_poly = QGFPoly(n, QGF(2, m))\n",
    "gf2_poly_add_symbolic = GF2PolyAdd(qgf_poly)"
   ]
  },
  {
   "cell_type": "markdown",
   "id": "43b66756",
   "metadata": {
    "cq.autogen": "GF2PolyAdd.graphical_signature.md"
   },
   "source": [
    "#### Graphical Signature"
   ]
  },
  {
   "cell_type": "code",
   "execution_count": null,
   "id": "ecf1a676",
   "metadata": {
    "cq.autogen": "GF2PolyAdd.graphical_signature.py"
   },
   "outputs": [],
   "source": [
    "from qualtran.drawing import show_bloqs\n",
    "show_bloqs([gf2_poly_4_8_add, gf2_poly_add_symbolic],\n",
    "           ['`gf2_poly_4_8_add`', '`gf2_poly_add_symbolic`'])"
   ]
  },
  {
   "cell_type": "markdown",
   "id": "6d7fe836",
   "metadata": {
    "cq.autogen": "GF2PolyAdd.call_graph.md"
   },
   "source": [
    "### Call Graph"
   ]
  },
  {
   "cell_type": "code",
   "execution_count": null,
   "id": "bc1596d3",
   "metadata": {
    "cq.autogen": "GF2PolyAdd.call_graph.py"
   },
   "outputs": [],
   "source": [
    "from qualtran.resource_counting.generalizers import ignore_split_join\n",
    "gf2_poly_4_8_add_g, gf2_poly_4_8_add_sigma = gf2_poly_4_8_add.call_graph(max_depth=1, generalizer=ignore_split_join)\n",
    "show_call_graph(gf2_poly_4_8_add_g)\n",
    "show_counts_sigma(gf2_poly_4_8_add_sigma)"
   ]
  }
 ],
 "metadata": {
  "kernelspec": {
   "display_name": "Python 3",
   "language": "python",
   "name": "python3"
  },
  "language_info": {
   "name": "python"
  }
 },
 "nbformat": 4,
 "nbformat_minor": 5
}
