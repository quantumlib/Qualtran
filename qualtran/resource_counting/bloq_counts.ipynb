{
 "cells": [
  {
   "cell_type": "markdown",
   "id": "1fd2bad2",
   "metadata": {},
   "source": [
    "# The Call Graph Protocol\n",
    "\n",
    "The call graph protocol lets you query which subbloq are called in a bloq's decomposition. Proper accounting of the quantity of subroutine calls is a crucial tool in estimating resource requirements for an algorithm. For example, you can expand the call graph until you reach 'expensive' gates like `TGate` or `Toffoli`. The total number of these gates set the runtime of the algorithm."
   ]
  },
  {
   "cell_type": "code",
   "execution_count": null,
   "id": "2482bd7e",
   "metadata": {},
   "outputs": [],
   "source": [
    "from qualtran.drawing import show_call_graph, show_counts_sigma\n",
    "from qualtran.bloqs.mcmt import MultiAnd, And\n",
    "\n",
    "graph, sigma = MultiAnd(cvs=(1,)*6).call_graph()\n",
    "\n",
    "show_call_graph(graph)\n",
    "show_counts_sigma(sigma)"
   ]
  },
  {
   "cell_type": "markdown",
   "id": "ae6d16de",
   "metadata": {},
   "source": [
    "## Interface\n",
    "\n",
    "The primary method for accessing the call graph of a bloq is `Bloq.call_graph()`. It returns a networkx graph as well as a dictionary of totals for \"leaf\" bloqs. \n",
    "\n",
    "Another method is `Bloq.bloq_counts`, which will return a dictionary of immediate children."
   ]
  },
  {
   "cell_type": "code",
   "execution_count": null,
   "id": "22557f46",
   "metadata": {},
   "outputs": [],
   "source": [
    "And().bloq_counts()"
   ]
  },
  {
   "cell_type": "markdown",
   "id": "2e4aa56b",
   "metadata": {},
   "source": [
    "These methods both take a `generalizer` argument.\n",
    "\n",
    "Often, bloqs have attributes that are important for describing their specific action but don't affect the bloq's resource cost. For example, `Rx(0.12)` and `Rx(0.13)` should probably be considered equal when counting the number of operations. Another example is given below where we group all two-bit `And` operations no matter their control values. \n",
    "\n",
    "The `generalizer` argument is an optional callable that takes specific bloqs to general bloqs. In the next cell, we build a call graph with non-homogenous control values for `MultiAnd` which results in two different nodes for two-bit `And` showing up in the call-graph."
   ]
  },
  {
   "cell_type": "code",
   "execution_count": null,
   "id": "3c9f2b05",
   "metadata": {},
   "outputs": [],
   "source": [
    "graph, sigma = MultiAnd(cvs=(1,0)*3).call_graph()\n",
    "show_call_graph(graph)\n",
    "show_counts_sigma(sigma)"
   ]
  },
  {
   "cell_type": "markdown",
   "id": "8ae5743b",
   "metadata": {},
   "source": [
    "This level of detail might not be relevant for your particular research. Below, we define a `generalize` function that replaces all control values with placeholder symbol values."
   ]
  },
  {
   "cell_type": "code",
   "execution_count": null,
   "id": "f5e33995",
   "metadata": {},
   "outputs": [],
   "source": [
    "from qualtran.resource_counting import SympySymbolAllocator\n",
    "import attrs\n",
    "\n",
    "ssa = SympySymbolAllocator()\n",
    "cv1 = ssa.new_symbol('cv1')\n",
    "cv2 = ssa.new_symbol('cv2')\n",
    "\n",
    "def ignore_cv(bloq):\n",
    "    if isinstance(bloq, And):\n",
    "        return attrs.evolve(bloq, cv1=cv1, cv2=cv2)\n",
    "    \n",
    "    return bloq\n",
    "\n",
    "graph, sigma = MultiAnd(cvs=(1,0)*3).call_graph(generalizer=ignore_cv)\n",
    "show_call_graph(graph)\n",
    "show_counts_sigma(sigma)"
   ]
  },
  {
   "cell_type": "markdown",
   "id": "0f649914",
   "metadata": {},
   "source": [
    "We no longer have a specific clifford count (it has been replaced with `O(1)`), but we have a much simpler graph topology."
   ]
  },
  {
   "cell_type": "markdown",
   "id": "efcaaac7",
   "metadata": {},
   "source": [
    "## Additional functionality"
   ]
  },
  {
   "cell_type": "markdown",
   "id": "3c02f2e1",
   "metadata": {},
   "source": [
    "The `qualtran.resource_counting` module provides the functionality for building and manipulating call graphs."
   ]
  },
  {
   "cell_type": "markdown",
   "id": "d9cc2b96",
   "metadata": {},
   "source": [
    "## Implementation"
   ]
  },
  {
   "cell_type": "markdown",
   "id": "7ea0cb33",
   "metadata": {},
   "source": [
    "The call graph functionality relies on the `Bloq.build_call_graph(...)` method to implement the protocol. This is where a given bloq's callees is actually encoded.\n",
    "\n",
    "Bloq authors may want to override this method. The system will provide a `SympySymbolAllocator` when calling this method to assist with symbolic resource estimates. Below, we sketch out a bloq with custom bloq counts."
   ]
  },
  {
   "cell_type": "code",
   "execution_count": null,
   "id": "7211add4",
   "metadata": {},
   "outputs": [],
   "source": [
    "from functools import cached_property\n",
    "from typing import Dict, Optional, Set, Union\n",
    "\n",
    "from attrs import frozen\n",
    "\n",
    "from qualtran import Bloq, BloqBuilder, Register, Side, Signature, SoquetT\n",
    "from qualtran.resource_counting import BloqCountT, SympySymbolAllocator\n",
    "\n",
    "import sympy\n",
    "\n",
    "from qualtran.bloqs.basic_gates import CNOT\n",
    "\n",
    "@frozen\n",
    "class MyFunc(Bloq):\n",
    "    n: Union[int, sympy.Expr]\n",
    "\n",
    "    @cached_property\n",
    "    def signature(self) -> 'Signature':\n",
    "        return Signature.build(x=self.n)\n",
    "\n",
    "    def build_call_graph(self, ssa: 'SympySymbolAllocator') -> Set['BloqCountT']:\n",
    "        return {\n",
    "            (And(), 2*self.n),\n",
    "            (CNOT(), 5),\n",
    "        }"
   ]
  },
  {
   "cell_type": "code",
   "execution_count": null,
   "id": "ef5d73b6",
   "metadata": {},
   "outputs": [],
   "source": [
    "myfunc = MyFunc(n=sympy.sympify('n'))\n",
    "graph, sigma = myfunc.call_graph()\n",
    "show_call_graph(graph)\n",
    "show_counts_sigma(sigma)"
   ]
  },
  {
   "cell_type": "markdown",
   "id": "df53c923",
   "metadata": {},
   "source": [
    "## Default Fallback\n",
    "\n",
    "If a bloq does not override `build_call_graph(...)`, the default fallback will be used by Qualtran to support the call graph protocol.\n",
    "\n",
    "By default, Qualtran will use the decomposition to count subbloqs called by the bloq. For example, below we author a `SWAP` bloq. We define a decomposition but do not explicitly provide the call graph counts."
   ]
  },
  {
   "cell_type": "code",
   "execution_count": null,
   "id": "2621b1eb",
   "metadata": {},
   "outputs": [],
   "source": [
    "@frozen\n",
    "class MySwap(Bloq):\n",
    "\n",
    "    @cached_property\n",
    "    def signature(self) -> 'Signature':\n",
    "        return Signature.build(q0=1, q1=1)\n",
    "    \n",
    "    def build_composite_bloq(self, bb, q0, q1):\n",
    "        q0, q1 = bb.add(CNOT(), ctrl=q0, target=q1)\n",
    "        q1, q0 = bb.add(CNOT(), ctrl=q1, target=q0)\n",
    "        q0, q1 = bb.add(CNOT(), ctrl=q0, target=q1)\n",
    "        return {'q0': q0, 'q1': q1}"
   ]
  },
  {
   "cell_type": "markdown",
   "id": "c66f0fd2",
   "metadata": {},
   "source": [
    "The system will simply decompose the bloq and count up the children."
   ]
  },
  {
   "cell_type": "code",
   "execution_count": null,
   "id": "a6226763",
   "metadata": {},
   "outputs": [],
   "source": [
    "graph, sigma = MySwap().call_graph()\n",
    "show_call_graph(graph)\n",
    "show_counts_sigma(sigma)"
   ]
  },
  {
   "cell_type": "markdown",
   "id": "250474d1",
   "metadata": {},
   "source": [
    "## Testing\n",
    "\n",
    "`qlt_testing.check_equivalent_bloq_example_counts` is used to automatically compare manually-annotated counts against those derived from the bloq's decomposition. If they match, the check returns `PASS`. If there is only one source of bloq counts, the check returns `UNVERIFIED`. If there are no bloq counts (either via annotation or decomposition), the check returns `MISSING`. If the bloq counts do not match, the check returns `FAIL` with more information about the mismatch. \n",
    "\n",
    "`BloqExample`s have an optional `generalizer` attribute that this check will use during the comparison."
   ]
  },
  {
   "cell_type": "code",
   "execution_count": null,
   "id": "6c88072d",
   "metadata": {},
   "outputs": [],
   "source": [
    "import qualtran.testing as qlt_testing\n",
    "from qualtran.bloqs.mcmt.and_bloq import _multi_and as MULTI_AND_BLOQ_EXAMPLE\n",
    "\n",
    "qlt_testing.check_equivalent_bloq_example_counts(MULTI_AND_BLOQ_EXAMPLE)"
   ]
  }
 ],
 "metadata": {
  "kernelspec": {
   "display_name": "Python 3 (ipykernel)",
   "language": "python",
   "name": "python3"
  },
  "language_info": {
   "codemirror_mode": {
    "name": "ipython",
    "version": 3
   },
   "file_extension": ".py",
   "mimetype": "text/x-python",
   "name": "python",
   "nbconvert_exporter": "python",
   "pygments_lexer": "ipython3",
   "version": "3.11.7"
  }
 },
 "nbformat": 4,
 "nbformat_minor": 5
}
