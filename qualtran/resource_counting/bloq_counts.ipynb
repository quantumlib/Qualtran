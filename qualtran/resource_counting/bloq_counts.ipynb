{
 "cells": [
  {
   "cell_type": "markdown",
   "id": "1fd2bad2",
   "metadata": {},
   "source": [
    "# The Bloq Counts Protocol\n",
    "\n",
    "`Bloq.bloq_counts(ssa)` is a protocol that queries the number of each distinct subbloq in the parent bloq's decomposition. This can be derived from the full decomposition or annotated directly by overriding the `bloq_counts` method."
   ]
  },
  {
   "cell_type": "code",
   "execution_count": null,
   "id": "ef985a45",
   "metadata": {},
   "outputs": [],
   "source": [
    "from qualtran.resource_counting import get_bloq_counts_graph\n",
    "from qualtran.drawing import show_counts_graph, show_counts_sigma"
   ]
  },
  {
   "cell_type": "markdown",
   "id": "44c8cb64",
   "metadata": {},
   "source": [
    "## Basic counts graph of `And`"
   ]
  },
  {
   "cell_type": "code",
   "execution_count": null,
   "id": "38e14dac",
   "metadata": {},
   "outputs": [],
   "source": [
    "from qualtran.bloqs.and_bloq import MultiAnd, And\n",
    "\n",
    "graph, sigma = get_bloq_counts_graph(MultiAnd(cvs=(1,)*6))\n",
    "\n",
    "show_counts_graph(graph)\n",
    "show_counts_sigma(sigma)"
   ]
  },
  {
   "cell_type": "code",
   "execution_count": null,
   "id": "54b71267",
   "metadata": {},
   "outputs": [],
   "source": [
    "from qualtran.drawing import format_counts_graph_markdown\n",
    "import IPython.display\n",
    "graph, sigma = get_bloq_counts_graph(MultiAnd(cvs=(1,)*6))\n",
    "IPython.display.Markdown(format_counts_graph_markdown(graph))"
   ]
  },
  {
   "cell_type": "markdown",
   "id": "2e4aa56b",
   "metadata": {},
   "source": [
    "## Importance of bloq generalization\n",
    "\n",
    "Often, bloqs have attributes that are important for describing their specific action but don't affect the bloq's resource cost. For example, `Rx(0.12)` and `Rx(0.13)` should probably be considered equal when counting the number of operations. Another example is given below where we group all two-bit `And` operations no matter their control values. \n",
    "\n",
    "`get_bloq_counts_graph` takes an optional callable that takes specific bloqs to general bloqs. See below for an example of what happens to the `MultiAnd` counts graph without generalization, and how we can use it to replace specific control values with sympy symbols."
   ]
  },
  {
   "cell_type": "code",
   "execution_count": null,
   "id": "3c9f2b05",
   "metadata": {},
   "outputs": [],
   "source": [
    "graph, sigma = get_bloq_counts_graph(MultiAnd(cvs=(1,0)*3))\n",
    "show_counts_graph(graph)\n",
    "show_counts_sigma(sigma)"
   ]
  },
  {
   "cell_type": "code",
   "execution_count": null,
   "id": "f5e33995",
   "metadata": {},
   "outputs": [],
   "source": [
    "from qualtran.resource_counting import SympySymbolAllocator\n",
    "import attrs\n",
    "\n",
    "ssa = SympySymbolAllocator()\n",
    "cv1 = ssa.new_symbol('cv1')\n",
    "cv2 = ssa.new_symbol('cv2')\n",
    "\n",
    "\n",
    "def generalize(bloq):\n",
    "    if isinstance(bloq, And):\n",
    "        return attrs.evolve(bloq, cv1=cv1, cv2=cv2)\n",
    "    \n",
    "    return bloq\n",
    "\n",
    "graph, sigma = get_bloq_counts_graph(MultiAnd(cvs=(1,0)*3), generalize, ssa)\n",
    "show_counts_graph(graph)\n",
    "show_counts_sigma(sigma)"
   ]
  }
 ],
 "metadata": {
  "kernelspec": {
   "display_name": "Python 3 (ipykernel)",
   "language": "python",
   "name": "python3"
  },
  "language_info": {
   "codemirror_mode": {
    "name": "ipython",
    "version": 3
   },
   "file_extension": ".py",
   "mimetype": "text/x-python",
   "name": "python",
   "nbconvert_exporter": "python",
   "pygments_lexer": "ipython3",
   "version": "3.10.9"
  }
 },
 "nbformat": 4,
 "nbformat_minor": 5
}
