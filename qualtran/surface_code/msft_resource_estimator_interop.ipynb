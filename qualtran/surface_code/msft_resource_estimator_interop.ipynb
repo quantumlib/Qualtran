{
 "cells": [
  {
   "cell_type": "markdown",
   "metadata": {
    "collapsed": false,
    "jupyter": {
     "outputs_hidden": false
    }
   },
   "source": [
    "# Interop with Microsoft resource estimator\n",
    "\n",
    "Having interopability with Microsoft's open-source resource estimator is useful because it allows users more flexiblity with their Qualtran programs and allows users to verify estimates given by Qualtran's resource estimator tooling.\n",
    "\n",
    "In this notebook, we will demonstrate doing resource estimation on the `ModExp` Bloq, the essential subroutine in Shor's factoring algorithm."
   ]
  },
  {
   "cell_type": "code",
   "execution_count": null,
   "metadata": {
    "collapsed": false,
    "jupyter": {
     "outputs_hidden": false
    }
   },
   "outputs": [],
   "source": [
    "from qualtran.bloqs.factoring.mod_exp import ModExp\n",
    "from qualtran.drawing import show_bloq\n",
    "\n",
    "N = 13*17 # integer to factor\n",
    "g = 8\n",
    "\n",
    "mod_exp = ModExp(base=g, mod=N, exp_bitsize=32, x_bitsize=32)\n",
    "show_bloq(mod_exp)"
   ]
  },
  {
   "cell_type": "markdown",
   "metadata": {
    "collapsed": false,
    "jupyter": {
     "outputs_hidden": false
    }
   },
   "source": [
    "In the next cell we have a function which takes in a Bloq and returns LogicalCounts, a python object which stores information about the logical data and gate counts. You can initialize the LogicalCounts object with a dictionary with information about your quantum algorithm. You can populate fields such as `numQubits` and `tCount` with information from a Qualtran `Bloq` as show below. For a more complete overview of the fields which you can specify in LogicalCounts, click [here](https://learn.microsoft.com/en-us/azure/quantum/resource-estimator-known-estimates?tabs=tabid-known-estimates-qsharp) and look for the table which specifies the available functions with AccountForEstimates."
   ]
  },
  {
   "cell_type": "code",
   "execution_count": null,
   "metadata": {
    "collapsed": false,
    "jupyter": {
     "outputs_hidden": false
    }
   },
   "outputs": [],
   "source": [
    "def get_bloq_logical_counts(bloq):\n",
    "    from qsharp.estimator import LogicalCounts\n",
    "    from qualtran._infra.gate_with_registers import get_named_qubits\n",
    "\n",
    "    # This way of calculating the number of qubits could be inaccurate if a sub_bloq\n",
    "    # allocates new qubits but this should be a good estimate in most cases.\n",
    "    num_qubits = sum(len(r) for r in get_named_qubits(bloq.signature).values())\n",
    "    complexity = bloq.t_complexity()\n",
    "\n",
    "    return LogicalCounts({\n",
    "        \"numQubits\": num_qubits,\n",
    "        \"tCount\": complexity.t,\n",
    "        \"rotationCount\": complexity.rotations,\n",
    "        \"rotationDepth\": complexity.rotations\n",
    "    })"
   ]
  },
  {
   "cell_type": "markdown",
   "metadata": {
    "collapsed": false,
    "jupyter": {
     "outputs_hidden": false
    }
   },
   "source": [
    "The LogicalCounts object has the key method, `estimate`, which returns an `EstimatorResult` which contains the physical resource estimates. By running the cell below, you can see a nice display of the physical resource estimates including runtime, physical qubits, and many more important resource estimates. For a more complete description of the `EstimatorResult`, click [here](https://learn.microsoft.com/en-us/azure/quantum/overview-resource-estimator-output-data)."
   ]
  },
  {
   "cell_type": "code",
   "execution_count": null,
   "metadata": {
    "collapsed": false,
    "jupyter": {
     "outputs_hidden": false
    }
   },
   "outputs": [],
   "source": [
    "estimates = get_bloq_logical_counts(mod_exp).estimate([\n",
    "    {\"qubitParams\": {\"name\": \"qubit_gate_ns_e3\"}},\n",
    "    {\"qubitParams\": {\"name\": \"qubit_gate_ns_e4\"}},\n",
    "    {\"qubitParams\": {\"name\": \"qubit_maj_ns_e4\"}, \"surfaceCode\": {\"name\": \"floquet_code\"}},\n",
    "    {\"qubitParams\": {\"name\": \"qubit_maj_ns_e6\"}, \"surfaceCode\": {\"name\": \"floquet_code\"}},\n",
    "])\n",
    "\n",
    "estimates"
   ]
  },
  {
   "cell_type": "markdown",
   "metadata": {
    "collapsed": false,
    "jupyter": {
     "outputs_hidden": false
    }
   },
   "source": [
    "You can display more complex UIs on top of estimates with qsharp_widgets. For example, the code below displays a chart with information on the physical qubit counts. To learn more about using qsharp_widgets to create other informative graphics such as a Space-time diagram, click [here](https://learn.microsoft.com/en-us/azure/quantum/overview-resource-estimator-output-data#space-time-diagram)."
   ]
  },
  {
   "cell_type": "code",
   "execution_count": null,
   "metadata": {
    "collapsed": false,
    "jupyter": {
     "outputs_hidden": false
    }
   },
   "outputs": [],
   "source": [
    "from qsharp_widgets import SpaceChart\n",
    "SpaceChart(estimates)"
   ]
  }
 ],
 "metadata": {
  "kernelspec": {
   "display_name": "Python 3 (ipykernel)",
   "language": "python",
   "name": "python3"
  },
  "language_info": {
   "codemirror_mode": {
    "name": "ipython",
    "version": 3
   },
   "file_extension": ".py",
   "mimetype": "text/x-python",
   "name": "python",
   "nbconvert_exporter": "python",
   "pygments_lexer": "ipython3",
   "version": "3.11.8"
  }
 },
 "nbformat": 4,
 "nbformat_minor": 4
}
