{
 "cells": [
  {
   "cell_type": "markdown",
   "metadata": {},
   "source": [
    "## THC FeMoco compliation\n",
    "\n",
    "In this notebook we provide an example of the CCZ cost model functionalities by attempting to reproduce results from section IV.C of [Lee et al. 2021](https://link.aps.org/doi/10.1103/PRXQuantum.2.030305) (surface code compliation of quantum phase estimation on the THC-encoded Li et al. FeMoco Hamiltonian).\n",
    "\n",
    "\n",
    "### manual choice of distillation and data parameters\n",
    "\n",
    "The physical costs can be computed by specifying manually the factories used for magic state distillation and the surface code parameters."
   ]
  },
  {
   "cell_type": "code",
   "execution_count": null,
   "metadata": {},
   "outputs": [],
   "source": [
    "from qualtran.surface_code.ccz2t_cost_model import get_ccz2t_costs, CCZ2TFactory\n",
    "from qualtran.surface_code.multi_factory import MultiFactory\n",
    "from qualtran.surface_code.data_block import SimpleDataBlock\n",
    "from qualtran.surface_code.magic_count import MagicCount\n",
    "\n",
    "n_magic = MagicCount(n_ccz=6665400000) # pag. 26\n",
    "n_data_qubits = 696 # Fig. 10 \n",
    "factory = MultiFactory(base_factory=CCZ2TFactory(distillation_l1_d=19, distillation_l2_d=31),\n",
    "                       n_factories=4)\n",
    "data_block = SimpleDataBlock(data_d=31, routing_overhead=0.5) \n",
    "\n",
    "cost = get_ccz2t_costs(\n",
    "    n_magic=n_magic,\n",
    "    n_algo_qubits=n_data_qubits,\n",
    "    phys_err=1e-3,\n",
    "    cycle_time_us=1,\n",
    "    factory=factory,\n",
    "    data_block=data_block\n",
    ")\n",
    "\n",
    "print(f'failure probability: {cost.failure_prob:.3%}')\n",
    "print(f'wall time: {cost.duration_hr/24} days') # ref: 3 days\n",
    "print(f'footprint: {cost.footprint*1e-6:.2f} million qubits') # ref: 4 million qubits "
   ]
  },
  {
   "cell_type": "markdown",
   "metadata": {},
   "source": [
    "### Grid search for distillation and data code distances\n",
    "\n",
    "Alternatively, qualtran provides a function to perform grid search over factories and data blocks, optimizing the cost (in terms of spacetime volume, total time or any other given ordering)."
   ]
  },
  {
   "cell_type": "code",
   "execution_count": null,
   "metadata": {},
   "outputs": [],
   "source": [
    "from qualtran.surface_code.ccz2t_cost_model import get_ccz2t_costs_from_grid_search, \\\n",
    "                                                   iter_ccz2t_factories\n",
    "\n",
    "best_cost, best_factory, best_data_block = get_ccz2t_costs_from_grid_search(\n",
    "    n_magic=n_magic,\n",
    "    n_algo_qubits=n_data_qubits,\n",
    "    error_budget=1e-2,\n",
    "    phys_err=1e-3,\n",
    "    factory_iter=iter_ccz2t_factories(n_factories=4), # use 4 CCZ factories in parallel\n",
    "    cost_function=(lambda pc: pc.duration_hr) # optimize over total time\n",
    ")"
   ]
  },
  {
   "cell_type": "code",
   "execution_count": null,
   "metadata": {},
   "outputs": [],
   "source": [
    "distillation_error = best_factory.distillation_error(n_magic, phys_err=1e-3)\n",
    "data_error = best_data_block.data_error(\n",
    "    n_algo_qubits=n_data_qubits, n_cycles=best_factory.n_cycles(n_magic), phys_err=1e-3\n",
    ")\n",
    "\n",
    "print(f\"distillation error: {distillation_error:.3%}\")  # ref: 0.1% per 1e10 Toffolis\n",
    "print(f\"data error: {data_error:.3%}\")\n",
    "print(f\"total failure probability: {best_cost.failure_prob:.3%}\")\n",
    "print(f\"wall time: {best_cost.duration_hr / 24} days\")  # ref: 3 days\n",
    "print(f\"footprint: {best_cost.footprint * 1e-6:.2f} million qubits\")  # ref: 4 million qubits"
   ]
  },
  {
   "cell_type": "markdown",
   "metadata": {},
   "source": [
    "The optimization result does not match the THC paper results exactly. \n",
    "The cost model used is similar, but the results from the THC paper include a detailed study of the lattice surgery layout. \n",
    "Here, instead, we just assume a 50% space overhead for routing and we compute the time as only limited by the CCZ generation rate.\n",
    "The shorter runtime, at a cost of an increased number of physical qubits, might be due to this."
   ]
  }
 ],
 "metadata": {
  "kernelspec": {
   "display_name": "Python 3",
   "language": "python",
   "name": "python3"
  },
  "language_info": {
   "codemirror_mode": {
    "name": "ipython",
    "version": 3
   },
   "file_extension": ".py",
   "mimetype": "text/x-python",
   "name": "python",
   "nbconvert_exporter": "python",
   "pygments_lexer": "ipython3",
   "version": "3.10.13"
  }
 },
 "nbformat": 4,
 "nbformat_minor": 2
}
