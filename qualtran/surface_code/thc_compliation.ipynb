{
 "cells": [
  {
   "cell_type": "markdown",
   "metadata": {},
   "source": [
    "## THC FeMoco compliation\n",
    "\n",
    "This notebook is attempting to reproduce results from sec. IV.C of (10.1103/PRXQuantum.2.030305)[https://link.aps.org/doi/10.1103/PRXQuantum.2.030305] (here on \"THC paper\"), regarding surface code compliation of quantum phase estimation on the THC-encoded Li et al. FeMoco Hamiltonian."
   ]
  },
  {
   "cell_type": "code",
   "execution_count": 2,
   "metadata": {},
   "outputs": [],
   "source": [
    "from functools import partial\n",
    "\n",
    "from qualtran.surface_code.algorithm_summary import AlgorithmSummary\n",
    "from qualtran.surface_code.multi_factory import MultiFactory\n",
    "from qualtran.surface_code.data_block import SimpleDataBlock\n",
    "from qualtran.surface_code.ccz2t_cost_model import get_ccz2t_costs_from_grid_search, \\\n",
    "                                                   iter_ccz2t_factories, \\\n",
    "                                                   get_ccz2t_costs, \\\n",
    "                                                   CCZ2TFactory\n",
    "\n",
    "# Logical data (input for grid search), from THC paper\n",
    "ERR_BUDGET = 0.01\n",
    "N_TOFFOLI = 6665400000 # Pag. 26\n",
    "N_QUBITS = 696 # Fig. 10 \n",
    "PHYS_ERR = 1e-3\n",
    "N_FACTORIES = 4\n",
    "CYCLE_TIME = 1\n",
    "\n",
    "n_magic = AlgorithmSummary(toffoli_gates=N_TOFFOLI)\n",
    "\n",
    "\n",
    "# Manual optimal values (output of grid search) from THC paper\n",
    "DISTILLATION_L1_D = 19\n",
    "DISTILLATION_L2_D = 31\n",
    "DATA_D = 31\n",
    "FOOTPRINT = int(4E10)\n",
    "DURATION_DAYS = 3\n",
    "\n",
    "target_factory = MultiFactory(CCZ2TFactory(DISTILLATION_L1_D, DISTILLATION_L2_D), N_FACTORIES)\n",
    "target_data_block = SimpleDataBlock(DATA_D)"
   ]
  },
  {
   "cell_type": "markdown",
   "metadata": {},
   "source": [
    "## Using manual values for factory and data block"
   ]
  },
  {
   "cell_type": "code",
   "execution_count": 5,
   "metadata": {},
   "outputs": [
    {
     "name": "stdout",
     "output_type": "stream",
     "text": [
      "distillation error: 0.069%\n",
      "data error: 0.373%\n",
      "failure probability: 0.442%\n",
      "wall time: 4.1369453125 days\n",
      "footprint: 2.81 million qubits\n"
     ]
    }
   ],
   "source": [
    "distillation_error = target_factory.distillation_error(n_magic, PHYS_ERR)\n",
    "data_error = target_data_block.data_error(n_algo_qubits=N_QUBITS, \n",
    "                                          n_cycles=target_factory.n_cycles(n_magic),\n",
    "                                          phys_err=PHYS_ERR)\n",
    "\n",
    "print(f'distillation error: {distillation_error:.3%}') # ref: 0.1% per 1e10 Toffolis\n",
    "print(f'data error: {data_error:.3%}')\n",
    "\n",
    "manual_cost = get_ccz2t_costs(\n",
    "    n_magic=n_magic,\n",
    "    n_algo_qubits=N_QUBITS,\n",
    "    phys_err=PHYS_ERR,\n",
    "    cycle_time_us=CYCLE_TIME,\n",
    "    factory=target_factory,\n",
    "    data_block=target_data_block\n",
    ")\n",
    "\n",
    "print(f'failure probability: {manual_cost.failure_prob:.3%}')\n",
    "print(f'wall time: {manual_cost.duration_hr/24} days') # ref: 3 days\n",
    "print(f'footprint: {manual_cost.footprint*1e-6:.2f} million qubits') # ref: 4 million qubits "
   ]
  },
  {
   "cell_type": "markdown",
   "metadata": {},
   "source": [
    "## Grid search"
   ]
  },
  {
   "cell_type": "code",
   "execution_count": 7,
   "metadata": {},
   "outputs": [
    {
     "name": "stdout",
     "output_type": "stream",
     "text": [
      "PhysicalCost(failure_prob=0.007725395132201774, footprint=2933032, duration_hr=89.1034375)\n",
      "MultiFactory(base_factory=CCZ2TFactory(distillation_l1_d=17, distillation_l2_d=29), n_factories=4)\n",
      "SimpleDataBlock(data_d=33, routing_overhead=0.5)\n",
      "\n",
      "distillation error: 0.739%\n",
      "data error: 0.033%\n",
      "failure probability: 0.773%\n",
      "wall time: 3.7126432291666664 days\n",
      "footprint: 2.93 million qubits\n"
     ]
    }
   ],
   "source": [
    "best_cost, best_factory, best_data_block = get_ccz2t_costs_from_grid_search(\n",
    "    n_magic=n_magic,\n",
    "    n_algo_qubits=N_QUBITS,\n",
    "    error_budget=ERR_BUDGET,\n",
    "    phys_err=PHYS_ERR,\n",
    "    factory_iter=partial(iter_ccz2t_factories, n_factories=N_FACTORIES),\n",
    "    cost_function=(lambda pc: pc.duration_hr)\n",
    ")\n",
    "\n",
    "print(best_cost)\n",
    "print(best_factory)\n",
    "print(best_data_block)\n",
    "print()\n",
    "\n",
    "distillation_error = best_factory.distillation_error(n_magic, PHYS_ERR)\n",
    "data_error = best_data_block.data_error(n_algo_qubits=N_QUBITS, \n",
    "                                        n_cycles=best_factory.n_cycles(n_magic),\n",
    "                                        phys_err=PHYS_ERR)\n",
    "\n",
    "print(f'distillation error: {distillation_error:.3%}') # ref: 0.1% per 1e10 Toffolis\n",
    "print(f'data error: {data_error:.3%}')\n",
    "print(f'failure probability: {best_cost.failure_prob:.3%}')\n",
    "print(f'wall time: {best_cost.duration_hr/24} days') # ref: 3 days\n",
    "print(f'footprint: {best_cost.footprint*1e-6:.2f} million qubits') # ref: 4 million qubits "
   ]
  },
  {
   "cell_type": "markdown",
   "metadata": {},
   "source": [
    "The optimization result does not match the THC paper results exactly. \n",
    "The cost model used is similar, but the results from the THC paper include a detailed study of the lattice surgery layout. \n",
    "Here, instead, we just assume a 50% space overhead for routing and we compute the time as only limited by the CCZ generation rate.\n",
    "The shorter runtime, at a cost of an increased number of physical qubits, might be due to this."
   ]
  },
  {
   "cell_type": "markdown",
   "metadata": {},
   "source": []
  }
 ],
 "metadata": {
  "kernelspec": {
   "display_name": "Python 3",
   "language": "python",
   "name": "python3"
  },
  "language_info": {
   "codemirror_mode": {
    "name": "ipython",
    "version": 3
   },
   "file_extension": ".py",
   "mimetype": "text/x-python",
   "name": "python",
   "nbconvert_exporter": "python",
   "pygments_lexer": "ipython3",
   "version": "3.10.13"
  }
 },
 "nbformat": 4,
 "nbformat_minor": 2
}
