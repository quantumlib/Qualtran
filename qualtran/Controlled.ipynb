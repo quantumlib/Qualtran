{
 "cells": [
  {
   "cell_type": "markdown",
   "id": "180029ee",
   "metadata": {},
   "source": [
    "# Controlled\n",
    "\n",
    "The controlled protocol lets you request a 'controlled' version of a bloq.\n",
    "\n",
    "A key feature of any program is the ability to do branching. That is, choose what operations to do based on input. The primitive branching feature in quantum algorithms is the idea of a controlled bloq.\n",
    "\n",
    "In its simplest form, a control bit is specified as an (additional) input to a bloq and the bloq is active when the control input is in the $|1\\rangle$ state. Otherwise, the bloq's operation is not performed (said another way: the Identity bloq is performed). The control input can be in superposition. "
   ]
  },
  {
   "cell_type": "code",
   "execution_count": null,
   "id": "344b415f",
   "metadata": {},
   "outputs": [],
   "source": [
    "from qualtran.drawing import show_bloq"
   ]
  },
  {
   "cell_type": "markdown",
   "id": "6bc2c5e8",
   "metadata": {},
   "source": [
    "## `ControlledBloq`"
   ]
  },
  {
   "cell_type": "markdown",
   "id": "fbdef029",
   "metadata": {},
   "source": [
    "`ControlledBloq(subbloq)` represents a controlled version of `subbloq`. Its decompose method will call `subbloq`'s decompose and wrap each of the child bloqs in `ControlledBloq`."
   ]
  },
  {
   "cell_type": "code",
   "execution_count": null,
   "id": "6255dcc4",
   "metadata": {},
   "outputs": [],
   "source": [
    "from qualtran import ControlledBloq\n",
    "from qualtran.bloqs.for_testing import TestAtom\n",
    "\n",
    "bloq = ControlledBloq(subbloq=TestAtom())\n",
    "show_bloq(bloq)"
   ]
  },
  {
   "cell_type": "markdown",
   "id": "823d4b6a",
   "metadata": {},
   "source": [
    "### Controlled Serial Bloq"
   ]
  },
  {
   "cell_type": "code",
   "execution_count": null,
   "id": "495fe2d4",
   "metadata": {},
   "outputs": [],
   "source": [
    "from qualtran.bloqs.for_testing import TestSerialCombo\n",
    "\n",
    "bloq = ControlledBloq(subbloq=TestSerialCombo())\n",
    "show_bloq(bloq)\n",
    "show_bloq(bloq.decompose_bloq())"
   ]
  },
  {
   "cell_type": "markdown",
   "id": "74e0d0ab",
   "metadata": {},
   "source": [
    "### Controlled Parallel Bloq"
   ]
  },
  {
   "cell_type": "code",
   "execution_count": null,
   "id": "8fdcd64d",
   "metadata": {
    "scrolled": false
   },
   "outputs": [],
   "source": [
    "from qualtran.bloqs.for_testing import TestParallelCombo\n",
    "\n",
    "bloq = ControlledBloq(subbloq=TestParallelCombo())\n",
    "show_bloq(bloq)\n",
    "show_bloq(bloq.decompose_bloq())"
   ]
  }
 ],
 "metadata": {
  "kernelspec": {
   "display_name": "Python 3 (ipykernel)",
   "language": "python",
   "name": "python3"
  },
  "language_info": {
   "codemirror_mode": {
    "name": "ipython",
    "version": 3
   },
   "file_extension": ".py",
   "mimetype": "text/x-python",
   "name": "python",
   "nbconvert_exporter": "python",
   "pygments_lexer": "ipython3",
   "version": "3.10.9"
  }
 },
 "nbformat": 4,
 "nbformat_minor": 5
}
