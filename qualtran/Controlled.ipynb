{
 "cells": [
  {
   "cell_type": "markdown",
   "id": "180029ee",
   "metadata": {},
   "source": [
    "# Controlled\n",
    "\n",
    "The controlled protocol lets you request a 'controlled' version of a bloq.\n",
    "\n",
    "A key feature of any program is the ability to do branching. That is, choose what operations to do based on input. The primitive branching feature in quantum algorithms is the idea of a controlled bloq.\n",
    "\n",
    "In its simplest form, a control bit is specified as an (additional) input to a bloq and the bloq is active when the control input is in the $|1\\rangle$ state. Otherwise, the bloq's operation is not performed (said another way: the Identity bloq is performed). The control input can be in superposition. "
   ]
  },
  {
   "cell_type": "code",
   "execution_count": null,
   "id": "344b415f",
   "metadata": {},
   "outputs": [],
   "source": [
    "from qualtran.drawing import show_bloq\n",
    "from qualtran.bloqs.basic_gates import XGate\n",
    "\n",
    "x = XGate()\n",
    "\n",
    "show_bloq(x)\n",
    "show_bloq(x.controlled())"
   ]
  },
  {
   "cell_type": "markdown",
   "id": "455f4c8a",
   "metadata": {},
   "source": [
    "## Interface\n",
    "\n",
    "The method for accessing the controlled version of a bloq is calling `Bloq.controlled(ctrl_spec)`. `ctrl_spec` is an instance of `CtrlSpec` which specifies how to control the bloq. \n",
    "\n",
    "`CtrlSpec` supports additional control specifications:\n",
    " 1. 'negative' controls where the bloq is active if the input is |0>.\n",
    " 2. integer-equality controls where a `bitsize`-sized input must match an integer control value.\n",
    " 3. ndarrays of control values, where the bloq is active if **all** inputs are active.\n",
    "\n",
    "For example: `CtrlSpec(cvs=[0, 1, 0, 1])` is active if the four input bits match the pattern."
   ]
  },
  {
   "cell_type": "code",
   "execution_count": null,
   "id": "7f55acb5",
   "metadata": {},
   "outputs": [],
   "source": [
    "from qualtran import CtrlSpec\n",
    "\n",
    "ctrl_spec = CtrlSpec(cvs=[0, 1, 0, 1])\n",
    "cx = x.controlled(ctrl_spec=ctrl_spec)\n",
    "show_bloq(cx, type='musical_score')"
   ]
  },
  {
   "cell_type": "markdown",
   "id": "76350f9c",
   "metadata": {},
   "source": [
    "The controlled bloq is defined by its decomposition in addition to its classical and quantum simulation protocols. For a general bloq, we can provide a decomposition of its controlled version by controlling each of the subbloqs."
   ]
  },
  {
   "cell_type": "code",
   "execution_count": null,
   "id": "ac9bf2ae",
   "metadata": {},
   "outputs": [],
   "source": [
    "from qualtran.bloqs.for_testing import TestSerialCombo\n",
    "\n",
    "serial = TestSerialCombo()\n",
    "cserial = serial.controlled()\n",
    "show_bloq(serial.decompose_bloq(), type='musical_score')\n",
    "show_bloq(cserial.decompose_bloq(), type='musical_score')"
   ]
  },
  {
   "cell_type": "markdown",
   "id": "7f26d386",
   "metadata": {},
   "source": [
    "## Implementation\n",
    "\n",
    "Bloq authors can override `Bloq.get_ctrl_system(...)` to provide a custom controlled version of a bloq. Please read the docstrings for this method to understand the required return values.\n",
    "\n",
    "We've already seen an example where `XGate().controlled()` will give the `CNOT` bloq. "
   ]
  },
  {
   "cell_type": "code",
   "execution_count": null,
   "id": "2524c557",
   "metadata": {},
   "outputs": [],
   "source": [
    "cx = XGate().controlled()\n",
    "print(cx)"
   ]
  },
  {
   "cell_type": "markdown",
   "id": "d7b490bb",
   "metadata": {},
   "source": [
    "This behavior may depend on the control spec. For example, if we want to control on the input line being in the state corresponding to the unsigned integer `255`, we wouldn't get a `CNOT` bloq."
   ]
  },
  {
   "cell_type": "code",
   "execution_count": null,
   "id": "a42248a8",
   "metadata": {},
   "outputs": [],
   "source": [
    "from qualtran import QInt\n",
    "c255x = XGate().controlled(CtrlSpec(QInt(8), cvs=255))\n",
    "show_bloq(c255x, type='musical_score')\n",
    "print(c255x)"
   ]
  },
  {
   "cell_type": "markdown",
   "id": "8603f99f",
   "metadata": {},
   "source": [
    "## Default Fallback\n",
    "\n",
    "If a bloq does not override `get_ctrl_system`, the system will use the `qualtran.Controlled` meta-bloq to wrap the original bloq"
   ]
  },
  {
   "cell_type": "code",
   "execution_count": null,
   "id": "6255dcc4",
   "metadata": {},
   "outputs": [],
   "source": [
    "from qualtran.bloqs.for_testing import TestAtom\n",
    "\n",
    "atom = TestAtom()\n",
    "catom = atom.controlled()\n",
    "catom"
   ]
  },
  {
   "cell_type": "markdown",
   "id": "1f0452eb",
   "metadata": {},
   "source": [
    "This metabloq forms an important part of the 'controlled' protocol. It adapts the other qualtran protocols to handle controlled versions of arbitrary bloqs. It delegates its protocols to the wrapped bloq.\n",
    "\n",
    " - **Signature:** That of the wrapped bloq with new registers according to `ctrl_spec`.\n",
    " - **Decomposition:** The controlled version of a composite bloq is formed by controlling each\n",
    "   of the subbloqs.\n",
    " - **Classical simulation:** This uses the control spec’s activation method to check classical values.\n",
    "   If the gate is meant to be active, the wrapped classical simulation protocol is employed.\n",
    "   Otherwise: the input values are returned unchanged.\n",
    " - **Tensor simulation:** Currently, tensor simulation will proceed via the decomposition.\n",
    " - **Call graph:** The wrapped bloq's call graph with controlled versions of each subbloq.\n",
    " - **Wire_symbol:** Existing registers delegate to the wrapped bloq. New control registers use the\n",
    "   wire symbol information provided by the control spec.\n",
    " - **Names:** The wrapped bloq's names encased with \"C[...]\"\n",
    " - **Adjoint:** Use the default fallback. The control lines are all symmetric.\n",
    " - **Cirq**: Use the default fallback. No translation to `cirq.ControlledOperation` is done."
   ]
  },
  {
   "cell_type": "code",
   "execution_count": null,
   "id": "12a460f0",
   "metadata": {},
   "outputs": [],
   "source": [
    "# Use the default fallback for `OnEach`; but the subbloqs all have custom\n",
    "# controlled behavior: \n",
    "#  C^2[X]        -> Toffoli\n",
    "#  C[Split/Join] -> Split/Join\n",
    "from qualtran.bloqs.on_each import OnEach\n",
    "\n",
    "ccx3 = OnEach(n=3, gate=x).controlled(CtrlSpec(cvs=(1,1)))\n",
    "show_bloq(ccx3.decompose_bloq(), type='musical_score')"
   ]
  }
 ],
 "metadata": {
  "kernelspec": {
   "display_name": "Python 3 (ipykernel)",
   "language": "python",
   "name": "python3"
  },
  "language_info": {
   "codemirror_mode": {
    "name": "ipython",
    "version": 3
   },
   "file_extension": ".py",
   "mimetype": "text/x-python",
   "name": "python",
   "nbconvert_exporter": "python",
   "pygments_lexer": "ipython3",
   "version": "3.10.9"
  }
 },
 "nbformat": 4,
 "nbformat_minor": 5
}
