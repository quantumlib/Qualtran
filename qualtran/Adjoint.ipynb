{
 "cells": [
  {
   "cell_type": "markdown",
   "id": "390d2b35",
   "metadata": {},
   "source": [
    "# Adjoint\n",
    "\n",
    "The adjoint protocol lets you request the adjoint of a bloq.\n",
    "\n",
    "Namely, if a given bloq represents a linear operator, this protocol returns a bloq representing the [Hermitian adjoint](https://en.wikipedia.org/wiki/Hermitian_adjoint) (\"Hermitian conjugate\" or \"adjoint\") of the original operator. When the operators are represented by matrices, the adjoint is the conjugate transpose.\n",
    "\n",
    "Below we see that $\\left(|0\\rangle\\right)^\\dagger = \\langle 0|$.\n",
    "\n",
    "Note: in mathematical notation, we apply operators from right to left. In Qualtran drawings (inspired by tensor networks and quantum circuits), the order goes from left to right."
   ]
  },
  {
   "cell_type": "code",
   "execution_count": null,
   "id": "4a04dc3a",
   "metadata": {},
   "outputs": [],
   "source": [
    "from qualtran.drawing import show_bloq\n",
    "from qualtran.bloqs.basic_gates import ZeroState\n",
    "\n",
    "print(ZeroState())\n",
    "show_bloq(ZeroState())\n",
    "print(ZeroState().adjoint())\n",
    "show_bloq(ZeroState().adjoint())"
   ]
  },
  {
   "cell_type": "markdown",
   "id": "e223b30e",
   "metadata": {},
   "source": [
    "## Interface\n",
    "\n",
    "The method for accessing the adjoint of a bloq is calling the `Bloq.adjoint()` method on the bloq.\n",
    "\n",
    "Of particular note is the `CompositeBloq.adjoint()` override which codifies the \"anti-distributivity\" of the adjoint: $(AB)^\\dagger = B^\\dagger A^\\dagger$.\n",
    "\n",
    "The adjoint of a composite bloq reverses the direction of the flow of data (i.e. it reverses the order of operations) and uses the adjoint of each sub-bloq. "
   ]
  },
  {
   "cell_type": "code",
   "execution_count": null,
   "id": "a31d6194",
   "metadata": {},
   "outputs": [],
   "source": [
    "import numpy as np\n",
    "\n",
    "from qualtran import BloqBuilder\n",
    "from qualtran.bloqs.basic_gates import ZeroState, PlusState, CNOT\n",
    "\n",
    "# Construct a bell state by doing a ladder of CNOTs\n",
    "bb = BloqBuilder()\n",
    "q0 = bb.add(PlusState())\n",
    "\n",
    "src_q = q0  # current wire\n",
    "qvars = []  # track output wires\n",
    "for _ in range(3):\n",
    "    next_q = bb.add(ZeroState())\n",
    "    src_q, next_q = bb.add(CNOT(), ctrl=src_q, target=next_q)\n",
    "    \n",
    "    qvars.append(src_q)\n",
    "    src_q = next_q\n",
    "    \n",
    "qvars.append(src_q)\n",
    "bell_cbloq = bb.finalize(qs=np.array(qvars))\n",
    "show_bloq(bell_cbloq)"
   ]
  },
  {
   "cell_type": "code",
   "execution_count": null,
   "id": "b9a43c37",
   "metadata": {},
   "outputs": [],
   "source": [
    "# Take the adjoint of a composite bloq\n",
    "show_bloq(bell_cbloq.adjoint())"
   ]
  },
  {
   "cell_type": "markdown",
   "id": "38cafccc",
   "metadata": {},
   "source": [
    "## Implementation\n",
    "\n",
    "Bloq authors can override `Bloq.adjoint()` in certain circumstances.\n",
    "\n",
    " - If the bloq is self-adjoint. For example, many common gates like `CNOT` and `XGate` are self-adjoint, i.e. $U=U^\\dagger$.\n",
    " - If there is an optimized compilation for the adjoint. For example, `And` has a special construction that only works when un-computing."
   ]
  },
  {
   "cell_type": "code",
   "execution_count": null,
   "id": "95bfabd6",
   "metadata": {},
   "outputs": [],
   "source": [
    "from qualtran.bloqs.basic_gates import CNOT, XGate\n",
    "\n",
    "# Examples of self-adjoint bloqs.\n",
    "print('X == X^dag:      ', XGate() == XGate().adjoint())\n",
    "print('CNOT == CNOT^dag:', CNOT() == CNOT().adjoint())"
   ]
  },
  {
   "cell_type": "code",
   "execution_count": null,
   "id": "1ffd39e9",
   "metadata": {},
   "outputs": [],
   "source": [
    "# A bloq with a special construction (and reduced cost) for its adjoint.\n",
    "\n",
    "from qualtran.bloqs.mcmt import And\n",
    "from qualtran.drawing import show_counts_sigma\n",
    "\n",
    "_, forward_costs = And().call_graph()\n",
    "_, backward_costs = And().adjoint().call_graph()\n",
    "show_counts_sigma(forward_costs)\n",
    "show_counts_sigma(backward_costs)"
   ]
  },
  {
   "cell_type": "markdown",
   "id": "ca64862f",
   "metadata": {},
   "source": [
    "## Default Fallback\n",
    "\n",
    "If a bloq does not override `.adjoint()`, the system will use the `qualtran.Adjoint` meta-bloq to wrap the original bloq."
   ]
  },
  {
   "cell_type": "code",
   "execution_count": null,
   "id": "0b1868fb",
   "metadata": {},
   "outputs": [],
   "source": [
    "from qualtran.bloqs.for_testing import TestSerialCombo\n",
    "\n",
    "bloq = TestSerialCombo()\n",
    "bloq.adjoint()"
   ]
  },
  {
   "cell_type": "markdown",
   "id": "2bf6ee87",
   "metadata": {},
   "source": [
    "This metabloq forms an important part of the adjoint protocol. It adapts the other qualtran protocols to resepct the adjoint-edness of the wrapped subbloq.\n",
    "\n",
    "The `Adjoint` bloq generally delegates all of its protocols to `self.subbloq`:\n",
    "\n",
    " - **Signature**: The signature is the adjoint of `subbloqs`'s signature. Namely, LEFT\n",
    "   and RIGHT registers are swapped.\n",
    " - **Decomposition**: The decomposition is the adjoint of `subbloq`'s decomposition. Namely,\n",
    "   the order of operations in the resultant `CompositeBloq` is reversed and each bloq is\n",
    "   replaced with its adjoint.\n",
    " - **Adjoint**: The adjoint of an `Adjoint` bloq is the subbloq itself.\n",
    " - **Call graph**: The call graph is the subbloq's call graph, but each bloq is replaced\n",
    "   with its adjoint.\n",
    " - **Cirq Interop**: The default `Bloq` implementation is used, which goes via `BloqAsCirqGate`\n",
    "   as usual.\n",
    " - **Wire Symbol**: The wire symbols are the adjoint of `subbloq`'s wire symbols. Namely,\n",
    "   left- and right-oriented symbols are flipped.\n",
    " - **Names**: The string names / labels are that of the `subbloq` with a dagger symbol appended.\n",
    " \n",
    "Some protocols are impossible to delegate specialized implementations. The `Adjoint` bloq\n",
    "supports the following protocols with \"decompose-only\" implementations. This means we always\n",
    "go via the bloq's decomposition instead of preferring specialized implementations provided by\n",
    "the bloq author. If a specialized implementation of these protocols are required or you\n",
    "are trying to represent an adjoint bloq without a decomposition and need to support these\n",
    "protocols, you cannot use the default fallback method.\n",
    "\n",
    " - Classical simulation is \"decompose-only\". It is impossible to invert a generic python\n",
    "   function.\n",
    " - Tensor simulation is \"decompose-only\" due to technical details around the Quimb interop."
   ]
  },
  {
   "cell_type": "code",
   "execution_count": null,
   "id": "b7c1f58c",
   "metadata": {},
   "outputs": [],
   "source": [
    "# The decomposition is the adjoint of the wrapped bloq's decomposition\n",
    "show_bloq(bloq.decompose_bloq())\n",
    "show_bloq(bloq.adjoint().decompose_bloq())"
   ]
  },
  {
   "cell_type": "markdown",
   "id": "06a7f26d",
   "metadata": {},
   "source": [
    "In the next cell, we write a quick block that has a non-trivial adjoint. We'll take a look at its decomposition and tensor contraction."
   ]
  },
  {
   "cell_type": "code",
   "execution_count": null,
   "id": "a0c9de4c",
   "metadata": {},
   "outputs": [],
   "source": [
    "from functools import cached_property\n",
    "from typing import *\n",
    "\n",
    "from qualtran import BloqBuilder, Bloq, Signature, SoquetT\n",
    "from qualtran.bloqs.basic_gates import TGate, Hadamard\n",
    "\n",
    "class TStateMaker(Bloq):\n",
    "    @cached_property\n",
    "    def signature(self) -> 'Signature':\n",
    "        return Signature.build(x=1)\n",
    "\n",
    "    def build_composite_bloq(self, bb: 'BloqBuilder', x: 'SoquetT') -> Dict[str, 'SoquetT']:\n",
    "        x = bb.add(Hadamard(), q=x)\n",
    "        x = bb.add(TGate(), q=x)\n",
    "        return {'x': x}\n",
    "    \n",
    "show_bloq(TStateMaker().decompose_bloq())"
   ]
  },
  {
   "cell_type": "code",
   "execution_count": null,
   "id": "070a4032",
   "metadata": {},
   "outputs": [],
   "source": [
    "# Use the default fallback for `.adjoint()`\n",
    "show_bloq(TStateMaker().adjoint().decompose_bloq())"
   ]
  },
  {
   "cell_type": "code",
   "execution_count": null,
   "id": "53f197d0",
   "metadata": {},
   "outputs": [],
   "source": [
    "unitary = TStateMaker().tensor_contract()\n",
    "adj_unitary = TStateMaker().adjoint().tensor_contract()\n",
    "np.testing.assert_allclose(unitary.conj().T, adj_unitary)\n",
    "print(\"Check!\")"
   ]
  },
  {
   "cell_type": "markdown",
   "id": "48c3e471",
   "metadata": {},
   "source": [
    "## Additional Functionality\n",
    "\n",
    "`Signature`, `Register`, and `qualtran.drawing.WireSymbol` also provide an `adjoint` method which returns a version of the object with \"right\" and \"left\" reversed."
   ]
  }
 ],
 "metadata": {
  "kernelspec": {
   "display_name": "Python 3 (ipykernel)",
   "language": "python",
   "name": "python3"
  },
  "language_info": {
   "codemirror_mode": {
    "name": "ipython",
    "version": 3
   },
   "file_extension": ".py",
   "mimetype": "text/x-python",
   "name": "python",
   "nbconvert_exporter": "python",
   "pygments_lexer": "ipython3",
   "version": "3.10.9"
  }
 },
 "nbformat": 4,
 "nbformat_minor": 5
}
