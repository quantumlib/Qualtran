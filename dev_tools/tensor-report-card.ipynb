{
 "cells": [
  {
   "cell_type": "markdown",
   "id": "9a9335f1",
   "metadata": {},
   "source": [
    "# Tensor Report Card\n",
    "\n",
    "Not all bloq examples support tensor simulation. This report card automatically determines which bloq examples should be tensor simulable.\n",
    "\n",
    " - State vector simulation uses $2^n$ numbers to simulate a quantum state. The tensor protocol uses quimb to try to find more efficient contraction orderings. Quimb reports the contraction width, which is the minimum size of any intermediate tensor encountered in the contraciton. The simulation uses $2^w$ numbers, where $w$ is the width. We consider a width under 25 qubits as simulable.\n",
    " - Qualtran requires \"flattening\" out the bloq to turn it into an efficient tensor network. This may take too much time itself for large algorithms with many levels of abstraction. If the process of turning a bloq into a quimb tensor network and finding a contraction ordering takes longer than 8 seconds, we don't consider the bloq simulable.\n",
    " - The flattened structure needs to have explicit tensors. For bloqs with symbolic parameters, we either can't decompose & flatten them, or the tensors would be symbolic, which we don't support."
   ]
  },
  {
   "cell_type": "code",
   "execution_count": null,
   "id": "4d2bf2bc-1b55-4f68-b0f4-68f62dd68bae",
   "metadata": {},
   "outputs": [],
   "source": [
    "from qualtran_dev_tools.bloq_finder import get_bloq_examples\n",
    "from qualtran_dev_tools.tensor_report_card import report_on_tensors, ExecuteWithTimeout"
   ]
  },
  {
   "cell_type": "code",
   "execution_count": null,
   "id": "86168342-d740-446a-bc88-06eaec8ae3a8",
   "metadata": {},
   "outputs": [],
   "source": [
    "bes = get_bloq_examples()\n",
    "\n",
    "# Imports to exclude certain bloqs, see following comment\n",
    "from qualtran.bloqs.multiplexers.apply_gate_to_lth_target import ApplyGateToLthQubit"
   ]
  },
  {
   "cell_type": "code",
   "execution_count": null,
   "id": "51781740-6417-4b3b-b5d8-86f51340a016",
   "metadata": {},
   "outputs": [],
   "source": [
    "exec = ExecuteWithTimeout(timeout=8., max_workers=4)\n",
    "for i, be in enumerate(bes):\n",
    "\n",
    "    if be.bloq_cls == ApplyGateToLthQubit:\n",
    "        # This bloq uses a lambda function as one of its attributes, which\n",
    "        # can't be pickled and used with multiprocessing.\n",
    "        continue\n",
    "    \n",
    "    exec.submit(report_on_tensors, kwargs=dict(name=be.name, cls_name=be.bloq_cls.__name__, bloq=be.make()))\n",
    "\n",
    "records = []\n",
    "while exec.work_to_be_done:\n",
    "    kwargs, record = exec.next_result()\n",
    "    #print(kwargs['name'], end=' ', flush=True)\n",
    "    print('\\r', f'{exec.work_to_be_done:5d} remaining', end='', flush=True)\n",
    "    \n",
    "    if record is None:\n",
    "        records.append({\n",
    "            'name': kwargs['name'],\n",
    "            'cls': kwargs['cls_name'],\n",
    "            'err': 'Timeout',\n",
    "        })\n",
    "    else:\n",
    "        records.append(record)\n",
    "\n",
    "import pandas as pd\n",
    "df = pd.DataFrame(records)"
   ]
  },
  {
   "cell_type": "markdown",
   "id": "393a5aad-7a78-4167-8dd5-407d8a0b3241",
   "metadata": {},
   "source": [
    "## Number of bloq examples considered"
   ]
  },
  {
   "cell_type": "code",
   "execution_count": null,
   "id": "5d674962-27d7-40d1-9916-f0aba3457934",
   "metadata": {},
   "outputs": [],
   "source": [
    "print(len(df))"
   ]
  },
  {
   "cell_type": "markdown",
   "id": "6a59804e-afc6-4227-b74f-cbf82f14b773",
   "metadata": {},
   "source": [
    "## Number of bloq examples successfully flattened"
   ]
  },
  {
   "cell_type": "code",
   "execution_count": null,
   "id": "8b048464-083a-4e04-8135-176f449450ca",
   "metadata": {},
   "outputs": [],
   "source": [
    "print(len(df[df['flat_dur'] > 0]))"
   ]
  },
  {
   "cell_type": "markdown",
   "id": "a4194f99-1551-4a5e-b93d-fb043cc56f9e",
   "metadata": {},
   "source": [
    "## Number of bloq examples with tensors"
   ]
  },
  {
   "cell_type": "code",
   "execution_count": null,
   "id": "5cdfa4e3-e1db-4869-832c-63695a3fd3f4",
   "metadata": {},
   "outputs": [],
   "source": [
    "print(len(df[df['width'] > 0]))"
   ]
  },
  {
   "cell_type": "markdown",
   "id": "05bffa4b-6bbe-4901-b1de-aba1abebe552",
   "metadata": {},
   "source": [
    "## Bloqs that are tensor simulable"
   ]
  },
  {
   "cell_type": "code",
   "execution_count": null,
   "id": "578fd2b5-9f7e-4edc-81b2-a8aad989be68",
   "metadata": {},
   "outputs": [],
   "source": [
    "print(len(df[df['width'] <= 25]))\n",
    "df[df['width'] <= 25]"
   ]
  },
  {
   "cell_type": "markdown",
   "id": "4ef49322-cffb-4ff9-8cb1-6e5a87749492",
   "metadata": {},
   "source": [
    "## Bloqs whose tensor network is too big"
   ]
  },
  {
   "cell_type": "code",
   "execution_count": null,
   "id": "d529d144-b3c5-45e5-ae14-f6d3fb86f153",
   "metadata": {},
   "outputs": [],
   "source": [
    "df[df['width'] > 25].sort_values(by='width')"
   ]
  },
  {
   "cell_type": "markdown",
   "id": "41141f6f-4377-4cee-9ca7-d2981c94d2e4",
   "metadata": {},
   "source": [
    "## Bloqs without tensors\n",
    "\n",
    "Due to errors encountered in flattening or if the bloq's callees don't support tensor simulation."
   ]
  },
  {
   "cell_type": "code",
   "execution_count": null,
   "id": "c3386091-491a-404f-b13d-72b401d2c267",
   "metadata": {},
   "outputs": [],
   "source": [
    "df[df['width'].isna()]"
   ]
  },
  {
   "cell_type": "markdown",
   "id": "46a79e7f-0715-4007-8c11-d959f8f2255b",
   "metadata": {},
   "source": [
    "## Slowest to flatten\n",
    "\n",
    "Within the overall timeout"
   ]
  },
  {
   "cell_type": "code",
   "execution_count": null,
   "id": "df522d3f-4392-46ea-851e-321d0fdfd52f",
   "metadata": {},
   "outputs": [],
   "source": [
    "df.sort_values(by='flat_dur', ascending=False).head()"
   ]
  },
  {
   "cell_type": "markdown",
   "id": "48f419ef-2723-42ea-8670-81a729164cf7",
   "metadata": {},
   "source": [
    "## Flattening is the rate-limiting step.\n",
    "\n",
    "For bloqs that have been successfully flattened, the maximum tensor-network-construction and tensor-contraction-ordering durations are less than 0.5s. Note: the contraction finding code uses the fast, naive approach. One can choose more expensive approaches where the contraciton-ordering-finding is more expensive."
   ]
  },
  {
   "cell_type": "code",
   "execution_count": null,
   "id": "eae32349-ad93-4072-9704-044ef390e59e",
   "metadata": {},
   "outputs": [],
   "source": [
    "# Slowest tn_dur\n",
    "df.sort_values(by='tn_dur', ascending=False).head()"
   ]
  },
  {
   "cell_type": "code",
   "execution_count": null,
   "id": "9249f813-1d42-47f4-bd1a-f198b79298f6",
   "metadata": {},
   "outputs": [],
   "source": [
    "# Slowest width_dur\n",
    "df.sort_values(by='width_dur', ascending=False).head()"
   ]
  }
 ],
 "metadata": {
  "kernelspec": {
   "display_name": "Python 3 (ipykernel)",
   "language": "python",
   "name": "python3"
  },
  "language_info": {
   "codemirror_mode": {
    "name": "ipython",
    "version": 3
   },
   "file_extension": ".py",
   "mimetype": "text/x-python",
   "name": "python",
   "nbconvert_exporter": "python",
   "pygments_lexer": "ipython3",
   "version": "3.11.8"
  }
 },
 "nbformat": 4,
 "nbformat_minor": 5
}
