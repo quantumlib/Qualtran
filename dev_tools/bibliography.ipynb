{
 "cells": [
  {
   "cell_type": "markdown",
   "id": "9a9335f1",
   "metadata": {},
   "source": [
    "# Bibliography"
   ]
  },
  {
   "cell_type": "code",
   "execution_count": null,
   "id": "e9f3aec4-add2-47f4-b118-f82a3aae0ba9",
   "metadata": {},
   "outputs": [],
   "source": [
    "from qualtran_dev_tools.bloq_finder import get_bloq_classes\n",
    "bloq_classes = get_bloq_classes()\n",
    "len(bloq_classes)"
   ]
  },
  {
   "cell_type": "code",
   "execution_count": null,
   "id": "7b76243a-cef2-443c-b39b-f3184bb24388",
   "metadata": {},
   "outputs": [],
   "source": [
    "from qualtran_dev_tools.parse_docstrings import get_references, Reference, UnparsedReference\n",
    "references = {bloq_cls: get_references(bloq_cls) for bloq_cls in bloq_classes}"
   ]
  },
  {
   "cell_type": "code",
   "execution_count": null,
   "id": "083e0915-1a61-4322-8494-9e24cfb8b0b9",
   "metadata": {},
   "outputs": [],
   "source": [
    "from IPython.display import Markdown\n",
    "\n",
    "def show_references(bloq_cls, refs):\n",
    "    if not refs:\n",
    "        return\n",
    "    \n",
    "    text = f'### {bloq_cls.__name__}\\n'\n",
    "    for ref in refs:\n",
    "        text += f' - {ref.text}\\n'\n",
    "    \n",
    "    display(Markdown(text))"
   ]
  },
  {
   "cell_type": "code",
   "execution_count": null,
   "id": "be1774c1-e2c2-4370-9790-cee7b58ced51",
   "metadata": {},
   "outputs": [],
   "source": [
    "for bloq_cls in bloq_classes:\n",
    "    show_references(bloq_cls, references[bloq_cls])"
   ]
  },
  {
   "cell_type": "markdown",
   "id": "8c116584-5d70-45ac-ae58-05161e502bb3",
   "metadata": {},
   "source": [
    "## Parsing Errors"
   ]
  },
  {
   "cell_type": "code",
   "execution_count": null,
   "id": "6486ebc6-6a8d-4d9d-a916-207aa4026976",
   "metadata": {},
   "outputs": [],
   "source": [
    "for bloq_cls, refs in references.items():\n",
    "    for ref in refs:\n",
    "        if isinstance(ref, UnparsedReference):\n",
    "            print(bloq_cls.__name__)\n",
    "            print(ref.text)"
   ]
  },
  {
   "cell_type": "markdown",
   "id": "2bea7cbe-a1c0-488e-bda0-63241a26b121",
   "metadata": {},
   "source": [
    "## Backreference"
   ]
  },
  {
   "cell_type": "code",
   "execution_count": null,
   "id": "1f319bb5-1cf7-471e-8ff4-f4033a6eda0e",
   "metadata": {},
   "outputs": [],
   "source": [
    "from collections import defaultdict\n",
    "backrefs = defaultdict(list)\n",
    "\n",
    "for bloq_cls, refs in references.items():\n",
    "    for ref in refs:\n",
    "        if not hasattr(ref, 'url'):\n",
    "            continue\n",
    "\n",
    "        backrefs[ref.url].append(bloq_cls)\n",
    "backrefs = dict(backrefs)"
   ]
  },
  {
   "cell_type": "code",
   "execution_count": null,
   "id": "08bbfc0e-ebb7-495a-b661-baa1f695ac94",
   "metadata": {},
   "outputs": [],
   "source": [
    "# TODO: check for disagreement\n",
    "titles = {ref.url: ref.title for refs in references.values() for ref in refs if hasattr(ref, 'url')}"
   ]
  },
  {
   "cell_type": "code",
   "execution_count": null,
   "id": "ab4a8ae3-ea12-4ab1-866a-56b0f56b9f0f",
   "metadata": {},
   "outputs": [],
   "source": [
    "for url, clss in backrefs.items():\n",
    "    text = f'### [{titles[url]}]({url})\\n'\n",
    "    for cls in clss:\n",
    "        text += f' - {cls.__name__}\\n'\n",
    "\n",
    "    display(Markdown(text))"
   ]
  }
 ],
 "metadata": {
  "kernelspec": {
   "display_name": "Python 3 (ipykernel)",
   "language": "python",
   "name": "python3"
  },
  "language_info": {
   "codemirror_mode": {
    "name": "ipython",
    "version": 3
   },
   "file_extension": ".py",
   "mimetype": "text/x-python",
   "name": "python",
   "nbconvert_exporter": "python",
   "pygments_lexer": "ipython3",
   "version": "3.11.8"
  }
 },
 "nbformat": 4,
 "nbformat_minor": 5
}
