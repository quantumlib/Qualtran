{
 "cells": [
  {
   "cell_type": "markdown",
   "id": "9a9335f1",
   "metadata": {},
   "source": [
    "# Bloq Report Card"
   ]
  },
  {
   "cell_type": "code",
   "execution_count": null,
   "id": "21912264",
   "metadata": {},
   "outputs": [],
   "source": [
    "from qualtran_dev_tools.bloq_report_card import get_bloq_report_card, show_bloq_report_card\n",
    "report_card = get_bloq_report_card()"
   ]
  },
  {
   "cell_type": "markdown",
   "id": "27f47a4c",
   "metadata": {},
   "source": [
    "### All"
   ]
  },
  {
   "cell_type": "markdown",
   "id": "5fe6f252",
   "metadata": {},
   "source": [
    "### `basic_gates`"
   ]
  },
  {
   "cell_type": "code",
   "execution_count": null,
   "id": "ce0cc08b",
   "metadata": {},
   "outputs": [],
   "source": [
    "show_bloq_report_card(report_card.query('package == \"qualtran.bloqs.basic_gates\"'))"
   ]
  },
  {
   "cell_type": "markdown",
   "id": "4d71e48d",
   "metadata": {},
   "source": [
    "### `arithmetic`"
   ]
  },
  {
   "cell_type": "code",
   "execution_count": null,
   "id": "916eb3bd",
   "metadata": {},
   "outputs": [],
   "source": [
    "show_bloq_report_card(report_card.query('package == \"qualtran.bloqs.arithmetic\"'))"
   ]
  },
  {
   "cell_type": "markdown",
   "id": "48a50357",
   "metadata": {},
   "source": [
    "### `chemistry`"
   ]
  },
  {
   "cell_type": "code",
   "execution_count": null,
   "id": "ef5dd854",
   "metadata": {},
   "outputs": [],
   "source": [
    "show_bloq_report_card(report_card.query('package.str.startswith(\"qualtran.bloqs.chemistry\")'))"
   ]
  },
  {
   "cell_type": "markdown",
   "id": "705c426d",
   "metadata": {},
   "source": [
    "### `factoring`"
   ]
  },
  {
   "cell_type": "code",
   "execution_count": null,
   "id": "ab266ee0",
   "metadata": {},
   "outputs": [],
   "source": [
    "show_bloq_report_card(report_card.query('package == \"qualtran.bloqs.factoring\"'))"
   ]
  },
  {
   "cell_type": "markdown",
   "id": "99d8f052",
   "metadata": {},
   "source": [
    "### Other"
   ]
  },
  {
   "cell_type": "code",
   "execution_count": null,
   "id": "d154a421",
   "metadata": {},
   "outputs": [],
   "source": [
    "show_bloq_report_card(report_card.query('package not in '\n",
    "                                        '[\"qualtran.bloqs.basic_gates\",'\n",
    "                                        '\"qualtran.bloqs.arithmetic\",'\n",
    "                                        '\"qualtran.bloqs.factoring\"]')\n",
    "                                 .query('not package.str.startswith(\"qualtran.bloqs.chemistry\")'))"
   ]
  }
 ],
 "metadata": {
  "kernelspec": {
   "display_name": "Python 3 (ipykernel)",
   "language": "python",
   "name": "python3"
  },
  "language_info": {
   "codemirror_mode": {
    "name": "ipython",
    "version": 3
   },
   "file_extension": ".py",
   "mimetype": "text/x-python",
   "name": "python",
   "nbconvert_exporter": "python",
   "pygments_lexer": "ipython3",
   "version": "3.11.7"
  }
 },
 "nbformat": 4,
 "nbformat_minor": 5
}
