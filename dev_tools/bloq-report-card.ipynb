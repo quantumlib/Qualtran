{
 "cells": [
  {
   "cell_type": "markdown",
   "id": "9a9335f1",
   "metadata": {},
   "source": [
    "# Bloq Report Card"
   ]
  },
  {
   "cell_type": "code",
   "execution_count": null,
   "id": "21912264",
   "metadata": {},
   "outputs": [],
   "source": [
    "from qualtran_dev_tools.bloq_report_card import get_bloq_report_card, show_bloq_report_card"
   ]
  },
  {
   "cell_type": "markdown",
   "id": "27f47a4c",
   "metadata": {},
   "source": [
    "### All"
   ]
  },
  {
   "cell_type": "code",
   "execution_count": null,
   "id": "d154a421",
   "metadata": {},
   "outputs": [],
   "source": [
    "report_card = get_bloq_report_card()\n",
    "show_bloq_report_card(report_card)"
   ]
  },
  {
   "cell_type": "markdown",
   "id": "5fe6f252",
   "metadata": {},
   "source": [
    "### `basic_gates`"
   ]
  },
  {
   "cell_type": "code",
   "execution_count": null,
   "id": "ce0cc08b",
   "metadata": {
    "scrolled": false
   },
   "outputs": [],
   "source": [
    "show_bloq_report_card(report_card.query('package == \"qualtran.bloqs.basic_gates\"'))"
   ]
  }
 ],
 "metadata": {
  "kernelspec": {
   "display_name": "Python 3 (ipykernel)",
   "language": "python",
   "name": "python3"
  },
  "language_info": {
   "codemirror_mode": {
    "name": "ipython",
    "version": 3
   },
   "file_extension": ".py",
   "mimetype": "text/x-python",
   "name": "python",
   "nbconvert_exporter": "python",
   "pygments_lexer": "ipython3",
   "version": "3.10.9"
  }
 },
 "nbformat": 4,
 "nbformat_minor": 5
}
