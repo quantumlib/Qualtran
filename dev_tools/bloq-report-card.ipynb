{
 "cells": [
  {
   "cell_type": "markdown",
   "id": "9a9335f1",
   "metadata": {},
   "source": [
    "# Bloq Report Card"
   ]
  },
  {
   "cell_type": "code",
   "execution_count": null,
   "id": "21912264",
   "metadata": {},
   "outputs": [],
   "source": [
    "from qualtran_dev_tools.bloq_report_card import get_bloq_report_card, show_bloq_report_card, summarize_results\n",
    "report_card = get_bloq_report_card()"
   ]
  },
  {
   "cell_type": "markdown",
   "id": "27f47a4c",
   "metadata": {},
   "source": [
    "### All"
   ]
  },
  {
   "cell_type": "markdown",
   "id": "5fe6f252",
   "metadata": {},
   "source": [
    "### `basic_gates`"
   ]
  },
  {
   "cell_type": "code",
   "execution_count": null,
   "id": "ce0cc08b",
   "metadata": {},
   "outputs": [],
   "source": [
    "show_bloq_report_card(report_card.query('package == \"basic_gates\"'))"
   ]
  },
  {
   "cell_type": "code",
   "execution_count": null,
   "id": "f5ebb87f-8beb-467a-9e6c-ff228adaca2e",
   "metadata": {},
   "outputs": [],
   "source": [
    "summarize_results(report_card.query('package == \"basic_gates\"'))"
   ]
  },
  {
   "cell_type": "markdown",
   "id": "4d71e48d",
   "metadata": {},
   "source": [
    "### `arithmetic`"
   ]
  },
  {
   "cell_type": "code",
   "execution_count": null,
   "id": "916eb3bd",
   "metadata": {},
   "outputs": [],
   "source": [
    "show_bloq_report_card(report_card.query('package == \"arithmetic\"'))"
   ]
  },
  {
   "cell_type": "code",
   "execution_count": null,
   "id": "b6daf297-f587-44a6-8bfb-907e421f024d",
   "metadata": {},
   "outputs": [],
   "source": [
    "summarize_results(report_card.query('package == \"arithmetic\"'))"
   ]
  },
  {
   "cell_type": "markdown",
   "id": "48a50357",
   "metadata": {},
   "source": [
    "### `chemistry`"
   ]
  },
  {
   "cell_type": "code",
   "execution_count": null,
   "id": "ef5dd854",
   "metadata": {},
   "outputs": [],
   "source": [
    "show_bloq_report_card(report_card.query('package.str.startswith(\"chemistry\")'))"
   ]
  },
  {
   "cell_type": "code",
   "execution_count": null,
   "id": "e09d4aa9-a82a-4c80-b0aa-2548fd420eb9",
   "metadata": {},
   "outputs": [],
   "source": [
    "summarize_results(report_card.query('package.str.startswith(\"chemistry\")'))"
   ]
  },
  {
   "cell_type": "markdown",
   "id": "705c426d",
   "metadata": {},
   "source": [
    "### `factoring`"
   ]
  },
  {
   "cell_type": "code",
   "execution_count": null,
   "id": "ab266ee0",
   "metadata": {},
   "outputs": [],
   "source": [
    "show_bloq_report_card(report_card.query('package == \"factoring\"'))"
   ]
  },
  {
   "cell_type": "code",
   "execution_count": null,
   "id": "de77e155-b37d-469e-897f-12fd88dcc522",
   "metadata": {},
   "outputs": [],
   "source": [
    "summarize_results(report_card.query('package.str.startswith(\"factoring\")'))"
   ]
  },
  {
   "cell_type": "markdown",
   "id": "99d8f052",
   "metadata": {},
   "source": [
    "### Other"
   ]
  },
  {
   "cell_type": "code",
   "execution_count": null,
   "id": "d154a421",
   "metadata": {},
   "outputs": [],
   "source": [
    "show_bloq_report_card(report_card.query('package not in '\n",
    "                                        '[\"basic_gates\",'\n",
    "                                        ' \"arithmetic\", '\n",
    "                                        ' \"factoring\"]')\n",
    "                                 .query('not package.str.startswith(\"qualtran.bloqs.chemistry\")'))"
   ]
  },
  {
   "cell_type": "markdown",
   "id": "44c493af-695b-4887-b9cf-883e1446a4a4",
   "metadata": {},
   "source": [
    "### Summary of All"
   ]
  },
  {
   "cell_type": "code",
   "execution_count": null,
   "id": "eceb5187-555e-4438-809a-ac2b1b0de12d",
   "metadata": {},
   "outputs": [],
   "source": [
    "summarize_results(report_card)"
   ]
  }
 ],
 "metadata": {
  "kernelspec": {
   "display_name": "Python 3 (ipykernel)",
   "language": "python",
   "name": "python3"
  },
  "language_info": {
   "codemirror_mode": {
    "name": "ipython",
    "version": 3
   },
   "file_extension": ".py",
   "mimetype": "text/x-python",
   "name": "python",
   "nbconvert_exporter": "python",
   "pygments_lexer": "ipython3",
   "version": "3.11.7"
  }
 },
 "nbformat": 4,
 "nbformat_minor": 5
}
