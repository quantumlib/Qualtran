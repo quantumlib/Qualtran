{
 "cells": [
  {
   "cell_type": "markdown",
   "id": "8cad0714",
   "metadata": {},
   "source": [
    "# Tensor Simulation\n",
    "\n",
    "The tensor protocol lets you query the tensor (vector, matrix, etc.) representation of a bloq. For example, we can easily inspect the familiar unitary matrix representing the controlled-not operation:"
   ]
  },
  {
   "cell_type": "code",
   "execution_count": 1,
   "id": "26e14784",
   "metadata": {},
   "outputs": [
    {
     "data": {
      "text/plain": [
       "array([[1., 0., 0., 0.],\n",
       "       [0., 1., 0., 0.],\n",
       "       [0., 0., 0., 1.],\n",
       "       [0., 0., 1., 0.]])"
      ]
     },
     "execution_count": 1,
     "metadata": {},
     "output_type": "execute_result"
    }
   ],
   "source": [
    "from qualtran.bloqs.basic_gates import CNOT\n",
    "\n",
    "cnot = CNOT()\n",
    "cnot.tensor_contract().real"
   ]
  },
  {
   "cell_type": "markdown",
   "id": "5a2f84d3",
   "metadata": {},
   "source": [
    "Bloqs can represent states, effects, unitary operations, and compositions of these operations. Below, we see the vector representation of the plus state and zero effect."
   ]
  },
  {
   "cell_type": "code",
   "execution_count": 2,
   "id": "077910f6",
   "metadata": {},
   "outputs": [
    {
     "name": "stdout",
     "output_type": "stream",
     "text": [
      "|+> \t [0.70710678+0.j 0.70710678+0.j]\n",
      "<0| \t [1.+0.j 0.+0.j]\n"
     ]
    }
   ],
   "source": [
    "from qualtran.bloqs.basic_gates import PlusState, ZeroEffect\n",
    "\n",
    "print('|+> \\t', PlusState().tensor_contract())  # state\n",
    "print('<0| \\t', ZeroEffect().tensor_contract()) # effect"
   ]
  },
  {
   "cell_type": "markdown",
   "id": "6861ae75",
   "metadata": {},
   "source": [
    "We can also look at the non-unitary `And` operation which outputs its result to a new qubit. As such, it's shape is $(2^3, 2^2)$ instead of being a square matrix."
   ]
  },
  {
   "cell_type": "code",
   "execution_count": 3,
   "id": "d7a36b4f",
   "metadata": {},
   "outputs": [
    {
     "data": {
      "text/plain": [
       "(8, 4)"
      ]
     },
     "execution_count": 3,
     "metadata": {},
     "output_type": "execute_result"
    }
   ],
   "source": [
    "from qualtran.bloqs.mcmt import And\n",
    "\n",
    "And().tensor_contract().shape"
   ]
  },
  {
   "cell_type": "markdown",
   "id": "6f61b73c-50df-4ed3-aeab-f24e9ec2b3e5",
   "metadata": {},
   "source": [
    "For a bloq with exclusively thru-registers, the returned tensor will be a matrix with shape `(n, n)` where `n` is the number of bits in the signature. For a bloq with exlusively right- or left-registers, the returned tensor will be a vector with shape `(n,)`. In general, the tensor will be an ndarray of shape `(n_right_bits, n_left_bits)`; but empty dimensions are *dropped*."
   ]
  },
  {
   "cell_type": "markdown",
   "id": "912fb914",
   "metadata": {},
   "source": [
    "## Interface\n",
    "\n",
    "The main way of accessing the dense, contracted, tensor representation of a bloq or composite bloq is through the `Bloq.tensor_contract()` method as we've seen.\n",
    "\n",
    "All functionality for the tensor protocol is contained in the `qualtran.simulation.tensor` module. For example: `Bloq.tensor_contract()` is an alias for `bloq_to_dense(bloq: Bloq)` within that module. "
   ]
  },
  {
   "cell_type": "code",
   "execution_count": 4,
   "id": "f24e2248",
   "metadata": {},
   "outputs": [
    {
     "data": {
      "text/plain": [
       "True"
      ]
     },
     "execution_count": 4,
     "metadata": {},
     "output_type": "execute_result"
    }
   ],
   "source": [
    "import numpy as np\n",
    "from qualtran.simulation.tensor import bloq_to_dense\n",
    "\n",
    "np.array_equal(\n",
    "    cnot.tensor_contract(),\n",
    "    bloq_to_dense(cnot)\n",
    ")"
   ]
  },
  {
   "cell_type": "markdown",
   "id": "050e7f90",
   "metadata": {},
   "source": [
    "## Additional functionality\n",
    "\n",
    "### Direct manipulation of the `qtn.TensorNetwork`\n",
    "\n",
    "A composite bloq can be easily transformed into a tensor network. We use [Quimb](https://quimb.readthedocs.io/) to handle efficient contraction of such networks.\n",
    "\n",
    "The most important library function is `qualtran.simulation.tensor.cbloq_to_quimb`. This will build a quimb `qtn.TensorNetwork` tensor network representation of the composite bloq. You may want to manipulate this object directly using the full Quimb API. Otherwise, this function is used as the workhorse behind the public functions and methods like `Bloq.tensor_contract()`. \n",
    "\n",
    "As an example below, we decompose `MultiAnd` into a [`CompositeBloq`](/reference/qualtran/CompositeBloq.md) consisting of a ladder of two-bit `And`s."
   ]
  },
  {
   "cell_type": "code",
   "execution_count": 5,
   "id": "58a0a012",
   "metadata": {},
   "outputs": [
    {
     "data": {
      "image/svg+xml": [
       "<svg xmlns=\"http://www.w3.org/2000/svg\" xmlns:xlink=\"http://www.w3.org/1999/xlink\" width=\"395pt\" height=\"368pt\" viewBox=\"0.00 0.00 395.00 368.00\">\n",
       "<g id=\"graph0\" class=\"graph\" transform=\"scale(1 1) rotate(0) translate(4 364)\">\n",
       "<title>my_graph</title>\n",
       "<polygon fill=\"white\" stroke=\"transparent\" points=\"-4,4 -4,-364 391,-364 391,4 -4,4\"/>\n",
       "<!-- ctrl_G20 -->\n",
       "<g id=\"node1\" class=\"node\">\n",
       "<title>ctrl_G20</title>\n",
       "<text text-anchor=\"middle\" x=\"27\" y=\"-316.3\" font-family=\"Times,serif\" font-size=\"14.00\">ctrl[0]</text>\n",
       "</g>\n",
       "<!-- And_G3 -->\n",
       "<g id=\"node7\" class=\"node\">\n",
       "<title>And_G3</title>\n",
       "<polygon fill=\"none\" stroke=\"black\" points=\"91.5,-320 91.5,-337 134.5,-337 134.5,-320 91.5,-320\"/>\n",
       "<text text-anchor=\"start\" x=\"103.5\" y=\"-326\" font-family=\"Times,serif\" font-size=\"10.00\">And</text>\n",
       "<polygon fill=\"none\" stroke=\"black\" points=\"91.5,-299 91.5,-320 134.5,-320 134.5,-299 91.5,-299\"/>\n",
       "<text text-anchor=\"start\" x=\"96\" y=\"-305.8\" font-family=\"Times,serif\" font-size=\"14.00\">ctrl[0]</text>\n",
       "<polygon fill=\"none\" stroke=\"black\" points=\"91.5,-278 91.5,-299 134.5,-299 134.5,-278 91.5,-278\"/>\n",
       "<text text-anchor=\"start\" x=\"96\" y=\"-284.8\" font-family=\"Times,serif\" font-size=\"14.00\">ctrl[1]</text>\n",
       "<polygon fill=\"none\" stroke=\"black\" points=\"91.5,-257 91.5,-278 97.5,-278 97.5,-257 91.5,-257\"/>\n",
       "<polygon fill=\"none\" stroke=\"black\" points=\"97.5,-257 97.5,-278 134.5,-278 134.5,-257 97.5,-257\"/>\n",
       "<text text-anchor=\"start\" x=\"100.5\" y=\"-263.8\" font-family=\"Times,serif\" font-size=\"14.00\">target</text>\n",
       "</g>\n",
       "<!-- ctrl_G20&#45;&gt;And_G3 -->\n",
       "<g id=\"edge1\" class=\"edge\">\n",
       "<title>ctrl_G20:e-&gt;And_G3:w</title>\n",
       "<path fill=\"none\" stroke=\"black\" d=\"M54,-320C70.24,-320 73.66,-310.92 88.69,-310.06\"/>\n",
       "<ellipse fill=\"black\" stroke=\"black\" cx=\"90\" cy=\"-310.03\" rx=\"1\" ry=\"1\"/>\n",
       "<text text-anchor=\"middle\" x=\"72.5\" y=\"-318\" font-family=\"Times,serif\" font-size=\"10.00\">1</text>\n",
       "</g>\n",
       "<!-- ctrl_G18 -->\n",
       "<g id=\"node2\" class=\"node\">\n",
       "<title>ctrl_G18</title>\n",
       "<text text-anchor=\"middle\" x=\"27\" y=\"-262.3\" font-family=\"Times,serif\" font-size=\"14.00\">ctrl[1]</text>\n",
       "</g>\n",
       "<!-- ctrl_G18&#45;&gt;And_G3 -->\n",
       "<g id=\"edge2\" class=\"edge\">\n",
       "<title>ctrl_G18:e-&gt;And_G3:w</title>\n",
       "<path fill=\"none\" stroke=\"black\" d=\"M54,-266C72.38,-266 71.94,-286.31 88.85,-287.9\"/>\n",
       "<ellipse fill=\"black\" stroke=\"black\" cx=\"90\" cy=\"-287.95\" rx=\"1\" ry=\"1\"/>\n",
       "<text text-anchor=\"middle\" x=\"72.5\" y=\"-280\" font-family=\"Times,serif\" font-size=\"10.00\">1</text>\n",
       "</g>\n",
       "<!-- ctrl_G24 -->\n",
       "<g id=\"node3\" class=\"node\">\n",
       "<title>ctrl_G24</title>\n",
       "<text text-anchor=\"middle\" x=\"27\" y=\"-197.3\" font-family=\"Times,serif\" font-size=\"14.00\">ctrl[2]</text>\n",
       "</g>\n",
       "<!-- And -->\n",
       "<g id=\"node5\" class=\"node\">\n",
       "<title>And</title>\n",
       "<polygon fill=\"none\" stroke=\"black\" points=\"171.5,-233 171.5,-250 214.5,-250 214.5,-233 171.5,-233\"/>\n",
       "<text text-anchor=\"start\" x=\"183.5\" y=\"-239\" font-family=\"Times,serif\" font-size=\"10.00\">And</text>\n",
       "<polygon fill=\"none\" stroke=\"black\" points=\"171.5,-212 171.5,-233 214.5,-233 214.5,-212 171.5,-212\"/>\n",
       "<text text-anchor=\"start\" x=\"176\" y=\"-218.8\" font-family=\"Times,serif\" font-size=\"14.00\">ctrl[0]</text>\n",
       "<polygon fill=\"none\" stroke=\"black\" points=\"171.5,-191 171.5,-212 214.5,-212 214.5,-191 171.5,-191\"/>\n",
       "<text text-anchor=\"start\" x=\"176\" y=\"-197.8\" font-family=\"Times,serif\" font-size=\"14.00\">ctrl[1]</text>\n",
       "<polygon fill=\"none\" stroke=\"black\" points=\"171.5,-170 171.5,-191 177.5,-191 177.5,-170 171.5,-170\"/>\n",
       "<polygon fill=\"none\" stroke=\"black\" points=\"177.5,-170 177.5,-191 214.5,-191 214.5,-170 177.5,-170\"/>\n",
       "<text text-anchor=\"start\" x=\"180.5\" y=\"-176.8\" font-family=\"Times,serif\" font-size=\"14.00\">target</text>\n",
       "</g>\n",
       "<!-- ctrl_G24&#45;&gt;And -->\n",
       "<g id=\"edge4\" class=\"edge\">\n",
       "<title>ctrl_G24:e-&gt;And:w</title>\n",
       "<path fill=\"none\" stroke=\"black\" d=\"M54,-201C105.29,-201 118.64,-201 168.89,-201\"/>\n",
       "<ellipse fill=\"black\" stroke=\"black\" cx=\"170\" cy=\"-201\" rx=\"1\" ry=\"1\"/>\n",
       "<text text-anchor=\"middle\" x=\"112.5\" y=\"-204\" font-family=\"Times,serif\" font-size=\"10.00\">1</text>\n",
       "</g>\n",
       "<!-- ctrl_G8 -->\n",
       "<g id=\"node4\" class=\"node\">\n",
       "<title>ctrl_G8</title>\n",
       "<text text-anchor=\"middle\" x=\"27\" y=\"-80.3\" font-family=\"Times,serif\" font-size=\"14.00\">ctrl[3]</text>\n",
       "</g>\n",
       "<!-- And_G0 -->\n",
       "<g id=\"node6\" class=\"node\">\n",
       "<title>And_G0</title>\n",
       "<polygon fill=\"none\" stroke=\"black\" points=\"251.5,-116 251.5,-133 294.5,-133 294.5,-116 251.5,-116\"/>\n",
       "<text text-anchor=\"start\" x=\"263.5\" y=\"-122\" font-family=\"Times,serif\" font-size=\"10.00\">And</text>\n",
       "<polygon fill=\"none\" stroke=\"black\" points=\"251.5,-95 251.5,-116 294.5,-116 294.5,-95 251.5,-95\"/>\n",
       "<text text-anchor=\"start\" x=\"256\" y=\"-101.8\" font-family=\"Times,serif\" font-size=\"14.00\">ctrl[0]</text>\n",
       "<polygon fill=\"none\" stroke=\"black\" points=\"251.5,-74 251.5,-95 294.5,-95 294.5,-74 251.5,-74\"/>\n",
       "<text text-anchor=\"start\" x=\"256\" y=\"-80.8\" font-family=\"Times,serif\" font-size=\"14.00\">ctrl[1]</text>\n",
       "<polygon fill=\"none\" stroke=\"black\" points=\"251.5,-53 251.5,-74 257.5,-74 257.5,-53 251.5,-53\"/>\n",
       "<polygon fill=\"none\" stroke=\"black\" points=\"257.5,-53 257.5,-74 294.5,-74 294.5,-53 257.5,-53\"/>\n",
       "<text text-anchor=\"start\" x=\"260.5\" y=\"-59.8\" font-family=\"Times,serif\" font-size=\"14.00\">target</text>\n",
       "</g>\n",
       "<!-- ctrl_G8&#45;&gt;And_G0 -->\n",
       "<g id=\"edge6\" class=\"edge\">\n",
       "<title>ctrl_G8:e-&gt;And_G0:w</title>\n",
       "<path fill=\"none\" stroke=\"black\" d=\"M54,-84C140.87,-84 163.1,-84 248.96,-84\"/>\n",
       "<ellipse fill=\"black\" stroke=\"black\" cx=\"250\" cy=\"-84\" rx=\"1\" ry=\"1\"/>\n",
       "<text text-anchor=\"middle\" x=\"152.5\" y=\"-87\" font-family=\"Times,serif\" font-size=\"10.00\">1</text>\n",
       "</g>\n",
       "<!-- And&#45;&gt;And_G0 -->\n",
       "<g id=\"edge5\" class=\"edge\">\n",
       "<title>And:e-&gt;And_G0:w</title>\n",
       "<path fill=\"none\" stroke=\"black\" d=\"M214,-180C250.05,-180 215.63,-108.86 248.93,-106.08\"/>\n",
       "<ellipse fill=\"black\" stroke=\"black\" cx=\"250\" cy=\"-106.04\" rx=\"1\" ry=\"1\"/>\n",
       "<text text-anchor=\"middle\" x=\"232.5\" y=\"-162\" font-family=\"Times,serif\" font-size=\"10.00\">1</text>\n",
       "</g>\n",
       "<!-- ctrl_G14 -->\n",
       "<g id=\"node10\" class=\"node\">\n",
       "<title>ctrl_G14</title>\n",
       "<text text-anchor=\"middle\" x=\"359\" y=\"-176.3\" font-family=\"Times,serif\" font-size=\"14.00\">ctrl[2]</text>\n",
       "</g>\n",
       "<!-- And&#45;&gt;ctrl_G14 -->\n",
       "<g id=\"edge9\" class=\"edge\">\n",
       "<title>And:e-&gt;ctrl_G14:w</title>\n",
       "<path fill=\"none\" stroke=\"black\" d=\"M214,-201C266.11,-201 277.85,-180.57 328.86,-180.01\"/>\n",
       "<ellipse fill=\"black\" stroke=\"black\" cx=\"330\" cy=\"-180.01\" rx=\"1\" ry=\"1\"/>\n",
       "<text text-anchor=\"middle\" x=\"272.5\" y=\"-200\" font-family=\"Times,serif\" font-size=\"10.00\">1</text>\n",
       "</g>\n",
       "<!-- junk -->\n",
       "<g id=\"node12\" class=\"node\">\n",
       "<title>junk</title>\n",
       "<text text-anchor=\"middle\" x=\"359\" y=\"-230.3\" font-family=\"Times,serif\" font-size=\"14.00\">junk[0]</text>\n",
       "</g>\n",
       "<!-- And&#45;&gt;junk -->\n",
       "<g id=\"edge11\" class=\"edge\">\n",
       "<title>And:e-&gt;junk:w</title>\n",
       "<path fill=\"none\" stroke=\"black\" d=\"M214,-223C265.52,-223 278.42,-233.7 328.88,-233.99\"/>\n",
       "<ellipse fill=\"black\" stroke=\"black\" cx=\"330\" cy=\"-234\" rx=\"1\" ry=\"1\"/>\n",
       "<text text-anchor=\"middle\" x=\"272.5\" y=\"-234\" font-family=\"Times,serif\" font-size=\"10.00\">1</text>\n",
       "</g>\n",
       "<!-- ctrl_G22 -->\n",
       "<g id=\"node11\" class=\"node\">\n",
       "<title>ctrl_G22</title>\n",
       "<text text-anchor=\"middle\" x=\"359\" y=\"-68.3\" font-family=\"Times,serif\" font-size=\"14.00\">ctrl[3]</text>\n",
       "</g>\n",
       "<!-- And_G0&#45;&gt;ctrl_G22 -->\n",
       "<g id=\"edge10\" class=\"edge\">\n",
       "<title>And_G0:e-&gt;ctrl_G22:w</title>\n",
       "<path fill=\"none\" stroke=\"black\" d=\"M294,-84C310.48,-84 313.45,-73.1 328.66,-72.08\"/>\n",
       "<ellipse fill=\"black\" stroke=\"black\" cx=\"330\" cy=\"-72.03\" rx=\"1\" ry=\"1\"/>\n",
       "<text text-anchor=\"middle\" x=\"312.5\" y=\"-81\" font-family=\"Times,serif\" font-size=\"10.00\">1</text>\n",
       "</g>\n",
       "<!-- junk_G23 -->\n",
       "<g id=\"node13\" class=\"node\">\n",
       "<title>junk_G23</title>\n",
       "<text text-anchor=\"middle\" x=\"359\" y=\"-122.3\" font-family=\"Times,serif\" font-size=\"14.00\">junk[1]</text>\n",
       "</g>\n",
       "<!-- And_G0&#45;&gt;junk_G23 -->\n",
       "<g id=\"edge12\" class=\"edge\">\n",
       "<title>And_G0:e-&gt;junk_G23:w</title>\n",
       "<path fill=\"none\" stroke=\"black\" d=\"M294,-106C311.96,-106 312.31,-124.47 328.89,-125.91\"/>\n",
       "<ellipse fill=\"black\" stroke=\"black\" cx=\"330\" cy=\"-125.96\" rx=\"1\" ry=\"1\"/>\n",
       "<text text-anchor=\"middle\" x=\"312.5\" y=\"-119\" font-family=\"Times,serif\" font-size=\"10.00\">1</text>\n",
       "</g>\n",
       "<!-- target_G19 -->\n",
       "<g id=\"node14\" class=\"node\">\n",
       "<title>target_G19</title>\n",
       "<text text-anchor=\"middle\" x=\"359\" y=\"-14.3\" font-family=\"Times,serif\" font-size=\"14.00\">target</text>\n",
       "</g>\n",
       "<!-- And_G0&#45;&gt;target_G19 -->\n",
       "<g id=\"edge13\" class=\"edge\">\n",
       "<title>And_G0:e-&gt;target_G19:w</title>\n",
       "<path fill=\"none\" stroke=\"black\" d=\"M294,-63C319.18,-63 305.89,-20.43 328.97,-18.1\"/>\n",
       "<ellipse fill=\"black\" stroke=\"black\" cx=\"330\" cy=\"-18.05\" rx=\"1\" ry=\"1\"/>\n",
       "<text text-anchor=\"middle\" x=\"312.5\" y=\"-45\" font-family=\"Times,serif\" font-size=\"10.00\">1</text>\n",
       "</g>\n",
       "<!-- And_G3&#45;&gt;And -->\n",
       "<g id=\"edge3\" class=\"edge\">\n",
       "<title>And_G3:e-&gt;And:w</title>\n",
       "<path fill=\"none\" stroke=\"black\" d=\"M134,-267C158.85,-267 146.19,-225.37 168.99,-223.1\"/>\n",
       "<ellipse fill=\"black\" stroke=\"black\" cx=\"170\" cy=\"-223.05\" rx=\"1\" ry=\"1\"/>\n",
       "<text text-anchor=\"middle\" x=\"152.5\" y=\"-249\" font-family=\"Times,serif\" font-size=\"10.00\">1</text>\n",
       "</g>\n",
       "<!-- ctrl_G13 -->\n",
       "<g id=\"node8\" class=\"node\">\n",
       "<title>ctrl_G13</title>\n",
       "<text text-anchor=\"middle\" x=\"359\" y=\"-338.3\" font-family=\"Times,serif\" font-size=\"14.00\">ctrl[0]</text>\n",
       "</g>\n",
       "<!-- And_G3&#45;&gt;ctrl_G13 -->\n",
       "<g id=\"edge7\" class=\"edge\">\n",
       "<title>And_G3:e-&gt;ctrl_G13:w</title>\n",
       "<path fill=\"none\" stroke=\"black\" d=\"M134,-310C222.01,-310 241.99,-341.5 328.93,-341.99\"/>\n",
       "<ellipse fill=\"black\" stroke=\"black\" cx=\"330\" cy=\"-342\" rx=\"1\" ry=\"1\"/>\n",
       "<text text-anchor=\"middle\" x=\"232.5\" y=\"-329\" font-family=\"Times,serif\" font-size=\"10.00\">1</text>\n",
       "</g>\n",
       "<!-- ctrl_G11 -->\n",
       "<g id=\"node9\" class=\"node\">\n",
       "<title>ctrl_G11</title>\n",
       "<text text-anchor=\"middle\" x=\"359\" y=\"-284.3\" font-family=\"Times,serif\" font-size=\"14.00\">ctrl[1]</text>\n",
       "</g>\n",
       "<!-- And_G3&#45;&gt;ctrl_G11 -->\n",
       "<g id=\"edge8\" class=\"edge\">\n",
       "<title>And_G3:e-&gt;ctrl_G11:w</title>\n",
       "<path fill=\"none\" stroke=\"black\" d=\"M134,-288C220.87,-288 243.1,-288 328.96,-288\"/>\n",
       "<ellipse fill=\"black\" stroke=\"black\" cx=\"330\" cy=\"-288\" rx=\"1\" ry=\"1\"/>\n",
       "<text text-anchor=\"middle\" x=\"232.5\" y=\"-291\" font-family=\"Times,serif\" font-size=\"10.00\">1</text>\n",
       "</g>\n",
       "</g>\n",
       "</svg>"
      ],
      "text/plain": [
       "<IPython.core.display.SVG object>"
      ]
     },
     "metadata": {},
     "output_type": "display_data"
    }
   ],
   "source": [
    "from qualtran.bloqs.mcmt import MultiAnd\n",
    "from qualtran.drawing import show_bloq\n",
    "\n",
    "bloq = MultiAnd(cvs=(1,)*4)\n",
    "cbloq = bloq.decompose_bloq()\n",
    "show_bloq(cbloq)"
   ]
  },
  {
   "cell_type": "markdown",
   "id": "2dd02b3b",
   "metadata": {},
   "source": [
    "This composite bloq graph can be transformed into a quimb tensor network. Some of the visual flair has been lost, but the topology of the graph is the same."
   ]
  },
  {
   "cell_type": "code",
   "execution_count": 6,
   "id": "04cd38d8",
   "metadata": {},
   "outputs": [
    {
     "data": {
      "image/png": "[encoded data removed]",
      "text/plain": [
       "<Figure size 600x600 with 1 Axes>"
      ]
     },
     "metadata": {
      "needs_background": "light"
     },
     "output_type": "display_data"
    }
   ],
   "source": [
    "from qualtran.simulation.tensor import cbloq_to_quimb\n",
    "\n",
    "tn = cbloq_to_quimb(cbloq, friendly_indices=True)\n",
    "tn.draw()"
   ]
  },
  {
   "cell_type": "markdown",
   "id": "f18e1f2d",
   "metadata": {},
   "source": [
    "With this `qtn.TensorNetwork` in hand, the entire suite of Quimb tools are available."
   ]
  },
  {
   "cell_type": "code",
   "execution_count": 7,
   "id": "8365af84",
   "metadata": {},
   "outputs": [
    {
     "data": {
      "text/plain": [
       "  Complete contraction:  abcde,efghi,ijklm->abcdfghjklm\n",
       "         Naive scaling:  13\n",
       "     Optimized scaling:  12\n",
       "      Naive FLOP count:  2.458e+4\n",
       "  Optimized FLOP count:  9.216e+3\n",
       "   Theoretical speedup:  2.667e+0\n",
       "  Largest intermediate:  2.048e+3 elements\n",
       "--------------------------------------------------------------------------------\n",
       "scaling        BLAS                current                             remaining\n",
       "--------------------------------------------------------------------------------\n",
       "   9           GEMM  efghi,abcde->fghiabcd           ijklm,fghiabcd->abcdfghjklm\n",
       "  12           TDOT fghiabcd,ijklm->abcdfghjklm         abcdfghjklm->abcdfghjklm"
      ]
     },
     "execution_count": 7,
     "metadata": {},
     "output_type": "execute_result"
    }
   ],
   "source": [
    "tn.contraction_info()"
   ]
  },
  {
   "cell_type": "markdown",
   "id": "fc6c12e0-6c89-4f7b-8814-a9d5724e73d9",
   "metadata": {},
   "source": [
    "### Quimb index format\n",
    "\n",
    "Above, we used the `friendly_indices=True` argument to give string names to the outer indices of the `qtn.TensorNetwork`. This can be useful for interactive manipulation of the tensor network by a human. Qualtran uses a highly-structured (but less human-readible) format for internal tensor indices, which we describe here.\n",
    "\n",
    "In [`CompositeBloq`](/reference/qualtran/CompositeBloq.md), we form the compute graph by storing a list of nodes and edges. Quimb uses a different strategy for representing the tensor network graphs. To form a tensor network in Quimb, we provide a list of `qtn.Tensor` which contain not only the tensor data but also a list of \"indices\" that can form connections to other tensors. Similar to the Einstein summation convention, if two tensors each have an index with the same name: an edge is created in the tensor network graph and this shared index is summed over. In the Quimb documentation (for example), these indices are traditionally short strings like `\"k\"`, but can be any hashable Python object. In [`CompositeBloq`](/reference/qualtran/CompositeBloq.md), the unique object that identifies a connection between bloqs is `qualtran.Connection`, so we use these connection objects as the first part of our indices.\n",
    "\n",
    "Qualtran and Quimb both support \"wires\" with arbitrary bitsize. Qualtran uses bookkeeping bloqs like `Join` and `Split` to fuse and un-fuse indices. In theory, these operations should be free in the tensor contraction, as they are essentially an identity tensor. In our understanding, Quimb does not have special support for handling these re-shaping operations within the tensor network graph. In versions of Qualtran prior to v0.5, split and join operations were tensored up to `n`-sized identity tensors. This would form a bottleneck in any contraction ordering. Therefore, we keep all the indices un-fused in the tensor network representation and use tuples of `(cxn, j)` for our tensor indices, where the second integer `j` indexes the individual bits in a register with `reg.dtype.num_bits` > 1.\n",
    "\n",
    "**In summary:**\n",
    " - Each tensor index is a tuple `(cxn, j)`\n",
    " - The `cxn: qualtran.Connection` entry identifies the connection between soquets in a Qualtran compute graph.\n",
    " - The second integer `j` is the bit index within high-bitsize registers, which is necessary due to technical restrictions."
   ]
  },
  {
   "cell_type": "code",
   "execution_count": 8,
   "id": "e0831ffe-2845-4878-a80e-bbe4a533daf4",
   "metadata": {},
   "outputs": [
    {
     "name": "stdout",
     "output_type": "stream",
     "text": [
      "cxn: And<0>.target -> And<1>.ctrl[0]\n",
      "j:   0\n"
     ]
    }
   ],
   "source": [
    "example_inner_index = tn.inner_inds()[0]\n",
    "cxn, j = example_inner_index\n",
    "print(\"cxn:\", cxn)\n",
    "print(\"j:  \", j)"
   ]
  },
  {
   "cell_type": "markdown",
   "id": "05279b9b-b7db-4b4e-ad27-adfe2d88a4d7",
   "metadata": {},
   "source": [
    "### Flattening\n",
    "\n",
    "A call to `Bloq.tensor_contract` will first \"flatten\" the bloq by doing `bloq.as_composite_bloq().flatten()`. This is a sensible default default for constructing tensor networks, as the best contraction performance can generally be achieved by keeping tensors as small as possible in the network. \n",
    "\n",
    "In Qualtran, we usually avoid flattening bloqs and strongly to prefer to work with one level of decomposition at a time. This is to avoid performance issues with large, abstract algorithms. But typically if the full circuit is large enough to cause performance issues with flattening it is also too large to simulate numerically; so an exception to the general advice is made here.\n",
    "\n",
    "All bloqs in the flattened circuit must provide their explicit tensors. If your bloq's tensors ought to be derived from its decomposition: this is achieved by the previously mentioned flattening operation. If a bloq provides tensors through overriding `Bloq.my_tensors` _and also_ defines a decomposition, the explicit tensors will not be used (by default). If you'd like to always use annotated tensors, set `bloq_to_dense(..., full_flatten=False)`. If you would like full control over flattening, use the free functions to control the tensor network construction and contraction."
   ]
  },
  {
   "cell_type": "code",
   "execution_count": 9,
   "id": "def8e03b-6608-4cd3-8035-6755cf93d9cc",
   "metadata": {},
   "outputs": [],
   "source": [
    "# Set `full_flatten=False` to use annotated tensors even\n",
    "# if there's a decomposition. (No change in this example since\n",
    "# most bloqs don't define both a decomposition and tensors).\n",
    "_ = bloq_to_dense(bloq, full_flatten=False)"
   ]
  },
  {
   "cell_type": "code",
   "execution_count": 10,
   "id": "7d9983b2-e241-4cab-a518-fe2fa7a5ac92",
   "metadata": {},
   "outputs": [
    {
     "data": {
      "text/plain": [
       "3"
      ]
     },
     "execution_count": 10,
     "metadata": {},
     "output_type": "execute_result"
    }
   ],
   "source": [
    "# Manually flatten and contract for complete control\n",
    "custom_flat = bloq.as_composite_bloq().flatten(lambda binst: binst.i != 2)\n",
    "tn = cbloq_to_quimb(custom_flat)\n",
    "len(tn.tensors)"
   ]
  },
  {
   "cell_type": "markdown",
   "id": "85fb5d5f",
   "metadata": {},
   "source": [
    "## Implementation\n",
    "\n",
    "The `qualtran.simulation.tensor` functions rely on the `Bloq.my_tensors(...)` method to implement the protocol. This is where a bloq's tensor information is actually encoded.\n",
    "\n",
    "Usually, the most efficient way of supporting tensor simulation is by providing a decomposition for your bloq. However, bloq authors may want to override `my_tensors` if the bloq can't or shouldn't define a decomposition. The method takes dictionaries of incoming and outgoing indices (keyed by register name) to asist the author in matching up dimensions of their `np.ndarray` to the incoming and outgoing wires when constructing `qtn.Tensor`s.\n",
    "\n",
    "The docstring for `Bloq.my_tensors` provides a complete, technical description of how to successfully override this method. In brief, the method must return one or more `qtn.Tensor`s that get added to the tensor network. The indices used to construct these **must** be of the correct form. Each tensor index is a tuple `(cxn, j)`. The connection entry comes from the `incoming` and `outgoing` arguments to the method. The `j` integer is the bit index within multi-bit registers.\n",
    "\n",
    "New, we write our own `CNOT` bloq with custom tensors."
   ]
  },
  {
   "cell_type": "code",
   "execution_count": 11,
   "id": "0ff904cd",
   "metadata": {},
   "outputs": [],
   "source": [
    "from functools import cached_property\n",
    "from typing import Any, Dict, Tuple, List\n",
    "\n",
    "import numpy as np\n",
    "import quimb.tensor as qtn\n",
    "from attrs import frozen\n",
    "\n",
    "from qualtran import Bloq, Signature, Soquet, SoquetT, Register, Side\n",
    "\n",
    "@frozen\n",
    "class MyCNOT(Bloq):\n",
    "    @cached_property\n",
    "    def signature(self) -> 'Signature':\n",
    "        return Signature.build(ctrl=1, target=1)\n",
    "\n",
    "    def my_tensors(\n",
    "        self, incoming: Dict[str, 'ConnectionT'], outgoing: Dict[str, 'ConnectionT']\n",
    "    ) -> List['qtn.Tensor']:\n",
    "        # The familiar CNOT matrix. We make sure to\n",
    "        # cast this to np.complex128 so we don't accidentally\n",
    "        # lose precision anywhere else in the contraction.\n",
    "        matrix = np.array([\n",
    "            [1, 0, 0, 0],\n",
    "            [0, 1, 0, 0],\n",
    "            [0, 0, 0, 1],\n",
    "            [0, 0, 1, 0],\n",
    "        ], dtype=np.complex128)\n",
    "        \n",
    "        # According to our signature, we have two thru-registers.\n",
    "        # This means two incoming and two outgoing wires.\n",
    "        # We'll reshape our matrix into the more natural n-dimensional\n",
    "        # tensor form.\n",
    "        tensor = matrix.reshape((2,2,2,2))\n",
    "\n",
    "        # This is a simple case: we only need one tensor and\n",
    "        # each register is one bit.\n",
    "        outgoing_inds = [\n",
    "            (outgoing['ctrl'], 0),\n",
    "            (outgoing['target'], 0),\n",
    "        ]\n",
    "        incoming_inds = [\n",
    "            (incoming['ctrl'], 0),\n",
    "            (incoming['target'], 0),\n",
    "        ]\n",
    "        \n",
    "        return [qtn.Tensor(\n",
    "            data=tensor, \n",
    "            inds=outgoing_inds + incoming_inds\n",
    "        )]"
   ]
  },
  {
   "cell_type": "code",
   "execution_count": 12,
   "id": "aea735aa",
   "metadata": {},
   "outputs": [
    {
     "data": {
      "text/plain": [
       "array([[1.+0.j, 0.+0.j, 0.+0.j, 0.+0.j],\n",
       "       [0.+0.j, 1.+0.j, 0.+0.j, 0.+0.j],\n",
       "       [0.+0.j, 0.+0.j, 0.+0.j, 1.+0.j],\n",
       "       [0.+0.j, 0.+0.j, 1.+0.j, 0.+0.j]])"
      ]
     },
     "execution_count": 12,
     "metadata": {},
     "output_type": "execute_result"
    }
   ],
   "source": [
    "# Sanity check\n",
    "MyCNOT().tensor_contract()"
   ]
  },
  {
   "cell_type": "markdown",
   "id": "e30eec6e",
   "metadata": {},
   "source": [
    "## Default Fallback\n",
    "\n",
    "By default, the flattening operation in a given tensor contraction should mean that only a finite number of small, target-gateset bloqs\n",
    "should need to explicitly override `my_tensors()`. \n",
    "\n",
    "If a bloq does not override `my_tensors(...)` and doesn't provide a decomposition, the tensor protocol will throw an error when trying to construct a tensor network.\n",
    " \n",
    "For example, we author a `BellState` bloq. We define a decomposition but do not explicitly provide tensor information."
   ]
  },
  {
   "cell_type": "code",
   "execution_count": 13,
   "id": "5a58c7cc",
   "metadata": {},
   "outputs": [],
   "source": [
    "from qualtran import QBit\n",
    "from qualtran.bloqs.basic_gates import PlusState, ZeroState\n",
    "\n",
    "@frozen\n",
    "class BellState(Bloq):\n",
    "    @cached_property\n",
    "    def signature(self) -> 'Signature':\n",
    "        return Signature([\n",
    "            Register('q0', QBit(), side=Side.RIGHT),\n",
    "            Register('q1', QBit(), side=Side.RIGHT)\n",
    "        ])\n",
    "\n",
    "    def build_composite_bloq(self, bb):\n",
    "        q0 = bb.add(PlusState())\n",
    "        q1 = bb.add(ZeroState())\n",
    "\n",
    "        q0, q1 = bb.add(CNOT(), ctrl=q0, target=q1)\n",
    "        return {'q0': q0, 'q1': q1}"
   ]
  },
  {
   "cell_type": "markdown",
   "id": "d0eebfb4",
   "metadata": {},
   "source": [
    "The system can still contract the tensor network implied by this bloq because it will automatically flatten the bloq."
   ]
  },
  {
   "cell_type": "code",
   "execution_count": 14,
   "id": "7ef8f831",
   "metadata": {},
   "outputs": [
    {
     "name": "stdout",
     "output_type": "stream",
     "text": [
      "[0.70710678+0.j 0.        +0.j 0.        +0.j 0.70710678+0.j]\n"
     ]
    }
   ],
   "source": [
    "print(BellState().tensor_contract())"
   ]
  },
  {
   "cell_type": "markdown",
   "id": "ebbe9a2a",
   "metadata": {},
   "source": [
    "If you try to directly use `cbloq_to_quimb` and bypass the flattening operation, an error will be raised."
   ]
  },
  {
   "cell_type": "code",
   "execution_count": 15,
   "id": "aeb3096d-8745-49ec-8809-61bd6d17ae67",
   "metadata": {},
   "outputs": [
    {
     "name": "stdout",
     "output_type": "stream",
     "text": [
      "Expected error because we didn't flatten first: NotImplementedError('BellState does not support tensor simulation.')\n"
     ]
    }
   ],
   "source": [
    "try:\n",
    "    cbloq_to_quimb(BellState().as_composite_bloq())\n",
    "except NotImplementedError as e:\n",
    "    print(\"Expected error because we didn't flatten first:\", repr(e))"
   ]
  },
  {
   "cell_type": "markdown",
   "id": "7d2bb01f-819f-4c4c-b771-520b1f647d1d",
   "metadata": {},
   "source": [
    "## Properties and Relations"
   ]
  },
  {
   "cell_type": "markdown",
   "id": "eac56aea-8676-44d3-922b-4c88316cb77f",
   "metadata": {},
   "source": [
    "### Gates with factorized tensors\n",
    "\n",
    "The `my_tensors` method can return multiple `Tensor` objects if there is a known factorization of the bloq's tensors. For example: CNOT can be written as a dense 4x4 matrix or by contracting the so-called COPY and XOR tensors. "
   ]
  },
  {
   "cell_type": "code",
   "execution_count": 16,
   "id": "4c2e84c3-6197-41ab-a287-47a66be4c272",
   "metadata": {},
   "outputs": [
    {
     "data": {
      "image/png": "[encoded data removed]",
      "text/plain": [
       "<Figure size 600x600 with 1 Axes>"
      ]
     },
     "metadata": {
      "needs_background": "light"
     },
     "output_type": "display_data"
    },
    {
     "name": "stdout",
     "output_type": "stream",
     "text": [
      "oset(['COPY'])\n",
      "[[[1.+0.j 0.+0.j]\n",
      "  [0.+0.j 0.+0.j]]\n",
      "\n",
      " [[0.+0.j 0.+0.j]\n",
      "  [0.+0.j 1.+0.j]]]\n",
      "\n",
      "oset(['XOR'])\n",
      "[[[1.+0.j 0.+0.j]\n",
      "  [0.+0.j 1.+0.j]]\n",
      "\n",
      " [[0.+0.j 1.+0.j]\n",
      "  [1.+0.j 0.+0.j]]]\n",
      "\n"
     ]
    }
   ],
   "source": [
    "from qualtran.bloqs.basic_gates import CNOT\n",
    "from qualtran.simulation.tensor import cbloq_to_quimb\n",
    "\n",
    "cbloq = CNOT().as_composite_bloq()\n",
    "tn = cbloq_to_quimb(cbloq, friendly_indices=True)\n",
    "\n",
    "tn.draw(color=['COPY', 'XOR'], show_tags=True, initial_layout='spectral')\n",
    "for tensor in tn:\n",
    "    print(tensor.tags)\n",
    "    print(tensor.data)\n",
    "    print()"
   ]
  },
  {
   "cell_type": "markdown",
   "id": "d4ef3cdf-6edc-4f1a-900c-f0d73cd2cb26",
   "metadata": {},
   "source": [
    "### Final state vector from a circuit\n",
    "\n",
    "In Qualtran, all initial states must be explicitly specified with allocation-like bloqs. For example, if we define the circuit below, the `.tensor_contract` simulation method will only ever return a unitary matrix. If you'd like the state vector that results from applying that circuit to qubits initialized in a particular way (e.g. the all-zeros computational basis state), then you must specify that"
   ]
  },
  {
   "cell_type": "code",
   "execution_count": 17,
   "id": "28effa80-e699-4478-9779-d7d5fc93eb0e",
   "metadata": {},
   "outputs": [
    {
     "name": "stdout",
     "output_type": "stream",
     "text": [
      "[[ 0.71+0.j  0.  +0.j  0.71+0.j  0.  +0.j]\n",
      " [ 0.  +0.j  0.71+0.j  0.  +0.j  0.71+0.j]\n",
      " [ 0.  +0.j  0.71+0.j  0.  +0.j -0.71+0.j]\n",
      " [ 0.71+0.j  0.  +0.j -0.71+0.j  0.  +0.j]]\n"
     ]
    },
    {
     "data": {
      "image/png": "[encoded data removed]",
      "text/plain": [
       "<Figure size 400x200 with 1 Axes>"
      ]
     },
     "metadata": {},
     "output_type": "display_data"
    }
   ],
   "source": [
    "from qualtran import BloqBuilder\n",
    "from qualtran.bloqs.basic_gates import Hadamard\n",
    "\n",
    "bb = BloqBuilder()\n",
    "q1 = bb.add_register('q1', 1)\n",
    "q2 = bb.add_register('q2', 1)\n",
    "\n",
    "q1 = bb.add(Hadamard(), q=q1)\n",
    "q1, q2 = bb.add(CNOT(), ctrl=q1, target=q2)\n",
    "bell_circuit = bb.finalize(q1=q1, q2=q2)\n",
    "\n",
    "# This circuit always corresponds to a unitary *matrix*\n",
    "show_bloq(bell_circuit, 'musical_score')\n",
    "print(bell_circuit.tensor_contract().round(2))"
   ]
  },
  {
   "cell_type": "markdown",
   "id": "549cb96d-162e-4112-9e62-88a4aac73a5d",
   "metadata": {},
   "source": [
    "We can use the `initialize_from_zero` helper function to get the state vector corresponding to an all-zeros initial state."
   ]
  },
  {
   "cell_type": "code",
   "execution_count": 18,
   "id": "8cf3fbba-eccf-4f15-b9ff-9b3bfbb7e65c",
   "metadata": {},
   "outputs": [
    {
     "data": {
      "image/svg+xml": [
       "<svg xmlns=\"http://www.w3.org/2000/svg\" xmlns:xlink=\"http://www.w3.org/1999/xlink\" width=\"299pt\" height=\"109pt\" viewBox=\"0.00 0.00 299.00 109.00\">\n",
       "<g id=\"graph0\" class=\"graph\" transform=\"scale(1 1) rotate(0) translate(4 105)\">\n",
       "<title>my_graph</title>\n",
       "<polygon fill=\"white\" stroke=\"transparent\" points=\"-4,4 -4,-105 295,-105 295,4 -4,4\"/>\n",
       "<!-- IntState -->\n",
       "<g id=\"node1\" class=\"node\">\n",
       "<title>IntState</title>\n",
       "<polygon fill=\"none\" stroke=\"black\" points=\"0.5,-84 0.5,-101 29.5,-101 29.5,-84 0.5,-84\"/>\n",
       "<text text-anchor=\"start\" x=\"8\" y=\"-90\" font-family=\"Times,serif\" font-size=\"10.00\">|0&gt;</text>\n",
       "<polygon fill=\"none\" stroke=\"black\" points=\"0.5,-63 0.5,-84 6.5,-84 6.5,-63 0.5,-63\"/>\n",
       "<polygon fill=\"none\" stroke=\"black\" points=\"6.5,-63 6.5,-84 29.5,-84 29.5,-63 6.5,-63\"/>\n",
       "<text text-anchor=\"start\" x=\"9.5\" y=\"-69.8\" font-family=\"Times,serif\" font-size=\"14.00\">val</text>\n",
       "</g>\n",
       "<!-- CompositeBloq -->\n",
       "<g id=\"node3\" class=\"node\">\n",
       "<title>CompositeBloq</title>\n",
       "<polygon fill=\"none\" stroke=\"black\" points=\"66,-66 66,-83 200,-83 200,-66 66,-66\"/>\n",
       "<text text-anchor=\"start\" x=\"69\" y=\"-72\" font-family=\"Times,serif\" font-size=\"10.00\">CompositeBloq([2 subbloqs...])</text>\n",
       "<polygon fill=\"none\" stroke=\"black\" points=\"66,-45 66,-66 200,-66 200,-45 66,-45\"/>\n",
       "<text text-anchor=\"start\" x=\"126\" y=\"-51.8\" font-family=\"Times,serif\" font-size=\"14.00\">q1</text>\n",
       "<polygon fill=\"none\" stroke=\"black\" points=\"66,-24 66,-45 200,-45 200,-24 66,-24\"/>\n",
       "<text text-anchor=\"start\" x=\"126\" y=\"-30.8\" font-family=\"Times,serif\" font-size=\"14.00\">q2</text>\n",
       "</g>\n",
       "<!-- IntState&#45;&gt;CompositeBloq -->\n",
       "<g id=\"edge1\" class=\"edge\">\n",
       "<title>IntState:e-&gt;CompositeBloq:w</title>\n",
       "<path fill=\"none\" stroke=\"black\" d=\"M29,-73C46.39,-73 47.81,-57.3 63.96,-56.08\"/>\n",
       "<ellipse fill=\"black\" stroke=\"black\" cx=\"65\" cy=\"-56.04\" rx=\"1\" ry=\"1\"/>\n",
       "<text text-anchor=\"middle\" x=\"47.5\" y=\"-67\" font-family=\"Times,serif\" font-size=\"10.00\">1</text>\n",
       "</g>\n",
       "<!-- IntState_G0 -->\n",
       "<g id=\"node2\" class=\"node\">\n",
       "<title>IntState_G0</title>\n",
       "<polygon fill=\"none\" stroke=\"black\" points=\"0.5,-28 0.5,-45 29.5,-45 29.5,-28 0.5,-28\"/>\n",
       "<text text-anchor=\"start\" x=\"8\" y=\"-34\" font-family=\"Times,serif\" font-size=\"10.00\">|0&gt;</text>\n",
       "<polygon fill=\"none\" stroke=\"black\" points=\"0.5,-7 0.5,-28 6.5,-28 6.5,-7 0.5,-7\"/>\n",
       "<polygon fill=\"none\" stroke=\"black\" points=\"6.5,-7 6.5,-28 29.5,-28 29.5,-7 6.5,-7\"/>\n",
       "<text text-anchor=\"start\" x=\"9.5\" y=\"-13.8\" font-family=\"Times,serif\" font-size=\"14.00\">val</text>\n",
       "</g>\n",
       "<!-- IntState_G0&#45;&gt;CompositeBloq -->\n",
       "<g id=\"edge2\" class=\"edge\">\n",
       "<title>IntState_G0:e-&gt;CompositeBloq:w</title>\n",
       "<path fill=\"none\" stroke=\"black\" d=\"M29,-17C46.39,-17 47.81,-32.7 63.96,-33.92\"/>\n",
       "<ellipse fill=\"black\" stroke=\"black\" cx=\"65\" cy=\"-33.96\" rx=\"1\" ry=\"1\"/>\n",
       "<text text-anchor=\"middle\" x=\"47.5\" y=\"-29\" font-family=\"Times,serif\" font-size=\"10.00\">1</text>\n",
       "</g>\n",
       "<!-- q1_G2 -->\n",
       "<g id=\"node4\" class=\"node\">\n",
       "<title>q1_G2</title>\n",
       "<text text-anchor=\"middle\" x=\"264\" y=\"-68.3\" font-family=\"Times,serif\" font-size=\"14.00\">q1</text>\n",
       "</g>\n",
       "<!-- CompositeBloq&#45;&gt;q1_G2 -->\n",
       "<g id=\"edge3\" class=\"edge\">\n",
       "<title>CompositeBloq:e-&gt;q1_G2:w</title>\n",
       "<path fill=\"none\" stroke=\"black\" d=\"M200,-56C217.22,-56 218.97,-70.77 234.98,-71.93\"/>\n",
       "<ellipse fill=\"black\" stroke=\"black\" cx=\"236\" cy=\"-71.96\" rx=\"1\" ry=\"1\"/>\n",
       "<text text-anchor=\"middle\" x=\"218.5\" y=\"-67\" font-family=\"Times,serif\" font-size=\"10.00\">1</text>\n",
       "</g>\n",
       "<!-- q2_G6 -->\n",
       "<g id=\"node5\" class=\"node\">\n",
       "<title>q2_G6</title>\n",
       "<text text-anchor=\"middle\" x=\"264\" y=\"-14.3\" font-family=\"Times,serif\" font-size=\"14.00\">q2</text>\n",
       "</g>\n",
       "<!-- CompositeBloq&#45;&gt;q2_G6 -->\n",
       "<g id=\"edge4\" class=\"edge\">\n",
       "<title>CompositeBloq:e-&gt;q2_G6:w</title>\n",
       "<path fill=\"none\" stroke=\"black\" d=\"M200,-34C217.22,-34 218.97,-19.23 234.98,-18.07\"/>\n",
       "<ellipse fill=\"black\" stroke=\"black\" cx=\"236\" cy=\"-18.04\" rx=\"1\" ry=\"1\"/>\n",
       "<text text-anchor=\"middle\" x=\"218.5\" y=\"-29\" font-family=\"Times,serif\" font-size=\"10.00\">1</text>\n",
       "</g>\n",
       "</g>\n",
       "</svg>"
      ],
      "text/plain": [
       "<IPython.core.display.SVG object>"
      ]
     },
     "metadata": {},
     "output_type": "display_data"
    },
    {
     "name": "stdout",
     "output_type": "stream",
     "text": [
      "[0.71+0.j 0.  +0.j 0.  +0.j 0.71+0.j]\n"
     ]
    }
   ],
   "source": [
    "from qualtran.simulation.tensor import initialize_from_zero\n",
    "bell_state_cbloq = initialize_from_zero(bell_circuit)\n",
    "\n",
    "# The new composite bloq consists of a round of intialization and\n",
    "# then the circuit from above. Its tensor contraction is the state vector\n",
    "show_bloq(bell_state_cbloq)\n",
    "print(bell_state_cbloq.tensor_contract().round(2))"
   ]
  }
 ],
 "metadata": {
  "kernelspec": {
   "display_name": "Python 3 (ipykernel)",
   "language": "python",
   "name": "python3"
  },
  "language_info": {
   "codemirror_mode": {
    "name": "ipython",
    "version": 3
   },
   "file_extension": ".py",
   "mimetype": "text/x-python",
   "name": "python",
   "nbconvert_exporter": "python",
   "pygments_lexer": "ipython3",
   "version": "3.11.8"
  }
 },
 "nbformat": 4,
 "nbformat_minor": 5
}
