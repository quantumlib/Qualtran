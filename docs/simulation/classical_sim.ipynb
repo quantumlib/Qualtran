{
 "cells": [
  {
   "cell_type": "markdown",
   "id": "19c8aede",
   "metadata": {},
   "source": [
    "# Classical Simulation\n",
    "\n",
    "Many quantum information subroutines are reversible classical operations. The catch is that they are operated on superpositions of classical bitstrings. However, we can unit test these operations by checking against specific bitstrings through the `call_classically` bloqs protocol."
   ]
  },
  {
   "cell_type": "code",
   "execution_count": 1,
   "id": "e8d6c2a3-ed22-459d-9bcb-959ebf9a3e0c",
   "metadata": {},
   "outputs": [
    {
     "data": {
      "text/plain": [
       "(1, 1)"
      ]
     },
     "execution_count": 1,
     "metadata": {},
     "output_type": "execute_result"
    }
   ],
   "source": [
    "from qualtran.bloqs.basic_gates import CNOT\n",
    "\n",
    "cnot = CNOT()\n",
    "cnot.call_classically(ctrl=1, target=0)"
   ]
  },
  {
   "cell_type": "markdown",
   "id": "0b3cb890-627f-4095-8970-18a891fe1fa8",
   "metadata": {},
   "source": [
    "## Interface\n",
    "\n",
    "The primary way to simulate the classical action of a bloq is through the `Bloq.call_classically` method. This takes classical values for each left- or thru-register and returns a classical value for each right- or thru-register (in the order of the bloq's signature). \n",
    "\n",
    "The functionality for this method is contained in the `qualtran.simulation.classical_sim` module. "
   ]
  },
  {
   "cell_type": "code",
   "execution_count": 2,
   "id": "612eeda6-11d8-4ee1-ba12-85aefe6a1e29",
   "metadata": {},
   "outputs": [
    {
     "name": "stdout",
     "output_type": "stream",
     "text": [
      "00 -> 00\n",
      "01 -> 01\n",
      "10 -> 11\n",
      "11 -> 10\n"
     ]
    }
   ],
   "source": [
    "import itertools\n",
    "for c, t in itertools.product([0,1], repeat=2):\n",
    "    out_c, out_t = CNOT().call_classically(ctrl=c, target=t)\n",
    "    print(f'{c}{t} -> {out_c}{out_t}')"
   ]
  },
  {
   "cell_type": "markdown",
   "id": "1c9d1041-67ad-4c5b-b836-70766eb65ee7",
   "metadata": {},
   "source": [
    "## Additional Functionality"
   ]
  },
  {
   "cell_type": "markdown",
   "id": "4e020b40-2bf0-47f5-86b2-96d05ee3a4d4",
   "metadata": {},
   "source": [
    "### Consistent classical action\n",
    "\n",
    "The primary method of testing the classical action of a bloq is comparing the classical action from the bloq's decomposition with its directly annotated, reference action. For example: the `Add` is annotated with a method override that directly adds two numbers. This is the reference classical action for addition\n"
   ]
  },
  {
   "cell_type": "code",
   "execution_count": 3,
   "id": "7ecc2944-21cc-4127-9f2f-fd5814472963",
   "metadata": {},
   "outputs": [
    {
     "data": {
      "text/plain": [
       "(5, 12)"
      ]
     },
     "execution_count": 3,
     "metadata": {},
     "output_type": "execute_result"
    }
   ],
   "source": [
    "from qualtran import QUInt\n",
    "from qualtran.bloqs.arithmetic import Add\n",
    "\n",
    "add = Add(QUInt(8))\n",
    "add.call_classically(a=5, b=7)"
   ]
  },
  {
   "cell_type": "markdown",
   "id": "5eb82a5b-c43e-4872-a4b8-c0c5886bb547",
   "metadata": {},
   "source": [
    "The `Add` bloq also is annotated with a decomposition that we would like to validate. We can check various input/output pairs against the reference implementation to gain confidence that the decomposition is correct."
   ]
  },
  {
   "cell_type": "code",
   "execution_count": 4,
   "id": "96f02ca2-4a33-4fa2-864f-a07a6f94c909",
   "metadata": {},
   "outputs": [
    {
     "name": "stdout",
     "output_type": "stream",
     "text": [
      "✓✓✓✓✓✓✓✓✓✓"
     ]
    }
   ],
   "source": [
    "import numpy as np\n",
    "rs = np.random.RandomState(seed=52)\n",
    "\n",
    "add_cbloq = add.decompose_bloq()\n",
    "\n",
    "for _ in range(10):\n",
    "    a = rs.randint(256)\n",
    "    b = rs.randint(256)\n",
    "    ref_vals = add.call_classically(a=a, b=b)\n",
    "    decomp_vals = add_cbloq.call_classically(a=a, b=b)\n",
    "    assert ref_vals == decomp_vals\n",
    "    print('✓', end='')"
   ]
  },
  {
   "cell_type": "markdown",
   "id": "dd945628-d120-4dbe-b84f-721a668f555e",
   "metadata": {},
   "source": [
    "### `assert_consistent_classical_action`\n",
    "\n",
    "The idea above is encapsulated in an exhaustive testing function. You can use properties of the quantum data types involved to make the function quite general"
   ]
  },
  {
   "cell_type": "code",
   "execution_count": 5,
   "id": "8caab611-4bca-409a-98b2-147cf8b8db39",
   "metadata": {},
   "outputs": [
    {
     "name": "stdout",
     "output_type": "stream",
     "text": [
      "✓\n"
     ]
    }
   ],
   "source": [
    "import qualtran.testing as qlt_testing\n",
    "\n",
    "dtype = QUInt(2)\n",
    "qlt_testing.assert_consistent_classical_action(\n",
    "    bloq=Add(dtype), \n",
    "    a=dtype.get_classical_domain(),\n",
    "    b=dtype.get_classical_domain(),\n",
    ")\n",
    "print('✓')"
   ]
  },
  {
   "cell_type": "markdown",
   "id": "c47c770e-b2c6-40fa-b355-58866195311e",
   "metadata": {},
   "source": [
    "### Printing truth tables\n",
    "\n",
    "There are functions provided to quickly print the truth table of a bloq."
   ]
  },
  {
   "cell_type": "code",
   "execution_count": 6,
   "id": "e6f114c2-3a9d-40f4-83ae-f184b4b7ef02",
   "metadata": {},
   "outputs": [
    {
     "name": "stdout",
     "output_type": "stream",
     "text": [
      "a  b  |  a  b\n",
      "--------------\n",
      "0, 0 -> 0, 0\n",
      "0, 1 -> 0, 1\n",
      "0, 2 -> 0, 2\n",
      "0, 3 -> 0, 3\n",
      "1, 0 -> 1, 1\n",
      "1, 1 -> 1, 2\n",
      "1, 2 -> 1, 3\n",
      "1, 3 -> 1, 0\n",
      "2, 0 -> 2, 2\n",
      "2, 1 -> 2, 3\n",
      "2, 2 -> 2, 0\n",
      "2, 3 -> 2, 1\n",
      "3, 0 -> 3, 3\n",
      "3, 1 -> 3, 0\n",
      "3, 2 -> 3, 1\n",
      "3, 3 -> 3, 2\n"
     ]
    }
   ],
   "source": [
    "from qualtran.simulation.classical_sim import get_classical_truth_table, format_classical_truth_table\n",
    "from qualtran.bloqs.arithmetic import Add\n",
    "from qualtran import QUInt\n",
    "\n",
    "add = Add(QUInt(2))\n",
    "print(format_classical_truth_table(*get_classical_truth_table(add)))"
   ]
  },
  {
   "cell_type": "markdown",
   "id": "829aff81-c396-46a5-8918-c251fb10f38e",
   "metadata": {},
   "source": [
    "## Implementation\n",
    "\n",
    "The `qualtran.simulation.classical_sim` functions rely on `Bloq.on_classical_vals` overrides to implement the protocol. This method encodes a bloq's classical action.\n",
    "\n",
    "Bloq authors should aim to always provide a `on_classical_vals` override if the bloq implements a classical function. The override on high-level bloqs can serve as a reference implementation for testing decompositions, see above.\n",
    "\n",
    "A simple classical gate is the controlled not. This flips the target bit if `ctrl` is set. We'll implement `on_classical_vals` to encode this behavior"
   ]
  },
  {
   "cell_type": "code",
   "execution_count": 7,
   "id": "689149fc",
   "metadata": {},
   "outputs": [],
   "source": [
    "from typing import *\n",
    "\n",
    "import numpy as np\n",
    "from attrs import frozen\n",
    "from numpy.typing import NDArray\n",
    "\n",
    "from qualtran import Bloq, BloqBuilder, Register, Signature, Side\n",
    "from qualtran.drawing import show_bloq"
   ]
  },
  {
   "cell_type": "code",
   "execution_count": 8,
   "id": "3f251026",
   "metadata": {},
   "outputs": [],
   "source": [
    "@frozen\n",
    "class CNOTExample(Bloq):\n",
    "    @property\n",
    "    def signature(self) -> 'Signature':\n",
    "        return Signature.build(ctrl=1, target=1)\n",
    "\n",
    "    def on_classical_vals(\n",
    "        self, ctrl: NDArray[np.uint8], target: NDArray[np.uint8]\n",
    "    ) -> Dict[str, NDArray[np.uint8]]:\n",
    "        target_out = (ctrl + target) % 2\n",
    "        return {'ctrl': ctrl, 'target': target_out}"
   ]
  },
  {
   "cell_type": "markdown",
   "id": "62a974c9",
   "metadata": {},
   "source": [
    "We can call the Bloq on classical inputs by using `Bloq.call_classically()`. Below, we inspect the truth table."
   ]
  },
  {
   "cell_type": "code",
   "execution_count": 9,
   "id": "1c9d022e-6169-4f7b-b424-d27cd430f4c4",
   "metadata": {},
   "outputs": [
    {
     "name": "stdout",
     "output_type": "stream",
     "text": [
      "ctrl  target  |  ctrl  target\n",
      "------------------------------\n",
      "0, 0 -> 0, 0\n",
      "0, 1 -> 0, 1\n",
      "1, 0 -> 1, 1\n",
      "1, 1 -> 1, 0\n"
     ]
    }
   ],
   "source": [
    "my_cnot = CNOTExample()\n",
    "print(format_classical_truth_table(*get_classical_truth_table(my_cnot)))"
   ]
  },
  {
   "cell_type": "markdown",
   "id": "d685f136-6e5e-4d0c-83a1-e1c38ec2b498",
   "metadata": {},
   "source": [
    "## Properties and Relations"
   ]
  },
  {
   "cell_type": "markdown",
   "id": "5a9e2ec0",
   "metadata": {},
   "source": [
    "### Drawing\n",
    "\n",
    "We can draw the flow of classical values as well using `ClassicalSimGraphDrawer`"
   ]
  },
  {
   "cell_type": "code",
   "execution_count": 10,
   "id": "4653d4f9",
   "metadata": {},
   "outputs": [
    {
     "data": {
      "image/svg+xml": [
       "<svg xmlns=\"http://www.w3.org/2000/svg\" xmlns:xlink=\"http://www.w3.org/1999/xlink\" width=\"595pt\" height=\"215pt\" viewBox=\"0.00 0.00 595.00 215.00\">\n",
       "<g id=\"graph0\" class=\"graph\" transform=\"scale(1 1) rotate(0) translate(4 211)\">\n",
       "<title>my_graph</title>\n",
       "<polygon fill=\"white\" stroke=\"transparent\" points=\"-4,4 -4,-211 591,-211 591,4 -4,4\"/>\n",
       "<!-- a_G37 -->\n",
       "<g id=\"node1\" class=\"node\">\n",
       "<title>a_G37</title>\n",
       "<text text-anchor=\"middle\" x=\"27\" y=\"-172.3\" font-family=\"Times,serif\" font-size=\"14.00\">a</text>\n",
       "</g>\n",
       "<!-- Split_G8 -->\n",
       "<g id=\"node9\" class=\"node\">\n",
       "<title>Split_G8</title>\n",
       "<polygon fill=\"none\" stroke=\"black\" points=\"91,-182 91,-188 103,-188 103,-182 91,-182\"/>\n",
       "<polygon fill=\"none\" stroke=\"black\" points=\"91,-170 91,-182 97,-182 97,-170 91,-170\"/>\n",
       "<polygon fill=\"none\" stroke=\"black\" points=\"97,-176 97,-182 103,-182 103,-176 97,-176\"/>\n",
       "<polygon fill=\"none\" stroke=\"black\" points=\"97,-170 97,-176 103,-176 103,-170 97,-170\"/>\n",
       "</g>\n",
       "<!-- a_G37&#45;&gt;Split_G8 -->\n",
       "<g id=\"edge1\" class=\"edge\">\n",
       "<title>a_G37:e-&gt;Split_G8:w</title>\n",
       "<path fill=\"none\" stroke=\"black\" d=\"M54,-176C69.67,-176 74.14,-176 88.77,-176\"/>\n",
       "<ellipse fill=\"black\" stroke=\"black\" cx=\"90\" cy=\"-176\" rx=\"1\" ry=\"1\"/>\n",
       "<text text-anchor=\"middle\" x=\"72.5\" y=\"-179\" font-family=\"Times,serif\" font-size=\"10.00\" fill=\"darkblue\">3</text>\n",
       "</g>\n",
       "<!-- b -->\n",
       "<g id=\"node2\" class=\"node\">\n",
       "<title>b</title>\n",
       "<text text-anchor=\"middle\" x=\"27\" y=\"-73.3\" font-family=\"Times,serif\" font-size=\"14.00\">b</text>\n",
       "</g>\n",
       "<!-- Split -->\n",
       "<g id=\"node7\" class=\"node\">\n",
       "<title>Split</title>\n",
       "<polygon fill=\"none\" stroke=\"black\" points=\"91,-83 91,-89 103,-89 103,-83 91,-83\"/>\n",
       "<polygon fill=\"none\" stroke=\"black\" points=\"91,-71 91,-83 97,-83 97,-71 91,-71\"/>\n",
       "<polygon fill=\"none\" stroke=\"black\" points=\"97,-77 97,-83 103,-83 103,-77 97,-77\"/>\n",
       "<polygon fill=\"none\" stroke=\"black\" points=\"97,-71 97,-77 103,-77 103,-71 97,-71\"/>\n",
       "</g>\n",
       "<!-- b&#45;&gt;Split -->\n",
       "<g id=\"edge2\" class=\"edge\">\n",
       "<title>b:e-&gt;Split:w</title>\n",
       "<path fill=\"none\" stroke=\"black\" d=\"M54,-77C69.67,-77 74.14,-77 88.77,-77\"/>\n",
       "<ellipse fill=\"black\" stroke=\"black\" cx=\"90\" cy=\"-77\" rx=\"1\" ry=\"1\"/>\n",
       "<text text-anchor=\"middle\" x=\"72.5\" y=\"-80\" font-family=\"Times,serif\" font-size=\"10.00\" fill=\"darkblue\">2</text>\n",
       "</g>\n",
       "<!-- CNOT -->\n",
       "<g id=\"node3\" class=\"node\">\n",
       "<title>CNOT</title>\n",
       "<polygon fill=\"none\" stroke=\"black\" points=\"220.5,-69 220.5,-86 257.5,-86 257.5,-69 220.5,-69\"/>\n",
       "<text text-anchor=\"start\" x=\"225\" y=\"-75\" font-family=\"Times,serif\" font-size=\"10.00\">CNOT</text>\n",
       "<polygon fill=\"none\" stroke=\"black\" points=\"220.5,-48 220.5,-69 257.5,-69 257.5,-48 220.5,-48\"/>\n",
       "<text text-anchor=\"start\" x=\"229.5\" y=\"-54.8\" font-family=\"Times,serif\" font-size=\"14.00\">ctrl</text>\n",
       "<polygon fill=\"none\" stroke=\"black\" points=\"220.5,-27 220.5,-48 257.5,-48 257.5,-27 220.5,-27\"/>\n",
       "<text text-anchor=\"start\" x=\"223.5\" y=\"-33.8\" font-family=\"Times,serif\" font-size=\"14.00\">target</text>\n",
       "</g>\n",
       "<!-- CNOT_G5 -->\n",
       "<g id=\"node8\" class=\"node\">\n",
       "<title>CNOT_G5</title>\n",
       "<polygon fill=\"none\" stroke=\"black\" points=\"355.5,-76 355.5,-93 392.5,-93 392.5,-76 355.5,-76\"/>\n",
       "<text text-anchor=\"start\" x=\"360\" y=\"-82\" font-family=\"Times,serif\" font-size=\"10.00\">CNOT</text>\n",
       "<polygon fill=\"none\" stroke=\"black\" points=\"355.5,-55 355.5,-76 392.5,-76 392.5,-55 355.5,-55\"/>\n",
       "<text text-anchor=\"start\" x=\"364.5\" y=\"-61.8\" font-family=\"Times,serif\" font-size=\"14.00\">ctrl</text>\n",
       "<polygon fill=\"none\" stroke=\"black\" points=\"355.5,-34 355.5,-55 392.5,-55 392.5,-34 355.5,-34\"/>\n",
       "<text text-anchor=\"start\" x=\"358.5\" y=\"-40.8\" font-family=\"Times,serif\" font-size=\"14.00\">target</text>\n",
       "</g>\n",
       "<!-- CNOT&#45;&gt;CNOT_G5 -->\n",
       "<g id=\"edge8\" class=\"edge\">\n",
       "<title>CNOT:e-&gt;CNOT_G5:w</title>\n",
       "<path fill=\"none\" stroke=\"black\" d=\"M257,-37C299.98,-37 310.99,-43.78 352.98,-43.99\"/>\n",
       "<ellipse fill=\"black\" stroke=\"black\" cx=\"354\" cy=\"-44\" rx=\"1\" ry=\"1\"/>\n",
       "<text text-anchor=\"middle\" x=\"275.5\" y=\"-41\" font-family=\"Times,serif\" font-size=\"10.00\" fill=\"darkblue\">1</text>\n",
       "</g>\n",
       "<!-- And_G10 -->\n",
       "<g id=\"node10\" class=\"node\">\n",
       "<title>And_G10</title>\n",
       "<polygon fill=\"none\" stroke=\"black\" points=\"294.5,-151 294.5,-168 337.5,-168 337.5,-151 294.5,-151\"/>\n",
       "<text text-anchor=\"start\" x=\"304\" y=\"-157\" font-family=\"Times,serif\" font-size=\"10.00\">And†</text>\n",
       "<polygon fill=\"none\" stroke=\"black\" points=\"294.5,-130 294.5,-151 337.5,-151 337.5,-130 294.5,-130\"/>\n",
       "<text text-anchor=\"start\" x=\"299\" y=\"-136.8\" font-family=\"Times,serif\" font-size=\"14.00\">ctrl[0]</text>\n",
       "<polygon fill=\"none\" stroke=\"black\" points=\"294.5,-109 294.5,-130 337.5,-130 337.5,-109 294.5,-109\"/>\n",
       "<text text-anchor=\"start\" x=\"299\" y=\"-115.8\" font-family=\"Times,serif\" font-size=\"14.00\">ctrl[1]</text>\n",
       "<polygon fill=\"none\" stroke=\"black\" points=\"294.5,-88 294.5,-109 331.5,-109 331.5,-88 294.5,-88\"/>\n",
       "<text text-anchor=\"start\" x=\"297.5\" y=\"-94.8\" font-family=\"Times,serif\" font-size=\"14.00\">target</text>\n",
       "<polygon fill=\"none\" stroke=\"black\" points=\"331.5,-88 331.5,-109 337.5,-109 337.5,-88 331.5,-88\"/>\n",
       "</g>\n",
       "<!-- CNOT&#45;&gt;And_G10 -->\n",
       "<g id=\"edge11\" class=\"edge\">\n",
       "<title>CNOT:e-&gt;And_G10:w</title>\n",
       "<path fill=\"none\" stroke=\"black\" d=\"M257,-59C280.15,-59 270.75,-95.6 291.86,-97.89\"/>\n",
       "<ellipse fill=\"black\" stroke=\"black\" cx=\"293\" cy=\"-97.95\" rx=\"1\" ry=\"1\"/>\n",
       "<text text-anchor=\"middle\" x=\"275.5\" y=\"-83\" font-family=\"Times,serif\" font-size=\"10.00\" fill=\"darkblue\">0</text>\n",
       "</g>\n",
       "<!-- Join -->\n",
       "<g id=\"node4\" class=\"node\">\n",
       "<title>Join</title>\n",
       "<polygon fill=\"none\" stroke=\"black\" points=\"484,-24 484,-30 496,-30 496,-24 484,-24\"/>\n",
       "<polygon fill=\"none\" stroke=\"black\" points=\"484,-18 484,-24 490,-24 490,-18 484,-18\"/>\n",
       "<polygon fill=\"none\" stroke=\"black\" points=\"490,-12 490,-24 496,-24 496,-12 490,-12\"/>\n",
       "<polygon fill=\"none\" stroke=\"black\" points=\"484,-12 484,-18 490,-18 490,-12 484,-12\"/>\n",
       "</g>\n",
       "<!-- b_G40 -->\n",
       "<g id=\"node13\" class=\"node\">\n",
       "<title>b_G40</title>\n",
       "<text text-anchor=\"middle\" x=\"560\" y=\"-14.3\" font-family=\"Times,serif\" font-size=\"14.00\">b</text>\n",
       "</g>\n",
       "<!-- Join&#45;&gt;b_G40 -->\n",
       "<g id=\"edge19\" class=\"edge\">\n",
       "<title>Join:e-&gt;b_G40:w</title>\n",
       "<path fill=\"none\" stroke=\"black\" d=\"M496,-18C511.67,-18 516.14,-18 530.77,-18\"/>\n",
       "<ellipse fill=\"black\" stroke=\"black\" cx=\"532\" cy=\"-18\" rx=\"1\" ry=\"1\"/>\n",
       "<text text-anchor=\"middle\" x=\"514.5\" y=\"-21\" font-family=\"Times,serif\" font-size=\"10.00\" fill=\"darkblue\">1</text>\n",
       "</g>\n",
       "<!-- And -->\n",
       "<g id=\"node5\" class=\"node\">\n",
       "<title>And</title>\n",
       "<polygon fill=\"none\" stroke=\"black\" points=\"140.5,-151 140.5,-168 183.5,-168 183.5,-151 140.5,-151\"/>\n",
       "<text text-anchor=\"start\" x=\"152.5\" y=\"-157\" font-family=\"Times,serif\" font-size=\"10.00\">And</text>\n",
       "<polygon fill=\"none\" stroke=\"black\" points=\"140.5,-130 140.5,-151 183.5,-151 183.5,-130 140.5,-130\"/>\n",
       "<text text-anchor=\"start\" x=\"145\" y=\"-136.8\" font-family=\"Times,serif\" font-size=\"14.00\">ctrl[0]</text>\n",
       "<polygon fill=\"none\" stroke=\"black\" points=\"140.5,-109 140.5,-130 183.5,-130 183.5,-109 140.5,-109\"/>\n",
       "<text text-anchor=\"start\" x=\"145\" y=\"-115.8\" font-family=\"Times,serif\" font-size=\"14.00\">ctrl[1]</text>\n",
       "<polygon fill=\"none\" stroke=\"black\" points=\"140.5,-88 140.5,-109 146.5,-109 146.5,-88 140.5,-88\"/>\n",
       "<polygon fill=\"none\" stroke=\"black\" points=\"146.5,-88 146.5,-109 183.5,-109 183.5,-88 146.5,-88\"/>\n",
       "<text text-anchor=\"start\" x=\"149.5\" y=\"-94.8\" font-family=\"Times,serif\" font-size=\"14.00\">target</text>\n",
       "</g>\n",
       "<!-- And&#45;&gt;CNOT -->\n",
       "<g id=\"edge5\" class=\"edge\">\n",
       "<title>And:e-&gt;CNOT:w</title>\n",
       "<path fill=\"none\" stroke=\"black\" d=\"M183,-98C206.15,-98 196.75,-61.4 217.86,-59.11\"/>\n",
       "<ellipse fill=\"black\" stroke=\"black\" cx=\"219\" cy=\"-59.05\" rx=\"1\" ry=\"1\"/>\n",
       "<text text-anchor=\"middle\" x=\"201.5\" y=\"-83\" font-family=\"Times,serif\" font-size=\"10.00\" fill=\"darkblue\">0</text>\n",
       "</g>\n",
       "<!-- And&#45;&gt;And_G10 -->\n",
       "<g id=\"edge9\" class=\"edge\">\n",
       "<title>And:e-&gt;And_G10:w</title>\n",
       "<path fill=\"none\" stroke=\"black\" d=\"M183,-141C231.66,-141 244.32,-141 292,-141\"/>\n",
       "<ellipse fill=\"black\" stroke=\"black\" cx=\"293\" cy=\"-141\" rx=\"1\" ry=\"1\"/>\n",
       "<text text-anchor=\"middle\" x=\"238.5\" y=\"-144\" font-family=\"Times,serif\" font-size=\"10.00\" fill=\"darkblue\">1</text>\n",
       "</g>\n",
       "<!-- And&#45;&gt;And_G10 -->\n",
       "<g id=\"edge10\" class=\"edge\">\n",
       "<title>And:e-&gt;And_G10:w</title>\n",
       "<path fill=\"none\" stroke=\"black\" d=\"M183,-119C231.66,-119 244.32,-119 292,-119\"/>\n",
       "<ellipse fill=\"black\" stroke=\"black\" cx=\"293\" cy=\"-119\" rx=\"1\" ry=\"1\"/>\n",
       "<text text-anchor=\"middle\" x=\"238.5\" y=\"-122\" font-family=\"Times,serif\" font-size=\"10.00\" fill=\"darkblue\">0</text>\n",
       "</g>\n",
       "<!-- Join_G2 -->\n",
       "<g id=\"node6\" class=\"node\">\n",
       "<title>Join_G2</title>\n",
       "<polygon fill=\"none\" stroke=\"black\" points=\"484,-88 484,-94 496,-94 496,-88 484,-88\"/>\n",
       "<polygon fill=\"none\" stroke=\"black\" points=\"484,-82 484,-88 490,-88 490,-82 484,-82\"/>\n",
       "<polygon fill=\"none\" stroke=\"black\" points=\"490,-76 490,-88 496,-88 496,-76 490,-76\"/>\n",
       "<polygon fill=\"none\" stroke=\"black\" points=\"484,-76 484,-82 490,-82 490,-76 484,-76\"/>\n",
       "</g>\n",
       "<!-- a -->\n",
       "<g id=\"node12\" class=\"node\">\n",
       "<title>a</title>\n",
       "<text text-anchor=\"middle\" x=\"560\" y=\"-78.3\" font-family=\"Times,serif\" font-size=\"14.00\">a</text>\n",
       "</g>\n",
       "<!-- Join_G2&#45;&gt;a -->\n",
       "<g id=\"edge18\" class=\"edge\">\n",
       "<title>Join_G2:e-&gt;a:w</title>\n",
       "<path fill=\"none\" stroke=\"black\" d=\"M496,-82C511.67,-82 516.14,-82 530.77,-82\"/>\n",
       "<ellipse fill=\"black\" stroke=\"black\" cx=\"532\" cy=\"-82\" rx=\"1\" ry=\"1\"/>\n",
       "<text text-anchor=\"middle\" x=\"514.5\" y=\"-85\" font-family=\"Times,serif\" font-size=\"10.00\" fill=\"darkblue\">3</text>\n",
       "</g>\n",
       "<!-- Split&#45;&gt;CNOT -->\n",
       "<g id=\"edge6\" class=\"edge\">\n",
       "<title>Split:e-&gt;CNOT:w</title>\n",
       "<path fill=\"none\" stroke=\"black\" d=\"M103,-80C157.64,-80 164.42,-38.17 217.76,-37.02\"/>\n",
       "<ellipse fill=\"black\" stroke=\"black\" cx=\"219\" cy=\"-37.01\" rx=\"1\" ry=\"1\"/>\n",
       "<text text-anchor=\"middle\" x=\"161.5\" y=\"-75\" font-family=\"Times,serif\" font-size=\"10.00\" fill=\"darkblue\">1</text>\n",
       "</g>\n",
       "<!-- Split&#45;&gt;And -->\n",
       "<g id=\"edge4\" class=\"edge\">\n",
       "<title>Split:e-&gt;And:w</title>\n",
       "<path fill=\"none\" stroke=\"black\" d=\"M103,-74C128.18,-74 114.89,-116.57 137.97,-118.9\"/>\n",
       "<ellipse fill=\"black\" stroke=\"black\" cx=\"139\" cy=\"-118.95\" rx=\"1\" ry=\"1\"/>\n",
       "<text text-anchor=\"middle\" x=\"121.5\" y=\"-101\" font-family=\"Times,serif\" font-size=\"10.00\" fill=\"darkblue\">0</text>\n",
       "</g>\n",
       "<!-- CNOT_G5&#45;&gt;Join -->\n",
       "<g id=\"edge16\" class=\"edge\">\n",
       "<title>CNOT_G5:e-&gt;Join:w</title>\n",
       "<path fill=\"none\" stroke=\"black\" d=\"M392,-44C433.32,-44 441.54,-21.89 481.57,-21.03\"/>\n",
       "<ellipse fill=\"black\" stroke=\"black\" cx=\"483\" cy=\"-21.01\" rx=\"1\" ry=\"1\"/>\n",
       "<text text-anchor=\"middle\" x=\"428.5\" y=\"-46\" font-family=\"Times,serif\" font-size=\"10.00\" fill=\"darkblue\">0</text>\n",
       "</g>\n",
       "<!-- CNOT_G5&#45;&gt;Join_G2 -->\n",
       "<g id=\"edge14\" class=\"edge\">\n",
       "<title>CNOT_G5:e-&gt;Join_G2:w</title>\n",
       "<path fill=\"none\" stroke=\"black\" d=\"M392,-66C432.94,-66 441.9,-84.27 481.59,-84.98\"/>\n",
       "<ellipse fill=\"black\" stroke=\"black\" cx=\"483\" cy=\"-84.99\" rx=\"1\" ry=\"1\"/>\n",
       "<text text-anchor=\"middle\" x=\"428.5\" y=\"-82\" font-family=\"Times,serif\" font-size=\"10.00\" fill=\"darkblue\">1</text>\n",
       "</g>\n",
       "<!-- Split_G8&#45;&gt;And -->\n",
       "<g id=\"edge3\" class=\"edge\">\n",
       "<title>Split_G8:e-&gt;And:w</title>\n",
       "<path fill=\"none\" stroke=\"black\" d=\"M103,-173C123.89,-173 118.72,-143.45 137.58,-141.14\"/>\n",
       "<ellipse fill=\"black\" stroke=\"black\" cx=\"139\" cy=\"-141.06\" rx=\"1\" ry=\"1\"/>\n",
       "<text text-anchor=\"middle\" x=\"121.5\" y=\"-160\" font-family=\"Times,serif\" font-size=\"10.00\" fill=\"darkblue\">1</text>\n",
       "</g>\n",
       "<!-- Split_G8&#45;&gt;CNOT_G5 -->\n",
       "<g id=\"edge7\" class=\"edge\">\n",
       "<title>Split_G8:e-&gt;CNOT_G5:w</title>\n",
       "<path fill=\"none\" stroke=\"black\" d=\"M103,-179C129.65,-179 133.85,-196 160.5,-196 160.5,-196 160.5,-196 276,-196 304.4,-196 318.39,-198.45 337,-177 352.87,-158.72 331.43,-71.69 352.8,-66.26\"/>\n",
       "<ellipse fill=\"black\" stroke=\"black\" cx=\"354.01\" cy=\"-66.12\" rx=\"1\" ry=\"1\"/>\n",
       "<text text-anchor=\"middle\" x=\"201.5\" y=\"-199\" font-family=\"Times,serif\" font-size=\"10.00\" fill=\"darkblue\">1</text>\n",
       "</g>\n",
       "<!-- CNOT_G13 -->\n",
       "<g id=\"node11\" class=\"node\">\n",
       "<title>CNOT_G13</title>\n",
       "<polygon fill=\"none\" stroke=\"black\" points=\"410.5,-151 410.5,-168 447.5,-168 447.5,-151 410.5,-151\"/>\n",
       "<text text-anchor=\"start\" x=\"415\" y=\"-157\" font-family=\"Times,serif\" font-size=\"10.00\">CNOT</text>\n",
       "<polygon fill=\"none\" stroke=\"black\" points=\"410.5,-130 410.5,-151 447.5,-151 447.5,-130 410.5,-130\"/>\n",
       "<text text-anchor=\"start\" x=\"419.5\" y=\"-136.8\" font-family=\"Times,serif\" font-size=\"14.00\">ctrl</text>\n",
       "<polygon fill=\"none\" stroke=\"black\" points=\"410.5,-109 410.5,-130 447.5,-130 447.5,-109 410.5,-109\"/>\n",
       "<text text-anchor=\"start\" x=\"413.5\" y=\"-115.8\" font-family=\"Times,serif\" font-size=\"14.00\">target</text>\n",
       "</g>\n",
       "<!-- And_G10&#45;&gt;CNOT_G13 -->\n",
       "<g id=\"edge12\" class=\"edge\">\n",
       "<title>And_G10:e-&gt;CNOT_G13:w</title>\n",
       "<path fill=\"none\" stroke=\"black\" d=\"M337,-141C368.68,-141 377.16,-141 407.76,-141\"/>\n",
       "<ellipse fill=\"black\" stroke=\"black\" cx=\"409\" cy=\"-141\" rx=\"1\" ry=\"1\"/>\n",
       "<text text-anchor=\"middle\" x=\"373.5\" y=\"-144\" font-family=\"Times,serif\" font-size=\"10.00\" fill=\"darkblue\">1</text>\n",
       "</g>\n",
       "<!-- And_G10&#45;&gt;CNOT_G13 -->\n",
       "<g id=\"edge13\" class=\"edge\">\n",
       "<title>And_G10:e-&gt;CNOT_G13:w</title>\n",
       "<path fill=\"none\" stroke=\"black\" d=\"M337,-119C368.68,-119 377.16,-119 407.76,-119\"/>\n",
       "<ellipse fill=\"black\" stroke=\"black\" cx=\"409\" cy=\"-119\" rx=\"1\" ry=\"1\"/>\n",
       "<text text-anchor=\"middle\" x=\"373.5\" y=\"-122\" font-family=\"Times,serif\" font-size=\"10.00\" fill=\"darkblue\">0</text>\n",
       "</g>\n",
       "<!-- CNOT_G13&#45;&gt;Join -->\n",
       "<g id=\"edge17\" class=\"edge\">\n",
       "<title>CNOT_G13:e-&gt;Join:w</title>\n",
       "<path fill=\"none\" stroke=\"black\" d=\"M447,-119C470.76,-119 460.19,-21.4 481.81,-15.3\"/>\n",
       "<ellipse fill=\"black\" stroke=\"black\" cx=\"483.01\" cy=\"-15.13\" rx=\"1\" ry=\"1\"/>\n",
       "<text text-anchor=\"middle\" x=\"465.5\" y=\"-74\" font-family=\"Times,serif\" font-size=\"10.00\" fill=\"darkblue\">1</text>\n",
       "</g>\n",
       "<!-- CNOT_G13&#45;&gt;Join_G2 -->\n",
       "<g id=\"edge15\" class=\"edge\">\n",
       "<title>CNOT_G13:e-&gt;Join_G2:w</title>\n",
       "<path fill=\"none\" stroke=\"black\" d=\"M447,-141C478.34,-141 453.15,-81.87 481.84,-79.1\"/>\n",
       "<ellipse fill=\"black\" stroke=\"black\" cx=\"483\" cy=\"-79.05\" rx=\"1\" ry=\"1\"/>\n",
       "<text text-anchor=\"middle\" x=\"465.5\" y=\"-118\" font-family=\"Times,serif\" font-size=\"10.00\" fill=\"darkblue\">1</text>\n",
       "</g>\n",
       "</g>\n",
       "</svg>"
      ],
      "text/plain": [
       "<IPython.core.display.SVG object>"
      ]
     },
     "execution_count": 10,
     "metadata": {},
     "output_type": "execute_result"
    }
   ],
   "source": [
    "from qualtran.drawing import ClassicalSimGraphDrawer\n",
    "\n",
    "drawer = ClassicalSimGraphDrawer(Add(QUInt(2)).decompose_bloq(), vals=dict(a=3, b=2))\n",
    "drawer.get_svg()"
   ]
  },
  {
   "cell_type": "markdown",
   "id": "ef352653-4b7e-4735-b8af-b78de0320426",
   "metadata": {},
   "source": [
    "### Quantum Data Types\n",
    "\n",
    "To convert back and forth between classical values and bitstrings, we use the `QDType.to_bits` and `QDType.from_bits` functions. Qualtran uses a big-endian convention. The most significant bit is at index 0."
   ]
  },
  {
   "cell_type": "code",
   "execution_count": 11,
   "id": "c0a52e07-d117-447e-b171-3e2d16cb991f",
   "metadata": {},
   "outputs": [
    {
     "data": {
      "text/plain": [
       "[1, 1, 1, 1, 1, 1, 1, 0]"
      ]
     },
     "execution_count": 11,
     "metadata": {},
     "output_type": "execute_result"
    }
   ],
   "source": [
    "QUInt(8).to_bits(254)"
   ]
  },
  {
   "cell_type": "markdown",
   "id": "be896d15-f576-4113-b81c-306b0457dd23",
   "metadata": {},
   "source": [
    "### QFxp classical values\n",
    "\n",
    "Due to technical limitations, `QFxp` classical values are represented as fixed-width integers.\n",
    "See the class docstring for QFxp for precise details.\n",
    "To convert from true floating point values to this representation and vice-versa,\n",
    "users can use `QFxp.to_fixed_width_int` and `QFxp.float_from_fixed_width_int` respectively."
   ]
  },
  {
   "cell_type": "code",
   "execution_count": 12,
   "id": "11",
   "metadata": {},
   "outputs": [],
   "source": [
    "from qualtran import QFxp\n",
    "\n",
    "@frozen\n",
    "class DoubleFxp(Bloq):\n",
    "    \"\"\"Bloq with a QFxp of 4 bits (0 int, 4 frac).\n",
    "    \n",
    "    This bloq doubles the input value inplace, discarding any overflow\n",
    "    \"\"\"\n",
    "    num_frac: int = 4\n",
    "    \n",
    "    @property\n",
    "    def signature(self) -> Signature:\n",
    "        return Signature.build_from_dtypes(x=QFxp(self.num_frac, self.num_frac))\n",
    "    \n",
    "    def on_classical_vals(self, x) -> dict[str, 'ClassicalValT']:\n",
    "        \"\"\"Double the input value, discarding overflow\"\"\"\n",
    "        return {'x': (x * 2) % (2**self.num_frac)}\n",
    "\n",
    "\n",
    "bloq_with_qfxp = DoubleFxp()\n",
    "x_float = 0.25\n",
    "x_as_int = QFxp(4, 4).to_fixed_width_int(x_float)\n",
    "(x_out_as_int,) = bloq_with_qfxp.call_classically(x=x_as_int)\n",
    "x_out_float = QFxp(4, 4).float_from_fixed_width_int(x_out_as_int)\n",
    "assert x_out_float == 0.5"
   ]
  }
 ],
 "metadata": {
  "kernelspec": {
   "display_name": "Python 3 (ipykernel)",
   "language": "python",
   "name": "python3"
  },
  "language_info": {
   "codemirror_mode": {
    "name": "ipython",
    "version": 3
   },
   "file_extension": ".py",
   "mimetype": "text/x-python",
   "name": "python",
   "nbconvert_exporter": "python",
   "pygments_lexer": "ipython3",
   "version": "3.11.8"
  }
 },
 "nbformat": 4,
 "nbformat_minor": 5
}
