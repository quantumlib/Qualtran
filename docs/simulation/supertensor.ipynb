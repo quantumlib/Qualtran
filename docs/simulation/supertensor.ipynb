{
 "cells": [
  {
   "cell_type": "markdown",
   "id": "c90db82e-fe68-40ab-8093-0ee1b76f1cba",
   "metadata": {},
   "source": [
    "# Super-Tensor Simulation\n",
    "\n",
    "Simulation of a quantum program involves encoding the state of the system and encoding operators that update the state according to the desired operation.\n",
    "\n",
    "In *closed* quantum systems, we can encode our state in a *state vector* and our operations as *unitary matrices*. For a given bloq, we can query these objects with the `Bloq.tensor_contract()` method. Bloqs with only right registers correspond to states; and bloqs with thru registers correspond to unitary matrices. The tensor simulation protocol handles composing the states and unitaries to get e.g. the final state or unitary.\n",
    "\n",
    "In *open* quantum systems, the state of our system is (potentially) a classically-probabalistic mixture over pure states (which are the states found in closed quantum systems). The operations map this mixture of states to a new mixture of states. The superoperator tensor protocol lets you simulate Qualtran programs that include non-unitary operations like measurement or discarding qubits. Any pure state can also be simulated using this protocol, but it is more expensive than the normal tensor simulation protocol; so we encourage you to use the ordinary tensor contraction protocol wherever feasible.\n"
   ]
  },
  {
   "cell_type": "markdown",
   "id": "c038ddeb-185a-45f9-8304-de9e96f1b4dc",
   "metadata": {},
   "source": [
    "## Density matrix\n",
    "\n",
    "In this section, we contract all bloqs to thier `numpy.ndarray` numerical representation. There are more indices and fewer conventions about the arrangement of these indices, so practitioners must either pay close attention to the following documentation, or deal exclusively and directly with the Quimb `qtn.TensorNetwork` objects and their named indices (see the next section).\n",
    "\n",
    "When dealing with open system simulation, the state of the system is no longer represented by a 1-dimensional vector of probability amplitudes, but rather **a 2-dimensional matrix** of classical probabilities along the diagonal and quantum *coherences* off-diagonal.\n",
    "\n",
    "\n",
    "### The $|+\\rangle$ state\n",
    "First, let's inspect the statevector and density matrix representation of the $|+\\rangle$ state."
   ]
  },
  {
   "cell_type": "code",
   "execution_count": 1,
   "id": "12c866ec-abf8-4a4f-941e-33922edf8348",
   "metadata": {},
   "outputs": [
    {
     "data": {
      "text/plain": [
       "array([0.70710678+0.j, 0.70710678+0.j])"
      ]
     },
     "execution_count": 1,
     "metadata": {},
     "output_type": "execute_result"
    }
   ],
   "source": [
    "# Ordinary statevector of |+>\n",
    "from qualtran.bloqs.basic_gates import PlusState\n",
    "PlusState().tensor_contract()"
   ]
  },
  {
   "cell_type": "code",
   "execution_count": 2,
   "id": "794c0d72-ee3a-4679-83bd-6a6b3a504dd1",
   "metadata": {},
   "outputs": [
    {
     "data": {
      "text/plain": [
       "array([[0.5+0.j, 0.5+0.j],\n",
       "       [0.5+0.j, 0.5+0.j]])"
      ]
     },
     "execution_count": 2,
     "metadata": {},
     "output_type": "execute_result"
    }
   ],
   "source": [
    "# Use the superoperator simulation machinery. States are\n",
    "# now density _matrices_. \n",
    "PlusState().tensor_contract(superoperator=True)"
   ]
  },
  {
   "cell_type": "markdown",
   "id": "d25c6f88-baf2-4a9f-bdfb-0f33b25ebbda",
   "metadata": {},
   "source": [
    "### Incoherent states\n",
    "\n",
    "We know that the $|+\\rangle$ state has a 50% chance of being measured in the 0 vs. 1 state. What is the difference between this and a classical coin flip? We'll compare the density matrices between the coherent `PlusState` vs. measuring the result."
   ]
  },
  {
   "cell_type": "code",
   "execution_count": 3,
   "id": "5cab8731-7cd0-4486-93d2-69ab79853786",
   "metadata": {},
   "outputs": [
    {
     "data": {
      "text/plain": [
       "array([[0.5+0.j, 0. +0.j],\n",
       "       [0. +0.j, 0.5+0.j]])"
      ]
     },
     "metadata": {},
     "output_type": "display_data"
    },
    {
     "data": {
      "image/png": "[encoded data removed]",
      "text/plain": [
       "<Figure size 480x200 with 1 Axes>"
      ]
     },
     "metadata": {},
     "output_type": "display_data"
    }
   ],
   "source": [
    "from qualtran import BloqBuilder\n",
    "from qualtran.drawing import show_bloq\n",
    "from qualtran.bloqs.basic_gates import ZeroState, Hadamard, MeasZ\n",
    "\n",
    "# Initialize a qubit, do a Hadamard\n",
    "bb = BloqBuilder()\n",
    "q = bb.add(ZeroState())\n",
    "q = bb.add(Hadamard(), q=q)\n",
    "c = bb.add(MeasZ(), q=q)\n",
    "coin_flip = bb.finalize(c=c)\n",
    "\n",
    "# The circuit\n",
    "show_bloq(coin_flip, 'musical_score')\n",
    "\n",
    "# Its density matrix\n",
    "rho_coin_flip = coin_flip.tensor_contract(superoperator=True)\n",
    "display(rho_coin_flip)"
   ]
  },
  {
   "cell_type": "markdown",
   "id": "3fb7e165-2be8-4c37-b7e5-08159e9c96aa",
   "metadata": {},
   "source": [
    "## Superoperator evolution with matrix-vector multiplication\n",
    "\n",
    "Under the hood, the Quimb tensor network package can find efficient contraction orderings for performing superoperator simulation. However, for clarity we can show how the superoperator tensors can be manipulated to evolve a vector representation of the density operator with a matrix representation of the superoperator."
   ]
  },
  {
   "cell_type": "markdown",
   "id": "2dc0cc33-3150-405c-ac13-d317ed72c570",
   "metadata": {},
   "source": [
    "### Superoperator tensors\n",
    "\n",
    "Operations (like `Hadamard` below) are encoded in 4-index tensors. You saw above that states are encoded in 2-index tensors (the density matrix)."
   ]
  },
  {
   "cell_type": "code",
   "execution_count": 4,
   "id": "fa757980-f244-4c30-828b-82cae9253248",
   "metadata": {},
   "outputs": [
    {
     "data": {
      "text/plain": [
       "(2, 2, 2, 2)"
      ]
     },
     "execution_count": 4,
     "metadata": {},
     "output_type": "execute_result"
    }
   ],
   "source": [
    "super_h = Hadamard().tensor_contract(superoperator=True)\n",
    "super_h.shape"
   ]
  },
  {
   "cell_type": "code",
   "execution_count": 5,
   "id": "6fc177a0-36b2-4403-95e3-fc644d505b0b",
   "metadata": {},
   "outputs": [
    {
     "data": {
      "text/plain": [
       "(2, 2)"
      ]
     },
     "execution_count": 5,
     "metadata": {},
     "output_type": "execute_result"
    }
   ],
   "source": [
    "rho_coin_flip.shape"
   ]
  },
  {
   "cell_type": "markdown",
   "id": "89bec971-0894-4e48-a016-3ca6536e33cb",
   "metadata": {},
   "source": [
    "There is no standard naming scheme for these four indices, but we describe them here:\n",
    "\n",
    " - Unitary operations in standard, statevector evolution have two indices (i.e. they are matrices). We name the two indices **left** and **right** indices, corresponding to the input and output (resp.) basis states.\n",
    " - The density matrix $\\rho$ for a pure state $|\\psi\\rangle$ is given by $|\\psi\\rangle \\langle \\psi|$.\n",
    " - Evolution of a pure state by a unitary $U$ corresponds to applying $U|\\psi\\rangle$ to the first part of $\\rho$ and  $\\langle \\psi | U^\\dagger$ to the latter part.\n",
    " - With a bit of poetic license, we call the indices of the $|\\psi\\rangle$ part the **forward** indices and the $\\langle \\psi|$ part the **backward** indices.\n",
    "\n",
    "The Qualtran ordering of the superoperator tensor is:\n",
    "\n",
    "    (right_forward, right_backward, left_forward, left_backward)\n",
    "\n",
    "The ordering of the density matrix indices is the familiar, textbook ordering which&mdash;following the terminoligy we set up&mdash;is either\n",
    "\n",
    "    (right_forward, right_backward)\n",
    "    *or*\n",
    "    (left_foward, left_backward)\n",
    "\n",
    "depending on whether it is an initializing state or de-allocating state, respectively."
   ]
  },
  {
   "cell_type": "markdown",
   "id": "51c1dddd-99cb-4205-83ce-326be9c3d5bf",
   "metadata": {},
   "source": [
    "### Reshaping\n",
    "\n",
    "The index ordering allows reshaping of superoperators into matrices and density matrices into vectors so evolution can be computed by the traditional matrix-vector product.\n",
    "\n",
    "We'll see that applying a reshaped tensor of `Hadamard` to our reshaped `rho_coin_flip` gives us a random result, but applying it to a coherent state results in a deterministic output."
   ]
  },
  {
   "cell_type": "code",
   "execution_count": 6,
   "id": "c8c33878-f71a-4ea3-b116-a1682c3a45e8",
   "metadata": {},
   "outputs": [
    {
     "data": {
      "text/plain": [
       "array([[0.5+0.j, 0. +0.j],\n",
       "       [0. +0.j, 0.5+0.j]])"
      ]
     },
     "execution_count": 6,
     "metadata": {},
     "output_type": "execute_result"
    }
   ],
   "source": [
    "# Applying H to our incoherent, coin-flip state\n",
    "(super_h.reshape(4,4) @ rho_coin_flip.reshape(4)).reshape(2,2)"
   ]
  },
  {
   "cell_type": "code",
   "execution_count": 7,
   "id": "0ca8abb6-7156-42e4-905b-c17f2d71bf64",
   "metadata": {},
   "outputs": [
    {
     "data": {
      "text/plain": [
       "array([[ 1.00000000e+00+0.j,  0.00000000e+00+0.j],\n",
       "       [-2.46519033e-32+0.j,  0.00000000e+00+0.j]])"
      ]
     },
     "execution_count": 7,
     "metadata": {},
     "output_type": "execute_result"
    }
   ],
   "source": [
    "# Applying H to our coherent state\n",
    "rho_coherent = PlusState().tensor_contract(superoperator=True)\n",
    "(super_h.reshape(4,4) @ rho_coherent.reshape(4)).reshape(2,2)"
   ]
  },
  {
   "cell_type": "markdown",
   "id": "fd627fc9-d734-4ed0-901c-d09e22480e37",
   "metadata": {},
   "source": [
    "## Quimb Tensor Network\n",
    "\n",
    "The function `cbloq_to_superquimb` returns a `qtn.TensorNetwork` representing the composite bloq. The structure is apparent: there are effectively two pure-state evolutions occuring ('forward' and 'backward'). Non-unitary operations introduce an index coupling the forward and backward evolutions."
   ]
  },
  {
   "cell_type": "code",
   "execution_count": 8,
   "id": "84d7be2f-44ac-4c69-aaa0-cc6f15364530",
   "metadata": {},
   "outputs": [
    {
     "data": {
      "image/png": "[encoded data removed]",
      "text/plain": [
       "<Figure size 600x600 with 1 Axes>"
      ]
     },
     "metadata": {
      "needs_background": "light"
     },
     "output_type": "display_data"
    }
   ],
   "source": [
    "from qualtran.simulation.tensor import cbloq_to_superquimb\n",
    "tn = cbloq_to_superquimb(coin_flip, friendly_indices=True)\n",
    "tn.draw(color=['|0>', 'H', 'MeasZ', 'dag'])"
   ]
  },
  {
   "cell_type": "markdown",
   "id": "6375ba0c-1b8c-4de9-9153-bc848f626730",
   "metadata": {},
   "source": [
    "## System+Environment modeling\n",
    "\n",
    "All CPTP maps can be implemented by unitary evolution in a larger \"system + environment\" space. In this section, we show how to build a measurement operation with only standard, unitary bloqs and the ability to discard information.\n",
    "\n",
    "Any Hermitian operator can be \"measured\" into a fresh ancilla using a simple prescription, see e.g. Nielsen and Chuang Exercise 4.44. We build that construction below."
   ]
  },
  {
   "cell_type": "code",
   "execution_count": 9,
   "id": "8cde1066-7e36-49b6-a665-58905250521c",
   "metadata": {},
   "outputs": [
    {
     "data": {
      "image/svg+xml": [
       "<svg xmlns=\"http://www.w3.org/2000/svg\" xmlns:xlink=\"http://www.w3.org/1999/xlink\" width=\"403pt\" height=\"107pt\" viewBox=\"0.00 0.00 403.00 107.00\">\n",
       "<g id=\"graph0\" class=\"graph\" transform=\"scale(1 1) rotate(0) translate(4 103)\">\n",
       "<title>my_graph</title>\n",
       "<polygon fill=\"white\" stroke=\"transparent\" points=\"-4,4 -4,-103 399,-103 399,4 -4,4\"/>\n",
       "<!-- q_G5 -->\n",
       "<g id=\"node1\" class=\"node\">\n",
       "<title>q_G5</title>\n",
       "<text text-anchor=\"middle\" x=\"84\" y=\"-14.3\" font-family=\"Times,serif\" font-size=\"14.00\">q</text>\n",
       "</g>\n",
       "<!-- CZ -->\n",
       "<g id=\"node5\" class=\"node\">\n",
       "<title>CZ</title>\n",
       "<polygon fill=\"none\" stroke=\"black\" points=\"148,-56 148,-73 168,-73 168,-56 148,-56\"/>\n",
       "<text text-anchor=\"start\" x=\"151.5\" y=\"-62\" font-family=\"Times,serif\" font-size=\"10.00\">CZ</text>\n",
       "<polygon fill=\"none\" stroke=\"black\" points=\"148,-35 148,-56 168,-56 168,-35 148,-35\"/>\n",
       "<text text-anchor=\"start\" x=\"151\" y=\"-41.8\" font-family=\"Times,serif\" font-size=\"14.00\">q1</text>\n",
       "<polygon fill=\"none\" stroke=\"black\" points=\"148,-14 148,-35 168,-35 168,-14 148,-14\"/>\n",
       "<text text-anchor=\"start\" x=\"151\" y=\"-20.8\" font-family=\"Times,serif\" font-size=\"14.00\">q2</text>\n",
       "</g>\n",
       "<!-- q_G5&#45;&gt;CZ -->\n",
       "<g id=\"edge3\" class=\"edge\">\n",
       "<title>q_G5:e-&gt;CZ:w</title>\n",
       "<path fill=\"none\" stroke=\"black\" d=\"M111,-18C126.88,-18 130.97,-23.45 145.74,-23.96\"/>\n",
       "<ellipse fill=\"black\" stroke=\"black\" cx=\"147\" cy=\"-23.98\" rx=\"1\" ry=\"1\"/>\n",
       "<text text-anchor=\"middle\" x=\"129.5\" y=\"-24\" font-family=\"Times,serif\" font-size=\"10.00\">1</text>\n",
       "</g>\n",
       "<!-- Hadamard -->\n",
       "<g id=\"node2\" class=\"node\">\n",
       "<title>Hadamard</title>\n",
       "<polygon fill=\"none\" stroke=\"black\" points=\"205,-76 205,-93 219,-93 219,-76 205,-76\"/>\n",
       "<text text-anchor=\"start\" x=\"208\" y=\"-82\" font-family=\"Times,serif\" font-size=\"10.00\">H</text>\n",
       "<polygon fill=\"none\" stroke=\"black\" points=\"205,-55 205,-76 219,-76 219,-55 205,-55\"/>\n",
       "<text text-anchor=\"start\" x=\"208.5\" y=\"-61.8\" font-family=\"Times,serif\" font-size=\"14.00\">q</text>\n",
       "</g>\n",
       "<!-- Cast -->\n",
       "<g id=\"node6\" class=\"node\">\n",
       "<title>Cast</title>\n",
       "<polygon fill=\"none\" stroke=\"black\" points=\"256,-82 256,-99 304,-99 304,-82 256,-82\"/>\n",
       "<text text-anchor=\"start\" x=\"270.5\" y=\"-88\" font-family=\"Times,serif\" font-size=\"10.00\">Cast</text>\n",
       "<polygon fill=\"none\" stroke=\"black\" points=\"256,-61 256,-82 280,-82 280,-61 256,-61\"/>\n",
       "<text text-anchor=\"start\" x=\"259\" y=\"-67.8\" font-family=\"Times,serif\" font-size=\"14.00\">reg</text>\n",
       "<polygon fill=\"none\" stroke=\"black\" points=\"280,-61 280,-82 304,-82 304,-61 280,-61\"/>\n",
       "<text text-anchor=\"start\" x=\"283\" y=\"-67.8\" font-family=\"Times,serif\" font-size=\"14.00\">reg</text>\n",
       "</g>\n",
       "<!-- Hadamard&#45;&gt;Cast -->\n",
       "<g id=\"edge5\" class=\"edge\">\n",
       "<title>Hadamard:e-&gt;Cast:w</title>\n",
       "<path fill=\"none\" stroke=\"black\" d=\"M219,-65C234.88,-65 238.97,-70.45 253.74,-70.96\"/>\n",
       "<ellipse fill=\"black\" stroke=\"black\" cx=\"255\" cy=\"-70.98\" rx=\"1\" ry=\"1\"/>\n",
       "<text text-anchor=\"middle\" x=\"237.5\" y=\"-71\" font-family=\"Times,serif\" font-size=\"10.00\">1</text>\n",
       "</g>\n",
       "<!-- ZeroState -->\n",
       "<g id=\"node3\" class=\"node\">\n",
       "<title>ZeroState</title>\n",
       "<polygon fill=\"none\" stroke=\"black\" points=\"0,-75 0,-92 20,-92 20,-75 0,-75\"/>\n",
       "<text text-anchor=\"start\" x=\"3\" y=\"-81\" font-family=\"Times,serif\" font-size=\"10.00\">|0&gt;</text>\n",
       "<polygon fill=\"none\" stroke=\"black\" points=\"0,-54 0,-75 6,-75 6,-54 0,-54\"/>\n",
       "<polygon fill=\"none\" stroke=\"black\" points=\"6,-54 6,-75 20,-75 20,-54 6,-54\"/>\n",
       "<text text-anchor=\"start\" x=\"9.5\" y=\"-60.8\" font-family=\"Times,serif\" font-size=\"14.00\">q</text>\n",
       "</g>\n",
       "<!-- Hadamard_G1 -->\n",
       "<g id=\"node4\" class=\"node\">\n",
       "<title>Hadamard_G1</title>\n",
       "<polygon fill=\"none\" stroke=\"black\" points=\"77,-75 77,-92 91,-92 91,-75 77,-75\"/>\n",
       "<text text-anchor=\"start\" x=\"80\" y=\"-81\" font-family=\"Times,serif\" font-size=\"10.00\">H</text>\n",
       "<polygon fill=\"none\" stroke=\"black\" points=\"77,-54 77,-75 91,-75 91,-54 77,-54\"/>\n",
       "<text text-anchor=\"start\" x=\"80.5\" y=\"-60.8\" font-family=\"Times,serif\" font-size=\"14.00\">q</text>\n",
       "</g>\n",
       "<!-- ZeroState&#45;&gt;Hadamard_G1 -->\n",
       "<g id=\"edge1\" class=\"edge\">\n",
       "<title>ZeroState:e-&gt;Hadamard_G1:w</title>\n",
       "<path fill=\"none\" stroke=\"black\" d=\"M20,-64C44.21,-64 50.76,-64 74,-64\"/>\n",
       "<ellipse fill=\"black\" stroke=\"black\" cx=\"75\" cy=\"-64\" rx=\"1\" ry=\"1\"/>\n",
       "<text text-anchor=\"middle\" x=\"38.5\" y=\"-67\" font-family=\"Times,serif\" font-size=\"10.00\">1</text>\n",
       "</g>\n",
       "<!-- Hadamard_G1&#45;&gt;CZ -->\n",
       "<g id=\"edge2\" class=\"edge\">\n",
       "<title>Hadamard_G1:e-&gt;CZ:w</title>\n",
       "<path fill=\"none\" stroke=\"black\" d=\"M92,-64C117.43,-64 121.64,-46.97 145.9,-46.04\"/>\n",
       "<ellipse fill=\"black\" stroke=\"black\" cx=\"147\" cy=\"-46.02\" rx=\"1\" ry=\"1\"/>\n",
       "<text text-anchor=\"middle\" x=\"129.5\" y=\"-53\" font-family=\"Times,serif\" font-size=\"10.00\">1</text>\n",
       "</g>\n",
       "<!-- CZ&#45;&gt;Hadamard -->\n",
       "<g id=\"edge4\" class=\"edge\">\n",
       "<title>CZ:e-&gt;Hadamard:w</title>\n",
       "<path fill=\"none\" stroke=\"black\" d=\"M168,-46C185.76,-46 186.48,-63.54 202.92,-64.92\"/>\n",
       "<ellipse fill=\"black\" stroke=\"black\" cx=\"204\" cy=\"-64.96\" rx=\"1\" ry=\"1\"/>\n",
       "<text text-anchor=\"middle\" x=\"186.5\" y=\"-59\" font-family=\"Times,serif\" font-size=\"10.00\">1</text>\n",
       "</g>\n",
       "<!-- q_G9 -->\n",
       "<g id=\"node7\" class=\"node\">\n",
       "<title>q_G9</title>\n",
       "<text text-anchor=\"middle\" x=\"368\" y=\"-15.3\" font-family=\"Times,serif\" font-size=\"14.00\">q</text>\n",
       "</g>\n",
       "<!-- CZ&#45;&gt;q_G9 -->\n",
       "<g id=\"edge6\" class=\"edge\">\n",
       "<title>CZ:e-&gt;q_G9:w</title>\n",
       "<path fill=\"none\" stroke=\"black\" d=\"M168,-24C244.17,-24 263.7,-19.1 338.76,-19\"/>\n",
       "<ellipse fill=\"black\" stroke=\"black\" cx=\"340\" cy=\"-19\" rx=\"1\" ry=\"1\"/>\n",
       "<text text-anchor=\"middle\" x=\"237.5\" y=\"-26\" font-family=\"Times,serif\" font-size=\"10.00\">1</text>\n",
       "</g>\n",
       "<!-- c -->\n",
       "<g id=\"node8\" class=\"node\">\n",
       "<title>c</title>\n",
       "<text text-anchor=\"middle\" x=\"368\" y=\"-69.3\" font-family=\"Times,serif\" font-size=\"14.00\">c</text>\n",
       "</g>\n",
       "<!-- Cast&#45;&gt;c -->\n",
       "<g id=\"edge7\" class=\"edge\">\n",
       "<title>Cast:e-&gt;c:w</title>\n",
       "<path fill=\"none\" stroke=\"black\" d=\"M304,-71C319.7,-71 324.12,-72.82 338.76,-72.99\"/>\n",
       "<ellipse fill=\"black\" stroke=\"black\" cx=\"340\" cy=\"-72.99\" rx=\"1\" ry=\"1\"/>\n",
       "<text text-anchor=\"middle\" x=\"322.5\" y=\"-75\" font-family=\"Times,serif\" font-size=\"10.00\">1</text>\n",
       "</g>\n",
       "</g>\n",
       "</svg>"
      ],
      "text/plain": [
       "<IPython.core.display.SVG object>"
      ]
     },
     "metadata": {},
     "output_type": "display_data"
    }
   ],
   "source": [
    "from qualtran import BloqBuilder, Register, Side, CtrlSpec, QBit, CBit\n",
    "from qualtran.bloqs.basic_gates import ZeroState, Hadamard, MeasZ, ZGate\n",
    "from qualtran.bloqs.bookkeeping import Cast\n",
    "\n",
    "bb = BloqBuilder()\n",
    "# Take a single qubit as input\n",
    "q = bb.add_register(Register(\"q\", QBit()))\n",
    "# Set up our output register: we'll return one classical bit\n",
    "bb.add_register(Register(\"c\", CBit(), side=Side.RIGHT))\n",
    "\n",
    "# This construction works for any Hermitian operator. We'll\n",
    "# use Z as a familiar first example.\n",
    "op = ZGate()\n",
    "\n",
    "# Allocate space to record the result of our measurement operation\n",
    "meas_space = bb.add(ZeroState())\n",
    "meas_space = bb.add(Hadamard(), q=meas_space)\n",
    "\n",
    "# Do Controlled(op)\n",
    "_, add_ctrled = op.get_ctrl_system(CtrlSpec())\n",
    "(meas_space,), (q,) = add_ctrled(bb, ctrl_soqs=[meas_space], in_soqs={'q': q})\n",
    "\n",
    "# Final Hadamard, and cast our measurement register\n",
    "# into a classical bit.\n",
    "meas_space = bb.add(Hadamard(), q=meas_space)\n",
    "meas_result = bb.add(Cast(QBit(), CBit(), allow_quantum_to_classical=True), reg=meas_space)\n",
    "meas_cbloq = bb.finalize(c = meas_result, q=q)\n",
    "show_bloq(meas_cbloq)"
   ]
  },
  {
   "cell_type": "markdown",
   "id": "455ab7ed-c93d-4fc3-8f81-a694d4f90a24",
   "metadata": {},
   "source": [
    "Note that we've entangled our system \"q\" with a fresh register. We've used a `Cast` operation to denote that the new bit is a classical bit. Practically this means we can no longer perform quantum operations like `Hadamard` to it, and any classical processing can happen on ordinary CPUs. But at a quantum-information level, there is nothing about the tensor structure to show that \"c\" is a 'classical' index. Below, we draw the tensor network encoding of the State/Unitary composite bloq using the ordinary tensor protocol"
   ]
  },
  {
   "cell_type": "code",
   "execution_count": 10,
   "id": "57f300ec-28a5-4b6f-aabd-4cc5c8cf31ed",
   "metadata": {},
   "outputs": [
    {
     "data": {
      "image/png": "[encoded data removed]",
      "text/plain": [
       "<Figure size 600x600 with 1 Axes>"
      ]
     },
     "metadata": {
      "needs_background": "light"
     },
     "output_type": "display_data"
    },
    {
     "data": {
      "text/html": [
       "<samp style='font-size: 12px;'><details><summary><b style=\"color: #e55471;\">Tensor</b>(shape=(<b style=\"color: #828fdd;\">2</b>, <b style=\"color: #828fdd;\">2</b>, <b style=\"color: #828fdd;\">2</b>), inds=[<b style=\"color: #e5398e;\">q_0r</b>, <b style=\"color: #994ce2;\">q_0l</b>, <b style=\"color: #98e598;\">c_0r</b>], tags={<b style=\"color: #dbc077;\">|0></b>, <b style=\"color: #a17ee2;\">H</b>, <b style=\"color: #74e450;\">CZ</b>, <b style=\"color: #d3b76a;\">Cast</b>}),</summary>backend=<b style=\"color: #7fdd73;\">numpy</b>, dtype=<b style=\"color: #443ce1;\">complex128</b>, data=array([[[ 1.00000000e+00+0.j, -2.23711432e-17+0.j],\n",
       "        [ 0.00000000e+00+0.j,  0.00000000e+00+0.j]],\n",
       "\n",
       "       [[ 0.00000000e+00+0.j,  0.00000000e+00+0.j],\n",
       "        [-2.23711432e-17+0.j,  1.00000000e+00+0.j]]])</details></samp>"
      ],
      "text/plain": [
       "Tensor(shape=(2, 2, 2), inds=('q_0r', 'q_0l', 'c_0r'), tags=oset(['|0>', 'H', 'CZ', 'Cast']))"
      ]
     },
     "metadata": {},
     "output_type": "display_data"
    }
   ],
   "source": [
    "from qualtran.simulation.tensor import cbloq_to_quimb\n",
    "tn = cbloq_to_quimb(meas_cbloq, friendly_indices=True)\n",
    "tn.draw(color=['CZ', 'H'])\n",
    "display(tn.contract())"
   ]
  },
  {
   "cell_type": "markdown",
   "id": "6ec443b0-d7e9-4d69-89eb-a7c068ed2737",
   "metadata": {},
   "source": [
    "### Making a measurement operation\n",
    "\n",
    "In an open system&mdash;like the world we live in&mdash;we don't have coherent access to each (qu)bit worth of information. Our measurement apparatus might have $10^{23}$ particles, each recording the result of a measurement. We can simulate the standard measurement channel where information is lost to the environment by using the previous circuit and discarding the coherent qubit wire. Now, the signature of our composite bloq takes in one `QBit()` and returns one `CBit()`."
   ]
  },
  {
   "cell_type": "code",
   "execution_count": 11,
   "id": "690955e1-eab3-4f90-863b-53090d13a75c",
   "metadata": {},
   "outputs": [
    {
     "data": {
      "image/svg+xml": [
       "<svg xmlns=\"http://www.w3.org/2000/svg\" xmlns:xlink=\"http://www.w3.org/1999/xlink\" width=\"435pt\" height=\"115pt\" viewBox=\"0.00 0.00 435.00 115.00\">\n",
       "<g id=\"graph0\" class=\"graph\" transform=\"scale(1 1) rotate(0) translate(4 111)\">\n",
       "<title>my_graph</title>\n",
       "<polygon fill=\"white\" stroke=\"transparent\" points=\"-4,4 -4,-111 431,-111 431,4 -4,4\"/>\n",
       "<!-- q_G7 -->\n",
       "<g id=\"node1\" class=\"node\">\n",
       "<title>q_G7</title>\n",
       "<text text-anchor=\"middle\" x=\"84\" y=\"-14.3\" font-family=\"Times,serif\" font-size=\"14.00\">q</text>\n",
       "</g>\n",
       "<!-- CZ -->\n",
       "<g id=\"node6\" class=\"node\">\n",
       "<title>CZ</title>\n",
       "<polygon fill=\"none\" stroke=\"black\" points=\"148,-56 148,-73 168,-73 168,-56 148,-56\"/>\n",
       "<text text-anchor=\"start\" x=\"151.5\" y=\"-62\" font-family=\"Times,serif\" font-size=\"10.00\">CZ</text>\n",
       "<polygon fill=\"none\" stroke=\"black\" points=\"148,-35 148,-56 168,-56 168,-35 148,-35\"/>\n",
       "<text text-anchor=\"start\" x=\"151\" y=\"-41.8\" font-family=\"Times,serif\" font-size=\"14.00\">q1</text>\n",
       "<polygon fill=\"none\" stroke=\"black\" points=\"148,-14 148,-35 168,-35 168,-14 148,-14\"/>\n",
       "<text text-anchor=\"start\" x=\"151\" y=\"-20.8\" font-family=\"Times,serif\" font-size=\"14.00\">q2</text>\n",
       "</g>\n",
       "<!-- q_G7&#45;&gt;CZ -->\n",
       "<g id=\"edge3\" class=\"edge\">\n",
       "<title>q_G7:e-&gt;CZ:w</title>\n",
       "<path fill=\"none\" stroke=\"black\" d=\"M111,-18C126.88,-18 130.97,-23.45 145.74,-23.96\"/>\n",
       "<ellipse fill=\"black\" stroke=\"black\" cx=\"147\" cy=\"-23.98\" rx=\"1\" ry=\"1\"/>\n",
       "<text text-anchor=\"middle\" x=\"129.5\" y=\"-24\" font-family=\"Times,serif\" font-size=\"10.00\">1</text>\n",
       "</g>\n",
       "<!-- Hadamard -->\n",
       "<g id=\"node2\" class=\"node\">\n",
       "<title>Hadamard</title>\n",
       "<polygon fill=\"none\" stroke=\"black\" points=\"221,-90 221,-107 235,-107 235,-90 221,-90\"/>\n",
       "<text text-anchor=\"start\" x=\"224\" y=\"-96\" font-family=\"Times,serif\" font-size=\"10.00\">H</text>\n",
       "<polygon fill=\"none\" stroke=\"black\" points=\"221,-69 221,-90 235,-90 235,-69 221,-69\"/>\n",
       "<text text-anchor=\"start\" x=\"224.5\" y=\"-75.8\" font-family=\"Times,serif\" font-size=\"14.00\">q</text>\n",
       "</g>\n",
       "<!-- Cast -->\n",
       "<g id=\"node7\" class=\"node\">\n",
       "<title>Cast</title>\n",
       "<polygon fill=\"none\" stroke=\"black\" points=\"288,-90 288,-107 336,-107 336,-90 288,-90\"/>\n",
       "<text text-anchor=\"start\" x=\"302.5\" y=\"-96\" font-family=\"Times,serif\" font-size=\"10.00\">Cast</text>\n",
       "<polygon fill=\"none\" stroke=\"black\" points=\"288,-69 288,-90 312,-90 312,-69 288,-69\"/>\n",
       "<text text-anchor=\"start\" x=\"291\" y=\"-75.8\" font-family=\"Times,serif\" font-size=\"14.00\">reg</text>\n",
       "<polygon fill=\"none\" stroke=\"black\" points=\"312,-69 312,-90 336,-90 336,-69 312,-69\"/>\n",
       "<text text-anchor=\"start\" x=\"315\" y=\"-75.8\" font-family=\"Times,serif\" font-size=\"14.00\">reg</text>\n",
       "</g>\n",
       "<!-- Hadamard&#45;&gt;Cast -->\n",
       "<g id=\"edge5\" class=\"edge\">\n",
       "<title>Hadamard:e-&gt;Cast:w</title>\n",
       "<path fill=\"none\" stroke=\"black\" d=\"M236,-79C258.39,-79 264.51,-79 285.88,-79\"/>\n",
       "<ellipse fill=\"black\" stroke=\"black\" cx=\"287\" cy=\"-79\" rx=\"1\" ry=\"1\"/>\n",
       "<text text-anchor=\"middle\" x=\"269.5\" y=\"-82\" font-family=\"Times,serif\" font-size=\"10.00\">1</text>\n",
       "</g>\n",
       "<!-- ZeroState -->\n",
       "<g id=\"node3\" class=\"node\">\n",
       "<title>ZeroState</title>\n",
       "<polygon fill=\"none\" stroke=\"black\" points=\"0,-75 0,-92 20,-92 20,-75 0,-75\"/>\n",
       "<text text-anchor=\"start\" x=\"3\" y=\"-81\" font-family=\"Times,serif\" font-size=\"10.00\">|0&gt;</text>\n",
       "<polygon fill=\"none\" stroke=\"black\" points=\"0,-54 0,-75 6,-75 6,-54 0,-54\"/>\n",
       "<polygon fill=\"none\" stroke=\"black\" points=\"6,-54 6,-75 20,-75 20,-54 6,-54\"/>\n",
       "<text text-anchor=\"start\" x=\"9.5\" y=\"-60.8\" font-family=\"Times,serif\" font-size=\"14.00\">q</text>\n",
       "</g>\n",
       "<!-- Hadamard_G2 -->\n",
       "<g id=\"node5\" class=\"node\">\n",
       "<title>Hadamard_G2</title>\n",
       "<polygon fill=\"none\" stroke=\"black\" points=\"77,-75 77,-92 91,-92 91,-75 77,-75\"/>\n",
       "<text text-anchor=\"start\" x=\"80\" y=\"-81\" font-family=\"Times,serif\" font-size=\"10.00\">H</text>\n",
       "<polygon fill=\"none\" stroke=\"black\" points=\"77,-54 77,-75 91,-75 91,-54 77,-54\"/>\n",
       "<text text-anchor=\"start\" x=\"80.5\" y=\"-60.8\" font-family=\"Times,serif\" font-size=\"14.00\">q</text>\n",
       "</g>\n",
       "<!-- ZeroState&#45;&gt;Hadamard_G2 -->\n",
       "<g id=\"edge1\" class=\"edge\">\n",
       "<title>ZeroState:e-&gt;Hadamard_G2:w</title>\n",
       "<path fill=\"none\" stroke=\"black\" d=\"M20,-64C44.21,-64 50.76,-64 74,-64\"/>\n",
       "<ellipse fill=\"black\" stroke=\"black\" cx=\"75\" cy=\"-64\" rx=\"1\" ry=\"1\"/>\n",
       "<text text-anchor=\"middle\" x=\"38.5\" y=\"-67\" font-family=\"Times,serif\" font-size=\"10.00\">1</text>\n",
       "</g>\n",
       "<!-- DiscardQ -->\n",
       "<g id=\"node4\" class=\"node\">\n",
       "<title>DiscardQ</title>\n",
       "<polygon fill=\"none\" stroke=\"black\" points=\"205,-34 205,-51 251,-51 251,-34 205,-34\"/>\n",
       "<text text-anchor=\"start\" x=\"208\" y=\"-40\" font-family=\"Times,serif\" font-size=\"10.00\">DiscardQ</text>\n",
       "<polygon fill=\"none\" stroke=\"black\" points=\"205,-13 205,-34 231,-34 231,-13 205,-13\"/>\n",
       "<text text-anchor=\"start\" x=\"214.5\" y=\"-19.8\" font-family=\"Times,serif\" font-size=\"14.00\">q</text>\n",
       "<polygon fill=\"none\" stroke=\"black\" points=\"231,-13 231,-34 251,-34 251,-13 231,-13\"/>\n",
       "</g>\n",
       "<!-- Hadamard_G2&#45;&gt;CZ -->\n",
       "<g id=\"edge2\" class=\"edge\">\n",
       "<title>Hadamard_G2:e-&gt;CZ:w</title>\n",
       "<path fill=\"none\" stroke=\"black\" d=\"M92,-64C117.43,-64 121.64,-46.97 145.9,-46.04\"/>\n",
       "<ellipse fill=\"black\" stroke=\"black\" cx=\"147\" cy=\"-46.02\" rx=\"1\" ry=\"1\"/>\n",
       "<text text-anchor=\"middle\" x=\"129.5\" y=\"-53\" font-family=\"Times,serif\" font-size=\"10.00\">1</text>\n",
       "</g>\n",
       "<!-- CZ&#45;&gt;Hadamard -->\n",
       "<g id=\"edge4\" class=\"edge\">\n",
       "<title>CZ:e-&gt;Hadamard:w</title>\n",
       "<path fill=\"none\" stroke=\"black\" d=\"M168,-46C194.62,-46 192.76,-77.22 217.82,-78.93\"/>\n",
       "<ellipse fill=\"black\" stroke=\"black\" cx=\"219\" cy=\"-78.97\" rx=\"1\" ry=\"1\"/>\n",
       "<text text-anchor=\"middle\" x=\"186.5\" y=\"-57\" font-family=\"Times,serif\" font-size=\"10.00\">1</text>\n",
       "</g>\n",
       "<!-- CZ&#45;&gt;DiscardQ -->\n",
       "<g id=\"edge6\" class=\"edge\">\n",
       "<title>CZ:e-&gt;DiscardQ:w</title>\n",
       "<path fill=\"none\" stroke=\"black\" d=\"M168,-24C183.68,-24 188.14,-23.09 202.77,-23.01\"/>\n",
       "<ellipse fill=\"black\" stroke=\"black\" cx=\"204\" cy=\"-23\" rx=\"1\" ry=\"1\"/>\n",
       "<text text-anchor=\"middle\" x=\"186.5\" y=\"-27\" font-family=\"Times,serif\" font-size=\"10.00\">1</text>\n",
       "</g>\n",
       "<!-- c -->\n",
       "<g id=\"node8\" class=\"node\">\n",
       "<title>c</title>\n",
       "<text text-anchor=\"middle\" x=\"400\" y=\"-75.3\" font-family=\"Times,serif\" font-size=\"14.00\">c</text>\n",
       "</g>\n",
       "<!-- Cast&#45;&gt;c -->\n",
       "<g id=\"edge7\" class=\"edge\">\n",
       "<title>Cast:e-&gt;c:w</title>\n",
       "<path fill=\"none\" stroke=\"black\" d=\"M336,-79C351.67,-79 356.14,-79 370.77,-79\"/>\n",
       "<ellipse fill=\"black\" stroke=\"black\" cx=\"372\" cy=\"-79\" rx=\"1\" ry=\"1\"/>\n",
       "<text text-anchor=\"middle\" x=\"354.5\" y=\"-82\" font-family=\"Times,serif\" font-size=\"10.00\">1</text>\n",
       "</g>\n",
       "</g>\n",
       "</svg>"
      ],
      "text/plain": [
       "<IPython.core.display.SVG object>"
      ]
     },
     "metadata": {},
     "output_type": "display_data"
    }
   ],
   "source": [
    "from qualtran.bloqs.basic_gates import DiscardQ\n",
    "\n",
    "bb = BloqBuilder()\n",
    "q = bb.add_register(Register(\"q\", QBit(), side=Side.LEFT))\n",
    "q, c = bb.add_from(meas_cbloq, q=q)\n",
    "bb.add(DiscardQ(), q=q)\n",
    "meas2_cbloq = bb.finalize(c=c)\n",
    "show_bloq(meas2_cbloq)"
   ]
  },
  {
   "cell_type": "markdown",
   "id": "2842fec6-d709-488a-9d31-d8817f47dbb0",
   "metadata": {},
   "source": [
    "The ordinary tensor simulation protocol is insufficient to handle discarding a qubit. "
   ]
  },
  {
   "cell_type": "code",
   "execution_count": 12,
   "id": "b48228f0-3ef1-4e07-b89a-65c46fd0a865",
   "metadata": {},
   "outputs": [
    {
     "name": "stdout",
     "output_type": "stream",
     "text": [
      "ValueError: During tensor simulation, DiscardQ tried to discard information. This requires using `tensor_contract(superoperator=True)` or `cbloq_to_superquimb`.\n"
     ]
    }
   ],
   "source": [
    "try:\n",
    "    tn = cbloq_to_quimb(meas2_cbloq, friendly_indices=True)\n",
    "except ValueError as e:\n",
    "    print(\"ValueError:\", e)"
   ]
  },
  {
   "cell_type": "markdown",
   "id": "cbec03e4-1a88-4a2b-ae4c-32f1efb6ddc7",
   "metadata": {},
   "source": [
    "To remove a qubit, we need to sum over its possible states as we would when computing a marginal probability distribution. But our probability *amplitudes* only sum to 1 when we consider their absolute value squared\n",
    "$$\n",
    "\\sum a^* a = 1,\n",
    "$$\n",
    "so our integration proceedure requires indexing into both our state $|\\psi\\rangle$ and its adjoint $\\langle \\psi|$ to remove the offending bit.\n",
    "\n",
    "If you're using a densitry matrix, this correspond to performing a parital trace. In Qualtran, the superoperator tensor simulation protocol sets up two simultaneous tensor networks for simulating unitary action on the circuit *and* its adjoint. That is, we simulate both $|\\psi\\rangle$ and $\\langle \\psi|$.  Discarding a qubit is performed by contracting the qubit's index in the forward network with its corresponding index in the backwards, adjoint network."
   ]
  },
  {
   "cell_type": "code",
   "execution_count": 13,
   "id": "ca011792-af4d-463e-bd26-df7c0cdba14a",
   "metadata": {},
   "outputs": [
    {
     "data": {
      "image/png": "[encoded data removed]",
      "text/plain": [
       "<Figure size 600x600 with 1 Axes>"
      ]
     },
     "metadata": {
      "needs_background": "light"
     },
     "output_type": "display_data"
    },
    {
     "data": {
      "text/plain": [
       "(2, 2, 2, 2)"
      ]
     },
     "metadata": {},
     "output_type": "display_data"
    }
   ],
   "source": [
    "tn = cbloq_to_superquimb(meas2_cbloq, friendly_indices=True)\n",
    "tn.draw(color=['CZ', 'H', 'dag'], initial_layout='spectral')\n",
    "display(tn.shape)"
   ]
  },
  {
   "cell_type": "markdown",
   "id": "5dbadc5c-7422-4ea6-8a5d-379a58bc81b8",
   "metadata": {},
   "source": [
    "The discard operation couples the two pure evolutions. The superoperator is now a rank-4 tensor.\n",
    "\n",
    "By the Stinespring dilation theorem, we can actually represent any superoperator (aka quantum channel, aka CPTP map) with only pure state evolution and the ability to discard qubits. This gives rise to the \"System-Environment\" representation of superoperators, which is the native representation in Qualtran. It is quite natural for the open-system operations we're most concerned with (like measurement); but practitioners may have to do some careful translation to encode superoperators traditionally expressed in another representation like the operator-sum (Kraus operator) representation."
   ]
  },
  {
   "cell_type": "markdown",
   "id": "91784324-c495-4878-afed-5597ea6782d6",
   "metadata": {},
   "source": [
    "## Implementation\n",
    "\n",
    "The super-tensor protocol is a superset of the ordinary tensor simulation protocol. Bloqs override the same method to define their tensors for open-system simulation: the bloq author overrides `Bloq.my_tensors` and is responsible for returning a list of tensors whose indices follow the same prescribed format as documented in the [tensor protocol](.). \n",
    "\n",
    "All additional functionality is unlocked by the ability to return a `qualtran.simulation.tensor.DiscardInd` object amongst the ordinary `qtn.Tensor` objects. Per above, any superoperator can be expressed in this system-environment representation. This simple sentinel object flags the named index as subject to \"tracing out\" during construction of the complete network.\n",
    "\n",
    "When calling `cbloq_to_quimb` the indices are faithfully kept as `(cxn: Connection, j: int)` tuples. During the conversion to the superoperator tensor network, each tensor returned by `Bloq.my_tensors` is added twice:\n",
    " - The 'forward' tensor is added. Its indices `(cxn, j)` are transformed to `(cxn, j, True)`\n",
    " - The 'backward' tensor is added. Its indices `(cxn, j)` are transformed to `(cxn, j, False)` and we take the element-wise complex conjugate of its data ndarray.\n",
    " - A `DiscardInd` will remove the booleans from the named index in tensors which have already been added. This causes the forward and backward indices to be contracted together.\n",
    "\n",
    "Note that index permutation operations like taking the transpose of the backwards tensor is handled by the structure of the tensor network rather than mutating the data ndarray. \n",
    "\n",
    "The `my_tensors` override must order its return values such that a `DiscardInd` is encountered *after* the tensor that defines the index to discard. "
   ]
  }
 ],
 "metadata": {
  "kernelspec": {
   "display_name": "Python 3 (ipykernel)",
   "language": "python",
   "name": "python3"
  },
  "language_info": {
   "codemirror_mode": {
    "name": "ipython",
    "version": 3
   },
   "file_extension": ".py",
   "mimetype": "text/x-python",
   "name": "python",
   "nbconvert_exporter": "python",
   "pygments_lexer": "ipython3",
   "version": "3.11.8"
  }
 },
 "nbformat": 4,
 "nbformat_minor": 5
}
