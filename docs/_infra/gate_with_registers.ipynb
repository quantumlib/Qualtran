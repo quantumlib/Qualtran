{
 "cells": [
  {
   "cell_type": "code",
   "execution_count": 1,
   "id": "3b990f88",
   "metadata": {},
   "outputs": [],
   "source": [
    "# Copyright 2023 The Cirq Developers\n",
    "#\n",
    "# Licensed under the Apache License, Version 2.0 (the \"License\");\n",
    "# you may not use this file except in compliance with the License.\n",
    "# You may obtain a copy of the License at\n",
    "#\n",
    "#     https://www.apache.org/licenses/LICENSE-2.0\n",
    "#\n",
    "# Unless required by applicable law or agreed to in writing, software\n",
    "# distributed under the License is distributed on an \"AS IS\" BASIS,\n",
    "# WITHOUT WARRANTIES OR CONDITIONS OF ANY KIND, either express or implied.\n",
    "# See the License for the specific language governing permissions and\n",
    "# limitations under the License."
   ]
  },
  {
   "cell_type": "markdown",
   "id": "bf9c80ce",
   "metadata": {},
   "source": [
    "# Gate with Registers\n",
    "\n",
    "This package includes a subclass of `cirq.Gate` called `GateWithRegisters`. Instead of operating on a flat list of `cirq.Qid`, this lets the developer define gates in terms of named registers of given widths."
   ]
  },
  {
   "cell_type": "markdown",
   "id": "c0833444",
   "metadata": {},
   "source": [
    "## [`Signature`](/reference/qualtran/Signature.md)\n",
    "\n",
    "[`Register`](/reference/qualtran/Register.md) objects have a name, a bitsize and a shape. [`Signature`](/reference/qualtran/Signature.md) is an ordered collection of [`Register`](/reference/qualtran/Register.md) with some helpful methods."
   ]
  },
  {
   "cell_type": "code",
   "execution_count": 2,
   "id": "c75414f2",
   "metadata": {},
   "outputs": [
    {
     "data": {
      "text/plain": [
       "(Register(name='control', dtype=QAny(bitsize=2), _shape=(), side=<Side.THRU: 3>),\n",
       " Register(name='target', dtype=QAny(bitsize=3), _shape=(), side=<Side.THRU: 3>))"
      ]
     },
     "execution_count": 2,
     "metadata": {},
     "output_type": "execute_result"
    }
   ],
   "source": [
    "from qualtran import Register, Signature, QAny\n",
    "\n",
    "control_reg = Register('control', QAny(bitsize=2))\n",
    "target_reg = Register('target', QAny(bitsize=3))\n",
    "control_reg, target_reg"
   ]
  },
  {
   "cell_type": "code",
   "execution_count": 3,
   "id": "b38d210c",
   "metadata": {},
   "outputs": [
    {
     "data": {
      "text/plain": [
       "Signature((Register(name='control', dtype=QAny(bitsize=2), _shape=(), side=<Side.THRU: 3>), Register(name='target', dtype=QAny(bitsize=3), _shape=(), side=<Side.THRU: 3>)))"
      ]
     },
     "execution_count": 3,
     "metadata": {},
     "output_type": "execute_result"
    }
   ],
   "source": [
    "r = Signature([control_reg, target_reg])\n",
    "r"
   ]
  },
  {
   "cell_type": "markdown",
   "id": "2b32274b",
   "metadata": {},
   "source": [
    "You can also use the `build` factory method to quickly define a set of registers"
   ]
  },
  {
   "cell_type": "code",
   "execution_count": 4,
   "id": "4f10e66e",
   "metadata": {},
   "outputs": [
    {
     "data": {
      "text/plain": [
       "True"
      ]
     },
     "execution_count": 4,
     "metadata": {},
     "output_type": "execute_result"
    }
   ],
   "source": [
    "r == Signature.build(\n",
    "    control=2,\n",
    "    target=3,\n",
    ")"
   ]
  },
  {
   "cell_type": "markdown",
   "id": "a5955208",
   "metadata": {},
   "source": [
    "### `GateWithRegisters`"
   ]
  },
  {
   "cell_type": "code",
   "execution_count": 5,
   "id": "b3957db4",
   "metadata": {},
   "outputs": [],
   "source": [
    "import cirq\n",
    "from qualtran import GateWithRegisters\n",
    "\n",
    "class MyGate(GateWithRegisters):\n",
    "    \n",
    "    @property\n",
    "    def signature(self):\n",
    "        return Signature.build(\n",
    "            control=2,\n",
    "            target=3,\n",
    "        )\n",
    "    \n",
    "    def decompose_from_registers(self, context, control, target):\n",
    "        assert len(control) == 2\n",
    "        assert len(target) == 3\n",
    "        \n",
    "        for c in control:\n",
    "            for t in target:\n",
    "                yield cirq.CNOT(c, t)\n",
    "        "
   ]
  },
  {
   "cell_type": "code",
   "execution_count": 6,
   "id": "2de931eb",
   "metadata": {},
   "outputs": [
    {
     "data": {
      "text/plain": [
       "<__main__.MyGate at 0x7f08d543a4d0>"
      ]
     },
     "execution_count": 6,
     "metadata": {},
     "output_type": "execute_result"
    }
   ],
   "source": [
    "gate = MyGate()\n",
    "gate"
   ]
  },
  {
   "cell_type": "code",
   "execution_count": 7,
   "id": "ef98f3a2",
   "metadata": {},
   "outputs": [
    {
     "data": {
      "text/plain": [
       "5"
      ]
     },
     "execution_count": 7,
     "metadata": {},
     "output_type": "execute_result"
    }
   ],
   "source": [
    "# Number of qubits is derived from registers\n",
    "cirq.num_qubits(gate)"
   ]
  },
  {
   "cell_type": "markdown",
   "id": "2d725646",
   "metadata": {},
   "source": [
    "The [`Signature`](/reference/qualtran/Signature.md) object can allocate a dictionary of `cirq.NamedQubit` that we can use to turn our `Gate` into an `Operation`. `GateWithRegisters` exposes an `on_registers` method to compliment Cirq's `on` method where we can use names to make sure each qubit is used appropriately."
   ]
  },
  {
   "cell_type": "code",
   "execution_count": 8,
   "id": "057148da",
   "metadata": {},
   "outputs": [
    {
     "data": {
      "text/plain": [
       "{'control': array([cirq.NamedQubit('control0'), cirq.NamedQubit('control1')],\n",
       "       dtype=object),\n",
       " 'target': array([cirq.NamedQubit('target0'), cirq.NamedQubit('target1'),\n",
       "        cirq.NamedQubit('target2')], dtype=object)}"
      ]
     },
     "execution_count": 8,
     "metadata": {},
     "output_type": "execute_result"
    }
   ],
   "source": [
    "from qualtran._infra.gate_with_registers import get_named_qubits\n",
    "\n",
    "r = gate.signature\n",
    "quregs = get_named_qubits(r)\n",
    "quregs"
   ]
  },
  {
   "cell_type": "code",
   "execution_count": 9,
   "id": "0257d8f1",
   "metadata": {},
   "outputs": [
    {
     "data": {
      "text/plain": [
       "<__main__.MyGate object at 0x7f08d543a4d0>.on(cirq.NamedQubit('control0'), cirq.NamedQubit('control1'), cirq.NamedQubit('target0'), cirq.NamedQubit('target1'), cirq.NamedQubit('target2'))"
      ]
     },
     "execution_count": 9,
     "metadata": {},
     "output_type": "execute_result"
    }
   ],
   "source": [
    "operation = gate.on_registers(**quregs)\n",
    "operation"
   ]
  },
  {
   "cell_type": "code",
   "execution_count": 10,
   "id": "541f2e91",
   "metadata": {},
   "outputs": [
    {
     "data": {
      "image/svg+xml": [
       "<svg xmlns=\"http://www.w3.org/2000/svg\" width=\"211.5141015625\" height=\"250.0\"><line x1=\"44.86908203125\" x2=\"181.5141015625\" y1=\"25.0\" y2=\"25.0\" stroke=\"#1967d2\" stroke-width=\"1\" /><line x1=\"44.86908203125\" x2=\"181.5141015625\" y1=\"75.0\" y2=\"75.0\" stroke=\"#1967d2\" stroke-width=\"1\" /><line x1=\"44.86908203125\" x2=\"181.5141015625\" y1=\"125.0\" y2=\"125.0\" stroke=\"#1967d2\" stroke-width=\"1\" /><line x1=\"44.86908203125\" x2=\"181.5141015625\" y1=\"175.0\" y2=\"175.0\" stroke=\"#1967d2\" stroke-width=\"1\" /><line x1=\"44.86908203125\" x2=\"181.5141015625\" y1=\"225.0\" y2=\"225.0\" stroke=\"#1967d2\" stroke-width=\"1\" /><line x1=\"130.6261328125\" x2=\"130.6261328125\" y1=\"25.0\" y2=\"225.0\" stroke=\"black\" stroke-width=\"3\" /><rect x=\"10.0\" y=\"5.0\" width=\"69.7381640625\" height=\"40\" stroke=\"black\" fill=\"white\" stroke-width=\"0\" /><text x=\"44.86908203125\" y=\"25.0\" dominant-baseline=\"middle\" text-anchor=\"middle\" font-size=\"14px\" font-family=\"sans\\-serif:style=normal:variant=normal:weight=normal:stretch=normal:size=10.0\">control0: </text><rect x=\"10.0\" y=\"55.0\" width=\"69.7381640625\" height=\"40\" stroke=\"black\" fill=\"white\" stroke-width=\"0\" /><text x=\"44.86908203125\" y=\"75.0\" dominant-baseline=\"middle\" text-anchor=\"middle\" font-size=\"14px\" font-family=\"sans\\-serif:style=normal:variant=normal:weight=normal:stretch=normal:size=10.0\">control1: </text><rect x=\"10.0\" y=\"105.0\" width=\"69.7381640625\" height=\"40\" stroke=\"black\" fill=\"white\" stroke-width=\"0\" /><text x=\"44.86908203125\" y=\"125.0\" dominant-baseline=\"middle\" text-anchor=\"middle\" font-size=\"14px\" font-family=\"sans\\-serif:style=normal:variant=normal:weight=normal:stretch=normal:size=10.0\">target0: </text><rect x=\"10.0\" y=\"155.0\" width=\"69.7381640625\" height=\"40\" stroke=\"black\" fill=\"white\" stroke-width=\"0\" /><text x=\"44.86908203125\" y=\"175.0\" dominant-baseline=\"middle\" text-anchor=\"middle\" font-size=\"14px\" font-family=\"sans\\-serif:style=normal:variant=normal:weight=normal:stretch=normal:size=10.0\">target1: </text><rect x=\"10.0\" y=\"205.0\" width=\"69.7381640625\" height=\"40\" stroke=\"black\" fill=\"white\" stroke-width=\"0\" /><text x=\"44.86908203125\" y=\"225.0\" dominant-baseline=\"middle\" text-anchor=\"middle\" font-size=\"14px\" font-family=\"sans\\-serif:style=normal:variant=normal:weight=normal:stretch=normal:size=10.0\">target2: </text><rect x=\"99.7381640625\" y=\"5.0\" width=\"61.7759375\" height=\"40\" stroke=\"black\" fill=\"white\" stroke-width=\"1\" /><text x=\"130.6261328125\" y=\"25.0\" dominant-baseline=\"middle\" text-anchor=\"middle\" font-size=\"14px\" font-family=\"sans\\-serif:style=normal:variant=normal:weight=normal:stretch=normal:size=10.0\">MyGate</text><rect x=\"99.7381640625\" y=\"55.0\" width=\"61.7759375\" height=\"40\" stroke=\"black\" fill=\"white\" stroke-width=\"1\" /><text x=\"130.6261328125\" y=\"75.0\" dominant-baseline=\"middle\" text-anchor=\"middle\" font-size=\"14px\" font-family=\"sans\\-serif:style=normal:variant=normal:weight=normal:stretch=normal:size=10.0\">control</text><rect x=\"99.7381640625\" y=\"105.0\" width=\"61.7759375\" height=\"40\" stroke=\"black\" fill=\"white\" stroke-width=\"1\" /><text x=\"130.6261328125\" y=\"125.0\" dominant-baseline=\"middle\" text-anchor=\"middle\" font-size=\"14px\" font-family=\"sans\\-serif:style=normal:variant=normal:weight=normal:stretch=normal:size=10.0\">target</text><rect x=\"99.7381640625\" y=\"155.0\" width=\"61.7759375\" height=\"40\" stroke=\"black\" fill=\"white\" stroke-width=\"1\" /><text x=\"130.6261328125\" y=\"175.0\" dominant-baseline=\"middle\" text-anchor=\"middle\" font-size=\"14px\" font-family=\"sans\\-serif:style=normal:variant=normal:weight=normal:stretch=normal:size=10.0\">target</text><rect x=\"99.7381640625\" y=\"205.0\" width=\"61.7759375\" height=\"40\" stroke=\"black\" fill=\"white\" stroke-width=\"1\" /><text x=\"130.6261328125\" y=\"225.0\" dominant-baseline=\"middle\" text-anchor=\"middle\" font-size=\"14px\" font-family=\"sans\\-serif:style=normal:variant=normal:weight=normal:stretch=normal:size=10.0\">target</text></svg>"
      ],
      "text/plain": [
       "<cirq.contrib.svg.svg.SVGCircuit at 0x7f08d6320bd0>"
      ]
     },
     "execution_count": 10,
     "metadata": {},
     "output_type": "execute_result"
    }
   ],
   "source": [
    "from cirq.contrib.svg import SVGCircuit\n",
    "SVGCircuit(cirq.Circuit(operation))"
   ]
  },
  {
   "cell_type": "markdown",
   "id": "6686f7f8",
   "metadata": {},
   "source": [
    "## `GateHelper`\n",
    "\n",
    "Since `GateWithRegisters` contains enough metadata to derive qubits, an operation, and a circuit we provide a helper class to provide easy access to these quantities."
   ]
  },
  {
   "cell_type": "code",
   "execution_count": 11,
   "id": "93a6c8f2",
   "metadata": {},
   "outputs": [
    {
     "name": "stdout",
     "output_type": "stream",
     "text": [
      "r: Signature((Register(name='control', dtype=QAny(bitsize=2), _shape=(), side=<Side.THRU: 3>), Register(name='target', dtype=QAny(bitsize=3), _shape=(), side=<Side.THRU: 3>)))\n",
      "quregs: {'control': array([cirq.NamedQubit('control0'), cirq.NamedQubit('control1')],\n",
      "      dtype=object), 'target': array([cirq.NamedQubit('target0'), cirq.NamedQubit('target1'),\n",
      "       cirq.NamedQubit('target2')], dtype=object)}\n",
      "operation: MyGate(control0, control1, target0, target1, target2)\n",
      "\n",
      "circuit:\n",
      " control0: ───MyGate────\n",
      "             │\n",
      "control1: ───control───\n",
      "             │\n",
      "target0: ────target────\n",
      "             │\n",
      "target1: ────target────\n",
      "             │\n",
      "target2: ────target────\n",
      "\n",
      "\n",
      "decomposed circuit:\n",
      "                  ┌──┐   ┌──┐\n",
      "control0: ───@────@──────@─────────\n",
      "             │    │      │\n",
      "control1: ───┼────┼@─────┼@────@───\n",
      "             │    ││     ││    │\n",
      "target0: ────X────┼X─────┼┼────┼───\n",
      "                  │      ││    │\n",
      "target1: ─────────X──────┼X────┼───\n",
      "                         │     │\n",
      "target2: ────────────────X─────X───\n",
      "                 └──┘   └──┘\n"
     ]
    }
   ],
   "source": [
    "import qualtran.cirq_interop.testing as cq_testing\n",
    "\n",
    "g = cq_testing.GateHelper(gate)\n",
    "\n",
    "print('r:', g.r)\n",
    "print('quregs:', g.quregs)\n",
    "print('operation:', g.operation)\n",
    "print('\\ncircuit:\\n', g.circuit)\n",
    "print('\\n\\ndecomposed circuit:\\n', cirq.Circuit(cirq.decompose_once(g.operation)))"
   ]
  }
 ],
 "metadata": {
  "kernelspec": {
   "display_name": "Python 3",
   "language": "python",
   "name": "python3"
  },
  "language_info": {
   "codemirror_mode": {
    "name": "ipython",
    "version": 3
   },
   "file_extension": ".py",
   "mimetype": "text/x-python",
   "name": "python",
   "nbconvert_exporter": "python",
   "pygments_lexer": "ipython3",
   "version": "3.11.8"
  }
 },
 "nbformat": 4,
 "nbformat_minor": 5
}
