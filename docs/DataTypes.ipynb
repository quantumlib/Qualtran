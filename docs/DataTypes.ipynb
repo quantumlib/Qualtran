{
 "cells": [
  {
   "cell_type": "markdown",
   "id": "cc3bc886-66ec-4a5e-8042-ed84c98ae210",
   "metadata": {},
   "source": [
    "# Data Types\n",
    "\n",
    "## Introduction to quantum data: the qubit\n",
    "Qualtran lets you write quantum programs that operate on quantum data. The smallest unit of quantum data is the qubit (\"quantum bit\"). A quantum bit can be in the familiar `0` or `1` states (called computational basis states) or any combination of them, like $|+\\rangle = (|0\\rangle + |1\\rangle)/\\sqrt{2}$. Allocation-like bloqs can allocate a qubit in a particular state. Below, we create a simple program that allocates one quantum vairalbe in the `0` state and one in the `+` state."
   ]
  },
  {
   "cell_type": "code",
   "execution_count": 1,
   "id": "780e26eb-b50a-46fd-aec9-a74d68201c2f",
   "metadata": {},
   "outputs": [
    {
     "data": {
      "image/svg+xml": [
       "<svg xmlns=\"http://www.w3.org/2000/svg\" xmlns:xlink=\"http://www.w3.org/1999/xlink\" width=\"120pt\" height=\"110pt\" viewBox=\"0.00 0.00 120.00 110.00\">\n",
       "<g id=\"graph0\" class=\"graph\" transform=\"scale(1 1) rotate(0) translate(4 106)\">\n",
       "<title>my_graph</title>\n",
       "<polygon fill=\"white\" stroke=\"transparent\" points=\"-4,4 -4,-106 116,-106 116,4 -4,4\"/>\n",
       "<!-- PlusState -->\n",
       "<g id=\"node1\" class=\"node\">\n",
       "<title>PlusState</title>\n",
       "<polygon fill=\"none\" stroke=\"black\" points=\"0.5,-29 0.5,-46 21.5,-46 21.5,-29 0.5,-29\"/>\n",
       "<text text-anchor=\"start\" x=\"3.5\" y=\"-35\" font-family=\"Times,serif\" font-size=\"10.00\">|+&gt;</text>\n",
       "<polygon fill=\"none\" stroke=\"black\" points=\"0.5,-8 0.5,-29 7.5,-29 7.5,-8 0.5,-8\"/>\n",
       "<polygon fill=\"none\" stroke=\"black\" points=\"7.5,-8 7.5,-29 21.5,-29 21.5,-8 7.5,-8\"/>\n",
       "<text text-anchor=\"start\" x=\"11\" y=\"-14.8\" font-family=\"Times,serif\" font-size=\"14.00\">q</text>\n",
       "</g>\n",
       "<!-- q1 -->\n",
       "<g id=\"node4\" class=\"node\">\n",
       "<title>q1</title>\n",
       "<text text-anchor=\"middle\" x=\"85\" y=\"-14.3\" font-family=\"Times,serif\" font-size=\"14.00\">q1</text>\n",
       "</g>\n",
       "<!-- PlusState&#45;&gt;q1 -->\n",
       "<g id=\"edge2\" class=\"edge\">\n",
       "<title>PlusState:e-&gt;q1:w</title>\n",
       "<path fill=\"none\" stroke=\"black\" d=\"M21,-18C36.67,-18 41.14,-18 55.77,-18\"/>\n",
       "<ellipse fill=\"black\" stroke=\"black\" cx=\"57\" cy=\"-18\" rx=\"1\" ry=\"1\"/>\n",
       "<text text-anchor=\"middle\" x=\"39.5\" y=\"-21\" font-family=\"Times,serif\" font-size=\"10.00\">1</text>\n",
       "</g>\n",
       "<!-- ZeroState -->\n",
       "<g id=\"node2\" class=\"node\">\n",
       "<title>ZeroState</title>\n",
       "<polygon fill=\"none\" stroke=\"black\" points=\"0.5,-85 0.5,-102 20.5,-102 20.5,-85 0.5,-85\"/>\n",
       "<text text-anchor=\"start\" x=\"3.5\" y=\"-91\" font-family=\"Times,serif\" font-size=\"10.00\">|0&gt;</text>\n",
       "<polygon fill=\"none\" stroke=\"black\" points=\"0.5,-64 0.5,-85 6.5,-85 6.5,-64 0.5,-64\"/>\n",
       "<polygon fill=\"none\" stroke=\"black\" points=\"6.5,-64 6.5,-85 20.5,-85 20.5,-64 6.5,-64\"/>\n",
       "<text text-anchor=\"start\" x=\"10\" y=\"-70.8\" font-family=\"Times,serif\" font-size=\"14.00\">q</text>\n",
       "</g>\n",
       "<!-- q0 -->\n",
       "<g id=\"node3\" class=\"node\">\n",
       "<title>q0</title>\n",
       "<text text-anchor=\"middle\" x=\"85\" y=\"-70.3\" font-family=\"Times,serif\" font-size=\"14.00\">q0</text>\n",
       "</g>\n",
       "<!-- ZeroState&#45;&gt;q0 -->\n",
       "<g id=\"edge1\" class=\"edge\">\n",
       "<title>ZeroState:e-&gt;q0:w</title>\n",
       "<path fill=\"none\" stroke=\"black\" d=\"M21,-74C36.67,-74 41.14,-74 55.77,-74\"/>\n",
       "<ellipse fill=\"black\" stroke=\"black\" cx=\"57\" cy=\"-74\" rx=\"1\" ry=\"1\"/>\n",
       "<text text-anchor=\"middle\" x=\"39.5\" y=\"-77\" font-family=\"Times,serif\" font-size=\"10.00\">1</text>\n",
       "</g>\n",
       "</g>\n",
       "</svg>"
      ],
      "text/plain": [
       "<IPython.core.display.SVG object>"
      ]
     },
     "metadata": {},
     "output_type": "display_data"
    }
   ],
   "source": [
    "from qualtran import BloqBuilder\n",
    "from qualtran.bloqs.basic_gates import ZeroState, PlusState\n",
    "\n",
    "bb = BloqBuilder()\n",
    "zero_q = bb.add(ZeroState())\n",
    "plus_q = bb.add(PlusState())\n",
    "cbloq = bb.finalize(q0=zero_q, q1=plus_q)\n",
    "\n",
    "from qualtran.drawing import show_bloq\n",
    "show_bloq(cbloq)"
   ]
  },
  {
   "cell_type": "markdown",
   "id": "a3ead17f-c2b1-4d7b-8467-deb4691ce4a2",
   "metadata": {},
   "source": [
    "## Quantum variables\n",
    "\n",
    "When we use [`BloqBuilder`](/reference/qualtran/BloqBuilder.md) to `add` these allocation operations to our program, we are given a handle to the resulting quantum data. These handles are *quantum variables*, which can be provided as inputs to subsequent operations. Quantum variables follow *linear logic*: that is, each quantum variable must be used exactly once. You cannot use the same variable twice (this would violate the *no-cloning theorem*), and you cannot leave a variable unused (this would violate the corresponding *no-deleting theorem*). In the above program, we use the `finalize` method to account for our unused quantum variables&mdash;it is presumed that the programmer will handle these piece of data with subsequent bloqs."
   ]
  },
  {
   "cell_type": "markdown",
   "id": "f51e6b35-64a9-442c-b677-b7053791e3f0",
   "metadata": {},
   "source": [
    "## Bloq signatures and `QBit()`\n",
    "\n",
    "We write quantum programs by composing subroutines encoded as Qualtran *bloqs*. A bloq class inherits from the `qualtran.Bloq` interface, which only has one required property: `signature`. A bloq's signature declares the names and types of quantum data the bloq takes as input and output. You might think of a bloq with nothing other than its signature analogous to declaring (but not defining) a function in a C/C++ header file. \n",
    "\n",
    "The `Bloq.signature` property method must return a `qualtran.Signature` object, which is itself a list of [`Register`](/reference/qualtran/Register.md) objects. Each register is the name and data type of an input/output variable. In quantum computing (as a consequence of the no-deleting theorem), we often have a pattern we term *thru registers* where quantum data is used as input and returned with the same name and data type, so registers default to simultaneous input and output arguments.\n",
    "\n",
    "Below, we construct a signature consisting of two input-output arguments named 'arg1' and 'arg2'; and we declare that each must be a qubit using the data type specification `qualtran.QBit()`. "
   ]
  },
  {
   "cell_type": "code",
   "execution_count": 2,
   "id": "9da1ffe1-b214-43aa-82f6-098dffec10eb",
   "metadata": {},
   "outputs": [
    {
     "name": "stdout",
     "output_type": "stream",
     "text": [
      "2\n"
     ]
    }
   ],
   "source": [
    "from qualtran import Signature, Register, QBit\n",
    "\n",
    "signature = Signature([\n",
    "    Register('arg1', QBit()),\n",
    "    Register('arg2', QBit()),\n",
    "])\n",
    "print(signature.n_qubits())"
   ]
  },
  {
   "cell_type": "markdown",
   "id": "e3f1675d-57af-4712-b694-62cca89440c3",
   "metadata": {},
   "source": [
    "## Quantum data types\n",
    "\n",
    "Completely analogously to classical computation, collections of individual qubits can be used to encode a variety of data types. For example, `qualtran.QUInt(32)` represents a 32-bit unsigned, quantum integer. These data type objects are used in the definition of signatures to provide type checking for your quantum programs. \n",
    "\n",
    "In Qualtran, quantum variables of arbitrary type are first-class objects. You can represent a program operating on e.g. 2048-bit registers without having a unique index or an individual Python object for each underlying qubit (like in many NISQ frameworks like Cirq). \n",
    "\n",
    "We support statically-sized data; and do not support sum or union types. Built-in data types like `QInt`, `QFxp` (fixed-point reals), `QIntOnesComp` (signed integers using ones' complement), and others are available in the top-level `qualtran` namespace. Custom data types can be implemented by inheriting from `QDType`.\n",
    "\n",
    "Below, we construct a signature consisting of two input-output arguments named 'x' and 'y'; and we declare that each is a 32-bit quantum unsigned integer."
   ]
  },
  {
   "cell_type": "code",
   "execution_count": 3,
   "id": "578c71e2-3b6b-43d1-bb91-88c94ae4f70e",
   "metadata": {},
   "outputs": [
    {
     "name": "stdout",
     "output_type": "stream",
     "text": [
      "64\n"
     ]
    }
   ],
   "source": [
    "from qualtran import QUInt\n",
    "\n",
    "signature = Signature([\n",
    "    Register('x', QUInt(32)),\n",
    "    Register('y', QUInt(32)),\n",
    "])\n",
    "print(signature.n_qubits())"
   ]
  },
  {
   "cell_type": "markdown",
   "id": "3fc9dd5c-7e05-4b4c-a423-0c58399bc46e",
   "metadata": {},
   "source": [
    "### Quantum data types as bloq parameters\n",
    "\n",
    "By using compile-time classical attributes of bloqs, we can support *generic programming* where a single bloq class can be used with a variety of quantum data types. Many of the arithmetic operations take the data type as a compile-time classical attribute.\n",
    "\n",
    "Below, we show that the `Negate` operation can handle a `QUInt` of arbitrary size; and indeed you can read the documentation to figure out that it also supports signed and other types of integers. Note: we can represent programs on large bitsize variables without any performance overhead."
   ]
  },
  {
   "cell_type": "code",
   "execution_count": 4,
   "id": "fb259875-b438-4ee8-882c-092bd9711682",
   "metadata": {},
   "outputs": [
    {
     "data": {
      "image/svg+xml": [
       "<svg xmlns=\"http://www.w3.org/2000/svg\" xmlns:xlink=\"http://www.w3.org/1999/xlink\" width=\"313pt\" height=\"54pt\" viewBox=\"0.00 0.00 313.00 54.00\">\n",
       "<g id=\"graph0\" class=\"graph\" transform=\"scale(1 1) rotate(0) translate(4 50)\">\n",
       "<title>my_graph</title>\n",
       "<polygon fill=\"white\" stroke=\"transparent\" points=\"-4,4 -4,-50 309,-50 309,4 -4,4\"/>\n",
       "<!-- x_G2 -->\n",
       "<g id=\"node1\" class=\"node\">\n",
       "<title>x_G2</title>\n",
       "<text text-anchor=\"middle\" x=\"27\" y=\"-14.3\" font-family=\"Times,serif\" font-size=\"14.00\">x</text>\n",
       "</g>\n",
       "<!-- BitwiseNot -->\n",
       "<g id=\"node2\" class=\"node\">\n",
       "<title>BitwiseNot</title>\n",
       "<polygon fill=\"none\" stroke=\"black\" points=\"91,-29 91,-46 145,-46 145,-29 91,-29\"/>\n",
       "<text text-anchor=\"start\" x=\"94\" y=\"-35\" font-family=\"Times,serif\" font-size=\"10.00\">BitwiseNot</text>\n",
       "<polygon fill=\"none\" stroke=\"black\" points=\"91,-8 91,-29 145,-29 145,-8 91,-8\"/>\n",
       "<text text-anchor=\"start\" x=\"114.5\" y=\"-14.8\" font-family=\"Times,serif\" font-size=\"14.00\">x</text>\n",
       "</g>\n",
       "<!-- x_G2&#45;&gt;BitwiseNot -->\n",
       "<g id=\"edge1\" class=\"edge\">\n",
       "<title>x_G2:e-&gt;BitwiseNot:w</title>\n",
       "<path fill=\"none\" stroke=\"black\" d=\"M54,-18C69.67,-18 74.14,-18 88.77,-18\"/>\n",
       "<ellipse fill=\"black\" stroke=\"black\" cx=\"90\" cy=\"-18\" rx=\"1\" ry=\"1\"/>\n",
       "<text text-anchor=\"middle\" x=\"72.5\" y=\"-21\" font-family=\"Times,serif\" font-size=\"10.00\">2048</text>\n",
       "</g>\n",
       "<!-- AddK -->\n",
       "<g id=\"node3\" class=\"node\">\n",
       "<title>AddK</title>\n",
       "<polygon fill=\"none\" stroke=\"black\" points=\"182,-29 182,-46 214,-46 214,-29 182,-29\"/>\n",
       "<text text-anchor=\"start\" x=\"185\" y=\"-35\" font-family=\"Times,serif\" font-size=\"10.00\">AddK</text>\n",
       "<polygon fill=\"none\" stroke=\"black\" points=\"182,-8 182,-29 214,-29 214,-8 182,-8\"/>\n",
       "<text text-anchor=\"start\" x=\"194.5\" y=\"-14.8\" font-family=\"Times,serif\" font-size=\"14.00\">x</text>\n",
       "</g>\n",
       "<!-- BitwiseNot&#45;&gt;AddK -->\n",
       "<g id=\"edge2\" class=\"edge\">\n",
       "<title>BitwiseNot:e-&gt;AddK:w</title>\n",
       "<path fill=\"none\" stroke=\"black\" d=\"M145,-18C160.67,-18 165.14,-18 179.77,-18\"/>\n",
       "<ellipse fill=\"black\" stroke=\"black\" cx=\"181\" cy=\"-18\" rx=\"1\" ry=\"1\"/>\n",
       "<text text-anchor=\"middle\" x=\"163.5\" y=\"-21\" font-family=\"Times,serif\" font-size=\"10.00\">2048</text>\n",
       "</g>\n",
       "<!-- x_G4 -->\n",
       "<g id=\"node4\" class=\"node\">\n",
       "<title>x_G4</title>\n",
       "<text text-anchor=\"middle\" x=\"278\" y=\"-14.3\" font-family=\"Times,serif\" font-size=\"14.00\">x</text>\n",
       "</g>\n",
       "<!-- AddK&#45;&gt;x_G4 -->\n",
       "<g id=\"edge3\" class=\"edge\">\n",
       "<title>AddK:e-&gt;x_G4:w</title>\n",
       "<path fill=\"none\" stroke=\"black\" d=\"M214,-18C229.67,-18 234.14,-18 248.77,-18\"/>\n",
       "<ellipse fill=\"black\" stroke=\"black\" cx=\"250\" cy=\"-18\" rx=\"1\" ry=\"1\"/>\n",
       "<text text-anchor=\"middle\" x=\"232.5\" y=\"-21\" font-family=\"Times,serif\" font-size=\"10.00\">2048</text>\n",
       "</g>\n",
       "</g>\n",
       "</svg>"
      ],
      "text/plain": [
       "<IPython.core.display.SVG object>"
      ]
     },
     "metadata": {},
     "output_type": "display_data"
    }
   ],
   "source": [
    "from qualtran.bloqs.arithmetic import Negate\n",
    "\n",
    "negate = Negate(dtype=QUInt(2048))\n",
    "show_bloq(negate.decompose_bloq())"
   ]
  },
  {
   "cell_type": "markdown",
   "id": "5d9426cd-087a-4d7c-a5cc-8ad95ed4257e",
   "metadata": {},
   "source": [
    "## Splitting\n",
    "\n",
    "It is great if you can express your algorithm as manipulations of quantum ints, reals, or other *high-level* data types. But, we anticipate that the gateset of a quantum computer will consist of 1-, 2- and 3-qubit operations. At some point, we need to define our operations in terms of their action on individual bits. We can use `Split` and other *bookkeeping* operations to carefully cast the data type of a quantum variable so we can write decompositions down to the architecture-supported gateset.\n",
    "\n",
    "As an example, we'll consider the `BitwiseNot` used in the previous snippet. We'll take a quantum unsigned integer and just do a *not* (in quantum computing: `XGate`) on each bit."
   ]
  },
  {
   "cell_type": "code",
   "execution_count": 5,
   "id": "9b5fdb88-9a4d-4ccc-801f-76769df67214",
   "metadata": {},
   "outputs": [
    {
     "data": {
      "image/svg+xml": [
       "<svg xmlns=\"http://www.w3.org/2000/svg\" xmlns:xlink=\"http://www.w3.org/1999/xlink\" width=\"302pt\" height=\"158pt\" viewBox=\"0.00 0.00 302.00 158.00\">\n",
       "<g id=\"graph0\" class=\"graph\" transform=\"scale(1 1) rotate(0) translate(4 154)\">\n",
       "<title>my_graph</title>\n",
       "<polygon fill=\"white\" stroke=\"transparent\" points=\"-4,4 -4,-154 298,-154 298,4 -4,4\"/>\n",
       "<!-- x -->\n",
       "<g id=\"node1\" class=\"node\">\n",
       "<title>x</title>\n",
       "<text text-anchor=\"middle\" x=\"27\" y=\"-62.3\" font-family=\"Times,serif\" font-size=\"14.00\">x</text>\n",
       "</g>\n",
       "<!-- Split -->\n",
       "<g id=\"node3\" class=\"node\">\n",
       "<title>Split</title>\n",
       "<polygon fill=\"none\" stroke=\"black\" points=\"91,-75 91,-81 103,-81 103,-75 91,-75\"/>\n",
       "<polygon fill=\"none\" stroke=\"black\" points=\"91,-57 91,-75 97,-75 97,-57 91,-57\"/>\n",
       "<polygon fill=\"none\" stroke=\"black\" points=\"97,-69 97,-75 103,-75 103,-69 97,-69\"/>\n",
       "<polygon fill=\"none\" stroke=\"black\" points=\"97,-63 97,-69 103,-69 103,-63 97,-63\"/>\n",
       "<polygon fill=\"none\" stroke=\"black\" points=\"97,-57 97,-63 103,-63 103,-57 97,-57\"/>\n",
       "</g>\n",
       "<!-- x&#45;&gt;Split -->\n",
       "<g id=\"edge1\" class=\"edge\">\n",
       "<title>x:e-&gt;Split:w</title>\n",
       "<path fill=\"none\" stroke=\"black\" d=\"M54,-66C69.67,-66 74.14,-66 88.77,-66\"/>\n",
       "<ellipse fill=\"black\" stroke=\"black\" cx=\"90\" cy=\"-66\" rx=\"1\" ry=\"1\"/>\n",
       "<text text-anchor=\"middle\" x=\"72.5\" y=\"-69\" font-family=\"Times,serif\" font-size=\"10.00\">3</text>\n",
       "</g>\n",
       "<!-- XGate -->\n",
       "<g id=\"node2\" class=\"node\">\n",
       "<title>XGate</title>\n",
       "<polygon fill=\"none\" stroke=\"black\" points=\"140,-77 140,-94 154,-94 154,-77 140,-77\"/>\n",
       "<text text-anchor=\"start\" x=\"143\" y=\"-83\" font-family=\"Times,serif\" font-size=\"10.00\">X</text>\n",
       "<polygon fill=\"none\" stroke=\"black\" points=\"140,-56 140,-77 154,-77 154,-56 140,-56\"/>\n",
       "<text text-anchor=\"start\" x=\"143.5\" y=\"-62.8\" font-family=\"Times,serif\" font-size=\"14.00\">q</text>\n",
       "</g>\n",
       "<!-- Join -->\n",
       "<g id=\"node5\" class=\"node\">\n",
       "<title>Join</title>\n",
       "<polygon fill=\"none\" stroke=\"black\" points=\"191,-75 191,-81 203,-81 203,-75 191,-75\"/>\n",
       "<polygon fill=\"none\" stroke=\"black\" points=\"191,-69 191,-75 197,-75 197,-69 191,-69\"/>\n",
       "<polygon fill=\"none\" stroke=\"black\" points=\"197,-57 197,-75 203,-75 203,-57 197,-57\"/>\n",
       "<polygon fill=\"none\" stroke=\"black\" points=\"191,-63 191,-69 197,-69 197,-63 191,-63\"/>\n",
       "<polygon fill=\"none\" stroke=\"black\" points=\"191,-57 191,-63 197,-63 197,-57 191,-57\"/>\n",
       "</g>\n",
       "<!-- XGate&#45;&gt;Join -->\n",
       "<g id=\"edge6\" class=\"edge\">\n",
       "<title>XGate:e-&gt;Join:w</title>\n",
       "<path fill=\"none\" stroke=\"black\" d=\"M154,-66C169.67,-66 174.14,-66 188.77,-66\"/>\n",
       "<ellipse fill=\"black\" stroke=\"black\" cx=\"190\" cy=\"-66\" rx=\"1\" ry=\"1\"/>\n",
       "<text text-anchor=\"middle\" x=\"172.5\" y=\"-69\" font-family=\"Times,serif\" font-size=\"10.00\">1</text>\n",
       "</g>\n",
       "<!-- Split&#45;&gt;XGate -->\n",
       "<g id=\"edge3\" class=\"edge\">\n",
       "<title>Split:e-&gt;XGate:w</title>\n",
       "<path fill=\"none\" stroke=\"black\" d=\"M103,-66C118.67,-66 123.14,-66 137.77,-66\"/>\n",
       "<ellipse fill=\"black\" stroke=\"black\" cx=\"139\" cy=\"-66\" rx=\"1\" ry=\"1\"/>\n",
       "<text text-anchor=\"middle\" x=\"121.5\" y=\"-69\" font-family=\"Times,serif\" font-size=\"10.00\">1</text>\n",
       "</g>\n",
       "<!-- XGate_G0 -->\n",
       "<g id=\"node4\" class=\"node\">\n",
       "<title>XGate_G0</title>\n",
       "<polygon fill=\"none\" stroke=\"black\" points=\"140,-21 140,-38 154,-38 154,-21 140,-21\"/>\n",
       "<text text-anchor=\"start\" x=\"143\" y=\"-27\" font-family=\"Times,serif\" font-size=\"10.00\">X</text>\n",
       "<polygon fill=\"none\" stroke=\"black\" points=\"140,0 140,-21 154,-21 154,0 140,0\"/>\n",
       "<text text-anchor=\"start\" x=\"143.5\" y=\"-6.8\" font-family=\"Times,serif\" font-size=\"14.00\">q</text>\n",
       "</g>\n",
       "<!-- Split&#45;&gt;XGate_G0 -->\n",
       "<g id=\"edge4\" class=\"edge\">\n",
       "<title>Split:e-&gt;XGate_G0:w</title>\n",
       "<path fill=\"none\" stroke=\"black\" d=\"M103,-60C129.89,-60 113.32,-12.7 137.83,-10.11\"/>\n",
       "<ellipse fill=\"black\" stroke=\"black\" cx=\"139\" cy=\"-10.05\" rx=\"1\" ry=\"1\"/>\n",
       "<text text-anchor=\"middle\" x=\"121.5\" y=\"-40\" font-family=\"Times,serif\" font-size=\"10.00\">1</text>\n",
       "</g>\n",
       "<!-- XGate_G3 -->\n",
       "<g id=\"node6\" class=\"node\">\n",
       "<title>XGate_G3</title>\n",
       "<polygon fill=\"none\" stroke=\"black\" points=\"140,-133 140,-150 154,-150 154,-133 140,-133\"/>\n",
       "<text text-anchor=\"start\" x=\"143\" y=\"-139\" font-family=\"Times,serif\" font-size=\"10.00\">X</text>\n",
       "<polygon fill=\"none\" stroke=\"black\" points=\"140,-112 140,-133 154,-133 154,-112 140,-112\"/>\n",
       "<text text-anchor=\"start\" x=\"143.5\" y=\"-118.8\" font-family=\"Times,serif\" font-size=\"14.00\">q</text>\n",
       "</g>\n",
       "<!-- Split&#45;&gt;XGate_G3 -->\n",
       "<g id=\"edge2\" class=\"edge\">\n",
       "<title>Split:e-&gt;XGate_G3:w</title>\n",
       "<path fill=\"none\" stroke=\"black\" d=\"M103,-72C129.89,-72 113.32,-119.3 137.83,-121.89\"/>\n",
       "<ellipse fill=\"black\" stroke=\"black\" cx=\"139\" cy=\"-121.95\" rx=\"1\" ry=\"1\"/>\n",
       "<text text-anchor=\"middle\" x=\"121.5\" y=\"-101\" font-family=\"Times,serif\" font-size=\"10.00\">1</text>\n",
       "</g>\n",
       "<!-- XGate_G0&#45;&gt;Join -->\n",
       "<g id=\"edge7\" class=\"edge\">\n",
       "<title>XGate_G0:e-&gt;Join:w</title>\n",
       "<path fill=\"none\" stroke=\"black\" d=\"M154,-10C180.89,-10 164.32,-57.3 188.83,-59.89\"/>\n",
       "<ellipse fill=\"black\" stroke=\"black\" cx=\"190\" cy=\"-59.95\" rx=\"1\" ry=\"1\"/>\n",
       "<text text-anchor=\"middle\" x=\"172.5\" y=\"-40\" font-family=\"Times,serif\" font-size=\"10.00\">1</text>\n",
       "</g>\n",
       "<!-- x_G16 -->\n",
       "<g id=\"node7\" class=\"node\">\n",
       "<title>x_G16</title>\n",
       "<text text-anchor=\"middle\" x=\"267\" y=\"-62.3\" font-family=\"Times,serif\" font-size=\"14.00\">x</text>\n",
       "</g>\n",
       "<!-- Join&#45;&gt;x_G16 -->\n",
       "<g id=\"edge8\" class=\"edge\">\n",
       "<title>Join:e-&gt;x_G16:w</title>\n",
       "<path fill=\"none\" stroke=\"black\" d=\"M203,-66C218.67,-66 223.14,-66 237.77,-66\"/>\n",
       "<ellipse fill=\"black\" stroke=\"black\" cx=\"239\" cy=\"-66\" rx=\"1\" ry=\"1\"/>\n",
       "<text text-anchor=\"middle\" x=\"221.5\" y=\"-69\" font-family=\"Times,serif\" font-size=\"10.00\">3</text>\n",
       "</g>\n",
       "<!-- XGate_G3&#45;&gt;Join -->\n",
       "<g id=\"edge5\" class=\"edge\">\n",
       "<title>XGate_G3:e-&gt;Join:w</title>\n",
       "<path fill=\"none\" stroke=\"black\" d=\"M154,-122C180.89,-122 164.32,-74.7 188.83,-72.11\"/>\n",
       "<ellipse fill=\"black\" stroke=\"black\" cx=\"190\" cy=\"-72.05\" rx=\"1\" ry=\"1\"/>\n",
       "<text text-anchor=\"middle\" x=\"172.5\" y=\"-101\" font-family=\"Times,serif\" font-size=\"10.00\">1</text>\n",
       "</g>\n",
       "</g>\n",
       "</svg>"
      ],
      "text/plain": [
       "<IPython.core.display.SVG object>"
      ]
     },
     "metadata": {},
     "output_type": "display_data"
    }
   ],
   "source": [
    "from qualtran.bloqs.basic_gates import XGate\n",
    "\n",
    "dtype = QUInt(3)  # 3-bit integer for demonstration purposes\n",
    "\n",
    "# We'll use BloqBuilder directly. In the standard library this would\n",
    "# be the `build_composite_bloq` method on the `BitwiseNot` bloq class\n",
    "bb = BloqBuilder()\n",
    "x = bb.add_register_from_dtype('x', dtype)\n",
    "\n",
    "# First, we split up the bits using the `.split` helper method on BloqBuilder.\n",
    "# It returns a numpy array of quantum variables.\n",
    "x_bits = bb.split(x)\n",
    "\n",
    "# Then, we apply the XGate to each bit. Remember that each quantum variable\n",
    "# must be used exactly once, so the input bits are consumed by the XGate and\n",
    "# we get a new variable back that we store in our `x_bits` array.\n",
    "for i in range(len(x_bits)):\n",
    "    x_bits[i] = bb.add(XGate(), q=x_bits[i])\n",
    "\n",
    "# For users calling this bloq, we want the fact that we split up all the bits\n",
    "# to be an \"implementation detail\"; so we re-join our output bits back into\n",
    "# a 3-bit unsigned integer\n",
    "x = bb.join(x_bits, dtype=dtype)\n",
    "\n",
    "# Finish up and draw a diagram\n",
    "cbloq = bb.finalize(x=x)\n",
    "show_bloq(cbloq)"
   ]
  },
  {
   "cell_type": "markdown",
   "id": "a0c2d228-8f1e-4d7b-938e-4b59430aa27d",
   "metadata": {},
   "source": [
    "## Endianness\n",
    "\n",
    "The Qualtran data types use a big-endian bit convention. The most significant bit is at index 0."
   ]
  },
  {
   "cell_type": "code",
   "execution_count": 6,
   "id": "bbe875d9-7a15-488c-ad19-02cd0487765a",
   "metadata": {},
   "outputs": [
    {
     "data": {
      "text/plain": [
       "[0, 0, 1, 1, 0, 0, 0, 0]"
      ]
     },
     "execution_count": 6,
     "metadata": {},
     "output_type": "execute_result"
    }
   ],
   "source": [
    "QUInt(8).to_bits(x=0x30)"
   ]
  },
  {
   "cell_type": "markdown",
   "id": "08a9d5cd-ef4e-4695-b992-e8c7f777248a",
   "metadata": {},
   "source": [
    "## Casting and QAny\n",
    "\n",
    "In general, we can cast from one data type to another using the `Cast` bloq. The system will validate that the number of bits between the two data types match, but this operation must still be done with some care.\n",
    "\n",
    "When type checking is irrelevant, you can use the `QAny(n)` type to represent an arbitrary collection of qubits that doesn't necessarily encode anything. \n",
    "\n",
    "Below, we allocate individual qubits and then join them into a new quantum variable. Since there's no type information, the resulting variable will have the `QAny(3)` type. We can declare that this should encode a `QUInt(3)` by using a `Cast`. (There's also a `dtype` argument to `bb.join`, which you would probably use in practice)."
   ]
  },
  {
   "cell_type": "code",
   "execution_count": 7,
   "id": "3ecf4057-9ea9-4854-8b66-d5b041a8cc49",
   "metadata": {},
   "outputs": [
    {
     "data": {
      "image/svg+xml": [
       "<svg xmlns=\"http://www.w3.org/2000/svg\" xmlns:xlink=\"http://www.w3.org/1999/xlink\" width=\"253pt\" height=\"158pt\" viewBox=\"0.00 0.00 253.00 158.00\">\n",
       "<g id=\"graph0\" class=\"graph\" transform=\"scale(1 1) rotate(0) translate(4 154)\">\n",
       "<title>my_graph</title>\n",
       "<polygon fill=\"white\" stroke=\"transparent\" points=\"-4,4 -4,-154 249,-154 249,4 -4,4\"/>\n",
       "<!-- Join -->\n",
       "<g id=\"node1\" class=\"node\">\n",
       "<title>Join</title>\n",
       "<polygon fill=\"none\" stroke=\"black\" points=\"57,-75 57,-81 69,-81 69,-75 57,-75\"/>\n",
       "<polygon fill=\"none\" stroke=\"black\" points=\"57,-69 57,-75 63,-75 63,-69 57,-69\"/>\n",
       "<polygon fill=\"none\" stroke=\"black\" points=\"63,-57 63,-75 69,-75 69,-57 63,-57\"/>\n",
       "<polygon fill=\"none\" stroke=\"black\" points=\"57,-63 57,-69 63,-69 63,-63 57,-63\"/>\n",
       "<polygon fill=\"none\" stroke=\"black\" points=\"57,-57 57,-63 63,-63 63,-57 57,-57\"/>\n",
       "</g>\n",
       "<!-- Cast -->\n",
       "<g id=\"node3\" class=\"node\">\n",
       "<title>Cast</title>\n",
       "<polygon fill=\"none\" stroke=\"black\" points=\"106,-77 106,-94 154,-94 154,-77 106,-77\"/>\n",
       "<text text-anchor=\"start\" x=\"120.5\" y=\"-83\" font-family=\"Times,serif\" font-size=\"10.00\">Cast</text>\n",
       "<polygon fill=\"none\" stroke=\"black\" points=\"106,-56 106,-77 130,-77 130,-56 106,-56\"/>\n",
       "<text text-anchor=\"start\" x=\"109\" y=\"-62.8\" font-family=\"Times,serif\" font-size=\"14.00\">reg</text>\n",
       "<polygon fill=\"none\" stroke=\"black\" points=\"130,-56 130,-77 154,-77 154,-56 130,-56\"/>\n",
       "<text text-anchor=\"start\" x=\"133\" y=\"-62.8\" font-family=\"Times,serif\" font-size=\"14.00\">reg</text>\n",
       "</g>\n",
       "<!-- Join&#45;&gt;Cast -->\n",
       "<g id=\"edge4\" class=\"edge\">\n",
       "<title>Join:e-&gt;Cast:w</title>\n",
       "<path fill=\"none\" stroke=\"black\" d=\"M69,-66C84.67,-66 89.14,-66 103.77,-66\"/>\n",
       "<ellipse fill=\"black\" stroke=\"black\" cx=\"105\" cy=\"-66\" rx=\"1\" ry=\"1\"/>\n",
       "<text text-anchor=\"middle\" x=\"87.5\" y=\"-69\" font-family=\"Times,serif\" font-size=\"10.00\">3</text>\n",
       "</g>\n",
       "<!-- ZeroState -->\n",
       "<g id=\"node2\" class=\"node\">\n",
       "<title>ZeroState</title>\n",
       "<polygon fill=\"none\" stroke=\"black\" points=\"0,-21 0,-38 20,-38 20,-21 0,-21\"/>\n",
       "<text text-anchor=\"start\" x=\"3\" y=\"-27\" font-family=\"Times,serif\" font-size=\"10.00\">|0&gt;</text>\n",
       "<polygon fill=\"none\" stroke=\"black\" points=\"0,0 0,-21 6,-21 6,0 0,0\"/>\n",
       "<polygon fill=\"none\" stroke=\"black\" points=\"6,0 6,-21 20,-21 20,0 6,0\"/>\n",
       "<text text-anchor=\"start\" x=\"9.5\" y=\"-6.8\" font-family=\"Times,serif\" font-size=\"14.00\">q</text>\n",
       "</g>\n",
       "<!-- ZeroState&#45;&gt;Join -->\n",
       "<g id=\"edge3\" class=\"edge\">\n",
       "<title>ZeroState:e-&gt;Join:w</title>\n",
       "<path fill=\"none\" stroke=\"black\" d=\"M20,-10C46.89,-10 30.32,-57.3 54.83,-59.89\"/>\n",
       "<ellipse fill=\"black\" stroke=\"black\" cx=\"56\" cy=\"-59.95\" rx=\"1\" ry=\"1\"/>\n",
       "<text text-anchor=\"middle\" x=\"38.5\" y=\"-40\" font-family=\"Times,serif\" font-size=\"10.00\">1</text>\n",
       "</g>\n",
       "<!-- x -->\n",
       "<g id=\"node6\" class=\"node\">\n",
       "<title>x</title>\n",
       "<text text-anchor=\"middle\" x=\"218\" y=\"-62.3\" font-family=\"Times,serif\" font-size=\"14.00\">x</text>\n",
       "</g>\n",
       "<!-- Cast&#45;&gt;x -->\n",
       "<g id=\"edge5\" class=\"edge\">\n",
       "<title>Cast:e-&gt;x:w</title>\n",
       "<path fill=\"none\" stroke=\"black\" d=\"M154,-66C169.67,-66 174.14,-66 188.77,-66\"/>\n",
       "<ellipse fill=\"black\" stroke=\"black\" cx=\"190\" cy=\"-66\" rx=\"1\" ry=\"1\"/>\n",
       "<text text-anchor=\"middle\" x=\"172.5\" y=\"-69\" font-family=\"Times,serif\" font-size=\"10.00\">3</text>\n",
       "</g>\n",
       "<!-- ZeroState_G1 -->\n",
       "<g id=\"node4\" class=\"node\">\n",
       "<title>ZeroState_G1</title>\n",
       "<polygon fill=\"none\" stroke=\"black\" points=\"0,-133 0,-150 20,-150 20,-133 0,-133\"/>\n",
       "<text text-anchor=\"start\" x=\"3\" y=\"-139\" font-family=\"Times,serif\" font-size=\"10.00\">|0&gt;</text>\n",
       "<polygon fill=\"none\" stroke=\"black\" points=\"0,-112 0,-133 6,-133 6,-112 0,-112\"/>\n",
       "<polygon fill=\"none\" stroke=\"black\" points=\"6,-112 6,-133 20,-133 20,-112 6,-112\"/>\n",
       "<text text-anchor=\"start\" x=\"9.5\" y=\"-118.8\" font-family=\"Times,serif\" font-size=\"14.00\">q</text>\n",
       "</g>\n",
       "<!-- ZeroState_G1&#45;&gt;Join -->\n",
       "<g id=\"edge1\" class=\"edge\">\n",
       "<title>ZeroState_G1:e-&gt;Join:w</title>\n",
       "<path fill=\"none\" stroke=\"black\" d=\"M20,-122C46.89,-122 30.32,-74.7 54.83,-72.11\"/>\n",
       "<ellipse fill=\"black\" stroke=\"black\" cx=\"56\" cy=\"-72.05\" rx=\"1\" ry=\"1\"/>\n",
       "<text text-anchor=\"middle\" x=\"38.5\" y=\"-101\" font-family=\"Times,serif\" font-size=\"10.00\">1</text>\n",
       "</g>\n",
       "<!-- ZeroState_G3 -->\n",
       "<g id=\"node5\" class=\"node\">\n",
       "<title>ZeroState_G3</title>\n",
       "<polygon fill=\"none\" stroke=\"black\" points=\"0,-77 0,-94 20,-94 20,-77 0,-77\"/>\n",
       "<text text-anchor=\"start\" x=\"3\" y=\"-83\" font-family=\"Times,serif\" font-size=\"10.00\">|0&gt;</text>\n",
       "<polygon fill=\"none\" stroke=\"black\" points=\"0,-56 0,-77 6,-77 6,-56 0,-56\"/>\n",
       "<polygon fill=\"none\" stroke=\"black\" points=\"6,-56 6,-77 20,-77 20,-56 6,-56\"/>\n",
       "<text text-anchor=\"start\" x=\"9.5\" y=\"-62.8\" font-family=\"Times,serif\" font-size=\"14.00\">q</text>\n",
       "</g>\n",
       "<!-- ZeroState_G3&#45;&gt;Join -->\n",
       "<g id=\"edge2\" class=\"edge\">\n",
       "<title>ZeroState_G3:e-&gt;Join:w</title>\n",
       "<path fill=\"none\" stroke=\"black\" d=\"M20,-66C35.67,-66 40.14,-66 54.77,-66\"/>\n",
       "<ellipse fill=\"black\" stroke=\"black\" cx=\"56\" cy=\"-66\" rx=\"1\" ry=\"1\"/>\n",
       "<text text-anchor=\"middle\" x=\"38.5\" y=\"-69\" font-family=\"Times,serif\" font-size=\"10.00\">1</text>\n",
       "</g>\n",
       "</g>\n",
       "</svg>"
      ],
      "text/plain": [
       "<IPython.core.display.SVG object>"
      ]
     },
     "metadata": {},
     "output_type": "display_data"
    }
   ],
   "source": [
    "bb = BloqBuilder()\n",
    "\n",
    "# Make three |0> qubits\n",
    "qs = [bb.add(ZeroState()) for _ in range(3)]\n",
    "\n",
    "# Join them into one quantum variable. Since\n",
    "# we don't specify a type, `x` is `QAny(3)`. \n",
    "x = bb.join(qs)\n",
    "\n",
    "# Maybe we're trying to allocate an unsigned integer.\n",
    "from qualtran.bloqs.bookkeeping import Cast\n",
    "from qualtran import QAny\n",
    "x = bb.add(Cast(inp_dtype=QAny(3), out_dtype=QUInt(3)), reg=x)\n",
    "\n",
    "cbloq = bb.finalize(x=x)\n",
    "show_bloq(cbloq)"
   ]
  },
  {
   "cell_type": "markdown",
   "id": "e6987d5b-1465-47dd-894e-f966cadb868f",
   "metadata": {},
   "source": [
    "## Type checking\n",
    "\n",
    "When wiring up bloqs, the data types must be compatible. \n",
    "\n",
    " - When the two data types are the same, they are always compatible\n",
    " - All single-qubit data types are compatible\n",
    "\n",
    "The consistency checking functions accept a severity parameter. If it is set to `STRICT`, then nothing outside of the above two rules are compatible. If it is set to `LOOSE` (the default), the following pairs are also compatible:\n",
    "\n",
    " - `QAny` is compatible with any other data type if its number of qubits match\n",
    " - Integer types are mutually compatible if the number of qubits match\n",
    " - An unsigned `QFxp` fixed-point with only an integer part is compatible with integer types."
   ]
  },
  {
   "cell_type": "code",
   "execution_count": 8,
   "id": "9f4e4a13-e112-4b7e-95e1-6fee0168d989",
   "metadata": {},
   "outputs": [
    {
     "name": "stdout",
     "output_type": "stream",
     "text": [
      "same   True\n",
      "1bit   True\n",
      "qany   True False\n",
      "qint   True False\n",
      "diff   False\n"
     ]
    }
   ],
   "source": [
    "from qualtran import QDTypeCheckingSeverity, check_dtypes_consistent\n",
    "\n",
    "print('same  ', check_dtypes_consistent(QUInt(3), QUInt(3)))\n",
    "print('1bit  ', check_dtypes_consistent(QBit(), QAny(1)))\n",
    "print('qany  ',\n",
    "    check_dtypes_consistent(QAny(3), QUInt(3)),\n",
    "    check_dtypes_consistent(QAny(3), QUInt(3), QDTypeCheckingSeverity.STRICT)\n",
    ")\n",
    "from qualtran import QInt\n",
    "print('qint  ', \n",
    "    check_dtypes_consistent(QUInt(3), QInt(3)),\n",
    "    check_dtypes_consistent(QUInt(3), QInt(3), QDTypeCheckingSeverity.STRICT)\n",
    ")\n",
    "print('diff  ', check_dtypes_consistent(QAny(3), QAny(4)))"
   ]
  },
  {
   "cell_type": "markdown",
   "id": "a27b83f4-44e4-4b53-a878-ecce6a100675",
   "metadata": {},
   "source": [
    "## `QDType`, `CDType`, and `QCDType`\n",
    "\n",
    "Quantum variables are essential when authoring quantum programs, but we live in a classical world. Measuring a qubit yields a classical bit, and a program can do classical branching (choosing which quantum operations to execute based on a classical bit). Each data type we've seen so far is a quantum data type and inherits from `QDType`. "
   ]
  },
  {
   "cell_type": "code",
   "execution_count": 9,
   "id": "06c5c158-555b-48cd-b612-e00d03b82f70",
   "metadata": {},
   "outputs": [
    {
     "name": "stdout",
     "output_type": "stream",
     "text": [
      "QBit()   is QDType: True ; num_qubits = 1\n",
      "QUInt(4) is QDType: True ; num_qubits = 4\n"
     ]
    }
   ],
   "source": [
    "from qualtran import QDType\n",
    "\n",
    "print(\"QBit()   is QDType:\", isinstance(QBit(), QDType),   \"; num_qubits =\", QBit().num_qubits)\n",
    "print(\"QUInt(4) is QDType:\", isinstance(QUInt(4), QDType), \"; num_qubits =\", QUInt(4).num_qubits)"
   ]
  },
  {
   "cell_type": "markdown",
   "id": "c434a68e-b691-4a35-bc81-49b7159728f8",
   "metadata": {},
   "source": [
    "There is a more general base class: `QCDType` that includes both quantum and classical data types. Classical data types inherit from `CDType`"
   ]
  },
  {
   "cell_type": "code",
   "execution_count": 10,
   "id": "c983e4cb-ac84-497b-883f-3a71abf6878f",
   "metadata": {},
   "outputs": [
    {
     "name": "stdout",
     "output_type": "stream",
     "text": [
      "dtype      QCDType?  QDType?   CDType?    bits qubits  cbits\n",
      "------------------------------------------------------------\n",
      "QBit()     True      True      False         1      1      0\n",
      "QUInt(4)   True      True      False         4      4      0\n",
      "CBit()     True      False     True          1      0      1\n"
     ]
    }
   ],
   "source": [
    "from qualtran import QCDType, QDType, CDType, CBit\n",
    "\n",
    "dtypes = [QBit(), QUInt(4), CBit()]\n",
    "\n",
    "print(f\"{'dtype':10} {'QCDType?':9s} {'QDType?':9s} {'CDType?':9s}\"\n",
    "      f\"{'bits':>6s} {'qubits':>6s} {'cbits':>6s}\"\n",
    "     )\n",
    "print(\"-\"*60)\n",
    "for dtype in dtypes:\n",
    "    print(f\"{dtype!s:10} {isinstance(dtype, QCDType)!s:9} {isinstance(dtype, QDType)!s:9} {isinstance(dtype, CDType)!s:9}\"\n",
    "          f\"{dtype.num_bits:6d} {dtype.num_qubits:6d} {dtype.num_cbits:6d}\"\n",
    "         )"
   ]
  }
 ],
 "metadata": {
  "kernelspec": {
   "display_name": "Python 3 (ipykernel)",
   "language": "python",
   "name": "python3"
  },
  "language_info": {
   "codemirror_mode": {
    "name": "ipython",
    "version": 3
   },
   "file_extension": ".py",
   "mimetype": "text/x-python",
   "name": "python",
   "nbconvert_exporter": "python",
   "pygments_lexer": "ipython3",
   "version": "3.11.8"
  }
 },
 "nbformat": 4,
 "nbformat_minor": 5
}
