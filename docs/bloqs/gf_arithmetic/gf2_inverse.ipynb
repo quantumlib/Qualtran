{
 "cells": [
  {
   "cell_type": "markdown",
   "id": "25463ba5",
   "metadata": {
    "cq.autogen": "title_cell"
   },
   "source": [
    "# GF($2^m$) Inverse"
   ]
  },
  {
   "cell_type": "code",
   "execution_count": 1,
   "id": "38263a0a",
   "metadata": {
    "cq.autogen": "top_imports"
   },
   "outputs": [],
   "source": [
    "from qualtran import Bloq, CompositeBloq, BloqBuilder, Signature, Register\n",
    "from qualtran import QBit, QInt, QUInt, QAny\n",
    "from qualtran.drawing import show_bloq, show_call_graph, show_counts_sigma\n",
    "from typing import *\n",
    "import numpy as np\n",
    "import sympy\n",
    "import cirq"
   ]
  },
  {
   "cell_type": "markdown",
   "id": "9054cbbb",
   "metadata": {
    "cq.autogen": "GF2Inverse.bloq_doc.md"
   },
   "source": [
    "## `GF2Inverse`\n",
    "Out of place inversion for elements in GF($2^m$)\n",
    "\n",
    "Given a quantum register storing elements from GF($2^m$), this bloq computes the inverse\n",
    "of the given element in a new output register, out-of-place. Specifically,\n",
    "it implements the transformation\n",
    "\n",
    "$$\n",
    "    |a\\rangle |0\\rangle \\rightarrow |a\\rangle |a^{-1}\\rangle\n",
    "$$\n",
    "\n",
    "Inverse is computed by using Fermat's little theorem for Finite Fields, which states that\n",
    "for a finite field $\\mathbb{F}$ with $m$ elements, $\\forall a \\in \\mathbb{F}$\n",
    "$$\n",
    "    a^{m} = a\n",
    "$$\n",
    "\n",
    "When the finite field is GF($2^m$), Fermat's little theorem can be used to obtain the relation\n",
    "\n",
    "$$\n",
    "    a^{-1} = a^{2^m - 2}\n",
    "$$\n",
    "\n",
    "The exponential $a^{2^m - 2}$ is computed using $\\mathcal{O}(m)$ squaring and\n",
    "$\\mathcal{O}(\\log_2(m))$ multiplications via Itoh-Tsujii inversion. The algorithm is described on\n",
    "page 4 and 5 of Ref[1] and resembles binary exponentiation. The inverse is computed as $B_{n-1}^2$,\n",
    "where $B_1 = x$ and $B_{i+j} = B_i B_j^{2^i}$.\n",
    "\n",
    "#### Parameters\n",
    " - `bitsize`: The degree $m$ of the galois field $GF(2^m)$. Also corresponds to the number of qubits in the input register whose inverse should be calculated. \n",
    "\n",
    "#### Registers\n",
    " - `x`: Input THRU register of size $m$ that stores elements from $GF(2^m)$.\n",
    " - `result`: Output RIGHT register of size $m$ that stores $x^{-1}$ from $GF(2^m)$.\n",
    " - `junk`: Output RIGHT register of size $m$ and shape ($m - 2$) that stores results from intermediate multiplications. \n",
    "\n",
    "#### References\n",
    " - [Efficient quantum circuits for binary elliptic curve arithmetic: reducing T-gate complexity](https://arxiv.org/abs/1209.6348). Amento et al. 2012. Section 2.3\n",
    " - [Structure of parallel multipliers for a class of fields GF(2^m)](https://doi.org/10.1016/0890-5401(89)90045-X). Itoh and Tsujii. 1989.\n"
   ]
  },
  {
   "cell_type": "code",
   "execution_count": 2,
   "id": "b3a43c81",
   "metadata": {
    "cq.autogen": "GF2Inverse.bloq_doc.py"
   },
   "outputs": [],
   "source": [
    "from qualtran.bloqs.gf_arithmetic import GF2Inverse"
   ]
  },
  {
   "cell_type": "markdown",
   "id": "b0bf14cc",
   "metadata": {
    "cq.autogen": "GF2Inverse.example_instances.md"
   },
   "source": [
    "### Example Instances"
   ]
  },
  {
   "cell_type": "code",
   "execution_count": 3,
   "id": "f6ce3222",
   "metadata": {
    "cq.autogen": "GF2Inverse.gf16_inverse"
   },
   "outputs": [],
   "source": [
    "gf16_inverse = GF2Inverse(4)"
   ]
  },
  {
   "cell_type": "code",
   "execution_count": 4,
   "id": "6c26f44f",
   "metadata": {
    "cq.autogen": "GF2Inverse.gf2_inverse_symbolic"
   },
   "outputs": [],
   "source": [
    "import sympy\n",
    "\n",
    "m = sympy.Symbol('m')\n",
    "gf2_inverse_symbolic = GF2Inverse(m)"
   ]
  },
  {
   "cell_type": "markdown",
   "id": "c813ddef",
   "metadata": {
    "cq.autogen": "GF2Inverse.graphical_signature.md"
   },
   "source": [
    "#### Graphical Signature"
   ]
  },
  {
   "cell_type": "code",
   "execution_count": 5,
   "id": "591221ff",
   "metadata": {
    "cq.autogen": "GF2Inverse.graphical_signature.py"
   },
   "outputs": [
    {
     "data": {
      "application/vnd.jupyter.widget-view+json": {
       "model_id": "9196648994f0427baa133004a5f4430c",
       "version_major": 2,
       "version_minor": 0
      },
      "text/plain": [
       "HBox(children=(Output(outputs=({'output_type': 'display_data', 'data': {'text/plain': '<IPython.core.display.M…"
      ]
     },
     "metadata": {},
     "output_type": "display_data"
    }
   ],
   "source": [
    "from qualtran.drawing import show_bloqs\n",
    "show_bloqs([gf16_inverse],\n",
    "           ['`gf16_inverse`'])"
   ]
  },
  {
   "cell_type": "markdown",
   "id": "c96fb97d",
   "metadata": {
    "cq.autogen": "GF2Inverse.call_graph.md"
   },
   "source": [
    "### Call Graph"
   ]
  },
  {
   "cell_type": "code",
   "execution_count": 6,
   "id": "67aeeb6c",
   "metadata": {
    "cq.autogen": "GF2Inverse.call_graph.py"
   },
   "outputs": [
    {
     "data": {
      "image/svg+xml": [
       "<svg xmlns=\"http://www.w3.org/2000/svg\" xmlns:xlink=\"http://www.w3.org/1999/xlink\" width=\"310pt\" height=\"131pt\" viewBox=\"0.00 0.00 310.00 131.00\">\n",
       "<g id=\"graph0\" class=\"graph\" transform=\"scale(1 1) rotate(0) translate(4 127)\">\n",
       "<title>counts</title>\n",
       "<polygon fill=\"white\" stroke=\"transparent\" points=\"-4,4 -4,-127 306,-127 306,4 -4,4\"/>\n",
       "<!-- b0 -->\n",
       "<g id=\"node1\" class=\"node\">\n",
       "<title>b0</title>\n",
       "<polygon fill=\"none\" stroke=\"black\" points=\"109,-93 109,-116 169,-116 169,-93 109,-93\"/>\n",
       "<text text-anchor=\"start\" x=\"115\" y=\"-102\" font-family=\"Times,serif\" font-size=\"10.00\">GF2Inverse</text>\n",
       "</g>\n",
       "<!-- b1 -->\n",
       "<g id=\"node2\" class=\"node\">\n",
       "<title>b1</title>\n",
       "<polygon fill=\"none\" stroke=\"black\" points=\"8,-6 8,-29 76,-29 76,-6 8,-6\"/>\n",
       "<text text-anchor=\"start\" x=\"14\" y=\"-15\" font-family=\"Times,serif\" font-size=\"10.00\">GF2Addition</text>\n",
       "</g>\n",
       "<!-- b0&#45;&gt;b1 -->\n",
       "<g id=\"edge1\" class=\"edge\">\n",
       "<title>b0-&gt;b1</title>\n",
       "<path fill=\"none\" stroke=\"black\" d=\"M119.37,-86.8C105.04,-74.24 85.42,-57.05 69.53,-43.12\"/>\n",
       "<polygon fill=\"black\" stroke=\"black\" points=\"71.43,-40.13 61.6,-36.18 66.81,-45.4 71.43,-40.13\"/>\n",
       "<text text-anchor=\"middle\" x=\"100.5\" y=\"-57.8\" font-family=\"Times,serif\" font-size=\"14.00\">4</text>\n",
       "</g>\n",
       "<!-- b2 -->\n",
       "<g id=\"node3\" class=\"node\">\n",
       "<title>b2</title>\n",
       "<polygon fill=\"none\" stroke=\"black\" points=\"110,-6 110,-29 168,-29 168,-6 110,-6\"/>\n",
       "<text text-anchor=\"start\" x=\"116\" y=\"-15\" font-family=\"Times,serif\" font-size=\"10.00\">GF2Square</text>\n",
       "</g>\n",
       "<!-- b0&#45;&gt;b2 -->\n",
       "<g id=\"edge2\" class=\"edge\">\n",
       "<title>b0-&gt;b2</title>\n",
       "<path fill=\"none\" stroke=\"black\" d=\"M139,-86.8C139,-75.16 139,-59.55 139,-46.24\"/>\n",
       "<polygon fill=\"black\" stroke=\"black\" points=\"142.5,-46.18 139,-36.18 135.5,-46.18 142.5,-46.18\"/>\n",
       "<text text-anchor=\"middle\" x=\"142.5\" y=\"-57.8\" font-family=\"Times,serif\" font-size=\"14.00\">6</text>\n",
       "</g>\n",
       "<!-- b3 -->\n",
       "<g id=\"node4\" class=\"node\">\n",
       "<title>b3</title>\n",
       "<polygon fill=\"none\" stroke=\"black\" points=\"202,-6 202,-29 294,-29 294,-6 202,-6\"/>\n",
       "<text text-anchor=\"start\" x=\"208.5\" y=\"-15\" font-family=\"Times,serif\" font-size=\"10.00\">GF2Multiplication</text>\n",
       "</g>\n",
       "<!-- b0&#45;&gt;b3 -->\n",
       "<g id=\"edge3\" class=\"edge\">\n",
       "<title>b0-&gt;b3</title>\n",
       "<path fill=\"none\" stroke=\"black\" d=\"M161.06,-86.8C177.46,-74.01 200.02,-56.42 218.05,-42.36\"/>\n",
       "<polygon fill=\"black\" stroke=\"black\" points=\"220.24,-45.08 225.98,-36.18 215.94,-39.56 220.24,-45.08\"/>\n",
       "<text text-anchor=\"middle\" x=\"203.5\" y=\"-57.8\" font-family=\"Times,serif\" font-size=\"14.00\">3</text>\n",
       "</g>\n",
       "</g>\n",
       "</svg>"
      ],
      "text/plain": [
       "<IPython.core.display.SVG object>"
      ]
     },
     "metadata": {},
     "output_type": "display_data"
    },
    {
     "data": {
      "text/markdown": [
       "#### Counts totals:\n",
       " - `GF2Addition`: 4\n",
       " - `GF2Multiplication`: 3\n",
       " - `GF2Square`: 6"
      ],
      "text/plain": [
       "<IPython.core.display.Markdown object>"
      ]
     },
     "metadata": {},
     "output_type": "display_data"
    }
   ],
   "source": [
    "from qualtran.resource_counting.generalizers import ignore_split_join\n",
    "gf16_inverse_g, gf16_inverse_sigma = gf16_inverse.call_graph(max_depth=1, generalizer=ignore_split_join)\n",
    "show_call_graph(gf16_inverse_g)\n",
    "show_counts_sigma(gf16_inverse_sigma)"
   ]
  }
 ],
 "metadata": {
  "kernelspec": {
   "display_name": "Python 3",
   "language": "python",
   "name": "python3"
  },
  "language_info": {
   "codemirror_mode": {
    "name": "ipython",
    "version": 3
   },
   "file_extension": ".py",
   "mimetype": "text/x-python",
   "name": "python",
   "nbconvert_exporter": "python",
   "pygments_lexer": "ipython3",
   "version": "3.11.8"
  },
  "widgets": {
   "application/vnd.jupyter.widget-state+json": {
    "state": {
     "5e752fa570e542d0b84877d5b833e2e1": {
      "model_module": "@jupyter-widgets/output",
      "model_module_version": "1.0.0",
      "model_name": "OutputModel",
      "state": {
       "_dom_classes": [],
       "_model_module": "@jupyter-widgets/output",
       "_model_module_version": "1.0.0",
       "_model_name": "OutputModel",
       "_view_count": null,
       "_view_module": "@jupyter-widgets/output",
       "_view_module_version": "1.0.0",
       "_view_name": "OutputView",
       "layout": "IPY_MODEL_d931f0ba31264718938e322728c2c605",
       "msg_id": "",
       "outputs": [
        {
         "data": {
          "text/markdown": "`gf16_inverse`",
          "text/plain": "<IPython.core.display.Markdown object>"
         },
         "metadata": {},
         "output_type": "display_data"
        },
        {
         "data": {
          "image/svg+xml": "<svg xmlns=\"http://www.w3.org/2000/svg\" xmlns:xlink=\"http://www.w3.org/1999/xlink\" width=\"246pt\" height=\"422pt\" viewBox=\"0.00 0.00 246.00 422.00\">\n<g id=\"graph0\" class=\"graph\" transform=\"scale(1 1) rotate(0) translate(4 418)\">\n<title>my_graph</title>\n<polygon fill=\"white\" stroke=\"transparent\" points=\"-4,4 -4,-418 242,-418 242,4 -4,4\"/>\n<!-- x_G9 -->\n<g id=\"node1\" class=\"node\">\n<title>x_G9</title>\n<text text-anchor=\"middle\" x=\"27\" y=\"-277.3\" font-family=\"Times,serif\" font-size=\"14.00\">x</text>\n</g>\n<!-- GF2Inverse -->\n<g id=\"node2\" class=\"node\">\n<title>GF2Inverse</title>\n<polygon fill=\"none\" stroke=\"black\" points=\"91,-291 91,-308 145,-308 145,-291 91,-291\"/>\n<text text-anchor=\"start\" x=\"94\" y=\"-297\" font-family=\"Times,serif\" font-size=\"10.00\">GF2Inverse</text>\n<polygon fill=\"none\" stroke=\"black\" points=\"91,-270 91,-291 145,-291 145,-270 91,-270\"/>\n<text text-anchor=\"start\" x=\"114.5\" y=\"-276.8\" font-family=\"Times,serif\" font-size=\"14.00\">x</text>\n<polygon fill=\"none\" stroke=\"black\" points=\"91,-249 91,-270 98,-270 98,-249 91,-249\"/>\n<polygon fill=\"none\" stroke=\"black\" points=\"98,-249 98,-270 145,-270 145,-249 98,-249\"/>\n<text text-anchor=\"start\" x=\"106\" y=\"-255.8\" font-family=\"Times,serif\" font-size=\"14.00\">result</text>\n<polygon fill=\"none\" stroke=\"black\" points=\"91,-228 91,-249 98,-249 98,-228 91,-228\"/>\n<polygon fill=\"none\" stroke=\"black\" points=\"98,-228 98,-249 145,-249 145,-228 98,-228\"/>\n<text text-anchor=\"start\" x=\"101.5\" y=\"-234.8\" font-family=\"Times,serif\" font-size=\"14.00\">junk[0]</text>\n<polygon fill=\"none\" stroke=\"black\" points=\"91,-207 91,-228 98,-228 98,-207 91,-207\"/>\n<polygon fill=\"none\" stroke=\"black\" points=\"98,-207 98,-228 145,-228 145,-207 98,-207\"/>\n<text text-anchor=\"start\" x=\"101.5\" y=\"-213.8\" font-family=\"Times,serif\" font-size=\"14.00\">junk[1]</text>\n<polygon fill=\"none\" stroke=\"black\" points=\"91,-186 91,-207 98,-207 98,-186 91,-186\"/>\n<polygon fill=\"none\" stroke=\"black\" points=\"98,-186 98,-207 145,-207 145,-186 98,-186\"/>\n<text text-anchor=\"start\" x=\"101.5\" y=\"-192.8\" font-family=\"Times,serif\" font-size=\"14.00\">junk[2]</text>\n<polygon fill=\"none\" stroke=\"black\" points=\"91,-165 91,-186 98,-186 98,-165 91,-165\"/>\n<polygon fill=\"none\" stroke=\"black\" points=\"98,-165 98,-186 145,-186 145,-165 98,-165\"/>\n<text text-anchor=\"start\" x=\"101.5\" y=\"-171.8\" font-family=\"Times,serif\" font-size=\"14.00\">junk[3]</text>\n<polygon fill=\"none\" stroke=\"black\" points=\"91,-144 91,-165 98,-165 98,-144 91,-144\"/>\n<polygon fill=\"none\" stroke=\"black\" points=\"98,-144 98,-165 145,-165 145,-144 98,-144\"/>\n<text text-anchor=\"start\" x=\"101.5\" y=\"-150.8\" font-family=\"Times,serif\" font-size=\"14.00\">junk[4]</text>\n<polygon fill=\"none\" stroke=\"black\" points=\"91,-123 91,-144 98,-144 98,-123 91,-123\"/>\n<polygon fill=\"none\" stroke=\"black\" points=\"98,-123 98,-144 145,-144 145,-123 98,-123\"/>\n<text text-anchor=\"start\" x=\"101.5\" y=\"-129.8\" font-family=\"Times,serif\" font-size=\"14.00\">junk[5]</text>\n</g>\n<!-- x_G9&#45;&gt;GF2Inverse -->\n<g id=\"edge1\" class=\"edge\">\n<title>x_G9:e-&gt;GF2Inverse:w</title>\n<path fill=\"none\" stroke=\"black\" d=\"M54,-281C69.67,-281 74.14,-281 88.77,-281\"/>\n<ellipse fill=\"black\" stroke=\"black\" cx=\"90\" cy=\"-281\" rx=\"1\" ry=\"1\"/>\n<text text-anchor=\"middle\" x=\"72.5\" y=\"-284\" font-family=\"Times,serif\" font-size=\"10.00\">4</text>\n</g>\n<!-- x_G14 -->\n<g id=\"node3\" class=\"node\">\n<title>x_G14</title>\n<text text-anchor=\"middle\" x=\"210\" y=\"-392.3\" font-family=\"Times,serif\" font-size=\"14.00\">x</text>\n</g>\n<!-- GF2Inverse&#45;&gt;x_G14 -->\n<g id=\"edge2\" class=\"edge\">\n<title>GF2Inverse:e-&gt;x_G14:w</title>\n<path fill=\"none\" stroke=\"black\" d=\"M145,-281C171.11,-281 156.03,-389.8 179.89,-395.75\"/>\n<ellipse fill=\"black\" stroke=\"black\" cx=\"181.01\" cy=\"-395.88\" rx=\"1\" ry=\"1\"/>\n<text text-anchor=\"middle\" x=\"163.5\" y=\"-344\" font-family=\"Times,serif\" font-size=\"10.00\">4</text>\n</g>\n<!-- result_G1 -->\n<g id=\"node4\" class=\"node\">\n<title>result_G1</title>\n<text text-anchor=\"middle\" x=\"210\" y=\"-338.3\" font-family=\"Times,serif\" font-size=\"14.00\">result</text>\n</g>\n<!-- GF2Inverse&#45;&gt;result_G1 -->\n<g id=\"edge3\" class=\"edge\">\n<title>GF2Inverse:e-&gt;result_G1:w</title>\n<path fill=\"none\" stroke=\"black\" d=\"M145,-260C184.2,-260 143.66,-338.83 179.75,-341.91\"/>\n<ellipse fill=\"black\" stroke=\"black\" cx=\"181\" cy=\"-341.96\" rx=\"1\" ry=\"1\"/>\n<text text-anchor=\"middle\" x=\"163.5\" y=\"-327\" font-family=\"Times,serif\" font-size=\"10.00\">4</text>\n</g>\n<!-- junk_G13 -->\n<g id=\"node5\" class=\"node\">\n<title>junk_G13</title>\n<text text-anchor=\"middle\" x=\"210\" y=\"-284.3\" font-family=\"Times,serif\" font-size=\"14.00\">junk[0]</text>\n</g>\n<!-- GF2Inverse&#45;&gt;junk_G13 -->\n<g id=\"edge4\" class=\"edge\">\n<title>GF2Inverse:e-&gt;junk_G13:w</title>\n<path fill=\"none\" stroke=\"black\" d=\"M145,-239C171.54,-239 155.64,-285.36 179.86,-287.89\"/>\n<ellipse fill=\"black\" stroke=\"black\" cx=\"181\" cy=\"-287.95\" rx=\"1\" ry=\"1\"/>\n<text text-anchor=\"middle\" x=\"163.5\" y=\"-267\" font-family=\"Times,serif\" font-size=\"10.00\">4</text>\n</g>\n<!-- junk_G11 -->\n<g id=\"node6\" class=\"node\">\n<title>junk_G11</title>\n<text text-anchor=\"middle\" x=\"210\" y=\"-230.3\" font-family=\"Times,serif\" font-size=\"14.00\">junk[1]</text>\n</g>\n<!-- GF2Inverse&#45;&gt;junk_G11 -->\n<g id=\"edge5\" class=\"edge\">\n<title>GF2Inverse:e-&gt;junk_G11:w</title>\n<path fill=\"none\" stroke=\"black\" d=\"M145,-218C162.22,-218 163.97,-232.77 179.98,-233.93\"/>\n<ellipse fill=\"black\" stroke=\"black\" cx=\"181\" cy=\"-233.96\" rx=\"1\" ry=\"1\"/>\n<text text-anchor=\"middle\" x=\"163.5\" y=\"-229\" font-family=\"Times,serif\" font-size=\"10.00\">4</text>\n</g>\n<!-- junk_G15 -->\n<g id=\"node7\" class=\"node\">\n<title>junk_G15</title>\n<text text-anchor=\"middle\" x=\"210\" y=\"-176.3\" font-family=\"Times,serif\" font-size=\"14.00\">junk[2]</text>\n</g>\n<!-- GF2Inverse&#45;&gt;junk_G15 -->\n<g id=\"edge6\" class=\"edge\">\n<title>GF2Inverse:e-&gt;junk_G15:w</title>\n<path fill=\"none\" stroke=\"black\" d=\"M145,-196C162.22,-196 163.97,-181.23 179.98,-180.07\"/>\n<ellipse fill=\"black\" stroke=\"black\" cx=\"181\" cy=\"-180.04\" rx=\"1\" ry=\"1\"/>\n<text text-anchor=\"middle\" x=\"163.5\" y=\"-191\" font-family=\"Times,serif\" font-size=\"10.00\">4</text>\n</g>\n<!-- junk_G3 -->\n<g id=\"node8\" class=\"node\">\n<title>junk_G3</title>\n<text text-anchor=\"middle\" x=\"210\" y=\"-122.3\" font-family=\"Times,serif\" font-size=\"14.00\">junk[3]</text>\n</g>\n<!-- GF2Inverse&#45;&gt;junk_G3 -->\n<g id=\"edge7\" class=\"edge\">\n<title>GF2Inverse:e-&gt;junk_G3:w</title>\n<path fill=\"none\" stroke=\"black\" d=\"M145,-175C171.54,-175 155.64,-128.64 179.86,-126.11\"/>\n<ellipse fill=\"black\" stroke=\"black\" cx=\"181\" cy=\"-126.05\" rx=\"1\" ry=\"1\"/>\n<text text-anchor=\"middle\" x=\"163.5\" y=\"-154\" font-family=\"Times,serif\" font-size=\"10.00\">4</text>\n</g>\n<!-- junk_G6 -->\n<g id=\"node9\" class=\"node\">\n<title>junk_G6</title>\n<text text-anchor=\"middle\" x=\"210\" y=\"-68.3\" font-family=\"Times,serif\" font-size=\"14.00\">junk[4]</text>\n</g>\n<!-- GF2Inverse&#45;&gt;junk_G6 -->\n<g id=\"edge8\" class=\"edge\">\n<title>GF2Inverse:e-&gt;junk_G6:w</title>\n<path fill=\"none\" stroke=\"black\" d=\"M145,-154C184.2,-154 143.66,-75.17 179.75,-72.09\"/>\n<ellipse fill=\"black\" stroke=\"black\" cx=\"181\" cy=\"-72.04\" rx=\"1\" ry=\"1\"/>\n<text text-anchor=\"middle\" x=\"163.5\" y=\"-139\" font-family=\"Times,serif\" font-size=\"10.00\">4</text>\n</g>\n<!-- junk_G5 -->\n<g id=\"node10\" class=\"node\">\n<title>junk_G5</title>\n<text text-anchor=\"middle\" x=\"210\" y=\"-14.3\" font-family=\"Times,serif\" font-size=\"14.00\">junk[5]</text>\n</g>\n<!-- GF2Inverse&#45;&gt;junk_G5 -->\n<g id=\"edge9\" class=\"edge\">\n<title>GF2Inverse:e-&gt;junk_G5:w</title>\n<path fill=\"none\" stroke=\"black\" d=\"M145,-133C171.11,-133 156.03,-24.2 179.89,-18.25\"/>\n<ellipse fill=\"black\" stroke=\"black\" cx=\"181.01\" cy=\"-18.12\" rx=\"1\" ry=\"1\"/>\n<text text-anchor=\"middle\" x=\"163.5\" y=\"-82\" font-family=\"Times,serif\" font-size=\"10.00\">4</text>\n</g>\n</g>\n</svg>",
          "text/plain": "<IPython.core.display.SVG object>"
         },
         "metadata": {},
         "output_type": "display_data"
        }
       ],
       "tabbable": null,
       "tooltip": null
      }
     },
     "9196648994f0427baa133004a5f4430c": {
      "model_module": "@jupyter-widgets/controls",
      "model_module_version": "2.0.0",
      "model_name": "HBoxModel",
      "state": {
       "_dom_classes": [],
       "_model_module": "@jupyter-widgets/controls",
       "_model_module_version": "2.0.0",
       "_model_name": "HBoxModel",
       "_view_count": null,
       "_view_module": "@jupyter-widgets/controls",
       "_view_module_version": "2.0.0",
       "_view_name": "HBoxView",
       "box_style": "",
       "children": [
        "IPY_MODEL_5e752fa570e542d0b84877d5b833e2e1"
       ],
       "layout": "IPY_MODEL_f627f2c178ad455a9f2c010dbc155c19",
       "tabbable": null,
       "tooltip": null
      }
     },
     "d931f0ba31264718938e322728c2c605": {
      "model_module": "@jupyter-widgets/base",
      "model_module_version": "2.0.0",
      "model_name": "LayoutModel",
      "state": {
       "_model_module": "@jupyter-widgets/base",
       "_model_module_version": "2.0.0",
       "_model_name": "LayoutModel",
       "_view_count": null,
       "_view_module": "@jupyter-widgets/base",
       "_view_module_version": "2.0.0",
       "_view_name": "LayoutView",
       "align_content": null,
       "align_items": null,
       "align_self": null,
       "border_bottom": null,
       "border_left": null,
       "border_right": null,
       "border_top": null,
       "bottom": null,
       "display": null,
       "flex": null,
       "flex_flow": null,
       "grid_area": null,
       "grid_auto_columns": null,
       "grid_auto_flow": null,
       "grid_auto_rows": null,
       "grid_column": null,
       "grid_gap": null,
       "grid_row": null,
       "grid_template_areas": null,
       "grid_template_columns": null,
       "grid_template_rows": null,
       "height": null,
       "justify_content": null,
       "justify_items": null,
       "left": null,
       "margin": null,
       "max_height": null,
       "max_width": null,
       "min_height": null,
       "min_width": null,
       "object_fit": null,
       "object_position": null,
       "order": null,
       "overflow": null,
       "padding": null,
       "right": null,
       "top": null,
       "visibility": null,
       "width": null
      }
     },
     "f627f2c178ad455a9f2c010dbc155c19": {
      "model_module": "@jupyter-widgets/base",
      "model_module_version": "2.0.0",
      "model_name": "LayoutModel",
      "state": {
       "_model_module": "@jupyter-widgets/base",
       "_model_module_version": "2.0.0",
       "_model_name": "LayoutModel",
       "_view_count": null,
       "_view_module": "@jupyter-widgets/base",
       "_view_module_version": "2.0.0",
       "_view_name": "LayoutView",
       "align_content": null,
       "align_items": null,
       "align_self": null,
       "border_bottom": null,
       "border_left": null,
       "border_right": null,
       "border_top": null,
       "bottom": null,
       "display": null,
       "flex": null,
       "flex_flow": null,
       "grid_area": null,
       "grid_auto_columns": null,
       "grid_auto_flow": null,
       "grid_auto_rows": null,
       "grid_column": null,
       "grid_gap": null,
       "grid_row": null,
       "grid_template_areas": null,
       "grid_template_columns": null,
       "grid_template_rows": null,
       "height": null,
       "justify_content": null,
       "justify_items": null,
       "left": null,
       "margin": null,
       "max_height": null,
       "max_width": null,
       "min_height": null,
       "min_width": null,
       "object_fit": null,
       "object_position": null,
       "order": null,
       "overflow": null,
       "padding": null,
       "right": null,
       "top": null,
       "visibility": null,
       "width": null
      }
     }
    },
    "version_major": 2,
    "version_minor": 0
   }
  }
 },
 "nbformat": 4,
 "nbformat_minor": 5
}
