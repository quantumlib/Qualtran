{
 "cells": [
  {
   "cell_type": "markdown",
   "id": "aff10415",
   "metadata": {
    "cq.autogen": "title_cell"
   },
   "source": [
    "# GF($2^m$) Multiplication"
   ]
  },
  {
   "cell_type": "code",
   "execution_count": 1,
   "id": "822840ed",
   "metadata": {
    "cq.autogen": "top_imports"
   },
   "outputs": [],
   "source": [
    "from qualtran import Bloq, CompositeBloq, BloqBuilder, Signature, Register\n",
    "from qualtran import QBit, QInt, QUInt, QAny\n",
    "from qualtran.drawing import show_bloq, show_call_graph, show_counts_sigma\n",
    "from typing import *\n",
    "import numpy as np\n",
    "import sympy\n",
    "import cirq"
   ]
  },
  {
   "cell_type": "markdown",
   "id": "3362cee1",
   "metadata": {
    "cq.autogen": "GF2Multiplication.bloq_doc.md"
   },
   "source": [
    "## `GF2Multiplication`\n",
    "Out of place multiplication over GF($2^m$).\n",
    "\n",
    "The bloq implements out of place multiplication of two quantum registers storing elements\n",
    "from GF($2^m$) using construction described in Ref[1], which extends the classical construction\n",
    "of Ref[2].\n",
    "\n",
    "To multiply two m-bit inputs $a = [a_0, a_1, ..., a_{m-1}]$ and $b = [b_0, b_1, ..., b_{m-1}]$,\n",
    "the construction computes the output vector $c$ via the following three steps:\n",
    "    1. Compute $e = U.b$ where $U$ is an upper triangular matrix constructed using $a$.\n",
    "    2. Compute $Q.e$ where $Q$ is an $m \\times (m - 1)$ reduction matrix that depends upon the\n",
    "        irreducible polynomial $P(x)$ of the galois field $GF(2^m)$. The i'th column of the\n",
    "        matrix corresponds to coefficients of the polynomial $x^{m + i} % P(x)$. This matrix $Q$\n",
    "        is a linear reversible circuit that can be implemented only using CNOT gates.\n",
    "    3. Compute $d = L.b$ where $L$ is a lower triangular matrix constructed using $a$.\n",
    "    4. Compute $c = d + Q.e$ to obtain the final product.\n",
    "\n",
    "Steps 1 and 3 are performed using $n^2$ Toffoli gates and step 2 is performed only using CNOT\n",
    "gates.\n",
    "\n",
    "#### Parameters\n",
    " - `bitsize`: The degree $m$ of the galois field $GF(2^m)$. Also corresponds to the number of qubits in each of the two input registers $a$ and $b$ that should be multiplied.\n",
    " - `plus_equal_prod`: If True, implements the `PlusEqualProduct` version that applies the map $|x\\rangle |y\\rangle |z\\rangle \\rightarrow |x\\rangle |y\\rangle |x + z\\rangle$. \n",
    "\n",
    "#### Registers\n",
    " - `x`: Input THRU register of size $m$ that stores elements from $GF(2^m)$.\n",
    " - `y`: Input THRU register of size $m$ that stores elements from $GF(2^m)$.\n",
    " - `result`: Register of size $m$ that stores the product $x * y$ in $GF(2^m)$. If plus_equal_prod is True - result is a THRU register and stores $result + x * y$. If plus_equal_prod is False - result is a RIGHT register and stores $x * y$.  \n",
    "\n",
    "#### References\n",
    " - [On the Design and Optimization of a Quantum Polynomial-Time Attack on Elliptic Curve Cryptography](https://arxiv.org/abs/0710.1093). \n",
    " - [Low complexity bit parallel architectures for polynomial basis multiplication over GF(2m)](https://ieeexplore.ieee.org/abstract/document/1306989). \n"
   ]
  },
  {
   "cell_type": "code",
   "execution_count": 2,
   "id": "73b45bb2",
   "metadata": {
    "cq.autogen": "GF2Multiplication.bloq_doc.py"
   },
   "outputs": [],
   "source": [
    "from qualtran.bloqs.gf_arithmetic import GF2Multiplication"
   ]
  },
  {
   "cell_type": "markdown",
   "id": "8c045401",
   "metadata": {
    "cq.autogen": "GF2Multiplication.example_instances.md"
   },
   "source": [
    "### Example Instances"
   ]
  },
  {
   "cell_type": "code",
   "execution_count": 3,
   "id": "74eff41e",
   "metadata": {
    "cq.autogen": "GF2Multiplication.gf16_multiplication"
   },
   "outputs": [],
   "source": [
    "gf16_multiplication = GF2Multiplication(4, plus_equal_prod=True)"
   ]
  },
  {
   "cell_type": "code",
   "execution_count": 4,
   "id": "44921bed",
   "metadata": {
    "cq.autogen": "GF2Multiplication.gf2_multiplication_symbolic"
   },
   "outputs": [],
   "source": [
    "import sympy\n",
    "\n",
    "m = sympy.Symbol('m')\n",
    "gf2_multiplication_symbolic = GF2Multiplication(m, plus_equal_prod=False)"
   ]
  },
  {
   "cell_type": "markdown",
   "id": "84016d41",
   "metadata": {
    "cq.autogen": "GF2Multiplication.graphical_signature.md"
   },
   "source": [
    "#### Graphical Signature"
   ]
  },
  {
   "cell_type": "code",
   "execution_count": 5,
   "id": "8356b26f",
   "metadata": {
    "cq.autogen": "GF2Multiplication.graphical_signature.py"
   },
   "outputs": [
    {
     "data": {
      "application/vnd.jupyter.widget-view+json": {
       "model_id": "52319978c5c64c0496bc4ee533f5d166",
       "version_major": 2,
       "version_minor": 0
      },
      "text/plain": [
       "HBox(children=(Output(outputs=({'output_type': 'display_data', 'data': {'text/plain': '<IPython.core.display.M…"
      ]
     },
     "metadata": {},
     "output_type": "display_data"
    }
   ],
   "source": [
    "from qualtran.drawing import show_bloqs\n",
    "show_bloqs([gf16_multiplication, gf2_multiplication_symbolic],\n",
    "           ['`gf16_multiplication`', '`gf2_multiplication_symbolic`'])"
   ]
  },
  {
   "cell_type": "markdown",
   "id": "059573ca",
   "metadata": {
    "cq.autogen": "GF2Multiplication.call_graph.md"
   },
   "source": [
    "### Call Graph"
   ]
  },
  {
   "cell_type": "code",
   "execution_count": 6,
   "id": "c7d3b3fe",
   "metadata": {
    "cq.autogen": "GF2Multiplication.call_graph.py"
   },
   "outputs": [
    {
     "data": {
      "image/svg+xml": [
       "<svg xmlns=\"http://www.w3.org/2000/svg\" xmlns:xlink=\"http://www.w3.org/1999/xlink\" width=\"274pt\" height=\"131pt\" viewBox=\"0.00 0.00 274.00 131.00\">\n",
       "<g id=\"graph0\" class=\"graph\" transform=\"scale(1 1) rotate(0) translate(4 127)\">\n",
       "<title>counts</title>\n",
       "<polygon fill=\"white\" stroke=\"transparent\" points=\"-4,4 -4,-127 270,-127 270,4 -4,4\"/>\n",
       "<!-- b0 -->\n",
       "<g id=\"node1\" class=\"node\">\n",
       "<title>b0</title>\n",
       "<polygon fill=\"none\" stroke=\"black\" points=\"73,-93 73,-116 165,-116 165,-93 73,-93\"/>\n",
       "<text text-anchor=\"start\" x=\"79.5\" y=\"-102\" font-family=\"Times,serif\" font-size=\"10.00\">GF2Multiplication</text>\n",
       "</g>\n",
       "<!-- b1 -->\n",
       "<g id=\"node2\" class=\"node\">\n",
       "<title>b1</title>\n",
       "<polygon fill=\"none\" stroke=\"black\" points=\"8,-6 8,-29 48,-29 48,-6 8,-6\"/>\n",
       "<text text-anchor=\"start\" x=\"14\" y=\"-15\" font-family=\"Times,serif\" font-size=\"10.00\">Toffoli</text>\n",
       "</g>\n",
       "<!-- b0&#45;&gt;b1 -->\n",
       "<g id=\"edge1\" class=\"edge\">\n",
       "<title>b0-&gt;b1</title>\n",
       "<path fill=\"none\" stroke=\"black\" d=\"M100.58,-86.8C87.14,-74.24 68.74,-57.05 53.82,-43.12\"/>\n",
       "<polygon fill=\"black\" stroke=\"black\" points=\"56.08,-40.44 46.39,-36.18 51.31,-45.56 56.08,-40.44\"/>\n",
       "<text text-anchor=\"middle\" x=\"86\" y=\"-57.8\" font-family=\"Times,serif\" font-size=\"14.00\">16</text>\n",
       "</g>\n",
       "<!-- b2 -->\n",
       "<g id=\"node3\" class=\"node\">\n",
       "<title>b2</title>\n",
       "<polygon fill=\"none\" stroke=\"black\" points=\"82,-6 82,-29 156,-29 156,-6 82,-6\"/>\n",
       "<text text-anchor=\"start\" x=\"88.5\" y=\"-15\" font-family=\"Times,serif\" font-size=\"10.00\">GF2ShiftRight</text>\n",
       "</g>\n",
       "<!-- b0&#45;&gt;b2 -->\n",
       "<g id=\"edge2\" class=\"edge\">\n",
       "<title>b0-&gt;b2</title>\n",
       "<path fill=\"none\" stroke=\"black\" d=\"M119,-86.8C119,-75.16 119,-59.55 119,-46.24\"/>\n",
       "<polygon fill=\"black\" stroke=\"black\" points=\"122.5,-46.18 119,-36.18 115.5,-46.18 122.5,-46.18\"/>\n",
       "<text text-anchor=\"middle\" x=\"122.5\" y=\"-57.8\" font-family=\"Times,serif\" font-size=\"14.00\">1</text>\n",
       "</g>\n",
       "<!-- b3 -->\n",
       "<g id=\"node4\" class=\"node\">\n",
       "<title>b3</title>\n",
       "<polygon fill=\"none\" stroke=\"black\" points=\"190,-6 190,-29 258,-29 258,-6 190,-6\"/>\n",
       "<text text-anchor=\"start\" x=\"196.5\" y=\"-15\" font-family=\"Times,serif\" font-size=\"10.00\">GF2ShiftLeft</text>\n",
       "</g>\n",
       "<!-- b0&#45;&gt;b3 -->\n",
       "<g id=\"edge3\" class=\"edge\">\n",
       "<title>b0-&gt;b3</title>\n",
       "<path fill=\"none\" stroke=\"black\" d=\"M140.25,-86.8C155.9,-74.13 177.39,-56.73 194.68,-42.74\"/>\n",
       "<polygon fill=\"black\" stroke=\"black\" points=\"197.21,-45.19 202.78,-36.18 192.81,-39.75 197.21,-45.19\"/>\n",
       "<text text-anchor=\"middle\" x=\"180.5\" y=\"-57.8\" font-family=\"Times,serif\" font-size=\"14.00\">1</text>\n",
       "</g>\n",
       "</g>\n",
       "</svg>"
      ],
      "text/plain": [
       "<IPython.core.display.SVG object>"
      ]
     },
     "metadata": {},
     "output_type": "display_data"
    },
    {
     "data": {
      "text/markdown": [
       "#### Counts totals:\n",
       " - `GF2ShiftLeft`: 1\n",
       " - `GF2ShiftRight`: 1\n",
       " - `Toffoli`: 16"
      ],
      "text/plain": [
       "<IPython.core.display.Markdown object>"
      ]
     },
     "metadata": {},
     "output_type": "display_data"
    }
   ],
   "source": [
    "from qualtran.resource_counting.generalizers import ignore_split_join\n",
    "gf16_multiplication_g, gf16_multiplication_sigma = gf16_multiplication.call_graph(max_depth=1, generalizer=ignore_split_join)\n",
    "show_call_graph(gf16_multiplication_g)\n",
    "show_counts_sigma(gf16_multiplication_sigma)"
   ]
  },
  {
   "cell_type": "markdown",
   "id": "4e5637a8",
   "metadata": {
    "cq.autogen": "GF2MulK.bloq_doc.md"
   },
   "source": [
    "## `GF2MulK`\n",
    "Multiply by constant $f(x)$ modulo $m(x)$. Both $f(x)$ and $m(x)$ are constants.\n",
    "\n",
    "#### Parameters\n",
    " - `const`: The multiplication constant which is an element of the given field.\n",
    " - `galois_field`: The galois field that defines the arithmetics. \n",
    "\n",
    "#### Registers\n",
    " - `g`: The polynomial coefficients (in GF(2)). \n",
    "\n",
    "#### References\n",
    " - [Space-efficient quantum multiplication of polynomials for binary finite fields with     sub-quadratic Toffoli gate count](https://arxiv.org/abs/1910.02849v2). Algorithm 1\n"
   ]
  },
  {
   "cell_type": "code",
   "execution_count": 7,
   "id": "4cafb8b1",
   "metadata": {
    "cq.autogen": "GF2MulK.bloq_doc.py"
   },
   "outputs": [],
   "source": [
    "from qualtran.bloqs.gf_arithmetic import GF2MulK"
   ]
  },
  {
   "cell_type": "markdown",
   "id": "6b91e5b1",
   "metadata": {
    "cq.autogen": "GF2MulK.example_instances.md"
   },
   "source": [
    "### Example Instances"
   ]
  },
  {
   "cell_type": "code",
   "execution_count": 8,
   "id": "29499f23",
   "metadata": {
    "cq.autogen": "GF2MulK.gf2_multiply_by_constant"
   },
   "outputs": [],
   "source": [
    "import galois\n",
    "\n",
    "from qualtran import QGF\n",
    "\n",
    "mx = galois.Poly.Degrees([0, 1, 3])  # x^3 + x + 1\n",
    "gf = galois.GF(2, 3, irreducible_poly=mx)\n",
    "const = 5  # x^2 + 1\n",
    "gf2_multiply_by_constant = GF2MulK(QGF(2, 3, mx), const)"
   ]
  },
  {
   "cell_type": "code",
   "execution_count": 9,
   "id": "8549c9a7",
   "metadata": {
    "cq.autogen": "GF2MulK.gf2_poly_multiply_by_constant"
   },
   "outputs": [],
   "source": [
    "fx = [2, 0]  # x^2 + 1\n",
    "mx = [0, 1, 3]  # x^3 + x + 1\n",
    "gf2_poly_multiply_by_constant = GF2MulK.from_polynomials(fx, mx)"
   ]
  },
  {
   "cell_type": "markdown",
   "id": "99bfb42b",
   "metadata": {
    "cq.autogen": "GF2MulK.graphical_signature.md"
   },
   "source": [
    "#### Graphical Signature"
   ]
  },
  {
   "cell_type": "code",
   "execution_count": 10,
   "id": "3fbecb4d",
   "metadata": {
    "cq.autogen": "GF2MulK.graphical_signature.py"
   },
   "outputs": [
    {
     "data": {
      "application/vnd.jupyter.widget-view+json": {
       "model_id": "b823c68903b641809d21ceba3d1dd3b2",
       "version_major": 2,
       "version_minor": 0
      },
      "text/plain": [
       "HBox(children=(Output(outputs=({'output_type': 'display_data', 'data': {'text/plain': '<IPython.core.display.M…"
      ]
     },
     "metadata": {},
     "output_type": "display_data"
    }
   ],
   "source": [
    "from qualtran.drawing import show_bloqs\n",
    "show_bloqs([gf2_multiply_by_constant, gf2_poly_multiply_by_constant],\n",
    "           ['`gf2_multiply_by_constant`', '`gf2_poly_multiply_by_constant`'])"
   ]
  },
  {
   "cell_type": "markdown",
   "id": "48d667aa",
   "metadata": {
    "cq.autogen": "GF2MulK.call_graph.md"
   },
   "source": [
    "### Call Graph"
   ]
  },
  {
   "cell_type": "code",
   "execution_count": 11,
   "id": "7f02c78c",
   "metadata": {
    "cq.autogen": "GF2MulK.call_graph.py"
   },
   "outputs": [
    {
     "data": {
      "image/svg+xml": [
       "<svg xmlns=\"http://www.w3.org/2000/svg\" xmlns:xlink=\"http://www.w3.org/1999/xlink\" width=\"80pt\" height=\"131pt\" viewBox=\"0.00 0.00 80.00 131.00\">\n",
       "<g id=\"graph0\" class=\"graph\" transform=\"scale(1 1) rotate(0) translate(4 127)\">\n",
       "<title>counts</title>\n",
       "<polygon fill=\"white\" stroke=\"transparent\" points=\"-4,4 -4,-127 76,-127 76,4 -4,4\"/>\n",
       "<!-- b0 -->\n",
       "<g id=\"node1\" class=\"node\">\n",
       "<title>b0</title>\n",
       "<polygon fill=\"none\" stroke=\"black\" points=\"8,-93 8,-116 64,-116 64,-93 8,-93\"/>\n",
       "<text text-anchor=\"start\" x=\"14.5\" y=\"-102\" font-family=\"Times,serif\" font-size=\"10.00\">GF2MulK</text>\n",
       "</g>\n",
       "<!-- b1 -->\n",
       "<g id=\"node2\" class=\"node\">\n",
       "<title>b1</title>\n",
       "<polygon fill=\"none\" stroke=\"black\" points=\"16,-6 16,-29 56,-29 56,-6 16,-6\"/>\n",
       "<text text-anchor=\"start\" x=\"22\" y=\"-15\" font-family=\"Times,serif\" font-size=\"10.00\">CNOT</text>\n",
       "</g>\n",
       "<!-- b0&#45;&gt;b1 -->\n",
       "<g id=\"edge1\" class=\"edge\">\n",
       "<title>b0-&gt;b1</title>\n",
       "<path fill=\"none\" stroke=\"black\" d=\"M36,-86.8C36,-75.16 36,-59.55 36,-46.24\"/>\n",
       "<polygon fill=\"black\" stroke=\"black\" points=\"39.5,-46.18 36,-36.18 32.5,-46.18 39.5,-46.18\"/>\n",
       "<text text-anchor=\"middle\" x=\"39.5\" y=\"-57.8\" font-family=\"Times,serif\" font-size=\"14.00\">2</text>\n",
       "</g>\n",
       "</g>\n",
       "</svg>"
      ],
      "text/plain": [
       "<IPython.core.display.SVG object>"
      ]
     },
     "metadata": {},
     "output_type": "display_data"
    },
    {
     "data": {
      "text/markdown": [
       "#### Counts totals:\n",
       " - `CNOT`: 2"
      ],
      "text/plain": [
       "<IPython.core.display.Markdown object>"
      ]
     },
     "metadata": {},
     "output_type": "display_data"
    }
   ],
   "source": [
    "from qualtran.resource_counting.generalizers import ignore_split_join\n",
    "gf2_multiply_by_constant_g, gf2_multiply_by_constant_sigma = gf2_multiply_by_constant.call_graph(max_depth=1, generalizer=ignore_split_join)\n",
    "show_call_graph(gf2_multiply_by_constant_g)\n",
    "show_counts_sigma(gf2_multiply_by_constant_sigma)"
   ]
  },
  {
   "cell_type": "markdown",
   "id": "948b3cda",
   "metadata": {
    "cq.autogen": "MultiplyPolyByOnePlusXk.bloq_doc.md"
   },
   "source": [
    "## `MultiplyPolyByOnePlusXk`\n",
    "Out of place multiplication of $(1 + x^k) fg$\n",
    "\n",
    "Applies the transformation\n",
    "$$\n",
    "\\ket{f}\\ket{g}\\ket{h} \\rightarrow \\ket{f}{\\ket{g}}\\ket{h \\oplus (1+x^k)fg}\n",
    "$$\n",
    "\n",
    "Note: While this construction follows Algorithm2 of https://arxiv.org/abs/1910.02849v2,\n",
    "it has a slight modification. Namely that the original construction doesn't work in\n",
    "some cases where $k < n$. However reversing the order of the first set of CNOTs (line 2)\n",
    "makes the construction work for all $k \\leq n+1$.\n",
    "\n",
    "#### Parameters\n",
    " - `n`: The degree of the polynomial ($2^n$ is the size of the galois field).\n",
    " - `k`: An integer specifing the shift $1 + x^k$ (or $1 + 2^k$ for galois fields.) \n",
    "\n",
    "#### Registers\n",
    " - `f`: The first polynomial.\n",
    " - `g`: The second polyonmial.\n",
    " - `h`: The target polynomial. \n",
    "\n",
    "#### References\n",
    " - [Space-efficient quantum multiplication of polynomials for binary finite fields with     sub-quadratic Toffoli gate count](https://arxiv.org/abs/1910.02849v2). Algorithm 2\n"
   ]
  },
  {
   "cell_type": "code",
   "execution_count": 12,
   "id": "b6829688",
   "metadata": {
    "cq.autogen": "MultiplyPolyByOnePlusXk.bloq_doc.py"
   },
   "outputs": [],
   "source": [
    "from qualtran.bloqs.gf_arithmetic import MultiplyPolyByOnePlusXk"
   ]
  },
  {
   "cell_type": "markdown",
   "id": "6b87b237",
   "metadata": {
    "cq.autogen": "MultiplyPolyByOnePlusXk.example_instances.md"
   },
   "source": [
    "### Example Instances"
   ]
  },
  {
   "cell_type": "code",
   "execution_count": 13,
   "id": "c7d3c794",
   "metadata": {
    "cq.autogen": "MultiplyPolyByOnePlusXk.multiplypolybyoneplusxk"
   },
   "outputs": [],
   "source": [
    "n = 5\n",
    "k = 3\n",
    "multiplypolybyoneplusxk = MultiplyPolyByOnePlusXk(n, k)"
   ]
  },
  {
   "cell_type": "markdown",
   "id": "1b30eb2b",
   "metadata": {
    "cq.autogen": "MultiplyPolyByOnePlusXk.graphical_signature.md"
   },
   "source": [
    "#### Graphical Signature"
   ]
  },
  {
   "cell_type": "code",
   "execution_count": 14,
   "id": "9cbbee3f",
   "metadata": {
    "cq.autogen": "MultiplyPolyByOnePlusXk.graphical_signature.py"
   },
   "outputs": [
    {
     "data": {
      "application/vnd.jupyter.widget-view+json": {
       "model_id": "7ab68afc6d1f4ddfb3ce8f03a0bb2de0",
       "version_major": 2,
       "version_minor": 0
      },
      "text/plain": [
       "HBox(children=(Output(outputs=({'output_type': 'display_data', 'data': {'text/plain': '<IPython.core.display.M…"
      ]
     },
     "metadata": {},
     "output_type": "display_data"
    }
   ],
   "source": [
    "from qualtran.drawing import show_bloqs\n",
    "show_bloqs([multiplypolybyoneplusxk],\n",
    "           ['`multiplypolybyoneplusxk`'])"
   ]
  },
  {
   "cell_type": "markdown",
   "id": "17ffe5c9",
   "metadata": {
    "cq.autogen": "MultiplyPolyByOnePlusXk.call_graph.md"
   },
   "source": [
    "### Call Graph"
   ]
  },
  {
   "cell_type": "code",
   "execution_count": 15,
   "id": "8c1af971",
   "metadata": {
    "cq.autogen": "MultiplyPolyByOnePlusXk.call_graph.py"
   },
   "outputs": [
    {
     "data": {
      "image/svg+xml": [
       "<svg xmlns=\"http://www.w3.org/2000/svg\" xmlns:xlink=\"http://www.w3.org/1999/xlink\" width=\"246pt\" height=\"131pt\" viewBox=\"0.00 0.00 246.00 131.00\">\n",
       "<g id=\"graph0\" class=\"graph\" transform=\"scale(1 1) rotate(0) translate(4 127)\">\n",
       "<title>counts</title>\n",
       "<polygon fill=\"white\" stroke=\"transparent\" points=\"-4,4 -4,-127 242,-127 242,4 -4,4\"/>\n",
       "<!-- b0 -->\n",
       "<g id=\"node1\" class=\"node\">\n",
       "<title>b0</title>\n",
       "<polygon fill=\"none\" stroke=\"black\" points=\"28,-93 28,-116 156,-116 156,-93 28,-93\"/>\n",
       "<text text-anchor=\"start\" x=\"34.5\" y=\"-102\" font-family=\"Times,serif\" font-size=\"10.00\">MultiplyPolyByOnePlusXk</text>\n",
       "</g>\n",
       "<!-- b1 -->\n",
       "<g id=\"node2\" class=\"node\">\n",
       "<title>b1</title>\n",
       "<polygon fill=\"none\" stroke=\"black\" points=\"8,-6 8,-29 48,-29 48,-6 8,-6\"/>\n",
       "<text text-anchor=\"start\" x=\"14\" y=\"-15\" font-family=\"Times,serif\" font-size=\"10.00\">CNOT</text>\n",
       "</g>\n",
       "<!-- b0&#45;&gt;b1 -->\n",
       "<g id=\"edge1\" class=\"edge\">\n",
       "<title>b0-&gt;b1</title>\n",
       "<path fill=\"none\" stroke=\"black\" d=\"M79.05,-86.8C69.85,-74.59 57.36,-57.99 47.03,-44.28\"/>\n",
       "<polygon fill=\"black\" stroke=\"black\" points=\"49.74,-42.06 40.93,-36.18 44.15,-46.27 49.74,-42.06\"/>\n",
       "<text text-anchor=\"middle\" x=\"71\" y=\"-57.8\" font-family=\"Times,serif\" font-size=\"14.00\">18</text>\n",
       "</g>\n",
       "<!-- b2 -->\n",
       "<g id=\"node3\" class=\"node\">\n",
       "<title>b2</title>\n",
       "<polygon fill=\"none\" stroke=\"black\" points=\"82,-6 82,-29 230,-29 230,-6 82,-6\"/>\n",
       "<text text-anchor=\"start\" x=\"88\" y=\"-15\" font-family=\"Times,serif\" font-size=\"10.00\">BinaryPolynomialMultiplication</text>\n",
       "</g>\n",
       "<!-- b0&#45;&gt;b2 -->\n",
       "<g id=\"edge2\" class=\"edge\">\n",
       "<title>b0-&gt;b2</title>\n",
       "<path fill=\"none\" stroke=\"black\" d=\"M104.95,-86.8C114.15,-74.59 126.64,-57.99 136.97,-44.28\"/>\n",
       "<polygon fill=\"black\" stroke=\"black\" points=\"139.85,-46.27 143.07,-36.18 134.26,-42.06 139.85,-46.27\"/>\n",
       "<text text-anchor=\"middle\" x=\"130.5\" y=\"-57.8\" font-family=\"Times,serif\" font-size=\"14.00\">1</text>\n",
       "</g>\n",
       "</g>\n",
       "</svg>"
      ],
      "text/plain": [
       "<IPython.core.display.SVG object>"
      ]
     },
     "metadata": {},
     "output_type": "display_data"
    },
    {
     "data": {
      "text/markdown": [
       "#### Counts totals:\n",
       " - `BinaryPolynomialMultiplication`: 1\n",
       " - `CNOT`: 18"
      ],
      "text/plain": [
       "<IPython.core.display.Markdown object>"
      ]
     },
     "metadata": {},
     "output_type": "display_data"
    }
   ],
   "source": [
    "from qualtran.resource_counting.generalizers import ignore_split_join\n",
    "multiplypolybyoneplusxk_g, multiplypolybyoneplusxk_sigma = multiplypolybyoneplusxk.call_graph(max_depth=1, generalizer=ignore_split_join)\n",
    "show_call_graph(multiplypolybyoneplusxk_g)\n",
    "show_counts_sigma(multiplypolybyoneplusxk_sigma)"
   ]
  },
  {
   "cell_type": "markdown",
   "id": "d4fd5fea",
   "metadata": {
    "cq.autogen": "BinaryPolynomialMultiplication.bloq_doc.md"
   },
   "source": [
    "## `BinaryPolynomialMultiplication`\n",
    "Out of place multiplication of binary polynomial multiplication.\n",
    "\n",
    "Applies the transformation\n",
    "$$\n",
    "\\ket{f}\\ket{g}\\ket{h} \\rightarrow \\ket{f}{\\ket{g}}\\ket{h \\oplus fg}\n",
    "$$\n",
    "\n",
    "The toffoli cost of this construction is $n^{\\log_2{3}}$, while CNOT count is\n",
    "upper bounded by $(10 + \\frac{1}{3}) n^{\\log_2{3}}$.\n",
    "\n",
    "#### Parameters\n",
    " - `n`: The degree of the polynomial ($2^n$ is the size of the galois field). \n",
    "\n",
    "#### Registers\n",
    " - `f`: The first polynomial.\n",
    " - `g`: The second polyonmial.\n",
    " - `h`: The target polynomial. \n",
    "\n",
    "#### References\n",
    " - [Space-efficient quantum multiplication of polynomials for binary finite fields with     sub-quadratic Toffoli gate count](https://arxiv.org/abs/1910.02849v2). Algorithm 3\n"
   ]
  },
  {
   "cell_type": "code",
   "execution_count": 16,
   "id": "4e245fdc",
   "metadata": {
    "cq.autogen": "BinaryPolynomialMultiplication.bloq_doc.py"
   },
   "outputs": [],
   "source": [
    "from qualtran.bloqs.gf_arithmetic import BinaryPolynomialMultiplication"
   ]
  },
  {
   "cell_type": "markdown",
   "id": "b263e584",
   "metadata": {
    "cq.autogen": "BinaryPolynomialMultiplication.example_instances.md"
   },
   "source": [
    "### Example Instances"
   ]
  },
  {
   "cell_type": "code",
   "execution_count": 17,
   "id": "f4542d86",
   "metadata": {
    "cq.autogen": "BinaryPolynomialMultiplication.binarypolynomialmultiplication"
   },
   "outputs": [],
   "source": [
    "n = 5\n",
    "binarypolynomialmultiplication = BinaryPolynomialMultiplication(n)"
   ]
  },
  {
   "cell_type": "markdown",
   "id": "961c51ba",
   "metadata": {
    "cq.autogen": "BinaryPolynomialMultiplication.graphical_signature.md"
   },
   "source": [
    "#### Graphical Signature"
   ]
  },
  {
   "cell_type": "code",
   "execution_count": 18,
   "id": "c06938bc",
   "metadata": {
    "cq.autogen": "BinaryPolynomialMultiplication.graphical_signature.py"
   },
   "outputs": [
    {
     "data": {
      "application/vnd.jupyter.widget-view+json": {
       "model_id": "351abd6f4c564456a6dec386aa52780b",
       "version_major": 2,
       "version_minor": 0
      },
      "text/plain": [
       "HBox(children=(Output(outputs=({'output_type': 'display_data', 'data': {'text/plain': '<IPython.core.display.M…"
      ]
     },
     "metadata": {},
     "output_type": "display_data"
    }
   ],
   "source": [
    "from qualtran.drawing import show_bloqs\n",
    "show_bloqs([binarypolynomialmultiplication],\n",
    "           ['`binarypolynomialmultiplication`'])"
   ]
  },
  {
   "cell_type": "markdown",
   "id": "cedca829",
   "metadata": {
    "cq.autogen": "BinaryPolynomialMultiplication.call_graph.md"
   },
   "source": [
    "### Call Graph"
   ]
  },
  {
   "cell_type": "code",
   "execution_count": 19,
   "id": "9484079a",
   "metadata": {
    "cq.autogen": "BinaryPolynomialMultiplication.call_graph.py"
   },
   "outputs": [
    {
     "data": {
      "image/svg+xml": [
       "<svg xmlns=\"http://www.w3.org/2000/svg\" xmlns:xlink=\"http://www.w3.org/1999/xlink\" width=\"570pt\" height=\"131pt\" viewBox=\"0.00 0.00 570.00 131.00\">\n",
       "<g id=\"graph0\" class=\"graph\" transform=\"scale(1 1) rotate(0) translate(4 127)\">\n",
       "<title>counts</title>\n",
       "<polygon fill=\"white\" stroke=\"transparent\" points=\"-4,4 -4,-127 566,-127 566,4 -4,4\"/>\n",
       "<!-- b0 -->\n",
       "<g id=\"node1\" class=\"node\">\n",
       "<title>b0</title>\n",
       "<polygon fill=\"none\" stroke=\"black\" points=\"168,-93 168,-116 316,-116 316,-93 168,-93\"/>\n",
       "<text text-anchor=\"start\" x=\"174\" y=\"-102\" font-family=\"Times,serif\" font-size=\"10.00\">BinaryPolynomialMultiplication</text>\n",
       "</g>\n",
       "<!-- b1 -->\n",
       "<g id=\"node2\" class=\"node\">\n",
       "<title>b1</title>\n",
       "<polygon fill=\"none\" stroke=\"black\" points=\"8,-6 8,-29 48,-29 48,-6 8,-6\"/>\n",
       "<text text-anchor=\"start\" x=\"14\" y=\"-15\" font-family=\"Times,serif\" font-size=\"10.00\">CNOT</text>\n",
       "</g>\n",
       "<!-- b0&#45;&gt;b1 -->\n",
       "<g id=\"edge1\" class=\"edge\">\n",
       "<title>b0-&gt;b1</title>\n",
       "<path fill=\"none\" stroke=\"black\" d=\"M195.09,-86.91C161.4,-74.42 114.75,-56.71 65.71,-36.18\"/>\n",
       "<polygon fill=\"black\" stroke=\"black\" points=\"66.77,-32.84 56.2,-32.18 64.06,-39.29 66.77,-32.84\"/>\n",
       "<text text-anchor=\"middle\" x=\"150.5\" y=\"-57.8\" font-family=\"Times,serif\" font-size=\"14.00\">8</text>\n",
       "</g>\n",
       "<!-- b2 -->\n",
       "<g id=\"node3\" class=\"node\">\n",
       "<title>b2</title>\n",
       "<polygon fill=\"none\" stroke=\"black\" points=\"82,-6 82,-29 230,-29 230,-6 82,-6\"/>\n",
       "<text text-anchor=\"start\" x=\"88\" y=\"-15\" font-family=\"Times,serif\" font-size=\"10.00\">BinaryPolynomialMultiplication</text>\n",
       "</g>\n",
       "<!-- b0&#45;&gt;b2 -->\n",
       "<g id=\"edge2\" class=\"edge\">\n",
       "<title>b0-&gt;b2</title>\n",
       "<path fill=\"none\" stroke=\"black\" d=\"M224.6,-86.8C212.01,-74.36 194.82,-57.36 180.79,-43.5\"/>\n",
       "<polygon fill=\"black\" stroke=\"black\" points=\"182.95,-40.72 173.38,-36.18 178.03,-45.69 182.95,-40.72\"/>\n",
       "<text text-anchor=\"middle\" x=\"208.5\" y=\"-57.8\" font-family=\"Times,serif\" font-size=\"14.00\">1</text>\n",
       "</g>\n",
       "<!-- b3 -->\n",
       "<g id=\"node4\" class=\"node\">\n",
       "<title>b3</title>\n",
       "<polygon fill=\"none\" stroke=\"black\" points=\"264,-6 264,-29 392,-29 392,-6 264,-6\"/>\n",
       "<text text-anchor=\"start\" x=\"270.5\" y=\"-15\" font-family=\"Times,serif\" font-size=\"10.00\">MultiplyPolyByOnePlusXk</text>\n",
       "</g>\n",
       "<!-- b0&#45;&gt;b3 -->\n",
       "<g id=\"edge3\" class=\"edge\">\n",
       "<title>b0-&gt;b3</title>\n",
       "<path fill=\"none\" stroke=\"black\" d=\"M259.4,-86.8C271.99,-74.36 289.18,-57.36 303.21,-43.5\"/>\n",
       "<polygon fill=\"black\" stroke=\"black\" points=\"305.97,-45.69 310.62,-36.18 301.05,-40.72 305.97,-45.69\"/>\n",
       "<text text-anchor=\"middle\" x=\"294.5\" y=\"-57.8\" font-family=\"Times,serif\" font-size=\"14.00\">1</text>\n",
       "</g>\n",
       "<!-- b4 -->\n",
       "<g id=\"node5\" class=\"node\">\n",
       "<title>b4</title>\n",
       "<polygon fill=\"none\" stroke=\"black\" points=\"426,-6 426,-29 554,-29 554,-6 426,-6\"/>\n",
       "<text text-anchor=\"start\" x=\"432.5\" y=\"-15\" font-family=\"Times,serif\" font-size=\"10.00\">MultiplyPolyByOnePlusXk</text>\n",
       "</g>\n",
       "<!-- b0&#45;&gt;b4 -->\n",
       "<g id=\"edge4\" class=\"edge\">\n",
       "<title>b0-&gt;b4</title>\n",
       "<path fill=\"none\" stroke=\"black\" d=\"M291.89,-86.9C331.91,-73.18 388.21,-53.89 430.56,-39.37\"/>\n",
       "<polygon fill=\"black\" stroke=\"black\" points=\"431.87,-42.62 440.19,-36.07 429.6,-36 431.87,-42.62\"/>\n",
       "<text text-anchor=\"middle\" x=\"384.5\" y=\"-57.8\" font-family=\"Times,serif\" font-size=\"14.00\">1</text>\n",
       "</g>\n",
       "</g>\n",
       "</svg>"
      ],
      "text/plain": [
       "<IPython.core.display.SVG object>"
      ]
     },
     "metadata": {},
     "output_type": "display_data"
    },
    {
     "data": {
      "text/markdown": [
       "#### Counts totals:\n",
       " - `BinaryPolynomialMultiplication`: 1\n",
       " - `CNOT`: 8\n",
       " - `MultiplyPolyByOnePlusXk`: 1\n",
       " - `MultiplyPolyByOnePlusXk`: 1"
      ],
      "text/plain": [
       "<IPython.core.display.Markdown object>"
      ]
     },
     "metadata": {},
     "output_type": "display_data"
    }
   ],
   "source": [
    "from qualtran.resource_counting.generalizers import ignore_split_join\n",
    "binarypolynomialmultiplication_g, binarypolynomialmultiplication_sigma = binarypolynomialmultiplication.call_graph(max_depth=1, generalizer=ignore_split_join)\n",
    "show_call_graph(binarypolynomialmultiplication_g)\n",
    "show_counts_sigma(binarypolynomialmultiplication_sigma)"
   ]
  },
  {
   "cell_type": "markdown",
   "id": "0cdf9b44",
   "metadata": {
    "cq.autogen": "GF2ShiftRight.bloq_doc.md"
   },
   "source": [
    "## `GF2ShiftRight`\n",
    "Multiplies by $2^k$ (or $x^k$ for polynomials) modulo the given irreducible polynomial.\n",
    "\n",
    "Applies the transformation\n",
    "$$\n",
    "    \\ket{f} \\rightarrow \\ket{x^k f \\mod m(x)}\n",
    "$$\n",
    "\n",
    "Where the modulus $m(x)$ is the irreducible polynomial defining the galois field arithmetic.\n",
    "\n",
    "#### Parameters\n",
    " - `m_x`: The irreducible polynomial that defines the galois field.\n",
    " - `k`: The number of shifts (i.e. the exponent of $2$ or $x$). \n",
    "\n",
    "#### Registers\n",
    " - `f`: The number (polynomial) to shift. \n",
    "\n",
    "#### References\n",
    " - [Space-efficient quantum multiplication of polynomials for binary finite fields with     sub-quadratic Toffoli gate count](https://arxiv.org/abs/1910.02849v2). Section 3.1\n"
   ]
  },
  {
   "cell_type": "code",
   "execution_count": 20,
   "id": "f8442bce",
   "metadata": {
    "cq.autogen": "GF2ShiftRight.bloq_doc.py"
   },
   "outputs": [],
   "source": [
    "from qualtran.bloqs.gf_arithmetic import GF2ShiftRight"
   ]
  },
  {
   "cell_type": "markdown",
   "id": "0564def6",
   "metadata": {
    "cq.autogen": "GF2ShiftRight.example_instances.md"
   },
   "source": [
    "### Example Instances"
   ]
  },
  {
   "cell_type": "code",
   "execution_count": 21,
   "id": "5cd0bafe",
   "metadata": {
    "cq.autogen": "GF2ShiftRight.gf2shiftright"
   },
   "outputs": [],
   "source": [
    "m_x = [5, 2, 0]  # x^5 + x^2 + 1\n",
    "gf2shiftright = GF2ShiftRight(QGF(2, 5, m_x), k=3)  # shift by 3"
   ]
  },
  {
   "cell_type": "markdown",
   "id": "a4f243a3",
   "metadata": {
    "cq.autogen": "GF2ShiftRight.graphical_signature.md"
   },
   "source": [
    "#### Graphical Signature"
   ]
  },
  {
   "cell_type": "code",
   "execution_count": 22,
   "id": "e4714dd8",
   "metadata": {
    "cq.autogen": "GF2ShiftRight.graphical_signature.py"
   },
   "outputs": [
    {
     "data": {
      "application/vnd.jupyter.widget-view+json": {
       "model_id": "a17ab8369f0043ecb8df6b170886c17b",
       "version_major": 2,
       "version_minor": 0
      },
      "text/plain": [
       "HBox(children=(Output(outputs=({'output_type': 'display_data', 'data': {'text/plain': '<IPython.core.display.M…"
      ]
     },
     "metadata": {},
     "output_type": "display_data"
    }
   ],
   "source": [
    "from qualtran.drawing import show_bloqs\n",
    "show_bloqs([gf2shiftright],\n",
    "           ['`gf2shiftright`'])"
   ]
  },
  {
   "cell_type": "markdown",
   "id": "3f738750",
   "metadata": {
    "cq.autogen": "GF2ShiftRight.call_graph.md"
   },
   "source": [
    "### Call Graph"
   ]
  },
  {
   "cell_type": "code",
   "execution_count": 23,
   "id": "d467f6f7",
   "metadata": {
    "cq.autogen": "GF2ShiftRight.call_graph.py"
   },
   "outputs": [
    {
     "data": {
      "image/svg+xml": [
       "<svg xmlns=\"http://www.w3.org/2000/svg\" xmlns:xlink=\"http://www.w3.org/1999/xlink\" width=\"98pt\" height=\"131pt\" viewBox=\"0.00 0.00 98.00 131.00\">\n",
       "<g id=\"graph0\" class=\"graph\" transform=\"scale(1 1) rotate(0) translate(4 127)\">\n",
       "<title>counts</title>\n",
       "<polygon fill=\"white\" stroke=\"transparent\" points=\"-4,4 -4,-127 94,-127 94,4 -4,4\"/>\n",
       "<!-- b0 -->\n",
       "<g id=\"node1\" class=\"node\">\n",
       "<title>b0</title>\n",
       "<polygon fill=\"none\" stroke=\"black\" points=\"8,-93 8,-116 82,-116 82,-93 8,-93\"/>\n",
       "<text text-anchor=\"start\" x=\"14.5\" y=\"-102\" font-family=\"Times,serif\" font-size=\"10.00\">GF2ShiftRight</text>\n",
       "</g>\n",
       "<!-- b1 -->\n",
       "<g id=\"node2\" class=\"node\">\n",
       "<title>b1</title>\n",
       "<polygon fill=\"none\" stroke=\"black\" points=\"25,-6 25,-29 65,-29 65,-6 25,-6\"/>\n",
       "<text text-anchor=\"start\" x=\"31\" y=\"-15\" font-family=\"Times,serif\" font-size=\"10.00\">CNOT</text>\n",
       "</g>\n",
       "<!-- b0&#45;&gt;b1 -->\n",
       "<g id=\"edge1\" class=\"edge\">\n",
       "<title>b0-&gt;b1</title>\n",
       "<path fill=\"none\" stroke=\"black\" d=\"M45,-86.8C45,-75.16 45,-59.55 45,-46.24\"/>\n",
       "<polygon fill=\"black\" stroke=\"black\" points=\"48.5,-46.18 45,-36.18 41.5,-46.18 48.5,-46.18\"/>\n",
       "<text text-anchor=\"middle\" x=\"48.5\" y=\"-57.8\" font-family=\"Times,serif\" font-size=\"14.00\">3</text>\n",
       "</g>\n",
       "</g>\n",
       "</svg>"
      ],
      "text/plain": [
       "<IPython.core.display.SVG object>"
      ]
     },
     "metadata": {},
     "output_type": "display_data"
    },
    {
     "data": {
      "text/markdown": [
       "#### Counts totals:\n",
       " - `CNOT`: 3"
      ],
      "text/plain": [
       "<IPython.core.display.Markdown object>"
      ]
     },
     "metadata": {},
     "output_type": "display_data"
    }
   ],
   "source": [
    "from qualtran.resource_counting.generalizers import ignore_split_join\n",
    "gf2shiftright_g, gf2shiftright_sigma = gf2shiftright.call_graph(max_depth=1, generalizer=ignore_split_join)\n",
    "show_call_graph(gf2shiftright_g)\n",
    "show_counts_sigma(gf2shiftright_sigma)"
   ]
  },
  {
   "cell_type": "markdown",
   "id": "3006b0ea",
   "metadata": {
    "cq.autogen": "GF2MulViaKaratsuba.bloq_doc.md"
   },
   "source": [
    "## `GF2MulViaKaratsuba`\n",
    "Multiplies two GF($2^n$) numbers (or binary polynomials) modulo $m(x)$.\n",
    "\n",
    "Applies the transformation\n",
    "$$\n",
    "    \\ket{f}\\ket{g} \\rightarrow \\ket{f} \\ket{g} \\ket{f*g \\mod m(x)}\n",
    "$$\n",
    "\n",
    "Where the modulus $m(x)$ is the irreducible polynomial defining the galois field arithmetic.\n",
    "The toffoli complexity is $n^{\\log_2{3}}$\n",
    "\n",
    "#### Parameters\n",
    " - `m_x`: The irreducible polynomial that defines the galois field.\n",
    " - `uncompute`: Whether to compute or uncompute the product. \n",
    "\n",
    "#### Registers\n",
    " - `x`: A TRHU register representing the first number (or polynomial).\n",
    " - `y`: A TRHU register representing the second number (polynomial).\n",
    " - `result`: The result (a RIGHT register). \n",
    "\n",
    "#### References\n",
    " - [Space-efficient quantum multiplication of polynomials for binary finite fields with     sub-quadratic Toffoli gate count](https://arxiv.org/abs/1910.02849v2). Algorithm 4.\n"
   ]
  },
  {
   "cell_type": "code",
   "execution_count": 24,
   "id": "4d63e074",
   "metadata": {
    "cq.autogen": "GF2MulViaKaratsuba.bloq_doc.py"
   },
   "outputs": [],
   "source": [
    "from qualtran.bloqs.gf_arithmetic import GF2MulViaKaratsuba"
   ]
  },
  {
   "cell_type": "markdown",
   "id": "616b5a02",
   "metadata": {
    "cq.autogen": "GF2MulViaKaratsuba.example_instances.md"
   },
   "source": [
    "### Example Instances"
   ]
  },
  {
   "cell_type": "code",
   "execution_count": 25,
   "id": "c799f7a9",
   "metadata": {
    "cq.autogen": "GF2MulViaKaratsuba.gf2mulviakaratsuba"
   },
   "outputs": [],
   "source": [
    "m_x = [5, 2, 0]  # x^5 + x^2 + 1\n",
    "gf2mulviakaratsuba = GF2MulViaKaratsuba(QGF(2, 5, m_x))"
   ]
  },
  {
   "cell_type": "markdown",
   "id": "b9425d24",
   "metadata": {
    "cq.autogen": "GF2MulViaKaratsuba.graphical_signature.md"
   },
   "source": [
    "#### Graphical Signature"
   ]
  },
  {
   "cell_type": "code",
   "execution_count": 26,
   "id": "c0a2fbf5",
   "metadata": {
    "cq.autogen": "GF2MulViaKaratsuba.graphical_signature.py"
   },
   "outputs": [
    {
     "data": {
      "application/vnd.jupyter.widget-view+json": {
       "model_id": "6e61c3c73d8045fb9b0108248972bb41",
       "version_major": 2,
       "version_minor": 0
      },
      "text/plain": [
       "HBox(children=(Output(outputs=({'output_type': 'display_data', 'data': {'text/plain': '<IPython.core.display.M…"
      ]
     },
     "metadata": {},
     "output_type": "display_data"
    }
   ],
   "source": [
    "from qualtran.drawing import show_bloqs\n",
    "show_bloqs([gf2mulviakaratsuba],\n",
    "           ['`gf2mulviakaratsuba`'])"
   ]
  },
  {
   "cell_type": "markdown",
   "id": "8b8cecc3",
   "metadata": {
    "cq.autogen": "GF2MulViaKaratsuba.call_graph.md"
   },
   "source": [
    "### Call Graph"
   ]
  },
  {
   "cell_type": "code",
   "execution_count": 27,
   "id": "a7df51ba",
   "metadata": {
    "cq.autogen": "GF2MulViaKaratsuba.call_graph.py"
   },
   "outputs": [
    {
     "data": {
      "image/svg+xml": [
       "<svg xmlns=\"http://www.w3.org/2000/svg\" xmlns:xlink=\"http://www.w3.org/1999/xlink\" width=\"722pt\" height=\"131pt\" viewBox=\"0.00 0.00 722.00 131.00\">\n",
       "<g id=\"graph0\" class=\"graph\" transform=\"scale(1 1) rotate(0) translate(4 127)\">\n",
       "<title>counts</title>\n",
       "<polygon fill=\"white\" stroke=\"transparent\" points=\"-4,4 -4,-127 718,-127 718,4 -4,4\"/>\n",
       "<!-- b0 -->\n",
       "<g id=\"node1\" class=\"node\">\n",
       "<title>b0</title>\n",
       "<polygon fill=\"none\" stroke=\"black\" points=\"354,-93 354,-116 458,-116 458,-93 354,-93\"/>\n",
       "<text text-anchor=\"start\" x=\"360.5\" y=\"-102\" font-family=\"Times,serif\" font-size=\"10.00\">GF2MulViaKaratsuba</text>\n",
       "</g>\n",
       "<!-- b1 -->\n",
       "<g id=\"node2\" class=\"node\">\n",
       "<title>b1</title>\n",
       "<polygon fill=\"none\" stroke=\"black\" points=\"8,-6 8,-29 48,-29 48,-6 8,-6\"/>\n",
       "<text text-anchor=\"start\" x=\"14\" y=\"-15\" font-family=\"Times,serif\" font-size=\"10.00\">CNOT</text>\n",
       "</g>\n",
       "<!-- b0&#45;&gt;b1 -->\n",
       "<g id=\"edge1\" class=\"edge\">\n",
       "<title>b0-&gt;b1</title>\n",
       "<path fill=\"none\" stroke=\"black\" d=\"M345.78,-96.34C278.88,-86.87 167.87,-68.28 65.56,-35.78\"/>\n",
       "<polygon fill=\"black\" stroke=\"black\" points=\"66.6,-32.43 56.01,-32.69 64.45,-39.09 66.6,-32.43\"/>\n",
       "<text text-anchor=\"middle\" x=\"188.5\" y=\"-57.8\" font-family=\"Times,serif\" font-size=\"14.00\">8</text>\n",
       "</g>\n",
       "<!-- b2 -->\n",
       "<g id=\"node3\" class=\"node\">\n",
       "<title>b2</title>\n",
       "<polygon fill=\"none\" stroke=\"black\" points=\"82,-6 82,-29 230,-29 230,-6 82,-6\"/>\n",
       "<text text-anchor=\"start\" x=\"88\" y=\"-15\" font-family=\"Times,serif\" font-size=\"10.00\">BinaryPolynomialMultiplication</text>\n",
       "</g>\n",
       "<!-- b0&#45;&gt;b2 -->\n",
       "<g id=\"edge2\" class=\"edge\">\n",
       "<title>b0-&gt;b2</title>\n",
       "<path fill=\"none\" stroke=\"black\" d=\"M355.71,-86.9C315.36,-73.18 258.62,-53.89 215.92,-39.37\"/>\n",
       "<polygon fill=\"black\" stroke=\"black\" points=\"216.8,-35.98 206.21,-36.07 214.55,-42.6 216.8,-35.98\"/>\n",
       "<text text-anchor=\"middle\" x=\"299.5\" y=\"-57.8\" font-family=\"Times,serif\" font-size=\"14.00\">2</text>\n",
       "</g>\n",
       "<!-- b3 -->\n",
       "<g id=\"node4\" class=\"node\">\n",
       "<title>b3</title>\n",
       "<polygon fill=\"none\" stroke=\"black\" points=\"264,-6 264,-29 412,-29 412,-6 264,-6\"/>\n",
       "<text text-anchor=\"start\" x=\"270\" y=\"-15\" font-family=\"Times,serif\" font-size=\"10.00\">BinaryPolynomialMultiplication</text>\n",
       "</g>\n",
       "<!-- b0&#45;&gt;b3 -->\n",
       "<g id=\"edge3\" class=\"edge\">\n",
       "<title>b0-&gt;b3</title>\n",
       "<path fill=\"none\" stroke=\"black\" d=\"M392.24,-86.8C382.47,-74.59 369.19,-57.99 358.22,-44.28\"/>\n",
       "<polygon fill=\"black\" stroke=\"black\" points=\"360.72,-41.8 351.74,-36.18 355.25,-46.17 360.72,-41.8\"/>\n",
       "<text text-anchor=\"middle\" x=\"380.5\" y=\"-57.8\" font-family=\"Times,serif\" font-size=\"14.00\">1</text>\n",
       "</g>\n",
       "<!-- b4 -->\n",
       "<g id=\"node5\" class=\"node\">\n",
       "<title>b4</title>\n",
       "<polygon fill=\"none\" stroke=\"black\" points=\"446,-6 446,-29 502,-29 502,-6 446,-6\"/>\n",
       "<text text-anchor=\"start\" x=\"452.5\" y=\"-15\" font-family=\"Times,serif\" font-size=\"10.00\">GF2MulK</text>\n",
       "</g>\n",
       "<!-- b0&#45;&gt;b4 -->\n",
       "<g id=\"edge4\" class=\"edge\">\n",
       "<title>b0-&gt;b4</title>\n",
       "<path fill=\"none\" stroke=\"black\" d=\"M419.76,-86.8C429.53,-74.59 442.81,-57.99 453.78,-44.28\"/>\n",
       "<polygon fill=\"black\" stroke=\"black\" points=\"456.75,-46.17 460.26,-36.18 451.28,-41.8 456.75,-46.17\"/>\n",
       "<text text-anchor=\"middle\" x=\"448.5\" y=\"-57.8\" font-family=\"Times,serif\" font-size=\"14.00\">1</text>\n",
       "</g>\n",
       "<!-- b5 -->\n",
       "<g id=\"node6\" class=\"node\">\n",
       "<title>b5</title>\n",
       "<polygon fill=\"none\" stroke=\"black\" points=\"536,-6 536,-29 598,-29 598,-6 536,-6\"/>\n",
       "<text text-anchor=\"start\" x=\"542.5\" y=\"-15\" font-family=\"Times,serif\" font-size=\"10.00\">GF2MulK†</text>\n",
       "</g>\n",
       "<!-- b0&#45;&gt;b5 -->\n",
       "<g id=\"edge5\" class=\"edge\">\n",
       "<title>b0-&gt;b5</title>\n",
       "<path fill=\"none\" stroke=\"black\" d=\"M438.58,-86.8C463.76,-73.51 498.77,-55.02 525.88,-40.71\"/>\n",
       "<polygon fill=\"black\" stroke=\"black\" points=\"527.53,-43.79 534.74,-36.03 524.27,-37.6 527.53,-43.79\"/>\n",
       "<text text-anchor=\"middle\" x=\"500.5\" y=\"-57.8\" font-family=\"Times,serif\" font-size=\"14.00\">1</text>\n",
       "</g>\n",
       "<!-- b6 -->\n",
       "<g id=\"node7\" class=\"node\">\n",
       "<title>b6</title>\n",
       "<polygon fill=\"none\" stroke=\"black\" points=\"632,-6 632,-29 706,-29 706,-6 632,-6\"/>\n",
       "<text text-anchor=\"start\" x=\"638.5\" y=\"-15\" font-family=\"Times,serif\" font-size=\"10.00\">GF2ShiftRight</text>\n",
       "</g>\n",
       "<!-- b0&#45;&gt;b6 -->\n",
       "<g id=\"edge6\" class=\"edge\">\n",
       "<title>b0-&gt;b6</title>\n",
       "<path fill=\"none\" stroke=\"black\" d=\"M458.91,-86.9C503.9,-72.36 568.3,-51.55 613.91,-36.81\"/>\n",
       "<polygon fill=\"black\" stroke=\"black\" points=\"615.19,-40.07 623.63,-33.66 613.04,-33.41 615.19,-40.07\"/>\n",
       "<text text-anchor=\"middle\" x=\"556.5\" y=\"-57.8\" font-family=\"Times,serif\" font-size=\"14.00\">1</text>\n",
       "</g>\n",
       "</g>\n",
       "</svg>"
      ],
      "text/plain": [
       "<IPython.core.display.SVG object>"
      ]
     },
     "metadata": {},
     "output_type": "display_data"
    },
    {
     "data": {
      "text/markdown": [
       "#### Counts totals:\n",
       " - `BinaryPolynomialMultiplication`: 1\n",
       " - `BinaryPolynomialMultiplication`: 2\n",
       " - `CNOT`: 8\n",
       " - `GF2MulK`: 1\n",
       " - `GF2MulK†`: 1\n",
       " - `GF2ShiftRight`: 1"
      ],
      "text/plain": [
       "<IPython.core.display.Markdown object>"
      ]
     },
     "metadata": {},
     "output_type": "display_data"
    }
   ],
   "source": [
    "from qualtran.resource_counting.generalizers import ignore_split_join\n",
    "gf2mulviakaratsuba_g, gf2mulviakaratsuba_sigma = gf2mulviakaratsuba.call_graph(max_depth=1, generalizer=ignore_split_join)\n",
    "show_call_graph(gf2mulviakaratsuba_g)\n",
    "show_counts_sigma(gf2mulviakaratsuba_sigma)"
   ]
  },
  {
   "cell_type": "markdown",
   "id": "61e701f9",
   "metadata": {
    "cq.autogen": "GF2ShiftLeft.bloq_doc.md"
   },
   "source": [
    "## `GF2ShiftLeft`\n",
    "Divides by $2^k$ (or $x^k$ for polynomials) modulo the given irreducible polynomial.\n",
    "\n",
    "Applies the transformation\n",
    "$$\n",
    "    \\ket{f} \\rightarrow \\ket{x^{-k} f \\mod m(x)}\n",
    "$$\n",
    "\n",
    "Where the modulus $m(x)$ is the irreducible polynomial defining the galois field arithmetic.\n",
    "\n",
    "#### Parameters\n",
    " - `m_x`: The irreducible polynomial that defines the galois field.\n",
    " - `k`: The number of shifts (i.e. the exponent of $2$ or $x$). \n",
    "\n",
    "#### Registers\n",
    " - `f`: The number (polynomial) to shift.\n"
   ]
  },
  {
   "cell_type": "code",
   "execution_count": 28,
   "id": "168a297b",
   "metadata": {
    "cq.autogen": "GF2ShiftLeft.bloq_doc.py"
   },
   "outputs": [],
   "source": [
    "from qualtran.bloqs.gf_arithmetic import GF2ShiftLeft"
   ]
  },
  {
   "cell_type": "markdown",
   "id": "a426b2e2",
   "metadata": {
    "cq.autogen": "GF2ShiftLeft.example_instances.md"
   },
   "source": [
    "### Example Instances"
   ]
  },
  {
   "cell_type": "code",
   "execution_count": 29,
   "id": "448ec4d2",
   "metadata": {
    "cq.autogen": "GF2ShiftLeft.gf2shiftleft"
   },
   "outputs": [],
   "source": [
    "m_x = [5, 2, 0]  # x^5 + x^2 + 1\n",
    "gf2shiftleft = GF2ShiftLeft(QGF(2, 5, m_x), k=3)  # shift by 3"
   ]
  },
  {
   "cell_type": "markdown",
   "id": "2782cebd",
   "metadata": {
    "cq.autogen": "GF2ShiftLeft.graphical_signature.md"
   },
   "source": [
    "#### Graphical Signature"
   ]
  },
  {
   "cell_type": "code",
   "execution_count": 30,
   "id": "1b83f1e9",
   "metadata": {
    "cq.autogen": "GF2ShiftLeft.graphical_signature.py"
   },
   "outputs": [
    {
     "data": {
      "application/vnd.jupyter.widget-view+json": {
       "model_id": "cac2107a27ff41d7989f27b7fac9808d",
       "version_major": 2,
       "version_minor": 0
      },
      "text/plain": [
       "HBox(children=(Output(outputs=({'output_type': 'display_data', 'data': {'text/plain': '<IPython.core.display.M…"
      ]
     },
     "metadata": {},
     "output_type": "display_data"
    }
   ],
   "source": [
    "from qualtran.drawing import show_bloqs\n",
    "show_bloqs([gf2shiftleft],\n",
    "           ['`gf2shiftleft`'])"
   ]
  },
  {
   "cell_type": "markdown",
   "id": "ef2db868",
   "metadata": {
    "cq.autogen": "GF2ShiftLeft.call_graph.md"
   },
   "source": [
    "### Call Graph"
   ]
  },
  {
   "cell_type": "code",
   "execution_count": 31,
   "id": "8517e259",
   "metadata": {
    "cq.autogen": "GF2ShiftLeft.call_graph.py"
   },
   "outputs": [
    {
     "data": {
      "image/svg+xml": [
       "<svg xmlns=\"http://www.w3.org/2000/svg\" xmlns:xlink=\"http://www.w3.org/1999/xlink\" width=\"92pt\" height=\"131pt\" viewBox=\"0.00 0.00 92.00 131.00\">\n",
       "<g id=\"graph0\" class=\"graph\" transform=\"scale(1 1) rotate(0) translate(4 127)\">\n",
       "<title>counts</title>\n",
       "<polygon fill=\"white\" stroke=\"transparent\" points=\"-4,4 -4,-127 88,-127 88,4 -4,4\"/>\n",
       "<!-- b0 -->\n",
       "<g id=\"node1\" class=\"node\">\n",
       "<title>b0</title>\n",
       "<polygon fill=\"none\" stroke=\"black\" points=\"8,-93 8,-116 76,-116 76,-93 8,-93\"/>\n",
       "<text text-anchor=\"start\" x=\"14.5\" y=\"-102\" font-family=\"Times,serif\" font-size=\"10.00\">GF2ShiftLeft</text>\n",
       "</g>\n",
       "<!-- b1 -->\n",
       "<g id=\"node2\" class=\"node\">\n",
       "<title>b1</title>\n",
       "<polygon fill=\"none\" stroke=\"black\" points=\"22,-6 22,-29 62,-29 62,-6 22,-6\"/>\n",
       "<text text-anchor=\"start\" x=\"28\" y=\"-15\" font-family=\"Times,serif\" font-size=\"10.00\">CNOT</text>\n",
       "</g>\n",
       "<!-- b0&#45;&gt;b1 -->\n",
       "<g id=\"edge1\" class=\"edge\">\n",
       "<title>b0-&gt;b1</title>\n",
       "<path fill=\"none\" stroke=\"black\" d=\"M42,-86.8C42,-75.16 42,-59.55 42,-46.24\"/>\n",
       "<polygon fill=\"black\" stroke=\"black\" points=\"45.5,-46.18 42,-36.18 38.5,-46.18 45.5,-46.18\"/>\n",
       "<text text-anchor=\"middle\" x=\"45.5\" y=\"-57.8\" font-family=\"Times,serif\" font-size=\"14.00\">3</text>\n",
       "</g>\n",
       "</g>\n",
       "</svg>"
      ],
      "text/plain": [
       "<IPython.core.display.SVG object>"
      ]
     },
     "metadata": {},
     "output_type": "display_data"
    },
    {
     "data": {
      "text/markdown": [
       "#### Counts totals:\n",
       " - `CNOT`: 3"
      ],
      "text/plain": [
       "<IPython.core.display.Markdown object>"
      ]
     },
     "metadata": {},
     "output_type": "display_data"
    }
   ],
   "source": [
    "from qualtran.resource_counting.generalizers import ignore_split_join\n",
    "gf2shiftleft_g, gf2shiftleft_sigma = gf2shiftleft.call_graph(max_depth=1, generalizer=ignore_split_join)\n",
    "show_call_graph(gf2shiftleft_g)\n",
    "show_counts_sigma(gf2shiftleft_sigma)"
   ]
  }
 ],
 "metadata": {
  "kernelspec": {
   "display_name": "Python 3",
   "language": "python",
   "name": "python3"
  },
  "language_info": {
   "codemirror_mode": {
    "name": "ipython",
    "version": 3
   },
   "file_extension": ".py",
   "mimetype": "text/x-python",
   "name": "python",
   "nbconvert_exporter": "python",
   "pygments_lexer": "ipython3",
   "version": "3.11.8"
  },
  "widgets": {
   "application/vnd.jupyter.widget-state+json": {
    "state": {
     "1d13773748d547c38d75faf19e008643": {
      "model_module": "@jupyter-widgets/base",
      "model_module_version": "2.0.0",
      "model_name": "LayoutModel",
      "state": {
       "_model_module": "@jupyter-widgets/base",
       "_model_module_version": "2.0.0",
       "_model_name": "LayoutModel",
       "_view_count": null,
       "_view_module": "@jupyter-widgets/base",
       "_view_module_version": "2.0.0",
       "_view_name": "LayoutView",
       "align_content": null,
       "align_items": null,
       "align_self": null,
       "border_bottom": null,
       "border_left": null,
       "border_right": null,
       "border_top": null,
       "bottom": null,
       "display": null,
       "flex": null,
       "flex_flow": null,
       "grid_area": null,
       "grid_auto_columns": null,
       "grid_auto_flow": null,
       "grid_auto_rows": null,
       "grid_column": null,
       "grid_gap": null,
       "grid_row": null,
       "grid_template_areas": null,
       "grid_template_columns": null,
       "grid_template_rows": null,
       "height": null,
       "justify_content": null,
       "justify_items": null,
       "left": null,
       "margin": null,
       "max_height": null,
       "max_width": null,
       "min_height": null,
       "min_width": null,
       "object_fit": null,
       "object_position": null,
       "order": null,
       "overflow": null,
       "padding": null,
       "right": null,
       "top": null,
       "visibility": null,
       "width": null
      }
     },
     "316565b6e5a6429982cc64570df753b0": {
      "model_module": "@jupyter-widgets/base",
      "model_module_version": "2.0.0",
      "model_name": "LayoutModel",
      "state": {
       "_model_module": "@jupyter-widgets/base",
       "_model_module_version": "2.0.0",
       "_model_name": "LayoutModel",
       "_view_count": null,
       "_view_module": "@jupyter-widgets/base",
       "_view_module_version": "2.0.0",
       "_view_name": "LayoutView",
       "align_content": null,
       "align_items": null,
       "align_self": null,
       "border_bottom": null,
       "border_left": null,
       "border_right": null,
       "border_top": null,
       "bottom": null,
       "display": null,
       "flex": null,
       "flex_flow": null,
       "grid_area": null,
       "grid_auto_columns": null,
       "grid_auto_flow": null,
       "grid_auto_rows": null,
       "grid_column": null,
       "grid_gap": null,
       "grid_row": null,
       "grid_template_areas": null,
       "grid_template_columns": null,
       "grid_template_rows": null,
       "height": null,
       "justify_content": null,
       "justify_items": null,
       "left": null,
       "margin": null,
       "max_height": null,
       "max_width": null,
       "min_height": null,
       "min_width": null,
       "object_fit": null,
       "object_position": null,
       "order": null,
       "overflow": null,
       "padding": null,
       "right": null,
       "top": null,
       "visibility": null,
       "width": null
      }
     },
     "351abd6f4c564456a6dec386aa52780b": {
      "model_module": "@jupyter-widgets/controls",
      "model_module_version": "2.0.0",
      "model_name": "HBoxModel",
      "state": {
       "_dom_classes": [],
       "_model_module": "@jupyter-widgets/controls",
       "_model_module_version": "2.0.0",
       "_model_name": "HBoxModel",
       "_view_count": null,
       "_view_module": "@jupyter-widgets/controls",
       "_view_module_version": "2.0.0",
       "_view_name": "HBoxView",
       "box_style": "",
       "children": [
        "IPY_MODEL_7bdeb29428004d95a4071c589fa0e21d"
       ],
       "layout": "IPY_MODEL_bad94e9f06f44a56aa980809395a5c1e",
       "tabbable": null,
       "tooltip": null
      }
     },
     "4568152436ce411aae72b8f5418830c7": {
      "model_module": "@jupyter-widgets/base",
      "model_module_version": "2.0.0",
      "model_name": "LayoutModel",
      "state": {
       "_model_module": "@jupyter-widgets/base",
       "_model_module_version": "2.0.0",
       "_model_name": "LayoutModel",
       "_view_count": null,
       "_view_module": "@jupyter-widgets/base",
       "_view_module_version": "2.0.0",
       "_view_name": "LayoutView",
       "align_content": null,
       "align_items": null,
       "align_self": null,
       "border_bottom": null,
       "border_left": null,
       "border_right": null,
       "border_top": null,
       "bottom": null,
       "display": null,
       "flex": null,
       "flex_flow": null,
       "grid_area": null,
       "grid_auto_columns": null,
       "grid_auto_flow": null,
       "grid_auto_rows": null,
       "grid_column": null,
       "grid_gap": null,
       "grid_row": null,
       "grid_template_areas": null,
       "grid_template_columns": null,
       "grid_template_rows": null,
       "height": null,
       "justify_content": null,
       "justify_items": null,
       "left": null,
       "margin": null,
       "max_height": null,
       "max_width": null,
       "min_height": null,
       "min_width": null,
       "object_fit": null,
       "object_position": null,
       "order": null,
       "overflow": null,
       "padding": null,
       "right": null,
       "top": null,
       "visibility": null,
       "width": null
      }
     },
     "4a6dfcc512534474b0d15f084d2333e2": {
      "model_module": "@jupyter-widgets/output",
      "model_module_version": "1.0.0",
      "model_name": "OutputModel",
      "state": {
       "_dom_classes": [],
       "_model_module": "@jupyter-widgets/output",
       "_model_module_version": "1.0.0",
       "_model_name": "OutputModel",
       "_view_count": null,
       "_view_module": "@jupyter-widgets/output",
       "_view_module_version": "1.0.0",
       "_view_name": "OutputView",
       "layout": "IPY_MODEL_d67aea52268e4cd9a483459afba1b673",
       "msg_id": "",
       "outputs": [
        {
         "data": {
          "text/markdown": "`gf2shiftright`",
          "text/plain": "<IPython.core.display.Markdown object>"
         },
         "metadata": {},
         "output_type": "display_data"
        },
        {
         "data": {
          "image/svg+xml": "<svg xmlns=\"http://www.w3.org/2000/svg\" xmlns:xlink=\"http://www.w3.org/1999/xlink\" width=\"257pt\" height=\"54pt\" viewBox=\"0.00 0.00 257.00 54.00\">\n<g id=\"graph0\" class=\"graph\" transform=\"scale(1 1) rotate(0) translate(4 50)\">\n<title>my_graph</title>\n<polygon fill=\"white\" stroke=\"transparent\" points=\"-4,4 -4,-50 253,-50 253,4 -4,4\"/>\n<!-- f_G0 -->\n<g id=\"node1\" class=\"node\">\n<title>f_G0</title>\n<text text-anchor=\"middle\" x=\"27\" y=\"-14.3\" font-family=\"Times,serif\" font-size=\"14.00\">f</text>\n</g>\n<!-- GF2ShiftRight -->\n<g id=\"node2\" class=\"node\">\n<title>GF2ShiftRight</title>\n<polygon fill=\"none\" stroke=\"black\" points=\"91.5,-29 91.5,-46 158.5,-46 158.5,-29 91.5,-29\"/>\n<text text-anchor=\"start\" x=\"94.5\" y=\"-35\" font-family=\"Times,serif\" font-size=\"10.00\">GF2ShiftRight</text>\n<polygon fill=\"none\" stroke=\"black\" points=\"91.5,-8 91.5,-29 158.5,-29 158.5,-8 91.5,-8\"/>\n<text text-anchor=\"start\" x=\"122.5\" y=\"-14.8\" font-family=\"Times,serif\" font-size=\"14.00\">f</text>\n</g>\n<!-- f_G0&#45;&gt;GF2ShiftRight -->\n<g id=\"edge1\" class=\"edge\">\n<title>f_G0:e-&gt;GF2ShiftRight:w</title>\n<path fill=\"none\" stroke=\"black\" d=\"M54,-18C69.67,-18 74.14,-18 88.77,-18\"/>\n<ellipse fill=\"black\" stroke=\"black\" cx=\"90\" cy=\"-18\" rx=\"1\" ry=\"1\"/>\n<text text-anchor=\"middle\" x=\"72.5\" y=\"-21\" font-family=\"Times,serif\" font-size=\"10.00\">5</text>\n</g>\n<!-- f_G1 -->\n<g id=\"node3\" class=\"node\">\n<title>f_G1</title>\n<text text-anchor=\"middle\" x=\"222\" y=\"-14.3\" font-family=\"Times,serif\" font-size=\"14.00\">f</text>\n</g>\n<!-- GF2ShiftRight&#45;&gt;f_G1 -->\n<g id=\"edge2\" class=\"edge\">\n<title>GF2ShiftRight:e-&gt;f_G1:w</title>\n<path fill=\"none\" stroke=\"black\" d=\"M158,-18C173.67,-18 178.14,-18 192.77,-18\"/>\n<ellipse fill=\"black\" stroke=\"black\" cx=\"194\" cy=\"-18\" rx=\"1\" ry=\"1\"/>\n<text text-anchor=\"middle\" x=\"176.5\" y=\"-21\" font-family=\"Times,serif\" font-size=\"10.00\">5</text>\n</g>\n</g>\n</svg>",
          "text/plain": "<IPython.core.display.SVG object>"
         },
         "metadata": {},
         "output_type": "display_data"
        }
       ],
       "tabbable": null,
       "tooltip": null
      }
     },
     "52319978c5c64c0496bc4ee533f5d166": {
      "model_module": "@jupyter-widgets/controls",
      "model_module_version": "2.0.0",
      "model_name": "HBoxModel",
      "state": {
       "_dom_classes": [],
       "_model_module": "@jupyter-widgets/controls",
       "_model_module_version": "2.0.0",
       "_model_name": "HBoxModel",
       "_view_count": null,
       "_view_module": "@jupyter-widgets/controls",
       "_view_module_version": "2.0.0",
       "_view_name": "HBoxView",
       "box_style": "",
       "children": [
        "IPY_MODEL_da30dfd7843447d7aaeee3a86ad19326",
        "IPY_MODEL_5344e775f01c47d48c4506bde99e26f8"
       ],
       "layout": "IPY_MODEL_be40b00e96954004b44fdb650492ea35",
       "tabbable": null,
       "tooltip": null
      }
     },
     "5344e775f01c47d48c4506bde99e26f8": {
      "model_module": "@jupyter-widgets/output",
      "model_module_version": "1.0.0",
      "model_name": "OutputModel",
      "state": {
       "_dom_classes": [],
       "_model_module": "@jupyter-widgets/output",
       "_model_module_version": "1.0.0",
       "_model_name": "OutputModel",
       "_view_count": null,
       "_view_module": "@jupyter-widgets/output",
       "_view_module_version": "1.0.0",
       "_view_name": "OutputView",
       "layout": "IPY_MODEL_316565b6e5a6429982cc64570df753b0",
       "msg_id": "",
       "outputs": [
        {
         "data": {
          "text/markdown": "`gf2_multiplication_symbolic`",
          "text/plain": "<IPython.core.display.Markdown object>"
         },
         "metadata": {},
         "output_type": "display_data"
        },
        {
         "data": {
          "image/svg+xml": "<svg xmlns=\"http://www.w3.org/2000/svg\" xmlns:xlink=\"http://www.w3.org/1999/xlink\" width=\"275pt\" height=\"152pt\" viewBox=\"0.00 0.00 275.00 152.00\">\n<g id=\"graph0\" class=\"graph\" transform=\"scale(1 1) rotate(0) translate(4 148)\">\n<title>my_graph</title>\n<polygon fill=\"white\" stroke=\"transparent\" points=\"-4,4 -4,-148 271,-148 271,4 -4,4\"/>\n<!-- x_G1 -->\n<g id=\"node1\" class=\"node\">\n<title>x_G1</title>\n<text text-anchor=\"middle\" x=\"27\" y=\"-106.3\" font-family=\"Times,serif\" font-size=\"14.00\">x</text>\n</g>\n<!-- GF2Multiplication -->\n<g id=\"node3\" class=\"node\">\n<title>GF2Multiplication</title>\n<polygon fill=\"none\" stroke=\"black\" points=\"91.5,-104 91.5,-121 176.5,-121 176.5,-104 91.5,-104\"/>\n<text text-anchor=\"start\" x=\"94.5\" y=\"-110\" font-family=\"Times,serif\" font-size=\"10.00\">GF2Multiplication</text>\n<polygon fill=\"none\" stroke=\"black\" points=\"91.5,-83 91.5,-104 176.5,-104 176.5,-83 91.5,-83\"/>\n<text text-anchor=\"start\" x=\"130.5\" y=\"-89.8\" font-family=\"Times,serif\" font-size=\"14.00\">x</text>\n<polygon fill=\"none\" stroke=\"black\" points=\"91.5,-62 91.5,-83 176.5,-83 176.5,-62 91.5,-62\"/>\n<text text-anchor=\"start\" x=\"130.5\" y=\"-68.8\" font-family=\"Times,serif\" font-size=\"14.00\">y</text>\n<polygon fill=\"none\" stroke=\"black\" points=\"91.5,-41 91.5,-62 118.5,-62 118.5,-41 91.5,-41\"/>\n<polygon fill=\"none\" stroke=\"black\" points=\"118.5,-41 118.5,-62 176.5,-62 176.5,-41 118.5,-41\"/>\n<text text-anchor=\"start\" x=\"132\" y=\"-47.8\" font-family=\"Times,serif\" font-size=\"14.00\">result</text>\n</g>\n<!-- x_G1&#45;&gt;GF2Multiplication -->\n<g id=\"edge1\" class=\"edge\">\n<title>x_G1:e-&gt;GF2Multiplication:w</title>\n<path fill=\"none\" stroke=\"black\" d=\"M54,-110C71.22,-110 72.97,-95.23 88.98,-94.07\"/>\n<ellipse fill=\"black\" stroke=\"black\" cx=\"90\" cy=\"-94.04\" rx=\"1\" ry=\"1\"/>\n<text text-anchor=\"middle\" x=\"72.5\" y=\"-105\" font-family=\"Times,serif\" font-size=\"10.00\">ceiling(log2(floor(2**m)))</text>\n</g>\n<!-- y_G0 -->\n<g id=\"node2\" class=\"node\">\n<title>y_G0</title>\n<text text-anchor=\"middle\" x=\"27\" y=\"-52.3\" font-family=\"Times,serif\" font-size=\"14.00\">y</text>\n</g>\n<!-- y_G0&#45;&gt;GF2Multiplication -->\n<g id=\"edge2\" class=\"edge\">\n<title>y_G0:e-&gt;GF2Multiplication:w</title>\n<path fill=\"none\" stroke=\"black\" d=\"M54,-56C71.22,-56 72.97,-70.77 88.98,-71.93\"/>\n<ellipse fill=\"black\" stroke=\"black\" cx=\"90\" cy=\"-71.96\" rx=\"1\" ry=\"1\"/>\n<text text-anchor=\"middle\" x=\"72.5\" y=\"-68\" font-family=\"Times,serif\" font-size=\"10.00\">ceiling(log2(floor(2**m)))</text>\n</g>\n<!-- x_G7 -->\n<g id=\"node4\" class=\"node\">\n<title>x_G7</title>\n<text text-anchor=\"middle\" x=\"240\" y=\"-122.3\" font-family=\"Times,serif\" font-size=\"14.00\">x</text>\n</g>\n<!-- GF2Multiplication&#45;&gt;x_G7 -->\n<g id=\"edge3\" class=\"edge\">\n<title>GF2Multiplication:e-&gt;x_G7:w</title>\n<path fill=\"none\" stroke=\"black\" d=\"M176,-94C196.89,-94 191.72,-123.55 210.58,-125.86\"/>\n<ellipse fill=\"black\" stroke=\"black\" cx=\"212\" cy=\"-125.94\" rx=\"1\" ry=\"1\"/>\n<text text-anchor=\"middle\" x=\"194.5\" y=\"-113\" font-family=\"Times,serif\" font-size=\"10.00\">ceiling(log2(floor(2**m)))</text>\n</g>\n<!-- y_G2 -->\n<g id=\"node5\" class=\"node\">\n<title>y_G2</title>\n<text text-anchor=\"middle\" x=\"240\" y=\"-68.3\" font-family=\"Times,serif\" font-size=\"14.00\">y</text>\n</g>\n<!-- GF2Multiplication&#45;&gt;y_G2 -->\n<g id=\"edge4\" class=\"edge\">\n<title>GF2Multiplication:e-&gt;y_G2:w</title>\n<path fill=\"none\" stroke=\"black\" d=\"M176,-72C191.67,-72 196.14,-72 210.77,-72\"/>\n<ellipse fill=\"black\" stroke=\"black\" cx=\"212\" cy=\"-72\" rx=\"1\" ry=\"1\"/>\n<text text-anchor=\"middle\" x=\"194.5\" y=\"-75\" font-family=\"Times,serif\" font-size=\"10.00\">ceiling(log2(floor(2**m)))</text>\n</g>\n<!-- result_G6 -->\n<g id=\"node6\" class=\"node\">\n<title>result_G6</title>\n<text text-anchor=\"middle\" x=\"240\" y=\"-14.3\" font-family=\"Times,serif\" font-size=\"14.00\">result</text>\n</g>\n<!-- GF2Multiplication&#45;&gt;result_G6 -->\n<g id=\"edge5\" class=\"edge\">\n<title>GF2Multiplication:e-&gt;result_G6:w</title>\n<path fill=\"none\" stroke=\"black\" d=\"M176,-51C197.17,-51 191.47,-20.53 210.55,-18.15\"/>\n<ellipse fill=\"black\" stroke=\"black\" cx=\"212\" cy=\"-18.06\" rx=\"1\" ry=\"1\"/>\n<text text-anchor=\"middle\" x=\"194.5\" y=\"-39\" font-family=\"Times,serif\" font-size=\"10.00\">ceiling(log2(floor(2**m)))</text>\n</g>\n</g>\n</svg>",
          "text/plain": "<IPython.core.display.SVG object>"
         },
         "metadata": {},
         "output_type": "display_data"
        }
       ],
       "tabbable": null,
       "tooltip": null
      }
     },
     "5917fad0a686498292b386d6aae9e7a0": {
      "model_module": "@jupyter-widgets/base",
      "model_module_version": "2.0.0",
      "model_name": "LayoutModel",
      "state": {
       "_model_module": "@jupyter-widgets/base",
       "_model_module_version": "2.0.0",
       "_model_name": "LayoutModel",
       "_view_count": null,
       "_view_module": "@jupyter-widgets/base",
       "_view_module_version": "2.0.0",
       "_view_name": "LayoutView",
       "align_content": null,
       "align_items": null,
       "align_self": null,
       "border_bottom": null,
       "border_left": null,
       "border_right": null,
       "border_top": null,
       "bottom": null,
       "display": null,
       "flex": null,
       "flex_flow": null,
       "grid_area": null,
       "grid_auto_columns": null,
       "grid_auto_flow": null,
       "grid_auto_rows": null,
       "grid_column": null,
       "grid_gap": null,
       "grid_row": null,
       "grid_template_areas": null,
       "grid_template_columns": null,
       "grid_template_rows": null,
       "height": null,
       "justify_content": null,
       "justify_items": null,
       "left": null,
       "margin": null,
       "max_height": null,
       "max_width": null,
       "min_height": null,
       "min_width": null,
       "object_fit": null,
       "object_position": null,
       "order": null,
       "overflow": null,
       "padding": null,
       "right": null,
       "top": null,
       "visibility": null,
       "width": null
      }
     },
     "6c2705f62f2b4fc5aa470e638c8f5726": {
      "model_module": "@jupyter-widgets/output",
      "model_module_version": "1.0.0",
      "model_name": "OutputModel",
      "state": {
       "_dom_classes": [],
       "_model_module": "@jupyter-widgets/output",
       "_model_module_version": "1.0.0",
       "_model_name": "OutputModel",
       "_view_count": null,
       "_view_module": "@jupyter-widgets/output",
       "_view_module_version": "1.0.0",
       "_view_name": "OutputView",
       "layout": "IPY_MODEL_9755bde581d248a38a1a4e483fd62dcb",
       "msg_id": "",
       "outputs": [
        {
         "data": {
          "text/markdown": "`gf2shiftleft`",
          "text/plain": "<IPython.core.display.Markdown object>"
         },
         "metadata": {},
         "output_type": "display_data"
        },
        {
         "data": {
          "image/svg+xml": "<svg xmlns=\"http://www.w3.org/2000/svg\" xmlns:xlink=\"http://www.w3.org/1999/xlink\" width=\"251pt\" height=\"54pt\" viewBox=\"0.00 0.00 251.00 54.00\">\n<g id=\"graph0\" class=\"graph\" transform=\"scale(1 1) rotate(0) translate(4 50)\">\n<title>my_graph</title>\n<polygon fill=\"white\" stroke=\"transparent\" points=\"-4,4 -4,-50 247,-50 247,4 -4,4\"/>\n<!-- f_G1 -->\n<g id=\"node1\" class=\"node\">\n<title>f_G1</title>\n<text text-anchor=\"middle\" x=\"27\" y=\"-14.3\" font-family=\"Times,serif\" font-size=\"14.00\">f</text>\n</g>\n<!-- GF2ShiftLeft -->\n<g id=\"node2\" class=\"node\">\n<title>GF2ShiftLeft</title>\n<polygon fill=\"none\" stroke=\"black\" points=\"91.5,-29 91.5,-46 152.5,-46 152.5,-29 91.5,-29\"/>\n<text text-anchor=\"start\" x=\"94.5\" y=\"-35\" font-family=\"Times,serif\" font-size=\"10.00\">GF2ShiftLeft</text>\n<polygon fill=\"none\" stroke=\"black\" points=\"91.5,-8 91.5,-29 152.5,-29 152.5,-8 91.5,-8\"/>\n<text text-anchor=\"start\" x=\"119.5\" y=\"-14.8\" font-family=\"Times,serif\" font-size=\"14.00\">f</text>\n</g>\n<!-- f_G1&#45;&gt;GF2ShiftLeft -->\n<g id=\"edge1\" class=\"edge\">\n<title>f_G1:e-&gt;GF2ShiftLeft:w</title>\n<path fill=\"none\" stroke=\"black\" d=\"M54,-18C69.67,-18 74.14,-18 88.77,-18\"/>\n<ellipse fill=\"black\" stroke=\"black\" cx=\"90\" cy=\"-18\" rx=\"1\" ry=\"1\"/>\n<text text-anchor=\"middle\" x=\"72.5\" y=\"-21\" font-family=\"Times,serif\" font-size=\"10.00\">5</text>\n</g>\n<!-- f_G0 -->\n<g id=\"node3\" class=\"node\">\n<title>f_G0</title>\n<text text-anchor=\"middle\" x=\"216\" y=\"-14.3\" font-family=\"Times,serif\" font-size=\"14.00\">f</text>\n</g>\n<!-- GF2ShiftLeft&#45;&gt;f_G0 -->\n<g id=\"edge2\" class=\"edge\">\n<title>GF2ShiftLeft:e-&gt;f_G0:w</title>\n<path fill=\"none\" stroke=\"black\" d=\"M152,-18C167.67,-18 172.14,-18 186.77,-18\"/>\n<ellipse fill=\"black\" stroke=\"black\" cx=\"188\" cy=\"-18\" rx=\"1\" ry=\"1\"/>\n<text text-anchor=\"middle\" x=\"170.5\" y=\"-21\" font-family=\"Times,serif\" font-size=\"10.00\">5</text>\n</g>\n</g>\n</svg>",
          "text/plain": "<IPython.core.display.SVG object>"
         },
         "metadata": {},
         "output_type": "display_data"
        }
       ],
       "tabbable": null,
       "tooltip": null
      }
     },
     "6e61c3c73d8045fb9b0108248972bb41": {
      "model_module": "@jupyter-widgets/controls",
      "model_module_version": "2.0.0",
      "model_name": "HBoxModel",
      "state": {
       "_dom_classes": [],
       "_model_module": "@jupyter-widgets/controls",
       "_model_module_version": "2.0.0",
       "_model_name": "HBoxModel",
       "_view_count": null,
       "_view_module": "@jupyter-widgets/controls",
       "_view_module_version": "2.0.0",
       "_view_name": "HBoxView",
       "box_style": "",
       "children": [
        "IPY_MODEL_97c9358558a44c3fb2aa04f29f5729f4"
       ],
       "layout": "IPY_MODEL_9bfbdc7cd25041cf995f076050871a61",
       "tabbable": null,
       "tooltip": null
      }
     },
     "7ab68afc6d1f4ddfb3ce8f03a0bb2de0": {
      "model_module": "@jupyter-widgets/controls",
      "model_module_version": "2.0.0",
      "model_name": "HBoxModel",
      "state": {
       "_dom_classes": [],
       "_model_module": "@jupyter-widgets/controls",
       "_model_module_version": "2.0.0",
       "_model_name": "HBoxModel",
       "_view_count": null,
       "_view_module": "@jupyter-widgets/controls",
       "_view_module_version": "2.0.0",
       "_view_name": "HBoxView",
       "box_style": "",
       "children": [
        "IPY_MODEL_86029b0fd804490db7877e7e494c0245"
       ],
       "layout": "IPY_MODEL_871f5851bd0c471cac96a1032651da7a",
       "tabbable": null,
       "tooltip": null
      }
     },
     "7bdeb29428004d95a4071c589fa0e21d": {
      "model_module": "@jupyter-widgets/output",
      "model_module_version": "1.0.0",
      "model_name": "OutputModel",
      "state": {
       "_dom_classes": [],
       "_model_module": "@jupyter-widgets/output",
       "_model_module_version": "1.0.0",
       "_model_name": "OutputModel",
       "_view_count": null,
       "_view_module": "@jupyter-widgets/output",
       "_view_module_version": "1.0.0",
       "_view_name": "OutputView",
       "layout": "IPY_MODEL_5917fad0a686498292b386d6aae9e7a0",
       "msg_id": "",
       "outputs": [
        {
         "data": {
          "text/markdown": "`binarypolynomialmultiplication`",
          "text/plain": "<IPython.core.display.Markdown object>"
         },
         "metadata": {},
         "output_type": "display_data"
        },
        {
         "data": {
          "image/svg+xml": "<svg xmlns=\"http://www.w3.org/2000/svg\" xmlns:xlink=\"http://www.w3.org/1999/xlink\" width=\"332pt\" height=\"1016pt\" viewBox=\"0.00 0.00 332.00 1016.00\">\n<g id=\"graph0\" class=\"graph\" transform=\"scale(1 1) rotate(0) translate(4 1012)\">\n<title>my_graph</title>\n<polygon fill=\"white\" stroke=\"transparent\" points=\"-4,4 -4,-1012 328,-1012 328,4 -4,4\"/>\n<!-- f_G50 -->\n<g id=\"node1\" class=\"node\">\n<title>f_G50</title>\n<text text-anchor=\"middle\" x=\"27\" y=\"-986.3\" font-family=\"Times,serif\" font-size=\"14.00\">f[0]</text>\n</g>\n<!-- BinaryPolynomialMultiplication -->\n<g id=\"node20\" class=\"node\">\n<title>BinaryPolynomialMultiplication</title>\n<polygon fill=\"none\" stroke=\"black\" points=\"91,-704 91,-721 233,-721 233,-704 91,-704\"/>\n<text text-anchor=\"start\" x=\"94\" y=\"-710\" font-family=\"Times,serif\" font-size=\"10.00\">BinaryPolynomialMultiplication</text>\n<polygon fill=\"none\" stroke=\"black\" points=\"91,-683 91,-704 233,-704 233,-683 91,-683\"/>\n<text text-anchor=\"start\" x=\"151.5\" y=\"-689.8\" font-family=\"Times,serif\" font-size=\"14.00\">f[0]</text>\n<polygon fill=\"none\" stroke=\"black\" points=\"91,-662 91,-683 233,-683 233,-662 91,-662\"/>\n<text text-anchor=\"start\" x=\"151.5\" y=\"-668.8\" font-family=\"Times,serif\" font-size=\"14.00\">f[1]</text>\n<polygon fill=\"none\" stroke=\"black\" points=\"91,-641 91,-662 233,-662 233,-641 91,-641\"/>\n<text text-anchor=\"start\" x=\"151.5\" y=\"-647.8\" font-family=\"Times,serif\" font-size=\"14.00\">f[2]</text>\n<polygon fill=\"none\" stroke=\"black\" points=\"91,-620 91,-641 233,-641 233,-620 91,-620\"/>\n<text text-anchor=\"start\" x=\"151.5\" y=\"-626.8\" font-family=\"Times,serif\" font-size=\"14.00\">f[3]</text>\n<polygon fill=\"none\" stroke=\"black\" points=\"91,-599 91,-620 233,-620 233,-599 91,-599\"/>\n<text text-anchor=\"start\" x=\"151.5\" y=\"-605.8\" font-family=\"Times,serif\" font-size=\"14.00\">f[4]</text>\n<polygon fill=\"none\" stroke=\"black\" points=\"91,-578 91,-599 233,-599 233,-578 91,-578\"/>\n<text text-anchor=\"start\" x=\"150.5\" y=\"-584.8\" font-family=\"Times,serif\" font-size=\"14.00\">g[0]</text>\n<polygon fill=\"none\" stroke=\"black\" points=\"91,-557 91,-578 233,-578 233,-557 91,-557\"/>\n<text text-anchor=\"start\" x=\"150.5\" y=\"-563.8\" font-family=\"Times,serif\" font-size=\"14.00\">g[1]</text>\n<polygon fill=\"none\" stroke=\"black\" points=\"91,-536 91,-557 233,-557 233,-536 91,-536\"/>\n<text text-anchor=\"start\" x=\"150.5\" y=\"-542.8\" font-family=\"Times,serif\" font-size=\"14.00\">g[2]</text>\n<polygon fill=\"none\" stroke=\"black\" points=\"91,-515 91,-536 233,-536 233,-515 91,-515\"/>\n<text text-anchor=\"start\" x=\"150.5\" y=\"-521.8\" font-family=\"Times,serif\" font-size=\"14.00\">g[3]</text>\n<polygon fill=\"none\" stroke=\"black\" points=\"91,-494 91,-515 233,-515 233,-494 91,-494\"/>\n<text text-anchor=\"start\" x=\"150.5\" y=\"-500.8\" font-family=\"Times,serif\" font-size=\"14.00\">g[4]</text>\n<polygon fill=\"none\" stroke=\"black\" points=\"91,-473 91,-494 233,-494 233,-473 91,-473\"/>\n<text text-anchor=\"start\" x=\"150.5\" y=\"-479.8\" font-family=\"Times,serif\" font-size=\"14.00\">h[0]</text>\n<polygon fill=\"none\" stroke=\"black\" points=\"91,-452 91,-473 233,-473 233,-452 91,-452\"/>\n<text text-anchor=\"start\" x=\"150.5\" y=\"-458.8\" font-family=\"Times,serif\" font-size=\"14.00\">h[1]</text>\n<polygon fill=\"none\" stroke=\"black\" points=\"91,-431 91,-452 233,-452 233,-431 91,-431\"/>\n<text text-anchor=\"start\" x=\"150.5\" y=\"-437.8\" font-family=\"Times,serif\" font-size=\"14.00\">h[2]</text>\n<polygon fill=\"none\" stroke=\"black\" points=\"91,-410 91,-431 233,-431 233,-410 91,-410\"/>\n<text text-anchor=\"start\" x=\"150.5\" y=\"-416.8\" font-family=\"Times,serif\" font-size=\"14.00\">h[3]</text>\n<polygon fill=\"none\" stroke=\"black\" points=\"91,-389 91,-410 233,-410 233,-389 91,-389\"/>\n<text text-anchor=\"start\" x=\"150.5\" y=\"-395.8\" font-family=\"Times,serif\" font-size=\"14.00\">h[4]</text>\n<polygon fill=\"none\" stroke=\"black\" points=\"91,-368 91,-389 233,-389 233,-368 91,-368\"/>\n<text text-anchor=\"start\" x=\"150.5\" y=\"-374.8\" font-family=\"Times,serif\" font-size=\"14.00\">h[5]</text>\n<polygon fill=\"none\" stroke=\"black\" points=\"91,-347 91,-368 233,-368 233,-347 91,-347\"/>\n<text text-anchor=\"start\" x=\"150.5\" y=\"-353.8\" font-family=\"Times,serif\" font-size=\"14.00\">h[6]</text>\n<polygon fill=\"none\" stroke=\"black\" points=\"91,-326 91,-347 233,-347 233,-326 91,-326\"/>\n<text text-anchor=\"start\" x=\"150.5\" y=\"-332.8\" font-family=\"Times,serif\" font-size=\"14.00\">h[7]</text>\n<polygon fill=\"none\" stroke=\"black\" points=\"91,-305 91,-326 233,-326 233,-305 91,-305\"/>\n<text text-anchor=\"start\" x=\"150.5\" y=\"-311.8\" font-family=\"Times,serif\" font-size=\"14.00\">h[8]</text>\n</g>\n<!-- f_G50&#45;&gt;BinaryPolynomialMultiplication -->\n<g id=\"edge1\" class=\"edge\">\n<title>f_G50:e-&gt;BinaryPolynomialMultiplication:w</title>\n<path fill=\"none\" stroke=\"black\" d=\"M54,-990C69.99,-990 74.14,-714.45 89.3,-695.07\"/>\n<ellipse fill=\"black\" stroke=\"black\" cx=\"90.15\" cy=\"-694.53\" rx=\"1\" ry=\"1\"/>\n<text text-anchor=\"middle\" x=\"72.5\" y=\"-845\" font-family=\"Times,serif\" font-size=\"10.00\">1</text>\n</g>\n<!-- f_G18 -->\n<g id=\"node2\" class=\"node\">\n<title>f_G18</title>\n<text text-anchor=\"middle\" x=\"27\" y=\"-932.3\" font-family=\"Times,serif\" font-size=\"14.00\">f[1]</text>\n</g>\n<!-- f_G18&#45;&gt;BinaryPolynomialMultiplication -->\n<g id=\"edge2\" class=\"edge\">\n<title>f_G18:e-&gt;BinaryPolynomialMultiplication:w</title>\n<path fill=\"none\" stroke=\"black\" d=\"M54,-936C82.82,-936 62.49,-685.18 89.01,-673.43\"/>\n<ellipse fill=\"black\" stroke=\"black\" cx=\"90.02\" cy=\"-673.21\" rx=\"1\" ry=\"1\"/>\n<text text-anchor=\"middle\" x=\"72.5\" y=\"-823\" font-family=\"Times,serif\" font-size=\"10.00\">1</text>\n</g>\n<!-- f_G26 -->\n<g id=\"node3\" class=\"node\">\n<title>f_G26</title>\n<text text-anchor=\"middle\" x=\"27\" y=\"-878.3\" font-family=\"Times,serif\" font-size=\"14.00\">f[2]</text>\n</g>\n<!-- f_G26&#45;&gt;BinaryPolynomialMultiplication -->\n<g id=\"edge3\" class=\"edge\">\n<title>f_G26:e-&gt;BinaryPolynomialMultiplication:w</title>\n<path fill=\"none\" stroke=\"black\" d=\"M54,-882C79.18,-882 65.89,-664.41 88.97,-652.51\"/>\n<ellipse fill=\"black\" stroke=\"black\" cx=\"90.03\" cy=\"-652.24\" rx=\"1\" ry=\"1\"/>\n<text text-anchor=\"middle\" x=\"72.5\" y=\"-776\" font-family=\"Times,serif\" font-size=\"10.00\">1</text>\n</g>\n<!-- f_G32 -->\n<g id=\"node4\" class=\"node\">\n<title>f_G32</title>\n<text text-anchor=\"middle\" x=\"27\" y=\"-824.3\" font-family=\"Times,serif\" font-size=\"14.00\">f[3]</text>\n</g>\n<!-- f_G32&#45;&gt;BinaryPolynomialMultiplication -->\n<g id=\"edge4\" class=\"edge\">\n<title>f_G32:e-&gt;BinaryPolynomialMultiplication:w</title>\n<path fill=\"none\" stroke=\"black\" d=\"M54,-828C75.58,-828 69.17,-643.12 89,-631.57\"/>\n<ellipse fill=\"black\" stroke=\"black\" cx=\"90.04\" cy=\"-631.27\" rx=\"1\" ry=\"1\"/>\n<text text-anchor=\"middle\" x=\"72.5\" y=\"-738\" font-family=\"Times,serif\" font-size=\"10.00\">1</text>\n</g>\n<!-- f_G38 -->\n<g id=\"node5\" class=\"node\">\n<title>f_G38</title>\n<text text-anchor=\"middle\" x=\"27\" y=\"-770.3\" font-family=\"Times,serif\" font-size=\"14.00\">f[4]</text>\n</g>\n<!-- f_G38&#45;&gt;BinaryPolynomialMultiplication -->\n<g id=\"edge5\" class=\"edge\">\n<title>f_G38:e-&gt;BinaryPolynomialMultiplication:w</title>\n<path fill=\"none\" stroke=\"black\" d=\"M54,-774C71.95,-774 72.32,-622.56 88.9,-610.73\"/>\n<ellipse fill=\"black\" stroke=\"black\" cx=\"90.06\" cy=\"-610.33\" rx=\"1\" ry=\"1\"/>\n<text text-anchor=\"middle\" x=\"72.5\" y=\"-695\" font-family=\"Times,serif\" font-size=\"10.00\">1</text>\n</g>\n<!-- g_G51 -->\n<g id=\"node6\" class=\"node\">\n<title>g_G51</title>\n<text text-anchor=\"middle\" x=\"27\" y=\"-716.3\" font-family=\"Times,serif\" font-size=\"14.00\">g[0]</text>\n</g>\n<!-- g_G51&#45;&gt;BinaryPolynomialMultiplication -->\n<g id=\"edge6\" class=\"edge\">\n<title>g_G51:e-&gt;BinaryPolynomialMultiplication:w</title>\n<path fill=\"none\" stroke=\"black\" d=\"M54,-720C83.54,-720 61.82,-595.07 88.96,-589.21\"/>\n<ellipse fill=\"black\" stroke=\"black\" cx=\"90.01\" cy=\"-589.1\" rx=\"1\" ry=\"1\"/>\n<text text-anchor=\"middle\" x=\"72.5\" y=\"-665\" font-family=\"Times,serif\" font-size=\"10.00\">1</text>\n</g>\n<!-- g_G24 -->\n<g id=\"node7\" class=\"node\">\n<title>g_G24</title>\n<text text-anchor=\"middle\" x=\"27\" y=\"-662.3\" font-family=\"Times,serif\" font-size=\"14.00\">g[1]</text>\n</g>\n<!-- g_G24&#45;&gt;BinaryPolynomialMultiplication -->\n<g id=\"edge7\" class=\"edge\">\n<title>g_G24:e-&gt;BinaryPolynomialMultiplication:w</title>\n<path fill=\"none\" stroke=\"black\" d=\"M54,-666C76.55,-666 68.29,-574.03 88.91,-568.28\"/>\n<ellipse fill=\"black\" stroke=\"black\" cx=\"90.01\" cy=\"-568.13\" rx=\"1\" ry=\"1\"/>\n<text text-anchor=\"middle\" x=\"72.5\" y=\"-622\" font-family=\"Times,serif\" font-size=\"10.00\">1</text>\n</g>\n<!-- g_G29 -->\n<g id=\"node8\" class=\"node\">\n<title>g_G29</title>\n<text text-anchor=\"middle\" x=\"27\" y=\"-608.3\" font-family=\"Times,serif\" font-size=\"14.00\">g[2]</text>\n</g>\n<!-- g_G29&#45;&gt;BinaryPolynomialMultiplication -->\n<g id=\"edge8\" class=\"edge\">\n<title>g_G29:e-&gt;BinaryPolynomialMultiplication:w</title>\n<path fill=\"none\" stroke=\"black\" d=\"M54,-612C86.46,-612 59.11,-550.01 88.76,-547.11\"/>\n<ellipse fill=\"black\" stroke=\"black\" cx=\"90\" cy=\"-547.05\" rx=\"1\" ry=\"1\"/>\n<text text-anchor=\"middle\" x=\"72.5\" y=\"-588\" font-family=\"Times,serif\" font-size=\"10.00\">1</text>\n</g>\n<!-- g_G33 -->\n<g id=\"node9\" class=\"node\">\n<title>g_G33</title>\n<text text-anchor=\"middle\" x=\"27\" y=\"-554.3\" font-family=\"Times,serif\" font-size=\"14.00\">g[3]</text>\n</g>\n<!-- g_G33&#45;&gt;BinaryPolynomialMultiplication -->\n<g id=\"edge9\" class=\"edge\">\n<title>g_G33:e-&gt;BinaryPolynomialMultiplication:w</title>\n<path fill=\"none\" stroke=\"black\" d=\"M54,-558C74.89,-558 69.72,-528.45 88.58,-526.14\"/>\n<ellipse fill=\"black\" stroke=\"black\" cx=\"90\" cy=\"-526.06\" rx=\"1\" ry=\"1\"/>\n<text text-anchor=\"middle\" x=\"72.5\" y=\"-545\" font-family=\"Times,serif\" font-size=\"10.00\">1</text>\n</g>\n<!-- g_G39 -->\n<g id=\"node10\" class=\"node\">\n<title>g_G39</title>\n<text text-anchor=\"middle\" x=\"27\" y=\"-500.3\" font-family=\"Times,serif\" font-size=\"14.00\">g[4]</text>\n</g>\n<!-- g_G39&#45;&gt;BinaryPolynomialMultiplication -->\n<g id=\"edge10\" class=\"edge\">\n<title>g_G39:e-&gt;BinaryPolynomialMultiplication:w</title>\n<path fill=\"none\" stroke=\"black\" d=\"M54,-504C69.67,-504 74.14,-504 88.77,-504\"/>\n<ellipse fill=\"black\" stroke=\"black\" cx=\"90\" cy=\"-504\" rx=\"1\" ry=\"1\"/>\n<text text-anchor=\"middle\" x=\"72.5\" y=\"-507\" font-family=\"Times,serif\" font-size=\"10.00\">1</text>\n</g>\n<!-- h_G46 -->\n<g id=\"node11\" class=\"node\">\n<title>h_G46</title>\n<text text-anchor=\"middle\" x=\"27\" y=\"-446.3\" font-family=\"Times,serif\" font-size=\"14.00\">h[0]</text>\n</g>\n<!-- h_G46&#45;&gt;BinaryPolynomialMultiplication -->\n<g id=\"edge11\" class=\"edge\">\n<title>h_G46:e-&gt;BinaryPolynomialMultiplication:w</title>\n<path fill=\"none\" stroke=\"black\" d=\"M54,-450C75.17,-450 69.47,-480.47 88.55,-482.85\"/>\n<ellipse fill=\"black\" stroke=\"black\" cx=\"90\" cy=\"-482.94\" rx=\"1\" ry=\"1\"/>\n<text text-anchor=\"middle\" x=\"72.5\" y=\"-470\" font-family=\"Times,serif\" font-size=\"10.00\">1</text>\n</g>\n<!-- h_G19 -->\n<g id=\"node12\" class=\"node\">\n<title>h_G19</title>\n<text text-anchor=\"middle\" x=\"27\" y=\"-392.3\" font-family=\"Times,serif\" font-size=\"14.00\">h[1]</text>\n</g>\n<!-- h_G19&#45;&gt;BinaryPolynomialMultiplication -->\n<g id=\"edge12\" class=\"edge\">\n<title>h_G19:e-&gt;BinaryPolynomialMultiplication:w</title>\n<path fill=\"none\" stroke=\"black\" d=\"M54,-396C86.84,-396 58.75,-458.94 88.74,-461.89\"/>\n<ellipse fill=\"black\" stroke=\"black\" cx=\"90\" cy=\"-461.95\" rx=\"1\" ry=\"1\"/>\n<text text-anchor=\"middle\" x=\"72.5\" y=\"-439\" font-family=\"Times,serif\" font-size=\"10.00\">1</text>\n</g>\n<!-- h_G23 -->\n<g id=\"node13\" class=\"node\">\n<title>h_G23</title>\n<text text-anchor=\"middle\" x=\"27\" y=\"-338.3\" font-family=\"Times,serif\" font-size=\"14.00\">h[2]</text>\n</g>\n<!-- h_G23&#45;&gt;BinaryPolynomialMultiplication -->\n<g id=\"edge13\" class=\"edge\">\n<title>h_G23:e-&gt;BinaryPolynomialMultiplication:w</title>\n<path fill=\"none\" stroke=\"black\" d=\"M54,-342C76.75,-342 68.1,-434.91 88.89,-440.72\"/>\n<ellipse fill=\"black\" stroke=\"black\" cx=\"90.01\" cy=\"-440.87\" rx=\"1\" ry=\"1\"/>\n<text text-anchor=\"middle\" x=\"72.5\" y=\"-397\" font-family=\"Times,serif\" font-size=\"10.00\">1</text>\n</g>\n<!-- h_G30 -->\n<g id=\"node14\" class=\"node\">\n<title>h_G30</title>\n<text text-anchor=\"middle\" x=\"27\" y=\"-284.3\" font-family=\"Times,serif\" font-size=\"14.00\">h[3]</text>\n</g>\n<!-- h_G30&#45;&gt;BinaryPolynomialMultiplication -->\n<g id=\"edge14\" class=\"edge\">\n<title>h_G30:e-&gt;BinaryPolynomialMultiplication:w</title>\n<path fill=\"none\" stroke=\"black\" d=\"M54,-288C83.75,-288 61.63,-413.89 88.95,-419.79\"/>\n<ellipse fill=\"black\" stroke=\"black\" cx=\"90.01\" cy=\"-419.9\" rx=\"1\" ry=\"1\"/>\n<text text-anchor=\"middle\" x=\"72.5\" y=\"-364\" font-family=\"Times,serif\" font-size=\"10.00\">1</text>\n</g>\n<!-- h_G36 -->\n<g id=\"node15\" class=\"node\">\n<title>h_G36</title>\n<text text-anchor=\"middle\" x=\"27\" y=\"-230.3\" font-family=\"Times,serif\" font-size=\"14.00\">h[4]</text>\n</g>\n<!-- h_G36&#45;&gt;BinaryPolynomialMultiplication -->\n<g id=\"edge15\" class=\"edge\">\n<title>h_G36:e-&gt;BinaryPolynomialMultiplication:w</title>\n<path fill=\"none\" stroke=\"black\" d=\"M54,-234C72.05,-234 72.23,-386.36 88.88,-398.26\"/>\n<ellipse fill=\"black\" stroke=\"black\" cx=\"90.06\" cy=\"-398.67\" rx=\"1\" ry=\"1\"/>\n<text text-anchor=\"middle\" x=\"72.5\" y=\"-319\" font-family=\"Times,serif\" font-size=\"10.00\">1</text>\n</g>\n<!-- h_G7 -->\n<g id=\"node16\" class=\"node\">\n<title>h_G7</title>\n<text text-anchor=\"middle\" x=\"27\" y=\"-176.3\" font-family=\"Times,serif\" font-size=\"14.00\">h[5]</text>\n</g>\n<!-- h_G7&#45;&gt;BinaryPolynomialMultiplication -->\n<g id=\"edge16\" class=\"edge\">\n<title>h_G7:e-&gt;BinaryPolynomialMultiplication:w</title>\n<path fill=\"none\" stroke=\"black\" d=\"M54,-180C75.68,-180 69.07,-365.82 88.99,-377.43\"/>\n<ellipse fill=\"black\" stroke=\"black\" cx=\"90.04\" cy=\"-377.73\" rx=\"1\" ry=\"1\"/>\n<text text-anchor=\"middle\" x=\"72.5\" y=\"-287\" font-family=\"Times,serif\" font-size=\"10.00\">1</text>\n</g>\n<!-- h_G12 -->\n<g id=\"node17\" class=\"node\">\n<title>h_G12</title>\n<text text-anchor=\"middle\" x=\"27\" y=\"-122.3\" font-family=\"Times,serif\" font-size=\"14.00\">h[6]</text>\n</g>\n<!-- h_G12&#45;&gt;BinaryPolynomialMultiplication -->\n<g id=\"edge17\" class=\"edge\">\n<title>h_G12:e-&gt;BinaryPolynomialMultiplication:w</title>\n<path fill=\"none\" stroke=\"black\" d=\"M54,-126C79.28,-126 65.8,-344.54 88.96,-356.49\"/>\n<ellipse fill=\"black\" stroke=\"black\" cx=\"90.03\" cy=\"-356.76\" rx=\"1\" ry=\"1\"/>\n<text text-anchor=\"middle\" x=\"72.5\" y=\"-251\" font-family=\"Times,serif\" font-size=\"10.00\">1</text>\n</g>\n<!-- h_G20 -->\n<g id=\"node18\" class=\"node\">\n<title>h_G20</title>\n<text text-anchor=\"middle\" x=\"27\" y=\"-68.3\" font-family=\"Times,serif\" font-size=\"14.00\">h[7]</text>\n</g>\n<!-- h_G20&#45;&gt;BinaryPolynomialMultiplication -->\n<g id=\"edge18\" class=\"edge\">\n<title>h_G20:e-&gt;BinaryPolynomialMultiplication:w</title>\n<path fill=\"none\" stroke=\"black\" d=\"M54,-72C82.93,-72 62.39,-323.77 89,-335.57\"/>\n<ellipse fill=\"black\" stroke=\"black\" cx=\"90.02\" cy=\"-335.79\" rx=\"1\" ry=\"1\"/>\n<text text-anchor=\"middle\" x=\"72.5\" y=\"-222\" font-family=\"Times,serif\" font-size=\"10.00\">1</text>\n</g>\n<!-- h_G27 -->\n<g id=\"node19\" class=\"node\">\n<title>h_G27</title>\n<text text-anchor=\"middle\" x=\"27\" y=\"-14.3\" font-family=\"Times,serif\" font-size=\"14.00\">h[8]</text>\n</g>\n<!-- h_G27&#45;&gt;BinaryPolynomialMultiplication -->\n<g id=\"edge19\" class=\"edge\">\n<title>h_G27:e-&gt;BinaryPolynomialMultiplication:w</title>\n<path fill=\"none\" stroke=\"black\" d=\"M54,-18C70.04,-18 74.09,-294.48 89.29,-313.92\"/>\n<ellipse fill=\"black\" stroke=\"black\" cx=\"90.15\" cy=\"-314.47\" rx=\"1\" ry=\"1\"/>\n<text text-anchor=\"middle\" x=\"72.5\" y=\"-170\" font-family=\"Times,serif\" font-size=\"10.00\">1</text>\n</g>\n<!-- f_G13 -->\n<g id=\"node21\" class=\"node\">\n<title>f_G13</title>\n<text text-anchor=\"middle\" x=\"297\" y=\"-986.3\" font-family=\"Times,serif\" font-size=\"14.00\">f[0]</text>\n</g>\n<!-- BinaryPolynomialMultiplication&#45;&gt;f_G13 -->\n<g id=\"edge20\" class=\"edge\">\n<title>BinaryPolynomialMultiplication:e-&gt;f_G13:w</title>\n<path fill=\"none\" stroke=\"black\" d=\"M233,-694C248.99,-694 253.14,-969.55 268.3,-988.93\"/>\n<ellipse fill=\"black\" stroke=\"black\" cx=\"269.15\" cy=\"-989.47\" rx=\"1\" ry=\"1\"/>\n<text text-anchor=\"middle\" x=\"251.5\" y=\"-845\" font-family=\"Times,serif\" font-size=\"10.00\">1</text>\n</g>\n<!-- f_G37 -->\n<g id=\"node22\" class=\"node\">\n<title>f_G37</title>\n<text text-anchor=\"middle\" x=\"297\" y=\"-932.3\" font-family=\"Times,serif\" font-size=\"14.00\">f[1]</text>\n</g>\n<!-- BinaryPolynomialMultiplication&#45;&gt;f_G37 -->\n<g id=\"edge21\" class=\"edge\">\n<title>BinaryPolynomialMultiplication:e-&gt;f_G37:w</title>\n<path fill=\"none\" stroke=\"black\" d=\"M233,-673C261.82,-673 241.49,-923.82 268.01,-935.57\"/>\n<ellipse fill=\"black\" stroke=\"black\" cx=\"269.02\" cy=\"-935.79\" rx=\"1\" ry=\"1\"/>\n<text text-anchor=\"middle\" x=\"251.5\" y=\"-823\" font-family=\"Times,serif\" font-size=\"10.00\">1</text>\n</g>\n<!-- f_G43 -->\n<g id=\"node23\" class=\"node\">\n<title>f_G43</title>\n<text text-anchor=\"middle\" x=\"297\" y=\"-878.3\" font-family=\"Times,serif\" font-size=\"14.00\">f[2]</text>\n</g>\n<!-- BinaryPolynomialMultiplication&#45;&gt;f_G43 -->\n<g id=\"edge22\" class=\"edge\">\n<title>BinaryPolynomialMultiplication:e-&gt;f_G43:w</title>\n<path fill=\"none\" stroke=\"black\" d=\"M233,-652C258.18,-652 244.89,-869.59 267.97,-881.49\"/>\n<ellipse fill=\"black\" stroke=\"black\" cx=\"269.03\" cy=\"-881.76\" rx=\"1\" ry=\"1\"/>\n<text text-anchor=\"middle\" x=\"251.5\" y=\"-776\" font-family=\"Times,serif\" font-size=\"10.00\">1</text>\n</g>\n<!-- f_G49 -->\n<g id=\"node24\" class=\"node\">\n<title>f_G49</title>\n<text text-anchor=\"middle\" x=\"297\" y=\"-824.3\" font-family=\"Times,serif\" font-size=\"14.00\">f[3]</text>\n</g>\n<!-- BinaryPolynomialMultiplication&#45;&gt;f_G49 -->\n<g id=\"edge23\" class=\"edge\">\n<title>BinaryPolynomialMultiplication:e-&gt;f_G49:w</title>\n<path fill=\"none\" stroke=\"black\" d=\"M233,-631C254.58,-631 248.17,-815.88 268,-827.43\"/>\n<ellipse fill=\"black\" stroke=\"black\" cx=\"269.04\" cy=\"-827.73\" rx=\"1\" ry=\"1\"/>\n<text text-anchor=\"middle\" x=\"251.5\" y=\"-738\" font-family=\"Times,serif\" font-size=\"10.00\">1</text>\n</g>\n<!-- f_G56 -->\n<g id=\"node25\" class=\"node\">\n<title>f_G56</title>\n<text text-anchor=\"middle\" x=\"297\" y=\"-770.3\" font-family=\"Times,serif\" font-size=\"14.00\">f[4]</text>\n</g>\n<!-- BinaryPolynomialMultiplication&#45;&gt;f_G56 -->\n<g id=\"edge24\" class=\"edge\">\n<title>BinaryPolynomialMultiplication:e-&gt;f_G56:w</title>\n<path fill=\"none\" stroke=\"black\" d=\"M233,-610C250.95,-610 251.32,-761.44 267.9,-773.27\"/>\n<ellipse fill=\"black\" stroke=\"black\" cx=\"269.06\" cy=\"-773.67\" rx=\"1\" ry=\"1\"/>\n<text text-anchor=\"middle\" x=\"251.5\" y=\"-695\" font-family=\"Times,serif\" font-size=\"10.00\">1</text>\n</g>\n<!-- g_G16 -->\n<g id=\"node26\" class=\"node\">\n<title>g_G16</title>\n<text text-anchor=\"middle\" x=\"297\" y=\"-716.3\" font-family=\"Times,serif\" font-size=\"14.00\">g[0]</text>\n</g>\n<!-- BinaryPolynomialMultiplication&#45;&gt;g_G16 -->\n<g id=\"edge25\" class=\"edge\">\n<title>BinaryPolynomialMultiplication:e-&gt;g_G16:w</title>\n<path fill=\"none\" stroke=\"black\" d=\"M233,-589C262.54,-589 240.82,-713.93 267.96,-719.79\"/>\n<ellipse fill=\"black\" stroke=\"black\" cx=\"269.01\" cy=\"-719.9\" rx=\"1\" ry=\"1\"/>\n<text text-anchor=\"middle\" x=\"251.5\" y=\"-665\" font-family=\"Times,serif\" font-size=\"10.00\">1</text>\n</g>\n<!-- g_G41 -->\n<g id=\"node27\" class=\"node\">\n<title>g_G41</title>\n<text text-anchor=\"middle\" x=\"297\" y=\"-662.3\" font-family=\"Times,serif\" font-size=\"14.00\">g[1]</text>\n</g>\n<!-- BinaryPolynomialMultiplication&#45;&gt;g_G41 -->\n<g id=\"edge26\" class=\"edge\">\n<title>BinaryPolynomialMultiplication:e-&gt;g_G41:w</title>\n<path fill=\"none\" stroke=\"black\" d=\"M233,-568C255.55,-568 247.29,-659.97 267.91,-665.72\"/>\n<ellipse fill=\"black\" stroke=\"black\" cx=\"269.01\" cy=\"-665.87\" rx=\"1\" ry=\"1\"/>\n<text text-anchor=\"middle\" x=\"251.5\" y=\"-622\" font-family=\"Times,serif\" font-size=\"10.00\">1</text>\n</g>\n<!-- g_G47 -->\n<g id=\"node28\" class=\"node\">\n<title>g_G47</title>\n<text text-anchor=\"middle\" x=\"297\" y=\"-608.3\" font-family=\"Times,serif\" font-size=\"14.00\">g[2]</text>\n</g>\n<!-- BinaryPolynomialMultiplication&#45;&gt;g_G47 -->\n<g id=\"edge27\" class=\"edge\">\n<title>BinaryPolynomialMultiplication:e-&gt;g_G47:w</title>\n<path fill=\"none\" stroke=\"black\" d=\"M233,-547C265.46,-547 238.11,-608.99 267.76,-611.89\"/>\n<ellipse fill=\"black\" stroke=\"black\" cx=\"269\" cy=\"-611.95\" rx=\"1\" ry=\"1\"/>\n<text text-anchor=\"middle\" x=\"251.5\" y=\"-588\" font-family=\"Times,serif\" font-size=\"10.00\">1</text>\n</g>\n<!-- g_G54 -->\n<g id=\"node29\" class=\"node\">\n<title>g_G54</title>\n<text text-anchor=\"middle\" x=\"297\" y=\"-554.3\" font-family=\"Times,serif\" font-size=\"14.00\">g[3]</text>\n</g>\n<!-- BinaryPolynomialMultiplication&#45;&gt;g_G54 -->\n<g id=\"edge28\" class=\"edge\">\n<title>BinaryPolynomialMultiplication:e-&gt;g_G54:w</title>\n<path fill=\"none\" stroke=\"black\" d=\"M233,-526C253.89,-526 248.72,-555.55 267.58,-557.86\"/>\n<ellipse fill=\"black\" stroke=\"black\" cx=\"269\" cy=\"-557.94\" rx=\"1\" ry=\"1\"/>\n<text text-anchor=\"middle\" x=\"251.5\" y=\"-545\" font-family=\"Times,serif\" font-size=\"10.00\">1</text>\n</g>\n<!-- g_G5 -->\n<g id=\"node30\" class=\"node\">\n<title>g_G5</title>\n<text text-anchor=\"middle\" x=\"297\" y=\"-500.3\" font-family=\"Times,serif\" font-size=\"14.00\">g[4]</text>\n</g>\n<!-- BinaryPolynomialMultiplication&#45;&gt;g_G5 -->\n<g id=\"edge29\" class=\"edge\">\n<title>BinaryPolynomialMultiplication:e-&gt;g_G5:w</title>\n<path fill=\"none\" stroke=\"black\" d=\"M233,-504C248.67,-504 253.14,-504 267.77,-504\"/>\n<ellipse fill=\"black\" stroke=\"black\" cx=\"269\" cy=\"-504\" rx=\"1\" ry=\"1\"/>\n<text text-anchor=\"middle\" x=\"251.5\" y=\"-507\" font-family=\"Times,serif\" font-size=\"10.00\">1</text>\n</g>\n<!-- h_G22 -->\n<g id=\"node31\" class=\"node\">\n<title>h_G22</title>\n<text text-anchor=\"middle\" x=\"297\" y=\"-446.3\" font-family=\"Times,serif\" font-size=\"14.00\">h[0]</text>\n</g>\n<!-- BinaryPolynomialMultiplication&#45;&gt;h_G22 -->\n<g id=\"edge30\" class=\"edge\">\n<title>BinaryPolynomialMultiplication:e-&gt;h_G22:w</title>\n<path fill=\"none\" stroke=\"black\" d=\"M233,-483C254.17,-483 248.47,-452.53 267.55,-450.15\"/>\n<ellipse fill=\"black\" stroke=\"black\" cx=\"269\" cy=\"-450.06\" rx=\"1\" ry=\"1\"/>\n<text text-anchor=\"middle\" x=\"251.5\" y=\"-470\" font-family=\"Times,serif\" font-size=\"10.00\">1</text>\n</g>\n<!-- h_G42 -->\n<g id=\"node32\" class=\"node\">\n<title>h_G42</title>\n<text text-anchor=\"middle\" x=\"297\" y=\"-392.3\" font-family=\"Times,serif\" font-size=\"14.00\">h[1]</text>\n</g>\n<!-- BinaryPolynomialMultiplication&#45;&gt;h_G42 -->\n<g id=\"edge31\" class=\"edge\">\n<title>BinaryPolynomialMultiplication:e-&gt;h_G42:w</title>\n<path fill=\"none\" stroke=\"black\" d=\"M233,-462C265.84,-462 237.75,-399.06 267.74,-396.11\"/>\n<ellipse fill=\"black\" stroke=\"black\" cx=\"269\" cy=\"-396.05\" rx=\"1\" ry=\"1\"/>\n<text text-anchor=\"middle\" x=\"251.5\" y=\"-439\" font-family=\"Times,serif\" font-size=\"10.00\">1</text>\n</g>\n<!-- h_G48 -->\n<g id=\"node33\" class=\"node\">\n<title>h_G48</title>\n<text text-anchor=\"middle\" x=\"297\" y=\"-338.3\" font-family=\"Times,serif\" font-size=\"14.00\">h[2]</text>\n</g>\n<!-- BinaryPolynomialMultiplication&#45;&gt;h_G48 -->\n<g id=\"edge32\" class=\"edge\">\n<title>BinaryPolynomialMultiplication:e-&gt;h_G48:w</title>\n<path fill=\"none\" stroke=\"black\" d=\"M233,-441C255.75,-441 247.1,-348.09 267.89,-342.28\"/>\n<ellipse fill=\"black\" stroke=\"black\" cx=\"269.01\" cy=\"-342.13\" rx=\"1\" ry=\"1\"/>\n<text text-anchor=\"middle\" x=\"251.5\" y=\"-397\" font-family=\"Times,serif\" font-size=\"10.00\">1</text>\n</g>\n<!-- h_G2 -->\n<g id=\"node34\" class=\"node\">\n<title>h_G2</title>\n<text text-anchor=\"middle\" x=\"297\" y=\"-284.3\" font-family=\"Times,serif\" font-size=\"14.00\">h[3]</text>\n</g>\n<!-- BinaryPolynomialMultiplication&#45;&gt;h_G2 -->\n<g id=\"edge33\" class=\"edge\">\n<title>BinaryPolynomialMultiplication:e-&gt;h_G2:w</title>\n<path fill=\"none\" stroke=\"black\" d=\"M233,-420C262.75,-420 240.63,-294.11 267.95,-288.21\"/>\n<ellipse fill=\"black\" stroke=\"black\" cx=\"269.01\" cy=\"-288.1\" rx=\"1\" ry=\"1\"/>\n<text text-anchor=\"middle\" x=\"251.5\" y=\"-364\" font-family=\"Times,serif\" font-size=\"10.00\">1</text>\n</g>\n<!-- h_G9 -->\n<g id=\"node35\" class=\"node\">\n<title>h_G9</title>\n<text text-anchor=\"middle\" x=\"297\" y=\"-230.3\" font-family=\"Times,serif\" font-size=\"14.00\">h[4]</text>\n</g>\n<!-- BinaryPolynomialMultiplication&#45;&gt;h_G9 -->\n<g id=\"edge34\" class=\"edge\">\n<title>BinaryPolynomialMultiplication:e-&gt;h_G9:w</title>\n<path fill=\"none\" stroke=\"black\" d=\"M233,-399C251.05,-399 251.23,-246.64 267.88,-234.74\"/>\n<ellipse fill=\"black\" stroke=\"black\" cx=\"269.06\" cy=\"-234.33\" rx=\"1\" ry=\"1\"/>\n<text text-anchor=\"middle\" x=\"251.5\" y=\"-319\" font-family=\"Times,serif\" font-size=\"10.00\">1</text>\n</g>\n<!-- h_G34 -->\n<g id=\"node36\" class=\"node\">\n<title>h_G34</title>\n<text text-anchor=\"middle\" x=\"297\" y=\"-176.3\" font-family=\"Times,serif\" font-size=\"14.00\">h[5]</text>\n</g>\n<!-- BinaryPolynomialMultiplication&#45;&gt;h_G34 -->\n<g id=\"edge35\" class=\"edge\">\n<title>BinaryPolynomialMultiplication:e-&gt;h_G34:w</title>\n<path fill=\"none\" stroke=\"black\" d=\"M233,-378C254.68,-378 248.07,-192.18 267.99,-180.57\"/>\n<ellipse fill=\"black\" stroke=\"black\" cx=\"269.04\" cy=\"-180.27\" rx=\"1\" ry=\"1\"/>\n<text text-anchor=\"middle\" x=\"251.5\" y=\"-287\" font-family=\"Times,serif\" font-size=\"10.00\">1</text>\n</g>\n<!-- h_G40 -->\n<g id=\"node37\" class=\"node\">\n<title>h_G40</title>\n<text text-anchor=\"middle\" x=\"297\" y=\"-122.3\" font-family=\"Times,serif\" font-size=\"14.00\">h[6]</text>\n</g>\n<!-- BinaryPolynomialMultiplication&#45;&gt;h_G40 -->\n<g id=\"edge36\" class=\"edge\">\n<title>BinaryPolynomialMultiplication:e-&gt;h_G40:w</title>\n<path fill=\"none\" stroke=\"black\" d=\"M233,-357C258.28,-357 244.8,-138.46 267.96,-126.51\"/>\n<ellipse fill=\"black\" stroke=\"black\" cx=\"269.03\" cy=\"-126.24\" rx=\"1\" ry=\"1\"/>\n<text text-anchor=\"middle\" x=\"251.5\" y=\"-251\" font-family=\"Times,serif\" font-size=\"10.00\">1</text>\n</g>\n<!-- h_G45 -->\n<g id=\"node38\" class=\"node\">\n<title>h_G45</title>\n<text text-anchor=\"middle\" x=\"297\" y=\"-68.3\" font-family=\"Times,serif\" font-size=\"14.00\">h[7]</text>\n</g>\n<!-- BinaryPolynomialMultiplication&#45;&gt;h_G45 -->\n<g id=\"edge37\" class=\"edge\">\n<title>BinaryPolynomialMultiplication:e-&gt;h_G45:w</title>\n<path fill=\"none\" stroke=\"black\" d=\"M233,-336C261.93,-336 241.39,-84.23 268,-72.43\"/>\n<ellipse fill=\"black\" stroke=\"black\" cx=\"269.02\" cy=\"-72.21\" rx=\"1\" ry=\"1\"/>\n<text text-anchor=\"middle\" x=\"251.5\" y=\"-222\" font-family=\"Times,serif\" font-size=\"10.00\">1</text>\n</g>\n<!-- h_G52 -->\n<g id=\"node39\" class=\"node\">\n<title>h_G52</title>\n<text text-anchor=\"middle\" x=\"297\" y=\"-14.3\" font-family=\"Times,serif\" font-size=\"14.00\">h[8]</text>\n</g>\n<!-- BinaryPolynomialMultiplication&#45;&gt;h_G52 -->\n<g id=\"edge38\" class=\"edge\">\n<title>BinaryPolynomialMultiplication:e-&gt;h_G52:w</title>\n<path fill=\"none\" stroke=\"black\" d=\"M233,-315C249.04,-315 253.09,-38.52 268.29,-19.08\"/>\n<ellipse fill=\"black\" stroke=\"black\" cx=\"269.15\" cy=\"-18.53\" rx=\"1\" ry=\"1\"/>\n<text text-anchor=\"middle\" x=\"251.5\" y=\"-170\" font-family=\"Times,serif\" font-size=\"10.00\">1</text>\n</g>\n</g>\n</svg>",
          "text/plain": "<IPython.core.display.SVG object>"
         },
         "metadata": {},
         "output_type": "display_data"
        }
       ],
       "tabbable": null,
       "tooltip": null
      }
     },
     "86029b0fd804490db7877e7e494c0245": {
      "model_module": "@jupyter-widgets/output",
      "model_module_version": "1.0.0",
      "model_name": "OutputModel",
      "state": {
       "_dom_classes": [],
       "_model_module": "@jupyter-widgets/output",
       "_model_module_version": "1.0.0",
       "_model_name": "OutputModel",
       "_view_count": null,
       "_view_module": "@jupyter-widgets/output",
       "_view_module_version": "1.0.0",
       "_view_name": "OutputView",
       "layout": "IPY_MODEL_d0696693387d4db585fc76ba5272f40d",
       "msg_id": "",
       "outputs": [
        {
         "data": {
          "text/markdown": "`multiplypolybyoneplusxk`",
          "text/plain": "<IPython.core.display.Markdown object>"
         },
         "metadata": {},
         "output_type": "display_data"
        },
        {
         "data": {
          "image/svg+xml": "<svg xmlns=\"http://www.w3.org/2000/svg\" xmlns:xlink=\"http://www.w3.org/1999/xlink\" width=\"311pt\" height=\"1178pt\" viewBox=\"0.00 0.00 311.00 1178.00\">\n<g id=\"graph0\" class=\"graph\" transform=\"scale(1 1) rotate(0) translate(4 1174)\">\n<title>my_graph</title>\n<polygon fill=\"white\" stroke=\"transparent\" points=\"-4,4 -4,-1174 307,-1174 307,4 -4,4\"/>\n<!-- f_G60 -->\n<g id=\"node1\" class=\"node\">\n<title>f_G60</title>\n<text text-anchor=\"middle\" x=\"27\" y=\"-1148.3\" font-family=\"Times,serif\" font-size=\"14.00\">f[0]</text>\n</g>\n<!-- MultiplyPolyByOnePlusXk -->\n<g id=\"node23\" class=\"node\">\n<title>MultiplyPolyByOnePlusXk</title>\n<polygon fill=\"none\" stroke=\"black\" points=\"91.5,-816 91.5,-833 212.5,-833 212.5,-816 91.5,-816\"/>\n<text text-anchor=\"start\" x=\"94.5\" y=\"-822\" font-family=\"Times,serif\" font-size=\"10.00\">MultiplyPolyByOnePlusXk</text>\n<polygon fill=\"none\" stroke=\"black\" points=\"91.5,-795 91.5,-816 212.5,-816 212.5,-795 91.5,-795\"/>\n<text text-anchor=\"start\" x=\"141.5\" y=\"-801.8\" font-family=\"Times,serif\" font-size=\"14.00\">f[0]</text>\n<polygon fill=\"none\" stroke=\"black\" points=\"91.5,-774 91.5,-795 212.5,-795 212.5,-774 91.5,-774\"/>\n<text text-anchor=\"start\" x=\"141.5\" y=\"-780.8\" font-family=\"Times,serif\" font-size=\"14.00\">f[1]</text>\n<polygon fill=\"none\" stroke=\"black\" points=\"91.5,-753 91.5,-774 212.5,-774 212.5,-753 91.5,-753\"/>\n<text text-anchor=\"start\" x=\"141.5\" y=\"-759.8\" font-family=\"Times,serif\" font-size=\"14.00\">f[2]</text>\n<polygon fill=\"none\" stroke=\"black\" points=\"91.5,-732 91.5,-753 212.5,-753 212.5,-732 91.5,-732\"/>\n<text text-anchor=\"start\" x=\"141.5\" y=\"-738.8\" font-family=\"Times,serif\" font-size=\"14.00\">f[3]</text>\n<polygon fill=\"none\" stroke=\"black\" points=\"91.5,-711 91.5,-732 212.5,-732 212.5,-711 91.5,-711\"/>\n<text text-anchor=\"start\" x=\"141.5\" y=\"-717.8\" font-family=\"Times,serif\" font-size=\"14.00\">f[4]</text>\n<polygon fill=\"none\" stroke=\"black\" points=\"91.5,-690 91.5,-711 212.5,-711 212.5,-690 91.5,-690\"/>\n<text text-anchor=\"start\" x=\"140.5\" y=\"-696.8\" font-family=\"Times,serif\" font-size=\"14.00\">g[0]</text>\n<polygon fill=\"none\" stroke=\"black\" points=\"91.5,-669 91.5,-690 212.5,-690 212.5,-669 91.5,-669\"/>\n<text text-anchor=\"start\" x=\"140.5\" y=\"-675.8\" font-family=\"Times,serif\" font-size=\"14.00\">g[1]</text>\n<polygon fill=\"none\" stroke=\"black\" points=\"91.5,-648 91.5,-669 212.5,-669 212.5,-648 91.5,-648\"/>\n<text text-anchor=\"start\" x=\"140.5\" y=\"-654.8\" font-family=\"Times,serif\" font-size=\"14.00\">g[2]</text>\n<polygon fill=\"none\" stroke=\"black\" points=\"91.5,-627 91.5,-648 212.5,-648 212.5,-627 91.5,-627\"/>\n<text text-anchor=\"start\" x=\"140.5\" y=\"-633.8\" font-family=\"Times,serif\" font-size=\"14.00\">g[3]</text>\n<polygon fill=\"none\" stroke=\"black\" points=\"91.5,-606 91.5,-627 212.5,-627 212.5,-606 91.5,-606\"/>\n<text text-anchor=\"start\" x=\"140.5\" y=\"-612.8\" font-family=\"Times,serif\" font-size=\"14.00\">g[4]</text>\n<polygon fill=\"none\" stroke=\"black\" points=\"91.5,-585 91.5,-606 212.5,-606 212.5,-585 91.5,-585\"/>\n<text text-anchor=\"start\" x=\"140.5\" y=\"-591.8\" font-family=\"Times,serif\" font-size=\"14.00\">h[0]</text>\n<polygon fill=\"none\" stroke=\"black\" points=\"91.5,-564 91.5,-585 212.5,-585 212.5,-564 91.5,-564\"/>\n<text text-anchor=\"start\" x=\"140.5\" y=\"-570.8\" font-family=\"Times,serif\" font-size=\"14.00\">h[1]</text>\n<polygon fill=\"none\" stroke=\"black\" points=\"91.5,-543 91.5,-564 212.5,-564 212.5,-543 91.5,-543\"/>\n<text text-anchor=\"start\" x=\"140.5\" y=\"-549.8\" font-family=\"Times,serif\" font-size=\"14.00\">h[2]</text>\n<polygon fill=\"none\" stroke=\"black\" points=\"91.5,-522 91.5,-543 212.5,-543 212.5,-522 91.5,-522\"/>\n<text text-anchor=\"start\" x=\"140.5\" y=\"-528.8\" font-family=\"Times,serif\" font-size=\"14.00\">h[3]</text>\n<polygon fill=\"none\" stroke=\"black\" points=\"91.5,-501 91.5,-522 212.5,-522 212.5,-501 91.5,-501\"/>\n<text text-anchor=\"start\" x=\"140.5\" y=\"-507.8\" font-family=\"Times,serif\" font-size=\"14.00\">h[4]</text>\n<polygon fill=\"none\" stroke=\"black\" points=\"91.5,-480 91.5,-501 212.5,-501 212.5,-480 91.5,-480\"/>\n<text text-anchor=\"start\" x=\"140.5\" y=\"-486.8\" font-family=\"Times,serif\" font-size=\"14.00\">h[5]</text>\n<polygon fill=\"none\" stroke=\"black\" points=\"91.5,-459 91.5,-480 212.5,-480 212.5,-459 91.5,-459\"/>\n<text text-anchor=\"start\" x=\"140.5\" y=\"-465.8\" font-family=\"Times,serif\" font-size=\"14.00\">h[6]</text>\n<polygon fill=\"none\" stroke=\"black\" points=\"91.5,-438 91.5,-459 212.5,-459 212.5,-438 91.5,-438\"/>\n<text text-anchor=\"start\" x=\"140.5\" y=\"-444.8\" font-family=\"Times,serif\" font-size=\"14.00\">h[7]</text>\n<polygon fill=\"none\" stroke=\"black\" points=\"91.5,-417 91.5,-438 212.5,-438 212.5,-417 91.5,-417\"/>\n<text text-anchor=\"start\" x=\"140.5\" y=\"-423.8\" font-family=\"Times,serif\" font-size=\"14.00\">h[8]</text>\n<polygon fill=\"none\" stroke=\"black\" points=\"91.5,-396 91.5,-417 212.5,-417 212.5,-396 91.5,-396\"/>\n<text text-anchor=\"start\" x=\"140.5\" y=\"-402.8\" font-family=\"Times,serif\" font-size=\"14.00\">h[9]</text>\n<polygon fill=\"none\" stroke=\"black\" points=\"91.5,-375 91.5,-396 212.5,-396 212.5,-375 91.5,-375\"/>\n<text text-anchor=\"start\" x=\"137\" y=\"-381.8\" font-family=\"Times,serif\" font-size=\"14.00\">h[10]</text>\n<polygon fill=\"none\" stroke=\"black\" points=\"91.5,-354 91.5,-375 212.5,-375 212.5,-354 91.5,-354\"/>\n<text text-anchor=\"start\" x=\"137\" y=\"-360.8\" font-family=\"Times,serif\" font-size=\"14.00\">h[11]</text>\n</g>\n<!-- f_G60&#45;&gt;MultiplyPolyByOnePlusXk -->\n<g id=\"edge1\" class=\"edge\">\n<title>f_G60:e-&gt;MultiplyPolyByOnePlusXk:w</title>\n<path fill=\"none\" stroke=\"black\" d=\"M54,-1152C72.73,-1152 71.75,-827.29 89.25,-806.99\"/>\n<ellipse fill=\"black\" stroke=\"black\" cx=\"90.13\" cy=\"-806.49\" rx=\"1\" ry=\"1\"/>\n<text text-anchor=\"middle\" x=\"72.5\" y=\"-982\" font-family=\"Times,serif\" font-size=\"10.00\">1</text>\n</g>\n<!-- f_G7 -->\n<g id=\"node2\" class=\"node\">\n<title>f_G7</title>\n<text text-anchor=\"middle\" x=\"27\" y=\"-1094.3\" font-family=\"Times,serif\" font-size=\"14.00\">f[1]</text>\n</g>\n<!-- f_G7&#45;&gt;MultiplyPolyByOnePlusXk -->\n<g id=\"edge2\" class=\"edge\">\n<title>f_G7:e-&gt;MultiplyPolyByOnePlusXk:w</title>\n<path fill=\"none\" stroke=\"black\" d=\"M54,-1098C70.89,-1098 73.33,-806.62 89.21,-786.13\"/>\n<ellipse fill=\"black\" stroke=\"black\" cx=\"90.16\" cy=\"-785.53\" rx=\"1\" ry=\"1\"/>\n<text text-anchor=\"middle\" x=\"72.5\" y=\"-944\" font-family=\"Times,serif\" font-size=\"10.00\">1</text>\n</g>\n<!-- f_G43 -->\n<g id=\"node3\" class=\"node\">\n<title>f_G43</title>\n<text text-anchor=\"middle\" x=\"27\" y=\"-1040.3\" font-family=\"Times,serif\" font-size=\"14.00\">f[2]</text>\n</g>\n<!-- f_G43&#45;&gt;MultiplyPolyByOnePlusXk -->\n<g id=\"edge3\" class=\"edge\">\n<title>f_G43:e-&gt;MultiplyPolyByOnePlusXk:w</title>\n<path fill=\"none\" stroke=\"black\" d=\"M54,-1044C84.65,-1044 60.79,-776.97 88.89,-764.45\"/>\n<ellipse fill=\"black\" stroke=\"black\" cx=\"90.02\" cy=\"-764.21\" rx=\"1\" ry=\"1\"/>\n<text text-anchor=\"middle\" x=\"72.5\" y=\"-923\" font-family=\"Times,serif\" font-size=\"10.00\">1</text>\n</g>\n<!-- f_G17 -->\n<g id=\"node4\" class=\"node\">\n<title>f_G17</title>\n<text text-anchor=\"middle\" x=\"27\" y=\"-986.3\" font-family=\"Times,serif\" font-size=\"14.00\">f[3]</text>\n</g>\n<!-- f_G17&#45;&gt;MultiplyPolyByOnePlusXk -->\n<g id=\"edge4\" class=\"edge\">\n<title>f_G17:e-&gt;MultiplyPolyByOnePlusXk:w</title>\n<path fill=\"none\" stroke=\"black\" d=\"M54,-990C80.99,-990 64.23,-756.32 88.83,-743.54\"/>\n<ellipse fill=\"black\" stroke=\"black\" cx=\"90.03\" cy=\"-743.24\" rx=\"1\" ry=\"1\"/>\n<text text-anchor=\"middle\" x=\"72.5\" y=\"-876\" font-family=\"Times,serif\" font-size=\"10.00\">1</text>\n</g>\n<!-- f_G50 -->\n<g id=\"node5\" class=\"node\">\n<title>f_G50</title>\n<text text-anchor=\"middle\" x=\"27\" y=\"-932.3\" font-family=\"Times,serif\" font-size=\"14.00\">f[4]</text>\n</g>\n<!-- f_G50&#45;&gt;MultiplyPolyByOnePlusXk -->\n<g id=\"edge5\" class=\"edge\">\n<title>f_G50:e-&gt;MultiplyPolyByOnePlusXk:w</title>\n<path fill=\"none\" stroke=\"black\" d=\"M54,-936C77.38,-936 67.54,-735.17 88.84,-722.61\"/>\n<ellipse fill=\"black\" stroke=\"black\" cx=\"90.04\" cy=\"-722.27\" rx=\"1\" ry=\"1\"/>\n<text text-anchor=\"middle\" x=\"72.5\" y=\"-838\" font-family=\"Times,serif\" font-size=\"10.00\">1</text>\n</g>\n<!-- g_G62 -->\n<g id=\"node6\" class=\"node\">\n<title>g_G62</title>\n<text text-anchor=\"middle\" x=\"27\" y=\"-878.3\" font-family=\"Times,serif\" font-size=\"14.00\">g[0]</text>\n</g>\n<!-- g_G62&#45;&gt;MultiplyPolyByOnePlusXk -->\n<g id=\"edge6\" class=\"edge\">\n<title>g_G62:e-&gt;MultiplyPolyByOnePlusXk:w</title>\n<path fill=\"none\" stroke=\"black\" d=\"M54,-882C73.73,-882 70.75,-714.86 88.7,-701.81\"/>\n<ellipse fill=\"black\" stroke=\"black\" cx=\"90.06\" cy=\"-701.33\" rx=\"1\" ry=\"1\"/>\n<text text-anchor=\"middle\" x=\"72.5\" y=\"-799\" font-family=\"Times,serif\" font-size=\"10.00\">1</text>\n</g>\n<!-- g_G41 -->\n<g id=\"node7\" class=\"node\">\n<title>g_G41</title>\n<text text-anchor=\"middle\" x=\"27\" y=\"-824.3\" font-family=\"Times,serif\" font-size=\"14.00\">g[1]</text>\n</g>\n<!-- g_G41&#45;&gt;MultiplyPolyByOnePlusXk -->\n<g id=\"edge7\" class=\"edge\">\n<title>g_G41:e-&gt;MultiplyPolyByOnePlusXk:w</title>\n<path fill=\"none\" stroke=\"black\" d=\"M54,-828C87.11,-828 58.51,-686.86 88.72,-680.24\"/>\n<ellipse fill=\"black\" stroke=\"black\" cx=\"90.01\" cy=\"-680.1\" rx=\"1\" ry=\"1\"/>\n<text text-anchor=\"middle\" x=\"72.5\" y=\"-774\" font-family=\"Times,serif\" font-size=\"10.00\">1</text>\n</g>\n<!-- g_G11 -->\n<g id=\"node8\" class=\"node\">\n<title>g_G11</title>\n<text text-anchor=\"middle\" x=\"27\" y=\"-770.3\" font-family=\"Times,serif\" font-size=\"14.00\">g[2]</text>\n</g>\n<!-- g_G11&#45;&gt;MultiplyPolyByOnePlusXk -->\n<g id=\"edge8\" class=\"edge\">\n<title>g_G11:e-&gt;MultiplyPolyByOnePlusXk:w</title>\n<path fill=\"none\" stroke=\"black\" d=\"M54,-774C80.11,-774 65.03,-665.2 88.89,-659.25\"/>\n<ellipse fill=\"black\" stroke=\"black\" cx=\"90.01\" cy=\"-659.12\" rx=\"1\" ry=\"1\"/>\n<text text-anchor=\"middle\" x=\"72.5\" y=\"-722\" font-family=\"Times,serif\" font-size=\"10.00\">1</text>\n</g>\n<!-- g_G18 -->\n<g id=\"node9\" class=\"node\">\n<title>g_G18</title>\n<text text-anchor=\"middle\" x=\"27\" y=\"-716.3\" font-family=\"Times,serif\" font-size=\"14.00\">g[3]</text>\n</g>\n<!-- g_G18&#45;&gt;MultiplyPolyByOnePlusXk -->\n<g id=\"edge9\" class=\"edge\">\n<title>g_G18:e-&gt;MultiplyPolyByOnePlusXk:w</title>\n<path fill=\"none\" stroke=\"black\" d=\"M54,-720C93.2,-720 52.66,-641.17 88.75,-638.09\"/>\n<ellipse fill=\"black\" stroke=\"black\" cx=\"90\" cy=\"-638.04\" rx=\"1\" ry=\"1\"/>\n<text text-anchor=\"middle\" x=\"72.5\" y=\"-705\" font-family=\"Times,serif\" font-size=\"10.00\">1</text>\n</g>\n<!-- g_G51 -->\n<g id=\"node10\" class=\"node\">\n<title>g_G51</title>\n<text text-anchor=\"middle\" x=\"27\" y=\"-662.3\" font-family=\"Times,serif\" font-size=\"14.00\">g[4]</text>\n</g>\n<!-- g_G51&#45;&gt;MultiplyPolyByOnePlusXk -->\n<g id=\"edge10\" class=\"edge\">\n<title>g_G51:e-&gt;MultiplyPolyByOnePlusXk:w</title>\n<path fill=\"none\" stroke=\"black\" d=\"M54,-666C80.54,-666 64.64,-619.64 88.86,-617.11\"/>\n<ellipse fill=\"black\" stroke=\"black\" cx=\"90\" cy=\"-617.05\" rx=\"1\" ry=\"1\"/>\n<text text-anchor=\"middle\" x=\"72.5\" y=\"-645\" font-family=\"Times,serif\" font-size=\"10.00\">1</text>\n</g>\n<!-- h_G36 -->\n<g id=\"node11\" class=\"node\">\n<title>h_G36</title>\n<text text-anchor=\"middle\" x=\"27\" y=\"-608.3\" font-family=\"Times,serif\" font-size=\"14.00\">h[0]</text>\n</g>\n<!-- h_G36&#45;&gt;MultiplyPolyByOnePlusXk -->\n<g id=\"edge11\" class=\"edge\">\n<title>h_G36:e-&gt;MultiplyPolyByOnePlusXk:w</title>\n<path fill=\"none\" stroke=\"black\" d=\"M54,-612C71.22,-612 72.97,-597.23 88.98,-596.07\"/>\n<ellipse fill=\"black\" stroke=\"black\" cx=\"90\" cy=\"-596.04\" rx=\"1\" ry=\"1\"/>\n<text text-anchor=\"middle\" x=\"72.5\" y=\"-607\" font-family=\"Times,serif\" font-size=\"10.00\">1</text>\n</g>\n<!-- h_G21 -->\n<g id=\"node12\" class=\"node\">\n<title>h_G21</title>\n<text text-anchor=\"middle\" x=\"27\" y=\"-554.3\" font-family=\"Times,serif\" font-size=\"14.00\">h[1]</text>\n</g>\n<!-- h_G21&#45;&gt;MultiplyPolyByOnePlusXk -->\n<g id=\"edge12\" class=\"edge\">\n<title>h_G21:e-&gt;MultiplyPolyByOnePlusXk:w</title>\n<path fill=\"none\" stroke=\"black\" d=\"M54,-558C71.22,-558 72.97,-572.77 88.98,-573.93\"/>\n<ellipse fill=\"black\" stroke=\"black\" cx=\"90\" cy=\"-573.96\" rx=\"1\" ry=\"1\"/>\n<text text-anchor=\"middle\" x=\"72.5\" y=\"-569\" font-family=\"Times,serif\" font-size=\"10.00\">1</text>\n</g>\n<!-- h_G53 -->\n<g id=\"node13\" class=\"node\">\n<title>h_G53</title>\n<text text-anchor=\"middle\" x=\"27\" y=\"-500.3\" font-family=\"Times,serif\" font-size=\"14.00\">h[2]</text>\n</g>\n<!-- h_G53&#45;&gt;MultiplyPolyByOnePlusXk -->\n<g id=\"edge13\" class=\"edge\">\n<title>h_G53:e-&gt;MultiplyPolyByOnePlusXk:w</title>\n<path fill=\"none\" stroke=\"black\" d=\"M54,-504C80.54,-504 64.64,-550.36 88.86,-552.89\"/>\n<ellipse fill=\"black\" stroke=\"black\" cx=\"90\" cy=\"-552.95\" rx=\"1\" ry=\"1\"/>\n<text text-anchor=\"middle\" x=\"72.5\" y=\"-532\" font-family=\"Times,serif\" font-size=\"10.00\">1</text>\n</g>\n<!-- h_G59 -->\n<g id=\"node14\" class=\"node\">\n<title>h_G59</title>\n<text text-anchor=\"middle\" x=\"27\" y=\"-446.3\" font-family=\"Times,serif\" font-size=\"14.00\">h[3]</text>\n</g>\n<!-- h_G59&#45;&gt;MultiplyPolyByOnePlusXk -->\n<g id=\"edge14\" class=\"edge\">\n<title>h_G59:e-&gt;MultiplyPolyByOnePlusXk:w</title>\n<path fill=\"none\" stroke=\"black\" d=\"M54,-450C93.2,-450 52.66,-528.83 88.75,-531.91\"/>\n<ellipse fill=\"black\" stroke=\"black\" cx=\"90\" cy=\"-531.96\" rx=\"1\" ry=\"1\"/>\n<text text-anchor=\"middle\" x=\"72.5\" y=\"-517\" font-family=\"Times,serif\" font-size=\"10.00\">1</text>\n</g>\n<!-- h_G32 -->\n<g id=\"node15\" class=\"node\">\n<title>h_G32</title>\n<text text-anchor=\"middle\" x=\"27\" y=\"-392.3\" font-family=\"Times,serif\" font-size=\"14.00\">h[4]</text>\n</g>\n<!-- h_G32&#45;&gt;MultiplyPolyByOnePlusXk -->\n<g id=\"edge15\" class=\"edge\">\n<title>h_G32:e-&gt;MultiplyPolyByOnePlusXk:w</title>\n<path fill=\"none\" stroke=\"black\" d=\"M54,-396C80.11,-396 65.03,-504.8 88.89,-510.75\"/>\n<ellipse fill=\"black\" stroke=\"black\" cx=\"90.01\" cy=\"-510.88\" rx=\"1\" ry=\"1\"/>\n<text text-anchor=\"middle\" x=\"72.5\" y=\"-459\" font-family=\"Times,serif\" font-size=\"10.00\">1</text>\n</g>\n<!-- h_G10 -->\n<g id=\"node16\" class=\"node\">\n<title>h_G10</title>\n<text text-anchor=\"middle\" x=\"27\" y=\"-338.3\" font-family=\"Times,serif\" font-size=\"14.00\">h[5]</text>\n</g>\n<!-- h_G10&#45;&gt;MultiplyPolyByOnePlusXk -->\n<g id=\"edge16\" class=\"edge\">\n<title>h_G10:e-&gt;MultiplyPolyByOnePlusXk:w</title>\n<path fill=\"none\" stroke=\"black\" d=\"M54,-342C87.11,-342 58.51,-483.14 88.72,-489.76\"/>\n<ellipse fill=\"black\" stroke=\"black\" cx=\"90.01\" cy=\"-489.9\" rx=\"1\" ry=\"1\"/>\n<text text-anchor=\"middle\" x=\"72.5\" y=\"-436\" font-family=\"Times,serif\" font-size=\"10.00\">1</text>\n</g>\n<!-- h_G16 -->\n<g id=\"node17\" class=\"node\">\n<title>h_G16</title>\n<text text-anchor=\"middle\" x=\"27\" y=\"-284.3\" font-family=\"Times,serif\" font-size=\"14.00\">h[6]</text>\n</g>\n<!-- h_G16&#45;&gt;MultiplyPolyByOnePlusXk -->\n<g id=\"edge17\" class=\"edge\">\n<title>h_G16:e-&gt;MultiplyPolyByOnePlusXk:w</title>\n<path fill=\"none\" stroke=\"black\" d=\"M54,-288C73.73,-288 70.75,-455.14 88.7,-468.19\"/>\n<ellipse fill=\"black\" stroke=\"black\" cx=\"90.06\" cy=\"-468.67\" rx=\"1\" ry=\"1\"/>\n<text text-anchor=\"middle\" x=\"72.5\" y=\"-386\" font-family=\"Times,serif\" font-size=\"10.00\">1</text>\n</g>\n<!-- h_G49 -->\n<g id=\"node18\" class=\"node\">\n<title>h_G49</title>\n<text text-anchor=\"middle\" x=\"27\" y=\"-230.3\" font-family=\"Times,serif\" font-size=\"14.00\">h[7]</text>\n</g>\n<!-- h_G49&#45;&gt;MultiplyPolyByOnePlusXk -->\n<g id=\"edge18\" class=\"edge\">\n<title>h_G49:e-&gt;MultiplyPolyByOnePlusXk:w</title>\n<path fill=\"none\" stroke=\"black\" d=\"M54,-234C77.38,-234 67.54,-434.83 88.84,-447.39\"/>\n<ellipse fill=\"black\" stroke=\"black\" cx=\"90.04\" cy=\"-447.73\" rx=\"1\" ry=\"1\"/>\n<text text-anchor=\"middle\" x=\"72.5\" y=\"-350\" font-family=\"Times,serif\" font-size=\"10.00\">1</text>\n</g>\n<!-- h_G27 -->\n<g id=\"node19\" class=\"node\">\n<title>h_G27</title>\n<text text-anchor=\"middle\" x=\"27\" y=\"-176.3\" font-family=\"Times,serif\" font-size=\"14.00\">h[8]</text>\n</g>\n<!-- h_G27&#45;&gt;MultiplyPolyByOnePlusXk -->\n<g id=\"edge19\" class=\"edge\">\n<title>h_G27:e-&gt;MultiplyPolyByOnePlusXk:w</title>\n<path fill=\"none\" stroke=\"black\" d=\"M54,-180C80.99,-180 64.23,-413.68 88.83,-426.46\"/>\n<ellipse fill=\"black\" stroke=\"black\" cx=\"90.03\" cy=\"-426.76\" rx=\"1\" ry=\"1\"/>\n<text text-anchor=\"middle\" x=\"72.5\" y=\"-313\" font-family=\"Times,serif\" font-size=\"10.00\">1</text>\n</g>\n<!-- h_G64 -->\n<g id=\"node20\" class=\"node\">\n<title>h_G64</title>\n<text text-anchor=\"middle\" x=\"27\" y=\"-122.3\" font-family=\"Times,serif\" font-size=\"14.00\">h[9]</text>\n</g>\n<!-- h_G64&#45;&gt;MultiplyPolyByOnePlusXk -->\n<g id=\"edge20\" class=\"edge\">\n<title>h_G64:e-&gt;MultiplyPolyByOnePlusXk:w</title>\n<path fill=\"none\" stroke=\"black\" d=\"M54,-126C84.65,-126 60.79,-393.03 88.89,-405.55\"/>\n<ellipse fill=\"black\" stroke=\"black\" cx=\"90.02\" cy=\"-405.79\" rx=\"1\" ry=\"1\"/>\n<text text-anchor=\"middle\" x=\"72.5\" y=\"-285\" font-family=\"Times,serif\" font-size=\"10.00\">1</text>\n</g>\n<!-- h_G44 -->\n<g id=\"node21\" class=\"node\">\n<title>h_G44</title>\n<text text-anchor=\"middle\" x=\"27\" y=\"-68.3\" font-family=\"Times,serif\" font-size=\"14.00\">h[10]</text>\n</g>\n<!-- h_G44&#45;&gt;MultiplyPolyByOnePlusXk -->\n<g id=\"edge21\" class=\"edge\">\n<title>h_G44:e-&gt;MultiplyPolyByOnePlusXk:w</title>\n<path fill=\"none\" stroke=\"black\" d=\"M54,-72C70.89,-72 73.33,-363.38 89.21,-383.87\"/>\n<ellipse fill=\"black\" stroke=\"black\" cx=\"90.16\" cy=\"-384.47\" rx=\"1\" ry=\"1\"/>\n<text text-anchor=\"middle\" x=\"72.5\" y=\"-232\" font-family=\"Times,serif\" font-size=\"10.00\">1</text>\n</g>\n<!-- h_G14 -->\n<g id=\"node22\" class=\"node\">\n<title>h_G14</title>\n<text text-anchor=\"middle\" x=\"27\" y=\"-14.3\" font-family=\"Times,serif\" font-size=\"14.00\">h[11]</text>\n</g>\n<!-- h_G14&#45;&gt;MultiplyPolyByOnePlusXk -->\n<g id=\"edge22\" class=\"edge\">\n<title>h_G14:e-&gt;MultiplyPolyByOnePlusXk:w</title>\n<path fill=\"none\" stroke=\"black\" d=\"M54,-18C72.73,-18 71.75,-342.71 89.25,-363.01\"/>\n<ellipse fill=\"black\" stroke=\"black\" cx=\"90.13\" cy=\"-363.51\" rx=\"1\" ry=\"1\"/>\n<text text-anchor=\"middle\" x=\"72.5\" y=\"-194\" font-family=\"Times,serif\" font-size=\"10.00\">1</text>\n</g>\n<!-- f_G37 -->\n<g id=\"node24\" class=\"node\">\n<title>f_G37</title>\n<text text-anchor=\"middle\" x=\"276\" y=\"-1148.3\" font-family=\"Times,serif\" font-size=\"14.00\">f[0]</text>\n</g>\n<!-- MultiplyPolyByOnePlusXk&#45;&gt;f_G37 -->\n<g id=\"edge23\" class=\"edge\">\n<title>MultiplyPolyByOnePlusXk:e-&gt;f_G37:w</title>\n<path fill=\"none\" stroke=\"black\" d=\"M212,-806C230.73,-806 229.75,-1130.71 247.25,-1151.01\"/>\n<ellipse fill=\"black\" stroke=\"black\" cx=\"248.13\" cy=\"-1151.51\" rx=\"1\" ry=\"1\"/>\n<text text-anchor=\"middle\" x=\"230.5\" y=\"-982\" font-family=\"Times,serif\" font-size=\"10.00\">1</text>\n</g>\n<!-- f_G22 -->\n<g id=\"node25\" class=\"node\">\n<title>f_G22</title>\n<text text-anchor=\"middle\" x=\"276\" y=\"-1094.3\" font-family=\"Times,serif\" font-size=\"14.00\">f[1]</text>\n</g>\n<!-- MultiplyPolyByOnePlusXk&#45;&gt;f_G22 -->\n<g id=\"edge24\" class=\"edge\">\n<title>MultiplyPolyByOnePlusXk:e-&gt;f_G22:w</title>\n<path fill=\"none\" stroke=\"black\" d=\"M212,-785C228.89,-785 231.33,-1076.38 247.21,-1096.87\"/>\n<ellipse fill=\"black\" stroke=\"black\" cx=\"248.16\" cy=\"-1097.47\" rx=\"1\" ry=\"1\"/>\n<text text-anchor=\"middle\" x=\"230.5\" y=\"-944\" font-family=\"Times,serif\" font-size=\"10.00\">1</text>\n</g>\n<!-- f_G54 -->\n<g id=\"node26\" class=\"node\">\n<title>f_G54</title>\n<text text-anchor=\"middle\" x=\"276\" y=\"-1040.3\" font-family=\"Times,serif\" font-size=\"14.00\">f[2]</text>\n</g>\n<!-- MultiplyPolyByOnePlusXk&#45;&gt;f_G54 -->\n<g id=\"edge25\" class=\"edge\">\n<title>MultiplyPolyByOnePlusXk:e-&gt;f_G54:w</title>\n<path fill=\"none\" stroke=\"black\" d=\"M212,-764C242.65,-764 218.79,-1031.03 246.89,-1043.55\"/>\n<ellipse fill=\"black\" stroke=\"black\" cx=\"248.02\" cy=\"-1043.79\" rx=\"1\" ry=\"1\"/>\n<text text-anchor=\"middle\" x=\"230.5\" y=\"-923\" font-family=\"Times,serif\" font-size=\"10.00\">1</text>\n</g>\n<!-- f_G61 -->\n<g id=\"node27\" class=\"node\">\n<title>f_G61</title>\n<text text-anchor=\"middle\" x=\"276\" y=\"-986.3\" font-family=\"Times,serif\" font-size=\"14.00\">f[3]</text>\n</g>\n<!-- MultiplyPolyByOnePlusXk&#45;&gt;f_G61 -->\n<g id=\"edge26\" class=\"edge\">\n<title>MultiplyPolyByOnePlusXk:e-&gt;f_G61:w</title>\n<path fill=\"none\" stroke=\"black\" d=\"M212,-743C238.99,-743 222.23,-976.68 246.83,-989.46\"/>\n<ellipse fill=\"black\" stroke=\"black\" cx=\"248.03\" cy=\"-989.76\" rx=\"1\" ry=\"1\"/>\n<text text-anchor=\"middle\" x=\"230.5\" y=\"-876\" font-family=\"Times,serif\" font-size=\"10.00\">1</text>\n</g>\n<!-- f_G33 -->\n<g id=\"node28\" class=\"node\">\n<title>f_G33</title>\n<text text-anchor=\"middle\" x=\"276\" y=\"-932.3\" font-family=\"Times,serif\" font-size=\"14.00\">f[4]</text>\n</g>\n<!-- MultiplyPolyByOnePlusXk&#45;&gt;f_G33 -->\n<g id=\"edge27\" class=\"edge\">\n<title>MultiplyPolyByOnePlusXk:e-&gt;f_G33:w</title>\n<path fill=\"none\" stroke=\"black\" d=\"M212,-722C235.38,-722 225.54,-922.83 246.84,-935.39\"/>\n<ellipse fill=\"black\" stroke=\"black\" cx=\"248.04\" cy=\"-935.73\" rx=\"1\" ry=\"1\"/>\n<text text-anchor=\"middle\" x=\"230.5\" y=\"-838\" font-family=\"Times,serif\" font-size=\"10.00\">1</text>\n</g>\n<!-- g_G6 -->\n<g id=\"node29\" class=\"node\">\n<title>g_G6</title>\n<text text-anchor=\"middle\" x=\"276\" y=\"-878.3\" font-family=\"Times,serif\" font-size=\"14.00\">g[0]</text>\n</g>\n<!-- MultiplyPolyByOnePlusXk&#45;&gt;g_G6 -->\n<g id=\"edge28\" class=\"edge\">\n<title>MultiplyPolyByOnePlusXk:e-&gt;g_G6:w</title>\n<path fill=\"none\" stroke=\"black\" d=\"M212,-701C231.73,-701 228.75,-868.14 246.7,-881.19\"/>\n<ellipse fill=\"black\" stroke=\"black\" cx=\"248.06\" cy=\"-881.67\" rx=\"1\" ry=\"1\"/>\n<text text-anchor=\"middle\" x=\"230.5\" y=\"-799\" font-family=\"Times,serif\" font-size=\"10.00\">1</text>\n</g>\n<!-- g_G52 -->\n<g id=\"node30\" class=\"node\">\n<title>g_G52</title>\n<text text-anchor=\"middle\" x=\"276\" y=\"-824.3\" font-family=\"Times,serif\" font-size=\"14.00\">g[1]</text>\n</g>\n<!-- MultiplyPolyByOnePlusXk&#45;&gt;g_G52 -->\n<g id=\"edge29\" class=\"edge\">\n<title>MultiplyPolyByOnePlusXk:e-&gt;g_G52:w</title>\n<path fill=\"none\" stroke=\"black\" d=\"M212,-680C245.11,-680 216.51,-821.14 246.72,-827.76\"/>\n<ellipse fill=\"black\" stroke=\"black\" cx=\"248.01\" cy=\"-827.9\" rx=\"1\" ry=\"1\"/>\n<text text-anchor=\"middle\" x=\"230.5\" y=\"-774\" font-family=\"Times,serif\" font-size=\"10.00\">1</text>\n</g>\n<!-- g_G28 -->\n<g id=\"node31\" class=\"node\">\n<title>g_G28</title>\n<text text-anchor=\"middle\" x=\"276\" y=\"-770.3\" font-family=\"Times,serif\" font-size=\"14.00\">g[2]</text>\n</g>\n<!-- MultiplyPolyByOnePlusXk&#45;&gt;g_G28 -->\n<g id=\"edge30\" class=\"edge\">\n<title>MultiplyPolyByOnePlusXk:e-&gt;g_G28:w</title>\n<path fill=\"none\" stroke=\"black\" d=\"M212,-659C238.11,-659 223.03,-767.8 246.89,-773.75\"/>\n<ellipse fill=\"black\" stroke=\"black\" cx=\"248.01\" cy=\"-773.88\" rx=\"1\" ry=\"1\"/>\n<text text-anchor=\"middle\" x=\"230.5\" y=\"-722\" font-family=\"Times,serif\" font-size=\"10.00\">1</text>\n</g>\n<!-- g_G29 -->\n<g id=\"node32\" class=\"node\">\n<title>g_G29</title>\n<text text-anchor=\"middle\" x=\"276\" y=\"-716.3\" font-family=\"Times,serif\" font-size=\"14.00\">g[3]</text>\n</g>\n<!-- MultiplyPolyByOnePlusXk&#45;&gt;g_G29 -->\n<g id=\"edge31\" class=\"edge\">\n<title>MultiplyPolyByOnePlusXk:e-&gt;g_G29:w</title>\n<path fill=\"none\" stroke=\"black\" d=\"M212,-638C251.2,-638 210.66,-716.83 246.75,-719.91\"/>\n<ellipse fill=\"black\" stroke=\"black\" cx=\"248\" cy=\"-719.96\" rx=\"1\" ry=\"1\"/>\n<text text-anchor=\"middle\" x=\"230.5\" y=\"-705\" font-family=\"Times,serif\" font-size=\"10.00\">1</text>\n</g>\n<!-- g_G2 -->\n<g id=\"node33\" class=\"node\">\n<title>g_G2</title>\n<text text-anchor=\"middle\" x=\"276\" y=\"-662.3\" font-family=\"Times,serif\" font-size=\"14.00\">g[4]</text>\n</g>\n<!-- MultiplyPolyByOnePlusXk&#45;&gt;g_G2 -->\n<g id=\"edge32\" class=\"edge\">\n<title>MultiplyPolyByOnePlusXk:e-&gt;g_G2:w</title>\n<path fill=\"none\" stroke=\"black\" d=\"M212,-617C238.54,-617 222.64,-663.36 246.86,-665.89\"/>\n<ellipse fill=\"black\" stroke=\"black\" cx=\"248\" cy=\"-665.95\" rx=\"1\" ry=\"1\"/>\n<text text-anchor=\"middle\" x=\"230.5\" y=\"-645\" font-family=\"Times,serif\" font-size=\"10.00\">1</text>\n</g>\n<!-- h_G23 -->\n<g id=\"node34\" class=\"node\">\n<title>h_G23</title>\n<text text-anchor=\"middle\" x=\"276\" y=\"-608.3\" font-family=\"Times,serif\" font-size=\"14.00\">h[0]</text>\n</g>\n<!-- MultiplyPolyByOnePlusXk&#45;&gt;h_G23 -->\n<g id=\"edge33\" class=\"edge\">\n<title>MultiplyPolyByOnePlusXk:e-&gt;h_G23:w</title>\n<path fill=\"none\" stroke=\"black\" d=\"M212,-596C229.22,-596 230.97,-610.77 246.98,-611.93\"/>\n<ellipse fill=\"black\" stroke=\"black\" cx=\"248\" cy=\"-611.96\" rx=\"1\" ry=\"1\"/>\n<text text-anchor=\"middle\" x=\"230.5\" y=\"-607\" font-family=\"Times,serif\" font-size=\"10.00\">1</text>\n</g>\n<!-- h_G5 -->\n<g id=\"node35\" class=\"node\">\n<title>h_G5</title>\n<text text-anchor=\"middle\" x=\"276\" y=\"-554.3\" font-family=\"Times,serif\" font-size=\"14.00\">h[1]</text>\n</g>\n<!-- MultiplyPolyByOnePlusXk&#45;&gt;h_G5 -->\n<g id=\"edge34\" class=\"edge\">\n<title>MultiplyPolyByOnePlusXk:e-&gt;h_G5:w</title>\n<path fill=\"none\" stroke=\"black\" d=\"M212,-574C229.22,-574 230.97,-559.23 246.98,-558.07\"/>\n<ellipse fill=\"black\" stroke=\"black\" cx=\"248\" cy=\"-558.04\" rx=\"1\" ry=\"1\"/>\n<text text-anchor=\"middle\" x=\"230.5\" y=\"-569\" font-family=\"Times,serif\" font-size=\"10.00\">1</text>\n</g>\n<!-- h_G38 -->\n<g id=\"node36\" class=\"node\">\n<title>h_G38</title>\n<text text-anchor=\"middle\" x=\"276\" y=\"-500.3\" font-family=\"Times,serif\" font-size=\"14.00\">h[2]</text>\n</g>\n<!-- MultiplyPolyByOnePlusXk&#45;&gt;h_G38 -->\n<g id=\"edge35\" class=\"edge\">\n<title>MultiplyPolyByOnePlusXk:e-&gt;h_G38:w</title>\n<path fill=\"none\" stroke=\"black\" d=\"M212,-553C238.54,-553 222.64,-506.64 246.86,-504.11\"/>\n<ellipse fill=\"black\" stroke=\"black\" cx=\"248\" cy=\"-504.05\" rx=\"1\" ry=\"1\"/>\n<text text-anchor=\"middle\" x=\"230.5\" y=\"-532\" font-family=\"Times,serif\" font-size=\"10.00\">1</text>\n</g>\n<!-- h_G42 -->\n<g id=\"node37\" class=\"node\">\n<title>h_G42</title>\n<text text-anchor=\"middle\" x=\"276\" y=\"-446.3\" font-family=\"Times,serif\" font-size=\"14.00\">h[3]</text>\n</g>\n<!-- MultiplyPolyByOnePlusXk&#45;&gt;h_G42 -->\n<g id=\"edge36\" class=\"edge\">\n<title>MultiplyPolyByOnePlusXk:e-&gt;h_G42:w</title>\n<path fill=\"none\" stroke=\"black\" d=\"M212,-532C251.2,-532 210.66,-453.17 246.75,-450.09\"/>\n<ellipse fill=\"black\" stroke=\"black\" cx=\"248\" cy=\"-450.04\" rx=\"1\" ry=\"1\"/>\n<text text-anchor=\"middle\" x=\"230.5\" y=\"-517\" font-family=\"Times,serif\" font-size=\"10.00\">1</text>\n</g>\n<!-- h_G12 -->\n<g id=\"node38\" class=\"node\">\n<title>h_G12</title>\n<text text-anchor=\"middle\" x=\"276\" y=\"-392.3\" font-family=\"Times,serif\" font-size=\"14.00\">h[4]</text>\n</g>\n<!-- MultiplyPolyByOnePlusXk&#45;&gt;h_G12 -->\n<g id=\"edge37\" class=\"edge\">\n<title>MultiplyPolyByOnePlusXk:e-&gt;h_G12:w</title>\n<path fill=\"none\" stroke=\"black\" d=\"M212,-511C238.11,-511 223.03,-402.2 246.89,-396.25\"/>\n<ellipse fill=\"black\" stroke=\"black\" cx=\"248.01\" cy=\"-396.12\" rx=\"1\" ry=\"1\"/>\n<text text-anchor=\"middle\" x=\"230.5\" y=\"-459\" font-family=\"Times,serif\" font-size=\"10.00\">1</text>\n</g>\n<!-- h_G65 -->\n<g id=\"node39\" class=\"node\">\n<title>h_G65</title>\n<text text-anchor=\"middle\" x=\"276\" y=\"-338.3\" font-family=\"Times,serif\" font-size=\"14.00\">h[5]</text>\n</g>\n<!-- MultiplyPolyByOnePlusXk&#45;&gt;h_G65 -->\n<g id=\"edge38\" class=\"edge\">\n<title>MultiplyPolyByOnePlusXk:e-&gt;h_G65:w</title>\n<path fill=\"none\" stroke=\"black\" d=\"M212,-490C245.11,-490 216.51,-348.86 246.72,-342.24\"/>\n<ellipse fill=\"black\" stroke=\"black\" cx=\"248.01\" cy=\"-342.1\" rx=\"1\" ry=\"1\"/>\n<text text-anchor=\"middle\" x=\"230.5\" y=\"-436\" font-family=\"Times,serif\" font-size=\"10.00\">1</text>\n</g>\n<!-- h_G3 -->\n<g id=\"node40\" class=\"node\">\n<title>h_G3</title>\n<text text-anchor=\"middle\" x=\"276\" y=\"-284.3\" font-family=\"Times,serif\" font-size=\"14.00\">h[6]</text>\n</g>\n<!-- MultiplyPolyByOnePlusXk&#45;&gt;h_G3 -->\n<g id=\"edge39\" class=\"edge\">\n<title>MultiplyPolyByOnePlusXk:e-&gt;h_G3:w</title>\n<path fill=\"none\" stroke=\"black\" d=\"M212,-469C231.73,-469 228.75,-301.86 246.7,-288.81\"/>\n<ellipse fill=\"black\" stroke=\"black\" cx=\"248.06\" cy=\"-288.33\" rx=\"1\" ry=\"1\"/>\n<text text-anchor=\"middle\" x=\"230.5\" y=\"-386\" font-family=\"Times,serif\" font-size=\"10.00\">1</text>\n</g>\n<!-- h_G35 -->\n<g id=\"node41\" class=\"node\">\n<title>h_G35</title>\n<text text-anchor=\"middle\" x=\"276\" y=\"-230.3\" font-family=\"Times,serif\" font-size=\"14.00\">h[7]</text>\n</g>\n<!-- MultiplyPolyByOnePlusXk&#45;&gt;h_G35 -->\n<g id=\"edge40\" class=\"edge\">\n<title>MultiplyPolyByOnePlusXk:e-&gt;h_G35:w</title>\n<path fill=\"none\" stroke=\"black\" d=\"M212,-448C235.38,-448 225.54,-247.17 246.84,-234.61\"/>\n<ellipse fill=\"black\" stroke=\"black\" cx=\"248.04\" cy=\"-234.27\" rx=\"1\" ry=\"1\"/>\n<text text-anchor=\"middle\" x=\"230.5\" y=\"-350\" font-family=\"Times,serif\" font-size=\"10.00\">1</text>\n</g>\n<!-- h_G8 -->\n<g id=\"node42\" class=\"node\">\n<title>h_G8</title>\n<text text-anchor=\"middle\" x=\"276\" y=\"-176.3\" font-family=\"Times,serif\" font-size=\"14.00\">h[8]</text>\n</g>\n<!-- MultiplyPolyByOnePlusXk&#45;&gt;h_G8 -->\n<g id=\"edge41\" class=\"edge\">\n<title>MultiplyPolyByOnePlusXk:e-&gt;h_G8:w</title>\n<path fill=\"none\" stroke=\"black\" d=\"M212,-427C238.99,-427 222.23,-193.32 246.83,-180.54\"/>\n<ellipse fill=\"black\" stroke=\"black\" cx=\"248.03\" cy=\"-180.24\" rx=\"1\" ry=\"1\"/>\n<text text-anchor=\"middle\" x=\"230.5\" y=\"-313\" font-family=\"Times,serif\" font-size=\"10.00\">1</text>\n</g>\n<!-- h_G45 -->\n<g id=\"node43\" class=\"node\">\n<title>h_G45</title>\n<text text-anchor=\"middle\" x=\"276\" y=\"-122.3\" font-family=\"Times,serif\" font-size=\"14.00\">h[9]</text>\n</g>\n<!-- MultiplyPolyByOnePlusXk&#45;&gt;h_G45 -->\n<g id=\"edge42\" class=\"edge\">\n<title>MultiplyPolyByOnePlusXk:e-&gt;h_G45:w</title>\n<path fill=\"none\" stroke=\"black\" d=\"M212,-406C242.65,-406 218.79,-138.97 246.89,-126.45\"/>\n<ellipse fill=\"black\" stroke=\"black\" cx=\"248.02\" cy=\"-126.21\" rx=\"1\" ry=\"1\"/>\n<text text-anchor=\"middle\" x=\"230.5\" y=\"-285\" font-family=\"Times,serif\" font-size=\"10.00\">1</text>\n</g>\n<!-- h_G58 -->\n<g id=\"node44\" class=\"node\">\n<title>h_G58</title>\n<text text-anchor=\"middle\" x=\"276\" y=\"-68.3\" font-family=\"Times,serif\" font-size=\"14.00\">h[10]</text>\n</g>\n<!-- MultiplyPolyByOnePlusXk&#45;&gt;h_G58 -->\n<g id=\"edge43\" class=\"edge\">\n<title>MultiplyPolyByOnePlusXk:e-&gt;h_G58:w</title>\n<path fill=\"none\" stroke=\"black\" d=\"M212,-385C228.89,-385 231.33,-93.62 247.21,-73.13\"/>\n<ellipse fill=\"black\" stroke=\"black\" cx=\"248.16\" cy=\"-72.53\" rx=\"1\" ry=\"1\"/>\n<text text-anchor=\"middle\" x=\"230.5\" y=\"-232\" font-family=\"Times,serif\" font-size=\"10.00\">1</text>\n</g>\n<!-- h_G30 -->\n<g id=\"node45\" class=\"node\">\n<title>h_G30</title>\n<text text-anchor=\"middle\" x=\"276\" y=\"-14.3\" font-family=\"Times,serif\" font-size=\"14.00\">h[11]</text>\n</g>\n<!-- MultiplyPolyByOnePlusXk&#45;&gt;h_G30 -->\n<g id=\"edge44\" class=\"edge\">\n<title>MultiplyPolyByOnePlusXk:e-&gt;h_G30:w</title>\n<path fill=\"none\" stroke=\"black\" d=\"M212,-364C230.73,-364 229.75,-39.29 247.25,-18.99\"/>\n<ellipse fill=\"black\" stroke=\"black\" cx=\"248.13\" cy=\"-18.49\" rx=\"1\" ry=\"1\"/>\n<text text-anchor=\"middle\" x=\"230.5\" y=\"-194\" font-family=\"Times,serif\" font-size=\"10.00\">1</text>\n</g>\n</g>\n</svg>",
          "text/plain": "<IPython.core.display.SVG object>"
         },
         "metadata": {},
         "output_type": "display_data"
        }
       ],
       "tabbable": null,
       "tooltip": null
      }
     },
     "871f5851bd0c471cac96a1032651da7a": {
      "model_module": "@jupyter-widgets/base",
      "model_module_version": "2.0.0",
      "model_name": "LayoutModel",
      "state": {
       "_model_module": "@jupyter-widgets/base",
       "_model_module_version": "2.0.0",
       "_model_name": "LayoutModel",
       "_view_count": null,
       "_view_module": "@jupyter-widgets/base",
       "_view_module_version": "2.0.0",
       "_view_name": "LayoutView",
       "align_content": null,
       "align_items": null,
       "align_self": null,
       "border_bottom": null,
       "border_left": null,
       "border_right": null,
       "border_top": null,
       "bottom": null,
       "display": null,
       "flex": null,
       "flex_flow": null,
       "grid_area": null,
       "grid_auto_columns": null,
       "grid_auto_flow": null,
       "grid_auto_rows": null,
       "grid_column": null,
       "grid_gap": null,
       "grid_row": null,
       "grid_template_areas": null,
       "grid_template_columns": null,
       "grid_template_rows": null,
       "height": null,
       "justify_content": null,
       "justify_items": null,
       "left": null,
       "margin": null,
       "max_height": null,
       "max_width": null,
       "min_height": null,
       "min_width": null,
       "object_fit": null,
       "object_position": null,
       "order": null,
       "overflow": null,
       "padding": null,
       "right": null,
       "top": null,
       "visibility": null,
       "width": null
      }
     },
     "9755bde581d248a38a1a4e483fd62dcb": {
      "model_module": "@jupyter-widgets/base",
      "model_module_version": "2.0.0",
      "model_name": "LayoutModel",
      "state": {
       "_model_module": "@jupyter-widgets/base",
       "_model_module_version": "2.0.0",
       "_model_name": "LayoutModel",
       "_view_count": null,
       "_view_module": "@jupyter-widgets/base",
       "_view_module_version": "2.0.0",
       "_view_name": "LayoutView",
       "align_content": null,
       "align_items": null,
       "align_self": null,
       "border_bottom": null,
       "border_left": null,
       "border_right": null,
       "border_top": null,
       "bottom": null,
       "display": null,
       "flex": null,
       "flex_flow": null,
       "grid_area": null,
       "grid_auto_columns": null,
       "grid_auto_flow": null,
       "grid_auto_rows": null,
       "grid_column": null,
       "grid_gap": null,
       "grid_row": null,
       "grid_template_areas": null,
       "grid_template_columns": null,
       "grid_template_rows": null,
       "height": null,
       "justify_content": null,
       "justify_items": null,
       "left": null,
       "margin": null,
       "max_height": null,
       "max_width": null,
       "min_height": null,
       "min_width": null,
       "object_fit": null,
       "object_position": null,
       "order": null,
       "overflow": null,
       "padding": null,
       "right": null,
       "top": null,
       "visibility": null,
       "width": null
      }
     },
     "97c9358558a44c3fb2aa04f29f5729f4": {
      "model_module": "@jupyter-widgets/output",
      "model_module_version": "1.0.0",
      "model_name": "OutputModel",
      "state": {
       "_dom_classes": [],
       "_model_module": "@jupyter-widgets/output",
       "_model_module_version": "1.0.0",
       "_model_name": "OutputModel",
       "_view_count": null,
       "_view_module": "@jupyter-widgets/output",
       "_view_module_version": "1.0.0",
       "_view_name": "OutputView",
       "layout": "IPY_MODEL_d33b10d1e7394c858209487ad2f8a902",
       "msg_id": "",
       "outputs": [
        {
         "data": {
          "text/markdown": "`gf2mulviakaratsuba`",
          "text/plain": "<IPython.core.display.Markdown object>"
         },
         "metadata": {},
         "output_type": "display_data"
        },
        {
         "data": {
          "image/svg+xml": "<svg xmlns=\"http://www.w3.org/2000/svg\" xmlns:xlink=\"http://www.w3.org/1999/xlink\" width=\"287pt\" height=\"152pt\" viewBox=\"0.00 0.00 287.00 152.00\">\n<g id=\"graph0\" class=\"graph\" transform=\"scale(1 1) rotate(0) translate(4 148)\">\n<title>my_graph</title>\n<polygon fill=\"white\" stroke=\"transparent\" points=\"-4,4 -4,-148 283,-148 283,4 -4,4\"/>\n<!-- x_G2 -->\n<g id=\"node1\" class=\"node\">\n<title>x_G2</title>\n<text text-anchor=\"middle\" x=\"27\" y=\"-106.3\" font-family=\"Times,serif\" font-size=\"14.00\">x</text>\n</g>\n<!-- GF2MulViaKaratsuba -->\n<g id=\"node3\" class=\"node\">\n<title>GF2MulViaKaratsuba</title>\n<polygon fill=\"none\" stroke=\"black\" points=\"91.5,-104 91.5,-121 188.5,-121 188.5,-104 91.5,-104\"/>\n<text text-anchor=\"start\" x=\"94.5\" y=\"-110\" font-family=\"Times,serif\" font-size=\"10.00\">GF2MulViaKaratsuba</text>\n<polygon fill=\"none\" stroke=\"black\" points=\"91.5,-83 91.5,-104 188.5,-104 188.5,-83 91.5,-83\"/>\n<text text-anchor=\"start\" x=\"136.5\" y=\"-89.8\" font-family=\"Times,serif\" font-size=\"14.00\">x</text>\n<polygon fill=\"none\" stroke=\"black\" points=\"91.5,-62 91.5,-83 188.5,-83 188.5,-62 91.5,-62\"/>\n<text text-anchor=\"start\" x=\"136.5\" y=\"-68.8\" font-family=\"Times,serif\" font-size=\"14.00\">y</text>\n<polygon fill=\"none\" stroke=\"black\" points=\"91.5,-41 91.5,-62 124.5,-62 124.5,-41 91.5,-41\"/>\n<polygon fill=\"none\" stroke=\"black\" points=\"124.5,-41 124.5,-62 188.5,-62 188.5,-41 124.5,-41\"/>\n<text text-anchor=\"start\" x=\"141\" y=\"-47.8\" font-family=\"Times,serif\" font-size=\"14.00\">result</text>\n</g>\n<!-- x_G2&#45;&gt;GF2MulViaKaratsuba -->\n<g id=\"edge1\" class=\"edge\">\n<title>x_G2:e-&gt;GF2MulViaKaratsuba:w</title>\n<path fill=\"none\" stroke=\"black\" d=\"M54,-110C71.22,-110 72.97,-95.23 88.98,-94.07\"/>\n<ellipse fill=\"black\" stroke=\"black\" cx=\"90\" cy=\"-94.04\" rx=\"1\" ry=\"1\"/>\n<text text-anchor=\"middle\" x=\"72.5\" y=\"-105\" font-family=\"Times,serif\" font-size=\"10.00\">5</text>\n</g>\n<!-- y_G5 -->\n<g id=\"node2\" class=\"node\">\n<title>y_G5</title>\n<text text-anchor=\"middle\" x=\"27\" y=\"-52.3\" font-family=\"Times,serif\" font-size=\"14.00\">y</text>\n</g>\n<!-- y_G5&#45;&gt;GF2MulViaKaratsuba -->\n<g id=\"edge2\" class=\"edge\">\n<title>y_G5:e-&gt;GF2MulViaKaratsuba:w</title>\n<path fill=\"none\" stroke=\"black\" d=\"M54,-56C71.22,-56 72.97,-70.77 88.98,-71.93\"/>\n<ellipse fill=\"black\" stroke=\"black\" cx=\"90\" cy=\"-71.96\" rx=\"1\" ry=\"1\"/>\n<text text-anchor=\"middle\" x=\"72.5\" y=\"-68\" font-family=\"Times,serif\" font-size=\"10.00\">5</text>\n</g>\n<!-- x_G3 -->\n<g id=\"node4\" class=\"node\">\n<title>x_G3</title>\n<text text-anchor=\"middle\" x=\"252\" y=\"-122.3\" font-family=\"Times,serif\" font-size=\"14.00\">x</text>\n</g>\n<!-- GF2MulViaKaratsuba&#45;&gt;x_G3 -->\n<g id=\"edge3\" class=\"edge\">\n<title>GF2MulViaKaratsuba:e-&gt;x_G3:w</title>\n<path fill=\"none\" stroke=\"black\" d=\"M188,-94C208.89,-94 203.72,-123.55 222.58,-125.86\"/>\n<ellipse fill=\"black\" stroke=\"black\" cx=\"224\" cy=\"-125.94\" rx=\"1\" ry=\"1\"/>\n<text text-anchor=\"middle\" x=\"206.5\" y=\"-113\" font-family=\"Times,serif\" font-size=\"10.00\">5</text>\n</g>\n<!-- y_G7 -->\n<g id=\"node5\" class=\"node\">\n<title>y_G7</title>\n<text text-anchor=\"middle\" x=\"252\" y=\"-68.3\" font-family=\"Times,serif\" font-size=\"14.00\">y</text>\n</g>\n<!-- GF2MulViaKaratsuba&#45;&gt;y_G7 -->\n<g id=\"edge4\" class=\"edge\">\n<title>GF2MulViaKaratsuba:e-&gt;y_G7:w</title>\n<path fill=\"none\" stroke=\"black\" d=\"M188,-72C203.67,-72 208.14,-72 222.77,-72\"/>\n<ellipse fill=\"black\" stroke=\"black\" cx=\"224\" cy=\"-72\" rx=\"1\" ry=\"1\"/>\n<text text-anchor=\"middle\" x=\"206.5\" y=\"-75\" font-family=\"Times,serif\" font-size=\"10.00\">5</text>\n</g>\n<!-- result_G6 -->\n<g id=\"node6\" class=\"node\">\n<title>result_G6</title>\n<text text-anchor=\"middle\" x=\"252\" y=\"-14.3\" font-family=\"Times,serif\" font-size=\"14.00\">result</text>\n</g>\n<!-- GF2MulViaKaratsuba&#45;&gt;result_G6 -->\n<g id=\"edge5\" class=\"edge\">\n<title>GF2MulViaKaratsuba:e-&gt;result_G6:w</title>\n<path fill=\"none\" stroke=\"black\" d=\"M188,-51C209.17,-51 203.47,-20.53 222.55,-18.15\"/>\n<ellipse fill=\"black\" stroke=\"black\" cx=\"224\" cy=\"-18.06\" rx=\"1\" ry=\"1\"/>\n<text text-anchor=\"middle\" x=\"206.5\" y=\"-39\" font-family=\"Times,serif\" font-size=\"10.00\">5</text>\n</g>\n</g>\n</svg>",
          "text/plain": "<IPython.core.display.SVG object>"
         },
         "metadata": {},
         "output_type": "display_data"
        }
       ],
       "tabbable": null,
       "tooltip": null
      }
     },
     "9bfbdc7cd25041cf995f076050871a61": {
      "model_module": "@jupyter-widgets/base",
      "model_module_version": "2.0.0",
      "model_name": "LayoutModel",
      "state": {
       "_model_module": "@jupyter-widgets/base",
       "_model_module_version": "2.0.0",
       "_model_name": "LayoutModel",
       "_view_count": null,
       "_view_module": "@jupyter-widgets/base",
       "_view_module_version": "2.0.0",
       "_view_name": "LayoutView",
       "align_content": null,
       "align_items": null,
       "align_self": null,
       "border_bottom": null,
       "border_left": null,
       "border_right": null,
       "border_top": null,
       "bottom": null,
       "display": null,
       "flex": null,
       "flex_flow": null,
       "grid_area": null,
       "grid_auto_columns": null,
       "grid_auto_flow": null,
       "grid_auto_rows": null,
       "grid_column": null,
       "grid_gap": null,
       "grid_row": null,
       "grid_template_areas": null,
       "grid_template_columns": null,
       "grid_template_rows": null,
       "height": null,
       "justify_content": null,
       "justify_items": null,
       "left": null,
       "margin": null,
       "max_height": null,
       "max_width": null,
       "min_height": null,
       "min_width": null,
       "object_fit": null,
       "object_position": null,
       "order": null,
       "overflow": null,
       "padding": null,
       "right": null,
       "top": null,
       "visibility": null,
       "width": null
      }
     },
     "a17ab8369f0043ecb8df6b170886c17b": {
      "model_module": "@jupyter-widgets/controls",
      "model_module_version": "2.0.0",
      "model_name": "HBoxModel",
      "state": {
       "_dom_classes": [],
       "_model_module": "@jupyter-widgets/controls",
       "_model_module_version": "2.0.0",
       "_model_name": "HBoxModel",
       "_view_count": null,
       "_view_module": "@jupyter-widgets/controls",
       "_view_module_version": "2.0.0",
       "_view_name": "HBoxView",
       "box_style": "",
       "children": [
        "IPY_MODEL_4a6dfcc512534474b0d15f084d2333e2"
       ],
       "layout": "IPY_MODEL_b09dd7d926a24ede9442ac5de11268bb",
       "tabbable": null,
       "tooltip": null
      }
     },
     "b09dd7d926a24ede9442ac5de11268bb": {
      "model_module": "@jupyter-widgets/base",
      "model_module_version": "2.0.0",
      "model_name": "LayoutModel",
      "state": {
       "_model_module": "@jupyter-widgets/base",
       "_model_module_version": "2.0.0",
       "_model_name": "LayoutModel",
       "_view_count": null,
       "_view_module": "@jupyter-widgets/base",
       "_view_module_version": "2.0.0",
       "_view_name": "LayoutView",
       "align_content": null,
       "align_items": null,
       "align_self": null,
       "border_bottom": null,
       "border_left": null,
       "border_right": null,
       "border_top": null,
       "bottom": null,
       "display": null,
       "flex": null,
       "flex_flow": null,
       "grid_area": null,
       "grid_auto_columns": null,
       "grid_auto_flow": null,
       "grid_auto_rows": null,
       "grid_column": null,
       "grid_gap": null,
       "grid_row": null,
       "grid_template_areas": null,
       "grid_template_columns": null,
       "grid_template_rows": null,
       "height": null,
       "justify_content": null,
       "justify_items": null,
       "left": null,
       "margin": null,
       "max_height": null,
       "max_width": null,
       "min_height": null,
       "min_width": null,
       "object_fit": null,
       "object_position": null,
       "order": null,
       "overflow": null,
       "padding": null,
       "right": null,
       "top": null,
       "visibility": null,
       "width": null
      }
     },
     "b823c68903b641809d21ceba3d1dd3b2": {
      "model_module": "@jupyter-widgets/controls",
      "model_module_version": "2.0.0",
      "model_name": "HBoxModel",
      "state": {
       "_dom_classes": [],
       "_model_module": "@jupyter-widgets/controls",
       "_model_module_version": "2.0.0",
       "_model_name": "HBoxModel",
       "_view_count": null,
       "_view_module": "@jupyter-widgets/controls",
       "_view_module_version": "2.0.0",
       "_view_name": "HBoxView",
       "box_style": "",
       "children": [
        "IPY_MODEL_ec9a13c197de4c08878bb0df93396376",
        "IPY_MODEL_f3b0965c9ec747459c0bbe530adb986e"
       ],
       "layout": "IPY_MODEL_ffd4656aa3df43da8b38d63079722e51",
       "tabbable": null,
       "tooltip": null
      }
     },
     "bad94e9f06f44a56aa980809395a5c1e": {
      "model_module": "@jupyter-widgets/base",
      "model_module_version": "2.0.0",
      "model_name": "LayoutModel",
      "state": {
       "_model_module": "@jupyter-widgets/base",
       "_model_module_version": "2.0.0",
       "_model_name": "LayoutModel",
       "_view_count": null,
       "_view_module": "@jupyter-widgets/base",
       "_view_module_version": "2.0.0",
       "_view_name": "LayoutView",
       "align_content": null,
       "align_items": null,
       "align_self": null,
       "border_bottom": null,
       "border_left": null,
       "border_right": null,
       "border_top": null,
       "bottom": null,
       "display": null,
       "flex": null,
       "flex_flow": null,
       "grid_area": null,
       "grid_auto_columns": null,
       "grid_auto_flow": null,
       "grid_auto_rows": null,
       "grid_column": null,
       "grid_gap": null,
       "grid_row": null,
       "grid_template_areas": null,
       "grid_template_columns": null,
       "grid_template_rows": null,
       "height": null,
       "justify_content": null,
       "justify_items": null,
       "left": null,
       "margin": null,
       "max_height": null,
       "max_width": null,
       "min_height": null,
       "min_width": null,
       "object_fit": null,
       "object_position": null,
       "order": null,
       "overflow": null,
       "padding": null,
       "right": null,
       "top": null,
       "visibility": null,
       "width": null
      }
     },
     "be40b00e96954004b44fdb650492ea35": {
      "model_module": "@jupyter-widgets/base",
      "model_module_version": "2.0.0",
      "model_name": "LayoutModel",
      "state": {
       "_model_module": "@jupyter-widgets/base",
       "_model_module_version": "2.0.0",
       "_model_name": "LayoutModel",
       "_view_count": null,
       "_view_module": "@jupyter-widgets/base",
       "_view_module_version": "2.0.0",
       "_view_name": "LayoutView",
       "align_content": null,
       "align_items": null,
       "align_self": null,
       "border_bottom": null,
       "border_left": null,
       "border_right": null,
       "border_top": null,
       "bottom": null,
       "display": null,
       "flex": null,
       "flex_flow": null,
       "grid_area": null,
       "grid_auto_columns": null,
       "grid_auto_flow": null,
       "grid_auto_rows": null,
       "grid_column": null,
       "grid_gap": null,
       "grid_row": null,
       "grid_template_areas": null,
       "grid_template_columns": null,
       "grid_template_rows": null,
       "height": null,
       "justify_content": null,
       "justify_items": null,
       "left": null,
       "margin": null,
       "max_height": null,
       "max_width": null,
       "min_height": null,
       "min_width": null,
       "object_fit": null,
       "object_position": null,
       "order": null,
       "overflow": null,
       "padding": null,
       "right": null,
       "top": null,
       "visibility": null,
       "width": null
      }
     },
     "cac2107a27ff41d7989f27b7fac9808d": {
      "model_module": "@jupyter-widgets/controls",
      "model_module_version": "2.0.0",
      "model_name": "HBoxModel",
      "state": {
       "_dom_classes": [],
       "_model_module": "@jupyter-widgets/controls",
       "_model_module_version": "2.0.0",
       "_model_name": "HBoxModel",
       "_view_count": null,
       "_view_module": "@jupyter-widgets/controls",
       "_view_module_version": "2.0.0",
       "_view_name": "HBoxView",
       "box_style": "",
       "children": [
        "IPY_MODEL_6c2705f62f2b4fc5aa470e638c8f5726"
       ],
       "layout": "IPY_MODEL_4568152436ce411aae72b8f5418830c7",
       "tabbable": null,
       "tooltip": null
      }
     },
     "d0696693387d4db585fc76ba5272f40d": {
      "model_module": "@jupyter-widgets/base",
      "model_module_version": "2.0.0",
      "model_name": "LayoutModel",
      "state": {
       "_model_module": "@jupyter-widgets/base",
       "_model_module_version": "2.0.0",
       "_model_name": "LayoutModel",
       "_view_count": null,
       "_view_module": "@jupyter-widgets/base",
       "_view_module_version": "2.0.0",
       "_view_name": "LayoutView",
       "align_content": null,
       "align_items": null,
       "align_self": null,
       "border_bottom": null,
       "border_left": null,
       "border_right": null,
       "border_top": null,
       "bottom": null,
       "display": null,
       "flex": null,
       "flex_flow": null,
       "grid_area": null,
       "grid_auto_columns": null,
       "grid_auto_flow": null,
       "grid_auto_rows": null,
       "grid_column": null,
       "grid_gap": null,
       "grid_row": null,
       "grid_template_areas": null,
       "grid_template_columns": null,
       "grid_template_rows": null,
       "height": null,
       "justify_content": null,
       "justify_items": null,
       "left": null,
       "margin": null,
       "max_height": null,
       "max_width": null,
       "min_height": null,
       "min_width": null,
       "object_fit": null,
       "object_position": null,
       "order": null,
       "overflow": null,
       "padding": null,
       "right": null,
       "top": null,
       "visibility": null,
       "width": null
      }
     },
     "d33b10d1e7394c858209487ad2f8a902": {
      "model_module": "@jupyter-widgets/base",
      "model_module_version": "2.0.0",
      "model_name": "LayoutModel",
      "state": {
       "_model_module": "@jupyter-widgets/base",
       "_model_module_version": "2.0.0",
       "_model_name": "LayoutModel",
       "_view_count": null,
       "_view_module": "@jupyter-widgets/base",
       "_view_module_version": "2.0.0",
       "_view_name": "LayoutView",
       "align_content": null,
       "align_items": null,
       "align_self": null,
       "border_bottom": null,
       "border_left": null,
       "border_right": null,
       "border_top": null,
       "bottom": null,
       "display": null,
       "flex": null,
       "flex_flow": null,
       "grid_area": null,
       "grid_auto_columns": null,
       "grid_auto_flow": null,
       "grid_auto_rows": null,
       "grid_column": null,
       "grid_gap": null,
       "grid_row": null,
       "grid_template_areas": null,
       "grid_template_columns": null,
       "grid_template_rows": null,
       "height": null,
       "justify_content": null,
       "justify_items": null,
       "left": null,
       "margin": null,
       "max_height": null,
       "max_width": null,
       "min_height": null,
       "min_width": null,
       "object_fit": null,
       "object_position": null,
       "order": null,
       "overflow": null,
       "padding": null,
       "right": null,
       "top": null,
       "visibility": null,
       "width": null
      }
     },
     "d67aea52268e4cd9a483459afba1b673": {
      "model_module": "@jupyter-widgets/base",
      "model_module_version": "2.0.0",
      "model_name": "LayoutModel",
      "state": {
       "_model_module": "@jupyter-widgets/base",
       "_model_module_version": "2.0.0",
       "_model_name": "LayoutModel",
       "_view_count": null,
       "_view_module": "@jupyter-widgets/base",
       "_view_module_version": "2.0.0",
       "_view_name": "LayoutView",
       "align_content": null,
       "align_items": null,
       "align_self": null,
       "border_bottom": null,
       "border_left": null,
       "border_right": null,
       "border_top": null,
       "bottom": null,
       "display": null,
       "flex": null,
       "flex_flow": null,
       "grid_area": null,
       "grid_auto_columns": null,
       "grid_auto_flow": null,
       "grid_auto_rows": null,
       "grid_column": null,
       "grid_gap": null,
       "grid_row": null,
       "grid_template_areas": null,
       "grid_template_columns": null,
       "grid_template_rows": null,
       "height": null,
       "justify_content": null,
       "justify_items": null,
       "left": null,
       "margin": null,
       "max_height": null,
       "max_width": null,
       "min_height": null,
       "min_width": null,
       "object_fit": null,
       "object_position": null,
       "order": null,
       "overflow": null,
       "padding": null,
       "right": null,
       "top": null,
       "visibility": null,
       "width": null
      }
     },
     "da30dfd7843447d7aaeee3a86ad19326": {
      "model_module": "@jupyter-widgets/output",
      "model_module_version": "1.0.0",
      "model_name": "OutputModel",
      "state": {
       "_dom_classes": [],
       "_model_module": "@jupyter-widgets/output",
       "_model_module_version": "1.0.0",
       "_model_name": "OutputModel",
       "_view_count": null,
       "_view_module": "@jupyter-widgets/output",
       "_view_module_version": "1.0.0",
       "_view_name": "OutputView",
       "layout": "IPY_MODEL_f7e5f1e8125d4a458a2a17624b565da0",
       "msg_id": "",
       "outputs": [
        {
         "data": {
          "text/markdown": "`gf16_multiplication`",
          "text/plain": "<IPython.core.display.Markdown object>"
         },
         "metadata": {},
         "output_type": "display_data"
        },
        {
         "data": {
          "image/svg+xml": "<svg xmlns=\"http://www.w3.org/2000/svg\" xmlns:xlink=\"http://www.w3.org/1999/xlink\" width=\"275pt\" height=\"152pt\" viewBox=\"0.00 0.00 275.00 152.00\">\n<g id=\"graph0\" class=\"graph\" transform=\"scale(1 1) rotate(0) translate(4 148)\">\n<title>my_graph</title>\n<polygon fill=\"white\" stroke=\"transparent\" points=\"-4,4 -4,-148 271,-148 271,4 -4,4\"/>\n<!-- x_G5 -->\n<g id=\"node1\" class=\"node\">\n<title>x_G5</title>\n<text text-anchor=\"middle\" x=\"27\" y=\"-122.3\" font-family=\"Times,serif\" font-size=\"14.00\">x</text>\n</g>\n<!-- GF2Multiplication -->\n<g id=\"node4\" class=\"node\">\n<title>GF2Multiplication</title>\n<polygon fill=\"none\" stroke=\"black\" points=\"91.5,-104 91.5,-121 176.5,-121 176.5,-104 91.5,-104\"/>\n<text text-anchor=\"start\" x=\"94.5\" y=\"-110\" font-family=\"Times,serif\" font-size=\"10.00\">GF2Multiplication</text>\n<polygon fill=\"none\" stroke=\"black\" points=\"91.5,-83 91.5,-104 176.5,-104 176.5,-83 91.5,-83\"/>\n<text text-anchor=\"start\" x=\"130.5\" y=\"-89.8\" font-family=\"Times,serif\" font-size=\"14.00\">x</text>\n<polygon fill=\"none\" stroke=\"black\" points=\"91.5,-62 91.5,-83 176.5,-83 176.5,-62 91.5,-62\"/>\n<text text-anchor=\"start\" x=\"130.5\" y=\"-68.8\" font-family=\"Times,serif\" font-size=\"14.00\">y</text>\n<polygon fill=\"none\" stroke=\"black\" points=\"91.5,-41 91.5,-62 176.5,-62 176.5,-41 91.5,-41\"/>\n<text text-anchor=\"start\" x=\"118.5\" y=\"-47.8\" font-family=\"Times,serif\" font-size=\"14.00\">result</text>\n</g>\n<!-- x_G5&#45;&gt;GF2Multiplication -->\n<g id=\"edge1\" class=\"edge\">\n<title>x_G5:e-&gt;GF2Multiplication:w</title>\n<path fill=\"none\" stroke=\"black\" d=\"M54,-126C74.89,-126 69.72,-96.45 88.58,-94.14\"/>\n<ellipse fill=\"black\" stroke=\"black\" cx=\"90\" cy=\"-94.06\" rx=\"1\" ry=\"1\"/>\n<text text-anchor=\"middle\" x=\"72.5\" y=\"-113\" font-family=\"Times,serif\" font-size=\"10.00\">4</text>\n</g>\n<!-- y_G3 -->\n<g id=\"node2\" class=\"node\">\n<title>y_G3</title>\n<text text-anchor=\"middle\" x=\"27\" y=\"-68.3\" font-family=\"Times,serif\" font-size=\"14.00\">y</text>\n</g>\n<!-- y_G3&#45;&gt;GF2Multiplication -->\n<g id=\"edge2\" class=\"edge\">\n<title>y_G3:e-&gt;GF2Multiplication:w</title>\n<path fill=\"none\" stroke=\"black\" d=\"M54,-72C69.67,-72 74.14,-72 88.77,-72\"/>\n<ellipse fill=\"black\" stroke=\"black\" cx=\"90\" cy=\"-72\" rx=\"1\" ry=\"1\"/>\n<text text-anchor=\"middle\" x=\"72.5\" y=\"-75\" font-family=\"Times,serif\" font-size=\"10.00\">4</text>\n</g>\n<!-- result_G2 -->\n<g id=\"node3\" class=\"node\">\n<title>result_G2</title>\n<text text-anchor=\"middle\" x=\"27\" y=\"-14.3\" font-family=\"Times,serif\" font-size=\"14.00\">result</text>\n</g>\n<!-- result_G2&#45;&gt;GF2Multiplication -->\n<g id=\"edge3\" class=\"edge\">\n<title>result_G2:e-&gt;GF2Multiplication:w</title>\n<path fill=\"none\" stroke=\"black\" d=\"M54,-18C75.17,-18 69.47,-48.47 88.55,-50.85\"/>\n<ellipse fill=\"black\" stroke=\"black\" cx=\"90\" cy=\"-50.94\" rx=\"1\" ry=\"1\"/>\n<text text-anchor=\"middle\" x=\"72.5\" y=\"-39\" font-family=\"Times,serif\" font-size=\"10.00\">4</text>\n</g>\n<!-- x_G0 -->\n<g id=\"node5\" class=\"node\">\n<title>x_G0</title>\n<text text-anchor=\"middle\" x=\"240\" y=\"-122.3\" font-family=\"Times,serif\" font-size=\"14.00\">x</text>\n</g>\n<!-- GF2Multiplication&#45;&gt;x_G0 -->\n<g id=\"edge4\" class=\"edge\">\n<title>GF2Multiplication:e-&gt;x_G0:w</title>\n<path fill=\"none\" stroke=\"black\" d=\"M176,-94C196.89,-94 191.72,-123.55 210.58,-125.86\"/>\n<ellipse fill=\"black\" stroke=\"black\" cx=\"212\" cy=\"-125.94\" rx=\"1\" ry=\"1\"/>\n<text text-anchor=\"middle\" x=\"194.5\" y=\"-113\" font-family=\"Times,serif\" font-size=\"10.00\">4</text>\n</g>\n<!-- y_G1 -->\n<g id=\"node6\" class=\"node\">\n<title>y_G1</title>\n<text text-anchor=\"middle\" x=\"240\" y=\"-68.3\" font-family=\"Times,serif\" font-size=\"14.00\">y</text>\n</g>\n<!-- GF2Multiplication&#45;&gt;y_G1 -->\n<g id=\"edge5\" class=\"edge\">\n<title>GF2Multiplication:e-&gt;y_G1:w</title>\n<path fill=\"none\" stroke=\"black\" d=\"M176,-72C191.67,-72 196.14,-72 210.77,-72\"/>\n<ellipse fill=\"black\" stroke=\"black\" cx=\"212\" cy=\"-72\" rx=\"1\" ry=\"1\"/>\n<text text-anchor=\"middle\" x=\"194.5\" y=\"-75\" font-family=\"Times,serif\" font-size=\"10.00\">4</text>\n</g>\n<!-- result_G7 -->\n<g id=\"node7\" class=\"node\">\n<title>result_G7</title>\n<text text-anchor=\"middle\" x=\"240\" y=\"-14.3\" font-family=\"Times,serif\" font-size=\"14.00\">result</text>\n</g>\n<!-- GF2Multiplication&#45;&gt;result_G7 -->\n<g id=\"edge6\" class=\"edge\">\n<title>GF2Multiplication:e-&gt;result_G7:w</title>\n<path fill=\"none\" stroke=\"black\" d=\"M176,-51C197.17,-51 191.47,-20.53 210.55,-18.15\"/>\n<ellipse fill=\"black\" stroke=\"black\" cx=\"212\" cy=\"-18.06\" rx=\"1\" ry=\"1\"/>\n<text text-anchor=\"middle\" x=\"194.5\" y=\"-39\" font-family=\"Times,serif\" font-size=\"10.00\">4</text>\n</g>\n</g>\n</svg>",
          "text/plain": "<IPython.core.display.SVG object>"
         },
         "metadata": {},
         "output_type": "display_data"
        }
       ],
       "tabbable": null,
       "tooltip": null
      }
     },
     "dbc239f665804c1d829a4367dda5190a": {
      "model_module": "@jupyter-widgets/base",
      "model_module_version": "2.0.0",
      "model_name": "LayoutModel",
      "state": {
       "_model_module": "@jupyter-widgets/base",
       "_model_module_version": "2.0.0",
       "_model_name": "LayoutModel",
       "_view_count": null,
       "_view_module": "@jupyter-widgets/base",
       "_view_module_version": "2.0.0",
       "_view_name": "LayoutView",
       "align_content": null,
       "align_items": null,
       "align_self": null,
       "border_bottom": null,
       "border_left": null,
       "border_right": null,
       "border_top": null,
       "bottom": null,
       "display": null,
       "flex": null,
       "flex_flow": null,
       "grid_area": null,
       "grid_auto_columns": null,
       "grid_auto_flow": null,
       "grid_auto_rows": null,
       "grid_column": null,
       "grid_gap": null,
       "grid_row": null,
       "grid_template_areas": null,
       "grid_template_columns": null,
       "grid_template_rows": null,
       "height": null,
       "justify_content": null,
       "justify_items": null,
       "left": null,
       "margin": null,
       "max_height": null,
       "max_width": null,
       "min_height": null,
       "min_width": null,
       "object_fit": null,
       "object_position": null,
       "order": null,
       "overflow": null,
       "padding": null,
       "right": null,
       "top": null,
       "visibility": null,
       "width": null
      }
     },
     "ec9a13c197de4c08878bb0df93396376": {
      "model_module": "@jupyter-widgets/output",
      "model_module_version": "1.0.0",
      "model_name": "OutputModel",
      "state": {
       "_dom_classes": [],
       "_model_module": "@jupyter-widgets/output",
       "_model_module_version": "1.0.0",
       "_model_name": "OutputModel",
       "_view_count": null,
       "_view_module": "@jupyter-widgets/output",
       "_view_module_version": "1.0.0",
       "_view_name": "OutputView",
       "layout": "IPY_MODEL_1d13773748d547c38d75faf19e008643",
       "msg_id": "",
       "outputs": [
        {
         "data": {
          "text/markdown": "`gf2_multiply_by_constant`",
          "text/plain": "<IPython.core.display.Markdown object>"
         },
         "metadata": {},
         "output_type": "display_data"
        },
        {
         "data": {
          "image/svg+xml": "<svg xmlns=\"http://www.w3.org/2000/svg\" xmlns:xlink=\"http://www.w3.org/1999/xlink\" width=\"239pt\" height=\"54pt\" viewBox=\"0.00 0.00 239.00 54.00\">\n<g id=\"graph0\" class=\"graph\" transform=\"scale(1 1) rotate(0) translate(4 50)\">\n<title>my_graph</title>\n<polygon fill=\"white\" stroke=\"transparent\" points=\"-4,4 -4,-50 235,-50 235,4 -4,4\"/>\n<!-- g_G1 -->\n<g id=\"node1\" class=\"node\">\n<title>g_G1</title>\n<text text-anchor=\"middle\" x=\"27\" y=\"-14.3\" font-family=\"Times,serif\" font-size=\"14.00\">g</text>\n</g>\n<!-- GF2MulK -->\n<g id=\"node2\" class=\"node\">\n<title>GF2MulK</title>\n<polygon fill=\"none\" stroke=\"black\" points=\"91.5,-29 91.5,-46 140.5,-46 140.5,-29 91.5,-29\"/>\n<text text-anchor=\"start\" x=\"94.5\" y=\"-35\" font-family=\"Times,serif\" font-size=\"10.00\">GF2MulK</text>\n<polygon fill=\"none\" stroke=\"black\" points=\"91.5,-8 91.5,-29 140.5,-29 140.5,-8 91.5,-8\"/>\n<text text-anchor=\"start\" x=\"112.5\" y=\"-14.8\" font-family=\"Times,serif\" font-size=\"14.00\">g</text>\n</g>\n<!-- g_G1&#45;&gt;GF2MulK -->\n<g id=\"edge1\" class=\"edge\">\n<title>g_G1:e-&gt;GF2MulK:w</title>\n<path fill=\"none\" stroke=\"black\" d=\"M54,-18C69.67,-18 74.14,-18 88.77,-18\"/>\n<ellipse fill=\"black\" stroke=\"black\" cx=\"90\" cy=\"-18\" rx=\"1\" ry=\"1\"/>\n<text text-anchor=\"middle\" x=\"72.5\" y=\"-21\" font-family=\"Times,serif\" font-size=\"10.00\">3</text>\n</g>\n<!-- g_G2 -->\n<g id=\"node3\" class=\"node\">\n<title>g_G2</title>\n<text text-anchor=\"middle\" x=\"204\" y=\"-14.3\" font-family=\"Times,serif\" font-size=\"14.00\">g</text>\n</g>\n<!-- GF2MulK&#45;&gt;g_G2 -->\n<g id=\"edge2\" class=\"edge\">\n<title>GF2MulK:e-&gt;g_G2:w</title>\n<path fill=\"none\" stroke=\"black\" d=\"M140,-18C155.67,-18 160.14,-18 174.77,-18\"/>\n<ellipse fill=\"black\" stroke=\"black\" cx=\"176\" cy=\"-18\" rx=\"1\" ry=\"1\"/>\n<text text-anchor=\"middle\" x=\"158.5\" y=\"-21\" font-family=\"Times,serif\" font-size=\"10.00\">3</text>\n</g>\n</g>\n</svg>",
          "text/plain": "<IPython.core.display.SVG object>"
         },
         "metadata": {},
         "output_type": "display_data"
        }
       ],
       "tabbable": null,
       "tooltip": null
      }
     },
     "f3b0965c9ec747459c0bbe530adb986e": {
      "model_module": "@jupyter-widgets/output",
      "model_module_version": "1.0.0",
      "model_name": "OutputModel",
      "state": {
       "_dom_classes": [],
       "_model_module": "@jupyter-widgets/output",
       "_model_module_version": "1.0.0",
       "_model_name": "OutputModel",
       "_view_count": null,
       "_view_module": "@jupyter-widgets/output",
       "_view_module_version": "1.0.0",
       "_view_name": "OutputView",
       "layout": "IPY_MODEL_dbc239f665804c1d829a4367dda5190a",
       "msg_id": "",
       "outputs": [
        {
         "data": {
          "text/markdown": "`gf2_poly_multiply_by_constant`",
          "text/plain": "<IPython.core.display.Markdown object>"
         },
         "metadata": {},
         "output_type": "display_data"
        },
        {
         "data": {
          "image/svg+xml": "<svg xmlns=\"http://www.w3.org/2000/svg\" xmlns:xlink=\"http://www.w3.org/1999/xlink\" width=\"239pt\" height=\"54pt\" viewBox=\"0.00 0.00 239.00 54.00\">\n<g id=\"graph0\" class=\"graph\" transform=\"scale(1 1) rotate(0) translate(4 50)\">\n<title>my_graph</title>\n<polygon fill=\"white\" stroke=\"transparent\" points=\"-4,4 -4,-50 235,-50 235,4 -4,4\"/>\n<!-- g_G1 -->\n<g id=\"node1\" class=\"node\">\n<title>g_G1</title>\n<text text-anchor=\"middle\" x=\"27\" y=\"-14.3\" font-family=\"Times,serif\" font-size=\"14.00\">g</text>\n</g>\n<!-- GF2MulK -->\n<g id=\"node2\" class=\"node\">\n<title>GF2MulK</title>\n<polygon fill=\"none\" stroke=\"black\" points=\"91.5,-29 91.5,-46 140.5,-46 140.5,-29 91.5,-29\"/>\n<text text-anchor=\"start\" x=\"94.5\" y=\"-35\" font-family=\"Times,serif\" font-size=\"10.00\">GF2MulK</text>\n<polygon fill=\"none\" stroke=\"black\" points=\"91.5,-8 91.5,-29 140.5,-29 140.5,-8 91.5,-8\"/>\n<text text-anchor=\"start\" x=\"112.5\" y=\"-14.8\" font-family=\"Times,serif\" font-size=\"14.00\">g</text>\n</g>\n<!-- g_G1&#45;&gt;GF2MulK -->\n<g id=\"edge1\" class=\"edge\">\n<title>g_G1:e-&gt;GF2MulK:w</title>\n<path fill=\"none\" stroke=\"black\" d=\"M54,-18C69.67,-18 74.14,-18 88.77,-18\"/>\n<ellipse fill=\"black\" stroke=\"black\" cx=\"90\" cy=\"-18\" rx=\"1\" ry=\"1\"/>\n<text text-anchor=\"middle\" x=\"72.5\" y=\"-21\" font-family=\"Times,serif\" font-size=\"10.00\">3</text>\n</g>\n<!-- g_G2 -->\n<g id=\"node3\" class=\"node\">\n<title>g_G2</title>\n<text text-anchor=\"middle\" x=\"204\" y=\"-14.3\" font-family=\"Times,serif\" font-size=\"14.00\">g</text>\n</g>\n<!-- GF2MulK&#45;&gt;g_G2 -->\n<g id=\"edge2\" class=\"edge\">\n<title>GF2MulK:e-&gt;g_G2:w</title>\n<path fill=\"none\" stroke=\"black\" d=\"M140,-18C155.67,-18 160.14,-18 174.77,-18\"/>\n<ellipse fill=\"black\" stroke=\"black\" cx=\"176\" cy=\"-18\" rx=\"1\" ry=\"1\"/>\n<text text-anchor=\"middle\" x=\"158.5\" y=\"-21\" font-family=\"Times,serif\" font-size=\"10.00\">3</text>\n</g>\n</g>\n</svg>",
          "text/plain": "<IPython.core.display.SVG object>"
         },
         "metadata": {},
         "output_type": "display_data"
        }
       ],
       "tabbable": null,
       "tooltip": null
      }
     },
     "f7e5f1e8125d4a458a2a17624b565da0": {
      "model_module": "@jupyter-widgets/base",
      "model_module_version": "2.0.0",
      "model_name": "LayoutModel",
      "state": {
       "_model_module": "@jupyter-widgets/base",
       "_model_module_version": "2.0.0",
       "_model_name": "LayoutModel",
       "_view_count": null,
       "_view_module": "@jupyter-widgets/base",
       "_view_module_version": "2.0.0",
       "_view_name": "LayoutView",
       "align_content": null,
       "align_items": null,
       "align_self": null,
       "border_bottom": null,
       "border_left": null,
       "border_right": null,
       "border_top": null,
       "bottom": null,
       "display": null,
       "flex": null,
       "flex_flow": null,
       "grid_area": null,
       "grid_auto_columns": null,
       "grid_auto_flow": null,
       "grid_auto_rows": null,
       "grid_column": null,
       "grid_gap": null,
       "grid_row": null,
       "grid_template_areas": null,
       "grid_template_columns": null,
       "grid_template_rows": null,
       "height": null,
       "justify_content": null,
       "justify_items": null,
       "left": null,
       "margin": null,
       "max_height": null,
       "max_width": null,
       "min_height": null,
       "min_width": null,
       "object_fit": null,
       "object_position": null,
       "order": null,
       "overflow": null,
       "padding": null,
       "right": null,
       "top": null,
       "visibility": null,
       "width": null
      }
     },
     "ffd4656aa3df43da8b38d63079722e51": {
      "model_module": "@jupyter-widgets/base",
      "model_module_version": "2.0.0",
      "model_name": "LayoutModel",
      "state": {
       "_model_module": "@jupyter-widgets/base",
       "_model_module_version": "2.0.0",
       "_model_name": "LayoutModel",
       "_view_count": null,
       "_view_module": "@jupyter-widgets/base",
       "_view_module_version": "2.0.0",
       "_view_name": "LayoutView",
       "align_content": null,
       "align_items": null,
       "align_self": null,
       "border_bottom": null,
       "border_left": null,
       "border_right": null,
       "border_top": null,
       "bottom": null,
       "display": null,
       "flex": null,
       "flex_flow": null,
       "grid_area": null,
       "grid_auto_columns": null,
       "grid_auto_flow": null,
       "grid_auto_rows": null,
       "grid_column": null,
       "grid_gap": null,
       "grid_row": null,
       "grid_template_areas": null,
       "grid_template_columns": null,
       "grid_template_rows": null,
       "height": null,
       "justify_content": null,
       "justify_items": null,
       "left": null,
       "margin": null,
       "max_height": null,
       "max_width": null,
       "min_height": null,
       "min_width": null,
       "object_fit": null,
       "object_position": null,
       "order": null,
       "overflow": null,
       "padding": null,
       "right": null,
       "top": null,
       "visibility": null,
       "width": null
      }
     }
    },
    "version_major": 2,
    "version_minor": 0
   }
  }
 },
 "nbformat": 4,
 "nbformat_minor": 5
}
