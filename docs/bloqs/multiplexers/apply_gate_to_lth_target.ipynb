{
 "cells": [
  {
   "cell_type": "code",
   "execution_count": 1,
   "id": "60432dd0",
   "metadata": {},
   "outputs": [],
   "source": [
    "#  Copyright 2023 Google LLC\n",
    "#\n",
    "#  Licensed under the Apache License, Version 2.0 (the \"License\");\n",
    "#  you may not use this file except in compliance with the License.\n",
    "#  You may obtain a copy of the License at\n",
    "#\n",
    "#      https://www.apache.org/licenses/LICENSE-2.0\n",
    "#\n",
    "#  Unless required by applicable law or agreed to in writing, software\n",
    "#  distributed under the License is distributed on an \"AS IS\" BASIS,\n",
    "#  WITHOUT WARRANTIES OR CONDITIONS OF ANY KIND, either express or implied.\n",
    "#  See the License for the specific language governing permissions and\n",
    "#  limitations under the License."
   ]
  },
  {
   "cell_type": "markdown",
   "id": "ac3bfb05",
   "metadata": {
    "cq.autogen": "title_cell"
   },
   "source": [
    "# Apply to Lth Target"
   ]
  },
  {
   "cell_type": "code",
   "execution_count": 2,
   "id": "4e214a27",
   "metadata": {
    "cq.autogen": "top_imports"
   },
   "outputs": [],
   "source": [
    "from qualtran import Bloq, CompositeBloq, BloqBuilder, Signature, Register\n",
    "from qualtran import QBit, QInt, QUInt, QAny\n",
    "from qualtran.drawing import show_bloq, show_call_graph, show_counts_sigma\n",
    "from typing import *\n",
    "import numpy as np\n",
    "import sympy\n",
    "import cirq"
   ]
  },
  {
   "cell_type": "markdown",
   "id": "249829b0",
   "metadata": {
    "cq.autogen": "ApplyGateToLthQubit.bloq_doc.md"
   },
   "source": [
    "## `ApplyGateToLthQubit`\n",
    "A controlled SELECT operation for single-qubit gates.\n",
    "\n",
    "$$\n",
    "\\mathrm{SELECT} = \\sum_{l}|l \\rangle \\langle l| \\otimes [G(l)]_l\n",
    "$$\n",
    "\n",
    "Where $G$ is a function that maps an index to a single-qubit gate.\n",
    "\n",
    "This gate uses the unary iteration scheme to apply `nth_gate(selection)` to the\n",
    "`selection`-th qubit of `target` all controlled by the `control` register.\n",
    "\n",
    "#### Parameters\n",
    " - `selection_regs`: Indexing `select` signature of type Tuple[[`Register`](/reference/qualtran/Register.md), ...]. It also contains information about the iteration length of each selection register.\n",
    " - `nth_gate`: A function mapping the composite selection index to a single-qubit gate.\n",
    " - `control_regs`: Control signature for constructing a controlled version of the gate. \n",
    "\n",
    "#### References\n",
    " - [Encoding Electronic Spectra in Quantum Circuits with Linear T Complexity](https://arxiv.org/abs/1805.03662). Babbush et al. (2018). Section III.A. and Figure 7.\n"
   ]
  },
  {
   "cell_type": "code",
   "execution_count": 3,
   "id": "b8d2a7bf",
   "metadata": {
    "cq.autogen": "ApplyGateToLthQubit.bloq_doc.py"
   },
   "outputs": [],
   "source": [
    "from qualtran.bloqs.multiplexers.apply_gate_to_lth_target import ApplyGateToLthQubit"
   ]
  },
  {
   "cell_type": "markdown",
   "id": "4fb12f9c",
   "metadata": {
    "cq.autogen": "ApplyGateToLthQubit.example_instances.md"
   },
   "source": [
    "### Example Instances"
   ]
  },
  {
   "cell_type": "code",
   "execution_count": 4,
   "id": "8ed7d01a",
   "metadata": {
    "cq.autogen": "ApplyGateToLthQubit.apply_z_to_odd"
   },
   "outputs": [],
   "source": [
    "from qualtran import BQUInt, Register\n",
    "\n",
    "def _z_to_odd(n: int):\n",
    "    if n % 2 == 1:\n",
    "        return cirq.Z\n",
    "    return cirq.I\n",
    "\n",
    "apply_z_to_odd = ApplyGateToLthQubit(\n",
    "    Register('selection', BQUInt(3, 4)),\n",
    "    nth_gate=_z_to_odd,\n",
    "    control_regs=Signature.build(control=2),\n",
    ")\n"
   ]
  },
  {
   "cell_type": "markdown",
   "id": "19527432",
   "metadata": {
    "cq.autogen": "ApplyGateToLthQubit.graphical_signature.md"
   },
   "source": [
    "#### Graphical Signature"
   ]
  },
  {
   "cell_type": "code",
   "execution_count": 5,
   "id": "f0c83967",
   "metadata": {
    "cq.autogen": "ApplyGateToLthQubit.graphical_signature.py"
   },
   "outputs": [
    {
     "data": {
      "application/vnd.jupyter.widget-view+json": {
       "model_id": "0c9d7b9088a1455fbcb8baecf0e99433",
       "version_major": 2,
       "version_minor": 0
      },
      "text/plain": [
       "HBox(children=(Output(outputs=({'output_type': 'display_data', 'data': {'text/plain': '<IPython.core.display.M…"
      ]
     },
     "metadata": {},
     "output_type": "display_data"
    }
   ],
   "source": [
    "from qualtran.drawing import show_bloqs\n",
    "show_bloqs([apply_z_to_odd],\n",
    "           ['`apply_z_to_odd`'])"
   ]
  },
  {
   "cell_type": "markdown",
   "id": "5dedba84",
   "metadata": {},
   "source": [
    "## Decomposition"
   ]
  },
  {
   "cell_type": "code",
   "execution_count": 6,
   "id": "d61a8c3f",
   "metadata": {},
   "outputs": [
    {
     "data": {
      "application/vnd.jupyter.widget-view+json": {
       "model_id": "eb308e0807b14e6b8cbce88b18b5b28c",
       "version_major": 2,
       "version_minor": 0
      },
      "text/plain": [
       "HBox(children=(Output(outputs=({'output_type': 'display_data', 'data': {'text/plain': '<IPython.core.display.S…"
      ]
     },
     "metadata": {},
     "output_type": "display_data"
    }
   ],
   "source": [
    "import qualtran.cirq_interop.testing as cq_testing\n",
    "from qualtran.cirq_interop.jupyter_tools import display_gate_and_compilation\n",
    "\n",
    "g = cq_testing.GateHelper(\n",
    "    apply_z_to_odd\n",
    ")\n",
    "\n",
    "display_gate_and_compilation(g)"
   ]
  },
  {
   "cell_type": "markdown",
   "id": "96e5f93d",
   "metadata": {
    "cq.autogen": "ApplyGateToLthQubit.call_graph.md"
   },
   "source": [
    "### Call Graph"
   ]
  },
  {
   "cell_type": "code",
   "execution_count": 7,
   "id": "01d191bb",
   "metadata": {
    "cq.autogen": "ApplyGateToLthQubit.call_graph.py"
   },
   "outputs": [
    {
     "data": {
      "image/svg+xml": [
       "<svg xmlns=\"http://www.w3.org/2000/svg\" xmlns:xlink=\"http://www.w3.org/1999/xlink\" width=\"424pt\" height=\"131pt\" viewBox=\"0.00 0.00 424.00 131.00\">\n",
       "<g id=\"graph0\" class=\"graph\" transform=\"scale(1 1) rotate(0) translate(4 127)\">\n",
       "<title>counts</title>\n",
       "<polygon fill=\"white\" stroke=\"transparent\" points=\"-4,4 -4,-127 420,-127 420,4 -4,4\"/>\n",
       "<!-- b0 -->\n",
       "<g id=\"node1\" class=\"node\">\n",
       "<title>b0</title>\n",
       "<polygon fill=\"none\" stroke=\"black\" points=\"154,-93 154,-116 262,-116 262,-93 154,-93\"/>\n",
       "<text text-anchor=\"start\" x=\"160.5\" y=\"-102\" font-family=\"Times,serif\" font-size=\"10.00\">ApplyGateToLthQubit</text>\n",
       "</g>\n",
       "<!-- b1 -->\n",
       "<g id=\"node2\" class=\"node\">\n",
       "<title>b1</title>\n",
       "<polygon fill=\"none\" stroke=\"black\" points=\"11,-6 11,-29 43,-29 43,-6 11,-6\"/>\n",
       "<text text-anchor=\"start\" x=\"17.5\" y=\"-15\" font-family=\"Times,serif\" font-size=\"10.00\">And</text>\n",
       "</g>\n",
       "<!-- b0&#45;&gt;b1 -->\n",
       "<g id=\"edge1\" class=\"edge\">\n",
       "<title>b0-&gt;b1</title>\n",
       "<path fill=\"none\" stroke=\"black\" d=\"M171.64,-86.98C144.25,-74.15 105.55,-56.01 63.21,-36.09\"/>\n",
       "<polygon fill=\"black\" stroke=\"black\" points=\"64.66,-32.91 54.12,-31.82 61.68,-39.24 64.66,-32.91\"/>\n",
       "<text text-anchor=\"middle\" x=\"134.5\" y=\"-57.8\" font-family=\"Times,serif\" font-size=\"14.00\">3</text>\n",
       "</g>\n",
       "<!-- b2 -->\n",
       "<g id=\"node3\" class=\"node\">\n",
       "<title>b2</title>\n",
       "<polygon fill=\"none\" stroke=\"black\" points=\"81,-6 81,-29 117,-29 117,-6 81,-6\"/>\n",
       "<text text-anchor=\"start\" x=\"87\" y=\"-15\" font-family=\"Times,serif\" font-size=\"10.00\">And†</text>\n",
       "</g>\n",
       "<!-- b0&#45;&gt;b2 -->\n",
       "<g id=\"edge2\" class=\"edge\">\n",
       "<title>b0-&gt;b2</title>\n",
       "<path fill=\"none\" stroke=\"black\" d=\"M185.94,-86.8C169.54,-74.01 146.98,-56.42 128.95,-42.36\"/>\n",
       "<polygon fill=\"black\" stroke=\"black\" points=\"131.06,-39.56 121.02,-36.18 126.76,-45.08 131.06,-39.56\"/>\n",
       "<text text-anchor=\"middle\" x=\"164.5\" y=\"-57.8\" font-family=\"Times,serif\" font-size=\"14.00\">4</text>\n",
       "</g>\n",
       "<!-- b3 -->\n",
       "<g id=\"node4\" class=\"node\">\n",
       "<title>b3</title>\n",
       "<polygon fill=\"none\" stroke=\"black\" points=\"152,-6 152,-29 192,-29 192,-6 152,-6\"/>\n",
       "<text text-anchor=\"start\" x=\"158\" y=\"-15\" font-family=\"Times,serif\" font-size=\"10.00\">CNOT</text>\n",
       "</g>\n",
       "<!-- b0&#45;&gt;b3 -->\n",
       "<g id=\"edge3\" class=\"edge\">\n",
       "<title>b0-&gt;b3</title>\n",
       "<path fill=\"none\" stroke=\"black\" d=\"M200.71,-86.8C195.69,-74.93 188.91,-58.93 183.2,-45.45\"/>\n",
       "<polygon fill=\"black\" stroke=\"black\" points=\"186.4,-44.02 179.27,-36.18 179.95,-46.75 186.4,-44.02\"/>\n",
       "<text text-anchor=\"middle\" x=\"196.5\" y=\"-57.8\" font-family=\"Times,serif\" font-size=\"14.00\">3</text>\n",
       "</g>\n",
       "<!-- b4 -->\n",
       "<g id=\"node5\" class=\"node\">\n",
       "<title>b4</title>\n",
       "<polygon fill=\"none\" stroke=\"black\" points=\"232,-6 232,-29 258,-29 258,-6 232,-6\"/>\n",
       "<text text-anchor=\"start\" x=\"238.5\" y=\"-15\" font-family=\"Times,serif\" font-size=\"10.00\">CZ</text>\n",
       "</g>\n",
       "<!-- b0&#45;&gt;b4 -->\n",
       "<g id=\"edge4\" class=\"edge\">\n",
       "<title>b0-&gt;b4</title>\n",
       "<path fill=\"none\" stroke=\"black\" d=\"M215.49,-86.8C220.65,-74.93 227.62,-58.93 233.49,-45.45\"/>\n",
       "<polygon fill=\"black\" stroke=\"black\" points=\"236.74,-46.74 237.52,-36.18 230.32,-43.95 236.74,-46.74\"/>\n",
       "<text text-anchor=\"middle\" x=\"232.5\" y=\"-57.8\" font-family=\"Times,serif\" font-size=\"14.00\">2</text>\n",
       "</g>\n",
       "<!-- b5 -->\n",
       "<g id=\"node6\" class=\"node\">\n",
       "<title>b5</title>\n",
       "<polygon fill=\"none\" stroke=\"black\" points=\"309,-6 309,-29 325,-29 325,-6 309,-6\"/>\n",
       "<text text-anchor=\"start\" x=\"315\" y=\"-15\" font-family=\"Times,serif\" font-size=\"10.00\">I</text>\n",
       "</g>\n",
       "<!-- b0&#45;&gt;b5 -->\n",
       "<g id=\"edge5\" class=\"edge\">\n",
       "<title>b0-&gt;b5</title>\n",
       "<path fill=\"none\" stroke=\"black\" d=\"M230.06,-86.8C246.46,-74.01 269.02,-56.42 287.05,-42.36\"/>\n",
       "<polygon fill=\"black\" stroke=\"black\" points=\"289.24,-45.08 294.98,-36.18 284.94,-39.56 289.24,-45.08\"/>\n",
       "<text text-anchor=\"middle\" x=\"272.5\" y=\"-57.8\" font-family=\"Times,serif\" font-size=\"14.00\">2</text>\n",
       "</g>\n",
       "<!-- b6 -->\n",
       "<g id=\"node7\" class=\"node\">\n",
       "<title>b6</title>\n",
       "<polygon fill=\"none\" stroke=\"black\" points=\"373,-6 373,-29 405,-29 405,-6 373,-6\"/>\n",
       "<text text-anchor=\"start\" x=\"379.5\" y=\"-15\" font-family=\"Times,serif\" font-size=\"10.00\">And</text>\n",
       "</g>\n",
       "<!-- b0&#45;&gt;b6 -->\n",
       "<g id=\"edge6\" class=\"edge\">\n",
       "<title>b0-&gt;b6</title>\n",
       "<path fill=\"none\" stroke=\"black\" d=\"M244.36,-86.98C271.75,-74.15 310.45,-56.01 352.79,-36.09\"/>\n",
       "<polygon fill=\"black\" stroke=\"black\" points=\"354.32,-39.24 361.88,-31.82 351.34,-32.91 354.32,-39.24\"/>\n",
       "<text text-anchor=\"middle\" x=\"316.5\" y=\"-57.8\" font-family=\"Times,serif\" font-size=\"14.00\">1</text>\n",
       "</g>\n",
       "</g>\n",
       "</svg>"
      ],
      "text/plain": [
       "<IPython.core.display.SVG object>"
      ]
     },
     "metadata": {},
     "output_type": "display_data"
    },
    {
     "data": {
      "text/markdown": [
       "#### Counts totals:\n",
       " - `And`: 1\n",
       " - `And`: 3\n",
       " - `And†`: 4\n",
       " - `CNOT`: 3\n",
       " - `CZ`: 2\n",
       " - `I`: 2"
      ],
      "text/plain": [
       "<IPython.core.display.Markdown object>"
      ]
     },
     "metadata": {},
     "output_type": "display_data"
    }
   ],
   "source": [
    "from qualtran.resource_counting.generalizers import ignore_split_join\n",
    "apply_z_to_odd_g, apply_z_to_odd_sigma = apply_z_to_odd.call_graph(max_depth=1, generalizer=ignore_split_join)\n",
    "show_call_graph(apply_z_to_odd_g)\n",
    "show_counts_sigma(apply_z_to_odd_sigma)"
   ]
  }
 ],
 "metadata": {
  "kernelspec": {
   "display_name": "Python 3",
   "language": "python",
   "name": "python3"
  },
  "language_info": {
   "codemirror_mode": {
    "name": "ipython",
    "version": 3
   },
   "file_extension": ".py",
   "mimetype": "text/x-python",
   "name": "python",
   "nbconvert_exporter": "python",
   "pygments_lexer": "ipython3",
   "version": "3.11.8"
  },
  "widgets": {
   "application/vnd.jupyter.widget-state+json": {
    "state": {
     "0c9d7b9088a1455fbcb8baecf0e99433": {
      "model_module": "@jupyter-widgets/controls",
      "model_module_version": "2.0.0",
      "model_name": "HBoxModel",
      "state": {
       "_dom_classes": [],
       "_model_module": "@jupyter-widgets/controls",
       "_model_module_version": "2.0.0",
       "_model_name": "HBoxModel",
       "_view_count": null,
       "_view_module": "@jupyter-widgets/controls",
       "_view_module_version": "2.0.0",
       "_view_name": "HBoxView",
       "box_style": "",
       "children": [
        "IPY_MODEL_4f7dd857979e4a29b5209b870bb78b3a"
       ],
       "layout": "IPY_MODEL_bdab206e4c00496cb6c9d60e87f695a5",
       "tabbable": null,
       "tooltip": null
      }
     },
     "4f7dd857979e4a29b5209b870bb78b3a": {
      "model_module": "@jupyter-widgets/output",
      "model_module_version": "1.0.0",
      "model_name": "OutputModel",
      "state": {
       "_dom_classes": [],
       "_model_module": "@jupyter-widgets/output",
       "_model_module_version": "1.0.0",
       "_model_name": "OutputModel",
       "_view_count": null,
       "_view_module": "@jupyter-widgets/output",
       "_view_module_version": "1.0.0",
       "_view_name": "OutputView",
       "layout": "IPY_MODEL_6d9a618872a1489eaf34baf6de8835aa",
       "msg_id": "",
       "outputs": [
        {
         "data": {
          "text/markdown": "`apply_z_to_odd`",
          "text/plain": "<IPython.core.display.Markdown object>"
         },
         "metadata": {},
         "output_type": "display_data"
        },
        {
         "data": {
          "image/svg+xml": "<svg xmlns=\"http://www.w3.org/2000/svg\" xmlns:xlink=\"http://www.w3.org/1999/xlink\" width=\"313pt\" height=\"152pt\" viewBox=\"0.00 0.00 313.00 152.00\">\n<g id=\"graph0\" class=\"graph\" transform=\"scale(1 1) rotate(0) translate(4 148)\">\n<title>my_graph</title>\n<polygon fill=\"white\" stroke=\"transparent\" points=\"-4,4 -4,-148 309,-148 309,4 -4,4\"/>\n<!-- control_G0 -->\n<g id=\"node1\" class=\"node\">\n<title>control_G0</title>\n<text text-anchor=\"middle\" x=\"32.5\" y=\"-122.3\" font-family=\"Times,serif\" font-size=\"14.00\">control</text>\n</g>\n<!-- ApplyGateToLthQubit -->\n<g id=\"node4\" class=\"node\">\n<title>ApplyGateToLthQubit</title>\n<polygon fill=\"none\" stroke=\"black\" points=\"102.5,-104 102.5,-121 203.5,-121 203.5,-104 102.5,-104\"/>\n<text text-anchor=\"start\" x=\"105.5\" y=\"-110\" font-family=\"Times,serif\" font-size=\"10.00\">ApplyGateToLthQubit</text>\n<polygon fill=\"none\" stroke=\"black\" points=\"102.5,-83 102.5,-104 203.5,-104 203.5,-83 102.5,-83\"/>\n<text text-anchor=\"start\" x=\"133.5\" y=\"-89.8\" font-family=\"Times,serif\" font-size=\"14.00\">control</text>\n<polygon fill=\"none\" stroke=\"black\" points=\"102.5,-62 102.5,-83 203.5,-83 203.5,-62 102.5,-62\"/>\n<text text-anchor=\"start\" x=\"128.5\" y=\"-68.8\" font-family=\"Times,serif\" font-size=\"14.00\">selection</text>\n<polygon fill=\"none\" stroke=\"black\" points=\"102.5,-41 102.5,-62 203.5,-62 203.5,-41 102.5,-41\"/>\n<text text-anchor=\"start\" x=\"137.5\" y=\"-47.8\" font-family=\"Times,serif\" font-size=\"14.00\">target</text>\n</g>\n<!-- control_G0&#45;&gt;ApplyGateToLthQubit -->\n<g id=\"edge1\" class=\"edge\">\n<title>control_G0:e-&gt;ApplyGateToLthQubit:w</title>\n<path fill=\"none\" stroke=\"black\" d=\"M61.5,-126C83.72,-126 79.37,-95.97 99.93,-94.09\"/>\n<ellipse fill=\"black\" stroke=\"black\" cx=\"101\" cy=\"-94.04\" rx=\"1\" ry=\"1\"/>\n<text text-anchor=\"middle\" x=\"83.5\" y=\"-110\" font-family=\"Times,serif\" font-size=\"10.00\">2</text>\n</g>\n<!-- selection_G5 -->\n<g id=\"node2\" class=\"node\">\n<title>selection_G5</title>\n<text text-anchor=\"middle\" x=\"32.5\" y=\"-68.3\" font-family=\"Times,serif\" font-size=\"14.00\">selection</text>\n</g>\n<!-- selection_G5&#45;&gt;ApplyGateToLthQubit -->\n<g id=\"edge2\" class=\"edge\">\n<title>selection_G5:e-&gt;ApplyGateToLthQubit:w</title>\n<path fill=\"none\" stroke=\"black\" d=\"M65,-72C80.67,-72 85.14,-72 99.77,-72\"/>\n<ellipse fill=\"black\" stroke=\"black\" cx=\"101\" cy=\"-72\" rx=\"1\" ry=\"1\"/>\n<text text-anchor=\"middle\" x=\"83.5\" y=\"-75\" font-family=\"Times,serif\" font-size=\"10.00\">3</text>\n</g>\n<!-- target_G2 -->\n<g id=\"node3\" class=\"node\">\n<title>target_G2</title>\n<text text-anchor=\"middle\" x=\"32.5\" y=\"-14.3\" font-family=\"Times,serif\" font-size=\"14.00\">target</text>\n</g>\n<!-- target_G2&#45;&gt;ApplyGateToLthQubit -->\n<g id=\"edge3\" class=\"edge\">\n<title>target_G2:e-&gt;ApplyGateToLthQubit:w</title>\n<path fill=\"none\" stroke=\"black\" d=\"M60.5,-18C83.33,-18 78.76,-48.97 99.87,-50.91\"/>\n<ellipse fill=\"black\" stroke=\"black\" cx=\"101\" cy=\"-50.96\" rx=\"1\" ry=\"1\"/>\n<text text-anchor=\"middle\" x=\"83.5\" y=\"-43\" font-family=\"Times,serif\" font-size=\"10.00\">4</text>\n</g>\n<!-- control_G1 -->\n<g id=\"node5\" class=\"node\">\n<title>control_G1</title>\n<text text-anchor=\"middle\" x=\"272.5\" y=\"-122.3\" font-family=\"Times,serif\" font-size=\"14.00\">control</text>\n</g>\n<!-- ApplyGateToLthQubit&#45;&gt;control_G1 -->\n<g id=\"edge4\" class=\"edge\">\n<title>ApplyGateToLthQubit:e-&gt;control_G1:w</title>\n<path fill=\"none\" stroke=\"black\" d=\"M203,-94C225.22,-94 220.87,-124.03 241.43,-125.91\"/>\n<ellipse fill=\"black\" stroke=\"black\" cx=\"242.5\" cy=\"-125.96\" rx=\"1\" ry=\"1\"/>\n<text text-anchor=\"middle\" x=\"221.5\" y=\"-110\" font-family=\"Times,serif\" font-size=\"10.00\">2</text>\n</g>\n<!-- selection_G6 -->\n<g id=\"node6\" class=\"node\">\n<title>selection_G6</title>\n<text text-anchor=\"middle\" x=\"272.5\" y=\"-68.3\" font-family=\"Times,serif\" font-size=\"14.00\">selection</text>\n</g>\n<!-- ApplyGateToLthQubit&#45;&gt;selection_G6 -->\n<g id=\"edge5\" class=\"edge\">\n<title>ApplyGateToLthQubit:e-&gt;selection_G6:w</title>\n<path fill=\"none\" stroke=\"black\" d=\"M203,-72C218.67,-72 223.14,-72 237.77,-72\"/>\n<ellipse fill=\"black\" stroke=\"black\" cx=\"239\" cy=\"-72\" rx=\"1\" ry=\"1\"/>\n<text text-anchor=\"middle\" x=\"221.5\" y=\"-75\" font-family=\"Times,serif\" font-size=\"10.00\">3</text>\n</g>\n<!-- target_G3 -->\n<g id=\"node7\" class=\"node\">\n<title>target_G3</title>\n<text text-anchor=\"middle\" x=\"272.5\" y=\"-14.3\" font-family=\"Times,serif\" font-size=\"14.00\">target</text>\n</g>\n<!-- ApplyGateToLthQubit&#45;&gt;target_G3 -->\n<g id=\"edge6\" class=\"edge\">\n<title>ApplyGateToLthQubit:e-&gt;target_G3:w</title>\n<path fill=\"none\" stroke=\"black\" d=\"M203,-51C225.83,-51 221.26,-20.03 242.37,-18.09\"/>\n<ellipse fill=\"black\" stroke=\"black\" cx=\"243.5\" cy=\"-18.04\" rx=\"1\" ry=\"1\"/>\n<text text-anchor=\"middle\" x=\"221.5\" y=\"-43\" font-family=\"Times,serif\" font-size=\"10.00\">4</text>\n</g>\n</g>\n</svg>",
          "text/plain": "<IPython.core.display.SVG object>"
         },
         "metadata": {},
         "output_type": "display_data"
        }
       ],
       "tabbable": null,
       "tooltip": null
      }
     },
     "5fef8a79619d4465b841d1ef860bcfef": {
      "model_module": "@jupyter-widgets/output",
      "model_module_version": "1.0.0",
      "model_name": "OutputModel",
      "state": {
       "_dom_classes": [],
       "_model_module": "@jupyter-widgets/output",
       "_model_module_version": "1.0.0",
       "_model_name": "OutputModel",
       "_view_count": null,
       "_view_module": "@jupyter-widgets/output",
       "_view_module_version": "1.0.0",
       "_view_name": "OutputView",
       "layout": "IPY_MODEL_f1c25106f2ce4ecea1f58e5cddeb1551",
       "msg_id": "",
       "outputs": [
        {
         "data": {
          "image/svg+xml": "<svg xmlns=\"http://www.w3.org/2000/svg\" width=\"248.55859375\" height=\"450.0\"><line x1=\"52.077578125\" x2=\"218.55859375\" y1=\"25.0\" y2=\"25.0\" stroke=\"#1967d2\" stroke-width=\"1\"/><line x1=\"52.077578125\" x2=\"218.55859375\" y1=\"75.0\" y2=\"75.0\" stroke=\"#1967d2\" stroke-width=\"1\"/><line x1=\"52.077578125\" x2=\"218.55859375\" y1=\"125.0\" y2=\"125.0\" stroke=\"#1967d2\" stroke-width=\"1\"/><line x1=\"52.077578125\" x2=\"218.55859375\" y1=\"175.0\" y2=\"175.0\" stroke=\"#1967d2\" stroke-width=\"1\"/><line x1=\"52.077578125\" x2=\"218.55859375\" y1=\"225.0\" y2=\"225.0\" stroke=\"#1967d2\" stroke-width=\"1\"/><line x1=\"52.077578125\" x2=\"218.55859375\" y1=\"275.0\" y2=\"275.0\" stroke=\"#1967d2\" stroke-width=\"1\"/><line x1=\"52.077578125\" x2=\"218.55859375\" y1=\"325.0\" y2=\"325.0\" stroke=\"#1967d2\" stroke-width=\"1\"/><line x1=\"52.077578125\" x2=\"218.55859375\" y1=\"375.0\" y2=\"375.0\" stroke=\"#1967d2\" stroke-width=\"1\"/><line x1=\"52.077578125\" x2=\"218.55859375\" y1=\"425.0\" y2=\"425.0\" stroke=\"#1967d2\" stroke-width=\"1\"/><line x1=\"156.356875\" x2=\"156.356875\" y1=\"25.0\" y2=\"425.0\" stroke=\"black\" stroke-width=\"3\"/><rect x=\"10.0\" y=\"5.0\" width=\"84.15515625\" height=\"40\" stroke=\"black\" fill=\"white\" stroke-width=\"0\"/><text x=\"52.077578125\" y=\"25.0\" dominant-baseline=\"middle\" text-anchor=\"middle\" font-size=\"14px\" font-family=\"sans\\-serif:style=normal:variant=normal:weight=normal:stretch=normal:size=10.0\">control0: </text><rect x=\"10.0\" y=\"55.0\" width=\"84.15515625\" height=\"40\" stroke=\"black\" fill=\"white\" stroke-width=\"0\"/><text x=\"52.077578125\" y=\"75.0\" dominant-baseline=\"middle\" text-anchor=\"middle\" font-size=\"14px\" font-family=\"sans\\-serif:style=normal:variant=normal:weight=normal:stretch=normal:size=10.0\">control1: </text><rect x=\"10.0\" y=\"105.0\" width=\"84.15515625\" height=\"40\" stroke=\"black\" fill=\"white\" stroke-width=\"0\"/><text x=\"52.077578125\" y=\"125.0\" dominant-baseline=\"middle\" text-anchor=\"middle\" font-size=\"14px\" font-family=\"sans\\-serif:style=normal:variant=normal:weight=normal:stretch=normal:size=10.0\">selection0: </text><rect x=\"10.0\" y=\"155.0\" width=\"84.15515625\" height=\"40\" stroke=\"black\" fill=\"white\" stroke-width=\"0\"/><text x=\"52.077578125\" y=\"175.0\" dominant-baseline=\"middle\" text-anchor=\"middle\" font-size=\"14px\" font-family=\"sans\\-serif:style=normal:variant=normal:weight=normal:stretch=normal:size=10.0\">selection1: </text><rect x=\"10.0\" y=\"205.0\" width=\"84.15515625\" height=\"40\" stroke=\"black\" fill=\"white\" stroke-width=\"0\"/><text x=\"52.077578125\" y=\"225.0\" dominant-baseline=\"middle\" text-anchor=\"middle\" font-size=\"14px\" font-family=\"sans\\-serif:style=normal:variant=normal:weight=normal:stretch=normal:size=10.0\">selection2: </text><rect x=\"10.0\" y=\"255.0\" width=\"84.15515625\" height=\"40\" stroke=\"black\" fill=\"white\" stroke-width=\"0\"/><text x=\"52.077578125\" y=\"275.0\" dominant-baseline=\"middle\" text-anchor=\"middle\" font-size=\"14px\" font-family=\"sans\\-serif:style=normal:variant=normal:weight=normal:stretch=normal:size=10.0\">target0: </text><rect x=\"10.0\" y=\"305.0\" width=\"84.15515625\" height=\"40\" stroke=\"black\" fill=\"white\" stroke-width=\"0\"/><text x=\"52.077578125\" y=\"325.0\" dominant-baseline=\"middle\" text-anchor=\"middle\" font-size=\"14px\" font-family=\"sans\\-serif:style=normal:variant=normal:weight=normal:stretch=normal:size=10.0\">target1: </text><rect x=\"10.0\" y=\"355.0\" width=\"84.15515625\" height=\"40\" stroke=\"black\" fill=\"white\" stroke-width=\"0\"/><text x=\"52.077578125\" y=\"375.0\" dominant-baseline=\"middle\" text-anchor=\"middle\" font-size=\"14px\" font-family=\"sans\\-serif:style=normal:variant=normal:weight=normal:stretch=normal:size=10.0\">target2: </text><rect x=\"10.0\" y=\"405.0\" width=\"84.15515625\" height=\"40\" stroke=\"black\" fill=\"white\" stroke-width=\"0\"/><text x=\"52.077578125\" y=\"425.0\" dominant-baseline=\"middle\" text-anchor=\"middle\" font-size=\"14px\" font-family=\"sans\\-serif:style=normal:variant=normal:weight=normal:stretch=normal:size=10.0\">target3: </text><rect x=\"114.15515625\" y=\"5.0\" width=\"84.40343750000001\" height=\"40\" stroke=\"black\" fill=\"white\" stroke-width=\"1\"/><text x=\"156.356875\" y=\"25.0\" dominant-baseline=\"middle\" text-anchor=\"middle\" font-size=\"14px\" font-family=\"sans\\-serif:style=normal:variant=normal:weight=normal:stretch=normal:size=10.0\">@[t:16,r:0]</text><circle cx=\"156.356875\" cy=\"75.0\" r=\"10.0\"/><rect x=\"114.15515625\" y=\"105.0\" width=\"84.40343750000001\" height=\"40\" stroke=\"black\" fill=\"white\" stroke-width=\"1\"/><text x=\"156.356875\" y=\"125.0\" dominant-baseline=\"middle\" text-anchor=\"middle\" font-size=\"14px\" font-family=\"sans\\-serif:style=normal:variant=normal:weight=normal:stretch=normal:size=10.0\">In</text><rect x=\"114.15515625\" y=\"155.0\" width=\"84.40343750000001\" height=\"40\" stroke=\"black\" fill=\"white\" stroke-width=\"1\"/><text x=\"156.356875\" y=\"175.0\" dominant-baseline=\"middle\" text-anchor=\"middle\" font-size=\"14px\" font-family=\"sans\\-serif:style=normal:variant=normal:weight=normal:stretch=normal:size=10.0\">In</text><rect x=\"114.15515625\" y=\"205.0\" width=\"84.40343750000001\" height=\"40\" stroke=\"black\" fill=\"white\" stroke-width=\"1\"/><text x=\"156.356875\" y=\"225.0\" dominant-baseline=\"middle\" text-anchor=\"middle\" font-size=\"14px\" font-family=\"sans\\-serif:style=normal:variant=normal:weight=normal:stretch=normal:size=10.0\">In</text><rect x=\"114.15515625\" y=\"255.0\" width=\"84.40343750000001\" height=\"40\" stroke=\"black\" fill=\"white\" stroke-width=\"1\"/><text x=\"156.356875\" y=\"275.0\" dominant-baseline=\"middle\" text-anchor=\"middle\" font-size=\"18px\" font-family=\"sans\\-serif:style=normal:variant=normal:weight=normal:stretch=normal:size=10.0\">I</text><rect x=\"114.15515625\" y=\"305.0\" width=\"84.40343750000001\" height=\"40\" stroke=\"black\" fill=\"white\" stroke-width=\"1\"/><text x=\"156.356875\" y=\"325.0\" dominant-baseline=\"middle\" text-anchor=\"middle\" font-size=\"18px\" font-family=\"sans\\-serif:style=normal:variant=normal:weight=normal:stretch=normal:size=10.0\">Z</text><rect x=\"114.15515625\" y=\"355.0\" width=\"84.40343750000001\" height=\"40\" stroke=\"black\" fill=\"white\" stroke-width=\"1\"/><text x=\"156.356875\" y=\"375.0\" dominant-baseline=\"middle\" text-anchor=\"middle\" font-size=\"18px\" font-family=\"sans\\-serif:style=normal:variant=normal:weight=normal:stretch=normal:size=10.0\">I</text><rect x=\"114.15515625\" y=\"405.0\" width=\"84.40343750000001\" height=\"40\" stroke=\"black\" fill=\"white\" stroke-width=\"1\"/><text x=\"156.356875\" y=\"425.0\" dominant-baseline=\"middle\" text-anchor=\"middle\" font-size=\"18px\" font-family=\"sans\\-serif:style=normal:variant=normal:weight=normal:stretch=normal:size=10.0\">Z</text></svg>",
          "text/plain": "<IPython.core.display.SVG object>"
         },
         "metadata": {},
         "output_type": "display_data"
        }
       ],
       "tabbable": null,
       "tooltip": null
      }
     },
     "6d9a618872a1489eaf34baf6de8835aa": {
      "model_module": "@jupyter-widgets/base",
      "model_module_version": "2.0.0",
      "model_name": "LayoutModel",
      "state": {
       "_model_module": "@jupyter-widgets/base",
       "_model_module_version": "2.0.0",
       "_model_name": "LayoutModel",
       "_view_count": null,
       "_view_module": "@jupyter-widgets/base",
       "_view_module_version": "2.0.0",
       "_view_name": "LayoutView",
       "align_content": null,
       "align_items": null,
       "align_self": null,
       "border_bottom": null,
       "border_left": null,
       "border_right": null,
       "border_top": null,
       "bottom": null,
       "display": null,
       "flex": null,
       "flex_flow": null,
       "grid_area": null,
       "grid_auto_columns": null,
       "grid_auto_flow": null,
       "grid_auto_rows": null,
       "grid_column": null,
       "grid_gap": null,
       "grid_row": null,
       "grid_template_areas": null,
       "grid_template_columns": null,
       "grid_template_rows": null,
       "height": null,
       "justify_content": null,
       "justify_items": null,
       "left": null,
       "margin": null,
       "max_height": null,
       "max_width": null,
       "min_height": null,
       "min_width": null,
       "object_fit": null,
       "object_position": null,
       "order": null,
       "overflow": null,
       "padding": null,
       "right": null,
       "top": null,
       "visibility": null,
       "width": null
      }
     },
     "bdab206e4c00496cb6c9d60e87f695a5": {
      "model_module": "@jupyter-widgets/base",
      "model_module_version": "2.0.0",
      "model_name": "LayoutModel",
      "state": {
       "_model_module": "@jupyter-widgets/base",
       "_model_module_version": "2.0.0",
       "_model_name": "LayoutModel",
       "_view_count": null,
       "_view_module": "@jupyter-widgets/base",
       "_view_module_version": "2.0.0",
       "_view_name": "LayoutView",
       "align_content": null,
       "align_items": null,
       "align_self": null,
       "border_bottom": null,
       "border_left": null,
       "border_right": null,
       "border_top": null,
       "bottom": null,
       "display": null,
       "flex": null,
       "flex_flow": null,
       "grid_area": null,
       "grid_auto_columns": null,
       "grid_auto_flow": null,
       "grid_auto_rows": null,
       "grid_column": null,
       "grid_gap": null,
       "grid_row": null,
       "grid_template_areas": null,
       "grid_template_columns": null,
       "grid_template_rows": null,
       "height": null,
       "justify_content": null,
       "justify_items": null,
       "left": null,
       "margin": null,
       "max_height": null,
       "max_width": null,
       "min_height": null,
       "min_width": null,
       "object_fit": null,
       "object_position": null,
       "order": null,
       "overflow": null,
       "padding": null,
       "right": null,
       "top": null,
       "visibility": null,
       "width": null
      }
     },
     "d5e6b72ee11449c6b7a9e5ff38cb64b1": {
      "model_module": "@jupyter-widgets/base",
      "model_module_version": "2.0.0",
      "model_name": "LayoutModel",
      "state": {
       "_model_module": "@jupyter-widgets/base",
       "_model_module_version": "2.0.0",
       "_model_name": "LayoutModel",
       "_view_count": null,
       "_view_module": "@jupyter-widgets/base",
       "_view_module_version": "2.0.0",
       "_view_name": "LayoutView",
       "align_content": null,
       "align_items": null,
       "align_self": null,
       "border_bottom": null,
       "border_left": null,
       "border_right": null,
       "border_top": null,
       "bottom": null,
       "display": null,
       "flex": null,
       "flex_flow": null,
       "grid_area": null,
       "grid_auto_columns": null,
       "grid_auto_flow": null,
       "grid_auto_rows": null,
       "grid_column": null,
       "grid_gap": null,
       "grid_row": null,
       "grid_template_areas": null,
       "grid_template_columns": null,
       "grid_template_rows": null,
       "height": null,
       "justify_content": null,
       "justify_items": null,
       "left": null,
       "margin": null,
       "max_height": null,
       "max_width": null,
       "min_height": null,
       "min_width": null,
       "object_fit": null,
       "object_position": null,
       "order": null,
       "overflow": null,
       "padding": null,
       "right": null,
       "top": null,
       "visibility": null,
       "width": null
      }
     },
     "e1994ff94f814924b10225b2e002ab9d": {
      "model_module": "@jupyter-widgets/base",
      "model_module_version": "2.0.0",
      "model_name": "LayoutModel",
      "state": {
       "_model_module": "@jupyter-widgets/base",
       "_model_module_version": "2.0.0",
       "_model_name": "LayoutModel",
       "_view_count": null,
       "_view_module": "@jupyter-widgets/base",
       "_view_module_version": "2.0.0",
       "_view_name": "LayoutView",
       "align_content": null,
       "align_items": null,
       "align_self": null,
       "border_bottom": null,
       "border_left": null,
       "border_right": null,
       "border_top": null,
       "bottom": null,
       "display": null,
       "flex": null,
       "flex_flow": null,
       "grid_area": null,
       "grid_auto_columns": null,
       "grid_auto_flow": null,
       "grid_auto_rows": null,
       "grid_column": null,
       "grid_gap": null,
       "grid_row": null,
       "grid_template_areas": null,
       "grid_template_columns": null,
       "grid_template_rows": null,
       "height": null,
       "justify_content": null,
       "justify_items": null,
       "left": null,
       "margin": null,
       "max_height": null,
       "max_width": null,
       "min_height": null,
       "min_width": null,
       "object_fit": null,
       "object_position": null,
       "order": null,
       "overflow": null,
       "padding": null,
       "right": null,
       "top": null,
       "visibility": null,
       "width": null
      }
     },
     "eb308e0807b14e6b8cbce88b18b5b28c": {
      "model_module": "@jupyter-widgets/controls",
      "model_module_version": "2.0.0",
      "model_name": "HBoxModel",
      "state": {
       "_dom_classes": [],
       "_model_module": "@jupyter-widgets/controls",
       "_model_module_version": "2.0.0",
       "_model_name": "HBoxModel",
       "_view_count": null,
       "_view_module": "@jupyter-widgets/controls",
       "_view_module_version": "2.0.0",
       "_view_name": "HBoxView",
       "box_style": "",
       "children": [
        "IPY_MODEL_5fef8a79619d4465b841d1ef860bcfef",
        "IPY_MODEL_ed5f043b0158415a96b4a22c12d8f6ec"
       ],
       "layout": "IPY_MODEL_d5e6b72ee11449c6b7a9e5ff38cb64b1",
       "tabbable": null,
       "tooltip": null
      }
     },
     "ed5f043b0158415a96b4a22c12d8f6ec": {
      "model_module": "@jupyter-widgets/output",
      "model_module_version": "1.0.0",
      "model_name": "OutputModel",
      "state": {
       "_dom_classes": [],
       "_model_module": "@jupyter-widgets/output",
       "_model_module_version": "1.0.0",
       "_model_name": "OutputModel",
       "_view_count": null,
       "_view_module": "@jupyter-widgets/output",
       "_view_module_version": "1.0.0",
       "_view_name": "OutputView",
       "layout": "IPY_MODEL_e1994ff94f814924b10225b2e002ab9d",
       "msg_id": "",
       "outputs": [
        {
         "data": {
          "image/svg+xml": "<svg xmlns=\"http://www.w3.org/2000/svg\" width=\"1707.9585156250007\" height=\"600.0\"><line x1=\"117.75767578125\" x2=\"1677.9585156250007\" y1=\"25.0\" y2=\"25.0\" stroke=\"#1967d2\" stroke-width=\"1\"/><line x1=\"117.75767578125\" x2=\"1677.9585156250007\" y1=\"75.0\" y2=\"75.0\" stroke=\"#1967d2\" stroke-width=\"1\"/><line x1=\"117.75767578125\" x2=\"1677.9585156250007\" y1=\"125.0\" y2=\"125.0\" stroke=\"#1967d2\" stroke-width=\"1\"/><line x1=\"117.75767578125\" x2=\"1677.9585156250007\" y1=\"175.0\" y2=\"175.0\" stroke=\"#1967d2\" stroke-width=\"1\"/><line x1=\"117.75767578125\" x2=\"1677.9585156250007\" y1=\"225.0\" y2=\"225.0\" stroke=\"#1967d2\" stroke-width=\"1\"/><line x1=\"117.75767578125\" x2=\"1677.9585156250007\" y1=\"275.0\" y2=\"275.0\" stroke=\"#1967d2\" stroke-width=\"1\"/><line x1=\"117.75767578125\" x2=\"1677.9585156250007\" y1=\"325.0\" y2=\"325.0\" stroke=\"#1967d2\" stroke-width=\"1\"/><line x1=\"117.75767578125\" x2=\"1677.9585156250007\" y1=\"375.0\" y2=\"375.0\" stroke=\"#1967d2\" stroke-width=\"1\"/><line x1=\"117.75767578125\" x2=\"1677.9585156250007\" y1=\"425.0\" y2=\"425.0\" stroke=\"#1967d2\" stroke-width=\"1\"/><line x1=\"117.75767578125\" x2=\"1677.9585156250007\" y1=\"475.0\" y2=\"475.0\" stroke=\"#1967d2\" stroke-width=\"1\"/><line x1=\"117.75767578125\" x2=\"1677.9585156250007\" y1=\"525.0\" y2=\"525.0\" stroke=\"#1967d2\" stroke-width=\"1\"/><line x1=\"117.75767578125\" x2=\"1677.9585156250007\" y1=\"575.0\" y2=\"575.0\" stroke=\"#1967d2\" stroke-width=\"1\"/><line x1=\"283.26345703125\" x2=\"283.26345703125\" y1=\"25.0\" y2=\"475.0\" stroke=\"black\" stroke-width=\"3\"/><line x1=\"378.75966796875\" x2=\"378.75966796875\" y1=\"175.0\" y2=\"525.0\" stroke=\"black\" stroke-width=\"3\"/><line x1=\"474.25587890625\" x2=\"474.25587890625\" y1=\"225.0\" y2=\"575.0\" stroke=\"black\" stroke-width=\"3\"/><line x1=\"569.7520898437501\" x2=\"569.7520898437501\" y1=\"275.0\" y2=\"575.0\" stroke=\"black\" stroke-width=\"3\"/><line x1=\"665.2483007812501\" x2=\"665.2483007812501\" y1=\"525.0\" y2=\"575.0\" stroke=\"black\" stroke-width=\"3\"/><line x1=\"760.7445117187501\" x2=\"760.7445117187501\" y1=\"325.0\" y2=\"575.0\" stroke=\"black\" stroke-width=\"3\"/><line x1=\"856.2407226562501\" x2=\"856.2407226562501\" y1=\"225.0\" y2=\"575.0\" stroke=\"black\" stroke-width=\"3\"/><line x1=\"951.7369335937501\" x2=\"951.7369335937501\" y1=\"475.0\" y2=\"525.0\" stroke=\"black\" stroke-width=\"3\"/><line x1=\"1047.23314453125\" x2=\"1047.23314453125\" y1=\"225.0\" y2=\"575.0\" stroke=\"black\" stroke-width=\"3\"/><line x1=\"1142.72935546875\" x2=\"1142.72935546875\" y1=\"375.0\" y2=\"575.0\" stroke=\"black\" stroke-width=\"3\"/><line x1=\"1238.2255664062502\" x2=\"1238.2255664062502\" y1=\"525.0\" y2=\"575.0\" stroke=\"black\" stroke-width=\"3\"/><line x1=\"1333.7217773437503\" x2=\"1333.7217773437503\" y1=\"425.0\" y2=\"575.0\" stroke=\"black\" stroke-width=\"3\"/><line x1=\"1429.2179882812504\" x2=\"1429.2179882812504\" y1=\"225.0\" y2=\"575.0\" stroke=\"black\" stroke-width=\"3\"/><line x1=\"1524.7141992187505\" x2=\"1524.7141992187505\" y1=\"175.0\" y2=\"525.0\" stroke=\"black\" stroke-width=\"3\"/><line x1=\"1620.2104101562506\" x2=\"1620.2104101562506\" y1=\"25.0\" y2=\"475.0\" stroke=\"black\" stroke-width=\"3\"/><rect x=\"10.0\" y=\"5.0\" width=\"215.5153515625\" height=\"40\" stroke=\"black\" fill=\"white\" stroke-width=\"0\"/><text x=\"117.75767578125\" y=\"25.0\" dominant-baseline=\"middle\" text-anchor=\"middle\" font-size=\"14px\" font-family=\"sans\\-serif:style=normal:variant=normal:weight=normal:stretch=normal:size=10.0\">control0: </text><rect x=\"10.0\" y=\"55.0\" width=\"215.5153515625\" height=\"40\" stroke=\"black\" fill=\"white\" stroke-width=\"0\"/><text x=\"117.75767578125\" y=\"75.0\" dominant-baseline=\"middle\" text-anchor=\"middle\" font-size=\"14px\" font-family=\"sans\\-serif:style=normal:variant=normal:weight=normal:stretch=normal:size=10.0\">control1: </text><rect x=\"10.0\" y=\"105.0\" width=\"215.5153515625\" height=\"40\" stroke=\"black\" fill=\"white\" stroke-width=\"0\"/><text x=\"117.75767578125\" y=\"125.0\" dominant-baseline=\"middle\" text-anchor=\"middle\" font-size=\"14px\" font-family=\"sans\\-serif:style=normal:variant=normal:weight=normal:stretch=normal:size=10.0\">selection0: </text><rect x=\"10.0\" y=\"155.0\" width=\"215.5153515625\" height=\"40\" stroke=\"black\" fill=\"white\" stroke-width=\"0\"/><text x=\"117.75767578125\" y=\"175.0\" dominant-baseline=\"middle\" text-anchor=\"middle\" font-size=\"14px\" font-family=\"sans\\-serif:style=normal:variant=normal:weight=normal:stretch=normal:size=10.0\">selection1: </text><rect x=\"10.0\" y=\"205.0\" width=\"215.5153515625\" height=\"40\" stroke=\"black\" fill=\"white\" stroke-width=\"0\"/><text x=\"117.75767578125\" y=\"225.0\" dominant-baseline=\"middle\" text-anchor=\"middle\" font-size=\"14px\" font-family=\"sans\\-serif:style=normal:variant=normal:weight=normal:stretch=normal:size=10.0\">selection2: </text><rect x=\"10.0\" y=\"255.0\" width=\"215.5153515625\" height=\"40\" stroke=\"black\" fill=\"white\" stroke-width=\"0\"/><text x=\"117.75767578125\" y=\"275.0\" dominant-baseline=\"middle\" text-anchor=\"middle\" font-size=\"14px\" font-family=\"sans\\-serif:style=normal:variant=normal:weight=normal:stretch=normal:size=10.0\">target0: </text><rect x=\"10.0\" y=\"305.0\" width=\"215.5153515625\" height=\"40\" stroke=\"black\" fill=\"white\" stroke-width=\"0\"/><text x=\"117.75767578125\" y=\"325.0\" dominant-baseline=\"middle\" text-anchor=\"middle\" font-size=\"14px\" font-family=\"sans\\-serif:style=normal:variant=normal:weight=normal:stretch=normal:size=10.0\">target1: </text><rect x=\"10.0\" y=\"355.0\" width=\"215.5153515625\" height=\"40\" stroke=\"black\" fill=\"white\" stroke-width=\"0\"/><text x=\"117.75767578125\" y=\"375.0\" dominant-baseline=\"middle\" text-anchor=\"middle\" font-size=\"14px\" font-family=\"sans\\-serif:style=normal:variant=normal:weight=normal:stretch=normal:size=10.0\">target2: </text><rect x=\"10.0\" y=\"405.0\" width=\"215.5153515625\" height=\"40\" stroke=\"black\" fill=\"white\" stroke-width=\"0\"/><text x=\"117.75767578125\" y=\"425.0\" dominant-baseline=\"middle\" text-anchor=\"middle\" font-size=\"14px\" font-family=\"sans\\-serif:style=normal:variant=normal:weight=normal:stretch=normal:size=10.0\">target3: </text><rect x=\"10.0\" y=\"455.0\" width=\"215.5153515625\" height=\"40\" stroke=\"black\" fill=\"white\" stroke-width=\"0\"/><text x=\"117.75767578125\" y=\"475.0\" dominant-baseline=\"middle\" text-anchor=\"middle\" font-size=\"14px\" font-family=\"sans\\-serif:style=normal:variant=normal:weight=normal:stretch=normal:size=10.0\">_decompose_protocol_0_c(0): </text><rect x=\"10.0\" y=\"505.0\" width=\"215.5153515625\" height=\"40\" stroke=\"black\" fill=\"white\" stroke-width=\"0\"/><text x=\"117.75767578125\" y=\"525.0\" dominant-baseline=\"middle\" text-anchor=\"middle\" font-size=\"14px\" font-family=\"sans\\-serif:style=normal:variant=normal:weight=normal:stretch=normal:size=10.0\">_decompose_protocol_0_c(2): </text><rect x=\"10.0\" y=\"555.0\" width=\"215.5153515625\" height=\"40\" stroke=\"black\" fill=\"white\" stroke-width=\"0\"/><text x=\"117.75767578125\" y=\"575.0\" dominant-baseline=\"middle\" text-anchor=\"middle\" font-size=\"14px\" font-family=\"sans\\-serif:style=normal:variant=normal:weight=normal:stretch=normal:size=10.0\">_decompose_protocol_0_c(3): </text><rect x=\"245.51535156250003\" y=\"5.0\" width=\"75.49621093750001\" height=\"40\" stroke=\"black\" fill=\"white\" stroke-width=\"1\"/><text x=\"283.26345703125\" y=\"25.0\" dominant-baseline=\"middle\" text-anchor=\"middle\" font-size=\"14px\" font-family=\"sans\\-serif:style=normal:variant=normal:weight=normal:stretch=normal:size=10.0\">@[t:4,r:0]</text><circle cx=\"283.26345703125\" cy=\"75.0\" r=\"10.0\"/><rect x=\"245.51535156250003\" y=\"455.0\" width=\"75.49621093750001\" height=\"40\" stroke=\"black\" fill=\"white\" stroke-width=\"1\"/><text x=\"283.26345703125\" y=\"475.0\" dominant-baseline=\"middle\" text-anchor=\"middle\" font-size=\"14px\" font-family=\"sans\\-serif:style=normal:variant=normal:weight=normal:stretch=normal:size=10.0\">And</text><rect x=\"341.0115625\" y=\"455.0\" width=\"75.49621093750001\" height=\"40\" stroke=\"black\" fill=\"white\" stroke-width=\"1\"/><text x=\"378.75966796875\" y=\"475.0\" dominant-baseline=\"middle\" text-anchor=\"middle\" font-size=\"14px\" font-family=\"sans\\-serif:style=normal:variant=normal:weight=normal:stretch=normal:size=10.0\">@[t:4,r:0]</text><rect x=\"341.0115625\" y=\"155.0\" width=\"75.49621093750001\" height=\"40\" stroke=\"black\" fill=\"white\" stroke-width=\"1\"/><text x=\"378.75966796875\" y=\"175.0\" dominant-baseline=\"middle\" text-anchor=\"middle\" font-size=\"14px\" font-family=\"sans\\-serif:style=normal:variant=normal:weight=normal:stretch=normal:size=10.0\">(0)</text><rect x=\"341.0115625\" y=\"505.0\" width=\"75.49621093750001\" height=\"40\" stroke=\"black\" fill=\"white\" stroke-width=\"1\"/><text x=\"378.75966796875\" y=\"525.0\" dominant-baseline=\"middle\" text-anchor=\"middle\" font-size=\"14px\" font-family=\"sans\\-serif:style=normal:variant=normal:weight=normal:stretch=normal:size=10.0\">And</text><rect x=\"436.5077734375\" y=\"505.0\" width=\"75.49621093750001\" height=\"40\" stroke=\"black\" fill=\"white\" stroke-width=\"1\"/><text x=\"474.25587890625\" y=\"525.0\" dominant-baseline=\"middle\" text-anchor=\"middle\" font-size=\"14px\" font-family=\"sans\\-serif:style=normal:variant=normal:weight=normal:stretch=normal:size=10.0\">@[t:4,r:0]</text><rect x=\"436.5077734375\" y=\"205.0\" width=\"75.49621093750001\" height=\"40\" stroke=\"black\" fill=\"white\" stroke-width=\"1\"/><text x=\"474.25587890625\" y=\"225.0\" dominant-baseline=\"middle\" text-anchor=\"middle\" font-size=\"14px\" font-family=\"sans\\-serif:style=normal:variant=normal:weight=normal:stretch=normal:size=10.0\">(0)</text><rect x=\"436.5077734375\" y=\"555.0\" width=\"75.49621093750001\" height=\"40\" stroke=\"black\" fill=\"white\" stroke-width=\"1\"/><text x=\"474.25587890625\" y=\"575.0\" dominant-baseline=\"middle\" text-anchor=\"middle\" font-size=\"14px\" font-family=\"sans\\-serif:style=normal:variant=normal:weight=normal:stretch=normal:size=10.0\">And</text><rect x=\"532.0039843750001\" y=\"555.0\" width=\"75.49621093750001\" height=\"40\" stroke=\"black\" fill=\"white\" stroke-width=\"1\"/><text x=\"569.7520898437501\" y=\"575.0\" dominant-baseline=\"middle\" text-anchor=\"middle\" font-size=\"14px\" font-family=\"sans\\-serif:style=normal:variant=normal:weight=normal:stretch=normal:size=10.0\">@[t:0,r:0]</text><rect x=\"532.0039843750001\" y=\"255.0\" width=\"75.49621093750001\" height=\"40\" stroke=\"black\" fill=\"white\" stroke-width=\"1\"/><text x=\"569.7520898437501\" y=\"275.0\" dominant-baseline=\"middle\" text-anchor=\"middle\" font-size=\"18px\" font-family=\"sans\\-serif:style=normal:variant=normal:weight=normal:stretch=normal:size=10.0\">I</text><rect x=\"627.5001953125001\" y=\"505.0\" width=\"75.49621093750001\" height=\"40\" stroke=\"black\" fill=\"white\" stroke-width=\"1\"/><text x=\"665.2483007812501\" y=\"525.0\" dominant-baseline=\"middle\" text-anchor=\"middle\" font-size=\"14px\" font-family=\"sans\\-serif:style=normal:variant=normal:weight=normal:stretch=normal:size=10.0\">@[t:0,r:0]</text><rect x=\"627.5001953125001\" y=\"555.0\" width=\"75.49621093750001\" height=\"40\" stroke=\"black\" fill=\"white\" stroke-width=\"1\"/><text x=\"665.2483007812501\" y=\"575.0\" dominant-baseline=\"middle\" text-anchor=\"middle\" font-size=\"18px\" font-family=\"sans\\-serif:style=normal:variant=normal:weight=normal:stretch=normal:size=10.0\">X</text><rect x=\"722.9964062500001\" y=\"555.0\" width=\"75.49621093750001\" height=\"40\" stroke=\"black\" fill=\"white\" stroke-width=\"1\"/><text x=\"760.7445117187501\" y=\"575.0\" dominant-baseline=\"middle\" text-anchor=\"middle\" font-size=\"14px\" font-family=\"sans\\-serif:style=normal:variant=normal:weight=normal:stretch=normal:size=10.0\">@[t:0,r:0]</text><circle cx=\"760.7445117187501\" cy=\"325.0\" r=\"10.0\"/><rect x=\"818.4926171875001\" y=\"505.0\" width=\"75.49621093750001\" height=\"40\" stroke=\"black\" fill=\"white\" stroke-width=\"1\"/><text x=\"856.2407226562501\" y=\"525.0\" dominant-baseline=\"middle\" text-anchor=\"middle\" font-size=\"14px\" font-family=\"sans\\-serif:style=normal:variant=normal:weight=normal:stretch=normal:size=10.0\">@[t:0,r:0]</text><circle cx=\"856.2407226562501\" cy=\"225.0\" r=\"10.0\"/><rect x=\"818.4926171875001\" y=\"555.0\" width=\"75.49621093750001\" height=\"40\" stroke=\"black\" fill=\"white\" stroke-width=\"1\"/><text x=\"856.2407226562501\" y=\"575.0\" dominant-baseline=\"middle\" text-anchor=\"middle\" font-size=\"14px\" font-family=\"sans\\-serif:style=normal:variant=normal:weight=normal:stretch=normal:size=10.0\">And†</text><rect x=\"913.988828125\" y=\"455.0\" width=\"75.49621093750001\" height=\"40\" stroke=\"black\" fill=\"white\" stroke-width=\"1\"/><text x=\"951.7369335937501\" y=\"475.0\" dominant-baseline=\"middle\" text-anchor=\"middle\" font-size=\"14px\" font-family=\"sans\\-serif:style=normal:variant=normal:weight=normal:stretch=normal:size=10.0\">@[t:0,r:0]</text><rect x=\"913.988828125\" y=\"505.0\" width=\"75.49621093750001\" height=\"40\" stroke=\"black\" fill=\"white\" stroke-width=\"1\"/><text x=\"951.7369335937501\" y=\"525.0\" dominant-baseline=\"middle\" text-anchor=\"middle\" font-size=\"18px\" font-family=\"sans\\-serif:style=normal:variant=normal:weight=normal:stretch=normal:size=10.0\">X</text><rect x=\"1009.4850390624999\" y=\"505.0\" width=\"75.49621093750001\" height=\"40\" stroke=\"black\" fill=\"white\" stroke-width=\"1\"/><text x=\"1047.23314453125\" y=\"525.0\" dominant-baseline=\"middle\" text-anchor=\"middle\" font-size=\"14px\" font-family=\"sans\\-serif:style=normal:variant=normal:weight=normal:stretch=normal:size=10.0\">@[t:4,r:0]</text><rect x=\"1009.4850390624999\" y=\"205.0\" width=\"75.49621093750001\" height=\"40\" stroke=\"black\" fill=\"white\" stroke-width=\"1\"/><text x=\"1047.23314453125\" y=\"225.0\" dominant-baseline=\"middle\" text-anchor=\"middle\" font-size=\"14px\" font-family=\"sans\\-serif:style=normal:variant=normal:weight=normal:stretch=normal:size=10.0\">(0)</text><rect x=\"1009.4850390624999\" y=\"555.0\" width=\"75.49621093750001\" height=\"40\" stroke=\"black\" fill=\"white\" stroke-width=\"1\"/><text x=\"1047.23314453125\" y=\"575.0\" dominant-baseline=\"middle\" text-anchor=\"middle\" font-size=\"14px\" font-family=\"sans\\-serif:style=normal:variant=normal:weight=normal:stretch=normal:size=10.0\">And</text><rect x=\"1104.98125\" y=\"555.0\" width=\"75.49621093750001\" height=\"40\" stroke=\"black\" fill=\"white\" stroke-width=\"1\"/><text x=\"1142.72935546875\" y=\"575.0\" dominant-baseline=\"middle\" text-anchor=\"middle\" font-size=\"14px\" font-family=\"sans\\-serif:style=normal:variant=normal:weight=normal:stretch=normal:size=10.0\">@[t:0,r:0]</text><rect x=\"1104.98125\" y=\"355.0\" width=\"75.49621093750001\" height=\"40\" stroke=\"black\" fill=\"white\" stroke-width=\"1\"/><text x=\"1142.72935546875\" y=\"375.0\" dominant-baseline=\"middle\" text-anchor=\"middle\" font-size=\"18px\" font-family=\"sans\\-serif:style=normal:variant=normal:weight=normal:stretch=normal:size=10.0\">I</text><rect x=\"1200.4774609375002\" y=\"505.0\" width=\"75.49621093750001\" height=\"40\" stroke=\"black\" fill=\"white\" stroke-width=\"1\"/><text x=\"1238.2255664062502\" y=\"525.0\" dominant-baseline=\"middle\" text-anchor=\"middle\" font-size=\"14px\" font-family=\"sans\\-serif:style=normal:variant=normal:weight=normal:stretch=normal:size=10.0\">@[t:0,r:0]</text><rect x=\"1200.4774609375002\" y=\"555.0\" width=\"75.49621093750001\" height=\"40\" stroke=\"black\" fill=\"white\" stroke-width=\"1\"/><text x=\"1238.2255664062502\" y=\"575.0\" dominant-baseline=\"middle\" text-anchor=\"middle\" font-size=\"18px\" font-family=\"sans\\-serif:style=normal:variant=normal:weight=normal:stretch=normal:size=10.0\">X</text><rect x=\"1295.9736718750003\" y=\"555.0\" width=\"75.49621093750001\" height=\"40\" stroke=\"black\" fill=\"white\" stroke-width=\"1\"/><text x=\"1333.7217773437503\" y=\"575.0\" dominant-baseline=\"middle\" text-anchor=\"middle\" font-size=\"14px\" font-family=\"sans\\-serif:style=normal:variant=normal:weight=normal:stretch=normal:size=10.0\">@[t:0,r:0]</text><circle cx=\"1333.7217773437503\" cy=\"425.0\" r=\"10.0\"/><rect x=\"1391.4698828125004\" y=\"505.0\" width=\"75.49621093750001\" height=\"40\" stroke=\"black\" fill=\"white\" stroke-width=\"1\"/><text x=\"1429.2179882812504\" y=\"525.0\" dominant-baseline=\"middle\" text-anchor=\"middle\" font-size=\"14px\" font-family=\"sans\\-serif:style=normal:variant=normal:weight=normal:stretch=normal:size=10.0\">@[t:0,r:0]</text><circle cx=\"1429.2179882812504\" cy=\"225.0\" r=\"10.0\"/><rect x=\"1391.4698828125004\" y=\"555.0\" width=\"75.49621093750001\" height=\"40\" stroke=\"black\" fill=\"white\" stroke-width=\"1\"/><text x=\"1429.2179882812504\" y=\"575.0\" dominant-baseline=\"middle\" text-anchor=\"middle\" font-size=\"14px\" font-family=\"sans\\-serif:style=normal:variant=normal:weight=normal:stretch=normal:size=10.0\">And†</text><rect x=\"1486.9660937500005\" y=\"455.0\" width=\"75.49621093750001\" height=\"40\" stroke=\"black\" fill=\"white\" stroke-width=\"1\"/><text x=\"1524.7141992187505\" y=\"475.0\" dominant-baseline=\"middle\" text-anchor=\"middle\" font-size=\"14px\" font-family=\"sans\\-serif:style=normal:variant=normal:weight=normal:stretch=normal:size=10.0\">@[t:0,r:0]</text><circle cx=\"1524.7141992187505\" cy=\"175.0\" r=\"10.0\"/><rect x=\"1486.9660937500005\" y=\"505.0\" width=\"75.49621093750001\" height=\"40\" stroke=\"black\" fill=\"white\" stroke-width=\"1\"/><text x=\"1524.7141992187505\" y=\"525.0\" dominant-baseline=\"middle\" text-anchor=\"middle\" font-size=\"14px\" font-family=\"sans\\-serif:style=normal:variant=normal:weight=normal:stretch=normal:size=10.0\">And†</text><rect x=\"1582.4623046875006\" y=\"5.0\" width=\"75.49621093750001\" height=\"40\" stroke=\"black\" fill=\"white\" stroke-width=\"1\"/><text x=\"1620.2104101562506\" y=\"25.0\" dominant-baseline=\"middle\" text-anchor=\"middle\" font-size=\"14px\" font-family=\"sans\\-serif:style=normal:variant=normal:weight=normal:stretch=normal:size=10.0\">@[t:0,r:0]</text><circle cx=\"1620.2104101562506\" cy=\"75.0\" r=\"10.0\"/><rect x=\"1582.4623046875006\" y=\"455.0\" width=\"75.49621093750001\" height=\"40\" stroke=\"black\" fill=\"white\" stroke-width=\"1\"/><text x=\"1620.2104101562506\" y=\"475.0\" dominant-baseline=\"middle\" text-anchor=\"middle\" font-size=\"14px\" font-family=\"sans\\-serif:style=normal:variant=normal:weight=normal:stretch=normal:size=10.0\">And†</text></svg>",
          "text/plain": "<IPython.core.display.SVG object>"
         },
         "metadata": {},
         "output_type": "display_data"
        }
       ],
       "tabbable": null,
       "tooltip": null
      }
     },
     "f1c25106f2ce4ecea1f58e5cddeb1551": {
      "model_module": "@jupyter-widgets/base",
      "model_module_version": "2.0.0",
      "model_name": "LayoutModel",
      "state": {
       "_model_module": "@jupyter-widgets/base",
       "_model_module_version": "2.0.0",
       "_model_name": "LayoutModel",
       "_view_count": null,
       "_view_module": "@jupyter-widgets/base",
       "_view_module_version": "2.0.0",
       "_view_name": "LayoutView",
       "align_content": null,
       "align_items": null,
       "align_self": null,
       "border_bottom": null,
       "border_left": null,
       "border_right": null,
       "border_top": null,
       "bottom": null,
       "display": null,
       "flex": null,
       "flex_flow": null,
       "grid_area": null,
       "grid_auto_columns": null,
       "grid_auto_flow": null,
       "grid_auto_rows": null,
       "grid_column": null,
       "grid_gap": null,
       "grid_row": null,
       "grid_template_areas": null,
       "grid_template_columns": null,
       "grid_template_rows": null,
       "height": null,
       "justify_content": null,
       "justify_items": null,
       "left": null,
       "margin": null,
       "max_height": null,
       "max_width": null,
       "min_height": null,
       "min_width": null,
       "object_fit": null,
       "object_position": null,
       "order": null,
       "overflow": null,
       "padding": null,
       "right": null,
       "top": null,
       "visibility": null,
       "width": null
      }
     }
    },
    "version_major": 2,
    "version_minor": 0
   }
  }
 },
 "nbformat": 4,
 "nbformat_minor": 5
}
