{
 "cells": [
  {
   "cell_type": "markdown",
   "id": "ea8ed4b7",
   "metadata": {
    "cq.autogen": "title_cell"
   },
   "source": [
    "# Generic Select\n",
    "\n",
    "Bloqs for applying SELECT unitary for LCU of Pauli Strings."
   ]
  },
  {
   "cell_type": "code",
   "execution_count": 1,
   "id": "ec00185c",
   "metadata": {
    "cq.autogen": "top_imports"
   },
   "outputs": [],
   "source": [
    "from qualtran import Bloq, CompositeBloq, BloqBuilder, Signature, Register\n",
    "from qualtran import QBit, QInt, QUInt, QAny\n",
    "from qualtran.drawing import show_bloq, show_call_graph, show_counts_sigma\n",
    "from typing import *\n",
    "import numpy as np\n",
    "import sympy\n",
    "import cirq"
   ]
  },
  {
   "cell_type": "markdown",
   "id": "1672a1ee",
   "metadata": {
    "cq.autogen": "SelectPauliLCU.bloq_doc.md"
   },
   "source": [
    "## `SelectPauliLCU`\n",
    "A SELECT bloq for selecting and applying operators from an array of `PauliString`s.\n",
    "\n",
    "$$\n",
    "\\mathrm{SELECT} = \\sum_{l}|l \\rangle \\langle l| \\otimes U_l\n",
    "$$\n",
    "\n",
    "Where $U_l$ is a member of the Pauli group.\n",
    "\n",
    "This bloq uses the unary iteration scheme to apply `select_unitaries[selection]` to `target`\n",
    "controlled on the single-bit `control` register.\n",
    "\n",
    "#### Parameters\n",
    " - `selection_bitsize`: The size of the indexing `select` register. This should be at least `log2(len(select_unitaries))`\n",
    " - `target_bitsize`: The size of the `target` register.\n",
    " - `select_unitaries`: List of `DensePauliString`s to apply to the `target` register. Each dense pauli string must contain `target_bitsize` terms.\n",
    " - `control_val`: Optional control value. If specified, a singly controlled gate is constructed.\n"
   ]
  },
  {
   "cell_type": "code",
   "execution_count": 2,
   "id": "118a3051",
   "metadata": {
    "cq.autogen": "SelectPauliLCU.bloq_doc.py"
   },
   "outputs": [],
   "source": [
    "from qualtran.bloqs.multiplexers.select_pauli_lcu import SelectPauliLCU"
   ]
  },
  {
   "cell_type": "markdown",
   "id": "0efc274b",
   "metadata": {
    "cq.autogen": "SelectPauliLCU.example_instances.md"
   },
   "source": [
    "### Example Instances"
   ]
  },
  {
   "cell_type": "code",
   "execution_count": 3,
   "id": "1d707ae3",
   "metadata": {
    "cq.autogen": "SelectPauliLCU.select_pauli_lcu"
   },
   "outputs": [],
   "source": [
    "target_bitsize = 4\n",
    "us = ['XIXI', 'YIYI', 'ZZZZ', 'ZXYZ']\n",
    "us = [cirq.DensePauliString(u) for u in us]\n",
    "selection_bitsize = int(np.ceil(np.log2(len(us))))\n",
    "select_pauli_lcu = SelectPauliLCU(selection_bitsize, target_bitsize, select_unitaries=us)"
   ]
  },
  {
   "cell_type": "markdown",
   "id": "094d37fa",
   "metadata": {
    "cq.autogen": "SelectPauliLCU.graphical_signature.md"
   },
   "source": [
    "#### Graphical Signature"
   ]
  },
  {
   "cell_type": "code",
   "execution_count": 4,
   "id": "d4c2c22a",
   "metadata": {
    "cq.autogen": "SelectPauliLCU.graphical_signature.py"
   },
   "outputs": [
    {
     "data": {
      "application/vnd.jupyter.widget-view+json": {
       "model_id": "077a18971d2e4b2fa0f0dbe06c3e3af3",
       "version_major": 2,
       "version_minor": 0
      },
      "text/plain": [
       "HBox(children=(Output(outputs=({'output_type': 'display_data', 'data': {'text/plain': '<IPython.core.display.M…"
      ]
     },
     "metadata": {},
     "output_type": "display_data"
    }
   ],
   "source": [
    "from qualtran.drawing import show_bloqs\n",
    "show_bloqs([select_pauli_lcu],\n",
    "           ['`select_pauli_lcu`'])"
   ]
  },
  {
   "cell_type": "markdown",
   "id": "a832dbef",
   "metadata": {
    "cq.autogen": "SelectPauliLCU.call_graph.md"
   },
   "source": [
    "### Call Graph"
   ]
  },
  {
   "cell_type": "code",
   "execution_count": 5,
   "id": "bef28dee",
   "metadata": {
    "cq.autogen": "SelectPauliLCU.call_graph.py"
   },
   "outputs": [
    {
     "data": {
      "image/svg+xml": [
       "<svg xmlns=\"http://www.w3.org/2000/svg\" xmlns:xlink=\"http://www.w3.org/1999/xlink\" width=\"694pt\" height=\"131pt\" viewBox=\"0.00 0.00 694.00 131.00\">\n",
       "<g id=\"graph0\" class=\"graph\" transform=\"scale(1 1) rotate(0) translate(4 127)\">\n",
       "<title>counts</title>\n",
       "<polygon fill=\"white\" stroke=\"transparent\" points=\"-4,4 -4,-127 690,-127 690,4 -4,4\"/>\n",
       "<!-- b0 -->\n",
       "<g id=\"node1\" class=\"node\">\n",
       "<title>b0</title>\n",
       "<polygon fill=\"none\" stroke=\"black\" points=\"274,-93 274,-116 354,-116 354,-93 274,-93\"/>\n",
       "<text text-anchor=\"start\" x=\"280.5\" y=\"-102\" font-family=\"Times,serif\" font-size=\"10.00\">SelectPauliLCU</text>\n",
       "</g>\n",
       "<!-- b1 -->\n",
       "<g id=\"node2\" class=\"node\">\n",
       "<title>b1</title>\n",
       "<polygon fill=\"none\" stroke=\"black\" points=\"8,-6 8,-29 72,-29 72,-6 8,-6\"/>\n",
       "<text text-anchor=\"start\" x=\"14\" y=\"-15\" font-family=\"Times,serif\" font-size=\"10.00\">C[cirq.+XX]</text>\n",
       "</g>\n",
       "<!-- b0&#45;&gt;b1 -->\n",
       "<g id=\"edge1\" class=\"edge\">\n",
       "<title>b0-&gt;b1</title>\n",
       "<path fill=\"none\" stroke=\"black\" d=\"M265.81,-90.54C243.33,-84.17 216.25,-76.36 192,-69 148.88,-55.91 136.16,-51.73 89.82,-36.25\"/>\n",
       "<polygon fill=\"black\" stroke=\"black\" points=\"90.68,-32.84 80.08,-32.99 88.46,-39.48 90.68,-32.84\"/>\n",
       "<text text-anchor=\"middle\" x=\"195.5\" y=\"-57.8\" font-family=\"Times,serif\" font-size=\"14.00\">1</text>\n",
       "</g>\n",
       "<!-- b2 -->\n",
       "<g id=\"node3\" class=\"node\">\n",
       "<title>b2</title>\n",
       "<polygon fill=\"none\" stroke=\"black\" points=\"115,-6 115,-29 135,-29 135,-6 115,-6\"/>\n",
       "<text text-anchor=\"start\" x=\"121\" y=\"-15\" font-family=\"Times,serif\" font-size=\"10.00\">X</text>\n",
       "</g>\n",
       "<!-- b0&#45;&gt;b2 -->\n",
       "<g id=\"edge2\" class=\"edge\">\n",
       "<title>b0-&gt;b2</title>\n",
       "<path fill=\"none\" stroke=\"black\" d=\"M274.9,-86.92C245.92,-74.19 205.24,-56.19 161.24,-36.06\"/>\n",
       "<polygon fill=\"black\" stroke=\"black\" points=\"162.64,-32.86 152.1,-31.88 159.73,-39.22 162.64,-32.86\"/>\n",
       "<text text-anchor=\"middle\" x=\"236.5\" y=\"-57.8\" font-family=\"Times,serif\" font-size=\"14.00\">2</text>\n",
       "</g>\n",
       "<!-- b3 -->\n",
       "<g id=\"node4\" class=\"node\">\n",
       "<title>b3</title>\n",
       "<polygon fill=\"none\" stroke=\"black\" points=\"179,-6 179,-29 215,-29 215,-6 179,-6\"/>\n",
       "<text text-anchor=\"start\" x=\"185\" y=\"-15\" font-family=\"Times,serif\" font-size=\"10.00\">And†</text>\n",
       "</g>\n",
       "<!-- b0&#45;&gt;b3 -->\n",
       "<g id=\"edge3\" class=\"edge\">\n",
       "<title>b0-&gt;b3</title>\n",
       "<path fill=\"none\" stroke=\"black\" d=\"M290.32,-86.8C272.64,-73.95 248.28,-56.26 228.89,-42.17\"/>\n",
       "<polygon fill=\"black\" stroke=\"black\" points=\"230.79,-39.22 220.64,-36.18 226.67,-44.88 230.79,-39.22\"/>\n",
       "<text text-anchor=\"middle\" x=\"266.5\" y=\"-57.8\" font-family=\"Times,serif\" font-size=\"14.00\">2</text>\n",
       "</g>\n",
       "<!-- b4 -->\n",
       "<g id=\"node5\" class=\"node\">\n",
       "<title>b4</title>\n",
       "<polygon fill=\"none\" stroke=\"black\" points=\"253,-6 253,-29 285,-29 285,-6 253,-6\"/>\n",
       "<text text-anchor=\"start\" x=\"259.5\" y=\"-15\" font-family=\"Times,serif\" font-size=\"10.00\">And</text>\n",
       "</g>\n",
       "<!-- b0&#45;&gt;b4 -->\n",
       "<g id=\"edge4\" class=\"edge\">\n",
       "<title>b0-&gt;b4</title>\n",
       "<path fill=\"none\" stroke=\"black\" d=\"M304.89,-86.8C298.55,-74.82 289.97,-58.62 282.79,-45.06\"/>\n",
       "<polygon fill=\"black\" stroke=\"black\" points=\"285.87,-43.38 278.09,-36.18 279.68,-46.65 285.87,-43.38\"/>\n",
       "<text text-anchor=\"middle\" x=\"298.5\" y=\"-57.8\" font-family=\"Times,serif\" font-size=\"14.00\">2</text>\n",
       "</g>\n",
       "<!-- b5 -->\n",
       "<g id=\"node6\" class=\"node\">\n",
       "<title>b5</title>\n",
       "<polygon fill=\"none\" stroke=\"black\" points=\"322,-6 322,-29 398,-29 398,-6 322,-6\"/>\n",
       "<text text-anchor=\"start\" x=\"328\" y=\"-15\" font-family=\"Times,serif\" font-size=\"10.00\">C[cirq.+ZXYZ]</text>\n",
       "</g>\n",
       "<!-- b0&#45;&gt;b5 -->\n",
       "<g id=\"edge5\" class=\"edge\">\n",
       "<title>b0-&gt;b5</title>\n",
       "<path fill=\"none\" stroke=\"black\" d=\"M323.31,-86.8C329.79,-74.82 338.56,-58.62 345.9,-45.06\"/>\n",
       "<polygon fill=\"black\" stroke=\"black\" points=\"349.02,-46.64 350.71,-36.18 342.87,-43.3 349.02,-46.64\"/>\n",
       "<text text-anchor=\"middle\" x=\"343.5\" y=\"-57.8\" font-family=\"Times,serif\" font-size=\"14.00\">1</text>\n",
       "</g>\n",
       "<!-- b6 -->\n",
       "<g id=\"node7\" class=\"node\">\n",
       "<title>b6</title>\n",
       "<polygon fill=\"none\" stroke=\"black\" points=\"432,-6 432,-29 496,-29 496,-6 432,-6\"/>\n",
       "<text text-anchor=\"start\" x=\"438\" y=\"-15\" font-family=\"Times,serif\" font-size=\"10.00\">C[cirq.+YY]</text>\n",
       "</g>\n",
       "<!-- b0&#45;&gt;b6 -->\n",
       "<g id=\"edge6\" class=\"edge\">\n",
       "<title>b0-&gt;b6</title>\n",
       "<path fill=\"none\" stroke=\"black\" d=\"M344.35,-86.8C367.61,-73.62 399.87,-55.34 425.03,-41.08\"/>\n",
       "<polygon fill=\"black\" stroke=\"black\" points=\"426.97,-44.01 433.95,-36.03 423.52,-37.92 426.97,-44.01\"/>\n",
       "<text text-anchor=\"middle\" x=\"401.5\" y=\"-57.8\" font-family=\"Times,serif\" font-size=\"14.00\">1</text>\n",
       "</g>\n",
       "<!-- b7 -->\n",
       "<g id=\"node8\" class=\"node\">\n",
       "<title>b7</title>\n",
       "<polygon fill=\"none\" stroke=\"black\" points=\"530,-6 530,-29 570,-29 570,-6 530,-6\"/>\n",
       "<text text-anchor=\"start\" x=\"536\" y=\"-15\" font-family=\"Times,serif\" font-size=\"10.00\">CNOT</text>\n",
       "</g>\n",
       "<!-- b0&#45;&gt;b7 -->\n",
       "<g id=\"edge7\" class=\"edge\">\n",
       "<title>b0-&gt;b7</title>\n",
       "<path fill=\"none\" stroke=\"black\" d=\"M362.35,-89C400.82,-76.72 456.1,-58.31 512.43,-36.05\"/>\n",
       "<polygon fill=\"black\" stroke=\"black\" points=\"513.85,-39.25 521.85,-32.29 511.26,-32.75 513.85,-39.25\"/>\n",
       "<text text-anchor=\"middle\" x=\"467.5\" y=\"-57.8\" font-family=\"Times,serif\" font-size=\"14.00\">2</text>\n",
       "</g>\n",
       "<!-- b8 -->\n",
       "<g id=\"node9\" class=\"node\">\n",
       "<title>b8</title>\n",
       "<polygon fill=\"none\" stroke=\"black\" points=\"604,-6 604,-29 678,-29 678,-6 604,-6\"/>\n",
       "<text text-anchor=\"start\" x=\"610.5\" y=\"-15\" font-family=\"Times,serif\" font-size=\"10.00\">C[cirq.+ZZZZ]</text>\n",
       "</g>\n",
       "<!-- b0&#45;&gt;b8 -->\n",
       "<g id=\"edge8\" class=\"edge\">\n",
       "<title>b0-&gt;b8</title>\n",
       "<path fill=\"none\" stroke=\"black\" d=\"M362.12,-94.49C394.23,-87.91 437.31,-78.64 475,-69 522.33,-56.9 535.81,-51.74 586.1,-36.27\"/>\n",
       "<polygon fill=\"black\" stroke=\"black\" points=\"587.4,-39.53 595.94,-33.25 585.35,-32.84 587.4,-39.53\"/>\n",
       "<text text-anchor=\"middle\" x=\"530.5\" y=\"-57.8\" font-family=\"Times,serif\" font-size=\"14.00\">1</text>\n",
       "</g>\n",
       "</g>\n",
       "</svg>"
      ],
      "text/plain": [
       "<IPython.core.display.SVG object>"
      ]
     },
     "metadata": {},
     "output_type": "display_data"
    },
    {
     "data": {
      "text/markdown": [
       "#### Counts totals:\n",
       " - `And`: 2\n",
       " - `And†`: 2\n",
       " - `CNOT`: 2\n",
       " - `C[cirq.+XX]`: 1\n",
       " - `C[cirq.+YY]`: 1\n",
       " - `C[cirq.+ZXYZ]`: 1\n",
       " - `C[cirq.+ZZZZ]`: 1\n",
       " - `X`: 2"
      ],
      "text/plain": [
       "<IPython.core.display.Markdown object>"
      ]
     },
     "metadata": {},
     "output_type": "display_data"
    }
   ],
   "source": [
    "from qualtran.resource_counting.generalizers import ignore_split_join\n",
    "select_pauli_lcu_g, select_pauli_lcu_sigma = select_pauli_lcu.call_graph(max_depth=1, generalizer=ignore_split_join)\n",
    "show_call_graph(select_pauli_lcu_g)\n",
    "show_counts_sigma(select_pauli_lcu_sigma)"
   ]
  }
 ],
 "metadata": {
  "kernelspec": {
   "display_name": "Python 3",
   "language": "python",
   "name": "python3"
  },
  "language_info": {
   "codemirror_mode": {
    "name": "ipython",
    "version": 3
   },
   "file_extension": ".py",
   "mimetype": "text/x-python",
   "name": "python",
   "nbconvert_exporter": "python",
   "pygments_lexer": "ipython3",
   "version": "3.11.8"
  },
  "widgets": {
   "application/vnd.jupyter.widget-state+json": {
    "state": {
     "077a18971d2e4b2fa0f0dbe06c3e3af3": {
      "model_module": "@jupyter-widgets/controls",
      "model_module_version": "2.0.0",
      "model_name": "HBoxModel",
      "state": {
       "_dom_classes": [],
       "_model_module": "@jupyter-widgets/controls",
       "_model_module_version": "2.0.0",
       "_model_name": "HBoxModel",
       "_view_count": null,
       "_view_module": "@jupyter-widgets/controls",
       "_view_module_version": "2.0.0",
       "_view_name": "HBoxView",
       "box_style": "",
       "children": [
        "IPY_MODEL_bc4fa50c0d4447a5b314fd1afe4c73c8"
       ],
       "layout": "IPY_MODEL_d39d504dc4054ad8965633c5927f3105",
       "tabbable": null,
       "tooltip": null
      }
     },
     "31ce737ec5d14d8dad34d32cf8f3005c": {
      "model_module": "@jupyter-widgets/base",
      "model_module_version": "2.0.0",
      "model_name": "LayoutModel",
      "state": {
       "_model_module": "@jupyter-widgets/base",
       "_model_module_version": "2.0.0",
       "_model_name": "LayoutModel",
       "_view_count": null,
       "_view_module": "@jupyter-widgets/base",
       "_view_module_version": "2.0.0",
       "_view_name": "LayoutView",
       "align_content": null,
       "align_items": null,
       "align_self": null,
       "border_bottom": null,
       "border_left": null,
       "border_right": null,
       "border_top": null,
       "bottom": null,
       "display": null,
       "flex": null,
       "flex_flow": null,
       "grid_area": null,
       "grid_auto_columns": null,
       "grid_auto_flow": null,
       "grid_auto_rows": null,
       "grid_column": null,
       "grid_gap": null,
       "grid_row": null,
       "grid_template_areas": null,
       "grid_template_columns": null,
       "grid_template_rows": null,
       "height": null,
       "justify_content": null,
       "justify_items": null,
       "left": null,
       "margin": null,
       "max_height": null,
       "max_width": null,
       "min_height": null,
       "min_width": null,
       "object_fit": null,
       "object_position": null,
       "order": null,
       "overflow": null,
       "padding": null,
       "right": null,
       "top": null,
       "visibility": null,
       "width": null
      }
     },
     "bc4fa50c0d4447a5b314fd1afe4c73c8": {
      "model_module": "@jupyter-widgets/output",
      "model_module_version": "1.0.0",
      "model_name": "OutputModel",
      "state": {
       "_dom_classes": [],
       "_model_module": "@jupyter-widgets/output",
       "_model_module_version": "1.0.0",
       "_model_name": "OutputModel",
       "_view_count": null,
       "_view_module": "@jupyter-widgets/output",
       "_view_module_version": "1.0.0",
       "_view_name": "OutputView",
       "layout": "IPY_MODEL_31ce737ec5d14d8dad34d32cf8f3005c",
       "msg_id": "",
       "outputs": [
        {
         "data": {
          "text/markdown": "`select_pauli_lcu`",
          "text/plain": "<IPython.core.display.Markdown object>"
         },
         "metadata": {},
         "output_type": "display_data"
        },
        {
         "data": {
          "image/svg+xml": "<svg xmlns=\"http://www.w3.org/2000/svg\" xmlns:xlink=\"http://www.w3.org/1999/xlink\" width=\"285pt\" height=\"98pt\" viewBox=\"0.00 0.00 285.00 98.00\">\n<g id=\"graph0\" class=\"graph\" transform=\"scale(1 1) rotate(0) translate(4 94)\">\n<title>my_graph</title>\n<polygon fill=\"white\" stroke=\"transparent\" points=\"-4,4 -4,-94 281,-94 281,4 -4,4\"/>\n<!-- selection_G1 -->\n<g id=\"node1\" class=\"node\">\n<title>selection_G1</title>\n<text text-anchor=\"middle\" x=\"32.5\" y=\"-68.3\" font-family=\"Times,serif\" font-size=\"14.00\">selection</text>\n</g>\n<!-- SelectPauliLCU -->\n<g id=\"node3\" class=\"node\">\n<title>SelectPauliLCU</title>\n<polygon fill=\"none\" stroke=\"black\" points=\"102.5,-66 102.5,-83 175.5,-83 175.5,-66 102.5,-66\"/>\n<text text-anchor=\"start\" x=\"105.5\" y=\"-72\" font-family=\"Times,serif\" font-size=\"10.00\">SelectPauliLCU</text>\n<polygon fill=\"none\" stroke=\"black\" points=\"102.5,-45 102.5,-66 175.5,-66 175.5,-45 102.5,-45\"/>\n<text text-anchor=\"start\" x=\"114.5\" y=\"-51.8\" font-family=\"Times,serif\" font-size=\"14.00\">selection</text>\n<polygon fill=\"none\" stroke=\"black\" points=\"102.5,-24 102.5,-45 175.5,-45 175.5,-24 102.5,-24\"/>\n<text text-anchor=\"start\" x=\"123.5\" y=\"-30.8\" font-family=\"Times,serif\" font-size=\"14.00\">target</text>\n</g>\n<!-- selection_G1&#45;&gt;SelectPauliLCU -->\n<g id=\"edge1\" class=\"edge\">\n<title>selection_G1:e-&gt;SelectPauliLCU:w</title>\n<path fill=\"none\" stroke=\"black\" d=\"M65,-72C82.22,-72 83.97,-57.23 99.98,-56.07\"/>\n<ellipse fill=\"black\" stroke=\"black\" cx=\"101\" cy=\"-56.04\" rx=\"1\" ry=\"1\"/>\n<text text-anchor=\"middle\" x=\"83.5\" y=\"-67\" font-family=\"Times,serif\" font-size=\"10.00\">2</text>\n</g>\n<!-- target_G4 -->\n<g id=\"node2\" class=\"node\">\n<title>target_G4</title>\n<text text-anchor=\"middle\" x=\"32.5\" y=\"-14.3\" font-family=\"Times,serif\" font-size=\"14.00\">target</text>\n</g>\n<!-- target_G4&#45;&gt;SelectPauliLCU -->\n<g id=\"edge2\" class=\"edge\">\n<title>target_G4:e-&gt;SelectPauliLCU:w</title>\n<path fill=\"none\" stroke=\"black\" d=\"M60.5,-18C79.5,-18 82.05,-32.77 99.76,-33.93\"/>\n<ellipse fill=\"black\" stroke=\"black\" cx=\"101\" cy=\"-33.97\" rx=\"1\" ry=\"1\"/>\n<text text-anchor=\"middle\" x=\"83.5\" y=\"-31\" font-family=\"Times,serif\" font-size=\"10.00\">4</text>\n</g>\n<!-- selection_G5 -->\n<g id=\"node4\" class=\"node\">\n<title>selection_G5</title>\n<text text-anchor=\"middle\" x=\"244.5\" y=\"-68.3\" font-family=\"Times,serif\" font-size=\"14.00\">selection</text>\n</g>\n<!-- SelectPauliLCU&#45;&gt;selection_G5 -->\n<g id=\"edge3\" class=\"edge\">\n<title>SelectPauliLCU:e-&gt;selection_G5:w</title>\n<path fill=\"none\" stroke=\"black\" d=\"M175,-56C192.22,-56 193.97,-70.77 209.98,-71.93\"/>\n<ellipse fill=\"black\" stroke=\"black\" cx=\"211\" cy=\"-71.96\" rx=\"1\" ry=\"1\"/>\n<text text-anchor=\"middle\" x=\"193.5\" y=\"-67\" font-family=\"Times,serif\" font-size=\"10.00\">2</text>\n</g>\n<!-- target_G3 -->\n<g id=\"node5\" class=\"node\">\n<title>target_G3</title>\n<text text-anchor=\"middle\" x=\"244.5\" y=\"-14.3\" font-family=\"Times,serif\" font-size=\"14.00\">target</text>\n</g>\n<!-- SelectPauliLCU&#45;&gt;target_G3 -->\n<g id=\"edge4\" class=\"edge\">\n<title>SelectPauliLCU:e-&gt;target_G3:w</title>\n<path fill=\"none\" stroke=\"black\" d=\"M175,-34C194,-34 196.55,-19.23 214.26,-18.07\"/>\n<ellipse fill=\"black\" stroke=\"black\" cx=\"215.5\" cy=\"-18.03\" rx=\"1\" ry=\"1\"/>\n<text text-anchor=\"middle\" x=\"193.5\" y=\"-31\" font-family=\"Times,serif\" font-size=\"10.00\">4</text>\n</g>\n</g>\n</svg>",
          "text/plain": "<IPython.core.display.SVG object>"
         },
         "metadata": {},
         "output_type": "display_data"
        }
       ],
       "tabbable": null,
       "tooltip": null
      }
     },
     "d39d504dc4054ad8965633c5927f3105": {
      "model_module": "@jupyter-widgets/base",
      "model_module_version": "2.0.0",
      "model_name": "LayoutModel",
      "state": {
       "_model_module": "@jupyter-widgets/base",
       "_model_module_version": "2.0.0",
       "_model_name": "LayoutModel",
       "_view_count": null,
       "_view_module": "@jupyter-widgets/base",
       "_view_module_version": "2.0.0",
       "_view_name": "LayoutView",
       "align_content": null,
       "align_items": null,
       "align_self": null,
       "border_bottom": null,
       "border_left": null,
       "border_right": null,
       "border_top": null,
       "bottom": null,
       "display": null,
       "flex": null,
       "flex_flow": null,
       "grid_area": null,
       "grid_auto_columns": null,
       "grid_auto_flow": null,
       "grid_auto_rows": null,
       "grid_column": null,
       "grid_gap": null,
       "grid_row": null,
       "grid_template_areas": null,
       "grid_template_columns": null,
       "grid_template_rows": null,
       "height": null,
       "justify_content": null,
       "justify_items": null,
       "left": null,
       "margin": null,
       "max_height": null,
       "max_width": null,
       "min_height": null,
       "min_width": null,
       "object_fit": null,
       "object_position": null,
       "order": null,
       "overflow": null,
       "padding": null,
       "right": null,
       "top": null,
       "visibility": null,
       "width": null
      }
     }
    },
    "version_major": 2,
    "version_minor": 0
   }
  }
 },
 "nbformat": 4,
 "nbformat_minor": 5
}
