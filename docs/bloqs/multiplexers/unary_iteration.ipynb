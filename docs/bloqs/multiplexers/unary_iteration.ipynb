{
 "cells": [
  {
   "cell_type": "code",
   "execution_count": 1,
   "id": "e2fa907b",
   "metadata": {},
   "outputs": [],
   "source": [
    "#  Copyright 2023 Google LLC\n",
    "#\n",
    "#  Licensed under the Apache License, Version 2.0 (the \"License\");\n",
    "#  you may not use this file except in compliance with the License.\n",
    "#  You may obtain a copy of the License at\n",
    "#\n",
    "#      https://www.apache.org/licenses/LICENSE-2.0\n",
    "#\n",
    "#  Unless required by applicable law or agreed to in writing, software\n",
    "#  distributed under the License is distributed on an \"AS IS\" BASIS,\n",
    "#  WITHOUT WARRANTIES OR CONDITIONS OF ANY KIND, either express or implied.\n",
    "#  See the License for the specific language governing permissions and\n",
    "#  limitations under the License."
   ]
  },
  {
   "cell_type": "markdown",
   "id": "49b5e1e6",
   "metadata": {},
   "source": [
    "# Unary Iteration"
   ]
  },
  {
   "cell_type": "markdown",
   "id": "fcdb39f2",
   "metadata": {},
   "source": [
    "Given an array of potential operations, for example:\n",
    "\n",
    "    ops = [X(i) for i in range(5)]\n",
    "    \n",
    "we would like to select an operation to apply:\n",
    "\n",
    "    n = 4 --> apply ops[4]\n",
    "    \n",
    "If $n$ is a quantum integer, we need to apply the transformation\n",
    "\n",
    "$$\n",
    "    |n \\rangle |\\psi\\rangle \\rightarrow |n\\rangle \\, \\mathrm{ops}_n \\cdot |\\psi\\rangle\n",
    "$$\n",
    "\n",
    "The simplest conceptual way to do this is to use a \"total control\" quantum circuit where you introduce a multi-controlled operation for each of the `len(ops)` possible `n` values."
   ]
  },
  {
   "cell_type": "code",
   "execution_count": 2,
   "id": "0148f529",
   "metadata": {},
   "outputs": [],
   "source": [
    "import cirq\n",
    "from cirq.contrib.svg import SVGCircuit\n",
    "import numpy as np\n",
    "from typing import *"
   ]
  },
  {
   "cell_type": "code",
   "execution_count": 3,
   "id": "32e90969",
   "metadata": {},
   "outputs": [],
   "source": [
    "import operator\n",
    "import cirq._compat\n",
    "import itertools"
   ]
  },
  {
   "cell_type": "markdown",
   "id": "a6d947da",
   "metadata": {},
   "source": [
    "## Total Control\n",
    "\n",
    "Here, we'll use Sympy's boolean logic to show how total control works. We perform an `And( ... )` for each possible bit pattern. We use an `Xnor` on each selection bit to toggle whether it's a positive or negative control (filled or open circle in quantum circuit diagrams).\n",
    "\n",
    "In this example, we indeed consider $X_n$ as our potential operations and toggle bits in the `target` register according to the total control."
   ]
  },
  {
   "cell_type": "code",
   "execution_count": 4,
   "id": "8e61bf03",
   "metadata": {
    "scrolled": false
   },
   "outputs": [
    {
     "name": "stdout",
     "output_type": "stream",
     "text": [
      "Selection is [0, 0, 0]\n",
      "Step 0, apply total control: (0, 0, 0)\n",
      "  -> At this stage, 0= and our output bit is set\n",
      "Step 1, apply total control: (0, 0, 1)\n",
      "Step 2, apply total control: (0, 1, 0)\n",
      "Step 3, apply total control: (0, 1, 1)\n",
      "Step 4, apply total control: (1, 0, 0)\n",
      "Step 5, apply total control: (1, 0, 1)\n",
      "Step 6, apply total control: (1, 1, 0)\n",
      "Step 7, apply total control: (1, 1, 1)\n",
      "\n",
      "Target:\n",
      "[True, False, False, False, False, False, False, False]\n"
     ]
    }
   ],
   "source": [
    "import sympy as S\n",
    "import sympy.logic.boolalg as slb\n",
    "\n",
    "def total_control(selection, target):\n",
    "    \"\"\"Toggle bits in `target` depending on `selection`.\"\"\"\n",
    "    print(f\"Selection is {selection}\")\n",
    "    \n",
    "    for n, trial in enumerate(itertools.product((0, 1), repeat=len(selection))):\n",
    "        print(f\"Step {n}, apply total control: {trial}\")\n",
    "        target[n] ^= slb.And(*[slb.Xnor(s, t) for s, t in zip(selection, trial)])\n",
    "          \n",
    "        if target[n] == S.true:\n",
    "            print(f\"  -> At this stage, {n}= and our output bit is set\")\n",
    "\n",
    "        \n",
    "selection = [0, 0, 0]\n",
    "target = [False]*8\n",
    "total_control(selection, target)    \n",
    "print()\n",
    "print(\"Target:\")\n",
    "print(target)"
   ]
  },
  {
   "cell_type": "markdown",
   "id": "e572a31d",
   "metadata": {},
   "source": [
    "Note that our target register shows we have indeed applied $X_\\mathrm{0b010}$. Try changing `selection` to other bit patterns and notice how it changes."
   ]
  },
  {
   "cell_type": "markdown",
   "id": "a4a75f61",
   "metadata": {},
   "source": [
    "Of course, we don't know what state the selection register will be in. We can use sympy's support for symbolic boolean logic to verify our gadget for all possible selection inputs."
   ]
  },
  {
   "cell_type": "code",
   "execution_count": 5,
   "id": "5df67d45",
   "metadata": {},
   "outputs": [
    {
     "name": "stdout",
     "output_type": "stream",
     "text": [
      "Selection is [s0, s1, s2]\n",
      "Step 0, apply total control: (0, 0, 0)\n",
      "Step 1, apply total control: (0, 0, 1)\n",
      "Step 2, apply total control: (0, 1, 0)\n",
      "Step 3, apply total control: (0, 1, 1)\n",
      "Step 4, apply total control: (1, 0, 0)\n",
      "Step 5, apply total control: (1, 0, 1)\n",
      "Step 6, apply total control: (1, 1, 0)\n",
      "Step 7, apply total control: (1, 1, 1)\n",
      "\n",
      "Target:\n",
      "0= ~s0 & ~s1 & ~s2\n",
      "1= s2 & ~s0 & ~s1\n",
      "2= s1 & ~s0 & ~s2\n",
      "3= s1 & s2 & ~s0\n",
      "4= s0 & ~s1 & ~s2\n",
      "5= s0 & s2 & ~s1\n",
      "6= s0 & s1 & ~s2\n",
      "7= s0 & s1 & s2\n"
     ]
    }
   ],
   "source": [
    "selection = [S.Symbol(f's{i}') for i in range(3)]\n",
    "target = [S.false for i in range(2**len(selection)) ]\n",
    "total_control(selection, target)\n",
    "\n",
    "print()\n",
    "print(\"Target:\")\n",
    "for n, t in enumerate(target):\n",
    "    print(f'{n}= {t}')\n",
    "    \n",
    "tc_target = target.copy()"
   ]
  },
  {
   "cell_type": "markdown",
   "id": "deab0553",
   "metadata": {},
   "source": [
    "As expected, the \"not pattern\" (where `~` is boolean not) matches the binary representations of `n`."
   ]
  },
  {
   "cell_type": "markdown",
   "id": "81b69e70",
   "metadata": {},
   "source": [
    "## Unary Iteration with segment trees\n",
    "\n",
    "A [segment tree](https://en.wikipedia.org/wiki/Segment_tree) is a data structure that allows logrithmic-time querying of intervals. We use a segment tree where each interval is length 1 and comprises all the `n` integers we may select.\n",
    "\n",
    "It is defined recursively by dividing the input interval into two half-size intervals until the left limit meets the right limit."
   ]
  },
  {
   "cell_type": "code",
   "execution_count": 6,
   "id": "ab998aa4",
   "metadata": {},
   "outputs": [],
   "source": [
    "def segtree(ctrl, selection, target, depth, left, right):\n",
    "    \"\"\"Toggle bits in `target` depending on `selection` using a recursive segment tree.\"\"\"\n",
    "    print(f'depth={depth} left={left} right={right}', end=' ')\n",
    "    \n",
    "    if left == (right - 1):\n",
    "        # Leaf of the recusion.\n",
    "        print(f'n={n} ctrl={ctrl}')\n",
    "        target[left] ^= ctrl\n",
    "        return \n",
    "    print()\n",
    "    \n",
    "    assert depth < len(selection)\n",
    "    mid = (left + right) >> 1\n",
    "    \n",
    "    # Recurse left interval\n",
    "    new_ctrl = slb.And(ctrl, slb.Not(selection[depth]))\n",
    "    segtree(ctrl=new_ctrl, selection=selection, target=target, depth=depth+1, left=left, right=mid)\n",
    "    \n",
    "    # Recurse right interval\n",
    "    new_ctrl = slb.And(ctrl, selection[depth])\n",
    "    segtree(ctrl=new_ctrl, selection=selection, target=target, depth=depth+1, left=mid, right=right)\n",
    "    \n",
    "    # Quantum note:\n",
    "    # instead of throwing away the first value of `new_ctrl` and re-anding\n",
    "    # with selection, we can just invert the first one (but only if `ctrl` is active)\n",
    "    # new_ctrl ^= ctrl"
   ]
  },
  {
   "cell_type": "code",
   "execution_count": 7,
   "id": "6a514ee6",
   "metadata": {},
   "outputs": [
    {
     "name": "stdout",
     "output_type": "stream",
     "text": [
      "depth=0 left=0 right=8 \n",
      "depth=1 left=0 right=4 \n",
      "depth=2 left=0 right=2 \n",
      "depth=3 left=0 right=1 n=7 ctrl=~s0 & ~s1 & ~s2\n",
      "depth=3 left=1 right=2 n=7 ctrl=s2 & ~s0 & ~s1\n",
      "depth=2 left=2 right=4 \n",
      "depth=3 left=2 right=3 n=7 ctrl=s1 & ~s0 & ~s2\n",
      "depth=3 left=3 right=4 n=7 ctrl=s1 & s2 & ~s0\n",
      "depth=1 left=4 right=8 \n",
      "depth=2 left=4 right=6 \n",
      "depth=3 left=4 right=5 n=7 ctrl=s0 & ~s1 & ~s2\n",
      "depth=3 left=5 right=6 n=7 ctrl=s0 & s2 & ~s1\n",
      "depth=2 left=6 right=8 \n",
      "depth=3 left=6 right=7 n=7 ctrl=s0 & s1 & ~s2\n",
      "depth=3 left=7 right=8 n=7 ctrl=s0 & s1 & s2\n",
      "\n",
      "Target:\n",
      "n=0 ~s0 & ~s1 & ~s2\n",
      "n=1 s2 & ~s0 & ~s1\n",
      "n=2 s1 & ~s0 & ~s2\n",
      "n=3 s1 & s2 & ~s0\n",
      "n=4 s0 & ~s1 & ~s2\n",
      "n=5 s0 & s2 & ~s1\n",
      "n=6 s0 & s1 & ~s2\n",
      "n=7 s0 & s1 & s2\n"
     ]
    }
   ],
   "source": [
    "selection = [S.Symbol(f's{i}') for i in range(3)]\n",
    "target = [S.false for i in range(2**len(selection)) ]\n",
    "segtree(S.true, selection, target, 0, 0, 2**len(selection))\n",
    "\n",
    "print()\n",
    "print(\"Target:\")\n",
    "for n, t in enumerate(target):\n",
    "    print(f'n={n} {slb.simplify_logic(t)}')"
   ]
  },
  {
   "cell_type": "code",
   "execution_count": 8,
   "id": "23d91438",
   "metadata": {},
   "outputs": [
    {
     "name": "stdout",
     "output_type": "stream",
     "text": [
      "n   | segtree            | total control      | same?\n",
      "  0 | ~s0 & ~s1 & ~s2    | ~s0 & ~s1 & ~s2    | True\n",
      "  1 | s2 & ~s0 & ~s1     | s2 & ~s0 & ~s1     | True\n",
      "  2 | s1 & ~s0 & ~s2     | s1 & ~s0 & ~s2     | True\n",
      "  3 | s1 & s2 & ~s0      | s1 & s2 & ~s0      | True\n",
      "  4 | s0 & ~s1 & ~s2     | s0 & ~s1 & ~s2     | True\n",
      "  5 | s0 & s2 & ~s1      | s0 & s2 & ~s1      | True\n",
      "  6 | s0 & s1 & ~s2      | s0 & s1 & ~s2      | True\n",
      "  7 | s0 & s1 & s2       | s0 & s1 & s2       | True\n"
     ]
    }
   ],
   "source": [
    "print(f\"{'n':3s} | {'segtree':18s} | {'total control':18s} | same?\")\n",
    "for n, (t1, t2) in enumerate(zip(target, tc_target)):\n",
    "    t1 = slb.simplify_logic(t1)\n",
    "    print(f'{n:3d} | {str(t1):18s} | {str(t2):18s} | {str(t1==t2)}')"
   ]
  },
  {
   "cell_type": "markdown",
   "id": "e39448e6",
   "metadata": {},
   "source": [
    "## Quantum Circuit\n",
    "\n",
    "We can translate the boolean logic to reversible, quantum logic. It is instructive to start from the suboptimal total control quantum circuit for comparison purposes. We can build this as in the sympy boolean-logic case by adding controlled X operations to the target signature, with the controls on the selection signature toggled on or off according to the binary representation of the selection index.\n",
    "\n",
    "Let us first build a GateWithRegisters object to implement the circuit"
   ]
  },
  {
   "cell_type": "code",
   "execution_count": 9,
   "id": "6b37d717",
   "metadata": {},
   "outputs": [],
   "source": [
    "import cirq\n",
    "from functools import cached_property\n",
    "from qualtran import Signature, GateWithRegisters, QUInt\n",
    "\n",
    "class TotallyControlledNot(GateWithRegisters):\n",
    "    \n",
    "    def __init__(self, selection_bitsize: int, target_bitsize: int, control_bitsize: int = 1):\n",
    "        self._selection_bitsize = selection_bitsize\n",
    "        self._target_bitsize = target_bitsize\n",
    "        self._control_bitsize = control_bitsize\n",
    "\n",
    "    @cached_property\n",
    "    def signature(self) -> Signature:\n",
    "        return Signature(\n",
    "            [\n",
    "                *Signature.build(control=self._control_bitsize),\n",
    "                *Signature.build(selection=self._selection_bitsize),\n",
    "                *Signature.build(target=self._target_bitsize)\n",
    "            ]\n",
    "        )\n",
    "\n",
    "    def decompose_from_registers(self, **qubit_regs: Sequence[cirq.Qid]) -> cirq.OP_TREE:\n",
    "        num_controls = self._control_bitsize + self._selection_bitsize\n",
    "        for target_bit in range(self._target_bitsize):\n",
    "            bit_pattern = QUInt(self._selection_bitsize).to_bits(target_bit)\n",
    "            control_values = [1]*self._control_bitsize + list(bit_pattern)\n",
    "            yield cirq.X.controlled(\n",
    "                num_controls=num_controls,\n",
    "                control_values=control_values\n",
    "                ).on(\n",
    "                    *qubit_regs[\"control\"], \n",
    "                    *qubit_regs[\"selection\"],\n",
    "                    qubit_regs[\"target\"][-(target_bit+1)])\n",
    "        "
   ]
  },
  {
   "cell_type": "code",
   "execution_count": 10,
   "id": "1f7b6758",
   "metadata": {},
   "outputs": [
    {
     "data": {
      "image/svg+xml": [
       "<svg xmlns=\"http://www.w3.org/2000/svg\" width=\"444.15515625\" height=\"450.0\"><line x1=\"52.077578125\" x2=\"414.15515625\" y1=\"25.0\" y2=\"25.0\" stroke=\"#1967d2\" stroke-width=\"1\" /><line x1=\"52.077578125\" x2=\"414.15515625\" y1=\"75.0\" y2=\"75.0\" stroke=\"#1967d2\" stroke-width=\"1\" /><line x1=\"52.077578125\" x2=\"414.15515625\" y1=\"125.0\" y2=\"125.0\" stroke=\"#1967d2\" stroke-width=\"1\" /><line x1=\"52.077578125\" x2=\"414.15515625\" y1=\"175.0\" y2=\"175.0\" stroke=\"#1967d2\" stroke-width=\"1\" /><line x1=\"52.077578125\" x2=\"414.15515625\" y1=\"225.0\" y2=\"225.0\" stroke=\"#1967d2\" stroke-width=\"1\" /><line x1=\"52.077578125\" x2=\"414.15515625\" y1=\"275.0\" y2=\"275.0\" stroke=\"#1967d2\" stroke-width=\"1\" /><line x1=\"52.077578125\" x2=\"414.15515625\" y1=\"325.0\" y2=\"325.0\" stroke=\"#1967d2\" stroke-width=\"1\" /><line x1=\"52.077578125\" x2=\"414.15515625\" y1=\"375.0\" y2=\"375.0\" stroke=\"#1967d2\" stroke-width=\"1\" /><line x1=\"52.077578125\" x2=\"414.15515625\" y1=\"425.0\" y2=\"425.0\" stroke=\"#1967d2\" stroke-width=\"1\" /><line x1=\"134.15515625\" x2=\"134.15515625\" y1=\"25.0\" y2=\"425.0\" stroke=\"black\" stroke-width=\"3\" /><line x1=\"194.15515625\" x2=\"194.15515625\" y1=\"25.0\" y2=\"375.0\" stroke=\"black\" stroke-width=\"3\" /><line x1=\"254.15515625\" x2=\"254.15515625\" y1=\"25.0\" y2=\"325.0\" stroke=\"black\" stroke-width=\"3\" /><line x1=\"314.15515625\" x2=\"314.15515625\" y1=\"25.0\" y2=\"275.0\" stroke=\"black\" stroke-width=\"3\" /><line x1=\"374.15515625\" x2=\"374.15515625\" y1=\"25.0\" y2=\"225.0\" stroke=\"black\" stroke-width=\"3\" /><rect x=\"10.0\" y=\"5.0\" width=\"84.15515625\" height=\"40\" stroke=\"black\" fill=\"white\" stroke-width=\"0\" /><text x=\"52.077578125\" y=\"25.0\" dominant-baseline=\"middle\" text-anchor=\"middle\" font-size=\"14px\" font-family=\"sans\\-serif:style=normal:variant=normal:weight=normal:stretch=normal:size=10.0\">control: </text><rect x=\"10.0\" y=\"55.0\" width=\"84.15515625\" height=\"40\" stroke=\"black\" fill=\"white\" stroke-width=\"0\" /><text x=\"52.077578125\" y=\"75.0\" dominant-baseline=\"middle\" text-anchor=\"middle\" font-size=\"14px\" font-family=\"sans\\-serif:style=normal:variant=normal:weight=normal:stretch=normal:size=10.0\">selection0: </text><rect x=\"10.0\" y=\"105.0\" width=\"84.15515625\" height=\"40\" stroke=\"black\" fill=\"white\" stroke-width=\"0\" /><text x=\"52.077578125\" y=\"125.0\" dominant-baseline=\"middle\" text-anchor=\"middle\" font-size=\"14px\" font-family=\"sans\\-serif:style=normal:variant=normal:weight=normal:stretch=normal:size=10.0\">selection1: </text><rect x=\"10.0\" y=\"155.0\" width=\"84.15515625\" height=\"40\" stroke=\"black\" fill=\"white\" stroke-width=\"0\" /><text x=\"52.077578125\" y=\"175.0\" dominant-baseline=\"middle\" text-anchor=\"middle\" font-size=\"14px\" font-family=\"sans\\-serif:style=normal:variant=normal:weight=normal:stretch=normal:size=10.0\">selection2: </text><rect x=\"10.0\" y=\"205.0\" width=\"84.15515625\" height=\"40\" stroke=\"black\" fill=\"white\" stroke-width=\"0\" /><text x=\"52.077578125\" y=\"225.0\" dominant-baseline=\"middle\" text-anchor=\"middle\" font-size=\"14px\" font-family=\"sans\\-serif:style=normal:variant=normal:weight=normal:stretch=normal:size=10.0\">target0: </text><rect x=\"10.0\" y=\"255.0\" width=\"84.15515625\" height=\"40\" stroke=\"black\" fill=\"white\" stroke-width=\"0\" /><text x=\"52.077578125\" y=\"275.0\" dominant-baseline=\"middle\" text-anchor=\"middle\" font-size=\"14px\" font-family=\"sans\\-serif:style=normal:variant=normal:weight=normal:stretch=normal:size=10.0\">target1: </text><rect x=\"10.0\" y=\"305.0\" width=\"84.15515625\" height=\"40\" stroke=\"black\" fill=\"white\" stroke-width=\"0\" /><text x=\"52.077578125\" y=\"325.0\" dominant-baseline=\"middle\" text-anchor=\"middle\" font-size=\"14px\" font-family=\"sans\\-serif:style=normal:variant=normal:weight=normal:stretch=normal:size=10.0\">target2: </text><rect x=\"10.0\" y=\"355.0\" width=\"84.15515625\" height=\"40\" stroke=\"black\" fill=\"white\" stroke-width=\"0\" /><text x=\"52.077578125\" y=\"375.0\" dominant-baseline=\"middle\" text-anchor=\"middle\" font-size=\"14px\" font-family=\"sans\\-serif:style=normal:variant=normal:weight=normal:stretch=normal:size=10.0\">target3: </text><rect x=\"10.0\" y=\"405.0\" width=\"84.15515625\" height=\"40\" stroke=\"black\" fill=\"white\" stroke-width=\"0\" /><text x=\"52.077578125\" y=\"425.0\" dominant-baseline=\"middle\" text-anchor=\"middle\" font-size=\"14px\" font-family=\"sans\\-serif:style=normal:variant=normal:weight=normal:stretch=normal:size=10.0\">target4: </text><circle cx=\"134.15515625\" cy=\"25.0\" r=\"10.0\" /><rect x=\"114.15515625\" y=\"55.0\" width=\"40\" height=\"40\" stroke=\"black\" fill=\"white\" stroke-width=\"1\" /><text x=\"134.15515625\" y=\"75.0\" dominant-baseline=\"middle\" text-anchor=\"middle\" font-size=\"14px\" font-family=\"sans\\-serif:style=normal:variant=normal:weight=normal:stretch=normal:size=10.0\">(0)</text><rect x=\"114.15515625\" y=\"105.0\" width=\"40\" height=\"40\" stroke=\"black\" fill=\"white\" stroke-width=\"1\" /><text x=\"134.15515625\" y=\"125.0\" dominant-baseline=\"middle\" text-anchor=\"middle\" font-size=\"14px\" font-family=\"sans\\-serif:style=normal:variant=normal:weight=normal:stretch=normal:size=10.0\">(0)</text><rect x=\"114.15515625\" y=\"155.0\" width=\"40\" height=\"40\" stroke=\"black\" fill=\"white\" stroke-width=\"1\" /><text x=\"134.15515625\" y=\"175.0\" dominant-baseline=\"middle\" text-anchor=\"middle\" font-size=\"14px\" font-family=\"sans\\-serif:style=normal:variant=normal:weight=normal:stretch=normal:size=10.0\">(0)</text><rect x=\"114.15515625\" y=\"405.0\" width=\"40\" height=\"40\" stroke=\"black\" fill=\"white\" stroke-width=\"1\" /><text x=\"134.15515625\" y=\"425.0\" dominant-baseline=\"middle\" text-anchor=\"middle\" font-size=\"18px\" font-family=\"sans\\-serif:style=normal:variant=normal:weight=normal:stretch=normal:size=10.0\">X</text><circle cx=\"194.15515625\" cy=\"25.0\" r=\"10.0\" /><rect x=\"174.15515625\" y=\"55.0\" width=\"40\" height=\"40\" stroke=\"black\" fill=\"white\" stroke-width=\"1\" /><text x=\"194.15515625\" y=\"75.0\" dominant-baseline=\"middle\" text-anchor=\"middle\" font-size=\"14px\" font-family=\"sans\\-serif:style=normal:variant=normal:weight=normal:stretch=normal:size=10.0\">(0)</text><rect x=\"174.15515625\" y=\"105.0\" width=\"40\" height=\"40\" stroke=\"black\" fill=\"white\" stroke-width=\"1\" /><text x=\"194.15515625\" y=\"125.0\" dominant-baseline=\"middle\" text-anchor=\"middle\" font-size=\"14px\" font-family=\"sans\\-serif:style=normal:variant=normal:weight=normal:stretch=normal:size=10.0\">(0)</text><circle cx=\"194.15515625\" cy=\"175.0\" r=\"10.0\" /><rect x=\"174.15515625\" y=\"355.0\" width=\"40\" height=\"40\" stroke=\"black\" fill=\"white\" stroke-width=\"1\" /><text x=\"194.15515625\" y=\"375.0\" dominant-baseline=\"middle\" text-anchor=\"middle\" font-size=\"18px\" font-family=\"sans\\-serif:style=normal:variant=normal:weight=normal:stretch=normal:size=10.0\">X</text><circle cx=\"254.15515625\" cy=\"25.0\" r=\"10.0\" /><rect x=\"234.15515625\" y=\"55.0\" width=\"40\" height=\"40\" stroke=\"black\" fill=\"white\" stroke-width=\"1\" /><text x=\"254.15515625\" y=\"75.0\" dominant-baseline=\"middle\" text-anchor=\"middle\" font-size=\"14px\" font-family=\"sans\\-serif:style=normal:variant=normal:weight=normal:stretch=normal:size=10.0\">(0)</text><circle cx=\"254.15515625\" cy=\"125.0\" r=\"10.0\" /><rect x=\"234.15515625\" y=\"155.0\" width=\"40\" height=\"40\" stroke=\"black\" fill=\"white\" stroke-width=\"1\" /><text x=\"254.15515625\" y=\"175.0\" dominant-baseline=\"middle\" text-anchor=\"middle\" font-size=\"14px\" font-family=\"sans\\-serif:style=normal:variant=normal:weight=normal:stretch=normal:size=10.0\">(0)</text><rect x=\"234.15515625\" y=\"305.0\" width=\"40\" height=\"40\" stroke=\"black\" fill=\"white\" stroke-width=\"1\" /><text x=\"254.15515625\" y=\"325.0\" dominant-baseline=\"middle\" text-anchor=\"middle\" font-size=\"18px\" font-family=\"sans\\-serif:style=normal:variant=normal:weight=normal:stretch=normal:size=10.0\">X</text><circle cx=\"314.15515625\" cy=\"25.0\" r=\"10.0\" /><rect x=\"294.15515625\" y=\"55.0\" width=\"40\" height=\"40\" stroke=\"black\" fill=\"white\" stroke-width=\"1\" /><text x=\"314.15515625\" y=\"75.0\" dominant-baseline=\"middle\" text-anchor=\"middle\" font-size=\"14px\" font-family=\"sans\\-serif:style=normal:variant=normal:weight=normal:stretch=normal:size=10.0\">(0)</text><circle cx=\"314.15515625\" cy=\"125.0\" r=\"10.0\" /><circle cx=\"314.15515625\" cy=\"175.0\" r=\"10.0\" /><rect x=\"294.15515625\" y=\"255.0\" width=\"40\" height=\"40\" stroke=\"black\" fill=\"white\" stroke-width=\"1\" /><text x=\"314.15515625\" y=\"275.0\" dominant-baseline=\"middle\" text-anchor=\"middle\" font-size=\"18px\" font-family=\"sans\\-serif:style=normal:variant=normal:weight=normal:stretch=normal:size=10.0\">X</text><circle cx=\"374.15515625\" cy=\"25.0\" r=\"10.0\" /><circle cx=\"374.15515625\" cy=\"75.0\" r=\"10.0\" /><rect x=\"354.15515625\" y=\"105.0\" width=\"40\" height=\"40\" stroke=\"black\" fill=\"white\" stroke-width=\"1\" /><text x=\"374.15515625\" y=\"125.0\" dominant-baseline=\"middle\" text-anchor=\"middle\" font-size=\"14px\" font-family=\"sans\\-serif:style=normal:variant=normal:weight=normal:stretch=normal:size=10.0\">(0)</text><rect x=\"354.15515625\" y=\"155.0\" width=\"40\" height=\"40\" stroke=\"black\" fill=\"white\" stroke-width=\"1\" /><text x=\"374.15515625\" y=\"175.0\" dominant-baseline=\"middle\" text-anchor=\"middle\" font-size=\"14px\" font-family=\"sans\\-serif:style=normal:variant=normal:weight=normal:stretch=normal:size=10.0\">(0)</text><rect x=\"354.15515625\" y=\"205.0\" width=\"40\" height=\"40\" stroke=\"black\" fill=\"white\" stroke-width=\"1\" /><text x=\"374.15515625\" y=\"225.0\" dominant-baseline=\"middle\" text-anchor=\"middle\" font-size=\"18px\" font-family=\"sans\\-serif:style=normal:variant=normal:weight=normal:stretch=normal:size=10.0\">X</text></svg>"
      ],
      "text/plain": [
       "<cirq.contrib.svg.svg.SVGCircuit at 0x7fd682249e50>"
      ]
     },
     "execution_count": 10,
     "metadata": {},
     "output_type": "execute_result"
    }
   ],
   "source": [
    "import qualtran.cirq_interop.testing as cq_testing\n",
    "tc_not = TotallyControlledNot(3, 5)\n",
    "tc = cq_testing.GateHelper(tc_not)\n",
    "cirq.Circuit((cirq.decompose_once(tc.operation)))\n",
    "SVGCircuit(cirq.Circuit(cirq.decompose_once(tc.operation)))"
   ]
  },
  {
   "cell_type": "markdown",
   "id": "7b28663a",
   "metadata": {},
   "source": [
    "## Tests for Correctness\n",
    "\n",
    "We can use a full statevector simulation to compare the desired statevector to the one generated by the unary iteration circuit for each basis state."
   ]
  },
  {
   "cell_type": "code",
   "execution_count": 11,
   "id": "574c5058",
   "metadata": {},
   "outputs": [
    {
     "name": "stdout",
     "output_type": "stream",
     "text": [
      "n=0 checked!\n",
      "n=1 checked!\n",
      "n=2 checked!\n",
      "n=3 checked!\n",
      "n=4 checked!\n"
     ]
    }
   ],
   "source": [
    "selection_bitsize = 3\n",
    "target_bitsize = 5\n",
    "for n in range(target_bitsize):\n",
    "    # Initial qubit values\n",
    "    qubit_vals = {q: 0 for q in tc.all_qubits}\n",
    "    # All controls 'on' to activate circuit\n",
    "    qubit_vals.update({c: 1 for c in tc.quregs['control']})\n",
    "    # Set selection according to `n`\n",
    "    qubit_vals.update(zip(tc.quregs['selection'], QUInt(selection_bitsize).to_bits(n)))\n",
    "\n",
    "    initial_state = [qubit_vals[x] for x in tc.all_qubits]\n",
    "    final_state = [qubit_vals[x] for x in tc.all_qubits]\n",
    "    final_state[-(n+1)] = 1\n",
    "    cq_testing.assert_circuit_inp_out_cirqsim(\n",
    "        tc.circuit, tc.all_qubits, initial_state, final_state\n",
    "    )\n",
    "    print(f'n={n} checked!')"
   ]
  },
  {
   "cell_type": "markdown",
   "id": "d76fcf8f",
   "metadata": {},
   "source": [
    "## Towards a segment tree \n",
    "\n",
    "Next let's see how we can reduce the circuit to the observe the tree structure.\n",
    "First let's recall what we are trying to do with the controlled not. Given a\n",
    "selection integer (say 3 = 011), we want to toggle the bit in the target\n",
    "register to on if the qubit 1 and 2 are set to on in the selection register."
   ]
  },
  {
   "cell_type": "code",
   "execution_count": 12,
   "id": "3aca2666",
   "metadata": {},
   "outputs": [
    {
     "name": "stdout",
     "output_type": "stream",
     "text": [
      "simulated:  101101000\n",
      "expected :  101101000\n"
     ]
    }
   ],
   "source": [
    "# The selection bits [1-3] are set according to binary representation of the number 3 (011)\n",
    "initial_state = [1, 0, 1, 1, 0, 0, 0, 0, 0]\n",
    "final_state = [1, 0, 1, 1, 0, 1, 0, 0, 0]\n",
    "actual, should_be = cq_testing.get_circuit_inp_out_cirqsim(\n",
    "        tc.circuit, tc.all_qubits, initial_state, final_state\n",
    "    )\n",
    "print(\"simulated: \", actual)\n",
    "print(\"expected : \", should_be)\n"
   ]
  },
  {
   "cell_type": "markdown",
   "id": "4640eeed",
   "metadata": {},
   "source": [
    "Now what is important to note is that we can remove many repeated controlled operations by using ancilla qubits to flag what part of the circuit we need to apply, this works because we know the bit pattern of nearby integers is very similar. \n",
    "\n",
    "A circuit demonstrating this for our example is given below."
   ]
  },
  {
   "cell_type": "code",
   "execution_count": 13,
   "id": "ef853ae7",
   "metadata": {},
   "outputs": [
    {
     "data": {
      "image/svg+xml": [
       "<svg xmlns=\"http://www.w3.org/2000/svg\" width=\"891.5144921875001\" height=\"450.0\"><line x1=\"30.0\" x2=\"861.5144921875001\" y1=\"25.0\" y2=\"25.0\" stroke=\"#1967d2\" stroke-width=\"1\" /><line x1=\"30.0\" x2=\"861.5144921875001\" y1=\"75.0\" y2=\"75.0\" stroke=\"#1967d2\" stroke-width=\"1\" /><line x1=\"30.0\" x2=\"861.5144921875001\" y1=\"125.0\" y2=\"125.0\" stroke=\"#1967d2\" stroke-width=\"1\" /><line x1=\"30.0\" x2=\"861.5144921875001\" y1=\"175.0\" y2=\"175.0\" stroke=\"#1967d2\" stroke-width=\"1\" /><line x1=\"30.0\" x2=\"861.5144921875001\" y1=\"225.0\" y2=\"225.0\" stroke=\"#1967d2\" stroke-width=\"1\" /><line x1=\"30.0\" x2=\"861.5144921875001\" y1=\"275.0\" y2=\"275.0\" stroke=\"#1967d2\" stroke-width=\"1\" /><line x1=\"30.0\" x2=\"861.5144921875001\" y1=\"325.0\" y2=\"325.0\" stroke=\"#1967d2\" stroke-width=\"1\" /><line x1=\"30.0\" x2=\"861.5144921875001\" y1=\"375.0\" y2=\"375.0\" stroke=\"#1967d2\" stroke-width=\"1\" /><line x1=\"30.0\" x2=\"861.5144921875001\" y1=\"425.0\" y2=\"425.0\" stroke=\"#1967d2\" stroke-width=\"1\" /><line x1=\"90.0\" x2=\"90.0\" y1=\"25.0\" y2=\"125.0\" stroke=\"black\" stroke-width=\"3\" /><line x1=\"150.0\" x2=\"150.0\" y1=\"125.0\" y2=\"225.0\" stroke=\"black\" stroke-width=\"3\" /><line x1=\"210.0\" x2=\"210.0\" y1=\"225.0\" y2=\"425.0\" stroke=\"black\" stroke-width=\"3\" /><line x1=\"270.0\" x2=\"270.0\" y1=\"125.0\" y2=\"225.0\" stroke=\"black\" stroke-width=\"3\" /><line x1=\"330.0\" x2=\"330.0\" y1=\"225.0\" y2=\"375.0\" stroke=\"black\" stroke-width=\"3\" /><line x1=\"391.91908203125\" x2=\"391.91908203125\" y1=\"125.0\" y2=\"225.0\" stroke=\"black\" stroke-width=\"3\" /><line x1=\"453.8381640625\" x2=\"453.8381640625\" y1=\"25.0\" y2=\"125.0\" stroke=\"black\" stroke-width=\"3\" /><line x1=\"513.8381640625\" x2=\"513.8381640625\" y1=\"125.0\" y2=\"225.0\" stroke=\"black\" stroke-width=\"3\" /><line x1=\"573.8381640625\" x2=\"573.8381640625\" y1=\"225.0\" y2=\"325.0\" stroke=\"black\" stroke-width=\"3\" /><line x1=\"633.8381640625\" x2=\"633.8381640625\" y1=\"125.0\" y2=\"225.0\" stroke=\"black\" stroke-width=\"3\" /><line x1=\"693.8381640625\" x2=\"693.8381640625\" y1=\"225.0\" y2=\"275.0\" stroke=\"black\" stroke-width=\"3\" /><line x1=\"755.75724609375\" x2=\"755.75724609375\" y1=\"125.0\" y2=\"225.0\" stroke=\"black\" stroke-width=\"3\" /><line x1=\"819.5954101562501\" x2=\"819.5954101562501\" y1=\"25.0\" y2=\"125.0\" stroke=\"black\" stroke-width=\"3\" /><rect x=\"10.0\" y=\"5.0\" width=\"40\" height=\"40\" stroke=\"black\" fill=\"white\" stroke-width=\"0\" /><text x=\"30.0\" y=\"25.0\" dominant-baseline=\"middle\" text-anchor=\"middle\" font-size=\"14px\" font-family=\"sans\\-serif:style=normal:variant=normal:weight=normal:stretch=normal:size=10.0\">0: </text><rect x=\"10.0\" y=\"55.0\" width=\"40\" height=\"40\" stroke=\"black\" fill=\"white\" stroke-width=\"0\" /><text x=\"30.0\" y=\"75.0\" dominant-baseline=\"middle\" text-anchor=\"middle\" font-size=\"14px\" font-family=\"sans\\-serif:style=normal:variant=normal:weight=normal:stretch=normal:size=10.0\">1: </text><rect x=\"10.0\" y=\"105.0\" width=\"40\" height=\"40\" stroke=\"black\" fill=\"white\" stroke-width=\"0\" /><text x=\"30.0\" y=\"125.0\" dominant-baseline=\"middle\" text-anchor=\"middle\" font-size=\"14px\" font-family=\"sans\\-serif:style=normal:variant=normal:weight=normal:stretch=normal:size=10.0\">2: </text><rect x=\"10.0\" y=\"155.0\" width=\"40\" height=\"40\" stroke=\"black\" fill=\"white\" stroke-width=\"0\" /><text x=\"30.0\" y=\"175.0\" dominant-baseline=\"middle\" text-anchor=\"middle\" font-size=\"14px\" font-family=\"sans\\-serif:style=normal:variant=normal:weight=normal:stretch=normal:size=10.0\">3: </text><rect x=\"10.0\" y=\"205.0\" width=\"40\" height=\"40\" stroke=\"black\" fill=\"white\" stroke-width=\"0\" /><text x=\"30.0\" y=\"225.0\" dominant-baseline=\"middle\" text-anchor=\"middle\" font-size=\"14px\" font-family=\"sans\\-serif:style=normal:variant=normal:weight=normal:stretch=normal:size=10.0\">4: </text><rect x=\"10.0\" y=\"255.0\" width=\"40\" height=\"40\" stroke=\"black\" fill=\"white\" stroke-width=\"0\" /><text x=\"30.0\" y=\"275.0\" dominant-baseline=\"middle\" text-anchor=\"middle\" font-size=\"14px\" font-family=\"sans\\-serif:style=normal:variant=normal:weight=normal:stretch=normal:size=10.0\">5: </text><rect x=\"10.0\" y=\"305.0\" width=\"40\" height=\"40\" stroke=\"black\" fill=\"white\" stroke-width=\"0\" /><text x=\"30.0\" y=\"325.0\" dominant-baseline=\"middle\" text-anchor=\"middle\" font-size=\"14px\" font-family=\"sans\\-serif:style=normal:variant=normal:weight=normal:stretch=normal:size=10.0\">6: </text><rect x=\"10.0\" y=\"355.0\" width=\"40\" height=\"40\" stroke=\"black\" fill=\"white\" stroke-width=\"0\" /><text x=\"30.0\" y=\"375.0\" dominant-baseline=\"middle\" text-anchor=\"middle\" font-size=\"14px\" font-family=\"sans\\-serif:style=normal:variant=normal:weight=normal:stretch=normal:size=10.0\">7: </text><rect x=\"10.0\" y=\"405.0\" width=\"40\" height=\"40\" stroke=\"black\" fill=\"white\" stroke-width=\"0\" /><text x=\"30.0\" y=\"425.0\" dominant-baseline=\"middle\" text-anchor=\"middle\" font-size=\"14px\" font-family=\"sans\\-serif:style=normal:variant=normal:weight=normal:stretch=normal:size=10.0\">8: </text><circle cx=\"90.0\" cy=\"25.0\" r=\"10.0\" /><rect x=\"70.0\" y=\"55.0\" width=\"40\" height=\"40\" stroke=\"black\" fill=\"white\" stroke-width=\"1\" /><text x=\"90.0\" y=\"75.0\" dominant-baseline=\"middle\" text-anchor=\"middle\" font-size=\"14px\" font-family=\"sans\\-serif:style=normal:variant=normal:weight=normal:stretch=normal:size=10.0\">(0)</text><rect x=\"70.0\" y=\"105.0\" width=\"40\" height=\"40\" stroke=\"black\" fill=\"white\" stroke-width=\"1\" /><text x=\"90.0\" y=\"125.0\" dominant-baseline=\"middle\" text-anchor=\"middle\" font-size=\"14px\" font-family=\"sans\\-serif:style=normal:variant=normal:weight=normal:stretch=normal:size=10.0\">And</text><circle cx=\"150.0\" cy=\"125.0\" r=\"10.0\" /><rect x=\"130.0\" y=\"155.0\" width=\"40\" height=\"40\" stroke=\"black\" fill=\"white\" stroke-width=\"1\" /><text x=\"150.0\" y=\"175.0\" dominant-baseline=\"middle\" text-anchor=\"middle\" font-size=\"14px\" font-family=\"sans\\-serif:style=normal:variant=normal:weight=normal:stretch=normal:size=10.0\">(0)</text><rect x=\"130.0\" y=\"205.0\" width=\"40\" height=\"40\" stroke=\"black\" fill=\"white\" stroke-width=\"1\" /><text x=\"150.0\" y=\"225.0\" dominant-baseline=\"middle\" text-anchor=\"middle\" font-size=\"14px\" font-family=\"sans\\-serif:style=normal:variant=normal:weight=normal:stretch=normal:size=10.0\">And</text><circle cx=\"210.0\" cy=\"225.0\" r=\"10.0\" /><rect x=\"190.0\" y=\"405.0\" width=\"40\" height=\"40\" stroke=\"black\" fill=\"white\" stroke-width=\"1\" /><text x=\"210.0\" y=\"425.0\" dominant-baseline=\"middle\" text-anchor=\"middle\" font-size=\"18px\" font-family=\"sans\\-serif:style=normal:variant=normal:weight=normal:stretch=normal:size=10.0\">X</text><circle cx=\"270.0\" cy=\"125.0\" r=\"10.0\" /><rect x=\"250.0\" y=\"205.0\" width=\"40\" height=\"40\" stroke=\"black\" fill=\"white\" stroke-width=\"1\" /><text x=\"270.0\" y=\"225.0\" dominant-baseline=\"middle\" text-anchor=\"middle\" font-size=\"18px\" font-family=\"sans\\-serif:style=normal:variant=normal:weight=normal:stretch=normal:size=10.0\">X</text><circle cx=\"330.0\" cy=\"225.0\" r=\"10.0\" /><rect x=\"310.0\" y=\"355.0\" width=\"40\" height=\"40\" stroke=\"black\" fill=\"white\" stroke-width=\"1\" /><text x=\"330.0\" y=\"375.0\" dominant-baseline=\"middle\" text-anchor=\"middle\" font-size=\"18px\" font-family=\"sans\\-serif:style=normal:variant=normal:weight=normal:stretch=normal:size=10.0\">X</text><circle cx=\"391.91908203125\" cy=\"125.0\" r=\"10.0\" /><circle cx=\"391.91908203125\" cy=\"175.0\" r=\"10.0\" /><rect x=\"370.0\" y=\"205.0\" width=\"43.838164062500006\" height=\"40\" stroke=\"black\" fill=\"white\" stroke-width=\"1\" /><text x=\"391.91908203125\" y=\"225.0\" dominant-baseline=\"middle\" text-anchor=\"middle\" font-size=\"14px\" font-family=\"sans\\-serif:style=normal:variant=normal:weight=normal:stretch=normal:size=10.0\">And†</text><circle cx=\"453.8381640625\" cy=\"25.0\" r=\"10.0\" /><rect x=\"433.8381640625\" y=\"105.0\" width=\"40\" height=\"40\" stroke=\"black\" fill=\"white\" stroke-width=\"1\" /><text x=\"453.8381640625\" y=\"125.0\" dominant-baseline=\"middle\" text-anchor=\"middle\" font-size=\"18px\" font-family=\"sans\\-serif:style=normal:variant=normal:weight=normal:stretch=normal:size=10.0\">X</text><circle cx=\"513.8381640625\" cy=\"125.0\" r=\"10.0\" /><rect x=\"493.8381640625\" y=\"155.0\" width=\"40\" height=\"40\" stroke=\"black\" fill=\"white\" stroke-width=\"1\" /><text x=\"513.8381640625\" y=\"175.0\" dominant-baseline=\"middle\" text-anchor=\"middle\" font-size=\"14px\" font-family=\"sans\\-serif:style=normal:variant=normal:weight=normal:stretch=normal:size=10.0\">(0)</text><rect x=\"493.8381640625\" y=\"205.0\" width=\"40\" height=\"40\" stroke=\"black\" fill=\"white\" stroke-width=\"1\" /><text x=\"513.8381640625\" y=\"225.0\" dominant-baseline=\"middle\" text-anchor=\"middle\" font-size=\"14px\" font-family=\"sans\\-serif:style=normal:variant=normal:weight=normal:stretch=normal:size=10.0\">And</text><circle cx=\"573.8381640625\" cy=\"225.0\" r=\"10.0\" /><rect x=\"553.8381640625\" y=\"305.0\" width=\"40\" height=\"40\" stroke=\"black\" fill=\"white\" stroke-width=\"1\" /><text x=\"573.8381640625\" y=\"325.0\" dominant-baseline=\"middle\" text-anchor=\"middle\" font-size=\"18px\" font-family=\"sans\\-serif:style=normal:variant=normal:weight=normal:stretch=normal:size=10.0\">X</text><circle cx=\"633.8381640625\" cy=\"125.0\" r=\"10.0\" /><rect x=\"613.8381640625\" y=\"205.0\" width=\"40\" height=\"40\" stroke=\"black\" fill=\"white\" stroke-width=\"1\" /><text x=\"633.8381640625\" y=\"225.0\" dominant-baseline=\"middle\" text-anchor=\"middle\" font-size=\"18px\" font-family=\"sans\\-serif:style=normal:variant=normal:weight=normal:stretch=normal:size=10.0\">X</text><circle cx=\"693.8381640625\" cy=\"225.0\" r=\"10.0\" /><rect x=\"673.8381640625\" y=\"255.0\" width=\"40\" height=\"40\" stroke=\"black\" fill=\"white\" stroke-width=\"1\" /><text x=\"693.8381640625\" y=\"275.0\" dominant-baseline=\"middle\" text-anchor=\"middle\" font-size=\"18px\" font-family=\"sans\\-serif:style=normal:variant=normal:weight=normal:stretch=normal:size=10.0\">X</text><circle cx=\"755.75724609375\" cy=\"125.0\" r=\"10.0\" /><circle cx=\"755.75724609375\" cy=\"175.0\" r=\"10.0\" /><rect x=\"733.8381640625\" y=\"205.0\" width=\"43.838164062500006\" height=\"40\" stroke=\"black\" fill=\"white\" stroke-width=\"1\" /><text x=\"755.75724609375\" y=\"225.0\" dominant-baseline=\"middle\" text-anchor=\"middle\" font-size=\"14px\" font-family=\"sans\\-serif:style=normal:variant=normal:weight=normal:stretch=normal:size=10.0\">And†</text><circle cx=\"819.5954101562501\" cy=\"25.0\" r=\"10.0\" /><circle cx=\"819.5954101562501\" cy=\"75.0\" r=\"10.0\" /><rect x=\"797.676328125\" y=\"105.0\" width=\"43.838164062500006\" height=\"40\" stroke=\"black\" fill=\"white\" stroke-width=\"1\" /><text x=\"819.5954101562501\" y=\"125.0\" dominant-baseline=\"middle\" text-anchor=\"middle\" font-size=\"14px\" font-family=\"sans\\-serif:style=normal:variant=normal:weight=normal:stretch=normal:size=10.0\">And†</text></svg>"
      ],
      "text/plain": [
       "<cirq.contrib.svg.svg.SVGCircuit at 0x7fd6787a3650>"
      ]
     },
     "execution_count": 13,
     "metadata": {},
     "output_type": "execute_result"
    }
   ],
   "source": [
    "from qualtran.bloqs.mcmt import And\n",
    "\n",
    "selection_bitsize = 2\n",
    "target_bitsize = 4\n",
    "qubits = cirq.LineQubit(0).range(1 + selection_bitsize * 2 + target_bitsize)\n",
    "circuit = cirq.Circuit()\n",
    "circuit.append(\n",
    "    [\n",
    "        And(1, 0).on(qubits[0], qubits[1], qubits[2]),\n",
    "        And(1, 0).on(qubits[2], qubits[3], qubits[4]),\n",
    "        cirq.CX(qubits[4], qubits[8]),\n",
    "        cirq.CNOT(qubits[2], qubits[4]),\n",
    "        cirq.CX(qubits[4], qubits[7]),\n",
    "        And().adjoint().on(qubits[2], qubits[3], qubits[4]),\n",
    "        cirq.CNOT(qubits[0], qubits[2]),\n",
    "        And(1, 0).on(qubits[2], qubits[3], qubits[4]),\n",
    "        cirq.CX(qubits[4], qubits[6]),\n",
    "        cirq.CNOT(qubits[2], qubits[4]),\n",
    "        cirq.CX(qubits[4], qubits[5]),\n",
    "        And().adjoint().on(qubits[2], qubits[3], qubits[4]),\n",
    "        And().adjoint().on(qubits[0], qubits[1], qubits[2]),\n",
    "    ]\n",
    ")\n",
    "\n",
    "SVGCircuit(circuit)"
   ]
  },
  {
   "cell_type": "markdown",
   "id": "b9d45d52",
   "metadata": {},
   "source": [
    "Reading from left to right we first check the control is set to on and the selection qubit is off, if both these conditions are met then the ancilla qubit is now set to 1. The next control checks if the previous condition was met and likewise the second selection index is also off. At this point if both these conditions are met we must be indexing 0 as the first two qubits are set to off (00), otherwise we know that we want to apply X to qubit 1 so we perform a CNOT operation to flip the bit value in the second ancilla qubit, before returning back up the circuit. Now if the left half of the circuit was not applied (i.e. the first selection register was set to 1) then the CNOT between the control qubit and the first ancilla qubit causes the ancilla qubit to toggle on. This triggers the right side of the circuit, which now performs the previously described operations to figure out if the lowest bit is set. Combining these two then yields the expected controlled X operation. \n",
    "\n",
    "Below we check the circuit is giving the expected behaviour."
   ]
  },
  {
   "cell_type": "code",
   "execution_count": 14,
   "id": "83d1287d",
   "metadata": {},
   "outputs": [
    {
     "name": "stdout",
     "output_type": "stream",
     "text": [
      "simulated: 110101000, index set in string 5\n"
     ]
    }
   ],
   "source": [
    "initial_state = [1, 0, 0, 0, 0, 0, 0, 0, 0]\n",
    "target_indx = 3\n",
    "sel_bits = QUInt(selection_bitsize).to_bits(target_indx)\n",
    "sel_indices = [i for i in range(1, 2*selection_bitsize+1, 2)]\n",
    "initial_state[sel_indices[0]] = sel_bits[0]\n",
    "initial_state[sel_indices[1]] = sel_bits[1]\n",
    "result = cirq.Simulator(dtype=np.complex128).simulate(\n",
    "    circuit, initial_state=initial_state\n",
    ")\n",
    "actual = result.dirac_notation(decimals=2)[1:-1]\n",
    "print(\"simulated: {}, index set in string {}\".format(actual, len(qubits)-1-target_indx))"
   ]
  },
  {
   "cell_type": "markdown",
   "id": "a86e0d42",
   "metadata": {},
   "source": [
    "Extending the above idea to larger ranges of integers is relatively straightforward. For example consider the next simplest case of $L=8 = 2^3$. The circuit above takes care of the last two bits and can be duplicated. For the extra bit we just need to add a additional `AND` operations, and a CNOT to switch between the original range `[0,3]` or the new range `[4,7]` depending on whether the new selection register is off or on respectively. This procedure can be repeated and we can begin to notice the recursive tree-like structure. \n",
    "\n",
    "This structure is just the segtree described previously for boolean logic and this gives is the basic idea of unary iteration, \n",
    "which uses `L-1` `AND` operations. Below the `ApplyXToLthQubit` builds the controlled Not operation using the `UnaryIterationGate` as a base class which defines the `decompose_from_registers` method appropriately to recursively construct the unary iteration circuit.\n",
    "\n",
    "Note below a different ordering of ancilla and selection qubits is taken to what was used in the simpler `L=4` example."
   ]
  },
  {
   "cell_type": "code",
   "execution_count": 15,
   "id": "9cba52b1",
   "metadata": {},
   "outputs": [],
   "source": [
    "from qualtran import QAny, Register, Register, BQUInt\n",
    "from qualtran.bloqs.multiplexers.unary_iteration_bloq import UnaryIterationGate\n",
    "from functools import cached_property\n",
    "\n",
    "\n",
    "\n",
    "class ApplyXToLthQubit(UnaryIterationGate):\n",
    "    def __init__(self, selection_bitsize: int, target_bitsize: int, control_bitsize: int = 1):\n",
    "        self._selection_bitsize = selection_bitsize\n",
    "        self._target_bitsize = target_bitsize\n",
    "        self._control_bitsize = control_bitsize\n",
    "\n",
    "    @cached_property\n",
    "    def control_registers(self) -> Tuple[Register, ...]:\n",
    "        return (Register('control', QAny(self._control_bitsize)),)\n",
    "\n",
    "    @cached_property\n",
    "    def selection_registers(self) -> Tuple[Register, ...]:\n",
    "        return (Register('selection', BQUInt(self._selection_bitsize, self._target_bitsize)),)\n",
    "\n",
    "    @cached_property\n",
    "    def target_registers(self) -> Tuple[Register, ...]:\n",
    "        return (Register('target', QAny(self._target_bitsize)),)\n",
    "\n",
    "    def nth_operation(\n",
    "        self, context, control: cirq.Qid, selection: int, target: Sequence[cirq.Qid]\n",
    "    ) -> cirq.OP_TREE:\n",
    "        return cirq.CNOT(control, target[-(selection + 1)])"
   ]
  },
  {
   "cell_type": "code",
   "execution_count": 16,
   "id": "a1e4bafa",
   "metadata": {},
   "outputs": [
    {
     "data": {
      "image/svg+xml": [
       "<svg xmlns=\"http://www.w3.org/2000/svg\" width=\"1337.5896875\" height=\"600.0\"><line x1=\"131.11851562500001\" x2=\"1307.5896875\" y1=\"25.0\" y2=\"25.0\" stroke=\"#1967d2\" stroke-width=\"1\" /><line x1=\"131.11851562500001\" x2=\"1307.5896875\" y1=\"75.0\" y2=\"75.0\" stroke=\"#1967d2\" stroke-width=\"1\" /><line x1=\"131.11851562500001\" x2=\"1307.5896875\" y1=\"125.0\" y2=\"125.0\" stroke=\"#1967d2\" stroke-width=\"1\" /><line x1=\"131.11851562500001\" x2=\"1307.5896875\" y1=\"175.0\" y2=\"175.0\" stroke=\"#1967d2\" stroke-width=\"1\" /><line x1=\"131.11851562500001\" x2=\"1307.5896875\" y1=\"225.0\" y2=\"225.0\" stroke=\"#1967d2\" stroke-width=\"1\" /><line x1=\"131.11851562500001\" x2=\"1307.5896875\" y1=\"275.0\" y2=\"275.0\" stroke=\"#1967d2\" stroke-width=\"1\" /><line x1=\"131.11851562500001\" x2=\"1307.5896875\" y1=\"325.0\" y2=\"325.0\" stroke=\"#1967d2\" stroke-width=\"1\" /><line x1=\"131.11851562500001\" x2=\"1307.5896875\" y1=\"375.0\" y2=\"375.0\" stroke=\"#1967d2\" stroke-width=\"1\" /><line x1=\"131.11851562500001\" x2=\"1307.5896875\" y1=\"425.0\" y2=\"425.0\" stroke=\"#1967d2\" stroke-width=\"1\" /><line x1=\"131.11851562500001\" x2=\"1307.5896875\" y1=\"475.0\" y2=\"475.0\" stroke=\"#1967d2\" stroke-width=\"1\" /><line x1=\"131.11851562500001\" x2=\"1307.5896875\" y1=\"525.0\" y2=\"525.0\" stroke=\"#1967d2\" stroke-width=\"1\" /><line x1=\"131.11851562500001\" x2=\"1307.5896875\" y1=\"575.0\" y2=\"575.0\" stroke=\"#1967d2\" stroke-width=\"1\" /><line x1=\"292.23703125000003\" x2=\"292.23703125000003\" y1=\"25.0\" y2=\"225.0\" stroke=\"black\" stroke-width=\"3\" /><line x1=\"352.23703125000003\" x2=\"352.23703125000003\" y1=\"25.0\" y2=\"275.0\" stroke=\"black\" stroke-width=\"3\" /><line x1=\"412.23703125000003\" x2=\"412.23703125000003\" y1=\"75.0\" y2=\"325.0\" stroke=\"black\" stroke-width=\"3\" /><line x1=\"472.23703125000003\" x2=\"472.23703125000003\" y1=\"125.0\" y2=\"575.0\" stroke=\"black\" stroke-width=\"3\" /><line x1=\"532.23703125\" x2=\"532.23703125\" y1=\"75.0\" y2=\"125.0\" stroke=\"black\" stroke-width=\"3\" /><line x1=\"592.23703125\" x2=\"592.23703125\" y1=\"125.0\" y2=\"525.0\" stroke=\"black\" stroke-width=\"3\" /><line x1=\"654.15611328125\" x2=\"654.15611328125\" y1=\"75.0\" y2=\"325.0\" stroke=\"black\" stroke-width=\"3\" /><line x1=\"716.0751953125\" x2=\"716.0751953125\" y1=\"25.0\" y2=\"75.0\" stroke=\"black\" stroke-width=\"3\" /><line x1=\"776.0751953125\" x2=\"776.0751953125\" y1=\"75.0\" y2=\"325.0\" stroke=\"black\" stroke-width=\"3\" /><line x1=\"836.0751953125\" x2=\"836.0751953125\" y1=\"125.0\" y2=\"475.0\" stroke=\"black\" stroke-width=\"3\" /><line x1=\"896.0751953125\" x2=\"896.0751953125\" y1=\"75.0\" y2=\"125.0\" stroke=\"black\" stroke-width=\"3\" /><line x1=\"956.0751953125\" x2=\"956.0751953125\" y1=\"125.0\" y2=\"425.0\" stroke=\"black\" stroke-width=\"3\" /><line x1=\"1017.99427734375\" x2=\"1017.99427734375\" y1=\"75.0\" y2=\"325.0\" stroke=\"black\" stroke-width=\"3\" /><line x1=\"1081.83244140625\" x2=\"1081.83244140625\" y1=\"25.0\" y2=\"275.0\" stroke=\"black\" stroke-width=\"3\" /><line x1=\"1143.7515234375\" x2=\"1143.7515234375\" y1=\"25.0\" y2=\"175.0\" stroke=\"black\" stroke-width=\"3\" /><line x1=\"1203.7515234375\" x2=\"1203.7515234375\" y1=\"25.0\" y2=\"375.0\" stroke=\"black\" stroke-width=\"3\" /><line x1=\"1265.67060546875\" x2=\"1265.67060546875\" y1=\"25.0\" y2=\"225.0\" stroke=\"black\" stroke-width=\"3\" /><rect x=\"10.0\" y=\"5.0\" width=\"242.23703125000003\" height=\"40\" stroke=\"black\" fill=\"white\" stroke-width=\"0\" /><text x=\"131.11851562500001\" y=\"25.0\" dominant-baseline=\"middle\" text-anchor=\"middle\" font-size=\"14px\" font-family=\"sans\\-serif:style=normal:variant=normal:weight=normal:stretch=normal:size=10.0\">_decompose_protocol_2043_c(0): </text><rect x=\"10.0\" y=\"55.0\" width=\"242.23703125000003\" height=\"40\" stroke=\"black\" fill=\"white\" stroke-width=\"0\" /><text x=\"131.11851562500001\" y=\"75.0\" dominant-baseline=\"middle\" text-anchor=\"middle\" font-size=\"14px\" font-family=\"sans\\-serif:style=normal:variant=normal:weight=normal:stretch=normal:size=10.0\">_decompose_protocol_2043_c(1): </text><rect x=\"10.0\" y=\"105.0\" width=\"242.23703125000003\" height=\"40\" stroke=\"black\" fill=\"white\" stroke-width=\"0\" /><text x=\"131.11851562500001\" y=\"125.0\" dominant-baseline=\"middle\" text-anchor=\"middle\" font-size=\"14px\" font-family=\"sans\\-serif:style=normal:variant=normal:weight=normal:stretch=normal:size=10.0\">_decompose_protocol_2043_c(2): </text><rect x=\"10.0\" y=\"155.0\" width=\"242.23703125000003\" height=\"40\" stroke=\"black\" fill=\"white\" stroke-width=\"0\" /><text x=\"131.11851562500001\" y=\"175.0\" dominant-baseline=\"middle\" text-anchor=\"middle\" font-size=\"14px\" font-family=\"sans\\-serif:style=normal:variant=normal:weight=normal:stretch=normal:size=10.0\">control: </text><rect x=\"10.0\" y=\"205.0\" width=\"242.23703125000003\" height=\"40\" stroke=\"black\" fill=\"white\" stroke-width=\"0\" /><text x=\"131.11851562500001\" y=\"225.0\" dominant-baseline=\"middle\" text-anchor=\"middle\" font-size=\"14px\" font-family=\"sans\\-serif:style=normal:variant=normal:weight=normal:stretch=normal:size=10.0\">selection0: </text><rect x=\"10.0\" y=\"255.0\" width=\"242.23703125000003\" height=\"40\" stroke=\"black\" fill=\"white\" stroke-width=\"0\" /><text x=\"131.11851562500001\" y=\"275.0\" dominant-baseline=\"middle\" text-anchor=\"middle\" font-size=\"14px\" font-family=\"sans\\-serif:style=normal:variant=normal:weight=normal:stretch=normal:size=10.0\">selection1: </text><rect x=\"10.0\" y=\"305.0\" width=\"242.23703125000003\" height=\"40\" stroke=\"black\" fill=\"white\" stroke-width=\"0\" /><text x=\"131.11851562500001\" y=\"325.0\" dominant-baseline=\"middle\" text-anchor=\"middle\" font-size=\"14px\" font-family=\"sans\\-serif:style=normal:variant=normal:weight=normal:stretch=normal:size=10.0\">selection2: </text><rect x=\"10.0\" y=\"355.0\" width=\"242.23703125000003\" height=\"40\" stroke=\"black\" fill=\"white\" stroke-width=\"0\" /><text x=\"131.11851562500001\" y=\"375.0\" dominant-baseline=\"middle\" text-anchor=\"middle\" font-size=\"14px\" font-family=\"sans\\-serif:style=normal:variant=normal:weight=normal:stretch=normal:size=10.0\">target0: </text><rect x=\"10.0\" y=\"405.0\" width=\"242.23703125000003\" height=\"40\" stroke=\"black\" fill=\"white\" stroke-width=\"0\" /><text x=\"131.11851562500001\" y=\"425.0\" dominant-baseline=\"middle\" text-anchor=\"middle\" font-size=\"14px\" font-family=\"sans\\-serif:style=normal:variant=normal:weight=normal:stretch=normal:size=10.0\">target1: </text><rect x=\"10.0\" y=\"455.0\" width=\"242.23703125000003\" height=\"40\" stroke=\"black\" fill=\"white\" stroke-width=\"0\" /><text x=\"131.11851562500001\" y=\"475.0\" dominant-baseline=\"middle\" text-anchor=\"middle\" font-size=\"14px\" font-family=\"sans\\-serif:style=normal:variant=normal:weight=normal:stretch=normal:size=10.0\">target2: </text><rect x=\"10.0\" y=\"505.0\" width=\"242.23703125000003\" height=\"40\" stroke=\"black\" fill=\"white\" stroke-width=\"0\" /><text x=\"131.11851562500001\" y=\"525.0\" dominant-baseline=\"middle\" text-anchor=\"middle\" font-size=\"14px\" font-family=\"sans\\-serif:style=normal:variant=normal:weight=normal:stretch=normal:size=10.0\">target3: </text><rect x=\"10.0\" y=\"555.0\" width=\"242.23703125000003\" height=\"40\" stroke=\"black\" fill=\"white\" stroke-width=\"0\" /><text x=\"131.11851562500001\" y=\"575.0\" dominant-baseline=\"middle\" text-anchor=\"middle\" font-size=\"14px\" font-family=\"sans\\-serif:style=normal:variant=normal:weight=normal:stretch=normal:size=10.0\">target4: </text><circle cx=\"292.23703125000003\" cy=\"175.0\" r=\"10.0\" /><rect x=\"272.23703125000003\" y=\"205.0\" width=\"40\" height=\"40\" stroke=\"black\" fill=\"white\" stroke-width=\"1\" /><text x=\"292.23703125000003\" y=\"225.0\" dominant-baseline=\"middle\" text-anchor=\"middle\" font-size=\"14px\" font-family=\"sans\\-serif:style=normal:variant=normal:weight=normal:stretch=normal:size=10.0\">(0)</text><rect x=\"272.23703125000003\" y=\"5.0\" width=\"40\" height=\"40\" stroke=\"black\" fill=\"white\" stroke-width=\"1\" /><text x=\"292.23703125000003\" y=\"25.0\" dominant-baseline=\"middle\" text-anchor=\"middle\" font-size=\"14px\" font-family=\"sans\\-serif:style=normal:variant=normal:weight=normal:stretch=normal:size=10.0\">And</text><circle cx=\"352.23703125000003\" cy=\"25.0\" r=\"10.0\" /><rect x=\"332.23703125000003\" y=\"255.0\" width=\"40\" height=\"40\" stroke=\"black\" fill=\"white\" stroke-width=\"1\" /><text x=\"352.23703125000003\" y=\"275.0\" dominant-baseline=\"middle\" text-anchor=\"middle\" font-size=\"14px\" font-family=\"sans\\-serif:style=normal:variant=normal:weight=normal:stretch=normal:size=10.0\">(0)</text><rect x=\"332.23703125000003\" y=\"55.0\" width=\"40\" height=\"40\" stroke=\"black\" fill=\"white\" stroke-width=\"1\" /><text x=\"352.23703125000003\" y=\"75.0\" dominant-baseline=\"middle\" text-anchor=\"middle\" font-size=\"14px\" font-family=\"sans\\-serif:style=normal:variant=normal:weight=normal:stretch=normal:size=10.0\">And</text><circle cx=\"412.23703125000003\" cy=\"75.0\" r=\"10.0\" /><rect x=\"392.23703125000003\" y=\"305.0\" width=\"40\" height=\"40\" stroke=\"black\" fill=\"white\" stroke-width=\"1\" /><text x=\"412.23703125000003\" y=\"325.0\" dominant-baseline=\"middle\" text-anchor=\"middle\" font-size=\"14px\" font-family=\"sans\\-serif:style=normal:variant=normal:weight=normal:stretch=normal:size=10.0\">(0)</text><rect x=\"392.23703125000003\" y=\"105.0\" width=\"40\" height=\"40\" stroke=\"black\" fill=\"white\" stroke-width=\"1\" /><text x=\"412.23703125000003\" y=\"125.0\" dominant-baseline=\"middle\" text-anchor=\"middle\" font-size=\"14px\" font-family=\"sans\\-serif:style=normal:variant=normal:weight=normal:stretch=normal:size=10.0\">And</text><circle cx=\"472.23703125000003\" cy=\"125.0\" r=\"10.0\" /><rect x=\"452.23703125000003\" y=\"555.0\" width=\"40\" height=\"40\" stroke=\"black\" fill=\"white\" stroke-width=\"1\" /><text x=\"472.23703125000003\" y=\"575.0\" dominant-baseline=\"middle\" text-anchor=\"middle\" font-size=\"18px\" font-family=\"sans\\-serif:style=normal:variant=normal:weight=normal:stretch=normal:size=10.0\">X</text><circle cx=\"532.23703125\" cy=\"75.0\" r=\"10.0\" /><rect x=\"512.23703125\" y=\"105.0\" width=\"40\" height=\"40\" stroke=\"black\" fill=\"white\" stroke-width=\"1\" /><text x=\"532.23703125\" y=\"125.0\" dominant-baseline=\"middle\" text-anchor=\"middle\" font-size=\"18px\" font-family=\"sans\\-serif:style=normal:variant=normal:weight=normal:stretch=normal:size=10.0\">X</text><circle cx=\"592.23703125\" cy=\"125.0\" r=\"10.0\" /><rect x=\"572.23703125\" y=\"505.0\" width=\"40\" height=\"40\" stroke=\"black\" fill=\"white\" stroke-width=\"1\" /><text x=\"592.23703125\" y=\"525.0\" dominant-baseline=\"middle\" text-anchor=\"middle\" font-size=\"18px\" font-family=\"sans\\-serif:style=normal:variant=normal:weight=normal:stretch=normal:size=10.0\">X</text><circle cx=\"654.15611328125\" cy=\"75.0\" r=\"10.0\" /><circle cx=\"654.15611328125\" cy=\"325.0\" r=\"10.0\" /><rect x=\"632.23703125\" y=\"105.0\" width=\"43.838164062500006\" height=\"40\" stroke=\"black\" fill=\"white\" stroke-width=\"1\" /><text x=\"654.15611328125\" y=\"125.0\" dominant-baseline=\"middle\" text-anchor=\"middle\" font-size=\"14px\" font-family=\"sans\\-serif:style=normal:variant=normal:weight=normal:stretch=normal:size=10.0\">And†</text><circle cx=\"716.0751953125\" cy=\"25.0\" r=\"10.0\" /><rect x=\"696.0751953125\" y=\"55.0\" width=\"40\" height=\"40\" stroke=\"black\" fill=\"white\" stroke-width=\"1\" /><text x=\"716.0751953125\" y=\"75.0\" dominant-baseline=\"middle\" text-anchor=\"middle\" font-size=\"18px\" font-family=\"sans\\-serif:style=normal:variant=normal:weight=normal:stretch=normal:size=10.0\">X</text><circle cx=\"776.0751953125\" cy=\"75.0\" r=\"10.0\" /><rect x=\"756.0751953125\" y=\"305.0\" width=\"40\" height=\"40\" stroke=\"black\" fill=\"white\" stroke-width=\"1\" /><text x=\"776.0751953125\" y=\"325.0\" dominant-baseline=\"middle\" text-anchor=\"middle\" font-size=\"14px\" font-family=\"sans\\-serif:style=normal:variant=normal:weight=normal:stretch=normal:size=10.0\">(0)</text><rect x=\"756.0751953125\" y=\"105.0\" width=\"40\" height=\"40\" stroke=\"black\" fill=\"white\" stroke-width=\"1\" /><text x=\"776.0751953125\" y=\"125.0\" dominant-baseline=\"middle\" text-anchor=\"middle\" font-size=\"14px\" font-family=\"sans\\-serif:style=normal:variant=normal:weight=normal:stretch=normal:size=10.0\">And</text><circle cx=\"836.0751953125\" cy=\"125.0\" r=\"10.0\" /><rect x=\"816.0751953125\" y=\"455.0\" width=\"40\" height=\"40\" stroke=\"black\" fill=\"white\" stroke-width=\"1\" /><text x=\"836.0751953125\" y=\"475.0\" dominant-baseline=\"middle\" text-anchor=\"middle\" font-size=\"18px\" font-family=\"sans\\-serif:style=normal:variant=normal:weight=normal:stretch=normal:size=10.0\">X</text><circle cx=\"896.0751953125\" cy=\"75.0\" r=\"10.0\" /><rect x=\"876.0751953125\" y=\"105.0\" width=\"40\" height=\"40\" stroke=\"black\" fill=\"white\" stroke-width=\"1\" /><text x=\"896.0751953125\" y=\"125.0\" dominant-baseline=\"middle\" text-anchor=\"middle\" font-size=\"18px\" font-family=\"sans\\-serif:style=normal:variant=normal:weight=normal:stretch=normal:size=10.0\">X</text><circle cx=\"956.0751953125\" cy=\"125.0\" r=\"10.0\" /><rect x=\"936.0751953125\" y=\"405.0\" width=\"40\" height=\"40\" stroke=\"black\" fill=\"white\" stroke-width=\"1\" /><text x=\"956.0751953125\" y=\"425.0\" dominant-baseline=\"middle\" text-anchor=\"middle\" font-size=\"18px\" font-family=\"sans\\-serif:style=normal:variant=normal:weight=normal:stretch=normal:size=10.0\">X</text><circle cx=\"1017.99427734375\" cy=\"75.0\" r=\"10.0\" /><circle cx=\"1017.99427734375\" cy=\"325.0\" r=\"10.0\" /><rect x=\"996.0751953125\" y=\"105.0\" width=\"43.838164062500006\" height=\"40\" stroke=\"black\" fill=\"white\" stroke-width=\"1\" /><text x=\"1017.99427734375\" y=\"125.0\" dominant-baseline=\"middle\" text-anchor=\"middle\" font-size=\"14px\" font-family=\"sans\\-serif:style=normal:variant=normal:weight=normal:stretch=normal:size=10.0\">And†</text><circle cx=\"1081.83244140625\" cy=\"25.0\" r=\"10.0\" /><circle cx=\"1081.83244140625\" cy=\"275.0\" r=\"10.0\" /><rect x=\"1059.913359375\" y=\"55.0\" width=\"43.838164062500006\" height=\"40\" stroke=\"black\" fill=\"white\" stroke-width=\"1\" /><text x=\"1081.83244140625\" y=\"75.0\" dominant-baseline=\"middle\" text-anchor=\"middle\" font-size=\"14px\" font-family=\"sans\\-serif:style=normal:variant=normal:weight=normal:stretch=normal:size=10.0\">And†</text><circle cx=\"1143.7515234375\" cy=\"175.0\" r=\"10.0\" /><rect x=\"1123.7515234375\" y=\"5.0\" width=\"40\" height=\"40\" stroke=\"black\" fill=\"white\" stroke-width=\"1\" /><text x=\"1143.7515234375\" y=\"25.0\" dominant-baseline=\"middle\" text-anchor=\"middle\" font-size=\"18px\" font-family=\"sans\\-serif:style=normal:variant=normal:weight=normal:stretch=normal:size=10.0\">X</text><circle cx=\"1203.7515234375\" cy=\"25.0\" r=\"10.0\" /><rect x=\"1183.7515234375\" y=\"355.0\" width=\"40\" height=\"40\" stroke=\"black\" fill=\"white\" stroke-width=\"1\" /><text x=\"1203.7515234375\" y=\"375.0\" dominant-baseline=\"middle\" text-anchor=\"middle\" font-size=\"18px\" font-family=\"sans\\-serif:style=normal:variant=normal:weight=normal:stretch=normal:size=10.0\">X</text><circle cx=\"1265.67060546875\" cy=\"175.0\" r=\"10.0\" /><circle cx=\"1265.67060546875\" cy=\"225.0\" r=\"10.0\" /><rect x=\"1243.7515234375\" y=\"5.0\" width=\"43.838164062500006\" height=\"40\" stroke=\"black\" fill=\"white\" stroke-width=\"1\" /><text x=\"1265.67060546875\" y=\"25.0\" dominant-baseline=\"middle\" text-anchor=\"middle\" font-size=\"14px\" font-family=\"sans\\-serif:style=normal:variant=normal:weight=normal:stretch=normal:size=10.0\">And†</text></svg>"
      ],
      "text/plain": [
       "<cirq.contrib.svg.svg.SVGCircuit at 0x7fd67875cb50>"
      ]
     },
     "execution_count": 16,
     "metadata": {},
     "output_type": "execute_result"
    }
   ],
   "source": [
    "import qualtran.cirq_interop.testing as cq_testing\n",
    "selection_bitsize = 3\n",
    "target_bitsize = 5\n",
    "\n",
    "g = cq_testing.GateHelper(\n",
    "    ApplyXToLthQubit(selection_bitsize, target_bitsize))\n",
    "SVGCircuit(cirq.Circuit(cirq.decompose_once(g.operation)))"
   ]
  },
  {
   "cell_type": "markdown",
   "id": "13773620",
   "metadata": {},
   "source": [
    "## Tests for Correctness\n",
    "\n",
    "We can use a full statevector simulation to check again that the optimized circuit produces the expected result."
   ]
  },
  {
   "cell_type": "code",
   "execution_count": 17,
   "id": "32ae469b",
   "metadata": {},
   "outputs": [
    {
     "name": "stdout",
     "output_type": "stream",
     "text": [
      "n=0 checked!\n",
      "n=1 checked!\n"
     ]
    },
    {
     "name": "stdout",
     "output_type": "stream",
     "text": [
      "n=2 checked!\n",
      "n=3 checked!\n"
     ]
    },
    {
     "name": "stdout",
     "output_type": "stream",
     "text": [
      "n=4 checked!\n"
     ]
    }
   ],
   "source": [
    "from qualtran import QUInt\n",
    "\n",
    "for n in range(target_bitsize):\n",
    "    # Initial qubit values\n",
    "    qubit_vals = {q: 0 for q in g.all_qubits}\n",
    "    # All controls 'on' to activate circuit\n",
    "    qubit_vals.update({c: 1 for c in g.quregs['control']})\n",
    "    # Set selection according to `n`\n",
    "    qubit_vals.update(zip(g.quregs['selection'], QUInt(selection_bitsize).to_bits(n)))\n",
    "\n",
    "    initial_state = [qubit_vals[x] for x in g.all_qubits]\n",
    "    qubit_vals[g.quregs['target'][-(n + 1)]] = 1\n",
    "    final_state = [qubit_vals[x] for x in g.all_qubits]\n",
    "    cq_testing.assert_circuit_inp_out_cirqsim(\n",
    "        g.decomposed_circuit, g.all_qubits, initial_state, final_state\n",
    "    )\n",
    "    print(f'n={n} checked!')"
   ]
  }
 ],
 "metadata": {
  "kernelspec": {
   "display_name": "Python 3 (ipykernel)",
   "language": "python",
   "name": "python3"
  },
  "language_info": {
   "codemirror_mode": {
    "name": "ipython",
    "version": 3
   },
   "file_extension": ".py",
   "mimetype": "text/x-python",
   "name": "python",
   "nbconvert_exporter": "python",
   "pygments_lexer": "ipython3",
   "version": "3.11.8"
  }
 },
 "nbformat": 4,
 "nbformat_minor": 5
}
