{
 "cells": [
  {
   "cell_type": "markdown",
   "id": "8e5e678f",
   "metadata": {
    "cq.autogen": "title_cell"
   },
   "source": [
    "# Sparse Matrix Hermitian"
   ]
  },
  {
   "cell_type": "code",
   "execution_count": 1,
   "id": "70980f2b",
   "metadata": {
    "cq.autogen": "top_imports"
   },
   "outputs": [],
   "source": [
    "from qualtran import Bloq, CompositeBloq, BloqBuilder, Signature, Register\n",
    "from qualtran import QBit, QInt, QUInt, QAny\n",
    "from qualtran.drawing import show_bloq, show_call_graph, show_counts_sigma\n",
    "from typing import *\n",
    "import numpy as np\n",
    "import sympy\n",
    "import cirq"
   ]
  },
  {
   "cell_type": "markdown",
   "id": "8db414b7",
   "metadata": {
    "cq.autogen": "SparseMatrixHermitian.bloq_doc.md"
   },
   "source": [
    "## `SparseMatrixHermitian`\n",
    "Hermitian Block encoding of a sparse-access Hermitian matrix.\n",
    "\n",
    "Given column and entry oracles $O_c$ and $O_A$ for an $s$-sparse Hermitian matrix\n",
    "$A \\in \\mathbb{C}^{2^n \\times 2^n}$, i.e. one where each row / column has exactly $s$ non-zero\n",
    "entries, computes a $(s, n+1, \\epsilon)$-block encoding of $A$ as follows:\n",
    "```\n",
    "           ┌────┐\n",
    "a     |0> ─┤    ├─     |0> ───────────────────────X────────────────────\n",
    "           │    │           ┌──┐                  |               ┌──┐\n",
    "           │ U  │  =        │ n│ ┌────┐ ┌────┐    | ┌────┐ ┌────┐ │ n│\n",
    "l   |0^n> ─┤  A ├─   |0^n> ─┤H ├─┤ O  ├─┤    ├─X──|─┤    ├─┤ O* ├─┤H ├─\n",
    "           │    │           └──┘ |  c | │    │ |  | │    │ |  c | └──┘\n",
    "           │    │                └────┘ │ O  │ │  | │ O* │ └────┘\n",
    "b     |0> ─┤    ├─     |0> ────────|────┤  A ├─|──X─┤  A ├───|─────────\n",
    "           |    |                ┌────┐ |    | |    |    | ┌────┐\n",
    "           |    |                | O  | |    | |    |    | | O* |\n",
    "j   |Psi> ─┤    ├─   |Psi> ──────┤  c ├─┤    ├─X────┤    ├─┤  c ├──────\n",
    "           └────┘                └────┘ └────┘      └────┘ └────┘\n",
    "```\n",
    "\n",
    "To encode a matrix of irregular dimension, the matrix should first be embedded into one of\n",
    "dimension $2^n \\times 2^n$ for suitable $n$.\n",
    "To encode a matrix where each row / column has at most $s$ non-zero entries, some zeroes should\n",
    "be treated as if they were non-zero so that each row / column has exactly $s$ non-zero entries.\n",
    "\n",
    "For encoding a non-hermitian matrix, or a slightly more efficient (but non Hermitian-encoding)\n",
    "of a matrix, use :class:`SparseMatrix` instead.\n",
    "\n",
    "#### Parameters\n",
    " - `col_oracle`: The column oracle $O_c$. See `RowColumnOracle` for definition.\n",
    " - `entry_oracle`: The entry oracle $O_A$. See `EntryOracle` for definition.\n",
    " - `eps`: The precision of the block encoding.\n",
    " - `is_controlled`: if True, returns the controlled block-encoding. \n",
    "\n",
    "#### Registers\n",
    " - `ctrl`: The single qubit control register. (present only if `is_controlled` is `True`)\n",
    " - `system`: The system register.\n",
    " - `ancilla`: The ancilla register.\n",
    " - `resource`: The resource register (present only if `bitsize > 0`). \n",
    "\n",
    "#### References\n",
    " - [Lecture Notes on Quantum Algorithms for Scientific Computation](https://arxiv.org/abs/2201.08309). Lin Lin (2022). Ch. 6.5. Proposition 6.8, Fig 6.7.\n"
   ]
  },
  {
   "cell_type": "code",
   "execution_count": 2,
   "id": "f31bfd74",
   "metadata": {
    "cq.autogen": "SparseMatrixHermitian.bloq_doc.py"
   },
   "outputs": [],
   "source": [
    "from qualtran.bloqs.block_encoding import SparseMatrixHermitian"
   ]
  },
  {
   "cell_type": "markdown",
   "id": "435f31d2",
   "metadata": {
    "cq.autogen": "SparseMatrixHermitian.example_instances.md"
   },
   "source": [
    "### Example Instances"
   ]
  },
  {
   "cell_type": "code",
   "execution_count": 3,
   "id": "720f3f9b",
   "metadata": {
    "cq.autogen": "SparseMatrixHermitian.sparse_matrix_symb_hermitian_block_encoding"
   },
   "outputs": [],
   "source": [
    "from qualtran.bloqs.block_encoding.sparse_matrix import TopLeftRowColumnOracle\n",
    "from qualtran.bloqs.block_encoding.sparse_matrix_hermitian import UniformSqrtEntryOracle\n",
    "\n",
    "n = sympy.Symbol('n', positive=True, integer=True)\n",
    "col_oracle = TopLeftRowColumnOracle(system_bitsize=n)\n",
    "entry_oracle = UniformSqrtEntryOracle(system_bitsize=n, entry=0.3)\n",
    "sparse_matrix_symb_hermitian_block_encoding = SparseMatrixHermitian(\n",
    "    col_oracle, entry_oracle, eps=0\n",
    ")"
   ]
  },
  {
   "cell_type": "code",
   "execution_count": 4,
   "id": "70e512ff",
   "metadata": {
    "cq.autogen": "SparseMatrixHermitian.sparse_matrix_hermitian_block_encoding"
   },
   "outputs": [],
   "source": [
    "from qualtran.bloqs.block_encoding.sparse_matrix import TopLeftRowColumnOracle\n",
    "from qualtran.bloqs.block_encoding.sparse_matrix_hermitian import UniformSqrtEntryOracle\n",
    "\n",
    "col_oracle = TopLeftRowColumnOracle(system_bitsize=2)\n",
    "entry_oracle = UniformSqrtEntryOracle(system_bitsize=2, entry=0.3)\n",
    "sparse_matrix_hermitian_block_encoding = SparseMatrixHermitian(col_oracle, entry_oracle, eps=0)"
   ]
  },
  {
   "cell_type": "markdown",
   "id": "6e8d3efa",
   "metadata": {
    "cq.autogen": "SparseMatrixHermitian.graphical_signature.md"
   },
   "source": [
    "#### Graphical Signature"
   ]
  },
  {
   "cell_type": "code",
   "execution_count": 5,
   "id": "96d58575",
   "metadata": {
    "cq.autogen": "SparseMatrixHermitian.graphical_signature.py"
   },
   "outputs": [
    {
     "data": {
      "application/vnd.jupyter.widget-view+json": {
       "model_id": "1f6a3d6f04e642b7b9e3d47a6ac0fcb1",
       "version_major": 2,
       "version_minor": 0
      },
      "text/plain": [
       "HBox(children=(Output(outputs=({'output_type': 'display_data', 'data': {'text/plain': '<IPython.core.display.M…"
      ]
     },
     "metadata": {},
     "output_type": "display_data"
    }
   ],
   "source": [
    "from qualtran.drawing import show_bloqs\n",
    "show_bloqs([sparse_matrix_symb_hermitian_block_encoding, sparse_matrix_hermitian_block_encoding],\n",
    "           ['`sparse_matrix_symb_hermitian_block_encoding`', '`sparse_matrix_hermitian_block_encoding`'])"
   ]
  },
  {
   "cell_type": "markdown",
   "id": "e0108dfc",
   "metadata": {
    "cq.autogen": "SparseMatrixHermitian.call_graph.md"
   },
   "source": [
    "### Call Graph"
   ]
  },
  {
   "cell_type": "code",
   "execution_count": 6,
   "id": "87933b2f",
   "metadata": {
    "cq.autogen": "SparseMatrixHermitian.call_graph.py"
   },
   "outputs": [
    {
     "data": {
      "image/svg+xml": [
       "<svg xmlns=\"http://www.w3.org/2000/svg\" xmlns:xlink=\"http://www.w3.org/1999/xlink\" width=\"1098pt\" height=\"131pt\" viewBox=\"0.00 0.00 1098.00 131.00\">\n",
       "<g id=\"graph0\" class=\"graph\" transform=\"scale(1 1) rotate(0) translate(4 127)\">\n",
       "<title>counts</title>\n",
       "<polygon fill=\"white\" stroke=\"transparent\" points=\"-4,4 -4,-127 1094,-127 1094,4 -4,4\"/>\n",
       "<!-- b0 -->\n",
       "<g id=\"node1\" class=\"node\">\n",
       "<title>b0</title>\n",
       "<polygon fill=\"none\" stroke=\"black\" points=\"476,-93 476,-116 598,-116 598,-93 476,-93\"/>\n",
       "<text text-anchor=\"start\" x=\"482.5\" y=\"-102\" font-family=\"Times,serif\" font-size=\"10.00\">B[SparseMatrixHermitian]</text>\n",
       "</g>\n",
       "<!-- b1 -->\n",
       "<g id=\"node2\" class=\"node\">\n",
       "<title>b1</title>\n",
       "<polygon fill=\"none\" stroke=\"black\" points=\"8,-6 8,-29 142,-29 142,-6 8,-6\"/>\n",
       "<text text-anchor=\"start\" x=\"14\" y=\"-15\" font-family=\"Times,serif\" font-size=\"10.00\">PrepareUniformSuperposition</text>\n",
       "</g>\n",
       "<!-- b0&#45;&gt;b1 -->\n",
       "<g id=\"edge1\" class=\"edge\">\n",
       "<title>b0-&gt;b1</title>\n",
       "<path fill=\"none\" stroke=\"black\" d=\"M467.94,-92.04C394.24,-79.17 273.8,-57.84 160.02,-36.18\"/>\n",
       "<polygon fill=\"black\" stroke=\"black\" points=\"160.57,-32.72 150.09,-34.28 159.26,-39.59 160.57,-32.72\"/>\n",
       "<text text-anchor=\"middle\" x=\"338.5\" y=\"-57.8\" font-family=\"Times,serif\" font-size=\"14.00\">1</text>\n",
       "</g>\n",
       "<!-- b2 -->\n",
       "<g id=\"node3\" class=\"node\">\n",
       "<title>b2</title>\n",
       "<polygon fill=\"none\" stroke=\"black\" points=\"176,-6 176,-29 300,-29 300,-6 176,-6\"/>\n",
       "<text text-anchor=\"start\" x=\"182\" y=\"-15\" font-family=\"Times,serif\" font-size=\"10.00\">TopLeftRowColumnOracle</text>\n",
       "</g>\n",
       "<!-- b0&#45;&gt;b2 -->\n",
       "<g id=\"edge2\" class=\"edge\">\n",
       "<title>b0-&gt;b2</title>\n",
       "<path fill=\"none\" stroke=\"black\" d=\"M476.85,-86.9C427.99,-73.01 359.01,-53.4 307.73,-38.82\"/>\n",
       "<polygon fill=\"black\" stroke=\"black\" points=\"308.63,-35.44 298.05,-36.07 306.71,-42.17 308.63,-35.44\"/>\n",
       "<text text-anchor=\"middle\" x=\"409.5\" y=\"-57.8\" font-family=\"Times,serif\" font-size=\"14.00\">1</text>\n",
       "</g>\n",
       "<!-- b3 -->\n",
       "<g id=\"node4\" class=\"node\">\n",
       "<title>b3</title>\n",
       "<polygon fill=\"none\" stroke=\"black\" points=\"334,-6 334,-29 448,-29 448,-6 334,-6\"/>\n",
       "<text text-anchor=\"start\" x=\"340.5\" y=\"-15\" font-family=\"Times,serif\" font-size=\"10.00\">UniformSqrtEntryOracle</text>\n",
       "</g>\n",
       "<!-- b0&#45;&gt;b3 -->\n",
       "<g id=\"edge3\" class=\"edge\">\n",
       "<title>b0-&gt;b3</title>\n",
       "<path fill=\"none\" stroke=\"black\" d=\"M507.45,-86.8C484.89,-73.66 453.63,-55.46 429.17,-41.22\"/>\n",
       "<polygon fill=\"black\" stroke=\"black\" points=\"430.9,-38.18 420.5,-36.18 427.38,-44.23 430.9,-38.18\"/>\n",
       "<text text-anchor=\"middle\" x=\"476.5\" y=\"-57.8\" font-family=\"Times,serif\" font-size=\"14.00\">1</text>\n",
       "</g>\n",
       "<!-- b4 -->\n",
       "<g id=\"node5\" class=\"node\">\n",
       "<title>b4</title>\n",
       "<polygon fill=\"none\" stroke=\"black\" points=\"483,-6 483,-29 519,-29 519,-6 483,-6\"/>\n",
       "<text text-anchor=\"start\" x=\"489.5\" y=\"-15\" font-family=\"Times,serif\" font-size=\"10.00\">Swap</text>\n",
       "</g>\n",
       "<!-- b0&#45;&gt;b4 -->\n",
       "<g id=\"edge4\" class=\"edge\">\n",
       "<title>b0-&gt;b4</title>\n",
       "<path fill=\"none\" stroke=\"black\" d=\"M529.71,-86.8C524.69,-74.93 517.91,-58.93 512.2,-45.45\"/>\n",
       "<polygon fill=\"black\" stroke=\"black\" points=\"515.4,-44.02 508.27,-36.18 508.95,-46.75 515.4,-44.02\"/>\n",
       "<text text-anchor=\"middle\" x=\"525.5\" y=\"-57.8\" font-family=\"Times,serif\" font-size=\"14.00\">1</text>\n",
       "</g>\n",
       "<!-- b5 -->\n",
       "<g id=\"node6\" class=\"node\">\n",
       "<title>b5</title>\n",
       "<polygon fill=\"none\" stroke=\"black\" points=\"555,-6 555,-29 591,-29 591,-6 555,-6\"/>\n",
       "<text text-anchor=\"start\" x=\"561.5\" y=\"-15\" font-family=\"Times,serif\" font-size=\"10.00\">Swap</text>\n",
       "</g>\n",
       "<!-- b0&#45;&gt;b5 -->\n",
       "<g id=\"edge5\" class=\"edge\">\n",
       "<title>b0-&gt;b5</title>\n",
       "<path fill=\"none\" stroke=\"black\" d=\"M544.29,-86.8C549.31,-74.93 556.09,-58.93 561.8,-45.45\"/>\n",
       "<polygon fill=\"black\" stroke=\"black\" points=\"565.05,-46.75 565.73,-36.18 558.6,-44.02 565.05,-46.75\"/>\n",
       "<text text-anchor=\"middle\" x=\"561.5\" y=\"-57.8\" font-family=\"Times,serif\" font-size=\"14.00\">1</text>\n",
       "</g>\n",
       "<!-- b6 -->\n",
       "<g id=\"node7\" class=\"node\">\n",
       "<title>b6</title>\n",
       "<polygon fill=\"none\" stroke=\"black\" points=\"626,-6 626,-29 744,-29 744,-6 626,-6\"/>\n",
       "<text text-anchor=\"start\" x=\"632\" y=\"-15\" font-family=\"Times,serif\" font-size=\"10.00\">UniformSqrtEntryOracle†</text>\n",
       "</g>\n",
       "<!-- b0&#45;&gt;b6 -->\n",
       "<g id=\"edge6\" class=\"edge\">\n",
       "<title>b0-&gt;b6</title>\n",
       "<path fill=\"none\" stroke=\"black\" d=\"M566.95,-86.8C589.89,-73.62 621.72,-55.34 646.55,-41.08\"/>\n",
       "<polygon fill=\"black\" stroke=\"black\" points=\"648.42,-44.05 655.35,-36.03 644.93,-37.98 648.42,-44.05\"/>\n",
       "<text text-anchor=\"middle\" x=\"623.5\" y=\"-57.8\" font-family=\"Times,serif\" font-size=\"14.00\">1</text>\n",
       "</g>\n",
       "<!-- b7 -->\n",
       "<g id=\"node8\" class=\"node\">\n",
       "<title>b7</title>\n",
       "<polygon fill=\"none\" stroke=\"black\" points=\"778,-6 778,-29 908,-29 908,-6 778,-6\"/>\n",
       "<text text-anchor=\"start\" x=\"784\" y=\"-15\" font-family=\"Times,serif\" font-size=\"10.00\">TopLeftRowColumnOracle†</text>\n",
       "</g>\n",
       "<!-- b0&#45;&gt;b7 -->\n",
       "<g id=\"edge7\" class=\"edge\">\n",
       "<title>b0-&gt;b7</title>\n",
       "<path fill=\"none\" stroke=\"black\" d=\"M598.56,-86.9C648.56,-73.01 719.16,-53.4 771.63,-38.82\"/>\n",
       "<polygon fill=\"black\" stroke=\"black\" points=\"772.84,-42.12 781.54,-36.07 770.97,-35.38 772.84,-42.12\"/>\n",
       "<text text-anchor=\"middle\" x=\"712.5\" y=\"-57.8\" font-family=\"Times,serif\" font-size=\"14.00\">1</text>\n",
       "</g>\n",
       "<!-- b8 -->\n",
       "<g id=\"node9\" class=\"node\">\n",
       "<title>b8</title>\n",
       "<polygon fill=\"none\" stroke=\"black\" points=\"942,-6 942,-29 1082,-29 1082,-6 942,-6\"/>\n",
       "<text text-anchor=\"start\" x=\"948.5\" y=\"-15\" font-family=\"Times,serif\" font-size=\"10.00\">PrepareUniformSuperposition†</text>\n",
       "</g>\n",
       "<!-- b0&#45;&gt;b8 -->\n",
       "<g id=\"edge8\" class=\"edge\">\n",
       "<title>b0-&gt;b8</title>\n",
       "<path fill=\"none\" stroke=\"black\" d=\"M606.11,-92.31C681.64,-79.43 806.49,-57.87 923.88,-36.19\"/>\n",
       "<polygon fill=\"black\" stroke=\"black\" points=\"924.56,-39.62 933.76,-34.36 923.29,-32.74 924.56,-39.62\"/>\n",
       "<text text-anchor=\"middle\" x=\"821.5\" y=\"-57.8\" font-family=\"Times,serif\" font-size=\"14.00\">1</text>\n",
       "</g>\n",
       "</g>\n",
       "</svg>"
      ],
      "text/plain": [
       "<IPython.core.display.SVG object>"
      ]
     },
     "metadata": {},
     "output_type": "display_data"
    },
    {
     "data": {
      "text/markdown": [
       "#### Counts totals:\n",
       " - `PrepareUniformSuperposition`: 1\n",
       " - `PrepareUniformSuperposition†`: 1\n",
       " - `Swap`: 1\n",
       " - `Swap`: 1\n",
       " - `TopLeftRowColumnOracle`: 1\n",
       " - `TopLeftRowColumnOracle†`: 1\n",
       " - `UniformSqrtEntryOracle`: 1\n",
       " - `UniformSqrtEntryOracle†`: 1"
      ],
      "text/plain": [
       "<IPython.core.display.Markdown object>"
      ]
     },
     "metadata": {},
     "output_type": "display_data"
    }
   ],
   "source": [
    "from qualtran.resource_counting.generalizers import ignore_split_join\n",
    "sparse_matrix_symb_hermitian_block_encoding_g, sparse_matrix_symb_hermitian_block_encoding_sigma = sparse_matrix_symb_hermitian_block_encoding.call_graph(max_depth=1, generalizer=ignore_split_join)\n",
    "show_call_graph(sparse_matrix_symb_hermitian_block_encoding_g)\n",
    "show_counts_sigma(sparse_matrix_symb_hermitian_block_encoding_sigma)"
   ]
  }
 ],
 "metadata": {
  "kernelspec": {
   "display_name": "Python 3",
   "language": "python",
   "name": "python3"
  },
  "language_info": {
   "codemirror_mode": {
    "name": "ipython",
    "version": 3
   },
   "file_extension": ".py",
   "mimetype": "text/x-python",
   "name": "python",
   "nbconvert_exporter": "python",
   "pygments_lexer": "ipython3",
   "version": "3.11.8"
  },
  "widgets": {
   "application/vnd.jupyter.widget-state+json": {
    "state": {
     "14b61a4620cd49f98a6a24874310a376": {
      "model_module": "@jupyter-widgets/base",
      "model_module_version": "2.0.0",
      "model_name": "LayoutModel",
      "state": {
       "_model_module": "@jupyter-widgets/base",
       "_model_module_version": "2.0.0",
       "_model_name": "LayoutModel",
       "_view_count": null,
       "_view_module": "@jupyter-widgets/base",
       "_view_module_version": "2.0.0",
       "_view_name": "LayoutView",
       "align_content": null,
       "align_items": null,
       "align_self": null,
       "border_bottom": null,
       "border_left": null,
       "border_right": null,
       "border_top": null,
       "bottom": null,
       "display": null,
       "flex": null,
       "flex_flow": null,
       "grid_area": null,
       "grid_auto_columns": null,
       "grid_auto_flow": null,
       "grid_auto_rows": null,
       "grid_column": null,
       "grid_gap": null,
       "grid_row": null,
       "grid_template_areas": null,
       "grid_template_columns": null,
       "grid_template_rows": null,
       "height": null,
       "justify_content": null,
       "justify_items": null,
       "left": null,
       "margin": null,
       "max_height": null,
       "max_width": null,
       "min_height": null,
       "min_width": null,
       "object_fit": null,
       "object_position": null,
       "order": null,
       "overflow": null,
       "padding": null,
       "right": null,
       "top": null,
       "visibility": null,
       "width": null
      }
     },
     "17fc231f842b42fe91bf2fc92f9dcfaf": {
      "model_module": "@jupyter-widgets/output",
      "model_module_version": "1.0.0",
      "model_name": "OutputModel",
      "state": {
       "_dom_classes": [],
       "_model_module": "@jupyter-widgets/output",
       "_model_module_version": "1.0.0",
       "_model_name": "OutputModel",
       "_view_count": null,
       "_view_module": "@jupyter-widgets/output",
       "_view_module_version": "1.0.0",
       "_view_name": "OutputView",
       "layout": "IPY_MODEL_ec5aa1b9c1d54791908b090c5077ef22",
       "msg_id": "",
       "outputs": [
        {
         "data": {
          "text/markdown": "`sparse_matrix_hermitian_block_encoding`",
          "text/plain": "<IPython.core.display.Markdown object>"
         },
         "metadata": {},
         "output_type": "display_data"
        },
        {
         "data": {
          "image/svg+xml": "<svg xmlns=\"http://www.w3.org/2000/svg\" xmlns:xlink=\"http://www.w3.org/1999/xlink\" width=\"307pt\" height=\"98pt\" viewBox=\"0.00 0.00 307.00 98.00\">\n<g id=\"graph0\" class=\"graph\" transform=\"scale(1 1) rotate(0) translate(4 94)\">\n<title>my_graph</title>\n<polygon fill=\"white\" stroke=\"transparent\" points=\"-4,4 -4,-94 303,-94 303,4 -4,4\"/>\n<!-- system_G5 -->\n<g id=\"node1\" class=\"node\">\n<title>system_G5</title>\n<text text-anchor=\"middle\" x=\"27.5\" y=\"-68.3\" font-family=\"Times,serif\" font-size=\"14.00\">system</text>\n</g>\n<!-- SparseMatrixHermitian -->\n<g id=\"node3\" class=\"node\">\n<title>SparseMatrixHermitian</title>\n<polygon fill=\"none\" stroke=\"black\" points=\"92.5,-66 92.5,-83 207.5,-83 207.5,-66 92.5,-66\"/>\n<text text-anchor=\"start\" x=\"95.5\" y=\"-72\" font-family=\"Times,serif\" font-size=\"10.00\">B[SparseMatrixHermitian]</text>\n<polygon fill=\"none\" stroke=\"black\" points=\"92.5,-45 92.5,-66 207.5,-66 207.5,-45 92.5,-45\"/>\n<text text-anchor=\"start\" x=\"130.5\" y=\"-51.8\" font-family=\"Times,serif\" font-size=\"14.00\">system</text>\n<polygon fill=\"none\" stroke=\"black\" points=\"92.5,-24 92.5,-45 207.5,-45 207.5,-24 92.5,-24\"/>\n<text text-anchor=\"start\" x=\"131.5\" y=\"-30.8\" font-family=\"Times,serif\" font-size=\"14.00\">ancilla</text>\n</g>\n<!-- system_G5&#45;&gt;SparseMatrixHermitian -->\n<g id=\"edge1\" class=\"edge\">\n<title>system_G5:e-&gt;SparseMatrixHermitian:w</title>\n<path fill=\"none\" stroke=\"black\" d=\"M55,-72C72.22,-72 73.97,-57.23 89.98,-56.07\"/>\n<ellipse fill=\"black\" stroke=\"black\" cx=\"91\" cy=\"-56.04\" rx=\"1\" ry=\"1\"/>\n<text text-anchor=\"middle\" x=\"73.5\" y=\"-67\" font-family=\"Times,serif\" font-size=\"10.00\">2</text>\n</g>\n<!-- ancilla_G4 -->\n<g id=\"node2\" class=\"node\">\n<title>ancilla_G4</title>\n<text text-anchor=\"middle\" x=\"27.5\" y=\"-14.3\" font-family=\"Times,serif\" font-size=\"14.00\">ancilla</text>\n</g>\n<!-- ancilla_G4&#45;&gt;SparseMatrixHermitian -->\n<g id=\"edge2\" class=\"edge\">\n<title>ancilla_G4:e-&gt;SparseMatrixHermitian:w</title>\n<path fill=\"none\" stroke=\"black\" d=\"M55,-18C72.22,-18 73.97,-32.77 89.98,-33.93\"/>\n<ellipse fill=\"black\" stroke=\"black\" cx=\"91\" cy=\"-33.96\" rx=\"1\" ry=\"1\"/>\n<text text-anchor=\"middle\" x=\"73.5\" y=\"-29\" font-family=\"Times,serif\" font-size=\"10.00\">4</text>\n</g>\n<!-- system_G1 -->\n<g id=\"node4\" class=\"node\">\n<title>system_G1</title>\n<text text-anchor=\"middle\" x=\"271.5\" y=\"-68.3\" font-family=\"Times,serif\" font-size=\"14.00\">system</text>\n</g>\n<!-- SparseMatrixHermitian&#45;&gt;system_G1 -->\n<g id=\"edge3\" class=\"edge\">\n<title>SparseMatrixHermitian:e-&gt;system_G1:w</title>\n<path fill=\"none\" stroke=\"black\" d=\"M207,-56C224.22,-56 225.97,-70.77 241.98,-71.93\"/>\n<ellipse fill=\"black\" stroke=\"black\" cx=\"243\" cy=\"-71.96\" rx=\"1\" ry=\"1\"/>\n<text text-anchor=\"middle\" x=\"225.5\" y=\"-67\" font-family=\"Times,serif\" font-size=\"10.00\">2</text>\n</g>\n<!-- ancilla_G3 -->\n<g id=\"node5\" class=\"node\">\n<title>ancilla_G3</title>\n<text text-anchor=\"middle\" x=\"271.5\" y=\"-14.3\" font-family=\"Times,serif\" font-size=\"14.00\">ancilla</text>\n</g>\n<!-- SparseMatrixHermitian&#45;&gt;ancilla_G3 -->\n<g id=\"edge4\" class=\"edge\">\n<title>SparseMatrixHermitian:e-&gt;ancilla_G3:w</title>\n<path fill=\"none\" stroke=\"black\" d=\"M207,-34C224.22,-34 225.97,-19.23 241.98,-18.07\"/>\n<ellipse fill=\"black\" stroke=\"black\" cx=\"243\" cy=\"-18.04\" rx=\"1\" ry=\"1\"/>\n<text text-anchor=\"middle\" x=\"225.5\" y=\"-29\" font-family=\"Times,serif\" font-size=\"10.00\">4</text>\n</g>\n</g>\n</svg>",
          "text/plain": "<IPython.core.display.SVG object>"
         },
         "metadata": {},
         "output_type": "display_data"
        }
       ],
       "tabbable": null,
       "tooltip": null
      }
     },
     "1f6a3d6f04e642b7b9e3d47a6ac0fcb1": {
      "model_module": "@jupyter-widgets/controls",
      "model_module_version": "2.0.0",
      "model_name": "HBoxModel",
      "state": {
       "_dom_classes": [],
       "_model_module": "@jupyter-widgets/controls",
       "_model_module_version": "2.0.0",
       "_model_name": "HBoxModel",
       "_view_count": null,
       "_view_module": "@jupyter-widgets/controls",
       "_view_module_version": "2.0.0",
       "_view_name": "HBoxView",
       "box_style": "",
       "children": [
        "IPY_MODEL_d73bed5df4a74da09f663102d135a604",
        "IPY_MODEL_17fc231f842b42fe91bf2fc92f9dcfaf"
       ],
       "layout": "IPY_MODEL_14b61a4620cd49f98a6a24874310a376",
       "tabbable": null,
       "tooltip": null
      }
     },
     "d73bed5df4a74da09f663102d135a604": {
      "model_module": "@jupyter-widgets/output",
      "model_module_version": "1.0.0",
      "model_name": "OutputModel",
      "state": {
       "_dom_classes": [],
       "_model_module": "@jupyter-widgets/output",
       "_model_module_version": "1.0.0",
       "_model_name": "OutputModel",
       "_view_count": null,
       "_view_module": "@jupyter-widgets/output",
       "_view_module_version": "1.0.0",
       "_view_name": "OutputView",
       "layout": "IPY_MODEL_ef35cfc4ab4c4a43acdc0d7e18946180",
       "msg_id": "",
       "outputs": [
        {
         "data": {
          "text/markdown": "`sparse_matrix_symb_hermitian_block_encoding`",
          "text/plain": "<IPython.core.display.Markdown object>"
         },
         "metadata": {},
         "output_type": "display_data"
        },
        {
         "data": {
          "image/svg+xml": "<svg xmlns=\"http://www.w3.org/2000/svg\" xmlns:xlink=\"http://www.w3.org/1999/xlink\" width=\"307pt\" height=\"98pt\" viewBox=\"0.00 0.00 307.00 98.00\">\n<g id=\"graph0\" class=\"graph\" transform=\"scale(1 1) rotate(0) translate(4 94)\">\n<title>my_graph</title>\n<polygon fill=\"white\" stroke=\"transparent\" points=\"-4,4 -4,-94 303,-94 303,4 -4,4\"/>\n<!-- system_G0 -->\n<g id=\"node1\" class=\"node\">\n<title>system_G0</title>\n<text text-anchor=\"middle\" x=\"27.5\" y=\"-68.3\" font-family=\"Times,serif\" font-size=\"14.00\">system</text>\n</g>\n<!-- SparseMatrixHermitian -->\n<g id=\"node3\" class=\"node\">\n<title>SparseMatrixHermitian</title>\n<polygon fill=\"none\" stroke=\"black\" points=\"92.5,-66 92.5,-83 207.5,-83 207.5,-66 92.5,-66\"/>\n<text text-anchor=\"start\" x=\"95.5\" y=\"-72\" font-family=\"Times,serif\" font-size=\"10.00\">B[SparseMatrixHermitian]</text>\n<polygon fill=\"none\" stroke=\"black\" points=\"92.5,-45 92.5,-66 207.5,-66 207.5,-45 92.5,-45\"/>\n<text text-anchor=\"start\" x=\"130.5\" y=\"-51.8\" font-family=\"Times,serif\" font-size=\"14.00\">system</text>\n<polygon fill=\"none\" stroke=\"black\" points=\"92.5,-24 92.5,-45 207.5,-45 207.5,-24 92.5,-24\"/>\n<text text-anchor=\"start\" x=\"131.5\" y=\"-30.8\" font-family=\"Times,serif\" font-size=\"14.00\">ancilla</text>\n</g>\n<!-- system_G0&#45;&gt;SparseMatrixHermitian -->\n<g id=\"edge1\" class=\"edge\">\n<title>system_G0:e-&gt;SparseMatrixHermitian:w</title>\n<path fill=\"none\" stroke=\"black\" d=\"M55,-72C72.22,-72 73.97,-57.23 89.98,-56.07\"/>\n<ellipse fill=\"black\" stroke=\"black\" cx=\"91\" cy=\"-56.04\" rx=\"1\" ry=\"1\"/>\n<text text-anchor=\"middle\" x=\"73.5\" y=\"-67\" font-family=\"Times,serif\" font-size=\"10.00\">n</text>\n</g>\n<!-- ancilla_G5 -->\n<g id=\"node2\" class=\"node\">\n<title>ancilla_G5</title>\n<text text-anchor=\"middle\" x=\"27.5\" y=\"-14.3\" font-family=\"Times,serif\" font-size=\"14.00\">ancilla</text>\n</g>\n<!-- ancilla_G5&#45;&gt;SparseMatrixHermitian -->\n<g id=\"edge2\" class=\"edge\">\n<title>ancilla_G5:e-&gt;SparseMatrixHermitian:w</title>\n<path fill=\"none\" stroke=\"black\" d=\"M55,-18C72.22,-18 73.97,-32.77 89.98,-33.93\"/>\n<ellipse fill=\"black\" stroke=\"black\" cx=\"91\" cy=\"-33.96\" rx=\"1\" ry=\"1\"/>\n<text text-anchor=\"middle\" x=\"73.5\" y=\"-29\" font-family=\"Times,serif\" font-size=\"10.00\">n + 2</text>\n</g>\n<!-- system_G1 -->\n<g id=\"node4\" class=\"node\">\n<title>system_G1</title>\n<text text-anchor=\"middle\" x=\"271.5\" y=\"-68.3\" font-family=\"Times,serif\" font-size=\"14.00\">system</text>\n</g>\n<!-- SparseMatrixHermitian&#45;&gt;system_G1 -->\n<g id=\"edge3\" class=\"edge\">\n<title>SparseMatrixHermitian:e-&gt;system_G1:w</title>\n<path fill=\"none\" stroke=\"black\" d=\"M207,-56C224.22,-56 225.97,-70.77 241.98,-71.93\"/>\n<ellipse fill=\"black\" stroke=\"black\" cx=\"243\" cy=\"-71.96\" rx=\"1\" ry=\"1\"/>\n<text text-anchor=\"middle\" x=\"225.5\" y=\"-67\" font-family=\"Times,serif\" font-size=\"10.00\">n</text>\n</g>\n<!-- ancilla_G3 -->\n<g id=\"node5\" class=\"node\">\n<title>ancilla_G3</title>\n<text text-anchor=\"middle\" x=\"271.5\" y=\"-14.3\" font-family=\"Times,serif\" font-size=\"14.00\">ancilla</text>\n</g>\n<!-- SparseMatrixHermitian&#45;&gt;ancilla_G3 -->\n<g id=\"edge4\" class=\"edge\">\n<title>SparseMatrixHermitian:e-&gt;ancilla_G3:w</title>\n<path fill=\"none\" stroke=\"black\" d=\"M207,-34C224.22,-34 225.97,-19.23 241.98,-18.07\"/>\n<ellipse fill=\"black\" stroke=\"black\" cx=\"243\" cy=\"-18.04\" rx=\"1\" ry=\"1\"/>\n<text text-anchor=\"middle\" x=\"225.5\" y=\"-29\" font-family=\"Times,serif\" font-size=\"10.00\">n + 2</text>\n</g>\n</g>\n</svg>",
          "text/plain": "<IPython.core.display.SVG object>"
         },
         "metadata": {},
         "output_type": "display_data"
        }
       ],
       "tabbable": null,
       "tooltip": null
      }
     },
     "ec5aa1b9c1d54791908b090c5077ef22": {
      "model_module": "@jupyter-widgets/base",
      "model_module_version": "2.0.0",
      "model_name": "LayoutModel",
      "state": {
       "_model_module": "@jupyter-widgets/base",
       "_model_module_version": "2.0.0",
       "_model_name": "LayoutModel",
       "_view_count": null,
       "_view_module": "@jupyter-widgets/base",
       "_view_module_version": "2.0.0",
       "_view_name": "LayoutView",
       "align_content": null,
       "align_items": null,
       "align_self": null,
       "border_bottom": null,
       "border_left": null,
       "border_right": null,
       "border_top": null,
       "bottom": null,
       "display": null,
       "flex": null,
       "flex_flow": null,
       "grid_area": null,
       "grid_auto_columns": null,
       "grid_auto_flow": null,
       "grid_auto_rows": null,
       "grid_column": null,
       "grid_gap": null,
       "grid_row": null,
       "grid_template_areas": null,
       "grid_template_columns": null,
       "grid_template_rows": null,
       "height": null,
       "justify_content": null,
       "justify_items": null,
       "left": null,
       "margin": null,
       "max_height": null,
       "max_width": null,
       "min_height": null,
       "min_width": null,
       "object_fit": null,
       "object_position": null,
       "order": null,
       "overflow": null,
       "padding": null,
       "right": null,
       "top": null,
       "visibility": null,
       "width": null
      }
     },
     "ef35cfc4ab4c4a43acdc0d7e18946180": {
      "model_module": "@jupyter-widgets/base",
      "model_module_version": "2.0.0",
      "model_name": "LayoutModel",
      "state": {
       "_model_module": "@jupyter-widgets/base",
       "_model_module_version": "2.0.0",
       "_model_name": "LayoutModel",
       "_view_count": null,
       "_view_module": "@jupyter-widgets/base",
       "_view_module_version": "2.0.0",
       "_view_name": "LayoutView",
       "align_content": null,
       "align_items": null,
       "align_self": null,
       "border_bottom": null,
       "border_left": null,
       "border_right": null,
       "border_top": null,
       "bottom": null,
       "display": null,
       "flex": null,
       "flex_flow": null,
       "grid_area": null,
       "grid_auto_columns": null,
       "grid_auto_flow": null,
       "grid_auto_rows": null,
       "grid_column": null,
       "grid_gap": null,
       "grid_row": null,
       "grid_template_areas": null,
       "grid_template_columns": null,
       "grid_template_rows": null,
       "height": null,
       "justify_content": null,
       "justify_items": null,
       "left": null,
       "margin": null,
       "max_height": null,
       "max_width": null,
       "min_height": null,
       "min_width": null,
       "object_fit": null,
       "object_position": null,
       "order": null,
       "overflow": null,
       "padding": null,
       "right": null,
       "top": null,
       "visibility": null,
       "width": null
      }
     }
    },
    "version_major": 2,
    "version_minor": 0
   }
  }
 },
 "nbformat": 4,
 "nbformat_minor": 5
}
