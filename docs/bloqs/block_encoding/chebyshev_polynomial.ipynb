{
 "cells": [
  {
   "cell_type": "markdown",
   "id": "669be67a",
   "metadata": {
    "cq.autogen": "title_cell"
   },
   "source": [
    "# Chebyshev Polynomial"
   ]
  },
  {
   "cell_type": "code",
   "execution_count": 1,
   "id": "97a022fe",
   "metadata": {
    "cq.autogen": "top_imports"
   },
   "outputs": [],
   "source": [
    "from qualtran import Bloq, CompositeBloq, BloqBuilder, Signature, Register\n",
    "from qualtran import QBit, QInt, QUInt, QAny\n",
    "from qualtran.drawing import show_bloq, show_call_graph, show_counts_sigma\n",
    "from typing import *\n",
    "import numpy as np\n",
    "import sympy\n",
    "import cirq"
   ]
  },
  {
   "cell_type": "markdown",
   "id": "75318c87",
   "metadata": {
    "cq.autogen": "ChebyshevPolynomial.bloq_doc.md"
   },
   "source": [
    "## `ChebyshevPolynomial`\n",
    "Block encoding of $T_j(A / \\alpha)$ where $T_j$ is the $j$-th Chebyshev polynomial.\n",
    "\n",
    "Given a Hermitian matrix $A$ with spectral norm $|A| \\le 1$, recall:\n",
    "\n",
    "\\begin{align*}\n",
    "    T_0[A] &= I \\\\\n",
    "    T_1[A] &= A \\\\\n",
    "    T_2[A] &= 2 A^2 - I \\\\\n",
    "    T_3[A] &= 4 A^3 - 3 A \\\\\n",
    "    &\\dots\n",
    "\\end{align*}\n",
    "\n",
    "If `block_encoding` block encodes $A$ with normalization factor $\\alpha$, i.e. it constructs\n",
    "$\\mathcal{B}[A/\\alpha]$, then this bloq constructs $\\mathcal{B}[T_j(A/\\alpha)]$ with\n",
    "normalization factor 1. Note that $\\mathcal{B}[T_j(A/\\alpha)]$ is not a multiple of\n",
    "$\\mathcal{B}[T_j(A)]$ in general; use `ScaledChebyshevPolynomial` if $\\alpha \\neq 1$.\n",
    "\n",
    "See https://github.com/quantumlib/Qualtran/issues/984 for an alternative.\n",
    "\n",
    "#### Parameters\n",
    " - `block_encoding`: Block encoding of a Hermitian matrix $A$, $\\mathcal{B}[A]$. Assumes the $|G\\rangle$ state of the block encoding is the identity operator.\n",
    " - `order`: order of Chebychev polynomial. \n",
    "\n",
    "#### References\n",
    " - [Quantum computing enhanced computational catalysis](https://arxiv.org/abs/2007.14460).     von Burg et al. 2007. Page 45; Theorem 1.\n"
   ]
  },
  {
   "cell_type": "code",
   "execution_count": 2,
   "id": "8c4c2cca",
   "metadata": {
    "cq.autogen": "ChebyshevPolynomial.bloq_doc.py"
   },
   "outputs": [],
   "source": [
    "from qualtran.bloqs.block_encoding import ChebyshevPolynomial"
   ]
  },
  {
   "cell_type": "markdown",
   "id": "bd4662f7",
   "metadata": {
    "cq.autogen": "ChebyshevPolynomial.example_instances.md"
   },
   "source": [
    "### Example Instances"
   ]
  },
  {
   "cell_type": "code",
   "execution_count": 3,
   "id": "76559ac1",
   "metadata": {
    "cq.autogen": "ChebyshevPolynomial.chebyshev_poly_even"
   },
   "outputs": [],
   "source": [
    "from qualtran.bloqs.basic_gates import Hadamard, XGate\n",
    "from qualtran.bloqs.block_encoding import LinearCombination, Unitary\n",
    "\n",
    "bloq = LinearCombination((Unitary(XGate()), Unitary(Hadamard())), (0.5, 0.5), lambd_bits=1)\n",
    "chebyshev_poly_even = ChebyshevPolynomial(bloq, order=4)"
   ]
  },
  {
   "cell_type": "code",
   "execution_count": 4,
   "id": "1d85b9c1",
   "metadata": {
    "cq.autogen": "ChebyshevPolynomial.chebyshev_poly_odd"
   },
   "outputs": [],
   "source": [
    "from qualtran.bloqs.basic_gates import Hadamard\n",
    "from qualtran.bloqs.block_encoding import Unitary\n",
    "\n",
    "bloq = Unitary(Hadamard())\n",
    "chebyshev_poly_odd = ChebyshevPolynomial(bloq, order=5)"
   ]
  },
  {
   "cell_type": "markdown",
   "id": "9dcdb85f",
   "metadata": {
    "cq.autogen": "ChebyshevPolynomial.graphical_signature.md"
   },
   "source": [
    "#### Graphical Signature"
   ]
  },
  {
   "cell_type": "code",
   "execution_count": 5,
   "id": "70740244",
   "metadata": {
    "cq.autogen": "ChebyshevPolynomial.graphical_signature.py"
   },
   "outputs": [
    {
     "data": {
      "application/vnd.jupyter.widget-view+json": {
       "model_id": "3134cf72df0b4c9aa9a2eab2a5879cc7",
       "version_major": 2,
       "version_minor": 0
      },
      "text/plain": [
       "HBox(children=(Output(outputs=({'output_type': 'display_data', 'data': {'text/plain': '<IPython.core.display.M…"
      ]
     },
     "metadata": {},
     "output_type": "display_data"
    }
   ],
   "source": [
    "from qualtran.drawing import show_bloqs\n",
    "show_bloqs([chebyshev_poly_even, chebyshev_poly_odd],\n",
    "           ['`chebyshev_poly_even`', '`chebyshev_poly_odd`'])"
   ]
  },
  {
   "cell_type": "markdown",
   "id": "5ceaeb9b",
   "metadata": {
    "cq.autogen": "ChebyshevPolynomial.call_graph.md"
   },
   "source": [
    "### Call Graph"
   ]
  },
  {
   "cell_type": "code",
   "execution_count": 6,
   "id": "d258bae7",
   "metadata": {
    "cq.autogen": "ChebyshevPolynomial.call_graph.py"
   },
   "outputs": [
    {
     "data": {
      "image/svg+xml": [
       "<svg xmlns=\"http://www.w3.org/2000/svg\" xmlns:xlink=\"http://www.w3.org/1999/xlink\" width=\"214pt\" height=\"131pt\" viewBox=\"0.00 0.00 214.00 131.00\">\n",
       "<g id=\"graph0\" class=\"graph\" transform=\"scale(1 1) rotate(0) translate(4 127)\">\n",
       "<title>counts</title>\n",
       "<polygon fill=\"white\" stroke=\"transparent\" points=\"-4,4 -4,-127 210,-127 210,4 -4,4\"/>\n",
       "<!-- b0 -->\n",
       "<g id=\"node1\" class=\"node\">\n",
       "<title>b0</title>\n",
       "<polygon fill=\"none\" stroke=\"black\" points=\"46,-93 46,-116 128,-116 128,-93 46,-93\"/>\n",
       "<text text-anchor=\"start\" x=\"52\" y=\"-102\" font-family=\"Times,serif\" font-size=\"10.00\">B[T_4(B[X+H])]</text>\n",
       "</g>\n",
       "<!-- b1 -->\n",
       "<g id=\"node2\" class=\"node\">\n",
       "<title>b1</title>\n",
       "<polygon fill=\"none\" stroke=\"black\" points=\"8,-6 8,-29 54,-29 54,-6 8,-6\"/>\n",
       "<text text-anchor=\"start\" x=\"14\" y=\"-15\" font-family=\"Times,serif\" font-size=\"10.00\">B[X+H]</text>\n",
       "</g>\n",
       "<!-- b0&#45;&gt;b1 -->\n",
       "<g id=\"edge1\" class=\"edge\">\n",
       "<title>b0-&gt;b1</title>\n",
       "<path fill=\"none\" stroke=\"black\" d=\"M75.67,-86.8C67.7,-74.7 56.89,-58.3 47.91,-44.67\"/>\n",
       "<polygon fill=\"black\" stroke=\"black\" points=\"50.74,-42.6 42.32,-36.18 44.89,-46.45 50.74,-42.6\"/>\n",
       "<text text-anchor=\"middle\" x=\"66.5\" y=\"-57.8\" font-family=\"Times,serif\" font-size=\"14.00\">4</text>\n",
       "</g>\n",
       "<!-- b2 -->\n",
       "<g id=\"node3\" class=\"node\">\n",
       "<title>b2</title>\n",
       "<polygon fill=\"none\" stroke=\"black\" points=\"88,-6 88,-29 198,-29 198,-6 88,-6\"/>\n",
       "<text text-anchor=\"start\" x=\"94\" y=\"-15\" font-family=\"Times,serif\" font-size=\"10.00\">ReflectionUsingPrepare</text>\n",
       "</g>\n",
       "<!-- b0&#45;&gt;b2 -->\n",
       "<g id=\"edge2\" class=\"edge\">\n",
       "<title>b0-&gt;b2</title>\n",
       "<path fill=\"none\" stroke=\"black\" d=\"M98.33,-86.8C106.3,-74.7 117.11,-58.3 126.09,-44.67\"/>\n",
       "<polygon fill=\"black\" stroke=\"black\" points=\"129.11,-46.45 131.68,-36.18 123.26,-42.6 129.11,-46.45\"/>\n",
       "<text text-anchor=\"middle\" x=\"121.5\" y=\"-57.8\" font-family=\"Times,serif\" font-size=\"14.00\">4</text>\n",
       "</g>\n",
       "</g>\n",
       "</svg>"
      ],
      "text/plain": [
       "<IPython.core.display.SVG object>"
      ]
     },
     "metadata": {},
     "output_type": "display_data"
    },
    {
     "data": {
      "text/markdown": [
       "#### Counts totals:\n",
       " - `B[X+H]`: 4\n",
       " - `ReflectionUsingPrepare`: 4"
      ],
      "text/plain": [
       "<IPython.core.display.Markdown object>"
      ]
     },
     "metadata": {},
     "output_type": "display_data"
    }
   ],
   "source": [
    "from qualtran.resource_counting.generalizers import ignore_split_join\n",
    "chebyshev_poly_even_g, chebyshev_poly_even_sigma = chebyshev_poly_even.call_graph(max_depth=1, generalizer=ignore_split_join)\n",
    "show_call_graph(chebyshev_poly_even_g)\n",
    "show_counts_sigma(chebyshev_poly_even_sigma)"
   ]
  },
  {
   "cell_type": "markdown",
   "id": "f30b1a5d",
   "metadata": {
    "cq.autogen": "ScaledChebyshevPolynomial.bloq_doc.md"
   },
   "source": [
    "## `ScaledChebyshevPolynomial`\n",
    "Block encoding of $T_j(A)$ where $T_j$ is the $j$-th Chebyshev polynomial.\n",
    "\n",
    "Unlike `ChebyshevPolynomial`, this bloq accepts $\\mathcal{B}[A/\\alpha]$ with $\\alpha \\neq 1$\n",
    "and constructs $\\mathcal{B}[T_j(A)]$ which is not a multiple of $\\mathcal{B}[T_j(A/\\alpha)]$\n",
    "in general. It does so by constructing $T_k(t)$ in terms of $T_j(t/\\alpha)$ for $j \\in [0, k]$.\n",
    "\n",
    "#### Parameters\n",
    " - `block_encoding`: Block encoding of a Hermitian matrix $A$, $\\mathcal{B}[A/\\alpha]$. Assumes the $|G\\rangle$ state of the block encoding is the identity operator.\n",
    " - `order`: order of Chebychev polynomial.\n",
    " - `lambd_bits`: number of bits to represent coefficients of linear combination precisely. \n",
    "\n",
    "#### References\n",
    " - [Explicit Quantum Circuits for Block Encodings of Certain Sparse Matrices](https://arxiv.org/abs/2203.10236). Camps et al. (2023). Section 5.1.\n"
   ]
  },
  {
   "cell_type": "code",
   "execution_count": 7,
   "id": "508faa91",
   "metadata": {
    "cq.autogen": "ScaledChebyshevPolynomial.bloq_doc.py"
   },
   "outputs": [],
   "source": [
    "from qualtran.bloqs.block_encoding import ScaledChebyshevPolynomial"
   ]
  },
  {
   "cell_type": "markdown",
   "id": "338fcd02",
   "metadata": {
    "cq.autogen": "ScaledChebyshevPolynomial.example_instances.md"
   },
   "source": [
    "### Example Instances"
   ]
  },
  {
   "cell_type": "code",
   "execution_count": 8,
   "id": "3cae55ac",
   "metadata": {
    "cq.autogen": "ScaledChebyshevPolynomial.scaled_chebyshev_poly_even"
   },
   "outputs": [],
   "source": [
    "from qualtran.bloqs.basic_gates import Hadamard, XGate\n",
    "from qualtran.bloqs.block_encoding import LinearCombination, Unitary\n",
    "\n",
    "bloq = LinearCombination((Unitary(XGate()), Unitary(Hadamard())), (1.0, 1.0), lambd_bits=1)\n",
    "scaled_chebyshev_poly_even = ScaledChebyshevPolynomial(bloq, order=4)"
   ]
  },
  {
   "cell_type": "code",
   "execution_count": 9,
   "id": "4e2aa89f",
   "metadata": {
    "cq.autogen": "ScaledChebyshevPolynomial.scaled_chebyshev_poly_odd"
   },
   "outputs": [],
   "source": [
    "from attrs import evolve\n",
    "\n",
    "from qualtran.bloqs.basic_gates import Hadamard\n",
    "from qualtran.bloqs.block_encoding import Unitary\n",
    "\n",
    "bloq = evolve(Unitary(Hadamard()), alpha=3.14)\n",
    "scaled_chebyshev_poly_odd = ScaledChebyshevPolynomial(bloq, order=5)"
   ]
  },
  {
   "cell_type": "markdown",
   "id": "76887fe8",
   "metadata": {
    "cq.autogen": "ScaledChebyshevPolynomial.graphical_signature.md"
   },
   "source": [
    "#### Graphical Signature"
   ]
  },
  {
   "cell_type": "code",
   "execution_count": 10,
   "id": "d83706cf",
   "metadata": {
    "cq.autogen": "ScaledChebyshevPolynomial.graphical_signature.py"
   },
   "outputs": [
    {
     "data": {
      "application/vnd.jupyter.widget-view+json": {
       "model_id": "2d447e0da7f6475a867aa806fec69130",
       "version_major": 2,
       "version_minor": 0
      },
      "text/plain": [
       "HBox(children=(Output(outputs=({'output_type': 'display_data', 'data': {'text/plain': '<IPython.core.display.M…"
      ]
     },
     "metadata": {},
     "output_type": "display_data"
    }
   ],
   "source": [
    "from qualtran.drawing import show_bloqs\n",
    "show_bloqs([scaled_chebyshev_poly_even, scaled_chebyshev_poly_odd],\n",
    "           ['`scaled_chebyshev_poly_even`', '`scaled_chebyshev_poly_odd`'])"
   ]
  },
  {
   "cell_type": "markdown",
   "id": "901aebb5",
   "metadata": {
    "cq.autogen": "ScaledChebyshevPolynomial.call_graph.md"
   },
   "source": [
    "### Call Graph"
   ]
  },
  {
   "cell_type": "code",
   "execution_count": 11,
   "id": "179cf0a7",
   "metadata": {
    "cq.autogen": "ScaledChebyshevPolynomial.call_graph.py"
   },
   "outputs": [
    {
     "data": {
      "image/svg+xml": [
       "<svg xmlns=\"http://www.w3.org/2000/svg\" xmlns:xlink=\"http://www.w3.org/1999/xlink\" width=\"356pt\" height=\"131pt\" viewBox=\"0.00 0.00 356.00 131.00\">\n",
       "<g id=\"graph0\" class=\"graph\" transform=\"scale(1 1) rotate(0) translate(4 127)\">\n",
       "<title>counts</title>\n",
       "<polygon fill=\"white\" stroke=\"transparent\" points=\"-4,4 -4,-127 352,-127 352,4 -4,4\"/>\n",
       "<!-- b0 -->\n",
       "<g id=\"node1\" class=\"node\">\n",
       "<title>b0</title>\n",
       "<polygon fill=\"none\" stroke=\"black\" points=\"133,-93 133,-116 215,-116 215,-93 133,-93\"/>\n",
       "<text text-anchor=\"start\" x=\"139\" y=\"-102\" font-family=\"Times,serif\" font-size=\"10.00\">B[T_4(B[X+H])]</text>\n",
       "</g>\n",
       "<!-- b1 -->\n",
       "<g id=\"node2\" class=\"node\">\n",
       "<title>b1</title>\n",
       "<polygon fill=\"none\" stroke=\"black\" points=\"8,-6 8,-29 340,-29 340,-6 8,-6\"/>\n",
       "<text text-anchor=\"start\" x=\"14.5\" y=\"-15\" font-family=\"Times,serif\" font-size=\"10.00\">B[T_0(B[X+H])+T_1(B[X+H])+T_2(B[X+H])+T_3(B[X+H])+T_4(B[X+H])]</text>\n",
       "</g>\n",
       "<!-- b0&#45;&gt;b1 -->\n",
       "<g id=\"edge1\" class=\"edge\">\n",
       "<title>b0-&gt;b1</title>\n",
       "<path fill=\"none\" stroke=\"black\" d=\"M174,-86.8C174,-75.16 174,-59.55 174,-46.24\"/>\n",
       "<polygon fill=\"black\" stroke=\"black\" points=\"177.5,-46.18 174,-36.18 170.5,-46.18 177.5,-46.18\"/>\n",
       "<text text-anchor=\"middle\" x=\"177.5\" y=\"-57.8\" font-family=\"Times,serif\" font-size=\"14.00\">1</text>\n",
       "</g>\n",
       "</g>\n",
       "</svg>"
      ],
      "text/plain": [
       "<IPython.core.display.SVG object>"
      ]
     },
     "metadata": {},
     "output_type": "display_data"
    },
    {
     "data": {
      "text/markdown": [
       "#### Counts totals:\n",
       " - `B[T_0(B[X+H])+T_1(B[X+H])+T_2(B[X+H])+T_3(B[X+H])+T_4(B[X+H])]`: 1"
      ],
      "text/plain": [
       "<IPython.core.display.Markdown object>"
      ]
     },
     "metadata": {},
     "output_type": "display_data"
    }
   ],
   "source": [
    "from qualtran.resource_counting.generalizers import ignore_split_join\n",
    "scaled_chebyshev_poly_even_g, scaled_chebyshev_poly_even_sigma = scaled_chebyshev_poly_even.call_graph(max_depth=1, generalizer=ignore_split_join)\n",
    "show_call_graph(scaled_chebyshev_poly_even_g)\n",
    "show_counts_sigma(scaled_chebyshev_poly_even_sigma)"
   ]
  }
 ],
 "metadata": {
  "kernelspec": {
   "display_name": "Python 3",
   "language": "python",
   "name": "python3"
  },
  "language_info": {
   "codemirror_mode": {
    "name": "ipython",
    "version": 3
   },
   "file_extension": ".py",
   "mimetype": "text/x-python",
   "name": "python",
   "nbconvert_exporter": "python",
   "pygments_lexer": "ipython3",
   "version": "3.11.8"
  },
  "widgets": {
   "application/vnd.jupyter.widget-state+json": {
    "state": {
     "06bb28bfd6114e46b541c27994c1d332": {
      "model_module": "@jupyter-widgets/output",
      "model_module_version": "1.0.0",
      "model_name": "OutputModel",
      "state": {
       "_dom_classes": [],
       "_model_module": "@jupyter-widgets/output",
       "_model_module_version": "1.0.0",
       "_model_name": "OutputModel",
       "_view_count": null,
       "_view_module": "@jupyter-widgets/output",
       "_view_module_version": "1.0.0",
       "_view_name": "OutputView",
       "layout": "IPY_MODEL_265bb3cdd08140bbb23e42d9dc36c7b8",
       "msg_id": "",
       "outputs": [
        {
         "data": {
          "text/markdown": "`scaled_chebyshev_poly_even`",
          "text/plain": "<IPython.core.display.Markdown object>"
         },
         "metadata": {},
         "output_type": "display_data"
        },
        {
         "data": {
          "image/svg+xml": "<svg xmlns=\"http://www.w3.org/2000/svg\" xmlns:xlink=\"http://www.w3.org/1999/xlink\" width=\"282pt\" height=\"152pt\" viewBox=\"0.00 0.00 282.00 152.00\">\n<g id=\"graph0\" class=\"graph\" transform=\"scale(1 1) rotate(0) translate(4 148)\">\n<title>my_graph</title>\n<polygon fill=\"white\" stroke=\"transparent\" points=\"-4,4 -4,-148 278,-148 278,4 -4,4\"/>\n<!-- system_G0 -->\n<g id=\"node1\" class=\"node\">\n<title>system_G0</title>\n<text text-anchor=\"middle\" x=\"31\" y=\"-122.3\" font-family=\"Times,serif\" font-size=\"14.00\">system</text>\n</g>\n<!-- ScaledChebyshevPolynomial -->\n<g id=\"node4\" class=\"node\">\n<title>ScaledChebyshevPolynomial</title>\n<polygon fill=\"none\" stroke=\"black\" points=\"99,-104 99,-121 175,-121 175,-104 99,-104\"/>\n<text text-anchor=\"start\" x=\"102\" y=\"-110\" font-family=\"Times,serif\" font-size=\"10.00\">B[T_4(B[X+H])]</text>\n<polygon fill=\"none\" stroke=\"black\" points=\"99,-83 99,-104 175,-104 175,-83 99,-83\"/>\n<text text-anchor=\"start\" x=\"117.5\" y=\"-89.8\" font-family=\"Times,serif\" font-size=\"14.00\">system</text>\n<polygon fill=\"none\" stroke=\"black\" points=\"99,-62 99,-83 175,-83 175,-62 99,-62\"/>\n<text text-anchor=\"start\" x=\"118.5\" y=\"-68.8\" font-family=\"Times,serif\" font-size=\"14.00\">ancilla</text>\n<polygon fill=\"none\" stroke=\"black\" points=\"99,-41 99,-62 175,-62 175,-41 99,-41\"/>\n<text text-anchor=\"start\" x=\"114\" y=\"-47.8\" font-family=\"Times,serif\" font-size=\"14.00\">resource</text>\n</g>\n<!-- system_G0&#45;&gt;ScaledChebyshevPolynomial -->\n<g id=\"edge1\" class=\"edge\">\n<title>system_G0:e-&gt;ScaledChebyshevPolynomial:w</title>\n<path fill=\"none\" stroke=\"black\" d=\"M60,-126C81.72,-126 76.92,-95.97 96.98,-94.09\"/>\n<ellipse fill=\"black\" stroke=\"black\" cx=\"98\" cy=\"-94.05\" rx=\"1\" ry=\"1\"/>\n<text text-anchor=\"middle\" x=\"80.5\" y=\"-111\" font-family=\"Times,serif\" font-size=\"10.00\">1</text>\n</g>\n<!-- ancilla_G5 -->\n<g id=\"node2\" class=\"node\">\n<title>ancilla_G5</title>\n<text text-anchor=\"middle\" x=\"31\" y=\"-68.3\" font-family=\"Times,serif\" font-size=\"14.00\">ancilla</text>\n</g>\n<!-- ancilla_G5&#45;&gt;ScaledChebyshevPolynomial -->\n<g id=\"edge2\" class=\"edge\">\n<title>ancilla_G5:e-&gt;ScaledChebyshevPolynomial:w</title>\n<path fill=\"none\" stroke=\"black\" d=\"M59,-72C76.08,-72 80.85,-72 96.98,-72\"/>\n<ellipse fill=\"black\" stroke=\"black\" cx=\"98\" cy=\"-72\" rx=\"1\" ry=\"1\"/>\n<text text-anchor=\"middle\" x=\"80.5\" y=\"-75\" font-family=\"Times,serif\" font-size=\"10.00\">4</text>\n</g>\n<!-- resource_G8 -->\n<g id=\"node3\" class=\"node\">\n<title>resource_G8</title>\n<text text-anchor=\"middle\" x=\"31\" y=\"-14.3\" font-family=\"Times,serif\" font-size=\"14.00\">resource</text>\n</g>\n<!-- resource_G8&#45;&gt;ScaledChebyshevPolynomial -->\n<g id=\"edge3\" class=\"edge\">\n<title>resource_G8:e-&gt;ScaledChebyshevPolynomial:w</title>\n<path fill=\"none\" stroke=\"black\" d=\"M62,-18C83.17,-18 77.47,-48.47 96.55,-50.85\"/>\n<ellipse fill=\"black\" stroke=\"black\" cx=\"98\" cy=\"-50.94\" rx=\"1\" ry=\"1\"/>\n<text text-anchor=\"middle\" x=\"80.5\" y=\"-39\" font-family=\"Times,serif\" font-size=\"10.00\">18</text>\n</g>\n<!-- system_G2 -->\n<g id=\"node5\" class=\"node\">\n<title>system_G2</title>\n<text text-anchor=\"middle\" x=\"243\" y=\"-122.3\" font-family=\"Times,serif\" font-size=\"14.00\">system</text>\n</g>\n<!-- ScaledChebyshevPolynomial&#45;&gt;system_G2 -->\n<g id=\"edge4\" class=\"edge\">\n<title>ScaledChebyshevPolynomial:e-&gt;system_G2:w</title>\n<path fill=\"none\" stroke=\"black\" d=\"M175,-94C196.72,-94 191.92,-124.03 211.98,-125.91\"/>\n<ellipse fill=\"black\" stroke=\"black\" cx=\"213\" cy=\"-125.95\" rx=\"1\" ry=\"1\"/>\n<text text-anchor=\"middle\" x=\"193.5\" y=\"-111\" font-family=\"Times,serif\" font-size=\"10.00\">1</text>\n</g>\n<!-- ancilla_G1 -->\n<g id=\"node6\" class=\"node\">\n<title>ancilla_G1</title>\n<text text-anchor=\"middle\" x=\"243\" y=\"-68.3\" font-family=\"Times,serif\" font-size=\"14.00\">ancilla</text>\n</g>\n<!-- ScaledChebyshevPolynomial&#45;&gt;ancilla_G1 -->\n<g id=\"edge5\" class=\"edge\">\n<title>ScaledChebyshevPolynomial:e-&gt;ancilla_G1:w</title>\n<path fill=\"none\" stroke=\"black\" d=\"M175,-72C192.08,-72 196.85,-72 212.98,-72\"/>\n<ellipse fill=\"black\" stroke=\"black\" cx=\"214\" cy=\"-72\" rx=\"1\" ry=\"1\"/>\n<text text-anchor=\"middle\" x=\"193.5\" y=\"-75\" font-family=\"Times,serif\" font-size=\"10.00\">4</text>\n</g>\n<!-- resource_G3 -->\n<g id=\"node7\" class=\"node\">\n<title>resource_G3</title>\n<text text-anchor=\"middle\" x=\"243\" y=\"-14.3\" font-family=\"Times,serif\" font-size=\"14.00\">resource</text>\n</g>\n<!-- ScaledChebyshevPolynomial&#45;&gt;resource_G3 -->\n<g id=\"edge6\" class=\"edge\">\n<title>ScaledChebyshevPolynomial:e-&gt;resource_G3:w</title>\n<path fill=\"none\" stroke=\"black\" d=\"M175,-51C196.17,-51 190.47,-20.53 209.55,-18.15\"/>\n<ellipse fill=\"black\" stroke=\"black\" cx=\"211\" cy=\"-18.06\" rx=\"1\" ry=\"1\"/>\n<text text-anchor=\"middle\" x=\"193.5\" y=\"-39\" font-family=\"Times,serif\" font-size=\"10.00\">18</text>\n</g>\n</g>\n</svg>",
          "text/plain": "<IPython.core.display.SVG object>"
         },
         "metadata": {},
         "output_type": "display_data"
        }
       ],
       "tabbable": null,
       "tooltip": null
      }
     },
     "25f4c95721684c69923cdec01771ee4f": {
      "model_module": "@jupyter-widgets/base",
      "model_module_version": "2.0.0",
      "model_name": "LayoutModel",
      "state": {
       "_model_module": "@jupyter-widgets/base",
       "_model_module_version": "2.0.0",
       "_model_name": "LayoutModel",
       "_view_count": null,
       "_view_module": "@jupyter-widgets/base",
       "_view_module_version": "2.0.0",
       "_view_name": "LayoutView",
       "align_content": null,
       "align_items": null,
       "align_self": null,
       "border_bottom": null,
       "border_left": null,
       "border_right": null,
       "border_top": null,
       "bottom": null,
       "display": null,
       "flex": null,
       "flex_flow": null,
       "grid_area": null,
       "grid_auto_columns": null,
       "grid_auto_flow": null,
       "grid_auto_rows": null,
       "grid_column": null,
       "grid_gap": null,
       "grid_row": null,
       "grid_template_areas": null,
       "grid_template_columns": null,
       "grid_template_rows": null,
       "height": null,
       "justify_content": null,
       "justify_items": null,
       "left": null,
       "margin": null,
       "max_height": null,
       "max_width": null,
       "min_height": null,
       "min_width": null,
       "object_fit": null,
       "object_position": null,
       "order": null,
       "overflow": null,
       "padding": null,
       "right": null,
       "top": null,
       "visibility": null,
       "width": null
      }
     },
     "265bb3cdd08140bbb23e42d9dc36c7b8": {
      "model_module": "@jupyter-widgets/base",
      "model_module_version": "2.0.0",
      "model_name": "LayoutModel",
      "state": {
       "_model_module": "@jupyter-widgets/base",
       "_model_module_version": "2.0.0",
       "_model_name": "LayoutModel",
       "_view_count": null,
       "_view_module": "@jupyter-widgets/base",
       "_view_module_version": "2.0.0",
       "_view_name": "LayoutView",
       "align_content": null,
       "align_items": null,
       "align_self": null,
       "border_bottom": null,
       "border_left": null,
       "border_right": null,
       "border_top": null,
       "bottom": null,
       "display": null,
       "flex": null,
       "flex_flow": null,
       "grid_area": null,
       "grid_auto_columns": null,
       "grid_auto_flow": null,
       "grid_auto_rows": null,
       "grid_column": null,
       "grid_gap": null,
       "grid_row": null,
       "grid_template_areas": null,
       "grid_template_columns": null,
       "grid_template_rows": null,
       "height": null,
       "justify_content": null,
       "justify_items": null,
       "left": null,
       "margin": null,
       "max_height": null,
       "max_width": null,
       "min_height": null,
       "min_width": null,
       "object_fit": null,
       "object_position": null,
       "order": null,
       "overflow": null,
       "padding": null,
       "right": null,
       "top": null,
       "visibility": null,
       "width": null
      }
     },
     "2d447e0da7f6475a867aa806fec69130": {
      "model_module": "@jupyter-widgets/controls",
      "model_module_version": "2.0.0",
      "model_name": "HBoxModel",
      "state": {
       "_dom_classes": [],
       "_model_module": "@jupyter-widgets/controls",
       "_model_module_version": "2.0.0",
       "_model_name": "HBoxModel",
       "_view_count": null,
       "_view_module": "@jupyter-widgets/controls",
       "_view_module_version": "2.0.0",
       "_view_name": "HBoxView",
       "box_style": "",
       "children": [
        "IPY_MODEL_06bb28bfd6114e46b541c27994c1d332",
        "IPY_MODEL_9a0cc16ebe4d43b48fd283b42024dec6"
       ],
       "layout": "IPY_MODEL_388207b8df424cf2893ed2708a8bd2d3",
       "tabbable": null,
       "tooltip": null
      }
     },
     "3134cf72df0b4c9aa9a2eab2a5879cc7": {
      "model_module": "@jupyter-widgets/controls",
      "model_module_version": "2.0.0",
      "model_name": "HBoxModel",
      "state": {
       "_dom_classes": [],
       "_model_module": "@jupyter-widgets/controls",
       "_model_module_version": "2.0.0",
       "_model_name": "HBoxModel",
       "_view_count": null,
       "_view_module": "@jupyter-widgets/controls",
       "_view_module_version": "2.0.0",
       "_view_name": "HBoxView",
       "box_style": "",
       "children": [
        "IPY_MODEL_5ff57795aa09481cb9735491529920a5",
        "IPY_MODEL_cc0aface811f44efb66acbc22b9ce031"
       ],
       "layout": "IPY_MODEL_8ff1119a8aa14db1b094f64b7996ea9b",
       "tabbable": null,
       "tooltip": null
      }
     },
     "388207b8df424cf2893ed2708a8bd2d3": {
      "model_module": "@jupyter-widgets/base",
      "model_module_version": "2.0.0",
      "model_name": "LayoutModel",
      "state": {
       "_model_module": "@jupyter-widgets/base",
       "_model_module_version": "2.0.0",
       "_model_name": "LayoutModel",
       "_view_count": null,
       "_view_module": "@jupyter-widgets/base",
       "_view_module_version": "2.0.0",
       "_view_name": "LayoutView",
       "align_content": null,
       "align_items": null,
       "align_self": null,
       "border_bottom": null,
       "border_left": null,
       "border_right": null,
       "border_top": null,
       "bottom": null,
       "display": null,
       "flex": null,
       "flex_flow": null,
       "grid_area": null,
       "grid_auto_columns": null,
       "grid_auto_flow": null,
       "grid_auto_rows": null,
       "grid_column": null,
       "grid_gap": null,
       "grid_row": null,
       "grid_template_areas": null,
       "grid_template_columns": null,
       "grid_template_rows": null,
       "height": null,
       "justify_content": null,
       "justify_items": null,
       "left": null,
       "margin": null,
       "max_height": null,
       "max_width": null,
       "min_height": null,
       "min_width": null,
       "object_fit": null,
       "object_position": null,
       "order": null,
       "overflow": null,
       "padding": null,
       "right": null,
       "top": null,
       "visibility": null,
       "width": null
      }
     },
     "5ff57795aa09481cb9735491529920a5": {
      "model_module": "@jupyter-widgets/output",
      "model_module_version": "1.0.0",
      "model_name": "OutputModel",
      "state": {
       "_dom_classes": [],
       "_model_module": "@jupyter-widgets/output",
       "_model_module_version": "1.0.0",
       "_model_name": "OutputModel",
       "_view_count": null,
       "_view_module": "@jupyter-widgets/output",
       "_view_module_version": "1.0.0",
       "_view_name": "OutputView",
       "layout": "IPY_MODEL_d455f0c1a4c54282ac38af8a31e17d87",
       "msg_id": "",
       "outputs": [
        {
         "data": {
          "text/markdown": "`chebyshev_poly_even`",
          "text/plain": "<IPython.core.display.Markdown object>"
         },
         "metadata": {},
         "output_type": "display_data"
        },
        {
         "data": {
          "image/svg+xml": "<svg xmlns=\"http://www.w3.org/2000/svg\" xmlns:xlink=\"http://www.w3.org/1999/xlink\" width=\"282pt\" height=\"152pt\" viewBox=\"0.00 0.00 282.00 152.00\">\n<g id=\"graph0\" class=\"graph\" transform=\"scale(1 1) rotate(0) translate(4 148)\">\n<title>my_graph</title>\n<polygon fill=\"white\" stroke=\"transparent\" points=\"-4,4 -4,-148 278,-148 278,4 -4,4\"/>\n<!-- system_G0 -->\n<g id=\"node1\" class=\"node\">\n<title>system_G0</title>\n<text text-anchor=\"middle\" x=\"31\" y=\"-122.3\" font-family=\"Times,serif\" font-size=\"14.00\">system</text>\n</g>\n<!-- ChebyshevPolynomial -->\n<g id=\"node4\" class=\"node\">\n<title>ChebyshevPolynomial</title>\n<polygon fill=\"none\" stroke=\"black\" points=\"99,-104 99,-121 175,-121 175,-104 99,-104\"/>\n<text text-anchor=\"start\" x=\"102\" y=\"-110\" font-family=\"Times,serif\" font-size=\"10.00\">B[T_4(B[X+H])]</text>\n<polygon fill=\"none\" stroke=\"black\" points=\"99,-83 99,-104 175,-104 175,-83 99,-83\"/>\n<text text-anchor=\"start\" x=\"117.5\" y=\"-89.8\" font-family=\"Times,serif\" font-size=\"14.00\">system</text>\n<polygon fill=\"none\" stroke=\"black\" points=\"99,-62 99,-83 175,-83 175,-62 99,-62\"/>\n<text text-anchor=\"start\" x=\"118.5\" y=\"-68.8\" font-family=\"Times,serif\" font-size=\"14.00\">ancilla</text>\n<polygon fill=\"none\" stroke=\"black\" points=\"99,-41 99,-62 175,-62 175,-41 99,-41\"/>\n<text text-anchor=\"start\" x=\"114\" y=\"-47.8\" font-family=\"Times,serif\" font-size=\"14.00\">resource</text>\n</g>\n<!-- system_G0&#45;&gt;ChebyshevPolynomial -->\n<g id=\"edge1\" class=\"edge\">\n<title>system_G0:e-&gt;ChebyshevPolynomial:w</title>\n<path fill=\"none\" stroke=\"black\" d=\"M60,-126C81.72,-126 76.92,-95.97 96.98,-94.09\"/>\n<ellipse fill=\"black\" stroke=\"black\" cx=\"98\" cy=\"-94.05\" rx=\"1\" ry=\"1\"/>\n<text text-anchor=\"middle\" x=\"80.5\" y=\"-111\" font-family=\"Times,serif\" font-size=\"10.00\">1</text>\n</g>\n<!-- ancilla_G5 -->\n<g id=\"node2\" class=\"node\">\n<title>ancilla_G5</title>\n<text text-anchor=\"middle\" x=\"31\" y=\"-68.3\" font-family=\"Times,serif\" font-size=\"14.00\">ancilla</text>\n</g>\n<!-- ancilla_G5&#45;&gt;ChebyshevPolynomial -->\n<g id=\"edge2\" class=\"edge\">\n<title>ancilla_G5:e-&gt;ChebyshevPolynomial:w</title>\n<path fill=\"none\" stroke=\"black\" d=\"M59,-72C76.08,-72 80.85,-72 96.98,-72\"/>\n<ellipse fill=\"black\" stroke=\"black\" cx=\"98\" cy=\"-72\" rx=\"1\" ry=\"1\"/>\n<text text-anchor=\"middle\" x=\"80.5\" y=\"-75\" font-family=\"Times,serif\" font-size=\"10.00\">1</text>\n</g>\n<!-- resource_G8 -->\n<g id=\"node3\" class=\"node\">\n<title>resource_G8</title>\n<text text-anchor=\"middle\" x=\"31\" y=\"-14.3\" font-family=\"Times,serif\" font-size=\"14.00\">resource</text>\n</g>\n<!-- resource_G8&#45;&gt;ChebyshevPolynomial -->\n<g id=\"edge3\" class=\"edge\">\n<title>resource_G8:e-&gt;ChebyshevPolynomial:w</title>\n<path fill=\"none\" stroke=\"black\" d=\"M62,-18C83.17,-18 77.47,-48.47 96.55,-50.85\"/>\n<ellipse fill=\"black\" stroke=\"black\" cx=\"98\" cy=\"-50.94\" rx=\"1\" ry=\"1\"/>\n<text text-anchor=\"middle\" x=\"80.5\" y=\"-39\" font-family=\"Times,serif\" font-size=\"10.00\">4</text>\n</g>\n<!-- system_G4 -->\n<g id=\"node5\" class=\"node\">\n<title>system_G4</title>\n<text text-anchor=\"middle\" x=\"243\" y=\"-122.3\" font-family=\"Times,serif\" font-size=\"14.00\">system</text>\n</g>\n<!-- ChebyshevPolynomial&#45;&gt;system_G4 -->\n<g id=\"edge4\" class=\"edge\">\n<title>ChebyshevPolynomial:e-&gt;system_G4:w</title>\n<path fill=\"none\" stroke=\"black\" d=\"M175,-94C196.72,-94 191.92,-124.03 211.98,-125.91\"/>\n<ellipse fill=\"black\" stroke=\"black\" cx=\"213\" cy=\"-125.95\" rx=\"1\" ry=\"1\"/>\n<text text-anchor=\"middle\" x=\"193.5\" y=\"-111\" font-family=\"Times,serif\" font-size=\"10.00\">1</text>\n</g>\n<!-- ancilla_G6 -->\n<g id=\"node6\" class=\"node\">\n<title>ancilla_G6</title>\n<text text-anchor=\"middle\" x=\"243\" y=\"-68.3\" font-family=\"Times,serif\" font-size=\"14.00\">ancilla</text>\n</g>\n<!-- ChebyshevPolynomial&#45;&gt;ancilla_G6 -->\n<g id=\"edge5\" class=\"edge\">\n<title>ChebyshevPolynomial:e-&gt;ancilla_G6:w</title>\n<path fill=\"none\" stroke=\"black\" d=\"M175,-72C192.08,-72 196.85,-72 212.98,-72\"/>\n<ellipse fill=\"black\" stroke=\"black\" cx=\"214\" cy=\"-72\" rx=\"1\" ry=\"1\"/>\n<text text-anchor=\"middle\" x=\"193.5\" y=\"-75\" font-family=\"Times,serif\" font-size=\"10.00\">1</text>\n</g>\n<!-- resource_G2 -->\n<g id=\"node7\" class=\"node\">\n<title>resource_G2</title>\n<text text-anchor=\"middle\" x=\"243\" y=\"-14.3\" font-family=\"Times,serif\" font-size=\"14.00\">resource</text>\n</g>\n<!-- ChebyshevPolynomial&#45;&gt;resource_G2 -->\n<g id=\"edge6\" class=\"edge\">\n<title>ChebyshevPolynomial:e-&gt;resource_G2:w</title>\n<path fill=\"none\" stroke=\"black\" d=\"M175,-51C196.17,-51 190.47,-20.53 209.55,-18.15\"/>\n<ellipse fill=\"black\" stroke=\"black\" cx=\"211\" cy=\"-18.06\" rx=\"1\" ry=\"1\"/>\n<text text-anchor=\"middle\" x=\"193.5\" y=\"-39\" font-family=\"Times,serif\" font-size=\"10.00\">4</text>\n</g>\n</g>\n</svg>",
          "text/plain": "<IPython.core.display.SVG object>"
         },
         "metadata": {},
         "output_type": "display_data"
        }
       ],
       "tabbable": null,
       "tooltip": null
      }
     },
     "8ff1119a8aa14db1b094f64b7996ea9b": {
      "model_module": "@jupyter-widgets/base",
      "model_module_version": "2.0.0",
      "model_name": "LayoutModel",
      "state": {
       "_model_module": "@jupyter-widgets/base",
       "_model_module_version": "2.0.0",
       "_model_name": "LayoutModel",
       "_view_count": null,
       "_view_module": "@jupyter-widgets/base",
       "_view_module_version": "2.0.0",
       "_view_name": "LayoutView",
       "align_content": null,
       "align_items": null,
       "align_self": null,
       "border_bottom": null,
       "border_left": null,
       "border_right": null,
       "border_top": null,
       "bottom": null,
       "display": null,
       "flex": null,
       "flex_flow": null,
       "grid_area": null,
       "grid_auto_columns": null,
       "grid_auto_flow": null,
       "grid_auto_rows": null,
       "grid_column": null,
       "grid_gap": null,
       "grid_row": null,
       "grid_template_areas": null,
       "grid_template_columns": null,
       "grid_template_rows": null,
       "height": null,
       "justify_content": null,
       "justify_items": null,
       "left": null,
       "margin": null,
       "max_height": null,
       "max_width": null,
       "min_height": null,
       "min_width": null,
       "object_fit": null,
       "object_position": null,
       "order": null,
       "overflow": null,
       "padding": null,
       "right": null,
       "top": null,
       "visibility": null,
       "width": null
      }
     },
     "9a0cc16ebe4d43b48fd283b42024dec6": {
      "model_module": "@jupyter-widgets/output",
      "model_module_version": "1.0.0",
      "model_name": "OutputModel",
      "state": {
       "_dom_classes": [],
       "_model_module": "@jupyter-widgets/output",
       "_model_module_version": "1.0.0",
       "_model_name": "OutputModel",
       "_view_count": null,
       "_view_module": "@jupyter-widgets/output",
       "_view_module_version": "1.0.0",
       "_view_name": "OutputView",
       "layout": "IPY_MODEL_25f4c95721684c69923cdec01771ee4f",
       "msg_id": "",
       "outputs": [
        {
         "data": {
          "text/markdown": "`scaled_chebyshev_poly_odd`",
          "text/plain": "<IPython.core.display.Markdown object>"
         },
         "metadata": {},
         "output_type": "display_data"
        },
        {
         "data": {
          "image/svg+xml": "<svg xmlns=\"http://www.w3.org/2000/svg\" xmlns:xlink=\"http://www.w3.org/1999/xlink\" width=\"268pt\" height=\"152pt\" viewBox=\"0.00 0.00 268.00 152.00\">\n<g id=\"graph0\" class=\"graph\" transform=\"scale(1 1) rotate(0) translate(4 148)\">\n<title>my_graph</title>\n<polygon fill=\"white\" stroke=\"transparent\" points=\"-4,4 -4,-148 264,-148 264,4 -4,4\"/>\n<!-- system_G0 -->\n<g id=\"node1\" class=\"node\">\n<title>system_G0</title>\n<text text-anchor=\"middle\" x=\"31\" y=\"-122.3\" font-family=\"Times,serif\" font-size=\"14.00\">system</text>\n</g>\n<!-- ScaledChebyshevPolynomial -->\n<g id=\"node4\" class=\"node\">\n<title>ScaledChebyshevPolynomial</title>\n<polygon fill=\"none\" stroke=\"black\" points=\"99,-104 99,-121 161,-121 161,-104 99,-104\"/>\n<text text-anchor=\"start\" x=\"102\" y=\"-110\" font-family=\"Times,serif\" font-size=\"10.00\">B[T_5(B[H])]</text>\n<polygon fill=\"none\" stroke=\"black\" points=\"99,-83 99,-104 161,-104 161,-83 99,-83\"/>\n<text text-anchor=\"start\" x=\"110.5\" y=\"-89.8\" font-family=\"Times,serif\" font-size=\"14.00\">system</text>\n<polygon fill=\"none\" stroke=\"black\" points=\"99,-62 99,-83 161,-83 161,-62 99,-62\"/>\n<text text-anchor=\"start\" x=\"111.5\" y=\"-68.8\" font-family=\"Times,serif\" font-size=\"14.00\">ancilla</text>\n<polygon fill=\"none\" stroke=\"black\" points=\"99,-41 99,-62 161,-62 161,-41 99,-41\"/>\n<text text-anchor=\"start\" x=\"107\" y=\"-47.8\" font-family=\"Times,serif\" font-size=\"14.00\">resource</text>\n</g>\n<!-- system_G0&#45;&gt;ScaledChebyshevPolynomial -->\n<g id=\"edge1\" class=\"edge\">\n<title>system_G0:e-&gt;ScaledChebyshevPolynomial:w</title>\n<path fill=\"none\" stroke=\"black\" d=\"M60,-126C81.72,-126 76.92,-95.97 96.98,-94.09\"/>\n<ellipse fill=\"black\" stroke=\"black\" cx=\"98\" cy=\"-94.05\" rx=\"1\" ry=\"1\"/>\n<text text-anchor=\"middle\" x=\"80.5\" y=\"-111\" font-family=\"Times,serif\" font-size=\"10.00\">1</text>\n</g>\n<!-- ancilla_G4 -->\n<g id=\"node2\" class=\"node\">\n<title>ancilla_G4</title>\n<text text-anchor=\"middle\" x=\"31\" y=\"-68.3\" font-family=\"Times,serif\" font-size=\"14.00\">ancilla</text>\n</g>\n<!-- ancilla_G4&#45;&gt;ScaledChebyshevPolynomial -->\n<g id=\"edge2\" class=\"edge\">\n<title>ancilla_G4:e-&gt;ScaledChebyshevPolynomial:w</title>\n<path fill=\"none\" stroke=\"black\" d=\"M59,-72C76.08,-72 80.85,-72 96.98,-72\"/>\n<ellipse fill=\"black\" stroke=\"black\" cx=\"98\" cy=\"-72\" rx=\"1\" ry=\"1\"/>\n<text text-anchor=\"middle\" x=\"80.5\" y=\"-75\" font-family=\"Times,serif\" font-size=\"10.00\">3</text>\n</g>\n<!-- resource_G6 -->\n<g id=\"node3\" class=\"node\">\n<title>resource_G6</title>\n<text text-anchor=\"middle\" x=\"31\" y=\"-14.3\" font-family=\"Times,serif\" font-size=\"14.00\">resource</text>\n</g>\n<!-- resource_G6&#45;&gt;ScaledChebyshevPolynomial -->\n<g id=\"edge3\" class=\"edge\">\n<title>resource_G6:e-&gt;ScaledChebyshevPolynomial:w</title>\n<path fill=\"none\" stroke=\"black\" d=\"M62,-18C83.17,-18 77.47,-48.47 96.55,-50.85\"/>\n<ellipse fill=\"black\" stroke=\"black\" cx=\"98\" cy=\"-50.94\" rx=\"1\" ry=\"1\"/>\n<text text-anchor=\"middle\" x=\"80.5\" y=\"-39\" font-family=\"Times,serif\" font-size=\"10.00\">14</text>\n</g>\n<!-- system_G1 -->\n<g id=\"node5\" class=\"node\">\n<title>system_G1</title>\n<text text-anchor=\"middle\" x=\"229\" y=\"-122.3\" font-family=\"Times,serif\" font-size=\"14.00\">system</text>\n</g>\n<!-- ScaledChebyshevPolynomial&#45;&gt;system_G1 -->\n<g id=\"edge4\" class=\"edge\">\n<title>ScaledChebyshevPolynomial:e-&gt;system_G1:w</title>\n<path fill=\"none\" stroke=\"black\" d=\"M161,-94C182.72,-94 177.92,-124.03 197.98,-125.91\"/>\n<ellipse fill=\"black\" stroke=\"black\" cx=\"199\" cy=\"-125.95\" rx=\"1\" ry=\"1\"/>\n<text text-anchor=\"middle\" x=\"179.5\" y=\"-111\" font-family=\"Times,serif\" font-size=\"10.00\">1</text>\n</g>\n<!-- ancilla_G7 -->\n<g id=\"node6\" class=\"node\">\n<title>ancilla_G7</title>\n<text text-anchor=\"middle\" x=\"229\" y=\"-68.3\" font-family=\"Times,serif\" font-size=\"14.00\">ancilla</text>\n</g>\n<!-- ScaledChebyshevPolynomial&#45;&gt;ancilla_G7 -->\n<g id=\"edge5\" class=\"edge\">\n<title>ScaledChebyshevPolynomial:e-&gt;ancilla_G7:w</title>\n<path fill=\"none\" stroke=\"black\" d=\"M161,-72C178.08,-72 182.85,-72 198.98,-72\"/>\n<ellipse fill=\"black\" stroke=\"black\" cx=\"200\" cy=\"-72\" rx=\"1\" ry=\"1\"/>\n<text text-anchor=\"middle\" x=\"179.5\" y=\"-75\" font-family=\"Times,serif\" font-size=\"10.00\">3</text>\n</g>\n<!-- resource_G8 -->\n<g id=\"node7\" class=\"node\">\n<title>resource_G8</title>\n<text text-anchor=\"middle\" x=\"229\" y=\"-14.3\" font-family=\"Times,serif\" font-size=\"14.00\">resource</text>\n</g>\n<!-- ScaledChebyshevPolynomial&#45;&gt;resource_G8 -->\n<g id=\"edge6\" class=\"edge\">\n<title>ScaledChebyshevPolynomial:e-&gt;resource_G8:w</title>\n<path fill=\"none\" stroke=\"black\" d=\"M161,-51C182.17,-51 176.47,-20.53 195.55,-18.15\"/>\n<ellipse fill=\"black\" stroke=\"black\" cx=\"197\" cy=\"-18.06\" rx=\"1\" ry=\"1\"/>\n<text text-anchor=\"middle\" x=\"179.5\" y=\"-39\" font-family=\"Times,serif\" font-size=\"10.00\">14</text>\n</g>\n</g>\n</svg>",
          "text/plain": "<IPython.core.display.SVG object>"
         },
         "metadata": {},
         "output_type": "display_data"
        }
       ],
       "tabbable": null,
       "tooltip": null
      }
     },
     "c6e1d29d045e4b9381e8e966ee605f59": {
      "model_module": "@jupyter-widgets/base",
      "model_module_version": "2.0.0",
      "model_name": "LayoutModel",
      "state": {
       "_model_module": "@jupyter-widgets/base",
       "_model_module_version": "2.0.0",
       "_model_name": "LayoutModel",
       "_view_count": null,
       "_view_module": "@jupyter-widgets/base",
       "_view_module_version": "2.0.0",
       "_view_name": "LayoutView",
       "align_content": null,
       "align_items": null,
       "align_self": null,
       "border_bottom": null,
       "border_left": null,
       "border_right": null,
       "border_top": null,
       "bottom": null,
       "display": null,
       "flex": null,
       "flex_flow": null,
       "grid_area": null,
       "grid_auto_columns": null,
       "grid_auto_flow": null,
       "grid_auto_rows": null,
       "grid_column": null,
       "grid_gap": null,
       "grid_row": null,
       "grid_template_areas": null,
       "grid_template_columns": null,
       "grid_template_rows": null,
       "height": null,
       "justify_content": null,
       "justify_items": null,
       "left": null,
       "margin": null,
       "max_height": null,
       "max_width": null,
       "min_height": null,
       "min_width": null,
       "object_fit": null,
       "object_position": null,
       "order": null,
       "overflow": null,
       "padding": null,
       "right": null,
       "top": null,
       "visibility": null,
       "width": null
      }
     },
     "cc0aface811f44efb66acbc22b9ce031": {
      "model_module": "@jupyter-widgets/output",
      "model_module_version": "1.0.0",
      "model_name": "OutputModel",
      "state": {
       "_dom_classes": [],
       "_model_module": "@jupyter-widgets/output",
       "_model_module_version": "1.0.0",
       "_model_name": "OutputModel",
       "_view_count": null,
       "_view_module": "@jupyter-widgets/output",
       "_view_module_version": "1.0.0",
       "_view_name": "OutputView",
       "layout": "IPY_MODEL_c6e1d29d045e4b9381e8e966ee605f59",
       "msg_id": "",
       "outputs": [
        {
         "data": {
          "text/markdown": "`chebyshev_poly_odd`",
          "text/plain": "<IPython.core.display.Markdown object>"
         },
         "metadata": {},
         "output_type": "display_data"
        },
        {
         "data": {
          "image/svg+xml": "<svg xmlns=\"http://www.w3.org/2000/svg\" xmlns:xlink=\"http://www.w3.org/1999/xlink\" width=\"254pt\" height=\"54pt\" viewBox=\"0.00 0.00 254.00 54.00\">\n<g id=\"graph0\" class=\"graph\" transform=\"scale(1 1) rotate(0) translate(4 50)\">\n<title>my_graph</title>\n<polygon fill=\"white\" stroke=\"transparent\" points=\"-4,4 -4,-50 250,-50 250,4 -4,4\"/>\n<!-- system_G0 -->\n<g id=\"node1\" class=\"node\">\n<title>system_G0</title>\n<text text-anchor=\"middle\" x=\"27.5\" y=\"-14.3\" font-family=\"Times,serif\" font-size=\"14.00\">system</text>\n</g>\n<!-- ChebyshevPolynomial -->\n<g id=\"node2\" class=\"node\">\n<title>ChebyshevPolynomial</title>\n<polygon fill=\"none\" stroke=\"black\" points=\"92,-29 92,-46 154,-46 154,-29 92,-29\"/>\n<text text-anchor=\"start\" x=\"95\" y=\"-35\" font-family=\"Times,serif\" font-size=\"10.00\">B[T_5(B[H])]</text>\n<polygon fill=\"none\" stroke=\"black\" points=\"92,-8 92,-29 154,-29 154,-8 92,-8\"/>\n<text text-anchor=\"start\" x=\"103.5\" y=\"-14.8\" font-family=\"Times,serif\" font-size=\"14.00\">system</text>\n</g>\n<!-- system_G0&#45;&gt;ChebyshevPolynomial -->\n<g id=\"edge1\" class=\"edge\">\n<title>system_G0:e-&gt;ChebyshevPolynomial:w</title>\n<path fill=\"none\" stroke=\"black\" d=\"M55,-18C70.67,-18 75.14,-18 89.77,-18\"/>\n<ellipse fill=\"black\" stroke=\"black\" cx=\"91\" cy=\"-18\" rx=\"1\" ry=\"1\"/>\n<text text-anchor=\"middle\" x=\"73.5\" y=\"-21\" font-family=\"Times,serif\" font-size=\"10.00\">1</text>\n</g>\n<!-- system_G2 -->\n<g id=\"node3\" class=\"node\">\n<title>system_G2</title>\n<text text-anchor=\"middle\" x=\"218.5\" y=\"-14.3\" font-family=\"Times,serif\" font-size=\"14.00\">system</text>\n</g>\n<!-- ChebyshevPolynomial&#45;&gt;system_G2 -->\n<g id=\"edge2\" class=\"edge\">\n<title>ChebyshevPolynomial:e-&gt;system_G2:w</title>\n<path fill=\"none\" stroke=\"black\" d=\"M154,-18C169.67,-18 174.14,-18 188.77,-18\"/>\n<ellipse fill=\"black\" stroke=\"black\" cx=\"190\" cy=\"-18\" rx=\"1\" ry=\"1\"/>\n<text text-anchor=\"middle\" x=\"172.5\" y=\"-21\" font-family=\"Times,serif\" font-size=\"10.00\">1</text>\n</g>\n</g>\n</svg>",
          "text/plain": "<IPython.core.display.SVG object>"
         },
         "metadata": {},
         "output_type": "display_data"
        }
       ],
       "tabbable": null,
       "tooltip": null
      }
     },
     "d455f0c1a4c54282ac38af8a31e17d87": {
      "model_module": "@jupyter-widgets/base",
      "model_module_version": "2.0.0",
      "model_name": "LayoutModel",
      "state": {
       "_model_module": "@jupyter-widgets/base",
       "_model_module_version": "2.0.0",
       "_model_name": "LayoutModel",
       "_view_count": null,
       "_view_module": "@jupyter-widgets/base",
       "_view_module_version": "2.0.0",
       "_view_name": "LayoutView",
       "align_content": null,
       "align_items": null,
       "align_self": null,
       "border_bottom": null,
       "border_left": null,
       "border_right": null,
       "border_top": null,
       "bottom": null,
       "display": null,
       "flex": null,
       "flex_flow": null,
       "grid_area": null,
       "grid_auto_columns": null,
       "grid_auto_flow": null,
       "grid_auto_rows": null,
       "grid_column": null,
       "grid_gap": null,
       "grid_row": null,
       "grid_template_areas": null,
       "grid_template_columns": null,
       "grid_template_rows": null,
       "height": null,
       "justify_content": null,
       "justify_items": null,
       "left": null,
       "margin": null,
       "max_height": null,
       "max_width": null,
       "min_height": null,
       "min_width": null,
       "object_fit": null,
       "object_position": null,
       "order": null,
       "overflow": null,
       "padding": null,
       "right": null,
       "top": null,
       "visibility": null,
       "width": null
      }
     }
    },
    "version_major": 2,
    "version_minor": 0
   }
  }
 },
 "nbformat": 4,
 "nbformat_minor": 5
}
