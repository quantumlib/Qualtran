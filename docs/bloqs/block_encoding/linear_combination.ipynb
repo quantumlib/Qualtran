{
 "cells": [
  {
   "cell_type": "markdown",
   "id": "838721b7",
   "metadata": {
    "cq.autogen": "title_cell"
   },
   "source": [
    "# Linear Combination"
   ]
  },
  {
   "cell_type": "code",
   "execution_count": 1,
   "id": "c401730d",
   "metadata": {
    "cq.autogen": "top_imports"
   },
   "outputs": [],
   "source": [
    "from qualtran import Bloq, CompositeBloq, BloqBuilder, Signature, Register\n",
    "from qualtran import QBit, QInt, QUInt, QAny\n",
    "from qualtran.drawing import show_bloq, show_call_graph, show_counts_sigma\n",
    "from typing import *\n",
    "import numpy as np\n",
    "import sympy\n",
    "import cirq"
   ]
  },
  {
   "cell_type": "markdown",
   "id": "864be3e1",
   "metadata": {
    "cq.autogen": "LinearCombination.bloq_doc.md"
   },
   "source": [
    "## `LinearCombination`\n",
    "Linear combination of a sequence of block encodings.\n",
    "\n",
    "Builds the block encoding $B[\\lambda_1 U_1 + \\lambda_2 U_2 + \\cdots + \\lambda_n U_n]$ given\n",
    "block encodings $B[U_1], \\ldots, B[U_n]$ and coefficients $\\lambda_i \\in \\mathbb{R}$.\n",
    "\n",
    "When each $B[U_i]$ is a $(\\alpha_i, a_i, \\epsilon_i)$-block encoding of $U_i$, we have that\n",
    "$B[\\lambda_1 U_1 + \\cdots + \\lambda_n U_n]$ is a $(\\alpha, a, \\epsilon)$-block encoding\n",
    "of $\\lambda_1 U_1 + \\cdots + \\lambda_n U_n$ where the normalization constant\n",
    "$\\alpha = \\sum_i \\lvert\\lambda_i\\rvert\\alpha_i$, number of ancillas\n",
    "$a = \\lceil \\log_2 n \\rceil + \\max_i a_i$, and precision\n",
    "$\\epsilon = (\\sum_i \\lvert\\lambda_i\\rvert)\\max_i \\epsilon_i$.\n",
    "\n",
    "Under the hood, this bloq uses LCU Prepare and Select oracles to build the block encoding.\n",
    "These oracles will be automatically instantiated if not specified by the user.\n",
    "\n",
    "#### Parameters\n",
    " - `block_encodings`: A sequence of block encodings.\n",
    " - `lambd`: Corresponding coefficients.\n",
    " - `lambd_bits`: Number of bits needed to represent coefficients precisely.\n",
    " - `prepare`: If specified, oracle preparing $\\sum_i \\sqrt{|\\lambda_i|} |i\\rangle$ (state should be normalized and can have junk).\n",
    " - `select`: If specified, oracle taking $|i\\rangle|\\psi\\rangle \\mapsto \\text{sgn}(\\lambda_i) |i\\rangle U_i|\\psi\\rangle$.\n",
    " - `is_controlled`: if True, implements a controlled version. Defaults to False. \n",
    "\n",
    "#### Registers\n",
    " - `system`: The system register.\n",
    " - `ancilla`: The ancilla register (present only if bitsize > 0).\n",
    " - `resource`: The resource register (present only if bitsize > 0). \n",
    "\n",
    "#### References\n",
    " - [Quantum algorithms: A survey of applications and end-to-end complexities](https://arxiv.org/abs/2310.03011). Dalzell et al. (2023). Ch. 10.2.\n"
   ]
  },
  {
   "cell_type": "code",
   "execution_count": 2,
   "id": "8b8e6079",
   "metadata": {
    "cq.autogen": "LinearCombination.bloq_doc.py"
   },
   "outputs": [],
   "source": [
    "from qualtran.bloqs.block_encoding import LinearCombination"
   ]
  },
  {
   "cell_type": "markdown",
   "id": "a5109c86",
   "metadata": {
    "cq.autogen": "LinearCombination.example_instances.md"
   },
   "source": [
    "### Example Instances"
   ]
  },
  {
   "cell_type": "code",
   "execution_count": 3,
   "id": "e11d9935",
   "metadata": {
    "cq.autogen": "LinearCombination.linear_combination_block_encoding"
   },
   "outputs": [],
   "source": [
    "from qualtran.bloqs.basic_gates import Hadamard, TGate, XGate, ZGate\n",
    "from qualtran.bloqs.block_encoding.unitary import Unitary\n",
    "\n",
    "linear_combination_block_encoding = LinearCombination(\n",
    "    (Unitary(TGate()), Unitary(Hadamard()), Unitary(XGate()), Unitary(ZGate())),\n",
    "    lambd=(0.25, -0.25, 0.25, -0.25),\n",
    "    lambd_bits=1,\n",
    ")"
   ]
  },
  {
   "cell_type": "markdown",
   "id": "fea2bf9f",
   "metadata": {
    "cq.autogen": "LinearCombination.graphical_signature.md"
   },
   "source": [
    "#### Graphical Signature"
   ]
  },
  {
   "cell_type": "code",
   "execution_count": 4,
   "id": "476476dd",
   "metadata": {
    "cq.autogen": "LinearCombination.graphical_signature.py"
   },
   "outputs": [
    {
     "data": {
      "application/vnd.jupyter.widget-view+json": {
       "model_id": "4027b502f962437b9865fef2b0fa6fb1",
       "version_major": 2,
       "version_minor": 0
      },
      "text/plain": [
       "HBox(children=(Output(outputs=({'output_type': 'display_data', 'data': {'text/plain': '<IPython.core.display.M…"
      ]
     },
     "metadata": {},
     "output_type": "display_data"
    }
   ],
   "source": [
    "from qualtran.drawing import show_bloqs\n",
    "show_bloqs([linear_combination_block_encoding],\n",
    "           ['`linear_combination_block_encoding`'])"
   ]
  },
  {
   "cell_type": "markdown",
   "id": "5de97064",
   "metadata": {
    "cq.autogen": "LinearCombination.call_graph.md"
   },
   "source": [
    "### Call Graph"
   ]
  },
  {
   "cell_type": "code",
   "execution_count": 5,
   "id": "1ce24ab1",
   "metadata": {
    "cq.autogen": "LinearCombination.call_graph.py"
   },
   "outputs": [
    {
     "data": {
      "image/svg+xml": [
       "<svg xmlns=\"http://www.w3.org/2000/svg\" xmlns:xlink=\"http://www.w3.org/1999/xlink\" width=\"218pt\" height=\"131pt\" viewBox=\"0.00 0.00 218.00 131.00\">\n",
       "<g id=\"graph0\" class=\"graph\" transform=\"scale(1 1) rotate(0) translate(4 127)\">\n",
       "<title>counts</title>\n",
       "<polygon fill=\"white\" stroke=\"transparent\" points=\"-4,4 -4,-127 214,-127 214,4 -4,4\"/>\n",
       "<!-- b0 -->\n",
       "<g id=\"node1\" class=\"node\">\n",
       "<title>b0</title>\n",
       "<polygon fill=\"none\" stroke=\"black\" points=\"37,-93 37,-116 185,-116 185,-93 37,-93\"/>\n",
       "<text text-anchor=\"start\" x=\"43\" y=\"-102\" font-family=\"Times,serif\" font-size=\"10.00\">B[T+exp(1i)H+X+exp(1i)ZGate]</text>\n",
       "</g>\n",
       "<!-- b1 -->\n",
       "<g id=\"node2\" class=\"node\">\n",
       "<title>b1</title>\n",
       "<polygon fill=\"none\" stroke=\"black\" points=\"8,-6 8,-29 58,-29 58,-6 8,-6\"/>\n",
       "<text text-anchor=\"start\" x=\"14.5\" y=\"-15\" font-family=\"Times,serif\" font-size=\"10.00\">SELECT</text>\n",
       "</g>\n",
       "<!-- b0&#45;&gt;b1 -->\n",
       "<g id=\"edge1\" class=\"edge\">\n",
       "<title>b0-&gt;b1</title>\n",
       "<path fill=\"none\" stroke=\"black\" d=\"M95.22,-86.8C83.9,-74.47 68.49,-57.68 55.84,-43.89\"/>\n",
       "<polygon fill=\"black\" stroke=\"black\" points=\"58.1,-41.18 48.76,-36.18 52.94,-45.91 58.1,-41.18\"/>\n",
       "<text text-anchor=\"middle\" x=\"80.5\" y=\"-57.8\" font-family=\"Times,serif\" font-size=\"14.00\">1</text>\n",
       "</g>\n",
       "<!-- b2 -->\n",
       "<g id=\"node3\" class=\"node\">\n",
       "<title>b2</title>\n",
       "<polygon fill=\"none\" stroke=\"black\" points=\"95,-6 95,-29 127,-29 127,-6 95,-6\"/>\n",
       "<text text-anchor=\"start\" x=\"101.5\" y=\"-15\" font-family=\"Times,serif\" font-size=\"10.00\">Prep</text>\n",
       "</g>\n",
       "<!-- b0&#45;&gt;b2 -->\n",
       "<g id=\"edge2\" class=\"edge\">\n",
       "<title>b0-&gt;b2</title>\n",
       "<path fill=\"none\" stroke=\"black\" d=\"M111,-86.8C111,-75.16 111,-59.55 111,-46.24\"/>\n",
       "<polygon fill=\"black\" stroke=\"black\" points=\"114.5,-46.18 111,-36.18 107.5,-46.18 114.5,-46.18\"/>\n",
       "<text text-anchor=\"middle\" x=\"114.5\" y=\"-57.8\" font-family=\"Times,serif\" font-size=\"14.00\">1</text>\n",
       "</g>\n",
       "<!-- b3 -->\n",
       "<g id=\"node4\" class=\"node\">\n",
       "<title>b3</title>\n",
       "<polygon fill=\"none\" stroke=\"black\" points=\"165,-6 165,-29 201,-29 201,-6 165,-6\"/>\n",
       "<text text-anchor=\"start\" x=\"171\" y=\"-15\" font-family=\"Times,serif\" font-size=\"10.00\">Prep†</text>\n",
       "</g>\n",
       "<!-- b0&#45;&gt;b3 -->\n",
       "<g id=\"edge3\" class=\"edge\">\n",
       "<title>b0-&gt;b3</title>\n",
       "<path fill=\"none\" stroke=\"black\" d=\"M125.57,-86.8C136.01,-74.47 150.24,-57.68 161.92,-43.89\"/>\n",
       "<polygon fill=\"black\" stroke=\"black\" points=\"164.66,-46.07 168.45,-36.18 159.32,-41.54 164.66,-46.07\"/>\n",
       "<text text-anchor=\"middle\" x=\"154.5\" y=\"-57.8\" font-family=\"Times,serif\" font-size=\"14.00\">1</text>\n",
       "</g>\n",
       "</g>\n",
       "</svg>"
      ],
      "text/plain": [
       "<IPython.core.display.SVG object>"
      ]
     },
     "metadata": {},
     "output_type": "display_data"
    },
    {
     "data": {
      "text/markdown": [
       "#### Counts totals:\n",
       " - `Prep`: 1\n",
       " - `Prep†`: 1\n",
       " - `SELECT`: 1"
      ],
      "text/plain": [
       "<IPython.core.display.Markdown object>"
      ]
     },
     "metadata": {},
     "output_type": "display_data"
    }
   ],
   "source": [
    "from qualtran.resource_counting.generalizers import ignore_split_join\n",
    "linear_combination_block_encoding_g, linear_combination_block_encoding_sigma = linear_combination_block_encoding.call_graph(max_depth=1, generalizer=ignore_split_join)\n",
    "show_call_graph(linear_combination_block_encoding_g)\n",
    "show_counts_sigma(linear_combination_block_encoding_sigma)"
   ]
  }
 ],
 "metadata": {
  "kernelspec": {
   "display_name": "Python 3",
   "language": "python",
   "name": "python3"
  },
  "language_info": {
   "codemirror_mode": {
    "name": "ipython",
    "version": 3
   },
   "file_extension": ".py",
   "mimetype": "text/x-python",
   "name": "python",
   "nbconvert_exporter": "python",
   "pygments_lexer": "ipython3",
   "version": "3.11.8"
  },
  "widgets": {
   "application/vnd.jupyter.widget-state+json": {
    "state": {
     "4027b502f962437b9865fef2b0fa6fb1": {
      "model_module": "@jupyter-widgets/controls",
      "model_module_version": "2.0.0",
      "model_name": "HBoxModel",
      "state": {
       "_dom_classes": [],
       "_model_module": "@jupyter-widgets/controls",
       "_model_module_version": "2.0.0",
       "_model_name": "HBoxModel",
       "_view_count": null,
       "_view_module": "@jupyter-widgets/controls",
       "_view_module_version": "2.0.0",
       "_view_name": "HBoxView",
       "box_style": "",
       "children": [
        "IPY_MODEL_5f707e4ab1a24bf7948e450d5dc9f2f5"
       ],
       "layout": "IPY_MODEL_fdb335dde4fc49cb8054c3c01f83fef4",
       "tabbable": null,
       "tooltip": null
      }
     },
     "5f707e4ab1a24bf7948e450d5dc9f2f5": {
      "model_module": "@jupyter-widgets/output",
      "model_module_version": "1.0.0",
      "model_name": "OutputModel",
      "state": {
       "_dom_classes": [],
       "_model_module": "@jupyter-widgets/output",
       "_model_module_version": "1.0.0",
       "_model_name": "OutputModel",
       "_view_count": null,
       "_view_module": "@jupyter-widgets/output",
       "_view_module_version": "1.0.0",
       "_view_name": "OutputView",
       "layout": "IPY_MODEL_c3208473bbc14df2ab7e037537c05405",
       "msg_id": "",
       "outputs": [
        {
         "data": {
          "text/markdown": "`linear_combination_block_encoding`",
          "text/plain": "<IPython.core.display.Markdown object>"
         },
         "metadata": {},
         "output_type": "display_data"
        },
        {
         "data": {
          "image/svg+xml": "<svg xmlns=\"http://www.w3.org/2000/svg\" xmlns:xlink=\"http://www.w3.org/1999/xlink\" width=\"348pt\" height=\"152pt\" viewBox=\"0.00 0.00 348.00 152.00\">\n<g id=\"graph0\" class=\"graph\" transform=\"scale(1 1) rotate(0) translate(4 148)\">\n<title>my_graph</title>\n<polygon fill=\"white\" stroke=\"transparent\" points=\"-4,4 -4,-148 344,-148 344,4 -4,4\"/>\n<!-- system_G6 -->\n<g id=\"node1\" class=\"node\">\n<title>system_G6</title>\n<text text-anchor=\"middle\" x=\"31\" y=\"-122.3\" font-family=\"Times,serif\" font-size=\"14.00\">system</text>\n</g>\n<!-- LinearCombination -->\n<g id=\"node4\" class=\"node\">\n<title>LinearCombination</title>\n<polygon fill=\"none\" stroke=\"black\" points=\"99,-104 99,-121 241,-121 241,-104 99,-104\"/>\n<text text-anchor=\"start\" x=\"102\" y=\"-110\" font-family=\"Times,serif\" font-size=\"10.00\">B[T+exp(1i)H+X+exp(1i)ZGate]</text>\n<polygon fill=\"none\" stroke=\"black\" points=\"99,-83 99,-104 241,-104 241,-83 99,-83\"/>\n<text text-anchor=\"start\" x=\"150.5\" y=\"-89.8\" font-family=\"Times,serif\" font-size=\"14.00\">system</text>\n<polygon fill=\"none\" stroke=\"black\" points=\"99,-62 99,-83 241,-83 241,-62 99,-62\"/>\n<text text-anchor=\"start\" x=\"151.5\" y=\"-68.8\" font-family=\"Times,serif\" font-size=\"14.00\">ancilla</text>\n<polygon fill=\"none\" stroke=\"black\" points=\"99,-41 99,-62 241,-62 241,-41 99,-41\"/>\n<text text-anchor=\"start\" x=\"147\" y=\"-47.8\" font-family=\"Times,serif\" font-size=\"14.00\">resource</text>\n</g>\n<!-- system_G6&#45;&gt;LinearCombination -->\n<g id=\"edge1\" class=\"edge\">\n<title>system_G6:e-&gt;LinearCombination:w</title>\n<path fill=\"none\" stroke=\"black\" d=\"M60,-126C81.72,-126 76.92,-95.97 96.98,-94.09\"/>\n<ellipse fill=\"black\" stroke=\"black\" cx=\"98\" cy=\"-94.05\" rx=\"1\" ry=\"1\"/>\n<text text-anchor=\"middle\" x=\"80.5\" y=\"-111\" font-family=\"Times,serif\" font-size=\"10.00\">1</text>\n</g>\n<!-- ancilla_G8 -->\n<g id=\"node2\" class=\"node\">\n<title>ancilla_G8</title>\n<text text-anchor=\"middle\" x=\"31\" y=\"-68.3\" font-family=\"Times,serif\" font-size=\"14.00\">ancilla</text>\n</g>\n<!-- ancilla_G8&#45;&gt;LinearCombination -->\n<g id=\"edge2\" class=\"edge\">\n<title>ancilla_G8:e-&gt;LinearCombination:w</title>\n<path fill=\"none\" stroke=\"black\" d=\"M59,-72C76.08,-72 80.85,-72 96.98,-72\"/>\n<ellipse fill=\"black\" stroke=\"black\" cx=\"98\" cy=\"-72\" rx=\"1\" ry=\"1\"/>\n<text text-anchor=\"middle\" x=\"80.5\" y=\"-75\" font-family=\"Times,serif\" font-size=\"10.00\">2</text>\n</g>\n<!-- resource_G2 -->\n<g id=\"node3\" class=\"node\">\n<title>resource_G2</title>\n<text text-anchor=\"middle\" x=\"31\" y=\"-14.3\" font-family=\"Times,serif\" font-size=\"14.00\">resource</text>\n</g>\n<!-- resource_G2&#45;&gt;LinearCombination -->\n<g id=\"edge3\" class=\"edge\">\n<title>resource_G2:e-&gt;LinearCombination:w</title>\n<path fill=\"none\" stroke=\"black\" d=\"M62,-18C83.17,-18 77.47,-48.47 96.55,-50.85\"/>\n<ellipse fill=\"black\" stroke=\"black\" cx=\"98\" cy=\"-50.94\" rx=\"1\" ry=\"1\"/>\n<text text-anchor=\"middle\" x=\"80.5\" y=\"-39\" font-family=\"Times,serif\" font-size=\"10.00\">5</text>\n</g>\n<!-- system_G1 -->\n<g id=\"node5\" class=\"node\">\n<title>system_G1</title>\n<text text-anchor=\"middle\" x=\"309\" y=\"-122.3\" font-family=\"Times,serif\" font-size=\"14.00\">system</text>\n</g>\n<!-- LinearCombination&#45;&gt;system_G1 -->\n<g id=\"edge4\" class=\"edge\">\n<title>LinearCombination:e-&gt;system_G1:w</title>\n<path fill=\"none\" stroke=\"black\" d=\"M241,-94C262.72,-94 257.92,-124.03 277.98,-125.91\"/>\n<ellipse fill=\"black\" stroke=\"black\" cx=\"279\" cy=\"-125.95\" rx=\"1\" ry=\"1\"/>\n<text text-anchor=\"middle\" x=\"259.5\" y=\"-111\" font-family=\"Times,serif\" font-size=\"10.00\">1</text>\n</g>\n<!-- ancilla_G3 -->\n<g id=\"node6\" class=\"node\">\n<title>ancilla_G3</title>\n<text text-anchor=\"middle\" x=\"309\" y=\"-68.3\" font-family=\"Times,serif\" font-size=\"14.00\">ancilla</text>\n</g>\n<!-- LinearCombination&#45;&gt;ancilla_G3 -->\n<g id=\"edge5\" class=\"edge\">\n<title>LinearCombination:e-&gt;ancilla_G3:w</title>\n<path fill=\"none\" stroke=\"black\" d=\"M241,-72C258.08,-72 262.85,-72 278.98,-72\"/>\n<ellipse fill=\"black\" stroke=\"black\" cx=\"280\" cy=\"-72\" rx=\"1\" ry=\"1\"/>\n<text text-anchor=\"middle\" x=\"259.5\" y=\"-75\" font-family=\"Times,serif\" font-size=\"10.00\">2</text>\n</g>\n<!-- resource_G5 -->\n<g id=\"node7\" class=\"node\">\n<title>resource_G5</title>\n<text text-anchor=\"middle\" x=\"309\" y=\"-14.3\" font-family=\"Times,serif\" font-size=\"14.00\">resource</text>\n</g>\n<!-- LinearCombination&#45;&gt;resource_G5 -->\n<g id=\"edge6\" class=\"edge\">\n<title>LinearCombination:e-&gt;resource_G5:w</title>\n<path fill=\"none\" stroke=\"black\" d=\"M241,-51C262.17,-51 256.47,-20.53 275.55,-18.15\"/>\n<ellipse fill=\"black\" stroke=\"black\" cx=\"277\" cy=\"-18.06\" rx=\"1\" ry=\"1\"/>\n<text text-anchor=\"middle\" x=\"259.5\" y=\"-39\" font-family=\"Times,serif\" font-size=\"10.00\">5</text>\n</g>\n</g>\n</svg>",
          "text/plain": "<IPython.core.display.SVG object>"
         },
         "metadata": {},
         "output_type": "display_data"
        }
       ],
       "tabbable": null,
       "tooltip": null
      }
     },
     "c3208473bbc14df2ab7e037537c05405": {
      "model_module": "@jupyter-widgets/base",
      "model_module_version": "2.0.0",
      "model_name": "LayoutModel",
      "state": {
       "_model_module": "@jupyter-widgets/base",
       "_model_module_version": "2.0.0",
       "_model_name": "LayoutModel",
       "_view_count": null,
       "_view_module": "@jupyter-widgets/base",
       "_view_module_version": "2.0.0",
       "_view_name": "LayoutView",
       "align_content": null,
       "align_items": null,
       "align_self": null,
       "border_bottom": null,
       "border_left": null,
       "border_right": null,
       "border_top": null,
       "bottom": null,
       "display": null,
       "flex": null,
       "flex_flow": null,
       "grid_area": null,
       "grid_auto_columns": null,
       "grid_auto_flow": null,
       "grid_auto_rows": null,
       "grid_column": null,
       "grid_gap": null,
       "grid_row": null,
       "grid_template_areas": null,
       "grid_template_columns": null,
       "grid_template_rows": null,
       "height": null,
       "justify_content": null,
       "justify_items": null,
       "left": null,
       "margin": null,
       "max_height": null,
       "max_width": null,
       "min_height": null,
       "min_width": null,
       "object_fit": null,
       "object_position": null,
       "order": null,
       "overflow": null,
       "padding": null,
       "right": null,
       "top": null,
       "visibility": null,
       "width": null
      }
     },
     "fdb335dde4fc49cb8054c3c01f83fef4": {
      "model_module": "@jupyter-widgets/base",
      "model_module_version": "2.0.0",
      "model_name": "LayoutModel",
      "state": {
       "_model_module": "@jupyter-widgets/base",
       "_model_module_version": "2.0.0",
       "_model_name": "LayoutModel",
       "_view_count": null,
       "_view_module": "@jupyter-widgets/base",
       "_view_module_version": "2.0.0",
       "_view_name": "LayoutView",
       "align_content": null,
       "align_items": null,
       "align_self": null,
       "border_bottom": null,
       "border_left": null,
       "border_right": null,
       "border_top": null,
       "bottom": null,
       "display": null,
       "flex": null,
       "flex_flow": null,
       "grid_area": null,
       "grid_auto_columns": null,
       "grid_auto_flow": null,
       "grid_auto_rows": null,
       "grid_column": null,
       "grid_gap": null,
       "grid_row": null,
       "grid_template_areas": null,
       "grid_template_columns": null,
       "grid_template_rows": null,
       "height": null,
       "justify_content": null,
       "justify_items": null,
       "left": null,
       "margin": null,
       "max_height": null,
       "max_width": null,
       "min_height": null,
       "min_width": null,
       "object_fit": null,
       "object_position": null,
       "order": null,
       "overflow": null,
       "padding": null,
       "right": null,
       "top": null,
       "visibility": null,
       "width": null
      }
     }
    },
    "version_major": 2,
    "version_minor": 0
   }
  }
 },
 "nbformat": 4,
 "nbformat_minor": 5
}
