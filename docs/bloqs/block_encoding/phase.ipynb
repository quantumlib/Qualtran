{
 "cells": [
  {
   "cell_type": "markdown",
   "id": "7f85bcf7",
   "metadata": {
    "cq.autogen": "title_cell"
   },
   "source": [
    "# Phase"
   ]
  },
  {
   "cell_type": "code",
   "execution_count": 1,
   "id": "9425e59d",
   "metadata": {
    "cq.autogen": "top_imports"
   },
   "outputs": [],
   "source": [
    "from qualtran import Bloq, CompositeBloq, BloqBuilder, Signature, Register\n",
    "from qualtran import QBit, QInt, QUInt, QAny\n",
    "from qualtran.drawing import show_bloq, show_call_graph, show_counts_sigma\n",
    "from typing import *\n",
    "import numpy as np\n",
    "import sympy\n",
    "import cirq"
   ]
  },
  {
   "cell_type": "markdown",
   "id": "cab11f17",
   "metadata": {
    "cq.autogen": "Phase.bloq_doc.md"
   },
   "source": [
    "## `Phase`\n",
    "Apply a phase to a block encoding.\n",
    "\n",
    "Given $B[A]$ as a $(\\alpha, a, \\epsilon)$-block encoding of $A$, produces a\n",
    "$(\\alpha, a, \\epsilon)$-block encoding of $\\exp(i\\pi\\phi)A$.\n",
    "\n",
    "#### Parameters\n",
    " - `block_encoding`: The block encoding to apply a phase to.\n",
    " - `phi`: The phase angle.\n",
    " - `eps`: The precision of the phase angle. \n",
    "\n",
    "#### Registers\n",
    " - `system`: The system register.\n",
    " - `ancilla`: The ancilla register (present only if bitsize > 0).\n",
    " - `resource`: The resource register (present only if bitsize > 0).\n"
   ]
  },
  {
   "cell_type": "code",
   "execution_count": 2,
   "id": "b3b17d4f",
   "metadata": {
    "cq.autogen": "Phase.bloq_doc.py"
   },
   "outputs": [],
   "source": [
    "from qualtran.bloqs.block_encoding import Phase"
   ]
  },
  {
   "cell_type": "markdown",
   "id": "9d300310",
   "metadata": {
    "cq.autogen": "Phase.example_instances.md"
   },
   "source": [
    "### Example Instances"
   ]
  },
  {
   "cell_type": "code",
   "execution_count": 3,
   "id": "62539a3e",
   "metadata": {
    "cq.autogen": "Phase.phase_block_encoding"
   },
   "outputs": [],
   "source": [
    "from qualtran.bloqs.basic_gates import Hadamard\n",
    "from qualtran.bloqs.block_encoding.unitary import Unitary\n",
    "\n",
    "phase_block_encoding = Phase(Unitary(Hadamard()), phi=0.25, eps=0)"
   ]
  },
  {
   "cell_type": "markdown",
   "id": "a7522032",
   "metadata": {
    "cq.autogen": "Phase.graphical_signature.md"
   },
   "source": [
    "#### Graphical Signature"
   ]
  },
  {
   "cell_type": "code",
   "execution_count": 4,
   "id": "aad41f5c",
   "metadata": {
    "cq.autogen": "Phase.graphical_signature.py"
   },
   "outputs": [
    {
     "data": {
      "application/vnd.jupyter.widget-view+json": {
       "model_id": "6aadc785f2674bd09eb66ac65b8a431a",
       "version_major": 2,
       "version_minor": 0
      },
      "text/plain": [
       "HBox(children=(Output(outputs=({'output_type': 'display_data', 'data': {'text/plain': '<IPython.core.display.M…"
      ]
     },
     "metadata": {},
     "output_type": "display_data"
    }
   ],
   "source": [
    "from qualtran.drawing import show_bloqs\n",
    "show_bloqs([phase_block_encoding],\n",
    "           ['`phase_block_encoding`'])"
   ]
  },
  {
   "cell_type": "markdown",
   "id": "c2a7f83d",
   "metadata": {
    "cq.autogen": "Phase.call_graph.md"
   },
   "source": [
    "### Call Graph"
   ]
  },
  {
   "cell_type": "code",
   "execution_count": 5,
   "id": "755d7f35",
   "metadata": {
    "cq.autogen": "Phase.call_graph.py"
   },
   "outputs": [
    {
     "data": {
      "image/svg+xml": [
       "<svg xmlns=\"http://www.w3.org/2000/svg\" xmlns:xlink=\"http://www.w3.org/1999/xlink\" width=\"340pt\" height=\"131pt\" viewBox=\"0.00 0.00 340.00 131.00\">\n",
       "<g id=\"graph0\" class=\"graph\" transform=\"scale(1 1) rotate(0) translate(4 127)\">\n",
       "<title>counts</title>\n",
       "<polygon fill=\"white\" stroke=\"transparent\" points=\"-4,4 -4,-127 336,-127 336,4 -4,4\"/>\n",
       "<!-- b0 -->\n",
       "<g id=\"node1\" class=\"node\">\n",
       "<title>b0</title>\n",
       "<polygon fill=\"none\" stroke=\"black\" points=\"76,-93 76,-116 152,-116 152,-93 76,-93\"/>\n",
       "<text text-anchor=\"start\" x=\"82.5\" y=\"-102\" font-family=\"Times,serif\" font-size=\"10.00\">B[exp(0.25i)H]</text>\n",
       "</g>\n",
       "<!-- b1 -->\n",
       "<g id=\"node2\" class=\"node\">\n",
       "<title>b1</title>\n",
       "<polygon fill=\"none\" stroke=\"black\" points=\"10,-6 10,-29 44,-29 44,-6 10,-6\"/>\n",
       "<text text-anchor=\"start\" x=\"16.5\" y=\"-15\" font-family=\"Times,serif\" font-size=\"10.00\">B[H]</text>\n",
       "</g>\n",
       "<!-- b0&#45;&gt;b1 -->\n",
       "<g id=\"edge1\" class=\"edge\">\n",
       "<title>b0-&gt;b1</title>\n",
       "<path fill=\"none\" stroke=\"black\" d=\"M96.39,-86.8C83.66,-74.36 66.27,-57.36 52.08,-43.5\"/>\n",
       "<polygon fill=\"black\" stroke=\"black\" points=\"54.18,-40.66 44.58,-36.18 49.29,-45.67 54.18,-40.66\"/>\n",
       "<text text-anchor=\"middle\" x=\"79.5\" y=\"-57.8\" font-family=\"Times,serif\" font-size=\"14.00\">1</text>\n",
       "</g>\n",
       "<!-- b2 -->\n",
       "<g id=\"node3\" class=\"node\">\n",
       "<title>b2</title>\n",
       "<polygon fill=\"none\" stroke=\"black\" points=\"80,-6 80,-29 324,-29 324,-6 80,-6\"/>\n",
       "<text text-anchor=\"start\" x=\"86\" y=\"-15\" font-family=\"Times,serif\" font-size=\"10.00\">GPhase((0.7071067811865476+0.7071067811865475j))</text>\n",
       "</g>\n",
       "<!-- b0&#45;&gt;b2 -->\n",
       "<g id=\"edge2\" class=\"edge\">\n",
       "<title>b0-&gt;b2</title>\n",
       "<path fill=\"none\" stroke=\"black\" d=\"M131.81,-86.8C144.69,-74.36 162.28,-57.36 176.63,-43.5\"/>\n",
       "<polygon fill=\"black\" stroke=\"black\" points=\"179.46,-45.64 184.22,-36.18 174.59,-40.61 179.46,-45.64\"/>\n",
       "<text text-anchor=\"middle\" x=\"167.5\" y=\"-57.8\" font-family=\"Times,serif\" font-size=\"14.00\">1</text>\n",
       "</g>\n",
       "</g>\n",
       "</svg>"
      ],
      "text/plain": [
       "<IPython.core.display.SVG object>"
      ]
     },
     "metadata": {},
     "output_type": "display_data"
    },
    {
     "data": {
      "text/markdown": [
       "#### Counts totals:\n",
       " - `B[H]`: 1\n",
       " - `GPhase((0.7071067811865476+0.7071067811865475j))`: 1"
      ],
      "text/plain": [
       "<IPython.core.display.Markdown object>"
      ]
     },
     "metadata": {},
     "output_type": "display_data"
    }
   ],
   "source": [
    "from qualtran.resource_counting.generalizers import ignore_split_join\n",
    "phase_block_encoding_g, phase_block_encoding_sigma = phase_block_encoding.call_graph(max_depth=1, generalizer=ignore_split_join)\n",
    "show_call_graph(phase_block_encoding_g)\n",
    "show_counts_sigma(phase_block_encoding_sigma)"
   ]
  }
 ],
 "metadata": {
  "kernelspec": {
   "display_name": "Python 3",
   "language": "python",
   "name": "python3"
  },
  "language_info": {
   "codemirror_mode": {
    "name": "ipython",
    "version": 3
   },
   "file_extension": ".py",
   "mimetype": "text/x-python",
   "name": "python",
   "nbconvert_exporter": "python",
   "pygments_lexer": "ipython3",
   "version": "3.11.8"
  },
  "widgets": {
   "application/vnd.jupyter.widget-state+json": {
    "state": {
     "36e273e0515d40488b2a125937a790bd": {
      "model_module": "@jupyter-widgets/base",
      "model_module_version": "2.0.0",
      "model_name": "LayoutModel",
      "state": {
       "_model_module": "@jupyter-widgets/base",
       "_model_module_version": "2.0.0",
       "_model_name": "LayoutModel",
       "_view_count": null,
       "_view_module": "@jupyter-widgets/base",
       "_view_module_version": "2.0.0",
       "_view_name": "LayoutView",
       "align_content": null,
       "align_items": null,
       "align_self": null,
       "border_bottom": null,
       "border_left": null,
       "border_right": null,
       "border_top": null,
       "bottom": null,
       "display": null,
       "flex": null,
       "flex_flow": null,
       "grid_area": null,
       "grid_auto_columns": null,
       "grid_auto_flow": null,
       "grid_auto_rows": null,
       "grid_column": null,
       "grid_gap": null,
       "grid_row": null,
       "grid_template_areas": null,
       "grid_template_columns": null,
       "grid_template_rows": null,
       "height": null,
       "justify_content": null,
       "justify_items": null,
       "left": null,
       "margin": null,
       "max_height": null,
       "max_width": null,
       "min_height": null,
       "min_width": null,
       "object_fit": null,
       "object_position": null,
       "order": null,
       "overflow": null,
       "padding": null,
       "right": null,
       "top": null,
       "visibility": null,
       "width": null
      }
     },
     "6aadc785f2674bd09eb66ac65b8a431a": {
      "model_module": "@jupyter-widgets/controls",
      "model_module_version": "2.0.0",
      "model_name": "HBoxModel",
      "state": {
       "_dom_classes": [],
       "_model_module": "@jupyter-widgets/controls",
       "_model_module_version": "2.0.0",
       "_model_name": "HBoxModel",
       "_view_count": null,
       "_view_module": "@jupyter-widgets/controls",
       "_view_module_version": "2.0.0",
       "_view_name": "HBoxView",
       "box_style": "",
       "children": [
        "IPY_MODEL_fbca6fbd2c0842cb922b73a9fb5a0adb"
       ],
       "layout": "IPY_MODEL_9363e27a4b6f45608abb0232ac7f0628",
       "tabbable": null,
       "tooltip": null
      }
     },
     "9363e27a4b6f45608abb0232ac7f0628": {
      "model_module": "@jupyter-widgets/base",
      "model_module_version": "2.0.0",
      "model_name": "LayoutModel",
      "state": {
       "_model_module": "@jupyter-widgets/base",
       "_model_module_version": "2.0.0",
       "_model_name": "LayoutModel",
       "_view_count": null,
       "_view_module": "@jupyter-widgets/base",
       "_view_module_version": "2.0.0",
       "_view_name": "LayoutView",
       "align_content": null,
       "align_items": null,
       "align_self": null,
       "border_bottom": null,
       "border_left": null,
       "border_right": null,
       "border_top": null,
       "bottom": null,
       "display": null,
       "flex": null,
       "flex_flow": null,
       "grid_area": null,
       "grid_auto_columns": null,
       "grid_auto_flow": null,
       "grid_auto_rows": null,
       "grid_column": null,
       "grid_gap": null,
       "grid_row": null,
       "grid_template_areas": null,
       "grid_template_columns": null,
       "grid_template_rows": null,
       "height": null,
       "justify_content": null,
       "justify_items": null,
       "left": null,
       "margin": null,
       "max_height": null,
       "max_width": null,
       "min_height": null,
       "min_width": null,
       "object_fit": null,
       "object_position": null,
       "order": null,
       "overflow": null,
       "padding": null,
       "right": null,
       "top": null,
       "visibility": null,
       "width": null
      }
     },
     "fbca6fbd2c0842cb922b73a9fb5a0adb": {
      "model_module": "@jupyter-widgets/output",
      "model_module_version": "1.0.0",
      "model_name": "OutputModel",
      "state": {
       "_dom_classes": [],
       "_model_module": "@jupyter-widgets/output",
       "_model_module_version": "1.0.0",
       "_model_name": "OutputModel",
       "_view_count": null,
       "_view_module": "@jupyter-widgets/output",
       "_view_module_version": "1.0.0",
       "_view_name": "OutputView",
       "layout": "IPY_MODEL_36e273e0515d40488b2a125937a790bd",
       "msg_id": "",
       "outputs": [
        {
         "data": {
          "text/markdown": "`phase_block_encoding`",
          "text/plain": "<IPython.core.display.Markdown object>"
         },
         "metadata": {},
         "output_type": "display_data"
        },
        {
         "data": {
          "image/svg+xml": "<svg xmlns=\"http://www.w3.org/2000/svg\" xmlns:xlink=\"http://www.w3.org/1999/xlink\" width=\"261pt\" height=\"54pt\" viewBox=\"0.00 0.00 261.00 54.00\">\n<g id=\"graph0\" class=\"graph\" transform=\"scale(1 1) rotate(0) translate(4 50)\">\n<title>my_graph</title>\n<polygon fill=\"white\" stroke=\"transparent\" points=\"-4,4 -4,-50 257,-50 257,4 -4,4\"/>\n<!-- system_G0 -->\n<g id=\"node1\" class=\"node\">\n<title>system_G0</title>\n<text text-anchor=\"middle\" x=\"27.5\" y=\"-14.3\" font-family=\"Times,serif\" font-size=\"14.00\">system</text>\n</g>\n<!-- Phase -->\n<g id=\"node2\" class=\"node\">\n<title>Phase</title>\n<polygon fill=\"none\" stroke=\"black\" points=\"92.5,-29 92.5,-46 161.5,-46 161.5,-29 92.5,-29\"/>\n<text text-anchor=\"start\" x=\"95.5\" y=\"-35\" font-family=\"Times,serif\" font-size=\"10.00\">B[exp(0.25i)H]</text>\n<polygon fill=\"none\" stroke=\"black\" points=\"92.5,-8 92.5,-29 161.5,-29 161.5,-8 92.5,-8\"/>\n<text text-anchor=\"start\" x=\"107.5\" y=\"-14.8\" font-family=\"Times,serif\" font-size=\"14.00\">system</text>\n</g>\n<!-- system_G0&#45;&gt;Phase -->\n<g id=\"edge1\" class=\"edge\">\n<title>system_G0:e-&gt;Phase:w</title>\n<path fill=\"none\" stroke=\"black\" d=\"M55,-18C70.67,-18 75.14,-18 89.77,-18\"/>\n<ellipse fill=\"black\" stroke=\"black\" cx=\"91\" cy=\"-18\" rx=\"1\" ry=\"1\"/>\n<text text-anchor=\"middle\" x=\"73.5\" y=\"-21\" font-family=\"Times,serif\" font-size=\"10.00\">1</text>\n</g>\n<!-- system_G1 -->\n<g id=\"node3\" class=\"node\">\n<title>system_G1</title>\n<text text-anchor=\"middle\" x=\"225.5\" y=\"-14.3\" font-family=\"Times,serif\" font-size=\"14.00\">system</text>\n</g>\n<!-- Phase&#45;&gt;system_G1 -->\n<g id=\"edge2\" class=\"edge\">\n<title>Phase:e-&gt;system_G1:w</title>\n<path fill=\"none\" stroke=\"black\" d=\"M161,-18C176.67,-18 181.14,-18 195.77,-18\"/>\n<ellipse fill=\"black\" stroke=\"black\" cx=\"197\" cy=\"-18\" rx=\"1\" ry=\"1\"/>\n<text text-anchor=\"middle\" x=\"179.5\" y=\"-21\" font-family=\"Times,serif\" font-size=\"10.00\">1</text>\n</g>\n</g>\n</svg>",
          "text/plain": "<IPython.core.display.SVG object>"
         },
         "metadata": {},
         "output_type": "display_data"
        }
       ],
       "tabbable": null,
       "tooltip": null
      }
     }
    },
    "version_major": 2,
    "version_minor": 0
   }
  }
 },
 "nbformat": 4,
 "nbformat_minor": 5
}
