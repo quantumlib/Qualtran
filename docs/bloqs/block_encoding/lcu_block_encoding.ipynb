{
 "cells": [
  {
   "cell_type": "markdown",
   "id": "1db02357",
   "metadata": {
    "cq.autogen": "title_cell"
   },
   "source": [
    "# LCU Select/Prepare Oracles"
   ]
  },
  {
   "cell_type": "code",
   "execution_count": 1,
   "id": "04d2146c",
   "metadata": {
    "cq.autogen": "top_imports"
   },
   "outputs": [],
   "source": [
    "from qualtran import Bloq, CompositeBloq, BloqBuilder, Signature, Register\n",
    "from qualtran import QBit, QInt, QUInt, QAny\n",
    "from qualtran.drawing import show_bloq, show_call_graph, show_counts_sigma\n",
    "from typing import *\n",
    "import numpy as np\n",
    "import sympy\n",
    "import cirq"
   ]
  },
  {
   "cell_type": "markdown",
   "id": "e3e5ceaf",
   "metadata": {
    "cq.autogen": "SelectBlockEncoding.bloq_doc.md"
   },
   "source": [
    "## `SelectBlockEncoding`\n",
    "LCU based block encoding using SELECT and PREPARE oracles.\n",
    "\n",
    "Builds the block encoding via\n",
    "$$\n",
    "    B[H] = \\mathrm{SELECT}\n",
    "$$\n",
    "\n",
    "$$\n",
    "    \\mathrm{SELECT} |l\\rangle_a|\\psi\\rangle_s = |l\\rangle_a U_l |\\psi\\rangle_s.\n",
    "$$\n",
    "\n",
    "The Hamiltonian can be extracted via\n",
    "\n",
    "$$\n",
    "    \\langle G | B[H] | G \\rangle = H / \\alpha\n",
    "$$\n",
    "\n",
    "where\n",
    "\n",
    "$$\n",
    "    |G\\rangle = \\mathrm{PREPARE} |0\\rangle_a = \\sum_l \\sqrt{\\frac{w_l}{\\alpha}} |l\\rangle_a,\n",
    "$$\n",
    "\n",
    "The ancilla register is at least of size $\\log L$.\n",
    "\n",
    "In our implementations we typically split the ancilla registers into\n",
    "selection registers (i.e.  the $l$ registers above) and junk registers which\n",
    "are extra qubits needed by state preparation but not controlled upon during\n",
    "SELECT.\n",
    "\n",
    "#### Parameters\n",
    " - `select`: The bloq implementing the `SelectOracle` interface.\n",
    " - `prepare`: The bloq implementing the `PrepareOracle` interface. \n",
    "\n",
    "#### Registers\n",
    " - `selection`: The combined selection register.\n",
    " - `junk`: Additional junk registers not prepared upon.\n",
    " - `system`: The combined system register. \n",
    "\n",
    "#### References\n",
    " - [Hamiltonian Simulation by Qubitization](https://quantum-journal.org/papers/q-2019-07-12-163/).     Low et al. 2019. Sec 3.1, page 7 and 8 for high level overview and definitions. A     block encoding is called a standard form encoding there.\n",
    " - [The power of block-encoded matrix powers: improved regression techniques via faster Hamiltonian simulation](https://arxiv.org/abs/1804.01973).     Chakraborty et al. 2018. Definition 3 page 8.\n"
   ]
  },
  {
   "cell_type": "code",
   "execution_count": 2,
   "id": "9181470e",
   "metadata": {
    "cq.autogen": "SelectBlockEncoding.bloq_doc.py"
   },
   "outputs": [],
   "source": [
    "from qualtran.bloqs.block_encoding import SelectBlockEncoding"
   ]
  },
  {
   "cell_type": "markdown",
   "id": "8f58e56e",
   "metadata": {
    "cq.autogen": "SelectBlockEncoding.example_instances.md"
   },
   "source": [
    "### Example Instances"
   ]
  },
  {
   "cell_type": "code",
   "execution_count": 3,
   "id": "7d131d00",
   "metadata": {
    "cq.autogen": "SelectBlockEncoding.select_block"
   },
   "outputs": [],
   "source": [
    "from qualtran.bloqs.chemistry.hubbard_model.qubitization import PrepareHubbard, SelectHubbard\n",
    "\n",
    "# 3x3 hubbard model U/t = 4\n",
    "dim = 3\n",
    "select = SelectHubbard(x_dim=dim, y_dim=dim)\n",
    "U = 4\n",
    "t = 1\n",
    "prepare = PrepareHubbard(x_dim=dim, y_dim=dim, t=t, u=U)\n",
    "select_block = SelectBlockEncoding(select=select, prepare=prepare)"
   ]
  },
  {
   "cell_type": "code",
   "execution_count": 4,
   "id": "458571fe",
   "metadata": {
    "cq.autogen": "SelectBlockEncoding.black_box_select_block"
   },
   "outputs": [],
   "source": [
    "from qualtran.bloqs.chemistry.hubbard_model.qubitization import PrepareHubbard, SelectHubbard\n",
    "from qualtran.bloqs.multiplexers.black_box_select import BlackBoxSelect\n",
    "from qualtran.bloqs.state_preparation.black_box_prepare import BlackBoxPrepare\n",
    "\n",
    "# 3x3 hubbard model U/t = 4\n",
    "dim = 3\n",
    "select = SelectHubbard(x_dim=dim, y_dim=dim)\n",
    "U = 4\n",
    "t = 1\n",
    "prepare = PrepareHubbard(x_dim=dim, y_dim=dim, t=t, u=U)\n",
    "black_box_select_block = SelectBlockEncoding(\n",
    "    select=BlackBoxSelect(select), prepare=BlackBoxPrepare(prepare)\n",
    ")"
   ]
  },
  {
   "cell_type": "markdown",
   "id": "a6bc87e3",
   "metadata": {
    "cq.autogen": "SelectBlockEncoding.graphical_signature.md"
   },
   "source": [
    "#### Graphical Signature"
   ]
  },
  {
   "cell_type": "code",
   "execution_count": 5,
   "id": "09ec1aa0",
   "metadata": {
    "cq.autogen": "SelectBlockEncoding.graphical_signature.py"
   },
   "outputs": [
    {
     "data": {
      "application/vnd.jupyter.widget-view+json": {
       "model_id": "cf095c06e73347319b2f284e2b41f639",
       "version_major": 2,
       "version_minor": 0
      },
      "text/plain": [
       "HBox(children=(Output(outputs=({'output_type': 'display_data', 'data': {'text/plain': '<IPython.core.display.M…"
      ]
     },
     "metadata": {},
     "output_type": "display_data"
    }
   ],
   "source": [
    "from qualtran.drawing import show_bloqs\n",
    "show_bloqs([select_block, black_box_select_block],\n",
    "           ['`select_block`', '`black_box_select_block`'])"
   ]
  },
  {
   "cell_type": "markdown",
   "id": "5380c739",
   "metadata": {
    "cq.autogen": "SelectBlockEncoding.call_graph.md"
   },
   "source": [
    "### Call Graph"
   ]
  },
  {
   "cell_type": "code",
   "execution_count": 6,
   "id": "9ff80370",
   "metadata": {
    "cq.autogen": "SelectBlockEncoding.call_graph.py"
   },
   "outputs": [
    {
     "data": {
      "image/svg+xml": [
       "<svg xmlns=\"http://www.w3.org/2000/svg\" xmlns:xlink=\"http://www.w3.org/1999/xlink\" width=\"118pt\" height=\"131pt\" viewBox=\"0.00 0.00 118.00 131.00\">\n",
       "<g id=\"graph0\" class=\"graph\" transform=\"scale(1 1) rotate(0) translate(4 127)\">\n",
       "<title>counts</title>\n",
       "<polygon fill=\"white\" stroke=\"transparent\" points=\"-4,4 -4,-127 114,-127 114,4 -4,4\"/>\n",
       "<!-- b0 -->\n",
       "<g id=\"node1\" class=\"node\">\n",
       "<title>b0</title>\n",
       "<polygon fill=\"none\" stroke=\"black\" points=\"38,-93 38,-116 72,-116 72,-93 38,-93\"/>\n",
       "<text text-anchor=\"start\" x=\"44.5\" y=\"-102\" font-family=\"Times,serif\" font-size=\"10.00\">B[H]</text>\n",
       "</g>\n",
       "<!-- b1 -->\n",
       "<g id=\"node2\" class=\"node\">\n",
       "<title>b1</title>\n",
       "<polygon fill=\"none\" stroke=\"black\" points=\"8,-6 8,-29 102,-29 102,-6 8,-6\"/>\n",
       "<text text-anchor=\"start\" x=\"14\" y=\"-15\" font-family=\"Times,serif\" font-size=\"10.00\">SelectHubbard(3, 3)</text>\n",
       "</g>\n",
       "<!-- b0&#45;&gt;b1 -->\n",
       "<g id=\"edge1\" class=\"edge\">\n",
       "<title>b0-&gt;b1</title>\n",
       "<path fill=\"none\" stroke=\"black\" d=\"M55,-86.8C55,-75.16 55,-59.55 55,-46.24\"/>\n",
       "<polygon fill=\"black\" stroke=\"black\" points=\"58.5,-46.18 55,-36.18 51.5,-46.18 58.5,-46.18\"/>\n",
       "<text text-anchor=\"middle\" x=\"58.5\" y=\"-57.8\" font-family=\"Times,serif\" font-size=\"14.00\">1</text>\n",
       "</g>\n",
       "</g>\n",
       "</svg>"
      ],
      "text/plain": [
       "<IPython.core.display.SVG object>"
      ]
     },
     "metadata": {},
     "output_type": "display_data"
    },
    {
     "data": {
      "text/markdown": [
       "#### Counts totals:\n",
       " - `SelectHubbard(3, 3)`: 1"
      ],
      "text/plain": [
       "<IPython.core.display.Markdown object>"
      ]
     },
     "metadata": {},
     "output_type": "display_data"
    }
   ],
   "source": [
    "from qualtran.resource_counting.generalizers import ignore_split_join\n",
    "select_block_g, select_block_sigma = select_block.call_graph(max_depth=1, generalizer=ignore_split_join)\n",
    "show_call_graph(select_block_g)\n",
    "show_counts_sigma(select_block_sigma)"
   ]
  },
  {
   "cell_type": "markdown",
   "id": "32fd25a4",
   "metadata": {
    "cq.autogen": "LCUBlockEncoding.bloq_doc.md"
   },
   "source": [
    "## `LCUBlockEncoding`\n",
    "LCU based block encoding using SELECT and PREPARE oracles.\n",
    "\n",
    "Builds the standard block encoding from an LCU as\n",
    "$$\n",
    "    B[H] = \\mathrm{PREPARE}^\\dagger \\cdot \\mathrm{SELECT} \\cdot \\mathrm{PREPARE},\n",
    "$$\n",
    "where\n",
    "$$\n",
    "    \\mathrm{PREPARE} |0\\rangle_a = \\sum_l \\sqrt{\\frac{w_l}{\\alpha}} |l\\rangle_a,\n",
    "$$\n",
    "and\n",
    "$$\n",
    "    \\mathrm{SELECT} |l\\rangle_a|\\psi\\rangle_s = |l\\rangle_a U_l |\\psi\\rangle_s.\n",
    "$$\n",
    "\n",
    "The Hamiltonian can be extracted via\n",
    "$$\n",
    "    \\langle 0 | B[H] | 0 \\rangle = H / \\alpha,\n",
    "$$\n",
    "This differs from the `SelectBlockEncoding` which uses Prepare for the signal state, while here\n",
    "it is the identity operator.\n",
    "\n",
    "The ancilla register is at least of size $\\log L$.\n",
    "\n",
    "In our implementations we typically split the ancilla registers into\n",
    "selection registers (i.e.  the $l$ registers above) and junk registers which\n",
    "are extra qubits needed by state preparation but not controlled upon during\n",
    "SELECT.\n",
    "\n",
    "#### Parameters\n",
    " - `select`: The bloq implementing the `SelectOracle` interface.\n",
    " - `prepare`: The bloq implementing the `PrepareOracle` interface. \n",
    "\n",
    "#### Registers\n",
    " - `selection`: The combined selection register.\n",
    " - `junk`: Additional junk registers not prepared upon.\n",
    " - `system`: The combined system register. \n",
    "\n",
    "#### References\n",
    " - [Hamiltonian Simulation by Qubitization](https://quantum-journal.org/papers/q-2019-07-12-163/).     Low et al. 2019. Sec 3.1, page 7 and 8 for high level overview and definitions. A     block encoding is called a standard form encoding there.\n",
    " - [The power of block-encoded matrix powers: improved regression techniques via faster Hamiltonian simulation](https://arxiv.org/abs/1804.01973).     Chakraborty et al. 2018. Definition 3 page 8.\n"
   ]
  },
  {
   "cell_type": "code",
   "execution_count": 7,
   "id": "ca76dfc7",
   "metadata": {
    "cq.autogen": "LCUBlockEncoding.bloq_doc.py"
   },
   "outputs": [],
   "source": [
    "from qualtran.bloqs.block_encoding import LCUBlockEncoding"
   ]
  },
  {
   "cell_type": "markdown",
   "id": "40d371bf",
   "metadata": {
    "cq.autogen": "LCUBlockEncoding.example_instances.md"
   },
   "source": [
    "### Example Instances"
   ]
  },
  {
   "cell_type": "code",
   "execution_count": 8,
   "id": "50c25e40",
   "metadata": {
    "cq.autogen": "LCUBlockEncoding.lcu_block"
   },
   "outputs": [],
   "source": [
    "from qualtran.bloqs.chemistry.hubbard_model.qubitization import PrepareHubbard, SelectHubbard\n",
    "\n",
    "# 3x3 hubbard model U/t = 4\n",
    "dim = 3\n",
    "select = SelectHubbard(x_dim=dim, y_dim=dim)\n",
    "U = 4\n",
    "t = 1\n",
    "prepare = PrepareHubbard(x_dim=dim, y_dim=dim, t=t, u=U)\n",
    "lcu_block = LCUBlockEncoding(select=select, prepare=prepare)"
   ]
  },
  {
   "cell_type": "code",
   "execution_count": 9,
   "id": "3a4cd812",
   "metadata": {
    "cq.autogen": "LCUBlockEncoding.black_box_lcu_block"
   },
   "outputs": [],
   "source": [
    "from qualtran.bloqs.chemistry.hubbard_model.qubitization import PrepareHubbard, SelectHubbard\n",
    "from qualtran.bloqs.multiplexers.black_box_select import BlackBoxSelect\n",
    "from qualtran.bloqs.state_preparation.black_box_prepare import BlackBoxPrepare\n",
    "\n",
    "# 3x3 hubbard model U/t = 4\n",
    "dim = 3\n",
    "select = SelectHubbard(x_dim=dim, y_dim=dim)\n",
    "U = 4\n",
    "t = 1\n",
    "prepare = PrepareHubbard(x_dim=dim, y_dim=dim, t=t, u=U)\n",
    "black_box_lcu_block = LCUBlockEncoding(\n",
    "    select=BlackBoxSelect(select), prepare=BlackBoxPrepare(prepare)\n",
    ")"
   ]
  },
  {
   "cell_type": "markdown",
   "id": "ed0879fd",
   "metadata": {
    "cq.autogen": "LCUBlockEncoding.graphical_signature.md"
   },
   "source": [
    "#### Graphical Signature"
   ]
  },
  {
   "cell_type": "code",
   "execution_count": 10,
   "id": "d6c2332e",
   "metadata": {
    "cq.autogen": "LCUBlockEncoding.graphical_signature.py"
   },
   "outputs": [
    {
     "data": {
      "application/vnd.jupyter.widget-view+json": {
       "model_id": "8a885a6a3ae046a69ddca2f43b07509c",
       "version_major": 2,
       "version_minor": 0
      },
      "text/plain": [
       "HBox(children=(Output(outputs=({'output_type': 'display_data', 'data': {'text/plain': '<IPython.core.display.M…"
      ]
     },
     "metadata": {},
     "output_type": "display_data"
    }
   ],
   "source": [
    "from qualtran.drawing import show_bloqs\n",
    "show_bloqs([lcu_block, black_box_lcu_block],\n",
    "           ['`lcu_block`', '`black_box_lcu_block`'])"
   ]
  },
  {
   "cell_type": "markdown",
   "id": "cda4ef58",
   "metadata": {
    "cq.autogen": "LCUBlockEncoding.call_graph.md"
   },
   "source": [
    "### Call Graph"
   ]
  },
  {
   "cell_type": "code",
   "execution_count": 11,
   "id": "c123b946",
   "metadata": {
    "cq.autogen": "LCUBlockEncoding.call_graph.py"
   },
   "outputs": [
    {
     "data": {
      "image/svg+xml": [
       "<svg xmlns=\"http://www.w3.org/2000/svg\" xmlns:xlink=\"http://www.w3.org/1999/xlink\" width=\"350pt\" height=\"131pt\" viewBox=\"0.00 0.00 350.00 131.00\">\n",
       "<g id=\"graph0\" class=\"graph\" transform=\"scale(1 1) rotate(0) translate(4 127)\">\n",
       "<title>counts</title>\n",
       "<polygon fill=\"white\" stroke=\"transparent\" points=\"-4,4 -4,-127 346,-127 346,4 -4,4\"/>\n",
       "<!-- b0 -->\n",
       "<g id=\"node1\" class=\"node\">\n",
       "<title>b0</title>\n",
       "<polygon fill=\"none\" stroke=\"black\" points=\"156,-93 156,-116 190,-116 190,-93 156,-93\"/>\n",
       "<text text-anchor=\"start\" x=\"162.5\" y=\"-102\" font-family=\"Times,serif\" font-size=\"10.00\">B[H]</text>\n",
       "</g>\n",
       "<!-- b1 -->\n",
       "<g id=\"node2\" class=\"node\">\n",
       "<title>b1</title>\n",
       "<polygon fill=\"none\" stroke=\"black\" points=\"8,-6 8,-29 92,-29 92,-6 8,-6\"/>\n",
       "<text text-anchor=\"start\" x=\"14\" y=\"-15\" font-family=\"Times,serif\" font-size=\"10.00\">PrepareHubbard†</text>\n",
       "</g>\n",
       "<!-- b0&#45;&gt;b1 -->\n",
       "<g id=\"edge1\" class=\"edge\">\n",
       "<title>b0-&gt;b1</title>\n",
       "<path fill=\"none\" stroke=\"black\" d=\"M148.11,-86.8C129.44,-73.9 103.69,-56.1 83.25,-41.98\"/>\n",
       "<polygon fill=\"black\" stroke=\"black\" points=\"85.07,-38.98 74.85,-36.18 81.09,-44.74 85.07,-38.98\"/>\n",
       "<text text-anchor=\"middle\" x=\"122.5\" y=\"-57.8\" font-family=\"Times,serif\" font-size=\"14.00\">1</text>\n",
       "</g>\n",
       "<!-- b2 -->\n",
       "<g id=\"node3\" class=\"node\">\n",
       "<title>b2</title>\n",
       "<polygon fill=\"none\" stroke=\"black\" points=\"126,-6 126,-29 220,-29 220,-6 126,-6\"/>\n",
       "<text text-anchor=\"start\" x=\"132\" y=\"-15\" font-family=\"Times,serif\" font-size=\"10.00\">SelectHubbard(3, 3)</text>\n",
       "</g>\n",
       "<!-- b0&#45;&gt;b2 -->\n",
       "<g id=\"edge2\" class=\"edge\">\n",
       "<title>b0-&gt;b2</title>\n",
       "<path fill=\"none\" stroke=\"black\" d=\"M173,-86.8C173,-75.16 173,-59.55 173,-46.24\"/>\n",
       "<polygon fill=\"black\" stroke=\"black\" points=\"176.5,-46.18 173,-36.18 169.5,-46.18 176.5,-46.18\"/>\n",
       "<text text-anchor=\"middle\" x=\"176.5\" y=\"-57.8\" font-family=\"Times,serif\" font-size=\"14.00\">1</text>\n",
       "</g>\n",
       "<!-- b3 -->\n",
       "<g id=\"node4\" class=\"node\">\n",
       "<title>b3</title>\n",
       "<polygon fill=\"none\" stroke=\"black\" points=\"254,-6 254,-29 334,-29 334,-6 254,-6\"/>\n",
       "<text text-anchor=\"start\" x=\"260.5\" y=\"-15\" font-family=\"Times,serif\" font-size=\"10.00\">PrepareHubbard</text>\n",
       "</g>\n",
       "<!-- b0&#45;&gt;b3 -->\n",
       "<g id=\"edge3\" class=\"edge\">\n",
       "<title>b0-&gt;b3</title>\n",
       "<path fill=\"none\" stroke=\"black\" d=\"M197.49,-86.8C215.85,-73.9 241.19,-56.1 261.29,-41.98\"/>\n",
       "<polygon fill=\"black\" stroke=\"black\" points=\"263.38,-44.79 269.55,-36.18 259.36,-39.06 263.38,-44.79\"/>\n",
       "<text text-anchor=\"middle\" x=\"243.5\" y=\"-57.8\" font-family=\"Times,serif\" font-size=\"14.00\">1</text>\n",
       "</g>\n",
       "</g>\n",
       "</svg>"
      ],
      "text/plain": [
       "<IPython.core.display.SVG object>"
      ]
     },
     "metadata": {},
     "output_type": "display_data"
    },
    {
     "data": {
      "text/markdown": [
       "#### Counts totals:\n",
       " - `PrepareHubbard`: 1\n",
       " - `PrepareHubbard†`: 1\n",
       " - `SelectHubbard(3, 3)`: 1"
      ],
      "text/plain": [
       "<IPython.core.display.Markdown object>"
      ]
     },
     "metadata": {},
     "output_type": "display_data"
    }
   ],
   "source": [
    "from qualtran.resource_counting.generalizers import ignore_split_join\n",
    "lcu_block_g, lcu_block_sigma = lcu_block.call_graph(max_depth=1, generalizer=ignore_split_join)\n",
    "show_call_graph(lcu_block_g)\n",
    "show_counts_sigma(lcu_block_sigma)"
   ]
  },
  {
   "cell_type": "markdown",
   "id": "41f35700",
   "metadata": {
    "cq.autogen": "SelectOracle.bloq_doc.md"
   },
   "source": [
    "## `SelectOracle`\n",
    "Abstract base class that defines the interface for a SELECT Oracle.\n",
    "\n",
    "The action of a SELECT oracle on a selection register $|l\\rangle$ and target register\n",
    "$|\\Psi\\rangle$ can be defined as:\n",
    "\n",
    "$$\n",
    "    \\mathrm{SELECT} = \\sum_{l}|l \\rangle \\langle l| \\otimes U_l\n",
    "$$\n",
    "\n",
    "In other words, the `SELECT` oracle applies $l$'th unitary $U_l$ on the target register\n",
    "$|\\Psi\\rangle$ when the selection register stores integer $l$.\n",
    "\n",
    "$$\n",
    "    \\mathrm{SELECT}|l\\rangle |\\Psi\\rangle = |l\\rangle U_{l}|\\Psi\\rangle\n",
    "$$"
   ]
  },
  {
   "cell_type": "code",
   "execution_count": 12,
   "id": "78c13d1e",
   "metadata": {
    "cq.autogen": "SelectOracle.bloq_doc.py"
   },
   "outputs": [],
   "source": [
    "from qualtran.bloqs.multiplexers.select_base import SelectOracle"
   ]
  },
  {
   "cell_type": "markdown",
   "id": "b02dcd74",
   "metadata": {
    "cq.autogen": "PrepareOracle.bloq_doc.md"
   },
   "source": [
    "## `PrepareOracle`\n",
    "Abstract base class that defines the API for a PREPARE Oracle.\n",
    "\n",
    "Given a set of coefficients $\\{c_0, c_1, ..., c_{N - 1}\\}$, the PREPARE oracle is used to encode\n",
    "the coefficients as amplitudes of a state $|\\Psi\\rangle = \\sum_{l=0}^{N-1} \\sqrt{\\frac{c_l}{\\lambda}} |l\\rangle$\n",
    "where $\\lambda = \\sum_l |c_l|$, using a selection register $|l\\rangle$. In order to prepare such\n",
    "a state, the PREPARE circuit is also allowed to use a junk register that is entangled with\n",
    "selection register.\n",
    "\n",
    "Thus, the action of a PREPARE circuit on an input state $|0\\rangle$ can be defined as:\n",
    "\n",
    "$$\n",
    "    \\mathrm{PREPARE} |0\\rangle = \\sum_{l=0}^{N-1} \\sqrt{ \\frac{c_l}{\\lambda} } |l\\rangle |\\mathrm{junk}_l\\rangle\n",
    "$$"
   ]
  },
  {
   "cell_type": "code",
   "execution_count": 13,
   "id": "ddb7db0b",
   "metadata": {
    "cq.autogen": "PrepareOracle.bloq_doc.py"
   },
   "outputs": [],
   "source": [
    "from qualtran.bloqs.state_preparation.prepare_base import PrepareOracle"
   ]
  },
  {
   "cell_type": "markdown",
   "id": "42020699",
   "metadata": {
    "cq.autogen": "BlackBoxSelect.bloq_doc.md"
   },
   "source": [
    "## `BlackBoxSelect`\n",
    "A 'black box' Select bloq.\n",
    "\n",
    "The `SELECT` operation applies the $l$'th unitary $U_{l}$ on the system register\n",
    "when the selection register stores integer $l$.\n",
    "When implementing specific `SelectOracle` bloqs, it is helpful to have multiple selection\n",
    "registers each with semantic meaning. For example: you could have spatial or spin coordinates\n",
    "on different, named registers. The `SelectOracle` interface encourages this. `BlackBoxSelect`\n",
    "uses the properties on the `SelectOracle` interface to provide a \"black box\" view of a select\n",
    "operation that just has a selection and system register.\n",
    "During decomposition, this bloq will use the `Partition` utility bloq to partition\n",
    "and route the parts of the unified selection register to the `Select` bloq.\n",
    "\n",
    "#### Parameters\n",
    " - `select`: The bloq implementing the `SelectOracle` interface. \n",
    "\n",
    "#### Registers\n",
    " - `selection`: The combined selection register\n",
    " - `system`: The combined system register\n"
   ]
  },
  {
   "cell_type": "code",
   "execution_count": 14,
   "id": "376ccda6",
   "metadata": {
    "cq.autogen": "BlackBoxSelect.bloq_doc.py"
   },
   "outputs": [],
   "source": [
    "from qualtran.bloqs.multiplexers.black_box_select import BlackBoxSelect"
   ]
  },
  {
   "cell_type": "markdown",
   "id": "110ccc87",
   "metadata": {
    "cq.autogen": "BlackBoxSelect.example_instances.md"
   },
   "source": [
    "### Example Instances"
   ]
  },
  {
   "cell_type": "code",
   "execution_count": 15,
   "id": "9e51fcd3",
   "metadata": {
    "cq.autogen": "BlackBoxSelect.black_box_select"
   },
   "outputs": [],
   "source": [
    "from qualtran.bloqs.chemistry.hubbard_model.qubitization import SelectHubbard\n",
    "\n",
    "select = SelectHubbard(2, 2)\n",
    "black_box_select = BlackBoxSelect(select=select)"
   ]
  },
  {
   "cell_type": "markdown",
   "id": "82924c73",
   "metadata": {
    "cq.autogen": "BlackBoxSelect.graphical_signature.md"
   },
   "source": [
    "#### Graphical Signature"
   ]
  },
  {
   "cell_type": "code",
   "execution_count": 16,
   "id": "18e17dd4",
   "metadata": {
    "cq.autogen": "BlackBoxSelect.graphical_signature.py"
   },
   "outputs": [
    {
     "data": {
      "application/vnd.jupyter.widget-view+json": {
       "model_id": "59b66d6b09d442fbb9277517d7d62d9f",
       "version_major": 2,
       "version_minor": 0
      },
      "text/plain": [
       "HBox(children=(Output(outputs=({'output_type': 'display_data', 'data': {'text/plain': '<IPython.core.display.M…"
      ]
     },
     "metadata": {},
     "output_type": "display_data"
    }
   ],
   "source": [
    "from qualtran.drawing import show_bloqs\n",
    "show_bloqs([black_box_select],\n",
    "           ['`black_box_select`'])"
   ]
  },
  {
   "cell_type": "markdown",
   "id": "2c72ac9f",
   "metadata": {
    "cq.autogen": "BlackBoxSelect.call_graph.md"
   },
   "source": [
    "### Call Graph"
   ]
  },
  {
   "cell_type": "code",
   "execution_count": 17,
   "id": "625d42e4",
   "metadata": {
    "cq.autogen": "BlackBoxSelect.call_graph.py"
   },
   "outputs": [
    {
     "data": {
      "image/svg+xml": [
       "<svg xmlns=\"http://www.w3.org/2000/svg\" xmlns:xlink=\"http://www.w3.org/1999/xlink\" width=\"118pt\" height=\"131pt\" viewBox=\"0.00 0.00 118.00 131.00\">\n",
       "<g id=\"graph0\" class=\"graph\" transform=\"scale(1 1) rotate(0) translate(4 127)\">\n",
       "<title>counts</title>\n",
       "<polygon fill=\"white\" stroke=\"transparent\" points=\"-4,4 -4,-127 114,-127 114,4 -4,4\"/>\n",
       "<!-- b0 -->\n",
       "<g id=\"node1\" class=\"node\">\n",
       "<title>b0</title>\n",
       "<polygon fill=\"none\" stroke=\"black\" points=\"30,-93 30,-116 80,-116 80,-93 30,-93\"/>\n",
       "<text text-anchor=\"start\" x=\"36.5\" y=\"-102\" font-family=\"Times,serif\" font-size=\"10.00\">SELECT</text>\n",
       "</g>\n",
       "<!-- b1 -->\n",
       "<g id=\"node2\" class=\"node\">\n",
       "<title>b1</title>\n",
       "<polygon fill=\"none\" stroke=\"black\" points=\"8,-6 8,-29 102,-29 102,-6 8,-6\"/>\n",
       "<text text-anchor=\"start\" x=\"14\" y=\"-15\" font-family=\"Times,serif\" font-size=\"10.00\">SelectHubbard(2, 2)</text>\n",
       "</g>\n",
       "<!-- b0&#45;&gt;b1 -->\n",
       "<g id=\"edge1\" class=\"edge\">\n",
       "<title>b0-&gt;b1</title>\n",
       "<path fill=\"none\" stroke=\"black\" d=\"M55,-86.8C55,-75.16 55,-59.55 55,-46.24\"/>\n",
       "<polygon fill=\"black\" stroke=\"black\" points=\"58.5,-46.18 55,-36.18 51.5,-46.18 58.5,-46.18\"/>\n",
       "<text text-anchor=\"middle\" x=\"58.5\" y=\"-57.8\" font-family=\"Times,serif\" font-size=\"14.00\">1</text>\n",
       "</g>\n",
       "</g>\n",
       "</svg>"
      ],
      "text/plain": [
       "<IPython.core.display.SVG object>"
      ]
     },
     "metadata": {},
     "output_type": "display_data"
    },
    {
     "data": {
      "text/markdown": [
       "#### Counts totals:\n",
       " - `SelectHubbard(2, 2)`: 1"
      ],
      "text/plain": [
       "<IPython.core.display.Markdown object>"
      ]
     },
     "metadata": {},
     "output_type": "display_data"
    }
   ],
   "source": [
    "from qualtran.resource_counting.generalizers import ignore_split_join\n",
    "black_box_select_g, black_box_select_sigma = black_box_select.call_graph(max_depth=1, generalizer=ignore_split_join)\n",
    "show_call_graph(black_box_select_g)\n",
    "show_counts_sigma(black_box_select_sigma)"
   ]
  },
  {
   "cell_type": "markdown",
   "id": "2ca2f17d",
   "metadata": {
    "cq.autogen": "BlackBoxPrepare.bloq_doc.md"
   },
   "source": [
    "## `BlackBoxPrepare`\n",
    "Provide a black-box interface to `Prepare` bloqs.\n",
    "\n",
    "This wrapper uses `Partition` to combine descriptive selection\n",
    "registers into one register named \"selection\".\n",
    "\n",
    "#### Parameters\n",
    " - `prepare`: The bloq following the `Prepare` interface to wrap. \n",
    "\n",
    "#### Registers\n",
    " - `selection`: selection register.\n",
    " - `junk`: Additional junk registers not prepared upon.\n"
   ]
  },
  {
   "cell_type": "code",
   "execution_count": 18,
   "id": "74e65985",
   "metadata": {
    "cq.autogen": "BlackBoxPrepare.bloq_doc.py"
   },
   "outputs": [],
   "source": [
    "from qualtran.bloqs.state_preparation.black_box_prepare import BlackBoxPrepare"
   ]
  },
  {
   "cell_type": "markdown",
   "id": "ced36451",
   "metadata": {
    "cq.autogen": "BlackBoxPrepare.example_instances.md"
   },
   "source": [
    "### Example Instances"
   ]
  },
  {
   "cell_type": "code",
   "execution_count": 19,
   "id": "3f65b734",
   "metadata": {
    "cq.autogen": "BlackBoxPrepare.black_box_prepare"
   },
   "outputs": [],
   "source": [
    "from qualtran.bloqs.chemistry.hubbard_model.qubitization import PrepareHubbard\n",
    "\n",
    "prepare = PrepareHubbard(2, 2, 1, 4)\n",
    "black_box_prepare = BlackBoxPrepare(prepare=prepare)"
   ]
  },
  {
   "cell_type": "markdown",
   "id": "f8f9f1dd",
   "metadata": {
    "cq.autogen": "BlackBoxPrepare.graphical_signature.md"
   },
   "source": [
    "#### Graphical Signature"
   ]
  },
  {
   "cell_type": "code",
   "execution_count": 20,
   "id": "d31d4114",
   "metadata": {
    "cq.autogen": "BlackBoxPrepare.graphical_signature.py"
   },
   "outputs": [
    {
     "data": {
      "application/vnd.jupyter.widget-view+json": {
       "model_id": "abec2eeefa9346798fe8a32455ab2ca1",
       "version_major": 2,
       "version_minor": 0
      },
      "text/plain": [
       "HBox(children=(Output(outputs=({'output_type': 'display_data', 'data': {'text/plain': '<IPython.core.display.M…"
      ]
     },
     "metadata": {},
     "output_type": "display_data"
    }
   ],
   "source": [
    "from qualtran.drawing import show_bloqs\n",
    "show_bloqs([black_box_prepare],\n",
    "           ['`black_box_prepare`'])"
   ]
  },
  {
   "cell_type": "markdown",
   "id": "a817505d",
   "metadata": {
    "cq.autogen": "BlackBoxPrepare.call_graph.md"
   },
   "source": [
    "### Call Graph"
   ]
  },
  {
   "cell_type": "code",
   "execution_count": 21,
   "id": "0383f93f",
   "metadata": {
    "cq.autogen": "BlackBoxPrepare.call_graph.py"
   },
   "outputs": [
    {
     "data": {
      "image/svg+xml": [
       "<svg xmlns=\"http://www.w3.org/2000/svg\" xmlns:xlink=\"http://www.w3.org/1999/xlink\" width=\"104pt\" height=\"131pt\" viewBox=\"0.00 0.00 104.00 131.00\">\n",
       "<g id=\"graph0\" class=\"graph\" transform=\"scale(1 1) rotate(0) translate(4 127)\">\n",
       "<title>counts</title>\n",
       "<polygon fill=\"white\" stroke=\"transparent\" points=\"-4,4 -4,-127 100,-127 100,4 -4,4\"/>\n",
       "<!-- b0 -->\n",
       "<g id=\"node1\" class=\"node\">\n",
       "<title>b0</title>\n",
       "<polygon fill=\"none\" stroke=\"black\" points=\"32,-93 32,-116 64,-116 64,-93 32,-93\"/>\n",
       "<text text-anchor=\"start\" x=\"38.5\" y=\"-102\" font-family=\"Times,serif\" font-size=\"10.00\">Prep</text>\n",
       "</g>\n",
       "<!-- b1 -->\n",
       "<g id=\"node2\" class=\"node\">\n",
       "<title>b1</title>\n",
       "<polygon fill=\"none\" stroke=\"black\" points=\"8,-6 8,-29 88,-29 88,-6 8,-6\"/>\n",
       "<text text-anchor=\"start\" x=\"14.5\" y=\"-15\" font-family=\"Times,serif\" font-size=\"10.00\">PrepareHubbard</text>\n",
       "</g>\n",
       "<!-- b0&#45;&gt;b1 -->\n",
       "<g id=\"edge1\" class=\"edge\">\n",
       "<title>b0-&gt;b1</title>\n",
       "<path fill=\"none\" stroke=\"black\" d=\"M48,-86.8C48,-75.16 48,-59.55 48,-46.24\"/>\n",
       "<polygon fill=\"black\" stroke=\"black\" points=\"51.5,-46.18 48,-36.18 44.5,-46.18 51.5,-46.18\"/>\n",
       "<text text-anchor=\"middle\" x=\"51.5\" y=\"-57.8\" font-family=\"Times,serif\" font-size=\"14.00\">1</text>\n",
       "</g>\n",
       "</g>\n",
       "</svg>"
      ],
      "text/plain": [
       "<IPython.core.display.SVG object>"
      ]
     },
     "metadata": {},
     "output_type": "display_data"
    },
    {
     "data": {
      "text/markdown": [
       "#### Counts totals:\n",
       " - `PrepareHubbard`: 1"
      ],
      "text/plain": [
       "<IPython.core.display.Markdown object>"
      ]
     },
     "metadata": {},
     "output_type": "display_data"
    }
   ],
   "source": [
    "from qualtran.resource_counting.generalizers import ignore_split_join\n",
    "black_box_prepare_g, black_box_prepare_sigma = black_box_prepare.call_graph(max_depth=1, generalizer=ignore_split_join)\n",
    "show_call_graph(black_box_prepare_g)\n",
    "show_counts_sigma(black_box_prepare_sigma)"
   ]
  }
 ],
 "metadata": {
  "kernelspec": {
   "display_name": "Python 3",
   "language": "python",
   "name": "python3"
  },
  "language_info": {
   "codemirror_mode": {
    "name": "ipython",
    "version": 3
   },
   "file_extension": ".py",
   "mimetype": "text/x-python",
   "name": "python",
   "nbconvert_exporter": "python",
   "pygments_lexer": "ipython3",
   "version": "3.11.8"
  },
  "widgets": {
   "application/vnd.jupyter.widget-state+json": {
    "state": {
     "02ca025d32664d4fa38e3faf5e0f3906": {
      "model_module": "@jupyter-widgets/output",
      "model_module_version": "1.0.0",
      "model_name": "OutputModel",
      "state": {
       "_dom_classes": [],
       "_model_module": "@jupyter-widgets/output",
       "_model_module_version": "1.0.0",
       "_model_name": "OutputModel",
       "_view_count": null,
       "_view_module": "@jupyter-widgets/output",
       "_view_module_version": "1.0.0",
       "_view_name": "OutputView",
       "layout": "IPY_MODEL_e1e154fa69124ecab96fc8642c241a91",
       "msg_id": "",
       "outputs": [
        {
         "data": {
          "text/markdown": "`black_box_lcu_block`",
          "text/plain": "<IPython.core.display.Markdown object>"
         },
         "metadata": {},
         "output_type": "display_data"
        },
        {
         "data": {
          "image/svg+xml": "<svg xmlns=\"http://www.w3.org/2000/svg\" xmlns:xlink=\"http://www.w3.org/1999/xlink\" width=\"267pt\" height=\"152pt\" viewBox=\"0.00 0.00 267.00 152.00\">\n<g id=\"graph0\" class=\"graph\" transform=\"scale(1 1) rotate(0) translate(4 148)\">\n<title>my_graph</title>\n<polygon fill=\"white\" stroke=\"transparent\" points=\"-4,4 -4,-148 263,-148 263,4 -4,4\"/>\n<!-- selection_G2 -->\n<g id=\"node1\" class=\"node\">\n<title>selection_G2</title>\n<text text-anchor=\"middle\" x=\"32.5\" y=\"-122.3\" font-family=\"Times,serif\" font-size=\"14.00\">selection</text>\n</g>\n<!-- LCUBlockEncoding -->\n<g id=\"node4\" class=\"node\">\n<title>LCUBlockEncoding</title>\n<polygon fill=\"none\" stroke=\"black\" points=\"102.5,-104 102.5,-121 157.5,-121 157.5,-104 102.5,-104\"/>\n<text text-anchor=\"start\" x=\"119.5\" y=\"-110\" font-family=\"Times,serif\" font-size=\"10.00\">B[H]</text>\n<polygon fill=\"none\" stroke=\"black\" points=\"102.5,-83 102.5,-104 157.5,-104 157.5,-83 102.5,-83\"/>\n<text text-anchor=\"start\" x=\"105.5\" y=\"-89.8\" font-family=\"Times,serif\" font-size=\"14.00\">selection</text>\n<polygon fill=\"none\" stroke=\"black\" points=\"102.5,-62 102.5,-83 157.5,-83 157.5,-62 102.5,-62\"/>\n<text text-anchor=\"start\" x=\"117.5\" y=\"-68.8\" font-family=\"Times,serif\" font-size=\"14.00\">junk</text>\n<polygon fill=\"none\" stroke=\"black\" points=\"102.5,-41 102.5,-62 157.5,-62 157.5,-41 102.5,-41\"/>\n<text text-anchor=\"start\" x=\"110.5\" y=\"-47.8\" font-family=\"Times,serif\" font-size=\"14.00\">system</text>\n</g>\n<!-- selection_G2&#45;&gt;LCUBlockEncoding -->\n<g id=\"edge1\" class=\"edge\">\n<title>selection_G2:e-&gt;LCUBlockEncoding:w</title>\n<path fill=\"none\" stroke=\"black\" d=\"M65,-126C85.89,-126 80.72,-96.45 99.58,-94.14\"/>\n<ellipse fill=\"black\" stroke=\"black\" cx=\"101\" cy=\"-94.06\" rx=\"1\" ry=\"1\"/>\n<text text-anchor=\"middle\" x=\"83.5\" y=\"-113\" font-family=\"Times,serif\" font-size=\"10.00\">12</text>\n</g>\n<!-- junk_G0 -->\n<g id=\"node2\" class=\"node\">\n<title>junk_G0</title>\n<text text-anchor=\"middle\" x=\"32.5\" y=\"-68.3\" font-family=\"Times,serif\" font-size=\"14.00\">junk</text>\n</g>\n<!-- junk_G0&#45;&gt;LCUBlockEncoding -->\n<g id=\"edge2\" class=\"edge\">\n<title>junk_G0:e-&gt;LCUBlockEncoding:w</title>\n<path fill=\"none\" stroke=\"black\" d=\"M60.5,-72C78.22,-72 83.17,-72 99.9,-72\"/>\n<ellipse fill=\"black\" stroke=\"black\" cx=\"101\" cy=\"-72\" rx=\"1\" ry=\"1\"/>\n<text text-anchor=\"middle\" x=\"83.5\" y=\"-75\" font-family=\"Times,serif\" font-size=\"10.00\">2</text>\n</g>\n<!-- system_G3 -->\n<g id=\"node3\" class=\"node\">\n<title>system_G3</title>\n<text text-anchor=\"middle\" x=\"32.5\" y=\"-14.3\" font-family=\"Times,serif\" font-size=\"14.00\">system</text>\n</g>\n<!-- system_G3&#45;&gt;LCUBlockEncoding -->\n<g id=\"edge3\" class=\"edge\">\n<title>system_G3:e-&gt;LCUBlockEncoding:w</title>\n<path fill=\"none\" stroke=\"black\" d=\"M61.5,-18C83.99,-18 79.12,-48.97 99.91,-50.91\"/>\n<ellipse fill=\"black\" stroke=\"black\" cx=\"101\" cy=\"-50.95\" rx=\"1\" ry=\"1\"/>\n<text text-anchor=\"middle\" x=\"83.5\" y=\"-42\" font-family=\"Times,serif\" font-size=\"10.00\">18</text>\n</g>\n<!-- selection_G5 -->\n<g id=\"node5\" class=\"node\">\n<title>selection_G5</title>\n<text text-anchor=\"middle\" x=\"226.5\" y=\"-122.3\" font-family=\"Times,serif\" font-size=\"14.00\">selection</text>\n</g>\n<!-- LCUBlockEncoding&#45;&gt;selection_G5 -->\n<g id=\"edge4\" class=\"edge\">\n<title>LCUBlockEncoding:e-&gt;selection_G5:w</title>\n<path fill=\"none\" stroke=\"black\" d=\"M157,-94C177.89,-94 172.72,-123.55 191.58,-125.86\"/>\n<ellipse fill=\"black\" stroke=\"black\" cx=\"193\" cy=\"-125.94\" rx=\"1\" ry=\"1\"/>\n<text text-anchor=\"middle\" x=\"175.5\" y=\"-113\" font-family=\"Times,serif\" font-size=\"10.00\">12</text>\n</g>\n<!-- junk_G6 -->\n<g id=\"node6\" class=\"node\">\n<title>junk_G6</title>\n<text text-anchor=\"middle\" x=\"226.5\" y=\"-68.3\" font-family=\"Times,serif\" font-size=\"14.00\">junk</text>\n</g>\n<!-- LCUBlockEncoding&#45;&gt;junk_G6 -->\n<g id=\"edge5\" class=\"edge\">\n<title>LCUBlockEncoding:e-&gt;junk_G6:w</title>\n<path fill=\"none\" stroke=\"black\" d=\"M157,-72C174.72,-72 179.67,-72 196.4,-72\"/>\n<ellipse fill=\"black\" stroke=\"black\" cx=\"197.5\" cy=\"-72\" rx=\"1\" ry=\"1\"/>\n<text text-anchor=\"middle\" x=\"175.5\" y=\"-75\" font-family=\"Times,serif\" font-size=\"10.00\">2</text>\n</g>\n<!-- system_G1 -->\n<g id=\"node7\" class=\"node\">\n<title>system_G1</title>\n<text text-anchor=\"middle\" x=\"226.5\" y=\"-14.3\" font-family=\"Times,serif\" font-size=\"14.00\">system</text>\n</g>\n<!-- LCUBlockEncoding&#45;&gt;system_G1 -->\n<g id=\"edge6\" class=\"edge\">\n<title>LCUBlockEncoding:e-&gt;system_G1:w</title>\n<path fill=\"none\" stroke=\"black\" d=\"M157,-51C179.49,-51 174.62,-20.03 195.41,-18.09\"/>\n<ellipse fill=\"black\" stroke=\"black\" cx=\"196.5\" cy=\"-18.05\" rx=\"1\" ry=\"1\"/>\n<text text-anchor=\"middle\" x=\"175.5\" y=\"-42\" font-family=\"Times,serif\" font-size=\"10.00\">18</text>\n</g>\n</g>\n</svg>",
          "text/plain": "<IPython.core.display.SVG object>"
         },
         "metadata": {},
         "output_type": "display_data"
        }
       ],
       "tabbable": null,
       "tooltip": null
      }
     },
     "24d00b441ebc49eaa60a446bd3cb998b": {
      "model_module": "@jupyter-widgets/base",
      "model_module_version": "2.0.0",
      "model_name": "LayoutModel",
      "state": {
       "_model_module": "@jupyter-widgets/base",
       "_model_module_version": "2.0.0",
       "_model_name": "LayoutModel",
       "_view_count": null,
       "_view_module": "@jupyter-widgets/base",
       "_view_module_version": "2.0.0",
       "_view_name": "LayoutView",
       "align_content": null,
       "align_items": null,
       "align_self": null,
       "border_bottom": null,
       "border_left": null,
       "border_right": null,
       "border_top": null,
       "bottom": null,
       "display": null,
       "flex": null,
       "flex_flow": null,
       "grid_area": null,
       "grid_auto_columns": null,
       "grid_auto_flow": null,
       "grid_auto_rows": null,
       "grid_column": null,
       "grid_gap": null,
       "grid_row": null,
       "grid_template_areas": null,
       "grid_template_columns": null,
       "grid_template_rows": null,
       "height": null,
       "justify_content": null,
       "justify_items": null,
       "left": null,
       "margin": null,
       "max_height": null,
       "max_width": null,
       "min_height": null,
       "min_width": null,
       "object_fit": null,
       "object_position": null,
       "order": null,
       "overflow": null,
       "padding": null,
       "right": null,
       "top": null,
       "visibility": null,
       "width": null
      }
     },
     "301d9f8bb78a49abad55c604db7ec12f": {
      "model_module": "@jupyter-widgets/base",
      "model_module_version": "2.0.0",
      "model_name": "LayoutModel",
      "state": {
       "_model_module": "@jupyter-widgets/base",
       "_model_module_version": "2.0.0",
       "_model_name": "LayoutModel",
       "_view_count": null,
       "_view_module": "@jupyter-widgets/base",
       "_view_module_version": "2.0.0",
       "_view_name": "LayoutView",
       "align_content": null,
       "align_items": null,
       "align_self": null,
       "border_bottom": null,
       "border_left": null,
       "border_right": null,
       "border_top": null,
       "bottom": null,
       "display": null,
       "flex": null,
       "flex_flow": null,
       "grid_area": null,
       "grid_auto_columns": null,
       "grid_auto_flow": null,
       "grid_auto_rows": null,
       "grid_column": null,
       "grid_gap": null,
       "grid_row": null,
       "grid_template_areas": null,
       "grid_template_columns": null,
       "grid_template_rows": null,
       "height": null,
       "justify_content": null,
       "justify_items": null,
       "left": null,
       "margin": null,
       "max_height": null,
       "max_width": null,
       "min_height": null,
       "min_width": null,
       "object_fit": null,
       "object_position": null,
       "order": null,
       "overflow": null,
       "padding": null,
       "right": null,
       "top": null,
       "visibility": null,
       "width": null
      }
     },
     "366a843248bb4b1fa4db49d09a7abf6f": {
      "model_module": "@jupyter-widgets/output",
      "model_module_version": "1.0.0",
      "model_name": "OutputModel",
      "state": {
       "_dom_classes": [],
       "_model_module": "@jupyter-widgets/output",
       "_model_module_version": "1.0.0",
       "_model_name": "OutputModel",
       "_view_count": null,
       "_view_module": "@jupyter-widgets/output",
       "_view_module_version": "1.0.0",
       "_view_name": "OutputView",
       "layout": "IPY_MODEL_574690d37c7b49b19027cf9e261ae6fc",
       "msg_id": "",
       "outputs": [
        {
         "data": {
          "text/markdown": "`black_box_select`",
          "text/plain": "<IPython.core.display.Markdown object>"
         },
         "metadata": {},
         "output_type": "display_data"
        },
        {
         "data": {
          "image/svg+xml": "<svg xmlns=\"http://www.w3.org/2000/svg\" xmlns:xlink=\"http://www.w3.org/1999/xlink\" width=\"267pt\" height=\"98pt\" viewBox=\"0.00 0.00 267.00 98.00\">\n<g id=\"graph0\" class=\"graph\" transform=\"scale(1 1) rotate(0) translate(4 94)\">\n<title>my_graph</title>\n<polygon fill=\"white\" stroke=\"transparent\" points=\"-4,4 -4,-94 263,-94 263,4 -4,4\"/>\n<!-- selection_G4 -->\n<g id=\"node1\" class=\"node\">\n<title>selection_G4</title>\n<text text-anchor=\"middle\" x=\"32.5\" y=\"-68.3\" font-family=\"Times,serif\" font-size=\"14.00\">selection</text>\n</g>\n<!-- BlackBoxSelect -->\n<g id=\"node3\" class=\"node\">\n<title>BlackBoxSelect</title>\n<polygon fill=\"none\" stroke=\"black\" points=\"102.5,-66 102.5,-83 157.5,-83 157.5,-66 102.5,-66\"/>\n<text text-anchor=\"start\" x=\"111.5\" y=\"-72\" font-family=\"Times,serif\" font-size=\"10.00\">SELECT</text>\n<polygon fill=\"none\" stroke=\"black\" points=\"102.5,-45 102.5,-66 157.5,-66 157.5,-45 102.5,-45\"/>\n<text text-anchor=\"start\" x=\"105.5\" y=\"-51.8\" font-family=\"Times,serif\" font-size=\"14.00\">selection</text>\n<polygon fill=\"none\" stroke=\"black\" points=\"102.5,-24 102.5,-45 157.5,-45 157.5,-24 102.5,-24\"/>\n<text text-anchor=\"start\" x=\"110.5\" y=\"-30.8\" font-family=\"Times,serif\" font-size=\"14.00\">system</text>\n</g>\n<!-- selection_G4&#45;&gt;BlackBoxSelect -->\n<g id=\"edge1\" class=\"edge\">\n<title>selection_G4:e-&gt;BlackBoxSelect:w</title>\n<path fill=\"none\" stroke=\"black\" d=\"M65,-72C82.22,-72 83.97,-57.23 99.98,-56.07\"/>\n<ellipse fill=\"black\" stroke=\"black\" cx=\"101\" cy=\"-56.04\" rx=\"1\" ry=\"1\"/>\n<text text-anchor=\"middle\" x=\"83.5\" y=\"-67\" font-family=\"Times,serif\" font-size=\"10.00\">8</text>\n</g>\n<!-- system_G5 -->\n<g id=\"node2\" class=\"node\">\n<title>system_G5</title>\n<text text-anchor=\"middle\" x=\"32.5\" y=\"-14.3\" font-family=\"Times,serif\" font-size=\"14.00\">system</text>\n</g>\n<!-- system_G5&#45;&gt;BlackBoxSelect -->\n<g id=\"edge2\" class=\"edge\">\n<title>system_G5:e-&gt;BlackBoxSelect:w</title>\n<path fill=\"none\" stroke=\"black\" d=\"M61.5,-18C80.1,-18 82.48,-32.77 99.81,-33.93\"/>\n<ellipse fill=\"black\" stroke=\"black\" cx=\"101\" cy=\"-33.97\" rx=\"1\" ry=\"1\"/>\n<text text-anchor=\"middle\" x=\"83.5\" y=\"-31\" font-family=\"Times,serif\" font-size=\"10.00\">8</text>\n</g>\n<!-- selection_G0 -->\n<g id=\"node4\" class=\"node\">\n<title>selection_G0</title>\n<text text-anchor=\"middle\" x=\"226.5\" y=\"-68.3\" font-family=\"Times,serif\" font-size=\"14.00\">selection</text>\n</g>\n<!-- BlackBoxSelect&#45;&gt;selection_G0 -->\n<g id=\"edge3\" class=\"edge\">\n<title>BlackBoxSelect:e-&gt;selection_G0:w</title>\n<path fill=\"none\" stroke=\"black\" d=\"M157,-56C174.22,-56 175.97,-70.77 191.98,-71.93\"/>\n<ellipse fill=\"black\" stroke=\"black\" cx=\"193\" cy=\"-71.96\" rx=\"1\" ry=\"1\"/>\n<text text-anchor=\"middle\" x=\"175.5\" y=\"-67\" font-family=\"Times,serif\" font-size=\"10.00\">8</text>\n</g>\n<!-- system_G3 -->\n<g id=\"node5\" class=\"node\">\n<title>system_G3</title>\n<text text-anchor=\"middle\" x=\"226.5\" y=\"-14.3\" font-family=\"Times,serif\" font-size=\"14.00\">system</text>\n</g>\n<!-- BlackBoxSelect&#45;&gt;system_G3 -->\n<g id=\"edge4\" class=\"edge\">\n<title>BlackBoxSelect:e-&gt;system_G3:w</title>\n<path fill=\"none\" stroke=\"black\" d=\"M157,-34C175.6,-34 177.98,-19.23 195.31,-18.07\"/>\n<ellipse fill=\"black\" stroke=\"black\" cx=\"196.5\" cy=\"-18.03\" rx=\"1\" ry=\"1\"/>\n<text text-anchor=\"middle\" x=\"175.5\" y=\"-31\" font-family=\"Times,serif\" font-size=\"10.00\">8</text>\n</g>\n</g>\n</svg>",
          "text/plain": "<IPython.core.display.SVG object>"
         },
         "metadata": {},
         "output_type": "display_data"
        }
       ],
       "tabbable": null,
       "tooltip": null
      }
     },
     "574690d37c7b49b19027cf9e261ae6fc": {
      "model_module": "@jupyter-widgets/base",
      "model_module_version": "2.0.0",
      "model_name": "LayoutModel",
      "state": {
       "_model_module": "@jupyter-widgets/base",
       "_model_module_version": "2.0.0",
       "_model_name": "LayoutModel",
       "_view_count": null,
       "_view_module": "@jupyter-widgets/base",
       "_view_module_version": "2.0.0",
       "_view_name": "LayoutView",
       "align_content": null,
       "align_items": null,
       "align_self": null,
       "border_bottom": null,
       "border_left": null,
       "border_right": null,
       "border_top": null,
       "bottom": null,
       "display": null,
       "flex": null,
       "flex_flow": null,
       "grid_area": null,
       "grid_auto_columns": null,
       "grid_auto_flow": null,
       "grid_auto_rows": null,
       "grid_column": null,
       "grid_gap": null,
       "grid_row": null,
       "grid_template_areas": null,
       "grid_template_columns": null,
       "grid_template_rows": null,
       "height": null,
       "justify_content": null,
       "justify_items": null,
       "left": null,
       "margin": null,
       "max_height": null,
       "max_width": null,
       "min_height": null,
       "min_width": null,
       "object_fit": null,
       "object_position": null,
       "order": null,
       "overflow": null,
       "padding": null,
       "right": null,
       "top": null,
       "visibility": null,
       "width": null
      }
     },
     "59b66d6b09d442fbb9277517d7d62d9f": {
      "model_module": "@jupyter-widgets/controls",
      "model_module_version": "2.0.0",
      "model_name": "HBoxModel",
      "state": {
       "_dom_classes": [],
       "_model_module": "@jupyter-widgets/controls",
       "_model_module_version": "2.0.0",
       "_model_name": "HBoxModel",
       "_view_count": null,
       "_view_module": "@jupyter-widgets/controls",
       "_view_module_version": "2.0.0",
       "_view_name": "HBoxView",
       "box_style": "",
       "children": [
        "IPY_MODEL_366a843248bb4b1fa4db49d09a7abf6f"
       ],
       "layout": "IPY_MODEL_ea69eb7d755748ebb5ca67703f9266b9",
       "tabbable": null,
       "tooltip": null
      }
     },
     "6aa9c6c71eda4c6988c077cca854ddc7": {
      "model_module": "@jupyter-widgets/output",
      "model_module_version": "1.0.0",
      "model_name": "OutputModel",
      "state": {
       "_dom_classes": [],
       "_model_module": "@jupyter-widgets/output",
       "_model_module_version": "1.0.0",
       "_model_name": "OutputModel",
       "_view_count": null,
       "_view_module": "@jupyter-widgets/output",
       "_view_module_version": "1.0.0",
       "_view_name": "OutputView",
       "layout": "IPY_MODEL_95cd2582878a4080ba5c545673348310",
       "msg_id": "",
       "outputs": [
        {
         "data": {
          "text/markdown": "`black_box_prepare`",
          "text/plain": "<IPython.core.display.Markdown object>"
         },
         "metadata": {},
         "output_type": "display_data"
        },
        {
         "data": {
          "image/svg+xml": "<svg xmlns=\"http://www.w3.org/2000/svg\" xmlns:xlink=\"http://www.w3.org/1999/xlink\" width=\"267pt\" height=\"98pt\" viewBox=\"0.00 0.00 267.00 98.00\">\n<g id=\"graph0\" class=\"graph\" transform=\"scale(1 1) rotate(0) translate(4 94)\">\n<title>my_graph</title>\n<polygon fill=\"white\" stroke=\"transparent\" points=\"-4,4 -4,-94 263,-94 263,4 -4,4\"/>\n<!-- selection_G4 -->\n<g id=\"node1\" class=\"node\">\n<title>selection_G4</title>\n<text text-anchor=\"middle\" x=\"32.5\" y=\"-68.3\" font-family=\"Times,serif\" font-size=\"14.00\">selection</text>\n</g>\n<!-- BlackBoxPrepare -->\n<g id=\"node3\" class=\"node\">\n<title>BlackBoxPrepare</title>\n<polygon fill=\"none\" stroke=\"black\" points=\"102.5,-66 102.5,-83 157.5,-83 157.5,-66 102.5,-66\"/>\n<text text-anchor=\"start\" x=\"120.5\" y=\"-72\" font-family=\"Times,serif\" font-size=\"10.00\">Prep</text>\n<polygon fill=\"none\" stroke=\"black\" points=\"102.5,-45 102.5,-66 157.5,-66 157.5,-45 102.5,-45\"/>\n<text text-anchor=\"start\" x=\"105.5\" y=\"-51.8\" font-family=\"Times,serif\" font-size=\"14.00\">selection</text>\n<polygon fill=\"none\" stroke=\"black\" points=\"102.5,-24 102.5,-45 157.5,-45 157.5,-24 102.5,-24\"/>\n<text text-anchor=\"start\" x=\"117.5\" y=\"-30.8\" font-family=\"Times,serif\" font-size=\"14.00\">junk</text>\n</g>\n<!-- selection_G4&#45;&gt;BlackBoxPrepare -->\n<g id=\"edge1\" class=\"edge\">\n<title>selection_G4:e-&gt;BlackBoxPrepare:w</title>\n<path fill=\"none\" stroke=\"black\" d=\"M65,-72C82.22,-72 83.97,-57.23 99.98,-56.07\"/>\n<ellipse fill=\"black\" stroke=\"black\" cx=\"101\" cy=\"-56.04\" rx=\"1\" ry=\"1\"/>\n<text text-anchor=\"middle\" x=\"83.5\" y=\"-67\" font-family=\"Times,serif\" font-size=\"10.00\">8</text>\n</g>\n<!-- junk_G3 -->\n<g id=\"node2\" class=\"node\">\n<title>junk_G3</title>\n<text text-anchor=\"middle\" x=\"32.5\" y=\"-14.3\" font-family=\"Times,serif\" font-size=\"14.00\">junk</text>\n</g>\n<!-- junk_G3&#45;&gt;BlackBoxPrepare -->\n<g id=\"edge2\" class=\"edge\">\n<title>junk_G3:e-&gt;BlackBoxPrepare:w</title>\n<path fill=\"none\" stroke=\"black\" d=\"M60.5,-18C79.5,-18 82.05,-32.77 99.76,-33.93\"/>\n<ellipse fill=\"black\" stroke=\"black\" cx=\"101\" cy=\"-33.97\" rx=\"1\" ry=\"1\"/>\n<text text-anchor=\"middle\" x=\"83.5\" y=\"-31\" font-family=\"Times,serif\" font-size=\"10.00\">2</text>\n</g>\n<!-- selection_G0 -->\n<g id=\"node4\" class=\"node\">\n<title>selection_G0</title>\n<text text-anchor=\"middle\" x=\"226.5\" y=\"-68.3\" font-family=\"Times,serif\" font-size=\"14.00\">selection</text>\n</g>\n<!-- BlackBoxPrepare&#45;&gt;selection_G0 -->\n<g id=\"edge3\" class=\"edge\">\n<title>BlackBoxPrepare:e-&gt;selection_G0:w</title>\n<path fill=\"none\" stroke=\"black\" d=\"M157,-56C174.22,-56 175.97,-70.77 191.98,-71.93\"/>\n<ellipse fill=\"black\" stroke=\"black\" cx=\"193\" cy=\"-71.96\" rx=\"1\" ry=\"1\"/>\n<text text-anchor=\"middle\" x=\"175.5\" y=\"-67\" font-family=\"Times,serif\" font-size=\"10.00\">8</text>\n</g>\n<!-- junk_G2 -->\n<g id=\"node5\" class=\"node\">\n<title>junk_G2</title>\n<text text-anchor=\"middle\" x=\"226.5\" y=\"-14.3\" font-family=\"Times,serif\" font-size=\"14.00\">junk</text>\n</g>\n<!-- BlackBoxPrepare&#45;&gt;junk_G2 -->\n<g id=\"edge4\" class=\"edge\">\n<title>BlackBoxPrepare:e-&gt;junk_G2:w</title>\n<path fill=\"none\" stroke=\"black\" d=\"M157,-34C176,-34 178.55,-19.23 196.26,-18.07\"/>\n<ellipse fill=\"black\" stroke=\"black\" cx=\"197.5\" cy=\"-18.03\" rx=\"1\" ry=\"1\"/>\n<text text-anchor=\"middle\" x=\"175.5\" y=\"-31\" font-family=\"Times,serif\" font-size=\"10.00\">2</text>\n</g>\n</g>\n</svg>",
          "text/plain": "<IPython.core.display.SVG object>"
         },
         "metadata": {},
         "output_type": "display_data"
        }
       ],
       "tabbable": null,
       "tooltip": null
      }
     },
     "7a7cfe7acfab4d349c277c22a2b08fdf": {
      "model_module": "@jupyter-widgets/base",
      "model_module_version": "2.0.0",
      "model_name": "LayoutModel",
      "state": {
       "_model_module": "@jupyter-widgets/base",
       "_model_module_version": "2.0.0",
       "_model_name": "LayoutModel",
       "_view_count": null,
       "_view_module": "@jupyter-widgets/base",
       "_view_module_version": "2.0.0",
       "_view_name": "LayoutView",
       "align_content": null,
       "align_items": null,
       "align_self": null,
       "border_bottom": null,
       "border_left": null,
       "border_right": null,
       "border_top": null,
       "bottom": null,
       "display": null,
       "flex": null,
       "flex_flow": null,
       "grid_area": null,
       "grid_auto_columns": null,
       "grid_auto_flow": null,
       "grid_auto_rows": null,
       "grid_column": null,
       "grid_gap": null,
       "grid_row": null,
       "grid_template_areas": null,
       "grid_template_columns": null,
       "grid_template_rows": null,
       "height": null,
       "justify_content": null,
       "justify_items": null,
       "left": null,
       "margin": null,
       "max_height": null,
       "max_width": null,
       "min_height": null,
       "min_width": null,
       "object_fit": null,
       "object_position": null,
       "order": null,
       "overflow": null,
       "padding": null,
       "right": null,
       "top": null,
       "visibility": null,
       "width": null
      }
     },
     "817bd600eb7c43c993f3931ad277c518": {
      "model_module": "@jupyter-widgets/output",
      "model_module_version": "1.0.0",
      "model_name": "OutputModel",
      "state": {
       "_dom_classes": [],
       "_model_module": "@jupyter-widgets/output",
       "_model_module_version": "1.0.0",
       "_model_name": "OutputModel",
       "_view_count": null,
       "_view_module": "@jupyter-widgets/output",
       "_view_module_version": "1.0.0",
       "_view_name": "OutputView",
       "layout": "IPY_MODEL_24d00b441ebc49eaa60a446bd3cb998b",
       "msg_id": "",
       "outputs": [
        {
         "data": {
          "text/markdown": "`black_box_select_block`",
          "text/plain": "<IPython.core.display.Markdown object>"
         },
         "metadata": {},
         "output_type": "display_data"
        },
        {
         "data": {
          "image/svg+xml": "<svg xmlns=\"http://www.w3.org/2000/svg\" xmlns:xlink=\"http://www.w3.org/1999/xlink\" width=\"267pt\" height=\"98pt\" viewBox=\"0.00 0.00 267.00 98.00\">\n<g id=\"graph0\" class=\"graph\" transform=\"scale(1 1) rotate(0) translate(4 94)\">\n<title>my_graph</title>\n<polygon fill=\"white\" stroke=\"transparent\" points=\"-4,4 -4,-94 263,-94 263,4 -4,4\"/>\n<!-- selection_G0 -->\n<g id=\"node1\" class=\"node\">\n<title>selection_G0</title>\n<text text-anchor=\"middle\" x=\"32.5\" y=\"-68.3\" font-family=\"Times,serif\" font-size=\"14.00\">selection</text>\n</g>\n<!-- SelectBlockEncoding -->\n<g id=\"node3\" class=\"node\">\n<title>SelectBlockEncoding</title>\n<polygon fill=\"none\" stroke=\"black\" points=\"102.5,-66 102.5,-83 157.5,-83 157.5,-66 102.5,-66\"/>\n<text text-anchor=\"start\" x=\"119.5\" y=\"-72\" font-family=\"Times,serif\" font-size=\"10.00\">B[H]</text>\n<polygon fill=\"none\" stroke=\"black\" points=\"102.5,-45 102.5,-66 157.5,-66 157.5,-45 102.5,-45\"/>\n<text text-anchor=\"start\" x=\"105.5\" y=\"-51.8\" font-family=\"Times,serif\" font-size=\"14.00\">selection</text>\n<polygon fill=\"none\" stroke=\"black\" points=\"102.5,-24 102.5,-45 157.5,-45 157.5,-24 102.5,-24\"/>\n<text text-anchor=\"start\" x=\"110.5\" y=\"-30.8\" font-family=\"Times,serif\" font-size=\"14.00\">system</text>\n</g>\n<!-- selection_G0&#45;&gt;SelectBlockEncoding -->\n<g id=\"edge1\" class=\"edge\">\n<title>selection_G0:e-&gt;SelectBlockEncoding:w</title>\n<path fill=\"none\" stroke=\"black\" d=\"M65,-72C82.22,-72 83.97,-57.23 99.98,-56.07\"/>\n<ellipse fill=\"black\" stroke=\"black\" cx=\"101\" cy=\"-56.04\" rx=\"1\" ry=\"1\"/>\n<text text-anchor=\"middle\" x=\"83.5\" y=\"-67\" font-family=\"Times,serif\" font-size=\"10.00\">12</text>\n</g>\n<!-- system_G1 -->\n<g id=\"node2\" class=\"node\">\n<title>system_G1</title>\n<text text-anchor=\"middle\" x=\"32.5\" y=\"-14.3\" font-family=\"Times,serif\" font-size=\"14.00\">system</text>\n</g>\n<!-- system_G1&#45;&gt;SelectBlockEncoding -->\n<g id=\"edge2\" class=\"edge\">\n<title>system_G1:e-&gt;SelectBlockEncoding:w</title>\n<path fill=\"none\" stroke=\"black\" d=\"M61.5,-18C80.1,-18 82.48,-32.77 99.81,-33.93\"/>\n<ellipse fill=\"black\" stroke=\"black\" cx=\"101\" cy=\"-33.97\" rx=\"1\" ry=\"1\"/>\n<text text-anchor=\"middle\" x=\"83.5\" y=\"-31\" font-family=\"Times,serif\" font-size=\"10.00\">18</text>\n</g>\n<!-- selection_G3 -->\n<g id=\"node4\" class=\"node\">\n<title>selection_G3</title>\n<text text-anchor=\"middle\" x=\"226.5\" y=\"-68.3\" font-family=\"Times,serif\" font-size=\"14.00\">selection</text>\n</g>\n<!-- SelectBlockEncoding&#45;&gt;selection_G3 -->\n<g id=\"edge3\" class=\"edge\">\n<title>SelectBlockEncoding:e-&gt;selection_G3:w</title>\n<path fill=\"none\" stroke=\"black\" d=\"M157,-56C174.22,-56 175.97,-70.77 191.98,-71.93\"/>\n<ellipse fill=\"black\" stroke=\"black\" cx=\"193\" cy=\"-71.96\" rx=\"1\" ry=\"1\"/>\n<text text-anchor=\"middle\" x=\"175.5\" y=\"-67\" font-family=\"Times,serif\" font-size=\"10.00\">12</text>\n</g>\n<!-- system_G5 -->\n<g id=\"node5\" class=\"node\">\n<title>system_G5</title>\n<text text-anchor=\"middle\" x=\"226.5\" y=\"-14.3\" font-family=\"Times,serif\" font-size=\"14.00\">system</text>\n</g>\n<!-- SelectBlockEncoding&#45;&gt;system_G5 -->\n<g id=\"edge4\" class=\"edge\">\n<title>SelectBlockEncoding:e-&gt;system_G5:w</title>\n<path fill=\"none\" stroke=\"black\" d=\"M157,-34C175.6,-34 177.98,-19.23 195.31,-18.07\"/>\n<ellipse fill=\"black\" stroke=\"black\" cx=\"196.5\" cy=\"-18.03\" rx=\"1\" ry=\"1\"/>\n<text text-anchor=\"middle\" x=\"175.5\" y=\"-31\" font-family=\"Times,serif\" font-size=\"10.00\">18</text>\n</g>\n</g>\n</svg>",
          "text/plain": "<IPython.core.display.SVG object>"
         },
         "metadata": {},
         "output_type": "display_data"
        }
       ],
       "tabbable": null,
       "tooltip": null
      }
     },
     "8a885a6a3ae046a69ddca2f43b07509c": {
      "model_module": "@jupyter-widgets/controls",
      "model_module_version": "2.0.0",
      "model_name": "HBoxModel",
      "state": {
       "_dom_classes": [],
       "_model_module": "@jupyter-widgets/controls",
       "_model_module_version": "2.0.0",
       "_model_name": "HBoxModel",
       "_view_count": null,
       "_view_module": "@jupyter-widgets/controls",
       "_view_module_version": "2.0.0",
       "_view_name": "HBoxView",
       "box_style": "",
       "children": [
        "IPY_MODEL_d31dc327a76244299f1d0f78df63abc2",
        "IPY_MODEL_02ca025d32664d4fa38e3faf5e0f3906"
       ],
       "layout": "IPY_MODEL_7a7cfe7acfab4d349c277c22a2b08fdf",
       "tabbable": null,
       "tooltip": null
      }
     },
     "95cd2582878a4080ba5c545673348310": {
      "model_module": "@jupyter-widgets/base",
      "model_module_version": "2.0.0",
      "model_name": "LayoutModel",
      "state": {
       "_model_module": "@jupyter-widgets/base",
       "_model_module_version": "2.0.0",
       "_model_name": "LayoutModel",
       "_view_count": null,
       "_view_module": "@jupyter-widgets/base",
       "_view_module_version": "2.0.0",
       "_view_name": "LayoutView",
       "align_content": null,
       "align_items": null,
       "align_self": null,
       "border_bottom": null,
       "border_left": null,
       "border_right": null,
       "border_top": null,
       "bottom": null,
       "display": null,
       "flex": null,
       "flex_flow": null,
       "grid_area": null,
       "grid_auto_columns": null,
       "grid_auto_flow": null,
       "grid_auto_rows": null,
       "grid_column": null,
       "grid_gap": null,
       "grid_row": null,
       "grid_template_areas": null,
       "grid_template_columns": null,
       "grid_template_rows": null,
       "height": null,
       "justify_content": null,
       "justify_items": null,
       "left": null,
       "margin": null,
       "max_height": null,
       "max_width": null,
       "min_height": null,
       "min_width": null,
       "object_fit": null,
       "object_position": null,
       "order": null,
       "overflow": null,
       "padding": null,
       "right": null,
       "top": null,
       "visibility": null,
       "width": null
      }
     },
     "abec2eeefa9346798fe8a32455ab2ca1": {
      "model_module": "@jupyter-widgets/controls",
      "model_module_version": "2.0.0",
      "model_name": "HBoxModel",
      "state": {
       "_dom_classes": [],
       "_model_module": "@jupyter-widgets/controls",
       "_model_module_version": "2.0.0",
       "_model_name": "HBoxModel",
       "_view_count": null,
       "_view_module": "@jupyter-widgets/controls",
       "_view_module_version": "2.0.0",
       "_view_name": "HBoxView",
       "box_style": "",
       "children": [
        "IPY_MODEL_6aa9c6c71eda4c6988c077cca854ddc7"
       ],
       "layout": "IPY_MODEL_e7ac389d46b844f7912ae4845abc7c69",
       "tabbable": null,
       "tooltip": null
      }
     },
     "cf095c06e73347319b2f284e2b41f639": {
      "model_module": "@jupyter-widgets/controls",
      "model_module_version": "2.0.0",
      "model_name": "HBoxModel",
      "state": {
       "_dom_classes": [],
       "_model_module": "@jupyter-widgets/controls",
       "_model_module_version": "2.0.0",
       "_model_name": "HBoxModel",
       "_view_count": null,
       "_view_module": "@jupyter-widgets/controls",
       "_view_module_version": "2.0.0",
       "_view_name": "HBoxView",
       "box_style": "",
       "children": [
        "IPY_MODEL_ee6868a307ca43f4bbc3f39668e0074d",
        "IPY_MODEL_817bd600eb7c43c993f3931ad277c518"
       ],
       "layout": "IPY_MODEL_df193601cf9a4851acc60968027d1e18",
       "tabbable": null,
       "tooltip": null
      }
     },
     "d31dc327a76244299f1d0f78df63abc2": {
      "model_module": "@jupyter-widgets/output",
      "model_module_version": "1.0.0",
      "model_name": "OutputModel",
      "state": {
       "_dom_classes": [],
       "_model_module": "@jupyter-widgets/output",
       "_model_module_version": "1.0.0",
       "_model_name": "OutputModel",
       "_view_count": null,
       "_view_module": "@jupyter-widgets/output",
       "_view_module_version": "1.0.0",
       "_view_name": "OutputView",
       "layout": "IPY_MODEL_301d9f8bb78a49abad55c604db7ec12f",
       "msg_id": "",
       "outputs": [
        {
         "data": {
          "text/markdown": "`lcu_block`",
          "text/plain": "<IPython.core.display.Markdown object>"
         },
         "metadata": {},
         "output_type": "display_data"
        },
        {
         "data": {
          "image/svg+xml": "<svg xmlns=\"http://www.w3.org/2000/svg\" xmlns:xlink=\"http://www.w3.org/1999/xlink\" width=\"227pt\" height=\"530pt\" viewBox=\"0.00 0.00 227.00 530.00\">\n<g id=\"graph0\" class=\"graph\" transform=\"scale(1 1) rotate(0) translate(4 526)\">\n<title>my_graph</title>\n<polygon fill=\"white\" stroke=\"transparent\" points=\"-4,4 -4,-526 223,-526 223,4 -4,4\"/>\n<!-- U_G25 -->\n<g id=\"node1\" class=\"node\">\n<title>U_G25</title>\n<text text-anchor=\"middle\" x=\"27\" y=\"-500.3\" font-family=\"Times,serif\" font-size=\"14.00\">U</text>\n</g>\n<!-- LCUBlockEncoding -->\n<g id=\"node11\" class=\"node\">\n<title>LCUBlockEncoding</title>\n<polygon fill=\"none\" stroke=\"black\" points=\"91.5,-366 91.5,-383 128.5,-383 128.5,-366 91.5,-366\"/>\n<text text-anchor=\"start\" x=\"99.5\" y=\"-372\" font-family=\"Times,serif\" font-size=\"10.00\">B[H]</text>\n<polygon fill=\"none\" stroke=\"black\" points=\"91.5,-345 91.5,-366 128.5,-366 128.5,-345 91.5,-345\"/>\n<text text-anchor=\"start\" x=\"105\" y=\"-351.8\" font-family=\"Times,serif\" font-size=\"14.00\">U</text>\n<polygon fill=\"none\" stroke=\"black\" points=\"91.5,-324 91.5,-345 128.5,-345 128.5,-324 91.5,-324\"/>\n<text text-anchor=\"start\" x=\"105\" y=\"-330.8\" font-family=\"Times,serif\" font-size=\"14.00\">V</text>\n<polygon fill=\"none\" stroke=\"black\" points=\"91.5,-303 91.5,-324 128.5,-324 128.5,-303 91.5,-303\"/>\n<text text-anchor=\"start\" x=\"99.5\" y=\"-309.8\" font-family=\"Times,serif\" font-size=\"14.00\">p_x</text>\n<polygon fill=\"none\" stroke=\"black\" points=\"91.5,-282 91.5,-303 128.5,-303 128.5,-282 91.5,-282\"/>\n<text text-anchor=\"start\" x=\"99.5\" y=\"-288.8\" font-family=\"Times,serif\" font-size=\"14.00\">p_y</text>\n<polygon fill=\"none\" stroke=\"black\" points=\"91.5,-261 91.5,-282 128.5,-282 128.5,-261 91.5,-261\"/>\n<text text-anchor=\"start\" x=\"95\" y=\"-267.8\" font-family=\"Times,serif\" font-size=\"14.00\">alpha</text>\n<polygon fill=\"none\" stroke=\"black\" points=\"91.5,-240 91.5,-261 128.5,-261 128.5,-240 91.5,-240\"/>\n<text text-anchor=\"start\" x=\"99.5\" y=\"-246.8\" font-family=\"Times,serif\" font-size=\"14.00\">q_x</text>\n<polygon fill=\"none\" stroke=\"black\" points=\"91.5,-219 91.5,-240 128.5,-240 128.5,-219 91.5,-219\"/>\n<text text-anchor=\"start\" x=\"99.5\" y=\"-225.8\" font-family=\"Times,serif\" font-size=\"14.00\">q_y</text>\n<polygon fill=\"none\" stroke=\"black\" points=\"91.5,-198 91.5,-219 128.5,-219 128.5,-198 91.5,-198\"/>\n<text text-anchor=\"start\" x=\"98.5\" y=\"-204.8\" font-family=\"Times,serif\" font-size=\"14.00\">beta</text>\n<polygon fill=\"none\" stroke=\"black\" points=\"91.5,-177 91.5,-198 128.5,-198 128.5,-177 91.5,-177\"/>\n<text text-anchor=\"start\" x=\"96\" y=\"-183.8\" font-family=\"Times,serif\" font-size=\"14.00\">temp</text>\n<polygon fill=\"none\" stroke=\"black\" points=\"91.5,-156 91.5,-177 128.5,-177 128.5,-156 91.5,-156\"/>\n<text text-anchor=\"start\" x=\"94.5\" y=\"-162.8\" font-family=\"Times,serif\" font-size=\"14.00\">target</text>\n</g>\n<!-- U_G25&#45;&gt;LCUBlockEncoding -->\n<g id=\"edge1\" class=\"edge\">\n<title>U_G25:e-&gt;LCUBlockEncoding:w</title>\n<path fill=\"none\" stroke=\"black\" d=\"M54,-504C87.11,-504 58.51,-362.86 88.72,-356.24\"/>\n<ellipse fill=\"black\" stroke=\"black\" cx=\"90.01\" cy=\"-356.1\" rx=\"1\" ry=\"1\"/>\n<text text-anchor=\"middle\" x=\"72.5\" y=\"-450\" font-family=\"Times,serif\" font-size=\"10.00\">1</text>\n</g>\n<!-- V_G18 -->\n<g id=\"node2\" class=\"node\">\n<title>V_G18</title>\n<text text-anchor=\"middle\" x=\"27\" y=\"-446.3\" font-family=\"Times,serif\" font-size=\"14.00\">V</text>\n</g>\n<!-- V_G18&#45;&gt;LCUBlockEncoding -->\n<g id=\"edge2\" class=\"edge\">\n<title>V_G18:e-&gt;LCUBlockEncoding:w</title>\n<path fill=\"none\" stroke=\"black\" d=\"M54,-450C80.11,-450 65.03,-341.2 88.89,-335.25\"/>\n<ellipse fill=\"black\" stroke=\"black\" cx=\"90.01\" cy=\"-335.12\" rx=\"1\" ry=\"1\"/>\n<text text-anchor=\"middle\" x=\"72.5\" y=\"-398\" font-family=\"Times,serif\" font-size=\"10.00\">1</text>\n</g>\n<!-- p_x_G10 -->\n<g id=\"node3\" class=\"node\">\n<title>p_x_G10</title>\n<text text-anchor=\"middle\" x=\"27\" y=\"-392.3\" font-family=\"Times,serif\" font-size=\"14.00\">p_x</text>\n</g>\n<!-- p_x_G10&#45;&gt;LCUBlockEncoding -->\n<g id=\"edge3\" class=\"edge\">\n<title>p_x_G10:e-&gt;LCUBlockEncoding:w</title>\n<path fill=\"none\" stroke=\"black\" d=\"M54,-396C93.2,-396 52.66,-317.17 88.75,-314.09\"/>\n<ellipse fill=\"black\" stroke=\"black\" cx=\"90\" cy=\"-314.04\" rx=\"1\" ry=\"1\"/>\n<text text-anchor=\"middle\" x=\"72.5\" y=\"-381\" font-family=\"Times,serif\" font-size=\"10.00\">2</text>\n</g>\n<!-- p_y_G17 -->\n<g id=\"node4\" class=\"node\">\n<title>p_y_G17</title>\n<text text-anchor=\"middle\" x=\"27\" y=\"-338.3\" font-family=\"Times,serif\" font-size=\"14.00\">p_y</text>\n</g>\n<!-- p_y_G17&#45;&gt;LCUBlockEncoding -->\n<g id=\"edge4\" class=\"edge\">\n<title>p_y_G17:e-&gt;LCUBlockEncoding:w</title>\n<path fill=\"none\" stroke=\"black\" d=\"M54,-342C80.54,-342 64.64,-295.64 88.86,-293.11\"/>\n<ellipse fill=\"black\" stroke=\"black\" cx=\"90\" cy=\"-293.05\" rx=\"1\" ry=\"1\"/>\n<text text-anchor=\"middle\" x=\"72.5\" y=\"-321\" font-family=\"Times,serif\" font-size=\"10.00\">2</text>\n</g>\n<!-- alpha_G29 -->\n<g id=\"node5\" class=\"node\">\n<title>alpha_G29</title>\n<text text-anchor=\"middle\" x=\"27\" y=\"-284.3\" font-family=\"Times,serif\" font-size=\"14.00\">alpha</text>\n</g>\n<!-- alpha_G29&#45;&gt;LCUBlockEncoding -->\n<g id=\"edge5\" class=\"edge\">\n<title>alpha_G29:e-&gt;LCUBlockEncoding:w</title>\n<path fill=\"none\" stroke=\"black\" d=\"M54,-288C71.22,-288 72.97,-273.23 88.98,-272.07\"/>\n<ellipse fill=\"black\" stroke=\"black\" cx=\"90\" cy=\"-272.04\" rx=\"1\" ry=\"1\"/>\n<text text-anchor=\"middle\" x=\"72.5\" y=\"-283\" font-family=\"Times,serif\" font-size=\"10.00\">1</text>\n</g>\n<!-- q_x_G19 -->\n<g id=\"node6\" class=\"node\">\n<title>q_x_G19</title>\n<text text-anchor=\"middle\" x=\"27\" y=\"-230.3\" font-family=\"Times,serif\" font-size=\"14.00\">q_x</text>\n</g>\n<!-- q_x_G19&#45;&gt;LCUBlockEncoding -->\n<g id=\"edge6\" class=\"edge\">\n<title>q_x_G19:e-&gt;LCUBlockEncoding:w</title>\n<path fill=\"none\" stroke=\"black\" d=\"M54,-234C71.22,-234 72.97,-248.77 88.98,-249.93\"/>\n<ellipse fill=\"black\" stroke=\"black\" cx=\"90\" cy=\"-249.96\" rx=\"1\" ry=\"1\"/>\n<text text-anchor=\"middle\" x=\"72.5\" y=\"-245\" font-family=\"Times,serif\" font-size=\"10.00\">2</text>\n</g>\n<!-- q_y_G4 -->\n<g id=\"node7\" class=\"node\">\n<title>q_y_G4</title>\n<text text-anchor=\"middle\" x=\"27\" y=\"-176.3\" font-family=\"Times,serif\" font-size=\"14.00\">q_y</text>\n</g>\n<!-- q_y_G4&#45;&gt;LCUBlockEncoding -->\n<g id=\"edge7\" class=\"edge\">\n<title>q_y_G4:e-&gt;LCUBlockEncoding:w</title>\n<path fill=\"none\" stroke=\"black\" d=\"M54,-180C80.54,-180 64.64,-226.36 88.86,-228.89\"/>\n<ellipse fill=\"black\" stroke=\"black\" cx=\"90\" cy=\"-228.95\" rx=\"1\" ry=\"1\"/>\n<text text-anchor=\"middle\" x=\"72.5\" y=\"-208\" font-family=\"Times,serif\" font-size=\"10.00\">2</text>\n</g>\n<!-- beta_G22 -->\n<g id=\"node8\" class=\"node\">\n<title>beta_G22</title>\n<text text-anchor=\"middle\" x=\"27\" y=\"-122.3\" font-family=\"Times,serif\" font-size=\"14.00\">beta</text>\n</g>\n<!-- beta_G22&#45;&gt;LCUBlockEncoding -->\n<g id=\"edge8\" class=\"edge\">\n<title>beta_G22:e-&gt;LCUBlockEncoding:w</title>\n<path fill=\"none\" stroke=\"black\" d=\"M54,-126C93.2,-126 52.66,-204.83 88.75,-207.91\"/>\n<ellipse fill=\"black\" stroke=\"black\" cx=\"90\" cy=\"-207.96\" rx=\"1\" ry=\"1\"/>\n<text text-anchor=\"middle\" x=\"72.5\" y=\"-193\" font-family=\"Times,serif\" font-size=\"10.00\">1</text>\n</g>\n<!-- temp_G21 -->\n<g id=\"node9\" class=\"node\">\n<title>temp_G21</title>\n<text text-anchor=\"middle\" x=\"27\" y=\"-68.3\" font-family=\"Times,serif\" font-size=\"14.00\">temp</text>\n</g>\n<!-- temp_G21&#45;&gt;LCUBlockEncoding -->\n<g id=\"edge9\" class=\"edge\">\n<title>temp_G21:e-&gt;LCUBlockEncoding:w</title>\n<path fill=\"none\" stroke=\"black\" d=\"M54,-72C80.11,-72 65.03,-180.8 88.89,-186.75\"/>\n<ellipse fill=\"black\" stroke=\"black\" cx=\"90.01\" cy=\"-186.88\" rx=\"1\" ry=\"1\"/>\n<text text-anchor=\"middle\" x=\"72.5\" y=\"-135\" font-family=\"Times,serif\" font-size=\"10.00\">2</text>\n</g>\n<!-- target_G26 -->\n<g id=\"node10\" class=\"node\">\n<title>target_G26</title>\n<text text-anchor=\"middle\" x=\"27\" y=\"-14.3\" font-family=\"Times,serif\" font-size=\"14.00\">target</text>\n</g>\n<!-- target_G26&#45;&gt;LCUBlockEncoding -->\n<g id=\"edge10\" class=\"edge\">\n<title>target_G26:e-&gt;LCUBlockEncoding:w</title>\n<path fill=\"none\" stroke=\"black\" d=\"M54,-18C87.11,-18 58.51,-159.14 88.72,-165.76\"/>\n<ellipse fill=\"black\" stroke=\"black\" cx=\"90.01\" cy=\"-165.9\" rx=\"1\" ry=\"1\"/>\n<text text-anchor=\"middle\" x=\"72.5\" y=\"-113\" font-family=\"Times,serif\" font-size=\"10.00\">18</text>\n</g>\n<!-- U_G14 -->\n<g id=\"node12\" class=\"node\">\n<title>U_G14</title>\n<text text-anchor=\"middle\" x=\"192\" y=\"-500.3\" font-family=\"Times,serif\" font-size=\"14.00\">U</text>\n</g>\n<!-- LCUBlockEncoding&#45;&gt;U_G14 -->\n<g id=\"edge11\" class=\"edge\">\n<title>LCUBlockEncoding:e-&gt;U_G14:w</title>\n<path fill=\"none\" stroke=\"black\" d=\"M128,-356C161.11,-356 132.51,-497.14 162.72,-503.76\"/>\n<ellipse fill=\"black\" stroke=\"black\" cx=\"164.01\" cy=\"-503.9\" rx=\"1\" ry=\"1\"/>\n<text text-anchor=\"middle\" x=\"146.5\" y=\"-450\" font-family=\"Times,serif\" font-size=\"10.00\">1</text>\n</g>\n<!-- V_G3 -->\n<g id=\"node13\" class=\"node\">\n<title>V_G3</title>\n<text text-anchor=\"middle\" x=\"192\" y=\"-446.3\" font-family=\"Times,serif\" font-size=\"14.00\">V</text>\n</g>\n<!-- LCUBlockEncoding&#45;&gt;V_G3 -->\n<g id=\"edge12\" class=\"edge\">\n<title>LCUBlockEncoding:e-&gt;V_G3:w</title>\n<path fill=\"none\" stroke=\"black\" d=\"M128,-335C154.11,-335 139.03,-443.8 162.89,-449.75\"/>\n<ellipse fill=\"black\" stroke=\"black\" cx=\"164.01\" cy=\"-449.88\" rx=\"1\" ry=\"1\"/>\n<text text-anchor=\"middle\" x=\"146.5\" y=\"-398\" font-family=\"Times,serif\" font-size=\"10.00\">1</text>\n</g>\n<!-- p_x_G28 -->\n<g id=\"node14\" class=\"node\">\n<title>p_x_G28</title>\n<text text-anchor=\"middle\" x=\"192\" y=\"-392.3\" font-family=\"Times,serif\" font-size=\"14.00\">p_x</text>\n</g>\n<!-- LCUBlockEncoding&#45;&gt;p_x_G28 -->\n<g id=\"edge13\" class=\"edge\">\n<title>LCUBlockEncoding:e-&gt;p_x_G28:w</title>\n<path fill=\"none\" stroke=\"black\" d=\"M128,-314C167.2,-314 126.66,-392.83 162.75,-395.91\"/>\n<ellipse fill=\"black\" stroke=\"black\" cx=\"164\" cy=\"-395.96\" rx=\"1\" ry=\"1\"/>\n<text text-anchor=\"middle\" x=\"146.5\" y=\"-381\" font-family=\"Times,serif\" font-size=\"10.00\">2</text>\n</g>\n<!-- p_y_G27 -->\n<g id=\"node15\" class=\"node\">\n<title>p_y_G27</title>\n<text text-anchor=\"middle\" x=\"192\" y=\"-338.3\" font-family=\"Times,serif\" font-size=\"14.00\">p_y</text>\n</g>\n<!-- LCUBlockEncoding&#45;&gt;p_y_G27 -->\n<g id=\"edge14\" class=\"edge\">\n<title>LCUBlockEncoding:e-&gt;p_y_G27:w</title>\n<path fill=\"none\" stroke=\"black\" d=\"M128,-293C154.54,-293 138.64,-339.36 162.86,-341.89\"/>\n<ellipse fill=\"black\" stroke=\"black\" cx=\"164\" cy=\"-341.95\" rx=\"1\" ry=\"1\"/>\n<text text-anchor=\"middle\" x=\"146.5\" y=\"-321\" font-family=\"Times,serif\" font-size=\"10.00\">2</text>\n</g>\n<!-- alpha_G20 -->\n<g id=\"node16\" class=\"node\">\n<title>alpha_G20</title>\n<text text-anchor=\"middle\" x=\"192\" y=\"-284.3\" font-family=\"Times,serif\" font-size=\"14.00\">alpha</text>\n</g>\n<!-- LCUBlockEncoding&#45;&gt;alpha_G20 -->\n<g id=\"edge15\" class=\"edge\">\n<title>LCUBlockEncoding:e-&gt;alpha_G20:w</title>\n<path fill=\"none\" stroke=\"black\" d=\"M128,-272C145.22,-272 146.97,-286.77 162.98,-287.93\"/>\n<ellipse fill=\"black\" stroke=\"black\" cx=\"164\" cy=\"-287.96\" rx=\"1\" ry=\"1\"/>\n<text text-anchor=\"middle\" x=\"146.5\" y=\"-283\" font-family=\"Times,serif\" font-size=\"10.00\">1</text>\n</g>\n<!-- q_x_G11 -->\n<g id=\"node17\" class=\"node\">\n<title>q_x_G11</title>\n<text text-anchor=\"middle\" x=\"192\" y=\"-230.3\" font-family=\"Times,serif\" font-size=\"14.00\">q_x</text>\n</g>\n<!-- LCUBlockEncoding&#45;&gt;q_x_G11 -->\n<g id=\"edge16\" class=\"edge\">\n<title>LCUBlockEncoding:e-&gt;q_x_G11:w</title>\n<path fill=\"none\" stroke=\"black\" d=\"M128,-250C145.22,-250 146.97,-235.23 162.98,-234.07\"/>\n<ellipse fill=\"black\" stroke=\"black\" cx=\"164\" cy=\"-234.04\" rx=\"1\" ry=\"1\"/>\n<text text-anchor=\"middle\" x=\"146.5\" y=\"-245\" font-family=\"Times,serif\" font-size=\"10.00\">2</text>\n</g>\n<!-- q_y_G24 -->\n<g id=\"node18\" class=\"node\">\n<title>q_y_G24</title>\n<text text-anchor=\"middle\" x=\"192\" y=\"-176.3\" font-family=\"Times,serif\" font-size=\"14.00\">q_y</text>\n</g>\n<!-- LCUBlockEncoding&#45;&gt;q_y_G24 -->\n<g id=\"edge17\" class=\"edge\">\n<title>LCUBlockEncoding:e-&gt;q_y_G24:w</title>\n<path fill=\"none\" stroke=\"black\" d=\"M128,-229C154.54,-229 138.64,-182.64 162.86,-180.11\"/>\n<ellipse fill=\"black\" stroke=\"black\" cx=\"164\" cy=\"-180.05\" rx=\"1\" ry=\"1\"/>\n<text text-anchor=\"middle\" x=\"146.5\" y=\"-208\" font-family=\"Times,serif\" font-size=\"10.00\">2</text>\n</g>\n<!-- beta_G13 -->\n<g id=\"node19\" class=\"node\">\n<title>beta_G13</title>\n<text text-anchor=\"middle\" x=\"192\" y=\"-122.3\" font-family=\"Times,serif\" font-size=\"14.00\">beta</text>\n</g>\n<!-- LCUBlockEncoding&#45;&gt;beta_G13 -->\n<g id=\"edge18\" class=\"edge\">\n<title>LCUBlockEncoding:e-&gt;beta_G13:w</title>\n<path fill=\"none\" stroke=\"black\" d=\"M128,-208C167.2,-208 126.66,-129.17 162.75,-126.09\"/>\n<ellipse fill=\"black\" stroke=\"black\" cx=\"164\" cy=\"-126.04\" rx=\"1\" ry=\"1\"/>\n<text text-anchor=\"middle\" x=\"146.5\" y=\"-193\" font-family=\"Times,serif\" font-size=\"10.00\">1</text>\n</g>\n<!-- temp_G2 -->\n<g id=\"node20\" class=\"node\">\n<title>temp_G2</title>\n<text text-anchor=\"middle\" x=\"192\" y=\"-68.3\" font-family=\"Times,serif\" font-size=\"14.00\">temp</text>\n</g>\n<!-- LCUBlockEncoding&#45;&gt;temp_G2 -->\n<g id=\"edge19\" class=\"edge\">\n<title>LCUBlockEncoding:e-&gt;temp_G2:w</title>\n<path fill=\"none\" stroke=\"black\" d=\"M128,-187C154.11,-187 139.03,-78.2 162.89,-72.25\"/>\n<ellipse fill=\"black\" stroke=\"black\" cx=\"164.01\" cy=\"-72.12\" rx=\"1\" ry=\"1\"/>\n<text text-anchor=\"middle\" x=\"146.5\" y=\"-135\" font-family=\"Times,serif\" font-size=\"10.00\">2</text>\n</g>\n<!-- target_G16 -->\n<g id=\"node21\" class=\"node\">\n<title>target_G16</title>\n<text text-anchor=\"middle\" x=\"192\" y=\"-14.3\" font-family=\"Times,serif\" font-size=\"14.00\">target</text>\n</g>\n<!-- LCUBlockEncoding&#45;&gt;target_G16 -->\n<g id=\"edge20\" class=\"edge\">\n<title>LCUBlockEncoding:e-&gt;target_G16:w</title>\n<path fill=\"none\" stroke=\"black\" d=\"M128,-166C161.11,-166 132.51,-24.86 162.72,-18.24\"/>\n<ellipse fill=\"black\" stroke=\"black\" cx=\"164.01\" cy=\"-18.1\" rx=\"1\" ry=\"1\"/>\n<text text-anchor=\"middle\" x=\"146.5\" y=\"-113\" font-family=\"Times,serif\" font-size=\"10.00\">18</text>\n</g>\n</g>\n</svg>",
          "text/plain": "<IPython.core.display.SVG object>"
         },
         "metadata": {},
         "output_type": "display_data"
        }
       ],
       "tabbable": null,
       "tooltip": null
      }
     },
     "df193601cf9a4851acc60968027d1e18": {
      "model_module": "@jupyter-widgets/base",
      "model_module_version": "2.0.0",
      "model_name": "LayoutModel",
      "state": {
       "_model_module": "@jupyter-widgets/base",
       "_model_module_version": "2.0.0",
       "_model_name": "LayoutModel",
       "_view_count": null,
       "_view_module": "@jupyter-widgets/base",
       "_view_module_version": "2.0.0",
       "_view_name": "LayoutView",
       "align_content": null,
       "align_items": null,
       "align_self": null,
       "border_bottom": null,
       "border_left": null,
       "border_right": null,
       "border_top": null,
       "bottom": null,
       "display": null,
       "flex": null,
       "flex_flow": null,
       "grid_area": null,
       "grid_auto_columns": null,
       "grid_auto_flow": null,
       "grid_auto_rows": null,
       "grid_column": null,
       "grid_gap": null,
       "grid_row": null,
       "grid_template_areas": null,
       "grid_template_columns": null,
       "grid_template_rows": null,
       "height": null,
       "justify_content": null,
       "justify_items": null,
       "left": null,
       "margin": null,
       "max_height": null,
       "max_width": null,
       "min_height": null,
       "min_width": null,
       "object_fit": null,
       "object_position": null,
       "order": null,
       "overflow": null,
       "padding": null,
       "right": null,
       "top": null,
       "visibility": null,
       "width": null
      }
     },
     "e1e154fa69124ecab96fc8642c241a91": {
      "model_module": "@jupyter-widgets/base",
      "model_module_version": "2.0.0",
      "model_name": "LayoutModel",
      "state": {
       "_model_module": "@jupyter-widgets/base",
       "_model_module_version": "2.0.0",
       "_model_name": "LayoutModel",
       "_view_count": null,
       "_view_module": "@jupyter-widgets/base",
       "_view_module_version": "2.0.0",
       "_view_name": "LayoutView",
       "align_content": null,
       "align_items": null,
       "align_self": null,
       "border_bottom": null,
       "border_left": null,
       "border_right": null,
       "border_top": null,
       "bottom": null,
       "display": null,
       "flex": null,
       "flex_flow": null,
       "grid_area": null,
       "grid_auto_columns": null,
       "grid_auto_flow": null,
       "grid_auto_rows": null,
       "grid_column": null,
       "grid_gap": null,
       "grid_row": null,
       "grid_template_areas": null,
       "grid_template_columns": null,
       "grid_template_rows": null,
       "height": null,
       "justify_content": null,
       "justify_items": null,
       "left": null,
       "margin": null,
       "max_height": null,
       "max_width": null,
       "min_height": null,
       "min_width": null,
       "object_fit": null,
       "object_position": null,
       "order": null,
       "overflow": null,
       "padding": null,
       "right": null,
       "top": null,
       "visibility": null,
       "width": null
      }
     },
     "e7ac389d46b844f7912ae4845abc7c69": {
      "model_module": "@jupyter-widgets/base",
      "model_module_version": "2.0.0",
      "model_name": "LayoutModel",
      "state": {
       "_model_module": "@jupyter-widgets/base",
       "_model_module_version": "2.0.0",
       "_model_name": "LayoutModel",
       "_view_count": null,
       "_view_module": "@jupyter-widgets/base",
       "_view_module_version": "2.0.0",
       "_view_name": "LayoutView",
       "align_content": null,
       "align_items": null,
       "align_self": null,
       "border_bottom": null,
       "border_left": null,
       "border_right": null,
       "border_top": null,
       "bottom": null,
       "display": null,
       "flex": null,
       "flex_flow": null,
       "grid_area": null,
       "grid_auto_columns": null,
       "grid_auto_flow": null,
       "grid_auto_rows": null,
       "grid_column": null,
       "grid_gap": null,
       "grid_row": null,
       "grid_template_areas": null,
       "grid_template_columns": null,
       "grid_template_rows": null,
       "height": null,
       "justify_content": null,
       "justify_items": null,
       "left": null,
       "margin": null,
       "max_height": null,
       "max_width": null,
       "min_height": null,
       "min_width": null,
       "object_fit": null,
       "object_position": null,
       "order": null,
       "overflow": null,
       "padding": null,
       "right": null,
       "top": null,
       "visibility": null,
       "width": null
      }
     },
     "ea69eb7d755748ebb5ca67703f9266b9": {
      "model_module": "@jupyter-widgets/base",
      "model_module_version": "2.0.0",
      "model_name": "LayoutModel",
      "state": {
       "_model_module": "@jupyter-widgets/base",
       "_model_module_version": "2.0.0",
       "_model_name": "LayoutModel",
       "_view_count": null,
       "_view_module": "@jupyter-widgets/base",
       "_view_module_version": "2.0.0",
       "_view_name": "LayoutView",
       "align_content": null,
       "align_items": null,
       "align_self": null,
       "border_bottom": null,
       "border_left": null,
       "border_right": null,
       "border_top": null,
       "bottom": null,
       "display": null,
       "flex": null,
       "flex_flow": null,
       "grid_area": null,
       "grid_auto_columns": null,
       "grid_auto_flow": null,
       "grid_auto_rows": null,
       "grid_column": null,
       "grid_gap": null,
       "grid_row": null,
       "grid_template_areas": null,
       "grid_template_columns": null,
       "grid_template_rows": null,
       "height": null,
       "justify_content": null,
       "justify_items": null,
       "left": null,
       "margin": null,
       "max_height": null,
       "max_width": null,
       "min_height": null,
       "min_width": null,
       "object_fit": null,
       "object_position": null,
       "order": null,
       "overflow": null,
       "padding": null,
       "right": null,
       "top": null,
       "visibility": null,
       "width": null
      }
     },
     "ee6868a307ca43f4bbc3f39668e0074d": {
      "model_module": "@jupyter-widgets/output",
      "model_module_version": "1.0.0",
      "model_name": "OutputModel",
      "state": {
       "_dom_classes": [],
       "_model_module": "@jupyter-widgets/output",
       "_model_module_version": "1.0.0",
       "_model_name": "OutputModel",
       "_view_count": null,
       "_view_module": "@jupyter-widgets/output",
       "_view_module_version": "1.0.0",
       "_view_name": "OutputView",
       "layout": "IPY_MODEL_f878c87496ce4dbc8d02e110e3251baa",
       "msg_id": "",
       "outputs": [
        {
         "data": {
          "text/markdown": "`select_block`",
          "text/plain": "<IPython.core.display.Markdown object>"
         },
         "metadata": {},
         "output_type": "display_data"
        },
        {
         "data": {
          "image/svg+xml": "<svg xmlns=\"http://www.w3.org/2000/svg\" xmlns:xlink=\"http://www.w3.org/1999/xlink\" width=\"227pt\" height=\"476pt\" viewBox=\"0.00 0.00 227.00 476.00\">\n<g id=\"graph0\" class=\"graph\" transform=\"scale(1 1) rotate(0) translate(4 472)\">\n<title>my_graph</title>\n<polygon fill=\"white\" stroke=\"transparent\" points=\"-4,4 -4,-472 223,-472 223,4 -4,4\"/>\n<!-- U_G20 -->\n<g id=\"node1\" class=\"node\">\n<title>U_G20</title>\n<text text-anchor=\"middle\" x=\"27\" y=\"-446.3\" font-family=\"Times,serif\" font-size=\"14.00\">U</text>\n</g>\n<!-- SelectBlockEncoding -->\n<g id=\"node10\" class=\"node\">\n<title>SelectBlockEncoding</title>\n<polygon fill=\"none\" stroke=\"black\" points=\"91.5,-329 91.5,-346 128.5,-346 128.5,-329 91.5,-329\"/>\n<text text-anchor=\"start\" x=\"99.5\" y=\"-335\" font-family=\"Times,serif\" font-size=\"10.00\">B[H]</text>\n<polygon fill=\"none\" stroke=\"black\" points=\"91.5,-308 91.5,-329 128.5,-329 128.5,-308 91.5,-308\"/>\n<text text-anchor=\"start\" x=\"105\" y=\"-314.8\" font-family=\"Times,serif\" font-size=\"14.00\">U</text>\n<polygon fill=\"none\" stroke=\"black\" points=\"91.5,-287 91.5,-308 128.5,-308 128.5,-287 91.5,-287\"/>\n<text text-anchor=\"start\" x=\"105\" y=\"-293.8\" font-family=\"Times,serif\" font-size=\"14.00\">V</text>\n<polygon fill=\"none\" stroke=\"black\" points=\"91.5,-266 91.5,-287 128.5,-287 128.5,-266 91.5,-266\"/>\n<text text-anchor=\"start\" x=\"99.5\" y=\"-272.8\" font-family=\"Times,serif\" font-size=\"14.00\">p_x</text>\n<polygon fill=\"none\" stroke=\"black\" points=\"91.5,-245 91.5,-266 128.5,-266 128.5,-245 91.5,-245\"/>\n<text text-anchor=\"start\" x=\"99.5\" y=\"-251.8\" font-family=\"Times,serif\" font-size=\"14.00\">p_y</text>\n<polygon fill=\"none\" stroke=\"black\" points=\"91.5,-224 91.5,-245 128.5,-245 128.5,-224 91.5,-224\"/>\n<text text-anchor=\"start\" x=\"95\" y=\"-230.8\" font-family=\"Times,serif\" font-size=\"14.00\">alpha</text>\n<polygon fill=\"none\" stroke=\"black\" points=\"91.5,-203 91.5,-224 128.5,-224 128.5,-203 91.5,-203\"/>\n<text text-anchor=\"start\" x=\"99.5\" y=\"-209.8\" font-family=\"Times,serif\" font-size=\"14.00\">q_x</text>\n<polygon fill=\"none\" stroke=\"black\" points=\"91.5,-182 91.5,-203 128.5,-203 128.5,-182 91.5,-182\"/>\n<text text-anchor=\"start\" x=\"99.5\" y=\"-188.8\" font-family=\"Times,serif\" font-size=\"14.00\">q_y</text>\n<polygon fill=\"none\" stroke=\"black\" points=\"91.5,-161 91.5,-182 128.5,-182 128.5,-161 91.5,-161\"/>\n<text text-anchor=\"start\" x=\"98.5\" y=\"-167.8\" font-family=\"Times,serif\" font-size=\"14.00\">beta</text>\n<polygon fill=\"none\" stroke=\"black\" points=\"91.5,-140 91.5,-161 128.5,-161 128.5,-140 91.5,-140\"/>\n<text text-anchor=\"start\" x=\"94.5\" y=\"-146.8\" font-family=\"Times,serif\" font-size=\"14.00\">target</text>\n</g>\n<!-- U_G20&#45;&gt;SelectBlockEncoding -->\n<g id=\"edge1\" class=\"edge\">\n<title>U_G20:e-&gt;SelectBlockEncoding:w</title>\n<path fill=\"none\" stroke=\"black\" d=\"M54,-450C83.54,-450 61.82,-325.07 88.96,-319.21\"/>\n<ellipse fill=\"black\" stroke=\"black\" cx=\"90.01\" cy=\"-319.1\" rx=\"1\" ry=\"1\"/>\n<text text-anchor=\"middle\" x=\"72.5\" y=\"-395\" font-family=\"Times,serif\" font-size=\"10.00\">1</text>\n</g>\n<!-- V_G14 -->\n<g id=\"node2\" class=\"node\">\n<title>V_G14</title>\n<text text-anchor=\"middle\" x=\"27\" y=\"-392.3\" font-family=\"Times,serif\" font-size=\"14.00\">V</text>\n</g>\n<!-- V_G14&#45;&gt;SelectBlockEncoding -->\n<g id=\"edge2\" class=\"edge\">\n<title>V_G14:e-&gt;SelectBlockEncoding:w</title>\n<path fill=\"none\" stroke=\"black\" d=\"M54,-396C76.55,-396 68.29,-304.03 88.91,-298.28\"/>\n<ellipse fill=\"black\" stroke=\"black\" cx=\"90.01\" cy=\"-298.13\" rx=\"1\" ry=\"1\"/>\n<text text-anchor=\"middle\" x=\"72.5\" y=\"-352\" font-family=\"Times,serif\" font-size=\"10.00\">1</text>\n</g>\n<!-- p_x_G4 -->\n<g id=\"node3\" class=\"node\">\n<title>p_x_G4</title>\n<text text-anchor=\"middle\" x=\"27\" y=\"-338.3\" font-family=\"Times,serif\" font-size=\"14.00\">p_x</text>\n</g>\n<!-- p_x_G4&#45;&gt;SelectBlockEncoding -->\n<g id=\"edge3\" class=\"edge\">\n<title>p_x_G4:e-&gt;SelectBlockEncoding:w</title>\n<path fill=\"none\" stroke=\"black\" d=\"M54,-342C86.46,-342 59.11,-280.01 88.76,-277.11\"/>\n<ellipse fill=\"black\" stroke=\"black\" cx=\"90\" cy=\"-277.05\" rx=\"1\" ry=\"1\"/>\n<text text-anchor=\"middle\" x=\"72.5\" y=\"-318\" font-family=\"Times,serif\" font-size=\"10.00\">2</text>\n</g>\n<!-- p_y_G13 -->\n<g id=\"node4\" class=\"node\">\n<title>p_y_G13</title>\n<text text-anchor=\"middle\" x=\"27\" y=\"-284.3\" font-family=\"Times,serif\" font-size=\"14.00\">p_y</text>\n</g>\n<!-- p_y_G13&#45;&gt;SelectBlockEncoding -->\n<g id=\"edge4\" class=\"edge\">\n<title>p_y_G13:e-&gt;SelectBlockEncoding:w</title>\n<path fill=\"none\" stroke=\"black\" d=\"M54,-288C74.89,-288 69.72,-258.45 88.58,-256.14\"/>\n<ellipse fill=\"black\" stroke=\"black\" cx=\"90\" cy=\"-256.06\" rx=\"1\" ry=\"1\"/>\n<text text-anchor=\"middle\" x=\"72.5\" y=\"-275\" font-family=\"Times,serif\" font-size=\"10.00\">2</text>\n</g>\n<!-- alpha_G26 -->\n<g id=\"node5\" class=\"node\">\n<title>alpha_G26</title>\n<text text-anchor=\"middle\" x=\"27\" y=\"-230.3\" font-family=\"Times,serif\" font-size=\"14.00\">alpha</text>\n</g>\n<!-- alpha_G26&#45;&gt;SelectBlockEncoding -->\n<g id=\"edge5\" class=\"edge\">\n<title>alpha_G26:e-&gt;SelectBlockEncoding:w</title>\n<path fill=\"none\" stroke=\"black\" d=\"M54,-234C69.67,-234 74.14,-234 88.77,-234\"/>\n<ellipse fill=\"black\" stroke=\"black\" cx=\"90\" cy=\"-234\" rx=\"1\" ry=\"1\"/>\n<text text-anchor=\"middle\" x=\"72.5\" y=\"-237\" font-family=\"Times,serif\" font-size=\"10.00\">1</text>\n</g>\n<!-- q_x_G15 -->\n<g id=\"node6\" class=\"node\">\n<title>q_x_G15</title>\n<text text-anchor=\"middle\" x=\"27\" y=\"-176.3\" font-family=\"Times,serif\" font-size=\"14.00\">q_x</text>\n</g>\n<!-- q_x_G15&#45;&gt;SelectBlockEncoding -->\n<g id=\"edge6\" class=\"edge\">\n<title>q_x_G15:e-&gt;SelectBlockEncoding:w</title>\n<path fill=\"none\" stroke=\"black\" d=\"M54,-180C75.17,-180 69.47,-210.47 88.55,-212.85\"/>\n<ellipse fill=\"black\" stroke=\"black\" cx=\"90\" cy=\"-212.94\" rx=\"1\" ry=\"1\"/>\n<text text-anchor=\"middle\" x=\"72.5\" y=\"-200\" font-family=\"Times,serif\" font-size=\"10.00\">2</text>\n</g>\n<!-- q_y_G3 -->\n<g id=\"node7\" class=\"node\">\n<title>q_y_G3</title>\n<text text-anchor=\"middle\" x=\"27\" y=\"-122.3\" font-family=\"Times,serif\" font-size=\"14.00\">q_y</text>\n</g>\n<!-- q_y_G3&#45;&gt;SelectBlockEncoding -->\n<g id=\"edge7\" class=\"edge\">\n<title>q_y_G3:e-&gt;SelectBlockEncoding:w</title>\n<path fill=\"none\" stroke=\"black\" d=\"M54,-126C86.84,-126 58.75,-188.94 88.74,-191.89\"/>\n<ellipse fill=\"black\" stroke=\"black\" cx=\"90\" cy=\"-191.95\" rx=\"1\" ry=\"1\"/>\n<text text-anchor=\"middle\" x=\"72.5\" y=\"-169\" font-family=\"Times,serif\" font-size=\"10.00\">2</text>\n</g>\n<!-- beta_G18 -->\n<g id=\"node8\" class=\"node\">\n<title>beta_G18</title>\n<text text-anchor=\"middle\" x=\"27\" y=\"-68.3\" font-family=\"Times,serif\" font-size=\"14.00\">beta</text>\n</g>\n<!-- beta_G18&#45;&gt;SelectBlockEncoding -->\n<g id=\"edge8\" class=\"edge\">\n<title>beta_G18:e-&gt;SelectBlockEncoding:w</title>\n<path fill=\"none\" stroke=\"black\" d=\"M54,-72C76.75,-72 68.1,-164.91 88.89,-170.72\"/>\n<ellipse fill=\"black\" stroke=\"black\" cx=\"90.01\" cy=\"-170.87\" rx=\"1\" ry=\"1\"/>\n<text text-anchor=\"middle\" x=\"72.5\" y=\"-127\" font-family=\"Times,serif\" font-size=\"10.00\">1</text>\n</g>\n<!-- target_G22 -->\n<g id=\"node9\" class=\"node\">\n<title>target_G22</title>\n<text text-anchor=\"middle\" x=\"27\" y=\"-14.3\" font-family=\"Times,serif\" font-size=\"14.00\">target</text>\n</g>\n<!-- target_G22&#45;&gt;SelectBlockEncoding -->\n<g id=\"edge9\" class=\"edge\">\n<title>target_G22:e-&gt;SelectBlockEncoding:w</title>\n<path fill=\"none\" stroke=\"black\" d=\"M54,-18C83.75,-18 61.63,-143.89 88.95,-149.79\"/>\n<ellipse fill=\"black\" stroke=\"black\" cx=\"90.01\" cy=\"-149.9\" rx=\"1\" ry=\"1\"/>\n<text text-anchor=\"middle\" x=\"72.5\" y=\"-95\" font-family=\"Times,serif\" font-size=\"10.00\">18</text>\n</g>\n<!-- U_G9 -->\n<g id=\"node11\" class=\"node\">\n<title>U_G9</title>\n<text text-anchor=\"middle\" x=\"192\" y=\"-446.3\" font-family=\"Times,serif\" font-size=\"14.00\">U</text>\n</g>\n<!-- SelectBlockEncoding&#45;&gt;U_G9 -->\n<g id=\"edge10\" class=\"edge\">\n<title>SelectBlockEncoding:e-&gt;U_G9:w</title>\n<path fill=\"none\" stroke=\"black\" d=\"M128,-319C157.54,-319 135.82,-443.93 162.96,-449.79\"/>\n<ellipse fill=\"black\" stroke=\"black\" cx=\"164.01\" cy=\"-449.9\" rx=\"1\" ry=\"1\"/>\n<text text-anchor=\"middle\" x=\"146.5\" y=\"-395\" font-family=\"Times,serif\" font-size=\"10.00\">1</text>\n</g>\n<!-- V_G1 -->\n<g id=\"node12\" class=\"node\">\n<title>V_G1</title>\n<text text-anchor=\"middle\" x=\"192\" y=\"-392.3\" font-family=\"Times,serif\" font-size=\"14.00\">V</text>\n</g>\n<!-- SelectBlockEncoding&#45;&gt;V_G1 -->\n<g id=\"edge11\" class=\"edge\">\n<title>SelectBlockEncoding:e-&gt;V_G1:w</title>\n<path fill=\"none\" stroke=\"black\" d=\"M128,-298C150.55,-298 142.29,-389.97 162.91,-395.72\"/>\n<ellipse fill=\"black\" stroke=\"black\" cx=\"164.01\" cy=\"-395.87\" rx=\"1\" ry=\"1\"/>\n<text text-anchor=\"middle\" x=\"146.5\" y=\"-352\" font-family=\"Times,serif\" font-size=\"10.00\">1</text>\n</g>\n<!-- p_x_G25 -->\n<g id=\"node13\" class=\"node\">\n<title>p_x_G25</title>\n<text text-anchor=\"middle\" x=\"192\" y=\"-338.3\" font-family=\"Times,serif\" font-size=\"14.00\">p_x</text>\n</g>\n<!-- SelectBlockEncoding&#45;&gt;p_x_G25 -->\n<g id=\"edge12\" class=\"edge\">\n<title>SelectBlockEncoding:e-&gt;p_x_G25:w</title>\n<path fill=\"none\" stroke=\"black\" d=\"M128,-277C160.46,-277 133.11,-338.99 162.76,-341.89\"/>\n<ellipse fill=\"black\" stroke=\"black\" cx=\"164\" cy=\"-341.95\" rx=\"1\" ry=\"1\"/>\n<text text-anchor=\"middle\" x=\"146.5\" y=\"-318\" font-family=\"Times,serif\" font-size=\"10.00\">2</text>\n</g>\n<!-- p_y_G23 -->\n<g id=\"node14\" class=\"node\">\n<title>p_y_G23</title>\n<text text-anchor=\"middle\" x=\"192\" y=\"-284.3\" font-family=\"Times,serif\" font-size=\"14.00\">p_y</text>\n</g>\n<!-- SelectBlockEncoding&#45;&gt;p_y_G23 -->\n<g id=\"edge13\" class=\"edge\">\n<title>SelectBlockEncoding:e-&gt;p_y_G23:w</title>\n<path fill=\"none\" stroke=\"black\" d=\"M128,-256C148.89,-256 143.72,-285.55 162.58,-287.86\"/>\n<ellipse fill=\"black\" stroke=\"black\" cx=\"164\" cy=\"-287.94\" rx=\"1\" ry=\"1\"/>\n<text text-anchor=\"middle\" x=\"146.5\" y=\"-275\" font-family=\"Times,serif\" font-size=\"10.00\">2</text>\n</g>\n<!-- alpha_G17 -->\n<g id=\"node15\" class=\"node\">\n<title>alpha_G17</title>\n<text text-anchor=\"middle\" x=\"192\" y=\"-230.3\" font-family=\"Times,serif\" font-size=\"14.00\">alpha</text>\n</g>\n<!-- SelectBlockEncoding&#45;&gt;alpha_G17 -->\n<g id=\"edge14\" class=\"edge\">\n<title>SelectBlockEncoding:e-&gt;alpha_G17:w</title>\n<path fill=\"none\" stroke=\"black\" d=\"M128,-234C143.67,-234 148.14,-234 162.77,-234\"/>\n<ellipse fill=\"black\" stroke=\"black\" cx=\"164\" cy=\"-234\" rx=\"1\" ry=\"1\"/>\n<text text-anchor=\"middle\" x=\"146.5\" y=\"-237\" font-family=\"Times,serif\" font-size=\"10.00\">1</text>\n</g>\n<!-- q_x_G6 -->\n<g id=\"node16\" class=\"node\">\n<title>q_x_G6</title>\n<text text-anchor=\"middle\" x=\"192\" y=\"-176.3\" font-family=\"Times,serif\" font-size=\"14.00\">q_x</text>\n</g>\n<!-- SelectBlockEncoding&#45;&gt;q_x_G6 -->\n<g id=\"edge15\" class=\"edge\">\n<title>SelectBlockEncoding:e-&gt;q_x_G6:w</title>\n<path fill=\"none\" stroke=\"black\" d=\"M128,-213C149.17,-213 143.47,-182.53 162.55,-180.15\"/>\n<ellipse fill=\"black\" stroke=\"black\" cx=\"164\" cy=\"-180.06\" rx=\"1\" ry=\"1\"/>\n<text text-anchor=\"middle\" x=\"146.5\" y=\"-200\" font-family=\"Times,serif\" font-size=\"10.00\">2</text>\n</g>\n<!-- q_y_G19 -->\n<g id=\"node17\" class=\"node\">\n<title>q_y_G19</title>\n<text text-anchor=\"middle\" x=\"192\" y=\"-122.3\" font-family=\"Times,serif\" font-size=\"14.00\">q_y</text>\n</g>\n<!-- SelectBlockEncoding&#45;&gt;q_y_G19 -->\n<g id=\"edge16\" class=\"edge\">\n<title>SelectBlockEncoding:e-&gt;q_y_G19:w</title>\n<path fill=\"none\" stroke=\"black\" d=\"M128,-192C160.84,-192 132.75,-129.06 162.74,-126.11\"/>\n<ellipse fill=\"black\" stroke=\"black\" cx=\"164\" cy=\"-126.05\" rx=\"1\" ry=\"1\"/>\n<text text-anchor=\"middle\" x=\"146.5\" y=\"-169\" font-family=\"Times,serif\" font-size=\"10.00\">2</text>\n</g>\n<!-- beta_G8 -->\n<g id=\"node18\" class=\"node\">\n<title>beta_G8</title>\n<text text-anchor=\"middle\" x=\"192\" y=\"-68.3\" font-family=\"Times,serif\" font-size=\"14.00\">beta</text>\n</g>\n<!-- SelectBlockEncoding&#45;&gt;beta_G8 -->\n<g id=\"edge17\" class=\"edge\">\n<title>SelectBlockEncoding:e-&gt;beta_G8:w</title>\n<path fill=\"none\" stroke=\"black\" d=\"M128,-171C150.75,-171 142.1,-78.09 162.89,-72.28\"/>\n<ellipse fill=\"black\" stroke=\"black\" cx=\"164.01\" cy=\"-72.13\" rx=\"1\" ry=\"1\"/>\n<text text-anchor=\"middle\" x=\"146.5\" y=\"-127\" font-family=\"Times,serif\" font-size=\"10.00\">1</text>\n</g>\n<!-- target_G12 -->\n<g id=\"node19\" class=\"node\">\n<title>target_G12</title>\n<text text-anchor=\"middle\" x=\"192\" y=\"-14.3\" font-family=\"Times,serif\" font-size=\"14.00\">target</text>\n</g>\n<!-- SelectBlockEncoding&#45;&gt;target_G12 -->\n<g id=\"edge18\" class=\"edge\">\n<title>SelectBlockEncoding:e-&gt;target_G12:w</title>\n<path fill=\"none\" stroke=\"black\" d=\"M128,-150C157.75,-150 135.63,-24.11 162.95,-18.21\"/>\n<ellipse fill=\"black\" stroke=\"black\" cx=\"164.01\" cy=\"-18.1\" rx=\"1\" ry=\"1\"/>\n<text text-anchor=\"middle\" x=\"146.5\" y=\"-95\" font-family=\"Times,serif\" font-size=\"10.00\">18</text>\n</g>\n</g>\n</svg>",
          "text/plain": "<IPython.core.display.SVG object>"
         },
         "metadata": {},
         "output_type": "display_data"
        }
       ],
       "tabbable": null,
       "tooltip": null
      }
     },
     "f878c87496ce4dbc8d02e110e3251baa": {
      "model_module": "@jupyter-widgets/base",
      "model_module_version": "2.0.0",
      "model_name": "LayoutModel",
      "state": {
       "_model_module": "@jupyter-widgets/base",
       "_model_module_version": "2.0.0",
       "_model_name": "LayoutModel",
       "_view_count": null,
       "_view_module": "@jupyter-widgets/base",
       "_view_module_version": "2.0.0",
       "_view_name": "LayoutView",
       "align_content": null,
       "align_items": null,
       "align_self": null,
       "border_bottom": null,
       "border_left": null,
       "border_right": null,
       "border_top": null,
       "bottom": null,
       "display": null,
       "flex": null,
       "flex_flow": null,
       "grid_area": null,
       "grid_auto_columns": null,
       "grid_auto_flow": null,
       "grid_auto_rows": null,
       "grid_column": null,
       "grid_gap": null,
       "grid_row": null,
       "grid_template_areas": null,
       "grid_template_columns": null,
       "grid_template_rows": null,
       "height": null,
       "justify_content": null,
       "justify_items": null,
       "left": null,
       "margin": null,
       "max_height": null,
       "max_width": null,
       "min_height": null,
       "min_width": null,
       "object_fit": null,
       "object_position": null,
       "order": null,
       "overflow": null,
       "padding": null,
       "right": null,
       "top": null,
       "visibility": null,
       "width": null
      }
     }
    },
    "version_major": 2,
    "version_minor": 0
   }
  }
 },
 "nbformat": 4,
 "nbformat_minor": 5
}
