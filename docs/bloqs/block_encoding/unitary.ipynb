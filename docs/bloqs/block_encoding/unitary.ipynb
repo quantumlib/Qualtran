{
 "cells": [
  {
   "cell_type": "markdown",
   "id": "f15689a6",
   "metadata": {
    "cq.autogen": "title_cell"
   },
   "source": [
    "# Unitary"
   ]
  },
  {
   "cell_type": "code",
   "execution_count": 1,
   "id": "445507e0",
   "metadata": {
    "cq.autogen": "top_imports"
   },
   "outputs": [],
   "source": [
    "from qualtran import Bloq, CompositeBloq, BloqBuilder, Signature, Register\n",
    "from qualtran import QBit, QInt, QUInt, QAny\n",
    "from qualtran.drawing import show_bloq, show_call_graph, show_counts_sigma\n",
    "from typing import *\n",
    "import numpy as np\n",
    "import sympy\n",
    "import cirq"
   ]
  },
  {
   "cell_type": "markdown",
   "id": "01253519",
   "metadata": {
    "cq.autogen": "Unitary.bloq_doc.md"
   },
   "source": [
    "## `Unitary`\n",
    "Trivial block encoding of a unitary operator.\n",
    "\n",
    "Builds the block encoding as\n",
    "$\n",
    "    B[U] = U\n",
    "$\n",
    "where $U$ is a unitary operator. Here, $B[U]$ is a $(1, 0, 0)$-block encoding of $U$.\n",
    "\n",
    "#### Parameters\n",
    " - `U`: The unitary operator to block-encode.\n",
    " - `alpha`: The normalization factor (default 1).\n",
    " - `ancilla_bitsize`: The number of ancilla bits (default 0).\n",
    " - `resource_bitsize`: The number of resource bits (default 0).\n",
    " - `epsilon`: The precision parameter (default 0). \n",
    "\n",
    "#### Registers\n",
    " - `system`: The system register.\n",
    " - `ancilla`: The ancilla register (present only if bitsize > 0).\n",
    " - `resource`: The resource register (present only if bitsize > 0).\n"
   ]
  },
  {
   "cell_type": "code",
   "execution_count": 2,
   "id": "cb8dd004",
   "metadata": {
    "cq.autogen": "Unitary.bloq_doc.py"
   },
   "outputs": [],
   "source": [
    "from qualtran.bloqs.block_encoding import Unitary"
   ]
  },
  {
   "cell_type": "markdown",
   "id": "5757f235",
   "metadata": {
    "cq.autogen": "Unitary.example_instances.md"
   },
   "source": [
    "### Example Instances"
   ]
  },
  {
   "cell_type": "code",
   "execution_count": 3,
   "id": "2790d6f3",
   "metadata": {
    "cq.autogen": "Unitary.unitary_block_encoding"
   },
   "outputs": [],
   "source": [
    "from qualtran.bloqs.basic_gates import TGate\n",
    "\n",
    "unitary_block_encoding = Unitary(TGate())"
   ]
  },
  {
   "cell_type": "code",
   "execution_count": 4,
   "id": "e229723d",
   "metadata": {
    "cq.autogen": "Unitary.unitary_block_encoding_properties"
   },
   "outputs": [],
   "source": [
    "from attrs import evolve\n",
    "\n",
    "from qualtran.bloqs.basic_gates import TGate\n",
    "\n",
    "unitary_block_encoding_properties = evolve(\n",
    "    Unitary(TGate()), alpha=0.5, ancilla_bitsize=2, resource_bitsize=1, epsilon=0.01\n",
    ")"
   ]
  },
  {
   "cell_type": "markdown",
   "id": "b4456eeb",
   "metadata": {
    "cq.autogen": "Unitary.graphical_signature.md"
   },
   "source": [
    "#### Graphical Signature"
   ]
  },
  {
   "cell_type": "code",
   "execution_count": 5,
   "id": "62b3252d",
   "metadata": {
    "cq.autogen": "Unitary.graphical_signature.py"
   },
   "outputs": [
    {
     "data": {
      "application/vnd.jupyter.widget-view+json": {
       "model_id": "226a988b8ec04c3da6bd9416d076b1ae",
       "version_major": 2,
       "version_minor": 0
      },
      "text/plain": [
       "HBox(children=(Output(outputs=({'output_type': 'display_data', 'data': {'text/plain': '<IPython.core.display.M…"
      ]
     },
     "metadata": {},
     "output_type": "display_data"
    }
   ],
   "source": [
    "from qualtran.drawing import show_bloqs\n",
    "show_bloqs([unitary_block_encoding, unitary_block_encoding_properties],\n",
    "           ['`unitary_block_encoding`', '`unitary_block_encoding_properties`'])"
   ]
  },
  {
   "cell_type": "markdown",
   "id": "42d59bdc",
   "metadata": {
    "cq.autogen": "Unitary.call_graph.md"
   },
   "source": [
    "### Call Graph"
   ]
  },
  {
   "cell_type": "code",
   "execution_count": 6,
   "id": "717e77ae",
   "metadata": {
    "cq.autogen": "Unitary.call_graph.py"
   },
   "outputs": [
    {
     "data": {
      "image/svg+xml": [
       "<svg xmlns=\"http://www.w3.org/2000/svg\" xmlns:xlink=\"http://www.w3.org/1999/xlink\" width=\"62pt\" height=\"131pt\" viewBox=\"0.00 0.00 62.00 131.00\">\n",
       "<g id=\"graph0\" class=\"graph\" transform=\"scale(1 1) rotate(0) translate(4 127)\">\n",
       "<title>counts</title>\n",
       "<polygon fill=\"white\" stroke=\"transparent\" points=\"-4,4 -4,-127 58,-127 58,4 -4,4\"/>\n",
       "<!-- b0 -->\n",
       "<g id=\"node1\" class=\"node\">\n",
       "<title>b0</title>\n",
       "<polygon fill=\"none\" stroke=\"black\" points=\"11,-93 11,-116 43,-116 43,-93 11,-93\"/>\n",
       "<text text-anchor=\"start\" x=\"17.5\" y=\"-102\" font-family=\"Times,serif\" font-size=\"10.00\">B[T]</text>\n",
       "</g>\n",
       "<!-- b1 -->\n",
       "<g id=\"node2\" class=\"node\">\n",
       "<title>b1</title>\n",
       "<polygon fill=\"none\" stroke=\"black\" points=\"17,-6 17,-29 37,-29 37,-6 17,-6\"/>\n",
       "<text text-anchor=\"start\" x=\"23.5\" y=\"-15\" font-family=\"Times,serif\" font-size=\"10.00\">T</text>\n",
       "</g>\n",
       "<!-- b0&#45;&gt;b1 -->\n",
       "<g id=\"edge1\" class=\"edge\">\n",
       "<title>b0-&gt;b1</title>\n",
       "<path fill=\"none\" stroke=\"black\" d=\"M27,-86.8C27,-75.16 27,-59.55 27,-46.24\"/>\n",
       "<polygon fill=\"black\" stroke=\"black\" points=\"30.5,-46.18 27,-36.18 23.5,-46.18 30.5,-46.18\"/>\n",
       "<text text-anchor=\"middle\" x=\"30.5\" y=\"-57.8\" font-family=\"Times,serif\" font-size=\"14.00\">1</text>\n",
       "</g>\n",
       "</g>\n",
       "</svg>"
      ],
      "text/plain": [
       "<IPython.core.display.SVG object>"
      ]
     },
     "metadata": {},
     "output_type": "display_data"
    },
    {
     "data": {
      "text/markdown": [
       "#### Counts totals:\n",
       " - `T`: 1"
      ],
      "text/plain": [
       "<IPython.core.display.Markdown object>"
      ]
     },
     "metadata": {},
     "output_type": "display_data"
    }
   ],
   "source": [
    "from qualtran.resource_counting.generalizers import ignore_split_join\n",
    "unitary_block_encoding_g, unitary_block_encoding_sigma = unitary_block_encoding.call_graph(max_depth=1, generalizer=ignore_split_join)\n",
    "show_call_graph(unitary_block_encoding_g)\n",
    "show_counts_sigma(unitary_block_encoding_sigma)"
   ]
  }
 ],
 "metadata": {
  "kernelspec": {
   "display_name": "Python 3",
   "language": "python",
   "name": "python3"
  },
  "language_info": {
   "codemirror_mode": {
    "name": "ipython",
    "version": 3
   },
   "file_extension": ".py",
   "mimetype": "text/x-python",
   "name": "python",
   "nbconvert_exporter": "python",
   "pygments_lexer": "ipython3",
   "version": "3.11.8"
  },
  "widgets": {
   "application/vnd.jupyter.widget-state+json": {
    "state": {
     "098906fa23a3417e93e597edba0e36e7": {
      "model_module": "@jupyter-widgets/output",
      "model_module_version": "1.0.0",
      "model_name": "OutputModel",
      "state": {
       "_dom_classes": [],
       "_model_module": "@jupyter-widgets/output",
       "_model_module_version": "1.0.0",
       "_model_name": "OutputModel",
       "_view_count": null,
       "_view_module": "@jupyter-widgets/output",
       "_view_module_version": "1.0.0",
       "_view_name": "OutputView",
       "layout": "IPY_MODEL_1c7e9f7631644cd8bbd084520986014f",
       "msg_id": "",
       "outputs": [
        {
         "data": {
          "text/markdown": "`unitary_block_encoding_properties`",
          "text/plain": "<IPython.core.display.Markdown object>"
         },
         "metadata": {},
         "output_type": "display_data"
        },
        {
         "data": {
          "image/svg+xml": "<svg xmlns=\"http://www.w3.org/2000/svg\" xmlns:xlink=\"http://www.w3.org/1999/xlink\" width=\"258pt\" height=\"152pt\" viewBox=\"0.00 0.00 258.00 152.00\">\n<g id=\"graph0\" class=\"graph\" transform=\"scale(1 1) rotate(0) translate(4 148)\">\n<title>my_graph</title>\n<polygon fill=\"white\" stroke=\"transparent\" points=\"-4,4 -4,-148 254,-148 254,4 -4,4\"/>\n<!-- system_G0 -->\n<g id=\"node1\" class=\"node\">\n<title>system_G0</title>\n<text text-anchor=\"middle\" x=\"31\" y=\"-122.3\" font-family=\"Times,serif\" font-size=\"14.00\">system</text>\n</g>\n<!-- Unitary -->\n<g id=\"node4\" class=\"node\">\n<title>Unitary</title>\n<polygon fill=\"none\" stroke=\"black\" points=\"99,-104 99,-121 151,-121 151,-104 99,-104\"/>\n<text text-anchor=\"start\" x=\"115.5\" y=\"-110\" font-family=\"Times,serif\" font-size=\"10.00\">B[T]</text>\n<polygon fill=\"none\" stroke=\"black\" points=\"99,-83 99,-104 151,-104 151,-83 99,-83\"/>\n<text text-anchor=\"start\" x=\"105.5\" y=\"-89.8\" font-family=\"Times,serif\" font-size=\"14.00\">system</text>\n<polygon fill=\"none\" stroke=\"black\" points=\"99,-62 99,-83 151,-83 151,-62 99,-62\"/>\n<text text-anchor=\"start\" x=\"106.5\" y=\"-68.8\" font-family=\"Times,serif\" font-size=\"14.00\">ancilla</text>\n<polygon fill=\"none\" stroke=\"black\" points=\"99,-41 99,-62 151,-62 151,-41 99,-41\"/>\n<text text-anchor=\"start\" x=\"102\" y=\"-47.8\" font-family=\"Times,serif\" font-size=\"14.00\">resource</text>\n</g>\n<!-- system_G0&#45;&gt;Unitary -->\n<g id=\"edge1\" class=\"edge\">\n<title>system_G0:e-&gt;Unitary:w</title>\n<path fill=\"none\" stroke=\"black\" d=\"M60,-126C81.72,-126 76.92,-95.97 96.98,-94.09\"/>\n<ellipse fill=\"black\" stroke=\"black\" cx=\"98\" cy=\"-94.05\" rx=\"1\" ry=\"1\"/>\n<text text-anchor=\"middle\" x=\"80.5\" y=\"-111\" font-family=\"Times,serif\" font-size=\"10.00\">1</text>\n</g>\n<!-- ancilla_G6 -->\n<g id=\"node2\" class=\"node\">\n<title>ancilla_G6</title>\n<text text-anchor=\"middle\" x=\"31\" y=\"-68.3\" font-family=\"Times,serif\" font-size=\"14.00\">ancilla</text>\n</g>\n<!-- ancilla_G6&#45;&gt;Unitary -->\n<g id=\"edge2\" class=\"edge\">\n<title>ancilla_G6:e-&gt;Unitary:w</title>\n<path fill=\"none\" stroke=\"black\" d=\"M59,-72C76.08,-72 80.85,-72 96.98,-72\"/>\n<ellipse fill=\"black\" stroke=\"black\" cx=\"98\" cy=\"-72\" rx=\"1\" ry=\"1\"/>\n<text text-anchor=\"middle\" x=\"80.5\" y=\"-75\" font-family=\"Times,serif\" font-size=\"10.00\">2</text>\n</g>\n<!-- resource_G2 -->\n<g id=\"node3\" class=\"node\">\n<title>resource_G2</title>\n<text text-anchor=\"middle\" x=\"31\" y=\"-14.3\" font-family=\"Times,serif\" font-size=\"14.00\">resource</text>\n</g>\n<!-- resource_G2&#45;&gt;Unitary -->\n<g id=\"edge3\" class=\"edge\">\n<title>resource_G2:e-&gt;Unitary:w</title>\n<path fill=\"none\" stroke=\"black\" d=\"M62,-18C83.17,-18 77.47,-48.47 96.55,-50.85\"/>\n<ellipse fill=\"black\" stroke=\"black\" cx=\"98\" cy=\"-50.94\" rx=\"1\" ry=\"1\"/>\n<text text-anchor=\"middle\" x=\"80.5\" y=\"-39\" font-family=\"Times,serif\" font-size=\"10.00\">1</text>\n</g>\n<!-- system_G5 -->\n<g id=\"node5\" class=\"node\">\n<title>system_G5</title>\n<text text-anchor=\"middle\" x=\"219\" y=\"-122.3\" font-family=\"Times,serif\" font-size=\"14.00\">system</text>\n</g>\n<!-- Unitary&#45;&gt;system_G5 -->\n<g id=\"edge4\" class=\"edge\">\n<title>Unitary:e-&gt;system_G5:w</title>\n<path fill=\"none\" stroke=\"black\" d=\"M151,-94C172.72,-94 167.92,-124.03 187.98,-125.91\"/>\n<ellipse fill=\"black\" stroke=\"black\" cx=\"189\" cy=\"-125.95\" rx=\"1\" ry=\"1\"/>\n<text text-anchor=\"middle\" x=\"169.5\" y=\"-111\" font-family=\"Times,serif\" font-size=\"10.00\">1</text>\n</g>\n<!-- ancilla_G8 -->\n<g id=\"node6\" class=\"node\">\n<title>ancilla_G8</title>\n<text text-anchor=\"middle\" x=\"219\" y=\"-68.3\" font-family=\"Times,serif\" font-size=\"14.00\">ancilla</text>\n</g>\n<!-- Unitary&#45;&gt;ancilla_G8 -->\n<g id=\"edge5\" class=\"edge\">\n<title>Unitary:e-&gt;ancilla_G8:w</title>\n<path fill=\"none\" stroke=\"black\" d=\"M151,-72C168.08,-72 172.85,-72 188.98,-72\"/>\n<ellipse fill=\"black\" stroke=\"black\" cx=\"190\" cy=\"-72\" rx=\"1\" ry=\"1\"/>\n<text text-anchor=\"middle\" x=\"169.5\" y=\"-75\" font-family=\"Times,serif\" font-size=\"10.00\">2</text>\n</g>\n<!-- resource_G7 -->\n<g id=\"node7\" class=\"node\">\n<title>resource_G7</title>\n<text text-anchor=\"middle\" x=\"219\" y=\"-14.3\" font-family=\"Times,serif\" font-size=\"14.00\">resource</text>\n</g>\n<!-- Unitary&#45;&gt;resource_G7 -->\n<g id=\"edge6\" class=\"edge\">\n<title>Unitary:e-&gt;resource_G7:w</title>\n<path fill=\"none\" stroke=\"black\" d=\"M151,-51C172.17,-51 166.47,-20.53 185.55,-18.15\"/>\n<ellipse fill=\"black\" stroke=\"black\" cx=\"187\" cy=\"-18.06\" rx=\"1\" ry=\"1\"/>\n<text text-anchor=\"middle\" x=\"169.5\" y=\"-39\" font-family=\"Times,serif\" font-size=\"10.00\">1</text>\n</g>\n</g>\n</svg>",
          "text/plain": "<IPython.core.display.SVG object>"
         },
         "metadata": {},
         "output_type": "display_data"
        }
       ],
       "tabbable": null,
       "tooltip": null
      }
     },
     "1c7e9f7631644cd8bbd084520986014f": {
      "model_module": "@jupyter-widgets/base",
      "model_module_version": "2.0.0",
      "model_name": "LayoutModel",
      "state": {
       "_model_module": "@jupyter-widgets/base",
       "_model_module_version": "2.0.0",
       "_model_name": "LayoutModel",
       "_view_count": null,
       "_view_module": "@jupyter-widgets/base",
       "_view_module_version": "2.0.0",
       "_view_name": "LayoutView",
       "align_content": null,
       "align_items": null,
       "align_self": null,
       "border_bottom": null,
       "border_left": null,
       "border_right": null,
       "border_top": null,
       "bottom": null,
       "display": null,
       "flex": null,
       "flex_flow": null,
       "grid_area": null,
       "grid_auto_columns": null,
       "grid_auto_flow": null,
       "grid_auto_rows": null,
       "grid_column": null,
       "grid_gap": null,
       "grid_row": null,
       "grid_template_areas": null,
       "grid_template_columns": null,
       "grid_template_rows": null,
       "height": null,
       "justify_content": null,
       "justify_items": null,
       "left": null,
       "margin": null,
       "max_height": null,
       "max_width": null,
       "min_height": null,
       "min_width": null,
       "object_fit": null,
       "object_position": null,
       "order": null,
       "overflow": null,
       "padding": null,
       "right": null,
       "top": null,
       "visibility": null,
       "width": null
      }
     },
     "226a988b8ec04c3da6bd9416d076b1ae": {
      "model_module": "@jupyter-widgets/controls",
      "model_module_version": "2.0.0",
      "model_name": "HBoxModel",
      "state": {
       "_dom_classes": [],
       "_model_module": "@jupyter-widgets/controls",
       "_model_module_version": "2.0.0",
       "_model_name": "HBoxModel",
       "_view_count": null,
       "_view_module": "@jupyter-widgets/controls",
       "_view_module_version": "2.0.0",
       "_view_name": "HBoxView",
       "box_style": "",
       "children": [
        "IPY_MODEL_7c5a0f3eb5dd4bafac9be44483e2ee37",
        "IPY_MODEL_098906fa23a3417e93e597edba0e36e7"
       ],
       "layout": "IPY_MODEL_ad3cb3057c5d49d0b2cf364d1d435b65",
       "tabbable": null,
       "tooltip": null
      }
     },
     "7c5a0f3eb5dd4bafac9be44483e2ee37": {
      "model_module": "@jupyter-widgets/output",
      "model_module_version": "1.0.0",
      "model_name": "OutputModel",
      "state": {
       "_dom_classes": [],
       "_model_module": "@jupyter-widgets/output",
       "_model_module_version": "1.0.0",
       "_model_name": "OutputModel",
       "_view_count": null,
       "_view_module": "@jupyter-widgets/output",
       "_view_module_version": "1.0.0",
       "_view_name": "OutputView",
       "layout": "IPY_MODEL_84ca513bdef84813aaec11815648549b",
       "msg_id": "",
       "outputs": [
        {
         "data": {
          "text/markdown": "`unitary_block_encoding`",
          "text/plain": "<IPython.core.display.Markdown object>"
         },
         "metadata": {},
         "output_type": "display_data"
        },
        {
         "data": {
          "image/svg+xml": "<svg xmlns=\"http://www.w3.org/2000/svg\" xmlns:xlink=\"http://www.w3.org/1999/xlink\" width=\"237pt\" height=\"54pt\" viewBox=\"0.00 0.00 237.00 54.00\">\n<g id=\"graph0\" class=\"graph\" transform=\"scale(1 1) rotate(0) translate(4 50)\">\n<title>my_graph</title>\n<polygon fill=\"white\" stroke=\"transparent\" points=\"-4,4 -4,-50 233,-50 233,4 -4,4\"/>\n<!-- system_G0 -->\n<g id=\"node1\" class=\"node\">\n<title>system_G0</title>\n<text text-anchor=\"middle\" x=\"27.5\" y=\"-14.3\" font-family=\"Times,serif\" font-size=\"14.00\">system</text>\n</g>\n<!-- Unitary -->\n<g id=\"node2\" class=\"node\">\n<title>Unitary</title>\n<polygon fill=\"none\" stroke=\"black\" points=\"92.5,-29 92.5,-46 137.5,-46 137.5,-29 92.5,-29\"/>\n<text text-anchor=\"start\" x=\"105.5\" y=\"-35\" font-family=\"Times,serif\" font-size=\"10.00\">B[T]</text>\n<polygon fill=\"none\" stroke=\"black\" points=\"92.5,-8 92.5,-29 137.5,-29 137.5,-8 92.5,-8\"/>\n<text text-anchor=\"start\" x=\"95.5\" y=\"-14.8\" font-family=\"Times,serif\" font-size=\"14.00\">system</text>\n</g>\n<!-- system_G0&#45;&gt;Unitary -->\n<g id=\"edge1\" class=\"edge\">\n<title>system_G0:e-&gt;Unitary:w</title>\n<path fill=\"none\" stroke=\"black\" d=\"M55,-18C70.67,-18 75.14,-18 89.77,-18\"/>\n<ellipse fill=\"black\" stroke=\"black\" cx=\"91\" cy=\"-18\" rx=\"1\" ry=\"1\"/>\n<text text-anchor=\"middle\" x=\"73.5\" y=\"-21\" font-family=\"Times,serif\" font-size=\"10.00\">1</text>\n</g>\n<!-- system_G2 -->\n<g id=\"node3\" class=\"node\">\n<title>system_G2</title>\n<text text-anchor=\"middle\" x=\"201.5\" y=\"-14.3\" font-family=\"Times,serif\" font-size=\"14.00\">system</text>\n</g>\n<!-- Unitary&#45;&gt;system_G2 -->\n<g id=\"edge2\" class=\"edge\">\n<title>Unitary:e-&gt;system_G2:w</title>\n<path fill=\"none\" stroke=\"black\" d=\"M137,-18C152.67,-18 157.14,-18 171.77,-18\"/>\n<ellipse fill=\"black\" stroke=\"black\" cx=\"173\" cy=\"-18\" rx=\"1\" ry=\"1\"/>\n<text text-anchor=\"middle\" x=\"155.5\" y=\"-21\" font-family=\"Times,serif\" font-size=\"10.00\">1</text>\n</g>\n</g>\n</svg>",
          "text/plain": "<IPython.core.display.SVG object>"
         },
         "metadata": {},
         "output_type": "display_data"
        }
       ],
       "tabbable": null,
       "tooltip": null
      }
     },
     "84ca513bdef84813aaec11815648549b": {
      "model_module": "@jupyter-widgets/base",
      "model_module_version": "2.0.0",
      "model_name": "LayoutModel",
      "state": {
       "_model_module": "@jupyter-widgets/base",
       "_model_module_version": "2.0.0",
       "_model_name": "LayoutModel",
       "_view_count": null,
       "_view_module": "@jupyter-widgets/base",
       "_view_module_version": "2.0.0",
       "_view_name": "LayoutView",
       "align_content": null,
       "align_items": null,
       "align_self": null,
       "border_bottom": null,
       "border_left": null,
       "border_right": null,
       "border_top": null,
       "bottom": null,
       "display": null,
       "flex": null,
       "flex_flow": null,
       "grid_area": null,
       "grid_auto_columns": null,
       "grid_auto_flow": null,
       "grid_auto_rows": null,
       "grid_column": null,
       "grid_gap": null,
       "grid_row": null,
       "grid_template_areas": null,
       "grid_template_columns": null,
       "grid_template_rows": null,
       "height": null,
       "justify_content": null,
       "justify_items": null,
       "left": null,
       "margin": null,
       "max_height": null,
       "max_width": null,
       "min_height": null,
       "min_width": null,
       "object_fit": null,
       "object_position": null,
       "order": null,
       "overflow": null,
       "padding": null,
       "right": null,
       "top": null,
       "visibility": null,
       "width": null
      }
     },
     "ad3cb3057c5d49d0b2cf364d1d435b65": {
      "model_module": "@jupyter-widgets/base",
      "model_module_version": "2.0.0",
      "model_name": "LayoutModel",
      "state": {
       "_model_module": "@jupyter-widgets/base",
       "_model_module_version": "2.0.0",
       "_model_name": "LayoutModel",
       "_view_count": null,
       "_view_module": "@jupyter-widgets/base",
       "_view_module_version": "2.0.0",
       "_view_name": "LayoutView",
       "align_content": null,
       "align_items": null,
       "align_self": null,
       "border_bottom": null,
       "border_left": null,
       "border_right": null,
       "border_top": null,
       "bottom": null,
       "display": null,
       "flex": null,
       "flex_flow": null,
       "grid_area": null,
       "grid_auto_columns": null,
       "grid_auto_flow": null,
       "grid_auto_rows": null,
       "grid_column": null,
       "grid_gap": null,
       "grid_row": null,
       "grid_template_areas": null,
       "grid_template_columns": null,
       "grid_template_rows": null,
       "height": null,
       "justify_content": null,
       "justify_items": null,
       "left": null,
       "margin": null,
       "max_height": null,
       "max_width": null,
       "min_height": null,
       "min_width": null,
       "object_fit": null,
       "object_position": null,
       "order": null,
       "overflow": null,
       "padding": null,
       "right": null,
       "top": null,
       "visibility": null,
       "width": null
      }
     }
    },
    "version_major": 2,
    "version_minor": 0
   }
  }
 },
 "nbformat": 4,
 "nbformat_minor": 5
}
