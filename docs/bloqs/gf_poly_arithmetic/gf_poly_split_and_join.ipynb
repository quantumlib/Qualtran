{
 "cells": [
  {
   "cell_type": "markdown",
   "id": "5c112e3c",
   "metadata": {
    "cq.autogen": "title_cell"
   },
   "source": [
    "# Polynomials over GF($p^m$) - Split and Join"
   ]
  },
  {
   "cell_type": "code",
   "execution_count": 1,
   "id": "fa73d48d",
   "metadata": {
    "cq.autogen": "top_imports"
   },
   "outputs": [],
   "source": [
    "from qualtran import Bloq, CompositeBloq, BloqBuilder, Signature, Register\n",
    "from qualtran import QBit, QInt, QUInt, QAny\n",
    "from qualtran.drawing import show_bloq, show_call_graph, show_counts_sigma\n",
    "from typing import *\n",
    "import numpy as np\n",
    "import sympy\n",
    "import cirq"
   ]
  },
  {
   "cell_type": "markdown",
   "id": "bc9d0e45",
   "metadata": {
    "cq.autogen": "GFPolySplit.bloq_doc.md"
   },
   "source": [
    "## `GFPolySplit`\n",
    "Split a register representing coefficients of a polynomial into an array of `QGF` types.\n",
    "\n",
    "A register of type `QGFPoly` represents a univariate polynomial $f(x)$ with coefficients in a\n",
    "galois field GF($p^m$). Given an input quantum register representing a degree $n$ polynomial\n",
    "$f(x)$, this bloq splits it into $n + 1$ registers of type $QGF(p, m)$.\n",
    "\n",
    "Given a polynomial\n",
    "$$\n",
    "    f(x) = \\sum_{i = 0}^{n} a_{i} x^{i} \\\\ \\forall a_{i} \\in GF(p^m)\n",
    "$$\n",
    "\n",
    "the bloq splits it into a big-endian representation such that\n",
    "$$\n",
    "    \\ket{f(x)} \\xrightarrow{\\text{split}} \\ket{a_{n}}\\ket{a_{n - 1}} \\cdots \\ket{a_0}\n",
    "$$\n",
    "\n",
    "See `GFPolyJoin` for the inverse operation.\n",
    "\n",
    "#### Parameters\n",
    " - `dtype`: An instance of `QGFPoly` type that represents a degree $n$ polynomial defined over a galois field GF($p^m$). \n",
    "\n",
    "#### Registers\n",
    " - `reg`: The register to be split. On its left, it is of the type `qgf_poly`. On the right, it is an array of `QGF`s of shape `(qgf_poly.degree + 1,)`.\n"
   ]
  },
  {
   "cell_type": "code",
   "execution_count": 2,
   "id": "f4ec23cc",
   "metadata": {
    "cq.autogen": "GFPolySplit.bloq_doc.py"
   },
   "outputs": [],
   "source": [
    "from qualtran.bloqs.gf_poly_arithmetic import GFPolySplit"
   ]
  },
  {
   "cell_type": "markdown",
   "id": "99406fdd",
   "metadata": {
    "cq.autogen": "GFPolySplit.example_instances.md"
   },
   "source": [
    "### Example Instances"
   ]
  },
  {
   "cell_type": "code",
   "execution_count": 3,
   "id": "3b1e7f86",
   "metadata": {
    "cq.autogen": "GFPolySplit.gf_poly_split"
   },
   "outputs": [],
   "source": [
    "from qualtran import QGF, QGFPoly\n",
    "\n",
    "gf_poly_split = GFPolySplit(QGFPoly(4, QGF(2, 3)))"
   ]
  },
  {
   "cell_type": "markdown",
   "id": "4067682b",
   "metadata": {
    "cq.autogen": "GFPolySplit.graphical_signature.md"
   },
   "source": [
    "#### Graphical Signature"
   ]
  },
  {
   "cell_type": "code",
   "execution_count": 4,
   "id": "0f323719",
   "metadata": {
    "cq.autogen": "GFPolySplit.graphical_signature.py"
   },
   "outputs": [
    {
     "data": {
      "application/vnd.jupyter.widget-view+json": {
       "model_id": "8a9950f6d168442a8e27effa6d40820b",
       "version_major": 2,
       "version_minor": 0
      },
      "text/plain": [
       "HBox(children=(Output(outputs=({'output_type': 'display_data', 'data': {'text/plain': '<IPython.core.display.M…"
      ]
     },
     "metadata": {},
     "output_type": "display_data"
    }
   ],
   "source": [
    "from qualtran.drawing import show_bloqs\n",
    "show_bloqs([gf_poly_split],\n",
    "           ['`gf_poly_split`'])"
   ]
  },
  {
   "cell_type": "markdown",
   "id": "988becd9",
   "metadata": {
    "cq.autogen": "GFPolyJoin.bloq_doc.md"
   },
   "source": [
    "## `GFPolyJoin`\n",
    "Join $n+1$ registers representing coefficients of a polynomial into a `QGFPoly` type.\n",
    "\n",
    "A register of type `QGFPoly` represents a univariate polynomial $f(x)$ with coefficients in a\n",
    "galois field GF($p^m$). Given an input quantum register of shape (n + 1,) and type `QGF`\n",
    "representing coefficients of a degree $n$ polynomial $f(x)$, this bloq joins it into\n",
    "a register of type `QGFPoly`.\n",
    "\n",
    "Given a polynomial\n",
    "$$\n",
    "    f(x) = \\sum_{i = 0}^{n} a_{i} x^{i} \\\\ \\forall a_{i} \\in GF(p^m)\n",
    "$$\n",
    "\n",
    "the bloq joins registers representing coefficients of the polynomial in big-endian representation\n",
    "such that\n",
    "$$\n",
    "    \\ket{a_{n}}\\ket{a_{n - 1}} \\cdots \\ket{a_0} \\xrightarrow{\\text{join}} \\ket{f(x)}\n",
    "$$\n",
    "\n",
    "See `GFPolySplit` for the inverse operation.\n",
    "\n",
    "#### Parameters\n",
    " - `dtype`: An instance of `QGFPoly` type that represents a degree $n$ polynomial defined over a galois field GF($p^m$). \n",
    "\n",
    "#### Registers\n",
    " - `reg`: The register to be joined. On its left, it is an array of `QGF`s of shape `(qgf_poly.degree + 1,)`. On the right, it is of the type `qgf_poly`.\n"
   ]
  },
  {
   "cell_type": "code",
   "execution_count": 5,
   "id": "97ecef9a",
   "metadata": {
    "cq.autogen": "GFPolyJoin.bloq_doc.py"
   },
   "outputs": [],
   "source": [
    "from qualtran.bloqs.gf_poly_arithmetic import GFPolyJoin"
   ]
  },
  {
   "cell_type": "markdown",
   "id": "dbeba5fc",
   "metadata": {
    "cq.autogen": "GFPolyJoin.example_instances.md"
   },
   "source": [
    "### Example Instances"
   ]
  },
  {
   "cell_type": "code",
   "execution_count": 6,
   "id": "99cf9a48",
   "metadata": {
    "cq.autogen": "GFPolyJoin.gf_poly_join"
   },
   "outputs": [],
   "source": [
    "from qualtran import QGF, QGFPoly\n",
    "\n",
    "gf_poly_join = GFPolyJoin(QGFPoly(4, QGF(2, 3)))"
   ]
  },
  {
   "cell_type": "markdown",
   "id": "9dcb3e99",
   "metadata": {
    "cq.autogen": "GFPolyJoin.graphical_signature.md"
   },
   "source": [
    "#### Graphical Signature"
   ]
  },
  {
   "cell_type": "code",
   "execution_count": 7,
   "id": "be92a58c",
   "metadata": {
    "cq.autogen": "GFPolyJoin.graphical_signature.py"
   },
   "outputs": [
    {
     "data": {
      "application/vnd.jupyter.widget-view+json": {
       "model_id": "996a0d626015410a963eb16291919f37",
       "version_major": 2,
       "version_minor": 0
      },
      "text/plain": [
       "HBox(children=(Output(outputs=({'output_type': 'display_data', 'data': {'text/plain': '<IPython.core.display.M…"
      ]
     },
     "metadata": {},
     "output_type": "display_data"
    }
   ],
   "source": [
    "from qualtran.drawing import show_bloqs\n",
    "show_bloqs([gf_poly_join],\n",
    "           ['`gf_poly_join`'])"
   ]
  }
 ],
 "metadata": {
  "kernelspec": {
   "display_name": "Python 3",
   "language": "python",
   "name": "python3"
  },
  "language_info": {
   "codemirror_mode": {
    "name": "ipython",
    "version": 3
   },
   "file_extension": ".py",
   "mimetype": "text/x-python",
   "name": "python",
   "nbconvert_exporter": "python",
   "pygments_lexer": "ipython3",
   "version": "3.11.8"
  },
  "widgets": {
   "application/vnd.jupyter.widget-state+json": {
    "state": {
     "6039463c733d4ca39811446becccdfb6": {
      "model_module": "@jupyter-widgets/output",
      "model_module_version": "1.0.0",
      "model_name": "OutputModel",
      "state": {
       "_dom_classes": [],
       "_model_module": "@jupyter-widgets/output",
       "_model_module_version": "1.0.0",
       "_model_name": "OutputModel",
       "_view_count": null,
       "_view_module": "@jupyter-widgets/output",
       "_view_module_version": "1.0.0",
       "_view_name": "OutputView",
       "layout": "IPY_MODEL_d9f6942acc7b483eb1e1844142c51481",
       "msg_id": "",
       "outputs": [
        {
         "data": {
          "text/markdown": "`gf_poly_split`",
          "text/plain": "<IPython.core.display.Markdown object>"
         },
         "metadata": {},
         "output_type": "display_data"
        },
        {
         "data": {
          "image/svg+xml": "<svg xmlns=\"http://www.w3.org/2000/svg\" xmlns:xlink=\"http://www.w3.org/1999/xlink\" width=\"254pt\" height=\"260pt\" viewBox=\"0.00 0.00 254.00 260.00\">\n<g id=\"graph0\" class=\"graph\" transform=\"scale(1 1) rotate(0) translate(4 256)\">\n<title>my_graph</title>\n<polygon fill=\"white\" stroke=\"transparent\" points=\"-4,4 -4,-256 250,-256 250,4 -4,4\"/>\n<!-- reg_G6 -->\n<g id=\"node1\" class=\"node\">\n<title>reg_G6</title>\n<text text-anchor=\"middle\" x=\"27\" y=\"-122.3\" font-family=\"Times,serif\" font-size=\"14.00\">reg</text>\n</g>\n<!-- GFPolySplit -->\n<g id=\"node2\" class=\"node\">\n<title>GFPolySplit</title>\n<polygon fill=\"none\" stroke=\"black\" points=\"91,-179 91,-196 155,-196 155,-179 91,-179\"/>\n<text text-anchor=\"start\" x=\"97\" y=\"-185\" font-family=\"Times,serif\" font-size=\"10.00\">GFPolySplit</text>\n<polygon fill=\"none\" stroke=\"black\" points=\"91,-74 91,-179 115,-179 115,-74 91,-74\"/>\n<text text-anchor=\"start\" x=\"94\" y=\"-122.8\" font-family=\"Times,serif\" font-size=\"14.00\">reg</text>\n<polygon fill=\"none\" stroke=\"black\" points=\"115,-158 115,-179 155,-179 155,-158 115,-158\"/>\n<text text-anchor=\"start\" x=\"118\" y=\"-164.8\" font-family=\"Times,serif\" font-size=\"14.00\">reg[0]</text>\n<polygon fill=\"none\" stroke=\"black\" points=\"115,-137 115,-158 155,-158 155,-137 115,-137\"/>\n<text text-anchor=\"start\" x=\"118\" y=\"-143.8\" font-family=\"Times,serif\" font-size=\"14.00\">reg[1]</text>\n<polygon fill=\"none\" stroke=\"black\" points=\"115,-116 115,-137 155,-137 155,-116 115,-116\"/>\n<text text-anchor=\"start\" x=\"118\" y=\"-122.8\" font-family=\"Times,serif\" font-size=\"14.00\">reg[2]</text>\n<polygon fill=\"none\" stroke=\"black\" points=\"115,-95 115,-116 155,-116 155,-95 115,-95\"/>\n<text text-anchor=\"start\" x=\"118\" y=\"-101.8\" font-family=\"Times,serif\" font-size=\"14.00\">reg[3]</text>\n<polygon fill=\"none\" stroke=\"black\" points=\"115,-74 115,-95 155,-95 155,-74 115,-74\"/>\n<text text-anchor=\"start\" x=\"118\" y=\"-80.8\" font-family=\"Times,serif\" font-size=\"14.00\">reg[4]</text>\n</g>\n<!-- reg_G6&#45;&gt;GFPolySplit -->\n<g id=\"edge1\" class=\"edge\">\n<title>reg_G6:e-&gt;GFPolySplit:w</title>\n<path fill=\"none\" stroke=\"black\" d=\"M54,-126C69.67,-126 74.14,-126 88.77,-126\"/>\n<ellipse fill=\"black\" stroke=\"black\" cx=\"90\" cy=\"-126\" rx=\"1\" ry=\"1\"/>\n<text text-anchor=\"middle\" x=\"72.5\" y=\"-129\" font-family=\"Times,serif\" font-size=\"10.00\">15</text>\n</g>\n<!-- reg_G5 -->\n<g id=\"node3\" class=\"node\">\n<title>reg_G5</title>\n<text text-anchor=\"middle\" x=\"219\" y=\"-230.3\" font-family=\"Times,serif\" font-size=\"14.00\">reg[0]</text>\n</g>\n<!-- GFPolySplit&#45;&gt;reg_G5 -->\n<g id=\"edge2\" class=\"edge\">\n<title>GFPolySplit:e-&gt;reg_G5:w</title>\n<path fill=\"none\" stroke=\"black\" d=\"M155,-169C187.46,-169 160.11,-230.99 189.76,-233.89\"/>\n<ellipse fill=\"black\" stroke=\"black\" cx=\"191\" cy=\"-233.95\" rx=\"1\" ry=\"1\"/>\n<text text-anchor=\"middle\" x=\"173.5\" y=\"-210\" font-family=\"Times,serif\" font-size=\"10.00\">3</text>\n</g>\n<!-- reg_G2 -->\n<g id=\"node4\" class=\"node\">\n<title>reg_G2</title>\n<text text-anchor=\"middle\" x=\"219\" y=\"-176.3\" font-family=\"Times,serif\" font-size=\"14.00\">reg[1]</text>\n</g>\n<!-- GFPolySplit&#45;&gt;reg_G2 -->\n<g id=\"edge3\" class=\"edge\">\n<title>GFPolySplit:e-&gt;reg_G2:w</title>\n<path fill=\"none\" stroke=\"black\" d=\"M155,-148C175.89,-148 170.72,-177.55 189.58,-179.86\"/>\n<ellipse fill=\"black\" stroke=\"black\" cx=\"191\" cy=\"-179.94\" rx=\"1\" ry=\"1\"/>\n<text text-anchor=\"middle\" x=\"173.5\" y=\"-167\" font-family=\"Times,serif\" font-size=\"10.00\">3</text>\n</g>\n<!-- reg_G8 -->\n<g id=\"node5\" class=\"node\">\n<title>reg_G8</title>\n<text text-anchor=\"middle\" x=\"219\" y=\"-122.3\" font-family=\"Times,serif\" font-size=\"14.00\">reg[2]</text>\n</g>\n<!-- GFPolySplit&#45;&gt;reg_G8 -->\n<g id=\"edge4\" class=\"edge\">\n<title>GFPolySplit:e-&gt;reg_G8:w</title>\n<path fill=\"none\" stroke=\"black\" d=\"M155,-126C170.67,-126 175.14,-126 189.77,-126\"/>\n<ellipse fill=\"black\" stroke=\"black\" cx=\"191\" cy=\"-126\" rx=\"1\" ry=\"1\"/>\n<text text-anchor=\"middle\" x=\"173.5\" y=\"-129\" font-family=\"Times,serif\" font-size=\"10.00\">3</text>\n</g>\n<!-- reg_G4 -->\n<g id=\"node6\" class=\"node\">\n<title>reg_G4</title>\n<text text-anchor=\"middle\" x=\"219\" y=\"-68.3\" font-family=\"Times,serif\" font-size=\"14.00\">reg[3]</text>\n</g>\n<!-- GFPolySplit&#45;&gt;reg_G4 -->\n<g id=\"edge5\" class=\"edge\">\n<title>GFPolySplit:e-&gt;reg_G4:w</title>\n<path fill=\"none\" stroke=\"black\" d=\"M155,-105C176.17,-105 170.47,-74.53 189.55,-72.15\"/>\n<ellipse fill=\"black\" stroke=\"black\" cx=\"191\" cy=\"-72.06\" rx=\"1\" ry=\"1\"/>\n<text text-anchor=\"middle\" x=\"173.5\" y=\"-92\" font-family=\"Times,serif\" font-size=\"10.00\">3</text>\n</g>\n<!-- reg_G3 -->\n<g id=\"node7\" class=\"node\">\n<title>reg_G3</title>\n<text text-anchor=\"middle\" x=\"219\" y=\"-14.3\" font-family=\"Times,serif\" font-size=\"14.00\">reg[4]</text>\n</g>\n<!-- GFPolySplit&#45;&gt;reg_G3 -->\n<g id=\"edge6\" class=\"edge\">\n<title>GFPolySplit:e-&gt;reg_G3:w</title>\n<path fill=\"none\" stroke=\"black\" d=\"M155,-84C187.84,-84 159.75,-21.06 189.74,-18.11\"/>\n<ellipse fill=\"black\" stroke=\"black\" cx=\"191\" cy=\"-18.05\" rx=\"1\" ry=\"1\"/>\n<text text-anchor=\"middle\" x=\"173.5\" y=\"-62\" font-family=\"Times,serif\" font-size=\"10.00\">3</text>\n</g>\n</g>\n</svg>",
          "text/plain": "<IPython.core.display.SVG object>"
         },
         "metadata": {},
         "output_type": "display_data"
        }
       ],
       "tabbable": null,
       "tooltip": null
      }
     },
     "7cd72e27407e42eca7cf368b861183d5": {
      "model_module": "@jupyter-widgets/output",
      "model_module_version": "1.0.0",
      "model_name": "OutputModel",
      "state": {
       "_dom_classes": [],
       "_model_module": "@jupyter-widgets/output",
       "_model_module_version": "1.0.0",
       "_model_name": "OutputModel",
       "_view_count": null,
       "_view_module": "@jupyter-widgets/output",
       "_view_module_version": "1.0.0",
       "_view_name": "OutputView",
       "layout": "IPY_MODEL_e26cfae8a725425ab0a2253120368074",
       "msg_id": "",
       "outputs": [
        {
         "data": {
          "text/markdown": "`gf_poly_join`",
          "text/plain": "<IPython.core.display.Markdown object>"
         },
         "metadata": {},
         "output_type": "display_data"
        },
        {
         "data": {
          "image/svg+xml": "<svg xmlns=\"http://www.w3.org/2000/svg\" xmlns:xlink=\"http://www.w3.org/1999/xlink\" width=\"254pt\" height=\"260pt\" viewBox=\"0.00 0.00 254.00 260.00\">\n<g id=\"graph0\" class=\"graph\" transform=\"scale(1 1) rotate(0) translate(4 256)\">\n<title>my_graph</title>\n<polygon fill=\"white\" stroke=\"transparent\" points=\"-4,4 -4,-256 250,-256 250,4 -4,4\"/>\n<!-- reg_G2 -->\n<g id=\"node1\" class=\"node\">\n<title>reg_G2</title>\n<text text-anchor=\"middle\" x=\"27\" y=\"-230.3\" font-family=\"Times,serif\" font-size=\"14.00\">reg[0]</text>\n</g>\n<!-- GFPolyJoin -->\n<g id=\"node6\" class=\"node\">\n<title>GFPolyJoin</title>\n<polygon fill=\"none\" stroke=\"black\" points=\"91,-179 91,-196 155,-196 155,-179 91,-179\"/>\n<text text-anchor=\"start\" x=\"98.5\" y=\"-185\" font-family=\"Times,serif\" font-size=\"10.00\">GFPolyJoin</text>\n<polygon fill=\"none\" stroke=\"black\" points=\"91,-158 91,-179 131,-179 131,-158 91,-158\"/>\n<text text-anchor=\"start\" x=\"94\" y=\"-164.8\" font-family=\"Times,serif\" font-size=\"14.00\">reg[0]</text>\n<polygon fill=\"none\" stroke=\"black\" points=\"131,-74 131,-179 155,-179 155,-74 131,-74\"/>\n<text text-anchor=\"start\" x=\"134\" y=\"-122.8\" font-family=\"Times,serif\" font-size=\"14.00\">reg</text>\n<polygon fill=\"none\" stroke=\"black\" points=\"91,-137 91,-158 131,-158 131,-137 91,-137\"/>\n<text text-anchor=\"start\" x=\"94\" y=\"-143.8\" font-family=\"Times,serif\" font-size=\"14.00\">reg[1]</text>\n<polygon fill=\"none\" stroke=\"black\" points=\"91,-116 91,-137 131,-137 131,-116 91,-116\"/>\n<text text-anchor=\"start\" x=\"94\" y=\"-122.8\" font-family=\"Times,serif\" font-size=\"14.00\">reg[2]</text>\n<polygon fill=\"none\" stroke=\"black\" points=\"91,-95 91,-116 131,-116 131,-95 91,-95\"/>\n<text text-anchor=\"start\" x=\"94\" y=\"-101.8\" font-family=\"Times,serif\" font-size=\"14.00\">reg[3]</text>\n<polygon fill=\"none\" stroke=\"black\" points=\"91,-74 91,-95 131,-95 131,-74 91,-74\"/>\n<text text-anchor=\"start\" x=\"94\" y=\"-80.8\" font-family=\"Times,serif\" font-size=\"14.00\">reg[4]</text>\n</g>\n<!-- reg_G2&#45;&gt;GFPolyJoin -->\n<g id=\"edge1\" class=\"edge\">\n<title>reg_G2:e-&gt;GFPolyJoin:w</title>\n<path fill=\"none\" stroke=\"black\" d=\"M54,-234C86.46,-234 59.11,-172.01 88.76,-169.11\"/>\n<ellipse fill=\"black\" stroke=\"black\" cx=\"90\" cy=\"-169.05\" rx=\"1\" ry=\"1\"/>\n<text text-anchor=\"middle\" x=\"72.5\" y=\"-210\" font-family=\"Times,serif\" font-size=\"10.00\">3</text>\n</g>\n<!-- reg_G11 -->\n<g id=\"node2\" class=\"node\">\n<title>reg_G11</title>\n<text text-anchor=\"middle\" x=\"27\" y=\"-176.3\" font-family=\"Times,serif\" font-size=\"14.00\">reg[1]</text>\n</g>\n<!-- reg_G11&#45;&gt;GFPolyJoin -->\n<g id=\"edge2\" class=\"edge\">\n<title>reg_G11:e-&gt;GFPolyJoin:w</title>\n<path fill=\"none\" stroke=\"black\" d=\"M54,-180C74.89,-180 69.72,-150.45 88.58,-148.14\"/>\n<ellipse fill=\"black\" stroke=\"black\" cx=\"90\" cy=\"-148.06\" rx=\"1\" ry=\"1\"/>\n<text text-anchor=\"middle\" x=\"72.5\" y=\"-167\" font-family=\"Times,serif\" font-size=\"10.00\">3</text>\n</g>\n<!-- reg_G6 -->\n<g id=\"node3\" class=\"node\">\n<title>reg_G6</title>\n<text text-anchor=\"middle\" x=\"27\" y=\"-122.3\" font-family=\"Times,serif\" font-size=\"14.00\">reg[2]</text>\n</g>\n<!-- reg_G6&#45;&gt;GFPolyJoin -->\n<g id=\"edge3\" class=\"edge\">\n<title>reg_G6:e-&gt;GFPolyJoin:w</title>\n<path fill=\"none\" stroke=\"black\" d=\"M54,-126C69.67,-126 74.14,-126 88.77,-126\"/>\n<ellipse fill=\"black\" stroke=\"black\" cx=\"90\" cy=\"-126\" rx=\"1\" ry=\"1\"/>\n<text text-anchor=\"middle\" x=\"72.5\" y=\"-129\" font-family=\"Times,serif\" font-size=\"10.00\">3</text>\n</g>\n<!-- reg_G0 -->\n<g id=\"node4\" class=\"node\">\n<title>reg_G0</title>\n<text text-anchor=\"middle\" x=\"27\" y=\"-68.3\" font-family=\"Times,serif\" font-size=\"14.00\">reg[3]</text>\n</g>\n<!-- reg_G0&#45;&gt;GFPolyJoin -->\n<g id=\"edge4\" class=\"edge\">\n<title>reg_G0:e-&gt;GFPolyJoin:w</title>\n<path fill=\"none\" stroke=\"black\" d=\"M54,-72C75.17,-72 69.47,-102.47 88.55,-104.85\"/>\n<ellipse fill=\"black\" stroke=\"black\" cx=\"90\" cy=\"-104.94\" rx=\"1\" ry=\"1\"/>\n<text text-anchor=\"middle\" x=\"72.5\" y=\"-92\" font-family=\"Times,serif\" font-size=\"10.00\">3</text>\n</g>\n<!-- reg_G8 -->\n<g id=\"node5\" class=\"node\">\n<title>reg_G8</title>\n<text text-anchor=\"middle\" x=\"27\" y=\"-14.3\" font-family=\"Times,serif\" font-size=\"14.00\">reg[4]</text>\n</g>\n<!-- reg_G8&#45;&gt;GFPolyJoin -->\n<g id=\"edge5\" class=\"edge\">\n<title>reg_G8:e-&gt;GFPolyJoin:w</title>\n<path fill=\"none\" stroke=\"black\" d=\"M54,-18C86.84,-18 58.75,-80.94 88.74,-83.89\"/>\n<ellipse fill=\"black\" stroke=\"black\" cx=\"90\" cy=\"-83.95\" rx=\"1\" ry=\"1\"/>\n<text text-anchor=\"middle\" x=\"72.5\" y=\"-62\" font-family=\"Times,serif\" font-size=\"10.00\">3</text>\n</g>\n<!-- reg_G7 -->\n<g id=\"node7\" class=\"node\">\n<title>reg_G7</title>\n<text text-anchor=\"middle\" x=\"219\" y=\"-122.3\" font-family=\"Times,serif\" font-size=\"14.00\">reg</text>\n</g>\n<!-- GFPolyJoin&#45;&gt;reg_G7 -->\n<g id=\"edge6\" class=\"edge\">\n<title>GFPolyJoin:e-&gt;reg_G7:w</title>\n<path fill=\"none\" stroke=\"black\" d=\"M155,-126C170.67,-126 175.14,-126 189.77,-126\"/>\n<ellipse fill=\"black\" stroke=\"black\" cx=\"191\" cy=\"-126\" rx=\"1\" ry=\"1\"/>\n<text text-anchor=\"middle\" x=\"173.5\" y=\"-129\" font-family=\"Times,serif\" font-size=\"10.00\">15</text>\n</g>\n</g>\n</svg>",
          "text/plain": "<IPython.core.display.SVG object>"
         },
         "metadata": {},
         "output_type": "display_data"
        }
       ],
       "tabbable": null,
       "tooltip": null
      }
     },
     "8a9950f6d168442a8e27effa6d40820b": {
      "model_module": "@jupyter-widgets/controls",
      "model_module_version": "2.0.0",
      "model_name": "HBoxModel",
      "state": {
       "_dom_classes": [],
       "_model_module": "@jupyter-widgets/controls",
       "_model_module_version": "2.0.0",
       "_model_name": "HBoxModel",
       "_view_count": null,
       "_view_module": "@jupyter-widgets/controls",
       "_view_module_version": "2.0.0",
       "_view_name": "HBoxView",
       "box_style": "",
       "children": [
        "IPY_MODEL_6039463c733d4ca39811446becccdfb6"
       ],
       "layout": "IPY_MODEL_f1dd3edd0f0d4f5da4c6455c1a461f71",
       "tabbable": null,
       "tooltip": null
      }
     },
     "996a0d626015410a963eb16291919f37": {
      "model_module": "@jupyter-widgets/controls",
      "model_module_version": "2.0.0",
      "model_name": "HBoxModel",
      "state": {
       "_dom_classes": [],
       "_model_module": "@jupyter-widgets/controls",
       "_model_module_version": "2.0.0",
       "_model_name": "HBoxModel",
       "_view_count": null,
       "_view_module": "@jupyter-widgets/controls",
       "_view_module_version": "2.0.0",
       "_view_name": "HBoxView",
       "box_style": "",
       "children": [
        "IPY_MODEL_7cd72e27407e42eca7cf368b861183d5"
       ],
       "layout": "IPY_MODEL_b27539564d934467a82cf7a45b352bc5",
       "tabbable": null,
       "tooltip": null
      }
     },
     "b27539564d934467a82cf7a45b352bc5": {
      "model_module": "@jupyter-widgets/base",
      "model_module_version": "2.0.0",
      "model_name": "LayoutModel",
      "state": {
       "_model_module": "@jupyter-widgets/base",
       "_model_module_version": "2.0.0",
       "_model_name": "LayoutModel",
       "_view_count": null,
       "_view_module": "@jupyter-widgets/base",
       "_view_module_version": "2.0.0",
       "_view_name": "LayoutView",
       "align_content": null,
       "align_items": null,
       "align_self": null,
       "border_bottom": null,
       "border_left": null,
       "border_right": null,
       "border_top": null,
       "bottom": null,
       "display": null,
       "flex": null,
       "flex_flow": null,
       "grid_area": null,
       "grid_auto_columns": null,
       "grid_auto_flow": null,
       "grid_auto_rows": null,
       "grid_column": null,
       "grid_gap": null,
       "grid_row": null,
       "grid_template_areas": null,
       "grid_template_columns": null,
       "grid_template_rows": null,
       "height": null,
       "justify_content": null,
       "justify_items": null,
       "left": null,
       "margin": null,
       "max_height": null,
       "max_width": null,
       "min_height": null,
       "min_width": null,
       "object_fit": null,
       "object_position": null,
       "order": null,
       "overflow": null,
       "padding": null,
       "right": null,
       "top": null,
       "visibility": null,
       "width": null
      }
     },
     "d9f6942acc7b483eb1e1844142c51481": {
      "model_module": "@jupyter-widgets/base",
      "model_module_version": "2.0.0",
      "model_name": "LayoutModel",
      "state": {
       "_model_module": "@jupyter-widgets/base",
       "_model_module_version": "2.0.0",
       "_model_name": "LayoutModel",
       "_view_count": null,
       "_view_module": "@jupyter-widgets/base",
       "_view_module_version": "2.0.0",
       "_view_name": "LayoutView",
       "align_content": null,
       "align_items": null,
       "align_self": null,
       "border_bottom": null,
       "border_left": null,
       "border_right": null,
       "border_top": null,
       "bottom": null,
       "display": null,
       "flex": null,
       "flex_flow": null,
       "grid_area": null,
       "grid_auto_columns": null,
       "grid_auto_flow": null,
       "grid_auto_rows": null,
       "grid_column": null,
       "grid_gap": null,
       "grid_row": null,
       "grid_template_areas": null,
       "grid_template_columns": null,
       "grid_template_rows": null,
       "height": null,
       "justify_content": null,
       "justify_items": null,
       "left": null,
       "margin": null,
       "max_height": null,
       "max_width": null,
       "min_height": null,
       "min_width": null,
       "object_fit": null,
       "object_position": null,
       "order": null,
       "overflow": null,
       "padding": null,
       "right": null,
       "top": null,
       "visibility": null,
       "width": null
      }
     },
     "e26cfae8a725425ab0a2253120368074": {
      "model_module": "@jupyter-widgets/base",
      "model_module_version": "2.0.0",
      "model_name": "LayoutModel",
      "state": {
       "_model_module": "@jupyter-widgets/base",
       "_model_module_version": "2.0.0",
       "_model_name": "LayoutModel",
       "_view_count": null,
       "_view_module": "@jupyter-widgets/base",
       "_view_module_version": "2.0.0",
       "_view_name": "LayoutView",
       "align_content": null,
       "align_items": null,
       "align_self": null,
       "border_bottom": null,
       "border_left": null,
       "border_right": null,
       "border_top": null,
       "bottom": null,
       "display": null,
       "flex": null,
       "flex_flow": null,
       "grid_area": null,
       "grid_auto_columns": null,
       "grid_auto_flow": null,
       "grid_auto_rows": null,
       "grid_column": null,
       "grid_gap": null,
       "grid_row": null,
       "grid_template_areas": null,
       "grid_template_columns": null,
       "grid_template_rows": null,
       "height": null,
       "justify_content": null,
       "justify_items": null,
       "left": null,
       "margin": null,
       "max_height": null,
       "max_width": null,
       "min_height": null,
       "min_width": null,
       "object_fit": null,
       "object_position": null,
       "order": null,
       "overflow": null,
       "padding": null,
       "right": null,
       "top": null,
       "visibility": null,
       "width": null
      }
     },
     "f1dd3edd0f0d4f5da4c6455c1a461f71": {
      "model_module": "@jupyter-widgets/base",
      "model_module_version": "2.0.0",
      "model_name": "LayoutModel",
      "state": {
       "_model_module": "@jupyter-widgets/base",
       "_model_module_version": "2.0.0",
       "_model_name": "LayoutModel",
       "_view_count": null,
       "_view_module": "@jupyter-widgets/base",
       "_view_module_version": "2.0.0",
       "_view_name": "LayoutView",
       "align_content": null,
       "align_items": null,
       "align_self": null,
       "border_bottom": null,
       "border_left": null,
       "border_right": null,
       "border_top": null,
       "bottom": null,
       "display": null,
       "flex": null,
       "flex_flow": null,
       "grid_area": null,
       "grid_auto_columns": null,
       "grid_auto_flow": null,
       "grid_auto_rows": null,
       "grid_column": null,
       "grid_gap": null,
       "grid_row": null,
       "grid_template_areas": null,
       "grid_template_columns": null,
       "grid_template_rows": null,
       "height": null,
       "justify_content": null,
       "justify_items": null,
       "left": null,
       "margin": null,
       "max_height": null,
       "max_width": null,
       "min_height": null,
       "min_width": null,
       "object_fit": null,
       "object_position": null,
       "order": null,
       "overflow": null,
       "padding": null,
       "right": null,
       "top": null,
       "visibility": null,
       "width": null
      }
     }
    },
    "version_major": 2,
    "version_minor": 0
   }
  }
 },
 "nbformat": 4,
 "nbformat_minor": 5
}
