{
 "cells": [
  {
   "cell_type": "markdown",
   "id": "71e0dbd8",
   "metadata": {
    "cq.autogen": "title_cell"
   },
   "source": [
    "# Polynomials over GF($2^m$) - Add Constant"
   ]
  },
  {
   "cell_type": "code",
   "execution_count": 1,
   "id": "c02448cd",
   "metadata": {
    "cq.autogen": "top_imports"
   },
   "outputs": [],
   "source": [
    "from qualtran import Bloq, CompositeBloq, BloqBuilder, Signature, Register\n",
    "from qualtran import QBit, QInt, QUInt, QAny\n",
    "from qualtran.drawing import show_bloq, show_call_graph, show_counts_sigma\n",
    "from typing import *\n",
    "import numpy as np\n",
    "import sympy\n",
    "import cirq"
   ]
  },
  {
   "cell_type": "markdown",
   "id": "a5f23a08",
   "metadata": {
    "cq.autogen": "GF2PolyAddK.bloq_doc.md"
   },
   "source": [
    "## `GF2PolyAddK`\n",
    "In place addition of a constant polynomial defined over GF($2^m$).\n",
    "\n",
    "The bloq implements in place addition of a classical constant polynomial $g(x)$ and\n",
    "a quantum register $|f(x)\\rangle$ storing coefficients of a degree-n polynomial defined\n",
    "over GF($2^m$). Addition in GF($2^m$) simply reduces to a component wise XOR, which can\n",
    "be implemented via X gates.\n",
    "\n",
    "$$\n",
    "    |f(x)\\rangle  \\rightarrow |f(x) + g(x)\\rangle\n",
    "$$\n",
    "\n",
    "#### Parameters\n",
    " - `qgf_poly`: An instance of `QGFPoly` type that defines the data type for quantum register $|f(x)\\rangle$ storing coefficients of a degree-n polynomial defined over GF($2^m$).\n",
    " - `g_x`: An instance of `galois.Poly` that specifies that constant polynomial g(x) defined over GF($2^m$) that should be added to the input register f(x). \n",
    "\n",
    "#### Registers\n",
    " - `f_x`: Input THRU register that stores coefficients of polynomial defined over $GF(2^m)$.\n"
   ]
  },
  {
   "cell_type": "code",
   "execution_count": 2,
   "id": "d40e23be",
   "metadata": {
    "cq.autogen": "GF2PolyAddK.bloq_doc.py"
   },
   "outputs": [],
   "source": [
    "from qualtran.bloqs.gf_poly_arithmetic import GF2PolyAddK"
   ]
  },
  {
   "cell_type": "markdown",
   "id": "101615d7",
   "metadata": {
    "cq.autogen": "GF2PolyAddK.example_instances.md"
   },
   "source": [
    "### Example Instances"
   ]
  },
  {
   "cell_type": "code",
   "execution_count": 3,
   "id": "2cc9165f",
   "metadata": {
    "cq.autogen": "GF2PolyAddK.gf2_poly_4_8_add_k"
   },
   "outputs": [],
   "source": [
    "from galois import Poly\n",
    "\n",
    "from qualtran import QGF, QGFPoly\n",
    "\n",
    "qgf_poly = QGFPoly(4, QGF(2, 3))\n",
    "g_x = Poly(qgf_poly.qgf.gf_type([1, 2, 3, 4, 5]))\n",
    "gf2_poly_4_8_add_k = GF2PolyAddK(qgf_poly, g_x)"
   ]
  },
  {
   "cell_type": "code",
   "execution_count": 4,
   "id": "9081edee",
   "metadata": {
    "cq.autogen": "GF2PolyAddK.gf2_poly_add_k_symbolic"
   },
   "outputs": [],
   "source": [
    "import sympy\n",
    "from galois import Poly\n",
    "\n",
    "from qualtran import QGF, QGFPoly\n",
    "\n",
    "n, m = sympy.symbols('n, m', positive=True, integers=True)\n",
    "qgf_poly = QGFPoly(n, QGF(2, m))\n",
    "gf2_poly_add_k_symbolic = GF2PolyAddK(qgf_poly, Poly([0, 0, 0, 0]))"
   ]
  },
  {
   "cell_type": "markdown",
   "id": "11a4d71f",
   "metadata": {
    "cq.autogen": "GF2PolyAddK.graphical_signature.md"
   },
   "source": [
    "#### Graphical Signature"
   ]
  },
  {
   "cell_type": "code",
   "execution_count": 5,
   "id": "66b4a211",
   "metadata": {
    "cq.autogen": "GF2PolyAddK.graphical_signature.py"
   },
   "outputs": [
    {
     "data": {
      "application/vnd.jupyter.widget-view+json": {
       "model_id": "281bec0dcd3946eab6be05274a6da138",
       "version_major": 2,
       "version_minor": 0
      },
      "text/plain": [
       "HBox(children=(Output(outputs=({'output_type': 'display_data', 'data': {'text/plain': '<IPython.core.display.M…"
      ]
     },
     "metadata": {},
     "output_type": "display_data"
    }
   ],
   "source": [
    "from qualtran.drawing import show_bloqs\n",
    "show_bloqs([gf2_poly_4_8_add_k, gf2_poly_add_k_symbolic],\n",
    "           ['`gf2_poly_4_8_add_k`', '`gf2_poly_add_k_symbolic`'])"
   ]
  },
  {
   "cell_type": "markdown",
   "id": "5940114d",
   "metadata": {
    "cq.autogen": "GF2PolyAddK.call_graph.md"
   },
   "source": [
    "### Call Graph"
   ]
  },
  {
   "cell_type": "code",
   "execution_count": 6,
   "id": "dffd364c",
   "metadata": {
    "cq.autogen": "GF2PolyAddK.call_graph.py"
   },
   "outputs": [
    {
     "data": {
      "image/svg+xml": [
       "<svg xmlns=\"http://www.w3.org/2000/svg\" xmlns:xlink=\"http://www.w3.org/1999/xlink\" width=\"634pt\" height=\"131pt\" viewBox=\"0.00 0.00 634.00 131.00\">\n",
       "<g id=\"graph0\" class=\"graph\" transform=\"scale(1 1) rotate(0) translate(4 127)\">\n",
       "<title>counts</title>\n",
       "<polygon fill=\"white\" stroke=\"transparent\" points=\"-4,4 -4,-127 630,-127 630,4 -4,4\"/>\n",
       "<!-- b0 -->\n",
       "<g id=\"node1\" class=\"node\">\n",
       "<title>b0</title>\n",
       "<polygon fill=\"none\" stroke=\"black\" points=\"282,-93 282,-116 358,-116 358,-93 282,-93\"/>\n",
       "<text text-anchor=\"start\" x=\"288.5\" y=\"-102\" font-family=\"Times,serif\" font-size=\"10.00\">GF2PolyAddK</text>\n",
       "</g>\n",
       "<!-- b1 -->\n",
       "<g id=\"node2\" class=\"node\">\n",
       "<title>b1</title>\n",
       "<polygon fill=\"none\" stroke=\"black\" points=\"8,-6 8,-29 70,-29 70,-6 8,-6\"/>\n",
       "<text text-anchor=\"start\" x=\"14.5\" y=\"-15\" font-family=\"Times,serif\" font-size=\"10.00\">GFPolyJoin</text>\n",
       "</g>\n",
       "<!-- b0&#45;&gt;b1 -->\n",
       "<g id=\"edge1\" class=\"edge\">\n",
       "<title>b0-&gt;b1</title>\n",
       "<path fill=\"none\" stroke=\"black\" d=\"M273.79,-91.34C228.73,-78.82 158.07,-58.68 88.1,-36.27\"/>\n",
       "<polygon fill=\"black\" stroke=\"black\" points=\"88.82,-32.83 78.23,-33.1 86.68,-39.49 88.82,-32.83\"/>\n",
       "<text text-anchor=\"middle\" x=\"199.5\" y=\"-57.8\" font-family=\"Times,serif\" font-size=\"14.00\">1</text>\n",
       "</g>\n",
       "<!-- b2 -->\n",
       "<g id=\"node3\" class=\"node\">\n",
       "<title>b2</title>\n",
       "<polygon fill=\"none\" stroke=\"black\" points=\"104,-6 104,-29 160,-29 160,-6 104,-6\"/>\n",
       "<text text-anchor=\"start\" x=\"110\" y=\"-15\" font-family=\"Times,serif\" font-size=\"10.00\">GF2AddK</text>\n",
       "</g>\n",
       "<!-- b0&#45;&gt;b2 -->\n",
       "<g id=\"edge2\" class=\"edge\">\n",
       "<title>b0-&gt;b2</title>\n",
       "<path fill=\"none\" stroke=\"black\" d=\"M281.96,-86.8C251.68,-73.11 209.24,-53.92 177.23,-39.45\"/>\n",
       "<polygon fill=\"black\" stroke=\"black\" points=\"178.63,-36.24 168.07,-35.31 175.74,-42.62 178.63,-36.24\"/>\n",
       "<text text-anchor=\"middle\" x=\"241.5\" y=\"-57.8\" font-family=\"Times,serif\" font-size=\"14.00\">1</text>\n",
       "</g>\n",
       "<!-- b3 -->\n",
       "<g id=\"node4\" class=\"node\">\n",
       "<title>b3</title>\n",
       "<polygon fill=\"none\" stroke=\"black\" points=\"194,-6 194,-29 258,-29 258,-6 194,-6\"/>\n",
       "<text text-anchor=\"start\" x=\"200\" y=\"-15\" font-family=\"Times,serif\" font-size=\"10.00\">GFPolySplit</text>\n",
       "</g>\n",
       "<!-- b0&#45;&gt;b3 -->\n",
       "<g id=\"edge3\" class=\"edge\">\n",
       "<title>b0-&gt;b3</title>\n",
       "<path fill=\"none\" stroke=\"black\" d=\"M300.98,-86.8C287.09,-74.24 268.08,-57.05 252.67,-43.12\"/>\n",
       "<polygon fill=\"black\" stroke=\"black\" points=\"254.76,-40.29 244.99,-36.18 250.06,-45.48 254.76,-40.29\"/>\n",
       "<text text-anchor=\"middle\" x=\"282.5\" y=\"-57.8\" font-family=\"Times,serif\" font-size=\"14.00\">1</text>\n",
       "</g>\n",
       "<!-- b4 -->\n",
       "<g id=\"node5\" class=\"node\">\n",
       "<title>b4</title>\n",
       "<polygon fill=\"none\" stroke=\"black\" points=\"292,-6 292,-29 348,-29 348,-6 292,-6\"/>\n",
       "<text text-anchor=\"start\" x=\"298\" y=\"-15\" font-family=\"Times,serif\" font-size=\"10.00\">GF2AddK</text>\n",
       "</g>\n",
       "<!-- b0&#45;&gt;b4 -->\n",
       "<g id=\"edge4\" class=\"edge\">\n",
       "<title>b0-&gt;b4</title>\n",
       "<path fill=\"none\" stroke=\"black\" d=\"M320,-86.8C320,-75.16 320,-59.55 320,-46.24\"/>\n",
       "<polygon fill=\"black\" stroke=\"black\" points=\"323.5,-46.18 320,-36.18 316.5,-46.18 323.5,-46.18\"/>\n",
       "<text text-anchor=\"middle\" x=\"323.5\" y=\"-57.8\" font-family=\"Times,serif\" font-size=\"14.00\">1</text>\n",
       "</g>\n",
       "<!-- b5 -->\n",
       "<g id=\"node6\" class=\"node\">\n",
       "<title>b5</title>\n",
       "<polygon fill=\"none\" stroke=\"black\" points=\"382,-6 382,-29 438,-29 438,-6 382,-6\"/>\n",
       "<text text-anchor=\"start\" x=\"388\" y=\"-15\" font-family=\"Times,serif\" font-size=\"10.00\">GF2AddK</text>\n",
       "</g>\n",
       "<!-- b0&#45;&gt;b5 -->\n",
       "<g id=\"edge5\" class=\"edge\">\n",
       "<title>b0-&gt;b5</title>\n",
       "<path fill=\"none\" stroke=\"black\" d=\"M338.21,-86.8C351.51,-74.24 369.71,-57.05 384.46,-43.12\"/>\n",
       "<polygon fill=\"black\" stroke=\"black\" points=\"386.95,-45.59 391.81,-36.18 382.14,-40.5 386.95,-45.59\"/>\n",
       "<text text-anchor=\"middle\" x=\"374.5\" y=\"-57.8\" font-family=\"Times,serif\" font-size=\"14.00\">1</text>\n",
       "</g>\n",
       "<!-- b6 -->\n",
       "<g id=\"node7\" class=\"node\">\n",
       "<title>b6</title>\n",
       "<polygon fill=\"none\" stroke=\"black\" points=\"472,-6 472,-29 528,-29 528,-6 472,-6\"/>\n",
       "<text text-anchor=\"start\" x=\"478\" y=\"-15\" font-family=\"Times,serif\" font-size=\"10.00\">GF2AddK</text>\n",
       "</g>\n",
       "<!-- b0&#45;&gt;b6 -->\n",
       "<g id=\"edge6\" class=\"edge\">\n",
       "<title>b0-&gt;b6</title>\n",
       "<path fill=\"none\" stroke=\"black\" d=\"M356.43,-86.8C384.82,-73.39 424.4,-54.7 454.81,-40.34\"/>\n",
       "<polygon fill=\"black\" stroke=\"black\" points=\"456.39,-43.47 463.94,-36.03 453.4,-37.14 456.39,-43.47\"/>\n",
       "<text text-anchor=\"middle\" x=\"423.5\" y=\"-57.8\" font-family=\"Times,serif\" font-size=\"14.00\">1</text>\n",
       "</g>\n",
       "<!-- b7 -->\n",
       "<g id=\"node8\" class=\"node\">\n",
       "<title>b7</title>\n",
       "<polygon fill=\"none\" stroke=\"black\" points=\"562,-6 562,-29 618,-29 618,-6 562,-6\"/>\n",
       "<text text-anchor=\"start\" x=\"568\" y=\"-15\" font-family=\"Times,serif\" font-size=\"10.00\">GF2AddK</text>\n",
       "</g>\n",
       "<!-- b0&#45;&gt;b7 -->\n",
       "<g id=\"edge7\" class=\"edge\">\n",
       "<title>b0-&gt;b7</title>\n",
       "<path fill=\"none\" stroke=\"black\" d=\"M366.4,-90.97C409.96,-78.52 477.09,-58.76 543.88,-36.28\"/>\n",
       "<polygon fill=\"black\" stroke=\"black\" points=\"545.38,-39.47 553.73,-32.94 543.13,-32.84 545.38,-39.47\"/>\n",
       "<text text-anchor=\"middle\" x=\"492.5\" y=\"-57.8\" font-family=\"Times,serif\" font-size=\"14.00\">1</text>\n",
       "</g>\n",
       "</g>\n",
       "</svg>"
      ],
      "text/plain": [
       "<IPython.core.display.SVG object>"
      ]
     },
     "metadata": {},
     "output_type": "display_data"
    },
    {
     "data": {
      "text/markdown": [
       "#### Counts totals:\n",
       " - `GF2AddK`: 1\n",
       " - `GF2AddK`: 1\n",
       " - `GF2AddK`: 1\n",
       " - `GF2AddK`: 1\n",
       " - `GF2AddK`: 1\n",
       " - `GFPolyJoin`: 1\n",
       " - `GFPolySplit`: 1"
      ],
      "text/plain": [
       "<IPython.core.display.Markdown object>"
      ]
     },
     "metadata": {},
     "output_type": "display_data"
    }
   ],
   "source": [
    "from qualtran.resource_counting.generalizers import ignore_split_join\n",
    "gf2_poly_4_8_add_k_g, gf2_poly_4_8_add_k_sigma = gf2_poly_4_8_add_k.call_graph(max_depth=1, generalizer=ignore_split_join)\n",
    "show_call_graph(gf2_poly_4_8_add_k_g)\n",
    "show_counts_sigma(gf2_poly_4_8_add_k_sigma)"
   ]
  }
 ],
 "metadata": {
  "kernelspec": {
   "display_name": "Python 3",
   "language": "python",
   "name": "python3"
  },
  "language_info": {
   "codemirror_mode": {
    "name": "ipython",
    "version": 3
   },
   "file_extension": ".py",
   "mimetype": "text/x-python",
   "name": "python",
   "nbconvert_exporter": "python",
   "pygments_lexer": "ipython3",
   "version": "3.11.8"
  },
  "widgets": {
   "application/vnd.jupyter.widget-state+json": {
    "state": {
     "281bec0dcd3946eab6be05274a6da138": {
      "model_module": "@jupyter-widgets/controls",
      "model_module_version": "2.0.0",
      "model_name": "HBoxModel",
      "state": {
       "_dom_classes": [],
       "_model_module": "@jupyter-widgets/controls",
       "_model_module_version": "2.0.0",
       "_model_name": "HBoxModel",
       "_view_count": null,
       "_view_module": "@jupyter-widgets/controls",
       "_view_module_version": "2.0.0",
       "_view_name": "HBoxView",
       "box_style": "",
       "children": [
        "IPY_MODEL_5d32f38be42f4bacb7840379a4360a7a",
        "IPY_MODEL_ee6d548c345440f4b3bd1a40ca28e459"
       ],
       "layout": "IPY_MODEL_8d0565c1fb52432294560e82bef4208e",
       "tabbable": null,
       "tooltip": null
      }
     },
     "3240a3de4c0f41e981a043c493300594": {
      "model_module": "@jupyter-widgets/base",
      "model_module_version": "2.0.0",
      "model_name": "LayoutModel",
      "state": {
       "_model_module": "@jupyter-widgets/base",
       "_model_module_version": "2.0.0",
       "_model_name": "LayoutModel",
       "_view_count": null,
       "_view_module": "@jupyter-widgets/base",
       "_view_module_version": "2.0.0",
       "_view_name": "LayoutView",
       "align_content": null,
       "align_items": null,
       "align_self": null,
       "border_bottom": null,
       "border_left": null,
       "border_right": null,
       "border_top": null,
       "bottom": null,
       "display": null,
       "flex": null,
       "flex_flow": null,
       "grid_area": null,
       "grid_auto_columns": null,
       "grid_auto_flow": null,
       "grid_auto_rows": null,
       "grid_column": null,
       "grid_gap": null,
       "grid_row": null,
       "grid_template_areas": null,
       "grid_template_columns": null,
       "grid_template_rows": null,
       "height": null,
       "justify_content": null,
       "justify_items": null,
       "left": null,
       "margin": null,
       "max_height": null,
       "max_width": null,
       "min_height": null,
       "min_width": null,
       "object_fit": null,
       "object_position": null,
       "order": null,
       "overflow": null,
       "padding": null,
       "right": null,
       "top": null,
       "visibility": null,
       "width": null
      }
     },
     "3fd0a44bf2834d2094a516ea57d36a38": {
      "model_module": "@jupyter-widgets/base",
      "model_module_version": "2.0.0",
      "model_name": "LayoutModel",
      "state": {
       "_model_module": "@jupyter-widgets/base",
       "_model_module_version": "2.0.0",
       "_model_name": "LayoutModel",
       "_view_count": null,
       "_view_module": "@jupyter-widgets/base",
       "_view_module_version": "2.0.0",
       "_view_name": "LayoutView",
       "align_content": null,
       "align_items": null,
       "align_self": null,
       "border_bottom": null,
       "border_left": null,
       "border_right": null,
       "border_top": null,
       "bottom": null,
       "display": null,
       "flex": null,
       "flex_flow": null,
       "grid_area": null,
       "grid_auto_columns": null,
       "grid_auto_flow": null,
       "grid_auto_rows": null,
       "grid_column": null,
       "grid_gap": null,
       "grid_row": null,
       "grid_template_areas": null,
       "grid_template_columns": null,
       "grid_template_rows": null,
       "height": null,
       "justify_content": null,
       "justify_items": null,
       "left": null,
       "margin": null,
       "max_height": null,
       "max_width": null,
       "min_height": null,
       "min_width": null,
       "object_fit": null,
       "object_position": null,
       "order": null,
       "overflow": null,
       "padding": null,
       "right": null,
       "top": null,
       "visibility": null,
       "width": null
      }
     },
     "5d32f38be42f4bacb7840379a4360a7a": {
      "model_module": "@jupyter-widgets/output",
      "model_module_version": "1.0.0",
      "model_name": "OutputModel",
      "state": {
       "_dom_classes": [],
       "_model_module": "@jupyter-widgets/output",
       "_model_module_version": "1.0.0",
       "_model_name": "OutputModel",
       "_view_count": null,
       "_view_module": "@jupyter-widgets/output",
       "_view_module_version": "1.0.0",
       "_view_name": "OutputView",
       "layout": "IPY_MODEL_3fd0a44bf2834d2094a516ea57d36a38",
       "msg_id": "",
       "outputs": [
        {
         "data": {
          "text/markdown": "`gf2_poly_4_8_add_k`",
          "text/plain": "<IPython.core.display.Markdown object>"
         },
         "metadata": {},
         "output_type": "display_data"
        },
        {
         "data": {
          "image/svg+xml": "<svg xmlns=\"http://www.w3.org/2000/svg\" xmlns:xlink=\"http://www.w3.org/1999/xlink\" width=\"259pt\" height=\"54pt\" viewBox=\"0.00 0.00 259.00 54.00\">\n<g id=\"graph0\" class=\"graph\" transform=\"scale(1 1) rotate(0) translate(4 50)\">\n<title>my_graph</title>\n<polygon fill=\"white\" stroke=\"transparent\" points=\"-4,4 -4,-50 255,-50 255,4 -4,4\"/>\n<!-- f_x_G2 -->\n<g id=\"node1\" class=\"node\">\n<title>f_x_G2</title>\n<text text-anchor=\"middle\" x=\"27\" y=\"-14.3\" font-family=\"Times,serif\" font-size=\"14.00\">f_x</text>\n</g>\n<!-- GF2PolyAddK -->\n<g id=\"node2\" class=\"node\">\n<title>GF2PolyAddK</title>\n<polygon fill=\"none\" stroke=\"black\" points=\"91.5,-29 91.5,-46 160.5,-46 160.5,-29 91.5,-29\"/>\n<text text-anchor=\"start\" x=\"94.5\" y=\"-35\" font-family=\"Times,serif\" font-size=\"10.00\">GF2PolyAddK</text>\n<polygon fill=\"none\" stroke=\"black\" points=\"91.5,-8 91.5,-29 160.5,-29 160.5,-8 91.5,-8\"/>\n<text text-anchor=\"start\" x=\"116.5\" y=\"-14.8\" font-family=\"Times,serif\" font-size=\"14.00\">f_x</text>\n</g>\n<!-- f_x_G2&#45;&gt;GF2PolyAddK -->\n<g id=\"edge1\" class=\"edge\">\n<title>f_x_G2:e-&gt;GF2PolyAddK:w</title>\n<path fill=\"none\" stroke=\"black\" d=\"M54,-18C69.67,-18 74.14,-18 88.77,-18\"/>\n<ellipse fill=\"black\" stroke=\"black\" cx=\"90\" cy=\"-18\" rx=\"1\" ry=\"1\"/>\n<text text-anchor=\"middle\" x=\"72.5\" y=\"-21\" font-family=\"Times,serif\" font-size=\"10.00\">15</text>\n</g>\n<!-- f_x_G0 -->\n<g id=\"node3\" class=\"node\">\n<title>f_x_G0</title>\n<text text-anchor=\"middle\" x=\"224\" y=\"-14.3\" font-family=\"Times,serif\" font-size=\"14.00\">f_x</text>\n</g>\n<!-- GF2PolyAddK&#45;&gt;f_x_G0 -->\n<g id=\"edge2\" class=\"edge\">\n<title>GF2PolyAddK:e-&gt;f_x_G0:w</title>\n<path fill=\"none\" stroke=\"black\" d=\"M160,-18C175.67,-18 180.14,-18 194.77,-18\"/>\n<ellipse fill=\"black\" stroke=\"black\" cx=\"196\" cy=\"-18\" rx=\"1\" ry=\"1\"/>\n<text text-anchor=\"middle\" x=\"178.5\" y=\"-21\" font-family=\"Times,serif\" font-size=\"10.00\">15</text>\n</g>\n</g>\n</svg>",
          "text/plain": "<IPython.core.display.SVG object>"
         },
         "metadata": {},
         "output_type": "display_data"
        }
       ],
       "tabbable": null,
       "tooltip": null
      }
     },
     "8d0565c1fb52432294560e82bef4208e": {
      "model_module": "@jupyter-widgets/base",
      "model_module_version": "2.0.0",
      "model_name": "LayoutModel",
      "state": {
       "_model_module": "@jupyter-widgets/base",
       "_model_module_version": "2.0.0",
       "_model_name": "LayoutModel",
       "_view_count": null,
       "_view_module": "@jupyter-widgets/base",
       "_view_module_version": "2.0.0",
       "_view_name": "LayoutView",
       "align_content": null,
       "align_items": null,
       "align_self": null,
       "border_bottom": null,
       "border_left": null,
       "border_right": null,
       "border_top": null,
       "bottom": null,
       "display": null,
       "flex": null,
       "flex_flow": null,
       "grid_area": null,
       "grid_auto_columns": null,
       "grid_auto_flow": null,
       "grid_auto_rows": null,
       "grid_column": null,
       "grid_gap": null,
       "grid_row": null,
       "grid_template_areas": null,
       "grid_template_columns": null,
       "grid_template_rows": null,
       "height": null,
       "justify_content": null,
       "justify_items": null,
       "left": null,
       "margin": null,
       "max_height": null,
       "max_width": null,
       "min_height": null,
       "min_width": null,
       "object_fit": null,
       "object_position": null,
       "order": null,
       "overflow": null,
       "padding": null,
       "right": null,
       "top": null,
       "visibility": null,
       "width": null
      }
     },
     "ee6d548c345440f4b3bd1a40ca28e459": {
      "model_module": "@jupyter-widgets/output",
      "model_module_version": "1.0.0",
      "model_name": "OutputModel",
      "state": {
       "_dom_classes": [],
       "_model_module": "@jupyter-widgets/output",
       "_model_module_version": "1.0.0",
       "_model_name": "OutputModel",
       "_view_count": null,
       "_view_module": "@jupyter-widgets/output",
       "_view_module_version": "1.0.0",
       "_view_name": "OutputView",
       "layout": "IPY_MODEL_3240a3de4c0f41e981a043c493300594",
       "msg_id": "",
       "outputs": [
        {
         "data": {
          "text/markdown": "`gf2_poly_add_k_symbolic`",
          "text/plain": "<IPython.core.display.Markdown object>"
         },
         "metadata": {},
         "output_type": "display_data"
        },
        {
         "data": {
          "image/svg+xml": "<svg xmlns=\"http://www.w3.org/2000/svg\" xmlns:xlink=\"http://www.w3.org/1999/xlink\" width=\"259pt\" height=\"54pt\" viewBox=\"0.00 0.00 259.00 54.00\">\n<g id=\"graph0\" class=\"graph\" transform=\"scale(1 1) rotate(0) translate(4 50)\">\n<title>my_graph</title>\n<polygon fill=\"white\" stroke=\"transparent\" points=\"-4,4 -4,-50 255,-50 255,4 -4,4\"/>\n<!-- f_x_G1 -->\n<g id=\"node1\" class=\"node\">\n<title>f_x_G1</title>\n<text text-anchor=\"middle\" x=\"27\" y=\"-14.3\" font-family=\"Times,serif\" font-size=\"14.00\">f_x</text>\n</g>\n<!-- GF2PolyAddK -->\n<g id=\"node2\" class=\"node\">\n<title>GF2PolyAddK</title>\n<polygon fill=\"none\" stroke=\"black\" points=\"91.5,-29 91.5,-46 160.5,-46 160.5,-29 91.5,-29\"/>\n<text text-anchor=\"start\" x=\"94.5\" y=\"-35\" font-family=\"Times,serif\" font-size=\"10.00\">GF2PolyAddK</text>\n<polygon fill=\"none\" stroke=\"black\" points=\"91.5,-8 91.5,-29 160.5,-29 160.5,-8 91.5,-8\"/>\n<text text-anchor=\"start\" x=\"116.5\" y=\"-14.8\" font-family=\"Times,serif\" font-size=\"14.00\">f_x</text>\n</g>\n<!-- f_x_G1&#45;&gt;GF2PolyAddK -->\n<g id=\"edge1\" class=\"edge\">\n<title>f_x_G1:e-&gt;GF2PolyAddK:w</title>\n<path fill=\"none\" stroke=\"black\" d=\"M54,-18C69.67,-18 74.14,-18 88.77,-18\"/>\n<ellipse fill=\"black\" stroke=\"black\" cx=\"90\" cy=\"-18\" rx=\"1\" ry=\"1\"/>\n<text text-anchor=\"middle\" x=\"72.5\" y=\"-21\" font-family=\"Times,serif\" font-size=\"10.00\">(n + 1)*ceiling(log2(floor(2**m)))</text>\n</g>\n<!-- f_x_G0 -->\n<g id=\"node3\" class=\"node\">\n<title>f_x_G0</title>\n<text text-anchor=\"middle\" x=\"224\" y=\"-14.3\" font-family=\"Times,serif\" font-size=\"14.00\">f_x</text>\n</g>\n<!-- GF2PolyAddK&#45;&gt;f_x_G0 -->\n<g id=\"edge2\" class=\"edge\">\n<title>GF2PolyAddK:e-&gt;f_x_G0:w</title>\n<path fill=\"none\" stroke=\"black\" d=\"M160,-18C175.67,-18 180.14,-18 194.77,-18\"/>\n<ellipse fill=\"black\" stroke=\"black\" cx=\"196\" cy=\"-18\" rx=\"1\" ry=\"1\"/>\n<text text-anchor=\"middle\" x=\"178.5\" y=\"-21\" font-family=\"Times,serif\" font-size=\"10.00\">(n + 1)*ceiling(log2(floor(2**m)))</text>\n</g>\n</g>\n</svg>",
          "text/plain": "<IPython.core.display.SVG object>"
         },
         "metadata": {},
         "output_type": "display_data"
        }
       ],
       "tabbable": null,
       "tooltip": null
      }
     }
    },
    "version_major": 2,
    "version_minor": 0
   }
  }
 },
 "nbformat": 4,
 "nbformat_minor": 5
}
