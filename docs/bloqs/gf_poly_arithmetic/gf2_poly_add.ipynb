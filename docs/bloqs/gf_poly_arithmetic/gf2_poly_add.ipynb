{
 "cells": [
  {
   "cell_type": "markdown",
   "id": "846e63df",
   "metadata": {
    "cq.autogen": "title_cell"
   },
   "source": [
    "# Polynomials over GF($2^m$) - Addition"
   ]
  },
  {
   "cell_type": "code",
   "execution_count": 1,
   "id": "5dd599ca",
   "metadata": {
    "cq.autogen": "top_imports"
   },
   "outputs": [],
   "source": [
    "from qualtran import Bloq, CompositeBloq, BloqBuilder, Signature, Register\n",
    "from qualtran import QBit, QInt, QUInt, QAny\n",
    "from qualtran.drawing import show_bloq, show_call_graph, show_counts_sigma\n",
    "from typing import *\n",
    "import numpy as np\n",
    "import sympy\n",
    "import cirq"
   ]
  },
  {
   "cell_type": "markdown",
   "id": "458cf4fa",
   "metadata": {
    "cq.autogen": "GF2PolyAdd.bloq_doc.md"
   },
   "source": [
    "## `GF2PolyAdd`\n",
    "In place quantum-quantum addition of two polynomials defined over GF($2^m$).\n",
    "\n",
    "The bloq implements in place addition of quantum registers $|f(x)\\rangle$ and $|g(x)\\rangle$\n",
    "storing coefficients of two degree-n polynomials defined over GF($2^m$).\n",
    "Addition in GF($2^m$) simply reduces to a component wise XOR, which can be implemented via\n",
    "CNOT gates.\n",
    "\n",
    "$$\n",
    "    |f(x)\\rangle |g(x)\\rangle  \\rightarrow |f(x)\\rangle |f(x) + g(x)\\rangle\n",
    "$$\n",
    "\n",
    "#### Parameters\n",
    " - `qgf_poly`: An instance of `QGFPoly` type that defines the data type for quantum register $|f(x)\\rangle$ storing coefficients of a degree-n polynomial defined over GF($2^m$). \n",
    "\n",
    "#### Registers\n",
    " - `f_x`: THRU register that stores coefficients of first polynomial defined over $GF(2^m)$.\n",
    " - `g_x`: THRU register that stores coefficients of second polynomial defined over $GF(2^m)$.\n"
   ]
  },
  {
   "cell_type": "code",
   "execution_count": 2,
   "id": "d67b7e61",
   "metadata": {
    "cq.autogen": "GF2PolyAdd.bloq_doc.py"
   },
   "outputs": [],
   "source": [
    "from qualtran.bloqs.gf_poly_arithmetic import GF2PolyAdd"
   ]
  },
  {
   "cell_type": "markdown",
   "id": "0a0a575b",
   "metadata": {
    "cq.autogen": "GF2PolyAdd.example_instances.md"
   },
   "source": [
    "### Example Instances"
   ]
  },
  {
   "cell_type": "code",
   "execution_count": 3,
   "id": "f77964d0",
   "metadata": {
    "cq.autogen": "GF2PolyAdd.gf2_poly_4_8_add"
   },
   "outputs": [],
   "source": [
    "from qualtran import QGF, QGFPoly\n",
    "\n",
    "qgf_poly = QGFPoly(4, QGF(2, 3))\n",
    "gf2_poly_4_8_add = GF2PolyAdd(qgf_poly)"
   ]
  },
  {
   "cell_type": "code",
   "execution_count": 4,
   "id": "0b094507",
   "metadata": {
    "cq.autogen": "GF2PolyAdd.gf2_poly_add_symbolic"
   },
   "outputs": [],
   "source": [
    "import sympy\n",
    "\n",
    "from qualtran import QGF, QGFPoly\n",
    "\n",
    "n, m = sympy.symbols('n, m', positive=True, integers=True)\n",
    "qgf_poly = QGFPoly(n, QGF(2, m))\n",
    "gf2_poly_add_symbolic = GF2PolyAdd(qgf_poly)"
   ]
  },
  {
   "cell_type": "markdown",
   "id": "43b66756",
   "metadata": {
    "cq.autogen": "GF2PolyAdd.graphical_signature.md"
   },
   "source": [
    "#### Graphical Signature"
   ]
  },
  {
   "cell_type": "code",
   "execution_count": 5,
   "id": "ecf1a676",
   "metadata": {
    "cq.autogen": "GF2PolyAdd.graphical_signature.py"
   },
   "outputs": [
    {
     "data": {
      "application/vnd.jupyter.widget-view+json": {
       "model_id": "cbde801ab4714d71a414543ff26eaf9b",
       "version_major": 2,
       "version_minor": 0
      },
      "text/plain": [
       "HBox(children=(Output(outputs=({'output_type': 'display_data', 'data': {'text/plain': '<IPython.core.display.M…"
      ]
     },
     "metadata": {},
     "output_type": "display_data"
    }
   ],
   "source": [
    "from qualtran.drawing import show_bloqs\n",
    "show_bloqs([gf2_poly_4_8_add, gf2_poly_add_symbolic],\n",
    "           ['`gf2_poly_4_8_add`', '`gf2_poly_add_symbolic`'])"
   ]
  },
  {
   "cell_type": "markdown",
   "id": "6d7fe836",
   "metadata": {
    "cq.autogen": "GF2PolyAdd.call_graph.md"
   },
   "source": [
    "### Call Graph"
   ]
  },
  {
   "cell_type": "code",
   "execution_count": 6,
   "id": "bc1596d3",
   "metadata": {
    "cq.autogen": "GF2PolyAdd.call_graph.py"
   },
   "outputs": [
    {
     "data": {
      "image/svg+xml": [
       "<svg xmlns=\"http://www.w3.org/2000/svg\" xmlns:xlink=\"http://www.w3.org/1999/xlink\" width=\"92pt\" height=\"131pt\" viewBox=\"0.00 0.00 92.00 131.00\">\n",
       "<g id=\"graph0\" class=\"graph\" transform=\"scale(1 1) rotate(0) translate(4 127)\">\n",
       "<title>counts</title>\n",
       "<polygon fill=\"white\" stroke=\"transparent\" points=\"-4,4 -4,-127 88,-127 88,4 -4,4\"/>\n",
       "<!-- b0 -->\n",
       "<g id=\"node1\" class=\"node\">\n",
       "<title>b0</title>\n",
       "<polygon fill=\"none\" stroke=\"black\" points=\"8,-93 8,-116 76,-116 76,-93 8,-93\"/>\n",
       "<text text-anchor=\"start\" x=\"14.5\" y=\"-102\" font-family=\"Times,serif\" font-size=\"10.00\">GF2PolyAdd</text>\n",
       "</g>\n",
       "<!-- b1 -->\n",
       "<g id=\"node2\" class=\"node\">\n",
       "<title>b1</title>\n",
       "<polygon fill=\"none\" stroke=\"black\" points=\"8,-6 8,-29 76,-29 76,-6 8,-6\"/>\n",
       "<text text-anchor=\"start\" x=\"14\" y=\"-15\" font-family=\"Times,serif\" font-size=\"10.00\">GF2Addition</text>\n",
       "</g>\n",
       "<!-- b0&#45;&gt;b1 -->\n",
       "<g id=\"edge1\" class=\"edge\">\n",
       "<title>b0-&gt;b1</title>\n",
       "<path fill=\"none\" stroke=\"black\" d=\"M42,-86.8C42,-75.16 42,-59.55 42,-46.24\"/>\n",
       "<polygon fill=\"black\" stroke=\"black\" points=\"45.5,-46.18 42,-36.18 38.5,-46.18 45.5,-46.18\"/>\n",
       "<text text-anchor=\"middle\" x=\"45.5\" y=\"-57.8\" font-family=\"Times,serif\" font-size=\"14.00\">5</text>\n",
       "</g>\n",
       "</g>\n",
       "</svg>"
      ],
      "text/plain": [
       "<IPython.core.display.SVG object>"
      ]
     },
     "metadata": {},
     "output_type": "display_data"
    },
    {
     "data": {
      "text/markdown": [
       "#### Counts totals:\n",
       " - `GF2Addition`: 5"
      ],
      "text/plain": [
       "<IPython.core.display.Markdown object>"
      ]
     },
     "metadata": {},
     "output_type": "display_data"
    }
   ],
   "source": [
    "from qualtran.resource_counting.generalizers import ignore_split_join\n",
    "gf2_poly_4_8_add_g, gf2_poly_4_8_add_sigma = gf2_poly_4_8_add.call_graph(max_depth=1, generalizer=ignore_split_join)\n",
    "show_call_graph(gf2_poly_4_8_add_g)\n",
    "show_counts_sigma(gf2_poly_4_8_add_sigma)"
   ]
  }
 ],
 "metadata": {
  "kernelspec": {
   "display_name": "Python 3",
   "language": "python",
   "name": "python3"
  },
  "language_info": {
   "codemirror_mode": {
    "name": "ipython",
    "version": 3
   },
   "file_extension": ".py",
   "mimetype": "text/x-python",
   "name": "python",
   "nbconvert_exporter": "python",
   "pygments_lexer": "ipython3",
   "version": "3.11.8"
  },
  "widgets": {
   "application/vnd.jupyter.widget-state+json": {
    "state": {
     "3a71f0511b994b15ac44426541c4a05f": {
      "model_module": "@jupyter-widgets/base",
      "model_module_version": "2.0.0",
      "model_name": "LayoutModel",
      "state": {
       "_model_module": "@jupyter-widgets/base",
       "_model_module_version": "2.0.0",
       "_model_name": "LayoutModel",
       "_view_count": null,
       "_view_module": "@jupyter-widgets/base",
       "_view_module_version": "2.0.0",
       "_view_name": "LayoutView",
       "align_content": null,
       "align_items": null,
       "align_self": null,
       "border_bottom": null,
       "border_left": null,
       "border_right": null,
       "border_top": null,
       "bottom": null,
       "display": null,
       "flex": null,
       "flex_flow": null,
       "grid_area": null,
       "grid_auto_columns": null,
       "grid_auto_flow": null,
       "grid_auto_rows": null,
       "grid_column": null,
       "grid_gap": null,
       "grid_row": null,
       "grid_template_areas": null,
       "grid_template_columns": null,
       "grid_template_rows": null,
       "height": null,
       "justify_content": null,
       "justify_items": null,
       "left": null,
       "margin": null,
       "max_height": null,
       "max_width": null,
       "min_height": null,
       "min_width": null,
       "object_fit": null,
       "object_position": null,
       "order": null,
       "overflow": null,
       "padding": null,
       "right": null,
       "top": null,
       "visibility": null,
       "width": null
      }
     },
     "594e539d06f1419884f995ef0c62aab5": {
      "model_module": "@jupyter-widgets/output",
      "model_module_version": "1.0.0",
      "model_name": "OutputModel",
      "state": {
       "_dom_classes": [],
       "_model_module": "@jupyter-widgets/output",
       "_model_module_version": "1.0.0",
       "_model_name": "OutputModel",
       "_view_count": null,
       "_view_module": "@jupyter-widgets/output",
       "_view_module_version": "1.0.0",
       "_view_name": "OutputView",
       "layout": "IPY_MODEL_3a71f0511b994b15ac44426541c4a05f",
       "msg_id": "",
       "outputs": [
        {
         "data": {
          "text/markdown": "`gf2_poly_add_symbolic`",
          "text/plain": "<IPython.core.display.Markdown object>"
         },
         "metadata": {},
         "output_type": "display_data"
        },
        {
         "data": {
          "image/svg+xml": "<svg xmlns=\"http://www.w3.org/2000/svg\" xmlns:xlink=\"http://www.w3.org/1999/xlink\" width=\"251pt\" height=\"98pt\" viewBox=\"0.00 0.00 251.00 98.00\">\n<g id=\"graph0\" class=\"graph\" transform=\"scale(1 1) rotate(0) translate(4 94)\">\n<title>my_graph</title>\n<polygon fill=\"white\" stroke=\"transparent\" points=\"-4,4 -4,-94 247,-94 247,4 -4,4\"/>\n<!-- f_x_G1 -->\n<g id=\"node1\" class=\"node\">\n<title>f_x_G1</title>\n<text text-anchor=\"middle\" x=\"27\" y=\"-68.3\" font-family=\"Times,serif\" font-size=\"14.00\">f_x</text>\n</g>\n<!-- GF2PolyAdd -->\n<g id=\"node3\" class=\"node\">\n<title>GF2PolyAdd</title>\n<polygon fill=\"none\" stroke=\"black\" points=\"91.5,-66 91.5,-83 152.5,-83 152.5,-66 91.5,-66\"/>\n<text text-anchor=\"start\" x=\"94.5\" y=\"-72\" font-family=\"Times,serif\" font-size=\"10.00\">GF2PolyAdd</text>\n<polygon fill=\"none\" stroke=\"black\" points=\"91.5,-45 91.5,-66 152.5,-66 152.5,-45 91.5,-45\"/>\n<text text-anchor=\"start\" x=\"112.5\" y=\"-51.8\" font-family=\"Times,serif\" font-size=\"14.00\">f_x</text>\n<polygon fill=\"none\" stroke=\"black\" points=\"91.5,-24 91.5,-45 152.5,-45 152.5,-24 91.5,-24\"/>\n<text text-anchor=\"start\" x=\"111.5\" y=\"-30.8\" font-family=\"Times,serif\" font-size=\"14.00\">g_x</text>\n</g>\n<!-- f_x_G1&#45;&gt;GF2PolyAdd -->\n<g id=\"edge1\" class=\"edge\">\n<title>f_x_G1:e-&gt;GF2PolyAdd:w</title>\n<path fill=\"none\" stroke=\"black\" d=\"M54,-72C71.22,-72 72.97,-57.23 88.98,-56.07\"/>\n<ellipse fill=\"black\" stroke=\"black\" cx=\"90\" cy=\"-56.04\" rx=\"1\" ry=\"1\"/>\n<text text-anchor=\"middle\" x=\"72.5\" y=\"-67\" font-family=\"Times,serif\" font-size=\"10.00\">(n + 1)*ceiling(log2(floor(2**m)))</text>\n</g>\n<!-- g_x_G4 -->\n<g id=\"node2\" class=\"node\">\n<title>g_x_G4</title>\n<text text-anchor=\"middle\" x=\"27\" y=\"-14.3\" font-family=\"Times,serif\" font-size=\"14.00\">g_x</text>\n</g>\n<!-- g_x_G4&#45;&gt;GF2PolyAdd -->\n<g id=\"edge2\" class=\"edge\">\n<title>g_x_G4:e-&gt;GF2PolyAdd:w</title>\n<path fill=\"none\" stroke=\"black\" d=\"M54,-18C71.22,-18 72.97,-32.77 88.98,-33.93\"/>\n<ellipse fill=\"black\" stroke=\"black\" cx=\"90\" cy=\"-33.96\" rx=\"1\" ry=\"1\"/>\n<text text-anchor=\"middle\" x=\"72.5\" y=\"-29\" font-family=\"Times,serif\" font-size=\"10.00\">(n + 1)*ceiling(log2(floor(2**m)))</text>\n</g>\n<!-- f_x_G5 -->\n<g id=\"node4\" class=\"node\">\n<title>f_x_G5</title>\n<text text-anchor=\"middle\" x=\"216\" y=\"-68.3\" font-family=\"Times,serif\" font-size=\"14.00\">f_x</text>\n</g>\n<!-- GF2PolyAdd&#45;&gt;f_x_G5 -->\n<g id=\"edge3\" class=\"edge\">\n<title>GF2PolyAdd:e-&gt;f_x_G5:w</title>\n<path fill=\"none\" stroke=\"black\" d=\"M152,-56C169.22,-56 170.97,-70.77 186.98,-71.93\"/>\n<ellipse fill=\"black\" stroke=\"black\" cx=\"188\" cy=\"-71.96\" rx=\"1\" ry=\"1\"/>\n<text text-anchor=\"middle\" x=\"170.5\" y=\"-67\" font-family=\"Times,serif\" font-size=\"10.00\">(n + 1)*ceiling(log2(floor(2**m)))</text>\n</g>\n<!-- g_x_G3 -->\n<g id=\"node5\" class=\"node\">\n<title>g_x_G3</title>\n<text text-anchor=\"middle\" x=\"216\" y=\"-14.3\" font-family=\"Times,serif\" font-size=\"14.00\">g_x</text>\n</g>\n<!-- GF2PolyAdd&#45;&gt;g_x_G3 -->\n<g id=\"edge4\" class=\"edge\">\n<title>GF2PolyAdd:e-&gt;g_x_G3:w</title>\n<path fill=\"none\" stroke=\"black\" d=\"M152,-34C169.22,-34 170.97,-19.23 186.98,-18.07\"/>\n<ellipse fill=\"black\" stroke=\"black\" cx=\"188\" cy=\"-18.04\" rx=\"1\" ry=\"1\"/>\n<text text-anchor=\"middle\" x=\"170.5\" y=\"-29\" font-family=\"Times,serif\" font-size=\"10.00\">(n + 1)*ceiling(log2(floor(2**m)))</text>\n</g>\n</g>\n</svg>",
          "text/plain": "<IPython.core.display.SVG object>"
         },
         "metadata": {},
         "output_type": "display_data"
        }
       ],
       "tabbable": null,
       "tooltip": null
      }
     },
     "868895c75112463e8eaf2f22c25f3dc0": {
      "model_module": "@jupyter-widgets/base",
      "model_module_version": "2.0.0",
      "model_name": "LayoutModel",
      "state": {
       "_model_module": "@jupyter-widgets/base",
       "_model_module_version": "2.0.0",
       "_model_name": "LayoutModel",
       "_view_count": null,
       "_view_module": "@jupyter-widgets/base",
       "_view_module_version": "2.0.0",
       "_view_name": "LayoutView",
       "align_content": null,
       "align_items": null,
       "align_self": null,
       "border_bottom": null,
       "border_left": null,
       "border_right": null,
       "border_top": null,
       "bottom": null,
       "display": null,
       "flex": null,
       "flex_flow": null,
       "grid_area": null,
       "grid_auto_columns": null,
       "grid_auto_flow": null,
       "grid_auto_rows": null,
       "grid_column": null,
       "grid_gap": null,
       "grid_row": null,
       "grid_template_areas": null,
       "grid_template_columns": null,
       "grid_template_rows": null,
       "height": null,
       "justify_content": null,
       "justify_items": null,
       "left": null,
       "margin": null,
       "max_height": null,
       "max_width": null,
       "min_height": null,
       "min_width": null,
       "object_fit": null,
       "object_position": null,
       "order": null,
       "overflow": null,
       "padding": null,
       "right": null,
       "top": null,
       "visibility": null,
       "width": null
      }
     },
     "8fe3da0387c141f394639b77331b26d7": {
      "model_module": "@jupyter-widgets/base",
      "model_module_version": "2.0.0",
      "model_name": "LayoutModel",
      "state": {
       "_model_module": "@jupyter-widgets/base",
       "_model_module_version": "2.0.0",
       "_model_name": "LayoutModel",
       "_view_count": null,
       "_view_module": "@jupyter-widgets/base",
       "_view_module_version": "2.0.0",
       "_view_name": "LayoutView",
       "align_content": null,
       "align_items": null,
       "align_self": null,
       "border_bottom": null,
       "border_left": null,
       "border_right": null,
       "border_top": null,
       "bottom": null,
       "display": null,
       "flex": null,
       "flex_flow": null,
       "grid_area": null,
       "grid_auto_columns": null,
       "grid_auto_flow": null,
       "grid_auto_rows": null,
       "grid_column": null,
       "grid_gap": null,
       "grid_row": null,
       "grid_template_areas": null,
       "grid_template_columns": null,
       "grid_template_rows": null,
       "height": null,
       "justify_content": null,
       "justify_items": null,
       "left": null,
       "margin": null,
       "max_height": null,
       "max_width": null,
       "min_height": null,
       "min_width": null,
       "object_fit": null,
       "object_position": null,
       "order": null,
       "overflow": null,
       "padding": null,
       "right": null,
       "top": null,
       "visibility": null,
       "width": null
      }
     },
     "c89fabb524434f92b4e21a30ad6ce11f": {
      "model_module": "@jupyter-widgets/output",
      "model_module_version": "1.0.0",
      "model_name": "OutputModel",
      "state": {
       "_dom_classes": [],
       "_model_module": "@jupyter-widgets/output",
       "_model_module_version": "1.0.0",
       "_model_name": "OutputModel",
       "_view_count": null,
       "_view_module": "@jupyter-widgets/output",
       "_view_module_version": "1.0.0",
       "_view_name": "OutputView",
       "layout": "IPY_MODEL_868895c75112463e8eaf2f22c25f3dc0",
       "msg_id": "",
       "outputs": [
        {
         "data": {
          "text/markdown": "`gf2_poly_4_8_add`",
          "text/plain": "<IPython.core.display.Markdown object>"
         },
         "metadata": {},
         "output_type": "display_data"
        },
        {
         "data": {
          "image/svg+xml": "<svg xmlns=\"http://www.w3.org/2000/svg\" xmlns:xlink=\"http://www.w3.org/1999/xlink\" width=\"251pt\" height=\"98pt\" viewBox=\"0.00 0.00 251.00 98.00\">\n<g id=\"graph0\" class=\"graph\" transform=\"scale(1 1) rotate(0) translate(4 94)\">\n<title>my_graph</title>\n<polygon fill=\"white\" stroke=\"transparent\" points=\"-4,4 -4,-94 247,-94 247,4 -4,4\"/>\n<!-- f_x_G4 -->\n<g id=\"node1\" class=\"node\">\n<title>f_x_G4</title>\n<text text-anchor=\"middle\" x=\"27\" y=\"-68.3\" font-family=\"Times,serif\" font-size=\"14.00\">f_x</text>\n</g>\n<!-- GF2PolyAdd -->\n<g id=\"node3\" class=\"node\">\n<title>GF2PolyAdd</title>\n<polygon fill=\"none\" stroke=\"black\" points=\"91.5,-66 91.5,-83 152.5,-83 152.5,-66 91.5,-66\"/>\n<text text-anchor=\"start\" x=\"94.5\" y=\"-72\" font-family=\"Times,serif\" font-size=\"10.00\">GF2PolyAdd</text>\n<polygon fill=\"none\" stroke=\"black\" points=\"91.5,-45 91.5,-66 152.5,-66 152.5,-45 91.5,-45\"/>\n<text text-anchor=\"start\" x=\"112.5\" y=\"-51.8\" font-family=\"Times,serif\" font-size=\"14.00\">f_x</text>\n<polygon fill=\"none\" stroke=\"black\" points=\"91.5,-24 91.5,-45 152.5,-45 152.5,-24 91.5,-24\"/>\n<text text-anchor=\"start\" x=\"111.5\" y=\"-30.8\" font-family=\"Times,serif\" font-size=\"14.00\">g_x</text>\n</g>\n<!-- f_x_G4&#45;&gt;GF2PolyAdd -->\n<g id=\"edge1\" class=\"edge\">\n<title>f_x_G4:e-&gt;GF2PolyAdd:w</title>\n<path fill=\"none\" stroke=\"black\" d=\"M54,-72C71.22,-72 72.97,-57.23 88.98,-56.07\"/>\n<ellipse fill=\"black\" stroke=\"black\" cx=\"90\" cy=\"-56.04\" rx=\"1\" ry=\"1\"/>\n<text text-anchor=\"middle\" x=\"72.5\" y=\"-67\" font-family=\"Times,serif\" font-size=\"10.00\">15</text>\n</g>\n<!-- g_x_G1 -->\n<g id=\"node2\" class=\"node\">\n<title>g_x_G1</title>\n<text text-anchor=\"middle\" x=\"27\" y=\"-14.3\" font-family=\"Times,serif\" font-size=\"14.00\">g_x</text>\n</g>\n<!-- g_x_G1&#45;&gt;GF2PolyAdd -->\n<g id=\"edge2\" class=\"edge\">\n<title>g_x_G1:e-&gt;GF2PolyAdd:w</title>\n<path fill=\"none\" stroke=\"black\" d=\"M54,-18C71.22,-18 72.97,-32.77 88.98,-33.93\"/>\n<ellipse fill=\"black\" stroke=\"black\" cx=\"90\" cy=\"-33.96\" rx=\"1\" ry=\"1\"/>\n<text text-anchor=\"middle\" x=\"72.5\" y=\"-29\" font-family=\"Times,serif\" font-size=\"10.00\">15</text>\n</g>\n<!-- f_x_G5 -->\n<g id=\"node4\" class=\"node\">\n<title>f_x_G5</title>\n<text text-anchor=\"middle\" x=\"216\" y=\"-68.3\" font-family=\"Times,serif\" font-size=\"14.00\">f_x</text>\n</g>\n<!-- GF2PolyAdd&#45;&gt;f_x_G5 -->\n<g id=\"edge3\" class=\"edge\">\n<title>GF2PolyAdd:e-&gt;f_x_G5:w</title>\n<path fill=\"none\" stroke=\"black\" d=\"M152,-56C169.22,-56 170.97,-70.77 186.98,-71.93\"/>\n<ellipse fill=\"black\" stroke=\"black\" cx=\"188\" cy=\"-71.96\" rx=\"1\" ry=\"1\"/>\n<text text-anchor=\"middle\" x=\"170.5\" y=\"-67\" font-family=\"Times,serif\" font-size=\"10.00\">15</text>\n</g>\n<!-- g_x_G2 -->\n<g id=\"node5\" class=\"node\">\n<title>g_x_G2</title>\n<text text-anchor=\"middle\" x=\"216\" y=\"-14.3\" font-family=\"Times,serif\" font-size=\"14.00\">g_x</text>\n</g>\n<!-- GF2PolyAdd&#45;&gt;g_x_G2 -->\n<g id=\"edge4\" class=\"edge\">\n<title>GF2PolyAdd:e-&gt;g_x_G2:w</title>\n<path fill=\"none\" stroke=\"black\" d=\"M152,-34C169.22,-34 170.97,-19.23 186.98,-18.07\"/>\n<ellipse fill=\"black\" stroke=\"black\" cx=\"188\" cy=\"-18.04\" rx=\"1\" ry=\"1\"/>\n<text text-anchor=\"middle\" x=\"170.5\" y=\"-29\" font-family=\"Times,serif\" font-size=\"10.00\">15</text>\n</g>\n</g>\n</svg>",
          "text/plain": "<IPython.core.display.SVG object>"
         },
         "metadata": {},
         "output_type": "display_data"
        }
       ],
       "tabbable": null,
       "tooltip": null
      }
     },
     "cbde801ab4714d71a414543ff26eaf9b": {
      "model_module": "@jupyter-widgets/controls",
      "model_module_version": "2.0.0",
      "model_name": "HBoxModel",
      "state": {
       "_dom_classes": [],
       "_model_module": "@jupyter-widgets/controls",
       "_model_module_version": "2.0.0",
       "_model_name": "HBoxModel",
       "_view_count": null,
       "_view_module": "@jupyter-widgets/controls",
       "_view_module_version": "2.0.0",
       "_view_name": "HBoxView",
       "box_style": "",
       "children": [
        "IPY_MODEL_c89fabb524434f92b4e21a30ad6ce11f",
        "IPY_MODEL_594e539d06f1419884f995ef0c62aab5"
       ],
       "layout": "IPY_MODEL_8fe3da0387c141f394639b77331b26d7",
       "tabbable": null,
       "tooltip": null
      }
     }
    },
    "version_major": 2,
    "version_minor": 0
   }
  }
 },
 "nbformat": 4,
 "nbformat_minor": 5
}
