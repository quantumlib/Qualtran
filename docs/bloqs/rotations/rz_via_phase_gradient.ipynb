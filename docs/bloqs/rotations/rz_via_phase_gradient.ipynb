{
 "cells": [
  {
   "cell_type": "markdown",
   "id": "bbc3afcf",
   "metadata": {
    "cq.autogen": "title_cell"
   },
   "source": [
    "# Rz Rotation via Phase Gradient"
   ]
  },
  {
   "cell_type": "code",
   "execution_count": 1,
   "id": "e6ca3000",
   "metadata": {
    "cq.autogen": "top_imports"
   },
   "outputs": [],
   "source": [
    "from qualtran import Bloq, CompositeBloq, BloqBuilder, Signature, Register\n",
    "from qualtran import QBit, QInt, QUInt, QAny\n",
    "from qualtran.drawing import show_bloq, show_call_graph, show_counts_sigma\n",
    "from typing import *\n",
    "import numpy as np\n",
    "import sympy\n",
    "import cirq"
   ]
  },
  {
   "cell_type": "markdown",
   "id": "4d0db53e",
   "metadata": {
    "cq.autogen": "RzViaPhaseGradient.bloq_doc.md"
   },
   "source": [
    "## `RzViaPhaseGradient`\n",
    "Apply a controlled-Rz using a phase gradient state.\n",
    "\n",
    "Implements the following unitary action:\n",
    "\n",
    "$$\n",
    "    |\\psi\\rangle \\otimes |x\\rangle \\mapsto \\text{Rz}(4 \\pi x) |\\psi\\rangle \\otimes |x\\rangle\n",
    "$$\n",
    "\n",
    "for every state $|\\psi\\rangle$ and every $x$, or equivalently\n",
    "\n",
    "$$\n",
    "    |b\\rangle|x\\rangle \\mapsto |b\\rangle e^{- (-1)^b i x/2} |x\\rangle\n",
    "$$\n",
    "\n",
    "for every $b \\in \\{0, 1\\}$ and every $x$.\n",
    "\n",
    "To apply an $\\text{Rz}(\\theta) = e^{-i Z \\theta/2}$, the angle register $x$ should store $\\theta/(4\\pi)$.\n",
    "\n",
    "#### Parameters\n",
    " - `angle_dtype`: Data type for the `angle_data` register.\n",
    " - `phasegrad_dtype`: Data type for the phase gradient register. \n",
    "\n",
    "#### Registers\n",
    " - `q`: The qubit to apply Rz on.\n",
    " - `angle`: The rotation angle in radians.\n",
    " - `phase_grad`: The phase gradient register of sufficient width. \n",
    "\n",
    "#### References\n",
    " - [Compilation of Fault-Tolerant Quantum Heuristics for Combinatorial Optimization](https://arxiv.org/abs/2007.07391). Section II-C: Oracles for phasing by cost function. Appendix A: Addition for controlled rotations.\n"
   ]
  },
  {
   "cell_type": "code",
   "execution_count": 2,
   "id": "88ae8ba0",
   "metadata": {
    "cq.autogen": "RzViaPhaseGradient.bloq_doc.py"
   },
   "outputs": [],
   "source": [
    "from qualtran.bloqs.rotations import RzViaPhaseGradient"
   ]
  },
  {
   "cell_type": "markdown",
   "id": "f3d5ab59",
   "metadata": {
    "cq.autogen": "RzViaPhaseGradient.example_instances.md"
   },
   "source": [
    "### Example Instances"
   ]
  },
  {
   "cell_type": "code",
   "execution_count": 3,
   "id": "16a874c9",
   "metadata": {
    "cq.autogen": "RzViaPhaseGradient.rz_via_phase_gradient"
   },
   "outputs": [],
   "source": [
    "from qualtran import QFxp\n",
    "\n",
    "rz_via_phase_gradient = RzViaPhaseGradient(angle_dtype=QFxp(4, 4), phasegrad_dtype=QFxp(4, 4))"
   ]
  },
  {
   "cell_type": "markdown",
   "id": "ca4ac4bc",
   "metadata": {
    "cq.autogen": "RzViaPhaseGradient.graphical_signature.md"
   },
   "source": [
    "#### Graphical Signature"
   ]
  },
  {
   "cell_type": "code",
   "execution_count": 4,
   "id": "92d7b03c",
   "metadata": {
    "cq.autogen": "RzViaPhaseGradient.graphical_signature.py"
   },
   "outputs": [
    {
     "data": {
      "application/vnd.jupyter.widget-view+json": {
       "model_id": "1805c928b113457caa147d0613a354e3",
       "version_major": 2,
       "version_minor": 0
      },
      "text/plain": [
       "HBox(children=(Output(outputs=({'output_type': 'display_data', 'data': {'text/plain': '<IPython.core.display.M…"
      ]
     },
     "metadata": {},
     "output_type": "display_data"
    }
   ],
   "source": [
    "from qualtran.drawing import show_bloqs\n",
    "show_bloqs([rz_via_phase_gradient],\n",
    "           ['`rz_via_phase_gradient`'])"
   ]
  },
  {
   "cell_type": "markdown",
   "id": "03999011",
   "metadata": {
    "cq.autogen": "RzViaPhaseGradient.call_graph.md"
   },
   "source": [
    "### Call Graph"
   ]
  },
  {
   "cell_type": "code",
   "execution_count": 5,
   "id": "d0cc79d3",
   "metadata": {
    "cq.autogen": "RzViaPhaseGradient.call_graph.py"
   },
   "outputs": [
    {
     "data": {
      "image/svg+xml": [
       "<svg xmlns=\"http://www.w3.org/2000/svg\" xmlns:xlink=\"http://www.w3.org/1999/xlink\" width=\"144pt\" height=\"131pt\" viewBox=\"0.00 0.00 144.00 131.00\">\n",
       "<g id=\"graph0\" class=\"graph\" transform=\"scale(1 1) rotate(0) translate(4 127)\">\n",
       "<title>counts</title>\n",
       "<polygon fill=\"white\" stroke=\"transparent\" points=\"-4,4 -4,-127 140,-127 140,4 -4,4\"/>\n",
       "<!-- b0 -->\n",
       "<g id=\"node1\" class=\"node\">\n",
       "<title>b0</title>\n",
       "<polygon fill=\"none\" stroke=\"black\" points=\"19,-93 19,-116 117,-116 117,-93 19,-93\"/>\n",
       "<text text-anchor=\"start\" x=\"25.5\" y=\"-102\" font-family=\"Times,serif\" font-size=\"10.00\">RzViaPhaseGradient</text>\n",
       "</g>\n",
       "<!-- b1 -->\n",
       "<g id=\"node2\" class=\"node\">\n",
       "<title>b1</title>\n",
       "<polygon fill=\"none\" stroke=\"black\" points=\"8,-6 8,-29 128,-29 128,-6 8,-6\"/>\n",
       "<text text-anchor=\"start\" x=\"14.5\" y=\"-15\" font-family=\"Times,serif\" font-size=\"10.00\">ControlledAddOrSubtract</text>\n",
       "</g>\n",
       "<!-- b0&#45;&gt;b1 -->\n",
       "<g id=\"edge1\" class=\"edge\">\n",
       "<title>b0-&gt;b1</title>\n",
       "<path fill=\"none\" stroke=\"black\" d=\"M68,-86.8C68,-75.16 68,-59.55 68,-46.24\"/>\n",
       "<polygon fill=\"black\" stroke=\"black\" points=\"71.5,-46.18 68,-36.18 64.5,-46.18 71.5,-46.18\"/>\n",
       "<text text-anchor=\"middle\" x=\"71.5\" y=\"-57.8\" font-family=\"Times,serif\" font-size=\"14.00\">1</text>\n",
       "</g>\n",
       "</g>\n",
       "</svg>"
      ],
      "text/plain": [
       "<IPython.core.display.SVG object>"
      ]
     },
     "metadata": {},
     "output_type": "display_data"
    },
    {
     "data": {
      "text/markdown": [
       "#### Counts totals:\n",
       " - `ControlledAddOrSubtract`: 1"
      ],
      "text/plain": [
       "<IPython.core.display.Markdown object>"
      ]
     },
     "metadata": {},
     "output_type": "display_data"
    }
   ],
   "source": [
    "from qualtran.resource_counting.generalizers import ignore_split_join\n",
    "rz_via_phase_gradient_g, rz_via_phase_gradient_sigma = rz_via_phase_gradient.call_graph(max_depth=1, generalizer=ignore_split_join)\n",
    "show_call_graph(rz_via_phase_gradient_g)\n",
    "show_counts_sigma(rz_via_phase_gradient_sigma)"
   ]
  }
 ],
 "metadata": {
  "kernelspec": {
   "display_name": "Python 3",
   "language": "python",
   "name": "python3"
  },
  "language_info": {
   "codemirror_mode": {
    "name": "ipython",
    "version": 3
   },
   "file_extension": ".py",
   "mimetype": "text/x-python",
   "name": "python",
   "nbconvert_exporter": "python",
   "pygments_lexer": "ipython3",
   "version": "3.11.8"
  },
  "widgets": {
   "application/vnd.jupyter.widget-state+json": {
    "state": {
     "1805c928b113457caa147d0613a354e3": {
      "model_module": "@jupyter-widgets/controls",
      "model_module_version": "2.0.0",
      "model_name": "HBoxModel",
      "state": {
       "_dom_classes": [],
       "_model_module": "@jupyter-widgets/controls",
       "_model_module_version": "2.0.0",
       "_model_name": "HBoxModel",
       "_view_count": null,
       "_view_module": "@jupyter-widgets/controls",
       "_view_module_version": "2.0.0",
       "_view_name": "HBoxView",
       "box_style": "",
       "children": [
        "IPY_MODEL_9cde85ce294a45328286b61e3d87aecc"
       ],
       "layout": "IPY_MODEL_803bb59638564de68bdfe4cfac188e68",
       "tabbable": null,
       "tooltip": null
      }
     },
     "803bb59638564de68bdfe4cfac188e68": {
      "model_module": "@jupyter-widgets/base",
      "model_module_version": "2.0.0",
      "model_name": "LayoutModel",
      "state": {
       "_model_module": "@jupyter-widgets/base",
       "_model_module_version": "2.0.0",
       "_model_name": "LayoutModel",
       "_view_count": null,
       "_view_module": "@jupyter-widgets/base",
       "_view_module_version": "2.0.0",
       "_view_name": "LayoutView",
       "align_content": null,
       "align_items": null,
       "align_self": null,
       "border_bottom": null,
       "border_left": null,
       "border_right": null,
       "border_top": null,
       "bottom": null,
       "display": null,
       "flex": null,
       "flex_flow": null,
       "grid_area": null,
       "grid_auto_columns": null,
       "grid_auto_flow": null,
       "grid_auto_rows": null,
       "grid_column": null,
       "grid_gap": null,
       "grid_row": null,
       "grid_template_areas": null,
       "grid_template_columns": null,
       "grid_template_rows": null,
       "height": null,
       "justify_content": null,
       "justify_items": null,
       "left": null,
       "margin": null,
       "max_height": null,
       "max_width": null,
       "min_height": null,
       "min_width": null,
       "object_fit": null,
       "object_position": null,
       "order": null,
       "overflow": null,
       "padding": null,
       "right": null,
       "top": null,
       "visibility": null,
       "width": null
      }
     },
     "9cde85ce294a45328286b61e3d87aecc": {
      "model_module": "@jupyter-widgets/output",
      "model_module_version": "1.0.0",
      "model_name": "OutputModel",
      "state": {
       "_dom_classes": [],
       "_model_module": "@jupyter-widgets/output",
       "_model_module_version": "1.0.0",
       "_model_name": "OutputModel",
       "_view_count": null,
       "_view_module": "@jupyter-widgets/output",
       "_view_module_version": "1.0.0",
       "_view_name": "OutputView",
       "layout": "IPY_MODEL_9d02b1e6c4844c4ab05119794116e27a",
       "msg_id": "",
       "outputs": [
        {
         "data": {
          "text/markdown": "`rz_via_phase_gradient`",
          "text/plain": "<IPython.core.display.Markdown object>"
         },
         "metadata": {},
         "output_type": "display_data"
        },
        {
         "data": {
          "image/svg+xml": "<svg xmlns=\"http://www.w3.org/2000/svg\" xmlns:xlink=\"http://www.w3.org/1999/xlink\" width=\"329pt\" height=\"152pt\" viewBox=\"0.00 0.00 329.00 152.00\">\n<g id=\"graph0\" class=\"graph\" transform=\"scale(1 1) rotate(0) translate(4 148)\">\n<title>my_graph</title>\n<polygon fill=\"white\" stroke=\"transparent\" points=\"-4,4 -4,-148 325,-148 325,4 -4,4\"/>\n<!-- q_G6 -->\n<g id=\"node1\" class=\"node\">\n<title>q_G6</title>\n<text text-anchor=\"middle\" x=\"39\" y=\"-122.3\" font-family=\"Times,serif\" font-size=\"14.00\">q</text>\n</g>\n<!-- RzViaPhaseGradient -->\n<g id=\"node4\" class=\"node\">\n<title>RzViaPhaseGradient</title>\n<polygon fill=\"none\" stroke=\"black\" points=\"115.5,-104 115.5,-121 206.5,-121 206.5,-104 115.5,-104\"/>\n<text text-anchor=\"start\" x=\"118.5\" y=\"-110\" font-family=\"Times,serif\" font-size=\"10.00\">RzViaPhaseGradient</text>\n<polygon fill=\"none\" stroke=\"black\" points=\"115.5,-83 115.5,-104 206.5,-104 206.5,-83 115.5,-83\"/>\n<text text-anchor=\"start\" x=\"157.5\" y=\"-89.8\" font-family=\"Times,serif\" font-size=\"14.00\">q</text>\n<polygon fill=\"none\" stroke=\"black\" points=\"115.5,-62 115.5,-83 206.5,-83 206.5,-62 115.5,-62\"/>\n<text text-anchor=\"start\" x=\"146\" y=\"-68.8\" font-family=\"Times,serif\" font-size=\"14.00\">angle</text>\n<polygon fill=\"none\" stroke=\"black\" points=\"115.5,-41 115.5,-62 206.5,-62 206.5,-41 115.5,-41\"/>\n<text text-anchor=\"start\" x=\"130\" y=\"-47.8\" font-family=\"Times,serif\" font-size=\"14.00\">phase_grad</text>\n</g>\n<!-- q_G6&#45;&gt;RzViaPhaseGradient -->\n<g id=\"edge1\" class=\"edge\">\n<title>q_G6:e-&gt;RzViaPhaseGradient:w</title>\n<path fill=\"none\" stroke=\"black\" d=\"M67,-126C91.94,-126 89.52,-95.73 112.96,-94.07\"/>\n<ellipse fill=\"black\" stroke=\"black\" cx=\"114\" cy=\"-94.03\" rx=\"1\" ry=\"1\"/>\n<text text-anchor=\"middle\" x=\"96.5\" y=\"-105\" font-family=\"Times,serif\" font-size=\"10.00\">1</text>\n</g>\n<!-- angle_G4 -->\n<g id=\"node2\" class=\"node\">\n<title>angle_G4</title>\n<text text-anchor=\"middle\" x=\"39\" y=\"-68.3\" font-family=\"Times,serif\" font-size=\"14.00\">angle</text>\n</g>\n<!-- angle_G4&#45;&gt;RzViaPhaseGradient -->\n<g id=\"edge2\" class=\"edge\">\n<title>angle_G4:e-&gt;RzViaPhaseGradient:w</title>\n<path fill=\"none\" stroke=\"black\" d=\"M67,-72C87.5,-72 93.23,-72 112.57,-72\"/>\n<ellipse fill=\"black\" stroke=\"black\" cx=\"114\" cy=\"-72\" rx=\"1\" ry=\"1\"/>\n<text text-anchor=\"middle\" x=\"96.5\" y=\"-75\" font-family=\"Times,serif\" font-size=\"10.00\">4</text>\n</g>\n<!-- phase_grad_G3 -->\n<g id=\"node3\" class=\"node\">\n<title>phase_grad_G3</title>\n<text text-anchor=\"middle\" x=\"39\" y=\"-14.3\" font-family=\"Times,serif\" font-size=\"14.00\">phase_grad</text>\n</g>\n<!-- phase_grad_G3&#45;&gt;RzViaPhaseGradient -->\n<g id=\"edge3\" class=\"edge\">\n<title>phase_grad_G3:e-&gt;RzViaPhaseGradient:w</title>\n<path fill=\"none\" stroke=\"black\" d=\"M78,-18C99.17,-18 93.47,-48.47 112.55,-50.85\"/>\n<ellipse fill=\"black\" stroke=\"black\" cx=\"114\" cy=\"-50.94\" rx=\"1\" ry=\"1\"/>\n<text text-anchor=\"middle\" x=\"96.5\" y=\"-39\" font-family=\"Times,serif\" font-size=\"10.00\">4</text>\n</g>\n<!-- q_G0 -->\n<g id=\"node5\" class=\"node\">\n<title>q_G0</title>\n<text text-anchor=\"middle\" x=\"282\" y=\"-122.3\" font-family=\"Times,serif\" font-size=\"14.00\">q</text>\n</g>\n<!-- RzViaPhaseGradient&#45;&gt;q_G0 -->\n<g id=\"edge4\" class=\"edge\">\n<title>RzViaPhaseGradient:e-&gt;q_G0:w</title>\n<path fill=\"none\" stroke=\"black\" d=\"M206,-94C230.94,-94 228.52,-124.27 251.96,-125.93\"/>\n<ellipse fill=\"black\" stroke=\"black\" cx=\"253\" cy=\"-125.97\" rx=\"1\" ry=\"1\"/>\n<text text-anchor=\"middle\" x=\"224.5\" y=\"-105\" font-family=\"Times,serif\" font-size=\"10.00\">1</text>\n</g>\n<!-- angle_G7 -->\n<g id=\"node6\" class=\"node\">\n<title>angle_G7</title>\n<text text-anchor=\"middle\" x=\"282\" y=\"-68.3\" font-family=\"Times,serif\" font-size=\"14.00\">angle</text>\n</g>\n<!-- RzViaPhaseGradient&#45;&gt;angle_G7 -->\n<g id=\"edge5\" class=\"edge\">\n<title>RzViaPhaseGradient:e-&gt;angle_G7:w</title>\n<path fill=\"none\" stroke=\"black\" d=\"M206,-72C226.5,-72 232.23,-72 251.57,-72\"/>\n<ellipse fill=\"black\" stroke=\"black\" cx=\"253\" cy=\"-72\" rx=\"1\" ry=\"1\"/>\n<text text-anchor=\"middle\" x=\"224.5\" y=\"-75\" font-family=\"Times,serif\" font-size=\"10.00\">4</text>\n</g>\n<!-- phase_grad_G8 -->\n<g id=\"node7\" class=\"node\">\n<title>phase_grad_G8</title>\n<text text-anchor=\"middle\" x=\"282\" y=\"-14.3\" font-family=\"Times,serif\" font-size=\"14.00\">phase_grad</text>\n</g>\n<!-- RzViaPhaseGradient&#45;&gt;phase_grad_G8 -->\n<g id=\"edge6\" class=\"edge\">\n<title>RzViaPhaseGradient:e-&gt;phase_grad_G8:w</title>\n<path fill=\"none\" stroke=\"black\" d=\"M206,-51C227.17,-51 221.47,-20.53 240.55,-18.15\"/>\n<ellipse fill=\"black\" stroke=\"black\" cx=\"242\" cy=\"-18.06\" rx=\"1\" ry=\"1\"/>\n<text text-anchor=\"middle\" x=\"224.5\" y=\"-39\" font-family=\"Times,serif\" font-size=\"10.00\">4</text>\n</g>\n</g>\n</svg>",
          "text/plain": "<IPython.core.display.SVG object>"
         },
         "metadata": {},
         "output_type": "display_data"
        }
       ],
       "tabbable": null,
       "tooltip": null
      }
     },
     "9d02b1e6c4844c4ab05119794116e27a": {
      "model_module": "@jupyter-widgets/base",
      "model_module_version": "2.0.0",
      "model_name": "LayoutModel",
      "state": {
       "_model_module": "@jupyter-widgets/base",
       "_model_module_version": "2.0.0",
       "_model_name": "LayoutModel",
       "_view_count": null,
       "_view_module": "@jupyter-widgets/base",
       "_view_module_version": "2.0.0",
       "_view_name": "LayoutView",
       "align_content": null,
       "align_items": null,
       "align_self": null,
       "border_bottom": null,
       "border_left": null,
       "border_right": null,
       "border_top": null,
       "bottom": null,
       "display": null,
       "flex": null,
       "flex_flow": null,
       "grid_area": null,
       "grid_auto_columns": null,
       "grid_auto_flow": null,
       "grid_auto_rows": null,
       "grid_column": null,
       "grid_gap": null,
       "grid_row": null,
       "grid_template_areas": null,
       "grid_template_columns": null,
       "grid_template_rows": null,
       "height": null,
       "justify_content": null,
       "justify_items": null,
       "left": null,
       "margin": null,
       "max_height": null,
       "max_width": null,
       "min_height": null,
       "min_width": null,
       "object_fit": null,
       "object_position": null,
       "order": null,
       "overflow": null,
       "padding": null,
       "right": null,
       "top": null,
       "visibility": null,
       "width": null
      }
     }
    },
    "version_major": 2,
    "version_minor": 0
   }
  }
 },
 "nbformat": 4,
 "nbformat_minor": 5
}
