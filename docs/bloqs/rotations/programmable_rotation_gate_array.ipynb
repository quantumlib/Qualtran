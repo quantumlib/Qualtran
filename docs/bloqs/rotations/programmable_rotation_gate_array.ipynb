{
 "cells": [
  {
   "cell_type": "markdown",
   "id": "cd9af9c1",
   "metadata": {
    "cq.autogen": "title_cell"
   },
   "source": [
    "# Programmable Rotation Gate Array"
   ]
  },
  {
   "cell_type": "code",
   "execution_count": 1,
   "id": "d1abb757",
   "metadata": {
    "cq.autogen": "top_imports"
   },
   "outputs": [],
   "source": [
    "from qualtran import Bloq, CompositeBloq, BloqBuilder, Signature, Register\n",
    "from qualtran import QBit, QInt, QUInt, QAny\n",
    "from qualtran.drawing import show_bloq, show_call_graph, show_counts_sigma\n",
    "from typing import *\n",
    "import numpy as np\n",
    "import sympy\n",
    "import cirq"
   ]
  },
  {
   "cell_type": "markdown",
   "id": "c850551e",
   "metadata": {
    "cq.autogen": "ProgrammableRotationGateArray.bloq_doc.md"
   },
   "source": [
    "## `ProgrammableRotationGateArray`\n",
    "An implementation of `ProgrammableRotationGateArrayBase` base class\n",
    "\n",
    "\n",
    "This implementation of the `ProgrammableRotationGateArray` base class expects\n",
    "all interleaved_unitaries to act on the `rotations_target` register.\n",
    "\n",
    "See docstring of `ProgrammableRotationGateArrayBase` for more details."
   ]
  },
  {
   "cell_type": "code",
   "execution_count": 2,
   "id": "d53f66f1",
   "metadata": {
    "cq.autogen": "ProgrammableRotationGateArray.bloq_doc.py"
   },
   "outputs": [],
   "source": [
    "from qualtran.bloqs.rotations import ProgrammableRotationGateArray"
   ]
  },
  {
   "cell_type": "markdown",
   "id": "7a33d905",
   "metadata": {
    "cq.autogen": "ProgrammableRotationGateArray.example_instances.md"
   },
   "source": [
    "### Example Instances"
   ]
  },
  {
   "cell_type": "code",
   "execution_count": 3,
   "id": "fc9007a4",
   "metadata": {
    "cq.autogen": "ProgrammableRotationGateArray.programmable_rotation_gate_array"
   },
   "outputs": [],
   "source": [
    "programmable_rotation_gate_array = ProgrammableRotationGateArray(\n",
    "    [1, 2, 3, 4], kappa=2, rotation_gate=cirq.Z\n",
    ")"
   ]
  },
  {
   "cell_type": "markdown",
   "id": "bff17fcf",
   "metadata": {
    "cq.autogen": "ProgrammableRotationGateArray.graphical_signature.md"
   },
   "source": [
    "#### Graphical Signature"
   ]
  },
  {
   "cell_type": "code",
   "execution_count": 4,
   "id": "d63ccdd6",
   "metadata": {
    "cq.autogen": "ProgrammableRotationGateArray.graphical_signature.py"
   },
   "outputs": [
    {
     "data": {
      "application/vnd.jupyter.widget-view+json": {
       "model_id": "094527d4e4484d5fb45db5b17d45e5f4",
       "version_major": 2,
       "version_minor": 0
      },
      "text/plain": [
       "HBox(children=(Output(outputs=({'output_type': 'display_data', 'data': {'text/plain': '<IPython.core.display.M…"
      ]
     },
     "metadata": {},
     "output_type": "display_data"
    }
   ],
   "source": [
    "from qualtran.drawing import show_bloqs\n",
    "show_bloqs([programmable_rotation_gate_array],\n",
    "           ['`programmable_rotation_gate_array`'])"
   ]
  },
  {
   "cell_type": "markdown",
   "id": "6525116b",
   "metadata": {
    "cq.autogen": "ProgrammableRotationGateArray.call_graph.md"
   },
   "source": [
    "### Call Graph"
   ]
  },
  {
   "cell_type": "code",
   "execution_count": 5,
   "id": "aac3adcd",
   "metadata": {
    "cq.autogen": "ProgrammableRotationGateArray.call_graph.py"
   },
   "outputs": [
    {
     "data": {
      "image/svg+xml": [
       "<svg xmlns=\"http://www.w3.org/2000/svg\" xmlns:xlink=\"http://www.w3.org/1999/xlink\" width=\"658pt\" height=\"131pt\" viewBox=\"0.00 0.00 658.00 131.00\">\n",
       "<g id=\"graph0\" class=\"graph\" transform=\"scale(1 1) rotate(0) translate(4 127)\">\n",
       "<title>counts</title>\n",
       "<polygon fill=\"white\" stroke=\"transparent\" points=\"-4,4 -4,-127 654,-127 654,4 -4,4\"/>\n",
       "<!-- b0 -->\n",
       "<g id=\"node1\" class=\"node\">\n",
       "<title>b0</title>\n",
       "<polygon fill=\"none\" stroke=\"black\" points=\"268,-93 268,-116 418,-116 418,-93 268,-93\"/>\n",
       "<text text-anchor=\"start\" x=\"274\" y=\"-102\" font-family=\"Times,serif\" font-size=\"10.00\">ProgrammableRotationGateArray</text>\n",
       "</g>\n",
       "<!-- b1 -->\n",
       "<g id=\"node2\" class=\"node\">\n",
       "<title>b1</title>\n",
       "<polygon fill=\"none\" stroke=\"black\" points=\"8,-6 8,-29 108,-29 108,-6 8,-6\"/>\n",
       "<text text-anchor=\"start\" x=\"14\" y=\"-15\" font-family=\"Times,serif\" font-size=\"10.00\">QROM((4,), ((),), (2,))</text>\n",
       "</g>\n",
       "<!-- b0&#45;&gt;b1 -->\n",
       "<g id=\"edge1\" class=\"edge\">\n",
       "<title>b0-&gt;b1</title>\n",
       "<path fill=\"none\" stroke=\"black\" d=\"M285.67,-86.9C239.29,-73.07 173.89,-53.56 125.08,-39.01\"/>\n",
       "<polygon fill=\"black\" stroke=\"black\" points=\"125.82,-35.58 115.24,-36.07 123.82,-42.28 125.82,-35.58\"/>\n",
       "<text text-anchor=\"middle\" x=\"221.5\" y=\"-57.8\" font-family=\"Times,serif\" font-size=\"14.00\">1</text>\n",
       "</g>\n",
       "<!-- b2 -->\n",
       "<g id=\"node3\" class=\"node\">\n",
       "<title>b2</title>\n",
       "<polygon fill=\"none\" stroke=\"black\" points=\"142,-6 142,-29 192,-29 192,-6 142,-6\"/>\n",
       "<text text-anchor=\"start\" x=\"148.5\" y=\"-15\" font-family=\"Times,serif\" font-size=\"10.00\">CZ**0.5</text>\n",
       "</g>\n",
       "<!-- b0&#45;&gt;b2 -->\n",
       "<g id=\"edge2\" class=\"edge\">\n",
       "<title>b0-&gt;b2</title>\n",
       "<path fill=\"none\" stroke=\"black\" d=\"M307.38,-86.8C279.11,-73.14 239.48,-54 209.54,-39.54\"/>\n",
       "<polygon fill=\"black\" stroke=\"black\" points=\"210.71,-36.22 200.18,-35.03 207.66,-42.53 210.71,-36.22\"/>\n",
       "<text text-anchor=\"middle\" x=\"269.5\" y=\"-57.8\" font-family=\"Times,serif\" font-size=\"14.00\">1</text>\n",
       "</g>\n",
       "<!-- b3 -->\n",
       "<g id=\"node4\" class=\"node\">\n",
       "<title>b3</title>\n",
       "<polygon fill=\"none\" stroke=\"black\" points=\"226,-6 226,-29 326,-29 326,-6 226,-6\"/>\n",
       "<text text-anchor=\"start\" x=\"232\" y=\"-15\" font-family=\"Times,serif\" font-size=\"10.00\">QROM((4,), ((),), (2,))</text>\n",
       "</g>\n",
       "<!-- b0&#45;&gt;b3 -->\n",
       "<g id=\"edge3\" class=\"edge\">\n",
       "<title>b0-&gt;b3</title>\n",
       "<path fill=\"none\" stroke=\"black\" d=\"M329.44,-86.8C319.82,-74.59 306.73,-57.99 295.92,-44.28\"/>\n",
       "<polygon fill=\"black\" stroke=\"black\" points=\"298.48,-41.86 289.54,-36.18 292.98,-46.2 298.48,-41.86\"/>\n",
       "<text text-anchor=\"middle\" x=\"317.5\" y=\"-57.8\" font-family=\"Times,serif\" font-size=\"14.00\">1</text>\n",
       "</g>\n",
       "<!-- b4 -->\n",
       "<g id=\"node5\" class=\"node\">\n",
       "<title>b4</title>\n",
       "<polygon fill=\"none\" stroke=\"black\" points=\"360,-6 360,-29 460,-29 460,-6 360,-6\"/>\n",
       "<text text-anchor=\"start\" x=\"366\" y=\"-15\" font-family=\"Times,serif\" font-size=\"10.00\">QROM((4,), ((),), (2,))</text>\n",
       "</g>\n",
       "<!-- b0&#45;&gt;b4 -->\n",
       "<g id=\"edge4\" class=\"edge\">\n",
       "<title>b0-&gt;b4</title>\n",
       "<path fill=\"none\" stroke=\"black\" d=\"M356.56,-86.8C366.18,-74.59 379.27,-57.99 390.08,-44.28\"/>\n",
       "<polygon fill=\"black\" stroke=\"black\" points=\"393.02,-46.2 396.46,-36.18 387.52,-41.86 393.02,-46.2\"/>\n",
       "<text text-anchor=\"middle\" x=\"384.5\" y=\"-57.8\" font-family=\"Times,serif\" font-size=\"14.00\">1</text>\n",
       "</g>\n",
       "<!-- b5 -->\n",
       "<g id=\"node6\" class=\"node\">\n",
       "<title>b5</title>\n",
       "<polygon fill=\"none\" stroke=\"black\" points=\"494,-6 494,-29 548,-29 548,-6 494,-6\"/>\n",
       "<text text-anchor=\"start\" x=\"500\" y=\"-15\" font-family=\"Times,serif\" font-size=\"10.00\">CZ**0.25</text>\n",
       "</g>\n",
       "<!-- b0&#45;&gt;b5 -->\n",
       "<g id=\"edge5\" class=\"edge\">\n",
       "<title>b0-&gt;b5</title>\n",
       "<path fill=\"none\" stroke=\"black\" d=\"M379.02,-86.8C407.28,-73.3 446.75,-54.45 476.91,-40.06\"/>\n",
       "<polygon fill=\"black\" stroke=\"black\" points=\"478.43,-43.21 485.94,-35.74 475.41,-36.89 478.43,-43.21\"/>\n",
       "<text text-anchor=\"middle\" x=\"446.5\" y=\"-57.8\" font-family=\"Times,serif\" font-size=\"14.00\">1</text>\n",
       "</g>\n",
       "<!-- b6 -->\n",
       "<g id=\"node7\" class=\"node\">\n",
       "<title>b6</title>\n",
       "<polygon fill=\"none\" stroke=\"black\" points=\"582,-6 582,-29 642,-29 642,-6 582,-6\"/>\n",
       "<text text-anchor=\"start\" x=\"588.5\" y=\"-15\" font-family=\"Times,serif\" font-size=\"10.00\">CZ**0.125</text>\n",
       "</g>\n",
       "<!-- b0&#45;&gt;b6 -->\n",
       "<g id=\"edge6\" class=\"edge\">\n",
       "<title>b0-&gt;b6</title>\n",
       "<path fill=\"none\" stroke=\"black\" d=\"M401.68,-86.89C444.3,-74.27 503.55,-56.31 564.11,-36.23\"/>\n",
       "<polygon fill=\"black\" stroke=\"black\" points=\"565.46,-39.47 573.84,-32.98 563.24,-32.83 565.46,-39.47\"/>\n",
       "<text text-anchor=\"middle\" x=\"507.5\" y=\"-57.8\" font-family=\"Times,serif\" font-size=\"14.00\">1</text>\n",
       "</g>\n",
       "</g>\n",
       "</svg>"
      ],
      "text/plain": [
       "<IPython.core.display.SVG object>"
      ]
     },
     "metadata": {},
     "output_type": "display_data"
    },
    {
     "data": {
      "text/markdown": [
       "#### Counts totals:\n",
       " - `CZ**0.125`: 1\n",
       " - `CZ**0.25`: 1\n",
       " - `CZ**0.5`: 1\n",
       " - `QROM((4,), ((),), (2,))`: 1\n",
       " - `QROM((4,), ((),), (2,))`: 1\n",
       " - `QROM((4,), ((),), (2,))`: 1"
      ],
      "text/plain": [
       "<IPython.core.display.Markdown object>"
      ]
     },
     "metadata": {},
     "output_type": "display_data"
    }
   ],
   "source": [
    "from qualtran.resource_counting.generalizers import ignore_split_join\n",
    "programmable_rotation_gate_array_g, programmable_rotation_gate_array_sigma = programmable_rotation_gate_array.call_graph(max_depth=1, generalizer=ignore_split_join)\n",
    "show_call_graph(programmable_rotation_gate_array_g)\n",
    "show_counts_sigma(programmable_rotation_gate_array_sigma)"
   ]
  }
 ],
 "metadata": {
  "kernelspec": {
   "display_name": "Python 3",
   "language": "python",
   "name": "python3"
  },
  "language_info": {
   "codemirror_mode": {
    "name": "ipython",
    "version": 3
   },
   "file_extension": ".py",
   "mimetype": "text/x-python",
   "name": "python",
   "nbconvert_exporter": "python",
   "pygments_lexer": "ipython3",
   "version": "3.11.8"
  },
  "widgets": {
   "application/vnd.jupyter.widget-state+json": {
    "state": {
     "094527d4e4484d5fb45db5b17d45e5f4": {
      "model_module": "@jupyter-widgets/controls",
      "model_module_version": "2.0.0",
      "model_name": "HBoxModel",
      "state": {
       "_dom_classes": [],
       "_model_module": "@jupyter-widgets/controls",
       "_model_module_version": "2.0.0",
       "_model_name": "HBoxModel",
       "_view_count": null,
       "_view_module": "@jupyter-widgets/controls",
       "_view_module_version": "2.0.0",
       "_view_name": "HBoxView",
       "box_style": "",
       "children": [
        "IPY_MODEL_6965dc158ee74b26ac4a8f4f31df4eec"
       ],
       "layout": "IPY_MODEL_e2d283c937dc4ab9aa479fb22e567a36",
       "tabbable": null,
       "tooltip": null
      }
     },
     "6965dc158ee74b26ac4a8f4f31df4eec": {
      "model_module": "@jupyter-widgets/output",
      "model_module_version": "1.0.0",
      "model_name": "OutputModel",
      "state": {
       "_dom_classes": [],
       "_model_module": "@jupyter-widgets/output",
       "_model_module_version": "1.0.0",
       "_model_name": "OutputModel",
       "_view_count": null,
       "_view_module": "@jupyter-widgets/output",
       "_view_module_version": "1.0.0",
       "_view_name": "OutputView",
       "layout": "IPY_MODEL_fc6322d2391645a69546e72545bdcf4e",
       "msg_id": "",
       "outputs": [
        {
         "data": {
          "text/markdown": "`programmable_rotation_gate_array`",
          "text/plain": "<IPython.core.display.Markdown object>"
         },
         "metadata": {},
         "output_type": "display_data"
        },
        {
         "data": {
          "image/svg+xml": "<svg xmlns=\"http://www.w3.org/2000/svg\" xmlns:xlink=\"http://www.w3.org/1999/xlink\" width=\"458pt\" height=\"152pt\" viewBox=\"0.00 0.00 458.00 152.00\">\n<g id=\"graph0\" class=\"graph\" transform=\"scale(1 1) rotate(0) translate(4 148)\">\n<title>my_graph</title>\n<polygon fill=\"white\" stroke=\"transparent\" points=\"-4,4 -4,-148 454,-148 454,4 -4,4\"/>\n<!-- selection_G8 -->\n<g id=\"node1\" class=\"node\">\n<title>selection_G8</title>\n<text text-anchor=\"middle\" x=\"58\" y=\"-122.3\" font-family=\"Times,serif\" font-size=\"14.00\">selection</text>\n</g>\n<!-- ProgrammableRotationGateArray -->\n<g id=\"node4\" class=\"node\">\n<title>ProgrammableRotationGateArray</title>\n<polygon fill=\"none\" stroke=\"black\" points=\"153,-104 153,-121 297,-121 297,-104 153,-104\"/>\n<text text-anchor=\"start\" x=\"156\" y=\"-110\" font-family=\"Times,serif\" font-size=\"10.00\">ProgrammableRotationGateArray</text>\n<polygon fill=\"none\" stroke=\"black\" points=\"153,-83 153,-104 297,-104 297,-83 153,-83\"/>\n<text text-anchor=\"start\" x=\"200.5\" y=\"-89.8\" font-family=\"Times,serif\" font-size=\"14.00\">selection</text>\n<polygon fill=\"none\" stroke=\"black\" points=\"153,-62 153,-83 297,-83 297,-62 153,-62\"/>\n<text text-anchor=\"start\" x=\"175\" y=\"-68.8\" font-family=\"Times,serif\" font-size=\"14.00\">kappa_load_target</text>\n<polygon fill=\"none\" stroke=\"black\" points=\"153,-41 153,-62 297,-62 297,-41 153,-41\"/>\n<text text-anchor=\"start\" x=\"182.5\" y=\"-47.8\" font-family=\"Times,serif\" font-size=\"14.00\">rotations_target</text>\n</g>\n<!-- selection_G8&#45;&gt;ProgrammableRotationGateArray -->\n<g id=\"edge1\" class=\"edge\">\n<title>selection_G8:e-&gt;ProgrammableRotationGateArray:w</title>\n<path fill=\"none\" stroke=\"black\" d=\"M92,-126C121.9,-126 122.38,-95.48 150.9,-94.05\"/>\n<ellipse fill=\"black\" stroke=\"black\" cx=\"152\" cy=\"-94.02\" rx=\"1\" ry=\"1\"/>\n<text text-anchor=\"middle\" x=\"134.5\" y=\"-102\" font-family=\"Times,serif\" font-size=\"10.00\">2</text>\n</g>\n<!-- kappa_load_target_G1 -->\n<g id=\"node2\" class=\"node\">\n<title>kappa_load_target_G1</title>\n<text text-anchor=\"middle\" x=\"58\" y=\"-68.3\" font-family=\"Times,serif\" font-size=\"14.00\">kappa_load_target</text>\n</g>\n<!-- kappa_load_target_G1&#45;&gt;ProgrammableRotationGateArray -->\n<g id=\"edge2\" class=\"edge\">\n<title>kappa_load_target_G1:e-&gt;ProgrammableRotationGateArray:w</title>\n<path fill=\"none\" stroke=\"black\" d=\"M116,-72C131.67,-72 136.14,-72 150.77,-72\"/>\n<ellipse fill=\"black\" stroke=\"black\" cx=\"152\" cy=\"-72\" rx=\"1\" ry=\"1\"/>\n<text text-anchor=\"middle\" x=\"134.5\" y=\"-75\" font-family=\"Times,serif\" font-size=\"10.00\">2</text>\n</g>\n<!-- rotations_target_G3 -->\n<g id=\"node3\" class=\"node\">\n<title>rotations_target_G3</title>\n<text text-anchor=\"middle\" x=\"58\" y=\"-14.3\" font-family=\"Times,serif\" font-size=\"14.00\">rotations_target</text>\n</g>\n<!-- rotations_target_G3&#45;&gt;ProgrammableRotationGateArray -->\n<g id=\"edge3\" class=\"edge\">\n<title>rotations_target_G3:e-&gt;ProgrammableRotationGateArray:w</title>\n<path fill=\"none\" stroke=\"black\" d=\"M110,-18C133.34,-18 129.2,-48.97 150.83,-50.91\"/>\n<ellipse fill=\"black\" stroke=\"black\" cx=\"152\" cy=\"-50.96\" rx=\"1\" ry=\"1\"/>\n<text text-anchor=\"middle\" x=\"134.5\" y=\"-43\" font-family=\"Times,serif\" font-size=\"10.00\">1</text>\n</g>\n<!-- selection_G6 -->\n<g id=\"node5\" class=\"node\">\n<title>selection_G6</title>\n<text text-anchor=\"middle\" x=\"392\" y=\"-122.3\" font-family=\"Times,serif\" font-size=\"14.00\">selection</text>\n</g>\n<!-- ProgrammableRotationGateArray&#45;&gt;selection_G6 -->\n<g id=\"edge4\" class=\"edge\">\n<title>ProgrammableRotationGateArray:e-&gt;selection_G6:w</title>\n<path fill=\"none\" stroke=\"black\" d=\"M297,-94C326.9,-94 327.38,-124.52 355.9,-125.95\"/>\n<ellipse fill=\"black\" stroke=\"black\" cx=\"357\" cy=\"-125.98\" rx=\"1\" ry=\"1\"/>\n<text text-anchor=\"middle\" x=\"315.5\" y=\"-102\" font-family=\"Times,serif\" font-size=\"10.00\">2</text>\n</g>\n<!-- kappa_load_target_G7 -->\n<g id=\"node6\" class=\"node\">\n<title>kappa_load_target_G7</title>\n<text text-anchor=\"middle\" x=\"392\" y=\"-68.3\" font-family=\"Times,serif\" font-size=\"14.00\">kappa_load_target</text>\n</g>\n<!-- ProgrammableRotationGateArray&#45;&gt;kappa_load_target_G7 -->\n<g id=\"edge5\" class=\"edge\">\n<title>ProgrammableRotationGateArray:e-&gt;kappa_load_target_G7:w</title>\n<path fill=\"none\" stroke=\"black\" d=\"M297,-72C312.67,-72 317.14,-72 331.77,-72\"/>\n<ellipse fill=\"black\" stroke=\"black\" cx=\"333\" cy=\"-72\" rx=\"1\" ry=\"1\"/>\n<text text-anchor=\"middle\" x=\"315.5\" y=\"-75\" font-family=\"Times,serif\" font-size=\"10.00\">2</text>\n</g>\n<!-- rotations_target_G4 -->\n<g id=\"node7\" class=\"node\">\n<title>rotations_target_G4</title>\n<text text-anchor=\"middle\" x=\"392\" y=\"-14.3\" font-family=\"Times,serif\" font-size=\"14.00\">rotations_target</text>\n</g>\n<!-- ProgrammableRotationGateArray&#45;&gt;rotations_target_G4 -->\n<g id=\"edge6\" class=\"edge\">\n<title>ProgrammableRotationGateArray:e-&gt;rotations_target_G4:w</title>\n<path fill=\"none\" stroke=\"black\" d=\"M297,-51C320.34,-51 316.2,-20.03 337.83,-18.09\"/>\n<ellipse fill=\"black\" stroke=\"black\" cx=\"339\" cy=\"-18.04\" rx=\"1\" ry=\"1\"/>\n<text text-anchor=\"middle\" x=\"315.5\" y=\"-43\" font-family=\"Times,serif\" font-size=\"10.00\">1</text>\n</g>\n</g>\n</svg>",
          "text/plain": "<IPython.core.display.SVG object>"
         },
         "metadata": {},
         "output_type": "display_data"
        }
       ],
       "tabbable": null,
       "tooltip": null
      }
     },
     "e2d283c937dc4ab9aa479fb22e567a36": {
      "model_module": "@jupyter-widgets/base",
      "model_module_version": "2.0.0",
      "model_name": "LayoutModel",
      "state": {
       "_model_module": "@jupyter-widgets/base",
       "_model_module_version": "2.0.0",
       "_model_name": "LayoutModel",
       "_view_count": null,
       "_view_module": "@jupyter-widgets/base",
       "_view_module_version": "2.0.0",
       "_view_name": "LayoutView",
       "align_content": null,
       "align_items": null,
       "align_self": null,
       "border_bottom": null,
       "border_left": null,
       "border_right": null,
       "border_top": null,
       "bottom": null,
       "display": null,
       "flex": null,
       "flex_flow": null,
       "grid_area": null,
       "grid_auto_columns": null,
       "grid_auto_flow": null,
       "grid_auto_rows": null,
       "grid_column": null,
       "grid_gap": null,
       "grid_row": null,
       "grid_template_areas": null,
       "grid_template_columns": null,
       "grid_template_rows": null,
       "height": null,
       "justify_content": null,
       "justify_items": null,
       "left": null,
       "margin": null,
       "max_height": null,
       "max_width": null,
       "min_height": null,
       "min_width": null,
       "object_fit": null,
       "object_position": null,
       "order": null,
       "overflow": null,
       "padding": null,
       "right": null,
       "top": null,
       "visibility": null,
       "width": null
      }
     },
     "fc6322d2391645a69546e72545bdcf4e": {
      "model_module": "@jupyter-widgets/base",
      "model_module_version": "2.0.0",
      "model_name": "LayoutModel",
      "state": {
       "_model_module": "@jupyter-widgets/base",
       "_model_module_version": "2.0.0",
       "_model_name": "LayoutModel",
       "_view_count": null,
       "_view_module": "@jupyter-widgets/base",
       "_view_module_version": "2.0.0",
       "_view_name": "LayoutView",
       "align_content": null,
       "align_items": null,
       "align_self": null,
       "border_bottom": null,
       "border_left": null,
       "border_right": null,
       "border_top": null,
       "bottom": null,
       "display": null,
       "flex": null,
       "flex_flow": null,
       "grid_area": null,
       "grid_auto_columns": null,
       "grid_auto_flow": null,
       "grid_auto_rows": null,
       "grid_column": null,
       "grid_gap": null,
       "grid_row": null,
       "grid_template_areas": null,
       "grid_template_columns": null,
       "grid_template_rows": null,
       "height": null,
       "justify_content": null,
       "justify_items": null,
       "left": null,
       "margin": null,
       "max_height": null,
       "max_width": null,
       "min_height": null,
       "min_width": null,
       "object_fit": null,
       "object_position": null,
       "order": null,
       "overflow": null,
       "padding": null,
       "right": null,
       "top": null,
       "visibility": null,
       "width": null
      }
     }
    },
    "version_major": 2,
    "version_minor": 0
   }
  }
 },
 "nbformat": 4,
 "nbformat_minor": 5
}
