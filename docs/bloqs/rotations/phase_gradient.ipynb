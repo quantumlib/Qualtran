{
 "cells": [
  {
   "cell_type": "markdown",
   "id": "1a00bfe1",
   "metadata": {
    "cq.autogen": "title_cell"
   },
   "source": [
    "# Rotations via Phase Gradients"
   ]
  },
  {
   "cell_type": "code",
   "execution_count": 1,
   "id": "023f9b68",
   "metadata": {
    "cq.autogen": "top_imports"
   },
   "outputs": [],
   "source": [
    "from qualtran import Bloq, CompositeBloq, BloqBuilder, Signature, Register\n",
    "from qualtran import QBit, QInt, QUInt, QAny\n",
    "from qualtran.drawing import show_bloq, show_call_graph, show_counts_sigma\n",
    "from typing import *\n",
    "import numpy as np\n",
    "import sympy\n",
    "import cirq"
   ]
  },
  {
   "cell_type": "markdown",
   "id": "2ff23077",
   "metadata": {
    "cq.autogen": "PhaseGradientUnitary.bloq_doc.md"
   },
   "source": [
    "## `PhaseGradientUnitary`\n",
    "Implementation of (Controlled-/)PhaseGradient unitary gate on an n-bit register.\n",
    "\n",
    "The class supports implementing the phase gradient unitary gate and a controlled version\n",
    "thereof. The n bit phase gradient unitary is defined as\n",
    "\n",
    "$$\n",
    "    \\text{PhaseGrad}_{n, t} = \\sum_{k=0}^{2^{n}-1}|k\\rangle \\langle k| \\omega_{n, t}^{k}\n",
    "$$\n",
    "\n",
    "where\n",
    "\n",
    "$$\n",
    "    \\omega_{n, t} = \\exp\\left(\\frac{2\\pi i t}{2^n}\\right)\n",
    "$$\n",
    "\n",
    "The implementation simply decomposes into $n$ (controlled-) rotations, one on each qubit.\n",
    "\n",
    "#### Registers\n",
    " - `phase_grad`: A THRU register which the phase gradient is applied to.\n",
    " - `(optional) ctrl`: A THRU register which specifies the control for this gate. Must have `is_controlled` set to `True` to use this register. \n",
    "\n",
    "#### Parameters\n",
    " - `bitsize`: The number of qubits of the register being acted on\n",
    " - `exponent`: $t$ in the above expression for $\\omega_{n, t}$, a multiplicative factor for the phases applied to each state. Defaults to 1.0.\n",
    " - `is_controlled`: `bool` which determines if the unitary is controlled via a `ctrl` register.\n",
    " - `eps`: The precision for the total unitary, each underlying rotation is synthesized to a precision of `eps` / `bitsize`. \n",
    "\n",
    "Costs:\n",
    "    qubits: 0 ancilla qubits are allocated.\n",
    "    T-gates: Only uses 1 T gate explicitly but does rely on more costly Z rotations.\n",
    "    rotations: Uses $n$ rotations with angles varying from 1/2 (for a single T-gate) to 1/(2^n).\n",
    "\n",
    "#### References\n",
    " - [Compilation of Fault-Tolerant Quantum Heuristics for Combinatorial Optimization](https://arxiv.org/abs/2007.07391). Appendix A: Addition for controlled rotations\n",
    " - [Halving the cost of quantum addition](https://arxiv.org/abs/1709.06648). Gidney (2017).\n"
   ]
  },
  {
   "cell_type": "code",
   "execution_count": 2,
   "id": "da8e8cb9",
   "metadata": {
    "cq.autogen": "PhaseGradientUnitary.bloq_doc.py"
   },
   "outputs": [],
   "source": [
    "from qualtran.bloqs.rotations.phase_gradient import PhaseGradientUnitary"
   ]
  },
  {
   "cell_type": "markdown",
   "id": "4a61e929",
   "metadata": {
    "cq.autogen": "PhaseGradientUnitary.example_instances.md"
   },
   "source": [
    "### Example Instances"
   ]
  },
  {
   "cell_type": "code",
   "execution_count": 3,
   "id": "fb8b2119",
   "metadata": {
    "cq.autogen": "PhaseGradientUnitary.phase_gradient_unitary"
   },
   "outputs": [],
   "source": [
    "phase_gradient_unitary = PhaseGradientUnitary(4)"
   ]
  },
  {
   "cell_type": "code",
   "execution_count": 4,
   "id": "97617cff",
   "metadata": {
    "cq.autogen": "PhaseGradientUnitary.phase_gradient_unitary_symbolic"
   },
   "outputs": [],
   "source": [
    "n = sympy.symbols('n')\n",
    "phase_gradient_unitary_symbolic = PhaseGradientUnitary(bitsize=n)"
   ]
  },
  {
   "cell_type": "markdown",
   "id": "fb1868c8",
   "metadata": {
    "cq.autogen": "PhaseGradientUnitary.graphical_signature.md"
   },
   "source": [
    "#### Graphical Signature"
   ]
  },
  {
   "cell_type": "code",
   "execution_count": 5,
   "id": "3dd69f8a",
   "metadata": {
    "cq.autogen": "PhaseGradientUnitary.graphical_signature.py"
   },
   "outputs": [
    {
     "data": {
      "application/vnd.jupyter.widget-view+json": {
       "model_id": "ae01b0a627204d489a5e84ba6a155f1c",
       "version_major": 2,
       "version_minor": 0
      },
      "text/plain": [
       "HBox(children=(Output(outputs=({'output_type': 'display_data', 'data': {'text/plain': '<IPython.core.display.M…"
      ]
     },
     "metadata": {},
     "output_type": "display_data"
    }
   ],
   "source": [
    "from qualtran.drawing import show_bloqs\n",
    "show_bloqs([phase_gradient_unitary, phase_gradient_unitary_symbolic],\n",
    "           ['`phase_gradient_unitary`', '`phase_gradient_unitary_symbolic`'])"
   ]
  },
  {
   "cell_type": "markdown",
   "id": "3d6c5c30",
   "metadata": {
    "cq.autogen": "PhaseGradientUnitary.call_graph.md"
   },
   "source": [
    "### Call Graph"
   ]
  },
  {
   "cell_type": "code",
   "execution_count": 6,
   "id": "68ae28a6",
   "metadata": {
    "cq.autogen": "PhaseGradientUnitary.call_graph.py"
   },
   "outputs": [
    {
     "data": {
      "image/svg+xml": [
       "<svg xmlns=\"http://www.w3.org/2000/svg\" xmlns:xlink=\"http://www.w3.org/1999/xlink\" width=\"310pt\" height=\"131pt\" viewBox=\"0.00 0.00 310.00 131.00\">\n",
       "<g id=\"graph0\" class=\"graph\" transform=\"scale(1 1) rotate(0) translate(4 127)\">\n",
       "<title>counts</title>\n",
       "<polygon fill=\"white\" stroke=\"transparent\" points=\"-4,4 -4,-127 306,-127 306,4 -4,4\"/>\n",
       "<!-- b0 -->\n",
       "<g id=\"node1\" class=\"node\">\n",
       "<title>b0</title>\n",
       "<polygon fill=\"none\" stroke=\"black\" points=\"92,-93 92,-116 196,-116 196,-93 92,-93\"/>\n",
       "<text text-anchor=\"start\" x=\"98.5\" y=\"-102\" font-family=\"Times,serif\" font-size=\"10.00\">PhaseGradientUnitary</text>\n",
       "</g>\n",
       "<!-- b1 -->\n",
       "<g id=\"node2\" class=\"node\">\n",
       "<title>b1</title>\n",
       "<polygon fill=\"none\" stroke=\"black\" points=\"8,-6 8,-29 50,-29 50,-6 8,-6\"/>\n",
       "<text text-anchor=\"start\" x=\"14\" y=\"-15\" font-family=\"Times,serif\" font-size=\"10.00\">Z**1.0</text>\n",
       "</g>\n",
       "<!-- b0&#45;&gt;b1 -->\n",
       "<g id=\"edge1\" class=\"edge\">\n",
       "<title>b0-&gt;b1</title>\n",
       "<path fill=\"none\" stroke=\"black\" d=\"M120.73,-86.8C103.35,-73.95 79.41,-56.26 60.34,-42.17\"/>\n",
       "<polygon fill=\"black\" stroke=\"black\" points=\"62.36,-39.3 52.24,-36.18 58.2,-44.93 62.36,-39.3\"/>\n",
       "<text text-anchor=\"middle\" x=\"97.5\" y=\"-57.8\" font-family=\"Times,serif\" font-size=\"14.00\">1</text>\n",
       "</g>\n",
       "<!-- b2 -->\n",
       "<g id=\"node3\" class=\"node\">\n",
       "<title>b2</title>\n",
       "<polygon fill=\"none\" stroke=\"black\" points=\"84,-6 84,-29 126,-29 126,-6 84,-6\"/>\n",
       "<text text-anchor=\"start\" x=\"90\" y=\"-15\" font-family=\"Times,serif\" font-size=\"10.00\">Z**0.5</text>\n",
       "</g>\n",
       "<!-- b0&#45;&gt;b2 -->\n",
       "<g id=\"edge2\" class=\"edge\">\n",
       "<title>b0-&gt;b2</title>\n",
       "<path fill=\"none\" stroke=\"black\" d=\"M136.11,-86.8C130.66,-74.93 123.32,-58.93 117.14,-45.45\"/>\n",
       "<polygon fill=\"black\" stroke=\"black\" points=\"120.23,-43.8 112.88,-36.18 113.87,-46.72 120.23,-43.8\"/>\n",
       "<text text-anchor=\"middle\" x=\"130.5\" y=\"-57.8\" font-family=\"Times,serif\" font-size=\"14.00\">1</text>\n",
       "</g>\n",
       "<!-- b3 -->\n",
       "<g id=\"node4\" class=\"node\">\n",
       "<title>b3</title>\n",
       "<polygon fill=\"none\" stroke=\"black\" points=\"160,-6 160,-29 208,-29 208,-6 160,-6\"/>\n",
       "<text text-anchor=\"start\" x=\"166.5\" y=\"-15\" font-family=\"Times,serif\" font-size=\"10.00\">Z**0.25</text>\n",
       "</g>\n",
       "<!-- b0&#45;&gt;b3 -->\n",
       "<g id=\"edge3\" class=\"edge\">\n",
       "<title>b0-&gt;b3</title>\n",
       "<path fill=\"none\" stroke=\"black\" d=\"M152.09,-86.8C157.68,-74.93 165.21,-58.93 171.55,-45.45\"/>\n",
       "<polygon fill=\"black\" stroke=\"black\" points=\"174.83,-46.71 175.92,-36.18 168.49,-43.73 174.83,-46.71\"/>\n",
       "<text text-anchor=\"middle\" x=\"170.5\" y=\"-57.8\" font-family=\"Times,serif\" font-size=\"14.00\">1</text>\n",
       "</g>\n",
       "<!-- b4 -->\n",
       "<g id=\"node5\" class=\"node\">\n",
       "<title>b4</title>\n",
       "<polygon fill=\"none\" stroke=\"black\" points=\"242,-6 242,-29 294,-29 294,-6 242,-6\"/>\n",
       "<text text-anchor=\"start\" x=\"248\" y=\"-15\" font-family=\"Times,serif\" font-size=\"10.00\">Z**0.125</text>\n",
       "</g>\n",
       "<!-- b0&#45;&gt;b4 -->\n",
       "<g id=\"edge4\" class=\"edge\">\n",
       "<title>b0-&gt;b4</title>\n",
       "<path fill=\"none\" stroke=\"black\" d=\"M169.09,-86.8C187.92,-73.9 213.88,-56.1 234.48,-41.98\"/>\n",
       "<polygon fill=\"black\" stroke=\"black\" points=\"236.67,-44.72 242.94,-36.18 232.72,-38.94 236.67,-44.72\"/>\n",
       "<text text-anchor=\"middle\" x=\"216.5\" y=\"-57.8\" font-family=\"Times,serif\" font-size=\"14.00\">1</text>\n",
       "</g>\n",
       "</g>\n",
       "</svg>"
      ],
      "text/plain": [
       "<IPython.core.display.SVG object>"
      ]
     },
     "metadata": {},
     "output_type": "display_data"
    },
    {
     "data": {
      "text/markdown": [
       "#### Counts totals:\n",
       " - `Z**0.125`: 1\n",
       " - `Z**0.25`: 1\n",
       " - `Z**0.5`: 1\n",
       " - `Z**1.0`: 1"
      ],
      "text/plain": [
       "<IPython.core.display.Markdown object>"
      ]
     },
     "metadata": {},
     "output_type": "display_data"
    }
   ],
   "source": [
    "from qualtran.resource_counting.generalizers import ignore_split_join\n",
    "phase_gradient_unitary_g, phase_gradient_unitary_sigma = phase_gradient_unitary.call_graph(max_depth=1, generalizer=ignore_split_join)\n",
    "show_call_graph(phase_gradient_unitary_g)\n",
    "show_counts_sigma(phase_gradient_unitary_sigma)"
   ]
  },
  {
   "cell_type": "markdown",
   "id": "d572c61b",
   "metadata": {
    "cq.autogen": "PhaseGradientState.bloq_doc.md"
   },
   "source": [
    "## `PhaseGradientState`\n",
    "Prepare a phase gradient state $|\\phi\\rangle$ on a new register of bitsize $b_{grad}$\n",
    "\n",
    "$$\n",
    "    |\\phi\\rangle = \\frac{1}{\\sqrt{2^{n}}} \\sum_{k=0}^{2^{n} - 1} \\omega_{n, t}^{k} |k\\rangle\n",
    "$$\n",
    "\n",
    "where\n",
    "\n",
    "$$\n",
    "    \\omega_{n, t} = \\exp\\left(\\frac{2\\pi i t}{2^n}\\right)\n",
    "$$\n",
    "\n",
    "Allocates / deallocates registers to store the phase gradient state and delegates\n",
    "to the `PhaseGradientUnitary` bloq defined above.\n",
    "\n",
    "#### References\n",
    " - [Compilation of Fault-Tolerant Quantum Heuristics for Combinatorial Optimization](https://arxiv.org/abs/2007.07391). Appendix A: Addition for controlled rotations\n"
   ]
  },
  {
   "cell_type": "code",
   "execution_count": 7,
   "id": "ea9d2c04",
   "metadata": {
    "cq.autogen": "PhaseGradientState.bloq_doc.py"
   },
   "outputs": [],
   "source": [
    "from qualtran.bloqs.rotations import PhaseGradientState"
   ]
  },
  {
   "cell_type": "markdown",
   "id": "9b9f4cc7",
   "metadata": {
    "cq.autogen": "PhaseGradientState.example_instances.md"
   },
   "source": [
    "### Example Instances"
   ]
  },
  {
   "cell_type": "code",
   "execution_count": 8,
   "id": "d82675a2",
   "metadata": {
    "cq.autogen": "PhaseGradientState.phase_gradient_state"
   },
   "outputs": [],
   "source": [
    "from qualtran import QFxp\n",
    "\n",
    "phase_gradient_state = PhaseGradientState(4)"
   ]
  },
  {
   "cell_type": "markdown",
   "id": "929172e4",
   "metadata": {
    "cq.autogen": "PhaseGradientState.graphical_signature.md"
   },
   "source": [
    "#### Graphical Signature"
   ]
  },
  {
   "cell_type": "code",
   "execution_count": 9,
   "id": "93825488",
   "metadata": {
    "cq.autogen": "PhaseGradientState.graphical_signature.py"
   },
   "outputs": [
    {
     "data": {
      "application/vnd.jupyter.widget-view+json": {
       "model_id": "f5b9b81ce87a49369f0a7e6601ca1229",
       "version_major": 2,
       "version_minor": 0
      },
      "text/plain": [
       "HBox(children=(Output(outputs=({'output_type': 'display_data', 'data': {'text/plain': '<IPython.core.display.M…"
      ]
     },
     "metadata": {},
     "output_type": "display_data"
    }
   ],
   "source": [
    "from qualtran.drawing import show_bloqs\n",
    "show_bloqs([phase_gradient_state],\n",
    "           ['`phase_gradient_state`'])"
   ]
  },
  {
   "cell_type": "markdown",
   "id": "5aba9e2b",
   "metadata": {
    "cq.autogen": "PhaseGradientState.call_graph.md"
   },
   "source": [
    "### Call Graph"
   ]
  },
  {
   "cell_type": "code",
   "execution_count": 10,
   "id": "1c258d12",
   "metadata": {
    "cq.autogen": "PhaseGradientState.call_graph.py"
   },
   "outputs": [
    {
     "data": {
      "image/svg+xml": [
       "<svg xmlns=\"http://www.w3.org/2000/svg\" xmlns:xlink=\"http://www.w3.org/1999/xlink\" width=\"282pt\" height=\"131pt\" viewBox=\"0.00 0.00 282.00 131.00\">\n",
       "<g id=\"graph0\" class=\"graph\" transform=\"scale(1 1) rotate(0) translate(4 127)\">\n",
       "<title>counts</title>\n",
       "<polygon fill=\"white\" stroke=\"transparent\" points=\"-4,4 -4,-127 278,-127 278,4 -4,4\"/>\n",
       "<!-- b0 -->\n",
       "<g id=\"node1\" class=\"node\">\n",
       "<title>b0</title>\n",
       "<polygon fill=\"none\" stroke=\"black\" points=\"96,-93 96,-116 188,-116 188,-93 96,-93\"/>\n",
       "<text text-anchor=\"start\" x=\"102\" y=\"-102\" font-family=\"Times,serif\" font-size=\"10.00\">PhaseGradientState</text>\n",
       "</g>\n",
       "<!-- b1 -->\n",
       "<g id=\"node2\" class=\"node\">\n",
       "<title>b1</title>\n",
       "<polygon fill=\"none\" stroke=\"black\" points=\"8,-6 8,-29 56,-29 56,-6 8,-6\"/>\n",
       "<text text-anchor=\"start\" x=\"14\" y=\"-15\" font-family=\"Times,serif\" font-size=\"10.00\">Allocate</text>\n",
       "</g>\n",
       "<!-- b0&#45;&gt;b1 -->\n",
       "<g id=\"edge1\" class=\"edge\">\n",
       "<title>b0-&gt;b1</title>\n",
       "<path fill=\"none\" stroke=\"black\" d=\"M119.74,-86.8C103.19,-74.01 80.42,-56.42 62.23,-42.36\"/>\n",
       "<polygon fill=\"black\" stroke=\"black\" points=\"64.28,-39.52 54.23,-36.18 60,-45.06 64.28,-39.52\"/>\n",
       "<text text-anchor=\"middle\" x=\"97.5\" y=\"-57.8\" font-family=\"Times,serif\" font-size=\"14.00\">1</text>\n",
       "</g>\n",
       "<!-- b2 -->\n",
       "<g id=\"node3\" class=\"node\">\n",
       "<title>b2</title>\n",
       "<polygon fill=\"none\" stroke=\"black\" points=\"90,-6 90,-29 194,-29 194,-6 90,-6\"/>\n",
       "<text text-anchor=\"start\" x=\"96.5\" y=\"-15\" font-family=\"Times,serif\" font-size=\"10.00\">PhaseGradientUnitary</text>\n",
       "</g>\n",
       "<!-- b0&#45;&gt;b2 -->\n",
       "<g id=\"edge2\" class=\"edge\">\n",
       "<title>b0-&gt;b2</title>\n",
       "<path fill=\"none\" stroke=\"black\" d=\"M142,-86.8C142,-75.16 142,-59.55 142,-46.24\"/>\n",
       "<polygon fill=\"black\" stroke=\"black\" points=\"145.5,-46.18 142,-36.18 138.5,-46.18 145.5,-46.18\"/>\n",
       "<text text-anchor=\"middle\" x=\"145.5\" y=\"-57.8\" font-family=\"Times,serif\" font-size=\"14.00\">1</text>\n",
       "</g>\n",
       "<!-- b3 -->\n",
       "<g id=\"node4\" class=\"node\">\n",
       "<title>b3</title>\n",
       "<polygon fill=\"none\" stroke=\"black\" points=\"229,-6 229,-29 265,-29 265,-6 229,-6\"/>\n",
       "<text text-anchor=\"start\" x=\"235\" y=\"-15\" font-family=\"Times,serif\" font-size=\"10.00\">H⨂4</text>\n",
       "</g>\n",
       "<!-- b0&#45;&gt;b3 -->\n",
       "<g id=\"edge3\" class=\"edge\">\n",
       "<title>b0-&gt;b3</title>\n",
       "<path fill=\"none\" stroke=\"black\" d=\"M163.25,-86.8C178.9,-74.13 200.39,-56.73 217.68,-42.74\"/>\n",
       "<polygon fill=\"black\" stroke=\"black\" points=\"220.21,-45.19 225.78,-36.18 215.81,-39.75 220.21,-45.19\"/>\n",
       "<text text-anchor=\"middle\" x=\"203.5\" y=\"-57.8\" font-family=\"Times,serif\" font-size=\"14.00\">1</text>\n",
       "</g>\n",
       "</g>\n",
       "</svg>"
      ],
      "text/plain": [
       "<IPython.core.display.SVG object>"
      ]
     },
     "metadata": {},
     "output_type": "display_data"
    },
    {
     "data": {
      "text/markdown": [
       "#### Counts totals:\n",
       " - `Allocate`: 1\n",
       " - `H⨂4`: 1\n",
       " - `PhaseGradientUnitary`: 1"
      ],
      "text/plain": [
       "<IPython.core.display.Markdown object>"
      ]
     },
     "metadata": {},
     "output_type": "display_data"
    }
   ],
   "source": [
    "from qualtran.resource_counting.generalizers import ignore_split_join\n",
    "phase_gradient_state_g, phase_gradient_state_sigma = phase_gradient_state.call_graph(max_depth=1, generalizer=ignore_split_join)\n",
    "show_call_graph(phase_gradient_state_g)\n",
    "show_counts_sigma(phase_gradient_state_sigma)"
   ]
  },
  {
   "cell_type": "markdown",
   "id": "b6d54adf",
   "metadata": {
    "cq.autogen": "AddIntoPhaseGrad.bloq_doc.md"
   },
   "source": [
    "## `AddIntoPhaseGrad`\n",
    "Quantum-quantum addition into a phase gradient register using $b_{phase} - 2$ Toffolis\n",
    "\n",
    "$$\n",
    "    U|x\\rangle|\\text{phase\\_grad}\\rangle = |x\\rangle|\\text{phase\\_grad} + x\\rangle\n",
    "$$\n",
    "\n",
    "#### Parameters\n",
    " - `x_bitsize`: Size of input register.\n",
    " - `phase_bitsize`: Size of phase gradient register to which the input value should be added.\n",
    " - `right_shift`: An integer specifying the amount by which the input register x should be right shifted before adding to the phase gradient register.\n",
    " - `sign`: Whether the input register x should be  added or subtracted from the phase gradient register.\n",
    " - `controlled_by`: Whether to control this bloq with a ctrl register. When controlled_by=None, this bloq is not controlled. When controlled_by=0, this bloq is active when the ctrl register is 0. When controlled_by=1, this bloq is active when the ctrl register is 1. \n",
    "\n",
    "#### Registers\n",
    " - `- ctrl`: Control THRU register\n",
    " - `- x`: Input THRU register storing input value x to be added to the phase gradient register.\n",
    " - `- phase_grad`: Phase gradient THRU register. \n",
    "\n",
    "#### References\n",
    " - [Compilation of Fault-Tolerant Quantum Heuristics for Combinatorial Optimization](https://arxiv.org/abs/2007.07391). Appendix A: Addition for controlled rotations\n"
   ]
  },
  {
   "cell_type": "code",
   "execution_count": 11,
   "id": "705e0252",
   "metadata": {
    "cq.autogen": "AddIntoPhaseGrad.bloq_doc.py"
   },
   "outputs": [],
   "source": [
    "from qualtran.bloqs.rotations import AddIntoPhaseGrad"
   ]
  },
  {
   "cell_type": "markdown",
   "id": "628fe4e3",
   "metadata": {
    "cq.autogen": "AddIntoPhaseGrad.example_instances.md"
   },
   "source": [
    "### Example Instances"
   ]
  },
  {
   "cell_type": "code",
   "execution_count": 12,
   "id": "0984e1dd",
   "metadata": {
    "cq.autogen": "AddIntoPhaseGrad.add_into_phase_grad"
   },
   "outputs": [],
   "source": [
    "add_into_phase_grad = AddIntoPhaseGrad(4, 4)"
   ]
  },
  {
   "cell_type": "markdown",
   "id": "9217c298",
   "metadata": {
    "cq.autogen": "AddIntoPhaseGrad.graphical_signature.md"
   },
   "source": [
    "#### Graphical Signature"
   ]
  },
  {
   "cell_type": "code",
   "execution_count": 13,
   "id": "6f0dbbe2",
   "metadata": {
    "cq.autogen": "AddIntoPhaseGrad.graphical_signature.py"
   },
   "outputs": [
    {
     "data": {
      "application/vnd.jupyter.widget-view+json": {
       "model_id": "1759d52993ed484dab4cd43e807c309a",
       "version_major": 2,
       "version_minor": 0
      },
      "text/plain": [
       "HBox(children=(Output(outputs=({'output_type': 'display_data', 'data': {'text/plain': '<IPython.core.display.M…"
      ]
     },
     "metadata": {},
     "output_type": "display_data"
    }
   ],
   "source": [
    "from qualtran.drawing import show_bloqs\n",
    "show_bloqs([add_into_phase_grad],\n",
    "           ['`add_into_phase_grad`'])"
   ]
  },
  {
   "cell_type": "markdown",
   "id": "b9a03265",
   "metadata": {
    "cq.autogen": "AddIntoPhaseGrad.call_graph.md"
   },
   "source": [
    "### Call Graph"
   ]
  },
  {
   "cell_type": "code",
   "execution_count": 14,
   "id": "7bb14a8c",
   "metadata": {
    "cq.autogen": "AddIntoPhaseGrad.call_graph.py"
   },
   "outputs": [
    {
     "data": {
      "image/svg+xml": [
       "<svg xmlns=\"http://www.w3.org/2000/svg\" xmlns:xlink=\"http://www.w3.org/1999/xlink\" width=\"116pt\" height=\"131pt\" viewBox=\"0.00 0.00 116.00 131.00\">\n",
       "<g id=\"graph0\" class=\"graph\" transform=\"scale(1 1) rotate(0) translate(4 127)\">\n",
       "<title>counts</title>\n",
       "<polygon fill=\"white\" stroke=\"transparent\" points=\"-4,4 -4,-127 112,-127 112,4 -4,4\"/>\n",
       "<!-- b0 -->\n",
       "<g id=\"node1\" class=\"node\">\n",
       "<title>b0</title>\n",
       "<polygon fill=\"none\" stroke=\"black\" points=\"8,-93 8,-116 100,-116 100,-93 8,-93\"/>\n",
       "<text text-anchor=\"start\" x=\"14.5\" y=\"-102\" font-family=\"Times,serif\" font-size=\"10.00\">AddIntoPhaseGrad</text>\n",
       "</g>\n",
       "<!-- b1 -->\n",
       "<g id=\"node2\" class=\"node\">\n",
       "<title>b1</title>\n",
       "<polygon fill=\"none\" stroke=\"black\" points=\"34,-6 34,-29 74,-29 74,-6 34,-6\"/>\n",
       "<text text-anchor=\"start\" x=\"40\" y=\"-15\" font-family=\"Times,serif\" font-size=\"10.00\">Toffoli</text>\n",
       "</g>\n",
       "<!-- b0&#45;&gt;b1 -->\n",
       "<g id=\"edge1\" class=\"edge\">\n",
       "<title>b0-&gt;b1</title>\n",
       "<path fill=\"none\" stroke=\"black\" d=\"M54,-86.8C54,-75.16 54,-59.55 54,-46.24\"/>\n",
       "<polygon fill=\"black\" stroke=\"black\" points=\"57.5,-46.18 54,-36.18 50.5,-46.18 57.5,-46.18\"/>\n",
       "<text text-anchor=\"middle\" x=\"57.5\" y=\"-57.8\" font-family=\"Times,serif\" font-size=\"14.00\">2</text>\n",
       "</g>\n",
       "</g>\n",
       "</svg>"
      ],
      "text/plain": [
       "<IPython.core.display.SVG object>"
      ]
     },
     "metadata": {},
     "output_type": "display_data"
    },
    {
     "data": {
      "text/markdown": [
       "#### Counts totals:\n",
       " - `Toffoli`: 2"
      ],
      "text/plain": [
       "<IPython.core.display.Markdown object>"
      ]
     },
     "metadata": {},
     "output_type": "display_data"
    }
   ],
   "source": [
    "from qualtran.resource_counting.generalizers import ignore_split_join\n",
    "add_into_phase_grad_g, add_into_phase_grad_sigma = add_into_phase_grad.call_graph(max_depth=1, generalizer=ignore_split_join)\n",
    "show_call_graph(add_into_phase_grad_g)\n",
    "show_counts_sigma(add_into_phase_grad_sigma)"
   ]
  },
  {
   "cell_type": "markdown",
   "id": "7cca35d4",
   "metadata": {
    "cq.autogen": "AddScaledValIntoPhaseReg.bloq_doc.md"
   },
   "source": [
    "## `AddScaledValIntoPhaseReg`\n",
    "Optimized quantum-quantum addition into a phase gradient register scaled by a constant $\\gamma$.\n",
    "\n",
    "$$\n",
    "    U(\\gamma)|x\\rangle|\\text{phase_grad}\\rangle = |x\\rangle|\\text{phase_grad} + x * \\gamma\\rangle\n",
    "$$\n",
    "\n",
    "The operation calls `AddIntoPhaseGrad` gate $(\\text{gamma_bitsize} + 2) / 2$ times.\n",
    "\n",
    "#### Parameters\n",
    " - `x_dtype`: Fixed point specification of the input register.\n",
    " - `phase_bitsize`: Size of phase gradient register to which the scaled input should be added.\n",
    " - `gamma`: Floating point scaling factor.\n",
    " - `gamma_dtype`: `QFxp` data type capturing number of bits of precisions to be used for integer and fractional part of `gamma`. \n",
    "\n",
    "#### Registers\n",
    " - `x`: Input THRU register storing input value x to be scaled and added to the phase gradient register.\n",
    " - `phase_grad`: Phase gradient THRU register. \n",
    "\n",
    "#### References\n",
    " - [Compilation of Fault-Tolerant Quantum Heuristics for Combinatorial Optimization](https://arxiv.org/abs/2007.07391). Appendix A: Addition for controlled rotations\n"
   ]
  },
  {
   "cell_type": "code",
   "execution_count": 15,
   "id": "2ed29eb4",
   "metadata": {
    "cq.autogen": "AddScaledValIntoPhaseReg.bloq_doc.py"
   },
   "outputs": [],
   "source": [
    "from qualtran.bloqs.rotations import AddScaledValIntoPhaseReg"
   ]
  },
  {
   "cell_type": "markdown",
   "id": "ff3bc5ed",
   "metadata": {
    "cq.autogen": "AddScaledValIntoPhaseReg.example_instances.md"
   },
   "source": [
    "### Example Instances"
   ]
  },
  {
   "cell_type": "code",
   "execution_count": 16,
   "id": "d470659a",
   "metadata": {
    "cq.autogen": "AddScaledValIntoPhaseReg.add_scaled_val_into_phase_reg"
   },
   "outputs": [],
   "source": [
    "add_scaled_val_into_phase_reg = AddScaledValIntoPhaseReg(\n",
    "    QFxp(2, 2), phase_bitsize=2, gamma=2, gamma_dtype=QFxp(2, 2)\n",
    ")"
   ]
  },
  {
   "cell_type": "markdown",
   "id": "10b1c40e",
   "metadata": {
    "cq.autogen": "AddScaledValIntoPhaseReg.graphical_signature.md"
   },
   "source": [
    "#### Graphical Signature"
   ]
  },
  {
   "cell_type": "code",
   "execution_count": 17,
   "id": "584ab205",
   "metadata": {
    "cq.autogen": "AddScaledValIntoPhaseReg.graphical_signature.py"
   },
   "outputs": [
    {
     "data": {
      "application/vnd.jupyter.widget-view+json": {
       "model_id": "c4653a539cbf4a7db6739f37ccb62a7b",
       "version_major": 2,
       "version_minor": 0
      },
      "text/plain": [
       "HBox(children=(Output(outputs=({'output_type': 'display_data', 'data': {'text/plain': '<IPython.core.display.M…"
      ]
     },
     "metadata": {},
     "output_type": "display_data"
    }
   ],
   "source": [
    "from qualtran.drawing import show_bloqs\n",
    "show_bloqs([add_scaled_val_into_phase_reg],\n",
    "           ['`add_scaled_val_into_phase_reg`'])"
   ]
  },
  {
   "cell_type": "markdown",
   "id": "105f37bf",
   "metadata": {
    "cq.autogen": "AddScaledValIntoPhaseReg.call_graph.md"
   },
   "source": [
    "### Call Graph"
   ]
  },
  {
   "cell_type": "code",
   "execution_count": 18,
   "id": "57ad18ba",
   "metadata": {
    "cq.autogen": "AddScaledValIntoPhaseReg.call_graph.py"
   },
   "outputs": [
    {
     "data": {
      "image/svg+xml": [
       "<svg xmlns=\"http://www.w3.org/2000/svg\" xmlns:xlink=\"http://www.w3.org/1999/xlink\" width=\"152pt\" height=\"131pt\" viewBox=\"0.00 0.00 152.00 131.00\">\n",
       "<g id=\"graph0\" class=\"graph\" transform=\"scale(1 1) rotate(0) translate(4 127)\">\n",
       "<title>counts</title>\n",
       "<polygon fill=\"white\" stroke=\"transparent\" points=\"-4,4 -4,-127 148,-127 148,4 -4,4\"/>\n",
       "<!-- b0 -->\n",
       "<g id=\"node1\" class=\"node\">\n",
       "<title>b0</title>\n",
       "<polygon fill=\"none\" stroke=\"black\" points=\"8,-93 8,-116 136,-116 136,-93 8,-93\"/>\n",
       "<text text-anchor=\"start\" x=\"14.5\" y=\"-102\" font-family=\"Times,serif\" font-size=\"10.00\">AddScaledValIntoPhaseReg</text>\n",
       "</g>\n",
       "<!-- b1 -->\n",
       "<g id=\"node2\" class=\"node\">\n",
       "<title>b1</title>\n",
       "<polygon fill=\"none\" stroke=\"black\" points=\"26,-6 26,-29 118,-29 118,-6 26,-6\"/>\n",
       "<text text-anchor=\"start\" x=\"32.5\" y=\"-15\" font-family=\"Times,serif\" font-size=\"10.00\">AddIntoPhaseGrad</text>\n",
       "</g>\n",
       "<!-- b0&#45;&gt;b1 -->\n",
       "<g id=\"edge1\" class=\"edge\">\n",
       "<title>b0-&gt;b1</title>\n",
       "<path fill=\"none\" stroke=\"black\" d=\"M72,-86.8C72,-75.16 72,-59.55 72,-46.24\"/>\n",
       "<polygon fill=\"black\" stroke=\"black\" points=\"75.5,-46.18 72,-36.18 68.5,-46.18 75.5,-46.18\"/>\n",
       "<text text-anchor=\"middle\" x=\"75.5\" y=\"-57.8\" font-family=\"Times,serif\" font-size=\"14.00\">1</text>\n",
       "</g>\n",
       "</g>\n",
       "</svg>"
      ],
      "text/plain": [
       "<IPython.core.display.SVG object>"
      ]
     },
     "metadata": {},
     "output_type": "display_data"
    },
    {
     "data": {
      "text/markdown": [
       "#### Counts totals:\n",
       " - `AddIntoPhaseGrad`: 1"
      ],
      "text/plain": [
       "<IPython.core.display.Markdown object>"
      ]
     },
     "metadata": {},
     "output_type": "display_data"
    }
   ],
   "source": [
    "from qualtran.resource_counting.generalizers import ignore_split_join\n",
    "add_scaled_val_into_phase_reg_g, add_scaled_val_into_phase_reg_sigma = add_scaled_val_into_phase_reg.call_graph(max_depth=1, generalizer=ignore_split_join)\n",
    "show_call_graph(add_scaled_val_into_phase_reg_g)\n",
    "show_counts_sigma(add_scaled_val_into_phase_reg_sigma)"
   ]
  }
 ],
 "metadata": {
  "kernelspec": {
   "display_name": "Python 3",
   "language": "python",
   "name": "python3"
  },
  "language_info": {
   "codemirror_mode": {
    "name": "ipython",
    "version": 3
   },
   "file_extension": ".py",
   "mimetype": "text/x-python",
   "name": "python",
   "nbconvert_exporter": "python",
   "pygments_lexer": "ipython3",
   "version": "3.11.8"
  },
  "widgets": {
   "application/vnd.jupyter.widget-state+json": {
    "state": {
     "164e0101d62f452cb755712b0f99a41d": {
      "model_module": "@jupyter-widgets/base",
      "model_module_version": "2.0.0",
      "model_name": "LayoutModel",
      "state": {
       "_model_module": "@jupyter-widgets/base",
       "_model_module_version": "2.0.0",
       "_model_name": "LayoutModel",
       "_view_count": null,
       "_view_module": "@jupyter-widgets/base",
       "_view_module_version": "2.0.0",
       "_view_name": "LayoutView",
       "align_content": null,
       "align_items": null,
       "align_self": null,
       "border_bottom": null,
       "border_left": null,
       "border_right": null,
       "border_top": null,
       "bottom": null,
       "display": null,
       "flex": null,
       "flex_flow": null,
       "grid_area": null,
       "grid_auto_columns": null,
       "grid_auto_flow": null,
       "grid_auto_rows": null,
       "grid_column": null,
       "grid_gap": null,
       "grid_row": null,
       "grid_template_areas": null,
       "grid_template_columns": null,
       "grid_template_rows": null,
       "height": null,
       "justify_content": null,
       "justify_items": null,
       "left": null,
       "margin": null,
       "max_height": null,
       "max_width": null,
       "min_height": null,
       "min_width": null,
       "object_fit": null,
       "object_position": null,
       "order": null,
       "overflow": null,
       "padding": null,
       "right": null,
       "top": null,
       "visibility": null,
       "width": null
      }
     },
     "1759d52993ed484dab4cd43e807c309a": {
      "model_module": "@jupyter-widgets/controls",
      "model_module_version": "2.0.0",
      "model_name": "HBoxModel",
      "state": {
       "_dom_classes": [],
       "_model_module": "@jupyter-widgets/controls",
       "_model_module_version": "2.0.0",
       "_model_name": "HBoxModel",
       "_view_count": null,
       "_view_module": "@jupyter-widgets/controls",
       "_view_module_version": "2.0.0",
       "_view_name": "HBoxView",
       "box_style": "",
       "children": [
        "IPY_MODEL_5a8dff3e43dd4203b1d369870195d209"
       ],
       "layout": "IPY_MODEL_71ce805deaa344eb9fe8f2225715055e",
       "tabbable": null,
       "tooltip": null
      }
     },
     "232f75f6bc8e4526a14b4e6238913327": {
      "model_module": "@jupyter-widgets/base",
      "model_module_version": "2.0.0",
      "model_name": "LayoutModel",
      "state": {
       "_model_module": "@jupyter-widgets/base",
       "_model_module_version": "2.0.0",
       "_model_name": "LayoutModel",
       "_view_count": null,
       "_view_module": "@jupyter-widgets/base",
       "_view_module_version": "2.0.0",
       "_view_name": "LayoutView",
       "align_content": null,
       "align_items": null,
       "align_self": null,
       "border_bottom": null,
       "border_left": null,
       "border_right": null,
       "border_top": null,
       "bottom": null,
       "display": null,
       "flex": null,
       "flex_flow": null,
       "grid_area": null,
       "grid_auto_columns": null,
       "grid_auto_flow": null,
       "grid_auto_rows": null,
       "grid_column": null,
       "grid_gap": null,
       "grid_row": null,
       "grid_template_areas": null,
       "grid_template_columns": null,
       "grid_template_rows": null,
       "height": null,
       "justify_content": null,
       "justify_items": null,
       "left": null,
       "margin": null,
       "max_height": null,
       "max_width": null,
       "min_height": null,
       "min_width": null,
       "object_fit": null,
       "object_position": null,
       "order": null,
       "overflow": null,
       "padding": null,
       "right": null,
       "top": null,
       "visibility": null,
       "width": null
      }
     },
     "2f7bacc35c494f578486fc73502f3a46": {
      "model_module": "@jupyter-widgets/output",
      "model_module_version": "1.0.0",
      "model_name": "OutputModel",
      "state": {
       "_dom_classes": [],
       "_model_module": "@jupyter-widgets/output",
       "_model_module_version": "1.0.0",
       "_model_name": "OutputModel",
       "_view_count": null,
       "_view_module": "@jupyter-widgets/output",
       "_view_module_version": "1.0.0",
       "_view_name": "OutputView",
       "layout": "IPY_MODEL_db8a06054c7d4a24be4ef818c128ac01",
       "msg_id": "",
       "outputs": [
        {
         "data": {
          "text/markdown": "`add_scaled_val_into_phase_reg`",
          "text/plain": "<IPython.core.display.Markdown object>"
         },
         "metadata": {},
         "output_type": "display_data"
        },
        {
         "data": {
          "image/svg+xml": "<svg xmlns=\"http://www.w3.org/2000/svg\" xmlns:xlink=\"http://www.w3.org/1999/xlink\" width=\"359pt\" height=\"98pt\" viewBox=\"0.00 0.00 359.00 98.00\">\n<g id=\"graph0\" class=\"graph\" transform=\"scale(1 1) rotate(0) translate(4 94)\">\n<title>my_graph</title>\n<polygon fill=\"white\" stroke=\"transparent\" points=\"-4,4 -4,-94 355,-94 355,4 -4,4\"/>\n<!-- x_G4 -->\n<g id=\"node1\" class=\"node\">\n<title>x_G4</title>\n<text text-anchor=\"middle\" x=\"39\" y=\"-68.3\" font-family=\"Times,serif\" font-size=\"14.00\">x</text>\n</g>\n<!-- AddScaledValIntoPhaseReg -->\n<g id=\"node3\" class=\"node\">\n<title>AddScaledValIntoPhaseReg</title>\n<polygon fill=\"none\" stroke=\"black\" points=\"115.5,-66 115.5,-83 236.5,-83 236.5,-66 115.5,-66\"/>\n<text text-anchor=\"start\" x=\"118.5\" y=\"-72\" font-family=\"Times,serif\" font-size=\"10.00\">AddScaledValIntoPhaseReg</text>\n<polygon fill=\"none\" stroke=\"black\" points=\"115.5,-45 115.5,-66 236.5,-66 236.5,-45 115.5,-45\"/>\n<text text-anchor=\"start\" x=\"172.5\" y=\"-51.8\" font-family=\"Times,serif\" font-size=\"14.00\">x</text>\n<polygon fill=\"none\" stroke=\"black\" points=\"115.5,-24 115.5,-45 236.5,-45 236.5,-24 115.5,-24\"/>\n<text text-anchor=\"start\" x=\"145\" y=\"-30.8\" font-family=\"Times,serif\" font-size=\"14.00\">phase_grad</text>\n</g>\n<!-- x_G4&#45;&gt;AddScaledValIntoPhaseReg -->\n<g id=\"edge1\" class=\"edge\">\n<title>x_G4:e-&gt;AddScaledValIntoPhaseReg:w</title>\n<path fill=\"none\" stroke=\"black\" d=\"M67,-72C88.78,-72 92.3,-56.98 112.95,-56.05\"/>\n<ellipse fill=\"black\" stroke=\"black\" cx=\"114\" cy=\"-56.02\" rx=\"1\" ry=\"1\"/>\n<text text-anchor=\"middle\" x=\"96.5\" y=\"-63\" font-family=\"Times,serif\" font-size=\"10.00\">2</text>\n</g>\n<!-- phase_grad_G1 -->\n<g id=\"node2\" class=\"node\">\n<title>phase_grad_G1</title>\n<text text-anchor=\"middle\" x=\"39\" y=\"-14.3\" font-family=\"Times,serif\" font-size=\"14.00\">phase_grad</text>\n</g>\n<!-- phase_grad_G1&#45;&gt;AddScaledValIntoPhaseReg -->\n<g id=\"edge2\" class=\"edge\">\n<title>phase_grad_G1:e-&gt;AddScaledValIntoPhaseReg:w</title>\n<path fill=\"none\" stroke=\"black\" d=\"M78,-18C95.22,-18 96.97,-32.77 112.98,-33.93\"/>\n<ellipse fill=\"black\" stroke=\"black\" cx=\"114\" cy=\"-33.96\" rx=\"1\" ry=\"1\"/>\n<text text-anchor=\"middle\" x=\"96.5\" y=\"-29\" font-family=\"Times,serif\" font-size=\"10.00\">2</text>\n</g>\n<!-- x_G0 -->\n<g id=\"node4\" class=\"node\">\n<title>x_G0</title>\n<text text-anchor=\"middle\" x=\"312\" y=\"-68.3\" font-family=\"Times,serif\" font-size=\"14.00\">x</text>\n</g>\n<!-- AddScaledValIntoPhaseReg&#45;&gt;x_G0 -->\n<g id=\"edge3\" class=\"edge\">\n<title>AddScaledValIntoPhaseReg:e-&gt;x_G0:w</title>\n<path fill=\"none\" stroke=\"black\" d=\"M236,-56C257.78,-56 261.3,-71.02 281.95,-71.95\"/>\n<ellipse fill=\"black\" stroke=\"black\" cx=\"283\" cy=\"-71.98\" rx=\"1\" ry=\"1\"/>\n<text text-anchor=\"middle\" x=\"254.5\" y=\"-63\" font-family=\"Times,serif\" font-size=\"10.00\">2</text>\n</g>\n<!-- phase_grad_G5 -->\n<g id=\"node5\" class=\"node\">\n<title>phase_grad_G5</title>\n<text text-anchor=\"middle\" x=\"312\" y=\"-14.3\" font-family=\"Times,serif\" font-size=\"14.00\">phase_grad</text>\n</g>\n<!-- AddScaledValIntoPhaseReg&#45;&gt;phase_grad_G5 -->\n<g id=\"edge4\" class=\"edge\">\n<title>AddScaledValIntoPhaseReg:e-&gt;phase_grad_G5:w</title>\n<path fill=\"none\" stroke=\"black\" d=\"M236,-34C253.22,-34 254.97,-19.23 270.98,-18.07\"/>\n<ellipse fill=\"black\" stroke=\"black\" cx=\"272\" cy=\"-18.04\" rx=\"1\" ry=\"1\"/>\n<text text-anchor=\"middle\" x=\"254.5\" y=\"-29\" font-family=\"Times,serif\" font-size=\"10.00\">2</text>\n</g>\n</g>\n</svg>",
          "text/plain": "<IPython.core.display.SVG object>"
         },
         "metadata": {},
         "output_type": "display_data"
        }
       ],
       "tabbable": null,
       "tooltip": null
      }
     },
     "5a8dff3e43dd4203b1d369870195d209": {
      "model_module": "@jupyter-widgets/output",
      "model_module_version": "1.0.0",
      "model_name": "OutputModel",
      "state": {
       "_dom_classes": [],
       "_model_module": "@jupyter-widgets/output",
       "_model_module_version": "1.0.0",
       "_model_name": "OutputModel",
       "_view_count": null,
       "_view_module": "@jupyter-widgets/output",
       "_view_module_version": "1.0.0",
       "_view_name": "OutputView",
       "layout": "IPY_MODEL_164e0101d62f452cb755712b0f99a41d",
       "msg_id": "",
       "outputs": [
        {
         "data": {
          "text/markdown": "`add_into_phase_grad`",
          "text/plain": "<IPython.core.display.Markdown object>"
         },
         "metadata": {},
         "output_type": "display_data"
        },
        {
         "data": {
          "image/svg+xml": "<svg xmlns=\"http://www.w3.org/2000/svg\" xmlns:xlink=\"http://www.w3.org/1999/xlink\" width=\"323pt\" height=\"98pt\" viewBox=\"0.00 0.00 323.00 98.00\">\n<g id=\"graph0\" class=\"graph\" transform=\"scale(1 1) rotate(0) translate(4 94)\">\n<title>my_graph</title>\n<polygon fill=\"white\" stroke=\"transparent\" points=\"-4,4 -4,-94 319,-94 319,4 -4,4\"/>\n<!-- x_G2 -->\n<g id=\"node1\" class=\"node\">\n<title>x_G2</title>\n<text text-anchor=\"middle\" x=\"39\" y=\"-68.3\" font-family=\"Times,serif\" font-size=\"14.00\">x</text>\n</g>\n<!-- AddIntoPhaseGrad -->\n<g id=\"node3\" class=\"node\">\n<title>AddIntoPhaseGrad</title>\n<polygon fill=\"none\" stroke=\"black\" points=\"115.5,-66 115.5,-83 200.5,-83 200.5,-66 115.5,-66\"/>\n<text text-anchor=\"start\" x=\"118.5\" y=\"-72\" font-family=\"Times,serif\" font-size=\"10.00\">AddIntoPhaseGrad</text>\n<polygon fill=\"none\" stroke=\"black\" points=\"115.5,-45 115.5,-66 200.5,-66 200.5,-45 115.5,-45\"/>\n<text text-anchor=\"start\" x=\"154.5\" y=\"-51.8\" font-family=\"Times,serif\" font-size=\"14.00\">x</text>\n<polygon fill=\"none\" stroke=\"black\" points=\"115.5,-24 115.5,-45 200.5,-45 200.5,-24 115.5,-24\"/>\n<text text-anchor=\"start\" x=\"127\" y=\"-30.8\" font-family=\"Times,serif\" font-size=\"14.00\">phase_grad</text>\n</g>\n<!-- x_G2&#45;&gt;AddIntoPhaseGrad -->\n<g id=\"edge1\" class=\"edge\">\n<title>x_G2:e-&gt;AddIntoPhaseGrad:w</title>\n<path fill=\"none\" stroke=\"black\" d=\"M67,-72C88.78,-72 92.3,-56.98 112.95,-56.05\"/>\n<ellipse fill=\"black\" stroke=\"black\" cx=\"114\" cy=\"-56.02\" rx=\"1\" ry=\"1\"/>\n<text text-anchor=\"middle\" x=\"96.5\" y=\"-63\" font-family=\"Times,serif\" font-size=\"10.00\">4</text>\n</g>\n<!-- phase_grad_G5 -->\n<g id=\"node2\" class=\"node\">\n<title>phase_grad_G5</title>\n<text text-anchor=\"middle\" x=\"39\" y=\"-14.3\" font-family=\"Times,serif\" font-size=\"14.00\">phase_grad</text>\n</g>\n<!-- phase_grad_G5&#45;&gt;AddIntoPhaseGrad -->\n<g id=\"edge2\" class=\"edge\">\n<title>phase_grad_G5:e-&gt;AddIntoPhaseGrad:w</title>\n<path fill=\"none\" stroke=\"black\" d=\"M78,-18C95.22,-18 96.97,-32.77 112.98,-33.93\"/>\n<ellipse fill=\"black\" stroke=\"black\" cx=\"114\" cy=\"-33.96\" rx=\"1\" ry=\"1\"/>\n<text text-anchor=\"middle\" x=\"96.5\" y=\"-29\" font-family=\"Times,serif\" font-size=\"10.00\">4</text>\n</g>\n<!-- x_G3 -->\n<g id=\"node4\" class=\"node\">\n<title>x_G3</title>\n<text text-anchor=\"middle\" x=\"276\" y=\"-68.3\" font-family=\"Times,serif\" font-size=\"14.00\">x</text>\n</g>\n<!-- AddIntoPhaseGrad&#45;&gt;x_G3 -->\n<g id=\"edge3\" class=\"edge\">\n<title>AddIntoPhaseGrad:e-&gt;x_G3:w</title>\n<path fill=\"none\" stroke=\"black\" d=\"M200,-56C221.78,-56 225.3,-71.02 245.95,-71.95\"/>\n<ellipse fill=\"black\" stroke=\"black\" cx=\"247\" cy=\"-71.98\" rx=\"1\" ry=\"1\"/>\n<text text-anchor=\"middle\" x=\"218.5\" y=\"-63\" font-family=\"Times,serif\" font-size=\"10.00\">4</text>\n</g>\n<!-- phase_grad_G4 -->\n<g id=\"node5\" class=\"node\">\n<title>phase_grad_G4</title>\n<text text-anchor=\"middle\" x=\"276\" y=\"-14.3\" font-family=\"Times,serif\" font-size=\"14.00\">phase_grad</text>\n</g>\n<!-- AddIntoPhaseGrad&#45;&gt;phase_grad_G4 -->\n<g id=\"edge4\" class=\"edge\">\n<title>AddIntoPhaseGrad:e-&gt;phase_grad_G4:w</title>\n<path fill=\"none\" stroke=\"black\" d=\"M200,-34C217.22,-34 218.97,-19.23 234.98,-18.07\"/>\n<ellipse fill=\"black\" stroke=\"black\" cx=\"236\" cy=\"-18.04\" rx=\"1\" ry=\"1\"/>\n<text text-anchor=\"middle\" x=\"218.5\" y=\"-29\" font-family=\"Times,serif\" font-size=\"10.00\">4</text>\n</g>\n</g>\n</svg>",
          "text/plain": "<IPython.core.display.SVG object>"
         },
         "metadata": {},
         "output_type": "display_data"
        }
       ],
       "tabbable": null,
       "tooltip": null
      }
     },
     "65e7c0cd89ce42629c2edc4a0ad70885": {
      "model_module": "@jupyter-widgets/base",
      "model_module_version": "2.0.0",
      "model_name": "LayoutModel",
      "state": {
       "_model_module": "@jupyter-widgets/base",
       "_model_module_version": "2.0.0",
       "_model_name": "LayoutModel",
       "_view_count": null,
       "_view_module": "@jupyter-widgets/base",
       "_view_module_version": "2.0.0",
       "_view_name": "LayoutView",
       "align_content": null,
       "align_items": null,
       "align_self": null,
       "border_bottom": null,
       "border_left": null,
       "border_right": null,
       "border_top": null,
       "bottom": null,
       "display": null,
       "flex": null,
       "flex_flow": null,
       "grid_area": null,
       "grid_auto_columns": null,
       "grid_auto_flow": null,
       "grid_auto_rows": null,
       "grid_column": null,
       "grid_gap": null,
       "grid_row": null,
       "grid_template_areas": null,
       "grid_template_columns": null,
       "grid_template_rows": null,
       "height": null,
       "justify_content": null,
       "justify_items": null,
       "left": null,
       "margin": null,
       "max_height": null,
       "max_width": null,
       "min_height": null,
       "min_width": null,
       "object_fit": null,
       "object_position": null,
       "order": null,
       "overflow": null,
       "padding": null,
       "right": null,
       "top": null,
       "visibility": null,
       "width": null
      }
     },
     "71ce805deaa344eb9fe8f2225715055e": {
      "model_module": "@jupyter-widgets/base",
      "model_module_version": "2.0.0",
      "model_name": "LayoutModel",
      "state": {
       "_model_module": "@jupyter-widgets/base",
       "_model_module_version": "2.0.0",
       "_model_name": "LayoutModel",
       "_view_count": null,
       "_view_module": "@jupyter-widgets/base",
       "_view_module_version": "2.0.0",
       "_view_name": "LayoutView",
       "align_content": null,
       "align_items": null,
       "align_self": null,
       "border_bottom": null,
       "border_left": null,
       "border_right": null,
       "border_top": null,
       "bottom": null,
       "display": null,
       "flex": null,
       "flex_flow": null,
       "grid_area": null,
       "grid_auto_columns": null,
       "grid_auto_flow": null,
       "grid_auto_rows": null,
       "grid_column": null,
       "grid_gap": null,
       "grid_row": null,
       "grid_template_areas": null,
       "grid_template_columns": null,
       "grid_template_rows": null,
       "height": null,
       "justify_content": null,
       "justify_items": null,
       "left": null,
       "margin": null,
       "max_height": null,
       "max_width": null,
       "min_height": null,
       "min_width": null,
       "object_fit": null,
       "object_position": null,
       "order": null,
       "overflow": null,
       "padding": null,
       "right": null,
       "top": null,
       "visibility": null,
       "width": null
      }
     },
     "819f3e46c6de4d27a5ee201e496dc264": {
      "model_module": "@jupyter-widgets/base",
      "model_module_version": "2.0.0",
      "model_name": "LayoutModel",
      "state": {
       "_model_module": "@jupyter-widgets/base",
       "_model_module_version": "2.0.0",
       "_model_name": "LayoutModel",
       "_view_count": null,
       "_view_module": "@jupyter-widgets/base",
       "_view_module_version": "2.0.0",
       "_view_name": "LayoutView",
       "align_content": null,
       "align_items": null,
       "align_self": null,
       "border_bottom": null,
       "border_left": null,
       "border_right": null,
       "border_top": null,
       "bottom": null,
       "display": null,
       "flex": null,
       "flex_flow": null,
       "grid_area": null,
       "grid_auto_columns": null,
       "grid_auto_flow": null,
       "grid_auto_rows": null,
       "grid_column": null,
       "grid_gap": null,
       "grid_row": null,
       "grid_template_areas": null,
       "grid_template_columns": null,
       "grid_template_rows": null,
       "height": null,
       "justify_content": null,
       "justify_items": null,
       "left": null,
       "margin": null,
       "max_height": null,
       "max_width": null,
       "min_height": null,
       "min_width": null,
       "object_fit": null,
       "object_position": null,
       "order": null,
       "overflow": null,
       "padding": null,
       "right": null,
       "top": null,
       "visibility": null,
       "width": null
      }
     },
     "94f0ebaf366043afb54556188409a25e": {
      "model_module": "@jupyter-widgets/base",
      "model_module_version": "2.0.0",
      "model_name": "LayoutModel",
      "state": {
       "_model_module": "@jupyter-widgets/base",
       "_model_module_version": "2.0.0",
       "_model_name": "LayoutModel",
       "_view_count": null,
       "_view_module": "@jupyter-widgets/base",
       "_view_module_version": "2.0.0",
       "_view_name": "LayoutView",
       "align_content": null,
       "align_items": null,
       "align_self": null,
       "border_bottom": null,
       "border_left": null,
       "border_right": null,
       "border_top": null,
       "bottom": null,
       "display": null,
       "flex": null,
       "flex_flow": null,
       "grid_area": null,
       "grid_auto_columns": null,
       "grid_auto_flow": null,
       "grid_auto_rows": null,
       "grid_column": null,
       "grid_gap": null,
       "grid_row": null,
       "grid_template_areas": null,
       "grid_template_columns": null,
       "grid_template_rows": null,
       "height": null,
       "justify_content": null,
       "justify_items": null,
       "left": null,
       "margin": null,
       "max_height": null,
       "max_width": null,
       "min_height": null,
       "min_width": null,
       "object_fit": null,
       "object_position": null,
       "order": null,
       "overflow": null,
       "padding": null,
       "right": null,
       "top": null,
       "visibility": null,
       "width": null
      }
     },
     "9be419eab6ba4005ae86fa65808c3d91": {
      "model_module": "@jupyter-widgets/output",
      "model_module_version": "1.0.0",
      "model_name": "OutputModel",
      "state": {
       "_dom_classes": [],
       "_model_module": "@jupyter-widgets/output",
       "_model_module_version": "1.0.0",
       "_model_name": "OutputModel",
       "_view_count": null,
       "_view_module": "@jupyter-widgets/output",
       "_view_module_version": "1.0.0",
       "_view_name": "OutputView",
       "layout": "IPY_MODEL_232f75f6bc8e4526a14b4e6238913327",
       "msg_id": "",
       "outputs": [
        {
         "data": {
          "text/markdown": "`phase_gradient_unitary_symbolic`",
          "text/plain": "<IPython.core.display.Markdown object>"
         },
         "metadata": {},
         "output_type": "display_data"
        },
        {
         "data": {
          "image/svg+xml": "<svg xmlns=\"http://www.w3.org/2000/svg\" xmlns:xlink=\"http://www.w3.org/1999/xlink\" width=\"335pt\" height=\"54pt\" viewBox=\"0.00 0.00 335.00 54.00\">\n<g id=\"graph0\" class=\"graph\" transform=\"scale(1 1) rotate(0) translate(4 50)\">\n<title>my_graph</title>\n<polygon fill=\"white\" stroke=\"transparent\" points=\"-4,4 -4,-50 331,-50 331,4 -4,4\"/>\n<!-- phase_grad_G2 -->\n<g id=\"node1\" class=\"node\">\n<title>phase_grad_G2</title>\n<text text-anchor=\"middle\" x=\"39\" y=\"-14.3\" font-family=\"Times,serif\" font-size=\"14.00\">phase_grad</text>\n</g>\n<!-- PhaseGradientUnitary -->\n<g id=\"node2\" class=\"node\">\n<title>PhaseGradientUnitary</title>\n<polygon fill=\"none\" stroke=\"black\" points=\"115.5,-29 115.5,-46 212.5,-46 212.5,-29 115.5,-29\"/>\n<text text-anchor=\"start\" x=\"118.5\" y=\"-35\" font-family=\"Times,serif\" font-size=\"10.00\">PhaseGradientUnitary</text>\n<polygon fill=\"none\" stroke=\"black\" points=\"115.5,-8 115.5,-29 212.5,-29 212.5,-8 115.5,-8\"/>\n<text text-anchor=\"start\" x=\"133\" y=\"-14.8\" font-family=\"Times,serif\" font-size=\"14.00\">phase_grad</text>\n</g>\n<!-- phase_grad_G2&#45;&gt;PhaseGradientUnitary -->\n<g id=\"edge1\" class=\"edge\">\n<title>phase_grad_G2:e-&gt;PhaseGradientUnitary:w</title>\n<path fill=\"none\" stroke=\"black\" d=\"M78,-18C93.67,-18 98.14,-18 112.77,-18\"/>\n<ellipse fill=\"black\" stroke=\"black\" cx=\"114\" cy=\"-18\" rx=\"1\" ry=\"1\"/>\n<text text-anchor=\"middle\" x=\"96.5\" y=\"-21\" font-family=\"Times,serif\" font-size=\"10.00\">n</text>\n</g>\n<!-- phase_grad_G0 -->\n<g id=\"node3\" class=\"node\">\n<title>phase_grad_G0</title>\n<text text-anchor=\"middle\" x=\"288\" y=\"-14.3\" font-family=\"Times,serif\" font-size=\"14.00\">phase_grad</text>\n</g>\n<!-- PhaseGradientUnitary&#45;&gt;phase_grad_G0 -->\n<g id=\"edge2\" class=\"edge\">\n<title>PhaseGradientUnitary:e-&gt;phase_grad_G0:w</title>\n<path fill=\"none\" stroke=\"black\" d=\"M212,-18C227.67,-18 232.14,-18 246.77,-18\"/>\n<ellipse fill=\"black\" stroke=\"black\" cx=\"248\" cy=\"-18\" rx=\"1\" ry=\"1\"/>\n<text text-anchor=\"middle\" x=\"230.5\" y=\"-21\" font-family=\"Times,serif\" font-size=\"10.00\">n</text>\n</g>\n</g>\n</svg>",
          "text/plain": "<IPython.core.display.SVG object>"
         },
         "metadata": {},
         "output_type": "display_data"
        }
       ],
       "tabbable": null,
       "tooltip": null
      }
     },
     "ae01b0a627204d489a5e84ba6a155f1c": {
      "model_module": "@jupyter-widgets/controls",
      "model_module_version": "2.0.0",
      "model_name": "HBoxModel",
      "state": {
       "_dom_classes": [],
       "_model_module": "@jupyter-widgets/controls",
       "_model_module_version": "2.0.0",
       "_model_name": "HBoxModel",
       "_view_count": null,
       "_view_module": "@jupyter-widgets/controls",
       "_view_module_version": "2.0.0",
       "_view_name": "HBoxView",
       "box_style": "",
       "children": [
        "IPY_MODEL_d23f677a98174d82a5caa9069bd56fc6",
        "IPY_MODEL_9be419eab6ba4005ae86fa65808c3d91"
       ],
       "layout": "IPY_MODEL_f49cab8a8cd642dbbbea25311e5e5c5c",
       "tabbable": null,
       "tooltip": null
      }
     },
     "c4653a539cbf4a7db6739f37ccb62a7b": {
      "model_module": "@jupyter-widgets/controls",
      "model_module_version": "2.0.0",
      "model_name": "HBoxModel",
      "state": {
       "_dom_classes": [],
       "_model_module": "@jupyter-widgets/controls",
       "_model_module_version": "2.0.0",
       "_model_name": "HBoxModel",
       "_view_count": null,
       "_view_module": "@jupyter-widgets/controls",
       "_view_module_version": "2.0.0",
       "_view_name": "HBoxView",
       "box_style": "",
       "children": [
        "IPY_MODEL_2f7bacc35c494f578486fc73502f3a46"
       ],
       "layout": "IPY_MODEL_819f3e46c6de4d27a5ee201e496dc264",
       "tabbable": null,
       "tooltip": null
      }
     },
     "c6ad29e141174913bd8b90d8bc64f12c": {
      "model_module": "@jupyter-widgets/output",
      "model_module_version": "1.0.0",
      "model_name": "OutputModel",
      "state": {
       "_dom_classes": [],
       "_model_module": "@jupyter-widgets/output",
       "_model_module_version": "1.0.0",
       "_model_name": "OutputModel",
       "_view_count": null,
       "_view_module": "@jupyter-widgets/output",
       "_view_module_version": "1.0.0",
       "_view_name": "OutputView",
       "layout": "IPY_MODEL_65e7c0cd89ce42629c2edc4a0ad70885",
       "msg_id": "",
       "outputs": [
        {
         "data": {
          "text/markdown": "`phase_gradient_state`",
          "text/plain": "<IPython.core.display.Markdown object>"
         },
         "metadata": {},
         "output_type": "display_data"
        },
        {
         "data": {
          "image/svg+xml": "<svg xmlns=\"http://www.w3.org/2000/svg\" xmlns:xlink=\"http://www.w3.org/1999/xlink\" width=\"209pt\" height=\"54pt\" viewBox=\"0.00 0.00 209.00 54.00\">\n<g id=\"graph0\" class=\"graph\" transform=\"scale(1 1) rotate(0) translate(4 50)\">\n<title>my_graph</title>\n<polygon fill=\"white\" stroke=\"transparent\" points=\"-4,4 -4,-50 205,-50 205,4 -4,4\"/>\n<!-- PhaseGradientState -->\n<g id=\"node1\" class=\"node\">\n<title>PhaseGradientState</title>\n<polygon fill=\"none\" stroke=\"black\" points=\"0,-29 0,-46 86,-46 86,-29 0,-29\"/>\n<text text-anchor=\"start\" x=\"3\" y=\"-35\" font-family=\"Times,serif\" font-size=\"10.00\">PhaseGradientState</text>\n<polygon fill=\"none\" stroke=\"black\" points=\"0,-8 0,-29 12,-29 12,-8 0,-8\"/>\n<polygon fill=\"none\" stroke=\"black\" points=\"12,-8 12,-29 86,-29 86,-8 12,-8\"/>\n<text text-anchor=\"start\" x=\"18\" y=\"-14.8\" font-family=\"Times,serif\" font-size=\"14.00\">phase_grad</text>\n</g>\n<!-- phase_grad_G1 -->\n<g id=\"node2\" class=\"node\">\n<title>phase_grad_G1</title>\n<text text-anchor=\"middle\" x=\"162\" y=\"-14.3\" font-family=\"Times,serif\" font-size=\"14.00\">phase_grad</text>\n</g>\n<!-- PhaseGradientState&#45;&gt;phase_grad_G1 -->\n<g id=\"edge1\" class=\"edge\">\n<title>PhaseGradientState:e-&gt;phase_grad_G1:w</title>\n<path fill=\"none\" stroke=\"black\" d=\"M86,-18C101.67,-18 106.14,-18 120.77,-18\"/>\n<ellipse fill=\"black\" stroke=\"black\" cx=\"122\" cy=\"-18\" rx=\"1\" ry=\"1\"/>\n<text text-anchor=\"middle\" x=\"104.5\" y=\"-21\" font-family=\"Times,serif\" font-size=\"10.00\">4</text>\n</g>\n</g>\n</svg>",
          "text/plain": "<IPython.core.display.SVG object>"
         },
         "metadata": {},
         "output_type": "display_data"
        }
       ],
       "tabbable": null,
       "tooltip": null
      }
     },
     "d23f677a98174d82a5caa9069bd56fc6": {
      "model_module": "@jupyter-widgets/output",
      "model_module_version": "1.0.0",
      "model_name": "OutputModel",
      "state": {
       "_dom_classes": [],
       "_model_module": "@jupyter-widgets/output",
       "_model_module_version": "1.0.0",
       "_model_name": "OutputModel",
       "_view_count": null,
       "_view_module": "@jupyter-widgets/output",
       "_view_module_version": "1.0.0",
       "_view_name": "OutputView",
       "layout": "IPY_MODEL_da6f73b894f44216958f4b151257a08d",
       "msg_id": "",
       "outputs": [
        {
         "data": {
          "text/markdown": "`phase_gradient_unitary`",
          "text/plain": "<IPython.core.display.Markdown object>"
         },
         "metadata": {},
         "output_type": "display_data"
        },
        {
         "data": {
          "image/svg+xml": "<svg xmlns=\"http://www.w3.org/2000/svg\" xmlns:xlink=\"http://www.w3.org/1999/xlink\" width=\"335pt\" height=\"54pt\" viewBox=\"0.00 0.00 335.00 54.00\">\n<g id=\"graph0\" class=\"graph\" transform=\"scale(1 1) rotate(0) translate(4 50)\">\n<title>my_graph</title>\n<polygon fill=\"white\" stroke=\"transparent\" points=\"-4,4 -4,-50 331,-50 331,4 -4,4\"/>\n<!-- phase_grad_G2 -->\n<g id=\"node1\" class=\"node\">\n<title>phase_grad_G2</title>\n<text text-anchor=\"middle\" x=\"39\" y=\"-14.3\" font-family=\"Times,serif\" font-size=\"14.00\">phase_grad</text>\n</g>\n<!-- PhaseGradientUnitary -->\n<g id=\"node2\" class=\"node\">\n<title>PhaseGradientUnitary</title>\n<polygon fill=\"none\" stroke=\"black\" points=\"115.5,-29 115.5,-46 212.5,-46 212.5,-29 115.5,-29\"/>\n<text text-anchor=\"start\" x=\"118.5\" y=\"-35\" font-family=\"Times,serif\" font-size=\"10.00\">PhaseGradientUnitary</text>\n<polygon fill=\"none\" stroke=\"black\" points=\"115.5,-8 115.5,-29 212.5,-29 212.5,-8 115.5,-8\"/>\n<text text-anchor=\"start\" x=\"133\" y=\"-14.8\" font-family=\"Times,serif\" font-size=\"14.00\">phase_grad</text>\n</g>\n<!-- phase_grad_G2&#45;&gt;PhaseGradientUnitary -->\n<g id=\"edge1\" class=\"edge\">\n<title>phase_grad_G2:e-&gt;PhaseGradientUnitary:w</title>\n<path fill=\"none\" stroke=\"black\" d=\"M78,-18C93.67,-18 98.14,-18 112.77,-18\"/>\n<ellipse fill=\"black\" stroke=\"black\" cx=\"114\" cy=\"-18\" rx=\"1\" ry=\"1\"/>\n<text text-anchor=\"middle\" x=\"96.5\" y=\"-21\" font-family=\"Times,serif\" font-size=\"10.00\">4</text>\n</g>\n<!-- phase_grad_G1 -->\n<g id=\"node3\" class=\"node\">\n<title>phase_grad_G1</title>\n<text text-anchor=\"middle\" x=\"288\" y=\"-14.3\" font-family=\"Times,serif\" font-size=\"14.00\">phase_grad</text>\n</g>\n<!-- PhaseGradientUnitary&#45;&gt;phase_grad_G1 -->\n<g id=\"edge2\" class=\"edge\">\n<title>PhaseGradientUnitary:e-&gt;phase_grad_G1:w</title>\n<path fill=\"none\" stroke=\"black\" d=\"M212,-18C227.67,-18 232.14,-18 246.77,-18\"/>\n<ellipse fill=\"black\" stroke=\"black\" cx=\"248\" cy=\"-18\" rx=\"1\" ry=\"1\"/>\n<text text-anchor=\"middle\" x=\"230.5\" y=\"-21\" font-family=\"Times,serif\" font-size=\"10.00\">4</text>\n</g>\n</g>\n</svg>",
          "text/plain": "<IPython.core.display.SVG object>"
         },
         "metadata": {},
         "output_type": "display_data"
        }
       ],
       "tabbable": null,
       "tooltip": null
      }
     },
     "da6f73b894f44216958f4b151257a08d": {
      "model_module": "@jupyter-widgets/base",
      "model_module_version": "2.0.0",
      "model_name": "LayoutModel",
      "state": {
       "_model_module": "@jupyter-widgets/base",
       "_model_module_version": "2.0.0",
       "_model_name": "LayoutModel",
       "_view_count": null,
       "_view_module": "@jupyter-widgets/base",
       "_view_module_version": "2.0.0",
       "_view_name": "LayoutView",
       "align_content": null,
       "align_items": null,
       "align_self": null,
       "border_bottom": null,
       "border_left": null,
       "border_right": null,
       "border_top": null,
       "bottom": null,
       "display": null,
       "flex": null,
       "flex_flow": null,
       "grid_area": null,
       "grid_auto_columns": null,
       "grid_auto_flow": null,
       "grid_auto_rows": null,
       "grid_column": null,
       "grid_gap": null,
       "grid_row": null,
       "grid_template_areas": null,
       "grid_template_columns": null,
       "grid_template_rows": null,
       "height": null,
       "justify_content": null,
       "justify_items": null,
       "left": null,
       "margin": null,
       "max_height": null,
       "max_width": null,
       "min_height": null,
       "min_width": null,
       "object_fit": null,
       "object_position": null,
       "order": null,
       "overflow": null,
       "padding": null,
       "right": null,
       "top": null,
       "visibility": null,
       "width": null
      }
     },
     "db8a06054c7d4a24be4ef818c128ac01": {
      "model_module": "@jupyter-widgets/base",
      "model_module_version": "2.0.0",
      "model_name": "LayoutModel",
      "state": {
       "_model_module": "@jupyter-widgets/base",
       "_model_module_version": "2.0.0",
       "_model_name": "LayoutModel",
       "_view_count": null,
       "_view_module": "@jupyter-widgets/base",
       "_view_module_version": "2.0.0",
       "_view_name": "LayoutView",
       "align_content": null,
       "align_items": null,
       "align_self": null,
       "border_bottom": null,
       "border_left": null,
       "border_right": null,
       "border_top": null,
       "bottom": null,
       "display": null,
       "flex": null,
       "flex_flow": null,
       "grid_area": null,
       "grid_auto_columns": null,
       "grid_auto_flow": null,
       "grid_auto_rows": null,
       "grid_column": null,
       "grid_gap": null,
       "grid_row": null,
       "grid_template_areas": null,
       "grid_template_columns": null,
       "grid_template_rows": null,
       "height": null,
       "justify_content": null,
       "justify_items": null,
       "left": null,
       "margin": null,
       "max_height": null,
       "max_width": null,
       "min_height": null,
       "min_width": null,
       "object_fit": null,
       "object_position": null,
       "order": null,
       "overflow": null,
       "padding": null,
       "right": null,
       "top": null,
       "visibility": null,
       "width": null
      }
     },
     "f49cab8a8cd642dbbbea25311e5e5c5c": {
      "model_module": "@jupyter-widgets/base",
      "model_module_version": "2.0.0",
      "model_name": "LayoutModel",
      "state": {
       "_model_module": "@jupyter-widgets/base",
       "_model_module_version": "2.0.0",
       "_model_name": "LayoutModel",
       "_view_count": null,
       "_view_module": "@jupyter-widgets/base",
       "_view_module_version": "2.0.0",
       "_view_name": "LayoutView",
       "align_content": null,
       "align_items": null,
       "align_self": null,
       "border_bottom": null,
       "border_left": null,
       "border_right": null,
       "border_top": null,
       "bottom": null,
       "display": null,
       "flex": null,
       "flex_flow": null,
       "grid_area": null,
       "grid_auto_columns": null,
       "grid_auto_flow": null,
       "grid_auto_rows": null,
       "grid_column": null,
       "grid_gap": null,
       "grid_row": null,
       "grid_template_areas": null,
       "grid_template_columns": null,
       "grid_template_rows": null,
       "height": null,
       "justify_content": null,
       "justify_items": null,
       "left": null,
       "margin": null,
       "max_height": null,
       "max_width": null,
       "min_height": null,
       "min_width": null,
       "object_fit": null,
       "object_position": null,
       "order": null,
       "overflow": null,
       "padding": null,
       "right": null,
       "top": null,
       "visibility": null,
       "width": null
      }
     },
     "f5b9b81ce87a49369f0a7e6601ca1229": {
      "model_module": "@jupyter-widgets/controls",
      "model_module_version": "2.0.0",
      "model_name": "HBoxModel",
      "state": {
       "_dom_classes": [],
       "_model_module": "@jupyter-widgets/controls",
       "_model_module_version": "2.0.0",
       "_model_name": "HBoxModel",
       "_view_count": null,
       "_view_module": "@jupyter-widgets/controls",
       "_view_module_version": "2.0.0",
       "_view_name": "HBoxView",
       "box_style": "",
       "children": [
        "IPY_MODEL_c6ad29e141174913bd8b90d8bc64f12c"
       ],
       "layout": "IPY_MODEL_94f0ebaf366043afb54556188409a25e",
       "tabbable": null,
       "tooltip": null
      }
     }
    },
    "version_major": 2,
    "version_minor": 0
   }
  }
 },
 "nbformat": 4,
 "nbformat_minor": 5
}
