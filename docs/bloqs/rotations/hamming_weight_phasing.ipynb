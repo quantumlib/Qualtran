{
 "cells": [
  {
   "cell_type": "markdown",
   "id": "a9313ce9",
   "metadata": {
    "cq.autogen": "title_cell"
   },
   "source": [
    "# Z Rotations via Hamming Weight Phasing"
   ]
  },
  {
   "cell_type": "code",
   "execution_count": 1,
   "id": "c3a3a9be",
   "metadata": {
    "cq.autogen": "top_imports"
   },
   "outputs": [],
   "source": [
    "from qualtran import Bloq, CompositeBloq, BloqBuilder, Signature, Register\n",
    "from qualtran import QBit, QInt, QUInt, QAny\n",
    "from qualtran.drawing import show_bloq, show_call_graph, show_counts_sigma\n",
    "from typing import *\n",
    "import numpy as np\n",
    "import sympy\n",
    "import cirq"
   ]
  },
  {
   "cell_type": "markdown",
   "id": "e9b47fcd",
   "metadata": {
    "cq.autogen": "HammingWeightPhasing.bloq_doc.md"
   },
   "source": [
    "## `HammingWeightPhasing`\n",
    "Applies $Z^{\\text{exponent}}$ to every qubit of an input register of size `bitsize`.\n",
    "\n",
    "The goal of Hamming Weight Phasing is to reduce the number of rotations needed to\n",
    "apply a single qubit rotation $Z^{\\texttt{exponent}}$\n",
    "to every qubit of an input register `x` of size `bitsize` from `bitsize` to $O(\\log (\\texttt{bitsize}))$.\n",
    "Naively this would take exactly `bitsize` rotations to be synthesized. The number of rotations synthesized is\n",
    "reduced by taking advantage of the insight that the resulting phase that is applied to\n",
    "an input state only depends on the Hamming weight of the state. Since each `1` that is present in the input register\n",
    "accumulates a phase of $(-1)^{\\texttt{exponenet}}$, the total accumulated\n",
    "phase of an input basis state is $(-1)^{\\text{exponent} * HW(x)}$, where\n",
    "$HW(x)$ is the Hamming weight of $x$. The overall procedure is done in 3 steps:\n",
    "\n",
    "1. Compute the input register Hamming weight coherently using (at-most) $\\texttt{bitsize}-1$ ancilla\n",
    "    and Toffolis, storing the result in a newly allocated output\n",
    "    register of size $\\log_2(\\texttt{bitsize})$. $HW|x\\rangle \\mapsto |x\\rangle |HW(x)\\rangle$.\n",
    "    See `HammingWeightCompute` for implementation details of this step.\n",
    "2. Apply $Z^{2^{k}\\text{exponent}}$ to the k'th qubit of newly allocated Hamming weight\n",
    "     register.\n",
    "3. Uncompute the Hamming weight register and ancillas allocated in Step-1 with 0 Toffoli\n",
    "    cost.\n",
    "\n",
    "Since the size of the Hamming weight register is $\\log_2(\\texttt{bitsize})$, as the maximum\n",
    "Hamming weight is $\\texttt{bitsize}$ and we only need $\\log_2$ bits to store that as an integer, we\n",
    "have reduced the number of costly rotations to be synthesized from $\\texttt{bitsize}$\n",
    "to $\\log_2(\\texttt{bitsize})$. This procedure uses $\\texttt{bitsize} - HW(\\texttt{bitsize})$\n",
    "Toffoli's and $\\texttt{bitsize} - HW(\\texttt{bitsize}) + \\log_2(\\texttt{bitsize})$\n",
    "ancilla qubits to achieve this reduction in rotations.\n",
    "\n",
    "#### Parameters\n",
    " - `bitsize`: Size of input register to apply `Z ** exponent` to.\n",
    " - `exponent`: The exponent of `Z ** exponent` to be applied to each qubit in the input register.\n",
    " - `eps`: Accuracy of synthesizing the Z rotations. \n",
    "\n",
    "#### Registers\n",
    " - `x`: A `THRU` register of `bitsize` qubits. \n",
    "\n",
    "#### References\n",
    " - [Halving the cost of quantum addition](https://arxiv.org/abs/1709.06648). , Page-4\n"
   ]
  },
  {
   "cell_type": "code",
   "execution_count": 2,
   "id": "e3f9a509",
   "metadata": {
    "cq.autogen": "HammingWeightPhasing.bloq_doc.py"
   },
   "outputs": [],
   "source": [
    "from qualtran.bloqs.rotations import HammingWeightPhasing"
   ]
  },
  {
   "cell_type": "markdown",
   "id": "60a2af18",
   "metadata": {
    "cq.autogen": "HammingWeightPhasing.example_instances.md"
   },
   "source": [
    "### Example Instances"
   ]
  },
  {
   "cell_type": "code",
   "execution_count": 3,
   "id": "c355bed3",
   "metadata": {
    "cq.autogen": "HammingWeightPhasing.hamming_weight_phasing"
   },
   "outputs": [],
   "source": [
    "hamming_weight_phasing = HammingWeightPhasing(4, np.pi / 2.0)\n",
    "# Applying this unitary to |1111> should be the identity, and |0101> will flip the sign."
   ]
  },
  {
   "cell_type": "markdown",
   "id": "bb295da8",
   "metadata": {
    "cq.autogen": "HammingWeightPhasing.graphical_signature.md"
   },
   "source": [
    "#### Graphical Signature"
   ]
  },
  {
   "cell_type": "code",
   "execution_count": 4,
   "id": "8646b6d2",
   "metadata": {
    "cq.autogen": "HammingWeightPhasing.graphical_signature.py"
   },
   "outputs": [
    {
     "data": {
      "application/vnd.jupyter.widget-view+json": {
       "model_id": "1b6079d902d7466dbcfa349eda4403bf",
       "version_major": 2,
       "version_minor": 0
      },
      "text/plain": [
       "HBox(children=(Output(outputs=({'output_type': 'display_data', 'data': {'text/plain': '<IPython.core.display.M…"
      ]
     },
     "metadata": {},
     "output_type": "display_data"
    }
   ],
   "source": [
    "from qualtran.drawing import show_bloqs\n",
    "show_bloqs([hamming_weight_phasing],\n",
    "           ['`hamming_weight_phasing`'])"
   ]
  },
  {
   "cell_type": "markdown",
   "id": "64b82116",
   "metadata": {
    "cq.autogen": "HammingWeightPhasing.call_graph.md"
   },
   "source": [
    "### Call Graph"
   ]
  },
  {
   "cell_type": "code",
   "execution_count": 5,
   "id": "fe55c4f5",
   "metadata": {
    "cq.autogen": "HammingWeightPhasing.call_graph.py"
   },
   "outputs": [
    {
     "data": {
      "image/svg+xml": [
       "<svg xmlns=\"http://www.w3.org/2000/svg\" xmlns:xlink=\"http://www.w3.org/1999/xlink\" width=\"460pt\" height=\"131pt\" viewBox=\"0.00 0.00 460.00 131.00\">\n",
       "<g id=\"graph0\" class=\"graph\" transform=\"scale(1 1) rotate(0) translate(4 127)\">\n",
       "<title>counts</title>\n",
       "<polygon fill=\"white\" stroke=\"transparent\" points=\"-4,4 -4,-127 456,-127 456,4 -4,4\"/>\n",
       "<!-- b0 -->\n",
       "<g id=\"node1\" class=\"node\">\n",
       "<title>b0</title>\n",
       "<polygon fill=\"none\" stroke=\"black\" points=\"167,-93 167,-116 283,-116 283,-93 167,-93\"/>\n",
       "<text text-anchor=\"start\" x=\"173.5\" y=\"-102\" font-family=\"Times,serif\" font-size=\"10.00\">HammingWeightPhasing</text>\n",
       "</g>\n",
       "<!-- b1 -->\n",
       "<g id=\"node2\" class=\"node\">\n",
       "<title>b1</title>\n",
       "<polygon fill=\"none\" stroke=\"black\" points=\"8,-6 8,-29 128,-29 128,-6 8,-6\"/>\n",
       "<text text-anchor=\"start\" x=\"14\" y=\"-15\" font-family=\"Times,serif\" font-size=\"10.00\">HammingWeightCompute</text>\n",
       "</g>\n",
       "<!-- b0&#45;&gt;b1 -->\n",
       "<g id=\"edge1\" class=\"edge\">\n",
       "<title>b0-&gt;b1</title>\n",
       "<path fill=\"none\" stroke=\"black\" d=\"M193.23,-86.8C168.78,-73.56 134.83,-55.18 108.45,-40.9\"/>\n",
       "<polygon fill=\"black\" stroke=\"black\" points=\"109.92,-37.71 99.46,-36.03 106.58,-43.87 109.92,-37.71\"/>\n",
       "<text text-anchor=\"middle\" x=\"159.5\" y=\"-57.8\" font-family=\"Times,serif\" font-size=\"14.00\">1</text>\n",
       "</g>\n",
       "<!-- b2 -->\n",
       "<g id=\"node3\" class=\"node\">\n",
       "<title>b2</title>\n",
       "<polygon fill=\"none\" stroke=\"black\" points=\"162,-6 162,-29 288,-29 288,-6 162,-6\"/>\n",
       "<text text-anchor=\"start\" x=\"168.5\" y=\"-15\" font-family=\"Times,serif\" font-size=\"10.00\">HammingWeightCompute†</text>\n",
       "</g>\n",
       "<!-- b0&#45;&gt;b2 -->\n",
       "<g id=\"edge2\" class=\"edge\">\n",
       "<title>b0-&gt;b2</title>\n",
       "<path fill=\"none\" stroke=\"black\" d=\"M225,-86.8C225,-75.16 225,-59.55 225,-46.24\"/>\n",
       "<polygon fill=\"black\" stroke=\"black\" points=\"228.5,-46.18 225,-36.18 221.5,-46.18 228.5,-46.18\"/>\n",
       "<text text-anchor=\"middle\" x=\"228.5\" y=\"-57.8\" font-family=\"Times,serif\" font-size=\"14.00\">1</text>\n",
       "</g>\n",
       "<!-- b3 -->\n",
       "<g id=\"node4\" class=\"node\">\n",
       "<title>b3</title>\n",
       "<polygon fill=\"none\" stroke=\"black\" points=\"322,-6 322,-29 444,-29 444,-6 322,-6\"/>\n",
       "<text text-anchor=\"start\" x=\"328.5\" y=\"-15\" font-family=\"Times,serif\" font-size=\"10.00\">Z**1.5707963267948966</text>\n",
       "</g>\n",
       "<!-- b0&#45;&gt;b3 -->\n",
       "<g id=\"edge3\" class=\"edge\">\n",
       "<title>b0-&gt;b3</title>\n",
       "<path fill=\"none\" stroke=\"black\" d=\"M256.97,-86.8C281.58,-73.56 315.74,-55.18 342.3,-40.9\"/>\n",
       "<polygon fill=\"black\" stroke=\"black\" points=\"344.2,-43.85 351.34,-36.03 340.88,-37.69 344.2,-43.85\"/>\n",
       "<text text-anchor=\"middle\" x=\"317.5\" y=\"-57.8\" font-family=\"Times,serif\" font-size=\"14.00\">3</text>\n",
       "</g>\n",
       "</g>\n",
       "</svg>"
      ],
      "text/plain": [
       "<IPython.core.display.SVG object>"
      ]
     },
     "metadata": {},
     "output_type": "display_data"
    },
    {
     "data": {
      "text/markdown": [
       "#### Counts totals:\n",
       " - `HammingWeightCompute`: 1\n",
       " - `HammingWeightCompute†`: 1\n",
       " - `Z**1.5707963267948966`: 3"
      ],
      "text/plain": [
       "<IPython.core.display.Markdown object>"
      ]
     },
     "metadata": {},
     "output_type": "display_data"
    }
   ],
   "source": [
    "from qualtran.resource_counting.generalizers import ignore_split_join\n",
    "hamming_weight_phasing_g, hamming_weight_phasing_sigma = hamming_weight_phasing.call_graph(max_depth=1, generalizer=ignore_split_join)\n",
    "show_call_graph(hamming_weight_phasing_g)\n",
    "show_counts_sigma(hamming_weight_phasing_sigma)"
   ]
  },
  {
   "cell_type": "markdown",
   "id": "9b7d1090",
   "metadata": {
    "cq.autogen": "HammingWeightPhasingViaPhaseGradient.bloq_doc.md"
   },
   "source": [
    "## `HammingWeightPhasingViaPhaseGradient`\n",
    "Applies $Z^{\\text{exponent}}$ to every qubit of an input register of size `bitsize`.\n",
    "\n",
    "See docstring of `HammingWeightPhasing` for more details about how hamming weight phasing works.\n",
    "\n",
    "In this variant of Hamming Weight Phasing, instead of directly synthesizing $O(\\log_2 (\\texttt{bitsize}))$\n",
    "rotations on the Hamming weight register we synthesize the rotations via an addition into the\n",
    "phase gradient register. See reference [1] for more details on this technique.\n",
    "\n",
    "Note: For most reasonable values of `bitsize` and `eps`, the naive `HammingWeightPhasing` would\n",
    "have better constant factors than `HammingWeightPhasingViaPhaseGradient`. This is because, in\n",
    "general, the primary advantage of using phase gradient is to reduce the complexity from\n",
    "$O(n * \\log(1/ \\texttt{eps} ))$ to $O(\\log^2(1/ \\texttt{eps} ))$ (the phase gradient register is of size\n",
    "$O(\\log(1/\\texttt{eps}))$ and a scaled addition into the target takes $(b_{grad} - 2)(\\log(1/\\texttt{eps}) + 2)$).\n",
    "Therefore, to apply $n$ individual rotations on a target register of size $n$, the complexity is\n",
    "independent of $n$ and is essentially a constant (scales only with $log(1/\\texttt{eps})$).\n",
    "However, for the actual constant values to be better, the value of $n$ needs to be\n",
    "$> \\log(1/\\texttt{eps})$. In the case of hamming weight phasing, $n$ corresponds to the hamming weight\n",
    "register which itself is $\\log(\\texttt{bitsize})$. Thus, as `eps` becomes smaller, the required\n",
    "value of $\\texttt{bitsize}$, for the phase gradient version to become more performant, becomes\n",
    "larger.\n",
    "\n",
    "#### Parameters\n",
    " - `bitsize`: Size of input register to apply `Z ** exponent` to.\n",
    " - `exponent`: The exponent of `Z ** exponent` to be applied to each qubit in the input register.\n",
    " - `eps`: Accuracy of synthesizing the Z rotations. \n",
    "\n",
    "#### Registers\n",
    " - `x`: Input THRU register of size `bitsize`, to apply `Z**exponent` to.\n",
    " - `phase_grad`: Phase gradient THRU register of size `O(log2(1/eps))`, to be used to apply the phasing via addition. \n",
    "\n",
    "#### References\n",
    " - [Compilation of Fault-Tolerant Quantum Heuristics for Combinatorial Optimization](https://arxiv.org/abs/2007.07391). Appendix A: Addition for controlled rotations\n"
   ]
  },
  {
   "cell_type": "code",
   "execution_count": 6,
   "id": "92a726f2",
   "metadata": {
    "cq.autogen": "HammingWeightPhasingViaPhaseGradient.bloq_doc.py"
   },
   "outputs": [],
   "source": [
    "from qualtran.bloqs.rotations import HammingWeightPhasingViaPhaseGradient"
   ]
  },
  {
   "cell_type": "markdown",
   "id": "9edbbc46",
   "metadata": {
    "cq.autogen": "HammingWeightPhasingViaPhaseGradient.example_instances.md"
   },
   "source": [
    "### Example Instances"
   ]
  },
  {
   "cell_type": "code",
   "execution_count": 7,
   "id": "dbbe2cd3",
   "metadata": {
    "cq.autogen": "HammingWeightPhasingViaPhaseGradient.hamming_weight_phasing_via_phase_gradient"
   },
   "outputs": [],
   "source": [
    "hamming_weight_phasing_via_phase_gradient = HammingWeightPhasingViaPhaseGradient(4, np.pi / 2.0)\n",
    "# Applying this unitary to |1111> should be the identity, and |0101> will flip the sign."
   ]
  },
  {
   "cell_type": "markdown",
   "id": "60b42bf7",
   "metadata": {
    "cq.autogen": "HammingWeightPhasingViaPhaseGradient.graphical_signature.md"
   },
   "source": [
    "#### Graphical Signature"
   ]
  },
  {
   "cell_type": "code",
   "execution_count": 8,
   "id": "b85cf5a1",
   "metadata": {
    "cq.autogen": "HammingWeightPhasingViaPhaseGradient.graphical_signature.py"
   },
   "outputs": [
    {
     "data": {
      "application/vnd.jupyter.widget-view+json": {
       "model_id": "de0e81a24b1e45b1acfd5adee985dbeb",
       "version_major": 2,
       "version_minor": 0
      },
      "text/plain": [
       "HBox(children=(Output(outputs=({'output_type': 'display_data', 'data': {'text/plain': '<IPython.core.display.M…"
      ]
     },
     "metadata": {},
     "output_type": "display_data"
    }
   ],
   "source": [
    "from qualtran.drawing import show_bloqs\n",
    "show_bloqs([hamming_weight_phasing_via_phase_gradient],\n",
    "           ['`hamming_weight_phasing_via_phase_gradient`'])"
   ]
  },
  {
   "cell_type": "markdown",
   "id": "c842cfa1",
   "metadata": {
    "cq.autogen": "HammingWeightPhasingViaPhaseGradient.call_graph.md"
   },
   "source": [
    "### Call Graph"
   ]
  },
  {
   "cell_type": "code",
   "execution_count": 9,
   "id": "a8fc6038",
   "metadata": {
    "cq.autogen": "HammingWeightPhasingViaPhaseGradient.call_graph.py"
   },
   "outputs": [
    {
     "data": {
      "image/svg+xml": [
       "<svg xmlns=\"http://www.w3.org/2000/svg\" xmlns:xlink=\"http://www.w3.org/1999/xlink\" width=\"426pt\" height=\"131pt\" viewBox=\"0.00 0.00 426.00 131.00\">\n",
       "<g id=\"graph0\" class=\"graph\" transform=\"scale(1 1) rotate(0) translate(4 127)\">\n",
       "<title>counts</title>\n",
       "<polygon fill=\"white\" stroke=\"transparent\" points=\"-4,4 -4,-127 422,-127 422,4 -4,4\"/>\n",
       "<!-- b0 -->\n",
       "<g id=\"node1\" class=\"node\">\n",
       "<title>b0</title>\n",
       "<polygon fill=\"none\" stroke=\"black\" points=\"118,-93 118,-116 306,-116 306,-93 118,-93\"/>\n",
       "<text text-anchor=\"start\" x=\"124.5\" y=\"-102\" font-family=\"Times,serif\" font-size=\"10.00\">HammingWeightPhasingViaPhaseGradient</text>\n",
       "</g>\n",
       "<!-- b1 -->\n",
       "<g id=\"node2\" class=\"node\">\n",
       "<title>b1</title>\n",
       "<polygon fill=\"none\" stroke=\"black\" points=\"8,-6 8,-29 134,-29 134,-6 8,-6\"/>\n",
       "<text text-anchor=\"start\" x=\"14.5\" y=\"-15\" font-family=\"Times,serif\" font-size=\"10.00\">HammingWeightCompute†</text>\n",
       "</g>\n",
       "<!-- b0&#45;&gt;b1 -->\n",
       "<g id=\"edge1\" class=\"edge\">\n",
       "<title>b0-&gt;b1</title>\n",
       "<path fill=\"none\" stroke=\"black\" d=\"M183.47,-86.8C161.77,-73.72 131.75,-55.62 108.18,-41.41\"/>\n",
       "<polygon fill=\"black\" stroke=\"black\" points=\"109.86,-38.34 99.49,-36.18 106.25,-44.34 109.86,-38.34\"/>\n",
       "<text text-anchor=\"middle\" x=\"153.5\" y=\"-57.8\" font-family=\"Times,serif\" font-size=\"14.00\">1</text>\n",
       "</g>\n",
       "<!-- b2 -->\n",
       "<g id=\"node3\" class=\"node\">\n",
       "<title>b2</title>\n",
       "<polygon fill=\"none\" stroke=\"black\" points=\"168,-6 168,-29 256,-29 256,-6 168,-6\"/>\n",
       "<text text-anchor=\"start\" x=\"174\" y=\"-15\" font-family=\"Times,serif\" font-size=\"10.00\">QvrPhaseGradient</text>\n",
       "</g>\n",
       "<!-- b0&#45;&gt;b2 -->\n",
       "<g id=\"edge2\" class=\"edge\">\n",
       "<title>b0-&gt;b2</title>\n",
       "<path fill=\"none\" stroke=\"black\" d=\"M212,-86.8C212,-75.16 212,-59.55 212,-46.24\"/>\n",
       "<polygon fill=\"black\" stroke=\"black\" points=\"215.5,-46.18 212,-36.18 208.5,-46.18 215.5,-46.18\"/>\n",
       "<text text-anchor=\"middle\" x=\"215.5\" y=\"-57.8\" font-family=\"Times,serif\" font-size=\"14.00\">1</text>\n",
       "</g>\n",
       "<!-- b3 -->\n",
       "<g id=\"node4\" class=\"node\">\n",
       "<title>b3</title>\n",
       "<polygon fill=\"none\" stroke=\"black\" points=\"290,-6 290,-29 410,-29 410,-6 290,-6\"/>\n",
       "<text text-anchor=\"start\" x=\"296\" y=\"-15\" font-family=\"Times,serif\" font-size=\"10.00\">HammingWeightCompute</text>\n",
       "</g>\n",
       "<!-- b0&#45;&gt;b3 -->\n",
       "<g id=\"edge3\" class=\"edge\">\n",
       "<title>b0-&gt;b3</title>\n",
       "<path fill=\"none\" stroke=\"black\" d=\"M239.93,-86.8C261.06,-73.78 290.28,-55.78 313.31,-41.6\"/>\n",
       "<polygon fill=\"black\" stroke=\"black\" points=\"315.44,-44.4 322.12,-36.18 311.77,-38.44 315.44,-44.4\"/>\n",
       "<text text-anchor=\"middle\" x=\"293.5\" y=\"-57.8\" font-family=\"Times,serif\" font-size=\"14.00\">1</text>\n",
       "</g>\n",
       "</g>\n",
       "</svg>"
      ],
      "text/plain": [
       "<IPython.core.display.SVG object>"
      ]
     },
     "metadata": {},
     "output_type": "display_data"
    },
    {
     "data": {
      "text/markdown": [
       "#### Counts totals:\n",
       " - `HammingWeightCompute`: 1\n",
       " - `HammingWeightCompute†`: 1\n",
       " - `QvrPhaseGradient`: 1"
      ],
      "text/plain": [
       "<IPython.core.display.Markdown object>"
      ]
     },
     "metadata": {},
     "output_type": "display_data"
    }
   ],
   "source": [
    "from qualtran.resource_counting.generalizers import ignore_split_join\n",
    "hamming_weight_phasing_via_phase_gradient_g, hamming_weight_phasing_via_phase_gradient_sigma = hamming_weight_phasing_via_phase_gradient.call_graph(max_depth=1, generalizer=ignore_split_join)\n",
    "show_call_graph(hamming_weight_phasing_via_phase_gradient_g)\n",
    "show_counts_sigma(hamming_weight_phasing_via_phase_gradient_sigma)"
   ]
  }
 ],
 "metadata": {
  "kernelspec": {
   "display_name": "Python 3",
   "language": "python",
   "name": "python3"
  },
  "language_info": {
   "codemirror_mode": {
    "name": "ipython",
    "version": 3
   },
   "file_extension": ".py",
   "mimetype": "text/x-python",
   "name": "python",
   "nbconvert_exporter": "python",
   "pygments_lexer": "ipython3",
   "version": "3.11.8"
  },
  "widgets": {
   "application/vnd.jupyter.widget-state+json": {
    "state": {
     "1b6079d902d7466dbcfa349eda4403bf": {
      "model_module": "@jupyter-widgets/controls",
      "model_module_version": "2.0.0",
      "model_name": "HBoxModel",
      "state": {
       "_dom_classes": [],
       "_model_module": "@jupyter-widgets/controls",
       "_model_module_version": "2.0.0",
       "_model_name": "HBoxModel",
       "_view_count": null,
       "_view_module": "@jupyter-widgets/controls",
       "_view_module_version": "2.0.0",
       "_view_name": "HBoxView",
       "box_style": "",
       "children": [
        "IPY_MODEL_53a05b51e7fa4bddae1ab08dccfff8f6"
       ],
       "layout": "IPY_MODEL_65b558431758424eba92999f261ae47d",
       "tabbable": null,
       "tooltip": null
      }
     },
     "53a05b51e7fa4bddae1ab08dccfff8f6": {
      "model_module": "@jupyter-widgets/output",
      "model_module_version": "1.0.0",
      "model_name": "OutputModel",
      "state": {
       "_dom_classes": [],
       "_model_module": "@jupyter-widgets/output",
       "_model_module_version": "1.0.0",
       "_model_name": "OutputModel",
       "_view_count": null,
       "_view_module": "@jupyter-widgets/output",
       "_view_module_version": "1.0.0",
       "_view_name": "OutputView",
       "layout": "IPY_MODEL_6ce3652c229a420abd6ab06aab11a66b",
       "msg_id": "",
       "outputs": [
        {
         "data": {
          "text/markdown": "`hamming_weight_phasing`",
          "text/plain": "<IPython.core.display.Markdown object>"
         },
         "metadata": {},
         "output_type": "display_data"
        },
        {
         "data": {
          "image/svg+xml": "<svg xmlns=\"http://www.w3.org/2000/svg\" xmlns:xlink=\"http://www.w3.org/1999/xlink\" width=\"299pt\" height=\"54pt\" viewBox=\"0.00 0.00 299.00 54.00\">\n<g id=\"graph0\" class=\"graph\" transform=\"scale(1 1) rotate(0) translate(4 50)\">\n<title>my_graph</title>\n<polygon fill=\"white\" stroke=\"transparent\" points=\"-4,4 -4,-50 295,-50 295,4 -4,4\"/>\n<!-- x_G0 -->\n<g id=\"node1\" class=\"node\">\n<title>x_G0</title>\n<text text-anchor=\"middle\" x=\"27\" y=\"-14.3\" font-family=\"Times,serif\" font-size=\"14.00\">x</text>\n</g>\n<!-- HammingWeightPhasing -->\n<g id=\"node2\" class=\"node\">\n<title>HammingWeightPhasing</title>\n<polygon fill=\"none\" stroke=\"black\" points=\"91.5,-29 91.5,-46 200.5,-46 200.5,-29 91.5,-29\"/>\n<text text-anchor=\"start\" x=\"94.5\" y=\"-35\" font-family=\"Times,serif\" font-size=\"10.00\">HammingWeightPhasing</text>\n<polygon fill=\"none\" stroke=\"black\" points=\"91.5,-8 91.5,-29 200.5,-29 200.5,-8 91.5,-8\"/>\n<text text-anchor=\"start\" x=\"142.5\" y=\"-14.8\" font-family=\"Times,serif\" font-size=\"14.00\">x</text>\n</g>\n<!-- x_G0&#45;&gt;HammingWeightPhasing -->\n<g id=\"edge1\" class=\"edge\">\n<title>x_G0:e-&gt;HammingWeightPhasing:w</title>\n<path fill=\"none\" stroke=\"black\" d=\"M54,-18C69.67,-18 74.14,-18 88.77,-18\"/>\n<ellipse fill=\"black\" stroke=\"black\" cx=\"90\" cy=\"-18\" rx=\"1\" ry=\"1\"/>\n<text text-anchor=\"middle\" x=\"72.5\" y=\"-21\" font-family=\"Times,serif\" font-size=\"10.00\">4</text>\n</g>\n<!-- x_G1 -->\n<g id=\"node3\" class=\"node\">\n<title>x_G1</title>\n<text text-anchor=\"middle\" x=\"264\" y=\"-14.3\" font-family=\"Times,serif\" font-size=\"14.00\">x</text>\n</g>\n<!-- HammingWeightPhasing&#45;&gt;x_G1 -->\n<g id=\"edge2\" class=\"edge\">\n<title>HammingWeightPhasing:e-&gt;x_G1:w</title>\n<path fill=\"none\" stroke=\"black\" d=\"M200,-18C215.67,-18 220.14,-18 234.77,-18\"/>\n<ellipse fill=\"black\" stroke=\"black\" cx=\"236\" cy=\"-18\" rx=\"1\" ry=\"1\"/>\n<text text-anchor=\"middle\" x=\"218.5\" y=\"-21\" font-family=\"Times,serif\" font-size=\"10.00\">4</text>\n</g>\n</g>\n</svg>",
          "text/plain": "<IPython.core.display.SVG object>"
         },
         "metadata": {},
         "output_type": "display_data"
        }
       ],
       "tabbable": null,
       "tooltip": null
      }
     },
     "65b558431758424eba92999f261ae47d": {
      "model_module": "@jupyter-widgets/base",
      "model_module_version": "2.0.0",
      "model_name": "LayoutModel",
      "state": {
       "_model_module": "@jupyter-widgets/base",
       "_model_module_version": "2.0.0",
       "_model_name": "LayoutModel",
       "_view_count": null,
       "_view_module": "@jupyter-widgets/base",
       "_view_module_version": "2.0.0",
       "_view_name": "LayoutView",
       "align_content": null,
       "align_items": null,
       "align_self": null,
       "border_bottom": null,
       "border_left": null,
       "border_right": null,
       "border_top": null,
       "bottom": null,
       "display": null,
       "flex": null,
       "flex_flow": null,
       "grid_area": null,
       "grid_auto_columns": null,
       "grid_auto_flow": null,
       "grid_auto_rows": null,
       "grid_column": null,
       "grid_gap": null,
       "grid_row": null,
       "grid_template_areas": null,
       "grid_template_columns": null,
       "grid_template_rows": null,
       "height": null,
       "justify_content": null,
       "justify_items": null,
       "left": null,
       "margin": null,
       "max_height": null,
       "max_width": null,
       "min_height": null,
       "min_width": null,
       "object_fit": null,
       "object_position": null,
       "order": null,
       "overflow": null,
       "padding": null,
       "right": null,
       "top": null,
       "visibility": null,
       "width": null
      }
     },
     "6ce3652c229a420abd6ab06aab11a66b": {
      "model_module": "@jupyter-widgets/base",
      "model_module_version": "2.0.0",
      "model_name": "LayoutModel",
      "state": {
       "_model_module": "@jupyter-widgets/base",
       "_model_module_version": "2.0.0",
       "_model_name": "LayoutModel",
       "_view_count": null,
       "_view_module": "@jupyter-widgets/base",
       "_view_module_version": "2.0.0",
       "_view_name": "LayoutView",
       "align_content": null,
       "align_items": null,
       "align_self": null,
       "border_bottom": null,
       "border_left": null,
       "border_right": null,
       "border_top": null,
       "bottom": null,
       "display": null,
       "flex": null,
       "flex_flow": null,
       "grid_area": null,
       "grid_auto_columns": null,
       "grid_auto_flow": null,
       "grid_auto_rows": null,
       "grid_column": null,
       "grid_gap": null,
       "grid_row": null,
       "grid_template_areas": null,
       "grid_template_columns": null,
       "grid_template_rows": null,
       "height": null,
       "justify_content": null,
       "justify_items": null,
       "left": null,
       "margin": null,
       "max_height": null,
       "max_width": null,
       "min_height": null,
       "min_width": null,
       "object_fit": null,
       "object_position": null,
       "order": null,
       "overflow": null,
       "padding": null,
       "right": null,
       "top": null,
       "visibility": null,
       "width": null
      }
     },
     "a2653e30fe394ceeaa8816be24995944": {
      "model_module": "@jupyter-widgets/base",
      "model_module_version": "2.0.0",
      "model_name": "LayoutModel",
      "state": {
       "_model_module": "@jupyter-widgets/base",
       "_model_module_version": "2.0.0",
       "_model_name": "LayoutModel",
       "_view_count": null,
       "_view_module": "@jupyter-widgets/base",
       "_view_module_version": "2.0.0",
       "_view_name": "LayoutView",
       "align_content": null,
       "align_items": null,
       "align_self": null,
       "border_bottom": null,
       "border_left": null,
       "border_right": null,
       "border_top": null,
       "bottom": null,
       "display": null,
       "flex": null,
       "flex_flow": null,
       "grid_area": null,
       "grid_auto_columns": null,
       "grid_auto_flow": null,
       "grid_auto_rows": null,
       "grid_column": null,
       "grid_gap": null,
       "grid_row": null,
       "grid_template_areas": null,
       "grid_template_columns": null,
       "grid_template_rows": null,
       "height": null,
       "justify_content": null,
       "justify_items": null,
       "left": null,
       "margin": null,
       "max_height": null,
       "max_width": null,
       "min_height": null,
       "min_width": null,
       "object_fit": null,
       "object_position": null,
       "order": null,
       "overflow": null,
       "padding": null,
       "right": null,
       "top": null,
       "visibility": null,
       "width": null
      }
     },
     "bbbaf2ca34024d8ab1fb88ebdd9a3b90": {
      "model_module": "@jupyter-widgets/base",
      "model_module_version": "2.0.0",
      "model_name": "LayoutModel",
      "state": {
       "_model_module": "@jupyter-widgets/base",
       "_model_module_version": "2.0.0",
       "_model_name": "LayoutModel",
       "_view_count": null,
       "_view_module": "@jupyter-widgets/base",
       "_view_module_version": "2.0.0",
       "_view_name": "LayoutView",
       "align_content": null,
       "align_items": null,
       "align_self": null,
       "border_bottom": null,
       "border_left": null,
       "border_right": null,
       "border_top": null,
       "bottom": null,
       "display": null,
       "flex": null,
       "flex_flow": null,
       "grid_area": null,
       "grid_auto_columns": null,
       "grid_auto_flow": null,
       "grid_auto_rows": null,
       "grid_column": null,
       "grid_gap": null,
       "grid_row": null,
       "grid_template_areas": null,
       "grid_template_columns": null,
       "grid_template_rows": null,
       "height": null,
       "justify_content": null,
       "justify_items": null,
       "left": null,
       "margin": null,
       "max_height": null,
       "max_width": null,
       "min_height": null,
       "min_width": null,
       "object_fit": null,
       "object_position": null,
       "order": null,
       "overflow": null,
       "padding": null,
       "right": null,
       "top": null,
       "visibility": null,
       "width": null
      }
     },
     "de0e81a24b1e45b1acfd5adee985dbeb": {
      "model_module": "@jupyter-widgets/controls",
      "model_module_version": "2.0.0",
      "model_name": "HBoxModel",
      "state": {
       "_dom_classes": [],
       "_model_module": "@jupyter-widgets/controls",
       "_model_module_version": "2.0.0",
       "_model_name": "HBoxModel",
       "_view_count": null,
       "_view_module": "@jupyter-widgets/controls",
       "_view_module_version": "2.0.0",
       "_view_name": "HBoxView",
       "box_style": "",
       "children": [
        "IPY_MODEL_f7a5ea1a91254bbc9288d5404364c483"
       ],
       "layout": "IPY_MODEL_bbbaf2ca34024d8ab1fb88ebdd9a3b90",
       "tabbable": null,
       "tooltip": null
      }
     },
     "f7a5ea1a91254bbc9288d5404364c483": {
      "model_module": "@jupyter-widgets/output",
      "model_module_version": "1.0.0",
      "model_name": "OutputModel",
      "state": {
       "_dom_classes": [],
       "_model_module": "@jupyter-widgets/output",
       "_model_module_version": "1.0.0",
       "_model_name": "OutputModel",
       "_view_count": null,
       "_view_module": "@jupyter-widgets/output",
       "_view_module_version": "1.0.0",
       "_view_name": "OutputView",
       "layout": "IPY_MODEL_a2653e30fe394ceeaa8816be24995944",
       "msg_id": "",
       "outputs": [
        {
         "data": {
          "text/markdown": "`hamming_weight_phasing_via_phase_gradient`",
          "text/plain": "<IPython.core.display.Markdown object>"
         },
         "metadata": {},
         "output_type": "display_data"
        },
        {
         "data": {
          "image/svg+xml": "<svg xmlns=\"http://www.w3.org/2000/svg\" xmlns:xlink=\"http://www.w3.org/1999/xlink\" width=\"419pt\" height=\"98pt\" viewBox=\"0.00 0.00 419.00 98.00\">\n<g id=\"graph0\" class=\"graph\" transform=\"scale(1 1) rotate(0) translate(4 94)\">\n<title>my_graph</title>\n<polygon fill=\"white\" stroke=\"transparent\" points=\"-4,4 -4,-94 415,-94 415,4 -4,4\"/>\n<!-- x_G0 -->\n<g id=\"node1\" class=\"node\">\n<title>x_G0</title>\n<text text-anchor=\"middle\" x=\"39\" y=\"-68.3\" font-family=\"Times,serif\" font-size=\"14.00\">x</text>\n</g>\n<!-- HammingWeightPhasingViaPhaseGradient -->\n<g id=\"node3\" class=\"node\">\n<title>HammingWeightPhasingViaPhaseGradient</title>\n<polygon fill=\"none\" stroke=\"black\" points=\"115.5,-66 115.5,-83 296.5,-83 296.5,-66 115.5,-66\"/>\n<text text-anchor=\"start\" x=\"118.5\" y=\"-72\" font-family=\"Times,serif\" font-size=\"10.00\">HammingWeightPhasingViaPhaseGradient</text>\n<polygon fill=\"none\" stroke=\"black\" points=\"115.5,-45 115.5,-66 296.5,-66 296.5,-45 115.5,-45\"/>\n<text text-anchor=\"start\" x=\"202.5\" y=\"-51.8\" font-family=\"Times,serif\" font-size=\"14.00\">x</text>\n<polygon fill=\"none\" stroke=\"black\" points=\"115.5,-24 115.5,-45 296.5,-45 296.5,-24 115.5,-24\"/>\n<text text-anchor=\"start\" x=\"175\" y=\"-30.8\" font-family=\"Times,serif\" font-size=\"14.00\">phase_grad</text>\n</g>\n<!-- x_G0&#45;&gt;HammingWeightPhasingViaPhaseGradient -->\n<g id=\"edge1\" class=\"edge\">\n<title>x_G0:e-&gt;HammingWeightPhasingViaPhaseGradient:w</title>\n<path fill=\"none\" stroke=\"black\" d=\"M67,-72C88.78,-72 92.3,-56.98 112.95,-56.05\"/>\n<ellipse fill=\"black\" stroke=\"black\" cx=\"114\" cy=\"-56.02\" rx=\"1\" ry=\"1\"/>\n<text text-anchor=\"middle\" x=\"96.5\" y=\"-63\" font-family=\"Times,serif\" font-size=\"10.00\">4</text>\n</g>\n<!-- phase_grad_G5 -->\n<g id=\"node2\" class=\"node\">\n<title>phase_grad_G5</title>\n<text text-anchor=\"middle\" x=\"39\" y=\"-14.3\" font-family=\"Times,serif\" font-size=\"14.00\">phase_grad</text>\n</g>\n<!-- phase_grad_G5&#45;&gt;HammingWeightPhasingViaPhaseGradient -->\n<g id=\"edge2\" class=\"edge\">\n<title>phase_grad_G5:e-&gt;HammingWeightPhasingViaPhaseGradient:w</title>\n<path fill=\"none\" stroke=\"black\" d=\"M78,-18C95.22,-18 96.97,-32.77 112.98,-33.93\"/>\n<ellipse fill=\"black\" stroke=\"black\" cx=\"114\" cy=\"-33.96\" rx=\"1\" ry=\"1\"/>\n<text text-anchor=\"middle\" x=\"96.5\" y=\"-29\" font-family=\"Times,serif\" font-size=\"10.00\">35</text>\n</g>\n<!-- x_G2 -->\n<g id=\"node4\" class=\"node\">\n<title>x_G2</title>\n<text text-anchor=\"middle\" x=\"372\" y=\"-68.3\" font-family=\"Times,serif\" font-size=\"14.00\">x</text>\n</g>\n<!-- HammingWeightPhasingViaPhaseGradient&#45;&gt;x_G2 -->\n<g id=\"edge3\" class=\"edge\">\n<title>HammingWeightPhasingViaPhaseGradient:e-&gt;x_G2:w</title>\n<path fill=\"none\" stroke=\"black\" d=\"M296,-56C317.78,-56 321.3,-71.02 341.95,-71.95\"/>\n<ellipse fill=\"black\" stroke=\"black\" cx=\"343\" cy=\"-71.98\" rx=\"1\" ry=\"1\"/>\n<text text-anchor=\"middle\" x=\"314.5\" y=\"-63\" font-family=\"Times,serif\" font-size=\"10.00\">4</text>\n</g>\n<!-- phase_grad_G1 -->\n<g id=\"node5\" class=\"node\">\n<title>phase_grad_G1</title>\n<text text-anchor=\"middle\" x=\"372\" y=\"-14.3\" font-family=\"Times,serif\" font-size=\"14.00\">phase_grad</text>\n</g>\n<!-- HammingWeightPhasingViaPhaseGradient&#45;&gt;phase_grad_G1 -->\n<g id=\"edge4\" class=\"edge\">\n<title>HammingWeightPhasingViaPhaseGradient:e-&gt;phase_grad_G1:w</title>\n<path fill=\"none\" stroke=\"black\" d=\"M296,-34C313.22,-34 314.97,-19.23 330.98,-18.07\"/>\n<ellipse fill=\"black\" stroke=\"black\" cx=\"332\" cy=\"-18.04\" rx=\"1\" ry=\"1\"/>\n<text text-anchor=\"middle\" x=\"314.5\" y=\"-29\" font-family=\"Times,serif\" font-size=\"10.00\">35</text>\n</g>\n</g>\n</svg>",
          "text/plain": "<IPython.core.display.SVG object>"
         },
         "metadata": {},
         "output_type": "display_data"
        }
       ],
       "tabbable": null,
       "tooltip": null
      }
     }
    },
    "version_major": 2,
    "version_minor": 0
   }
  }
 },
 "nbformat": 4,
 "nbformat_minor": 5
}
