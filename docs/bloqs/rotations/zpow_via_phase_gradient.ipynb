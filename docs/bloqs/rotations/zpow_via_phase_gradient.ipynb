{
 "cells": [
  {
   "cell_type": "markdown",
   "id": "7e96cff5",
   "metadata": {
    "cq.autogen": "title_cell"
   },
   "source": [
    "# ZPow Rotation via Phase Gradient"
   ]
  },
  {
   "cell_type": "code",
   "execution_count": 1,
   "id": "197bfd0b",
   "metadata": {
    "cq.autogen": "top_imports"
   },
   "outputs": [],
   "source": [
    "from qualtran import Bloq, CompositeBloq, BloqBuilder, Signature, Register\n",
    "from qualtran import QBit, QInt, QUInt, QAny\n",
    "from qualtran.drawing import show_bloq, show_call_graph, show_counts_sigma\n",
    "from typing import *\n",
    "import numpy as np\n",
    "import sympy\n",
    "import cirq"
   ]
  },
  {
   "cell_type": "markdown",
   "id": "a1b0782f",
   "metadata": {
    "cq.autogen": "ZPowConstViaPhaseGradient.bloq_doc.md"
   },
   "source": [
    "## `ZPowConstViaPhaseGradient`\n",
    "Apply an $Z**t$ on a qubit using a phase gradient state.\n",
    "\n",
    "This bloq implements a `Z**t` by conditionally loading `t/2` into a quantum\n",
    "register, conditioned on the qubit `q` (rotation target), and then adding\n",
    "this value to the phase gradient to get a phase kickback, and uncomputes the load.\n",
    "This controlled-load trick is taken from Ref. [2], Fig 2a.\n",
    "\n",
    "See :class:`PhaseGradientState` for details on phase gradients.\n",
    "\n",
    "It loads an approximation of `t/2` to `phase_grad_bitsize` bits,\n",
    "which is loaded using `phase_grad_bitsize` clean ancilla.\n",
    "\n",
    "The total Tofolli cost is `phase_grad_bitsize - 2`.\n",
    "\n",
    "\n",
    "#### Parameters\n",
    " - `exponent`: value of `t` to apply `Z**t`\n",
    " - `phase_grad_bitsize`: number of qubits of the phase gradient state. \n",
    "\n",
    "#### Registers\n",
    " - `q`: qubit to apply rotation on.\n",
    " - `phase_grad`: phase gradient state of type `QFxp` with `phase_grad_bitsize` fractional bits. \n",
    "\n",
    "#### References\n",
    " - [Improved quantum circuits for elliptic curve discrete logarithms](https://arxiv.org/abs/2001.09580). Haner et al. 2020. Section 3: Components. \"Integer addition\" and Fig 2a.\n"
   ]
  },
  {
   "cell_type": "code",
   "execution_count": 2,
   "id": "d9111c04",
   "metadata": {
    "cq.autogen": "ZPowConstViaPhaseGradient.bloq_doc.py"
   },
   "outputs": [],
   "source": [
    "from qualtran.bloqs.rotations import ZPowConstViaPhaseGradient"
   ]
  },
  {
   "cell_type": "markdown",
   "id": "b09c61b5",
   "metadata": {
    "cq.autogen": "ZPowConstViaPhaseGradient.example_instances.md"
   },
   "source": [
    "### Example Instances"
   ]
  },
  {
   "cell_type": "code",
   "execution_count": 3,
   "id": "ab048833",
   "metadata": {
    "cq.autogen": "ZPowConstViaPhaseGradient.zpow_const_via_phase_grad"
   },
   "outputs": [],
   "source": [
    "zpow_const_via_phase_grad = ZPowConstViaPhaseGradient.from_precision(3 / 8, eps=1e-11)"
   ]
  },
  {
   "cell_type": "code",
   "execution_count": 4,
   "id": "f61b0a60",
   "metadata": {
    "cq.autogen": "ZPowConstViaPhaseGradient.zpow_const_via_phase_grad_symb_prec"
   },
   "outputs": [],
   "source": [
    "eps = sympy.symbols(\"eps\")\n",
    "zpow_const_via_phase_grad_symb_prec = ZPowConstViaPhaseGradient.from_precision(3 / 8, eps=eps)"
   ]
  },
  {
   "cell_type": "code",
   "execution_count": 5,
   "id": "66d60de6",
   "metadata": {
    "cq.autogen": "ZPowConstViaPhaseGradient.zpow_const_via_phase_grad_symb_angle"
   },
   "outputs": [],
   "source": [
    "t = sympy.symbols(\"t\")\n",
    "zpow_const_via_phase_grad_symb_angle = ZPowConstViaPhaseGradient.from_precision(t, eps=1e-11)"
   ]
  },
  {
   "cell_type": "markdown",
   "id": "9b31feb6",
   "metadata": {
    "cq.autogen": "ZPowConstViaPhaseGradient.graphical_signature.md"
   },
   "source": [
    "#### Graphical Signature"
   ]
  },
  {
   "cell_type": "code",
   "execution_count": 6,
   "id": "faa5dba0",
   "metadata": {
    "cq.autogen": "ZPowConstViaPhaseGradient.graphical_signature.py"
   },
   "outputs": [
    {
     "data": {
      "application/vnd.jupyter.widget-view+json": {
       "model_id": "96606e64ad9f4b29b1280fdaef45c96b",
       "version_major": 2,
       "version_minor": 0
      },
      "text/plain": [
       "HBox(children=(Output(outputs=({'output_type': 'display_data', 'data': {'text/plain': '<IPython.core.display.M…"
      ]
     },
     "metadata": {},
     "output_type": "display_data"
    }
   ],
   "source": [
    "from qualtran.drawing import show_bloqs\n",
    "show_bloqs([zpow_const_via_phase_grad, zpow_const_via_phase_grad_symb_prec, zpow_const_via_phase_grad_symb_angle],\n",
    "           ['`zpow_const_via_phase_grad`', '`zpow_const_via_phase_grad_symb_prec`', '`zpow_const_via_phase_grad_symb_angle`'])"
   ]
  },
  {
   "cell_type": "markdown",
   "id": "91234700",
   "metadata": {
    "cq.autogen": "ZPowConstViaPhaseGradient.call_graph.md"
   },
   "source": [
    "### Call Graph"
   ]
  },
  {
   "cell_type": "code",
   "execution_count": 7,
   "id": "93ec7137",
   "metadata": {
    "cq.autogen": "ZPowConstViaPhaseGradient.call_graph.py"
   },
   "outputs": [
    {
     "data": {
      "image/svg+xml": [
       "<svg xmlns=\"http://www.w3.org/2000/svg\" xmlns:xlink=\"http://www.w3.org/1999/xlink\" width=\"200pt\" height=\"131pt\" viewBox=\"0.00 0.00 200.00 131.00\">\n",
       "<g id=\"graph0\" class=\"graph\" transform=\"scale(1 1) rotate(0) translate(4 127)\">\n",
       "<title>counts</title>\n",
       "<polygon fill=\"white\" stroke=\"transparent\" points=\"-4,4 -4,-127 196,-127 196,4 -4,4\"/>\n",
       "<!-- b0 -->\n",
       "<g id=\"node1\" class=\"node\">\n",
       "<title>b0</title>\n",
       "<polygon fill=\"none\" stroke=\"black\" points=\"52,-93 52,-116 118,-116 118,-93 52,-93\"/>\n",
       "<text text-anchor=\"start\" x=\"58\" y=\"-102\" font-family=\"Times,serif\" font-size=\"10.00\">ZPow(0.375)</text>\n",
       "</g>\n",
       "<!-- b1 -->\n",
       "<g id=\"node2\" class=\"node\">\n",
       "<title>b1</title>\n",
       "<polygon fill=\"none\" stroke=\"black\" points=\"8,-6 8,-29 58,-29 58,-6 8,-6\"/>\n",
       "<text text-anchor=\"start\" x=\"14.5\" y=\"-15\" font-family=\"Times,serif\" font-size=\"10.00\">C[XorK]</text>\n",
       "</g>\n",
       "<!-- b0&#45;&gt;b1 -->\n",
       "<g id=\"edge1\" class=\"edge\">\n",
       "<title>b0-&gt;b1</title>\n",
       "<path fill=\"none\" stroke=\"black\" d=\"M74.48,-86.8C67.15,-74.82 57.24,-58.62 48.94,-45.06\"/>\n",
       "<polygon fill=\"black\" stroke=\"black\" points=\"51.71,-42.88 43.51,-36.18 45.74,-46.53 51.71,-42.88\"/>\n",
       "<text text-anchor=\"middle\" x=\"66.5\" y=\"-57.8\" font-family=\"Times,serif\" font-size=\"14.00\">2</text>\n",
       "</g>\n",
       "<!-- b2 -->\n",
       "<g id=\"node3\" class=\"node\">\n",
       "<title>b2</title>\n",
       "<polygon fill=\"none\" stroke=\"black\" points=\"92,-6 92,-29 184,-29 184,-6 92,-6\"/>\n",
       "<text text-anchor=\"start\" x=\"98.5\" y=\"-15\" font-family=\"Times,serif\" font-size=\"10.00\">AddIntoPhaseGrad</text>\n",
       "</g>\n",
       "<!-- b0&#45;&gt;b2 -->\n",
       "<g id=\"edge2\" class=\"edge\">\n",
       "<title>b0-&gt;b2</title>\n",
       "<path fill=\"none\" stroke=\"black\" d=\"M95.73,-86.8C103.27,-74.7 113.49,-58.3 122,-44.67\"/>\n",
       "<polygon fill=\"black\" stroke=\"black\" points=\"124.97,-46.51 127.29,-36.18 119.03,-42.81 124.97,-46.51\"/>\n",
       "<text text-anchor=\"middle\" x=\"117.5\" y=\"-57.8\" font-family=\"Times,serif\" font-size=\"14.00\">1</text>\n",
       "</g>\n",
       "</g>\n",
       "</svg>"
      ],
      "text/plain": [
       "<IPython.core.display.SVG object>"
      ]
     },
     "metadata": {},
     "output_type": "display_data"
    },
    {
     "data": {
      "text/markdown": [
       "#### Counts totals:\n",
       " - `AddIntoPhaseGrad`: 1\n",
       " - `C[XorK]`: 2"
      ],
      "text/plain": [
       "<IPython.core.display.Markdown object>"
      ]
     },
     "metadata": {},
     "output_type": "display_data"
    }
   ],
   "source": [
    "from qualtran.resource_counting.generalizers import ignore_split_join\n",
    "zpow_const_via_phase_grad_g, zpow_const_via_phase_grad_sigma = zpow_const_via_phase_grad.call_graph(max_depth=1, generalizer=ignore_split_join)\n",
    "show_call_graph(zpow_const_via_phase_grad_g)\n",
    "show_counts_sigma(zpow_const_via_phase_grad_sigma)"
   ]
  }
 ],
 "metadata": {
  "kernelspec": {
   "display_name": "Python 3",
   "language": "python",
   "name": "python3"
  },
  "language_info": {
   "codemirror_mode": {
    "name": "ipython",
    "version": 3
   },
   "file_extension": ".py",
   "mimetype": "text/x-python",
   "name": "python",
   "nbconvert_exporter": "python",
   "pygments_lexer": "ipython3",
   "version": "3.11.8"
  },
  "widgets": {
   "application/vnd.jupyter.widget-state+json": {
    "state": {
     "14ea8c60300843f79e9d9822a3fa5590": {
      "model_module": "@jupyter-widgets/base",
      "model_module_version": "2.0.0",
      "model_name": "LayoutModel",
      "state": {
       "_model_module": "@jupyter-widgets/base",
       "_model_module_version": "2.0.0",
       "_model_name": "LayoutModel",
       "_view_count": null,
       "_view_module": "@jupyter-widgets/base",
       "_view_module_version": "2.0.0",
       "_view_name": "LayoutView",
       "align_content": null,
       "align_items": null,
       "align_self": null,
       "border_bottom": null,
       "border_left": null,
       "border_right": null,
       "border_top": null,
       "bottom": null,
       "display": null,
       "flex": null,
       "flex_flow": null,
       "grid_area": null,
       "grid_auto_columns": null,
       "grid_auto_flow": null,
       "grid_auto_rows": null,
       "grid_column": null,
       "grid_gap": null,
       "grid_row": null,
       "grid_template_areas": null,
       "grid_template_columns": null,
       "grid_template_rows": null,
       "height": null,
       "justify_content": null,
       "justify_items": null,
       "left": null,
       "margin": null,
       "max_height": null,
       "max_width": null,
       "min_height": null,
       "min_width": null,
       "object_fit": null,
       "object_position": null,
       "order": null,
       "overflow": null,
       "padding": null,
       "right": null,
       "top": null,
       "visibility": null,
       "width": null
      }
     },
     "35cbd04e7a0442cb814263aa35ebd1fe": {
      "model_module": "@jupyter-widgets/output",
      "model_module_version": "1.0.0",
      "model_name": "OutputModel",
      "state": {
       "_dom_classes": [],
       "_model_module": "@jupyter-widgets/output",
       "_model_module_version": "1.0.0",
       "_model_name": "OutputModel",
       "_view_count": null,
       "_view_module": "@jupyter-widgets/output",
       "_view_module_version": "1.0.0",
       "_view_name": "OutputView",
       "layout": "IPY_MODEL_5df0770340d64fd38c361793b90c6d59",
       "msg_id": "",
       "outputs": [
        {
         "data": {
          "text/markdown": "`zpow_const_via_phase_grad_symb_prec`",
          "text/plain": "<IPython.core.display.Markdown object>"
         },
         "metadata": {},
         "output_type": "display_data"
        },
        {
         "data": {
          "image/svg+xml": "<svg xmlns=\"http://www.w3.org/2000/svg\" xmlns:xlink=\"http://www.w3.org/1999/xlink\" width=\"306pt\" height=\"98pt\" viewBox=\"0.00 0.00 306.00 98.00\">\n<g id=\"graph0\" class=\"graph\" transform=\"scale(1 1) rotate(0) translate(4 94)\">\n<title>my_graph</title>\n<polygon fill=\"white\" stroke=\"transparent\" points=\"-4,4 -4,-94 302,-94 302,4 -4,4\"/>\n<!-- q_G0 -->\n<g id=\"node1\" class=\"node\">\n<title>q_G0</title>\n<text text-anchor=\"middle\" x=\"39\" y=\"-68.3\" font-family=\"Times,serif\" font-size=\"14.00\">q</text>\n</g>\n<!-- ZPowConstViaPhaseGradient -->\n<g id=\"node3\" class=\"node\">\n<title>ZPowConstViaPhaseGradient</title>\n<polygon fill=\"none\" stroke=\"black\" points=\"115,-66 115,-83 183,-83 183,-66 115,-66\"/>\n<text text-anchor=\"start\" x=\"122\" y=\"-72\" font-family=\"Times,serif\" font-size=\"10.00\">ZPow(0.375)</text>\n<polygon fill=\"none\" stroke=\"black\" points=\"115,-45 115,-66 183,-66 183,-45 115,-45\"/>\n<text text-anchor=\"start\" x=\"145.5\" y=\"-51.8\" font-family=\"Times,serif\" font-size=\"14.00\">q</text>\n<polygon fill=\"none\" stroke=\"black\" points=\"115,-24 115,-45 183,-45 183,-24 115,-24\"/>\n<text text-anchor=\"start\" x=\"118\" y=\"-30.8\" font-family=\"Times,serif\" font-size=\"14.00\">phase_grad</text>\n</g>\n<!-- q_G0&#45;&gt;ZPowConstViaPhaseGradient -->\n<g id=\"edge1\" class=\"edge\">\n<title>q_G0:e-&gt;ZPowConstViaPhaseGradient:w</title>\n<path fill=\"none\" stroke=\"black\" d=\"M67,-72C88.78,-72 92.3,-56.98 112.95,-56.05\"/>\n<ellipse fill=\"black\" stroke=\"black\" cx=\"114\" cy=\"-56.02\" rx=\"1\" ry=\"1\"/>\n<text text-anchor=\"middle\" x=\"96.5\" y=\"-63\" font-family=\"Times,serif\" font-size=\"10.00\">1</text>\n</g>\n<!-- phase_grad_G4 -->\n<g id=\"node2\" class=\"node\">\n<title>phase_grad_G4</title>\n<text text-anchor=\"middle\" x=\"39\" y=\"-14.3\" font-family=\"Times,serif\" font-size=\"14.00\">phase_grad</text>\n</g>\n<!-- phase_grad_G4&#45;&gt;ZPowConstViaPhaseGradient -->\n<g id=\"edge2\" class=\"edge\">\n<title>phase_grad_G4:e-&gt;ZPowConstViaPhaseGradient:w</title>\n<path fill=\"none\" stroke=\"black\" d=\"M78,-18C95.22,-18 96.97,-32.77 112.98,-33.93\"/>\n<ellipse fill=\"black\" stroke=\"black\" cx=\"114\" cy=\"-33.96\" rx=\"1\" ry=\"1\"/>\n<text text-anchor=\"middle\" x=\"96.5\" y=\"-29\" font-family=\"Times,serif\" font-size=\"10.00\">ceiling(log2(2*pi/eps))</text>\n</g>\n<!-- q_G5 -->\n<g id=\"node4\" class=\"node\">\n<title>q_G5</title>\n<text text-anchor=\"middle\" x=\"259\" y=\"-68.3\" font-family=\"Times,serif\" font-size=\"14.00\">q</text>\n</g>\n<!-- ZPowConstViaPhaseGradient&#45;&gt;q_G5 -->\n<g id=\"edge3\" class=\"edge\">\n<title>ZPowConstViaPhaseGradient:e-&gt;q_G5:w</title>\n<path fill=\"none\" stroke=\"black\" d=\"M183,-56C204.78,-56 208.3,-71.02 228.95,-71.95\"/>\n<ellipse fill=\"black\" stroke=\"black\" cx=\"230\" cy=\"-71.98\" rx=\"1\" ry=\"1\"/>\n<text text-anchor=\"middle\" x=\"201.5\" y=\"-63\" font-family=\"Times,serif\" font-size=\"10.00\">1</text>\n</g>\n<!-- phase_grad_G3 -->\n<g id=\"node5\" class=\"node\">\n<title>phase_grad_G3</title>\n<text text-anchor=\"middle\" x=\"259\" y=\"-14.3\" font-family=\"Times,serif\" font-size=\"14.00\">phase_grad</text>\n</g>\n<!-- ZPowConstViaPhaseGradient&#45;&gt;phase_grad_G3 -->\n<g id=\"edge4\" class=\"edge\">\n<title>ZPowConstViaPhaseGradient:e-&gt;phase_grad_G3:w</title>\n<path fill=\"none\" stroke=\"black\" d=\"M183,-34C200.22,-34 201.97,-19.23 217.98,-18.07\"/>\n<ellipse fill=\"black\" stroke=\"black\" cx=\"219\" cy=\"-18.04\" rx=\"1\" ry=\"1\"/>\n<text text-anchor=\"middle\" x=\"201.5\" y=\"-29\" font-family=\"Times,serif\" font-size=\"10.00\">ceiling(log2(2*pi/eps))</text>\n</g>\n</g>\n</svg>",
          "text/plain": "<IPython.core.display.SVG object>"
         },
         "metadata": {},
         "output_type": "display_data"
        }
       ],
       "tabbable": null,
       "tooltip": null
      }
     },
     "4c4c0f72792140749639944b49ae8ca2": {
      "model_module": "@jupyter-widgets/output",
      "model_module_version": "1.0.0",
      "model_name": "OutputModel",
      "state": {
       "_dom_classes": [],
       "_model_module": "@jupyter-widgets/output",
       "_model_module_version": "1.0.0",
       "_model_name": "OutputModel",
       "_view_count": null,
       "_view_module": "@jupyter-widgets/output",
       "_view_module_version": "1.0.0",
       "_view_name": "OutputView",
       "layout": "IPY_MODEL_b0001df31e1c47c8bd0ea84bda0e8ed5",
       "msg_id": "",
       "outputs": [
        {
         "data": {
          "text/markdown": "`zpow_const_via_phase_grad_symb_angle`",
          "text/plain": "<IPython.core.display.Markdown object>"
         },
         "metadata": {},
         "output_type": "display_data"
        },
        {
         "data": {
          "image/svg+xml": "<svg xmlns=\"http://www.w3.org/2000/svg\" xmlns:xlink=\"http://www.w3.org/1999/xlink\" width=\"306pt\" height=\"98pt\" viewBox=\"0.00 0.00 306.00 98.00\">\n<g id=\"graph0\" class=\"graph\" transform=\"scale(1 1) rotate(0) translate(4 94)\">\n<title>my_graph</title>\n<polygon fill=\"white\" stroke=\"transparent\" points=\"-4,4 -4,-94 302,-94 302,4 -4,4\"/>\n<!-- q_G1 -->\n<g id=\"node1\" class=\"node\">\n<title>q_G1</title>\n<text text-anchor=\"middle\" x=\"39\" y=\"-68.3\" font-family=\"Times,serif\" font-size=\"14.00\">q</text>\n</g>\n<!-- ZPowConstViaPhaseGradient -->\n<g id=\"node3\" class=\"node\">\n<title>ZPowConstViaPhaseGradient</title>\n<polygon fill=\"none\" stroke=\"black\" points=\"115,-66 115,-83 183,-83 183,-66 115,-66\"/>\n<text text-anchor=\"start\" x=\"132\" y=\"-72\" font-family=\"Times,serif\" font-size=\"10.00\">ZPow(t)</text>\n<polygon fill=\"none\" stroke=\"black\" points=\"115,-45 115,-66 183,-66 183,-45 115,-45\"/>\n<text text-anchor=\"start\" x=\"145.5\" y=\"-51.8\" font-family=\"Times,serif\" font-size=\"14.00\">q</text>\n<polygon fill=\"none\" stroke=\"black\" points=\"115,-24 115,-45 183,-45 183,-24 115,-24\"/>\n<text text-anchor=\"start\" x=\"118\" y=\"-30.8\" font-family=\"Times,serif\" font-size=\"14.00\">phase_grad</text>\n</g>\n<!-- q_G1&#45;&gt;ZPowConstViaPhaseGradient -->\n<g id=\"edge1\" class=\"edge\">\n<title>q_G1:e-&gt;ZPowConstViaPhaseGradient:w</title>\n<path fill=\"none\" stroke=\"black\" d=\"M67,-72C88.78,-72 92.3,-56.98 112.95,-56.05\"/>\n<ellipse fill=\"black\" stroke=\"black\" cx=\"114\" cy=\"-56.02\" rx=\"1\" ry=\"1\"/>\n<text text-anchor=\"middle\" x=\"96.5\" y=\"-63\" font-family=\"Times,serif\" font-size=\"10.00\">1</text>\n</g>\n<!-- phase_grad_G3 -->\n<g id=\"node2\" class=\"node\">\n<title>phase_grad_G3</title>\n<text text-anchor=\"middle\" x=\"39\" y=\"-14.3\" font-family=\"Times,serif\" font-size=\"14.00\">phase_grad</text>\n</g>\n<!-- phase_grad_G3&#45;&gt;ZPowConstViaPhaseGradient -->\n<g id=\"edge2\" class=\"edge\">\n<title>phase_grad_G3:e-&gt;ZPowConstViaPhaseGradient:w</title>\n<path fill=\"none\" stroke=\"black\" d=\"M78,-18C95.22,-18 96.97,-32.77 112.98,-33.93\"/>\n<ellipse fill=\"black\" stroke=\"black\" cx=\"114\" cy=\"-33.96\" rx=\"1\" ry=\"1\"/>\n<text text-anchor=\"middle\" x=\"96.5\" y=\"-29\" font-family=\"Times,serif\" font-size=\"10.00\">40</text>\n</g>\n<!-- q_G4 -->\n<g id=\"node4\" class=\"node\">\n<title>q_G4</title>\n<text text-anchor=\"middle\" x=\"259\" y=\"-68.3\" font-family=\"Times,serif\" font-size=\"14.00\">q</text>\n</g>\n<!-- ZPowConstViaPhaseGradient&#45;&gt;q_G4 -->\n<g id=\"edge3\" class=\"edge\">\n<title>ZPowConstViaPhaseGradient:e-&gt;q_G4:w</title>\n<path fill=\"none\" stroke=\"black\" d=\"M183,-56C204.78,-56 208.3,-71.02 228.95,-71.95\"/>\n<ellipse fill=\"black\" stroke=\"black\" cx=\"230\" cy=\"-71.98\" rx=\"1\" ry=\"1\"/>\n<text text-anchor=\"middle\" x=\"201.5\" y=\"-63\" font-family=\"Times,serif\" font-size=\"10.00\">1</text>\n</g>\n<!-- phase_grad_G5 -->\n<g id=\"node5\" class=\"node\">\n<title>phase_grad_G5</title>\n<text text-anchor=\"middle\" x=\"259\" y=\"-14.3\" font-family=\"Times,serif\" font-size=\"14.00\">phase_grad</text>\n</g>\n<!-- ZPowConstViaPhaseGradient&#45;&gt;phase_grad_G5 -->\n<g id=\"edge4\" class=\"edge\">\n<title>ZPowConstViaPhaseGradient:e-&gt;phase_grad_G5:w</title>\n<path fill=\"none\" stroke=\"black\" d=\"M183,-34C200.22,-34 201.97,-19.23 217.98,-18.07\"/>\n<ellipse fill=\"black\" stroke=\"black\" cx=\"219\" cy=\"-18.04\" rx=\"1\" ry=\"1\"/>\n<text text-anchor=\"middle\" x=\"201.5\" y=\"-29\" font-family=\"Times,serif\" font-size=\"10.00\">40</text>\n</g>\n</g>\n</svg>",
          "text/plain": "<IPython.core.display.SVG object>"
         },
         "metadata": {},
         "output_type": "display_data"
        }
       ],
       "tabbable": null,
       "tooltip": null
      }
     },
     "5df0770340d64fd38c361793b90c6d59": {
      "model_module": "@jupyter-widgets/base",
      "model_module_version": "2.0.0",
      "model_name": "LayoutModel",
      "state": {
       "_model_module": "@jupyter-widgets/base",
       "_model_module_version": "2.0.0",
       "_model_name": "LayoutModel",
       "_view_count": null,
       "_view_module": "@jupyter-widgets/base",
       "_view_module_version": "2.0.0",
       "_view_name": "LayoutView",
       "align_content": null,
       "align_items": null,
       "align_self": null,
       "border_bottom": null,
       "border_left": null,
       "border_right": null,
       "border_top": null,
       "bottom": null,
       "display": null,
       "flex": null,
       "flex_flow": null,
       "grid_area": null,
       "grid_auto_columns": null,
       "grid_auto_flow": null,
       "grid_auto_rows": null,
       "grid_column": null,
       "grid_gap": null,
       "grid_row": null,
       "grid_template_areas": null,
       "grid_template_columns": null,
       "grid_template_rows": null,
       "height": null,
       "justify_content": null,
       "justify_items": null,
       "left": null,
       "margin": null,
       "max_height": null,
       "max_width": null,
       "min_height": null,
       "min_width": null,
       "object_fit": null,
       "object_position": null,
       "order": null,
       "overflow": null,
       "padding": null,
       "right": null,
       "top": null,
       "visibility": null,
       "width": null
      }
     },
     "96606e64ad9f4b29b1280fdaef45c96b": {
      "model_module": "@jupyter-widgets/controls",
      "model_module_version": "2.0.0",
      "model_name": "HBoxModel",
      "state": {
       "_dom_classes": [],
       "_model_module": "@jupyter-widgets/controls",
       "_model_module_version": "2.0.0",
       "_model_name": "HBoxModel",
       "_view_count": null,
       "_view_module": "@jupyter-widgets/controls",
       "_view_module_version": "2.0.0",
       "_view_name": "HBoxView",
       "box_style": "",
       "children": [
        "IPY_MODEL_e116b6a0f60a47d48e1b2c54297d1c99",
        "IPY_MODEL_35cbd04e7a0442cb814263aa35ebd1fe",
        "IPY_MODEL_4c4c0f72792140749639944b49ae8ca2"
       ],
       "layout": "IPY_MODEL_f9df45e2ea934249971e2974bff4d5e5",
       "tabbable": null,
       "tooltip": null
      }
     },
     "b0001df31e1c47c8bd0ea84bda0e8ed5": {
      "model_module": "@jupyter-widgets/base",
      "model_module_version": "2.0.0",
      "model_name": "LayoutModel",
      "state": {
       "_model_module": "@jupyter-widgets/base",
       "_model_module_version": "2.0.0",
       "_model_name": "LayoutModel",
       "_view_count": null,
       "_view_module": "@jupyter-widgets/base",
       "_view_module_version": "2.0.0",
       "_view_name": "LayoutView",
       "align_content": null,
       "align_items": null,
       "align_self": null,
       "border_bottom": null,
       "border_left": null,
       "border_right": null,
       "border_top": null,
       "bottom": null,
       "display": null,
       "flex": null,
       "flex_flow": null,
       "grid_area": null,
       "grid_auto_columns": null,
       "grid_auto_flow": null,
       "grid_auto_rows": null,
       "grid_column": null,
       "grid_gap": null,
       "grid_row": null,
       "grid_template_areas": null,
       "grid_template_columns": null,
       "grid_template_rows": null,
       "height": null,
       "justify_content": null,
       "justify_items": null,
       "left": null,
       "margin": null,
       "max_height": null,
       "max_width": null,
       "min_height": null,
       "min_width": null,
       "object_fit": null,
       "object_position": null,
       "order": null,
       "overflow": null,
       "padding": null,
       "right": null,
       "top": null,
       "visibility": null,
       "width": null
      }
     },
     "e116b6a0f60a47d48e1b2c54297d1c99": {
      "model_module": "@jupyter-widgets/output",
      "model_module_version": "1.0.0",
      "model_name": "OutputModel",
      "state": {
       "_dom_classes": [],
       "_model_module": "@jupyter-widgets/output",
       "_model_module_version": "1.0.0",
       "_model_name": "OutputModel",
       "_view_count": null,
       "_view_module": "@jupyter-widgets/output",
       "_view_module_version": "1.0.0",
       "_view_name": "OutputView",
       "layout": "IPY_MODEL_14ea8c60300843f79e9d9822a3fa5590",
       "msg_id": "",
       "outputs": [
        {
         "data": {
          "text/markdown": "`zpow_const_via_phase_grad`",
          "text/plain": "<IPython.core.display.Markdown object>"
         },
         "metadata": {},
         "output_type": "display_data"
        },
        {
         "data": {
          "image/svg+xml": "<svg xmlns=\"http://www.w3.org/2000/svg\" xmlns:xlink=\"http://www.w3.org/1999/xlink\" width=\"306pt\" height=\"98pt\" viewBox=\"0.00 0.00 306.00 98.00\">\n<g id=\"graph0\" class=\"graph\" transform=\"scale(1 1) rotate(0) translate(4 94)\">\n<title>my_graph</title>\n<polygon fill=\"white\" stroke=\"transparent\" points=\"-4,4 -4,-94 302,-94 302,4 -4,4\"/>\n<!-- q_G0 -->\n<g id=\"node1\" class=\"node\">\n<title>q_G0</title>\n<text text-anchor=\"middle\" x=\"39\" y=\"-68.3\" font-family=\"Times,serif\" font-size=\"14.00\">q</text>\n</g>\n<!-- ZPowConstViaPhaseGradient -->\n<g id=\"node3\" class=\"node\">\n<title>ZPowConstViaPhaseGradient</title>\n<polygon fill=\"none\" stroke=\"black\" points=\"115,-66 115,-83 183,-83 183,-66 115,-66\"/>\n<text text-anchor=\"start\" x=\"122\" y=\"-72\" font-family=\"Times,serif\" font-size=\"10.00\">ZPow(0.375)</text>\n<polygon fill=\"none\" stroke=\"black\" points=\"115,-45 115,-66 183,-66 183,-45 115,-45\"/>\n<text text-anchor=\"start\" x=\"145.5\" y=\"-51.8\" font-family=\"Times,serif\" font-size=\"14.00\">q</text>\n<polygon fill=\"none\" stroke=\"black\" points=\"115,-24 115,-45 183,-45 183,-24 115,-24\"/>\n<text text-anchor=\"start\" x=\"118\" y=\"-30.8\" font-family=\"Times,serif\" font-size=\"14.00\">phase_grad</text>\n</g>\n<!-- q_G0&#45;&gt;ZPowConstViaPhaseGradient -->\n<g id=\"edge1\" class=\"edge\">\n<title>q_G0:e-&gt;ZPowConstViaPhaseGradient:w</title>\n<path fill=\"none\" stroke=\"black\" d=\"M67,-72C88.78,-72 92.3,-56.98 112.95,-56.05\"/>\n<ellipse fill=\"black\" stroke=\"black\" cx=\"114\" cy=\"-56.02\" rx=\"1\" ry=\"1\"/>\n<text text-anchor=\"middle\" x=\"96.5\" y=\"-63\" font-family=\"Times,serif\" font-size=\"10.00\">1</text>\n</g>\n<!-- phase_grad_G2 -->\n<g id=\"node2\" class=\"node\">\n<title>phase_grad_G2</title>\n<text text-anchor=\"middle\" x=\"39\" y=\"-14.3\" font-family=\"Times,serif\" font-size=\"14.00\">phase_grad</text>\n</g>\n<!-- phase_grad_G2&#45;&gt;ZPowConstViaPhaseGradient -->\n<g id=\"edge2\" class=\"edge\">\n<title>phase_grad_G2:e-&gt;ZPowConstViaPhaseGradient:w</title>\n<path fill=\"none\" stroke=\"black\" d=\"M78,-18C95.22,-18 96.97,-32.77 112.98,-33.93\"/>\n<ellipse fill=\"black\" stroke=\"black\" cx=\"114\" cy=\"-33.96\" rx=\"1\" ry=\"1\"/>\n<text text-anchor=\"middle\" x=\"96.5\" y=\"-29\" font-family=\"Times,serif\" font-size=\"10.00\">40</text>\n</g>\n<!-- q_G4 -->\n<g id=\"node4\" class=\"node\">\n<title>q_G4</title>\n<text text-anchor=\"middle\" x=\"259\" y=\"-68.3\" font-family=\"Times,serif\" font-size=\"14.00\">q</text>\n</g>\n<!-- ZPowConstViaPhaseGradient&#45;&gt;q_G4 -->\n<g id=\"edge3\" class=\"edge\">\n<title>ZPowConstViaPhaseGradient:e-&gt;q_G4:w</title>\n<path fill=\"none\" stroke=\"black\" d=\"M183,-56C204.78,-56 208.3,-71.02 228.95,-71.95\"/>\n<ellipse fill=\"black\" stroke=\"black\" cx=\"230\" cy=\"-71.98\" rx=\"1\" ry=\"1\"/>\n<text text-anchor=\"middle\" x=\"201.5\" y=\"-63\" font-family=\"Times,serif\" font-size=\"10.00\">1</text>\n</g>\n<!-- phase_grad_G5 -->\n<g id=\"node5\" class=\"node\">\n<title>phase_grad_G5</title>\n<text text-anchor=\"middle\" x=\"259\" y=\"-14.3\" font-family=\"Times,serif\" font-size=\"14.00\">phase_grad</text>\n</g>\n<!-- ZPowConstViaPhaseGradient&#45;&gt;phase_grad_G5 -->\n<g id=\"edge4\" class=\"edge\">\n<title>ZPowConstViaPhaseGradient:e-&gt;phase_grad_G5:w</title>\n<path fill=\"none\" stroke=\"black\" d=\"M183,-34C200.22,-34 201.97,-19.23 217.98,-18.07\"/>\n<ellipse fill=\"black\" stroke=\"black\" cx=\"219\" cy=\"-18.04\" rx=\"1\" ry=\"1\"/>\n<text text-anchor=\"middle\" x=\"201.5\" y=\"-29\" font-family=\"Times,serif\" font-size=\"10.00\">40</text>\n</g>\n</g>\n</svg>",
          "text/plain": "<IPython.core.display.SVG object>"
         },
         "metadata": {},
         "output_type": "display_data"
        }
       ],
       "tabbable": null,
       "tooltip": null
      }
     },
     "f9df45e2ea934249971e2974bff4d5e5": {
      "model_module": "@jupyter-widgets/base",
      "model_module_version": "2.0.0",
      "model_name": "LayoutModel",
      "state": {
       "_model_module": "@jupyter-widgets/base",
       "_model_module_version": "2.0.0",
       "_model_name": "LayoutModel",
       "_view_count": null,
       "_view_module": "@jupyter-widgets/base",
       "_view_module_version": "2.0.0",
       "_view_name": "LayoutView",
       "align_content": null,
       "align_items": null,
       "align_self": null,
       "border_bottom": null,
       "border_left": null,
       "border_right": null,
       "border_top": null,
       "bottom": null,
       "display": null,
       "flex": null,
       "flex_flow": null,
       "grid_area": null,
       "grid_auto_columns": null,
       "grid_auto_flow": null,
       "grid_auto_rows": null,
       "grid_column": null,
       "grid_gap": null,
       "grid_row": null,
       "grid_template_areas": null,
       "grid_template_columns": null,
       "grid_template_rows": null,
       "height": null,
       "justify_content": null,
       "justify_items": null,
       "left": null,
       "margin": null,
       "max_height": null,
       "max_width": null,
       "min_height": null,
       "min_width": null,
       "object_fit": null,
       "object_position": null,
       "order": null,
       "overflow": null,
       "padding": null,
       "right": null,
       "top": null,
       "visibility": null,
       "width": null
      }
     }
    },
    "version_major": 2,
    "version_minor": 0
   }
  }
 },
 "nbformat": 4,
 "nbformat_minor": 5
}
