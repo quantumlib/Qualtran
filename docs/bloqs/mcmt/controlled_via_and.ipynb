{
 "cells": [
  {
   "cell_type": "markdown",
   "id": "fa539e78",
   "metadata": {
    "cq.autogen": "title_cell"
   },
   "source": [
    "# Multi control bloq via single control bloq and `And` ladder"
   ]
  },
  {
   "cell_type": "code",
   "execution_count": 1,
   "id": "bcb7aec6",
   "metadata": {
    "cq.autogen": "top_imports"
   },
   "outputs": [],
   "source": [
    "from qualtran import Bloq, CompositeBloq, BloqBuilder, Signature, Register\n",
    "from qualtran import QBit, QInt, QUInt, QAny\n",
    "from qualtran.drawing import show_bloq, show_call_graph, show_counts_sigma\n",
    "from typing import *\n",
    "import numpy as np\n",
    "import sympy\n",
    "import cirq"
   ]
  },
  {
   "cell_type": "markdown",
   "id": "0653bdfc",
   "metadata": {
    "cq.autogen": "ControlledViaAnd.bloq_doc.md"
   },
   "source": [
    "## `ControlledViaAnd`\n",
    "Reduces a generic controlled bloq to a singly-controlled bloq using an And ladder.\n",
    "\n",
    "Implements a generic controlled version of the subbloq, by first reducing the\n",
    "arbitrary control to a single qubit, and then using a single-qubit-controlled\n",
    "variant of the subbloq.\n",
    "\n",
    "For signature, see :class:`Controlled`.\n",
    "\n",
    "#### Parameters\n",
    " - `subbloq`: The bloq we are controlling.\n",
    " - `ctrl_spec`: The specification for how to control the bloq.\n"
   ]
  },
  {
   "cell_type": "code",
   "execution_count": 2,
   "id": "cdeee9e0",
   "metadata": {
    "cq.autogen": "ControlledViaAnd.bloq_doc.py"
   },
   "outputs": [],
   "source": [
    "from qualtran.bloqs.mcmt import ControlledViaAnd"
   ]
  },
  {
   "cell_type": "markdown",
   "id": "63037b5b",
   "metadata": {
    "cq.autogen": "ControlledViaAnd.example_instances.md"
   },
   "source": [
    "### Example Instances"
   ]
  },
  {
   "cell_type": "code",
   "execution_count": 3,
   "id": "789e7f88",
   "metadata": {
    "cq.autogen": "ControlledViaAnd.controlled_via_and_ints"
   },
   "outputs": [],
   "source": [
    "from qualtran import CtrlSpec, QInt, QUInt\n",
    "from qualtran.bloqs.basic_gates import Hadamard\n",
    "\n",
    "controlled_via_and_ints = ControlledViaAnd(\n",
    "    Hadamard(),\n",
    "    CtrlSpec(\n",
    "        qdtypes=(QUInt(4), QInt(4)), cvs=(np.array([0, 1, 2, 3]), np.array([0, 1, -1, -2]))\n",
    "    ),\n",
    ")"
   ]
  },
  {
   "cell_type": "code",
   "execution_count": 4,
   "id": "7140523f",
   "metadata": {
    "cq.autogen": "ControlledViaAnd.controlled_via_and_qbits"
   },
   "outputs": [],
   "source": [
    "from qualtran.bloqs.basic_gates import Hadamard\n",
    "\n",
    "controlled_via_and_qbits = ControlledViaAnd(Hadamard(), CtrlSpec(cvs=(np.array([0, 1, 1, 0]),)))"
   ]
  },
  {
   "cell_type": "markdown",
   "id": "27d4d6e1",
   "metadata": {
    "cq.autogen": "ControlledViaAnd.graphical_signature.md"
   },
   "source": [
    "#### Graphical Signature"
   ]
  },
  {
   "cell_type": "code",
   "execution_count": 5,
   "id": "45a0473b",
   "metadata": {
    "cq.autogen": "ControlledViaAnd.graphical_signature.py"
   },
   "outputs": [
    {
     "data": {
      "application/vnd.jupyter.widget-view+json": {
       "model_id": "a158521c83b045daa49fad93cd700200",
       "version_major": 2,
       "version_minor": 0
      },
      "text/plain": [
       "HBox(children=(Output(outputs=({'output_type': 'display_data', 'data': {'text/plain': '<IPython.core.display.M…"
      ]
     },
     "metadata": {},
     "output_type": "display_data"
    }
   ],
   "source": [
    "from qualtran.drawing import show_bloqs\n",
    "show_bloqs([controlled_via_and_ints, controlled_via_and_qbits],\n",
    "           ['`controlled_via_and_ints`', '`controlled_via_and_qbits`'])"
   ]
  },
  {
   "cell_type": "markdown",
   "id": "b0301e73",
   "metadata": {
    "cq.autogen": "ControlledViaAnd.call_graph.md"
   },
   "source": [
    "### Call Graph"
   ]
  },
  {
   "cell_type": "code",
   "execution_count": 6,
   "id": "9af47394",
   "metadata": {
    "cq.autogen": "ControlledViaAnd.call_graph.py"
   },
   "outputs": [
    {
     "data": {
      "image/svg+xml": [
       "<svg xmlns=\"http://www.w3.org/2000/svg\" xmlns:xlink=\"http://www.w3.org/1999/xlink\" width=\"292pt\" height=\"131pt\" viewBox=\"0.00 0.00 292.00 131.00\">\n",
       "<g id=\"graph0\" class=\"graph\" transform=\"scale(1 1) rotate(0) translate(4 127)\">\n",
       "<title>counts</title>\n",
       "<polygon fill=\"white\" stroke=\"transparent\" points=\"-4,4 -4,-127 288,-127 288,4 -4,4\"/>\n",
       "<!-- b0 -->\n",
       "<g id=\"node1\" class=\"node\">\n",
       "<title>b0</title>\n",
       "<polygon fill=\"none\" stroke=\"black\" points=\"112,-93 112,-116 162,-116 162,-93 112,-93\"/>\n",
       "<text text-anchor=\"start\" x=\"118.5\" y=\"-102\" font-family=\"Times,serif\" font-size=\"10.00\">C[32][H]</text>\n",
       "</g>\n",
       "<!-- b1 -->\n",
       "<g id=\"node2\" class=\"node\">\n",
       "<title>b1</title>\n",
       "<polygon fill=\"none\" stroke=\"black\" points=\"8,-6 8,-29 70,-29 70,-6 8,-6\"/>\n",
       "<text text-anchor=\"start\" x=\"14.5\" y=\"-15\" font-family=\"Times,serif\" font-size=\"10.00\">CHadamard</text>\n",
       "</g>\n",
       "<!-- b0&#45;&gt;b1 -->\n",
       "<g id=\"edge1\" class=\"edge\">\n",
       "<title>b0-&gt;b1</title>\n",
       "<path fill=\"none\" stroke=\"black\" d=\"M117.17,-86.8C102.56,-74.13 82.5,-56.73 66.37,-42.74\"/>\n",
       "<polygon fill=\"black\" stroke=\"black\" points=\"68.65,-40.08 58.8,-36.18 64.06,-45.37 68.65,-40.08\"/>\n",
       "<text text-anchor=\"middle\" x=\"97.5\" y=\"-57.8\" font-family=\"Times,serif\" font-size=\"14.00\">1</text>\n",
       "</g>\n",
       "<!-- b2 -->\n",
       "<g id=\"node3\" class=\"node\">\n",
       "<title>b2</title>\n",
       "<polygon fill=\"none\" stroke=\"black\" points=\"104,-6 104,-29 170,-29 170,-6 104,-6\"/>\n",
       "<text text-anchor=\"start\" x=\"110\" y=\"-15\" font-family=\"Times,serif\" font-size=\"10.00\">CtrlSpecAnd</text>\n",
       "</g>\n",
       "<!-- b0&#45;&gt;b2 -->\n",
       "<g id=\"edge2\" class=\"edge\">\n",
       "<title>b0-&gt;b2</title>\n",
       "<path fill=\"none\" stroke=\"black\" d=\"M137,-86.8C137,-75.16 137,-59.55 137,-46.24\"/>\n",
       "<polygon fill=\"black\" stroke=\"black\" points=\"140.5,-46.18 137,-36.18 133.5,-46.18 140.5,-46.18\"/>\n",
       "<text text-anchor=\"middle\" x=\"140.5\" y=\"-57.8\" font-family=\"Times,serif\" font-size=\"14.00\">1</text>\n",
       "</g>\n",
       "<!-- b3 -->\n",
       "<g id=\"node4\" class=\"node\">\n",
       "<title>b3</title>\n",
       "<polygon fill=\"none\" stroke=\"black\" points=\"204,-6 204,-29 276,-29 276,-6 204,-6\"/>\n",
       "<text text-anchor=\"start\" x=\"210.5\" y=\"-15\" font-family=\"Times,serif\" font-size=\"10.00\">CtrlSpecAnd†</text>\n",
       "</g>\n",
       "<!-- b0&#45;&gt;b3 -->\n",
       "<g id=\"edge3\" class=\"edge\">\n",
       "<title>b0-&gt;b3</title>\n",
       "<path fill=\"none\" stroke=\"black\" d=\"M157.84,-86.8C173.2,-74.13 194.28,-56.73 211.24,-42.74\"/>\n",
       "<polygon fill=\"black\" stroke=\"black\" points=\"213.7,-45.24 219.19,-36.18 209.25,-39.84 213.7,-45.24\"/>\n",
       "<text text-anchor=\"middle\" x=\"197.5\" y=\"-57.8\" font-family=\"Times,serif\" font-size=\"14.00\">1</text>\n",
       "</g>\n",
       "</g>\n",
       "</svg>"
      ],
      "text/plain": [
       "<IPython.core.display.SVG object>"
      ]
     },
     "metadata": {},
     "output_type": "display_data"
    },
    {
     "data": {
      "text/markdown": [
       "#### Counts totals:\n",
       " - `CHadamard`: 1\n",
       " - `CtrlSpecAnd`: 1\n",
       " - `CtrlSpecAnd†`: 1"
      ],
      "text/plain": [
       "<IPython.core.display.Markdown object>"
      ]
     },
     "metadata": {},
     "output_type": "display_data"
    }
   ],
   "source": [
    "from qualtran.resource_counting.generalizers import ignore_split_join\n",
    "controlled_via_and_ints_g, controlled_via_and_ints_sigma = controlled_via_and_ints.call_graph(max_depth=1, generalizer=ignore_split_join)\n",
    "show_call_graph(controlled_via_and_ints_g)\n",
    "show_counts_sigma(controlled_via_and_ints_sigma)"
   ]
  },
  {
   "cell_type": "markdown",
   "id": "11",
   "metadata": {},
   "source": [
    "## Nested Controls\n",
    "Calling `controlled` on a `ControlledViaAnd` returns another `ControlledViaAnd` by combining the existing and new controls into a single control specification."
   ]
  },
  {
   "cell_type": "code",
   "execution_count": 7,
   "id": "12",
   "metadata": {},
   "outputs": [
    {
     "data": {
      "application/vnd.jupyter.widget-view+json": {
       "model_id": "d3aa65386d1e4368af9128bda4a25de7",
       "version_major": 2,
       "version_minor": 0
      },
      "text/plain": [
       "HBox(children=(Output(outputs=({'output_type': 'display_data', 'data': {'text/plain': '<IPython.core.display.S…"
      ]
     },
     "metadata": {},
     "output_type": "display_data"
    }
   ],
   "source": [
    "nested_ctrl_bloq = controlled_via_and_qbits.controlled(CtrlSpec(cvs=[1, 1]))\n",
    "show_bloqs([nested_ctrl_bloq])"
   ]
  },
  {
   "cell_type": "code",
   "execution_count": 8,
   "id": "13",
   "metadata": {},
   "outputs": [
    {
     "data": {
      "image/svg+xml": [
       "<svg xmlns=\"http://www.w3.org/2000/svg\" xmlns:xlink=\"http://www.w3.org/1999/xlink\" width=\"354pt\" height=\"607pt\" viewBox=\"0.00 0.00 353.50 607.00\">\n",
       "<g id=\"graph0\" class=\"graph\" transform=\"scale(1 1) rotate(0) translate(4 603)\">\n",
       "<title>counts</title>\n",
       "<polygon fill=\"white\" stroke=\"transparent\" points=\"-4,4 -4,-603 349.5,-603 349.5,4 -4,4\"/>\n",
       "<!-- b0 -->\n",
       "<g id=\"node1\" class=\"node\">\n",
       "<title>b0</title>\n",
       "<polygon fill=\"none\" stroke=\"black\" points=\"101,-572 101,-595 195,-595 195,-572 101,-572\"/>\n",
       "<text text-anchor=\"start\" x=\"132\" y=\"-581\" font-family=\"Times,serif\" font-size=\"10.00\">C[6][H]</text>\n",
       "<polygon fill=\"none\" stroke=\"black\" points=\"101,-549 101,-572 172,-572 172,-549 101,-549\"/>\n",
       "<text text-anchor=\"start\" x=\"122.5\" y=\"-558\" font-family=\"Times,serif\" font-size=\"10.00\">Qubits</text>\n",
       "<polygon fill=\"none\" stroke=\"black\" points=\"172,-549 172,-572 195,-572 195,-549 172,-549\"/>\n",
       "<text text-anchor=\"start\" x=\"178\" y=\"-558\" font-family=\"Times,serif\" font-size=\"10.00\">12</text>\n",
       "<polygon fill=\"none\" stroke=\"black\" points=\"101,-526 101,-549 172,-549 172,-526 101,-526\"/>\n",
       "<text text-anchor=\"start\" x=\"125.5\" y=\"-535\" font-family=\"Times,serif\" font-size=\"10.00\">Ands</text>\n",
       "<polygon fill=\"none\" stroke=\"black\" points=\"172,-526 172,-549 195,-549 195,-526 172,-526\"/>\n",
       "<text text-anchor=\"start\" x=\"180.5\" y=\"-535\" font-family=\"Times,serif\" font-size=\"10.00\">5</text>\n",
       "<polygon fill=\"none\" stroke=\"black\" points=\"101,-503 101,-526 172,-526 172,-503 101,-503\"/>\n",
       "<text text-anchor=\"start\" x=\"118\" y=\"-512\" font-family=\"Times,serif\" font-size=\"10.00\">Cliffords</text>\n",
       "<polygon fill=\"none\" stroke=\"black\" points=\"172,-503 172,-526 195,-526 195,-503 172,-503\"/>\n",
       "<text text-anchor=\"start\" x=\"178\" y=\"-512\" font-family=\"Times,serif\" font-size=\"10.00\">17</text>\n",
       "<polygon fill=\"none\" stroke=\"black\" points=\"101,-480 101,-503 172,-503 172,-480 101,-480\"/>\n",
       "<text text-anchor=\"start\" x=\"116.5\" y=\"-489\" font-family=\"Times,serif\" font-size=\"10.00\">Rotations</text>\n",
       "<polygon fill=\"none\" stroke=\"black\" points=\"172,-480 172,-503 195,-503 195,-480 172,-480\"/>\n",
       "<text text-anchor=\"start\" x=\"180.5\" y=\"-489\" font-family=\"Times,serif\" font-size=\"10.00\">2</text>\n",
       "<polygon fill=\"none\" stroke=\"black\" points=\"101,-457 101,-480 172,-480 172,-457 101,-457\"/>\n",
       "<text text-anchor=\"start\" x=\"107\" y=\"-466\" font-family=\"Times,serif\" font-size=\"10.00\">Measurements</text>\n",
       "<polygon fill=\"none\" stroke=\"black\" points=\"172,-457 172,-480 195,-480 195,-457 172,-457\"/>\n",
       "<text text-anchor=\"start\" x=\"180.5\" y=\"-466\" font-family=\"Times,serif\" font-size=\"10.00\">5</text>\n",
       "</g>\n",
       "<!-- b1 -->\n",
       "<g id=\"node2\" class=\"node\">\n",
       "<title>b1</title>\n",
       "<polygon fill=\"none\" stroke=\"black\" points=\"8,-375 8,-398 78,-398 78,-375 8,-375\"/>\n",
       "<text text-anchor=\"start\" x=\"18.5\" y=\"-384\" font-family=\"Times,serif\" font-size=\"10.00\">CHadamard</text>\n",
       "<polygon fill=\"none\" stroke=\"black\" points=\"8,-352 8,-375 60,-375 60,-352 8,-352\"/>\n",
       "<text text-anchor=\"start\" x=\"20\" y=\"-361\" font-family=\"Times,serif\" font-size=\"10.00\">Qubits</text>\n",
       "<polygon fill=\"none\" stroke=\"black\" points=\"60,-352 60,-375 78,-375 78,-352 60,-352\"/>\n",
       "<text text-anchor=\"start\" x=\"66\" y=\"-361\" font-family=\"Times,serif\" font-size=\"10.00\">2</text>\n",
       "<polygon fill=\"none\" stroke=\"black\" points=\"8,-329 8,-352 60,-352 60,-329 8,-329\"/>\n",
       "<text text-anchor=\"start\" x=\"15.5\" y=\"-338\" font-family=\"Times,serif\" font-size=\"10.00\">Cliffords</text>\n",
       "<polygon fill=\"none\" stroke=\"black\" points=\"60,-329 60,-352 78,-352 78,-329 60,-329\"/>\n",
       "<text text-anchor=\"start\" x=\"66\" y=\"-338\" font-family=\"Times,serif\" font-size=\"10.00\">4</text>\n",
       "<polygon fill=\"none\" stroke=\"black\" points=\"8,-306 8,-329 60,-329 60,-306 8,-306\"/>\n",
       "<text text-anchor=\"start\" x=\"14\" y=\"-315\" font-family=\"Times,serif\" font-size=\"10.00\">Rotations</text>\n",
       "<polygon fill=\"none\" stroke=\"black\" points=\"60,-306 60,-329 78,-329 78,-306 60,-306\"/>\n",
       "<text text-anchor=\"start\" x=\"66\" y=\"-315\" font-family=\"Times,serif\" font-size=\"10.00\">2</text>\n",
       "</g>\n",
       "<!-- b0&#45;&gt;b1 -->\n",
       "<g id=\"edge1\" class=\"edge\">\n",
       "<title>b0-&gt;b1</title>\n",
       "<path fill=\"none\" stroke=\"black\" d=\"M103.77,-452.56C95.27,-438.62 86.47,-424.2 78.29,-410.81\"/>\n",
       "<polygon fill=\"black\" stroke=\"black\" points=\"81.21,-408.88 73.02,-402.17 75.24,-412.53 81.21,-408.88\"/>\n",
       "<text text-anchor=\"middle\" x=\"96.5\" y=\"-423.8\" font-family=\"Times,serif\" font-size=\"14.00\">1</text>\n",
       "</g>\n",
       "<!-- b2 -->\n",
       "<g id=\"node3\" class=\"node\">\n",
       "<title>b2</title>\n",
       "<polygon fill=\"none\" stroke=\"black\" points=\"113,-375 113,-398 184,-398 184,-375 113,-375\"/>\n",
       "<text text-anchor=\"start\" x=\"121.5\" y=\"-384\" font-family=\"Times,serif\" font-size=\"10.00\">CtrlSpecAnd</text>\n",
       "<polygon fill=\"none\" stroke=\"black\" points=\"113,-352 113,-375 162,-375 162,-352 113,-352\"/>\n",
       "<text text-anchor=\"start\" x=\"123.5\" y=\"-361\" font-family=\"Times,serif\" font-size=\"10.00\">Qubits</text>\n",
       "<polygon fill=\"none\" stroke=\"black\" points=\"162,-352 162,-375 184,-375 184,-352 162,-352\"/>\n",
       "<text text-anchor=\"start\" x=\"168\" y=\"-361\" font-family=\"Times,serif\" font-size=\"10.00\">11</text>\n",
       "<polygon fill=\"none\" stroke=\"black\" points=\"113,-329 113,-352 162,-352 162,-329 113,-329\"/>\n",
       "<text text-anchor=\"start\" x=\"126.5\" y=\"-338\" font-family=\"Times,serif\" font-size=\"10.00\">Ands</text>\n",
       "<polygon fill=\"none\" stroke=\"black\" points=\"162,-329 162,-352 184,-352 184,-329 162,-329\"/>\n",
       "<text text-anchor=\"start\" x=\"170\" y=\"-338\" font-family=\"Times,serif\" font-size=\"10.00\">5</text>\n",
       "<polygon fill=\"none\" stroke=\"black\" points=\"113,-306 113,-329 162,-329 162,-306 113,-306\"/>\n",
       "<text text-anchor=\"start\" x=\"119\" y=\"-315\" font-family=\"Times,serif\" font-size=\"10.00\">Cliffords</text>\n",
       "<polygon fill=\"none\" stroke=\"black\" points=\"162,-306 162,-329 184,-329 184,-306 162,-306\"/>\n",
       "<text text-anchor=\"start\" x=\"170\" y=\"-315\" font-family=\"Times,serif\" font-size=\"10.00\">4</text>\n",
       "</g>\n",
       "<!-- b0&#45;&gt;b2 -->\n",
       "<g id=\"edge2\" class=\"edge\">\n",
       "<title>b0-&gt;b2</title>\n",
       "<path fill=\"none\" stroke=\"black\" d=\"M148,-452.56C148,-439.15 148,-425.3 148,-412.34\"/>\n",
       "<polygon fill=\"black\" stroke=\"black\" points=\"151.5,-412.17 148,-402.17 144.5,-412.17 151.5,-412.17\"/>\n",
       "<text text-anchor=\"middle\" x=\"151.5\" y=\"-423.8\" font-family=\"Times,serif\" font-size=\"14.00\">1</text>\n",
       "</g>\n",
       "<!-- b3 -->\n",
       "<g id=\"node4\" class=\"node\">\n",
       "<title>b3</title>\n",
       "<polygon fill=\"none\" stroke=\"black\" points=\"219,-375 219,-398 312,-398 312,-375 219,-375\"/>\n",
       "<text text-anchor=\"start\" x=\"236\" y=\"-384\" font-family=\"Times,serif\" font-size=\"10.00\">CtrlSpecAnd†</text>\n",
       "<polygon fill=\"none\" stroke=\"black\" points=\"219,-352 219,-375 290,-375 290,-352 219,-352\"/>\n",
       "<text text-anchor=\"start\" x=\"240.5\" y=\"-361\" font-family=\"Times,serif\" font-size=\"10.00\">Qubits</text>\n",
       "<polygon fill=\"none\" stroke=\"black\" points=\"290,-352 290,-375 312,-375 312,-352 290,-352\"/>\n",
       "<text text-anchor=\"start\" x=\"296\" y=\"-361\" font-family=\"Times,serif\" font-size=\"10.00\">11</text>\n",
       "<polygon fill=\"none\" stroke=\"black\" points=\"219,-329 219,-352 290,-352 290,-329 219,-329\"/>\n",
       "<text text-anchor=\"start\" x=\"236\" y=\"-338\" font-family=\"Times,serif\" font-size=\"10.00\">Cliffords</text>\n",
       "<polygon fill=\"none\" stroke=\"black\" points=\"290,-329 290,-352 312,-352 312,-329 290,-329\"/>\n",
       "<text text-anchor=\"start\" x=\"298\" y=\"-338\" font-family=\"Times,serif\" font-size=\"10.00\">9</text>\n",
       "<polygon fill=\"none\" stroke=\"black\" points=\"219,-306 219,-329 290,-329 290,-306 219,-306\"/>\n",
       "<text text-anchor=\"start\" x=\"225\" y=\"-315\" font-family=\"Times,serif\" font-size=\"10.00\">Measurements</text>\n",
       "<polygon fill=\"none\" stroke=\"black\" points=\"290,-306 290,-329 312,-329 312,-306 290,-306\"/>\n",
       "<text text-anchor=\"start\" x=\"298\" y=\"-315\" font-family=\"Times,serif\" font-size=\"10.00\">5</text>\n",
       "</g>\n",
       "<!-- b0&#45;&gt;b3 -->\n",
       "<g id=\"edge3\" class=\"edge\">\n",
       "<title>b0-&gt;b3</title>\n",
       "<path fill=\"none\" stroke=\"black\" d=\"M197.28,-452.56C206.76,-438.62 216.57,-424.2 225.68,-410.81\"/>\n",
       "<polygon fill=\"black\" stroke=\"black\" points=\"228.82,-412.41 231.55,-402.17 223.03,-408.47 228.82,-412.41\"/>\n",
       "<text text-anchor=\"middle\" x=\"220.5\" y=\"-423.8\" font-family=\"Times,serif\" font-size=\"14.00\">1</text>\n",
       "</g>\n",
       "<!-- b4 -->\n",
       "<g id=\"node5\" class=\"node\">\n",
       "<title>b4</title>\n",
       "<polygon fill=\"none\" stroke=\"black\" points=\"109,-224 109,-247 185,-247 185,-224 109,-224\"/>\n",
       "<text text-anchor=\"start\" x=\"115\" y=\"-233\" font-family=\"Times,serif\" font-size=\"10.00\">MultiAnd(n=6)</text>\n",
       "<polygon fill=\"none\" stroke=\"black\" points=\"109,-201 109,-224 160,-224 160,-201 109,-201\"/>\n",
       "<text text-anchor=\"start\" x=\"120.5\" y=\"-210\" font-family=\"Times,serif\" font-size=\"10.00\">Qubits</text>\n",
       "<polygon fill=\"none\" stroke=\"black\" points=\"160,-201 160,-224 185,-224 185,-201 160,-201\"/>\n",
       "<text text-anchor=\"start\" x=\"167.5\" y=\"-210\" font-family=\"Times,serif\" font-size=\"10.00\">11</text>\n",
       "<polygon fill=\"none\" stroke=\"black\" points=\"109,-178 109,-201 160,-201 160,-178 109,-178\"/>\n",
       "<text text-anchor=\"start\" x=\"123.5\" y=\"-187\" font-family=\"Times,serif\" font-size=\"10.00\">Ands</text>\n",
       "<polygon fill=\"none\" stroke=\"black\" points=\"160,-178 160,-201 185,-201 185,-178 160,-178\"/>\n",
       "<text text-anchor=\"start\" x=\"169.5\" y=\"-187\" font-family=\"Times,serif\" font-size=\"10.00\">5</text>\n",
       "<polygon fill=\"none\" stroke=\"black\" points=\"109,-155 109,-178 160,-178 160,-155 109,-155\"/>\n",
       "<text text-anchor=\"start\" x=\"116\" y=\"-164\" font-family=\"Times,serif\" font-size=\"10.00\">Cliffords</text>\n",
       "<polygon fill=\"none\" stroke=\"black\" points=\"160,-155 160,-178 185,-178 185,-155 160,-155\"/>\n",
       "<text text-anchor=\"start\" x=\"169.5\" y=\"-164\" font-family=\"Times,serif\" font-size=\"10.00\">4</text>\n",
       "</g>\n",
       "<!-- b2&#45;&gt;b4 -->\n",
       "<g id=\"edge4\" class=\"edge\">\n",
       "<title>b2-&gt;b4</title>\n",
       "<path fill=\"none\" stroke=\"black\" d=\"M147.67,-301.8C147.58,-288.83 147.49,-274.7 147.4,-261.26\"/>\n",
       "<polygon fill=\"black\" stroke=\"black\" points=\"150.9,-261.13 147.33,-251.15 143.9,-261.17 150.9,-261.13\"/>\n",
       "<text text-anchor=\"middle\" x=\"151.5\" y=\"-272.8\" font-family=\"Times,serif\" font-size=\"14.00\">1</text>\n",
       "</g>\n",
       "<!-- b5 -->\n",
       "<g id=\"node6\" class=\"node\">\n",
       "<title>b5</title>\n",
       "<polygon fill=\"none\" stroke=\"black\" points=\"220,-224 220,-247 313,-247 313,-224 220,-224\"/>\n",
       "<text text-anchor=\"start\" x=\"231.5\" y=\"-233\" font-family=\"Times,serif\" font-size=\"10.00\">MultiAnd(n=6)†</text>\n",
       "<polygon fill=\"none\" stroke=\"black\" points=\"220,-201 220,-224 291,-224 291,-201 220,-201\"/>\n",
       "<text text-anchor=\"start\" x=\"241.5\" y=\"-210\" font-family=\"Times,serif\" font-size=\"10.00\">Qubits</text>\n",
       "<polygon fill=\"none\" stroke=\"black\" points=\"291,-201 291,-224 313,-224 313,-201 291,-201\"/>\n",
       "<text text-anchor=\"start\" x=\"297\" y=\"-210\" font-family=\"Times,serif\" font-size=\"10.00\">11</text>\n",
       "<polygon fill=\"none\" stroke=\"black\" points=\"220,-178 220,-201 291,-201 291,-178 220,-178\"/>\n",
       "<text text-anchor=\"start\" x=\"237\" y=\"-187\" font-family=\"Times,serif\" font-size=\"10.00\">Cliffords</text>\n",
       "<polygon fill=\"none\" stroke=\"black\" points=\"291,-178 291,-201 313,-201 313,-178 291,-178\"/>\n",
       "<text text-anchor=\"start\" x=\"299\" y=\"-187\" font-family=\"Times,serif\" font-size=\"10.00\">9</text>\n",
       "<polygon fill=\"none\" stroke=\"black\" points=\"220,-155 220,-178 291,-178 291,-155 220,-155\"/>\n",
       "<text text-anchor=\"start\" x=\"226\" y=\"-164\" font-family=\"Times,serif\" font-size=\"10.00\">Measurements</text>\n",
       "<polygon fill=\"none\" stroke=\"black\" points=\"291,-155 291,-178 313,-178 313,-155 291,-155\"/>\n",
       "<text text-anchor=\"start\" x=\"299\" y=\"-164\" font-family=\"Times,serif\" font-size=\"10.00\">5</text>\n",
       "</g>\n",
       "<!-- b3&#45;&gt;b5 -->\n",
       "<g id=\"edge7\" class=\"edge\">\n",
       "<title>b3-&gt;b5</title>\n",
       "<path fill=\"none\" stroke=\"black\" d=\"M265.33,-301.8C265.42,-288.83 265.51,-274.7 265.6,-261.26\"/>\n",
       "<polygon fill=\"black\" stroke=\"black\" points=\"269.1,-261.17 265.67,-251.15 262.1,-261.13 269.1,-261.17\"/>\n",
       "<text text-anchor=\"middle\" x=\"269.5\" y=\"-272.8\" font-family=\"Times,serif\" font-size=\"14.00\">1</text>\n",
       "</g>\n",
       "<!-- b6 -->\n",
       "<g id=\"node7\" class=\"node\">\n",
       "<title>b6</title>\n",
       "<polygon fill=\"none\" stroke=\"black\" points=\"55,-61 55,-84 113,-84 113,-61 55,-61\"/>\n",
       "<text text-anchor=\"start\" x=\"74.5\" y=\"-70\" font-family=\"Times,serif\" font-size=\"10.00\">And</text>\n",
       "<polygon fill=\"none\" stroke=\"black\" points=\"55,-38 55,-61 95,-61 95,-38 55,-38\"/>\n",
       "<text text-anchor=\"start\" x=\"61\" y=\"-47\" font-family=\"Times,serif\" font-size=\"10.00\">Qubits</text>\n",
       "<polygon fill=\"none\" stroke=\"black\" points=\"95,-38 95,-61 113,-61 113,-38 95,-38\"/>\n",
       "<text text-anchor=\"start\" x=\"101\" y=\"-47\" font-family=\"Times,serif\" font-size=\"10.00\">3</text>\n",
       "<polygon fill=\"none\" stroke=\"black\" points=\"55,-15 55,-38 95,-38 95,-15 55,-15\"/>\n",
       "<text text-anchor=\"start\" x=\"64\" y=\"-24\" font-family=\"Times,serif\" font-size=\"10.00\">Ands</text>\n",
       "<polygon fill=\"none\" stroke=\"black\" points=\"95,-15 95,-38 113,-38 113,-15 95,-15\"/>\n",
       "<text text-anchor=\"start\" x=\"101\" y=\"-24\" font-family=\"Times,serif\" font-size=\"10.00\">1</text>\n",
       "</g>\n",
       "<!-- b4&#45;&gt;b6 -->\n",
       "<g id=\"edge5\" class=\"edge\">\n",
       "<title>b4-&gt;b6</title>\n",
       "<path fill=\"none\" stroke=\"black\" d=\"M126.2,-150.8C119.07,-133.93 111.11,-115.11 104.04,-98.39\"/>\n",
       "<polygon fill=\"black\" stroke=\"black\" points=\"107.11,-96.67 99.99,-88.82 100.66,-99.39 107.11,-96.67\"/>\n",
       "<text text-anchor=\"middle\" x=\"121.5\" y=\"-121.8\" font-family=\"Times,serif\" font-size=\"14.00\">5</text>\n",
       "</g>\n",
       "<!-- b8 -->\n",
       "<g id=\"node9\" class=\"node\">\n",
       "<title>b8</title>\n",
       "<polygon fill=\"none\" stroke=\"black\" points=\"148,-50 148,-73 215,-73 215,-50 148,-50\"/>\n",
       "<text text-anchor=\"start\" x=\"177.5\" y=\"-59\" font-family=\"Times,serif\" font-size=\"10.00\">X</text>\n",
       "<polygon fill=\"none\" stroke=\"black\" points=\"148,-27 148,-50 197,-50 197,-27 148,-27\"/>\n",
       "<text text-anchor=\"start\" x=\"154\" y=\"-36\" font-family=\"Times,serif\" font-size=\"10.00\">Cliffords</text>\n",
       "<polygon fill=\"none\" stroke=\"black\" points=\"197,-27 197,-50 215,-50 215,-27 197,-27\"/>\n",
       "<text text-anchor=\"start\" x=\"203\" y=\"-36\" font-family=\"Times,serif\" font-size=\"10.00\">1</text>\n",
       "</g>\n",
       "<!-- b4&#45;&gt;b8 -->\n",
       "<g id=\"edge6\" class=\"edge\">\n",
       "<title>b4-&gt;b8</title>\n",
       "<path fill=\"none\" stroke=\"black\" d=\"M158.23,-150.8C162.98,-129.96 168.42,-106.13 172.79,-86.98\"/>\n",
       "<polygon fill=\"black\" stroke=\"black\" points=\"176.22,-87.68 175.03,-77.15 169.4,-86.12 176.22,-87.68\"/>\n",
       "<text text-anchor=\"middle\" x=\"169.5\" y=\"-121.8\" font-family=\"Times,serif\" font-size=\"14.00\">4</text>\n",
       "</g>\n",
       "<!-- b7 -->\n",
       "<g id=\"node8\" class=\"node\">\n",
       "<title>b7</title>\n",
       "<polygon fill=\"none\" stroke=\"black\" points=\"249,-73 249,-96 338,-96 338,-73 249,-73\"/>\n",
       "<text text-anchor=\"start\" x=\"281.5\" y=\"-82\" font-family=\"Times,serif\" font-size=\"10.00\">And†</text>\n",
       "<polygon fill=\"none\" stroke=\"black\" points=\"249,-50 249,-73 320,-73 320,-50 249,-50\"/>\n",
       "<text text-anchor=\"start\" x=\"270.5\" y=\"-59\" font-family=\"Times,serif\" font-size=\"10.00\">Qubits</text>\n",
       "<polygon fill=\"none\" stroke=\"black\" points=\"320,-50 320,-73 338,-73 338,-50 320,-50\"/>\n",
       "<text text-anchor=\"start\" x=\"326\" y=\"-59\" font-family=\"Times,serif\" font-size=\"10.00\">3</text>\n",
       "<polygon fill=\"none\" stroke=\"black\" points=\"249,-27 249,-50 320,-50 320,-27 249,-27\"/>\n",
       "<text text-anchor=\"start\" x=\"266\" y=\"-36\" font-family=\"Times,serif\" font-size=\"10.00\">Cliffords</text>\n",
       "<polygon fill=\"none\" stroke=\"black\" points=\"320,-27 320,-50 338,-50 338,-27 320,-27\"/>\n",
       "<text text-anchor=\"start\" x=\"326\" y=\"-36\" font-family=\"Times,serif\" font-size=\"10.00\">1</text>\n",
       "<polygon fill=\"none\" stroke=\"black\" points=\"249,-4 249,-27 320,-27 320,-4 249,-4\"/>\n",
       "<text text-anchor=\"start\" x=\"255\" y=\"-13\" font-family=\"Times,serif\" font-size=\"10.00\">Measurements</text>\n",
       "<polygon fill=\"none\" stroke=\"black\" points=\"320,-4 320,-27 338,-27 338,-4 320,-4\"/>\n",
       "<text text-anchor=\"start\" x=\"326\" y=\"-13\" font-family=\"Times,serif\" font-size=\"10.00\">1</text>\n",
       "</g>\n",
       "<!-- b5&#45;&gt;b7 -->\n",
       "<g id=\"edge8\" class=\"edge\">\n",
       "<title>b5-&gt;b7</title>\n",
       "<path fill=\"none\" stroke=\"black\" d=\"M274.92,-150.8C277.27,-137.83 279.83,-123.7 282.26,-110.26\"/>\n",
       "<polygon fill=\"black\" stroke=\"black\" points=\"285.75,-110.61 284.09,-100.15 278.87,-109.37 285.75,-110.61\"/>\n",
       "<text text-anchor=\"middle\" x=\"284.5\" y=\"-121.8\" font-family=\"Times,serif\" font-size=\"14.00\">5</text>\n",
       "</g>\n",
       "<!-- b5&#45;&gt;b8 -->\n",
       "<g id=\"edge9\" class=\"edge\">\n",
       "<title>b5-&gt;b8</title>\n",
       "<path fill=\"none\" stroke=\"black\" d=\"M237.93,-150.8C225.83,-129.58 211.95,-105.25 200.92,-85.92\"/>\n",
       "<polygon fill=\"black\" stroke=\"black\" points=\"203.91,-84.1 195.92,-77.15 197.83,-87.57 203.91,-84.1\"/>\n",
       "<text text-anchor=\"middle\" x=\"230.5\" y=\"-121.8\" font-family=\"Times,serif\" font-size=\"14.00\">4</text>\n",
       "</g>\n",
       "</g>\n",
       "</svg>"
      ],
      "text/plain": [
       "<IPython.core.display.SVG object>"
      ]
     },
     "metadata": {},
     "output_type": "display_data"
    }
   ],
   "source": [
    "show_call_graph(nested_ctrl_bloq)"
   ]
  }
 ],
 "metadata": {
  "kernelspec": {
   "display_name": "Python 3",
   "language": "python",
   "name": "python3"
  },
  "language_info": {
   "codemirror_mode": {
    "name": "ipython",
    "version": 3
   },
   "file_extension": ".py",
   "mimetype": "text/x-python",
   "name": "python",
   "nbconvert_exporter": "python",
   "pygments_lexer": "ipython3",
   "version": "3.11.8"
  },
  "widgets": {
   "application/vnd.jupyter.widget-state+json": {
    "state": {
     "39dc4a73e5c04d0c8f206fe60801a3b4": {
      "model_module": "@jupyter-widgets/output",
      "model_module_version": "1.0.0",
      "model_name": "OutputModel",
      "state": {
       "_dom_classes": [],
       "_model_module": "@jupyter-widgets/output",
       "_model_module_version": "1.0.0",
       "_model_name": "OutputModel",
       "_view_count": null,
       "_view_module": "@jupyter-widgets/output",
       "_view_module_version": "1.0.0",
       "_view_name": "OutputView",
       "layout": "IPY_MODEL_b9b04a0efd384eb88f8b0531838ee2c8",
       "msg_id": "",
       "outputs": [
        {
         "data": {
          "image/svg+xml": "<svg xmlns=\"http://www.w3.org/2000/svg\" xmlns:xlink=\"http://www.w3.org/1999/xlink\" width=\"243pt\" height=\"368pt\" viewBox=\"0.00 0.00 243.00 368.00\">\n<g id=\"graph0\" class=\"graph\" transform=\"scale(1 1) rotate(0) translate(4 364)\">\n<title>my_graph</title>\n<polygon fill=\"white\" stroke=\"transparent\" points=\"-4,4 -4,-364 239,-364 239,4 -4,4\"/>\n<!-- ctrl1_G2 -->\n<g id=\"node1\" class=\"node\">\n<title>ctrl1_G2</title>\n<text text-anchor=\"middle\" x=\"28.5\" y=\"-338.3\" font-family=\"Times,serif\" font-size=\"14.00\">ctrl1[0]</text>\n</g>\n<!-- ControlledViaAnd -->\n<g id=\"node8\" class=\"node\">\n<title>ControlledViaAnd</title>\n<polygon fill=\"none\" stroke=\"black\" points=\"94.5,-254 94.5,-271 141.5,-271 141.5,-254 94.5,-254\"/>\n<text text-anchor=\"start\" x=\"102\" y=\"-260\" font-family=\"Times,serif\" font-size=\"10.00\">C[6][H]</text>\n<polygon fill=\"none\" stroke=\"black\" points=\"94.5,-233 94.5,-254 141.5,-254 141.5,-233 94.5,-233\"/>\n<text text-anchor=\"start\" x=\"97.5\" y=\"-239.8\" font-family=\"Times,serif\" font-size=\"14.00\">ctrl1[0]</text>\n<polygon fill=\"none\" stroke=\"black\" points=\"94.5,-212 94.5,-233 141.5,-233 141.5,-212 94.5,-212\"/>\n<text text-anchor=\"start\" x=\"97.5\" y=\"-218.8\" font-family=\"Times,serif\" font-size=\"14.00\">ctrl1[1]</text>\n<polygon fill=\"none\" stroke=\"black\" points=\"94.5,-191 94.5,-212 141.5,-212 141.5,-191 94.5,-191\"/>\n<text text-anchor=\"start\" x=\"97.5\" y=\"-197.8\" font-family=\"Times,serif\" font-size=\"14.00\">ctrl2[0]</text>\n<polygon fill=\"none\" stroke=\"black\" points=\"94.5,-170 94.5,-191 141.5,-191 141.5,-170 94.5,-170\"/>\n<text text-anchor=\"start\" x=\"97.5\" y=\"-176.8\" font-family=\"Times,serif\" font-size=\"14.00\">ctrl2[1]</text>\n<polygon fill=\"none\" stroke=\"black\" points=\"94.5,-149 94.5,-170 141.5,-170 141.5,-149 94.5,-149\"/>\n<text text-anchor=\"start\" x=\"97.5\" y=\"-155.8\" font-family=\"Times,serif\" font-size=\"14.00\">ctrl2[2]</text>\n<polygon fill=\"none\" stroke=\"black\" points=\"94.5,-128 94.5,-149 141.5,-149 141.5,-128 94.5,-128\"/>\n<text text-anchor=\"start\" x=\"97.5\" y=\"-134.8\" font-family=\"Times,serif\" font-size=\"14.00\">ctrl2[3]</text>\n<polygon fill=\"none\" stroke=\"black\" points=\"94.5,-107 94.5,-128 141.5,-128 141.5,-107 94.5,-107\"/>\n<text text-anchor=\"start\" x=\"114.5\" y=\"-113.8\" font-family=\"Times,serif\" font-size=\"14.00\">q</text>\n</g>\n<!-- ctrl1_G2&#45;&gt;ControlledViaAnd -->\n<g id=\"edge1\" class=\"edge\">\n<title>ctrl1_G2:e-&gt;ControlledViaAnd:w</title>\n<path fill=\"none\" stroke=\"black\" d=\"M57,-342C79.55,-342 71.29,-250.03 91.91,-244.28\"/>\n<ellipse fill=\"black\" stroke=\"black\" cx=\"93.01\" cy=\"-244.13\" rx=\"1\" ry=\"1\"/>\n<text text-anchor=\"middle\" x=\"75.5\" y=\"-298\" font-family=\"Times,serif\" font-size=\"10.00\">1</text>\n</g>\n<!-- ctrl1_G19 -->\n<g id=\"node2\" class=\"node\">\n<title>ctrl1_G19</title>\n<text text-anchor=\"middle\" x=\"28.5\" y=\"-284.3\" font-family=\"Times,serif\" font-size=\"14.00\">ctrl1[1]</text>\n</g>\n<!-- ctrl1_G19&#45;&gt;ControlledViaAnd -->\n<g id=\"edge2\" class=\"edge\">\n<title>ctrl1_G19:e-&gt;ControlledViaAnd:w</title>\n<path fill=\"none\" stroke=\"black\" d=\"M57,-288C89.46,-288 62.11,-226.01 91.76,-223.11\"/>\n<ellipse fill=\"black\" stroke=\"black\" cx=\"93\" cy=\"-223.05\" rx=\"1\" ry=\"1\"/>\n<text text-anchor=\"middle\" x=\"75.5\" y=\"-264\" font-family=\"Times,serif\" font-size=\"10.00\">1</text>\n</g>\n<!-- ctrl2_G4 -->\n<g id=\"node3\" class=\"node\">\n<title>ctrl2_G4</title>\n<text text-anchor=\"middle\" x=\"28.5\" y=\"-230.3\" font-family=\"Times,serif\" font-size=\"14.00\">ctrl2[0]</text>\n</g>\n<!-- ctrl2_G4&#45;&gt;ControlledViaAnd -->\n<g id=\"edge3\" class=\"edge\">\n<title>ctrl2_G4:e-&gt;ControlledViaAnd:w</title>\n<path fill=\"none\" stroke=\"black\" d=\"M57,-234C77.89,-234 72.72,-204.45 91.58,-202.14\"/>\n<ellipse fill=\"black\" stroke=\"black\" cx=\"93\" cy=\"-202.06\" rx=\"1\" ry=\"1\"/>\n<text text-anchor=\"middle\" x=\"75.5\" y=\"-221\" font-family=\"Times,serif\" font-size=\"10.00\">1</text>\n</g>\n<!-- ctrl2_G1 -->\n<g id=\"node4\" class=\"node\">\n<title>ctrl2_G1</title>\n<text text-anchor=\"middle\" x=\"28.5\" y=\"-176.3\" font-family=\"Times,serif\" font-size=\"14.00\">ctrl2[1]</text>\n</g>\n<!-- ctrl2_G1&#45;&gt;ControlledViaAnd -->\n<g id=\"edge4\" class=\"edge\">\n<title>ctrl2_G1:e-&gt;ControlledViaAnd:w</title>\n<path fill=\"none\" stroke=\"black\" d=\"M57,-180C72.67,-180 77.14,-180 91.77,-180\"/>\n<ellipse fill=\"black\" stroke=\"black\" cx=\"93\" cy=\"-180\" rx=\"1\" ry=\"1\"/>\n<text text-anchor=\"middle\" x=\"75.5\" y=\"-183\" font-family=\"Times,serif\" font-size=\"10.00\">1</text>\n</g>\n<!-- ctrl2_G5 -->\n<g id=\"node5\" class=\"node\">\n<title>ctrl2_G5</title>\n<text text-anchor=\"middle\" x=\"28.5\" y=\"-122.3\" font-family=\"Times,serif\" font-size=\"14.00\">ctrl2[2]</text>\n</g>\n<!-- ctrl2_G5&#45;&gt;ControlledViaAnd -->\n<g id=\"edge5\" class=\"edge\">\n<title>ctrl2_G5:e-&gt;ControlledViaAnd:w</title>\n<path fill=\"none\" stroke=\"black\" d=\"M57,-126C78.17,-126 72.47,-156.47 91.55,-158.85\"/>\n<ellipse fill=\"black\" stroke=\"black\" cx=\"93\" cy=\"-158.94\" rx=\"1\" ry=\"1\"/>\n<text text-anchor=\"middle\" x=\"75.5\" y=\"-146\" font-family=\"Times,serif\" font-size=\"10.00\">1</text>\n</g>\n<!-- ctrl2_G12 -->\n<g id=\"node6\" class=\"node\">\n<title>ctrl2_G12</title>\n<text text-anchor=\"middle\" x=\"28.5\" y=\"-68.3\" font-family=\"Times,serif\" font-size=\"14.00\">ctrl2[3]</text>\n</g>\n<!-- ctrl2_G12&#45;&gt;ControlledViaAnd -->\n<g id=\"edge6\" class=\"edge\">\n<title>ctrl2_G12:e-&gt;ControlledViaAnd:w</title>\n<path fill=\"none\" stroke=\"black\" d=\"M57,-72C89.84,-72 61.75,-134.94 91.74,-137.89\"/>\n<ellipse fill=\"black\" stroke=\"black\" cx=\"93\" cy=\"-137.95\" rx=\"1\" ry=\"1\"/>\n<text text-anchor=\"middle\" x=\"75.5\" y=\"-115\" font-family=\"Times,serif\" font-size=\"10.00\">1</text>\n</g>\n<!-- q_G14 -->\n<g id=\"node7\" class=\"node\">\n<title>q_G14</title>\n<text text-anchor=\"middle\" x=\"28.5\" y=\"-14.3\" font-family=\"Times,serif\" font-size=\"14.00\">q</text>\n</g>\n<!-- q_G14&#45;&gt;ControlledViaAnd -->\n<g id=\"edge7\" class=\"edge\">\n<title>q_G14:e-&gt;ControlledViaAnd:w</title>\n<path fill=\"none\" stroke=\"black\" d=\"M56.5,-18C79.29,-18 71.04,-110.91 91.89,-116.72\"/>\n<ellipse fill=\"black\" stroke=\"black\" cx=\"93.01\" cy=\"-116.87\" rx=\"1\" ry=\"1\"/>\n<text text-anchor=\"middle\" x=\"75.5\" y=\"-74\" font-family=\"Times,serif\" font-size=\"10.00\">1</text>\n</g>\n<!-- ctrl1_G15 -->\n<g id=\"node9\" class=\"node\">\n<title>ctrl1_G15</title>\n<text text-anchor=\"middle\" x=\"206.5\" y=\"-338.3\" font-family=\"Times,serif\" font-size=\"14.00\">ctrl1[0]</text>\n</g>\n<!-- ControlledViaAnd&#45;&gt;ctrl1_G15 -->\n<g id=\"edge8\" class=\"edge\">\n<title>ControlledViaAnd:e-&gt;ctrl1_G15:w</title>\n<path fill=\"none\" stroke=\"black\" d=\"M141,-244C163.55,-244 155.29,-335.97 175.91,-341.72\"/>\n<ellipse fill=\"black\" stroke=\"black\" cx=\"177.01\" cy=\"-341.87\" rx=\"1\" ry=\"1\"/>\n<text text-anchor=\"middle\" x=\"159.5\" y=\"-298\" font-family=\"Times,serif\" font-size=\"10.00\">1</text>\n</g>\n<!-- ctrl1_G11 -->\n<g id=\"node10\" class=\"node\">\n<title>ctrl1_G11</title>\n<text text-anchor=\"middle\" x=\"206.5\" y=\"-284.3\" font-family=\"Times,serif\" font-size=\"14.00\">ctrl1[1]</text>\n</g>\n<!-- ControlledViaAnd&#45;&gt;ctrl1_G11 -->\n<g id=\"edge9\" class=\"edge\">\n<title>ControlledViaAnd:e-&gt;ctrl1_G11:w</title>\n<path fill=\"none\" stroke=\"black\" d=\"M141,-223C173.46,-223 146.11,-284.99 175.76,-287.89\"/>\n<ellipse fill=\"black\" stroke=\"black\" cx=\"177\" cy=\"-287.95\" rx=\"1\" ry=\"1\"/>\n<text text-anchor=\"middle\" x=\"159.5\" y=\"-264\" font-family=\"Times,serif\" font-size=\"10.00\">1</text>\n</g>\n<!-- ctrl2_G17 -->\n<g id=\"node11\" class=\"node\">\n<title>ctrl2_G17</title>\n<text text-anchor=\"middle\" x=\"206.5\" y=\"-230.3\" font-family=\"Times,serif\" font-size=\"14.00\">ctrl2[0]</text>\n</g>\n<!-- ControlledViaAnd&#45;&gt;ctrl2_G17 -->\n<g id=\"edge10\" class=\"edge\">\n<title>ControlledViaAnd:e-&gt;ctrl2_G17:w</title>\n<path fill=\"none\" stroke=\"black\" d=\"M141,-202C161.89,-202 156.72,-231.55 175.58,-233.86\"/>\n<ellipse fill=\"black\" stroke=\"black\" cx=\"177\" cy=\"-233.94\" rx=\"1\" ry=\"1\"/>\n<text text-anchor=\"middle\" x=\"159.5\" y=\"-221\" font-family=\"Times,serif\" font-size=\"10.00\">1</text>\n</g>\n<!-- ctrl2_G16 -->\n<g id=\"node12\" class=\"node\">\n<title>ctrl2_G16</title>\n<text text-anchor=\"middle\" x=\"206.5\" y=\"-176.3\" font-family=\"Times,serif\" font-size=\"14.00\">ctrl2[1]</text>\n</g>\n<!-- ControlledViaAnd&#45;&gt;ctrl2_G16 -->\n<g id=\"edge11\" class=\"edge\">\n<title>ControlledViaAnd:e-&gt;ctrl2_G16:w</title>\n<path fill=\"none\" stroke=\"black\" d=\"M141,-180C156.67,-180 161.14,-180 175.77,-180\"/>\n<ellipse fill=\"black\" stroke=\"black\" cx=\"177\" cy=\"-180\" rx=\"1\" ry=\"1\"/>\n<text text-anchor=\"middle\" x=\"159.5\" y=\"-183\" font-family=\"Times,serif\" font-size=\"10.00\">1</text>\n</g>\n<!-- ctrl2_G20 -->\n<g id=\"node13\" class=\"node\">\n<title>ctrl2_G20</title>\n<text text-anchor=\"middle\" x=\"206.5\" y=\"-122.3\" font-family=\"Times,serif\" font-size=\"14.00\">ctrl2[2]</text>\n</g>\n<!-- ControlledViaAnd&#45;&gt;ctrl2_G20 -->\n<g id=\"edge12\" class=\"edge\">\n<title>ControlledViaAnd:e-&gt;ctrl2_G20:w</title>\n<path fill=\"none\" stroke=\"black\" d=\"M141,-159C162.17,-159 156.47,-128.53 175.55,-126.15\"/>\n<ellipse fill=\"black\" stroke=\"black\" cx=\"177\" cy=\"-126.06\" rx=\"1\" ry=\"1\"/>\n<text text-anchor=\"middle\" x=\"159.5\" y=\"-146\" font-family=\"Times,serif\" font-size=\"10.00\">1</text>\n</g>\n<!-- ctrl2_G3 -->\n<g id=\"node14\" class=\"node\">\n<title>ctrl2_G3</title>\n<text text-anchor=\"middle\" x=\"206.5\" y=\"-68.3\" font-family=\"Times,serif\" font-size=\"14.00\">ctrl2[3]</text>\n</g>\n<!-- ControlledViaAnd&#45;&gt;ctrl2_G3 -->\n<g id=\"edge13\" class=\"edge\">\n<title>ControlledViaAnd:e-&gt;ctrl2_G3:w</title>\n<path fill=\"none\" stroke=\"black\" d=\"M141,-138C173.84,-138 145.75,-75.06 175.74,-72.11\"/>\n<ellipse fill=\"black\" stroke=\"black\" cx=\"177\" cy=\"-72.05\" rx=\"1\" ry=\"1\"/>\n<text text-anchor=\"middle\" x=\"159.5\" y=\"-115\" font-family=\"Times,serif\" font-size=\"10.00\">1</text>\n</g>\n<!-- q_G8 -->\n<g id=\"node15\" class=\"node\">\n<title>q_G8</title>\n<text text-anchor=\"middle\" x=\"206.5\" y=\"-14.3\" font-family=\"Times,serif\" font-size=\"14.00\">q</text>\n</g>\n<!-- ControlledViaAnd&#45;&gt;q_G8 -->\n<g id=\"edge14\" class=\"edge\">\n<title>ControlledViaAnd:e-&gt;q_G8:w</title>\n<path fill=\"none\" stroke=\"black\" d=\"M141,-117C163.79,-117 155.54,-24.09 176.39,-18.28\"/>\n<ellipse fill=\"black\" stroke=\"black\" cx=\"177.51\" cy=\"-18.13\" rx=\"1\" ry=\"1\"/>\n<text text-anchor=\"middle\" x=\"159.5\" y=\"-74\" font-family=\"Times,serif\" font-size=\"10.00\">1</text>\n</g>\n</g>\n</svg>",
          "text/plain": "<IPython.core.display.SVG object>"
         },
         "metadata": {},
         "output_type": "display_data"
        }
       ],
       "tabbable": null,
       "tooltip": null
      }
     },
     "3dc4f4ab9d154ec08de9e7ce200c1208": {
      "model_module": "@jupyter-widgets/base",
      "model_module_version": "2.0.0",
      "model_name": "LayoutModel",
      "state": {
       "_model_module": "@jupyter-widgets/base",
       "_model_module_version": "2.0.0",
       "_model_name": "LayoutModel",
       "_view_count": null,
       "_view_module": "@jupyter-widgets/base",
       "_view_module_version": "2.0.0",
       "_view_name": "LayoutView",
       "align_content": null,
       "align_items": null,
       "align_self": null,
       "border_bottom": null,
       "border_left": null,
       "border_right": null,
       "border_top": null,
       "bottom": null,
       "display": null,
       "flex": null,
       "flex_flow": null,
       "grid_area": null,
       "grid_auto_columns": null,
       "grid_auto_flow": null,
       "grid_auto_rows": null,
       "grid_column": null,
       "grid_gap": null,
       "grid_row": null,
       "grid_template_areas": null,
       "grid_template_columns": null,
       "grid_template_rows": null,
       "height": null,
       "justify_content": null,
       "justify_items": null,
       "left": null,
       "margin": null,
       "max_height": null,
       "max_width": null,
       "min_height": null,
       "min_width": null,
       "object_fit": null,
       "object_position": null,
       "order": null,
       "overflow": null,
       "padding": null,
       "right": null,
       "top": null,
       "visibility": null,
       "width": null
      }
     },
     "51db6ede88f140e5b76092a4e5684c35": {
      "model_module": "@jupyter-widgets/base",
      "model_module_version": "2.0.0",
      "model_name": "LayoutModel",
      "state": {
       "_model_module": "@jupyter-widgets/base",
       "_model_module_version": "2.0.0",
       "_model_name": "LayoutModel",
       "_view_count": null,
       "_view_module": "@jupyter-widgets/base",
       "_view_module_version": "2.0.0",
       "_view_name": "LayoutView",
       "align_content": null,
       "align_items": null,
       "align_self": null,
       "border_bottom": null,
       "border_left": null,
       "border_right": null,
       "border_top": null,
       "bottom": null,
       "display": null,
       "flex": null,
       "flex_flow": null,
       "grid_area": null,
       "grid_auto_columns": null,
       "grid_auto_flow": null,
       "grid_auto_rows": null,
       "grid_column": null,
       "grid_gap": null,
       "grid_row": null,
       "grid_template_areas": null,
       "grid_template_columns": null,
       "grid_template_rows": null,
       "height": null,
       "justify_content": null,
       "justify_items": null,
       "left": null,
       "margin": null,
       "max_height": null,
       "max_width": null,
       "min_height": null,
       "min_width": null,
       "object_fit": null,
       "object_position": null,
       "order": null,
       "overflow": null,
       "padding": null,
       "right": null,
       "top": null,
       "visibility": null,
       "width": null
      }
     },
     "63e68f5b5fd14c2685904a9898713a7b": {
      "model_module": "@jupyter-widgets/base",
      "model_module_version": "2.0.0",
      "model_name": "LayoutModel",
      "state": {
       "_model_module": "@jupyter-widgets/base",
       "_model_module_version": "2.0.0",
       "_model_name": "LayoutModel",
       "_view_count": null,
       "_view_module": "@jupyter-widgets/base",
       "_view_module_version": "2.0.0",
       "_view_name": "LayoutView",
       "align_content": null,
       "align_items": null,
       "align_self": null,
       "border_bottom": null,
       "border_left": null,
       "border_right": null,
       "border_top": null,
       "bottom": null,
       "display": null,
       "flex": null,
       "flex_flow": null,
       "grid_area": null,
       "grid_auto_columns": null,
       "grid_auto_flow": null,
       "grid_auto_rows": null,
       "grid_column": null,
       "grid_gap": null,
       "grid_row": null,
       "grid_template_areas": null,
       "grid_template_columns": null,
       "grid_template_rows": null,
       "height": null,
       "justify_content": null,
       "justify_items": null,
       "left": null,
       "margin": null,
       "max_height": null,
       "max_width": null,
       "min_height": null,
       "min_width": null,
       "object_fit": null,
       "object_position": null,
       "order": null,
       "overflow": null,
       "padding": null,
       "right": null,
       "top": null,
       "visibility": null,
       "width": null
      }
     },
     "a158521c83b045daa49fad93cd700200": {
      "model_module": "@jupyter-widgets/controls",
      "model_module_version": "2.0.0",
      "model_name": "HBoxModel",
      "state": {
       "_dom_classes": [],
       "_model_module": "@jupyter-widgets/controls",
       "_model_module_version": "2.0.0",
       "_model_name": "HBoxModel",
       "_view_count": null,
       "_view_module": "@jupyter-widgets/controls",
       "_view_module_version": "2.0.0",
       "_view_name": "HBoxView",
       "box_style": "",
       "children": [
        "IPY_MODEL_cd4dea58be1c48e3b14105139abd5054",
        "IPY_MODEL_b6fd3dbb20f54696b72393398240ae64"
       ],
       "layout": "IPY_MODEL_3dc4f4ab9d154ec08de9e7ce200c1208",
       "tabbable": null,
       "tooltip": null
      }
     },
     "b6fd3dbb20f54696b72393398240ae64": {
      "model_module": "@jupyter-widgets/output",
      "model_module_version": "1.0.0",
      "model_name": "OutputModel",
      "state": {
       "_dom_classes": [],
       "_model_module": "@jupyter-widgets/output",
       "_model_module_version": "1.0.0",
       "_model_name": "OutputModel",
       "_view_count": null,
       "_view_module": "@jupyter-widgets/output",
       "_view_module_version": "1.0.0",
       "_view_name": "OutputView",
       "layout": "IPY_MODEL_cb5bcd309c3349b5a28eacd5a3b821f1",
       "msg_id": "",
       "outputs": [
        {
         "data": {
          "text/markdown": "`controlled_via_and_qbits`",
          "text/plain": "<IPython.core.display.Markdown object>"
         },
         "metadata": {},
         "output_type": "display_data"
        },
        {
         "data": {
          "image/svg+xml": "<svg xmlns=\"http://www.w3.org/2000/svg\" xmlns:xlink=\"http://www.w3.org/1999/xlink\" width=\"230pt\" height=\"260pt\" viewBox=\"0.00 0.00 230.00 260.00\">\n<g id=\"graph0\" class=\"graph\" transform=\"scale(1 1) rotate(0) translate(4 256)\">\n<title>my_graph</title>\n<polygon fill=\"white\" stroke=\"transparent\" points=\"-4,4 -4,-256 226,-256 226,4 -4,4\"/>\n<!-- ctrl_G7 -->\n<g id=\"node1\" class=\"node\">\n<title>ctrl_G7</title>\n<text text-anchor=\"middle\" x=\"27\" y=\"-230.3\" font-family=\"Times,serif\" font-size=\"14.00\">ctrl[0]</text>\n</g>\n<!-- ControlledViaAnd -->\n<g id=\"node6\" class=\"node\">\n<title>ControlledViaAnd</title>\n<polygon fill=\"none\" stroke=\"black\" points=\"91,-179 91,-196 131,-196 131,-179 91,-179\"/>\n<text text-anchor=\"start\" x=\"95\" y=\"-185\" font-family=\"Times,serif\" font-size=\"10.00\">C[4][H]</text>\n<polygon fill=\"none\" stroke=\"black\" points=\"91,-158 91,-179 131,-179 131,-158 91,-158\"/>\n<text text-anchor=\"start\" x=\"94\" y=\"-164.8\" font-family=\"Times,serif\" font-size=\"14.00\">ctrl[0]</text>\n<polygon fill=\"none\" stroke=\"black\" points=\"91,-137 91,-158 131,-158 131,-137 91,-137\"/>\n<text text-anchor=\"start\" x=\"94\" y=\"-143.8\" font-family=\"Times,serif\" font-size=\"14.00\">ctrl[1]</text>\n<polygon fill=\"none\" stroke=\"black\" points=\"91,-116 91,-137 131,-137 131,-116 91,-116\"/>\n<text text-anchor=\"start\" x=\"94\" y=\"-122.8\" font-family=\"Times,serif\" font-size=\"14.00\">ctrl[2]</text>\n<polygon fill=\"none\" stroke=\"black\" points=\"91,-95 91,-116 131,-116 131,-95 91,-95\"/>\n<text text-anchor=\"start\" x=\"94\" y=\"-101.8\" font-family=\"Times,serif\" font-size=\"14.00\">ctrl[3]</text>\n<polygon fill=\"none\" stroke=\"black\" points=\"91,-74 91,-95 131,-95 131,-74 91,-74\"/>\n<text text-anchor=\"start\" x=\"107.5\" y=\"-80.8\" font-family=\"Times,serif\" font-size=\"14.00\">q</text>\n</g>\n<!-- ctrl_G7&#45;&gt;ControlledViaAnd -->\n<g id=\"edge1\" class=\"edge\">\n<title>ctrl_G7:e-&gt;ControlledViaAnd:w</title>\n<path fill=\"none\" stroke=\"black\" d=\"M54,-234C86.46,-234 59.11,-172.01 88.76,-169.11\"/>\n<ellipse fill=\"black\" stroke=\"black\" cx=\"90\" cy=\"-169.05\" rx=\"1\" ry=\"1\"/>\n<text text-anchor=\"middle\" x=\"72.5\" y=\"-210\" font-family=\"Times,serif\" font-size=\"10.00\">1</text>\n</g>\n<!-- ctrl_G5 -->\n<g id=\"node2\" class=\"node\">\n<title>ctrl_G5</title>\n<text text-anchor=\"middle\" x=\"27\" y=\"-176.3\" font-family=\"Times,serif\" font-size=\"14.00\">ctrl[1]</text>\n</g>\n<!-- ctrl_G5&#45;&gt;ControlledViaAnd -->\n<g id=\"edge2\" class=\"edge\">\n<title>ctrl_G5:e-&gt;ControlledViaAnd:w</title>\n<path fill=\"none\" stroke=\"black\" d=\"M54,-180C74.89,-180 69.72,-150.45 88.58,-148.14\"/>\n<ellipse fill=\"black\" stroke=\"black\" cx=\"90\" cy=\"-148.06\" rx=\"1\" ry=\"1\"/>\n<text text-anchor=\"middle\" x=\"72.5\" y=\"-167\" font-family=\"Times,serif\" font-size=\"10.00\">1</text>\n</g>\n<!-- ctrl_G13 -->\n<g id=\"node3\" class=\"node\">\n<title>ctrl_G13</title>\n<text text-anchor=\"middle\" x=\"27\" y=\"-122.3\" font-family=\"Times,serif\" font-size=\"14.00\">ctrl[2]</text>\n</g>\n<!-- ctrl_G13&#45;&gt;ControlledViaAnd -->\n<g id=\"edge3\" class=\"edge\">\n<title>ctrl_G13:e-&gt;ControlledViaAnd:w</title>\n<path fill=\"none\" stroke=\"black\" d=\"M54,-126C69.67,-126 74.14,-126 88.77,-126\"/>\n<ellipse fill=\"black\" stroke=\"black\" cx=\"90\" cy=\"-126\" rx=\"1\" ry=\"1\"/>\n<text text-anchor=\"middle\" x=\"72.5\" y=\"-129\" font-family=\"Times,serif\" font-size=\"10.00\">1</text>\n</g>\n<!-- ctrl_G6 -->\n<g id=\"node4\" class=\"node\">\n<title>ctrl_G6</title>\n<text text-anchor=\"middle\" x=\"27\" y=\"-68.3\" font-family=\"Times,serif\" font-size=\"14.00\">ctrl[3]</text>\n</g>\n<!-- ctrl_G6&#45;&gt;ControlledViaAnd -->\n<g id=\"edge4\" class=\"edge\">\n<title>ctrl_G6:e-&gt;ControlledViaAnd:w</title>\n<path fill=\"none\" stroke=\"black\" d=\"M54,-72C75.17,-72 69.47,-102.47 88.55,-104.85\"/>\n<ellipse fill=\"black\" stroke=\"black\" cx=\"90\" cy=\"-104.94\" rx=\"1\" ry=\"1\"/>\n<text text-anchor=\"middle\" x=\"72.5\" y=\"-92\" font-family=\"Times,serif\" font-size=\"10.00\">1</text>\n</g>\n<!-- q_G4 -->\n<g id=\"node5\" class=\"node\">\n<title>q_G4</title>\n<text text-anchor=\"middle\" x=\"27\" y=\"-14.3\" font-family=\"Times,serif\" font-size=\"14.00\">q</text>\n</g>\n<!-- q_G4&#45;&gt;ControlledViaAnd -->\n<g id=\"edge5\" class=\"edge\">\n<title>q_G4:e-&gt;ControlledViaAnd:w</title>\n<path fill=\"none\" stroke=\"black\" d=\"M54,-18C86.84,-18 58.75,-80.94 88.74,-83.89\"/>\n<ellipse fill=\"black\" stroke=\"black\" cx=\"90\" cy=\"-83.95\" rx=\"1\" ry=\"1\"/>\n<text text-anchor=\"middle\" x=\"72.5\" y=\"-62\" font-family=\"Times,serif\" font-size=\"10.00\">1</text>\n</g>\n<!-- ctrl_G14 -->\n<g id=\"node7\" class=\"node\">\n<title>ctrl_G14</title>\n<text text-anchor=\"middle\" x=\"195\" y=\"-230.3\" font-family=\"Times,serif\" font-size=\"14.00\">ctrl[0]</text>\n</g>\n<!-- ControlledViaAnd&#45;&gt;ctrl_G14 -->\n<g id=\"edge6\" class=\"edge\">\n<title>ControlledViaAnd:e-&gt;ctrl_G14:w</title>\n<path fill=\"none\" stroke=\"black\" d=\"M131,-169C163.46,-169 136.11,-230.99 165.76,-233.89\"/>\n<ellipse fill=\"black\" stroke=\"black\" cx=\"167\" cy=\"-233.95\" rx=\"1\" ry=\"1\"/>\n<text text-anchor=\"middle\" x=\"149.5\" y=\"-210\" font-family=\"Times,serif\" font-size=\"10.00\">1</text>\n</g>\n<!-- ctrl_G12 -->\n<g id=\"node8\" class=\"node\">\n<title>ctrl_G12</title>\n<text text-anchor=\"middle\" x=\"195\" y=\"-176.3\" font-family=\"Times,serif\" font-size=\"14.00\">ctrl[1]</text>\n</g>\n<!-- ControlledViaAnd&#45;&gt;ctrl_G12 -->\n<g id=\"edge7\" class=\"edge\">\n<title>ControlledViaAnd:e-&gt;ctrl_G12:w</title>\n<path fill=\"none\" stroke=\"black\" d=\"M131,-148C151.89,-148 146.72,-177.55 165.58,-179.86\"/>\n<ellipse fill=\"black\" stroke=\"black\" cx=\"167\" cy=\"-179.94\" rx=\"1\" ry=\"1\"/>\n<text text-anchor=\"middle\" x=\"149.5\" y=\"-167\" font-family=\"Times,serif\" font-size=\"10.00\">1</text>\n</g>\n<!-- ctrl_G2 -->\n<g id=\"node9\" class=\"node\">\n<title>ctrl_G2</title>\n<text text-anchor=\"middle\" x=\"195\" y=\"-122.3\" font-family=\"Times,serif\" font-size=\"14.00\">ctrl[2]</text>\n</g>\n<!-- ControlledViaAnd&#45;&gt;ctrl_G2 -->\n<g id=\"edge8\" class=\"edge\">\n<title>ControlledViaAnd:e-&gt;ctrl_G2:w</title>\n<path fill=\"none\" stroke=\"black\" d=\"M131,-126C146.67,-126 151.14,-126 165.77,-126\"/>\n<ellipse fill=\"black\" stroke=\"black\" cx=\"167\" cy=\"-126\" rx=\"1\" ry=\"1\"/>\n<text text-anchor=\"middle\" x=\"149.5\" y=\"-129\" font-family=\"Times,serif\" font-size=\"10.00\">1</text>\n</g>\n<!-- ctrl_G9 -->\n<g id=\"node10\" class=\"node\">\n<title>ctrl_G9</title>\n<text text-anchor=\"middle\" x=\"195\" y=\"-68.3\" font-family=\"Times,serif\" font-size=\"14.00\">ctrl[3]</text>\n</g>\n<!-- ControlledViaAnd&#45;&gt;ctrl_G9 -->\n<g id=\"edge9\" class=\"edge\">\n<title>ControlledViaAnd:e-&gt;ctrl_G9:w</title>\n<path fill=\"none\" stroke=\"black\" d=\"M131,-105C152.17,-105 146.47,-74.53 165.55,-72.15\"/>\n<ellipse fill=\"black\" stroke=\"black\" cx=\"167\" cy=\"-72.06\" rx=\"1\" ry=\"1\"/>\n<text text-anchor=\"middle\" x=\"149.5\" y=\"-92\" font-family=\"Times,serif\" font-size=\"10.00\">1</text>\n</g>\n<!-- q_G10 -->\n<g id=\"node11\" class=\"node\">\n<title>q_G10</title>\n<text text-anchor=\"middle\" x=\"195\" y=\"-14.3\" font-family=\"Times,serif\" font-size=\"14.00\">q</text>\n</g>\n<!-- ControlledViaAnd&#45;&gt;q_G10 -->\n<g id=\"edge10\" class=\"edge\">\n<title>ControlledViaAnd:e-&gt;q_G10:w</title>\n<path fill=\"none\" stroke=\"black\" d=\"M131,-84C163.84,-84 135.75,-21.06 165.74,-18.11\"/>\n<ellipse fill=\"black\" stroke=\"black\" cx=\"167\" cy=\"-18.05\" rx=\"1\" ry=\"1\"/>\n<text text-anchor=\"middle\" x=\"149.5\" y=\"-62\" font-family=\"Times,serif\" font-size=\"10.00\">1</text>\n</g>\n</g>\n</svg>",
          "text/plain": "<IPython.core.display.SVG object>"
         },
         "metadata": {},
         "output_type": "display_data"
        }
       ],
       "tabbable": null,
       "tooltip": null
      }
     },
     "b9b04a0efd384eb88f8b0531838ee2c8": {
      "model_module": "@jupyter-widgets/base",
      "model_module_version": "2.0.0",
      "model_name": "LayoutModel",
      "state": {
       "_model_module": "@jupyter-widgets/base",
       "_model_module_version": "2.0.0",
       "_model_name": "LayoutModel",
       "_view_count": null,
       "_view_module": "@jupyter-widgets/base",
       "_view_module_version": "2.0.0",
       "_view_name": "LayoutView",
       "align_content": null,
       "align_items": null,
       "align_self": null,
       "border_bottom": null,
       "border_left": null,
       "border_right": null,
       "border_top": null,
       "bottom": null,
       "display": null,
       "flex": null,
       "flex_flow": null,
       "grid_area": null,
       "grid_auto_columns": null,
       "grid_auto_flow": null,
       "grid_auto_rows": null,
       "grid_column": null,
       "grid_gap": null,
       "grid_row": null,
       "grid_template_areas": null,
       "grid_template_columns": null,
       "grid_template_rows": null,
       "height": null,
       "justify_content": null,
       "justify_items": null,
       "left": null,
       "margin": null,
       "max_height": null,
       "max_width": null,
       "min_height": null,
       "min_width": null,
       "object_fit": null,
       "object_position": null,
       "order": null,
       "overflow": null,
       "padding": null,
       "right": null,
       "top": null,
       "visibility": null,
       "width": null
      }
     },
     "cb5bcd309c3349b5a28eacd5a3b821f1": {
      "model_module": "@jupyter-widgets/base",
      "model_module_version": "2.0.0",
      "model_name": "LayoutModel",
      "state": {
       "_model_module": "@jupyter-widgets/base",
       "_model_module_version": "2.0.0",
       "_model_name": "LayoutModel",
       "_view_count": null,
       "_view_module": "@jupyter-widgets/base",
       "_view_module_version": "2.0.0",
       "_view_name": "LayoutView",
       "align_content": null,
       "align_items": null,
       "align_self": null,
       "border_bottom": null,
       "border_left": null,
       "border_right": null,
       "border_top": null,
       "bottom": null,
       "display": null,
       "flex": null,
       "flex_flow": null,
       "grid_area": null,
       "grid_auto_columns": null,
       "grid_auto_flow": null,
       "grid_auto_rows": null,
       "grid_column": null,
       "grid_gap": null,
       "grid_row": null,
       "grid_template_areas": null,
       "grid_template_columns": null,
       "grid_template_rows": null,
       "height": null,
       "justify_content": null,
       "justify_items": null,
       "left": null,
       "margin": null,
       "max_height": null,
       "max_width": null,
       "min_height": null,
       "min_width": null,
       "object_fit": null,
       "object_position": null,
       "order": null,
       "overflow": null,
       "padding": null,
       "right": null,
       "top": null,
       "visibility": null,
       "width": null
      }
     },
     "cd4dea58be1c48e3b14105139abd5054": {
      "model_module": "@jupyter-widgets/output",
      "model_module_version": "1.0.0",
      "model_name": "OutputModel",
      "state": {
       "_dom_classes": [],
       "_model_module": "@jupyter-widgets/output",
       "_model_module_version": "1.0.0",
       "_model_name": "OutputModel",
       "_view_count": null,
       "_view_module": "@jupyter-widgets/output",
       "_view_module_version": "1.0.0",
       "_view_name": "OutputView",
       "layout": "IPY_MODEL_63e68f5b5fd14c2685904a9898713a7b",
       "msg_id": "",
       "outputs": [
        {
         "data": {
          "text/markdown": "`controlled_via_and_ints`",
          "text/plain": "<IPython.core.display.Markdown object>"
         },
         "metadata": {},
         "output_type": "display_data"
        },
        {
         "data": {
          "image/svg+xml": "<svg xmlns=\"http://www.w3.org/2000/svg\" xmlns:xlink=\"http://www.w3.org/1999/xlink\" width=\"243pt\" height=\"476pt\" viewBox=\"0.00 0.00 243.00 476.00\">\n<g id=\"graph0\" class=\"graph\" transform=\"scale(1 1) rotate(0) translate(4 472)\">\n<title>my_graph</title>\n<polygon fill=\"white\" stroke=\"transparent\" points=\"-4,4 -4,-472 239,-472 239,4 -4,4\"/>\n<!-- ctrl1_G22 -->\n<g id=\"node1\" class=\"node\">\n<title>ctrl1_G22</title>\n<text text-anchor=\"middle\" x=\"28.5\" y=\"-446.3\" font-family=\"Times,serif\" font-size=\"14.00\">ctrl1[0]</text>\n</g>\n<!-- ControlledViaAnd -->\n<g id=\"node10\" class=\"node\">\n<title>ControlledViaAnd</title>\n<polygon fill=\"none\" stroke=\"black\" points=\"94.5,-329 94.5,-346 141.5,-346 141.5,-329 94.5,-329\"/>\n<text text-anchor=\"start\" x=\"99.5\" y=\"-335\" font-family=\"Times,serif\" font-size=\"10.00\">C[32][H]</text>\n<polygon fill=\"none\" stroke=\"black\" points=\"94.5,-308 94.5,-329 141.5,-329 141.5,-308 94.5,-308\"/>\n<text text-anchor=\"start\" x=\"97.5\" y=\"-314.8\" font-family=\"Times,serif\" font-size=\"14.00\">ctrl1[0]</text>\n<polygon fill=\"none\" stroke=\"black\" points=\"94.5,-287 94.5,-308 141.5,-308 141.5,-287 94.5,-287\"/>\n<text text-anchor=\"start\" x=\"97.5\" y=\"-293.8\" font-family=\"Times,serif\" font-size=\"14.00\">ctrl1[1]</text>\n<polygon fill=\"none\" stroke=\"black\" points=\"94.5,-266 94.5,-287 141.5,-287 141.5,-266 94.5,-266\"/>\n<text text-anchor=\"start\" x=\"97.5\" y=\"-272.8\" font-family=\"Times,serif\" font-size=\"14.00\">ctrl1[2]</text>\n<polygon fill=\"none\" stroke=\"black\" points=\"94.5,-245 94.5,-266 141.5,-266 141.5,-245 94.5,-245\"/>\n<text text-anchor=\"start\" x=\"97.5\" y=\"-251.8\" font-family=\"Times,serif\" font-size=\"14.00\">ctrl1[3]</text>\n<polygon fill=\"none\" stroke=\"black\" points=\"94.5,-224 94.5,-245 141.5,-245 141.5,-224 94.5,-224\"/>\n<text text-anchor=\"start\" x=\"97.5\" y=\"-230.8\" font-family=\"Times,serif\" font-size=\"14.00\">ctrl2[0]</text>\n<polygon fill=\"none\" stroke=\"black\" points=\"94.5,-203 94.5,-224 141.5,-224 141.5,-203 94.5,-203\"/>\n<text text-anchor=\"start\" x=\"97.5\" y=\"-209.8\" font-family=\"Times,serif\" font-size=\"14.00\">ctrl2[1]</text>\n<polygon fill=\"none\" stroke=\"black\" points=\"94.5,-182 94.5,-203 141.5,-203 141.5,-182 94.5,-182\"/>\n<text text-anchor=\"start\" x=\"97.5\" y=\"-188.8\" font-family=\"Times,serif\" font-size=\"14.00\">ctrl2[2]</text>\n<polygon fill=\"none\" stroke=\"black\" points=\"94.5,-161 94.5,-182 141.5,-182 141.5,-161 94.5,-161\"/>\n<text text-anchor=\"start\" x=\"97.5\" y=\"-167.8\" font-family=\"Times,serif\" font-size=\"14.00\">ctrl2[3]</text>\n<polygon fill=\"none\" stroke=\"black\" points=\"94.5,-140 94.5,-161 141.5,-161 141.5,-140 94.5,-140\"/>\n<text text-anchor=\"start\" x=\"114.5\" y=\"-146.8\" font-family=\"Times,serif\" font-size=\"14.00\">q</text>\n</g>\n<!-- ctrl1_G22&#45;&gt;ControlledViaAnd -->\n<g id=\"edge1\" class=\"edge\">\n<title>ctrl1_G22:e-&gt;ControlledViaAnd:w</title>\n<path fill=\"none\" stroke=\"black\" d=\"M57,-450C86.54,-450 64.82,-325.07 91.96,-319.21\"/>\n<ellipse fill=\"black\" stroke=\"black\" cx=\"93.01\" cy=\"-319.1\" rx=\"1\" ry=\"1\"/>\n<text text-anchor=\"middle\" x=\"75.5\" y=\"-395\" font-family=\"Times,serif\" font-size=\"10.00\">4</text>\n</g>\n<!-- ctrl1_G21 -->\n<g id=\"node2\" class=\"node\">\n<title>ctrl1_G21</title>\n<text text-anchor=\"middle\" x=\"28.5\" y=\"-392.3\" font-family=\"Times,serif\" font-size=\"14.00\">ctrl1[1]</text>\n</g>\n<!-- ctrl1_G21&#45;&gt;ControlledViaAnd -->\n<g id=\"edge2\" class=\"edge\">\n<title>ctrl1_G21:e-&gt;ControlledViaAnd:w</title>\n<path fill=\"none\" stroke=\"black\" d=\"M57,-396C79.55,-396 71.29,-304.03 91.91,-298.28\"/>\n<ellipse fill=\"black\" stroke=\"black\" cx=\"93.01\" cy=\"-298.13\" rx=\"1\" ry=\"1\"/>\n<text text-anchor=\"middle\" x=\"75.5\" y=\"-352\" font-family=\"Times,serif\" font-size=\"10.00\">4</text>\n</g>\n<!-- ctrl1_G24 -->\n<g id=\"node3\" class=\"node\">\n<title>ctrl1_G24</title>\n<text text-anchor=\"middle\" x=\"28.5\" y=\"-338.3\" font-family=\"Times,serif\" font-size=\"14.00\">ctrl1[2]</text>\n</g>\n<!-- ctrl1_G24&#45;&gt;ControlledViaAnd -->\n<g id=\"edge3\" class=\"edge\">\n<title>ctrl1_G24:e-&gt;ControlledViaAnd:w</title>\n<path fill=\"none\" stroke=\"black\" d=\"M57,-342C89.46,-342 62.11,-280.01 91.76,-277.11\"/>\n<ellipse fill=\"black\" stroke=\"black\" cx=\"93\" cy=\"-277.05\" rx=\"1\" ry=\"1\"/>\n<text text-anchor=\"middle\" x=\"75.5\" y=\"-318\" font-family=\"Times,serif\" font-size=\"10.00\">4</text>\n</g>\n<!-- ctrl1_G4 -->\n<g id=\"node4\" class=\"node\">\n<title>ctrl1_G4</title>\n<text text-anchor=\"middle\" x=\"28.5\" y=\"-284.3\" font-family=\"Times,serif\" font-size=\"14.00\">ctrl1[3]</text>\n</g>\n<!-- ctrl1_G4&#45;&gt;ControlledViaAnd -->\n<g id=\"edge4\" class=\"edge\">\n<title>ctrl1_G4:e-&gt;ControlledViaAnd:w</title>\n<path fill=\"none\" stroke=\"black\" d=\"M57,-288C77.89,-288 72.72,-258.45 91.58,-256.14\"/>\n<ellipse fill=\"black\" stroke=\"black\" cx=\"93\" cy=\"-256.06\" rx=\"1\" ry=\"1\"/>\n<text text-anchor=\"middle\" x=\"75.5\" y=\"-275\" font-family=\"Times,serif\" font-size=\"10.00\">4</text>\n</g>\n<!-- ctrl2_G18 -->\n<g id=\"node5\" class=\"node\">\n<title>ctrl2_G18</title>\n<text text-anchor=\"middle\" x=\"28.5\" y=\"-230.3\" font-family=\"Times,serif\" font-size=\"14.00\">ctrl2[0]</text>\n</g>\n<!-- ctrl2_G18&#45;&gt;ControlledViaAnd -->\n<g id=\"edge5\" class=\"edge\">\n<title>ctrl2_G18:e-&gt;ControlledViaAnd:w</title>\n<path fill=\"none\" stroke=\"black\" d=\"M57,-234C72.67,-234 77.14,-234 91.77,-234\"/>\n<ellipse fill=\"black\" stroke=\"black\" cx=\"93\" cy=\"-234\" rx=\"1\" ry=\"1\"/>\n<text text-anchor=\"middle\" x=\"75.5\" y=\"-237\" font-family=\"Times,serif\" font-size=\"10.00\">4</text>\n</g>\n<!-- ctrl2_G11 -->\n<g id=\"node6\" class=\"node\">\n<title>ctrl2_G11</title>\n<text text-anchor=\"middle\" x=\"28.5\" y=\"-176.3\" font-family=\"Times,serif\" font-size=\"14.00\">ctrl2[1]</text>\n</g>\n<!-- ctrl2_G11&#45;&gt;ControlledViaAnd -->\n<g id=\"edge6\" class=\"edge\">\n<title>ctrl2_G11:e-&gt;ControlledViaAnd:w</title>\n<path fill=\"none\" stroke=\"black\" d=\"M57,-180C78.17,-180 72.47,-210.47 91.55,-212.85\"/>\n<ellipse fill=\"black\" stroke=\"black\" cx=\"93\" cy=\"-212.94\" rx=\"1\" ry=\"1\"/>\n<text text-anchor=\"middle\" x=\"75.5\" y=\"-200\" font-family=\"Times,serif\" font-size=\"10.00\">4</text>\n</g>\n<!-- ctrl2_G19 -->\n<g id=\"node7\" class=\"node\">\n<title>ctrl2_G19</title>\n<text text-anchor=\"middle\" x=\"28.5\" y=\"-122.3\" font-family=\"Times,serif\" font-size=\"14.00\">ctrl2[2]</text>\n</g>\n<!-- ctrl2_G19&#45;&gt;ControlledViaAnd -->\n<g id=\"edge7\" class=\"edge\">\n<title>ctrl2_G19:e-&gt;ControlledViaAnd:w</title>\n<path fill=\"none\" stroke=\"black\" d=\"M57,-126C89.84,-126 61.75,-188.94 91.74,-191.89\"/>\n<ellipse fill=\"black\" stroke=\"black\" cx=\"93\" cy=\"-191.95\" rx=\"1\" ry=\"1\"/>\n<text text-anchor=\"middle\" x=\"75.5\" y=\"-169\" font-family=\"Times,serif\" font-size=\"10.00\">4</text>\n</g>\n<!-- ctrl2_G0 -->\n<g id=\"node8\" class=\"node\">\n<title>ctrl2_G0</title>\n<text text-anchor=\"middle\" x=\"28.5\" y=\"-68.3\" font-family=\"Times,serif\" font-size=\"14.00\">ctrl2[3]</text>\n</g>\n<!-- ctrl2_G0&#45;&gt;ControlledViaAnd -->\n<g id=\"edge8\" class=\"edge\">\n<title>ctrl2_G0:e-&gt;ControlledViaAnd:w</title>\n<path fill=\"none\" stroke=\"black\" d=\"M57,-72C79.75,-72 71.1,-164.91 91.89,-170.72\"/>\n<ellipse fill=\"black\" stroke=\"black\" cx=\"93.01\" cy=\"-170.87\" rx=\"1\" ry=\"1\"/>\n<text text-anchor=\"middle\" x=\"75.5\" y=\"-127\" font-family=\"Times,serif\" font-size=\"10.00\">4</text>\n</g>\n<!-- q_G20 -->\n<g id=\"node9\" class=\"node\">\n<title>q_G20</title>\n<text text-anchor=\"middle\" x=\"28.5\" y=\"-14.3\" font-family=\"Times,serif\" font-size=\"14.00\">q</text>\n</g>\n<!-- q_G20&#45;&gt;ControlledViaAnd -->\n<g id=\"edge9\" class=\"edge\">\n<title>q_G20:e-&gt;ControlledViaAnd:w</title>\n<path fill=\"none\" stroke=\"black\" d=\"M56.5,-18C86.28,-18 64.58,-143.89 91.94,-149.79\"/>\n<ellipse fill=\"black\" stroke=\"black\" cx=\"93.01\" cy=\"-149.9\" rx=\"1\" ry=\"1\"/>\n<text text-anchor=\"middle\" x=\"75.5\" y=\"-99\" font-family=\"Times,serif\" font-size=\"10.00\">1</text>\n</g>\n<!-- ctrl1_G12 -->\n<g id=\"node11\" class=\"node\">\n<title>ctrl1_G12</title>\n<text text-anchor=\"middle\" x=\"206.5\" y=\"-446.3\" font-family=\"Times,serif\" font-size=\"14.00\">ctrl1[0]</text>\n</g>\n<!-- ControlledViaAnd&#45;&gt;ctrl1_G12 -->\n<g id=\"edge10\" class=\"edge\">\n<title>ControlledViaAnd:e-&gt;ctrl1_G12:w</title>\n<path fill=\"none\" stroke=\"black\" d=\"M141,-319C170.54,-319 148.82,-443.93 175.96,-449.79\"/>\n<ellipse fill=\"black\" stroke=\"black\" cx=\"177.01\" cy=\"-449.9\" rx=\"1\" ry=\"1\"/>\n<text text-anchor=\"middle\" x=\"159.5\" y=\"-395\" font-family=\"Times,serif\" font-size=\"10.00\">4</text>\n</g>\n<!-- ctrl1_G7 -->\n<g id=\"node12\" class=\"node\">\n<title>ctrl1_G7</title>\n<text text-anchor=\"middle\" x=\"206.5\" y=\"-392.3\" font-family=\"Times,serif\" font-size=\"14.00\">ctrl1[1]</text>\n</g>\n<!-- ControlledViaAnd&#45;&gt;ctrl1_G7 -->\n<g id=\"edge11\" class=\"edge\">\n<title>ControlledViaAnd:e-&gt;ctrl1_G7:w</title>\n<path fill=\"none\" stroke=\"black\" d=\"M141,-298C163.55,-298 155.29,-389.97 175.91,-395.72\"/>\n<ellipse fill=\"black\" stroke=\"black\" cx=\"177.01\" cy=\"-395.87\" rx=\"1\" ry=\"1\"/>\n<text text-anchor=\"middle\" x=\"159.5\" y=\"-352\" font-family=\"Times,serif\" font-size=\"10.00\">4</text>\n</g>\n<!-- ctrl1_G13 -->\n<g id=\"node13\" class=\"node\">\n<title>ctrl1_G13</title>\n<text text-anchor=\"middle\" x=\"206.5\" y=\"-338.3\" font-family=\"Times,serif\" font-size=\"14.00\">ctrl1[2]</text>\n</g>\n<!-- ControlledViaAnd&#45;&gt;ctrl1_G13 -->\n<g id=\"edge12\" class=\"edge\">\n<title>ControlledViaAnd:e-&gt;ctrl1_G13:w</title>\n<path fill=\"none\" stroke=\"black\" d=\"M141,-277C173.46,-277 146.11,-338.99 175.76,-341.89\"/>\n<ellipse fill=\"black\" stroke=\"black\" cx=\"177\" cy=\"-341.95\" rx=\"1\" ry=\"1\"/>\n<text text-anchor=\"middle\" x=\"159.5\" y=\"-318\" font-family=\"Times,serif\" font-size=\"10.00\">4</text>\n</g>\n<!-- ctrl1_G23 -->\n<g id=\"node14\" class=\"node\">\n<title>ctrl1_G23</title>\n<text text-anchor=\"middle\" x=\"206.5\" y=\"-284.3\" font-family=\"Times,serif\" font-size=\"14.00\">ctrl1[3]</text>\n</g>\n<!-- ControlledViaAnd&#45;&gt;ctrl1_G23 -->\n<g id=\"edge13\" class=\"edge\">\n<title>ControlledViaAnd:e-&gt;ctrl1_G23:w</title>\n<path fill=\"none\" stroke=\"black\" d=\"M141,-256C161.89,-256 156.72,-285.55 175.58,-287.86\"/>\n<ellipse fill=\"black\" stroke=\"black\" cx=\"177\" cy=\"-287.94\" rx=\"1\" ry=\"1\"/>\n<text text-anchor=\"middle\" x=\"159.5\" y=\"-275\" font-family=\"Times,serif\" font-size=\"10.00\">4</text>\n</g>\n<!-- ctrl2_G6 -->\n<g id=\"node15\" class=\"node\">\n<title>ctrl2_G6</title>\n<text text-anchor=\"middle\" x=\"206.5\" y=\"-230.3\" font-family=\"Times,serif\" font-size=\"14.00\">ctrl2[0]</text>\n</g>\n<!-- ControlledViaAnd&#45;&gt;ctrl2_G6 -->\n<g id=\"edge14\" class=\"edge\">\n<title>ControlledViaAnd:e-&gt;ctrl2_G6:w</title>\n<path fill=\"none\" stroke=\"black\" d=\"M141,-234C156.67,-234 161.14,-234 175.77,-234\"/>\n<ellipse fill=\"black\" stroke=\"black\" cx=\"177\" cy=\"-234\" rx=\"1\" ry=\"1\"/>\n<text text-anchor=\"middle\" x=\"159.5\" y=\"-237\" font-family=\"Times,serif\" font-size=\"10.00\">4</text>\n</g>\n<!-- ctrl2_G3 -->\n<g id=\"node16\" class=\"node\">\n<title>ctrl2_G3</title>\n<text text-anchor=\"middle\" x=\"206.5\" y=\"-176.3\" font-family=\"Times,serif\" font-size=\"14.00\">ctrl2[1]</text>\n</g>\n<!-- ControlledViaAnd&#45;&gt;ctrl2_G3 -->\n<g id=\"edge15\" class=\"edge\">\n<title>ControlledViaAnd:e-&gt;ctrl2_G3:w</title>\n<path fill=\"none\" stroke=\"black\" d=\"M141,-213C162.17,-213 156.47,-182.53 175.55,-180.15\"/>\n<ellipse fill=\"black\" stroke=\"black\" cx=\"177\" cy=\"-180.06\" rx=\"1\" ry=\"1\"/>\n<text text-anchor=\"middle\" x=\"159.5\" y=\"-200\" font-family=\"Times,serif\" font-size=\"10.00\">4</text>\n</g>\n<!-- ctrl2_G9 -->\n<g id=\"node17\" class=\"node\">\n<title>ctrl2_G9</title>\n<text text-anchor=\"middle\" x=\"206.5\" y=\"-122.3\" font-family=\"Times,serif\" font-size=\"14.00\">ctrl2[2]</text>\n</g>\n<!-- ControlledViaAnd&#45;&gt;ctrl2_G9 -->\n<g id=\"edge16\" class=\"edge\">\n<title>ControlledViaAnd:e-&gt;ctrl2_G9:w</title>\n<path fill=\"none\" stroke=\"black\" d=\"M141,-192C173.84,-192 145.75,-129.06 175.74,-126.11\"/>\n<ellipse fill=\"black\" stroke=\"black\" cx=\"177\" cy=\"-126.05\" rx=\"1\" ry=\"1\"/>\n<text text-anchor=\"middle\" x=\"159.5\" y=\"-169\" font-family=\"Times,serif\" font-size=\"10.00\">4</text>\n</g>\n<!-- ctrl2_G15 -->\n<g id=\"node18\" class=\"node\">\n<title>ctrl2_G15</title>\n<text text-anchor=\"middle\" x=\"206.5\" y=\"-68.3\" font-family=\"Times,serif\" font-size=\"14.00\">ctrl2[3]</text>\n</g>\n<!-- ControlledViaAnd&#45;&gt;ctrl2_G15 -->\n<g id=\"edge17\" class=\"edge\">\n<title>ControlledViaAnd:e-&gt;ctrl2_G15:w</title>\n<path fill=\"none\" stroke=\"black\" d=\"M141,-171C163.75,-171 155.1,-78.09 175.89,-72.28\"/>\n<ellipse fill=\"black\" stroke=\"black\" cx=\"177.01\" cy=\"-72.13\" rx=\"1\" ry=\"1\"/>\n<text text-anchor=\"middle\" x=\"159.5\" y=\"-127\" font-family=\"Times,serif\" font-size=\"10.00\">4</text>\n</g>\n<!-- q_G8 -->\n<g id=\"node19\" class=\"node\">\n<title>q_G8</title>\n<text text-anchor=\"middle\" x=\"206.5\" y=\"-14.3\" font-family=\"Times,serif\" font-size=\"14.00\">q</text>\n</g>\n<!-- ControlledViaAnd&#45;&gt;q_G8 -->\n<g id=\"edge18\" class=\"edge\">\n<title>ControlledViaAnd:e-&gt;q_G8:w</title>\n<path fill=\"none\" stroke=\"black\" d=\"M141,-150C170.78,-150 149.08,-24.11 176.44,-18.21\"/>\n<ellipse fill=\"black\" stroke=\"black\" cx=\"177.51\" cy=\"-18.1\" rx=\"1\" ry=\"1\"/>\n<text text-anchor=\"middle\" x=\"159.5\" y=\"-99\" font-family=\"Times,serif\" font-size=\"10.00\">1</text>\n</g>\n</g>\n</svg>",
          "text/plain": "<IPython.core.display.SVG object>"
         },
         "metadata": {},
         "output_type": "display_data"
        }
       ],
       "tabbable": null,
       "tooltip": null
      }
     },
     "d3aa65386d1e4368af9128bda4a25de7": {
      "model_module": "@jupyter-widgets/controls",
      "model_module_version": "2.0.0",
      "model_name": "HBoxModel",
      "state": {
       "_dom_classes": [],
       "_model_module": "@jupyter-widgets/controls",
       "_model_module_version": "2.0.0",
       "_model_name": "HBoxModel",
       "_view_count": null,
       "_view_module": "@jupyter-widgets/controls",
       "_view_module_version": "2.0.0",
       "_view_name": "HBoxView",
       "box_style": "",
       "children": [
        "IPY_MODEL_39dc4a73e5c04d0c8f206fe60801a3b4"
       ],
       "layout": "IPY_MODEL_51db6ede88f140e5b76092a4e5684c35",
       "tabbable": null,
       "tooltip": null
      }
     }
    },
    "version_major": 2,
    "version_minor": 0
   }
  }
 },
 "nbformat": 4,
 "nbformat_minor": 5
}
