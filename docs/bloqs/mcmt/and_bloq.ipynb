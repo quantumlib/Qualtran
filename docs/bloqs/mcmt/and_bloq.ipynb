{
 "cells": [
  {
   "cell_type": "markdown",
   "id": "0fe14f49",
   "metadata": {
    "cq.autogen": "title_cell"
   },
   "source": [
    "# And\n",
    "\n",
    "Bloqs for doing \"AND\" logical operations.\n",
    "\n",
    "The behavior is modified by the 'control variable' attributes. A traditional value of '1'\n",
    "means that a bit value of '1' is logical true for the and operation. A control value of\n",
    "'0' means that a bit value of '0' is the logical true.\n",
    "\n",
    "The `Toffoli` bloq is similar to the `And` bloq. Toffoli will flip the target bit according\n",
    "to the and of its control registers. `And` will output the result into a fresh register."
   ]
  },
  {
   "cell_type": "code",
   "execution_count": 1,
   "id": "47e0d2c9",
   "metadata": {
    "cq.autogen": "top_imports"
   },
   "outputs": [],
   "source": [
    "from qualtran import Bloq, CompositeBloq, BloqBuilder, Signature, Register\n",
    "from qualtran import QBit, QInt, QUInt, QAny\n",
    "from qualtran.drawing import show_bloq, show_call_graph, show_counts_sigma\n",
    "from typing import *\n",
    "import numpy as np\n",
    "import sympy\n",
    "import cirq"
   ]
  },
  {
   "cell_type": "markdown",
   "id": "dd63e8be",
   "metadata": {
    "cq.autogen": "And.bloq_doc.md"
   },
   "source": [
    "## `And`\n",
    "A two-bit 'and' operation optimized for T-count.\n",
    "\n",
    "#### Parameters\n",
    " - `cv1`: Whether the first bit is a positive control.\n",
    " - `cv2`: Whether the second bit is a positive control. \n",
    "\n",
    "#### Registers\n",
    " - `ctrl`: A two-bit control register.\n",
    " - `target [right]`: The output bit. \n",
    "\n",
    "#### References\n",
    " - [Encoding Electronic Spectra in Quantum Circuits with Linear T Complexity](https://arxiv.org/abs/1805.03662).     Babbush et al. 2018. Section III.A. and Fig. 4.\n",
    " - [Verifying Measurement Based Uncomputation](https://algassert.com/post/1903). Gidney, C. 2019.\n"
   ]
  },
  {
   "cell_type": "code",
   "execution_count": 2,
   "id": "4c4ec376",
   "metadata": {
    "cq.autogen": "And.bloq_doc.py"
   },
   "outputs": [],
   "source": [
    "from qualtran.bloqs.mcmt import And"
   ]
  },
  {
   "cell_type": "markdown",
   "id": "797e03e0",
   "metadata": {
    "cq.autogen": "And.example_instances.md"
   },
   "source": [
    "### Example Instances"
   ]
  },
  {
   "cell_type": "code",
   "execution_count": 3,
   "id": "222e5c17",
   "metadata": {
    "cq.autogen": "And.and_bloq"
   },
   "outputs": [],
   "source": [
    "and_bloq = And()"
   ]
  },
  {
   "cell_type": "markdown",
   "id": "83ee1466",
   "metadata": {
    "cq.autogen": "And.graphical_signature.md"
   },
   "source": [
    "#### Graphical Signature"
   ]
  },
  {
   "cell_type": "code",
   "execution_count": 4,
   "id": "099456c6",
   "metadata": {
    "cq.autogen": "And.graphical_signature.py"
   },
   "outputs": [
    {
     "data": {
      "application/vnd.jupyter.widget-view+json": {
       "model_id": "8adf536f981846bb8a854e5e54d7e12d",
       "version_major": 2,
       "version_minor": 0
      },
      "text/plain": [
       "HBox(children=(Output(outputs=({'output_type': 'display_data', 'data': {'text/plain': '<IPython.core.display.M…"
      ]
     },
     "metadata": {},
     "output_type": "display_data"
    }
   ],
   "source": [
    "from qualtran.drawing import show_bloqs\n",
    "show_bloqs([and_bloq],\n",
    "           ['`and_bloq`'])"
   ]
  },
  {
   "cell_type": "markdown",
   "id": "589f32bb",
   "metadata": {
    "cq.autogen": "And.call_graph.md"
   },
   "source": [
    "### Call Graph"
   ]
  },
  {
   "cell_type": "code",
   "execution_count": 5,
   "id": "3da10012",
   "metadata": {
    "cq.autogen": "And.call_graph.py"
   },
   "outputs": [
    {
     "data": {
      "image/svg+xml": [
       "<svg xmlns=\"http://www.w3.org/2000/svg\" xmlns:xlink=\"http://www.w3.org/1999/xlink\" width=\"62pt\" height=\"44pt\" viewBox=\"0.00 0.00 62.00 44.00\">\n",
       "<g id=\"graph0\" class=\"graph\" transform=\"scale(1 1) rotate(0) translate(4 40)\">\n",
       "<title>counts</title>\n",
       "<polygon fill=\"white\" stroke=\"transparent\" points=\"-4,4 -4,-40 58,-40 58,4 -4,4\"/>\n",
       "<!-- b0 -->\n",
       "<g id=\"node1\" class=\"node\">\n",
       "<title>b0</title>\n",
       "<polygon fill=\"none\" stroke=\"black\" points=\"11,-6 11,-29 43,-29 43,-6 11,-6\"/>\n",
       "<text text-anchor=\"start\" x=\"17.5\" y=\"-15\" font-family=\"Times,serif\" font-size=\"10.00\">And</text>\n",
       "</g>\n",
       "</g>\n",
       "</svg>"
      ],
      "text/plain": [
       "<IPython.core.display.SVG object>"
      ]
     },
     "metadata": {},
     "output_type": "display_data"
    },
    {
     "data": {
      "text/markdown": [
       "#### Counts totals:\n",
       " - `And`: 1"
      ],
      "text/plain": [
       "<IPython.core.display.Markdown object>"
      ]
     },
     "metadata": {},
     "output_type": "display_data"
    }
   ],
   "source": [
    "from qualtran.resource_counting.generalizers import ignore_split_join\n",
    "and_bloq_g, and_bloq_sigma = and_bloq.call_graph(max_depth=1, generalizer=ignore_split_join)\n",
    "show_call_graph(and_bloq_g)\n",
    "show_counts_sigma(and_bloq_sigma)"
   ]
  },
  {
   "cell_type": "markdown",
   "id": "76e25f29-0a5f-41b1-ba2f-e61cfdd2ebe1",
   "metadata": {},
   "source": [
    "### Clifford + T implementation\n",
    "\n",
    "`And` will be considered an Atomic (non-decomposable) bloq within the Qualtran standard library. An additional method is provided to assist in fully compiling to a Clifford+T gateset."
   ]
  },
  {
   "cell_type": "code",
   "execution_count": 6,
   "id": "4912636d-40aa-4db9-a383-88e77e8b5e14",
   "metadata": {},
   "outputs": [
    {
     "data": {
      "text/html": [
       "<pre style=\"overflow: auto; white-space: pre;\">ctrl_0: ───────────@───────X───T^-1──────────X───────────────\n",
       "                   │       │                 │\n",
       "ctrl_1: ───────────┼───@───┼───X──────T^-1───┼───X───────────\n",
       "                   │   │   │   │             │   │\n",
       "target: ───H───T───X───X───@───@──────T──────@───@───H───S───</pre>"
      ],
      "text/plain": [
       "ctrl_0: ───────────@───────X───T^-1──────────X───────────────\n",
       "                   │       │                 │\n",
       "ctrl_1: ───────────┼───@───┼───X──────T^-1───┼───X───────────\n",
       "                   │   │   │   │             │   │\n",
       "target: ───H───T───X───X───@───@──────T──────@───@───H───S───"
      ]
     },
     "execution_count": 6,
     "metadata": {},
     "output_type": "execute_result"
    }
   ],
   "source": [
    "and_bloq.to_clifford_t_circuit()"
   ]
  },
  {
   "cell_type": "code",
   "execution_count": 7,
   "id": "22496f4b-9bab-439e-bdf1-e10dc95c316d",
   "metadata": {},
   "outputs": [
    {
     "data": {
      "text/html": [
       "<pre style=\"overflow: auto; white-space: pre;\">                   ┌──┐\n",
       "ctrl_0: ────────────@─────\n",
       "                    ║\n",
       "ctrl_1: ────────────@─────\n",
       "                    ║\n",
       "target: ───H───M────╫R────\n",
       "               ║    ║\n",
       "target: ═══════@════^═════\n",
       "                   └──┘</pre>"
      ],
      "text/plain": [
       "                   ┌──┐\n",
       "ctrl_0: ────────────@─────\n",
       "                    ║\n",
       "ctrl_1: ────────────@─────\n",
       "                    ║\n",
       "target: ───H───M────╫R────\n",
       "               ║    ║\n",
       "target: ═══════@════^═════\n",
       "                   └──┘"
      ]
     },
     "execution_count": 7,
     "metadata": {},
     "output_type": "execute_result"
    }
   ],
   "source": [
    "and_bloq.adjoint().to_clifford_t_circuit()"
   ]
  },
  {
   "cell_type": "markdown",
   "id": "50800962",
   "metadata": {
    "cq.autogen": "MultiAnd.bloq_doc.md"
   },
   "source": [
    "## `MultiAnd`\n",
    "A many-bit (multi-control) 'and' operation.\n",
    "\n",
    "#### Parameters\n",
    " - `cvs`: A tuple of control variable settings. Each entry specifies whether that control line is a \"positive\" control (`cv[i]=1`) or a \"negative\" control `0`. If a HasLength object is passed, assumes the control values to be all 1's.  \n",
    "\n",
    "#### Registers\n",
    " - `ctrl`: An n-bit control register.\n",
    " - `junk [right]`: An `n-2` bit junk register to be cleaned up by the inverse operation.\n",
    " - `target [right]`: The output bit.\n"
   ]
  },
  {
   "cell_type": "code",
   "execution_count": 8,
   "id": "51233de9",
   "metadata": {
    "cq.autogen": "MultiAnd.bloq_doc.py"
   },
   "outputs": [],
   "source": [
    "from qualtran.bloqs.mcmt import MultiAnd"
   ]
  },
  {
   "cell_type": "markdown",
   "id": "0de01272",
   "metadata": {
    "cq.autogen": "MultiAnd.example_instances.md"
   },
   "source": [
    "### Example Instances"
   ]
  },
  {
   "cell_type": "code",
   "execution_count": 9,
   "id": "e3624703",
   "metadata": {
    "cq.autogen": "MultiAnd.multi_and"
   },
   "outputs": [],
   "source": [
    "multi_and = MultiAnd(cvs=(1, 0, 1, 0, 1, 0))"
   ]
  },
  {
   "cell_type": "markdown",
   "id": "bec95a47",
   "metadata": {
    "cq.autogen": "MultiAnd.graphical_signature.md"
   },
   "source": [
    "#### Graphical Signature"
   ]
  },
  {
   "cell_type": "code",
   "execution_count": 10,
   "id": "2065cd95",
   "metadata": {
    "cq.autogen": "MultiAnd.graphical_signature.py"
   },
   "outputs": [
    {
     "data": {
      "application/vnd.jupyter.widget-view+json": {
       "model_id": "b365286263c440d5bd05f481371cb0eb",
       "version_major": 2,
       "version_minor": 0
      },
      "text/plain": [
       "HBox(children=(Output(outputs=({'output_type': 'display_data', 'data': {'text/plain': '<IPython.core.display.M…"
      ]
     },
     "metadata": {},
     "output_type": "display_data"
    }
   ],
   "source": [
    "from qualtran.drawing import show_bloqs\n",
    "show_bloqs([multi_and],\n",
    "           ['`multi_and`'])"
   ]
  },
  {
   "cell_type": "markdown",
   "id": "533031f3",
   "metadata": {
    "cq.autogen": "MultiAnd.call_graph.md"
   },
   "source": [
    "### Call Graph"
   ]
  },
  {
   "cell_type": "code",
   "execution_count": 11,
   "id": "8b08e41b",
   "metadata": {
    "cq.autogen": "MultiAnd.call_graph.py"
   },
   "outputs": [
    {
     "data": {
      "image/svg+xml": [
       "<svg xmlns=\"http://www.w3.org/2000/svg\" xmlns:xlink=\"http://www.w3.org/1999/xlink\" width=\"134pt\" height=\"131pt\" viewBox=\"0.00 0.00 134.00 131.00\">\n",
       "<g id=\"graph0\" class=\"graph\" transform=\"scale(1 1) rotate(0) translate(4 127)\">\n",
       "<title>counts</title>\n",
       "<polygon fill=\"white\" stroke=\"transparent\" points=\"-4,4 -4,-127 130,-127 130,4 -4,4\"/>\n",
       "<!-- b0 -->\n",
       "<g id=\"node1\" class=\"node\">\n",
       "<title>b0</title>\n",
       "<polygon fill=\"none\" stroke=\"black\" points=\"25,-93 25,-116 101,-116 101,-93 25,-93\"/>\n",
       "<text text-anchor=\"start\" x=\"31\" y=\"-102\" font-family=\"Times,serif\" font-size=\"10.00\">MultiAnd(n=6)</text>\n",
       "</g>\n",
       "<!-- b1 -->\n",
       "<g id=\"node2\" class=\"node\">\n",
       "<title>b1</title>\n",
       "<polygon fill=\"none\" stroke=\"black\" points=\"11,-6 11,-29 43,-29 43,-6 11,-6\"/>\n",
       "<text text-anchor=\"start\" x=\"17.5\" y=\"-15\" font-family=\"Times,serif\" font-size=\"10.00\">And</text>\n",
       "</g>\n",
       "<!-- b0&#45;&gt;b1 -->\n",
       "<g id=\"edge1\" class=\"edge\">\n",
       "<title>b0-&gt;b1</title>\n",
       "<path fill=\"none\" stroke=\"black\" d=\"M55.71,-86.8C50.69,-74.93 43.91,-58.93 38.2,-45.45\"/>\n",
       "<polygon fill=\"black\" stroke=\"black\" points=\"41.4,-44.02 34.27,-36.18 34.95,-46.75 41.4,-44.02\"/>\n",
       "<text text-anchor=\"middle\" x=\"51.5\" y=\"-57.8\" font-family=\"Times,serif\" font-size=\"14.00\">5</text>\n",
       "</g>\n",
       "<!-- b2 -->\n",
       "<g id=\"node3\" class=\"node\">\n",
       "<title>b2</title>\n",
       "<polygon fill=\"none\" stroke=\"black\" points=\"89,-6 89,-29 109,-29 109,-6 89,-6\"/>\n",
       "<text text-anchor=\"start\" x=\"95\" y=\"-15\" font-family=\"Times,serif\" font-size=\"10.00\">X</text>\n",
       "</g>\n",
       "<!-- b0&#45;&gt;b2 -->\n",
       "<g id=\"edge2\" class=\"edge\">\n",
       "<title>b0-&gt;b2</title>\n",
       "<path fill=\"none\" stroke=\"black\" d=\"M70.29,-86.8C75.31,-74.93 82.09,-58.93 87.8,-45.45\"/>\n",
       "<polygon fill=\"black\" stroke=\"black\" points=\"91.05,-46.75 91.73,-36.18 84.6,-44.02 91.05,-46.75\"/>\n",
       "<text text-anchor=\"middle\" x=\"86.5\" y=\"-57.8\" font-family=\"Times,serif\" font-size=\"14.00\">6</text>\n",
       "</g>\n",
       "</g>\n",
       "</svg>"
      ],
      "text/plain": [
       "<IPython.core.display.SVG object>"
      ]
     },
     "metadata": {},
     "output_type": "display_data"
    },
    {
     "data": {
      "text/markdown": [
       "#### Counts totals:\n",
       " - `And`: 5\n",
       " - `X`: 6"
      ],
      "text/plain": [
       "<IPython.core.display.Markdown object>"
      ]
     },
     "metadata": {},
     "output_type": "display_data"
    }
   ],
   "source": [
    "from qualtran.resource_counting.generalizers import ignore_split_join\n",
    "multi_and_g, multi_and_sigma = multi_and.call_graph(max_depth=1, generalizer=ignore_split_join)\n",
    "show_call_graph(multi_and_g)\n",
    "show_counts_sigma(multi_and_sigma)"
   ]
  },
  {
   "cell_type": "markdown",
   "id": "1a29bb95",
   "metadata": {},
   "source": [
    "## Additional Demos"
   ]
  },
  {
   "cell_type": "markdown",
   "id": "bc24c183",
   "metadata": {},
   "source": [
    "### Testing with states and effects\n",
    "\n",
    "We can use `ZeroState` and its friends to test the truth table on this classical logic."
   ]
  },
  {
   "cell_type": "code",
   "execution_count": 12,
   "id": "979530da",
   "metadata": {},
   "outputs": [
    {
     "data": {
      "image/svg+xml": [
       "<svg xmlns=\"http://www.w3.org/2000/svg\" xmlns:xlink=\"http://www.w3.org/1999/xlink\" width=\"281pt\" height=\"233pt\" viewBox=\"0.00 0.00 281.00 233.00\">\n",
       "<g id=\"graph0\" class=\"graph\" transform=\"scale(1 1) rotate(0) translate(4 229)\">\n",
       "<title>my_graph</title>\n",
       "<polygon fill=\"white\" stroke=\"transparent\" points=\"-4,4 -4,-229 277,-229 277,4 -4,4\"/>\n",
       "<!-- And -->\n",
       "<g id=\"node1\" class=\"node\">\n",
       "<title>And</title>\n",
       "<polygon fill=\"none\" stroke=\"black\" points=\"57.5,-173 57.5,-190 100.5,-190 100.5,-173 57.5,-173\"/>\n",
       "<text text-anchor=\"start\" x=\"69.5\" y=\"-179\" font-family=\"Times,serif\" font-size=\"10.00\">And</text>\n",
       "<polygon fill=\"none\" stroke=\"black\" points=\"57.5,-152 57.5,-173 100.5,-173 100.5,-152 57.5,-152\"/>\n",
       "<text text-anchor=\"start\" x=\"62\" y=\"-158.8\" font-family=\"Times,serif\" font-size=\"14.00\">ctrl[0]</text>\n",
       "<polygon fill=\"none\" stroke=\"black\" points=\"57.5,-131 57.5,-152 100.5,-152 100.5,-131 57.5,-131\"/>\n",
       "<text text-anchor=\"start\" x=\"62\" y=\"-137.8\" font-family=\"Times,serif\" font-size=\"14.00\">ctrl[1]</text>\n",
       "<polygon fill=\"none\" stroke=\"black\" points=\"57.5,-110 57.5,-131 63.5,-131 63.5,-110 57.5,-110\"/>\n",
       "<polygon fill=\"none\" stroke=\"black\" points=\"63.5,-110 63.5,-131 100.5,-131 100.5,-110 63.5,-110\"/>\n",
       "<text text-anchor=\"start\" x=\"66.5\" y=\"-116.8\" font-family=\"Times,serif\" font-size=\"14.00\">target</text>\n",
       "</g>\n",
       "<!-- OneEffect_G1 -->\n",
       "<g id=\"node4\" class=\"node\">\n",
       "<title>OneEffect_G1</title>\n",
       "<polygon fill=\"none\" stroke=\"black\" points=\"148.5,-152 148.5,-169 168.5,-169 168.5,-152 148.5,-152\"/>\n",
       "<text text-anchor=\"start\" x=\"151.5\" y=\"-158\" font-family=\"Times,serif\" font-size=\"10.00\">&lt;1|</text>\n",
       "<polygon fill=\"none\" stroke=\"black\" points=\"148.5,-131 148.5,-152 161.5,-152 161.5,-131 148.5,-131\"/>\n",
       "<text text-anchor=\"start\" x=\"151.5\" y=\"-137.8\" font-family=\"Times,serif\" font-size=\"14.00\">q</text>\n",
       "<polygon fill=\"none\" stroke=\"black\" points=\"161.5,-131 161.5,-152 168.5,-152 168.5,-131 161.5,-131\"/>\n",
       "</g>\n",
       "<!-- And&#45;&gt;OneEffect_G1 -->\n",
       "<g id=\"edge6\" class=\"edge\">\n",
       "<title>And:e-&gt;OneEffect_G1:w</title>\n",
       "<path fill=\"none\" stroke=\"black\" d=\"M100,-141C120.29,-141 125.95,-141 145.1,-141\"/>\n",
       "<ellipse fill=\"black\" stroke=\"black\" cx=\"146.5\" cy=\"-141\" rx=\"1\" ry=\"1\"/>\n",
       "<text text-anchor=\"middle\" x=\"118.5\" y=\"-144\" font-family=\"Times,serif\" font-size=\"10.00\">1</text>\n",
       "</g>\n",
       "<!-- OneEffect_G5 -->\n",
       "<g id=\"node6\" class=\"node\">\n",
       "<title>OneEffect_G5</title>\n",
       "<polygon fill=\"none\" stroke=\"black\" points=\"148.5,-208 148.5,-225 168.5,-225 168.5,-208 148.5,-208\"/>\n",
       "<text text-anchor=\"start\" x=\"151.5\" y=\"-214\" font-family=\"Times,serif\" font-size=\"10.00\">&lt;1|</text>\n",
       "<polygon fill=\"none\" stroke=\"black\" points=\"148.5,-187 148.5,-208 161.5,-208 161.5,-187 148.5,-187\"/>\n",
       "<text text-anchor=\"start\" x=\"151.5\" y=\"-193.8\" font-family=\"Times,serif\" font-size=\"14.00\">q</text>\n",
       "<polygon fill=\"none\" stroke=\"black\" points=\"161.5,-187 161.5,-208 168.5,-208 168.5,-187 161.5,-187\"/>\n",
       "</g>\n",
       "<!-- And&#45;&gt;OneEffect_G5 -->\n",
       "<g id=\"edge5\" class=\"edge\">\n",
       "<title>And:e-&gt;OneEffect_G5:w</title>\n",
       "<path fill=\"none\" stroke=\"black\" d=\"M100,-163C125.25,-163 121.76,-195.17 145.44,-196.93\"/>\n",
       "<ellipse fill=\"black\" stroke=\"black\" cx=\"146.5\" cy=\"-196.96\" rx=\"1\" ry=\"1\"/>\n",
       "<text text-anchor=\"middle\" x=\"118.5\" y=\"-175\" font-family=\"Times,serif\" font-size=\"10.00\">1</text>\n",
       "</g>\n",
       "<!-- And_G9 -->\n",
       "<g id=\"node8\" class=\"node\">\n",
       "<title>And_G9</title>\n",
       "<polygon fill=\"none\" stroke=\"black\" points=\"137.5,-96 137.5,-113 180.5,-113 180.5,-96 137.5,-96\"/>\n",
       "<text text-anchor=\"start\" x=\"149.5\" y=\"-102\" font-family=\"Times,serif\" font-size=\"10.00\">And</text>\n",
       "<polygon fill=\"none\" stroke=\"black\" points=\"137.5,-75 137.5,-96 180.5,-96 180.5,-75 137.5,-75\"/>\n",
       "<text text-anchor=\"start\" x=\"142\" y=\"-81.8\" font-family=\"Times,serif\" font-size=\"14.00\">ctrl[0]</text>\n",
       "<polygon fill=\"none\" stroke=\"black\" points=\"137.5,-54 137.5,-75 180.5,-75 180.5,-54 137.5,-54\"/>\n",
       "<text text-anchor=\"start\" x=\"142\" y=\"-60.8\" font-family=\"Times,serif\" font-size=\"14.00\">ctrl[1]</text>\n",
       "<polygon fill=\"none\" stroke=\"black\" points=\"137.5,-33 137.5,-54 143.5,-54 143.5,-33 137.5,-33\"/>\n",
       "<polygon fill=\"none\" stroke=\"black\" points=\"143.5,-33 143.5,-54 180.5,-54 180.5,-33 143.5,-33\"/>\n",
       "<text text-anchor=\"start\" x=\"146.5\" y=\"-39.8\" font-family=\"Times,serif\" font-size=\"14.00\">target</text>\n",
       "</g>\n",
       "<!-- And&#45;&gt;And_G9 -->\n",
       "<g id=\"edge3\" class=\"edge\">\n",
       "<title>And:e-&gt;And_G9:w</title>\n",
       "<path fill=\"none\" stroke=\"black\" d=\"M100,-120C121.64,-120 115.12,-88.09 134.99,-86.1\"/>\n",
       "<ellipse fill=\"black\" stroke=\"black\" cx=\"136\" cy=\"-86.05\" rx=\"1\" ry=\"1\"/>\n",
       "<text text-anchor=\"middle\" x=\"118.5\" y=\"-108\" font-family=\"Times,serif\" font-size=\"10.00\">1</text>\n",
       "</g>\n",
       "<!-- OneEffect -->\n",
       "<g id=\"node2\" class=\"node\">\n",
       "<title>OneEffect</title>\n",
       "<polygon fill=\"none\" stroke=\"black\" points=\"235,-75 235,-92 255,-92 255,-75 235,-75\"/>\n",
       "<text text-anchor=\"start\" x=\"238\" y=\"-81\" font-family=\"Times,serif\" font-size=\"10.00\">&lt;1|</text>\n",
       "<polygon fill=\"none\" stroke=\"black\" points=\"235,-54 235,-75 248,-75 248,-54 235,-54\"/>\n",
       "<text text-anchor=\"start\" x=\"238\" y=\"-60.8\" font-family=\"Times,serif\" font-size=\"14.00\">q</text>\n",
       "<polygon fill=\"none\" stroke=\"black\" points=\"248,-54 248,-75 255,-75 255,-54 248,-54\"/>\n",
       "</g>\n",
       "<!-- OneState -->\n",
       "<g id=\"node3\" class=\"node\">\n",
       "<title>OneState</title>\n",
       "<polygon fill=\"none\" stroke=\"black\" points=\"68.5,-75 68.5,-92 88.5,-92 88.5,-75 68.5,-75\"/>\n",
       "<text text-anchor=\"start\" x=\"71.5\" y=\"-81\" font-family=\"Times,serif\" font-size=\"10.00\">|1&gt;</text>\n",
       "<polygon fill=\"none\" stroke=\"black\" points=\"68.5,-54 68.5,-75 74.5,-75 74.5,-54 68.5,-54\"/>\n",
       "<polygon fill=\"none\" stroke=\"black\" points=\"74.5,-54 74.5,-75 88.5,-75 88.5,-54 74.5,-54\"/>\n",
       "<text text-anchor=\"start\" x=\"78\" y=\"-60.8\" font-family=\"Times,serif\" font-size=\"14.00\">q</text>\n",
       "</g>\n",
       "<!-- OneState&#45;&gt;And_G9 -->\n",
       "<g id=\"edge4\" class=\"edge\">\n",
       "<title>OneState:e-&gt;And_G9:w</title>\n",
       "<path fill=\"none\" stroke=\"black\" d=\"M89.5,-64C109.79,-64 115.45,-64 134.6,-64\"/>\n",
       "<ellipse fill=\"black\" stroke=\"black\" cx=\"136\" cy=\"-64\" rx=\"1\" ry=\"1\"/>\n",
       "<text text-anchor=\"middle\" x=\"118.5\" y=\"-67\" font-family=\"Times,serif\" font-size=\"10.00\">1</text>\n",
       "</g>\n",
       "<!-- OneState_G3 -->\n",
       "<g id=\"node5\" class=\"node\">\n",
       "<title>OneState_G3</title>\n",
       "<polygon fill=\"none\" stroke=\"black\" points=\"0,-135 0,-152 20,-152 20,-135 0,-135\"/>\n",
       "<text text-anchor=\"start\" x=\"3\" y=\"-141\" font-family=\"Times,serif\" font-size=\"10.00\">|1&gt;</text>\n",
       "<polygon fill=\"none\" stroke=\"black\" points=\"0,-114 0,-135 6,-135 6,-114 0,-114\"/>\n",
       "<polygon fill=\"none\" stroke=\"black\" points=\"6,-114 6,-135 20,-135 20,-114 6,-114\"/>\n",
       "<text text-anchor=\"start\" x=\"9.5\" y=\"-120.8\" font-family=\"Times,serif\" font-size=\"14.00\">q</text>\n",
       "</g>\n",
       "<!-- OneState_G3&#45;&gt;And -->\n",
       "<g id=\"edge2\" class=\"edge\">\n",
       "<title>OneState_G3:e-&gt;And:w</title>\n",
       "<path fill=\"none\" stroke=\"black\" d=\"M20,-124C37.39,-124 38.81,-139.7 54.96,-140.92\"/>\n",
       "<ellipse fill=\"black\" stroke=\"black\" cx=\"56\" cy=\"-140.96\" rx=\"1\" ry=\"1\"/>\n",
       "<text text-anchor=\"middle\" x=\"38.5\" y=\"-136\" font-family=\"Times,serif\" font-size=\"10.00\">1</text>\n",
       "</g>\n",
       "<!-- OneState_G7 -->\n",
       "<g id=\"node7\" class=\"node\">\n",
       "<title>OneState_G7</title>\n",
       "<polygon fill=\"none\" stroke=\"black\" points=\"0,-191 0,-208 20,-208 20,-191 0,-191\"/>\n",
       "<text text-anchor=\"start\" x=\"3\" y=\"-197\" font-family=\"Times,serif\" font-size=\"10.00\">|1&gt;</text>\n",
       "<polygon fill=\"none\" stroke=\"black\" points=\"0,-170 0,-191 6,-191 6,-170 0,-170\"/>\n",
       "<polygon fill=\"none\" stroke=\"black\" points=\"6,-170 6,-191 20,-191 20,-170 6,-170\"/>\n",
       "<text text-anchor=\"start\" x=\"9.5\" y=\"-176.8\" font-family=\"Times,serif\" font-size=\"14.00\">q</text>\n",
       "</g>\n",
       "<!-- OneState_G7&#45;&gt;And -->\n",
       "<g id=\"edge1\" class=\"edge\">\n",
       "<title>OneState_G7:e-&gt;And:w</title>\n",
       "<path fill=\"none\" stroke=\"black\" d=\"M20,-180C37.39,-180 38.81,-164.3 54.96,-163.08\"/>\n",
       "<ellipse fill=\"black\" stroke=\"black\" cx=\"56\" cy=\"-163.04\" rx=\"1\" ry=\"1\"/>\n",
       "<text text-anchor=\"middle\" x=\"38.5\" y=\"-174\" font-family=\"Times,serif\" font-size=\"10.00\">1</text>\n",
       "</g>\n",
       "<!-- And_G9&#45;&gt;OneEffect -->\n",
       "<g id=\"edge7\" class=\"edge\">\n",
       "<title>And_G9:e-&gt;OneEffect:w</title>\n",
       "<path fill=\"none\" stroke=\"black\" d=\"M180,-64C203.25,-64 209.61,-64 231.8,-64\"/>\n",
       "<ellipse fill=\"black\" stroke=\"black\" cx=\"233\" cy=\"-64\" rx=\"1\" ry=\"1\"/>\n",
       "<text text-anchor=\"middle\" x=\"198.5\" y=\"-67\" font-family=\"Times,serif\" font-size=\"10.00\">1</text>\n",
       "</g>\n",
       "<!-- junk -->\n",
       "<g id=\"node9\" class=\"node\">\n",
       "<title>junk</title>\n",
       "<text text-anchor=\"middle\" x=\"245\" y=\"-124.3\" font-family=\"Times,serif\" font-size=\"14.00\">junk[0]</text>\n",
       "</g>\n",
       "<!-- And_G9&#45;&gt;junk -->\n",
       "<g id=\"edge8\" class=\"edge\">\n",
       "<title>And_G9:e-&gt;junk:w</title>\n",
       "<path fill=\"none\" stroke=\"black\" d=\"M180,-86C204.1,-86 192.88,-125.42 214.78,-127.88\"/>\n",
       "<ellipse fill=\"black\" stroke=\"black\" cx=\"216\" cy=\"-127.95\" rx=\"1\" ry=\"1\"/>\n",
       "<text text-anchor=\"middle\" x=\"198.5\" y=\"-112\" font-family=\"Times,serif\" font-size=\"10.00\">1</text>\n",
       "</g>\n",
       "<!-- res -->\n",
       "<g id=\"node10\" class=\"node\">\n",
       "<title>res</title>\n",
       "<text text-anchor=\"middle\" x=\"245\" y=\"-14.3\" font-family=\"Times,serif\" font-size=\"14.00\">res</text>\n",
       "</g>\n",
       "<!-- And_G9&#45;&gt;res -->\n",
       "<g id=\"edge9\" class=\"edge\">\n",
       "<title>And_G9:e-&gt;res:w</title>\n",
       "<path fill=\"none\" stroke=\"black\" d=\"M180,-43C199.07,-43 197.33,-19.91 214.77,-18.11\"/>\n",
       "<ellipse fill=\"black\" stroke=\"black\" cx=\"216\" cy=\"-18.05\" rx=\"1\" ry=\"1\"/>\n",
       "<text text-anchor=\"middle\" x=\"198.5\" y=\"-34\" font-family=\"Times,serif\" font-size=\"10.00\">1</text>\n",
       "</g>\n",
       "</g>\n",
       "</svg>"
      ],
      "text/plain": [
       "<IPython.core.display.SVG object>"
      ]
     },
     "metadata": {},
     "output_type": "display_data"
    }
   ],
   "source": [
    "from qualtran.bloqs.basic_gates import OneEffect, OneState, ZeroEffect, ZeroState\n",
    "\n",
    "state = [ZeroState(), OneState()]\n",
    "eff = [ZeroEffect(), OneEffect()]\n",
    "\n",
    "# Experiment with changing the following:\n",
    "cvs = (1, 1, 1)\n",
    "ctrl_string = (1, 1, 1)\n",
    "\n",
    "\n",
    "bb = BloqBuilder()\n",
    "ctrl_qs = [bb.add(state[c]) for c in ctrl_string]\n",
    "ctrl_qs, junk, res = bb.add_from(MultiAnd(cvs), ctrl=ctrl_qs)\n",
    "for c, q in zip(ctrl_string, ctrl_qs):\n",
    "    bb.add(eff[c], q=q)\n",
    "\n",
    "cbloq = bb.finalize(junk=junk, res=res)\n",
    "show_bloq(cbloq)"
   ]
  },
  {
   "cell_type": "code",
   "execution_count": 13,
   "id": "aa0ec9b1",
   "metadata": {},
   "outputs": [
    {
     "data": {
      "text/plain": [
       "array([1])"
      ]
     },
     "execution_count": 13,
     "metadata": {},
     "output_type": "execute_result"
    }
   ],
   "source": [
    "# Our tensor network now just has the result index and a junk index.\n",
    "# We use `np.where` to find non-zero entries into this.\n",
    "# In fact -- the second index corresponding to `res` is the bit output\n",
    "vec = cbloq.tensor_contract()\n",
    "junk_i, res_i = np.where(vec.reshape((2, 2)))\n",
    "res_i"
   ]
  },
  {
   "cell_type": "code",
   "execution_count": 14,
   "id": "6ee9b855",
   "metadata": {},
   "outputs": [
    {
     "data": {
      "text/plain": [
       "True"
      ]
     },
     "execution_count": 14,
     "metadata": {},
     "output_type": "execute_result"
    }
   ],
   "source": [
    "# The truthiness of the non-zero res index should match the desired logical function.\n",
    "should_be = np.all(ctrl_string == cvs)\n",
    "should_be"
   ]
  },
  {
   "cell_type": "markdown",
   "id": "faeca991",
   "metadata": {},
   "source": [
    "### Classical Simulation\n",
    "\n",
    "The `And` gate is classical logic, so we can simulate it on discrete bitstrings."
   ]
  },
  {
   "cell_type": "code",
   "execution_count": 15,
   "id": "c8701a60",
   "metadata": {},
   "outputs": [
    {
     "data": {
      "text/plain": [
       "1"
      ]
     },
     "execution_count": 15,
     "metadata": {},
     "output_type": "execute_result"
    }
   ],
   "source": [
    "ctrl, out = And().call_classically(ctrl=np.array([1, 1]))\n",
    "out"
   ]
  },
  {
   "cell_type": "code",
   "execution_count": 16,
   "id": "e6965536",
   "metadata": {},
   "outputs": [
    {
     "data": {
      "text/plain": [
       "1"
      ]
     },
     "execution_count": 16,
     "metadata": {},
     "output_type": "execute_result"
    }
   ],
   "source": [
    "ctrl = np.array([1,1,1,1])\n",
    "ctrl, junk, out = MultiAnd((1,1,1,1)).call_classically(ctrl=ctrl)\n",
    "out"
   ]
  },
  {
   "cell_type": "code",
   "execution_count": 17,
   "id": "9a502db4",
   "metadata": {},
   "outputs": [
    {
     "data": {
      "image/svg+xml": [
       "<svg xmlns=\"http://www.w3.org/2000/svg\" xmlns:xlink=\"http://www.w3.org/1999/xlink\" width=\"395pt\" height=\"368pt\" viewBox=\"0.00 0.00 395.00 368.00\">\n",
       "<g id=\"graph0\" class=\"graph\" transform=\"scale(1 1) rotate(0) translate(4 364)\">\n",
       "<title>my_graph</title>\n",
       "<polygon fill=\"white\" stroke=\"transparent\" points=\"-4,4 -4,-364 391,-364 391,4 -4,4\"/>\n",
       "<!-- ctrl_G22 -->\n",
       "<g id=\"node1\" class=\"node\">\n",
       "<title>ctrl_G22</title>\n",
       "<text text-anchor=\"middle\" x=\"27\" y=\"-316.3\" font-family=\"Times,serif\" font-size=\"14.00\">ctrl[0]</text>\n",
       "</g>\n",
       "<!-- And -->\n",
       "<g id=\"node5\" class=\"node\">\n",
       "<title>And</title>\n",
       "<polygon fill=\"none\" stroke=\"black\" points=\"91.5,-320 91.5,-337 134.5,-337 134.5,-320 91.5,-320\"/>\n",
       "<text text-anchor=\"start\" x=\"103.5\" y=\"-326\" font-family=\"Times,serif\" font-size=\"10.00\">And</text>\n",
       "<polygon fill=\"none\" stroke=\"black\" points=\"91.5,-299 91.5,-320 134.5,-320 134.5,-299 91.5,-299\"/>\n",
       "<text text-anchor=\"start\" x=\"96\" y=\"-305.8\" font-family=\"Times,serif\" font-size=\"14.00\">ctrl[0]</text>\n",
       "<polygon fill=\"none\" stroke=\"black\" points=\"91.5,-278 91.5,-299 134.5,-299 134.5,-278 91.5,-278\"/>\n",
       "<text text-anchor=\"start\" x=\"96\" y=\"-284.8\" font-family=\"Times,serif\" font-size=\"14.00\">ctrl[1]</text>\n",
       "<polygon fill=\"none\" stroke=\"black\" points=\"91.5,-257 91.5,-278 97.5,-278 97.5,-257 91.5,-257\"/>\n",
       "<polygon fill=\"none\" stroke=\"black\" points=\"97.5,-257 97.5,-278 134.5,-278 134.5,-257 97.5,-257\"/>\n",
       "<text text-anchor=\"start\" x=\"100.5\" y=\"-263.8\" font-family=\"Times,serif\" font-size=\"14.00\">target</text>\n",
       "</g>\n",
       "<!-- ctrl_G22&#45;&gt;And -->\n",
       "<g id=\"edge1\" class=\"edge\">\n",
       "<title>ctrl_G22:e-&gt;And:w</title>\n",
       "<path fill=\"none\" stroke=\"black\" d=\"M54,-320C70.24,-320 73.66,-310.92 88.69,-310.06\"/>\n",
       "<ellipse fill=\"black\" stroke=\"black\" cx=\"90\" cy=\"-310.03\" rx=\"1\" ry=\"1\"/>\n",
       "<text text-anchor=\"middle\" x=\"72.5\" y=\"-318\" font-family=\"Times,serif\" font-size=\"10.00\" fill=\"darkblue\">1</text>\n",
       "</g>\n",
       "<!-- ctrl_G20 -->\n",
       "<g id=\"node2\" class=\"node\">\n",
       "<title>ctrl_G20</title>\n",
       "<text text-anchor=\"middle\" x=\"27\" y=\"-262.3\" font-family=\"Times,serif\" font-size=\"14.00\">ctrl[1]</text>\n",
       "</g>\n",
       "<!-- ctrl_G20&#45;&gt;And -->\n",
       "<g id=\"edge2\" class=\"edge\">\n",
       "<title>ctrl_G20:e-&gt;And:w</title>\n",
       "<path fill=\"none\" stroke=\"black\" d=\"M54,-266C72.38,-266 71.94,-286.31 88.85,-287.9\"/>\n",
       "<ellipse fill=\"black\" stroke=\"black\" cx=\"90\" cy=\"-287.95\" rx=\"1\" ry=\"1\"/>\n",
       "<text text-anchor=\"middle\" x=\"72.5\" y=\"-280\" font-family=\"Times,serif\" font-size=\"10.00\" fill=\"darkblue\">1</text>\n",
       "</g>\n",
       "<!-- ctrl_G17 -->\n",
       "<g id=\"node3\" class=\"node\">\n",
       "<title>ctrl_G17</title>\n",
       "<text text-anchor=\"middle\" x=\"27\" y=\"-197.3\" font-family=\"Times,serif\" font-size=\"14.00\">ctrl[2]</text>\n",
       "</g>\n",
       "<!-- And_G0 -->\n",
       "<g id=\"node6\" class=\"node\">\n",
       "<title>And_G0</title>\n",
       "<polygon fill=\"none\" stroke=\"black\" points=\"171.5,-233 171.5,-250 214.5,-250 214.5,-233 171.5,-233\"/>\n",
       "<text text-anchor=\"start\" x=\"183.5\" y=\"-239\" font-family=\"Times,serif\" font-size=\"10.00\">And</text>\n",
       "<polygon fill=\"none\" stroke=\"black\" points=\"171.5,-212 171.5,-233 214.5,-233 214.5,-212 171.5,-212\"/>\n",
       "<text text-anchor=\"start\" x=\"176\" y=\"-218.8\" font-family=\"Times,serif\" font-size=\"14.00\">ctrl[0]</text>\n",
       "<polygon fill=\"none\" stroke=\"black\" points=\"171.5,-191 171.5,-212 214.5,-212 214.5,-191 171.5,-191\"/>\n",
       "<text text-anchor=\"start\" x=\"176\" y=\"-197.8\" font-family=\"Times,serif\" font-size=\"14.00\">ctrl[1]</text>\n",
       "<polygon fill=\"none\" stroke=\"black\" points=\"171.5,-170 171.5,-191 177.5,-191 177.5,-170 171.5,-170\"/>\n",
       "<polygon fill=\"none\" stroke=\"black\" points=\"177.5,-170 177.5,-191 214.5,-191 214.5,-170 177.5,-170\"/>\n",
       "<text text-anchor=\"start\" x=\"180.5\" y=\"-176.8\" font-family=\"Times,serif\" font-size=\"14.00\">target</text>\n",
       "</g>\n",
       "<!-- ctrl_G17&#45;&gt;And_G0 -->\n",
       "<g id=\"edge4\" class=\"edge\">\n",
       "<title>ctrl_G17:e-&gt;And_G0:w</title>\n",
       "<path fill=\"none\" stroke=\"black\" d=\"M54,-201C105.29,-201 118.64,-201 168.89,-201\"/>\n",
       "<ellipse fill=\"black\" stroke=\"black\" cx=\"170\" cy=\"-201\" rx=\"1\" ry=\"1\"/>\n",
       "<text text-anchor=\"middle\" x=\"112.5\" y=\"-204\" font-family=\"Times,serif\" font-size=\"10.00\" fill=\"darkblue\">0</text>\n",
       "</g>\n",
       "<!-- ctrl_G7 -->\n",
       "<g id=\"node4\" class=\"node\">\n",
       "<title>ctrl_G7</title>\n",
       "<text text-anchor=\"middle\" x=\"27\" y=\"-80.3\" font-family=\"Times,serif\" font-size=\"14.00\">ctrl[3]</text>\n",
       "</g>\n",
       "<!-- And_G3 -->\n",
       "<g id=\"node7\" class=\"node\">\n",
       "<title>And_G3</title>\n",
       "<polygon fill=\"none\" stroke=\"black\" points=\"251.5,-116 251.5,-133 294.5,-133 294.5,-116 251.5,-116\"/>\n",
       "<text text-anchor=\"start\" x=\"263.5\" y=\"-122\" font-family=\"Times,serif\" font-size=\"10.00\">And</text>\n",
       "<polygon fill=\"none\" stroke=\"black\" points=\"251.5,-95 251.5,-116 294.5,-116 294.5,-95 251.5,-95\"/>\n",
       "<text text-anchor=\"start\" x=\"256\" y=\"-101.8\" font-family=\"Times,serif\" font-size=\"14.00\">ctrl[0]</text>\n",
       "<polygon fill=\"none\" stroke=\"black\" points=\"251.5,-74 251.5,-95 294.5,-95 294.5,-74 251.5,-74\"/>\n",
       "<text text-anchor=\"start\" x=\"256\" y=\"-80.8\" font-family=\"Times,serif\" font-size=\"14.00\">ctrl[1]</text>\n",
       "<polygon fill=\"none\" stroke=\"black\" points=\"251.5,-53 251.5,-74 257.5,-74 257.5,-53 251.5,-53\"/>\n",
       "<polygon fill=\"none\" stroke=\"black\" points=\"257.5,-53 257.5,-74 294.5,-74 294.5,-53 257.5,-53\"/>\n",
       "<text text-anchor=\"start\" x=\"260.5\" y=\"-59.8\" font-family=\"Times,serif\" font-size=\"14.00\">target</text>\n",
       "</g>\n",
       "<!-- ctrl_G7&#45;&gt;And_G3 -->\n",
       "<g id=\"edge6\" class=\"edge\">\n",
       "<title>ctrl_G7:e-&gt;And_G3:w</title>\n",
       "<path fill=\"none\" stroke=\"black\" d=\"M54,-84C140.87,-84 163.1,-84 248.96,-84\"/>\n",
       "<ellipse fill=\"black\" stroke=\"black\" cx=\"250\" cy=\"-84\" rx=\"1\" ry=\"1\"/>\n",
       "<text text-anchor=\"middle\" x=\"152.5\" y=\"-87\" font-family=\"Times,serif\" font-size=\"10.00\" fill=\"darkblue\">1</text>\n",
       "</g>\n",
       "<!-- And&#45;&gt;And_G0 -->\n",
       "<g id=\"edge3\" class=\"edge\">\n",
       "<title>And:e-&gt;And_G0:w</title>\n",
       "<path fill=\"none\" stroke=\"black\" d=\"M134,-267C158.85,-267 146.19,-225.37 168.99,-223.1\"/>\n",
       "<ellipse fill=\"black\" stroke=\"black\" cx=\"170\" cy=\"-223.05\" rx=\"1\" ry=\"1\"/>\n",
       "<text text-anchor=\"middle\" x=\"152.5\" y=\"-249\" font-family=\"Times,serif\" font-size=\"10.00\" fill=\"darkblue\">1</text>\n",
       "</g>\n",
       "<!-- ctrl_G14 -->\n",
       "<g id=\"node8\" class=\"node\">\n",
       "<title>ctrl_G14</title>\n",
       "<text text-anchor=\"middle\" x=\"359\" y=\"-338.3\" font-family=\"Times,serif\" font-size=\"14.00\">ctrl[0]</text>\n",
       "</g>\n",
       "<!-- And&#45;&gt;ctrl_G14 -->\n",
       "<g id=\"edge7\" class=\"edge\">\n",
       "<title>And:e-&gt;ctrl_G14:w</title>\n",
       "<path fill=\"none\" stroke=\"black\" d=\"M134,-310C222.01,-310 241.99,-341.5 328.93,-341.99\"/>\n",
       "<ellipse fill=\"black\" stroke=\"black\" cx=\"330\" cy=\"-342\" rx=\"1\" ry=\"1\"/>\n",
       "<text text-anchor=\"middle\" x=\"232.5\" y=\"-329\" font-family=\"Times,serif\" font-size=\"10.00\" fill=\"darkblue\">1</text>\n",
       "</g>\n",
       "<!-- ctrl_G10 -->\n",
       "<g id=\"node9\" class=\"node\">\n",
       "<title>ctrl_G10</title>\n",
       "<text text-anchor=\"middle\" x=\"359\" y=\"-284.3\" font-family=\"Times,serif\" font-size=\"14.00\">ctrl[1]</text>\n",
       "</g>\n",
       "<!-- And&#45;&gt;ctrl_G10 -->\n",
       "<g id=\"edge8\" class=\"edge\">\n",
       "<title>And:e-&gt;ctrl_G10:w</title>\n",
       "<path fill=\"none\" stroke=\"black\" d=\"M134,-288C220.87,-288 243.1,-288 328.96,-288\"/>\n",
       "<ellipse fill=\"black\" stroke=\"black\" cx=\"330\" cy=\"-288\" rx=\"1\" ry=\"1\"/>\n",
       "<text text-anchor=\"middle\" x=\"232.5\" y=\"-291\" font-family=\"Times,serif\" font-size=\"10.00\" fill=\"darkblue\">1</text>\n",
       "</g>\n",
       "<!-- And_G0&#45;&gt;And_G3 -->\n",
       "<g id=\"edge5\" class=\"edge\">\n",
       "<title>And_G0:e-&gt;And_G3:w</title>\n",
       "<path fill=\"none\" stroke=\"black\" d=\"M214,-180C250.05,-180 215.63,-108.86 248.93,-106.08\"/>\n",
       "<ellipse fill=\"black\" stroke=\"black\" cx=\"250\" cy=\"-106.04\" rx=\"1\" ry=\"1\"/>\n",
       "<text text-anchor=\"middle\" x=\"232.5\" y=\"-162\" font-family=\"Times,serif\" font-size=\"10.00\" fill=\"darkblue\">0</text>\n",
       "</g>\n",
       "<!-- ctrl_G15 -->\n",
       "<g id=\"node10\" class=\"node\">\n",
       "<title>ctrl_G15</title>\n",
       "<text text-anchor=\"middle\" x=\"359\" y=\"-176.3\" font-family=\"Times,serif\" font-size=\"14.00\">ctrl[2]</text>\n",
       "</g>\n",
       "<!-- And_G0&#45;&gt;ctrl_G15 -->\n",
       "<g id=\"edge9\" class=\"edge\">\n",
       "<title>And_G0:e-&gt;ctrl_G15:w</title>\n",
       "<path fill=\"none\" stroke=\"black\" d=\"M214,-201C266.11,-201 277.85,-180.57 328.86,-180.01\"/>\n",
       "<ellipse fill=\"black\" stroke=\"black\" cx=\"330\" cy=\"-180.01\" rx=\"1\" ry=\"1\"/>\n",
       "<text text-anchor=\"middle\" x=\"272.5\" y=\"-200\" font-family=\"Times,serif\" font-size=\"10.00\" fill=\"darkblue\">0</text>\n",
       "</g>\n",
       "<!-- junk_G12 -->\n",
       "<g id=\"node12\" class=\"node\">\n",
       "<title>junk_G12</title>\n",
       "<text text-anchor=\"middle\" x=\"359\" y=\"-230.3\" font-family=\"Times,serif\" font-size=\"14.00\">junk[0]</text>\n",
       "</g>\n",
       "<!-- And_G0&#45;&gt;junk_G12 -->\n",
       "<g id=\"edge11\" class=\"edge\">\n",
       "<title>And_G0:e-&gt;junk_G12:w</title>\n",
       "<path fill=\"none\" stroke=\"black\" d=\"M214,-223C265.52,-223 278.42,-233.7 328.88,-233.99\"/>\n",
       "<ellipse fill=\"black\" stroke=\"black\" cx=\"330\" cy=\"-234\" rx=\"1\" ry=\"1\"/>\n",
       "<text text-anchor=\"middle\" x=\"272.5\" y=\"-234\" font-family=\"Times,serif\" font-size=\"10.00\" fill=\"darkblue\">1</text>\n",
       "</g>\n",
       "<!-- ctrl_G23 -->\n",
       "<g id=\"node11\" class=\"node\">\n",
       "<title>ctrl_G23</title>\n",
       "<text text-anchor=\"middle\" x=\"359\" y=\"-68.3\" font-family=\"Times,serif\" font-size=\"14.00\">ctrl[3]</text>\n",
       "</g>\n",
       "<!-- And_G3&#45;&gt;ctrl_G23 -->\n",
       "<g id=\"edge10\" class=\"edge\">\n",
       "<title>And_G3:e-&gt;ctrl_G23:w</title>\n",
       "<path fill=\"none\" stroke=\"black\" d=\"M294,-84C310.48,-84 313.45,-73.1 328.66,-72.08\"/>\n",
       "<ellipse fill=\"black\" stroke=\"black\" cx=\"330\" cy=\"-72.03\" rx=\"1\" ry=\"1\"/>\n",
       "<text text-anchor=\"middle\" x=\"312.5\" y=\"-81\" font-family=\"Times,serif\" font-size=\"10.00\" fill=\"darkblue\">1</text>\n",
       "</g>\n",
       "<!-- junk -->\n",
       "<g id=\"node13\" class=\"node\">\n",
       "<title>junk</title>\n",
       "<text text-anchor=\"middle\" x=\"359\" y=\"-122.3\" font-family=\"Times,serif\" font-size=\"14.00\">junk[1]</text>\n",
       "</g>\n",
       "<!-- And_G3&#45;&gt;junk -->\n",
       "<g id=\"edge12\" class=\"edge\">\n",
       "<title>And_G3:e-&gt;junk:w</title>\n",
       "<path fill=\"none\" stroke=\"black\" d=\"M294,-106C311.96,-106 312.31,-124.47 328.89,-125.91\"/>\n",
       "<ellipse fill=\"black\" stroke=\"black\" cx=\"330\" cy=\"-125.96\" rx=\"1\" ry=\"1\"/>\n",
       "<text text-anchor=\"middle\" x=\"312.5\" y=\"-119\" font-family=\"Times,serif\" font-size=\"10.00\" fill=\"darkblue\">0</text>\n",
       "</g>\n",
       "<!-- target_G6 -->\n",
       "<g id=\"node14\" class=\"node\">\n",
       "<title>target_G6</title>\n",
       "<text text-anchor=\"middle\" x=\"359\" y=\"-14.3\" font-family=\"Times,serif\" font-size=\"14.00\">target</text>\n",
       "</g>\n",
       "<!-- And_G3&#45;&gt;target_G6 -->\n",
       "<g id=\"edge13\" class=\"edge\">\n",
       "<title>And_G3:e-&gt;target_G6:w</title>\n",
       "<path fill=\"none\" stroke=\"black\" d=\"M294,-63C319.18,-63 305.89,-20.43 328.97,-18.1\"/>\n",
       "<ellipse fill=\"black\" stroke=\"black\" cx=\"330\" cy=\"-18.05\" rx=\"1\" ry=\"1\"/>\n",
       "<text text-anchor=\"middle\" x=\"312.5\" y=\"-45\" font-family=\"Times,serif\" font-size=\"10.00\" fill=\"darkblue\">0</text>\n",
       "</g>\n",
       "</g>\n",
       "</svg>"
      ],
      "text/plain": [
       "<IPython.core.display.SVG object>"
      ]
     },
     "execution_count": 17,
     "metadata": {},
     "output_type": "execute_result"
    }
   ],
   "source": [
    "from qualtran.drawing import ClassicalSimGraphDrawer\n",
    "\n",
    "ClassicalSimGraphDrawer(\n",
    "    MultiAnd((1,1,1,1)).decompose_bloq(), \n",
    "    vals=dict(ctrl=[1,1,0,1])\n",
    ").get_svg()"
   ]
  }
 ],
 "metadata": {
  "kernelspec": {
   "display_name": "Python 3 (ipykernel)",
   "language": "python",
   "name": "python3"
  },
  "language_info": {
   "codemirror_mode": {
    "name": "ipython",
    "version": 3
   },
   "file_extension": ".py",
   "mimetype": "text/x-python",
   "name": "python",
   "nbconvert_exporter": "python",
   "pygments_lexer": "ipython3",
   "version": "3.11.8"
  },
  "widgets": {
   "application/vnd.jupyter.widget-state+json": {
    "state": {
     "074b359c4cb8481a8a05392dde3bf8d2": {
      "model_module": "@jupyter-widgets/base",
      "model_module_version": "2.0.0",
      "model_name": "LayoutModel",
      "state": {
       "_model_module": "@jupyter-widgets/base",
       "_model_module_version": "2.0.0",
       "_model_name": "LayoutModel",
       "_view_count": null,
       "_view_module": "@jupyter-widgets/base",
       "_view_module_version": "2.0.0",
       "_view_name": "LayoutView",
       "align_content": null,
       "align_items": null,
       "align_self": null,
       "border_bottom": null,
       "border_left": null,
       "border_right": null,
       "border_top": null,
       "bottom": null,
       "display": null,
       "flex": null,
       "flex_flow": null,
       "grid_area": null,
       "grid_auto_columns": null,
       "grid_auto_flow": null,
       "grid_auto_rows": null,
       "grid_column": null,
       "grid_gap": null,
       "grid_row": null,
       "grid_template_areas": null,
       "grid_template_columns": null,
       "grid_template_rows": null,
       "height": null,
       "justify_content": null,
       "justify_items": null,
       "left": null,
       "margin": null,
       "max_height": null,
       "max_width": null,
       "min_height": null,
       "min_width": null,
       "object_fit": null,
       "object_position": null,
       "order": null,
       "overflow": null,
       "padding": null,
       "right": null,
       "top": null,
       "visibility": null,
       "width": null
      }
     },
     "0991a0551dfe42939ec292e221fc0839": {
      "model_module": "@jupyter-widgets/base",
      "model_module_version": "2.0.0",
      "model_name": "LayoutModel",
      "state": {
       "_model_module": "@jupyter-widgets/base",
       "_model_module_version": "2.0.0",
       "_model_name": "LayoutModel",
       "_view_count": null,
       "_view_module": "@jupyter-widgets/base",
       "_view_module_version": "2.0.0",
       "_view_name": "LayoutView",
       "align_content": null,
       "align_items": null,
       "align_self": null,
       "border_bottom": null,
       "border_left": null,
       "border_right": null,
       "border_top": null,
       "bottom": null,
       "display": null,
       "flex": null,
       "flex_flow": null,
       "grid_area": null,
       "grid_auto_columns": null,
       "grid_auto_flow": null,
       "grid_auto_rows": null,
       "grid_column": null,
       "grid_gap": null,
       "grid_row": null,
       "grid_template_areas": null,
       "grid_template_columns": null,
       "grid_template_rows": null,
       "height": null,
       "justify_content": null,
       "justify_items": null,
       "left": null,
       "margin": null,
       "max_height": null,
       "max_width": null,
       "min_height": null,
       "min_width": null,
       "object_fit": null,
       "object_position": null,
       "order": null,
       "overflow": null,
       "padding": null,
       "right": null,
       "top": null,
       "visibility": null,
       "width": null
      }
     },
     "10b5777bef3a4c72bca91e0726bd3fcd": {
      "model_module": "@jupyter-widgets/output",
      "model_module_version": "1.0.0",
      "model_name": "OutputModel",
      "state": {
       "_dom_classes": [],
       "_model_module": "@jupyter-widgets/output",
       "_model_module_version": "1.0.0",
       "_model_name": "OutputModel",
       "_view_count": null,
       "_view_module": "@jupyter-widgets/output",
       "_view_module_version": "1.0.0",
       "_view_name": "OutputView",
       "layout": "IPY_MODEL_0991a0551dfe42939ec292e221fc0839",
       "msg_id": "",
       "outputs": [
        {
         "data": {
          "text/markdown": "`and_bloq`",
          "text/plain": "<IPython.core.display.Markdown object>"
         },
         "metadata": {},
         "output_type": "display_data"
        },
        {
         "data": {
          "image/svg+xml": "<svg xmlns=\"http://www.w3.org/2000/svg\" xmlns:xlink=\"http://www.w3.org/1999/xlink\" width=\"233pt\" height=\"152pt\" viewBox=\"0.00 0.00 233.00 152.00\">\n<g id=\"graph0\" class=\"graph\" transform=\"scale(1 1) rotate(0) translate(4 148)\">\n<title>my_graph</title>\n<polygon fill=\"white\" stroke=\"transparent\" points=\"-4,4 -4,-148 229,-148 229,4 -4,4\"/>\n<!-- ctrl_G6 -->\n<g id=\"node1\" class=\"node\">\n<title>ctrl_G6</title>\n<text text-anchor=\"middle\" x=\"27\" y=\"-106.3\" font-family=\"Times,serif\" font-size=\"14.00\">ctrl[0]</text>\n</g>\n<!-- And -->\n<g id=\"node3\" class=\"node\">\n<title>And</title>\n<polygon fill=\"none\" stroke=\"black\" points=\"91.5,-104 91.5,-121 134.5,-121 134.5,-104 91.5,-104\"/>\n<text text-anchor=\"start\" x=\"103.5\" y=\"-110\" font-family=\"Times,serif\" font-size=\"10.00\">And</text>\n<polygon fill=\"none\" stroke=\"black\" points=\"91.5,-83 91.5,-104 134.5,-104 134.5,-83 91.5,-83\"/>\n<text text-anchor=\"start\" x=\"96\" y=\"-89.8\" font-family=\"Times,serif\" font-size=\"14.00\">ctrl[0]</text>\n<polygon fill=\"none\" stroke=\"black\" points=\"91.5,-62 91.5,-83 134.5,-83 134.5,-62 91.5,-62\"/>\n<text text-anchor=\"start\" x=\"96\" y=\"-68.8\" font-family=\"Times,serif\" font-size=\"14.00\">ctrl[1]</text>\n<polygon fill=\"none\" stroke=\"black\" points=\"91.5,-41 91.5,-62 97.5,-62 97.5,-41 91.5,-41\"/>\n<polygon fill=\"none\" stroke=\"black\" points=\"97.5,-41 97.5,-62 134.5,-62 134.5,-41 97.5,-41\"/>\n<text text-anchor=\"start\" x=\"100.5\" y=\"-47.8\" font-family=\"Times,serif\" font-size=\"14.00\">target</text>\n</g>\n<!-- ctrl_G6&#45;&gt;And -->\n<g id=\"edge1\" class=\"edge\">\n<title>ctrl_G6:e-&gt;And:w</title>\n<path fill=\"none\" stroke=\"black\" d=\"M54,-110C71.22,-110 72.97,-95.23 88.98,-94.07\"/>\n<ellipse fill=\"black\" stroke=\"black\" cx=\"90\" cy=\"-94.04\" rx=\"1\" ry=\"1\"/>\n<text text-anchor=\"middle\" x=\"72.5\" y=\"-105\" font-family=\"Times,serif\" font-size=\"10.00\">1</text>\n</g>\n<!-- ctrl_G5 -->\n<g id=\"node2\" class=\"node\">\n<title>ctrl_G5</title>\n<text text-anchor=\"middle\" x=\"27\" y=\"-52.3\" font-family=\"Times,serif\" font-size=\"14.00\">ctrl[1]</text>\n</g>\n<!-- ctrl_G5&#45;&gt;And -->\n<g id=\"edge2\" class=\"edge\">\n<title>ctrl_G5:e-&gt;And:w</title>\n<path fill=\"none\" stroke=\"black\" d=\"M54,-56C71.22,-56 72.97,-70.77 88.98,-71.93\"/>\n<ellipse fill=\"black\" stroke=\"black\" cx=\"90\" cy=\"-71.96\" rx=\"1\" ry=\"1\"/>\n<text text-anchor=\"middle\" x=\"72.5\" y=\"-68\" font-family=\"Times,serif\" font-size=\"10.00\">1</text>\n</g>\n<!-- ctrl_G4 -->\n<g id=\"node4\" class=\"node\">\n<title>ctrl_G4</title>\n<text text-anchor=\"middle\" x=\"198\" y=\"-122.3\" font-family=\"Times,serif\" font-size=\"14.00\">ctrl[0]</text>\n</g>\n<!-- And&#45;&gt;ctrl_G4 -->\n<g id=\"edge3\" class=\"edge\">\n<title>And:e-&gt;ctrl_G4:w</title>\n<path fill=\"none\" stroke=\"black\" d=\"M134,-94C154.89,-94 149.72,-123.55 168.58,-125.86\"/>\n<ellipse fill=\"black\" stroke=\"black\" cx=\"170\" cy=\"-125.94\" rx=\"1\" ry=\"1\"/>\n<text text-anchor=\"middle\" x=\"152.5\" y=\"-113\" font-family=\"Times,serif\" font-size=\"10.00\">1</text>\n</g>\n<!-- ctrl_G2 -->\n<g id=\"node5\" class=\"node\">\n<title>ctrl_G2</title>\n<text text-anchor=\"middle\" x=\"198\" y=\"-68.3\" font-family=\"Times,serif\" font-size=\"14.00\">ctrl[1]</text>\n</g>\n<!-- And&#45;&gt;ctrl_G2 -->\n<g id=\"edge4\" class=\"edge\">\n<title>And:e-&gt;ctrl_G2:w</title>\n<path fill=\"none\" stroke=\"black\" d=\"M134,-72C149.67,-72 154.14,-72 168.77,-72\"/>\n<ellipse fill=\"black\" stroke=\"black\" cx=\"170\" cy=\"-72\" rx=\"1\" ry=\"1\"/>\n<text text-anchor=\"middle\" x=\"152.5\" y=\"-75\" font-family=\"Times,serif\" font-size=\"10.00\">1</text>\n</g>\n<!-- target_G0 -->\n<g id=\"node6\" class=\"node\">\n<title>target_G0</title>\n<text text-anchor=\"middle\" x=\"198\" y=\"-14.3\" font-family=\"Times,serif\" font-size=\"14.00\">target</text>\n</g>\n<!-- And&#45;&gt;target_G0 -->\n<g id=\"edge5\" class=\"edge\">\n<title>And:e-&gt;target_G0:w</title>\n<path fill=\"none\" stroke=\"black\" d=\"M134,-51C155.17,-51 149.47,-20.53 168.55,-18.15\"/>\n<ellipse fill=\"black\" stroke=\"black\" cx=\"170\" cy=\"-18.06\" rx=\"1\" ry=\"1\"/>\n<text text-anchor=\"middle\" x=\"152.5\" y=\"-39\" font-family=\"Times,serif\" font-size=\"10.00\">1</text>\n</g>\n</g>\n</svg>",
          "text/plain": "<IPython.core.display.SVG object>"
         },
         "metadata": {},
         "output_type": "display_data"
        }
       ],
       "tabbable": null,
       "tooltip": null
      }
     },
     "8adf536f981846bb8a854e5e54d7e12d": {
      "model_module": "@jupyter-widgets/controls",
      "model_module_version": "2.0.0",
      "model_name": "HBoxModel",
      "state": {
       "_dom_classes": [],
       "_model_module": "@jupyter-widgets/controls",
       "_model_module_version": "2.0.0",
       "_model_name": "HBoxModel",
       "_view_count": null,
       "_view_module": "@jupyter-widgets/controls",
       "_view_module_version": "2.0.0",
       "_view_name": "HBoxView",
       "box_style": "",
       "children": [
        "IPY_MODEL_10b5777bef3a4c72bca91e0726bd3fcd"
       ],
       "layout": "IPY_MODEL_074b359c4cb8481a8a05392dde3bf8d2",
       "tabbable": null,
       "tooltip": null
      }
     },
     "b365286263c440d5bd05f481371cb0eb": {
      "model_module": "@jupyter-widgets/controls",
      "model_module_version": "2.0.0",
      "model_name": "HBoxModel",
      "state": {
       "_dom_classes": [],
       "_model_module": "@jupyter-widgets/controls",
       "_model_module_version": "2.0.0",
       "_model_name": "HBoxModel",
       "_view_count": null,
       "_view_module": "@jupyter-widgets/controls",
       "_view_module_version": "2.0.0",
       "_view_name": "HBoxView",
       "box_style": "",
       "children": [
        "IPY_MODEL_dcb70274b4654a7ab8bcfd3f36333bb6"
       ],
       "layout": "IPY_MODEL_c5d3e2e744974db3a5de528beffa675a",
       "tabbable": null,
       "tooltip": null
      }
     },
     "c012f95655d149e5af66f85c221427d8": {
      "model_module": "@jupyter-widgets/base",
      "model_module_version": "2.0.0",
      "model_name": "LayoutModel",
      "state": {
       "_model_module": "@jupyter-widgets/base",
       "_model_module_version": "2.0.0",
       "_model_name": "LayoutModel",
       "_view_count": null,
       "_view_module": "@jupyter-widgets/base",
       "_view_module_version": "2.0.0",
       "_view_name": "LayoutView",
       "align_content": null,
       "align_items": null,
       "align_self": null,
       "border_bottom": null,
       "border_left": null,
       "border_right": null,
       "border_top": null,
       "bottom": null,
       "display": null,
       "flex": null,
       "flex_flow": null,
       "grid_area": null,
       "grid_auto_columns": null,
       "grid_auto_flow": null,
       "grid_auto_rows": null,
       "grid_column": null,
       "grid_gap": null,
       "grid_row": null,
       "grid_template_areas": null,
       "grid_template_columns": null,
       "grid_template_rows": null,
       "height": null,
       "justify_content": null,
       "justify_items": null,
       "left": null,
       "margin": null,
       "max_height": null,
       "max_width": null,
       "min_height": null,
       "min_width": null,
       "object_fit": null,
       "object_position": null,
       "order": null,
       "overflow": null,
       "padding": null,
       "right": null,
       "top": null,
       "visibility": null,
       "width": null
      }
     },
     "c5d3e2e744974db3a5de528beffa675a": {
      "model_module": "@jupyter-widgets/base",
      "model_module_version": "2.0.0",
      "model_name": "LayoutModel",
      "state": {
       "_model_module": "@jupyter-widgets/base",
       "_model_module_version": "2.0.0",
       "_model_name": "LayoutModel",
       "_view_count": null,
       "_view_module": "@jupyter-widgets/base",
       "_view_module_version": "2.0.0",
       "_view_name": "LayoutView",
       "align_content": null,
       "align_items": null,
       "align_self": null,
       "border_bottom": null,
       "border_left": null,
       "border_right": null,
       "border_top": null,
       "bottom": null,
       "display": null,
       "flex": null,
       "flex_flow": null,
       "grid_area": null,
       "grid_auto_columns": null,
       "grid_auto_flow": null,
       "grid_auto_rows": null,
       "grid_column": null,
       "grid_gap": null,
       "grid_row": null,
       "grid_template_areas": null,
       "grid_template_columns": null,
       "grid_template_rows": null,
       "height": null,
       "justify_content": null,
       "justify_items": null,
       "left": null,
       "margin": null,
       "max_height": null,
       "max_width": null,
       "min_height": null,
       "min_width": null,
       "object_fit": null,
       "object_position": null,
       "order": null,
       "overflow": null,
       "padding": null,
       "right": null,
       "top": null,
       "visibility": null,
       "width": null
      }
     },
     "dcb70274b4654a7ab8bcfd3f36333bb6": {
      "model_module": "@jupyter-widgets/output",
      "model_module_version": "1.0.0",
      "model_name": "OutputModel",
      "state": {
       "_dom_classes": [],
       "_model_module": "@jupyter-widgets/output",
       "_model_module_version": "1.0.0",
       "_model_name": "OutputModel",
       "_view_count": null,
       "_view_module": "@jupyter-widgets/output",
       "_view_module_version": "1.0.0",
       "_view_name": "OutputView",
       "layout": "IPY_MODEL_c012f95655d149e5af66f85c221427d8",
       "msg_id": "",
       "outputs": [
        {
         "data": {
          "text/markdown": "`multi_and`",
          "text/plain": "<IPython.core.display.Markdown object>"
         },
         "metadata": {},
         "output_type": "display_data"
        },
        {
         "data": {
          "image/svg+xml": "<svg xmlns=\"http://www.w3.org/2000/svg\" xmlns:xlink=\"http://www.w3.org/1999/xlink\" width=\"262pt\" height=\"584pt\" viewBox=\"0.00 0.00 262.00 584.00\">\n<g id=\"graph0\" class=\"graph\" transform=\"scale(1 1) rotate(0) translate(4 580)\">\n<title>my_graph</title>\n<polygon fill=\"white\" stroke=\"transparent\" points=\"-4,4 -4,-580 258,-580 258,4 -4,4\"/>\n<!-- ctrl_G13 -->\n<g id=\"node1\" class=\"node\">\n<title>ctrl_G13</title>\n<text text-anchor=\"middle\" x=\"27\" y=\"-473.3\" font-family=\"Times,serif\" font-size=\"14.00\">ctrl[0]</text>\n</g>\n<!-- MultiAnd -->\n<g id=\"node7\" class=\"node\">\n<title>MultiAnd</title>\n<polygon fill=\"none\" stroke=\"black\" points=\"91,-404 91,-421 161,-421 161,-404 91,-404\"/>\n<text text-anchor=\"start\" x=\"94\" y=\"-410\" font-family=\"Times,serif\" font-size=\"10.00\">MultiAnd(n=6)</text>\n<polygon fill=\"none\" stroke=\"black\" points=\"91,-383 91,-404 161,-404 161,-383 91,-383\"/>\n<text text-anchor=\"start\" x=\"109\" y=\"-389.8\" font-family=\"Times,serif\" font-size=\"14.00\">ctrl[0]</text>\n<polygon fill=\"none\" stroke=\"black\" points=\"91,-362 91,-383 161,-383 161,-362 91,-362\"/>\n<text text-anchor=\"start\" x=\"109\" y=\"-368.8\" font-family=\"Times,serif\" font-size=\"14.00\">ctrl[1]</text>\n<polygon fill=\"none\" stroke=\"black\" points=\"91,-341 91,-362 161,-362 161,-341 91,-341\"/>\n<text text-anchor=\"start\" x=\"109\" y=\"-347.8\" font-family=\"Times,serif\" font-size=\"14.00\">ctrl[2]</text>\n<polygon fill=\"none\" stroke=\"black\" points=\"91,-320 91,-341 161,-341 161,-320 91,-320\"/>\n<text text-anchor=\"start\" x=\"109\" y=\"-326.8\" font-family=\"Times,serif\" font-size=\"14.00\">ctrl[3]</text>\n<polygon fill=\"none\" stroke=\"black\" points=\"91,-299 91,-320 161,-320 161,-299 91,-299\"/>\n<text text-anchor=\"start\" x=\"109\" y=\"-305.8\" font-family=\"Times,serif\" font-size=\"14.00\">ctrl[4]</text>\n<polygon fill=\"none\" stroke=\"black\" points=\"91,-278 91,-299 161,-299 161,-278 91,-278\"/>\n<text text-anchor=\"start\" x=\"109\" y=\"-284.8\" font-family=\"Times,serif\" font-size=\"14.00\">ctrl[5]</text>\n<polygon fill=\"none\" stroke=\"black\" points=\"91,-257 91,-278 106,-278 106,-257 91,-257\"/>\n<polygon fill=\"none\" stroke=\"black\" points=\"106,-257 106,-278 161,-278 161,-257 106,-257\"/>\n<text text-anchor=\"start\" x=\"113.5\" y=\"-263.8\" font-family=\"Times,serif\" font-size=\"14.00\">junk[0]</text>\n<polygon fill=\"none\" stroke=\"black\" points=\"91,-236 91,-257 106,-257 106,-236 91,-236\"/>\n<polygon fill=\"none\" stroke=\"black\" points=\"106,-236 106,-257 161,-257 161,-236 106,-236\"/>\n<text text-anchor=\"start\" x=\"113.5\" y=\"-242.8\" font-family=\"Times,serif\" font-size=\"14.00\">junk[1]</text>\n<polygon fill=\"none\" stroke=\"black\" points=\"91,-215 91,-236 106,-236 106,-215 91,-215\"/>\n<polygon fill=\"none\" stroke=\"black\" points=\"106,-215 106,-236 161,-236 161,-215 106,-215\"/>\n<text text-anchor=\"start\" x=\"113.5\" y=\"-221.8\" font-family=\"Times,serif\" font-size=\"14.00\">junk[2]</text>\n<polygon fill=\"none\" stroke=\"black\" points=\"91,-194 91,-215 106,-215 106,-194 91,-194\"/>\n<polygon fill=\"none\" stroke=\"black\" points=\"106,-194 106,-215 161,-215 161,-194 106,-194\"/>\n<text text-anchor=\"start\" x=\"113.5\" y=\"-200.8\" font-family=\"Times,serif\" font-size=\"14.00\">junk[3]</text>\n<polygon fill=\"none\" stroke=\"black\" points=\"91,-173 91,-194 106,-194 106,-173 91,-173\"/>\n<polygon fill=\"none\" stroke=\"black\" points=\"106,-173 106,-194 161,-194 161,-173 106,-173\"/>\n<text text-anchor=\"start\" x=\"118\" y=\"-179.8\" font-family=\"Times,serif\" font-size=\"14.00\">target</text>\n</g>\n<!-- ctrl_G13&#45;&gt;MultiAnd -->\n<g id=\"edge1\" class=\"edge\">\n<title>ctrl_G13:e-&gt;MultiAnd:w</title>\n<path fill=\"none\" stroke=\"black\" d=\"M54,-477C93.6,-477 52.29,-397.21 88.73,-394.09\"/>\n<ellipse fill=\"black\" stroke=\"black\" cx=\"90\" cy=\"-394.04\" rx=\"1\" ry=\"1\"/>\n<text text-anchor=\"middle\" x=\"72.5\" y=\"-462\" font-family=\"Times,serif\" font-size=\"10.00\">1</text>\n</g>\n<!-- ctrl_G11 -->\n<g id=\"node2\" class=\"node\">\n<title>ctrl_G11</title>\n<text text-anchor=\"middle\" x=\"27\" y=\"-419.3\" font-family=\"Times,serif\" font-size=\"14.00\">ctrl[1]</text>\n</g>\n<!-- ctrl_G11&#45;&gt;MultiAnd -->\n<g id=\"edge2\" class=\"edge\">\n<title>ctrl_G11:e-&gt;MultiAnd:w</title>\n<path fill=\"none\" stroke=\"black\" d=\"M54,-423C80.89,-423 64.32,-375.7 88.83,-373.11\"/>\n<ellipse fill=\"black\" stroke=\"black\" cx=\"90\" cy=\"-373.05\" rx=\"1\" ry=\"1\"/>\n<text text-anchor=\"middle\" x=\"72.5\" y=\"-402\" font-family=\"Times,serif\" font-size=\"10.00\">1</text>\n</g>\n<!-- ctrl_G17 -->\n<g id=\"node3\" class=\"node\">\n<title>ctrl_G17</title>\n<text text-anchor=\"middle\" x=\"27\" y=\"-365.3\" font-family=\"Times,serif\" font-size=\"14.00\">ctrl[2]</text>\n</g>\n<!-- ctrl_G17&#45;&gt;MultiAnd -->\n<g id=\"edge3\" class=\"edge\">\n<title>ctrl_G17:e-&gt;MultiAnd:w</title>\n<path fill=\"none\" stroke=\"black\" d=\"M54,-369C71.39,-369 72.81,-353.3 88.96,-352.08\"/>\n<ellipse fill=\"black\" stroke=\"black\" cx=\"90\" cy=\"-352.04\" rx=\"1\" ry=\"1\"/>\n<text text-anchor=\"middle\" x=\"72.5\" y=\"-363\" font-family=\"Times,serif\" font-size=\"10.00\">1</text>\n</g>\n<!-- ctrl_G24 -->\n<g id=\"node4\" class=\"node\">\n<title>ctrl_G24</title>\n<text text-anchor=\"middle\" x=\"27\" y=\"-311.3\" font-family=\"Times,serif\" font-size=\"14.00\">ctrl[3]</text>\n</g>\n<!-- ctrl_G24&#45;&gt;MultiAnd -->\n<g id=\"edge4\" class=\"edge\">\n<title>ctrl_G24:e-&gt;MultiAnd:w</title>\n<path fill=\"none\" stroke=\"black\" d=\"M54,-315C71.22,-315 72.97,-329.77 88.98,-330.93\"/>\n<ellipse fill=\"black\" stroke=\"black\" cx=\"90\" cy=\"-330.96\" rx=\"1\" ry=\"1\"/>\n<text text-anchor=\"middle\" x=\"72.5\" y=\"-326\" font-family=\"Times,serif\" font-size=\"10.00\">1</text>\n</g>\n<!-- ctrl_G27 -->\n<g id=\"node5\" class=\"node\">\n<title>ctrl_G27</title>\n<text text-anchor=\"middle\" x=\"27\" y=\"-257.3\" font-family=\"Times,serif\" font-size=\"14.00\">ctrl[4]</text>\n</g>\n<!-- ctrl_G27&#45;&gt;MultiAnd -->\n<g id=\"edge5\" class=\"edge\">\n<title>ctrl_G27:e-&gt;MultiAnd:w</title>\n<path fill=\"none\" stroke=\"black\" d=\"M54,-261C80.54,-261 64.64,-307.36 88.86,-309.89\"/>\n<ellipse fill=\"black\" stroke=\"black\" cx=\"90\" cy=\"-309.95\" rx=\"1\" ry=\"1\"/>\n<text text-anchor=\"middle\" x=\"72.5\" y=\"-289\" font-family=\"Times,serif\" font-size=\"10.00\">1</text>\n</g>\n<!-- ctrl_G26 -->\n<g id=\"node6\" class=\"node\">\n<title>ctrl_G26</title>\n<text text-anchor=\"middle\" x=\"27\" y=\"-203.3\" font-family=\"Times,serif\" font-size=\"14.00\">ctrl[5]</text>\n</g>\n<!-- ctrl_G26&#45;&gt;MultiAnd -->\n<g id=\"edge6\" class=\"edge\">\n<title>ctrl_G26:e-&gt;MultiAnd:w</title>\n<path fill=\"none\" stroke=\"black\" d=\"M54,-207C92.81,-207 53.04,-284.87 88.77,-287.91\"/>\n<ellipse fill=\"black\" stroke=\"black\" cx=\"90\" cy=\"-287.96\" rx=\"1\" ry=\"1\"/>\n<text text-anchor=\"middle\" x=\"72.5\" y=\"-271\" font-family=\"Times,serif\" font-size=\"10.00\">1</text>\n</g>\n<!-- ctrl_G5 -->\n<g id=\"node8\" class=\"node\">\n<title>ctrl_G5</title>\n<text text-anchor=\"middle\" x=\"226\" y=\"-554.3\" font-family=\"Times,serif\" font-size=\"14.00\">ctrl[0]</text>\n</g>\n<!-- MultiAnd&#45;&gt;ctrl_G5 -->\n<g id=\"edge7\" class=\"edge\">\n<title>MultiAnd:e-&gt;ctrl_G5:w</title>\n<path fill=\"none\" stroke=\"black\" d=\"M161,-394C178.95,-394 179.32,-545.44 195.9,-557.27\"/>\n<ellipse fill=\"black\" stroke=\"black\" cx=\"197.06\" cy=\"-557.67\" rx=\"1\" ry=\"1\"/>\n<text text-anchor=\"middle\" x=\"179.5\" y=\"-479\" font-family=\"Times,serif\" font-size=\"10.00\">1</text>\n</g>\n<!-- ctrl_G2 -->\n<g id=\"node9\" class=\"node\">\n<title>ctrl_G2</title>\n<text text-anchor=\"middle\" x=\"226\" y=\"-500.3\" font-family=\"Times,serif\" font-size=\"14.00\">ctrl[1]</text>\n</g>\n<!-- MultiAnd&#45;&gt;ctrl_G2 -->\n<g id=\"edge8\" class=\"edge\">\n<title>MultiAnd:e-&gt;ctrl_G2:w</title>\n<path fill=\"none\" stroke=\"black\" d=\"M161,-373C190.54,-373 168.82,-497.93 195.96,-503.79\"/>\n<ellipse fill=\"black\" stroke=\"black\" cx=\"197.01\" cy=\"-503.9\" rx=\"1\" ry=\"1\"/>\n<text text-anchor=\"middle\" x=\"179.5\" y=\"-449\" font-family=\"Times,serif\" font-size=\"10.00\">1</text>\n</g>\n<!-- ctrl_G6 -->\n<g id=\"node10\" class=\"node\">\n<title>ctrl_G6</title>\n<text text-anchor=\"middle\" x=\"226\" y=\"-446.3\" font-family=\"Times,serif\" font-size=\"14.00\">ctrl[2]</text>\n</g>\n<!-- MultiAnd&#45;&gt;ctrl_G6 -->\n<g id=\"edge9\" class=\"edge\">\n<title>MultiAnd:e-&gt;ctrl_G6:w</title>\n<path fill=\"none\" stroke=\"black\" d=\"M161,-352C183.55,-352 175.29,-443.97 195.91,-449.72\"/>\n<ellipse fill=\"black\" stroke=\"black\" cx=\"197.01\" cy=\"-449.87\" rx=\"1\" ry=\"1\"/>\n<text text-anchor=\"middle\" x=\"179.5\" y=\"-406\" font-family=\"Times,serif\" font-size=\"10.00\">1</text>\n</g>\n<!-- ctrl_G16 -->\n<g id=\"node11\" class=\"node\">\n<title>ctrl_G16</title>\n<text text-anchor=\"middle\" x=\"226\" y=\"-392.3\" font-family=\"Times,serif\" font-size=\"14.00\">ctrl[3]</text>\n</g>\n<!-- MultiAnd&#45;&gt;ctrl_G16 -->\n<g id=\"edge10\" class=\"edge\">\n<title>MultiAnd:e-&gt;ctrl_G16:w</title>\n<path fill=\"none\" stroke=\"black\" d=\"M161,-331C193.46,-331 166.11,-392.99 195.76,-395.89\"/>\n<ellipse fill=\"black\" stroke=\"black\" cx=\"197\" cy=\"-395.95\" rx=\"1\" ry=\"1\"/>\n<text text-anchor=\"middle\" x=\"179.5\" y=\"-372\" font-family=\"Times,serif\" font-size=\"10.00\">1</text>\n</g>\n<!-- ctrl_G23 -->\n<g id=\"node12\" class=\"node\">\n<title>ctrl_G23</title>\n<text text-anchor=\"middle\" x=\"226\" y=\"-338.3\" font-family=\"Times,serif\" font-size=\"14.00\">ctrl[4]</text>\n</g>\n<!-- MultiAnd&#45;&gt;ctrl_G23 -->\n<g id=\"edge11\" class=\"edge\">\n<title>MultiAnd:e-&gt;ctrl_G23:w</title>\n<path fill=\"none\" stroke=\"black\" d=\"M161,-310C181.89,-310 176.72,-339.55 195.58,-341.86\"/>\n<ellipse fill=\"black\" stroke=\"black\" cx=\"197\" cy=\"-341.94\" rx=\"1\" ry=\"1\"/>\n<text text-anchor=\"middle\" x=\"179.5\" y=\"-329\" font-family=\"Times,serif\" font-size=\"10.00\">1</text>\n</g>\n<!-- ctrl_G20 -->\n<g id=\"node13\" class=\"node\">\n<title>ctrl_G20</title>\n<text text-anchor=\"middle\" x=\"226\" y=\"-284.3\" font-family=\"Times,serif\" font-size=\"14.00\">ctrl[5]</text>\n</g>\n<!-- MultiAnd&#45;&gt;ctrl_G20 -->\n<g id=\"edge12\" class=\"edge\">\n<title>MultiAnd:e-&gt;ctrl_G20:w</title>\n<path fill=\"none\" stroke=\"black\" d=\"M161,-288C176.67,-288 181.14,-288 195.77,-288\"/>\n<ellipse fill=\"black\" stroke=\"black\" cx=\"197\" cy=\"-288\" rx=\"1\" ry=\"1\"/>\n<text text-anchor=\"middle\" x=\"179.5\" y=\"-291\" font-family=\"Times,serif\" font-size=\"10.00\">1</text>\n</g>\n<!-- junk_G10 -->\n<g id=\"node14\" class=\"node\">\n<title>junk_G10</title>\n<text text-anchor=\"middle\" x=\"226\" y=\"-230.3\" font-family=\"Times,serif\" font-size=\"14.00\">junk[0]</text>\n</g>\n<!-- MultiAnd&#45;&gt;junk_G10 -->\n<g id=\"edge13\" class=\"edge\">\n<title>MultiAnd:e-&gt;junk_G10:w</title>\n<path fill=\"none\" stroke=\"black\" d=\"M161,-267C182.17,-267 176.47,-236.53 195.55,-234.15\"/>\n<ellipse fill=\"black\" stroke=\"black\" cx=\"197\" cy=\"-234.06\" rx=\"1\" ry=\"1\"/>\n<text text-anchor=\"middle\" x=\"179.5\" y=\"-254\" font-family=\"Times,serif\" font-size=\"10.00\">1</text>\n</g>\n<!-- junk_G3 -->\n<g id=\"node15\" class=\"node\">\n<title>junk_G3</title>\n<text text-anchor=\"middle\" x=\"226\" y=\"-176.3\" font-family=\"Times,serif\" font-size=\"14.00\">junk[1]</text>\n</g>\n<!-- MultiAnd&#45;&gt;junk_G3 -->\n<g id=\"edge14\" class=\"edge\">\n<title>MultiAnd:e-&gt;junk_G3:w</title>\n<path fill=\"none\" stroke=\"black\" d=\"M161,-246C193.84,-246 165.75,-183.06 195.74,-180.11\"/>\n<ellipse fill=\"black\" stroke=\"black\" cx=\"197\" cy=\"-180.05\" rx=\"1\" ry=\"1\"/>\n<text text-anchor=\"middle\" x=\"179.5\" y=\"-223\" font-family=\"Times,serif\" font-size=\"10.00\">1</text>\n</g>\n<!-- junk_G12 -->\n<g id=\"node16\" class=\"node\">\n<title>junk_G12</title>\n<text text-anchor=\"middle\" x=\"226\" y=\"-122.3\" font-family=\"Times,serif\" font-size=\"14.00\">junk[2]</text>\n</g>\n<!-- MultiAnd&#45;&gt;junk_G12 -->\n<g id=\"edge15\" class=\"edge\">\n<title>MultiAnd:e-&gt;junk_G12:w</title>\n<path fill=\"none\" stroke=\"black\" d=\"M161,-225C183.75,-225 175.1,-132.09 195.89,-126.28\"/>\n<ellipse fill=\"black\" stroke=\"black\" cx=\"197.01\" cy=\"-126.13\" rx=\"1\" ry=\"1\"/>\n<text text-anchor=\"middle\" x=\"179.5\" y=\"-182\" font-family=\"Times,serif\" font-size=\"10.00\">1</text>\n</g>\n<!-- junk_G21 -->\n<g id=\"node17\" class=\"node\">\n<title>junk_G21</title>\n<text text-anchor=\"middle\" x=\"226\" y=\"-68.3\" font-family=\"Times,serif\" font-size=\"14.00\">junk[3]</text>\n</g>\n<!-- MultiAnd&#45;&gt;junk_G21 -->\n<g id=\"edge16\" class=\"edge\">\n<title>MultiAnd:e-&gt;junk_G21:w</title>\n<path fill=\"none\" stroke=\"black\" d=\"M161,-204C190.75,-204 168.63,-78.11 195.95,-72.21\"/>\n<ellipse fill=\"black\" stroke=\"black\" cx=\"197.01\" cy=\"-72.1\" rx=\"1\" ry=\"1\"/>\n<text text-anchor=\"middle\" x=\"179.5\" y=\"-149\" font-family=\"Times,serif\" font-size=\"10.00\">1</text>\n</g>\n<!-- target_G0 -->\n<g id=\"node18\" class=\"node\">\n<title>target_G0</title>\n<text text-anchor=\"middle\" x=\"226\" y=\"-14.3\" font-family=\"Times,serif\" font-size=\"14.00\">target</text>\n</g>\n<!-- MultiAnd&#45;&gt;target_G0 -->\n<g id=\"edge17\" class=\"edge\">\n<title>MultiAnd:e-&gt;target_G0:w</title>\n<path fill=\"none\" stroke=\"black\" d=\"M161,-183C179.05,-183 179.23,-30.64 195.88,-18.74\"/>\n<ellipse fill=\"black\" stroke=\"black\" cx=\"197.06\" cy=\"-18.33\" rx=\"1\" ry=\"1\"/>\n<text text-anchor=\"middle\" x=\"179.5\" y=\"-104\" font-family=\"Times,serif\" font-size=\"10.00\">1</text>\n</g>\n</g>\n</svg>",
          "text/plain": "<IPython.core.display.SVG object>"
         },
         "metadata": {},
         "output_type": "display_data"
        }
       ],
       "tabbable": null,
       "tooltip": null
      }
     }
    },
    "version_major": 2,
    "version_minor": 0
   }
  }
 },
 "nbformat": 4,
 "nbformat_minor": 5
}
