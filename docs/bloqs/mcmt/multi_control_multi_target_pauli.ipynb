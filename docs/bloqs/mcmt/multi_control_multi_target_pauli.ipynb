{
 "cells": [
  {
   "cell_type": "markdown",
   "id": "8533d106",
   "metadata": {
    "cq.autogen": "title_cell"
   },
   "source": [
    "# Multi-Paulis"
   ]
  },
  {
   "cell_type": "code",
   "execution_count": 1,
   "id": "b5831fa4",
   "metadata": {
    "cq.autogen": "top_imports"
   },
   "outputs": [],
   "source": [
    "from qualtran import Bloq, CompositeBloq, BloqBuilder, Signature, Register\n",
    "from qualtran import QBit, QInt, QUInt, QAny\n",
    "from qualtran.drawing import show_bloq, show_call_graph, show_counts_sigma\n",
    "from typing import *\n",
    "import numpy as np\n",
    "import sympy\n",
    "import cirq"
   ]
  },
  {
   "cell_type": "markdown",
   "id": "b85b5ac2",
   "metadata": {
    "cq.autogen": "MultiTargetCNOT.bloq_doc.md"
   },
   "source": [
    "## `MultiTargetCNOT`\n",
    "Implements single control, multi-target $C[X^{\\otimes n}]$ gate.\n",
    "\n",
    "Implements $|0><0| I + |1><1| X^{\\otimes n}$ using a circuit of depth $2\\log(n) + 1$\n",
    "containing only CNOT gates.\n",
    "\n",
    "#### References\n",
    " - [Trading T-gates for dirty qubits in state preparation and unitary synthesis](https://arxiv.org/abs/1812.00954). Appendix B.1.\n"
   ]
  },
  {
   "cell_type": "code",
   "execution_count": 2,
   "id": "387c77c3",
   "metadata": {
    "cq.autogen": "MultiTargetCNOT.bloq_doc.py"
   },
   "outputs": [],
   "source": [
    "from qualtran.bloqs.mcmt import MultiTargetCNOT"
   ]
  },
  {
   "cell_type": "markdown",
   "id": "cb66ffb6",
   "metadata": {
    "cq.autogen": "MultiTargetCNOT.example_instances.md"
   },
   "source": [
    "### Example Instances"
   ]
  },
  {
   "cell_type": "code",
   "execution_count": 3,
   "id": "e4d9154a",
   "metadata": {
    "cq.autogen": "MultiTargetCNOT.c_multi_not_symb"
   },
   "outputs": [],
   "source": [
    "n = sympy.Symbol('n')\n",
    "c_multi_not_symb = MultiTargetCNOT(bitsize=n)"
   ]
  },
  {
   "cell_type": "code",
   "execution_count": 4,
   "id": "ca47c43a",
   "metadata": {
    "cq.autogen": "MultiTargetCNOT.c_multi_not"
   },
   "outputs": [],
   "source": [
    "c_multi_not = MultiTargetCNOT(bitsize=5)"
   ]
  },
  {
   "cell_type": "markdown",
   "id": "a44ef0b1",
   "metadata": {
    "cq.autogen": "MultiTargetCNOT.graphical_signature.md"
   },
   "source": [
    "#### Graphical Signature"
   ]
  },
  {
   "cell_type": "code",
   "execution_count": 5,
   "id": "baafd2bf",
   "metadata": {
    "cq.autogen": "MultiTargetCNOT.graphical_signature.py"
   },
   "outputs": [
    {
     "data": {
      "application/vnd.jupyter.widget-view+json": {
       "model_id": "ddec2cbef1364a809187a55caff664b0",
       "version_major": 2,
       "version_minor": 0
      },
      "text/plain": [
       "HBox(children=(Output(outputs=({'output_type': 'display_data', 'data': {'text/plain': '<IPython.core.display.M…"
      ]
     },
     "metadata": {},
     "output_type": "display_data"
    }
   ],
   "source": [
    "from qualtran.drawing import show_bloqs\n",
    "show_bloqs([c_multi_not_symb, c_multi_not],\n",
    "           ['`c_multi_not_symb`', '`c_multi_not`'])"
   ]
  },
  {
   "cell_type": "markdown",
   "id": "60bc96ef",
   "metadata": {
    "cq.autogen": "MultiTargetCNOT.call_graph.md"
   },
   "source": [
    "### Call Graph"
   ]
  },
  {
   "cell_type": "code",
   "execution_count": 6,
   "id": "59e8162e",
   "metadata": {
    "cq.autogen": "MultiTargetCNOT.call_graph.py"
   },
   "outputs": [
    {
     "data": {
      "image/svg+xml": [
       "<svg xmlns=\"http://www.w3.org/2000/svg\" xmlns:xlink=\"http://www.w3.org/1999/xlink\" width=\"114pt\" height=\"44pt\" viewBox=\"0.00 0.00 114.00 44.00\">\n",
       "<g id=\"graph0\" class=\"graph\" transform=\"scale(1 1) rotate(0) translate(4 40)\">\n",
       "<title>counts</title>\n",
       "<polygon fill=\"white\" stroke=\"transparent\" points=\"-4,4 -4,-40 110,-40 110,4 -4,4\"/>\n",
       "<!-- b0 -->\n",
       "<g id=\"node1\" class=\"node\">\n",
       "<title>b0</title>\n",
       "<polygon fill=\"none\" stroke=\"black\" points=\"8,-6 8,-29 98,-29 98,-6 8,-6\"/>\n",
       "<text text-anchor=\"start\" x=\"14.5\" y=\"-15\" font-family=\"Times,serif\" font-size=\"10.00\">MultiTargetCNOT</text>\n",
       "</g>\n",
       "</g>\n",
       "</svg>"
      ],
      "text/plain": [
       "<IPython.core.display.SVG object>"
      ]
     },
     "metadata": {},
     "output_type": "display_data"
    },
    {
     "data": {
      "text/markdown": [
       "#### Counts totals:\n",
       " - `MultiTargetCNOT`: 1"
      ],
      "text/plain": [
       "<IPython.core.display.Markdown object>"
      ]
     },
     "metadata": {},
     "output_type": "display_data"
    }
   ],
   "source": [
    "from qualtran.resource_counting.generalizers import ignore_split_join\n",
    "c_multi_not_symb_g, c_multi_not_symb_sigma = c_multi_not_symb.call_graph(max_depth=1, generalizer=ignore_split_join)\n",
    "show_call_graph(c_multi_not_symb_g)\n",
    "show_counts_sigma(c_multi_not_symb_sigma)"
   ]
  },
  {
   "cell_type": "markdown",
   "id": "2de64cfb",
   "metadata": {
    "cq.autogen": "MultiControlX.bloq_doc.md"
   },
   "source": [
    "## `MultiControlX`\n",
    "Implements multi-control, single-target X gate.\n",
    "\n",
    "Reduces multiple controls to a single control using an `And` ladder.\n",
    "See class `ControlledViaAnd` for details on construction.\n",
    "\n",
    "Alternatively, one can directly use `XGate().controlled(CtrlSpec(cvs=cvs))`\n",
    "\n",
    "#### Parameters\n",
    " - `cvs`: a tuple of `n` control bits, or a `HasLength(n)` to control by `n` 1s. \n",
    "\n",
    "#### Registers\n",
    " - `controls`: control register of type `QBit` and shape `(n,)`.\n",
    " - `target`: single qubit target register.\n"
   ]
  },
  {
   "cell_type": "code",
   "execution_count": 7,
   "id": "9b43be2a",
   "metadata": {
    "cq.autogen": "MultiControlX.bloq_doc.py"
   },
   "outputs": [],
   "source": [
    "from qualtran.bloqs.mcmt import MultiControlX"
   ]
  },
  {
   "cell_type": "markdown",
   "id": "f9fbb578",
   "metadata": {
    "cq.autogen": "MultiControlX.example_instances.md"
   },
   "source": [
    "### Example Instances"
   ]
  },
  {
   "cell_type": "code",
   "execution_count": 8,
   "id": "050b0f8d",
   "metadata": {
    "cq.autogen": "MultiControlX.ccpauli"
   },
   "outputs": [],
   "source": [
    "ccpauli = MultiControlX(cvs=(1, 0, 1, 0, 1))"
   ]
  },
  {
   "cell_type": "markdown",
   "id": "ccf7ef61",
   "metadata": {
    "cq.autogen": "MultiControlX.graphical_signature.md"
   },
   "source": [
    "#### Graphical Signature"
   ]
  },
  {
   "cell_type": "code",
   "execution_count": 9,
   "id": "4fb51559",
   "metadata": {
    "cq.autogen": "MultiControlX.graphical_signature.py"
   },
   "outputs": [
    {
     "data": {
      "application/vnd.jupyter.widget-view+json": {
       "model_id": "7892628eb74743f3bd31989d30b0515d",
       "version_major": 2,
       "version_minor": 0
      },
      "text/plain": [
       "HBox(children=(Output(outputs=({'output_type': 'display_data', 'data': {'text/plain': '<IPython.core.display.M…"
      ]
     },
     "metadata": {},
     "output_type": "display_data"
    }
   ],
   "source": [
    "from qualtran.drawing import show_bloqs\n",
    "show_bloqs([ccpauli],\n",
    "           ['`ccpauli`'])"
   ]
  },
  {
   "cell_type": "markdown",
   "id": "358ff8ae",
   "metadata": {
    "cq.autogen": "MultiControlX.call_graph.md"
   },
   "source": [
    "### Call Graph"
   ]
  },
  {
   "cell_type": "code",
   "execution_count": 10,
   "id": "216d9bdf",
   "metadata": {
    "cq.autogen": "MultiControlX.call_graph.py"
   },
   "outputs": [
    {
     "data": {
      "image/svg+xml": [
       "<svg xmlns=\"http://www.w3.org/2000/svg\" xmlns:xlink=\"http://www.w3.org/1999/xlink\" width=\"68pt\" height=\"131pt\" viewBox=\"0.00 0.00 68.00 131.00\">\n",
       "<g id=\"graph0\" class=\"graph\" transform=\"scale(1 1) rotate(0) translate(4 127)\">\n",
       "<title>counts</title>\n",
       "<polygon fill=\"white\" stroke=\"transparent\" points=\"-4,4 -4,-127 64,-127 64,4 -4,4\"/>\n",
       "<!-- b0 -->\n",
       "<g id=\"node1\" class=\"node\">\n",
       "<title>b0</title>\n",
       "<polygon fill=\"none\" stroke=\"black\" points=\"11,-93 11,-116 49,-116 49,-93 11,-93\"/>\n",
       "<text text-anchor=\"start\" x=\"17.5\" y=\"-102\" font-family=\"Times,serif\" font-size=\"10.00\">C^5X</text>\n",
       "</g>\n",
       "<!-- b1 -->\n",
       "<g id=\"node2\" class=\"node\">\n",
       "<title>b1</title>\n",
       "<polygon fill=\"none\" stroke=\"black\" points=\"8,-6 8,-29 52,-29 52,-6 8,-6\"/>\n",
       "<text text-anchor=\"start\" x=\"14\" y=\"-15\" font-family=\"Times,serif\" font-size=\"10.00\">C[5][X]</text>\n",
       "</g>\n",
       "<!-- b0&#45;&gt;b1 -->\n",
       "<g id=\"edge1\" class=\"edge\">\n",
       "<title>b0-&gt;b1</title>\n",
       "<path fill=\"none\" stroke=\"black\" d=\"M30,-86.8C30,-75.16 30,-59.55 30,-46.24\"/>\n",
       "<polygon fill=\"black\" stroke=\"black\" points=\"33.5,-46.18 30,-36.18 26.5,-46.18 33.5,-46.18\"/>\n",
       "<text text-anchor=\"middle\" x=\"33.5\" y=\"-57.8\" font-family=\"Times,serif\" font-size=\"14.00\">1</text>\n",
       "</g>\n",
       "</g>\n",
       "</svg>"
      ],
      "text/plain": [
       "<IPython.core.display.SVG object>"
      ]
     },
     "metadata": {},
     "output_type": "display_data"
    },
    {
     "data": {
      "text/markdown": [
       "#### Counts totals:\n",
       " - `C[5][X]`: 1"
      ],
      "text/plain": [
       "<IPython.core.display.Markdown object>"
      ]
     },
     "metadata": {},
     "output_type": "display_data"
    }
   ],
   "source": [
    "from qualtran.resource_counting.generalizers import ignore_split_join\n",
    "ccpauli_g, ccpauli_sigma = ccpauli.call_graph(max_depth=1, generalizer=ignore_split_join)\n",
    "show_call_graph(ccpauli_g)\n",
    "show_counts_sigma(ccpauli_sigma)"
   ]
  }
 ],
 "metadata": {
  "kernelspec": {
   "display_name": "Python 3",
   "language": "python",
   "name": "python3"
  },
  "language_info": {
   "codemirror_mode": {
    "name": "ipython",
    "version": 3
   },
   "file_extension": ".py",
   "mimetype": "text/x-python",
   "name": "python",
   "nbconvert_exporter": "python",
   "pygments_lexer": "ipython3",
   "version": "3.11.8"
  },
  "widgets": {
   "application/vnd.jupyter.widget-state+json": {
    "state": {
     "00caba8a521f4805a71023ad1125b6a4": {
      "model_module": "@jupyter-widgets/base",
      "model_module_version": "2.0.0",
      "model_name": "LayoutModel",
      "state": {
       "_model_module": "@jupyter-widgets/base",
       "_model_module_version": "2.0.0",
       "_model_name": "LayoutModel",
       "_view_count": null,
       "_view_module": "@jupyter-widgets/base",
       "_view_module_version": "2.0.0",
       "_view_name": "LayoutView",
       "align_content": null,
       "align_items": null,
       "align_self": null,
       "border_bottom": null,
       "border_left": null,
       "border_right": null,
       "border_top": null,
       "bottom": null,
       "display": null,
       "flex": null,
       "flex_flow": null,
       "grid_area": null,
       "grid_auto_columns": null,
       "grid_auto_flow": null,
       "grid_auto_rows": null,
       "grid_column": null,
       "grid_gap": null,
       "grid_row": null,
       "grid_template_areas": null,
       "grid_template_columns": null,
       "grid_template_rows": null,
       "height": null,
       "justify_content": null,
       "justify_items": null,
       "left": null,
       "margin": null,
       "max_height": null,
       "max_width": null,
       "min_height": null,
       "min_width": null,
       "object_fit": null,
       "object_position": null,
       "order": null,
       "overflow": null,
       "padding": null,
       "right": null,
       "top": null,
       "visibility": null,
       "width": null
      }
     },
     "15dc596fb98842dba42bfd2fdefd6f15": {
      "model_module": "@jupyter-widgets/output",
      "model_module_version": "1.0.0",
      "model_name": "OutputModel",
      "state": {
       "_dom_classes": [],
       "_model_module": "@jupyter-widgets/output",
       "_model_module_version": "1.0.0",
       "_model_name": "OutputModel",
       "_view_count": null,
       "_view_module": "@jupyter-widgets/output",
       "_view_module_version": "1.0.0",
       "_view_name": "OutputView",
       "layout": "IPY_MODEL_b83691eb4f0d4c0fb459a63b79c0ab0b",
       "msg_id": "",
       "outputs": [
        {
         "data": {
          "text/markdown": "`c_multi_not_symb`",
          "text/plain": "<IPython.core.display.Markdown object>"
         },
         "metadata": {},
         "output_type": "display_data"
        },
        {
         "data": {
          "image/svg+xml": "<svg xmlns=\"http://www.w3.org/2000/svg\" xmlns:xlink=\"http://www.w3.org/1999/xlink\" width=\"275pt\" height=\"98pt\" viewBox=\"0.00 0.00 275.00 98.00\">\n<g id=\"graph0\" class=\"graph\" transform=\"scale(1 1) rotate(0) translate(4 94)\">\n<title>my_graph</title>\n<polygon fill=\"white\" stroke=\"transparent\" points=\"-4,4 -4,-94 271,-94 271,4 -4,4\"/>\n<!-- control_G4 -->\n<g id=\"node1\" class=\"node\">\n<title>control_G4</title>\n<text text-anchor=\"middle\" x=\"27.5\" y=\"-68.3\" font-family=\"Times,serif\" font-size=\"14.00\">control</text>\n</g>\n<!-- MultiTargetCNOT -->\n<g id=\"node3\" class=\"node\">\n<title>MultiTargetCNOT</title>\n<polygon fill=\"none\" stroke=\"black\" points=\"92.5,-66 92.5,-83 175.5,-83 175.5,-66 92.5,-66\"/>\n<text text-anchor=\"start\" x=\"95.5\" y=\"-72\" font-family=\"Times,serif\" font-size=\"10.00\">MultiTargetCNOT</text>\n<polygon fill=\"none\" stroke=\"black\" points=\"92.5,-45 92.5,-66 175.5,-66 175.5,-45 92.5,-45\"/>\n<text text-anchor=\"start\" x=\"114.5\" y=\"-51.8\" font-family=\"Times,serif\" font-size=\"14.00\">control</text>\n<polygon fill=\"none\" stroke=\"black\" points=\"92.5,-24 92.5,-45 175.5,-45 175.5,-24 92.5,-24\"/>\n<text text-anchor=\"start\" x=\"115.5\" y=\"-30.8\" font-family=\"Times,serif\" font-size=\"14.00\">targets</text>\n</g>\n<!-- control_G4&#45;&gt;MultiTargetCNOT -->\n<g id=\"edge1\" class=\"edge\">\n<title>control_G4:e-&gt;MultiTargetCNOT:w</title>\n<path fill=\"none\" stroke=\"black\" d=\"M55,-72C72.22,-72 73.97,-57.23 89.98,-56.07\"/>\n<ellipse fill=\"black\" stroke=\"black\" cx=\"91\" cy=\"-56.04\" rx=\"1\" ry=\"1\"/>\n<text text-anchor=\"middle\" x=\"73.5\" y=\"-67\" font-family=\"Times,serif\" font-size=\"10.00\">1</text>\n</g>\n<!-- targets_G5 -->\n<g id=\"node2\" class=\"node\">\n<title>targets_G5</title>\n<text text-anchor=\"middle\" x=\"27.5\" y=\"-14.3\" font-family=\"Times,serif\" font-size=\"14.00\">targets</text>\n</g>\n<!-- targets_G5&#45;&gt;MultiTargetCNOT -->\n<g id=\"edge2\" class=\"edge\">\n<title>targets_G5:e-&gt;MultiTargetCNOT:w</title>\n<path fill=\"none\" stroke=\"black\" d=\"M55,-18C72.22,-18 73.97,-32.77 89.98,-33.93\"/>\n<ellipse fill=\"black\" stroke=\"black\" cx=\"91\" cy=\"-33.96\" rx=\"1\" ry=\"1\"/>\n<text text-anchor=\"middle\" x=\"73.5\" y=\"-29\" font-family=\"Times,serif\" font-size=\"10.00\">n</text>\n</g>\n<!-- control_G2 -->\n<g id=\"node4\" class=\"node\">\n<title>control_G2</title>\n<text text-anchor=\"middle\" x=\"239.5\" y=\"-68.3\" font-family=\"Times,serif\" font-size=\"14.00\">control</text>\n</g>\n<!-- MultiTargetCNOT&#45;&gt;control_G2 -->\n<g id=\"edge3\" class=\"edge\">\n<title>MultiTargetCNOT:e-&gt;control_G2:w</title>\n<path fill=\"none\" stroke=\"black\" d=\"M175,-56C192.22,-56 193.97,-70.77 209.98,-71.93\"/>\n<ellipse fill=\"black\" stroke=\"black\" cx=\"211\" cy=\"-71.96\" rx=\"1\" ry=\"1\"/>\n<text text-anchor=\"middle\" x=\"193.5\" y=\"-67\" font-family=\"Times,serif\" font-size=\"10.00\">1</text>\n</g>\n<!-- targets_G0 -->\n<g id=\"node5\" class=\"node\">\n<title>targets_G0</title>\n<text text-anchor=\"middle\" x=\"239.5\" y=\"-14.3\" font-family=\"Times,serif\" font-size=\"14.00\">targets</text>\n</g>\n<!-- MultiTargetCNOT&#45;&gt;targets_G0 -->\n<g id=\"edge4\" class=\"edge\">\n<title>MultiTargetCNOT:e-&gt;targets_G0:w</title>\n<path fill=\"none\" stroke=\"black\" d=\"M175,-34C192.22,-34 193.97,-19.23 209.98,-18.07\"/>\n<ellipse fill=\"black\" stroke=\"black\" cx=\"211\" cy=\"-18.04\" rx=\"1\" ry=\"1\"/>\n<text text-anchor=\"middle\" x=\"193.5\" y=\"-29\" font-family=\"Times,serif\" font-size=\"10.00\">n</text>\n</g>\n</g>\n</svg>",
          "text/plain": "<IPython.core.display.SVG object>"
         },
         "metadata": {},
         "output_type": "display_data"
        }
       ],
       "tabbable": null,
       "tooltip": null
      }
     },
     "6f33e84c78154aa98bdf2771bf5561cd": {
      "model_module": "@jupyter-widgets/output",
      "model_module_version": "1.0.0",
      "model_name": "OutputModel",
      "state": {
       "_dom_classes": [],
       "_model_module": "@jupyter-widgets/output",
       "_model_module_version": "1.0.0",
       "_model_name": "OutputModel",
       "_view_count": null,
       "_view_module": "@jupyter-widgets/output",
       "_view_module_version": "1.0.0",
       "_view_name": "OutputView",
       "layout": "IPY_MODEL_98b438dc8fd844e3801b8fc479d3bac8",
       "msg_id": "",
       "outputs": [
        {
         "data": {
          "text/markdown": "`ccpauli`",
          "text/plain": "<IPython.core.display.Markdown object>"
         },
         "metadata": {},
         "output_type": "display_data"
        },
        {
         "data": {
          "image/svg+xml": "<svg xmlns=\"http://www.w3.org/2000/svg\" xmlns:xlink=\"http://www.w3.org/1999/xlink\" width=\"300pt\" height=\"314pt\" viewBox=\"0.00 0.00 300.00 314.00\">\n<g id=\"graph0\" class=\"graph\" transform=\"scale(1 1) rotate(0) translate(4 310)\">\n<title>my_graph</title>\n<polygon fill=\"white\" stroke=\"transparent\" points=\"-4,4 -4,-310 296,-310 296,4 -4,4\"/>\n<!-- controls_G13 -->\n<g id=\"node1\" class=\"node\">\n<title>controls_G13</title>\n<text text-anchor=\"middle\" x=\"38\" y=\"-284.3\" font-family=\"Times,serif\" font-size=\"14.00\">controls[0]</text>\n</g>\n<!-- MultiControlX -->\n<g id=\"node7\" class=\"node\">\n<title>MultiControlX</title>\n<polygon fill=\"none\" stroke=\"black\" points=\"113,-216 113,-233 179,-233 179,-216 113,-216\"/>\n<text text-anchor=\"start\" x=\"133.5\" y=\"-222\" font-family=\"Times,serif\" font-size=\"10.00\">C^5X</text>\n<polygon fill=\"none\" stroke=\"black\" points=\"113,-195 113,-216 179,-216 179,-195 113,-195\"/>\n<text text-anchor=\"start\" x=\"116\" y=\"-201.8\" font-family=\"Times,serif\" font-size=\"14.00\">controls[0]</text>\n<polygon fill=\"none\" stroke=\"black\" points=\"113,-174 113,-195 179,-195 179,-174 113,-174\"/>\n<text text-anchor=\"start\" x=\"116\" y=\"-180.8\" font-family=\"Times,serif\" font-size=\"14.00\">controls[1]</text>\n<polygon fill=\"none\" stroke=\"black\" points=\"113,-153 113,-174 179,-174 179,-153 113,-153\"/>\n<text text-anchor=\"start\" x=\"116\" y=\"-159.8\" font-family=\"Times,serif\" font-size=\"14.00\">controls[2]</text>\n<polygon fill=\"none\" stroke=\"black\" points=\"113,-132 113,-153 179,-153 179,-132 113,-132\"/>\n<text text-anchor=\"start\" x=\"116\" y=\"-138.8\" font-family=\"Times,serif\" font-size=\"14.00\">controls[3]</text>\n<polygon fill=\"none\" stroke=\"black\" points=\"113,-111 113,-132 179,-132 179,-111 113,-111\"/>\n<text text-anchor=\"start\" x=\"116\" y=\"-117.8\" font-family=\"Times,serif\" font-size=\"14.00\">controls[4]</text>\n<polygon fill=\"none\" stroke=\"black\" points=\"113,-90 113,-111 179,-111 179,-90 113,-90\"/>\n<text text-anchor=\"start\" x=\"130.5\" y=\"-96.8\" font-family=\"Times,serif\" font-size=\"14.00\">target</text>\n</g>\n<!-- controls_G13&#45;&gt;MultiControlX -->\n<g id=\"edge1\" class=\"edge\">\n<title>controls_G13:e-&gt;MultiControlX:w</title>\n<path fill=\"none\" stroke=\"black\" d=\"M76,-288C115.2,-288 74.66,-209.17 110.75,-206.09\"/>\n<ellipse fill=\"black\" stroke=\"black\" cx=\"112\" cy=\"-206.04\" rx=\"1\" ry=\"1\"/>\n<text text-anchor=\"middle\" x=\"94.5\" y=\"-273\" font-family=\"Times,serif\" font-size=\"10.00\">1</text>\n</g>\n<!-- controls_G12 -->\n<g id=\"node2\" class=\"node\">\n<title>controls_G12</title>\n<text text-anchor=\"middle\" x=\"38\" y=\"-230.3\" font-family=\"Times,serif\" font-size=\"14.00\">controls[1]</text>\n</g>\n<!-- controls_G12&#45;&gt;MultiControlX -->\n<g id=\"edge2\" class=\"edge\">\n<title>controls_G12:e-&gt;MultiControlX:w</title>\n<path fill=\"none\" stroke=\"black\" d=\"M76,-234C102.54,-234 86.64,-187.64 110.86,-185.11\"/>\n<ellipse fill=\"black\" stroke=\"black\" cx=\"112\" cy=\"-185.05\" rx=\"1\" ry=\"1\"/>\n<text text-anchor=\"middle\" x=\"94.5\" y=\"-213\" font-family=\"Times,serif\" font-size=\"10.00\">1</text>\n</g>\n<!-- controls_G17 -->\n<g id=\"node3\" class=\"node\">\n<title>controls_G17</title>\n<text text-anchor=\"middle\" x=\"38\" y=\"-176.3\" font-family=\"Times,serif\" font-size=\"14.00\">controls[2]</text>\n</g>\n<!-- controls_G17&#45;&gt;MultiControlX -->\n<g id=\"edge3\" class=\"edge\">\n<title>controls_G17:e-&gt;MultiControlX:w</title>\n<path fill=\"none\" stroke=\"black\" d=\"M76,-180C93.22,-180 94.97,-165.23 110.98,-164.07\"/>\n<ellipse fill=\"black\" stroke=\"black\" cx=\"112\" cy=\"-164.04\" rx=\"1\" ry=\"1\"/>\n<text text-anchor=\"middle\" x=\"94.5\" y=\"-175\" font-family=\"Times,serif\" font-size=\"10.00\">1</text>\n</g>\n<!-- controls_G2 -->\n<g id=\"node4\" class=\"node\">\n<title>controls_G2</title>\n<text text-anchor=\"middle\" x=\"38\" y=\"-122.3\" font-family=\"Times,serif\" font-size=\"14.00\">controls[3]</text>\n</g>\n<!-- controls_G2&#45;&gt;MultiControlX -->\n<g id=\"edge4\" class=\"edge\">\n<title>controls_G2:e-&gt;MultiControlX:w</title>\n<path fill=\"none\" stroke=\"black\" d=\"M76,-126C93.22,-126 94.97,-140.77 110.98,-141.93\"/>\n<ellipse fill=\"black\" stroke=\"black\" cx=\"112\" cy=\"-141.96\" rx=\"1\" ry=\"1\"/>\n<text text-anchor=\"middle\" x=\"94.5\" y=\"-137\" font-family=\"Times,serif\" font-size=\"10.00\">1</text>\n</g>\n<!-- controls_G6 -->\n<g id=\"node5\" class=\"node\">\n<title>controls_G6</title>\n<text text-anchor=\"middle\" x=\"38\" y=\"-68.3\" font-family=\"Times,serif\" font-size=\"14.00\">controls[4]</text>\n</g>\n<!-- controls_G6&#45;&gt;MultiControlX -->\n<g id=\"edge5\" class=\"edge\">\n<title>controls_G6:e-&gt;MultiControlX:w</title>\n<path fill=\"none\" stroke=\"black\" d=\"M76,-72C102.54,-72 86.64,-118.36 110.86,-120.89\"/>\n<ellipse fill=\"black\" stroke=\"black\" cx=\"112\" cy=\"-120.95\" rx=\"1\" ry=\"1\"/>\n<text text-anchor=\"middle\" x=\"94.5\" y=\"-100\" font-family=\"Times,serif\" font-size=\"10.00\">1</text>\n</g>\n<!-- target_G1 -->\n<g id=\"node6\" class=\"node\">\n<title>target_G1</title>\n<text text-anchor=\"middle\" x=\"38\" y=\"-14.3\" font-family=\"Times,serif\" font-size=\"14.00\">target</text>\n</g>\n<!-- target_G1&#45;&gt;MultiControlX -->\n<g id=\"edge6\" class=\"edge\">\n<title>target_G1:e-&gt;MultiControlX:w</title>\n<path fill=\"none\" stroke=\"black\" d=\"M66,-18C107.19,-18 72.41,-96.83 110.63,-99.91\"/>\n<ellipse fill=\"black\" stroke=\"black\" cx=\"112\" cy=\"-99.96\" rx=\"1\" ry=\"1\"/>\n<text text-anchor=\"middle\" x=\"94.5\" y=\"-91\" font-family=\"Times,serif\" font-size=\"10.00\">1</text>\n</g>\n<!-- controls_G11 -->\n<g id=\"node8\" class=\"node\">\n<title>controls_G11</title>\n<text text-anchor=\"middle\" x=\"254\" y=\"-284.3\" font-family=\"Times,serif\" font-size=\"14.00\">controls[0]</text>\n</g>\n<!-- MultiControlX&#45;&gt;controls_G11 -->\n<g id=\"edge7\" class=\"edge\">\n<title>MultiControlX:e-&gt;controls_G11:w</title>\n<path fill=\"none\" stroke=\"black\" d=\"M179,-206C218.2,-206 177.66,-284.83 213.75,-287.91\"/>\n<ellipse fill=\"black\" stroke=\"black\" cx=\"215\" cy=\"-287.96\" rx=\"1\" ry=\"1\"/>\n<text text-anchor=\"middle\" x=\"197.5\" y=\"-273\" font-family=\"Times,serif\" font-size=\"10.00\">1</text>\n</g>\n<!-- controls_G9 -->\n<g id=\"node9\" class=\"node\">\n<title>controls_G9</title>\n<text text-anchor=\"middle\" x=\"254\" y=\"-230.3\" font-family=\"Times,serif\" font-size=\"14.00\">controls[1]</text>\n</g>\n<!-- MultiControlX&#45;&gt;controls_G9 -->\n<g id=\"edge8\" class=\"edge\">\n<title>MultiControlX:e-&gt;controls_G9:w</title>\n<path fill=\"none\" stroke=\"black\" d=\"M179,-185C205.54,-185 189.64,-231.36 213.86,-233.89\"/>\n<ellipse fill=\"black\" stroke=\"black\" cx=\"215\" cy=\"-233.95\" rx=\"1\" ry=\"1\"/>\n<text text-anchor=\"middle\" x=\"197.5\" y=\"-213\" font-family=\"Times,serif\" font-size=\"10.00\">1</text>\n</g>\n<!-- controls_G14 -->\n<g id=\"node10\" class=\"node\">\n<title>controls_G14</title>\n<text text-anchor=\"middle\" x=\"254\" y=\"-176.3\" font-family=\"Times,serif\" font-size=\"14.00\">controls[2]</text>\n</g>\n<!-- MultiControlX&#45;&gt;controls_G14 -->\n<g id=\"edge9\" class=\"edge\">\n<title>MultiControlX:e-&gt;controls_G14:w</title>\n<path fill=\"none\" stroke=\"black\" d=\"M179,-164C196.22,-164 197.97,-178.77 213.98,-179.93\"/>\n<ellipse fill=\"black\" stroke=\"black\" cx=\"215\" cy=\"-179.96\" rx=\"1\" ry=\"1\"/>\n<text text-anchor=\"middle\" x=\"197.5\" y=\"-175\" font-family=\"Times,serif\" font-size=\"10.00\">1</text>\n</g>\n<!-- controls_G0 -->\n<g id=\"node11\" class=\"node\">\n<title>controls_G0</title>\n<text text-anchor=\"middle\" x=\"254\" y=\"-122.3\" font-family=\"Times,serif\" font-size=\"14.00\">controls[3]</text>\n</g>\n<!-- MultiControlX&#45;&gt;controls_G0 -->\n<g id=\"edge10\" class=\"edge\">\n<title>MultiControlX:e-&gt;controls_G0:w</title>\n<path fill=\"none\" stroke=\"black\" d=\"M179,-142C196.22,-142 197.97,-127.23 213.98,-126.07\"/>\n<ellipse fill=\"black\" stroke=\"black\" cx=\"215\" cy=\"-126.04\" rx=\"1\" ry=\"1\"/>\n<text text-anchor=\"middle\" x=\"197.5\" y=\"-137\" font-family=\"Times,serif\" font-size=\"10.00\">1</text>\n</g>\n<!-- controls_G4 -->\n<g id=\"node12\" class=\"node\">\n<title>controls_G4</title>\n<text text-anchor=\"middle\" x=\"254\" y=\"-68.3\" font-family=\"Times,serif\" font-size=\"14.00\">controls[4]</text>\n</g>\n<!-- MultiControlX&#45;&gt;controls_G4 -->\n<g id=\"edge11\" class=\"edge\">\n<title>MultiControlX:e-&gt;controls_G4:w</title>\n<path fill=\"none\" stroke=\"black\" d=\"M179,-121C205.54,-121 189.64,-74.64 213.86,-72.11\"/>\n<ellipse fill=\"black\" stroke=\"black\" cx=\"215\" cy=\"-72.05\" rx=\"1\" ry=\"1\"/>\n<text text-anchor=\"middle\" x=\"197.5\" y=\"-100\" font-family=\"Times,serif\" font-size=\"10.00\">1</text>\n</g>\n<!-- target_G8 -->\n<g id=\"node13\" class=\"node\">\n<title>target_G8</title>\n<text text-anchor=\"middle\" x=\"254\" y=\"-14.3\" font-family=\"Times,serif\" font-size=\"14.00\">target</text>\n</g>\n<!-- MultiControlX&#45;&gt;target_G8 -->\n<g id=\"edge12\" class=\"edge\">\n<title>MultiControlX:e-&gt;target_G8:w</title>\n<path fill=\"none\" stroke=\"black\" d=\"M179,-100C220.19,-100 185.41,-21.17 223.63,-18.09\"/>\n<ellipse fill=\"black\" stroke=\"black\" cx=\"225\" cy=\"-18.04\" rx=\"1\" ry=\"1\"/>\n<text text-anchor=\"middle\" x=\"197.5\" y=\"-91\" font-family=\"Times,serif\" font-size=\"10.00\">1</text>\n</g>\n</g>\n</svg>",
          "text/plain": "<IPython.core.display.SVG object>"
         },
         "metadata": {},
         "output_type": "display_data"
        }
       ],
       "tabbable": null,
       "tooltip": null
      }
     },
     "7892628eb74743f3bd31989d30b0515d": {
      "model_module": "@jupyter-widgets/controls",
      "model_module_version": "2.0.0",
      "model_name": "HBoxModel",
      "state": {
       "_dom_classes": [],
       "_model_module": "@jupyter-widgets/controls",
       "_model_module_version": "2.0.0",
       "_model_name": "HBoxModel",
       "_view_count": null,
       "_view_module": "@jupyter-widgets/controls",
       "_view_module_version": "2.0.0",
       "_view_name": "HBoxView",
       "box_style": "",
       "children": [
        "IPY_MODEL_6f33e84c78154aa98bdf2771bf5561cd"
       ],
       "layout": "IPY_MODEL_00caba8a521f4805a71023ad1125b6a4",
       "tabbable": null,
       "tooltip": null
      }
     },
     "8a780aa736e143ffbf874e0e26bc4ccb": {
      "model_module": "@jupyter-widgets/base",
      "model_module_version": "2.0.0",
      "model_name": "LayoutModel",
      "state": {
       "_model_module": "@jupyter-widgets/base",
       "_model_module_version": "2.0.0",
       "_model_name": "LayoutModel",
       "_view_count": null,
       "_view_module": "@jupyter-widgets/base",
       "_view_module_version": "2.0.0",
       "_view_name": "LayoutView",
       "align_content": null,
       "align_items": null,
       "align_self": null,
       "border_bottom": null,
       "border_left": null,
       "border_right": null,
       "border_top": null,
       "bottom": null,
       "display": null,
       "flex": null,
       "flex_flow": null,
       "grid_area": null,
       "grid_auto_columns": null,
       "grid_auto_flow": null,
       "grid_auto_rows": null,
       "grid_column": null,
       "grid_gap": null,
       "grid_row": null,
       "grid_template_areas": null,
       "grid_template_columns": null,
       "grid_template_rows": null,
       "height": null,
       "justify_content": null,
       "justify_items": null,
       "left": null,
       "margin": null,
       "max_height": null,
       "max_width": null,
       "min_height": null,
       "min_width": null,
       "object_fit": null,
       "object_position": null,
       "order": null,
       "overflow": null,
       "padding": null,
       "right": null,
       "top": null,
       "visibility": null,
       "width": null
      }
     },
     "98b438dc8fd844e3801b8fc479d3bac8": {
      "model_module": "@jupyter-widgets/base",
      "model_module_version": "2.0.0",
      "model_name": "LayoutModel",
      "state": {
       "_model_module": "@jupyter-widgets/base",
       "_model_module_version": "2.0.0",
       "_model_name": "LayoutModel",
       "_view_count": null,
       "_view_module": "@jupyter-widgets/base",
       "_view_module_version": "2.0.0",
       "_view_name": "LayoutView",
       "align_content": null,
       "align_items": null,
       "align_self": null,
       "border_bottom": null,
       "border_left": null,
       "border_right": null,
       "border_top": null,
       "bottom": null,
       "display": null,
       "flex": null,
       "flex_flow": null,
       "grid_area": null,
       "grid_auto_columns": null,
       "grid_auto_flow": null,
       "grid_auto_rows": null,
       "grid_column": null,
       "grid_gap": null,
       "grid_row": null,
       "grid_template_areas": null,
       "grid_template_columns": null,
       "grid_template_rows": null,
       "height": null,
       "justify_content": null,
       "justify_items": null,
       "left": null,
       "margin": null,
       "max_height": null,
       "max_width": null,
       "min_height": null,
       "min_width": null,
       "object_fit": null,
       "object_position": null,
       "order": null,
       "overflow": null,
       "padding": null,
       "right": null,
       "top": null,
       "visibility": null,
       "width": null
      }
     },
     "b83691eb4f0d4c0fb459a63b79c0ab0b": {
      "model_module": "@jupyter-widgets/base",
      "model_module_version": "2.0.0",
      "model_name": "LayoutModel",
      "state": {
       "_model_module": "@jupyter-widgets/base",
       "_model_module_version": "2.0.0",
       "_model_name": "LayoutModel",
       "_view_count": null,
       "_view_module": "@jupyter-widgets/base",
       "_view_module_version": "2.0.0",
       "_view_name": "LayoutView",
       "align_content": null,
       "align_items": null,
       "align_self": null,
       "border_bottom": null,
       "border_left": null,
       "border_right": null,
       "border_top": null,
       "bottom": null,
       "display": null,
       "flex": null,
       "flex_flow": null,
       "grid_area": null,
       "grid_auto_columns": null,
       "grid_auto_flow": null,
       "grid_auto_rows": null,
       "grid_column": null,
       "grid_gap": null,
       "grid_row": null,
       "grid_template_areas": null,
       "grid_template_columns": null,
       "grid_template_rows": null,
       "height": null,
       "justify_content": null,
       "justify_items": null,
       "left": null,
       "margin": null,
       "max_height": null,
       "max_width": null,
       "min_height": null,
       "min_width": null,
       "object_fit": null,
       "object_position": null,
       "order": null,
       "overflow": null,
       "padding": null,
       "right": null,
       "top": null,
       "visibility": null,
       "width": null
      }
     },
     "dbc935eb4aef4a4f80c7979de295d08a": {
      "model_module": "@jupyter-widgets/base",
      "model_module_version": "2.0.0",
      "model_name": "LayoutModel",
      "state": {
       "_model_module": "@jupyter-widgets/base",
       "_model_module_version": "2.0.0",
       "_model_name": "LayoutModel",
       "_view_count": null,
       "_view_module": "@jupyter-widgets/base",
       "_view_module_version": "2.0.0",
       "_view_name": "LayoutView",
       "align_content": null,
       "align_items": null,
       "align_self": null,
       "border_bottom": null,
       "border_left": null,
       "border_right": null,
       "border_top": null,
       "bottom": null,
       "display": null,
       "flex": null,
       "flex_flow": null,
       "grid_area": null,
       "grid_auto_columns": null,
       "grid_auto_flow": null,
       "grid_auto_rows": null,
       "grid_column": null,
       "grid_gap": null,
       "grid_row": null,
       "grid_template_areas": null,
       "grid_template_columns": null,
       "grid_template_rows": null,
       "height": null,
       "justify_content": null,
       "justify_items": null,
       "left": null,
       "margin": null,
       "max_height": null,
       "max_width": null,
       "min_height": null,
       "min_width": null,
       "object_fit": null,
       "object_position": null,
       "order": null,
       "overflow": null,
       "padding": null,
       "right": null,
       "top": null,
       "visibility": null,
       "width": null
      }
     },
     "ddec2cbef1364a809187a55caff664b0": {
      "model_module": "@jupyter-widgets/controls",
      "model_module_version": "2.0.0",
      "model_name": "HBoxModel",
      "state": {
       "_dom_classes": [],
       "_model_module": "@jupyter-widgets/controls",
       "_model_module_version": "2.0.0",
       "_model_name": "HBoxModel",
       "_view_count": null,
       "_view_module": "@jupyter-widgets/controls",
       "_view_module_version": "2.0.0",
       "_view_name": "HBoxView",
       "box_style": "",
       "children": [
        "IPY_MODEL_15dc596fb98842dba42bfd2fdefd6f15",
        "IPY_MODEL_ea9179f206c3473c908a893d377cada2"
       ],
       "layout": "IPY_MODEL_dbc935eb4aef4a4f80c7979de295d08a",
       "tabbable": null,
       "tooltip": null
      }
     },
     "ea9179f206c3473c908a893d377cada2": {
      "model_module": "@jupyter-widgets/output",
      "model_module_version": "1.0.0",
      "model_name": "OutputModel",
      "state": {
       "_dom_classes": [],
       "_model_module": "@jupyter-widgets/output",
       "_model_module_version": "1.0.0",
       "_model_name": "OutputModel",
       "_view_count": null,
       "_view_module": "@jupyter-widgets/output",
       "_view_module_version": "1.0.0",
       "_view_name": "OutputView",
       "layout": "IPY_MODEL_8a780aa736e143ffbf874e0e26bc4ccb",
       "msg_id": "",
       "outputs": [
        {
         "data": {
          "text/markdown": "`c_multi_not`",
          "text/plain": "<IPython.core.display.Markdown object>"
         },
         "metadata": {},
         "output_type": "display_data"
        },
        {
         "data": {
          "image/svg+xml": "<svg xmlns=\"http://www.w3.org/2000/svg\" xmlns:xlink=\"http://www.w3.org/1999/xlink\" width=\"275pt\" height=\"98pt\" viewBox=\"0.00 0.00 275.00 98.00\">\n<g id=\"graph0\" class=\"graph\" transform=\"scale(1 1) rotate(0) translate(4 94)\">\n<title>my_graph</title>\n<polygon fill=\"white\" stroke=\"transparent\" points=\"-4,4 -4,-94 271,-94 271,4 -4,4\"/>\n<!-- control_G5 -->\n<g id=\"node1\" class=\"node\">\n<title>control_G5</title>\n<text text-anchor=\"middle\" x=\"27.5\" y=\"-68.3\" font-family=\"Times,serif\" font-size=\"14.00\">control</text>\n</g>\n<!-- MultiTargetCNOT -->\n<g id=\"node3\" class=\"node\">\n<title>MultiTargetCNOT</title>\n<polygon fill=\"none\" stroke=\"black\" points=\"92.5,-66 92.5,-83 175.5,-83 175.5,-66 92.5,-66\"/>\n<text text-anchor=\"start\" x=\"95.5\" y=\"-72\" font-family=\"Times,serif\" font-size=\"10.00\">MultiTargetCNOT</text>\n<polygon fill=\"none\" stroke=\"black\" points=\"92.5,-45 92.5,-66 175.5,-66 175.5,-45 92.5,-45\"/>\n<text text-anchor=\"start\" x=\"114.5\" y=\"-51.8\" font-family=\"Times,serif\" font-size=\"14.00\">control</text>\n<polygon fill=\"none\" stroke=\"black\" points=\"92.5,-24 92.5,-45 175.5,-45 175.5,-24 92.5,-24\"/>\n<text text-anchor=\"start\" x=\"115.5\" y=\"-30.8\" font-family=\"Times,serif\" font-size=\"14.00\">targets</text>\n</g>\n<!-- control_G5&#45;&gt;MultiTargetCNOT -->\n<g id=\"edge1\" class=\"edge\">\n<title>control_G5:e-&gt;MultiTargetCNOT:w</title>\n<path fill=\"none\" stroke=\"black\" d=\"M55,-72C72.22,-72 73.97,-57.23 89.98,-56.07\"/>\n<ellipse fill=\"black\" stroke=\"black\" cx=\"91\" cy=\"-56.04\" rx=\"1\" ry=\"1\"/>\n<text text-anchor=\"middle\" x=\"73.5\" y=\"-67\" font-family=\"Times,serif\" font-size=\"10.00\">1</text>\n</g>\n<!-- targets_G4 -->\n<g id=\"node2\" class=\"node\">\n<title>targets_G4</title>\n<text text-anchor=\"middle\" x=\"27.5\" y=\"-14.3\" font-family=\"Times,serif\" font-size=\"14.00\">targets</text>\n</g>\n<!-- targets_G4&#45;&gt;MultiTargetCNOT -->\n<g id=\"edge2\" class=\"edge\">\n<title>targets_G4:e-&gt;MultiTargetCNOT:w</title>\n<path fill=\"none\" stroke=\"black\" d=\"M55,-18C72.22,-18 73.97,-32.77 89.98,-33.93\"/>\n<ellipse fill=\"black\" stroke=\"black\" cx=\"91\" cy=\"-33.96\" rx=\"1\" ry=\"1\"/>\n<text text-anchor=\"middle\" x=\"73.5\" y=\"-29\" font-family=\"Times,serif\" font-size=\"10.00\">5</text>\n</g>\n<!-- control_G1 -->\n<g id=\"node4\" class=\"node\">\n<title>control_G1</title>\n<text text-anchor=\"middle\" x=\"239.5\" y=\"-68.3\" font-family=\"Times,serif\" font-size=\"14.00\">control</text>\n</g>\n<!-- MultiTargetCNOT&#45;&gt;control_G1 -->\n<g id=\"edge3\" class=\"edge\">\n<title>MultiTargetCNOT:e-&gt;control_G1:w</title>\n<path fill=\"none\" stroke=\"black\" d=\"M175,-56C192.22,-56 193.97,-70.77 209.98,-71.93\"/>\n<ellipse fill=\"black\" stroke=\"black\" cx=\"211\" cy=\"-71.96\" rx=\"1\" ry=\"1\"/>\n<text text-anchor=\"middle\" x=\"193.5\" y=\"-67\" font-family=\"Times,serif\" font-size=\"10.00\">1</text>\n</g>\n<!-- targets_G0 -->\n<g id=\"node5\" class=\"node\">\n<title>targets_G0</title>\n<text text-anchor=\"middle\" x=\"239.5\" y=\"-14.3\" font-family=\"Times,serif\" font-size=\"14.00\">targets</text>\n</g>\n<!-- MultiTargetCNOT&#45;&gt;targets_G0 -->\n<g id=\"edge4\" class=\"edge\">\n<title>MultiTargetCNOT:e-&gt;targets_G0:w</title>\n<path fill=\"none\" stroke=\"black\" d=\"M175,-34C192.22,-34 193.97,-19.23 209.98,-18.07\"/>\n<ellipse fill=\"black\" stroke=\"black\" cx=\"211\" cy=\"-18.04\" rx=\"1\" ry=\"1\"/>\n<text text-anchor=\"middle\" x=\"193.5\" y=\"-29\" font-family=\"Times,serif\" font-size=\"10.00\">5</text>\n</g>\n</g>\n</svg>",
          "text/plain": "<IPython.core.display.SVG object>"
         },
         "metadata": {},
         "output_type": "display_data"
        }
       ],
       "tabbable": null,
       "tooltip": null
      }
     }
    },
    "version_major": 2,
    "version_minor": 0
   }
  }
 },
 "nbformat": 4,
 "nbformat_minor": 5
}
