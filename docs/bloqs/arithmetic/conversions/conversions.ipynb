{
 "cells": [
  {
   "cell_type": "markdown",
   "id": "1d183aeb",
   "metadata": {
    "cq.autogen": "title_cell"
   },
   "source": [
    "# Integer Conversions"
   ]
  },
  {
   "cell_type": "code",
   "execution_count": 1,
   "id": "14109d45",
   "metadata": {
    "cq.autogen": "top_imports"
   },
   "outputs": [],
   "source": [
    "from qualtran import Bloq, CompositeBloq, BloqBuilder, Signature, Register\n",
    "from qualtran import QBit, QInt, QUInt, QAny\n",
    "from qualtran.drawing import show_bloq, show_call_graph, show_counts_sigma\n",
    "from typing import *\n",
    "import numpy as np\n",
    "import sympy\n",
    "import cirq"
   ]
  },
  {
   "cell_type": "markdown",
   "id": "eb2d037e",
   "metadata": {
    "cq.autogen": "SignedIntegerToTwosComplement.bloq_doc.md"
   },
   "source": [
    "## `SignedIntegerToTwosComplement`\n",
    "Convert a register storing the signed integer representation to two's complement inplace.\n",
    "\n",
    "#### Parameters\n",
    " - `bitsize`: size of the register. \n",
    "\n",
    "#### Registers\n",
    " - `x`: input signed integer (ones' complement) register.\n",
    " - `y`: output signed integer register in two's complement. \n",
    "\n",
    "#### References\n",
    " - [Fault-Tolerant Quantum Simulations of Chemistry in First Quantization](https://arxiv.org/abs/2105.12767). page 24, 4th paragraph from the bottom.\n"
   ]
  },
  {
   "cell_type": "code",
   "execution_count": 2,
   "id": "90bb1bed",
   "metadata": {
    "cq.autogen": "SignedIntegerToTwosComplement.bloq_doc.py"
   },
   "outputs": [],
   "source": [
    "from qualtran.bloqs.arithmetic.conversions import SignedIntegerToTwosComplement"
   ]
  },
  {
   "cell_type": "markdown",
   "id": "8f3c1147",
   "metadata": {
    "cq.autogen": "SignedIntegerToTwosComplement.example_instances.md"
   },
   "source": [
    "### Example Instances"
   ]
  },
  {
   "cell_type": "code",
   "execution_count": 3,
   "id": "2dfb8e27",
   "metadata": {
    "cq.autogen": "SignedIntegerToTwosComplement.signed_to_twos"
   },
   "outputs": [],
   "source": [
    "signed_to_twos = SignedIntegerToTwosComplement(bitsize=10)"
   ]
  },
  {
   "cell_type": "markdown",
   "id": "06ef9a13",
   "metadata": {
    "cq.autogen": "SignedIntegerToTwosComplement.graphical_signature.md"
   },
   "source": [
    "#### Graphical Signature"
   ]
  },
  {
   "cell_type": "code",
   "execution_count": 4,
   "id": "325d1c85",
   "metadata": {
    "cq.autogen": "SignedIntegerToTwosComplement.graphical_signature.py"
   },
   "outputs": [
    {
     "data": {
      "application/vnd.jupyter.widget-view+json": {
       "model_id": "9486fe138d9a445fb3211f2e0ab7b480",
       "version_major": 2,
       "version_minor": 0
      },
      "text/plain": [
       "HBox(children=(Output(outputs=({'output_type': 'display_data', 'data': {'text/plain': '<IPython.core.display.M…"
      ]
     },
     "metadata": {},
     "output_type": "display_data"
    }
   ],
   "source": [
    "from qualtran.drawing import show_bloqs\n",
    "show_bloqs([signed_to_twos],\n",
    "           ['`signed_to_twos`'])"
   ]
  },
  {
   "cell_type": "markdown",
   "id": "de47d9a4",
   "metadata": {
    "cq.autogen": "SignedIntegerToTwosComplement.call_graph.md"
   },
   "source": [
    "### Call Graph"
   ]
  },
  {
   "cell_type": "code",
   "execution_count": 5,
   "id": "da2e339e",
   "metadata": {
    "cq.autogen": "SignedIntegerToTwosComplement.call_graph.py"
   },
   "outputs": [
    {
     "data": {
      "image/svg+xml": [
       "<svg xmlns=\"http://www.w3.org/2000/svg\" xmlns:xlink=\"http://www.w3.org/1999/xlink\" width=\"178pt\" height=\"131pt\" viewBox=\"0.00 0.00 178.00 131.00\">\n",
       "<g id=\"graph0\" class=\"graph\" transform=\"scale(1 1) rotate(0) translate(4 127)\">\n",
       "<title>counts</title>\n",
       "<polygon fill=\"white\" stroke=\"transparent\" points=\"-4,4 -4,-127 174,-127 174,4 -4,4\"/>\n",
       "<!-- b0 -->\n",
       "<g id=\"node1\" class=\"node\">\n",
       "<title>b0</title>\n",
       "<polygon fill=\"none\" stroke=\"black\" points=\"8,-93 8,-116 162,-116 162,-93 8,-93\"/>\n",
       "<text text-anchor=\"start\" x=\"14\" y=\"-102\" font-family=\"Times,serif\" font-size=\"10.00\">SignedIntegerToTwosComplement</text>\n",
       "</g>\n",
       "<!-- b1 -->\n",
       "<g id=\"node2\" class=\"node\">\n",
       "<title>b1</title>\n",
       "<polygon fill=\"none\" stroke=\"black\" points=\"65,-6 65,-29 105,-29 105,-6 65,-6\"/>\n",
       "<text text-anchor=\"start\" x=\"71\" y=\"-15\" font-family=\"Times,serif\" font-size=\"10.00\">Toffoli</text>\n",
       "</g>\n",
       "<!-- b0&#45;&gt;b1 -->\n",
       "<g id=\"edge1\" class=\"edge\">\n",
       "<title>b0-&gt;b1</title>\n",
       "<path fill=\"none\" stroke=\"black\" d=\"M85,-86.8C85,-75.16 85,-59.55 85,-46.24\"/>\n",
       "<polygon fill=\"black\" stroke=\"black\" points=\"88.5,-46.18 85,-36.18 81.5,-46.18 88.5,-46.18\"/>\n",
       "<text text-anchor=\"middle\" x=\"88.5\" y=\"-57.8\" font-family=\"Times,serif\" font-size=\"14.00\">8</text>\n",
       "</g>\n",
       "</g>\n",
       "</svg>"
      ],
      "text/plain": [
       "<IPython.core.display.SVG object>"
      ]
     },
     "metadata": {},
     "output_type": "display_data"
    },
    {
     "data": {
      "text/markdown": [
       "#### Counts totals:\n",
       " - `Toffoli`: 8"
      ],
      "text/plain": [
       "<IPython.core.display.Markdown object>"
      ]
     },
     "metadata": {},
     "output_type": "display_data"
    }
   ],
   "source": [
    "from qualtran.resource_counting.generalizers import ignore_split_join\n",
    "signed_to_twos_g, signed_to_twos_sigma = signed_to_twos.call_graph(max_depth=1, generalizer=ignore_split_join)\n",
    "show_call_graph(signed_to_twos_g)\n",
    "show_counts_sigma(signed_to_twos_sigma)"
   ]
  },
  {
   "cell_type": "code",
   "execution_count": 6,
   "id": "fc4d5d9b",
   "metadata": {
    "cq.autogen": "ToContiguousIndex.bloq_doc.py"
   },
   "outputs": [],
   "source": [
    "from qualtran.bloqs.arithmetic import ToContiguousIndex"
   ]
  },
  {
   "cell_type": "markdown",
   "id": "5f88c48f",
   "metadata": {
    "cq.autogen": "ToContiguousIndex.example_instances.md"
   },
   "source": [
    "### Example Instances"
   ]
  },
  {
   "cell_type": "code",
   "execution_count": 7,
   "id": "f1b9eba4",
   "metadata": {
    "cq.autogen": "ToContiguousIndex.to_contg_index"
   },
   "outputs": [],
   "source": [
    "to_contg_index = ToContiguousIndex(bitsize=4, s_bitsize=8)"
   ]
  },
  {
   "cell_type": "markdown",
   "id": "6565d270",
   "metadata": {
    "cq.autogen": "ToContiguousIndex.graphical_signature.md"
   },
   "source": [
    "#### Graphical Signature"
   ]
  },
  {
   "cell_type": "code",
   "execution_count": 8,
   "id": "676836df",
   "metadata": {
    "cq.autogen": "ToContiguousIndex.graphical_signature.py"
   },
   "outputs": [
    {
     "data": {
      "application/vnd.jupyter.widget-view+json": {
       "model_id": "091b76585cd54b47b4136ba5405e7334",
       "version_major": 2,
       "version_minor": 0
      },
      "text/plain": [
       "HBox(children=(Output(outputs=({'output_type': 'display_data', 'data': {'text/plain': '<IPython.core.display.M…"
      ]
     },
     "metadata": {},
     "output_type": "display_data"
    }
   ],
   "source": [
    "from qualtran.drawing import show_bloqs\n",
    "show_bloqs([to_contg_index],\n",
    "           ['`to_contg_index`'])"
   ]
  },
  {
   "cell_type": "markdown",
   "id": "7ec6b833",
   "metadata": {
    "cq.autogen": "ToContiguousIndex.call_graph.md"
   },
   "source": [
    "### Call Graph"
   ]
  },
  {
   "cell_type": "code",
   "execution_count": 9,
   "id": "b7c7b076",
   "metadata": {
    "cq.autogen": "ToContiguousIndex.call_graph.py"
   },
   "outputs": [
    {
     "data": {
      "image/svg+xml": [
       "<svg xmlns=\"http://www.w3.org/2000/svg\" xmlns:xlink=\"http://www.w3.org/1999/xlink\" width=\"118pt\" height=\"131pt\" viewBox=\"0.00 0.00 118.00 131.00\">\n",
       "<g id=\"graph0\" class=\"graph\" transform=\"scale(1 1) rotate(0) translate(4 127)\">\n",
       "<title>counts</title>\n",
       "<polygon fill=\"white\" stroke=\"transparent\" points=\"-4,4 -4,-127 114,-127 114,4 -4,4\"/>\n",
       "<!-- b0 -->\n",
       "<g id=\"node1\" class=\"node\">\n",
       "<title>b0</title>\n",
       "<polygon fill=\"none\" stroke=\"black\" points=\"8,-93 8,-116 102,-116 102,-93 8,-93\"/>\n",
       "<text text-anchor=\"start\" x=\"14\" y=\"-102\" font-family=\"Times,serif\" font-size=\"10.00\">ToContiguousIndex</text>\n",
       "</g>\n",
       "<!-- b1 -->\n",
       "<g id=\"node2\" class=\"node\">\n",
       "<title>b1</title>\n",
       "<polygon fill=\"none\" stroke=\"black\" points=\"35,-6 35,-29 75,-29 75,-6 35,-6\"/>\n",
       "<text text-anchor=\"start\" x=\"41\" y=\"-15\" font-family=\"Times,serif\" font-size=\"10.00\">Toffoli</text>\n",
       "</g>\n",
       "<!-- b0&#45;&gt;b1 -->\n",
       "<g id=\"edge1\" class=\"edge\">\n",
       "<title>b0-&gt;b1</title>\n",
       "<path fill=\"none\" stroke=\"black\" d=\"M55,-86.8C55,-75.16 55,-59.55 55,-46.24\"/>\n",
       "<polygon fill=\"black\" stroke=\"black\" points=\"58.5,-46.18 55,-36.18 51.5,-46.18 58.5,-46.18\"/>\n",
       "<text text-anchor=\"middle\" x=\"62\" y=\"-57.8\" font-family=\"Times,serif\" font-size=\"14.00\">19</text>\n",
       "</g>\n",
       "</g>\n",
       "</svg>"
      ],
      "text/plain": [
       "<IPython.core.display.SVG object>"
      ]
     },
     "metadata": {},
     "output_type": "display_data"
    },
    {
     "data": {
      "text/markdown": [
       "#### Counts totals:\n",
       " - `Toffoli`: 19"
      ],
      "text/plain": [
       "<IPython.core.display.Markdown object>"
      ]
     },
     "metadata": {},
     "output_type": "display_data"
    }
   ],
   "source": [
    "from qualtran.resource_counting.generalizers import ignore_split_join\n",
    "to_contg_index_g, to_contg_index_sigma = to_contg_index.call_graph(max_depth=1, generalizer=ignore_split_join)\n",
    "show_call_graph(to_contg_index_g)\n",
    "show_counts_sigma(to_contg_index_sigma)"
   ]
  },
  {
   "cell_type": "markdown",
   "id": "53d5ff62",
   "metadata": {
    "cq.autogen": "SignExtend.bloq_doc.md"
   },
   "source": [
    "## `SignExtend`\n",
    "Sign-Extend a value to a value of larger bitsize.\n",
    "\n",
    "Useful to implement arithmetic operations with differing operand bitsizes.\n",
    "A sign extension copies the MSB into the new bits of the wider value. For\n",
    "example: a 4-bit to 6-bit sign-extension of `1010` gives `111010`.\n",
    "\n",
    "See :class:`SignTruncate` for the adjoint operation.\n",
    "\n",
    "#### Parameters\n",
    " - `inp_dtype`: input data type.\n",
    " - `out_dtype`: output data type. must be same class as `inp_dtype`, and have larger bitsize. \n",
    "\n",
    "#### Registers\n",
    " - `x`: the input register of type `inp_dtype`\n",
    " - `y`: the output register of type `out_dtype`\n"
   ]
  },
  {
   "cell_type": "code",
   "execution_count": 10,
   "id": "af71ff16",
   "metadata": {
    "cq.autogen": "SignExtend.bloq_doc.py"
   },
   "outputs": [],
   "source": [
    "from qualtran.bloqs.arithmetic.conversions import SignExtend"
   ]
  },
  {
   "cell_type": "markdown",
   "id": "23aced7a",
   "metadata": {
    "cq.autogen": "SignExtend.example_instances.md"
   },
   "source": [
    "### Example Instances"
   ]
  },
  {
   "cell_type": "code",
   "execution_count": 11,
   "id": "59e4bc6c",
   "metadata": {
    "cq.autogen": "SignExtend.sign_extend"
   },
   "outputs": [],
   "source": [
    "from qualtran import QInt\n",
    "\n",
    "sign_extend = SignExtend(QInt(8), QInt(16))"
   ]
  },
  {
   "cell_type": "code",
   "execution_count": 12,
   "id": "df97b5aa",
   "metadata": {
    "cq.autogen": "SignExtend.sign_extend_fxp"
   },
   "outputs": [],
   "source": [
    "from qualtran import QFxp\n",
    "\n",
    "sign_extend_fxp = SignExtend(QFxp(8, 4, signed=True), QFxp(16, 4, signed=True))"
   ]
  },
  {
   "cell_type": "markdown",
   "id": "f641c72d",
   "metadata": {
    "cq.autogen": "SignExtend.graphical_signature.md"
   },
   "source": [
    "#### Graphical Signature"
   ]
  },
  {
   "cell_type": "code",
   "execution_count": 13,
   "id": "ccd86c90",
   "metadata": {
    "cq.autogen": "SignExtend.graphical_signature.py"
   },
   "outputs": [
    {
     "data": {
      "application/vnd.jupyter.widget-view+json": {
       "model_id": "8889f1e28cf0421a8ae47fe2d26f0cef",
       "version_major": 2,
       "version_minor": 0
      },
      "text/plain": [
       "HBox(children=(Output(outputs=({'output_type': 'display_data', 'data': {'text/plain': '<IPython.core.display.M…"
      ]
     },
     "metadata": {},
     "output_type": "display_data"
    }
   ],
   "source": [
    "from qualtran.drawing import show_bloqs\n",
    "show_bloqs([sign_extend],\n",
    "           ['`sign_extend`'])"
   ]
  },
  {
   "cell_type": "markdown",
   "id": "c74f758b",
   "metadata": {
    "cq.autogen": "SignExtend.call_graph.md"
   },
   "source": [
    "### Call Graph"
   ]
  },
  {
   "cell_type": "code",
   "execution_count": 14,
   "id": "f0c90ef4",
   "metadata": {
    "cq.autogen": "SignExtend.call_graph.py"
   },
   "outputs": [
    {
     "data": {
      "image/svg+xml": [
       "<svg xmlns=\"http://www.w3.org/2000/svg\" xmlns:xlink=\"http://www.w3.org/1999/xlink\" width=\"114pt\" height=\"131pt\" viewBox=\"0.00 0.00 114.00 131.00\">\n",
       "<g id=\"graph0\" class=\"graph\" transform=\"scale(1 1) rotate(0) translate(4 127)\">\n",
       "<title>counts</title>\n",
       "<polygon fill=\"white\" stroke=\"transparent\" points=\"-4,4 -4,-127 110,-127 110,4 -4,4\"/>\n",
       "<!-- b0 -->\n",
       "<g id=\"node1\" class=\"node\">\n",
       "<title>b0</title>\n",
       "<polygon fill=\"none\" stroke=\"black\" points=\"22,-93 22,-116 84,-116 84,-93 22,-93\"/>\n",
       "<text text-anchor=\"start\" x=\"28.5\" y=\"-102\" font-family=\"Times,serif\" font-size=\"10.00\">SignExtend</text>\n",
       "</g>\n",
       "<!-- b1 -->\n",
       "<g id=\"node2\" class=\"node\">\n",
       "<title>b1</title>\n",
       "<polygon fill=\"none\" stroke=\"black\" points=\"8,-6 8,-29 98,-29 98,-6 8,-6\"/>\n",
       "<text text-anchor=\"start\" x=\"14.5\" y=\"-15\" font-family=\"Times,serif\" font-size=\"10.00\">MultiTargetCNOT</text>\n",
       "</g>\n",
       "<!-- b0&#45;&gt;b1 -->\n",
       "<g id=\"edge1\" class=\"edge\">\n",
       "<title>b0-&gt;b1</title>\n",
       "<path fill=\"none\" stroke=\"black\" d=\"M53,-86.8C53,-75.16 53,-59.55 53,-46.24\"/>\n",
       "<polygon fill=\"black\" stroke=\"black\" points=\"56.5,-46.18 53,-36.18 49.5,-46.18 56.5,-46.18\"/>\n",
       "<text text-anchor=\"middle\" x=\"56.5\" y=\"-57.8\" font-family=\"Times,serif\" font-size=\"14.00\">1</text>\n",
       "</g>\n",
       "</g>\n",
       "</svg>"
      ],
      "text/plain": [
       "<IPython.core.display.SVG object>"
      ]
     },
     "metadata": {},
     "output_type": "display_data"
    },
    {
     "data": {
      "text/markdown": [
       "#### Counts totals:\n",
       " - `MultiTargetCNOT`: 1"
      ],
      "text/plain": [
       "<IPython.core.display.Markdown object>"
      ]
     },
     "metadata": {},
     "output_type": "display_data"
    }
   ],
   "source": [
    "from qualtran.resource_counting.generalizers import ignore_split_join\n",
    "sign_extend_g, sign_extend_sigma = sign_extend.call_graph(max_depth=1, generalizer=ignore_split_join)\n",
    "show_call_graph(sign_extend_g)\n",
    "show_counts_sigma(sign_extend_sigma)"
   ]
  },
  {
   "cell_type": "markdown",
   "id": "2ba208c9",
   "metadata": {
    "cq.autogen": "SignTruncate.bloq_doc.md"
   },
   "source": [
    "## `SignTruncate`\n",
    "Truncate a signed value to a smaller bitsize.\n",
    "\n",
    "Useful to implement arithmetic operations with differing operand bitsizes.\n",
    "A signed truncation xors the MSB (sign bit) into the bits to drop, and\n",
    "deallocates them.\n",
    "\n",
    "See :class:`SignExtend` for the adjoint operation.\n",
    "\n",
    "\n",
    "#### Parameters\n",
    " - `inp_dtype`: input data type.\n",
    " - `out_dtype`: output data type. must be same class as `inp_dtype`, and have smaller bitsize. \n",
    "\n",
    "#### Registers\n",
    " - `x`: the input register of type `inp_dtype`\n",
    " - `y`: the output register of type `out_dtype`\n"
   ]
  },
  {
   "cell_type": "code",
   "execution_count": 15,
   "id": "f3e28e97",
   "metadata": {
    "cq.autogen": "SignTruncate.bloq_doc.py"
   },
   "outputs": [],
   "source": [
    "from qualtran.bloqs.arithmetic.conversions import SignTruncate"
   ]
  },
  {
   "cell_type": "markdown",
   "id": "40fca6fe",
   "metadata": {
    "cq.autogen": "SignTruncate.example_instances.md"
   },
   "source": [
    "### Example Instances"
   ]
  },
  {
   "cell_type": "code",
   "execution_count": 16,
   "id": "7f86437b",
   "metadata": {
    "cq.autogen": "SignTruncate.sign_truncate"
   },
   "outputs": [],
   "source": [
    "from qualtran import QInt\n",
    "\n",
    "sign_truncate = SignTruncate(QInt(16), QInt(8))"
   ]
  },
  {
   "cell_type": "markdown",
   "id": "a68686b6",
   "metadata": {
    "cq.autogen": "SignTruncate.graphical_signature.md"
   },
   "source": [
    "#### Graphical Signature"
   ]
  },
  {
   "cell_type": "code",
   "execution_count": 17,
   "id": "2858c246",
   "metadata": {
    "cq.autogen": "SignTruncate.graphical_signature.py"
   },
   "outputs": [
    {
     "data": {
      "application/vnd.jupyter.widget-view+json": {
       "model_id": "44c7d0cdb52c49ab83dae6f3cc8b0d19",
       "version_major": 2,
       "version_minor": 0
      },
      "text/plain": [
       "HBox(children=(Output(outputs=({'output_type': 'display_data', 'data': {'text/plain': '<IPython.core.display.M…"
      ]
     },
     "metadata": {},
     "output_type": "display_data"
    }
   ],
   "source": [
    "from qualtran.drawing import show_bloqs\n",
    "show_bloqs([sign_truncate],\n",
    "           ['`sign_truncate`'])"
   ]
  },
  {
   "cell_type": "markdown",
   "id": "61625d4e",
   "metadata": {
    "cq.autogen": "SignTruncate.call_graph.md"
   },
   "source": [
    "### Call Graph"
   ]
  },
  {
   "cell_type": "code",
   "execution_count": 18,
   "id": "8b34ef47",
   "metadata": {
    "cq.autogen": "SignTruncate.call_graph.py"
   },
   "outputs": [
    {
     "data": {
      "image/svg+xml": [
       "<svg xmlns=\"http://www.w3.org/2000/svg\" xmlns:xlink=\"http://www.w3.org/1999/xlink\" width=\"114pt\" height=\"131pt\" viewBox=\"0.00 0.00 114.00 131.00\">\n",
       "<g id=\"graph0\" class=\"graph\" transform=\"scale(1 1) rotate(0) translate(4 127)\">\n",
       "<title>counts</title>\n",
       "<polygon fill=\"white\" stroke=\"transparent\" points=\"-4,4 -4,-127 110,-127 110,4 -4,4\"/>\n",
       "<!-- b0 -->\n",
       "<g id=\"node1\" class=\"node\">\n",
       "<title>b0</title>\n",
       "<polygon fill=\"none\" stroke=\"black\" points=\"19,-93 19,-116 87,-116 87,-93 19,-93\"/>\n",
       "<text text-anchor=\"start\" x=\"25.5\" y=\"-102\" font-family=\"Times,serif\" font-size=\"10.00\">SignTruncate</text>\n",
       "</g>\n",
       "<!-- b1 -->\n",
       "<g id=\"node2\" class=\"node\">\n",
       "<title>b1</title>\n",
       "<polygon fill=\"none\" stroke=\"black\" points=\"8,-6 8,-29 98,-29 98,-6 8,-6\"/>\n",
       "<text text-anchor=\"start\" x=\"14.5\" y=\"-15\" font-family=\"Times,serif\" font-size=\"10.00\">MultiTargetCNOT</text>\n",
       "</g>\n",
       "<!-- b0&#45;&gt;b1 -->\n",
       "<g id=\"edge1\" class=\"edge\">\n",
       "<title>b0-&gt;b1</title>\n",
       "<path fill=\"none\" stroke=\"black\" d=\"M53,-86.8C53,-75.16 53,-59.55 53,-46.24\"/>\n",
       "<polygon fill=\"black\" stroke=\"black\" points=\"56.5,-46.18 53,-36.18 49.5,-46.18 56.5,-46.18\"/>\n",
       "<text text-anchor=\"middle\" x=\"56.5\" y=\"-57.8\" font-family=\"Times,serif\" font-size=\"14.00\">1</text>\n",
       "</g>\n",
       "</g>\n",
       "</svg>"
      ],
      "text/plain": [
       "<IPython.core.display.SVG object>"
      ]
     },
     "metadata": {},
     "output_type": "display_data"
    },
    {
     "data": {
      "text/markdown": [
       "#### Counts totals:\n",
       " - `MultiTargetCNOT`: 1"
      ],
      "text/plain": [
       "<IPython.core.display.Markdown object>"
      ]
     },
     "metadata": {},
     "output_type": "display_data"
    }
   ],
   "source": [
    "from qualtran.resource_counting.generalizers import ignore_split_join\n",
    "sign_truncate_g, sign_truncate_sigma = sign_truncate.call_graph(max_depth=1, generalizer=ignore_split_join)\n",
    "show_call_graph(sign_truncate_g)\n",
    "show_counts_sigma(sign_truncate_sigma)"
   ]
  }
 ],
 "metadata": {
  "kernelspec": {
   "display_name": "Python 3",
   "language": "python",
   "name": "python3"
  },
  "language_info": {
   "codemirror_mode": {
    "name": "ipython",
    "version": 3
   },
   "file_extension": ".py",
   "mimetype": "text/x-python",
   "name": "python",
   "nbconvert_exporter": "python",
   "pygments_lexer": "ipython3",
   "version": "3.11.8"
  },
  "widgets": {
   "application/vnd.jupyter.widget-state+json": {
    "state": {
     "091b76585cd54b47b4136ba5405e7334": {
      "model_module": "@jupyter-widgets/controls",
      "model_module_version": "2.0.0",
      "model_name": "HBoxModel",
      "state": {
       "_dom_classes": [],
       "_model_module": "@jupyter-widgets/controls",
       "_model_module_version": "2.0.0",
       "_model_name": "HBoxModel",
       "_view_count": null,
       "_view_module": "@jupyter-widgets/controls",
       "_view_module_version": "2.0.0",
       "_view_name": "HBoxView",
       "box_style": "",
       "children": [
        "IPY_MODEL_8ce2b4bd5b1249afba56a865535b9ec8"
       ],
       "layout": "IPY_MODEL_8a1d0b91877e47feb01f1592d28d27d4",
       "tabbable": null,
       "tooltip": null
      }
     },
     "148ced6cbab14b8eadb1a8c6e4496fdd": {
      "model_module": "@jupyter-widgets/base",
      "model_module_version": "2.0.0",
      "model_name": "LayoutModel",
      "state": {
       "_model_module": "@jupyter-widgets/base",
       "_model_module_version": "2.0.0",
       "_model_name": "LayoutModel",
       "_view_count": null,
       "_view_module": "@jupyter-widgets/base",
       "_view_module_version": "2.0.0",
       "_view_name": "LayoutView",
       "align_content": null,
       "align_items": null,
       "align_self": null,
       "border_bottom": null,
       "border_left": null,
       "border_right": null,
       "border_top": null,
       "bottom": null,
       "display": null,
       "flex": null,
       "flex_flow": null,
       "grid_area": null,
       "grid_auto_columns": null,
       "grid_auto_flow": null,
       "grid_auto_rows": null,
       "grid_column": null,
       "grid_gap": null,
       "grid_row": null,
       "grid_template_areas": null,
       "grid_template_columns": null,
       "grid_template_rows": null,
       "height": null,
       "justify_content": null,
       "justify_items": null,
       "left": null,
       "margin": null,
       "max_height": null,
       "max_width": null,
       "min_height": null,
       "min_width": null,
       "object_fit": null,
       "object_position": null,
       "order": null,
       "overflow": null,
       "padding": null,
       "right": null,
       "top": null,
       "visibility": null,
       "width": null
      }
     },
     "1897f678fb534ca08963701bbc854bd6": {
      "model_module": "@jupyter-widgets/output",
      "model_module_version": "1.0.0",
      "model_name": "OutputModel",
      "state": {
       "_dom_classes": [],
       "_model_module": "@jupyter-widgets/output",
       "_model_module_version": "1.0.0",
       "_model_name": "OutputModel",
       "_view_count": null,
       "_view_module": "@jupyter-widgets/output",
       "_view_module_version": "1.0.0",
       "_view_name": "OutputView",
       "layout": "IPY_MODEL_7ed42864b1cc4c43a701040c50e53a6d",
       "msg_id": "",
       "outputs": [
        {
         "data": {
          "text/markdown": "`signed_to_twos`",
          "text/plain": "<IPython.core.display.Markdown object>"
         },
         "metadata": {},
         "output_type": "display_data"
        },
        {
         "data": {
          "image/svg+xml": "<svg xmlns=\"http://www.w3.org/2000/svg\" xmlns:xlink=\"http://www.w3.org/1999/xlink\" width=\"338pt\" height=\"76pt\" viewBox=\"0.00 0.00 338.00 75.50\">\n<g id=\"graph0\" class=\"graph\" transform=\"scale(1 1) rotate(0) translate(4 71.5)\">\n<title>my_graph</title>\n<polygon fill=\"white\" stroke=\"transparent\" points=\"-4,4 -4,-71.5 334,-71.5 334,4 -4,4\"/>\n<!-- x_G0 -->\n<g id=\"node1\" class=\"node\">\n<title>x_G0</title>\n<text text-anchor=\"middle\" x=\"27\" y=\"-36.3\" font-family=\"Times,serif\" font-size=\"14.00\">x</text>\n</g>\n<!-- SignedIntegerToTwosComplement -->\n<g id=\"node2\" class=\"node\">\n<title>SignedIntegerToTwosComplement</title>\n<polygon fill=\"none\" stroke=\"black\" points=\"91,-50 91,-67 239,-67 239,-50 91,-50\"/>\n<text text-anchor=\"start\" x=\"94\" y=\"-56\" font-family=\"Times,serif\" font-size=\"10.00\">SignedIntegerToTwosComplement</text>\n<polygon fill=\"none\" stroke=\"black\" points=\"91,-29 91,-50 165,-50 165,-29 91,-29\"/>\n<text text-anchor=\"start\" x=\"124.5\" y=\"-35.8\" font-family=\"Times,serif\" font-size=\"14.00\">x</text>\n<polygon fill=\"none\" stroke=\"black\" points=\"165,-29 165,-50 239,-50 239,-29 165,-29\"/>\n<polygon fill=\"none\" stroke=\"black\" points=\"91,-8 91,-29 165,-29 165,-8 91,-8\"/>\n<polygon fill=\"none\" stroke=\"black\" points=\"165,-8 165,-29 239,-29 239,-8 165,-8\"/>\n<text text-anchor=\"start\" x=\"198.5\" y=\"-14.8\" font-family=\"Times,serif\" font-size=\"14.00\">y</text>\n</g>\n<!-- x_G0&#45;&gt;SignedIntegerToTwosComplement -->\n<g id=\"edge1\" class=\"edge\">\n<title>x_G0:e-&gt;SignedIntegerToTwosComplement:w</title>\n<path fill=\"none\" stroke=\"black\" d=\"M54,-40C69.67,-40 74.14,-40 88.77,-40\"/>\n<ellipse fill=\"black\" stroke=\"black\" cx=\"90\" cy=\"-40\" rx=\"1\" ry=\"1\"/>\n<text text-anchor=\"middle\" x=\"72.5\" y=\"-43\" font-family=\"Times,serif\" font-size=\"10.00\">10</text>\n</g>\n<!-- y_G3 -->\n<g id=\"node3\" class=\"node\">\n<title>y_G3</title>\n<text text-anchor=\"middle\" x=\"303\" y=\"-14.3\" font-family=\"Times,serif\" font-size=\"14.00\">y</text>\n</g>\n<!-- SignedIntegerToTwosComplement&#45;&gt;y_G3 -->\n<g id=\"edge2\" class=\"edge\">\n<title>SignedIntegerToTwosComplement:e-&gt;y_G3:w</title>\n<path fill=\"none\" stroke=\"black\" d=\"M239,-18C254.67,-18 259.14,-18 273.77,-18\"/>\n<ellipse fill=\"black\" stroke=\"black\" cx=\"275\" cy=\"-18\" rx=\"1\" ry=\"1\"/>\n<text text-anchor=\"middle\" x=\"257.5\" y=\"-21\" font-family=\"Times,serif\" font-size=\"10.00\">10</text>\n</g>\n</g>\n</svg>",
          "text/plain": "<IPython.core.display.SVG object>"
         },
         "metadata": {},
         "output_type": "display_data"
        }
       ],
       "tabbable": null,
       "tooltip": null
      }
     },
     "2ba9682250044934b82393799134c155": {
      "model_module": "@jupyter-widgets/base",
      "model_module_version": "2.0.0",
      "model_name": "LayoutModel",
      "state": {
       "_model_module": "@jupyter-widgets/base",
       "_model_module_version": "2.0.0",
       "_model_name": "LayoutModel",
       "_view_count": null,
       "_view_module": "@jupyter-widgets/base",
       "_view_module_version": "2.0.0",
       "_view_name": "LayoutView",
       "align_content": null,
       "align_items": null,
       "align_self": null,
       "border_bottom": null,
       "border_left": null,
       "border_right": null,
       "border_top": null,
       "bottom": null,
       "display": null,
       "flex": null,
       "flex_flow": null,
       "grid_area": null,
       "grid_auto_columns": null,
       "grid_auto_flow": null,
       "grid_auto_rows": null,
       "grid_column": null,
       "grid_gap": null,
       "grid_row": null,
       "grid_template_areas": null,
       "grid_template_columns": null,
       "grid_template_rows": null,
       "height": null,
       "justify_content": null,
       "justify_items": null,
       "left": null,
       "margin": null,
       "max_height": null,
       "max_width": null,
       "min_height": null,
       "min_width": null,
       "object_fit": null,
       "object_position": null,
       "order": null,
       "overflow": null,
       "padding": null,
       "right": null,
       "top": null,
       "visibility": null,
       "width": null
      }
     },
     "3acc6fde8c49435eab654a8288536b5a": {
      "model_module": "@jupyter-widgets/output",
      "model_module_version": "1.0.0",
      "model_name": "OutputModel",
      "state": {
       "_dom_classes": [],
       "_model_module": "@jupyter-widgets/output",
       "_model_module_version": "1.0.0",
       "_model_name": "OutputModel",
       "_view_count": null,
       "_view_module": "@jupyter-widgets/output",
       "_view_module_version": "1.0.0",
       "_view_name": "OutputView",
       "layout": "IPY_MODEL_2ba9682250044934b82393799134c155",
       "msg_id": "",
       "outputs": [
        {
         "data": {
          "text/markdown": "`sign_truncate`",
          "text/plain": "<IPython.core.display.Markdown object>"
         },
         "metadata": {},
         "output_type": "display_data"
        },
        {
         "data": {
          "image/svg+xml": "<svg xmlns=\"http://www.w3.org/2000/svg\" xmlns:xlink=\"http://www.w3.org/1999/xlink\" width=\"251pt\" height=\"76pt\" viewBox=\"0.00 0.00 251.00 75.50\">\n<g id=\"graph0\" class=\"graph\" transform=\"scale(1 1) rotate(0) translate(4 71.5)\">\n<title>my_graph</title>\n<polygon fill=\"white\" stroke=\"transparent\" points=\"-4,4 -4,-71.5 247,-71.5 247,4 -4,4\"/>\n<!-- x_G3 -->\n<g id=\"node1\" class=\"node\">\n<title>x_G3</title>\n<text text-anchor=\"middle\" x=\"27\" y=\"-36.3\" font-family=\"Times,serif\" font-size=\"14.00\">x</text>\n</g>\n<!-- SignTruncate -->\n<g id=\"node2\" class=\"node\">\n<title>SignTruncate</title>\n<polygon fill=\"none\" stroke=\"black\" points=\"91.5,-50 91.5,-67 152.5,-67 152.5,-50 91.5,-50\"/>\n<text text-anchor=\"start\" x=\"94.5\" y=\"-56\" font-family=\"Times,serif\" font-size=\"10.00\">SignTruncate</text>\n<polygon fill=\"none\" stroke=\"black\" points=\"91.5,-29 91.5,-50 121.5,-50 121.5,-29 91.5,-29\"/>\n<text text-anchor=\"start\" x=\"103\" y=\"-35.8\" font-family=\"Times,serif\" font-size=\"14.00\">x</text>\n<polygon fill=\"none\" stroke=\"black\" points=\"121.5,-29 121.5,-50 152.5,-50 152.5,-29 121.5,-29\"/>\n<polygon fill=\"none\" stroke=\"black\" points=\"91.5,-8 91.5,-29 121.5,-29 121.5,-8 91.5,-8\"/>\n<polygon fill=\"none\" stroke=\"black\" points=\"121.5,-8 121.5,-29 152.5,-29 152.5,-8 121.5,-8\"/>\n<text text-anchor=\"start\" x=\"133.5\" y=\"-14.8\" font-family=\"Times,serif\" font-size=\"14.00\">y</text>\n</g>\n<!-- x_G3&#45;&gt;SignTruncate -->\n<g id=\"edge1\" class=\"edge\">\n<title>x_G3:e-&gt;SignTruncate:w</title>\n<path fill=\"none\" stroke=\"black\" d=\"M54,-40C69.67,-40 74.14,-40 88.77,-40\"/>\n<ellipse fill=\"black\" stroke=\"black\" cx=\"90\" cy=\"-40\" rx=\"1\" ry=\"1\"/>\n<text text-anchor=\"middle\" x=\"72.5\" y=\"-43\" font-family=\"Times,serif\" font-size=\"10.00\">16</text>\n</g>\n<!-- y_G0 -->\n<g id=\"node3\" class=\"node\">\n<title>y_G0</title>\n<text text-anchor=\"middle\" x=\"216\" y=\"-14.3\" font-family=\"Times,serif\" font-size=\"14.00\">y</text>\n</g>\n<!-- SignTruncate&#45;&gt;y_G0 -->\n<g id=\"edge2\" class=\"edge\">\n<title>SignTruncate:e-&gt;y_G0:w</title>\n<path fill=\"none\" stroke=\"black\" d=\"M152,-18C167.67,-18 172.14,-18 186.77,-18\"/>\n<ellipse fill=\"black\" stroke=\"black\" cx=\"188\" cy=\"-18\" rx=\"1\" ry=\"1\"/>\n<text text-anchor=\"middle\" x=\"170.5\" y=\"-21\" font-family=\"Times,serif\" font-size=\"10.00\">8</text>\n</g>\n</g>\n</svg>",
          "text/plain": "<IPython.core.display.SVG object>"
         },
         "metadata": {},
         "output_type": "display_data"
        }
       ],
       "tabbable": null,
       "tooltip": null
      }
     },
     "44c7d0cdb52c49ab83dae6f3cc8b0d19": {
      "model_module": "@jupyter-widgets/controls",
      "model_module_version": "2.0.0",
      "model_name": "HBoxModel",
      "state": {
       "_dom_classes": [],
       "_model_module": "@jupyter-widgets/controls",
       "_model_module_version": "2.0.0",
       "_model_name": "HBoxModel",
       "_view_count": null,
       "_view_module": "@jupyter-widgets/controls",
       "_view_module_version": "2.0.0",
       "_view_name": "HBoxView",
       "box_style": "",
       "children": [
        "IPY_MODEL_3acc6fde8c49435eab654a8288536b5a"
       ],
       "layout": "IPY_MODEL_53684a7f1b834ffd98595af099be3747",
       "tabbable": null,
       "tooltip": null
      }
     },
     "53684a7f1b834ffd98595af099be3747": {
      "model_module": "@jupyter-widgets/base",
      "model_module_version": "2.0.0",
      "model_name": "LayoutModel",
      "state": {
       "_model_module": "@jupyter-widgets/base",
       "_model_module_version": "2.0.0",
       "_model_name": "LayoutModel",
       "_view_count": null,
       "_view_module": "@jupyter-widgets/base",
       "_view_module_version": "2.0.0",
       "_view_name": "LayoutView",
       "align_content": null,
       "align_items": null,
       "align_self": null,
       "border_bottom": null,
       "border_left": null,
       "border_right": null,
       "border_top": null,
       "bottom": null,
       "display": null,
       "flex": null,
       "flex_flow": null,
       "grid_area": null,
       "grid_auto_columns": null,
       "grid_auto_flow": null,
       "grid_auto_rows": null,
       "grid_column": null,
       "grid_gap": null,
       "grid_row": null,
       "grid_template_areas": null,
       "grid_template_columns": null,
       "grid_template_rows": null,
       "height": null,
       "justify_content": null,
       "justify_items": null,
       "left": null,
       "margin": null,
       "max_height": null,
       "max_width": null,
       "min_height": null,
       "min_width": null,
       "object_fit": null,
       "object_position": null,
       "order": null,
       "overflow": null,
       "padding": null,
       "right": null,
       "top": null,
       "visibility": null,
       "width": null
      }
     },
     "60746d4c6ad34ac7a28d319e0facebbd": {
      "model_module": "@jupyter-widgets/output",
      "model_module_version": "1.0.0",
      "model_name": "OutputModel",
      "state": {
       "_dom_classes": [],
       "_model_module": "@jupyter-widgets/output",
       "_model_module_version": "1.0.0",
       "_model_name": "OutputModel",
       "_view_count": null,
       "_view_module": "@jupyter-widgets/output",
       "_view_module_version": "1.0.0",
       "_view_name": "OutputView",
       "layout": "IPY_MODEL_fb905a28cea24961a66dc0c55e7c78d4",
       "msg_id": "",
       "outputs": [
        {
         "data": {
          "text/markdown": "`sign_extend`",
          "text/plain": "<IPython.core.display.Markdown object>"
         },
         "metadata": {},
         "output_type": "display_data"
        },
        {
         "data": {
          "image/svg+xml": "<svg xmlns=\"http://www.w3.org/2000/svg\" xmlns:xlink=\"http://www.w3.org/1999/xlink\" width=\"245pt\" height=\"76pt\" viewBox=\"0.00 0.00 245.00 75.50\">\n<g id=\"graph0\" class=\"graph\" transform=\"scale(1 1) rotate(0) translate(4 71.5)\">\n<title>my_graph</title>\n<polygon fill=\"white\" stroke=\"transparent\" points=\"-4,4 -4,-71.5 241,-71.5 241,4 -4,4\"/>\n<!-- x_G3 -->\n<g id=\"node1\" class=\"node\">\n<title>x_G3</title>\n<text text-anchor=\"middle\" x=\"27\" y=\"-36.3\" font-family=\"Times,serif\" font-size=\"14.00\">x</text>\n</g>\n<!-- SignExtend -->\n<g id=\"node2\" class=\"node\">\n<title>SignExtend</title>\n<polygon fill=\"none\" stroke=\"black\" points=\"91.5,-50 91.5,-67 146.5,-67 146.5,-50 91.5,-50\"/>\n<text text-anchor=\"start\" x=\"94.5\" y=\"-56\" font-family=\"Times,serif\" font-size=\"10.00\">SignExtend</text>\n<polygon fill=\"none\" stroke=\"black\" points=\"91.5,-29 91.5,-50 118.5,-50 118.5,-29 91.5,-29\"/>\n<text text-anchor=\"start\" x=\"101.5\" y=\"-35.8\" font-family=\"Times,serif\" font-size=\"14.00\">x</text>\n<polygon fill=\"none\" stroke=\"black\" points=\"118.5,-29 118.5,-50 146.5,-50 146.5,-29 118.5,-29\"/>\n<polygon fill=\"none\" stroke=\"black\" points=\"91.5,-8 91.5,-29 118.5,-29 118.5,-8 91.5,-8\"/>\n<polygon fill=\"none\" stroke=\"black\" points=\"118.5,-8 118.5,-29 146.5,-29 146.5,-8 118.5,-8\"/>\n<text text-anchor=\"start\" x=\"129\" y=\"-14.8\" font-family=\"Times,serif\" font-size=\"14.00\">y</text>\n</g>\n<!-- x_G3&#45;&gt;SignExtend -->\n<g id=\"edge1\" class=\"edge\">\n<title>x_G3:e-&gt;SignExtend:w</title>\n<path fill=\"none\" stroke=\"black\" d=\"M54,-40C69.67,-40 74.14,-40 88.77,-40\"/>\n<ellipse fill=\"black\" stroke=\"black\" cx=\"90\" cy=\"-40\" rx=\"1\" ry=\"1\"/>\n<text text-anchor=\"middle\" x=\"72.5\" y=\"-43\" font-family=\"Times,serif\" font-size=\"10.00\">8</text>\n</g>\n<!-- y_G1 -->\n<g id=\"node3\" class=\"node\">\n<title>y_G1</title>\n<text text-anchor=\"middle\" x=\"210\" y=\"-14.3\" font-family=\"Times,serif\" font-size=\"14.00\">y</text>\n</g>\n<!-- SignExtend&#45;&gt;y_G1 -->\n<g id=\"edge2\" class=\"edge\">\n<title>SignExtend:e-&gt;y_G1:w</title>\n<path fill=\"none\" stroke=\"black\" d=\"M146,-18C161.67,-18 166.14,-18 180.77,-18\"/>\n<ellipse fill=\"black\" stroke=\"black\" cx=\"182\" cy=\"-18\" rx=\"1\" ry=\"1\"/>\n<text text-anchor=\"middle\" x=\"164.5\" y=\"-21\" font-family=\"Times,serif\" font-size=\"10.00\">16</text>\n</g>\n</g>\n</svg>",
          "text/plain": "<IPython.core.display.SVG object>"
         },
         "metadata": {},
         "output_type": "display_data"
        }
       ],
       "tabbable": null,
       "tooltip": null
      }
     },
     "7d2cd7de860e4e36b3401bfc7285f156": {
      "model_module": "@jupyter-widgets/base",
      "model_module_version": "2.0.0",
      "model_name": "LayoutModel",
      "state": {
       "_model_module": "@jupyter-widgets/base",
       "_model_module_version": "2.0.0",
       "_model_name": "LayoutModel",
       "_view_count": null,
       "_view_module": "@jupyter-widgets/base",
       "_view_module_version": "2.0.0",
       "_view_name": "LayoutView",
       "align_content": null,
       "align_items": null,
       "align_self": null,
       "border_bottom": null,
       "border_left": null,
       "border_right": null,
       "border_top": null,
       "bottom": null,
       "display": null,
       "flex": null,
       "flex_flow": null,
       "grid_area": null,
       "grid_auto_columns": null,
       "grid_auto_flow": null,
       "grid_auto_rows": null,
       "grid_column": null,
       "grid_gap": null,
       "grid_row": null,
       "grid_template_areas": null,
       "grid_template_columns": null,
       "grid_template_rows": null,
       "height": null,
       "justify_content": null,
       "justify_items": null,
       "left": null,
       "margin": null,
       "max_height": null,
       "max_width": null,
       "min_height": null,
       "min_width": null,
       "object_fit": null,
       "object_position": null,
       "order": null,
       "overflow": null,
       "padding": null,
       "right": null,
       "top": null,
       "visibility": null,
       "width": null
      }
     },
     "7ed42864b1cc4c43a701040c50e53a6d": {
      "model_module": "@jupyter-widgets/base",
      "model_module_version": "2.0.0",
      "model_name": "LayoutModel",
      "state": {
       "_model_module": "@jupyter-widgets/base",
       "_model_module_version": "2.0.0",
       "_model_name": "LayoutModel",
       "_view_count": null,
       "_view_module": "@jupyter-widgets/base",
       "_view_module_version": "2.0.0",
       "_view_name": "LayoutView",
       "align_content": null,
       "align_items": null,
       "align_self": null,
       "border_bottom": null,
       "border_left": null,
       "border_right": null,
       "border_top": null,
       "bottom": null,
       "display": null,
       "flex": null,
       "flex_flow": null,
       "grid_area": null,
       "grid_auto_columns": null,
       "grid_auto_flow": null,
       "grid_auto_rows": null,
       "grid_column": null,
       "grid_gap": null,
       "grid_row": null,
       "grid_template_areas": null,
       "grid_template_columns": null,
       "grid_template_rows": null,
       "height": null,
       "justify_content": null,
       "justify_items": null,
       "left": null,
       "margin": null,
       "max_height": null,
       "max_width": null,
       "min_height": null,
       "min_width": null,
       "object_fit": null,
       "object_position": null,
       "order": null,
       "overflow": null,
       "padding": null,
       "right": null,
       "top": null,
       "visibility": null,
       "width": null
      }
     },
     "8889f1e28cf0421a8ae47fe2d26f0cef": {
      "model_module": "@jupyter-widgets/controls",
      "model_module_version": "2.0.0",
      "model_name": "HBoxModel",
      "state": {
       "_dom_classes": [],
       "_model_module": "@jupyter-widgets/controls",
       "_model_module_version": "2.0.0",
       "_model_name": "HBoxModel",
       "_view_count": null,
       "_view_module": "@jupyter-widgets/controls",
       "_view_module_version": "2.0.0",
       "_view_name": "HBoxView",
       "box_style": "",
       "children": [
        "IPY_MODEL_60746d4c6ad34ac7a28d319e0facebbd"
       ],
       "layout": "IPY_MODEL_a30238a4c5ef41aba1a63c94e77d6ae6",
       "tabbable": null,
       "tooltip": null
      }
     },
     "8a1d0b91877e47feb01f1592d28d27d4": {
      "model_module": "@jupyter-widgets/base",
      "model_module_version": "2.0.0",
      "model_name": "LayoutModel",
      "state": {
       "_model_module": "@jupyter-widgets/base",
       "_model_module_version": "2.0.0",
       "_model_name": "LayoutModel",
       "_view_count": null,
       "_view_module": "@jupyter-widgets/base",
       "_view_module_version": "2.0.0",
       "_view_name": "LayoutView",
       "align_content": null,
       "align_items": null,
       "align_self": null,
       "border_bottom": null,
       "border_left": null,
       "border_right": null,
       "border_top": null,
       "bottom": null,
       "display": null,
       "flex": null,
       "flex_flow": null,
       "grid_area": null,
       "grid_auto_columns": null,
       "grid_auto_flow": null,
       "grid_auto_rows": null,
       "grid_column": null,
       "grid_gap": null,
       "grid_row": null,
       "grid_template_areas": null,
       "grid_template_columns": null,
       "grid_template_rows": null,
       "height": null,
       "justify_content": null,
       "justify_items": null,
       "left": null,
       "margin": null,
       "max_height": null,
       "max_width": null,
       "min_height": null,
       "min_width": null,
       "object_fit": null,
       "object_position": null,
       "order": null,
       "overflow": null,
       "padding": null,
       "right": null,
       "top": null,
       "visibility": null,
       "width": null
      }
     },
     "8ce2b4bd5b1249afba56a865535b9ec8": {
      "model_module": "@jupyter-widgets/output",
      "model_module_version": "1.0.0",
      "model_name": "OutputModel",
      "state": {
       "_dom_classes": [],
       "_model_module": "@jupyter-widgets/output",
       "_model_module_version": "1.0.0",
       "_model_name": "OutputModel",
       "_view_count": null,
       "_view_module": "@jupyter-widgets/output",
       "_view_module_version": "1.0.0",
       "_view_name": "OutputView",
       "layout": "IPY_MODEL_7d2cd7de860e4e36b3401bfc7285f156",
       "msg_id": "",
       "outputs": [
        {
         "data": {
          "text/markdown": "`to_contg_index`",
          "text/plain": "<IPython.core.display.Markdown object>"
         },
         "metadata": {},
         "output_type": "display_data"
        },
        {
         "data": {
          "image/svg+xml": "<svg xmlns=\"http://www.w3.org/2000/svg\" xmlns:xlink=\"http://www.w3.org/1999/xlink\" width=\"278pt\" height=\"152pt\" viewBox=\"0.00 0.00 278.00 152.00\">\n<g id=\"graph0\" class=\"graph\" transform=\"scale(1 1) rotate(0) translate(4 148)\">\n<title>my_graph</title>\n<polygon fill=\"white\" stroke=\"transparent\" points=\"-4,4 -4,-148 274,-148 274,4 -4,4\"/>\n<!-- mu_G7 -->\n<g id=\"node1\" class=\"node\">\n<title>mu_G7</title>\n<text text-anchor=\"middle\" x=\"27\" y=\"-122.3\" font-family=\"Times,serif\" font-size=\"14.00\">mu</text>\n</g>\n<!-- ToContiguousIndex -->\n<g id=\"node4\" class=\"node\">\n<title>ToContiguousIndex</title>\n<polygon fill=\"none\" stroke=\"black\" points=\"91,-104 91,-121 179,-121 179,-104 91,-104\"/>\n<text text-anchor=\"start\" x=\"94\" y=\"-110\" font-family=\"Times,serif\" font-size=\"10.00\">ToContiguousIndex</text>\n<polygon fill=\"none\" stroke=\"black\" points=\"91,-83 91,-104 179,-104 179,-83 91,-83\"/>\n<text text-anchor=\"start\" x=\"125.5\" y=\"-89.8\" font-family=\"Times,serif\" font-size=\"14.00\">mu</text>\n<polygon fill=\"none\" stroke=\"black\" points=\"91,-62 91,-83 179,-83 179,-62 91,-62\"/>\n<text text-anchor=\"start\" x=\"128\" y=\"-68.8\" font-family=\"Times,serif\" font-size=\"14.00\">nu</text>\n<polygon fill=\"none\" stroke=\"black\" points=\"91,-41 91,-62 179,-62 179,-41 91,-41\"/>\n<text text-anchor=\"start\" x=\"132\" y=\"-47.8\" font-family=\"Times,serif\" font-size=\"14.00\">s</text>\n</g>\n<!-- mu_G7&#45;&gt;ToContiguousIndex -->\n<g id=\"edge1\" class=\"edge\">\n<title>mu_G7:e-&gt;ToContiguousIndex:w</title>\n<path fill=\"none\" stroke=\"black\" d=\"M54,-126C74.89,-126 69.72,-96.45 88.58,-94.14\"/>\n<ellipse fill=\"black\" stroke=\"black\" cx=\"90\" cy=\"-94.06\" rx=\"1\" ry=\"1\"/>\n<text text-anchor=\"middle\" x=\"72.5\" y=\"-113\" font-family=\"Times,serif\" font-size=\"10.00\">4</text>\n</g>\n<!-- nu_G5 -->\n<g id=\"node2\" class=\"node\">\n<title>nu_G5</title>\n<text text-anchor=\"middle\" x=\"27\" y=\"-68.3\" font-family=\"Times,serif\" font-size=\"14.00\">nu</text>\n</g>\n<!-- nu_G5&#45;&gt;ToContiguousIndex -->\n<g id=\"edge2\" class=\"edge\">\n<title>nu_G5:e-&gt;ToContiguousIndex:w</title>\n<path fill=\"none\" stroke=\"black\" d=\"M54,-72C69.67,-72 74.14,-72 88.77,-72\"/>\n<ellipse fill=\"black\" stroke=\"black\" cx=\"90\" cy=\"-72\" rx=\"1\" ry=\"1\"/>\n<text text-anchor=\"middle\" x=\"72.5\" y=\"-75\" font-family=\"Times,serif\" font-size=\"10.00\">4</text>\n</g>\n<!-- s_G3 -->\n<g id=\"node3\" class=\"node\">\n<title>s_G3</title>\n<text text-anchor=\"middle\" x=\"27\" y=\"-14.3\" font-family=\"Times,serif\" font-size=\"14.00\">s</text>\n</g>\n<!-- s_G3&#45;&gt;ToContiguousIndex -->\n<g id=\"edge3\" class=\"edge\">\n<title>s_G3:e-&gt;ToContiguousIndex:w</title>\n<path fill=\"none\" stroke=\"black\" d=\"M54,-18C75.17,-18 69.47,-48.47 88.55,-50.85\"/>\n<ellipse fill=\"black\" stroke=\"black\" cx=\"90\" cy=\"-50.94\" rx=\"1\" ry=\"1\"/>\n<text text-anchor=\"middle\" x=\"72.5\" y=\"-39\" font-family=\"Times,serif\" font-size=\"10.00\">8</text>\n</g>\n<!-- mu_G2 -->\n<g id=\"node5\" class=\"node\">\n<title>mu_G2</title>\n<text text-anchor=\"middle\" x=\"243\" y=\"-122.3\" font-family=\"Times,serif\" font-size=\"14.00\">mu</text>\n</g>\n<!-- ToContiguousIndex&#45;&gt;mu_G2 -->\n<g id=\"edge4\" class=\"edge\">\n<title>ToContiguousIndex:e-&gt;mu_G2:w</title>\n<path fill=\"none\" stroke=\"black\" d=\"M179,-94C199.89,-94 194.72,-123.55 213.58,-125.86\"/>\n<ellipse fill=\"black\" stroke=\"black\" cx=\"215\" cy=\"-125.94\" rx=\"1\" ry=\"1\"/>\n<text text-anchor=\"middle\" x=\"197.5\" y=\"-113\" font-family=\"Times,serif\" font-size=\"10.00\">4</text>\n</g>\n<!-- nu_G1 -->\n<g id=\"node6\" class=\"node\">\n<title>nu_G1</title>\n<text text-anchor=\"middle\" x=\"243\" y=\"-68.3\" font-family=\"Times,serif\" font-size=\"14.00\">nu</text>\n</g>\n<!-- ToContiguousIndex&#45;&gt;nu_G1 -->\n<g id=\"edge5\" class=\"edge\">\n<title>ToContiguousIndex:e-&gt;nu_G1:w</title>\n<path fill=\"none\" stroke=\"black\" d=\"M179,-72C194.67,-72 199.14,-72 213.77,-72\"/>\n<ellipse fill=\"black\" stroke=\"black\" cx=\"215\" cy=\"-72\" rx=\"1\" ry=\"1\"/>\n<text text-anchor=\"middle\" x=\"197.5\" y=\"-75\" font-family=\"Times,serif\" font-size=\"10.00\">4</text>\n</g>\n<!-- s_G6 -->\n<g id=\"node7\" class=\"node\">\n<title>s_G6</title>\n<text text-anchor=\"middle\" x=\"243\" y=\"-14.3\" font-family=\"Times,serif\" font-size=\"14.00\">s</text>\n</g>\n<!-- ToContiguousIndex&#45;&gt;s_G6 -->\n<g id=\"edge6\" class=\"edge\">\n<title>ToContiguousIndex:e-&gt;s_G6:w</title>\n<path fill=\"none\" stroke=\"black\" d=\"M179,-51C200.17,-51 194.47,-20.53 213.55,-18.15\"/>\n<ellipse fill=\"black\" stroke=\"black\" cx=\"215\" cy=\"-18.06\" rx=\"1\" ry=\"1\"/>\n<text text-anchor=\"middle\" x=\"197.5\" y=\"-39\" font-family=\"Times,serif\" font-size=\"10.00\">8</text>\n</g>\n</g>\n</svg>",
          "text/plain": "<IPython.core.display.SVG object>"
         },
         "metadata": {},
         "output_type": "display_data"
        }
       ],
       "tabbable": null,
       "tooltip": null
      }
     },
     "9486fe138d9a445fb3211f2e0ab7b480": {
      "model_module": "@jupyter-widgets/controls",
      "model_module_version": "2.0.0",
      "model_name": "HBoxModel",
      "state": {
       "_dom_classes": [],
       "_model_module": "@jupyter-widgets/controls",
       "_model_module_version": "2.0.0",
       "_model_name": "HBoxModel",
       "_view_count": null,
       "_view_module": "@jupyter-widgets/controls",
       "_view_module_version": "2.0.0",
       "_view_name": "HBoxView",
       "box_style": "",
       "children": [
        "IPY_MODEL_1897f678fb534ca08963701bbc854bd6"
       ],
       "layout": "IPY_MODEL_148ced6cbab14b8eadb1a8c6e4496fdd",
       "tabbable": null,
       "tooltip": null
      }
     },
     "a30238a4c5ef41aba1a63c94e77d6ae6": {
      "model_module": "@jupyter-widgets/base",
      "model_module_version": "2.0.0",
      "model_name": "LayoutModel",
      "state": {
       "_model_module": "@jupyter-widgets/base",
       "_model_module_version": "2.0.0",
       "_model_name": "LayoutModel",
       "_view_count": null,
       "_view_module": "@jupyter-widgets/base",
       "_view_module_version": "2.0.0",
       "_view_name": "LayoutView",
       "align_content": null,
       "align_items": null,
       "align_self": null,
       "border_bottom": null,
       "border_left": null,
       "border_right": null,
       "border_top": null,
       "bottom": null,
       "display": null,
       "flex": null,
       "flex_flow": null,
       "grid_area": null,
       "grid_auto_columns": null,
       "grid_auto_flow": null,
       "grid_auto_rows": null,
       "grid_column": null,
       "grid_gap": null,
       "grid_row": null,
       "grid_template_areas": null,
       "grid_template_columns": null,
       "grid_template_rows": null,
       "height": null,
       "justify_content": null,
       "justify_items": null,
       "left": null,
       "margin": null,
       "max_height": null,
       "max_width": null,
       "min_height": null,
       "min_width": null,
       "object_fit": null,
       "object_position": null,
       "order": null,
       "overflow": null,
       "padding": null,
       "right": null,
       "top": null,
       "visibility": null,
       "width": null
      }
     },
     "fb905a28cea24961a66dc0c55e7c78d4": {
      "model_module": "@jupyter-widgets/base",
      "model_module_version": "2.0.0",
      "model_name": "LayoutModel",
      "state": {
       "_model_module": "@jupyter-widgets/base",
       "_model_module_version": "2.0.0",
       "_model_name": "LayoutModel",
       "_view_count": null,
       "_view_module": "@jupyter-widgets/base",
       "_view_module_version": "2.0.0",
       "_view_name": "LayoutView",
       "align_content": null,
       "align_items": null,
       "align_self": null,
       "border_bottom": null,
       "border_left": null,
       "border_right": null,
       "border_top": null,
       "bottom": null,
       "display": null,
       "flex": null,
       "flex_flow": null,
       "grid_area": null,
       "grid_auto_columns": null,
       "grid_auto_flow": null,
       "grid_auto_rows": null,
       "grid_column": null,
       "grid_gap": null,
       "grid_row": null,
       "grid_template_areas": null,
       "grid_template_columns": null,
       "grid_template_rows": null,
       "height": null,
       "justify_content": null,
       "justify_items": null,
       "left": null,
       "margin": null,
       "max_height": null,
       "max_width": null,
       "min_height": null,
       "min_width": null,
       "object_fit": null,
       "object_position": null,
       "order": null,
       "overflow": null,
       "padding": null,
       "right": null,
       "top": null,
       "visibility": null,
       "width": null
      }
     }
    },
    "version_major": 2,
    "version_minor": 0
   }
  }
 },
 "nbformat": 4,
 "nbformat_minor": 5
}
