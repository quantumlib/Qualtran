{
 "cells": [
  {
   "cell_type": "markdown",
   "id": "00b83a3b",
   "metadata": {
    "cq.autogen": "title_cell"
   },
   "source": [
    "# Indexing"
   ]
  },
  {
   "cell_type": "code",
   "execution_count": 1,
   "id": "dff756fd",
   "metadata": {
    "cq.autogen": "top_imports"
   },
   "outputs": [],
   "source": [
    "from qualtran import Bloq, CompositeBloq, BloqBuilder, Signature, Register\n",
    "from qualtran import QBit, QInt, QUInt, QAny\n",
    "from qualtran.drawing import show_bloq, show_call_graph, show_counts_sigma\n",
    "from typing import *\n",
    "import numpy as np\n",
    "import sympy\n",
    "import cirq"
   ]
  },
  {
   "cell_type": "markdown",
   "id": "df9965c5",
   "metadata": {
    "cq.autogen": "ToContiguousIndex.bloq_doc.md"
   },
   "source": [
    "## `ToContiguousIndex`\n",
    "Build a contiguous register s from mu and nu.\n",
    "\n",
    "$$\n",
    "    s = \\nu (\\nu + 1) / 2 + \\mu\n",
    "$$\n",
    "\n",
    "Assuming nu is zero indexed (in contrast to the THC paper which assumes 1,\n",
    "hence the slightly different formula).\n",
    "\n",
    "#### Parameters\n",
    " - `bitsize`: number of bits for mu and nu registers.\n",
    " - `s_bitsize`: Number of bits for contiguous register. \n",
    "\n",
    "#### Registers\n",
    " - `mu`: input register\n",
    " - `nu`: input register\n",
    " - `s`: output contiguous register \n",
    "\n",
    "#### References\n",
    " - [Even more efficient quantum computations of chemistry through tensor hypercontraction](https://arxiv.org/pdf/2011.03494.pdf). Eq. 29.\n"
   ]
  },
  {
   "cell_type": "code",
   "execution_count": 2,
   "id": "47dbd7bb",
   "metadata": {
    "cq.autogen": "ToContiguousIndex.bloq_doc.py"
   },
   "outputs": [],
   "source": [
    "from qualtran.bloqs.arithmetic.conversions import ToContiguousIndex"
   ]
  },
  {
   "cell_type": "markdown",
   "id": "c8045139",
   "metadata": {
    "cq.autogen": "ToContiguousIndex.example_instances.md"
   },
   "source": [
    "### Example Instances"
   ]
  },
  {
   "cell_type": "code",
   "execution_count": 3,
   "id": "c8afdd6d",
   "metadata": {
    "cq.autogen": "ToContiguousIndex.to_contg_index"
   },
   "outputs": [],
   "source": [
    "to_contg_index = ToContiguousIndex(bitsize=4, s_bitsize=8)"
   ]
  },
  {
   "cell_type": "markdown",
   "id": "7602c882",
   "metadata": {
    "cq.autogen": "ToContiguousIndex.graphical_signature.md"
   },
   "source": [
    "#### Graphical Signature"
   ]
  },
  {
   "cell_type": "code",
   "execution_count": 4,
   "id": "ae5d88e2",
   "metadata": {
    "cq.autogen": "ToContiguousIndex.graphical_signature.py"
   },
   "outputs": [
    {
     "data": {
      "application/vnd.jupyter.widget-view+json": {
       "model_id": "337f31aa78bd4cc1bd8c97bb1b6a3a1d",
       "version_major": 2,
       "version_minor": 0
      },
      "text/plain": [
       "HBox(children=(Output(outputs=({'output_type': 'display_data', 'data': {'text/plain': '<IPython.core.display.M…"
      ]
     },
     "metadata": {},
     "output_type": "display_data"
    }
   ],
   "source": [
    "from qualtran.drawing import show_bloqs\n",
    "show_bloqs([to_contg_index],\n",
    "           ['`to_contg_index`'])"
   ]
  },
  {
   "cell_type": "markdown",
   "id": "95bf5977",
   "metadata": {
    "cq.autogen": "ToContiguousIndex.call_graph.md"
   },
   "source": [
    "### Call Graph"
   ]
  },
  {
   "cell_type": "code",
   "execution_count": 5,
   "id": "7094f64c",
   "metadata": {
    "cq.autogen": "ToContiguousIndex.call_graph.py"
   },
   "outputs": [
    {
     "data": {
      "image/svg+xml": [
       "<svg xmlns=\"http://www.w3.org/2000/svg\" xmlns:xlink=\"http://www.w3.org/1999/xlink\" width=\"118pt\" height=\"131pt\" viewBox=\"0.00 0.00 118.00 131.00\">\n",
       "<g id=\"graph0\" class=\"graph\" transform=\"scale(1 1) rotate(0) translate(4 127)\">\n",
       "<title>counts</title>\n",
       "<polygon fill=\"white\" stroke=\"transparent\" points=\"-4,4 -4,-127 114,-127 114,4 -4,4\"/>\n",
       "<!-- b0 -->\n",
       "<g id=\"node1\" class=\"node\">\n",
       "<title>b0</title>\n",
       "<polygon fill=\"none\" stroke=\"black\" points=\"8,-93 8,-116 102,-116 102,-93 8,-93\"/>\n",
       "<text text-anchor=\"start\" x=\"14\" y=\"-102\" font-family=\"Times,serif\" font-size=\"10.00\">ToContiguousIndex</text>\n",
       "</g>\n",
       "<!-- b1 -->\n",
       "<g id=\"node2\" class=\"node\">\n",
       "<title>b1</title>\n",
       "<polygon fill=\"none\" stroke=\"black\" points=\"35,-6 35,-29 75,-29 75,-6 35,-6\"/>\n",
       "<text text-anchor=\"start\" x=\"41\" y=\"-15\" font-family=\"Times,serif\" font-size=\"10.00\">Toffoli</text>\n",
       "</g>\n",
       "<!-- b0&#45;&gt;b1 -->\n",
       "<g id=\"edge1\" class=\"edge\">\n",
       "<title>b0-&gt;b1</title>\n",
       "<path fill=\"none\" stroke=\"black\" d=\"M55,-86.8C55,-75.16 55,-59.55 55,-46.24\"/>\n",
       "<polygon fill=\"black\" stroke=\"black\" points=\"58.5,-46.18 55,-36.18 51.5,-46.18 58.5,-46.18\"/>\n",
       "<text text-anchor=\"middle\" x=\"62\" y=\"-57.8\" font-family=\"Times,serif\" font-size=\"14.00\">19</text>\n",
       "</g>\n",
       "</g>\n",
       "</svg>"
      ],
      "text/plain": [
       "<IPython.core.display.SVG object>"
      ]
     },
     "metadata": {},
     "output_type": "display_data"
    },
    {
     "data": {
      "text/markdown": [
       "#### Counts totals:\n",
       " - `Toffoli`: 19"
      ],
      "text/plain": [
       "<IPython.core.display.Markdown object>"
      ]
     },
     "metadata": {},
     "output_type": "display_data"
    }
   ],
   "source": [
    "from qualtran.resource_counting.generalizers import ignore_split_join\n",
    "to_contg_index_g, to_contg_index_sigma = to_contg_index.call_graph(max_depth=1, generalizer=ignore_split_join)\n",
    "show_call_graph(to_contg_index_g)\n",
    "show_counts_sigma(to_contg_index_sigma)"
   ]
  }
 ],
 "metadata": {
  "kernelspec": {
   "display_name": "Python 3",
   "language": "python",
   "name": "python3"
  },
  "language_info": {
   "codemirror_mode": {
    "name": "ipython",
    "version": 3
   },
   "file_extension": ".py",
   "mimetype": "text/x-python",
   "name": "python",
   "nbconvert_exporter": "python",
   "pygments_lexer": "ipython3",
   "version": "3.11.8"
  },
  "widgets": {
   "application/vnd.jupyter.widget-state+json": {
    "state": {
     "337f31aa78bd4cc1bd8c97bb1b6a3a1d": {
      "model_module": "@jupyter-widgets/controls",
      "model_module_version": "2.0.0",
      "model_name": "HBoxModel",
      "state": {
       "_dom_classes": [],
       "_model_module": "@jupyter-widgets/controls",
       "_model_module_version": "2.0.0",
       "_model_name": "HBoxModel",
       "_view_count": null,
       "_view_module": "@jupyter-widgets/controls",
       "_view_module_version": "2.0.0",
       "_view_name": "HBoxView",
       "box_style": "",
       "children": [
        "IPY_MODEL_4cd19ea1c8e748598defa96513be0315"
       ],
       "layout": "IPY_MODEL_f337a38b21f14703b59bf5a8861237ad",
       "tabbable": null,
       "tooltip": null
      }
     },
     "3a9c404ed331444dbd6495e7631c6914": {
      "model_module": "@jupyter-widgets/base",
      "model_module_version": "2.0.0",
      "model_name": "LayoutModel",
      "state": {
       "_model_module": "@jupyter-widgets/base",
       "_model_module_version": "2.0.0",
       "_model_name": "LayoutModel",
       "_view_count": null,
       "_view_module": "@jupyter-widgets/base",
       "_view_module_version": "2.0.0",
       "_view_name": "LayoutView",
       "align_content": null,
       "align_items": null,
       "align_self": null,
       "border_bottom": null,
       "border_left": null,
       "border_right": null,
       "border_top": null,
       "bottom": null,
       "display": null,
       "flex": null,
       "flex_flow": null,
       "grid_area": null,
       "grid_auto_columns": null,
       "grid_auto_flow": null,
       "grid_auto_rows": null,
       "grid_column": null,
       "grid_gap": null,
       "grid_row": null,
       "grid_template_areas": null,
       "grid_template_columns": null,
       "grid_template_rows": null,
       "height": null,
       "justify_content": null,
       "justify_items": null,
       "left": null,
       "margin": null,
       "max_height": null,
       "max_width": null,
       "min_height": null,
       "min_width": null,
       "object_fit": null,
       "object_position": null,
       "order": null,
       "overflow": null,
       "padding": null,
       "right": null,
       "top": null,
       "visibility": null,
       "width": null
      }
     },
     "4cd19ea1c8e748598defa96513be0315": {
      "model_module": "@jupyter-widgets/output",
      "model_module_version": "1.0.0",
      "model_name": "OutputModel",
      "state": {
       "_dom_classes": [],
       "_model_module": "@jupyter-widgets/output",
       "_model_module_version": "1.0.0",
       "_model_name": "OutputModel",
       "_view_count": null,
       "_view_module": "@jupyter-widgets/output",
       "_view_module_version": "1.0.0",
       "_view_name": "OutputView",
       "layout": "IPY_MODEL_3a9c404ed331444dbd6495e7631c6914",
       "msg_id": "",
       "outputs": [
        {
         "data": {
          "text/markdown": "`to_contg_index`",
          "text/plain": "<IPython.core.display.Markdown object>"
         },
         "metadata": {},
         "output_type": "display_data"
        },
        {
         "data": {
          "image/svg+xml": "<svg xmlns=\"http://www.w3.org/2000/svg\" xmlns:xlink=\"http://www.w3.org/1999/xlink\" width=\"278pt\" height=\"152pt\" viewBox=\"0.00 0.00 278.00 152.00\">\n<g id=\"graph0\" class=\"graph\" transform=\"scale(1 1) rotate(0) translate(4 148)\">\n<title>my_graph</title>\n<polygon fill=\"white\" stroke=\"transparent\" points=\"-4,4 -4,-148 274,-148 274,4 -4,4\"/>\n<!-- mu_G1 -->\n<g id=\"node1\" class=\"node\">\n<title>mu_G1</title>\n<text text-anchor=\"middle\" x=\"27\" y=\"-122.3\" font-family=\"Times,serif\" font-size=\"14.00\">mu</text>\n</g>\n<!-- ToContiguousIndex -->\n<g id=\"node4\" class=\"node\">\n<title>ToContiguousIndex</title>\n<polygon fill=\"none\" stroke=\"black\" points=\"91,-104 91,-121 179,-121 179,-104 91,-104\"/>\n<text text-anchor=\"start\" x=\"94\" y=\"-110\" font-family=\"Times,serif\" font-size=\"10.00\">ToContiguousIndex</text>\n<polygon fill=\"none\" stroke=\"black\" points=\"91,-83 91,-104 179,-104 179,-83 91,-83\"/>\n<text text-anchor=\"start\" x=\"125.5\" y=\"-89.8\" font-family=\"Times,serif\" font-size=\"14.00\">mu</text>\n<polygon fill=\"none\" stroke=\"black\" points=\"91,-62 91,-83 179,-83 179,-62 91,-62\"/>\n<text text-anchor=\"start\" x=\"128\" y=\"-68.8\" font-family=\"Times,serif\" font-size=\"14.00\">nu</text>\n<polygon fill=\"none\" stroke=\"black\" points=\"91,-41 91,-62 179,-62 179,-41 91,-41\"/>\n<text text-anchor=\"start\" x=\"132\" y=\"-47.8\" font-family=\"Times,serif\" font-size=\"14.00\">s</text>\n</g>\n<!-- mu_G1&#45;&gt;ToContiguousIndex -->\n<g id=\"edge1\" class=\"edge\">\n<title>mu_G1:e-&gt;ToContiguousIndex:w</title>\n<path fill=\"none\" stroke=\"black\" d=\"M54,-126C74.89,-126 69.72,-96.45 88.58,-94.14\"/>\n<ellipse fill=\"black\" stroke=\"black\" cx=\"90\" cy=\"-94.06\" rx=\"1\" ry=\"1\"/>\n<text text-anchor=\"middle\" x=\"72.5\" y=\"-113\" font-family=\"Times,serif\" font-size=\"10.00\">4</text>\n</g>\n<!-- nu_G6 -->\n<g id=\"node2\" class=\"node\">\n<title>nu_G6</title>\n<text text-anchor=\"middle\" x=\"27\" y=\"-68.3\" font-family=\"Times,serif\" font-size=\"14.00\">nu</text>\n</g>\n<!-- nu_G6&#45;&gt;ToContiguousIndex -->\n<g id=\"edge2\" class=\"edge\">\n<title>nu_G6:e-&gt;ToContiguousIndex:w</title>\n<path fill=\"none\" stroke=\"black\" d=\"M54,-72C69.67,-72 74.14,-72 88.77,-72\"/>\n<ellipse fill=\"black\" stroke=\"black\" cx=\"90\" cy=\"-72\" rx=\"1\" ry=\"1\"/>\n<text text-anchor=\"middle\" x=\"72.5\" y=\"-75\" font-family=\"Times,serif\" font-size=\"10.00\">4</text>\n</g>\n<!-- s_G8 -->\n<g id=\"node3\" class=\"node\">\n<title>s_G8</title>\n<text text-anchor=\"middle\" x=\"27\" y=\"-14.3\" font-family=\"Times,serif\" font-size=\"14.00\">s</text>\n</g>\n<!-- s_G8&#45;&gt;ToContiguousIndex -->\n<g id=\"edge3\" class=\"edge\">\n<title>s_G8:e-&gt;ToContiguousIndex:w</title>\n<path fill=\"none\" stroke=\"black\" d=\"M54,-18C75.17,-18 69.47,-48.47 88.55,-50.85\"/>\n<ellipse fill=\"black\" stroke=\"black\" cx=\"90\" cy=\"-50.94\" rx=\"1\" ry=\"1\"/>\n<text text-anchor=\"middle\" x=\"72.5\" y=\"-39\" font-family=\"Times,serif\" font-size=\"10.00\">8</text>\n</g>\n<!-- mu_G2 -->\n<g id=\"node5\" class=\"node\">\n<title>mu_G2</title>\n<text text-anchor=\"middle\" x=\"243\" y=\"-122.3\" font-family=\"Times,serif\" font-size=\"14.00\">mu</text>\n</g>\n<!-- ToContiguousIndex&#45;&gt;mu_G2 -->\n<g id=\"edge4\" class=\"edge\">\n<title>ToContiguousIndex:e-&gt;mu_G2:w</title>\n<path fill=\"none\" stroke=\"black\" d=\"M179,-94C199.89,-94 194.72,-123.55 213.58,-125.86\"/>\n<ellipse fill=\"black\" stroke=\"black\" cx=\"215\" cy=\"-125.94\" rx=\"1\" ry=\"1\"/>\n<text text-anchor=\"middle\" x=\"197.5\" y=\"-113\" font-family=\"Times,serif\" font-size=\"10.00\">4</text>\n</g>\n<!-- nu_G0 -->\n<g id=\"node6\" class=\"node\">\n<title>nu_G0</title>\n<text text-anchor=\"middle\" x=\"243\" y=\"-68.3\" font-family=\"Times,serif\" font-size=\"14.00\">nu</text>\n</g>\n<!-- ToContiguousIndex&#45;&gt;nu_G0 -->\n<g id=\"edge5\" class=\"edge\">\n<title>ToContiguousIndex:e-&gt;nu_G0:w</title>\n<path fill=\"none\" stroke=\"black\" d=\"M179,-72C194.67,-72 199.14,-72 213.77,-72\"/>\n<ellipse fill=\"black\" stroke=\"black\" cx=\"215\" cy=\"-72\" rx=\"1\" ry=\"1\"/>\n<text text-anchor=\"middle\" x=\"197.5\" y=\"-75\" font-family=\"Times,serif\" font-size=\"10.00\">4</text>\n</g>\n<!-- s_G3 -->\n<g id=\"node7\" class=\"node\">\n<title>s_G3</title>\n<text text-anchor=\"middle\" x=\"243\" y=\"-14.3\" font-family=\"Times,serif\" font-size=\"14.00\">s</text>\n</g>\n<!-- ToContiguousIndex&#45;&gt;s_G3 -->\n<g id=\"edge6\" class=\"edge\">\n<title>ToContiguousIndex:e-&gt;s_G3:w</title>\n<path fill=\"none\" stroke=\"black\" d=\"M179,-51C200.17,-51 194.47,-20.53 213.55,-18.15\"/>\n<ellipse fill=\"black\" stroke=\"black\" cx=\"215\" cy=\"-18.06\" rx=\"1\" ry=\"1\"/>\n<text text-anchor=\"middle\" x=\"197.5\" y=\"-39\" font-family=\"Times,serif\" font-size=\"10.00\">8</text>\n</g>\n</g>\n</svg>",
          "text/plain": "<IPython.core.display.SVG object>"
         },
         "metadata": {},
         "output_type": "display_data"
        }
       ],
       "tabbable": null,
       "tooltip": null
      }
     },
     "f337a38b21f14703b59bf5a8861237ad": {
      "model_module": "@jupyter-widgets/base",
      "model_module_version": "2.0.0",
      "model_name": "LayoutModel",
      "state": {
       "_model_module": "@jupyter-widgets/base",
       "_model_module_version": "2.0.0",
       "_model_name": "LayoutModel",
       "_view_count": null,
       "_view_module": "@jupyter-widgets/base",
       "_view_module_version": "2.0.0",
       "_view_name": "LayoutView",
       "align_content": null,
       "align_items": null,
       "align_self": null,
       "border_bottom": null,
       "border_left": null,
       "border_right": null,
       "border_top": null,
       "bottom": null,
       "display": null,
       "flex": null,
       "flex_flow": null,
       "grid_area": null,
       "grid_auto_columns": null,
       "grid_auto_flow": null,
       "grid_auto_rows": null,
       "grid_column": null,
       "grid_gap": null,
       "grid_row": null,
       "grid_template_areas": null,
       "grid_template_columns": null,
       "grid_template_rows": null,
       "height": null,
       "justify_content": null,
       "justify_items": null,
       "left": null,
       "margin": null,
       "max_height": null,
       "max_width": null,
       "min_height": null,
       "min_width": null,
       "object_fit": null,
       "object_position": null,
       "order": null,
       "overflow": null,
       "padding": null,
       "right": null,
       "top": null,
       "visibility": null,
       "width": null
      }
     }
    },
    "version_major": 2,
    "version_minor": 0
   }
  }
 },
 "nbformat": 4,
 "nbformat_minor": 5
}
