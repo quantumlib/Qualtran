{
 "cells": [
  {
   "cell_type": "markdown",
   "id": "046f6195",
   "metadata": {
    "cq.autogen": "title_cell"
   },
   "source": [
    "# Bitwise Operations"
   ]
  },
  {
   "cell_type": "code",
   "execution_count": 1,
   "id": "e7fb03a9",
   "metadata": {
    "cq.autogen": "top_imports"
   },
   "outputs": [],
   "source": [
    "from qualtran import Bloq, CompositeBloq, BloqBuilder, Signature, Register\n",
    "from qualtran import QBit, QInt, QUInt, QAny\n",
    "from qualtran.drawing import show_bloq, show_call_graph, show_counts_sigma\n",
    "from typing import *\n",
    "import numpy as np\n",
    "import sympy\n",
    "import cirq"
   ]
  },
  {
   "cell_type": "markdown",
   "id": "18fe7319",
   "metadata": {
    "cq.autogen": "Xor.bloq_doc.md"
   },
   "source": [
    "## `Xor`\n",
    "Xor the value of one register into another via CNOTs.\n",
    "\n",
    "Maps basis states $|x, y\\rangle$ to $|x, y \\oplus x\\rangle$.\n",
    "\n",
    "When both registers are in computational basis and the destination is 0,\n",
    "effectively copies the value of the source into the destination.\n",
    "\n",
    "#### Parameters\n",
    " - `dtype`: Data type of the input registers `x` and `y`. \n",
    "\n",
    "#### Registers\n",
    " - `x`: The source register.\n",
    " - `y`: The target register.\n"
   ]
  },
  {
   "cell_type": "code",
   "execution_count": 2,
   "id": "9304ba8f",
   "metadata": {
    "cq.autogen": "Xor.bloq_doc.py"
   },
   "outputs": [],
   "source": [
    "from qualtran.bloqs.arithmetic import Xor"
   ]
  },
  {
   "cell_type": "markdown",
   "id": "0432ed40",
   "metadata": {
    "cq.autogen": "Xor.example_instances.md"
   },
   "source": [
    "### Example Instances"
   ]
  },
  {
   "cell_type": "code",
   "execution_count": 3,
   "id": "55b01f5d",
   "metadata": {
    "cq.autogen": "Xor.xor"
   },
   "outputs": [],
   "source": [
    "xor = Xor(QAny(4))"
   ]
  },
  {
   "cell_type": "code",
   "execution_count": 4,
   "id": "8b8090ff",
   "metadata": {
    "cq.autogen": "Xor.xor_symb"
   },
   "outputs": [],
   "source": [
    "xor_symb = Xor(QAny(sympy.Symbol(\"n\")))"
   ]
  },
  {
   "cell_type": "markdown",
   "id": "45b7826f",
   "metadata": {
    "cq.autogen": "Xor.graphical_signature.md"
   },
   "source": [
    "#### Graphical Signature"
   ]
  },
  {
   "cell_type": "code",
   "execution_count": 5,
   "id": "320f183d",
   "metadata": {
    "cq.autogen": "Xor.graphical_signature.py"
   },
   "outputs": [
    {
     "data": {
      "application/vnd.jupyter.widget-view+json": {
       "model_id": "e3b0e4e766b64cff98a62aa9d76e24ff",
       "version_major": 2,
       "version_minor": 0
      },
      "text/plain": [
       "HBox(children=(Output(outputs=({'output_type': 'display_data', 'data': {'text/plain': '<IPython.core.display.M…"
      ]
     },
     "metadata": {},
     "output_type": "display_data"
    }
   ],
   "source": [
    "from qualtran.drawing import show_bloqs\n",
    "show_bloqs([xor, xor_symb],\n",
    "           ['`xor`', '`xor_symb`'])"
   ]
  },
  {
   "cell_type": "markdown",
   "id": "b17250e4",
   "metadata": {
    "cq.autogen": "Xor.call_graph.md"
   },
   "source": [
    "### Call Graph"
   ]
  },
  {
   "cell_type": "code",
   "execution_count": 6,
   "id": "0ff8ffa9",
   "metadata": {
    "cq.autogen": "Xor.call_graph.py"
   },
   "outputs": [
    {
     "data": {
      "image/svg+xml": [
       "<svg xmlns=\"http://www.w3.org/2000/svg\" xmlns:xlink=\"http://www.w3.org/1999/xlink\" width=\"64pt\" height=\"131pt\" viewBox=\"0.00 0.00 64.00 131.00\">\n",
       "<g id=\"graph0\" class=\"graph\" transform=\"scale(1 1) rotate(0) translate(4 127)\">\n",
       "<title>counts</title>\n",
       "<polygon fill=\"white\" stroke=\"transparent\" points=\"-4,4 -4,-127 60,-127 60,4 -4,4\"/>\n",
       "<!-- b0 -->\n",
       "<g id=\"node1\" class=\"node\">\n",
       "<title>b0</title>\n",
       "<polygon fill=\"none\" stroke=\"black\" points=\"14,-93 14,-116 42,-116 42,-93 14,-93\"/>\n",
       "<text text-anchor=\"start\" x=\"20\" y=\"-102\" font-family=\"Times,serif\" font-size=\"10.00\">Xor</text>\n",
       "</g>\n",
       "<!-- b1 -->\n",
       "<g id=\"node2\" class=\"node\">\n",
       "<title>b1</title>\n",
       "<polygon fill=\"none\" stroke=\"black\" points=\"8,-6 8,-29 48,-29 48,-6 8,-6\"/>\n",
       "<text text-anchor=\"start\" x=\"14\" y=\"-15\" font-family=\"Times,serif\" font-size=\"10.00\">CNOT</text>\n",
       "</g>\n",
       "<!-- b0&#45;&gt;b1 -->\n",
       "<g id=\"edge1\" class=\"edge\">\n",
       "<title>b0-&gt;b1</title>\n",
       "<path fill=\"none\" stroke=\"black\" d=\"M28,-86.8C28,-75.16 28,-59.55 28,-46.24\"/>\n",
       "<polygon fill=\"black\" stroke=\"black\" points=\"31.5,-46.18 28,-36.18 24.5,-46.18 31.5,-46.18\"/>\n",
       "<text text-anchor=\"middle\" x=\"31.5\" y=\"-57.8\" font-family=\"Times,serif\" font-size=\"14.00\">4</text>\n",
       "</g>\n",
       "</g>\n",
       "</svg>"
      ],
      "text/plain": [
       "<IPython.core.display.SVG object>"
      ]
     },
     "metadata": {},
     "output_type": "display_data"
    },
    {
     "data": {
      "text/markdown": [
       "#### Counts totals:\n",
       " - `CNOT`: 4"
      ],
      "text/plain": [
       "<IPython.core.display.Markdown object>"
      ]
     },
     "metadata": {},
     "output_type": "display_data"
    }
   ],
   "source": [
    "from qualtran.resource_counting.generalizers import ignore_split_join\n",
    "xor_g, xor_sigma = xor.call_graph(max_depth=1, generalizer=ignore_split_join)\n",
    "show_call_graph(xor_g)\n",
    "show_counts_sigma(xor_sigma)"
   ]
  },
  {
   "cell_type": "markdown",
   "id": "e31daefa",
   "metadata": {
    "cq.autogen": "BitwiseNot.bloq_doc.md"
   },
   "source": [
    "## `BitwiseNot`\n",
    "Flips every bit of the input register.\n",
    "\n",
    "#### Parameters\n",
    " - `dtype`: Data type of the input register `x`. \n",
    "\n",
    "#### Registers\n",
    " - `x`: A quantum register of type `self.dtype`.\n"
   ]
  },
  {
   "cell_type": "code",
   "execution_count": 7,
   "id": "b5c8e8f0",
   "metadata": {
    "cq.autogen": "BitwiseNot.bloq_doc.py"
   },
   "outputs": [],
   "source": [
    "from qualtran.bloqs.arithmetic import BitwiseNot"
   ]
  },
  {
   "cell_type": "markdown",
   "id": "17f9af3e",
   "metadata": {
    "cq.autogen": "BitwiseNot.example_instances.md"
   },
   "source": [
    "### Example Instances"
   ]
  },
  {
   "cell_type": "code",
   "execution_count": 8,
   "id": "701b7629",
   "metadata": {
    "cq.autogen": "BitwiseNot.bitwise_not"
   },
   "outputs": [],
   "source": [
    "bitwise_not = BitwiseNot(QUInt(4))"
   ]
  },
  {
   "cell_type": "code",
   "execution_count": 9,
   "id": "76d2c35f",
   "metadata": {
    "cq.autogen": "BitwiseNot.bitwise_not_symb"
   },
   "outputs": [],
   "source": [
    "n = sympy.Symbol(\"n\")\n",
    "bitwise_not_symb = BitwiseNot(QUInt(n))"
   ]
  },
  {
   "cell_type": "markdown",
   "id": "b68ac0d3",
   "metadata": {
    "cq.autogen": "BitwiseNot.graphical_signature.md"
   },
   "source": [
    "#### Graphical Signature"
   ]
  },
  {
   "cell_type": "code",
   "execution_count": 10,
   "id": "2831aab5",
   "metadata": {
    "cq.autogen": "BitwiseNot.graphical_signature.py"
   },
   "outputs": [
    {
     "data": {
      "application/vnd.jupyter.widget-view+json": {
       "model_id": "051ac1adbd1c44829f4961d1d96054ac",
       "version_major": 2,
       "version_minor": 0
      },
      "text/plain": [
       "HBox(children=(Output(outputs=({'output_type': 'display_data', 'data': {'text/plain': '<IPython.core.display.M…"
      ]
     },
     "metadata": {},
     "output_type": "display_data"
    }
   ],
   "source": [
    "from qualtran.drawing import show_bloqs\n",
    "show_bloqs([bitwise_not, bitwise_not_symb],\n",
    "           ['`bitwise_not`', '`bitwise_not_symb`'])"
   ]
  },
  {
   "cell_type": "markdown",
   "id": "7ad37a4d",
   "metadata": {
    "cq.autogen": "BitwiseNot.call_graph.md"
   },
   "source": [
    "### Call Graph"
   ]
  },
  {
   "cell_type": "code",
   "execution_count": 11,
   "id": "5b4c0241",
   "metadata": {
    "cq.autogen": "BitwiseNot.call_graph.py"
   },
   "outputs": [
    {
     "data": {
      "image/svg+xml": [
       "<svg xmlns=\"http://www.w3.org/2000/svg\" xmlns:xlink=\"http://www.w3.org/1999/xlink\" width=\"84pt\" height=\"131pt\" viewBox=\"0.00 0.00 84.00 131.00\">\n",
       "<g id=\"graph0\" class=\"graph\" transform=\"scale(1 1) rotate(0) translate(4 127)\">\n",
       "<title>counts</title>\n",
       "<polygon fill=\"white\" stroke=\"transparent\" points=\"-4,4 -4,-127 80,-127 80,4 -4,4\"/>\n",
       "<!-- b0 -->\n",
       "<g id=\"node1\" class=\"node\">\n",
       "<title>b0</title>\n",
       "<polygon fill=\"none\" stroke=\"black\" points=\"8,-93 8,-116 68,-116 68,-93 8,-93\"/>\n",
       "<text text-anchor=\"start\" x=\"14\" y=\"-102\" font-family=\"Times,serif\" font-size=\"10.00\">BitwiseNot</text>\n",
       "</g>\n",
       "<!-- b1 -->\n",
       "<g id=\"node2\" class=\"node\">\n",
       "<title>b1</title>\n",
       "<polygon fill=\"none\" stroke=\"black\" points=\"20,-6 20,-29 56,-29 56,-6 20,-6\"/>\n",
       "<text text-anchor=\"start\" x=\"26\" y=\"-15\" font-family=\"Times,serif\" font-size=\"10.00\">X⨂4</text>\n",
       "</g>\n",
       "<!-- b0&#45;&gt;b1 -->\n",
       "<g id=\"edge1\" class=\"edge\">\n",
       "<title>b0-&gt;b1</title>\n",
       "<path fill=\"none\" stroke=\"black\" d=\"M38,-86.8C38,-75.16 38,-59.55 38,-46.24\"/>\n",
       "<polygon fill=\"black\" stroke=\"black\" points=\"41.5,-46.18 38,-36.18 34.5,-46.18 41.5,-46.18\"/>\n",
       "<text text-anchor=\"middle\" x=\"41.5\" y=\"-57.8\" font-family=\"Times,serif\" font-size=\"14.00\">1</text>\n",
       "</g>\n",
       "</g>\n",
       "</svg>"
      ],
      "text/plain": [
       "<IPython.core.display.SVG object>"
      ]
     },
     "metadata": {},
     "output_type": "display_data"
    },
    {
     "data": {
      "text/markdown": [
       "#### Counts totals:\n",
       " - `X⨂4`: 1"
      ],
      "text/plain": [
       "<IPython.core.display.Markdown object>"
      ]
     },
     "metadata": {},
     "output_type": "display_data"
    }
   ],
   "source": [
    "from qualtran.resource_counting.generalizers import ignore_split_join\n",
    "bitwise_not_g, bitwise_not_sigma = bitwise_not.call_graph(max_depth=1, generalizer=ignore_split_join)\n",
    "show_call_graph(bitwise_not_g)\n",
    "show_counts_sigma(bitwise_not_sigma)"
   ]
  }
 ],
 "metadata": {
  "kernelspec": {
   "display_name": "Python 3",
   "language": "python",
   "name": "python3"
  },
  "language_info": {
   "codemirror_mode": {
    "name": "ipython",
    "version": 3
   },
   "file_extension": ".py",
   "mimetype": "text/x-python",
   "name": "python",
   "nbconvert_exporter": "python",
   "pygments_lexer": "ipython3",
   "version": "3.11.8"
  },
  "widgets": {
   "application/vnd.jupyter.widget-state+json": {
    "state": {
     "051ac1adbd1c44829f4961d1d96054ac": {
      "model_module": "@jupyter-widgets/controls",
      "model_module_version": "2.0.0",
      "model_name": "HBoxModel",
      "state": {
       "_dom_classes": [],
       "_model_module": "@jupyter-widgets/controls",
       "_model_module_version": "2.0.0",
       "_model_name": "HBoxModel",
       "_view_count": null,
       "_view_module": "@jupyter-widgets/controls",
       "_view_module_version": "2.0.0",
       "_view_name": "HBoxView",
       "box_style": "",
       "children": [
        "IPY_MODEL_8e2d2dc6108d4f3d8a70bdf8f087f597",
        "IPY_MODEL_9bfca10f8a9646b1afdfa4940d93cafa"
       ],
       "layout": "IPY_MODEL_5f5f2ffd380945aa95b285094ad92a23",
       "tabbable": null,
       "tooltip": null
      }
     },
     "172a88ce6a1c4ea6b855c08247ea24f8": {
      "model_module": "@jupyter-widgets/base",
      "model_module_version": "2.0.0",
      "model_name": "LayoutModel",
      "state": {
       "_model_module": "@jupyter-widgets/base",
       "_model_module_version": "2.0.0",
       "_model_name": "LayoutModel",
       "_view_count": null,
       "_view_module": "@jupyter-widgets/base",
       "_view_module_version": "2.0.0",
       "_view_name": "LayoutView",
       "align_content": null,
       "align_items": null,
       "align_self": null,
       "border_bottom": null,
       "border_left": null,
       "border_right": null,
       "border_top": null,
       "bottom": null,
       "display": null,
       "flex": null,
       "flex_flow": null,
       "grid_area": null,
       "grid_auto_columns": null,
       "grid_auto_flow": null,
       "grid_auto_rows": null,
       "grid_column": null,
       "grid_gap": null,
       "grid_row": null,
       "grid_template_areas": null,
       "grid_template_columns": null,
       "grid_template_rows": null,
       "height": null,
       "justify_content": null,
       "justify_items": null,
       "left": null,
       "margin": null,
       "max_height": null,
       "max_width": null,
       "min_height": null,
       "min_width": null,
       "object_fit": null,
       "object_position": null,
       "order": null,
       "overflow": null,
       "padding": null,
       "right": null,
       "top": null,
       "visibility": null,
       "width": null
      }
     },
     "5b39c2753bfd497fa9a919813dd4cb79": {
      "model_module": "@jupyter-widgets/base",
      "model_module_version": "2.0.0",
      "model_name": "LayoutModel",
      "state": {
       "_model_module": "@jupyter-widgets/base",
       "_model_module_version": "2.0.0",
       "_model_name": "LayoutModel",
       "_view_count": null,
       "_view_module": "@jupyter-widgets/base",
       "_view_module_version": "2.0.0",
       "_view_name": "LayoutView",
       "align_content": null,
       "align_items": null,
       "align_self": null,
       "border_bottom": null,
       "border_left": null,
       "border_right": null,
       "border_top": null,
       "bottom": null,
       "display": null,
       "flex": null,
       "flex_flow": null,
       "grid_area": null,
       "grid_auto_columns": null,
       "grid_auto_flow": null,
       "grid_auto_rows": null,
       "grid_column": null,
       "grid_gap": null,
       "grid_row": null,
       "grid_template_areas": null,
       "grid_template_columns": null,
       "grid_template_rows": null,
       "height": null,
       "justify_content": null,
       "justify_items": null,
       "left": null,
       "margin": null,
       "max_height": null,
       "max_width": null,
       "min_height": null,
       "min_width": null,
       "object_fit": null,
       "object_position": null,
       "order": null,
       "overflow": null,
       "padding": null,
       "right": null,
       "top": null,
       "visibility": null,
       "width": null
      }
     },
     "5f5f2ffd380945aa95b285094ad92a23": {
      "model_module": "@jupyter-widgets/base",
      "model_module_version": "2.0.0",
      "model_name": "LayoutModel",
      "state": {
       "_model_module": "@jupyter-widgets/base",
       "_model_module_version": "2.0.0",
       "_model_name": "LayoutModel",
       "_view_count": null,
       "_view_module": "@jupyter-widgets/base",
       "_view_module_version": "2.0.0",
       "_view_name": "LayoutView",
       "align_content": null,
       "align_items": null,
       "align_self": null,
       "border_bottom": null,
       "border_left": null,
       "border_right": null,
       "border_top": null,
       "bottom": null,
       "display": null,
       "flex": null,
       "flex_flow": null,
       "grid_area": null,
       "grid_auto_columns": null,
       "grid_auto_flow": null,
       "grid_auto_rows": null,
       "grid_column": null,
       "grid_gap": null,
       "grid_row": null,
       "grid_template_areas": null,
       "grid_template_columns": null,
       "grid_template_rows": null,
       "height": null,
       "justify_content": null,
       "justify_items": null,
       "left": null,
       "margin": null,
       "max_height": null,
       "max_width": null,
       "min_height": null,
       "min_width": null,
       "object_fit": null,
       "object_position": null,
       "order": null,
       "overflow": null,
       "padding": null,
       "right": null,
       "top": null,
       "visibility": null,
       "width": null
      }
     },
     "8bbb3d9ba7fe49659897649dec1ba309": {
      "model_module": "@jupyter-widgets/base",
      "model_module_version": "2.0.0",
      "model_name": "LayoutModel",
      "state": {
       "_model_module": "@jupyter-widgets/base",
       "_model_module_version": "2.0.0",
       "_model_name": "LayoutModel",
       "_view_count": null,
       "_view_module": "@jupyter-widgets/base",
       "_view_module_version": "2.0.0",
       "_view_name": "LayoutView",
       "align_content": null,
       "align_items": null,
       "align_self": null,
       "border_bottom": null,
       "border_left": null,
       "border_right": null,
       "border_top": null,
       "bottom": null,
       "display": null,
       "flex": null,
       "flex_flow": null,
       "grid_area": null,
       "grid_auto_columns": null,
       "grid_auto_flow": null,
       "grid_auto_rows": null,
       "grid_column": null,
       "grid_gap": null,
       "grid_row": null,
       "grid_template_areas": null,
       "grid_template_columns": null,
       "grid_template_rows": null,
       "height": null,
       "justify_content": null,
       "justify_items": null,
       "left": null,
       "margin": null,
       "max_height": null,
       "max_width": null,
       "min_height": null,
       "min_width": null,
       "object_fit": null,
       "object_position": null,
       "order": null,
       "overflow": null,
       "padding": null,
       "right": null,
       "top": null,
       "visibility": null,
       "width": null
      }
     },
     "8e2d2dc6108d4f3d8a70bdf8f087f597": {
      "model_module": "@jupyter-widgets/output",
      "model_module_version": "1.0.0",
      "model_name": "OutputModel",
      "state": {
       "_dom_classes": [],
       "_model_module": "@jupyter-widgets/output",
       "_model_module_version": "1.0.0",
       "_model_name": "OutputModel",
       "_view_count": null,
       "_view_module": "@jupyter-widgets/output",
       "_view_module_version": "1.0.0",
       "_view_name": "OutputView",
       "layout": "IPY_MODEL_172a88ce6a1c4ea6b855c08247ea24f8",
       "msg_id": "",
       "outputs": [
        {
         "data": {
          "text/markdown": "`bitwise_not`",
          "text/plain": "<IPython.core.display.Markdown object>"
         },
         "metadata": {},
         "output_type": "display_data"
        },
        {
         "data": {
          "image/svg+xml": "<svg xmlns=\"http://www.w3.org/2000/svg\" xmlns:xlink=\"http://www.w3.org/1999/xlink\" width=\"244pt\" height=\"54pt\" viewBox=\"0.00 0.00 244.00 54.00\">\n<g id=\"graph0\" class=\"graph\" transform=\"scale(1 1) rotate(0) translate(4 50)\">\n<title>my_graph</title>\n<polygon fill=\"white\" stroke=\"transparent\" points=\"-4,4 -4,-50 240,-50 240,4 -4,4\"/>\n<!-- x_G2 -->\n<g id=\"node1\" class=\"node\">\n<title>x_G2</title>\n<text text-anchor=\"middle\" x=\"27\" y=\"-14.3\" font-family=\"Times,serif\" font-size=\"14.00\">x</text>\n</g>\n<!-- BitwiseNot -->\n<g id=\"node2\" class=\"node\">\n<title>BitwiseNot</title>\n<polygon fill=\"none\" stroke=\"black\" points=\"91,-29 91,-46 145,-46 145,-29 91,-29\"/>\n<text text-anchor=\"start\" x=\"94\" y=\"-35\" font-family=\"Times,serif\" font-size=\"10.00\">BitwiseNot</text>\n<polygon fill=\"none\" stroke=\"black\" points=\"91,-8 91,-29 145,-29 145,-8 91,-8\"/>\n<text text-anchor=\"start\" x=\"114.5\" y=\"-14.8\" font-family=\"Times,serif\" font-size=\"14.00\">x</text>\n</g>\n<!-- x_G2&#45;&gt;BitwiseNot -->\n<g id=\"edge1\" class=\"edge\">\n<title>x_G2:e-&gt;BitwiseNot:w</title>\n<path fill=\"none\" stroke=\"black\" d=\"M54,-18C69.67,-18 74.14,-18 88.77,-18\"/>\n<ellipse fill=\"black\" stroke=\"black\" cx=\"90\" cy=\"-18\" rx=\"1\" ry=\"1\"/>\n<text text-anchor=\"middle\" x=\"72.5\" y=\"-21\" font-family=\"Times,serif\" font-size=\"10.00\">4</text>\n</g>\n<!-- x_G0 -->\n<g id=\"node3\" class=\"node\">\n<title>x_G0</title>\n<text text-anchor=\"middle\" x=\"209\" y=\"-14.3\" font-family=\"Times,serif\" font-size=\"14.00\">x</text>\n</g>\n<!-- BitwiseNot&#45;&gt;x_G0 -->\n<g id=\"edge2\" class=\"edge\">\n<title>BitwiseNot:e-&gt;x_G0:w</title>\n<path fill=\"none\" stroke=\"black\" d=\"M145,-18C160.67,-18 165.14,-18 179.77,-18\"/>\n<ellipse fill=\"black\" stroke=\"black\" cx=\"181\" cy=\"-18\" rx=\"1\" ry=\"1\"/>\n<text text-anchor=\"middle\" x=\"163.5\" y=\"-21\" font-family=\"Times,serif\" font-size=\"10.00\">4</text>\n</g>\n</g>\n</svg>",
          "text/plain": "<IPython.core.display.SVG object>"
         },
         "metadata": {},
         "output_type": "display_data"
        }
       ],
       "tabbable": null,
       "tooltip": null
      }
     },
     "912ad884f25f44f49cc7f7d9b6983f55": {
      "model_module": "@jupyter-widgets/output",
      "model_module_version": "1.0.0",
      "model_name": "OutputModel",
      "state": {
       "_dom_classes": [],
       "_model_module": "@jupyter-widgets/output",
       "_model_module_version": "1.0.0",
       "_model_name": "OutputModel",
       "_view_count": null,
       "_view_module": "@jupyter-widgets/output",
       "_view_module_version": "1.0.0",
       "_view_name": "OutputView",
       "layout": "IPY_MODEL_dcb3beddf6864dbea851740136c5edb6",
       "msg_id": "",
       "outputs": [
        {
         "data": {
          "text/markdown": "`xor_symb`",
          "text/plain": "<IPython.core.display.Markdown object>"
         },
         "metadata": {},
         "output_type": "display_data"
        },
        {
         "data": {
          "image/svg+xml": "<svg xmlns=\"http://www.w3.org/2000/svg\" xmlns:xlink=\"http://www.w3.org/1999/xlink\" width=\"212pt\" height=\"98pt\" viewBox=\"0.00 0.00 212.00 98.00\">\n<g id=\"graph0\" class=\"graph\" transform=\"scale(1 1) rotate(0) translate(4 94)\">\n<title>my_graph</title>\n<polygon fill=\"white\" stroke=\"transparent\" points=\"-4,4 -4,-94 208,-94 208,4 -4,4\"/>\n<!-- x_G3 -->\n<g id=\"node1\" class=\"node\">\n<title>x_G3</title>\n<text text-anchor=\"middle\" x=\"27\" y=\"-68.3\" font-family=\"Times,serif\" font-size=\"14.00\">x</text>\n</g>\n<!-- Xor -->\n<g id=\"node3\" class=\"node\">\n<title>Xor</title>\n<polygon fill=\"none\" stroke=\"black\" points=\"91,-66 91,-83 113,-83 113,-66 91,-66\"/>\n<text text-anchor=\"start\" x=\"94\" y=\"-72\" font-family=\"Times,serif\" font-size=\"10.00\">Xor</text>\n<polygon fill=\"none\" stroke=\"black\" points=\"91,-45 91,-66 113,-66 113,-45 91,-45\"/>\n<text text-anchor=\"start\" x=\"98.5\" y=\"-51.8\" font-family=\"Times,serif\" font-size=\"14.00\">x</text>\n<polygon fill=\"none\" stroke=\"black\" points=\"91,-24 91,-45 113,-45 113,-24 91,-24\"/>\n<text text-anchor=\"start\" x=\"98.5\" y=\"-30.8\" font-family=\"Times,serif\" font-size=\"14.00\">y</text>\n</g>\n<!-- x_G3&#45;&gt;Xor -->\n<g id=\"edge1\" class=\"edge\">\n<title>x_G3:e-&gt;Xor:w</title>\n<path fill=\"none\" stroke=\"black\" d=\"M54,-72C71.22,-72 72.97,-57.23 88.98,-56.07\"/>\n<ellipse fill=\"black\" stroke=\"black\" cx=\"90\" cy=\"-56.04\" rx=\"1\" ry=\"1\"/>\n<text text-anchor=\"middle\" x=\"72.5\" y=\"-67\" font-family=\"Times,serif\" font-size=\"10.00\">n</text>\n</g>\n<!-- y_G4 -->\n<g id=\"node2\" class=\"node\">\n<title>y_G4</title>\n<text text-anchor=\"middle\" x=\"27\" y=\"-14.3\" font-family=\"Times,serif\" font-size=\"14.00\">y</text>\n</g>\n<!-- y_G4&#45;&gt;Xor -->\n<g id=\"edge2\" class=\"edge\">\n<title>y_G4:e-&gt;Xor:w</title>\n<path fill=\"none\" stroke=\"black\" d=\"M54,-18C71.22,-18 72.97,-32.77 88.98,-33.93\"/>\n<ellipse fill=\"black\" stroke=\"black\" cx=\"90\" cy=\"-33.96\" rx=\"1\" ry=\"1\"/>\n<text text-anchor=\"middle\" x=\"72.5\" y=\"-29\" font-family=\"Times,serif\" font-size=\"10.00\">n</text>\n</g>\n<!-- x_G5 -->\n<g id=\"node4\" class=\"node\">\n<title>x_G5</title>\n<text text-anchor=\"middle\" x=\"177\" y=\"-68.3\" font-family=\"Times,serif\" font-size=\"14.00\">x</text>\n</g>\n<!-- Xor&#45;&gt;x_G5 -->\n<g id=\"edge3\" class=\"edge\">\n<title>Xor:e-&gt;x_G5:w</title>\n<path fill=\"none\" stroke=\"black\" d=\"M113,-56C130.22,-56 131.97,-70.77 147.98,-71.93\"/>\n<ellipse fill=\"black\" stroke=\"black\" cx=\"149\" cy=\"-71.96\" rx=\"1\" ry=\"1\"/>\n<text text-anchor=\"middle\" x=\"131.5\" y=\"-67\" font-family=\"Times,serif\" font-size=\"10.00\">n</text>\n</g>\n<!-- y_G2 -->\n<g id=\"node5\" class=\"node\">\n<title>y_G2</title>\n<text text-anchor=\"middle\" x=\"177\" y=\"-14.3\" font-family=\"Times,serif\" font-size=\"14.00\">y</text>\n</g>\n<!-- Xor&#45;&gt;y_G2 -->\n<g id=\"edge4\" class=\"edge\">\n<title>Xor:e-&gt;y_G2:w</title>\n<path fill=\"none\" stroke=\"black\" d=\"M113,-34C130.22,-34 131.97,-19.23 147.98,-18.07\"/>\n<ellipse fill=\"black\" stroke=\"black\" cx=\"149\" cy=\"-18.04\" rx=\"1\" ry=\"1\"/>\n<text text-anchor=\"middle\" x=\"131.5\" y=\"-29\" font-family=\"Times,serif\" font-size=\"10.00\">n</text>\n</g>\n</g>\n</svg>",
          "text/plain": "<IPython.core.display.SVG object>"
         },
         "metadata": {},
         "output_type": "display_data"
        }
       ],
       "tabbable": null,
       "tooltip": null
      }
     },
     "9bfca10f8a9646b1afdfa4940d93cafa": {
      "model_module": "@jupyter-widgets/output",
      "model_module_version": "1.0.0",
      "model_name": "OutputModel",
      "state": {
       "_dom_classes": [],
       "_model_module": "@jupyter-widgets/output",
       "_model_module_version": "1.0.0",
       "_model_name": "OutputModel",
       "_view_count": null,
       "_view_module": "@jupyter-widgets/output",
       "_view_module_version": "1.0.0",
       "_view_name": "OutputView",
       "layout": "IPY_MODEL_c4420c20ee434c4aadd4fb46557e972e",
       "msg_id": "",
       "outputs": [
        {
         "data": {
          "text/markdown": "`bitwise_not_symb`",
          "text/plain": "<IPython.core.display.Markdown object>"
         },
         "metadata": {},
         "output_type": "display_data"
        },
        {
         "data": {
          "image/svg+xml": "<svg xmlns=\"http://www.w3.org/2000/svg\" xmlns:xlink=\"http://www.w3.org/1999/xlink\" width=\"244pt\" height=\"54pt\" viewBox=\"0.00 0.00 244.00 54.00\">\n<g id=\"graph0\" class=\"graph\" transform=\"scale(1 1) rotate(0) translate(4 50)\">\n<title>my_graph</title>\n<polygon fill=\"white\" stroke=\"transparent\" points=\"-4,4 -4,-50 240,-50 240,4 -4,4\"/>\n<!-- x_G2 -->\n<g id=\"node1\" class=\"node\">\n<title>x_G2</title>\n<text text-anchor=\"middle\" x=\"27\" y=\"-14.3\" font-family=\"Times,serif\" font-size=\"14.00\">x</text>\n</g>\n<!-- BitwiseNot -->\n<g id=\"node2\" class=\"node\">\n<title>BitwiseNot</title>\n<polygon fill=\"none\" stroke=\"black\" points=\"91,-29 91,-46 145,-46 145,-29 91,-29\"/>\n<text text-anchor=\"start\" x=\"94\" y=\"-35\" font-family=\"Times,serif\" font-size=\"10.00\">BitwiseNot</text>\n<polygon fill=\"none\" stroke=\"black\" points=\"91,-8 91,-29 145,-29 145,-8 91,-8\"/>\n<text text-anchor=\"start\" x=\"114.5\" y=\"-14.8\" font-family=\"Times,serif\" font-size=\"14.00\">x</text>\n</g>\n<!-- x_G2&#45;&gt;BitwiseNot -->\n<g id=\"edge1\" class=\"edge\">\n<title>x_G2:e-&gt;BitwiseNot:w</title>\n<path fill=\"none\" stroke=\"black\" d=\"M54,-18C69.67,-18 74.14,-18 88.77,-18\"/>\n<ellipse fill=\"black\" stroke=\"black\" cx=\"90\" cy=\"-18\" rx=\"1\" ry=\"1\"/>\n<text text-anchor=\"middle\" x=\"72.5\" y=\"-21\" font-family=\"Times,serif\" font-size=\"10.00\">n</text>\n</g>\n<!-- x_G0 -->\n<g id=\"node3\" class=\"node\">\n<title>x_G0</title>\n<text text-anchor=\"middle\" x=\"209\" y=\"-14.3\" font-family=\"Times,serif\" font-size=\"14.00\">x</text>\n</g>\n<!-- BitwiseNot&#45;&gt;x_G0 -->\n<g id=\"edge2\" class=\"edge\">\n<title>BitwiseNot:e-&gt;x_G0:w</title>\n<path fill=\"none\" stroke=\"black\" d=\"M145,-18C160.67,-18 165.14,-18 179.77,-18\"/>\n<ellipse fill=\"black\" stroke=\"black\" cx=\"181\" cy=\"-18\" rx=\"1\" ry=\"1\"/>\n<text text-anchor=\"middle\" x=\"163.5\" y=\"-21\" font-family=\"Times,serif\" font-size=\"10.00\">n</text>\n</g>\n</g>\n</svg>",
          "text/plain": "<IPython.core.display.SVG object>"
         },
         "metadata": {},
         "output_type": "display_data"
        }
       ],
       "tabbable": null,
       "tooltip": null
      }
     },
     "b349863268904db88c32d6b40ab2fc1c": {
      "model_module": "@jupyter-widgets/output",
      "model_module_version": "1.0.0",
      "model_name": "OutputModel",
      "state": {
       "_dom_classes": [],
       "_model_module": "@jupyter-widgets/output",
       "_model_module_version": "1.0.0",
       "_model_name": "OutputModel",
       "_view_count": null,
       "_view_module": "@jupyter-widgets/output",
       "_view_module_version": "1.0.0",
       "_view_name": "OutputView",
       "layout": "IPY_MODEL_8bbb3d9ba7fe49659897649dec1ba309",
       "msg_id": "",
       "outputs": [
        {
         "data": {
          "text/markdown": "`xor`",
          "text/plain": "<IPython.core.display.Markdown object>"
         },
         "metadata": {},
         "output_type": "display_data"
        },
        {
         "data": {
          "image/svg+xml": "<svg xmlns=\"http://www.w3.org/2000/svg\" xmlns:xlink=\"http://www.w3.org/1999/xlink\" width=\"212pt\" height=\"98pt\" viewBox=\"0.00 0.00 212.00 98.00\">\n<g id=\"graph0\" class=\"graph\" transform=\"scale(1 1) rotate(0) translate(4 94)\">\n<title>my_graph</title>\n<polygon fill=\"white\" stroke=\"transparent\" points=\"-4,4 -4,-94 208,-94 208,4 -4,4\"/>\n<!-- x_G0 -->\n<g id=\"node1\" class=\"node\">\n<title>x_G0</title>\n<text text-anchor=\"middle\" x=\"27\" y=\"-68.3\" font-family=\"Times,serif\" font-size=\"14.00\">x</text>\n</g>\n<!-- Xor -->\n<g id=\"node3\" class=\"node\">\n<title>Xor</title>\n<polygon fill=\"none\" stroke=\"black\" points=\"91,-66 91,-83 113,-83 113,-66 91,-66\"/>\n<text text-anchor=\"start\" x=\"94\" y=\"-72\" font-family=\"Times,serif\" font-size=\"10.00\">Xor</text>\n<polygon fill=\"none\" stroke=\"black\" points=\"91,-45 91,-66 113,-66 113,-45 91,-45\"/>\n<text text-anchor=\"start\" x=\"98.5\" y=\"-51.8\" font-family=\"Times,serif\" font-size=\"14.00\">x</text>\n<polygon fill=\"none\" stroke=\"black\" points=\"91,-24 91,-45 113,-45 113,-24 91,-24\"/>\n<text text-anchor=\"start\" x=\"98.5\" y=\"-30.8\" font-family=\"Times,serif\" font-size=\"14.00\">y</text>\n</g>\n<!-- x_G0&#45;&gt;Xor -->\n<g id=\"edge1\" class=\"edge\">\n<title>x_G0:e-&gt;Xor:w</title>\n<path fill=\"none\" stroke=\"black\" d=\"M54,-72C71.22,-72 72.97,-57.23 88.98,-56.07\"/>\n<ellipse fill=\"black\" stroke=\"black\" cx=\"90\" cy=\"-56.04\" rx=\"1\" ry=\"1\"/>\n<text text-anchor=\"middle\" x=\"72.5\" y=\"-67\" font-family=\"Times,serif\" font-size=\"10.00\">4</text>\n</g>\n<!-- y_G3 -->\n<g id=\"node2\" class=\"node\">\n<title>y_G3</title>\n<text text-anchor=\"middle\" x=\"27\" y=\"-14.3\" font-family=\"Times,serif\" font-size=\"14.00\">y</text>\n</g>\n<!-- y_G3&#45;&gt;Xor -->\n<g id=\"edge2\" class=\"edge\">\n<title>y_G3:e-&gt;Xor:w</title>\n<path fill=\"none\" stroke=\"black\" d=\"M54,-18C71.22,-18 72.97,-32.77 88.98,-33.93\"/>\n<ellipse fill=\"black\" stroke=\"black\" cx=\"90\" cy=\"-33.96\" rx=\"1\" ry=\"1\"/>\n<text text-anchor=\"middle\" x=\"72.5\" y=\"-29\" font-family=\"Times,serif\" font-size=\"10.00\">4</text>\n</g>\n<!-- x_G2 -->\n<g id=\"node4\" class=\"node\">\n<title>x_G2</title>\n<text text-anchor=\"middle\" x=\"177\" y=\"-68.3\" font-family=\"Times,serif\" font-size=\"14.00\">x</text>\n</g>\n<!-- Xor&#45;&gt;x_G2 -->\n<g id=\"edge3\" class=\"edge\">\n<title>Xor:e-&gt;x_G2:w</title>\n<path fill=\"none\" stroke=\"black\" d=\"M113,-56C130.22,-56 131.97,-70.77 147.98,-71.93\"/>\n<ellipse fill=\"black\" stroke=\"black\" cx=\"149\" cy=\"-71.96\" rx=\"1\" ry=\"1\"/>\n<text text-anchor=\"middle\" x=\"131.5\" y=\"-67\" font-family=\"Times,serif\" font-size=\"10.00\">4</text>\n</g>\n<!-- y_G5 -->\n<g id=\"node5\" class=\"node\">\n<title>y_G5</title>\n<text text-anchor=\"middle\" x=\"177\" y=\"-14.3\" font-family=\"Times,serif\" font-size=\"14.00\">y</text>\n</g>\n<!-- Xor&#45;&gt;y_G5 -->\n<g id=\"edge4\" class=\"edge\">\n<title>Xor:e-&gt;y_G5:w</title>\n<path fill=\"none\" stroke=\"black\" d=\"M113,-34C130.22,-34 131.97,-19.23 147.98,-18.07\"/>\n<ellipse fill=\"black\" stroke=\"black\" cx=\"149\" cy=\"-18.04\" rx=\"1\" ry=\"1\"/>\n<text text-anchor=\"middle\" x=\"131.5\" y=\"-29\" font-family=\"Times,serif\" font-size=\"10.00\">4</text>\n</g>\n</g>\n</svg>",
          "text/plain": "<IPython.core.display.SVG object>"
         },
         "metadata": {},
         "output_type": "display_data"
        }
       ],
       "tabbable": null,
       "tooltip": null
      }
     },
     "c4420c20ee434c4aadd4fb46557e972e": {
      "model_module": "@jupyter-widgets/base",
      "model_module_version": "2.0.0",
      "model_name": "LayoutModel",
      "state": {
       "_model_module": "@jupyter-widgets/base",
       "_model_module_version": "2.0.0",
       "_model_name": "LayoutModel",
       "_view_count": null,
       "_view_module": "@jupyter-widgets/base",
       "_view_module_version": "2.0.0",
       "_view_name": "LayoutView",
       "align_content": null,
       "align_items": null,
       "align_self": null,
       "border_bottom": null,
       "border_left": null,
       "border_right": null,
       "border_top": null,
       "bottom": null,
       "display": null,
       "flex": null,
       "flex_flow": null,
       "grid_area": null,
       "grid_auto_columns": null,
       "grid_auto_flow": null,
       "grid_auto_rows": null,
       "grid_column": null,
       "grid_gap": null,
       "grid_row": null,
       "grid_template_areas": null,
       "grid_template_columns": null,
       "grid_template_rows": null,
       "height": null,
       "justify_content": null,
       "justify_items": null,
       "left": null,
       "margin": null,
       "max_height": null,
       "max_width": null,
       "min_height": null,
       "min_width": null,
       "object_fit": null,
       "object_position": null,
       "order": null,
       "overflow": null,
       "padding": null,
       "right": null,
       "top": null,
       "visibility": null,
       "width": null
      }
     },
     "dcb3beddf6864dbea851740136c5edb6": {
      "model_module": "@jupyter-widgets/base",
      "model_module_version": "2.0.0",
      "model_name": "LayoutModel",
      "state": {
       "_model_module": "@jupyter-widgets/base",
       "_model_module_version": "2.0.0",
       "_model_name": "LayoutModel",
       "_view_count": null,
       "_view_module": "@jupyter-widgets/base",
       "_view_module_version": "2.0.0",
       "_view_name": "LayoutView",
       "align_content": null,
       "align_items": null,
       "align_self": null,
       "border_bottom": null,
       "border_left": null,
       "border_right": null,
       "border_top": null,
       "bottom": null,
       "display": null,
       "flex": null,
       "flex_flow": null,
       "grid_area": null,
       "grid_auto_columns": null,
       "grid_auto_flow": null,
       "grid_auto_rows": null,
       "grid_column": null,
       "grid_gap": null,
       "grid_row": null,
       "grid_template_areas": null,
       "grid_template_columns": null,
       "grid_template_rows": null,
       "height": null,
       "justify_content": null,
       "justify_items": null,
       "left": null,
       "margin": null,
       "max_height": null,
       "max_width": null,
       "min_height": null,
       "min_width": null,
       "object_fit": null,
       "object_position": null,
       "order": null,
       "overflow": null,
       "padding": null,
       "right": null,
       "top": null,
       "visibility": null,
       "width": null
      }
     },
     "e3b0e4e766b64cff98a62aa9d76e24ff": {
      "model_module": "@jupyter-widgets/controls",
      "model_module_version": "2.0.0",
      "model_name": "HBoxModel",
      "state": {
       "_dom_classes": [],
       "_model_module": "@jupyter-widgets/controls",
       "_model_module_version": "2.0.0",
       "_model_name": "HBoxModel",
       "_view_count": null,
       "_view_module": "@jupyter-widgets/controls",
       "_view_module_version": "2.0.0",
       "_view_name": "HBoxView",
       "box_style": "",
       "children": [
        "IPY_MODEL_b349863268904db88c32d6b40ab2fc1c",
        "IPY_MODEL_912ad884f25f44f49cc7f7d9b6983f55"
       ],
       "layout": "IPY_MODEL_5b39c2753bfd497fa9a919813dd4cb79",
       "tabbable": null,
       "tooltip": null
      }
     }
    },
    "version_major": 2,
    "version_minor": 0
   }
  }
 },
 "nbformat": 4,
 "nbformat_minor": 5
}
