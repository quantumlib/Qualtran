{
 "cells": [
  {
   "cell_type": "markdown",
   "id": "3f62c768",
   "metadata": {
    "cq.autogen": "title_cell"
   },
   "source": [
    "# Subtraction"
   ]
  },
  {
   "cell_type": "code",
   "execution_count": 1,
   "id": "1e50eeb1",
   "metadata": {
    "cq.autogen": "top_imports"
   },
   "outputs": [],
   "source": [
    "from qualtran import Bloq, CompositeBloq, BloqBuilder, Signature, Register\n",
    "from qualtran import QBit, QInt, QUInt, QAny\n",
    "from qualtran.drawing import show_bloq, show_call_graph, show_counts_sigma\n",
    "from typing import *\n",
    "import numpy as np\n",
    "import sympy\n",
    "import cirq"
   ]
  },
  {
   "cell_type": "markdown",
   "id": "9c974476",
   "metadata": {
    "cq.autogen": "Subtract.bloq_doc.md"
   },
   "source": [
    "## `Subtract`\n",
    "An n-bit subtraction gate.\n",
    "\n",
    "Implements $U|a\\rangle|b\\rangle \\rightarrow |a\\rangle|a-b\\rangle$ using $4n - 4$ T gates.\n",
    "\n",
    "This construction uses the relation `a - b = ~(~a + b)` to turn the operation into addition. This relation is used in\n",
    "[Compilation of Fault-Tolerant Quantum Heuristics for Combinatorial Optimization](https://arxiv.org/pdf/2007.07391)\n",
    "to turn addition into subtraction conditioned on a qubit.\n",
    "\n",
    "#### Parameters\n",
    " - `a_dtype`: Quantum datatype used to represent the integer a.\n",
    " - `b_dtype`: Quantum datatype used to represent the integer b. Must be large enough to hold the result in the output register of a - b, or else it simply drops the most significant bits. If not specified, b_dtype is set to a_dtype. \n",
    "\n",
    "#### Registers\n",
    " - `a`: A a_dtype.bitsize-sized input register (register a above).\n",
    " - `b`: A b_dtype.bitsize-sized input/output register (register b above). \n",
    "\n",
    "#### References\n",
    " - [Compilation of Fault-Tolerant Quantum Heuristics for Combinatorial Optimization](https://arxiv.org/abs/2007.07391). Page 9.\n"
   ]
  },
  {
   "cell_type": "code",
   "execution_count": 2,
   "id": "0af034cf",
   "metadata": {
    "cq.autogen": "Subtract.bloq_doc.py"
   },
   "outputs": [],
   "source": [
    "from qualtran.bloqs.arithmetic import Subtract"
   ]
  },
  {
   "cell_type": "markdown",
   "id": "9156f4e7",
   "metadata": {
    "cq.autogen": "Subtract.example_instances.md"
   },
   "source": [
    "### Example Instances"
   ]
  },
  {
   "cell_type": "code",
   "execution_count": 3,
   "id": "135553b1",
   "metadata": {
    "cq.autogen": "Subtract.sub_symb"
   },
   "outputs": [],
   "source": [
    "n = sympy.Symbol('n')\n",
    "sub_symb = Subtract(QInt(bitsize=n))"
   ]
  },
  {
   "cell_type": "code",
   "execution_count": 4,
   "id": "84c7207a",
   "metadata": {
    "cq.autogen": "Subtract.sub_small"
   },
   "outputs": [],
   "source": [
    "sub_small = Subtract(QInt(bitsize=4))"
   ]
  },
  {
   "cell_type": "code",
   "execution_count": 5,
   "id": "e98b3206",
   "metadata": {
    "cq.autogen": "Subtract.sub_large"
   },
   "outputs": [],
   "source": [
    "sub_large = Subtract(QInt(bitsize=64))"
   ]
  },
  {
   "cell_type": "code",
   "execution_count": 6,
   "id": "e003f5ad",
   "metadata": {
    "cq.autogen": "Subtract.sub_diff_size_regs"
   },
   "outputs": [],
   "source": [
    "sub_diff_size_regs = Subtract(QInt(bitsize=4), QInt(bitsize=16))"
   ]
  },
  {
   "cell_type": "code",
   "execution_count": 7,
   "id": "4aabfa98",
   "metadata": {
    "cq.autogen": "Subtract.sub_symp_decomposition"
   },
   "outputs": [],
   "source": [
    "n = sympy.Symbol('n')\n",
    "sub_symp_decomposition = Subtract(QInt(bitsize=n)).decompose_bloq()"
   ]
  },
  {
   "cell_type": "markdown",
   "id": "9b580c5b",
   "metadata": {
    "cq.autogen": "Subtract.graphical_signature.md"
   },
   "source": [
    "#### Graphical Signature"
   ]
  },
  {
   "cell_type": "code",
   "execution_count": 8,
   "id": "aa412d69",
   "metadata": {
    "cq.autogen": "Subtract.graphical_signature.py"
   },
   "outputs": [
    {
     "data": {
      "application/vnd.jupyter.widget-view+json": {
       "model_id": "e1cc201f46ac41ec8c7af8ff4708c770",
       "version_major": 2,
       "version_minor": 0
      },
      "text/plain": [
       "HBox(children=(Output(outputs=({'output_type': 'display_data', 'data': {'text/plain': '<IPython.core.display.M…"
      ]
     },
     "metadata": {},
     "output_type": "display_data"
    }
   ],
   "source": [
    "from qualtran.drawing import show_bloqs\n",
    "show_bloqs([sub_symb, sub_small, sub_large, sub_diff_size_regs, sub_symp_decomposition],\n",
    "           ['`sub_symb`', '`sub_small`', '`sub_large`', '`sub_diff_size_regs`', '`sub_symp_decomposition`'])"
   ]
  },
  {
   "cell_type": "markdown",
   "id": "6fad45f3",
   "metadata": {
    "cq.autogen": "Subtract.call_graph.md"
   },
   "source": [
    "### Call Graph"
   ]
  },
  {
   "cell_type": "code",
   "execution_count": 9,
   "id": "6a3d1dbc",
   "metadata": {
    "cq.autogen": "Subtract.call_graph.py"
   },
   "outputs": [
    {
     "data": {
      "image/svg+xml": [
       "<svg xmlns=\"http://www.w3.org/2000/svg\" xmlns:xlink=\"http://www.w3.org/1999/xlink\" width=\"134pt\" height=\"131pt\" viewBox=\"0.00 0.00 134.00 131.00\">\n",
       "<g id=\"graph0\" class=\"graph\" transform=\"scale(1 1) rotate(0) translate(4 127)\">\n",
       "<title>counts</title>\n",
       "<polygon fill=\"white\" stroke=\"transparent\" points=\"-4,4 -4,-127 130,-127 130,4 -4,4\"/>\n",
       "<!-- b0 -->\n",
       "<g id=\"node1\" class=\"node\">\n",
       "<title>b0</title>\n",
       "<polygon fill=\"none\" stroke=\"black\" points=\"40,-93 40,-116 86,-116 86,-93 40,-93\"/>\n",
       "<text text-anchor=\"start\" x=\"46\" y=\"-102\" font-family=\"Times,serif\" font-size=\"10.00\">Subtract</text>\n",
       "</g>\n",
       "<!-- b1 -->\n",
       "<g id=\"node2\" class=\"node\">\n",
       "<title>b1</title>\n",
       "<polygon fill=\"none\" stroke=\"black\" points=\"9,-6 9,-29 45,-29 45,-6 9,-6\"/>\n",
       "<text text-anchor=\"start\" x=\"15\" y=\"-15\" font-family=\"Times,serif\" font-size=\"10.00\">X⨂n</text>\n",
       "</g>\n",
       "<!-- b0&#45;&gt;b1 -->\n",
       "<g id=\"edge1\" class=\"edge\">\n",
       "<title>b0-&gt;b1</title>\n",
       "<path fill=\"none\" stroke=\"black\" d=\"M55.71,-86.8C50.69,-74.93 43.91,-58.93 38.2,-45.45\"/>\n",
       "<polygon fill=\"black\" stroke=\"black\" points=\"41.4,-44.02 34.27,-36.18 34.95,-46.75 41.4,-44.02\"/>\n",
       "<text text-anchor=\"middle\" x=\"51.5\" y=\"-57.8\" font-family=\"Times,serif\" font-size=\"14.00\">3</text>\n",
       "</g>\n",
       "<!-- b2 -->\n",
       "<g id=\"node3\" class=\"node\">\n",
       "<title>b2</title>\n",
       "<polygon fill=\"none\" stroke=\"black\" points=\"83,-6 83,-29 115,-29 115,-6 83,-6\"/>\n",
       "<text text-anchor=\"start\" x=\"89.5\" y=\"-15\" font-family=\"Times,serif\" font-size=\"10.00\">Add</text>\n",
       "</g>\n",
       "<!-- b0&#45;&gt;b2 -->\n",
       "<g id=\"edge2\" class=\"edge\">\n",
       "<title>b0-&gt;b2</title>\n",
       "<path fill=\"none\" stroke=\"black\" d=\"M70.29,-86.8C75.31,-74.93 82.09,-58.93 87.8,-45.45\"/>\n",
       "<polygon fill=\"black\" stroke=\"black\" points=\"91.05,-46.75 91.73,-36.18 84.6,-44.02 91.05,-46.75\"/>\n",
       "<text text-anchor=\"middle\" x=\"86.5\" y=\"-57.8\" font-family=\"Times,serif\" font-size=\"14.00\">1</text>\n",
       "</g>\n",
       "</g>\n",
       "</svg>"
      ],
      "text/plain": [
       "<IPython.core.display.SVG object>"
      ]
     },
     "metadata": {},
     "output_type": "display_data"
    },
    {
     "data": {
      "text/markdown": [
       "#### Counts totals:\n",
       " - `Add`: 1\n",
       " - `X⨂n`: 3"
      ],
      "text/plain": [
       "<IPython.core.display.Markdown object>"
      ]
     },
     "metadata": {},
     "output_type": "display_data"
    }
   ],
   "source": [
    "from qualtran.resource_counting.generalizers import ignore_split_join\n",
    "sub_symb_g, sub_symb_sigma = sub_symb.call_graph(max_depth=1, generalizer=ignore_split_join)\n",
    "show_call_graph(sub_symb_g)\n",
    "show_counts_sigma(sub_symb_sigma)"
   ]
  },
  {
   "cell_type": "markdown",
   "id": "c4da55d6",
   "metadata": {
    "cq.autogen": "SubtractFrom.bloq_doc.md"
   },
   "source": [
    "## `SubtractFrom`\n",
    "A version of `Subtract` that subtracts the first register from the second in place.\n",
    "\n",
    "Implements $U|a\n",
    "angle|b\n",
    "angle\n",
    "ightarrow |a\n",
    "angle|b - a\n",
    "angle$, essentially equivalent to\n",
    "the statement `b -= a`.\n",
    "\n",
    "#### Parameters\n",
    " - `dtype`: Quantum datatype used to represent the integers a, b, and b - a. \n",
    "\n",
    "#### Registers\n",
    " - `a`: A dtype.bitsize-sized input register (register a above).\n",
    " - `b`: A dtype.bitsize-sized input/output register (register b above).\n"
   ]
  },
  {
   "cell_type": "code",
   "execution_count": 10,
   "id": "ccc21662",
   "metadata": {
    "cq.autogen": "SubtractFrom.bloq_doc.py"
   },
   "outputs": [],
   "source": [
    "from qualtran.bloqs.arithmetic import SubtractFrom"
   ]
  },
  {
   "cell_type": "markdown",
   "id": "b8182c9f",
   "metadata": {
    "cq.autogen": "SubtractFrom.example_instances.md"
   },
   "source": [
    "### Example Instances"
   ]
  },
  {
   "cell_type": "code",
   "execution_count": 11,
   "id": "4b56cde9",
   "metadata": {
    "cq.autogen": "SubtractFrom.sub_from_symb"
   },
   "outputs": [],
   "source": [
    "n = sympy.Symbol('n')\n",
    "sub_from_symb = SubtractFrom(QInt(bitsize=n))"
   ]
  },
  {
   "cell_type": "code",
   "execution_count": 12,
   "id": "cc45ae49",
   "metadata": {
    "cq.autogen": "SubtractFrom.sub_from_small"
   },
   "outputs": [],
   "source": [
    "sub_from_small = SubtractFrom(QInt(bitsize=4))"
   ]
  },
  {
   "cell_type": "code",
   "execution_count": 13,
   "id": "8e40b0fb",
   "metadata": {
    "cq.autogen": "SubtractFrom.sub_from_large"
   },
   "outputs": [],
   "source": [
    "sub_from_large = SubtractFrom(QInt(bitsize=64))"
   ]
  },
  {
   "cell_type": "markdown",
   "id": "6d965b01",
   "metadata": {
    "cq.autogen": "SubtractFrom.graphical_signature.md"
   },
   "source": [
    "#### Graphical Signature"
   ]
  },
  {
   "cell_type": "code",
   "execution_count": 14,
   "id": "093d2a0d",
   "metadata": {
    "cq.autogen": "SubtractFrom.graphical_signature.py"
   },
   "outputs": [
    {
     "data": {
      "application/vnd.jupyter.widget-view+json": {
       "model_id": "4bb46a5d93cd422e9f1abf86e76c6c3b",
       "version_major": 2,
       "version_minor": 0
      },
      "text/plain": [
       "HBox(children=(Output(outputs=({'output_type': 'display_data', 'data': {'text/plain': '<IPython.core.display.M…"
      ]
     },
     "metadata": {},
     "output_type": "display_data"
    }
   ],
   "source": [
    "from qualtran.drawing import show_bloqs\n",
    "show_bloqs([sub_from_symb, sub_from_small, sub_from_large],\n",
    "           ['`sub_from_symb`', '`sub_from_small`', '`sub_from_large`'])"
   ]
  },
  {
   "cell_type": "markdown",
   "id": "420fd950",
   "metadata": {
    "cq.autogen": "SubtractFrom.call_graph.md"
   },
   "source": [
    "### Call Graph"
   ]
  },
  {
   "cell_type": "code",
   "execution_count": 15,
   "id": "7d1b9b0e",
   "metadata": {
    "cq.autogen": "SubtractFrom.call_graph.py"
   },
   "outputs": [
    {
     "data": {
      "image/svg+xml": [
       "<svg xmlns=\"http://www.w3.org/2000/svg\" xmlns:xlink=\"http://www.w3.org/1999/xlink\" width=\"156pt\" height=\"131pt\" viewBox=\"0.00 0.00 156.00 131.00\">\n",
       "<g id=\"graph0\" class=\"graph\" transform=\"scale(1 1) rotate(0) translate(4 127)\">\n",
       "<title>counts</title>\n",
       "<polygon fill=\"white\" stroke=\"transparent\" points=\"-4,4 -4,-127 152,-127 152,4 -4,4\"/>\n",
       "<!-- b0 -->\n",
       "<g id=\"node1\" class=\"node\">\n",
       "<title>b0</title>\n",
       "<polygon fill=\"none\" stroke=\"black\" points=\"45,-93 45,-116 113,-116 113,-93 45,-93\"/>\n",
       "<text text-anchor=\"start\" x=\"51.5\" y=\"-102\" font-family=\"Times,serif\" font-size=\"10.00\">SubtractFrom</text>\n",
       "</g>\n",
       "<!-- b1 -->\n",
       "<g id=\"node2\" class=\"node\">\n",
       "<title>b1</title>\n",
       "<polygon fill=\"none\" stroke=\"black\" points=\"8,-6 8,-29 68,-29 68,-6 8,-6\"/>\n",
       "<text text-anchor=\"start\" x=\"14\" y=\"-15\" font-family=\"Times,serif\" font-size=\"10.00\">BitwiseNot</text>\n",
       "</g>\n",
       "<!-- b0&#45;&gt;b1 -->\n",
       "<g id=\"edge1\" class=\"edge\">\n",
       "<title>b0-&gt;b1</title>\n",
       "<path fill=\"none\" stroke=\"black\" d=\"M70.7,-86.8C64.98,-74.93 57.26,-58.93 50.76,-45.45\"/>\n",
       "<polygon fill=\"black\" stroke=\"black\" points=\"53.78,-43.66 46.28,-36.18 47.48,-46.7 53.78,-43.66\"/>\n",
       "<text text-anchor=\"middle\" x=\"64.5\" y=\"-57.8\" font-family=\"Times,serif\" font-size=\"14.00\">2</text>\n",
       "</g>\n",
       "<!-- b2 -->\n",
       "<g id=\"node3\" class=\"node\">\n",
       "<title>b2</title>\n",
       "<polygon fill=\"none\" stroke=\"black\" points=\"105,-6 105,-29 137,-29 137,-6 105,-6\"/>\n",
       "<text text-anchor=\"start\" x=\"111.5\" y=\"-15\" font-family=\"Times,serif\" font-size=\"10.00\">Add</text>\n",
       "</g>\n",
       "<!-- b0&#45;&gt;b2 -->\n",
       "<g id=\"edge2\" class=\"edge\">\n",
       "<title>b0-&gt;b2</title>\n",
       "<path fill=\"none\" stroke=\"black\" d=\"M87.5,-86.8C93.36,-74.93 101.27,-58.93 107.93,-45.45\"/>\n",
       "<polygon fill=\"black\" stroke=\"black\" points=\"111.22,-46.69 112.51,-36.18 104.95,-43.59 111.22,-46.69\"/>\n",
       "<text text-anchor=\"middle\" x=\"105.5\" y=\"-57.8\" font-family=\"Times,serif\" font-size=\"14.00\">1</text>\n",
       "</g>\n",
       "</g>\n",
       "</svg>"
      ],
      "text/plain": [
       "<IPython.core.display.SVG object>"
      ]
     },
     "metadata": {},
     "output_type": "display_data"
    },
    {
     "data": {
      "text/markdown": [
       "#### Counts totals:\n",
       " - `Add`: 1\n",
       " - `BitwiseNot`: 2"
      ],
      "text/plain": [
       "<IPython.core.display.Markdown object>"
      ]
     },
     "metadata": {},
     "output_type": "display_data"
    }
   ],
   "source": [
    "from qualtran.resource_counting.generalizers import ignore_split_join\n",
    "sub_from_symb_g, sub_from_symb_sigma = sub_from_symb.call_graph(max_depth=1, generalizer=ignore_split_join)\n",
    "show_call_graph(sub_from_symb_g)\n",
    "show_counts_sigma(sub_from_symb_sigma)"
   ]
  }
 ],
 "metadata": {
  "kernelspec": {
   "display_name": "Python 3",
   "language": "python",
   "name": "python3"
  },
  "language_info": {
   "codemirror_mode": {
    "name": "ipython",
    "version": 3
   },
   "file_extension": ".py",
   "mimetype": "text/x-python",
   "name": "python",
   "nbconvert_exporter": "python",
   "pygments_lexer": "ipython3",
   "version": "3.11.8"
  },
  "widgets": {
   "application/vnd.jupyter.widget-state+json": {
    "state": {
     "021d05fccf364ce889717767757266b2": {
      "model_module": "@jupyter-widgets/output",
      "model_module_version": "1.0.0",
      "model_name": "OutputModel",
      "state": {
       "_dom_classes": [],
       "_model_module": "@jupyter-widgets/output",
       "_model_module_version": "1.0.0",
       "_model_name": "OutputModel",
       "_view_count": null,
       "_view_module": "@jupyter-widgets/output",
       "_view_module_version": "1.0.0",
       "_view_name": "OutputView",
       "layout": "IPY_MODEL_3393df3e389949ad9480af413b09f263",
       "msg_id": "",
       "outputs": [
        {
         "data": {
          "text/markdown": "`sub_symb`",
          "text/plain": "<IPython.core.display.Markdown object>"
         },
         "metadata": {},
         "output_type": "display_data"
        },
        {
         "data": {
          "image/svg+xml": "<svg xmlns=\"http://www.w3.org/2000/svg\" xmlns:xlink=\"http://www.w3.org/1999/xlink\" width=\"230pt\" height=\"98pt\" viewBox=\"0.00 0.00 230.00 98.00\">\n<g id=\"graph0\" class=\"graph\" transform=\"scale(1 1) rotate(0) translate(4 94)\">\n<title>my_graph</title>\n<polygon fill=\"white\" stroke=\"transparent\" points=\"-4,4 -4,-94 226,-94 226,4 -4,4\"/>\n<!-- a_G1 -->\n<g id=\"node1\" class=\"node\">\n<title>a_G1</title>\n<text text-anchor=\"middle\" x=\"27\" y=\"-68.3\" font-family=\"Times,serif\" font-size=\"14.00\">a</text>\n</g>\n<!-- Subtract -->\n<g id=\"node3\" class=\"node\">\n<title>Subtract</title>\n<polygon fill=\"none\" stroke=\"black\" points=\"91,-66 91,-83 131,-83 131,-66 91,-66\"/>\n<text text-anchor=\"start\" x=\"94\" y=\"-72\" font-family=\"Times,serif\" font-size=\"10.00\">Subtract</text>\n<polygon fill=\"none\" stroke=\"black\" points=\"91,-45 91,-66 131,-66 131,-45 91,-45\"/>\n<text text-anchor=\"start\" x=\"107.5\" y=\"-51.8\" font-family=\"Times,serif\" font-size=\"14.00\">a</text>\n<polygon fill=\"none\" stroke=\"black\" points=\"91,-24 91,-45 131,-45 131,-24 91,-24\"/>\n<text text-anchor=\"start\" x=\"107.5\" y=\"-30.8\" font-family=\"Times,serif\" font-size=\"14.00\">b</text>\n</g>\n<!-- a_G1&#45;&gt;Subtract -->\n<g id=\"edge1\" class=\"edge\">\n<title>a_G1:e-&gt;Subtract:w</title>\n<path fill=\"none\" stroke=\"black\" d=\"M54,-72C71.22,-72 72.97,-57.23 88.98,-56.07\"/>\n<ellipse fill=\"black\" stroke=\"black\" cx=\"90\" cy=\"-56.04\" rx=\"1\" ry=\"1\"/>\n<text text-anchor=\"middle\" x=\"72.5\" y=\"-67\" font-family=\"Times,serif\" font-size=\"10.00\">n</text>\n</g>\n<!-- b_G3 -->\n<g id=\"node2\" class=\"node\">\n<title>b_G3</title>\n<text text-anchor=\"middle\" x=\"27\" y=\"-14.3\" font-family=\"Times,serif\" font-size=\"14.00\">b</text>\n</g>\n<!-- b_G3&#45;&gt;Subtract -->\n<g id=\"edge2\" class=\"edge\">\n<title>b_G3:e-&gt;Subtract:w</title>\n<path fill=\"none\" stroke=\"black\" d=\"M54,-18C71.22,-18 72.97,-32.77 88.98,-33.93\"/>\n<ellipse fill=\"black\" stroke=\"black\" cx=\"90\" cy=\"-33.96\" rx=\"1\" ry=\"1\"/>\n<text text-anchor=\"middle\" x=\"72.5\" y=\"-29\" font-family=\"Times,serif\" font-size=\"10.00\">n</text>\n</g>\n<!-- a_G5 -->\n<g id=\"node4\" class=\"node\">\n<title>a_G5</title>\n<text text-anchor=\"middle\" x=\"195\" y=\"-68.3\" font-family=\"Times,serif\" font-size=\"14.00\">a</text>\n</g>\n<!-- Subtract&#45;&gt;a_G5 -->\n<g id=\"edge3\" class=\"edge\">\n<title>Subtract:e-&gt;a_G5:w</title>\n<path fill=\"none\" stroke=\"black\" d=\"M131,-56C148.22,-56 149.97,-70.77 165.98,-71.93\"/>\n<ellipse fill=\"black\" stroke=\"black\" cx=\"167\" cy=\"-71.96\" rx=\"1\" ry=\"1\"/>\n<text text-anchor=\"middle\" x=\"149.5\" y=\"-67\" font-family=\"Times,serif\" font-size=\"10.00\">n</text>\n</g>\n<!-- b_G2 -->\n<g id=\"node5\" class=\"node\">\n<title>b_G2</title>\n<text text-anchor=\"middle\" x=\"195\" y=\"-14.3\" font-family=\"Times,serif\" font-size=\"14.00\">b</text>\n</g>\n<!-- Subtract&#45;&gt;b_G2 -->\n<g id=\"edge4\" class=\"edge\">\n<title>Subtract:e-&gt;b_G2:w</title>\n<path fill=\"none\" stroke=\"black\" d=\"M131,-34C148.22,-34 149.97,-19.23 165.98,-18.07\"/>\n<ellipse fill=\"black\" stroke=\"black\" cx=\"167\" cy=\"-18.04\" rx=\"1\" ry=\"1\"/>\n<text text-anchor=\"middle\" x=\"149.5\" y=\"-29\" font-family=\"Times,serif\" font-size=\"10.00\">n</text>\n</g>\n</g>\n</svg>",
          "text/plain": "<IPython.core.display.SVG object>"
         },
         "metadata": {},
         "output_type": "display_data"
        }
       ],
       "tabbable": null,
       "tooltip": null
      }
     },
     "04849e779d324614a4fd6627a2a15e63": {
      "model_module": "@jupyter-widgets/output",
      "model_module_version": "1.0.0",
      "model_name": "OutputModel",
      "state": {
       "_dom_classes": [],
       "_model_module": "@jupyter-widgets/output",
       "_model_module_version": "1.0.0",
       "_model_name": "OutputModel",
       "_view_count": null,
       "_view_module": "@jupyter-widgets/output",
       "_view_module_version": "1.0.0",
       "_view_name": "OutputView",
       "layout": "IPY_MODEL_b1818270507741f3b4fe2cc6c60856d2",
       "msg_id": "",
       "outputs": [
        {
         "data": {
          "text/markdown": "`sub_diff_size_regs`",
          "text/plain": "<IPython.core.display.Markdown object>"
         },
         "metadata": {},
         "output_type": "display_data"
        },
        {
         "data": {
          "image/svg+xml": "<svg xmlns=\"http://www.w3.org/2000/svg\" xmlns:xlink=\"http://www.w3.org/1999/xlink\" width=\"230pt\" height=\"98pt\" viewBox=\"0.00 0.00 230.00 98.00\">\n<g id=\"graph0\" class=\"graph\" transform=\"scale(1 1) rotate(0) translate(4 94)\">\n<title>my_graph</title>\n<polygon fill=\"white\" stroke=\"transparent\" points=\"-4,4 -4,-94 226,-94 226,4 -4,4\"/>\n<!-- a_G5 -->\n<g id=\"node1\" class=\"node\">\n<title>a_G5</title>\n<text text-anchor=\"middle\" x=\"27\" y=\"-68.3\" font-family=\"Times,serif\" font-size=\"14.00\">a</text>\n</g>\n<!-- Subtract -->\n<g id=\"node3\" class=\"node\">\n<title>Subtract</title>\n<polygon fill=\"none\" stroke=\"black\" points=\"91,-66 91,-83 131,-83 131,-66 91,-66\"/>\n<text text-anchor=\"start\" x=\"94\" y=\"-72\" font-family=\"Times,serif\" font-size=\"10.00\">Subtract</text>\n<polygon fill=\"none\" stroke=\"black\" points=\"91,-45 91,-66 131,-66 131,-45 91,-45\"/>\n<text text-anchor=\"start\" x=\"107.5\" y=\"-51.8\" font-family=\"Times,serif\" font-size=\"14.00\">a</text>\n<polygon fill=\"none\" stroke=\"black\" points=\"91,-24 91,-45 131,-45 131,-24 91,-24\"/>\n<text text-anchor=\"start\" x=\"107.5\" y=\"-30.8\" font-family=\"Times,serif\" font-size=\"14.00\">b</text>\n</g>\n<!-- a_G5&#45;&gt;Subtract -->\n<g id=\"edge1\" class=\"edge\">\n<title>a_G5:e-&gt;Subtract:w</title>\n<path fill=\"none\" stroke=\"black\" d=\"M54,-72C71.22,-72 72.97,-57.23 88.98,-56.07\"/>\n<ellipse fill=\"black\" stroke=\"black\" cx=\"90\" cy=\"-56.04\" rx=\"1\" ry=\"1\"/>\n<text text-anchor=\"middle\" x=\"72.5\" y=\"-67\" font-family=\"Times,serif\" font-size=\"10.00\">4</text>\n</g>\n<!-- b_G1 -->\n<g id=\"node2\" class=\"node\">\n<title>b_G1</title>\n<text text-anchor=\"middle\" x=\"27\" y=\"-14.3\" font-family=\"Times,serif\" font-size=\"14.00\">b</text>\n</g>\n<!-- b_G1&#45;&gt;Subtract -->\n<g id=\"edge2\" class=\"edge\">\n<title>b_G1:e-&gt;Subtract:w</title>\n<path fill=\"none\" stroke=\"black\" d=\"M54,-18C71.22,-18 72.97,-32.77 88.98,-33.93\"/>\n<ellipse fill=\"black\" stroke=\"black\" cx=\"90\" cy=\"-33.96\" rx=\"1\" ry=\"1\"/>\n<text text-anchor=\"middle\" x=\"72.5\" y=\"-29\" font-family=\"Times,serif\" font-size=\"10.00\">16</text>\n</g>\n<!-- a_G0 -->\n<g id=\"node4\" class=\"node\">\n<title>a_G0</title>\n<text text-anchor=\"middle\" x=\"195\" y=\"-68.3\" font-family=\"Times,serif\" font-size=\"14.00\">a</text>\n</g>\n<!-- Subtract&#45;&gt;a_G0 -->\n<g id=\"edge3\" class=\"edge\">\n<title>Subtract:e-&gt;a_G0:w</title>\n<path fill=\"none\" stroke=\"black\" d=\"M131,-56C148.22,-56 149.97,-70.77 165.98,-71.93\"/>\n<ellipse fill=\"black\" stroke=\"black\" cx=\"167\" cy=\"-71.96\" rx=\"1\" ry=\"1\"/>\n<text text-anchor=\"middle\" x=\"149.5\" y=\"-67\" font-family=\"Times,serif\" font-size=\"10.00\">4</text>\n</g>\n<!-- b_G4 -->\n<g id=\"node5\" class=\"node\">\n<title>b_G4</title>\n<text text-anchor=\"middle\" x=\"195\" y=\"-14.3\" font-family=\"Times,serif\" font-size=\"14.00\">b</text>\n</g>\n<!-- Subtract&#45;&gt;b_G4 -->\n<g id=\"edge4\" class=\"edge\">\n<title>Subtract:e-&gt;b_G4:w</title>\n<path fill=\"none\" stroke=\"black\" d=\"M131,-34C148.22,-34 149.97,-19.23 165.98,-18.07\"/>\n<ellipse fill=\"black\" stroke=\"black\" cx=\"167\" cy=\"-18.04\" rx=\"1\" ry=\"1\"/>\n<text text-anchor=\"middle\" x=\"149.5\" y=\"-29\" font-family=\"Times,serif\" font-size=\"10.00\">16</text>\n</g>\n</g>\n</svg>",
          "text/plain": "<IPython.core.display.SVG object>"
         },
         "metadata": {},
         "output_type": "display_data"
        }
       ],
       "tabbable": null,
       "tooltip": null
      }
     },
     "0bfced10364a49ed8411c99d721da28d": {
      "model_module": "@jupyter-widgets/output",
      "model_module_version": "1.0.0",
      "model_name": "OutputModel",
      "state": {
       "_dom_classes": [],
       "_model_module": "@jupyter-widgets/output",
       "_model_module_version": "1.0.0",
       "_model_name": "OutputModel",
       "_view_count": null,
       "_view_module": "@jupyter-widgets/output",
       "_view_module_version": "1.0.0",
       "_view_name": "OutputView",
       "layout": "IPY_MODEL_7e622677ec7c49808e3c2bbc24a8753b",
       "msg_id": "",
       "outputs": [
        {
         "data": {
          "text/markdown": "`sub_from_small`",
          "text/plain": "<IPython.core.display.Markdown object>"
         },
         "metadata": {},
         "output_type": "display_data"
        },
        {
         "data": {
          "image/svg+xml": "<svg xmlns=\"http://www.w3.org/2000/svg\" xmlns:xlink=\"http://www.w3.org/1999/xlink\" width=\"251pt\" height=\"98pt\" viewBox=\"0.00 0.00 251.00 98.00\">\n<g id=\"graph0\" class=\"graph\" transform=\"scale(1 1) rotate(0) translate(4 94)\">\n<title>my_graph</title>\n<polygon fill=\"white\" stroke=\"transparent\" points=\"-4,4 -4,-94 247,-94 247,4 -4,4\"/>\n<!-- a_G5 -->\n<g id=\"node1\" class=\"node\">\n<title>a_G5</title>\n<text text-anchor=\"middle\" x=\"27\" y=\"-68.3\" font-family=\"Times,serif\" font-size=\"14.00\">a</text>\n</g>\n<!-- SubtractFrom -->\n<g id=\"node3\" class=\"node\">\n<title>SubtractFrom</title>\n<polygon fill=\"none\" stroke=\"black\" points=\"91.5,-66 91.5,-83 152.5,-83 152.5,-66 91.5,-66\"/>\n<text text-anchor=\"start\" x=\"94.5\" y=\"-72\" font-family=\"Times,serif\" font-size=\"10.00\">SubtractFrom</text>\n<polygon fill=\"none\" stroke=\"black\" points=\"91.5,-45 91.5,-66 152.5,-66 152.5,-45 91.5,-45\"/>\n<text text-anchor=\"start\" x=\"118.5\" y=\"-51.8\" font-family=\"Times,serif\" font-size=\"14.00\">a</text>\n<polygon fill=\"none\" stroke=\"black\" points=\"91.5,-24 91.5,-45 152.5,-45 152.5,-24 91.5,-24\"/>\n<text text-anchor=\"start\" x=\"118.5\" y=\"-30.8\" font-family=\"Times,serif\" font-size=\"14.00\">b</text>\n</g>\n<!-- a_G5&#45;&gt;SubtractFrom -->\n<g id=\"edge1\" class=\"edge\">\n<title>a_G5:e-&gt;SubtractFrom:w</title>\n<path fill=\"none\" stroke=\"black\" d=\"M54,-72C71.22,-72 72.97,-57.23 88.98,-56.07\"/>\n<ellipse fill=\"black\" stroke=\"black\" cx=\"90\" cy=\"-56.04\" rx=\"1\" ry=\"1\"/>\n<text text-anchor=\"middle\" x=\"72.5\" y=\"-67\" font-family=\"Times,serif\" font-size=\"10.00\">4</text>\n</g>\n<!-- b_G2 -->\n<g id=\"node2\" class=\"node\">\n<title>b_G2</title>\n<text text-anchor=\"middle\" x=\"27\" y=\"-14.3\" font-family=\"Times,serif\" font-size=\"14.00\">b</text>\n</g>\n<!-- b_G2&#45;&gt;SubtractFrom -->\n<g id=\"edge2\" class=\"edge\">\n<title>b_G2:e-&gt;SubtractFrom:w</title>\n<path fill=\"none\" stroke=\"black\" d=\"M54,-18C71.22,-18 72.97,-32.77 88.98,-33.93\"/>\n<ellipse fill=\"black\" stroke=\"black\" cx=\"90\" cy=\"-33.96\" rx=\"1\" ry=\"1\"/>\n<text text-anchor=\"middle\" x=\"72.5\" y=\"-29\" font-family=\"Times,serif\" font-size=\"10.00\">4</text>\n</g>\n<!-- a_G1 -->\n<g id=\"node4\" class=\"node\">\n<title>a_G1</title>\n<text text-anchor=\"middle\" x=\"216\" y=\"-68.3\" font-family=\"Times,serif\" font-size=\"14.00\">a</text>\n</g>\n<!-- SubtractFrom&#45;&gt;a_G1 -->\n<g id=\"edge3\" class=\"edge\">\n<title>SubtractFrom:e-&gt;a_G1:w</title>\n<path fill=\"none\" stroke=\"black\" d=\"M152,-56C169.22,-56 170.97,-70.77 186.98,-71.93\"/>\n<ellipse fill=\"black\" stroke=\"black\" cx=\"188\" cy=\"-71.96\" rx=\"1\" ry=\"1\"/>\n<text text-anchor=\"middle\" x=\"170.5\" y=\"-67\" font-family=\"Times,serif\" font-size=\"10.00\">4</text>\n</g>\n<!-- b_G3 -->\n<g id=\"node5\" class=\"node\">\n<title>b_G3</title>\n<text text-anchor=\"middle\" x=\"216\" y=\"-14.3\" font-family=\"Times,serif\" font-size=\"14.00\">b</text>\n</g>\n<!-- SubtractFrom&#45;&gt;b_G3 -->\n<g id=\"edge4\" class=\"edge\">\n<title>SubtractFrom:e-&gt;b_G3:w</title>\n<path fill=\"none\" stroke=\"black\" d=\"M152,-34C169.22,-34 170.97,-19.23 186.98,-18.07\"/>\n<ellipse fill=\"black\" stroke=\"black\" cx=\"188\" cy=\"-18.04\" rx=\"1\" ry=\"1\"/>\n<text text-anchor=\"middle\" x=\"170.5\" y=\"-29\" font-family=\"Times,serif\" font-size=\"10.00\">4</text>\n</g>\n</g>\n</svg>",
          "text/plain": "<IPython.core.display.SVG object>"
         },
         "metadata": {},
         "output_type": "display_data"
        }
       ],
       "tabbable": null,
       "tooltip": null
      }
     },
     "3393df3e389949ad9480af413b09f263": {
      "model_module": "@jupyter-widgets/base",
      "model_module_version": "2.0.0",
      "model_name": "LayoutModel",
      "state": {
       "_model_module": "@jupyter-widgets/base",
       "_model_module_version": "2.0.0",
       "_model_name": "LayoutModel",
       "_view_count": null,
       "_view_module": "@jupyter-widgets/base",
       "_view_module_version": "2.0.0",
       "_view_name": "LayoutView",
       "align_content": null,
       "align_items": null,
       "align_self": null,
       "border_bottom": null,
       "border_left": null,
       "border_right": null,
       "border_top": null,
       "bottom": null,
       "display": null,
       "flex": null,
       "flex_flow": null,
       "grid_area": null,
       "grid_auto_columns": null,
       "grid_auto_flow": null,
       "grid_auto_rows": null,
       "grid_column": null,
       "grid_gap": null,
       "grid_row": null,
       "grid_template_areas": null,
       "grid_template_columns": null,
       "grid_template_rows": null,
       "height": null,
       "justify_content": null,
       "justify_items": null,
       "left": null,
       "margin": null,
       "max_height": null,
       "max_width": null,
       "min_height": null,
       "min_width": null,
       "object_fit": null,
       "object_position": null,
       "order": null,
       "overflow": null,
       "padding": null,
       "right": null,
       "top": null,
       "visibility": null,
       "width": null
      }
     },
     "3e54f11bcc7a4b8ba3d7329870a99b9e": {
      "model_module": "@jupyter-widgets/output",
      "model_module_version": "1.0.0",
      "model_name": "OutputModel",
      "state": {
       "_dom_classes": [],
       "_model_module": "@jupyter-widgets/output",
       "_model_module_version": "1.0.0",
       "_model_name": "OutputModel",
       "_view_count": null,
       "_view_module": "@jupyter-widgets/output",
       "_view_module_version": "1.0.0",
       "_view_name": "OutputView",
       "layout": "IPY_MODEL_7336f400afdf43e09b27ace95a7a6107",
       "msg_id": "",
       "outputs": [
        {
         "data": {
          "text/markdown": "`sub_from_symb`",
          "text/plain": "<IPython.core.display.Markdown object>"
         },
         "metadata": {},
         "output_type": "display_data"
        },
        {
         "data": {
          "image/svg+xml": "<svg xmlns=\"http://www.w3.org/2000/svg\" xmlns:xlink=\"http://www.w3.org/1999/xlink\" width=\"251pt\" height=\"98pt\" viewBox=\"0.00 0.00 251.00 98.00\">\n<g id=\"graph0\" class=\"graph\" transform=\"scale(1 1) rotate(0) translate(4 94)\">\n<title>my_graph</title>\n<polygon fill=\"white\" stroke=\"transparent\" points=\"-4,4 -4,-94 247,-94 247,4 -4,4\"/>\n<!-- a_G1 -->\n<g id=\"node1\" class=\"node\">\n<title>a_G1</title>\n<text text-anchor=\"middle\" x=\"27\" y=\"-68.3\" font-family=\"Times,serif\" font-size=\"14.00\">a</text>\n</g>\n<!-- SubtractFrom -->\n<g id=\"node3\" class=\"node\">\n<title>SubtractFrom</title>\n<polygon fill=\"none\" stroke=\"black\" points=\"91.5,-66 91.5,-83 152.5,-83 152.5,-66 91.5,-66\"/>\n<text text-anchor=\"start\" x=\"94.5\" y=\"-72\" font-family=\"Times,serif\" font-size=\"10.00\">SubtractFrom</text>\n<polygon fill=\"none\" stroke=\"black\" points=\"91.5,-45 91.5,-66 152.5,-66 152.5,-45 91.5,-45\"/>\n<text text-anchor=\"start\" x=\"118.5\" y=\"-51.8\" font-family=\"Times,serif\" font-size=\"14.00\">a</text>\n<polygon fill=\"none\" stroke=\"black\" points=\"91.5,-24 91.5,-45 152.5,-45 152.5,-24 91.5,-24\"/>\n<text text-anchor=\"start\" x=\"118.5\" y=\"-30.8\" font-family=\"Times,serif\" font-size=\"14.00\">b</text>\n</g>\n<!-- a_G1&#45;&gt;SubtractFrom -->\n<g id=\"edge1\" class=\"edge\">\n<title>a_G1:e-&gt;SubtractFrom:w</title>\n<path fill=\"none\" stroke=\"black\" d=\"M54,-72C71.22,-72 72.97,-57.23 88.98,-56.07\"/>\n<ellipse fill=\"black\" stroke=\"black\" cx=\"90\" cy=\"-56.04\" rx=\"1\" ry=\"1\"/>\n<text text-anchor=\"middle\" x=\"72.5\" y=\"-67\" font-family=\"Times,serif\" font-size=\"10.00\">n</text>\n</g>\n<!-- b_G3 -->\n<g id=\"node2\" class=\"node\">\n<title>b_G3</title>\n<text text-anchor=\"middle\" x=\"27\" y=\"-14.3\" font-family=\"Times,serif\" font-size=\"14.00\">b</text>\n</g>\n<!-- b_G3&#45;&gt;SubtractFrom -->\n<g id=\"edge2\" class=\"edge\">\n<title>b_G3:e-&gt;SubtractFrom:w</title>\n<path fill=\"none\" stroke=\"black\" d=\"M54,-18C71.22,-18 72.97,-32.77 88.98,-33.93\"/>\n<ellipse fill=\"black\" stroke=\"black\" cx=\"90\" cy=\"-33.96\" rx=\"1\" ry=\"1\"/>\n<text text-anchor=\"middle\" x=\"72.5\" y=\"-29\" font-family=\"Times,serif\" font-size=\"10.00\">n</text>\n</g>\n<!-- a_G5 -->\n<g id=\"node4\" class=\"node\">\n<title>a_G5</title>\n<text text-anchor=\"middle\" x=\"216\" y=\"-68.3\" font-family=\"Times,serif\" font-size=\"14.00\">a</text>\n</g>\n<!-- SubtractFrom&#45;&gt;a_G5 -->\n<g id=\"edge3\" class=\"edge\">\n<title>SubtractFrom:e-&gt;a_G5:w</title>\n<path fill=\"none\" stroke=\"black\" d=\"M152,-56C169.22,-56 170.97,-70.77 186.98,-71.93\"/>\n<ellipse fill=\"black\" stroke=\"black\" cx=\"188\" cy=\"-71.96\" rx=\"1\" ry=\"1\"/>\n<text text-anchor=\"middle\" x=\"170.5\" y=\"-67\" font-family=\"Times,serif\" font-size=\"10.00\">n</text>\n</g>\n<!-- b_G2 -->\n<g id=\"node5\" class=\"node\">\n<title>b_G2</title>\n<text text-anchor=\"middle\" x=\"216\" y=\"-14.3\" font-family=\"Times,serif\" font-size=\"14.00\">b</text>\n</g>\n<!-- SubtractFrom&#45;&gt;b_G2 -->\n<g id=\"edge4\" class=\"edge\">\n<title>SubtractFrom:e-&gt;b_G2:w</title>\n<path fill=\"none\" stroke=\"black\" d=\"M152,-34C169.22,-34 170.97,-19.23 186.98,-18.07\"/>\n<ellipse fill=\"black\" stroke=\"black\" cx=\"188\" cy=\"-18.04\" rx=\"1\" ry=\"1\"/>\n<text text-anchor=\"middle\" x=\"170.5\" y=\"-29\" font-family=\"Times,serif\" font-size=\"10.00\">n</text>\n</g>\n</g>\n</svg>",
          "text/plain": "<IPython.core.display.SVG object>"
         },
         "metadata": {},
         "output_type": "display_data"
        }
       ],
       "tabbable": null,
       "tooltip": null
      }
     },
     "3f87dc81bfc345308b705272d4f58d5e": {
      "model_module": "@jupyter-widgets/base",
      "model_module_version": "2.0.0",
      "model_name": "LayoutModel",
      "state": {
       "_model_module": "@jupyter-widgets/base",
       "_model_module_version": "2.0.0",
       "_model_name": "LayoutModel",
       "_view_count": null,
       "_view_module": "@jupyter-widgets/base",
       "_view_module_version": "2.0.0",
       "_view_name": "LayoutView",
       "align_content": null,
       "align_items": null,
       "align_self": null,
       "border_bottom": null,
       "border_left": null,
       "border_right": null,
       "border_top": null,
       "bottom": null,
       "display": null,
       "flex": null,
       "flex_flow": null,
       "grid_area": null,
       "grid_auto_columns": null,
       "grid_auto_flow": null,
       "grid_auto_rows": null,
       "grid_column": null,
       "grid_gap": null,
       "grid_row": null,
       "grid_template_areas": null,
       "grid_template_columns": null,
       "grid_template_rows": null,
       "height": null,
       "justify_content": null,
       "justify_items": null,
       "left": null,
       "margin": null,
       "max_height": null,
       "max_width": null,
       "min_height": null,
       "min_width": null,
       "object_fit": null,
       "object_position": null,
       "order": null,
       "overflow": null,
       "padding": null,
       "right": null,
       "top": null,
       "visibility": null,
       "width": null
      }
     },
     "4bb46a5d93cd422e9f1abf86e76c6c3b": {
      "model_module": "@jupyter-widgets/controls",
      "model_module_version": "2.0.0",
      "model_name": "HBoxModel",
      "state": {
       "_dom_classes": [],
       "_model_module": "@jupyter-widgets/controls",
       "_model_module_version": "2.0.0",
       "_model_name": "HBoxModel",
       "_view_count": null,
       "_view_module": "@jupyter-widgets/controls",
       "_view_module_version": "2.0.0",
       "_view_name": "HBoxView",
       "box_style": "",
       "children": [
        "IPY_MODEL_3e54f11bcc7a4b8ba3d7329870a99b9e",
        "IPY_MODEL_0bfced10364a49ed8411c99d721da28d",
        "IPY_MODEL_5fa25085ec6c42caabae7314cb42d13c"
       ],
       "layout": "IPY_MODEL_769be926b78848bb8a412f936fc1fe4f",
       "tabbable": null,
       "tooltip": null
      }
     },
     "535c1c7df4c0460c9bba7cf29eb89d49": {
      "model_module": "@jupyter-widgets/base",
      "model_module_version": "2.0.0",
      "model_name": "LayoutModel",
      "state": {
       "_model_module": "@jupyter-widgets/base",
       "_model_module_version": "2.0.0",
       "_model_name": "LayoutModel",
       "_view_count": null,
       "_view_module": "@jupyter-widgets/base",
       "_view_module_version": "2.0.0",
       "_view_name": "LayoutView",
       "align_content": null,
       "align_items": null,
       "align_self": null,
       "border_bottom": null,
       "border_left": null,
       "border_right": null,
       "border_top": null,
       "bottom": null,
       "display": null,
       "flex": null,
       "flex_flow": null,
       "grid_area": null,
       "grid_auto_columns": null,
       "grid_auto_flow": null,
       "grid_auto_rows": null,
       "grid_column": null,
       "grid_gap": null,
       "grid_row": null,
       "grid_template_areas": null,
       "grid_template_columns": null,
       "grid_template_rows": null,
       "height": null,
       "justify_content": null,
       "justify_items": null,
       "left": null,
       "margin": null,
       "max_height": null,
       "max_width": null,
       "min_height": null,
       "min_width": null,
       "object_fit": null,
       "object_position": null,
       "order": null,
       "overflow": null,
       "padding": null,
       "right": null,
       "top": null,
       "visibility": null,
       "width": null
      }
     },
     "5db6ca44fe8647299bea57f0a7d94c6e": {
      "model_module": "@jupyter-widgets/output",
      "model_module_version": "1.0.0",
      "model_name": "OutputModel",
      "state": {
       "_dom_classes": [],
       "_model_module": "@jupyter-widgets/output",
       "_model_module_version": "1.0.0",
       "_model_name": "OutputModel",
       "_view_count": null,
       "_view_module": "@jupyter-widgets/output",
       "_view_module_version": "1.0.0",
       "_view_name": "OutputView",
       "layout": "IPY_MODEL_a63f4222efb54715bc96e3941ba60608",
       "msg_id": "",
       "outputs": [
        {
         "data": {
          "text/markdown": "`sub_large`",
          "text/plain": "<IPython.core.display.Markdown object>"
         },
         "metadata": {},
         "output_type": "display_data"
        },
        {
         "data": {
          "image/svg+xml": "<svg xmlns=\"http://www.w3.org/2000/svg\" xmlns:xlink=\"http://www.w3.org/1999/xlink\" width=\"230pt\" height=\"98pt\" viewBox=\"0.00 0.00 230.00 98.00\">\n<g id=\"graph0\" class=\"graph\" transform=\"scale(1 1) rotate(0) translate(4 94)\">\n<title>my_graph</title>\n<polygon fill=\"white\" stroke=\"transparent\" points=\"-4,4 -4,-94 226,-94 226,4 -4,4\"/>\n<!-- a_G4 -->\n<g id=\"node1\" class=\"node\">\n<title>a_G4</title>\n<text text-anchor=\"middle\" x=\"27\" y=\"-68.3\" font-family=\"Times,serif\" font-size=\"14.00\">a</text>\n</g>\n<!-- Subtract -->\n<g id=\"node3\" class=\"node\">\n<title>Subtract</title>\n<polygon fill=\"none\" stroke=\"black\" points=\"91,-66 91,-83 131,-83 131,-66 91,-66\"/>\n<text text-anchor=\"start\" x=\"94\" y=\"-72\" font-family=\"Times,serif\" font-size=\"10.00\">Subtract</text>\n<polygon fill=\"none\" stroke=\"black\" points=\"91,-45 91,-66 131,-66 131,-45 91,-45\"/>\n<text text-anchor=\"start\" x=\"107.5\" y=\"-51.8\" font-family=\"Times,serif\" font-size=\"14.00\">a</text>\n<polygon fill=\"none\" stroke=\"black\" points=\"91,-24 91,-45 131,-45 131,-24 91,-24\"/>\n<text text-anchor=\"start\" x=\"107.5\" y=\"-30.8\" font-family=\"Times,serif\" font-size=\"14.00\">b</text>\n</g>\n<!-- a_G4&#45;&gt;Subtract -->\n<g id=\"edge1\" class=\"edge\">\n<title>a_G4:e-&gt;Subtract:w</title>\n<path fill=\"none\" stroke=\"black\" d=\"M54,-72C71.22,-72 72.97,-57.23 88.98,-56.07\"/>\n<ellipse fill=\"black\" stroke=\"black\" cx=\"90\" cy=\"-56.04\" rx=\"1\" ry=\"1\"/>\n<text text-anchor=\"middle\" x=\"72.5\" y=\"-67\" font-family=\"Times,serif\" font-size=\"10.00\">64</text>\n</g>\n<!-- b_G0 -->\n<g id=\"node2\" class=\"node\">\n<title>b_G0</title>\n<text text-anchor=\"middle\" x=\"27\" y=\"-14.3\" font-family=\"Times,serif\" font-size=\"14.00\">b</text>\n</g>\n<!-- b_G0&#45;&gt;Subtract -->\n<g id=\"edge2\" class=\"edge\">\n<title>b_G0:e-&gt;Subtract:w</title>\n<path fill=\"none\" stroke=\"black\" d=\"M54,-18C71.22,-18 72.97,-32.77 88.98,-33.93\"/>\n<ellipse fill=\"black\" stroke=\"black\" cx=\"90\" cy=\"-33.96\" rx=\"1\" ry=\"1\"/>\n<text text-anchor=\"middle\" x=\"72.5\" y=\"-29\" font-family=\"Times,serif\" font-size=\"10.00\">64</text>\n</g>\n<!-- a_G3 -->\n<g id=\"node4\" class=\"node\">\n<title>a_G3</title>\n<text text-anchor=\"middle\" x=\"195\" y=\"-68.3\" font-family=\"Times,serif\" font-size=\"14.00\">a</text>\n</g>\n<!-- Subtract&#45;&gt;a_G3 -->\n<g id=\"edge3\" class=\"edge\">\n<title>Subtract:e-&gt;a_G3:w</title>\n<path fill=\"none\" stroke=\"black\" d=\"M131,-56C148.22,-56 149.97,-70.77 165.98,-71.93\"/>\n<ellipse fill=\"black\" stroke=\"black\" cx=\"167\" cy=\"-71.96\" rx=\"1\" ry=\"1\"/>\n<text text-anchor=\"middle\" x=\"149.5\" y=\"-67\" font-family=\"Times,serif\" font-size=\"10.00\">64</text>\n</g>\n<!-- b_G1 -->\n<g id=\"node5\" class=\"node\">\n<title>b_G1</title>\n<text text-anchor=\"middle\" x=\"195\" y=\"-14.3\" font-family=\"Times,serif\" font-size=\"14.00\">b</text>\n</g>\n<!-- Subtract&#45;&gt;b_G1 -->\n<g id=\"edge4\" class=\"edge\">\n<title>Subtract:e-&gt;b_G1:w</title>\n<path fill=\"none\" stroke=\"black\" d=\"M131,-34C148.22,-34 149.97,-19.23 165.98,-18.07\"/>\n<ellipse fill=\"black\" stroke=\"black\" cx=\"167\" cy=\"-18.04\" rx=\"1\" ry=\"1\"/>\n<text text-anchor=\"middle\" x=\"149.5\" y=\"-29\" font-family=\"Times,serif\" font-size=\"10.00\">64</text>\n</g>\n</g>\n</svg>",
          "text/plain": "<IPython.core.display.SVG object>"
         },
         "metadata": {},
         "output_type": "display_data"
        }
       ],
       "tabbable": null,
       "tooltip": null
      }
     },
     "5fa25085ec6c42caabae7314cb42d13c": {
      "model_module": "@jupyter-widgets/output",
      "model_module_version": "1.0.0",
      "model_name": "OutputModel",
      "state": {
       "_dom_classes": [],
       "_model_module": "@jupyter-widgets/output",
       "_model_module_version": "1.0.0",
       "_model_name": "OutputModel",
       "_view_count": null,
       "_view_module": "@jupyter-widgets/output",
       "_view_module_version": "1.0.0",
       "_view_name": "OutputView",
       "layout": "IPY_MODEL_d362d0aedf354afaa384d3a66fbe0ee9",
       "msg_id": "",
       "outputs": [
        {
         "data": {
          "text/markdown": "`sub_from_large`",
          "text/plain": "<IPython.core.display.Markdown object>"
         },
         "metadata": {},
         "output_type": "display_data"
        },
        {
         "data": {
          "image/svg+xml": "<svg xmlns=\"http://www.w3.org/2000/svg\" xmlns:xlink=\"http://www.w3.org/1999/xlink\" width=\"251pt\" height=\"98pt\" viewBox=\"0.00 0.00 251.00 98.00\">\n<g id=\"graph0\" class=\"graph\" transform=\"scale(1 1) rotate(0) translate(4 94)\">\n<title>my_graph</title>\n<polygon fill=\"white\" stroke=\"transparent\" points=\"-4,4 -4,-94 247,-94 247,4 -4,4\"/>\n<!-- a_G4 -->\n<g id=\"node1\" class=\"node\">\n<title>a_G4</title>\n<text text-anchor=\"middle\" x=\"27\" y=\"-68.3\" font-family=\"Times,serif\" font-size=\"14.00\">a</text>\n</g>\n<!-- SubtractFrom -->\n<g id=\"node3\" class=\"node\">\n<title>SubtractFrom</title>\n<polygon fill=\"none\" stroke=\"black\" points=\"91.5,-66 91.5,-83 152.5,-83 152.5,-66 91.5,-66\"/>\n<text text-anchor=\"start\" x=\"94.5\" y=\"-72\" font-family=\"Times,serif\" font-size=\"10.00\">SubtractFrom</text>\n<polygon fill=\"none\" stroke=\"black\" points=\"91.5,-45 91.5,-66 152.5,-66 152.5,-45 91.5,-45\"/>\n<text text-anchor=\"start\" x=\"118.5\" y=\"-51.8\" font-family=\"Times,serif\" font-size=\"14.00\">a</text>\n<polygon fill=\"none\" stroke=\"black\" points=\"91.5,-24 91.5,-45 152.5,-45 152.5,-24 91.5,-24\"/>\n<text text-anchor=\"start\" x=\"118.5\" y=\"-30.8\" font-family=\"Times,serif\" font-size=\"14.00\">b</text>\n</g>\n<!-- a_G4&#45;&gt;SubtractFrom -->\n<g id=\"edge1\" class=\"edge\">\n<title>a_G4:e-&gt;SubtractFrom:w</title>\n<path fill=\"none\" stroke=\"black\" d=\"M54,-72C71.22,-72 72.97,-57.23 88.98,-56.07\"/>\n<ellipse fill=\"black\" stroke=\"black\" cx=\"90\" cy=\"-56.04\" rx=\"1\" ry=\"1\"/>\n<text text-anchor=\"middle\" x=\"72.5\" y=\"-67\" font-family=\"Times,serif\" font-size=\"10.00\">64</text>\n</g>\n<!-- b_G0 -->\n<g id=\"node2\" class=\"node\">\n<title>b_G0</title>\n<text text-anchor=\"middle\" x=\"27\" y=\"-14.3\" font-family=\"Times,serif\" font-size=\"14.00\">b</text>\n</g>\n<!-- b_G0&#45;&gt;SubtractFrom -->\n<g id=\"edge2\" class=\"edge\">\n<title>b_G0:e-&gt;SubtractFrom:w</title>\n<path fill=\"none\" stroke=\"black\" d=\"M54,-18C71.22,-18 72.97,-32.77 88.98,-33.93\"/>\n<ellipse fill=\"black\" stroke=\"black\" cx=\"90\" cy=\"-33.96\" rx=\"1\" ry=\"1\"/>\n<text text-anchor=\"middle\" x=\"72.5\" y=\"-29\" font-family=\"Times,serif\" font-size=\"10.00\">64</text>\n</g>\n<!-- a_G3 -->\n<g id=\"node4\" class=\"node\">\n<title>a_G3</title>\n<text text-anchor=\"middle\" x=\"216\" y=\"-68.3\" font-family=\"Times,serif\" font-size=\"14.00\">a</text>\n</g>\n<!-- SubtractFrom&#45;&gt;a_G3 -->\n<g id=\"edge3\" class=\"edge\">\n<title>SubtractFrom:e-&gt;a_G3:w</title>\n<path fill=\"none\" stroke=\"black\" d=\"M152,-56C169.22,-56 170.97,-70.77 186.98,-71.93\"/>\n<ellipse fill=\"black\" stroke=\"black\" cx=\"188\" cy=\"-71.96\" rx=\"1\" ry=\"1\"/>\n<text text-anchor=\"middle\" x=\"170.5\" y=\"-67\" font-family=\"Times,serif\" font-size=\"10.00\">64</text>\n</g>\n<!-- b_G1 -->\n<g id=\"node5\" class=\"node\">\n<title>b_G1</title>\n<text text-anchor=\"middle\" x=\"216\" y=\"-14.3\" font-family=\"Times,serif\" font-size=\"14.00\">b</text>\n</g>\n<!-- SubtractFrom&#45;&gt;b_G1 -->\n<g id=\"edge4\" class=\"edge\">\n<title>SubtractFrom:e-&gt;b_G1:w</title>\n<path fill=\"none\" stroke=\"black\" d=\"M152,-34C169.22,-34 170.97,-19.23 186.98,-18.07\"/>\n<ellipse fill=\"black\" stroke=\"black\" cx=\"188\" cy=\"-18.04\" rx=\"1\" ry=\"1\"/>\n<text text-anchor=\"middle\" x=\"170.5\" y=\"-29\" font-family=\"Times,serif\" font-size=\"10.00\">64</text>\n</g>\n</g>\n</svg>",
          "text/plain": "<IPython.core.display.SVG object>"
         },
         "metadata": {},
         "output_type": "display_data"
        }
       ],
       "tabbable": null,
       "tooltip": null
      }
     },
     "63dabd6e541c4eaca33fc45cd91c4e07": {
      "model_module": "@jupyter-widgets/base",
      "model_module_version": "2.0.0",
      "model_name": "LayoutModel",
      "state": {
       "_model_module": "@jupyter-widgets/base",
       "_model_module_version": "2.0.0",
       "_model_name": "LayoutModel",
       "_view_count": null,
       "_view_module": "@jupyter-widgets/base",
       "_view_module_version": "2.0.0",
       "_view_name": "LayoutView",
       "align_content": null,
       "align_items": null,
       "align_self": null,
       "border_bottom": null,
       "border_left": null,
       "border_right": null,
       "border_top": null,
       "bottom": null,
       "display": null,
       "flex": null,
       "flex_flow": null,
       "grid_area": null,
       "grid_auto_columns": null,
       "grid_auto_flow": null,
       "grid_auto_rows": null,
       "grid_column": null,
       "grid_gap": null,
       "grid_row": null,
       "grid_template_areas": null,
       "grid_template_columns": null,
       "grid_template_rows": null,
       "height": null,
       "justify_content": null,
       "justify_items": null,
       "left": null,
       "margin": null,
       "max_height": null,
       "max_width": null,
       "min_height": null,
       "min_width": null,
       "object_fit": null,
       "object_position": null,
       "order": null,
       "overflow": null,
       "padding": null,
       "right": null,
       "top": null,
       "visibility": null,
       "width": null
      }
     },
     "689639afec8a41b7ae5efb11be2556f9": {
      "model_module": "@jupyter-widgets/output",
      "model_module_version": "1.0.0",
      "model_name": "OutputModel",
      "state": {
       "_dom_classes": [],
       "_model_module": "@jupyter-widgets/output",
       "_model_module_version": "1.0.0",
       "_model_name": "OutputModel",
       "_view_count": null,
       "_view_module": "@jupyter-widgets/output",
       "_view_module_version": "1.0.0",
       "_view_name": "OutputView",
       "layout": "IPY_MODEL_3f87dc81bfc345308b705272d4f58d5e",
       "msg_id": "",
       "outputs": [
        {
         "data": {
          "text/markdown": "`sub_symp_decomposition`",
          "text/plain": "<IPython.core.display.Markdown object>"
         },
         "metadata": {},
         "output_type": "display_data"
        },
        {
         "data": {
          "image/svg+xml": "<svg xmlns=\"http://www.w3.org/2000/svg\" xmlns:xlink=\"http://www.w3.org/1999/xlink\" width=\"566pt\" height=\"111pt\" viewBox=\"0.00 0.00 566.00 111.00\">\n<g id=\"graph0\" class=\"graph\" transform=\"scale(1 1) rotate(0) translate(4 107)\">\n<title>my_graph</title>\n<polygon fill=\"white\" stroke=\"transparent\" points=\"-4,4 -4,-107 562,-107 562,4 -4,4\"/>\n<!-- a_G16 -->\n<g id=\"node1\" class=\"node\">\n<title>a_G16</title>\n<text text-anchor=\"middle\" x=\"27\" y=\"-68.3\" font-family=\"Times,serif\" font-size=\"14.00\">a</text>\n</g>\n<!-- Cast_G4 -->\n<g id=\"node8\" class=\"node\">\n<title>Cast_G4</title>\n<polygon fill=\"none\" stroke=\"black\" points=\"91,-82 91,-99 139,-99 139,-82 91,-82\"/>\n<text text-anchor=\"start\" x=\"105.5\" y=\"-88\" font-family=\"Times,serif\" font-size=\"10.00\">Cast</text>\n<polygon fill=\"none\" stroke=\"black\" points=\"91,-61 91,-82 115,-82 115,-61 91,-61\"/>\n<text text-anchor=\"start\" x=\"94\" y=\"-67.8\" font-family=\"Times,serif\" font-size=\"14.00\">reg</text>\n<polygon fill=\"none\" stroke=\"black\" points=\"115,-61 115,-82 139,-82 139,-61 115,-61\"/>\n<text text-anchor=\"start\" x=\"118\" y=\"-67.8\" font-family=\"Times,serif\" font-size=\"14.00\">reg</text>\n</g>\n<!-- a_G16&#45;&gt;Cast_G4 -->\n<g id=\"edge1\" class=\"edge\">\n<title>a_G16:e-&gt;Cast_G4:w</title>\n<path fill=\"none\" stroke=\"black\" d=\"M54,-72C69.68,-72 74.14,-71.09 88.77,-71.01\"/>\n<ellipse fill=\"black\" stroke=\"black\" cx=\"90\" cy=\"-71\" rx=\"1\" ry=\"1\"/>\n<text text-anchor=\"middle\" x=\"72.5\" y=\"-74\" font-family=\"Times,serif\" font-size=\"10.00\">n</text>\n</g>\n<!-- b_G17 -->\n<g id=\"node2\" class=\"node\">\n<title>b_G17</title>\n<text text-anchor=\"middle\" x=\"27\" y=\"-14.3\" font-family=\"Times,serif\" font-size=\"14.00\">b</text>\n</g>\n<!-- Cast -->\n<g id=\"node3\" class=\"node\">\n<title>Cast</title>\n<polygon fill=\"none\" stroke=\"black\" points=\"157,-30 157,-47 205,-47 205,-30 157,-30\"/>\n<text text-anchor=\"start\" x=\"171.5\" y=\"-36\" font-family=\"Times,serif\" font-size=\"10.00\">Cast</text>\n<polygon fill=\"none\" stroke=\"black\" points=\"157,-9 157,-30 181,-30 181,-9 157,-9\"/>\n<text text-anchor=\"start\" x=\"160\" y=\"-15.8\" font-family=\"Times,serif\" font-size=\"14.00\">reg</text>\n<polygon fill=\"none\" stroke=\"black\" points=\"181,-9 181,-30 205,-30 205,-9 181,-9\"/>\n<text text-anchor=\"start\" x=\"184\" y=\"-15.8\" font-family=\"Times,serif\" font-size=\"14.00\">reg</text>\n</g>\n<!-- b_G17&#45;&gt;Cast -->\n<g id=\"edge2\" class=\"edge\">\n<title>b_G17:e-&gt;Cast:w</title>\n<path fill=\"none\" stroke=\"black\" d=\"M54,-18C99.06,-18 110.85,-18.97 154.88,-19\"/>\n<ellipse fill=\"black\" stroke=\"black\" cx=\"156\" cy=\"-19\" rx=\"1\" ry=\"1\"/>\n<text text-anchor=\"middle\" x=\"72.5\" y=\"-21\" font-family=\"Times,serif\" font-size=\"10.00\">n</text>\n</g>\n<!-- Add -->\n<g id=\"node4\" class=\"node\">\n<title>Add</title>\n<polygon fill=\"none\" stroke=\"black\" points=\"290.5,-60 290.5,-77 315.5,-77 315.5,-60 290.5,-60\"/>\n<text text-anchor=\"start\" x=\"293.5\" y=\"-66\" font-family=\"Times,serif\" font-size=\"10.00\">Add</text>\n<polygon fill=\"none\" stroke=\"black\" points=\"290.5,-39 290.5,-60 315.5,-60 315.5,-39 290.5,-39\"/>\n<text text-anchor=\"start\" x=\"299.5\" y=\"-45.8\" font-family=\"Times,serif\" font-size=\"14.00\">a</text>\n<polygon fill=\"none\" stroke=\"black\" points=\"290.5,-18 290.5,-39 315.5,-39 315.5,-18 290.5,-18\"/>\n<text text-anchor=\"start\" x=\"299.5\" y=\"-24.8\" font-family=\"Times,serif\" font-size=\"14.00\">b</text>\n</g>\n<!-- Cast&#45;&gt;Add -->\n<g id=\"edge5\" class=\"edge\">\n<title>Cast:e-&gt;Add:w</title>\n<path fill=\"none\" stroke=\"black\" d=\"M205,-19C242.25,-19 251.65,-27.65 287.81,-27.99\"/>\n<ellipse fill=\"black\" stroke=\"black\" cx=\"289\" cy=\"-28\" rx=\"1\" ry=\"1\"/>\n<text text-anchor=\"middle\" x=\"238\" y=\"-27\" font-family=\"Times,serif\" font-size=\"10.00\">n</text>\n</g>\n<!-- OnEach_G2 -->\n<g id=\"node7\" class=\"node\">\n<title>OnEach_G2</title>\n<polygon fill=\"none\" stroke=\"black\" points=\"352,-86 352,-103 382,-103 382,-86 352,-86\"/>\n<text text-anchor=\"start\" x=\"355\" y=\"-92\" font-family=\"Times,serif\" font-size=\"10.00\">X⨂n</text>\n<polygon fill=\"none\" stroke=\"black\" points=\"352,-65 352,-86 382,-86 382,-65 352,-65\"/>\n<text text-anchor=\"start\" x=\"363.5\" y=\"-71.8\" font-family=\"Times,serif\" font-size=\"14.00\">q</text>\n</g>\n<!-- Add&#45;&gt;OnEach_G2 -->\n<g id=\"edge7\" class=\"edge\">\n<title>Add:e-&gt;OnEach_G2:w</title>\n<path fill=\"none\" stroke=\"black\" d=\"M315,-50C334.07,-50 332.33,-73.09 349.77,-74.89\"/>\n<ellipse fill=\"black\" stroke=\"black\" cx=\"351\" cy=\"-74.95\" rx=\"1\" ry=\"1\"/>\n<text text-anchor=\"middle\" x=\"333.5\" y=\"-65\" font-family=\"Times,serif\" font-size=\"10.00\">n</text>\n</g>\n<!-- OnEach_G6 -->\n<g id=\"node9\" class=\"node\">\n<title>OnEach_G6</title>\n<polygon fill=\"none\" stroke=\"black\" points=\"352,-30 352,-47 382,-47 382,-30 352,-30\"/>\n<text text-anchor=\"start\" x=\"355\" y=\"-36\" font-family=\"Times,serif\" font-size=\"10.00\">X⨂n</text>\n<polygon fill=\"none\" stroke=\"black\" points=\"352,-9 352,-30 382,-30 382,-9 352,-9\"/>\n<text text-anchor=\"start\" x=\"363.5\" y=\"-15.8\" font-family=\"Times,serif\" font-size=\"14.00\">q</text>\n</g>\n<!-- Add&#45;&gt;OnEach_G6 -->\n<g id=\"edge6\" class=\"edge\">\n<title>Add:e-&gt;OnEach_G6:w</title>\n<path fill=\"none\" stroke=\"black\" d=\"M315,-28C331.13,-28 334.75,-19.82 349.71,-19.06\"/>\n<ellipse fill=\"black\" stroke=\"black\" cx=\"351\" cy=\"-19.03\" rx=\"1\" ry=\"1\"/>\n<text text-anchor=\"middle\" x=\"333.5\" y=\"-26\" font-family=\"Times,serif\" font-size=\"10.00\">n</text>\n</g>\n<!-- Cast_G0 -->\n<g id=\"node5\" class=\"node\">\n<title>Cast_G0</title>\n<polygon fill=\"none\" stroke=\"black\" points=\"419,-86 419,-103 467,-103 467,-86 419,-86\"/>\n<text text-anchor=\"start\" x=\"433.5\" y=\"-92\" font-family=\"Times,serif\" font-size=\"10.00\">Cast</text>\n<polygon fill=\"none\" stroke=\"black\" points=\"419,-65 419,-86 443,-86 443,-65 419,-65\"/>\n<text text-anchor=\"start\" x=\"422\" y=\"-71.8\" font-family=\"Times,serif\" font-size=\"14.00\">reg</text>\n<polygon fill=\"none\" stroke=\"black\" points=\"443,-65 443,-86 467,-86 467,-65 443,-65\"/>\n<text text-anchor=\"start\" x=\"446\" y=\"-71.8\" font-family=\"Times,serif\" font-size=\"14.00\">reg</text>\n</g>\n<!-- a_G25 -->\n<g id=\"node11\" class=\"node\">\n<title>a_G25</title>\n<text text-anchor=\"middle\" x=\"531\" y=\"-71.3\" font-family=\"Times,serif\" font-size=\"14.00\">a</text>\n</g>\n<!-- Cast_G0&#45;&gt;a_G25 -->\n<g id=\"edge10\" class=\"edge\">\n<title>Cast_G0:e-&gt;a_G25:w</title>\n<path fill=\"none\" stroke=\"black\" d=\"M467,-75C482.67,-75 487.14,-75 501.77,-75\"/>\n<ellipse fill=\"black\" stroke=\"black\" cx=\"503\" cy=\"-75\" rx=\"1\" ry=\"1\"/>\n<text text-anchor=\"middle\" x=\"485.5\" y=\"-78\" font-family=\"Times,serif\" font-size=\"10.00\">n</text>\n</g>\n<!-- OnEach -->\n<g id=\"node6\" class=\"node\">\n<title>OnEach</title>\n<polygon fill=\"none\" stroke=\"black\" points=\"223,-78 223,-95 253,-95 253,-78 223,-78\"/>\n<text text-anchor=\"start\" x=\"226\" y=\"-84\" font-family=\"Times,serif\" font-size=\"10.00\">X⨂n</text>\n<polygon fill=\"none\" stroke=\"black\" points=\"223,-57 223,-78 253,-78 253,-57 223,-57\"/>\n<text text-anchor=\"start\" x=\"234.5\" y=\"-63.8\" font-family=\"Times,serif\" font-size=\"14.00\">q</text>\n</g>\n<!-- OnEach&#45;&gt;Add -->\n<g id=\"edge4\" class=\"edge\">\n<title>OnEach:e-&gt;Add:w</title>\n<path fill=\"none\" stroke=\"black\" d=\"M253,-67C270.39,-67 271.81,-51.3 287.96,-50.08\"/>\n<ellipse fill=\"black\" stroke=\"black\" cx=\"289\" cy=\"-50.04\" rx=\"1\" ry=\"1\"/>\n<text text-anchor=\"middle\" x=\"271.5\" y=\"-61\" font-family=\"Times,serif\" font-size=\"10.00\">n</text>\n</g>\n<!-- OnEach_G2&#45;&gt;Cast_G0 -->\n<g id=\"edge9\" class=\"edge\">\n<title>OnEach_G2:e-&gt;Cast_G0:w</title>\n<path fill=\"none\" stroke=\"black\" d=\"M382,-75C397.67,-75 402.14,-75 416.77,-75\"/>\n<ellipse fill=\"black\" stroke=\"black\" cx=\"418\" cy=\"-75\" rx=\"1\" ry=\"1\"/>\n<text text-anchor=\"middle\" x=\"400.5\" y=\"-78\" font-family=\"Times,serif\" font-size=\"10.00\">n</text>\n</g>\n<!-- Cast_G4&#45;&gt;OnEach -->\n<g id=\"edge3\" class=\"edge\">\n<title>Cast_G4:e-&gt;OnEach:w</title>\n<path fill=\"none\" stroke=\"black\" d=\"M139,-71C175.65,-71 185.25,-67.15 220.84,-67\"/>\n<ellipse fill=\"black\" stroke=\"black\" cx=\"222\" cy=\"-67\" rx=\"1\" ry=\"1\"/>\n<text text-anchor=\"middle\" x=\"181\" y=\"-73\" font-family=\"Times,serif\" font-size=\"10.00\">n</text>\n</g>\n<!-- Cast_G8 -->\n<g id=\"node10\" class=\"node\">\n<title>Cast_G8</title>\n<polygon fill=\"none\" stroke=\"black\" points=\"419,-30 419,-47 467,-47 467,-30 419,-30\"/>\n<text text-anchor=\"start\" x=\"433.5\" y=\"-36\" font-family=\"Times,serif\" font-size=\"10.00\">Cast</text>\n<polygon fill=\"none\" stroke=\"black\" points=\"419,-9 419,-30 443,-30 443,-9 419,-9\"/>\n<text text-anchor=\"start\" x=\"422\" y=\"-15.8\" font-family=\"Times,serif\" font-size=\"14.00\">reg</text>\n<polygon fill=\"none\" stroke=\"black\" points=\"443,-9 443,-30 467,-30 467,-9 443,-9\"/>\n<text text-anchor=\"start\" x=\"446\" y=\"-15.8\" font-family=\"Times,serif\" font-size=\"14.00\">reg</text>\n</g>\n<!-- OnEach_G6&#45;&gt;Cast_G8 -->\n<g id=\"edge8\" class=\"edge\">\n<title>OnEach_G6:e-&gt;Cast_G8:w</title>\n<path fill=\"none\" stroke=\"black\" d=\"M382,-19C397.67,-19 402.14,-19 416.77,-19\"/>\n<ellipse fill=\"black\" stroke=\"black\" cx=\"418\" cy=\"-19\" rx=\"1\" ry=\"1\"/>\n<text text-anchor=\"middle\" x=\"400.5\" y=\"-22\" font-family=\"Times,serif\" font-size=\"10.00\">n</text>\n</g>\n<!-- b_G12 -->\n<g id=\"node12\" class=\"node\">\n<title>b_G12</title>\n<text text-anchor=\"middle\" x=\"531\" y=\"-15.3\" font-family=\"Times,serif\" font-size=\"14.00\">b</text>\n</g>\n<!-- Cast_G8&#45;&gt;b_G12 -->\n<g id=\"edge11\" class=\"edge\">\n<title>Cast_G8:e-&gt;b_G12:w</title>\n<path fill=\"none\" stroke=\"black\" d=\"M467,-19C482.67,-19 487.14,-19 501.77,-19\"/>\n<ellipse fill=\"black\" stroke=\"black\" cx=\"503\" cy=\"-19\" rx=\"1\" ry=\"1\"/>\n<text text-anchor=\"middle\" x=\"485.5\" y=\"-22\" font-family=\"Times,serif\" font-size=\"10.00\">n</text>\n</g>\n</g>\n</svg>",
          "text/plain": "<IPython.core.display.SVG object>"
         },
         "metadata": {},
         "output_type": "display_data"
        }
       ],
       "tabbable": null,
       "tooltip": null
      }
     },
     "7336f400afdf43e09b27ace95a7a6107": {
      "model_module": "@jupyter-widgets/base",
      "model_module_version": "2.0.0",
      "model_name": "LayoutModel",
      "state": {
       "_model_module": "@jupyter-widgets/base",
       "_model_module_version": "2.0.0",
       "_model_name": "LayoutModel",
       "_view_count": null,
       "_view_module": "@jupyter-widgets/base",
       "_view_module_version": "2.0.0",
       "_view_name": "LayoutView",
       "align_content": null,
       "align_items": null,
       "align_self": null,
       "border_bottom": null,
       "border_left": null,
       "border_right": null,
       "border_top": null,
       "bottom": null,
       "display": null,
       "flex": null,
       "flex_flow": null,
       "grid_area": null,
       "grid_auto_columns": null,
       "grid_auto_flow": null,
       "grid_auto_rows": null,
       "grid_column": null,
       "grid_gap": null,
       "grid_row": null,
       "grid_template_areas": null,
       "grid_template_columns": null,
       "grid_template_rows": null,
       "height": null,
       "justify_content": null,
       "justify_items": null,
       "left": null,
       "margin": null,
       "max_height": null,
       "max_width": null,
       "min_height": null,
       "min_width": null,
       "object_fit": null,
       "object_position": null,
       "order": null,
       "overflow": null,
       "padding": null,
       "right": null,
       "top": null,
       "visibility": null,
       "width": null
      }
     },
     "769be926b78848bb8a412f936fc1fe4f": {
      "model_module": "@jupyter-widgets/base",
      "model_module_version": "2.0.0",
      "model_name": "LayoutModel",
      "state": {
       "_model_module": "@jupyter-widgets/base",
       "_model_module_version": "2.0.0",
       "_model_name": "LayoutModel",
       "_view_count": null,
       "_view_module": "@jupyter-widgets/base",
       "_view_module_version": "2.0.0",
       "_view_name": "LayoutView",
       "align_content": null,
       "align_items": null,
       "align_self": null,
       "border_bottom": null,
       "border_left": null,
       "border_right": null,
       "border_top": null,
       "bottom": null,
       "display": null,
       "flex": null,
       "flex_flow": null,
       "grid_area": null,
       "grid_auto_columns": null,
       "grid_auto_flow": null,
       "grid_auto_rows": null,
       "grid_column": null,
       "grid_gap": null,
       "grid_row": null,
       "grid_template_areas": null,
       "grid_template_columns": null,
       "grid_template_rows": null,
       "height": null,
       "justify_content": null,
       "justify_items": null,
       "left": null,
       "margin": null,
       "max_height": null,
       "max_width": null,
       "min_height": null,
       "min_width": null,
       "object_fit": null,
       "object_position": null,
       "order": null,
       "overflow": null,
       "padding": null,
       "right": null,
       "top": null,
       "visibility": null,
       "width": null
      }
     },
     "7e622677ec7c49808e3c2bbc24a8753b": {
      "model_module": "@jupyter-widgets/base",
      "model_module_version": "2.0.0",
      "model_name": "LayoutModel",
      "state": {
       "_model_module": "@jupyter-widgets/base",
       "_model_module_version": "2.0.0",
       "_model_name": "LayoutModel",
       "_view_count": null,
       "_view_module": "@jupyter-widgets/base",
       "_view_module_version": "2.0.0",
       "_view_name": "LayoutView",
       "align_content": null,
       "align_items": null,
       "align_self": null,
       "border_bottom": null,
       "border_left": null,
       "border_right": null,
       "border_top": null,
       "bottom": null,
       "display": null,
       "flex": null,
       "flex_flow": null,
       "grid_area": null,
       "grid_auto_columns": null,
       "grid_auto_flow": null,
       "grid_auto_rows": null,
       "grid_column": null,
       "grid_gap": null,
       "grid_row": null,
       "grid_template_areas": null,
       "grid_template_columns": null,
       "grid_template_rows": null,
       "height": null,
       "justify_content": null,
       "justify_items": null,
       "left": null,
       "margin": null,
       "max_height": null,
       "max_width": null,
       "min_height": null,
       "min_width": null,
       "object_fit": null,
       "object_position": null,
       "order": null,
       "overflow": null,
       "padding": null,
       "right": null,
       "top": null,
       "visibility": null,
       "width": null
      }
     },
     "a63f4222efb54715bc96e3941ba60608": {
      "model_module": "@jupyter-widgets/base",
      "model_module_version": "2.0.0",
      "model_name": "LayoutModel",
      "state": {
       "_model_module": "@jupyter-widgets/base",
       "_model_module_version": "2.0.0",
       "_model_name": "LayoutModel",
       "_view_count": null,
       "_view_module": "@jupyter-widgets/base",
       "_view_module_version": "2.0.0",
       "_view_name": "LayoutView",
       "align_content": null,
       "align_items": null,
       "align_self": null,
       "border_bottom": null,
       "border_left": null,
       "border_right": null,
       "border_top": null,
       "bottom": null,
       "display": null,
       "flex": null,
       "flex_flow": null,
       "grid_area": null,
       "grid_auto_columns": null,
       "grid_auto_flow": null,
       "grid_auto_rows": null,
       "grid_column": null,
       "grid_gap": null,
       "grid_row": null,
       "grid_template_areas": null,
       "grid_template_columns": null,
       "grid_template_rows": null,
       "height": null,
       "justify_content": null,
       "justify_items": null,
       "left": null,
       "margin": null,
       "max_height": null,
       "max_width": null,
       "min_height": null,
       "min_width": null,
       "object_fit": null,
       "object_position": null,
       "order": null,
       "overflow": null,
       "padding": null,
       "right": null,
       "top": null,
       "visibility": null,
       "width": null
      }
     },
     "b1818270507741f3b4fe2cc6c60856d2": {
      "model_module": "@jupyter-widgets/base",
      "model_module_version": "2.0.0",
      "model_name": "LayoutModel",
      "state": {
       "_model_module": "@jupyter-widgets/base",
       "_model_module_version": "2.0.0",
       "_model_name": "LayoutModel",
       "_view_count": null,
       "_view_module": "@jupyter-widgets/base",
       "_view_module_version": "2.0.0",
       "_view_name": "LayoutView",
       "align_content": null,
       "align_items": null,
       "align_self": null,
       "border_bottom": null,
       "border_left": null,
       "border_right": null,
       "border_top": null,
       "bottom": null,
       "display": null,
       "flex": null,
       "flex_flow": null,
       "grid_area": null,
       "grid_auto_columns": null,
       "grid_auto_flow": null,
       "grid_auto_rows": null,
       "grid_column": null,
       "grid_gap": null,
       "grid_row": null,
       "grid_template_areas": null,
       "grid_template_columns": null,
       "grid_template_rows": null,
       "height": null,
       "justify_content": null,
       "justify_items": null,
       "left": null,
       "margin": null,
       "max_height": null,
       "max_width": null,
       "min_height": null,
       "min_width": null,
       "object_fit": null,
       "object_position": null,
       "order": null,
       "overflow": null,
       "padding": null,
       "right": null,
       "top": null,
       "visibility": null,
       "width": null
      }
     },
     "d362d0aedf354afaa384d3a66fbe0ee9": {
      "model_module": "@jupyter-widgets/base",
      "model_module_version": "2.0.0",
      "model_name": "LayoutModel",
      "state": {
       "_model_module": "@jupyter-widgets/base",
       "_model_module_version": "2.0.0",
       "_model_name": "LayoutModel",
       "_view_count": null,
       "_view_module": "@jupyter-widgets/base",
       "_view_module_version": "2.0.0",
       "_view_name": "LayoutView",
       "align_content": null,
       "align_items": null,
       "align_self": null,
       "border_bottom": null,
       "border_left": null,
       "border_right": null,
       "border_top": null,
       "bottom": null,
       "display": null,
       "flex": null,
       "flex_flow": null,
       "grid_area": null,
       "grid_auto_columns": null,
       "grid_auto_flow": null,
       "grid_auto_rows": null,
       "grid_column": null,
       "grid_gap": null,
       "grid_row": null,
       "grid_template_areas": null,
       "grid_template_columns": null,
       "grid_template_rows": null,
       "height": null,
       "justify_content": null,
       "justify_items": null,
       "left": null,
       "margin": null,
       "max_height": null,
       "max_width": null,
       "min_height": null,
       "min_width": null,
       "object_fit": null,
       "object_position": null,
       "order": null,
       "overflow": null,
       "padding": null,
       "right": null,
       "top": null,
       "visibility": null,
       "width": null
      }
     },
     "e1cc201f46ac41ec8c7af8ff4708c770": {
      "model_module": "@jupyter-widgets/controls",
      "model_module_version": "2.0.0",
      "model_name": "HBoxModel",
      "state": {
       "_dom_classes": [],
       "_model_module": "@jupyter-widgets/controls",
       "_model_module_version": "2.0.0",
       "_model_name": "HBoxModel",
       "_view_count": null,
       "_view_module": "@jupyter-widgets/controls",
       "_view_module_version": "2.0.0",
       "_view_name": "HBoxView",
       "box_style": "",
       "children": [
        "IPY_MODEL_021d05fccf364ce889717767757266b2",
        "IPY_MODEL_fc6b9c40ba4842e4805e038223687ac3",
        "IPY_MODEL_5db6ca44fe8647299bea57f0a7d94c6e",
        "IPY_MODEL_04849e779d324614a4fd6627a2a15e63",
        "IPY_MODEL_689639afec8a41b7ae5efb11be2556f9"
       ],
       "layout": "IPY_MODEL_535c1c7df4c0460c9bba7cf29eb89d49",
       "tabbable": null,
       "tooltip": null
      }
     },
     "fc6b9c40ba4842e4805e038223687ac3": {
      "model_module": "@jupyter-widgets/output",
      "model_module_version": "1.0.0",
      "model_name": "OutputModel",
      "state": {
       "_dom_classes": [],
       "_model_module": "@jupyter-widgets/output",
       "_model_module_version": "1.0.0",
       "_model_name": "OutputModel",
       "_view_count": null,
       "_view_module": "@jupyter-widgets/output",
       "_view_module_version": "1.0.0",
       "_view_name": "OutputView",
       "layout": "IPY_MODEL_63dabd6e541c4eaca33fc45cd91c4e07",
       "msg_id": "",
       "outputs": [
        {
         "data": {
          "text/markdown": "`sub_small`",
          "text/plain": "<IPython.core.display.Markdown object>"
         },
         "metadata": {},
         "output_type": "display_data"
        },
        {
         "data": {
          "image/svg+xml": "<svg xmlns=\"http://www.w3.org/2000/svg\" xmlns:xlink=\"http://www.w3.org/1999/xlink\" width=\"230pt\" height=\"98pt\" viewBox=\"0.00 0.00 230.00 98.00\">\n<g id=\"graph0\" class=\"graph\" transform=\"scale(1 1) rotate(0) translate(4 94)\">\n<title>my_graph</title>\n<polygon fill=\"white\" stroke=\"transparent\" points=\"-4,4 -4,-94 226,-94 226,4 -4,4\"/>\n<!-- a_G5 -->\n<g id=\"node1\" class=\"node\">\n<title>a_G5</title>\n<text text-anchor=\"middle\" x=\"27\" y=\"-68.3\" font-family=\"Times,serif\" font-size=\"14.00\">a</text>\n</g>\n<!-- Subtract -->\n<g id=\"node3\" class=\"node\">\n<title>Subtract</title>\n<polygon fill=\"none\" stroke=\"black\" points=\"91,-66 91,-83 131,-83 131,-66 91,-66\"/>\n<text text-anchor=\"start\" x=\"94\" y=\"-72\" font-family=\"Times,serif\" font-size=\"10.00\">Subtract</text>\n<polygon fill=\"none\" stroke=\"black\" points=\"91,-45 91,-66 131,-66 131,-45 91,-45\"/>\n<text text-anchor=\"start\" x=\"107.5\" y=\"-51.8\" font-family=\"Times,serif\" font-size=\"14.00\">a</text>\n<polygon fill=\"none\" stroke=\"black\" points=\"91,-24 91,-45 131,-45 131,-24 91,-24\"/>\n<text text-anchor=\"start\" x=\"107.5\" y=\"-30.8\" font-family=\"Times,serif\" font-size=\"14.00\">b</text>\n</g>\n<!-- a_G5&#45;&gt;Subtract -->\n<g id=\"edge1\" class=\"edge\">\n<title>a_G5:e-&gt;Subtract:w</title>\n<path fill=\"none\" stroke=\"black\" d=\"M54,-72C71.22,-72 72.97,-57.23 88.98,-56.07\"/>\n<ellipse fill=\"black\" stroke=\"black\" cx=\"90\" cy=\"-56.04\" rx=\"1\" ry=\"1\"/>\n<text text-anchor=\"middle\" x=\"72.5\" y=\"-67\" font-family=\"Times,serif\" font-size=\"10.00\">4</text>\n</g>\n<!-- b_G2 -->\n<g id=\"node2\" class=\"node\">\n<title>b_G2</title>\n<text text-anchor=\"middle\" x=\"27\" y=\"-14.3\" font-family=\"Times,serif\" font-size=\"14.00\">b</text>\n</g>\n<!-- b_G2&#45;&gt;Subtract -->\n<g id=\"edge2\" class=\"edge\">\n<title>b_G2:e-&gt;Subtract:w</title>\n<path fill=\"none\" stroke=\"black\" d=\"M54,-18C71.22,-18 72.97,-32.77 88.98,-33.93\"/>\n<ellipse fill=\"black\" stroke=\"black\" cx=\"90\" cy=\"-33.96\" rx=\"1\" ry=\"1\"/>\n<text text-anchor=\"middle\" x=\"72.5\" y=\"-29\" font-family=\"Times,serif\" font-size=\"10.00\">4</text>\n</g>\n<!-- a_G0 -->\n<g id=\"node4\" class=\"node\">\n<title>a_G0</title>\n<text text-anchor=\"middle\" x=\"195\" y=\"-68.3\" font-family=\"Times,serif\" font-size=\"14.00\">a</text>\n</g>\n<!-- Subtract&#45;&gt;a_G0 -->\n<g id=\"edge3\" class=\"edge\">\n<title>Subtract:e-&gt;a_G0:w</title>\n<path fill=\"none\" stroke=\"black\" d=\"M131,-56C148.22,-56 149.97,-70.77 165.98,-71.93\"/>\n<ellipse fill=\"black\" stroke=\"black\" cx=\"167\" cy=\"-71.96\" rx=\"1\" ry=\"1\"/>\n<text text-anchor=\"middle\" x=\"149.5\" y=\"-67\" font-family=\"Times,serif\" font-size=\"10.00\">4</text>\n</g>\n<!-- b_G3 -->\n<g id=\"node5\" class=\"node\">\n<title>b_G3</title>\n<text text-anchor=\"middle\" x=\"195\" y=\"-14.3\" font-family=\"Times,serif\" font-size=\"14.00\">b</text>\n</g>\n<!-- Subtract&#45;&gt;b_G3 -->\n<g id=\"edge4\" class=\"edge\">\n<title>Subtract:e-&gt;b_G3:w</title>\n<path fill=\"none\" stroke=\"black\" d=\"M131,-34C148.22,-34 149.97,-19.23 165.98,-18.07\"/>\n<ellipse fill=\"black\" stroke=\"black\" cx=\"167\" cy=\"-18.04\" rx=\"1\" ry=\"1\"/>\n<text text-anchor=\"middle\" x=\"149.5\" y=\"-29\" font-family=\"Times,serif\" font-size=\"10.00\">4</text>\n</g>\n</g>\n</svg>",
          "text/plain": "<IPython.core.display.SVG object>"
         },
         "metadata": {},
         "output_type": "display_data"
        }
       ],
       "tabbable": null,
       "tooltip": null
      }
     }
    },
    "version_major": 2,
    "version_minor": 0
   }
  }
 },
 "nbformat": 4,
 "nbformat_minor": 5
}
