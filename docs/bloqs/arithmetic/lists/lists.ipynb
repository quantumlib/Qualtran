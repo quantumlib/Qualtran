{
 "cells": [
  {
   "cell_type": "markdown",
   "id": "46306919",
   "metadata": {
    "cq.autogen": "title_cell"
   },
   "source": [
    "# List Functions"
   ]
  },
  {
   "cell_type": "code",
   "execution_count": 1,
   "id": "47761dec",
   "metadata": {
    "cq.autogen": "top_imports"
   },
   "outputs": [],
   "source": [
    "from qualtran import Bloq, CompositeBloq, BloqBuilder, Signature, Register\n",
    "from qualtran import QBit, QInt, QUInt, QAny\n",
    "from qualtran.drawing import show_bloq, show_call_graph, show_counts_sigma\n",
    "from typing import *\n",
    "import numpy as np\n",
    "import sympy\n",
    "import cirq"
   ]
  },
  {
   "cell_type": "markdown",
   "id": "19f11879",
   "metadata": {
    "cq.autogen": "SortInPlace.bloq_doc.md"
   },
   "source": [
    "## `SortInPlace`\n",
    "Sort a list of $\\ell$ numbers in place using $\\ell \\log \\ell$ ancilla bits.\n",
    "\n",
    "Applies the map:\n",
    "$$\n",
    "    |x_1, x_2, \\ldots, x_l\\rangle\n",
    "    |0^{\\ell \\log \\ell}\\rangle\n",
    "    \\mapsto\n",
    "    |x_{\\pi_1}, x_{\\pi_2}, \\ldots, x_{\\pi_\\ell})\\rangle\n",
    "    |\\pi_1, \\pi_2, \\ldots, \\pi_\\ell\\rangle\n",
    "$$\n",
    "where $x_{\\pi_1} \\le x_{\\pi_2} \\ldots \\le x_{\\pi_\\ell}$ is the sorted list,\n",
    "and the ancilla are entangled.\n",
    "\n",
    "To apply this, we first use any sorting algorithm to output the sorted list\n",
    "in a clean register. And then use the following algorithm from Lemma 4.12 of Ref [1]\n",
    "that applies the map:\n",
    "\n",
    "$$\n",
    "    |x_1, ..., x_l\\rangle|x_{\\pi(1)}, ..., x_{\\pi(l)})\\rangle\n",
    "    \\mapsto\n",
    "    |x_l, ..., x_l\\rangle|\\pi(1), ..., \\pi(l))\\rangle\n",
    "$$\n",
    "\n",
    "where $x_i \\in [n]$ and $\\pi(i) \\in [l]$.\n",
    "This second algorithm (Lemma 4.12) has two steps, each with $l^2$ comparisons:\n",
    "1. compute `pi(1) ... pi(l)` given `x_1 ... x_l` and `x_{pi(1)} ... x{pi(l)}`.\n",
    "1. (un)compute `x_{pi(1)} ... x{pi(l)}` using `pi(1) ... pi(l)` given `x_1 ... x_l`.\n",
    "\n",
    "#### Parameters\n",
    " - `l`: number of elements in the list\n",
    " - `dtype`: type of each element to store `[n]`. \n",
    "\n",
    "#### Registers\n",
    " - `input`: the entire input as a single register\n",
    " - `ancilla`: the generated (entangled) register storing `pi`. \n",
    "\n",
    "#### References\n",
    " - [Quartic quantum speedups for planted inference](https://arxiv.org/abs/2406.19378v1). Lemma 4.12. Eq. 122.\n"
   ]
  },
  {
   "cell_type": "code",
   "execution_count": 2,
   "id": "ce69b6e8",
   "metadata": {
    "cq.autogen": "SortInPlace.bloq_doc.py"
   },
   "outputs": [],
   "source": [
    "from qualtran.bloqs.arithmetic.lists import SortInPlace"
   ]
  },
  {
   "cell_type": "markdown",
   "id": "e84df89b",
   "metadata": {
    "cq.autogen": "SymmetricDifference.bloq_doc.md"
   },
   "source": [
    "## `SymmetricDifference`\n",
    "Given two sorted sets $S, T$ of unique elements, compute their symmetric difference.\n",
    "\n",
    "This accepts an integer `n_diff`, and marks a flag qubit if the symmetric difference\n",
    "set is of size exactly `n_diff`. If the flag is marked (1), then the output of `n_diff`\n",
    "numbers is the symmetric difference, otherwise it may be arbitrary.\n",
    "\n",
    "#### Parameters\n",
    " - `n_lhs`: number of elements in $S$\n",
    " - `n_rhs`: number of elements in $T$\n",
    " - `n_diff`: expected number of elements in the difference $S \\Delta T$.\n",
    " - `dtype`: type of each element. \n",
    "\n",
    "#### Registers\n",
    " - `S`: list of `n_lhs` numbers.\n",
    " - `T`: list of `n_rhs` numbers.\n",
    " - `diff`: output register of `n_diff` numbers.\n",
    " - `flag`: 1 if there are duplicates, 0 if all are unique. \n",
    "\n",
    "#### References\n",
    " - [Quartic quantum speedups for planted inference](https://arxiv.org/abs/2406.19378v1). Theorem 4.17, proof para 3, page 38.\n"
   ]
  },
  {
   "cell_type": "code",
   "execution_count": 3,
   "id": "d3a9d9ea",
   "metadata": {
    "cq.autogen": "SymmetricDifference.bloq_doc.py"
   },
   "outputs": [],
   "source": [
    "from qualtran.bloqs.arithmetic.lists import SymmetricDifference"
   ]
  },
  {
   "cell_type": "markdown",
   "id": "f58e0eba",
   "metadata": {
    "cq.autogen": "SymmetricDifference.example_instances.md"
   },
   "source": [
    "### Example Instances"
   ]
  },
  {
   "cell_type": "code",
   "execution_count": 4,
   "id": "29fc34f0",
   "metadata": {
    "cq.autogen": "SymmetricDifference.symm_diff"
   },
   "outputs": [],
   "source": [
    "dtype = QUInt(4)\n",
    "symm_diff = SymmetricDifference(n_lhs=4, n_rhs=2, n_diff=4, dtype=dtype)"
   ]
  },
  {
   "cell_type": "markdown",
   "id": "70608811",
   "metadata": {
    "cq.autogen": "SymmetricDifference.graphical_signature.md"
   },
   "source": [
    "#### Graphical Signature"
   ]
  },
  {
   "cell_type": "code",
   "execution_count": 5,
   "id": "9df9334c",
   "metadata": {
    "cq.autogen": "SymmetricDifference.graphical_signature.py"
   },
   "outputs": [
    {
     "data": {
      "application/vnd.jupyter.widget-view+json": {
       "model_id": "1f731c1502294b56b206b3c03e95ab95",
       "version_major": 2,
       "version_minor": 0
      },
      "text/plain": [
       "HBox(children=(Output(outputs=({'output_type': 'display_data', 'data': {'text/plain': '<IPython.core.display.M…"
      ]
     },
     "metadata": {},
     "output_type": "display_data"
    }
   ],
   "source": [
    "from qualtran.drawing import show_bloqs\n",
    "show_bloqs([symm_diff],\n",
    "           ['`symm_diff`'])"
   ]
  },
  {
   "cell_type": "markdown",
   "id": "476c580a",
   "metadata": {
    "cq.autogen": "SymmetricDifference.call_graph.md"
   },
   "source": [
    "### Call Graph"
   ]
  },
  {
   "cell_type": "code",
   "execution_count": 6,
   "id": "a6e6f812",
   "metadata": {
    "cq.autogen": "SymmetricDifference.call_graph.py"
   },
   "outputs": [
    {
     "data": {
      "image/svg+xml": [
       "<svg xmlns=\"http://www.w3.org/2000/svg\" xmlns:xlink=\"http://www.w3.org/1999/xlink\" width=\"1062pt\" height=\"131pt\" viewBox=\"0.00 0.00 1062.00 131.00\">\n",
       "<g id=\"graph0\" class=\"graph\" transform=\"scale(1 1) rotate(0) translate(4 127)\">\n",
       "<title>counts</title>\n",
       "<polygon fill=\"white\" stroke=\"transparent\" points=\"-4,4 -4,-127 1058,-127 1058,4 -4,4\"/>\n",
       "<!-- b0 -->\n",
       "<g id=\"node1\" class=\"node\">\n",
       "<title>b0</title>\n",
       "<polygon fill=\"none\" stroke=\"black\" points=\"376,-93 376,-116 476,-116 476,-93 376,-93\"/>\n",
       "<text text-anchor=\"start\" x=\"382.5\" y=\"-102\" font-family=\"Times,serif\" font-size=\"10.00\">SymmetricDifference</text>\n",
       "</g>\n",
       "<!-- b1 -->\n",
       "<g id=\"node2\" class=\"node\">\n",
       "<title>b1</title>\n",
       "<polygon fill=\"none\" stroke=\"black\" points=\"13,-6 13,-29 41,-29 41,-6 13,-6\"/>\n",
       "<text text-anchor=\"start\" x=\"19\" y=\"-15\" font-family=\"Times,serif\" font-size=\"10.00\">Xor</text>\n",
       "</g>\n",
       "<!-- b0&#45;&gt;b1 -->\n",
       "<g id=\"edge1\" class=\"edge\">\n",
       "<title>b0-&gt;b1</title>\n",
       "<path fill=\"none\" stroke=\"black\" d=\"M367.88,-99.01C296.95,-91.64 173.86,-74.67 63.88,-35.97\"/>\n",
       "<polygon fill=\"black\" stroke=\"black\" points=\"64.89,-32.61 54.29,-32.53 62.52,-39.2 64.89,-32.61\"/>\n",
       "<text text-anchor=\"middle\" x=\"173.5\" y=\"-57.8\" font-family=\"Times,serif\" font-size=\"14.00\">4</text>\n",
       "</g>\n",
       "<!-- b2 -->\n",
       "<g id=\"node3\" class=\"node\">\n",
       "<title>b2</title>\n",
       "<polygon fill=\"none\" stroke=\"black\" points=\"80,-6 80,-29 120,-29 120,-6 80,-6\"/>\n",
       "<text text-anchor=\"start\" x=\"86\" y=\"-15\" font-family=\"Times,serif\" font-size=\"10.00\">CNOT</text>\n",
       "</g>\n",
       "<!-- b0&#45;&gt;b2 -->\n",
       "<g id=\"edge2\" class=\"edge\">\n",
       "<title>b0-&gt;b2</title>\n",
       "<path fill=\"none\" stroke=\"black\" d=\"M367.74,-93.84C310.81,-83.12 221.83,-64.26 137.51,-35.83\"/>\n",
       "<polygon fill=\"black\" stroke=\"black\" points=\"138.64,-32.51 128.04,-32.59 136.37,-39.14 138.64,-32.51\"/>\n",
       "<text text-anchor=\"middle\" x=\"250.5\" y=\"-57.8\" font-family=\"Times,serif\" font-size=\"14.00\">1</text>\n",
       "</g>\n",
       "<!-- b3 -->\n",
       "<g id=\"node4\" class=\"node\">\n",
       "<title>b3</title>\n",
       "<polygon fill=\"none\" stroke=\"black\" points=\"154,-6 154,-29 224,-29 224,-6 154,-6\"/>\n",
       "<text text-anchor=\"start\" x=\"160\" y=\"-15\" font-family=\"Times,serif\" font-size=\"10.00\">BitonicMerge</text>\n",
       "</g>\n",
       "<!-- b0&#45;&gt;b3 -->\n",
       "<g id=\"edge3\" class=\"edge\">\n",
       "<title>b0-&gt;b3</title>\n",
       "<path fill=\"none\" stroke=\"black\" d=\"M378.32,-86.9C338.78,-72.72 282.62,-52.58 241.73,-37.91\"/>\n",
       "<polygon fill=\"black\" stroke=\"black\" points=\"242.81,-34.58 232.21,-34.5 240.44,-41.17 242.81,-34.58\"/>\n",
       "<text text-anchor=\"middle\" x=\"325.5\" y=\"-57.8\" font-family=\"Times,serif\" font-size=\"14.00\">1</text>\n",
       "</g>\n",
       "<!-- b4 -->\n",
       "<g id=\"node5\" class=\"node\">\n",
       "<title>b4</title>\n",
       "<polygon fill=\"none\" stroke=\"black\" points=\"258,-6 258,-29 334,-29 334,-6 258,-6\"/>\n",
       "<text text-anchor=\"start\" x=\"264.5\" y=\"-15\" font-family=\"Times,serif\" font-size=\"10.00\">BitonicMerge†</text>\n",
       "</g>\n",
       "<!-- b0&#45;&gt;b4 -->\n",
       "<g id=\"edge4\" class=\"edge\">\n",
       "<title>b0-&gt;b4</title>\n",
       "<path fill=\"none\" stroke=\"black\" d=\"M399.69,-86.8C379.87,-73.84 352.5,-55.94 330.85,-41.79\"/>\n",
       "<polygon fill=\"black\" stroke=\"black\" points=\"332.55,-38.72 322.27,-36.18 328.72,-44.58 332.55,-38.72\"/>\n",
       "<text text-anchor=\"middle\" x=\"372.5\" y=\"-57.8\" font-family=\"Times,serif\" font-size=\"14.00\">1</text>\n",
       "</g>\n",
       "<!-- b5 -->\n",
       "<g id=\"node6\" class=\"node\">\n",
       "<title>b5</title>\n",
       "<polygon fill=\"none\" stroke=\"black\" points=\"368,-6 368,-29 408,-29 408,-6 368,-6\"/>\n",
       "<text text-anchor=\"start\" x=\"374\" y=\"-15\" font-family=\"Times,serif\" font-size=\"10.00\">Equals</text>\n",
       "</g>\n",
       "<!-- b0&#45;&gt;b5 -->\n",
       "<g id=\"edge5\" class=\"edge\">\n",
       "<title>b0-&gt;b5</title>\n",
       "<path fill=\"none\" stroke=\"black\" d=\"M418.31,-86.8C413,-74.93 405.85,-58.93 399.82,-45.45\"/>\n",
       "<polygon fill=\"black\" stroke=\"black\" points=\"402.96,-43.88 395.68,-36.18 396.56,-46.73 402.96,-43.88\"/>\n",
       "<text text-anchor=\"middle\" x=\"413.5\" y=\"-57.8\" font-family=\"Times,serif\" font-size=\"14.00\">5</text>\n",
       "</g>\n",
       "<!-- b6 -->\n",
       "<g id=\"node7\" class=\"node\">\n",
       "<title>b6</title>\n",
       "<polygon fill=\"none\" stroke=\"black\" points=\"442,-6 442,-29 488,-29 488,-6 442,-6\"/>\n",
       "<text text-anchor=\"start\" x=\"448\" y=\"-15\" font-family=\"Times,serif\" font-size=\"10.00\">Equals†</text>\n",
       "</g>\n",
       "<!-- b0&#45;&gt;b6 -->\n",
       "<g id=\"edge6\" class=\"edge\">\n",
       "<title>b0-&gt;b6</title>\n",
       "<path fill=\"none\" stroke=\"black\" d=\"M433.89,-86.8C439.34,-74.93 446.68,-58.93 452.86,-45.45\"/>\n",
       "<polygon fill=\"black\" stroke=\"black\" points=\"456.13,-46.72 457.12,-36.18 449.77,-43.8 456.13,-46.72\"/>\n",
       "<text text-anchor=\"middle\" x=\"451.5\" y=\"-57.8\" font-family=\"Times,serif\" font-size=\"14.00\">5</text>\n",
       "</g>\n",
       "<!-- b7 -->\n",
       "<g id=\"node8\" class=\"node\">\n",
       "<title>b7</title>\n",
       "<polygon fill=\"none\" stroke=\"black\" points=\"522,-6 522,-29 642,-29 642,-6 522,-6\"/>\n",
       "<text text-anchor=\"start\" x=\"528\" y=\"-15\" font-family=\"Times,serif\" font-size=\"10.00\">HammingWeightCompute</text>\n",
       "</g>\n",
       "<!-- b0&#45;&gt;b7 -->\n",
       "<g id=\"edge7\" class=\"edge\">\n",
       "<title>b0-&gt;b7</title>\n",
       "<path fill=\"none\" stroke=\"black\" d=\"M457.57,-86.8C481.86,-73.56 515.6,-55.18 541.81,-40.9\"/>\n",
       "<polygon fill=\"black\" stroke=\"black\" points=\"543.64,-43.89 550.74,-36.03 540.29,-37.74 543.64,-43.89\"/>\n",
       "<text text-anchor=\"middle\" x=\"517.5\" y=\"-57.8\" font-family=\"Times,serif\" font-size=\"14.00\">1</text>\n",
       "</g>\n",
       "<!-- b8 -->\n",
       "<g id=\"node9\" class=\"node\">\n",
       "<title>b8</title>\n",
       "<polygon fill=\"none\" stroke=\"black\" points=\"676,-6 676,-29 802,-29 802,-6 676,-6\"/>\n",
       "<text text-anchor=\"start\" x=\"682.5\" y=\"-15\" font-family=\"Times,serif\" font-size=\"10.00\">HammingWeightCompute†</text>\n",
       "</g>\n",
       "<!-- b0&#45;&gt;b8 -->\n",
       "<g id=\"edge8\" class=\"edge\">\n",
       "<title>b0-&gt;b8</title>\n",
       "<path fill=\"none\" stroke=\"black\" d=\"M484.14,-88.21C535.67,-74.22 611.14,-53.72 666.58,-38.67\"/>\n",
       "<polygon fill=\"black\" stroke=\"black\" points=\"667.61,-42.01 676.34,-36.02 665.77,-35.26 667.61,-42.01\"/>\n",
       "<text text-anchor=\"middle\" x=\"605.5\" y=\"-57.8\" font-family=\"Times,serif\" font-size=\"14.00\">1</text>\n",
       "</g>\n",
       "<!-- b9 -->\n",
       "<g id=\"node10\" class=\"node\">\n",
       "<title>b9</title>\n",
       "<polygon fill=\"none\" stroke=\"black\" points=\"836,-6 836,-29 922,-29 922,-6 836,-6\"/>\n",
       "<text text-anchor=\"start\" x=\"842.5\" y=\"-15\" font-family=\"Times,serif\" font-size=\"10.00\">EqualsAConstant</text>\n",
       "</g>\n",
       "<!-- b0&#45;&gt;b9 -->\n",
       "<g id=\"edge9\" class=\"edge\">\n",
       "<title>b0-&gt;b9</title>\n",
       "<path fill=\"none\" stroke=\"black\" d=\"M484.31,-95.86C559.35,-84.96 693.85,-63.95 817.67,-36.19\"/>\n",
       "<polygon fill=\"black\" stroke=\"black\" points=\"818.72,-39.54 827.7,-33.92 817.18,-32.71 818.72,-39.54\"/>\n",
       "<text text-anchor=\"middle\" x=\"726.5\" y=\"-57.8\" font-family=\"Times,serif\" font-size=\"14.00\">1</text>\n",
       "</g>\n",
       "<!-- b10 -->\n",
       "<g id=\"node11\" class=\"node\">\n",
       "<title>b10</title>\n",
       "<polygon fill=\"none\" stroke=\"black\" points=\"956,-6 956,-29 1046,-29 1046,-6 956,-6\"/>\n",
       "<text text-anchor=\"start\" x=\"962\" y=\"-15\" font-family=\"Times,serif\" font-size=\"10.00\">EqualsAConstant†</text>\n",
       "</g>\n",
       "<!-- b0&#45;&gt;b10 -->\n",
       "<g id=\"edge10\" class=\"edge\">\n",
       "<title>b0-&gt;b10</title>\n",
       "<path fill=\"none\" stroke=\"black\" d=\"M484.23,-99.41C578.12,-91.32 768.7,-72.08 938.15,-36.06\"/>\n",
       "<polygon fill=\"black\" stroke=\"black\" points=\"938.95,-39.46 947.99,-33.94 937.48,-32.62 938.95,-39.46\"/>\n",
       "<text text-anchor=\"middle\" x=\"844.5\" y=\"-57.8\" font-family=\"Times,serif\" font-size=\"14.00\">1</text>\n",
       "</g>\n",
       "</g>\n",
       "</svg>"
      ],
      "text/plain": [
       "<IPython.core.display.SVG object>"
      ]
     },
     "metadata": {},
     "output_type": "display_data"
    },
    {
     "data": {
      "text/markdown": [
       "#### Counts totals:\n",
       " - `BitonicMerge`: 1\n",
       " - `BitonicMerge†`: 1\n",
       " - `CNOT`: 1\n",
       " - `EqualsAConstant`: 1\n",
       " - `EqualsAConstant†`: 1\n",
       " - `Equals`: 5\n",
       " - `Equals†`: 5\n",
       " - `HammingWeightCompute`: 1\n",
       " - `HammingWeightCompute†`: 1\n",
       " - `Xor`: 4"
      ],
      "text/plain": [
       "<IPython.core.display.Markdown object>"
      ]
     },
     "metadata": {},
     "output_type": "display_data"
    }
   ],
   "source": [
    "from qualtran.resource_counting.generalizers import ignore_split_join\n",
    "symm_diff_g, symm_diff_sigma = symm_diff.call_graph(max_depth=1, generalizer=ignore_split_join)\n",
    "show_call_graph(symm_diff_g)\n",
    "show_counts_sigma(symm_diff_sigma)"
   ]
  },
  {
   "cell_type": "markdown",
   "id": "15e88a40",
   "metadata": {
    "cq.autogen": "HasDuplicates.bloq_doc.md"
   },
   "source": [
    "## `HasDuplicates`\n",
    "Given a sorted list of `l` numbers, check if it contains any duplicates.\n",
    "\n",
    "Produces a single qubit which is `1` if there are duplicates, and `0` if all are disjoint.\n",
    "It compares every adjacent pair, and therefore uses `l - 1` comparisons.\n",
    "It then uses a single MCX on `l - 1` bits gate to compute the flag.\n",
    "\n",
    "#### Parameters\n",
    " - `l`: number of elements in the list\n",
    " - `dtype`: type of each element to store `[n]`. \n",
    "\n",
    "#### Registers\n",
    " - `xs`: a list of `l` registers of `dtype`.\n",
    " - `flag`: single qubit. Value is flipped if the input list has duplicates, otherwise stays same. \n",
    "\n",
    "#### References\n",
    " - [Quartic quantum speedups for planted inference](https://arxiv.org/abs/2406.19378v1). Lemma 4.12. Eq. 122.\n"
   ]
  },
  {
   "cell_type": "code",
   "execution_count": 7,
   "id": "101f6899",
   "metadata": {
    "cq.autogen": "HasDuplicates.bloq_doc.py"
   },
   "outputs": [],
   "source": [
    "from qualtran.bloqs.arithmetic.lists import HasDuplicates"
   ]
  },
  {
   "cell_type": "markdown",
   "id": "6ceded7e",
   "metadata": {
    "cq.autogen": "HasDuplicates.example_instances.md"
   },
   "source": [
    "### Example Instances"
   ]
  },
  {
   "cell_type": "code",
   "execution_count": 8,
   "id": "d5f5efa7",
   "metadata": {
    "cq.autogen": "HasDuplicates.has_duplicates_symb"
   },
   "outputs": [],
   "source": [
    "import sympy\n",
    "\n",
    "n = sympy.Symbol(\"n\")\n",
    "has_duplicates_symb = HasDuplicates(4, QUInt(n))"
   ]
  },
  {
   "cell_type": "code",
   "execution_count": 9,
   "id": "a5412e0d",
   "metadata": {
    "cq.autogen": "HasDuplicates.has_duplicates"
   },
   "outputs": [],
   "source": [
    "has_duplicates = HasDuplicates(4, QUInt(3))"
   ]
  },
  {
   "cell_type": "markdown",
   "id": "7c1c62b4",
   "metadata": {
    "cq.autogen": "HasDuplicates.graphical_signature.md"
   },
   "source": [
    "#### Graphical Signature"
   ]
  },
  {
   "cell_type": "code",
   "execution_count": 10,
   "id": "1198bb5d",
   "metadata": {
    "cq.autogen": "HasDuplicates.graphical_signature.py"
   },
   "outputs": [
    {
     "data": {
      "application/vnd.jupyter.widget-view+json": {
       "model_id": "af5c9706baa249cf8511860d6cb88d7c",
       "version_major": 2,
       "version_minor": 0
      },
      "text/plain": [
       "HBox(children=(Output(outputs=({'output_type': 'display_data', 'data': {'text/plain': '<IPython.core.display.M…"
      ]
     },
     "metadata": {},
     "output_type": "display_data"
    }
   ],
   "source": [
    "from qualtran.drawing import show_bloqs\n",
    "show_bloqs([has_duplicates_symb, has_duplicates],\n",
    "           ['`has_duplicates_symb`', '`has_duplicates`'])"
   ]
  },
  {
   "cell_type": "markdown",
   "id": "f6b8cde0",
   "metadata": {
    "cq.autogen": "HasDuplicates.call_graph.md"
   },
   "source": [
    "### Call Graph"
   ]
  },
  {
   "cell_type": "code",
   "execution_count": 11,
   "id": "75afba07",
   "metadata": {
    "cq.autogen": "HasDuplicates.call_graph.py"
   },
   "outputs": [
    {
     "data": {
      "image/svg+xml": [
       "<svg xmlns=\"http://www.w3.org/2000/svg\" xmlns:xlink=\"http://www.w3.org/1999/xlink\" width=\"446pt\" height=\"131pt\" viewBox=\"0.00 0.00 446.00 131.00\">\n",
       "<g id=\"graph0\" class=\"graph\" transform=\"scale(1 1) rotate(0) translate(4 127)\">\n",
       "<title>counts</title>\n",
       "<polygon fill=\"white\" stroke=\"transparent\" points=\"-4,4 -4,-127 442,-127 442,4 -4,4\"/>\n",
       "<!-- b0 -->\n",
       "<g id=\"node1\" class=\"node\">\n",
       "<title>b0</title>\n",
       "<polygon fill=\"none\" stroke=\"black\" points=\"245,-93 245,-116 319,-116 319,-93 245,-93\"/>\n",
       "<text text-anchor=\"start\" x=\"251.5\" y=\"-102\" font-family=\"Times,serif\" font-size=\"10.00\">HasDuplicates</text>\n",
       "</g>\n",
       "<!-- b1 -->\n",
       "<g id=\"node2\" class=\"node\">\n",
       "<title>b1</title>\n",
       "<polygon fill=\"none\" stroke=\"black\" points=\"8,-6 8,-29 130,-29 130,-6 8,-6\"/>\n",
       "<text text-anchor=\"start\" x=\"14.5\" y=\"-15\" font-family=\"Times,serif\" font-size=\"10.00\">LinearDepthHalfLessThan</text>\n",
       "</g>\n",
       "<!-- b0&#45;&gt;b1 -->\n",
       "<g id=\"edge1\" class=\"edge\">\n",
       "<title>b0-&gt;b1</title>\n",
       "<path fill=\"none\" stroke=\"black\" d=\"M239.15,-86.9C205.14,-73.33 157.44,-54.29 121.2,-39.83\"/>\n",
       "<polygon fill=\"black\" stroke=\"black\" points=\"122.36,-36.53 111.78,-36.07 119.77,-43.03 122.36,-36.53\"/>\n",
       "<text text-anchor=\"middle\" x=\"192.5\" y=\"-57.8\" font-family=\"Times,serif\" font-size=\"14.00\">3</text>\n",
       "</g>\n",
       "<!-- b2 -->\n",
       "<g id=\"node3\" class=\"node\">\n",
       "<title>b2</title>\n",
       "<polygon fill=\"none\" stroke=\"black\" points=\"164,-6 164,-29 286,-29 286,-6 164,-6\"/>\n",
       "<text text-anchor=\"start\" x=\"170.5\" y=\"-15\" font-family=\"Times,serif\" font-size=\"10.00\">LinearDepthHalfLessThan</text>\n",
       "</g>\n",
       "<!-- b0&#45;&gt;b2 -->\n",
       "<g id=\"edge2\" class=\"edge\">\n",
       "<title>b0-&gt;b2</title>\n",
       "<path fill=\"none\" stroke=\"black\" d=\"M270.47,-86.8C262.35,-74.7 251.36,-58.3 242.21,-44.67\"/>\n",
       "<polygon fill=\"black\" stroke=\"black\" points=\"244.99,-42.53 236.52,-36.18 239.18,-46.43 244.99,-42.53\"/>\n",
       "<text text-anchor=\"middle\" x=\"260.5\" y=\"-57.8\" font-family=\"Times,serif\" font-size=\"14.00\">3</text>\n",
       "</g>\n",
       "<!-- b3 -->\n",
       "<g id=\"node4\" class=\"node\">\n",
       "<title>b3</title>\n",
       "<polygon fill=\"none\" stroke=\"black\" points=\"320,-6 320,-29 358,-29 358,-6 320,-6\"/>\n",
       "<text text-anchor=\"start\" x=\"326.5\" y=\"-15\" font-family=\"Times,serif\" font-size=\"10.00\">C^3X</text>\n",
       "</g>\n",
       "<!-- b0&#45;&gt;b3 -->\n",
       "<g id=\"edge3\" class=\"edge\">\n",
       "<title>b0-&gt;b3</title>\n",
       "<path fill=\"none\" stroke=\"black\" d=\"M293.53,-86.8C301.65,-74.7 312.64,-58.3 321.79,-44.67\"/>\n",
       "<polygon fill=\"black\" stroke=\"black\" points=\"324.82,-46.43 327.48,-36.18 319.01,-42.53 324.82,-46.43\"/>\n",
       "<text text-anchor=\"middle\" x=\"317.5\" y=\"-57.8\" font-family=\"Times,serif\" font-size=\"14.00\">1</text>\n",
       "</g>\n",
       "<!-- b4 -->\n",
       "<g id=\"node5\" class=\"node\">\n",
       "<title>b4</title>\n",
       "<polygon fill=\"none\" stroke=\"black\" points=\"401,-6 401,-29 421,-29 421,-6 401,-6\"/>\n",
       "<text text-anchor=\"start\" x=\"407\" y=\"-15\" font-family=\"Times,serif\" font-size=\"10.00\">X</text>\n",
       "</g>\n",
       "<!-- b0&#45;&gt;b4 -->\n",
       "<g id=\"edge4\" class=\"edge\">\n",
       "<title>b0-&gt;b4</title>\n",
       "<path fill=\"none\" stroke=\"black\" d=\"M308.11,-86.8C327.78,-73.84 354.94,-55.94 376.41,-41.79\"/>\n",
       "<polygon fill=\"black\" stroke=\"black\" points=\"378.51,-44.6 384.93,-36.18 374.66,-38.75 378.51,-44.6\"/>\n",
       "<text text-anchor=\"middle\" x=\"357.5\" y=\"-57.8\" font-family=\"Times,serif\" font-size=\"14.00\">1</text>\n",
       "</g>\n",
       "</g>\n",
       "</svg>"
      ],
      "text/plain": [
       "<IPython.core.display.SVG object>"
      ]
     },
     "metadata": {},
     "output_type": "display_data"
    },
    {
     "data": {
      "text/markdown": [
       "#### Counts totals:\n",
       " - `C^3X`: 1\n",
       " - `LinearDepthHalfLessThan`: 3\n",
       " - `LinearDepthHalfLessThan`: 3\n",
       " - `X`: 1"
      ],
      "text/plain": [
       "<IPython.core.display.Markdown object>"
      ]
     },
     "metadata": {},
     "output_type": "display_data"
    }
   ],
   "source": [
    "from qualtran.resource_counting.generalizers import ignore_split_join\n",
    "has_duplicates_symb_g, has_duplicates_symb_sigma = has_duplicates_symb.call_graph(max_depth=1, generalizer=ignore_split_join)\n",
    "show_call_graph(has_duplicates_symb_g)\n",
    "show_counts_sigma(has_duplicates_symb_sigma)"
   ]
  }
 ],
 "metadata": {
  "kernelspec": {
   "display_name": "Python 3",
   "language": "python",
   "name": "python3"
  },
  "language_info": {
   "codemirror_mode": {
    "name": "ipython",
    "version": 3
   },
   "file_extension": ".py",
   "mimetype": "text/x-python",
   "name": "python",
   "nbconvert_exporter": "python",
   "pygments_lexer": "ipython3",
   "version": "3.11.8"
  },
  "widgets": {
   "application/vnd.jupyter.widget-state+json": {
    "state": {
     "1f731c1502294b56b206b3c03e95ab95": {
      "model_module": "@jupyter-widgets/controls",
      "model_module_version": "2.0.0",
      "model_name": "HBoxModel",
      "state": {
       "_dom_classes": [],
       "_model_module": "@jupyter-widgets/controls",
       "_model_module_version": "2.0.0",
       "_model_name": "HBoxModel",
       "_view_count": null,
       "_view_module": "@jupyter-widgets/controls",
       "_view_module_version": "2.0.0",
       "_view_name": "HBoxView",
       "box_style": "",
       "children": [
        "IPY_MODEL_a81480b06508463c80a5869a4d8c5eb5"
       ],
       "layout": "IPY_MODEL_3d3e17ffdbd244098507e6aa8fe4db6c",
       "tabbable": null,
       "tooltip": null
      }
     },
     "30c47e01daf24632824d5759a59766d5": {
      "model_module": "@jupyter-widgets/output",
      "model_module_version": "1.0.0",
      "model_name": "OutputModel",
      "state": {
       "_dom_classes": [],
       "_model_module": "@jupyter-widgets/output",
       "_model_module_version": "1.0.0",
       "_model_name": "OutputModel",
       "_view_count": null,
       "_view_module": "@jupyter-widgets/output",
       "_view_module_version": "1.0.0",
       "_view_name": "OutputView",
       "layout": "IPY_MODEL_643da0a3dddb44dd8f6546f3b8de02c2",
       "msg_id": "",
       "outputs": [
        {
         "data": {
          "text/markdown": "`has_duplicates`",
          "text/plain": "<IPython.core.display.Markdown object>"
         },
         "metadata": {},
         "output_type": "display_data"
        },
        {
         "data": {
          "image/svg+xml": "<svg xmlns=\"http://www.w3.org/2000/svg\" xmlns:xlink=\"http://www.w3.org/1999/xlink\" width=\"257pt\" height=\"260pt\" viewBox=\"0.00 0.00 257.00 260.00\">\n<g id=\"graph0\" class=\"graph\" transform=\"scale(1 1) rotate(0) translate(4 256)\">\n<title>my_graph</title>\n<polygon fill=\"white\" stroke=\"transparent\" points=\"-4,4 -4,-256 253,-256 253,4 -4,4\"/>\n<!-- xs_G4 -->\n<g id=\"node1\" class=\"node\">\n<title>xs_G4</title>\n<text text-anchor=\"middle\" x=\"27\" y=\"-230.3\" font-family=\"Times,serif\" font-size=\"14.00\">xs[0]</text>\n</g>\n<!-- HasDuplicates -->\n<g id=\"node6\" class=\"node\">\n<title>HasDuplicates</title>\n<polygon fill=\"none\" stroke=\"black\" points=\"91.5,-179 91.5,-196 158.5,-196 158.5,-179 91.5,-179\"/>\n<text text-anchor=\"start\" x=\"94.5\" y=\"-185\" font-family=\"Times,serif\" font-size=\"10.00\">HasDuplicates</text>\n<polygon fill=\"none\" stroke=\"black\" points=\"91.5,-158 91.5,-179 158.5,-179 158.5,-158 91.5,-158\"/>\n<text text-anchor=\"start\" x=\"111\" y=\"-164.8\" font-family=\"Times,serif\" font-size=\"14.00\">xs[0]</text>\n<polygon fill=\"none\" stroke=\"black\" points=\"91.5,-137 91.5,-158 158.5,-158 158.5,-137 91.5,-137\"/>\n<text text-anchor=\"start\" x=\"111\" y=\"-143.8\" font-family=\"Times,serif\" font-size=\"14.00\">xs[1]</text>\n<polygon fill=\"none\" stroke=\"black\" points=\"91.5,-116 91.5,-137 158.5,-137 158.5,-116 91.5,-116\"/>\n<text text-anchor=\"start\" x=\"111\" y=\"-122.8\" font-family=\"Times,serif\" font-size=\"14.00\">xs[2]</text>\n<polygon fill=\"none\" stroke=\"black\" points=\"91.5,-95 91.5,-116 158.5,-116 158.5,-95 91.5,-95\"/>\n<text text-anchor=\"start\" x=\"111\" y=\"-101.8\" font-family=\"Times,serif\" font-size=\"14.00\">xs[3]</text>\n<polygon fill=\"none\" stroke=\"black\" points=\"91.5,-74 91.5,-95 158.5,-95 158.5,-74 91.5,-74\"/>\n<text text-anchor=\"start\" x=\"114\" y=\"-80.8\" font-family=\"Times,serif\" font-size=\"14.00\">flag</text>\n</g>\n<!-- xs_G4&#45;&gt;HasDuplicates -->\n<g id=\"edge1\" class=\"edge\">\n<title>xs_G4:e-&gt;HasDuplicates:w</title>\n<path fill=\"none\" stroke=\"black\" d=\"M54,-234C86.46,-234 59.11,-172.01 88.76,-169.11\"/>\n<ellipse fill=\"black\" stroke=\"black\" cx=\"90\" cy=\"-169.05\" rx=\"1\" ry=\"1\"/>\n<text text-anchor=\"middle\" x=\"72.5\" y=\"-210\" font-family=\"Times,serif\" font-size=\"10.00\">3</text>\n</g>\n<!-- xs_G7 -->\n<g id=\"node2\" class=\"node\">\n<title>xs_G7</title>\n<text text-anchor=\"middle\" x=\"27\" y=\"-176.3\" font-family=\"Times,serif\" font-size=\"14.00\">xs[1]</text>\n</g>\n<!-- xs_G7&#45;&gt;HasDuplicates -->\n<g id=\"edge2\" class=\"edge\">\n<title>xs_G7:e-&gt;HasDuplicates:w</title>\n<path fill=\"none\" stroke=\"black\" d=\"M54,-180C74.89,-180 69.72,-150.45 88.58,-148.14\"/>\n<ellipse fill=\"black\" stroke=\"black\" cx=\"90\" cy=\"-148.06\" rx=\"1\" ry=\"1\"/>\n<text text-anchor=\"middle\" x=\"72.5\" y=\"-167\" font-family=\"Times,serif\" font-size=\"10.00\">3</text>\n</g>\n<!-- xs_G5 -->\n<g id=\"node3\" class=\"node\">\n<title>xs_G5</title>\n<text text-anchor=\"middle\" x=\"27\" y=\"-122.3\" font-family=\"Times,serif\" font-size=\"14.00\">xs[2]</text>\n</g>\n<!-- xs_G5&#45;&gt;HasDuplicates -->\n<g id=\"edge3\" class=\"edge\">\n<title>xs_G5:e-&gt;HasDuplicates:w</title>\n<path fill=\"none\" stroke=\"black\" d=\"M54,-126C69.67,-126 74.14,-126 88.77,-126\"/>\n<ellipse fill=\"black\" stroke=\"black\" cx=\"90\" cy=\"-126\" rx=\"1\" ry=\"1\"/>\n<text text-anchor=\"middle\" x=\"72.5\" y=\"-129\" font-family=\"Times,serif\" font-size=\"10.00\">3</text>\n</g>\n<!-- xs_G0 -->\n<g id=\"node4\" class=\"node\">\n<title>xs_G0</title>\n<text text-anchor=\"middle\" x=\"27\" y=\"-68.3\" font-family=\"Times,serif\" font-size=\"14.00\">xs[3]</text>\n</g>\n<!-- xs_G0&#45;&gt;HasDuplicates -->\n<g id=\"edge4\" class=\"edge\">\n<title>xs_G0:e-&gt;HasDuplicates:w</title>\n<path fill=\"none\" stroke=\"black\" d=\"M54,-72C75.17,-72 69.47,-102.47 88.55,-104.85\"/>\n<ellipse fill=\"black\" stroke=\"black\" cx=\"90\" cy=\"-104.94\" rx=\"1\" ry=\"1\"/>\n<text text-anchor=\"middle\" x=\"72.5\" y=\"-92\" font-family=\"Times,serif\" font-size=\"10.00\">3</text>\n</g>\n<!-- flag_G14 -->\n<g id=\"node5\" class=\"node\">\n<title>flag_G14</title>\n<text text-anchor=\"middle\" x=\"27\" y=\"-14.3\" font-family=\"Times,serif\" font-size=\"14.00\">flag</text>\n</g>\n<!-- flag_G14&#45;&gt;HasDuplicates -->\n<g id=\"edge5\" class=\"edge\">\n<title>flag_G14:e-&gt;HasDuplicates:w</title>\n<path fill=\"none\" stroke=\"black\" d=\"M54,-18C86.84,-18 58.75,-80.94 88.74,-83.89\"/>\n<ellipse fill=\"black\" stroke=\"black\" cx=\"90\" cy=\"-83.95\" rx=\"1\" ry=\"1\"/>\n<text text-anchor=\"middle\" x=\"72.5\" y=\"-62\" font-family=\"Times,serif\" font-size=\"10.00\">1</text>\n</g>\n<!-- xs_G8 -->\n<g id=\"node7\" class=\"node\">\n<title>xs_G8</title>\n<text text-anchor=\"middle\" x=\"222\" y=\"-230.3\" font-family=\"Times,serif\" font-size=\"14.00\">xs[0]</text>\n</g>\n<!-- HasDuplicates&#45;&gt;xs_G8 -->\n<g id=\"edge6\" class=\"edge\">\n<title>HasDuplicates:e-&gt;xs_G8:w</title>\n<path fill=\"none\" stroke=\"black\" d=\"M158,-169C190.46,-169 163.11,-230.99 192.76,-233.89\"/>\n<ellipse fill=\"black\" stroke=\"black\" cx=\"194\" cy=\"-233.95\" rx=\"1\" ry=\"1\"/>\n<text text-anchor=\"middle\" x=\"176.5\" y=\"-210\" font-family=\"Times,serif\" font-size=\"10.00\">3</text>\n</g>\n<!-- xs_G6 -->\n<g id=\"node8\" class=\"node\">\n<title>xs_G6</title>\n<text text-anchor=\"middle\" x=\"222\" y=\"-176.3\" font-family=\"Times,serif\" font-size=\"14.00\">xs[1]</text>\n</g>\n<!-- HasDuplicates&#45;&gt;xs_G6 -->\n<g id=\"edge7\" class=\"edge\">\n<title>HasDuplicates:e-&gt;xs_G6:w</title>\n<path fill=\"none\" stroke=\"black\" d=\"M158,-148C178.89,-148 173.72,-177.55 192.58,-179.86\"/>\n<ellipse fill=\"black\" stroke=\"black\" cx=\"194\" cy=\"-179.94\" rx=\"1\" ry=\"1\"/>\n<text text-anchor=\"middle\" x=\"176.5\" y=\"-167\" font-family=\"Times,serif\" font-size=\"10.00\">3</text>\n</g>\n<!-- xs_G13 -->\n<g id=\"node9\" class=\"node\">\n<title>xs_G13</title>\n<text text-anchor=\"middle\" x=\"222\" y=\"-122.3\" font-family=\"Times,serif\" font-size=\"14.00\">xs[2]</text>\n</g>\n<!-- HasDuplicates&#45;&gt;xs_G13 -->\n<g id=\"edge8\" class=\"edge\">\n<title>HasDuplicates:e-&gt;xs_G13:w</title>\n<path fill=\"none\" stroke=\"black\" d=\"M158,-126C173.67,-126 178.14,-126 192.77,-126\"/>\n<ellipse fill=\"black\" stroke=\"black\" cx=\"194\" cy=\"-126\" rx=\"1\" ry=\"1\"/>\n<text text-anchor=\"middle\" x=\"176.5\" y=\"-129\" font-family=\"Times,serif\" font-size=\"10.00\">3</text>\n</g>\n<!-- xs_G3 -->\n<g id=\"node10\" class=\"node\">\n<title>xs_G3</title>\n<text text-anchor=\"middle\" x=\"222\" y=\"-68.3\" font-family=\"Times,serif\" font-size=\"14.00\">xs[3]</text>\n</g>\n<!-- HasDuplicates&#45;&gt;xs_G3 -->\n<g id=\"edge9\" class=\"edge\">\n<title>HasDuplicates:e-&gt;xs_G3:w</title>\n<path fill=\"none\" stroke=\"black\" d=\"M158,-105C179.17,-105 173.47,-74.53 192.55,-72.15\"/>\n<ellipse fill=\"black\" stroke=\"black\" cx=\"194\" cy=\"-72.06\" rx=\"1\" ry=\"1\"/>\n<text text-anchor=\"middle\" x=\"176.5\" y=\"-92\" font-family=\"Times,serif\" font-size=\"10.00\">3</text>\n</g>\n<!-- flag_G2 -->\n<g id=\"node11\" class=\"node\">\n<title>flag_G2</title>\n<text text-anchor=\"middle\" x=\"222\" y=\"-14.3\" font-family=\"Times,serif\" font-size=\"14.00\">flag</text>\n</g>\n<!-- HasDuplicates&#45;&gt;flag_G2 -->\n<g id=\"edge10\" class=\"edge\">\n<title>HasDuplicates:e-&gt;flag_G2:w</title>\n<path fill=\"none\" stroke=\"black\" d=\"M158,-84C190.84,-84 162.75,-21.06 192.74,-18.11\"/>\n<ellipse fill=\"black\" stroke=\"black\" cx=\"194\" cy=\"-18.05\" rx=\"1\" ry=\"1\"/>\n<text text-anchor=\"middle\" x=\"176.5\" y=\"-62\" font-family=\"Times,serif\" font-size=\"10.00\">1</text>\n</g>\n</g>\n</svg>",
          "text/plain": "<IPython.core.display.SVG object>"
         },
         "metadata": {},
         "output_type": "display_data"
        }
       ],
       "tabbable": null,
       "tooltip": null
      }
     },
     "3d3e17ffdbd244098507e6aa8fe4db6c": {
      "model_module": "@jupyter-widgets/base",
      "model_module_version": "2.0.0",
      "model_name": "LayoutModel",
      "state": {
       "_model_module": "@jupyter-widgets/base",
       "_model_module_version": "2.0.0",
       "_model_name": "LayoutModel",
       "_view_count": null,
       "_view_module": "@jupyter-widgets/base",
       "_view_module_version": "2.0.0",
       "_view_name": "LayoutView",
       "align_content": null,
       "align_items": null,
       "align_self": null,
       "border_bottom": null,
       "border_left": null,
       "border_right": null,
       "border_top": null,
       "bottom": null,
       "display": null,
       "flex": null,
       "flex_flow": null,
       "grid_area": null,
       "grid_auto_columns": null,
       "grid_auto_flow": null,
       "grid_auto_rows": null,
       "grid_column": null,
       "grid_gap": null,
       "grid_row": null,
       "grid_template_areas": null,
       "grid_template_columns": null,
       "grid_template_rows": null,
       "height": null,
       "justify_content": null,
       "justify_items": null,
       "left": null,
       "margin": null,
       "max_height": null,
       "max_width": null,
       "min_height": null,
       "min_width": null,
       "object_fit": null,
       "object_position": null,
       "order": null,
       "overflow": null,
       "padding": null,
       "right": null,
       "top": null,
       "visibility": null,
       "width": null
      }
     },
     "4c016335f1234473b7372cff682ac5f8": {
      "model_module": "@jupyter-widgets/base",
      "model_module_version": "2.0.0",
      "model_name": "LayoutModel",
      "state": {
       "_model_module": "@jupyter-widgets/base",
       "_model_module_version": "2.0.0",
       "_model_name": "LayoutModel",
       "_view_count": null,
       "_view_module": "@jupyter-widgets/base",
       "_view_module_version": "2.0.0",
       "_view_name": "LayoutView",
       "align_content": null,
       "align_items": null,
       "align_self": null,
       "border_bottom": null,
       "border_left": null,
       "border_right": null,
       "border_top": null,
       "bottom": null,
       "display": null,
       "flex": null,
       "flex_flow": null,
       "grid_area": null,
       "grid_auto_columns": null,
       "grid_auto_flow": null,
       "grid_auto_rows": null,
       "grid_column": null,
       "grid_gap": null,
       "grid_row": null,
       "grid_template_areas": null,
       "grid_template_columns": null,
       "grid_template_rows": null,
       "height": null,
       "justify_content": null,
       "justify_items": null,
       "left": null,
       "margin": null,
       "max_height": null,
       "max_width": null,
       "min_height": null,
       "min_width": null,
       "object_fit": null,
       "object_position": null,
       "order": null,
       "overflow": null,
       "padding": null,
       "right": null,
       "top": null,
       "visibility": null,
       "width": null
      }
     },
     "643da0a3dddb44dd8f6546f3b8de02c2": {
      "model_module": "@jupyter-widgets/base",
      "model_module_version": "2.0.0",
      "model_name": "LayoutModel",
      "state": {
       "_model_module": "@jupyter-widgets/base",
       "_model_module_version": "2.0.0",
       "_model_name": "LayoutModel",
       "_view_count": null,
       "_view_module": "@jupyter-widgets/base",
       "_view_module_version": "2.0.0",
       "_view_name": "LayoutView",
       "align_content": null,
       "align_items": null,
       "align_self": null,
       "border_bottom": null,
       "border_left": null,
       "border_right": null,
       "border_top": null,
       "bottom": null,
       "display": null,
       "flex": null,
       "flex_flow": null,
       "grid_area": null,
       "grid_auto_columns": null,
       "grid_auto_flow": null,
       "grid_auto_rows": null,
       "grid_column": null,
       "grid_gap": null,
       "grid_row": null,
       "grid_template_areas": null,
       "grid_template_columns": null,
       "grid_template_rows": null,
       "height": null,
       "justify_content": null,
       "justify_items": null,
       "left": null,
       "margin": null,
       "max_height": null,
       "max_width": null,
       "min_height": null,
       "min_width": null,
       "object_fit": null,
       "object_position": null,
       "order": null,
       "overflow": null,
       "padding": null,
       "right": null,
       "top": null,
       "visibility": null,
       "width": null
      }
     },
     "7a30578392114849b76db59b189f258d": {
      "model_module": "@jupyter-widgets/output",
      "model_module_version": "1.0.0",
      "model_name": "OutputModel",
      "state": {
       "_dom_classes": [],
       "_model_module": "@jupyter-widgets/output",
       "_model_module_version": "1.0.0",
       "_model_name": "OutputModel",
       "_view_count": null,
       "_view_module": "@jupyter-widgets/output",
       "_view_module_version": "1.0.0",
       "_view_name": "OutputView",
       "layout": "IPY_MODEL_4c016335f1234473b7372cff682ac5f8",
       "msg_id": "",
       "outputs": [
        {
         "data": {
          "text/markdown": "`has_duplicates_symb`",
          "text/plain": "<IPython.core.display.Markdown object>"
         },
         "metadata": {},
         "output_type": "display_data"
        },
        {
         "data": {
          "image/svg+xml": "<svg xmlns=\"http://www.w3.org/2000/svg\" xmlns:xlink=\"http://www.w3.org/1999/xlink\" width=\"257pt\" height=\"260pt\" viewBox=\"0.00 0.00 257.00 260.00\">\n<g id=\"graph0\" class=\"graph\" transform=\"scale(1 1) rotate(0) translate(4 256)\">\n<title>my_graph</title>\n<polygon fill=\"white\" stroke=\"transparent\" points=\"-4,4 -4,-256 253,-256 253,4 -4,4\"/>\n<!-- xs_G11 -->\n<g id=\"node1\" class=\"node\">\n<title>xs_G11</title>\n<text text-anchor=\"middle\" x=\"27\" y=\"-230.3\" font-family=\"Times,serif\" font-size=\"14.00\">xs[0]</text>\n</g>\n<!-- HasDuplicates -->\n<g id=\"node6\" class=\"node\">\n<title>HasDuplicates</title>\n<polygon fill=\"none\" stroke=\"black\" points=\"91.5,-179 91.5,-196 158.5,-196 158.5,-179 91.5,-179\"/>\n<text text-anchor=\"start\" x=\"94.5\" y=\"-185\" font-family=\"Times,serif\" font-size=\"10.00\">HasDuplicates</text>\n<polygon fill=\"none\" stroke=\"black\" points=\"91.5,-158 91.5,-179 158.5,-179 158.5,-158 91.5,-158\"/>\n<text text-anchor=\"start\" x=\"111\" y=\"-164.8\" font-family=\"Times,serif\" font-size=\"14.00\">xs[0]</text>\n<polygon fill=\"none\" stroke=\"black\" points=\"91.5,-137 91.5,-158 158.5,-158 158.5,-137 91.5,-137\"/>\n<text text-anchor=\"start\" x=\"111\" y=\"-143.8\" font-family=\"Times,serif\" font-size=\"14.00\">xs[1]</text>\n<polygon fill=\"none\" stroke=\"black\" points=\"91.5,-116 91.5,-137 158.5,-137 158.5,-116 91.5,-116\"/>\n<text text-anchor=\"start\" x=\"111\" y=\"-122.8\" font-family=\"Times,serif\" font-size=\"14.00\">xs[2]</text>\n<polygon fill=\"none\" stroke=\"black\" points=\"91.5,-95 91.5,-116 158.5,-116 158.5,-95 91.5,-95\"/>\n<text text-anchor=\"start\" x=\"111\" y=\"-101.8\" font-family=\"Times,serif\" font-size=\"14.00\">xs[3]</text>\n<polygon fill=\"none\" stroke=\"black\" points=\"91.5,-74 91.5,-95 158.5,-95 158.5,-74 91.5,-74\"/>\n<text text-anchor=\"start\" x=\"114\" y=\"-80.8\" font-family=\"Times,serif\" font-size=\"14.00\">flag</text>\n</g>\n<!-- xs_G11&#45;&gt;HasDuplicates -->\n<g id=\"edge1\" class=\"edge\">\n<title>xs_G11:e-&gt;HasDuplicates:w</title>\n<path fill=\"none\" stroke=\"black\" d=\"M54,-234C86.46,-234 59.11,-172.01 88.76,-169.11\"/>\n<ellipse fill=\"black\" stroke=\"black\" cx=\"90\" cy=\"-169.05\" rx=\"1\" ry=\"1\"/>\n<text text-anchor=\"middle\" x=\"72.5\" y=\"-210\" font-family=\"Times,serif\" font-size=\"10.00\">n</text>\n</g>\n<!-- xs_G9 -->\n<g id=\"node2\" class=\"node\">\n<title>xs_G9</title>\n<text text-anchor=\"middle\" x=\"27\" y=\"-176.3\" font-family=\"Times,serif\" font-size=\"14.00\">xs[1]</text>\n</g>\n<!-- xs_G9&#45;&gt;HasDuplicates -->\n<g id=\"edge2\" class=\"edge\">\n<title>xs_G9:e-&gt;HasDuplicates:w</title>\n<path fill=\"none\" stroke=\"black\" d=\"M54,-180C74.89,-180 69.72,-150.45 88.58,-148.14\"/>\n<ellipse fill=\"black\" stroke=\"black\" cx=\"90\" cy=\"-148.06\" rx=\"1\" ry=\"1\"/>\n<text text-anchor=\"middle\" x=\"72.5\" y=\"-167\" font-family=\"Times,serif\" font-size=\"10.00\">n</text>\n</g>\n<!-- xs_G12 -->\n<g id=\"node3\" class=\"node\">\n<title>xs_G12</title>\n<text text-anchor=\"middle\" x=\"27\" y=\"-122.3\" font-family=\"Times,serif\" font-size=\"14.00\">xs[2]</text>\n</g>\n<!-- xs_G12&#45;&gt;HasDuplicates -->\n<g id=\"edge3\" class=\"edge\">\n<title>xs_G12:e-&gt;HasDuplicates:w</title>\n<path fill=\"none\" stroke=\"black\" d=\"M54,-126C69.67,-126 74.14,-126 88.77,-126\"/>\n<ellipse fill=\"black\" stroke=\"black\" cx=\"90\" cy=\"-126\" rx=\"1\" ry=\"1\"/>\n<text text-anchor=\"middle\" x=\"72.5\" y=\"-129\" font-family=\"Times,serif\" font-size=\"10.00\">n</text>\n</g>\n<!-- xs_G5 -->\n<g id=\"node4\" class=\"node\">\n<title>xs_G5</title>\n<text text-anchor=\"middle\" x=\"27\" y=\"-68.3\" font-family=\"Times,serif\" font-size=\"14.00\">xs[3]</text>\n</g>\n<!-- xs_G5&#45;&gt;HasDuplicates -->\n<g id=\"edge4\" class=\"edge\">\n<title>xs_G5:e-&gt;HasDuplicates:w</title>\n<path fill=\"none\" stroke=\"black\" d=\"M54,-72C75.17,-72 69.47,-102.47 88.55,-104.85\"/>\n<ellipse fill=\"black\" stroke=\"black\" cx=\"90\" cy=\"-104.94\" rx=\"1\" ry=\"1\"/>\n<text text-anchor=\"middle\" x=\"72.5\" y=\"-92\" font-family=\"Times,serif\" font-size=\"10.00\">n</text>\n</g>\n<!-- flag_G14 -->\n<g id=\"node5\" class=\"node\">\n<title>flag_G14</title>\n<text text-anchor=\"middle\" x=\"27\" y=\"-14.3\" font-family=\"Times,serif\" font-size=\"14.00\">flag</text>\n</g>\n<!-- flag_G14&#45;&gt;HasDuplicates -->\n<g id=\"edge5\" class=\"edge\">\n<title>flag_G14:e-&gt;HasDuplicates:w</title>\n<path fill=\"none\" stroke=\"black\" d=\"M54,-18C86.84,-18 58.75,-80.94 88.74,-83.89\"/>\n<ellipse fill=\"black\" stroke=\"black\" cx=\"90\" cy=\"-83.95\" rx=\"1\" ry=\"1\"/>\n<text text-anchor=\"middle\" x=\"72.5\" y=\"-62\" font-family=\"Times,serif\" font-size=\"10.00\">1</text>\n</g>\n<!-- xs_G4 -->\n<g id=\"node7\" class=\"node\">\n<title>xs_G4</title>\n<text text-anchor=\"middle\" x=\"222\" y=\"-230.3\" font-family=\"Times,serif\" font-size=\"14.00\">xs[0]</text>\n</g>\n<!-- HasDuplicates&#45;&gt;xs_G4 -->\n<g id=\"edge6\" class=\"edge\">\n<title>HasDuplicates:e-&gt;xs_G4:w</title>\n<path fill=\"none\" stroke=\"black\" d=\"M158,-169C190.46,-169 163.11,-230.99 192.76,-233.89\"/>\n<ellipse fill=\"black\" stroke=\"black\" cx=\"194\" cy=\"-233.95\" rx=\"1\" ry=\"1\"/>\n<text text-anchor=\"middle\" x=\"176.5\" y=\"-210\" font-family=\"Times,serif\" font-size=\"10.00\">n</text>\n</g>\n<!-- xs_G1 -->\n<g id=\"node8\" class=\"node\">\n<title>xs_G1</title>\n<text text-anchor=\"middle\" x=\"222\" y=\"-176.3\" font-family=\"Times,serif\" font-size=\"14.00\">xs[1]</text>\n</g>\n<!-- HasDuplicates&#45;&gt;xs_G1 -->\n<g id=\"edge7\" class=\"edge\">\n<title>HasDuplicates:e-&gt;xs_G1:w</title>\n<path fill=\"none\" stroke=\"black\" d=\"M158,-148C178.89,-148 173.72,-177.55 192.58,-179.86\"/>\n<ellipse fill=\"black\" stroke=\"black\" cx=\"194\" cy=\"-179.94\" rx=\"1\" ry=\"1\"/>\n<text text-anchor=\"middle\" x=\"176.5\" y=\"-167\" font-family=\"Times,serif\" font-size=\"10.00\">n</text>\n</g>\n<!-- xs_G8 -->\n<g id=\"node9\" class=\"node\">\n<title>xs_G8</title>\n<text text-anchor=\"middle\" x=\"222\" y=\"-122.3\" font-family=\"Times,serif\" font-size=\"14.00\">xs[2]</text>\n</g>\n<!-- HasDuplicates&#45;&gt;xs_G8 -->\n<g id=\"edge8\" class=\"edge\">\n<title>HasDuplicates:e-&gt;xs_G8:w</title>\n<path fill=\"none\" stroke=\"black\" d=\"M158,-126C173.67,-126 178.14,-126 192.77,-126\"/>\n<ellipse fill=\"black\" stroke=\"black\" cx=\"194\" cy=\"-126\" rx=\"1\" ry=\"1\"/>\n<text text-anchor=\"middle\" x=\"176.5\" y=\"-129\" font-family=\"Times,serif\" font-size=\"10.00\">n</text>\n</g>\n<!-- xs_G0 -->\n<g id=\"node10\" class=\"node\">\n<title>xs_G0</title>\n<text text-anchor=\"middle\" x=\"222\" y=\"-68.3\" font-family=\"Times,serif\" font-size=\"14.00\">xs[3]</text>\n</g>\n<!-- HasDuplicates&#45;&gt;xs_G0 -->\n<g id=\"edge9\" class=\"edge\">\n<title>HasDuplicates:e-&gt;xs_G0:w</title>\n<path fill=\"none\" stroke=\"black\" d=\"M158,-105C179.17,-105 173.47,-74.53 192.55,-72.15\"/>\n<ellipse fill=\"black\" stroke=\"black\" cx=\"194\" cy=\"-72.06\" rx=\"1\" ry=\"1\"/>\n<text text-anchor=\"middle\" x=\"176.5\" y=\"-92\" font-family=\"Times,serif\" font-size=\"10.00\">n</text>\n</g>\n<!-- flag_G2 -->\n<g id=\"node11\" class=\"node\">\n<title>flag_G2</title>\n<text text-anchor=\"middle\" x=\"222\" y=\"-14.3\" font-family=\"Times,serif\" font-size=\"14.00\">flag</text>\n</g>\n<!-- HasDuplicates&#45;&gt;flag_G2 -->\n<g id=\"edge10\" class=\"edge\">\n<title>HasDuplicates:e-&gt;flag_G2:w</title>\n<path fill=\"none\" stroke=\"black\" d=\"M158,-84C190.84,-84 162.75,-21.06 192.74,-18.11\"/>\n<ellipse fill=\"black\" stroke=\"black\" cx=\"194\" cy=\"-18.05\" rx=\"1\" ry=\"1\"/>\n<text text-anchor=\"middle\" x=\"176.5\" y=\"-62\" font-family=\"Times,serif\" font-size=\"10.00\">1</text>\n</g>\n</g>\n</svg>",
          "text/plain": "<IPython.core.display.SVG object>"
         },
         "metadata": {},
         "output_type": "display_data"
        }
       ],
       "tabbable": null,
       "tooltip": null
      }
     },
     "a47e39539e9d4c919fe3c55f8ddf2f8c": {
      "model_module": "@jupyter-widgets/base",
      "model_module_version": "2.0.0",
      "model_name": "LayoutModel",
      "state": {
       "_model_module": "@jupyter-widgets/base",
       "_model_module_version": "2.0.0",
       "_model_name": "LayoutModel",
       "_view_count": null,
       "_view_module": "@jupyter-widgets/base",
       "_view_module_version": "2.0.0",
       "_view_name": "LayoutView",
       "align_content": null,
       "align_items": null,
       "align_self": null,
       "border_bottom": null,
       "border_left": null,
       "border_right": null,
       "border_top": null,
       "bottom": null,
       "display": null,
       "flex": null,
       "flex_flow": null,
       "grid_area": null,
       "grid_auto_columns": null,
       "grid_auto_flow": null,
       "grid_auto_rows": null,
       "grid_column": null,
       "grid_gap": null,
       "grid_row": null,
       "grid_template_areas": null,
       "grid_template_columns": null,
       "grid_template_rows": null,
       "height": null,
       "justify_content": null,
       "justify_items": null,
       "left": null,
       "margin": null,
       "max_height": null,
       "max_width": null,
       "min_height": null,
       "min_width": null,
       "object_fit": null,
       "object_position": null,
       "order": null,
       "overflow": null,
       "padding": null,
       "right": null,
       "top": null,
       "visibility": null,
       "width": null
      }
     },
     "a81480b06508463c80a5869a4d8c5eb5": {
      "model_module": "@jupyter-widgets/output",
      "model_module_version": "1.0.0",
      "model_name": "OutputModel",
      "state": {
       "_dom_classes": [],
       "_model_module": "@jupyter-widgets/output",
       "_model_module_version": "1.0.0",
       "_model_name": "OutputModel",
       "_view_count": null,
       "_view_module": "@jupyter-widgets/output",
       "_view_module_version": "1.0.0",
       "_view_name": "OutputView",
       "layout": "IPY_MODEL_f45030d93716488d817ef1158ce528a4",
       "msg_id": "",
       "outputs": [
        {
         "data": {
          "text/markdown": "`symm_diff`",
          "text/plain": "<IPython.core.display.Markdown object>"
         },
         "metadata": {},
         "output_type": "display_data"
        },
        {
         "data": {
          "image/svg+xml": "<svg xmlns=\"http://www.w3.org/2000/svg\" xmlns:xlink=\"http://www.w3.org/1999/xlink\" width=\"283pt\" height=\"584pt\" viewBox=\"0.00 0.00 283.00 584.00\">\n<g id=\"graph0\" class=\"graph\" transform=\"scale(1 1) rotate(0) translate(4 580)\">\n<title>my_graph</title>\n<polygon fill=\"white\" stroke=\"transparent\" points=\"-4,4 -4,-580 279,-580 279,4 -4,4\"/>\n<!-- S_G28 -->\n<g id=\"node1\" class=\"node\">\n<title>S_G28</title>\n<text text-anchor=\"middle\" x=\"27\" y=\"-554.3\" font-family=\"Times,serif\" font-size=\"14.00\">S[0]</text>\n</g>\n<!-- SymmetricDifference -->\n<g id=\"node12\" class=\"node\">\n<title>SymmetricDifference</title>\n<polygon fill=\"none\" stroke=\"black\" points=\"91.5,-404 91.5,-421 184.5,-421 184.5,-404 91.5,-404\"/>\n<text text-anchor=\"start\" x=\"94.5\" y=\"-410\" font-family=\"Times,serif\" font-size=\"10.00\">SymmetricDifference</text>\n<polygon fill=\"none\" stroke=\"black\" points=\"91.5,-383 91.5,-404 184.5,-404 184.5,-383 91.5,-383\"/>\n<text text-anchor=\"start\" x=\"126\" y=\"-389.8\" font-family=\"Times,serif\" font-size=\"14.00\">S[0]</text>\n<polygon fill=\"none\" stroke=\"black\" points=\"91.5,-362 91.5,-383 184.5,-383 184.5,-362 91.5,-362\"/>\n<text text-anchor=\"start\" x=\"126\" y=\"-368.8\" font-family=\"Times,serif\" font-size=\"14.00\">S[1]</text>\n<polygon fill=\"none\" stroke=\"black\" points=\"91.5,-341 91.5,-362 184.5,-362 184.5,-341 91.5,-341\"/>\n<text text-anchor=\"start\" x=\"126\" y=\"-347.8\" font-family=\"Times,serif\" font-size=\"14.00\">S[2]</text>\n<polygon fill=\"none\" stroke=\"black\" points=\"91.5,-320 91.5,-341 184.5,-341 184.5,-320 91.5,-320\"/>\n<text text-anchor=\"start\" x=\"126\" y=\"-326.8\" font-family=\"Times,serif\" font-size=\"14.00\">S[3]</text>\n<polygon fill=\"none\" stroke=\"black\" points=\"91.5,-299 91.5,-320 184.5,-320 184.5,-299 91.5,-299\"/>\n<text text-anchor=\"start\" x=\"125.5\" y=\"-305.8\" font-family=\"Times,serif\" font-size=\"14.00\">T[0]</text>\n<polygon fill=\"none\" stroke=\"black\" points=\"91.5,-278 91.5,-299 184.5,-299 184.5,-278 91.5,-278\"/>\n<text text-anchor=\"start\" x=\"125.5\" y=\"-284.8\" font-family=\"Times,serif\" font-size=\"14.00\">T[1]</text>\n<polygon fill=\"none\" stroke=\"black\" points=\"91.5,-257 91.5,-278 184.5,-278 184.5,-257 91.5,-257\"/>\n<text text-anchor=\"start\" x=\"120\" y=\"-263.8\" font-family=\"Times,serif\" font-size=\"14.00\">diff[0]</text>\n<polygon fill=\"none\" stroke=\"black\" points=\"91.5,-236 91.5,-257 184.5,-257 184.5,-236 91.5,-236\"/>\n<text text-anchor=\"start\" x=\"120\" y=\"-242.8\" font-family=\"Times,serif\" font-size=\"14.00\">diff[1]</text>\n<polygon fill=\"none\" stroke=\"black\" points=\"91.5,-215 91.5,-236 184.5,-236 184.5,-215 91.5,-215\"/>\n<text text-anchor=\"start\" x=\"120\" y=\"-221.8\" font-family=\"Times,serif\" font-size=\"14.00\">diff[2]</text>\n<polygon fill=\"none\" stroke=\"black\" points=\"91.5,-194 91.5,-215 184.5,-215 184.5,-194 91.5,-194\"/>\n<text text-anchor=\"start\" x=\"120\" y=\"-200.8\" font-family=\"Times,serif\" font-size=\"14.00\">diff[3]</text>\n<polygon fill=\"none\" stroke=\"black\" points=\"91.5,-173 91.5,-194 184.5,-194 184.5,-173 91.5,-173\"/>\n<text text-anchor=\"start\" x=\"127\" y=\"-179.8\" font-family=\"Times,serif\" font-size=\"14.00\">flag</text>\n</g>\n<!-- S_G28&#45;&gt;SymmetricDifference -->\n<g id=\"edge1\" class=\"edge\">\n<title>S_G28:e-&gt;SymmetricDifference:w</title>\n<path fill=\"none\" stroke=\"black\" d=\"M54,-558C71.95,-558 72.32,-406.56 88.9,-394.73\"/>\n<ellipse fill=\"black\" stroke=\"black\" cx=\"90.06\" cy=\"-394.33\" rx=\"1\" ry=\"1\"/>\n<text text-anchor=\"middle\" x=\"72.5\" y=\"-479\" font-family=\"Times,serif\" font-size=\"10.00\">4</text>\n</g>\n<!-- S_G11 -->\n<g id=\"node2\" class=\"node\">\n<title>S_G11</title>\n<text text-anchor=\"middle\" x=\"27\" y=\"-500.3\" font-family=\"Times,serif\" font-size=\"14.00\">S[1]</text>\n</g>\n<!-- S_G11&#45;&gt;SymmetricDifference -->\n<g id=\"edge2\" class=\"edge\">\n<title>S_G11:e-&gt;SymmetricDifference:w</title>\n<path fill=\"none\" stroke=\"black\" d=\"M54,-504C83.54,-504 61.82,-379.07 88.96,-373.21\"/>\n<ellipse fill=\"black\" stroke=\"black\" cx=\"90.01\" cy=\"-373.1\" rx=\"1\" ry=\"1\"/>\n<text text-anchor=\"middle\" x=\"72.5\" y=\"-449\" font-family=\"Times,serif\" font-size=\"10.00\">4</text>\n</g>\n<!-- S_G15 -->\n<g id=\"node3\" class=\"node\">\n<title>S_G15</title>\n<text text-anchor=\"middle\" x=\"27\" y=\"-446.3\" font-family=\"Times,serif\" font-size=\"14.00\">S[2]</text>\n</g>\n<!-- S_G15&#45;&gt;SymmetricDifference -->\n<g id=\"edge3\" class=\"edge\">\n<title>S_G15:e-&gt;SymmetricDifference:w</title>\n<path fill=\"none\" stroke=\"black\" d=\"M54,-450C76.55,-450 68.29,-358.03 88.91,-352.28\"/>\n<ellipse fill=\"black\" stroke=\"black\" cx=\"90.01\" cy=\"-352.13\" rx=\"1\" ry=\"1\"/>\n<text text-anchor=\"middle\" x=\"72.5\" y=\"-406\" font-family=\"Times,serif\" font-size=\"10.00\">4</text>\n</g>\n<!-- S_G19 -->\n<g id=\"node4\" class=\"node\">\n<title>S_G19</title>\n<text text-anchor=\"middle\" x=\"27\" y=\"-392.3\" font-family=\"Times,serif\" font-size=\"14.00\">S[3]</text>\n</g>\n<!-- S_G19&#45;&gt;SymmetricDifference -->\n<g id=\"edge4\" class=\"edge\">\n<title>S_G19:e-&gt;SymmetricDifference:w</title>\n<path fill=\"none\" stroke=\"black\" d=\"M54,-396C86.46,-396 59.11,-334.01 88.76,-331.11\"/>\n<ellipse fill=\"black\" stroke=\"black\" cx=\"90\" cy=\"-331.05\" rx=\"1\" ry=\"1\"/>\n<text text-anchor=\"middle\" x=\"72.5\" y=\"-372\" font-family=\"Times,serif\" font-size=\"10.00\">4</text>\n</g>\n<!-- T_G6 -->\n<g id=\"node5\" class=\"node\">\n<title>T_G6</title>\n<text text-anchor=\"middle\" x=\"27\" y=\"-338.3\" font-family=\"Times,serif\" font-size=\"14.00\">T[0]</text>\n</g>\n<!-- T_G6&#45;&gt;SymmetricDifference -->\n<g id=\"edge5\" class=\"edge\">\n<title>T_G6:e-&gt;SymmetricDifference:w</title>\n<path fill=\"none\" stroke=\"black\" d=\"M54,-342C74.89,-342 69.72,-312.45 88.58,-310.14\"/>\n<ellipse fill=\"black\" stroke=\"black\" cx=\"90\" cy=\"-310.06\" rx=\"1\" ry=\"1\"/>\n<text text-anchor=\"middle\" x=\"72.5\" y=\"-329\" font-family=\"Times,serif\" font-size=\"10.00\">4</text>\n</g>\n<!-- T_G25 -->\n<g id=\"node6\" class=\"node\">\n<title>T_G25</title>\n<text text-anchor=\"middle\" x=\"27\" y=\"-284.3\" font-family=\"Times,serif\" font-size=\"14.00\">T[1]</text>\n</g>\n<!-- T_G25&#45;&gt;SymmetricDifference -->\n<g id=\"edge6\" class=\"edge\">\n<title>T_G25:e-&gt;SymmetricDifference:w</title>\n<path fill=\"none\" stroke=\"black\" d=\"M54,-288C69.67,-288 74.14,-288 88.77,-288\"/>\n<ellipse fill=\"black\" stroke=\"black\" cx=\"90\" cy=\"-288\" rx=\"1\" ry=\"1\"/>\n<text text-anchor=\"middle\" x=\"72.5\" y=\"-291\" font-family=\"Times,serif\" font-size=\"10.00\">4</text>\n</g>\n<!-- diff_G32 -->\n<g id=\"node7\" class=\"node\">\n<title>diff_G32</title>\n<text text-anchor=\"middle\" x=\"27\" y=\"-230.3\" font-family=\"Times,serif\" font-size=\"14.00\">diff[0]</text>\n</g>\n<!-- diff_G32&#45;&gt;SymmetricDifference -->\n<g id=\"edge7\" class=\"edge\">\n<title>diff_G32:e-&gt;SymmetricDifference:w</title>\n<path fill=\"none\" stroke=\"black\" d=\"M54,-234C75.17,-234 69.47,-264.47 88.55,-266.85\"/>\n<ellipse fill=\"black\" stroke=\"black\" cx=\"90\" cy=\"-266.94\" rx=\"1\" ry=\"1\"/>\n<text text-anchor=\"middle\" x=\"72.5\" y=\"-254\" font-family=\"Times,serif\" font-size=\"10.00\">4</text>\n</g>\n<!-- diff_G16 -->\n<g id=\"node8\" class=\"node\">\n<title>diff_G16</title>\n<text text-anchor=\"middle\" x=\"27\" y=\"-176.3\" font-family=\"Times,serif\" font-size=\"14.00\">diff[1]</text>\n</g>\n<!-- diff_G16&#45;&gt;SymmetricDifference -->\n<g id=\"edge8\" class=\"edge\">\n<title>diff_G16:e-&gt;SymmetricDifference:w</title>\n<path fill=\"none\" stroke=\"black\" d=\"M54,-180C86.84,-180 58.75,-242.94 88.74,-245.89\"/>\n<ellipse fill=\"black\" stroke=\"black\" cx=\"90\" cy=\"-245.95\" rx=\"1\" ry=\"1\"/>\n<text text-anchor=\"middle\" x=\"72.5\" y=\"-223\" font-family=\"Times,serif\" font-size=\"10.00\">4</text>\n</g>\n<!-- diff_G20 -->\n<g id=\"node9\" class=\"node\">\n<title>diff_G20</title>\n<text text-anchor=\"middle\" x=\"27\" y=\"-122.3\" font-family=\"Times,serif\" font-size=\"14.00\">diff[2]</text>\n</g>\n<!-- diff_G20&#45;&gt;SymmetricDifference -->\n<g id=\"edge9\" class=\"edge\">\n<title>diff_G20:e-&gt;SymmetricDifference:w</title>\n<path fill=\"none\" stroke=\"black\" d=\"M54,-126C76.75,-126 68.1,-218.91 88.89,-224.72\"/>\n<ellipse fill=\"black\" stroke=\"black\" cx=\"90.01\" cy=\"-224.87\" rx=\"1\" ry=\"1\"/>\n<text text-anchor=\"middle\" x=\"72.5\" y=\"-181\" font-family=\"Times,serif\" font-size=\"10.00\">4</text>\n</g>\n<!-- diff_G24 -->\n<g id=\"node10\" class=\"node\">\n<title>diff_G24</title>\n<text text-anchor=\"middle\" x=\"27\" y=\"-68.3\" font-family=\"Times,serif\" font-size=\"14.00\">diff[3]</text>\n</g>\n<!-- diff_G24&#45;&gt;SymmetricDifference -->\n<g id=\"edge10\" class=\"edge\">\n<title>diff_G24:e-&gt;SymmetricDifference:w</title>\n<path fill=\"none\" stroke=\"black\" d=\"M54,-72C83.75,-72 61.63,-197.89 88.95,-203.79\"/>\n<ellipse fill=\"black\" stroke=\"black\" cx=\"90.01\" cy=\"-203.9\" rx=\"1\" ry=\"1\"/>\n<text text-anchor=\"middle\" x=\"72.5\" y=\"-148\" font-family=\"Times,serif\" font-size=\"10.00\">4</text>\n</g>\n<!-- flag_G9 -->\n<g id=\"node11\" class=\"node\">\n<title>flag_G9</title>\n<text text-anchor=\"middle\" x=\"27\" y=\"-14.3\" font-family=\"Times,serif\" font-size=\"14.00\">flag</text>\n</g>\n<!-- flag_G9&#45;&gt;SymmetricDifference -->\n<g id=\"edge11\" class=\"edge\">\n<title>flag_G9:e-&gt;SymmetricDifference:w</title>\n<path fill=\"none\" stroke=\"black\" d=\"M54,-18C72.05,-18 72.23,-170.36 88.88,-182.26\"/>\n<ellipse fill=\"black\" stroke=\"black\" cx=\"90.06\" cy=\"-182.67\" rx=\"1\" ry=\"1\"/>\n<text text-anchor=\"middle\" x=\"72.5\" y=\"-104\" font-family=\"Times,serif\" font-size=\"10.00\">1</text>\n</g>\n<!-- S_G17 -->\n<g id=\"node13\" class=\"node\">\n<title>S_G17</title>\n<text text-anchor=\"middle\" x=\"248\" y=\"-554.3\" font-family=\"Times,serif\" font-size=\"14.00\">S[0]</text>\n</g>\n<!-- SymmetricDifference&#45;&gt;S_G17 -->\n<g id=\"edge12\" class=\"edge\">\n<title>SymmetricDifference:e-&gt;S_G17:w</title>\n<path fill=\"none\" stroke=\"black\" d=\"M184,-394C201.95,-394 202.32,-545.44 218.9,-557.27\"/>\n<ellipse fill=\"black\" stroke=\"black\" cx=\"220.06\" cy=\"-557.67\" rx=\"1\" ry=\"1\"/>\n<text text-anchor=\"middle\" x=\"202.5\" y=\"-479\" font-family=\"Times,serif\" font-size=\"10.00\">4</text>\n</g>\n<!-- S_G30 -->\n<g id=\"node14\" class=\"node\">\n<title>S_G30</title>\n<text text-anchor=\"middle\" x=\"248\" y=\"-500.3\" font-family=\"Times,serif\" font-size=\"14.00\">S[1]</text>\n</g>\n<!-- SymmetricDifference&#45;&gt;S_G30 -->\n<g id=\"edge13\" class=\"edge\">\n<title>SymmetricDifference:e-&gt;S_G30:w</title>\n<path fill=\"none\" stroke=\"black\" d=\"M184,-373C213.54,-373 191.82,-497.93 218.96,-503.79\"/>\n<ellipse fill=\"black\" stroke=\"black\" cx=\"220.01\" cy=\"-503.9\" rx=\"1\" ry=\"1\"/>\n<text text-anchor=\"middle\" x=\"202.5\" y=\"-449\" font-family=\"Times,serif\" font-size=\"10.00\">4</text>\n</g>\n<!-- S_G0 -->\n<g id=\"node15\" class=\"node\">\n<title>S_G0</title>\n<text text-anchor=\"middle\" x=\"248\" y=\"-446.3\" font-family=\"Times,serif\" font-size=\"14.00\">S[2]</text>\n</g>\n<!-- SymmetricDifference&#45;&gt;S_G0 -->\n<g id=\"edge14\" class=\"edge\">\n<title>SymmetricDifference:e-&gt;S_G0:w</title>\n<path fill=\"none\" stroke=\"black\" d=\"M184,-352C206.55,-352 198.29,-443.97 218.91,-449.72\"/>\n<ellipse fill=\"black\" stroke=\"black\" cx=\"220.01\" cy=\"-449.87\" rx=\"1\" ry=\"1\"/>\n<text text-anchor=\"middle\" x=\"202.5\" y=\"-406\" font-family=\"Times,serif\" font-size=\"10.00\">4</text>\n</g>\n<!-- S_G7 -->\n<g id=\"node16\" class=\"node\">\n<title>S_G7</title>\n<text text-anchor=\"middle\" x=\"248\" y=\"-392.3\" font-family=\"Times,serif\" font-size=\"14.00\">S[3]</text>\n</g>\n<!-- SymmetricDifference&#45;&gt;S_G7 -->\n<g id=\"edge15\" class=\"edge\">\n<title>SymmetricDifference:e-&gt;S_G7:w</title>\n<path fill=\"none\" stroke=\"black\" d=\"M184,-331C216.46,-331 189.11,-392.99 218.76,-395.89\"/>\n<ellipse fill=\"black\" stroke=\"black\" cx=\"220\" cy=\"-395.95\" rx=\"1\" ry=\"1\"/>\n<text text-anchor=\"middle\" x=\"202.5\" y=\"-372\" font-family=\"Times,serif\" font-size=\"10.00\">4</text>\n</g>\n<!-- T_G26 -->\n<g id=\"node17\" class=\"node\">\n<title>T_G26</title>\n<text text-anchor=\"middle\" x=\"248\" y=\"-338.3\" font-family=\"Times,serif\" font-size=\"14.00\">T[0]</text>\n</g>\n<!-- SymmetricDifference&#45;&gt;T_G26 -->\n<g id=\"edge16\" class=\"edge\">\n<title>SymmetricDifference:e-&gt;T_G26:w</title>\n<path fill=\"none\" stroke=\"black\" d=\"M184,-310C204.89,-310 199.72,-339.55 218.58,-341.86\"/>\n<ellipse fill=\"black\" stroke=\"black\" cx=\"220\" cy=\"-341.94\" rx=\"1\" ry=\"1\"/>\n<text text-anchor=\"middle\" x=\"202.5\" y=\"-329\" font-family=\"Times,serif\" font-size=\"10.00\">4</text>\n</g>\n<!-- T_G4 -->\n<g id=\"node18\" class=\"node\">\n<title>T_G4</title>\n<text text-anchor=\"middle\" x=\"248\" y=\"-284.3\" font-family=\"Times,serif\" font-size=\"14.00\">T[1]</text>\n</g>\n<!-- SymmetricDifference&#45;&gt;T_G4 -->\n<g id=\"edge17\" class=\"edge\">\n<title>SymmetricDifference:e-&gt;T_G4:w</title>\n<path fill=\"none\" stroke=\"black\" d=\"M184,-288C199.67,-288 204.14,-288 218.77,-288\"/>\n<ellipse fill=\"black\" stroke=\"black\" cx=\"220\" cy=\"-288\" rx=\"1\" ry=\"1\"/>\n<text text-anchor=\"middle\" x=\"202.5\" y=\"-291\" font-family=\"Times,serif\" font-size=\"10.00\">4</text>\n</g>\n<!-- diff_G22 -->\n<g id=\"node19\" class=\"node\">\n<title>diff_G22</title>\n<text text-anchor=\"middle\" x=\"248\" y=\"-230.3\" font-family=\"Times,serif\" font-size=\"14.00\">diff[0]</text>\n</g>\n<!-- SymmetricDifference&#45;&gt;diff_G22 -->\n<g id=\"edge18\" class=\"edge\">\n<title>SymmetricDifference:e-&gt;diff_G22:w</title>\n<path fill=\"none\" stroke=\"black\" d=\"M184,-267C205.17,-267 199.47,-236.53 218.55,-234.15\"/>\n<ellipse fill=\"black\" stroke=\"black\" cx=\"220\" cy=\"-234.06\" rx=\"1\" ry=\"1\"/>\n<text text-anchor=\"middle\" x=\"202.5\" y=\"-254\" font-family=\"Times,serif\" font-size=\"10.00\">4</text>\n</g>\n<!-- diff_G1 -->\n<g id=\"node20\" class=\"node\">\n<title>diff_G1</title>\n<text text-anchor=\"middle\" x=\"248\" y=\"-176.3\" font-family=\"Times,serif\" font-size=\"14.00\">diff[1]</text>\n</g>\n<!-- SymmetricDifference&#45;&gt;diff_G1 -->\n<g id=\"edge19\" class=\"edge\">\n<title>SymmetricDifference:e-&gt;diff_G1:w</title>\n<path fill=\"none\" stroke=\"black\" d=\"M184,-246C216.84,-246 188.75,-183.06 218.74,-180.11\"/>\n<ellipse fill=\"black\" stroke=\"black\" cx=\"220\" cy=\"-180.05\" rx=\"1\" ry=\"1\"/>\n<text text-anchor=\"middle\" x=\"202.5\" y=\"-223\" font-family=\"Times,serif\" font-size=\"10.00\">4</text>\n</g>\n<!-- diff_G3 -->\n<g id=\"node21\" class=\"node\">\n<title>diff_G3</title>\n<text text-anchor=\"middle\" x=\"248\" y=\"-122.3\" font-family=\"Times,serif\" font-size=\"14.00\">diff[2]</text>\n</g>\n<!-- SymmetricDifference&#45;&gt;diff_G3 -->\n<g id=\"edge20\" class=\"edge\">\n<title>SymmetricDifference:e-&gt;diff_G3:w</title>\n<path fill=\"none\" stroke=\"black\" d=\"M184,-225C206.75,-225 198.1,-132.09 218.89,-126.28\"/>\n<ellipse fill=\"black\" stroke=\"black\" cx=\"220.01\" cy=\"-126.13\" rx=\"1\" ry=\"1\"/>\n<text text-anchor=\"middle\" x=\"202.5\" y=\"-181\" font-family=\"Times,serif\" font-size=\"10.00\">4</text>\n</g>\n<!-- diff_G10 -->\n<g id=\"node22\" class=\"node\">\n<title>diff_G10</title>\n<text text-anchor=\"middle\" x=\"248\" y=\"-68.3\" font-family=\"Times,serif\" font-size=\"14.00\">diff[3]</text>\n</g>\n<!-- SymmetricDifference&#45;&gt;diff_G10 -->\n<g id=\"edge21\" class=\"edge\">\n<title>SymmetricDifference:e-&gt;diff_G10:w</title>\n<path fill=\"none\" stroke=\"black\" d=\"M184,-204C213.75,-204 191.63,-78.11 218.95,-72.21\"/>\n<ellipse fill=\"black\" stroke=\"black\" cx=\"220.01\" cy=\"-72.1\" rx=\"1\" ry=\"1\"/>\n<text text-anchor=\"middle\" x=\"202.5\" y=\"-148\" font-family=\"Times,serif\" font-size=\"10.00\">4</text>\n</g>\n<!-- flag_G21 -->\n<g id=\"node23\" class=\"node\">\n<title>flag_G21</title>\n<text text-anchor=\"middle\" x=\"248\" y=\"-14.3\" font-family=\"Times,serif\" font-size=\"14.00\">flag</text>\n</g>\n<!-- SymmetricDifference&#45;&gt;flag_G21 -->\n<g id=\"edge22\" class=\"edge\">\n<title>SymmetricDifference:e-&gt;flag_G21:w</title>\n<path fill=\"none\" stroke=\"black\" d=\"M184,-183C202.05,-183 202.23,-30.64 218.88,-18.74\"/>\n<ellipse fill=\"black\" stroke=\"black\" cx=\"220.06\" cy=\"-18.33\" rx=\"1\" ry=\"1\"/>\n<text text-anchor=\"middle\" x=\"202.5\" y=\"-104\" font-family=\"Times,serif\" font-size=\"10.00\">1</text>\n</g>\n</g>\n</svg>",
          "text/plain": "<IPython.core.display.SVG object>"
         },
         "metadata": {},
         "output_type": "display_data"
        }
       ],
       "tabbable": null,
       "tooltip": null
      }
     },
     "af5c9706baa249cf8511860d6cb88d7c": {
      "model_module": "@jupyter-widgets/controls",
      "model_module_version": "2.0.0",
      "model_name": "HBoxModel",
      "state": {
       "_dom_classes": [],
       "_model_module": "@jupyter-widgets/controls",
       "_model_module_version": "2.0.0",
       "_model_name": "HBoxModel",
       "_view_count": null,
       "_view_module": "@jupyter-widgets/controls",
       "_view_module_version": "2.0.0",
       "_view_name": "HBoxView",
       "box_style": "",
       "children": [
        "IPY_MODEL_7a30578392114849b76db59b189f258d",
        "IPY_MODEL_30c47e01daf24632824d5759a59766d5"
       ],
       "layout": "IPY_MODEL_a47e39539e9d4c919fe3c55f8ddf2f8c",
       "tabbable": null,
       "tooltip": null
      }
     },
     "f45030d93716488d817ef1158ce528a4": {
      "model_module": "@jupyter-widgets/base",
      "model_module_version": "2.0.0",
      "model_name": "LayoutModel",
      "state": {
       "_model_module": "@jupyter-widgets/base",
       "_model_module_version": "2.0.0",
       "_model_name": "LayoutModel",
       "_view_count": null,
       "_view_module": "@jupyter-widgets/base",
       "_view_module_version": "2.0.0",
       "_view_name": "LayoutView",
       "align_content": null,
       "align_items": null,
       "align_self": null,
       "border_bottom": null,
       "border_left": null,
       "border_right": null,
       "border_top": null,
       "bottom": null,
       "display": null,
       "flex": null,
       "flex_flow": null,
       "grid_area": null,
       "grid_auto_columns": null,
       "grid_auto_flow": null,
       "grid_auto_rows": null,
       "grid_column": null,
       "grid_gap": null,
       "grid_row": null,
       "grid_template_areas": null,
       "grid_template_columns": null,
       "grid_template_rows": null,
       "height": null,
       "justify_content": null,
       "justify_items": null,
       "left": null,
       "margin": null,
       "max_height": null,
       "max_width": null,
       "min_height": null,
       "min_width": null,
       "object_fit": null,
       "object_position": null,
       "order": null,
       "overflow": null,
       "padding": null,
       "right": null,
       "top": null,
       "visibility": null,
       "width": null
      }
     }
    },
    "version_major": 2,
    "version_minor": 0
   }
  }
 },
 "nbformat": 4,
 "nbformat_minor": 5
}
