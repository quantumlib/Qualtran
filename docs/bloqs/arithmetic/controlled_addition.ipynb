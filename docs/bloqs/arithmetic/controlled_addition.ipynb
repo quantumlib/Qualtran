{
 "cells": [
  {
   "cell_type": "markdown",
   "id": "064ac84d",
   "metadata": {
    "cq.autogen": "title_cell"
   },
   "source": [
    "# Controlled Addition"
   ]
  },
  {
   "cell_type": "code",
   "execution_count": 1,
   "id": "a283d3fb",
   "metadata": {
    "cq.autogen": "top_imports"
   },
   "outputs": [],
   "source": [
    "from qualtran import Bloq, CompositeBloq, BloqBuilder, Signature, Register\n",
    "from qualtran import QBit, QInt, QUInt, QAny\n",
    "from qualtran.drawing import show_bloq, show_call_graph, show_counts_sigma\n",
    "from typing import *\n",
    "import numpy as np\n",
    "import sympy\n",
    "import cirq"
   ]
  },
  {
   "cell_type": "markdown",
   "id": "d85b6f41",
   "metadata": {
    "cq.autogen": "CAdd.bloq_doc.md"
   },
   "source": [
    "## `CAdd`\n",
    "An n-bit controlled-addition gate.\n",
    "\n",
    "#### Parameters\n",
    " - `a_dtype`: Quantum datatype used to represent the integer a.\n",
    " - `b_dtype`: Quantum datatype used to represent the integer b. Must be large enough to hold the result in the output register of a + b, or else it simply drops the most significant bits. If not specified, b_dtype is set to a_dtype.\n",
    " - `cv`: When controlled=0, this bloq is active when the ctrl register is 0. When controlled=1, this bloq is active when the ctrl register is 1. \n",
    "\n",
    "#### Registers\n",
    " - `ctrl`: the control bit for the addition\n",
    " - `a`: A a_dtype.bitsize-sized input register (register a above).\n",
    " - `b`: A b_dtype.bitsize-sized input/output register (register b above). \n",
    "\n",
    "#### References\n",
    " - [Halving the cost of quantum addition](https://arxiv.org/abs/1709.06648). \n"
   ]
  },
  {
   "cell_type": "code",
   "execution_count": 2,
   "id": "1e441ac2",
   "metadata": {
    "cq.autogen": "CAdd.bloq_doc.py"
   },
   "outputs": [],
   "source": [
    "from qualtran.bloqs.arithmetic import CAdd"
   ]
  },
  {
   "cell_type": "markdown",
   "id": "801cf1e1",
   "metadata": {
    "cq.autogen": "CAdd.example_instances.md"
   },
   "source": [
    "### Example Instances"
   ]
  },
  {
   "cell_type": "code",
   "execution_count": 3,
   "id": "854ba572",
   "metadata": {
    "cq.autogen": "CAdd.cadd_small"
   },
   "outputs": [],
   "source": [
    "cadd_small = CAdd(QUInt(3))"
   ]
  },
  {
   "cell_type": "code",
   "execution_count": 4,
   "id": "0a4d89b2",
   "metadata": {
    "cq.autogen": "CAdd.cadd_large"
   },
   "outputs": [],
   "source": [
    "cadd_large = CAdd(QUInt(1000), QUInt(1000))"
   ]
  },
  {
   "cell_type": "markdown",
   "id": "25c1ed97",
   "metadata": {
    "cq.autogen": "CAdd.graphical_signature.md"
   },
   "source": [
    "#### Graphical Signature"
   ]
  },
  {
   "cell_type": "code",
   "execution_count": 5,
   "id": "03b6c6a6",
   "metadata": {
    "cq.autogen": "CAdd.graphical_signature.py"
   },
   "outputs": [
    {
     "data": {
      "application/vnd.jupyter.widget-view+json": {
       "model_id": "6e572a920b074500aa4c844e5ef7d63e",
       "version_major": 2,
       "version_minor": 0
      },
      "text/plain": [
       "HBox(children=(Output(outputs=({'output_type': 'display_data', 'data': {'text/plain': '<IPython.core.display.M…"
      ]
     },
     "metadata": {},
     "output_type": "display_data"
    }
   ],
   "source": [
    "from qualtran.drawing import show_bloqs\n",
    "show_bloqs([cadd_small, cadd_large],\n",
    "           ['`cadd_small`', '`cadd_large`'])"
   ]
  },
  {
   "cell_type": "markdown",
   "id": "3bd7842e",
   "metadata": {
    "cq.autogen": "CAdd.call_graph.md"
   },
   "source": [
    "### Call Graph"
   ]
  },
  {
   "cell_type": "code",
   "execution_count": 6,
   "id": "80c50e8b",
   "metadata": {
    "cq.autogen": "CAdd.call_graph.py"
   },
   "outputs": [
    {
     "data": {
      "image/svg+xml": [
       "<svg xmlns=\"http://www.w3.org/2000/svg\" xmlns:xlink=\"http://www.w3.org/1999/xlink\" width=\"206pt\" height=\"131pt\" viewBox=\"0.00 0.00 206.00 131.00\">\n",
       "<g id=\"graph0\" class=\"graph\" transform=\"scale(1 1) rotate(0) translate(4 127)\">\n",
       "<title>counts</title>\n",
       "<polygon fill=\"white\" stroke=\"transparent\" points=\"-4,4 -4,-127 202,-127 202,4 -4,4\"/>\n",
       "<!-- b0 -->\n",
       "<g id=\"node1\" class=\"node\">\n",
       "<title>b0</title>\n",
       "<polygon fill=\"none\" stroke=\"black\" points=\"80,-93 80,-116 118,-116 118,-93 80,-93\"/>\n",
       "<text text-anchor=\"start\" x=\"86.5\" y=\"-102\" font-family=\"Times,serif\" font-size=\"10.00\">CAdd</text>\n",
       "</g>\n",
       "<!-- b1 -->\n",
       "<g id=\"node2\" class=\"node\">\n",
       "<title>b1</title>\n",
       "<polygon fill=\"none\" stroke=\"black\" points=\"11,-6 11,-29 43,-29 43,-6 11,-6\"/>\n",
       "<text text-anchor=\"start\" x=\"17.5\" y=\"-15\" font-family=\"Times,serif\" font-size=\"10.00\">And</text>\n",
       "</g>\n",
       "<!-- b0&#45;&gt;b1 -->\n",
       "<g id=\"edge1\" class=\"edge\">\n",
       "<title>b0-&gt;b1</title>\n",
       "<path fill=\"none\" stroke=\"black\" d=\"M84.43,-86.8C73.99,-74.47 59.76,-57.68 48.08,-43.89\"/>\n",
       "<polygon fill=\"black\" stroke=\"black\" points=\"50.68,-41.54 41.55,-36.18 45.34,-46.07 50.68,-41.54\"/>\n",
       "<text text-anchor=\"middle\" x=\"71.5\" y=\"-57.8\" font-family=\"Times,serif\" font-size=\"14.00\">3</text>\n",
       "</g>\n",
       "<!-- b2 -->\n",
       "<g id=\"node3\" class=\"node\">\n",
       "<title>b2</title>\n",
       "<polygon fill=\"none\" stroke=\"black\" points=\"83,-6 83,-29 115,-29 115,-6 83,-6\"/>\n",
       "<text text-anchor=\"start\" x=\"89.5\" y=\"-15\" font-family=\"Times,serif\" font-size=\"10.00\">Add</text>\n",
       "</g>\n",
       "<!-- b0&#45;&gt;b2 -->\n",
       "<g id=\"edge2\" class=\"edge\">\n",
       "<title>b0-&gt;b2</title>\n",
       "<path fill=\"none\" stroke=\"black\" d=\"M99,-86.8C99,-75.16 99,-59.55 99,-46.24\"/>\n",
       "<polygon fill=\"black\" stroke=\"black\" points=\"102.5,-46.18 99,-36.18 95.5,-46.18 102.5,-46.18\"/>\n",
       "<text text-anchor=\"middle\" x=\"102.5\" y=\"-57.8\" font-family=\"Times,serif\" font-size=\"14.00\">1</text>\n",
       "</g>\n",
       "<!-- b3 -->\n",
       "<g id=\"node4\" class=\"node\">\n",
       "<title>b3</title>\n",
       "<polygon fill=\"none\" stroke=\"black\" points=\"153,-6 153,-29 189,-29 189,-6 153,-6\"/>\n",
       "<text text-anchor=\"start\" x=\"159\" y=\"-15\" font-family=\"Times,serif\" font-size=\"10.00\">And†</text>\n",
       "</g>\n",
       "<!-- b0&#45;&gt;b3 -->\n",
       "<g id=\"edge3\" class=\"edge\">\n",
       "<title>b0-&gt;b3</title>\n",
       "<path fill=\"none\" stroke=\"black\" d=\"M113.57,-86.8C124.01,-74.47 138.24,-57.68 149.92,-43.89\"/>\n",
       "<polygon fill=\"black\" stroke=\"black\" points=\"152.66,-46.07 156.45,-36.18 147.32,-41.54 152.66,-46.07\"/>\n",
       "<text text-anchor=\"middle\" x=\"142.5\" y=\"-57.8\" font-family=\"Times,serif\" font-size=\"14.00\">3</text>\n",
       "</g>\n",
       "</g>\n",
       "</svg>"
      ],
      "text/plain": [
       "<IPython.core.display.SVG object>"
      ]
     },
     "metadata": {},
     "output_type": "display_data"
    },
    {
     "data": {
      "text/markdown": [
       "#### Counts totals:\n",
       " - `Add`: 1\n",
       " - `And`: 3\n",
       " - `And†`: 3"
      ],
      "text/plain": [
       "<IPython.core.display.Markdown object>"
      ]
     },
     "metadata": {},
     "output_type": "display_data"
    }
   ],
   "source": [
    "from qualtran.resource_counting.generalizers import ignore_split_join\n",
    "cadd_small_g, cadd_small_sigma = cadd_small.call_graph(max_depth=1, generalizer=ignore_split_join)\n",
    "show_call_graph(cadd_small_g)\n",
    "show_counts_sigma(cadd_small_sigma)"
   ]
  }
 ],
 "metadata": {
  "kernelspec": {
   "display_name": "Python 3",
   "language": "python",
   "name": "python3"
  },
  "language_info": {
   "codemirror_mode": {
    "name": "ipython",
    "version": 3
   },
   "file_extension": ".py",
   "mimetype": "text/x-python",
   "name": "python",
   "nbconvert_exporter": "python",
   "pygments_lexer": "ipython3",
   "version": "3.11.8"
  },
  "widgets": {
   "application/vnd.jupyter.widget-state+json": {
    "state": {
     "3d52303163ed47b7a741067888b7ee0a": {
      "model_module": "@jupyter-widgets/base",
      "model_module_version": "2.0.0",
      "model_name": "LayoutModel",
      "state": {
       "_model_module": "@jupyter-widgets/base",
       "_model_module_version": "2.0.0",
       "_model_name": "LayoutModel",
       "_view_count": null,
       "_view_module": "@jupyter-widgets/base",
       "_view_module_version": "2.0.0",
       "_view_name": "LayoutView",
       "align_content": null,
       "align_items": null,
       "align_self": null,
       "border_bottom": null,
       "border_left": null,
       "border_right": null,
       "border_top": null,
       "bottom": null,
       "display": null,
       "flex": null,
       "flex_flow": null,
       "grid_area": null,
       "grid_auto_columns": null,
       "grid_auto_flow": null,
       "grid_auto_rows": null,
       "grid_column": null,
       "grid_gap": null,
       "grid_row": null,
       "grid_template_areas": null,
       "grid_template_columns": null,
       "grid_template_rows": null,
       "height": null,
       "justify_content": null,
       "justify_items": null,
       "left": null,
       "margin": null,
       "max_height": null,
       "max_width": null,
       "min_height": null,
       "min_width": null,
       "object_fit": null,
       "object_position": null,
       "order": null,
       "overflow": null,
       "padding": null,
       "right": null,
       "top": null,
       "visibility": null,
       "width": null
      }
     },
     "6e572a920b074500aa4c844e5ef7d63e": {
      "model_module": "@jupyter-widgets/controls",
      "model_module_version": "2.0.0",
      "model_name": "HBoxModel",
      "state": {
       "_dom_classes": [],
       "_model_module": "@jupyter-widgets/controls",
       "_model_module_version": "2.0.0",
       "_model_name": "HBoxModel",
       "_view_count": null,
       "_view_module": "@jupyter-widgets/controls",
       "_view_module_version": "2.0.0",
       "_view_name": "HBoxView",
       "box_style": "",
       "children": [
        "IPY_MODEL_833bff5089fc4a3ba71ce5379c6b1490",
        "IPY_MODEL_7afd3dd498b84112897cd373a4982a0f"
       ],
       "layout": "IPY_MODEL_bf1a74a5a6e74d4fb30f697f87641b01",
       "tabbable": null,
       "tooltip": null
      }
     },
     "7afd3dd498b84112897cd373a4982a0f": {
      "model_module": "@jupyter-widgets/output",
      "model_module_version": "1.0.0",
      "model_name": "OutputModel",
      "state": {
       "_dom_classes": [],
       "_model_module": "@jupyter-widgets/output",
       "_model_module_version": "1.0.0",
       "_model_name": "OutputModel",
       "_view_count": null,
       "_view_module": "@jupyter-widgets/output",
       "_view_module_version": "1.0.0",
       "_view_name": "OutputView",
       "layout": "IPY_MODEL_b7510202ad694102ac5f133783525063",
       "msg_id": "",
       "outputs": [
        {
         "data": {
          "text/markdown": "`cadd_large`",
          "text/plain": "<IPython.core.display.Markdown object>"
         },
         "metadata": {},
         "output_type": "display_data"
        },
        {
         "data": {
          "image/svg+xml": "<svg xmlns=\"http://www.w3.org/2000/svg\" xmlns:xlink=\"http://www.w3.org/1999/xlink\" width=\"221pt\" height=\"152pt\" viewBox=\"0.00 0.00 221.00 152.00\">\n<g id=\"graph0\" class=\"graph\" transform=\"scale(1 1) rotate(0) translate(4 148)\">\n<title>my_graph</title>\n<polygon fill=\"white\" stroke=\"transparent\" points=\"-4,4 -4,-148 217,-148 217,4 -4,4\"/>\n<!-- ctrl_G4 -->\n<g id=\"node1\" class=\"node\">\n<title>ctrl_G4</title>\n<text text-anchor=\"middle\" x=\"27\" y=\"-122.3\" font-family=\"Times,serif\" font-size=\"14.00\">ctrl</text>\n</g>\n<!-- CAdd -->\n<g id=\"node4\" class=\"node\">\n<title>CAdd</title>\n<polygon fill=\"none\" stroke=\"black\" points=\"91.5,-104 91.5,-121 122.5,-121 122.5,-104 91.5,-104\"/>\n<text text-anchor=\"start\" x=\"94.5\" y=\"-110\" font-family=\"Times,serif\" font-size=\"10.00\">CAdd</text>\n<polygon fill=\"none\" stroke=\"black\" points=\"91.5,-83 91.5,-104 122.5,-104 122.5,-83 91.5,-83\"/>\n<text text-anchor=\"start\" x=\"97.5\" y=\"-89.8\" font-family=\"Times,serif\" font-size=\"14.00\">ctrl</text>\n<polygon fill=\"none\" stroke=\"black\" points=\"91.5,-62 91.5,-83 122.5,-83 122.5,-62 91.5,-62\"/>\n<text text-anchor=\"start\" x=\"103.5\" y=\"-68.8\" font-family=\"Times,serif\" font-size=\"14.00\">a</text>\n<polygon fill=\"none\" stroke=\"black\" points=\"91.5,-41 91.5,-62 122.5,-62 122.5,-41 91.5,-41\"/>\n<text text-anchor=\"start\" x=\"103.5\" y=\"-47.8\" font-family=\"Times,serif\" font-size=\"14.00\">b</text>\n</g>\n<!-- ctrl_G4&#45;&gt;CAdd -->\n<g id=\"edge1\" class=\"edge\">\n<title>ctrl_G4:e-&gt;CAdd:w</title>\n<path fill=\"none\" stroke=\"black\" d=\"M54,-126C74.89,-126 69.72,-96.45 88.58,-94.14\"/>\n<ellipse fill=\"black\" stroke=\"black\" cx=\"90\" cy=\"-94.06\" rx=\"1\" ry=\"1\"/>\n<text text-anchor=\"middle\" x=\"72.5\" y=\"-113\" font-family=\"Times,serif\" font-size=\"10.00\">1</text>\n</g>\n<!-- a_G5 -->\n<g id=\"node2\" class=\"node\">\n<title>a_G5</title>\n<text text-anchor=\"middle\" x=\"27\" y=\"-68.3\" font-family=\"Times,serif\" font-size=\"14.00\">a</text>\n</g>\n<!-- a_G5&#45;&gt;CAdd -->\n<g id=\"edge2\" class=\"edge\">\n<title>a_G5:e-&gt;CAdd:w</title>\n<path fill=\"none\" stroke=\"black\" d=\"M54,-72C69.67,-72 74.14,-72 88.77,-72\"/>\n<ellipse fill=\"black\" stroke=\"black\" cx=\"90\" cy=\"-72\" rx=\"1\" ry=\"1\"/>\n<text text-anchor=\"middle\" x=\"72.5\" y=\"-75\" font-family=\"Times,serif\" font-size=\"10.00\">1000</text>\n</g>\n<!-- b_G8 -->\n<g id=\"node3\" class=\"node\">\n<title>b_G8</title>\n<text text-anchor=\"middle\" x=\"27\" y=\"-14.3\" font-family=\"Times,serif\" font-size=\"14.00\">b</text>\n</g>\n<!-- b_G8&#45;&gt;CAdd -->\n<g id=\"edge3\" class=\"edge\">\n<title>b_G8:e-&gt;CAdd:w</title>\n<path fill=\"none\" stroke=\"black\" d=\"M54,-18C75.17,-18 69.47,-48.47 88.55,-50.85\"/>\n<ellipse fill=\"black\" stroke=\"black\" cx=\"90\" cy=\"-50.94\" rx=\"1\" ry=\"1\"/>\n<text text-anchor=\"middle\" x=\"72.5\" y=\"-39\" font-family=\"Times,serif\" font-size=\"10.00\">1000</text>\n</g>\n<!-- ctrl_G1 -->\n<g id=\"node5\" class=\"node\">\n<title>ctrl_G1</title>\n<text text-anchor=\"middle\" x=\"186\" y=\"-122.3\" font-family=\"Times,serif\" font-size=\"14.00\">ctrl</text>\n</g>\n<!-- CAdd&#45;&gt;ctrl_G1 -->\n<g id=\"edge4\" class=\"edge\">\n<title>CAdd:e-&gt;ctrl_G1:w</title>\n<path fill=\"none\" stroke=\"black\" d=\"M122,-94C142.89,-94 137.72,-123.55 156.58,-125.86\"/>\n<ellipse fill=\"black\" stroke=\"black\" cx=\"158\" cy=\"-125.94\" rx=\"1\" ry=\"1\"/>\n<text text-anchor=\"middle\" x=\"140.5\" y=\"-113\" font-family=\"Times,serif\" font-size=\"10.00\">1</text>\n</g>\n<!-- a_G7 -->\n<g id=\"node6\" class=\"node\">\n<title>a_G7</title>\n<text text-anchor=\"middle\" x=\"186\" y=\"-68.3\" font-family=\"Times,serif\" font-size=\"14.00\">a</text>\n</g>\n<!-- CAdd&#45;&gt;a_G7 -->\n<g id=\"edge5\" class=\"edge\">\n<title>CAdd:e-&gt;a_G7:w</title>\n<path fill=\"none\" stroke=\"black\" d=\"M122,-72C137.67,-72 142.14,-72 156.77,-72\"/>\n<ellipse fill=\"black\" stroke=\"black\" cx=\"158\" cy=\"-72\" rx=\"1\" ry=\"1\"/>\n<text text-anchor=\"middle\" x=\"140.5\" y=\"-75\" font-family=\"Times,serif\" font-size=\"10.00\">1000</text>\n</g>\n<!-- b_G3 -->\n<g id=\"node7\" class=\"node\">\n<title>b_G3</title>\n<text text-anchor=\"middle\" x=\"186\" y=\"-14.3\" font-family=\"Times,serif\" font-size=\"14.00\">b</text>\n</g>\n<!-- CAdd&#45;&gt;b_G3 -->\n<g id=\"edge6\" class=\"edge\">\n<title>CAdd:e-&gt;b_G3:w</title>\n<path fill=\"none\" stroke=\"black\" d=\"M122,-51C143.17,-51 137.47,-20.53 156.55,-18.15\"/>\n<ellipse fill=\"black\" stroke=\"black\" cx=\"158\" cy=\"-18.06\" rx=\"1\" ry=\"1\"/>\n<text text-anchor=\"middle\" x=\"140.5\" y=\"-39\" font-family=\"Times,serif\" font-size=\"10.00\">1000</text>\n</g>\n</g>\n</svg>",
          "text/plain": "<IPython.core.display.SVG object>"
         },
         "metadata": {},
         "output_type": "display_data"
        }
       ],
       "tabbable": null,
       "tooltip": null
      }
     },
     "833bff5089fc4a3ba71ce5379c6b1490": {
      "model_module": "@jupyter-widgets/output",
      "model_module_version": "1.0.0",
      "model_name": "OutputModel",
      "state": {
       "_dom_classes": [],
       "_model_module": "@jupyter-widgets/output",
       "_model_module_version": "1.0.0",
       "_model_name": "OutputModel",
       "_view_count": null,
       "_view_module": "@jupyter-widgets/output",
       "_view_module_version": "1.0.0",
       "_view_name": "OutputView",
       "layout": "IPY_MODEL_3d52303163ed47b7a741067888b7ee0a",
       "msg_id": "",
       "outputs": [
        {
         "data": {
          "text/markdown": "`cadd_small`",
          "text/plain": "<IPython.core.display.Markdown object>"
         },
         "metadata": {},
         "output_type": "display_data"
        },
        {
         "data": {
          "image/svg+xml": "<svg xmlns=\"http://www.w3.org/2000/svg\" xmlns:xlink=\"http://www.w3.org/1999/xlink\" width=\"221pt\" height=\"152pt\" viewBox=\"0.00 0.00 221.00 152.00\">\n<g id=\"graph0\" class=\"graph\" transform=\"scale(1 1) rotate(0) translate(4 148)\">\n<title>my_graph</title>\n<polygon fill=\"white\" stroke=\"transparent\" points=\"-4,4 -4,-148 217,-148 217,4 -4,4\"/>\n<!-- ctrl_G4 -->\n<g id=\"node1\" class=\"node\">\n<title>ctrl_G4</title>\n<text text-anchor=\"middle\" x=\"27\" y=\"-122.3\" font-family=\"Times,serif\" font-size=\"14.00\">ctrl</text>\n</g>\n<!-- CAdd -->\n<g id=\"node4\" class=\"node\">\n<title>CAdd</title>\n<polygon fill=\"none\" stroke=\"black\" points=\"91.5,-104 91.5,-121 122.5,-121 122.5,-104 91.5,-104\"/>\n<text text-anchor=\"start\" x=\"94.5\" y=\"-110\" font-family=\"Times,serif\" font-size=\"10.00\">CAdd</text>\n<polygon fill=\"none\" stroke=\"black\" points=\"91.5,-83 91.5,-104 122.5,-104 122.5,-83 91.5,-83\"/>\n<text text-anchor=\"start\" x=\"97.5\" y=\"-89.8\" font-family=\"Times,serif\" font-size=\"14.00\">ctrl</text>\n<polygon fill=\"none\" stroke=\"black\" points=\"91.5,-62 91.5,-83 122.5,-83 122.5,-62 91.5,-62\"/>\n<text text-anchor=\"start\" x=\"103.5\" y=\"-68.8\" font-family=\"Times,serif\" font-size=\"14.00\">a</text>\n<polygon fill=\"none\" stroke=\"black\" points=\"91.5,-41 91.5,-62 122.5,-62 122.5,-41 91.5,-41\"/>\n<text text-anchor=\"start\" x=\"103.5\" y=\"-47.8\" font-family=\"Times,serif\" font-size=\"14.00\">b</text>\n</g>\n<!-- ctrl_G4&#45;&gt;CAdd -->\n<g id=\"edge1\" class=\"edge\">\n<title>ctrl_G4:e-&gt;CAdd:w</title>\n<path fill=\"none\" stroke=\"black\" d=\"M54,-126C74.89,-126 69.72,-96.45 88.58,-94.14\"/>\n<ellipse fill=\"black\" stroke=\"black\" cx=\"90\" cy=\"-94.06\" rx=\"1\" ry=\"1\"/>\n<text text-anchor=\"middle\" x=\"72.5\" y=\"-113\" font-family=\"Times,serif\" font-size=\"10.00\">1</text>\n</g>\n<!-- a_G3 -->\n<g id=\"node2\" class=\"node\">\n<title>a_G3</title>\n<text text-anchor=\"middle\" x=\"27\" y=\"-68.3\" font-family=\"Times,serif\" font-size=\"14.00\">a</text>\n</g>\n<!-- a_G3&#45;&gt;CAdd -->\n<g id=\"edge2\" class=\"edge\">\n<title>a_G3:e-&gt;CAdd:w</title>\n<path fill=\"none\" stroke=\"black\" d=\"M54,-72C69.67,-72 74.14,-72 88.77,-72\"/>\n<ellipse fill=\"black\" stroke=\"black\" cx=\"90\" cy=\"-72\" rx=\"1\" ry=\"1\"/>\n<text text-anchor=\"middle\" x=\"72.5\" y=\"-75\" font-family=\"Times,serif\" font-size=\"10.00\">3</text>\n</g>\n<!-- b_G1 -->\n<g id=\"node3\" class=\"node\">\n<title>b_G1</title>\n<text text-anchor=\"middle\" x=\"27\" y=\"-14.3\" font-family=\"Times,serif\" font-size=\"14.00\">b</text>\n</g>\n<!-- b_G1&#45;&gt;CAdd -->\n<g id=\"edge3\" class=\"edge\">\n<title>b_G1:e-&gt;CAdd:w</title>\n<path fill=\"none\" stroke=\"black\" d=\"M54,-18C75.17,-18 69.47,-48.47 88.55,-50.85\"/>\n<ellipse fill=\"black\" stroke=\"black\" cx=\"90\" cy=\"-50.94\" rx=\"1\" ry=\"1\"/>\n<text text-anchor=\"middle\" x=\"72.5\" y=\"-39\" font-family=\"Times,serif\" font-size=\"10.00\">3</text>\n</g>\n<!-- ctrl_G0 -->\n<g id=\"node5\" class=\"node\">\n<title>ctrl_G0</title>\n<text text-anchor=\"middle\" x=\"186\" y=\"-122.3\" font-family=\"Times,serif\" font-size=\"14.00\">ctrl</text>\n</g>\n<!-- CAdd&#45;&gt;ctrl_G0 -->\n<g id=\"edge4\" class=\"edge\">\n<title>CAdd:e-&gt;ctrl_G0:w</title>\n<path fill=\"none\" stroke=\"black\" d=\"M122,-94C142.89,-94 137.72,-123.55 156.58,-125.86\"/>\n<ellipse fill=\"black\" stroke=\"black\" cx=\"158\" cy=\"-125.94\" rx=\"1\" ry=\"1\"/>\n<text text-anchor=\"middle\" x=\"140.5\" y=\"-113\" font-family=\"Times,serif\" font-size=\"10.00\">1</text>\n</g>\n<!-- a_G6 -->\n<g id=\"node6\" class=\"node\">\n<title>a_G6</title>\n<text text-anchor=\"middle\" x=\"186\" y=\"-68.3\" font-family=\"Times,serif\" font-size=\"14.00\">a</text>\n</g>\n<!-- CAdd&#45;&gt;a_G6 -->\n<g id=\"edge5\" class=\"edge\">\n<title>CAdd:e-&gt;a_G6:w</title>\n<path fill=\"none\" stroke=\"black\" d=\"M122,-72C137.67,-72 142.14,-72 156.77,-72\"/>\n<ellipse fill=\"black\" stroke=\"black\" cx=\"158\" cy=\"-72\" rx=\"1\" ry=\"1\"/>\n<text text-anchor=\"middle\" x=\"140.5\" y=\"-75\" font-family=\"Times,serif\" font-size=\"10.00\">3</text>\n</g>\n<!-- b_G2 -->\n<g id=\"node7\" class=\"node\">\n<title>b_G2</title>\n<text text-anchor=\"middle\" x=\"186\" y=\"-14.3\" font-family=\"Times,serif\" font-size=\"14.00\">b</text>\n</g>\n<!-- CAdd&#45;&gt;b_G2 -->\n<g id=\"edge6\" class=\"edge\">\n<title>CAdd:e-&gt;b_G2:w</title>\n<path fill=\"none\" stroke=\"black\" d=\"M122,-51C143.17,-51 137.47,-20.53 156.55,-18.15\"/>\n<ellipse fill=\"black\" stroke=\"black\" cx=\"158\" cy=\"-18.06\" rx=\"1\" ry=\"1\"/>\n<text text-anchor=\"middle\" x=\"140.5\" y=\"-39\" font-family=\"Times,serif\" font-size=\"10.00\">3</text>\n</g>\n</g>\n</svg>",
          "text/plain": "<IPython.core.display.SVG object>"
         },
         "metadata": {},
         "output_type": "display_data"
        }
       ],
       "tabbable": null,
       "tooltip": null
      }
     },
     "b7510202ad694102ac5f133783525063": {
      "model_module": "@jupyter-widgets/base",
      "model_module_version": "2.0.0",
      "model_name": "LayoutModel",
      "state": {
       "_model_module": "@jupyter-widgets/base",
       "_model_module_version": "2.0.0",
       "_model_name": "LayoutModel",
       "_view_count": null,
       "_view_module": "@jupyter-widgets/base",
       "_view_module_version": "2.0.0",
       "_view_name": "LayoutView",
       "align_content": null,
       "align_items": null,
       "align_self": null,
       "border_bottom": null,
       "border_left": null,
       "border_right": null,
       "border_top": null,
       "bottom": null,
       "display": null,
       "flex": null,
       "flex_flow": null,
       "grid_area": null,
       "grid_auto_columns": null,
       "grid_auto_flow": null,
       "grid_auto_rows": null,
       "grid_column": null,
       "grid_gap": null,
       "grid_row": null,
       "grid_template_areas": null,
       "grid_template_columns": null,
       "grid_template_rows": null,
       "height": null,
       "justify_content": null,
       "justify_items": null,
       "left": null,
       "margin": null,
       "max_height": null,
       "max_width": null,
       "min_height": null,
       "min_width": null,
       "object_fit": null,
       "object_position": null,
       "order": null,
       "overflow": null,
       "padding": null,
       "right": null,
       "top": null,
       "visibility": null,
       "width": null
      }
     },
     "bf1a74a5a6e74d4fb30f697f87641b01": {
      "model_module": "@jupyter-widgets/base",
      "model_module_version": "2.0.0",
      "model_name": "LayoutModel",
      "state": {
       "_model_module": "@jupyter-widgets/base",
       "_model_module_version": "2.0.0",
       "_model_name": "LayoutModel",
       "_view_count": null,
       "_view_module": "@jupyter-widgets/base",
       "_view_module_version": "2.0.0",
       "_view_name": "LayoutView",
       "align_content": null,
       "align_items": null,
       "align_self": null,
       "border_bottom": null,
       "border_left": null,
       "border_right": null,
       "border_top": null,
       "bottom": null,
       "display": null,
       "flex": null,
       "flex_flow": null,
       "grid_area": null,
       "grid_auto_columns": null,
       "grid_auto_flow": null,
       "grid_auto_rows": null,
       "grid_column": null,
       "grid_gap": null,
       "grid_row": null,
       "grid_template_areas": null,
       "grid_template_columns": null,
       "grid_template_rows": null,
       "height": null,
       "justify_content": null,
       "justify_items": null,
       "left": null,
       "margin": null,
       "max_height": null,
       "max_width": null,
       "min_height": null,
       "min_width": null,
       "object_fit": null,
       "object_position": null,
       "order": null,
       "overflow": null,
       "padding": null,
       "right": null,
       "top": null,
       "visibility": null,
       "width": null
      }
     }
    },
    "version_major": 2,
    "version_minor": 0
   }
  }
 },
 "nbformat": 4,
 "nbformat_minor": 5
}
