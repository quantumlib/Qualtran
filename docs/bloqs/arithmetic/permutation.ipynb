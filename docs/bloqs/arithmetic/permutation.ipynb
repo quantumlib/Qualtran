{
 "cells": [
  {
   "cell_type": "markdown",
   "id": "a697fa0f",
   "metadata": {
    "cq.autogen": "title_cell"
   },
   "source": [
    "# Permutations"
   ]
  },
  {
   "cell_type": "code",
   "execution_count": 1,
   "id": "f3a56020",
   "metadata": {
    "cq.autogen": "top_imports"
   },
   "outputs": [],
   "source": [
    "from qualtran import Bloq, CompositeBloq, BloqBuilder, Signature, Register\n",
    "from qualtran import QBit, QInt, QUInt, QAny\n",
    "from qualtran.drawing import show_bloq, show_call_graph, show_counts_sigma\n",
    "from typing import *\n",
    "import numpy as np\n",
    "import sympy\n",
    "import cirq"
   ]
  },
  {
   "cell_type": "markdown",
   "id": "39be898d",
   "metadata": {
    "cq.autogen": "Permutation.bloq_doc.md"
   },
   "source": [
    "## `Permutation`\n",
    "Apply a permutation of [0, N - 1] on the basis states.\n",
    "\n",
    "Given a permutation $P : [0, N - 1] \\to [0, N - 1]$, this bloq applies the unitary:\n",
    "\n",
    "$$\n",
    "    U|x\\rangle = |P(x)\\rangle\n",
    "$$\n",
    "\n",
    "Decomposes a permutation into cycles and applies them in order.\n",
    "See :meth:`from_dense_permutation` to construct this bloq from a permutation,\n",
    "and :meth:`from_partial_permutation_map` to construct it from a mapping.\n",
    "\n",
    "#### Parameters\n",
    " - `N`: the total size the permutation acts on.\n",
    " - `cycles`: a sequence of permutation cycles that form the permutation.\n",
    " - `bitsize`: number of bits to store the indices, defaults to $\\ceil(\\log_2(N))$. \n",
    "\n",
    "#### Registers\n",
    " - `x`: integer register storing a value in [0, ..., N - 1] \n",
    "\n",
    "#### References\n",
    " - [A simple quantum algorithm to efficiently prepare sparse states](https://arxiv.org/abs/2310.19309v1). Appendix B.\n"
   ]
  },
  {
   "cell_type": "code",
   "execution_count": 2,
   "id": "88b7712d",
   "metadata": {
    "cq.autogen": "Permutation.bloq_doc.py"
   },
   "outputs": [],
   "source": [
    "from qualtran.bloqs.arithmetic.permutation import Permutation"
   ]
  },
  {
   "cell_type": "markdown",
   "id": "5c4722c6",
   "metadata": {
    "cq.autogen": "Permutation.example_instances.md"
   },
   "source": [
    "### Example Instances"
   ]
  },
  {
   "cell_type": "code",
   "execution_count": 3,
   "id": "8e38bf3a",
   "metadata": {
    "cq.autogen": "Permutation.permutation"
   },
   "outputs": [],
   "source": [
    "permutation = Permutation.from_dense_permutation([1, 3, 0, 2])"
   ]
  },
  {
   "cell_type": "code",
   "execution_count": 4,
   "id": "52218544",
   "metadata": {
    "cq.autogen": "Permutation.permutation_symb"
   },
   "outputs": [],
   "source": [
    "import sympy\n",
    "\n",
    "from qualtran.symbolics import Shaped\n",
    "\n",
    "N, k = sympy.symbols(\"N k\", positive=True, integer=True)\n",
    "permutation_symb = Permutation(N, Shaped((k,)))"
   ]
  },
  {
   "cell_type": "code",
   "execution_count": 5,
   "id": "cb1a6988",
   "metadata": {
    "cq.autogen": "Permutation.permutation_symb_with_cycles"
   },
   "outputs": [],
   "source": [
    "import sympy\n",
    "\n",
    "from qualtran.symbolics import Shaped\n",
    "\n",
    "N = sympy.symbols(\"N\", positive=True, integer=True)\n",
    "n_cycles = 4\n",
    "d = sympy.IndexedBase('d', shape=(n_cycles,))\n",
    "permutation_symb_with_cycles = Permutation(N, tuple(Shaped((d[i],)) for i in range(n_cycles)))"
   ]
  },
  {
   "cell_type": "code",
   "execution_count": 6,
   "id": "f58b58f7",
   "metadata": {
    "cq.autogen": "Permutation.sparse_permutation"
   },
   "outputs": [],
   "source": [
    "sparse_permutation = Permutation.from_partial_permutation_map(\n",
    "    16, {0: 1, 1: 3, 2: 8, 3: 15, 4: 12}\n",
    ")"
   ]
  },
  {
   "cell_type": "code",
   "execution_count": 7,
   "id": "e644f2ac",
   "metadata": {
    "cq.autogen": "Permutation.sparse_permutation_with_symbolic_N"
   },
   "outputs": [],
   "source": [
    "import sympy\n",
    "\n",
    "N = sympy.symbols(\"N\", positive=True, integer=True)\n",
    "sparse_permutation_with_symbolic_N = Permutation.from_partial_permutation_map(\n",
    "    N, {0: 1, 1: 3, 2: 4, 3: 7}\n",
    ")"
   ]
  },
  {
   "cell_type": "markdown",
   "id": "ace174d5",
   "metadata": {
    "cq.autogen": "Permutation.graphical_signature.md"
   },
   "source": [
    "#### Graphical Signature"
   ]
  },
  {
   "cell_type": "code",
   "execution_count": 8,
   "id": "1e55dcd4",
   "metadata": {
    "cq.autogen": "Permutation.graphical_signature.py"
   },
   "outputs": [
    {
     "data": {
      "application/vnd.jupyter.widget-view+json": {
       "model_id": "5b90bc095b5440e29bded655c96636f8",
       "version_major": 2,
       "version_minor": 0
      },
      "text/plain": [
       "HBox(children=(Output(outputs=({'output_type': 'display_data', 'data': {'text/plain': '<IPython.core.display.M…"
      ]
     },
     "metadata": {},
     "output_type": "display_data"
    }
   ],
   "source": [
    "from qualtran.drawing import show_bloqs\n",
    "show_bloqs([permutation, permutation_symb, permutation_symb_with_cycles, sparse_permutation, sparse_permutation_with_symbolic_N],\n",
    "           ['`permutation`', '`permutation_symb`', '`permutation_symb_with_cycles`', '`sparse_permutation`', '`sparse_permutation_with_symbolic_N`'])"
   ]
  },
  {
   "cell_type": "markdown",
   "id": "32e2b5dd",
   "metadata": {
    "cq.autogen": "Permutation.call_graph.md"
   },
   "source": [
    "### Call Graph"
   ]
  },
  {
   "cell_type": "code",
   "execution_count": 9,
   "id": "fab3fd69",
   "metadata": {
    "cq.autogen": "Permutation.call_graph.py"
   },
   "outputs": [
    {
     "data": {
      "image/svg+xml": [
       "<svg xmlns=\"http://www.w3.org/2000/svg\" xmlns:xlink=\"http://www.w3.org/1999/xlink\" width=\"110pt\" height=\"131pt\" viewBox=\"0.00 0.00 110.00 131.00\">\n",
       "<g id=\"graph0\" class=\"graph\" transform=\"scale(1 1) rotate(0) translate(4 127)\">\n",
       "<title>counts</title>\n",
       "<polygon fill=\"white\" stroke=\"transparent\" points=\"-4,4 -4,-127 106,-127 106,4 -4,4\"/>\n",
       "<!-- b0 -->\n",
       "<g id=\"node1\" class=\"node\">\n",
       "<title>b0</title>\n",
       "<polygon fill=\"none\" stroke=\"black\" points=\"20,-93 20,-116 82,-116 82,-93 20,-93\"/>\n",
       "<text text-anchor=\"start\" x=\"26\" y=\"-102\" font-family=\"Times,serif\" font-size=\"10.00\">Permutation</text>\n",
       "</g>\n",
       "<!-- b1 -->\n",
       "<g id=\"node2\" class=\"node\">\n",
       "<title>b1</title>\n",
       "<polygon fill=\"none\" stroke=\"black\" points=\"8,-6 8,-29 94,-29 94,-6 8,-6\"/>\n",
       "<text text-anchor=\"start\" x=\"14\" y=\"-15\" font-family=\"Times,serif\" font-size=\"10.00\">PermutationCycle</text>\n",
       "</g>\n",
       "<!-- b0&#45;&gt;b1 -->\n",
       "<g id=\"edge1\" class=\"edge\">\n",
       "<title>b0-&gt;b1</title>\n",
       "<path fill=\"none\" stroke=\"black\" d=\"M51,-86.8C51,-75.16 51,-59.55 51,-46.24\"/>\n",
       "<polygon fill=\"black\" stroke=\"black\" points=\"54.5,-46.18 51,-36.18 47.5,-46.18 54.5,-46.18\"/>\n",
       "<text text-anchor=\"middle\" x=\"54.5\" y=\"-57.8\" font-family=\"Times,serif\" font-size=\"14.00\">1</text>\n",
       "</g>\n",
       "</g>\n",
       "</svg>"
      ],
      "text/plain": [
       "<IPython.core.display.SVG object>"
      ]
     },
     "metadata": {},
     "output_type": "display_data"
    },
    {
     "data": {
      "text/markdown": [
       "#### Counts totals:\n",
       " - `PermutationCycle`: 1"
      ],
      "text/plain": [
       "<IPython.core.display.Markdown object>"
      ]
     },
     "metadata": {},
     "output_type": "display_data"
    }
   ],
   "source": [
    "from qualtran.resource_counting.generalizers import ignore_split_join\n",
    "permutation_g, permutation_sigma = permutation.call_graph(max_depth=1, generalizer=ignore_split_join)\n",
    "show_call_graph(permutation_g)\n",
    "show_counts_sigma(permutation_sigma)"
   ]
  },
  {
   "cell_type": "markdown",
   "id": "408e209c",
   "metadata": {
    "cq.autogen": "PermutationCycle.bloq_doc.md"
   },
   "source": [
    "## `PermutationCycle`\n",
    "Apply a single permutation cycle on the basis states.\n",
    "\n",
    "Given a permutation cycle $C = (v_0 v_2 \\ldots v_{k - 1})$, applies the following unitary:\n",
    "\n",
    "    $$\n",
    "        U|v_i\\rangle \\mapsto |v_{(i + 1)\\mod k}\\rangle\n",
    "    $$\n",
    "\n",
    "for each $i \\in [0, k)$, and\n",
    "\n",
    "    $$\n",
    "        U|x\\rangle \\mapsto |x\\rangle\n",
    "    $$\n",
    "\n",
    "and for every $x \\not\\in C$.\n",
    "\n",
    "#### Parameters\n",
    " - `N`: the total size the permutation acts on.\n",
    " - `cycle`: the permutation cycle to apply.\n",
    " - `bitsize`: number of bits to store the indices, defaults to $\\ceil(\\log_2(N))$. \n",
    "\n",
    "#### Registers\n",
    " - `x`: integer register storing a value in [0, ..., N - 1] \n",
    "\n",
    "#### References\n",
    " - [A simple quantum algorithm to efficiently prepare sparse states](https://arxiv.org/abs/2310.19309v1). Appendix B, Algorithm 7.\n"
   ]
  },
  {
   "cell_type": "code",
   "execution_count": 10,
   "id": "bc68fccd",
   "metadata": {
    "cq.autogen": "PermutationCycle.bloq_doc.py"
   },
   "outputs": [],
   "source": [
    "from qualtran.bloqs.arithmetic.permutation import PermutationCycle"
   ]
  },
  {
   "cell_type": "markdown",
   "id": "de4c7922",
   "metadata": {
    "cq.autogen": "PermutationCycle.example_instances.md"
   },
   "source": [
    "### Example Instances"
   ]
  },
  {
   "cell_type": "code",
   "execution_count": 11,
   "id": "071de1e1",
   "metadata": {
    "cq.autogen": "PermutationCycle.permutation_cycle_symb_N"
   },
   "outputs": [],
   "source": [
    "import sympy\n",
    "\n",
    "N = sympy.symbols(\"n\", positive=True, integer=True)\n",
    "cycle = (3, 1, 2)\n",
    "permutation_cycle_symb_N = PermutationCycle(N, cycle)"
   ]
  },
  {
   "cell_type": "code",
   "execution_count": 12,
   "id": "fd61e92a",
   "metadata": {
    "cq.autogen": "PermutationCycle.permutation_cycle_symb"
   },
   "outputs": [],
   "source": [
    "import sympy\n",
    "\n",
    "from qualtran.symbolics import Shaped\n",
    "\n",
    "N, L = sympy.symbols(\"N L\", positive=True, integer=True)\n",
    "cycle = Shaped((L,))\n",
    "permutation_cycle_symb = PermutationCycle(N, cycle)"
   ]
  },
  {
   "cell_type": "code",
   "execution_count": 13,
   "id": "b818f3b1",
   "metadata": {
    "cq.autogen": "PermutationCycle.permutation_cycle"
   },
   "outputs": [],
   "source": [
    "permutation_cycle = PermutationCycle(4, (0, 1, 2))"
   ]
  },
  {
   "cell_type": "markdown",
   "id": "3d3c3e1b",
   "metadata": {
    "cq.autogen": "PermutationCycle.graphical_signature.md"
   },
   "source": [
    "#### Graphical Signature"
   ]
  },
  {
   "cell_type": "code",
   "execution_count": 14,
   "id": "de967993",
   "metadata": {
    "cq.autogen": "PermutationCycle.graphical_signature.py"
   },
   "outputs": [
    {
     "data": {
      "application/vnd.jupyter.widget-view+json": {
       "model_id": "c81f413b47a548b5a2d9dfad6c4bfcbb",
       "version_major": 2,
       "version_minor": 0
      },
      "text/plain": [
       "HBox(children=(Output(outputs=({'output_type': 'display_data', 'data': {'text/plain': '<IPython.core.display.M…"
      ]
     },
     "metadata": {},
     "output_type": "display_data"
    }
   ],
   "source": [
    "from qualtran.drawing import show_bloqs\n",
    "show_bloqs([permutation_cycle_symb_N, permutation_cycle_symb, permutation_cycle],\n",
    "           ['`permutation_cycle_symb_N`', '`permutation_cycle_symb`', '`permutation_cycle`'])"
   ]
  },
  {
   "cell_type": "markdown",
   "id": "58deda5c",
   "metadata": {
    "cq.autogen": "PermutationCycle.call_graph.md"
   },
   "source": [
    "### Call Graph"
   ]
  },
  {
   "cell_type": "code",
   "execution_count": 15,
   "id": "ec16903f",
   "metadata": {
    "cq.autogen": "PermutationCycle.call_graph.py"
   },
   "outputs": [
    {
     "data": {
      "image/svg+xml": [
       "<svg xmlns=\"http://www.w3.org/2000/svg\" xmlns:xlink=\"http://www.w3.org/1999/xlink\" width=\"756pt\" height=\"131pt\" viewBox=\"0.00 0.00 756.00 131.00\">\n",
       "<g id=\"graph0\" class=\"graph\" transform=\"scale(1 1) rotate(0) translate(4 127)\">\n",
       "<title>counts</title>\n",
       "<polygon fill=\"white\" stroke=\"transparent\" points=\"-4,4 -4,-127 752,-127 752,4 -4,4\"/>\n",
       "<!-- b0 -->\n",
       "<g id=\"node1\" class=\"node\">\n",
       "<title>b0</title>\n",
       "<polygon fill=\"none\" stroke=\"black\" points=\"343,-93 343,-116 429,-116 429,-93 343,-93\"/>\n",
       "<text text-anchor=\"start\" x=\"349\" y=\"-102\" font-family=\"Times,serif\" font-size=\"10.00\">PermutationCycle</text>\n",
       "</g>\n",
       "<!-- b1 -->\n",
       "<g id=\"node2\" class=\"node\">\n",
       "<title>b1</title>\n",
       "<polygon fill=\"none\" stroke=\"black\" points=\"12,-6 12,-29 42,-29 42,-6 12,-6\"/>\n",
       "<text text-anchor=\"start\" x=\"18\" y=\"-15\" font-family=\"Times,serif\" font-size=\"10.00\">Free</text>\n",
       "</g>\n",
       "<!-- b0&#45;&gt;b1 -->\n",
       "<g id=\"edge1\" class=\"edge\">\n",
       "<title>b0-&gt;b1</title>\n",
       "<path fill=\"none\" stroke=\"black\" d=\"M334.95,-97.03C272.46,-87.67 163.63,-68.69 63.87,-35.89\"/>\n",
       "<polygon fill=\"black\" stroke=\"black\" points=\"64.84,-32.52 54.24,-32.67 62.62,-39.16 64.84,-32.52\"/>\n",
       "<text text-anchor=\"middle\" x=\"180.5\" y=\"-57.8\" font-family=\"Times,serif\" font-size=\"14.00\">1</text>\n",
       "</g>\n",
       "<!-- b2 -->\n",
       "<g id=\"node3\" class=\"node\">\n",
       "<title>b2</title>\n",
       "<polygon fill=\"none\" stroke=\"black\" points=\"80,-6 80,-29 166,-29 166,-6 80,-6\"/>\n",
       "<text text-anchor=\"start\" x=\"86.5\" y=\"-15\" font-family=\"Times,serif\" font-size=\"10.00\">EqualsAConstant</text>\n",
       "</g>\n",
       "<!-- b0&#45;&gt;b2 -->\n",
       "<g id=\"edge2\" class=\"edge\">\n",
       "<title>b0-&gt;b2</title>\n",
       "<path fill=\"none\" stroke=\"black\" d=\"M334.98,-87.51C291.75,-73.54 229.66,-53.47 183.84,-38.66\"/>\n",
       "<polygon fill=\"black\" stroke=\"black\" points=\"184.92,-35.33 174.33,-35.59 182.77,-41.99 184.92,-35.33\"/>\n",
       "<text text-anchor=\"middle\" x=\"274.5\" y=\"-57.8\" font-family=\"Times,serif\" font-size=\"14.00\">2</text>\n",
       "</g>\n",
       "<!-- b3 -->\n",
       "<g id=\"node4\" class=\"node\">\n",
       "<title>b3</title>\n",
       "<polygon fill=\"none\" stroke=\"black\" points=\"200,-6 200,-29 286,-29 286,-6 200,-6\"/>\n",
       "<text text-anchor=\"start\" x=\"206.5\" y=\"-15\" font-family=\"Times,serif\" font-size=\"10.00\">EqualsAConstant</text>\n",
       "</g>\n",
       "<!-- b0&#45;&gt;b3 -->\n",
       "<g id=\"edge3\" class=\"edge\">\n",
       "<title>b0-&gt;b3</title>\n",
       "<path fill=\"none\" stroke=\"black\" d=\"M357.06,-86.8C335.06,-73.72 304.61,-55.62 280.71,-41.41\"/>\n",
       "<polygon fill=\"black\" stroke=\"black\" points=\"282.28,-38.28 271.9,-36.18 278.7,-44.29 282.28,-38.28\"/>\n",
       "<text text-anchor=\"middle\" x=\"327.5\" y=\"-57.8\" font-family=\"Times,serif\" font-size=\"14.00\">1</text>\n",
       "</g>\n",
       "<!-- b4 -->\n",
       "<g id=\"node5\" class=\"node\">\n",
       "<title>b4</title>\n",
       "<polygon fill=\"none\" stroke=\"black\" points=\"320,-6 320,-29 370,-29 370,-6 320,-6\"/>\n",
       "<text text-anchor=\"start\" x=\"326.5\" y=\"-15\" font-family=\"Times,serif\" font-size=\"10.00\">C[XorK]</text>\n",
       "</g>\n",
       "<!-- b0&#45;&gt;b4 -->\n",
       "<g id=\"edge4\" class=\"edge\">\n",
       "<title>b0-&gt;b4</title>\n",
       "<path fill=\"none\" stroke=\"black\" d=\"M377.7,-86.8C371.98,-74.93 364.26,-58.93 357.76,-45.45\"/>\n",
       "<polygon fill=\"black\" stroke=\"black\" points=\"360.78,-43.66 353.28,-36.18 354.48,-46.7 360.78,-43.66\"/>\n",
       "<text text-anchor=\"middle\" x=\"371.5\" y=\"-57.8\" font-family=\"Times,serif\" font-size=\"14.00\">1</text>\n",
       "</g>\n",
       "<!-- b5 -->\n",
       "<g id=\"node6\" class=\"node\">\n",
       "<title>b5</title>\n",
       "<polygon fill=\"none\" stroke=\"black\" points=\"404,-6 404,-29 452,-29 452,-6 404,-6\"/>\n",
       "<text text-anchor=\"start\" x=\"410\" y=\"-15\" font-family=\"Times,serif\" font-size=\"10.00\">Allocate</text>\n",
       "</g>\n",
       "<!-- b0&#45;&gt;b5 -->\n",
       "<g id=\"edge5\" class=\"edge\">\n",
       "<title>b0-&gt;b5</title>\n",
       "<path fill=\"none\" stroke=\"black\" d=\"M394.5,-86.8C400.36,-74.93 408.27,-58.93 414.93,-45.45\"/>\n",
       "<polygon fill=\"black\" stroke=\"black\" points=\"418.22,-46.69 419.51,-36.18 411.95,-43.59 418.22,-46.69\"/>\n",
       "<text text-anchor=\"middle\" x=\"413.5\" y=\"-57.8\" font-family=\"Times,serif\" font-size=\"14.00\">1</text>\n",
       "</g>\n",
       "<!-- b6 -->\n",
       "<g id=\"node7\" class=\"node\">\n",
       "<title>b6</title>\n",
       "<polygon fill=\"none\" stroke=\"black\" points=\"486,-6 486,-29 536,-29 536,-6 486,-6\"/>\n",
       "<text text-anchor=\"start\" x=\"492.5\" y=\"-15\" font-family=\"Times,serif\" font-size=\"10.00\">C[XorK]</text>\n",
       "</g>\n",
       "<!-- b0&#45;&gt;b6 -->\n",
       "<g id=\"edge6\" class=\"edge\">\n",
       "<title>b0-&gt;b6</title>\n",
       "<path fill=\"none\" stroke=\"black\" d=\"M411.3,-86.8C430.27,-73.9 456.44,-56.1 477.21,-41.98\"/>\n",
       "<polygon fill=\"black\" stroke=\"black\" points=\"479.44,-44.69 485.74,-36.18 475.5,-38.9 479.44,-44.69\"/>\n",
       "<text text-anchor=\"middle\" x=\"459.5\" y=\"-57.8\" font-family=\"Times,serif\" font-size=\"14.00\">1</text>\n",
       "</g>\n",
       "<!-- b7 -->\n",
       "<g id=\"node8\" class=\"node\">\n",
       "<title>b7</title>\n",
       "<polygon fill=\"none\" stroke=\"black\" points=\"570,-6 570,-29 620,-29 620,-6 570,-6\"/>\n",
       "<text text-anchor=\"start\" x=\"576.5\" y=\"-15\" font-family=\"Times,serif\" font-size=\"10.00\">C[XorK]</text>\n",
       "</g>\n",
       "<!-- b0&#45;&gt;b7 -->\n",
       "<g id=\"edge7\" class=\"edge\">\n",
       "<title>b0-&gt;b7</title>\n",
       "<path fill=\"none\" stroke=\"black\" d=\"M428.04,-86.9C464.26,-72.17 516.29,-51.01 552.61,-36.24\"/>\n",
       "<polygon fill=\"black\" stroke=\"black\" points=\"554,-39.45 561.95,-32.44 551.37,-32.97 554,-39.45\"/>\n",
       "<text text-anchor=\"middle\" x=\"506.5\" y=\"-57.8\" font-family=\"Times,serif\" font-size=\"14.00\">1</text>\n",
       "</g>\n",
       "<!-- b8 -->\n",
       "<g id=\"node9\" class=\"node\">\n",
       "<title>b8</title>\n",
       "<polygon fill=\"none\" stroke=\"black\" points=\"654,-6 654,-29 740,-29 740,-6 654,-6\"/>\n",
       "<text text-anchor=\"start\" x=\"660.5\" y=\"-15\" font-family=\"Times,serif\" font-size=\"10.00\">EqualsAConstant</text>\n",
       "</g>\n",
       "<!-- b0&#45;&gt;b8 -->\n",
       "<g id=\"edge8\" class=\"edge\">\n",
       "<title>b0-&gt;b8</title>\n",
       "<path fill=\"none\" stroke=\"black\" d=\"M437,-90.37C485.57,-77.34 561,-57.01 635.87,-36.3\"/>\n",
       "<polygon fill=\"black\" stroke=\"black\" points=\"637.25,-39.55 645.95,-33.51 635.38,-32.8 637.25,-39.55\"/>\n",
       "<text text-anchor=\"middle\" x=\"571.5\" y=\"-57.8\" font-family=\"Times,serif\" font-size=\"14.00\">1</text>\n",
       "</g>\n",
       "</g>\n",
       "</svg>"
      ],
      "text/plain": [
       "<IPython.core.display.SVG object>"
      ]
     },
     "metadata": {},
     "output_type": "display_data"
    },
    {
     "data": {
      "text/markdown": [
       "#### Counts totals:\n",
       " - `Allocate`: 1\n",
       " - `C[XorK]`: 1\n",
       " - `C[XorK]`: 1\n",
       " - `C[XorK]`: 1\n",
       " - `EqualsAConstant`: 1\n",
       " - `EqualsAConstant`: 1\n",
       " - `EqualsAConstant`: 2\n",
       " - `Free`: 1"
      ],
      "text/plain": [
       "<IPython.core.display.Markdown object>"
      ]
     },
     "metadata": {},
     "output_type": "display_data"
    }
   ],
   "source": [
    "from qualtran.resource_counting.generalizers import ignore_split_join\n",
    "permutation_cycle_symb_N_g, permutation_cycle_symb_N_sigma = permutation_cycle_symb_N.call_graph(max_depth=1, generalizer=ignore_split_join)\n",
    "show_call_graph(permutation_cycle_symb_N_g)\n",
    "show_counts_sigma(permutation_cycle_symb_N_sigma)"
   ]
  }
 ],
 "metadata": {
  "kernelspec": {
   "display_name": "Python 3",
   "language": "python",
   "name": "python3"
  },
  "language_info": {
   "codemirror_mode": {
    "name": "ipython",
    "version": 3
   },
   "file_extension": ".py",
   "mimetype": "text/x-python",
   "name": "python",
   "nbconvert_exporter": "python",
   "pygments_lexer": "ipython3",
   "version": "3.11.8"
  },
  "widgets": {
   "application/vnd.jupyter.widget-state+json": {
    "state": {
     "211a0d1e07c148f3b1266f6e6f51fe2d": {
      "model_module": "@jupyter-widgets/base",
      "model_module_version": "2.0.0",
      "model_name": "LayoutModel",
      "state": {
       "_model_module": "@jupyter-widgets/base",
       "_model_module_version": "2.0.0",
       "_model_name": "LayoutModel",
       "_view_count": null,
       "_view_module": "@jupyter-widgets/base",
       "_view_module_version": "2.0.0",
       "_view_name": "LayoutView",
       "align_content": null,
       "align_items": null,
       "align_self": null,
       "border_bottom": null,
       "border_left": null,
       "border_right": null,
       "border_top": null,
       "bottom": null,
       "display": null,
       "flex": null,
       "flex_flow": null,
       "grid_area": null,
       "grid_auto_columns": null,
       "grid_auto_flow": null,
       "grid_auto_rows": null,
       "grid_column": null,
       "grid_gap": null,
       "grid_row": null,
       "grid_template_areas": null,
       "grid_template_columns": null,
       "grid_template_rows": null,
       "height": null,
       "justify_content": null,
       "justify_items": null,
       "left": null,
       "margin": null,
       "max_height": null,
       "max_width": null,
       "min_height": null,
       "min_width": null,
       "object_fit": null,
       "object_position": null,
       "order": null,
       "overflow": null,
       "padding": null,
       "right": null,
       "top": null,
       "visibility": null,
       "width": null
      }
     },
     "23a344cae78d4ee087a0c913e51d2caa": {
      "model_module": "@jupyter-widgets/output",
      "model_module_version": "1.0.0",
      "model_name": "OutputModel",
      "state": {
       "_dom_classes": [],
       "_model_module": "@jupyter-widgets/output",
       "_model_module_version": "1.0.0",
       "_model_name": "OutputModel",
       "_view_count": null,
       "_view_module": "@jupyter-widgets/output",
       "_view_module_version": "1.0.0",
       "_view_name": "OutputView",
       "layout": "IPY_MODEL_c9503ed476e94c09a04a3589d754c6b3",
       "msg_id": "",
       "outputs": [
        {
         "data": {
          "text/markdown": "`permutation_cycle_symb`",
          "text/plain": "<IPython.core.display.Markdown object>"
         },
         "metadata": {},
         "output_type": "display_data"
        },
        {
         "data": {
          "image/svg+xml": "<svg xmlns=\"http://www.w3.org/2000/svg\" xmlns:xlink=\"http://www.w3.org/1999/xlink\" width=\"270pt\" height=\"54pt\" viewBox=\"0.00 0.00 270.00 54.00\">\n<g id=\"graph0\" class=\"graph\" transform=\"scale(1 1) rotate(0) translate(4 50)\">\n<title>my_graph</title>\n<polygon fill=\"white\" stroke=\"transparent\" points=\"-4,4 -4,-50 266,-50 266,4 -4,4\"/>\n<!-- x_G2 -->\n<g id=\"node1\" class=\"node\">\n<title>x_G2</title>\n<text text-anchor=\"middle\" x=\"27\" y=\"-14.3\" font-family=\"Times,serif\" font-size=\"14.00\">x</text>\n</g>\n<!-- PermutationCycle -->\n<g id=\"node2\" class=\"node\">\n<title>PermutationCycle</title>\n<polygon fill=\"none\" stroke=\"black\" points=\"91,-29 91,-46 171,-46 171,-29 91,-29\"/>\n<text text-anchor=\"start\" x=\"94\" y=\"-35\" font-family=\"Times,serif\" font-size=\"10.00\">PermutationCycle</text>\n<polygon fill=\"none\" stroke=\"black\" points=\"91,-8 91,-29 171,-29 171,-8 91,-8\"/>\n<text text-anchor=\"start\" x=\"127.5\" y=\"-14.8\" font-family=\"Times,serif\" font-size=\"14.00\">x</text>\n</g>\n<!-- x_G2&#45;&gt;PermutationCycle -->\n<g id=\"edge1\" class=\"edge\">\n<title>x_G2:e-&gt;PermutationCycle:w</title>\n<path fill=\"none\" stroke=\"black\" d=\"M54,-18C69.67,-18 74.14,-18 88.77,-18\"/>\n<ellipse fill=\"black\" stroke=\"black\" cx=\"90\" cy=\"-18\" rx=\"1\" ry=\"1\"/>\n<text text-anchor=\"middle\" x=\"72.5\" y=\"-21\" font-family=\"Times,serif\" font-size=\"10.00\">ceiling(log2(N))</text>\n</g>\n<!-- x_G0 -->\n<g id=\"node3\" class=\"node\">\n<title>x_G0</title>\n<text text-anchor=\"middle\" x=\"235\" y=\"-14.3\" font-family=\"Times,serif\" font-size=\"14.00\">x</text>\n</g>\n<!-- PermutationCycle&#45;&gt;x_G0 -->\n<g id=\"edge2\" class=\"edge\">\n<title>PermutationCycle:e-&gt;x_G0:w</title>\n<path fill=\"none\" stroke=\"black\" d=\"M171,-18C186.67,-18 191.14,-18 205.77,-18\"/>\n<ellipse fill=\"black\" stroke=\"black\" cx=\"207\" cy=\"-18\" rx=\"1\" ry=\"1\"/>\n<text text-anchor=\"middle\" x=\"189.5\" y=\"-21\" font-family=\"Times,serif\" font-size=\"10.00\">ceiling(log2(N))</text>\n</g>\n</g>\n</svg>",
          "text/plain": "<IPython.core.display.SVG object>"
         },
         "metadata": {},
         "output_type": "display_data"
        }
       ],
       "tabbable": null,
       "tooltip": null
      }
     },
     "251638194cfd4037a00e25dba9c6bcfe": {
      "model_module": "@jupyter-widgets/output",
      "model_module_version": "1.0.0",
      "model_name": "OutputModel",
      "state": {
       "_dom_classes": [],
       "_model_module": "@jupyter-widgets/output",
       "_model_module_version": "1.0.0",
       "_model_name": "OutputModel",
       "_view_count": null,
       "_view_module": "@jupyter-widgets/output",
       "_view_module_version": "1.0.0",
       "_view_name": "OutputView",
       "layout": "IPY_MODEL_4db4517a96084dc68a3974d400f8fcc6",
       "msg_id": "",
       "outputs": [
        {
         "data": {
          "text/markdown": "`permutation_symb`",
          "text/plain": "<IPython.core.display.Markdown object>"
         },
         "metadata": {},
         "output_type": "display_data"
        },
        {
         "data": {
          "image/svg+xml": "<svg xmlns=\"http://www.w3.org/2000/svg\" xmlns:xlink=\"http://www.w3.org/1999/xlink\" width=\"246pt\" height=\"54pt\" viewBox=\"0.00 0.00 246.00 54.00\">\n<g id=\"graph0\" class=\"graph\" transform=\"scale(1 1) rotate(0) translate(4 50)\">\n<title>my_graph</title>\n<polygon fill=\"white\" stroke=\"transparent\" points=\"-4,4 -4,-50 242,-50 242,4 -4,4\"/>\n<!-- x_G1 -->\n<g id=\"node1\" class=\"node\">\n<title>x_G1</title>\n<text text-anchor=\"middle\" x=\"27\" y=\"-14.3\" font-family=\"Times,serif\" font-size=\"14.00\">x</text>\n</g>\n<!-- Permutation -->\n<g id=\"node2\" class=\"node\">\n<title>Permutation</title>\n<polygon fill=\"none\" stroke=\"black\" points=\"91,-29 91,-46 147,-46 147,-29 91,-29\"/>\n<text text-anchor=\"start\" x=\"94\" y=\"-35\" font-family=\"Times,serif\" font-size=\"10.00\">Permutation</text>\n<polygon fill=\"none\" stroke=\"black\" points=\"91,-8 91,-29 147,-29 147,-8 91,-8\"/>\n<text text-anchor=\"start\" x=\"115.5\" y=\"-14.8\" font-family=\"Times,serif\" font-size=\"14.00\">x</text>\n</g>\n<!-- x_G1&#45;&gt;Permutation -->\n<g id=\"edge1\" class=\"edge\">\n<title>x_G1:e-&gt;Permutation:w</title>\n<path fill=\"none\" stroke=\"black\" d=\"M54,-18C69.67,-18 74.14,-18 88.77,-18\"/>\n<ellipse fill=\"black\" stroke=\"black\" cx=\"90\" cy=\"-18\" rx=\"1\" ry=\"1\"/>\n<text text-anchor=\"middle\" x=\"72.5\" y=\"-21\" font-family=\"Times,serif\" font-size=\"10.00\">ceiling(log2(N))</text>\n</g>\n<!-- x_G0 -->\n<g id=\"node3\" class=\"node\">\n<title>x_G0</title>\n<text text-anchor=\"middle\" x=\"211\" y=\"-14.3\" font-family=\"Times,serif\" font-size=\"14.00\">x</text>\n</g>\n<!-- Permutation&#45;&gt;x_G0 -->\n<g id=\"edge2\" class=\"edge\">\n<title>Permutation:e-&gt;x_G0:w</title>\n<path fill=\"none\" stroke=\"black\" d=\"M147,-18C162.67,-18 167.14,-18 181.77,-18\"/>\n<ellipse fill=\"black\" stroke=\"black\" cx=\"183\" cy=\"-18\" rx=\"1\" ry=\"1\"/>\n<text text-anchor=\"middle\" x=\"165.5\" y=\"-21\" font-family=\"Times,serif\" font-size=\"10.00\">ceiling(log2(N))</text>\n</g>\n</g>\n</svg>",
          "text/plain": "<IPython.core.display.SVG object>"
         },
         "metadata": {},
         "output_type": "display_data"
        }
       ],
       "tabbable": null,
       "tooltip": null
      }
     },
     "4213bf6ab37a402196b171c16a93acba": {
      "model_module": "@jupyter-widgets/output",
      "model_module_version": "1.0.0",
      "model_name": "OutputModel",
      "state": {
       "_dom_classes": [],
       "_model_module": "@jupyter-widgets/output",
       "_model_module_version": "1.0.0",
       "_model_name": "OutputModel",
       "_view_count": null,
       "_view_module": "@jupyter-widgets/output",
       "_view_module_version": "1.0.0",
       "_view_name": "OutputView",
       "layout": "IPY_MODEL_863f712612ec4a95a3cd21c69d19fdfc",
       "msg_id": "",
       "outputs": [
        {
         "data": {
          "text/markdown": "`permutation_cycle_symb_N`",
          "text/plain": "<IPython.core.display.Markdown object>"
         },
         "metadata": {},
         "output_type": "display_data"
        },
        {
         "data": {
          "image/svg+xml": "<svg xmlns=\"http://www.w3.org/2000/svg\" xmlns:xlink=\"http://www.w3.org/1999/xlink\" width=\"270pt\" height=\"54pt\" viewBox=\"0.00 0.00 270.00 54.00\">\n<g id=\"graph0\" class=\"graph\" transform=\"scale(1 1) rotate(0) translate(4 50)\">\n<title>my_graph</title>\n<polygon fill=\"white\" stroke=\"transparent\" points=\"-4,4 -4,-50 266,-50 266,4 -4,4\"/>\n<!-- x_G2 -->\n<g id=\"node1\" class=\"node\">\n<title>x_G2</title>\n<text text-anchor=\"middle\" x=\"27\" y=\"-14.3\" font-family=\"Times,serif\" font-size=\"14.00\">x</text>\n</g>\n<!-- PermutationCycle -->\n<g id=\"node2\" class=\"node\">\n<title>PermutationCycle</title>\n<polygon fill=\"none\" stroke=\"black\" points=\"91,-29 91,-46 171,-46 171,-29 91,-29\"/>\n<text text-anchor=\"start\" x=\"94\" y=\"-35\" font-family=\"Times,serif\" font-size=\"10.00\">PermutationCycle</text>\n<polygon fill=\"none\" stroke=\"black\" points=\"91,-8 91,-29 171,-29 171,-8 91,-8\"/>\n<text text-anchor=\"start\" x=\"127.5\" y=\"-14.8\" font-family=\"Times,serif\" font-size=\"14.00\">x</text>\n</g>\n<!-- x_G2&#45;&gt;PermutationCycle -->\n<g id=\"edge1\" class=\"edge\">\n<title>x_G2:e-&gt;PermutationCycle:w</title>\n<path fill=\"none\" stroke=\"black\" d=\"M54,-18C69.67,-18 74.14,-18 88.77,-18\"/>\n<ellipse fill=\"black\" stroke=\"black\" cx=\"90\" cy=\"-18\" rx=\"1\" ry=\"1\"/>\n<text text-anchor=\"middle\" x=\"72.5\" y=\"-21\" font-family=\"Times,serif\" font-size=\"10.00\">ceiling(log2(n))</text>\n</g>\n<!-- x_G0 -->\n<g id=\"node3\" class=\"node\">\n<title>x_G0</title>\n<text text-anchor=\"middle\" x=\"235\" y=\"-14.3\" font-family=\"Times,serif\" font-size=\"14.00\">x</text>\n</g>\n<!-- PermutationCycle&#45;&gt;x_G0 -->\n<g id=\"edge2\" class=\"edge\">\n<title>PermutationCycle:e-&gt;x_G0:w</title>\n<path fill=\"none\" stroke=\"black\" d=\"M171,-18C186.67,-18 191.14,-18 205.77,-18\"/>\n<ellipse fill=\"black\" stroke=\"black\" cx=\"207\" cy=\"-18\" rx=\"1\" ry=\"1\"/>\n<text text-anchor=\"middle\" x=\"189.5\" y=\"-21\" font-family=\"Times,serif\" font-size=\"10.00\">ceiling(log2(n))</text>\n</g>\n</g>\n</svg>",
          "text/plain": "<IPython.core.display.SVG object>"
         },
         "metadata": {},
         "output_type": "display_data"
        }
       ],
       "tabbable": null,
       "tooltip": null
      }
     },
     "4db4517a96084dc68a3974d400f8fcc6": {
      "model_module": "@jupyter-widgets/base",
      "model_module_version": "2.0.0",
      "model_name": "LayoutModel",
      "state": {
       "_model_module": "@jupyter-widgets/base",
       "_model_module_version": "2.0.0",
       "_model_name": "LayoutModel",
       "_view_count": null,
       "_view_module": "@jupyter-widgets/base",
       "_view_module_version": "2.0.0",
       "_view_name": "LayoutView",
       "align_content": null,
       "align_items": null,
       "align_self": null,
       "border_bottom": null,
       "border_left": null,
       "border_right": null,
       "border_top": null,
       "bottom": null,
       "display": null,
       "flex": null,
       "flex_flow": null,
       "grid_area": null,
       "grid_auto_columns": null,
       "grid_auto_flow": null,
       "grid_auto_rows": null,
       "grid_column": null,
       "grid_gap": null,
       "grid_row": null,
       "grid_template_areas": null,
       "grid_template_columns": null,
       "grid_template_rows": null,
       "height": null,
       "justify_content": null,
       "justify_items": null,
       "left": null,
       "margin": null,
       "max_height": null,
       "max_width": null,
       "min_height": null,
       "min_width": null,
       "object_fit": null,
       "object_position": null,
       "order": null,
       "overflow": null,
       "padding": null,
       "right": null,
       "top": null,
       "visibility": null,
       "width": null
      }
     },
     "59c290390a7e4c7ebe0d8b75a039fa09": {
      "model_module": "@jupyter-widgets/output",
      "model_module_version": "1.0.0",
      "model_name": "OutputModel",
      "state": {
       "_dom_classes": [],
       "_model_module": "@jupyter-widgets/output",
       "_model_module_version": "1.0.0",
       "_model_name": "OutputModel",
       "_view_count": null,
       "_view_module": "@jupyter-widgets/output",
       "_view_module_version": "1.0.0",
       "_view_name": "OutputView",
       "layout": "IPY_MODEL_77f5c0cc73a04639968ab17f9166c23e",
       "msg_id": "",
       "outputs": [
        {
         "data": {
          "text/markdown": "`permutation_cycle`",
          "text/plain": "<IPython.core.display.Markdown object>"
         },
         "metadata": {},
         "output_type": "display_data"
        },
        {
         "data": {
          "image/svg+xml": "<svg xmlns=\"http://www.w3.org/2000/svg\" xmlns:xlink=\"http://www.w3.org/1999/xlink\" width=\"270pt\" height=\"54pt\" viewBox=\"0.00 0.00 270.00 54.00\">\n<g id=\"graph0\" class=\"graph\" transform=\"scale(1 1) rotate(0) translate(4 50)\">\n<title>my_graph</title>\n<polygon fill=\"white\" stroke=\"transparent\" points=\"-4,4 -4,-50 266,-50 266,4 -4,4\"/>\n<!-- x_G2 -->\n<g id=\"node1\" class=\"node\">\n<title>x_G2</title>\n<text text-anchor=\"middle\" x=\"27\" y=\"-14.3\" font-family=\"Times,serif\" font-size=\"14.00\">x</text>\n</g>\n<!-- PermutationCycle -->\n<g id=\"node2\" class=\"node\">\n<title>PermutationCycle</title>\n<polygon fill=\"none\" stroke=\"black\" points=\"91,-29 91,-46 171,-46 171,-29 91,-29\"/>\n<text text-anchor=\"start\" x=\"94\" y=\"-35\" font-family=\"Times,serif\" font-size=\"10.00\">PermutationCycle</text>\n<polygon fill=\"none\" stroke=\"black\" points=\"91,-8 91,-29 171,-29 171,-8 91,-8\"/>\n<text text-anchor=\"start\" x=\"127.5\" y=\"-14.8\" font-family=\"Times,serif\" font-size=\"14.00\">x</text>\n</g>\n<!-- x_G2&#45;&gt;PermutationCycle -->\n<g id=\"edge1\" class=\"edge\">\n<title>x_G2:e-&gt;PermutationCycle:w</title>\n<path fill=\"none\" stroke=\"black\" d=\"M54,-18C69.67,-18 74.14,-18 88.77,-18\"/>\n<ellipse fill=\"black\" stroke=\"black\" cx=\"90\" cy=\"-18\" rx=\"1\" ry=\"1\"/>\n<text text-anchor=\"middle\" x=\"72.5\" y=\"-21\" font-family=\"Times,serif\" font-size=\"10.00\">2</text>\n</g>\n<!-- x_G0 -->\n<g id=\"node3\" class=\"node\">\n<title>x_G0</title>\n<text text-anchor=\"middle\" x=\"235\" y=\"-14.3\" font-family=\"Times,serif\" font-size=\"14.00\">x</text>\n</g>\n<!-- PermutationCycle&#45;&gt;x_G0 -->\n<g id=\"edge2\" class=\"edge\">\n<title>PermutationCycle:e-&gt;x_G0:w</title>\n<path fill=\"none\" stroke=\"black\" d=\"M171,-18C186.67,-18 191.14,-18 205.77,-18\"/>\n<ellipse fill=\"black\" stroke=\"black\" cx=\"207\" cy=\"-18\" rx=\"1\" ry=\"1\"/>\n<text text-anchor=\"middle\" x=\"189.5\" y=\"-21\" font-family=\"Times,serif\" font-size=\"10.00\">2</text>\n</g>\n</g>\n</svg>",
          "text/plain": "<IPython.core.display.SVG object>"
         },
         "metadata": {},
         "output_type": "display_data"
        }
       ],
       "tabbable": null,
       "tooltip": null
      }
     },
     "5b90bc095b5440e29bded655c96636f8": {
      "model_module": "@jupyter-widgets/controls",
      "model_module_version": "2.0.0",
      "model_name": "HBoxModel",
      "state": {
       "_dom_classes": [],
       "_model_module": "@jupyter-widgets/controls",
       "_model_module_version": "2.0.0",
       "_model_name": "HBoxModel",
       "_view_count": null,
       "_view_module": "@jupyter-widgets/controls",
       "_view_module_version": "2.0.0",
       "_view_name": "HBoxView",
       "box_style": "",
       "children": [
        "IPY_MODEL_94ee38bb05b64bb8a7b7ae93399adca2",
        "IPY_MODEL_251638194cfd4037a00e25dba9c6bcfe",
        "IPY_MODEL_76a40b0cd5664d82aa25170cfe9b5948",
        "IPY_MODEL_f8486734440f4e4281e6de3ff7edcc74",
        "IPY_MODEL_c11fee275294465bb3caaf1eb445f93b"
       ],
       "layout": "IPY_MODEL_c2d9a87ad5274598924bcf2782c123a5",
       "tabbable": null,
       "tooltip": null
      }
     },
     "6baf2138a0f24f0fafeb937910d350bd": {
      "model_module": "@jupyter-widgets/base",
      "model_module_version": "2.0.0",
      "model_name": "LayoutModel",
      "state": {
       "_model_module": "@jupyter-widgets/base",
       "_model_module_version": "2.0.0",
       "_model_name": "LayoutModel",
       "_view_count": null,
       "_view_module": "@jupyter-widgets/base",
       "_view_module_version": "2.0.0",
       "_view_name": "LayoutView",
       "align_content": null,
       "align_items": null,
       "align_self": null,
       "border_bottom": null,
       "border_left": null,
       "border_right": null,
       "border_top": null,
       "bottom": null,
       "display": null,
       "flex": null,
       "flex_flow": null,
       "grid_area": null,
       "grid_auto_columns": null,
       "grid_auto_flow": null,
       "grid_auto_rows": null,
       "grid_column": null,
       "grid_gap": null,
       "grid_row": null,
       "grid_template_areas": null,
       "grid_template_columns": null,
       "grid_template_rows": null,
       "height": null,
       "justify_content": null,
       "justify_items": null,
       "left": null,
       "margin": null,
       "max_height": null,
       "max_width": null,
       "min_height": null,
       "min_width": null,
       "object_fit": null,
       "object_position": null,
       "order": null,
       "overflow": null,
       "padding": null,
       "right": null,
       "top": null,
       "visibility": null,
       "width": null
      }
     },
     "76a40b0cd5664d82aa25170cfe9b5948": {
      "model_module": "@jupyter-widgets/output",
      "model_module_version": "1.0.0",
      "model_name": "OutputModel",
      "state": {
       "_dom_classes": [],
       "_model_module": "@jupyter-widgets/output",
       "_model_module_version": "1.0.0",
       "_model_name": "OutputModel",
       "_view_count": null,
       "_view_module": "@jupyter-widgets/output",
       "_view_module_version": "1.0.0",
       "_view_name": "OutputView",
       "layout": "IPY_MODEL_f6ef4534dad943d4b8ee895a1c1342a8",
       "msg_id": "",
       "outputs": [
        {
         "data": {
          "text/markdown": "`permutation_symb_with_cycles`",
          "text/plain": "<IPython.core.display.Markdown object>"
         },
         "metadata": {},
         "output_type": "display_data"
        },
        {
         "data": {
          "image/svg+xml": "<svg xmlns=\"http://www.w3.org/2000/svg\" xmlns:xlink=\"http://www.w3.org/1999/xlink\" width=\"246pt\" height=\"54pt\" viewBox=\"0.00 0.00 246.00 54.00\">\n<g id=\"graph0\" class=\"graph\" transform=\"scale(1 1) rotate(0) translate(4 50)\">\n<title>my_graph</title>\n<polygon fill=\"white\" stroke=\"transparent\" points=\"-4,4 -4,-50 242,-50 242,4 -4,4\"/>\n<!-- x_G2 -->\n<g id=\"node1\" class=\"node\">\n<title>x_G2</title>\n<text text-anchor=\"middle\" x=\"27\" y=\"-14.3\" font-family=\"Times,serif\" font-size=\"14.00\">x</text>\n</g>\n<!-- Permutation -->\n<g id=\"node2\" class=\"node\">\n<title>Permutation</title>\n<polygon fill=\"none\" stroke=\"black\" points=\"91,-29 91,-46 147,-46 147,-29 91,-29\"/>\n<text text-anchor=\"start\" x=\"94\" y=\"-35\" font-family=\"Times,serif\" font-size=\"10.00\">Permutation</text>\n<polygon fill=\"none\" stroke=\"black\" points=\"91,-8 91,-29 147,-29 147,-8 91,-8\"/>\n<text text-anchor=\"start\" x=\"115.5\" y=\"-14.8\" font-family=\"Times,serif\" font-size=\"14.00\">x</text>\n</g>\n<!-- x_G2&#45;&gt;Permutation -->\n<g id=\"edge1\" class=\"edge\">\n<title>x_G2:e-&gt;Permutation:w</title>\n<path fill=\"none\" stroke=\"black\" d=\"M54,-18C69.67,-18 74.14,-18 88.77,-18\"/>\n<ellipse fill=\"black\" stroke=\"black\" cx=\"90\" cy=\"-18\" rx=\"1\" ry=\"1\"/>\n<text text-anchor=\"middle\" x=\"72.5\" y=\"-21\" font-family=\"Times,serif\" font-size=\"10.00\">ceiling(log2(N))</text>\n</g>\n<!-- x_G0 -->\n<g id=\"node3\" class=\"node\">\n<title>x_G0</title>\n<text text-anchor=\"middle\" x=\"211\" y=\"-14.3\" font-family=\"Times,serif\" font-size=\"14.00\">x</text>\n</g>\n<!-- Permutation&#45;&gt;x_G0 -->\n<g id=\"edge2\" class=\"edge\">\n<title>Permutation:e-&gt;x_G0:w</title>\n<path fill=\"none\" stroke=\"black\" d=\"M147,-18C162.67,-18 167.14,-18 181.77,-18\"/>\n<ellipse fill=\"black\" stroke=\"black\" cx=\"183\" cy=\"-18\" rx=\"1\" ry=\"1\"/>\n<text text-anchor=\"middle\" x=\"165.5\" y=\"-21\" font-family=\"Times,serif\" font-size=\"10.00\">ceiling(log2(N))</text>\n</g>\n</g>\n</svg>",
          "text/plain": "<IPython.core.display.SVG object>"
         },
         "metadata": {},
         "output_type": "display_data"
        }
       ],
       "tabbable": null,
       "tooltip": null
      }
     },
     "77f5c0cc73a04639968ab17f9166c23e": {
      "model_module": "@jupyter-widgets/base",
      "model_module_version": "2.0.0",
      "model_name": "LayoutModel",
      "state": {
       "_model_module": "@jupyter-widgets/base",
       "_model_module_version": "2.0.0",
       "_model_name": "LayoutModel",
       "_view_count": null,
       "_view_module": "@jupyter-widgets/base",
       "_view_module_version": "2.0.0",
       "_view_name": "LayoutView",
       "align_content": null,
       "align_items": null,
       "align_self": null,
       "border_bottom": null,
       "border_left": null,
       "border_right": null,
       "border_top": null,
       "bottom": null,
       "display": null,
       "flex": null,
       "flex_flow": null,
       "grid_area": null,
       "grid_auto_columns": null,
       "grid_auto_flow": null,
       "grid_auto_rows": null,
       "grid_column": null,
       "grid_gap": null,
       "grid_row": null,
       "grid_template_areas": null,
       "grid_template_columns": null,
       "grid_template_rows": null,
       "height": null,
       "justify_content": null,
       "justify_items": null,
       "left": null,
       "margin": null,
       "max_height": null,
       "max_width": null,
       "min_height": null,
       "min_width": null,
       "object_fit": null,
       "object_position": null,
       "order": null,
       "overflow": null,
       "padding": null,
       "right": null,
       "top": null,
       "visibility": null,
       "width": null
      }
     },
     "863f712612ec4a95a3cd21c69d19fdfc": {
      "model_module": "@jupyter-widgets/base",
      "model_module_version": "2.0.0",
      "model_name": "LayoutModel",
      "state": {
       "_model_module": "@jupyter-widgets/base",
       "_model_module_version": "2.0.0",
       "_model_name": "LayoutModel",
       "_view_count": null,
       "_view_module": "@jupyter-widgets/base",
       "_view_module_version": "2.0.0",
       "_view_name": "LayoutView",
       "align_content": null,
       "align_items": null,
       "align_self": null,
       "border_bottom": null,
       "border_left": null,
       "border_right": null,
       "border_top": null,
       "bottom": null,
       "display": null,
       "flex": null,
       "flex_flow": null,
       "grid_area": null,
       "grid_auto_columns": null,
       "grid_auto_flow": null,
       "grid_auto_rows": null,
       "grid_column": null,
       "grid_gap": null,
       "grid_row": null,
       "grid_template_areas": null,
       "grid_template_columns": null,
       "grid_template_rows": null,
       "height": null,
       "justify_content": null,
       "justify_items": null,
       "left": null,
       "margin": null,
       "max_height": null,
       "max_width": null,
       "min_height": null,
       "min_width": null,
       "object_fit": null,
       "object_position": null,
       "order": null,
       "overflow": null,
       "padding": null,
       "right": null,
       "top": null,
       "visibility": null,
       "width": null
      }
     },
     "94ee38bb05b64bb8a7b7ae93399adca2": {
      "model_module": "@jupyter-widgets/output",
      "model_module_version": "1.0.0",
      "model_name": "OutputModel",
      "state": {
       "_dom_classes": [],
       "_model_module": "@jupyter-widgets/output",
       "_model_module_version": "1.0.0",
       "_model_name": "OutputModel",
       "_view_count": null,
       "_view_module": "@jupyter-widgets/output",
       "_view_module_version": "1.0.0",
       "_view_name": "OutputView",
       "layout": "IPY_MODEL_cef968d093444da4b686a88bb3739752",
       "msg_id": "",
       "outputs": [
        {
         "data": {
          "text/markdown": "`permutation`",
          "text/plain": "<IPython.core.display.Markdown object>"
         },
         "metadata": {},
         "output_type": "display_data"
        },
        {
         "data": {
          "image/svg+xml": "<svg xmlns=\"http://www.w3.org/2000/svg\" xmlns:xlink=\"http://www.w3.org/1999/xlink\" width=\"246pt\" height=\"54pt\" viewBox=\"0.00 0.00 246.00 54.00\">\n<g id=\"graph0\" class=\"graph\" transform=\"scale(1 1) rotate(0) translate(4 50)\">\n<title>my_graph</title>\n<polygon fill=\"white\" stroke=\"transparent\" points=\"-4,4 -4,-50 242,-50 242,4 -4,4\"/>\n<!-- x_G2 -->\n<g id=\"node1\" class=\"node\">\n<title>x_G2</title>\n<text text-anchor=\"middle\" x=\"27\" y=\"-14.3\" font-family=\"Times,serif\" font-size=\"14.00\">x</text>\n</g>\n<!-- Permutation -->\n<g id=\"node2\" class=\"node\">\n<title>Permutation</title>\n<polygon fill=\"none\" stroke=\"black\" points=\"91,-29 91,-46 147,-46 147,-29 91,-29\"/>\n<text text-anchor=\"start\" x=\"94\" y=\"-35\" font-family=\"Times,serif\" font-size=\"10.00\">Permutation</text>\n<polygon fill=\"none\" stroke=\"black\" points=\"91,-8 91,-29 147,-29 147,-8 91,-8\"/>\n<text text-anchor=\"start\" x=\"115.5\" y=\"-14.8\" font-family=\"Times,serif\" font-size=\"14.00\">x</text>\n</g>\n<!-- x_G2&#45;&gt;Permutation -->\n<g id=\"edge1\" class=\"edge\">\n<title>x_G2:e-&gt;Permutation:w</title>\n<path fill=\"none\" stroke=\"black\" d=\"M54,-18C69.67,-18 74.14,-18 88.77,-18\"/>\n<ellipse fill=\"black\" stroke=\"black\" cx=\"90\" cy=\"-18\" rx=\"1\" ry=\"1\"/>\n<text text-anchor=\"middle\" x=\"72.5\" y=\"-21\" font-family=\"Times,serif\" font-size=\"10.00\">2</text>\n</g>\n<!-- x_G1 -->\n<g id=\"node3\" class=\"node\">\n<title>x_G1</title>\n<text text-anchor=\"middle\" x=\"211\" y=\"-14.3\" font-family=\"Times,serif\" font-size=\"14.00\">x</text>\n</g>\n<!-- Permutation&#45;&gt;x_G1 -->\n<g id=\"edge2\" class=\"edge\">\n<title>Permutation:e-&gt;x_G1:w</title>\n<path fill=\"none\" stroke=\"black\" d=\"M147,-18C162.67,-18 167.14,-18 181.77,-18\"/>\n<ellipse fill=\"black\" stroke=\"black\" cx=\"183\" cy=\"-18\" rx=\"1\" ry=\"1\"/>\n<text text-anchor=\"middle\" x=\"165.5\" y=\"-21\" font-family=\"Times,serif\" font-size=\"10.00\">2</text>\n</g>\n</g>\n</svg>",
          "text/plain": "<IPython.core.display.SVG object>"
         },
         "metadata": {},
         "output_type": "display_data"
        }
       ],
       "tabbable": null,
       "tooltip": null
      }
     },
     "c11fee275294465bb3caaf1eb445f93b": {
      "model_module": "@jupyter-widgets/output",
      "model_module_version": "1.0.0",
      "model_name": "OutputModel",
      "state": {
       "_dom_classes": [],
       "_model_module": "@jupyter-widgets/output",
       "_model_module_version": "1.0.0",
       "_model_name": "OutputModel",
       "_view_count": null,
       "_view_module": "@jupyter-widgets/output",
       "_view_module_version": "1.0.0",
       "_view_name": "OutputView",
       "layout": "IPY_MODEL_6baf2138a0f24f0fafeb937910d350bd",
       "msg_id": "",
       "outputs": [
        {
         "data": {
          "text/markdown": "`sparse_permutation_with_symbolic_N`",
          "text/plain": "<IPython.core.display.Markdown object>"
         },
         "metadata": {},
         "output_type": "display_data"
        },
        {
         "data": {
          "image/svg+xml": "<svg xmlns=\"http://www.w3.org/2000/svg\" xmlns:xlink=\"http://www.w3.org/1999/xlink\" width=\"246pt\" height=\"54pt\" viewBox=\"0.00 0.00 246.00 54.00\">\n<g id=\"graph0\" class=\"graph\" transform=\"scale(1 1) rotate(0) translate(4 50)\">\n<title>my_graph</title>\n<polygon fill=\"white\" stroke=\"transparent\" points=\"-4,4 -4,-50 242,-50 242,4 -4,4\"/>\n<!-- x_G2 -->\n<g id=\"node1\" class=\"node\">\n<title>x_G2</title>\n<text text-anchor=\"middle\" x=\"27\" y=\"-14.3\" font-family=\"Times,serif\" font-size=\"14.00\">x</text>\n</g>\n<!-- Permutation -->\n<g id=\"node2\" class=\"node\">\n<title>Permutation</title>\n<polygon fill=\"none\" stroke=\"black\" points=\"91,-29 91,-46 147,-46 147,-29 91,-29\"/>\n<text text-anchor=\"start\" x=\"94\" y=\"-35\" font-family=\"Times,serif\" font-size=\"10.00\">Permutation</text>\n<polygon fill=\"none\" stroke=\"black\" points=\"91,-8 91,-29 147,-29 147,-8 91,-8\"/>\n<text text-anchor=\"start\" x=\"115.5\" y=\"-14.8\" font-family=\"Times,serif\" font-size=\"14.00\">x</text>\n</g>\n<!-- x_G2&#45;&gt;Permutation -->\n<g id=\"edge1\" class=\"edge\">\n<title>x_G2:e-&gt;Permutation:w</title>\n<path fill=\"none\" stroke=\"black\" d=\"M54,-18C69.67,-18 74.14,-18 88.77,-18\"/>\n<ellipse fill=\"black\" stroke=\"black\" cx=\"90\" cy=\"-18\" rx=\"1\" ry=\"1\"/>\n<text text-anchor=\"middle\" x=\"72.5\" y=\"-21\" font-family=\"Times,serif\" font-size=\"10.00\">ceiling(log2(N))</text>\n</g>\n<!-- x_G0 -->\n<g id=\"node3\" class=\"node\">\n<title>x_G0</title>\n<text text-anchor=\"middle\" x=\"211\" y=\"-14.3\" font-family=\"Times,serif\" font-size=\"14.00\">x</text>\n</g>\n<!-- Permutation&#45;&gt;x_G0 -->\n<g id=\"edge2\" class=\"edge\">\n<title>Permutation:e-&gt;x_G0:w</title>\n<path fill=\"none\" stroke=\"black\" d=\"M147,-18C162.67,-18 167.14,-18 181.77,-18\"/>\n<ellipse fill=\"black\" stroke=\"black\" cx=\"183\" cy=\"-18\" rx=\"1\" ry=\"1\"/>\n<text text-anchor=\"middle\" x=\"165.5\" y=\"-21\" font-family=\"Times,serif\" font-size=\"10.00\">ceiling(log2(N))</text>\n</g>\n</g>\n</svg>",
          "text/plain": "<IPython.core.display.SVG object>"
         },
         "metadata": {},
         "output_type": "display_data"
        }
       ],
       "tabbable": null,
       "tooltip": null
      }
     },
     "c2d9a87ad5274598924bcf2782c123a5": {
      "model_module": "@jupyter-widgets/base",
      "model_module_version": "2.0.0",
      "model_name": "LayoutModel",
      "state": {
       "_model_module": "@jupyter-widgets/base",
       "_model_module_version": "2.0.0",
       "_model_name": "LayoutModel",
       "_view_count": null,
       "_view_module": "@jupyter-widgets/base",
       "_view_module_version": "2.0.0",
       "_view_name": "LayoutView",
       "align_content": null,
       "align_items": null,
       "align_self": null,
       "border_bottom": null,
       "border_left": null,
       "border_right": null,
       "border_top": null,
       "bottom": null,
       "display": null,
       "flex": null,
       "flex_flow": null,
       "grid_area": null,
       "grid_auto_columns": null,
       "grid_auto_flow": null,
       "grid_auto_rows": null,
       "grid_column": null,
       "grid_gap": null,
       "grid_row": null,
       "grid_template_areas": null,
       "grid_template_columns": null,
       "grid_template_rows": null,
       "height": null,
       "justify_content": null,
       "justify_items": null,
       "left": null,
       "margin": null,
       "max_height": null,
       "max_width": null,
       "min_height": null,
       "min_width": null,
       "object_fit": null,
       "object_position": null,
       "order": null,
       "overflow": null,
       "padding": null,
       "right": null,
       "top": null,
       "visibility": null,
       "width": null
      }
     },
     "c81f413b47a548b5a2d9dfad6c4bfcbb": {
      "model_module": "@jupyter-widgets/controls",
      "model_module_version": "2.0.0",
      "model_name": "HBoxModel",
      "state": {
       "_dom_classes": [],
       "_model_module": "@jupyter-widgets/controls",
       "_model_module_version": "2.0.0",
       "_model_name": "HBoxModel",
       "_view_count": null,
       "_view_module": "@jupyter-widgets/controls",
       "_view_module_version": "2.0.0",
       "_view_name": "HBoxView",
       "box_style": "",
       "children": [
        "IPY_MODEL_4213bf6ab37a402196b171c16a93acba",
        "IPY_MODEL_23a344cae78d4ee087a0c913e51d2caa",
        "IPY_MODEL_59c290390a7e4c7ebe0d8b75a039fa09"
       ],
       "layout": "IPY_MODEL_ec49125ead254451a6c2de06754a6585",
       "tabbable": null,
       "tooltip": null
      }
     },
     "c9503ed476e94c09a04a3589d754c6b3": {
      "model_module": "@jupyter-widgets/base",
      "model_module_version": "2.0.0",
      "model_name": "LayoutModel",
      "state": {
       "_model_module": "@jupyter-widgets/base",
       "_model_module_version": "2.0.0",
       "_model_name": "LayoutModel",
       "_view_count": null,
       "_view_module": "@jupyter-widgets/base",
       "_view_module_version": "2.0.0",
       "_view_name": "LayoutView",
       "align_content": null,
       "align_items": null,
       "align_self": null,
       "border_bottom": null,
       "border_left": null,
       "border_right": null,
       "border_top": null,
       "bottom": null,
       "display": null,
       "flex": null,
       "flex_flow": null,
       "grid_area": null,
       "grid_auto_columns": null,
       "grid_auto_flow": null,
       "grid_auto_rows": null,
       "grid_column": null,
       "grid_gap": null,
       "grid_row": null,
       "grid_template_areas": null,
       "grid_template_columns": null,
       "grid_template_rows": null,
       "height": null,
       "justify_content": null,
       "justify_items": null,
       "left": null,
       "margin": null,
       "max_height": null,
       "max_width": null,
       "min_height": null,
       "min_width": null,
       "object_fit": null,
       "object_position": null,
       "order": null,
       "overflow": null,
       "padding": null,
       "right": null,
       "top": null,
       "visibility": null,
       "width": null
      }
     },
     "cef968d093444da4b686a88bb3739752": {
      "model_module": "@jupyter-widgets/base",
      "model_module_version": "2.0.0",
      "model_name": "LayoutModel",
      "state": {
       "_model_module": "@jupyter-widgets/base",
       "_model_module_version": "2.0.0",
       "_model_name": "LayoutModel",
       "_view_count": null,
       "_view_module": "@jupyter-widgets/base",
       "_view_module_version": "2.0.0",
       "_view_name": "LayoutView",
       "align_content": null,
       "align_items": null,
       "align_self": null,
       "border_bottom": null,
       "border_left": null,
       "border_right": null,
       "border_top": null,
       "bottom": null,
       "display": null,
       "flex": null,
       "flex_flow": null,
       "grid_area": null,
       "grid_auto_columns": null,
       "grid_auto_flow": null,
       "grid_auto_rows": null,
       "grid_column": null,
       "grid_gap": null,
       "grid_row": null,
       "grid_template_areas": null,
       "grid_template_columns": null,
       "grid_template_rows": null,
       "height": null,
       "justify_content": null,
       "justify_items": null,
       "left": null,
       "margin": null,
       "max_height": null,
       "max_width": null,
       "min_height": null,
       "min_width": null,
       "object_fit": null,
       "object_position": null,
       "order": null,
       "overflow": null,
       "padding": null,
       "right": null,
       "top": null,
       "visibility": null,
       "width": null
      }
     },
     "ec49125ead254451a6c2de06754a6585": {
      "model_module": "@jupyter-widgets/base",
      "model_module_version": "2.0.0",
      "model_name": "LayoutModel",
      "state": {
       "_model_module": "@jupyter-widgets/base",
       "_model_module_version": "2.0.0",
       "_model_name": "LayoutModel",
       "_view_count": null,
       "_view_module": "@jupyter-widgets/base",
       "_view_module_version": "2.0.0",
       "_view_name": "LayoutView",
       "align_content": null,
       "align_items": null,
       "align_self": null,
       "border_bottom": null,
       "border_left": null,
       "border_right": null,
       "border_top": null,
       "bottom": null,
       "display": null,
       "flex": null,
       "flex_flow": null,
       "grid_area": null,
       "grid_auto_columns": null,
       "grid_auto_flow": null,
       "grid_auto_rows": null,
       "grid_column": null,
       "grid_gap": null,
       "grid_row": null,
       "grid_template_areas": null,
       "grid_template_columns": null,
       "grid_template_rows": null,
       "height": null,
       "justify_content": null,
       "justify_items": null,
       "left": null,
       "margin": null,
       "max_height": null,
       "max_width": null,
       "min_height": null,
       "min_width": null,
       "object_fit": null,
       "object_position": null,
       "order": null,
       "overflow": null,
       "padding": null,
       "right": null,
       "top": null,
       "visibility": null,
       "width": null
      }
     },
     "f6ef4534dad943d4b8ee895a1c1342a8": {
      "model_module": "@jupyter-widgets/base",
      "model_module_version": "2.0.0",
      "model_name": "LayoutModel",
      "state": {
       "_model_module": "@jupyter-widgets/base",
       "_model_module_version": "2.0.0",
       "_model_name": "LayoutModel",
       "_view_count": null,
       "_view_module": "@jupyter-widgets/base",
       "_view_module_version": "2.0.0",
       "_view_name": "LayoutView",
       "align_content": null,
       "align_items": null,
       "align_self": null,
       "border_bottom": null,
       "border_left": null,
       "border_right": null,
       "border_top": null,
       "bottom": null,
       "display": null,
       "flex": null,
       "flex_flow": null,
       "grid_area": null,
       "grid_auto_columns": null,
       "grid_auto_flow": null,
       "grid_auto_rows": null,
       "grid_column": null,
       "grid_gap": null,
       "grid_row": null,
       "grid_template_areas": null,
       "grid_template_columns": null,
       "grid_template_rows": null,
       "height": null,
       "justify_content": null,
       "justify_items": null,
       "left": null,
       "margin": null,
       "max_height": null,
       "max_width": null,
       "min_height": null,
       "min_width": null,
       "object_fit": null,
       "object_position": null,
       "order": null,
       "overflow": null,
       "padding": null,
       "right": null,
       "top": null,
       "visibility": null,
       "width": null
      }
     },
     "f8486734440f4e4281e6de3ff7edcc74": {
      "model_module": "@jupyter-widgets/output",
      "model_module_version": "1.0.0",
      "model_name": "OutputModel",
      "state": {
       "_dom_classes": [],
       "_model_module": "@jupyter-widgets/output",
       "_model_module_version": "1.0.0",
       "_model_name": "OutputModel",
       "_view_count": null,
       "_view_module": "@jupyter-widgets/output",
       "_view_module_version": "1.0.0",
       "_view_name": "OutputView",
       "layout": "IPY_MODEL_211a0d1e07c148f3b1266f6e6f51fe2d",
       "msg_id": "",
       "outputs": [
        {
         "data": {
          "text/markdown": "`sparse_permutation`",
          "text/plain": "<IPython.core.display.Markdown object>"
         },
         "metadata": {},
         "output_type": "display_data"
        },
        {
         "data": {
          "image/svg+xml": "<svg xmlns=\"http://www.w3.org/2000/svg\" xmlns:xlink=\"http://www.w3.org/1999/xlink\" width=\"246pt\" height=\"54pt\" viewBox=\"0.00 0.00 246.00 54.00\">\n<g id=\"graph0\" class=\"graph\" transform=\"scale(1 1) rotate(0) translate(4 50)\">\n<title>my_graph</title>\n<polygon fill=\"white\" stroke=\"transparent\" points=\"-4,4 -4,-50 242,-50 242,4 -4,4\"/>\n<!-- x_G1 -->\n<g id=\"node1\" class=\"node\">\n<title>x_G1</title>\n<text text-anchor=\"middle\" x=\"27\" y=\"-14.3\" font-family=\"Times,serif\" font-size=\"14.00\">x</text>\n</g>\n<!-- Permutation -->\n<g id=\"node2\" class=\"node\">\n<title>Permutation</title>\n<polygon fill=\"none\" stroke=\"black\" points=\"91,-29 91,-46 147,-46 147,-29 91,-29\"/>\n<text text-anchor=\"start\" x=\"94\" y=\"-35\" font-family=\"Times,serif\" font-size=\"10.00\">Permutation</text>\n<polygon fill=\"none\" stroke=\"black\" points=\"91,-8 91,-29 147,-29 147,-8 91,-8\"/>\n<text text-anchor=\"start\" x=\"115.5\" y=\"-14.8\" font-family=\"Times,serif\" font-size=\"14.00\">x</text>\n</g>\n<!-- x_G1&#45;&gt;Permutation -->\n<g id=\"edge1\" class=\"edge\">\n<title>x_G1:e-&gt;Permutation:w</title>\n<path fill=\"none\" stroke=\"black\" d=\"M54,-18C69.67,-18 74.14,-18 88.77,-18\"/>\n<ellipse fill=\"black\" stroke=\"black\" cx=\"90\" cy=\"-18\" rx=\"1\" ry=\"1\"/>\n<text text-anchor=\"middle\" x=\"72.5\" y=\"-21\" font-family=\"Times,serif\" font-size=\"10.00\">4</text>\n</g>\n<!-- x_G2 -->\n<g id=\"node3\" class=\"node\">\n<title>x_G2</title>\n<text text-anchor=\"middle\" x=\"211\" y=\"-14.3\" font-family=\"Times,serif\" font-size=\"14.00\">x</text>\n</g>\n<!-- Permutation&#45;&gt;x_G2 -->\n<g id=\"edge2\" class=\"edge\">\n<title>Permutation:e-&gt;x_G2:w</title>\n<path fill=\"none\" stroke=\"black\" d=\"M147,-18C162.67,-18 167.14,-18 181.77,-18\"/>\n<ellipse fill=\"black\" stroke=\"black\" cx=\"183\" cy=\"-18\" rx=\"1\" ry=\"1\"/>\n<text text-anchor=\"middle\" x=\"165.5\" y=\"-21\" font-family=\"Times,serif\" font-size=\"10.00\">4</text>\n</g>\n</g>\n</svg>",
          "text/plain": "<IPython.core.display.SVG object>"
         },
         "metadata": {},
         "output_type": "display_data"
        }
       ],
       "tabbable": null,
       "tooltip": null
      }
     }
    },
    "version_major": 2,
    "version_minor": 0
   }
  }
 },
 "nbformat": 4,
 "nbformat_minor": 5
}
