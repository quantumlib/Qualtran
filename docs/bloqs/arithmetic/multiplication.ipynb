{
 "cells": [
  {
   "cell_type": "markdown",
   "id": "45ff0be8",
   "metadata": {
    "cq.autogen": "title_cell"
   },
   "source": [
    "# Multiplication"
   ]
  },
  {
   "cell_type": "code",
   "execution_count": 1,
   "id": "0bbda185",
   "metadata": {
    "cq.autogen": "top_imports"
   },
   "outputs": [],
   "source": [
    "from qualtran import Bloq, CompositeBloq, BloqBuilder, Signature, Register\n",
    "from qualtran import QBit, QInt, QUInt, QAny\n",
    "from qualtran.drawing import show_bloq, show_call_graph, show_counts_sigma\n",
    "from typing import *\n",
    "import numpy as np\n",
    "import sympy\n",
    "import cirq"
   ]
  },
  {
   "cell_type": "markdown",
   "id": "6449ea17",
   "metadata": {
    "cq.autogen": "PlusEqualProduct.bloq_doc.md"
   },
   "source": [
    "## `PlusEqualProduct`\n",
    "Performs result += a * b.\n",
    "\n",
    "#### Parameters\n",
    " - `a_bitsize`: bitsize of input `a`.\n",
    " - `b_bitsize`: bitsize of input `b`.\n",
    " - `result_bitsize`: bitsize of the output register.\n",
    " - `is_adjoint`: If true, performs `result -= a * b` instead. Defaults to False. \n",
    "\n",
    "#### Registers\n",
    " - `a`: QUInt of `a_bitsize` bits.\n",
    " - `b`: QUInt of `b_bitsize` bits.\n",
    " - `result`: QUInt of `result_bitsize` bits.\n"
   ]
  },
  {
   "cell_type": "code",
   "execution_count": 2,
   "id": "d9a48363",
   "metadata": {
    "cq.autogen": "PlusEqualProduct.bloq_doc.py"
   },
   "outputs": [],
   "source": [
    "from qualtran.bloqs.arithmetic import PlusEqualProduct"
   ]
  },
  {
   "cell_type": "markdown",
   "id": "3b03ae71",
   "metadata": {
    "cq.autogen": "PlusEqualProduct.example_instances.md"
   },
   "source": [
    "### Example Instances"
   ]
  },
  {
   "cell_type": "code",
   "execution_count": 3,
   "id": "a4c3b6cd",
   "metadata": {
    "cq.autogen": "PlusEqualProduct.plus_equal_product"
   },
   "outputs": [],
   "source": [
    "a_bit, b_bit, res_bit = 2, 2, 4\n",
    "plus_equal_product = PlusEqualProduct(a_bit, b_bit, res_bit)"
   ]
  },
  {
   "cell_type": "markdown",
   "id": "ec36b3e6",
   "metadata": {
    "cq.autogen": "PlusEqualProduct.graphical_signature.md"
   },
   "source": [
    "#### Graphical Signature"
   ]
  },
  {
   "cell_type": "markdown",
   "id": "a20877dc",
   "metadata": {
    "cq.autogen": "PlusEqualProduct.call_graph.md"
   },
   "source": [
    "### Call Graph"
   ]
  },
  {
   "cell_type": "code",
   "execution_count": 4,
   "id": "e838de84",
   "metadata": {
    "cq.autogen": "PlusEqualProduct.call_graph.py"
   },
   "outputs": [
    {
     "data": {
      "image/svg+xml": [
       "<svg xmlns=\"http://www.w3.org/2000/svg\" xmlns:xlink=\"http://www.w3.org/1999/xlink\" width=\"110pt\" height=\"131pt\" viewBox=\"0.00 0.00 110.00 131.00\">\n",
       "<g id=\"graph0\" class=\"graph\" transform=\"scale(1 1) rotate(0) translate(4 127)\">\n",
       "<title>counts</title>\n",
       "<polygon fill=\"white\" stroke=\"transparent\" points=\"-4,4 -4,-127 106,-127 106,4 -4,4\"/>\n",
       "<!-- b0 -->\n",
       "<g id=\"node1\" class=\"node\">\n",
       "<title>b0</title>\n",
       "<polygon fill=\"none\" stroke=\"black\" points=\"8,-93 8,-116 94,-116 94,-93 8,-93\"/>\n",
       "<text text-anchor=\"start\" x=\"14.5\" y=\"-102\" font-family=\"Times,serif\" font-size=\"10.00\">PlusEqualProduct</text>\n",
       "</g>\n",
       "<!-- b1 -->\n",
       "<g id=\"node2\" class=\"node\">\n",
       "<title>b1</title>\n",
       "<polygon fill=\"none\" stroke=\"black\" points=\"41,-6 41,-29 61,-29 61,-6 41,-6\"/>\n",
       "<text text-anchor=\"start\" x=\"47.5\" y=\"-15\" font-family=\"Times,serif\" font-size=\"10.00\">T</text>\n",
       "</g>\n",
       "<!-- b0&#45;&gt;b1 -->\n",
       "<g id=\"edge1\" class=\"edge\">\n",
       "<title>b0-&gt;b1</title>\n",
       "<path fill=\"none\" stroke=\"black\" d=\"M51,-86.8C51,-75.16 51,-59.55 51,-46.24\"/>\n",
       "<polygon fill=\"black\" stroke=\"black\" points=\"54.5,-46.18 51,-36.18 47.5,-46.18 54.5,-46.18\"/>\n",
       "<text text-anchor=\"middle\" x=\"58\" y=\"-57.8\" font-family=\"Times,serif\" font-size=\"14.00\">32</text>\n",
       "</g>\n",
       "</g>\n",
       "</svg>"
      ],
      "text/plain": [
       "<IPython.core.display.SVG object>"
      ]
     },
     "metadata": {},
     "output_type": "display_data"
    },
    {
     "data": {
      "text/markdown": [
       "#### Counts totals:\n",
       " - `T`: 32"
      ],
      "text/plain": [
       "<IPython.core.display.Markdown object>"
      ]
     },
     "metadata": {},
     "output_type": "display_data"
    }
   ],
   "source": [
    "from qualtran.resource_counting.generalizers import ignore_split_join\n",
    "plus_equal_product_g, plus_equal_product_sigma = plus_equal_product.call_graph(max_depth=1, generalizer=ignore_split_join)\n",
    "show_call_graph(plus_equal_product_g)\n",
    "show_counts_sigma(plus_equal_product_sigma)"
   ]
  },
  {
   "cell_type": "markdown",
   "id": "d80c7a3a",
   "metadata": {
    "cq.autogen": "Product.bloq_doc.md"
   },
   "source": [
    "## `Product`\n",
    "Compute the product of an `n` and `m` bit binary number.\n",
    "\n",
    "Implements $U|a\\rangle|b\\rangle|0\\rangle \\rightarrow\n",
    "|a\\rangle|b\\rangle|a\\times b\\rangle$ using $2nm-n$ Toffolis.\n",
    "\n",
    "#### Parameters\n",
    " - `a_bitsize`: Number of bits used to represent the first integer.\n",
    " - `b_bitsize`: Number of bits used to represent the second integer. \n",
    "\n",
    "#### Registers\n",
    " - `a`: a_bitsize-sized input register.\n",
    " - `b`: b_bitsize-sized input register.\n",
    " - `result`: A 2*`max(a_bitsize, b_bitsize)` bit-sized output register to store the result a*b. \n",
    "\n",
    "#### References\n",
    " - [Fault-Tolerant Quantum Simulations of Chemistry in First Quantization](https://arxiv.org/abs/2105.12767). pg 81 gives a Toffoli complexity for multiplying two numbers.\n"
   ]
  },
  {
   "cell_type": "code",
   "execution_count": 5,
   "id": "b9474c15",
   "metadata": {
    "cq.autogen": "Product.bloq_doc.py"
   },
   "outputs": [],
   "source": [
    "from qualtran.bloqs.arithmetic import Product"
   ]
  },
  {
   "cell_type": "markdown",
   "id": "8c66a5ee",
   "metadata": {
    "cq.autogen": "Product.example_instances.md"
   },
   "source": [
    "### Example Instances"
   ]
  },
  {
   "cell_type": "code",
   "execution_count": 6,
   "id": "dc021736",
   "metadata": {
    "cq.autogen": "Product.product"
   },
   "outputs": [],
   "source": [
    "product = Product(a_bitsize=4, b_bitsize=6)"
   ]
  },
  {
   "cell_type": "markdown",
   "id": "a567e14b",
   "metadata": {
    "cq.autogen": "Product.graphical_signature.md"
   },
   "source": [
    "#### Graphical Signature"
   ]
  },
  {
   "cell_type": "code",
   "execution_count": 7,
   "id": "a726ecb3",
   "metadata": {
    "cq.autogen": "Product.graphical_signature.py"
   },
   "outputs": [
    {
     "data": {
      "application/vnd.jupyter.widget-view+json": {
       "model_id": "d7bf7a97c48a49ce88bc17d87f08474d",
       "version_major": 2,
       "version_minor": 0
      },
      "text/plain": [
       "HBox(children=(Output(outputs=({'output_type': 'display_data', 'data': {'text/plain': '<IPython.core.display.M…"
      ]
     },
     "metadata": {},
     "output_type": "display_data"
    }
   ],
   "source": [
    "from qualtran.drawing import show_bloqs\n",
    "show_bloqs([product],\n",
    "           ['`product`'])"
   ]
  },
  {
   "cell_type": "markdown",
   "id": "805f21e5",
   "metadata": {
    "cq.autogen": "Product.call_graph.md"
   },
   "source": [
    "### Call Graph"
   ]
  },
  {
   "cell_type": "code",
   "execution_count": 8,
   "id": "96c26635",
   "metadata": {
    "cq.autogen": "Product.call_graph.py"
   },
   "outputs": [
    {
     "data": {
      "image/svg+xml": [
       "<svg xmlns=\"http://www.w3.org/2000/svg\" xmlns:xlink=\"http://www.w3.org/1999/xlink\" width=\"68pt\" height=\"131pt\" viewBox=\"0.00 0.00 68.00 131.00\">\n",
       "<g id=\"graph0\" class=\"graph\" transform=\"scale(1 1) rotate(0) translate(4 127)\">\n",
       "<title>counts</title>\n",
       "<polygon fill=\"white\" stroke=\"transparent\" points=\"-4,4 -4,-127 64,-127 64,4 -4,4\"/>\n",
       "<!-- b0 -->\n",
       "<g id=\"node1\" class=\"node\">\n",
       "<title>b0</title>\n",
       "<polygon fill=\"none\" stroke=\"black\" points=\"8,-93 8,-116 52,-116 52,-93 8,-93\"/>\n",
       "<text text-anchor=\"start\" x=\"14\" y=\"-102\" font-family=\"Times,serif\" font-size=\"10.00\">Product</text>\n",
       "</g>\n",
       "<!-- b1 -->\n",
       "<g id=\"node2\" class=\"node\">\n",
       "<title>b1</title>\n",
       "<polygon fill=\"none\" stroke=\"black\" points=\"10,-6 10,-29 50,-29 50,-6 10,-6\"/>\n",
       "<text text-anchor=\"start\" x=\"16\" y=\"-15\" font-family=\"Times,serif\" font-size=\"10.00\">Toffoli</text>\n",
       "</g>\n",
       "<!-- b0&#45;&gt;b1 -->\n",
       "<g id=\"edge1\" class=\"edge\">\n",
       "<title>b0-&gt;b1</title>\n",
       "<path fill=\"none\" stroke=\"black\" d=\"M30,-86.8C30,-75.16 30,-59.55 30,-46.24\"/>\n",
       "<polygon fill=\"black\" stroke=\"black\" points=\"33.5,-46.18 30,-36.18 26.5,-46.18 33.5,-46.18\"/>\n",
       "<text text-anchor=\"middle\" x=\"37\" y=\"-57.8\" font-family=\"Times,serif\" font-size=\"14.00\">42</text>\n",
       "</g>\n",
       "</g>\n",
       "</svg>"
      ],
      "text/plain": [
       "<IPython.core.display.SVG object>"
      ]
     },
     "metadata": {},
     "output_type": "display_data"
    },
    {
     "data": {
      "text/markdown": [
       "#### Counts totals:\n",
       " - `Toffoli`: 42"
      ],
      "text/plain": [
       "<IPython.core.display.Markdown object>"
      ]
     },
     "metadata": {},
     "output_type": "display_data"
    }
   ],
   "source": [
    "from qualtran.resource_counting.generalizers import ignore_split_join\n",
    "product_g, product_sigma = product.call_graph(max_depth=1, generalizer=ignore_split_join)\n",
    "show_call_graph(product_g)\n",
    "show_counts_sigma(product_sigma)"
   ]
  },
  {
   "cell_type": "markdown",
   "id": "28db7d6c",
   "metadata": {
    "cq.autogen": "Square.bloq_doc.md"
   },
   "source": [
    "## `Square`\n",
    "Square an n-bit binary number.\n",
    "\n",
    "Implements $U|a\\rangle|0\\rangle \\rightarrow |a\\rangle|a^2\\rangle$ using $n^2 - n$ Toffolis.\n",
    "\n",
    "#### Parameters\n",
    " - `bitsize`: Number of bits used to represent the integer to be squared. The result is stored in a register of size 2*bitsize. \n",
    "\n",
    "#### Registers\n",
    " - `a`: A bitsize-sized input register (register a above).\n",
    " - `result`: A 2-bitsize-sized input/output register. \n",
    "\n",
    "#### References\n",
    " - [Fault-Tolerant Quantum Simulations of Chemistry in First Quantization](https://arxiv.org/abs/2105.12767). pg 76 for Toffoli complexity.\n"
   ]
  },
  {
   "cell_type": "code",
   "execution_count": 9,
   "id": "b9c9b141",
   "metadata": {
    "cq.autogen": "Square.bloq_doc.py"
   },
   "outputs": [],
   "source": [
    "from qualtran.bloqs.arithmetic import Square"
   ]
  },
  {
   "cell_type": "markdown",
   "id": "2f2fa4cb",
   "metadata": {
    "cq.autogen": "Square.example_instances.md"
   },
   "source": [
    "### Example Instances"
   ]
  },
  {
   "cell_type": "code",
   "execution_count": 10,
   "id": "74f0c312",
   "metadata": {
    "cq.autogen": "Square.square"
   },
   "outputs": [],
   "source": [
    "square = Square(bitsize=8)"
   ]
  },
  {
   "cell_type": "markdown",
   "id": "af4d7c44",
   "metadata": {
    "cq.autogen": "Square.graphical_signature.md"
   },
   "source": [
    "#### Graphical Signature"
   ]
  },
  {
   "cell_type": "code",
   "execution_count": 11,
   "id": "d1fb05e3",
   "metadata": {
    "cq.autogen": "Square.graphical_signature.py"
   },
   "outputs": [
    {
     "data": {
      "application/vnd.jupyter.widget-view+json": {
       "model_id": "e410cdc0a0c345f781bc19d0bdb8be3f",
       "version_major": 2,
       "version_minor": 0
      },
      "text/plain": [
       "HBox(children=(Output(outputs=({'output_type': 'display_data', 'data': {'text/plain': '<IPython.core.display.M…"
      ]
     },
     "metadata": {},
     "output_type": "display_data"
    }
   ],
   "source": [
    "from qualtran.drawing import show_bloqs\n",
    "show_bloqs([square],\n",
    "           ['`square`'])"
   ]
  },
  {
   "cell_type": "markdown",
   "id": "61ad10d5",
   "metadata": {
    "cq.autogen": "Square.call_graph.md"
   },
   "source": [
    "### Call Graph"
   ]
  },
  {
   "cell_type": "code",
   "execution_count": 12,
   "id": "f899d345",
   "metadata": {
    "cq.autogen": "Square.call_graph.py"
   },
   "outputs": [
    {
     "data": {
      "image/svg+xml": [
       "<svg xmlns=\"http://www.w3.org/2000/svg\" xmlns:xlink=\"http://www.w3.org/1999/xlink\" width=\"64pt\" height=\"131pt\" viewBox=\"0.00 0.00 64.00 131.00\">\n",
       "<g id=\"graph0\" class=\"graph\" transform=\"scale(1 1) rotate(0) translate(4 127)\">\n",
       "<title>counts</title>\n",
       "<polygon fill=\"white\" stroke=\"transparent\" points=\"-4,4 -4,-127 60,-127 60,4 -4,4\"/>\n",
       "<!-- b0 -->\n",
       "<g id=\"node1\" class=\"node\">\n",
       "<title>b0</title>\n",
       "<polygon fill=\"none\" stroke=\"black\" points=\"8,-93 8,-116 48,-116 48,-93 8,-93\"/>\n",
       "<text text-anchor=\"start\" x=\"14\" y=\"-102\" font-family=\"Times,serif\" font-size=\"10.00\">Square</text>\n",
       "</g>\n",
       "<!-- b1 -->\n",
       "<g id=\"node2\" class=\"node\">\n",
       "<title>b1</title>\n",
       "<polygon fill=\"none\" stroke=\"black\" points=\"8,-6 8,-29 48,-29 48,-6 8,-6\"/>\n",
       "<text text-anchor=\"start\" x=\"14\" y=\"-15\" font-family=\"Times,serif\" font-size=\"10.00\">Toffoli</text>\n",
       "</g>\n",
       "<!-- b0&#45;&gt;b1 -->\n",
       "<g id=\"edge1\" class=\"edge\">\n",
       "<title>b0-&gt;b1</title>\n",
       "<path fill=\"none\" stroke=\"black\" d=\"M28,-86.8C28,-75.16 28,-59.55 28,-46.24\"/>\n",
       "<polygon fill=\"black\" stroke=\"black\" points=\"31.5,-46.18 28,-36.18 24.5,-46.18 31.5,-46.18\"/>\n",
       "<text text-anchor=\"middle\" x=\"35\" y=\"-57.8\" font-family=\"Times,serif\" font-size=\"14.00\">56</text>\n",
       "</g>\n",
       "</g>\n",
       "</svg>"
      ],
      "text/plain": [
       "<IPython.core.display.SVG object>"
      ]
     },
     "metadata": {},
     "output_type": "display_data"
    },
    {
     "data": {
      "text/markdown": [
       "#### Counts totals:\n",
       " - `Toffoli`: 56"
      ],
      "text/plain": [
       "<IPython.core.display.Markdown object>"
      ]
     },
     "metadata": {},
     "output_type": "display_data"
    }
   ],
   "source": [
    "from qualtran.resource_counting.generalizers import ignore_split_join\n",
    "square_g, square_sigma = square.call_graph(max_depth=1, generalizer=ignore_split_join)\n",
    "show_call_graph(square_g)\n",
    "show_counts_sigma(square_sigma)"
   ]
  },
  {
   "cell_type": "markdown",
   "id": "b8cb3d26",
   "metadata": {
    "cq.autogen": "SumOfSquares.bloq_doc.md"
   },
   "source": [
    "## `SumOfSquares`\n",
    "Compute the sum of squares of k n-bit binary numbers.\n",
    "\n",
    "Implements $U|a\\rangle|b\\rangle\\dots k\\rangle|0\\rangle \\rightarrow\n",
    "    |a\\rangle|b\\rangle\\dots|k\\rangle|a^2+b^2+\\dots k^2\\rangle$ using\n",
    "    $4 k n^2 T$ gates.\n",
    "\n",
    "The number of bits required by the output register is 2*bitsize + ceil(log2(k)).\n",
    "\n",
    "#### Parameters\n",
    " - `bitsize`: Number of bits used to represent each of the k integers.\n",
    " - `k`: The number of integers we want to square. \n",
    "\n",
    "#### Registers\n",
    " - `input`: k n-bit registers.\n",
    " - `result`: 2 * bitsize + ceil(log2(k)) sized output register. \n",
    "\n",
    "#### References\n",
    " - [Fault-Tolerant Quantum Simulations of Chemistry in First Quantization](https://arxiv.org/abs/2105.12767). pg 80 gives a Toffoli complexity for squaring.\n"
   ]
  },
  {
   "cell_type": "code",
   "execution_count": 13,
   "id": "c67129b2",
   "metadata": {
    "cq.autogen": "SumOfSquares.bloq_doc.py"
   },
   "outputs": [],
   "source": [
    "from qualtran.bloqs.arithmetic import SumOfSquares"
   ]
  },
  {
   "cell_type": "markdown",
   "id": "d7c136d2",
   "metadata": {
    "cq.autogen": "SumOfSquares.example_instances.md"
   },
   "source": [
    "### Example Instances"
   ]
  },
  {
   "cell_type": "code",
   "execution_count": 14,
   "id": "9398c94f",
   "metadata": {
    "cq.autogen": "SumOfSquares.sum_of_squares"
   },
   "outputs": [],
   "source": [
    "sum_of_squares = SumOfSquares(bitsize=8, k=4)"
   ]
  },
  {
   "cell_type": "markdown",
   "id": "3d954684",
   "metadata": {
    "cq.autogen": "SumOfSquares.graphical_signature.md"
   },
   "source": [
    "#### Graphical Signature"
   ]
  },
  {
   "cell_type": "code",
   "execution_count": 15,
   "id": "5d15b935",
   "metadata": {
    "cq.autogen": "SumOfSquares.graphical_signature.py"
   },
   "outputs": [
    {
     "data": {
      "application/vnd.jupyter.widget-view+json": {
       "model_id": "3ae25e3a2e434555aaa0db67474d97b0",
       "version_major": 2,
       "version_minor": 0
      },
      "text/plain": [
       "HBox(children=(Output(outputs=({'output_type': 'display_data', 'data': {'text/plain': '<IPython.core.display.M…"
      ]
     },
     "metadata": {},
     "output_type": "display_data"
    }
   ],
   "source": [
    "from qualtran.drawing import show_bloqs\n",
    "show_bloqs([sum_of_squares],\n",
    "           ['`sum_of_squares`'])"
   ]
  },
  {
   "cell_type": "markdown",
   "id": "45fc4f90",
   "metadata": {
    "cq.autogen": "SumOfSquares.call_graph.md"
   },
   "source": [
    "### Call Graph"
   ]
  },
  {
   "cell_type": "code",
   "execution_count": 16,
   "id": "a79cf488",
   "metadata": {
    "cq.autogen": "SumOfSquares.call_graph.py"
   },
   "outputs": [
    {
     "data": {
      "image/svg+xml": [
       "<svg xmlns=\"http://www.w3.org/2000/svg\" xmlns:xlink=\"http://www.w3.org/1999/xlink\" width=\"98pt\" height=\"131pt\" viewBox=\"0.00 0.00 98.00 131.00\">\n",
       "<g id=\"graph0\" class=\"graph\" transform=\"scale(1 1) rotate(0) translate(4 127)\">\n",
       "<title>counts</title>\n",
       "<polygon fill=\"white\" stroke=\"transparent\" points=\"-4,4 -4,-127 94,-127 94,4 -4,4\"/>\n",
       "<!-- b0 -->\n",
       "<g id=\"node1\" class=\"node\">\n",
       "<title>b0</title>\n",
       "<polygon fill=\"none\" stroke=\"black\" points=\"8,-93 8,-116 82,-116 82,-93 8,-93\"/>\n",
       "<text text-anchor=\"start\" x=\"14.5\" y=\"-102\" font-family=\"Times,serif\" font-size=\"10.00\">SumOfSquares</text>\n",
       "</g>\n",
       "<!-- b1 -->\n",
       "<g id=\"node2\" class=\"node\">\n",
       "<title>b1</title>\n",
       "<polygon fill=\"none\" stroke=\"black\" points=\"25,-6 25,-29 65,-29 65,-6 25,-6\"/>\n",
       "<text text-anchor=\"start\" x=\"31\" y=\"-15\" font-family=\"Times,serif\" font-size=\"10.00\">Toffoli</text>\n",
       "</g>\n",
       "<!-- b0&#45;&gt;b1 -->\n",
       "<g id=\"edge1\" class=\"edge\">\n",
       "<title>b0-&gt;b1</title>\n",
       "<path fill=\"none\" stroke=\"black\" d=\"M45,-86.8C45,-75.16 45,-59.55 45,-46.24\"/>\n",
       "<polygon fill=\"black\" stroke=\"black\" points=\"48.5,-46.18 45,-36.18 41.5,-46.18 48.5,-46.18\"/>\n",
       "<text text-anchor=\"middle\" x=\"55.5\" y=\"-57.8\" font-family=\"Times,serif\" font-size=\"14.00\">248</text>\n",
       "</g>\n",
       "</g>\n",
       "</svg>"
      ],
      "text/plain": [
       "<IPython.core.display.SVG object>"
      ]
     },
     "metadata": {},
     "output_type": "display_data"
    },
    {
     "data": {
      "text/markdown": [
       "#### Counts totals:\n",
       " - `Toffoli`: 248"
      ],
      "text/plain": [
       "<IPython.core.display.Markdown object>"
      ]
     },
     "metadata": {},
     "output_type": "display_data"
    }
   ],
   "source": [
    "from qualtran.resource_counting.generalizers import ignore_split_join\n",
    "sum_of_squares_g, sum_of_squares_sigma = sum_of_squares.call_graph(max_depth=1, generalizer=ignore_split_join)\n",
    "show_call_graph(sum_of_squares_g)\n",
    "show_counts_sigma(sum_of_squares_sigma)"
   ]
  },
  {
   "cell_type": "markdown",
   "id": "263d02db",
   "metadata": {
    "cq.autogen": "ScaleIntByReal.bloq_doc.md"
   },
   "source": [
    "## `ScaleIntByReal`\n",
    "Scale an integer by fixed-point representation of a real number.\n",
    "\n",
    "i.e.\n",
    "\n",
    "$$\n",
    "    |r\\rangle|i\\rangle|0\\rangle \\rightarrow |r\\rangle|i\\rangle|r \\times i\\rangle\n",
    "$$\n",
    "\n",
    "The real number is assumed to be in the range [0, 1).\n",
    "\n",
    "#### Parameters\n",
    " - `r_bitsize`: Number of bits used to represent the real number.\n",
    " - `i_bitsize`: Number of bits used to represent the integer. \n",
    "\n",
    "#### Registers\n",
    " - `real_in`: r_bitsize-sized input fixed-point register.\n",
    " - `int_in`: i_bitsize-sized input register.\n",
    " - `result`: a r_bitsize sized output fixed-point register. \n",
    "\n",
    "#### References\n",
    " - [Compilation of Fault-Tolerant Quantum Heuristics for Combinatorial Optimization](https://arxiv.org/abs/2007.07391). pg 70.\n"
   ]
  },
  {
   "cell_type": "code",
   "execution_count": 17,
   "id": "5b7ae7b1",
   "metadata": {
    "cq.autogen": "ScaleIntByReal.bloq_doc.py"
   },
   "outputs": [],
   "source": [
    "from qualtran.bloqs.arithmetic import ScaleIntByReal"
   ]
  },
  {
   "cell_type": "markdown",
   "id": "1afc0f65",
   "metadata": {
    "cq.autogen": "ScaleIntByReal.example_instances.md"
   },
   "source": [
    "### Example Instances"
   ]
  },
  {
   "cell_type": "code",
   "execution_count": 18,
   "id": "97276ea9",
   "metadata": {
    "cq.autogen": "ScaleIntByReal.scale_int_by_real"
   },
   "outputs": [],
   "source": [
    "scale_int_by_real = ScaleIntByReal(r_bitsize=12, i_bitsize=4)"
   ]
  },
  {
   "cell_type": "markdown",
   "id": "d46ee13e",
   "metadata": {
    "cq.autogen": "ScaleIntByReal.graphical_signature.md"
   },
   "source": [
    "#### Graphical Signature"
   ]
  },
  {
   "cell_type": "code",
   "execution_count": 19,
   "id": "b0f3c38b",
   "metadata": {
    "cq.autogen": "ScaleIntByReal.graphical_signature.py"
   },
   "outputs": [
    {
     "data": {
      "application/vnd.jupyter.widget-view+json": {
       "model_id": "4bb20fdd7cba49f3bbcd0d98aea7c974",
       "version_major": 2,
       "version_minor": 0
      },
      "text/plain": [
       "HBox(children=(Output(outputs=({'output_type': 'display_data', 'data': {'text/plain': '<IPython.core.display.M…"
      ]
     },
     "metadata": {},
     "output_type": "display_data"
    }
   ],
   "source": [
    "from qualtran.drawing import show_bloqs\n",
    "show_bloqs([scale_int_by_real],\n",
    "           ['`scale_int_by_real`'])"
   ]
  },
  {
   "cell_type": "markdown",
   "id": "b4ea9935",
   "metadata": {
    "cq.autogen": "ScaleIntByReal.call_graph.md"
   },
   "source": [
    "### Call Graph"
   ]
  },
  {
   "cell_type": "code",
   "execution_count": 20,
   "id": "b3364d83",
   "metadata": {
    "cq.autogen": "ScaleIntByReal.call_graph.py"
   },
   "outputs": [
    {
     "data": {
      "image/svg+xml": [
       "<svg xmlns=\"http://www.w3.org/2000/svg\" xmlns:xlink=\"http://www.w3.org/1999/xlink\" width=\"100pt\" height=\"131pt\" viewBox=\"0.00 0.00 100.00 131.00\">\n",
       "<g id=\"graph0\" class=\"graph\" transform=\"scale(1 1) rotate(0) translate(4 127)\">\n",
       "<title>counts</title>\n",
       "<polygon fill=\"white\" stroke=\"transparent\" points=\"-4,4 -4,-127 96,-127 96,4 -4,4\"/>\n",
       "<!-- b0 -->\n",
       "<g id=\"node1\" class=\"node\">\n",
       "<title>b0</title>\n",
       "<polygon fill=\"none\" stroke=\"black\" points=\"8,-93 8,-116 84,-116 84,-93 8,-93\"/>\n",
       "<text text-anchor=\"start\" x=\"14\" y=\"-102\" font-family=\"Times,serif\" font-size=\"10.00\">ScaleIntByReal</text>\n",
       "</g>\n",
       "<!-- b1 -->\n",
       "<g id=\"node2\" class=\"node\">\n",
       "<title>b1</title>\n",
       "<polygon fill=\"none\" stroke=\"black\" points=\"26,-6 26,-29 66,-29 66,-6 26,-6\"/>\n",
       "<text text-anchor=\"start\" x=\"32\" y=\"-15\" font-family=\"Times,serif\" font-size=\"10.00\">Toffoli</text>\n",
       "</g>\n",
       "<!-- b0&#45;&gt;b1 -->\n",
       "<g id=\"edge1\" class=\"edge\">\n",
       "<title>b0-&gt;b1</title>\n",
       "<path fill=\"none\" stroke=\"black\" d=\"M46,-86.8C46,-75.16 46,-59.55 46,-46.24\"/>\n",
       "<polygon fill=\"black\" stroke=\"black\" points=\"49.5,-46.18 46,-36.18 42.5,-46.18 49.5,-46.18\"/>\n",
       "<text text-anchor=\"middle\" x=\"53\" y=\"-57.8\" font-family=\"Times,serif\" font-size=\"14.00\">68</text>\n",
       "</g>\n",
       "</g>\n",
       "</svg>"
      ],
      "text/plain": [
       "<IPython.core.display.SVG object>"
      ]
     },
     "metadata": {},
     "output_type": "display_data"
    },
    {
     "data": {
      "text/markdown": [
       "#### Counts totals:\n",
       " - `Toffoli`: 68"
      ],
      "text/plain": [
       "<IPython.core.display.Markdown object>"
      ]
     },
     "metadata": {},
     "output_type": "display_data"
    }
   ],
   "source": [
    "from qualtran.resource_counting.generalizers import ignore_split_join\n",
    "scale_int_by_real_g, scale_int_by_real_sigma = scale_int_by_real.call_graph(max_depth=1, generalizer=ignore_split_join)\n",
    "show_call_graph(scale_int_by_real_g)\n",
    "show_counts_sigma(scale_int_by_real_sigma)"
   ]
  },
  {
   "cell_type": "markdown",
   "id": "09dcd608",
   "metadata": {
    "cq.autogen": "MultiplyTwoReals.bloq_doc.md"
   },
   "source": [
    "## `MultiplyTwoReals`\n",
    "Multiply two fixed-point representations of real numbers\n",
    "\n",
    "i.e.\n",
    "\n",
    "$$\n",
    "    |a\\rangle|b\\rangle|0\\rangle \\rightarrow |a\\rangle|b\\rangle|a \\times b\\rangle\n",
    "$$\n",
    "\n",
    "The real numbers are assumed to be in the range [0, 1).\n",
    "\n",
    "#### Parameters\n",
    " - `bitsize`: Number of bits used to represent the real number. \n",
    "\n",
    "#### Registers\n",
    " - `a`: bitsize-sized input register.\n",
    " - `b`: bitsize-sized input register.\n",
    " - `result`: bitsize output register \n",
    "\n",
    "#### References\n",
    " - [Compilation of Fault-Tolerant Quantum Heuristics for Combinatorial Optimization](https://arxiv.org/abs/2007.07391). Appendix D. Section 5. (p. 71).\n"
   ]
  },
  {
   "cell_type": "code",
   "execution_count": 21,
   "id": "fc413fbc",
   "metadata": {
    "cq.autogen": "MultiplyTwoReals.bloq_doc.py"
   },
   "outputs": [],
   "source": [
    "from qualtran.bloqs.arithmetic import MultiplyTwoReals"
   ]
  },
  {
   "cell_type": "markdown",
   "id": "766c68e4",
   "metadata": {
    "cq.autogen": "MultiplyTwoReals.example_instances.md"
   },
   "source": [
    "### Example Instances"
   ]
  },
  {
   "cell_type": "code",
   "execution_count": 22,
   "id": "2e090bbf",
   "metadata": {
    "cq.autogen": "MultiplyTwoReals.multiply_two_reals"
   },
   "outputs": [],
   "source": [
    "multiply_two_reals = MultiplyTwoReals(bitsize=10)"
   ]
  },
  {
   "cell_type": "markdown",
   "id": "b9322b48",
   "metadata": {
    "cq.autogen": "MultiplyTwoReals.graphical_signature.md"
   },
   "source": [
    "#### Graphical Signature"
   ]
  },
  {
   "cell_type": "code",
   "execution_count": 23,
   "id": "85940d98",
   "metadata": {
    "cq.autogen": "MultiplyTwoReals.graphical_signature.py"
   },
   "outputs": [
    {
     "data": {
      "application/vnd.jupyter.widget-view+json": {
       "model_id": "df696e6e9c3442bca40390f2e97b9685",
       "version_major": 2,
       "version_minor": 0
      },
      "text/plain": [
       "HBox(children=(Output(outputs=({'output_type': 'display_data', 'data': {'text/plain': '<IPython.core.display.M…"
      ]
     },
     "metadata": {},
     "output_type": "display_data"
    }
   ],
   "source": [
    "from qualtran.drawing import show_bloqs\n",
    "show_bloqs([multiply_two_reals],\n",
    "           ['`multiply_two_reals`'])"
   ]
  },
  {
   "cell_type": "markdown",
   "id": "85d69a0e",
   "metadata": {
    "cq.autogen": "MultiplyTwoReals.call_graph.md"
   },
   "source": [
    "### Call Graph"
   ]
  },
  {
   "cell_type": "code",
   "execution_count": 24,
   "id": "de70dbe6",
   "metadata": {
    "cq.autogen": "MultiplyTwoReals.call_graph.py"
   },
   "outputs": [
    {
     "data": {
      "image/svg+xml": [
       "<svg xmlns=\"http://www.w3.org/2000/svg\" xmlns:xlink=\"http://www.w3.org/1999/xlink\" width=\"114pt\" height=\"131pt\" viewBox=\"0.00 0.00 114.00 131.00\">\n",
       "<g id=\"graph0\" class=\"graph\" transform=\"scale(1 1) rotate(0) translate(4 127)\">\n",
       "<title>counts</title>\n",
       "<polygon fill=\"white\" stroke=\"transparent\" points=\"-4,4 -4,-127 110,-127 110,4 -4,4\"/>\n",
       "<!-- b0 -->\n",
       "<g id=\"node1\" class=\"node\">\n",
       "<title>b0</title>\n",
       "<polygon fill=\"none\" stroke=\"black\" points=\"8,-93 8,-116 98,-116 98,-93 8,-93\"/>\n",
       "<text text-anchor=\"start\" x=\"14\" y=\"-102\" font-family=\"Times,serif\" font-size=\"10.00\">MultiplyTwoReals</text>\n",
       "</g>\n",
       "<!-- b1 -->\n",
       "<g id=\"node2\" class=\"node\">\n",
       "<title>b1</title>\n",
       "<polygon fill=\"none\" stroke=\"black\" points=\"33,-6 33,-29 73,-29 73,-6 33,-6\"/>\n",
       "<text text-anchor=\"start\" x=\"39\" y=\"-15\" font-family=\"Times,serif\" font-size=\"10.00\">Toffoli</text>\n",
       "</g>\n",
       "<!-- b0&#45;&gt;b1 -->\n",
       "<g id=\"edge1\" class=\"edge\">\n",
       "<title>b0-&gt;b1</title>\n",
       "<path fill=\"none\" stroke=\"black\" d=\"M53,-86.8C53,-75.16 53,-59.55 53,-46.24\"/>\n",
       "<polygon fill=\"black\" stroke=\"black\" points=\"56.5,-46.18 53,-36.18 49.5,-46.18 56.5,-46.18\"/>\n",
       "<text text-anchor=\"middle\" x=\"60\" y=\"-57.8\" font-family=\"Times,serif\" font-size=\"14.00\">89</text>\n",
       "</g>\n",
       "</g>\n",
       "</svg>"
      ],
      "text/plain": [
       "<IPython.core.display.SVG object>"
      ]
     },
     "metadata": {},
     "output_type": "display_data"
    },
    {
     "data": {
      "text/markdown": [
       "#### Counts totals:\n",
       " - `Toffoli`: 89"
      ],
      "text/plain": [
       "<IPython.core.display.Markdown object>"
      ]
     },
     "metadata": {},
     "output_type": "display_data"
    }
   ],
   "source": [
    "from qualtran.resource_counting.generalizers import ignore_split_join\n",
    "multiply_two_reals_g, multiply_two_reals_sigma = multiply_two_reals.call_graph(max_depth=1, generalizer=ignore_split_join)\n",
    "show_call_graph(multiply_two_reals_g)\n",
    "show_counts_sigma(multiply_two_reals_sigma)"
   ]
  },
  {
   "cell_type": "markdown",
   "id": "075c2d2a",
   "metadata": {
    "cq.autogen": "SquareRealNumber.bloq_doc.md"
   },
   "source": [
    "## `SquareRealNumber`\n",
    "Square a fixed-point representation of a real number\n",
    "\n",
    "i.e.\n",
    "\n",
    "$$\n",
    "    |a\\rangle|0\\rangle \\rightarrow |a\\rangle|a^2\\rangle\n",
    "$$\n",
    "\n",
    "The real numbers are assumed to be in the range [0, 1).\n",
    "\n",
    "#### Parameters\n",
    " - `bitsize`: Number of bits used to represent the real number. \n",
    "\n",
    "#### Registers\n",
    " - `a`: bitsize-sized input register.\n",
    " - `b`: bitsize-sized input register.\n",
    " - `result`: bitsize output register \n",
    "\n",
    "#### References\n",
    " - [Compilation of Fault-Tolerant Quantum Heuristics for Combinatorial Optimization](https://arxiv.org/abs/2007.07391). Appendix D. Section 6. (p. 74).\n"
   ]
  },
  {
   "cell_type": "code",
   "execution_count": 25,
   "id": "1521a0dd",
   "metadata": {
    "cq.autogen": "SquareRealNumber.bloq_doc.py"
   },
   "outputs": [],
   "source": [
    "from qualtran.bloqs.arithmetic import SquareRealNumber"
   ]
  },
  {
   "cell_type": "markdown",
   "id": "36bc840d",
   "metadata": {
    "cq.autogen": "SquareRealNumber.example_instances.md"
   },
   "source": [
    "### Example Instances"
   ]
  },
  {
   "cell_type": "code",
   "execution_count": 26,
   "id": "2c7f730f",
   "metadata": {
    "cq.autogen": "SquareRealNumber.square_real_number"
   },
   "outputs": [],
   "source": [
    "square_real_number = SquareRealNumber(bitsize=10)"
   ]
  },
  {
   "cell_type": "markdown",
   "id": "5e2fc726",
   "metadata": {
    "cq.autogen": "SquareRealNumber.graphical_signature.md"
   },
   "source": [
    "#### Graphical Signature"
   ]
  },
  {
   "cell_type": "code",
   "execution_count": 27,
   "id": "c1eea122",
   "metadata": {
    "cq.autogen": "SquareRealNumber.graphical_signature.py"
   },
   "outputs": [
    {
     "data": {
      "application/vnd.jupyter.widget-view+json": {
       "model_id": "54a43c10875f4fe39fd52a0f36085356",
       "version_major": 2,
       "version_minor": 0
      },
      "text/plain": [
       "HBox(children=(Output(outputs=({'output_type': 'display_data', 'data': {'text/plain': '<IPython.core.display.M…"
      ]
     },
     "metadata": {},
     "output_type": "display_data"
    }
   ],
   "source": [
    "from qualtran.drawing import show_bloqs\n",
    "show_bloqs([square_real_number],\n",
    "           ['`square_real_number`'])"
   ]
  },
  {
   "cell_type": "markdown",
   "id": "b410a3af",
   "metadata": {
    "cq.autogen": "SquareRealNumber.call_graph.md"
   },
   "source": [
    "### Call Graph"
   ]
  },
  {
   "cell_type": "code",
   "execution_count": 28,
   "id": "f2016953",
   "metadata": {
    "cq.autogen": "SquareRealNumber.call_graph.py"
   },
   "outputs": [
    {
     "data": {
      "image/svg+xml": [
       "<svg xmlns=\"http://www.w3.org/2000/svg\" xmlns:xlink=\"http://www.w3.org/1999/xlink\" width=\"116pt\" height=\"131pt\" viewBox=\"0.00 0.00 116.00 131.00\">\n",
       "<g id=\"graph0\" class=\"graph\" transform=\"scale(1 1) rotate(0) translate(4 127)\">\n",
       "<title>counts</title>\n",
       "<polygon fill=\"white\" stroke=\"transparent\" points=\"-4,4 -4,-127 112,-127 112,4 -4,4\"/>\n",
       "<!-- b0 -->\n",
       "<g id=\"node1\" class=\"node\">\n",
       "<title>b0</title>\n",
       "<polygon fill=\"none\" stroke=\"black\" points=\"8,-93 8,-116 100,-116 100,-93 8,-93\"/>\n",
       "<text text-anchor=\"start\" x=\"14\" y=\"-102\" font-family=\"Times,serif\" font-size=\"10.00\">SquareRealNumber</text>\n",
       "</g>\n",
       "<!-- b1 -->\n",
       "<g id=\"node2\" class=\"node\">\n",
       "<title>b1</title>\n",
       "<polygon fill=\"none\" stroke=\"black\" points=\"34,-6 34,-29 74,-29 74,-6 34,-6\"/>\n",
       "<text text-anchor=\"start\" x=\"40\" y=\"-15\" font-family=\"Times,serif\" font-size=\"10.00\">Toffoli</text>\n",
       "</g>\n",
       "<!-- b0&#45;&gt;b1 -->\n",
       "<g id=\"edge1\" class=\"edge\">\n",
       "<title>b0-&gt;b1</title>\n",
       "<path fill=\"none\" stroke=\"black\" d=\"M54,-86.8C54,-75.16 54,-59.55 54,-46.24\"/>\n",
       "<polygon fill=\"black\" stroke=\"black\" points=\"57.5,-46.18 54,-36.18 50.5,-46.18 57.5,-46.18\"/>\n",
       "<text text-anchor=\"middle\" x=\"61\" y=\"-57.8\" font-family=\"Times,serif\" font-size=\"14.00\">46</text>\n",
       "</g>\n",
       "</g>\n",
       "</svg>"
      ],
      "text/plain": [
       "<IPython.core.display.SVG object>"
      ]
     },
     "metadata": {},
     "output_type": "display_data"
    },
    {
     "data": {
      "text/markdown": [
       "#### Counts totals:\n",
       " - `Toffoli`: 46"
      ],
      "text/plain": [
       "<IPython.core.display.Markdown object>"
      ]
     },
     "metadata": {},
     "output_type": "display_data"
    }
   ],
   "source": [
    "from qualtran.resource_counting.generalizers import ignore_split_join\n",
    "square_real_number_g, square_real_number_sigma = square_real_number.call_graph(max_depth=1, generalizer=ignore_split_join)\n",
    "show_call_graph(square_real_number_g)\n",
    "show_counts_sigma(square_real_number_sigma)"
   ]
  },
  {
   "cell_type": "code",
   "execution_count": 29,
   "id": "54754463",
   "metadata": {
    "cq.autogen": "PlusEqualProduct.graphical_signature.py"
   },
   "outputs": [
    {
     "data": {
      "application/vnd.jupyter.widget-view+json": {
       "model_id": "10eb0f15d06d46f5899eceb06b785552",
       "version_major": 2,
       "version_minor": 0
      },
      "text/plain": [
       "HBox(children=(Output(outputs=({'output_type': 'display_data', 'data': {'text/plain': '<IPython.core.display.M…"
      ]
     },
     "metadata": {},
     "output_type": "display_data"
    }
   ],
   "source": [
    "from qualtran.drawing import show_bloqs\n",
    "show_bloqs([plus_equal_product],\n",
    "           ['`plus_equal_product`'])"
   ]
  },
  {
   "cell_type": "markdown",
   "id": "2be05cf8",
   "metadata": {
    "cq.autogen": "InvertRealNumber.bloq_doc.md"
   },
   "source": [
    "## `InvertRealNumber`\n",
    "Invert a fixed-point representation of a real number.\n",
    "\n",
    "Implements the unitary:\n",
    "$$\n",
    "    |a\\rangle|0\\rangle \\rightarrow |a\\rangle|1/a\\rangle\n",
    "$$\n",
    "where $a \\ge 1$.\n",
    "\n",
    "#### Parameters\n",
    " - `bitsize`: Number of bits used to represent the number.\n",
    " - `num_frac`: Number of fraction bits in the number. \n",
    "\n",
    "#### Registers\n",
    " - `a`: `bitsize`-sized input register.\n",
    " - `result`: `bitsize`-sized output register. \n",
    " - `References`: \n",
    " - `[Quantum Algorithms and Circuits for Scientific Computing](https`: //arxiv.org/pdf/1511.08253). Section 2.1.\n"
   ]
  },
  {
   "cell_type": "code",
   "execution_count": 30,
   "id": "587e4a5f",
   "metadata": {
    "cq.autogen": "InvertRealNumber.bloq_doc.py"
   },
   "outputs": [],
   "source": [
    "from qualtran.bloqs.arithmetic import InvertRealNumber"
   ]
  },
  {
   "cell_type": "markdown",
   "id": "feabf392",
   "metadata": {
    "cq.autogen": "InvertRealNumber.example_instances.md"
   },
   "source": [
    "### Example Instances"
   ]
  },
  {
   "cell_type": "code",
   "execution_count": 31,
   "id": "fc402a6a",
   "metadata": {
    "cq.autogen": "InvertRealNumber.invert_real_number"
   },
   "outputs": [],
   "source": [
    "invert_real_number = InvertRealNumber(bitsize=10, num_frac=7)"
   ]
  },
  {
   "cell_type": "markdown",
   "id": "9a600ad4",
   "metadata": {
    "cq.autogen": "InvertRealNumber.graphical_signature.md"
   },
   "source": [
    "#### Graphical Signature"
   ]
  },
  {
   "cell_type": "code",
   "execution_count": 32,
   "id": "608833cb",
   "metadata": {
    "cq.autogen": "InvertRealNumber.graphical_signature.py"
   },
   "outputs": [
    {
     "data": {
      "application/vnd.jupyter.widget-view+json": {
       "model_id": "0aafe0efb670484ea7dc7c1e61e66a11",
       "version_major": 2,
       "version_minor": 0
      },
      "text/plain": [
       "HBox(children=(Output(outputs=({'output_type': 'display_data', 'data': {'text/plain': '<IPython.core.display.M…"
      ]
     },
     "metadata": {},
     "output_type": "display_data"
    }
   ],
   "source": [
    "from qualtran.drawing import show_bloqs\n",
    "show_bloqs([invert_real_number],\n",
    "           ['`invert_real_number`'])"
   ]
  },
  {
   "cell_type": "markdown",
   "id": "20751180",
   "metadata": {
    "cq.autogen": "InvertRealNumber.call_graph.md"
   },
   "source": [
    "### Call Graph"
   ]
  },
  {
   "cell_type": "code",
   "execution_count": 33,
   "id": "62cd4ee3",
   "metadata": {
    "cq.autogen": "InvertRealNumber.call_graph.py"
   },
   "outputs": [
    {
     "data": {
      "image/svg+xml": [
       "<svg xmlns=\"http://www.w3.org/2000/svg\" xmlns:xlink=\"http://www.w3.org/1999/xlink\" width=\"722pt\" height=\"131pt\" viewBox=\"0.00 0.00 722.00 131.00\">\n",
       "<g id=\"graph0\" class=\"graph\" transform=\"scale(1 1) rotate(0) translate(4 127)\">\n",
       "<title>counts</title>\n",
       "<polygon fill=\"white\" stroke=\"transparent\" points=\"-4,4 -4,-127 718,-127 718,4 -4,4\"/>\n",
       "<!-- b0 -->\n",
       "<g id=\"node1\" class=\"node\">\n",
       "<title>b0</title>\n",
       "<polygon fill=\"none\" stroke=\"black\" points=\"252,-93 252,-116 340,-116 340,-93 252,-93\"/>\n",
       "<text text-anchor=\"start\" x=\"258\" y=\"-102\" font-family=\"Times,serif\" font-size=\"10.00\">InvertRealNumber</text>\n",
       "</g>\n",
       "<!-- b1 -->\n",
       "<g id=\"node2\" class=\"node\">\n",
       "<title>b1</title>\n",
       "<polygon fill=\"none\" stroke=\"black\" points=\"8,-6 8,-29 48,-29 48,-6 8,-6\"/>\n",
       "<text text-anchor=\"start\" x=\"14\" y=\"-15\" font-family=\"Times,serif\" font-size=\"10.00\">Toffoli</text>\n",
       "</g>\n",
       "<!-- b0&#45;&gt;b1 -->\n",
       "<g id=\"edge1\" class=\"edge\">\n",
       "<title>b0-&gt;b1</title>\n",
       "<path fill=\"none\" stroke=\"black\" d=\"M243.84,-91.2C198.71,-79.55 131.75,-60.91 65.84,-36.08\"/>\n",
       "<polygon fill=\"black\" stroke=\"black\" points=\"66.71,-32.67 56.12,-32.37 64.22,-39.21 66.71,-32.67\"/>\n",
       "<text text-anchor=\"middle\" x=\"162.5\" y=\"-57.8\" font-family=\"Times,serif\" font-size=\"14.00\">2</text>\n",
       "</g>\n",
       "<!-- b2 -->\n",
       "<g id=\"node3\" class=\"node\">\n",
       "<title>b2</title>\n",
       "<polygon fill=\"none\" stroke=\"black\" points=\"82,-6 82,-29 122,-29 122,-6 82,-6\"/>\n",
       "<text text-anchor=\"start\" x=\"88\" y=\"-15\" font-family=\"Times,serif\" font-size=\"10.00\">CNOT</text>\n",
       "</g>\n",
       "<!-- b0&#45;&gt;b2 -->\n",
       "<g id=\"edge2\" class=\"edge\">\n",
       "<title>b0-&gt;b2</title>\n",
       "<path fill=\"none\" stroke=\"black\" d=\"M255.89,-86.91C226.15,-74.18 184.41,-56.18 139.56,-36.21\"/>\n",
       "<polygon fill=\"black\" stroke=\"black\" points=\"140.81,-32.94 130.25,-32.06 137.96,-39.33 140.81,-32.94\"/>\n",
       "<text text-anchor=\"middle\" x=\"215.5\" y=\"-57.8\" font-family=\"Times,serif\" font-size=\"14.00\">4</text>\n",
       "</g>\n",
       "<!-- b3 -->\n",
       "<g id=\"node4\" class=\"node\">\n",
       "<title>b3</title>\n",
       "<polygon fill=\"none\" stroke=\"black\" points=\"156,-6 156,-29 194,-29 194,-6 156,-6\"/>\n",
       "<text text-anchor=\"start\" x=\"162.5\" y=\"-15\" font-family=\"Times,serif\" font-size=\"10.00\">C^3X</text>\n",
       "</g>\n",
       "<!-- b0&#45;&gt;b3 -->\n",
       "<g id=\"edge3\" class=\"edge\">\n",
       "<title>b0-&gt;b3</title>\n",
       "<path fill=\"none\" stroke=\"black\" d=\"M271.51,-86.8C253.15,-73.9 227.81,-56.1 207.71,-41.98\"/>\n",
       "<polygon fill=\"black\" stroke=\"black\" points=\"209.64,-39.06 199.45,-36.18 205.62,-44.79 209.64,-39.06\"/>\n",
       "<text text-anchor=\"middle\" x=\"246.5\" y=\"-57.8\" font-family=\"Times,serif\" font-size=\"14.00\">1</text>\n",
       "</g>\n",
       "<!-- b4 -->\n",
       "<g id=\"node5\" class=\"node\">\n",
       "<title>b4</title>\n",
       "<polygon fill=\"none\" stroke=\"black\" points=\"237,-6 237,-29 257,-29 257,-6 237,-6\"/>\n",
       "<text text-anchor=\"start\" x=\"243\" y=\"-15\" font-family=\"Times,serif\" font-size=\"10.00\">X</text>\n",
       "</g>\n",
       "<!-- b0&#45;&gt;b4 -->\n",
       "<g id=\"edge4\" class=\"edge\">\n",
       "<title>b0-&gt;b4</title>\n",
       "<path fill=\"none\" stroke=\"black\" d=\"M286.08,-86.8C279.18,-74.82 269.84,-58.62 262.02,-45.06\"/>\n",
       "<polygon fill=\"black\" stroke=\"black\" points=\"264.93,-43.09 256.9,-36.18 258.86,-46.59 264.93,-43.09\"/>\n",
       "<text text-anchor=\"middle\" x=\"278.5\" y=\"-57.8\" font-family=\"Times,serif\" font-size=\"14.00\">1</text>\n",
       "</g>\n",
       "<!-- b5 -->\n",
       "<g id=\"node6\" class=\"node\">\n",
       "<title>b5</title>\n",
       "<polygon fill=\"none\" stroke=\"black\" points=\"300,-6 300,-29 392,-29 392,-6 300,-6\"/>\n",
       "<text text-anchor=\"start\" x=\"306\" y=\"-15\" font-family=\"Times,serif\" font-size=\"10.00\">SquareRealNumber</text>\n",
       "</g>\n",
       "<!-- b0&#45;&gt;b5 -->\n",
       "<g id=\"edge5\" class=\"edge\">\n",
       "<title>b0-&gt;b5</title>\n",
       "<path fill=\"none\" stroke=\"black\" d=\"M306.12,-86.8C313.17,-74.82 322.7,-58.62 330.67,-45.06\"/>\n",
       "<polygon fill=\"black\" stroke=\"black\" points=\"333.84,-46.57 335.9,-36.18 327.81,-43.02 333.84,-46.57\"/>\n",
       "<text text-anchor=\"middle\" x=\"327.5\" y=\"-57.8\" font-family=\"Times,serif\" font-size=\"14.00\">4</text>\n",
       "</g>\n",
       "<!-- b6 -->\n",
       "<g id=\"node7\" class=\"node\">\n",
       "<title>b6</title>\n",
       "<polygon fill=\"none\" stroke=\"black\" points=\"426,-6 426,-29 516,-29 516,-6 426,-6\"/>\n",
       "<text text-anchor=\"start\" x=\"432\" y=\"-15\" font-family=\"Times,serif\" font-size=\"10.00\">MultiplyTwoReals</text>\n",
       "</g>\n",
       "<!-- b0&#45;&gt;b6 -->\n",
       "<g id=\"edge6\" class=\"edge\">\n",
       "<title>b0-&gt;b6</title>\n",
       "<path fill=\"none\" stroke=\"black\" d=\"M331.41,-86.8C358.9,-73.45 397.17,-54.86 426.69,-40.52\"/>\n",
       "<polygon fill=\"black\" stroke=\"black\" points=\"428.47,-43.55 435.94,-36.03 425.41,-37.25 428.47,-43.55\"/>\n",
       "<text text-anchor=\"middle\" x=\"397.5\" y=\"-57.8\" font-family=\"Times,serif\" font-size=\"14.00\">4</text>\n",
       "</g>\n",
       "<!-- b7 -->\n",
       "<g id=\"node8\" class=\"node\">\n",
       "<title>b7</title>\n",
       "<polygon fill=\"none\" stroke=\"black\" points=\"550,-6 550,-29 626,-29 626,-6 550,-6\"/>\n",
       "<text text-anchor=\"start\" x=\"556\" y=\"-15\" font-family=\"Times,serif\" font-size=\"10.00\">ScaleIntByReal</text>\n",
       "</g>\n",
       "<!-- b0&#45;&gt;b7 -->\n",
       "<g id=\"edge7\" class=\"edge\">\n",
       "<title>b0-&gt;b7</title>\n",
       "<path fill=\"none\" stroke=\"black\" d=\"M348.34,-89.31C394.26,-76.35 463.09,-56.75 532.07,-36.25\"/>\n",
       "<polygon fill=\"black\" stroke=\"black\" points=\"533.22,-39.56 541.81,-33.35 531.22,-32.85 533.22,-39.56\"/>\n",
       "<text text-anchor=\"middle\" x=\"472.5\" y=\"-57.8\" font-family=\"Times,serif\" font-size=\"14.00\">4</text>\n",
       "</g>\n",
       "<!-- b8 -->\n",
       "<g id=\"node9\" class=\"node\">\n",
       "<title>b8</title>\n",
       "<polygon fill=\"none\" stroke=\"black\" points=\"660,-6 660,-29 706,-29 706,-6 660,-6\"/>\n",
       "<text text-anchor=\"start\" x=\"666\" y=\"-15\" font-family=\"Times,serif\" font-size=\"10.00\">Subtract</text>\n",
       "</g>\n",
       "<!-- b0&#45;&gt;b8 -->\n",
       "<g id=\"edge8\" class=\"edge\">\n",
       "<title>b0-&gt;b8</title>\n",
       "<path fill=\"none\" stroke=\"black\" d=\"M348.01,-97.36C414.62,-88.08 533.47,-68.91 641.99,-35.99\"/>\n",
       "<polygon fill=\"black\" stroke=\"black\" points=\"643.25,-39.26 651.78,-32.97 641.19,-32.57 643.25,-39.26\"/>\n",
       "<text text-anchor=\"middle\" x=\"580.5\" y=\"-57.8\" font-family=\"Times,serif\" font-size=\"14.00\">4</text>\n",
       "</g>\n",
       "</g>\n",
       "</svg>"
      ],
      "text/plain": [
       "<IPython.core.display.SVG object>"
      ]
     },
     "metadata": {},
     "output_type": "display_data"
    },
    {
     "data": {
      "text/markdown": [
       "#### Counts totals:\n",
       " - `CNOT`: 4\n",
       " - `C^3X`: 1\n",
       " - `MultiplyTwoReals`: 4\n",
       " - `ScaleIntByReal`: 4\n",
       " - `SquareRealNumber`: 4\n",
       " - `Subtract`: 4\n",
       " - `Toffoli`: 2\n",
       " - `X`: 1"
      ],
      "text/plain": [
       "<IPython.core.display.Markdown object>"
      ]
     },
     "metadata": {},
     "output_type": "display_data"
    }
   ],
   "source": [
    "from qualtran.resource_counting.generalizers import ignore_split_join\n",
    "invert_real_number_g, invert_real_number_sigma = invert_real_number.call_graph(max_depth=1, generalizer=ignore_split_join)\n",
    "show_call_graph(invert_real_number_g)\n",
    "show_counts_sigma(invert_real_number_sigma)"
   ]
  }
 ],
 "metadata": {
  "kernelspec": {
   "display_name": "Python 3",
   "language": "python",
   "name": "python3"
  },
  "language_info": {
   "codemirror_mode": {
    "name": "ipython",
    "version": 3
   },
   "file_extension": ".py",
   "mimetype": "text/x-python",
   "name": "python",
   "nbconvert_exporter": "python",
   "pygments_lexer": "ipython3",
   "version": "3.11.8"
  },
  "widgets": {
   "application/vnd.jupyter.widget-state+json": {
    "state": {
     "0674cca5343047428b472543f586da3b": {
      "model_module": "@jupyter-widgets/base",
      "model_module_version": "2.0.0",
      "model_name": "LayoutModel",
      "state": {
       "_model_module": "@jupyter-widgets/base",
       "_model_module_version": "2.0.0",
       "_model_name": "LayoutModel",
       "_view_count": null,
       "_view_module": "@jupyter-widgets/base",
       "_view_module_version": "2.0.0",
       "_view_name": "LayoutView",
       "align_content": null,
       "align_items": null,
       "align_self": null,
       "border_bottom": null,
       "border_left": null,
       "border_right": null,
       "border_top": null,
       "bottom": null,
       "display": null,
       "flex": null,
       "flex_flow": null,
       "grid_area": null,
       "grid_auto_columns": null,
       "grid_auto_flow": null,
       "grid_auto_rows": null,
       "grid_column": null,
       "grid_gap": null,
       "grid_row": null,
       "grid_template_areas": null,
       "grid_template_columns": null,
       "grid_template_rows": null,
       "height": null,
       "justify_content": null,
       "justify_items": null,
       "left": null,
       "margin": null,
       "max_height": null,
       "max_width": null,
       "min_height": null,
       "min_width": null,
       "object_fit": null,
       "object_position": null,
       "order": null,
       "overflow": null,
       "padding": null,
       "right": null,
       "top": null,
       "visibility": null,
       "width": null
      }
     },
     "06798d8fb0d243b19ff8fe65c9e86b7f": {
      "model_module": "@jupyter-widgets/base",
      "model_module_version": "2.0.0",
      "model_name": "LayoutModel",
      "state": {
       "_model_module": "@jupyter-widgets/base",
       "_model_module_version": "2.0.0",
       "_model_name": "LayoutModel",
       "_view_count": null,
       "_view_module": "@jupyter-widgets/base",
       "_view_module_version": "2.0.0",
       "_view_name": "LayoutView",
       "align_content": null,
       "align_items": null,
       "align_self": null,
       "border_bottom": null,
       "border_left": null,
       "border_right": null,
       "border_top": null,
       "bottom": null,
       "display": null,
       "flex": null,
       "flex_flow": null,
       "grid_area": null,
       "grid_auto_columns": null,
       "grid_auto_flow": null,
       "grid_auto_rows": null,
       "grid_column": null,
       "grid_gap": null,
       "grid_row": null,
       "grid_template_areas": null,
       "grid_template_columns": null,
       "grid_template_rows": null,
       "height": null,
       "justify_content": null,
       "justify_items": null,
       "left": null,
       "margin": null,
       "max_height": null,
       "max_width": null,
       "min_height": null,
       "min_width": null,
       "object_fit": null,
       "object_position": null,
       "order": null,
       "overflow": null,
       "padding": null,
       "right": null,
       "top": null,
       "visibility": null,
       "width": null
      }
     },
     "0aafe0efb670484ea7dc7c1e61e66a11": {
      "model_module": "@jupyter-widgets/controls",
      "model_module_version": "2.0.0",
      "model_name": "HBoxModel",
      "state": {
       "_dom_classes": [],
       "_model_module": "@jupyter-widgets/controls",
       "_model_module_version": "2.0.0",
       "_model_name": "HBoxModel",
       "_view_count": null,
       "_view_module": "@jupyter-widgets/controls",
       "_view_module_version": "2.0.0",
       "_view_name": "HBoxView",
       "box_style": "",
       "children": [
        "IPY_MODEL_e80de1f223b94917bb539f478cec364b"
       ],
       "layout": "IPY_MODEL_8072615e9ab4470f933648eab1c269a5",
       "tabbable": null,
       "tooltip": null
      }
     },
     "10eb0f15d06d46f5899eceb06b785552": {
      "model_module": "@jupyter-widgets/controls",
      "model_module_version": "2.0.0",
      "model_name": "HBoxModel",
      "state": {
       "_dom_classes": [],
       "_model_module": "@jupyter-widgets/controls",
       "_model_module_version": "2.0.0",
       "_model_name": "HBoxModel",
       "_view_count": null,
       "_view_module": "@jupyter-widgets/controls",
       "_view_module_version": "2.0.0",
       "_view_name": "HBoxView",
       "box_style": "",
       "children": [
        "IPY_MODEL_9ffde8d789a44716a9e29032383205ab"
       ],
       "layout": "IPY_MODEL_1ca9b99d60754a28a3b48a1ac139d4df",
       "tabbable": null,
       "tooltip": null
      }
     },
     "1ca9b99d60754a28a3b48a1ac139d4df": {
      "model_module": "@jupyter-widgets/base",
      "model_module_version": "2.0.0",
      "model_name": "LayoutModel",
      "state": {
       "_model_module": "@jupyter-widgets/base",
       "_model_module_version": "2.0.0",
       "_model_name": "LayoutModel",
       "_view_count": null,
       "_view_module": "@jupyter-widgets/base",
       "_view_module_version": "2.0.0",
       "_view_name": "LayoutView",
       "align_content": null,
       "align_items": null,
       "align_self": null,
       "border_bottom": null,
       "border_left": null,
       "border_right": null,
       "border_top": null,
       "bottom": null,
       "display": null,
       "flex": null,
       "flex_flow": null,
       "grid_area": null,
       "grid_auto_columns": null,
       "grid_auto_flow": null,
       "grid_auto_rows": null,
       "grid_column": null,
       "grid_gap": null,
       "grid_row": null,
       "grid_template_areas": null,
       "grid_template_columns": null,
       "grid_template_rows": null,
       "height": null,
       "justify_content": null,
       "justify_items": null,
       "left": null,
       "margin": null,
       "max_height": null,
       "max_width": null,
       "min_height": null,
       "min_width": null,
       "object_fit": null,
       "object_position": null,
       "order": null,
       "overflow": null,
       "padding": null,
       "right": null,
       "top": null,
       "visibility": null,
       "width": null
      }
     },
     "1db5e0fcffe94bc3b136b136512b7a7d": {
      "model_module": "@jupyter-widgets/base",
      "model_module_version": "2.0.0",
      "model_name": "LayoutModel",
      "state": {
       "_model_module": "@jupyter-widgets/base",
       "_model_module_version": "2.0.0",
       "_model_name": "LayoutModel",
       "_view_count": null,
       "_view_module": "@jupyter-widgets/base",
       "_view_module_version": "2.0.0",
       "_view_name": "LayoutView",
       "align_content": null,
       "align_items": null,
       "align_self": null,
       "border_bottom": null,
       "border_left": null,
       "border_right": null,
       "border_top": null,
       "bottom": null,
       "display": null,
       "flex": null,
       "flex_flow": null,
       "grid_area": null,
       "grid_auto_columns": null,
       "grid_auto_flow": null,
       "grid_auto_rows": null,
       "grid_column": null,
       "grid_gap": null,
       "grid_row": null,
       "grid_template_areas": null,
       "grid_template_columns": null,
       "grid_template_rows": null,
       "height": null,
       "justify_content": null,
       "justify_items": null,
       "left": null,
       "margin": null,
       "max_height": null,
       "max_width": null,
       "min_height": null,
       "min_width": null,
       "object_fit": null,
       "object_position": null,
       "order": null,
       "overflow": null,
       "padding": null,
       "right": null,
       "top": null,
       "visibility": null,
       "width": null
      }
     },
     "1f46a71af37949189e0d7c53fac6711e": {
      "model_module": "@jupyter-widgets/base",
      "model_module_version": "2.0.0",
      "model_name": "LayoutModel",
      "state": {
       "_model_module": "@jupyter-widgets/base",
       "_model_module_version": "2.0.0",
       "_model_name": "LayoutModel",
       "_view_count": null,
       "_view_module": "@jupyter-widgets/base",
       "_view_module_version": "2.0.0",
       "_view_name": "LayoutView",
       "align_content": null,
       "align_items": null,
       "align_self": null,
       "border_bottom": null,
       "border_left": null,
       "border_right": null,
       "border_top": null,
       "bottom": null,
       "display": null,
       "flex": null,
       "flex_flow": null,
       "grid_area": null,
       "grid_auto_columns": null,
       "grid_auto_flow": null,
       "grid_auto_rows": null,
       "grid_column": null,
       "grid_gap": null,
       "grid_row": null,
       "grid_template_areas": null,
       "grid_template_columns": null,
       "grid_template_rows": null,
       "height": null,
       "justify_content": null,
       "justify_items": null,
       "left": null,
       "margin": null,
       "max_height": null,
       "max_width": null,
       "min_height": null,
       "min_width": null,
       "object_fit": null,
       "object_position": null,
       "order": null,
       "overflow": null,
       "padding": null,
       "right": null,
       "top": null,
       "visibility": null,
       "width": null
      }
     },
     "3ae25e3a2e434555aaa0db67474d97b0": {
      "model_module": "@jupyter-widgets/controls",
      "model_module_version": "2.0.0",
      "model_name": "HBoxModel",
      "state": {
       "_dom_classes": [],
       "_model_module": "@jupyter-widgets/controls",
       "_model_module_version": "2.0.0",
       "_model_name": "HBoxModel",
       "_view_count": null,
       "_view_module": "@jupyter-widgets/controls",
       "_view_module_version": "2.0.0",
       "_view_name": "HBoxView",
       "box_style": "",
       "children": [
        "IPY_MODEL_62212c393fce486783b48d7d0b5037bc"
       ],
       "layout": "IPY_MODEL_d0aee2cda01d48fb8b0e7df38e71110c",
       "tabbable": null,
       "tooltip": null
      }
     },
     "469279882c6742f89ff09ea870ca39cd": {
      "model_module": "@jupyter-widgets/output",
      "model_module_version": "1.0.0",
      "model_name": "OutputModel",
      "state": {
       "_dom_classes": [],
       "_model_module": "@jupyter-widgets/output",
       "_model_module_version": "1.0.0",
       "_model_name": "OutputModel",
       "_view_count": null,
       "_view_module": "@jupyter-widgets/output",
       "_view_module_version": "1.0.0",
       "_view_name": "OutputView",
       "layout": "IPY_MODEL_06798d8fb0d243b19ff8fe65c9e86b7f",
       "msg_id": "",
       "outputs": [
        {
         "data": {
          "text/markdown": "`scale_int_by_real`",
          "text/plain": "<IPython.core.display.Markdown object>"
         },
         "metadata": {},
         "output_type": "display_data"
        },
        {
         "data": {
          "image/svg+xml": "<svg xmlns=\"http://www.w3.org/2000/svg\" xmlns:xlink=\"http://www.w3.org/1999/xlink\" width=\"260pt\" height=\"152pt\" viewBox=\"0.00 0.00 260.00 152.00\">\n<g id=\"graph0\" class=\"graph\" transform=\"scale(1 1) rotate(0) translate(4 148)\">\n<title>my_graph</title>\n<polygon fill=\"white\" stroke=\"transparent\" points=\"-4,4 -4,-148 256,-148 256,4 -4,4\"/>\n<!-- real_in_G1 -->\n<g id=\"node1\" class=\"node\">\n<title>real_in_G1</title>\n<text text-anchor=\"middle\" x=\"27\" y=\"-106.3\" font-family=\"Times,serif\" font-size=\"14.00\">real_in</text>\n</g>\n<!-- ScaleIntByReal -->\n<g id=\"node3\" class=\"node\">\n<title>ScaleIntByReal</title>\n<polygon fill=\"none\" stroke=\"black\" points=\"91,-104 91,-121 161,-121 161,-104 91,-104\"/>\n<text text-anchor=\"start\" x=\"94\" y=\"-110\" font-family=\"Times,serif\" font-size=\"10.00\">ScaleIntByReal</text>\n<polygon fill=\"none\" stroke=\"black\" points=\"91,-83 91,-104 161,-104 161,-83 91,-83\"/>\n<text text-anchor=\"start\" x=\"107\" y=\"-89.8\" font-family=\"Times,serif\" font-size=\"14.00\">real_in</text>\n<polygon fill=\"none\" stroke=\"black\" points=\"91,-62 91,-83 161,-83 161,-62 91,-62\"/>\n<text text-anchor=\"start\" x=\"110\" y=\"-68.8\" font-family=\"Times,serif\" font-size=\"14.00\">int_in</text>\n<polygon fill=\"none\" stroke=\"black\" points=\"91,-41 91,-62 110,-62 110,-41 91,-41\"/>\n<polygon fill=\"none\" stroke=\"black\" points=\"110,-41 110,-62 161,-62 161,-41 110,-41\"/>\n<text text-anchor=\"start\" x=\"120\" y=\"-47.8\" font-family=\"Times,serif\" font-size=\"14.00\">result</text>\n</g>\n<!-- real_in_G1&#45;&gt;ScaleIntByReal -->\n<g id=\"edge1\" class=\"edge\">\n<title>real_in_G1:e-&gt;ScaleIntByReal:w</title>\n<path fill=\"none\" stroke=\"black\" d=\"M54,-110C71.22,-110 72.97,-95.23 88.98,-94.07\"/>\n<ellipse fill=\"black\" stroke=\"black\" cx=\"90\" cy=\"-94.04\" rx=\"1\" ry=\"1\"/>\n<text text-anchor=\"middle\" x=\"72.5\" y=\"-105\" font-family=\"Times,serif\" font-size=\"10.00\">12</text>\n</g>\n<!-- int_in_G3 -->\n<g id=\"node2\" class=\"node\">\n<title>int_in_G3</title>\n<text text-anchor=\"middle\" x=\"27\" y=\"-52.3\" font-family=\"Times,serif\" font-size=\"14.00\">int_in</text>\n</g>\n<!-- int_in_G3&#45;&gt;ScaleIntByReal -->\n<g id=\"edge2\" class=\"edge\">\n<title>int_in_G3:e-&gt;ScaleIntByReal:w</title>\n<path fill=\"none\" stroke=\"black\" d=\"M54,-56C71.22,-56 72.97,-70.77 88.98,-71.93\"/>\n<ellipse fill=\"black\" stroke=\"black\" cx=\"90\" cy=\"-71.96\" rx=\"1\" ry=\"1\"/>\n<text text-anchor=\"middle\" x=\"72.5\" y=\"-68\" font-family=\"Times,serif\" font-size=\"10.00\">4</text>\n</g>\n<!-- real_in_G5 -->\n<g id=\"node4\" class=\"node\">\n<title>real_in_G5</title>\n<text text-anchor=\"middle\" x=\"225\" y=\"-122.3\" font-family=\"Times,serif\" font-size=\"14.00\">real_in</text>\n</g>\n<!-- ScaleIntByReal&#45;&gt;real_in_G5 -->\n<g id=\"edge3\" class=\"edge\">\n<title>ScaleIntByReal:e-&gt;real_in_G5:w</title>\n<path fill=\"none\" stroke=\"black\" d=\"M161,-94C181.89,-94 176.72,-123.55 195.58,-125.86\"/>\n<ellipse fill=\"black\" stroke=\"black\" cx=\"197\" cy=\"-125.94\" rx=\"1\" ry=\"1\"/>\n<text text-anchor=\"middle\" x=\"179.5\" y=\"-113\" font-family=\"Times,serif\" font-size=\"10.00\">12</text>\n</g>\n<!-- int_in_G6 -->\n<g id=\"node5\" class=\"node\">\n<title>int_in_G6</title>\n<text text-anchor=\"middle\" x=\"225\" y=\"-68.3\" font-family=\"Times,serif\" font-size=\"14.00\">int_in</text>\n</g>\n<!-- ScaleIntByReal&#45;&gt;int_in_G6 -->\n<g id=\"edge4\" class=\"edge\">\n<title>ScaleIntByReal:e-&gt;int_in_G6:w</title>\n<path fill=\"none\" stroke=\"black\" d=\"M161,-72C176.67,-72 181.14,-72 195.77,-72\"/>\n<ellipse fill=\"black\" stroke=\"black\" cx=\"197\" cy=\"-72\" rx=\"1\" ry=\"1\"/>\n<text text-anchor=\"middle\" x=\"179.5\" y=\"-75\" font-family=\"Times,serif\" font-size=\"10.00\">4</text>\n</g>\n<!-- result_G0 -->\n<g id=\"node6\" class=\"node\">\n<title>result_G0</title>\n<text text-anchor=\"middle\" x=\"225\" y=\"-14.3\" font-family=\"Times,serif\" font-size=\"14.00\">result</text>\n</g>\n<!-- ScaleIntByReal&#45;&gt;result_G0 -->\n<g id=\"edge5\" class=\"edge\">\n<title>ScaleIntByReal:e-&gt;result_G0:w</title>\n<path fill=\"none\" stroke=\"black\" d=\"M161,-51C182.17,-51 176.47,-20.53 195.55,-18.15\"/>\n<ellipse fill=\"black\" stroke=\"black\" cx=\"197\" cy=\"-18.06\" rx=\"1\" ry=\"1\"/>\n<text text-anchor=\"middle\" x=\"179.5\" y=\"-39\" font-family=\"Times,serif\" font-size=\"10.00\">12</text>\n</g>\n</g>\n</svg>",
          "text/plain": "<IPython.core.display.SVG object>"
         },
         "metadata": {},
         "output_type": "display_data"
        }
       ],
       "tabbable": null,
       "tooltip": null
      }
     },
     "4bb20fdd7cba49f3bbcd0d98aea7c974": {
      "model_module": "@jupyter-widgets/controls",
      "model_module_version": "2.0.0",
      "model_name": "HBoxModel",
      "state": {
       "_dom_classes": [],
       "_model_module": "@jupyter-widgets/controls",
       "_model_module_version": "2.0.0",
       "_model_name": "HBoxModel",
       "_view_count": null,
       "_view_module": "@jupyter-widgets/controls",
       "_view_module_version": "2.0.0",
       "_view_name": "HBoxView",
       "box_style": "",
       "children": [
        "IPY_MODEL_469279882c6742f89ff09ea870ca39cd"
       ],
       "layout": "IPY_MODEL_820512c2b1ef42b39799faf9d2da9881",
       "tabbable": null,
       "tooltip": null
      }
     },
     "4d757235f5844dbf81a03fafc1e76a6b": {
      "model_module": "@jupyter-widgets/base",
      "model_module_version": "2.0.0",
      "model_name": "LayoutModel",
      "state": {
       "_model_module": "@jupyter-widgets/base",
       "_model_module_version": "2.0.0",
       "_model_name": "LayoutModel",
       "_view_count": null,
       "_view_module": "@jupyter-widgets/base",
       "_view_module_version": "2.0.0",
       "_view_name": "LayoutView",
       "align_content": null,
       "align_items": null,
       "align_self": null,
       "border_bottom": null,
       "border_left": null,
       "border_right": null,
       "border_top": null,
       "bottom": null,
       "display": null,
       "flex": null,
       "flex_flow": null,
       "grid_area": null,
       "grid_auto_columns": null,
       "grid_auto_flow": null,
       "grid_auto_rows": null,
       "grid_column": null,
       "grid_gap": null,
       "grid_row": null,
       "grid_template_areas": null,
       "grid_template_columns": null,
       "grid_template_rows": null,
       "height": null,
       "justify_content": null,
       "justify_items": null,
       "left": null,
       "margin": null,
       "max_height": null,
       "max_width": null,
       "min_height": null,
       "min_width": null,
       "object_fit": null,
       "object_position": null,
       "order": null,
       "overflow": null,
       "padding": null,
       "right": null,
       "top": null,
       "visibility": null,
       "width": null
      }
     },
     "534905e6467847f99f6cc684e18b3503": {
      "model_module": "@jupyter-widgets/output",
      "model_module_version": "1.0.0",
      "model_name": "OutputModel",
      "state": {
       "_dom_classes": [],
       "_model_module": "@jupyter-widgets/output",
       "_model_module_version": "1.0.0",
       "_model_name": "OutputModel",
       "_view_count": null,
       "_view_module": "@jupyter-widgets/output",
       "_view_module_version": "1.0.0",
       "_view_name": "OutputView",
       "layout": "IPY_MODEL_79ab6f92529842399cea13bb1aa9d6c9",
       "msg_id": "",
       "outputs": [
        {
         "data": {
          "text/markdown": "`square_real_number`",
          "text/plain": "<IPython.core.display.Markdown object>"
         },
         "metadata": {},
         "output_type": "display_data"
        },
        {
         "data": {
          "image/svg+xml": "<svg xmlns=\"http://www.w3.org/2000/svg\" xmlns:xlink=\"http://www.w3.org/1999/xlink\" width=\"276pt\" height=\"152pt\" viewBox=\"0.00 0.00 276.00 152.00\">\n<g id=\"graph0\" class=\"graph\" transform=\"scale(1 1) rotate(0) translate(4 148)\">\n<title>my_graph</title>\n<polygon fill=\"white\" stroke=\"transparent\" points=\"-4,4 -4,-148 272,-148 272,4 -4,4\"/>\n<!-- a_G3 -->\n<g id=\"node1\" class=\"node\">\n<title>a_G3</title>\n<text text-anchor=\"middle\" x=\"27\" y=\"-106.3\" font-family=\"Times,serif\" font-size=\"14.00\">a</text>\n</g>\n<!-- SquareRealNumber -->\n<g id=\"node3\" class=\"node\">\n<title>SquareRealNumber</title>\n<polygon fill=\"none\" stroke=\"black\" points=\"91,-104 91,-121 177,-121 177,-104 91,-104\"/>\n<text text-anchor=\"start\" x=\"94\" y=\"-110\" font-family=\"Times,serif\" font-size=\"10.00\">SquareRealNumber</text>\n<polygon fill=\"none\" stroke=\"black\" points=\"91,-83 91,-104 177,-104 177,-83 91,-83\"/>\n<text text-anchor=\"start\" x=\"130.5\" y=\"-89.8\" font-family=\"Times,serif\" font-size=\"14.00\">a</text>\n<polygon fill=\"none\" stroke=\"black\" points=\"91,-62 91,-83 177,-83 177,-62 91,-62\"/>\n<text text-anchor=\"start\" x=\"130.5\" y=\"-68.8\" font-family=\"Times,serif\" font-size=\"14.00\">b</text>\n<polygon fill=\"none\" stroke=\"black\" points=\"91,-41 91,-62 118,-62 118,-41 91,-41\"/>\n<polygon fill=\"none\" stroke=\"black\" points=\"118,-41 118,-62 177,-62 177,-41 118,-41\"/>\n<text text-anchor=\"start\" x=\"132\" y=\"-47.8\" font-family=\"Times,serif\" font-size=\"14.00\">result</text>\n</g>\n<!-- a_G3&#45;&gt;SquareRealNumber -->\n<g id=\"edge1\" class=\"edge\">\n<title>a_G3:e-&gt;SquareRealNumber:w</title>\n<path fill=\"none\" stroke=\"black\" d=\"M54,-110C71.22,-110 72.97,-95.23 88.98,-94.07\"/>\n<ellipse fill=\"black\" stroke=\"black\" cx=\"90\" cy=\"-94.04\" rx=\"1\" ry=\"1\"/>\n<text text-anchor=\"middle\" x=\"72.5\" y=\"-105\" font-family=\"Times,serif\" font-size=\"10.00\">10</text>\n</g>\n<!-- b_G5 -->\n<g id=\"node2\" class=\"node\">\n<title>b_G5</title>\n<text text-anchor=\"middle\" x=\"27\" y=\"-52.3\" font-family=\"Times,serif\" font-size=\"14.00\">b</text>\n</g>\n<!-- b_G5&#45;&gt;SquareRealNumber -->\n<g id=\"edge2\" class=\"edge\">\n<title>b_G5:e-&gt;SquareRealNumber:w</title>\n<path fill=\"none\" stroke=\"black\" d=\"M54,-56C71.22,-56 72.97,-70.77 88.98,-71.93\"/>\n<ellipse fill=\"black\" stroke=\"black\" cx=\"90\" cy=\"-71.96\" rx=\"1\" ry=\"1\"/>\n<text text-anchor=\"middle\" x=\"72.5\" y=\"-68\" font-family=\"Times,serif\" font-size=\"10.00\">10</text>\n</g>\n<!-- a_G4 -->\n<g id=\"node4\" class=\"node\">\n<title>a_G4</title>\n<text text-anchor=\"middle\" x=\"241\" y=\"-122.3\" font-family=\"Times,serif\" font-size=\"14.00\">a</text>\n</g>\n<!-- SquareRealNumber&#45;&gt;a_G4 -->\n<g id=\"edge3\" class=\"edge\">\n<title>SquareRealNumber:e-&gt;a_G4:w</title>\n<path fill=\"none\" stroke=\"black\" d=\"M177,-94C197.89,-94 192.72,-123.55 211.58,-125.86\"/>\n<ellipse fill=\"black\" stroke=\"black\" cx=\"213\" cy=\"-125.94\" rx=\"1\" ry=\"1\"/>\n<text text-anchor=\"middle\" x=\"195.5\" y=\"-113\" font-family=\"Times,serif\" font-size=\"10.00\">10</text>\n</g>\n<!-- b_G6 -->\n<g id=\"node5\" class=\"node\">\n<title>b_G6</title>\n<text text-anchor=\"middle\" x=\"241\" y=\"-68.3\" font-family=\"Times,serif\" font-size=\"14.00\">b</text>\n</g>\n<!-- SquareRealNumber&#45;&gt;b_G6 -->\n<g id=\"edge4\" class=\"edge\">\n<title>SquareRealNumber:e-&gt;b_G6:w</title>\n<path fill=\"none\" stroke=\"black\" d=\"M177,-72C192.67,-72 197.14,-72 211.77,-72\"/>\n<ellipse fill=\"black\" stroke=\"black\" cx=\"213\" cy=\"-72\" rx=\"1\" ry=\"1\"/>\n<text text-anchor=\"middle\" x=\"195.5\" y=\"-75\" font-family=\"Times,serif\" font-size=\"10.00\">10</text>\n</g>\n<!-- result_G1 -->\n<g id=\"node6\" class=\"node\">\n<title>result_G1</title>\n<text text-anchor=\"middle\" x=\"241\" y=\"-14.3\" font-family=\"Times,serif\" font-size=\"14.00\">result</text>\n</g>\n<!-- SquareRealNumber&#45;&gt;result_G1 -->\n<g id=\"edge5\" class=\"edge\">\n<title>SquareRealNumber:e-&gt;result_G1:w</title>\n<path fill=\"none\" stroke=\"black\" d=\"M177,-51C198.17,-51 192.47,-20.53 211.55,-18.15\"/>\n<ellipse fill=\"black\" stroke=\"black\" cx=\"213\" cy=\"-18.06\" rx=\"1\" ry=\"1\"/>\n<text text-anchor=\"middle\" x=\"195.5\" y=\"-39\" font-family=\"Times,serif\" font-size=\"10.00\">10</text>\n</g>\n</g>\n</svg>",
          "text/plain": "<IPython.core.display.SVG object>"
         },
         "metadata": {},
         "output_type": "display_data"
        }
       ],
       "tabbable": null,
       "tooltip": null
      }
     },
     "54a43c10875f4fe39fd52a0f36085356": {
      "model_module": "@jupyter-widgets/controls",
      "model_module_version": "2.0.0",
      "model_name": "HBoxModel",
      "state": {
       "_dom_classes": [],
       "_model_module": "@jupyter-widgets/controls",
       "_model_module_version": "2.0.0",
       "_model_name": "HBoxModel",
       "_view_count": null,
       "_view_module": "@jupyter-widgets/controls",
       "_view_module_version": "2.0.0",
       "_view_name": "HBoxView",
       "box_style": "",
       "children": [
        "IPY_MODEL_534905e6467847f99f6cc684e18b3503"
       ],
       "layout": "IPY_MODEL_1db5e0fcffe94bc3b136b136512b7a7d",
       "tabbable": null,
       "tooltip": null
      }
     },
     "62212c393fce486783b48d7d0b5037bc": {
      "model_module": "@jupyter-widgets/output",
      "model_module_version": "1.0.0",
      "model_name": "OutputModel",
      "state": {
       "_dom_classes": [],
       "_model_module": "@jupyter-widgets/output",
       "_model_module_version": "1.0.0",
       "_model_name": "OutputModel",
       "_view_count": null,
       "_view_module": "@jupyter-widgets/output",
       "_view_module_version": "1.0.0",
       "_view_name": "OutputView",
       "layout": "IPY_MODEL_fcf59627797c4e6a867866610e8a3fba",
       "msg_id": "",
       "outputs": [
        {
         "data": {
          "text/markdown": "`sum_of_squares`",
          "text/plain": "<IPython.core.display.Markdown object>"
         },
         "metadata": {},
         "output_type": "display_data"
        },
        {
         "data": {
          "image/svg+xml": "<svg xmlns=\"http://www.w3.org/2000/svg\" xmlns:xlink=\"http://www.w3.org/1999/xlink\" width=\"269pt\" height=\"260pt\" viewBox=\"0.00 0.00 269.00 260.00\">\n<g id=\"graph0\" class=\"graph\" transform=\"scale(1 1) rotate(0) translate(4 256)\">\n<title>my_graph</title>\n<polygon fill=\"white\" stroke=\"transparent\" points=\"-4,4 -4,-256 265,-256 265,4 -4,4\"/>\n<!-- input_G12 -->\n<g id=\"node1\" class=\"node\">\n<title>input_G12</title>\n<text text-anchor=\"middle\" x=\"30\" y=\"-214.3\" font-family=\"Times,serif\" font-size=\"14.00\">input[0]</text>\n</g>\n<!-- SumOfSquares -->\n<g id=\"node5\" class=\"node\">\n<title>SumOfSquares</title>\n<polygon fill=\"none\" stroke=\"black\" points=\"97.5,-179 97.5,-196 164.5,-196 164.5,-179 97.5,-179\"/>\n<text text-anchor=\"start\" x=\"100.5\" y=\"-185\" font-family=\"Times,serif\" font-size=\"10.00\">SumOfSquares</text>\n<polygon fill=\"none\" stroke=\"black\" points=\"97.5,-158 97.5,-179 164.5,-179 164.5,-158 97.5,-158\"/>\n<text text-anchor=\"start\" x=\"109\" y=\"-164.8\" font-family=\"Times,serif\" font-size=\"14.00\">input[0]</text>\n<polygon fill=\"none\" stroke=\"black\" points=\"97.5,-137 97.5,-158 164.5,-158 164.5,-137 97.5,-137\"/>\n<text text-anchor=\"start\" x=\"109\" y=\"-143.8\" font-family=\"Times,serif\" font-size=\"14.00\">input[1]</text>\n<polygon fill=\"none\" stroke=\"black\" points=\"97.5,-116 97.5,-137 164.5,-137 164.5,-116 97.5,-116\"/>\n<text text-anchor=\"start\" x=\"109\" y=\"-122.8\" font-family=\"Times,serif\" font-size=\"14.00\">input[2]</text>\n<polygon fill=\"none\" stroke=\"black\" points=\"97.5,-95 97.5,-116 164.5,-116 164.5,-95 97.5,-95\"/>\n<text text-anchor=\"start\" x=\"109\" y=\"-101.8\" font-family=\"Times,serif\" font-size=\"14.00\">input[3]</text>\n<polygon fill=\"none\" stroke=\"black\" points=\"97.5,-74 97.5,-95 115.5,-95 115.5,-74 97.5,-74\"/>\n<polygon fill=\"none\" stroke=\"black\" points=\"115.5,-74 115.5,-95 164.5,-95 164.5,-74 115.5,-74\"/>\n<text text-anchor=\"start\" x=\"124.5\" y=\"-80.8\" font-family=\"Times,serif\" font-size=\"14.00\">result</text>\n</g>\n<!-- input_G12&#45;&gt;SumOfSquares -->\n<g id=\"edge1\" class=\"edge\">\n<title>input_G12:e-&gt;SumOfSquares:w</title>\n<path fill=\"none\" stroke=\"black\" d=\"M60,-218C86.54,-218 70.64,-171.64 94.86,-169.11\"/>\n<ellipse fill=\"black\" stroke=\"black\" cx=\"96\" cy=\"-169.05\" rx=\"1\" ry=\"1\"/>\n<text text-anchor=\"middle\" x=\"78.5\" y=\"-197\" font-family=\"Times,serif\" font-size=\"10.00\">8</text>\n</g>\n<!-- input_G8 -->\n<g id=\"node2\" class=\"node\">\n<title>input_G8</title>\n<text text-anchor=\"middle\" x=\"30\" y=\"-160.3\" font-family=\"Times,serif\" font-size=\"14.00\">input[1]</text>\n</g>\n<!-- input_G8&#45;&gt;SumOfSquares -->\n<g id=\"edge2\" class=\"edge\">\n<title>input_G8:e-&gt;SumOfSquares:w</title>\n<path fill=\"none\" stroke=\"black\" d=\"M60,-164C77.22,-164 78.97,-149.23 94.98,-148.07\"/>\n<ellipse fill=\"black\" stroke=\"black\" cx=\"96\" cy=\"-148.04\" rx=\"1\" ry=\"1\"/>\n<text text-anchor=\"middle\" x=\"78.5\" y=\"-159\" font-family=\"Times,serif\" font-size=\"10.00\">8</text>\n</g>\n<!-- input_G13 -->\n<g id=\"node3\" class=\"node\">\n<title>input_G13</title>\n<text text-anchor=\"middle\" x=\"30\" y=\"-106.3\" font-family=\"Times,serif\" font-size=\"14.00\">input[2]</text>\n</g>\n<!-- input_G13&#45;&gt;SumOfSquares -->\n<g id=\"edge3\" class=\"edge\">\n<title>input_G13:e-&gt;SumOfSquares:w</title>\n<path fill=\"none\" stroke=\"black\" d=\"M60,-110C77.22,-110 78.97,-124.77 94.98,-125.93\"/>\n<ellipse fill=\"black\" stroke=\"black\" cx=\"96\" cy=\"-125.96\" rx=\"1\" ry=\"1\"/>\n<text text-anchor=\"middle\" x=\"78.5\" y=\"-121\" font-family=\"Times,serif\" font-size=\"10.00\">8</text>\n</g>\n<!-- input_G9 -->\n<g id=\"node4\" class=\"node\">\n<title>input_G9</title>\n<text text-anchor=\"middle\" x=\"30\" y=\"-52.3\" font-family=\"Times,serif\" font-size=\"14.00\">input[3]</text>\n</g>\n<!-- input_G9&#45;&gt;SumOfSquares -->\n<g id=\"edge4\" class=\"edge\">\n<title>input_G9:e-&gt;SumOfSquares:w</title>\n<path fill=\"none\" stroke=\"black\" d=\"M60,-56C86.54,-56 70.64,-102.36 94.86,-104.89\"/>\n<ellipse fill=\"black\" stroke=\"black\" cx=\"96\" cy=\"-104.95\" rx=\"1\" ry=\"1\"/>\n<text text-anchor=\"middle\" x=\"78.5\" y=\"-85\" font-family=\"Times,serif\" font-size=\"10.00\">8</text>\n</g>\n<!-- input_G2 -->\n<g id=\"node6\" class=\"node\">\n<title>input_G2</title>\n<text text-anchor=\"middle\" x=\"231\" y=\"-230.3\" font-family=\"Times,serif\" font-size=\"14.00\">input[0]</text>\n</g>\n<!-- SumOfSquares&#45;&gt;input_G2 -->\n<g id=\"edge5\" class=\"edge\">\n<title>SumOfSquares:e-&gt;input_G2:w</title>\n<path fill=\"none\" stroke=\"black\" d=\"M164,-169C196.46,-169 169.11,-230.99 198.76,-233.89\"/>\n<ellipse fill=\"black\" stroke=\"black\" cx=\"200\" cy=\"-233.95\" rx=\"1\" ry=\"1\"/>\n<text text-anchor=\"middle\" x=\"182.5\" y=\"-210\" font-family=\"Times,serif\" font-size=\"10.00\">8</text>\n</g>\n<!-- input_G0 -->\n<g id=\"node7\" class=\"node\">\n<title>input_G0</title>\n<text text-anchor=\"middle\" x=\"231\" y=\"-176.3\" font-family=\"Times,serif\" font-size=\"14.00\">input[1]</text>\n</g>\n<!-- SumOfSquares&#45;&gt;input_G0 -->\n<g id=\"edge6\" class=\"edge\">\n<title>SumOfSquares:e-&gt;input_G0:w</title>\n<path fill=\"none\" stroke=\"black\" d=\"M164,-148C184.89,-148 179.72,-177.55 198.58,-179.86\"/>\n<ellipse fill=\"black\" stroke=\"black\" cx=\"200\" cy=\"-179.94\" rx=\"1\" ry=\"1\"/>\n<text text-anchor=\"middle\" x=\"182.5\" y=\"-167\" font-family=\"Times,serif\" font-size=\"10.00\">8</text>\n</g>\n<!-- input_G5 -->\n<g id=\"node8\" class=\"node\">\n<title>input_G5</title>\n<text text-anchor=\"middle\" x=\"231\" y=\"-122.3\" font-family=\"Times,serif\" font-size=\"14.00\">input[2]</text>\n</g>\n<!-- SumOfSquares&#45;&gt;input_G5 -->\n<g id=\"edge7\" class=\"edge\">\n<title>SumOfSquares:e-&gt;input_G5:w</title>\n<path fill=\"none\" stroke=\"black\" d=\"M164,-126C179.67,-126 184.14,-126 198.77,-126\"/>\n<ellipse fill=\"black\" stroke=\"black\" cx=\"200\" cy=\"-126\" rx=\"1\" ry=\"1\"/>\n<text text-anchor=\"middle\" x=\"182.5\" y=\"-129\" font-family=\"Times,serif\" font-size=\"10.00\">8</text>\n</g>\n<!-- input_G11 -->\n<g id=\"node9\" class=\"node\">\n<title>input_G11</title>\n<text text-anchor=\"middle\" x=\"231\" y=\"-68.3\" font-family=\"Times,serif\" font-size=\"14.00\">input[3]</text>\n</g>\n<!-- SumOfSquares&#45;&gt;input_G11 -->\n<g id=\"edge8\" class=\"edge\">\n<title>SumOfSquares:e-&gt;input_G11:w</title>\n<path fill=\"none\" stroke=\"black\" d=\"M164,-105C185.17,-105 179.47,-74.53 198.55,-72.15\"/>\n<ellipse fill=\"black\" stroke=\"black\" cx=\"200\" cy=\"-72.06\" rx=\"1\" ry=\"1\"/>\n<text text-anchor=\"middle\" x=\"182.5\" y=\"-92\" font-family=\"Times,serif\" font-size=\"10.00\">8</text>\n</g>\n<!-- result_G3 -->\n<g id=\"node10\" class=\"node\">\n<title>result_G3</title>\n<text text-anchor=\"middle\" x=\"231\" y=\"-14.3\" font-family=\"Times,serif\" font-size=\"14.00\">result</text>\n</g>\n<!-- SumOfSquares&#45;&gt;result_G3 -->\n<g id=\"edge9\" class=\"edge\">\n<title>SumOfSquares:e-&gt;result_G3:w</title>\n<path fill=\"none\" stroke=\"black\" d=\"M164,-84C197.27,-84 170.26,-21.06 200.71,-18.11\"/>\n<ellipse fill=\"black\" stroke=\"black\" cx=\"202\" cy=\"-18.05\" rx=\"1\" ry=\"1\"/>\n<text text-anchor=\"middle\" x=\"182.5\" y=\"-68\" font-family=\"Times,serif\" font-size=\"10.00\">18</text>\n</g>\n</g>\n</svg>",
          "text/plain": "<IPython.core.display.SVG object>"
         },
         "metadata": {},
         "output_type": "display_data"
        }
       ],
       "tabbable": null,
       "tooltip": null
      }
     },
     "65d9b7a5e3474a2a97ba4badedf6684d": {
      "model_module": "@jupyter-widgets/base",
      "model_module_version": "2.0.0",
      "model_name": "LayoutModel",
      "state": {
       "_model_module": "@jupyter-widgets/base",
       "_model_module_version": "2.0.0",
       "_model_name": "LayoutModel",
       "_view_count": null,
       "_view_module": "@jupyter-widgets/base",
       "_view_module_version": "2.0.0",
       "_view_name": "LayoutView",
       "align_content": null,
       "align_items": null,
       "align_self": null,
       "border_bottom": null,
       "border_left": null,
       "border_right": null,
       "border_top": null,
       "bottom": null,
       "display": null,
       "flex": null,
       "flex_flow": null,
       "grid_area": null,
       "grid_auto_columns": null,
       "grid_auto_flow": null,
       "grid_auto_rows": null,
       "grid_column": null,
       "grid_gap": null,
       "grid_row": null,
       "grid_template_areas": null,
       "grid_template_columns": null,
       "grid_template_rows": null,
       "height": null,
       "justify_content": null,
       "justify_items": null,
       "left": null,
       "margin": null,
       "max_height": null,
       "max_width": null,
       "min_height": null,
       "min_width": null,
       "object_fit": null,
       "object_position": null,
       "order": null,
       "overflow": null,
       "padding": null,
       "right": null,
       "top": null,
       "visibility": null,
       "width": null
      }
     },
     "729ab7b5e32847e79f860e7de9edf284": {
      "model_module": "@jupyter-widgets/base",
      "model_module_version": "2.0.0",
      "model_name": "LayoutModel",
      "state": {
       "_model_module": "@jupyter-widgets/base",
       "_model_module_version": "2.0.0",
       "_model_name": "LayoutModel",
       "_view_count": null,
       "_view_module": "@jupyter-widgets/base",
       "_view_module_version": "2.0.0",
       "_view_name": "LayoutView",
       "align_content": null,
       "align_items": null,
       "align_self": null,
       "border_bottom": null,
       "border_left": null,
       "border_right": null,
       "border_top": null,
       "bottom": null,
       "display": null,
       "flex": null,
       "flex_flow": null,
       "grid_area": null,
       "grid_auto_columns": null,
       "grid_auto_flow": null,
       "grid_auto_rows": null,
       "grid_column": null,
       "grid_gap": null,
       "grid_row": null,
       "grid_template_areas": null,
       "grid_template_columns": null,
       "grid_template_rows": null,
       "height": null,
       "justify_content": null,
       "justify_items": null,
       "left": null,
       "margin": null,
       "max_height": null,
       "max_width": null,
       "min_height": null,
       "min_width": null,
       "object_fit": null,
       "object_position": null,
       "order": null,
       "overflow": null,
       "padding": null,
       "right": null,
       "top": null,
       "visibility": null,
       "width": null
      }
     },
     "79ab6f92529842399cea13bb1aa9d6c9": {
      "model_module": "@jupyter-widgets/base",
      "model_module_version": "2.0.0",
      "model_name": "LayoutModel",
      "state": {
       "_model_module": "@jupyter-widgets/base",
       "_model_module_version": "2.0.0",
       "_model_name": "LayoutModel",
       "_view_count": null,
       "_view_module": "@jupyter-widgets/base",
       "_view_module_version": "2.0.0",
       "_view_name": "LayoutView",
       "align_content": null,
       "align_items": null,
       "align_self": null,
       "border_bottom": null,
       "border_left": null,
       "border_right": null,
       "border_top": null,
       "bottom": null,
       "display": null,
       "flex": null,
       "flex_flow": null,
       "grid_area": null,
       "grid_auto_columns": null,
       "grid_auto_flow": null,
       "grid_auto_rows": null,
       "grid_column": null,
       "grid_gap": null,
       "grid_row": null,
       "grid_template_areas": null,
       "grid_template_columns": null,
       "grid_template_rows": null,
       "height": null,
       "justify_content": null,
       "justify_items": null,
       "left": null,
       "margin": null,
       "max_height": null,
       "max_width": null,
       "min_height": null,
       "min_width": null,
       "object_fit": null,
       "object_position": null,
       "order": null,
       "overflow": null,
       "padding": null,
       "right": null,
       "top": null,
       "visibility": null,
       "width": null
      }
     },
     "8072615e9ab4470f933648eab1c269a5": {
      "model_module": "@jupyter-widgets/base",
      "model_module_version": "2.0.0",
      "model_name": "LayoutModel",
      "state": {
       "_model_module": "@jupyter-widgets/base",
       "_model_module_version": "2.0.0",
       "_model_name": "LayoutModel",
       "_view_count": null,
       "_view_module": "@jupyter-widgets/base",
       "_view_module_version": "2.0.0",
       "_view_name": "LayoutView",
       "align_content": null,
       "align_items": null,
       "align_self": null,
       "border_bottom": null,
       "border_left": null,
       "border_right": null,
       "border_top": null,
       "bottom": null,
       "display": null,
       "flex": null,
       "flex_flow": null,
       "grid_area": null,
       "grid_auto_columns": null,
       "grid_auto_flow": null,
       "grid_auto_rows": null,
       "grid_column": null,
       "grid_gap": null,
       "grid_row": null,
       "grid_template_areas": null,
       "grid_template_columns": null,
       "grid_template_rows": null,
       "height": null,
       "justify_content": null,
       "justify_items": null,
       "left": null,
       "margin": null,
       "max_height": null,
       "max_width": null,
       "min_height": null,
       "min_width": null,
       "object_fit": null,
       "object_position": null,
       "order": null,
       "overflow": null,
       "padding": null,
       "right": null,
       "top": null,
       "visibility": null,
       "width": null
      }
     },
     "820512c2b1ef42b39799faf9d2da9881": {
      "model_module": "@jupyter-widgets/base",
      "model_module_version": "2.0.0",
      "model_name": "LayoutModel",
      "state": {
       "_model_module": "@jupyter-widgets/base",
       "_model_module_version": "2.0.0",
       "_model_name": "LayoutModel",
       "_view_count": null,
       "_view_module": "@jupyter-widgets/base",
       "_view_module_version": "2.0.0",
       "_view_name": "LayoutView",
       "align_content": null,
       "align_items": null,
       "align_self": null,
       "border_bottom": null,
       "border_left": null,
       "border_right": null,
       "border_top": null,
       "bottom": null,
       "display": null,
       "flex": null,
       "flex_flow": null,
       "grid_area": null,
       "grid_auto_columns": null,
       "grid_auto_flow": null,
       "grid_auto_rows": null,
       "grid_column": null,
       "grid_gap": null,
       "grid_row": null,
       "grid_template_areas": null,
       "grid_template_columns": null,
       "grid_template_rows": null,
       "height": null,
       "justify_content": null,
       "justify_items": null,
       "left": null,
       "margin": null,
       "max_height": null,
       "max_width": null,
       "min_height": null,
       "min_width": null,
       "object_fit": null,
       "object_position": null,
       "order": null,
       "overflow": null,
       "padding": null,
       "right": null,
       "top": null,
       "visibility": null,
       "width": null
      }
     },
     "9031ea57af6b480fb529ca32f0035964": {
      "model_module": "@jupyter-widgets/output",
      "model_module_version": "1.0.0",
      "model_name": "OutputModel",
      "state": {
       "_dom_classes": [],
       "_model_module": "@jupyter-widgets/output",
       "_model_module_version": "1.0.0",
       "_model_name": "OutputModel",
       "_view_count": null,
       "_view_module": "@jupyter-widgets/output",
       "_view_module_version": "1.0.0",
       "_view_name": "OutputView",
       "layout": "IPY_MODEL_f4af7c12933c434aa337eb1b8ec3a4b7",
       "msg_id": "",
       "outputs": [
        {
         "data": {
          "text/markdown": "`square`",
          "text/plain": "<IPython.core.display.Markdown object>"
         },
         "metadata": {},
         "output_type": "display_data"
        },
        {
         "data": {
          "image/svg+xml": "<svg xmlns=\"http://www.w3.org/2000/svg\" xmlns:xlink=\"http://www.w3.org/1999/xlink\" width=\"233pt\" height=\"98pt\" viewBox=\"0.00 0.00 233.00 98.00\">\n<g id=\"graph0\" class=\"graph\" transform=\"scale(1 1) rotate(0) translate(4 94)\">\n<title>my_graph</title>\n<polygon fill=\"white\" stroke=\"transparent\" points=\"-4,4 -4,-94 229,-94 229,4 -4,4\"/>\n<!-- a_G3 -->\n<g id=\"node1\" class=\"node\">\n<title>a_G3</title>\n<text text-anchor=\"middle\" x=\"27\" y=\"-52.3\" font-family=\"Times,serif\" font-size=\"14.00\">a</text>\n</g>\n<!-- Square -->\n<g id=\"node2\" class=\"node\">\n<title>Square</title>\n<polygon fill=\"none\" stroke=\"black\" points=\"91.5,-66 91.5,-83 134.5,-83 134.5,-66 91.5,-66\"/>\n<text text-anchor=\"start\" x=\"99\" y=\"-72\" font-family=\"Times,serif\" font-size=\"10.00\">Square</text>\n<polygon fill=\"none\" stroke=\"black\" points=\"91.5,-45 91.5,-66 134.5,-66 134.5,-45 91.5,-45\"/>\n<text text-anchor=\"start\" x=\"109.5\" y=\"-51.8\" font-family=\"Times,serif\" font-size=\"14.00\">a</text>\n<polygon fill=\"none\" stroke=\"black\" points=\"91.5,-24 91.5,-45 97.5,-45 97.5,-24 91.5,-24\"/>\n<polygon fill=\"none\" stroke=\"black\" points=\"97.5,-24 97.5,-45 134.5,-45 134.5,-24 97.5,-24\"/>\n<text text-anchor=\"start\" x=\"100.5\" y=\"-30.8\" font-family=\"Times,serif\" font-size=\"14.00\">result</text>\n</g>\n<!-- a_G3&#45;&gt;Square -->\n<g id=\"edge1\" class=\"edge\">\n<title>a_G3:e-&gt;Square:w</title>\n<path fill=\"none\" stroke=\"black\" d=\"M54,-56C69.67,-56 74.14,-56 88.77,-56\"/>\n<ellipse fill=\"black\" stroke=\"black\" cx=\"90\" cy=\"-56\" rx=\"1\" ry=\"1\"/>\n<text text-anchor=\"middle\" x=\"72.5\" y=\"-59\" font-family=\"Times,serif\" font-size=\"10.00\">8</text>\n</g>\n<!-- a_G4 -->\n<g id=\"node3\" class=\"node\">\n<title>a_G4</title>\n<text text-anchor=\"middle\" x=\"198\" y=\"-68.3\" font-family=\"Times,serif\" font-size=\"14.00\">a</text>\n</g>\n<!-- Square&#45;&gt;a_G4 -->\n<g id=\"edge2\" class=\"edge\">\n<title>Square:e-&gt;a_G4:w</title>\n<path fill=\"none\" stroke=\"black\" d=\"M134,-56C151.22,-56 152.97,-70.77 168.98,-71.93\"/>\n<ellipse fill=\"black\" stroke=\"black\" cx=\"170\" cy=\"-71.96\" rx=\"1\" ry=\"1\"/>\n<text text-anchor=\"middle\" x=\"152.5\" y=\"-67\" font-family=\"Times,serif\" font-size=\"10.00\">8</text>\n</g>\n<!-- result_G1 -->\n<g id=\"node4\" class=\"node\">\n<title>result_G1</title>\n<text text-anchor=\"middle\" x=\"198\" y=\"-14.3\" font-family=\"Times,serif\" font-size=\"14.00\">result</text>\n</g>\n<!-- Square&#45;&gt;result_G1 -->\n<g id=\"edge3\" class=\"edge\">\n<title>Square:e-&gt;result_G1:w</title>\n<path fill=\"none\" stroke=\"black\" d=\"M134,-34C151.22,-34 152.97,-19.23 168.98,-18.07\"/>\n<ellipse fill=\"black\" stroke=\"black\" cx=\"170\" cy=\"-18.04\" rx=\"1\" ry=\"1\"/>\n<text text-anchor=\"middle\" x=\"152.5\" y=\"-29\" font-family=\"Times,serif\" font-size=\"10.00\">16</text>\n</g>\n</g>\n</svg>",
          "text/plain": "<IPython.core.display.SVG object>"
         },
         "metadata": {},
         "output_type": "display_data"
        }
       ],
       "tabbable": null,
       "tooltip": null
      }
     },
     "90449b7ee91b4643b0456c3cc9e3fc54": {
      "model_module": "@jupyter-widgets/base",
      "model_module_version": "2.0.0",
      "model_name": "LayoutModel",
      "state": {
       "_model_module": "@jupyter-widgets/base",
       "_model_module_version": "2.0.0",
       "_model_name": "LayoutModel",
       "_view_count": null,
       "_view_module": "@jupyter-widgets/base",
       "_view_module_version": "2.0.0",
       "_view_name": "LayoutView",
       "align_content": null,
       "align_items": null,
       "align_self": null,
       "border_bottom": null,
       "border_left": null,
       "border_right": null,
       "border_top": null,
       "bottom": null,
       "display": null,
       "flex": null,
       "flex_flow": null,
       "grid_area": null,
       "grid_auto_columns": null,
       "grid_auto_flow": null,
       "grid_auto_rows": null,
       "grid_column": null,
       "grid_gap": null,
       "grid_row": null,
       "grid_template_areas": null,
       "grid_template_columns": null,
       "grid_template_rows": null,
       "height": null,
       "justify_content": null,
       "justify_items": null,
       "left": null,
       "margin": null,
       "max_height": null,
       "max_width": null,
       "min_height": null,
       "min_width": null,
       "object_fit": null,
       "object_position": null,
       "order": null,
       "overflow": null,
       "padding": null,
       "right": null,
       "top": null,
       "visibility": null,
       "width": null
      }
     },
     "9ffde8d789a44716a9e29032383205ab": {
      "model_module": "@jupyter-widgets/output",
      "model_module_version": "1.0.0",
      "model_name": "OutputModel",
      "state": {
       "_dom_classes": [],
       "_model_module": "@jupyter-widgets/output",
       "_model_module_version": "1.0.0",
       "_model_name": "OutputModel",
       "_view_count": null,
       "_view_module": "@jupyter-widgets/output",
       "_view_module_version": "1.0.0",
       "_view_name": "OutputView",
       "layout": "IPY_MODEL_4d757235f5844dbf81a03fafc1e76a6b",
       "msg_id": "",
       "outputs": [
        {
         "data": {
          "text/markdown": "`plus_equal_product`",
          "text/plain": "<IPython.core.display.Markdown object>"
         },
         "metadata": {},
         "output_type": "display_data"
        },
        {
         "data": {
          "image/svg+xml": "<svg xmlns=\"http://www.w3.org/2000/svg\" xmlns:xlink=\"http://www.w3.org/1999/xlink\" width=\"269pt\" height=\"152pt\" viewBox=\"0.00 0.00 269.00 152.00\">\n<g id=\"graph0\" class=\"graph\" transform=\"scale(1 1) rotate(0) translate(4 148)\">\n<title>my_graph</title>\n<polygon fill=\"white\" stroke=\"transparent\" points=\"-4,4 -4,-148 265,-148 265,4 -4,4\"/>\n<!-- a_G5 -->\n<g id=\"node1\" class=\"node\">\n<title>a_G5</title>\n<text text-anchor=\"middle\" x=\"27\" y=\"-122.3\" font-family=\"Times,serif\" font-size=\"14.00\">a</text>\n</g>\n<!-- PlusEqualProduct -->\n<g id=\"node4\" class=\"node\">\n<title>PlusEqualProduct</title>\n<polygon fill=\"none\" stroke=\"black\" points=\"91.5,-104 91.5,-121 170.5,-121 170.5,-104 91.5,-104\"/>\n<text text-anchor=\"start\" x=\"94.5\" y=\"-110\" font-family=\"Times,serif\" font-size=\"10.00\">PlusEqualProduct</text>\n<polygon fill=\"none\" stroke=\"black\" points=\"91.5,-83 91.5,-104 170.5,-104 170.5,-83 91.5,-83\"/>\n<text text-anchor=\"start\" x=\"127.5\" y=\"-89.8\" font-family=\"Times,serif\" font-size=\"14.00\">a</text>\n<polygon fill=\"none\" stroke=\"black\" points=\"91.5,-62 91.5,-83 170.5,-83 170.5,-62 91.5,-62\"/>\n<text text-anchor=\"start\" x=\"127.5\" y=\"-68.8\" font-family=\"Times,serif\" font-size=\"14.00\">b</text>\n<polygon fill=\"none\" stroke=\"black\" points=\"91.5,-41 91.5,-62 170.5,-62 170.5,-41 91.5,-41\"/>\n<text text-anchor=\"start\" x=\"115.5\" y=\"-47.8\" font-family=\"Times,serif\" font-size=\"14.00\">result</text>\n</g>\n<!-- a_G5&#45;&gt;PlusEqualProduct -->\n<g id=\"edge1\" class=\"edge\">\n<title>a_G5:e-&gt;PlusEqualProduct:w</title>\n<path fill=\"none\" stroke=\"black\" d=\"M54,-126C74.89,-126 69.72,-96.45 88.58,-94.14\"/>\n<ellipse fill=\"black\" stroke=\"black\" cx=\"90\" cy=\"-94.06\" rx=\"1\" ry=\"1\"/>\n<text text-anchor=\"middle\" x=\"72.5\" y=\"-113\" font-family=\"Times,serif\" font-size=\"10.00\">2</text>\n</g>\n<!-- b_G0 -->\n<g id=\"node2\" class=\"node\">\n<title>b_G0</title>\n<text text-anchor=\"middle\" x=\"27\" y=\"-68.3\" font-family=\"Times,serif\" font-size=\"14.00\">b</text>\n</g>\n<!-- b_G0&#45;&gt;PlusEqualProduct -->\n<g id=\"edge2\" class=\"edge\">\n<title>b_G0:e-&gt;PlusEqualProduct:w</title>\n<path fill=\"none\" stroke=\"black\" d=\"M54,-72C69.67,-72 74.14,-72 88.77,-72\"/>\n<ellipse fill=\"black\" stroke=\"black\" cx=\"90\" cy=\"-72\" rx=\"1\" ry=\"1\"/>\n<text text-anchor=\"middle\" x=\"72.5\" y=\"-75\" font-family=\"Times,serif\" font-size=\"10.00\">2</text>\n</g>\n<!-- result_G1 -->\n<g id=\"node3\" class=\"node\">\n<title>result_G1</title>\n<text text-anchor=\"middle\" x=\"27\" y=\"-14.3\" font-family=\"Times,serif\" font-size=\"14.00\">result</text>\n</g>\n<!-- result_G1&#45;&gt;PlusEqualProduct -->\n<g id=\"edge3\" class=\"edge\">\n<title>result_G1:e-&gt;PlusEqualProduct:w</title>\n<path fill=\"none\" stroke=\"black\" d=\"M54,-18C75.17,-18 69.47,-48.47 88.55,-50.85\"/>\n<ellipse fill=\"black\" stroke=\"black\" cx=\"90\" cy=\"-50.94\" rx=\"1\" ry=\"1\"/>\n<text text-anchor=\"middle\" x=\"72.5\" y=\"-39\" font-family=\"Times,serif\" font-size=\"10.00\">4</text>\n</g>\n<!-- a_G6 -->\n<g id=\"node5\" class=\"node\">\n<title>a_G6</title>\n<text text-anchor=\"middle\" x=\"234\" y=\"-122.3\" font-family=\"Times,serif\" font-size=\"14.00\">a</text>\n</g>\n<!-- PlusEqualProduct&#45;&gt;a_G6 -->\n<g id=\"edge4\" class=\"edge\">\n<title>PlusEqualProduct:e-&gt;a_G6:w</title>\n<path fill=\"none\" stroke=\"black\" d=\"M170,-94C190.89,-94 185.72,-123.55 204.58,-125.86\"/>\n<ellipse fill=\"black\" stroke=\"black\" cx=\"206\" cy=\"-125.94\" rx=\"1\" ry=\"1\"/>\n<text text-anchor=\"middle\" x=\"188.5\" y=\"-113\" font-family=\"Times,serif\" font-size=\"10.00\">2</text>\n</g>\n<!-- b_G2 -->\n<g id=\"node6\" class=\"node\">\n<title>b_G2</title>\n<text text-anchor=\"middle\" x=\"234\" y=\"-68.3\" font-family=\"Times,serif\" font-size=\"14.00\">b</text>\n</g>\n<!-- PlusEqualProduct&#45;&gt;b_G2 -->\n<g id=\"edge5\" class=\"edge\">\n<title>PlusEqualProduct:e-&gt;b_G2:w</title>\n<path fill=\"none\" stroke=\"black\" d=\"M170,-72C185.67,-72 190.14,-72 204.77,-72\"/>\n<ellipse fill=\"black\" stroke=\"black\" cx=\"206\" cy=\"-72\" rx=\"1\" ry=\"1\"/>\n<text text-anchor=\"middle\" x=\"188.5\" y=\"-75\" font-family=\"Times,serif\" font-size=\"10.00\">2</text>\n</g>\n<!-- result_G3 -->\n<g id=\"node7\" class=\"node\">\n<title>result_G3</title>\n<text text-anchor=\"middle\" x=\"234\" y=\"-14.3\" font-family=\"Times,serif\" font-size=\"14.00\">result</text>\n</g>\n<!-- PlusEqualProduct&#45;&gt;result_G3 -->\n<g id=\"edge6\" class=\"edge\">\n<title>PlusEqualProduct:e-&gt;result_G3:w</title>\n<path fill=\"none\" stroke=\"black\" d=\"M170,-51C191.17,-51 185.47,-20.53 204.55,-18.15\"/>\n<ellipse fill=\"black\" stroke=\"black\" cx=\"206\" cy=\"-18.06\" rx=\"1\" ry=\"1\"/>\n<text text-anchor=\"middle\" x=\"188.5\" y=\"-39\" font-family=\"Times,serif\" font-size=\"10.00\">4</text>\n</g>\n</g>\n</svg>",
          "text/plain": "<IPython.core.display.SVG object>"
         },
         "metadata": {},
         "output_type": "display_data"
        }
       ],
       "tabbable": null,
       "tooltip": null
      }
     },
     "bd779b4d02a44e65b12225f2fe54b718": {
      "model_module": "@jupyter-widgets/output",
      "model_module_version": "1.0.0",
      "model_name": "OutputModel",
      "state": {
       "_dom_classes": [],
       "_model_module": "@jupyter-widgets/output",
       "_model_module_version": "1.0.0",
       "_model_name": "OutputModel",
       "_view_count": null,
       "_view_module": "@jupyter-widgets/output",
       "_view_module_version": "1.0.0",
       "_view_name": "OutputView",
       "layout": "IPY_MODEL_729ab7b5e32847e79f860e7de9edf284",
       "msg_id": "",
       "outputs": [
        {
         "data": {
          "text/markdown": "`multiply_two_reals`",
          "text/plain": "<IPython.core.display.Markdown object>"
         },
         "metadata": {},
         "output_type": "display_data"
        },
        {
         "data": {
          "image/svg+xml": "<svg xmlns=\"http://www.w3.org/2000/svg\" xmlns:xlink=\"http://www.w3.org/1999/xlink\" width=\"274pt\" height=\"152pt\" viewBox=\"0.00 0.00 274.00 152.00\">\n<g id=\"graph0\" class=\"graph\" transform=\"scale(1 1) rotate(0) translate(4 148)\">\n<title>my_graph</title>\n<polygon fill=\"white\" stroke=\"transparent\" points=\"-4,4 -4,-148 270,-148 270,4 -4,4\"/>\n<!-- a_G1 -->\n<g id=\"node1\" class=\"node\">\n<title>a_G1</title>\n<text text-anchor=\"middle\" x=\"27\" y=\"-106.3\" font-family=\"Times,serif\" font-size=\"14.00\">a</text>\n</g>\n<!-- MultiplyTwoReals -->\n<g id=\"node3\" class=\"node\">\n<title>MultiplyTwoReals</title>\n<polygon fill=\"none\" stroke=\"black\" points=\"91,-104 91,-121 175,-121 175,-104 91,-104\"/>\n<text text-anchor=\"start\" x=\"94\" y=\"-110\" font-family=\"Times,serif\" font-size=\"10.00\">MultiplyTwoReals</text>\n<polygon fill=\"none\" stroke=\"black\" points=\"91,-83 91,-104 175,-104 175,-83 91,-83\"/>\n<text text-anchor=\"start\" x=\"129.5\" y=\"-89.8\" font-family=\"Times,serif\" font-size=\"14.00\">a</text>\n<polygon fill=\"none\" stroke=\"black\" points=\"91,-62 91,-83 175,-83 175,-62 91,-62\"/>\n<text text-anchor=\"start\" x=\"129.5\" y=\"-68.8\" font-family=\"Times,serif\" font-size=\"14.00\">b</text>\n<polygon fill=\"none\" stroke=\"black\" points=\"91,-41 91,-62 117,-62 117,-41 91,-41\"/>\n<polygon fill=\"none\" stroke=\"black\" points=\"117,-41 117,-62 175,-62 175,-41 117,-41\"/>\n<text text-anchor=\"start\" x=\"130.5\" y=\"-47.8\" font-family=\"Times,serif\" font-size=\"14.00\">result</text>\n</g>\n<!-- a_G1&#45;&gt;MultiplyTwoReals -->\n<g id=\"edge1\" class=\"edge\">\n<title>a_G1:e-&gt;MultiplyTwoReals:w</title>\n<path fill=\"none\" stroke=\"black\" d=\"M54,-110C71.22,-110 72.97,-95.23 88.98,-94.07\"/>\n<ellipse fill=\"black\" stroke=\"black\" cx=\"90\" cy=\"-94.04\" rx=\"1\" ry=\"1\"/>\n<text text-anchor=\"middle\" x=\"72.5\" y=\"-105\" font-family=\"Times,serif\" font-size=\"10.00\">10</text>\n</g>\n<!-- b_G3 -->\n<g id=\"node2\" class=\"node\">\n<title>b_G3</title>\n<text text-anchor=\"middle\" x=\"27\" y=\"-52.3\" font-family=\"Times,serif\" font-size=\"14.00\">b</text>\n</g>\n<!-- b_G3&#45;&gt;MultiplyTwoReals -->\n<g id=\"edge2\" class=\"edge\">\n<title>b_G3:e-&gt;MultiplyTwoReals:w</title>\n<path fill=\"none\" stroke=\"black\" d=\"M54,-56C71.22,-56 72.97,-70.77 88.98,-71.93\"/>\n<ellipse fill=\"black\" stroke=\"black\" cx=\"90\" cy=\"-71.96\" rx=\"1\" ry=\"1\"/>\n<text text-anchor=\"middle\" x=\"72.5\" y=\"-68\" font-family=\"Times,serif\" font-size=\"10.00\">10</text>\n</g>\n<!-- a_G2 -->\n<g id=\"node4\" class=\"node\">\n<title>a_G2</title>\n<text text-anchor=\"middle\" x=\"239\" y=\"-122.3\" font-family=\"Times,serif\" font-size=\"14.00\">a</text>\n</g>\n<!-- MultiplyTwoReals&#45;&gt;a_G2 -->\n<g id=\"edge3\" class=\"edge\">\n<title>MultiplyTwoReals:e-&gt;a_G2:w</title>\n<path fill=\"none\" stroke=\"black\" d=\"M175,-94C195.89,-94 190.72,-123.55 209.58,-125.86\"/>\n<ellipse fill=\"black\" stroke=\"black\" cx=\"211\" cy=\"-125.94\" rx=\"1\" ry=\"1\"/>\n<text text-anchor=\"middle\" x=\"193.5\" y=\"-113\" font-family=\"Times,serif\" font-size=\"10.00\">10</text>\n</g>\n<!-- b_G5 -->\n<g id=\"node5\" class=\"node\">\n<title>b_G5</title>\n<text text-anchor=\"middle\" x=\"239\" y=\"-68.3\" font-family=\"Times,serif\" font-size=\"14.00\">b</text>\n</g>\n<!-- MultiplyTwoReals&#45;&gt;b_G5 -->\n<g id=\"edge4\" class=\"edge\">\n<title>MultiplyTwoReals:e-&gt;b_G5:w</title>\n<path fill=\"none\" stroke=\"black\" d=\"M175,-72C190.67,-72 195.14,-72 209.77,-72\"/>\n<ellipse fill=\"black\" stroke=\"black\" cx=\"211\" cy=\"-72\" rx=\"1\" ry=\"1\"/>\n<text text-anchor=\"middle\" x=\"193.5\" y=\"-75\" font-family=\"Times,serif\" font-size=\"10.00\">10</text>\n</g>\n<!-- result_G0 -->\n<g id=\"node6\" class=\"node\">\n<title>result_G0</title>\n<text text-anchor=\"middle\" x=\"239\" y=\"-14.3\" font-family=\"Times,serif\" font-size=\"14.00\">result</text>\n</g>\n<!-- MultiplyTwoReals&#45;&gt;result_G0 -->\n<g id=\"edge5\" class=\"edge\">\n<title>MultiplyTwoReals:e-&gt;result_G0:w</title>\n<path fill=\"none\" stroke=\"black\" d=\"M175,-51C196.17,-51 190.47,-20.53 209.55,-18.15\"/>\n<ellipse fill=\"black\" stroke=\"black\" cx=\"211\" cy=\"-18.06\" rx=\"1\" ry=\"1\"/>\n<text text-anchor=\"middle\" x=\"193.5\" y=\"-39\" font-family=\"Times,serif\" font-size=\"10.00\">10</text>\n</g>\n</g>\n</svg>",
          "text/plain": "<IPython.core.display.SVG object>"
         },
         "metadata": {},
         "output_type": "display_data"
        }
       ],
       "tabbable": null,
       "tooltip": null
      }
     },
     "cbf9272404f24518ab896655011cd1d1": {
      "model_module": "@jupyter-widgets/output",
      "model_module_version": "1.0.0",
      "model_name": "OutputModel",
      "state": {
       "_dom_classes": [],
       "_model_module": "@jupyter-widgets/output",
       "_model_module_version": "1.0.0",
       "_model_name": "OutputModel",
       "_view_count": null,
       "_view_module": "@jupyter-widgets/output",
       "_view_module_version": "1.0.0",
       "_view_name": "OutputView",
       "layout": "IPY_MODEL_ec6bc43c95fa435ab9eb8fbaa417e45b",
       "msg_id": "",
       "outputs": [
        {
         "data": {
          "text/markdown": "`product`",
          "text/plain": "<IPython.core.display.Markdown object>"
         },
         "metadata": {},
         "output_type": "display_data"
        },
        {
         "data": {
          "image/svg+xml": "<svg xmlns=\"http://www.w3.org/2000/svg\" xmlns:xlink=\"http://www.w3.org/1999/xlink\" width=\"233pt\" height=\"152pt\" viewBox=\"0.00 0.00 233.00 152.00\">\n<g id=\"graph0\" class=\"graph\" transform=\"scale(1 1) rotate(0) translate(4 148)\">\n<title>my_graph</title>\n<polygon fill=\"white\" stroke=\"transparent\" points=\"-4,4 -4,-148 229,-148 229,4 -4,4\"/>\n<!-- a_G4 -->\n<g id=\"node1\" class=\"node\">\n<title>a_G4</title>\n<text text-anchor=\"middle\" x=\"27\" y=\"-106.3\" font-family=\"Times,serif\" font-size=\"14.00\">a</text>\n</g>\n<!-- Product -->\n<g id=\"node3\" class=\"node\">\n<title>Product</title>\n<polygon fill=\"none\" stroke=\"black\" points=\"91.5,-104 91.5,-121 134.5,-121 134.5,-104 91.5,-104\"/>\n<text text-anchor=\"start\" x=\"97\" y=\"-110\" font-family=\"Times,serif\" font-size=\"10.00\">Product</text>\n<polygon fill=\"none\" stroke=\"black\" points=\"91.5,-83 91.5,-104 134.5,-104 134.5,-83 91.5,-83\"/>\n<text text-anchor=\"start\" x=\"109.5\" y=\"-89.8\" font-family=\"Times,serif\" font-size=\"14.00\">a</text>\n<polygon fill=\"none\" stroke=\"black\" points=\"91.5,-62 91.5,-83 134.5,-83 134.5,-62 91.5,-62\"/>\n<text text-anchor=\"start\" x=\"109.5\" y=\"-68.8\" font-family=\"Times,serif\" font-size=\"14.00\">b</text>\n<polygon fill=\"none\" stroke=\"black\" points=\"91.5,-41 91.5,-62 97.5,-62 97.5,-41 91.5,-41\"/>\n<polygon fill=\"none\" stroke=\"black\" points=\"97.5,-41 97.5,-62 134.5,-62 134.5,-41 97.5,-41\"/>\n<text text-anchor=\"start\" x=\"100.5\" y=\"-47.8\" font-family=\"Times,serif\" font-size=\"14.00\">result</text>\n</g>\n<!-- a_G4&#45;&gt;Product -->\n<g id=\"edge1\" class=\"edge\">\n<title>a_G4:e-&gt;Product:w</title>\n<path fill=\"none\" stroke=\"black\" d=\"M54,-110C71.22,-110 72.97,-95.23 88.98,-94.07\"/>\n<ellipse fill=\"black\" stroke=\"black\" cx=\"90\" cy=\"-94.04\" rx=\"1\" ry=\"1\"/>\n<text text-anchor=\"middle\" x=\"72.5\" y=\"-105\" font-family=\"Times,serif\" font-size=\"10.00\">4</text>\n</g>\n<!-- b_G7 -->\n<g id=\"node2\" class=\"node\">\n<title>b_G7</title>\n<text text-anchor=\"middle\" x=\"27\" y=\"-52.3\" font-family=\"Times,serif\" font-size=\"14.00\">b</text>\n</g>\n<!-- b_G7&#45;&gt;Product -->\n<g id=\"edge2\" class=\"edge\">\n<title>b_G7:e-&gt;Product:w</title>\n<path fill=\"none\" stroke=\"black\" d=\"M54,-56C71.22,-56 72.97,-70.77 88.98,-71.93\"/>\n<ellipse fill=\"black\" stroke=\"black\" cx=\"90\" cy=\"-71.96\" rx=\"1\" ry=\"1\"/>\n<text text-anchor=\"middle\" x=\"72.5\" y=\"-68\" font-family=\"Times,serif\" font-size=\"10.00\">6</text>\n</g>\n<!-- a_G6 -->\n<g id=\"node4\" class=\"node\">\n<title>a_G6</title>\n<text text-anchor=\"middle\" x=\"198\" y=\"-122.3\" font-family=\"Times,serif\" font-size=\"14.00\">a</text>\n</g>\n<!-- Product&#45;&gt;a_G6 -->\n<g id=\"edge3\" class=\"edge\">\n<title>Product:e-&gt;a_G6:w</title>\n<path fill=\"none\" stroke=\"black\" d=\"M134,-94C154.89,-94 149.72,-123.55 168.58,-125.86\"/>\n<ellipse fill=\"black\" stroke=\"black\" cx=\"170\" cy=\"-125.94\" rx=\"1\" ry=\"1\"/>\n<text text-anchor=\"middle\" x=\"152.5\" y=\"-113\" font-family=\"Times,serif\" font-size=\"10.00\">4</text>\n</g>\n<!-- b_G1 -->\n<g id=\"node5\" class=\"node\">\n<title>b_G1</title>\n<text text-anchor=\"middle\" x=\"198\" y=\"-68.3\" font-family=\"Times,serif\" font-size=\"14.00\">b</text>\n</g>\n<!-- Product&#45;&gt;b_G1 -->\n<g id=\"edge4\" class=\"edge\">\n<title>Product:e-&gt;b_G1:w</title>\n<path fill=\"none\" stroke=\"black\" d=\"M134,-72C149.67,-72 154.14,-72 168.77,-72\"/>\n<ellipse fill=\"black\" stroke=\"black\" cx=\"170\" cy=\"-72\" rx=\"1\" ry=\"1\"/>\n<text text-anchor=\"middle\" x=\"152.5\" y=\"-75\" font-family=\"Times,serif\" font-size=\"10.00\">6</text>\n</g>\n<!-- result_G0 -->\n<g id=\"node6\" class=\"node\">\n<title>result_G0</title>\n<text text-anchor=\"middle\" x=\"198\" y=\"-14.3\" font-family=\"Times,serif\" font-size=\"14.00\">result</text>\n</g>\n<!-- Product&#45;&gt;result_G0 -->\n<g id=\"edge5\" class=\"edge\">\n<title>Product:e-&gt;result_G0:w</title>\n<path fill=\"none\" stroke=\"black\" d=\"M134,-51C155.17,-51 149.47,-20.53 168.55,-18.15\"/>\n<ellipse fill=\"black\" stroke=\"black\" cx=\"170\" cy=\"-18.06\" rx=\"1\" ry=\"1\"/>\n<text text-anchor=\"middle\" x=\"152.5\" y=\"-39\" font-family=\"Times,serif\" font-size=\"10.00\">12</text>\n</g>\n</g>\n</svg>",
          "text/plain": "<IPython.core.display.SVG object>"
         },
         "metadata": {},
         "output_type": "display_data"
        }
       ],
       "tabbable": null,
       "tooltip": null
      }
     },
     "d0aee2cda01d48fb8b0e7df38e71110c": {
      "model_module": "@jupyter-widgets/base",
      "model_module_version": "2.0.0",
      "model_name": "LayoutModel",
      "state": {
       "_model_module": "@jupyter-widgets/base",
       "_model_module_version": "2.0.0",
       "_model_name": "LayoutModel",
       "_view_count": null,
       "_view_module": "@jupyter-widgets/base",
       "_view_module_version": "2.0.0",
       "_view_name": "LayoutView",
       "align_content": null,
       "align_items": null,
       "align_self": null,
       "border_bottom": null,
       "border_left": null,
       "border_right": null,
       "border_top": null,
       "bottom": null,
       "display": null,
       "flex": null,
       "flex_flow": null,
       "grid_area": null,
       "grid_auto_columns": null,
       "grid_auto_flow": null,
       "grid_auto_rows": null,
       "grid_column": null,
       "grid_gap": null,
       "grid_row": null,
       "grid_template_areas": null,
       "grid_template_columns": null,
       "grid_template_rows": null,
       "height": null,
       "justify_content": null,
       "justify_items": null,
       "left": null,
       "margin": null,
       "max_height": null,
       "max_width": null,
       "min_height": null,
       "min_width": null,
       "object_fit": null,
       "object_position": null,
       "order": null,
       "overflow": null,
       "padding": null,
       "right": null,
       "top": null,
       "visibility": null,
       "width": null
      }
     },
     "d7bf7a97c48a49ce88bc17d87f08474d": {
      "model_module": "@jupyter-widgets/controls",
      "model_module_version": "2.0.0",
      "model_name": "HBoxModel",
      "state": {
       "_dom_classes": [],
       "_model_module": "@jupyter-widgets/controls",
       "_model_module_version": "2.0.0",
       "_model_name": "HBoxModel",
       "_view_count": null,
       "_view_module": "@jupyter-widgets/controls",
       "_view_module_version": "2.0.0",
       "_view_name": "HBoxView",
       "box_style": "",
       "children": [
        "IPY_MODEL_cbf9272404f24518ab896655011cd1d1"
       ],
       "layout": "IPY_MODEL_1f46a71af37949189e0d7c53fac6711e",
       "tabbable": null,
       "tooltip": null
      }
     },
     "df696e6e9c3442bca40390f2e97b9685": {
      "model_module": "@jupyter-widgets/controls",
      "model_module_version": "2.0.0",
      "model_name": "HBoxModel",
      "state": {
       "_dom_classes": [],
       "_model_module": "@jupyter-widgets/controls",
       "_model_module_version": "2.0.0",
       "_model_name": "HBoxModel",
       "_view_count": null,
       "_view_module": "@jupyter-widgets/controls",
       "_view_module_version": "2.0.0",
       "_view_name": "HBoxView",
       "box_style": "",
       "children": [
        "IPY_MODEL_bd779b4d02a44e65b12225f2fe54b718"
       ],
       "layout": "IPY_MODEL_90449b7ee91b4643b0456c3cc9e3fc54",
       "tabbable": null,
       "tooltip": null
      }
     },
     "e410cdc0a0c345f781bc19d0bdb8be3f": {
      "model_module": "@jupyter-widgets/controls",
      "model_module_version": "2.0.0",
      "model_name": "HBoxModel",
      "state": {
       "_dom_classes": [],
       "_model_module": "@jupyter-widgets/controls",
       "_model_module_version": "2.0.0",
       "_model_name": "HBoxModel",
       "_view_count": null,
       "_view_module": "@jupyter-widgets/controls",
       "_view_module_version": "2.0.0",
       "_view_name": "HBoxView",
       "box_style": "",
       "children": [
        "IPY_MODEL_9031ea57af6b480fb529ca32f0035964"
       ],
       "layout": "IPY_MODEL_0674cca5343047428b472543f586da3b",
       "tabbable": null,
       "tooltip": null
      }
     },
     "e80de1f223b94917bb539f478cec364b": {
      "model_module": "@jupyter-widgets/output",
      "model_module_version": "1.0.0",
      "model_name": "OutputModel",
      "state": {
       "_dom_classes": [],
       "_model_module": "@jupyter-widgets/output",
       "_model_module_version": "1.0.0",
       "_model_name": "OutputModel",
       "_view_count": null,
       "_view_module": "@jupyter-widgets/output",
       "_view_module_version": "1.0.0",
       "_view_name": "OutputView",
       "layout": "IPY_MODEL_65d9b7a5e3474a2a97ba4badedf6684d",
       "msg_id": "",
       "outputs": [
        {
         "data": {
          "text/markdown": "`invert_real_number`",
          "text/plain": "<IPython.core.display.Markdown object>"
         },
         "metadata": {},
         "output_type": "display_data"
        },
        {
         "data": {
          "image/svg+xml": "<svg xmlns=\"http://www.w3.org/2000/svg\" xmlns:xlink=\"http://www.w3.org/1999/xlink\" width=\"272pt\" height=\"98pt\" viewBox=\"0.00 0.00 272.00 98.00\">\n<g id=\"graph0\" class=\"graph\" transform=\"scale(1 1) rotate(0) translate(4 94)\">\n<title>my_graph</title>\n<polygon fill=\"white\" stroke=\"transparent\" points=\"-4,4 -4,-94 268,-94 268,4 -4,4\"/>\n<!-- a_G0 -->\n<g id=\"node1\" class=\"node\">\n<title>a_G0</title>\n<text text-anchor=\"middle\" x=\"27\" y=\"-68.3\" font-family=\"Times,serif\" font-size=\"14.00\">a</text>\n</g>\n<!-- InvertRealNumber -->\n<g id=\"node3\" class=\"node\">\n<title>InvertRealNumber</title>\n<polygon fill=\"none\" stroke=\"black\" points=\"91,-66 91,-83 173,-83 173,-66 91,-66\"/>\n<text text-anchor=\"start\" x=\"94\" y=\"-72\" font-family=\"Times,serif\" font-size=\"10.00\">InvertRealNumber</text>\n<polygon fill=\"none\" stroke=\"black\" points=\"91,-45 91,-66 173,-66 173,-45 91,-45\"/>\n<text text-anchor=\"start\" x=\"128.5\" y=\"-51.8\" font-family=\"Times,serif\" font-size=\"14.00\">a</text>\n<polygon fill=\"none\" stroke=\"black\" points=\"91,-24 91,-45 173,-45 173,-24 91,-24\"/>\n<text text-anchor=\"start\" x=\"116.5\" y=\"-30.8\" font-family=\"Times,serif\" font-size=\"14.00\">result</text>\n</g>\n<!-- a_G0&#45;&gt;InvertRealNumber -->\n<g id=\"edge1\" class=\"edge\">\n<title>a_G0:e-&gt;InvertRealNumber:w</title>\n<path fill=\"none\" stroke=\"black\" d=\"M54,-72C71.22,-72 72.97,-57.23 88.98,-56.07\"/>\n<ellipse fill=\"black\" stroke=\"black\" cx=\"90\" cy=\"-56.04\" rx=\"1\" ry=\"1\"/>\n<text text-anchor=\"middle\" x=\"72.5\" y=\"-67\" font-family=\"Times,serif\" font-size=\"10.00\">10</text>\n</g>\n<!-- result_G1 -->\n<g id=\"node2\" class=\"node\">\n<title>result_G1</title>\n<text text-anchor=\"middle\" x=\"27\" y=\"-14.3\" font-family=\"Times,serif\" font-size=\"14.00\">result</text>\n</g>\n<!-- result_G1&#45;&gt;InvertRealNumber -->\n<g id=\"edge2\" class=\"edge\">\n<title>result_G1:e-&gt;InvertRealNumber:w</title>\n<path fill=\"none\" stroke=\"black\" d=\"M54,-18C71.22,-18 72.97,-32.77 88.98,-33.93\"/>\n<ellipse fill=\"black\" stroke=\"black\" cx=\"90\" cy=\"-33.96\" rx=\"1\" ry=\"1\"/>\n<text text-anchor=\"middle\" x=\"72.5\" y=\"-29\" font-family=\"Times,serif\" font-size=\"10.00\">10</text>\n</g>\n<!-- a_G4 -->\n<g id=\"node4\" class=\"node\">\n<title>a_G4</title>\n<text text-anchor=\"middle\" x=\"237\" y=\"-68.3\" font-family=\"Times,serif\" font-size=\"14.00\">a</text>\n</g>\n<!-- InvertRealNumber&#45;&gt;a_G4 -->\n<g id=\"edge3\" class=\"edge\">\n<title>InvertRealNumber:e-&gt;a_G4:w</title>\n<path fill=\"none\" stroke=\"black\" d=\"M173,-56C190.22,-56 191.97,-70.77 207.98,-71.93\"/>\n<ellipse fill=\"black\" stroke=\"black\" cx=\"209\" cy=\"-71.96\" rx=\"1\" ry=\"1\"/>\n<text text-anchor=\"middle\" x=\"191.5\" y=\"-67\" font-family=\"Times,serif\" font-size=\"10.00\">10</text>\n</g>\n<!-- result_G3 -->\n<g id=\"node5\" class=\"node\">\n<title>result_G3</title>\n<text text-anchor=\"middle\" x=\"237\" y=\"-14.3\" font-family=\"Times,serif\" font-size=\"14.00\">result</text>\n</g>\n<!-- InvertRealNumber&#45;&gt;result_G3 -->\n<g id=\"edge4\" class=\"edge\">\n<title>InvertRealNumber:e-&gt;result_G3:w</title>\n<path fill=\"none\" stroke=\"black\" d=\"M173,-34C190.22,-34 191.97,-19.23 207.98,-18.07\"/>\n<ellipse fill=\"black\" stroke=\"black\" cx=\"209\" cy=\"-18.04\" rx=\"1\" ry=\"1\"/>\n<text text-anchor=\"middle\" x=\"191.5\" y=\"-29\" font-family=\"Times,serif\" font-size=\"10.00\">10</text>\n</g>\n</g>\n</svg>",
          "text/plain": "<IPython.core.display.SVG object>"
         },
         "metadata": {},
         "output_type": "display_data"
        }
       ],
       "tabbable": null,
       "tooltip": null
      }
     },
     "ec6bc43c95fa435ab9eb8fbaa417e45b": {
      "model_module": "@jupyter-widgets/base",
      "model_module_version": "2.0.0",
      "model_name": "LayoutModel",
      "state": {
       "_model_module": "@jupyter-widgets/base",
       "_model_module_version": "2.0.0",
       "_model_name": "LayoutModel",
       "_view_count": null,
       "_view_module": "@jupyter-widgets/base",
       "_view_module_version": "2.0.0",
       "_view_name": "LayoutView",
       "align_content": null,
       "align_items": null,
       "align_self": null,
       "border_bottom": null,
       "border_left": null,
       "border_right": null,
       "border_top": null,
       "bottom": null,
       "display": null,
       "flex": null,
       "flex_flow": null,
       "grid_area": null,
       "grid_auto_columns": null,
       "grid_auto_flow": null,
       "grid_auto_rows": null,
       "grid_column": null,
       "grid_gap": null,
       "grid_row": null,
       "grid_template_areas": null,
       "grid_template_columns": null,
       "grid_template_rows": null,
       "height": null,
       "justify_content": null,
       "justify_items": null,
       "left": null,
       "margin": null,
       "max_height": null,
       "max_width": null,
       "min_height": null,
       "min_width": null,
       "object_fit": null,
       "object_position": null,
       "order": null,
       "overflow": null,
       "padding": null,
       "right": null,
       "top": null,
       "visibility": null,
       "width": null
      }
     },
     "f4af7c12933c434aa337eb1b8ec3a4b7": {
      "model_module": "@jupyter-widgets/base",
      "model_module_version": "2.0.0",
      "model_name": "LayoutModel",
      "state": {
       "_model_module": "@jupyter-widgets/base",
       "_model_module_version": "2.0.0",
       "_model_name": "LayoutModel",
       "_view_count": null,
       "_view_module": "@jupyter-widgets/base",
       "_view_module_version": "2.0.0",
       "_view_name": "LayoutView",
       "align_content": null,
       "align_items": null,
       "align_self": null,
       "border_bottom": null,
       "border_left": null,
       "border_right": null,
       "border_top": null,
       "bottom": null,
       "display": null,
       "flex": null,
       "flex_flow": null,
       "grid_area": null,
       "grid_auto_columns": null,
       "grid_auto_flow": null,
       "grid_auto_rows": null,
       "grid_column": null,
       "grid_gap": null,
       "grid_row": null,
       "grid_template_areas": null,
       "grid_template_columns": null,
       "grid_template_rows": null,
       "height": null,
       "justify_content": null,
       "justify_items": null,
       "left": null,
       "margin": null,
       "max_height": null,
       "max_width": null,
       "min_height": null,
       "min_width": null,
       "object_fit": null,
       "object_position": null,
       "order": null,
       "overflow": null,
       "padding": null,
       "right": null,
       "top": null,
       "visibility": null,
       "width": null
      }
     },
     "fcf59627797c4e6a867866610e8a3fba": {
      "model_module": "@jupyter-widgets/base",
      "model_module_version": "2.0.0",
      "model_name": "LayoutModel",
      "state": {
       "_model_module": "@jupyter-widgets/base",
       "_model_module_version": "2.0.0",
       "_model_name": "LayoutModel",
       "_view_count": null,
       "_view_module": "@jupyter-widgets/base",
       "_view_module_version": "2.0.0",
       "_view_name": "LayoutView",
       "align_content": null,
       "align_items": null,
       "align_self": null,
       "border_bottom": null,
       "border_left": null,
       "border_right": null,
       "border_top": null,
       "bottom": null,
       "display": null,
       "flex": null,
       "flex_flow": null,
       "grid_area": null,
       "grid_auto_columns": null,
       "grid_auto_flow": null,
       "grid_auto_rows": null,
       "grid_column": null,
       "grid_gap": null,
       "grid_row": null,
       "grid_template_areas": null,
       "grid_template_columns": null,
       "grid_template_rows": null,
       "height": null,
       "justify_content": null,
       "justify_items": null,
       "left": null,
       "margin": null,
       "max_height": null,
       "max_width": null,
       "min_height": null,
       "min_width": null,
       "object_fit": null,
       "object_position": null,
       "order": null,
       "overflow": null,
       "padding": null,
       "right": null,
       "top": null,
       "visibility": null,
       "width": null
      }
     }
    },
    "version_major": 2,
    "version_minor": 0
   }
  }
 },
 "nbformat": 4,
 "nbformat_minor": 5
}
