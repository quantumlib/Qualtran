{
 "cells": [
  {
   "cell_type": "markdown",
   "id": "9f3283ca",
   "metadata": {
    "cq.autogen": "title_cell"
   },
   "source": [
    "# Trigonometric Functions"
   ]
  },
  {
   "cell_type": "code",
   "execution_count": 1,
   "id": "9a721c1b",
   "metadata": {
    "cq.autogen": "top_imports"
   },
   "outputs": [],
   "source": [
    "from qualtran import Bloq, CompositeBloq, BloqBuilder, Signature, Register\n",
    "from qualtran import QBit, QInt, QUInt, QAny\n",
    "from qualtran.drawing import show_bloq, show_call_graph, show_counts_sigma\n",
    "from typing import *\n",
    "import numpy as np\n",
    "import sympy\n",
    "import cirq"
   ]
  },
  {
   "cell_type": "markdown",
   "id": "3c33f767",
   "metadata": {
    "cq.autogen": "ArcSin.bloq_doc.md"
   },
   "source": [
    "## `ArcSin`\n",
    "Compute the arcsine of a fixed-point number.\n",
    "\n",
    "Implements the unitary:\n",
    "$$\n",
    "    |a\\rangle|0\\rangle \\rightarrow |a\\rangle|\\arcsin(a)\\rangle\n",
    "$$\n",
    "\n",
    "#### Parameters\n",
    " - `bitsize`: Number of bits used to represent the number.\n",
    " - `num_frac`: Number of fraction bits in the number.\n",
    " - `num_iters`: Number of Newton-Raphson iterations. Defaults to 4; the reference studies 3, 4, or 5 iterations.\n",
    " - `degree`: Degree of the polynomial of the initial approximation. Defaults to 4; the reference studies degree-3, 4, 5, or 6 polynomials. \n",
    "\n",
    "#### Registers\n",
    " - `x`: `bitsize`-sized input register.\n",
    " - `result`: `bitsize`-sized output register. \n",
    "\n",
    "#### References\n",
    " - [Optimizing Quantum Circuits for Arithmetic](https://arxiv.org/abs/1805.12445). Appendix D.\n"
   ]
  },
  {
   "cell_type": "code",
   "execution_count": 2,
   "id": "65c376cd",
   "metadata": {
    "cq.autogen": "ArcSin.bloq_doc.py"
   },
   "outputs": [],
   "source": [
    "from qualtran.bloqs.arithmetic.trigonometric import ArcSin"
   ]
  },
  {
   "cell_type": "markdown",
   "id": "2c4377e8",
   "metadata": {
    "cq.autogen": "ArcSin.example_instances.md"
   },
   "source": [
    "### Example Instances"
   ]
  },
  {
   "cell_type": "code",
   "execution_count": 3,
   "id": "5fae7a38",
   "metadata": {
    "cq.autogen": "ArcSin.arcsin"
   },
   "outputs": [],
   "source": [
    "arcsin = ArcSin(bitsize=10, num_frac=7)"
   ]
  },
  {
   "cell_type": "markdown",
   "id": "52dabd98",
   "metadata": {
    "cq.autogen": "ArcSin.graphical_signature.md"
   },
   "source": [
    "#### Graphical Signature"
   ]
  },
  {
   "cell_type": "code",
   "execution_count": 4,
   "id": "aa796d04",
   "metadata": {
    "cq.autogen": "ArcSin.graphical_signature.py"
   },
   "outputs": [
    {
     "data": {
      "application/vnd.jupyter.widget-view+json": {
       "model_id": "2bfd9b58e008491aa3c0a4e2fdfe136f",
       "version_major": 2,
       "version_minor": 0
      },
      "text/plain": [
       "HBox(children=(Output(outputs=({'output_type': 'display_data', 'data': {'text/plain': '<IPython.core.display.M…"
      ]
     },
     "metadata": {},
     "output_type": "display_data"
    }
   ],
   "source": [
    "from qualtran.drawing import show_bloqs\n",
    "show_bloqs([arcsin],\n",
    "           ['`arcsin`'])"
   ]
  },
  {
   "cell_type": "markdown",
   "id": "64371891",
   "metadata": {
    "cq.autogen": "ArcSin.call_graph.md"
   },
   "source": [
    "### Call Graph"
   ]
  },
  {
   "cell_type": "code",
   "execution_count": 5,
   "id": "42268a31",
   "metadata": {
    "cq.autogen": "ArcSin.call_graph.py"
   },
   "outputs": [
    {
     "data": {
      "image/svg+xml": [
       "<svg xmlns=\"http://www.w3.org/2000/svg\" xmlns:xlink=\"http://www.w3.org/1999/xlink\" width=\"71pt\" height=\"131pt\" viewBox=\"0.00 0.00 71.00 131.00\">\n",
       "<g id=\"graph0\" class=\"graph\" transform=\"scale(1 1) rotate(0) translate(4 127)\">\n",
       "<title>counts</title>\n",
       "<polygon fill=\"white\" stroke=\"transparent\" points=\"-4,4 -4,-127 67,-127 67,4 -4,4\"/>\n",
       "<!-- b0 -->\n",
       "<g id=\"node1\" class=\"node\">\n",
       "<title>b0</title>\n",
       "<polygon fill=\"none\" stroke=\"black\" points=\"8,-93 8,-116 50,-116 50,-93 8,-93\"/>\n",
       "<text text-anchor=\"start\" x=\"14.5\" y=\"-102\" font-family=\"Times,serif\" font-size=\"10.00\">ArcSin</text>\n",
       "</g>\n",
       "<!-- b1 -->\n",
       "<g id=\"node2\" class=\"node\">\n",
       "<title>b1</title>\n",
       "<polygon fill=\"none\" stroke=\"black\" points=\"9,-6 9,-29 49,-29 49,-6 9,-6\"/>\n",
       "<text text-anchor=\"start\" x=\"15\" y=\"-15\" font-family=\"Times,serif\" font-size=\"10.00\">Toffoli</text>\n",
       "</g>\n",
       "<!-- b0&#45;&gt;b1 -->\n",
       "<g id=\"edge1\" class=\"edge\">\n",
       "<title>b0-&gt;b1</title>\n",
       "<path fill=\"none\" stroke=\"black\" d=\"M29,-86.8C29,-75.16 29,-59.55 29,-46.24\"/>\n",
       "<polygon fill=\"black\" stroke=\"black\" points=\"32.5,-46.18 29,-36.18 25.5,-46.18 32.5,-46.18\"/>\n",
       "<text text-anchor=\"middle\" x=\"46\" y=\"-57.8\" font-family=\"Times,serif\" font-size=\"14.00\">13425</text>\n",
       "</g>\n",
       "</g>\n",
       "</svg>"
      ],
      "text/plain": [
       "<IPython.core.display.SVG object>"
      ]
     },
     "metadata": {},
     "output_type": "display_data"
    },
    {
     "data": {
      "text/markdown": [
       "#### Counts totals:\n",
       " - `Toffoli`: 13425"
      ],
      "text/plain": [
       "<IPython.core.display.Markdown object>"
      ]
     },
     "metadata": {},
     "output_type": "display_data"
    }
   ],
   "source": [
    "from qualtran.resource_counting.generalizers import ignore_split_join\n",
    "arcsin_g, arcsin_sigma = arcsin.call_graph(max_depth=1, generalizer=ignore_split_join)\n",
    "show_call_graph(arcsin_g)\n",
    "show_counts_sigma(arcsin_sigma)"
   ]
  }
 ],
 "metadata": {
  "kernelspec": {
   "display_name": "Python 3",
   "language": "python",
   "name": "python3"
  },
  "language_info": {
   "codemirror_mode": {
    "name": "ipython",
    "version": 3
   },
   "file_extension": ".py",
   "mimetype": "text/x-python",
   "name": "python",
   "nbconvert_exporter": "python",
   "pygments_lexer": "ipython3",
   "version": "3.11.8"
  },
  "widgets": {
   "application/vnd.jupyter.widget-state+json": {
    "state": {
     "2bfd9b58e008491aa3c0a4e2fdfe136f": {
      "model_module": "@jupyter-widgets/controls",
      "model_module_version": "2.0.0",
      "model_name": "HBoxModel",
      "state": {
       "_dom_classes": [],
       "_model_module": "@jupyter-widgets/controls",
       "_model_module_version": "2.0.0",
       "_model_name": "HBoxModel",
       "_view_count": null,
       "_view_module": "@jupyter-widgets/controls",
       "_view_module_version": "2.0.0",
       "_view_name": "HBoxView",
       "box_style": "",
       "children": [
        "IPY_MODEL_d1759de3bf244b038d94286ef3fdcb4f"
       ],
       "layout": "IPY_MODEL_88faffcd851647af849083bf6e210b35",
       "tabbable": null,
       "tooltip": null
      }
     },
     "88faffcd851647af849083bf6e210b35": {
      "model_module": "@jupyter-widgets/base",
      "model_module_version": "2.0.0",
      "model_name": "LayoutModel",
      "state": {
       "_model_module": "@jupyter-widgets/base",
       "_model_module_version": "2.0.0",
       "_model_name": "LayoutModel",
       "_view_count": null,
       "_view_module": "@jupyter-widgets/base",
       "_view_module_version": "2.0.0",
       "_view_name": "LayoutView",
       "align_content": null,
       "align_items": null,
       "align_self": null,
       "border_bottom": null,
       "border_left": null,
       "border_right": null,
       "border_top": null,
       "bottom": null,
       "display": null,
       "flex": null,
       "flex_flow": null,
       "grid_area": null,
       "grid_auto_columns": null,
       "grid_auto_flow": null,
       "grid_auto_rows": null,
       "grid_column": null,
       "grid_gap": null,
       "grid_row": null,
       "grid_template_areas": null,
       "grid_template_columns": null,
       "grid_template_rows": null,
       "height": null,
       "justify_content": null,
       "justify_items": null,
       "left": null,
       "margin": null,
       "max_height": null,
       "max_width": null,
       "min_height": null,
       "min_width": null,
       "object_fit": null,
       "object_position": null,
       "order": null,
       "overflow": null,
       "padding": null,
       "right": null,
       "top": null,
       "visibility": null,
       "width": null
      }
     },
     "9c362df0877f450a86b900ff142adf18": {
      "model_module": "@jupyter-widgets/base",
      "model_module_version": "2.0.0",
      "model_name": "LayoutModel",
      "state": {
       "_model_module": "@jupyter-widgets/base",
       "_model_module_version": "2.0.0",
       "_model_name": "LayoutModel",
       "_view_count": null,
       "_view_module": "@jupyter-widgets/base",
       "_view_module_version": "2.0.0",
       "_view_name": "LayoutView",
       "align_content": null,
       "align_items": null,
       "align_self": null,
       "border_bottom": null,
       "border_left": null,
       "border_right": null,
       "border_top": null,
       "bottom": null,
       "display": null,
       "flex": null,
       "flex_flow": null,
       "grid_area": null,
       "grid_auto_columns": null,
       "grid_auto_flow": null,
       "grid_auto_rows": null,
       "grid_column": null,
       "grid_gap": null,
       "grid_row": null,
       "grid_template_areas": null,
       "grid_template_columns": null,
       "grid_template_rows": null,
       "height": null,
       "justify_content": null,
       "justify_items": null,
       "left": null,
       "margin": null,
       "max_height": null,
       "max_width": null,
       "min_height": null,
       "min_width": null,
       "object_fit": null,
       "object_position": null,
       "order": null,
       "overflow": null,
       "padding": null,
       "right": null,
       "top": null,
       "visibility": null,
       "width": null
      }
     },
     "d1759de3bf244b038d94286ef3fdcb4f": {
      "model_module": "@jupyter-widgets/output",
      "model_module_version": "1.0.0",
      "model_name": "OutputModel",
      "state": {
       "_dom_classes": [],
       "_model_module": "@jupyter-widgets/output",
       "_model_module_version": "1.0.0",
       "_model_name": "OutputModel",
       "_view_count": null,
       "_view_module": "@jupyter-widgets/output",
       "_view_module_version": "1.0.0",
       "_view_name": "OutputView",
       "layout": "IPY_MODEL_9c362df0877f450a86b900ff142adf18",
       "msg_id": "",
       "outputs": [
        {
         "data": {
          "text/markdown": "`arcsin`",
          "text/plain": "<IPython.core.display.Markdown object>"
         },
         "metadata": {},
         "output_type": "display_data"
        },
        {
         "data": {
          "image/svg+xml": "<svg xmlns=\"http://www.w3.org/2000/svg\" xmlns:xlink=\"http://www.w3.org/1999/xlink\" width=\"227pt\" height=\"98pt\" viewBox=\"0.00 0.00 227.00 98.00\">\n<g id=\"graph0\" class=\"graph\" transform=\"scale(1 1) rotate(0) translate(4 94)\">\n<title>my_graph</title>\n<polygon fill=\"white\" stroke=\"transparent\" points=\"-4,4 -4,-94 223,-94 223,4 -4,4\"/>\n<!-- x_G1 -->\n<g id=\"node1\" class=\"node\">\n<title>x_G1</title>\n<text text-anchor=\"middle\" x=\"27\" y=\"-68.3\" font-family=\"Times,serif\" font-size=\"14.00\">x</text>\n</g>\n<!-- ArcSin -->\n<g id=\"node3\" class=\"node\">\n<title>ArcSin</title>\n<polygon fill=\"none\" stroke=\"black\" points=\"91.5,-66 91.5,-83 128.5,-83 128.5,-66 91.5,-66\"/>\n<text text-anchor=\"start\" x=\"95.5\" y=\"-72\" font-family=\"Times,serif\" font-size=\"10.00\">ArcSin</text>\n<polygon fill=\"none\" stroke=\"black\" points=\"91.5,-45 91.5,-66 128.5,-66 128.5,-45 91.5,-45\"/>\n<text text-anchor=\"start\" x=\"106.5\" y=\"-51.8\" font-family=\"Times,serif\" font-size=\"14.00\">x</text>\n<polygon fill=\"none\" stroke=\"black\" points=\"91.5,-24 91.5,-45 128.5,-45 128.5,-24 91.5,-24\"/>\n<text text-anchor=\"start\" x=\"94.5\" y=\"-30.8\" font-family=\"Times,serif\" font-size=\"14.00\">result</text>\n</g>\n<!-- x_G1&#45;&gt;ArcSin -->\n<g id=\"edge1\" class=\"edge\">\n<title>x_G1:e-&gt;ArcSin:w</title>\n<path fill=\"none\" stroke=\"black\" d=\"M54,-72C71.22,-72 72.97,-57.23 88.98,-56.07\"/>\n<ellipse fill=\"black\" stroke=\"black\" cx=\"90\" cy=\"-56.04\" rx=\"1\" ry=\"1\"/>\n<text text-anchor=\"middle\" x=\"72.5\" y=\"-67\" font-family=\"Times,serif\" font-size=\"10.00\">10</text>\n</g>\n<!-- result_G3 -->\n<g id=\"node2\" class=\"node\">\n<title>result_G3</title>\n<text text-anchor=\"middle\" x=\"27\" y=\"-14.3\" font-family=\"Times,serif\" font-size=\"14.00\">result</text>\n</g>\n<!-- result_G3&#45;&gt;ArcSin -->\n<g id=\"edge2\" class=\"edge\">\n<title>result_G3:e-&gt;ArcSin:w</title>\n<path fill=\"none\" stroke=\"black\" d=\"M54,-18C71.22,-18 72.97,-32.77 88.98,-33.93\"/>\n<ellipse fill=\"black\" stroke=\"black\" cx=\"90\" cy=\"-33.96\" rx=\"1\" ry=\"1\"/>\n<text text-anchor=\"middle\" x=\"72.5\" y=\"-29\" font-family=\"Times,serif\" font-size=\"10.00\">10</text>\n</g>\n<!-- x_G0 -->\n<g id=\"node4\" class=\"node\">\n<title>x_G0</title>\n<text text-anchor=\"middle\" x=\"192\" y=\"-68.3\" font-family=\"Times,serif\" font-size=\"14.00\">x</text>\n</g>\n<!-- ArcSin&#45;&gt;x_G0 -->\n<g id=\"edge3\" class=\"edge\">\n<title>ArcSin:e-&gt;x_G0:w</title>\n<path fill=\"none\" stroke=\"black\" d=\"M128,-56C145.22,-56 146.97,-70.77 162.98,-71.93\"/>\n<ellipse fill=\"black\" stroke=\"black\" cx=\"164\" cy=\"-71.96\" rx=\"1\" ry=\"1\"/>\n<text text-anchor=\"middle\" x=\"146.5\" y=\"-67\" font-family=\"Times,serif\" font-size=\"10.00\">10</text>\n</g>\n<!-- result_G4 -->\n<g id=\"node5\" class=\"node\">\n<title>result_G4</title>\n<text text-anchor=\"middle\" x=\"192\" y=\"-14.3\" font-family=\"Times,serif\" font-size=\"14.00\">result</text>\n</g>\n<!-- ArcSin&#45;&gt;result_G4 -->\n<g id=\"edge4\" class=\"edge\">\n<title>ArcSin:e-&gt;result_G4:w</title>\n<path fill=\"none\" stroke=\"black\" d=\"M128,-34C145.22,-34 146.97,-19.23 162.98,-18.07\"/>\n<ellipse fill=\"black\" stroke=\"black\" cx=\"164\" cy=\"-18.04\" rx=\"1\" ry=\"1\"/>\n<text text-anchor=\"middle\" x=\"146.5\" y=\"-29\" font-family=\"Times,serif\" font-size=\"10.00\">10</text>\n</g>\n</g>\n</svg>",
          "text/plain": "<IPython.core.display.SVG object>"
         },
         "metadata": {},
         "output_type": "display_data"
        }
       ],
       "tabbable": null,
       "tooltip": null
      }
     }
    },
    "version_major": 2,
    "version_minor": 0
   }
  }
 },
 "nbformat": 4,
 "nbformat_minor": 5
}
