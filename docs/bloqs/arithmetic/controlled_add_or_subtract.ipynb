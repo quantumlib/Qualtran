{
 "cells": [
  {
   "cell_type": "markdown",
   "id": "3f5866ad",
   "metadata": {
    "cq.autogen": "title_cell"
   },
   "source": [
    "# Controlled Add-or-Subtract"
   ]
  },
  {
   "cell_type": "code",
   "execution_count": 1,
   "id": "2cd93efb",
   "metadata": {
    "cq.autogen": "top_imports"
   },
   "outputs": [],
   "source": [
    "from qualtran import Bloq, CompositeBloq, BloqBuilder, Signature, Register\n",
    "from qualtran import QBit, QInt, QUInt, QAny\n",
    "from qualtran.drawing import show_bloq, show_call_graph, show_counts_sigma\n",
    "from typing import *\n",
    "import numpy as np\n",
    "import sympy\n",
    "import cirq"
   ]
  },
  {
   "cell_type": "markdown",
   "id": "bab535ef",
   "metadata": {
    "cq.autogen": "ControlledAddOrSubtract.bloq_doc.md"
   },
   "source": [
    "## `ControlledAddOrSubtract`\n",
    "Adds or subtracts in-place into the target, based on a control bit.\n",
    "\n",
    "Applies the transformation\n",
    "\n",
    "$$\n",
    "    |1\\rangle |a\\rangle |b\\rangle \\mapsto |1\\rangle |a\\rangle |b + a\\rangle \\\\\n",
    "    |0\\rangle |a\\rangle |b\\rangle \\mapsto |0\\rangle |a\\rangle |b - a\\rangle\n",
    "$$\n",
    "\n",
    "Given two numbers `a`, `b` and a control bit `ctrl`, this bloq computes:\n",
    "\n",
    "- the sum `b + a` when `ctrl=1`,\n",
    "- the difference `b - a` when `ctrl=0`,\n",
    "\n",
    "and stores the result in the second register (`b`).\n",
    "\n",
    "This uses an uncontrolled `Add` surrounded by controlled `BitwiseNot`s, and only\n",
    "the `Add` requires T gates, which has half the T-cost of a controlled `Add`.\n",
    "\n",
    "\n",
    "#### Parameters\n",
    " - `a_dtype`: dtype of the lhs `a`\n",
    " - `b_dtype`: dtype of the rhs `b`. If it is not big enough to store the result, the most significant bits are dropped on overflow.\n",
    " - `add_when_ctrl_is_on`: If True (default), add when `ctrl=1` and subtract when `ctrl=0`. If False, do the opposite: subtract when `ctrl=0` and add when `ctrl=1`. \n",
    "\n",
    "#### Registers\n",
    " - `ctrl`: a single control bit\n",
    " - `a`: an integer value.\n",
    " - `b`: an integer value. \n",
    "\n",
    "#### References\n",
    " - [Compilation of Fault-Tolerant Quantum Heuristics for Combinatorial Optimization](https://arxiv.org/abs/2007.07391). Sanders et al. Section II-A-1, Algorithm 1.\n"
   ]
  },
  {
   "cell_type": "code",
   "execution_count": 2,
   "id": "759a4cb5",
   "metadata": {
    "cq.autogen": "ControlledAddOrSubtract.bloq_doc.py"
   },
   "outputs": [],
   "source": [
    "from qualtran.bloqs.arithmetic.controlled_add_or_subtract import ControlledAddOrSubtract"
   ]
  },
  {
   "cell_type": "markdown",
   "id": "e2e9a2be",
   "metadata": {
    "cq.autogen": "ControlledAddOrSubtract.example_instances.md"
   },
   "source": [
    "### Example Instances"
   ]
  },
  {
   "cell_type": "code",
   "execution_count": 3,
   "id": "77844520",
   "metadata": {
    "cq.autogen": "ControlledAddOrSubtract.ctrl_add_or_sub_unsigned"
   },
   "outputs": [],
   "source": [
    "ctrl_add_or_sub_unsigned = ControlledAddOrSubtract(QUInt(8), QUInt(8))"
   ]
  },
  {
   "cell_type": "code",
   "execution_count": 4,
   "id": "871ae83f",
   "metadata": {
    "cq.autogen": "ControlledAddOrSubtract.ctrl_add_or_sub_signed"
   },
   "outputs": [],
   "source": [
    "ctrl_add_or_sub_signed = ControlledAddOrSubtract(QInt(8), QInt(8))"
   ]
  },
  {
   "cell_type": "code",
   "execution_count": 5,
   "id": "0df1d5cb",
   "metadata": {
    "cq.autogen": "ControlledAddOrSubtract.ctrl_add_or_sub_signed_symb"
   },
   "outputs": [],
   "source": [
    "import sympy\n",
    "\n",
    "n = sympy.Symbol(\"n\")\n",
    "ctrl_add_or_sub_signed_symb = ControlledAddOrSubtract(QInt(n), QInt(n))"
   ]
  },
  {
   "cell_type": "markdown",
   "id": "a4f0e47e",
   "metadata": {
    "cq.autogen": "ControlledAddOrSubtract.graphical_signature.md"
   },
   "source": [
    "#### Graphical Signature"
   ]
  },
  {
   "cell_type": "code",
   "execution_count": 6,
   "id": "76c8da21",
   "metadata": {
    "cq.autogen": "ControlledAddOrSubtract.graphical_signature.py"
   },
   "outputs": [
    {
     "data": {
      "application/vnd.jupyter.widget-view+json": {
       "model_id": "cf8e8a53849446a9a9f5ff32f67ef612",
       "version_major": 2,
       "version_minor": 0
      },
      "text/plain": [
       "HBox(children=(Output(outputs=({'output_type': 'display_data', 'data': {'text/plain': '<IPython.core.display.M…"
      ]
     },
     "metadata": {},
     "output_type": "display_data"
    }
   ],
   "source": [
    "from qualtran.drawing import show_bloqs\n",
    "show_bloqs([ctrl_add_or_sub_signed_symb, ctrl_add_or_sub_unsigned, ctrl_add_or_sub_signed],\n",
    "           ['`ctrl_add_or_sub_signed_symb`', '`ctrl_add_or_sub_unsigned`', '`ctrl_add_or_sub_signed`'])"
   ]
  },
  {
   "cell_type": "markdown",
   "id": "a0d571ad",
   "metadata": {
    "cq.autogen": "ControlledAddOrSubtract.call_graph.md"
   },
   "source": [
    "### Call Graph"
   ]
  },
  {
   "cell_type": "code",
   "execution_count": 7,
   "id": "eb6944d0",
   "metadata": {
    "cq.autogen": "ControlledAddOrSubtract.call_graph.py"
   },
   "outputs": [
    {
     "data": {
      "image/svg+xml": [
       "<svg xmlns=\"http://www.w3.org/2000/svg\" xmlns:xlink=\"http://www.w3.org/1999/xlink\" width=\"242pt\" height=\"131pt\" viewBox=\"0.00 0.00 242.00 131.00\">\n",
       "<g id=\"graph0\" class=\"graph\" transform=\"scale(1 1) rotate(0) translate(4 127)\">\n",
       "<title>counts</title>\n",
       "<polygon fill=\"white\" stroke=\"transparent\" points=\"-4,4 -4,-127 238,-127 238,4 -4,4\"/>\n",
       "<!-- b0 -->\n",
       "<g id=\"node1\" class=\"node\">\n",
       "<title>b0</title>\n",
       "<polygon fill=\"none\" stroke=\"black\" points=\"57,-93 57,-116 177,-116 177,-93 57,-93\"/>\n",
       "<text text-anchor=\"start\" x=\"63.5\" y=\"-102\" font-family=\"Times,serif\" font-size=\"10.00\">ControlledAddOrSubtract</text>\n",
       "</g>\n",
       "<!-- b1 -->\n",
       "<g id=\"node2\" class=\"node\">\n",
       "<title>b1</title>\n",
       "<polygon fill=\"none\" stroke=\"black\" points=\"17,-6 17,-29 37,-29 37,-6 17,-6\"/>\n",
       "<text text-anchor=\"start\" x=\"23\" y=\"-15\" font-family=\"Times,serif\" font-size=\"10.00\">X</text>\n",
       "</g>\n",
       "<!-- b0&#45;&gt;b1 -->\n",
       "<g id=\"edge1\" class=\"edge\">\n",
       "<title>b0-&gt;b1</title>\n",
       "<path fill=\"none\" stroke=\"black\" d=\"M98.79,-86.8C85.49,-74.24 67.29,-57.05 52.54,-43.12\"/>\n",
       "<polygon fill=\"black\" stroke=\"black\" points=\"54.86,-40.5 45.19,-36.18 50.05,-45.59 54.86,-40.5\"/>\n",
       "<text text-anchor=\"middle\" x=\"81.5\" y=\"-57.8\" font-family=\"Times,serif\" font-size=\"14.00\">2</text>\n",
       "</g>\n",
       "<!-- b2 -->\n",
       "<g id=\"node3\" class=\"node\">\n",
       "<title>b2</title>\n",
       "<polygon fill=\"none\" stroke=\"black\" points=\"80,-6 80,-29 154,-29 154,-6 80,-6\"/>\n",
       "<text text-anchor=\"start\" x=\"86.5\" y=\"-15\" font-family=\"Times,serif\" font-size=\"10.00\">C[BitwiseNot]</text>\n",
       "</g>\n",
       "<!-- b0&#45;&gt;b2 -->\n",
       "<g id=\"edge2\" class=\"edge\">\n",
       "<title>b0-&gt;b2</title>\n",
       "<path fill=\"none\" stroke=\"black\" d=\"M117,-86.8C117,-75.16 117,-59.55 117,-46.24\"/>\n",
       "<polygon fill=\"black\" stroke=\"black\" points=\"120.5,-46.18 117,-36.18 113.5,-46.18 120.5,-46.18\"/>\n",
       "<text text-anchor=\"middle\" x=\"120.5\" y=\"-57.8\" font-family=\"Times,serif\" font-size=\"14.00\">2</text>\n",
       "</g>\n",
       "<!-- b3 -->\n",
       "<g id=\"node4\" class=\"node\">\n",
       "<title>b3</title>\n",
       "<polygon fill=\"none\" stroke=\"black\" points=\"191,-6 191,-29 223,-29 223,-6 191,-6\"/>\n",
       "<text text-anchor=\"start\" x=\"197.5\" y=\"-15\" font-family=\"Times,serif\" font-size=\"10.00\">Add</text>\n",
       "</g>\n",
       "<!-- b0&#45;&gt;b3 -->\n",
       "<g id=\"edge3\" class=\"edge\">\n",
       "<title>b0-&gt;b3</title>\n",
       "<path fill=\"none\" stroke=\"black\" d=\"M135.21,-86.8C148.51,-74.24 166.71,-57.05 181.46,-43.12\"/>\n",
       "<polygon fill=\"black\" stroke=\"black\" points=\"183.95,-45.59 188.81,-36.18 179.14,-40.5 183.95,-45.59\"/>\n",
       "<text text-anchor=\"middle\" x=\"170.5\" y=\"-57.8\" font-family=\"Times,serif\" font-size=\"14.00\">1</text>\n",
       "</g>\n",
       "</g>\n",
       "</svg>"
      ],
      "text/plain": [
       "<IPython.core.display.SVG object>"
      ]
     },
     "metadata": {},
     "output_type": "display_data"
    },
    {
     "data": {
      "text/markdown": [
       "#### Counts totals:\n",
       " - `Add`: 1\n",
       " - `C[BitwiseNot]`: 2\n",
       " - `X`: 2"
      ],
      "text/plain": [
       "<IPython.core.display.Markdown object>"
      ]
     },
     "metadata": {},
     "output_type": "display_data"
    }
   ],
   "source": [
    "from qualtran.resource_counting.generalizers import ignore_split_join\n",
    "ctrl_add_or_sub_signed_symb_g, ctrl_add_or_sub_signed_symb_sigma = ctrl_add_or_sub_signed_symb.call_graph(max_depth=1, generalizer=ignore_split_join)\n",
    "show_call_graph(ctrl_add_or_sub_signed_symb_g)\n",
    "show_counts_sigma(ctrl_add_or_sub_signed_symb_sigma)"
   ]
  }
 ],
 "metadata": {
  "kernelspec": {
   "display_name": "Python 3",
   "language": "python",
   "name": "python3"
  },
  "language_info": {
   "codemirror_mode": {
    "name": "ipython",
    "version": 3
   },
   "file_extension": ".py",
   "mimetype": "text/x-python",
   "name": "python",
   "nbconvert_exporter": "python",
   "pygments_lexer": "ipython3",
   "version": "3.11.8"
  },
  "widgets": {
   "application/vnd.jupyter.widget-state+json": {
    "state": {
     "2470124494614de0abd4fb09e89af18f": {
      "model_module": "@jupyter-widgets/base",
      "model_module_version": "2.0.0",
      "model_name": "LayoutModel",
      "state": {
       "_model_module": "@jupyter-widgets/base",
       "_model_module_version": "2.0.0",
       "_model_name": "LayoutModel",
       "_view_count": null,
       "_view_module": "@jupyter-widgets/base",
       "_view_module_version": "2.0.0",
       "_view_name": "LayoutView",
       "align_content": null,
       "align_items": null,
       "align_self": null,
       "border_bottom": null,
       "border_left": null,
       "border_right": null,
       "border_top": null,
       "bottom": null,
       "display": null,
       "flex": null,
       "flex_flow": null,
       "grid_area": null,
       "grid_auto_columns": null,
       "grid_auto_flow": null,
       "grid_auto_rows": null,
       "grid_column": null,
       "grid_gap": null,
       "grid_row": null,
       "grid_template_areas": null,
       "grid_template_columns": null,
       "grid_template_rows": null,
       "height": null,
       "justify_content": null,
       "justify_items": null,
       "left": null,
       "margin": null,
       "max_height": null,
       "max_width": null,
       "min_height": null,
       "min_width": null,
       "object_fit": null,
       "object_position": null,
       "order": null,
       "overflow": null,
       "padding": null,
       "right": null,
       "top": null,
       "visibility": null,
       "width": null
      }
     },
     "262060cc17d74b96aa004fed5eae0fd8": {
      "model_module": "@jupyter-widgets/base",
      "model_module_version": "2.0.0",
      "model_name": "LayoutModel",
      "state": {
       "_model_module": "@jupyter-widgets/base",
       "_model_module_version": "2.0.0",
       "_model_name": "LayoutModel",
       "_view_count": null,
       "_view_module": "@jupyter-widgets/base",
       "_view_module_version": "2.0.0",
       "_view_name": "LayoutView",
       "align_content": null,
       "align_items": null,
       "align_self": null,
       "border_bottom": null,
       "border_left": null,
       "border_right": null,
       "border_top": null,
       "bottom": null,
       "display": null,
       "flex": null,
       "flex_flow": null,
       "grid_area": null,
       "grid_auto_columns": null,
       "grid_auto_flow": null,
       "grid_auto_rows": null,
       "grid_column": null,
       "grid_gap": null,
       "grid_row": null,
       "grid_template_areas": null,
       "grid_template_columns": null,
       "grid_template_rows": null,
       "height": null,
       "justify_content": null,
       "justify_items": null,
       "left": null,
       "margin": null,
       "max_height": null,
       "max_width": null,
       "min_height": null,
       "min_width": null,
       "object_fit": null,
       "object_position": null,
       "order": null,
       "overflow": null,
       "padding": null,
       "right": null,
       "top": null,
       "visibility": null,
       "width": null
      }
     },
     "37d6bfaec7404760b4dce3d231bb4ca7": {
      "model_module": "@jupyter-widgets/base",
      "model_module_version": "2.0.0",
      "model_name": "LayoutModel",
      "state": {
       "_model_module": "@jupyter-widgets/base",
       "_model_module_version": "2.0.0",
       "_model_name": "LayoutModel",
       "_view_count": null,
       "_view_module": "@jupyter-widgets/base",
       "_view_module_version": "2.0.0",
       "_view_name": "LayoutView",
       "align_content": null,
       "align_items": null,
       "align_self": null,
       "border_bottom": null,
       "border_left": null,
       "border_right": null,
       "border_top": null,
       "bottom": null,
       "display": null,
       "flex": null,
       "flex_flow": null,
       "grid_area": null,
       "grid_auto_columns": null,
       "grid_auto_flow": null,
       "grid_auto_rows": null,
       "grid_column": null,
       "grid_gap": null,
       "grid_row": null,
       "grid_template_areas": null,
       "grid_template_columns": null,
       "grid_template_rows": null,
       "height": null,
       "justify_content": null,
       "justify_items": null,
       "left": null,
       "margin": null,
       "max_height": null,
       "max_width": null,
       "min_height": null,
       "min_width": null,
       "object_fit": null,
       "object_position": null,
       "order": null,
       "overflow": null,
       "padding": null,
       "right": null,
       "top": null,
       "visibility": null,
       "width": null
      }
     },
     "64caf2f02f2749c1a00e25477669913c": {
      "model_module": "@jupyter-widgets/output",
      "model_module_version": "1.0.0",
      "model_name": "OutputModel",
      "state": {
       "_dom_classes": [],
       "_model_module": "@jupyter-widgets/output",
       "_model_module_version": "1.0.0",
       "_model_name": "OutputModel",
       "_view_count": null,
       "_view_module": "@jupyter-widgets/output",
       "_view_module_version": "1.0.0",
       "_view_name": "OutputView",
       "layout": "IPY_MODEL_37d6bfaec7404760b4dce3d231bb4ca7",
       "msg_id": "",
       "outputs": [
        {
         "data": {
          "text/markdown": "`ctrl_add_or_sub_signed`",
          "text/plain": "<IPython.core.display.Markdown object>"
         },
         "metadata": {},
         "output_type": "display_data"
        },
        {
         "data": {
          "image/svg+xml": "<svg xmlns=\"http://www.w3.org/2000/svg\" xmlns:xlink=\"http://www.w3.org/1999/xlink\" width=\"303pt\" height=\"152pt\" viewBox=\"0.00 0.00 303.00 152.00\">\n<g id=\"graph0\" class=\"graph\" transform=\"scale(1 1) rotate(0) translate(4 148)\">\n<title>my_graph</title>\n<polygon fill=\"white\" stroke=\"transparent\" points=\"-4,4 -4,-148 299,-148 299,4 -4,4\"/>\n<!-- ctrl_G8 -->\n<g id=\"node1\" class=\"node\">\n<title>ctrl_G8</title>\n<text text-anchor=\"middle\" x=\"27\" y=\"-122.3\" font-family=\"Times,serif\" font-size=\"14.00\">ctrl</text>\n</g>\n<!-- ControlledAddOrSubtract -->\n<g id=\"node4\" class=\"node\">\n<title>ControlledAddOrSubtract</title>\n<polygon fill=\"none\" stroke=\"black\" points=\"91.5,-104 91.5,-121 204.5,-121 204.5,-104 91.5,-104\"/>\n<text text-anchor=\"start\" x=\"94.5\" y=\"-110\" font-family=\"Times,serif\" font-size=\"10.00\">ControlledAddOrSubtract</text>\n<polygon fill=\"none\" stroke=\"black\" points=\"91.5,-83 91.5,-104 204.5,-104 204.5,-83 91.5,-83\"/>\n<text text-anchor=\"start\" x=\"138.5\" y=\"-89.8\" font-family=\"Times,serif\" font-size=\"14.00\">ctrl</text>\n<polygon fill=\"none\" stroke=\"black\" points=\"91.5,-62 91.5,-83 204.5,-83 204.5,-62 91.5,-62\"/>\n<text text-anchor=\"start\" x=\"144.5\" y=\"-68.8\" font-family=\"Times,serif\" font-size=\"14.00\">a</text>\n<polygon fill=\"none\" stroke=\"black\" points=\"91.5,-41 91.5,-62 204.5,-62 204.5,-41 91.5,-41\"/>\n<text text-anchor=\"start\" x=\"144.5\" y=\"-47.8\" font-family=\"Times,serif\" font-size=\"14.00\">b</text>\n</g>\n<!-- ctrl_G8&#45;&gt;ControlledAddOrSubtract -->\n<g id=\"edge1\" class=\"edge\">\n<title>ctrl_G8:e-&gt;ControlledAddOrSubtract:w</title>\n<path fill=\"none\" stroke=\"black\" d=\"M54,-126C74.89,-126 69.72,-96.45 88.58,-94.14\"/>\n<ellipse fill=\"black\" stroke=\"black\" cx=\"90\" cy=\"-94.06\" rx=\"1\" ry=\"1\"/>\n<text text-anchor=\"middle\" x=\"72.5\" y=\"-113\" font-family=\"Times,serif\" font-size=\"10.00\">1</text>\n</g>\n<!-- a_G7 -->\n<g id=\"node2\" class=\"node\">\n<title>a_G7</title>\n<text text-anchor=\"middle\" x=\"27\" y=\"-68.3\" font-family=\"Times,serif\" font-size=\"14.00\">a</text>\n</g>\n<!-- a_G7&#45;&gt;ControlledAddOrSubtract -->\n<g id=\"edge2\" class=\"edge\">\n<title>a_G7:e-&gt;ControlledAddOrSubtract:w</title>\n<path fill=\"none\" stroke=\"black\" d=\"M54,-72C69.67,-72 74.14,-72 88.77,-72\"/>\n<ellipse fill=\"black\" stroke=\"black\" cx=\"90\" cy=\"-72\" rx=\"1\" ry=\"1\"/>\n<text text-anchor=\"middle\" x=\"72.5\" y=\"-75\" font-family=\"Times,serif\" font-size=\"10.00\">8</text>\n</g>\n<!-- b_G1 -->\n<g id=\"node3\" class=\"node\">\n<title>b_G1</title>\n<text text-anchor=\"middle\" x=\"27\" y=\"-14.3\" font-family=\"Times,serif\" font-size=\"14.00\">b</text>\n</g>\n<!-- b_G1&#45;&gt;ControlledAddOrSubtract -->\n<g id=\"edge3\" class=\"edge\">\n<title>b_G1:e-&gt;ControlledAddOrSubtract:w</title>\n<path fill=\"none\" stroke=\"black\" d=\"M54,-18C75.17,-18 69.47,-48.47 88.55,-50.85\"/>\n<ellipse fill=\"black\" stroke=\"black\" cx=\"90\" cy=\"-50.94\" rx=\"1\" ry=\"1\"/>\n<text text-anchor=\"middle\" x=\"72.5\" y=\"-39\" font-family=\"Times,serif\" font-size=\"10.00\">8</text>\n</g>\n<!-- ctrl_G3 -->\n<g id=\"node5\" class=\"node\">\n<title>ctrl_G3</title>\n<text text-anchor=\"middle\" x=\"268\" y=\"-122.3\" font-family=\"Times,serif\" font-size=\"14.00\">ctrl</text>\n</g>\n<!-- ControlledAddOrSubtract&#45;&gt;ctrl_G3 -->\n<g id=\"edge4\" class=\"edge\">\n<title>ControlledAddOrSubtract:e-&gt;ctrl_G3:w</title>\n<path fill=\"none\" stroke=\"black\" d=\"M204,-94C224.89,-94 219.72,-123.55 238.58,-125.86\"/>\n<ellipse fill=\"black\" stroke=\"black\" cx=\"240\" cy=\"-125.94\" rx=\"1\" ry=\"1\"/>\n<text text-anchor=\"middle\" x=\"222.5\" y=\"-113\" font-family=\"Times,serif\" font-size=\"10.00\">1</text>\n</g>\n<!-- a_G0 -->\n<g id=\"node6\" class=\"node\">\n<title>a_G0</title>\n<text text-anchor=\"middle\" x=\"268\" y=\"-68.3\" font-family=\"Times,serif\" font-size=\"14.00\">a</text>\n</g>\n<!-- ControlledAddOrSubtract&#45;&gt;a_G0 -->\n<g id=\"edge5\" class=\"edge\">\n<title>ControlledAddOrSubtract:e-&gt;a_G0:w</title>\n<path fill=\"none\" stroke=\"black\" d=\"M204,-72C219.67,-72 224.14,-72 238.77,-72\"/>\n<ellipse fill=\"black\" stroke=\"black\" cx=\"240\" cy=\"-72\" rx=\"1\" ry=\"1\"/>\n<text text-anchor=\"middle\" x=\"222.5\" y=\"-75\" font-family=\"Times,serif\" font-size=\"10.00\">8</text>\n</g>\n<!-- b_G4 -->\n<g id=\"node7\" class=\"node\">\n<title>b_G4</title>\n<text text-anchor=\"middle\" x=\"268\" y=\"-14.3\" font-family=\"Times,serif\" font-size=\"14.00\">b</text>\n</g>\n<!-- ControlledAddOrSubtract&#45;&gt;b_G4 -->\n<g id=\"edge6\" class=\"edge\">\n<title>ControlledAddOrSubtract:e-&gt;b_G4:w</title>\n<path fill=\"none\" stroke=\"black\" d=\"M204,-51C225.17,-51 219.47,-20.53 238.55,-18.15\"/>\n<ellipse fill=\"black\" stroke=\"black\" cx=\"240\" cy=\"-18.06\" rx=\"1\" ry=\"1\"/>\n<text text-anchor=\"middle\" x=\"222.5\" y=\"-39\" font-family=\"Times,serif\" font-size=\"10.00\">8</text>\n</g>\n</g>\n</svg>",
          "text/plain": "<IPython.core.display.SVG object>"
         },
         "metadata": {},
         "output_type": "display_data"
        }
       ],
       "tabbable": null,
       "tooltip": null
      }
     },
     "957597e1eb59447dbc30cd7704a10f2e": {
      "model_module": "@jupyter-widgets/output",
      "model_module_version": "1.0.0",
      "model_name": "OutputModel",
      "state": {
       "_dom_classes": [],
       "_model_module": "@jupyter-widgets/output",
       "_model_module_version": "1.0.0",
       "_model_name": "OutputModel",
       "_view_count": null,
       "_view_module": "@jupyter-widgets/output",
       "_view_module_version": "1.0.0",
       "_view_name": "OutputView",
       "layout": "IPY_MODEL_2470124494614de0abd4fb09e89af18f",
       "msg_id": "",
       "outputs": [
        {
         "data": {
          "text/markdown": "`ctrl_add_or_sub_unsigned`",
          "text/plain": "<IPython.core.display.Markdown object>"
         },
         "metadata": {},
         "output_type": "display_data"
        },
        {
         "data": {
          "image/svg+xml": "<svg xmlns=\"http://www.w3.org/2000/svg\" xmlns:xlink=\"http://www.w3.org/1999/xlink\" width=\"303pt\" height=\"152pt\" viewBox=\"0.00 0.00 303.00 152.00\">\n<g id=\"graph0\" class=\"graph\" transform=\"scale(1 1) rotate(0) translate(4 148)\">\n<title>my_graph</title>\n<polygon fill=\"white\" stroke=\"transparent\" points=\"-4,4 -4,-148 299,-148 299,4 -4,4\"/>\n<!-- ctrl_G8 -->\n<g id=\"node1\" class=\"node\">\n<title>ctrl_G8</title>\n<text text-anchor=\"middle\" x=\"27\" y=\"-122.3\" font-family=\"Times,serif\" font-size=\"14.00\">ctrl</text>\n</g>\n<!-- ControlledAddOrSubtract -->\n<g id=\"node4\" class=\"node\">\n<title>ControlledAddOrSubtract</title>\n<polygon fill=\"none\" stroke=\"black\" points=\"91.5,-104 91.5,-121 204.5,-121 204.5,-104 91.5,-104\"/>\n<text text-anchor=\"start\" x=\"94.5\" y=\"-110\" font-family=\"Times,serif\" font-size=\"10.00\">ControlledAddOrSubtract</text>\n<polygon fill=\"none\" stroke=\"black\" points=\"91.5,-83 91.5,-104 204.5,-104 204.5,-83 91.5,-83\"/>\n<text text-anchor=\"start\" x=\"138.5\" y=\"-89.8\" font-family=\"Times,serif\" font-size=\"14.00\">ctrl</text>\n<polygon fill=\"none\" stroke=\"black\" points=\"91.5,-62 91.5,-83 204.5,-83 204.5,-62 91.5,-62\"/>\n<text text-anchor=\"start\" x=\"144.5\" y=\"-68.8\" font-family=\"Times,serif\" font-size=\"14.00\">a</text>\n<polygon fill=\"none\" stroke=\"black\" points=\"91.5,-41 91.5,-62 204.5,-62 204.5,-41 91.5,-41\"/>\n<text text-anchor=\"start\" x=\"144.5\" y=\"-47.8\" font-family=\"Times,serif\" font-size=\"14.00\">b</text>\n</g>\n<!-- ctrl_G8&#45;&gt;ControlledAddOrSubtract -->\n<g id=\"edge1\" class=\"edge\">\n<title>ctrl_G8:e-&gt;ControlledAddOrSubtract:w</title>\n<path fill=\"none\" stroke=\"black\" d=\"M54,-126C74.89,-126 69.72,-96.45 88.58,-94.14\"/>\n<ellipse fill=\"black\" stroke=\"black\" cx=\"90\" cy=\"-94.06\" rx=\"1\" ry=\"1\"/>\n<text text-anchor=\"middle\" x=\"72.5\" y=\"-113\" font-family=\"Times,serif\" font-size=\"10.00\">1</text>\n</g>\n<!-- a_G2 -->\n<g id=\"node2\" class=\"node\">\n<title>a_G2</title>\n<text text-anchor=\"middle\" x=\"27\" y=\"-68.3\" font-family=\"Times,serif\" font-size=\"14.00\">a</text>\n</g>\n<!-- a_G2&#45;&gt;ControlledAddOrSubtract -->\n<g id=\"edge2\" class=\"edge\">\n<title>a_G2:e-&gt;ControlledAddOrSubtract:w</title>\n<path fill=\"none\" stroke=\"black\" d=\"M54,-72C69.67,-72 74.14,-72 88.77,-72\"/>\n<ellipse fill=\"black\" stroke=\"black\" cx=\"90\" cy=\"-72\" rx=\"1\" ry=\"1\"/>\n<text text-anchor=\"middle\" x=\"72.5\" y=\"-75\" font-family=\"Times,serif\" font-size=\"10.00\">8</text>\n</g>\n<!-- b_G3 -->\n<g id=\"node3\" class=\"node\">\n<title>b_G3</title>\n<text text-anchor=\"middle\" x=\"27\" y=\"-14.3\" font-family=\"Times,serif\" font-size=\"14.00\">b</text>\n</g>\n<!-- b_G3&#45;&gt;ControlledAddOrSubtract -->\n<g id=\"edge3\" class=\"edge\">\n<title>b_G3:e-&gt;ControlledAddOrSubtract:w</title>\n<path fill=\"none\" stroke=\"black\" d=\"M54,-18C75.17,-18 69.47,-48.47 88.55,-50.85\"/>\n<ellipse fill=\"black\" stroke=\"black\" cx=\"90\" cy=\"-50.94\" rx=\"1\" ry=\"1\"/>\n<text text-anchor=\"middle\" x=\"72.5\" y=\"-39\" font-family=\"Times,serif\" font-size=\"10.00\">8</text>\n</g>\n<!-- ctrl_G5 -->\n<g id=\"node5\" class=\"node\">\n<title>ctrl_G5</title>\n<text text-anchor=\"middle\" x=\"268\" y=\"-122.3\" font-family=\"Times,serif\" font-size=\"14.00\">ctrl</text>\n</g>\n<!-- ControlledAddOrSubtract&#45;&gt;ctrl_G5 -->\n<g id=\"edge4\" class=\"edge\">\n<title>ControlledAddOrSubtract:e-&gt;ctrl_G5:w</title>\n<path fill=\"none\" stroke=\"black\" d=\"M204,-94C224.89,-94 219.72,-123.55 238.58,-125.86\"/>\n<ellipse fill=\"black\" stroke=\"black\" cx=\"240\" cy=\"-125.94\" rx=\"1\" ry=\"1\"/>\n<text text-anchor=\"middle\" x=\"222.5\" y=\"-113\" font-family=\"Times,serif\" font-size=\"10.00\">1</text>\n</g>\n<!-- a_G4 -->\n<g id=\"node6\" class=\"node\">\n<title>a_G4</title>\n<text text-anchor=\"middle\" x=\"268\" y=\"-68.3\" font-family=\"Times,serif\" font-size=\"14.00\">a</text>\n</g>\n<!-- ControlledAddOrSubtract&#45;&gt;a_G4 -->\n<g id=\"edge5\" class=\"edge\">\n<title>ControlledAddOrSubtract:e-&gt;a_G4:w</title>\n<path fill=\"none\" stroke=\"black\" d=\"M204,-72C219.67,-72 224.14,-72 238.77,-72\"/>\n<ellipse fill=\"black\" stroke=\"black\" cx=\"240\" cy=\"-72\" rx=\"1\" ry=\"1\"/>\n<text text-anchor=\"middle\" x=\"222.5\" y=\"-75\" font-family=\"Times,serif\" font-size=\"10.00\">8</text>\n</g>\n<!-- b_G1 -->\n<g id=\"node7\" class=\"node\">\n<title>b_G1</title>\n<text text-anchor=\"middle\" x=\"268\" y=\"-14.3\" font-family=\"Times,serif\" font-size=\"14.00\">b</text>\n</g>\n<!-- ControlledAddOrSubtract&#45;&gt;b_G1 -->\n<g id=\"edge6\" class=\"edge\">\n<title>ControlledAddOrSubtract:e-&gt;b_G1:w</title>\n<path fill=\"none\" stroke=\"black\" d=\"M204,-51C225.17,-51 219.47,-20.53 238.55,-18.15\"/>\n<ellipse fill=\"black\" stroke=\"black\" cx=\"240\" cy=\"-18.06\" rx=\"1\" ry=\"1\"/>\n<text text-anchor=\"middle\" x=\"222.5\" y=\"-39\" font-family=\"Times,serif\" font-size=\"10.00\">8</text>\n</g>\n</g>\n</svg>",
          "text/plain": "<IPython.core.display.SVG object>"
         },
         "metadata": {},
         "output_type": "display_data"
        }
       ],
       "tabbable": null,
       "tooltip": null
      }
     },
     "c6e7846ab1dd45a8a921891114b66a19": {
      "model_module": "@jupyter-widgets/base",
      "model_module_version": "2.0.0",
      "model_name": "LayoutModel",
      "state": {
       "_model_module": "@jupyter-widgets/base",
       "_model_module_version": "2.0.0",
       "_model_name": "LayoutModel",
       "_view_count": null,
       "_view_module": "@jupyter-widgets/base",
       "_view_module_version": "2.0.0",
       "_view_name": "LayoutView",
       "align_content": null,
       "align_items": null,
       "align_self": null,
       "border_bottom": null,
       "border_left": null,
       "border_right": null,
       "border_top": null,
       "bottom": null,
       "display": null,
       "flex": null,
       "flex_flow": null,
       "grid_area": null,
       "grid_auto_columns": null,
       "grid_auto_flow": null,
       "grid_auto_rows": null,
       "grid_column": null,
       "grid_gap": null,
       "grid_row": null,
       "grid_template_areas": null,
       "grid_template_columns": null,
       "grid_template_rows": null,
       "height": null,
       "justify_content": null,
       "justify_items": null,
       "left": null,
       "margin": null,
       "max_height": null,
       "max_width": null,
       "min_height": null,
       "min_width": null,
       "object_fit": null,
       "object_position": null,
       "order": null,
       "overflow": null,
       "padding": null,
       "right": null,
       "top": null,
       "visibility": null,
       "width": null
      }
     },
     "cf8e8a53849446a9a9f5ff32f67ef612": {
      "model_module": "@jupyter-widgets/controls",
      "model_module_version": "2.0.0",
      "model_name": "HBoxModel",
      "state": {
       "_dom_classes": [],
       "_model_module": "@jupyter-widgets/controls",
       "_model_module_version": "2.0.0",
       "_model_name": "HBoxModel",
       "_view_count": null,
       "_view_module": "@jupyter-widgets/controls",
       "_view_module_version": "2.0.0",
       "_view_name": "HBoxView",
       "box_style": "",
       "children": [
        "IPY_MODEL_e9447292ce264e6390a18203a83c0f62",
        "IPY_MODEL_957597e1eb59447dbc30cd7704a10f2e",
        "IPY_MODEL_64caf2f02f2749c1a00e25477669913c"
       ],
       "layout": "IPY_MODEL_c6e7846ab1dd45a8a921891114b66a19",
       "tabbable": null,
       "tooltip": null
      }
     },
     "e9447292ce264e6390a18203a83c0f62": {
      "model_module": "@jupyter-widgets/output",
      "model_module_version": "1.0.0",
      "model_name": "OutputModel",
      "state": {
       "_dom_classes": [],
       "_model_module": "@jupyter-widgets/output",
       "_model_module_version": "1.0.0",
       "_model_name": "OutputModel",
       "_view_count": null,
       "_view_module": "@jupyter-widgets/output",
       "_view_module_version": "1.0.0",
       "_view_name": "OutputView",
       "layout": "IPY_MODEL_262060cc17d74b96aa004fed5eae0fd8",
       "msg_id": "",
       "outputs": [
        {
         "data": {
          "text/markdown": "`ctrl_add_or_sub_signed_symb`",
          "text/plain": "<IPython.core.display.Markdown object>"
         },
         "metadata": {},
         "output_type": "display_data"
        },
        {
         "data": {
          "image/svg+xml": "<svg xmlns=\"http://www.w3.org/2000/svg\" xmlns:xlink=\"http://www.w3.org/1999/xlink\" width=\"303pt\" height=\"152pt\" viewBox=\"0.00 0.00 303.00 152.00\">\n<g id=\"graph0\" class=\"graph\" transform=\"scale(1 1) rotate(0) translate(4 148)\">\n<title>my_graph</title>\n<polygon fill=\"white\" stroke=\"transparent\" points=\"-4,4 -4,-148 299,-148 299,4 -4,4\"/>\n<!-- ctrl_G7 -->\n<g id=\"node1\" class=\"node\">\n<title>ctrl_G7</title>\n<text text-anchor=\"middle\" x=\"27\" y=\"-122.3\" font-family=\"Times,serif\" font-size=\"14.00\">ctrl</text>\n</g>\n<!-- ControlledAddOrSubtract -->\n<g id=\"node4\" class=\"node\">\n<title>ControlledAddOrSubtract</title>\n<polygon fill=\"none\" stroke=\"black\" points=\"91.5,-104 91.5,-121 204.5,-121 204.5,-104 91.5,-104\"/>\n<text text-anchor=\"start\" x=\"94.5\" y=\"-110\" font-family=\"Times,serif\" font-size=\"10.00\">ControlledAddOrSubtract</text>\n<polygon fill=\"none\" stroke=\"black\" points=\"91.5,-83 91.5,-104 204.5,-104 204.5,-83 91.5,-83\"/>\n<text text-anchor=\"start\" x=\"138.5\" y=\"-89.8\" font-family=\"Times,serif\" font-size=\"14.00\">ctrl</text>\n<polygon fill=\"none\" stroke=\"black\" points=\"91.5,-62 91.5,-83 204.5,-83 204.5,-62 91.5,-62\"/>\n<text text-anchor=\"start\" x=\"144.5\" y=\"-68.8\" font-family=\"Times,serif\" font-size=\"14.00\">a</text>\n<polygon fill=\"none\" stroke=\"black\" points=\"91.5,-41 91.5,-62 204.5,-62 204.5,-41 91.5,-41\"/>\n<text text-anchor=\"start\" x=\"144.5\" y=\"-47.8\" font-family=\"Times,serif\" font-size=\"14.00\">b</text>\n</g>\n<!-- ctrl_G7&#45;&gt;ControlledAddOrSubtract -->\n<g id=\"edge1\" class=\"edge\">\n<title>ctrl_G7:e-&gt;ControlledAddOrSubtract:w</title>\n<path fill=\"none\" stroke=\"black\" d=\"M54,-126C74.89,-126 69.72,-96.45 88.58,-94.14\"/>\n<ellipse fill=\"black\" stroke=\"black\" cx=\"90\" cy=\"-94.06\" rx=\"1\" ry=\"1\"/>\n<text text-anchor=\"middle\" x=\"72.5\" y=\"-113\" font-family=\"Times,serif\" font-size=\"10.00\">1</text>\n</g>\n<!-- a_G0 -->\n<g id=\"node2\" class=\"node\">\n<title>a_G0</title>\n<text text-anchor=\"middle\" x=\"27\" y=\"-68.3\" font-family=\"Times,serif\" font-size=\"14.00\">a</text>\n</g>\n<!-- a_G0&#45;&gt;ControlledAddOrSubtract -->\n<g id=\"edge2\" class=\"edge\">\n<title>a_G0:e-&gt;ControlledAddOrSubtract:w</title>\n<path fill=\"none\" stroke=\"black\" d=\"M54,-72C69.67,-72 74.14,-72 88.77,-72\"/>\n<ellipse fill=\"black\" stroke=\"black\" cx=\"90\" cy=\"-72\" rx=\"1\" ry=\"1\"/>\n<text text-anchor=\"middle\" x=\"72.5\" y=\"-75\" font-family=\"Times,serif\" font-size=\"10.00\">n</text>\n</g>\n<!-- b_G6 -->\n<g id=\"node3\" class=\"node\">\n<title>b_G6</title>\n<text text-anchor=\"middle\" x=\"27\" y=\"-14.3\" font-family=\"Times,serif\" font-size=\"14.00\">b</text>\n</g>\n<!-- b_G6&#45;&gt;ControlledAddOrSubtract -->\n<g id=\"edge3\" class=\"edge\">\n<title>b_G6:e-&gt;ControlledAddOrSubtract:w</title>\n<path fill=\"none\" stroke=\"black\" d=\"M54,-18C75.17,-18 69.47,-48.47 88.55,-50.85\"/>\n<ellipse fill=\"black\" stroke=\"black\" cx=\"90\" cy=\"-50.94\" rx=\"1\" ry=\"1\"/>\n<text text-anchor=\"middle\" x=\"72.5\" y=\"-39\" font-family=\"Times,serif\" font-size=\"10.00\">n</text>\n</g>\n<!-- ctrl_G5 -->\n<g id=\"node5\" class=\"node\">\n<title>ctrl_G5</title>\n<text text-anchor=\"middle\" x=\"268\" y=\"-122.3\" font-family=\"Times,serif\" font-size=\"14.00\">ctrl</text>\n</g>\n<!-- ControlledAddOrSubtract&#45;&gt;ctrl_G5 -->\n<g id=\"edge4\" class=\"edge\">\n<title>ControlledAddOrSubtract:e-&gt;ctrl_G5:w</title>\n<path fill=\"none\" stroke=\"black\" d=\"M204,-94C224.89,-94 219.72,-123.55 238.58,-125.86\"/>\n<ellipse fill=\"black\" stroke=\"black\" cx=\"240\" cy=\"-125.94\" rx=\"1\" ry=\"1\"/>\n<text text-anchor=\"middle\" x=\"222.5\" y=\"-113\" font-family=\"Times,serif\" font-size=\"10.00\">1</text>\n</g>\n<!-- a_G3 -->\n<g id=\"node6\" class=\"node\">\n<title>a_G3</title>\n<text text-anchor=\"middle\" x=\"268\" y=\"-68.3\" font-family=\"Times,serif\" font-size=\"14.00\">a</text>\n</g>\n<!-- ControlledAddOrSubtract&#45;&gt;a_G3 -->\n<g id=\"edge5\" class=\"edge\">\n<title>ControlledAddOrSubtract:e-&gt;a_G3:w</title>\n<path fill=\"none\" stroke=\"black\" d=\"M204,-72C219.67,-72 224.14,-72 238.77,-72\"/>\n<ellipse fill=\"black\" stroke=\"black\" cx=\"240\" cy=\"-72\" rx=\"1\" ry=\"1\"/>\n<text text-anchor=\"middle\" x=\"222.5\" y=\"-75\" font-family=\"Times,serif\" font-size=\"10.00\">n</text>\n</g>\n<!-- b_G8 -->\n<g id=\"node7\" class=\"node\">\n<title>b_G8</title>\n<text text-anchor=\"middle\" x=\"268\" y=\"-14.3\" font-family=\"Times,serif\" font-size=\"14.00\">b</text>\n</g>\n<!-- ControlledAddOrSubtract&#45;&gt;b_G8 -->\n<g id=\"edge6\" class=\"edge\">\n<title>ControlledAddOrSubtract:e-&gt;b_G8:w</title>\n<path fill=\"none\" stroke=\"black\" d=\"M204,-51C225.17,-51 219.47,-20.53 238.55,-18.15\"/>\n<ellipse fill=\"black\" stroke=\"black\" cx=\"240\" cy=\"-18.06\" rx=\"1\" ry=\"1\"/>\n<text text-anchor=\"middle\" x=\"222.5\" y=\"-39\" font-family=\"Times,serif\" font-size=\"10.00\">n</text>\n</g>\n</g>\n</svg>",
          "text/plain": "<IPython.core.display.SVG object>"
         },
         "metadata": {},
         "output_type": "display_data"
        }
       ],
       "tabbable": null,
       "tooltip": null
      }
     }
    },
    "version_major": 2,
    "version_minor": 0
   }
  }
 },
 "nbformat": 4,
 "nbformat_minor": 5
}
