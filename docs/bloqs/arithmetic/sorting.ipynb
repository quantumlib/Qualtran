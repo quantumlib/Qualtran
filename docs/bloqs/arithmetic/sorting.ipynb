{
 "cells": [
  {
   "cell_type": "markdown",
   "id": "61ac4a56",
   "metadata": {
    "cq.autogen": "title_cell"
   },
   "source": [
    "# Sorting"
   ]
  },
  {
   "cell_type": "code",
   "execution_count": 1,
   "id": "e24cc6e0",
   "metadata": {
    "cq.autogen": "top_imports"
   },
   "outputs": [],
   "source": [
    "from qualtran import Bloq, CompositeBloq, BloqBuilder, Signature, Register\n",
    "from qualtran import QBit, QInt, QUInt, QAny\n",
    "from qualtran.drawing import show_bloq, show_call_graph, show_counts_sigma\n",
    "from typing import *\n",
    "import numpy as np\n",
    "import sympy\n",
    "import cirq"
   ]
  },
  {
   "cell_type": "markdown",
   "id": "4c9967bd",
   "metadata": {
    "cq.autogen": "Comparator.bloq_doc.md"
   },
   "source": [
    "## `Comparator`\n",
    "Compare and potentially swaps two n-bit numbers.\n",
    "\n",
    "Implements $|a\\rangle|b\\rangle \\mapsto |\\min(a,b)\\rangle|\\max(a,b)\\rangle|a>b\\rangle$,\n",
    "\n",
    "where $a$ and $b$ are n-qubit quantum registers. On output a and b are\n",
    "swapped if a > b. Forms the base primitive for sorting.\n",
    "\n",
    "#### Parameters\n",
    " - `bitsize`: value of $n$ (i.e. the inputs are $n$-bit numbers). \n",
    "\n",
    "#### Registers\n",
    " - `a`: A n-bit-sized input register (register a above).\n",
    " - `b`: A n-bit-sized input register (register b above).\n",
    " - `out`: A single bit output register which will store the result of the comparator. \n",
    "\n",
    "#### References\n",
    " - [Improved techniques for preparing eigenstates of fermionic Hamiltonians](https://www.nature.com/articles/s41534-018-0071-5). Fig. 1. in main text.\n"
   ]
  },
  {
   "cell_type": "code",
   "execution_count": 2,
   "id": "34f6d201",
   "metadata": {
    "cq.autogen": "Comparator.bloq_doc.py"
   },
   "outputs": [],
   "source": [
    "from qualtran.bloqs.arithmetic import Comparator"
   ]
  },
  {
   "cell_type": "markdown",
   "id": "9422999e",
   "metadata": {
    "cq.autogen": "Comparator.example_instances.md"
   },
   "source": [
    "### Example Instances"
   ]
  },
  {
   "cell_type": "code",
   "execution_count": 3,
   "id": "e470acb6",
   "metadata": {
    "cq.autogen": "Comparator.comparator"
   },
   "outputs": [],
   "source": [
    "comparator = Comparator(3)"
   ]
  },
  {
   "cell_type": "code",
   "execution_count": 4,
   "id": "6c7e9aba",
   "metadata": {
    "cq.autogen": "Comparator.comparator_symb"
   },
   "outputs": [],
   "source": [
    "n = sympy.Symbol('n')\n",
    "comparator_symb = Comparator(n)"
   ]
  },
  {
   "cell_type": "markdown",
   "id": "b657ce59",
   "metadata": {
    "cq.autogen": "Comparator.graphical_signature.md"
   },
   "source": [
    "#### Graphical Signature"
   ]
  },
  {
   "cell_type": "code",
   "execution_count": 5,
   "id": "23f09055",
   "metadata": {
    "cq.autogen": "Comparator.graphical_signature.py"
   },
   "outputs": [
    {
     "data": {
      "application/vnd.jupyter.widget-view+json": {
       "model_id": "e34538325cf245d294fbdfe0c7552fde",
       "version_major": 2,
       "version_minor": 0
      },
      "text/plain": [
       "HBox(children=(Output(outputs=({'output_type': 'display_data', 'data': {'text/plain': '<IPython.core.display.M…"
      ]
     },
     "metadata": {},
     "output_type": "display_data"
    }
   ],
   "source": [
    "from qualtran.drawing import show_bloqs\n",
    "show_bloqs([comparator, comparator_symb],\n",
    "           ['`comparator`', '`comparator_symb`'])"
   ]
  },
  {
   "cell_type": "markdown",
   "id": "c44cf34f",
   "metadata": {
    "cq.autogen": "Comparator.call_graph.md"
   },
   "source": [
    "### Call Graph"
   ]
  },
  {
   "cell_type": "code",
   "execution_count": 6,
   "id": "321184e6",
   "metadata": {
    "cq.autogen": "Comparator.call_graph.py"
   },
   "outputs": [
    {
     "data": {
      "image/svg+xml": [
       "<svg xmlns=\"http://www.w3.org/2000/svg\" xmlns:xlink=\"http://www.w3.org/1999/xlink\" width=\"246pt\" height=\"131pt\" viewBox=\"0.00 0.00 246.00 131.00\">\n",
       "<g id=\"graph0\" class=\"graph\" transform=\"scale(1 1) rotate(0) translate(4 127)\">\n",
       "<title>counts</title>\n",
       "<polygon fill=\"white\" stroke=\"transparent\" points=\"-4,4 -4,-127 242,-127 242,4 -4,4\"/>\n",
       "<!-- b0 -->\n",
       "<g id=\"node1\" class=\"node\">\n",
       "<title>b0</title>\n",
       "<polygon fill=\"none\" stroke=\"black\" points=\"85,-93 85,-116 147,-116 147,-93 85,-93\"/>\n",
       "<text text-anchor=\"start\" x=\"91.5\" y=\"-102\" font-family=\"Times,serif\" font-size=\"10.00\">Comparator</text>\n",
       "</g>\n",
       "<!-- b1 -->\n",
       "<g id=\"node2\" class=\"node\">\n",
       "<title>b1</title>\n",
       "<polygon fill=\"none\" stroke=\"black\" points=\"8,-6 8,-29 50,-29 50,-6 8,-6\"/>\n",
       "<text text-anchor=\"start\" x=\"14\" y=\"-15\" font-family=\"Times,serif\" font-size=\"10.00\">CSwap</text>\n",
       "</g>\n",
       "<!-- b0&#45;&gt;b1 -->\n",
       "<g id=\"edge1\" class=\"edge\">\n",
       "<title>b0-&gt;b1</title>\n",
       "<path fill=\"none\" stroke=\"black\" d=\"M98.39,-86.8C85.66,-74.36 68.27,-57.36 54.08,-43.5\"/>\n",
       "<polygon fill=\"black\" stroke=\"black\" points=\"56.18,-40.66 46.58,-36.18 51.29,-45.67 56.18,-40.66\"/>\n",
       "<text text-anchor=\"middle\" x=\"81.5\" y=\"-57.8\" font-family=\"Times,serif\" font-size=\"14.00\">1</text>\n",
       "</g>\n",
       "<!-- b2 -->\n",
       "<g id=\"node3\" class=\"node\">\n",
       "<title>b2</title>\n",
       "<polygon fill=\"none\" stroke=\"black\" points=\"84,-6 84,-29 148,-29 148,-6 84,-6\"/>\n",
       "<text text-anchor=\"start\" x=\"90\" y=\"-15\" font-family=\"Times,serif\" font-size=\"10.00\">GreaterThan</text>\n",
       "</g>\n",
       "<!-- b0&#45;&gt;b2 -->\n",
       "<g id=\"edge2\" class=\"edge\">\n",
       "<title>b0-&gt;b2</title>\n",
       "<path fill=\"none\" stroke=\"black\" d=\"M116,-86.8C116,-75.16 116,-59.55 116,-46.24\"/>\n",
       "<polygon fill=\"black\" stroke=\"black\" points=\"119.5,-46.18 116,-36.18 112.5,-46.18 119.5,-46.18\"/>\n",
       "<text text-anchor=\"middle\" x=\"119.5\" y=\"-57.8\" font-family=\"Times,serif\" font-size=\"14.00\">1</text>\n",
       "</g>\n",
       "<!-- b3 -->\n",
       "<g id=\"node4\" class=\"node\">\n",
       "<title>b3</title>\n",
       "<polygon fill=\"none\" stroke=\"black\" points=\"182,-6 182,-29 230,-29 230,-6 182,-6\"/>\n",
       "<text text-anchor=\"start\" x=\"188\" y=\"-15\" font-family=\"Times,serif\" font-size=\"10.00\">Allocate</text>\n",
       "</g>\n",
       "<!-- b0&#45;&gt;b3 -->\n",
       "<g id=\"edge3\" class=\"edge\">\n",
       "<title>b0-&gt;b3</title>\n",
       "<path fill=\"none\" stroke=\"black\" d=\"M134.21,-86.8C147.51,-74.24 165.71,-57.05 180.46,-43.12\"/>\n",
       "<polygon fill=\"black\" stroke=\"black\" points=\"182.95,-45.59 187.81,-36.18 178.14,-40.5 182.95,-45.59\"/>\n",
       "<text text-anchor=\"middle\" x=\"169.5\" y=\"-57.8\" font-family=\"Times,serif\" font-size=\"14.00\">1</text>\n",
       "</g>\n",
       "</g>\n",
       "</svg>"
      ],
      "text/plain": [
       "<IPython.core.display.SVG object>"
      ]
     },
     "metadata": {},
     "output_type": "display_data"
    },
    {
     "data": {
      "text/markdown": [
       "#### Counts totals:\n",
       " - `Allocate`: 1\n",
       " - `CSwap`: 1\n",
       " - `GreaterThan`: 1"
      ],
      "text/plain": [
       "<IPython.core.display.Markdown object>"
      ]
     },
     "metadata": {},
     "output_type": "display_data"
    }
   ],
   "source": [
    "from qualtran.resource_counting.generalizers import ignore_split_join\n",
    "comparator_g, comparator_sigma = comparator.call_graph(max_depth=1, generalizer=ignore_split_join)\n",
    "show_call_graph(comparator_g)\n",
    "show_counts_sigma(comparator_sigma)"
   ]
  },
  {
   "cell_type": "markdown",
   "id": "1016b6f1",
   "metadata": {
    "cq.autogen": "BitonicSort.bloq_doc.md"
   },
   "source": [
    "## `BitonicSort`\n",
    "Sort k n-bit integers in-place using a Bitonic sorting network.\n",
    "\n",
    "For a given input list $x_1, x_2, \\ldots, x_k$, applies the transform\n",
    "\n",
    "$$\n",
    "    |x_1, x_2, \\ldots, x_k\\rangle \\mapsto |y_1, y_2, \\ldots, y_k\\rangle|\\mathsf{junk}\\rangle\n",
    "$$\n",
    "\n",
    "where $y_1, y_2, \\ldots, y_k = \\mathrm{sorted}(x_1, x_2, \\ldots, x_k)$, and the junk register\n",
    "stores the result of comparisons done during the sorting. Note that the `junk` register will\n",
    "be entangled with the input list register.\n",
    "\n",
    "Currently only supports $k$ being a power of two (#1090).\n",
    "\n",
    "The bitonic sorting network requires $\\frac{k}{2} \\frac{\\log{k} (1+\\log{k})}{2}$ total comparisons,\n",
    "and has depth $\\frac{\\log{k} (1+\\log{k})}{2}$, when $k$ is a power of 2. Each comparison generates\n",
    "one ancilla qubit that stores the result of the comparison, so the total size of `junk` register\n",
    "equals the number of comparisons.\n",
    "\n",
    "#### Parameters\n",
    " - `k`: Number of integers to sort.\n",
    " - `bitsize`: number of bits $n$ of each input number. \n",
    "\n",
    "#### Registers\n",
    " - `xs`: List of k integers we want to sort.\n",
    " - `junk`: the generated ancilla qubits of each comparison in the sorting network. \n",
    "\n",
    "#### References\n",
    " - [Improved techniques for preparing eigenstates of fermionic Hamiltonians](https://www.nature.com/articles/s41534-018-0071-5). Supporting Information Sec. II.\n"
   ]
  },
  {
   "cell_type": "code",
   "execution_count": 7,
   "id": "54d5f819",
   "metadata": {
    "cq.autogen": "BitonicSort.bloq_doc.py"
   },
   "outputs": [],
   "source": [
    "from qualtran.bloqs.arithmetic import BitonicSort"
   ]
  },
  {
   "cell_type": "markdown",
   "id": "4c5c4e4f",
   "metadata": {
    "cq.autogen": "BitonicSort.example_instances.md"
   },
   "source": [
    "### Example Instances"
   ]
  },
  {
   "cell_type": "code",
   "execution_count": 8,
   "id": "73dd6562",
   "metadata": {
    "cq.autogen": "BitonicSort.bitonic_sort"
   },
   "outputs": [],
   "source": [
    "bitonic_sort = BitonicSort(8, 4)"
   ]
  },
  {
   "cell_type": "code",
   "execution_count": 9,
   "id": "b3aa8a0c",
   "metadata": {
    "cq.autogen": "BitonicSort.bitonic_sort_symb"
   },
   "outputs": [],
   "source": [
    "n = sympy.Symbol('n')\n",
    "bitonic_sort_symb = BitonicSort(4, n)"
   ]
  },
  {
   "cell_type": "markdown",
   "id": "b225e7c2",
   "metadata": {
    "cq.autogen": "BitonicSort.graphical_signature.md"
   },
   "source": [
    "#### Graphical Signature"
   ]
  },
  {
   "cell_type": "code",
   "execution_count": 10,
   "id": "9e529594",
   "metadata": {
    "cq.autogen": "BitonicSort.graphical_signature.py"
   },
   "outputs": [
    {
     "data": {
      "application/vnd.jupyter.widget-view+json": {
       "model_id": "5629a3e790404da0beded4d6861a902c",
       "version_major": 2,
       "version_minor": 0
      },
      "text/plain": [
       "HBox(children=(Output(outputs=({'output_type': 'display_data', 'data': {'text/plain': '<IPython.core.display.M…"
      ]
     },
     "metadata": {},
     "output_type": "display_data"
    }
   ],
   "source": [
    "from qualtran.drawing import show_bloqs\n",
    "show_bloqs([bitonic_sort, bitonic_sort_symb],\n",
    "           ['`bitonic_sort`', '`bitonic_sort_symb`'])"
   ]
  },
  {
   "cell_type": "markdown",
   "id": "73410cdf",
   "metadata": {
    "cq.autogen": "BitonicSort.call_graph.md"
   },
   "source": [
    "### Call Graph"
   ]
  },
  {
   "cell_type": "code",
   "execution_count": 11,
   "id": "b24c142f",
   "metadata": {
    "cq.autogen": "BitonicSort.call_graph.py"
   },
   "outputs": [
    {
     "data": {
      "image/svg+xml": [
       "<svg xmlns=\"http://www.w3.org/2000/svg\" xmlns:xlink=\"http://www.w3.org/1999/xlink\" width=\"86pt\" height=\"131pt\" viewBox=\"0.00 0.00 86.00 131.00\">\n",
       "<g id=\"graph0\" class=\"graph\" transform=\"scale(1 1) rotate(0) translate(4 127)\">\n",
       "<title>counts</title>\n",
       "<polygon fill=\"white\" stroke=\"transparent\" points=\"-4,4 -4,-127 82,-127 82,4 -4,4\"/>\n",
       "<!-- b0 -->\n",
       "<g id=\"node1\" class=\"node\">\n",
       "<title>b0</title>\n",
       "<polygon fill=\"none\" stroke=\"black\" points=\"9,-93 9,-116 69,-116 69,-93 9,-93\"/>\n",
       "<text text-anchor=\"start\" x=\"15\" y=\"-102\" font-family=\"Times,serif\" font-size=\"10.00\">BitonicSort</text>\n",
       "</g>\n",
       "<!-- b1 -->\n",
       "<g id=\"node2\" class=\"node\">\n",
       "<title>b1</title>\n",
       "<polygon fill=\"none\" stroke=\"black\" points=\"8,-6 8,-29 70,-29 70,-6 8,-6\"/>\n",
       "<text text-anchor=\"start\" x=\"14.5\" y=\"-15\" font-family=\"Times,serif\" font-size=\"10.00\">Comparator</text>\n",
       "</g>\n",
       "<!-- b0&#45;&gt;b1 -->\n",
       "<g id=\"edge1\" class=\"edge\">\n",
       "<title>b0-&gt;b1</title>\n",
       "<path fill=\"none\" stroke=\"black\" d=\"M39,-86.8C39,-75.16 39,-59.55 39,-46.24\"/>\n",
       "<polygon fill=\"black\" stroke=\"black\" points=\"42.5,-46.18 39,-36.18 35.5,-46.18 42.5,-46.18\"/>\n",
       "<text text-anchor=\"middle\" x=\"46\" y=\"-57.8\" font-family=\"Times,serif\" font-size=\"14.00\">24</text>\n",
       "</g>\n",
       "</g>\n",
       "</svg>"
      ],
      "text/plain": [
       "<IPython.core.display.SVG object>"
      ]
     },
     "metadata": {},
     "output_type": "display_data"
    },
    {
     "data": {
      "text/markdown": [
       "#### Counts totals:\n",
       " - `Comparator`: 24"
      ],
      "text/plain": [
       "<IPython.core.display.Markdown object>"
      ]
     },
     "metadata": {},
     "output_type": "display_data"
    }
   ],
   "source": [
    "from qualtran.resource_counting.generalizers import ignore_split_join\n",
    "bitonic_sort_g, bitonic_sort_sigma = bitonic_sort.call_graph(max_depth=1, generalizer=ignore_split_join)\n",
    "show_call_graph(bitonic_sort_g)\n",
    "show_counts_sigma(bitonic_sort_sigma)"
   ]
  },
  {
   "cell_type": "markdown",
   "id": "8d1d261a",
   "metadata": {
    "cq.autogen": "ParallelComparators.bloq_doc.md"
   },
   "source": [
    "## `ParallelComparators`\n",
    "Given k n-bit numbers, for each pair that is `offset` apart, compare and swap if needed to order them.\n",
    "\n",
    "For each block of `2 * offset` numbers, apply a `Comparator` between each pair that is `offset` apart.\n",
    "For an offset of $\\delta$, this requires\n",
    "\n",
    "$$\n",
    "    \\delta \\left\\lfloor \\frac{k}{2\\delta} \\right\\rfloor\n",
    "    + \\max((k\\mod 2\\delta) - \\delta, 0)\n",
    "$$\n",
    "\n",
    "totals comparisons. The above expression is at most $k / 2$. Each comparison generates one ancilla qubit\n",
    "which stores the result of comparsion, and these qubits are aggregated into the `junk` register.\n",
    "\n",
    "This is used by `BitonicMerge` to apply parallel merges with offsets 1, 2, 4 and so on.\n",
    "\n",
    "#### Parameters\n",
    " - `k`: size of the input list.\n",
    " - `offset`: compare numbers whose indices are offset apart.\n",
    " - `bitsize`: value of $n$ (i.e. the inputs are $n$-bit numbers). \n",
    "\n",
    "#### Registers\n",
    " - `xs`: input list of numbers.\n",
    " - `junk`: ancilla generated by comparators.\n"
   ]
  },
  {
   "cell_type": "code",
   "execution_count": 12,
   "id": "df1602d4",
   "metadata": {
    "cq.autogen": "ParallelComparators.bloq_doc.py"
   },
   "outputs": [],
   "source": [
    "from qualtran.bloqs.arithmetic.sorting import ParallelComparators"
   ]
  },
  {
   "cell_type": "markdown",
   "id": "5211e222",
   "metadata": {
    "cq.autogen": "ParallelComparators.example_instances.md"
   },
   "source": [
    "### Example Instances"
   ]
  },
  {
   "cell_type": "code",
   "execution_count": 13,
   "id": "1e021f19",
   "metadata": {
    "cq.autogen": "ParallelComparators.parallel_compare"
   },
   "outputs": [],
   "source": [
    "parallel_compare = ParallelComparators(7, 2, bitsize=3)"
   ]
  },
  {
   "cell_type": "markdown",
   "id": "e4802c0b",
   "metadata": {
    "cq.autogen": "ParallelComparators.graphical_signature.md"
   },
   "source": [
    "#### Graphical Signature"
   ]
  },
  {
   "cell_type": "code",
   "execution_count": 14,
   "id": "d34c1b77",
   "metadata": {
    "cq.autogen": "ParallelComparators.graphical_signature.py"
   },
   "outputs": [
    {
     "data": {
      "application/vnd.jupyter.widget-view+json": {
       "model_id": "6739b83d416c4e119bcd1e3fa5d60f62",
       "version_major": 2,
       "version_minor": 0
      },
      "text/plain": [
       "HBox(children=(Output(outputs=({'output_type': 'display_data', 'data': {'text/plain': '<IPython.core.display.M…"
      ]
     },
     "metadata": {},
     "output_type": "display_data"
    }
   ],
   "source": [
    "from qualtran.drawing import show_bloqs\n",
    "show_bloqs([parallel_compare],\n",
    "           ['`parallel_compare`'])"
   ]
  },
  {
   "cell_type": "markdown",
   "id": "f4cbbbdf",
   "metadata": {
    "cq.autogen": "ParallelComparators.call_graph.md"
   },
   "source": [
    "### Call Graph"
   ]
  },
  {
   "cell_type": "code",
   "execution_count": 15,
   "id": "d636d73e",
   "metadata": {
    "cq.autogen": "ParallelComparators.call_graph.py"
   },
   "outputs": [
    {
     "data": {
      "image/svg+xml": [
       "<svg xmlns=\"http://www.w3.org/2000/svg\" xmlns:xlink=\"http://www.w3.org/1999/xlink\" width=\"120pt\" height=\"131pt\" viewBox=\"0.00 0.00 120.00 131.00\">\n",
       "<g id=\"graph0\" class=\"graph\" transform=\"scale(1 1) rotate(0) translate(4 127)\">\n",
       "<title>counts</title>\n",
       "<polygon fill=\"white\" stroke=\"transparent\" points=\"-4,4 -4,-127 116,-127 116,4 -4,4\"/>\n",
       "<!-- b0 -->\n",
       "<g id=\"node1\" class=\"node\">\n",
       "<title>b0</title>\n",
       "<polygon fill=\"none\" stroke=\"black\" points=\"8,-93 8,-116 104,-116 104,-93 8,-93\"/>\n",
       "<text text-anchor=\"start\" x=\"14.5\" y=\"-102\" font-family=\"Times,serif\" font-size=\"10.00\">ParallelComparators</text>\n",
       "</g>\n",
       "<!-- b1 -->\n",
       "<g id=\"node2\" class=\"node\">\n",
       "<title>b1</title>\n",
       "<polygon fill=\"none\" stroke=\"black\" points=\"25,-6 25,-29 87,-29 87,-6 25,-6\"/>\n",
       "<text text-anchor=\"start\" x=\"31.5\" y=\"-15\" font-family=\"Times,serif\" font-size=\"10.00\">Comparator</text>\n",
       "</g>\n",
       "<!-- b0&#45;&gt;b1 -->\n",
       "<g id=\"edge1\" class=\"edge\">\n",
       "<title>b0-&gt;b1</title>\n",
       "<path fill=\"none\" stroke=\"black\" d=\"M56,-86.8C56,-75.16 56,-59.55 56,-46.24\"/>\n",
       "<polygon fill=\"black\" stroke=\"black\" points=\"59.5,-46.18 56,-36.18 52.5,-46.18 59.5,-46.18\"/>\n",
       "<text text-anchor=\"middle\" x=\"59.5\" y=\"-57.8\" font-family=\"Times,serif\" font-size=\"14.00\">3</text>\n",
       "</g>\n",
       "</g>\n",
       "</svg>"
      ],
      "text/plain": [
       "<IPython.core.display.SVG object>"
      ]
     },
     "metadata": {},
     "output_type": "display_data"
    },
    {
     "data": {
      "text/markdown": [
       "#### Counts totals:\n",
       " - `Comparator`: 3"
      ],
      "text/plain": [
       "<IPython.core.display.Markdown object>"
      ]
     },
     "metadata": {},
     "output_type": "display_data"
    }
   ],
   "source": [
    "from qualtran.resource_counting.generalizers import ignore_split_join\n",
    "parallel_compare_g, parallel_compare_sigma = parallel_compare.call_graph(max_depth=1, generalizer=ignore_split_join)\n",
    "show_call_graph(parallel_compare_g)\n",
    "show_counts_sigma(parallel_compare_sigma)"
   ]
  },
  {
   "cell_type": "markdown",
   "id": "2e229256",
   "metadata": {
    "cq.autogen": "BitonicMerge.bloq_doc.md"
   },
   "source": [
    "## `BitonicMerge`\n",
    "Merge two sorted sequences of n-bit integers.\n",
    "\n",
    "Given two sorted lists of length `half_length`, merges them inplace into a single\n",
    "sorted list.\n",
    "\n",
    "Currently only supports `half_length` equal to a power of two (#1090).\n",
    "\n",
    "If each half has length $k$, then the merge network uses $k (1+\\log{k})$ comparisons\n",
    "when $k$ is a power of 2. Each comparison generates one ancilla qubit which stores\n",
    "the result of comparsion, and these qubits are aggregated into the `junk` register.\n",
    "\n",
    "#### Parameters\n",
    " - `half_length`: Number of integers in each half\n",
    " - `bitsize`: value of $n$ (i.e. the inputs are $n$-bit numbers). \n",
    "\n",
    "#### Registers\n",
    " - `xs`: first input list of size `half_length`\n",
    " - `ys`: second input list of size `half_length`\n",
    " - `result`: merged output list of size `2 * half_length`\n",
    " - `junk`: ancilla generated by comparators.\n"
   ]
  },
  {
   "cell_type": "code",
   "execution_count": 16,
   "id": "aa03e68a",
   "metadata": {
    "cq.autogen": "BitonicMerge.bloq_doc.py"
   },
   "outputs": [],
   "source": [
    "from qualtran.bloqs.arithmetic.sorting import BitonicMerge"
   ]
  },
  {
   "cell_type": "markdown",
   "id": "846f4a20",
   "metadata": {
    "cq.autogen": "BitonicMerge.example_instances.md"
   },
   "source": [
    "### Example Instances"
   ]
  },
  {
   "cell_type": "code",
   "execution_count": 17,
   "id": "a0f26859",
   "metadata": {
    "cq.autogen": "BitonicMerge.bitonic_merge"
   },
   "outputs": [],
   "source": [
    "bitonic_merge = BitonicMerge(4, 7)"
   ]
  },
  {
   "cell_type": "markdown",
   "id": "47260e54",
   "metadata": {
    "cq.autogen": "BitonicMerge.graphical_signature.md"
   },
   "source": [
    "#### Graphical Signature"
   ]
  },
  {
   "cell_type": "code",
   "execution_count": 18,
   "id": "e68cafea",
   "metadata": {
    "cq.autogen": "BitonicMerge.graphical_signature.py"
   },
   "outputs": [
    {
     "data": {
      "application/vnd.jupyter.widget-view+json": {
       "model_id": "8d296bdd285b45d59d129970b74a3fac",
       "version_major": 2,
       "version_minor": 0
      },
      "text/plain": [
       "HBox(children=(Output(outputs=({'output_type': 'display_data', 'data': {'text/plain': '<IPython.core.display.M…"
      ]
     },
     "metadata": {},
     "output_type": "display_data"
    }
   ],
   "source": [
    "from qualtran.drawing import show_bloqs\n",
    "show_bloqs([bitonic_merge],\n",
    "           ['`bitonic_merge`'])"
   ]
  },
  {
   "cell_type": "markdown",
   "id": "0fffc250",
   "metadata": {
    "cq.autogen": "BitonicMerge.call_graph.md"
   },
   "source": [
    "### Call Graph"
   ]
  },
  {
   "cell_type": "code",
   "execution_count": 19,
   "id": "805e34b9",
   "metadata": {
    "cq.autogen": "BitonicMerge.call_graph.py"
   },
   "outputs": [
    {
     "data": {
      "image/svg+xml": [
       "<svg xmlns=\"http://www.w3.org/2000/svg\" xmlns:xlink=\"http://www.w3.org/1999/xlink\" width=\"94pt\" height=\"131pt\" viewBox=\"0.00 0.00 94.00 131.00\">\n",
       "<g id=\"graph0\" class=\"graph\" transform=\"scale(1 1) rotate(0) translate(4 127)\">\n",
       "<title>counts</title>\n",
       "<polygon fill=\"white\" stroke=\"transparent\" points=\"-4,4 -4,-127 90,-127 90,4 -4,4\"/>\n",
       "<!-- b0 -->\n",
       "<g id=\"node1\" class=\"node\">\n",
       "<title>b0</title>\n",
       "<polygon fill=\"none\" stroke=\"black\" points=\"8,-93 8,-116 78,-116 78,-93 8,-93\"/>\n",
       "<text text-anchor=\"start\" x=\"14\" y=\"-102\" font-family=\"Times,serif\" font-size=\"10.00\">BitonicMerge</text>\n",
       "</g>\n",
       "<!-- b1 -->\n",
       "<g id=\"node2\" class=\"node\">\n",
       "<title>b1</title>\n",
       "<polygon fill=\"none\" stroke=\"black\" points=\"12,-6 12,-29 74,-29 74,-6 12,-6\"/>\n",
       "<text text-anchor=\"start\" x=\"18.5\" y=\"-15\" font-family=\"Times,serif\" font-size=\"10.00\">Comparator</text>\n",
       "</g>\n",
       "<!-- b0&#45;&gt;b1 -->\n",
       "<g id=\"edge1\" class=\"edge\">\n",
       "<title>b0-&gt;b1</title>\n",
       "<path fill=\"none\" stroke=\"black\" d=\"M43,-86.8C43,-75.16 43,-59.55 43,-46.24\"/>\n",
       "<polygon fill=\"black\" stroke=\"black\" points=\"46.5,-46.18 43,-36.18 39.5,-46.18 46.5,-46.18\"/>\n",
       "<text text-anchor=\"middle\" x=\"50\" y=\"-57.8\" font-family=\"Times,serif\" font-size=\"14.00\">12</text>\n",
       "</g>\n",
       "</g>\n",
       "</svg>"
      ],
      "text/plain": [
       "<IPython.core.display.SVG object>"
      ]
     },
     "metadata": {},
     "output_type": "display_data"
    },
    {
     "data": {
      "text/markdown": [
       "#### Counts totals:\n",
       " - `Comparator`: 12"
      ],
      "text/plain": [
       "<IPython.core.display.Markdown object>"
      ]
     },
     "metadata": {},
     "output_type": "display_data"
    }
   ],
   "source": [
    "from qualtran.resource_counting.generalizers import ignore_split_join\n",
    "bitonic_merge_g, bitonic_merge_sigma = bitonic_merge.call_graph(max_depth=1, generalizer=ignore_split_join)\n",
    "show_call_graph(bitonic_merge_g)\n",
    "show_counts_sigma(bitonic_merge_sigma)"
   ]
  }
 ],
 "metadata": {
  "kernelspec": {
   "display_name": "Python 3",
   "language": "python",
   "name": "python3"
  },
  "language_info": {
   "codemirror_mode": {
    "name": "ipython",
    "version": 3
   },
   "file_extension": ".py",
   "mimetype": "text/x-python",
   "name": "python",
   "nbconvert_exporter": "python",
   "pygments_lexer": "ipython3",
   "version": "3.11.8"
  },
  "widgets": {
   "application/vnd.jupyter.widget-state+json": {
    "state": {
     "0420e46f12d1461d927f8a1664c2d2b5": {
      "model_module": "@jupyter-widgets/output",
      "model_module_version": "1.0.0",
      "model_name": "OutputModel",
      "state": {
       "_dom_classes": [],
       "_model_module": "@jupyter-widgets/output",
       "_model_module_version": "1.0.0",
       "_model_name": "OutputModel",
       "_view_count": null,
       "_view_module": "@jupyter-widgets/output",
       "_view_module_version": "1.0.0",
       "_view_name": "OutputView",
       "layout": "IPY_MODEL_c5e5630a1ffa431c93793d4da5efeafb",
       "msg_id": "",
       "outputs": [
        {
         "data": {
          "text/markdown": "`comparator`",
          "text/plain": "<IPython.core.display.Markdown object>"
         },
         "metadata": {},
         "output_type": "display_data"
        },
        {
         "data": {
          "image/svg+xml": "<svg xmlns=\"http://www.w3.org/2000/svg\" xmlns:xlink=\"http://www.w3.org/1999/xlink\" width=\"245pt\" height=\"152pt\" viewBox=\"0.00 0.00 245.00 152.00\">\n<g id=\"graph0\" class=\"graph\" transform=\"scale(1 1) rotate(0) translate(4 148)\">\n<title>my_graph</title>\n<polygon fill=\"white\" stroke=\"transparent\" points=\"-4,4 -4,-148 241,-148 241,4 -4,4\"/>\n<!-- a_G2 -->\n<g id=\"node1\" class=\"node\">\n<title>a_G2</title>\n<text text-anchor=\"middle\" x=\"27\" y=\"-106.3\" font-family=\"Times,serif\" font-size=\"14.00\">a</text>\n</g>\n<!-- Comparator -->\n<g id=\"node3\" class=\"node\">\n<title>Comparator</title>\n<polygon fill=\"none\" stroke=\"black\" points=\"91.5,-104 91.5,-121 146.5,-121 146.5,-104 91.5,-104\"/>\n<text text-anchor=\"start\" x=\"94.5\" y=\"-110\" font-family=\"Times,serif\" font-size=\"10.00\">Comparator</text>\n<polygon fill=\"none\" stroke=\"black\" points=\"91.5,-83 91.5,-104 146.5,-104 146.5,-83 91.5,-83\"/>\n<text text-anchor=\"start\" x=\"115.5\" y=\"-89.8\" font-family=\"Times,serif\" font-size=\"14.00\">a</text>\n<polygon fill=\"none\" stroke=\"black\" points=\"91.5,-62 91.5,-83 146.5,-83 146.5,-62 91.5,-62\"/>\n<text text-anchor=\"start\" x=\"115.5\" y=\"-68.8\" font-family=\"Times,serif\" font-size=\"14.00\">b</text>\n<polygon fill=\"none\" stroke=\"black\" points=\"91.5,-41 91.5,-62 109.5,-62 109.5,-41 91.5,-41\"/>\n<polygon fill=\"none\" stroke=\"black\" points=\"109.5,-41 109.5,-62 146.5,-62 146.5,-41 109.5,-41\"/>\n<text text-anchor=\"start\" x=\"119\" y=\"-47.8\" font-family=\"Times,serif\" font-size=\"14.00\">out</text>\n</g>\n<!-- a_G2&#45;&gt;Comparator -->\n<g id=\"edge1\" class=\"edge\">\n<title>a_G2:e-&gt;Comparator:w</title>\n<path fill=\"none\" stroke=\"black\" d=\"M54,-110C71.22,-110 72.97,-95.23 88.98,-94.07\"/>\n<ellipse fill=\"black\" stroke=\"black\" cx=\"90\" cy=\"-94.04\" rx=\"1\" ry=\"1\"/>\n<text text-anchor=\"middle\" x=\"72.5\" y=\"-105\" font-family=\"Times,serif\" font-size=\"10.00\">3</text>\n</g>\n<!-- b_G5 -->\n<g id=\"node2\" class=\"node\">\n<title>b_G5</title>\n<text text-anchor=\"middle\" x=\"27\" y=\"-52.3\" font-family=\"Times,serif\" font-size=\"14.00\">b</text>\n</g>\n<!-- b_G5&#45;&gt;Comparator -->\n<g id=\"edge2\" class=\"edge\">\n<title>b_G5:e-&gt;Comparator:w</title>\n<path fill=\"none\" stroke=\"black\" d=\"M54,-56C71.22,-56 72.97,-70.77 88.98,-71.93\"/>\n<ellipse fill=\"black\" stroke=\"black\" cx=\"90\" cy=\"-71.96\" rx=\"1\" ry=\"1\"/>\n<text text-anchor=\"middle\" x=\"72.5\" y=\"-68\" font-family=\"Times,serif\" font-size=\"10.00\">3</text>\n</g>\n<!-- a_G4 -->\n<g id=\"node4\" class=\"node\">\n<title>a_G4</title>\n<text text-anchor=\"middle\" x=\"210\" y=\"-122.3\" font-family=\"Times,serif\" font-size=\"14.00\">a</text>\n</g>\n<!-- Comparator&#45;&gt;a_G4 -->\n<g id=\"edge3\" class=\"edge\">\n<title>Comparator:e-&gt;a_G4:w</title>\n<path fill=\"none\" stroke=\"black\" d=\"M146,-94C166.89,-94 161.72,-123.55 180.58,-125.86\"/>\n<ellipse fill=\"black\" stroke=\"black\" cx=\"182\" cy=\"-125.94\" rx=\"1\" ry=\"1\"/>\n<text text-anchor=\"middle\" x=\"164.5\" y=\"-113\" font-family=\"Times,serif\" font-size=\"10.00\">3</text>\n</g>\n<!-- b_G0 -->\n<g id=\"node5\" class=\"node\">\n<title>b_G0</title>\n<text text-anchor=\"middle\" x=\"210\" y=\"-68.3\" font-family=\"Times,serif\" font-size=\"14.00\">b</text>\n</g>\n<!-- Comparator&#45;&gt;b_G0 -->\n<g id=\"edge4\" class=\"edge\">\n<title>Comparator:e-&gt;b_G0:w</title>\n<path fill=\"none\" stroke=\"black\" d=\"M146,-72C161.67,-72 166.14,-72 180.77,-72\"/>\n<ellipse fill=\"black\" stroke=\"black\" cx=\"182\" cy=\"-72\" rx=\"1\" ry=\"1\"/>\n<text text-anchor=\"middle\" x=\"164.5\" y=\"-75\" font-family=\"Times,serif\" font-size=\"10.00\">3</text>\n</g>\n<!-- out_G7 -->\n<g id=\"node6\" class=\"node\">\n<title>out_G7</title>\n<text text-anchor=\"middle\" x=\"210\" y=\"-14.3\" font-family=\"Times,serif\" font-size=\"14.00\">out</text>\n</g>\n<!-- Comparator&#45;&gt;out_G7 -->\n<g id=\"edge5\" class=\"edge\">\n<title>Comparator:e-&gt;out_G7:w</title>\n<path fill=\"none\" stroke=\"black\" d=\"M146,-51C167.17,-51 161.47,-20.53 180.55,-18.15\"/>\n<ellipse fill=\"black\" stroke=\"black\" cx=\"182\" cy=\"-18.06\" rx=\"1\" ry=\"1\"/>\n<text text-anchor=\"middle\" x=\"164.5\" y=\"-39\" font-family=\"Times,serif\" font-size=\"10.00\">1</text>\n</g>\n</g>\n</svg>",
          "text/plain": "<IPython.core.display.SVG object>"
         },
         "metadata": {},
         "output_type": "display_data"
        }
       ],
       "tabbable": null,
       "tooltip": null
      }
     },
     "0d47c03667934301be6af24c21f7fb5b": {
      "model_module": "@jupyter-widgets/base",
      "model_module_version": "2.0.0",
      "model_name": "LayoutModel",
      "state": {
       "_model_module": "@jupyter-widgets/base",
       "_model_module_version": "2.0.0",
       "_model_name": "LayoutModel",
       "_view_count": null,
       "_view_module": "@jupyter-widgets/base",
       "_view_module_version": "2.0.0",
       "_view_name": "LayoutView",
       "align_content": null,
       "align_items": null,
       "align_self": null,
       "border_bottom": null,
       "border_left": null,
       "border_right": null,
       "border_top": null,
       "bottom": null,
       "display": null,
       "flex": null,
       "flex_flow": null,
       "grid_area": null,
       "grid_auto_columns": null,
       "grid_auto_flow": null,
       "grid_auto_rows": null,
       "grid_column": null,
       "grid_gap": null,
       "grid_row": null,
       "grid_template_areas": null,
       "grid_template_columns": null,
       "grid_template_rows": null,
       "height": null,
       "justify_content": null,
       "justify_items": null,
       "left": null,
       "margin": null,
       "max_height": null,
       "max_width": null,
       "min_height": null,
       "min_width": null,
       "object_fit": null,
       "object_position": null,
       "order": null,
       "overflow": null,
       "padding": null,
       "right": null,
       "top": null,
       "visibility": null,
       "width": null
      }
     },
     "3f60f26ee6454f8e9f5ba59374260e79": {
      "model_module": "@jupyter-widgets/output",
      "model_module_version": "1.0.0",
      "model_name": "OutputModel",
      "state": {
       "_dom_classes": [],
       "_model_module": "@jupyter-widgets/output",
       "_model_module_version": "1.0.0",
       "_model_name": "OutputModel",
       "_view_count": null,
       "_view_module": "@jupyter-widgets/output",
       "_view_module_version": "1.0.0",
       "_view_name": "OutputView",
       "layout": "IPY_MODEL_e4fd9796675a4a1d812b98b76c0cd378",
       "msg_id": "",
       "outputs": [
        {
         "data": {
          "text/markdown": "`bitonic_merge`",
          "text/plain": "<IPython.core.display.Markdown object>"
         },
         "metadata": {},
         "output_type": "display_data"
        },
        {
         "data": {
          "image/svg+xml": "<svg xmlns=\"http://www.w3.org/2000/svg\" xmlns:xlink=\"http://www.w3.org/1999/xlink\" width=\"286pt\" height=\"1070pt\" viewBox=\"0.00 0.00 286.00 1070.00\">\n<g id=\"graph0\" class=\"graph\" transform=\"scale(1 1) rotate(0) translate(4 1066)\">\n<title>my_graph</title>\n<polygon fill=\"white\" stroke=\"transparent\" points=\"-4,4 -4,-1066 282,-1066 282,4 -4,4\"/>\n<!-- xs_G49 -->\n<g id=\"node1\" class=\"node\">\n<title>xs_G49</title>\n<text text-anchor=\"middle\" x=\"27\" y=\"-1010.3\" font-family=\"Times,serif\" font-size=\"14.00\">xs[0]</text>\n</g>\n<!-- BitonicMerge -->\n<g id=\"node9\" class=\"node\">\n<title>BitonicMerge</title>\n<polygon fill=\"none\" stroke=\"black\" points=\"91.5,-909 91.5,-926 178.5,-926 178.5,-909 91.5,-909\"/>\n<text text-anchor=\"start\" x=\"106\" y=\"-915\" font-family=\"Times,serif\" font-size=\"10.00\">BitonicMerge</text>\n<polygon fill=\"none\" stroke=\"black\" points=\"91.5,-888 91.5,-909 125.5,-909 125.5,-888 91.5,-888\"/>\n<text text-anchor=\"start\" x=\"94.5\" y=\"-894.8\" font-family=\"Times,serif\" font-size=\"14.00\">xs[0]</text>\n<polygon fill=\"none\" stroke=\"black\" points=\"125.5,-888 125.5,-909 178.5,-909 178.5,-888 125.5,-888\"/>\n<polygon fill=\"none\" stroke=\"black\" points=\"91.5,-867 91.5,-888 125.5,-888 125.5,-867 91.5,-867\"/>\n<text text-anchor=\"start\" x=\"94.5\" y=\"-873.8\" font-family=\"Times,serif\" font-size=\"14.00\">xs[1]</text>\n<polygon fill=\"none\" stroke=\"black\" points=\"125.5,-867 125.5,-888 178.5,-888 178.5,-867 125.5,-867\"/>\n<polygon fill=\"none\" stroke=\"black\" points=\"91.5,-846 91.5,-867 125.5,-867 125.5,-846 91.5,-846\"/>\n<text text-anchor=\"start\" x=\"94.5\" y=\"-852.8\" font-family=\"Times,serif\" font-size=\"14.00\">xs[2]</text>\n<polygon fill=\"none\" stroke=\"black\" points=\"125.5,-846 125.5,-867 178.5,-867 178.5,-846 125.5,-846\"/>\n<polygon fill=\"none\" stroke=\"black\" points=\"91.5,-825 91.5,-846 125.5,-846 125.5,-825 91.5,-825\"/>\n<text text-anchor=\"start\" x=\"94.5\" y=\"-831.8\" font-family=\"Times,serif\" font-size=\"14.00\">xs[3]</text>\n<polygon fill=\"none\" stroke=\"black\" points=\"125.5,-825 125.5,-846 178.5,-846 178.5,-825 125.5,-825\"/>\n<polygon fill=\"none\" stroke=\"black\" points=\"91.5,-804 91.5,-825 125.5,-825 125.5,-804 91.5,-804\"/>\n<text text-anchor=\"start\" x=\"94.5\" y=\"-810.8\" font-family=\"Times,serif\" font-size=\"14.00\">ys[0]</text>\n<polygon fill=\"none\" stroke=\"black\" points=\"125.5,-804 125.5,-825 178.5,-825 178.5,-804 125.5,-804\"/>\n<polygon fill=\"none\" stroke=\"black\" points=\"91.5,-783 91.5,-804 125.5,-804 125.5,-783 91.5,-783\"/>\n<text text-anchor=\"start\" x=\"94.5\" y=\"-789.8\" font-family=\"Times,serif\" font-size=\"14.00\">ys[1]</text>\n<polygon fill=\"none\" stroke=\"black\" points=\"125.5,-783 125.5,-804 178.5,-804 178.5,-783 125.5,-783\"/>\n<polygon fill=\"none\" stroke=\"black\" points=\"91.5,-762 91.5,-783 125.5,-783 125.5,-762 91.5,-762\"/>\n<text text-anchor=\"start\" x=\"94.5\" y=\"-768.8\" font-family=\"Times,serif\" font-size=\"14.00\">ys[2]</text>\n<polygon fill=\"none\" stroke=\"black\" points=\"125.5,-762 125.5,-783 178.5,-783 178.5,-762 125.5,-762\"/>\n<polygon fill=\"none\" stroke=\"black\" points=\"91.5,-741 91.5,-762 125.5,-762 125.5,-741 91.5,-741\"/>\n<text text-anchor=\"start\" x=\"94.5\" y=\"-747.8\" font-family=\"Times,serif\" font-size=\"14.00\">ys[3]</text>\n<polygon fill=\"none\" stroke=\"black\" points=\"125.5,-741 125.5,-762 178.5,-762 178.5,-741 125.5,-741\"/>\n<polygon fill=\"none\" stroke=\"black\" points=\"91.5,-720 91.5,-741 125.5,-741 125.5,-720 91.5,-720\"/>\n<polygon fill=\"none\" stroke=\"black\" points=\"125.5,-720 125.5,-741 178.5,-741 178.5,-720 125.5,-720\"/>\n<text text-anchor=\"start\" x=\"129\" y=\"-726.8\" font-family=\"Times,serif\" font-size=\"14.00\">result[0]</text>\n<polygon fill=\"none\" stroke=\"black\" points=\"91.5,-699 91.5,-720 125.5,-720 125.5,-699 91.5,-699\"/>\n<polygon fill=\"none\" stroke=\"black\" points=\"125.5,-699 125.5,-720 178.5,-720 178.5,-699 125.5,-699\"/>\n<text text-anchor=\"start\" x=\"129\" y=\"-705.8\" font-family=\"Times,serif\" font-size=\"14.00\">result[1]</text>\n<polygon fill=\"none\" stroke=\"black\" points=\"91.5,-678 91.5,-699 125.5,-699 125.5,-678 91.5,-678\"/>\n<polygon fill=\"none\" stroke=\"black\" points=\"125.5,-678 125.5,-699 178.5,-699 178.5,-678 125.5,-678\"/>\n<text text-anchor=\"start\" x=\"129\" y=\"-684.8\" font-family=\"Times,serif\" font-size=\"14.00\">result[2]</text>\n<polygon fill=\"none\" stroke=\"black\" points=\"91.5,-657 91.5,-678 125.5,-678 125.5,-657 91.5,-657\"/>\n<polygon fill=\"none\" stroke=\"black\" points=\"125.5,-657 125.5,-678 178.5,-678 178.5,-657 125.5,-657\"/>\n<text text-anchor=\"start\" x=\"129\" y=\"-663.8\" font-family=\"Times,serif\" font-size=\"14.00\">result[3]</text>\n<polygon fill=\"none\" stroke=\"black\" points=\"91.5,-636 91.5,-657 125.5,-657 125.5,-636 91.5,-636\"/>\n<polygon fill=\"none\" stroke=\"black\" points=\"125.5,-636 125.5,-657 178.5,-657 178.5,-636 125.5,-636\"/>\n<text text-anchor=\"start\" x=\"129\" y=\"-642.8\" font-family=\"Times,serif\" font-size=\"14.00\">result[4]</text>\n<polygon fill=\"none\" stroke=\"black\" points=\"91.5,-615 91.5,-636 125.5,-636 125.5,-615 91.5,-615\"/>\n<polygon fill=\"none\" stroke=\"black\" points=\"125.5,-615 125.5,-636 178.5,-636 178.5,-615 125.5,-615\"/>\n<text text-anchor=\"start\" x=\"129\" y=\"-621.8\" font-family=\"Times,serif\" font-size=\"14.00\">result[5]</text>\n<polygon fill=\"none\" stroke=\"black\" points=\"91.5,-594 91.5,-615 125.5,-615 125.5,-594 91.5,-594\"/>\n<polygon fill=\"none\" stroke=\"black\" points=\"125.5,-594 125.5,-615 178.5,-615 178.5,-594 125.5,-594\"/>\n<text text-anchor=\"start\" x=\"129\" y=\"-600.8\" font-family=\"Times,serif\" font-size=\"14.00\">result[6]</text>\n<polygon fill=\"none\" stroke=\"black\" points=\"91.5,-573 91.5,-594 125.5,-594 125.5,-573 91.5,-573\"/>\n<polygon fill=\"none\" stroke=\"black\" points=\"125.5,-573 125.5,-594 178.5,-594 178.5,-573 125.5,-573\"/>\n<text text-anchor=\"start\" x=\"129\" y=\"-579.8\" font-family=\"Times,serif\" font-size=\"14.00\">result[7]</text>\n<polygon fill=\"none\" stroke=\"black\" points=\"91.5,-552 91.5,-573 125.5,-573 125.5,-552 91.5,-552\"/>\n<polygon fill=\"none\" stroke=\"black\" points=\"125.5,-552 125.5,-573 178.5,-573 178.5,-552 125.5,-552\"/>\n<text text-anchor=\"start\" x=\"132\" y=\"-558.8\" font-family=\"Times,serif\" font-size=\"14.00\">junk[0]</text>\n<polygon fill=\"none\" stroke=\"black\" points=\"91.5,-531 91.5,-552 125.5,-552 125.5,-531 91.5,-531\"/>\n<polygon fill=\"none\" stroke=\"black\" points=\"125.5,-531 125.5,-552 178.5,-552 178.5,-531 125.5,-531\"/>\n<text text-anchor=\"start\" x=\"132\" y=\"-537.8\" font-family=\"Times,serif\" font-size=\"14.00\">junk[1]</text>\n<polygon fill=\"none\" stroke=\"black\" points=\"91.5,-510 91.5,-531 125.5,-531 125.5,-510 91.5,-510\"/>\n<polygon fill=\"none\" stroke=\"black\" points=\"125.5,-510 125.5,-531 178.5,-531 178.5,-510 125.5,-510\"/>\n<text text-anchor=\"start\" x=\"132\" y=\"-516.8\" font-family=\"Times,serif\" font-size=\"14.00\">junk[2]</text>\n<polygon fill=\"none\" stroke=\"black\" points=\"91.5,-489 91.5,-510 125.5,-510 125.5,-489 91.5,-489\"/>\n<polygon fill=\"none\" stroke=\"black\" points=\"125.5,-489 125.5,-510 178.5,-510 178.5,-489 125.5,-489\"/>\n<text text-anchor=\"start\" x=\"132\" y=\"-495.8\" font-family=\"Times,serif\" font-size=\"14.00\">junk[3]</text>\n<polygon fill=\"none\" stroke=\"black\" points=\"91.5,-468 91.5,-489 125.5,-489 125.5,-468 91.5,-468\"/>\n<polygon fill=\"none\" stroke=\"black\" points=\"125.5,-468 125.5,-489 178.5,-489 178.5,-468 125.5,-468\"/>\n<text text-anchor=\"start\" x=\"132\" y=\"-474.8\" font-family=\"Times,serif\" font-size=\"14.00\">junk[4]</text>\n<polygon fill=\"none\" stroke=\"black\" points=\"91.5,-447 91.5,-468 125.5,-468 125.5,-447 91.5,-447\"/>\n<polygon fill=\"none\" stroke=\"black\" points=\"125.5,-447 125.5,-468 178.5,-468 178.5,-447 125.5,-447\"/>\n<text text-anchor=\"start\" x=\"132\" y=\"-453.8\" font-family=\"Times,serif\" font-size=\"14.00\">junk[5]</text>\n<polygon fill=\"none\" stroke=\"black\" points=\"91.5,-426 91.5,-447 125.5,-447 125.5,-426 91.5,-426\"/>\n<polygon fill=\"none\" stroke=\"black\" points=\"125.5,-426 125.5,-447 178.5,-447 178.5,-426 125.5,-426\"/>\n<text text-anchor=\"start\" x=\"132\" y=\"-432.8\" font-family=\"Times,serif\" font-size=\"14.00\">junk[6]</text>\n<polygon fill=\"none\" stroke=\"black\" points=\"91.5,-405 91.5,-426 125.5,-426 125.5,-405 91.5,-405\"/>\n<polygon fill=\"none\" stroke=\"black\" points=\"125.5,-405 125.5,-426 178.5,-426 178.5,-405 125.5,-405\"/>\n<text text-anchor=\"start\" x=\"132\" y=\"-411.8\" font-family=\"Times,serif\" font-size=\"14.00\">junk[7]</text>\n<polygon fill=\"none\" stroke=\"black\" points=\"91.5,-384 91.5,-405 125.5,-405 125.5,-384 91.5,-384\"/>\n<polygon fill=\"none\" stroke=\"black\" points=\"125.5,-384 125.5,-405 178.5,-405 178.5,-384 125.5,-384\"/>\n<text text-anchor=\"start\" x=\"132\" y=\"-390.8\" font-family=\"Times,serif\" font-size=\"14.00\">junk[8]</text>\n<polygon fill=\"none\" stroke=\"black\" points=\"91.5,-363 91.5,-384 125.5,-384 125.5,-363 91.5,-363\"/>\n<polygon fill=\"none\" stroke=\"black\" points=\"125.5,-363 125.5,-384 178.5,-384 178.5,-363 125.5,-363\"/>\n<text text-anchor=\"start\" x=\"132\" y=\"-369.8\" font-family=\"Times,serif\" font-size=\"14.00\">junk[9]</text>\n<polygon fill=\"none\" stroke=\"black\" points=\"91.5,-342 91.5,-363 125.5,-363 125.5,-342 91.5,-342\"/>\n<polygon fill=\"none\" stroke=\"black\" points=\"125.5,-342 125.5,-363 178.5,-363 178.5,-342 125.5,-342\"/>\n<text text-anchor=\"start\" x=\"128.5\" y=\"-348.8\" font-family=\"Times,serif\" font-size=\"14.00\">junk[10]</text>\n<polygon fill=\"none\" stroke=\"black\" points=\"91.5,-321 91.5,-342 125.5,-342 125.5,-321 91.5,-321\"/>\n<polygon fill=\"none\" stroke=\"black\" points=\"125.5,-321 125.5,-342 178.5,-342 178.5,-321 125.5,-321\"/>\n<text text-anchor=\"start\" x=\"128.5\" y=\"-327.8\" font-family=\"Times,serif\" font-size=\"14.00\">junk[11]</text>\n</g>\n<!-- xs_G49&#45;&gt;BitonicMerge -->\n<g id=\"edge1\" class=\"edge\">\n<title>xs_G49:e-&gt;BitonicMerge:w</title>\n<path fill=\"none\" stroke=\"black\" d=\"M54,-1014C80.11,-1014 65.03,-905.2 88.89,-899.25\"/>\n<ellipse fill=\"black\" stroke=\"black\" cx=\"90.01\" cy=\"-899.12\" rx=\"1\" ry=\"1\"/>\n<text text-anchor=\"middle\" x=\"72.5\" y=\"-962\" font-family=\"Times,serif\" font-size=\"10.00\">7</text>\n</g>\n<!-- xs_G17 -->\n<g id=\"node2\" class=\"node\">\n<title>xs_G17</title>\n<text text-anchor=\"middle\" x=\"27\" y=\"-956.3\" font-family=\"Times,serif\" font-size=\"14.00\">xs[1]</text>\n</g>\n<!-- xs_G17&#45;&gt;BitonicMerge -->\n<g id=\"edge2\" class=\"edge\">\n<title>xs_G17:e-&gt;BitonicMerge:w</title>\n<path fill=\"none\" stroke=\"black\" d=\"M54,-960C93.2,-960 52.66,-881.17 88.75,-878.09\"/>\n<ellipse fill=\"black\" stroke=\"black\" cx=\"90\" cy=\"-878.04\" rx=\"1\" ry=\"1\"/>\n<text text-anchor=\"middle\" x=\"72.5\" y=\"-945\" font-family=\"Times,serif\" font-size=\"10.00\">7</text>\n</g>\n<!-- xs_G24 -->\n<g id=\"node3\" class=\"node\">\n<title>xs_G24</title>\n<text text-anchor=\"middle\" x=\"27\" y=\"-902.3\" font-family=\"Times,serif\" font-size=\"14.00\">xs[2]</text>\n</g>\n<!-- xs_G24&#45;&gt;BitonicMerge -->\n<g id=\"edge3\" class=\"edge\">\n<title>xs_G24:e-&gt;BitonicMerge:w</title>\n<path fill=\"none\" stroke=\"black\" d=\"M54,-906C80.54,-906 64.64,-859.64 88.86,-857.11\"/>\n<ellipse fill=\"black\" stroke=\"black\" cx=\"90\" cy=\"-857.05\" rx=\"1\" ry=\"1\"/>\n<text text-anchor=\"middle\" x=\"72.5\" y=\"-885\" font-family=\"Times,serif\" font-size=\"10.00\">7</text>\n</g>\n<!-- xs_G31 -->\n<g id=\"node4\" class=\"node\">\n<title>xs_G31</title>\n<text text-anchor=\"middle\" x=\"27\" y=\"-848.3\" font-family=\"Times,serif\" font-size=\"14.00\">xs[3]</text>\n</g>\n<!-- xs_G31&#45;&gt;BitonicMerge -->\n<g id=\"edge4\" class=\"edge\">\n<title>xs_G31:e-&gt;BitonicMerge:w</title>\n<path fill=\"none\" stroke=\"black\" d=\"M54,-852C71.22,-852 72.97,-837.23 88.98,-836.07\"/>\n<ellipse fill=\"black\" stroke=\"black\" cx=\"90\" cy=\"-836.04\" rx=\"1\" ry=\"1\"/>\n<text text-anchor=\"middle\" x=\"72.5\" y=\"-847\" font-family=\"Times,serif\" font-size=\"10.00\">7</text>\n</g>\n<!-- ys_G40 -->\n<g id=\"node5\" class=\"node\">\n<title>ys_G40</title>\n<text text-anchor=\"middle\" x=\"27\" y=\"-794.3\" font-family=\"Times,serif\" font-size=\"14.00\">ys[0]</text>\n</g>\n<!-- ys_G40&#45;&gt;BitonicMerge -->\n<g id=\"edge5\" class=\"edge\">\n<title>ys_G40:e-&gt;BitonicMerge:w</title>\n<path fill=\"none\" stroke=\"black\" d=\"M54,-798C71.39,-798 72.81,-813.7 88.96,-814.92\"/>\n<ellipse fill=\"black\" stroke=\"black\" cx=\"90\" cy=\"-814.96\" rx=\"1\" ry=\"1\"/>\n<text text-anchor=\"middle\" x=\"72.5\" y=\"-809\" font-family=\"Times,serif\" font-size=\"10.00\">7</text>\n</g>\n<!-- ys_G7 -->\n<g id=\"node6\" class=\"node\">\n<title>ys_G7</title>\n<text text-anchor=\"middle\" x=\"27\" y=\"-740.3\" font-family=\"Times,serif\" font-size=\"14.00\">ys[1]</text>\n</g>\n<!-- ys_G7&#45;&gt;BitonicMerge -->\n<g id=\"edge6\" class=\"edge\">\n<title>ys_G7:e-&gt;BitonicMerge:w</title>\n<path fill=\"none\" stroke=\"black\" d=\"M54,-744C80.89,-744 64.32,-791.3 88.83,-793.89\"/>\n<ellipse fill=\"black\" stroke=\"black\" cx=\"90\" cy=\"-793.95\" rx=\"1\" ry=\"1\"/>\n<text text-anchor=\"middle\" x=\"72.5\" y=\"-773\" font-family=\"Times,serif\" font-size=\"10.00\">7</text>\n</g>\n<!-- ys_G13 -->\n<g id=\"node7\" class=\"node\">\n<title>ys_G13</title>\n<text text-anchor=\"middle\" x=\"27\" y=\"-686.3\" font-family=\"Times,serif\" font-size=\"14.00\">ys[2]</text>\n</g>\n<!-- ys_G13&#45;&gt;BitonicMerge -->\n<g id=\"edge7\" class=\"edge\">\n<title>ys_G13:e-&gt;BitonicMerge:w</title>\n<path fill=\"none\" stroke=\"black\" d=\"M54,-690C70.16,-690 66.09,-706.39 73,-721 83.12,-742.42 67.57,-771.14 88.83,-772.91\"/>\n<ellipse fill=\"black\" stroke=\"black\" cx=\"90\" cy=\"-772.96\" rx=\"1\" ry=\"1\"/>\n<text text-anchor=\"middle\" x=\"72.5\" y=\"-724\" font-family=\"Times,serif\" font-size=\"10.00\">7</text>\n</g>\n<!-- ys_G19 -->\n<g id=\"node8\" class=\"node\">\n<title>ys_G19</title>\n<text text-anchor=\"middle\" x=\"27\" y=\"-632.3\" font-family=\"Times,serif\" font-size=\"14.00\">ys[3]</text>\n</g>\n<!-- ys_G19&#45;&gt;BitonicMerge -->\n<g id=\"edge8\" class=\"edge\">\n<title>ys_G19:e-&gt;BitonicMerge:w</title>\n<path fill=\"none\" stroke=\"black\" d=\"M54,-636C70.16,-636 67.02,-651.99 73,-667 79.87,-684.24 72.33,-746.84 88.86,-751.7\"/>\n<ellipse fill=\"black\" stroke=\"black\" cx=\"90.01\" cy=\"-751.86\" rx=\"1\" ry=\"1\"/>\n<text text-anchor=\"middle\" x=\"72.5\" y=\"-670\" font-family=\"Times,serif\" font-size=\"10.00\">7</text>\n</g>\n<!-- result_G41 -->\n<g id=\"node10\" class=\"node\">\n<title>result_G41</title>\n<text text-anchor=\"middle\" x=\"246.5\" y=\"-1040.3\" font-family=\"Times,serif\" font-size=\"14.00\">result[0]</text>\n</g>\n<!-- BitonicMerge&#45;&gt;result_G41 -->\n<g id=\"edge9\" class=\"edge\">\n<title>BitonicMerge:e-&gt;result_G41:w</title>\n<path fill=\"none\" stroke=\"black\" d=\"M178,-731C194.89,-731 197.33,-1022.38 213.21,-1042.87\"/>\n<ellipse fill=\"black\" stroke=\"black\" cx=\"214.16\" cy=\"-1043.47\" rx=\"1\" ry=\"1\"/>\n<text text-anchor=\"middle\" x=\"196.5\" y=\"-890\" font-family=\"Times,serif\" font-size=\"10.00\">7</text>\n</g>\n<!-- result_G4 -->\n<g id=\"node11\" class=\"node\">\n<title>result_G4</title>\n<text text-anchor=\"middle\" x=\"246.5\" y=\"-986.3\" font-family=\"Times,serif\" font-size=\"14.00\">result[1]</text>\n</g>\n<!-- BitonicMerge&#45;&gt;result_G4 -->\n<g id=\"edge10\" class=\"edge\">\n<title>BitonicMerge:e-&gt;result_G4:w</title>\n<path fill=\"none\" stroke=\"black\" d=\"M178,-710C208.65,-710 184.79,-977.03 212.89,-989.55\"/>\n<ellipse fill=\"black\" stroke=\"black\" cx=\"214.02\" cy=\"-989.79\" rx=\"1\" ry=\"1\"/>\n<text text-anchor=\"middle\" x=\"196.5\" y=\"-869\" font-family=\"Times,serif\" font-size=\"10.00\">7</text>\n</g>\n<!-- result_G11 -->\n<g id=\"node12\" class=\"node\">\n<title>result_G11</title>\n<text text-anchor=\"middle\" x=\"246.5\" y=\"-932.3\" font-family=\"Times,serif\" font-size=\"14.00\">result[2]</text>\n</g>\n<!-- BitonicMerge&#45;&gt;result_G11 -->\n<g id=\"edge11\" class=\"edge\">\n<title>BitonicMerge:e-&gt;result_G11:w</title>\n<path fill=\"none\" stroke=\"black\" d=\"M178,-689C204.99,-689 188.23,-922.68 212.83,-935.46\"/>\n<ellipse fill=\"black\" stroke=\"black\" cx=\"214.03\" cy=\"-935.76\" rx=\"1\" ry=\"1\"/>\n<text text-anchor=\"middle\" x=\"196.5\" y=\"-822\" font-family=\"Times,serif\" font-size=\"10.00\">7</text>\n</g>\n<!-- result_G22 -->\n<g id=\"node13\" class=\"node\">\n<title>result_G22</title>\n<text text-anchor=\"middle\" x=\"246.5\" y=\"-878.3\" font-family=\"Times,serif\" font-size=\"14.00\">result[3]</text>\n</g>\n<!-- BitonicMerge&#45;&gt;result_G22 -->\n<g id=\"edge12\" class=\"edge\">\n<title>BitonicMerge:e-&gt;result_G22:w</title>\n<path fill=\"none\" stroke=\"black\" d=\"M178,-668C201.38,-668 191.54,-868.83 212.84,-881.39\"/>\n<ellipse fill=\"black\" stroke=\"black\" cx=\"214.04\" cy=\"-881.73\" rx=\"1\" ry=\"1\"/>\n<text text-anchor=\"middle\" x=\"196.5\" y=\"-784\" font-family=\"Times,serif\" font-size=\"10.00\">7</text>\n</g>\n<!-- result_G30 -->\n<g id=\"node14\" class=\"node\">\n<title>result_G30</title>\n<text text-anchor=\"middle\" x=\"246.5\" y=\"-824.3\" font-family=\"Times,serif\" font-size=\"14.00\">result[4]</text>\n</g>\n<!-- BitonicMerge&#45;&gt;result_G30 -->\n<g id=\"edge13\" class=\"edge\">\n<title>BitonicMerge:e-&gt;result_G30:w</title>\n<path fill=\"none\" stroke=\"black\" d=\"M178,-647C197.73,-647 194.75,-814.14 212.7,-827.19\"/>\n<ellipse fill=\"black\" stroke=\"black\" cx=\"214.06\" cy=\"-827.67\" rx=\"1\" ry=\"1\"/>\n<text text-anchor=\"middle\" x=\"196.5\" y=\"-745\" font-family=\"Times,serif\" font-size=\"10.00\">7</text>\n</g>\n<!-- result_G51 -->\n<g id=\"node15\" class=\"node\">\n<title>result_G51</title>\n<text text-anchor=\"middle\" x=\"246.5\" y=\"-770.3\" font-family=\"Times,serif\" font-size=\"14.00\">result[5]</text>\n</g>\n<!-- BitonicMerge&#45;&gt;result_G51 -->\n<g id=\"edge14\" class=\"edge\">\n<title>BitonicMerge:e-&gt;result_G51:w</title>\n<path fill=\"none\" stroke=\"black\" d=\"M178,-626C211.11,-626 182.51,-767.14 212.72,-773.76\"/>\n<ellipse fill=\"black\" stroke=\"black\" cx=\"214.01\" cy=\"-773.9\" rx=\"1\" ry=\"1\"/>\n<text text-anchor=\"middle\" x=\"196.5\" y=\"-720\" font-family=\"Times,serif\" font-size=\"10.00\">7</text>\n</g>\n<!-- result_G2 -->\n<g id=\"node16\" class=\"node\">\n<title>result_G2</title>\n<text text-anchor=\"middle\" x=\"246.5\" y=\"-716.3\" font-family=\"Times,serif\" font-size=\"14.00\">result[6]</text>\n</g>\n<!-- BitonicMerge&#45;&gt;result_G2 -->\n<g id=\"edge15\" class=\"edge\">\n<title>BitonicMerge:e-&gt;result_G2:w</title>\n<path fill=\"none\" stroke=\"black\" d=\"M178,-604C204.32,-604 188.85,-713.74 212.88,-719.74\"/>\n<ellipse fill=\"black\" stroke=\"black\" cx=\"214.01\" cy=\"-719.88\" rx=\"1\" ry=\"1\"/>\n<text text-anchor=\"middle\" x=\"196.5\" y=\"-668\" font-family=\"Times,serif\" font-size=\"10.00\">7</text>\n</g>\n<!-- result_G10 -->\n<g id=\"node17\" class=\"node\">\n<title>result_G10</title>\n<text text-anchor=\"middle\" x=\"246.5\" y=\"-662.3\" font-family=\"Times,serif\" font-size=\"14.00\">result[7]</text>\n</g>\n<!-- BitonicMerge&#45;&gt;result_G10 -->\n<g id=\"edge16\" class=\"edge\">\n<title>BitonicMerge:e-&gt;result_G10:w</title>\n<path fill=\"none\" stroke=\"black\" d=\"M178,-583C217.6,-583 176.29,-662.79 212.73,-665.91\"/>\n<ellipse fill=\"black\" stroke=\"black\" cx=\"214\" cy=\"-665.96\" rx=\"1\" ry=\"1\"/>\n<text text-anchor=\"middle\" x=\"196.5\" y=\"-651\" font-family=\"Times,serif\" font-size=\"10.00\">7</text>\n</g>\n<!-- junk_G5 -->\n<g id=\"node18\" class=\"node\">\n<title>junk_G5</title>\n<text text-anchor=\"middle\" x=\"246.5\" y=\"-608.3\" font-family=\"Times,serif\" font-size=\"14.00\">junk[0]</text>\n</g>\n<!-- BitonicMerge&#45;&gt;junk_G5 -->\n<g id=\"edge17\" class=\"edge\">\n<title>BitonicMerge:e-&gt;junk_G5:w</title>\n<path fill=\"none\" stroke=\"black\" d=\"M178,-562C205.55,-562 190.08,-609.3 215.28,-611.89\"/>\n<ellipse fill=\"black\" stroke=\"black\" cx=\"216.5\" cy=\"-611.95\" rx=\"1\" ry=\"1\"/>\n<text text-anchor=\"middle\" x=\"196.5\" y=\"-585\" font-family=\"Times,serif\" font-size=\"10.00\">1</text>\n</g>\n<!-- junk_G33 -->\n<g id=\"node19\" class=\"node\">\n<title>junk_G33</title>\n<text text-anchor=\"middle\" x=\"246.5\" y=\"-554.3\" font-family=\"Times,serif\" font-size=\"14.00\">junk[1]</text>\n</g>\n<!-- BitonicMerge&#45;&gt;junk_G33 -->\n<g id=\"edge18\" class=\"edge\">\n<title>BitonicMerge:e-&gt;junk_G33:w</title>\n<path fill=\"none\" stroke=\"black\" d=\"M178,-541C196.37,-541 198.26,-556.7 215.34,-557.92\"/>\n<ellipse fill=\"black\" stroke=\"black\" cx=\"216.5\" cy=\"-557.96\" rx=\"1\" ry=\"1\"/>\n<text text-anchor=\"middle\" x=\"196.5\" y=\"-551\" font-family=\"Times,serif\" font-size=\"10.00\">1</text>\n</g>\n<!-- junk_G37 -->\n<g id=\"node20\" class=\"node\">\n<title>junk_G37</title>\n<text text-anchor=\"middle\" x=\"246.5\" y=\"-500.3\" font-family=\"Times,serif\" font-size=\"14.00\">junk[2]</text>\n</g>\n<!-- BitonicMerge&#45;&gt;junk_G37 -->\n<g id=\"edge19\" class=\"edge\">\n<title>BitonicMerge:e-&gt;junk_G37:w</title>\n<path fill=\"none\" stroke=\"black\" d=\"M178,-520C196.2,-520 198.41,-505.23 215.36,-504.07\"/>\n<ellipse fill=\"black\" stroke=\"black\" cx=\"216.5\" cy=\"-504.03\" rx=\"1\" ry=\"1\"/>\n<text text-anchor=\"middle\" x=\"196.5\" y=\"-515\" font-family=\"Times,serif\" font-size=\"10.00\">1</text>\n</g>\n<!-- junk_G46 -->\n<g id=\"node21\" class=\"node\">\n<title>junk_G46</title>\n<text text-anchor=\"middle\" x=\"246.5\" y=\"-446.3\" font-family=\"Times,serif\" font-size=\"14.00\">junk[3]</text>\n</g>\n<!-- BitonicMerge&#45;&gt;junk_G46 -->\n<g id=\"edge20\" class=\"edge\">\n<title>BitonicMerge:e-&gt;junk_G46:w</title>\n<path fill=\"none\" stroke=\"black\" d=\"M178,-499C205.21,-499 190.39,-452.64 215.3,-450.11\"/>\n<ellipse fill=\"black\" stroke=\"black\" cx=\"216.5\" cy=\"-450.05\" rx=\"1\" ry=\"1\"/>\n<text text-anchor=\"middle\" x=\"196.5\" y=\"-483\" font-family=\"Times,serif\" font-size=\"10.00\">1</text>\n</g>\n<!-- junk_G52 -->\n<g id=\"node22\" class=\"node\">\n<title>junk_G52</title>\n<text text-anchor=\"middle\" x=\"246.5\" y=\"-392.3\" font-family=\"Times,serif\" font-size=\"14.00\">junk[4]</text>\n</g>\n<!-- BitonicMerge&#45;&gt;junk_G52 -->\n<g id=\"edge21\" class=\"edge\">\n<title>BitonicMerge:e-&gt;junk_G52:w</title>\n<path fill=\"none\" stroke=\"black\" d=\"M178,-478C217.66,-478 178.63,-399.17 215.22,-396.09\"/>\n<ellipse fill=\"black\" stroke=\"black\" cx=\"216.5\" cy=\"-396.04\" rx=\"1\" ry=\"1\"/>\n<text text-anchor=\"middle\" x=\"196.5\" y=\"-465\" font-family=\"Times,serif\" font-size=\"10.00\">1</text>\n</g>\n<!-- junk_G20 -->\n<g id=\"node23\" class=\"node\">\n<title>junk_G20</title>\n<text text-anchor=\"middle\" x=\"246.5\" y=\"-338.3\" font-family=\"Times,serif\" font-size=\"14.00\">junk[5]</text>\n</g>\n<!-- BitonicMerge&#45;&gt;junk_G20 -->\n<g id=\"edge22\" class=\"edge\">\n<title>BitonicMerge:e-&gt;junk_G20:w</title>\n<path fill=\"none\" stroke=\"black\" d=\"M178,-457C231.3,-457 165.31,-345.12 215.35,-342.06\"/>\n<ellipse fill=\"black\" stroke=\"black\" cx=\"216.5\" cy=\"-342.03\" rx=\"1\" ry=\"1\"/>\n<text text-anchor=\"middle\" x=\"196.5\" y=\"-450\" font-family=\"Times,serif\" font-size=\"10.00\">1</text>\n</g>\n<!-- junk_G26 -->\n<g id=\"node24\" class=\"node\">\n<title>junk_G26</title>\n<text text-anchor=\"middle\" x=\"246.5\" y=\"-284.3\" font-family=\"Times,serif\" font-size=\"14.00\">junk[6]</text>\n</g>\n<!-- BitonicMerge&#45;&gt;junk_G26 -->\n<g id=\"edge23\" class=\"edge\">\n<title>BitonicMerge:e-&gt;junk_G26:w</title>\n<path fill=\"none\" stroke=\"black\" d=\"M178,-436C196.87,-436 191.03,-371.21 196,-353 203.83,-324.33 187.85,-289.67 215.44,-288.06\"/>\n<ellipse fill=\"black\" stroke=\"black\" cx=\"216.5\" cy=\"-288.03\" rx=\"1\" ry=\"1\"/>\n<text text-anchor=\"middle\" x=\"196.5\" y=\"-356\" font-family=\"Times,serif\" font-size=\"10.00\">1</text>\n</g>\n<!-- junk_G34 -->\n<g id=\"node25\" class=\"node\">\n<title>junk_G34</title>\n<text text-anchor=\"middle\" x=\"246.5\" y=\"-230.3\" font-family=\"Times,serif\" font-size=\"14.00\">junk[7]</text>\n</g>\n<!-- BitonicMerge&#45;&gt;junk_G34 -->\n<g id=\"edge24\" class=\"edge\">\n<title>BitonicMerge:e-&gt;junk_G34:w</title>\n<path fill=\"none\" stroke=\"black\" d=\"M178,-415C197.78,-415 197.01,-247.86 215.19,-234.81\"/>\n<ellipse fill=\"black\" stroke=\"black\" cx=\"216.56\" cy=\"-234.33\" rx=\"1\" ry=\"1\"/>\n<text text-anchor=\"middle\" x=\"196.5\" y=\"-343\" font-family=\"Times,serif\" font-size=\"10.00\">1</text>\n</g>\n<!-- junk_G44 -->\n<g id=\"node26\" class=\"node\">\n<title>junk_G44</title>\n<text text-anchor=\"middle\" x=\"246.5\" y=\"-176.3\" font-family=\"Times,serif\" font-size=\"14.00\">junk[8]</text>\n</g>\n<!-- BitonicMerge&#45;&gt;junk_G44 -->\n<g id=\"edge25\" class=\"edge\">\n<title>BitonicMerge:e-&gt;junk_G44:w</title>\n<path fill=\"none\" stroke=\"black\" d=\"M178,-394C201.42,-394 193.84,-193.17 215.33,-180.61\"/>\n<ellipse fill=\"black\" stroke=\"black\" cx=\"216.54\" cy=\"-180.27\" rx=\"1\" ry=\"1\"/>\n<text text-anchor=\"middle\" x=\"196.5\" y=\"-309\" font-family=\"Times,serif\" font-size=\"10.00\">1</text>\n</g>\n<!-- junk_G47 -->\n<g id=\"node27\" class=\"node\">\n<title>junk_G47</title>\n<text text-anchor=\"middle\" x=\"246.5\" y=\"-122.3\" font-family=\"Times,serif\" font-size=\"14.00\">junk[9]</text>\n</g>\n<!-- BitonicMerge&#45;&gt;junk_G47 -->\n<g id=\"edge26\" class=\"edge\">\n<title>BitonicMerge:e-&gt;junk_G47:w</title>\n<path fill=\"none\" stroke=\"black\" d=\"M178,-373C205.03,-373 190.55,-139.32 215.32,-126.54\"/>\n<ellipse fill=\"black\" stroke=\"black\" cx=\"216.53\" cy=\"-126.24\" rx=\"1\" ry=\"1\"/>\n<text text-anchor=\"middle\" x=\"196.5\" y=\"-281\" font-family=\"Times,serif\" font-size=\"10.00\">1</text>\n</g>\n<!-- junk_G14 -->\n<g id=\"node28\" class=\"node\">\n<title>junk_G14</title>\n<text text-anchor=\"middle\" x=\"246.5\" y=\"-68.3\" font-family=\"Times,serif\" font-size=\"14.00\">junk[10]</text>\n</g>\n<!-- BitonicMerge&#45;&gt;junk_G14 -->\n<g id=\"edge27\" class=\"edge\">\n<title>BitonicMerge:e-&gt;junk_G14:w</title>\n<path fill=\"none\" stroke=\"black\" d=\"M178,-352C208.65,-352 184.79,-84.97 212.89,-72.45\"/>\n<ellipse fill=\"black\" stroke=\"black\" cx=\"214.02\" cy=\"-72.21\" rx=\"1\" ry=\"1\"/>\n<text text-anchor=\"middle\" x=\"196.5\" y=\"-232\" font-family=\"Times,serif\" font-size=\"10.00\">1</text>\n</g>\n<!-- junk_G21 -->\n<g id=\"node29\" class=\"node\">\n<title>junk_G21</title>\n<text text-anchor=\"middle\" x=\"246.5\" y=\"-14.3\" font-family=\"Times,serif\" font-size=\"14.00\">junk[11]</text>\n</g>\n<!-- BitonicMerge&#45;&gt;junk_G21 -->\n<g id=\"edge28\" class=\"edge\">\n<title>BitonicMerge:e-&gt;junk_G21:w</title>\n<path fill=\"none\" stroke=\"black\" d=\"M178,-331C194.89,-331 197.33,-39.62 213.21,-19.13\"/>\n<ellipse fill=\"black\" stroke=\"black\" cx=\"214.16\" cy=\"-18.53\" rx=\"1\" ry=\"1\"/>\n<text text-anchor=\"middle\" x=\"196.5\" y=\"-178\" font-family=\"Times,serif\" font-size=\"10.00\">1</text>\n</g>\n</g>\n</svg>",
          "text/plain": "<IPython.core.display.SVG object>"
         },
         "metadata": {},
         "output_type": "display_data"
        }
       ],
       "tabbable": null,
       "tooltip": null
      }
     },
     "434cfddda3724ae1be88ac6ca41f6901": {
      "model_module": "@jupyter-widgets/output",
      "model_module_version": "1.0.0",
      "model_name": "OutputModel",
      "state": {
       "_dom_classes": [],
       "_model_module": "@jupyter-widgets/output",
       "_model_module_version": "1.0.0",
       "_model_name": "OutputModel",
       "_view_count": null,
       "_view_module": "@jupyter-widgets/output",
       "_view_module_version": "1.0.0",
       "_view_name": "OutputView",
       "layout": "IPY_MODEL_0d47c03667934301be6af24c21f7fb5b",
       "msg_id": "",
       "outputs": [
        {
         "data": {
          "text/markdown": "`comparator_symb`",
          "text/plain": "<IPython.core.display.Markdown object>"
         },
         "metadata": {},
         "output_type": "display_data"
        },
        {
         "data": {
          "image/svg+xml": "<svg xmlns=\"http://www.w3.org/2000/svg\" xmlns:xlink=\"http://www.w3.org/1999/xlink\" width=\"245pt\" height=\"152pt\" viewBox=\"0.00 0.00 245.00 152.00\">\n<g id=\"graph0\" class=\"graph\" transform=\"scale(1 1) rotate(0) translate(4 148)\">\n<title>my_graph</title>\n<polygon fill=\"white\" stroke=\"transparent\" points=\"-4,4 -4,-148 241,-148 241,4 -4,4\"/>\n<!-- a_G2 -->\n<g id=\"node1\" class=\"node\">\n<title>a_G2</title>\n<text text-anchor=\"middle\" x=\"27\" y=\"-106.3\" font-family=\"Times,serif\" font-size=\"14.00\">a</text>\n</g>\n<!-- Comparator -->\n<g id=\"node3\" class=\"node\">\n<title>Comparator</title>\n<polygon fill=\"none\" stroke=\"black\" points=\"91.5,-104 91.5,-121 146.5,-121 146.5,-104 91.5,-104\"/>\n<text text-anchor=\"start\" x=\"94.5\" y=\"-110\" font-family=\"Times,serif\" font-size=\"10.00\">Comparator</text>\n<polygon fill=\"none\" stroke=\"black\" points=\"91.5,-83 91.5,-104 146.5,-104 146.5,-83 91.5,-83\"/>\n<text text-anchor=\"start\" x=\"115.5\" y=\"-89.8\" font-family=\"Times,serif\" font-size=\"14.00\">a</text>\n<polygon fill=\"none\" stroke=\"black\" points=\"91.5,-62 91.5,-83 146.5,-83 146.5,-62 91.5,-62\"/>\n<text text-anchor=\"start\" x=\"115.5\" y=\"-68.8\" font-family=\"Times,serif\" font-size=\"14.00\">b</text>\n<polygon fill=\"none\" stroke=\"black\" points=\"91.5,-41 91.5,-62 109.5,-62 109.5,-41 91.5,-41\"/>\n<polygon fill=\"none\" stroke=\"black\" points=\"109.5,-41 109.5,-62 146.5,-62 146.5,-41 109.5,-41\"/>\n<text text-anchor=\"start\" x=\"119\" y=\"-47.8\" font-family=\"Times,serif\" font-size=\"14.00\">out</text>\n</g>\n<!-- a_G2&#45;&gt;Comparator -->\n<g id=\"edge1\" class=\"edge\">\n<title>a_G2:e-&gt;Comparator:w</title>\n<path fill=\"none\" stroke=\"black\" d=\"M54,-110C71.22,-110 72.97,-95.23 88.98,-94.07\"/>\n<ellipse fill=\"black\" stroke=\"black\" cx=\"90\" cy=\"-94.04\" rx=\"1\" ry=\"1\"/>\n<text text-anchor=\"middle\" x=\"72.5\" y=\"-105\" font-family=\"Times,serif\" font-size=\"10.00\">n</text>\n</g>\n<!-- b_G0 -->\n<g id=\"node2\" class=\"node\">\n<title>b_G0</title>\n<text text-anchor=\"middle\" x=\"27\" y=\"-52.3\" font-family=\"Times,serif\" font-size=\"14.00\">b</text>\n</g>\n<!-- b_G0&#45;&gt;Comparator -->\n<g id=\"edge2\" class=\"edge\">\n<title>b_G0:e-&gt;Comparator:w</title>\n<path fill=\"none\" stroke=\"black\" d=\"M54,-56C71.22,-56 72.97,-70.77 88.98,-71.93\"/>\n<ellipse fill=\"black\" stroke=\"black\" cx=\"90\" cy=\"-71.96\" rx=\"1\" ry=\"1\"/>\n<text text-anchor=\"middle\" x=\"72.5\" y=\"-68\" font-family=\"Times,serif\" font-size=\"10.00\">n</text>\n</g>\n<!-- a_G4 -->\n<g id=\"node4\" class=\"node\">\n<title>a_G4</title>\n<text text-anchor=\"middle\" x=\"210\" y=\"-122.3\" font-family=\"Times,serif\" font-size=\"14.00\">a</text>\n</g>\n<!-- Comparator&#45;&gt;a_G4 -->\n<g id=\"edge3\" class=\"edge\">\n<title>Comparator:e-&gt;a_G4:w</title>\n<path fill=\"none\" stroke=\"black\" d=\"M146,-94C166.89,-94 161.72,-123.55 180.58,-125.86\"/>\n<ellipse fill=\"black\" stroke=\"black\" cx=\"182\" cy=\"-125.94\" rx=\"1\" ry=\"1\"/>\n<text text-anchor=\"middle\" x=\"164.5\" y=\"-113\" font-family=\"Times,serif\" font-size=\"10.00\">n</text>\n</g>\n<!-- b_G1 -->\n<g id=\"node5\" class=\"node\">\n<title>b_G1</title>\n<text text-anchor=\"middle\" x=\"210\" y=\"-68.3\" font-family=\"Times,serif\" font-size=\"14.00\">b</text>\n</g>\n<!-- Comparator&#45;&gt;b_G1 -->\n<g id=\"edge4\" class=\"edge\">\n<title>Comparator:e-&gt;b_G1:w</title>\n<path fill=\"none\" stroke=\"black\" d=\"M146,-72C161.67,-72 166.14,-72 180.77,-72\"/>\n<ellipse fill=\"black\" stroke=\"black\" cx=\"182\" cy=\"-72\" rx=\"1\" ry=\"1\"/>\n<text text-anchor=\"middle\" x=\"164.5\" y=\"-75\" font-family=\"Times,serif\" font-size=\"10.00\">n</text>\n</g>\n<!-- out_G6 -->\n<g id=\"node6\" class=\"node\">\n<title>out_G6</title>\n<text text-anchor=\"middle\" x=\"210\" y=\"-14.3\" font-family=\"Times,serif\" font-size=\"14.00\">out</text>\n</g>\n<!-- Comparator&#45;&gt;out_G6 -->\n<g id=\"edge5\" class=\"edge\">\n<title>Comparator:e-&gt;out_G6:w</title>\n<path fill=\"none\" stroke=\"black\" d=\"M146,-51C167.17,-51 161.47,-20.53 180.55,-18.15\"/>\n<ellipse fill=\"black\" stroke=\"black\" cx=\"182\" cy=\"-18.06\" rx=\"1\" ry=\"1\"/>\n<text text-anchor=\"middle\" x=\"164.5\" y=\"-39\" font-family=\"Times,serif\" font-size=\"10.00\">1</text>\n</g>\n</g>\n</svg>",
          "text/plain": "<IPython.core.display.SVG object>"
         },
         "metadata": {},
         "output_type": "display_data"
        }
       ],
       "tabbable": null,
       "tooltip": null
      }
     },
     "4995e19f75f440cfaf3b34e775ffcead": {
      "model_module": "@jupyter-widgets/output",
      "model_module_version": "1.0.0",
      "model_name": "OutputModel",
      "state": {
       "_dom_classes": [],
       "_model_module": "@jupyter-widgets/output",
       "_model_module_version": "1.0.0",
       "_model_name": "OutputModel",
       "_view_count": null,
       "_view_module": "@jupyter-widgets/output",
       "_view_module_version": "1.0.0",
       "_view_name": "OutputView",
       "layout": "IPY_MODEL_d9ad7aa844b041979d0a6cd5dfe0ac3b",
       "msg_id": "",
       "outputs": [
        {
         "data": {
          "text/markdown": "`bitonic_sort_symb`",
          "text/plain": "<IPython.core.display.Markdown object>"
         },
         "metadata": {},
         "output_type": "display_data"
        },
        {
         "data": {
          "image/svg+xml": "<svg xmlns=\"http://www.w3.org/2000/svg\" xmlns:xlink=\"http://www.w3.org/1999/xlink\" width=\"246pt\" height=\"530pt\" viewBox=\"0.00 0.00 246.00 530.00\">\n<g id=\"graph0\" class=\"graph\" transform=\"scale(1 1) rotate(0) translate(4 526)\">\n<title>my_graph</title>\n<polygon fill=\"white\" stroke=\"transparent\" points=\"-4,4 -4,-526 242,-526 242,4 -4,4\"/>\n<!-- xs_G17 -->\n<g id=\"node1\" class=\"node\">\n<title>xs_G17</title>\n<text text-anchor=\"middle\" x=\"27\" y=\"-401.3\" font-family=\"Times,serif\" font-size=\"14.00\">xs[0]</text>\n</g>\n<!-- BitonicSort -->\n<g id=\"node5\" class=\"node\">\n<title>BitonicSort</title>\n<polygon fill=\"none\" stroke=\"black\" points=\"91,-366 91,-383 145,-383 145,-366 91,-366\"/>\n<text text-anchor=\"start\" x=\"94\" y=\"-372\" font-family=\"Times,serif\" font-size=\"10.00\">BitonicSort</text>\n<polygon fill=\"none\" stroke=\"black\" points=\"91,-345 91,-366 145,-366 145,-345 91,-345\"/>\n<text text-anchor=\"start\" x=\"104\" y=\"-351.8\" font-family=\"Times,serif\" font-size=\"14.00\">xs[0]</text>\n<polygon fill=\"none\" stroke=\"black\" points=\"91,-324 91,-345 145,-345 145,-324 91,-324\"/>\n<text text-anchor=\"start\" x=\"104\" y=\"-330.8\" font-family=\"Times,serif\" font-size=\"14.00\">xs[1]</text>\n<polygon fill=\"none\" stroke=\"black\" points=\"91,-303 91,-324 145,-324 145,-303 91,-303\"/>\n<text text-anchor=\"start\" x=\"104\" y=\"-309.8\" font-family=\"Times,serif\" font-size=\"14.00\">xs[2]</text>\n<polygon fill=\"none\" stroke=\"black\" points=\"91,-282 91,-303 145,-303 145,-282 91,-282\"/>\n<text text-anchor=\"start\" x=\"104\" y=\"-288.8\" font-family=\"Times,serif\" font-size=\"14.00\">xs[3]</text>\n<polygon fill=\"none\" stroke=\"black\" points=\"91,-261 91,-282 98,-282 98,-261 91,-261\"/>\n<polygon fill=\"none\" stroke=\"black\" points=\"98,-261 98,-282 145,-282 145,-261 98,-261\"/>\n<text text-anchor=\"start\" x=\"101.5\" y=\"-267.8\" font-family=\"Times,serif\" font-size=\"14.00\">junk[0]</text>\n<polygon fill=\"none\" stroke=\"black\" points=\"91,-240 91,-261 98,-261 98,-240 91,-240\"/>\n<polygon fill=\"none\" stroke=\"black\" points=\"98,-240 98,-261 145,-261 145,-240 98,-240\"/>\n<text text-anchor=\"start\" x=\"101.5\" y=\"-246.8\" font-family=\"Times,serif\" font-size=\"14.00\">junk[1]</text>\n<polygon fill=\"none\" stroke=\"black\" points=\"91,-219 91,-240 98,-240 98,-219 91,-219\"/>\n<polygon fill=\"none\" stroke=\"black\" points=\"98,-219 98,-240 145,-240 145,-219 98,-219\"/>\n<text text-anchor=\"start\" x=\"101.5\" y=\"-225.8\" font-family=\"Times,serif\" font-size=\"14.00\">junk[2]</text>\n<polygon fill=\"none\" stroke=\"black\" points=\"91,-198 91,-219 98,-219 98,-198 91,-198\"/>\n<polygon fill=\"none\" stroke=\"black\" points=\"98,-198 98,-219 145,-219 145,-198 98,-198\"/>\n<text text-anchor=\"start\" x=\"101.5\" y=\"-204.8\" font-family=\"Times,serif\" font-size=\"14.00\">junk[3]</text>\n<polygon fill=\"none\" stroke=\"black\" points=\"91,-177 91,-198 98,-198 98,-177 91,-177\"/>\n<polygon fill=\"none\" stroke=\"black\" points=\"98,-177 98,-198 145,-198 145,-177 98,-177\"/>\n<text text-anchor=\"start\" x=\"101.5\" y=\"-183.8\" font-family=\"Times,serif\" font-size=\"14.00\">junk[4]</text>\n<polygon fill=\"none\" stroke=\"black\" points=\"91,-156 91,-177 98,-177 98,-156 91,-156\"/>\n<polygon fill=\"none\" stroke=\"black\" points=\"98,-156 98,-177 145,-177 145,-156 98,-156\"/>\n<text text-anchor=\"start\" x=\"101.5\" y=\"-162.8\" font-family=\"Times,serif\" font-size=\"14.00\">junk[5]</text>\n</g>\n<!-- xs_G17&#45;&gt;BitonicSort -->\n<g id=\"edge1\" class=\"edge\">\n<title>xs_G17:e-&gt;BitonicSort:w</title>\n<path fill=\"none\" stroke=\"black\" d=\"M54,-405C80.54,-405 64.64,-358.64 88.86,-356.11\"/>\n<ellipse fill=\"black\" stroke=\"black\" cx=\"90\" cy=\"-356.05\" rx=\"1\" ry=\"1\"/>\n<text text-anchor=\"middle\" x=\"72.5\" y=\"-384\" font-family=\"Times,serif\" font-size=\"10.00\">n</text>\n</g>\n<!-- xs_G14 -->\n<g id=\"node2\" class=\"node\">\n<title>xs_G14</title>\n<text text-anchor=\"middle\" x=\"27\" y=\"-347.3\" font-family=\"Times,serif\" font-size=\"14.00\">xs[1]</text>\n</g>\n<!-- xs_G14&#45;&gt;BitonicSort -->\n<g id=\"edge2\" class=\"edge\">\n<title>xs_G14:e-&gt;BitonicSort:w</title>\n<path fill=\"none\" stroke=\"black\" d=\"M54,-351C71.22,-351 72.97,-336.23 88.98,-335.07\"/>\n<ellipse fill=\"black\" stroke=\"black\" cx=\"90\" cy=\"-335.04\" rx=\"1\" ry=\"1\"/>\n<text text-anchor=\"middle\" x=\"72.5\" y=\"-346\" font-family=\"Times,serif\" font-size=\"10.00\">n</text>\n</g>\n<!-- xs_G21 -->\n<g id=\"node3\" class=\"node\">\n<title>xs_G21</title>\n<text text-anchor=\"middle\" x=\"27\" y=\"-293.3\" font-family=\"Times,serif\" font-size=\"14.00\">xs[2]</text>\n</g>\n<!-- xs_G21&#45;&gt;BitonicSort -->\n<g id=\"edge3\" class=\"edge\">\n<title>xs_G21:e-&gt;BitonicSort:w</title>\n<path fill=\"none\" stroke=\"black\" d=\"M54,-297C71.39,-297 72.81,-312.7 88.96,-313.92\"/>\n<ellipse fill=\"black\" stroke=\"black\" cx=\"90\" cy=\"-313.96\" rx=\"1\" ry=\"1\"/>\n<text text-anchor=\"middle\" x=\"72.5\" y=\"-308\" font-family=\"Times,serif\" font-size=\"10.00\">n</text>\n</g>\n<!-- xs_G4 -->\n<g id=\"node4\" class=\"node\">\n<title>xs_G4</title>\n<text text-anchor=\"middle\" x=\"27\" y=\"-239.3\" font-family=\"Times,serif\" font-size=\"14.00\">xs[3]</text>\n</g>\n<!-- xs_G4&#45;&gt;BitonicSort -->\n<g id=\"edge4\" class=\"edge\">\n<title>xs_G4:e-&gt;BitonicSort:w</title>\n<path fill=\"none\" stroke=\"black\" d=\"M54,-243C80.89,-243 64.32,-290.3 88.83,-292.89\"/>\n<ellipse fill=\"black\" stroke=\"black\" cx=\"90\" cy=\"-292.95\" rx=\"1\" ry=\"1\"/>\n<text text-anchor=\"middle\" x=\"72.5\" y=\"-272\" font-family=\"Times,serif\" font-size=\"10.00\">n</text>\n</g>\n<!-- xs_G13 -->\n<g id=\"node6\" class=\"node\">\n<title>xs_G13</title>\n<text text-anchor=\"middle\" x=\"210\" y=\"-500.3\" font-family=\"Times,serif\" font-size=\"14.00\">xs[0]</text>\n</g>\n<!-- BitonicSort&#45;&gt;xs_G13 -->\n<g id=\"edge5\" class=\"edge\">\n<title>BitonicSort:e-&gt;xs_G13:w</title>\n<path fill=\"none\" stroke=\"black\" d=\"M145,-356C178.11,-356 149.51,-497.14 179.72,-503.76\"/>\n<ellipse fill=\"black\" stroke=\"black\" cx=\"181.01\" cy=\"-503.9\" rx=\"1\" ry=\"1\"/>\n<text text-anchor=\"middle\" x=\"163.5\" y=\"-450\" font-family=\"Times,serif\" font-size=\"10.00\">n</text>\n</g>\n<!-- xs_G20 -->\n<g id=\"node7\" class=\"node\">\n<title>xs_G20</title>\n<text text-anchor=\"middle\" x=\"210\" y=\"-446.3\" font-family=\"Times,serif\" font-size=\"14.00\">xs[1]</text>\n</g>\n<!-- BitonicSort&#45;&gt;xs_G20 -->\n<g id=\"edge6\" class=\"edge\">\n<title>BitonicSort:e-&gt;xs_G20:w</title>\n<path fill=\"none\" stroke=\"black\" d=\"M145,-335C171.11,-335 156.03,-443.8 179.89,-449.75\"/>\n<ellipse fill=\"black\" stroke=\"black\" cx=\"181.01\" cy=\"-449.88\" rx=\"1\" ry=\"1\"/>\n<text text-anchor=\"middle\" x=\"163.5\" y=\"-398\" font-family=\"Times,serif\" font-size=\"10.00\">n</text>\n</g>\n<!-- xs_G1 -->\n<g id=\"node8\" class=\"node\">\n<title>xs_G1</title>\n<text text-anchor=\"middle\" x=\"210\" y=\"-392.3\" font-family=\"Times,serif\" font-size=\"14.00\">xs[2]</text>\n</g>\n<!-- BitonicSort&#45;&gt;xs_G1 -->\n<g id=\"edge7\" class=\"edge\">\n<title>BitonicSort:e-&gt;xs_G1:w</title>\n<path fill=\"none\" stroke=\"black\" d=\"M145,-314C184.2,-314 143.66,-392.83 179.75,-395.91\"/>\n<ellipse fill=\"black\" stroke=\"black\" cx=\"181\" cy=\"-395.96\" rx=\"1\" ry=\"1\"/>\n<text text-anchor=\"middle\" x=\"163.5\" y=\"-381\" font-family=\"Times,serif\" font-size=\"10.00\">n</text>\n</g>\n<!-- xs_G5 -->\n<g id=\"node9\" class=\"node\">\n<title>xs_G5</title>\n<text text-anchor=\"middle\" x=\"210\" y=\"-338.3\" font-family=\"Times,serif\" font-size=\"14.00\">xs[3]</text>\n</g>\n<!-- BitonicSort&#45;&gt;xs_G5 -->\n<g id=\"edge8\" class=\"edge\">\n<title>BitonicSort:e-&gt;xs_G5:w</title>\n<path fill=\"none\" stroke=\"black\" d=\"M145,-293C171.54,-293 155.64,-339.36 179.86,-341.89\"/>\n<ellipse fill=\"black\" stroke=\"black\" cx=\"181\" cy=\"-341.95\" rx=\"1\" ry=\"1\"/>\n<text text-anchor=\"middle\" x=\"163.5\" y=\"-321\" font-family=\"Times,serif\" font-size=\"10.00\">n</text>\n</g>\n<!-- junk_G19 -->\n<g id=\"node10\" class=\"node\">\n<title>junk_G19</title>\n<text text-anchor=\"middle\" x=\"210\" y=\"-284.3\" font-family=\"Times,serif\" font-size=\"14.00\">junk[0]</text>\n</g>\n<!-- BitonicSort&#45;&gt;junk_G19 -->\n<g id=\"edge9\" class=\"edge\">\n<title>BitonicSort:e-&gt;junk_G19:w</title>\n<path fill=\"none\" stroke=\"black\" d=\"M145,-272C162.22,-272 163.97,-286.77 179.98,-287.93\"/>\n<ellipse fill=\"black\" stroke=\"black\" cx=\"181\" cy=\"-287.96\" rx=\"1\" ry=\"1\"/>\n<text text-anchor=\"middle\" x=\"163.5\" y=\"-283\" font-family=\"Times,serif\" font-size=\"10.00\">1</text>\n</g>\n<!-- junk_G18 -->\n<g id=\"node11\" class=\"node\">\n<title>junk_G18</title>\n<text text-anchor=\"middle\" x=\"210\" y=\"-230.3\" font-family=\"Times,serif\" font-size=\"14.00\">junk[1]</text>\n</g>\n<!-- BitonicSort&#45;&gt;junk_G18 -->\n<g id=\"edge10\" class=\"edge\">\n<title>BitonicSort:e-&gt;junk_G18:w</title>\n<path fill=\"none\" stroke=\"black\" d=\"M145,-250C162.22,-250 163.97,-235.23 179.98,-234.07\"/>\n<ellipse fill=\"black\" stroke=\"black\" cx=\"181\" cy=\"-234.04\" rx=\"1\" ry=\"1\"/>\n<text text-anchor=\"middle\" x=\"163.5\" y=\"-245\" font-family=\"Times,serif\" font-size=\"10.00\">1</text>\n</g>\n<!-- junk_G23 -->\n<g id=\"node12\" class=\"node\">\n<title>junk_G23</title>\n<text text-anchor=\"middle\" x=\"210\" y=\"-176.3\" font-family=\"Times,serif\" font-size=\"14.00\">junk[2]</text>\n</g>\n<!-- BitonicSort&#45;&gt;junk_G23 -->\n<g id=\"edge11\" class=\"edge\">\n<title>BitonicSort:e-&gt;junk_G23:w</title>\n<path fill=\"none\" stroke=\"black\" d=\"M145,-229C171.54,-229 155.64,-182.64 179.86,-180.11\"/>\n<ellipse fill=\"black\" stroke=\"black\" cx=\"181\" cy=\"-180.05\" rx=\"1\" ry=\"1\"/>\n<text text-anchor=\"middle\" x=\"163.5\" y=\"-208\" font-family=\"Times,serif\" font-size=\"10.00\">1</text>\n</g>\n<!-- junk_G6 -->\n<g id=\"node13\" class=\"node\">\n<title>junk_G6</title>\n<text text-anchor=\"middle\" x=\"210\" y=\"-122.3\" font-family=\"Times,serif\" font-size=\"14.00\">junk[3]</text>\n</g>\n<!-- BitonicSort&#45;&gt;junk_G6 -->\n<g id=\"edge12\" class=\"edge\">\n<title>BitonicSort:e-&gt;junk_G6:w</title>\n<path fill=\"none\" stroke=\"black\" d=\"M145,-208C184.2,-208 143.66,-129.17 179.75,-126.09\"/>\n<ellipse fill=\"black\" stroke=\"black\" cx=\"181\" cy=\"-126.04\" rx=\"1\" ry=\"1\"/>\n<text text-anchor=\"middle\" x=\"163.5\" y=\"-193\" font-family=\"Times,serif\" font-size=\"10.00\">1</text>\n</g>\n<!-- junk_G9 -->\n<g id=\"node14\" class=\"node\">\n<title>junk_G9</title>\n<text text-anchor=\"middle\" x=\"210\" y=\"-68.3\" font-family=\"Times,serif\" font-size=\"14.00\">junk[4]</text>\n</g>\n<!-- BitonicSort&#45;&gt;junk_G9 -->\n<g id=\"edge13\" class=\"edge\">\n<title>BitonicSort:e-&gt;junk_G9:w</title>\n<path fill=\"none\" stroke=\"black\" d=\"M145,-187C171.11,-187 156.03,-78.2 179.89,-72.25\"/>\n<ellipse fill=\"black\" stroke=\"black\" cx=\"181.01\" cy=\"-72.12\" rx=\"1\" ry=\"1\"/>\n<text text-anchor=\"middle\" x=\"163.5\" y=\"-135\" font-family=\"Times,serif\" font-size=\"10.00\">1</text>\n</g>\n<!-- junk_G7 -->\n<g id=\"node15\" class=\"node\">\n<title>junk_G7</title>\n<text text-anchor=\"middle\" x=\"210\" y=\"-14.3\" font-family=\"Times,serif\" font-size=\"14.00\">junk[5]</text>\n</g>\n<!-- BitonicSort&#45;&gt;junk_G7 -->\n<g id=\"edge14\" class=\"edge\">\n<title>BitonicSort:e-&gt;junk_G7:w</title>\n<path fill=\"none\" stroke=\"black\" d=\"M145,-166C178.11,-166 149.51,-24.86 179.72,-18.24\"/>\n<ellipse fill=\"black\" stroke=\"black\" cx=\"181.01\" cy=\"-18.1\" rx=\"1\" ry=\"1\"/>\n<text text-anchor=\"middle\" x=\"163.5\" y=\"-113\" font-family=\"Times,serif\" font-size=\"10.00\">1</text>\n</g>\n</g>\n</svg>",
          "text/plain": "<IPython.core.display.SVG object>"
         },
         "metadata": {},
         "output_type": "display_data"
        }
       ],
       "tabbable": null,
       "tooltip": null
      }
     },
     "5629a3e790404da0beded4d6861a902c": {
      "model_module": "@jupyter-widgets/controls",
      "model_module_version": "2.0.0",
      "model_name": "HBoxModel",
      "state": {
       "_dom_classes": [],
       "_model_module": "@jupyter-widgets/controls",
       "_model_module_version": "2.0.0",
       "_model_name": "HBoxModel",
       "_view_count": null,
       "_view_module": "@jupyter-widgets/controls",
       "_view_module_version": "2.0.0",
       "_view_name": "HBoxView",
       "box_style": "",
       "children": [
        "IPY_MODEL_a55e3f7c5f6d4215ae27ca918892c336",
        "IPY_MODEL_4995e19f75f440cfaf3b34e775ffcead"
       ],
       "layout": "IPY_MODEL_a5a43e7c84f148bea0f9058d154477ae",
       "tabbable": null,
       "tooltip": null
      }
     },
     "6739b83d416c4e119bcd1e3fa5d60f62": {
      "model_module": "@jupyter-widgets/controls",
      "model_module_version": "2.0.0",
      "model_name": "HBoxModel",
      "state": {
       "_dom_classes": [],
       "_model_module": "@jupyter-widgets/controls",
       "_model_module_version": "2.0.0",
       "_model_name": "HBoxModel",
       "_view_count": null,
       "_view_module": "@jupyter-widgets/controls",
       "_view_module_version": "2.0.0",
       "_view_name": "HBoxView",
       "box_style": "",
       "children": [
        "IPY_MODEL_dea2ac5b6e2548fc888571996cfd1259"
       ],
       "layout": "IPY_MODEL_e0bab224c52b46c488aef98d56673792",
       "tabbable": null,
       "tooltip": null
      }
     },
     "80dd3509b42345979011b3957312fd77": {
      "model_module": "@jupyter-widgets/base",
      "model_module_version": "2.0.0",
      "model_name": "LayoutModel",
      "state": {
       "_model_module": "@jupyter-widgets/base",
       "_model_module_version": "2.0.0",
       "_model_name": "LayoutModel",
       "_view_count": null,
       "_view_module": "@jupyter-widgets/base",
       "_view_module_version": "2.0.0",
       "_view_name": "LayoutView",
       "align_content": null,
       "align_items": null,
       "align_self": null,
       "border_bottom": null,
       "border_left": null,
       "border_right": null,
       "border_top": null,
       "bottom": null,
       "display": null,
       "flex": null,
       "flex_flow": null,
       "grid_area": null,
       "grid_auto_columns": null,
       "grid_auto_flow": null,
       "grid_auto_rows": null,
       "grid_column": null,
       "grid_gap": null,
       "grid_row": null,
       "grid_template_areas": null,
       "grid_template_columns": null,
       "grid_template_rows": null,
       "height": null,
       "justify_content": null,
       "justify_items": null,
       "left": null,
       "margin": null,
       "max_height": null,
       "max_width": null,
       "min_height": null,
       "min_width": null,
       "object_fit": null,
       "object_position": null,
       "order": null,
       "overflow": null,
       "padding": null,
       "right": null,
       "top": null,
       "visibility": null,
       "width": null
      }
     },
     "8d296bdd285b45d59d129970b74a3fac": {
      "model_module": "@jupyter-widgets/controls",
      "model_module_version": "2.0.0",
      "model_name": "HBoxModel",
      "state": {
       "_dom_classes": [],
       "_model_module": "@jupyter-widgets/controls",
       "_model_module_version": "2.0.0",
       "_model_name": "HBoxModel",
       "_view_count": null,
       "_view_module": "@jupyter-widgets/controls",
       "_view_module_version": "2.0.0",
       "_view_name": "HBoxView",
       "box_style": "",
       "children": [
        "IPY_MODEL_3f60f26ee6454f8e9f5ba59374260e79"
       ],
       "layout": "IPY_MODEL_bddd131fcb0442e5adfd440a0545c5e9",
       "tabbable": null,
       "tooltip": null
      }
     },
     "a55e3f7c5f6d4215ae27ca918892c336": {
      "model_module": "@jupyter-widgets/output",
      "model_module_version": "1.0.0",
      "model_name": "OutputModel",
      "state": {
       "_dom_classes": [],
       "_model_module": "@jupyter-widgets/output",
       "_model_module_version": "1.0.0",
       "_model_name": "OutputModel",
       "_view_count": null,
       "_view_module": "@jupyter-widgets/output",
       "_view_module_version": "1.0.0",
       "_view_name": "OutputView",
       "layout": "IPY_MODEL_c75aab4d70f54f46a4361cb3d65eebc8",
       "msg_id": "",
       "outputs": [
        {
         "data": {
          "text/markdown": "`bitonic_sort`",
          "text/plain": "<IPython.core.display.Markdown object>"
         },
         "metadata": {},
         "output_type": "display_data"
        },
        {
         "data": {
          "image/svg+xml": "<svg xmlns=\"http://www.w3.org/2000/svg\" xmlns:xlink=\"http://www.w3.org/1999/xlink\" width=\"258pt\" height=\"1718pt\" viewBox=\"0.00 0.00 258.00 1718.00\">\n<g id=\"graph0\" class=\"graph\" transform=\"scale(1 1) rotate(0) translate(4 1714)\">\n<title>my_graph</title>\n<polygon fill=\"white\" stroke=\"transparent\" points=\"-4,4 -4,-1714 254,-1714 254,4 -4,4\"/>\n<!-- xs_G20 -->\n<g id=\"node1\" class=\"node\">\n<title>xs_G20</title>\n<text text-anchor=\"middle\" x=\"27\" y=\"-1292.3\" font-family=\"Times,serif\" font-size=\"14.00\">xs[0]</text>\n</g>\n<!-- BitonicSort -->\n<g id=\"node9\" class=\"node\">\n<title>BitonicSort</title>\n<polygon fill=\"none\" stroke=\"black\" points=\"91.5,-1191 91.5,-1208 150.5,-1208 150.5,-1191 91.5,-1191\"/>\n<text text-anchor=\"start\" x=\"97\" y=\"-1197\" font-family=\"Times,serif\" font-size=\"10.00\">BitonicSort</text>\n<polygon fill=\"none\" stroke=\"black\" points=\"91.5,-1170 91.5,-1191 150.5,-1191 150.5,-1170 91.5,-1170\"/>\n<text text-anchor=\"start\" x=\"107\" y=\"-1176.8\" font-family=\"Times,serif\" font-size=\"14.00\">xs[0]</text>\n<polygon fill=\"none\" stroke=\"black\" points=\"91.5,-1149 91.5,-1170 150.5,-1170 150.5,-1149 91.5,-1149\"/>\n<text text-anchor=\"start\" x=\"107\" y=\"-1155.8\" font-family=\"Times,serif\" font-size=\"14.00\">xs[1]</text>\n<polygon fill=\"none\" stroke=\"black\" points=\"91.5,-1128 91.5,-1149 150.5,-1149 150.5,-1128 91.5,-1128\"/>\n<text text-anchor=\"start\" x=\"107\" y=\"-1134.8\" font-family=\"Times,serif\" font-size=\"14.00\">xs[2]</text>\n<polygon fill=\"none\" stroke=\"black\" points=\"91.5,-1107 91.5,-1128 150.5,-1128 150.5,-1107 91.5,-1107\"/>\n<text text-anchor=\"start\" x=\"107\" y=\"-1113.8\" font-family=\"Times,serif\" font-size=\"14.00\">xs[3]</text>\n<polygon fill=\"none\" stroke=\"black\" points=\"91.5,-1086 91.5,-1107 150.5,-1107 150.5,-1086 91.5,-1086\"/>\n<text text-anchor=\"start\" x=\"107\" y=\"-1092.8\" font-family=\"Times,serif\" font-size=\"14.00\">xs[4]</text>\n<polygon fill=\"none\" stroke=\"black\" points=\"91.5,-1065 91.5,-1086 150.5,-1086 150.5,-1065 91.5,-1065\"/>\n<text text-anchor=\"start\" x=\"107\" y=\"-1071.8\" font-family=\"Times,serif\" font-size=\"14.00\">xs[5]</text>\n<polygon fill=\"none\" stroke=\"black\" points=\"91.5,-1044 91.5,-1065 150.5,-1065 150.5,-1044 91.5,-1044\"/>\n<text text-anchor=\"start\" x=\"107\" y=\"-1050.8\" font-family=\"Times,serif\" font-size=\"14.00\">xs[6]</text>\n<polygon fill=\"none\" stroke=\"black\" points=\"91.5,-1023 91.5,-1044 150.5,-1044 150.5,-1023 91.5,-1023\"/>\n<text text-anchor=\"start\" x=\"107\" y=\"-1029.8\" font-family=\"Times,serif\" font-size=\"14.00\">xs[7]</text>\n<polygon fill=\"none\" stroke=\"black\" points=\"91.5,-1002 91.5,-1023 97.5,-1023 97.5,-1002 91.5,-1002\"/>\n<polygon fill=\"none\" stroke=\"black\" points=\"97.5,-1002 97.5,-1023 150.5,-1023 150.5,-1002 97.5,-1002\"/>\n<text text-anchor=\"start\" x=\"104\" y=\"-1008.8\" font-family=\"Times,serif\" font-size=\"14.00\">junk[0]</text>\n<polygon fill=\"none\" stroke=\"black\" points=\"91.5,-981 91.5,-1002 97.5,-1002 97.5,-981 91.5,-981\"/>\n<polygon fill=\"none\" stroke=\"black\" points=\"97.5,-981 97.5,-1002 150.5,-1002 150.5,-981 97.5,-981\"/>\n<text text-anchor=\"start\" x=\"104\" y=\"-987.8\" font-family=\"Times,serif\" font-size=\"14.00\">junk[1]</text>\n<polygon fill=\"none\" stroke=\"black\" points=\"91.5,-960 91.5,-981 97.5,-981 97.5,-960 91.5,-960\"/>\n<polygon fill=\"none\" stroke=\"black\" points=\"97.5,-960 97.5,-981 150.5,-981 150.5,-960 97.5,-960\"/>\n<text text-anchor=\"start\" x=\"104\" y=\"-966.8\" font-family=\"Times,serif\" font-size=\"14.00\">junk[2]</text>\n<polygon fill=\"none\" stroke=\"black\" points=\"91.5,-939 91.5,-960 97.5,-960 97.5,-939 91.5,-939\"/>\n<polygon fill=\"none\" stroke=\"black\" points=\"97.5,-939 97.5,-960 150.5,-960 150.5,-939 97.5,-939\"/>\n<text text-anchor=\"start\" x=\"104\" y=\"-945.8\" font-family=\"Times,serif\" font-size=\"14.00\">junk[3]</text>\n<polygon fill=\"none\" stroke=\"black\" points=\"91.5,-918 91.5,-939 97.5,-939 97.5,-918 91.5,-918\"/>\n<polygon fill=\"none\" stroke=\"black\" points=\"97.5,-918 97.5,-939 150.5,-939 150.5,-918 97.5,-918\"/>\n<text text-anchor=\"start\" x=\"104\" y=\"-924.8\" font-family=\"Times,serif\" font-size=\"14.00\">junk[4]</text>\n<polygon fill=\"none\" stroke=\"black\" points=\"91.5,-897 91.5,-918 97.5,-918 97.5,-897 91.5,-897\"/>\n<polygon fill=\"none\" stroke=\"black\" points=\"97.5,-897 97.5,-918 150.5,-918 150.5,-897 97.5,-897\"/>\n<text text-anchor=\"start\" x=\"104\" y=\"-903.8\" font-family=\"Times,serif\" font-size=\"14.00\">junk[5]</text>\n<polygon fill=\"none\" stroke=\"black\" points=\"91.5,-876 91.5,-897 97.5,-897 97.5,-876 91.5,-876\"/>\n<polygon fill=\"none\" stroke=\"black\" points=\"97.5,-876 97.5,-897 150.5,-897 150.5,-876 97.5,-876\"/>\n<text text-anchor=\"start\" x=\"104\" y=\"-882.8\" font-family=\"Times,serif\" font-size=\"14.00\">junk[6]</text>\n<polygon fill=\"none\" stroke=\"black\" points=\"91.5,-855 91.5,-876 97.5,-876 97.5,-855 91.5,-855\"/>\n<polygon fill=\"none\" stroke=\"black\" points=\"97.5,-855 97.5,-876 150.5,-876 150.5,-855 97.5,-855\"/>\n<text text-anchor=\"start\" x=\"104\" y=\"-861.8\" font-family=\"Times,serif\" font-size=\"14.00\">junk[7]</text>\n<polygon fill=\"none\" stroke=\"black\" points=\"91.5,-834 91.5,-855 97.5,-855 97.5,-834 91.5,-834\"/>\n<polygon fill=\"none\" stroke=\"black\" points=\"97.5,-834 97.5,-855 150.5,-855 150.5,-834 97.5,-834\"/>\n<text text-anchor=\"start\" x=\"104\" y=\"-840.8\" font-family=\"Times,serif\" font-size=\"14.00\">junk[8]</text>\n<polygon fill=\"none\" stroke=\"black\" points=\"91.5,-813 91.5,-834 97.5,-834 97.5,-813 91.5,-813\"/>\n<polygon fill=\"none\" stroke=\"black\" points=\"97.5,-813 97.5,-834 150.5,-834 150.5,-813 97.5,-813\"/>\n<text text-anchor=\"start\" x=\"104\" y=\"-819.8\" font-family=\"Times,serif\" font-size=\"14.00\">junk[9]</text>\n<polygon fill=\"none\" stroke=\"black\" points=\"91.5,-792 91.5,-813 97.5,-813 97.5,-792 91.5,-792\"/>\n<polygon fill=\"none\" stroke=\"black\" points=\"97.5,-792 97.5,-813 150.5,-813 150.5,-792 97.5,-792\"/>\n<text text-anchor=\"start\" x=\"100.5\" y=\"-798.8\" font-family=\"Times,serif\" font-size=\"14.00\">junk[10]</text>\n<polygon fill=\"none\" stroke=\"black\" points=\"91.5,-771 91.5,-792 97.5,-792 97.5,-771 91.5,-771\"/>\n<polygon fill=\"none\" stroke=\"black\" points=\"97.5,-771 97.5,-792 150.5,-792 150.5,-771 97.5,-771\"/>\n<text text-anchor=\"start\" x=\"100.5\" y=\"-777.8\" font-family=\"Times,serif\" font-size=\"14.00\">junk[11]</text>\n<polygon fill=\"none\" stroke=\"black\" points=\"91.5,-750 91.5,-771 97.5,-771 97.5,-750 91.5,-750\"/>\n<polygon fill=\"none\" stroke=\"black\" points=\"97.5,-750 97.5,-771 150.5,-771 150.5,-750 97.5,-750\"/>\n<text text-anchor=\"start\" x=\"100.5\" y=\"-756.8\" font-family=\"Times,serif\" font-size=\"14.00\">junk[12]</text>\n<polygon fill=\"none\" stroke=\"black\" points=\"91.5,-729 91.5,-750 97.5,-750 97.5,-729 91.5,-729\"/>\n<polygon fill=\"none\" stroke=\"black\" points=\"97.5,-729 97.5,-750 150.5,-750 150.5,-729 97.5,-729\"/>\n<text text-anchor=\"start\" x=\"100.5\" y=\"-735.8\" font-family=\"Times,serif\" font-size=\"14.00\">junk[13]</text>\n<polygon fill=\"none\" stroke=\"black\" points=\"91.5,-708 91.5,-729 97.5,-729 97.5,-708 91.5,-708\"/>\n<polygon fill=\"none\" stroke=\"black\" points=\"97.5,-708 97.5,-729 150.5,-729 150.5,-708 97.5,-708\"/>\n<text text-anchor=\"start\" x=\"100.5\" y=\"-714.8\" font-family=\"Times,serif\" font-size=\"14.00\">junk[14]</text>\n<polygon fill=\"none\" stroke=\"black\" points=\"91.5,-687 91.5,-708 97.5,-708 97.5,-687 91.5,-687\"/>\n<polygon fill=\"none\" stroke=\"black\" points=\"97.5,-687 97.5,-708 150.5,-708 150.5,-687 97.5,-687\"/>\n<text text-anchor=\"start\" x=\"100.5\" y=\"-693.8\" font-family=\"Times,serif\" font-size=\"14.00\">junk[15]</text>\n<polygon fill=\"none\" stroke=\"black\" points=\"91.5,-666 91.5,-687 97.5,-687 97.5,-666 91.5,-666\"/>\n<polygon fill=\"none\" stroke=\"black\" points=\"97.5,-666 97.5,-687 150.5,-687 150.5,-666 97.5,-666\"/>\n<text text-anchor=\"start\" x=\"100.5\" y=\"-672.8\" font-family=\"Times,serif\" font-size=\"14.00\">junk[16]</text>\n<polygon fill=\"none\" stroke=\"black\" points=\"91.5,-645 91.5,-666 97.5,-666 97.5,-645 91.5,-645\"/>\n<polygon fill=\"none\" stroke=\"black\" points=\"97.5,-645 97.5,-666 150.5,-666 150.5,-645 97.5,-645\"/>\n<text text-anchor=\"start\" x=\"100.5\" y=\"-651.8\" font-family=\"Times,serif\" font-size=\"14.00\">junk[17]</text>\n<polygon fill=\"none\" stroke=\"black\" points=\"91.5,-624 91.5,-645 97.5,-645 97.5,-624 91.5,-624\"/>\n<polygon fill=\"none\" stroke=\"black\" points=\"97.5,-624 97.5,-645 150.5,-645 150.5,-624 97.5,-624\"/>\n<text text-anchor=\"start\" x=\"100.5\" y=\"-630.8\" font-family=\"Times,serif\" font-size=\"14.00\">junk[18]</text>\n<polygon fill=\"none\" stroke=\"black\" points=\"91.5,-603 91.5,-624 97.5,-624 97.5,-603 91.5,-603\"/>\n<polygon fill=\"none\" stroke=\"black\" points=\"97.5,-603 97.5,-624 150.5,-624 150.5,-603 97.5,-603\"/>\n<text text-anchor=\"start\" x=\"100.5\" y=\"-609.8\" font-family=\"Times,serif\" font-size=\"14.00\">junk[19]</text>\n<polygon fill=\"none\" stroke=\"black\" points=\"91.5,-582 91.5,-603 97.5,-603 97.5,-582 91.5,-582\"/>\n<polygon fill=\"none\" stroke=\"black\" points=\"97.5,-582 97.5,-603 150.5,-603 150.5,-582 97.5,-582\"/>\n<text text-anchor=\"start\" x=\"100.5\" y=\"-588.8\" font-family=\"Times,serif\" font-size=\"14.00\">junk[20]</text>\n<polygon fill=\"none\" stroke=\"black\" points=\"91.5,-561 91.5,-582 97.5,-582 97.5,-561 91.5,-561\"/>\n<polygon fill=\"none\" stroke=\"black\" points=\"97.5,-561 97.5,-582 150.5,-582 150.5,-561 97.5,-561\"/>\n<text text-anchor=\"start\" x=\"100.5\" y=\"-567.8\" font-family=\"Times,serif\" font-size=\"14.00\">junk[21]</text>\n<polygon fill=\"none\" stroke=\"black\" points=\"91.5,-540 91.5,-561 97.5,-561 97.5,-540 91.5,-540\"/>\n<polygon fill=\"none\" stroke=\"black\" points=\"97.5,-540 97.5,-561 150.5,-561 150.5,-540 97.5,-540\"/>\n<text text-anchor=\"start\" x=\"100.5\" y=\"-546.8\" font-family=\"Times,serif\" font-size=\"14.00\">junk[22]</text>\n<polygon fill=\"none\" stroke=\"black\" points=\"91.5,-519 91.5,-540 97.5,-540 97.5,-519 91.5,-519\"/>\n<polygon fill=\"none\" stroke=\"black\" points=\"97.5,-519 97.5,-540 150.5,-540 150.5,-519 97.5,-519\"/>\n<text text-anchor=\"start\" x=\"100.5\" y=\"-525.8\" font-family=\"Times,serif\" font-size=\"14.00\">junk[23]</text>\n</g>\n<!-- xs_G20&#45;&gt;BitonicSort -->\n<g id=\"edge1\" class=\"edge\">\n<title>xs_G20:e-&gt;BitonicSort:w</title>\n<path fill=\"none\" stroke=\"black\" d=\"M54,-1296C80.11,-1296 65.03,-1187.2 88.89,-1181.25\"/>\n<ellipse fill=\"black\" stroke=\"black\" cx=\"90.01\" cy=\"-1181.12\" rx=\"1\" ry=\"1\"/>\n<text text-anchor=\"middle\" x=\"72.5\" y=\"-1244\" font-family=\"Times,serif\" font-size=\"10.00\">4</text>\n</g>\n<!-- xs_G35 -->\n<g id=\"node2\" class=\"node\">\n<title>xs_G35</title>\n<text text-anchor=\"middle\" x=\"27\" y=\"-1238.3\" font-family=\"Times,serif\" font-size=\"14.00\">xs[1]</text>\n</g>\n<!-- xs_G35&#45;&gt;BitonicSort -->\n<g id=\"edge2\" class=\"edge\">\n<title>xs_G35:e-&gt;BitonicSort:w</title>\n<path fill=\"none\" stroke=\"black\" d=\"M54,-1242C93.2,-1242 52.66,-1163.17 88.75,-1160.09\"/>\n<ellipse fill=\"black\" stroke=\"black\" cx=\"90\" cy=\"-1160.04\" rx=\"1\" ry=\"1\"/>\n<text text-anchor=\"middle\" x=\"72.5\" y=\"-1227\" font-family=\"Times,serif\" font-size=\"10.00\">4</text>\n</g>\n<!-- xs_G2 -->\n<g id=\"node3\" class=\"node\">\n<title>xs_G2</title>\n<text text-anchor=\"middle\" x=\"27\" y=\"-1184.3\" font-family=\"Times,serif\" font-size=\"14.00\">xs[2]</text>\n</g>\n<!-- xs_G2&#45;&gt;BitonicSort -->\n<g id=\"edge3\" class=\"edge\">\n<title>xs_G2:e-&gt;BitonicSort:w</title>\n<path fill=\"none\" stroke=\"black\" d=\"M54,-1188C80.54,-1188 64.64,-1141.64 88.86,-1139.11\"/>\n<ellipse fill=\"black\" stroke=\"black\" cx=\"90\" cy=\"-1139.05\" rx=\"1\" ry=\"1\"/>\n<text text-anchor=\"middle\" x=\"72.5\" y=\"-1167\" font-family=\"Times,serif\" font-size=\"10.00\">4</text>\n</g>\n<!-- xs_G47 -->\n<g id=\"node4\" class=\"node\">\n<title>xs_G47</title>\n<text text-anchor=\"middle\" x=\"27\" y=\"-1130.3\" font-family=\"Times,serif\" font-size=\"14.00\">xs[3]</text>\n</g>\n<!-- xs_G47&#45;&gt;BitonicSort -->\n<g id=\"edge4\" class=\"edge\">\n<title>xs_G47:e-&gt;BitonicSort:w</title>\n<path fill=\"none\" stroke=\"black\" d=\"M54,-1134C71.22,-1134 72.97,-1119.23 88.98,-1118.07\"/>\n<ellipse fill=\"black\" stroke=\"black\" cx=\"90\" cy=\"-1118.04\" rx=\"1\" ry=\"1\"/>\n<text text-anchor=\"middle\" x=\"72.5\" y=\"-1129\" font-family=\"Times,serif\" font-size=\"10.00\">4</text>\n</g>\n<!-- xs_G11 -->\n<g id=\"node5\" class=\"node\">\n<title>xs_G11</title>\n<text text-anchor=\"middle\" x=\"27\" y=\"-1076.3\" font-family=\"Times,serif\" font-size=\"14.00\">xs[4]</text>\n</g>\n<!-- xs_G11&#45;&gt;BitonicSort -->\n<g id=\"edge5\" class=\"edge\">\n<title>xs_G11:e-&gt;BitonicSort:w</title>\n<path fill=\"none\" stroke=\"black\" d=\"M54,-1080C71.39,-1080 72.81,-1095.7 88.96,-1096.92\"/>\n<ellipse fill=\"black\" stroke=\"black\" cx=\"90\" cy=\"-1096.96\" rx=\"1\" ry=\"1\"/>\n<text text-anchor=\"middle\" x=\"72.5\" y=\"-1091\" font-family=\"Times,serif\" font-size=\"10.00\">4</text>\n</g>\n<!-- xs_G69 -->\n<g id=\"node6\" class=\"node\">\n<title>xs_G69</title>\n<text text-anchor=\"middle\" x=\"27\" y=\"-1022.3\" font-family=\"Times,serif\" font-size=\"14.00\">xs[5]</text>\n</g>\n<!-- xs_G69&#45;&gt;BitonicSort -->\n<g id=\"edge6\" class=\"edge\">\n<title>xs_G69:e-&gt;BitonicSort:w</title>\n<path fill=\"none\" stroke=\"black\" d=\"M54,-1026C80.89,-1026 64.32,-1073.3 88.83,-1075.89\"/>\n<ellipse fill=\"black\" stroke=\"black\" cx=\"90\" cy=\"-1075.95\" rx=\"1\" ry=\"1\"/>\n<text text-anchor=\"middle\" x=\"72.5\" y=\"-1055\" font-family=\"Times,serif\" font-size=\"10.00\">4</text>\n</g>\n<!-- xs_G0 -->\n<g id=\"node7\" class=\"node\">\n<title>xs_G0</title>\n<text text-anchor=\"middle\" x=\"27\" y=\"-968.3\" font-family=\"Times,serif\" font-size=\"14.00\">xs[6]</text>\n</g>\n<!-- xs_G0&#45;&gt;BitonicSort -->\n<g id=\"edge7\" class=\"edge\">\n<title>xs_G0:e-&gt;BitonicSort:w</title>\n<path fill=\"none\" stroke=\"black\" d=\"M54,-972C70.16,-972 66.09,-988.39 73,-1003 83.12,-1024.42 67.57,-1053.14 88.83,-1054.91\"/>\n<ellipse fill=\"black\" stroke=\"black\" cx=\"90\" cy=\"-1054.96\" rx=\"1\" ry=\"1\"/>\n<text text-anchor=\"middle\" x=\"72.5\" y=\"-1006\" font-family=\"Times,serif\" font-size=\"10.00\">4</text>\n</g>\n<!-- xs_G37 -->\n<g id=\"node8\" class=\"node\">\n<title>xs_G37</title>\n<text text-anchor=\"middle\" x=\"27\" y=\"-914.3\" font-family=\"Times,serif\" font-size=\"14.00\">xs[7]</text>\n</g>\n<!-- xs_G37&#45;&gt;BitonicSort -->\n<g id=\"edge8\" class=\"edge\">\n<title>xs_G37:e-&gt;BitonicSort:w</title>\n<path fill=\"none\" stroke=\"black\" d=\"M54,-918C70.16,-918 67.02,-933.99 73,-949 79.87,-966.24 72.33,-1028.84 88.86,-1033.7\"/>\n<ellipse fill=\"black\" stroke=\"black\" cx=\"90.01\" cy=\"-1033.86\" rx=\"1\" ry=\"1\"/>\n<text text-anchor=\"middle\" x=\"72.5\" y=\"-952\" font-family=\"Times,serif\" font-size=\"10.00\">4</text>\n</g>\n<!-- xs_G41 -->\n<g id=\"node10\" class=\"node\">\n<title>xs_G41</title>\n<text text-anchor=\"middle\" x=\"218.5\" y=\"-1688.3\" font-family=\"Times,serif\" font-size=\"14.00\">xs[0]</text>\n</g>\n<!-- BitonicSort&#45;&gt;xs_G41 -->\n<g id=\"edge9\" class=\"edge\">\n<title>BitonicSort:e-&gt;xs_G41:w</title>\n<path fill=\"none\" stroke=\"black\" d=\"M150,-1181C163.74,-1181 175.41,-1656.7 189.01,-1690.15\"/>\n<ellipse fill=\"black\" stroke=\"black\" cx=\"189.87\" cy=\"-1691.22\" rx=\"1\" ry=\"1\"/>\n<text text-anchor=\"middle\" x=\"168.5\" y=\"-1408\" font-family=\"Times,serif\" font-size=\"10.00\">4</text>\n</g>\n<!-- xs_G19 -->\n<g id=\"node11\" class=\"node\">\n<title>xs_G19</title>\n<text text-anchor=\"middle\" x=\"218.5\" y=\"-1634.3\" font-family=\"Times,serif\" font-size=\"14.00\">xs[1]</text>\n</g>\n<!-- BitonicSort&#45;&gt;xs_G19 -->\n<g id=\"edge10\" class=\"edge\">\n<title>BitonicSort:e-&gt;xs_G19:w</title>\n<path fill=\"none\" stroke=\"black\" d=\"M150,-1160C162.86,-1160 176.2,-1604.98 189.09,-1636.27\"/>\n<ellipse fill=\"black\" stroke=\"black\" cx=\"189.87\" cy=\"-1637.22\" rx=\"1\" ry=\"1\"/>\n<text text-anchor=\"middle\" x=\"168.5\" y=\"-1373\" font-family=\"Times,serif\" font-size=\"10.00\">4</text>\n</g>\n<!-- xs_G61 -->\n<g id=\"node12\" class=\"node\">\n<title>xs_G61</title>\n<text text-anchor=\"middle\" x=\"218.5\" y=\"-1580.3\" font-family=\"Times,serif\" font-size=\"14.00\">xs[2]</text>\n</g>\n<!-- BitonicSort&#45;&gt;xs_G61 -->\n<g id=\"edge11\" class=\"edge\">\n<title>BitonicSort:e-&gt;xs_G61:w</title>\n<path fill=\"none\" stroke=\"black\" d=\"M150,-1139C174.15,-1139 166.15,-1560 188.54,-1583.02\"/>\n<ellipse fill=\"black\" stroke=\"black\" cx=\"189.61\" cy=\"-1583.55\" rx=\"1\" ry=\"1\"/>\n<text text-anchor=\"middle\" x=\"168.5\" y=\"-1324\" font-family=\"Times,serif\" font-size=\"10.00\">4</text>\n</g>\n<!-- xs_G68 -->\n<g id=\"node13\" class=\"node\">\n<title>xs_G68</title>\n<text text-anchor=\"middle\" x=\"218.5\" y=\"-1526.3\" font-family=\"Times,serif\" font-size=\"14.00\">xs[3]</text>\n</g>\n<!-- BitonicSort&#45;&gt;xs_G68 -->\n<g id=\"edge12\" class=\"edge\">\n<title>BitonicSort:e-&gt;xs_G68:w</title>\n<path fill=\"none\" stroke=\"black\" d=\"M150,-1118C172.37,-1118 167.78,-1507.78 188.68,-1529.09\"/>\n<ellipse fill=\"black\" stroke=\"black\" cx=\"189.6\" cy=\"-1529.55\" rx=\"1\" ry=\"1\"/>\n<text text-anchor=\"middle\" x=\"168.5\" y=\"-1290\" font-family=\"Times,serif\" font-size=\"10.00\">4</text>\n</g>\n<!-- xs_G32 -->\n<g id=\"node14\" class=\"node\">\n<title>xs_G32</title>\n<text text-anchor=\"middle\" x=\"218.5\" y=\"-1472.3\" font-family=\"Times,serif\" font-size=\"14.00\">xs[4]</text>\n</g>\n<!-- BitonicSort&#45;&gt;xs_G32 -->\n<g id=\"edge13\" class=\"edge\">\n<title>BitonicSort:e-&gt;xs_G32:w</title>\n<path fill=\"none\" stroke=\"black\" d=\"M150,-1097C170.51,-1097 169.42,-1452.68 188.58,-1474.91\"/>\n<ellipse fill=\"black\" stroke=\"black\" cx=\"189.63\" cy=\"-1475.51\" rx=\"1\" ry=\"1\"/>\n<text text-anchor=\"middle\" x=\"168.5\" y=\"-1255\" font-family=\"Times,serif\" font-size=\"10.00\">4</text>\n</g>\n<!-- xs_G10 -->\n<g id=\"node15\" class=\"node\">\n<title>xs_G10</title>\n<text text-anchor=\"middle\" x=\"218.5\" y=\"-1418.3\" font-family=\"Times,serif\" font-size=\"14.00\">xs[5]</text>\n</g>\n<!-- BitonicSort&#45;&gt;xs_G10 -->\n<g id=\"edge14\" class=\"edge\">\n<title>BitonicSort:e-&gt;xs_G10:w</title>\n<path fill=\"none\" stroke=\"black\" d=\"M150,-1076C168.75,-1076 171.02,-1400.71 188.74,-1421.01\"/>\n<ellipse fill=\"black\" stroke=\"black\" cx=\"189.63\" cy=\"-1421.51\" rx=\"1\" ry=\"1\"/>\n<text text-anchor=\"middle\" x=\"168.5\" y=\"-1231\" font-family=\"Times,serif\" font-size=\"10.00\">4</text>\n</g>\n<!-- xs_G16 -->\n<g id=\"node16\" class=\"node\">\n<title>xs_G16</title>\n<text text-anchor=\"middle\" x=\"218.5\" y=\"-1364.3\" font-family=\"Times,serif\" font-size=\"14.00\">xs[6]</text>\n</g>\n<!-- BitonicSort&#45;&gt;xs_G16 -->\n<g id=\"edge15\" class=\"edge\">\n<title>BitonicSort:e-&gt;xs_G16:w</title>\n<path fill=\"none\" stroke=\"black\" d=\"M150,-1055C166.92,-1055 172.57,-1346.38 188.69,-1366.87\"/>\n<ellipse fill=\"black\" stroke=\"black\" cx=\"189.65\" cy=\"-1367.47\" rx=\"1\" ry=\"1\"/>\n<text text-anchor=\"middle\" x=\"168.5\" y=\"-1195\" font-family=\"Times,serif\" font-size=\"10.00\">4</text>\n</g>\n<!-- xs_G57 -->\n<g id=\"node17\" class=\"node\">\n<title>xs_G57</title>\n<text text-anchor=\"middle\" x=\"218.5\" y=\"-1310.3\" font-family=\"Times,serif\" font-size=\"14.00\">xs[7]</text>\n</g>\n<!-- BitonicSort&#45;&gt;xs_G57 -->\n<g id=\"edge16\" class=\"edge\">\n<title>BitonicSort:e-&gt;xs_G57:w</title>\n<path fill=\"none\" stroke=\"black\" d=\"M150,-1034C165.1,-1034 174.06,-1292.55 188.69,-1312.75\"/>\n<ellipse fill=\"black\" stroke=\"black\" cx=\"189.68\" cy=\"-1313.43\" rx=\"1\" ry=\"1\"/>\n<text text-anchor=\"middle\" x=\"168.5\" y=\"-1160\" font-family=\"Times,serif\" font-size=\"10.00\">4</text>\n</g>\n<!-- junk_G38 -->\n<g id=\"node18\" class=\"node\">\n<title>junk_G38</title>\n<text text-anchor=\"middle\" x=\"218.5\" y=\"-1256.3\" font-family=\"Times,serif\" font-size=\"14.00\">junk[0]</text>\n</g>\n<!-- BitonicSort&#45;&gt;junk_G38 -->\n<g id=\"edge17\" class=\"edge\">\n<title>BitonicSort:e-&gt;junk_G38:w</title>\n<path fill=\"none\" stroke=\"black\" d=\"M150,-1013C177.03,-1013 162.55,-1246.68 187.32,-1259.46\"/>\n<ellipse fill=\"black\" stroke=\"black\" cx=\"188.53\" cy=\"-1259.76\" rx=\"1\" ry=\"1\"/>\n<text text-anchor=\"middle\" x=\"168.5\" y=\"-1117\" font-family=\"Times,serif\" font-size=\"10.00\">1</text>\n</g>\n<!-- junk_G53 -->\n<g id=\"node19\" class=\"node\">\n<title>junk_G53</title>\n<text text-anchor=\"middle\" x=\"218.5\" y=\"-1202.3\" font-family=\"Times,serif\" font-size=\"14.00\">junk[1]</text>\n</g>\n<!-- BitonicSort&#45;&gt;junk_G53 -->\n<g id=\"edge18\" class=\"edge\">\n<title>BitonicSort:e-&gt;junk_G53:w</title>\n<path fill=\"none\" stroke=\"black\" d=\"M150,-992C173.42,-992 165.84,-1192.83 187.33,-1205.39\"/>\n<ellipse fill=\"black\" stroke=\"black\" cx=\"188.54\" cy=\"-1205.73\" rx=\"1\" ry=\"1\"/>\n<text text-anchor=\"middle\" x=\"168.5\" y=\"-1089\" font-family=\"Times,serif\" font-size=\"10.00\">1</text>\n</g>\n<!-- junk_G22 -->\n<g id=\"node20\" class=\"node\">\n<title>junk_G22</title>\n<text text-anchor=\"middle\" x=\"218.5\" y=\"-1148.3\" font-family=\"Times,serif\" font-size=\"14.00\">junk[2]</text>\n</g>\n<!-- BitonicSort&#45;&gt;junk_G22 -->\n<g id=\"edge19\" class=\"edge\">\n<title>BitonicSort:e-&gt;junk_G22:w</title>\n<path fill=\"none\" stroke=\"black\" d=\"M150,-971C169.78,-971 169.01,-1138.14 187.19,-1151.19\"/>\n<ellipse fill=\"black\" stroke=\"black\" cx=\"188.56\" cy=\"-1151.67\" rx=\"1\" ry=\"1\"/>\n<text text-anchor=\"middle\" x=\"168.5\" y=\"-1053\" font-family=\"Times,serif\" font-size=\"10.00\">1</text>\n</g>\n<!-- junk_G63 -->\n<g id=\"node21\" class=\"node\">\n<title>junk_G63</title>\n<text text-anchor=\"middle\" x=\"218.5\" y=\"-1094.3\" font-family=\"Times,serif\" font-size=\"14.00\">junk[3]</text>\n</g>\n<!-- BitonicSort&#45;&gt;junk_G63 -->\n<g id=\"edge20\" class=\"edge\">\n<title>BitonicSort:e-&gt;junk_G63:w</title>\n<path fill=\"none\" stroke=\"black\" d=\"M150,-950C168.66,-950 163.1,-1014 168,-1032 175.91,-1061.07 159.45,-1096.31 187.41,-1097.94\"/>\n<ellipse fill=\"black\" stroke=\"black\" cx=\"188.5\" cy=\"-1097.97\" rx=\"1\" ry=\"1\"/>\n<text text-anchor=\"middle\" x=\"168.5\" y=\"-1038\" font-family=\"Times,serif\" font-size=\"10.00\">1</text>\n</g>\n<!-- junk_G29 -->\n<g id=\"node22\" class=\"node\">\n<title>junk_G29</title>\n<text text-anchor=\"middle\" x=\"218.5\" y=\"-1040.3\" font-family=\"Times,serif\" font-size=\"14.00\">junk[4]</text>\n</g>\n<!-- BitonicSort&#45;&gt;junk_G29 -->\n<g id=\"edge21\" class=\"edge\">\n<title>BitonicSort:e-&gt;junk_G29:w</title>\n<path fill=\"none\" stroke=\"black\" d=\"M150,-929C203.3,-929 137.31,-1040.88 187.35,-1043.94\"/>\n<ellipse fill=\"black\" stroke=\"black\" cx=\"188.5\" cy=\"-1043.97\" rx=\"1\" ry=\"1\"/>\n<text text-anchor=\"middle\" x=\"168.5\" y=\"-1030\" font-family=\"Times,serif\" font-size=\"10.00\">1</text>\n</g>\n<!-- junk_G46 -->\n<g id=\"node23\" class=\"node\">\n<title>junk_G46</title>\n<text text-anchor=\"middle\" x=\"218.5\" y=\"-986.3\" font-family=\"Times,serif\" font-size=\"14.00\">junk[5]</text>\n</g>\n<!-- BitonicSort&#45;&gt;junk_G46 -->\n<g id=\"edge22\" class=\"edge\">\n<title>BitonicSort:e-&gt;junk_G46:w</title>\n<path fill=\"none\" stroke=\"black\" d=\"M150,-908C189.66,-908 150.63,-986.83 187.22,-989.91\"/>\n<ellipse fill=\"black\" stroke=\"black\" cx=\"188.5\" cy=\"-989.96\" rx=\"1\" ry=\"1\"/>\n<text text-anchor=\"middle\" x=\"168.5\" y=\"-928\" font-family=\"Times,serif\" font-size=\"10.00\">1</text>\n</g>\n<!-- junk_G14 -->\n<g id=\"node24\" class=\"node\">\n<title>junk_G14</title>\n<text text-anchor=\"middle\" x=\"218.5\" y=\"-932.3\" font-family=\"Times,serif\" font-size=\"14.00\">junk[6]</text>\n</g>\n<!-- BitonicSort&#45;&gt;junk_G14 -->\n<g id=\"edge23\" class=\"edge\">\n<title>BitonicSort:e-&gt;junk_G14:w</title>\n<path fill=\"none\" stroke=\"black\" d=\"M150,-887C177.21,-887 162.39,-933.36 187.3,-935.89\"/>\n<ellipse fill=\"black\" stroke=\"black\" cx=\"188.5\" cy=\"-935.95\" rx=\"1\" ry=\"1\"/>\n<text text-anchor=\"middle\" x=\"168.5\" y=\"-910\" font-family=\"Times,serif\" font-size=\"10.00\">1</text>\n</g>\n<!-- junk_G54 -->\n<g id=\"node25\" class=\"node\">\n<title>junk_G54</title>\n<text text-anchor=\"middle\" x=\"218.5\" y=\"-878.3\" font-family=\"Times,serif\" font-size=\"14.00\">junk[7]</text>\n</g>\n<!-- BitonicSort&#45;&gt;junk_G54 -->\n<g id=\"edge24\" class=\"edge\">\n<title>BitonicSort:e-&gt;junk_G54:w</title>\n<path fill=\"none\" stroke=\"black\" d=\"M150,-866C168.2,-866 170.41,-880.77 187.36,-881.93\"/>\n<ellipse fill=\"black\" stroke=\"black\" cx=\"188.5\" cy=\"-881.97\" rx=\"1\" ry=\"1\"/>\n<text text-anchor=\"middle\" x=\"168.5\" y=\"-876\" font-family=\"Times,serif\" font-size=\"10.00\">1</text>\n</g>\n<!-- junk_G59 -->\n<g id=\"node26\" class=\"node\">\n<title>junk_G59</title>\n<text text-anchor=\"middle\" x=\"218.5\" y=\"-824.3\" font-family=\"Times,serif\" font-size=\"14.00\">junk[8]</text>\n</g>\n<!-- BitonicSort&#45;&gt;junk_G59 -->\n<g id=\"edge25\" class=\"edge\">\n<title>BitonicSort:e-&gt;junk_G59:w</title>\n<path fill=\"none\" stroke=\"black\" d=\"M150,-844C168.2,-844 170.41,-829.23 187.36,-828.07\"/>\n<ellipse fill=\"black\" stroke=\"black\" cx=\"188.5\" cy=\"-828.03\" rx=\"1\" ry=\"1\"/>\n<text text-anchor=\"middle\" x=\"168.5\" y=\"-839\" font-family=\"Times,serif\" font-size=\"10.00\">1</text>\n</g>\n<!-- junk_G28 -->\n<g id=\"node27\" class=\"node\">\n<title>junk_G28</title>\n<text text-anchor=\"middle\" x=\"218.5\" y=\"-770.3\" font-family=\"Times,serif\" font-size=\"14.00\">junk[9]</text>\n</g>\n<!-- BitonicSort&#45;&gt;junk_G28 -->\n<g id=\"edge26\" class=\"edge\">\n<title>BitonicSort:e-&gt;junk_G28:w</title>\n<path fill=\"none\" stroke=\"black\" d=\"M150,-823C177.21,-823 162.39,-776.64 187.3,-774.11\"/>\n<ellipse fill=\"black\" stroke=\"black\" cx=\"188.5\" cy=\"-774.05\" rx=\"1\" ry=\"1\"/>\n<text text-anchor=\"middle\" x=\"168.5\" y=\"-807\" font-family=\"Times,serif\" font-size=\"10.00\">1</text>\n</g>\n<!-- junk_G6 -->\n<g id=\"node28\" class=\"node\">\n<title>junk_G6</title>\n<text text-anchor=\"middle\" x=\"218.5\" y=\"-716.3\" font-family=\"Times,serif\" font-size=\"14.00\">junk[10]</text>\n</g>\n<!-- BitonicSort&#45;&gt;junk_G6 -->\n<g id=\"edge27\" class=\"edge\">\n<title>BitonicSort:e-&gt;junk_G6:w</title>\n<path fill=\"none\" stroke=\"black\" d=\"M150,-802C189.2,-802 148.66,-723.17 184.75,-720.09\"/>\n<ellipse fill=\"black\" stroke=\"black\" cx=\"186\" cy=\"-720.04\" rx=\"1\" ry=\"1\"/>\n<text text-anchor=\"middle\" x=\"168.5\" y=\"-787\" font-family=\"Times,serif\" font-size=\"10.00\">1</text>\n</g>\n<!-- junk_G49 -->\n<g id=\"node29\" class=\"node\">\n<title>junk_G49</title>\n<text text-anchor=\"middle\" x=\"218.5\" y=\"-662.3\" font-family=\"Times,serif\" font-size=\"14.00\">junk[11]</text>\n</g>\n<!-- BitonicSort&#45;&gt;junk_G49 -->\n<g id=\"edge28\" class=\"edge\">\n<title>BitonicSort:e-&gt;junk_G49:w</title>\n<path fill=\"none\" stroke=\"black\" d=\"M150,-781C176.11,-781 161.03,-672.2 184.89,-666.25\"/>\n<ellipse fill=\"black\" stroke=\"black\" cx=\"186.01\" cy=\"-666.12\" rx=\"1\" ry=\"1\"/>\n<text text-anchor=\"middle\" x=\"168.5\" y=\"-729\" font-family=\"Times,serif\" font-size=\"10.00\">1</text>\n</g>\n<!-- junk_G51 -->\n<g id=\"node30\" class=\"node\">\n<title>junk_G51</title>\n<text text-anchor=\"middle\" x=\"218.5\" y=\"-608.3\" font-family=\"Times,serif\" font-size=\"14.00\">junk[12]</text>\n</g>\n<!-- BitonicSort&#45;&gt;junk_G51 -->\n<g id=\"edge29\" class=\"edge\">\n<title>BitonicSort:e-&gt;junk_G51:w</title>\n<path fill=\"none\" stroke=\"black\" d=\"M150,-760C183.11,-760 154.51,-618.86 184.72,-612.24\"/>\n<ellipse fill=\"black\" stroke=\"black\" cx=\"186.01\" cy=\"-612.1\" rx=\"1\" ry=\"1\"/>\n<text text-anchor=\"middle\" x=\"168.5\" y=\"-706\" font-family=\"Times,serif\" font-size=\"10.00\">1</text>\n</g>\n<!-- junk_G23 -->\n<g id=\"node31\" class=\"node\">\n<title>junk_G23</title>\n<text text-anchor=\"middle\" x=\"218.5\" y=\"-554.3\" font-family=\"Times,serif\" font-size=\"14.00\">junk[13]</text>\n</g>\n<!-- BitonicSort&#45;&gt;junk_G23 -->\n<g id=\"edge30\" class=\"edge\">\n<title>BitonicSort:e-&gt;junk_G23:w</title>\n<path fill=\"none\" stroke=\"black\" d=\"M150,-739C169.73,-739 166.75,-571.86 184.7,-558.81\"/>\n<ellipse fill=\"black\" stroke=\"black\" cx=\"186.06\" cy=\"-558.33\" rx=\"1\" ry=\"1\"/>\n<text text-anchor=\"middle\" x=\"168.5\" y=\"-656\" font-family=\"Times,serif\" font-size=\"10.00\">1</text>\n</g>\n<!-- junk_G1 -->\n<g id=\"node32\" class=\"node\">\n<title>junk_G1</title>\n<text text-anchor=\"middle\" x=\"218.5\" y=\"-500.3\" font-family=\"Times,serif\" font-size=\"14.00\">junk[14]</text>\n</g>\n<!-- BitonicSort&#45;&gt;junk_G1 -->\n<g id=\"edge31\" class=\"edge\">\n<title>BitonicSort:e-&gt;junk_G1:w</title>\n<path fill=\"none\" stroke=\"black\" d=\"M150,-718C173.38,-718 163.54,-517.17 184.84,-504.61\"/>\n<ellipse fill=\"black\" stroke=\"black\" cx=\"186.04\" cy=\"-504.27\" rx=\"1\" ry=\"1\"/>\n<text text-anchor=\"middle\" x=\"168.5\" y=\"-620\" font-family=\"Times,serif\" font-size=\"10.00\">1</text>\n</g>\n<!-- junk_G42 -->\n<g id=\"node33\" class=\"node\">\n<title>junk_G42</title>\n<text text-anchor=\"middle\" x=\"218.5\" y=\"-446.3\" font-family=\"Times,serif\" font-size=\"14.00\">junk[15]</text>\n</g>\n<!-- BitonicSort&#45;&gt;junk_G42 -->\n<g id=\"edge32\" class=\"edge\">\n<title>BitonicSort:e-&gt;junk_G42:w</title>\n<path fill=\"none\" stroke=\"black\" d=\"M150,-697C176.99,-697 160.23,-463.32 184.83,-450.54\"/>\n<ellipse fill=\"black\" stroke=\"black\" cx=\"186.03\" cy=\"-450.24\" rx=\"1\" ry=\"1\"/>\n<text text-anchor=\"middle\" x=\"168.5\" y=\"-583\" font-family=\"Times,serif\" font-size=\"10.00\">1</text>\n</g>\n<!-- junk_G7 -->\n<g id=\"node34\" class=\"node\">\n<title>junk_G7</title>\n<text text-anchor=\"middle\" x=\"218.5\" y=\"-392.3\" font-family=\"Times,serif\" font-size=\"14.00\">junk[16]</text>\n</g>\n<!-- BitonicSort&#45;&gt;junk_G7 -->\n<g id=\"edge33\" class=\"edge\">\n<title>BitonicSort:e-&gt;junk_G7:w</title>\n<path fill=\"none\" stroke=\"black\" d=\"M150,-676C180.65,-676 156.79,-408.97 184.89,-396.45\"/>\n<ellipse fill=\"black\" stroke=\"black\" cx=\"186.02\" cy=\"-396.21\" rx=\"1\" ry=\"1\"/>\n<text text-anchor=\"middle\" x=\"168.5\" y=\"-555\" font-family=\"Times,serif\" font-size=\"10.00\">1</text>\n</g>\n<!-- junk_G12 -->\n<g id=\"node35\" class=\"node\">\n<title>junk_G12</title>\n<text text-anchor=\"middle\" x=\"218.5\" y=\"-338.3\" font-family=\"Times,serif\" font-size=\"14.00\">junk[17]</text>\n</g>\n<!-- BitonicSort&#45;&gt;junk_G12 -->\n<g id=\"edge34\" class=\"edge\">\n<title>BitonicSort:e-&gt;junk_G12:w</title>\n<path fill=\"none\" stroke=\"black\" d=\"M150,-655C166.89,-655 169.33,-363.62 185.21,-343.13\"/>\n<ellipse fill=\"black\" stroke=\"black\" cx=\"186.16\" cy=\"-342.53\" rx=\"1\" ry=\"1\"/>\n<text text-anchor=\"middle\" x=\"168.5\" y=\"-501\" font-family=\"Times,serif\" font-size=\"10.00\">1</text>\n</g>\n<!-- junk_G66 -->\n<g id=\"node36\" class=\"node\">\n<title>junk_G66</title>\n<text text-anchor=\"middle\" x=\"218.5\" y=\"-284.3\" font-family=\"Times,serif\" font-size=\"14.00\">junk[18]</text>\n</g>\n<!-- BitonicSort&#45;&gt;junk_G66 -->\n<g id=\"edge35\" class=\"edge\">\n<title>BitonicSort:e-&gt;junk_G66:w</title>\n<path fill=\"none\" stroke=\"black\" d=\"M150,-634C168.73,-634 167.75,-309.29 185.25,-288.99\"/>\n<ellipse fill=\"black\" stroke=\"black\" cx=\"186.13\" cy=\"-288.49\" rx=\"1\" ry=\"1\"/>\n<text text-anchor=\"middle\" x=\"168.5\" y=\"-464\" font-family=\"Times,serif\" font-size=\"10.00\">1</text>\n</g>\n<!-- junk_G33 -->\n<g id=\"node37\" class=\"node\">\n<title>junk_G33</title>\n<text text-anchor=\"middle\" x=\"218.5\" y=\"-230.3\" font-family=\"Times,serif\" font-size=\"14.00\">junk[19]</text>\n</g>\n<!-- BitonicSort&#45;&gt;junk_G33 -->\n<g id=\"edge36\" class=\"edge\">\n<title>BitonicSort:e-&gt;junk_G33:w</title>\n<path fill=\"none\" stroke=\"black\" d=\"M150,-613C170.49,-613 166.15,-257.32 185.09,-235.09\"/>\n<ellipse fill=\"black\" stroke=\"black\" cx=\"186.13\" cy=\"-234.5\" rx=\"1\" ry=\"1\"/>\n<text text-anchor=\"middle\" x=\"168.5\" y=\"-437\" font-family=\"Times,serif\" font-size=\"10.00\">1</text>\n</g>\n<!-- junk_G40 -->\n<g id=\"node38\" class=\"node\">\n<title>junk_G40</title>\n<text text-anchor=\"middle\" x=\"218.5\" y=\"-176.3\" font-family=\"Times,serif\" font-size=\"14.00\">junk[20]</text>\n</g>\n<!-- BitonicSort&#45;&gt;junk_G40 -->\n<g id=\"edge37\" class=\"edge\">\n<title>BitonicSort:e-&gt;junk_G40:w</title>\n<path fill=\"none\" stroke=\"black\" d=\"M150,-592C172.35,-592 164.49,-202.22 185.19,-180.91\"/>\n<ellipse fill=\"black\" stroke=\"black\" cx=\"186.11\" cy=\"-180.45\" rx=\"1\" ry=\"1\"/>\n<text text-anchor=\"middle\" x=\"168.5\" y=\"-402\" font-family=\"Times,serif\" font-size=\"10.00\">1</text>\n</g>\n<!-- junk_G4 -->\n<g id=\"node39\" class=\"node\">\n<title>junk_G4</title>\n<text text-anchor=\"middle\" x=\"218.5\" y=\"-122.3\" font-family=\"Times,serif\" font-size=\"14.00\">junk[21]</text>\n</g>\n<!-- BitonicSort&#45;&gt;junk_G4 -->\n<g id=\"edge38\" class=\"edge\">\n<title>BitonicSort:e-&gt;junk_G4:w</title>\n<path fill=\"none\" stroke=\"black\" d=\"M150,-571C174.13,-571 162.85,-150 185.05,-126.98\"/>\n<ellipse fill=\"black\" stroke=\"black\" cx=\"186.11\" cy=\"-126.45\" rx=\"1\" ry=\"1\"/>\n<text text-anchor=\"middle\" x=\"168.5\" y=\"-365\" font-family=\"Times,serif\" font-size=\"10.00\">1</text>\n</g>\n<!-- junk_G58 -->\n<g id=\"node40\" class=\"node\">\n<title>junk_G58</title>\n<text text-anchor=\"middle\" x=\"218.5\" y=\"-68.3\" font-family=\"Times,serif\" font-size=\"14.00\">junk[22]</text>\n</g>\n<!-- BitonicSort&#45;&gt;junk_G58 -->\n<g id=\"edge39\" class=\"edge\">\n<title>BitonicSort:e-&gt;junk_G58:w</title>\n<path fill=\"none\" stroke=\"black\" d=\"M150,-550C162.85,-550 172.95,-105.02 185.61,-73.73\"/>\n<ellipse fill=\"black\" stroke=\"black\" cx=\"186.37\" cy=\"-72.78\" rx=\"1\" ry=\"1\"/>\n<text text-anchor=\"middle\" x=\"168.5\" y=\"-314\" font-family=\"Times,serif\" font-size=\"10.00\">1</text>\n</g>\n<!-- junk_G27 -->\n<g id=\"node41\" class=\"node\">\n<title>junk_G27</title>\n<text text-anchor=\"middle\" x=\"218.5\" y=\"-14.3\" font-family=\"Times,serif\" font-size=\"14.00\">junk[23]</text>\n</g>\n<!-- BitonicSort&#45;&gt;junk_G27 -->\n<g id=\"edge40\" class=\"edge\">\n<title>BitonicSort:e-&gt;junk_G27:w</title>\n<path fill=\"none\" stroke=\"black\" d=\"M150,-529C177.8,-529 159.44,-41.67 185.08,-18.83\"/>\n<ellipse fill=\"black\" stroke=\"black\" cx=\"186.08\" cy=\"-18.4\" rx=\"1\" ry=\"1\"/>\n<text text-anchor=\"middle\" x=\"168.5\" y=\"-292\" font-family=\"Times,serif\" font-size=\"10.00\">1</text>\n</g>\n</g>\n</svg>",
          "text/plain": "<IPython.core.display.SVG object>"
         },
         "metadata": {},
         "output_type": "display_data"
        }
       ],
       "tabbable": null,
       "tooltip": null
      }
     },
     "a5a43e7c84f148bea0f9058d154477ae": {
      "model_module": "@jupyter-widgets/base",
      "model_module_version": "2.0.0",
      "model_name": "LayoutModel",
      "state": {
       "_model_module": "@jupyter-widgets/base",
       "_model_module_version": "2.0.0",
       "_model_name": "LayoutModel",
       "_view_count": null,
       "_view_module": "@jupyter-widgets/base",
       "_view_module_version": "2.0.0",
       "_view_name": "LayoutView",
       "align_content": null,
       "align_items": null,
       "align_self": null,
       "border_bottom": null,
       "border_left": null,
       "border_right": null,
       "border_top": null,
       "bottom": null,
       "display": null,
       "flex": null,
       "flex_flow": null,
       "grid_area": null,
       "grid_auto_columns": null,
       "grid_auto_flow": null,
       "grid_auto_rows": null,
       "grid_column": null,
       "grid_gap": null,
       "grid_row": null,
       "grid_template_areas": null,
       "grid_template_columns": null,
       "grid_template_rows": null,
       "height": null,
       "justify_content": null,
       "justify_items": null,
       "left": null,
       "margin": null,
       "max_height": null,
       "max_width": null,
       "min_height": null,
       "min_width": null,
       "object_fit": null,
       "object_position": null,
       "order": null,
       "overflow": null,
       "padding": null,
       "right": null,
       "top": null,
       "visibility": null,
       "width": null
      }
     },
     "bddd131fcb0442e5adfd440a0545c5e9": {
      "model_module": "@jupyter-widgets/base",
      "model_module_version": "2.0.0",
      "model_name": "LayoutModel",
      "state": {
       "_model_module": "@jupyter-widgets/base",
       "_model_module_version": "2.0.0",
       "_model_name": "LayoutModel",
       "_view_count": null,
       "_view_module": "@jupyter-widgets/base",
       "_view_module_version": "2.0.0",
       "_view_name": "LayoutView",
       "align_content": null,
       "align_items": null,
       "align_self": null,
       "border_bottom": null,
       "border_left": null,
       "border_right": null,
       "border_top": null,
       "bottom": null,
       "display": null,
       "flex": null,
       "flex_flow": null,
       "grid_area": null,
       "grid_auto_columns": null,
       "grid_auto_flow": null,
       "grid_auto_rows": null,
       "grid_column": null,
       "grid_gap": null,
       "grid_row": null,
       "grid_template_areas": null,
       "grid_template_columns": null,
       "grid_template_rows": null,
       "height": null,
       "justify_content": null,
       "justify_items": null,
       "left": null,
       "margin": null,
       "max_height": null,
       "max_width": null,
       "min_height": null,
       "min_width": null,
       "object_fit": null,
       "object_position": null,
       "order": null,
       "overflow": null,
       "padding": null,
       "right": null,
       "top": null,
       "visibility": null,
       "width": null
      }
     },
     "c5e5630a1ffa431c93793d4da5efeafb": {
      "model_module": "@jupyter-widgets/base",
      "model_module_version": "2.0.0",
      "model_name": "LayoutModel",
      "state": {
       "_model_module": "@jupyter-widgets/base",
       "_model_module_version": "2.0.0",
       "_model_name": "LayoutModel",
       "_view_count": null,
       "_view_module": "@jupyter-widgets/base",
       "_view_module_version": "2.0.0",
       "_view_name": "LayoutView",
       "align_content": null,
       "align_items": null,
       "align_self": null,
       "border_bottom": null,
       "border_left": null,
       "border_right": null,
       "border_top": null,
       "bottom": null,
       "display": null,
       "flex": null,
       "flex_flow": null,
       "grid_area": null,
       "grid_auto_columns": null,
       "grid_auto_flow": null,
       "grid_auto_rows": null,
       "grid_column": null,
       "grid_gap": null,
       "grid_row": null,
       "grid_template_areas": null,
       "grid_template_columns": null,
       "grid_template_rows": null,
       "height": null,
       "justify_content": null,
       "justify_items": null,
       "left": null,
       "margin": null,
       "max_height": null,
       "max_width": null,
       "min_height": null,
       "min_width": null,
       "object_fit": null,
       "object_position": null,
       "order": null,
       "overflow": null,
       "padding": null,
       "right": null,
       "top": null,
       "visibility": null,
       "width": null
      }
     },
     "c75aab4d70f54f46a4361cb3d65eebc8": {
      "model_module": "@jupyter-widgets/base",
      "model_module_version": "2.0.0",
      "model_name": "LayoutModel",
      "state": {
       "_model_module": "@jupyter-widgets/base",
       "_model_module_version": "2.0.0",
       "_model_name": "LayoutModel",
       "_view_count": null,
       "_view_module": "@jupyter-widgets/base",
       "_view_module_version": "2.0.0",
       "_view_name": "LayoutView",
       "align_content": null,
       "align_items": null,
       "align_self": null,
       "border_bottom": null,
       "border_left": null,
       "border_right": null,
       "border_top": null,
       "bottom": null,
       "display": null,
       "flex": null,
       "flex_flow": null,
       "grid_area": null,
       "grid_auto_columns": null,
       "grid_auto_flow": null,
       "grid_auto_rows": null,
       "grid_column": null,
       "grid_gap": null,
       "grid_row": null,
       "grid_template_areas": null,
       "grid_template_columns": null,
       "grid_template_rows": null,
       "height": null,
       "justify_content": null,
       "justify_items": null,
       "left": null,
       "margin": null,
       "max_height": null,
       "max_width": null,
       "min_height": null,
       "min_width": null,
       "object_fit": null,
       "object_position": null,
       "order": null,
       "overflow": null,
       "padding": null,
       "right": null,
       "top": null,
       "visibility": null,
       "width": null
      }
     },
     "d9ad7aa844b041979d0a6cd5dfe0ac3b": {
      "model_module": "@jupyter-widgets/base",
      "model_module_version": "2.0.0",
      "model_name": "LayoutModel",
      "state": {
       "_model_module": "@jupyter-widgets/base",
       "_model_module_version": "2.0.0",
       "_model_name": "LayoutModel",
       "_view_count": null,
       "_view_module": "@jupyter-widgets/base",
       "_view_module_version": "2.0.0",
       "_view_name": "LayoutView",
       "align_content": null,
       "align_items": null,
       "align_self": null,
       "border_bottom": null,
       "border_left": null,
       "border_right": null,
       "border_top": null,
       "bottom": null,
       "display": null,
       "flex": null,
       "flex_flow": null,
       "grid_area": null,
       "grid_auto_columns": null,
       "grid_auto_flow": null,
       "grid_auto_rows": null,
       "grid_column": null,
       "grid_gap": null,
       "grid_row": null,
       "grid_template_areas": null,
       "grid_template_columns": null,
       "grid_template_rows": null,
       "height": null,
       "justify_content": null,
       "justify_items": null,
       "left": null,
       "margin": null,
       "max_height": null,
       "max_width": null,
       "min_height": null,
       "min_width": null,
       "object_fit": null,
       "object_position": null,
       "order": null,
       "overflow": null,
       "padding": null,
       "right": null,
       "top": null,
       "visibility": null,
       "width": null
      }
     },
     "dea2ac5b6e2548fc888571996cfd1259": {
      "model_module": "@jupyter-widgets/output",
      "model_module_version": "1.0.0",
      "model_name": "OutputModel",
      "state": {
       "_dom_classes": [],
       "_model_module": "@jupyter-widgets/output",
       "_model_module_version": "1.0.0",
       "_model_name": "OutputModel",
       "_view_count": null,
       "_view_module": "@jupyter-widgets/output",
       "_view_module_version": "1.0.0",
       "_view_name": "OutputView",
       "layout": "IPY_MODEL_ee3205fb59704427bfbec34081e9b7e9",
       "msg_id": "",
       "outputs": [
        {
         "data": {
          "text/markdown": "`parallel_compare`",
          "text/plain": "<IPython.core.display.Markdown object>"
         },
         "metadata": {},
         "output_type": "display_data"
        },
        {
         "data": {
          "image/svg+xml": "<svg xmlns=\"http://www.w3.org/2000/svg\" xmlns:xlink=\"http://www.w3.org/1999/xlink\" width=\"281pt\" height=\"530pt\" viewBox=\"0.00 0.00 281.00 530.00\">\n<g id=\"graph0\" class=\"graph\" transform=\"scale(1 1) rotate(0) translate(4 526)\">\n<title>my_graph</title>\n<polygon fill=\"white\" stroke=\"transparent\" points=\"-4,4 -4,-526 277,-526 277,4 -4,4\"/>\n<!-- xs_G9 -->\n<g id=\"node1\" class=\"node\">\n<title>xs_G9</title>\n<text text-anchor=\"middle\" x=\"27\" y=\"-451.3\" font-family=\"Times,serif\" font-size=\"14.00\">xs[0]</text>\n</g>\n<!-- ParallelComparators -->\n<g id=\"node8\" class=\"node\">\n<title>ParallelComparators</title>\n<polygon fill=\"none\" stroke=\"black\" points=\"91.5,-366 91.5,-383 180.5,-383 180.5,-366 91.5,-366\"/>\n<text text-anchor=\"start\" x=\"94.5\" y=\"-372\" font-family=\"Times,serif\" font-size=\"10.00\">ParallelComparators</text>\n<polygon fill=\"none\" stroke=\"black\" points=\"91.5,-345 91.5,-366 180.5,-366 180.5,-345 91.5,-345\"/>\n<text text-anchor=\"start\" x=\"122\" y=\"-351.8\" font-family=\"Times,serif\" font-size=\"14.00\">xs[0]</text>\n<polygon fill=\"none\" stroke=\"black\" points=\"91.5,-324 91.5,-345 180.5,-345 180.5,-324 91.5,-324\"/>\n<text text-anchor=\"start\" x=\"122\" y=\"-330.8\" font-family=\"Times,serif\" font-size=\"14.00\">xs[1]</text>\n<polygon fill=\"none\" stroke=\"black\" points=\"91.5,-303 91.5,-324 180.5,-324 180.5,-303 91.5,-303\"/>\n<text text-anchor=\"start\" x=\"122\" y=\"-309.8\" font-family=\"Times,serif\" font-size=\"14.00\">xs[2]</text>\n<polygon fill=\"none\" stroke=\"black\" points=\"91.5,-282 91.5,-303 180.5,-303 180.5,-282 91.5,-282\"/>\n<text text-anchor=\"start\" x=\"122\" y=\"-288.8\" font-family=\"Times,serif\" font-size=\"14.00\">xs[3]</text>\n<polygon fill=\"none\" stroke=\"black\" points=\"91.5,-261 91.5,-282 180.5,-282 180.5,-261 91.5,-261\"/>\n<text text-anchor=\"start\" x=\"122\" y=\"-267.8\" font-family=\"Times,serif\" font-size=\"14.00\">xs[4]</text>\n<polygon fill=\"none\" stroke=\"black\" points=\"91.5,-240 91.5,-261 180.5,-261 180.5,-240 91.5,-240\"/>\n<text text-anchor=\"start\" x=\"122\" y=\"-246.8\" font-family=\"Times,serif\" font-size=\"14.00\">xs[5]</text>\n<polygon fill=\"none\" stroke=\"black\" points=\"91.5,-219 91.5,-240 180.5,-240 180.5,-219 91.5,-219\"/>\n<text text-anchor=\"start\" x=\"122\" y=\"-225.8\" font-family=\"Times,serif\" font-size=\"14.00\">xs[6]</text>\n<polygon fill=\"none\" stroke=\"black\" points=\"91.5,-198 91.5,-219 115.5,-219 115.5,-198 91.5,-198\"/>\n<polygon fill=\"none\" stroke=\"black\" points=\"115.5,-198 115.5,-219 180.5,-219 180.5,-198 115.5,-198\"/>\n<text text-anchor=\"start\" x=\"128\" y=\"-204.8\" font-family=\"Times,serif\" font-size=\"14.00\">junk[0]</text>\n<polygon fill=\"none\" stroke=\"black\" points=\"91.5,-177 91.5,-198 115.5,-198 115.5,-177 91.5,-177\"/>\n<polygon fill=\"none\" stroke=\"black\" points=\"115.5,-177 115.5,-198 180.5,-198 180.5,-177 115.5,-177\"/>\n<text text-anchor=\"start\" x=\"128\" y=\"-183.8\" font-family=\"Times,serif\" font-size=\"14.00\">junk[1]</text>\n<polygon fill=\"none\" stroke=\"black\" points=\"91.5,-156 91.5,-177 115.5,-177 115.5,-156 91.5,-156\"/>\n<polygon fill=\"none\" stroke=\"black\" points=\"115.5,-156 115.5,-177 180.5,-177 180.5,-156 115.5,-156\"/>\n<text text-anchor=\"start\" x=\"128\" y=\"-162.8\" font-family=\"Times,serif\" font-size=\"14.00\">junk[2]</text>\n</g>\n<!-- xs_G9&#45;&gt;ParallelComparators -->\n<g id=\"edge1\" class=\"edge\">\n<title>xs_G9:e-&gt;ParallelComparators:w</title>\n<path fill=\"none\" stroke=\"black\" d=\"M54,-455C76.75,-455 68.1,-362.09 88.89,-356.28\"/>\n<ellipse fill=\"black\" stroke=\"black\" cx=\"90.01\" cy=\"-356.13\" rx=\"1\" ry=\"1\"/>\n<text text-anchor=\"middle\" x=\"72.5\" y=\"-411\" font-family=\"Times,serif\" font-size=\"10.00\">3</text>\n</g>\n<!-- xs_G5 -->\n<g id=\"node2\" class=\"node\">\n<title>xs_G5</title>\n<text text-anchor=\"middle\" x=\"27\" y=\"-397.3\" font-family=\"Times,serif\" font-size=\"14.00\">xs[1]</text>\n</g>\n<!-- xs_G5&#45;&gt;ParallelComparators -->\n<g id=\"edge2\" class=\"edge\">\n<title>xs_G5:e-&gt;ParallelComparators:w</title>\n<path fill=\"none\" stroke=\"black\" d=\"M54,-401C86.84,-401 58.75,-338.06 88.74,-335.11\"/>\n<ellipse fill=\"black\" stroke=\"black\" cx=\"90\" cy=\"-335.05\" rx=\"1\" ry=\"1\"/>\n<text text-anchor=\"middle\" x=\"72.5\" y=\"-378\" font-family=\"Times,serif\" font-size=\"10.00\">3</text>\n</g>\n<!-- xs_G10 -->\n<g id=\"node3\" class=\"node\">\n<title>xs_G10</title>\n<text text-anchor=\"middle\" x=\"27\" y=\"-343.3\" font-family=\"Times,serif\" font-size=\"14.00\">xs[2]</text>\n</g>\n<!-- xs_G10&#45;&gt;ParallelComparators -->\n<g id=\"edge3\" class=\"edge\">\n<title>xs_G10:e-&gt;ParallelComparators:w</title>\n<path fill=\"none\" stroke=\"black\" d=\"M54,-347C75.17,-347 69.47,-316.53 88.55,-314.15\"/>\n<ellipse fill=\"black\" stroke=\"black\" cx=\"90\" cy=\"-314.06\" rx=\"1\" ry=\"1\"/>\n<text text-anchor=\"middle\" x=\"72.5\" y=\"-334\" font-family=\"Times,serif\" font-size=\"10.00\">3</text>\n</g>\n<!-- xs_G17 -->\n<g id=\"node4\" class=\"node\">\n<title>xs_G17</title>\n<text text-anchor=\"middle\" x=\"27\" y=\"-289.3\" font-family=\"Times,serif\" font-size=\"14.00\">xs[3]</text>\n</g>\n<!-- xs_G17&#45;&gt;ParallelComparators -->\n<g id=\"edge4\" class=\"edge\">\n<title>xs_G17:e-&gt;ParallelComparators:w</title>\n<path fill=\"none\" stroke=\"black\" d=\"M54,-293C69.67,-293 74.14,-293 88.77,-293\"/>\n<ellipse fill=\"black\" stroke=\"black\" cx=\"90\" cy=\"-293\" rx=\"1\" ry=\"1\"/>\n<text text-anchor=\"middle\" x=\"72.5\" y=\"-296\" font-family=\"Times,serif\" font-size=\"10.00\">3</text>\n</g>\n<!-- xs_G25 -->\n<g id=\"node5\" class=\"node\">\n<title>xs_G25</title>\n<text text-anchor=\"middle\" x=\"27\" y=\"-235.3\" font-family=\"Times,serif\" font-size=\"14.00\">xs[4]</text>\n</g>\n<!-- xs_G25&#45;&gt;ParallelComparators -->\n<g id=\"edge5\" class=\"edge\">\n<title>xs_G25:e-&gt;ParallelComparators:w</title>\n<path fill=\"none\" stroke=\"black\" d=\"M54,-239C75.17,-239 69.47,-269.47 88.55,-271.85\"/>\n<ellipse fill=\"black\" stroke=\"black\" cx=\"90\" cy=\"-271.94\" rx=\"1\" ry=\"1\"/>\n<text text-anchor=\"middle\" x=\"72.5\" y=\"-259\" font-family=\"Times,serif\" font-size=\"10.00\">3</text>\n</g>\n<!-- xs_G20 -->\n<g id=\"node6\" class=\"node\">\n<title>xs_G20</title>\n<text text-anchor=\"middle\" x=\"27\" y=\"-181.3\" font-family=\"Times,serif\" font-size=\"14.00\">xs[5]</text>\n</g>\n<!-- xs_G20&#45;&gt;ParallelComparators -->\n<g id=\"edge6\" class=\"edge\">\n<title>xs_G20:e-&gt;ParallelComparators:w</title>\n<path fill=\"none\" stroke=\"black\" d=\"M54,-185C86.46,-185 59.11,-246.99 88.76,-249.89\"/>\n<ellipse fill=\"black\" stroke=\"black\" cx=\"90\" cy=\"-249.95\" rx=\"1\" ry=\"1\"/>\n<text text-anchor=\"middle\" x=\"72.5\" y=\"-226\" font-family=\"Times,serif\" font-size=\"10.00\">3</text>\n</g>\n<!-- xs_G1 -->\n<g id=\"node7\" class=\"node\">\n<title>xs_G1</title>\n<text text-anchor=\"middle\" x=\"27\" y=\"-127.3\" font-family=\"Times,serif\" font-size=\"14.00\">xs[6]</text>\n</g>\n<!-- xs_G1&#45;&gt;ParallelComparators -->\n<g id=\"edge7\" class=\"edge\">\n<title>xs_G1:e-&gt;ParallelComparators:w</title>\n<path fill=\"none\" stroke=\"black\" d=\"M54,-131C76.55,-131 68.29,-222.97 88.91,-228.72\"/>\n<ellipse fill=\"black\" stroke=\"black\" cx=\"90.01\" cy=\"-228.87\" rx=\"1\" ry=\"1\"/>\n<text text-anchor=\"middle\" x=\"72.5\" y=\"-185\" font-family=\"Times,serif\" font-size=\"10.00\">3</text>\n</g>\n<!-- xs_G4 -->\n<g id=\"node9\" class=\"node\">\n<title>xs_G4</title>\n<text text-anchor=\"middle\" x=\"245\" y=\"-500.3\" font-family=\"Times,serif\" font-size=\"14.00\">xs[0]</text>\n</g>\n<!-- ParallelComparators&#45;&gt;xs_G4 -->\n<g id=\"edge8\" class=\"edge\">\n<title>ParallelComparators:e-&gt;xs_G4:w</title>\n<path fill=\"none\" stroke=\"black\" d=\"M180,-356C213.11,-356 184.51,-497.14 214.72,-503.76\"/>\n<ellipse fill=\"black\" stroke=\"black\" cx=\"216.01\" cy=\"-503.9\" rx=\"1\" ry=\"1\"/>\n<text text-anchor=\"middle\" x=\"198.5\" y=\"-450\" font-family=\"Times,serif\" font-size=\"10.00\">3</text>\n</g>\n<!-- xs_G0 -->\n<g id=\"node10\" class=\"node\">\n<title>xs_G0</title>\n<text text-anchor=\"middle\" x=\"245\" y=\"-446.3\" font-family=\"Times,serif\" font-size=\"14.00\">xs[1]</text>\n</g>\n<!-- ParallelComparators&#45;&gt;xs_G0 -->\n<g id=\"edge9\" class=\"edge\">\n<title>ParallelComparators:e-&gt;xs_G0:w</title>\n<path fill=\"none\" stroke=\"black\" d=\"M180,-335C206.11,-335 191.03,-443.8 214.89,-449.75\"/>\n<ellipse fill=\"black\" stroke=\"black\" cx=\"216.01\" cy=\"-449.88\" rx=\"1\" ry=\"1\"/>\n<text text-anchor=\"middle\" x=\"198.5\" y=\"-398\" font-family=\"Times,serif\" font-size=\"10.00\">3</text>\n</g>\n<!-- xs_G6 -->\n<g id=\"node11\" class=\"node\">\n<title>xs_G6</title>\n<text text-anchor=\"middle\" x=\"245\" y=\"-392.3\" font-family=\"Times,serif\" font-size=\"14.00\">xs[2]</text>\n</g>\n<!-- ParallelComparators&#45;&gt;xs_G6 -->\n<g id=\"edge10\" class=\"edge\">\n<title>ParallelComparators:e-&gt;xs_G6:w</title>\n<path fill=\"none\" stroke=\"black\" d=\"M180,-314C219.2,-314 178.66,-392.83 214.75,-395.91\"/>\n<ellipse fill=\"black\" stroke=\"black\" cx=\"216\" cy=\"-395.96\" rx=\"1\" ry=\"1\"/>\n<text text-anchor=\"middle\" x=\"198.5\" y=\"-381\" font-family=\"Times,serif\" font-size=\"10.00\">3</text>\n</g>\n<!-- xs_G13 -->\n<g id=\"node12\" class=\"node\">\n<title>xs_G13</title>\n<text text-anchor=\"middle\" x=\"245\" y=\"-338.3\" font-family=\"Times,serif\" font-size=\"14.00\">xs[3]</text>\n</g>\n<!-- ParallelComparators&#45;&gt;xs_G13 -->\n<g id=\"edge11\" class=\"edge\">\n<title>ParallelComparators:e-&gt;xs_G13:w</title>\n<path fill=\"none\" stroke=\"black\" d=\"M180,-293C206.54,-293 190.64,-339.36 214.86,-341.89\"/>\n<ellipse fill=\"black\" stroke=\"black\" cx=\"216\" cy=\"-341.95\" rx=\"1\" ry=\"1\"/>\n<text text-anchor=\"middle\" x=\"198.5\" y=\"-321\" font-family=\"Times,serif\" font-size=\"10.00\">3</text>\n</g>\n<!-- xs_G18 -->\n<g id=\"node13\" class=\"node\">\n<title>xs_G18</title>\n<text text-anchor=\"middle\" x=\"245\" y=\"-284.3\" font-family=\"Times,serif\" font-size=\"14.00\">xs[4]</text>\n</g>\n<!-- ParallelComparators&#45;&gt;xs_G18 -->\n<g id=\"edge12\" class=\"edge\">\n<title>ParallelComparators:e-&gt;xs_G18:w</title>\n<path fill=\"none\" stroke=\"black\" d=\"M180,-272C197.22,-272 198.97,-286.77 214.98,-287.93\"/>\n<ellipse fill=\"black\" stroke=\"black\" cx=\"216\" cy=\"-287.96\" rx=\"1\" ry=\"1\"/>\n<text text-anchor=\"middle\" x=\"198.5\" y=\"-283\" font-family=\"Times,serif\" font-size=\"10.00\">3</text>\n</g>\n<!-- xs_G16 -->\n<g id=\"node14\" class=\"node\">\n<title>xs_G16</title>\n<text text-anchor=\"middle\" x=\"245\" y=\"-230.3\" font-family=\"Times,serif\" font-size=\"14.00\">xs[5]</text>\n</g>\n<!-- ParallelComparators&#45;&gt;xs_G16 -->\n<g id=\"edge13\" class=\"edge\">\n<title>ParallelComparators:e-&gt;xs_G16:w</title>\n<path fill=\"none\" stroke=\"black\" d=\"M180,-250C197.22,-250 198.97,-235.23 214.98,-234.07\"/>\n<ellipse fill=\"black\" stroke=\"black\" cx=\"216\" cy=\"-234.04\" rx=\"1\" ry=\"1\"/>\n<text text-anchor=\"middle\" x=\"198.5\" y=\"-245\" font-family=\"Times,serif\" font-size=\"10.00\">3</text>\n</g>\n<!-- xs_G21 -->\n<g id=\"node15\" class=\"node\">\n<title>xs_G21</title>\n<text text-anchor=\"middle\" x=\"245\" y=\"-176.3\" font-family=\"Times,serif\" font-size=\"14.00\">xs[6]</text>\n</g>\n<!-- ParallelComparators&#45;&gt;xs_G21 -->\n<g id=\"edge14\" class=\"edge\">\n<title>ParallelComparators:e-&gt;xs_G21:w</title>\n<path fill=\"none\" stroke=\"black\" d=\"M180,-229C206.54,-229 190.64,-182.64 214.86,-180.11\"/>\n<ellipse fill=\"black\" stroke=\"black\" cx=\"216\" cy=\"-180.05\" rx=\"1\" ry=\"1\"/>\n<text text-anchor=\"middle\" x=\"198.5\" y=\"-208\" font-family=\"Times,serif\" font-size=\"10.00\">3</text>\n</g>\n<!-- junk_G15 -->\n<g id=\"node16\" class=\"node\">\n<title>junk_G15</title>\n<text text-anchor=\"middle\" x=\"245\" y=\"-122.3\" font-family=\"Times,serif\" font-size=\"14.00\">junk[0]</text>\n</g>\n<!-- ParallelComparators&#45;&gt;junk_G15 -->\n<g id=\"edge15\" class=\"edge\">\n<title>ParallelComparators:e-&gt;junk_G15:w</title>\n<path fill=\"none\" stroke=\"black\" d=\"M180,-208C219.2,-208 178.66,-129.17 214.75,-126.09\"/>\n<ellipse fill=\"black\" stroke=\"black\" cx=\"216\" cy=\"-126.04\" rx=\"1\" ry=\"1\"/>\n<text text-anchor=\"middle\" x=\"198.5\" y=\"-193\" font-family=\"Times,serif\" font-size=\"10.00\">1</text>\n</g>\n<!-- junk_G11 -->\n<g id=\"node17\" class=\"node\">\n<title>junk_G11</title>\n<text text-anchor=\"middle\" x=\"245\" y=\"-68.3\" font-family=\"Times,serif\" font-size=\"14.00\">junk[1]</text>\n</g>\n<!-- ParallelComparators&#45;&gt;junk_G11 -->\n<g id=\"edge16\" class=\"edge\">\n<title>ParallelComparators:e-&gt;junk_G11:w</title>\n<path fill=\"none\" stroke=\"black\" d=\"M180,-187C206.11,-187 191.03,-78.2 214.89,-72.25\"/>\n<ellipse fill=\"black\" stroke=\"black\" cx=\"216.01\" cy=\"-72.12\" rx=\"1\" ry=\"1\"/>\n<text text-anchor=\"middle\" x=\"198.5\" y=\"-136\" font-family=\"Times,serif\" font-size=\"10.00\">1</text>\n</g>\n<!-- junk_G19 -->\n<g id=\"node18\" class=\"node\">\n<title>junk_G19</title>\n<text text-anchor=\"middle\" x=\"245\" y=\"-14.3\" font-family=\"Times,serif\" font-size=\"14.00\">junk[2]</text>\n</g>\n<!-- ParallelComparators&#45;&gt;junk_G19 -->\n<g id=\"edge17\" class=\"edge\">\n<title>ParallelComparators:e-&gt;junk_G19:w</title>\n<path fill=\"none\" stroke=\"black\" d=\"M180,-166C213.11,-166 184.51,-24.86 214.72,-18.24\"/>\n<ellipse fill=\"black\" stroke=\"black\" cx=\"216.01\" cy=\"-18.1\" rx=\"1\" ry=\"1\"/>\n<text text-anchor=\"middle\" x=\"198.5\" y=\"-113\" font-family=\"Times,serif\" font-size=\"10.00\">1</text>\n</g>\n</g>\n</svg>",
          "text/plain": "<IPython.core.display.SVG object>"
         },
         "metadata": {},
         "output_type": "display_data"
        }
       ],
       "tabbable": null,
       "tooltip": null
      }
     },
     "e0bab224c52b46c488aef98d56673792": {
      "model_module": "@jupyter-widgets/base",
      "model_module_version": "2.0.0",
      "model_name": "LayoutModel",
      "state": {
       "_model_module": "@jupyter-widgets/base",
       "_model_module_version": "2.0.0",
       "_model_name": "LayoutModel",
       "_view_count": null,
       "_view_module": "@jupyter-widgets/base",
       "_view_module_version": "2.0.0",
       "_view_name": "LayoutView",
       "align_content": null,
       "align_items": null,
       "align_self": null,
       "border_bottom": null,
       "border_left": null,
       "border_right": null,
       "border_top": null,
       "bottom": null,
       "display": null,
       "flex": null,
       "flex_flow": null,
       "grid_area": null,
       "grid_auto_columns": null,
       "grid_auto_flow": null,
       "grid_auto_rows": null,
       "grid_column": null,
       "grid_gap": null,
       "grid_row": null,
       "grid_template_areas": null,
       "grid_template_columns": null,
       "grid_template_rows": null,
       "height": null,
       "justify_content": null,
       "justify_items": null,
       "left": null,
       "margin": null,
       "max_height": null,
       "max_width": null,
       "min_height": null,
       "min_width": null,
       "object_fit": null,
       "object_position": null,
       "order": null,
       "overflow": null,
       "padding": null,
       "right": null,
       "top": null,
       "visibility": null,
       "width": null
      }
     },
     "e34538325cf245d294fbdfe0c7552fde": {
      "model_module": "@jupyter-widgets/controls",
      "model_module_version": "2.0.0",
      "model_name": "HBoxModel",
      "state": {
       "_dom_classes": [],
       "_model_module": "@jupyter-widgets/controls",
       "_model_module_version": "2.0.0",
       "_model_name": "HBoxModel",
       "_view_count": null,
       "_view_module": "@jupyter-widgets/controls",
       "_view_module_version": "2.0.0",
       "_view_name": "HBoxView",
       "box_style": "",
       "children": [
        "IPY_MODEL_0420e46f12d1461d927f8a1664c2d2b5",
        "IPY_MODEL_434cfddda3724ae1be88ac6ca41f6901"
       ],
       "layout": "IPY_MODEL_80dd3509b42345979011b3957312fd77",
       "tabbable": null,
       "tooltip": null
      }
     },
     "e4fd9796675a4a1d812b98b76c0cd378": {
      "model_module": "@jupyter-widgets/base",
      "model_module_version": "2.0.0",
      "model_name": "LayoutModel",
      "state": {
       "_model_module": "@jupyter-widgets/base",
       "_model_module_version": "2.0.0",
       "_model_name": "LayoutModel",
       "_view_count": null,
       "_view_module": "@jupyter-widgets/base",
       "_view_module_version": "2.0.0",
       "_view_name": "LayoutView",
       "align_content": null,
       "align_items": null,
       "align_self": null,
       "border_bottom": null,
       "border_left": null,
       "border_right": null,
       "border_top": null,
       "bottom": null,
       "display": null,
       "flex": null,
       "flex_flow": null,
       "grid_area": null,
       "grid_auto_columns": null,
       "grid_auto_flow": null,
       "grid_auto_rows": null,
       "grid_column": null,
       "grid_gap": null,
       "grid_row": null,
       "grid_template_areas": null,
       "grid_template_columns": null,
       "grid_template_rows": null,
       "height": null,
       "justify_content": null,
       "justify_items": null,
       "left": null,
       "margin": null,
       "max_height": null,
       "max_width": null,
       "min_height": null,
       "min_width": null,
       "object_fit": null,
       "object_position": null,
       "order": null,
       "overflow": null,
       "padding": null,
       "right": null,
       "top": null,
       "visibility": null,
       "width": null
      }
     },
     "ee3205fb59704427bfbec34081e9b7e9": {
      "model_module": "@jupyter-widgets/base",
      "model_module_version": "2.0.0",
      "model_name": "LayoutModel",
      "state": {
       "_model_module": "@jupyter-widgets/base",
       "_model_module_version": "2.0.0",
       "_model_name": "LayoutModel",
       "_view_count": null,
       "_view_module": "@jupyter-widgets/base",
       "_view_module_version": "2.0.0",
       "_view_name": "LayoutView",
       "align_content": null,
       "align_items": null,
       "align_self": null,
       "border_bottom": null,
       "border_left": null,
       "border_right": null,
       "border_top": null,
       "bottom": null,
       "display": null,
       "flex": null,
       "flex_flow": null,
       "grid_area": null,
       "grid_auto_columns": null,
       "grid_auto_flow": null,
       "grid_auto_rows": null,
       "grid_column": null,
       "grid_gap": null,
       "grid_row": null,
       "grid_template_areas": null,
       "grid_template_columns": null,
       "grid_template_rows": null,
       "height": null,
       "justify_content": null,
       "justify_items": null,
       "left": null,
       "margin": null,
       "max_height": null,
       "max_width": null,
       "min_height": null,
       "min_width": null,
       "object_fit": null,
       "object_position": null,
       "order": null,
       "overflow": null,
       "padding": null,
       "right": null,
       "top": null,
       "visibility": null,
       "width": null
      }
     }
    },
    "version_major": 2,
    "version_minor": 0
   }
  }
 },
 "nbformat": 4,
 "nbformat_minor": 5
}
