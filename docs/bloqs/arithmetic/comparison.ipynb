{
 "cells": [
  {
   "cell_type": "markdown",
   "id": "23228f10",
   "metadata": {
    "cq.autogen": "title_cell"
   },
   "source": [
    "# Comparison"
   ]
  },
  {
   "cell_type": "code",
   "execution_count": 1,
   "id": "100135a5",
   "metadata": {
    "cq.autogen": "top_imports"
   },
   "outputs": [],
   "source": [
    "from qualtran import Bloq, CompositeBloq, BloqBuilder, Signature, Register\n",
    "from qualtran import QBit, QInt, QUInt, QAny\n",
    "from qualtran.drawing import show_bloq, show_call_graph, show_counts_sigma\n",
    "from typing import *\n",
    "import numpy as np\n",
    "import sympy\n",
    "import cirq"
   ]
  },
  {
   "cell_type": "markdown",
   "id": "583b18fb",
   "metadata": {
    "cq.autogen": "GreaterThan.bloq_doc.md"
   },
   "source": [
    "## `GreaterThan`\n",
    "Compare two integers.\n",
    "\n",
    "Implements $U|a\\rangle|b\\rangle|0\\rangle \\rightarrow\n",
    "|a\\rangle|b\\rangle|a > b\\rangle$ using $8n T$  gates.\n",
    "\n",
    "The bloq_counts and t_complexity are derived from equivalent qualtran gates\n",
    "assuming a clean decomposition which should yield identical costs.\n",
    "\n",
    "See: https://github.com/quantumlib/Qualtran/pull/381 and\n",
    "https://qualtran.readthedocs.io/en/latest/bloqs/comparison_gates.html\n",
    "\n",
    "#### Parameters\n",
    " - `bitsize`: Number of bits used to represent the two integers a and b. \n",
    "\n",
    "#### Registers\n",
    " - `a`: n-bit-sized input registers.\n",
    " - `b`: n-bit-sized input registers.\n",
    " - `target`: A single bit output register to store the result of A > B.\n"
   ]
  },
  {
   "cell_type": "code",
   "execution_count": 2,
   "id": "4897dd68",
   "metadata": {
    "cq.autogen": "GreaterThan.bloq_doc.py"
   },
   "outputs": [],
   "source": [
    "from qualtran.bloqs.arithmetic import GreaterThan"
   ]
  },
  {
   "cell_type": "markdown",
   "id": "7888a98f",
   "metadata": {
    "cq.autogen": "GreaterThan.example_instances.md"
   },
   "source": [
    "### Example Instances"
   ]
  },
  {
   "cell_type": "code",
   "execution_count": 3,
   "id": "98aa6041",
   "metadata": {
    "cq.autogen": "GreaterThan.greater_than"
   },
   "outputs": [],
   "source": [
    "greater_than = GreaterThan(a_bitsize=4, b_bitsize=4)"
   ]
  },
  {
   "cell_type": "markdown",
   "id": "ceac73b4",
   "metadata": {
    "cq.autogen": "GreaterThan.graphical_signature.md"
   },
   "source": [
    "#### Graphical Signature"
   ]
  },
  {
   "cell_type": "code",
   "execution_count": 4,
   "id": "c82d95fe",
   "metadata": {
    "cq.autogen": "GreaterThan.graphical_signature.py"
   },
   "outputs": [
    {
     "data": {
      "application/vnd.jupyter.widget-view+json": {
       "model_id": "f41ad719321f41d8bc4f396835b01788",
       "version_major": 2,
       "version_minor": 0
      },
      "text/plain": [
       "HBox(children=(Output(outputs=({'output_type': 'display_data', 'data': {'text/plain': '<IPython.core.display.M…"
      ]
     },
     "metadata": {},
     "output_type": "display_data"
    }
   ],
   "source": [
    "from qualtran.drawing import show_bloqs\n",
    "show_bloqs([greater_than],\n",
    "           ['`greater_than`'])"
   ]
  },
  {
   "cell_type": "markdown",
   "id": "3afdc24f",
   "metadata": {
    "cq.autogen": "GreaterThan.call_graph.md"
   },
   "source": [
    "### Call Graph"
   ]
  },
  {
   "cell_type": "code",
   "execution_count": 5,
   "id": "88ae5ce9",
   "metadata": {
    "cq.autogen": "GreaterThan.call_graph.py"
   },
   "outputs": [
    {
     "data": {
      "image/svg+xml": [
       "<svg xmlns=\"http://www.w3.org/2000/svg\" xmlns:xlink=\"http://www.w3.org/1999/xlink\" width=\"172pt\" height=\"131pt\" viewBox=\"0.00 0.00 172.00 131.00\">\n",
       "<g id=\"graph0\" class=\"graph\" transform=\"scale(1 1) rotate(0) translate(4 127)\">\n",
       "<title>counts</title>\n",
       "<polygon fill=\"white\" stroke=\"transparent\" points=\"-4,4 -4,-127 168,-127 168,4 -4,4\"/>\n",
       "<!-- b0 -->\n",
       "<g id=\"node1\" class=\"node\">\n",
       "<title>b0</title>\n",
       "<polygon fill=\"none\" stroke=\"black\" points=\"59,-93 59,-116 123,-116 123,-93 59,-93\"/>\n",
       "<text text-anchor=\"start\" x=\"65\" y=\"-102\" font-family=\"Times,serif\" font-size=\"10.00\">GreaterThan</text>\n",
       "</g>\n",
       "<!-- b1 -->\n",
       "<g id=\"node2\" class=\"node\">\n",
       "<title>b1</title>\n",
       "<polygon fill=\"none\" stroke=\"black\" points=\"8,-6 8,-29 84,-29 84,-6 8,-6\"/>\n",
       "<text text-anchor=\"start\" x=\"14\" y=\"-15\" font-family=\"Times,serif\" font-size=\"10.00\">LessThanEqual</text>\n",
       "</g>\n",
       "<!-- b0&#45;&gt;b1 -->\n",
       "<g id=\"edge1\" class=\"edge\">\n",
       "<title>b0-&gt;b1</title>\n",
       "<path fill=\"none\" stroke=\"black\" d=\"M81.89,-86.8C75.55,-74.82 66.97,-58.62 59.79,-45.06\"/>\n",
       "<polygon fill=\"black\" stroke=\"black\" points=\"62.87,-43.38 55.09,-36.18 56.68,-46.65 62.87,-43.38\"/>\n",
       "<text text-anchor=\"middle\" x=\"75.5\" y=\"-57.8\" font-family=\"Times,serif\" font-size=\"14.00\">1</text>\n",
       "</g>\n",
       "<!-- b2 -->\n",
       "<g id=\"node3\" class=\"node\">\n",
       "<title>b2</title>\n",
       "<polygon fill=\"none\" stroke=\"black\" points=\"127,-6 127,-29 147,-29 147,-6 127,-6\"/>\n",
       "<text text-anchor=\"start\" x=\"133\" y=\"-15\" font-family=\"Times,serif\" font-size=\"10.00\">X</text>\n",
       "</g>\n",
       "<!-- b0&#45;&gt;b2 -->\n",
       "<g id=\"edge2\" class=\"edge\">\n",
       "<title>b0-&gt;b2</title>\n",
       "<path fill=\"none\" stroke=\"black\" d=\"M100.31,-86.8C106.79,-74.82 115.56,-58.62 122.9,-45.06\"/>\n",
       "<polygon fill=\"black\" stroke=\"black\" points=\"126.02,-46.64 127.71,-36.18 119.87,-43.3 126.02,-46.64\"/>\n",
       "<text text-anchor=\"middle\" x=\"119.5\" y=\"-57.8\" font-family=\"Times,serif\" font-size=\"14.00\">1</text>\n",
       "</g>\n",
       "</g>\n",
       "</svg>"
      ],
      "text/plain": [
       "<IPython.core.display.SVG object>"
      ]
     },
     "metadata": {},
     "output_type": "display_data"
    },
    {
     "data": {
      "text/markdown": [
       "#### Counts totals:\n",
       " - `LessThanEqual`: 1\n",
       " - `X`: 1"
      ],
      "text/plain": [
       "<IPython.core.display.Markdown object>"
      ]
     },
     "metadata": {},
     "output_type": "display_data"
    }
   ],
   "source": [
    "from qualtran.resource_counting.generalizers import ignore_split_join\n",
    "greater_than_g, greater_than_sigma = greater_than.call_graph(max_depth=1, generalizer=ignore_split_join)\n",
    "show_call_graph(greater_than_g)\n",
    "show_counts_sigma(greater_than_sigma)"
   ]
  },
  {
   "cell_type": "markdown",
   "id": "532b6bf1",
   "metadata": {
    "cq.autogen": "GreaterThanConstant.bloq_doc.md"
   },
   "source": [
    "## `GreaterThanConstant`\n",
    "Implements $U_a|x\\rangle = U_a|x\\rangle|z\\rangle = |x\\rangle |z \\land (x > a)\\rangle$\n",
    "\n",
    "The bloq_counts and t_complexity are derived from equivalent qualtran gates\n",
    "assuming a clean decomposition which should yield identical costs.\n",
    "\n",
    "See: https://github.com/quantumlib/Qualtran/pull/381 and\n",
    "https://qualtran.readthedocs.io/en/latest/bloqs/comparison_gates.html\n",
    "\n",
    "\n",
    "#### Parameters\n",
    " - `bitsize`: bitsize of x register.\n",
    " - `val`: integer to compare x against (a above.) \n",
    "\n",
    "#### Registers\n",
    " - `x`: Register to compare against val.\n",
    " - `target`: Register to hold result of comparison.\n"
   ]
  },
  {
   "cell_type": "code",
   "execution_count": 6,
   "id": "79cf881f",
   "metadata": {
    "cq.autogen": "GreaterThanConstant.bloq_doc.py"
   },
   "outputs": [],
   "source": [
    "from qualtran.bloqs.arithmetic import GreaterThanConstant"
   ]
  },
  {
   "cell_type": "markdown",
   "id": "262b3978",
   "metadata": {
    "cq.autogen": "GreaterThanConstant.example_instances.md"
   },
   "source": [
    "### Example Instances"
   ]
  },
  {
   "cell_type": "code",
   "execution_count": 7,
   "id": "4e9495bc",
   "metadata": {
    "cq.autogen": "GreaterThanConstant.gt_k"
   },
   "outputs": [],
   "source": [
    "gt_k = GreaterThanConstant(bitsize=4, val=13)"
   ]
  },
  {
   "cell_type": "markdown",
   "id": "692cf0da",
   "metadata": {
    "cq.autogen": "GreaterThanConstant.graphical_signature.md"
   },
   "source": [
    "#### Graphical Signature"
   ]
  },
  {
   "cell_type": "code",
   "execution_count": 8,
   "id": "49de22c1",
   "metadata": {
    "cq.autogen": "GreaterThanConstant.graphical_signature.py"
   },
   "outputs": [
    {
     "data": {
      "application/vnd.jupyter.widget-view+json": {
       "model_id": "134d4f6cb45d448abcb4774fb25dacf0",
       "version_major": 2,
       "version_minor": 0
      },
      "text/plain": [
       "HBox(children=(Output(outputs=({'output_type': 'display_data', 'data': {'text/plain': '<IPython.core.display.M…"
      ]
     },
     "metadata": {},
     "output_type": "display_data"
    }
   ],
   "source": [
    "from qualtran.drawing import show_bloqs\n",
    "show_bloqs([gt_k],\n",
    "           ['`gt_k`'])"
   ]
  },
  {
   "cell_type": "markdown",
   "id": "ca10fb8f",
   "metadata": {
    "cq.autogen": "GreaterThanConstant.call_graph.md"
   },
   "source": [
    "### Call Graph"
   ]
  },
  {
   "cell_type": "code",
   "execution_count": 9,
   "id": "ce7758c2",
   "metadata": {
    "cq.autogen": "GreaterThanConstant.call_graph.py"
   },
   "outputs": [
    {
     "data": {
      "image/svg+xml": [
       "<svg xmlns=\"http://www.w3.org/2000/svg\" xmlns:xlink=\"http://www.w3.org/1999/xlink\" width=\"124pt\" height=\"131pt\" viewBox=\"0.00 0.00 124.00 131.00\">\n",
       "<g id=\"graph0\" class=\"graph\" transform=\"scale(1 1) rotate(0) translate(4 127)\">\n",
       "<title>counts</title>\n",
       "<polygon fill=\"white\" stroke=\"transparent\" points=\"-4,4 -4,-127 120,-127 120,4 -4,4\"/>\n",
       "<!-- b0 -->\n",
       "<g id=\"node1\" class=\"node\">\n",
       "<title>b0</title>\n",
       "<polygon fill=\"none\" stroke=\"black\" points=\"8,-93 8,-116 108,-116 108,-93 8,-93\"/>\n",
       "<text text-anchor=\"start\" x=\"14\" y=\"-102\" font-family=\"Times,serif\" font-size=\"10.00\">GreaterThanConstant</text>\n",
       "</g>\n",
       "<!-- b1 -->\n",
       "<g id=\"node2\" class=\"node\">\n",
       "<title>b1</title>\n",
       "<polygon fill=\"none\" stroke=\"black\" points=\"14,-6 14,-29 102,-29 102,-6 14,-6\"/>\n",
       "<text text-anchor=\"start\" x=\"20\" y=\"-15\" font-family=\"Times,serif\" font-size=\"10.00\">LessThanConstant</text>\n",
       "</g>\n",
       "<!-- b0&#45;&gt;b1 -->\n",
       "<g id=\"edge1\" class=\"edge\">\n",
       "<title>b0-&gt;b1</title>\n",
       "<path fill=\"none\" stroke=\"black\" d=\"M58,-86.8C58,-75.16 58,-59.55 58,-46.24\"/>\n",
       "<polygon fill=\"black\" stroke=\"black\" points=\"61.5,-46.18 58,-36.18 54.5,-46.18 61.5,-46.18\"/>\n",
       "<text text-anchor=\"middle\" x=\"61.5\" y=\"-57.8\" font-family=\"Times,serif\" font-size=\"14.00\">1</text>\n",
       "</g>\n",
       "</g>\n",
       "</svg>"
      ],
      "text/plain": [
       "<IPython.core.display.SVG object>"
      ]
     },
     "metadata": {},
     "output_type": "display_data"
    },
    {
     "data": {
      "text/markdown": [
       "#### Counts totals:\n",
       " - `LessThanConstant`: 1"
      ],
      "text/plain": [
       "<IPython.core.display.Markdown object>"
      ]
     },
     "metadata": {},
     "output_type": "display_data"
    }
   ],
   "source": [
    "from qualtran.resource_counting.generalizers import ignore_split_join\n",
    "gt_k_g, gt_k_sigma = gt_k.call_graph(max_depth=1, generalizer=ignore_split_join)\n",
    "show_call_graph(gt_k_g)\n",
    "show_counts_sigma(gt_k_sigma)"
   ]
  },
  {
   "cell_type": "markdown",
   "id": "8948042c",
   "metadata": {
    "cq.autogen": "EqualsAConstant.bloq_doc.md"
   },
   "source": [
    "## `EqualsAConstant`\n",
    "Implements $U_a|x\\rangle|z\\rangle = |x\\rangle |z \\oplus (x = a)\\rangle$\n",
    "\n",
    "The bloq_counts and t_complexity are derived from:\n",
    "https://qualtran.readthedocs.io/en/latest/bloqs/comparison_gates.html#equality-as-a-special-case\n",
    "\n",
    "#### Parameters\n",
    " - `bitsize`: bitsize of x register.\n",
    " - `val`: integer to compare x against (a above.) \n",
    "\n",
    "#### Registers\n",
    " - `x`: Register to compare against val.\n",
    " - `target`: Register to hold result of comparison.\n"
   ]
  },
  {
   "cell_type": "code",
   "execution_count": 10,
   "id": "8975c3d4",
   "metadata": {
    "cq.autogen": "EqualsAConstant.bloq_doc.py"
   },
   "outputs": [],
   "source": [
    "from qualtran.bloqs.arithmetic import EqualsAConstant"
   ]
  },
  {
   "cell_type": "markdown",
   "id": "8d9dfb80",
   "metadata": {
    "cq.autogen": "EqualsAConstant.example_instances.md"
   },
   "source": [
    "### Example Instances"
   ]
  },
  {
   "cell_type": "code",
   "execution_count": 11,
   "id": "596fef5f",
   "metadata": {
    "cq.autogen": "EqualsAConstant.eq_k"
   },
   "outputs": [],
   "source": [
    "eq_k = EqualsAConstant(bitsize=4, val=13)"
   ]
  },
  {
   "cell_type": "markdown",
   "id": "867bb5ac",
   "metadata": {
    "cq.autogen": "EqualsAConstant.graphical_signature.md"
   },
   "source": [
    "#### Graphical Signature"
   ]
  },
  {
   "cell_type": "code",
   "execution_count": 12,
   "id": "a3d3be59",
   "metadata": {
    "cq.autogen": "EqualsAConstant.graphical_signature.py"
   },
   "outputs": [
    {
     "data": {
      "application/vnd.jupyter.widget-view+json": {
       "model_id": "9e338cd3c98d43aeb9e34174ebd3abda",
       "version_major": 2,
       "version_minor": 0
      },
      "text/plain": [
       "HBox(children=(Output(outputs=({'output_type': 'display_data', 'data': {'text/plain': '<IPython.core.display.M…"
      ]
     },
     "metadata": {},
     "output_type": "display_data"
    }
   ],
   "source": [
    "from qualtran.drawing import show_bloqs\n",
    "show_bloqs([eq_k],\n",
    "           ['`eq_k`'])"
   ]
  },
  {
   "cell_type": "markdown",
   "id": "c672c228",
   "metadata": {
    "cq.autogen": "EqualsAConstant.call_graph.md"
   },
   "source": [
    "### Call Graph"
   ]
  },
  {
   "cell_type": "code",
   "execution_count": 13,
   "id": "735d36af",
   "metadata": {
    "cq.autogen": "EqualsAConstant.call_graph.py"
   },
   "outputs": [
    {
     "data": {
      "image/svg+xml": [
       "<svg xmlns=\"http://www.w3.org/2000/svg\" xmlns:xlink=\"http://www.w3.org/1999/xlink\" width=\"110pt\" height=\"131pt\" viewBox=\"0.00 0.00 110.00 131.00\">\n",
       "<g id=\"graph0\" class=\"graph\" transform=\"scale(1 1) rotate(0) translate(4 127)\">\n",
       "<title>counts</title>\n",
       "<polygon fill=\"white\" stroke=\"transparent\" points=\"-4,4 -4,-127 106,-127 106,4 -4,4\"/>\n",
       "<!-- b0 -->\n",
       "<g id=\"node1\" class=\"node\">\n",
       "<title>b0</title>\n",
       "<polygon fill=\"none\" stroke=\"black\" points=\"8,-93 8,-116 94,-116 94,-93 8,-93\"/>\n",
       "<text text-anchor=\"start\" x=\"14.5\" y=\"-102\" font-family=\"Times,serif\" font-size=\"10.00\">EqualsAConstant</text>\n",
       "</g>\n",
       "<!-- b1 -->\n",
       "<g id=\"node2\" class=\"node\">\n",
       "<title>b1</title>\n",
       "<polygon fill=\"none\" stroke=\"black\" points=\"32,-6 32,-29 70,-29 70,-6 32,-6\"/>\n",
       "<text text-anchor=\"start\" x=\"38.5\" y=\"-15\" font-family=\"Times,serif\" font-size=\"10.00\">C^4X</text>\n",
       "</g>\n",
       "<!-- b0&#45;&gt;b1 -->\n",
       "<g id=\"edge1\" class=\"edge\">\n",
       "<title>b0-&gt;b1</title>\n",
       "<path fill=\"none\" stroke=\"black\" d=\"M51,-86.8C51,-75.16 51,-59.55 51,-46.24\"/>\n",
       "<polygon fill=\"black\" stroke=\"black\" points=\"54.5,-46.18 51,-36.18 47.5,-46.18 54.5,-46.18\"/>\n",
       "<text text-anchor=\"middle\" x=\"54.5\" y=\"-57.8\" font-family=\"Times,serif\" font-size=\"14.00\">1</text>\n",
       "</g>\n",
       "</g>\n",
       "</svg>"
      ],
      "text/plain": [
       "<IPython.core.display.SVG object>"
      ]
     },
     "metadata": {},
     "output_type": "display_data"
    },
    {
     "data": {
      "text/markdown": [
       "#### Counts totals:\n",
       " - `C^4X`: 1"
      ],
      "text/plain": [
       "<IPython.core.display.Markdown object>"
      ]
     },
     "metadata": {},
     "output_type": "display_data"
    }
   ],
   "source": [
    "from qualtran.resource_counting.generalizers import ignore_split_join\n",
    "eq_k_g, eq_k_sigma = eq_k.call_graph(max_depth=1, generalizer=ignore_split_join)\n",
    "show_call_graph(eq_k_g)\n",
    "show_counts_sigma(eq_k_sigma)"
   ]
  },
  {
   "cell_type": "markdown",
   "id": "5d4a473d",
   "metadata": {
    "cq.autogen": "LessThanConstant.bloq_doc.md"
   },
   "source": [
    "## `LessThanConstant`\n",
    "Applies $U_a\\ket{x}\\ket{z} \\rightarrow \\ket{x} \\ket{z \\oplus (x < a)}$"
   ]
  },
  {
   "cell_type": "code",
   "execution_count": 14,
   "id": "f978cd77",
   "metadata": {
    "cq.autogen": "LessThanConstant.bloq_doc.py"
   },
   "outputs": [],
   "source": [
    "from qualtran.bloqs.arithmetic import LessThanConstant"
   ]
  },
  {
   "cell_type": "markdown",
   "id": "1ff5855a",
   "metadata": {
    "cq.autogen": "LessThanConstant.example_instances.md"
   },
   "source": [
    "### Example Instances"
   ]
  },
  {
   "cell_type": "code",
   "execution_count": 15,
   "id": "f0e3705e",
   "metadata": {
    "cq.autogen": "LessThanConstant.lt_k_symb"
   },
   "outputs": [],
   "source": [
    "n, k = sympy.symbols(\"n k\")\n",
    "lt_k_symb = LessThanConstant(bitsize=n, less_than_val=k)"
   ]
  },
  {
   "cell_type": "code",
   "execution_count": 16,
   "id": "65845541",
   "metadata": {
    "cq.autogen": "LessThanConstant.lt_k"
   },
   "outputs": [],
   "source": [
    "lt_k = LessThanConstant(bitsize=8, less_than_val=5)"
   ]
  },
  {
   "cell_type": "markdown",
   "id": "697c19b4",
   "metadata": {
    "cq.autogen": "LessThanConstant.graphical_signature.md"
   },
   "source": [
    "#### Graphical Signature"
   ]
  },
  {
   "cell_type": "code",
   "execution_count": 17,
   "id": "c722a3c7",
   "metadata": {
    "cq.autogen": "LessThanConstant.graphical_signature.py"
   },
   "outputs": [
    {
     "data": {
      "application/vnd.jupyter.widget-view+json": {
       "model_id": "8ec067927d6f40949df5c0745b0bf26c",
       "version_major": 2,
       "version_minor": 0
      },
      "text/plain": [
       "HBox(children=(Output(outputs=({'output_type': 'display_data', 'data': {'text/plain': '<IPython.core.display.M…"
      ]
     },
     "metadata": {},
     "output_type": "display_data"
    }
   ],
   "source": [
    "from qualtran.drawing import show_bloqs\n",
    "show_bloqs([lt_k, lt_k_symb],\n",
    "           ['`lt_k`', '`lt_k_symb`'])"
   ]
  },
  {
   "cell_type": "markdown",
   "id": "9ac764fa",
   "metadata": {
    "cq.autogen": "LessThanConstant.call_graph.md"
   },
   "source": [
    "### Call Graph"
   ]
  },
  {
   "cell_type": "code",
   "execution_count": 18,
   "id": "b8de0ffc",
   "metadata": {
    "cq.autogen": "LessThanConstant.call_graph.py"
   },
   "outputs": [
    {
     "data": {
      "image/svg+xml": [
       "<svg xmlns=\"http://www.w3.org/2000/svg\" xmlns:xlink=\"http://www.w3.org/1999/xlink\" width=\"280pt\" height=\"131pt\" viewBox=\"0.00 0.00 280.00 131.00\">\n",
       "<g id=\"graph0\" class=\"graph\" transform=\"scale(1 1) rotate(0) translate(4 127)\">\n",
       "<title>counts</title>\n",
       "<polygon fill=\"white\" stroke=\"transparent\" points=\"-4,4 -4,-127 276,-127 276,4 -4,4\"/>\n",
       "<!-- b0 -->\n",
       "<g id=\"node1\" class=\"node\">\n",
       "<title>b0</title>\n",
       "<polygon fill=\"none\" stroke=\"black\" points=\"91,-93 91,-116 179,-116 179,-93 91,-93\"/>\n",
       "<text text-anchor=\"start\" x=\"97\" y=\"-102\" font-family=\"Times,serif\" font-size=\"10.00\">LessThanConstant</text>\n",
       "</g>\n",
       "<!-- b1 -->\n",
       "<g id=\"node2\" class=\"node\">\n",
       "<title>b1</title>\n",
       "<polygon fill=\"none\" stroke=\"black\" points=\"11,-6 11,-29 43,-29 43,-6 11,-6\"/>\n",
       "<text text-anchor=\"start\" x=\"17.5\" y=\"-15\" font-family=\"Times,serif\" font-size=\"10.00\">And</text>\n",
       "</g>\n",
       "<!-- b0&#45;&gt;b1 -->\n",
       "<g id=\"edge1\" class=\"edge\">\n",
       "<title>b0-&gt;b1</title>\n",
       "<path fill=\"none\" stroke=\"black\" d=\"M113.14,-86.8C97.04,-74.13 74.94,-56.73 57.16,-42.74\"/>\n",
       "<polygon fill=\"black\" stroke=\"black\" points=\"58.85,-39.61 48.82,-36.18 54.52,-45.11 58.85,-39.61\"/>\n",
       "<text text-anchor=\"middle\" x=\"91.5\" y=\"-57.8\" font-family=\"Times,serif\" font-size=\"14.00\">8</text>\n",
       "</g>\n",
       "<!-- b2 -->\n",
       "<g id=\"node3\" class=\"node\">\n",
       "<title>b2</title>\n",
       "<polygon fill=\"none\" stroke=\"black\" points=\"81,-6 81,-29 117,-29 117,-6 81,-6\"/>\n",
       "<text text-anchor=\"start\" x=\"87\" y=\"-15\" font-family=\"Times,serif\" font-size=\"10.00\">And†</text>\n",
       "</g>\n",
       "<!-- b0&#45;&gt;b2 -->\n",
       "<g id=\"edge2\" class=\"edge\">\n",
       "<title>b0-&gt;b2</title>\n",
       "<path fill=\"none\" stroke=\"black\" d=\"M127.71,-86.8C122.69,-74.93 115.91,-58.93 110.2,-45.45\"/>\n",
       "<polygon fill=\"black\" stroke=\"black\" points=\"113.4,-44.02 106.27,-36.18 106.95,-46.75 113.4,-44.02\"/>\n",
       "<text text-anchor=\"middle\" x=\"123.5\" y=\"-57.8\" font-family=\"Times,serif\" font-size=\"14.00\">8</text>\n",
       "</g>\n",
       "<!-- b3 -->\n",
       "<g id=\"node4\" class=\"node\">\n",
       "<title>b3</title>\n",
       "<polygon fill=\"none\" stroke=\"black\" points=\"152,-6 152,-29 192,-29 192,-6 152,-6\"/>\n",
       "<text text-anchor=\"start\" x=\"158\" y=\"-15\" font-family=\"Times,serif\" font-size=\"10.00\">CNOT</text>\n",
       "</g>\n",
       "<!-- b0&#45;&gt;b3 -->\n",
       "<g id=\"edge3\" class=\"edge\">\n",
       "<title>b0-&gt;b3</title>\n",
       "<path fill=\"none\" stroke=\"black\" d=\"M142.49,-86.8C147.65,-74.93 154.62,-58.93 160.49,-45.45\"/>\n",
       "<polygon fill=\"black\" stroke=\"black\" points=\"163.74,-46.74 164.52,-36.18 157.32,-43.95 163.74,-46.74\"/>\n",
       "<text text-anchor=\"middle\" x=\"162\" y=\"-57.8\" font-family=\"Times,serif\" font-size=\"14.00\">18</text>\n",
       "</g>\n",
       "<!-- b4 -->\n",
       "<g id=\"node5\" class=\"node\">\n",
       "<title>b4</title>\n",
       "<polygon fill=\"none\" stroke=\"black\" points=\"235,-6 235,-29 255,-29 255,-6 235,-6\"/>\n",
       "<text text-anchor=\"start\" x=\"241\" y=\"-15\" font-family=\"Times,serif\" font-size=\"10.00\">X</text>\n",
       "</g>\n",
       "<!-- b0&#45;&gt;b4 -->\n",
       "<g id=\"edge4\" class=\"edge\">\n",
       "<title>b0-&gt;b4</title>\n",
       "<path fill=\"none\" stroke=\"black\" d=\"M157.26,-86.8C173.81,-74.01 196.58,-56.42 214.77,-42.36\"/>\n",
       "<polygon fill=\"black\" stroke=\"black\" points=\"217,-45.06 222.77,-36.18 212.72,-39.52 217,-45.06\"/>\n",
       "<text text-anchor=\"middle\" x=\"199.5\" y=\"-57.8\" font-family=\"Times,serif\" font-size=\"14.00\">6</text>\n",
       "</g>\n",
       "</g>\n",
       "</svg>"
      ],
      "text/plain": [
       "<IPython.core.display.SVG object>"
      ]
     },
     "metadata": {},
     "output_type": "display_data"
    },
    {
     "data": {
      "text/markdown": [
       "#### Counts totals:\n",
       " - `And`: 8\n",
       " - `And†`: 8\n",
       " - `CNOT`: 18\n",
       " - `X`: 6"
      ],
      "text/plain": [
       "<IPython.core.display.Markdown object>"
      ]
     },
     "metadata": {},
     "output_type": "display_data"
    }
   ],
   "source": [
    "from qualtran.resource_counting.generalizers import ignore_split_join\n",
    "lt_k_g, lt_k_sigma = lt_k.call_graph(max_depth=1, generalizer=ignore_split_join)\n",
    "show_call_graph(lt_k_g)\n",
    "show_counts_sigma(lt_k_sigma)"
   ]
  },
  {
   "cell_type": "markdown",
   "id": "58d1a6a6",
   "metadata": {
    "cq.autogen": "BiQubitsMixer.bloq_doc.md"
   },
   "source": [
    "## `BiQubitsMixer`\n",
    "Implements the COMPARE2 subroutine from the reference.\n",
    "\n",
    "This gates mixes the values in a way that preserves the result of comparison.\n",
    "The signature being compared are 2-qubit signature where\n",
    "\n",
    "    x = 2*x_msb + x_lsb\n",
    "    y = 2*y_msb + y_lsb\n",
    "\n",
    "The Gate mixes the 4 qubits so that sign(x - y) = sign(x_lsb' - y_lsb') where x_lsb' and y_lsb'\n",
    "are the final values of x_lsb' and y_lsb'.\n",
    "\n",
    "Note that the ancilla qubits are used to reduce the T-count and the user\n",
    "should clean the qubits at a later point in time with the adjoint gate.\n",
    "See: https://github.com/quantumlib/Cirq/pull/6313 and\n",
    "https://github.com/quantumlib/Qualtran/issues/389\n",
    "\n",
    "#### References\n",
    " - [Improved Techniques for Preparing Eigenstates of Fermionic Hamiltonians](https://arxiv.org/abs/1711.10460). Berry et al. 2017. Appendix B. Fig 3.\n"
   ]
  },
  {
   "cell_type": "code",
   "execution_count": 19,
   "id": "1603c8b5",
   "metadata": {
    "cq.autogen": "BiQubitsMixer.bloq_doc.py"
   },
   "outputs": [],
   "source": [
    "from qualtran.bloqs.arithmetic import BiQubitsMixer"
   ]
  },
  {
   "cell_type": "markdown",
   "id": "78cbdc47",
   "metadata": {
    "cq.autogen": "BiQubitsMixer.example_instances.md"
   },
   "source": [
    "### Example Instances"
   ]
  },
  {
   "cell_type": "code",
   "execution_count": 20,
   "id": "d69a00ae",
   "metadata": {
    "cq.autogen": "BiQubitsMixer.bi_qubits_mixer"
   },
   "outputs": [],
   "source": [
    "bi_qubits_mixer = BiQubitsMixer()"
   ]
  },
  {
   "cell_type": "markdown",
   "id": "1f0bfe08",
   "metadata": {
    "cq.autogen": "BiQubitsMixer.graphical_signature.md"
   },
   "source": [
    "#### Graphical Signature"
   ]
  },
  {
   "cell_type": "code",
   "execution_count": 21,
   "id": "7558ee56",
   "metadata": {
    "cq.autogen": "BiQubitsMixer.graphical_signature.py"
   },
   "outputs": [
    {
     "data": {
      "application/vnd.jupyter.widget-view+json": {
       "model_id": "6ff1aedf53544a7eb817a493ef1c28a5",
       "version_major": 2,
       "version_minor": 0
      },
      "text/plain": [
       "HBox(children=(Output(outputs=({'output_type': 'display_data', 'data': {'text/plain': '<IPython.core.display.M…"
      ]
     },
     "metadata": {},
     "output_type": "display_data"
    }
   ],
   "source": [
    "from qualtran.drawing import show_bloqs\n",
    "show_bloqs([bi_qubits_mixer],\n",
    "           ['`bi_qubits_mixer`'])"
   ]
  },
  {
   "cell_type": "markdown",
   "id": "a5c34728",
   "metadata": {
    "cq.autogen": "BiQubitsMixer.call_graph.md"
   },
   "source": [
    "### Call Graph"
   ]
  },
  {
   "cell_type": "code",
   "execution_count": 22,
   "id": "0daf86df",
   "metadata": {
    "cq.autogen": "BiQubitsMixer.call_graph.py"
   },
   "outputs": [
    {
     "data": {
      "image/svg+xml": [
       "<svg xmlns=\"http://www.w3.org/2000/svg\" xmlns:xlink=\"http://www.w3.org/1999/xlink\" width=\"208pt\" height=\"131pt\" viewBox=\"0.00 0.00 208.00 131.00\">\n",
       "<g id=\"graph0\" class=\"graph\" transform=\"scale(1 1) rotate(0) translate(4 127)\">\n",
       "<title>counts</title>\n",
       "<polygon fill=\"white\" stroke=\"transparent\" points=\"-4,4 -4,-127 204,-127 204,4 -4,4\"/>\n",
       "<!-- b0 -->\n",
       "<g id=\"node1\" class=\"node\">\n",
       "<title>b0</title>\n",
       "<polygon fill=\"none\" stroke=\"black\" points=\"62,-93 62,-116 138,-116 138,-93 62,-93\"/>\n",
       "<text text-anchor=\"start\" x=\"68.5\" y=\"-102\" font-family=\"Times,serif\" font-size=\"10.00\">BiQubitsMixer</text>\n",
       "</g>\n",
       "<!-- b1 -->\n",
       "<g id=\"node2\" class=\"node\">\n",
       "<title>b1</title>\n",
       "<polygon fill=\"none\" stroke=\"black\" points=\"17,-6 17,-29 37,-29 37,-6 17,-6\"/>\n",
       "<text text-anchor=\"start\" x=\"23\" y=\"-15\" font-family=\"Times,serif\" font-size=\"10.00\">X</text>\n",
       "</g>\n",
       "<!-- b0&#45;&gt;b1 -->\n",
       "<g id=\"edge1\" class=\"edge\">\n",
       "<title>b0-&gt;b1</title>\n",
       "<path fill=\"none\" stroke=\"black\" d=\"M85.23,-86.8C74.64,-74.47 60.22,-57.68 48.38,-43.89\"/>\n",
       "<polygon fill=\"black\" stroke=\"black\" points=\"50.92,-41.48 41.75,-36.18 45.61,-46.04 50.92,-41.48\"/>\n",
       "<text text-anchor=\"middle\" x=\"71.5\" y=\"-57.8\" font-family=\"Times,serif\" font-size=\"14.00\">1</text>\n",
       "</g>\n",
       "<!-- b2 -->\n",
       "<g id=\"node3\" class=\"node\">\n",
       "<title>b2</title>\n",
       "<polygon fill=\"none\" stroke=\"black\" points=\"80,-6 80,-29 120,-29 120,-6 80,-6\"/>\n",
       "<text text-anchor=\"start\" x=\"86\" y=\"-15\" font-family=\"Times,serif\" font-size=\"10.00\">CNOT</text>\n",
       "</g>\n",
       "<!-- b0&#45;&gt;b2 -->\n",
       "<g id=\"edge2\" class=\"edge\">\n",
       "<title>b0-&gt;b2</title>\n",
       "<path fill=\"none\" stroke=\"black\" d=\"M100,-86.8C100,-75.16 100,-59.55 100,-46.24\"/>\n",
       "<polygon fill=\"black\" stroke=\"black\" points=\"103.5,-46.18 100,-36.18 96.5,-46.18 103.5,-46.18\"/>\n",
       "<text text-anchor=\"middle\" x=\"103.5\" y=\"-57.8\" font-family=\"Times,serif\" font-size=\"14.00\">9</text>\n",
       "</g>\n",
       "<!-- b3 -->\n",
       "<g id=\"node4\" class=\"node\">\n",
       "<title>b3</title>\n",
       "<polygon fill=\"none\" stroke=\"black\" points=\"157,-6 157,-29 189,-29 189,-6 157,-6\"/>\n",
       "<text text-anchor=\"start\" x=\"163.5\" y=\"-15\" font-family=\"Times,serif\" font-size=\"10.00\">And</text>\n",
       "</g>\n",
       "<!-- b0&#45;&gt;b3 -->\n",
       "<g id=\"edge3\" class=\"edge\">\n",
       "<title>b0-&gt;b3</title>\n",
       "<path fill=\"none\" stroke=\"black\" d=\"M114.77,-86.8C125.36,-74.47 139.78,-57.68 151.62,-43.89\"/>\n",
       "<polygon fill=\"black\" stroke=\"black\" points=\"154.39,-46.04 158.25,-36.18 149.08,-41.48 154.39,-46.04\"/>\n",
       "<text text-anchor=\"middle\" x=\"143.5\" y=\"-57.8\" font-family=\"Times,serif\" font-size=\"14.00\">2</text>\n",
       "</g>\n",
       "</g>\n",
       "</svg>"
      ],
      "text/plain": [
       "<IPython.core.display.SVG object>"
      ]
     },
     "metadata": {},
     "output_type": "display_data"
    },
    {
     "data": {
      "text/markdown": [
       "#### Counts totals:\n",
       " - `And`: 2\n",
       " - `CNOT`: 9\n",
       " - `X`: 1"
      ],
      "text/plain": [
       "<IPython.core.display.Markdown object>"
      ]
     },
     "metadata": {},
     "output_type": "display_data"
    }
   ],
   "source": [
    "from qualtran.resource_counting.generalizers import ignore_split_join\n",
    "bi_qubits_mixer_g, bi_qubits_mixer_sigma = bi_qubits_mixer.call_graph(max_depth=1, generalizer=ignore_split_join)\n",
    "show_call_graph(bi_qubits_mixer_g)\n",
    "show_counts_sigma(bi_qubits_mixer_sigma)"
   ]
  },
  {
   "cell_type": "markdown",
   "id": "19ccfb41",
   "metadata": {
    "cq.autogen": "SingleQubitCompare.bloq_doc.md"
   },
   "source": [
    "## `SingleQubitCompare`\n",
    "Applies U|a>|b>|0>|0> = |a> |a=b> |(a<b)> |(a>b)>\n",
    "\n",
    "#### References\n",
    " - [Improved Techniques for Preparing Eigenstates of Fermionic Hamiltonians](https://arxiv.org/abs/1711.10460). Berry et al. 2017. Appendix B. Fig 5.\n"
   ]
  },
  {
   "cell_type": "code",
   "execution_count": 23,
   "id": "ae8f37f5",
   "metadata": {
    "cq.autogen": "SingleQubitCompare.bloq_doc.py"
   },
   "outputs": [],
   "source": [
    "from qualtran.bloqs.arithmetic import SingleQubitCompare"
   ]
  },
  {
   "cell_type": "markdown",
   "id": "61ef1472",
   "metadata": {
    "cq.autogen": "SingleQubitCompare.example_instances.md"
   },
   "source": [
    "### Example Instances"
   ]
  },
  {
   "cell_type": "code",
   "execution_count": 24,
   "id": "534c5c22",
   "metadata": {
    "cq.autogen": "SingleQubitCompare.sq_cmp"
   },
   "outputs": [],
   "source": [
    "sq_cmp = SingleQubitCompare()"
   ]
  },
  {
   "cell_type": "markdown",
   "id": "2843d328",
   "metadata": {
    "cq.autogen": "SingleQubitCompare.graphical_signature.md"
   },
   "source": [
    "#### Graphical Signature"
   ]
  },
  {
   "cell_type": "code",
   "execution_count": 25,
   "id": "d5dcf72e",
   "metadata": {
    "cq.autogen": "SingleQubitCompare.graphical_signature.py"
   },
   "outputs": [
    {
     "data": {
      "application/vnd.jupyter.widget-view+json": {
       "model_id": "c6c349e3f6bb42ca8c3fdde964977951",
       "version_major": 2,
       "version_minor": 0
      },
      "text/plain": [
       "HBox(children=(Output(outputs=({'output_type': 'display_data', 'data': {'text/plain': '<IPython.core.display.M…"
      ]
     },
     "metadata": {},
     "output_type": "display_data"
    }
   ],
   "source": [
    "from qualtran.drawing import show_bloqs\n",
    "show_bloqs([sq_cmp],\n",
    "           ['`sq_cmp`'])"
   ]
  },
  {
   "cell_type": "markdown",
   "id": "ee1cc222",
   "metadata": {
    "cq.autogen": "SingleQubitCompare.call_graph.md"
   },
   "source": [
    "### Call Graph"
   ]
  },
  {
   "cell_type": "code",
   "execution_count": 26,
   "id": "c96f20fc",
   "metadata": {
    "cq.autogen": "SingleQubitCompare.call_graph.py"
   },
   "outputs": [
    {
     "data": {
      "image/svg+xml": [
       "<svg xmlns=\"http://www.w3.org/2000/svg\" xmlns:xlink=\"http://www.w3.org/1999/xlink\" width=\"208pt\" height=\"131pt\" viewBox=\"0.00 0.00 208.00 131.00\">\n",
       "<g id=\"graph0\" class=\"graph\" transform=\"scale(1 1) rotate(0) translate(4 127)\">\n",
       "<title>counts</title>\n",
       "<polygon fill=\"white\" stroke=\"transparent\" points=\"-4,4 -4,-127 204,-127 204,4 -4,4\"/>\n",
       "<!-- b0 -->\n",
       "<g id=\"node1\" class=\"node\">\n",
       "<title>b0</title>\n",
       "<polygon fill=\"none\" stroke=\"black\" points=\"50,-93 50,-116 150,-116 150,-93 50,-93\"/>\n",
       "<text text-anchor=\"start\" x=\"56\" y=\"-102\" font-family=\"Times,serif\" font-size=\"10.00\">SingleQubitCompare</text>\n",
       "</g>\n",
       "<!-- b1 -->\n",
       "<g id=\"node2\" class=\"node\">\n",
       "<title>b1</title>\n",
       "<polygon fill=\"none\" stroke=\"black\" points=\"17,-6 17,-29 37,-29 37,-6 17,-6\"/>\n",
       "<text text-anchor=\"start\" x=\"23\" y=\"-15\" font-family=\"Times,serif\" font-size=\"10.00\">X</text>\n",
       "</g>\n",
       "<!-- b0&#45;&gt;b1 -->\n",
       "<g id=\"edge1\" class=\"edge\">\n",
       "<title>b0-&gt;b1</title>\n",
       "<path fill=\"none\" stroke=\"black\" d=\"M85.23,-86.8C74.64,-74.47 60.22,-57.68 48.38,-43.89\"/>\n",
       "<polygon fill=\"black\" stroke=\"black\" points=\"50.92,-41.48 41.75,-36.18 45.61,-46.04 50.92,-41.48\"/>\n",
       "<text text-anchor=\"middle\" x=\"71.5\" y=\"-57.8\" font-family=\"Times,serif\" font-size=\"14.00\">1</text>\n",
       "</g>\n",
       "<!-- b2 -->\n",
       "<g id=\"node3\" class=\"node\">\n",
       "<title>b2</title>\n",
       "<polygon fill=\"none\" stroke=\"black\" points=\"80,-6 80,-29 120,-29 120,-6 80,-6\"/>\n",
       "<text text-anchor=\"start\" x=\"86\" y=\"-15\" font-family=\"Times,serif\" font-size=\"10.00\">CNOT</text>\n",
       "</g>\n",
       "<!-- b0&#45;&gt;b2 -->\n",
       "<g id=\"edge2\" class=\"edge\">\n",
       "<title>b0-&gt;b2</title>\n",
       "<path fill=\"none\" stroke=\"black\" d=\"M100,-86.8C100,-75.16 100,-59.55 100,-46.24\"/>\n",
       "<polygon fill=\"black\" stroke=\"black\" points=\"103.5,-46.18 100,-36.18 96.5,-46.18 103.5,-46.18\"/>\n",
       "<text text-anchor=\"middle\" x=\"103.5\" y=\"-57.8\" font-family=\"Times,serif\" font-size=\"14.00\">4</text>\n",
       "</g>\n",
       "<!-- b3 -->\n",
       "<g id=\"node4\" class=\"node\">\n",
       "<title>b3</title>\n",
       "<polygon fill=\"none\" stroke=\"black\" points=\"157,-6 157,-29 189,-29 189,-6 157,-6\"/>\n",
       "<text text-anchor=\"start\" x=\"163.5\" y=\"-15\" font-family=\"Times,serif\" font-size=\"10.00\">And</text>\n",
       "</g>\n",
       "<!-- b0&#45;&gt;b3 -->\n",
       "<g id=\"edge3\" class=\"edge\">\n",
       "<title>b0-&gt;b3</title>\n",
       "<path fill=\"none\" stroke=\"black\" d=\"M114.77,-86.8C125.36,-74.47 139.78,-57.68 151.62,-43.89\"/>\n",
       "<polygon fill=\"black\" stroke=\"black\" points=\"154.39,-46.04 158.25,-36.18 149.08,-41.48 154.39,-46.04\"/>\n",
       "<text text-anchor=\"middle\" x=\"143.5\" y=\"-57.8\" font-family=\"Times,serif\" font-size=\"14.00\">1</text>\n",
       "</g>\n",
       "</g>\n",
       "</svg>"
      ],
      "text/plain": [
       "<IPython.core.display.SVG object>"
      ]
     },
     "metadata": {},
     "output_type": "display_data"
    },
    {
     "data": {
      "text/markdown": [
       "#### Counts totals:\n",
       " - `And`: 1\n",
       " - `CNOT`: 4\n",
       " - `X`: 1"
      ],
      "text/plain": [
       "<IPython.core.display.Markdown object>"
      ]
     },
     "metadata": {},
     "output_type": "display_data"
    }
   ],
   "source": [
    "from qualtran.resource_counting.generalizers import ignore_split_join\n",
    "sq_cmp_g, sq_cmp_sigma = sq_cmp.call_graph(max_depth=1, generalizer=ignore_split_join)\n",
    "show_call_graph(sq_cmp_g)\n",
    "show_counts_sigma(sq_cmp_sigma)"
   ]
  },
  {
   "cell_type": "markdown",
   "id": "50d83fdb",
   "metadata": {
    "cq.autogen": "LessThanEqual.bloq_doc.md"
   },
   "source": [
    "## `LessThanEqual`\n",
    "Applies $U\\ket{x}\\ket{y}\\ket{z} \\rightarrow \\ket{x} \\ket{y} \\ket{z \\oplus (x \\leq y)}$\n",
    "\n",
    "Decomposes the gate in a T-complexity optimal way.\n",
    "\n",
    "The construction can be broken in 4 parts:\n",
    " 1. In case of differing bitsizes then a multicontrol And Gate\n",
    "    (Section III.A. of the first reference) is used to check whether\n",
    "    the extra prefix is equal to zero and the result is stored in the `prefix_equality` qubit.\n",
    " 2. The tree structure (Fig. 2) of the second reference.\n",
    "    followed by a `SingleQubitCompare` to compute the result of comparison of\n",
    "    the suffixes of equal length. The result is stored in `less_than` and `greater_than` and\n",
    "    equality in `qubits[-2]`\n",
    " 3. The results from the previous two steps are combined to update the target qubit.\n",
    " 4. The adjoint of the previous operations is added to restore the input qubits\n",
    "    to their original state and clean the ancilla qubits.\n",
    "\n",
    "When both registers are of the same size the T complexity is\n",
    "8n - 4 as in the second reference.\n",
    "\n",
    "When the registers differ in size and `n` is the size of the smaller one and\n",
    "`d` is the difference in size, the T complexity is the sum of the tree\n",
    "decomposition as before giving 8n + O(1); and the T complexity of an `And` gate\n",
    "over `d` registers giving 4d + O(1). This totals 8n + 4d + O(1).\n",
    "\n",
    "#### References\n",
    " - [Encoding Electronic Spectra in Quantum Circuits with Linear T Complexity](https://arxiv.org/abs/1805.03662). \n",
    " - [Improved Techniques for Preparing Eigenstates of Fermionic Hamiltonians](https://arxiv.org/abs/1711.10460). Berry et al. 2017. Appendix B.\n"
   ]
  },
  {
   "cell_type": "code",
   "execution_count": 27,
   "id": "31d1717c",
   "metadata": {
    "cq.autogen": "LessThanEqual.bloq_doc.py"
   },
   "outputs": [],
   "source": [
    "from qualtran.bloqs.arithmetic import LessThanEqual"
   ]
  },
  {
   "cell_type": "markdown",
   "id": "bb520292",
   "metadata": {
    "cq.autogen": "LessThanEqual.example_instances.md"
   },
   "source": [
    "### Example Instances"
   ]
  },
  {
   "cell_type": "code",
   "execution_count": 28,
   "id": "8c60d014",
   "metadata": {
    "cq.autogen": "LessThanEqual.leq_symb"
   },
   "outputs": [],
   "source": [
    "n1, n2 = sympy.symbols('n1 n2')\n",
    "leq_symb = LessThanEqual(x_bitsize=n1, y_bitsize=n2)"
   ]
  },
  {
   "cell_type": "code",
   "execution_count": 29,
   "id": "545b145c",
   "metadata": {
    "cq.autogen": "LessThanEqual.leq"
   },
   "outputs": [],
   "source": [
    "leq = LessThanEqual(x_bitsize=4, y_bitsize=8)"
   ]
  },
  {
   "cell_type": "markdown",
   "id": "40db2f9f",
   "metadata": {
    "cq.autogen": "LessThanEqual.graphical_signature.md"
   },
   "source": [
    "#### Graphical Signature"
   ]
  },
  {
   "cell_type": "code",
   "execution_count": 30,
   "id": "bc035e97",
   "metadata": {
    "cq.autogen": "LessThanEqual.graphical_signature.py"
   },
   "outputs": [
    {
     "data": {
      "application/vnd.jupyter.widget-view+json": {
       "model_id": "1851b702dc6e445e8c30d99e5d504355",
       "version_major": 2,
       "version_minor": 0
      },
      "text/plain": [
       "HBox(children=(Output(outputs=({'output_type': 'display_data', 'data': {'text/plain': '<IPython.core.display.M…"
      ]
     },
     "metadata": {},
     "output_type": "display_data"
    }
   ],
   "source": [
    "from qualtran.drawing import show_bloqs\n",
    "show_bloqs([leq, leq_symb],\n",
    "           ['`leq`', '`leq_symb`'])"
   ]
  },
  {
   "cell_type": "markdown",
   "id": "1fe92bed",
   "metadata": {
    "cq.autogen": "LessThanEqual.call_graph.md"
   },
   "source": [
    "### Call Graph"
   ]
  },
  {
   "cell_type": "code",
   "execution_count": 31,
   "id": "dcd53c93",
   "metadata": {
    "cq.autogen": "LessThanEqual.call_graph.py"
   },
   "outputs": [
    {
     "data": {
      "image/svg+xml": [
       "<svg xmlns=\"http://www.w3.org/2000/svg\" xmlns:xlink=\"http://www.w3.org/1999/xlink\" width=\"994pt\" height=\"131pt\" viewBox=\"0.00 0.00 994.00 131.00\">\n",
       "<g id=\"graph0\" class=\"graph\" transform=\"scale(1 1) rotate(0) translate(4 127)\">\n",
       "<title>counts</title>\n",
       "<polygon fill=\"white\" stroke=\"transparent\" points=\"-4,4 -4,-127 990,-127 990,4 -4,4\"/>\n",
       "<!-- b0 -->\n",
       "<g id=\"node1\" class=\"node\">\n",
       "<title>b0</title>\n",
       "<polygon fill=\"none\" stroke=\"black\" points=\"435,-93 435,-116 511,-116 511,-93 435,-93\"/>\n",
       "<text text-anchor=\"start\" x=\"441\" y=\"-102\" font-family=\"Times,serif\" font-size=\"10.00\">LessThanEqual</text>\n",
       "</g>\n",
       "<!-- b1 -->\n",
       "<g id=\"node2\" class=\"node\">\n",
       "<title>b1</title>\n",
       "<polygon fill=\"none\" stroke=\"black\" points=\"8,-6 8,-29 84,-29 84,-6 8,-6\"/>\n",
       "<text text-anchor=\"start\" x=\"14\" y=\"-15\" font-family=\"Times,serif\" font-size=\"10.00\">MultiAnd(n=4)</text>\n",
       "</g>\n",
       "<!-- b0&#45;&gt;b1 -->\n",
       "<g id=\"edge1\" class=\"edge\">\n",
       "<title>b0-&gt;b1</title>\n",
       "<path fill=\"none\" stroke=\"black\" d=\"M426.76,-97.59C357.85,-87.6 224.12,-66.48 102.01,-36.12\"/>\n",
       "<polygon fill=\"black\" stroke=\"black\" points=\"102.67,-32.68 92.12,-33.63 100.96,-39.47 102.67,-32.68\"/>\n",
       "<text text-anchor=\"middle\" x=\"257.5\" y=\"-57.8\" font-family=\"Times,serif\" font-size=\"14.00\">1</text>\n",
       "</g>\n",
       "<!-- b2 -->\n",
       "<g id=\"node3\" class=\"node\">\n",
       "<title>b2</title>\n",
       "<polygon fill=\"none\" stroke=\"black\" points=\"118,-6 118,-29 200,-29 200,-6 118,-6\"/>\n",
       "<text text-anchor=\"start\" x=\"124\" y=\"-15\" font-family=\"Times,serif\" font-size=\"10.00\">MultiAnd(n=4)†</text>\n",
       "</g>\n",
       "<!-- b0&#45;&gt;b2 -->\n",
       "<g id=\"edge2\" class=\"edge\">\n",
       "<title>b0-&gt;b2</title>\n",
       "<path fill=\"none\" stroke=\"black\" d=\"M426.82,-93.24C398.75,-86.57 362.22,-77.64 330,-69 282.33,-56.21 268.73,-51.26 217.66,-36.2\"/>\n",
       "<polygon fill=\"black\" stroke=\"black\" points=\"218.63,-32.84 208.05,-33.38 216.66,-39.56 218.63,-32.84\"/>\n",
       "<text text-anchor=\"middle\" x=\"333.5\" y=\"-57.8\" font-family=\"Times,serif\" font-size=\"14.00\">1</text>\n",
       "</g>\n",
       "<!-- b3 -->\n",
       "<g id=\"node4\" class=\"node\">\n",
       "<title>b3</title>\n",
       "<polygon fill=\"none\" stroke=\"black\" points=\"234,-6 234,-29 274,-29 274,-6 234,-6\"/>\n",
       "<text text-anchor=\"start\" x=\"240\" y=\"-15\" font-family=\"Times,serif\" font-size=\"10.00\">CNOT</text>\n",
       "</g>\n",
       "<!-- b0&#45;&gt;b3 -->\n",
       "<g id=\"edge3\" class=\"edge\">\n",
       "<title>b0-&gt;b3</title>\n",
       "<path fill=\"none\" stroke=\"black\" d=\"M426.63,-87.73C391.8,-75.28 342.78,-57.24 291.74,-36.18\"/>\n",
       "<polygon fill=\"black\" stroke=\"black\" points=\"292.77,-32.81 282.19,-32.21 290.08,-39.28 292.77,-32.81\"/>\n",
       "<text text-anchor=\"middle\" x=\"379.5\" y=\"-57.8\" font-family=\"Times,serif\" font-size=\"14.00\">2</text>\n",
       "</g>\n",
       "<!-- b4 -->\n",
       "<g id=\"node5\" class=\"node\">\n",
       "<title>b4</title>\n",
       "<polygon fill=\"none\" stroke=\"black\" points=\"317,-6 317,-29 337,-29 337,-6 317,-6\"/>\n",
       "<text text-anchor=\"start\" x=\"323\" y=\"-15\" font-family=\"Times,serif\" font-size=\"10.00\">X</text>\n",
       "</g>\n",
       "<!-- b0&#45;&gt;b4 -->\n",
       "<g id=\"edge4\" class=\"edge\">\n",
       "<title>b0-&gt;b4</title>\n",
       "<path fill=\"none\" stroke=\"black\" d=\"M443.45,-86.8C420.15,-73.23 387.56,-54.26 362.78,-39.83\"/>\n",
       "<polygon fill=\"black\" stroke=\"black\" points=\"364.44,-36.75 354.04,-34.74 360.92,-42.8 364.44,-36.75\"/>\n",
       "<text text-anchor=\"middle\" x=\"412.5\" y=\"-57.8\" font-family=\"Times,serif\" font-size=\"14.00\">1</text>\n",
       "</g>\n",
       "<!-- b5 -->\n",
       "<g id=\"node6\" class=\"node\">\n",
       "<title>b5</title>\n",
       "<polygon fill=\"none\" stroke=\"black\" points=\"380,-6 380,-29 456,-29 456,-6 380,-6\"/>\n",
       "<text text-anchor=\"start\" x=\"386.5\" y=\"-15\" font-family=\"Times,serif\" font-size=\"10.00\">BiQubitsMixer</text>\n",
       "</g>\n",
       "<!-- b0&#45;&gt;b5 -->\n",
       "<g id=\"edge5\" class=\"edge\">\n",
       "<title>b0-&gt;b5</title>\n",
       "<path fill=\"none\" stroke=\"black\" d=\"M461.87,-86.8C454.04,-74.7 443.43,-58.3 434.61,-44.67\"/>\n",
       "<polygon fill=\"black\" stroke=\"black\" points=\"437.48,-42.67 429.11,-36.18 431.61,-46.47 437.48,-42.67\"/>\n",
       "<text text-anchor=\"middle\" x=\"452.5\" y=\"-57.8\" font-family=\"Times,serif\" font-size=\"14.00\">3</text>\n",
       "</g>\n",
       "<!-- b6 -->\n",
       "<g id=\"node7\" class=\"node\">\n",
       "<title>b6</title>\n",
       "<polygon fill=\"none\" stroke=\"black\" points=\"490,-6 490,-29 566,-29 566,-6 490,-6\"/>\n",
       "<text text-anchor=\"start\" x=\"496.5\" y=\"-15\" font-family=\"Times,serif\" font-size=\"10.00\">BiQubitsMixer</text>\n",
       "</g>\n",
       "<!-- b0&#45;&gt;b6 -->\n",
       "<g id=\"edge6\" class=\"edge\">\n",
       "<title>b0-&gt;b6</title>\n",
       "<path fill=\"none\" stroke=\"black\" d=\"M484.13,-86.8C491.96,-74.7 502.57,-58.3 511.39,-44.67\"/>\n",
       "<polygon fill=\"black\" stroke=\"black\" points=\"514.39,-46.47 516.89,-36.18 508.52,-42.67 514.39,-46.47\"/>\n",
       "<text text-anchor=\"middle\" x=\"507.5\" y=\"-57.8\" font-family=\"Times,serif\" font-size=\"14.00\">3</text>\n",
       "</g>\n",
       "<!-- b7 -->\n",
       "<g id=\"node8\" class=\"node\">\n",
       "<title>b7</title>\n",
       "<polygon fill=\"none\" stroke=\"black\" points=\"600,-6 600,-29 700,-29 700,-6 600,-6\"/>\n",
       "<text text-anchor=\"start\" x=\"606\" y=\"-15\" font-family=\"Times,serif\" font-size=\"10.00\">SingleQubitCompare</text>\n",
       "</g>\n",
       "<!-- b0&#45;&gt;b7 -->\n",
       "<g id=\"edge7\" class=\"edge\">\n",
       "<title>b0-&gt;b7</title>\n",
       "<path fill=\"none\" stroke=\"black\" d=\"M508.82,-86.8C536.62,-73.45 575.33,-54.86 605.18,-40.52\"/>\n",
       "<polygon fill=\"black\" stroke=\"black\" points=\"607.04,-43.51 614.54,-36.03 604.01,-37.2 607.04,-43.51\"/>\n",
       "<text text-anchor=\"middle\" x=\"576.5\" y=\"-57.8\" font-family=\"Times,serif\" font-size=\"14.00\">1</text>\n",
       "</g>\n",
       "<!-- b8 -->\n",
       "<g id=\"node9\" class=\"node\">\n",
       "<title>b8</title>\n",
       "<polygon fill=\"none\" stroke=\"black\" points=\"734,-6 734,-29 834,-29 834,-6 734,-6\"/>\n",
       "<text text-anchor=\"start\" x=\"740\" y=\"-15\" font-family=\"Times,serif\" font-size=\"10.00\">SingleQubitCompare</text>\n",
       "</g>\n",
       "<!-- b0&#45;&gt;b8 -->\n",
       "<g id=\"edge8\" class=\"edge\">\n",
       "<title>b0-&gt;b8</title>\n",
       "<path fill=\"none\" stroke=\"black\" d=\"M519.22,-91.37C571.32,-77.13 656.49,-53.85 716.13,-37.55\"/>\n",
       "<polygon fill=\"black\" stroke=\"black\" points=\"717.12,-40.91 725.85,-34.89 715.28,-34.15 717.12,-40.91\"/>\n",
       "<text text-anchor=\"middle\" x=\"651.5\" y=\"-57.8\" font-family=\"Times,serif\" font-size=\"14.00\">1</text>\n",
       "</g>\n",
       "<!-- b9 -->\n",
       "<g id=\"node10\" class=\"node\">\n",
       "<title>b9</title>\n",
       "<polygon fill=\"none\" stroke=\"black\" points=\"871,-6 871,-29 903,-29 903,-6 871,-6\"/>\n",
       "<text text-anchor=\"start\" x=\"877.5\" y=\"-15\" font-family=\"Times,serif\" font-size=\"10.00\">And</text>\n",
       "</g>\n",
       "<!-- b0&#45;&gt;b9 -->\n",
       "<g id=\"edge9\" class=\"edge\">\n",
       "<title>b0-&gt;b9</title>\n",
       "<path fill=\"none\" stroke=\"black\" d=\"M519.03,-99.67C589.34,-92.2 727.38,-74.17 850.22,-35.8\"/>\n",
       "<polygon fill=\"black\" stroke=\"black\" points=\"851.31,-39.12 859.78,-32.76 849.19,-32.45 851.31,-39.12\"/>\n",
       "<text text-anchor=\"middle\" x=\"783.5\" y=\"-57.8\" font-family=\"Times,serif\" font-size=\"14.00\">1</text>\n",
       "</g>\n",
       "<!-- b10 -->\n",
       "<g id=\"node11\" class=\"node\">\n",
       "<title>b10</title>\n",
       "<polygon fill=\"none\" stroke=\"black\" points=\"941,-6 941,-29 977,-29 977,-6 941,-6\"/>\n",
       "<text text-anchor=\"start\" x=\"947\" y=\"-15\" font-family=\"Times,serif\" font-size=\"10.00\">And†</text>\n",
       "</g>\n",
       "<!-- b0&#45;&gt;b10 -->\n",
       "<g id=\"edge10\" class=\"edge\">\n",
       "<title>b0-&gt;b10</title>\n",
       "<path fill=\"none\" stroke=\"black\" d=\"M519.09,-100.89C581.21,-96.26 695.05,-86.19 791,-69 847.5,-58.88 864.36,-56.57 922.09,-36.02\"/>\n",
       "<polygon fill=\"black\" stroke=\"black\" points=\"923.49,-39.24 931.72,-32.56 921.12,-32.65 923.49,-39.24\"/>\n",
       "<text text-anchor=\"middle\" x=\"867.5\" y=\"-57.8\" font-family=\"Times,serif\" font-size=\"14.00\">1</text>\n",
       "</g>\n",
       "</g>\n",
       "</svg>"
      ],
      "text/plain": [
       "<IPython.core.display.SVG object>"
      ]
     },
     "metadata": {},
     "output_type": "display_data"
    },
    {
     "data": {
      "text/markdown": [
       "#### Counts totals:\n",
       " - `And`: 1\n",
       " - `And†`: 1\n",
       " - `BiQubitsMixer`: 3\n",
       " - `BiQubitsMixer`: 3\n",
       " - `CNOT`: 2\n",
       " - `MultiAnd(n=4)`: 1\n",
       " - `MultiAnd(n=4)†`: 1\n",
       " - `SingleQubitCompare`: 1\n",
       " - `SingleQubitCompare`: 1\n",
       " - `X`: 1"
      ],
      "text/plain": [
       "<IPython.core.display.Markdown object>"
      ]
     },
     "metadata": {},
     "output_type": "display_data"
    }
   ],
   "source": [
    "from qualtran.resource_counting.generalizers import ignore_split_join\n",
    "leq_g, leq_sigma = leq.call_graph(max_depth=1, generalizer=ignore_split_join)\n",
    "show_call_graph(leq_g)\n",
    "show_counts_sigma(leq_sigma)"
   ]
  },
  {
   "cell_type": "markdown",
   "id": "27543be2",
   "metadata": {
    "cq.autogen": "CLinearDepthGreaterThan.bloq_doc.md"
   },
   "source": [
    "## `CLinearDepthGreaterThan`\n",
    "Controlled greater than between two integers.\n",
    "\n",
    "Implements $\\ket{c}\\ket{a}\\ket{b}\\ket{t} \\xrightarrow[]{} \\ket{c}\\ket{a}\\ket{b}\\ket{t ⨁ ((a > b)c)}>$\n",
    "using $n+2$ Toffoli gates.\n",
    "\n",
    "Note: the true cost is $n+1$ but an extra Toffoli comes from OutOfPlaceAdder which operates\n",
    "on $n+1$ qubits rather than $n$. Changing the definition of OutOfPlaceAdder will remove this\n",
    "extra Toffoli.\n",
    "\n",
    "This comparator relies on the fact that ~(~b + a) = b - a. If a > b, then b - a < 0. We\n",
    "implement it by flipping all the bits in b, computing the first half of the addition circuit,\n",
    "copying out the carry, and uncomputing the addition circuit.\n",
    "\n",
    "#### Parameters\n",
    " - `dtype`: type of the integer registers.\n",
    " - `cv`: ctrl value at which the bloq is active. \n",
    "\n",
    "#### Registers\n",
    " - `a`: dtype input registers.\n",
    " - `b`: dtype input registers.\n",
    " - `target`: A single bit output register to store the result of a > b. \n",
    "\n",
    "#### References\n",
    " - [Halving the cost of quantum addition](https://arxiv.org/abs/1709.06648). \n",
    " - [Improved quantum circuits for elliptic curve discrete logarithms](https://arxiv.org/abs/2306.08585).     page 7.\n"
   ]
  },
  {
   "cell_type": "code",
   "execution_count": 32,
   "id": "d4533e31",
   "metadata": {
    "cq.autogen": "CLinearDepthGreaterThan.bloq_doc.py"
   },
   "outputs": [],
   "source": [
    "from qualtran.bloqs.arithmetic import CLinearDepthGreaterThan"
   ]
  },
  {
   "cell_type": "markdown",
   "id": "9dcfa76a",
   "metadata": {
    "cq.autogen": "CLinearDepthGreaterThan.example_instances.md"
   },
   "source": [
    "### Example Instances"
   ]
  },
  {
   "cell_type": "code",
   "execution_count": 33,
   "id": "6b7ec12f",
   "metadata": {
    "cq.autogen": "CLinearDepthGreaterThan.clineardepthgreaterthan_example"
   },
   "outputs": [],
   "source": [
    "clineardepthgreaterthan_example = CLinearDepthGreaterThan(QInt(5))"
   ]
  },
  {
   "cell_type": "markdown",
   "id": "70bc70c6",
   "metadata": {
    "cq.autogen": "CLinearDepthGreaterThan.graphical_signature.md"
   },
   "source": [
    "#### Graphical Signature"
   ]
  },
  {
   "cell_type": "code",
   "execution_count": 34,
   "id": "b6bf0dce",
   "metadata": {
    "cq.autogen": "CLinearDepthGreaterThan.graphical_signature.py"
   },
   "outputs": [
    {
     "data": {
      "application/vnd.jupyter.widget-view+json": {
       "model_id": "811c2da255ae4c00a5b164d8816626d5",
       "version_major": 2,
       "version_minor": 0
      },
      "text/plain": [
       "HBox(children=(Output(outputs=({'output_type': 'display_data', 'data': {'text/plain': '<IPython.core.display.M…"
      ]
     },
     "metadata": {},
     "output_type": "display_data"
    }
   ],
   "source": [
    "from qualtran.drawing import show_bloqs\n",
    "show_bloqs([clineardepthgreaterthan_example],\n",
    "           ['`clineardepthgreaterthan_example`'])"
   ]
  },
  {
   "cell_type": "markdown",
   "id": "9a2d7925",
   "metadata": {
    "cq.autogen": "CLinearDepthGreaterThan.call_graph.md"
   },
   "source": [
    "### Call Graph"
   ]
  },
  {
   "cell_type": "code",
   "execution_count": 35,
   "id": "30e9a77b",
   "metadata": {
    "cq.autogen": "CLinearDepthGreaterThan.call_graph.py"
   },
   "outputs": [
    {
     "data": {
      "image/svg+xml": [
       "<svg xmlns=\"http://www.w3.org/2000/svg\" xmlns:xlink=\"http://www.w3.org/1999/xlink\" width=\"688pt\" height=\"131pt\" viewBox=\"0.00 0.00 688.00 131.00\">\n",
       "<g id=\"graph0\" class=\"graph\" transform=\"scale(1 1) rotate(0) translate(4 127)\">\n",
       "<title>counts</title>\n",
       "<polygon fill=\"white\" stroke=\"transparent\" points=\"-4,4 -4,-127 684,-127 684,4 -4,4\"/>\n",
       "<!-- b0 -->\n",
       "<g id=\"node1\" class=\"node\">\n",
       "<title>b0</title>\n",
       "<polygon fill=\"none\" stroke=\"black\" points=\"298,-93 298,-116 420,-116 420,-93 298,-93\"/>\n",
       "<text text-anchor=\"start\" x=\"304\" y=\"-102\" font-family=\"Times,serif\" font-size=\"10.00\">CLinearDepthGreaterThan</text>\n",
       "</g>\n",
       "<!-- b1 -->\n",
       "<g id=\"node2\" class=\"node\">\n",
       "<title>b1</title>\n",
       "<polygon fill=\"none\" stroke=\"black\" points=\"8,-6 8,-29 68,-29 68,-6 8,-6\"/>\n",
       "<text text-anchor=\"start\" x=\"14\" y=\"-15\" font-family=\"Times,serif\" font-size=\"10.00\">BitwiseNot</text>\n",
       "</g>\n",
       "<!-- b0&#45;&gt;b1 -->\n",
       "<g id=\"edge1\" class=\"edge\">\n",
       "<title>b0-&gt;b1</title>\n",
       "<path fill=\"none\" stroke=\"black\" d=\"M289.77,-88.91C236.33,-76.79 160.46,-58.53 85.69,-36.06\"/>\n",
       "<polygon fill=\"black\" stroke=\"black\" points=\"86.69,-32.71 76.11,-33.16 84.66,-39.41 86.69,-32.71\"/>\n",
       "<text text-anchor=\"middle\" x=\"208.5\" y=\"-57.8\" font-family=\"Times,serif\" font-size=\"14.00\">2</text>\n",
       "</g>\n",
       "<!-- b2 -->\n",
       "<g id=\"node3\" class=\"node\">\n",
       "<title>b2</title>\n",
       "<polygon fill=\"none\" stroke=\"black\" points=\"102,-6 102,-29 162,-29 162,-6 102,-6\"/>\n",
       "<text text-anchor=\"start\" x=\"108\" y=\"-15\" font-family=\"Times,serif\" font-size=\"10.00\">BitwiseNot</text>\n",
       "</g>\n",
       "<!-- b0&#45;&gt;b2 -->\n",
       "<g id=\"edge2\" class=\"edge\">\n",
       "<title>b0-&gt;b2</title>\n",
       "<path fill=\"none\" stroke=\"black\" d=\"M313.34,-86.9C274.55,-72.38 219.06,-51.6 179.7,-36.86\"/>\n",
       "<polygon fill=\"black\" stroke=\"black\" points=\"180.65,-33.48 170.06,-33.25 178.2,-40.04 180.65,-33.48\"/>\n",
       "<text text-anchor=\"middle\" x=\"263.5\" y=\"-57.8\" font-family=\"Times,serif\" font-size=\"14.00\">2</text>\n",
       "</g>\n",
       "<!-- b3 -->\n",
       "<g id=\"node4\" class=\"node\">\n",
       "<title>b3</title>\n",
       "<polygon fill=\"none\" stroke=\"black\" points=\"196,-6 196,-29 282,-29 282,-6 196,-6\"/>\n",
       "<text text-anchor=\"start\" x=\"202\" y=\"-15\" font-family=\"Times,serif\" font-size=\"10.00\">OutOfPlaceAdder</text>\n",
       "</g>\n",
       "<!-- b0&#45;&gt;b3 -->\n",
       "<g id=\"edge3\" class=\"edge\">\n",
       "<title>b0-&gt;b3</title>\n",
       "<path fill=\"none\" stroke=\"black\" d=\"M334.72,-86.8C316.5,-73.9 291.38,-56.1 271.44,-41.98\"/>\n",
       "<polygon fill=\"black\" stroke=\"black\" points=\"273.43,-39.1 263.25,-36.18 269.38,-44.81 273.43,-39.1\"/>\n",
       "<text text-anchor=\"middle\" x=\"310.5\" y=\"-57.8\" font-family=\"Times,serif\" font-size=\"14.00\">1</text>\n",
       "</g>\n",
       "<!-- b4 -->\n",
       "<g id=\"node5\" class=\"node\">\n",
       "<title>b4</title>\n",
       "<polygon fill=\"none\" stroke=\"black\" points=\"316,-6 316,-29 402,-29 402,-6 316,-6\"/>\n",
       "<text text-anchor=\"start\" x=\"322\" y=\"-15\" font-family=\"Times,serif\" font-size=\"10.00\">OutOfPlaceAdder</text>\n",
       "</g>\n",
       "<!-- b0&#45;&gt;b4 -->\n",
       "<g id=\"edge4\" class=\"edge\">\n",
       "<title>b0-&gt;b4</title>\n",
       "<path fill=\"none\" stroke=\"black\" d=\"M359,-86.8C359,-75.16 359,-59.55 359,-46.24\"/>\n",
       "<polygon fill=\"black\" stroke=\"black\" points=\"362.5,-46.18 359,-36.18 355.5,-46.18 362.5,-46.18\"/>\n",
       "<text text-anchor=\"middle\" x=\"362.5\" y=\"-57.8\" font-family=\"Times,serif\" font-size=\"14.00\">1</text>\n",
       "</g>\n",
       "<!-- b5 -->\n",
       "<g id=\"node6\" class=\"node\">\n",
       "<title>b5</title>\n",
       "<polygon fill=\"none\" stroke=\"black\" points=\"438,-6 438,-29 472,-29 472,-6 438,-6\"/>\n",
       "<text text-anchor=\"start\" x=\"444\" y=\"-15\" font-family=\"Times,serif\" font-size=\"10.00\">CCX</text>\n",
       "</g>\n",
       "<!-- b0&#45;&gt;b5 -->\n",
       "<g id=\"edge5\" class=\"edge\">\n",
       "<title>b0-&gt;b5</title>\n",
       "<path fill=\"none\" stroke=\"black\" d=\"M378.43,-86.8C392.61,-74.24 412.03,-57.05 427.76,-43.12\"/>\n",
       "<polygon fill=\"black\" stroke=\"black\" points=\"430.44,-45.43 435.6,-36.18 425.79,-40.18 430.44,-45.43\"/>\n",
       "<text text-anchor=\"middle\" x=\"416.5\" y=\"-57.8\" font-family=\"Times,serif\" font-size=\"14.00\">1</text>\n",
       "</g>\n",
       "<!-- b6 -->\n",
       "<g id=\"node7\" class=\"node\">\n",
       "<title>b6</title>\n",
       "<polygon fill=\"none\" stroke=\"black\" points=\"508,-6 508,-29 570,-29 570,-6 508,-6\"/>\n",
       "<text text-anchor=\"start\" x=\"514.5\" y=\"-15\" font-family=\"Times,serif\" font-size=\"10.00\">SignExtend</text>\n",
       "</g>\n",
       "<!-- b0&#45;&gt;b6 -->\n",
       "<g id=\"edge6\" class=\"edge\">\n",
       "<title>b0-&gt;b6</title>\n",
       "<path fill=\"none\" stroke=\"black\" d=\"M395.43,-86.8C423.82,-73.39 463.4,-54.7 493.81,-40.34\"/>\n",
       "<polygon fill=\"black\" stroke=\"black\" points=\"495.39,-43.47 502.94,-36.03 492.4,-37.14 495.39,-43.47\"/>\n",
       "<text text-anchor=\"middle\" x=\"462.5\" y=\"-57.8\" font-family=\"Times,serif\" font-size=\"14.00\">2</text>\n",
       "</g>\n",
       "<!-- b7 -->\n",
       "<g id=\"node8\" class=\"node\">\n",
       "<title>b7</title>\n",
       "<polygon fill=\"none\" stroke=\"black\" points=\"604,-6 604,-29 672,-29 672,-6 604,-6\"/>\n",
       "<text text-anchor=\"start\" x=\"610.5\" y=\"-15\" font-family=\"Times,serif\" font-size=\"10.00\">SignTruncate</text>\n",
       "</g>\n",
       "<!-- b0&#45;&gt;b7 -->\n",
       "<g id=\"edge7\" class=\"edge\">\n",
       "<title>b0-&gt;b7</title>\n",
       "<path fill=\"none\" stroke=\"black\" d=\"M418.21,-86.9C462.07,-74.11 523.53,-55.91 586.09,-36.24\"/>\n",
       "<polygon fill=\"black\" stroke=\"black\" points=\"587.25,-39.55 595.73,-33.2 585.14,-32.87 587.25,-39.55\"/>\n",
       "<text text-anchor=\"middle\" x=\"527.5\" y=\"-57.8\" font-family=\"Times,serif\" font-size=\"14.00\">2</text>\n",
       "</g>\n",
       "</g>\n",
       "</svg>"
      ],
      "text/plain": [
       "<IPython.core.display.SVG object>"
      ]
     },
     "metadata": {},
     "output_type": "display_data"
    },
    {
     "data": {
      "text/markdown": [
       "#### Counts totals:\n",
       " - `BitwiseNot`: 2\n",
       " - `BitwiseNot`: 2\n",
       " - `CCX`: 1\n",
       " - `OutOfPlaceAdder`: 1\n",
       " - `OutOfPlaceAdder`: 1\n",
       " - `SignExtend`: 2\n",
       " - `SignTruncate`: 2"
      ],
      "text/plain": [
       "<IPython.core.display.Markdown object>"
      ]
     },
     "metadata": {},
     "output_type": "display_data"
    }
   ],
   "source": [
    "from qualtran.resource_counting.generalizers import ignore_split_join\n",
    "clineardepthgreaterthan_example_g, clineardepthgreaterthan_example_sigma = clineardepthgreaterthan_example.call_graph(max_depth=1, generalizer=ignore_split_join)\n",
    "show_call_graph(clineardepthgreaterthan_example_g)\n",
    "show_counts_sigma(clineardepthgreaterthan_example_sigma)"
   ]
  },
  {
   "cell_type": "markdown",
   "id": "126df51e",
   "metadata": {
    "cq.autogen": "Equals.bloq_doc.md"
   },
   "source": [
    "## `Equals`\n",
    "Implements |x>|y>|t> => |x>|y>|t ⨁ (x = y)> using $n-1$ Toffoli gates.\n",
    "\n",
    "#### Parameters\n",
    " - `dtype`: Data type of the input registers `x` and `y`. \n",
    "\n",
    "#### Registers\n",
    " - `x`: First input register.\n",
    " - `y`: Second input register.\n",
    " - `target`: Register to hold result of comparison.\n"
   ]
  },
  {
   "cell_type": "code",
   "execution_count": 36,
   "id": "ef979281",
   "metadata": {
    "cq.autogen": "Equals.bloq_doc.py"
   },
   "outputs": [],
   "source": [
    "from qualtran.bloqs.arithmetic import Equals"
   ]
  },
  {
   "cell_type": "markdown",
   "id": "2ceb3c0c",
   "metadata": {
    "cq.autogen": "Equals.example_instances.md"
   },
   "source": [
    "### Example Instances"
   ]
  },
  {
   "cell_type": "code",
   "execution_count": 37,
   "id": "b311ac0f",
   "metadata": {
    "cq.autogen": "Equals.equals"
   },
   "outputs": [],
   "source": [
    "equals = Equals(QUInt(4))"
   ]
  },
  {
   "cell_type": "markdown",
   "id": "cc0f1db8",
   "metadata": {
    "cq.autogen": "Equals.graphical_signature.md"
   },
   "source": [
    "#### Graphical Signature"
   ]
  },
  {
   "cell_type": "code",
   "execution_count": 38,
   "id": "088efd0f",
   "metadata": {
    "cq.autogen": "Equals.graphical_signature.py"
   },
   "outputs": [
    {
     "data": {
      "application/vnd.jupyter.widget-view+json": {
       "model_id": "7c9958c337c04c099e88003212e80185",
       "version_major": 2,
       "version_minor": 0
      },
      "text/plain": [
       "HBox(children=(Output(outputs=({'output_type': 'display_data', 'data': {'text/plain': '<IPython.core.display.M…"
      ]
     },
     "metadata": {},
     "output_type": "display_data"
    }
   ],
   "source": [
    "from qualtran.drawing import show_bloqs\n",
    "show_bloqs([equals],\n",
    "           ['`equals`'])"
   ]
  },
  {
   "cell_type": "markdown",
   "id": "9f8b5abc",
   "metadata": {
    "cq.autogen": "Equals.call_graph.md"
   },
   "source": [
    "### Call Graph"
   ]
  },
  {
   "cell_type": "code",
   "execution_count": 39,
   "id": "7474f07a",
   "metadata": {
    "cq.autogen": "Equals.call_graph.py"
   },
   "outputs": [
    {
     "data": {
      "image/svg+xml": [
       "<svg xmlns=\"http://www.w3.org/2000/svg\" xmlns:xlink=\"http://www.w3.org/1999/xlink\" width=\"134pt\" height=\"131pt\" viewBox=\"0.00 0.00 134.00 131.00\">\n",
       "<g id=\"graph0\" class=\"graph\" transform=\"scale(1 1) rotate(0) translate(4 127)\">\n",
       "<title>counts</title>\n",
       "<polygon fill=\"white\" stroke=\"transparent\" points=\"-4,4 -4,-127 130,-127 130,4 -4,4\"/>\n",
       "<!-- b0 -->\n",
       "<g id=\"node1\" class=\"node\">\n",
       "<title>b0</title>\n",
       "<polygon fill=\"none\" stroke=\"black\" points=\"43,-93 43,-116 83,-116 83,-93 43,-93\"/>\n",
       "<text text-anchor=\"start\" x=\"49\" y=\"-102\" font-family=\"Times,serif\" font-size=\"10.00\">Equals</text>\n",
       "</g>\n",
       "<!-- b1 -->\n",
       "<g id=\"node2\" class=\"node\">\n",
       "<title>b1</title>\n",
       "<polygon fill=\"none\" stroke=\"black\" points=\"13,-6 13,-29 41,-29 41,-6 13,-6\"/>\n",
       "<text text-anchor=\"start\" x=\"19\" y=\"-15\" font-family=\"Times,serif\" font-size=\"10.00\">Xor</text>\n",
       "</g>\n",
       "<!-- b0&#45;&gt;b1 -->\n",
       "<g id=\"edge1\" class=\"edge\">\n",
       "<title>b0-&gt;b1</title>\n",
       "<path fill=\"none\" stroke=\"black\" d=\"M55.71,-86.8C50.69,-74.93 43.91,-58.93 38.2,-45.45\"/>\n",
       "<polygon fill=\"black\" stroke=\"black\" points=\"41.4,-44.02 34.27,-36.18 34.95,-46.75 41.4,-44.02\"/>\n",
       "<text text-anchor=\"middle\" x=\"51.5\" y=\"-57.8\" font-family=\"Times,serif\" font-size=\"14.00\">2</text>\n",
       "</g>\n",
       "<!-- b2 -->\n",
       "<g id=\"node3\" class=\"node\">\n",
       "<title>b2</title>\n",
       "<polygon fill=\"none\" stroke=\"black\" points=\"80,-6 80,-29 118,-29 118,-6 80,-6\"/>\n",
       "<text text-anchor=\"start\" x=\"86.5\" y=\"-15\" font-family=\"Times,serif\" font-size=\"10.00\">C^4X</text>\n",
       "</g>\n",
       "<!-- b0&#45;&gt;b2 -->\n",
       "<g id=\"edge2\" class=\"edge\">\n",
       "<title>b0-&gt;b2</title>\n",
       "<path fill=\"none\" stroke=\"black\" d=\"M70.29,-86.8C75.31,-74.93 82.09,-58.93 87.8,-45.45\"/>\n",
       "<polygon fill=\"black\" stroke=\"black\" points=\"91.05,-46.75 91.73,-36.18 84.6,-44.02 91.05,-46.75\"/>\n",
       "<text text-anchor=\"middle\" x=\"86.5\" y=\"-57.8\" font-family=\"Times,serif\" font-size=\"14.00\">1</text>\n",
       "</g>\n",
       "</g>\n",
       "</svg>"
      ],
      "text/plain": [
       "<IPython.core.display.SVG object>"
      ]
     },
     "metadata": {},
     "output_type": "display_data"
    },
    {
     "data": {
      "text/markdown": [
       "#### Counts totals:\n",
       " - `C^4X`: 1\n",
       " - `Xor`: 2"
      ],
      "text/plain": [
       "<IPython.core.display.Markdown object>"
      ]
     },
     "metadata": {},
     "output_type": "display_data"
    }
   ],
   "source": [
    "from qualtran.resource_counting.generalizers import ignore_split_join\n",
    "equals_g, equals_sigma = equals.call_graph(max_depth=1, generalizer=ignore_split_join)\n",
    "show_call_graph(equals_g)\n",
    "show_counts_sigma(equals_sigma)"
   ]
  },
  {
   "cell_type": "markdown",
   "id": "e2db7c5d",
   "metadata": {
    "cq.autogen": "LinearDepthHalfGreaterThan.bloq_doc.md"
   },
   "source": [
    "## `LinearDepthHalfGreaterThan`\n",
    "Compare two integers while keeping necessary ancillas for zero cost uncomputation.\n",
    "\n",
    "Implements $\\ket{a}\\ket{b}\\ket{0}\\ket{0} \\rightarrow \\ket{a}\\ket{b}\\ket{b-a}\\ket{a>b}$ using $n$ And gates.\n",
    "\n",
    "This comparator relies on the fact that c = (b' + a)' = b - a. If a > b, then b - a < 0. We\n",
    "implement it by flipping all the bits in b, computing the first half of the addition circuit,\n",
    "copying out the carry, and keeping $c$ for the uncomputation.\n",
    "\n",
    "#### Parameters\n",
    " - `dtype`: dtype of the two integers a and b.\n",
    " - `uncompute`: whether this bloq uncomputes or computes the comparison. \n",
    "\n",
    "#### Registers\n",
    " - `a`: first input register.\n",
    " - `b`: second input register.\n",
    " - `c`: ancilla register that will contain $b-a$ and will be used for uncomputation.\n",
    " - `target`: A single bit output register to store the result of a > b. \n",
    "\n",
    "#### References\n",
    " - [Halving the cost of quantum addition](https://arxiv.org/abs/1709.06648). \n"
   ]
  },
  {
   "cell_type": "code",
   "execution_count": 40,
   "id": "758a6e35",
   "metadata": {
    "cq.autogen": "LinearDepthHalfGreaterThan.bloq_doc.py"
   },
   "outputs": [],
   "source": [
    "from qualtran.bloqs.arithmetic import LinearDepthHalfGreaterThan"
   ]
  },
  {
   "cell_type": "markdown",
   "id": "3ea5a7bc",
   "metadata": {
    "cq.autogen": "LinearDepthHalfGreaterThan.example_instances.md"
   },
   "source": [
    "### Example Instances"
   ]
  },
  {
   "cell_type": "code",
   "execution_count": 41,
   "id": "26e4245f",
   "metadata": {
    "cq.autogen": "LinearDepthHalfGreaterThan.lineardepthhalfgreaterthan_small"
   },
   "outputs": [],
   "source": [
    "lineardepthhalfgreaterthan_small = LinearDepthHalfGreaterThan(QUInt(3))"
   ]
  },
  {
   "cell_type": "markdown",
   "id": "29abac9f",
   "metadata": {
    "cq.autogen": "LinearDepthHalfGreaterThan.graphical_signature.md"
   },
   "source": [
    "#### Graphical Signature"
   ]
  },
  {
   "cell_type": "code",
   "execution_count": 42,
   "id": "d065b007",
   "metadata": {
    "cq.autogen": "LinearDepthHalfGreaterThan.graphical_signature.py"
   },
   "outputs": [
    {
     "data": {
      "application/vnd.jupyter.widget-view+json": {
       "model_id": "e0657f80bf90432898547d6b049be499",
       "version_major": 2,
       "version_minor": 0
      },
      "text/plain": [
       "HBox(children=(Output(outputs=({'output_type': 'display_data', 'data': {'text/plain': '<IPython.core.display.M…"
      ]
     },
     "metadata": {},
     "output_type": "display_data"
    }
   ],
   "source": [
    "from qualtran.drawing import show_bloqs\n",
    "show_bloqs([lineardepthhalfgreaterthan_small],\n",
    "           ['`lineardepthhalfgreaterthan_small`'])"
   ]
  },
  {
   "cell_type": "markdown",
   "id": "d67e1888",
   "metadata": {
    "cq.autogen": "LinearDepthHalfGreaterThan.call_graph.md"
   },
   "source": [
    "### Call Graph"
   ]
  },
  {
   "cell_type": "code",
   "execution_count": 43,
   "id": "32952025",
   "metadata": {
    "cq.autogen": "LinearDepthHalfGreaterThan.call_graph.py"
   },
   "outputs": [
    {
     "data": {
      "image/svg+xml": [
       "<svg xmlns=\"http://www.w3.org/2000/svg\" xmlns:xlink=\"http://www.w3.org/1999/xlink\" width=\"278pt\" height=\"131pt\" viewBox=\"0.00 0.00 278.00 131.00\">\n",
       "<g id=\"graph0\" class=\"graph\" transform=\"scale(1 1) rotate(0) translate(4 127)\">\n",
       "<title>counts</title>\n",
       "<polygon fill=\"white\" stroke=\"transparent\" points=\"-4,4 -4,-127 274,-127 274,4 -4,4\"/>\n",
       "<!-- b0 -->\n",
       "<g id=\"node1\" class=\"node\">\n",
       "<title>b0</title>\n",
       "<polygon fill=\"none\" stroke=\"black\" points=\"55,-93 55,-116 189,-116 189,-93 55,-93\"/>\n",
       "<text text-anchor=\"start\" x=\"61.5\" y=\"-102\" font-family=\"Times,serif\" font-size=\"10.00\">LinearDepthHalfGreaterThan</text>\n",
       "</g>\n",
       "<!-- b1 -->\n",
       "<g id=\"node2\" class=\"node\">\n",
       "<title>b1</title>\n",
       "<polygon fill=\"none\" stroke=\"black\" points=\"8,-6 8,-29 68,-29 68,-6 8,-6\"/>\n",
       "<text text-anchor=\"start\" x=\"14\" y=\"-15\" font-family=\"Times,serif\" font-size=\"10.00\">BitwiseNot</text>\n",
       "</g>\n",
       "<!-- b0&#45;&gt;b1 -->\n",
       "<g id=\"edge1\" class=\"edge\">\n",
       "<title>b0-&gt;b1</title>\n",
       "<path fill=\"none\" stroke=\"black\" d=\"M105,-86.8C92.7,-74.36 75.91,-57.36 62.22,-43.5\"/>\n",
       "<polygon fill=\"black\" stroke=\"black\" points=\"64.49,-40.83 54.97,-36.18 59.51,-45.75 64.49,-40.83\"/>\n",
       "<text text-anchor=\"middle\" x=\"89.5\" y=\"-57.8\" font-family=\"Times,serif\" font-size=\"14.00\">3</text>\n",
       "</g>\n",
       "<!-- b2 -->\n",
       "<g id=\"node3\" class=\"node\">\n",
       "<title>b2</title>\n",
       "<polygon fill=\"none\" stroke=\"black\" points=\"102,-6 102,-29 142,-29 142,-6 102,-6\"/>\n",
       "<text text-anchor=\"start\" x=\"108\" y=\"-15\" font-family=\"Times,serif\" font-size=\"10.00\">CNOT</text>\n",
       "</g>\n",
       "<!-- b0&#45;&gt;b2 -->\n",
       "<g id=\"edge2\" class=\"edge\">\n",
       "<title>b0-&gt;b2</title>\n",
       "<path fill=\"none\" stroke=\"black\" d=\"M122,-86.8C122,-75.16 122,-59.55 122,-46.24\"/>\n",
       "<polygon fill=\"black\" stroke=\"black\" points=\"125.5,-46.18 122,-36.18 118.5,-46.18 125.5,-46.18\"/>\n",
       "<text text-anchor=\"middle\" x=\"125.5\" y=\"-57.8\" font-family=\"Times,serif\" font-size=\"14.00\">1</text>\n",
       "</g>\n",
       "<!-- b3 -->\n",
       "<g id=\"node4\" class=\"node\">\n",
       "<title>b3</title>\n",
       "<polygon fill=\"none\" stroke=\"black\" points=\"176,-6 176,-29 262,-29 262,-6 176,-6\"/>\n",
       "<text text-anchor=\"start\" x=\"182\" y=\"-15\" font-family=\"Times,serif\" font-size=\"10.00\">OutOfPlaceAdder</text>\n",
       "</g>\n",
       "<!-- b0&#45;&gt;b3 -->\n",
       "<g id=\"edge3\" class=\"edge\">\n",
       "<title>b0-&gt;b3</title>\n",
       "<path fill=\"none\" stroke=\"black\" d=\"M141.63,-86.8C155.96,-74.24 175.58,-57.05 191.47,-43.12\"/>\n",
       "<polygon fill=\"black\" stroke=\"black\" points=\"194.19,-45.4 199.4,-36.18 189.57,-40.13 194.19,-45.4\"/>\n",
       "<text text-anchor=\"middle\" x=\"179.5\" y=\"-57.8\" font-family=\"Times,serif\" font-size=\"14.00\">1</text>\n",
       "</g>\n",
       "</g>\n",
       "</svg>"
      ],
      "text/plain": [
       "<IPython.core.display.SVG object>"
      ]
     },
     "metadata": {},
     "output_type": "display_data"
    },
    {
     "data": {
      "text/markdown": [
       "#### Counts totals:\n",
       " - `BitwiseNot`: 3\n",
       " - `CNOT`: 1\n",
       " - `OutOfPlaceAdder`: 1"
      ],
      "text/plain": [
       "<IPython.core.display.Markdown object>"
      ]
     },
     "metadata": {},
     "output_type": "display_data"
    }
   ],
   "source": [
    "from qualtran.resource_counting.generalizers import ignore_split_join\n",
    "lineardepthhalfgreaterthan_small_g, lineardepthhalfgreaterthan_small_sigma = lineardepthhalfgreaterthan_small.call_graph(max_depth=1, generalizer=ignore_split_join)\n",
    "show_call_graph(lineardepthhalfgreaterthan_small_g)\n",
    "show_counts_sigma(lineardepthhalfgreaterthan_small_sigma)"
   ]
  },
  {
   "cell_type": "markdown",
   "id": "9c39992e",
   "metadata": {
    "cq.autogen": "LinearDepthHalfGreaterThanEqual.bloq_doc.md"
   },
   "source": [
    "## `LinearDepthHalfGreaterThanEqual`\n",
    "Compare two integers while keeping necessary ancillas for zero cost uncomputation.\n",
    "\n",
    "Implements $\\ket{a}\\ket{b}\\ket{0}\\ket{0} \\rightarrow \\ket{a}\\ket{b}\\ket{a-b}\\ket{a \\geq b}$ using $n$ And gates.\n",
    "\n",
    "This comparator relies on the fact that c = (b' + a)' = b - a. If a > b, then b - a < 0. We\n",
    "implement it by flipping all the bits in b, computing the first half of the addition circuit,\n",
    "copying out the carry, and keeping $c$ for the uncomputation.\n",
    "\n",
    "#### Parameters\n",
    " - `dtype`: dtype of the two integers a and b.\n",
    " - `uncompute`: whether this bloq uncomputes or computes the comparison. \n",
    "\n",
    "#### Registers\n",
    " - `a`: first input register.\n",
    " - `b`: second input register.\n",
    " - `c`: ancilla register that will contain $b-a$ and will be used for uncomputation.\n",
    " - `target`: A single bit output register to store the result of a >= b. \n",
    "\n",
    "#### References\n",
    " - [Halving the cost of quantum addition](https://arxiv.org/abs/1709.06648). \n"
   ]
  },
  {
   "cell_type": "code",
   "execution_count": 44,
   "id": "58e6973f",
   "metadata": {
    "cq.autogen": "LinearDepthHalfGreaterThanEqual.bloq_doc.py"
   },
   "outputs": [],
   "source": [
    "from qualtran.bloqs.arithmetic import LinearDepthHalfGreaterThanEqual"
   ]
  },
  {
   "cell_type": "markdown",
   "id": "32dae58a",
   "metadata": {
    "cq.autogen": "LinearDepthHalfGreaterThanEqual.example_instances.md"
   },
   "source": [
    "### Example Instances"
   ]
  },
  {
   "cell_type": "code",
   "execution_count": 45,
   "id": "eded8868",
   "metadata": {
    "cq.autogen": "LinearDepthHalfGreaterThanEqual.lineardepthhalfgreaterthanequal_small"
   },
   "outputs": [],
   "source": [
    "lineardepthhalfgreaterthanequal_small = LinearDepthHalfGreaterThanEqual(QUInt(3))"
   ]
  },
  {
   "cell_type": "markdown",
   "id": "0edbf55b",
   "metadata": {
    "cq.autogen": "LinearDepthHalfGreaterThanEqual.graphical_signature.md"
   },
   "source": [
    "#### Graphical Signature"
   ]
  },
  {
   "cell_type": "code",
   "execution_count": 46,
   "id": "5326975b",
   "metadata": {
    "cq.autogen": "LinearDepthHalfGreaterThanEqual.graphical_signature.py"
   },
   "outputs": [
    {
     "data": {
      "application/vnd.jupyter.widget-view+json": {
       "model_id": "f8773d3e412e4f0ca3334a9af92063ac",
       "version_major": 2,
       "version_minor": 0
      },
      "text/plain": [
       "HBox(children=(Output(outputs=({'output_type': 'display_data', 'data': {'text/plain': '<IPython.core.display.M…"
      ]
     },
     "metadata": {},
     "output_type": "display_data"
    }
   ],
   "source": [
    "from qualtran.drawing import show_bloqs\n",
    "show_bloqs([lineardepthhalfgreaterthanequal_small],\n",
    "           ['`lineardepthhalfgreaterthanequal_small`'])"
   ]
  },
  {
   "cell_type": "markdown",
   "id": "eecfbf65",
   "metadata": {
    "cq.autogen": "LinearDepthHalfGreaterThanEqual.call_graph.md"
   },
   "source": [
    "### Call Graph"
   ]
  },
  {
   "cell_type": "code",
   "execution_count": 47,
   "id": "abfbe19f",
   "metadata": {
    "cq.autogen": "LinearDepthHalfGreaterThanEqual.call_graph.py"
   },
   "outputs": [
    {
     "data": {
      "image/svg+xml": [
       "<svg xmlns=\"http://www.w3.org/2000/svg\" xmlns:xlink=\"http://www.w3.org/1999/xlink\" width=\"350pt\" height=\"131pt\" viewBox=\"0.00 0.00 350.00 131.00\">\n",
       "<g id=\"graph0\" class=\"graph\" transform=\"scale(1 1) rotate(0) translate(4 127)\">\n",
       "<title>counts</title>\n",
       "<polygon fill=\"white\" stroke=\"transparent\" points=\"-4,4 -4,-127 346,-127 346,4 -4,4\"/>\n",
       "<!-- b0 -->\n",
       "<g id=\"node1\" class=\"node\">\n",
       "<title>b0</title>\n",
       "<polygon fill=\"none\" stroke=\"black\" points=\"91,-93 91,-116 249,-116 249,-93 91,-93\"/>\n",
       "<text text-anchor=\"start\" x=\"97.5\" y=\"-102\" font-family=\"Times,serif\" font-size=\"10.00\">LinearDepthHalfGreaterThanEqual</text>\n",
       "</g>\n",
       "<!-- b1 -->\n",
       "<g id=\"node2\" class=\"node\">\n",
       "<title>b1</title>\n",
       "<polygon fill=\"none\" stroke=\"black\" points=\"8,-6 8,-29 68,-29 68,-6 8,-6\"/>\n",
       "<text text-anchor=\"start\" x=\"14\" y=\"-15\" font-family=\"Times,serif\" font-size=\"10.00\">BitwiseNot</text>\n",
       "</g>\n",
       "<!-- b0&#45;&gt;b1 -->\n",
       "<g id=\"edge1\" class=\"edge\">\n",
       "<title>b0-&gt;b1</title>\n",
       "<path fill=\"none\" stroke=\"black\" d=\"M143.29,-86.8C123.07,-73.78 95.12,-55.78 73.1,-41.6\"/>\n",
       "<polygon fill=\"black\" stroke=\"black\" points=\"74.98,-38.65 64.67,-36.18 71.19,-44.53 74.98,-38.65\"/>\n",
       "<text text-anchor=\"middle\" x=\"115.5\" y=\"-57.8\" font-family=\"Times,serif\" font-size=\"14.00\">3</text>\n",
       "</g>\n",
       "<!-- b2 -->\n",
       "<g id=\"node3\" class=\"node\">\n",
       "<title>b2</title>\n",
       "<polygon fill=\"none\" stroke=\"black\" points=\"102,-6 102,-29 142,-29 142,-6 102,-6\"/>\n",
       "<text text-anchor=\"start\" x=\"108\" y=\"-15\" font-family=\"Times,serif\" font-size=\"10.00\">CNOT</text>\n",
       "</g>\n",
       "<!-- b0&#45;&gt;b2 -->\n",
       "<g id=\"edge2\" class=\"edge\">\n",
       "<title>b0-&gt;b2</title>\n",
       "<path fill=\"none\" stroke=\"black\" d=\"M160.29,-86.8C153.52,-74.82 144.37,-58.62 136.71,-45.06\"/>\n",
       "<polygon fill=\"black\" stroke=\"black\" points=\"139.66,-43.16 131.7,-36.18 133.57,-46.6 139.66,-43.16\"/>\n",
       "<text text-anchor=\"middle\" x=\"152.5\" y=\"-57.8\" font-family=\"Times,serif\" font-size=\"14.00\">1</text>\n",
       "</g>\n",
       "<!-- b3 -->\n",
       "<g id=\"node4\" class=\"node\">\n",
       "<title>b3</title>\n",
       "<polygon fill=\"none\" stroke=\"black\" points=\"176,-6 176,-29 262,-29 262,-6 176,-6\"/>\n",
       "<text text-anchor=\"start\" x=\"182\" y=\"-15\" font-family=\"Times,serif\" font-size=\"10.00\">OutOfPlaceAdder</text>\n",
       "</g>\n",
       "<!-- b0&#45;&gt;b3 -->\n",
       "<g id=\"edge3\" class=\"edge\">\n",
       "<title>b0-&gt;b3</title>\n",
       "<path fill=\"none\" stroke=\"black\" d=\"M179.92,-86.8C186.82,-74.82 196.16,-58.62 203.98,-45.06\"/>\n",
       "<polygon fill=\"black\" stroke=\"black\" points=\"207.14,-46.59 209.1,-36.18 201.07,-43.09 207.14,-46.59\"/>\n",
       "<text text-anchor=\"middle\" x=\"201.5\" y=\"-57.8\" font-family=\"Times,serif\" font-size=\"14.00\">1</text>\n",
       "</g>\n",
       "<!-- b4 -->\n",
       "<g id=\"node5\" class=\"node\">\n",
       "<title>b4</title>\n",
       "<polygon fill=\"none\" stroke=\"black\" points=\"305,-6 305,-29 325,-29 325,-6 305,-6\"/>\n",
       "<text text-anchor=\"start\" x=\"311\" y=\"-15\" font-family=\"Times,serif\" font-size=\"10.00\">X</text>\n",
       "</g>\n",
       "<!-- b0&#45;&gt;b4 -->\n",
       "<g id=\"edge4\" class=\"edge\">\n",
       "<title>b0-&gt;b4</title>\n",
       "<path fill=\"none\" stroke=\"black\" d=\"M199.34,-86.8C222.34,-73.32 254.44,-54.5 278.99,-40.11\"/>\n",
       "<polygon fill=\"black\" stroke=\"black\" points=\"280.81,-43.1 287.66,-35.03 277.27,-37.06 280.81,-43.1\"/>\n",
       "<text text-anchor=\"middle\" x=\"254.5\" y=\"-57.8\" font-family=\"Times,serif\" font-size=\"14.00\">1</text>\n",
       "</g>\n",
       "</g>\n",
       "</svg>"
      ],
      "text/plain": [
       "<IPython.core.display.SVG object>"
      ]
     },
     "metadata": {},
     "output_type": "display_data"
    },
    {
     "data": {
      "text/markdown": [
       "#### Counts totals:\n",
       " - `BitwiseNot`: 3\n",
       " - `CNOT`: 1\n",
       " - `OutOfPlaceAdder`: 1\n",
       " - `X`: 1"
      ],
      "text/plain": [
       "<IPython.core.display.Markdown object>"
      ]
     },
     "metadata": {},
     "output_type": "display_data"
    }
   ],
   "source": [
    "from qualtran.resource_counting.generalizers import ignore_split_join\n",
    "lineardepthhalfgreaterthanequal_small_g, lineardepthhalfgreaterthanequal_small_sigma = lineardepthhalfgreaterthanequal_small.call_graph(max_depth=1, generalizer=ignore_split_join)\n",
    "show_call_graph(lineardepthhalfgreaterthanequal_small_g)\n",
    "show_counts_sigma(lineardepthhalfgreaterthanequal_small_sigma)"
   ]
  },
  {
   "cell_type": "markdown",
   "id": "19744b75",
   "metadata": {
    "cq.autogen": "LinearDepthHalfLessThan.bloq_doc.md"
   },
   "source": [
    "## `LinearDepthHalfLessThan`\n",
    "Compare two integers while keeping necessary ancillas for zero cost uncomputation.\n",
    "\n",
    "Implements $\\ket{a}\\ket{b}\\ket{0}\\ket{0} \\rightarrow \\ket{a}\\ket{b}\\ket{a-b}\\ket{a<b}$ using $n$ And gates.\n",
    "\n",
    "This comparator relies on the fact that c = (b' + a)' = b - a. If a > b, then b - a < 0. We\n",
    "implement it by flipping all the bits in b, computing the first half of the addition circuit,\n",
    "copying out the carry, and keeping $c$ for the uncomputation.\n",
    "\n",
    "#### Parameters\n",
    " - `dtype`: dtype of the two integers a and b.\n",
    " - `uncompute`: whether this bloq uncomputes or computes the comparison. \n",
    "\n",
    "#### Registers\n",
    " - `a`: first input register.\n",
    " - `b`: second input register.\n",
    " - `c`: ancilla register that will contain $b-a$ and will be used for uncomputation.\n",
    " - `target`: A single bit output register to store the result of a < b. \n",
    "\n",
    "#### References\n",
    " - [Halving the cost of quantum addition](https://arxiv.org/abs/1709.06648). \n"
   ]
  },
  {
   "cell_type": "code",
   "execution_count": 48,
   "id": "1eec63a1",
   "metadata": {
    "cq.autogen": "LinearDepthHalfLessThan.bloq_doc.py"
   },
   "outputs": [],
   "source": [
    "from qualtran.bloqs.arithmetic import LinearDepthHalfLessThan"
   ]
  },
  {
   "cell_type": "markdown",
   "id": "75142163",
   "metadata": {
    "cq.autogen": "LinearDepthHalfLessThan.example_instances.md"
   },
   "source": [
    "### Example Instances"
   ]
  },
  {
   "cell_type": "code",
   "execution_count": 49,
   "id": "4759ae6d",
   "metadata": {
    "cq.autogen": "LinearDepthHalfLessThan.lineardepthhalflessthan_small"
   },
   "outputs": [],
   "source": [
    "lineardepthhalflessthan_small = LinearDepthHalfLessThan(QUInt(3))"
   ]
  },
  {
   "cell_type": "markdown",
   "id": "903efca4",
   "metadata": {
    "cq.autogen": "LinearDepthHalfLessThan.graphical_signature.md"
   },
   "source": [
    "#### Graphical Signature"
   ]
  },
  {
   "cell_type": "code",
   "execution_count": 50,
   "id": "bbbefc84",
   "metadata": {
    "cq.autogen": "LinearDepthHalfLessThan.graphical_signature.py"
   },
   "outputs": [
    {
     "data": {
      "application/vnd.jupyter.widget-view+json": {
       "model_id": "6da669c4b3b14556a219448beedd87b8",
       "version_major": 2,
       "version_minor": 0
      },
      "text/plain": [
       "HBox(children=(Output(outputs=({'output_type': 'display_data', 'data': {'text/plain': '<IPython.core.display.M…"
      ]
     },
     "metadata": {},
     "output_type": "display_data"
    }
   ],
   "source": [
    "from qualtran.drawing import show_bloqs\n",
    "show_bloqs([lineardepthhalflessthan_small],\n",
    "           ['`lineardepthhalflessthan_small`'])"
   ]
  },
  {
   "cell_type": "markdown",
   "id": "8862065f",
   "metadata": {
    "cq.autogen": "LinearDepthHalfLessThan.call_graph.md"
   },
   "source": [
    "### Call Graph"
   ]
  },
  {
   "cell_type": "code",
   "execution_count": 51,
   "id": "9be045c4",
   "metadata": {
    "cq.autogen": "LinearDepthHalfLessThan.call_graph.py"
   },
   "outputs": [
    {
     "data": {
      "image/svg+xml": [
       "<svg xmlns=\"http://www.w3.org/2000/svg\" xmlns:xlink=\"http://www.w3.org/1999/xlink\" width=\"278pt\" height=\"131pt\" viewBox=\"0.00 0.00 278.00 131.00\">\n",
       "<g id=\"graph0\" class=\"graph\" transform=\"scale(1 1) rotate(0) translate(4 127)\">\n",
       "<title>counts</title>\n",
       "<polygon fill=\"white\" stroke=\"transparent\" points=\"-4,4 -4,-127 274,-127 274,4 -4,4\"/>\n",
       "<!-- b0 -->\n",
       "<g id=\"node1\" class=\"node\">\n",
       "<title>b0</title>\n",
       "<polygon fill=\"none\" stroke=\"black\" points=\"61,-93 61,-116 183,-116 183,-93 61,-93\"/>\n",
       "<text text-anchor=\"start\" x=\"67.5\" y=\"-102\" font-family=\"Times,serif\" font-size=\"10.00\">LinearDepthHalfLessThan</text>\n",
       "</g>\n",
       "<!-- b1 -->\n",
       "<g id=\"node2\" class=\"node\">\n",
       "<title>b1</title>\n",
       "<polygon fill=\"none\" stroke=\"black\" points=\"8,-6 8,-29 68,-29 68,-6 8,-6\"/>\n",
       "<text text-anchor=\"start\" x=\"14\" y=\"-15\" font-family=\"Times,serif\" font-size=\"10.00\">BitwiseNot</text>\n",
       "</g>\n",
       "<!-- b0&#45;&gt;b1 -->\n",
       "<g id=\"edge1\" class=\"edge\">\n",
       "<title>b0-&gt;b1</title>\n",
       "<path fill=\"none\" stroke=\"black\" d=\"M105,-86.8C92.7,-74.36 75.91,-57.36 62.22,-43.5\"/>\n",
       "<polygon fill=\"black\" stroke=\"black\" points=\"64.49,-40.83 54.97,-36.18 59.51,-45.75 64.49,-40.83\"/>\n",
       "<text text-anchor=\"middle\" x=\"89.5\" y=\"-57.8\" font-family=\"Times,serif\" font-size=\"14.00\">3</text>\n",
       "</g>\n",
       "<!-- b2 -->\n",
       "<g id=\"node3\" class=\"node\">\n",
       "<title>b2</title>\n",
       "<polygon fill=\"none\" stroke=\"black\" points=\"102,-6 102,-29 142,-29 142,-6 102,-6\"/>\n",
       "<text text-anchor=\"start\" x=\"108\" y=\"-15\" font-family=\"Times,serif\" font-size=\"10.00\">CNOT</text>\n",
       "</g>\n",
       "<!-- b0&#45;&gt;b2 -->\n",
       "<g id=\"edge2\" class=\"edge\">\n",
       "<title>b0-&gt;b2</title>\n",
       "<path fill=\"none\" stroke=\"black\" d=\"M122,-86.8C122,-75.16 122,-59.55 122,-46.24\"/>\n",
       "<polygon fill=\"black\" stroke=\"black\" points=\"125.5,-46.18 122,-36.18 118.5,-46.18 125.5,-46.18\"/>\n",
       "<text text-anchor=\"middle\" x=\"125.5\" y=\"-57.8\" font-family=\"Times,serif\" font-size=\"14.00\">1</text>\n",
       "</g>\n",
       "<!-- b3 -->\n",
       "<g id=\"node4\" class=\"node\">\n",
       "<title>b3</title>\n",
       "<polygon fill=\"none\" stroke=\"black\" points=\"176,-6 176,-29 262,-29 262,-6 176,-6\"/>\n",
       "<text text-anchor=\"start\" x=\"182\" y=\"-15\" font-family=\"Times,serif\" font-size=\"10.00\">OutOfPlaceAdder</text>\n",
       "</g>\n",
       "<!-- b0&#45;&gt;b3 -->\n",
       "<g id=\"edge3\" class=\"edge\">\n",
       "<title>b0-&gt;b3</title>\n",
       "<path fill=\"none\" stroke=\"black\" d=\"M141.63,-86.8C155.96,-74.24 175.58,-57.05 191.47,-43.12\"/>\n",
       "<polygon fill=\"black\" stroke=\"black\" points=\"194.19,-45.4 199.4,-36.18 189.57,-40.13 194.19,-45.4\"/>\n",
       "<text text-anchor=\"middle\" x=\"179.5\" y=\"-57.8\" font-family=\"Times,serif\" font-size=\"14.00\">1</text>\n",
       "</g>\n",
       "</g>\n",
       "</svg>"
      ],
      "text/plain": [
       "<IPython.core.display.SVG object>"
      ]
     },
     "metadata": {},
     "output_type": "display_data"
    },
    {
     "data": {
      "text/markdown": [
       "#### Counts totals:\n",
       " - `BitwiseNot`: 3\n",
       " - `CNOT`: 1\n",
       " - `OutOfPlaceAdder`: 1"
      ],
      "text/plain": [
       "<IPython.core.display.Markdown object>"
      ]
     },
     "metadata": {},
     "output_type": "display_data"
    }
   ],
   "source": [
    "from qualtran.resource_counting.generalizers import ignore_split_join\n",
    "lineardepthhalflessthan_small_g, lineardepthhalflessthan_small_sigma = lineardepthhalflessthan_small.call_graph(max_depth=1, generalizer=ignore_split_join)\n",
    "show_call_graph(lineardepthhalflessthan_small_g)\n",
    "show_counts_sigma(lineardepthhalflessthan_small_sigma)"
   ]
  },
  {
   "cell_type": "markdown",
   "id": "8a868719",
   "metadata": {
    "cq.autogen": "LinearDepthHalfLessThanEqual.bloq_doc.md"
   },
   "source": [
    "## `LinearDepthHalfLessThanEqual`\n",
    "Compare two integers while keeping necessary ancillas for zero cost uncomputation.\n",
    "\n",
    "Implements $\\ket{a}\\ket{b}\\ket{0}\\ket{0} \\rightarrow \\ket{a}\\ket{b}\\ket{b-a}\\ket{a \\leq b}$ using $n$ And gates.\n",
    "\n",
    "This comparator relies on the fact that c = (b' + a)' = b - a. If a > b, then b - a < 0. We\n",
    "implement it by flipping all the bits in b, computing the first half of the addition circuit,\n",
    "copying out the carry, and keeping $c$ for the uncomputation.\n",
    "\n",
    "#### Parameters\n",
    " - `dtype`: dtype of the two integers a and b.\n",
    " - `uncompute`: whether this bloq uncomputes or computes the comparison. \n",
    "\n",
    "#### Registers\n",
    " - `a`: first input register.\n",
    " - `b`: second input register.\n",
    " - `c`: ancilla register that will contain $b-a$ and will be used for uncomputation.\n",
    " - `target`: A single bit output register to store the result of a <= b. \n",
    "\n",
    "#### References\n",
    " - [Halving the cost of quantum addition](https://arxiv.org/abs/1709.06648). \n"
   ]
  },
  {
   "cell_type": "code",
   "execution_count": 52,
   "id": "5b4c9b03",
   "metadata": {
    "cq.autogen": "LinearDepthHalfLessThanEqual.bloq_doc.py"
   },
   "outputs": [],
   "source": [
    "from qualtran.bloqs.arithmetic import LinearDepthHalfLessThanEqual"
   ]
  },
  {
   "cell_type": "markdown",
   "id": "bae993de",
   "metadata": {
    "cq.autogen": "LinearDepthHalfLessThanEqual.example_instances.md"
   },
   "source": [
    "### Example Instances"
   ]
  },
  {
   "cell_type": "code",
   "execution_count": 53,
   "id": "c6610fd4",
   "metadata": {
    "cq.autogen": "LinearDepthHalfLessThanEqual.lineardepthhalflessthanequal_small"
   },
   "outputs": [],
   "source": [
    "lineardepthhalflessthanequal_small = LinearDepthHalfLessThanEqual(QUInt(3))"
   ]
  },
  {
   "cell_type": "markdown",
   "id": "72de4f8e",
   "metadata": {
    "cq.autogen": "LinearDepthHalfLessThanEqual.graphical_signature.md"
   },
   "source": [
    "#### Graphical Signature"
   ]
  },
  {
   "cell_type": "code",
   "execution_count": 54,
   "id": "fdd8d4c4",
   "metadata": {
    "cq.autogen": "LinearDepthHalfLessThanEqual.graphical_signature.py"
   },
   "outputs": [
    {
     "data": {
      "application/vnd.jupyter.widget-view+json": {
       "model_id": "9b358607ce144bfcb0377cf150f8dc87",
       "version_major": 2,
       "version_minor": 0
      },
      "text/plain": [
       "HBox(children=(Output(outputs=({'output_type': 'display_data', 'data': {'text/plain': '<IPython.core.display.M…"
      ]
     },
     "metadata": {},
     "output_type": "display_data"
    }
   ],
   "source": [
    "from qualtran.drawing import show_bloqs\n",
    "show_bloqs([lineardepthhalflessthanequal_small],\n",
    "           ['`lineardepthhalflessthanequal_small`'])"
   ]
  },
  {
   "cell_type": "markdown",
   "id": "973be9d4",
   "metadata": {
    "cq.autogen": "LinearDepthHalfLessThanEqual.call_graph.md"
   },
   "source": [
    "### Call Graph"
   ]
  },
  {
   "cell_type": "code",
   "execution_count": 55,
   "id": "9efd6db6",
   "metadata": {
    "cq.autogen": "LinearDepthHalfLessThanEqual.call_graph.py"
   },
   "outputs": [
    {
     "data": {
      "image/svg+xml": [
       "<svg xmlns=\"http://www.w3.org/2000/svg\" xmlns:xlink=\"http://www.w3.org/1999/xlink\" width=\"350pt\" height=\"131pt\" viewBox=\"0.00 0.00 350.00 131.00\">\n",
       "<g id=\"graph0\" class=\"graph\" transform=\"scale(1 1) rotate(0) translate(4 127)\">\n",
       "<title>counts</title>\n",
       "<polygon fill=\"white\" stroke=\"transparent\" points=\"-4,4 -4,-127 346,-127 346,4 -4,4\"/>\n",
       "<!-- b0 -->\n",
       "<g id=\"node1\" class=\"node\">\n",
       "<title>b0</title>\n",
       "<polygon fill=\"none\" stroke=\"black\" points=\"97,-93 97,-116 243,-116 243,-93 97,-93\"/>\n",
       "<text text-anchor=\"start\" x=\"103.5\" y=\"-102\" font-family=\"Times,serif\" font-size=\"10.00\">LinearDepthHalfLessThanEqual</text>\n",
       "</g>\n",
       "<!-- b1 -->\n",
       "<g id=\"node2\" class=\"node\">\n",
       "<title>b1</title>\n",
       "<polygon fill=\"none\" stroke=\"black\" points=\"8,-6 8,-29 68,-29 68,-6 8,-6\"/>\n",
       "<text text-anchor=\"start\" x=\"14\" y=\"-15\" font-family=\"Times,serif\" font-size=\"10.00\">BitwiseNot</text>\n",
       "</g>\n",
       "<!-- b0&#45;&gt;b1 -->\n",
       "<g id=\"edge1\" class=\"edge\">\n",
       "<title>b0-&gt;b1</title>\n",
       "<path fill=\"none\" stroke=\"black\" d=\"M143.29,-86.8C123.07,-73.78 95.12,-55.78 73.1,-41.6\"/>\n",
       "<polygon fill=\"black\" stroke=\"black\" points=\"74.98,-38.65 64.67,-36.18 71.19,-44.53 74.98,-38.65\"/>\n",
       "<text text-anchor=\"middle\" x=\"115.5\" y=\"-57.8\" font-family=\"Times,serif\" font-size=\"14.00\">3</text>\n",
       "</g>\n",
       "<!-- b2 -->\n",
       "<g id=\"node3\" class=\"node\">\n",
       "<title>b2</title>\n",
       "<polygon fill=\"none\" stroke=\"black\" points=\"102,-6 102,-29 142,-29 142,-6 102,-6\"/>\n",
       "<text text-anchor=\"start\" x=\"108\" y=\"-15\" font-family=\"Times,serif\" font-size=\"10.00\">CNOT</text>\n",
       "</g>\n",
       "<!-- b0&#45;&gt;b2 -->\n",
       "<g id=\"edge2\" class=\"edge\">\n",
       "<title>b0-&gt;b2</title>\n",
       "<path fill=\"none\" stroke=\"black\" d=\"M160.29,-86.8C153.52,-74.82 144.37,-58.62 136.71,-45.06\"/>\n",
       "<polygon fill=\"black\" stroke=\"black\" points=\"139.66,-43.16 131.7,-36.18 133.57,-46.6 139.66,-43.16\"/>\n",
       "<text text-anchor=\"middle\" x=\"152.5\" y=\"-57.8\" font-family=\"Times,serif\" font-size=\"14.00\">1</text>\n",
       "</g>\n",
       "<!-- b3 -->\n",
       "<g id=\"node4\" class=\"node\">\n",
       "<title>b3</title>\n",
       "<polygon fill=\"none\" stroke=\"black\" points=\"176,-6 176,-29 262,-29 262,-6 176,-6\"/>\n",
       "<text text-anchor=\"start\" x=\"182\" y=\"-15\" font-family=\"Times,serif\" font-size=\"10.00\">OutOfPlaceAdder</text>\n",
       "</g>\n",
       "<!-- b0&#45;&gt;b3 -->\n",
       "<g id=\"edge3\" class=\"edge\">\n",
       "<title>b0-&gt;b3</title>\n",
       "<path fill=\"none\" stroke=\"black\" d=\"M179.92,-86.8C186.82,-74.82 196.16,-58.62 203.98,-45.06\"/>\n",
       "<polygon fill=\"black\" stroke=\"black\" points=\"207.14,-46.59 209.1,-36.18 201.07,-43.09 207.14,-46.59\"/>\n",
       "<text text-anchor=\"middle\" x=\"201.5\" y=\"-57.8\" font-family=\"Times,serif\" font-size=\"14.00\">1</text>\n",
       "</g>\n",
       "<!-- b4 -->\n",
       "<g id=\"node5\" class=\"node\">\n",
       "<title>b4</title>\n",
       "<polygon fill=\"none\" stroke=\"black\" points=\"305,-6 305,-29 325,-29 325,-6 305,-6\"/>\n",
       "<text text-anchor=\"start\" x=\"311\" y=\"-15\" font-family=\"Times,serif\" font-size=\"10.00\">X</text>\n",
       "</g>\n",
       "<!-- b0&#45;&gt;b4 -->\n",
       "<g id=\"edge4\" class=\"edge\">\n",
       "<title>b0-&gt;b4</title>\n",
       "<path fill=\"none\" stroke=\"black\" d=\"M199.34,-86.8C222.34,-73.32 254.44,-54.5 278.99,-40.11\"/>\n",
       "<polygon fill=\"black\" stroke=\"black\" points=\"280.81,-43.1 287.66,-35.03 277.27,-37.06 280.81,-43.1\"/>\n",
       "<text text-anchor=\"middle\" x=\"254.5\" y=\"-57.8\" font-family=\"Times,serif\" font-size=\"14.00\">1</text>\n",
       "</g>\n",
       "</g>\n",
       "</svg>"
      ],
      "text/plain": [
       "<IPython.core.display.SVG object>"
      ]
     },
     "metadata": {},
     "output_type": "display_data"
    },
    {
     "data": {
      "text/markdown": [
       "#### Counts totals:\n",
       " - `BitwiseNot`: 3\n",
       " - `CNOT`: 1\n",
       " - `OutOfPlaceAdder`: 1\n",
       " - `X`: 1"
      ],
      "text/plain": [
       "<IPython.core.display.Markdown object>"
      ]
     },
     "metadata": {},
     "output_type": "display_data"
    }
   ],
   "source": [
    "from qualtran.resource_counting.generalizers import ignore_split_join\n",
    "lineardepthhalflessthanequal_small_g, lineardepthhalflessthanequal_small_sigma = lineardepthhalflessthanequal_small.call_graph(max_depth=1, generalizer=ignore_split_join)\n",
    "show_call_graph(lineardepthhalflessthanequal_small_g)\n",
    "show_counts_sigma(lineardepthhalflessthanequal_small_sigma)"
   ]
  }
 ],
 "metadata": {
  "kernelspec": {
   "display_name": "Python 3 (ipykernel)",
   "language": "python",
   "name": "python3"
  },
  "language_info": {
   "codemirror_mode": {
    "name": "ipython",
    "version": 3
   },
   "file_extension": ".py",
   "mimetype": "text/x-python",
   "name": "python",
   "nbconvert_exporter": "python",
   "pygments_lexer": "ipython3",
   "version": "3.11.8"
  },
  "widgets": {
   "application/vnd.jupyter.widget-state+json": {
    "state": {
     "0215899635a5406399a99ab7ca77e5da": {
      "model_module": "@jupyter-widgets/output",
      "model_module_version": "1.0.0",
      "model_name": "OutputModel",
      "state": {
       "_dom_classes": [],
       "_model_module": "@jupyter-widgets/output",
       "_model_module_version": "1.0.0",
       "_model_name": "OutputModel",
       "_view_count": null,
       "_view_module": "@jupyter-widgets/output",
       "_view_module_version": "1.0.0",
       "_view_name": "OutputView",
       "layout": "IPY_MODEL_d6bdd8db971c41b6ad1dbcdca0b93a35",
       "msg_id": "",
       "outputs": [
        {
         "data": {
          "text/markdown": "`lineardepthhalflessthanequal_small`",
          "text/plain": "<IPython.core.display.Markdown object>"
         },
         "metadata": {},
         "output_type": "display_data"
        },
        {
         "data": {
          "image/svg+xml": "<svg xmlns=\"http://www.w3.org/2000/svg\" xmlns:xlink=\"http://www.w3.org/1999/xlink\" width=\"329pt\" height=\"206pt\" viewBox=\"0.00 0.00 329.00 206.00\">\n<g id=\"graph0\" class=\"graph\" transform=\"scale(1 1) rotate(0) translate(4 202)\">\n<title>my_graph</title>\n<polygon fill=\"white\" stroke=\"transparent\" points=\"-4,4 -4,-202 325,-202 325,4 -4,4\"/>\n<!-- a_G5 -->\n<g id=\"node1\" class=\"node\">\n<title>a_G5</title>\n<text text-anchor=\"middle\" x=\"27\" y=\"-143.3\" font-family=\"Times,serif\" font-size=\"14.00\">a</text>\n</g>\n<!-- LinearDepthHalfLessThanEqual -->\n<g id=\"node3\" class=\"node\">\n<title>LinearDepthHalfLessThanEqual</title>\n<polygon fill=\"none\" stroke=\"black\" points=\"91.5,-141 91.5,-158 230.5,-158 230.5,-141 91.5,-141\"/>\n<text text-anchor=\"start\" x=\"94.5\" y=\"-147\" font-family=\"Times,serif\" font-size=\"10.00\">LinearDepthHalfLessThanEqual</text>\n<polygon fill=\"none\" stroke=\"black\" points=\"91.5,-120 91.5,-141 230.5,-141 230.5,-120 91.5,-120\"/>\n<text text-anchor=\"start\" x=\"157.5\" y=\"-126.8\" font-family=\"Times,serif\" font-size=\"14.00\">a</text>\n<polygon fill=\"none\" stroke=\"black\" points=\"91.5,-99 91.5,-120 230.5,-120 230.5,-99 91.5,-99\"/>\n<text text-anchor=\"start\" x=\"157.5\" y=\"-105.8\" font-family=\"Times,serif\" font-size=\"14.00\">b</text>\n<polygon fill=\"none\" stroke=\"black\" points=\"91.5,-78 91.5,-99 145.5,-99 145.5,-78 91.5,-78\"/>\n<polygon fill=\"none\" stroke=\"black\" points=\"145.5,-78 145.5,-99 230.5,-99 230.5,-78 145.5,-78\"/>\n<text text-anchor=\"start\" x=\"184.5\" y=\"-84.8\" font-family=\"Times,serif\" font-size=\"14.00\">c</text>\n<polygon fill=\"none\" stroke=\"black\" points=\"91.5,-57 91.5,-78 145.5,-78 145.5,-57 91.5,-57\"/>\n<polygon fill=\"none\" stroke=\"black\" points=\"145.5,-57 145.5,-78 230.5,-78 230.5,-57 145.5,-57\"/>\n<text text-anchor=\"start\" x=\"172.5\" y=\"-63.8\" font-family=\"Times,serif\" font-size=\"14.00\">target</text>\n</g>\n<!-- a_G5&#45;&gt;LinearDepthHalfLessThanEqual -->\n<g id=\"edge1\" class=\"edge\">\n<title>a_G5:e-&gt;LinearDepthHalfLessThanEqual:w</title>\n<path fill=\"none\" stroke=\"black\" d=\"M54,-147C71.22,-147 72.97,-132.23 88.98,-131.07\"/>\n<ellipse fill=\"black\" stroke=\"black\" cx=\"90\" cy=\"-131.04\" rx=\"1\" ry=\"1\"/>\n<text text-anchor=\"middle\" x=\"72.5\" y=\"-142\" font-family=\"Times,serif\" font-size=\"10.00\">3</text>\n</g>\n<!-- b_G3 -->\n<g id=\"node2\" class=\"node\">\n<title>b_G3</title>\n<text text-anchor=\"middle\" x=\"27\" y=\"-89.3\" font-family=\"Times,serif\" font-size=\"14.00\">b</text>\n</g>\n<!-- b_G3&#45;&gt;LinearDepthHalfLessThanEqual -->\n<g id=\"edge2\" class=\"edge\">\n<title>b_G3:e-&gt;LinearDepthHalfLessThanEqual:w</title>\n<path fill=\"none\" stroke=\"black\" d=\"M54,-93C71.39,-93 72.81,-108.7 88.96,-109.92\"/>\n<ellipse fill=\"black\" stroke=\"black\" cx=\"90\" cy=\"-109.96\" rx=\"1\" ry=\"1\"/>\n<text text-anchor=\"middle\" x=\"72.5\" y=\"-104\" font-family=\"Times,serif\" font-size=\"10.00\">3</text>\n</g>\n<!-- a_G9 -->\n<g id=\"node4\" class=\"node\">\n<title>a_G9</title>\n<text text-anchor=\"middle\" x=\"294\" y=\"-176.3\" font-family=\"Times,serif\" font-size=\"14.00\">a</text>\n</g>\n<!-- LinearDepthHalfLessThanEqual&#45;&gt;a_G9 -->\n<g id=\"edge3\" class=\"edge\">\n<title>LinearDepthHalfLessThanEqual:e-&gt;a_G9:w</title>\n<path fill=\"none\" stroke=\"black\" d=\"M230,-131C256.54,-131 240.64,-177.36 264.86,-179.89\"/>\n<ellipse fill=\"black\" stroke=\"black\" cx=\"266\" cy=\"-179.95\" rx=\"1\" ry=\"1\"/>\n<text text-anchor=\"middle\" x=\"248.5\" y=\"-159\" font-family=\"Times,serif\" font-size=\"10.00\">3</text>\n</g>\n<!-- b_G2 -->\n<g id=\"node5\" class=\"node\">\n<title>b_G2</title>\n<text text-anchor=\"middle\" x=\"294\" y=\"-122.3\" font-family=\"Times,serif\" font-size=\"14.00\">b</text>\n</g>\n<!-- LinearDepthHalfLessThanEqual&#45;&gt;b_G2 -->\n<g id=\"edge4\" class=\"edge\">\n<title>LinearDepthHalfLessThanEqual:e-&gt;b_G2:w</title>\n<path fill=\"none\" stroke=\"black\" d=\"M230,-110C247.22,-110 248.97,-124.77 264.98,-125.93\"/>\n<ellipse fill=\"black\" stroke=\"black\" cx=\"266\" cy=\"-125.96\" rx=\"1\" ry=\"1\"/>\n<text text-anchor=\"middle\" x=\"248.5\" y=\"-121\" font-family=\"Times,serif\" font-size=\"10.00\">3</text>\n</g>\n<!-- c_G6 -->\n<g id=\"node6\" class=\"node\">\n<title>c_G6</title>\n<text text-anchor=\"middle\" x=\"294\" y=\"-68.3\" font-family=\"Times,serif\" font-size=\"14.00\">c</text>\n</g>\n<!-- LinearDepthHalfLessThanEqual&#45;&gt;c_G6 -->\n<g id=\"edge5\" class=\"edge\">\n<title>LinearDepthHalfLessThanEqual:e-&gt;c_G6:w</title>\n<path fill=\"none\" stroke=\"black\" d=\"M230,-88C247.22,-88 248.97,-73.23 264.98,-72.07\"/>\n<ellipse fill=\"black\" stroke=\"black\" cx=\"266\" cy=\"-72.04\" rx=\"1\" ry=\"1\"/>\n<text text-anchor=\"middle\" x=\"248.5\" y=\"-83\" font-family=\"Times,serif\" font-size=\"10.00\">4</text>\n</g>\n<!-- target_G4 -->\n<g id=\"node7\" class=\"node\">\n<title>target_G4</title>\n<text text-anchor=\"middle\" x=\"294\" y=\"-14.3\" font-family=\"Times,serif\" font-size=\"14.00\">target</text>\n</g>\n<!-- LinearDepthHalfLessThanEqual&#45;&gt;target_G4 -->\n<g id=\"edge6\" class=\"edge\">\n<title>LinearDepthHalfLessThanEqual:e-&gt;target_G4:w</title>\n<path fill=\"none\" stroke=\"black\" d=\"M230,-67C256.54,-67 240.64,-20.64 264.86,-18.11\"/>\n<ellipse fill=\"black\" stroke=\"black\" cx=\"266\" cy=\"-18.05\" rx=\"1\" ry=\"1\"/>\n<text text-anchor=\"middle\" x=\"248.5\" y=\"-47\" font-family=\"Times,serif\" font-size=\"10.00\">1</text>\n</g>\n</g>\n</svg>",
          "text/plain": "<IPython.core.display.SVG object>"
         },
         "metadata": {},
         "output_type": "display_data"
        }
       ],
       "tabbable": null,
       "tooltip": null
      }
     },
     "079acf007fea4a51b7690f416eeef991": {
      "model_module": "@jupyter-widgets/base",
      "model_module_version": "2.0.0",
      "model_name": "LayoutModel",
      "state": {
       "_model_module": "@jupyter-widgets/base",
       "_model_module_version": "2.0.0",
       "_model_name": "LayoutModel",
       "_view_count": null,
       "_view_module": "@jupyter-widgets/base",
       "_view_module_version": "2.0.0",
       "_view_name": "LayoutView",
       "align_content": null,
       "align_items": null,
       "align_self": null,
       "border_bottom": null,
       "border_left": null,
       "border_right": null,
       "border_top": null,
       "bottom": null,
       "display": null,
       "flex": null,
       "flex_flow": null,
       "grid_area": null,
       "grid_auto_columns": null,
       "grid_auto_flow": null,
       "grid_auto_rows": null,
       "grid_column": null,
       "grid_gap": null,
       "grid_row": null,
       "grid_template_areas": null,
       "grid_template_columns": null,
       "grid_template_rows": null,
       "height": null,
       "justify_content": null,
       "justify_items": null,
       "left": null,
       "margin": null,
       "max_height": null,
       "max_width": null,
       "min_height": null,
       "min_width": null,
       "object_fit": null,
       "object_position": null,
       "order": null,
       "overflow": null,
       "padding": null,
       "right": null,
       "top": null,
       "visibility": null,
       "width": null
      }
     },
     "0e9c973afcec4252b88bbba0143752dd": {
      "model_module": "@jupyter-widgets/output",
      "model_module_version": "1.0.0",
      "model_name": "OutputModel",
      "state": {
       "_dom_classes": [],
       "_model_module": "@jupyter-widgets/output",
       "_model_module_version": "1.0.0",
       "_model_name": "OutputModel",
       "_view_count": null,
       "_view_module": "@jupyter-widgets/output",
       "_view_module_version": "1.0.0",
       "_view_name": "OutputView",
       "layout": "IPY_MODEL_8b3dc851ad454422a2a48177fb7898d7",
       "msg_id": "",
       "outputs": [
        {
         "data": {
          "text/markdown": "`lineardepthhalfgreaterthanequal_small`",
          "text/plain": "<IPython.core.display.Markdown object>"
         },
         "metadata": {},
         "output_type": "display_data"
        },
        {
         "data": {
          "image/svg+xml": "<svg xmlns=\"http://www.w3.org/2000/svg\" xmlns:xlink=\"http://www.w3.org/1999/xlink\" width=\"341pt\" height=\"206pt\" viewBox=\"0.00 0.00 341.00 206.00\">\n<g id=\"graph0\" class=\"graph\" transform=\"scale(1 1) rotate(0) translate(4 202)\">\n<title>my_graph</title>\n<polygon fill=\"white\" stroke=\"transparent\" points=\"-4,4 -4,-202 337,-202 337,4 -4,4\"/>\n<!-- a_G7 -->\n<g id=\"node1\" class=\"node\">\n<title>a_G7</title>\n<text text-anchor=\"middle\" x=\"27\" y=\"-143.3\" font-family=\"Times,serif\" font-size=\"14.00\">a</text>\n</g>\n<!-- LinearDepthHalfGreaterThanEqual -->\n<g id=\"node3\" class=\"node\">\n<title>LinearDepthHalfGreaterThanEqual</title>\n<polygon fill=\"none\" stroke=\"black\" points=\"91.5,-141 91.5,-158 242.5,-158 242.5,-141 91.5,-141\"/>\n<text text-anchor=\"start\" x=\"94.5\" y=\"-147\" font-family=\"Times,serif\" font-size=\"10.00\">LinearDepthHalfGreaterThanEqual</text>\n<polygon fill=\"none\" stroke=\"black\" points=\"91.5,-120 91.5,-141 242.5,-141 242.5,-120 91.5,-120\"/>\n<text text-anchor=\"start\" x=\"163.5\" y=\"-126.8\" font-family=\"Times,serif\" font-size=\"14.00\">a</text>\n<polygon fill=\"none\" stroke=\"black\" points=\"91.5,-99 91.5,-120 242.5,-120 242.5,-99 91.5,-99\"/>\n<text text-anchor=\"start\" x=\"163.5\" y=\"-105.8\" font-family=\"Times,serif\" font-size=\"14.00\">b</text>\n<polygon fill=\"none\" stroke=\"black\" points=\"91.5,-78 91.5,-99 151.5,-99 151.5,-78 91.5,-78\"/>\n<polygon fill=\"none\" stroke=\"black\" points=\"151.5,-78 151.5,-99 242.5,-99 242.5,-78 151.5,-78\"/>\n<text text-anchor=\"start\" x=\"193.5\" y=\"-84.8\" font-family=\"Times,serif\" font-size=\"14.00\">c</text>\n<polygon fill=\"none\" stroke=\"black\" points=\"91.5,-57 91.5,-78 151.5,-78 151.5,-57 91.5,-57\"/>\n<polygon fill=\"none\" stroke=\"black\" points=\"151.5,-57 151.5,-78 242.5,-78 242.5,-57 151.5,-57\"/>\n<text text-anchor=\"start\" x=\"181.5\" y=\"-63.8\" font-family=\"Times,serif\" font-size=\"14.00\">target</text>\n</g>\n<!-- a_G7&#45;&gt;LinearDepthHalfGreaterThanEqual -->\n<g id=\"edge1\" class=\"edge\">\n<title>a_G7:e-&gt;LinearDepthHalfGreaterThanEqual:w</title>\n<path fill=\"none\" stroke=\"black\" d=\"M54,-147C71.22,-147 72.97,-132.23 88.98,-131.07\"/>\n<ellipse fill=\"black\" stroke=\"black\" cx=\"90\" cy=\"-131.04\" rx=\"1\" ry=\"1\"/>\n<text text-anchor=\"middle\" x=\"72.5\" y=\"-142\" font-family=\"Times,serif\" font-size=\"10.00\">3</text>\n</g>\n<!-- b_G5 -->\n<g id=\"node2\" class=\"node\">\n<title>b_G5</title>\n<text text-anchor=\"middle\" x=\"27\" y=\"-89.3\" font-family=\"Times,serif\" font-size=\"14.00\">b</text>\n</g>\n<!-- b_G5&#45;&gt;LinearDepthHalfGreaterThanEqual -->\n<g id=\"edge2\" class=\"edge\">\n<title>b_G5:e-&gt;LinearDepthHalfGreaterThanEqual:w</title>\n<path fill=\"none\" stroke=\"black\" d=\"M54,-93C71.39,-93 72.81,-108.7 88.96,-109.92\"/>\n<ellipse fill=\"black\" stroke=\"black\" cx=\"90\" cy=\"-109.96\" rx=\"1\" ry=\"1\"/>\n<text text-anchor=\"middle\" x=\"72.5\" y=\"-104\" font-family=\"Times,serif\" font-size=\"10.00\">3</text>\n</g>\n<!-- a_G9 -->\n<g id=\"node4\" class=\"node\">\n<title>a_G9</title>\n<text text-anchor=\"middle\" x=\"306\" y=\"-176.3\" font-family=\"Times,serif\" font-size=\"14.00\">a</text>\n</g>\n<!-- LinearDepthHalfGreaterThanEqual&#45;&gt;a_G9 -->\n<g id=\"edge3\" class=\"edge\">\n<title>LinearDepthHalfGreaterThanEqual:e-&gt;a_G9:w</title>\n<path fill=\"none\" stroke=\"black\" d=\"M242,-131C268.54,-131 252.64,-177.36 276.86,-179.89\"/>\n<ellipse fill=\"black\" stroke=\"black\" cx=\"278\" cy=\"-179.95\" rx=\"1\" ry=\"1\"/>\n<text text-anchor=\"middle\" x=\"260.5\" y=\"-159\" font-family=\"Times,serif\" font-size=\"10.00\">3</text>\n</g>\n<!-- b_G1 -->\n<g id=\"node5\" class=\"node\">\n<title>b_G1</title>\n<text text-anchor=\"middle\" x=\"306\" y=\"-122.3\" font-family=\"Times,serif\" font-size=\"14.00\">b</text>\n</g>\n<!-- LinearDepthHalfGreaterThanEqual&#45;&gt;b_G1 -->\n<g id=\"edge4\" class=\"edge\">\n<title>LinearDepthHalfGreaterThanEqual:e-&gt;b_G1:w</title>\n<path fill=\"none\" stroke=\"black\" d=\"M242,-110C259.22,-110 260.97,-124.77 276.98,-125.93\"/>\n<ellipse fill=\"black\" stroke=\"black\" cx=\"278\" cy=\"-125.96\" rx=\"1\" ry=\"1\"/>\n<text text-anchor=\"middle\" x=\"260.5\" y=\"-121\" font-family=\"Times,serif\" font-size=\"10.00\">3</text>\n</g>\n<!-- c_G8 -->\n<g id=\"node6\" class=\"node\">\n<title>c_G8</title>\n<text text-anchor=\"middle\" x=\"306\" y=\"-68.3\" font-family=\"Times,serif\" font-size=\"14.00\">c</text>\n</g>\n<!-- LinearDepthHalfGreaterThanEqual&#45;&gt;c_G8 -->\n<g id=\"edge5\" class=\"edge\">\n<title>LinearDepthHalfGreaterThanEqual:e-&gt;c_G8:w</title>\n<path fill=\"none\" stroke=\"black\" d=\"M242,-88C259.22,-88 260.97,-73.23 276.98,-72.07\"/>\n<ellipse fill=\"black\" stroke=\"black\" cx=\"278\" cy=\"-72.04\" rx=\"1\" ry=\"1\"/>\n<text text-anchor=\"middle\" x=\"260.5\" y=\"-83\" font-family=\"Times,serif\" font-size=\"10.00\">4</text>\n</g>\n<!-- target_G6 -->\n<g id=\"node7\" class=\"node\">\n<title>target_G6</title>\n<text text-anchor=\"middle\" x=\"306\" y=\"-14.3\" font-family=\"Times,serif\" font-size=\"14.00\">target</text>\n</g>\n<!-- LinearDepthHalfGreaterThanEqual&#45;&gt;target_G6 -->\n<g id=\"edge6\" class=\"edge\">\n<title>LinearDepthHalfGreaterThanEqual:e-&gt;target_G6:w</title>\n<path fill=\"none\" stroke=\"black\" d=\"M242,-67C268.54,-67 252.64,-20.64 276.86,-18.11\"/>\n<ellipse fill=\"black\" stroke=\"black\" cx=\"278\" cy=\"-18.05\" rx=\"1\" ry=\"1\"/>\n<text text-anchor=\"middle\" x=\"260.5\" y=\"-47\" font-family=\"Times,serif\" font-size=\"10.00\">1</text>\n</g>\n</g>\n</svg>",
          "text/plain": "<IPython.core.display.SVG object>"
         },
         "metadata": {},
         "output_type": "display_data"
        }
       ],
       "tabbable": null,
       "tooltip": null
      }
     },
     "134d4f6cb45d448abcb4774fb25dacf0": {
      "model_module": "@jupyter-widgets/controls",
      "model_module_version": "2.0.0",
      "model_name": "HBoxModel",
      "state": {
       "_dom_classes": [],
       "_model_module": "@jupyter-widgets/controls",
       "_model_module_version": "2.0.0",
       "_model_name": "HBoxModel",
       "_view_count": null,
       "_view_module": "@jupyter-widgets/controls",
       "_view_module_version": "2.0.0",
       "_view_name": "HBoxView",
       "box_style": "",
       "children": [
        "IPY_MODEL_f73c88a1c07a49da835b540a9dfe6949"
       ],
       "layout": "IPY_MODEL_1d86aed074414c558c181a7eb1fd3827",
       "tabbable": null,
       "tooltip": null
      }
     },
     "163c1eff9ba2408d89632ab6b2e50cf0": {
      "model_module": "@jupyter-widgets/base",
      "model_module_version": "2.0.0",
      "model_name": "LayoutModel",
      "state": {
       "_model_module": "@jupyter-widgets/base",
       "_model_module_version": "2.0.0",
       "_model_name": "LayoutModel",
       "_view_count": null,
       "_view_module": "@jupyter-widgets/base",
       "_view_module_version": "2.0.0",
       "_view_name": "LayoutView",
       "align_content": null,
       "align_items": null,
       "align_self": null,
       "border_bottom": null,
       "border_left": null,
       "border_right": null,
       "border_top": null,
       "bottom": null,
       "display": null,
       "flex": null,
       "flex_flow": null,
       "grid_area": null,
       "grid_auto_columns": null,
       "grid_auto_flow": null,
       "grid_auto_rows": null,
       "grid_column": null,
       "grid_gap": null,
       "grid_row": null,
       "grid_template_areas": null,
       "grid_template_columns": null,
       "grid_template_rows": null,
       "height": null,
       "justify_content": null,
       "justify_items": null,
       "left": null,
       "margin": null,
       "max_height": null,
       "max_width": null,
       "min_height": null,
       "min_width": null,
       "object_fit": null,
       "object_position": null,
       "order": null,
       "overflow": null,
       "padding": null,
       "right": null,
       "top": null,
       "visibility": null,
       "width": null
      }
     },
     "1851b702dc6e445e8c30d99e5d504355": {
      "model_module": "@jupyter-widgets/controls",
      "model_module_version": "2.0.0",
      "model_name": "HBoxModel",
      "state": {
       "_dom_classes": [],
       "_model_module": "@jupyter-widgets/controls",
       "_model_module_version": "2.0.0",
       "_model_name": "HBoxModel",
       "_view_count": null,
       "_view_module": "@jupyter-widgets/controls",
       "_view_module_version": "2.0.0",
       "_view_name": "HBoxView",
       "box_style": "",
       "children": [
        "IPY_MODEL_a7bc0bc76d28424f8ba67dc62c2aa731",
        "IPY_MODEL_f5aebc6016b34809ab72b115155f1e08"
       ],
       "layout": "IPY_MODEL_729cd3e3ceb04fed8de49d34f24bd336",
       "tabbable": null,
       "tooltip": null
      }
     },
     "1c524c54171841efb0e0999c52ed35e9": {
      "model_module": "@jupyter-widgets/output",
      "model_module_version": "1.0.0",
      "model_name": "OutputModel",
      "state": {
       "_dom_classes": [],
       "_model_module": "@jupyter-widgets/output",
       "_model_module_version": "1.0.0",
       "_model_name": "OutputModel",
       "_view_count": null,
       "_view_module": "@jupyter-widgets/output",
       "_view_module_version": "1.0.0",
       "_view_name": "OutputView",
       "layout": "IPY_MODEL_9a6a56eb3c9e4c77957fe19381c373a5",
       "msg_id": "",
       "outputs": [
        {
         "data": {
          "text/markdown": "`equals`",
          "text/plain": "<IPython.core.display.Markdown object>"
         },
         "metadata": {},
         "output_type": "display_data"
        },
        {
         "data": {
          "image/svg+xml": "<svg xmlns=\"http://www.w3.org/2000/svg\" xmlns:xlink=\"http://www.w3.org/1999/xlink\" width=\"227pt\" height=\"152pt\" viewBox=\"0.00 0.00 227.00 152.00\">\n<g id=\"graph0\" class=\"graph\" transform=\"scale(1 1) rotate(0) translate(4 148)\">\n<title>my_graph</title>\n<polygon fill=\"white\" stroke=\"transparent\" points=\"-4,4 -4,-148 223,-148 223,4 -4,4\"/>\n<!-- x_G8 -->\n<g id=\"node1\" class=\"node\">\n<title>x_G8</title>\n<text text-anchor=\"middle\" x=\"27\" y=\"-122.3\" font-family=\"Times,serif\" font-size=\"14.00\">x</text>\n</g>\n<!-- Equals -->\n<g id=\"node4\" class=\"node\">\n<title>Equals</title>\n<polygon fill=\"none\" stroke=\"black\" points=\"91.5,-104 91.5,-121 128.5,-121 128.5,-104 91.5,-104\"/>\n<text text-anchor=\"start\" x=\"96\" y=\"-110\" font-family=\"Times,serif\" font-size=\"10.00\">Equals</text>\n<polygon fill=\"none\" stroke=\"black\" points=\"91.5,-83 91.5,-104 128.5,-104 128.5,-83 91.5,-83\"/>\n<text text-anchor=\"start\" x=\"106.5\" y=\"-89.8\" font-family=\"Times,serif\" font-size=\"14.00\">x</text>\n<polygon fill=\"none\" stroke=\"black\" points=\"91.5,-62 91.5,-83 128.5,-83 128.5,-62 91.5,-62\"/>\n<text text-anchor=\"start\" x=\"106.5\" y=\"-68.8\" font-family=\"Times,serif\" font-size=\"14.00\">y</text>\n<polygon fill=\"none\" stroke=\"black\" points=\"91.5,-41 91.5,-62 128.5,-62 128.5,-41 91.5,-41\"/>\n<text text-anchor=\"start\" x=\"94.5\" y=\"-47.8\" font-family=\"Times,serif\" font-size=\"14.00\">target</text>\n</g>\n<!-- x_G8&#45;&gt;Equals -->\n<g id=\"edge1\" class=\"edge\">\n<title>x_G8:e-&gt;Equals:w</title>\n<path fill=\"none\" stroke=\"black\" d=\"M54,-126C74.89,-126 69.72,-96.45 88.58,-94.14\"/>\n<ellipse fill=\"black\" stroke=\"black\" cx=\"90\" cy=\"-94.06\" rx=\"1\" ry=\"1\"/>\n<text text-anchor=\"middle\" x=\"72.5\" y=\"-113\" font-family=\"Times,serif\" font-size=\"10.00\">4</text>\n</g>\n<!-- y_G6 -->\n<g id=\"node2\" class=\"node\">\n<title>y_G6</title>\n<text text-anchor=\"middle\" x=\"27\" y=\"-68.3\" font-family=\"Times,serif\" font-size=\"14.00\">y</text>\n</g>\n<!-- y_G6&#45;&gt;Equals -->\n<g id=\"edge2\" class=\"edge\">\n<title>y_G6:e-&gt;Equals:w</title>\n<path fill=\"none\" stroke=\"black\" d=\"M54,-72C69.67,-72 74.14,-72 88.77,-72\"/>\n<ellipse fill=\"black\" stroke=\"black\" cx=\"90\" cy=\"-72\" rx=\"1\" ry=\"1\"/>\n<text text-anchor=\"middle\" x=\"72.5\" y=\"-75\" font-family=\"Times,serif\" font-size=\"10.00\">4</text>\n</g>\n<!-- target_G1 -->\n<g id=\"node3\" class=\"node\">\n<title>target_G1</title>\n<text text-anchor=\"middle\" x=\"27\" y=\"-14.3\" font-family=\"Times,serif\" font-size=\"14.00\">target</text>\n</g>\n<!-- target_G1&#45;&gt;Equals -->\n<g id=\"edge3\" class=\"edge\">\n<title>target_G1:e-&gt;Equals:w</title>\n<path fill=\"none\" stroke=\"black\" d=\"M54,-18C75.17,-18 69.47,-48.47 88.55,-50.85\"/>\n<ellipse fill=\"black\" stroke=\"black\" cx=\"90\" cy=\"-50.94\" rx=\"1\" ry=\"1\"/>\n<text text-anchor=\"middle\" x=\"72.5\" y=\"-39\" font-family=\"Times,serif\" font-size=\"10.00\">1</text>\n</g>\n<!-- x_G4 -->\n<g id=\"node5\" class=\"node\">\n<title>x_G4</title>\n<text text-anchor=\"middle\" x=\"192\" y=\"-122.3\" font-family=\"Times,serif\" font-size=\"14.00\">x</text>\n</g>\n<!-- Equals&#45;&gt;x_G4 -->\n<g id=\"edge4\" class=\"edge\">\n<title>Equals:e-&gt;x_G4:w</title>\n<path fill=\"none\" stroke=\"black\" d=\"M128,-94C148.89,-94 143.72,-123.55 162.58,-125.86\"/>\n<ellipse fill=\"black\" stroke=\"black\" cx=\"164\" cy=\"-125.94\" rx=\"1\" ry=\"1\"/>\n<text text-anchor=\"middle\" x=\"146.5\" y=\"-113\" font-family=\"Times,serif\" font-size=\"10.00\">4</text>\n</g>\n<!-- y_G7 -->\n<g id=\"node6\" class=\"node\">\n<title>y_G7</title>\n<text text-anchor=\"middle\" x=\"192\" y=\"-68.3\" font-family=\"Times,serif\" font-size=\"14.00\">y</text>\n</g>\n<!-- Equals&#45;&gt;y_G7 -->\n<g id=\"edge5\" class=\"edge\">\n<title>Equals:e-&gt;y_G7:w</title>\n<path fill=\"none\" stroke=\"black\" d=\"M128,-72C143.67,-72 148.14,-72 162.77,-72\"/>\n<ellipse fill=\"black\" stroke=\"black\" cx=\"164\" cy=\"-72\" rx=\"1\" ry=\"1\"/>\n<text text-anchor=\"middle\" x=\"146.5\" y=\"-75\" font-family=\"Times,serif\" font-size=\"10.00\">4</text>\n</g>\n<!-- target_G2 -->\n<g id=\"node7\" class=\"node\">\n<title>target_G2</title>\n<text text-anchor=\"middle\" x=\"192\" y=\"-14.3\" font-family=\"Times,serif\" font-size=\"14.00\">target</text>\n</g>\n<!-- Equals&#45;&gt;target_G2 -->\n<g id=\"edge6\" class=\"edge\">\n<title>Equals:e-&gt;target_G2:w</title>\n<path fill=\"none\" stroke=\"black\" d=\"M128,-51C149.17,-51 143.47,-20.53 162.55,-18.15\"/>\n<ellipse fill=\"black\" stroke=\"black\" cx=\"164\" cy=\"-18.06\" rx=\"1\" ry=\"1\"/>\n<text text-anchor=\"middle\" x=\"146.5\" y=\"-39\" font-family=\"Times,serif\" font-size=\"10.00\">1</text>\n</g>\n</g>\n</svg>",
          "text/plain": "<IPython.core.display.SVG object>"
         },
         "metadata": {},
         "output_type": "display_data"
        }
       ],
       "tabbable": null,
       "tooltip": null
      }
     },
     "1d86aed074414c558c181a7eb1fd3827": {
      "model_module": "@jupyter-widgets/base",
      "model_module_version": "2.0.0",
      "model_name": "LayoutModel",
      "state": {
       "_model_module": "@jupyter-widgets/base",
       "_model_module_version": "2.0.0",
       "_model_name": "LayoutModel",
       "_view_count": null,
       "_view_module": "@jupyter-widgets/base",
       "_view_module_version": "2.0.0",
       "_view_name": "LayoutView",
       "align_content": null,
       "align_items": null,
       "align_self": null,
       "border_bottom": null,
       "border_left": null,
       "border_right": null,
       "border_top": null,
       "bottom": null,
       "display": null,
       "flex": null,
       "flex_flow": null,
       "grid_area": null,
       "grid_auto_columns": null,
       "grid_auto_flow": null,
       "grid_auto_rows": null,
       "grid_column": null,
       "grid_gap": null,
       "grid_row": null,
       "grid_template_areas": null,
       "grid_template_columns": null,
       "grid_template_rows": null,
       "height": null,
       "justify_content": null,
       "justify_items": null,
       "left": null,
       "margin": null,
       "max_height": null,
       "max_width": null,
       "min_height": null,
       "min_width": null,
       "object_fit": null,
       "object_position": null,
       "order": null,
       "overflow": null,
       "padding": null,
       "right": null,
       "top": null,
       "visibility": null,
       "width": null
      }
     },
     "288c772969904f9c94d290271193b636": {
      "model_module": "@jupyter-widgets/base",
      "model_module_version": "2.0.0",
      "model_name": "LayoutModel",
      "state": {
       "_model_module": "@jupyter-widgets/base",
       "_model_module_version": "2.0.0",
       "_model_name": "LayoutModel",
       "_view_count": null,
       "_view_module": "@jupyter-widgets/base",
       "_view_module_version": "2.0.0",
       "_view_name": "LayoutView",
       "align_content": null,
       "align_items": null,
       "align_self": null,
       "border_bottom": null,
       "border_left": null,
       "border_right": null,
       "border_top": null,
       "bottom": null,
       "display": null,
       "flex": null,
       "flex_flow": null,
       "grid_area": null,
       "grid_auto_columns": null,
       "grid_auto_flow": null,
       "grid_auto_rows": null,
       "grid_column": null,
       "grid_gap": null,
       "grid_row": null,
       "grid_template_areas": null,
       "grid_template_columns": null,
       "grid_template_rows": null,
       "height": null,
       "justify_content": null,
       "justify_items": null,
       "left": null,
       "margin": null,
       "max_height": null,
       "max_width": null,
       "min_height": null,
       "min_width": null,
       "object_fit": null,
       "object_position": null,
       "order": null,
       "overflow": null,
       "padding": null,
       "right": null,
       "top": null,
       "visibility": null,
       "width": null
      }
     },
     "2933efd90be84b47a188664739756707": {
      "model_module": "@jupyter-widgets/base",
      "model_module_version": "2.0.0",
      "model_name": "LayoutModel",
      "state": {
       "_model_module": "@jupyter-widgets/base",
       "_model_module_version": "2.0.0",
       "_model_name": "LayoutModel",
       "_view_count": null,
       "_view_module": "@jupyter-widgets/base",
       "_view_module_version": "2.0.0",
       "_view_name": "LayoutView",
       "align_content": null,
       "align_items": null,
       "align_self": null,
       "border_bottom": null,
       "border_left": null,
       "border_right": null,
       "border_top": null,
       "bottom": null,
       "display": null,
       "flex": null,
       "flex_flow": null,
       "grid_area": null,
       "grid_auto_columns": null,
       "grid_auto_flow": null,
       "grid_auto_rows": null,
       "grid_column": null,
       "grid_gap": null,
       "grid_row": null,
       "grid_template_areas": null,
       "grid_template_columns": null,
       "grid_template_rows": null,
       "height": null,
       "justify_content": null,
       "justify_items": null,
       "left": null,
       "margin": null,
       "max_height": null,
       "max_width": null,
       "min_height": null,
       "min_width": null,
       "object_fit": null,
       "object_position": null,
       "order": null,
       "overflow": null,
       "padding": null,
       "right": null,
       "top": null,
       "visibility": null,
       "width": null
      }
     },
     "2a83440f54a34b328b124d699360efab": {
      "model_module": "@jupyter-widgets/base",
      "model_module_version": "2.0.0",
      "model_name": "LayoutModel",
      "state": {
       "_model_module": "@jupyter-widgets/base",
       "_model_module_version": "2.0.0",
       "_model_name": "LayoutModel",
       "_view_count": null,
       "_view_module": "@jupyter-widgets/base",
       "_view_module_version": "2.0.0",
       "_view_name": "LayoutView",
       "align_content": null,
       "align_items": null,
       "align_self": null,
       "border_bottom": null,
       "border_left": null,
       "border_right": null,
       "border_top": null,
       "bottom": null,
       "display": null,
       "flex": null,
       "flex_flow": null,
       "grid_area": null,
       "grid_auto_columns": null,
       "grid_auto_flow": null,
       "grid_auto_rows": null,
       "grid_column": null,
       "grid_gap": null,
       "grid_row": null,
       "grid_template_areas": null,
       "grid_template_columns": null,
       "grid_template_rows": null,
       "height": null,
       "justify_content": null,
       "justify_items": null,
       "left": null,
       "margin": null,
       "max_height": null,
       "max_width": null,
       "min_height": null,
       "min_width": null,
       "object_fit": null,
       "object_position": null,
       "order": null,
       "overflow": null,
       "padding": null,
       "right": null,
       "top": null,
       "visibility": null,
       "width": null
      }
     },
     "2c1c6f9ba6da4411b6baa5a54423dbc8": {
      "model_module": "@jupyter-widgets/base",
      "model_module_version": "2.0.0",
      "model_name": "LayoutModel",
      "state": {
       "_model_module": "@jupyter-widgets/base",
       "_model_module_version": "2.0.0",
       "_model_name": "LayoutModel",
       "_view_count": null,
       "_view_module": "@jupyter-widgets/base",
       "_view_module_version": "2.0.0",
       "_view_name": "LayoutView",
       "align_content": null,
       "align_items": null,
       "align_self": null,
       "border_bottom": null,
       "border_left": null,
       "border_right": null,
       "border_top": null,
       "bottom": null,
       "display": null,
       "flex": null,
       "flex_flow": null,
       "grid_area": null,
       "grid_auto_columns": null,
       "grid_auto_flow": null,
       "grid_auto_rows": null,
       "grid_column": null,
       "grid_gap": null,
       "grid_row": null,
       "grid_template_areas": null,
       "grid_template_columns": null,
       "grid_template_rows": null,
       "height": null,
       "justify_content": null,
       "justify_items": null,
       "left": null,
       "margin": null,
       "max_height": null,
       "max_width": null,
       "min_height": null,
       "min_width": null,
       "object_fit": null,
       "object_position": null,
       "order": null,
       "overflow": null,
       "padding": null,
       "right": null,
       "top": null,
       "visibility": null,
       "width": null
      }
     },
     "3574163a1ece4b6cb8a5b37c4247e337": {
      "model_module": "@jupyter-widgets/base",
      "model_module_version": "2.0.0",
      "model_name": "LayoutModel",
      "state": {
       "_model_module": "@jupyter-widgets/base",
       "_model_module_version": "2.0.0",
       "_model_name": "LayoutModel",
       "_view_count": null,
       "_view_module": "@jupyter-widgets/base",
       "_view_module_version": "2.0.0",
       "_view_name": "LayoutView",
       "align_content": null,
       "align_items": null,
       "align_self": null,
       "border_bottom": null,
       "border_left": null,
       "border_right": null,
       "border_top": null,
       "bottom": null,
       "display": null,
       "flex": null,
       "flex_flow": null,
       "grid_area": null,
       "grid_auto_columns": null,
       "grid_auto_flow": null,
       "grid_auto_rows": null,
       "grid_column": null,
       "grid_gap": null,
       "grid_row": null,
       "grid_template_areas": null,
       "grid_template_columns": null,
       "grid_template_rows": null,
       "height": null,
       "justify_content": null,
       "justify_items": null,
       "left": null,
       "margin": null,
       "max_height": null,
       "max_width": null,
       "min_height": null,
       "min_width": null,
       "object_fit": null,
       "object_position": null,
       "order": null,
       "overflow": null,
       "padding": null,
       "right": null,
       "top": null,
       "visibility": null,
       "width": null
      }
     },
     "3c477bd8846948eca326872624404d52": {
      "model_module": "@jupyter-widgets/base",
      "model_module_version": "2.0.0",
      "model_name": "LayoutModel",
      "state": {
       "_model_module": "@jupyter-widgets/base",
       "_model_module_version": "2.0.0",
       "_model_name": "LayoutModel",
       "_view_count": null,
       "_view_module": "@jupyter-widgets/base",
       "_view_module_version": "2.0.0",
       "_view_name": "LayoutView",
       "align_content": null,
       "align_items": null,
       "align_self": null,
       "border_bottom": null,
       "border_left": null,
       "border_right": null,
       "border_top": null,
       "bottom": null,
       "display": null,
       "flex": null,
       "flex_flow": null,
       "grid_area": null,
       "grid_auto_columns": null,
       "grid_auto_flow": null,
       "grid_auto_rows": null,
       "grid_column": null,
       "grid_gap": null,
       "grid_row": null,
       "grid_template_areas": null,
       "grid_template_columns": null,
       "grid_template_rows": null,
       "height": null,
       "justify_content": null,
       "justify_items": null,
       "left": null,
       "margin": null,
       "max_height": null,
       "max_width": null,
       "min_height": null,
       "min_width": null,
       "object_fit": null,
       "object_position": null,
       "order": null,
       "overflow": null,
       "padding": null,
       "right": null,
       "top": null,
       "visibility": null,
       "width": null
      }
     },
     "48b0c30c9dcb4da8a97799fe6150a3c9": {
      "model_module": "@jupyter-widgets/output",
      "model_module_version": "1.0.0",
      "model_name": "OutputModel",
      "state": {
       "_dom_classes": [],
       "_model_module": "@jupyter-widgets/output",
       "_model_module_version": "1.0.0",
       "_model_name": "OutputModel",
       "_view_count": null,
       "_view_module": "@jupyter-widgets/output",
       "_view_module_version": "1.0.0",
       "_view_name": "OutputView",
       "layout": "IPY_MODEL_b813b62e38334eb5874a8ae8e9cff080",
       "msg_id": "",
       "outputs": [
        {
         "data": {
          "text/markdown": "`sq_cmp`",
          "text/plain": "<IPython.core.display.Markdown object>"
         },
         "metadata": {},
         "output_type": "display_data"
        },
        {
         "data": {
          "image/svg+xml": "<svg xmlns=\"http://www.w3.org/2000/svg\" xmlns:xlink=\"http://www.w3.org/1999/xlink\" width=\"314pt\" height=\"206pt\" viewBox=\"0.00 0.00 314.00 206.00\">\n<g id=\"graph0\" class=\"graph\" transform=\"scale(1 1) rotate(0) translate(4 202)\">\n<title>my_graph</title>\n<polygon fill=\"white\" stroke=\"transparent\" points=\"-4,4 -4,-202 310,-202 310,4 -4,4\"/>\n<!-- a_G0 -->\n<g id=\"node1\" class=\"node\">\n<title>a_G0</title>\n<text text-anchor=\"middle\" x=\"27\" y=\"-143.3\" font-family=\"Times,serif\" font-size=\"14.00\">a</text>\n</g>\n<!-- SingleQubitCompare -->\n<g id=\"node3\" class=\"node\">\n<title>SingleQubitCompare</title>\n<polygon fill=\"none\" stroke=\"black\" points=\"91,-141 91,-158 185,-158 185,-141 91,-141\"/>\n<text text-anchor=\"start\" x=\"94\" y=\"-147\" font-family=\"Times,serif\" font-size=\"10.00\">SingleQubitCompare</text>\n<polygon fill=\"none\" stroke=\"black\" points=\"91,-120 91,-141 185,-141 185,-120 91,-120\"/>\n<text text-anchor=\"start\" x=\"134.5\" y=\"-126.8\" font-family=\"Times,serif\" font-size=\"14.00\">a</text>\n<polygon fill=\"none\" stroke=\"black\" points=\"91,-99 91,-120 185,-120 185,-99 91,-99\"/>\n<text text-anchor=\"start\" x=\"134.5\" y=\"-105.8\" font-family=\"Times,serif\" font-size=\"14.00\">b</text>\n<polygon fill=\"none\" stroke=\"black\" points=\"91,-78 91,-99 104,-99 104,-78 91,-78\"/>\n<polygon fill=\"none\" stroke=\"black\" points=\"104,-78 104,-99 185,-99 185,-78 104,-78\"/>\n<text text-anchor=\"start\" x=\"119\" y=\"-84.8\" font-family=\"Times,serif\" font-size=\"14.00\">less_than</text>\n<polygon fill=\"none\" stroke=\"black\" points=\"91,-57 91,-78 104,-78 104,-57 91,-57\"/>\n<polygon fill=\"none\" stroke=\"black\" points=\"104,-57 104,-78 185,-78 185,-57 104,-57\"/>\n<text text-anchor=\"start\" x=\"110.5\" y=\"-63.8\" font-family=\"Times,serif\" font-size=\"14.00\">greater_than</text>\n</g>\n<!-- a_G0&#45;&gt;SingleQubitCompare -->\n<g id=\"edge1\" class=\"edge\">\n<title>a_G0:e-&gt;SingleQubitCompare:w</title>\n<path fill=\"none\" stroke=\"black\" d=\"M54,-147C71.22,-147 72.97,-132.23 88.98,-131.07\"/>\n<ellipse fill=\"black\" stroke=\"black\" cx=\"90\" cy=\"-131.04\" rx=\"1\" ry=\"1\"/>\n<text text-anchor=\"middle\" x=\"72.5\" y=\"-142\" font-family=\"Times,serif\" font-size=\"10.00\">1</text>\n</g>\n<!-- b_G2 -->\n<g id=\"node2\" class=\"node\">\n<title>b_G2</title>\n<text text-anchor=\"middle\" x=\"27\" y=\"-89.3\" font-family=\"Times,serif\" font-size=\"14.00\">b</text>\n</g>\n<!-- b_G2&#45;&gt;SingleQubitCompare -->\n<g id=\"edge2\" class=\"edge\">\n<title>b_G2:e-&gt;SingleQubitCompare:w</title>\n<path fill=\"none\" stroke=\"black\" d=\"M54,-93C71.39,-93 72.81,-108.7 88.96,-109.92\"/>\n<ellipse fill=\"black\" stroke=\"black\" cx=\"90\" cy=\"-109.96\" rx=\"1\" ry=\"1\"/>\n<text text-anchor=\"middle\" x=\"72.5\" y=\"-104\" font-family=\"Times,serif\" font-size=\"10.00\">1</text>\n</g>\n<!-- a_G1 -->\n<g id=\"node4\" class=\"node\">\n<title>a_G1</title>\n<text text-anchor=\"middle\" x=\"264\" y=\"-176.3\" font-family=\"Times,serif\" font-size=\"14.00\">a</text>\n</g>\n<!-- SingleQubitCompare&#45;&gt;a_G1 -->\n<g id=\"edge3\" class=\"edge\">\n<title>SingleQubitCompare:e-&gt;a_G1:w</title>\n<path fill=\"none\" stroke=\"black\" d=\"M185,-131C215.7,-131 205.1,-177.73 233.86,-179.92\"/>\n<ellipse fill=\"black\" stroke=\"black\" cx=\"235\" cy=\"-179.96\" rx=\"1\" ry=\"1\"/>\n<text text-anchor=\"middle\" x=\"203.5\" y=\"-144\" font-family=\"Times,serif\" font-size=\"10.00\">1</text>\n</g>\n<!-- b_G5 -->\n<g id=\"node5\" class=\"node\">\n<title>b_G5</title>\n<text text-anchor=\"middle\" x=\"264\" y=\"-122.3\" font-family=\"Times,serif\" font-size=\"14.00\">b</text>\n</g>\n<!-- SingleQubitCompare&#45;&gt;b_G5 -->\n<g id=\"edge4\" class=\"edge\">\n<title>SingleQubitCompare:e-&gt;b_G5:w</title>\n<path fill=\"none\" stroke=\"black\" d=\"M185,-110C208.01,-110 212.01,-125.02 233.83,-125.95\"/>\n<ellipse fill=\"black\" stroke=\"black\" cx=\"235\" cy=\"-125.98\" rx=\"1\" ry=\"1\"/>\n<text text-anchor=\"middle\" x=\"203.5\" y=\"-117\" font-family=\"Times,serif\" font-size=\"10.00\">1</text>\n</g>\n<!-- less_than_G8 -->\n<g id=\"node6\" class=\"node\">\n<title>less_than_G8</title>\n<text text-anchor=\"middle\" x=\"264\" y=\"-68.3\" font-family=\"Times,serif\" font-size=\"14.00\">less_than</text>\n</g>\n<!-- SingleQubitCompare&#45;&gt;less_than_G8 -->\n<g id=\"edge5\" class=\"edge\">\n<title>SingleQubitCompare:e-&gt;less_than_G8:w</title>\n<path fill=\"none\" stroke=\"black\" d=\"M185,-88C205,-88 207.98,-73.23 226.64,-72.07\"/>\n<ellipse fill=\"black\" stroke=\"black\" cx=\"228\" cy=\"-72.03\" rx=\"1\" ry=\"1\"/>\n<text text-anchor=\"middle\" x=\"203.5\" y=\"-85\" font-family=\"Times,serif\" font-size=\"10.00\">1</text>\n</g>\n<!-- greater_than_G3 -->\n<g id=\"node7\" class=\"node\">\n<title>greater_than_G3</title>\n<text text-anchor=\"middle\" x=\"264\" y=\"-14.3\" font-family=\"Times,serif\" font-size=\"14.00\">greater_than</text>\n</g>\n<!-- SingleQubitCompare&#45;&gt;greater_than_G3 -->\n<g id=\"edge6\" class=\"edge\">\n<title>SingleQubitCompare:e-&gt;greater_than_G3:w</title>\n<path fill=\"none\" stroke=\"black\" d=\"M185,-67C211.54,-67 195.64,-20.64 219.86,-18.11\"/>\n<ellipse fill=\"black\" stroke=\"black\" cx=\"221\" cy=\"-18.05\" rx=\"1\" ry=\"1\"/>\n<text text-anchor=\"middle\" x=\"203.5\" y=\"-47\" font-family=\"Times,serif\" font-size=\"10.00\">1</text>\n</g>\n</g>\n</svg>",
          "text/plain": "<IPython.core.display.SVG object>"
         },
         "metadata": {},
         "output_type": "display_data"
        }
       ],
       "tabbable": null,
       "tooltip": null
      }
     },
     "4e7c75b9eed4400f8094b8cb723d8e40": {
      "model_module": "@jupyter-widgets/base",
      "model_module_version": "2.0.0",
      "model_name": "LayoutModel",
      "state": {
       "_model_module": "@jupyter-widgets/base",
       "_model_module_version": "2.0.0",
       "_model_name": "LayoutModel",
       "_view_count": null,
       "_view_module": "@jupyter-widgets/base",
       "_view_module_version": "2.0.0",
       "_view_name": "LayoutView",
       "align_content": null,
       "align_items": null,
       "align_self": null,
       "border_bottom": null,
       "border_left": null,
       "border_right": null,
       "border_top": null,
       "bottom": null,
       "display": null,
       "flex": null,
       "flex_flow": null,
       "grid_area": null,
       "grid_auto_columns": null,
       "grid_auto_flow": null,
       "grid_auto_rows": null,
       "grid_column": null,
       "grid_gap": null,
       "grid_row": null,
       "grid_template_areas": null,
       "grid_template_columns": null,
       "grid_template_rows": null,
       "height": null,
       "justify_content": null,
       "justify_items": null,
       "left": null,
       "margin": null,
       "max_height": null,
       "max_width": null,
       "min_height": null,
       "min_width": null,
       "object_fit": null,
       "object_position": null,
       "order": null,
       "overflow": null,
       "padding": null,
       "right": null,
       "top": null,
       "visibility": null,
       "width": null
      }
     },
     "5877106dedb14e81be0532444db87beb": {
      "model_module": "@jupyter-widgets/base",
      "model_module_version": "2.0.0",
      "model_name": "LayoutModel",
      "state": {
       "_model_module": "@jupyter-widgets/base",
       "_model_module_version": "2.0.0",
       "_model_name": "LayoutModel",
       "_view_count": null,
       "_view_module": "@jupyter-widgets/base",
       "_view_module_version": "2.0.0",
       "_view_name": "LayoutView",
       "align_content": null,
       "align_items": null,
       "align_self": null,
       "border_bottom": null,
       "border_left": null,
       "border_right": null,
       "border_top": null,
       "bottom": null,
       "display": null,
       "flex": null,
       "flex_flow": null,
       "grid_area": null,
       "grid_auto_columns": null,
       "grid_auto_flow": null,
       "grid_auto_rows": null,
       "grid_column": null,
       "grid_gap": null,
       "grid_row": null,
       "grid_template_areas": null,
       "grid_template_columns": null,
       "grid_template_rows": null,
       "height": null,
       "justify_content": null,
       "justify_items": null,
       "left": null,
       "margin": null,
       "max_height": null,
       "max_width": null,
       "min_height": null,
       "min_width": null,
       "object_fit": null,
       "object_position": null,
       "order": null,
       "overflow": null,
       "padding": null,
       "right": null,
       "top": null,
       "visibility": null,
       "width": null
      }
     },
     "642cd24652d4449c9566028615056b32": {
      "model_module": "@jupyter-widgets/output",
      "model_module_version": "1.0.0",
      "model_name": "OutputModel",
      "state": {
       "_dom_classes": [],
       "_model_module": "@jupyter-widgets/output",
       "_model_module_version": "1.0.0",
       "_model_name": "OutputModel",
       "_view_count": null,
       "_view_module": "@jupyter-widgets/output",
       "_view_module_version": "1.0.0",
       "_view_name": "OutputView",
       "layout": "IPY_MODEL_5877106dedb14e81be0532444db87beb",
       "msg_id": "",
       "outputs": [
        {
         "data": {
          "text/markdown": "`lineardepthhalflessthan_small`",
          "text/plain": "<IPython.core.display.Markdown object>"
         },
         "metadata": {},
         "output_type": "display_data"
        },
        {
         "data": {
          "image/svg+xml": "<svg xmlns=\"http://www.w3.org/2000/svg\" xmlns:xlink=\"http://www.w3.org/1999/xlink\" width=\"305pt\" height=\"206pt\" viewBox=\"0.00 0.00 305.00 206.00\">\n<g id=\"graph0\" class=\"graph\" transform=\"scale(1 1) rotate(0) translate(4 202)\">\n<title>my_graph</title>\n<polygon fill=\"white\" stroke=\"transparent\" points=\"-4,4 -4,-202 301,-202 301,4 -4,4\"/>\n<!-- a_G5 -->\n<g id=\"node1\" class=\"node\">\n<title>a_G5</title>\n<text text-anchor=\"middle\" x=\"27\" y=\"-143.3\" font-family=\"Times,serif\" font-size=\"14.00\">a</text>\n</g>\n<!-- LinearDepthHalfLessThan -->\n<g id=\"node3\" class=\"node\">\n<title>LinearDepthHalfLessThan</title>\n<polygon fill=\"none\" stroke=\"black\" points=\"91.5,-141 91.5,-158 206.5,-158 206.5,-141 91.5,-141\"/>\n<text text-anchor=\"start\" x=\"94.5\" y=\"-147\" font-family=\"Times,serif\" font-size=\"10.00\">LinearDepthHalfLessThan</text>\n<polygon fill=\"none\" stroke=\"black\" points=\"91.5,-120 91.5,-141 206.5,-141 206.5,-120 91.5,-120\"/>\n<text text-anchor=\"start\" x=\"145.5\" y=\"-126.8\" font-family=\"Times,serif\" font-size=\"14.00\">a</text>\n<polygon fill=\"none\" stroke=\"black\" points=\"91.5,-99 91.5,-120 206.5,-120 206.5,-99 91.5,-99\"/>\n<text text-anchor=\"start\" x=\"145.5\" y=\"-105.8\" font-family=\"Times,serif\" font-size=\"14.00\">b</text>\n<polygon fill=\"none\" stroke=\"black\" points=\"91.5,-78 91.5,-99 133.5,-99 133.5,-78 91.5,-78\"/>\n<polygon fill=\"none\" stroke=\"black\" points=\"133.5,-78 133.5,-99 206.5,-99 206.5,-78 133.5,-78\"/>\n<text text-anchor=\"start\" x=\"166.5\" y=\"-84.8\" font-family=\"Times,serif\" font-size=\"14.00\">c</text>\n<polygon fill=\"none\" stroke=\"black\" points=\"91.5,-57 91.5,-78 133.5,-78 133.5,-57 91.5,-57\"/>\n<polygon fill=\"none\" stroke=\"black\" points=\"133.5,-57 133.5,-78 206.5,-78 206.5,-57 133.5,-57\"/>\n<text text-anchor=\"start\" x=\"154.5\" y=\"-63.8\" font-family=\"Times,serif\" font-size=\"14.00\">target</text>\n</g>\n<!-- a_G5&#45;&gt;LinearDepthHalfLessThan -->\n<g id=\"edge1\" class=\"edge\">\n<title>a_G5:e-&gt;LinearDepthHalfLessThan:w</title>\n<path fill=\"none\" stroke=\"black\" d=\"M54,-147C71.22,-147 72.97,-132.23 88.98,-131.07\"/>\n<ellipse fill=\"black\" stroke=\"black\" cx=\"90\" cy=\"-131.04\" rx=\"1\" ry=\"1\"/>\n<text text-anchor=\"middle\" x=\"72.5\" y=\"-142\" font-family=\"Times,serif\" font-size=\"10.00\">3</text>\n</g>\n<!-- b_G2 -->\n<g id=\"node2\" class=\"node\">\n<title>b_G2</title>\n<text text-anchor=\"middle\" x=\"27\" y=\"-89.3\" font-family=\"Times,serif\" font-size=\"14.00\">b</text>\n</g>\n<!-- b_G2&#45;&gt;LinearDepthHalfLessThan -->\n<g id=\"edge2\" class=\"edge\">\n<title>b_G2:e-&gt;LinearDepthHalfLessThan:w</title>\n<path fill=\"none\" stroke=\"black\" d=\"M54,-93C71.39,-93 72.81,-108.7 88.96,-109.92\"/>\n<ellipse fill=\"black\" stroke=\"black\" cx=\"90\" cy=\"-109.96\" rx=\"1\" ry=\"1\"/>\n<text text-anchor=\"middle\" x=\"72.5\" y=\"-104\" font-family=\"Times,serif\" font-size=\"10.00\">3</text>\n</g>\n<!-- a_G9 -->\n<g id=\"node4\" class=\"node\">\n<title>a_G9</title>\n<text text-anchor=\"middle\" x=\"270\" y=\"-176.3\" font-family=\"Times,serif\" font-size=\"14.00\">a</text>\n</g>\n<!-- LinearDepthHalfLessThan&#45;&gt;a_G9 -->\n<g id=\"edge3\" class=\"edge\">\n<title>LinearDepthHalfLessThan:e-&gt;a_G9:w</title>\n<path fill=\"none\" stroke=\"black\" d=\"M206,-131C232.54,-131 216.64,-177.36 240.86,-179.89\"/>\n<ellipse fill=\"black\" stroke=\"black\" cx=\"242\" cy=\"-179.95\" rx=\"1\" ry=\"1\"/>\n<text text-anchor=\"middle\" x=\"224.5\" y=\"-159\" font-family=\"Times,serif\" font-size=\"10.00\">3</text>\n</g>\n<!-- b_G0 -->\n<g id=\"node5\" class=\"node\">\n<title>b_G0</title>\n<text text-anchor=\"middle\" x=\"270\" y=\"-122.3\" font-family=\"Times,serif\" font-size=\"14.00\">b</text>\n</g>\n<!-- LinearDepthHalfLessThan&#45;&gt;b_G0 -->\n<g id=\"edge4\" class=\"edge\">\n<title>LinearDepthHalfLessThan:e-&gt;b_G0:w</title>\n<path fill=\"none\" stroke=\"black\" d=\"M206,-110C223.22,-110 224.97,-124.77 240.98,-125.93\"/>\n<ellipse fill=\"black\" stroke=\"black\" cx=\"242\" cy=\"-125.96\" rx=\"1\" ry=\"1\"/>\n<text text-anchor=\"middle\" x=\"224.5\" y=\"-121\" font-family=\"Times,serif\" font-size=\"10.00\">3</text>\n</g>\n<!-- c_G6 -->\n<g id=\"node6\" class=\"node\">\n<title>c_G6</title>\n<text text-anchor=\"middle\" x=\"270\" y=\"-68.3\" font-family=\"Times,serif\" font-size=\"14.00\">c</text>\n</g>\n<!-- LinearDepthHalfLessThan&#45;&gt;c_G6 -->\n<g id=\"edge5\" class=\"edge\">\n<title>LinearDepthHalfLessThan:e-&gt;c_G6:w</title>\n<path fill=\"none\" stroke=\"black\" d=\"M206,-88C223.22,-88 224.97,-73.23 240.98,-72.07\"/>\n<ellipse fill=\"black\" stroke=\"black\" cx=\"242\" cy=\"-72.04\" rx=\"1\" ry=\"1\"/>\n<text text-anchor=\"middle\" x=\"224.5\" y=\"-83\" font-family=\"Times,serif\" font-size=\"10.00\">4</text>\n</g>\n<!-- target_G3 -->\n<g id=\"node7\" class=\"node\">\n<title>target_G3</title>\n<text text-anchor=\"middle\" x=\"270\" y=\"-14.3\" font-family=\"Times,serif\" font-size=\"14.00\">target</text>\n</g>\n<!-- LinearDepthHalfLessThan&#45;&gt;target_G3 -->\n<g id=\"edge6\" class=\"edge\">\n<title>LinearDepthHalfLessThan:e-&gt;target_G3:w</title>\n<path fill=\"none\" stroke=\"black\" d=\"M206,-67C232.54,-67 216.64,-20.64 240.86,-18.11\"/>\n<ellipse fill=\"black\" stroke=\"black\" cx=\"242\" cy=\"-18.05\" rx=\"1\" ry=\"1\"/>\n<text text-anchor=\"middle\" x=\"224.5\" y=\"-47\" font-family=\"Times,serif\" font-size=\"10.00\">1</text>\n</g>\n</g>\n</svg>",
          "text/plain": "<IPython.core.display.SVG object>"
         },
         "metadata": {},
         "output_type": "display_data"
        }
       ],
       "tabbable": null,
       "tooltip": null
      }
     },
     "64afe1e35f2c4ee681ad59f8cb714f20": {
      "model_module": "@jupyter-widgets/base",
      "model_module_version": "2.0.0",
      "model_name": "LayoutModel",
      "state": {
       "_model_module": "@jupyter-widgets/base",
       "_model_module_version": "2.0.0",
       "_model_name": "LayoutModel",
       "_view_count": null,
       "_view_module": "@jupyter-widgets/base",
       "_view_module_version": "2.0.0",
       "_view_name": "LayoutView",
       "align_content": null,
       "align_items": null,
       "align_self": null,
       "border_bottom": null,
       "border_left": null,
       "border_right": null,
       "border_top": null,
       "bottom": null,
       "display": null,
       "flex": null,
       "flex_flow": null,
       "grid_area": null,
       "grid_auto_columns": null,
       "grid_auto_flow": null,
       "grid_auto_rows": null,
       "grid_column": null,
       "grid_gap": null,
       "grid_row": null,
       "grid_template_areas": null,
       "grid_template_columns": null,
       "grid_template_rows": null,
       "height": null,
       "justify_content": null,
       "justify_items": null,
       "left": null,
       "margin": null,
       "max_height": null,
       "max_width": null,
       "min_height": null,
       "min_width": null,
       "object_fit": null,
       "object_position": null,
       "order": null,
       "overflow": null,
       "padding": null,
       "right": null,
       "top": null,
       "visibility": null,
       "width": null
      }
     },
     "69d651031c02459ebf55cd0d43303d46": {
      "model_module": "@jupyter-widgets/base",
      "model_module_version": "2.0.0",
      "model_name": "LayoutModel",
      "state": {
       "_model_module": "@jupyter-widgets/base",
       "_model_module_version": "2.0.0",
       "_model_name": "LayoutModel",
       "_view_count": null,
       "_view_module": "@jupyter-widgets/base",
       "_view_module_version": "2.0.0",
       "_view_name": "LayoutView",
       "align_content": null,
       "align_items": null,
       "align_self": null,
       "border_bottom": null,
       "border_left": null,
       "border_right": null,
       "border_top": null,
       "bottom": null,
       "display": null,
       "flex": null,
       "flex_flow": null,
       "grid_area": null,
       "grid_auto_columns": null,
       "grid_auto_flow": null,
       "grid_auto_rows": null,
       "grid_column": null,
       "grid_gap": null,
       "grid_row": null,
       "grid_template_areas": null,
       "grid_template_columns": null,
       "grid_template_rows": null,
       "height": null,
       "justify_content": null,
       "justify_items": null,
       "left": null,
       "margin": null,
       "max_height": null,
       "max_width": null,
       "min_height": null,
       "min_width": null,
       "object_fit": null,
       "object_position": null,
       "order": null,
       "overflow": null,
       "padding": null,
       "right": null,
       "top": null,
       "visibility": null,
       "width": null
      }
     },
     "6da669c4b3b14556a219448beedd87b8": {
      "model_module": "@jupyter-widgets/controls",
      "model_module_version": "2.0.0",
      "model_name": "HBoxModel",
      "state": {
       "_dom_classes": [],
       "_model_module": "@jupyter-widgets/controls",
       "_model_module_version": "2.0.0",
       "_model_name": "HBoxModel",
       "_view_count": null,
       "_view_module": "@jupyter-widgets/controls",
       "_view_module_version": "2.0.0",
       "_view_name": "HBoxView",
       "box_style": "",
       "children": [
        "IPY_MODEL_642cd24652d4449c9566028615056b32"
       ],
       "layout": "IPY_MODEL_815f5aa922d24d3990d2e733e966b9de",
       "tabbable": null,
       "tooltip": null
      }
     },
     "6ff1aedf53544a7eb817a493ef1c28a5": {
      "model_module": "@jupyter-widgets/controls",
      "model_module_version": "2.0.0",
      "model_name": "HBoxModel",
      "state": {
       "_dom_classes": [],
       "_model_module": "@jupyter-widgets/controls",
       "_model_module_version": "2.0.0",
       "_model_name": "HBoxModel",
       "_view_count": null,
       "_view_module": "@jupyter-widgets/controls",
       "_view_module_version": "2.0.0",
       "_view_name": "HBoxView",
       "box_style": "",
       "children": [
        "IPY_MODEL_a442fafba87b46d3aab52e26a350de31"
       ],
       "layout": "IPY_MODEL_288c772969904f9c94d290271193b636",
       "tabbable": null,
       "tooltip": null
      }
     },
     "729cd3e3ceb04fed8de49d34f24bd336": {
      "model_module": "@jupyter-widgets/base",
      "model_module_version": "2.0.0",
      "model_name": "LayoutModel",
      "state": {
       "_model_module": "@jupyter-widgets/base",
       "_model_module_version": "2.0.0",
       "_model_name": "LayoutModel",
       "_view_count": null,
       "_view_module": "@jupyter-widgets/base",
       "_view_module_version": "2.0.0",
       "_view_name": "LayoutView",
       "align_content": null,
       "align_items": null,
       "align_self": null,
       "border_bottom": null,
       "border_left": null,
       "border_right": null,
       "border_top": null,
       "bottom": null,
       "display": null,
       "flex": null,
       "flex_flow": null,
       "grid_area": null,
       "grid_auto_columns": null,
       "grid_auto_flow": null,
       "grid_auto_rows": null,
       "grid_column": null,
       "grid_gap": null,
       "grid_row": null,
       "grid_template_areas": null,
       "grid_template_columns": null,
       "grid_template_rows": null,
       "height": null,
       "justify_content": null,
       "justify_items": null,
       "left": null,
       "margin": null,
       "max_height": null,
       "max_width": null,
       "min_height": null,
       "min_width": null,
       "object_fit": null,
       "object_position": null,
       "order": null,
       "overflow": null,
       "padding": null,
       "right": null,
       "top": null,
       "visibility": null,
       "width": null
      }
     },
     "778b2ac2816547e9b60e22b19b36e4a4": {
      "model_module": "@jupyter-widgets/output",
      "model_module_version": "1.0.0",
      "model_name": "OutputModel",
      "state": {
       "_dom_classes": [],
       "_model_module": "@jupyter-widgets/output",
       "_model_module_version": "1.0.0",
       "_model_name": "OutputModel",
       "_view_count": null,
       "_view_module": "@jupyter-widgets/output",
       "_view_module_version": "1.0.0",
       "_view_name": "OutputView",
       "layout": "IPY_MODEL_927617cb49d44c19b1ca96ae3e799449",
       "msg_id": "",
       "outputs": [
        {
         "data": {
          "text/markdown": "`lt_k`",
          "text/plain": "<IPython.core.display.Markdown object>"
         },
         "metadata": {},
         "output_type": "display_data"
        },
        {
         "data": {
          "image/svg+xml": "<svg xmlns=\"http://www.w3.org/2000/svg\" xmlns:xlink=\"http://www.w3.org/1999/xlink\" width=\"272pt\" height=\"98pt\" viewBox=\"0.00 0.00 272.00 98.00\">\n<g id=\"graph0\" class=\"graph\" transform=\"scale(1 1) rotate(0) translate(4 94)\">\n<title>my_graph</title>\n<polygon fill=\"white\" stroke=\"transparent\" points=\"-4,4 -4,-94 268,-94 268,4 -4,4\"/>\n<!-- x_G5 -->\n<g id=\"node1\" class=\"node\">\n<title>x_G5</title>\n<text text-anchor=\"middle\" x=\"27\" y=\"-68.3\" font-family=\"Times,serif\" font-size=\"14.00\">x</text>\n</g>\n<!-- LessThanConstant -->\n<g id=\"node3\" class=\"node\">\n<title>LessThanConstant</title>\n<polygon fill=\"none\" stroke=\"black\" points=\"91,-66 91,-83 173,-83 173,-66 91,-66\"/>\n<text text-anchor=\"start\" x=\"94\" y=\"-72\" font-family=\"Times,serif\" font-size=\"10.00\">LessThanConstant</text>\n<polygon fill=\"none\" stroke=\"black\" points=\"91,-45 91,-66 173,-66 173,-45 91,-45\"/>\n<text text-anchor=\"start\" x=\"128.5\" y=\"-51.8\" font-family=\"Times,serif\" font-size=\"14.00\">x</text>\n<polygon fill=\"none\" stroke=\"black\" points=\"91,-24 91,-45 173,-45 173,-24 91,-24\"/>\n<text text-anchor=\"start\" x=\"116.5\" y=\"-30.8\" font-family=\"Times,serif\" font-size=\"14.00\">target</text>\n</g>\n<!-- x_G5&#45;&gt;LessThanConstant -->\n<g id=\"edge1\" class=\"edge\">\n<title>x_G5:e-&gt;LessThanConstant:w</title>\n<path fill=\"none\" stroke=\"black\" d=\"M54,-72C71.22,-72 72.97,-57.23 88.98,-56.07\"/>\n<ellipse fill=\"black\" stroke=\"black\" cx=\"90\" cy=\"-56.04\" rx=\"1\" ry=\"1\"/>\n<text text-anchor=\"middle\" x=\"72.5\" y=\"-67\" font-family=\"Times,serif\" font-size=\"10.00\">8</text>\n</g>\n<!-- target_G2 -->\n<g id=\"node2\" class=\"node\">\n<title>target_G2</title>\n<text text-anchor=\"middle\" x=\"27\" y=\"-14.3\" font-family=\"Times,serif\" font-size=\"14.00\">target</text>\n</g>\n<!-- target_G2&#45;&gt;LessThanConstant -->\n<g id=\"edge2\" class=\"edge\">\n<title>target_G2:e-&gt;LessThanConstant:w</title>\n<path fill=\"none\" stroke=\"black\" d=\"M54,-18C71.22,-18 72.97,-32.77 88.98,-33.93\"/>\n<ellipse fill=\"black\" stroke=\"black\" cx=\"90\" cy=\"-33.96\" rx=\"1\" ry=\"1\"/>\n<text text-anchor=\"middle\" x=\"72.5\" y=\"-29\" font-family=\"Times,serif\" font-size=\"10.00\">1</text>\n</g>\n<!-- x_G1 -->\n<g id=\"node4\" class=\"node\">\n<title>x_G1</title>\n<text text-anchor=\"middle\" x=\"237\" y=\"-68.3\" font-family=\"Times,serif\" font-size=\"14.00\">x</text>\n</g>\n<!-- LessThanConstant&#45;&gt;x_G1 -->\n<g id=\"edge3\" class=\"edge\">\n<title>LessThanConstant:e-&gt;x_G1:w</title>\n<path fill=\"none\" stroke=\"black\" d=\"M173,-56C190.22,-56 191.97,-70.77 207.98,-71.93\"/>\n<ellipse fill=\"black\" stroke=\"black\" cx=\"209\" cy=\"-71.96\" rx=\"1\" ry=\"1\"/>\n<text text-anchor=\"middle\" x=\"191.5\" y=\"-67\" font-family=\"Times,serif\" font-size=\"10.00\">8</text>\n</g>\n<!-- target_G3 -->\n<g id=\"node5\" class=\"node\">\n<title>target_G3</title>\n<text text-anchor=\"middle\" x=\"237\" y=\"-14.3\" font-family=\"Times,serif\" font-size=\"14.00\">target</text>\n</g>\n<!-- LessThanConstant&#45;&gt;target_G3 -->\n<g id=\"edge4\" class=\"edge\">\n<title>LessThanConstant:e-&gt;target_G3:w</title>\n<path fill=\"none\" stroke=\"black\" d=\"M173,-34C190.22,-34 191.97,-19.23 207.98,-18.07\"/>\n<ellipse fill=\"black\" stroke=\"black\" cx=\"209\" cy=\"-18.04\" rx=\"1\" ry=\"1\"/>\n<text text-anchor=\"middle\" x=\"191.5\" y=\"-29\" font-family=\"Times,serif\" font-size=\"10.00\">1</text>\n</g>\n</g>\n</svg>",
          "text/plain": "<IPython.core.display.SVG object>"
         },
         "metadata": {},
         "output_type": "display_data"
        }
       ],
       "tabbable": null,
       "tooltip": null
      }
     },
     "7807bd3ef99e4dccb0582aac0651a991": {
      "model_module": "@jupyter-widgets/base",
      "model_module_version": "2.0.0",
      "model_name": "LayoutModel",
      "state": {
       "_model_module": "@jupyter-widgets/base",
       "_model_module_version": "2.0.0",
       "_model_name": "LayoutModel",
       "_view_count": null,
       "_view_module": "@jupyter-widgets/base",
       "_view_module_version": "2.0.0",
       "_view_name": "LayoutView",
       "align_content": null,
       "align_items": null,
       "align_self": null,
       "border_bottom": null,
       "border_left": null,
       "border_right": null,
       "border_top": null,
       "bottom": null,
       "display": null,
       "flex": null,
       "flex_flow": null,
       "grid_area": null,
       "grid_auto_columns": null,
       "grid_auto_flow": null,
       "grid_auto_rows": null,
       "grid_column": null,
       "grid_gap": null,
       "grid_row": null,
       "grid_template_areas": null,
       "grid_template_columns": null,
       "grid_template_rows": null,
       "height": null,
       "justify_content": null,
       "justify_items": null,
       "left": null,
       "margin": null,
       "max_height": null,
       "max_width": null,
       "min_height": null,
       "min_width": null,
       "object_fit": null,
       "object_position": null,
       "order": null,
       "overflow": null,
       "padding": null,
       "right": null,
       "top": null,
       "visibility": null,
       "width": null
      }
     },
     "7c9958c337c04c099e88003212e80185": {
      "model_module": "@jupyter-widgets/controls",
      "model_module_version": "2.0.0",
      "model_name": "HBoxModel",
      "state": {
       "_dom_classes": [],
       "_model_module": "@jupyter-widgets/controls",
       "_model_module_version": "2.0.0",
       "_model_name": "HBoxModel",
       "_view_count": null,
       "_view_module": "@jupyter-widgets/controls",
       "_view_module_version": "2.0.0",
       "_view_name": "HBoxView",
       "box_style": "",
       "children": [
        "IPY_MODEL_1c524c54171841efb0e0999c52ed35e9"
       ],
       "layout": "IPY_MODEL_2c1c6f9ba6da4411b6baa5a54423dbc8",
       "tabbable": null,
       "tooltip": null
      }
     },
     "811c2da255ae4c00a5b164d8816626d5": {
      "model_module": "@jupyter-widgets/controls",
      "model_module_version": "2.0.0",
      "model_name": "HBoxModel",
      "state": {
       "_dom_classes": [],
       "_model_module": "@jupyter-widgets/controls",
       "_model_module_version": "2.0.0",
       "_model_name": "HBoxModel",
       "_view_count": null,
       "_view_module": "@jupyter-widgets/controls",
       "_view_module_version": "2.0.0",
       "_view_name": "HBoxView",
       "box_style": "",
       "children": [
        "IPY_MODEL_82a7b079e70340daa506898b7ecba4d8"
       ],
       "layout": "IPY_MODEL_163c1eff9ba2408d89632ab6b2e50cf0",
       "tabbable": null,
       "tooltip": null
      }
     },
     "815f5aa922d24d3990d2e733e966b9de": {
      "model_module": "@jupyter-widgets/base",
      "model_module_version": "2.0.0",
      "model_name": "LayoutModel",
      "state": {
       "_model_module": "@jupyter-widgets/base",
       "_model_module_version": "2.0.0",
       "_model_name": "LayoutModel",
       "_view_count": null,
       "_view_module": "@jupyter-widgets/base",
       "_view_module_version": "2.0.0",
       "_view_name": "LayoutView",
       "align_content": null,
       "align_items": null,
       "align_self": null,
       "border_bottom": null,
       "border_left": null,
       "border_right": null,
       "border_top": null,
       "bottom": null,
       "display": null,
       "flex": null,
       "flex_flow": null,
       "grid_area": null,
       "grid_auto_columns": null,
       "grid_auto_flow": null,
       "grid_auto_rows": null,
       "grid_column": null,
       "grid_gap": null,
       "grid_row": null,
       "grid_template_areas": null,
       "grid_template_columns": null,
       "grid_template_rows": null,
       "height": null,
       "justify_content": null,
       "justify_items": null,
       "left": null,
       "margin": null,
       "max_height": null,
       "max_width": null,
       "min_height": null,
       "min_width": null,
       "object_fit": null,
       "object_position": null,
       "order": null,
       "overflow": null,
       "padding": null,
       "right": null,
       "top": null,
       "visibility": null,
       "width": null
      }
     },
     "82a7b079e70340daa506898b7ecba4d8": {
      "model_module": "@jupyter-widgets/output",
      "model_module_version": "1.0.0",
      "model_name": "OutputModel",
      "state": {
       "_dom_classes": [],
       "_model_module": "@jupyter-widgets/output",
       "_model_module_version": "1.0.0",
       "_model_name": "OutputModel",
       "_view_count": null,
       "_view_module": "@jupyter-widgets/output",
       "_view_module_version": "1.0.0",
       "_view_name": "OutputView",
       "layout": "IPY_MODEL_69d651031c02459ebf55cd0d43303d46",
       "msg_id": "",
       "outputs": [
        {
         "data": {
          "text/markdown": "`clineardepthgreaterthan_example`",
          "text/plain": "<IPython.core.display.Markdown object>"
         },
         "metadata": {},
         "output_type": "display_data"
        },
        {
         "data": {
          "image/svg+xml": "<svg xmlns=\"http://www.w3.org/2000/svg\" xmlns:xlink=\"http://www.w3.org/1999/xlink\" width=\"306pt\" height=\"206pt\" viewBox=\"0.00 0.00 306.00 206.00\">\n<g id=\"graph0\" class=\"graph\" transform=\"scale(1 1) rotate(0) translate(4 202)\">\n<title>my_graph</title>\n<polygon fill=\"white\" stroke=\"transparent\" points=\"-4,4 -4,-202 302,-202 302,4 -4,4\"/>\n<!-- ctrl_G9 -->\n<g id=\"node1\" class=\"node\">\n<title>ctrl_G9</title>\n<text text-anchor=\"middle\" x=\"27\" y=\"-176.3\" font-family=\"Times,serif\" font-size=\"14.00\">ctrl</text>\n</g>\n<!-- CLinearDepthGreaterThan -->\n<g id=\"node5\" class=\"node\">\n<title>CLinearDepthGreaterThan</title>\n<polygon fill=\"none\" stroke=\"black\" points=\"91,-141 91,-158 207,-158 207,-141 91,-141\"/>\n<text text-anchor=\"start\" x=\"94\" y=\"-147\" font-family=\"Times,serif\" font-size=\"10.00\">CLinearDepthGreaterThan</text>\n<polygon fill=\"none\" stroke=\"black\" points=\"91,-120 91,-141 207,-141 207,-120 91,-120\"/>\n<text text-anchor=\"start\" x=\"139.5\" y=\"-126.8\" font-family=\"Times,serif\" font-size=\"14.00\">ctrl</text>\n<polygon fill=\"none\" stroke=\"black\" points=\"91,-99 91,-120 207,-120 207,-99 91,-99\"/>\n<text text-anchor=\"start\" x=\"145.5\" y=\"-105.8\" font-family=\"Times,serif\" font-size=\"14.00\">a</text>\n<polygon fill=\"none\" stroke=\"black\" points=\"91,-78 91,-99 207,-99 207,-78 91,-78\"/>\n<text text-anchor=\"start\" x=\"145.5\" y=\"-84.8\" font-family=\"Times,serif\" font-size=\"14.00\">b</text>\n<polygon fill=\"none\" stroke=\"black\" points=\"91,-57 91,-78 207,-78 207,-57 91,-57\"/>\n<text text-anchor=\"start\" x=\"133.5\" y=\"-63.8\" font-family=\"Times,serif\" font-size=\"14.00\">target</text>\n</g>\n<!-- ctrl_G9&#45;&gt;CLinearDepthGreaterThan -->\n<g id=\"edge1\" class=\"edge\">\n<title>ctrl_G9:e-&gt;CLinearDepthGreaterThan:w</title>\n<path fill=\"none\" stroke=\"black\" d=\"M54,-180C80.54,-180 64.64,-133.64 88.86,-131.11\"/>\n<ellipse fill=\"black\" stroke=\"black\" cx=\"90\" cy=\"-131.05\" rx=\"1\" ry=\"1\"/>\n<text text-anchor=\"middle\" x=\"72.5\" y=\"-159\" font-family=\"Times,serif\" font-size=\"10.00\">1</text>\n</g>\n<!-- a_G3 -->\n<g id=\"node2\" class=\"node\">\n<title>a_G3</title>\n<text text-anchor=\"middle\" x=\"27\" y=\"-122.3\" font-family=\"Times,serif\" font-size=\"14.00\">a</text>\n</g>\n<!-- a_G3&#45;&gt;CLinearDepthGreaterThan -->\n<g id=\"edge2\" class=\"edge\">\n<title>a_G3:e-&gt;CLinearDepthGreaterThan:w</title>\n<path fill=\"none\" stroke=\"black\" d=\"M54,-126C71.22,-126 72.97,-111.23 88.98,-110.07\"/>\n<ellipse fill=\"black\" stroke=\"black\" cx=\"90\" cy=\"-110.04\" rx=\"1\" ry=\"1\"/>\n<text text-anchor=\"middle\" x=\"72.5\" y=\"-121\" font-family=\"Times,serif\" font-size=\"10.00\">5</text>\n</g>\n<!-- b_G4 -->\n<g id=\"node3\" class=\"node\">\n<title>b_G4</title>\n<text text-anchor=\"middle\" x=\"27\" y=\"-68.3\" font-family=\"Times,serif\" font-size=\"14.00\">b</text>\n</g>\n<!-- b_G4&#45;&gt;CLinearDepthGreaterThan -->\n<g id=\"edge3\" class=\"edge\">\n<title>b_G4:e-&gt;CLinearDepthGreaterThan:w</title>\n<path fill=\"none\" stroke=\"black\" d=\"M54,-72C71.22,-72 72.97,-86.77 88.98,-87.93\"/>\n<ellipse fill=\"black\" stroke=\"black\" cx=\"90\" cy=\"-87.96\" rx=\"1\" ry=\"1\"/>\n<text text-anchor=\"middle\" x=\"72.5\" y=\"-83\" font-family=\"Times,serif\" font-size=\"10.00\">5</text>\n</g>\n<!-- target_G1 -->\n<g id=\"node4\" class=\"node\">\n<title>target_G1</title>\n<text text-anchor=\"middle\" x=\"27\" y=\"-14.3\" font-family=\"Times,serif\" font-size=\"14.00\">target</text>\n</g>\n<!-- target_G1&#45;&gt;CLinearDepthGreaterThan -->\n<g id=\"edge4\" class=\"edge\">\n<title>target_G1:e-&gt;CLinearDepthGreaterThan:w</title>\n<path fill=\"none\" stroke=\"black\" d=\"M54,-18C80.54,-18 64.64,-64.36 88.86,-66.89\"/>\n<ellipse fill=\"black\" stroke=\"black\" cx=\"90\" cy=\"-66.95\" rx=\"1\" ry=\"1\"/>\n<text text-anchor=\"middle\" x=\"72.5\" y=\"-47\" font-family=\"Times,serif\" font-size=\"10.00\">1</text>\n</g>\n<!-- ctrl_G0 -->\n<g id=\"node6\" class=\"node\">\n<title>ctrl_G0</title>\n<text text-anchor=\"middle\" x=\"271\" y=\"-176.3\" font-family=\"Times,serif\" font-size=\"14.00\">ctrl</text>\n</g>\n<!-- CLinearDepthGreaterThan&#45;&gt;ctrl_G0 -->\n<g id=\"edge5\" class=\"edge\">\n<title>CLinearDepthGreaterThan:e-&gt;ctrl_G0:w</title>\n<path fill=\"none\" stroke=\"black\" d=\"M207,-131C233.54,-131 217.64,-177.36 241.86,-179.89\"/>\n<ellipse fill=\"black\" stroke=\"black\" cx=\"243\" cy=\"-179.95\" rx=\"1\" ry=\"1\"/>\n<text text-anchor=\"middle\" x=\"225.5\" y=\"-159\" font-family=\"Times,serif\" font-size=\"10.00\">1</text>\n</g>\n<!-- a_G7 -->\n<g id=\"node7\" class=\"node\">\n<title>a_G7</title>\n<text text-anchor=\"middle\" x=\"271\" y=\"-122.3\" font-family=\"Times,serif\" font-size=\"14.00\">a</text>\n</g>\n<!-- CLinearDepthGreaterThan&#45;&gt;a_G7 -->\n<g id=\"edge6\" class=\"edge\">\n<title>CLinearDepthGreaterThan:e-&gt;a_G7:w</title>\n<path fill=\"none\" stroke=\"black\" d=\"M207,-110C224.22,-110 225.97,-124.77 241.98,-125.93\"/>\n<ellipse fill=\"black\" stroke=\"black\" cx=\"243\" cy=\"-125.96\" rx=\"1\" ry=\"1\"/>\n<text text-anchor=\"middle\" x=\"225.5\" y=\"-121\" font-family=\"Times,serif\" font-size=\"10.00\">5</text>\n</g>\n<!-- b_G8 -->\n<g id=\"node8\" class=\"node\">\n<title>b_G8</title>\n<text text-anchor=\"middle\" x=\"271\" y=\"-68.3\" font-family=\"Times,serif\" font-size=\"14.00\">b</text>\n</g>\n<!-- CLinearDepthGreaterThan&#45;&gt;b_G8 -->\n<g id=\"edge7\" class=\"edge\">\n<title>CLinearDepthGreaterThan:e-&gt;b_G8:w</title>\n<path fill=\"none\" stroke=\"black\" d=\"M207,-88C224.22,-88 225.97,-73.23 241.98,-72.07\"/>\n<ellipse fill=\"black\" stroke=\"black\" cx=\"243\" cy=\"-72.04\" rx=\"1\" ry=\"1\"/>\n<text text-anchor=\"middle\" x=\"225.5\" y=\"-83\" font-family=\"Times,serif\" font-size=\"10.00\">5</text>\n</g>\n<!-- target_G2 -->\n<g id=\"node9\" class=\"node\">\n<title>target_G2</title>\n<text text-anchor=\"middle\" x=\"271\" y=\"-14.3\" font-family=\"Times,serif\" font-size=\"14.00\">target</text>\n</g>\n<!-- CLinearDepthGreaterThan&#45;&gt;target_G2 -->\n<g id=\"edge8\" class=\"edge\">\n<title>CLinearDepthGreaterThan:e-&gt;target_G2:w</title>\n<path fill=\"none\" stroke=\"black\" d=\"M207,-67C233.54,-67 217.64,-20.64 241.86,-18.11\"/>\n<ellipse fill=\"black\" stroke=\"black\" cx=\"243\" cy=\"-18.05\" rx=\"1\" ry=\"1\"/>\n<text text-anchor=\"middle\" x=\"225.5\" y=\"-47\" font-family=\"Times,serif\" font-size=\"10.00\">1</text>\n</g>\n</g>\n</svg>",
          "text/plain": "<IPython.core.display.SVG object>"
         },
         "metadata": {},
         "output_type": "display_data"
        }
       ],
       "tabbable": null,
       "tooltip": null
      }
     },
     "8b3dc851ad454422a2a48177fb7898d7": {
      "model_module": "@jupyter-widgets/base",
      "model_module_version": "2.0.0",
      "model_name": "LayoutModel",
      "state": {
       "_model_module": "@jupyter-widgets/base",
       "_model_module_version": "2.0.0",
       "_model_name": "LayoutModel",
       "_view_count": null,
       "_view_module": "@jupyter-widgets/base",
       "_view_module_version": "2.0.0",
       "_view_name": "LayoutView",
       "align_content": null,
       "align_items": null,
       "align_self": null,
       "border_bottom": null,
       "border_left": null,
       "border_right": null,
       "border_top": null,
       "bottom": null,
       "display": null,
       "flex": null,
       "flex_flow": null,
       "grid_area": null,
       "grid_auto_columns": null,
       "grid_auto_flow": null,
       "grid_auto_rows": null,
       "grid_column": null,
       "grid_gap": null,
       "grid_row": null,
       "grid_template_areas": null,
       "grid_template_columns": null,
       "grid_template_rows": null,
       "height": null,
       "justify_content": null,
       "justify_items": null,
       "left": null,
       "margin": null,
       "max_height": null,
       "max_width": null,
       "min_height": null,
       "min_width": null,
       "object_fit": null,
       "object_position": null,
       "order": null,
       "overflow": null,
       "padding": null,
       "right": null,
       "top": null,
       "visibility": null,
       "width": null
      }
     },
     "8ec067927d6f40949df5c0745b0bf26c": {
      "model_module": "@jupyter-widgets/controls",
      "model_module_version": "2.0.0",
      "model_name": "HBoxModel",
      "state": {
       "_dom_classes": [],
       "_model_module": "@jupyter-widgets/controls",
       "_model_module_version": "2.0.0",
       "_model_name": "HBoxModel",
       "_view_count": null,
       "_view_module": "@jupyter-widgets/controls",
       "_view_module_version": "2.0.0",
       "_view_name": "HBoxView",
       "box_style": "",
       "children": [
        "IPY_MODEL_778b2ac2816547e9b60e22b19b36e4a4",
        "IPY_MODEL_94c8c57b7bb74d5c9b36c0bc5938bb19"
       ],
       "layout": "IPY_MODEL_2933efd90be84b47a188664739756707",
       "tabbable": null,
       "tooltip": null
      }
     },
     "927617cb49d44c19b1ca96ae3e799449": {
      "model_module": "@jupyter-widgets/base",
      "model_module_version": "2.0.0",
      "model_name": "LayoutModel",
      "state": {
       "_model_module": "@jupyter-widgets/base",
       "_model_module_version": "2.0.0",
       "_model_name": "LayoutModel",
       "_view_count": null,
       "_view_module": "@jupyter-widgets/base",
       "_view_module_version": "2.0.0",
       "_view_name": "LayoutView",
       "align_content": null,
       "align_items": null,
       "align_self": null,
       "border_bottom": null,
       "border_left": null,
       "border_right": null,
       "border_top": null,
       "bottom": null,
       "display": null,
       "flex": null,
       "flex_flow": null,
       "grid_area": null,
       "grid_auto_columns": null,
       "grid_auto_flow": null,
       "grid_auto_rows": null,
       "grid_column": null,
       "grid_gap": null,
       "grid_row": null,
       "grid_template_areas": null,
       "grid_template_columns": null,
       "grid_template_rows": null,
       "height": null,
       "justify_content": null,
       "justify_items": null,
       "left": null,
       "margin": null,
       "max_height": null,
       "max_width": null,
       "min_height": null,
       "min_width": null,
       "object_fit": null,
       "object_position": null,
       "order": null,
       "overflow": null,
       "padding": null,
       "right": null,
       "top": null,
       "visibility": null,
       "width": null
      }
     },
     "94c8c57b7bb74d5c9b36c0bc5938bb19": {
      "model_module": "@jupyter-widgets/output",
      "model_module_version": "1.0.0",
      "model_name": "OutputModel",
      "state": {
       "_dom_classes": [],
       "_model_module": "@jupyter-widgets/output",
       "_model_module_version": "1.0.0",
       "_model_name": "OutputModel",
       "_view_count": null,
       "_view_module": "@jupyter-widgets/output",
       "_view_module_version": "1.0.0",
       "_view_name": "OutputView",
       "layout": "IPY_MODEL_2a83440f54a34b328b124d699360efab",
       "msg_id": "",
       "outputs": [
        {
         "data": {
          "text/markdown": "`lt_k_symb`",
          "text/plain": "<IPython.core.display.Markdown object>"
         },
         "metadata": {},
         "output_type": "display_data"
        },
        {
         "data": {
          "image/svg+xml": "<svg xmlns=\"http://www.w3.org/2000/svg\" xmlns:xlink=\"http://www.w3.org/1999/xlink\" width=\"272pt\" height=\"98pt\" viewBox=\"0.00 0.00 272.00 98.00\">\n<g id=\"graph0\" class=\"graph\" transform=\"scale(1 1) rotate(0) translate(4 94)\">\n<title>my_graph</title>\n<polygon fill=\"white\" stroke=\"transparent\" points=\"-4,4 -4,-94 268,-94 268,4 -4,4\"/>\n<!-- x_G5 -->\n<g id=\"node1\" class=\"node\">\n<title>x_G5</title>\n<text text-anchor=\"middle\" x=\"27\" y=\"-68.3\" font-family=\"Times,serif\" font-size=\"14.00\">x</text>\n</g>\n<!-- LessThanConstant -->\n<g id=\"node3\" class=\"node\">\n<title>LessThanConstant</title>\n<polygon fill=\"none\" stroke=\"black\" points=\"91,-66 91,-83 173,-83 173,-66 91,-66\"/>\n<text text-anchor=\"start\" x=\"94\" y=\"-72\" font-family=\"Times,serif\" font-size=\"10.00\">LessThanConstant</text>\n<polygon fill=\"none\" stroke=\"black\" points=\"91,-45 91,-66 173,-66 173,-45 91,-45\"/>\n<text text-anchor=\"start\" x=\"128.5\" y=\"-51.8\" font-family=\"Times,serif\" font-size=\"14.00\">x</text>\n<polygon fill=\"none\" stroke=\"black\" points=\"91,-24 91,-45 173,-45 173,-24 91,-24\"/>\n<text text-anchor=\"start\" x=\"116.5\" y=\"-30.8\" font-family=\"Times,serif\" font-size=\"14.00\">target</text>\n</g>\n<!-- x_G5&#45;&gt;LessThanConstant -->\n<g id=\"edge1\" class=\"edge\">\n<title>x_G5:e-&gt;LessThanConstant:w</title>\n<path fill=\"none\" stroke=\"black\" d=\"M54,-72C71.22,-72 72.97,-57.23 88.98,-56.07\"/>\n<ellipse fill=\"black\" stroke=\"black\" cx=\"90\" cy=\"-56.04\" rx=\"1\" ry=\"1\"/>\n<text text-anchor=\"middle\" x=\"72.5\" y=\"-67\" font-family=\"Times,serif\" font-size=\"10.00\">n</text>\n</g>\n<!-- target_G1 -->\n<g id=\"node2\" class=\"node\">\n<title>target_G1</title>\n<text text-anchor=\"middle\" x=\"27\" y=\"-14.3\" font-family=\"Times,serif\" font-size=\"14.00\">target</text>\n</g>\n<!-- target_G1&#45;&gt;LessThanConstant -->\n<g id=\"edge2\" class=\"edge\">\n<title>target_G1:e-&gt;LessThanConstant:w</title>\n<path fill=\"none\" stroke=\"black\" d=\"M54,-18C71.22,-18 72.97,-32.77 88.98,-33.93\"/>\n<ellipse fill=\"black\" stroke=\"black\" cx=\"90\" cy=\"-33.96\" rx=\"1\" ry=\"1\"/>\n<text text-anchor=\"middle\" x=\"72.5\" y=\"-29\" font-family=\"Times,serif\" font-size=\"10.00\">1</text>\n</g>\n<!-- x_G0 -->\n<g id=\"node4\" class=\"node\">\n<title>x_G0</title>\n<text text-anchor=\"middle\" x=\"237\" y=\"-68.3\" font-family=\"Times,serif\" font-size=\"14.00\">x</text>\n</g>\n<!-- LessThanConstant&#45;&gt;x_G0 -->\n<g id=\"edge3\" class=\"edge\">\n<title>LessThanConstant:e-&gt;x_G0:w</title>\n<path fill=\"none\" stroke=\"black\" d=\"M173,-56C190.22,-56 191.97,-70.77 207.98,-71.93\"/>\n<ellipse fill=\"black\" stroke=\"black\" cx=\"209\" cy=\"-71.96\" rx=\"1\" ry=\"1\"/>\n<text text-anchor=\"middle\" x=\"191.5\" y=\"-67\" font-family=\"Times,serif\" font-size=\"10.00\">n</text>\n</g>\n<!-- target_G2 -->\n<g id=\"node5\" class=\"node\">\n<title>target_G2</title>\n<text text-anchor=\"middle\" x=\"237\" y=\"-14.3\" font-family=\"Times,serif\" font-size=\"14.00\">target</text>\n</g>\n<!-- LessThanConstant&#45;&gt;target_G2 -->\n<g id=\"edge4\" class=\"edge\">\n<title>LessThanConstant:e-&gt;target_G2:w</title>\n<path fill=\"none\" stroke=\"black\" d=\"M173,-34C190.22,-34 191.97,-19.23 207.98,-18.07\"/>\n<ellipse fill=\"black\" stroke=\"black\" cx=\"209\" cy=\"-18.04\" rx=\"1\" ry=\"1\"/>\n<text text-anchor=\"middle\" x=\"191.5\" y=\"-29\" font-family=\"Times,serif\" font-size=\"10.00\">1</text>\n</g>\n</g>\n</svg>",
          "text/plain": "<IPython.core.display.SVG object>"
         },
         "metadata": {},
         "output_type": "display_data"
        }
       ],
       "tabbable": null,
       "tooltip": null
      }
     },
     "9a6a56eb3c9e4c77957fe19381c373a5": {
      "model_module": "@jupyter-widgets/base",
      "model_module_version": "2.0.0",
      "model_name": "LayoutModel",
      "state": {
       "_model_module": "@jupyter-widgets/base",
       "_model_module_version": "2.0.0",
       "_model_name": "LayoutModel",
       "_view_count": null,
       "_view_module": "@jupyter-widgets/base",
       "_view_module_version": "2.0.0",
       "_view_name": "LayoutView",
       "align_content": null,
       "align_items": null,
       "align_self": null,
       "border_bottom": null,
       "border_left": null,
       "border_right": null,
       "border_top": null,
       "bottom": null,
       "display": null,
       "flex": null,
       "flex_flow": null,
       "grid_area": null,
       "grid_auto_columns": null,
       "grid_auto_flow": null,
       "grid_auto_rows": null,
       "grid_column": null,
       "grid_gap": null,
       "grid_row": null,
       "grid_template_areas": null,
       "grid_template_columns": null,
       "grid_template_rows": null,
       "height": null,
       "justify_content": null,
       "justify_items": null,
       "left": null,
       "margin": null,
       "max_height": null,
       "max_width": null,
       "min_height": null,
       "min_width": null,
       "object_fit": null,
       "object_position": null,
       "order": null,
       "overflow": null,
       "padding": null,
       "right": null,
       "top": null,
       "visibility": null,
       "width": null
      }
     },
     "9b358607ce144bfcb0377cf150f8dc87": {
      "model_module": "@jupyter-widgets/controls",
      "model_module_version": "2.0.0",
      "model_name": "HBoxModel",
      "state": {
       "_dom_classes": [],
       "_model_module": "@jupyter-widgets/controls",
       "_model_module_version": "2.0.0",
       "_model_name": "HBoxModel",
       "_view_count": null,
       "_view_module": "@jupyter-widgets/controls",
       "_view_module_version": "2.0.0",
       "_view_name": "HBoxView",
       "box_style": "",
       "children": [
        "IPY_MODEL_0215899635a5406399a99ab7ca77e5da"
       ],
       "layout": "IPY_MODEL_aa9b29d6dc184376820b526688963265",
       "tabbable": null,
       "tooltip": null
      }
     },
     "9dc3bfe508ad4746ba08cde38f8a1c42": {
      "model_module": "@jupyter-widgets/base",
      "model_module_version": "2.0.0",
      "model_name": "LayoutModel",
      "state": {
       "_model_module": "@jupyter-widgets/base",
       "_model_module_version": "2.0.0",
       "_model_name": "LayoutModel",
       "_view_count": null,
       "_view_module": "@jupyter-widgets/base",
       "_view_module_version": "2.0.0",
       "_view_name": "LayoutView",
       "align_content": null,
       "align_items": null,
       "align_self": null,
       "border_bottom": null,
       "border_left": null,
       "border_right": null,
       "border_top": null,
       "bottom": null,
       "display": null,
       "flex": null,
       "flex_flow": null,
       "grid_area": null,
       "grid_auto_columns": null,
       "grid_auto_flow": null,
       "grid_auto_rows": null,
       "grid_column": null,
       "grid_gap": null,
       "grid_row": null,
       "grid_template_areas": null,
       "grid_template_columns": null,
       "grid_template_rows": null,
       "height": null,
       "justify_content": null,
       "justify_items": null,
       "left": null,
       "margin": null,
       "max_height": null,
       "max_width": null,
       "min_height": null,
       "min_width": null,
       "object_fit": null,
       "object_position": null,
       "order": null,
       "overflow": null,
       "padding": null,
       "right": null,
       "top": null,
       "visibility": null,
       "width": null
      }
     },
     "9e338cd3c98d43aeb9e34174ebd3abda": {
      "model_module": "@jupyter-widgets/controls",
      "model_module_version": "2.0.0",
      "model_name": "HBoxModel",
      "state": {
       "_dom_classes": [],
       "_model_module": "@jupyter-widgets/controls",
       "_model_module_version": "2.0.0",
       "_model_name": "HBoxModel",
       "_view_count": null,
       "_view_module": "@jupyter-widgets/controls",
       "_view_module_version": "2.0.0",
       "_view_name": "HBoxView",
       "box_style": "",
       "children": [
        "IPY_MODEL_a7240ad3dcee4c32b8b81035246f7181"
       ],
       "layout": "IPY_MODEL_a23ab8ad0bac4aff863e4306c235d63b",
       "tabbable": null,
       "tooltip": null
      }
     },
     "a23ab8ad0bac4aff863e4306c235d63b": {
      "model_module": "@jupyter-widgets/base",
      "model_module_version": "2.0.0",
      "model_name": "LayoutModel",
      "state": {
       "_model_module": "@jupyter-widgets/base",
       "_model_module_version": "2.0.0",
       "_model_name": "LayoutModel",
       "_view_count": null,
       "_view_module": "@jupyter-widgets/base",
       "_view_module_version": "2.0.0",
       "_view_name": "LayoutView",
       "align_content": null,
       "align_items": null,
       "align_self": null,
       "border_bottom": null,
       "border_left": null,
       "border_right": null,
       "border_top": null,
       "bottom": null,
       "display": null,
       "flex": null,
       "flex_flow": null,
       "grid_area": null,
       "grid_auto_columns": null,
       "grid_auto_flow": null,
       "grid_auto_rows": null,
       "grid_column": null,
       "grid_gap": null,
       "grid_row": null,
       "grid_template_areas": null,
       "grid_template_columns": null,
       "grid_template_rows": null,
       "height": null,
       "justify_content": null,
       "justify_items": null,
       "left": null,
       "margin": null,
       "max_height": null,
       "max_width": null,
       "min_height": null,
       "min_width": null,
       "object_fit": null,
       "object_position": null,
       "order": null,
       "overflow": null,
       "padding": null,
       "right": null,
       "top": null,
       "visibility": null,
       "width": null
      }
     },
     "a442fafba87b46d3aab52e26a350de31": {
      "model_module": "@jupyter-widgets/output",
      "model_module_version": "1.0.0",
      "model_name": "OutputModel",
      "state": {
       "_dom_classes": [],
       "_model_module": "@jupyter-widgets/output",
       "_model_module_version": "1.0.0",
       "_model_name": "OutputModel",
       "_view_count": null,
       "_view_module": "@jupyter-widgets/output",
       "_view_module_version": "1.0.0",
       "_view_name": "OutputView",
       "layout": "IPY_MODEL_7807bd3ef99e4dccb0582aac0651a991",
       "msg_id": "",
       "outputs": [
        {
         "data": {
          "text/markdown": "`bi_qubits_mixer`",
          "text/plain": "<IPython.core.display.Markdown object>"
         },
         "metadata": {},
         "output_type": "display_data"
        },
        {
         "data": {
          "image/svg+xml": "<svg xmlns=\"http://www.w3.org/2000/svg\" xmlns:xlink=\"http://www.w3.org/1999/xlink\" width=\"259pt\" height=\"152pt\" viewBox=\"0.00 0.00 259.00 152.00\">\n<g id=\"graph0\" class=\"graph\" transform=\"scale(1 1) rotate(0) translate(4 148)\">\n<title>my_graph</title>\n<polygon fill=\"white\" stroke=\"transparent\" points=\"-4,4 -4,-148 255,-148 255,4 -4,4\"/>\n<!-- x_G6 -->\n<g id=\"node1\" class=\"node\">\n<title>x_G6</title>\n<text text-anchor=\"middle\" x=\"27\" y=\"-106.3\" font-family=\"Times,serif\" font-size=\"14.00\">x</text>\n</g>\n<!-- BiQubitsMixer -->\n<g id=\"node3\" class=\"node\">\n<title>BiQubitsMixer</title>\n<polygon fill=\"none\" stroke=\"black\" points=\"91.5,-104 91.5,-121 160.5,-121 160.5,-104 91.5,-104\"/>\n<text text-anchor=\"start\" x=\"94.5\" y=\"-110\" font-family=\"Times,serif\" font-size=\"10.00\">BiQubitsMixer</text>\n<polygon fill=\"none\" stroke=\"black\" points=\"91.5,-83 91.5,-104 160.5,-104 160.5,-83 91.5,-83\"/>\n<text text-anchor=\"start\" x=\"122.5\" y=\"-89.8\" font-family=\"Times,serif\" font-size=\"14.00\">x</text>\n<polygon fill=\"none\" stroke=\"black\" points=\"91.5,-62 91.5,-83 160.5,-83 160.5,-62 91.5,-62\"/>\n<text text-anchor=\"start\" x=\"122.5\" y=\"-68.8\" font-family=\"Times,serif\" font-size=\"14.00\">y</text>\n<polygon fill=\"none\" stroke=\"black\" points=\"91.5,-41 91.5,-62 107.5,-62 107.5,-41 91.5,-41\"/>\n<polygon fill=\"none\" stroke=\"black\" points=\"107.5,-41 107.5,-62 160.5,-62 160.5,-41 107.5,-41\"/>\n<text text-anchor=\"start\" x=\"115.5\" y=\"-47.8\" font-family=\"Times,serif\" font-size=\"14.00\">ancilla</text>\n</g>\n<!-- x_G6&#45;&gt;BiQubitsMixer -->\n<g id=\"edge1\" class=\"edge\">\n<title>x_G6:e-&gt;BiQubitsMixer:w</title>\n<path fill=\"none\" stroke=\"black\" d=\"M54,-110C71.22,-110 72.97,-95.23 88.98,-94.07\"/>\n<ellipse fill=\"black\" stroke=\"black\" cx=\"90\" cy=\"-94.04\" rx=\"1\" ry=\"1\"/>\n<text text-anchor=\"middle\" x=\"72.5\" y=\"-105\" font-family=\"Times,serif\" font-size=\"10.00\">2</text>\n</g>\n<!-- y_G0 -->\n<g id=\"node2\" class=\"node\">\n<title>y_G0</title>\n<text text-anchor=\"middle\" x=\"27\" y=\"-52.3\" font-family=\"Times,serif\" font-size=\"14.00\">y</text>\n</g>\n<!-- y_G0&#45;&gt;BiQubitsMixer -->\n<g id=\"edge2\" class=\"edge\">\n<title>y_G0:e-&gt;BiQubitsMixer:w</title>\n<path fill=\"none\" stroke=\"black\" d=\"M54,-56C71.22,-56 72.97,-70.77 88.98,-71.93\"/>\n<ellipse fill=\"black\" stroke=\"black\" cx=\"90\" cy=\"-71.96\" rx=\"1\" ry=\"1\"/>\n<text text-anchor=\"middle\" x=\"72.5\" y=\"-68\" font-family=\"Times,serif\" font-size=\"10.00\">2</text>\n</g>\n<!-- x_G3 -->\n<g id=\"node4\" class=\"node\">\n<title>x_G3</title>\n<text text-anchor=\"middle\" x=\"224\" y=\"-122.3\" font-family=\"Times,serif\" font-size=\"14.00\">x</text>\n</g>\n<!-- BiQubitsMixer&#45;&gt;x_G3 -->\n<g id=\"edge3\" class=\"edge\">\n<title>BiQubitsMixer:e-&gt;x_G3:w</title>\n<path fill=\"none\" stroke=\"black\" d=\"M160,-94C180.89,-94 175.72,-123.55 194.58,-125.86\"/>\n<ellipse fill=\"black\" stroke=\"black\" cx=\"196\" cy=\"-125.94\" rx=\"1\" ry=\"1\"/>\n<text text-anchor=\"middle\" x=\"178.5\" y=\"-113\" font-family=\"Times,serif\" font-size=\"10.00\">2</text>\n</g>\n<!-- y_G1 -->\n<g id=\"node5\" class=\"node\">\n<title>y_G1</title>\n<text text-anchor=\"middle\" x=\"224\" y=\"-68.3\" font-family=\"Times,serif\" font-size=\"14.00\">y</text>\n</g>\n<!-- BiQubitsMixer&#45;&gt;y_G1 -->\n<g id=\"edge4\" class=\"edge\">\n<title>BiQubitsMixer:e-&gt;y_G1:w</title>\n<path fill=\"none\" stroke=\"black\" d=\"M160,-72C175.67,-72 180.14,-72 194.77,-72\"/>\n<ellipse fill=\"black\" stroke=\"black\" cx=\"196\" cy=\"-72\" rx=\"1\" ry=\"1\"/>\n<text text-anchor=\"middle\" x=\"178.5\" y=\"-75\" font-family=\"Times,serif\" font-size=\"10.00\">2</text>\n</g>\n<!-- ancilla_G2 -->\n<g id=\"node6\" class=\"node\">\n<title>ancilla_G2</title>\n<text text-anchor=\"middle\" x=\"224\" y=\"-14.3\" font-family=\"Times,serif\" font-size=\"14.00\">ancilla</text>\n</g>\n<!-- BiQubitsMixer&#45;&gt;ancilla_G2 -->\n<g id=\"edge5\" class=\"edge\">\n<title>BiQubitsMixer:e-&gt;ancilla_G2:w</title>\n<path fill=\"none\" stroke=\"black\" d=\"M160,-51C181.17,-51 175.47,-20.53 194.55,-18.15\"/>\n<ellipse fill=\"black\" stroke=\"black\" cx=\"196\" cy=\"-18.06\" rx=\"1\" ry=\"1\"/>\n<text text-anchor=\"middle\" x=\"178.5\" y=\"-39\" font-family=\"Times,serif\" font-size=\"10.00\">3</text>\n</g>\n</g>\n</svg>",
          "text/plain": "<IPython.core.display.SVG object>"
         },
         "metadata": {},
         "output_type": "display_data"
        }
       ],
       "tabbable": null,
       "tooltip": null
      }
     },
     "a7240ad3dcee4c32b8b81035246f7181": {
      "model_module": "@jupyter-widgets/output",
      "model_module_version": "1.0.0",
      "model_name": "OutputModel",
      "state": {
       "_dom_classes": [],
       "_model_module": "@jupyter-widgets/output",
       "_model_module_version": "1.0.0",
       "_model_name": "OutputModel",
       "_view_count": null,
       "_view_module": "@jupyter-widgets/output",
       "_view_module_version": "1.0.0",
       "_view_name": "OutputView",
       "layout": "IPY_MODEL_f7d9bdc9f96046c6924439f59e956613",
       "msg_id": "",
       "outputs": [
        {
         "data": {
          "text/markdown": "`eq_k`",
          "text/plain": "<IPython.core.display.Markdown object>"
         },
         "metadata": {},
         "output_type": "display_data"
        },
        {
         "data": {
          "image/svg+xml": "<svg xmlns=\"http://www.w3.org/2000/svg\" xmlns:xlink=\"http://www.w3.org/1999/xlink\" width=\"269pt\" height=\"98pt\" viewBox=\"0.00 0.00 269.00 98.00\">\n<g id=\"graph0\" class=\"graph\" transform=\"scale(1 1) rotate(0) translate(4 94)\">\n<title>my_graph</title>\n<polygon fill=\"white\" stroke=\"transparent\" points=\"-4,4 -4,-94 265,-94 265,4 -4,4\"/>\n<!-- x_G5 -->\n<g id=\"node1\" class=\"node\">\n<title>x_G5</title>\n<text text-anchor=\"middle\" x=\"27\" y=\"-68.3\" font-family=\"Times,serif\" font-size=\"14.00\">x</text>\n</g>\n<!-- EqualsAConstant -->\n<g id=\"node3\" class=\"node\">\n<title>EqualsAConstant</title>\n<polygon fill=\"none\" stroke=\"black\" points=\"91.5,-66 91.5,-83 170.5,-83 170.5,-66 91.5,-66\"/>\n<text text-anchor=\"start\" x=\"94.5\" y=\"-72\" font-family=\"Times,serif\" font-size=\"10.00\">EqualsAConstant</text>\n<polygon fill=\"none\" stroke=\"black\" points=\"91.5,-45 91.5,-66 170.5,-66 170.5,-45 91.5,-45\"/>\n<text text-anchor=\"start\" x=\"127.5\" y=\"-51.8\" font-family=\"Times,serif\" font-size=\"14.00\">x</text>\n<polygon fill=\"none\" stroke=\"black\" points=\"91.5,-24 91.5,-45 170.5,-45 170.5,-24 91.5,-24\"/>\n<text text-anchor=\"start\" x=\"115.5\" y=\"-30.8\" font-family=\"Times,serif\" font-size=\"14.00\">target</text>\n</g>\n<!-- x_G5&#45;&gt;EqualsAConstant -->\n<g id=\"edge1\" class=\"edge\">\n<title>x_G5:e-&gt;EqualsAConstant:w</title>\n<path fill=\"none\" stroke=\"black\" d=\"M54,-72C71.22,-72 72.97,-57.23 88.98,-56.07\"/>\n<ellipse fill=\"black\" stroke=\"black\" cx=\"90\" cy=\"-56.04\" rx=\"1\" ry=\"1\"/>\n<text text-anchor=\"middle\" x=\"72.5\" y=\"-67\" font-family=\"Times,serif\" font-size=\"10.00\">4</text>\n</g>\n<!-- target_G0 -->\n<g id=\"node2\" class=\"node\">\n<title>target_G0</title>\n<text text-anchor=\"middle\" x=\"27\" y=\"-14.3\" font-family=\"Times,serif\" font-size=\"14.00\">target</text>\n</g>\n<!-- target_G0&#45;&gt;EqualsAConstant -->\n<g id=\"edge2\" class=\"edge\">\n<title>target_G0:e-&gt;EqualsAConstant:w</title>\n<path fill=\"none\" stroke=\"black\" d=\"M54,-18C71.22,-18 72.97,-32.77 88.98,-33.93\"/>\n<ellipse fill=\"black\" stroke=\"black\" cx=\"90\" cy=\"-33.96\" rx=\"1\" ry=\"1\"/>\n<text text-anchor=\"middle\" x=\"72.5\" y=\"-29\" font-family=\"Times,serif\" font-size=\"10.00\">1</text>\n</g>\n<!-- x_G4 -->\n<g id=\"node4\" class=\"node\">\n<title>x_G4</title>\n<text text-anchor=\"middle\" x=\"234\" y=\"-68.3\" font-family=\"Times,serif\" font-size=\"14.00\">x</text>\n</g>\n<!-- EqualsAConstant&#45;&gt;x_G4 -->\n<g id=\"edge3\" class=\"edge\">\n<title>EqualsAConstant:e-&gt;x_G4:w</title>\n<path fill=\"none\" stroke=\"black\" d=\"M170,-56C187.22,-56 188.97,-70.77 204.98,-71.93\"/>\n<ellipse fill=\"black\" stroke=\"black\" cx=\"206\" cy=\"-71.96\" rx=\"1\" ry=\"1\"/>\n<text text-anchor=\"middle\" x=\"188.5\" y=\"-67\" font-family=\"Times,serif\" font-size=\"10.00\">4</text>\n</g>\n<!-- target_G1 -->\n<g id=\"node5\" class=\"node\">\n<title>target_G1</title>\n<text text-anchor=\"middle\" x=\"234\" y=\"-14.3\" font-family=\"Times,serif\" font-size=\"14.00\">target</text>\n</g>\n<!-- EqualsAConstant&#45;&gt;target_G1 -->\n<g id=\"edge4\" class=\"edge\">\n<title>EqualsAConstant:e-&gt;target_G1:w</title>\n<path fill=\"none\" stroke=\"black\" d=\"M170,-34C187.22,-34 188.97,-19.23 204.98,-18.07\"/>\n<ellipse fill=\"black\" stroke=\"black\" cx=\"206\" cy=\"-18.04\" rx=\"1\" ry=\"1\"/>\n<text text-anchor=\"middle\" x=\"188.5\" y=\"-29\" font-family=\"Times,serif\" font-size=\"10.00\">1</text>\n</g>\n</g>\n</svg>",
          "text/plain": "<IPython.core.display.SVG object>"
         },
         "metadata": {},
         "output_type": "display_data"
        }
       ],
       "tabbable": null,
       "tooltip": null
      }
     },
     "a7bc0bc76d28424f8ba67dc62c2aa731": {
      "model_module": "@jupyter-widgets/output",
      "model_module_version": "1.0.0",
      "model_name": "OutputModel",
      "state": {
       "_dom_classes": [],
       "_model_module": "@jupyter-widgets/output",
       "_model_module_version": "1.0.0",
       "_model_name": "OutputModel",
       "_view_count": null,
       "_view_module": "@jupyter-widgets/output",
       "_view_module_version": "1.0.0",
       "_view_name": "OutputView",
       "layout": "IPY_MODEL_079acf007fea4a51b7690f416eeef991",
       "msg_id": "",
       "outputs": [
        {
         "data": {
          "text/markdown": "`leq`",
          "text/plain": "<IPython.core.display.Markdown object>"
         },
         "metadata": {},
         "output_type": "display_data"
        },
        {
         "data": {
          "image/svg+xml": "<svg xmlns=\"http://www.w3.org/2000/svg\" xmlns:xlink=\"http://www.w3.org/1999/xlink\" width=\"260pt\" height=\"152pt\" viewBox=\"0.00 0.00 260.00 152.00\">\n<g id=\"graph0\" class=\"graph\" transform=\"scale(1 1) rotate(0) translate(4 148)\">\n<title>my_graph</title>\n<polygon fill=\"white\" stroke=\"transparent\" points=\"-4,4 -4,-148 256,-148 256,4 -4,4\"/>\n<!-- x_G7 -->\n<g id=\"node1\" class=\"node\">\n<title>x_G7</title>\n<text text-anchor=\"middle\" x=\"27\" y=\"-122.3\" font-family=\"Times,serif\" font-size=\"14.00\">x</text>\n</g>\n<!-- LessThanEqual -->\n<g id=\"node4\" class=\"node\">\n<title>LessThanEqual</title>\n<polygon fill=\"none\" stroke=\"black\" points=\"91,-104 91,-121 161,-121 161,-104 91,-104\"/>\n<text text-anchor=\"start\" x=\"94\" y=\"-110\" font-family=\"Times,serif\" font-size=\"10.00\">LessThanEqual</text>\n<polygon fill=\"none\" stroke=\"black\" points=\"91,-83 91,-104 161,-104 161,-83 91,-83\"/>\n<text text-anchor=\"start\" x=\"122.5\" y=\"-89.8\" font-family=\"Times,serif\" font-size=\"14.00\">x</text>\n<polygon fill=\"none\" stroke=\"black\" points=\"91,-62 91,-83 161,-83 161,-62 91,-62\"/>\n<text text-anchor=\"start\" x=\"122.5\" y=\"-68.8\" font-family=\"Times,serif\" font-size=\"14.00\">y</text>\n<polygon fill=\"none\" stroke=\"black\" points=\"91,-41 91,-62 161,-62 161,-41 91,-41\"/>\n<text text-anchor=\"start\" x=\"110.5\" y=\"-47.8\" font-family=\"Times,serif\" font-size=\"14.00\">target</text>\n</g>\n<!-- x_G7&#45;&gt;LessThanEqual -->\n<g id=\"edge1\" class=\"edge\">\n<title>x_G7:e-&gt;LessThanEqual:w</title>\n<path fill=\"none\" stroke=\"black\" d=\"M54,-126C74.89,-126 69.72,-96.45 88.58,-94.14\"/>\n<ellipse fill=\"black\" stroke=\"black\" cx=\"90\" cy=\"-94.06\" rx=\"1\" ry=\"1\"/>\n<text text-anchor=\"middle\" x=\"72.5\" y=\"-113\" font-family=\"Times,serif\" font-size=\"10.00\">4</text>\n</g>\n<!-- y_G2 -->\n<g id=\"node2\" class=\"node\">\n<title>y_G2</title>\n<text text-anchor=\"middle\" x=\"27\" y=\"-68.3\" font-family=\"Times,serif\" font-size=\"14.00\">y</text>\n</g>\n<!-- y_G2&#45;&gt;LessThanEqual -->\n<g id=\"edge2\" class=\"edge\">\n<title>y_G2:e-&gt;LessThanEqual:w</title>\n<path fill=\"none\" stroke=\"black\" d=\"M54,-72C69.67,-72 74.14,-72 88.77,-72\"/>\n<ellipse fill=\"black\" stroke=\"black\" cx=\"90\" cy=\"-72\" rx=\"1\" ry=\"1\"/>\n<text text-anchor=\"middle\" x=\"72.5\" y=\"-75\" font-family=\"Times,serif\" font-size=\"10.00\">8</text>\n</g>\n<!-- target_G1 -->\n<g id=\"node3\" class=\"node\">\n<title>target_G1</title>\n<text text-anchor=\"middle\" x=\"27\" y=\"-14.3\" font-family=\"Times,serif\" font-size=\"14.00\">target</text>\n</g>\n<!-- target_G1&#45;&gt;LessThanEqual -->\n<g id=\"edge3\" class=\"edge\">\n<title>target_G1:e-&gt;LessThanEqual:w</title>\n<path fill=\"none\" stroke=\"black\" d=\"M54,-18C75.17,-18 69.47,-48.47 88.55,-50.85\"/>\n<ellipse fill=\"black\" stroke=\"black\" cx=\"90\" cy=\"-50.94\" rx=\"1\" ry=\"1\"/>\n<text text-anchor=\"middle\" x=\"72.5\" y=\"-39\" font-family=\"Times,serif\" font-size=\"10.00\">1</text>\n</g>\n<!-- x_G5 -->\n<g id=\"node5\" class=\"node\">\n<title>x_G5</title>\n<text text-anchor=\"middle\" x=\"225\" y=\"-122.3\" font-family=\"Times,serif\" font-size=\"14.00\">x</text>\n</g>\n<!-- LessThanEqual&#45;&gt;x_G5 -->\n<g id=\"edge4\" class=\"edge\">\n<title>LessThanEqual:e-&gt;x_G5:w</title>\n<path fill=\"none\" stroke=\"black\" d=\"M161,-94C181.89,-94 176.72,-123.55 195.58,-125.86\"/>\n<ellipse fill=\"black\" stroke=\"black\" cx=\"197\" cy=\"-125.94\" rx=\"1\" ry=\"1\"/>\n<text text-anchor=\"middle\" x=\"179.5\" y=\"-113\" font-family=\"Times,serif\" font-size=\"10.00\">4</text>\n</g>\n<!-- y_G6 -->\n<g id=\"node6\" class=\"node\">\n<title>y_G6</title>\n<text text-anchor=\"middle\" x=\"225\" y=\"-68.3\" font-family=\"Times,serif\" font-size=\"14.00\">y</text>\n</g>\n<!-- LessThanEqual&#45;&gt;y_G6 -->\n<g id=\"edge5\" class=\"edge\">\n<title>LessThanEqual:e-&gt;y_G6:w</title>\n<path fill=\"none\" stroke=\"black\" d=\"M161,-72C176.67,-72 181.14,-72 195.77,-72\"/>\n<ellipse fill=\"black\" stroke=\"black\" cx=\"197\" cy=\"-72\" rx=\"1\" ry=\"1\"/>\n<text text-anchor=\"middle\" x=\"179.5\" y=\"-75\" font-family=\"Times,serif\" font-size=\"10.00\">8</text>\n</g>\n<!-- target_G3 -->\n<g id=\"node7\" class=\"node\">\n<title>target_G3</title>\n<text text-anchor=\"middle\" x=\"225\" y=\"-14.3\" font-family=\"Times,serif\" font-size=\"14.00\">target</text>\n</g>\n<!-- LessThanEqual&#45;&gt;target_G3 -->\n<g id=\"edge6\" class=\"edge\">\n<title>LessThanEqual:e-&gt;target_G3:w</title>\n<path fill=\"none\" stroke=\"black\" d=\"M161,-51C182.17,-51 176.47,-20.53 195.55,-18.15\"/>\n<ellipse fill=\"black\" stroke=\"black\" cx=\"197\" cy=\"-18.06\" rx=\"1\" ry=\"1\"/>\n<text text-anchor=\"middle\" x=\"179.5\" y=\"-39\" font-family=\"Times,serif\" font-size=\"10.00\">1</text>\n</g>\n</g>\n</svg>",
          "text/plain": "<IPython.core.display.SVG object>"
         },
         "metadata": {},
         "output_type": "display_data"
        }
       ],
       "tabbable": null,
       "tooltip": null
      }
     },
     "a8509f16e2184d219d24e72082554b8e": {
      "model_module": "@jupyter-widgets/base",
      "model_module_version": "2.0.0",
      "model_name": "LayoutModel",
      "state": {
       "_model_module": "@jupyter-widgets/base",
       "_model_module_version": "2.0.0",
       "_model_name": "LayoutModel",
       "_view_count": null,
       "_view_module": "@jupyter-widgets/base",
       "_view_module_version": "2.0.0",
       "_view_name": "LayoutView",
       "align_content": null,
       "align_items": null,
       "align_self": null,
       "border_bottom": null,
       "border_left": null,
       "border_right": null,
       "border_top": null,
       "bottom": null,
       "display": null,
       "flex": null,
       "flex_flow": null,
       "grid_area": null,
       "grid_auto_columns": null,
       "grid_auto_flow": null,
       "grid_auto_rows": null,
       "grid_column": null,
       "grid_gap": null,
       "grid_row": null,
       "grid_template_areas": null,
       "grid_template_columns": null,
       "grid_template_rows": null,
       "height": null,
       "justify_content": null,
       "justify_items": null,
       "left": null,
       "margin": null,
       "max_height": null,
       "max_width": null,
       "min_height": null,
       "min_width": null,
       "object_fit": null,
       "object_position": null,
       "order": null,
       "overflow": null,
       "padding": null,
       "right": null,
       "top": null,
       "visibility": null,
       "width": null
      }
     },
     "aa9b29d6dc184376820b526688963265": {
      "model_module": "@jupyter-widgets/base",
      "model_module_version": "2.0.0",
      "model_name": "LayoutModel",
      "state": {
       "_model_module": "@jupyter-widgets/base",
       "_model_module_version": "2.0.0",
       "_model_name": "LayoutModel",
       "_view_count": null,
       "_view_module": "@jupyter-widgets/base",
       "_view_module_version": "2.0.0",
       "_view_name": "LayoutView",
       "align_content": null,
       "align_items": null,
       "align_self": null,
       "border_bottom": null,
       "border_left": null,
       "border_right": null,
       "border_top": null,
       "bottom": null,
       "display": null,
       "flex": null,
       "flex_flow": null,
       "grid_area": null,
       "grid_auto_columns": null,
       "grid_auto_flow": null,
       "grid_auto_rows": null,
       "grid_column": null,
       "grid_gap": null,
       "grid_row": null,
       "grid_template_areas": null,
       "grid_template_columns": null,
       "grid_template_rows": null,
       "height": null,
       "justify_content": null,
       "justify_items": null,
       "left": null,
       "margin": null,
       "max_height": null,
       "max_width": null,
       "min_height": null,
       "min_width": null,
       "object_fit": null,
       "object_position": null,
       "order": null,
       "overflow": null,
       "padding": null,
       "right": null,
       "top": null,
       "visibility": null,
       "width": null
      }
     },
     "b813b62e38334eb5874a8ae8e9cff080": {
      "model_module": "@jupyter-widgets/base",
      "model_module_version": "2.0.0",
      "model_name": "LayoutModel",
      "state": {
       "_model_module": "@jupyter-widgets/base",
       "_model_module_version": "2.0.0",
       "_model_name": "LayoutModel",
       "_view_count": null,
       "_view_module": "@jupyter-widgets/base",
       "_view_module_version": "2.0.0",
       "_view_name": "LayoutView",
       "align_content": null,
       "align_items": null,
       "align_self": null,
       "border_bottom": null,
       "border_left": null,
       "border_right": null,
       "border_top": null,
       "bottom": null,
       "display": null,
       "flex": null,
       "flex_flow": null,
       "grid_area": null,
       "grid_auto_columns": null,
       "grid_auto_flow": null,
       "grid_auto_rows": null,
       "grid_column": null,
       "grid_gap": null,
       "grid_row": null,
       "grid_template_areas": null,
       "grid_template_columns": null,
       "grid_template_rows": null,
       "height": null,
       "justify_content": null,
       "justify_items": null,
       "left": null,
       "margin": null,
       "max_height": null,
       "max_width": null,
       "min_height": null,
       "min_width": null,
       "object_fit": null,
       "object_position": null,
       "order": null,
       "overflow": null,
       "padding": null,
       "right": null,
       "top": null,
       "visibility": null,
       "width": null
      }
     },
     "c3ef66434df54ad3b31e098da6baac44": {
      "model_module": "@jupyter-widgets/output",
      "model_module_version": "1.0.0",
      "model_name": "OutputModel",
      "state": {
       "_dom_classes": [],
       "_model_module": "@jupyter-widgets/output",
       "_model_module_version": "1.0.0",
       "_model_name": "OutputModel",
       "_view_count": null,
       "_view_module": "@jupyter-widgets/output",
       "_view_module_version": "1.0.0",
       "_view_name": "OutputView",
       "layout": "IPY_MODEL_3574163a1ece4b6cb8a5b37c4247e337",
       "msg_id": "",
       "outputs": [
        {
         "data": {
          "text/markdown": "`lineardepthhalfgreaterthan_small`",
          "text/plain": "<IPython.core.display.Markdown object>"
         },
         "metadata": {},
         "output_type": "display_data"
        },
        {
         "data": {
          "image/svg+xml": "<svg xmlns=\"http://www.w3.org/2000/svg\" xmlns:xlink=\"http://www.w3.org/1999/xlink\" width=\"317pt\" height=\"206pt\" viewBox=\"0.00 0.00 317.00 206.00\">\n<g id=\"graph0\" class=\"graph\" transform=\"scale(1 1) rotate(0) translate(4 202)\">\n<title>my_graph</title>\n<polygon fill=\"white\" stroke=\"transparent\" points=\"-4,4 -4,-202 313,-202 313,4 -4,4\"/>\n<!-- a_G7 -->\n<g id=\"node1\" class=\"node\">\n<title>a_G7</title>\n<text text-anchor=\"middle\" x=\"27\" y=\"-143.3\" font-family=\"Times,serif\" font-size=\"14.00\">a</text>\n</g>\n<!-- LinearDepthHalfGreaterThan -->\n<g id=\"node3\" class=\"node\">\n<title>LinearDepthHalfGreaterThan</title>\n<polygon fill=\"none\" stroke=\"black\" points=\"91.5,-141 91.5,-158 218.5,-158 218.5,-141 91.5,-141\"/>\n<text text-anchor=\"start\" x=\"94.5\" y=\"-147\" font-family=\"Times,serif\" font-size=\"10.00\">LinearDepthHalfGreaterThan</text>\n<polygon fill=\"none\" stroke=\"black\" points=\"91.5,-120 91.5,-141 218.5,-141 218.5,-120 91.5,-120\"/>\n<text text-anchor=\"start\" x=\"151.5\" y=\"-126.8\" font-family=\"Times,serif\" font-size=\"14.00\">a</text>\n<polygon fill=\"none\" stroke=\"black\" points=\"91.5,-99 91.5,-120 218.5,-120 218.5,-99 91.5,-99\"/>\n<text text-anchor=\"start\" x=\"151.5\" y=\"-105.8\" font-family=\"Times,serif\" font-size=\"14.00\">b</text>\n<polygon fill=\"none\" stroke=\"black\" points=\"91.5,-78 91.5,-99 139.5,-99 139.5,-78 91.5,-78\"/>\n<polygon fill=\"none\" stroke=\"black\" points=\"139.5,-78 139.5,-99 218.5,-99 218.5,-78 139.5,-78\"/>\n<text text-anchor=\"start\" x=\"175.5\" y=\"-84.8\" font-family=\"Times,serif\" font-size=\"14.00\">c</text>\n<polygon fill=\"none\" stroke=\"black\" points=\"91.5,-57 91.5,-78 139.5,-78 139.5,-57 91.5,-57\"/>\n<polygon fill=\"none\" stroke=\"black\" points=\"139.5,-57 139.5,-78 218.5,-78 218.5,-57 139.5,-57\"/>\n<text text-anchor=\"start\" x=\"163.5\" y=\"-63.8\" font-family=\"Times,serif\" font-size=\"14.00\">target</text>\n</g>\n<!-- a_G7&#45;&gt;LinearDepthHalfGreaterThan -->\n<g id=\"edge1\" class=\"edge\">\n<title>a_G7:e-&gt;LinearDepthHalfGreaterThan:w</title>\n<path fill=\"none\" stroke=\"black\" d=\"M54,-147C71.22,-147 72.97,-132.23 88.98,-131.07\"/>\n<ellipse fill=\"black\" stroke=\"black\" cx=\"90\" cy=\"-131.04\" rx=\"1\" ry=\"1\"/>\n<text text-anchor=\"middle\" x=\"72.5\" y=\"-142\" font-family=\"Times,serif\" font-size=\"10.00\">3</text>\n</g>\n<!-- b_G3 -->\n<g id=\"node2\" class=\"node\">\n<title>b_G3</title>\n<text text-anchor=\"middle\" x=\"27\" y=\"-89.3\" font-family=\"Times,serif\" font-size=\"14.00\">b</text>\n</g>\n<!-- b_G3&#45;&gt;LinearDepthHalfGreaterThan -->\n<g id=\"edge2\" class=\"edge\">\n<title>b_G3:e-&gt;LinearDepthHalfGreaterThan:w</title>\n<path fill=\"none\" stroke=\"black\" d=\"M54,-93C71.39,-93 72.81,-108.7 88.96,-109.92\"/>\n<ellipse fill=\"black\" stroke=\"black\" cx=\"90\" cy=\"-109.96\" rx=\"1\" ry=\"1\"/>\n<text text-anchor=\"middle\" x=\"72.5\" y=\"-104\" font-family=\"Times,serif\" font-size=\"10.00\">3</text>\n</g>\n<!-- a_G9 -->\n<g id=\"node4\" class=\"node\">\n<title>a_G9</title>\n<text text-anchor=\"middle\" x=\"282\" y=\"-176.3\" font-family=\"Times,serif\" font-size=\"14.00\">a</text>\n</g>\n<!-- LinearDepthHalfGreaterThan&#45;&gt;a_G9 -->\n<g id=\"edge3\" class=\"edge\">\n<title>LinearDepthHalfGreaterThan:e-&gt;a_G9:w</title>\n<path fill=\"none\" stroke=\"black\" d=\"M218,-131C244.54,-131 228.64,-177.36 252.86,-179.89\"/>\n<ellipse fill=\"black\" stroke=\"black\" cx=\"254\" cy=\"-179.95\" rx=\"1\" ry=\"1\"/>\n<text text-anchor=\"middle\" x=\"236.5\" y=\"-159\" font-family=\"Times,serif\" font-size=\"10.00\">3</text>\n</g>\n<!-- b_G1 -->\n<g id=\"node5\" class=\"node\">\n<title>b_G1</title>\n<text text-anchor=\"middle\" x=\"282\" y=\"-122.3\" font-family=\"Times,serif\" font-size=\"14.00\">b</text>\n</g>\n<!-- LinearDepthHalfGreaterThan&#45;&gt;b_G1 -->\n<g id=\"edge4\" class=\"edge\">\n<title>LinearDepthHalfGreaterThan:e-&gt;b_G1:w</title>\n<path fill=\"none\" stroke=\"black\" d=\"M218,-110C235.22,-110 236.97,-124.77 252.98,-125.93\"/>\n<ellipse fill=\"black\" stroke=\"black\" cx=\"254\" cy=\"-125.96\" rx=\"1\" ry=\"1\"/>\n<text text-anchor=\"middle\" x=\"236.5\" y=\"-121\" font-family=\"Times,serif\" font-size=\"10.00\">3</text>\n</g>\n<!-- c_G8 -->\n<g id=\"node6\" class=\"node\">\n<title>c_G8</title>\n<text text-anchor=\"middle\" x=\"282\" y=\"-68.3\" font-family=\"Times,serif\" font-size=\"14.00\">c</text>\n</g>\n<!-- LinearDepthHalfGreaterThan&#45;&gt;c_G8 -->\n<g id=\"edge5\" class=\"edge\">\n<title>LinearDepthHalfGreaterThan:e-&gt;c_G8:w</title>\n<path fill=\"none\" stroke=\"black\" d=\"M218,-88C235.22,-88 236.97,-73.23 252.98,-72.07\"/>\n<ellipse fill=\"black\" stroke=\"black\" cx=\"254\" cy=\"-72.04\" rx=\"1\" ry=\"1\"/>\n<text text-anchor=\"middle\" x=\"236.5\" y=\"-83\" font-family=\"Times,serif\" font-size=\"10.00\">4</text>\n</g>\n<!-- target_G6 -->\n<g id=\"node7\" class=\"node\">\n<title>target_G6</title>\n<text text-anchor=\"middle\" x=\"282\" y=\"-14.3\" font-family=\"Times,serif\" font-size=\"14.00\">target</text>\n</g>\n<!-- LinearDepthHalfGreaterThan&#45;&gt;target_G6 -->\n<g id=\"edge6\" class=\"edge\">\n<title>LinearDepthHalfGreaterThan:e-&gt;target_G6:w</title>\n<path fill=\"none\" stroke=\"black\" d=\"M218,-67C244.54,-67 228.64,-20.64 252.86,-18.11\"/>\n<ellipse fill=\"black\" stroke=\"black\" cx=\"254\" cy=\"-18.05\" rx=\"1\" ry=\"1\"/>\n<text text-anchor=\"middle\" x=\"236.5\" y=\"-47\" font-family=\"Times,serif\" font-size=\"10.00\">1</text>\n</g>\n</g>\n</svg>",
          "text/plain": "<IPython.core.display.SVG object>"
         },
         "metadata": {},
         "output_type": "display_data"
        }
       ],
       "tabbable": null,
       "tooltip": null
      }
     },
     "c6c349e3f6bb42ca8c3fdde964977951": {
      "model_module": "@jupyter-widgets/controls",
      "model_module_version": "2.0.0",
      "model_name": "HBoxModel",
      "state": {
       "_dom_classes": [],
       "_model_module": "@jupyter-widgets/controls",
       "_model_module_version": "2.0.0",
       "_model_name": "HBoxModel",
       "_view_count": null,
       "_view_module": "@jupyter-widgets/controls",
       "_view_module_version": "2.0.0",
       "_view_name": "HBoxView",
       "box_style": "",
       "children": [
        "IPY_MODEL_48b0c30c9dcb4da8a97799fe6150a3c9"
       ],
       "layout": "IPY_MODEL_e953829416ec4bdd9e9f9deb7e6b9cb7",
       "tabbable": null,
       "tooltip": null
      }
     },
     "d6bdd8db971c41b6ad1dbcdca0b93a35": {
      "model_module": "@jupyter-widgets/base",
      "model_module_version": "2.0.0",
      "model_name": "LayoutModel",
      "state": {
       "_model_module": "@jupyter-widgets/base",
       "_model_module_version": "2.0.0",
       "_model_name": "LayoutModel",
       "_view_count": null,
       "_view_module": "@jupyter-widgets/base",
       "_view_module_version": "2.0.0",
       "_view_name": "LayoutView",
       "align_content": null,
       "align_items": null,
       "align_self": null,
       "border_bottom": null,
       "border_left": null,
       "border_right": null,
       "border_top": null,
       "bottom": null,
       "display": null,
       "flex": null,
       "flex_flow": null,
       "grid_area": null,
       "grid_auto_columns": null,
       "grid_auto_flow": null,
       "grid_auto_rows": null,
       "grid_column": null,
       "grid_gap": null,
       "grid_row": null,
       "grid_template_areas": null,
       "grid_template_columns": null,
       "grid_template_rows": null,
       "height": null,
       "justify_content": null,
       "justify_items": null,
       "left": null,
       "margin": null,
       "max_height": null,
       "max_width": null,
       "min_height": null,
       "min_width": null,
       "object_fit": null,
       "object_position": null,
       "order": null,
       "overflow": null,
       "padding": null,
       "right": null,
       "top": null,
       "visibility": null,
       "width": null
      }
     },
     "e0657f80bf90432898547d6b049be499": {
      "model_module": "@jupyter-widgets/controls",
      "model_module_version": "2.0.0",
      "model_name": "HBoxModel",
      "state": {
       "_dom_classes": [],
       "_model_module": "@jupyter-widgets/controls",
       "_model_module_version": "2.0.0",
       "_model_name": "HBoxModel",
       "_view_count": null,
       "_view_module": "@jupyter-widgets/controls",
       "_view_module_version": "2.0.0",
       "_view_name": "HBoxView",
       "box_style": "",
       "children": [
        "IPY_MODEL_c3ef66434df54ad3b31e098da6baac44"
       ],
       "layout": "IPY_MODEL_9dc3bfe508ad4746ba08cde38f8a1c42",
       "tabbable": null,
       "tooltip": null
      }
     },
     "e953829416ec4bdd9e9f9deb7e6b9cb7": {
      "model_module": "@jupyter-widgets/base",
      "model_module_version": "2.0.0",
      "model_name": "LayoutModel",
      "state": {
       "_model_module": "@jupyter-widgets/base",
       "_model_module_version": "2.0.0",
       "_model_name": "LayoutModel",
       "_view_count": null,
       "_view_module": "@jupyter-widgets/base",
       "_view_module_version": "2.0.0",
       "_view_name": "LayoutView",
       "align_content": null,
       "align_items": null,
       "align_self": null,
       "border_bottom": null,
       "border_left": null,
       "border_right": null,
       "border_top": null,
       "bottom": null,
       "display": null,
       "flex": null,
       "flex_flow": null,
       "grid_area": null,
       "grid_auto_columns": null,
       "grid_auto_flow": null,
       "grid_auto_rows": null,
       "grid_column": null,
       "grid_gap": null,
       "grid_row": null,
       "grid_template_areas": null,
       "grid_template_columns": null,
       "grid_template_rows": null,
       "height": null,
       "justify_content": null,
       "justify_items": null,
       "left": null,
       "margin": null,
       "max_height": null,
       "max_width": null,
       "min_height": null,
       "min_width": null,
       "object_fit": null,
       "object_position": null,
       "order": null,
       "overflow": null,
       "padding": null,
       "right": null,
       "top": null,
       "visibility": null,
       "width": null
      }
     },
     "ebd10607f91a4a0394cf83d2c83c839c": {
      "model_module": "@jupyter-widgets/base",
      "model_module_version": "2.0.0",
      "model_name": "LayoutModel",
      "state": {
       "_model_module": "@jupyter-widgets/base",
       "_model_module_version": "2.0.0",
       "_model_name": "LayoutModel",
       "_view_count": null,
       "_view_module": "@jupyter-widgets/base",
       "_view_module_version": "2.0.0",
       "_view_name": "LayoutView",
       "align_content": null,
       "align_items": null,
       "align_self": null,
       "border_bottom": null,
       "border_left": null,
       "border_right": null,
       "border_top": null,
       "bottom": null,
       "display": null,
       "flex": null,
       "flex_flow": null,
       "grid_area": null,
       "grid_auto_columns": null,
       "grid_auto_flow": null,
       "grid_auto_rows": null,
       "grid_column": null,
       "grid_gap": null,
       "grid_row": null,
       "grid_template_areas": null,
       "grid_template_columns": null,
       "grid_template_rows": null,
       "height": null,
       "justify_content": null,
       "justify_items": null,
       "left": null,
       "margin": null,
       "max_height": null,
       "max_width": null,
       "min_height": null,
       "min_width": null,
       "object_fit": null,
       "object_position": null,
       "order": null,
       "overflow": null,
       "padding": null,
       "right": null,
       "top": null,
       "visibility": null,
       "width": null
      }
     },
     "f41ad719321f41d8bc4f396835b01788": {
      "model_module": "@jupyter-widgets/controls",
      "model_module_version": "2.0.0",
      "model_name": "HBoxModel",
      "state": {
       "_dom_classes": [],
       "_model_module": "@jupyter-widgets/controls",
       "_model_module_version": "2.0.0",
       "_model_name": "HBoxModel",
       "_view_count": null,
       "_view_module": "@jupyter-widgets/controls",
       "_view_module_version": "2.0.0",
       "_view_name": "HBoxView",
       "box_style": "",
       "children": [
        "IPY_MODEL_f6155350a6444f4ba6560d93498d64e1"
       ],
       "layout": "IPY_MODEL_3c477bd8846948eca326872624404d52",
       "tabbable": null,
       "tooltip": null
      }
     },
     "f5aebc6016b34809ab72b115155f1e08": {
      "model_module": "@jupyter-widgets/output",
      "model_module_version": "1.0.0",
      "model_name": "OutputModel",
      "state": {
       "_dom_classes": [],
       "_model_module": "@jupyter-widgets/output",
       "_model_module_version": "1.0.0",
       "_model_name": "OutputModel",
       "_view_count": null,
       "_view_module": "@jupyter-widgets/output",
       "_view_module_version": "1.0.0",
       "_view_name": "OutputView",
       "layout": "IPY_MODEL_a8509f16e2184d219d24e72082554b8e",
       "msg_id": "",
       "outputs": [
        {
         "data": {
          "text/markdown": "`leq_symb`",
          "text/plain": "<IPython.core.display.Markdown object>"
         },
         "metadata": {},
         "output_type": "display_data"
        },
        {
         "data": {
          "image/svg+xml": "<svg xmlns=\"http://www.w3.org/2000/svg\" xmlns:xlink=\"http://www.w3.org/1999/xlink\" width=\"260pt\" height=\"152pt\" viewBox=\"0.00 0.00 260.00 152.00\">\n<g id=\"graph0\" class=\"graph\" transform=\"scale(1 1) rotate(0) translate(4 148)\">\n<title>my_graph</title>\n<polygon fill=\"white\" stroke=\"transparent\" points=\"-4,4 -4,-148 256,-148 256,4 -4,4\"/>\n<!-- x_G6 -->\n<g id=\"node1\" class=\"node\">\n<title>x_G6</title>\n<text text-anchor=\"middle\" x=\"27\" y=\"-122.3\" font-family=\"Times,serif\" font-size=\"14.00\">x</text>\n</g>\n<!-- LessThanEqual -->\n<g id=\"node4\" class=\"node\">\n<title>LessThanEqual</title>\n<polygon fill=\"none\" stroke=\"black\" points=\"91,-104 91,-121 161,-121 161,-104 91,-104\"/>\n<text text-anchor=\"start\" x=\"94\" y=\"-110\" font-family=\"Times,serif\" font-size=\"10.00\">LessThanEqual</text>\n<polygon fill=\"none\" stroke=\"black\" points=\"91,-83 91,-104 161,-104 161,-83 91,-83\"/>\n<text text-anchor=\"start\" x=\"122.5\" y=\"-89.8\" font-family=\"Times,serif\" font-size=\"14.00\">x</text>\n<polygon fill=\"none\" stroke=\"black\" points=\"91,-62 91,-83 161,-83 161,-62 91,-62\"/>\n<text text-anchor=\"start\" x=\"122.5\" y=\"-68.8\" font-family=\"Times,serif\" font-size=\"14.00\">y</text>\n<polygon fill=\"none\" stroke=\"black\" points=\"91,-41 91,-62 161,-62 161,-41 91,-41\"/>\n<text text-anchor=\"start\" x=\"110.5\" y=\"-47.8\" font-family=\"Times,serif\" font-size=\"14.00\">target</text>\n</g>\n<!-- x_G6&#45;&gt;LessThanEqual -->\n<g id=\"edge1\" class=\"edge\">\n<title>x_G6:e-&gt;LessThanEqual:w</title>\n<path fill=\"none\" stroke=\"black\" d=\"M54,-126C74.89,-126 69.72,-96.45 88.58,-94.14\"/>\n<ellipse fill=\"black\" stroke=\"black\" cx=\"90\" cy=\"-94.06\" rx=\"1\" ry=\"1\"/>\n<text text-anchor=\"middle\" x=\"72.5\" y=\"-113\" font-family=\"Times,serif\" font-size=\"10.00\">n1</text>\n</g>\n<!-- y_G2 -->\n<g id=\"node2\" class=\"node\">\n<title>y_G2</title>\n<text text-anchor=\"middle\" x=\"27\" y=\"-68.3\" font-family=\"Times,serif\" font-size=\"14.00\">y</text>\n</g>\n<!-- y_G2&#45;&gt;LessThanEqual -->\n<g id=\"edge2\" class=\"edge\">\n<title>y_G2:e-&gt;LessThanEqual:w</title>\n<path fill=\"none\" stroke=\"black\" d=\"M54,-72C69.67,-72 74.14,-72 88.77,-72\"/>\n<ellipse fill=\"black\" stroke=\"black\" cx=\"90\" cy=\"-72\" rx=\"1\" ry=\"1\"/>\n<text text-anchor=\"middle\" x=\"72.5\" y=\"-75\" font-family=\"Times,serif\" font-size=\"10.00\">n2</text>\n</g>\n<!-- target_G1 -->\n<g id=\"node3\" class=\"node\">\n<title>target_G1</title>\n<text text-anchor=\"middle\" x=\"27\" y=\"-14.3\" font-family=\"Times,serif\" font-size=\"14.00\">target</text>\n</g>\n<!-- target_G1&#45;&gt;LessThanEqual -->\n<g id=\"edge3\" class=\"edge\">\n<title>target_G1:e-&gt;LessThanEqual:w</title>\n<path fill=\"none\" stroke=\"black\" d=\"M54,-18C75.17,-18 69.47,-48.47 88.55,-50.85\"/>\n<ellipse fill=\"black\" stroke=\"black\" cx=\"90\" cy=\"-50.94\" rx=\"1\" ry=\"1\"/>\n<text text-anchor=\"middle\" x=\"72.5\" y=\"-39\" font-family=\"Times,serif\" font-size=\"10.00\">1</text>\n</g>\n<!-- x_G7 -->\n<g id=\"node5\" class=\"node\">\n<title>x_G7</title>\n<text text-anchor=\"middle\" x=\"225\" y=\"-122.3\" font-family=\"Times,serif\" font-size=\"14.00\">x</text>\n</g>\n<!-- LessThanEqual&#45;&gt;x_G7 -->\n<g id=\"edge4\" class=\"edge\">\n<title>LessThanEqual:e-&gt;x_G7:w</title>\n<path fill=\"none\" stroke=\"black\" d=\"M161,-94C181.89,-94 176.72,-123.55 195.58,-125.86\"/>\n<ellipse fill=\"black\" stroke=\"black\" cx=\"197\" cy=\"-125.94\" rx=\"1\" ry=\"1\"/>\n<text text-anchor=\"middle\" x=\"179.5\" y=\"-113\" font-family=\"Times,serif\" font-size=\"10.00\">n1</text>\n</g>\n<!-- y_G5 -->\n<g id=\"node6\" class=\"node\">\n<title>y_G5</title>\n<text text-anchor=\"middle\" x=\"225\" y=\"-68.3\" font-family=\"Times,serif\" font-size=\"14.00\">y</text>\n</g>\n<!-- LessThanEqual&#45;&gt;y_G5 -->\n<g id=\"edge5\" class=\"edge\">\n<title>LessThanEqual:e-&gt;y_G5:w</title>\n<path fill=\"none\" stroke=\"black\" d=\"M161,-72C176.67,-72 181.14,-72 195.77,-72\"/>\n<ellipse fill=\"black\" stroke=\"black\" cx=\"197\" cy=\"-72\" rx=\"1\" ry=\"1\"/>\n<text text-anchor=\"middle\" x=\"179.5\" y=\"-75\" font-family=\"Times,serif\" font-size=\"10.00\">n2</text>\n</g>\n<!-- target_G4 -->\n<g id=\"node7\" class=\"node\">\n<title>target_G4</title>\n<text text-anchor=\"middle\" x=\"225\" y=\"-14.3\" font-family=\"Times,serif\" font-size=\"14.00\">target</text>\n</g>\n<!-- LessThanEqual&#45;&gt;target_G4 -->\n<g id=\"edge6\" class=\"edge\">\n<title>LessThanEqual:e-&gt;target_G4:w</title>\n<path fill=\"none\" stroke=\"black\" d=\"M161,-51C182.17,-51 176.47,-20.53 195.55,-18.15\"/>\n<ellipse fill=\"black\" stroke=\"black\" cx=\"197\" cy=\"-18.06\" rx=\"1\" ry=\"1\"/>\n<text text-anchor=\"middle\" x=\"179.5\" y=\"-39\" font-family=\"Times,serif\" font-size=\"10.00\">1</text>\n</g>\n</g>\n</svg>",
          "text/plain": "<IPython.core.display.SVG object>"
         },
         "metadata": {},
         "output_type": "display_data"
        }
       ],
       "tabbable": null,
       "tooltip": null
      }
     },
     "f6155350a6444f4ba6560d93498d64e1": {
      "model_module": "@jupyter-widgets/output",
      "model_module_version": "1.0.0",
      "model_name": "OutputModel",
      "state": {
       "_dom_classes": [],
       "_model_module": "@jupyter-widgets/output",
       "_model_module_version": "1.0.0",
       "_model_name": "OutputModel",
       "_view_count": null,
       "_view_module": "@jupyter-widgets/output",
       "_view_module_version": "1.0.0",
       "_view_name": "OutputView",
       "layout": "IPY_MODEL_ebd10607f91a4a0394cf83d2c83c839c",
       "msg_id": "",
       "outputs": [
        {
         "data": {
          "text/markdown": "`greater_than`",
          "text/plain": "<IPython.core.display.Markdown object>"
         },
         "metadata": {},
         "output_type": "display_data"
        },
        {
         "data": {
          "image/svg+xml": "<svg xmlns=\"http://www.w3.org/2000/svg\" xmlns:xlink=\"http://www.w3.org/1999/xlink\" width=\"248pt\" height=\"152pt\" viewBox=\"0.00 0.00 248.00 152.00\">\n<g id=\"graph0\" class=\"graph\" transform=\"scale(1 1) rotate(0) translate(4 148)\">\n<title>my_graph</title>\n<polygon fill=\"white\" stroke=\"transparent\" points=\"-4,4 -4,-148 244,-148 244,4 -4,4\"/>\n<!-- a_G7 -->\n<g id=\"node1\" class=\"node\">\n<title>a_G7</title>\n<text text-anchor=\"middle\" x=\"27\" y=\"-122.3\" font-family=\"Times,serif\" font-size=\"14.00\">a</text>\n</g>\n<!-- GreaterThan -->\n<g id=\"node4\" class=\"node\">\n<title>GreaterThan</title>\n<polygon fill=\"none\" stroke=\"black\" points=\"91,-104 91,-121 149,-121 149,-104 91,-104\"/>\n<text text-anchor=\"start\" x=\"94\" y=\"-110\" font-family=\"Times,serif\" font-size=\"10.00\">GreaterThan</text>\n<polygon fill=\"none\" stroke=\"black\" points=\"91,-83 91,-104 149,-104 149,-83 91,-83\"/>\n<text text-anchor=\"start\" x=\"116.5\" y=\"-89.8\" font-family=\"Times,serif\" font-size=\"14.00\">a</text>\n<polygon fill=\"none\" stroke=\"black\" points=\"91,-62 91,-83 149,-83 149,-62 91,-62\"/>\n<text text-anchor=\"start\" x=\"116.5\" y=\"-68.8\" font-family=\"Times,serif\" font-size=\"14.00\">b</text>\n<polygon fill=\"none\" stroke=\"black\" points=\"91,-41 91,-62 149,-62 149,-41 91,-41\"/>\n<text text-anchor=\"start\" x=\"104.5\" y=\"-47.8\" font-family=\"Times,serif\" font-size=\"14.00\">target</text>\n</g>\n<!-- a_G7&#45;&gt;GreaterThan -->\n<g id=\"edge1\" class=\"edge\">\n<title>a_G7:e-&gt;GreaterThan:w</title>\n<path fill=\"none\" stroke=\"black\" d=\"M54,-126C74.89,-126 69.72,-96.45 88.58,-94.14\"/>\n<ellipse fill=\"black\" stroke=\"black\" cx=\"90\" cy=\"-94.06\" rx=\"1\" ry=\"1\"/>\n<text text-anchor=\"middle\" x=\"72.5\" y=\"-113\" font-family=\"Times,serif\" font-size=\"10.00\">4</text>\n</g>\n<!-- b_G4 -->\n<g id=\"node2\" class=\"node\">\n<title>b_G4</title>\n<text text-anchor=\"middle\" x=\"27\" y=\"-68.3\" font-family=\"Times,serif\" font-size=\"14.00\">b</text>\n</g>\n<!-- b_G4&#45;&gt;GreaterThan -->\n<g id=\"edge2\" class=\"edge\">\n<title>b_G4:e-&gt;GreaterThan:w</title>\n<path fill=\"none\" stroke=\"black\" d=\"M54,-72C69.67,-72 74.14,-72 88.77,-72\"/>\n<ellipse fill=\"black\" stroke=\"black\" cx=\"90\" cy=\"-72\" rx=\"1\" ry=\"1\"/>\n<text text-anchor=\"middle\" x=\"72.5\" y=\"-75\" font-family=\"Times,serif\" font-size=\"10.00\">4</text>\n</g>\n<!-- target_G2 -->\n<g id=\"node3\" class=\"node\">\n<title>target_G2</title>\n<text text-anchor=\"middle\" x=\"27\" y=\"-14.3\" font-family=\"Times,serif\" font-size=\"14.00\">target</text>\n</g>\n<!-- target_G2&#45;&gt;GreaterThan -->\n<g id=\"edge3\" class=\"edge\">\n<title>target_G2:e-&gt;GreaterThan:w</title>\n<path fill=\"none\" stroke=\"black\" d=\"M54,-18C75.17,-18 69.47,-48.47 88.55,-50.85\"/>\n<ellipse fill=\"black\" stroke=\"black\" cx=\"90\" cy=\"-50.94\" rx=\"1\" ry=\"1\"/>\n<text text-anchor=\"middle\" x=\"72.5\" y=\"-39\" font-family=\"Times,serif\" font-size=\"10.00\">1</text>\n</g>\n<!-- a_G0 -->\n<g id=\"node5\" class=\"node\">\n<title>a_G0</title>\n<text text-anchor=\"middle\" x=\"213\" y=\"-122.3\" font-family=\"Times,serif\" font-size=\"14.00\">a</text>\n</g>\n<!-- GreaterThan&#45;&gt;a_G0 -->\n<g id=\"edge4\" class=\"edge\">\n<title>GreaterThan:e-&gt;a_G0:w</title>\n<path fill=\"none\" stroke=\"black\" d=\"M149,-94C169.89,-94 164.72,-123.55 183.58,-125.86\"/>\n<ellipse fill=\"black\" stroke=\"black\" cx=\"185\" cy=\"-125.94\" rx=\"1\" ry=\"1\"/>\n<text text-anchor=\"middle\" x=\"167.5\" y=\"-113\" font-family=\"Times,serif\" font-size=\"10.00\">4</text>\n</g>\n<!-- b_G8 -->\n<g id=\"node6\" class=\"node\">\n<title>b_G8</title>\n<text text-anchor=\"middle\" x=\"213\" y=\"-68.3\" font-family=\"Times,serif\" font-size=\"14.00\">b</text>\n</g>\n<!-- GreaterThan&#45;&gt;b_G8 -->\n<g id=\"edge5\" class=\"edge\">\n<title>GreaterThan:e-&gt;b_G8:w</title>\n<path fill=\"none\" stroke=\"black\" d=\"M149,-72C164.67,-72 169.14,-72 183.77,-72\"/>\n<ellipse fill=\"black\" stroke=\"black\" cx=\"185\" cy=\"-72\" rx=\"1\" ry=\"1\"/>\n<text text-anchor=\"middle\" x=\"167.5\" y=\"-75\" font-family=\"Times,serif\" font-size=\"10.00\">4</text>\n</g>\n<!-- target_G3 -->\n<g id=\"node7\" class=\"node\">\n<title>target_G3</title>\n<text text-anchor=\"middle\" x=\"213\" y=\"-14.3\" font-family=\"Times,serif\" font-size=\"14.00\">target</text>\n</g>\n<!-- GreaterThan&#45;&gt;target_G3 -->\n<g id=\"edge6\" class=\"edge\">\n<title>GreaterThan:e-&gt;target_G3:w</title>\n<path fill=\"none\" stroke=\"black\" d=\"M149,-51C170.17,-51 164.47,-20.53 183.55,-18.15\"/>\n<ellipse fill=\"black\" stroke=\"black\" cx=\"185\" cy=\"-18.06\" rx=\"1\" ry=\"1\"/>\n<text text-anchor=\"middle\" x=\"167.5\" y=\"-39\" font-family=\"Times,serif\" font-size=\"10.00\">1</text>\n</g>\n</g>\n</svg>",
          "text/plain": "<IPython.core.display.SVG object>"
         },
         "metadata": {},
         "output_type": "display_data"
        }
       ],
       "tabbable": null,
       "tooltip": null
      }
     },
     "f73c88a1c07a49da835b540a9dfe6949": {
      "model_module": "@jupyter-widgets/output",
      "model_module_version": "1.0.0",
      "model_name": "OutputModel",
      "state": {
       "_dom_classes": [],
       "_model_module": "@jupyter-widgets/output",
       "_model_module_version": "1.0.0",
       "_model_name": "OutputModel",
       "_view_count": null,
       "_view_module": "@jupyter-widgets/output",
       "_view_module_version": "1.0.0",
       "_view_name": "OutputView",
       "layout": "IPY_MODEL_64afe1e35f2c4ee681ad59f8cb714f20",
       "msg_id": "",
       "outputs": [
        {
         "data": {
          "text/markdown": "`gt_k`",
          "text/plain": "<IPython.core.display.Markdown object>"
         },
         "metadata": {},
         "output_type": "display_data"
        },
        {
         "data": {
          "image/svg+xml": "<svg xmlns=\"http://www.w3.org/2000/svg\" xmlns:xlink=\"http://www.w3.org/1999/xlink\" width=\"284pt\" height=\"98pt\" viewBox=\"0.00 0.00 284.00 98.00\">\n<g id=\"graph0\" class=\"graph\" transform=\"scale(1 1) rotate(0) translate(4 94)\">\n<title>my_graph</title>\n<polygon fill=\"white\" stroke=\"transparent\" points=\"-4,4 -4,-94 280,-94 280,4 -4,4\"/>\n<!-- x_G4 -->\n<g id=\"node1\" class=\"node\">\n<title>x_G4</title>\n<text text-anchor=\"middle\" x=\"27\" y=\"-68.3\" font-family=\"Times,serif\" font-size=\"14.00\">x</text>\n</g>\n<!-- GreaterThanConstant -->\n<g id=\"node3\" class=\"node\">\n<title>GreaterThanConstant</title>\n<polygon fill=\"none\" stroke=\"black\" points=\"91,-66 91,-83 185,-83 185,-66 91,-66\"/>\n<text text-anchor=\"start\" x=\"94\" y=\"-72\" font-family=\"Times,serif\" font-size=\"10.00\">GreaterThanConstant</text>\n<polygon fill=\"none\" stroke=\"black\" points=\"91,-45 91,-66 185,-66 185,-45 91,-45\"/>\n<text text-anchor=\"start\" x=\"134.5\" y=\"-51.8\" font-family=\"Times,serif\" font-size=\"14.00\">x</text>\n<polygon fill=\"none\" stroke=\"black\" points=\"91,-24 91,-45 185,-45 185,-24 91,-24\"/>\n<text text-anchor=\"start\" x=\"122.5\" y=\"-30.8\" font-family=\"Times,serif\" font-size=\"14.00\">target</text>\n</g>\n<!-- x_G4&#45;&gt;GreaterThanConstant -->\n<g id=\"edge1\" class=\"edge\">\n<title>x_G4:e-&gt;GreaterThanConstant:w</title>\n<path fill=\"none\" stroke=\"black\" d=\"M54,-72C71.22,-72 72.97,-57.23 88.98,-56.07\"/>\n<ellipse fill=\"black\" stroke=\"black\" cx=\"90\" cy=\"-56.04\" rx=\"1\" ry=\"1\"/>\n<text text-anchor=\"middle\" x=\"72.5\" y=\"-67\" font-family=\"Times,serif\" font-size=\"10.00\">4</text>\n</g>\n<!-- target_G0 -->\n<g id=\"node2\" class=\"node\">\n<title>target_G0</title>\n<text text-anchor=\"middle\" x=\"27\" y=\"-14.3\" font-family=\"Times,serif\" font-size=\"14.00\">target</text>\n</g>\n<!-- target_G0&#45;&gt;GreaterThanConstant -->\n<g id=\"edge2\" class=\"edge\">\n<title>target_G0:e-&gt;GreaterThanConstant:w</title>\n<path fill=\"none\" stroke=\"black\" d=\"M54,-18C71.22,-18 72.97,-32.77 88.98,-33.93\"/>\n<ellipse fill=\"black\" stroke=\"black\" cx=\"90\" cy=\"-33.96\" rx=\"1\" ry=\"1\"/>\n<text text-anchor=\"middle\" x=\"72.5\" y=\"-29\" font-family=\"Times,serif\" font-size=\"10.00\">1</text>\n</g>\n<!-- x_G3 -->\n<g id=\"node4\" class=\"node\">\n<title>x_G3</title>\n<text text-anchor=\"middle\" x=\"249\" y=\"-68.3\" font-family=\"Times,serif\" font-size=\"14.00\">x</text>\n</g>\n<!-- GreaterThanConstant&#45;&gt;x_G3 -->\n<g id=\"edge3\" class=\"edge\">\n<title>GreaterThanConstant:e-&gt;x_G3:w</title>\n<path fill=\"none\" stroke=\"black\" d=\"M185,-56C202.22,-56 203.97,-70.77 219.98,-71.93\"/>\n<ellipse fill=\"black\" stroke=\"black\" cx=\"221\" cy=\"-71.96\" rx=\"1\" ry=\"1\"/>\n<text text-anchor=\"middle\" x=\"203.5\" y=\"-67\" font-family=\"Times,serif\" font-size=\"10.00\">4</text>\n</g>\n<!-- target_G1 -->\n<g id=\"node5\" class=\"node\">\n<title>target_G1</title>\n<text text-anchor=\"middle\" x=\"249\" y=\"-14.3\" font-family=\"Times,serif\" font-size=\"14.00\">target</text>\n</g>\n<!-- GreaterThanConstant&#45;&gt;target_G1 -->\n<g id=\"edge4\" class=\"edge\">\n<title>GreaterThanConstant:e-&gt;target_G1:w</title>\n<path fill=\"none\" stroke=\"black\" d=\"M185,-34C202.22,-34 203.97,-19.23 219.98,-18.07\"/>\n<ellipse fill=\"black\" stroke=\"black\" cx=\"221\" cy=\"-18.04\" rx=\"1\" ry=\"1\"/>\n<text text-anchor=\"middle\" x=\"203.5\" y=\"-29\" font-family=\"Times,serif\" font-size=\"10.00\">1</text>\n</g>\n</g>\n</svg>",
          "text/plain": "<IPython.core.display.SVG object>"
         },
         "metadata": {},
         "output_type": "display_data"
        }
       ],
       "tabbable": null,
       "tooltip": null
      }
     },
     "f7d9bdc9f96046c6924439f59e956613": {
      "model_module": "@jupyter-widgets/base",
      "model_module_version": "2.0.0",
      "model_name": "LayoutModel",
      "state": {
       "_model_module": "@jupyter-widgets/base",
       "_model_module_version": "2.0.0",
       "_model_name": "LayoutModel",
       "_view_count": null,
       "_view_module": "@jupyter-widgets/base",
       "_view_module_version": "2.0.0",
       "_view_name": "LayoutView",
       "align_content": null,
       "align_items": null,
       "align_self": null,
       "border_bottom": null,
       "border_left": null,
       "border_right": null,
       "border_top": null,
       "bottom": null,
       "display": null,
       "flex": null,
       "flex_flow": null,
       "grid_area": null,
       "grid_auto_columns": null,
       "grid_auto_flow": null,
       "grid_auto_rows": null,
       "grid_column": null,
       "grid_gap": null,
       "grid_row": null,
       "grid_template_areas": null,
       "grid_template_columns": null,
       "grid_template_rows": null,
       "height": null,
       "justify_content": null,
       "justify_items": null,
       "left": null,
       "margin": null,
       "max_height": null,
       "max_width": null,
       "min_height": null,
       "min_width": null,
       "object_fit": null,
       "object_position": null,
       "order": null,
       "overflow": null,
       "padding": null,
       "right": null,
       "top": null,
       "visibility": null,
       "width": null
      }
     },
     "f8773d3e412e4f0ca3334a9af92063ac": {
      "model_module": "@jupyter-widgets/controls",
      "model_module_version": "2.0.0",
      "model_name": "HBoxModel",
      "state": {
       "_dom_classes": [],
       "_model_module": "@jupyter-widgets/controls",
       "_model_module_version": "2.0.0",
       "_model_name": "HBoxModel",
       "_view_count": null,
       "_view_module": "@jupyter-widgets/controls",
       "_view_module_version": "2.0.0",
       "_view_name": "HBoxView",
       "box_style": "",
       "children": [
        "IPY_MODEL_0e9c973afcec4252b88bbba0143752dd"
       ],
       "layout": "IPY_MODEL_4e7c75b9eed4400f8094b8cb723d8e40",
       "tabbable": null,
       "tooltip": null
      }
     }
    },
    "version_major": 2,
    "version_minor": 0
   }
  }
 },
 "nbformat": 4,
 "nbformat_minor": 5
}
