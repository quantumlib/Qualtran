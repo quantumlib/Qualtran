{
 "cells": [
  {
   "cell_type": "markdown",
   "id": "e1362eaa",
   "metadata": {
    "cq.autogen": "title_cell"
   },
   "source": [
    "# Trotterized Hubbard\n",
    "\n",
    "Bloqs implementing Trotterized unitary evolution under the Hubbard Hamiltonian.\n",
    "\n",
    "The Hubbard model is given as a sum of two terms\n",
    "\n",
    "$$\n",
    "H = H_h + H_I\n",
    "$$\n",
    "\n",
    "where the hopping hamiltonian is given as \n",
    "$$\n",
    "H_h = -\\tau \\sum_{\\langle p, q\\rangle, \\sigma} \n",
    "    \\left(a_{p\\sigma}^{\\dagger} a_{q\\sigma} + \\mathrm{h.c.} \\right)\n",
    "$$\n",
    "where the sum is over nearest neighbour lattice sites (under periodic boundary conditions).\n",
    "\n",
    "Following the [reference](https://arxiv.org/abs/2012.09238) we assume the\n",
    "shifted form of the interacting Hamiltonian:\n",
    "$$\n",
    "H_I = \\frac{u}{4} \\sum_{p} z_{p\\uparrow}z_{p\\downarrow}\n",
    "$$\n",
    "where $z_{p\\sigma} = (2 n_{p\\sigma} - 1)$.\n",
    "\n",
    "\n",
    "For Trotterization we assume the plaquette splitting from the\n",
    "[reference](https://arxiv.org/abs/2012.09238).\n",
    "The plaquette splitting rewrites $H_h$ as a sum of $H_h^p$ and $H_h^g$ (for pink and gold\n",
    "respectively) which when combined tile the entire lattice. Each plaquette\n",
    "contains four sites and paritions the lattice such that each edge of the lattice\n",
    "belongs to a single plaquette. Each term within a grouping commutes so that the\n",
    "unitary can be be implemented as\n",
    "$$\n",
    "e^{i H_h^{x}} = \\prod_{k\\sigma} e^{i H_h^{x(k,\\sigma)}}\n",
    "$$\n",
    "without further trotter error."
   ]
  },
  {
   "cell_type": "code",
   "execution_count": 1,
   "id": "f2f93e40",
   "metadata": {
    "cq.autogen": "top_imports"
   },
   "outputs": [],
   "source": [
    "from qualtran import Bloq, CompositeBloq, BloqBuilder, Signature, Register\n",
    "from qualtran import QBit, QInt, QUInt, QAny\n",
    "from qualtran.drawing import show_bloq, show_call_graph, show_counts_sigma\n",
    "from typing import *\n",
    "import numpy as np\n",
    "import sympy\n",
    "import cirq"
   ]
  },
  {
   "cell_type": "markdown",
   "id": "3e7aff24",
   "metadata": {
    "cq.autogen": "HoppingTile.bloq_doc.md"
   },
   "source": [
    "## `HoppingTile`\n",
    "Bloq implementing a \"tile\" of the one-body hopping unitary.\n",
    "\n",
    "Implements the unitary\n",
    "$$\n",
    "e^{i H_h^{x}} = \\prod_{k\\sigma} e^{i t H_h^{x(k,\\sigma)}}\n",
    "$$\n",
    "for a particular choise of of plaquette hamiltonian $H_h^x$, where $x$ = pink or gold.\n",
    "\n",
    "#### Parameters\n",
    " - `length`: Lattice side length L.\n",
    " - `angle`: The prefactor scaling the Hopping hamiltonian in the unitary (`t` above). This should contain any relevant prefactors including the time step and any splitting coefficients.\n",
    " - `tau`: The Hopping hamiltonian parameter. Typically the hubbard model is defined relative to $\\tau$ so it's defaulted to 1.\n",
    " - `eps`: The precision of the single qubit rotations.\n",
    " - `pink`: The colour of the plaquette. \n",
    "\n",
    "#### Registers\n",
    " - `system`: The system register of size 2 `length`. \n",
    "\n",
    "#### References\n",
    " - [Early fault-tolerant simulations of the Hubbard model](https://arxiv.org/abs/2012.09238). see Eq. 21 and App E.\n"
   ]
  },
  {
   "cell_type": "code",
   "execution_count": 2,
   "id": "c9c2e7a7",
   "metadata": {
    "cq.autogen": "HoppingTile.bloq_doc.py"
   },
   "outputs": [],
   "source": [
    "from qualtran.bloqs.chemistry.trotter.hubbard.hopping import HoppingTile"
   ]
  },
  {
   "cell_type": "markdown",
   "id": "e9b0bec2",
   "metadata": {
    "cq.autogen": "HoppingTile.example_instances.md"
   },
   "source": [
    "### Example Instances"
   ]
  },
  {
   "cell_type": "code",
   "execution_count": 3,
   "id": "b9ec98eb",
   "metadata": {
    "cq.autogen": "HoppingTile.hopping_tile"
   },
   "outputs": [],
   "source": [
    "length = 8\n",
    "angle = 0.5\n",
    "hopping_tile = HoppingTile(length, angle)"
   ]
  },
  {
   "cell_type": "markdown",
   "id": "9cbcd20d",
   "metadata": {
    "cq.autogen": "HoppingTile.graphical_signature.md"
   },
   "source": [
    "#### Graphical Signature"
   ]
  },
  {
   "cell_type": "code",
   "execution_count": 4,
   "id": "367dbd6d",
   "metadata": {
    "cq.autogen": "HoppingTile.graphical_signature.py"
   },
   "outputs": [
    {
     "data": {
      "application/vnd.jupyter.widget-view+json": {
       "model_id": "d35a79eb8bd14ca3aba66823040df986",
       "version_major": 2,
       "version_minor": 0
      },
      "text/plain": [
       "HBox(children=(Output(outputs=({'output_type': 'display_data', 'data': {'text/plain': '<IPython.core.display.M…"
      ]
     },
     "metadata": {},
     "output_type": "display_data"
    }
   ],
   "source": [
    "from qualtran.drawing import show_bloqs\n",
    "show_bloqs([hopping_tile],\n",
    "           ['`hopping_tile`'])"
   ]
  },
  {
   "cell_type": "markdown",
   "id": "4a336787",
   "metadata": {
    "cq.autogen": "HoppingTile.call_graph.md"
   },
   "source": [
    "### Call Graph"
   ]
  },
  {
   "cell_type": "code",
   "execution_count": 5,
   "id": "a743762b",
   "metadata": {
    "cq.autogen": "HoppingTile.call_graph.py"
   },
   "outputs": [
    {
     "data": {
      "image/svg+xml": [
       "<svg xmlns=\"http://www.w3.org/2000/svg\" xmlns:xlink=\"http://www.w3.org/1999/xlink\" width=\"112pt\" height=\"131pt\" viewBox=\"0.00 0.00 112.00 131.00\">\n",
       "<g id=\"graph0\" class=\"graph\" transform=\"scale(1 1) rotate(0) translate(4 127)\">\n",
       "<title>counts</title>\n",
       "<polygon fill=\"white\" stroke=\"transparent\" points=\"-4,4 -4,-127 108,-127 108,4 -4,4\"/>\n",
       "<!-- b0 -->\n",
       "<g id=\"node1\" class=\"node\">\n",
       "<title>b0</title>\n",
       "<polygon fill=\"none\" stroke=\"black\" points=\"19,-93 19,-116 85,-116 85,-93 19,-93\"/>\n",
       "<text text-anchor=\"start\" x=\"25.5\" y=\"-102\" font-family=\"Times,serif\" font-size=\"10.00\">HoppingTile</text>\n",
       "</g>\n",
       "<!-- b1 -->\n",
       "<g id=\"node2\" class=\"node\">\n",
       "<title>b1</title>\n",
       "<polygon fill=\"none\" stroke=\"black\" points=\"8,-6 8,-29 96,-29 96,-6 8,-6\"/>\n",
       "<text text-anchor=\"start\" x=\"14\" y=\"-15\" font-family=\"Times,serif\" font-size=\"10.00\">HoppingPlaquette</text>\n",
       "</g>\n",
       "<!-- b0&#45;&gt;b1 -->\n",
       "<g id=\"edge1\" class=\"edge\">\n",
       "<title>b0-&gt;b1</title>\n",
       "<path fill=\"none\" stroke=\"black\" d=\"M52,-86.8C52,-75.16 52,-59.55 52,-46.24\"/>\n",
       "<polygon fill=\"black\" stroke=\"black\" points=\"55.5,-46.18 52,-36.18 48.5,-46.18 55.5,-46.18\"/>\n",
       "<text text-anchor=\"middle\" x=\"59\" y=\"-57.8\" font-family=\"Times,serif\" font-size=\"14.00\">32</text>\n",
       "</g>\n",
       "</g>\n",
       "</svg>"
      ],
      "text/plain": [
       "<IPython.core.display.SVG object>"
      ]
     },
     "metadata": {},
     "output_type": "display_data"
    },
    {
     "data": {
      "text/markdown": [
       "#### Counts totals:\n",
       " - `HoppingPlaquette`: 32"
      ],
      "text/plain": [
       "<IPython.core.display.Markdown object>"
      ]
     },
     "metadata": {},
     "output_type": "display_data"
    }
   ],
   "source": [
    "from qualtran.resource_counting.generalizers import ignore_split_join\n",
    "hopping_tile_g, hopping_tile_sigma = hopping_tile.call_graph(max_depth=1, generalizer=ignore_split_join)\n",
    "show_call_graph(hopping_tile_g)\n",
    "show_counts_sigma(hopping_tile_sigma)"
   ]
  },
  {
   "cell_type": "markdown",
   "id": "d6238e40",
   "metadata": {
    "cq.autogen": "HoppingPlaquette.bloq_doc.md"
   },
   "source": [
    "## `HoppingPlaquette`\n",
    "A bloq implementing a single plaquette unitary.\n",
    "\n",
    "The bloq implements\n",
    "$$\n",
    "    e^{i \\kappa R_\\mathrm{plaq}}\n",
    "$$\n",
    "where $\\tau R^{k\\sigma}_\\mathrm{plaq} = H_h^{x(k,\\sigma)}$, i.e. R is\n",
    "non-zero only in the subploq relevant for the particular indexed plaquette.\n",
    "\n",
    "The plaquette operator is given by\n",
    "$$\n",
    "    \\sum_{i,j} [R_{\\mathrm{plaq}}]_{i,j} a_{i\\sigma}^\\dagger a_{j\\sigma}\n",
    "$$\n",
    "where the non-zero sub-bloq of $R_{\\mathrm{plaq}}$ is\n",
    "\n",
    "$$\n",
    "    R_{\\mathrm{plaq}} =\n",
    "    \\begin{bmatrix}\n",
    "        0 & 1 & 0 & 1 \\\\\n",
    "        1 & 0 & 1 & 0 \\\\\n",
    "        0 & 1 & 0 & 1 \\\\\n",
    "        1 & 0 & 1 & 0\n",
    "    \\end{bmatrix}\n",
    "$$\n",
    "\n",
    "#### Parameters\n",
    " - `kappa`: The scalar prefactor appearing in the definition of the unitary. Usually a combination of the timestep and the hopping parameter $\\tau$.\n",
    " - `eps`: The precision of the single qubit rotations. \n",
    "\n",
    "#### Registers\n",
    " - `qubits`: A register of four qubits this unitary should act on. \n",
    "\n",
    "#### References\n",
    " - [Early fault-tolerant simulations of the Hubbard model](https://arxiv.org/abs/2012.09238). page 13 Eq. E4 and E5 (Appendix E)\n"
   ]
  },
  {
   "cell_type": "code",
   "execution_count": 6,
   "id": "e092c287",
   "metadata": {
    "cq.autogen": "HoppingPlaquette.bloq_doc.py"
   },
   "outputs": [],
   "source": [
    "from qualtran.bloqs.chemistry.trotter.hubbard.hopping import HoppingPlaquette"
   ]
  },
  {
   "cell_type": "markdown",
   "id": "4016b7a7",
   "metadata": {
    "cq.autogen": "HoppingPlaquette.example_instances.md"
   },
   "source": [
    "### Example Instances"
   ]
  },
  {
   "cell_type": "code",
   "execution_count": 7,
   "id": "03cd543d",
   "metadata": {
    "cq.autogen": "HoppingPlaquette.plaquette"
   },
   "outputs": [],
   "source": [
    "length = 8\n",
    "angle = 0.15\n",
    "plaquette = HoppingPlaquette(length, angle)"
   ]
  },
  {
   "cell_type": "markdown",
   "id": "da09068f",
   "metadata": {
    "cq.autogen": "HoppingPlaquette.graphical_signature.md"
   },
   "source": [
    "#### Graphical Signature"
   ]
  },
  {
   "cell_type": "code",
   "execution_count": 8,
   "id": "d433f4ed",
   "metadata": {
    "cq.autogen": "HoppingPlaquette.graphical_signature.py"
   },
   "outputs": [
    {
     "data": {
      "application/vnd.jupyter.widget-view+json": {
       "model_id": "cae0dcbb850944018d3e41dc43309d56",
       "version_major": 2,
       "version_minor": 0
      },
      "text/plain": [
       "HBox(children=(Output(outputs=({'output_type': 'display_data', 'data': {'text/plain': '<IPython.core.display.M…"
      ]
     },
     "metadata": {},
     "output_type": "display_data"
    }
   ],
   "source": [
    "from qualtran.drawing import show_bloqs\n",
    "show_bloqs([plaquette],\n",
    "           ['`plaquette`'])"
   ]
  },
  {
   "cell_type": "markdown",
   "id": "7a3ebc1c",
   "metadata": {
    "cq.autogen": "HoppingPlaquette.call_graph.md"
   },
   "source": [
    "### Call Graph"
   ]
  },
  {
   "cell_type": "code",
   "execution_count": 9,
   "id": "ba578fcc",
   "metadata": {
    "cq.autogen": "HoppingPlaquette.call_graph.py"
   },
   "outputs": [
    {
     "data": {
      "image/svg+xml": [
       "<svg xmlns=\"http://www.w3.org/2000/svg\" xmlns:xlink=\"http://www.w3.org/1999/xlink\" width=\"162pt\" height=\"131pt\" viewBox=\"0.00 0.00 162.00 131.00\">\n",
       "<g id=\"graph0\" class=\"graph\" transform=\"scale(1 1) rotate(0) translate(4 127)\">\n",
       "<title>counts</title>\n",
       "<polygon fill=\"white\" stroke=\"transparent\" points=\"-4,4 -4,-127 158,-127 158,4 -4,4\"/>\n",
       "<!-- b0 -->\n",
       "<g id=\"node1\" class=\"node\">\n",
       "<title>b0</title>\n",
       "<polygon fill=\"none\" stroke=\"black\" points=\"40,-93 40,-116 128,-116 128,-93 40,-93\"/>\n",
       "<text text-anchor=\"start\" x=\"46\" y=\"-102\" font-family=\"Times,serif\" font-size=\"10.00\">HoppingPlaquette</text>\n",
       "</g>\n",
       "<!-- b1 -->\n",
       "<g id=\"node2\" class=\"node\">\n",
       "<title>b1</title>\n",
       "<polygon fill=\"none\" stroke=\"black\" points=\"8,-6 8,-29 74,-29 74,-6 8,-6\"/>\n",
       "<text text-anchor=\"start\" x=\"14.5\" y=\"-15\" font-family=\"Times,serif\" font-size=\"10.00\">TwoBitFFFT</text>\n",
       "</g>\n",
       "<!-- b0&#45;&gt;b1 -->\n",
       "<g id=\"edge1\" class=\"edge\">\n",
       "<title>b0-&gt;b1</title>\n",
       "<path fill=\"none\" stroke=\"black\" d=\"M75.3,-86.8C69.3,-74.93 61.2,-58.93 54.38,-45.45\"/>\n",
       "<polygon fill=\"black\" stroke=\"black\" points=\"57.33,-43.52 49.69,-36.18 51.08,-46.68 57.33,-43.52\"/>\n",
       "<text text-anchor=\"middle\" x=\"69.5\" y=\"-57.8\" font-family=\"Times,serif\" font-size=\"14.00\">4</text>\n",
       "</g>\n",
       "<!-- b2 -->\n",
       "<g id=\"node3\" class=\"node\">\n",
       "<title>b2</title>\n",
       "<polygon fill=\"none\" stroke=\"black\" points=\"109,-6 109,-29 145,-29 145,-6 109,-6\"/>\n",
       "<text text-anchor=\"start\" x=\"115.5\" y=\"-15\" font-family=\"Times,serif\" font-size=\"10.00\">Rz(8)</text>\n",
       "</g>\n",
       "<!-- b0&#45;&gt;b2 -->\n",
       "<g id=\"edge2\" class=\"edge\">\n",
       "<title>b0-&gt;b2</title>\n",
       "<path fill=\"none\" stroke=\"black\" d=\"M92.7,-86.8C98.7,-74.93 106.8,-58.93 113.62,-45.45\"/>\n",
       "<polygon fill=\"black\" stroke=\"black\" points=\"116.92,-46.68 118.31,-36.18 110.67,-43.52 116.92,-46.68\"/>\n",
       "<text text-anchor=\"middle\" x=\"111.5\" y=\"-57.8\" font-family=\"Times,serif\" font-size=\"14.00\">2</text>\n",
       "</g>\n",
       "</g>\n",
       "</svg>"
      ],
      "text/plain": [
       "<IPython.core.display.SVG object>"
      ]
     },
     "metadata": {},
     "output_type": "display_data"
    },
    {
     "data": {
      "text/markdown": [
       "#### Counts totals:\n",
       " - `Rz(8)`: 2\n",
       " - `TwoBitFFFT`: 4"
      ],
      "text/plain": [
       "<IPython.core.display.Markdown object>"
      ]
     },
     "metadata": {},
     "output_type": "display_data"
    }
   ],
   "source": [
    "from qualtran.resource_counting.generalizers import ignore_split_join\n",
    "plaquette_g, plaquette_sigma = plaquette.call_graph(max_depth=1, generalizer=ignore_split_join)\n",
    "show_call_graph(plaquette_g)\n",
    "show_counts_sigma(plaquette_sigma)"
   ]
  },
  {
   "cell_type": "markdown",
   "id": "b99592ea",
   "metadata": {
    "cq.autogen": "Interaction.bloq_doc.md"
   },
   "source": [
    "## `Interaction`\n",
    "Bloq implementing the hubbard U part of the hamiltonian.\n",
    "\n",
    "Specifically:\n",
    "$$\n",
    "    U_I = e^{i t H_I}\n",
    "$$\n",
    "which can be implemented using equal angle single-qubit Z rotations.\n",
    "\n",
    "#### Parameters\n",
    " - `length`: Lattice length $L$.\n",
    " - `angle`: The prefactor scaling the Hopping hamiltonian in the unitary (`t` above). This should contain any relevant prefactors including the time step and any splitting coefficients.\n",
    " - `hubb_u`: The hubbard $U$ parameter.\n",
    " - `eps`: The precision of the single qubit rotations. \n",
    "\n",
    "#### Registers\n",
    " - `system`: The system register of size 2 `length`. \n",
    "\n",
    "#### References\n",
    " - [Early fault-tolerant simulations of the Hubbard model](https://arxiv.org/abs/2012.09238). Eq. 6 page 2 and page 13 paragraph 1.\n"
   ]
  },
  {
   "cell_type": "code",
   "execution_count": 10,
   "id": "99538cc0",
   "metadata": {
    "cq.autogen": "Interaction.bloq_doc.py"
   },
   "outputs": [],
   "source": [
    "from qualtran.bloqs.chemistry.trotter.hubbard.interaction import Interaction"
   ]
  },
  {
   "cell_type": "markdown",
   "id": "a0237960",
   "metadata": {
    "cq.autogen": "Interaction.example_instances.md"
   },
   "source": [
    "### Example Instances"
   ]
  },
  {
   "cell_type": "code",
   "execution_count": 11,
   "id": "f8c459ce",
   "metadata": {
    "cq.autogen": "Interaction.interaction"
   },
   "outputs": [],
   "source": [
    "length = 8\n",
    "angle = 0.5\n",
    "hubb_u = 4.0\n",
    "interaction = Interaction(length, angle, hubb_u)"
   ]
  },
  {
   "cell_type": "markdown",
   "id": "3514c727",
   "metadata": {
    "cq.autogen": "Interaction.graphical_signature.md"
   },
   "source": [
    "#### Graphical Signature"
   ]
  },
  {
   "cell_type": "code",
   "execution_count": 12,
   "id": "79203ad1",
   "metadata": {
    "cq.autogen": "Interaction.graphical_signature.py"
   },
   "outputs": [
    {
     "data": {
      "application/vnd.jupyter.widget-view+json": {
       "model_id": "a392fd0ec196463b9d539a2a3a54548d",
       "version_major": 2,
       "version_minor": 0
      },
      "text/plain": [
       "HBox(children=(Output(outputs=({'output_type': 'display_data', 'data': {'text/plain': '<IPython.core.display.M…"
      ]
     },
     "metadata": {},
     "output_type": "display_data"
    }
   ],
   "source": [
    "from qualtran.drawing import show_bloqs\n",
    "show_bloqs([interaction],\n",
    "           ['`interaction`'])"
   ]
  },
  {
   "cell_type": "markdown",
   "id": "d0499611",
   "metadata": {
    "cq.autogen": "Interaction.call_graph.md"
   },
   "source": [
    "### Call Graph"
   ]
  },
  {
   "cell_type": "code",
   "execution_count": 13,
   "id": "7fcbb401",
   "metadata": {
    "cq.autogen": "Interaction.call_graph.py"
   },
   "outputs": [
    {
     "data": {
      "image/svg+xml": [
       "<svg xmlns=\"http://www.w3.org/2000/svg\" xmlns:xlink=\"http://www.w3.org/1999/xlink\" width=\"82pt\" height=\"131pt\" viewBox=\"0.00 0.00 82.00 131.00\">\n",
       "<g id=\"graph0\" class=\"graph\" transform=\"scale(1 1) rotate(0) translate(4 127)\">\n",
       "<title>counts</title>\n",
       "<polygon fill=\"white\" stroke=\"transparent\" points=\"-4,4 -4,-127 78,-127 78,4 -4,4\"/>\n",
       "<!-- b0 -->\n",
       "<g id=\"node1\" class=\"node\">\n",
       "<title>b0</title>\n",
       "<polygon fill=\"none\" stroke=\"black\" points=\"8,-93 8,-116 66,-116 66,-93 8,-93\"/>\n",
       "<text text-anchor=\"start\" x=\"14.5\" y=\"-102\" font-family=\"Times,serif\" font-size=\"10.00\">Interaction</text>\n",
       "</g>\n",
       "<!-- b1 -->\n",
       "<g id=\"node2\" class=\"node\">\n",
       "<title>b1</title>\n",
       "<polygon fill=\"none\" stroke=\"black\" points=\"15,-6 15,-29 59,-29 59,-6 15,-6\"/>\n",
       "<text text-anchor=\"start\" x=\"21.5\" y=\"-15\" font-family=\"Times,serif\" font-size=\"10.00\">Rz(2.0)</text>\n",
       "</g>\n",
       "<!-- b0&#45;&gt;b1 -->\n",
       "<g id=\"edge1\" class=\"edge\">\n",
       "<title>b0-&gt;b1</title>\n",
       "<path fill=\"none\" stroke=\"black\" d=\"M37,-86.8C37,-75.16 37,-59.55 37,-46.24\"/>\n",
       "<polygon fill=\"black\" stroke=\"black\" points=\"40.5,-46.18 37,-36.18 33.5,-46.18 40.5,-46.18\"/>\n",
       "<text text-anchor=\"middle\" x=\"44\" y=\"-57.8\" font-family=\"Times,serif\" font-size=\"14.00\">64</text>\n",
       "</g>\n",
       "</g>\n",
       "</svg>"
      ],
      "text/plain": [
       "<IPython.core.display.SVG object>"
      ]
     },
     "metadata": {},
     "output_type": "display_data"
    },
    {
     "data": {
      "text/markdown": [
       "#### Counts totals:\n",
       " - `Rz(2.0)`: 64"
      ],
      "text/plain": [
       "<IPython.core.display.Markdown object>"
      ]
     },
     "metadata": {},
     "output_type": "display_data"
    }
   ],
   "source": [
    "from qualtran.resource_counting.generalizers import ignore_split_join\n",
    "interaction_g, interaction_sigma = interaction.call_graph(max_depth=1, generalizer=ignore_split_join)\n",
    "show_call_graph(interaction_g)\n",
    "show_counts_sigma(interaction_sigma)"
   ]
  },
  {
   "cell_type": "markdown",
   "id": "0c78eac2",
   "metadata": {
    "cq.autogen": "HoppingTileHWP.bloq_doc.md"
   },
   "source": [
    "## `HoppingTileHWP`\n",
    "Bloq implementing a \"tile\" of the one-body hopping unitary using Hamming weight phasing.\n",
    "\n",
    "Implements the unitary\n",
    "$$\n",
    "e^{i H_h^{x}} = \\prod_{k\\sigma} e^{i t H_h^{x(k,\\sigma)}}\n",
    "$$\n",
    "for a particular choise of of plaquette hamiltonian $H_h^x$, where $x$ = pink or gold.\n",
    "\n",
    "Each plaquette Hamiltonian can be split into $L^2/4$ commuting terms. Each\n",
    "term can be implemented using the 4-qubit HoppingPlaquette above. The\n",
    "HoppingPlaquette bloq contains 2 arbitrary rotations which are flanked by Clifford operations.\n",
    "All of the rotations within a HoppingTile have the same angle so we can use\n",
    "HammingWeightPhaseing to reduce the number of T gates that need to be\n",
    "synthesized. Accounting for spin there are then $2 \\times 2 \\times L^2/4$\n",
    "arbitrary rotations in each Tile, but only  $L^2/2$ of them can be applied\n",
    "at the same time due to the $e^{iXX} e^{iYY}$ circuit not permitting parallel $R_z$ gates.\n",
    "\n",
    "Unlike in the HoppingTile implementation where we can neatly factor\n",
    "everything into sub-bloqs, here we would need to apply any clifford and F\n",
    "gates first in parallel then bulk apply the rotations in parallel using\n",
    "HammingWeightPhasing and then apply another layer of clifford and F gates.\n",
    "\n",
    "#### Parameters\n",
    " - `length`: Lattice side length L.\n",
    " - `angle`: The prefactor scaling the Hopping hamiltonian in the unitary (`t` above). This should contain any relevant prefactors including the time step and any splitting coefficients.\n",
    " - `tau`: The Hopping hamiltonian parameter. Typically the hubbard model is defined relative to $\\tau$ so it's defaulted to 1.\n",
    " - `eps`: The precision of the single qubit rotations.\n",
    " - `pink`: The colour of the plaquette. \n",
    "\n",
    "#### Registers\n",
    " - `system`: The system register of size 2 `length`. \n",
    "\n",
    "#### References\n",
    " - [Early fault-tolerant simulations of the Hubbard model](https://arxiv.org/abs/2012.09238). Eq. 21 and App E.\n"
   ]
  },
  {
   "cell_type": "code",
   "execution_count": 14,
   "id": "ef1c708d",
   "metadata": {
    "cq.autogen": "HoppingTileHWP.bloq_doc.py"
   },
   "outputs": [],
   "source": [
    "from qualtran.bloqs.chemistry.trotter.hubbard.hopping import HoppingTileHWP"
   ]
  },
  {
   "cell_type": "markdown",
   "id": "c0a98207",
   "metadata": {
    "cq.autogen": "HoppingTileHWP.example_instances.md"
   },
   "source": [
    "### Example Instances"
   ]
  },
  {
   "cell_type": "code",
   "execution_count": 15,
   "id": "e37d83bc",
   "metadata": {
    "cq.autogen": "HoppingTileHWP.hopping_tile_hwp"
   },
   "outputs": [],
   "source": [
    "length = 8\n",
    "angle = 0.15\n",
    "hopping_tile_hwp = HoppingTileHWP(length, angle)"
   ]
  },
  {
   "cell_type": "markdown",
   "id": "f3dd8f1d",
   "metadata": {
    "cq.autogen": "HoppingTileHWP.graphical_signature.md"
   },
   "source": [
    "#### Graphical Signature"
   ]
  },
  {
   "cell_type": "code",
   "execution_count": 16,
   "id": "ee96d17f",
   "metadata": {
    "cq.autogen": "HoppingTileHWP.graphical_signature.py"
   },
   "outputs": [
    {
     "data": {
      "application/vnd.jupyter.widget-view+json": {
       "model_id": "be55d91713b34f15bff42af8c7cd82b3",
       "version_major": 2,
       "version_minor": 0
      },
      "text/plain": [
       "HBox(children=(Output(outputs=({'output_type': 'display_data', 'data': {'text/plain': '<IPython.core.display.M…"
      ]
     },
     "metadata": {},
     "output_type": "display_data"
    }
   ],
   "source": [
    "from qualtran.drawing import show_bloqs\n",
    "show_bloqs([hopping_tile_hwp],\n",
    "           ['`hopping_tile_hwp`'])"
   ]
  },
  {
   "cell_type": "markdown",
   "id": "d3a484f4",
   "metadata": {
    "cq.autogen": "HoppingTileHWP.call_graph.md"
   },
   "source": [
    "### Call Graph"
   ]
  },
  {
   "cell_type": "code",
   "execution_count": 17,
   "id": "a6c1a69a",
   "metadata": {
    "cq.autogen": "HoppingTileHWP.call_graph.py"
   },
   "outputs": [
    {
     "data": {
      "image/svg+xml": [
       "<svg xmlns=\"http://www.w3.org/2000/svg\" xmlns:xlink=\"http://www.w3.org/1999/xlink\" width=\"240pt\" height=\"131pt\" viewBox=\"0.00 0.00 240.00 131.00\">\n",
       "<g id=\"graph0\" class=\"graph\" transform=\"scale(1 1) rotate(0) translate(4 127)\">\n",
       "<title>counts</title>\n",
       "<polygon fill=\"white\" stroke=\"transparent\" points=\"-4,4 -4,-127 236,-127 236,4 -4,4\"/>\n",
       "<!-- b0 -->\n",
       "<g id=\"node1\" class=\"node\">\n",
       "<title>b0</title>\n",
       "<polygon fill=\"none\" stroke=\"black\" points=\"59,-93 59,-116 147,-116 147,-93 59,-93\"/>\n",
       "<text text-anchor=\"start\" x=\"65\" y=\"-102\" font-family=\"Times,serif\" font-size=\"10.00\">HoppingTileHWP</text>\n",
       "</g>\n",
       "<!-- b1 -->\n",
       "<g id=\"node2\" class=\"node\">\n",
       "<title>b1</title>\n",
       "<polygon fill=\"none\" stroke=\"black\" points=\"8,-6 8,-29 74,-29 74,-6 8,-6\"/>\n",
       "<text text-anchor=\"start\" x=\"14.5\" y=\"-15\" font-family=\"Times,serif\" font-size=\"10.00\">TwoBitFFFT</text>\n",
       "</g>\n",
       "<!-- b0&#45;&gt;b1 -->\n",
       "<g id=\"edge1\" class=\"edge\">\n",
       "<title>b0-&gt;b1</title>\n",
       "<path fill=\"none\" stroke=\"black\" d=\"M90.45,-86.8C81.55,-74.59 69.44,-57.99 59.44,-44.28\"/>\n",
       "<polygon fill=\"black\" stroke=\"black\" points=\"62.25,-42.19 53.53,-36.18 56.59,-46.32 62.25,-42.19\"/>\n",
       "<text text-anchor=\"middle\" x=\"86.5\" y=\"-57.8\" font-family=\"Times,serif\" font-size=\"14.00\">128</text>\n",
       "</g>\n",
       "<!-- b2 -->\n",
       "<g id=\"node3\" class=\"node\">\n",
       "<title>b2</title>\n",
       "<polygon fill=\"none\" stroke=\"black\" points=\"108,-6 108,-29 224,-29 224,-6 108,-6\"/>\n",
       "<text text-anchor=\"start\" x=\"114.5\" y=\"-15\" font-family=\"Times,serif\" font-size=\"10.00\">HammingWeightPhasing</text>\n",
       "</g>\n",
       "<!-- b0&#45;&gt;b2 -->\n",
       "<g id=\"edge2\" class=\"edge\">\n",
       "<title>b0-&gt;b2</title>\n",
       "<path fill=\"none\" stroke=\"black\" d=\"M115.75,-86.8C124.8,-74.59 137.1,-57.99 147.26,-44.28\"/>\n",
       "<polygon fill=\"black\" stroke=\"black\" points=\"150.13,-46.29 153.27,-36.18 144.5,-42.13 150.13,-46.29\"/>\n",
       "<text text-anchor=\"middle\" x=\"141.5\" y=\"-57.8\" font-family=\"Times,serif\" font-size=\"14.00\">2</text>\n",
       "</g>\n",
       "</g>\n",
       "</svg>"
      ],
      "text/plain": [
       "<IPython.core.display.SVG object>"
      ]
     },
     "metadata": {},
     "output_type": "display_data"
    },
    {
     "data": {
      "text/markdown": [
       "#### Counts totals:\n",
       " - `HammingWeightPhasing`: 2\n",
       " - `TwoBitFFFT`: 128"
      ],
      "text/plain": [
       "<IPython.core.display.Markdown object>"
      ]
     },
     "metadata": {},
     "output_type": "display_data"
    }
   ],
   "source": [
    "from qualtran.resource_counting.generalizers import ignore_split_join\n",
    "hopping_tile_hwp_g, hopping_tile_hwp_sigma = hopping_tile_hwp.call_graph(max_depth=1, generalizer=ignore_split_join)\n",
    "show_call_graph(hopping_tile_hwp_g)\n",
    "show_counts_sigma(hopping_tile_hwp_sigma)"
   ]
  },
  {
   "cell_type": "markdown",
   "id": "f6ae394e",
   "metadata": {
    "cq.autogen": "InteractionHWP.bloq_doc.md"
   },
   "source": [
    "## `InteractionHWP`\n",
    "Bloq implementing the hubbard U part of the hamiltonian using Hamming weight phasing.\n",
    "\n",
    "Specifically:\n",
    "$$\n",
    "    U_I = e^{i t H_I}\n",
    "$$\n",
    "which can be implemented using equal angle single-qubit Z rotations.\n",
    "\n",
    "Each interaction term can be implemented using a e^{iZZ} gate, which\n",
    "decomposes into a single Rz gate flanked by cliffords. There are L^2\n",
    "equal angle rotations in total all of which may be applied in parallel using HWP.\n",
    "\n",
    "#### Parameters\n",
    " - `length`: Lattice length L.\n",
    " - `angle`: The rotation angle for unitary.\n",
    " - `hubb_u`: The hubbard U parameter.\n",
    " - `eps`: The precision for single qubit rotations. \n",
    "\n",
    "#### Registers\n",
    " - `system`: The system register of size 2 `length`. \n",
    "\n",
    "#### References\n",
    " - [Early fault-tolerant simulations of the Hubbard model](https://arxiv.org/abs/2012.09238). Eq. page 13 paragraph 1, and page 14 paragraph 3 right column. They apply 2 batches of $L^2/2$ rotations.\n"
   ]
  },
  {
   "cell_type": "code",
   "execution_count": 18,
   "id": "dc032232",
   "metadata": {
    "cq.autogen": "InteractionHWP.bloq_doc.py"
   },
   "outputs": [],
   "source": [
    "from qualtran.bloqs.chemistry.trotter.hubbard.interaction import InteractionHWP"
   ]
  },
  {
   "cell_type": "markdown",
   "id": "14a37bd0",
   "metadata": {
    "cq.autogen": "InteractionHWP.example_instances.md"
   },
   "source": [
    "### Example Instances"
   ]
  },
  {
   "cell_type": "code",
   "execution_count": 19,
   "id": "c8e4267a",
   "metadata": {
    "cq.autogen": "InteractionHWP.interaction_hwp"
   },
   "outputs": [],
   "source": [
    "length = 8\n",
    "angle = 0.52728\n",
    "hubb_u = 4.0\n",
    "interaction_hwp = InteractionHWP(length, angle, hubb_u)"
   ]
  },
  {
   "cell_type": "markdown",
   "id": "e27d9884",
   "metadata": {
    "cq.autogen": "InteractionHWP.graphical_signature.md"
   },
   "source": [
    "#### Graphical Signature"
   ]
  },
  {
   "cell_type": "code",
   "execution_count": 20,
   "id": "1205e7b1",
   "metadata": {
    "cq.autogen": "InteractionHWP.graphical_signature.py"
   },
   "outputs": [
    {
     "data": {
      "application/vnd.jupyter.widget-view+json": {
       "model_id": "a23e2f2928a742d3b6d1c16c420f76b7",
       "version_major": 2,
       "version_minor": 0
      },
      "text/plain": [
       "HBox(children=(Output(outputs=({'output_type': 'display_data', 'data': {'text/plain': '<IPython.core.display.M…"
      ]
     },
     "metadata": {},
     "output_type": "display_data"
    }
   ],
   "source": [
    "from qualtran.drawing import show_bloqs\n",
    "show_bloqs([interaction_hwp],\n",
    "           ['`interaction_hwp`'])"
   ]
  },
  {
   "cell_type": "markdown",
   "id": "117c2246",
   "metadata": {
    "cq.autogen": "InteractionHWP.call_graph.md"
   },
   "source": [
    "### Call Graph"
   ]
  },
  {
   "cell_type": "code",
   "execution_count": 21,
   "id": "18f68540",
   "metadata": {
    "cq.autogen": "InteractionHWP.call_graph.py"
   },
   "outputs": [
    {
     "data": {
      "image/svg+xml": [
       "<svg xmlns=\"http://www.w3.org/2000/svg\" xmlns:xlink=\"http://www.w3.org/1999/xlink\" width=\"140pt\" height=\"131pt\" viewBox=\"0.00 0.00 140.00 131.00\">\n",
       "<g id=\"graph0\" class=\"graph\" transform=\"scale(1 1) rotate(0) translate(4 127)\">\n",
       "<title>counts</title>\n",
       "<polygon fill=\"white\" stroke=\"transparent\" points=\"-4,4 -4,-127 136,-127 136,4 -4,4\"/>\n",
       "<!-- b0 -->\n",
       "<g id=\"node1\" class=\"node\">\n",
       "<title>b0</title>\n",
       "<polygon fill=\"none\" stroke=\"black\" points=\"26,-93 26,-116 106,-116 106,-93 26,-93\"/>\n",
       "<text text-anchor=\"start\" x=\"32.5\" y=\"-102\" font-family=\"Times,serif\" font-size=\"10.00\">InteractionHWP</text>\n",
       "</g>\n",
       "<!-- b1 -->\n",
       "<g id=\"node2\" class=\"node\">\n",
       "<title>b1</title>\n",
       "<polygon fill=\"none\" stroke=\"black\" points=\"8,-6 8,-29 124,-29 124,-6 8,-6\"/>\n",
       "<text text-anchor=\"start\" x=\"14.5\" y=\"-15\" font-family=\"Times,serif\" font-size=\"10.00\">HammingWeightPhasing</text>\n",
       "</g>\n",
       "<!-- b0&#45;&gt;b1 -->\n",
       "<g id=\"edge1\" class=\"edge\">\n",
       "<title>b0-&gt;b1</title>\n",
       "<path fill=\"none\" stroke=\"black\" d=\"M66,-86.8C66,-75.16 66,-59.55 66,-46.24\"/>\n",
       "<polygon fill=\"black\" stroke=\"black\" points=\"69.5,-46.18 66,-36.18 62.5,-46.18 69.5,-46.18\"/>\n",
       "<text text-anchor=\"middle\" x=\"69.5\" y=\"-57.8\" font-family=\"Times,serif\" font-size=\"14.00\">2</text>\n",
       "</g>\n",
       "</g>\n",
       "</svg>"
      ],
      "text/plain": [
       "<IPython.core.display.SVG object>"
      ]
     },
     "metadata": {},
     "output_type": "display_data"
    },
    {
     "data": {
      "text/markdown": [
       "#### Counts totals:\n",
       " - `HammingWeightPhasing`: 2"
      ],
      "text/plain": [
       "<IPython.core.display.Markdown object>"
      ]
     },
     "metadata": {},
     "output_type": "display_data"
    }
   ],
   "source": [
    "from qualtran.resource_counting.generalizers import ignore_split_join\n",
    "interaction_hwp_g, interaction_hwp_sigma = interaction_hwp.call_graph(max_depth=1, generalizer=ignore_split_join)\n",
    "show_call_graph(interaction_hwp_g)\n",
    "show_counts_sigma(interaction_hwp_sigma)"
   ]
  }
 ],
 "metadata": {
  "kernelspec": {
   "display_name": "Python 3",
   "language": "python",
   "name": "python3"
  },
  "language_info": {
   "codemirror_mode": {
    "name": "ipython",
    "version": 3
   },
   "file_extension": ".py",
   "mimetype": "text/x-python",
   "name": "python",
   "nbconvert_exporter": "python",
   "pygments_lexer": "ipython3",
   "version": "3.11.8"
  },
  "widgets": {
   "application/vnd.jupyter.widget-state+json": {
    "state": {
     "069db068573c433b8b2051057b51eb43": {
      "model_module": "@jupyter-widgets/base",
      "model_module_version": "2.0.0",
      "model_name": "LayoutModel",
      "state": {
       "_model_module": "@jupyter-widgets/base",
       "_model_module_version": "2.0.0",
       "_model_name": "LayoutModel",
       "_view_count": null,
       "_view_module": "@jupyter-widgets/base",
       "_view_module_version": "2.0.0",
       "_view_name": "LayoutView",
       "align_content": null,
       "align_items": null,
       "align_self": null,
       "border_bottom": null,
       "border_left": null,
       "border_right": null,
       "border_top": null,
       "bottom": null,
       "display": null,
       "flex": null,
       "flex_flow": null,
       "grid_area": null,
       "grid_auto_columns": null,
       "grid_auto_flow": null,
       "grid_auto_rows": null,
       "grid_column": null,
       "grid_gap": null,
       "grid_row": null,
       "grid_template_areas": null,
       "grid_template_columns": null,
       "grid_template_rows": null,
       "height": null,
       "justify_content": null,
       "justify_items": null,
       "left": null,
       "margin": null,
       "max_height": null,
       "max_width": null,
       "min_height": null,
       "min_width": null,
       "object_fit": null,
       "object_position": null,
       "order": null,
       "overflow": null,
       "padding": null,
       "right": null,
       "top": null,
       "visibility": null,
       "width": null
      }
     },
     "2513c28170884eeb9507f76df2da79fa": {
      "model_module": "@jupyter-widgets/base",
      "model_module_version": "2.0.0",
      "model_name": "LayoutModel",
      "state": {
       "_model_module": "@jupyter-widgets/base",
       "_model_module_version": "2.0.0",
       "_model_name": "LayoutModel",
       "_view_count": null,
       "_view_module": "@jupyter-widgets/base",
       "_view_module_version": "2.0.0",
       "_view_name": "LayoutView",
       "align_content": null,
       "align_items": null,
       "align_self": null,
       "border_bottom": null,
       "border_left": null,
       "border_right": null,
       "border_top": null,
       "bottom": null,
       "display": null,
       "flex": null,
       "flex_flow": null,
       "grid_area": null,
       "grid_auto_columns": null,
       "grid_auto_flow": null,
       "grid_auto_rows": null,
       "grid_column": null,
       "grid_gap": null,
       "grid_row": null,
       "grid_template_areas": null,
       "grid_template_columns": null,
       "grid_template_rows": null,
       "height": null,
       "justify_content": null,
       "justify_items": null,
       "left": null,
       "margin": null,
       "max_height": null,
       "max_width": null,
       "min_height": null,
       "min_width": null,
       "object_fit": null,
       "object_position": null,
       "order": null,
       "overflow": null,
       "padding": null,
       "right": null,
       "top": null,
       "visibility": null,
       "width": null
      }
     },
     "35168737c2e2432d911bf157a583b001": {
      "model_module": "@jupyter-widgets/output",
      "model_module_version": "1.0.0",
      "model_name": "OutputModel",
      "state": {
       "_dom_classes": [],
       "_model_module": "@jupyter-widgets/output",
       "_model_module_version": "1.0.0",
       "_model_name": "OutputModel",
       "_view_count": null,
       "_view_module": "@jupyter-widgets/output",
       "_view_module_version": "1.0.0",
       "_view_name": "OutputView",
       "layout": "IPY_MODEL_8387158a53594272b186fc9492d27816",
       "msg_id": "",
       "outputs": [
        {
         "data": {
          "text/markdown": "`plaquette`",
          "text/plain": "<IPython.core.display.Markdown object>"
         },
         "metadata": {},
         "output_type": "display_data"
        },
        {
         "data": {
          "image/svg+xml": "<svg xmlns=\"http://www.w3.org/2000/svg\" xmlns:xlink=\"http://www.w3.org/1999/xlink\" width=\"294pt\" height=\"206pt\" viewBox=\"0.00 0.00 294.00 206.00\">\n<g id=\"graph0\" class=\"graph\" transform=\"scale(1 1) rotate(0) translate(4 202)\">\n<title>my_graph</title>\n<polygon fill=\"white\" stroke=\"transparent\" points=\"-4,4 -4,-202 290,-202 290,4 -4,4\"/>\n<!-- qubits_G7 -->\n<g id=\"node1\" class=\"node\">\n<title>qubits_G7</title>\n<text text-anchor=\"middle\" x=\"32.5\" y=\"-176.3\" font-family=\"Times,serif\" font-size=\"14.00\">qubits[0]</text>\n</g>\n<!-- HoppingPlaquette -->\n<g id=\"node5\" class=\"node\">\n<title>HoppingPlaquette</title>\n<polygon fill=\"none\" stroke=\"black\" points=\"102,-141 102,-158 184,-158 184,-141 102,-141\"/>\n<text text-anchor=\"start\" x=\"105\" y=\"-147\" font-family=\"Times,serif\" font-size=\"10.00\">HoppingPlaquette</text>\n<polygon fill=\"none\" stroke=\"black\" points=\"102,-120 102,-141 184,-141 184,-120 102,-120\"/>\n<text text-anchor=\"start\" x=\"118.5\" y=\"-126.8\" font-family=\"Times,serif\" font-size=\"14.00\">qubits[0]</text>\n<polygon fill=\"none\" stroke=\"black\" points=\"102,-99 102,-120 184,-120 184,-99 102,-99\"/>\n<text text-anchor=\"start\" x=\"118.5\" y=\"-105.8\" font-family=\"Times,serif\" font-size=\"14.00\">qubits[1]</text>\n<polygon fill=\"none\" stroke=\"black\" points=\"102,-78 102,-99 184,-99 184,-78 102,-78\"/>\n<text text-anchor=\"start\" x=\"118.5\" y=\"-84.8\" font-family=\"Times,serif\" font-size=\"14.00\">qubits[2]</text>\n<polygon fill=\"none\" stroke=\"black\" points=\"102,-57 102,-78 184,-78 184,-57 102,-57\"/>\n<text text-anchor=\"start\" x=\"118.5\" y=\"-63.8\" font-family=\"Times,serif\" font-size=\"14.00\">qubits[3]</text>\n</g>\n<!-- qubits_G7&#45;&gt;HoppingPlaquette -->\n<g id=\"edge1\" class=\"edge\">\n<title>qubits_G7:e-&gt;HoppingPlaquette:w</title>\n<path fill=\"none\" stroke=\"black\" d=\"M65,-180C91.54,-180 75.64,-133.64 99.86,-131.11\"/>\n<ellipse fill=\"black\" stroke=\"black\" cx=\"101\" cy=\"-131.05\" rx=\"1\" ry=\"1\"/>\n<text text-anchor=\"middle\" x=\"83.5\" y=\"-159\" font-family=\"Times,serif\" font-size=\"10.00\">1</text>\n</g>\n<!-- qubits_G1 -->\n<g id=\"node2\" class=\"node\">\n<title>qubits_G1</title>\n<text text-anchor=\"middle\" x=\"32.5\" y=\"-122.3\" font-family=\"Times,serif\" font-size=\"14.00\">qubits[1]</text>\n</g>\n<!-- qubits_G1&#45;&gt;HoppingPlaquette -->\n<g id=\"edge2\" class=\"edge\">\n<title>qubits_G1:e-&gt;HoppingPlaquette:w</title>\n<path fill=\"none\" stroke=\"black\" d=\"M65,-126C82.22,-126 83.97,-111.23 99.98,-110.07\"/>\n<ellipse fill=\"black\" stroke=\"black\" cx=\"101\" cy=\"-110.04\" rx=\"1\" ry=\"1\"/>\n<text text-anchor=\"middle\" x=\"83.5\" y=\"-121\" font-family=\"Times,serif\" font-size=\"10.00\">1</text>\n</g>\n<!-- qubits_G0 -->\n<g id=\"node3\" class=\"node\">\n<title>qubits_G0</title>\n<text text-anchor=\"middle\" x=\"32.5\" y=\"-68.3\" font-family=\"Times,serif\" font-size=\"14.00\">qubits[2]</text>\n</g>\n<!-- qubits_G0&#45;&gt;HoppingPlaquette -->\n<g id=\"edge3\" class=\"edge\">\n<title>qubits_G0:e-&gt;HoppingPlaquette:w</title>\n<path fill=\"none\" stroke=\"black\" d=\"M65,-72C82.22,-72 83.97,-86.77 99.98,-87.93\"/>\n<ellipse fill=\"black\" stroke=\"black\" cx=\"101\" cy=\"-87.96\" rx=\"1\" ry=\"1\"/>\n<text text-anchor=\"middle\" x=\"83.5\" y=\"-83\" font-family=\"Times,serif\" font-size=\"10.00\">1</text>\n</g>\n<!-- qubits_G3 -->\n<g id=\"node4\" class=\"node\">\n<title>qubits_G3</title>\n<text text-anchor=\"middle\" x=\"32.5\" y=\"-14.3\" font-family=\"Times,serif\" font-size=\"14.00\">qubits[3]</text>\n</g>\n<!-- qubits_G3&#45;&gt;HoppingPlaquette -->\n<g id=\"edge4\" class=\"edge\">\n<title>qubits_G3:e-&gt;HoppingPlaquette:w</title>\n<path fill=\"none\" stroke=\"black\" d=\"M65,-18C91.54,-18 75.64,-64.36 99.86,-66.89\"/>\n<ellipse fill=\"black\" stroke=\"black\" cx=\"101\" cy=\"-66.95\" rx=\"1\" ry=\"1\"/>\n<text text-anchor=\"middle\" x=\"83.5\" y=\"-47\" font-family=\"Times,serif\" font-size=\"10.00\">1</text>\n</g>\n<!-- qubits_G8 -->\n<g id=\"node6\" class=\"node\">\n<title>qubits_G8</title>\n<text text-anchor=\"middle\" x=\"253.5\" y=\"-176.3\" font-family=\"Times,serif\" font-size=\"14.00\">qubits[0]</text>\n</g>\n<!-- HoppingPlaquette&#45;&gt;qubits_G8 -->\n<g id=\"edge5\" class=\"edge\">\n<title>HoppingPlaquette:e-&gt;qubits_G8:w</title>\n<path fill=\"none\" stroke=\"black\" d=\"M184,-131C210.54,-131 194.64,-177.36 218.86,-179.89\"/>\n<ellipse fill=\"black\" stroke=\"black\" cx=\"220\" cy=\"-179.95\" rx=\"1\" ry=\"1\"/>\n<text text-anchor=\"middle\" x=\"202.5\" y=\"-159\" font-family=\"Times,serif\" font-size=\"10.00\">1</text>\n</g>\n<!-- qubits_G6 -->\n<g id=\"node7\" class=\"node\">\n<title>qubits_G6</title>\n<text text-anchor=\"middle\" x=\"253.5\" y=\"-122.3\" font-family=\"Times,serif\" font-size=\"14.00\">qubits[1]</text>\n</g>\n<!-- HoppingPlaquette&#45;&gt;qubits_G6 -->\n<g id=\"edge6\" class=\"edge\">\n<title>HoppingPlaquette:e-&gt;qubits_G6:w</title>\n<path fill=\"none\" stroke=\"black\" d=\"M184,-110C201.22,-110 202.97,-124.77 218.98,-125.93\"/>\n<ellipse fill=\"black\" stroke=\"black\" cx=\"220\" cy=\"-125.96\" rx=\"1\" ry=\"1\"/>\n<text text-anchor=\"middle\" x=\"202.5\" y=\"-121\" font-family=\"Times,serif\" font-size=\"10.00\">1</text>\n</g>\n<!-- qubits_G11 -->\n<g id=\"node8\" class=\"node\">\n<title>qubits_G11</title>\n<text text-anchor=\"middle\" x=\"253.5\" y=\"-68.3\" font-family=\"Times,serif\" font-size=\"14.00\">qubits[2]</text>\n</g>\n<!-- HoppingPlaquette&#45;&gt;qubits_G11 -->\n<g id=\"edge7\" class=\"edge\">\n<title>HoppingPlaquette:e-&gt;qubits_G11:w</title>\n<path fill=\"none\" stroke=\"black\" d=\"M184,-88C201.22,-88 202.97,-73.23 218.98,-72.07\"/>\n<ellipse fill=\"black\" stroke=\"black\" cx=\"220\" cy=\"-72.04\" rx=\"1\" ry=\"1\"/>\n<text text-anchor=\"middle\" x=\"202.5\" y=\"-83\" font-family=\"Times,serif\" font-size=\"10.00\">1</text>\n</g>\n<!-- qubits_G4 -->\n<g id=\"node9\" class=\"node\">\n<title>qubits_G4</title>\n<text text-anchor=\"middle\" x=\"253.5\" y=\"-14.3\" font-family=\"Times,serif\" font-size=\"14.00\">qubits[3]</text>\n</g>\n<!-- HoppingPlaquette&#45;&gt;qubits_G4 -->\n<g id=\"edge8\" class=\"edge\">\n<title>HoppingPlaquette:e-&gt;qubits_G4:w</title>\n<path fill=\"none\" stroke=\"black\" d=\"M184,-67C210.54,-67 194.64,-20.64 218.86,-18.11\"/>\n<ellipse fill=\"black\" stroke=\"black\" cx=\"220\" cy=\"-18.05\" rx=\"1\" ry=\"1\"/>\n<text text-anchor=\"middle\" x=\"202.5\" y=\"-47\" font-family=\"Times,serif\" font-size=\"10.00\">1</text>\n</g>\n</g>\n</svg>",
          "text/plain": "<IPython.core.display.SVG object>"
         },
         "metadata": {},
         "output_type": "display_data"
        }
       ],
       "tabbable": null,
       "tooltip": null
      }
     },
     "61b048fd2edd4e7b890e326b0be5d78f": {
      "model_module": "@jupyter-widgets/base",
      "model_module_version": "2.0.0",
      "model_name": "LayoutModel",
      "state": {
       "_model_module": "@jupyter-widgets/base",
       "_model_module_version": "2.0.0",
       "_model_name": "LayoutModel",
       "_view_count": null,
       "_view_module": "@jupyter-widgets/base",
       "_view_module_version": "2.0.0",
       "_view_name": "LayoutView",
       "align_content": null,
       "align_items": null,
       "align_self": null,
       "border_bottom": null,
       "border_left": null,
       "border_right": null,
       "border_top": null,
       "bottom": null,
       "display": null,
       "flex": null,
       "flex_flow": null,
       "grid_area": null,
       "grid_auto_columns": null,
       "grid_auto_flow": null,
       "grid_auto_rows": null,
       "grid_column": null,
       "grid_gap": null,
       "grid_row": null,
       "grid_template_areas": null,
       "grid_template_columns": null,
       "grid_template_rows": null,
       "height": null,
       "justify_content": null,
       "justify_items": null,
       "left": null,
       "margin": null,
       "max_height": null,
       "max_width": null,
       "min_height": null,
       "min_width": null,
       "object_fit": null,
       "object_position": null,
       "order": null,
       "overflow": null,
       "padding": null,
       "right": null,
       "top": null,
       "visibility": null,
       "width": null
      }
     },
     "6d16c1fdfb3242d5876365b4094a1654": {
      "model_module": "@jupyter-widgets/output",
      "model_module_version": "1.0.0",
      "model_name": "OutputModel",
      "state": {
       "_dom_classes": [],
       "_model_module": "@jupyter-widgets/output",
       "_model_module_version": "1.0.0",
       "_model_name": "OutputModel",
       "_view_count": null,
       "_view_module": "@jupyter-widgets/output",
       "_view_module_version": "1.0.0",
       "_view_name": "OutputView",
       "layout": "IPY_MODEL_61b048fd2edd4e7b890e326b0be5d78f",
       "msg_id": "",
       "outputs": [
        {
         "data": {
          "text/markdown": "`hopping_tile`",
          "text/plain": "<IPython.core.display.Markdown object>"
         },
         "metadata": {},
         "output_type": "display_data"
        },
        {
         "data": {
          "image/svg+xml": "<svg xmlns=\"http://www.w3.org/2000/svg\" xmlns:xlink=\"http://www.w3.org/1999/xlink\" width=\"285pt\" height=\"98pt\" viewBox=\"0.00 0.00 285.00 98.00\">\n<g id=\"graph0\" class=\"graph\" transform=\"scale(1 1) rotate(0) translate(4 94)\">\n<title>my_graph</title>\n<polygon fill=\"white\" stroke=\"transparent\" points=\"-4,4 -4,-94 281,-94 281,4 -4,4\"/>\n<!-- system_G2 -->\n<g id=\"node1\" class=\"node\">\n<title>system_G2</title>\n<text text-anchor=\"middle\" x=\"35.5\" y=\"-68.3\" font-family=\"Times,serif\" font-size=\"14.00\">system[0]</text>\n</g>\n<!-- HoppingTile -->\n<g id=\"node3\" class=\"node\">\n<title>HoppingTile</title>\n<polygon fill=\"none\" stroke=\"black\" points=\"108.5,-66 108.5,-83 169.5,-83 169.5,-66 108.5,-66\"/>\n<text text-anchor=\"start\" x=\"112.5\" y=\"-72\" font-family=\"Times,serif\" font-size=\"10.00\">HoppingTile</text>\n<polygon fill=\"none\" stroke=\"black\" points=\"108.5,-45 108.5,-66 169.5,-66 169.5,-45 108.5,-45\"/>\n<text text-anchor=\"start\" x=\"111.5\" y=\"-51.8\" font-family=\"Times,serif\" font-size=\"14.00\">system[0]</text>\n<polygon fill=\"none\" stroke=\"black\" points=\"108.5,-24 108.5,-45 169.5,-45 169.5,-24 108.5,-24\"/>\n<text text-anchor=\"start\" x=\"111.5\" y=\"-30.8\" font-family=\"Times,serif\" font-size=\"14.00\">system[1]</text>\n</g>\n<!-- system_G2&#45;&gt;HoppingTile -->\n<g id=\"edge1\" class=\"edge\">\n<title>system_G2:e-&gt;HoppingTile:w</title>\n<path fill=\"none\" stroke=\"black\" d=\"M71,-72C88.22,-72 89.97,-57.23 105.98,-56.07\"/>\n<ellipse fill=\"black\" stroke=\"black\" cx=\"107\" cy=\"-56.04\" rx=\"1\" ry=\"1\"/>\n<text text-anchor=\"middle\" x=\"89.5\" y=\"-67\" font-family=\"Times,serif\" font-size=\"10.00\">8</text>\n</g>\n<!-- system_G3 -->\n<g id=\"node2\" class=\"node\">\n<title>system_G3</title>\n<text text-anchor=\"middle\" x=\"35.5\" y=\"-14.3\" font-family=\"Times,serif\" font-size=\"14.00\">system[1]</text>\n</g>\n<!-- system_G3&#45;&gt;HoppingTile -->\n<g id=\"edge2\" class=\"edge\">\n<title>system_G3:e-&gt;HoppingTile:w</title>\n<path fill=\"none\" stroke=\"black\" d=\"M71,-18C88.22,-18 89.97,-32.77 105.98,-33.93\"/>\n<ellipse fill=\"black\" stroke=\"black\" cx=\"107\" cy=\"-33.96\" rx=\"1\" ry=\"1\"/>\n<text text-anchor=\"middle\" x=\"89.5\" y=\"-29\" font-family=\"Times,serif\" font-size=\"10.00\">8</text>\n</g>\n<!-- system_G1 -->\n<g id=\"node4\" class=\"node\">\n<title>system_G1</title>\n<text text-anchor=\"middle\" x=\"241.5\" y=\"-68.3\" font-family=\"Times,serif\" font-size=\"14.00\">system[0]</text>\n</g>\n<!-- HoppingTile&#45;&gt;system_G1 -->\n<g id=\"edge3\" class=\"edge\">\n<title>HoppingTile:e-&gt;system_G1:w</title>\n<path fill=\"none\" stroke=\"black\" d=\"M169,-56C186.22,-56 187.97,-70.77 203.98,-71.93\"/>\n<ellipse fill=\"black\" stroke=\"black\" cx=\"205\" cy=\"-71.96\" rx=\"1\" ry=\"1\"/>\n<text text-anchor=\"middle\" x=\"187.5\" y=\"-67\" font-family=\"Times,serif\" font-size=\"10.00\">8</text>\n</g>\n<!-- system_G5 -->\n<g id=\"node5\" class=\"node\">\n<title>system_G5</title>\n<text text-anchor=\"middle\" x=\"241.5\" y=\"-14.3\" font-family=\"Times,serif\" font-size=\"14.00\">system[1]</text>\n</g>\n<!-- HoppingTile&#45;&gt;system_G5 -->\n<g id=\"edge4\" class=\"edge\">\n<title>HoppingTile:e-&gt;system_G5:w</title>\n<path fill=\"none\" stroke=\"black\" d=\"M169,-34C186.22,-34 187.97,-19.23 203.98,-18.07\"/>\n<ellipse fill=\"black\" stroke=\"black\" cx=\"205\" cy=\"-18.04\" rx=\"1\" ry=\"1\"/>\n<text text-anchor=\"middle\" x=\"187.5\" y=\"-29\" font-family=\"Times,serif\" font-size=\"10.00\">8</text>\n</g>\n</g>\n</svg>",
          "text/plain": "<IPython.core.display.SVG object>"
         },
         "metadata": {},
         "output_type": "display_data"
        }
       ],
       "tabbable": null,
       "tooltip": null
      }
     },
     "759325e0aa7443d4a677f16b2a6316a2": {
      "model_module": "@jupyter-widgets/base",
      "model_module_version": "2.0.0",
      "model_name": "LayoutModel",
      "state": {
       "_model_module": "@jupyter-widgets/base",
       "_model_module_version": "2.0.0",
       "_model_name": "LayoutModel",
       "_view_count": null,
       "_view_module": "@jupyter-widgets/base",
       "_view_module_version": "2.0.0",
       "_view_name": "LayoutView",
       "align_content": null,
       "align_items": null,
       "align_self": null,
       "border_bottom": null,
       "border_left": null,
       "border_right": null,
       "border_top": null,
       "bottom": null,
       "display": null,
       "flex": null,
       "flex_flow": null,
       "grid_area": null,
       "grid_auto_columns": null,
       "grid_auto_flow": null,
       "grid_auto_rows": null,
       "grid_column": null,
       "grid_gap": null,
       "grid_row": null,
       "grid_template_areas": null,
       "grid_template_columns": null,
       "grid_template_rows": null,
       "height": null,
       "justify_content": null,
       "justify_items": null,
       "left": null,
       "margin": null,
       "max_height": null,
       "max_width": null,
       "min_height": null,
       "min_width": null,
       "object_fit": null,
       "object_position": null,
       "order": null,
       "overflow": null,
       "padding": null,
       "right": null,
       "top": null,
       "visibility": null,
       "width": null
      }
     },
     "806e138baff6429e82e8fecad15447bd": {
      "model_module": "@jupyter-widgets/output",
      "model_module_version": "1.0.0",
      "model_name": "OutputModel",
      "state": {
       "_dom_classes": [],
       "_model_module": "@jupyter-widgets/output",
       "_model_module_version": "1.0.0",
       "_model_name": "OutputModel",
       "_view_count": null,
       "_view_module": "@jupyter-widgets/output",
       "_view_module_version": "1.0.0",
       "_view_name": "OutputView",
       "layout": "IPY_MODEL_966b3d2adf0b4d579500d663e47a8f17",
       "msg_id": "",
       "outputs": [
        {
         "data": {
          "text/markdown": "`interaction_hwp`",
          "text/plain": "<IPython.core.display.Markdown object>"
         },
         "metadata": {},
         "output_type": "display_data"
        },
        {
         "data": {
          "image/svg+xml": "<svg xmlns=\"http://www.w3.org/2000/svg\" xmlns:xlink=\"http://www.w3.org/1999/xlink\" width=\"297pt\" height=\"98pt\" viewBox=\"0.00 0.00 297.00 98.00\">\n<g id=\"graph0\" class=\"graph\" transform=\"scale(1 1) rotate(0) translate(4 94)\">\n<title>my_graph</title>\n<polygon fill=\"white\" stroke=\"transparent\" points=\"-4,4 -4,-94 293,-94 293,4 -4,4\"/>\n<!-- system_G1 -->\n<g id=\"node1\" class=\"node\">\n<title>system_G1</title>\n<text text-anchor=\"middle\" x=\"35.5\" y=\"-68.3\" font-family=\"Times,serif\" font-size=\"14.00\">system[0]</text>\n</g>\n<!-- InteractionHWP -->\n<g id=\"node3\" class=\"node\">\n<title>InteractionHWP</title>\n<polygon fill=\"none\" stroke=\"black\" points=\"108.5,-66 108.5,-83 181.5,-83 181.5,-66 108.5,-66\"/>\n<text text-anchor=\"start\" x=\"111.5\" y=\"-72\" font-family=\"Times,serif\" font-size=\"10.00\">InteractionHWP</text>\n<polygon fill=\"none\" stroke=\"black\" points=\"108.5,-45 108.5,-66 181.5,-66 181.5,-45 108.5,-45\"/>\n<text text-anchor=\"start\" x=\"117.5\" y=\"-51.8\" font-family=\"Times,serif\" font-size=\"14.00\">system[0]</text>\n<polygon fill=\"none\" stroke=\"black\" points=\"108.5,-24 108.5,-45 181.5,-45 181.5,-24 108.5,-24\"/>\n<text text-anchor=\"start\" x=\"117.5\" y=\"-30.8\" font-family=\"Times,serif\" font-size=\"14.00\">system[1]</text>\n</g>\n<!-- system_G1&#45;&gt;InteractionHWP -->\n<g id=\"edge1\" class=\"edge\">\n<title>system_G1:e-&gt;InteractionHWP:w</title>\n<path fill=\"none\" stroke=\"black\" d=\"M71,-72C88.22,-72 89.97,-57.23 105.98,-56.07\"/>\n<ellipse fill=\"black\" stroke=\"black\" cx=\"107\" cy=\"-56.04\" rx=\"1\" ry=\"1\"/>\n<text text-anchor=\"middle\" x=\"89.5\" y=\"-67\" font-family=\"Times,serif\" font-size=\"10.00\">8</text>\n</g>\n<!-- system_G3 -->\n<g id=\"node2\" class=\"node\">\n<title>system_G3</title>\n<text text-anchor=\"middle\" x=\"35.5\" y=\"-14.3\" font-family=\"Times,serif\" font-size=\"14.00\">system[1]</text>\n</g>\n<!-- system_G3&#45;&gt;InteractionHWP -->\n<g id=\"edge2\" class=\"edge\">\n<title>system_G3:e-&gt;InteractionHWP:w</title>\n<path fill=\"none\" stroke=\"black\" d=\"M71,-18C88.22,-18 89.97,-32.77 105.98,-33.93\"/>\n<ellipse fill=\"black\" stroke=\"black\" cx=\"107\" cy=\"-33.96\" rx=\"1\" ry=\"1\"/>\n<text text-anchor=\"middle\" x=\"89.5\" y=\"-29\" font-family=\"Times,serif\" font-size=\"10.00\">8</text>\n</g>\n<!-- system_G0 -->\n<g id=\"node4\" class=\"node\">\n<title>system_G0</title>\n<text text-anchor=\"middle\" x=\"253.5\" y=\"-68.3\" font-family=\"Times,serif\" font-size=\"14.00\">system[0]</text>\n</g>\n<!-- InteractionHWP&#45;&gt;system_G0 -->\n<g id=\"edge3\" class=\"edge\">\n<title>InteractionHWP:e-&gt;system_G0:w</title>\n<path fill=\"none\" stroke=\"black\" d=\"M181,-56C198.22,-56 199.97,-70.77 215.98,-71.93\"/>\n<ellipse fill=\"black\" stroke=\"black\" cx=\"217\" cy=\"-71.96\" rx=\"1\" ry=\"1\"/>\n<text text-anchor=\"middle\" x=\"199.5\" y=\"-67\" font-family=\"Times,serif\" font-size=\"10.00\">8</text>\n</g>\n<!-- system_G4 -->\n<g id=\"node5\" class=\"node\">\n<title>system_G4</title>\n<text text-anchor=\"middle\" x=\"253.5\" y=\"-14.3\" font-family=\"Times,serif\" font-size=\"14.00\">system[1]</text>\n</g>\n<!-- InteractionHWP&#45;&gt;system_G4 -->\n<g id=\"edge4\" class=\"edge\">\n<title>InteractionHWP:e-&gt;system_G4:w</title>\n<path fill=\"none\" stroke=\"black\" d=\"M181,-34C198.22,-34 199.97,-19.23 215.98,-18.07\"/>\n<ellipse fill=\"black\" stroke=\"black\" cx=\"217\" cy=\"-18.04\" rx=\"1\" ry=\"1\"/>\n<text text-anchor=\"middle\" x=\"199.5\" y=\"-29\" font-family=\"Times,serif\" font-size=\"10.00\">8</text>\n</g>\n</g>\n</svg>",
          "text/plain": "<IPython.core.display.SVG object>"
         },
         "metadata": {},
         "output_type": "display_data"
        }
       ],
       "tabbable": null,
       "tooltip": null
      }
     },
     "8387158a53594272b186fc9492d27816": {
      "model_module": "@jupyter-widgets/base",
      "model_module_version": "2.0.0",
      "model_name": "LayoutModel",
      "state": {
       "_model_module": "@jupyter-widgets/base",
       "_model_module_version": "2.0.0",
       "_model_name": "LayoutModel",
       "_view_count": null,
       "_view_module": "@jupyter-widgets/base",
       "_view_module_version": "2.0.0",
       "_view_name": "LayoutView",
       "align_content": null,
       "align_items": null,
       "align_self": null,
       "border_bottom": null,
       "border_left": null,
       "border_right": null,
       "border_top": null,
       "bottom": null,
       "display": null,
       "flex": null,
       "flex_flow": null,
       "grid_area": null,
       "grid_auto_columns": null,
       "grid_auto_flow": null,
       "grid_auto_rows": null,
       "grid_column": null,
       "grid_gap": null,
       "grid_row": null,
       "grid_template_areas": null,
       "grid_template_columns": null,
       "grid_template_rows": null,
       "height": null,
       "justify_content": null,
       "justify_items": null,
       "left": null,
       "margin": null,
       "max_height": null,
       "max_width": null,
       "min_height": null,
       "min_width": null,
       "object_fit": null,
       "object_position": null,
       "order": null,
       "overflow": null,
       "padding": null,
       "right": null,
       "top": null,
       "visibility": null,
       "width": null
      }
     },
     "966b3d2adf0b4d579500d663e47a8f17": {
      "model_module": "@jupyter-widgets/base",
      "model_module_version": "2.0.0",
      "model_name": "LayoutModel",
      "state": {
       "_model_module": "@jupyter-widgets/base",
       "_model_module_version": "2.0.0",
       "_model_name": "LayoutModel",
       "_view_count": null,
       "_view_module": "@jupyter-widgets/base",
       "_view_module_version": "2.0.0",
       "_view_name": "LayoutView",
       "align_content": null,
       "align_items": null,
       "align_self": null,
       "border_bottom": null,
       "border_left": null,
       "border_right": null,
       "border_top": null,
       "bottom": null,
       "display": null,
       "flex": null,
       "flex_flow": null,
       "grid_area": null,
       "grid_auto_columns": null,
       "grid_auto_flow": null,
       "grid_auto_rows": null,
       "grid_column": null,
       "grid_gap": null,
       "grid_row": null,
       "grid_template_areas": null,
       "grid_template_columns": null,
       "grid_template_rows": null,
       "height": null,
       "justify_content": null,
       "justify_items": null,
       "left": null,
       "margin": null,
       "max_height": null,
       "max_width": null,
       "min_height": null,
       "min_width": null,
       "object_fit": null,
       "object_position": null,
       "order": null,
       "overflow": null,
       "padding": null,
       "right": null,
       "top": null,
       "visibility": null,
       "width": null
      }
     },
     "988dba590e934b97bf3cc91f8b2a202d": {
      "model_module": "@jupyter-widgets/base",
      "model_module_version": "2.0.0",
      "model_name": "LayoutModel",
      "state": {
       "_model_module": "@jupyter-widgets/base",
       "_model_module_version": "2.0.0",
       "_model_name": "LayoutModel",
       "_view_count": null,
       "_view_module": "@jupyter-widgets/base",
       "_view_module_version": "2.0.0",
       "_view_name": "LayoutView",
       "align_content": null,
       "align_items": null,
       "align_self": null,
       "border_bottom": null,
       "border_left": null,
       "border_right": null,
       "border_top": null,
       "bottom": null,
       "display": null,
       "flex": null,
       "flex_flow": null,
       "grid_area": null,
       "grid_auto_columns": null,
       "grid_auto_flow": null,
       "grid_auto_rows": null,
       "grid_column": null,
       "grid_gap": null,
       "grid_row": null,
       "grid_template_areas": null,
       "grid_template_columns": null,
       "grid_template_rows": null,
       "height": null,
       "justify_content": null,
       "justify_items": null,
       "left": null,
       "margin": null,
       "max_height": null,
       "max_width": null,
       "min_height": null,
       "min_width": null,
       "object_fit": null,
       "object_position": null,
       "order": null,
       "overflow": null,
       "padding": null,
       "right": null,
       "top": null,
       "visibility": null,
       "width": null
      }
     },
     "a23e2f2928a742d3b6d1c16c420f76b7": {
      "model_module": "@jupyter-widgets/controls",
      "model_module_version": "2.0.0",
      "model_name": "HBoxModel",
      "state": {
       "_dom_classes": [],
       "_model_module": "@jupyter-widgets/controls",
       "_model_module_version": "2.0.0",
       "_model_name": "HBoxModel",
       "_view_count": null,
       "_view_module": "@jupyter-widgets/controls",
       "_view_module_version": "2.0.0",
       "_view_name": "HBoxView",
       "box_style": "",
       "children": [
        "IPY_MODEL_806e138baff6429e82e8fecad15447bd"
       ],
       "layout": "IPY_MODEL_988dba590e934b97bf3cc91f8b2a202d",
       "tabbable": null,
       "tooltip": null
      }
     },
     "a392fd0ec196463b9d539a2a3a54548d": {
      "model_module": "@jupyter-widgets/controls",
      "model_module_version": "2.0.0",
      "model_name": "HBoxModel",
      "state": {
       "_dom_classes": [],
       "_model_module": "@jupyter-widgets/controls",
       "_model_module_version": "2.0.0",
       "_model_name": "HBoxModel",
       "_view_count": null,
       "_view_module": "@jupyter-widgets/controls",
       "_view_module_version": "2.0.0",
       "_view_name": "HBoxView",
       "box_style": "",
       "children": [
        "IPY_MODEL_dcd3870ae8f54127bfce6b1da2588c8b"
       ],
       "layout": "IPY_MODEL_2513c28170884eeb9507f76df2da79fa",
       "tabbable": null,
       "tooltip": null
      }
     },
     "b96d48ea3522443a9a2c9e969313c148": {
      "model_module": "@jupyter-widgets/base",
      "model_module_version": "2.0.0",
      "model_name": "LayoutModel",
      "state": {
       "_model_module": "@jupyter-widgets/base",
       "_model_module_version": "2.0.0",
       "_model_name": "LayoutModel",
       "_view_count": null,
       "_view_module": "@jupyter-widgets/base",
       "_view_module_version": "2.0.0",
       "_view_name": "LayoutView",
       "align_content": null,
       "align_items": null,
       "align_self": null,
       "border_bottom": null,
       "border_left": null,
       "border_right": null,
       "border_top": null,
       "bottom": null,
       "display": null,
       "flex": null,
       "flex_flow": null,
       "grid_area": null,
       "grid_auto_columns": null,
       "grid_auto_flow": null,
       "grid_auto_rows": null,
       "grid_column": null,
       "grid_gap": null,
       "grid_row": null,
       "grid_template_areas": null,
       "grid_template_columns": null,
       "grid_template_rows": null,
       "height": null,
       "justify_content": null,
       "justify_items": null,
       "left": null,
       "margin": null,
       "max_height": null,
       "max_width": null,
       "min_height": null,
       "min_width": null,
       "object_fit": null,
       "object_position": null,
       "order": null,
       "overflow": null,
       "padding": null,
       "right": null,
       "top": null,
       "visibility": null,
       "width": null
      }
     },
     "be55d91713b34f15bff42af8c7cd82b3": {
      "model_module": "@jupyter-widgets/controls",
      "model_module_version": "2.0.0",
      "model_name": "HBoxModel",
      "state": {
       "_dom_classes": [],
       "_model_module": "@jupyter-widgets/controls",
       "_model_module_version": "2.0.0",
       "_model_name": "HBoxModel",
       "_view_count": null,
       "_view_module": "@jupyter-widgets/controls",
       "_view_module_version": "2.0.0",
       "_view_name": "HBoxView",
       "box_style": "",
       "children": [
        "IPY_MODEL_d7b1bfc649b84af2966ebeffcf6ea341"
       ],
       "layout": "IPY_MODEL_069db068573c433b8b2051057b51eb43",
       "tabbable": null,
       "tooltip": null
      }
     },
     "c93bd047836d416cb048e91b0fb254df": {
      "model_module": "@jupyter-widgets/base",
      "model_module_version": "2.0.0",
      "model_name": "LayoutModel",
      "state": {
       "_model_module": "@jupyter-widgets/base",
       "_model_module_version": "2.0.0",
       "_model_name": "LayoutModel",
       "_view_count": null,
       "_view_module": "@jupyter-widgets/base",
       "_view_module_version": "2.0.0",
       "_view_name": "LayoutView",
       "align_content": null,
       "align_items": null,
       "align_self": null,
       "border_bottom": null,
       "border_left": null,
       "border_right": null,
       "border_top": null,
       "bottom": null,
       "display": null,
       "flex": null,
       "flex_flow": null,
       "grid_area": null,
       "grid_auto_columns": null,
       "grid_auto_flow": null,
       "grid_auto_rows": null,
       "grid_column": null,
       "grid_gap": null,
       "grid_row": null,
       "grid_template_areas": null,
       "grid_template_columns": null,
       "grid_template_rows": null,
       "height": null,
       "justify_content": null,
       "justify_items": null,
       "left": null,
       "margin": null,
       "max_height": null,
       "max_width": null,
       "min_height": null,
       "min_width": null,
       "object_fit": null,
       "object_position": null,
       "order": null,
       "overflow": null,
       "padding": null,
       "right": null,
       "top": null,
       "visibility": null,
       "width": null
      }
     },
     "cae0dcbb850944018d3e41dc43309d56": {
      "model_module": "@jupyter-widgets/controls",
      "model_module_version": "2.0.0",
      "model_name": "HBoxModel",
      "state": {
       "_dom_classes": [],
       "_model_module": "@jupyter-widgets/controls",
       "_model_module_version": "2.0.0",
       "_model_name": "HBoxModel",
       "_view_count": null,
       "_view_module": "@jupyter-widgets/controls",
       "_view_module_version": "2.0.0",
       "_view_name": "HBoxView",
       "box_style": "",
       "children": [
        "IPY_MODEL_35168737c2e2432d911bf157a583b001"
       ],
       "layout": "IPY_MODEL_759325e0aa7443d4a677f16b2a6316a2",
       "tabbable": null,
       "tooltip": null
      }
     },
     "ce2ce39dae524d2582b7a6a6356977cf": {
      "model_module": "@jupyter-widgets/base",
      "model_module_version": "2.0.0",
      "model_name": "LayoutModel",
      "state": {
       "_model_module": "@jupyter-widgets/base",
       "_model_module_version": "2.0.0",
       "_model_name": "LayoutModel",
       "_view_count": null,
       "_view_module": "@jupyter-widgets/base",
       "_view_module_version": "2.0.0",
       "_view_name": "LayoutView",
       "align_content": null,
       "align_items": null,
       "align_self": null,
       "border_bottom": null,
       "border_left": null,
       "border_right": null,
       "border_top": null,
       "bottom": null,
       "display": null,
       "flex": null,
       "flex_flow": null,
       "grid_area": null,
       "grid_auto_columns": null,
       "grid_auto_flow": null,
       "grid_auto_rows": null,
       "grid_column": null,
       "grid_gap": null,
       "grid_row": null,
       "grid_template_areas": null,
       "grid_template_columns": null,
       "grid_template_rows": null,
       "height": null,
       "justify_content": null,
       "justify_items": null,
       "left": null,
       "margin": null,
       "max_height": null,
       "max_width": null,
       "min_height": null,
       "min_width": null,
       "object_fit": null,
       "object_position": null,
       "order": null,
       "overflow": null,
       "padding": null,
       "right": null,
       "top": null,
       "visibility": null,
       "width": null
      }
     },
     "d35a79eb8bd14ca3aba66823040df986": {
      "model_module": "@jupyter-widgets/controls",
      "model_module_version": "2.0.0",
      "model_name": "HBoxModel",
      "state": {
       "_dom_classes": [],
       "_model_module": "@jupyter-widgets/controls",
       "_model_module_version": "2.0.0",
       "_model_name": "HBoxModel",
       "_view_count": null,
       "_view_module": "@jupyter-widgets/controls",
       "_view_module_version": "2.0.0",
       "_view_name": "HBoxView",
       "box_style": "",
       "children": [
        "IPY_MODEL_6d16c1fdfb3242d5876365b4094a1654"
       ],
       "layout": "IPY_MODEL_ce2ce39dae524d2582b7a6a6356977cf",
       "tabbable": null,
       "tooltip": null
      }
     },
     "d7b1bfc649b84af2966ebeffcf6ea341": {
      "model_module": "@jupyter-widgets/output",
      "model_module_version": "1.0.0",
      "model_name": "OutputModel",
      "state": {
       "_dom_classes": [],
       "_model_module": "@jupyter-widgets/output",
       "_model_module_version": "1.0.0",
       "_model_name": "OutputModel",
       "_view_count": null,
       "_view_module": "@jupyter-widgets/output",
       "_view_module_version": "1.0.0",
       "_view_name": "OutputView",
       "layout": "IPY_MODEL_b96d48ea3522443a9a2c9e969313c148",
       "msg_id": "",
       "outputs": [
        {
         "data": {
          "text/markdown": "`hopping_tile_hwp`",
          "text/plain": "<IPython.core.display.Markdown object>"
         },
         "metadata": {},
         "output_type": "display_data"
        },
        {
         "data": {
          "image/svg+xml": "<svg xmlns=\"http://www.w3.org/2000/svg\" xmlns:xlink=\"http://www.w3.org/1999/xlink\" width=\"306pt\" height=\"98pt\" viewBox=\"0.00 0.00 306.00 98.00\">\n<g id=\"graph0\" class=\"graph\" transform=\"scale(1 1) rotate(0) translate(4 94)\">\n<title>my_graph</title>\n<polygon fill=\"white\" stroke=\"transparent\" points=\"-4,4 -4,-94 302,-94 302,4 -4,4\"/>\n<!-- system_G1 -->\n<g id=\"node1\" class=\"node\">\n<title>system_G1</title>\n<text text-anchor=\"middle\" x=\"35.5\" y=\"-68.3\" font-family=\"Times,serif\" font-size=\"14.00\">system[0]</text>\n</g>\n<!-- HoppingTileHWP -->\n<g id=\"node3\" class=\"node\">\n<title>HoppingTileHWP</title>\n<polygon fill=\"none\" stroke=\"black\" points=\"108,-66 108,-83 190,-83 190,-66 108,-66\"/>\n<text text-anchor=\"start\" x=\"111\" y=\"-72\" font-family=\"Times,serif\" font-size=\"10.00\">HoppingTileHWP</text>\n<polygon fill=\"none\" stroke=\"black\" points=\"108,-45 108,-66 190,-66 190,-45 108,-45\"/>\n<text text-anchor=\"start\" x=\"121.5\" y=\"-51.8\" font-family=\"Times,serif\" font-size=\"14.00\">system[0]</text>\n<polygon fill=\"none\" stroke=\"black\" points=\"108,-24 108,-45 190,-45 190,-24 108,-24\"/>\n<text text-anchor=\"start\" x=\"121.5\" y=\"-30.8\" font-family=\"Times,serif\" font-size=\"14.00\">system[1]</text>\n</g>\n<!-- system_G1&#45;&gt;HoppingTileHWP -->\n<g id=\"edge1\" class=\"edge\">\n<title>system_G1:e-&gt;HoppingTileHWP:w</title>\n<path fill=\"none\" stroke=\"black\" d=\"M71,-72C88.22,-72 89.97,-57.23 105.98,-56.07\"/>\n<ellipse fill=\"black\" stroke=\"black\" cx=\"107\" cy=\"-56.04\" rx=\"1\" ry=\"1\"/>\n<text text-anchor=\"middle\" x=\"89.5\" y=\"-67\" font-family=\"Times,serif\" font-size=\"10.00\">8</text>\n</g>\n<!-- system_G2 -->\n<g id=\"node2\" class=\"node\">\n<title>system_G2</title>\n<text text-anchor=\"middle\" x=\"35.5\" y=\"-14.3\" font-family=\"Times,serif\" font-size=\"14.00\">system[1]</text>\n</g>\n<!-- system_G2&#45;&gt;HoppingTileHWP -->\n<g id=\"edge2\" class=\"edge\">\n<title>system_G2:e-&gt;HoppingTileHWP:w</title>\n<path fill=\"none\" stroke=\"black\" d=\"M71,-18C88.22,-18 89.97,-32.77 105.98,-33.93\"/>\n<ellipse fill=\"black\" stroke=\"black\" cx=\"107\" cy=\"-33.96\" rx=\"1\" ry=\"1\"/>\n<text text-anchor=\"middle\" x=\"89.5\" y=\"-29\" font-family=\"Times,serif\" font-size=\"10.00\">8</text>\n</g>\n<!-- system_G0 -->\n<g id=\"node4\" class=\"node\">\n<title>system_G0</title>\n<text text-anchor=\"middle\" x=\"262.5\" y=\"-68.3\" font-family=\"Times,serif\" font-size=\"14.00\">system[0]</text>\n</g>\n<!-- HoppingTileHWP&#45;&gt;system_G0 -->\n<g id=\"edge3\" class=\"edge\">\n<title>HoppingTileHWP:e-&gt;system_G0:w</title>\n<path fill=\"none\" stroke=\"black\" d=\"M190,-56C207.22,-56 208.97,-70.77 224.98,-71.93\"/>\n<ellipse fill=\"black\" stroke=\"black\" cx=\"226\" cy=\"-71.96\" rx=\"1\" ry=\"1\"/>\n<text text-anchor=\"middle\" x=\"208.5\" y=\"-67\" font-family=\"Times,serif\" font-size=\"10.00\">8</text>\n</g>\n<!-- system_G4 -->\n<g id=\"node5\" class=\"node\">\n<title>system_G4</title>\n<text text-anchor=\"middle\" x=\"262.5\" y=\"-14.3\" font-family=\"Times,serif\" font-size=\"14.00\">system[1]</text>\n</g>\n<!-- HoppingTileHWP&#45;&gt;system_G4 -->\n<g id=\"edge4\" class=\"edge\">\n<title>HoppingTileHWP:e-&gt;system_G4:w</title>\n<path fill=\"none\" stroke=\"black\" d=\"M190,-34C207.22,-34 208.97,-19.23 224.98,-18.07\"/>\n<ellipse fill=\"black\" stroke=\"black\" cx=\"226\" cy=\"-18.04\" rx=\"1\" ry=\"1\"/>\n<text text-anchor=\"middle\" x=\"208.5\" y=\"-29\" font-family=\"Times,serif\" font-size=\"10.00\">8</text>\n</g>\n</g>\n</svg>",
          "text/plain": "<IPython.core.display.SVG object>"
         },
         "metadata": {},
         "output_type": "display_data"
        }
       ],
       "tabbable": null,
       "tooltip": null
      }
     },
     "dcd3870ae8f54127bfce6b1da2588c8b": {
      "model_module": "@jupyter-widgets/output",
      "model_module_version": "1.0.0",
      "model_name": "OutputModel",
      "state": {
       "_dom_classes": [],
       "_model_module": "@jupyter-widgets/output",
       "_model_module_version": "1.0.0",
       "_model_name": "OutputModel",
       "_view_count": null,
       "_view_module": "@jupyter-widgets/output",
       "_view_module_version": "1.0.0",
       "_view_name": "OutputView",
       "layout": "IPY_MODEL_c93bd047836d416cb048e91b0fb254df",
       "msg_id": "",
       "outputs": [
        {
         "data": {
          "text/markdown": "`interaction`",
          "text/plain": "<IPython.core.display.Markdown object>"
         },
         "metadata": {},
         "output_type": "display_data"
        },
        {
         "data": {
          "image/svg+xml": "<svg xmlns=\"http://www.w3.org/2000/svg\" xmlns:xlink=\"http://www.w3.org/1999/xlink\" width=\"285pt\" height=\"98pt\" viewBox=\"0.00 0.00 285.00 98.00\">\n<g id=\"graph0\" class=\"graph\" transform=\"scale(1 1) rotate(0) translate(4 94)\">\n<title>my_graph</title>\n<polygon fill=\"white\" stroke=\"transparent\" points=\"-4,4 -4,-94 281,-94 281,4 -4,4\"/>\n<!-- system_G2 -->\n<g id=\"node1\" class=\"node\">\n<title>system_G2</title>\n<text text-anchor=\"middle\" x=\"35.5\" y=\"-68.3\" font-family=\"Times,serif\" font-size=\"14.00\">system[0]</text>\n</g>\n<!-- Interaction -->\n<g id=\"node3\" class=\"node\">\n<title>Interaction</title>\n<polygon fill=\"none\" stroke=\"black\" points=\"108.5,-66 108.5,-83 169.5,-83 169.5,-66 108.5,-66\"/>\n<text text-anchor=\"start\" x=\"116.5\" y=\"-72\" font-family=\"Times,serif\" font-size=\"10.00\">Interaction</text>\n<polygon fill=\"none\" stroke=\"black\" points=\"108.5,-45 108.5,-66 169.5,-66 169.5,-45 108.5,-45\"/>\n<text text-anchor=\"start\" x=\"111.5\" y=\"-51.8\" font-family=\"Times,serif\" font-size=\"14.00\">system[0]</text>\n<polygon fill=\"none\" stroke=\"black\" points=\"108.5,-24 108.5,-45 169.5,-45 169.5,-24 108.5,-24\"/>\n<text text-anchor=\"start\" x=\"111.5\" y=\"-30.8\" font-family=\"Times,serif\" font-size=\"14.00\">system[1]</text>\n</g>\n<!-- system_G2&#45;&gt;Interaction -->\n<g id=\"edge1\" class=\"edge\">\n<title>system_G2:e-&gt;Interaction:w</title>\n<path fill=\"none\" stroke=\"black\" d=\"M71,-72C88.22,-72 89.97,-57.23 105.98,-56.07\"/>\n<ellipse fill=\"black\" stroke=\"black\" cx=\"107\" cy=\"-56.04\" rx=\"1\" ry=\"1\"/>\n<text text-anchor=\"middle\" x=\"89.5\" y=\"-67\" font-family=\"Times,serif\" font-size=\"10.00\">8</text>\n</g>\n<!-- system_G5 -->\n<g id=\"node2\" class=\"node\">\n<title>system_G5</title>\n<text text-anchor=\"middle\" x=\"35.5\" y=\"-14.3\" font-family=\"Times,serif\" font-size=\"14.00\">system[1]</text>\n</g>\n<!-- system_G5&#45;&gt;Interaction -->\n<g id=\"edge2\" class=\"edge\">\n<title>system_G5:e-&gt;Interaction:w</title>\n<path fill=\"none\" stroke=\"black\" d=\"M71,-18C88.22,-18 89.97,-32.77 105.98,-33.93\"/>\n<ellipse fill=\"black\" stroke=\"black\" cx=\"107\" cy=\"-33.96\" rx=\"1\" ry=\"1\"/>\n<text text-anchor=\"middle\" x=\"89.5\" y=\"-29\" font-family=\"Times,serif\" font-size=\"10.00\">8</text>\n</g>\n<!-- system_G0 -->\n<g id=\"node4\" class=\"node\">\n<title>system_G0</title>\n<text text-anchor=\"middle\" x=\"241.5\" y=\"-68.3\" font-family=\"Times,serif\" font-size=\"14.00\">system[0]</text>\n</g>\n<!-- Interaction&#45;&gt;system_G0 -->\n<g id=\"edge3\" class=\"edge\">\n<title>Interaction:e-&gt;system_G0:w</title>\n<path fill=\"none\" stroke=\"black\" d=\"M169,-56C186.22,-56 187.97,-70.77 203.98,-71.93\"/>\n<ellipse fill=\"black\" stroke=\"black\" cx=\"205\" cy=\"-71.96\" rx=\"1\" ry=\"1\"/>\n<text text-anchor=\"middle\" x=\"187.5\" y=\"-67\" font-family=\"Times,serif\" font-size=\"10.00\">8</text>\n</g>\n<!-- system_G1 -->\n<g id=\"node5\" class=\"node\">\n<title>system_G1</title>\n<text text-anchor=\"middle\" x=\"241.5\" y=\"-14.3\" font-family=\"Times,serif\" font-size=\"14.00\">system[1]</text>\n</g>\n<!-- Interaction&#45;&gt;system_G1 -->\n<g id=\"edge4\" class=\"edge\">\n<title>Interaction:e-&gt;system_G1:w</title>\n<path fill=\"none\" stroke=\"black\" d=\"M169,-34C186.22,-34 187.97,-19.23 203.98,-18.07\"/>\n<ellipse fill=\"black\" stroke=\"black\" cx=\"205\" cy=\"-18.04\" rx=\"1\" ry=\"1\"/>\n<text text-anchor=\"middle\" x=\"187.5\" y=\"-29\" font-family=\"Times,serif\" font-size=\"10.00\">8</text>\n</g>\n</g>\n</svg>",
          "text/plain": "<IPython.core.display.SVG object>"
         },
         "metadata": {},
         "output_type": "display_data"
        }
       ],
       "tabbable": null,
       "tooltip": null
      }
     }
    },
    "version_major": 2,
    "version_minor": 0
   }
  }
 },
 "nbformat": 4,
 "nbformat_minor": 5
}
