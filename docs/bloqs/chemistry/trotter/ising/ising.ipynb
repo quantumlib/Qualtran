{
 "cells": [
  {
   "cell_type": "markdown",
   "id": "ad96f2d3",
   "metadata": {
    "cq.autogen": "title_cell"
   },
   "source": [
    "# Ising Trotter Bloqs\n",
    "\n",
    "Bloqs implementing Trotter steps for the 1D Ising model under periodic boundary conditions. \n",
    "\n",
    "The Ising model is given as\n",
    "$$\n",
    "H = -J\\sum_{k=0}^{L-1}\\sigma_{k}^{Z}\\sigma_{(k+1)}^{Z} - \\Gamma\\sum_{k=0}^{L-1}\\sigma_{k}^{X}\n",
    "$$\n",
    "\n",
    "where $J$ and $\\Gamma$ are coupling parameters."
   ]
  },
  {
   "cell_type": "code",
   "execution_count": 1,
   "id": "2aac1d54",
   "metadata": {
    "cq.autogen": "top_imports"
   },
   "outputs": [],
   "source": [
    "from qualtran import Bloq, CompositeBloq, BloqBuilder, Signature, Register\n",
    "from qualtran import QBit, QInt, QUInt, QAny\n",
    "from qualtran.drawing import show_bloq, show_call_graph, show_counts_sigma\n",
    "from typing import *\n",
    "import numpy as np\n",
    "import sympy\n",
    "import cirq"
   ]
  },
  {
   "cell_type": "markdown",
   "id": "43d04f44",
   "metadata": {
    "cq.autogen": "IsingXUnitary.bloq_doc.md"
   },
   "source": [
    "## `IsingXUnitary`\n",
    "Implents the unitary $e^{-i \\alpha H_X}$.\n",
    "\n",
    "#### Parameters\n",
    " - `nsites`: The number of lattice sites.\n",
    " - `angle`: The angle of the rotation. $\\alpha$ in the docstring.\n",
    " - `eps`: The tolerance for the rotation. \n",
    "\n",
    "#### Registers\n",
    " - `system`: The system register to apply the unitary to.\n"
   ]
  },
  {
   "cell_type": "code",
   "execution_count": 2,
   "id": "d151e87f",
   "metadata": {
    "cq.autogen": "IsingXUnitary.bloq_doc.py"
   },
   "outputs": [],
   "source": [
    "from qualtran.bloqs.chemistry.trotter.ising import IsingXUnitary"
   ]
  },
  {
   "cell_type": "markdown",
   "id": "5bcfe4b5",
   "metadata": {
    "cq.autogen": "IsingXUnitary.example_instances.md"
   },
   "source": [
    "### Example Instances"
   ]
  },
  {
   "cell_type": "code",
   "execution_count": 3,
   "id": "fcef2d6d",
   "metadata": {
    "cq.autogen": "IsingXUnitary.ising_x"
   },
   "outputs": [],
   "source": [
    "nsites = 3\n",
    "j_zz = 2\n",
    "dt = 0.01\n",
    "ising_x = IsingXUnitary(nsites=nsites, angle=2 * dt * j_zz)"
   ]
  },
  {
   "cell_type": "markdown",
   "id": "19bb70ff",
   "metadata": {
    "cq.autogen": "IsingXUnitary.graphical_signature.md"
   },
   "source": [
    "#### Graphical Signature"
   ]
  },
  {
   "cell_type": "code",
   "execution_count": 4,
   "id": "eaa1eeae",
   "metadata": {
    "cq.autogen": "IsingXUnitary.graphical_signature.py"
   },
   "outputs": [
    {
     "data": {
      "application/vnd.jupyter.widget-view+json": {
       "model_id": "fa010e891b0445cf9fb6e1c899afdd35",
       "version_major": 2,
       "version_minor": 0
      },
      "text/plain": [
       "HBox(children=(Output(outputs=({'output_type': 'display_data', 'data': {'text/plain': '<IPython.core.display.M…"
      ]
     },
     "metadata": {},
     "output_type": "display_data"
    }
   ],
   "source": [
    "from qualtran.drawing import show_bloqs\n",
    "show_bloqs([ising_x],\n",
    "           ['`ising_x`'])"
   ]
  },
  {
   "cell_type": "markdown",
   "id": "16cc82cd",
   "metadata": {
    "cq.autogen": "IsingXUnitary.call_graph.md"
   },
   "source": [
    "### Call Graph"
   ]
  },
  {
   "cell_type": "code",
   "execution_count": 5,
   "id": "296d9905",
   "metadata": {
    "cq.autogen": "IsingXUnitary.call_graph.py"
   },
   "outputs": [
    {
     "data": {
      "image/svg+xml": [
       "<svg xmlns=\"http://www.w3.org/2000/svg\" xmlns:xlink=\"http://www.w3.org/1999/xlink\" width=\"96pt\" height=\"131pt\" viewBox=\"0.00 0.00 96.00 131.00\">\n",
       "<g id=\"graph0\" class=\"graph\" transform=\"scale(1 1) rotate(0) translate(4 127)\">\n",
       "<title>counts</title>\n",
       "<polygon fill=\"white\" stroke=\"transparent\" points=\"-4,4 -4,-127 92,-127 92,4 -4,4\"/>\n",
       "<!-- b0 -->\n",
       "<g id=\"node1\" class=\"node\">\n",
       "<title>b0</title>\n",
       "<polygon fill=\"none\" stroke=\"black\" points=\"8,-93 8,-116 80,-116 80,-93 8,-93\"/>\n",
       "<text text-anchor=\"start\" x=\"14\" y=\"-102\" font-family=\"Times,serif\" font-size=\"10.00\">IsingXUnitary</text>\n",
       "</g>\n",
       "<!-- b1 -->\n",
       "<g id=\"node2\" class=\"node\">\n",
       "<title>b1</title>\n",
       "<polygon fill=\"none\" stroke=\"black\" points=\"19,-6 19,-29 69,-29 69,-6 19,-6\"/>\n",
       "<text text-anchor=\"start\" x=\"25.5\" y=\"-15\" font-family=\"Times,serif\" font-size=\"10.00\">Rx(0.04)</text>\n",
       "</g>\n",
       "<!-- b0&#45;&gt;b1 -->\n",
       "<g id=\"edge1\" class=\"edge\">\n",
       "<title>b0-&gt;b1</title>\n",
       "<path fill=\"none\" stroke=\"black\" d=\"M44,-86.8C44,-75.16 44,-59.55 44,-46.24\"/>\n",
       "<polygon fill=\"black\" stroke=\"black\" points=\"47.5,-46.18 44,-36.18 40.5,-46.18 47.5,-46.18\"/>\n",
       "<text text-anchor=\"middle\" x=\"47.5\" y=\"-57.8\" font-family=\"Times,serif\" font-size=\"14.00\">3</text>\n",
       "</g>\n",
       "</g>\n",
       "</svg>"
      ],
      "text/plain": [
       "<IPython.core.display.SVG object>"
      ]
     },
     "metadata": {},
     "output_type": "display_data"
    },
    {
     "data": {
      "text/markdown": [
       "#### Counts totals:\n",
       " - `Rx(0.04)`: 3"
      ],
      "text/plain": [
       "<IPython.core.display.Markdown object>"
      ]
     },
     "metadata": {},
     "output_type": "display_data"
    }
   ],
   "source": [
    "from qualtran.resource_counting.generalizers import ignore_split_join\n",
    "ising_x_g, ising_x_sigma = ising_x.call_graph(max_depth=1, generalizer=ignore_split_join)\n",
    "show_call_graph(ising_x_g)\n",
    "show_counts_sigma(ising_x_sigma)"
   ]
  },
  {
   "cell_type": "markdown",
   "id": "40962444",
   "metadata": {
    "cq.autogen": "IsingZZUnitary.bloq_doc.md"
   },
   "source": [
    "## `IsingZZUnitary`\n",
    "Implents the unitary $e^{-i \\alpha H_{ZZ}}$.\n",
    "\n",
    "#### Parameters\n",
    " - `nsites`: The number of lattice sites.\n",
    " - `angle`: The angle of the rotation. $\\alpha$ in the docstring.\n",
    " - `eps`: The tolerance for the rotation. \n",
    "\n",
    "#### Registers\n",
    " - `system`: The system register to apply the unitary to.\n"
   ]
  },
  {
   "cell_type": "code",
   "execution_count": 6,
   "id": "08068c33",
   "metadata": {
    "cq.autogen": "IsingZZUnitary.bloq_doc.py"
   },
   "outputs": [],
   "source": [
    "from qualtran.bloqs.chemistry.trotter.ising.unitaries import IsingZZUnitary"
   ]
  },
  {
   "cell_type": "markdown",
   "id": "de23fed5",
   "metadata": {
    "cq.autogen": "IsingZZUnitary.example_instances.md"
   },
   "source": [
    "### Example Instances"
   ]
  },
  {
   "cell_type": "code",
   "execution_count": 7,
   "id": "3d815779",
   "metadata": {
    "cq.autogen": "IsingZZUnitary.ising_zz"
   },
   "outputs": [],
   "source": [
    "nsites = 3\n",
    "j_zz = 2\n",
    "dt = 0.01\n",
    "ising_zz = IsingZZUnitary(nsites=nsites, angle=2 * dt * j_zz)"
   ]
  },
  {
   "cell_type": "markdown",
   "id": "1def9c5a",
   "metadata": {
    "cq.autogen": "IsingZZUnitary.graphical_signature.md"
   },
   "source": [
    "#### Graphical Signature"
   ]
  },
  {
   "cell_type": "code",
   "execution_count": 8,
   "id": "99c71623",
   "metadata": {
    "cq.autogen": "IsingZZUnitary.graphical_signature.py"
   },
   "outputs": [
    {
     "data": {
      "application/vnd.jupyter.widget-view+json": {
       "model_id": "f25dc9934248473d991ae77dc01af99c",
       "version_major": 2,
       "version_minor": 0
      },
      "text/plain": [
       "HBox(children=(Output(outputs=({'output_type': 'display_data', 'data': {'text/plain': '<IPython.core.display.M…"
      ]
     },
     "metadata": {},
     "output_type": "display_data"
    }
   ],
   "source": [
    "from qualtran.drawing import show_bloqs\n",
    "show_bloqs([ising_zz],\n",
    "           ['`ising_zz`'])"
   ]
  },
  {
   "cell_type": "markdown",
   "id": "3232c32a",
   "metadata": {
    "cq.autogen": "IsingZZUnitary.call_graph.md"
   },
   "source": [
    "### Call Graph"
   ]
  },
  {
   "cell_type": "code",
   "execution_count": 9,
   "id": "fae6ee4a",
   "metadata": {
    "cq.autogen": "IsingZZUnitary.call_graph.py"
   },
   "outputs": [
    {
     "data": {
      "image/svg+xml": [
       "<svg xmlns=\"http://www.w3.org/2000/svg\" xmlns:xlink=\"http://www.w3.org/1999/xlink\" width=\"146pt\" height=\"131pt\" viewBox=\"0.00 0.00 146.00 131.00\">\n",
       "<g id=\"graph0\" class=\"graph\" transform=\"scale(1 1) rotate(0) translate(4 127)\">\n",
       "<title>counts</title>\n",
       "<polygon fill=\"white\" stroke=\"transparent\" points=\"-4,4 -4,-127 142,-127 142,4 -4,4\"/>\n",
       "<!-- b0 -->\n",
       "<g id=\"node1\" class=\"node\">\n",
       "<title>b0</title>\n",
       "<polygon fill=\"none\" stroke=\"black\" points=\"29,-93 29,-116 105,-116 105,-93 29,-93\"/>\n",
       "<text text-anchor=\"start\" x=\"35\" y=\"-102\" font-family=\"Times,serif\" font-size=\"10.00\">IsingZZUnitary</text>\n",
       "</g>\n",
       "<!-- b1 -->\n",
       "<g id=\"node2\" class=\"node\">\n",
       "<title>b1</title>\n",
       "<polygon fill=\"none\" stroke=\"black\" points=\"8,-6 8,-29 48,-29 48,-6 8,-6\"/>\n",
       "<text text-anchor=\"start\" x=\"14\" y=\"-15\" font-family=\"Times,serif\" font-size=\"10.00\">CNOT</text>\n",
       "</g>\n",
       "<!-- b0&#45;&gt;b1 -->\n",
       "<g id=\"edge1\" class=\"edge\">\n",
       "<title>b0-&gt;b1</title>\n",
       "<path fill=\"none\" stroke=\"black\" d=\"M59.11,-86.8C53.66,-74.93 46.32,-58.93 40.14,-45.45\"/>\n",
       "<polygon fill=\"black\" stroke=\"black\" points=\"43.23,-43.8 35.88,-36.18 36.87,-46.72 43.23,-43.8\"/>\n",
       "<text text-anchor=\"middle\" x=\"53.5\" y=\"-57.8\" font-family=\"Times,serif\" font-size=\"14.00\">6</text>\n",
       "</g>\n",
       "<!-- b2 -->\n",
       "<g id=\"node3\" class=\"node\">\n",
       "<title>b2</title>\n",
       "<polygon fill=\"none\" stroke=\"black\" points=\"82,-6 82,-29 130,-29 130,-6 82,-6\"/>\n",
       "<text text-anchor=\"start\" x=\"88\" y=\"-15\" font-family=\"Times,serif\" font-size=\"10.00\">Rz(0.04)</text>\n",
       "</g>\n",
       "<!-- b0&#45;&gt;b2 -->\n",
       "<g id=\"edge2\" class=\"edge\">\n",
       "<title>b0-&gt;b2</title>\n",
       "<path fill=\"none\" stroke=\"black\" d=\"M74.89,-86.8C80.34,-74.93 87.68,-58.93 93.86,-45.45\"/>\n",
       "<polygon fill=\"black\" stroke=\"black\" points=\"97.13,-46.72 98.12,-36.18 90.77,-43.8 97.13,-46.72\"/>\n",
       "<text text-anchor=\"middle\" x=\"91.5\" y=\"-57.8\" font-family=\"Times,serif\" font-size=\"14.00\">3</text>\n",
       "</g>\n",
       "</g>\n",
       "</svg>"
      ],
      "text/plain": [
       "<IPython.core.display.SVG object>"
      ]
     },
     "metadata": {},
     "output_type": "display_data"
    },
    {
     "data": {
      "text/markdown": [
       "#### Counts totals:\n",
       " - `CNOT`: 6\n",
       " - `Rz(0.04)`: 3"
      ],
      "text/plain": [
       "<IPython.core.display.Markdown object>"
      ]
     },
     "metadata": {},
     "output_type": "display_data"
    }
   ],
   "source": [
    "from qualtran.resource_counting.generalizers import ignore_split_join\n",
    "ising_zz_g, ising_zz_sigma = ising_zz.call_graph(max_depth=1, generalizer=ignore_split_join)\n",
    "show_call_graph(ising_zz_g)\n",
    "show_counts_sigma(ising_zz_sigma)"
   ]
  }
 ],
 "metadata": {
  "kernelspec": {
   "display_name": "Python 3",
   "language": "python",
   "name": "python3"
  },
  "language_info": {
   "codemirror_mode": {
    "name": "ipython",
    "version": 3
   },
   "file_extension": ".py",
   "mimetype": "text/x-python",
   "name": "python",
   "nbconvert_exporter": "python",
   "pygments_lexer": "ipython3",
   "version": "3.11.8"
  },
  "widgets": {
   "application/vnd.jupyter.widget-state+json": {
    "state": {
     "0749057e54fb454992371d9e249aab7d": {
      "model_module": "@jupyter-widgets/base",
      "model_module_version": "2.0.0",
      "model_name": "LayoutModel",
      "state": {
       "_model_module": "@jupyter-widgets/base",
       "_model_module_version": "2.0.0",
       "_model_name": "LayoutModel",
       "_view_count": null,
       "_view_module": "@jupyter-widgets/base",
       "_view_module_version": "2.0.0",
       "_view_name": "LayoutView",
       "align_content": null,
       "align_items": null,
       "align_self": null,
       "border_bottom": null,
       "border_left": null,
       "border_right": null,
       "border_top": null,
       "bottom": null,
       "display": null,
       "flex": null,
       "flex_flow": null,
       "grid_area": null,
       "grid_auto_columns": null,
       "grid_auto_flow": null,
       "grid_auto_rows": null,
       "grid_column": null,
       "grid_gap": null,
       "grid_row": null,
       "grid_template_areas": null,
       "grid_template_columns": null,
       "grid_template_rows": null,
       "height": null,
       "justify_content": null,
       "justify_items": null,
       "left": null,
       "margin": null,
       "max_height": null,
       "max_width": null,
       "min_height": null,
       "min_width": null,
       "object_fit": null,
       "object_position": null,
       "order": null,
       "overflow": null,
       "padding": null,
       "right": null,
       "top": null,
       "visibility": null,
       "width": null
      }
     },
     "0dcfdf598362448cab072784d7243f0b": {
      "model_module": "@jupyter-widgets/output",
      "model_module_version": "1.0.0",
      "model_name": "OutputModel",
      "state": {
       "_dom_classes": [],
       "_model_module": "@jupyter-widgets/output",
       "_model_module_version": "1.0.0",
       "_model_name": "OutputModel",
       "_view_count": null,
       "_view_module": "@jupyter-widgets/output",
       "_view_module_version": "1.0.0",
       "_view_name": "OutputView",
       "layout": "IPY_MODEL_0749057e54fb454992371d9e249aab7d",
       "msg_id": "",
       "outputs": [
        {
         "data": {
          "text/markdown": "`ising_zz`",
          "text/plain": "<IPython.core.display.Markdown object>"
         },
         "metadata": {},
         "output_type": "display_data"
        },
        {
         "data": {
          "image/svg+xml": "<svg xmlns=\"http://www.w3.org/2000/svg\" xmlns:xlink=\"http://www.w3.org/1999/xlink\" width=\"262pt\" height=\"54pt\" viewBox=\"0.00 0.00 262.00 54.00\">\n<g id=\"graph0\" class=\"graph\" transform=\"scale(1 1) rotate(0) translate(4 50)\">\n<title>my_graph</title>\n<polygon fill=\"white\" stroke=\"transparent\" points=\"-4,4 -4,-50 258,-50 258,4 -4,4\"/>\n<!-- system_G2 -->\n<g id=\"node1\" class=\"node\">\n<title>system_G2</title>\n<text text-anchor=\"middle\" x=\"27.5\" y=\"-14.3\" font-family=\"Times,serif\" font-size=\"14.00\">system</text>\n</g>\n<!-- IsingZZUnitary -->\n<g id=\"node2\" class=\"node\">\n<title>IsingZZUnitary</title>\n<polygon fill=\"none\" stroke=\"black\" points=\"92,-29 92,-46 162,-46 162,-29 92,-29\"/>\n<text text-anchor=\"start\" x=\"95\" y=\"-35\" font-family=\"Times,serif\" font-size=\"10.00\">IsingZZUnitary</text>\n<polygon fill=\"none\" stroke=\"black\" points=\"92,-8 92,-29 162,-29 162,-8 92,-8\"/>\n<text text-anchor=\"start\" x=\"107.5\" y=\"-14.8\" font-family=\"Times,serif\" font-size=\"14.00\">system</text>\n</g>\n<!-- system_G2&#45;&gt;IsingZZUnitary -->\n<g id=\"edge1\" class=\"edge\">\n<title>system_G2:e-&gt;IsingZZUnitary:w</title>\n<path fill=\"none\" stroke=\"black\" d=\"M55,-18C70.67,-18 75.14,-18 89.77,-18\"/>\n<ellipse fill=\"black\" stroke=\"black\" cx=\"91\" cy=\"-18\" rx=\"1\" ry=\"1\"/>\n<text text-anchor=\"middle\" x=\"73.5\" y=\"-21\" font-family=\"Times,serif\" font-size=\"10.00\">3</text>\n</g>\n<!-- system_G0 -->\n<g id=\"node3\" class=\"node\">\n<title>system_G0</title>\n<text text-anchor=\"middle\" x=\"226.5\" y=\"-14.3\" font-family=\"Times,serif\" font-size=\"14.00\">system</text>\n</g>\n<!-- IsingZZUnitary&#45;&gt;system_G0 -->\n<g id=\"edge2\" class=\"edge\">\n<title>IsingZZUnitary:e-&gt;system_G0:w</title>\n<path fill=\"none\" stroke=\"black\" d=\"M162,-18C177.67,-18 182.14,-18 196.77,-18\"/>\n<ellipse fill=\"black\" stroke=\"black\" cx=\"198\" cy=\"-18\" rx=\"1\" ry=\"1\"/>\n<text text-anchor=\"middle\" x=\"180.5\" y=\"-21\" font-family=\"Times,serif\" font-size=\"10.00\">3</text>\n</g>\n</g>\n</svg>",
          "text/plain": "<IPython.core.display.SVG object>"
         },
         "metadata": {},
         "output_type": "display_data"
        }
       ],
       "tabbable": null,
       "tooltip": null
      }
     },
     "392cf2fa0f81483ca40f87a882f4bfd2": {
      "model_module": "@jupyter-widgets/base",
      "model_module_version": "2.0.0",
      "model_name": "LayoutModel",
      "state": {
       "_model_module": "@jupyter-widgets/base",
       "_model_module_version": "2.0.0",
       "_model_name": "LayoutModel",
       "_view_count": null,
       "_view_module": "@jupyter-widgets/base",
       "_view_module_version": "2.0.0",
       "_view_name": "LayoutView",
       "align_content": null,
       "align_items": null,
       "align_self": null,
       "border_bottom": null,
       "border_left": null,
       "border_right": null,
       "border_top": null,
       "bottom": null,
       "display": null,
       "flex": null,
       "flex_flow": null,
       "grid_area": null,
       "grid_auto_columns": null,
       "grid_auto_flow": null,
       "grid_auto_rows": null,
       "grid_column": null,
       "grid_gap": null,
       "grid_row": null,
       "grid_template_areas": null,
       "grid_template_columns": null,
       "grid_template_rows": null,
       "height": null,
       "justify_content": null,
       "justify_items": null,
       "left": null,
       "margin": null,
       "max_height": null,
       "max_width": null,
       "min_height": null,
       "min_width": null,
       "object_fit": null,
       "object_position": null,
       "order": null,
       "overflow": null,
       "padding": null,
       "right": null,
       "top": null,
       "visibility": null,
       "width": null
      }
     },
     "5aecbc20795b409db4d2d4b237d2acf8": {
      "model_module": "@jupyter-widgets/base",
      "model_module_version": "2.0.0",
      "model_name": "LayoutModel",
      "state": {
       "_model_module": "@jupyter-widgets/base",
       "_model_module_version": "2.0.0",
       "_model_name": "LayoutModel",
       "_view_count": null,
       "_view_module": "@jupyter-widgets/base",
       "_view_module_version": "2.0.0",
       "_view_name": "LayoutView",
       "align_content": null,
       "align_items": null,
       "align_self": null,
       "border_bottom": null,
       "border_left": null,
       "border_right": null,
       "border_top": null,
       "bottom": null,
       "display": null,
       "flex": null,
       "flex_flow": null,
       "grid_area": null,
       "grid_auto_columns": null,
       "grid_auto_flow": null,
       "grid_auto_rows": null,
       "grid_column": null,
       "grid_gap": null,
       "grid_row": null,
       "grid_template_areas": null,
       "grid_template_columns": null,
       "grid_template_rows": null,
       "height": null,
       "justify_content": null,
       "justify_items": null,
       "left": null,
       "margin": null,
       "max_height": null,
       "max_width": null,
       "min_height": null,
       "min_width": null,
       "object_fit": null,
       "object_position": null,
       "order": null,
       "overflow": null,
       "padding": null,
       "right": null,
       "top": null,
       "visibility": null,
       "width": null
      }
     },
     "7064de5c356a4c6d824d1d9a25739644": {
      "model_module": "@jupyter-widgets/output",
      "model_module_version": "1.0.0",
      "model_name": "OutputModel",
      "state": {
       "_dom_classes": [],
       "_model_module": "@jupyter-widgets/output",
       "_model_module_version": "1.0.0",
       "_model_name": "OutputModel",
       "_view_count": null,
       "_view_module": "@jupyter-widgets/output",
       "_view_module_version": "1.0.0",
       "_view_name": "OutputView",
       "layout": "IPY_MODEL_d78bd1a418854051beb43387e82eb41e",
       "msg_id": "",
       "outputs": [
        {
         "data": {
          "text/markdown": "`ising_x`",
          "text/plain": "<IPython.core.display.Markdown object>"
         },
         "metadata": {},
         "output_type": "display_data"
        },
        {
         "data": {
          "image/svg+xml": "<svg xmlns=\"http://www.w3.org/2000/svg\" xmlns:xlink=\"http://www.w3.org/1999/xlink\" width=\"258pt\" height=\"54pt\" viewBox=\"0.00 0.00 258.00 54.00\">\n<g id=\"graph0\" class=\"graph\" transform=\"scale(1 1) rotate(0) translate(4 50)\">\n<title>my_graph</title>\n<polygon fill=\"white\" stroke=\"transparent\" points=\"-4,4 -4,-50 254,-50 254,4 -4,4\"/>\n<!-- system_G1 -->\n<g id=\"node1\" class=\"node\">\n<title>system_G1</title>\n<text text-anchor=\"middle\" x=\"27.5\" y=\"-14.3\" font-family=\"Times,serif\" font-size=\"14.00\">system</text>\n</g>\n<!-- IsingXUnitary -->\n<g id=\"node2\" class=\"node\">\n<title>IsingXUnitary</title>\n<polygon fill=\"none\" stroke=\"black\" points=\"92,-29 92,-46 158,-46 158,-29 92,-29\"/>\n<text text-anchor=\"start\" x=\"95\" y=\"-35\" font-family=\"Times,serif\" font-size=\"10.00\">IsingXUnitary</text>\n<polygon fill=\"none\" stroke=\"black\" points=\"92,-8 92,-29 158,-29 158,-8 92,-8\"/>\n<text text-anchor=\"start\" x=\"105.5\" y=\"-14.8\" font-family=\"Times,serif\" font-size=\"14.00\">system</text>\n</g>\n<!-- system_G1&#45;&gt;IsingXUnitary -->\n<g id=\"edge1\" class=\"edge\">\n<title>system_G1:e-&gt;IsingXUnitary:w</title>\n<path fill=\"none\" stroke=\"black\" d=\"M55,-18C70.67,-18 75.14,-18 89.77,-18\"/>\n<ellipse fill=\"black\" stroke=\"black\" cx=\"91\" cy=\"-18\" rx=\"1\" ry=\"1\"/>\n<text text-anchor=\"middle\" x=\"73.5\" y=\"-21\" font-family=\"Times,serif\" font-size=\"10.00\">3</text>\n</g>\n<!-- system_G0 -->\n<g id=\"node3\" class=\"node\">\n<title>system_G0</title>\n<text text-anchor=\"middle\" x=\"222.5\" y=\"-14.3\" font-family=\"Times,serif\" font-size=\"14.00\">system</text>\n</g>\n<!-- IsingXUnitary&#45;&gt;system_G0 -->\n<g id=\"edge2\" class=\"edge\">\n<title>IsingXUnitary:e-&gt;system_G0:w</title>\n<path fill=\"none\" stroke=\"black\" d=\"M158,-18C173.67,-18 178.14,-18 192.77,-18\"/>\n<ellipse fill=\"black\" stroke=\"black\" cx=\"194\" cy=\"-18\" rx=\"1\" ry=\"1\"/>\n<text text-anchor=\"middle\" x=\"176.5\" y=\"-21\" font-family=\"Times,serif\" font-size=\"10.00\">3</text>\n</g>\n</g>\n</svg>",
          "text/plain": "<IPython.core.display.SVG object>"
         },
         "metadata": {},
         "output_type": "display_data"
        }
       ],
       "tabbable": null,
       "tooltip": null
      }
     },
     "d78bd1a418854051beb43387e82eb41e": {
      "model_module": "@jupyter-widgets/base",
      "model_module_version": "2.0.0",
      "model_name": "LayoutModel",
      "state": {
       "_model_module": "@jupyter-widgets/base",
       "_model_module_version": "2.0.0",
       "_model_name": "LayoutModel",
       "_view_count": null,
       "_view_module": "@jupyter-widgets/base",
       "_view_module_version": "2.0.0",
       "_view_name": "LayoutView",
       "align_content": null,
       "align_items": null,
       "align_self": null,
       "border_bottom": null,
       "border_left": null,
       "border_right": null,
       "border_top": null,
       "bottom": null,
       "display": null,
       "flex": null,
       "flex_flow": null,
       "grid_area": null,
       "grid_auto_columns": null,
       "grid_auto_flow": null,
       "grid_auto_rows": null,
       "grid_column": null,
       "grid_gap": null,
       "grid_row": null,
       "grid_template_areas": null,
       "grid_template_columns": null,
       "grid_template_rows": null,
       "height": null,
       "justify_content": null,
       "justify_items": null,
       "left": null,
       "margin": null,
       "max_height": null,
       "max_width": null,
       "min_height": null,
       "min_width": null,
       "object_fit": null,
       "object_position": null,
       "order": null,
       "overflow": null,
       "padding": null,
       "right": null,
       "top": null,
       "visibility": null,
       "width": null
      }
     },
     "f25dc9934248473d991ae77dc01af99c": {
      "model_module": "@jupyter-widgets/controls",
      "model_module_version": "2.0.0",
      "model_name": "HBoxModel",
      "state": {
       "_dom_classes": [],
       "_model_module": "@jupyter-widgets/controls",
       "_model_module_version": "2.0.0",
       "_model_name": "HBoxModel",
       "_view_count": null,
       "_view_module": "@jupyter-widgets/controls",
       "_view_module_version": "2.0.0",
       "_view_name": "HBoxView",
       "box_style": "",
       "children": [
        "IPY_MODEL_0dcfdf598362448cab072784d7243f0b"
       ],
       "layout": "IPY_MODEL_392cf2fa0f81483ca40f87a882f4bfd2",
       "tabbable": null,
       "tooltip": null
      }
     },
     "fa010e891b0445cf9fb6e1c899afdd35": {
      "model_module": "@jupyter-widgets/controls",
      "model_module_version": "2.0.0",
      "model_name": "HBoxModel",
      "state": {
       "_dom_classes": [],
       "_model_module": "@jupyter-widgets/controls",
       "_model_module_version": "2.0.0",
       "_model_name": "HBoxModel",
       "_view_count": null,
       "_view_module": "@jupyter-widgets/controls",
       "_view_module_version": "2.0.0",
       "_view_name": "HBoxView",
       "box_style": "",
       "children": [
        "IPY_MODEL_7064de5c356a4c6d824d1d9a25739644"
       ],
       "layout": "IPY_MODEL_5aecbc20795b409db4d2d4b237d2acf8",
       "tabbable": null,
       "tooltip": null
      }
     }
    },
    "version_major": 2,
    "version_minor": 0
   }
  }
 },
 "nbformat": 4,
 "nbformat_minor": 5
}
