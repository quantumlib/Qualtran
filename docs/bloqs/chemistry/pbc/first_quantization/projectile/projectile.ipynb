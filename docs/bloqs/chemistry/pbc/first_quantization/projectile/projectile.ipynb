{
 "cells": [
  {
   "cell_type": "markdown",
   "id": "2a72942d",
   "metadata": {
    "cq.autogen": "title_cell"
   },
   "source": [
    "# First Quantized Hamiltonian with Quantum Projectile\n",
    "\n",
    "SELECT and PREPARE for the first quantized chemistry Hamiltonian with a quantum projectile.\n",
    "\n",
    "Here we consider the simulation setup from [Quantum computation of stopping\n",
    "power for inertial fusion target design](https://arxiv.org/abs/2308.12352),\n",
    "which is concerned with the dyamics on a (quantum) projectile traversing a\n",
    "medium, which is modelled using a first quantizated representation. The main\n",
    "modifications are that we need to add the Hamiltonian terms for the projectile\n",
    "and allow for a different (larger) set of momenta for the projectile.\n",
    "\n",
    "Specifically, the modified Hamiltonian is given by\n",
    "\n",
    "$$\n",
    "H = T + U + V + T_\\mathrm{proj} + U_{\\mathrm{proj}} + V_{\\mathrm{elec-proj}},\n",
    "$$\n",
    "where $T$, $U$, and $V$ are the same as they were for the [first quantized\n",
    "Hamiltonian](../first_quantization.ipynb). The new terms are\n",
    "$$\n",
    "T_\\mathrm{proj} =\n",
    "\\sum_{p\\in\\tilde{G}}\n",
    "\\frac{\\lVert k_p - k_\\mathrm{proj}\\rVert^2}{2 M_\\mathrm{proj}}\n",
    "|p\\rangle\\langle p|_\\mathrm{proj},\n",
    "$$\n",
    "which describes the kinetic energy of the projectile in the center of momentum frame,\n",
    "$$\n",
    "U_\\mathrm{proj} = -\\frac{4\\pi}{\\Omega}\n",
    "\\sum_{\\ell=1}^L \\sum_{i}^\\eta\n",
    "\\sum\\limits_{\\substack{{p,q\\in \\tilde{G} \\\\ p\\ne q}}}\n",
    "\\left(\n",
    "    \\zeta_{\\ell}\n",
    "    \\zeta_{\\mathrm{proj}}\n",
    "    \\frac{e^{i k_{q-p}\\cdot R_\\ell}}{\\lVert k_{p-q}\\rVert^2}\n",
    "    |p\\rangle\\langle q|_\\mathrm{proj}\n",
    "\\right),\n",
    "$$\n",
    "which describes the Coulomb interaction of the projectile with the nuclei of the medium, and\n",
    "$$\n",
    "V = -\\frac{4\\pi}{\\Omega}\n",
    "\\sum_{i=1}^\\eta\n",
    "\\sum_{p\\in G}\n",
    "\\sum_{q\\in \\tilde{G}}\n",
    "\\sum\\limits_{\\substack{\\nu \\in G_0 \\\\ (p+\\nu)\\in G \\\\ (q-\\nu)\\in \\tilde{G}}}\n",
    "\\left(\n",
    "    \\frac{\\zeta_\\mathrm{proj}}{\\lVert k_{\\nu}\\rVert^2}\n",
    "    |p + \\nu\\rangle\\langle p|_i\n",
    "    |q -\\nu\\rangle\\langle q|_\\mathrm{proj}\n",
    "\\right),\n",
    "$$\n",
    "which describes the interaction of the projectile with the electrons of the medium.\n",
    "\n",
    "The projectile is represented by a single system register (of size $n_n$ bits),\n",
    "and is initially modelled as a Gaussian wavepacket. The projectile has charge\n",
    "$\\zeta_\\mathrm{proj}$ and mass $M_\\mathrm{proj}$. In practice, to model stopping\n",
    "power a momentum `kick' of $k_\\mathrm{proj}$ is applied at $t=0$ and\n",
    "we monitor how the kinetic energy of the projectile changes with time. Here, we\n",
    "will only concern ourselves with the additional block encoding costs of\n",
    "including this quantum projectile.  Again, state preparation costs are currently\n",
    "ignored as this is logarithmic in the size of the basis set."
   ]
  },
  {
   "cell_type": "code",
   "execution_count": 1,
   "id": "b32ea7ce",
   "metadata": {
    "cq.autogen": "top_imports"
   },
   "outputs": [],
   "source": [
    "from qualtran import Bloq, CompositeBloq, BloqBuilder, Signature, Register\n",
    "from qualtran import QBit, QInt, QUInt, QAny\n",
    "from qualtran.drawing import show_bloq, show_call_graph, show_counts_sigma\n",
    "from typing import *\n",
    "import numpy as np\n",
    "import sympy\n",
    "import cirq"
   ]
  },
  {
   "cell_type": "markdown",
   "id": "68211ddc",
   "metadata": {
    "cq.autogen": "PrepareFirstQuantizationWithProj.bloq_doc.md"
   },
   "source": [
    "## `PrepareFirstQuantizationWithProj`\n",
    "State preparation for the first quantized chemistry Hamiltonian with a quntum projectile.\n",
    "\n",
    "#### Parameters\n",
    " - `num_bits_p`: The number of bits to represent each dimension of the momentum register.\n",
    " - `num_bits_n`: The number of bits to represent each dimension of the momentum register for the projectile. Should be larger than num_bits_p.\n",
    " - `eta`: The number of electrons.\n",
    " - `num_atoms`: The number of atoms. $L$ in the reference.\n",
    " - `lambda_zeta`: sum of nuclear charges.\n",
    " - `m_param`: $\\mathcal{M}$ in the reference.\n",
    " - `num_bits_nuc_pos`: The number of bits of precision for representing the nuclear coordinates.\n",
    " - `num_bits_t`: The number of bits of precision for the state preparation over the register selecting between the different components of the Hamiltonian.\n",
    " - `num_bits_rot_aa`: The number of bits of precision for the rotation for amplitude amplification.\n",
    " - `is_adjoint`: Whether to dagger the bloq or not. \n",
    "\n",
    "#### Registers\n",
    " - `tuv`: Register for preparing superposition for selecting between kinetic and potential terms in the Hamiltonian.\n",
    " - `tepm`: Register to prepare to select between (e)lectron, (p)rojectile, or (m)ean terms.\n",
    " - `uv`: Register to prepare to select between coulombic terms.\n",
    " - `i`: A register for selecting electronic registers.\n",
    " - `j`: A register for selecting electronic registers.\n",
    " - `w`: A register for selecting x, y and z components of the momentum register.\n",
    " - `r`: A register for controlling elements of the momentum register. Used for block encodiding kinetic energy operator.\n",
    " - `s`: A register for controlling elements of the momentum register. Used for block encodiding kinetic energy operator.\n",
    " - `mu`: A register used for implementing nested boxes for the momentum state preparation.\n",
    " - `nu_x`: x component of the momentum register for Coulomb potential.\n",
    " - `nu_y`: y component of the momentum register for Coulomb potential.\n",
    " - `nu_z`: z component of the momentum register for Coulomb potential.\n",
    " - `m`: an ancilla register in a uniform superposition.\n",
    " - `l`: The register for selecting the nuclei.\n",
    " - `succ_nu`: A flag to indiciate the success of the $\\nu$ state preparation.\n",
    " - `plus_t`: A flag qubit prepared in the $|+\\rangle$ state.\n",
    " - `flags`: A 4 qubit flag register indicating which component of the Hamiltonian to apply. \n",
    "\n",
    "#### References\n",
    " - [Fault-Tolerant Quantum Simulations of Chemistry in First Quantization](https://arxiv.org/abs/2105.12767). \n"
   ]
  },
  {
   "cell_type": "code",
   "execution_count": 2,
   "id": "56f1a1b0",
   "metadata": {
    "cq.autogen": "PrepareFirstQuantizationWithProj.bloq_doc.py"
   },
   "outputs": [],
   "source": [
    "from qualtran.bloqs.chemistry.pbc.first_quantization.projectile import PrepareFirstQuantizationWithProj"
   ]
  },
  {
   "cell_type": "markdown",
   "id": "eece03d5",
   "metadata": {
    "cq.autogen": "PrepareFirstQuantizationWithProj.example_instances.md"
   },
   "source": [
    "### Example Instances"
   ]
  },
  {
   "cell_type": "code",
   "execution_count": 3,
   "id": "75bde9f1",
   "metadata": {
    "cq.autogen": "PrepareFirstQuantizationWithProj.prep_first_quant"
   },
   "outputs": [],
   "source": [
    "num_bits_p = 6\n",
    "num_bits_n = 8\n",
    "eta = 10\n",
    "num_atoms = 10\n",
    "lambda_zeta = 10\n",
    "prep_first_quant = PrepareFirstQuantizationWithProj(\n",
    "    num_bits_p, num_bits_n, eta, num_atoms, lambda_zeta\n",
    ")\n"
   ]
  },
  {
   "cell_type": "markdown",
   "id": "0e6ca02f",
   "metadata": {
    "cq.autogen": "PrepareFirstQuantizationWithProj.graphical_signature.md"
   },
   "source": [
    "#### Graphical Signature"
   ]
  },
  {
   "cell_type": "code",
   "execution_count": 4,
   "id": "a32be9fa",
   "metadata": {
    "cq.autogen": "PrepareFirstQuantizationWithProj.graphical_signature.py"
   },
   "outputs": [
    {
     "data": {
      "application/vnd.jupyter.widget-view+json": {
       "model_id": "0ab70ae37b6241728563d33865c94582",
       "version_major": 2,
       "version_minor": 0
      },
      "text/plain": [
       "HBox(children=(Output(outputs=({'output_type': 'display_data', 'data': {'text/plain': '<IPython.core.display.M…"
      ]
     },
     "metadata": {},
     "output_type": "display_data"
    }
   ],
   "source": [
    "from qualtran.drawing import show_bloqs\n",
    "show_bloqs([prep_first_quant],\n",
    "           ['`prep_first_quant`'])"
   ]
  },
  {
   "cell_type": "markdown",
   "id": "afa6100f",
   "metadata": {
    "cq.autogen": "PrepareFirstQuantizationWithProj.call_graph.md"
   },
   "source": [
    "### Call Graph"
   ]
  },
  {
   "cell_type": "code",
   "execution_count": 5,
   "id": "67d7715f",
   "metadata": {
    "cq.autogen": "PrepareFirstQuantizationWithProj.call_graph.py"
   },
   "outputs": [
    {
     "data": {
      "image/svg+xml": [
       "<svg xmlns=\"http://www.w3.org/2000/svg\" xmlns:xlink=\"http://www.w3.org/1999/xlink\" width=\"754pt\" height=\"131pt\" viewBox=\"0.00 0.00 754.00 131.00\">\n",
       "<g id=\"graph0\" class=\"graph\" transform=\"scale(1 1) rotate(0) translate(4 127)\">\n",
       "<title>counts</title>\n",
       "<polygon fill=\"white\" stroke=\"transparent\" points=\"-4,4 -4,-127 750,-127 750,4 -4,4\"/>\n",
       "<!-- b0 -->\n",
       "<g id=\"node1\" class=\"node\">\n",
       "<title>b0</title>\n",
       "<polygon fill=\"none\" stroke=\"black\" points=\"315,-93 315,-116 467,-116 467,-93 315,-93\"/>\n",
       "<text text-anchor=\"start\" x=\"321.5\" y=\"-102\" font-family=\"Times,serif\" font-size=\"10.00\">PrepareFirstQuantizationWithProj</text>\n",
       "</g>\n",
       "<!-- b1 -->\n",
       "<g id=\"node2\" class=\"node\">\n",
       "<title>b1</title>\n",
       "<polygon fill=\"none\" stroke=\"black\" points=\"8,-6 8,-29 174,-29 174,-6 8,-6\"/>\n",
       "<text text-anchor=\"start\" x=\"14\" y=\"-15\" font-family=\"Times,serif\" font-size=\"10.00\">PrepareUVFirstQuantizationWithProj</text>\n",
       "</g>\n",
       "<!-- b0&#45;&gt;b1 -->\n",
       "<g id=\"edge1\" class=\"edge\">\n",
       "<title>b0-&gt;b1</title>\n",
       "<path fill=\"none\" stroke=\"black\" d=\"M330.65,-86.9C281.62,-73.01 212.42,-53.4 160.97,-38.82\"/>\n",
       "<polygon fill=\"black\" stroke=\"black\" points=\"161.83,-35.43 151.25,-36.07 159.92,-42.16 161.83,-35.43\"/>\n",
       "<text text-anchor=\"middle\" x=\"262.5\" y=\"-57.8\" font-family=\"Times,serif\" font-size=\"14.00\">1</text>\n",
       "</g>\n",
       "<!-- b2 -->\n",
       "<g id=\"node3\" class=\"node\">\n",
       "<title>b2</title>\n",
       "<polygon fill=\"none\" stroke=\"black\" points=\"208,-6 208,-29 388,-29 388,-6 208,-6\"/>\n",
       "<text text-anchor=\"start\" x=\"214\" y=\"-15\" font-family=\"Times,serif\" font-size=\"10.00\">UniformSuperpostionIJFirstQuantization</text>\n",
       "</g>\n",
       "<!-- b0&#45;&gt;b2 -->\n",
       "<g id=\"edge2\" class=\"edge\">\n",
       "<title>b0-&gt;b2</title>\n",
       "<path fill=\"none\" stroke=\"black\" d=\"M372.18,-86.8C358.44,-74.24 339.63,-57.05 324.39,-43.12\"/>\n",
       "<polygon fill=\"black\" stroke=\"black\" points=\"326.53,-40.34 316.79,-36.18 321.81,-45.51 326.53,-40.34\"/>\n",
       "<text text-anchor=\"middle\" x=\"354.5\" y=\"-57.8\" font-family=\"Times,serif\" font-size=\"14.00\">1</text>\n",
       "</g>\n",
       "<!-- b3 -->\n",
       "<g id=\"node4\" class=\"node\">\n",
       "<title>b3</title>\n",
       "<polygon fill=\"none\" stroke=\"black\" points=\"422,-6 422,-29 546,-29 546,-6 422,-6\"/>\n",
       "<text text-anchor=\"start\" x=\"428\" y=\"-15\" font-family=\"Times,serif\" font-size=\"10.00\">PrepareTUVSuperpositions</text>\n",
       "</g>\n",
       "<!-- b0&#45;&gt;b3 -->\n",
       "<g id=\"edge3\" class=\"edge\">\n",
       "<title>b0-&gt;b3</title>\n",
       "<path fill=\"none\" stroke=\"black\" d=\"M409.82,-86.8C423.56,-74.24 442.37,-57.05 457.61,-43.12\"/>\n",
       "<polygon fill=\"black\" stroke=\"black\" points=\"460.19,-45.51 465.21,-36.18 455.47,-40.34 460.19,-45.51\"/>\n",
       "<text text-anchor=\"middle\" x=\"447.5\" y=\"-57.8\" font-family=\"Times,serif\" font-size=\"14.00\">1</text>\n",
       "</g>\n",
       "<!-- b4 -->\n",
       "<g id=\"node5\" class=\"node\">\n",
       "<title>b4</title>\n",
       "<polygon fill=\"none\" stroke=\"black\" points=\"580,-6 580,-29 738,-29 738,-6 580,-6\"/>\n",
       "<text text-anchor=\"start\" x=\"586.5\" y=\"-15\" font-family=\"Times,serif\" font-size=\"10.00\">PrepareTFirstQuantizationWithProj</text>\n",
       "</g>\n",
       "<!-- b0&#45;&gt;b4 -->\n",
       "<g id=\"edge4\" class=\"edge\">\n",
       "<title>b0-&gt;b4</title>\n",
       "<path fill=\"none\" stroke=\"black\" d=\"M444.91,-86.9C488.44,-73.1 549.77,-53.65 595.63,-39.1\"/>\n",
       "<polygon fill=\"black\" stroke=\"black\" points=\"596.7,-42.43 605.17,-36.07 594.58,-35.76 596.7,-42.43\"/>\n",
       "<text text-anchor=\"middle\" x=\"545.5\" y=\"-57.8\" font-family=\"Times,serif\" font-size=\"14.00\">1</text>\n",
       "</g>\n",
       "</g>\n",
       "</svg>"
      ],
      "text/plain": [
       "<IPython.core.display.SVG object>"
      ]
     },
     "metadata": {},
     "output_type": "display_data"
    },
    {
     "data": {
      "text/markdown": [
       "#### Counts totals:\n",
       " - `PrepareTFirstQuantizationWithProj`: 1\n",
       " - `PrepareTUVSuperpositions`: 1\n",
       " - `PrepareUVFirstQuantizationWithProj`: 1\n",
       " - `UniformSuperpostionIJFirstQuantization`: 1"
      ],
      "text/plain": [
       "<IPython.core.display.Markdown object>"
      ]
     },
     "metadata": {},
     "output_type": "display_data"
    }
   ],
   "source": [
    "from qualtran.resource_counting.generalizers import ignore_split_join\n",
    "prep_first_quant_g, prep_first_quant_sigma = prep_first_quant.call_graph(max_depth=1, generalizer=ignore_split_join)\n",
    "show_call_graph(prep_first_quant_g)\n",
    "show_counts_sigma(prep_first_quant_sigma)"
   ]
  },
  {
   "cell_type": "markdown",
   "id": "d86a0fba",
   "metadata": {
    "cq.autogen": "SelectFirstQuantizationWithProj.bloq_doc.md"
   },
   "source": [
    "## `SelectFirstQuantizationWithProj`\n",
    "SELECT operation for the first quantized chemistry Hamiltonian.\n",
    "\n",
    "#### Parameters\n",
    " - `num_bits_p`: The number of bits to represent each dimension of the momentum register.\n",
    " - `eta`: The number of electrons.\n",
    " - `num_atoms`: The number of atoms. $L$ in the reference.\n",
    " - `lambda_zeta`: sum of nuclear charges.\n",
    " - `m_param`: $\\mathcal{M}$ in the reference.\n",
    " - `num_bits_nuc_pos`: The number of bits of precision for representing the nuclear coordinates.\n",
    " - `num_bits_t`: The number of bits of precision for the state preparation over the register selecting between the different components of the Hamiltonian.\n",
    " - `num_bits_rot_aa`: The number of bits of precision for the rotation for amplitude amplification. \n",
    "\n",
    "#### Registers\n",
    " - `ham_ctrl`: Control bits flagging which component of the Hamiltonian to apply.\n",
    " - `i_ne_j`: Register flagging $i \\ne j$\n",
    " - `plus_t`: A register prepared in the $|+\\rangle$ state.\n",
    " - `i`: A register for selecting electronic registers.\n",
    " - `j`: A register for selecting electronic registers.\n",
    " - `w`: A register for selecting x, y and z components of the momentum register.\n",
    " - `r`: A register for controlling elements of the momentum register. Used for block encodiding kinetic energy operator.\n",
    " - `s`: A register for controlling elements of the momentum register. Used for block encodiding kinetic energy operator.\n",
    " - `mu`: A register used for implementing nested boxes for the momentum state preparation.\n",
    " - `nu_x`: x component of the momentum register for Coulomb potential.\n",
    " - `nu_y`: y component of the momentum register for Coulomb potential.\n",
    " - `nu_z`: z component of the momentum register for Coulomb potential.\n",
    " - `m`: an ancilla register in a uniform superposition.\n",
    " - `l`: The register for selecting the nuclei.\n",
    " - `sys`: The system register. Will store $\\eta$ registers (x, y and z) components of size num_bits_p.\n",
    " - `proj`: The system register. Will store a single register (x, y and z) components of size num_bits_n. \n",
    "\n",
    "#### References\n",
    " - [Fault-Tolerant Quantum Simulations of Chemistry in First Quantization](https://arxiv.org/abs/2105.12767). \n"
   ]
  },
  {
   "cell_type": "code",
   "execution_count": 6,
   "id": "55a6aa0e",
   "metadata": {
    "cq.autogen": "SelectFirstQuantizationWithProj.bloq_doc.py"
   },
   "outputs": [],
   "source": [
    "from qualtran.bloqs.chemistry.pbc.first_quantization.projectile import SelectFirstQuantizationWithProj"
   ]
  },
  {
   "cell_type": "markdown",
   "id": "2c249265",
   "metadata": {
    "cq.autogen": "SelectFirstQuantizationWithProj.example_instances.md"
   },
   "source": [
    "### Example Instances"
   ]
  },
  {
   "cell_type": "code",
   "execution_count": 7,
   "id": "d79dbca6",
   "metadata": {
    "cq.autogen": "SelectFirstQuantizationWithProj.sel_first_quant"
   },
   "outputs": [],
   "source": [
    "num_bits_p = 6\n",
    "num_bits_n = 8\n",
    "eta = 10\n",
    "num_atoms = 10\n",
    "lambda_zeta = 10\n",
    "sel_first_quant = SelectFirstQuantizationWithProj(\n",
    "    num_bits_p, num_bits_n, eta, num_atoms, lambda_zeta\n",
    ")\n"
   ]
  },
  {
   "cell_type": "markdown",
   "id": "c788fdf2",
   "metadata": {
    "cq.autogen": "SelectFirstQuantizationWithProj.graphical_signature.md"
   },
   "source": [
    "#### Graphical Signature"
   ]
  },
  {
   "cell_type": "code",
   "execution_count": 8,
   "id": "35871570",
   "metadata": {
    "cq.autogen": "SelectFirstQuantizationWithProj.graphical_signature.py"
   },
   "outputs": [
    {
     "data": {
      "application/vnd.jupyter.widget-view+json": {
       "model_id": "2bb0ef6c606f439d8c3e092b22accfc9",
       "version_major": 2,
       "version_minor": 0
      },
      "text/plain": [
       "HBox(children=(Output(outputs=({'output_type': 'display_data', 'data': {'text/plain': '<IPython.core.display.M…"
      ]
     },
     "metadata": {},
     "output_type": "display_data"
    }
   ],
   "source": [
    "from qualtran.drawing import show_bloqs\n",
    "show_bloqs([sel_first_quant],\n",
    "           ['`sel_first_quant`'])"
   ]
  },
  {
   "cell_type": "markdown",
   "id": "e8b4388c",
   "metadata": {
    "cq.autogen": "SelectFirstQuantizationWithProj.call_graph.md"
   },
   "source": [
    "### Call Graph"
   ]
  },
  {
   "cell_type": "code",
   "execution_count": 9,
   "id": "b5dccb93",
   "metadata": {
    "cq.autogen": "SelectFirstQuantizationWithProj.call_graph.py"
   },
   "outputs": [
    {
     "data": {
      "image/svg+xml": [
       "<svg xmlns=\"http://www.w3.org/2000/svg\" xmlns:xlink=\"http://www.w3.org/1999/xlink\" width=\"1232pt\" height=\"131pt\" viewBox=\"0.00 0.00 1232.00 131.00\">\n",
       "<g id=\"graph0\" class=\"graph\" transform=\"scale(1 1) rotate(0) translate(4 127)\">\n",
       "<title>counts</title>\n",
       "<polygon fill=\"white\" stroke=\"transparent\" points=\"-4,4 -4,-127 1228,-127 1228,4 -4,4\"/>\n",
       "<!-- b0 -->\n",
       "<g id=\"node1\" class=\"node\">\n",
       "<title>b0</title>\n",
       "<polygon fill=\"none\" stroke=\"black\" points=\"579,-93 579,-116 725,-116 725,-93 579,-93\"/>\n",
       "<text text-anchor=\"start\" x=\"585.5\" y=\"-102\" font-family=\"Times,serif\" font-size=\"10.00\">SelectFirstQuantizationWithProj</text>\n",
       "</g>\n",
       "<!-- b1 -->\n",
       "<g id=\"node2\" class=\"node\">\n",
       "<title>b1</title>\n",
       "<polygon fill=\"none\" stroke=\"black\" points=\"8,-6 8,-29 50,-29 50,-6 8,-6\"/>\n",
       "<text text-anchor=\"start\" x=\"14\" y=\"-15\" font-family=\"Times,serif\" font-size=\"10.00\">CSwap</text>\n",
       "</g>\n",
       "<!-- b0&#45;&gt;b1 -->\n",
       "<g id=\"edge1\" class=\"edge\">\n",
       "<title>b0-&gt;b1</title>\n",
       "<path fill=\"none\" stroke=\"black\" d=\"M570.99,-101.41C481.28,-97.67 332.6,-88.87 206,-69 146.34,-59.63 128.82,-56.67 67.97,-36.05\"/>\n",
       "<polygon fill=\"black\" stroke=\"black\" points=\"68.84,-32.65 58.24,-32.73 66.57,-39.28 68.84,-32.65\"/>\n",
       "<text text-anchor=\"middle\" x=\"209.5\" y=\"-57.8\" font-family=\"Times,serif\" font-size=\"14.00\">6</text>\n",
       "</g>\n",
       "<!-- b2 -->\n",
       "<g id=\"node3\" class=\"node\">\n",
       "<title>b2</title>\n",
       "<polygon fill=\"none\" stroke=\"black\" points=\"84,-6 84,-29 132,-29 132,-6 84,-6\"/>\n",
       "<text text-anchor=\"start\" x=\"90\" y=\"-15\" font-family=\"Times,serif\" font-size=\"10.00\">Allocate</text>\n",
       "</g>\n",
       "<!-- b0&#45;&gt;b2 -->\n",
       "<g id=\"edge2\" class=\"edge\">\n",
       "<title>b0-&gt;b2</title>\n",
       "<path fill=\"none\" stroke=\"black\" d=\"M570.92,-98.62C499.36,-93.24 392.35,-83.63 300,-69 235.2,-58.73 216.23,-56.74 149.74,-35.97\"/>\n",
       "<polygon fill=\"black\" stroke=\"black\" points=\"150.62,-32.58 140.03,-32.91 148.52,-39.26 150.62,-32.58\"/>\n",
       "<text text-anchor=\"middle\" x=\"303.5\" y=\"-57.8\" font-family=\"Times,serif\" font-size=\"14.00\">3</text>\n",
       "</g>\n",
       "<!-- b3 -->\n",
       "<g id=\"node4\" class=\"node\">\n",
       "<title>b3</title>\n",
       "<polygon fill=\"none\" stroke=\"black\" points=\"166,-6 166,-29 214,-29 214,-6 166,-6\"/>\n",
       "<text text-anchor=\"start\" x=\"172\" y=\"-15\" font-family=\"Times,serif\" font-size=\"10.00\">Allocate</text>\n",
       "</g>\n",
       "<!-- b0&#45;&gt;b3 -->\n",
       "<g id=\"edge3\" class=\"edge\">\n",
       "<title>b0-&gt;b3</title>\n",
       "<path fill=\"none\" stroke=\"black\" d=\"M570.86,-96.56C487.43,-87.64 354,-69.83 232.29,-36.03\"/>\n",
       "<polygon fill=\"black\" stroke=\"black\" points=\"233,-32.59 222.43,-33.25 231.1,-39.33 233,-32.59\"/>\n",
       "<text text-anchor=\"middle\" x=\"371.5\" y=\"-57.8\" font-family=\"Times,serif\" font-size=\"14.00\">1</text>\n",
       "</g>\n",
       "<!-- b4 -->\n",
       "<g id=\"node5\" class=\"node\">\n",
       "<title>b4</title>\n",
       "<polygon fill=\"none\" stroke=\"black\" points=\"248,-6 248,-29 408,-29 408,-6 248,-6\"/>\n",
       "<text text-anchor=\"start\" x=\"254\" y=\"-15\" font-family=\"Times,serif\" font-size=\"10.00\">SelectUVFirstQuantizationWithProj</text>\n",
       "</g>\n",
       "<!-- b0&#45;&gt;b4 -->\n",
       "<g id=\"edge4\" class=\"edge\">\n",
       "<title>b0-&gt;b4</title>\n",
       "<path fill=\"none\" stroke=\"black\" d=\"M586.82,-86.9C533.65,-72.95 458.51,-53.24 402.87,-38.64\"/>\n",
       "<polygon fill=\"black\" stroke=\"black\" points=\"403.63,-35.22 393.07,-36.07 401.86,-41.99 403.63,-35.22\"/>\n",
       "<text text-anchor=\"middle\" x=\"513.5\" y=\"-57.8\" font-family=\"Times,serif\" font-size=\"14.00\">1</text>\n",
       "</g>\n",
       "<!-- b5 -->\n",
       "<g id=\"node6\" class=\"node\">\n",
       "<title>b5</title>\n",
       "<polygon fill=\"none\" stroke=\"black\" points=\"442,-6 442,-29 594,-29 594,-6 442,-6\"/>\n",
       "<text text-anchor=\"start\" x=\"448.5\" y=\"-15\" font-family=\"Times,serif\" font-size=\"10.00\">SelectTFirstQuantizationWithProj</text>\n",
       "</g>\n",
       "<!-- b0&#45;&gt;b5 -->\n",
       "<g id=\"edge5\" class=\"edge\">\n",
       "<title>b0-&gt;b5</title>\n",
       "<path fill=\"none\" stroke=\"black\" d=\"M624.88,-86.8C604.36,-73.78 575.98,-55.78 553.63,-41.6\"/>\n",
       "<polygon fill=\"black\" stroke=\"black\" points=\"555.4,-38.58 545.08,-36.18 551.65,-44.49 555.4,-38.58\"/>\n",
       "<text text-anchor=\"middle\" x=\"597.5\" y=\"-57.8\" font-family=\"Times,serif\" font-size=\"14.00\">1</text>\n",
       "</g>\n",
       "<!-- b6 -->\n",
       "<g id=\"node7\" class=\"node\">\n",
       "<title>b6</title>\n",
       "<polygon fill=\"none\" stroke=\"black\" points=\"628,-6 628,-29 676,-29 676,-6 628,-6\"/>\n",
       "<text text-anchor=\"start\" x=\"634\" y=\"-15\" font-family=\"Times,serif\" font-size=\"10.00\">Allocate</text>\n",
       "</g>\n",
       "<!-- b0&#45;&gt;b6 -->\n",
       "<g id=\"edge6\" class=\"edge\">\n",
       "<title>b0-&gt;b6</title>\n",
       "<path fill=\"none\" stroke=\"black\" d=\"M652,-86.8C652,-75.16 652,-59.55 652,-46.24\"/>\n",
       "<polygon fill=\"black\" stroke=\"black\" points=\"655.5,-46.18 652,-36.18 648.5,-46.18 655.5,-46.18\"/>\n",
       "<text text-anchor=\"middle\" x=\"655.5\" y=\"-57.8\" font-family=\"Times,serif\" font-size=\"14.00\">3</text>\n",
       "</g>\n",
       "<!-- b7 -->\n",
       "<g id=\"node8\" class=\"node\">\n",
       "<title>b7</title>\n",
       "<polygon fill=\"none\" stroke=\"black\" points=\"710,-6 710,-29 816,-29 816,-6 710,-6\"/>\n",
       "<text text-anchor=\"start\" x=\"716\" y=\"-15\" font-family=\"Times,serif\" font-size=\"10.00\">MultiplexedCSwap3D</text>\n",
       "</g>\n",
       "<!-- b0&#45;&gt;b7 -->\n",
       "<g id=\"edge7\" class=\"edge\">\n",
       "<title>b0-&gt;b7</title>\n",
       "<path fill=\"none\" stroke=\"black\" d=\"M674.46,-86.8C691.16,-74.01 714.14,-56.42 732.5,-42.36\"/>\n",
       "<polygon fill=\"black\" stroke=\"black\" points=\"734.76,-45.03 740.57,-36.18 730.5,-39.48 734.76,-45.03\"/>\n",
       "<text text-anchor=\"middle\" x=\"718.5\" y=\"-57.8\" font-family=\"Times,serif\" font-size=\"14.00\">2</text>\n",
       "</g>\n",
       "<!-- b8 -->\n",
       "<g id=\"node9\" class=\"node\">\n",
       "<title>b8</title>\n",
       "<polygon fill=\"none\" stroke=\"black\" points=\"854,-6 854,-29 884,-29 884,-6 854,-6\"/>\n",
       "<text text-anchor=\"start\" x=\"860\" y=\"-15\" font-family=\"Times,serif\" font-size=\"10.00\">Free</text>\n",
       "</g>\n",
       "<!-- b0&#45;&gt;b8 -->\n",
       "<g id=\"edge8\" class=\"edge\">\n",
       "<title>b0-&gt;b8</title>\n",
       "<path fill=\"none\" stroke=\"black\" d=\"M700.82,-86.88C735.35,-74.5 782.83,-56.91 832.65,-35.99\"/>\n",
       "<polygon fill=\"black\" stroke=\"black\" points=\"834.13,-39.17 841.98,-32.05 831.41,-32.72 834.13,-39.17\"/>\n",
       "<text text-anchor=\"middle\" x=\"787.5\" y=\"-57.8\" font-family=\"Times,serif\" font-size=\"14.00\">3</text>\n",
       "</g>\n",
       "<!-- b9 -->\n",
       "<g id=\"node10\" class=\"node\">\n",
       "<title>b9</title>\n",
       "<polygon fill=\"none\" stroke=\"black\" points=\"926,-6 926,-29 956,-29 956,-6 926,-6\"/>\n",
       "<text text-anchor=\"start\" x=\"932\" y=\"-15\" font-family=\"Times,serif\" font-size=\"10.00\">Free</text>\n",
       "</g>\n",
       "<!-- b0&#45;&gt;b9 -->\n",
       "<g id=\"edge9\" class=\"edge\">\n",
       "<title>b0-&gt;b9</title>\n",
       "<path fill=\"none\" stroke=\"black\" d=\"M731.98,-87C779.98,-75.75 842.11,-59.36 904.12,-36.07\"/>\n",
       "<polygon fill=\"black\" stroke=\"black\" points=\"905.57,-39.26 913.67,-32.42 903.08,-32.72 905.57,-39.26\"/>\n",
       "<text text-anchor=\"middle\" x=\"854.5\" y=\"-57.8\" font-family=\"Times,serif\" font-size=\"14.00\">3</text>\n",
       "</g>\n",
       "<!-- b10 -->\n",
       "<g id=\"node11\" class=\"node\">\n",
       "<title>b10</title>\n",
       "<polygon fill=\"none\" stroke=\"black\" points=\"994,-6 994,-29 1144,-29 1144,-6 994,-6\"/>\n",
       "<text text-anchor=\"start\" x=\"1000\" y=\"-15\" font-family=\"Times,serif\" font-size=\"10.00\">ControlledMultiplexedCSwap3D</text>\n",
       "</g>\n",
       "<!-- b0&#45;&gt;b10 -->\n",
       "<g id=\"edge10\" class=\"edge\">\n",
       "<title>b0-&gt;b10</title>\n",
       "<path fill=\"none\" stroke=\"black\" d=\"M733.02,-91.89C772.12,-85.69 819.63,-77.64 862,-69 905.92,-60.05 954.66,-48.36 993.81,-38.54\"/>\n",
       "<polygon fill=\"black\" stroke=\"black\" points=\"994.7,-41.92 1003.54,-36.09 992.99,-35.14 994.7,-41.92\"/>\n",
       "<text text-anchor=\"middle\" x=\"927.5\" y=\"-57.8\" font-family=\"Times,serif\" font-size=\"14.00\">2</text>\n",
       "</g>\n",
       "<!-- b11 -->\n",
       "<g id=\"node12\" class=\"node\">\n",
       "<title>b11</title>\n",
       "<polygon fill=\"none\" stroke=\"black\" points=\"1182,-6 1182,-29 1212,-29 1212,-6 1182,-6\"/>\n",
       "<text text-anchor=\"start\" x=\"1188\" y=\"-15\" font-family=\"Times,serif\" font-size=\"10.00\">Free</text>\n",
       "</g>\n",
       "<!-- b0&#45;&gt;b11 -->\n",
       "<g id=\"edge11\" class=\"edge\">\n",
       "<title>b0-&gt;b11</title>\n",
       "<path fill=\"none\" stroke=\"black\" d=\"M733.02,-101.15C832.8,-95.88 1006.87,-80.93 1160.21,-35.74\"/>\n",
       "<polygon fill=\"black\" stroke=\"black\" points=\"1161.24,-39.08 1169.81,-32.86 1159.23,-32.38 1161.24,-39.08\"/>\n",
       "<text text-anchor=\"middle\" x=\"1082.5\" y=\"-57.8\" font-family=\"Times,serif\" font-size=\"14.00\">1</text>\n",
       "</g>\n",
       "</g>\n",
       "</svg>"
      ],
      "text/plain": [
       "<IPython.core.display.SVG object>"
      ]
     },
     "metadata": {},
     "output_type": "display_data"
    },
    {
     "data": {
      "text/markdown": [
       "#### Counts totals:\n",
       " - `Allocate`: 1\n",
       " - `Allocate`: 3\n",
       " - `Allocate`: 3\n",
       " - `CSwap`: 6\n",
       " - `ControlledMultiplexedCSwap3D`: 2\n",
       " - `Free`: 1\n",
       " - `Free`: 3\n",
       " - `Free`: 3\n",
       " - `MultiplexedCSwap3D`: 2\n",
       " - `SelectTFirstQuantizationWithProj`: 1\n",
       " - `SelectUVFirstQuantizationWithProj`: 1"
      ],
      "text/plain": [
       "<IPython.core.display.Markdown object>"
      ]
     },
     "metadata": {},
     "output_type": "display_data"
    }
   ],
   "source": [
    "from qualtran.resource_counting.generalizers import ignore_split_join\n",
    "sel_first_quant_g, sel_first_quant_sigma = sel_first_quant.call_graph(max_depth=1, generalizer=ignore_split_join)\n",
    "show_call_graph(sel_first_quant_g)\n",
    "show_counts_sigma(sel_first_quant_sigma)"
   ]
  }
 ],
 "metadata": {
  "kernelspec": {
   "display_name": "Python 3 (ipykernel)",
   "language": "python",
   "name": "python3"
  },
  "language_info": {
   "codemirror_mode": {
    "name": "ipython",
    "version": 3
   },
   "file_extension": ".py",
   "mimetype": "text/x-python",
   "name": "python",
   "nbconvert_exporter": "python",
   "pygments_lexer": "ipython3",
   "version": "3.11.8"
  },
  "widgets": {
   "application/vnd.jupyter.widget-state+json": {
    "state": {
     "0ab70ae37b6241728563d33865c94582": {
      "model_module": "@jupyter-widgets/controls",
      "model_module_version": "2.0.0",
      "model_name": "HBoxModel",
      "state": {
       "_dom_classes": [],
       "_model_module": "@jupyter-widgets/controls",
       "_model_module_version": "2.0.0",
       "_model_name": "HBoxModel",
       "_view_count": null,
       "_view_module": "@jupyter-widgets/controls",
       "_view_module_version": "2.0.0",
       "_view_name": "HBoxView",
       "box_style": "",
       "children": [
        "IPY_MODEL_67ea5c5e365140e7948d427f6ce8461c"
       ],
       "layout": "IPY_MODEL_240679ebbcd94832818401a88e52838e",
       "tabbable": null,
       "tooltip": null
      }
     },
     "240679ebbcd94832818401a88e52838e": {
      "model_module": "@jupyter-widgets/base",
      "model_module_version": "2.0.0",
      "model_name": "LayoutModel",
      "state": {
       "_model_module": "@jupyter-widgets/base",
       "_model_module_version": "2.0.0",
       "_model_name": "LayoutModel",
       "_view_count": null,
       "_view_module": "@jupyter-widgets/base",
       "_view_module_version": "2.0.0",
       "_view_name": "LayoutView",
       "align_content": null,
       "align_items": null,
       "align_self": null,
       "border_bottom": null,
       "border_left": null,
       "border_right": null,
       "border_top": null,
       "bottom": null,
       "display": null,
       "flex": null,
       "flex_flow": null,
       "grid_area": null,
       "grid_auto_columns": null,
       "grid_auto_flow": null,
       "grid_auto_rows": null,
       "grid_column": null,
       "grid_gap": null,
       "grid_row": null,
       "grid_template_areas": null,
       "grid_template_columns": null,
       "grid_template_rows": null,
       "height": null,
       "justify_content": null,
       "justify_items": null,
       "left": null,
       "margin": null,
       "max_height": null,
       "max_width": null,
       "min_height": null,
       "min_width": null,
       "object_fit": null,
       "object_position": null,
       "order": null,
       "overflow": null,
       "padding": null,
       "right": null,
       "top": null,
       "visibility": null,
       "width": null
      }
     },
     "2bb0ef6c606f439d8c3e092b22accfc9": {
      "model_module": "@jupyter-widgets/controls",
      "model_module_version": "2.0.0",
      "model_name": "HBoxModel",
      "state": {
       "_dom_classes": [],
       "_model_module": "@jupyter-widgets/controls",
       "_model_module_version": "2.0.0",
       "_model_name": "HBoxModel",
       "_view_count": null,
       "_view_module": "@jupyter-widgets/controls",
       "_view_module_version": "2.0.0",
       "_view_name": "HBoxView",
       "box_style": "",
       "children": [
        "IPY_MODEL_2d3b955ec19b41c19ee56559cb244876"
       ],
       "layout": "IPY_MODEL_f6ae0a31db1648a8b88ae6422676509b",
       "tabbable": null,
       "tooltip": null
      }
     },
     "2d3b955ec19b41c19ee56559cb244876": {
      "model_module": "@jupyter-widgets/output",
      "model_module_version": "1.0.0",
      "model_name": "OutputModel",
      "state": {
       "_dom_classes": [],
       "_model_module": "@jupyter-widgets/output",
       "_model_module_version": "1.0.0",
       "_model_name": "OutputModel",
       "_view_count": null,
       "_view_module": "@jupyter-widgets/output",
       "_view_module_version": "1.0.0",
       "_view_name": "OutputView",
       "layout": "IPY_MODEL_fc96e50fa2894c268f46d9d4e3b0c743",
       "msg_id": "",
       "outputs": [
        {
         "data": {
          "text/markdown": "`sel_first_quant`",
          "text/plain": "<IPython.core.display.Markdown object>"
         },
         "metadata": {},
         "output_type": "display_data"
        },
        {
         "data": {
          "image/svg+xml": "<svg xmlns=\"http://www.w3.org/2000/svg\" xmlns:xlink=\"http://www.w3.org/1999/xlink\" width=\"383pt\" height=\"2744pt\" viewBox=\"0.00 0.00 383.00 2744.00\">\n<g id=\"graph0\" class=\"graph\" transform=\"scale(1 1) rotate(0) translate(4 2740)\">\n<title>my_graph</title>\n<polygon fill=\"white\" stroke=\"transparent\" points=\"-4,4 -4,-2740 379,-2740 379,4 -4,4\"/>\n<!-- ham_ctrl_G121 -->\n<g id=\"node1\" class=\"node\">\n<title>ham_ctrl_G121</title>\n<text text-anchor=\"middle\" x=\"40.5\" y=\"-2714.3\" font-family=\"Times,serif\" font-size=\"14.00\">ham_ctrl[0]</text>\n</g>\n<!-- SelectFirstQuantizationWithProj -->\n<g id=\"node52\" class=\"node\">\n<title>SelectFirstQuantizationWithProj</title>\n<polygon fill=\"none\" stroke=\"black\" points=\"118.5,-1904 118.5,-1921 257.5,-1921 257.5,-1904 118.5,-1904\"/>\n<text text-anchor=\"start\" x=\"121.5\" y=\"-1910\" font-family=\"Times,serif\" font-size=\"10.00\">SelectFirstQuantizationWithProj</text>\n<polygon fill=\"none\" stroke=\"black\" points=\"118.5,-1883 118.5,-1904 257.5,-1904 257.5,-1883 118.5,-1883\"/>\n<text text-anchor=\"start\" x=\"155.5\" y=\"-1889.8\" font-family=\"Times,serif\" font-size=\"14.00\">ham_ctrl[0]</text>\n<polygon fill=\"none\" stroke=\"black\" points=\"118.5,-1862 118.5,-1883 257.5,-1883 257.5,-1862 118.5,-1862\"/>\n<text text-anchor=\"start\" x=\"155.5\" y=\"-1868.8\" font-family=\"Times,serif\" font-size=\"14.00\">ham_ctrl[1]</text>\n<polygon fill=\"none\" stroke=\"black\" points=\"118.5,-1841 118.5,-1862 257.5,-1862 257.5,-1841 118.5,-1841\"/>\n<text text-anchor=\"start\" x=\"155.5\" y=\"-1847.8\" font-family=\"Times,serif\" font-size=\"14.00\">ham_ctrl[2]</text>\n<polygon fill=\"none\" stroke=\"black\" points=\"118.5,-1820 118.5,-1841 257.5,-1841 257.5,-1820 118.5,-1820\"/>\n<text text-anchor=\"start\" x=\"155.5\" y=\"-1826.8\" font-family=\"Times,serif\" font-size=\"14.00\">ham_ctrl[3]</text>\n<polygon fill=\"none\" stroke=\"black\" points=\"118.5,-1799 118.5,-1820 257.5,-1820 257.5,-1799 118.5,-1799\"/>\n<text text-anchor=\"start\" x=\"171\" y=\"-1805.8\" font-family=\"Times,serif\" font-size=\"14.00\">i_ne_j</text>\n<polygon fill=\"none\" stroke=\"black\" points=\"118.5,-1778 118.5,-1799 257.5,-1799 257.5,-1778 118.5,-1778\"/>\n<text text-anchor=\"start\" x=\"171\" y=\"-1784.8\" font-family=\"Times,serif\" font-size=\"14.00\">plus_t</text>\n<polygon fill=\"none\" stroke=\"black\" points=\"118.5,-1757 118.5,-1778 257.5,-1778 257.5,-1757 118.5,-1757\"/>\n<text text-anchor=\"start\" x=\"186\" y=\"-1763.8\" font-family=\"Times,serif\" font-size=\"14.00\">i</text>\n<polygon fill=\"none\" stroke=\"black\" points=\"118.5,-1736 118.5,-1757 257.5,-1757 257.5,-1736 118.5,-1736\"/>\n<text text-anchor=\"start\" x=\"186\" y=\"-1742.8\" font-family=\"Times,serif\" font-size=\"14.00\">j</text>\n<polygon fill=\"none\" stroke=\"black\" points=\"118.5,-1715 118.5,-1736 257.5,-1736 257.5,-1715 118.5,-1715\"/>\n<text text-anchor=\"start\" x=\"183\" y=\"-1721.8\" font-family=\"Times,serif\" font-size=\"14.00\">w</text>\n<polygon fill=\"none\" stroke=\"black\" points=\"118.5,-1694 118.5,-1715 257.5,-1715 257.5,-1694 118.5,-1694\"/>\n<text text-anchor=\"start\" x=\"164.5\" y=\"-1700.8\" font-family=\"Times,serif\" font-size=\"14.00\">w_mean</text>\n<polygon fill=\"none\" stroke=\"black\" points=\"118.5,-1673 118.5,-1694 257.5,-1694 257.5,-1673 118.5,-1673\"/>\n<text text-anchor=\"start\" x=\"185.5\" y=\"-1679.8\" font-family=\"Times,serif\" font-size=\"14.00\">r</text>\n<polygon fill=\"none\" stroke=\"black\" points=\"118.5,-1652 118.5,-1673 257.5,-1673 257.5,-1652 118.5,-1652\"/>\n<text text-anchor=\"start\" x=\"185\" y=\"-1658.8\" font-family=\"Times,serif\" font-size=\"14.00\">s</text>\n<polygon fill=\"none\" stroke=\"black\" points=\"118.5,-1631 118.5,-1652 257.5,-1652 257.5,-1631 118.5,-1631\"/>\n<text text-anchor=\"start\" x=\"178.5\" y=\"-1637.8\" font-family=\"Times,serif\" font-size=\"14.00\">mu</text>\n<polygon fill=\"none\" stroke=\"black\" points=\"118.5,-1610 118.5,-1631 257.5,-1631 257.5,-1610 118.5,-1610\"/>\n<text text-anchor=\"start\" x=\"174\" y=\"-1616.8\" font-family=\"Times,serif\" font-size=\"14.00\">nu_x</text>\n<polygon fill=\"none\" stroke=\"black\" points=\"118.5,-1589 118.5,-1610 257.5,-1610 257.5,-1589 118.5,-1589\"/>\n<text text-anchor=\"start\" x=\"174\" y=\"-1595.8\" font-family=\"Times,serif\" font-size=\"14.00\">nu_y</text>\n<polygon fill=\"none\" stroke=\"black\" points=\"118.5,-1568 118.5,-1589 257.5,-1589 257.5,-1568 118.5,-1568\"/>\n<text text-anchor=\"start\" x=\"174.5\" y=\"-1574.8\" font-family=\"Times,serif\" font-size=\"14.00\">nu_z</text>\n<polygon fill=\"none\" stroke=\"black\" points=\"118.5,-1547 118.5,-1568 257.5,-1568 257.5,-1547 118.5,-1547\"/>\n<text text-anchor=\"start\" x=\"182\" y=\"-1553.8\" font-family=\"Times,serif\" font-size=\"14.00\">m</text>\n<polygon fill=\"none\" stroke=\"black\" points=\"118.5,-1526 118.5,-1547 257.5,-1547 257.5,-1526 118.5,-1526\"/>\n<text text-anchor=\"start\" x=\"186\" y=\"-1532.8\" font-family=\"Times,serif\" font-size=\"14.00\">l</text>\n<polygon fill=\"none\" stroke=\"black\" points=\"118.5,-1505 118.5,-1526 257.5,-1526 257.5,-1505 118.5,-1505\"/>\n<text text-anchor=\"start\" x=\"164\" y=\"-1511.8\" font-family=\"Times,serif\" font-size=\"14.00\">sys[0, 0]</text>\n<polygon fill=\"none\" stroke=\"black\" points=\"118.5,-1484 118.5,-1505 257.5,-1505 257.5,-1484 118.5,-1484\"/>\n<text text-anchor=\"start\" x=\"164\" y=\"-1490.8\" font-family=\"Times,serif\" font-size=\"14.00\">sys[0, 1]</text>\n<polygon fill=\"none\" stroke=\"black\" points=\"118.5,-1463 118.5,-1484 257.5,-1484 257.5,-1463 118.5,-1463\"/>\n<text text-anchor=\"start\" x=\"164\" y=\"-1469.8\" font-family=\"Times,serif\" font-size=\"14.00\">sys[0, 2]</text>\n<polygon fill=\"none\" stroke=\"black\" points=\"118.5,-1442 118.5,-1463 257.5,-1463 257.5,-1442 118.5,-1442\"/>\n<text text-anchor=\"start\" x=\"164\" y=\"-1448.8\" font-family=\"Times,serif\" font-size=\"14.00\">sys[1, 0]</text>\n<polygon fill=\"none\" stroke=\"black\" points=\"118.5,-1421 118.5,-1442 257.5,-1442 257.5,-1421 118.5,-1421\"/>\n<text text-anchor=\"start\" x=\"164\" y=\"-1427.8\" font-family=\"Times,serif\" font-size=\"14.00\">sys[1, 1]</text>\n<polygon fill=\"none\" stroke=\"black\" points=\"118.5,-1400 118.5,-1421 257.5,-1421 257.5,-1400 118.5,-1400\"/>\n<text text-anchor=\"start\" x=\"164\" y=\"-1406.8\" font-family=\"Times,serif\" font-size=\"14.00\">sys[1, 2]</text>\n<polygon fill=\"none\" stroke=\"black\" points=\"118.5,-1379 118.5,-1400 257.5,-1400 257.5,-1379 118.5,-1379\"/>\n<text text-anchor=\"start\" x=\"164\" y=\"-1385.8\" font-family=\"Times,serif\" font-size=\"14.00\">sys[2, 0]</text>\n<polygon fill=\"none\" stroke=\"black\" points=\"118.5,-1358 118.5,-1379 257.5,-1379 257.5,-1358 118.5,-1358\"/>\n<text text-anchor=\"start\" x=\"164\" y=\"-1364.8\" font-family=\"Times,serif\" font-size=\"14.00\">sys[2, 1]</text>\n<polygon fill=\"none\" stroke=\"black\" points=\"118.5,-1337 118.5,-1358 257.5,-1358 257.5,-1337 118.5,-1337\"/>\n<text text-anchor=\"start\" x=\"164\" y=\"-1343.8\" font-family=\"Times,serif\" font-size=\"14.00\">sys[2, 2]</text>\n<polygon fill=\"none\" stroke=\"black\" points=\"118.5,-1316 118.5,-1337 257.5,-1337 257.5,-1316 118.5,-1316\"/>\n<text text-anchor=\"start\" x=\"164\" y=\"-1322.8\" font-family=\"Times,serif\" font-size=\"14.00\">sys[3, 0]</text>\n<polygon fill=\"none\" stroke=\"black\" points=\"118.5,-1295 118.5,-1316 257.5,-1316 257.5,-1295 118.5,-1295\"/>\n<text text-anchor=\"start\" x=\"164\" y=\"-1301.8\" font-family=\"Times,serif\" font-size=\"14.00\">sys[3, 1]</text>\n<polygon fill=\"none\" stroke=\"black\" points=\"118.5,-1274 118.5,-1295 257.5,-1295 257.5,-1274 118.5,-1274\"/>\n<text text-anchor=\"start\" x=\"164\" y=\"-1280.8\" font-family=\"Times,serif\" font-size=\"14.00\">sys[3, 2]</text>\n<polygon fill=\"none\" stroke=\"black\" points=\"118.5,-1253 118.5,-1274 257.5,-1274 257.5,-1253 118.5,-1253\"/>\n<text text-anchor=\"start\" x=\"164\" y=\"-1259.8\" font-family=\"Times,serif\" font-size=\"14.00\">sys[4, 0]</text>\n<polygon fill=\"none\" stroke=\"black\" points=\"118.5,-1232 118.5,-1253 257.5,-1253 257.5,-1232 118.5,-1232\"/>\n<text text-anchor=\"start\" x=\"164\" y=\"-1238.8\" font-family=\"Times,serif\" font-size=\"14.00\">sys[4, 1]</text>\n<polygon fill=\"none\" stroke=\"black\" points=\"118.5,-1211 118.5,-1232 257.5,-1232 257.5,-1211 118.5,-1211\"/>\n<text text-anchor=\"start\" x=\"164\" y=\"-1217.8\" font-family=\"Times,serif\" font-size=\"14.00\">sys[4, 2]</text>\n<polygon fill=\"none\" stroke=\"black\" points=\"118.5,-1190 118.5,-1211 257.5,-1211 257.5,-1190 118.5,-1190\"/>\n<text text-anchor=\"start\" x=\"164\" y=\"-1196.8\" font-family=\"Times,serif\" font-size=\"14.00\">sys[5, 0]</text>\n<polygon fill=\"none\" stroke=\"black\" points=\"118.5,-1169 118.5,-1190 257.5,-1190 257.5,-1169 118.5,-1169\"/>\n<text text-anchor=\"start\" x=\"164\" y=\"-1175.8\" font-family=\"Times,serif\" font-size=\"14.00\">sys[5, 1]</text>\n<polygon fill=\"none\" stroke=\"black\" points=\"118.5,-1148 118.5,-1169 257.5,-1169 257.5,-1148 118.5,-1148\"/>\n<text text-anchor=\"start\" x=\"164\" y=\"-1154.8\" font-family=\"Times,serif\" font-size=\"14.00\">sys[5, 2]</text>\n<polygon fill=\"none\" stroke=\"black\" points=\"118.5,-1127 118.5,-1148 257.5,-1148 257.5,-1127 118.5,-1127\"/>\n<text text-anchor=\"start\" x=\"164\" y=\"-1133.8\" font-family=\"Times,serif\" font-size=\"14.00\">sys[6, 0]</text>\n<polygon fill=\"none\" stroke=\"black\" points=\"118.5,-1106 118.5,-1127 257.5,-1127 257.5,-1106 118.5,-1106\"/>\n<text text-anchor=\"start\" x=\"164\" y=\"-1112.8\" font-family=\"Times,serif\" font-size=\"14.00\">sys[6, 1]</text>\n<polygon fill=\"none\" stroke=\"black\" points=\"118.5,-1085 118.5,-1106 257.5,-1106 257.5,-1085 118.5,-1085\"/>\n<text text-anchor=\"start\" x=\"164\" y=\"-1091.8\" font-family=\"Times,serif\" font-size=\"14.00\">sys[6, 2]</text>\n<polygon fill=\"none\" stroke=\"black\" points=\"118.5,-1064 118.5,-1085 257.5,-1085 257.5,-1064 118.5,-1064\"/>\n<text text-anchor=\"start\" x=\"164\" y=\"-1070.8\" font-family=\"Times,serif\" font-size=\"14.00\">sys[7, 0]</text>\n<polygon fill=\"none\" stroke=\"black\" points=\"118.5,-1043 118.5,-1064 257.5,-1064 257.5,-1043 118.5,-1043\"/>\n<text text-anchor=\"start\" x=\"164\" y=\"-1049.8\" font-family=\"Times,serif\" font-size=\"14.00\">sys[7, 1]</text>\n<polygon fill=\"none\" stroke=\"black\" points=\"118.5,-1022 118.5,-1043 257.5,-1043 257.5,-1022 118.5,-1022\"/>\n<text text-anchor=\"start\" x=\"164\" y=\"-1028.8\" font-family=\"Times,serif\" font-size=\"14.00\">sys[7, 2]</text>\n<polygon fill=\"none\" stroke=\"black\" points=\"118.5,-1001 118.5,-1022 257.5,-1022 257.5,-1001 118.5,-1001\"/>\n<text text-anchor=\"start\" x=\"164\" y=\"-1007.8\" font-family=\"Times,serif\" font-size=\"14.00\">sys[8, 0]</text>\n<polygon fill=\"none\" stroke=\"black\" points=\"118.5,-980 118.5,-1001 257.5,-1001 257.5,-980 118.5,-980\"/>\n<text text-anchor=\"start\" x=\"164\" y=\"-986.8\" font-family=\"Times,serif\" font-size=\"14.00\">sys[8, 1]</text>\n<polygon fill=\"none\" stroke=\"black\" points=\"118.5,-959 118.5,-980 257.5,-980 257.5,-959 118.5,-959\"/>\n<text text-anchor=\"start\" x=\"164\" y=\"-965.8\" font-family=\"Times,serif\" font-size=\"14.00\">sys[8, 2]</text>\n<polygon fill=\"none\" stroke=\"black\" points=\"118.5,-938 118.5,-959 257.5,-959 257.5,-938 118.5,-938\"/>\n<text text-anchor=\"start\" x=\"164\" y=\"-944.8\" font-family=\"Times,serif\" font-size=\"14.00\">sys[9, 0]</text>\n<polygon fill=\"none\" stroke=\"black\" points=\"118.5,-917 118.5,-938 257.5,-938 257.5,-917 118.5,-917\"/>\n<text text-anchor=\"start\" x=\"164\" y=\"-923.8\" font-family=\"Times,serif\" font-size=\"14.00\">sys[9, 1]</text>\n<polygon fill=\"none\" stroke=\"black\" points=\"118.5,-896 118.5,-917 257.5,-917 257.5,-896 118.5,-896\"/>\n<text text-anchor=\"start\" x=\"164\" y=\"-902.8\" font-family=\"Times,serif\" font-size=\"14.00\">sys[9, 2]</text>\n<polygon fill=\"none\" stroke=\"black\" points=\"118.5,-875 118.5,-896 257.5,-896 257.5,-875 118.5,-875\"/>\n<text text-anchor=\"start\" x=\"169\" y=\"-881.8\" font-family=\"Times,serif\" font-size=\"14.00\">proj[0]</text>\n<polygon fill=\"none\" stroke=\"black\" points=\"118.5,-854 118.5,-875 257.5,-875 257.5,-854 118.5,-854\"/>\n<text text-anchor=\"start\" x=\"169\" y=\"-860.8\" font-family=\"Times,serif\" font-size=\"14.00\">proj[1]</text>\n<polygon fill=\"none\" stroke=\"black\" points=\"118.5,-833 118.5,-854 257.5,-854 257.5,-833 118.5,-833\"/>\n<text text-anchor=\"start\" x=\"169\" y=\"-839.8\" font-family=\"Times,serif\" font-size=\"14.00\">proj[2]</text>\n</g>\n<!-- ham_ctrl_G121&#45;&gt;SelectFirstQuantizationWithProj -->\n<g id=\"edge1\" class=\"edge\">\n<title>ham_ctrl_G121:e-&gt;SelectFirstQuantizationWithProj:w</title>\n<path fill=\"none\" stroke=\"black\" d=\"M81,-2718C92.14,-2718 105.78,-1938.45 117.05,-1895.81\"/>\n<ellipse fill=\"black\" stroke=\"black\" cx=\"117.54\" cy=\"-1894.89\" rx=\"1\" ry=\"1\"/>\n<text text-anchor=\"middle\" x=\"99.5\" y=\"-2309\" font-family=\"Times,serif\" font-size=\"10.00\">1</text>\n</g>\n<!-- ham_ctrl_G17 -->\n<g id=\"node2\" class=\"node\">\n<title>ham_ctrl_G17</title>\n<text text-anchor=\"middle\" x=\"40.5\" y=\"-2660.3\" font-family=\"Times,serif\" font-size=\"14.00\">ham_ctrl[1]</text>\n</g>\n<!-- ham_ctrl_G17&#45;&gt;SelectFirstQuantizationWithProj -->\n<g id=\"edge2\" class=\"edge\">\n<title>ham_ctrl_G17:e-&gt;SelectFirstQuantizationWithProj:w</title>\n<path fill=\"none\" stroke=\"black\" d=\"M81,-2664C261.64,-2664 91.56,-2438.44 100,-2258 100.97,-2237.28 96.86,-1895.39 116.07,-1874.04\"/>\n<ellipse fill=\"black\" stroke=\"black\" cx=\"117.12\" cy=\"-1873.48\" rx=\"1\" ry=\"1\"/>\n<text text-anchor=\"middle\" x=\"99.5\" y=\"-2282\" font-family=\"Times,serif\" font-size=\"10.00\">1</text>\n</g>\n<!-- ham_ctrl_G60 -->\n<g id=\"node3\" class=\"node\">\n<title>ham_ctrl_G60</title>\n<text text-anchor=\"middle\" x=\"40.5\" y=\"-2606.3\" font-family=\"Times,serif\" font-size=\"14.00\">ham_ctrl[2]</text>\n</g>\n<!-- ham_ctrl_G60&#45;&gt;SelectFirstQuantizationWithProj -->\n<g id=\"edge3\" class=\"edge\">\n<title>ham_ctrl_G60:e-&gt;SelectFirstQuantizationWithProj:w</title>\n<path fill=\"none\" stroke=\"black\" d=\"M81,-2610C101.5,-2610 97.18,-1892.89 116.33,-1853.67\"/>\n<ellipse fill=\"black\" stroke=\"black\" cx=\"117.29\" cy=\"-1852.71\" rx=\"1\" ry=\"1\"/>\n<text text-anchor=\"middle\" x=\"99.5\" y=\"-2256\" font-family=\"Times,serif\" font-size=\"10.00\">1</text>\n</g>\n<!-- ham_ctrl_G149 -->\n<g id=\"node4\" class=\"node\">\n<title>ham_ctrl_G149</title>\n<text text-anchor=\"middle\" x=\"40.5\" y=\"-2552.3\" font-family=\"Times,serif\" font-size=\"14.00\">ham_ctrl[3]</text>\n</g>\n<!-- ham_ctrl_G149&#45;&gt;SelectFirstQuantizationWithProj -->\n<g id=\"edge4\" class=\"edge\">\n<title>ham_ctrl_G149:e-&gt;SelectFirstQuantizationWithProj:w</title>\n<path fill=\"none\" stroke=\"black\" d=\"M81,-2556C100.61,-2556 98,-1870.11 116.4,-1832.6\"/>\n<ellipse fill=\"black\" stroke=\"black\" cx=\"117.29\" cy=\"-1831.71\" rx=\"1\" ry=\"1\"/>\n<text text-anchor=\"middle\" x=\"99.5\" y=\"-2196\" font-family=\"Times,serif\" font-size=\"10.00\">1</text>\n</g>\n<!-- i_ne_j_G136 -->\n<g id=\"node5\" class=\"node\">\n<title>i_ne_j_G136</title>\n<text text-anchor=\"middle\" x=\"40.5\" y=\"-2498.3\" font-family=\"Times,serif\" font-size=\"14.00\">i_ne_j</text>\n</g>\n<!-- i_ne_j_G136&#45;&gt;SelectFirstQuantizationWithProj -->\n<g id=\"edge5\" class=\"edge\">\n<title>i_ne_j_G136:e-&gt;SelectFirstQuantizationWithProj:w</title>\n<path fill=\"none\" stroke=\"black\" d=\"M68.5,-2502C81.72,-2502 77.8,-2487.83 81,-2475 85.36,-2457.54 98.74,-1844.92 116.49,-1811.43\"/>\n<ellipse fill=\"black\" stroke=\"black\" cx=\"117.27\" cy=\"-1810.69\" rx=\"1\" ry=\"1\"/>\n<text text-anchor=\"middle\" x=\"99.5\" y=\"-2023\" font-family=\"Times,serif\" font-size=\"10.00\">1</text>\n</g>\n<!-- plus_t_G95 -->\n<g id=\"node6\" class=\"node\">\n<title>plus_t_G95</title>\n<text text-anchor=\"middle\" x=\"40.5\" y=\"-2444.3\" font-family=\"Times,serif\" font-size=\"14.00\">plus_t</text>\n</g>\n<!-- plus_t_G95&#45;&gt;SelectFirstQuantizationWithProj -->\n<g id=\"edge6\" class=\"edge\">\n<title>plus_t_G95:e-&gt;SelectFirstQuantizationWithProj:w</title>\n<path fill=\"none\" stroke=\"black\" d=\"M68.5,-2448C81.72,-2448 77.78,-2433.83 81,-2421 85.15,-2404.48 99.48,-1826.85 116.36,-1790.76\"/>\n<ellipse fill=\"black\" stroke=\"black\" cx=\"117.32\" cy=\"-1789.73\" rx=\"1\" ry=\"1\"/>\n<text text-anchor=\"middle\" x=\"99.5\" y=\"-1991\" font-family=\"Times,serif\" font-size=\"10.00\">1</text>\n</g>\n<!-- i_G147 -->\n<g id=\"node7\" class=\"node\">\n<title>i_G147</title>\n<text text-anchor=\"middle\" x=\"40.5\" y=\"-2390.3\" font-family=\"Times,serif\" font-size=\"14.00\">i</text>\n</g>\n<!-- i_G147&#45;&gt;SelectFirstQuantizationWithProj -->\n<g id=\"edge7\" class=\"edge\">\n<title>i_G147:e-&gt;SelectFirstQuantizationWithProj:w</title>\n<path fill=\"none\" stroke=\"black\" d=\"M68.5,-2394C81.72,-2394 77.76,-2379.82 81,-2367 84.96,-2351.34 100.33,-1803.87 116.44,-1769.67\"/>\n<ellipse fill=\"black\" stroke=\"black\" cx=\"117.32\" cy=\"-1768.73\" rx=\"1\" ry=\"1\"/>\n<text text-anchor=\"middle\" x=\"99.5\" y=\"-1960\" font-family=\"Times,serif\" font-size=\"10.00\">4</text>\n</g>\n<!-- j_G5 -->\n<g id=\"node8\" class=\"node\">\n<title>j_G5</title>\n<text text-anchor=\"middle\" x=\"40.5\" y=\"-2336.3\" font-family=\"Times,serif\" font-size=\"14.00\">j</text>\n</g>\n<!-- j_G5&#45;&gt;SelectFirstQuantizationWithProj -->\n<g id=\"edge8\" class=\"edge\">\n<title>j_G5:e-&gt;SelectFirstQuantizationWithProj:w</title>\n<path fill=\"none\" stroke=\"black\" d=\"M68.5,-2340C81.72,-2340 77.74,-2325.81 81,-2313 84.77,-2298.21 101.17,-1780.9 116.52,-1748.58\"/>\n<ellipse fill=\"black\" stroke=\"black\" cx=\"117.32\" cy=\"-1747.73\" rx=\"1\" ry=\"1\"/>\n<text text-anchor=\"middle\" x=\"99.5\" y=\"-1944\" font-family=\"Times,serif\" font-size=\"10.00\">4</text>\n</g>\n<!-- w_G53 -->\n<g id=\"node9\" class=\"node\">\n<title>w_G53</title>\n<text text-anchor=\"middle\" x=\"40.5\" y=\"-2282.3\" font-family=\"Times,serif\" font-size=\"14.00\">w</text>\n</g>\n<!-- w_G53&#45;&gt;SelectFirstQuantizationWithProj -->\n<g id=\"edge9\" class=\"edge\">\n<title>w_G53:e-&gt;SelectFirstQuantizationWithProj:w</title>\n<path fill=\"none\" stroke=\"black\" d=\"M68.5,-2286C81.72,-2286 77.71,-2271.81 81,-2259 84.58,-2245.07 102.02,-1757.92 116.6,-1727.49\"/>\n<ellipse fill=\"black\" stroke=\"black\" cx=\"117.31\" cy=\"-1726.73\" rx=\"1\" ry=\"1\"/>\n<text text-anchor=\"middle\" x=\"99.5\" y=\"-1912\" font-family=\"Times,serif\" font-size=\"10.00\">3</text>\n</g>\n<!-- w_mean_G118 -->\n<g id=\"node10\" class=\"node\">\n<title>w_mean_G118</title>\n<text text-anchor=\"middle\" x=\"40.5\" y=\"-2228.3\" font-family=\"Times,serif\" font-size=\"14.00\">w_mean</text>\n</g>\n<!-- w_mean_G118&#45;&gt;SelectFirstQuantizationWithProj -->\n<g id=\"edge10\" class=\"edge\">\n<title>w_mean_G118:e-&gt;SelectFirstQuantizationWithProj:w</title>\n<path fill=\"none\" stroke=\"black\" d=\"M73.5,-2232C85.95,-2232 78.86,-2217.27 81,-2205 83.31,-2191.76 102.64,-1738.61 116.51,-1706.76\"/>\n<ellipse fill=\"black\" stroke=\"black\" cx=\"117.35\" cy=\"-1705.76\" rx=\"1\" ry=\"1\"/>\n<text text-anchor=\"middle\" x=\"99.5\" y=\"-1880\" font-family=\"Times,serif\" font-size=\"10.00\">3</text>\n</g>\n<!-- r_G2 -->\n<g id=\"node11\" class=\"node\">\n<title>r_G2</title>\n<text text-anchor=\"middle\" x=\"40.5\" y=\"-2174.3\" font-family=\"Times,serif\" font-size=\"14.00\">r</text>\n</g>\n<!-- r_G2&#45;&gt;SelectFirstQuantizationWithProj -->\n<g id=\"edge11\" class=\"edge\">\n<title>r_G2:e-&gt;SelectFirstQuantizationWithProj:w</title>\n<path fill=\"none\" stroke=\"black\" d=\"M68.5,-2178C81.72,-2178 77.65,-2163.79 81,-2151 84.18,-2138.85 103.55,-1715.4 116.6,-1685.65\"/>\n<ellipse fill=\"black\" stroke=\"black\" cx=\"117.35\" cy=\"-1684.76\" rx=\"1\" ry=\"1\"/>\n<text text-anchor=\"middle\" x=\"99.5\" y=\"-1861\" font-family=\"Times,serif\" font-size=\"10.00\">8</text>\n</g>\n<!-- s_G7 -->\n<g id=\"node12\" class=\"node\">\n<title>s_G7</title>\n<text text-anchor=\"middle\" x=\"40.5\" y=\"-2120.3\" font-family=\"Times,serif\" font-size=\"14.00\">s</text>\n</g>\n<!-- s_G7&#45;&gt;SelectFirstQuantizationWithProj -->\n<g id=\"edge12\" class=\"edge\">\n<title>s_G7:e-&gt;SelectFirstQuantizationWithProj:w</title>\n<path fill=\"none\" stroke=\"black\" d=\"M68.5,-2124C81.72,-2124 77.61,-2109.78 81,-2097 83.99,-2085.72 104.39,-1692.19 116.69,-1664.53\"/>\n<ellipse fill=\"black\" stroke=\"black\" cx=\"117.35\" cy=\"-1663.76\" rx=\"1\" ry=\"1\"/>\n<text text-anchor=\"middle\" x=\"99.5\" y=\"-1827\" font-family=\"Times,serif\" font-size=\"10.00\">8</text>\n</g>\n<!-- mu_G124 -->\n<g id=\"node13\" class=\"node\">\n<title>mu_G124</title>\n<text text-anchor=\"middle\" x=\"40.5\" y=\"-2066.3\" font-family=\"Times,serif\" font-size=\"14.00\">mu</text>\n</g>\n<!-- mu_G124&#45;&gt;SelectFirstQuantizationWithProj -->\n<g id=\"edge13\" class=\"edge\">\n<title>mu_G124:e-&gt;SelectFirstQuantizationWithProj:w</title>\n<path fill=\"none\" stroke=\"black\" d=\"M68.5,-2070C81.72,-2070 77.56,-2055.77 81,-2043 83.79,-2032.62 105.05,-1671.91 116.64,-1643.74\"/>\n<ellipse fill=\"black\" stroke=\"black\" cx=\"117.38\" cy=\"-1642.79\" rx=\"1\" ry=\"1\"/>\n<text text-anchor=\"middle\" x=\"99.5\" y=\"-1806\" font-family=\"Times,serif\" font-size=\"10.00\">8</text>\n</g>\n<!-- nu_x_G141 -->\n<g id=\"node14\" class=\"node\">\n<title>nu_x_G141</title>\n<text text-anchor=\"middle\" x=\"40.5\" y=\"-2012.3\" font-family=\"Times,serif\" font-size=\"14.00\">nu_x</text>\n</g>\n<!-- nu_x_G141&#45;&gt;SelectFirstQuantizationWithProj -->\n<g id=\"edge14\" class=\"edge\">\n<title>nu_x_G141:e-&gt;SelectFirstQuantizationWithProj:w</title>\n<path fill=\"none\" stroke=\"black\" d=\"M68.5,-2016C81.72,-2016 77.51,-2001.76 81,-1989 83.6,-1979.48 105.88,-1648.44 116.74,-1622.6\"/>\n<ellipse fill=\"black\" stroke=\"black\" cx=\"117.38\" cy=\"-1621.78\" rx=\"1\" ry=\"1\"/>\n<text text-anchor=\"middle\" x=\"99.5\" y=\"-1771\" font-family=\"Times,serif\" font-size=\"10.00\">9</text>\n</g>\n<!-- nu_y_G109 -->\n<g id=\"node15\" class=\"node\">\n<title>nu_y_G109</title>\n<text text-anchor=\"middle\" x=\"40.5\" y=\"-1958.3\" font-family=\"Times,serif\" font-size=\"14.00\">nu_y</text>\n</g>\n<!-- nu_y_G109&#45;&gt;SelectFirstQuantizationWithProj -->\n<g id=\"edge15\" class=\"edge\">\n<title>nu_y_G109:e-&gt;SelectFirstQuantizationWithProj:w</title>\n<path fill=\"none\" stroke=\"black\" d=\"M68.5,-1962C81.72,-1962 77.45,-1947.74 81,-1935 83.41,-1926.37 106.52,-1627.43 116.71,-1601.75\"/>\n<ellipse fill=\"black\" stroke=\"black\" cx=\"117.41\" cy=\"-1600.81\" rx=\"1\" ry=\"1\"/>\n<text text-anchor=\"middle\" x=\"99.5\" y=\"-1737\" font-family=\"Times,serif\" font-size=\"10.00\">9</text>\n</g>\n<!-- nu_z_G42 -->\n<g id=\"node16\" class=\"node\">\n<title>nu_z_G42</title>\n<text text-anchor=\"middle\" x=\"40.5\" y=\"-1904.3\" font-family=\"Times,serif\" font-size=\"14.00\">nu_z</text>\n</g>\n<!-- nu_z_G42&#45;&gt;SelectFirstQuantizationWithProj -->\n<g id=\"edge16\" class=\"edge\">\n<title>nu_z_G42:e-&gt;SelectFirstQuantizationWithProj:w</title>\n<path fill=\"none\" stroke=\"black\" d=\"M68.5,-1908C81.72,-1908 77.37,-1893.72 81,-1881 83.21,-1873.25 107.14,-1605.92 116.7,-1580.88\"/>\n<ellipse fill=\"black\" stroke=\"black\" cx=\"117.43\" cy=\"-1579.82\" rx=\"1\" ry=\"1\"/>\n<text text-anchor=\"middle\" x=\"99.5\" y=\"-1712\" font-family=\"Times,serif\" font-size=\"10.00\">9</text>\n</g>\n<!-- m_G0 -->\n<g id=\"node17\" class=\"node\">\n<title>m_G0</title>\n<text text-anchor=\"middle\" x=\"40.5\" y=\"-1850.3\" font-family=\"Times,serif\" font-size=\"14.00\">m</text>\n</g>\n<!-- m_G0&#45;&gt;SelectFirstQuantizationWithProj -->\n<g id=\"edge17\" class=\"edge\">\n<title>m_G0:e-&gt;SelectFirstQuantizationWithProj:w</title>\n<path fill=\"none\" stroke=\"black\" d=\"M68.5,-1854C81.72,-1854 77.28,-1839.69 81,-1827 83.02,-1820.1 107.95,-1581.98 116.81,-1559.67\"/>\n<ellipse fill=\"black\" stroke=\"black\" cx=\"117.42\" cy=\"-1558.82\" rx=\"1\" ry=\"1\"/>\n<text text-anchor=\"middle\" x=\"99.5\" y=\"-1676\" font-family=\"Times,serif\" font-size=\"10.00\">8</text>\n</g>\n<!-- l_G74 -->\n<g id=\"node18\" class=\"node\">\n<title>l_G74</title>\n<text text-anchor=\"middle\" x=\"40.5\" y=\"-1796.3\" font-family=\"Times,serif\" font-size=\"14.00\">l</text>\n</g>\n<!-- l_G74&#45;&gt;SelectFirstQuantizationWithProj -->\n<g id=\"edge18\" class=\"edge\">\n<title>l_G74:e-&gt;SelectFirstQuantizationWithProj:w</title>\n<path fill=\"none\" stroke=\"black\" d=\"M68.5,-1800C81.72,-1800 77.16,-1785.65 81,-1773 81.91,-1770 111.2,-1561.78 117.2,-1539.01\"/>\n<ellipse fill=\"black\" stroke=\"black\" cx=\"117.63\" cy=\"-1537.93\" rx=\"1\" ry=\"1\"/>\n<text text-anchor=\"middle\" x=\"99.5\" y=\"-1649\" font-family=\"Times,serif\" font-size=\"10.00\">4</text>\n</g>\n<!-- sys_G25 -->\n<g id=\"node19\" class=\"node\">\n<title>sys_G25</title>\n<text text-anchor=\"middle\" x=\"40.5\" y=\"-1742.3\" font-family=\"Times,serif\" font-size=\"14.00\">sys[0, 0]</text>\n</g>\n<!-- sys_G25&#45;&gt;SelectFirstQuantizationWithProj -->\n<g id=\"edge19\" class=\"edge\">\n<title>sys_G25:e-&gt;SelectFirstQuantizationWithProj:w</title>\n<path fill=\"none\" stroke=\"black\" d=\"M73.5,-1746C85.95,-1746 77.99,-1731.08 81,-1719 90.46,-1681.02 92.8,-1671.48 100,-1633 104.71,-1607.85 92.4,-1520.94 115.93,-1516.2\"/>\n<ellipse fill=\"black\" stroke=\"black\" cx=\"117\" cy=\"-1516.1\" rx=\"1\" ry=\"1\"/>\n<text text-anchor=\"middle\" x=\"99.5\" y=\"-1640\" font-family=\"Times,serif\" font-size=\"10.00\">6</text>\n</g>\n<!-- sys_G113 -->\n<g id=\"node20\" class=\"node\">\n<title>sys_G113</title>\n<text text-anchor=\"middle\" x=\"40.5\" y=\"-1688.3\" font-family=\"Times,serif\" font-size=\"14.00\">sys[0, 1]</text>\n</g>\n<!-- sys_G113&#45;&gt;SelectFirstQuantizationWithProj -->\n<g id=\"edge20\" class=\"edge\">\n<title>sys_G113:e-&gt;SelectFirstQuantizationWithProj:w</title>\n<path fill=\"none\" stroke=\"black\" d=\"M73.5,-1692C105.52,-1692 91.86,-1655.97 100,-1625 107.21,-1597.57 89.83,-1500.51 115.71,-1495.22\"/>\n<ellipse fill=\"black\" stroke=\"black\" cx=\"117\" cy=\"-1495.1\" rx=\"1\" ry=\"1\"/>\n<text text-anchor=\"middle\" x=\"99.5\" y=\"-1631\" font-family=\"Times,serif\" font-size=\"10.00\">6</text>\n</g>\n<!-- sys_G86 -->\n<g id=\"node21\" class=\"node\">\n<title>sys_G86</title>\n<text text-anchor=\"middle\" x=\"40.5\" y=\"-1634.3\" font-family=\"Times,serif\" font-size=\"14.00\">sys[0, 2]</text>\n</g>\n<!-- sys_G86&#45;&gt;SelectFirstQuantizationWithProj -->\n<g id=\"edge21\" class=\"edge\">\n<title>sys_G86:e-&gt;SelectFirstQuantizationWithProj:w</title>\n<path fill=\"none\" stroke=\"black\" d=\"M73.5,-1638C148.29,-1638 44.54,-1477.19 115.84,-1474.05\"/>\n<ellipse fill=\"black\" stroke=\"black\" cx=\"117\" cy=\"-1474.02\" rx=\"1\" ry=\"1\"/>\n<text text-anchor=\"middle\" x=\"99.5\" y=\"-1623\" font-family=\"Times,serif\" font-size=\"10.00\">6</text>\n</g>\n<!-- sys_G100 -->\n<g id=\"node22\" class=\"node\">\n<title>sys_G100</title>\n<text text-anchor=\"middle\" x=\"40.5\" y=\"-1580.3\" font-family=\"Times,serif\" font-size=\"14.00\">sys[1, 0]</text>\n</g>\n<!-- sys_G100&#45;&gt;SelectFirstQuantizationWithProj -->\n<g id=\"edge22\" class=\"edge\">\n<title>sys_G100:e-&gt;SelectFirstQuantizationWithProj:w</title>\n<path fill=\"none\" stroke=\"black\" d=\"M73.5,-1584C134.27,-1584 58.33,-1456.05 115.9,-1453.05\"/>\n<ellipse fill=\"black\" stroke=\"black\" cx=\"117\" cy=\"-1453.03\" rx=\"1\" ry=\"1\"/>\n<text text-anchor=\"middle\" x=\"99.5\" y=\"-1462\" font-family=\"Times,serif\" font-size=\"10.00\">6</text>\n</g>\n<!-- sys_G143 -->\n<g id=\"node23\" class=\"node\">\n<title>sys_G143</title>\n<text text-anchor=\"middle\" x=\"40.5\" y=\"-1526.3\" font-family=\"Times,serif\" font-size=\"14.00\">sys[1, 1]</text>\n</g>\n<!-- sys_G143&#45;&gt;SelectFirstQuantizationWithProj -->\n<g id=\"edge23\" class=\"edge\">\n<title>sys_G143:e-&gt;SelectFirstQuantizationWithProj:w</title>\n<path fill=\"none\" stroke=\"black\" d=\"M73.5,-1530C120.59,-1530 71.74,-1435.04 115.83,-1432.07\"/>\n<ellipse fill=\"black\" stroke=\"black\" cx=\"117\" cy=\"-1432.03\" rx=\"1\" ry=\"1\"/>\n<text text-anchor=\"middle\" x=\"99.5\" y=\"-1445\" font-family=\"Times,serif\" font-size=\"10.00\">6</text>\n</g>\n<!-- sys_G110 -->\n<g id=\"node24\" class=\"node\">\n<title>sys_G110</title>\n<text text-anchor=\"middle\" x=\"40.5\" y=\"-1472.3\" font-family=\"Times,serif\" font-size=\"14.00\">sys[1, 2]</text>\n</g>\n<!-- sys_G110&#45;&gt;SelectFirstQuantizationWithProj -->\n<g id=\"edge24\" class=\"edge\">\n<title>sys_G110:e-&gt;SelectFirstQuantizationWithProj:w</title>\n<path fill=\"none\" stroke=\"black\" d=\"M73.5,-1476C107.69,-1476 84.15,-1414.01 115.64,-1411.11\"/>\n<ellipse fill=\"black\" stroke=\"black\" cx=\"117\" cy=\"-1411.04\" rx=\"1\" ry=\"1\"/>\n<text text-anchor=\"middle\" x=\"99.5\" y=\"-1429\" font-family=\"Times,serif\" font-size=\"10.00\">6</text>\n</g>\n<!-- sys_G80 -->\n<g id=\"node25\" class=\"node\">\n<title>sys_G80</title>\n<text text-anchor=\"middle\" x=\"40.5\" y=\"-1418.3\" font-family=\"Times,serif\" font-size=\"14.00\">sys[2, 0]</text>\n</g>\n<!-- sys_G80&#45;&gt;SelectFirstQuantizationWithProj -->\n<g id=\"edge25\" class=\"edge\">\n<title>sys_G80:e-&gt;SelectFirstQuantizationWithProj:w</title>\n<path fill=\"none\" stroke=\"black\" d=\"M73.5,-1422C97.1,-1422 93.88,-1391.97 115.8,-1390.09\"/>\n<ellipse fill=\"black\" stroke=\"black\" cx=\"117\" cy=\"-1390.04\" rx=\"1\" ry=\"1\"/>\n<text text-anchor=\"middle\" x=\"99.5\" y=\"-1403\" font-family=\"Times,serif\" font-size=\"10.00\">6</text>\n</g>\n<!-- sys_G142 -->\n<g id=\"node26\" class=\"node\">\n<title>sys_G142</title>\n<text text-anchor=\"middle\" x=\"40.5\" y=\"-1364.3\" font-family=\"Times,serif\" font-size=\"14.00\">sys[2, 1]</text>\n</g>\n<!-- sys_G142&#45;&gt;SelectFirstQuantizationWithProj -->\n<g id=\"edge26\" class=\"edge\">\n<title>sys_G142:e-&gt;SelectFirstQuantizationWithProj:w</title>\n<path fill=\"none\" stroke=\"black\" d=\"M73.5,-1368C92.51,-1368 97.81,-1368 115.75,-1368\"/>\n<ellipse fill=\"black\" stroke=\"black\" cx=\"117\" cy=\"-1368\" rx=\"1\" ry=\"1\"/>\n<text text-anchor=\"middle\" x=\"99.5\" y=\"-1371\" font-family=\"Times,serif\" font-size=\"10.00\">6</text>\n</g>\n<!-- sys_G22 -->\n<g id=\"node27\" class=\"node\">\n<title>sys_G22</title>\n<text text-anchor=\"middle\" x=\"40.5\" y=\"-1310.3\" font-family=\"Times,serif\" font-size=\"14.00\">sys[2, 2]</text>\n</g>\n<!-- sys_G22&#45;&gt;SelectFirstQuantizationWithProj -->\n<g id=\"edge27\" class=\"edge\">\n<title>sys_G22:e-&gt;SelectFirstQuantizationWithProj:w</title>\n<path fill=\"none\" stroke=\"black\" d=\"M73.5,-1314C97.35,-1314 93.65,-1344.97 115.78,-1346.91\"/>\n<ellipse fill=\"black\" stroke=\"black\" cx=\"117\" cy=\"-1346.96\" rx=\"1\" ry=\"1\"/>\n<text text-anchor=\"middle\" x=\"99.5\" y=\"-1339\" font-family=\"Times,serif\" font-size=\"10.00\">6</text>\n</g>\n<!-- sys_G66 -->\n<g id=\"node28\" class=\"node\">\n<title>sys_G66</title>\n<text text-anchor=\"middle\" x=\"40.5\" y=\"-1256.3\" font-family=\"Times,serif\" font-size=\"14.00\">sys[3, 0]</text>\n</g>\n<!-- sys_G66&#45;&gt;SelectFirstQuantizationWithProj -->\n<g id=\"edge28\" class=\"edge\">\n<title>sys_G66:e-&gt;SelectFirstQuantizationWithProj:w</title>\n<path fill=\"none\" stroke=\"black\" d=\"M73.5,-1260C108.19,-1260 83.62,-1323.45 116,-1325.93\"/>\n<ellipse fill=\"black\" stroke=\"black\" cx=\"117\" cy=\"-1325.96\" rx=\"1\" ry=\"1\"/>\n<text text-anchor=\"middle\" x=\"99.5\" y=\"-1314\" font-family=\"Times,serif\" font-size=\"10.00\">6</text>\n</g>\n<!-- sys_G31 -->\n<g id=\"node29\" class=\"node\">\n<title>sys_G31</title>\n<text text-anchor=\"middle\" x=\"40.5\" y=\"-1202.3\" font-family=\"Times,serif\" font-size=\"14.00\">sys[3, 1]</text>\n</g>\n<!-- sys_G31&#45;&gt;SelectFirstQuantizationWithProj -->\n<g id=\"edge29\" class=\"edge\">\n<title>sys_G31:e-&gt;SelectFirstQuantizationWithProj:w</title>\n<path fill=\"none\" stroke=\"black\" d=\"M73.5,-1206C120.99,-1206 71.36,-1301.93 115.81,-1304.93\"/>\n<ellipse fill=\"black\" stroke=\"black\" cx=\"117\" cy=\"-1304.97\" rx=\"1\" ry=\"1\"/>\n<text text-anchor=\"middle\" x=\"99.5\" y=\"-1297\" font-family=\"Times,serif\" font-size=\"10.00\">6</text>\n</g>\n<!-- sys_G78 -->\n<g id=\"node30\" class=\"node\">\n<title>sys_G78</title>\n<text text-anchor=\"middle\" x=\"40.5\" y=\"-1148.3\" font-family=\"Times,serif\" font-size=\"14.00\">sys[3, 2]</text>\n</g>\n<!-- sys_G78&#45;&gt;SelectFirstQuantizationWithProj -->\n<g id=\"edge30\" class=\"edge\">\n<title>sys_G78:e-&gt;SelectFirstQuantizationWithProj:w</title>\n<path fill=\"none\" stroke=\"black\" d=\"M73.5,-1152C134.69,-1152 57.93,-1280.92 115.88,-1283.95\"/>\n<ellipse fill=\"black\" stroke=\"black\" cx=\"117\" cy=\"-1283.97\" rx=\"1\" ry=\"1\"/>\n<text text-anchor=\"middle\" x=\"99.5\" y=\"-1279\" font-family=\"Times,serif\" font-size=\"10.00\">6</text>\n</g>\n<!-- sys_G49 -->\n<g id=\"node31\" class=\"node\">\n<title>sys_G49</title>\n<text text-anchor=\"middle\" x=\"40.5\" y=\"-1094.3\" font-family=\"Times,serif\" font-size=\"14.00\">sys[4, 0]</text>\n</g>\n<!-- sys_G49&#45;&gt;SelectFirstQuantizationWithProj -->\n<g id=\"edge31\" class=\"edge\">\n<title>sys_G49:e-&gt;SelectFirstQuantizationWithProj:w</title>\n<path fill=\"none\" stroke=\"black\" d=\"M73.5,-1098C148.71,-1098 44.13,-1259.79 115.83,-1262.95\"/>\n<ellipse fill=\"black\" stroke=\"black\" cx=\"117\" cy=\"-1262.98\" rx=\"1\" ry=\"1\"/>\n<text text-anchor=\"middle\" x=\"99.5\" y=\"-1163\" font-family=\"Times,serif\" font-size=\"10.00\">6</text>\n</g>\n<!-- sys_G19 -->\n<g id=\"node32\" class=\"node\">\n<title>sys_G19</title>\n<text text-anchor=\"middle\" x=\"40.5\" y=\"-1040.3\" font-family=\"Times,serif\" font-size=\"14.00\">sys[4, 1]</text>\n</g>\n<!-- sys_G19&#45;&gt;SelectFirstQuantizationWithProj -->\n<g id=\"edge32\" class=\"edge\">\n<title>sys_G19:e-&gt;SelectFirstQuantizationWithProj:w</title>\n<path fill=\"none\" stroke=\"black\" d=\"M73.5,-1044C85.95,-1044 77.96,-1058.92 81,-1071 90.35,-1108.12 91.9,-1117.59 100,-1155 104.01,-1173.54 98.7,-1236.78 115.8,-1241.7\"/>\n<ellipse fill=\"black\" stroke=\"black\" cx=\"117.01\" cy=\"-1241.86\" rx=\"1\" ry=\"1\"/>\n<text text-anchor=\"middle\" x=\"99.5\" y=\"-1158\" font-family=\"Times,serif\" font-size=\"10.00\">6</text>\n</g>\n<!-- sys_G3 -->\n<g id=\"node33\" class=\"node\">\n<title>sys_G3</title>\n<text text-anchor=\"middle\" x=\"40.5\" y=\"-986.3\" font-family=\"Times,serif\" font-size=\"14.00\">sys[4, 2]</text>\n</g>\n<!-- sys_G3&#45;&gt;SelectFirstQuantizationWithProj -->\n<g id=\"edge33\" class=\"edge\">\n<title>sys_G3:e-&gt;SelectFirstQuantizationWithProj:w</title>\n<path fill=\"none\" stroke=\"black\" d=\"M73.5,-990C85.96,-990 103.22,-1199.85 116.13,-1219.52\"/>\n<ellipse fill=\"black\" stroke=\"black\" cx=\"117.21\" cy=\"-1220.38\" rx=\"1\" ry=\"1\"/>\n<text text-anchor=\"middle\" x=\"99.5\" y=\"-1135\" font-family=\"Times,serif\" font-size=\"10.00\">6</text>\n</g>\n<!-- sys_G11 -->\n<g id=\"node34\" class=\"node\">\n<title>sys_G11</title>\n<text text-anchor=\"middle\" x=\"40.5\" y=\"-932.3\" font-family=\"Times,serif\" font-size=\"14.00\">sys[5, 0]</text>\n</g>\n<!-- sys_G11&#45;&gt;SelectFirstQuantizationWithProj -->\n<g id=\"edge34\" class=\"edge\">\n<title>sys_G11:e-&gt;SelectFirstQuantizationWithProj:w</title>\n<path fill=\"none\" stroke=\"black\" d=\"M73.5,-936C87.79,-936 101.97,-1179.78 116.26,-1198.82\"/>\n<ellipse fill=\"black\" stroke=\"black\" cx=\"117.17\" cy=\"-1199.44\" rx=\"1\" ry=\"1\"/>\n<text text-anchor=\"middle\" x=\"99.5\" y=\"-1102\" font-family=\"Times,serif\" font-size=\"10.00\">6</text>\n</g>\n<!-- sys_G91 -->\n<g id=\"node35\" class=\"node\">\n<title>sys_G91</title>\n<text text-anchor=\"middle\" x=\"40.5\" y=\"-878.3\" font-family=\"Times,serif\" font-size=\"14.00\">sys[5, 1]</text>\n</g>\n<!-- sys_G91&#45;&gt;SelectFirstQuantizationWithProj -->\n<g id=\"edge35\" class=\"edge\">\n<title>sys_G91:e-&gt;SelectFirstQuantizationWithProj:w</title>\n<path fill=\"none\" stroke=\"black\" d=\"M73.5,-882C89.6,-882 100.53,-1158.48 116.26,-1177.92\"/>\n<ellipse fill=\"black\" stroke=\"black\" cx=\"117.15\" cy=\"-1178.47\" rx=\"1\" ry=\"1\"/>\n<text text-anchor=\"middle\" x=\"99.5\" y=\"-1077\" font-family=\"Times,serif\" font-size=\"10.00\">6</text>\n</g>\n<!-- sys_G63 -->\n<g id=\"node36\" class=\"node\">\n<title>sys_G63</title>\n<text text-anchor=\"middle\" x=\"40.5\" y=\"-824.3\" font-family=\"Times,serif\" font-size=\"14.00\">sys[5, 2]</text>\n</g>\n<!-- sys_G63&#45;&gt;SelectFirstQuantizationWithProj -->\n<g id=\"edge36\" class=\"edge\">\n<title>sys_G63:e-&gt;SelectFirstQuantizationWithProj:w</title>\n<path fill=\"none\" stroke=\"black\" d=\"M73.5,-828C91.35,-828 98.96,-1135.2 116.09,-1156.81\"/>\n<ellipse fill=\"black\" stroke=\"black\" cx=\"117.15\" cy=\"-1157.47\" rx=\"1\" ry=\"1\"/>\n<text text-anchor=\"middle\" x=\"99.5\" y=\"-1044\" font-family=\"Times,serif\" font-size=\"10.00\">6</text>\n</g>\n<!-- sys_G1 -->\n<g id=\"node37\" class=\"node\">\n<title>sys_G1</title>\n<text text-anchor=\"middle\" x=\"40.5\" y=\"-770.3\" font-family=\"Times,serif\" font-size=\"14.00\">sys[6, 0]</text>\n</g>\n<!-- sys_G1&#45;&gt;SelectFirstQuantizationWithProj -->\n<g id=\"edge37\" class=\"edge\">\n<title>sys_G1:e-&gt;SelectFirstQuantizationWithProj:w</title>\n<path fill=\"none\" stroke=\"black\" d=\"M73.5,-774C93.18,-774 97.42,-1114.67 116.14,-1135.96\"/>\n<ellipse fill=\"black\" stroke=\"black\" cx=\"117.13\" cy=\"-1136.51\" rx=\"1\" ry=\"1\"/>\n<text text-anchor=\"middle\" x=\"99.5\" y=\"-1012\" font-family=\"Times,serif\" font-size=\"10.00\">6</text>\n</g>\n<!-- sys_G36 -->\n<g id=\"node38\" class=\"node\">\n<title>sys_G36</title>\n<text text-anchor=\"middle\" x=\"40.5\" y=\"-716.3\" font-family=\"Times,serif\" font-size=\"14.00\">sys[6, 1]</text>\n</g>\n<!-- sys_G36&#45;&gt;SelectFirstQuantizationWithProj -->\n<g id=\"edge38\" class=\"edge\">\n<title>sys_G36:e-&gt;SelectFirstQuantizationWithProj:w</title>\n<path fill=\"none\" stroke=\"black\" d=\"M73.5,-720C94.95,-720 95.83,-1091.64 115.99,-1114.86\"/>\n<ellipse fill=\"black\" stroke=\"black\" cx=\"117.13\" cy=\"-1115.51\" rx=\"1\" ry=\"1\"/>\n<text text-anchor=\"middle\" x=\"99.5\" y=\"-990\" font-family=\"Times,serif\" font-size=\"10.00\">6</text>\n</g>\n<!-- sys_G10 -->\n<g id=\"node39\" class=\"node\">\n<title>sys_G10</title>\n<text text-anchor=\"middle\" x=\"40.5\" y=\"-662.3\" font-family=\"Times,serif\" font-size=\"14.00\">sys[6, 2]</text>\n</g>\n<!-- sys_G10&#45;&gt;SelectFirstQuantizationWithProj -->\n<g id=\"edge39\" class=\"edge\">\n<title>sys_G10:e-&gt;SelectFirstQuantizationWithProj:w</title>\n<path fill=\"none\" stroke=\"black\" d=\"M73.5,-666C96.81,-666 94.21,-1071.86 116.09,-1094.06\"/>\n<ellipse fill=\"black\" stroke=\"black\" cx=\"117.1\" cy=\"-1094.56\" rx=\"1\" ry=\"1\"/>\n<text text-anchor=\"middle\" x=\"99.5\" y=\"-959\" font-family=\"Times,serif\" font-size=\"10.00\">6</text>\n</g>\n<!-- sys_G140 -->\n<g id=\"node40\" class=\"node\">\n<title>sys_G140</title>\n<text text-anchor=\"middle\" x=\"40.5\" y=\"-608.3\" font-family=\"Times,serif\" font-size=\"14.00\">sys[7, 0]</text>\n</g>\n<!-- sys_G140&#45;&gt;SelectFirstQuantizationWithProj -->\n<g id=\"edge40\" class=\"edge\">\n<title>sys_G140:e-&gt;SelectFirstQuantizationWithProj:w</title>\n<path fill=\"none\" stroke=\"black\" d=\"M73.5,-612C98.58,-612 92.58,-1049.08 115.96,-1072.98\"/>\n<ellipse fill=\"black\" stroke=\"black\" cx=\"117.1\" cy=\"-1073.55\" rx=\"1\" ry=\"1\"/>\n<text text-anchor=\"middle\" x=\"99.5\" y=\"-940\" font-family=\"Times,serif\" font-size=\"10.00\">6</text>\n</g>\n<!-- sys_G61 -->\n<g id=\"node41\" class=\"node\">\n<title>sys_G61</title>\n<text text-anchor=\"middle\" x=\"40.5\" y=\"-554.3\" font-family=\"Times,serif\" font-size=\"14.00\">sys[7, 1]</text>\n</g>\n<!-- sys_G61&#45;&gt;SelectFirstQuantizationWithProj -->\n<g id=\"edge41\" class=\"edge\">\n<title>sys_G61:e-&gt;SelectFirstQuantizationWithProj:w</title>\n<path fill=\"none\" stroke=\"black\" d=\"M73.5,-558C100.46,-558 90.87,-1030.07 116.12,-1052.2\"/>\n<ellipse fill=\"black\" stroke=\"black\" cx=\"117.08\" cy=\"-1052.61\" rx=\"1\" ry=\"1\"/>\n<text text-anchor=\"middle\" x=\"99.5\" y=\"-909\" font-family=\"Times,serif\" font-size=\"10.00\">6</text>\n</g>\n<!-- sys_G111 -->\n<g id=\"node42\" class=\"node\">\n<title>sys_G111</title>\n<text text-anchor=\"middle\" x=\"40.5\" y=\"-500.3\" font-family=\"Times,serif\" font-size=\"14.00\">sys[7, 2]</text>\n</g>\n<!-- sys_G111&#45;&gt;SelectFirstQuantizationWithProj -->\n<g id=\"edge42\" class=\"edge\">\n<title>sys_G111:e-&gt;SelectFirstQuantizationWithProj:w</title>\n<path fill=\"none\" stroke=\"black\" d=\"M73.5,-504C102.25,-504 89.21,-1007.54 116,-1031.14\"/>\n<ellipse fill=\"black\" stroke=\"black\" cx=\"117.08\" cy=\"-1031.61\" rx=\"1\" ry=\"1\"/>\n<text text-anchor=\"middle\" x=\"99.5\" y=\"-893\" font-family=\"Times,serif\" font-size=\"10.00\">6</text>\n</g>\n<!-- sys_G14 -->\n<g id=\"node43\" class=\"node\">\n<title>sys_G14</title>\n<text text-anchor=\"middle\" x=\"40.5\" y=\"-446.3\" font-family=\"Times,serif\" font-size=\"14.00\">sys[8, 0]</text>\n</g>\n<!-- sys_G14&#45;&gt;SelectFirstQuantizationWithProj -->\n<g id=\"edge43\" class=\"edge\">\n<title>sys_G14:e-&gt;SelectFirstQuantizationWithProj:w</title>\n<path fill=\"none\" stroke=\"black\" d=\"M73.5,-450C85.95,-450 78.89,-464.73 81,-477 83.44,-491.2 101.92,-979.03 116.59,-1009.51\"/>\n<ellipse fill=\"black\" stroke=\"black\" cx=\"117.31\" cy=\"-1010.27\" rx=\"1\" ry=\"1\"/>\n<text text-anchor=\"middle\" x=\"99.5\" y=\"-830\" font-family=\"Times,serif\" font-size=\"10.00\">6</text>\n</g>\n<!-- sys_G96 -->\n<g id=\"node44\" class=\"node\">\n<title>sys_G96</title>\n<text text-anchor=\"middle\" x=\"40.5\" y=\"-392.3\" font-family=\"Times,serif\" font-size=\"14.00\">sys[8, 1]</text>\n</g>\n<!-- sys_G96&#45;&gt;SelectFirstQuantizationWithProj -->\n<g id=\"edge44\" class=\"edge\">\n<title>sys_G96:e-&gt;SelectFirstQuantizationWithProj:w</title>\n<path fill=\"none\" stroke=\"black\" d=\"M73.5,-396C85.95,-396 78.92,-410.72 81,-423 83.56,-438.07 101.07,-956.06 116.51,-988.42\"/>\n<ellipse fill=\"black\" stroke=\"black\" cx=\"117.32\" cy=\"-989.27\" rx=\"1\" ry=\"1\"/>\n<text text-anchor=\"middle\" x=\"99.5\" y=\"-813\" font-family=\"Times,serif\" font-size=\"10.00\">6</text>\n</g>\n<!-- sys_G139 -->\n<g id=\"node45\" class=\"node\">\n<title>sys_G139</title>\n<text text-anchor=\"middle\" x=\"40.5\" y=\"-338.3\" font-family=\"Times,serif\" font-size=\"14.00\">sys[8, 2]</text>\n</g>\n<!-- sys_G139&#45;&gt;SelectFirstQuantizationWithProj -->\n<g id=\"edge45\" class=\"edge\">\n<title>sys_G139:e-&gt;SelectFirstQuantizationWithProj:w</title>\n<path fill=\"none\" stroke=\"black\" d=\"M73.5,-342C85.95,-342 78.94,-356.72 81,-369 83.68,-384.95 100.22,-933.08 116.43,-967.33\"/>\n<ellipse fill=\"black\" stroke=\"black\" cx=\"117.32\" cy=\"-968.27\" rx=\"1\" ry=\"1\"/>\n<text text-anchor=\"middle\" x=\"99.5\" y=\"-782\" font-family=\"Times,serif\" font-size=\"10.00\">6</text>\n</g>\n<!-- sys_G114 -->\n<g id=\"node46\" class=\"node\">\n<title>sys_G114</title>\n<text text-anchor=\"middle\" x=\"40.5\" y=\"-284.3\" font-family=\"Times,serif\" font-size=\"14.00\">sys[9, 0]</text>\n</g>\n<!-- sys_G114&#45;&gt;SelectFirstQuantizationWithProj -->\n<g id=\"edge46\" class=\"edge\">\n<title>sys_G114:e-&gt;SelectFirstQuantizationWithProj:w</title>\n<path fill=\"none\" stroke=\"black\" d=\"M73.5,-288C85.95,-288 78.96,-302.71 81,-315 83.8,-331.83 99.37,-910.11 116.35,-946.23\"/>\n<ellipse fill=\"black\" stroke=\"black\" cx=\"117.32\" cy=\"-947.27\" rx=\"1\" ry=\"1\"/>\n<text text-anchor=\"middle\" x=\"99.5\" y=\"-768\" font-family=\"Times,serif\" font-size=\"10.00\">6</text>\n</g>\n<!-- sys_G76 -->\n<g id=\"node47\" class=\"node\">\n<title>sys_G76</title>\n<text text-anchor=\"middle\" x=\"40.5\" y=\"-230.3\" font-family=\"Times,serif\" font-size=\"14.00\">sys[9, 1]</text>\n</g>\n<!-- sys_G76&#45;&gt;SelectFirstQuantizationWithProj -->\n<g id=\"edge47\" class=\"edge\">\n<title>sys_G76:e-&gt;SelectFirstQuantizationWithProj:w</title>\n<path fill=\"none\" stroke=\"black\" d=\"M73.5,-234C85.95,-234 78.98,-248.71 81,-261 82.46,-269.86 107.12,-886.58 117.08,-925.12\"/>\n<ellipse fill=\"black\" stroke=\"black\" cx=\"117.56\" cy=\"-926.1\" rx=\"1\" ry=\"1\"/>\n<text text-anchor=\"middle\" x=\"99.5\" y=\"-659\" font-family=\"Times,serif\" font-size=\"10.00\">6</text>\n</g>\n<!-- sys_G126 -->\n<g id=\"node48\" class=\"node\">\n<title>sys_G126</title>\n<text text-anchor=\"middle\" x=\"40.5\" y=\"-176.3\" font-family=\"Times,serif\" font-size=\"14.00\">sys[9, 2]</text>\n</g>\n<!-- sys_G126&#45;&gt;SelectFirstQuantizationWithProj -->\n<g id=\"edge48\" class=\"edge\">\n<title>sys_G126:e-&gt;SelectFirstQuantizationWithProj:w</title>\n<path fill=\"none\" stroke=\"black\" d=\"M73.5,-180C85.95,-180 78.99,-194.71 81,-207 82.52,-216.29 106.69,-863.58 117.04,-904.02\"/>\n<ellipse fill=\"black\" stroke=\"black\" cx=\"117.56\" cy=\"-905.1\" rx=\"1\" ry=\"1\"/>\n<text text-anchor=\"middle\" x=\"99.5\" y=\"-625\" font-family=\"Times,serif\" font-size=\"10.00\">6</text>\n</g>\n<!-- proj_G20 -->\n<g id=\"node49\" class=\"node\">\n<title>proj_G20</title>\n<text text-anchor=\"middle\" x=\"40.5\" y=\"-122.3\" font-family=\"Times,serif\" font-size=\"14.00\">proj[0]</text>\n</g>\n<!-- proj_G20&#45;&gt;SelectFirstQuantizationWithProj -->\n<g id=\"edge49\" class=\"edge\">\n<title>proj_G20:e-&gt;SelectFirstQuantizationWithProj:w</title>\n<path fill=\"none\" stroke=\"black\" d=\"M68.5,-126C81.72,-126 77.83,-140.16 81,-153 83.36,-162.57 106.32,-840.56 117.01,-882.93\"/>\n<ellipse fill=\"black\" stroke=\"black\" cx=\"117.57\" cy=\"-884.1\" rx=\"1\" ry=\"1\"/>\n<text text-anchor=\"middle\" x=\"99.5\" y=\"-590\" font-family=\"Times,serif\" font-size=\"10.00\">8</text>\n</g>\n<!-- proj_G33 -->\n<g id=\"node50\" class=\"node\">\n<title>proj_G33</title>\n<text text-anchor=\"middle\" x=\"40.5\" y=\"-68.3\" font-family=\"Times,serif\" font-size=\"14.00\">proj[1]</text>\n</g>\n<!-- proj_G33&#45;&gt;SelectFirstQuantizationWithProj -->\n<g id=\"edge50\" class=\"edge\">\n<title>proj_G33:e-&gt;SelectFirstQuantizationWithProj:w</title>\n<path fill=\"none\" stroke=\"black\" d=\"M68.5,-72C81.72,-72 77.84,-86.16 81,-99 83.46,-109.01 105.89,-817.56 116.97,-861.83\"/>\n<ellipse fill=\"black\" stroke=\"black\" cx=\"117.57\" cy=\"-863.1\" rx=\"1\" ry=\"1\"/>\n<text text-anchor=\"middle\" x=\"99.5\" y=\"-556\" font-family=\"Times,serif\" font-size=\"10.00\">8</text>\n</g>\n<!-- proj_G81 -->\n<g id=\"node51\" class=\"node\">\n<title>proj_G81</title>\n<text text-anchor=\"middle\" x=\"40.5\" y=\"-14.3\" font-family=\"Times,serif\" font-size=\"14.00\">proj[2]</text>\n</g>\n<!-- proj_G81&#45;&gt;SelectFirstQuantizationWithProj -->\n<g id=\"edge51\" class=\"edge\">\n<title>proj_G81:e-&gt;SelectFirstQuantizationWithProj:w</title>\n<path fill=\"none\" stroke=\"black\" d=\"M68.5,-18C81.72,-18 77.86,-32.16 81,-45 83.55,-55.44 105.47,-794.56 116.93,-840.74\"/>\n<ellipse fill=\"black\" stroke=\"black\" cx=\"117.57\" cy=\"-842.1\" rx=\"1\" ry=\"1\"/>\n<text text-anchor=\"middle\" x=\"99.5\" y=\"-522\" font-family=\"Times,serif\" font-size=\"10.00\">8</text>\n</g>\n<!-- ham_ctrl_G101 -->\n<g id=\"node53\" class=\"node\">\n<title>ham_ctrl_G101</title>\n<text text-anchor=\"middle\" x=\"334.5\" y=\"-2714.3\" font-family=\"Times,serif\" font-size=\"14.00\">ham_ctrl[0]</text>\n</g>\n<!-- SelectFirstQuantizationWithProj&#45;&gt;ham_ctrl_G101 -->\n<g id=\"edge52\" class=\"edge\">\n<title>SelectFirstQuantizationWithProj:e-&gt;ham_ctrl_G101:w</title>\n<path fill=\"none\" stroke=\"black\" d=\"M257,-1894C268.14,-1894 281.78,-2673.55 293.05,-2716.19\"/>\n<ellipse fill=\"black\" stroke=\"black\" cx=\"293.54\" cy=\"-2717.11\" rx=\"1\" ry=\"1\"/>\n<text text-anchor=\"middle\" x=\"275.5\" y=\"-2309\" font-family=\"Times,serif\" font-size=\"10.00\">1</text>\n</g>\n<!-- ham_ctrl_G4 -->\n<g id=\"node54\" class=\"node\">\n<title>ham_ctrl_G4</title>\n<text text-anchor=\"middle\" x=\"334.5\" y=\"-2660.3\" font-family=\"Times,serif\" font-size=\"14.00\">ham_ctrl[1]</text>\n</g>\n<!-- SelectFirstQuantizationWithProj&#45;&gt;ham_ctrl_G4 -->\n<g id=\"edge53\" class=\"edge\">\n<title>SelectFirstQuantizationWithProj:e-&gt;ham_ctrl_G4:w</title>\n<path fill=\"none\" stroke=\"black\" d=\"M257,-1873C278.41,-1873 274,-2236.61 275,-2258 283.41,-2437.74 114.68,-2662.24 291.9,-2663.99\"/>\n<ellipse fill=\"black\" stroke=\"black\" cx=\"293\" cy=\"-2664\" rx=\"1\" ry=\"1\"/>\n<text text-anchor=\"middle\" x=\"275.5\" y=\"-2282\" font-family=\"Times,serif\" font-size=\"10.00\">1</text>\n</g>\n<!-- ham_ctrl_G38 -->\n<g id=\"node55\" class=\"node\">\n<title>ham_ctrl_G38</title>\n<text text-anchor=\"middle\" x=\"334.5\" y=\"-2606.3\" font-family=\"Times,serif\" font-size=\"14.00\">ham_ctrl[2]</text>\n</g>\n<!-- SelectFirstQuantizationWithProj&#45;&gt;ham_ctrl_G38 -->\n<g id=\"edge54\" class=\"edge\">\n<title>SelectFirstQuantizationWithProj:e-&gt;ham_ctrl_G38:w</title>\n<path fill=\"none\" stroke=\"black\" d=\"M257,-1852C277.5,-1852 273.18,-2569.11 292.33,-2608.33\"/>\n<ellipse fill=\"black\" stroke=\"black\" cx=\"293.29\" cy=\"-2609.29\" rx=\"1\" ry=\"1\"/>\n<text text-anchor=\"middle\" x=\"275.5\" y=\"-2256\" font-family=\"Times,serif\" font-size=\"10.00\">1</text>\n</g>\n<!-- ham_ctrl_G128 -->\n<g id=\"node56\" class=\"node\">\n<title>ham_ctrl_G128</title>\n<text text-anchor=\"middle\" x=\"334.5\" y=\"-2552.3\" font-family=\"Times,serif\" font-size=\"14.00\">ham_ctrl[3]</text>\n</g>\n<!-- SelectFirstQuantizationWithProj&#45;&gt;ham_ctrl_G128 -->\n<g id=\"edge55\" class=\"edge\">\n<title>SelectFirstQuantizationWithProj:e-&gt;ham_ctrl_G128:w</title>\n<path fill=\"none\" stroke=\"black\" d=\"M257,-1831C276.61,-1831 274,-2516.89 292.4,-2554.4\"/>\n<ellipse fill=\"black\" stroke=\"black\" cx=\"293.29\" cy=\"-2555.29\" rx=\"1\" ry=\"1\"/>\n<text text-anchor=\"middle\" x=\"275.5\" y=\"-2196\" font-family=\"Times,serif\" font-size=\"10.00\">1</text>\n</g>\n<!-- i_ne_j_G32 -->\n<g id=\"node57\" class=\"node\">\n<title>i_ne_j_G32</title>\n<text text-anchor=\"middle\" x=\"334.5\" y=\"-2498.3\" font-family=\"Times,serif\" font-size=\"14.00\">i_ne_j</text>\n</g>\n<!-- SelectFirstQuantizationWithProj&#45;&gt;i_ne_j_G32 -->\n<g id=\"edge56\" class=\"edge\">\n<title>SelectFirstQuantizationWithProj:e-&gt;i_ne_j_G32:w</title>\n<path fill=\"none\" stroke=\"black\" d=\"M257,-1810C275.5,-1810 289.52,-2457.05 294,-2475 297.03,-2487.13 293.68,-2500.45 304.48,-2501.88\"/>\n<ellipse fill=\"black\" stroke=\"black\" cx=\"305.5\" cy=\"-2501.94\" rx=\"1\" ry=\"1\"/>\n<text text-anchor=\"middle\" x=\"275.5\" y=\"-2023\" font-family=\"Times,serif\" font-size=\"10.00\">1</text>\n</g>\n<!-- plus_t_G69 -->\n<g id=\"node58\" class=\"node\">\n<title>plus_t_G69</title>\n<text text-anchor=\"middle\" x=\"334.5\" y=\"-2444.3\" font-family=\"Times,serif\" font-size=\"14.00\">plus_t</text>\n</g>\n<!-- SelectFirstQuantizationWithProj&#45;&gt;plus_t_G69 -->\n<g id=\"edge57\" class=\"edge\">\n<title>SelectFirstQuantizationWithProj:e-&gt;plus_t_G69:w</title>\n<path fill=\"none\" stroke=\"black\" d=\"M257,-1789C274.59,-1789 289.72,-2403.94 294,-2421 297.04,-2433.12 293.69,-2446.45 304.48,-2447.88\"/>\n<ellipse fill=\"black\" stroke=\"black\" cx=\"305.5\" cy=\"-2447.94\" rx=\"1\" ry=\"1\"/>\n<text text-anchor=\"middle\" x=\"275.5\" y=\"-1991\" font-family=\"Times,serif\" font-size=\"10.00\">1</text>\n</g>\n<!-- i_G79 -->\n<g id=\"node59\" class=\"node\">\n<title>i_G79</title>\n<text text-anchor=\"middle\" x=\"334.5\" y=\"-2390.3\" font-family=\"Times,serif\" font-size=\"14.00\">i</text>\n</g>\n<!-- SelectFirstQuantizationWithProj&#45;&gt;i_G79 -->\n<g id=\"edge58\" class=\"edge\">\n<title>SelectFirstQuantizationWithProj:e-&gt;i_G79:w</title>\n<path fill=\"none\" stroke=\"black\" d=\"M257,-1768C273.67,-1768 289.91,-2350.84 294,-2367 297.06,-2379.12 293.69,-2392.45 304.48,-2393.88\"/>\n<ellipse fill=\"black\" stroke=\"black\" cx=\"305.5\" cy=\"-2393.94\" rx=\"1\" ry=\"1\"/>\n<text text-anchor=\"middle\" x=\"275.5\" y=\"-1960\" font-family=\"Times,serif\" font-size=\"10.00\">4</text>\n</g>\n<!-- j_G48 -->\n<g id=\"node60\" class=\"node\">\n<title>j_G48</title>\n<text text-anchor=\"middle\" x=\"334.5\" y=\"-2336.3\" font-family=\"Times,serif\" font-size=\"14.00\">j</text>\n</g>\n<!-- SelectFirstQuantizationWithProj&#45;&gt;j_G48 -->\n<g id=\"edge59\" class=\"edge\">\n<title>SelectFirstQuantizationWithProj:e-&gt;j_G48:w</title>\n<path fill=\"none\" stroke=\"black\" d=\"M257,-1747C272.76,-1747 290.11,-2297.73 294,-2313 297.09,-2325.11 293.69,-2338.45 304.48,-2339.88\"/>\n<ellipse fill=\"black\" stroke=\"black\" cx=\"305.5\" cy=\"-2339.94\" rx=\"1\" ry=\"1\"/>\n<text text-anchor=\"middle\" x=\"275.5\" y=\"-1944\" font-family=\"Times,serif\" font-size=\"10.00\">4</text>\n</g>\n<!-- w_G35 -->\n<g id=\"node61\" class=\"node\">\n<title>w_G35</title>\n<text text-anchor=\"middle\" x=\"334.5\" y=\"-2282.3\" font-family=\"Times,serif\" font-size=\"14.00\">w</text>\n</g>\n<!-- SelectFirstQuantizationWithProj&#45;&gt;w_G35 -->\n<g id=\"edge60\" class=\"edge\">\n<title>SelectFirstQuantizationWithProj:e-&gt;w_G35:w</title>\n<path fill=\"none\" stroke=\"black\" d=\"M257,-1726C271.84,-1726 290.31,-2244.63 294,-2259 297.11,-2271.11 293.69,-2284.45 304.48,-2285.88\"/>\n<ellipse fill=\"black\" stroke=\"black\" cx=\"305.5\" cy=\"-2285.94\" rx=\"1\" ry=\"1\"/>\n<text text-anchor=\"middle\" x=\"275.5\" y=\"-1912\" font-family=\"Times,serif\" font-size=\"10.00\">3</text>\n</g>\n<!-- w_mean_G58 -->\n<g id=\"node62\" class=\"node\">\n<title>w_mean_G58</title>\n<text text-anchor=\"middle\" x=\"334.5\" y=\"-2228.3\" font-family=\"Times,serif\" font-size=\"14.00\">w_mean</text>\n</g>\n<!-- SelectFirstQuantizationWithProj&#45;&gt;w_mean_G58 -->\n<g id=\"edge61\" class=\"edge\">\n<title>SelectFirstQuantizationWithProj:e-&gt;w_mean_G58:w</title>\n<path fill=\"none\" stroke=\"black\" d=\"M257,-1705C270.93,-1705 291.61,-2191.28 294,-2205 296,-2216.5 289.9,-2230.17 299.39,-2231.83\"/>\n<ellipse fill=\"black\" stroke=\"black\" cx=\"300.5\" cy=\"-2231.92\" rx=\"1\" ry=\"1\"/>\n<text text-anchor=\"middle\" x=\"275.5\" y=\"-1880\" font-family=\"Times,serif\" font-size=\"10.00\">3</text>\n</g>\n<!-- r_G137 -->\n<g id=\"node63\" class=\"node\">\n<title>r_G137</title>\n<text text-anchor=\"middle\" x=\"334.5\" y=\"-2174.3\" font-family=\"Times,serif\" font-size=\"14.00\">r</text>\n</g>\n<!-- SelectFirstQuantizationWithProj&#45;&gt;r_G137 -->\n<g id=\"edge62\" class=\"edge\">\n<title>SelectFirstQuantizationWithProj:e-&gt;r_G137:w</title>\n<path fill=\"none\" stroke=\"black\" d=\"M257,-1684C270.01,-1684 290.7,-2138.41 294,-2151 297.17,-2163.09 293.7,-2176.45 304.48,-2177.88\"/>\n<ellipse fill=\"black\" stroke=\"black\" cx=\"305.5\" cy=\"-2177.94\" rx=\"1\" ry=\"1\"/>\n<text text-anchor=\"middle\" x=\"275.5\" y=\"-1861\" font-family=\"Times,serif\" font-size=\"10.00\">8</text>\n</g>\n<!-- s_G103 -->\n<g id=\"node64\" class=\"node\">\n<title>s_G103</title>\n<text text-anchor=\"middle\" x=\"334.5\" y=\"-2120.3\" font-family=\"Times,serif\" font-size=\"14.00\">s</text>\n</g>\n<!-- SelectFirstQuantizationWithProj&#45;&gt;s_G103 -->\n<g id=\"edge63\" class=\"edge\">\n<title>SelectFirstQuantizationWithProj:e-&gt;s_G103:w</title>\n<path fill=\"none\" stroke=\"black\" d=\"M257,-1663C269.1,-1663 290.9,-2085.31 294,-2097 297.21,-2109.08 293.7,-2122.45 304.48,-2123.87\"/>\n<ellipse fill=\"black\" stroke=\"black\" cx=\"305.5\" cy=\"-2123.94\" rx=\"1\" ry=\"1\"/>\n<text text-anchor=\"middle\" x=\"275.5\" y=\"-1827\" font-family=\"Times,serif\" font-size=\"10.00\">8</text>\n</g>\n<!-- mu_G52 -->\n<g id=\"node65\" class=\"node\">\n<title>mu_G52</title>\n<text text-anchor=\"middle\" x=\"334.5\" y=\"-2066.3\" font-family=\"Times,serif\" font-size=\"14.00\">mu</text>\n</g>\n<!-- SelectFirstQuantizationWithProj&#45;&gt;mu_G52 -->\n<g id=\"edge64\" class=\"edge\">\n<title>SelectFirstQuantizationWithProj:e-&gt;mu_G52:w</title>\n<path fill=\"none\" stroke=\"black\" d=\"M257,-1642C268.19,-1642 291.09,-2032.2 294,-2043 297.25,-2055.07 293.71,-2068.45 304.48,-2069.87\"/>\n<ellipse fill=\"black\" stroke=\"black\" cx=\"305.5\" cy=\"-2069.94\" rx=\"1\" ry=\"1\"/>\n<text text-anchor=\"middle\" x=\"275.5\" y=\"-1806\" font-family=\"Times,serif\" font-size=\"10.00\">8</text>\n</g>\n<!-- nu_x_G71 -->\n<g id=\"node66\" class=\"node\">\n<title>nu_x_G71</title>\n<text text-anchor=\"middle\" x=\"334.5\" y=\"-2012.3\" font-family=\"Times,serif\" font-size=\"14.00\">nu_x</text>\n</g>\n<!-- SelectFirstQuantizationWithProj&#45;&gt;nu_x_G71 -->\n<g id=\"edge65\" class=\"edge\">\n<title>SelectFirstQuantizationWithProj:e-&gt;nu_x_G71:w</title>\n<path fill=\"none\" stroke=\"black\" d=\"M257,-1621C267.27,-1621 291.29,-1979.09 294,-1989 297.3,-2001.06 293.71,-2014.45 304.48,-2015.87\"/>\n<ellipse fill=\"black\" stroke=\"black\" cx=\"305.5\" cy=\"-2015.94\" rx=\"1\" ry=\"1\"/>\n<text text-anchor=\"middle\" x=\"275.5\" y=\"-1771\" font-family=\"Times,serif\" font-size=\"10.00\">9</text>\n</g>\n<!-- nu_y_G88 -->\n<g id=\"node67\" class=\"node\">\n<title>nu_y_G88</title>\n<text text-anchor=\"middle\" x=\"334.5\" y=\"-1958.3\" font-family=\"Times,serif\" font-size=\"14.00\">nu_y</text>\n</g>\n<!-- SelectFirstQuantizationWithProj&#45;&gt;nu_y_G88 -->\n<g id=\"edge66\" class=\"edge\">\n<title>SelectFirstQuantizationWithProj:e-&gt;nu_y_G88:w</title>\n<path fill=\"none\" stroke=\"black\" d=\"M257,-1600C266.36,-1600 291.49,-1925.98 294,-1935 297.36,-1947.04 293.72,-1960.44 304.48,-1961.87\"/>\n<ellipse fill=\"black\" stroke=\"black\" cx=\"305.5\" cy=\"-1961.94\" rx=\"1\" ry=\"1\"/>\n<text text-anchor=\"middle\" x=\"275.5\" y=\"-1737\" font-family=\"Times,serif\" font-size=\"10.00\">9</text>\n</g>\n<!-- nu_z_G24 -->\n<g id=\"node68\" class=\"node\">\n<title>nu_z_G24</title>\n<text text-anchor=\"middle\" x=\"334.5\" y=\"-1904.3\" font-family=\"Times,serif\" font-size=\"14.00\">nu_z</text>\n</g>\n<!-- SelectFirstQuantizationWithProj&#45;&gt;nu_z_G24 -->\n<g id=\"edge67\" class=\"edge\">\n<title>SelectFirstQuantizationWithProj:e-&gt;nu_z_G24:w</title>\n<path fill=\"none\" stroke=\"black\" d=\"M257,-1579C265.45,-1579 291.68,-1872.87 294,-1881 297.43,-1893.02 293.73,-1906.44 304.48,-1907.87\"/>\n<ellipse fill=\"black\" stroke=\"black\" cx=\"305.5\" cy=\"-1907.94\" rx=\"1\" ry=\"1\"/>\n<text text-anchor=\"middle\" x=\"275.5\" y=\"-1712\" font-family=\"Times,serif\" font-size=\"10.00\">9</text>\n</g>\n<!-- m_G44 -->\n<g id=\"node69\" class=\"node\">\n<title>m_G44</title>\n<text text-anchor=\"middle\" x=\"334.5\" y=\"-1850.3\" font-family=\"Times,serif\" font-size=\"14.00\">m</text>\n</g>\n<!-- SelectFirstQuantizationWithProj&#45;&gt;m_G44 -->\n<g id=\"edge68\" class=\"edge\">\n<title>SelectFirstQuantizationWithProj:e-&gt;m_G44:w</title>\n<path fill=\"none\" stroke=\"black\" d=\"M257,-1558C264.54,-1558 291.88,-1819.76 294,-1827 297.52,-1839 293.74,-1852.44 304.48,-1853.87\"/>\n<ellipse fill=\"black\" stroke=\"black\" cx=\"305.5\" cy=\"-1853.94\" rx=\"1\" ry=\"1\"/>\n<text text-anchor=\"middle\" x=\"275.5\" y=\"-1676\" font-family=\"Times,serif\" font-size=\"10.00\">8</text>\n</g>\n<!-- l_G21 -->\n<g id=\"node70\" class=\"node\">\n<title>l_G21</title>\n<text text-anchor=\"middle\" x=\"334.5\" y=\"-1796.3\" font-family=\"Times,serif\" font-size=\"14.00\">l</text>\n</g>\n<!-- SelectFirstQuantizationWithProj&#45;&gt;l_G21 -->\n<g id=\"edge69\" class=\"edge\">\n<title>SelectFirstQuantizationWithProj:e-&gt;l_G21:w</title>\n<path fill=\"none\" stroke=\"black\" d=\"M257,-1537C260.32,-1537 293.04,-1769.83 294,-1773 297.63,-1784.96 293.75,-1798.44 304.49,-1799.87\"/>\n<ellipse fill=\"black\" stroke=\"black\" cx=\"305.5\" cy=\"-1799.94\" rx=\"1\" ry=\"1\"/>\n<text text-anchor=\"middle\" x=\"275.5\" y=\"-1649\" font-family=\"Times,serif\" font-size=\"10.00\">4</text>\n</g>\n<!-- sys_G12 -->\n<g id=\"node71\" class=\"node\">\n<title>sys_G12</title>\n<text text-anchor=\"middle\" x=\"334.5\" y=\"-1742.3\" font-family=\"Times,serif\" font-size=\"14.00\">sys[0, 0]</text>\n</g>\n<!-- SelectFirstQuantizationWithProj&#45;&gt;sys_G12 -->\n<g id=\"edge70\" class=\"edge\">\n<title>SelectFirstQuantizationWithProj:e-&gt;sys_G12:w</title>\n<path fill=\"none\" stroke=\"black\" d=\"M257,-1516C283.31,-1516 270.16,-1607.14 275,-1633 282.2,-1671.48 284.54,-1681.02 294,-1719 296.82,-1730.33 290,-1744.15 299.4,-1745.83\"/>\n<ellipse fill=\"black\" stroke=\"black\" cx=\"300.5\" cy=\"-1745.92\" rx=\"1\" ry=\"1\"/>\n<text text-anchor=\"middle\" x=\"275.5\" y=\"-1640\" font-family=\"Times,serif\" font-size=\"10.00\">6</text>\n</g>\n<!-- sys_G92 -->\n<g id=\"node72\" class=\"node\">\n<title>sys_G92</title>\n<text text-anchor=\"middle\" x=\"334.5\" y=\"-1688.3\" font-family=\"Times,serif\" font-size=\"14.00\">sys[0, 1]</text>\n</g>\n<!-- SelectFirstQuantizationWithProj&#45;&gt;sys_G92 -->\n<g id=\"edge71\" class=\"edge\">\n<title>SelectFirstQuantizationWithProj:e-&gt;sys_G92:w</title>\n<path fill=\"none\" stroke=\"black\" d=\"M257,-1495C286.16,-1495 267.58,-1596.79 275,-1625 282.95,-1655.24 270.11,-1690.31 299.32,-1691.94\"/>\n<ellipse fill=\"black\" stroke=\"black\" cx=\"300.5\" cy=\"-1691.97\" rx=\"1\" ry=\"1\"/>\n<text text-anchor=\"middle\" x=\"275.5\" y=\"-1631\" font-family=\"Times,serif\" font-size=\"10.00\">6</text>\n</g>\n<!-- sys_G64 -->\n<g id=\"node73\" class=\"node\">\n<title>sys_G64</title>\n<text text-anchor=\"middle\" x=\"334.5\" y=\"-1634.3\" font-family=\"Times,serif\" font-size=\"14.00\">sys[0, 2]</text>\n</g>\n<!-- SelectFirstQuantizationWithProj&#45;&gt;sys_G64 -->\n<g id=\"edge72\" class=\"edge\">\n<title>SelectFirstQuantizationWithProj:e-&gt;sys_G64:w</title>\n<path fill=\"none\" stroke=\"black\" d=\"M257,-1474C331.79,-1474 228.04,-1634.81 299.34,-1637.95\"/>\n<ellipse fill=\"black\" stroke=\"black\" cx=\"300.5\" cy=\"-1637.98\" rx=\"1\" ry=\"1\"/>\n<text text-anchor=\"middle\" x=\"275.5\" y=\"-1623\" font-family=\"Times,serif\" font-size=\"10.00\">6</text>\n</g>\n<!-- sys_G75 -->\n<g id=\"node74\" class=\"node\">\n<title>sys_G75</title>\n<text text-anchor=\"middle\" x=\"334.5\" y=\"-1580.3\" font-family=\"Times,serif\" font-size=\"14.00\">sys[1, 0]</text>\n</g>\n<!-- SelectFirstQuantizationWithProj&#45;&gt;sys_G75 -->\n<g id=\"edge73\" class=\"edge\">\n<title>SelectFirstQuantizationWithProj:e-&gt;sys_G75:w</title>\n<path fill=\"none\" stroke=\"black\" d=\"M257,-1453C317.77,-1453 241.83,-1580.95 299.4,-1583.95\"/>\n<ellipse fill=\"black\" stroke=\"black\" cx=\"300.5\" cy=\"-1583.97\" rx=\"1\" ry=\"1\"/>\n<text text-anchor=\"middle\" x=\"275.5\" y=\"-1462\" font-family=\"Times,serif\" font-size=\"10.00\">6</text>\n</g>\n<!-- sys_G125 -->\n<g id=\"node75\" class=\"node\">\n<title>sys_G125</title>\n<text text-anchor=\"middle\" x=\"334.5\" y=\"-1526.3\" font-family=\"Times,serif\" font-size=\"14.00\">sys[1, 1]</text>\n</g>\n<!-- SelectFirstQuantizationWithProj&#45;&gt;sys_G125 -->\n<g id=\"edge74\" class=\"edge\">\n<title>SelectFirstQuantizationWithProj:e-&gt;sys_G125:w</title>\n<path fill=\"none\" stroke=\"black\" d=\"M257,-1432C304.09,-1432 255.24,-1526.96 299.33,-1529.93\"/>\n<ellipse fill=\"black\" stroke=\"black\" cx=\"300.5\" cy=\"-1529.97\" rx=\"1\" ry=\"1\"/>\n<text text-anchor=\"middle\" x=\"275.5\" y=\"-1445\" font-family=\"Times,serif\" font-size=\"10.00\">6</text>\n</g>\n<!-- sys_G43 -->\n<g id=\"node76\" class=\"node\">\n<title>sys_G43</title>\n<text text-anchor=\"middle\" x=\"334.5\" y=\"-1472.3\" font-family=\"Times,serif\" font-size=\"14.00\">sys[1, 2]</text>\n</g>\n<!-- SelectFirstQuantizationWithProj&#45;&gt;sys_G43 -->\n<g id=\"edge75\" class=\"edge\">\n<title>SelectFirstQuantizationWithProj:e-&gt;sys_G43:w</title>\n<path fill=\"none\" stroke=\"black\" d=\"M257,-1411C291.19,-1411 267.65,-1472.99 299.14,-1475.89\"/>\n<ellipse fill=\"black\" stroke=\"black\" cx=\"300.5\" cy=\"-1475.96\" rx=\"1\" ry=\"1\"/>\n<text text-anchor=\"middle\" x=\"275.5\" y=\"-1429\" font-family=\"Times,serif\" font-size=\"10.00\">6</text>\n</g>\n<!-- sys_G59 -->\n<g id=\"node77\" class=\"node\">\n<title>sys_G59</title>\n<text text-anchor=\"middle\" x=\"334.5\" y=\"-1418.3\" font-family=\"Times,serif\" font-size=\"14.00\">sys[2, 0]</text>\n</g>\n<!-- SelectFirstQuantizationWithProj&#45;&gt;sys_G59 -->\n<g id=\"edge76\" class=\"edge\">\n<title>SelectFirstQuantizationWithProj:e-&gt;sys_G59:w</title>\n<path fill=\"none\" stroke=\"black\" d=\"M257,-1390C280.6,-1390 277.38,-1420.03 299.3,-1421.91\"/>\n<ellipse fill=\"black\" stroke=\"black\" cx=\"300.5\" cy=\"-1421.96\" rx=\"1\" ry=\"1\"/>\n<text text-anchor=\"middle\" x=\"275.5\" y=\"-1403\" font-family=\"Times,serif\" font-size=\"10.00\">6</text>\n</g>\n<!-- sys_G123 -->\n<g id=\"node78\" class=\"node\">\n<title>sys_G123</title>\n<text text-anchor=\"middle\" x=\"334.5\" y=\"-1364.3\" font-family=\"Times,serif\" font-size=\"14.00\">sys[2, 1]</text>\n</g>\n<!-- SelectFirstQuantizationWithProj&#45;&gt;sys_G123 -->\n<g id=\"edge77\" class=\"edge\">\n<title>SelectFirstQuantizationWithProj:e-&gt;sys_G123:w</title>\n<path fill=\"none\" stroke=\"black\" d=\"M257,-1368C276.01,-1368 281.31,-1368 299.25,-1368\"/>\n<ellipse fill=\"black\" stroke=\"black\" cx=\"300.5\" cy=\"-1368\" rx=\"1\" ry=\"1\"/>\n<text text-anchor=\"middle\" x=\"275.5\" y=\"-1371\" font-family=\"Times,serif\" font-size=\"10.00\">6</text>\n</g>\n<!-- sys_G9 -->\n<g id=\"node79\" class=\"node\">\n<title>sys_G9</title>\n<text text-anchor=\"middle\" x=\"334.5\" y=\"-1310.3\" font-family=\"Times,serif\" font-size=\"14.00\">sys[2, 2]</text>\n</g>\n<!-- SelectFirstQuantizationWithProj&#45;&gt;sys_G9 -->\n<g id=\"edge78\" class=\"edge\">\n<title>SelectFirstQuantizationWithProj:e-&gt;sys_G9:w</title>\n<path fill=\"none\" stroke=\"black\" d=\"M257,-1347C280.85,-1347 277.15,-1316.03 299.28,-1314.09\"/>\n<ellipse fill=\"black\" stroke=\"black\" cx=\"300.5\" cy=\"-1314.04\" rx=\"1\" ry=\"1\"/>\n<text text-anchor=\"middle\" x=\"275.5\" y=\"-1339\" font-family=\"Times,serif\" font-size=\"10.00\">6</text>\n</g>\n<!-- sys_G46 -->\n<g id=\"node80\" class=\"node\">\n<title>sys_G46</title>\n<text text-anchor=\"middle\" x=\"334.5\" y=\"-1256.3\" font-family=\"Times,serif\" font-size=\"14.00\">sys[3, 0]</text>\n</g>\n<!-- SelectFirstQuantizationWithProj&#45;&gt;sys_G46 -->\n<g id=\"edge79\" class=\"edge\">\n<title>SelectFirstQuantizationWithProj:e-&gt;sys_G46:w</title>\n<path fill=\"none\" stroke=\"black\" d=\"M257,-1326C291.69,-1326 267.12,-1262.55 299.5,-1260.07\"/>\n<ellipse fill=\"black\" stroke=\"black\" cx=\"300.5\" cy=\"-1260.04\" rx=\"1\" ry=\"1\"/>\n<text text-anchor=\"middle\" x=\"275.5\" y=\"-1314\" font-family=\"Times,serif\" font-size=\"10.00\">6</text>\n</g>\n<!-- sys_G16 -->\n<g id=\"node81\" class=\"node\">\n<title>sys_G16</title>\n<text text-anchor=\"middle\" x=\"334.5\" y=\"-1202.3\" font-family=\"Times,serif\" font-size=\"14.00\">sys[3, 1]</text>\n</g>\n<!-- SelectFirstQuantizationWithProj&#45;&gt;sys_G16 -->\n<g id=\"edge80\" class=\"edge\">\n<title>SelectFirstQuantizationWithProj:e-&gt;sys_G16:w</title>\n<path fill=\"none\" stroke=\"black\" d=\"M257,-1305C304.49,-1305 254.86,-1209.07 299.31,-1206.07\"/>\n<ellipse fill=\"black\" stroke=\"black\" cx=\"300.5\" cy=\"-1206.03\" rx=\"1\" ry=\"1\"/>\n<text text-anchor=\"middle\" x=\"275.5\" y=\"-1297\" font-family=\"Times,serif\" font-size=\"10.00\">6</text>\n</g>\n<!-- sys_G57 -->\n<g id=\"node82\" class=\"node\">\n<title>sys_G57</title>\n<text text-anchor=\"middle\" x=\"334.5\" y=\"-1148.3\" font-family=\"Times,serif\" font-size=\"14.00\">sys[3, 2]</text>\n</g>\n<!-- SelectFirstQuantizationWithProj&#45;&gt;sys_G57 -->\n<g id=\"edge81\" class=\"edge\">\n<title>SelectFirstQuantizationWithProj:e-&gt;sys_G57:w</title>\n<path fill=\"none\" stroke=\"black\" d=\"M257,-1284C318.19,-1284 241.43,-1155.08 299.38,-1152.05\"/>\n<ellipse fill=\"black\" stroke=\"black\" cx=\"300.5\" cy=\"-1152.03\" rx=\"1\" ry=\"1\"/>\n<text text-anchor=\"middle\" x=\"275.5\" y=\"-1279\" font-family=\"Times,serif\" font-size=\"10.00\">6</text>\n</g>\n<!-- sys_G28 -->\n<g id=\"node83\" class=\"node\">\n<title>sys_G28</title>\n<text text-anchor=\"middle\" x=\"334.5\" y=\"-1094.3\" font-family=\"Times,serif\" font-size=\"14.00\">sys[4, 0]</text>\n</g>\n<!-- SelectFirstQuantizationWithProj&#45;&gt;sys_G28 -->\n<g id=\"edge82\" class=\"edge\">\n<title>SelectFirstQuantizationWithProj:e-&gt;sys_G28:w</title>\n<path fill=\"none\" stroke=\"black\" d=\"M257,-1263C332.21,-1263 227.63,-1101.21 299.33,-1098.05\"/>\n<ellipse fill=\"black\" stroke=\"black\" cx=\"300.5\" cy=\"-1098.02\" rx=\"1\" ry=\"1\"/>\n<text text-anchor=\"middle\" x=\"275.5\" y=\"-1163\" font-family=\"Times,serif\" font-size=\"10.00\">6</text>\n</g>\n<!-- sys_G6 -->\n<g id=\"node84\" class=\"node\">\n<title>sys_G6</title>\n<text text-anchor=\"middle\" x=\"334.5\" y=\"-1040.3\" font-family=\"Times,serif\" font-size=\"14.00\">sys[4, 1]</text>\n</g>\n<!-- SelectFirstQuantizationWithProj&#45;&gt;sys_G6 -->\n<g id=\"edge83\" class=\"edge\">\n<title>SelectFirstQuantizationWithProj:e-&gt;sys_G6:w</title>\n<path fill=\"none\" stroke=\"black\" d=\"M257,-1242C276.74,-1242 270.82,-1174.3 275,-1155 283.1,-1117.59 284.65,-1108.12 294,-1071 296.85,-1059.68 290,-1045.85 299.4,-1044.17\"/>\n<ellipse fill=\"black\" stroke=\"black\" cx=\"300.5\" cy=\"-1044.08\" rx=\"1\" ry=\"1\"/>\n<text text-anchor=\"middle\" x=\"275.5\" y=\"-1158\" font-family=\"Times,serif\" font-size=\"10.00\">6</text>\n</g>\n<!-- sys_G138 -->\n<g id=\"node85\" class=\"node\">\n<title>sys_G138</title>\n<text text-anchor=\"middle\" x=\"334.5\" y=\"-986.3\" font-family=\"Times,serif\" font-size=\"14.00\">sys[4, 2]</text>\n</g>\n<!-- SelectFirstQuantizationWithProj&#45;&gt;sys_G138 -->\n<g id=\"edge84\" class=\"edge\">\n<title>SelectFirstQuantizationWithProj:e-&gt;sys_G138:w</title>\n<path fill=\"none\" stroke=\"black\" d=\"M257,-1221C269.46,-1221 286.72,-1011.15 299.63,-991.48\"/>\n<ellipse fill=\"black\" stroke=\"black\" cx=\"300.71\" cy=\"-990.62\" rx=\"1\" ry=\"1\"/>\n<text text-anchor=\"middle\" x=\"275.5\" y=\"-1135\" font-family=\"Times,serif\" font-size=\"10.00\">6</text>\n</g>\n<!-- sys_G151 -->\n<g id=\"node86\" class=\"node\">\n<title>sys_G151</title>\n<text text-anchor=\"middle\" x=\"334.5\" y=\"-932.3\" font-family=\"Times,serif\" font-size=\"14.00\">sys[5, 0]</text>\n</g>\n<!-- SelectFirstQuantizationWithProj&#45;&gt;sys_G151 -->\n<g id=\"edge85\" class=\"edge\">\n<title>SelectFirstQuantizationWithProj:e-&gt;sys_G151:w</title>\n<path fill=\"none\" stroke=\"black\" d=\"M257,-1200C271.29,-1200 285.47,-956.22 299.76,-937.18\"/>\n<ellipse fill=\"black\" stroke=\"black\" cx=\"300.67\" cy=\"-936.56\" rx=\"1\" ry=\"1\"/>\n<text text-anchor=\"middle\" x=\"275.5\" y=\"-1102\" font-family=\"Times,serif\" font-size=\"10.00\">6</text>\n</g>\n<!-- sys_G67 -->\n<g id=\"node87\" class=\"node\">\n<title>sys_G67</title>\n<text text-anchor=\"middle\" x=\"334.5\" y=\"-878.3\" font-family=\"Times,serif\" font-size=\"14.00\">sys[5, 1]</text>\n</g>\n<!-- SelectFirstQuantizationWithProj&#45;&gt;sys_G67 -->\n<g id=\"edge86\" class=\"edge\">\n<title>SelectFirstQuantizationWithProj:e-&gt;sys_G67:w</title>\n<path fill=\"none\" stroke=\"black\" d=\"M257,-1179C273.1,-1179 284.03,-902.52 299.76,-883.08\"/>\n<ellipse fill=\"black\" stroke=\"black\" cx=\"300.65\" cy=\"-882.53\" rx=\"1\" ry=\"1\"/>\n<text text-anchor=\"middle\" x=\"275.5\" y=\"-1077\" font-family=\"Times,serif\" font-size=\"10.00\">6</text>\n</g>\n<!-- sys_G45 -->\n<g id=\"node88\" class=\"node\">\n<title>sys_G45</title>\n<text text-anchor=\"middle\" x=\"334.5\" y=\"-824.3\" font-family=\"Times,serif\" font-size=\"14.00\">sys[5, 2]</text>\n</g>\n<!-- SelectFirstQuantizationWithProj&#45;&gt;sys_G45 -->\n<g id=\"edge87\" class=\"edge\">\n<title>SelectFirstQuantizationWithProj:e-&gt;sys_G45:w</title>\n<path fill=\"none\" stroke=\"black\" d=\"M257,-1158C274.85,-1158 282.46,-850.8 299.59,-829.19\"/>\n<ellipse fill=\"black\" stroke=\"black\" cx=\"300.65\" cy=\"-828.53\" rx=\"1\" ry=\"1\"/>\n<text text-anchor=\"middle\" x=\"275.5\" y=\"-1044\" font-family=\"Times,serif\" font-size=\"10.00\">6</text>\n</g>\n<!-- sys_G134 -->\n<g id=\"node89\" class=\"node\">\n<title>sys_G134</title>\n<text text-anchor=\"middle\" x=\"334.5\" y=\"-770.3\" font-family=\"Times,serif\" font-size=\"14.00\">sys[6, 0]</text>\n</g>\n<!-- SelectFirstQuantizationWithProj&#45;&gt;sys_G134 -->\n<g id=\"edge88\" class=\"edge\">\n<title>SelectFirstQuantizationWithProj:e-&gt;sys_G134:w</title>\n<path fill=\"none\" stroke=\"black\" d=\"M257,-1137C276.68,-1137 280.92,-796.33 299.64,-775.04\"/>\n<ellipse fill=\"black\" stroke=\"black\" cx=\"300.63\" cy=\"-774.49\" rx=\"1\" ry=\"1\"/>\n<text text-anchor=\"middle\" x=\"275.5\" y=\"-1012\" font-family=\"Times,serif\" font-size=\"10.00\">6</text>\n</g>\n<!-- sys_G18 -->\n<g id=\"node90\" class=\"node\">\n<title>sys_G18</title>\n<text text-anchor=\"middle\" x=\"334.5\" y=\"-716.3\" font-family=\"Times,serif\" font-size=\"14.00\">sys[6, 1]</text>\n</g>\n<!-- SelectFirstQuantizationWithProj&#45;&gt;sys_G18 -->\n<g id=\"edge89\" class=\"edge\">\n<title>SelectFirstQuantizationWithProj:e-&gt;sys_G18:w</title>\n<path fill=\"none\" stroke=\"black\" d=\"M257,-1116C278.45,-1116 279.33,-744.36 299.49,-721.14\"/>\n<ellipse fill=\"black\" stroke=\"black\" cx=\"300.63\" cy=\"-720.49\" rx=\"1\" ry=\"1\"/>\n<text text-anchor=\"middle\" x=\"275.5\" y=\"-990\" font-family=\"Times,serif\" font-size=\"10.00\">6</text>\n</g>\n<!-- sys_G150 -->\n<g id=\"node91\" class=\"node\">\n<title>sys_G150</title>\n<text text-anchor=\"middle\" x=\"334.5\" y=\"-662.3\" font-family=\"Times,serif\" font-size=\"14.00\">sys[6, 2]</text>\n</g>\n<!-- SelectFirstQuantizationWithProj&#45;&gt;sys_G150 -->\n<g id=\"edge90\" class=\"edge\">\n<title>SelectFirstQuantizationWithProj:e-&gt;sys_G150:w</title>\n<path fill=\"none\" stroke=\"black\" d=\"M257,-1095C280.31,-1095 277.71,-689.14 299.59,-666.94\"/>\n<ellipse fill=\"black\" stroke=\"black\" cx=\"300.6\" cy=\"-666.44\" rx=\"1\" ry=\"1\"/>\n<text text-anchor=\"middle\" x=\"275.5\" y=\"-959\" font-family=\"Times,serif\" font-size=\"10.00\">6</text>\n</g>\n<!-- sys_G122 -->\n<g id=\"node92\" class=\"node\">\n<title>sys_G122</title>\n<text text-anchor=\"middle\" x=\"334.5\" y=\"-608.3\" font-family=\"Times,serif\" font-size=\"14.00\">sys[7, 0]</text>\n</g>\n<!-- SelectFirstQuantizationWithProj&#45;&gt;sys_G122 -->\n<g id=\"edge91\" class=\"edge\">\n<title>SelectFirstQuantizationWithProj:e-&gt;sys_G122:w</title>\n<path fill=\"none\" stroke=\"black\" d=\"M257,-1074C282.08,-1074 276.08,-636.92 299.46,-613.02\"/>\n<ellipse fill=\"black\" stroke=\"black\" cx=\"300.6\" cy=\"-612.45\" rx=\"1\" ry=\"1\"/>\n<text text-anchor=\"middle\" x=\"275.5\" y=\"-940\" font-family=\"Times,serif\" font-size=\"10.00\">6</text>\n</g>\n<!-- sys_G41 -->\n<g id=\"node93\" class=\"node\">\n<title>sys_G41</title>\n<text text-anchor=\"middle\" x=\"334.5\" y=\"-554.3\" font-family=\"Times,serif\" font-size=\"14.00\">sys[7, 1]</text>\n</g>\n<!-- SelectFirstQuantizationWithProj&#45;&gt;sys_G41 -->\n<g id=\"edge92\" class=\"edge\">\n<title>SelectFirstQuantizationWithProj:e-&gt;sys_G41:w</title>\n<path fill=\"none\" stroke=\"black\" d=\"M257,-1053C283.96,-1053 274.37,-580.93 299.62,-558.8\"/>\n<ellipse fill=\"black\" stroke=\"black\" cx=\"300.58\" cy=\"-558.39\" rx=\"1\" ry=\"1\"/>\n<text text-anchor=\"middle\" x=\"275.5\" y=\"-909\" font-family=\"Times,serif\" font-size=\"10.00\">6</text>\n</g>\n<!-- sys_G89 -->\n<g id=\"node94\" class=\"node\">\n<title>sys_G89</title>\n<text text-anchor=\"middle\" x=\"334.5\" y=\"-500.3\" font-family=\"Times,serif\" font-size=\"14.00\">sys[7, 2]</text>\n</g>\n<!-- SelectFirstQuantizationWithProj&#45;&gt;sys_G89 -->\n<g id=\"edge93\" class=\"edge\">\n<title>SelectFirstQuantizationWithProj:e-&gt;sys_G89:w</title>\n<path fill=\"none\" stroke=\"black\" d=\"M257,-1032C285.75,-1032 272.71,-528.46 299.5,-504.86\"/>\n<ellipse fill=\"black\" stroke=\"black\" cx=\"300.58\" cy=\"-504.39\" rx=\"1\" ry=\"1\"/>\n<text text-anchor=\"middle\" x=\"275.5\" y=\"-893\" font-family=\"Times,serif\" font-size=\"10.00\">6</text>\n</g>\n<!-- sys_G108 -->\n<g id=\"node95\" class=\"node\">\n<title>sys_G108</title>\n<text text-anchor=\"middle\" x=\"334.5\" y=\"-446.3\" font-family=\"Times,serif\" font-size=\"14.00\">sys[8, 0]</text>\n</g>\n<!-- SelectFirstQuantizationWithProj&#45;&gt;sys_G108 -->\n<g id=\"edge94\" class=\"edge\">\n<title>SelectFirstQuantizationWithProj:e-&gt;sys_G108:w</title>\n<path fill=\"none\" stroke=\"black\" d=\"M257,-1011C271.87,-1011 291.48,-491.65 294,-477 295.98,-465.49 289.89,-451.83 299.39,-450.17\"/>\n<ellipse fill=\"black\" stroke=\"black\" cx=\"300.5\" cy=\"-450.08\" rx=\"1\" ry=\"1\"/>\n<text text-anchor=\"middle\" x=\"275.5\" y=\"-830\" font-family=\"Times,serif\" font-size=\"10.00\">6</text>\n</g>\n<!-- sys_G70 -->\n<g id=\"node96\" class=\"node\">\n<title>sys_G70</title>\n<text text-anchor=\"middle\" x=\"334.5\" y=\"-392.3\" font-family=\"Times,serif\" font-size=\"14.00\">sys[8, 1]</text>\n</g>\n<!-- SelectFirstQuantizationWithProj&#45;&gt;sys_G70 -->\n<g id=\"edge95\" class=\"edge\">\n<title>SelectFirstQuantizationWithProj:e-&gt;sys_G70:w</title>\n<path fill=\"none\" stroke=\"black\" d=\"M257,-990C272.78,-990 291.36,-438.56 294,-423 295.95,-411.49 289.89,-397.83 299.39,-396.17\"/>\n<ellipse fill=\"black\" stroke=\"black\" cx=\"300.5\" cy=\"-396.08\" rx=\"1\" ry=\"1\"/>\n<text text-anchor=\"middle\" x=\"275.5\" y=\"-813\" font-family=\"Times,serif\" font-size=\"10.00\">6</text>\n</g>\n<!-- sys_G120 -->\n<g id=\"node97\" class=\"node\">\n<title>sys_G120</title>\n<text text-anchor=\"middle\" x=\"334.5\" y=\"-338.3\" font-family=\"Times,serif\" font-size=\"14.00\">sys[8, 2]</text>\n</g>\n<!-- SelectFirstQuantizationWithProj&#45;&gt;sys_G120 -->\n<g id=\"edge96\" class=\"edge\">\n<title>SelectFirstQuantizationWithProj:e-&gt;sys_G120:w</title>\n<path fill=\"none\" stroke=\"black\" d=\"M257,-969C273.7,-969 291.24,-385.47 294,-369 295.93,-357.49 289.89,-343.83 299.39,-342.17\"/>\n<ellipse fill=\"black\" stroke=\"black\" cx=\"300.5\" cy=\"-342.08\" rx=\"1\" ry=\"1\"/>\n<text text-anchor=\"middle\" x=\"275.5\" y=\"-782\" font-family=\"Times,serif\" font-size=\"10.00\">6</text>\n</g>\n<!-- sys_G93 -->\n<g id=\"node98\" class=\"node\">\n<title>sys_G93</title>\n<text text-anchor=\"middle\" x=\"334.5\" y=\"-284.3\" font-family=\"Times,serif\" font-size=\"14.00\">sys[9, 0]</text>\n</g>\n<!-- SelectFirstQuantizationWithProj&#45;&gt;sys_G93 -->\n<g id=\"edge97\" class=\"edge\">\n<title>SelectFirstQuantizationWithProj:e-&gt;sys_G93:w</title>\n<path fill=\"none\" stroke=\"black\" d=\"M257,-948C274.61,-948 291.11,-332.38 294,-315 295.91,-303.48 289.88,-289.83 299.39,-288.17\"/>\n<ellipse fill=\"black\" stroke=\"black\" cx=\"300.5\" cy=\"-288.08\" rx=\"1\" ry=\"1\"/>\n<text text-anchor=\"middle\" x=\"275.5\" y=\"-768\" font-family=\"Times,serif\" font-size=\"10.00\">6</text>\n</g>\n<!-- sys_G56 -->\n<g id=\"node99\" class=\"node\">\n<title>sys_G56</title>\n<text text-anchor=\"middle\" x=\"334.5\" y=\"-230.3\" font-family=\"Times,serif\" font-size=\"14.00\">sys[9, 1]</text>\n</g>\n<!-- SelectFirstQuantizationWithProj&#45;&gt;sys_G56 -->\n<g id=\"edge98\" class=\"edge\">\n<title>SelectFirstQuantizationWithProj:e-&gt;sys_G56:w</title>\n<path fill=\"none\" stroke=\"black\" d=\"M257,-927C266.26,-927 292.49,-270.14 294,-261 295.9,-249.48 289.88,-235.83 299.39,-234.17\"/>\n<ellipse fill=\"black\" stroke=\"black\" cx=\"300.5\" cy=\"-234.08\" rx=\"1\" ry=\"1\"/>\n<text text-anchor=\"middle\" x=\"275.5\" y=\"-659\" font-family=\"Times,serif\" font-size=\"10.00\">6</text>\n</g>\n<!-- sys_G105 -->\n<g id=\"node100\" class=\"node\">\n<title>sys_G105</title>\n<text text-anchor=\"middle\" x=\"334.5\" y=\"-176.3\" font-family=\"Times,serif\" font-size=\"14.00\">sys[9, 2]</text>\n</g>\n<!-- SelectFirstQuantizationWithProj&#45;&gt;sys_G105 -->\n<g id=\"edge99\" class=\"edge\">\n<title>SelectFirstQuantizationWithProj:e-&gt;sys_G105:w</title>\n<path fill=\"none\" stroke=\"black\" d=\"M257,-906C266.72,-906 292.43,-216.59 294,-207 295.88,-195.48 289.88,-181.83 299.39,-180.17\"/>\n<ellipse fill=\"black\" stroke=\"black\" cx=\"300.5\" cy=\"-180.08\" rx=\"1\" ry=\"1\"/>\n<text text-anchor=\"middle\" x=\"275.5\" y=\"-625\" font-family=\"Times,serif\" font-size=\"10.00\">6</text>\n</g>\n<!-- proj_G68 -->\n<g id=\"node101\" class=\"node\">\n<title>proj_G68</title>\n<text text-anchor=\"middle\" x=\"334.5\" y=\"-122.3\" font-family=\"Times,serif\" font-size=\"14.00\">proj[0]</text>\n</g>\n<!-- SelectFirstQuantizationWithProj&#45;&gt;proj_G68 -->\n<g id=\"edge100\" class=\"edge\">\n<title>SelectFirstQuantizationWithProj:e-&gt;proj_G68:w</title>\n<path fill=\"none\" stroke=\"black\" d=\"M257,-885C267.18,-885 291.56,-162.88 294,-153 297,-140.86 293.68,-127.54 304.48,-126.12\"/>\n<ellipse fill=\"black\" stroke=\"black\" cx=\"305.5\" cy=\"-126.06\" rx=\"1\" ry=\"1\"/>\n<text text-anchor=\"middle\" x=\"275.5\" y=\"-590\" font-family=\"Times,serif\" font-size=\"10.00\">8</text>\n</g>\n<!-- proj_G131 -->\n<g id=\"node102\" class=\"node\">\n<title>proj_G131</title>\n<text text-anchor=\"middle\" x=\"334.5\" y=\"-68.3\" font-family=\"Times,serif\" font-size=\"14.00\">proj[1]</text>\n</g>\n<!-- SelectFirstQuantizationWithProj&#45;&gt;proj_G131 -->\n<g id=\"edge101\" class=\"edge\">\n<title>SelectFirstQuantizationWithProj:e-&gt;proj_G131:w</title>\n<path fill=\"none\" stroke=\"black\" d=\"M257,-864C267.64,-864 291.46,-109.33 294,-99 296.98,-86.86 293.68,-73.54 304.48,-72.12\"/>\n<ellipse fill=\"black\" stroke=\"black\" cx=\"305.5\" cy=\"-72.06\" rx=\"1\" ry=\"1\"/>\n<text text-anchor=\"middle\" x=\"275.5\" y=\"-556\" font-family=\"Times,serif\" font-size=\"10.00\">8</text>\n</g>\n<!-- proj_G15 -->\n<g id=\"node103\" class=\"node\">\n<title>proj_G15</title>\n<text text-anchor=\"middle\" x=\"334.5\" y=\"-14.3\" font-family=\"Times,serif\" font-size=\"14.00\">proj[2]</text>\n</g>\n<!-- SelectFirstQuantizationWithProj&#45;&gt;proj_G15 -->\n<g id=\"edge102\" class=\"edge\">\n<title>SelectFirstQuantizationWithProj:e-&gt;proj_G15:w</title>\n<path fill=\"none\" stroke=\"black\" d=\"M257,-843C268.1,-843 291.36,-55.78 294,-45 296.97,-32.86 293.68,-19.54 304.48,-18.12\"/>\n<ellipse fill=\"black\" stroke=\"black\" cx=\"305.5\" cy=\"-18.06\" rx=\"1\" ry=\"1\"/>\n<text text-anchor=\"middle\" x=\"275.5\" y=\"-522\" font-family=\"Times,serif\" font-size=\"10.00\">8</text>\n</g>\n</g>\n</svg>",
          "text/plain": "<IPython.core.display.SVG object>"
         },
         "metadata": {},
         "output_type": "display_data"
        }
       ],
       "tabbable": null,
       "tooltip": null
      }
     },
     "67ea5c5e365140e7948d427f6ce8461c": {
      "model_module": "@jupyter-widgets/output",
      "model_module_version": "1.0.0",
      "model_name": "OutputModel",
      "state": {
       "_dom_classes": [],
       "_model_module": "@jupyter-widgets/output",
       "_model_module_version": "1.0.0",
       "_model_name": "OutputModel",
       "_view_count": null,
       "_view_module": "@jupyter-widgets/output",
       "_view_module_version": "1.0.0",
       "_view_name": "OutputView",
       "layout": "IPY_MODEL_7e9d8a6aad5a449bb6472b4489e144fa",
       "msg_id": "",
       "outputs": [
        {
         "data": {
          "text/markdown": "`prep_first_quant`",
          "text/plain": "<IPython.core.display.Markdown object>"
         },
         "metadata": {},
         "output_type": "display_data"
        },
        {
         "data": {
          "image/svg+xml": "<svg xmlns=\"http://www.w3.org/2000/svg\" xmlns:xlink=\"http://www.w3.org/1999/xlink\" width=\"353pt\" height=\"1124pt\" viewBox=\"0.00 0.00 353.00 1124.00\">\n<g id=\"graph0\" class=\"graph\" transform=\"scale(1 1) rotate(0) translate(4 1120)\">\n<title>my_graph</title>\n<polygon fill=\"white\" stroke=\"transparent\" points=\"-4,4 -4,-1120 349,-1120 349,4 -4,4\"/>\n<!-- tuv_G11 -->\n<g id=\"node1\" class=\"node\">\n<title>tuv_G11</title>\n<text text-anchor=\"middle\" x=\"31.5\" y=\"-1094.3\" font-family=\"Times,serif\" font-size=\"14.00\">tuv</text>\n</g>\n<!-- PrepareFirstQuantizationWithProj -->\n<g id=\"node22\" class=\"node\">\n<title>PrepareFirstQuantizationWithProj</title>\n<polygon fill=\"none\" stroke=\"black\" points=\"100.5,-779 100.5,-796 245.5,-796 245.5,-779 100.5,-779\"/>\n<text text-anchor=\"start\" x=\"103.5\" y=\"-785\" font-family=\"Times,serif\" font-size=\"10.00\">PrepareFirstQuantizationWithProj</text>\n<polygon fill=\"none\" stroke=\"black\" points=\"100.5,-758 100.5,-779 245.5,-779 245.5,-758 100.5,-758\"/>\n<text text-anchor=\"start\" x=\"164\" y=\"-764.8\" font-family=\"Times,serif\" font-size=\"14.00\">tuv</text>\n<polygon fill=\"none\" stroke=\"black\" points=\"100.5,-737 100.5,-758 245.5,-758 245.5,-737 100.5,-737\"/>\n<text text-anchor=\"start\" x=\"159\" y=\"-743.8\" font-family=\"Times,serif\" font-size=\"14.00\">tepm</text>\n<polygon fill=\"none\" stroke=\"black\" points=\"100.5,-716 100.5,-737 245.5,-737 245.5,-716 100.5,-716\"/>\n<text text-anchor=\"start\" x=\"166\" y=\"-722.8\" font-family=\"Times,serif\" font-size=\"14.00\">uv</text>\n<polygon fill=\"none\" stroke=\"black\" points=\"100.5,-695 100.5,-716 245.5,-716 245.5,-695 100.5,-695\"/>\n<text text-anchor=\"start\" x=\"171\" y=\"-701.8\" font-family=\"Times,serif\" font-size=\"14.00\">i</text>\n<polygon fill=\"none\" stroke=\"black\" points=\"100.5,-674 100.5,-695 245.5,-695 245.5,-674 100.5,-674\"/>\n<text text-anchor=\"start\" x=\"171\" y=\"-680.8\" font-family=\"Times,serif\" font-size=\"14.00\">j</text>\n<polygon fill=\"none\" stroke=\"black\" points=\"100.5,-653 100.5,-674 245.5,-674 245.5,-653 100.5,-653\"/>\n<text text-anchor=\"start\" x=\"168\" y=\"-659.8\" font-family=\"Times,serif\" font-size=\"14.00\">w</text>\n<polygon fill=\"none\" stroke=\"black\" points=\"100.5,-632 100.5,-653 245.5,-653 245.5,-632 100.5,-632\"/>\n<text text-anchor=\"start\" x=\"149.5\" y=\"-638.8\" font-family=\"Times,serif\" font-size=\"14.00\">w_mean</text>\n<polygon fill=\"none\" stroke=\"black\" points=\"100.5,-611 100.5,-632 245.5,-632 245.5,-611 100.5,-611\"/>\n<text text-anchor=\"start\" x=\"170.5\" y=\"-617.8\" font-family=\"Times,serif\" font-size=\"14.00\">r</text>\n<polygon fill=\"none\" stroke=\"black\" points=\"100.5,-590 100.5,-611 245.5,-611 245.5,-590 100.5,-590\"/>\n<text text-anchor=\"start\" x=\"170\" y=\"-596.8\" font-family=\"Times,serif\" font-size=\"14.00\">s</text>\n<polygon fill=\"none\" stroke=\"black\" points=\"100.5,-569 100.5,-590 245.5,-590 245.5,-569 100.5,-569\"/>\n<text text-anchor=\"start\" x=\"163.5\" y=\"-575.8\" font-family=\"Times,serif\" font-size=\"14.00\">mu</text>\n<polygon fill=\"none\" stroke=\"black\" points=\"100.5,-548 100.5,-569 245.5,-569 245.5,-548 100.5,-548\"/>\n<text text-anchor=\"start\" x=\"159\" y=\"-554.8\" font-family=\"Times,serif\" font-size=\"14.00\">nu_x</text>\n<polygon fill=\"none\" stroke=\"black\" points=\"100.5,-527 100.5,-548 245.5,-548 245.5,-527 100.5,-527\"/>\n<text text-anchor=\"start\" x=\"159\" y=\"-533.8\" font-family=\"Times,serif\" font-size=\"14.00\">nu_y</text>\n<polygon fill=\"none\" stroke=\"black\" points=\"100.5,-506 100.5,-527 245.5,-527 245.5,-506 100.5,-506\"/>\n<text text-anchor=\"start\" x=\"159.5\" y=\"-512.8\" font-family=\"Times,serif\" font-size=\"14.00\">nu_z</text>\n<polygon fill=\"none\" stroke=\"black\" points=\"100.5,-485 100.5,-506 245.5,-506 245.5,-485 100.5,-485\"/>\n<text text-anchor=\"start\" x=\"167\" y=\"-491.8\" font-family=\"Times,serif\" font-size=\"14.00\">m</text>\n<polygon fill=\"none\" stroke=\"black\" points=\"100.5,-464 100.5,-485 245.5,-485 245.5,-464 100.5,-464\"/>\n<text text-anchor=\"start\" x=\"171\" y=\"-470.8\" font-family=\"Times,serif\" font-size=\"14.00\">l</text>\n<polygon fill=\"none\" stroke=\"black\" points=\"100.5,-443 100.5,-464 245.5,-464 245.5,-443 100.5,-443\"/>\n<text text-anchor=\"start\" x=\"150.5\" y=\"-449.8\" font-family=\"Times,serif\" font-size=\"14.00\">succ_nu</text>\n<polygon fill=\"none\" stroke=\"black\" points=\"100.5,-422 100.5,-443 245.5,-443 245.5,-422 100.5,-422\"/>\n<text text-anchor=\"start\" x=\"156\" y=\"-428.8\" font-family=\"Times,serif\" font-size=\"14.00\">plus_t</text>\n<polygon fill=\"none\" stroke=\"black\" points=\"100.5,-401 100.5,-422 245.5,-422 245.5,-401 100.5,-401\"/>\n<text text-anchor=\"start\" x=\"151.5\" y=\"-407.8\" font-family=\"Times,serif\" font-size=\"14.00\">flags[0]</text>\n<polygon fill=\"none\" stroke=\"black\" points=\"100.5,-380 100.5,-401 245.5,-401 245.5,-380 100.5,-380\"/>\n<text text-anchor=\"start\" x=\"151.5\" y=\"-386.8\" font-family=\"Times,serif\" font-size=\"14.00\">flags[1]</text>\n<polygon fill=\"none\" stroke=\"black\" points=\"100.5,-359 100.5,-380 245.5,-380 245.5,-359 100.5,-359\"/>\n<text text-anchor=\"start\" x=\"151.5\" y=\"-365.8\" font-family=\"Times,serif\" font-size=\"14.00\">flags[2]</text>\n<polygon fill=\"none\" stroke=\"black\" points=\"100.5,-338 100.5,-359 245.5,-359 245.5,-338 100.5,-338\"/>\n<text text-anchor=\"start\" x=\"151.5\" y=\"-344.8\" font-family=\"Times,serif\" font-size=\"14.00\">flags[3]</text>\n</g>\n<!-- tuv_G11&#45;&gt;PrepareFirstQuantizationWithProj -->\n<g id=\"edge1\" class=\"edge\">\n<title>tuv_G11:e-&gt;PrepareFirstQuantizationWithProj:w</title>\n<path fill=\"none\" stroke=\"black\" d=\"M59.5,-1098C77.27,-1098 81.31,-791.73 98.11,-770.19\"/>\n<ellipse fill=\"black\" stroke=\"black\" cx=\"99.15\" cy=\"-769.53\" rx=\"1\" ry=\"1\"/>\n<text text-anchor=\"middle\" x=\"81.5\" y=\"-916\" font-family=\"Times,serif\" font-size=\"10.00\">1</text>\n</g>\n<!-- tepm_G41 -->\n<g id=\"node2\" class=\"node\">\n<title>tepm_G41</title>\n<text text-anchor=\"middle\" x=\"31.5\" y=\"-1040.3\" font-family=\"Times,serif\" font-size=\"14.00\">tepm</text>\n</g>\n<!-- tepm_G41&#45;&gt;PrepareFirstQuantizationWithProj -->\n<g id=\"edge2\" class=\"edge\">\n<title>tepm_G41:e-&gt;PrepareFirstQuantizationWithProj:w</title>\n<path fill=\"none\" stroke=\"black\" d=\"M59.5,-1044C75.51,-1044 82.88,-768.45 98.28,-749.07\"/>\n<ellipse fill=\"black\" stroke=\"black\" cx=\"99.15\" cy=\"-748.53\" rx=\"1\" ry=\"1\"/>\n<text text-anchor=\"middle\" x=\"81.5\" y=\"-881\" font-family=\"Times,serif\" font-size=\"10.00\">2</text>\n</g>\n<!-- uv_G46 -->\n<g id=\"node3\" class=\"node\">\n<title>uv_G46</title>\n<text text-anchor=\"middle\" x=\"31.5\" y=\"-986.3\" font-family=\"Times,serif\" font-size=\"14.00\">uv</text>\n</g>\n<!-- uv_G46&#45;&gt;PrepareFirstQuantizationWithProj -->\n<g id=\"edge3\" class=\"edge\">\n<title>uv_G46:e-&gt;PrepareFirstQuantizationWithProj:w</title>\n<path fill=\"none\" stroke=\"black\" d=\"M59.5,-990C88.37,-990 71.28,-739.18 98,-727.43\"/>\n<ellipse fill=\"black\" stroke=\"black\" cx=\"99.02\" cy=\"-727.21\" rx=\"1\" ry=\"1\"/>\n<text text-anchor=\"middle\" x=\"81.5\" y=\"-830\" font-family=\"Times,serif\" font-size=\"10.00\">2</text>\n</g>\n<!-- i_G50 -->\n<g id=\"node4\" class=\"node\">\n<title>i_G50</title>\n<text text-anchor=\"middle\" x=\"31.5\" y=\"-932.3\" font-family=\"Times,serif\" font-size=\"14.00\">i</text>\n</g>\n<!-- i_G50&#45;&gt;PrepareFirstQuantizationWithProj -->\n<g id=\"edge4\" class=\"edge\">\n<title>i_G50:e-&gt;PrepareFirstQuantizationWithProj:w</title>\n<path fill=\"none\" stroke=\"black\" d=\"M59.5,-936C84.74,-936 74.65,-718.41 97.95,-706.51\"/>\n<ellipse fill=\"black\" stroke=\"black\" cx=\"99.03\" cy=\"-706.24\" rx=\"1\" ry=\"1\"/>\n<text text-anchor=\"middle\" x=\"81.5\" y=\"-803\" font-family=\"Times,serif\" font-size=\"10.00\">4</text>\n</g>\n<!-- j_G13 -->\n<g id=\"node5\" class=\"node\">\n<title>j_G13</title>\n<text text-anchor=\"middle\" x=\"31.5\" y=\"-878.3\" font-family=\"Times,serif\" font-size=\"14.00\">j</text>\n</g>\n<!-- j_G13&#45;&gt;PrepareFirstQuantizationWithProj -->\n<g id=\"edge5\" class=\"edge\">\n<title>j_G13:e-&gt;PrepareFirstQuantizationWithProj:w</title>\n<path fill=\"none\" stroke=\"black\" d=\"M59.5,-882C81.15,-882 77.89,-697.12 97.98,-685.57\"/>\n<ellipse fill=\"black\" stroke=\"black\" cx=\"99.04\" cy=\"-685.27\" rx=\"1\" ry=\"1\"/>\n<text text-anchor=\"middle\" x=\"81.5\" y=\"-768\" font-family=\"Times,serif\" font-size=\"10.00\">4</text>\n</g>\n<!-- w_G15 -->\n<g id=\"node6\" class=\"node\">\n<title>w_G15</title>\n<text text-anchor=\"middle\" x=\"31.5\" y=\"-824.3\" font-family=\"Times,serif\" font-size=\"14.00\">w</text>\n</g>\n<!-- w_G15&#45;&gt;PrepareFirstQuantizationWithProj -->\n<g id=\"edge6\" class=\"edge\">\n<title>w_G15:e-&gt;PrepareFirstQuantizationWithProj:w</title>\n<path fill=\"none\" stroke=\"black\" d=\"M59.5,-828C77.54,-828 80.97,-676.56 97.87,-664.73\"/>\n<ellipse fill=\"black\" stroke=\"black\" cx=\"99.05\" cy=\"-664.32\" rx=\"1\" ry=\"1\"/>\n<text text-anchor=\"middle\" x=\"81.5\" y=\"-739\" font-family=\"Times,serif\" font-size=\"10.00\">2</text>\n</g>\n<!-- w_mean_G1 -->\n<g id=\"node7\" class=\"node\">\n<title>w_mean_G1</title>\n<text text-anchor=\"middle\" x=\"31.5\" y=\"-770.3\" font-family=\"Times,serif\" font-size=\"14.00\">w_mean</text>\n</g>\n<!-- w_mean_G1&#45;&gt;PrepareFirstQuantizationWithProj -->\n<g id=\"edge7\" class=\"edge\">\n<title>w_mean_G1:e-&gt;PrepareFirstQuantizationWithProj:w</title>\n<path fill=\"none\" stroke=\"black\" d=\"M63,-774C122.79,-774 41.45,-646.05 97.93,-643.05\"/>\n<ellipse fill=\"black\" stroke=\"black\" cx=\"99\" cy=\"-643.03\" rx=\"1\" ry=\"1\"/>\n<text text-anchor=\"middle\" x=\"81.5\" y=\"-711\" font-family=\"Times,serif\" font-size=\"10.00\">2</text>\n</g>\n<!-- r_G8 -->\n<g id=\"node8\" class=\"node\">\n<title>r_G8</title>\n<text text-anchor=\"middle\" x=\"31.5\" y=\"-716.3\" font-family=\"Times,serif\" font-size=\"14.00\">r</text>\n</g>\n<!-- r_G8&#45;&gt;PrepareFirstQuantizationWithProj -->\n<g id=\"edge8\" class=\"edge\">\n<title>r_G8:e-&gt;PrepareFirstQuantizationWithProj:w</title>\n<path fill=\"none\" stroke=\"black\" d=\"M59.5,-720C105.89,-720 54.53,-625.04 97.86,-622.07\"/>\n<ellipse fill=\"black\" stroke=\"black\" cx=\"99\" cy=\"-622.03\" rx=\"1\" ry=\"1\"/>\n<text text-anchor=\"middle\" x=\"81.5\" y=\"-637\" font-family=\"Times,serif\" font-size=\"10.00\">8</text>\n</g>\n<!-- s_G18 -->\n<g id=\"node9\" class=\"node\">\n<title>s_G18</title>\n<text text-anchor=\"middle\" x=\"31.5\" y=\"-662.3\" font-family=\"Times,serif\" font-size=\"14.00\">s</text>\n</g>\n<!-- s_G18&#45;&gt;PrepareFirstQuantizationWithProj -->\n<g id=\"edge9\" class=\"edge\">\n<title>s_G18:e-&gt;PrepareFirstQuantizationWithProj:w</title>\n<path fill=\"none\" stroke=\"black\" d=\"M59.5,-666C92.74,-666 67.22,-604.01 97.71,-601.11\"/>\n<ellipse fill=\"black\" stroke=\"black\" cx=\"99\" cy=\"-601.05\" rx=\"1\" ry=\"1\"/>\n<text text-anchor=\"middle\" x=\"81.5\" y=\"-625\" font-family=\"Times,serif\" font-size=\"10.00\">8</text>\n</g>\n<!-- mu_G17 -->\n<g id=\"node10\" class=\"node\">\n<title>mu_G17</title>\n<text text-anchor=\"middle\" x=\"31.5\" y=\"-608.3\" font-family=\"Times,serif\" font-size=\"14.00\">mu</text>\n</g>\n<!-- mu_G17&#45;&gt;PrepareFirstQuantizationWithProj -->\n<g id=\"edge10\" class=\"edge\">\n<title>mu_G17:e-&gt;PrepareFirstQuantizationWithProj:w</title>\n<path fill=\"none\" stroke=\"black\" d=\"M59.5,-612C81.72,-612 77.37,-581.97 97.93,-580.09\"/>\n<ellipse fill=\"black\" stroke=\"black\" cx=\"99\" cy=\"-580.04\" rx=\"1\" ry=\"1\"/>\n<text text-anchor=\"middle\" x=\"81.5\" y=\"-596\" font-family=\"Times,serif\" font-size=\"10.00\">8</text>\n</g>\n<!-- nu_x_G42 -->\n<g id=\"node11\" class=\"node\">\n<title>nu_x_G42</title>\n<text text-anchor=\"middle\" x=\"31.5\" y=\"-554.3\" font-family=\"Times,serif\" font-size=\"14.00\">nu_x</text>\n</g>\n<!-- nu_x_G42&#45;&gt;PrepareFirstQuantizationWithProj -->\n<g id=\"edge11\" class=\"edge\">\n<title>nu_x_G42:e-&gt;PrepareFirstQuantizationWithProj:w</title>\n<path fill=\"none\" stroke=\"black\" d=\"M59.5,-558C76.8,-558 81.63,-558 97.95,-558\"/>\n<ellipse fill=\"black\" stroke=\"black\" cx=\"99\" cy=\"-558\" rx=\"1\" ry=\"1\"/>\n<text text-anchor=\"middle\" x=\"81.5\" y=\"-561\" font-family=\"Times,serif\" font-size=\"10.00\">9</text>\n</g>\n<!-- nu_y_G54 -->\n<g id=\"node12\" class=\"node\">\n<title>nu_y_G54</title>\n<text text-anchor=\"middle\" x=\"31.5\" y=\"-500.3\" font-family=\"Times,serif\" font-size=\"14.00\">nu_y</text>\n</g>\n<!-- nu_y_G54&#45;&gt;PrepareFirstQuantizationWithProj -->\n<g id=\"edge12\" class=\"edge\">\n<title>nu_y_G54:e-&gt;PrepareFirstQuantizationWithProj:w</title>\n<path fill=\"none\" stroke=\"black\" d=\"M59.5,-504C81.99,-504 77.12,-534.97 97.91,-536.91\"/>\n<ellipse fill=\"black\" stroke=\"black\" cx=\"99\" cy=\"-536.95\" rx=\"1\" ry=\"1\"/>\n<text text-anchor=\"middle\" x=\"81.5\" y=\"-527\" font-family=\"Times,serif\" font-size=\"10.00\">9</text>\n</g>\n<!-- nu_z_G22 -->\n<g id=\"node13\" class=\"node\">\n<title>nu_z_G22</title>\n<text text-anchor=\"middle\" x=\"31.5\" y=\"-446.3\" font-family=\"Times,serif\" font-size=\"14.00\">nu_z</text>\n</g>\n<!-- nu_z_G22&#45;&gt;PrepareFirstQuantizationWithProj -->\n<g id=\"edge13\" class=\"edge\">\n<title>nu_z_G22:e-&gt;PrepareFirstQuantizationWithProj:w</title>\n<path fill=\"none\" stroke=\"black\" d=\"M59.5,-450C93.11,-450 66.88,-512.94 97.68,-515.89\"/>\n<ellipse fill=\"black\" stroke=\"black\" cx=\"99\" cy=\"-515.95\" rx=\"1\" ry=\"1\"/>\n<text text-anchor=\"middle\" x=\"81.5\" y=\"-501\" font-family=\"Times,serif\" font-size=\"10.00\">9</text>\n</g>\n<!-- m_G0 -->\n<g id=\"node14\" class=\"node\">\n<title>m_G0</title>\n<text text-anchor=\"middle\" x=\"31.5\" y=\"-392.3\" font-family=\"Times,serif\" font-size=\"14.00\">m</text>\n</g>\n<!-- m_G0&#45;&gt;PrepareFirstQuantizationWithProj -->\n<g id=\"edge14\" class=\"edge\">\n<title>m_G0:e-&gt;PrepareFirstQuantizationWithProj:w</title>\n<path fill=\"none\" stroke=\"black\" d=\"M59.5,-396C106.3,-396 54.14,-491.93 97.85,-494.93\"/>\n<ellipse fill=\"black\" stroke=\"black\" cx=\"99\" cy=\"-494.97\" rx=\"1\" ry=\"1\"/>\n<text text-anchor=\"middle\" x=\"81.5\" y=\"-485\" font-family=\"Times,serif\" font-size=\"10.00\">8</text>\n</g>\n<!-- l_G10 -->\n<g id=\"node15\" class=\"node\">\n<title>l_G10</title>\n<text text-anchor=\"middle\" x=\"31.5\" y=\"-338.3\" font-family=\"Times,serif\" font-size=\"14.00\">l</text>\n</g>\n<!-- l_G10&#45;&gt;PrepareFirstQuantizationWithProj -->\n<g id=\"edge15\" class=\"edge\">\n<title>l_G10:e-&gt;PrepareFirstQuantizationWithProj:w</title>\n<path fill=\"none\" stroke=\"black\" d=\"M59.5,-342C120.15,-342 40.54,-470.92 97.9,-473.95\"/>\n<ellipse fill=\"black\" stroke=\"black\" cx=\"99\" cy=\"-473.97\" rx=\"1\" ry=\"1\"/>\n<text text-anchor=\"middle\" x=\"81.5\" y=\"-469\" font-family=\"Times,serif\" font-size=\"10.00\">4</text>\n</g>\n<!-- succ_nu_G40 -->\n<g id=\"node16\" class=\"node\">\n<title>succ_nu_G40</title>\n<text text-anchor=\"middle\" x=\"31.5\" y=\"-284.3\" font-family=\"Times,serif\" font-size=\"14.00\">succ_nu</text>\n</g>\n<!-- succ_nu_G40&#45;&gt;PrepareFirstQuantizationWithProj -->\n<g id=\"edge16\" class=\"edge\">\n<title>succ_nu_G40:e-&gt;PrepareFirstQuantizationWithProj:w</title>\n<path fill=\"none\" stroke=\"black\" d=\"M63,-288C91.82,-288 75.28,-321.97 82,-350 87.25,-371.89 77.41,-448.03 97.92,-452.77\"/>\n<ellipse fill=\"black\" stroke=\"black\" cx=\"99.01\" cy=\"-452.89\" rx=\"1\" ry=\"1\"/>\n<text text-anchor=\"middle\" x=\"81.5\" y=\"-353\" font-family=\"Times,serif\" font-size=\"10.00\">1</text>\n</g>\n<!-- plus_t_G32 -->\n<g id=\"node17\" class=\"node\">\n<title>plus_t_G32</title>\n<text text-anchor=\"middle\" x=\"31.5\" y=\"-230.3\" font-family=\"Times,serif\" font-size=\"14.00\">plus_t</text>\n</g>\n<!-- plus_t_G32&#45;&gt;PrepareFirstQuantizationWithProj -->\n<g id=\"edge17\" class=\"edge\">\n<title>plus_t_G32:e-&gt;PrepareFirstQuantizationWithProj:w</title>\n<path fill=\"none\" stroke=\"black\" d=\"M59.5,-234C107.23,-234 72.47,-292.24 82,-339 86.04,-358.82 79.5,-426.42 97.66,-431.68\"/>\n<ellipse fill=\"black\" stroke=\"black\" cx=\"99.01\" cy=\"-431.86\" rx=\"1\" ry=\"1\"/>\n<text text-anchor=\"middle\" x=\"81.5\" y=\"-342\" font-family=\"Times,serif\" font-size=\"10.00\">1</text>\n</g>\n<!-- flags_G29 -->\n<g id=\"node18\" class=\"node\">\n<title>flags_G29</title>\n<text text-anchor=\"middle\" x=\"31.5\" y=\"-176.3\" font-family=\"Times,serif\" font-size=\"14.00\">flags[0]</text>\n</g>\n<!-- flags_G29&#45;&gt;PrepareFirstQuantizationWithProj -->\n<g id=\"edge18\" class=\"edge\">\n<title>flags_G29:e-&gt;PrepareFirstQuantizationWithProj:w</title>\n<path fill=\"none\" stroke=\"black\" d=\"M62.5,-180C89.7,-180 76.22,-211.42 82,-238 85.94,-256.15 81.08,-399.17 97.85,-410.31\"/>\n<ellipse fill=\"black\" stroke=\"black\" cx=\"99.05\" cy=\"-410.7\" rx=\"1\" ry=\"1\"/>\n<text text-anchor=\"middle\" x=\"81.5\" y=\"-241\" font-family=\"Times,serif\" font-size=\"10.00\">1</text>\n</g>\n<!-- flags_G51 -->\n<g id=\"node19\" class=\"node\">\n<title>flags_G51</title>\n<text text-anchor=\"middle\" x=\"31.5\" y=\"-122.3\" font-family=\"Times,serif\" font-size=\"14.00\">flags[1]</text>\n</g>\n<!-- flags_G51&#45;&gt;PrepareFirstQuantizationWithProj -->\n<g id=\"edge19\" class=\"edge\">\n<title>flags_G51:e-&gt;PrepareFirstQuantizationWithProj:w</title>\n<path fill=\"none\" stroke=\"black\" d=\"M62.5,-126C109.09,-126 75.07,-182.93 82,-229 84.57,-246.1 82.2,-379 97.98,-389.36\"/>\n<ellipse fill=\"black\" stroke=\"black\" cx=\"99.05\" cy=\"-389.7\" rx=\"1\" ry=\"1\"/>\n<text text-anchor=\"middle\" x=\"81.5\" y=\"-232\" font-family=\"Times,serif\" font-size=\"10.00\">1</text>\n</g>\n<!-- flags_G58 -->\n<g id=\"node20\" class=\"node\">\n<title>flags_G58</title>\n<text text-anchor=\"middle\" x=\"31.5\" y=\"-68.3\" font-family=\"Times,serif\" font-size=\"14.00\">flags[2]</text>\n</g>\n<!-- flags_G58&#45;&gt;PrepareFirstQuantizationWithProj -->\n<g id=\"edge20\" class=\"edge\">\n<title>flags_G58:e-&gt;PrepareFirstQuantizationWithProj:w</title>\n<path fill=\"none\" stroke=\"black\" d=\"M62.5,-72C88.85,-72 76.64,-102.2 82,-128 87.31,-153.57 73.92,-357.4 97.89,-368.53\"/>\n<ellipse fill=\"black\" stroke=\"black\" cx=\"99.02\" cy=\"-368.78\" rx=\"1\" ry=\"1\"/>\n<text text-anchor=\"middle\" x=\"81.5\" y=\"-131\" font-family=\"Times,serif\" font-size=\"10.00\">1</text>\n</g>\n<!-- flags_G9 -->\n<g id=\"node21\" class=\"node\">\n<title>flags_G9</title>\n<text text-anchor=\"middle\" x=\"31.5\" y=\"-14.3\" font-family=\"Times,serif\" font-size=\"14.00\">flags[3]</text>\n</g>\n<!-- flags_G9&#45;&gt;PrepareFirstQuantizationWithProj -->\n<g id=\"edge21\" class=\"edge\">\n<title>flags_G9:e-&gt;PrepareFirstQuantizationWithProj:w</title>\n<path fill=\"none\" stroke=\"black\" d=\"M62.5,-18C107.35,-18 75.91,-72.57 82,-117 85.4,-141.81 74.86,-336.9 97.97,-347.55\"/>\n<ellipse fill=\"black\" stroke=\"black\" cx=\"99.02\" cy=\"-347.78\" rx=\"1\" ry=\"1\"/>\n<text text-anchor=\"middle\" x=\"81.5\" y=\"-120\" font-family=\"Times,serif\" font-size=\"10.00\">1</text>\n</g>\n<!-- tuv_G36 -->\n<g id=\"node23\" class=\"node\">\n<title>tuv_G36</title>\n<text text-anchor=\"middle\" x=\"313.5\" y=\"-1094.3\" font-family=\"Times,serif\" font-size=\"14.00\">tuv</text>\n</g>\n<!-- PrepareFirstQuantizationWithProj&#45;&gt;tuv_G36 -->\n<g id=\"edge22\" class=\"edge\">\n<title>PrepareFirstQuantizationWithProj:e-&gt;tuv_G36:w</title>\n<path fill=\"none\" stroke=\"black\" d=\"M245,-769C262.77,-769 266.81,-1075.27 283.61,-1096.81\"/>\n<ellipse fill=\"black\" stroke=\"black\" cx=\"284.65\" cy=\"-1097.47\" rx=\"1\" ry=\"1\"/>\n<text text-anchor=\"middle\" x=\"263.5\" y=\"-916\" font-family=\"Times,serif\" font-size=\"10.00\">1</text>\n</g>\n<!-- tepm_G21 -->\n<g id=\"node24\" class=\"node\">\n<title>tepm_G21</title>\n<text text-anchor=\"middle\" x=\"313.5\" y=\"-1040.3\" font-family=\"Times,serif\" font-size=\"14.00\">tepm</text>\n</g>\n<!-- PrepareFirstQuantizationWithProj&#45;&gt;tepm_G21 -->\n<g id=\"edge23\" class=\"edge\">\n<title>PrepareFirstQuantizationWithProj:e-&gt;tepm_G21:w</title>\n<path fill=\"none\" stroke=\"black\" d=\"M245,-748C261.01,-748 268.38,-1023.55 283.78,-1042.93\"/>\n<ellipse fill=\"black\" stroke=\"black\" cx=\"284.65\" cy=\"-1043.47\" rx=\"1\" ry=\"1\"/>\n<text text-anchor=\"middle\" x=\"263.5\" y=\"-881\" font-family=\"Times,serif\" font-size=\"10.00\">2</text>\n</g>\n<!-- uv_G19 -->\n<g id=\"node25\" class=\"node\">\n<title>uv_G19</title>\n<text text-anchor=\"middle\" x=\"313.5\" y=\"-986.3\" font-family=\"Times,serif\" font-size=\"14.00\">uv</text>\n</g>\n<!-- PrepareFirstQuantizationWithProj&#45;&gt;uv_G19 -->\n<g id=\"edge24\" class=\"edge\">\n<title>PrepareFirstQuantizationWithProj:e-&gt;uv_G19:w</title>\n<path fill=\"none\" stroke=\"black\" d=\"M245,-727C273.87,-727 256.78,-977.82 283.5,-989.57\"/>\n<ellipse fill=\"black\" stroke=\"black\" cx=\"284.52\" cy=\"-989.79\" rx=\"1\" ry=\"1\"/>\n<text text-anchor=\"middle\" x=\"263.5\" y=\"-830\" font-family=\"Times,serif\" font-size=\"10.00\">2</text>\n</g>\n<!-- i_G14 -->\n<g id=\"node26\" class=\"node\">\n<title>i_G14</title>\n<text text-anchor=\"middle\" x=\"313.5\" y=\"-932.3\" font-family=\"Times,serif\" font-size=\"14.00\">i</text>\n</g>\n<!-- PrepareFirstQuantizationWithProj&#45;&gt;i_G14 -->\n<g id=\"edge25\" class=\"edge\">\n<title>PrepareFirstQuantizationWithProj:e-&gt;i_G14:w</title>\n<path fill=\"none\" stroke=\"black\" d=\"M245,-706C270.24,-706 260.15,-923.59 283.45,-935.49\"/>\n<ellipse fill=\"black\" stroke=\"black\" cx=\"284.53\" cy=\"-935.76\" rx=\"1\" ry=\"1\"/>\n<text text-anchor=\"middle\" x=\"263.5\" y=\"-803\" font-family=\"Times,serif\" font-size=\"10.00\">4</text>\n</g>\n<!-- j_G31 -->\n<g id=\"node27\" class=\"node\">\n<title>j_G31</title>\n<text text-anchor=\"middle\" x=\"313.5\" y=\"-878.3\" font-family=\"Times,serif\" font-size=\"14.00\">j</text>\n</g>\n<!-- PrepareFirstQuantizationWithProj&#45;&gt;j_G31 -->\n<g id=\"edge26\" class=\"edge\">\n<title>PrepareFirstQuantizationWithProj:e-&gt;j_G31:w</title>\n<path fill=\"none\" stroke=\"black\" d=\"M245,-685C266.65,-685 263.39,-869.88 283.48,-881.43\"/>\n<ellipse fill=\"black\" stroke=\"black\" cx=\"284.54\" cy=\"-881.73\" rx=\"1\" ry=\"1\"/>\n<text text-anchor=\"middle\" x=\"263.5\" y=\"-768\" font-family=\"Times,serif\" font-size=\"10.00\">4</text>\n</g>\n<!-- w_G35 -->\n<g id=\"node28\" class=\"node\">\n<title>w_G35</title>\n<text text-anchor=\"middle\" x=\"313.5\" y=\"-824.3\" font-family=\"Times,serif\" font-size=\"14.00\">w</text>\n</g>\n<!-- PrepareFirstQuantizationWithProj&#45;&gt;w_G35 -->\n<g id=\"edge27\" class=\"edge\">\n<title>PrepareFirstQuantizationWithProj:e-&gt;w_G35:w</title>\n<path fill=\"none\" stroke=\"black\" d=\"M245,-664C263.04,-664 266.47,-815.44 283.37,-827.27\"/>\n<ellipse fill=\"black\" stroke=\"black\" cx=\"284.55\" cy=\"-827.68\" rx=\"1\" ry=\"1\"/>\n<text text-anchor=\"middle\" x=\"263.5\" y=\"-739\" font-family=\"Times,serif\" font-size=\"10.00\">2</text>\n</g>\n<!-- w_mean_G34 -->\n<g id=\"node29\" class=\"node\">\n<title>w_mean_G34</title>\n<text text-anchor=\"middle\" x=\"313.5\" y=\"-770.3\" font-family=\"Times,serif\" font-size=\"14.00\">w_mean</text>\n</g>\n<!-- PrepareFirstQuantizationWithProj&#45;&gt;w_mean_G34 -->\n<g id=\"edge28\" class=\"edge\">\n<title>PrepareFirstQuantizationWithProj:e-&gt;w_mean_G34:w</title>\n<path fill=\"none\" stroke=\"black\" d=\"M245,-643C304.79,-643 223.45,-770.95 279.93,-773.95\"/>\n<ellipse fill=\"black\" stroke=\"black\" cx=\"281\" cy=\"-773.97\" rx=\"1\" ry=\"1\"/>\n<text text-anchor=\"middle\" x=\"263.5\" y=\"-711\" font-family=\"Times,serif\" font-size=\"10.00\">2</text>\n</g>\n<!-- r_G38 -->\n<g id=\"node30\" class=\"node\">\n<title>r_G38</title>\n<text text-anchor=\"middle\" x=\"313.5\" y=\"-716.3\" font-family=\"Times,serif\" font-size=\"14.00\">r</text>\n</g>\n<!-- PrepareFirstQuantizationWithProj&#45;&gt;r_G38 -->\n<g id=\"edge29\" class=\"edge\">\n<title>PrepareFirstQuantizationWithProj:e-&gt;r_G38:w</title>\n<path fill=\"none\" stroke=\"black\" d=\"M245,-622C291.39,-622 240.03,-716.96 283.36,-719.93\"/>\n<ellipse fill=\"black\" stroke=\"black\" cx=\"284.5\" cy=\"-719.97\" rx=\"1\" ry=\"1\"/>\n<text text-anchor=\"middle\" x=\"263.5\" y=\"-637\" font-family=\"Times,serif\" font-size=\"10.00\">8</text>\n</g>\n<!-- s_G43 -->\n<g id=\"node31\" class=\"node\">\n<title>s_G43</title>\n<text text-anchor=\"middle\" x=\"313.5\" y=\"-662.3\" font-family=\"Times,serif\" font-size=\"14.00\">s</text>\n</g>\n<!-- PrepareFirstQuantizationWithProj&#45;&gt;s_G43 -->\n<g id=\"edge30\" class=\"edge\">\n<title>PrepareFirstQuantizationWithProj:e-&gt;s_G43:w</title>\n<path fill=\"none\" stroke=\"black\" d=\"M245,-601C278.24,-601 252.72,-662.99 283.21,-665.89\"/>\n<ellipse fill=\"black\" stroke=\"black\" cx=\"284.5\" cy=\"-665.95\" rx=\"1\" ry=\"1\"/>\n<text text-anchor=\"middle\" x=\"263.5\" y=\"-625\" font-family=\"Times,serif\" font-size=\"10.00\">8</text>\n</g>\n<!-- mu_G37 -->\n<g id=\"node32\" class=\"node\">\n<title>mu_G37</title>\n<text text-anchor=\"middle\" x=\"313.5\" y=\"-608.3\" font-family=\"Times,serif\" font-size=\"14.00\">mu</text>\n</g>\n<!-- PrepareFirstQuantizationWithProj&#45;&gt;mu_G37 -->\n<g id=\"edge31\" class=\"edge\">\n<title>PrepareFirstQuantizationWithProj:e-&gt;mu_G37:w</title>\n<path fill=\"none\" stroke=\"black\" d=\"M245,-580C267.22,-580 262.87,-610.03 283.43,-611.91\"/>\n<ellipse fill=\"black\" stroke=\"black\" cx=\"284.5\" cy=\"-611.96\" rx=\"1\" ry=\"1\"/>\n<text text-anchor=\"middle\" x=\"263.5\" y=\"-596\" font-family=\"Times,serif\" font-size=\"10.00\">8</text>\n</g>\n<!-- nu_x_G3 -->\n<g id=\"node33\" class=\"node\">\n<title>nu_x_G3</title>\n<text text-anchor=\"middle\" x=\"313.5\" y=\"-554.3\" font-family=\"Times,serif\" font-size=\"14.00\">nu_x</text>\n</g>\n<!-- PrepareFirstQuantizationWithProj&#45;&gt;nu_x_G3 -->\n<g id=\"edge32\" class=\"edge\">\n<title>PrepareFirstQuantizationWithProj:e-&gt;nu_x_G3:w</title>\n<path fill=\"none\" stroke=\"black\" d=\"M245,-558C262.3,-558 267.13,-558 283.45,-558\"/>\n<ellipse fill=\"black\" stroke=\"black\" cx=\"284.5\" cy=\"-558\" rx=\"1\" ry=\"1\"/>\n<text text-anchor=\"middle\" x=\"263.5\" y=\"-561\" font-family=\"Times,serif\" font-size=\"10.00\">9</text>\n</g>\n<!-- nu_y_G26 -->\n<g id=\"node34\" class=\"node\">\n<title>nu_y_G26</title>\n<text text-anchor=\"middle\" x=\"313.5\" y=\"-500.3\" font-family=\"Times,serif\" font-size=\"14.00\">nu_y</text>\n</g>\n<!-- PrepareFirstQuantizationWithProj&#45;&gt;nu_y_G26 -->\n<g id=\"edge33\" class=\"edge\">\n<title>PrepareFirstQuantizationWithProj:e-&gt;nu_y_G26:w</title>\n<path fill=\"none\" stroke=\"black\" d=\"M245,-537C267.49,-537 262.62,-506.03 283.41,-504.09\"/>\n<ellipse fill=\"black\" stroke=\"black\" cx=\"284.5\" cy=\"-504.05\" rx=\"1\" ry=\"1\"/>\n<text text-anchor=\"middle\" x=\"263.5\" y=\"-527\" font-family=\"Times,serif\" font-size=\"10.00\">9</text>\n</g>\n<!-- nu_z_G49 -->\n<g id=\"node35\" class=\"node\">\n<title>nu_z_G49</title>\n<text text-anchor=\"middle\" x=\"313.5\" y=\"-446.3\" font-family=\"Times,serif\" font-size=\"14.00\">nu_z</text>\n</g>\n<!-- PrepareFirstQuantizationWithProj&#45;&gt;nu_z_G49 -->\n<g id=\"edge34\" class=\"edge\">\n<title>PrepareFirstQuantizationWithProj:e-&gt;nu_z_G49:w</title>\n<path fill=\"none\" stroke=\"black\" d=\"M245,-516C278.61,-516 252.38,-453.06 283.18,-450.11\"/>\n<ellipse fill=\"black\" stroke=\"black\" cx=\"284.5\" cy=\"-450.05\" rx=\"1\" ry=\"1\"/>\n<text text-anchor=\"middle\" x=\"263.5\" y=\"-501\" font-family=\"Times,serif\" font-size=\"10.00\">9</text>\n</g>\n<!-- m_G25 -->\n<g id=\"node36\" class=\"node\">\n<title>m_G25</title>\n<text text-anchor=\"middle\" x=\"313.5\" y=\"-392.3\" font-family=\"Times,serif\" font-size=\"14.00\">m</text>\n</g>\n<!-- PrepareFirstQuantizationWithProj&#45;&gt;m_G25 -->\n<g id=\"edge35\" class=\"edge\">\n<title>PrepareFirstQuantizationWithProj:e-&gt;m_G25:w</title>\n<path fill=\"none\" stroke=\"black\" d=\"M245,-495C291.8,-495 239.64,-399.07 283.35,-396.07\"/>\n<ellipse fill=\"black\" stroke=\"black\" cx=\"284.5\" cy=\"-396.03\" rx=\"1\" ry=\"1\"/>\n<text text-anchor=\"middle\" x=\"263.5\" y=\"-485\" font-family=\"Times,serif\" font-size=\"10.00\">8</text>\n</g>\n<!-- l_G48 -->\n<g id=\"node37\" class=\"node\">\n<title>l_G48</title>\n<text text-anchor=\"middle\" x=\"313.5\" y=\"-338.3\" font-family=\"Times,serif\" font-size=\"14.00\">l</text>\n</g>\n<!-- PrepareFirstQuantizationWithProj&#45;&gt;l_G48 -->\n<g id=\"edge36\" class=\"edge\">\n<title>PrepareFirstQuantizationWithProj:e-&gt;l_G48:w</title>\n<path fill=\"none\" stroke=\"black\" d=\"M245,-474C305.65,-474 226.04,-345.08 283.4,-342.05\"/>\n<ellipse fill=\"black\" stroke=\"black\" cx=\"284.5\" cy=\"-342.03\" rx=\"1\" ry=\"1\"/>\n<text text-anchor=\"middle\" x=\"263.5\" y=\"-469\" font-family=\"Times,serif\" font-size=\"10.00\">4</text>\n</g>\n<!-- succ_nu_G7 -->\n<g id=\"node38\" class=\"node\">\n<title>succ_nu_G7</title>\n<text text-anchor=\"middle\" x=\"313.5\" y=\"-284.3\" font-family=\"Times,serif\" font-size=\"14.00\">succ_nu</text>\n</g>\n<!-- PrepareFirstQuantizationWithProj&#45;&gt;succ_nu_G7 -->\n<g id=\"edge37\" class=\"edge\">\n<title>PrepareFirstQuantizationWithProj:e-&gt;succ_nu_G7:w</title>\n<path fill=\"none\" stroke=\"black\" d=\"M245,-453C268.24,-453 257.59,-372.6 263,-350 269.53,-322.74 254.07,-289.85 279.74,-288.08\"/>\n<ellipse fill=\"black\" stroke=\"black\" cx=\"281\" cy=\"-288.03\" rx=\"1\" ry=\"1\"/>\n<text text-anchor=\"middle\" x=\"263.5\" y=\"-353\" font-family=\"Times,serif\" font-size=\"10.00\">1</text>\n</g>\n<!-- plus_t_G62 -->\n<g id=\"node39\" class=\"node\">\n<title>plus_t_G62</title>\n<text text-anchor=\"middle\" x=\"313.5\" y=\"-230.3\" font-family=\"Times,serif\" font-size=\"14.00\">plus_t</text>\n</g>\n<!-- PrepareFirstQuantizationWithProj&#45;&gt;plus_t_G62 -->\n<g id=\"edge38\" class=\"edge\">\n<title>PrepareFirstQuantizationWithProj:e-&gt;plus_t_G62:w</title>\n<path fill=\"none\" stroke=\"black\" d=\"M245,-432C266.05,-432 258.79,-359.63 263,-339 272.39,-292.97 238.85,-235.82 283.32,-234.04\"/>\n<ellipse fill=\"black\" stroke=\"black\" cx=\"284.5\" cy=\"-234.02\" rx=\"1\" ry=\"1\"/>\n<text text-anchor=\"middle\" x=\"263.5\" y=\"-342\" font-family=\"Times,serif\" font-size=\"10.00\">1</text>\n</g>\n<!-- flags_G57 -->\n<g id=\"node40\" class=\"node\">\n<title>flags_G57</title>\n<text text-anchor=\"middle\" x=\"313.5\" y=\"-176.3\" font-family=\"Times,serif\" font-size=\"14.00\">flags[0]</text>\n</g>\n<!-- PrepareFirstQuantizationWithProj&#45;&gt;flags_G57 -->\n<g id=\"edge39\" class=\"edge\">\n<title>PrepareFirstQuantizationWithProj:e-&gt;flags_G57:w</title>\n<path fill=\"none\" stroke=\"black\" d=\"M245,-411C264.33,-411 258.9,-256.89 263,-238 268.62,-212.15 256.03,-181.71 280.36,-180.07\"/>\n<ellipse fill=\"black\" stroke=\"black\" cx=\"281.5\" cy=\"-180.03\" rx=\"1\" ry=\"1\"/>\n<text text-anchor=\"middle\" x=\"263.5\" y=\"-241\" font-family=\"Times,serif\" font-size=\"10.00\">1</text>\n</g>\n<!-- flags_G24 -->\n<g id=\"node41\" class=\"node\">\n<title>flags_G24</title>\n<text text-anchor=\"middle\" x=\"313.5\" y=\"-122.3\" font-family=\"Times,serif\" font-size=\"14.00\">flags[1]</text>\n</g>\n<!-- PrepareFirstQuantizationWithProj&#45;&gt;flags_G24 -->\n<g id=\"edge40\" class=\"edge\">\n<title>PrepareFirstQuantizationWithProj:e-&gt;flags_G24:w</title>\n<path fill=\"none\" stroke=\"black\" d=\"M245,-390C263,-390 260.32,-246.8 263,-229 269.82,-183.65 236.96,-127.78 280.37,-126.04\"/>\n<ellipse fill=\"black\" stroke=\"black\" cx=\"281.5\" cy=\"-126.02\" rx=\"1\" ry=\"1\"/>\n<text text-anchor=\"middle\" x=\"263.5\" y=\"-232\" font-family=\"Times,serif\" font-size=\"10.00\">1</text>\n</g>\n<!-- flags_G30 -->\n<g id=\"node42\" class=\"node\">\n<title>flags_G30</title>\n<text text-anchor=\"middle\" x=\"313.5\" y=\"-68.3\" font-family=\"Times,serif\" font-size=\"14.00\">flags[2]</text>\n</g>\n<!-- PrepareFirstQuantizationWithProj&#45;&gt;flags_G30 -->\n<g id=\"edge41\" class=\"edge\">\n<title>PrepareFirstQuantizationWithProj:e-&gt;flags_G30:w</title>\n<path fill=\"none\" stroke=\"black\" d=\"M245,-369C271.85,-369 257.54,-154.29 263,-128 268.21,-102.9 256.8,-73.65 280.42,-72.07\"/>\n<ellipse fill=\"black\" stroke=\"black\" cx=\"281.5\" cy=\"-72.03\" rx=\"1\" ry=\"1\"/>\n<text text-anchor=\"middle\" x=\"263.5\" y=\"-131\" font-family=\"Times,serif\" font-size=\"10.00\">1</text>\n</g>\n<!-- flags_G39 -->\n<g id=\"node43\" class=\"node\">\n<title>flags_G39</title>\n<text text-anchor=\"middle\" x=\"313.5\" y=\"-14.3\" font-family=\"Times,serif\" font-size=\"14.00\">flags[3]</text>\n</g>\n<!-- PrepareFirstQuantizationWithProj&#45;&gt;flags_G39 -->\n<g id=\"edge42\" class=\"edge\">\n<title>PrepareFirstQuantizationWithProj:e-&gt;flags_G39:w</title>\n<path fill=\"none\" stroke=\"black\" d=\"M245,-348C270.74,-348 259.51,-142.51 263,-117 268.99,-73.26 238.63,-19.7 280.45,-18.04\"/>\n<ellipse fill=\"black\" stroke=\"black\" cx=\"281.5\" cy=\"-18.02\" rx=\"1\" ry=\"1\"/>\n<text text-anchor=\"middle\" x=\"263.5\" y=\"-120\" font-family=\"Times,serif\" font-size=\"10.00\">1</text>\n</g>\n</g>\n</svg>",
          "text/plain": "<IPython.core.display.SVG object>"
         },
         "metadata": {},
         "output_type": "display_data"
        }
       ],
       "tabbable": null,
       "tooltip": null
      }
     },
     "7e9d8a6aad5a449bb6472b4489e144fa": {
      "model_module": "@jupyter-widgets/base",
      "model_module_version": "2.0.0",
      "model_name": "LayoutModel",
      "state": {
       "_model_module": "@jupyter-widgets/base",
       "_model_module_version": "2.0.0",
       "_model_name": "LayoutModel",
       "_view_count": null,
       "_view_module": "@jupyter-widgets/base",
       "_view_module_version": "2.0.0",
       "_view_name": "LayoutView",
       "align_content": null,
       "align_items": null,
       "align_self": null,
       "border_bottom": null,
       "border_left": null,
       "border_right": null,
       "border_top": null,
       "bottom": null,
       "display": null,
       "flex": null,
       "flex_flow": null,
       "grid_area": null,
       "grid_auto_columns": null,
       "grid_auto_flow": null,
       "grid_auto_rows": null,
       "grid_column": null,
       "grid_gap": null,
       "grid_row": null,
       "grid_template_areas": null,
       "grid_template_columns": null,
       "grid_template_rows": null,
       "height": null,
       "justify_content": null,
       "justify_items": null,
       "left": null,
       "margin": null,
       "max_height": null,
       "max_width": null,
       "min_height": null,
       "min_width": null,
       "object_fit": null,
       "object_position": null,
       "order": null,
       "overflow": null,
       "padding": null,
       "right": null,
       "top": null,
       "visibility": null,
       "width": null
      }
     },
     "f6ae0a31db1648a8b88ae6422676509b": {
      "model_module": "@jupyter-widgets/base",
      "model_module_version": "2.0.0",
      "model_name": "LayoutModel",
      "state": {
       "_model_module": "@jupyter-widgets/base",
       "_model_module_version": "2.0.0",
       "_model_name": "LayoutModel",
       "_view_count": null,
       "_view_module": "@jupyter-widgets/base",
       "_view_module_version": "2.0.0",
       "_view_name": "LayoutView",
       "align_content": null,
       "align_items": null,
       "align_self": null,
       "border_bottom": null,
       "border_left": null,
       "border_right": null,
       "border_top": null,
       "bottom": null,
       "display": null,
       "flex": null,
       "flex_flow": null,
       "grid_area": null,
       "grid_auto_columns": null,
       "grid_auto_flow": null,
       "grid_auto_rows": null,
       "grid_column": null,
       "grid_gap": null,
       "grid_row": null,
       "grid_template_areas": null,
       "grid_template_columns": null,
       "grid_template_rows": null,
       "height": null,
       "justify_content": null,
       "justify_items": null,
       "left": null,
       "margin": null,
       "max_height": null,
       "max_width": null,
       "min_height": null,
       "min_width": null,
       "object_fit": null,
       "object_position": null,
       "order": null,
       "overflow": null,
       "padding": null,
       "right": null,
       "top": null,
       "visibility": null,
       "width": null
      }
     },
     "fc96e50fa2894c268f46d9d4e3b0c743": {
      "model_module": "@jupyter-widgets/base",
      "model_module_version": "2.0.0",
      "model_name": "LayoutModel",
      "state": {
       "_model_module": "@jupyter-widgets/base",
       "_model_module_version": "2.0.0",
       "_model_name": "LayoutModel",
       "_view_count": null,
       "_view_module": "@jupyter-widgets/base",
       "_view_module_version": "2.0.0",
       "_view_name": "LayoutView",
       "align_content": null,
       "align_items": null,
       "align_self": null,
       "border_bottom": null,
       "border_left": null,
       "border_right": null,
       "border_top": null,
       "bottom": null,
       "display": null,
       "flex": null,
       "flex_flow": null,
       "grid_area": null,
       "grid_auto_columns": null,
       "grid_auto_flow": null,
       "grid_auto_rows": null,
       "grid_column": null,
       "grid_gap": null,
       "grid_row": null,
       "grid_template_areas": null,
       "grid_template_columns": null,
       "grid_template_rows": null,
       "height": null,
       "justify_content": null,
       "justify_items": null,
       "left": null,
       "margin": null,
       "max_height": null,
       "max_width": null,
       "min_height": null,
       "min_width": null,
       "object_fit": null,
       "object_position": null,
       "order": null,
       "overflow": null,
       "padding": null,
       "right": null,
       "top": null,
       "visibility": null,
       "width": null
      }
     }
    },
    "version_major": 2,
    "version_minor": 0
   }
  }
 },
 "nbformat": 4,
 "nbformat_minor": 5
}
