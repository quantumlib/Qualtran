{
 "cells": [
  {
   "cell_type": "markdown",
   "id": "dafff26c",
   "metadata": {
    "cq.autogen": "title_cell"
   },
   "source": [
    "# First Quantized Hamiltonian\n",
    "\n",
    "SELECT and PREPARE for the first quantized chemistry Hamiltonian.\n",
    "\n",
    "Here we assume the Born-Oppenheimer Hamiltonian and seek to simulate a\n",
    "collection of $\\eta$ electrons and $L$ static nuclei with a Hamiltonian given\n",
    "by:\n",
    "$$\n",
    "H_{BO} = T + U + V + \\frac{1}{2}\n",
    "\\sum_{\\ell\\ne\\kappa=1}^L\\frac{\\zeta_\\ell\\zeta_\\kappa}{\\lVert R_\\ell - R_\\kappa \\rVert}\n",
    "$$\n",
    "\n",
    "In the first quantized approach we assume periodic boundary conditions and use a\n",
    "plane wave Galerkin discretization.\n",
    "A plane wave basis function is given by\n",
    "$$\n",
    "\\phi_p(r) = \\frac{1}{\\sqrt{\\Omega}} e^{-i k_p\\cdot r}\n",
    "$$\n",
    "where $r$ is a position vector in real space, $\\Omega$ is the simulation cell\n",
    "volume and $k_p$ is a reciprocal lattice vector.\n",
    "In three dimensions we have\n",
    "$$\n",
    "k_p = \\frac{2\\pi p }{\\Omega}\n",
    "$$\n",
    "for $p \\in G$ and\n",
    "$$\n",
    "G = [-\\frac{N^{1/3} -\n",
    "1}{2},\\frac{N^{1/3} - 1}{2}]^3 \\subset \\mathcal{Z}^3.\n",
    "$$\n",
    "and $N$ is the total number of planewaves.\n",
    "\n",
    "With these definitions we can write the components of the Hamiltonian as:\n",
    "$$\n",
    "T = \\sum_{i}^\\eta\\sum_{p\\in G}\\frac{\\lVert k_p\\rVert^2}{2} |p\\rangle\\langle p|_i\n",
    "$$\n",
    "which defines the kinetic energy of the electrons,\n",
    "$$\n",
    "U = -\\frac{4\\pi}{\\Omega}\n",
    "\\sum_{\\ell=1}^L \\sum_{i}^\\eta\n",
    "\\sum_{p,q\\in G, p\\ne q}\n",
    "\\left(\n",
    "    \\zeta_{\\ell}\n",
    "    \\frac{e^{i k_{q-p}\\cdot R_\\ell}}{\\lVert k_{p-q}\\rVert^2}\n",
    "    |p\\rangle\\langle q|_i\n",
    "\\right)\n",
    "$$\n",
    "describes the interaction of the electrons and the nuclei, and,\n",
    "$$\n",
    "V = \\frac{2\\pi}{\\Omega}\n",
    "\\sum_{i\\ne j=1}^\\eta\n",
    "\\sum_{p,q\\in G, p\\ne q}\n",
    "\\sum_{\\nu \\in G_0}\n",
    "\\left(\n",
    "    \\frac{1}{\\lVert k_{\\nu}\\rVert^2}\n",
    "    |p + \\nu\\rangle\\langle p|_i\n",
    "    |q -\\nu\\rangle\\langle q|_i\n",
    "\\right)\n",
    "$$\n",
    "describes the electron-electron interaction. The notation $|p\\rangle\\langle p|_i$ is shorthand for\n",
    "$I_1\\otimes\\cdots\\otimes |p\\rangle \\langle p |_j \\otimes \\cdots \\otimes I_\\eta$.\n",
    "The system is represented using a set of $\\eta$ signed integer registers each of\n",
    "size $3 n_p$ where $n_p =  \\lceil \\log (N^{1/3} + 1) \\rceil$, with the factor of\n",
    "3 accounting for the 3 spatial dimensions.\n",
    "\n",
    "In the first quantized approach, fermion antisymmetry is encoded through initial\n",
    "state preparation. Spin labels are also absent and should be accounted for\n",
    "during state preparation. The cost of initial state preparation is typically\n",
    "ignored."
   ]
  },
  {
   "cell_type": "code",
   "execution_count": 1,
   "id": "a586d019",
   "metadata": {
    "cq.autogen": "top_imports"
   },
   "outputs": [],
   "source": [
    "from qualtran import Bloq, CompositeBloq, BloqBuilder, Signature, Register\n",
    "from qualtran import QBit, QInt, QUInt, QAny\n",
    "from qualtran.drawing import show_bloq, show_call_graph, show_counts_sigma\n",
    "from typing import *\n",
    "import numpy as np\n",
    "import sympy\n",
    "import cirq"
   ]
  },
  {
   "cell_type": "markdown",
   "id": "a6f00172",
   "metadata": {
    "cq.autogen": "PrepareFirstQuantization.bloq_doc.md"
   },
   "source": [
    "## `PrepareFirstQuantization`\n",
    "State preparation for the first quantized chemistry Hamiltonian.\n",
    "\n",
    "Prepares the state in Eq. 48 of the reference.\n",
    "\n",
    "#### Parameters\n",
    " - `num_bits_p`: The number of bits to represent each dimension of the momentum register.\n",
    " - `eta`: The number of electrons.\n",
    " - `num_atoms`: The number of atoms. $L$ in the reference.\n",
    " - `lambda_zeta`: sum of nuclear charges.\n",
    " - `m_param`: $\\mathcal{M}$ in the reference.\n",
    " - `num_bits_nuc_pos`: The number of bits of precision for representing the nuclear coordinates.\n",
    " - `num_bits_t`: The number of bits of precision for the state preparation over the register selecting between the different components of the Hamiltonian.\n",
    " - `num_bits_rot_aa`: The number of bits of precision for the rotation for amplitude amplification.\n",
    " - `sum_of_l1_coeffs`: The one-norm of the Hamiltonian coefficients to prepare (often called lambda in the literature.) \n",
    "\n",
    "#### Registers\n",
    " - `tuv`: Flag register for selecting between kinetic and potential terms in the Hamiltonian.\n",
    " - `uv`: Flag register for selecting between the different potential components of the Hamiltonian.\n",
    " - `i`: A register for selecting electronic registers.\n",
    " - `j`: A register for selecting electronic registers.\n",
    " - `w`: A register for selecting x, y and z components of the momentum register.\n",
    " - `r`: A register for controlling elements of the momentum register. Used for block encodiding kinetic energy operator.\n",
    " - `s`: A register for controlling elements of the momentum register. Used for block encodiding kinetic energy operator.\n",
    " - `mu`: A register used for implementing nested boxes for the momentum state preparation.\n",
    " - `nu_x`: x component of the momentum register for Coulomb potential.\n",
    " - `nu_y`: y component of the momentum register for Coulomb potential.\n",
    " - `nu_z`: z component of the momentum register for Coulomb potential.\n",
    " - `m`: an ancilla register in a uniform superposition.\n",
    " - `l`: The register for selecting the nuclei. \n",
    "\n",
    "#### References\n",
    " - [Fault-Tolerant Quantum Simulations of Chemistry in First Quantization](https://arxiv.org/abs/2105.12767). \n"
   ]
  },
  {
   "cell_type": "code",
   "execution_count": 2,
   "id": "169f3ef5",
   "metadata": {
    "cq.autogen": "PrepareFirstQuantization.bloq_doc.py"
   },
   "outputs": [],
   "source": [
    "from qualtran.bloqs.chemistry.pbc.first_quantization import PrepareFirstQuantization"
   ]
  },
  {
   "cell_type": "markdown",
   "id": "5b656d90",
   "metadata": {
    "cq.autogen": "PrepareFirstQuantization.example_instances.md"
   },
   "source": [
    "### Example Instances"
   ]
  },
  {
   "cell_type": "code",
   "execution_count": 3,
   "id": "944c62fe",
   "metadata": {
    "cq.autogen": "PrepareFirstQuantization.prep_first_quant"
   },
   "outputs": [],
   "source": [
    "num_bits_p = 6\n",
    "eta = 10\n",
    "num_atoms = 10\n",
    "lambda_zeta = 10\n",
    "prep_first_quant = PrepareFirstQuantization(num_bits_p, eta, num_atoms, lambda_zeta)\n"
   ]
  },
  {
   "cell_type": "markdown",
   "id": "5123f8bc",
   "metadata": {
    "cq.autogen": "PrepareFirstQuantization.graphical_signature.md"
   },
   "source": [
    "#### Graphical Signature"
   ]
  },
  {
   "cell_type": "code",
   "execution_count": 4,
   "id": "10a889bb",
   "metadata": {
    "cq.autogen": "PrepareFirstQuantization.graphical_signature.py"
   },
   "outputs": [
    {
     "data": {
      "application/vnd.jupyter.widget-view+json": {
       "model_id": "82ff7c7aa6834813ba6cac075d8b1b7f",
       "version_major": 2,
       "version_minor": 0
      },
      "text/plain": [
       "HBox(children=(Output(outputs=({'output_type': 'display_data', 'data': {'text/plain': '<IPython.core.display.M…"
      ]
     },
     "metadata": {},
     "output_type": "display_data"
    }
   ],
   "source": [
    "from qualtran.drawing import show_bloqs\n",
    "show_bloqs([prep_first_quant],\n",
    "           ['`prep_first_quant`'])"
   ]
  },
  {
   "cell_type": "markdown",
   "id": "daa98464",
   "metadata": {
    "cq.autogen": "PrepareFirstQuantization.call_graph.md"
   },
   "source": [
    "### Call Graph"
   ]
  },
  {
   "cell_type": "code",
   "execution_count": 5,
   "id": "6423a637",
   "metadata": {
    "cq.autogen": "PrepareFirstQuantization.call_graph.py"
   },
   "outputs": [
    {
     "data": {
      "image/svg+xml": [
       "<svg xmlns=\"http://www.w3.org/2000/svg\" xmlns:xlink=\"http://www.w3.org/1999/xlink\" width=\"682pt\" height=\"131pt\" viewBox=\"0.00 0.00 682.00 131.00\">\n",
       "<g id=\"graph0\" class=\"graph\" transform=\"scale(1 1) rotate(0) translate(4 127)\">\n",
       "<title>counts</title>\n",
       "<polygon fill=\"white\" stroke=\"transparent\" points=\"-4,4 -4,-127 678,-127 678,4 -4,4\"/>\n",
       "<!-- b0 -->\n",
       "<g id=\"node1\" class=\"node\">\n",
       "<title>b0</title>\n",
       "<polygon fill=\"none\" stroke=\"black\" points=\"289,-93 289,-116 405,-116 405,-93 289,-93\"/>\n",
       "<text text-anchor=\"start\" x=\"295.5\" y=\"-102\" font-family=\"Times,serif\" font-size=\"10.00\">PrepareFirstQuantization</text>\n",
       "</g>\n",
       "<!-- b1 -->\n",
       "<g id=\"node2\" class=\"node\">\n",
       "<title>b1</title>\n",
       "<polygon fill=\"none\" stroke=\"black\" points=\"8,-6 8,-29 130,-29 130,-6 8,-6\"/>\n",
       "<text text-anchor=\"start\" x=\"14.5\" y=\"-15\" font-family=\"Times,serif\" font-size=\"10.00\">PrepareTFirstQuantization</text>\n",
       "</g>\n",
       "<!-- b0&#45;&gt;b1 -->\n",
       "<g id=\"edge1\" class=\"edge\">\n",
       "<title>b0-&gt;b1</title>\n",
       "<path fill=\"none\" stroke=\"black\" d=\"M291.08,-86.9C245.83,-73.07 182.04,-53.56 134.43,-39.01\"/>\n",
       "<polygon fill=\"black\" stroke=\"black\" points=\"135.42,-35.65 124.83,-36.07 133.37,-42.34 135.42,-35.65\"/>\n",
       "<text text-anchor=\"middle\" x=\"228.5\" y=\"-57.8\" font-family=\"Times,serif\" font-size=\"14.00\">1</text>\n",
       "</g>\n",
       "<!-- b2 -->\n",
       "<g id=\"node3\" class=\"node\">\n",
       "<title>b2</title>\n",
       "<polygon fill=\"none\" stroke=\"black\" points=\"164,-6 164,-29 344,-29 344,-6 164,-6\"/>\n",
       "<text text-anchor=\"start\" x=\"170\" y=\"-15\" font-family=\"Times,serif\" font-size=\"10.00\">UniformSuperpostionIJFirstQuantization</text>\n",
       "</g>\n",
       "<!-- b0&#45;&gt;b2 -->\n",
       "<g id=\"edge2\" class=\"edge\">\n",
       "<title>b0-&gt;b2</title>\n",
       "<path fill=\"none\" stroke=\"black\" d=\"M328.18,-86.8C314.44,-74.24 295.63,-57.05 280.39,-43.12\"/>\n",
       "<polygon fill=\"black\" stroke=\"black\" points=\"282.53,-40.34 272.79,-36.18 277.81,-45.51 282.53,-40.34\"/>\n",
       "<text text-anchor=\"middle\" x=\"310.5\" y=\"-57.8\" font-family=\"Times,serif\" font-size=\"14.00\">1</text>\n",
       "</g>\n",
       "<!-- b3 -->\n",
       "<g id=\"node4\" class=\"node\">\n",
       "<title>b3</title>\n",
       "<polygon fill=\"none\" stroke=\"black\" points=\"378,-6 378,-29 502,-29 502,-6 378,-6\"/>\n",
       "<text text-anchor=\"start\" x=\"384\" y=\"-15\" font-family=\"Times,serif\" font-size=\"10.00\">PrepareTUVSuperpositions</text>\n",
       "</g>\n",
       "<!-- b0&#45;&gt;b3 -->\n",
       "<g id=\"edge3\" class=\"edge\">\n",
       "<title>b0-&gt;b3</title>\n",
       "<path fill=\"none\" stroke=\"black\" d=\"M365.82,-86.8C379.56,-74.24 398.37,-57.05 413.61,-43.12\"/>\n",
       "<polygon fill=\"black\" stroke=\"black\" points=\"416.19,-45.51 421.21,-36.18 411.47,-40.34 416.19,-45.51\"/>\n",
       "<text text-anchor=\"middle\" x=\"403.5\" y=\"-57.8\" font-family=\"Times,serif\" font-size=\"14.00\">1</text>\n",
       "</g>\n",
       "<!-- b4 -->\n",
       "<g id=\"node5\" class=\"node\">\n",
       "<title>b4</title>\n",
       "<polygon fill=\"none\" stroke=\"black\" points=\"536,-6 536,-29 666,-29 666,-6 536,-6\"/>\n",
       "<text text-anchor=\"start\" x=\"542\" y=\"-15\" font-family=\"Times,serif\" font-size=\"10.00\">PrepareUVFirstQuantization</text>\n",
       "</g>\n",
       "<!-- b0&#45;&gt;b4 -->\n",
       "<g id=\"edge4\" class=\"edge\">\n",
       "<title>b0-&gt;b4</title>\n",
       "<path fill=\"none\" stroke=\"black\" d=\"M398.1,-86.9C439.17,-73.15 496.99,-53.81 540.4,-39.28\"/>\n",
       "<polygon fill=\"black\" stroke=\"black\" points=\"541.61,-42.56 549.99,-36.07 539.39,-35.93 541.61,-42.56\"/>\n",
       "<text text-anchor=\"middle\" x=\"493.5\" y=\"-57.8\" font-family=\"Times,serif\" font-size=\"14.00\">1</text>\n",
       "</g>\n",
       "</g>\n",
       "</svg>"
      ],
      "text/plain": [
       "<IPython.core.display.SVG object>"
      ]
     },
     "metadata": {},
     "output_type": "display_data"
    },
    {
     "data": {
      "text/markdown": [
       "#### Counts totals:\n",
       " - `PrepareTFirstQuantization`: 1\n",
       " - `PrepareTUVSuperpositions`: 1\n",
       " - `PrepareUVFirstQuantization`: 1\n",
       " - `UniformSuperpostionIJFirstQuantization`: 1"
      ],
      "text/plain": [
       "<IPython.core.display.Markdown object>"
      ]
     },
     "metadata": {},
     "output_type": "display_data"
    }
   ],
   "source": [
    "from qualtran.resource_counting.generalizers import ignore_split_join\n",
    "prep_first_quant_g, prep_first_quant_sigma = prep_first_quant.call_graph(max_depth=1, generalizer=ignore_split_join)\n",
    "show_call_graph(prep_first_quant_g)\n",
    "show_counts_sigma(prep_first_quant_sigma)"
   ]
  },
  {
   "cell_type": "markdown",
   "id": "71e6f550",
   "metadata": {
    "cq.autogen": "SelectFirstQuantization.bloq_doc.md"
   },
   "source": [
    "## `SelectFirstQuantization`\n",
    "SELECT operation for the first quantized chemistry Hamiltonian.\n",
    "\n",
    "#### Parameters\n",
    " - `num_bits_p`: The number of bits to represent each dimension of the momentum register.\n",
    " - `eta`: The number of electrons.\n",
    " - `num_atoms`: The number of atoms. $L$ in the reference.\n",
    " - `lambda_zeta`: sum of nuclear charges.\n",
    " - `m_param`: $\\mathcal{M}$ in the reference.\n",
    " - `num_bits_nuc_pos`: The number of bits of precision for representing the nuclear coordinates.\n",
    " - `num_bits_t`: The number of bits of precision for the state preparation over the register selecting between the different components of the Hamiltonian.\n",
    " - `num_bits_rot_aa`: The number of bits of precision for the rotation for amplitude amplification. \n",
    "\n",
    "#### Registers\n",
    " - `tuv`: Flag register for selecting between kinetic and potential terms in the Hamiltonian.\n",
    " - `uv`: Flag register for selecting between the different potential components of the Hamiltonian.\n",
    " - `i_ne_j`: Register flagging $i \\ne j$\n",
    " - `plus_t`: A register prepared in the $|+\\rangle$ state.\n",
    " - `i`: A register for selecting electronic registers.\n",
    " - `j`: A register for selecting electronic registers.\n",
    " - `w`: A register for selecting x, y and z components of the momentum register.\n",
    " - `r`: A register for controlling elements of the momentum register. Used for block encodiding kinetic energy operator.\n",
    " - `s`: A register for controlling elements of the momentum register. Used for block encodiding kinetic energy operator.\n",
    " - `mu`: A register used for implementing nested boxes for the momentum state preparation.\n",
    " - `nu_x`: x component of the momentum register for Coulomb potential.\n",
    " - `nu_y`: y component of the momentum register for Coulomb potential.\n",
    " - `nu_z`: z component of the momentum register for Coulomb potential.\n",
    " - `m`: an ancilla register in a uniform superposition.\n",
    " - `l`: The register for selecting the nuclei.\n",
    " - `sys`: The system register. Will store $\\eta$ registers (x, y and z) compents of size num_bits_p. \n",
    "\n",
    "#### References\n",
    " - [Fault-Tolerant Quantum Simulations of Chemistry in First Quantization](https://arxiv.org/abs/2105.12767). \n"
   ]
  },
  {
   "cell_type": "code",
   "execution_count": 6,
   "id": "3e819c6a",
   "metadata": {
    "cq.autogen": "SelectFirstQuantization.bloq_doc.py"
   },
   "outputs": [],
   "source": [
    "from qualtran.bloqs.chemistry.pbc.first_quantization import SelectFirstQuantization"
   ]
  },
  {
   "cell_type": "markdown",
   "id": "0932ad56",
   "metadata": {
    "cq.autogen": "SelectFirstQuantization.example_instances.md"
   },
   "source": [
    "### Example Instances"
   ]
  },
  {
   "cell_type": "code",
   "execution_count": 7,
   "id": "f1368fe3",
   "metadata": {
    "cq.autogen": "SelectFirstQuantization.sel_first_quant"
   },
   "outputs": [],
   "source": [
    "num_bits_p = 6\n",
    "eta = 10\n",
    "num_atoms = 10\n",
    "lambda_zeta = 10\n",
    "sel_first_quant = SelectFirstQuantization(num_bits_p, eta, num_atoms, lambda_zeta)\n"
   ]
  },
  {
   "cell_type": "markdown",
   "id": "861b3be0",
   "metadata": {
    "cq.autogen": "SelectFirstQuantization.graphical_signature.md"
   },
   "source": [
    "#### Graphical Signature"
   ]
  },
  {
   "cell_type": "code",
   "execution_count": 8,
   "id": "c45f6a15",
   "metadata": {
    "cq.autogen": "SelectFirstQuantization.graphical_signature.py"
   },
   "outputs": [
    {
     "data": {
      "application/vnd.jupyter.widget-view+json": {
       "model_id": "02de89e7ad344993bd817c745e3d5466",
       "version_major": 2,
       "version_minor": 0
      },
      "text/plain": [
       "HBox(children=(Output(outputs=({'output_type': 'display_data', 'data': {'text/plain': '<IPython.core.display.M…"
      ]
     },
     "metadata": {},
     "output_type": "display_data"
    }
   ],
   "source": [
    "from qualtran.drawing import show_bloqs\n",
    "show_bloqs([sel_first_quant],\n",
    "           ['`sel_first_quant`'])"
   ]
  },
  {
   "cell_type": "markdown",
   "id": "03d2e689",
   "metadata": {
    "cq.autogen": "SelectFirstQuantization.call_graph.md"
   },
   "source": [
    "### Call Graph"
   ]
  },
  {
   "cell_type": "code",
   "execution_count": 9,
   "id": "29b98834",
   "metadata": {
    "cq.autogen": "SelectFirstQuantization.call_graph.py"
   },
   "outputs": [
    {
     "data": {
      "image/svg+xml": [
       "<svg xmlns=\"http://www.w3.org/2000/svg\" xmlns:xlink=\"http://www.w3.org/1999/xlink\" width=\"746pt\" height=\"131pt\" viewBox=\"0.00 0.00 746.00 131.00\">\n",
       "<g id=\"graph0\" class=\"graph\" transform=\"scale(1 1) rotate(0) translate(4 127)\">\n",
       "<title>counts</title>\n",
       "<polygon fill=\"white\" stroke=\"transparent\" points=\"-4,4 -4,-127 742,-127 742,4 -4,4\"/>\n",
       "<!-- b0 -->\n",
       "<g id=\"node1\" class=\"node\">\n",
       "<title>b0</title>\n",
       "<polygon fill=\"none\" stroke=\"black\" points=\"266,-93 266,-116 376,-116 376,-93 266,-93\"/>\n",
       "<text text-anchor=\"start\" x=\"272.5\" y=\"-102\" font-family=\"Times,serif\" font-size=\"10.00\">SelectFirstQuantization</text>\n",
       "</g>\n",
       "<!-- b1 -->\n",
       "<g id=\"node2\" class=\"node\">\n",
       "<title>b1</title>\n",
       "<polygon fill=\"none\" stroke=\"black\" points=\"8,-6 8,-29 56,-29 56,-6 8,-6\"/>\n",
       "<text text-anchor=\"start\" x=\"14\" y=\"-15\" font-family=\"Times,serif\" font-size=\"10.00\">Allocate</text>\n",
       "</g>\n",
       "<!-- b0&#45;&gt;b1 -->\n",
       "<g id=\"edge1\" class=\"edge\">\n",
       "<title>b0-&gt;b1</title>\n",
       "<path fill=\"none\" stroke=\"black\" d=\"M257.91,-89.03C209.66,-77.05 141.44,-58.97 73.64,-36.02\"/>\n",
       "<polygon fill=\"black\" stroke=\"black\" points=\"74.68,-32.67 64.08,-32.75 72.41,-39.3 74.68,-32.67\"/>\n",
       "<text text-anchor=\"middle\" x=\"184.5\" y=\"-57.8\" font-family=\"Times,serif\" font-size=\"14.00\">6</text>\n",
       "</g>\n",
       "<!-- b2 -->\n",
       "<g id=\"node3\" class=\"node\">\n",
       "<title>b2</title>\n",
       "<polygon fill=\"none\" stroke=\"black\" points=\"90,-6 90,-29 196,-29 196,-6 90,-6\"/>\n",
       "<text text-anchor=\"start\" x=\"96\" y=\"-15\" font-family=\"Times,serif\" font-size=\"10.00\">MultiplexedCSwap3D</text>\n",
       "</g>\n",
       "<!-- b0&#45;&gt;b2 -->\n",
       "<g id=\"edge2\" class=\"edge\">\n",
       "<title>b0-&gt;b2</title>\n",
       "<path fill=\"none\" stroke=\"black\" d=\"M284.98,-86.8C257.02,-73.45 218.1,-54.86 188.07,-40.52\"/>\n",
       "<polygon fill=\"black\" stroke=\"black\" points=\"189.2,-37.18 178.66,-36.03 186.18,-43.5 189.2,-37.18\"/>\n",
       "<text text-anchor=\"middle\" x=\"246.5\" y=\"-57.8\" font-family=\"Times,serif\" font-size=\"14.00\">4</text>\n",
       "</g>\n",
       "<!-- b3 -->\n",
       "<g id=\"node4\" class=\"node\">\n",
       "<title>b3</title>\n",
       "<polygon fill=\"none\" stroke=\"black\" points=\"234,-6 234,-29 264,-29 264,-6 234,-6\"/>\n",
       "<text text-anchor=\"start\" x=\"240\" y=\"-15\" font-family=\"Times,serif\" font-size=\"10.00\">Free</text>\n",
       "</g>\n",
       "<!-- b0&#45;&gt;b3 -->\n",
       "<g id=\"edge3\" class=\"edge\">\n",
       "<title>b0-&gt;b3</title>\n",
       "<path fill=\"none\" stroke=\"black\" d=\"M306.43,-86.8C295.99,-74.47 281.76,-57.68 270.08,-43.89\"/>\n",
       "<polygon fill=\"black\" stroke=\"black\" points=\"272.68,-41.54 263.55,-36.18 267.34,-46.07 272.68,-41.54\"/>\n",
       "<text text-anchor=\"middle\" x=\"293.5\" y=\"-57.8\" font-family=\"Times,serif\" font-size=\"14.00\">6</text>\n",
       "</g>\n",
       "<!-- b4 -->\n",
       "<g id=\"node5\" class=\"node\">\n",
       "<title>b4</title>\n",
       "<polygon fill=\"none\" stroke=\"black\" points=\"306,-6 306,-29 336,-29 336,-6 306,-6\"/>\n",
       "<text text-anchor=\"start\" x=\"312\" y=\"-15\" font-family=\"Times,serif\" font-size=\"10.00\">Free</text>\n",
       "</g>\n",
       "<!-- b0&#45;&gt;b4 -->\n",
       "<g id=\"edge4\" class=\"edge\">\n",
       "<title>b0-&gt;b4</title>\n",
       "<path fill=\"none\" stroke=\"black\" d=\"M321,-86.8C321,-75.16 321,-59.55 321,-46.24\"/>\n",
       "<polygon fill=\"black\" stroke=\"black\" points=\"324.5,-46.18 321,-36.18 317.5,-46.18 324.5,-46.18\"/>\n",
       "<text text-anchor=\"middle\" x=\"324.5\" y=\"-57.8\" font-family=\"Times,serif\" font-size=\"14.00\">1</text>\n",
       "</g>\n",
       "<!-- b5 -->\n",
       "<g id=\"node6\" class=\"node\">\n",
       "<title>b5</title>\n",
       "<polygon fill=\"none\" stroke=\"black\" points=\"374,-6 374,-29 422,-29 422,-6 374,-6\"/>\n",
       "<text text-anchor=\"start\" x=\"380\" y=\"-15\" font-family=\"Times,serif\" font-size=\"10.00\">Allocate</text>\n",
       "</g>\n",
       "<!-- b0&#45;&gt;b5 -->\n",
       "<g id=\"edge5\" class=\"edge\">\n",
       "<title>b0-&gt;b5</title>\n",
       "<path fill=\"none\" stroke=\"black\" d=\"M336.58,-86.8C347.75,-74.47 362.96,-57.68 375.45,-43.89\"/>\n",
       "<polygon fill=\"black\" stroke=\"black\" points=\"378.32,-45.94 382.44,-36.18 373.13,-41.24 378.32,-45.94\"/>\n",
       "<text text-anchor=\"middle\" x=\"368.5\" y=\"-57.8\" font-family=\"Times,serif\" font-size=\"14.00\">1</text>\n",
       "</g>\n",
       "<!-- b6 -->\n",
       "<g id=\"node7\" class=\"node\">\n",
       "<title>b6</title>\n",
       "<polygon fill=\"none\" stroke=\"black\" points=\"456,-6 456,-29 580,-29 580,-6 456,-6\"/>\n",
       "<text text-anchor=\"start\" x=\"462\" y=\"-15\" font-family=\"Times,serif\" font-size=\"10.00\">SelectUVFirstQuantization</text>\n",
       "</g>\n",
       "<!-- b0&#45;&gt;b6 -->\n",
       "<g id=\"edge6\" class=\"edge\">\n",
       "<title>b0-&gt;b6</title>\n",
       "<path fill=\"none\" stroke=\"black\" d=\"M360.87,-86.8C392.08,-73.33 435.63,-54.54 468.98,-40.15\"/>\n",
       "<polygon fill=\"black\" stroke=\"black\" points=\"470.73,-43.21 478.53,-36.03 467.96,-36.78 470.73,-43.21\"/>\n",
       "<text text-anchor=\"middle\" x=\"435.5\" y=\"-57.8\" font-family=\"Times,serif\" font-size=\"14.00\">1</text>\n",
       "</g>\n",
       "<!-- b7 -->\n",
       "<g id=\"node8\" class=\"node\">\n",
       "<title>b7</title>\n",
       "<polygon fill=\"none\" stroke=\"black\" points=\"614,-6 614,-29 730,-29 730,-6 614,-6\"/>\n",
       "<text text-anchor=\"start\" x=\"620.5\" y=\"-15\" font-family=\"Times,serif\" font-size=\"10.00\">SelectTFirstQuantization</text>\n",
       "</g>\n",
       "<!-- b0&#45;&gt;b7 -->\n",
       "<g id=\"edge7\" class=\"edge\">\n",
       "<title>b0-&gt;b7</title>\n",
       "<path fill=\"none\" stroke=\"black\" d=\"M384.16,-88.71C443.55,-74.32 532.55,-52.77 595.84,-37.44\"/>\n",
       "<polygon fill=\"black\" stroke=\"black\" points=\"596.88,-40.79 605.77,-35.04 595.23,-33.99 596.88,-40.79\"/>\n",
       "<text text-anchor=\"middle\" x=\"520.5\" y=\"-57.8\" font-family=\"Times,serif\" font-size=\"14.00\">1</text>\n",
       "</g>\n",
       "</g>\n",
       "</svg>"
      ],
      "text/plain": [
       "<IPython.core.display.SVG object>"
      ]
     },
     "metadata": {},
     "output_type": "display_data"
    },
    {
     "data": {
      "text/markdown": [
       "#### Counts totals:\n",
       " - `Allocate`: 1\n",
       " - `Allocate`: 6\n",
       " - `Free`: 1\n",
       " - `Free`: 6\n",
       " - `MultiplexedCSwap3D`: 4\n",
       " - `SelectTFirstQuantization`: 1\n",
       " - `SelectUVFirstQuantization`: 1"
      ],
      "text/plain": [
       "<IPython.core.display.Markdown object>"
      ]
     },
     "metadata": {},
     "output_type": "display_data"
    }
   ],
   "source": [
    "from qualtran.resource_counting.generalizers import ignore_split_join\n",
    "sel_first_quant_g, sel_first_quant_sigma = sel_first_quant.call_graph(max_depth=1, generalizer=ignore_split_join)\n",
    "show_call_graph(sel_first_quant_g)\n",
    "show_counts_sigma(sel_first_quant_sigma)"
   ]
  },
  {
   "cell_type": "markdown",
   "id": "2ed8c9aa",
   "metadata": {
    "cq.autogen": "PrepareTFirstQuantization.bloq_doc.md"
   },
   "source": [
    "## `PrepareTFirstQuantization`\n",
    "PREPARE for the kinetic energy operator for the first quantized chemistry Hamiltonian.\n",
    "\n",
    "This prepares the state\n",
    "\n",
    "$$\n",
    "    |+\\rangle\\sum_{j=1}^{\\eta}|j\\rangle\\sum_{w=0}^{2}|w\\rangle\n",
    "    \\sum_{r=0}^{n_{p}-2}2^{r/2}|r\\rangle\n",
    "    \\sum_{s=0}^{n_{p}-2}2^{s/2}|s\\rangle\n",
    "$$\n",
    "\n",
    "We assume that the uniform superposition over ($i$ and) $j$ has already occured via\n",
    "UniformSuperPositionIJFirstQuantization.\n",
    "\n",
    "#### Parameters\n",
    " - `num_bits_p`: The number of bits to represent each dimension of the momentum register.\n",
    " - `eta`: The number of electrons.\n",
    " - `num_bits_rot_aa`: The number of bits of precision for the single qubit rotation for amplitude amplification. Called $b_r$ in the reference. \n",
    "\n",
    "#### Registers\n",
    " - `w`: a register to index one of three components of the momenta.\n",
    " - `r`: a register encoding bits for each component of the momenta.\n",
    " - `s`: a register encoding bits for each component of the momenta. \n",
    "\n",
    "#### References\n",
    " - [Fault-Tolerant Quantum Simulations of Chemistry in First Quantization](https://arxiv.org/abs/2105.12767). page 19, section B\n"
   ]
  },
  {
   "cell_type": "code",
   "execution_count": 10,
   "id": "92be5edd",
   "metadata": {
    "cq.autogen": "PrepareTFirstQuantization.bloq_doc.py"
   },
   "outputs": [],
   "source": [
    "from qualtran.bloqs.chemistry.pbc.first_quantization.prepare_t import PrepareTFirstQuantization"
   ]
  },
  {
   "cell_type": "markdown",
   "id": "ca5b91f6",
   "metadata": {
    "cq.autogen": "PrepareTFirstQuantization.example_instances.md"
   },
   "source": [
    "### Example Instances"
   ]
  },
  {
   "cell_type": "code",
   "execution_count": 11,
   "id": "cd2c9b15",
   "metadata": {
    "cq.autogen": "PrepareTFirstQuantization.prepare_t"
   },
   "outputs": [],
   "source": [
    "num_bits_p = 5\n",
    "eta = 10\n",
    "\n",
    "prepare_t = PrepareTFirstQuantization(num_bits_p=num_bits_p, eta=eta)"
   ]
  },
  {
   "cell_type": "markdown",
   "id": "de3deb44",
   "metadata": {
    "cq.autogen": "PrepareTFirstQuantization.graphical_signature.md"
   },
   "source": [
    "#### Graphical Signature"
   ]
  },
  {
   "cell_type": "code",
   "execution_count": 12,
   "id": "3d2f5b1c",
   "metadata": {
    "cq.autogen": "PrepareTFirstQuantization.graphical_signature.py"
   },
   "outputs": [
    {
     "data": {
      "application/vnd.jupyter.widget-view+json": {
       "model_id": "46bca539d5544228bd87ec7846f36bd2",
       "version_major": 2,
       "version_minor": 0
      },
      "text/plain": [
       "HBox(children=(Output(outputs=({'output_type': 'display_data', 'data': {'text/plain': '<IPython.core.display.M…"
      ]
     },
     "metadata": {},
     "output_type": "display_data"
    }
   ],
   "source": [
    "from qualtran.drawing import show_bloqs\n",
    "show_bloqs([prepare_t],\n",
    "           ['`prepare_t`'])"
   ]
  },
  {
   "cell_type": "markdown",
   "id": "8f3a8e09",
   "metadata": {
    "cq.autogen": "PrepareTFirstQuantization.call_graph.md"
   },
   "source": [
    "### Call Graph"
   ]
  },
  {
   "cell_type": "code",
   "execution_count": 13,
   "id": "2d5da3f7",
   "metadata": {
    "cq.autogen": "PrepareTFirstQuantization.call_graph.py"
   },
   "outputs": [
    {
     "data": {
      "image/svg+xml": [
       "<svg xmlns=\"http://www.w3.org/2000/svg\" xmlns:xlink=\"http://www.w3.org/1999/xlink\" width=\"204pt\" height=\"131pt\" viewBox=\"0.00 0.00 204.00 131.00\">\n",
       "<g id=\"graph0\" class=\"graph\" transform=\"scale(1 1) rotate(0) translate(4 127)\">\n",
       "<title>counts</title>\n",
       "<polygon fill=\"white\" stroke=\"transparent\" points=\"-4,4 -4,-127 200,-127 200,4 -4,4\"/>\n",
       "<!-- b0 -->\n",
       "<g id=\"node1\" class=\"node\">\n",
       "<title>b0</title>\n",
       "<polygon fill=\"none\" stroke=\"black\" points=\"20,-93 20,-116 142,-116 142,-93 20,-93\"/>\n",
       "<text text-anchor=\"start\" x=\"26.5\" y=\"-102\" font-family=\"Times,serif\" font-size=\"10.00\">PrepareTFirstQuantization</text>\n",
       "</g>\n",
       "<!-- b1 -->\n",
       "<g id=\"node2\" class=\"node\">\n",
       "<title>b1</title>\n",
       "<polygon fill=\"none\" stroke=\"black\" points=\"8,-6 8,-29 48,-29 48,-6 8,-6\"/>\n",
       "<text text-anchor=\"start\" x=\"14\" y=\"-15\" font-family=\"Times,serif\" font-size=\"10.00\">Toffoli</text>\n",
       "</g>\n",
       "<!-- b0&#45;&gt;b1 -->\n",
       "<g id=\"edge1\" class=\"edge\">\n",
       "<title>b0-&gt;b1</title>\n",
       "<path fill=\"none\" stroke=\"black\" d=\"M70.27,-86.8C62.73,-74.7 52.51,-58.3 44,-44.67\"/>\n",
       "<polygon fill=\"black\" stroke=\"black\" points=\"46.97,-42.81 38.71,-36.18 41.03,-46.51 46.97,-42.81\"/>\n",
       "<text text-anchor=\"middle\" x=\"65\" y=\"-57.8\" font-family=\"Times,serif\" font-size=\"14.00\">13</text>\n",
       "</g>\n",
       "<!-- b2 -->\n",
       "<g id=\"node3\" class=\"node\">\n",
       "<title>b2</title>\n",
       "<polygon fill=\"none\" stroke=\"black\" points=\"82,-6 82,-29 188,-29 188,-6 82,-6\"/>\n",
       "<text text-anchor=\"start\" x=\"88\" y=\"-15\" font-family=\"Times,serif\" font-size=\"10.00\">PreparePowerTwoState</text>\n",
       "</g>\n",
       "<!-- b0&#45;&gt;b2 -->\n",
       "<g id=\"edge2\" class=\"edge\">\n",
       "<title>b0-&gt;b2</title>\n",
       "<path fill=\"none\" stroke=\"black\" d=\"M91.93,-86.8C99.61,-74.7 110.03,-58.3 118.69,-44.67\"/>\n",
       "<polygon fill=\"black\" stroke=\"black\" points=\"121.68,-46.49 124.09,-36.18 115.77,-42.74 121.68,-46.49\"/>\n",
       "<text text-anchor=\"middle\" x=\"114.5\" y=\"-57.8\" font-family=\"Times,serif\" font-size=\"14.00\">2</text>\n",
       "</g>\n",
       "</g>\n",
       "</svg>"
      ],
      "text/plain": [
       "<IPython.core.display.SVG object>"
      ]
     },
     "metadata": {},
     "output_type": "display_data"
    },
    {
     "data": {
      "text/markdown": [
       "#### Counts totals:\n",
       " - `PreparePowerTwoState`: 2\n",
       " - `Toffoli`: 13"
      ],
      "text/plain": [
       "<IPython.core.display.Markdown object>"
      ]
     },
     "metadata": {},
     "output_type": "display_data"
    }
   ],
   "source": [
    "from qualtran.resource_counting.generalizers import ignore_split_join\n",
    "prepare_t_g, prepare_t_sigma = prepare_t.call_graph(max_depth=1, generalizer=ignore_split_join)\n",
    "show_call_graph(prepare_t_g)\n",
    "show_counts_sigma(prepare_t_sigma)"
   ]
  },
  {
   "cell_type": "markdown",
   "id": "5bb3fb85",
   "metadata": {
    "cq.autogen": "PrepareUVFirstQuantization.bloq_doc.md"
   },
   "source": [
    "## `PrepareUVFirstQuantization`\n",
    "PREPARE the U and V parts of the Hamiltonian.\n",
    "\n",
    "#### Parameters\n",
    " - `num_bits_p`: The number of bits to represent each dimension of the momentum register.\n",
    " - `eta`: The number of electrons.\n",
    " - `num_atoms`: The number of atoms. $L$ in the reference.\n",
    " - `m_param`: $\\mathcal{M}$ in the reference.\n",
    " - `lambda_zeta`: sum of nuclear charges.\n",
    " - `num_bits_nuc_pos`: The number of bits of precision for representing the nuclear coordinates. \n",
    "\n",
    "#### Registers\n",
    " - `mu`: The state controlling the nested boxes procedure.\n",
    " - `nu`: The momentum transfer register.\n",
    " - `m`: an ancilla register in a uniform superposition.\n",
    " - `l`: The register for atomic species.\n",
    " - `flag_nu`: Flag for success of the state preparation. \n",
    "\n",
    "#### References\n",
    " - [Fault-Tolerant Quantum Simulations of Chemistry in First Quantization](https://arxiv.org/abs/2105.12767). page 19, section B\n"
   ]
  },
  {
   "cell_type": "code",
   "execution_count": 14,
   "id": "d13f6915",
   "metadata": {
    "cq.autogen": "PrepareUVFirstQuantization.bloq_doc.py"
   },
   "outputs": [],
   "source": [
    "from qualtran.bloqs.chemistry.pbc.first_quantization.prepare_uv import PrepareUVFirstQuantization"
   ]
  },
  {
   "cell_type": "markdown",
   "id": "754731ae",
   "metadata": {
    "cq.autogen": "PrepareUVFirstQuantization.example_instances.md"
   },
   "source": [
    "### Example Instances"
   ]
  },
  {
   "cell_type": "code",
   "execution_count": 15,
   "id": "09d41f99",
   "metadata": {
    "cq.autogen": "PrepareUVFirstQuantization.prepare_uv"
   },
   "outputs": [],
   "source": [
    "num_bits_p = 5\n",
    "eta = 10\n",
    "num_atoms = 10\n",
    "lambda_zeta = 10\n",
    "m_param = 2**8\n",
    "num_bits_nuc_pos = 16\n",
    "\n",
    "prepare_uv = PrepareUVFirstQuantization(\n",
    "    num_bits_p=num_bits_p,\n",
    "    eta=eta,\n",
    "    num_atoms=num_atoms,\n",
    "    m_param=m_param,\n",
    "    lambda_zeta=lambda_zeta,\n",
    "    num_bits_nuc_pos=num_bits_nuc_pos,\n",
    ")"
   ]
  },
  {
   "cell_type": "markdown",
   "id": "305d8a86",
   "metadata": {
    "cq.autogen": "PrepareUVFirstQuantization.graphical_signature.md"
   },
   "source": [
    "#### Graphical Signature"
   ]
  },
  {
   "cell_type": "code",
   "execution_count": 16,
   "id": "8d9e3cfe",
   "metadata": {
    "cq.autogen": "PrepareUVFirstQuantization.graphical_signature.py"
   },
   "outputs": [
    {
     "data": {
      "application/vnd.jupyter.widget-view+json": {
       "model_id": "1004e8fa87a145bdb6b6500412050b26",
       "version_major": 2,
       "version_minor": 0
      },
      "text/plain": [
       "HBox(children=(Output(outputs=({'output_type': 'display_data', 'data': {'text/plain': '<IPython.core.display.M…"
      ]
     },
     "metadata": {},
     "output_type": "display_data"
    }
   ],
   "source": [
    "from qualtran.drawing import show_bloqs\n",
    "show_bloqs([prepare_uv],\n",
    "           ['`prepare_uv`'])"
   ]
  },
  {
   "cell_type": "markdown",
   "id": "3a8dc7c2",
   "metadata": {
    "cq.autogen": "PrepareUVFirstQuantization.call_graph.md"
   },
   "source": [
    "### Call Graph"
   ]
  },
  {
   "cell_type": "code",
   "execution_count": 17,
   "id": "8f171b9b",
   "metadata": {
    "cq.autogen": "PrepareUVFirstQuantization.call_graph.py"
   },
   "outputs": [
    {
     "data": {
      "image/svg+xml": [
       "<svg xmlns=\"http://www.w3.org/2000/svg\" xmlns:xlink=\"http://www.w3.org/1999/xlink\" width=\"216pt\" height=\"131pt\" viewBox=\"0.00 0.00 216.00 131.00\">\n",
       "<g id=\"graph0\" class=\"graph\" transform=\"scale(1 1) rotate(0) translate(4 127)\">\n",
       "<title>counts</title>\n",
       "<polygon fill=\"white\" stroke=\"transparent\" points=\"-4,4 -4,-127 212,-127 212,4 -4,4\"/>\n",
       "<!-- b0 -->\n",
       "<g id=\"node1\" class=\"node\">\n",
       "<title>b0</title>\n",
       "<polygon fill=\"none\" stroke=\"black\" points=\"37,-93 37,-116 167,-116 167,-93 37,-93\"/>\n",
       "<text text-anchor=\"start\" x=\"43\" y=\"-102\" font-family=\"Times,serif\" font-size=\"10.00\">PrepareUVFirstQuantization</text>\n",
       "</g>\n",
       "<!-- b1 -->\n",
       "<g id=\"node2\" class=\"node\">\n",
       "<title>b1</title>\n",
       "<polygon fill=\"none\" stroke=\"black\" points=\"8,-6 8,-29 84,-29 84,-6 8,-6\"/>\n",
       "<text text-anchor=\"start\" x=\"14\" y=\"-15\" font-family=\"Times,serif\" font-size=\"10.00\">PrepareNuState</text>\n",
       "</g>\n",
       "<!-- b0&#45;&gt;b1 -->\n",
       "<g id=\"edge1\" class=\"edge\">\n",
       "<title>b0-&gt;b1</title>\n",
       "<path fill=\"none\" stroke=\"black\" d=\"M90.67,-86.8C82.7,-74.7 71.89,-58.3 62.91,-44.67\"/>\n",
       "<polygon fill=\"black\" stroke=\"black\" points=\"65.74,-42.6 57.32,-36.18 59.89,-46.45 65.74,-42.6\"/>\n",
       "<text text-anchor=\"middle\" x=\"81.5\" y=\"-57.8\" font-family=\"Times,serif\" font-size=\"14.00\">1</text>\n",
       "</g>\n",
       "<!-- b2 -->\n",
       "<g id=\"node3\" class=\"node\">\n",
       "<title>b2</title>\n",
       "<polygon fill=\"none\" stroke=\"black\" points=\"118,-6 118,-29 200,-29 200,-6 118,-6\"/>\n",
       "<text text-anchor=\"start\" x=\"124.5\" y=\"-15\" font-family=\"Times,serif\" font-size=\"10.00\">PrepareZetaState</text>\n",
       "</g>\n",
       "<!-- b0&#45;&gt;b2 -->\n",
       "<g id=\"edge2\" class=\"edge\">\n",
       "<title>b0-&gt;b2</title>\n",
       "<path fill=\"none\" stroke=\"black\" d=\"M113.53,-86.8C121.65,-74.7 132.64,-58.3 141.79,-44.67\"/>\n",
       "<polygon fill=\"black\" stroke=\"black\" points=\"144.82,-46.43 147.48,-36.18 139.01,-42.53 144.82,-46.43\"/>\n",
       "<text text-anchor=\"middle\" x=\"136.5\" y=\"-57.8\" font-family=\"Times,serif\" font-size=\"14.00\">1</text>\n",
       "</g>\n",
       "</g>\n",
       "</svg>"
      ],
      "text/plain": [
       "<IPython.core.display.SVG object>"
      ]
     },
     "metadata": {},
     "output_type": "display_data"
    },
    {
     "data": {
      "text/markdown": [
       "#### Counts totals:\n",
       " - `PrepareNuState`: 1\n",
       " - `PrepareZetaState`: 1"
      ],
      "text/plain": [
       "<IPython.core.display.Markdown object>"
      ]
     },
     "metadata": {},
     "output_type": "display_data"
    }
   ],
   "source": [
    "from qualtran.resource_counting.generalizers import ignore_split_join\n",
    "prepare_uv_g, prepare_uv_sigma = prepare_uv.call_graph(max_depth=1, generalizer=ignore_split_join)\n",
    "show_call_graph(prepare_uv_g)\n",
    "show_counts_sigma(prepare_uv_sigma)"
   ]
  },
  {
   "cell_type": "markdown",
   "id": "9dc8a9f3",
   "metadata": {
    "cq.autogen": "SelectTFirstQuantization.bloq_doc.md"
   },
   "source": [
    "## `SelectTFirstQuantization`\n",
    "SELECT for the kinetic energy operator for the first quantized chemistry Hamiltonian.\n",
    "\n",
    "#### Parameters\n",
    " - `num_bits_p`: The number of bits to represent each dimension of the momentum register.\n",
    " - `eta`: The number of electrons. \n",
    "\n",
    "#### Registers\n",
    " - `sys`: The system register.\n",
    " - `plus`: A $|+\\rangle$ state.\n",
    " - `flag_T`: a flag to control on the success of the $T$ state preparation. \n",
    "\n",
    "#### References\n",
    " - [Fault-Tolerant Quantum Simulations of Chemistry in First Quantization](https://arxiv.org/abs/2105.12767). page 20, section B\n"
   ]
  },
  {
   "cell_type": "code",
   "execution_count": 18,
   "id": "5e5dd6b0",
   "metadata": {
    "cq.autogen": "SelectTFirstQuantization.bloq_doc.py"
   },
   "outputs": [],
   "source": [
    "from qualtran.bloqs.chemistry.pbc.first_quantization.select_t import SelectTFirstQuantization"
   ]
  },
  {
   "cell_type": "markdown",
   "id": "453792f3",
   "metadata": {
    "cq.autogen": "SelectTFirstQuantization.example_instances.md"
   },
   "source": [
    "### Example Instances"
   ]
  },
  {
   "cell_type": "code",
   "execution_count": 19,
   "id": "1708e7a9",
   "metadata": {
    "cq.autogen": "SelectTFirstQuantization.select_t"
   },
   "outputs": [],
   "source": [
    "num_bits_p = 5\n",
    "eta = 10\n",
    "\n",
    "select_t = SelectTFirstQuantization(num_bits_p=num_bits_p, eta=eta)"
   ]
  },
  {
   "cell_type": "markdown",
   "id": "49ab234d",
   "metadata": {
    "cq.autogen": "SelectTFirstQuantization.graphical_signature.md"
   },
   "source": [
    "#### Graphical Signature"
   ]
  },
  {
   "cell_type": "code",
   "execution_count": 20,
   "id": "f7e08f08",
   "metadata": {
    "cq.autogen": "SelectTFirstQuantization.graphical_signature.py"
   },
   "outputs": [
    {
     "data": {
      "application/vnd.jupyter.widget-view+json": {
       "model_id": "f265fbbfa32a4f70b99afd81b42f210e",
       "version_major": 2,
       "version_minor": 0
      },
      "text/plain": [
       "HBox(children=(Output(outputs=({'output_type': 'display_data', 'data': {'text/plain': '<IPython.core.display.M…"
      ]
     },
     "metadata": {},
     "output_type": "display_data"
    }
   ],
   "source": [
    "from qualtran.drawing import show_bloqs\n",
    "show_bloqs([select_t],\n",
    "           ['`select_t`'])"
   ]
  },
  {
   "cell_type": "markdown",
   "id": "1c03cf92",
   "metadata": {
    "cq.autogen": "SelectTFirstQuantization.call_graph.md"
   },
   "source": [
    "### Call Graph"
   ]
  },
  {
   "cell_type": "code",
   "execution_count": 21,
   "id": "de4af7ab",
   "metadata": {
    "cq.autogen": "SelectTFirstQuantization.call_graph.py"
   },
   "outputs": [
    {
     "data": {
      "image/svg+xml": [
       "<svg xmlns=\"http://www.w3.org/2000/svg\" xmlns:xlink=\"http://www.w3.org/1999/xlink\" width=\"140pt\" height=\"131pt\" viewBox=\"0.00 0.00 140.00 131.00\">\n",
       "<g id=\"graph0\" class=\"graph\" transform=\"scale(1 1) rotate(0) translate(4 127)\">\n",
       "<title>counts</title>\n",
       "<polygon fill=\"white\" stroke=\"transparent\" points=\"-4,4 -4,-127 136,-127 136,4 -4,4\"/>\n",
       "<!-- b0 -->\n",
       "<g id=\"node1\" class=\"node\">\n",
       "<title>b0</title>\n",
       "<polygon fill=\"none\" stroke=\"black\" points=\"8,-93 8,-116 124,-116 124,-93 8,-93\"/>\n",
       "<text text-anchor=\"start\" x=\"14.5\" y=\"-102\" font-family=\"Times,serif\" font-size=\"10.00\">SelectTFirstQuantization</text>\n",
       "</g>\n",
       "<!-- b1 -->\n",
       "<g id=\"node2\" class=\"node\">\n",
       "<title>b1</title>\n",
       "<polygon fill=\"none\" stroke=\"black\" points=\"46,-6 46,-29 86,-29 86,-6 46,-6\"/>\n",
       "<text text-anchor=\"start\" x=\"52\" y=\"-15\" font-family=\"Times,serif\" font-size=\"10.00\">Toffoli</text>\n",
       "</g>\n",
       "<!-- b0&#45;&gt;b1 -->\n",
       "<g id=\"edge1\" class=\"edge\">\n",
       "<title>b0-&gt;b1</title>\n",
       "<path fill=\"none\" stroke=\"black\" d=\"M66,-86.8C66,-75.16 66,-59.55 66,-46.24\"/>\n",
       "<polygon fill=\"black\" stroke=\"black\" points=\"69.5,-46.18 66,-36.18 62.5,-46.18 69.5,-46.18\"/>\n",
       "<text text-anchor=\"middle\" x=\"73\" y=\"-57.8\" font-family=\"Times,serif\" font-size=\"14.00\">22</text>\n",
       "</g>\n",
       "</g>\n",
       "</svg>"
      ],
      "text/plain": [
       "<IPython.core.display.SVG object>"
      ]
     },
     "metadata": {},
     "output_type": "display_data"
    },
    {
     "data": {
      "text/markdown": [
       "#### Counts totals:\n",
       " - `Toffoli`: 22"
      ],
      "text/plain": [
       "<IPython.core.display.Markdown object>"
      ]
     },
     "metadata": {},
     "output_type": "display_data"
    }
   ],
   "source": [
    "from qualtran.resource_counting.generalizers import ignore_split_join\n",
    "select_t_g, select_t_sigma = select_t.call_graph(max_depth=1, generalizer=ignore_split_join)\n",
    "show_call_graph(select_t_g)\n",
    "show_counts_sigma(select_t_sigma)"
   ]
  },
  {
   "cell_type": "markdown",
   "id": "2ddf9166",
   "metadata": {
    "cq.autogen": "SelectUVFirstQuantization.bloq_doc.md"
   },
   "source": [
    "## `SelectUVFirstQuantization`\n",
    "SELECT for the U and V operators for the first quantized chemistry Hamiltonian.\n",
    "\n",
    "This does not include the controlled swaps from p_i and q_j system registers\n",
    "into ancilla registers and back again. Hence there is no system register.\n",
    "\n",
    "#### Parameters\n",
    " - `num_bits_p`: The number of bits to represent each dimension of the momentum register.\n",
    " - `eta`: The number of electrons.\n",
    " - `num_atoms`: The number of atoms.\n",
    " - `num_bits_nuc_pos`: The number of bits to store each component of the nuclear positions. $n_R$ in the reference. \n",
    "\n",
    "Registers:\n",
    "\n",
    "#### References\n",
    " - [Fault-Tolerant Quantum Simulations of Chemistry in First Quantization](https://arxiv.org/abs/2105.12767). \n"
   ]
  },
  {
   "cell_type": "code",
   "execution_count": 22,
   "id": "dcb5fe31",
   "metadata": {
    "cq.autogen": "SelectUVFirstQuantization.bloq_doc.py"
   },
   "outputs": [],
   "source": [
    "from qualtran.bloqs.chemistry.pbc.first_quantization.select_uv import SelectUVFirstQuantization"
   ]
  },
  {
   "cell_type": "markdown",
   "id": "95b9f697",
   "metadata": {
    "cq.autogen": "SelectUVFirstQuantization.example_instances.md"
   },
   "source": [
    "### Example Instances"
   ]
  },
  {
   "cell_type": "code",
   "execution_count": 23,
   "id": "f431864a",
   "metadata": {
    "cq.autogen": "SelectUVFirstQuantization.select_uv"
   },
   "outputs": [],
   "source": [
    "num_bits_p = 5\n",
    "eta = 10\n",
    "num_bits_nuc_pos = 16\n",
    "\n",
    "select_uv = SelectUVFirstQuantization(\n",
    "    num_bits_p=num_bits_p, eta=eta, num_atoms=eta, num_bits_nuc_pos=num_bits_nuc_pos\n",
    ")"
   ]
  },
  {
   "cell_type": "markdown",
   "id": "81143504",
   "metadata": {
    "cq.autogen": "SelectUVFirstQuantization.graphical_signature.md"
   },
   "source": [
    "#### Graphical Signature"
   ]
  },
  {
   "cell_type": "code",
   "execution_count": 24,
   "id": "4aa7e222",
   "metadata": {
    "cq.autogen": "SelectUVFirstQuantization.graphical_signature.py"
   },
   "outputs": [
    {
     "data": {
      "application/vnd.jupyter.widget-view+json": {
       "model_id": "d04b33ab037d4a249d5b7c534b7b410e",
       "version_major": 2,
       "version_minor": 0
      },
      "text/plain": [
       "HBox(children=(Output(outputs=({'output_type': 'display_data', 'data': {'text/plain': '<IPython.core.display.M…"
      ]
     },
     "metadata": {},
     "output_type": "display_data"
    }
   ],
   "source": [
    "from qualtran.drawing import show_bloqs\n",
    "show_bloqs([select_uv],\n",
    "           ['`select_uv`'])"
   ]
  },
  {
   "cell_type": "markdown",
   "id": "34e9be57",
   "metadata": {
    "cq.autogen": "SelectUVFirstQuantization.call_graph.md"
   },
   "source": [
    "### Call Graph"
   ]
  },
  {
   "cell_type": "code",
   "execution_count": 25,
   "id": "a6cad568",
   "metadata": {
    "cq.autogen": "SelectUVFirstQuantization.call_graph.py"
   },
   "outputs": [
    {
     "data": {
      "image/svg+xml": [
       "<svg xmlns=\"http://www.w3.org/2000/svg\" xmlns:xlink=\"http://www.w3.org/1999/xlink\" width=\"640pt\" height=\"131pt\" viewBox=\"0.00 0.00 640.00 131.00\">\n",
       "<g id=\"graph0\" class=\"graph\" transform=\"scale(1 1) rotate(0) translate(4 127)\">\n",
       "<title>counts</title>\n",
       "<polygon fill=\"white\" stroke=\"transparent\" points=\"-4,4 -4,-127 636,-127 636,4 -4,4\"/>\n",
       "<!-- b0 -->\n",
       "<g id=\"node1\" class=\"node\">\n",
       "<title>b0</title>\n",
       "<polygon fill=\"none\" stroke=\"black\" points=\"226,-93 226,-116 350,-116 350,-93 226,-93\"/>\n",
       "<text text-anchor=\"start\" x=\"232\" y=\"-102\" font-family=\"Times,serif\" font-size=\"10.00\">SelectUVFirstQuantization</text>\n",
       "</g>\n",
       "<!-- b1 -->\n",
       "<g id=\"node2\" class=\"node\">\n",
       "<title>b1</title>\n",
       "<polygon fill=\"none\" stroke=\"black\" points=\"8,-6 8,-29 162,-29 162,-6 8,-6\"/>\n",
       "<text text-anchor=\"start\" x=\"14\" y=\"-15\" font-family=\"Times,serif\" font-size=\"10.00\">SignedIntegerToTwosComplement</text>\n",
       "</g>\n",
       "<!-- b0&#45;&gt;b1 -->\n",
       "<g id=\"edge1\" class=\"edge\">\n",
       "<title>b0-&gt;b1</title>\n",
       "<path fill=\"none\" stroke=\"black\" d=\"M246.92,-86.8C214.62,-73.27 169.49,-54.38 135.07,-39.97\"/>\n",
       "<polygon fill=\"black\" stroke=\"black\" points=\"136.25,-36.66 125.67,-36.03 133.54,-43.12 136.25,-36.66\"/>\n",
       "<text text-anchor=\"middle\" x=\"202.5\" y=\"-57.8\" font-family=\"Times,serif\" font-size=\"14.00\">6</text>\n",
       "</g>\n",
       "<!-- b2 -->\n",
       "<g id=\"node3\" class=\"node\">\n",
       "<title>b2</title>\n",
       "<polygon fill=\"none\" stroke=\"black\" points=\"199,-6 199,-29 231,-29 231,-6 199,-6\"/>\n",
       "<text text-anchor=\"start\" x=\"205.5\" y=\"-15\" font-family=\"Times,serif\" font-size=\"10.00\">Add</text>\n",
       "</g>\n",
       "<!-- b0&#45;&gt;b2 -->\n",
       "<g id=\"edge2\" class=\"edge\">\n",
       "<title>b0-&gt;b2</title>\n",
       "<path fill=\"none\" stroke=\"black\" d=\"M273.23,-86.8C262.64,-74.47 248.22,-57.68 236.38,-43.89\"/>\n",
       "<polygon fill=\"black\" stroke=\"black\" points=\"238.92,-41.48 229.75,-36.18 233.61,-46.04 238.92,-41.48\"/>\n",
       "<text text-anchor=\"middle\" x=\"259.5\" y=\"-57.8\" font-family=\"Times,serif\" font-size=\"14.00\">6</text>\n",
       "</g>\n",
       "<!-- b3 -->\n",
       "<g id=\"node4\" class=\"node\">\n",
       "<title>b3</title>\n",
       "<polygon fill=\"none\" stroke=\"black\" points=\"268,-6 268,-29 308,-29 308,-6 268,-6\"/>\n",
       "<text text-anchor=\"start\" x=\"274\" y=\"-15\" font-family=\"Times,serif\" font-size=\"10.00\">Toffoli</text>\n",
       "</g>\n",
       "<!-- b0&#45;&gt;b3 -->\n",
       "<g id=\"edge3\" class=\"edge\">\n",
       "<title>b0-&gt;b3</title>\n",
       "<path fill=\"none\" stroke=\"black\" d=\"M288,-86.8C288,-75.16 288,-59.55 288,-46.24\"/>\n",
       "<polygon fill=\"black\" stroke=\"black\" points=\"291.5,-46.18 288,-36.18 284.5,-46.18 291.5,-46.18\"/>\n",
       "<text text-anchor=\"middle\" x=\"295\" y=\"-57.8\" font-family=\"Times,serif\" font-size=\"14.00\">36</text>\n",
       "</g>\n",
       "<!-- b4 -->\n",
       "<g id=\"node5\" class=\"node\">\n",
       "<title>b4</title>\n",
       "<polygon fill=\"none\" stroke=\"black\" points=\"342,-6 342,-29 496,-29 496,-6 342,-6\"/>\n",
       "<text text-anchor=\"start\" x=\"348\" y=\"-15\" font-family=\"Times,serif\" font-size=\"10.00\">SignedIntegerToTwosComplement</text>\n",
       "</g>\n",
       "<!-- b0&#45;&gt;b4 -->\n",
       "<g id=\"edge4\" class=\"edge\">\n",
       "<title>b0-&gt;b4</title>\n",
       "<path fill=\"none\" stroke=\"black\" d=\"M314.51,-86.8C334.49,-73.84 362.07,-55.94 383.88,-41.79\"/>\n",
       "<polygon fill=\"black\" stroke=\"black\" points=\"386.05,-44.55 392.53,-36.18 382.24,-38.68 386.05,-44.55\"/>\n",
       "<text text-anchor=\"middle\" x=\"365.5\" y=\"-57.8\" font-family=\"Times,serif\" font-size=\"14.00\">6</text>\n",
       "</g>\n",
       "<!-- b5 -->\n",
       "<g id=\"node6\" class=\"node\">\n",
       "<title>b5</title>\n",
       "<polygon fill=\"none\" stroke=\"black\" points=\"530,-6 530,-29 624,-29 624,-6 530,-6\"/>\n",
       "<text text-anchor=\"start\" x=\"536\" y=\"-15\" font-family=\"Times,serif\" font-size=\"10.00\">ApplyNuclearPhase</text>\n",
       "</g>\n",
       "<!-- b0&#45;&gt;b5 -->\n",
       "<g id=\"edge5\" class=\"edge\">\n",
       "<title>b0-&gt;b5</title>\n",
       "<path fill=\"none\" stroke=\"black\" d=\"M346.14,-86.9C394.19,-72.77 462.38,-52.71 512.19,-38.06\"/>\n",
       "<polygon fill=\"black\" stroke=\"black\" points=\"513.29,-41.39 521.9,-35.21 511.32,-34.67 513.29,-41.39\"/>\n",
       "<text text-anchor=\"middle\" x=\"453.5\" y=\"-57.8\" font-family=\"Times,serif\" font-size=\"14.00\">1</text>\n",
       "</g>\n",
       "</g>\n",
       "</svg>"
      ],
      "text/plain": [
       "<IPython.core.display.SVG object>"
      ]
     },
     "metadata": {},
     "output_type": "display_data"
    },
    {
     "data": {
      "text/markdown": [
       "#### Counts totals:\n",
       " - `Add`: 6\n",
       " - `ApplyNuclearPhase`: 1\n",
       " - `SignedIntegerToTwosComplement`: 6\n",
       " - `SignedIntegerToTwosComplement`: 6\n",
       " - `Toffoli`: 36"
      ],
      "text/plain": [
       "<IPython.core.display.Markdown object>"
      ]
     },
     "metadata": {},
     "output_type": "display_data"
    }
   ],
   "source": [
    "from qualtran.resource_counting.generalizers import ignore_split_join\n",
    "select_uv_g, select_uv_sigma = select_uv.call_graph(max_depth=1, generalizer=ignore_split_join)\n",
    "show_call_graph(select_uv_g)\n",
    "show_counts_sigma(select_uv_sigma)"
   ]
  },
  {
   "cell_type": "markdown",
   "id": "69c98b9f",
   "metadata": {
    "cq.autogen": "PrepareZetaState.bloq_doc.md"
   },
   "source": [
    "## `PrepareZetaState`\n",
    "PREPARE the superpostion over $l$ weighted by $\\zeta_l$.\n",
    "\n",
    "See https://github.com/quantumlib/Qualtran/issues/473.\n",
    "#### Parameters\n",
    " - `num_bits_p`: The number of bits to represent each dimension of the momentum register.\n",
    " - `eta`: The number of electrons.\n",
    " - `m_param`: $\\mathcal{M}$ in the reference.\n",
    " - `lambda_zeta`: sum of nuclear charges. \n",
    "\n",
    "#### Registers\n",
    " - `l`: the register indexing the atomic number. \n",
    "\n",
    "#### References\n",
    " - [Fault-Tolerant Quantum Simulations of Chemistry in First Quantization](https://arxiv.org/abs/2105.12767). page 23-24, last 3 paragraphs.\n"
   ]
  },
  {
   "cell_type": "code",
   "execution_count": 26,
   "id": "074bc1b8",
   "metadata": {
    "cq.autogen": "PrepareZetaState.bloq_doc.py"
   },
   "outputs": [],
   "source": [
    "from qualtran.bloqs.chemistry.pbc.first_quantization.prepare_zeta import PrepareZetaState"
   ]
  },
  {
   "cell_type": "markdown",
   "id": "fd3071f7",
   "metadata": {
    "cq.autogen": "PrepareZetaState.example_instances.md"
   },
   "source": [
    "### Example Instances"
   ]
  },
  {
   "cell_type": "code",
   "execution_count": 27,
   "id": "31ee49a4",
   "metadata": {
    "cq.autogen": "PrepareZetaState.prepare_zeta"
   },
   "outputs": [],
   "source": [
    "num_atoms = 10\n",
    "lambda_zeta = 10\n",
    "num_bits_nuc_pos = 8\n",
    "\n",
    "prepare_zeta = PrepareZetaState(\n",
    "    num_atoms=num_atoms, lambda_zeta=lambda_zeta, num_bits_nuc_pos=num_bits_nuc_pos\n",
    ")"
   ]
  },
  {
   "cell_type": "markdown",
   "id": "4fb19c71",
   "metadata": {
    "cq.autogen": "PrepareZetaState.graphical_signature.md"
   },
   "source": [
    "#### Graphical Signature"
   ]
  },
  {
   "cell_type": "code",
   "execution_count": 28,
   "id": "6498eee0",
   "metadata": {
    "cq.autogen": "PrepareZetaState.graphical_signature.py"
   },
   "outputs": [
    {
     "data": {
      "application/vnd.jupyter.widget-view+json": {
       "model_id": "103fa87da34f4536960b1fc8913d1456",
       "version_major": 2,
       "version_minor": 0
      },
      "text/plain": [
       "HBox(children=(Output(outputs=({'output_type': 'display_data', 'data': {'text/plain': '<IPython.core.display.M…"
      ]
     },
     "metadata": {},
     "output_type": "display_data"
    }
   ],
   "source": [
    "from qualtran.drawing import show_bloqs\n",
    "show_bloqs([prepare_zeta],\n",
    "           ['`prepare_zeta`'])"
   ]
  },
  {
   "cell_type": "markdown",
   "id": "1e644753",
   "metadata": {
    "cq.autogen": "PrepareZetaState.call_graph.md"
   },
   "source": [
    "### Call Graph"
   ]
  },
  {
   "cell_type": "code",
   "execution_count": 29,
   "id": "fbef8e6e",
   "metadata": {
    "cq.autogen": "PrepareZetaState.call_graph.py"
   },
   "outputs": [
    {
     "data": {
      "image/svg+xml": [
       "<svg xmlns=\"http://www.w3.org/2000/svg\" xmlns:xlink=\"http://www.w3.org/1999/xlink\" width=\"106pt\" height=\"131pt\" viewBox=\"0.00 0.00 106.00 131.00\">\n",
       "<g id=\"graph0\" class=\"graph\" transform=\"scale(1 1) rotate(0) translate(4 127)\">\n",
       "<title>counts</title>\n",
       "<polygon fill=\"white\" stroke=\"transparent\" points=\"-4,4 -4,-127 102,-127 102,4 -4,4\"/>\n",
       "<!-- b0 -->\n",
       "<g id=\"node1\" class=\"node\">\n",
       "<title>b0</title>\n",
       "<polygon fill=\"none\" stroke=\"black\" points=\"8,-93 8,-116 90,-116 90,-93 8,-93\"/>\n",
       "<text text-anchor=\"start\" x=\"14.5\" y=\"-102\" font-family=\"Times,serif\" font-size=\"10.00\">PrepareZetaState</text>\n",
       "</g>\n",
       "<!-- b1 -->\n",
       "<g id=\"node2\" class=\"node\">\n",
       "<title>b1</title>\n",
       "<polygon fill=\"none\" stroke=\"black\" points=\"29,-6 29,-29 69,-29 69,-6 29,-6\"/>\n",
       "<text text-anchor=\"start\" x=\"35\" y=\"-15\" font-family=\"Times,serif\" font-size=\"10.00\">Toffoli</text>\n",
       "</g>\n",
       "<!-- b0&#45;&gt;b1 -->\n",
       "<g id=\"edge1\" class=\"edge\">\n",
       "<title>b0-&gt;b1</title>\n",
       "<path fill=\"none\" stroke=\"black\" d=\"M49,-86.8C49,-75.16 49,-59.55 49,-46.24\"/>\n",
       "<polygon fill=\"black\" stroke=\"black\" points=\"52.5,-46.18 49,-36.18 45.5,-46.18 52.5,-46.18\"/>\n",
       "<text text-anchor=\"middle\" x=\"56\" y=\"-57.8\" font-family=\"Times,serif\" font-size=\"14.00\">10</text>\n",
       "</g>\n",
       "</g>\n",
       "</svg>"
      ],
      "text/plain": [
       "<IPython.core.display.SVG object>"
      ]
     },
     "metadata": {},
     "output_type": "display_data"
    },
    {
     "data": {
      "text/markdown": [
       "#### Counts totals:\n",
       " - `Toffoli`: 10"
      ],
      "text/plain": [
       "<IPython.core.display.Markdown object>"
      ]
     },
     "metadata": {},
     "output_type": "display_data"
    }
   ],
   "source": [
    "from qualtran.resource_counting.generalizers import ignore_split_join\n",
    "prepare_zeta_g, prepare_zeta_sigma = prepare_zeta.call_graph(max_depth=1, generalizer=ignore_split_join)\n",
    "show_call_graph(prepare_zeta_g)\n",
    "show_counts_sigma(prepare_zeta_sigma)"
   ]
  }
 ],
 "metadata": {
  "kernelspec": {
   "display_name": "Python 3",
   "language": "python",
   "name": "python3"
  },
  "language_info": {
   "codemirror_mode": {
    "name": "ipython",
    "version": 3
   },
   "file_extension": ".py",
   "mimetype": "text/x-python",
   "name": "python",
   "nbconvert_exporter": "python",
   "pygments_lexer": "ipython3",
   "version": "3.11.8"
  },
  "widgets": {
   "application/vnd.jupyter.widget-state+json": {
    "state": {
     "02de89e7ad344993bd817c745e3d5466": {
      "model_module": "@jupyter-widgets/controls",
      "model_module_version": "2.0.0",
      "model_name": "HBoxModel",
      "state": {
       "_dom_classes": [],
       "_model_module": "@jupyter-widgets/controls",
       "_model_module_version": "2.0.0",
       "_model_name": "HBoxModel",
       "_view_count": null,
       "_view_module": "@jupyter-widgets/controls",
       "_view_module_version": "2.0.0",
       "_view_name": "HBoxView",
       "box_style": "",
       "children": [
        "IPY_MODEL_f76f4a923a794412bbd7353f81fceade"
       ],
       "layout": "IPY_MODEL_ef8e1e8c337a455285d269b3b49f1251",
       "tabbable": null,
       "tooltip": null
      }
     },
     "1004e8fa87a145bdb6b6500412050b26": {
      "model_module": "@jupyter-widgets/controls",
      "model_module_version": "2.0.0",
      "model_name": "HBoxModel",
      "state": {
       "_dom_classes": [],
       "_model_module": "@jupyter-widgets/controls",
       "_model_module_version": "2.0.0",
       "_model_name": "HBoxModel",
       "_view_count": null,
       "_view_module": "@jupyter-widgets/controls",
       "_view_module_version": "2.0.0",
       "_view_name": "HBoxView",
       "box_style": "",
       "children": [
        "IPY_MODEL_982ce5ec991d417cbf6a53d636e60a83"
       ],
       "layout": "IPY_MODEL_d04617ef043542f18615f932d5650219",
       "tabbable": null,
       "tooltip": null
      }
     },
     "103fa87da34f4536960b1fc8913d1456": {
      "model_module": "@jupyter-widgets/controls",
      "model_module_version": "2.0.0",
      "model_name": "HBoxModel",
      "state": {
       "_dom_classes": [],
       "_model_module": "@jupyter-widgets/controls",
       "_model_module_version": "2.0.0",
       "_model_name": "HBoxModel",
       "_view_count": null,
       "_view_module": "@jupyter-widgets/controls",
       "_view_module_version": "2.0.0",
       "_view_name": "HBoxView",
       "box_style": "",
       "children": [
        "IPY_MODEL_f616fb14ed6d474ba3c17e421d346b0b"
       ],
       "layout": "IPY_MODEL_5935293b81124e20ac6f8b81c7ed1df1",
       "tabbable": null,
       "tooltip": null
      }
     },
     "1becbc7f43f94fc98ba5b84ffec1be09": {
      "model_module": "@jupyter-widgets/base",
      "model_module_version": "2.0.0",
      "model_name": "LayoutModel",
      "state": {
       "_model_module": "@jupyter-widgets/base",
       "_model_module_version": "2.0.0",
       "_model_name": "LayoutModel",
       "_view_count": null,
       "_view_module": "@jupyter-widgets/base",
       "_view_module_version": "2.0.0",
       "_view_name": "LayoutView",
       "align_content": null,
       "align_items": null,
       "align_self": null,
       "border_bottom": null,
       "border_left": null,
       "border_right": null,
       "border_top": null,
       "bottom": null,
       "display": null,
       "flex": null,
       "flex_flow": null,
       "grid_area": null,
       "grid_auto_columns": null,
       "grid_auto_flow": null,
       "grid_auto_rows": null,
       "grid_column": null,
       "grid_gap": null,
       "grid_row": null,
       "grid_template_areas": null,
       "grid_template_columns": null,
       "grid_template_rows": null,
       "height": null,
       "justify_content": null,
       "justify_items": null,
       "left": null,
       "margin": null,
       "max_height": null,
       "max_width": null,
       "min_height": null,
       "min_width": null,
       "object_fit": null,
       "object_position": null,
       "order": null,
       "overflow": null,
       "padding": null,
       "right": null,
       "top": null,
       "visibility": null,
       "width": null
      }
     },
     "2affb037c41b4ff3992e7c02295a4b65": {
      "model_module": "@jupyter-widgets/base",
      "model_module_version": "2.0.0",
      "model_name": "LayoutModel",
      "state": {
       "_model_module": "@jupyter-widgets/base",
       "_model_module_version": "2.0.0",
       "_model_name": "LayoutModel",
       "_view_count": null,
       "_view_module": "@jupyter-widgets/base",
       "_view_module_version": "2.0.0",
       "_view_name": "LayoutView",
       "align_content": null,
       "align_items": null,
       "align_self": null,
       "border_bottom": null,
       "border_left": null,
       "border_right": null,
       "border_top": null,
       "bottom": null,
       "display": null,
       "flex": null,
       "flex_flow": null,
       "grid_area": null,
       "grid_auto_columns": null,
       "grid_auto_flow": null,
       "grid_auto_rows": null,
       "grid_column": null,
       "grid_gap": null,
       "grid_row": null,
       "grid_template_areas": null,
       "grid_template_columns": null,
       "grid_template_rows": null,
       "height": null,
       "justify_content": null,
       "justify_items": null,
       "left": null,
       "margin": null,
       "max_height": null,
       "max_width": null,
       "min_height": null,
       "min_width": null,
       "object_fit": null,
       "object_position": null,
       "order": null,
       "overflow": null,
       "padding": null,
       "right": null,
       "top": null,
       "visibility": null,
       "width": null
      }
     },
     "385716bb5c044e8a9dfabcb1d7bf9455": {
      "model_module": "@jupyter-widgets/base",
      "model_module_version": "2.0.0",
      "model_name": "LayoutModel",
      "state": {
       "_model_module": "@jupyter-widgets/base",
       "_model_module_version": "2.0.0",
       "_model_name": "LayoutModel",
       "_view_count": null,
       "_view_module": "@jupyter-widgets/base",
       "_view_module_version": "2.0.0",
       "_view_name": "LayoutView",
       "align_content": null,
       "align_items": null,
       "align_self": null,
       "border_bottom": null,
       "border_left": null,
       "border_right": null,
       "border_top": null,
       "bottom": null,
       "display": null,
       "flex": null,
       "flex_flow": null,
       "grid_area": null,
       "grid_auto_columns": null,
       "grid_auto_flow": null,
       "grid_auto_rows": null,
       "grid_column": null,
       "grid_gap": null,
       "grid_row": null,
       "grid_template_areas": null,
       "grid_template_columns": null,
       "grid_template_rows": null,
       "height": null,
       "justify_content": null,
       "justify_items": null,
       "left": null,
       "margin": null,
       "max_height": null,
       "max_width": null,
       "min_height": null,
       "min_width": null,
       "object_fit": null,
       "object_position": null,
       "order": null,
       "overflow": null,
       "padding": null,
       "right": null,
       "top": null,
       "visibility": null,
       "width": null
      }
     },
     "4204a8ecd0a54c8a91d474307dae0f69": {
      "model_module": "@jupyter-widgets/base",
      "model_module_version": "2.0.0",
      "model_name": "LayoutModel",
      "state": {
       "_model_module": "@jupyter-widgets/base",
       "_model_module_version": "2.0.0",
       "_model_name": "LayoutModel",
       "_view_count": null,
       "_view_module": "@jupyter-widgets/base",
       "_view_module_version": "2.0.0",
       "_view_name": "LayoutView",
       "align_content": null,
       "align_items": null,
       "align_self": null,
       "border_bottom": null,
       "border_left": null,
       "border_right": null,
       "border_top": null,
       "bottom": null,
       "display": null,
       "flex": null,
       "flex_flow": null,
       "grid_area": null,
       "grid_auto_columns": null,
       "grid_auto_flow": null,
       "grid_auto_rows": null,
       "grid_column": null,
       "grid_gap": null,
       "grid_row": null,
       "grid_template_areas": null,
       "grid_template_columns": null,
       "grid_template_rows": null,
       "height": null,
       "justify_content": null,
       "justify_items": null,
       "left": null,
       "margin": null,
       "max_height": null,
       "max_width": null,
       "min_height": null,
       "min_width": null,
       "object_fit": null,
       "object_position": null,
       "order": null,
       "overflow": null,
       "padding": null,
       "right": null,
       "top": null,
       "visibility": null,
       "width": null
      }
     },
     "46bca539d5544228bd87ec7846f36bd2": {
      "model_module": "@jupyter-widgets/controls",
      "model_module_version": "2.0.0",
      "model_name": "HBoxModel",
      "state": {
       "_dom_classes": [],
       "_model_module": "@jupyter-widgets/controls",
       "_model_module_version": "2.0.0",
       "_model_name": "HBoxModel",
       "_view_count": null,
       "_view_module": "@jupyter-widgets/controls",
       "_view_module_version": "2.0.0",
       "_view_name": "HBoxView",
       "box_style": "",
       "children": [
        "IPY_MODEL_80a8b7a5938d4c539e4a7ce93eb14030"
       ],
       "layout": "IPY_MODEL_2affb037c41b4ff3992e7c02295a4b65",
       "tabbable": null,
       "tooltip": null
      }
     },
     "4d19ca0c3f274b75b41ff282dd3b906c": {
      "model_module": "@jupyter-widgets/base",
      "model_module_version": "2.0.0",
      "model_name": "LayoutModel",
      "state": {
       "_model_module": "@jupyter-widgets/base",
       "_model_module_version": "2.0.0",
       "_model_name": "LayoutModel",
       "_view_count": null,
       "_view_module": "@jupyter-widgets/base",
       "_view_module_version": "2.0.0",
       "_view_name": "LayoutView",
       "align_content": null,
       "align_items": null,
       "align_self": null,
       "border_bottom": null,
       "border_left": null,
       "border_right": null,
       "border_top": null,
       "bottom": null,
       "display": null,
       "flex": null,
       "flex_flow": null,
       "grid_area": null,
       "grid_auto_columns": null,
       "grid_auto_flow": null,
       "grid_auto_rows": null,
       "grid_column": null,
       "grid_gap": null,
       "grid_row": null,
       "grid_template_areas": null,
       "grid_template_columns": null,
       "grid_template_rows": null,
       "height": null,
       "justify_content": null,
       "justify_items": null,
       "left": null,
       "margin": null,
       "max_height": null,
       "max_width": null,
       "min_height": null,
       "min_width": null,
       "object_fit": null,
       "object_position": null,
       "order": null,
       "overflow": null,
       "padding": null,
       "right": null,
       "top": null,
       "visibility": null,
       "width": null
      }
     },
     "5935293b81124e20ac6f8b81c7ed1df1": {
      "model_module": "@jupyter-widgets/base",
      "model_module_version": "2.0.0",
      "model_name": "LayoutModel",
      "state": {
       "_model_module": "@jupyter-widgets/base",
       "_model_module_version": "2.0.0",
       "_model_name": "LayoutModel",
       "_view_count": null,
       "_view_module": "@jupyter-widgets/base",
       "_view_module_version": "2.0.0",
       "_view_name": "LayoutView",
       "align_content": null,
       "align_items": null,
       "align_self": null,
       "border_bottom": null,
       "border_left": null,
       "border_right": null,
       "border_top": null,
       "bottom": null,
       "display": null,
       "flex": null,
       "flex_flow": null,
       "grid_area": null,
       "grid_auto_columns": null,
       "grid_auto_flow": null,
       "grid_auto_rows": null,
       "grid_column": null,
       "grid_gap": null,
       "grid_row": null,
       "grid_template_areas": null,
       "grid_template_columns": null,
       "grid_template_rows": null,
       "height": null,
       "justify_content": null,
       "justify_items": null,
       "left": null,
       "margin": null,
       "max_height": null,
       "max_width": null,
       "min_height": null,
       "min_width": null,
       "object_fit": null,
       "object_position": null,
       "order": null,
       "overflow": null,
       "padding": null,
       "right": null,
       "top": null,
       "visibility": null,
       "width": null
      }
     },
     "663fae48659e4386a32068fb40bc33bf": {
      "model_module": "@jupyter-widgets/base",
      "model_module_version": "2.0.0",
      "model_name": "LayoutModel",
      "state": {
       "_model_module": "@jupyter-widgets/base",
       "_model_module_version": "2.0.0",
       "_model_name": "LayoutModel",
       "_view_count": null,
       "_view_module": "@jupyter-widgets/base",
       "_view_module_version": "2.0.0",
       "_view_name": "LayoutView",
       "align_content": null,
       "align_items": null,
       "align_self": null,
       "border_bottom": null,
       "border_left": null,
       "border_right": null,
       "border_top": null,
       "bottom": null,
       "display": null,
       "flex": null,
       "flex_flow": null,
       "grid_area": null,
       "grid_auto_columns": null,
       "grid_auto_flow": null,
       "grid_auto_rows": null,
       "grid_column": null,
       "grid_gap": null,
       "grid_row": null,
       "grid_template_areas": null,
       "grid_template_columns": null,
       "grid_template_rows": null,
       "height": null,
       "justify_content": null,
       "justify_items": null,
       "left": null,
       "margin": null,
       "max_height": null,
       "max_width": null,
       "min_height": null,
       "min_width": null,
       "object_fit": null,
       "object_position": null,
       "order": null,
       "overflow": null,
       "padding": null,
       "right": null,
       "top": null,
       "visibility": null,
       "width": null
      }
     },
     "78e858535d5d4f4098f6d017928d069b": {
      "model_module": "@jupyter-widgets/base",
      "model_module_version": "2.0.0",
      "model_name": "LayoutModel",
      "state": {
       "_model_module": "@jupyter-widgets/base",
       "_model_module_version": "2.0.0",
       "_model_name": "LayoutModel",
       "_view_count": null,
       "_view_module": "@jupyter-widgets/base",
       "_view_module_version": "2.0.0",
       "_view_name": "LayoutView",
       "align_content": null,
       "align_items": null,
       "align_self": null,
       "border_bottom": null,
       "border_left": null,
       "border_right": null,
       "border_top": null,
       "bottom": null,
       "display": null,
       "flex": null,
       "flex_flow": null,
       "grid_area": null,
       "grid_auto_columns": null,
       "grid_auto_flow": null,
       "grid_auto_rows": null,
       "grid_column": null,
       "grid_gap": null,
       "grid_row": null,
       "grid_template_areas": null,
       "grid_template_columns": null,
       "grid_template_rows": null,
       "height": null,
       "justify_content": null,
       "justify_items": null,
       "left": null,
       "margin": null,
       "max_height": null,
       "max_width": null,
       "min_height": null,
       "min_width": null,
       "object_fit": null,
       "object_position": null,
       "order": null,
       "overflow": null,
       "padding": null,
       "right": null,
       "top": null,
       "visibility": null,
       "width": null
      }
     },
     "80a8b7a5938d4c539e4a7ce93eb14030": {
      "model_module": "@jupyter-widgets/output",
      "model_module_version": "1.0.0",
      "model_name": "OutputModel",
      "state": {
       "_dom_classes": [],
       "_model_module": "@jupyter-widgets/output",
       "_model_module_version": "1.0.0",
       "_model_name": "OutputModel",
       "_view_count": null,
       "_view_module": "@jupyter-widgets/output",
       "_view_module_version": "1.0.0",
       "_view_name": "OutputView",
       "layout": "IPY_MODEL_c9108c0abe954dda9d9b178867f34d5d",
       "msg_id": "",
       "outputs": [
        {
         "data": {
          "text/markdown": "`prepare_t`",
          "text/plain": "<IPython.core.display.Markdown object>"
         },
         "metadata": {},
         "output_type": "display_data"
        },
        {
         "data": {
          "image/svg+xml": "<svg xmlns=\"http://www.w3.org/2000/svg\" xmlns:xlink=\"http://www.w3.org/1999/xlink\" width=\"305pt\" height=\"152pt\" viewBox=\"0.00 0.00 305.00 152.00\">\n<g id=\"graph0\" class=\"graph\" transform=\"scale(1 1) rotate(0) translate(4 148)\">\n<title>my_graph</title>\n<polygon fill=\"white\" stroke=\"transparent\" points=\"-4,4 -4,-148 301,-148 301,4 -4,4\"/>\n<!-- w_G3 -->\n<g id=\"node1\" class=\"node\">\n<title>w_G3</title>\n<text text-anchor=\"middle\" x=\"27\" y=\"-122.3\" font-family=\"Times,serif\" font-size=\"14.00\">w</text>\n</g>\n<!-- PrepareTFirstQuantization -->\n<g id=\"node4\" class=\"node\">\n<title>PrepareTFirstQuantization</title>\n<polygon fill=\"none\" stroke=\"black\" points=\"91.5,-104 91.5,-121 206.5,-121 206.5,-104 91.5,-104\"/>\n<text text-anchor=\"start\" x=\"94.5\" y=\"-110\" font-family=\"Times,serif\" font-size=\"10.00\">PrepareTFirstQuantization</text>\n<polygon fill=\"none\" stroke=\"black\" points=\"91.5,-83 91.5,-104 206.5,-104 206.5,-83 91.5,-83\"/>\n<text text-anchor=\"start\" x=\"144\" y=\"-89.8\" font-family=\"Times,serif\" font-size=\"14.00\">w</text>\n<polygon fill=\"none\" stroke=\"black\" points=\"91.5,-62 91.5,-83 206.5,-83 206.5,-62 91.5,-62\"/>\n<text text-anchor=\"start\" x=\"146.5\" y=\"-68.8\" font-family=\"Times,serif\" font-size=\"14.00\">r</text>\n<polygon fill=\"none\" stroke=\"black\" points=\"91.5,-41 91.5,-62 206.5,-62 206.5,-41 91.5,-41\"/>\n<text text-anchor=\"start\" x=\"146\" y=\"-47.8\" font-family=\"Times,serif\" font-size=\"14.00\">s</text>\n</g>\n<!-- w_G3&#45;&gt;PrepareTFirstQuantization -->\n<g id=\"edge1\" class=\"edge\">\n<title>w_G3:e-&gt;PrepareTFirstQuantization:w</title>\n<path fill=\"none\" stroke=\"black\" d=\"M54,-126C74.89,-126 69.72,-96.45 88.58,-94.14\"/>\n<ellipse fill=\"black\" stroke=\"black\" cx=\"90\" cy=\"-94.06\" rx=\"1\" ry=\"1\"/>\n<text text-anchor=\"middle\" x=\"72.5\" y=\"-113\" font-family=\"Times,serif\" font-size=\"10.00\">2</text>\n</g>\n<!-- r_G6 -->\n<g id=\"node2\" class=\"node\">\n<title>r_G6</title>\n<text text-anchor=\"middle\" x=\"27\" y=\"-68.3\" font-family=\"Times,serif\" font-size=\"14.00\">r</text>\n</g>\n<!-- r_G6&#45;&gt;PrepareTFirstQuantization -->\n<g id=\"edge2\" class=\"edge\">\n<title>r_G6:e-&gt;PrepareTFirstQuantization:w</title>\n<path fill=\"none\" stroke=\"black\" d=\"M54,-72C69.67,-72 74.14,-72 88.77,-72\"/>\n<ellipse fill=\"black\" stroke=\"black\" cx=\"90\" cy=\"-72\" rx=\"1\" ry=\"1\"/>\n<text text-anchor=\"middle\" x=\"72.5\" y=\"-75\" font-family=\"Times,serif\" font-size=\"10.00\">5</text>\n</g>\n<!-- s_G8 -->\n<g id=\"node3\" class=\"node\">\n<title>s_G8</title>\n<text text-anchor=\"middle\" x=\"27\" y=\"-14.3\" font-family=\"Times,serif\" font-size=\"14.00\">s</text>\n</g>\n<!-- s_G8&#45;&gt;PrepareTFirstQuantization -->\n<g id=\"edge3\" class=\"edge\">\n<title>s_G8:e-&gt;PrepareTFirstQuantization:w</title>\n<path fill=\"none\" stroke=\"black\" d=\"M54,-18C75.17,-18 69.47,-48.47 88.55,-50.85\"/>\n<ellipse fill=\"black\" stroke=\"black\" cx=\"90\" cy=\"-50.94\" rx=\"1\" ry=\"1\"/>\n<text text-anchor=\"middle\" x=\"72.5\" y=\"-39\" font-family=\"Times,serif\" font-size=\"10.00\">5</text>\n</g>\n<!-- w_G4 -->\n<g id=\"node5\" class=\"node\">\n<title>w_G4</title>\n<text text-anchor=\"middle\" x=\"270\" y=\"-122.3\" font-family=\"Times,serif\" font-size=\"14.00\">w</text>\n</g>\n<!-- PrepareTFirstQuantization&#45;&gt;w_G4 -->\n<g id=\"edge4\" class=\"edge\">\n<title>PrepareTFirstQuantization:e-&gt;w_G4:w</title>\n<path fill=\"none\" stroke=\"black\" d=\"M206,-94C226.89,-94 221.72,-123.55 240.58,-125.86\"/>\n<ellipse fill=\"black\" stroke=\"black\" cx=\"242\" cy=\"-125.94\" rx=\"1\" ry=\"1\"/>\n<text text-anchor=\"middle\" x=\"224.5\" y=\"-113\" font-family=\"Times,serif\" font-size=\"10.00\">2</text>\n</g>\n<!-- r_G0 -->\n<g id=\"node6\" class=\"node\">\n<title>r_G0</title>\n<text text-anchor=\"middle\" x=\"270\" y=\"-68.3\" font-family=\"Times,serif\" font-size=\"14.00\">r</text>\n</g>\n<!-- PrepareTFirstQuantization&#45;&gt;r_G0 -->\n<g id=\"edge5\" class=\"edge\">\n<title>PrepareTFirstQuantization:e-&gt;r_G0:w</title>\n<path fill=\"none\" stroke=\"black\" d=\"M206,-72C221.67,-72 226.14,-72 240.77,-72\"/>\n<ellipse fill=\"black\" stroke=\"black\" cx=\"242\" cy=\"-72\" rx=\"1\" ry=\"1\"/>\n<text text-anchor=\"middle\" x=\"224.5\" y=\"-75\" font-family=\"Times,serif\" font-size=\"10.00\">5</text>\n</g>\n<!-- s_G2 -->\n<g id=\"node7\" class=\"node\">\n<title>s_G2</title>\n<text text-anchor=\"middle\" x=\"270\" y=\"-14.3\" font-family=\"Times,serif\" font-size=\"14.00\">s</text>\n</g>\n<!-- PrepareTFirstQuantization&#45;&gt;s_G2 -->\n<g id=\"edge6\" class=\"edge\">\n<title>PrepareTFirstQuantization:e-&gt;s_G2:w</title>\n<path fill=\"none\" stroke=\"black\" d=\"M206,-51C227.17,-51 221.47,-20.53 240.55,-18.15\"/>\n<ellipse fill=\"black\" stroke=\"black\" cx=\"242\" cy=\"-18.06\" rx=\"1\" ry=\"1\"/>\n<text text-anchor=\"middle\" x=\"224.5\" y=\"-39\" font-family=\"Times,serif\" font-size=\"10.00\">5</text>\n</g>\n</g>\n</svg>",
          "text/plain": "<IPython.core.display.SVG object>"
         },
         "metadata": {},
         "output_type": "display_data"
        }
       ],
       "tabbable": null,
       "tooltip": null
      }
     },
     "82ff7c7aa6834813ba6cac075d8b1b7f": {
      "model_module": "@jupyter-widgets/controls",
      "model_module_version": "2.0.0",
      "model_name": "HBoxModel",
      "state": {
       "_dom_classes": [],
       "_model_module": "@jupyter-widgets/controls",
       "_model_module_version": "2.0.0",
       "_model_name": "HBoxModel",
       "_view_count": null,
       "_view_module": "@jupyter-widgets/controls",
       "_view_module_version": "2.0.0",
       "_view_name": "HBoxView",
       "box_style": "",
       "children": [
        "IPY_MODEL_aa29e0e249c448e19e2c132283060c18"
       ],
       "layout": "IPY_MODEL_4204a8ecd0a54c8a91d474307dae0f69",
       "tabbable": null,
       "tooltip": null
      }
     },
     "982ce5ec991d417cbf6a53d636e60a83": {
      "model_module": "@jupyter-widgets/output",
      "model_module_version": "1.0.0",
      "model_name": "OutputModel",
      "state": {
       "_dom_classes": [],
       "_model_module": "@jupyter-widgets/output",
       "_model_module_version": "1.0.0",
       "_model_name": "OutputModel",
       "_view_count": null,
       "_view_module": "@jupyter-widgets/output",
       "_view_module_version": "1.0.0",
       "_view_name": "OutputView",
       "layout": "IPY_MODEL_4d19ca0c3f274b75b41ff282dd3b906c",
       "msg_id": "",
       "outputs": [
        {
         "data": {
          "text/markdown": "`prepare_uv`",
          "text/plain": "<IPython.core.display.Markdown object>"
         },
         "metadata": {},
         "output_type": "display_data"
        },
        {
         "data": {
          "image/svg+xml": "<svg xmlns=\"http://www.w3.org/2000/svg\" xmlns:xlink=\"http://www.w3.org/1999/xlink\" width=\"322pt\" height=\"368pt\" viewBox=\"0.00 0.00 322.00 368.00\">\n<g id=\"graph0\" class=\"graph\" transform=\"scale(1 1) rotate(0) translate(4 364)\">\n<title>my_graph</title>\n<polygon fill=\"white\" stroke=\"transparent\" points=\"-4,4 -4,-364 318,-364 318,4 -4,4\"/>\n<!-- mu_G20 -->\n<g id=\"node1\" class=\"node\">\n<title>mu_G20</title>\n<text text-anchor=\"middle\" x=\"29\" y=\"-338.3\" font-family=\"Times,serif\" font-size=\"14.00\">mu</text>\n</g>\n<!-- PrepareUVFirstQuantization -->\n<g id=\"node8\" class=\"node\">\n<title>PrepareUVFirstQuantization</title>\n<polygon fill=\"none\" stroke=\"black\" points=\"95,-254 95,-271 219,-271 219,-254 95,-254\"/>\n<text text-anchor=\"start\" x=\"98\" y=\"-260\" font-family=\"Times,serif\" font-size=\"10.00\">PrepareUVFirstQuantization</text>\n<polygon fill=\"none\" stroke=\"black\" points=\"95,-233 95,-254 219,-254 219,-233 95,-233\"/>\n<text text-anchor=\"start\" x=\"147.5\" y=\"-239.8\" font-family=\"Times,serif\" font-size=\"14.00\">mu</text>\n<polygon fill=\"none\" stroke=\"black\" points=\"95,-212 95,-233 219,-233 219,-212 95,-212\"/>\n<text text-anchor=\"start\" x=\"142\" y=\"-218.8\" font-family=\"Times,serif\" font-size=\"14.00\">nu[0]</text>\n<polygon fill=\"none\" stroke=\"black\" points=\"95,-191 95,-212 219,-212 219,-191 95,-191\"/>\n<text text-anchor=\"start\" x=\"142\" y=\"-197.8\" font-family=\"Times,serif\" font-size=\"14.00\">nu[1]</text>\n<polygon fill=\"none\" stroke=\"black\" points=\"95,-170 95,-191 219,-191 219,-170 95,-170\"/>\n<text text-anchor=\"start\" x=\"142\" y=\"-176.8\" font-family=\"Times,serif\" font-size=\"14.00\">nu[2]</text>\n<polygon fill=\"none\" stroke=\"black\" points=\"95,-149 95,-170 219,-170 219,-149 95,-149\"/>\n<text text-anchor=\"start\" x=\"151\" y=\"-155.8\" font-family=\"Times,serif\" font-size=\"14.00\">m</text>\n<polygon fill=\"none\" stroke=\"black\" points=\"95,-128 95,-149 219,-149 219,-128 95,-128\"/>\n<text text-anchor=\"start\" x=\"155\" y=\"-134.8\" font-family=\"Times,serif\" font-size=\"14.00\">l</text>\n<polygon fill=\"none\" stroke=\"black\" points=\"95,-107 95,-128 219,-128 219,-107 95,-107\"/>\n<text text-anchor=\"start\" x=\"136\" y=\"-113.8\" font-family=\"Times,serif\" font-size=\"14.00\">flag_nu</text>\n</g>\n<!-- mu_G20&#45;&gt;PrepareUVFirstQuantization -->\n<g id=\"edge1\" class=\"edge\">\n<title>mu_G20:e-&gt;PrepareUVFirstQuantization:w</title>\n<path fill=\"none\" stroke=\"black\" d=\"M57,-342C79.63,-342 72.16,-250.03 92.9,-244.28\"/>\n<ellipse fill=\"black\" stroke=\"black\" cx=\"94.01\" cy=\"-244.13\" rx=\"1\" ry=\"1\"/>\n<text text-anchor=\"middle\" x=\"76.5\" y=\"-296\" font-family=\"Times,serif\" font-size=\"10.00\">5</text>\n</g>\n<!-- nu_G15 -->\n<g id=\"node2\" class=\"node\">\n<title>nu_G15</title>\n<text text-anchor=\"middle\" x=\"29\" y=\"-284.3\" font-family=\"Times,serif\" font-size=\"14.00\">nu[0]</text>\n</g>\n<!-- nu_G15&#45;&gt;PrepareUVFirstQuantization -->\n<g id=\"edge2\" class=\"edge\">\n<title>nu_G15:e-&gt;PrepareUVFirstQuantization:w</title>\n<path fill=\"none\" stroke=\"black\" d=\"M57,-288C89.68,-288 62.86,-226.01 92.75,-223.11\"/>\n<ellipse fill=\"black\" stroke=\"black\" cx=\"94\" cy=\"-223.05\" rx=\"1\" ry=\"1\"/>\n<text text-anchor=\"middle\" x=\"76.5\" y=\"-258\" font-family=\"Times,serif\" font-size=\"10.00\">6</text>\n</g>\n<!-- nu_G13 -->\n<g id=\"node3\" class=\"node\">\n<title>nu_G13</title>\n<text text-anchor=\"middle\" x=\"29\" y=\"-230.3\" font-family=\"Times,serif\" font-size=\"14.00\">nu[1]</text>\n</g>\n<!-- nu_G13&#45;&gt;PrepareUVFirstQuantization -->\n<g id=\"edge3\" class=\"edge\">\n<title>nu_G13:e-&gt;PrepareUVFirstQuantization:w</title>\n<path fill=\"none\" stroke=\"black\" d=\"M57,-234C78.22,-234 73.36,-204.45 92.54,-202.14\"/>\n<ellipse fill=\"black\" stroke=\"black\" cx=\"94\" cy=\"-202.06\" rx=\"1\" ry=\"1\"/>\n<text text-anchor=\"middle\" x=\"76.5\" y=\"-221\" font-family=\"Times,serif\" font-size=\"10.00\">6</text>\n</g>\n<!-- nu_G18 -->\n<g id=\"node4\" class=\"node\">\n<title>nu_G18</title>\n<text text-anchor=\"middle\" x=\"29\" y=\"-176.3\" font-family=\"Times,serif\" font-size=\"14.00\">nu[2]</text>\n</g>\n<!-- nu_G18&#45;&gt;PrepareUVFirstQuantization -->\n<g id=\"edge4\" class=\"edge\">\n<title>nu_G18:e-&gt;PrepareUVFirstQuantization:w</title>\n<path fill=\"none\" stroke=\"black\" d=\"M57,-180C73.1,-180 77.69,-180 92.71,-180\"/>\n<ellipse fill=\"black\" stroke=\"black\" cx=\"94\" cy=\"-180\" rx=\"1\" ry=\"1\"/>\n<text text-anchor=\"middle\" x=\"76.5\" y=\"-183\" font-family=\"Times,serif\" font-size=\"10.00\">6</text>\n</g>\n<!-- m_G11 -->\n<g id=\"node5\" class=\"node\">\n<title>m_G11</title>\n<text text-anchor=\"middle\" x=\"29\" y=\"-122.3\" font-family=\"Times,serif\" font-size=\"14.00\">m</text>\n</g>\n<!-- m_G11&#45;&gt;PrepareUVFirstQuantization -->\n<g id=\"edge5\" class=\"edge\">\n<title>m_G11:e-&gt;PrepareUVFirstQuantization:w</title>\n<path fill=\"none\" stroke=\"black\" d=\"M57,-126C78.67,-126 73.02,-156.97 92.99,-158.91\"/>\n<ellipse fill=\"black\" stroke=\"black\" cx=\"94\" cy=\"-158.95\" rx=\"1\" ry=\"1\"/>\n<text text-anchor=\"middle\" x=\"76.5\" y=\"-147\" font-family=\"Times,serif\" font-size=\"10.00\">8</text>\n</g>\n<!-- l_G1 -->\n<g id=\"node6\" class=\"node\">\n<title>l_G1</title>\n<text text-anchor=\"middle\" x=\"29\" y=\"-68.3\" font-family=\"Times,serif\" font-size=\"14.00\">l</text>\n</g>\n<!-- l_G1&#45;&gt;PrepareUVFirstQuantization -->\n<g id=\"edge6\" class=\"edge\">\n<title>l_G1:e-&gt;PrepareUVFirstQuantization:w</title>\n<path fill=\"none\" stroke=\"black\" d=\"M57,-72C90.05,-72 62.51,-134.94 92.72,-137.89\"/>\n<ellipse fill=\"black\" stroke=\"black\" cx=\"94\" cy=\"-137.95\" rx=\"1\" ry=\"1\"/>\n<text text-anchor=\"middle\" x=\"76.5\" y=\"-119\" font-family=\"Times,serif\" font-size=\"10.00\">4</text>\n</g>\n<!-- flag_nu_G5 -->\n<g id=\"node7\" class=\"node\">\n<title>flag_nu_G5</title>\n<text text-anchor=\"middle\" x=\"29\" y=\"-14.3\" font-family=\"Times,serif\" font-size=\"14.00\">flag_nu</text>\n</g>\n<!-- flag_nu_G5&#45;&gt;PrepareUVFirstQuantization -->\n<g id=\"edge7\" class=\"edge\">\n<title>flag_nu_G5:e-&gt;PrepareUVFirstQuantization:w</title>\n<path fill=\"none\" stroke=\"black\" d=\"M58,-18C80.75,-18 72.1,-110.91 92.89,-116.72\"/>\n<ellipse fill=\"black\" stroke=\"black\" cx=\"94.01\" cy=\"-116.87\" rx=\"1\" ry=\"1\"/>\n<text text-anchor=\"middle\" x=\"76.5\" y=\"-74\" font-family=\"Times,serif\" font-size=\"10.00\">1</text>\n</g>\n<!-- mu_G9 -->\n<g id=\"node9\" class=\"node\">\n<title>mu_G9</title>\n<text text-anchor=\"middle\" x=\"285\" y=\"-338.3\" font-family=\"Times,serif\" font-size=\"14.00\">mu</text>\n</g>\n<!-- PrepareUVFirstQuantization&#45;&gt;mu_G9 -->\n<g id=\"edge8\" class=\"edge\">\n<title>PrepareUVFirstQuantization:e-&gt;mu_G9:w</title>\n<path fill=\"none\" stroke=\"black\" d=\"M219,-244C241.63,-244 234.16,-335.97 254.9,-341.72\"/>\n<ellipse fill=\"black\" stroke=\"black\" cx=\"256.01\" cy=\"-341.87\" rx=\"1\" ry=\"1\"/>\n<text text-anchor=\"middle\" x=\"237.5\" y=\"-296\" font-family=\"Times,serif\" font-size=\"10.00\">5</text>\n</g>\n<!-- nu_G6 -->\n<g id=\"node10\" class=\"node\">\n<title>nu_G6</title>\n<text text-anchor=\"middle\" x=\"285\" y=\"-284.3\" font-family=\"Times,serif\" font-size=\"14.00\">nu[0]</text>\n</g>\n<!-- PrepareUVFirstQuantization&#45;&gt;nu_G6 -->\n<g id=\"edge9\" class=\"edge\">\n<title>PrepareUVFirstQuantization:e-&gt;nu_G6:w</title>\n<path fill=\"none\" stroke=\"black\" d=\"M219,-223C251.68,-223 224.86,-284.99 254.75,-287.89\"/>\n<ellipse fill=\"black\" stroke=\"black\" cx=\"256\" cy=\"-287.95\" rx=\"1\" ry=\"1\"/>\n<text text-anchor=\"middle\" x=\"237.5\" y=\"-258\" font-family=\"Times,serif\" font-size=\"10.00\">6</text>\n</g>\n<!-- nu_G4 -->\n<g id=\"node11\" class=\"node\">\n<title>nu_G4</title>\n<text text-anchor=\"middle\" x=\"285\" y=\"-230.3\" font-family=\"Times,serif\" font-size=\"14.00\">nu[1]</text>\n</g>\n<!-- PrepareUVFirstQuantization&#45;&gt;nu_G4 -->\n<g id=\"edge10\" class=\"edge\">\n<title>PrepareUVFirstQuantization:e-&gt;nu_G4:w</title>\n<path fill=\"none\" stroke=\"black\" d=\"M219,-202C240.22,-202 235.36,-231.55 254.54,-233.86\"/>\n<ellipse fill=\"black\" stroke=\"black\" cx=\"256\" cy=\"-233.94\" rx=\"1\" ry=\"1\"/>\n<text text-anchor=\"middle\" x=\"237.5\" y=\"-221\" font-family=\"Times,serif\" font-size=\"10.00\">6</text>\n</g>\n<!-- nu_G8 -->\n<g id=\"node12\" class=\"node\">\n<title>nu_G8</title>\n<text text-anchor=\"middle\" x=\"285\" y=\"-176.3\" font-family=\"Times,serif\" font-size=\"14.00\">nu[2]</text>\n</g>\n<!-- PrepareUVFirstQuantization&#45;&gt;nu_G8 -->\n<g id=\"edge11\" class=\"edge\">\n<title>PrepareUVFirstQuantization:e-&gt;nu_G8:w</title>\n<path fill=\"none\" stroke=\"black\" d=\"M219,-180C235.1,-180 239.69,-180 254.71,-180\"/>\n<ellipse fill=\"black\" stroke=\"black\" cx=\"256\" cy=\"-180\" rx=\"1\" ry=\"1\"/>\n<text text-anchor=\"middle\" x=\"237.5\" y=\"-183\" font-family=\"Times,serif\" font-size=\"10.00\">6</text>\n</g>\n<!-- m_G2 -->\n<g id=\"node13\" class=\"node\">\n<title>m_G2</title>\n<text text-anchor=\"middle\" x=\"285\" y=\"-122.3\" font-family=\"Times,serif\" font-size=\"14.00\">m</text>\n</g>\n<!-- PrepareUVFirstQuantization&#45;&gt;m_G2 -->\n<g id=\"edge12\" class=\"edge\">\n<title>PrepareUVFirstQuantization:e-&gt;m_G2:w</title>\n<path fill=\"none\" stroke=\"black\" d=\"M219,-159C240.67,-159 235.02,-128.03 254.99,-126.09\"/>\n<ellipse fill=\"black\" stroke=\"black\" cx=\"256\" cy=\"-126.05\" rx=\"1\" ry=\"1\"/>\n<text text-anchor=\"middle\" x=\"237.5\" y=\"-147\" font-family=\"Times,serif\" font-size=\"10.00\">8</text>\n</g>\n<!-- l_G14 -->\n<g id=\"node14\" class=\"node\">\n<title>l_G14</title>\n<text text-anchor=\"middle\" x=\"285\" y=\"-68.3\" font-family=\"Times,serif\" font-size=\"14.00\">l</text>\n</g>\n<!-- PrepareUVFirstQuantization&#45;&gt;l_G14 -->\n<g id=\"edge13\" class=\"edge\">\n<title>PrepareUVFirstQuantization:e-&gt;l_G14:w</title>\n<path fill=\"none\" stroke=\"black\" d=\"M219,-138C252.05,-138 224.51,-75.06 254.72,-72.11\"/>\n<ellipse fill=\"black\" stroke=\"black\" cx=\"256\" cy=\"-72.05\" rx=\"1\" ry=\"1\"/>\n<text text-anchor=\"middle\" x=\"237.5\" y=\"-119\" font-family=\"Times,serif\" font-size=\"10.00\">4</text>\n</g>\n<!-- flag_nu_G19 -->\n<g id=\"node15\" class=\"node\">\n<title>flag_nu_G19</title>\n<text text-anchor=\"middle\" x=\"285\" y=\"-14.3\" font-family=\"Times,serif\" font-size=\"14.00\">flag_nu</text>\n</g>\n<!-- PrepareUVFirstQuantization&#45;&gt;flag_nu_G19 -->\n<g id=\"edge14\" class=\"edge\">\n<title>PrepareUVFirstQuantization:e-&gt;flag_nu_G19:w</title>\n<path fill=\"none\" stroke=\"black\" d=\"M219,-117C241.75,-117 233.1,-24.09 253.89,-18.28\"/>\n<ellipse fill=\"black\" stroke=\"black\" cx=\"255.01\" cy=\"-18.13\" rx=\"1\" ry=\"1\"/>\n<text text-anchor=\"middle\" x=\"237.5\" y=\"-74\" font-family=\"Times,serif\" font-size=\"10.00\">1</text>\n</g>\n</g>\n</svg>",
          "text/plain": "<IPython.core.display.SVG object>"
         },
         "metadata": {},
         "output_type": "display_data"
        }
       ],
       "tabbable": null,
       "tooltip": null
      }
     },
     "aa29e0e249c448e19e2c132283060c18": {
      "model_module": "@jupyter-widgets/output",
      "model_module_version": "1.0.0",
      "model_name": "OutputModel",
      "state": {
       "_dom_classes": [],
       "_model_module": "@jupyter-widgets/output",
       "_model_module_version": "1.0.0",
       "_model_name": "OutputModel",
       "_view_count": null,
       "_view_module": "@jupyter-widgets/output",
       "_view_module_version": "1.0.0",
       "_view_name": "OutputView",
       "layout": "IPY_MODEL_663fae48659e4386a32068fb40bc33bf",
       "msg_id": "",
       "outputs": [
        {
         "data": {
          "text/markdown": "`prep_first_quant`",
          "text/plain": "<IPython.core.display.Markdown object>"
         },
         "metadata": {},
         "output_type": "display_data"
        },
        {
         "data": {
          "image/svg+xml": "<svg xmlns=\"http://www.w3.org/2000/svg\" xmlns:xlink=\"http://www.w3.org/1999/xlink\" width=\"313pt\" height=\"800pt\" viewBox=\"0.00 0.00 313.00 800.00\">\n<g id=\"graph0\" class=\"graph\" transform=\"scale(1 1) rotate(0) translate(4 796)\">\n<title>my_graph</title>\n<polygon fill=\"white\" stroke=\"transparent\" points=\"-4,4 -4,-796 309,-796 309,4 -4,4\"/>\n<!-- tuv_G10 -->\n<g id=\"node1\" class=\"node\">\n<title>tuv_G10</title>\n<text text-anchor=\"middle\" x=\"30.5\" y=\"-770.3\" font-family=\"Times,serif\" font-size=\"14.00\">tuv</text>\n</g>\n<!-- PrepareFirstQuantization -->\n<g id=\"node16\" class=\"node\">\n<title>PrepareFirstQuantization</title>\n<polygon fill=\"none\" stroke=\"black\" points=\"98.5,-554 98.5,-571 207.5,-571 207.5,-554 98.5,-554\"/>\n<text text-anchor=\"start\" x=\"101.5\" y=\"-560\" font-family=\"Times,serif\" font-size=\"10.00\">PrepareFirstQuantization</text>\n<polygon fill=\"none\" stroke=\"black\" points=\"98.5,-533 98.5,-554 207.5,-554 207.5,-533 98.5,-533\"/>\n<text text-anchor=\"start\" x=\"144\" y=\"-539.8\" font-family=\"Times,serif\" font-size=\"14.00\">tuv</text>\n<polygon fill=\"none\" stroke=\"black\" points=\"98.5,-512 98.5,-533 207.5,-533 207.5,-512 98.5,-512\"/>\n<text text-anchor=\"start\" x=\"146\" y=\"-518.8\" font-family=\"Times,serif\" font-size=\"14.00\">uv</text>\n<polygon fill=\"none\" stroke=\"black\" points=\"98.5,-491 98.5,-512 207.5,-512 207.5,-491 98.5,-491\"/>\n<text text-anchor=\"start\" x=\"151\" y=\"-497.8\" font-family=\"Times,serif\" font-size=\"14.00\">i</text>\n<polygon fill=\"none\" stroke=\"black\" points=\"98.5,-470 98.5,-491 207.5,-491 207.5,-470 98.5,-470\"/>\n<text text-anchor=\"start\" x=\"151\" y=\"-476.8\" font-family=\"Times,serif\" font-size=\"14.00\">j</text>\n<polygon fill=\"none\" stroke=\"black\" points=\"98.5,-449 98.5,-470 207.5,-470 207.5,-449 98.5,-449\"/>\n<text text-anchor=\"start\" x=\"148\" y=\"-455.8\" font-family=\"Times,serif\" font-size=\"14.00\">w</text>\n<polygon fill=\"none\" stroke=\"black\" points=\"98.5,-428 98.5,-449 207.5,-449 207.5,-428 98.5,-428\"/>\n<text text-anchor=\"start\" x=\"150.5\" y=\"-434.8\" font-family=\"Times,serif\" font-size=\"14.00\">r</text>\n<polygon fill=\"none\" stroke=\"black\" points=\"98.5,-407 98.5,-428 207.5,-428 207.5,-407 98.5,-407\"/>\n<text text-anchor=\"start\" x=\"150\" y=\"-413.8\" font-family=\"Times,serif\" font-size=\"14.00\">s</text>\n<polygon fill=\"none\" stroke=\"black\" points=\"98.5,-386 98.5,-407 207.5,-407 207.5,-386 98.5,-386\"/>\n<text text-anchor=\"start\" x=\"143.5\" y=\"-392.8\" font-family=\"Times,serif\" font-size=\"14.00\">mu</text>\n<polygon fill=\"none\" stroke=\"black\" points=\"98.5,-365 98.5,-386 207.5,-386 207.5,-365 98.5,-365\"/>\n<text text-anchor=\"start\" x=\"139\" y=\"-371.8\" font-family=\"Times,serif\" font-size=\"14.00\">nu_x</text>\n<polygon fill=\"none\" stroke=\"black\" points=\"98.5,-344 98.5,-365 207.5,-365 207.5,-344 98.5,-344\"/>\n<text text-anchor=\"start\" x=\"139\" y=\"-350.8\" font-family=\"Times,serif\" font-size=\"14.00\">nu_y</text>\n<polygon fill=\"none\" stroke=\"black\" points=\"98.5,-323 98.5,-344 207.5,-344 207.5,-323 98.5,-323\"/>\n<text text-anchor=\"start\" x=\"139.5\" y=\"-329.8\" font-family=\"Times,serif\" font-size=\"14.00\">nu_z</text>\n<polygon fill=\"none\" stroke=\"black\" points=\"98.5,-302 98.5,-323 207.5,-323 207.5,-302 98.5,-302\"/>\n<text text-anchor=\"start\" x=\"147\" y=\"-308.8\" font-family=\"Times,serif\" font-size=\"14.00\">m</text>\n<polygon fill=\"none\" stroke=\"black\" points=\"98.5,-281 98.5,-302 207.5,-302 207.5,-281 98.5,-281\"/>\n<text text-anchor=\"start\" x=\"151\" y=\"-287.8\" font-family=\"Times,serif\" font-size=\"14.00\">l</text>\n<polygon fill=\"none\" stroke=\"black\" points=\"98.5,-260 98.5,-281 207.5,-281 207.5,-260 98.5,-260\"/>\n<text text-anchor=\"start\" x=\"130.5\" y=\"-266.8\" font-family=\"Times,serif\" font-size=\"14.00\">succ_nu</text>\n<polygon fill=\"none\" stroke=\"black\" points=\"98.5,-239 98.5,-260 207.5,-260 207.5,-239 98.5,-239\"/>\n<text text-anchor=\"start\" x=\"136\" y=\"-245.8\" font-family=\"Times,serif\" font-size=\"14.00\">plus_t</text>\n</g>\n<!-- tuv_G10&#45;&gt;PrepareFirstQuantization -->\n<g id=\"edge1\" class=\"edge\">\n<title>tuv_G10:e-&gt;PrepareFirstQuantization:w</title>\n<path fill=\"none\" stroke=\"black\" d=\"M58.5,-774C83.72,-774 72.72,-556.41 95.96,-544.51\"/>\n<ellipse fill=\"black\" stroke=\"black\" cx=\"97.03\" cy=\"-544.24\" rx=\"1\" ry=\"1\"/>\n<text text-anchor=\"middle\" x=\"79.5\" y=\"-648\" font-family=\"Times,serif\" font-size=\"10.00\">1</text>\n</g>\n<!-- uv_G32 -->\n<g id=\"node2\" class=\"node\">\n<title>uv_G32</title>\n<text text-anchor=\"middle\" x=\"30.5\" y=\"-716.3\" font-family=\"Times,serif\" font-size=\"14.00\">uv</text>\n</g>\n<!-- uv_G32&#45;&gt;PrepareFirstQuantization -->\n<g id=\"edge2\" class=\"edge\">\n<title>uv_G32:e-&gt;PrepareFirstQuantization:w</title>\n<path fill=\"none\" stroke=\"black\" d=\"M58.5,-720C80.13,-720 75.97,-535.12 95.99,-523.57\"/>\n<ellipse fill=\"black\" stroke=\"black\" cx=\"97.04\" cy=\"-523.27\" rx=\"1\" ry=\"1\"/>\n<text text-anchor=\"middle\" x=\"79.5\" y=\"-612\" font-family=\"Times,serif\" font-size=\"10.00\">1</text>\n</g>\n<!-- i_G9 -->\n<g id=\"node3\" class=\"node\">\n<title>i_G9</title>\n<text text-anchor=\"middle\" x=\"30.5\" y=\"-662.3\" font-family=\"Times,serif\" font-size=\"14.00\">i</text>\n</g>\n<!-- i_G9&#45;&gt;PrepareFirstQuantization -->\n<g id=\"edge3\" class=\"edge\">\n<title>i_G9:e-&gt;PrepareFirstQuantization:w</title>\n<path fill=\"none\" stroke=\"black\" d=\"M58.5,-666C76.51,-666 79.07,-514.56 95.88,-502.73\"/>\n<ellipse fill=\"black\" stroke=\"black\" cx=\"97.05\" cy=\"-502.33\" rx=\"1\" ry=\"1\"/>\n<text text-anchor=\"middle\" x=\"79.5\" y=\"-577\" font-family=\"Times,serif\" font-size=\"10.00\">4</text>\n</g>\n<!-- j_G13 -->\n<g id=\"node4\" class=\"node\">\n<title>j_G13</title>\n<text text-anchor=\"middle\" x=\"30.5\" y=\"-608.3\" font-family=\"Times,serif\" font-size=\"14.00\">j</text>\n</g>\n<!-- j_G13&#45;&gt;PrepareFirstQuantization -->\n<g id=\"edge4\" class=\"edge\">\n<title>j_G13:e-&gt;PrepareFirstQuantization:w</title>\n<path fill=\"none\" stroke=\"black\" d=\"M58.5,-612C65.63,-612 87.43,-496.86 96.39,-482.47\"/>\n<ellipse fill=\"black\" stroke=\"black\" cx=\"97.26\" cy=\"-481.67\" rx=\"1\" ry=\"1\"/>\n<text text-anchor=\"middle\" x=\"79.5\" y=\"-545\" font-family=\"Times,serif\" font-size=\"10.00\">4</text>\n</g>\n<!-- w_G1 -->\n<g id=\"node5\" class=\"node\">\n<title>w_G1</title>\n<text text-anchor=\"middle\" x=\"30.5\" y=\"-554.3\" font-family=\"Times,serif\" font-size=\"14.00\">w</text>\n</g>\n<!-- w_G1&#45;&gt;PrepareFirstQuantization -->\n<g id=\"edge5\" class=\"edge\">\n<title>w_G1:e-&gt;PrepareFirstQuantization:w</title>\n<path fill=\"none\" stroke=\"black\" d=\"M58.5,-558C104.73,-558 52.72,-463.04 95.87,-460.07\"/>\n<ellipse fill=\"black\" stroke=\"black\" cx=\"97\" cy=\"-460.03\" rx=\"1\" ry=\"1\"/>\n<text text-anchor=\"middle\" x=\"79.5\" y=\"-537\" font-family=\"Times,serif\" font-size=\"10.00\">2</text>\n</g>\n<!-- r_G36 -->\n<g id=\"node6\" class=\"node\">\n<title>r_G36</title>\n<text text-anchor=\"middle\" x=\"30.5\" y=\"-500.3\" font-family=\"Times,serif\" font-size=\"14.00\">r</text>\n</g>\n<!-- r_G36&#45;&gt;PrepareFirstQuantization -->\n<g id=\"edge6\" class=\"edge\">\n<title>r_G36:e-&gt;PrepareFirstQuantization:w</title>\n<path fill=\"none\" stroke=\"black\" d=\"M58.5,-504C91.51,-504 65.48,-442.01 95.72,-439.11\"/>\n<ellipse fill=\"black\" stroke=\"black\" cx=\"97\" cy=\"-439.05\" rx=\"1\" ry=\"1\"/>\n<text text-anchor=\"middle\" x=\"79.5\" y=\"-464\" font-family=\"Times,serif\" font-size=\"10.00\">6</text>\n</g>\n<!-- s_G19 -->\n<g id=\"node7\" class=\"node\">\n<title>s_G19</title>\n<text text-anchor=\"middle\" x=\"30.5\" y=\"-446.3\" font-family=\"Times,serif\" font-size=\"14.00\">s</text>\n</g>\n<!-- s_G19&#45;&gt;PrepareFirstQuantization -->\n<g id=\"edge7\" class=\"edge\">\n<title>s_G19:e-&gt;PrepareFirstQuantization:w</title>\n<path fill=\"none\" stroke=\"black\" d=\"M58.5,-450C80.39,-450 75.73,-419.97 95.96,-418.09\"/>\n<ellipse fill=\"black\" stroke=\"black\" cx=\"97\" cy=\"-418.05\" rx=\"1\" ry=\"1\"/>\n<text text-anchor=\"middle\" x=\"79.5\" y=\"-435\" font-family=\"Times,serif\" font-size=\"10.00\">6</text>\n</g>\n<!-- mu_G41 -->\n<g id=\"node8\" class=\"node\">\n<title>mu_G41</title>\n<text text-anchor=\"middle\" x=\"30.5\" y=\"-392.3\" font-family=\"Times,serif\" font-size=\"14.00\">mu</text>\n</g>\n<!-- mu_G41&#45;&gt;PrepareFirstQuantization -->\n<g id=\"edge8\" class=\"edge\">\n<title>mu_G41:e-&gt;PrepareFirstQuantization:w</title>\n<path fill=\"none\" stroke=\"black\" d=\"M58.5,-396C75.23,-396 80,-396 95.62,-396\"/>\n<ellipse fill=\"black\" stroke=\"black\" cx=\"97\" cy=\"-396\" rx=\"1\" ry=\"1\"/>\n<text text-anchor=\"middle\" x=\"79.5\" y=\"-399\" font-family=\"Times,serif\" font-size=\"10.00\">6</text>\n</g>\n<!-- nu_x_G39 -->\n<g id=\"node9\" class=\"node\">\n<title>nu_x_G39</title>\n<text text-anchor=\"middle\" x=\"30.5\" y=\"-338.3\" font-family=\"Times,serif\" font-size=\"14.00\">nu_x</text>\n</g>\n<!-- nu_x_G39&#45;&gt;PrepareFirstQuantization -->\n<g id=\"edge9\" class=\"edge\">\n<title>nu_x_G39:e-&gt;PrepareFirstQuantization:w</title>\n<path fill=\"none\" stroke=\"black\" d=\"M58.5,-342C80.66,-342 75.49,-372.97 95.94,-374.91\"/>\n<ellipse fill=\"black\" stroke=\"black\" cx=\"97\" cy=\"-374.95\" rx=\"1\" ry=\"1\"/>\n<text text-anchor=\"middle\" x=\"79.5\" y=\"-364\" font-family=\"Times,serif\" font-size=\"10.00\">7</text>\n</g>\n<!-- nu_y_G12 -->\n<g id=\"node10\" class=\"node\">\n<title>nu_y_G12</title>\n<text text-anchor=\"middle\" x=\"30.5\" y=\"-284.3\" font-family=\"Times,serif\" font-size=\"14.00\">nu_y</text>\n</g>\n<!-- nu_y_G12&#45;&gt;PrepareFirstQuantization -->\n<g id=\"edge10\" class=\"edge\">\n<title>nu_y_G12:e-&gt;PrepareFirstQuantization:w</title>\n<path fill=\"none\" stroke=\"black\" d=\"M58.5,-288C91.88,-288 65.13,-350.94 95.7,-353.89\"/>\n<ellipse fill=\"black\" stroke=\"black\" cx=\"97\" cy=\"-353.95\" rx=\"1\" ry=\"1\"/>\n<text text-anchor=\"middle\" x=\"79.5\" y=\"-337\" font-family=\"Times,serif\" font-size=\"10.00\">7</text>\n</g>\n<!-- nu_z_G18 -->\n<g id=\"node11\" class=\"node\">\n<title>nu_z_G18</title>\n<text text-anchor=\"middle\" x=\"30.5\" y=\"-230.3\" font-family=\"Times,serif\" font-size=\"14.00\">nu_z</text>\n</g>\n<!-- nu_z_G18&#45;&gt;PrepareFirstQuantization -->\n<g id=\"edge11\" class=\"edge\">\n<title>nu_z_G18:e-&gt;PrepareFirstQuantization:w</title>\n<path fill=\"none\" stroke=\"black\" d=\"M58.5,-234C105.13,-234 52.33,-329.93 95.85,-332.93\"/>\n<ellipse fill=\"black\" stroke=\"black\" cx=\"97\" cy=\"-332.97\" rx=\"1\" ry=\"1\"/>\n<text text-anchor=\"middle\" x=\"79.5\" y=\"-323\" font-family=\"Times,serif\" font-size=\"10.00\">7</text>\n</g>\n<!-- m_G2 -->\n<g id=\"node12\" class=\"node\">\n<title>m_G2</title>\n<text text-anchor=\"middle\" x=\"30.5\" y=\"-176.3\" font-family=\"Times,serif\" font-size=\"14.00\">m</text>\n</g>\n<!-- m_G2&#45;&gt;PrepareFirstQuantization -->\n<g id=\"edge12\" class=\"edge\">\n<title>m_G2:e-&gt;PrepareFirstQuantization:w</title>\n<path fill=\"none\" stroke=\"black\" d=\"M58.5,-180C59.38,-180 91.39,-292.18 97.14,-309.71\"/>\n<ellipse fill=\"black\" stroke=\"black\" cx=\"97.65\" cy=\"-311.06\" rx=\"1\" ry=\"1\"/>\n<text text-anchor=\"middle\" x=\"79.5\" y=\"-252\" font-family=\"Times,serif\" font-size=\"10.00\">8</text>\n</g>\n<!-- l_G5 -->\n<g id=\"node13\" class=\"node\">\n<title>l_G5</title>\n<text text-anchor=\"middle\" x=\"30.5\" y=\"-122.3\" font-family=\"Times,serif\" font-size=\"14.00\">l</text>\n</g>\n<!-- l_G5&#45;&gt;PrepareFirstQuantization -->\n<g id=\"edge13\" class=\"edge\">\n<title>l_G5:e-&gt;PrepareFirstQuantization:w</title>\n<path fill=\"none\" stroke=\"black\" d=\"M58.5,-126C76.61,-126 78.98,-278.36 95.87,-290.26\"/>\n<ellipse fill=\"black\" stroke=\"black\" cx=\"97.05\" cy=\"-290.67\" rx=\"1\" ry=\"1\"/>\n<text text-anchor=\"middle\" x=\"79.5\" y=\"-221\" font-family=\"Times,serif\" font-size=\"10.00\">4</text>\n</g>\n<!-- succ_nu_G40 -->\n<g id=\"node14\" class=\"node\">\n<title>succ_nu_G40</title>\n<text text-anchor=\"middle\" x=\"30.5\" y=\"-68.3\" font-family=\"Times,serif\" font-size=\"14.00\">succ_nu</text>\n</g>\n<!-- succ_nu_G40&#45;&gt;PrepareFirstQuantization -->\n<g id=\"edge14\" class=\"edge\">\n<title>succ_nu_G40:e-&gt;PrepareFirstQuantization:w</title>\n<path fill=\"none\" stroke=\"black\" d=\"M61,-72C82.68,-72 76.07,-257.82 95.99,-269.43\"/>\n<ellipse fill=\"black\" stroke=\"black\" cx=\"97.04\" cy=\"-269.73\" rx=\"1\" ry=\"1\"/>\n<text text-anchor=\"middle\" x=\"79.5\" y=\"-179\" font-family=\"Times,serif\" font-size=\"10.00\">1</text>\n</g>\n<!-- plus_t_G34 -->\n<g id=\"node15\" class=\"node\">\n<title>plus_t_G34</title>\n<text text-anchor=\"middle\" x=\"30.5\" y=\"-14.3\" font-family=\"Times,serif\" font-size=\"14.00\">plus_t</text>\n</g>\n<!-- plus_t_G34&#45;&gt;PrepareFirstQuantization -->\n<g id=\"edge15\" class=\"edge\">\n<title>plus_t_G34:e-&gt;PrepareFirstQuantization:w</title>\n<path fill=\"none\" stroke=\"black\" d=\"M58.5,-18C70.91,-18 83.72,-227.85 96.17,-247.52\"/>\n<ellipse fill=\"black\" stroke=\"black\" cx=\"97.22\" cy=\"-248.37\" rx=\"1\" ry=\"1\"/>\n<text text-anchor=\"middle\" x=\"79.5\" y=\"-151\" font-family=\"Times,serif\" font-size=\"10.00\">1</text>\n</g>\n<!-- tuv_G6 -->\n<g id=\"node17\" class=\"node\">\n<title>tuv_G6</title>\n<text text-anchor=\"middle\" x=\"274.5\" y=\"-770.3\" font-family=\"Times,serif\" font-size=\"14.00\">tuv</text>\n</g>\n<!-- PrepareFirstQuantization&#45;&gt;tuv_G6 -->\n<g id=\"edge16\" class=\"edge\">\n<title>PrepareFirstQuantization:e-&gt;tuv_G6:w</title>\n<path fill=\"none\" stroke=\"black\" d=\"M207,-544C232.22,-544 221.22,-761.59 244.46,-773.49\"/>\n<ellipse fill=\"black\" stroke=\"black\" cx=\"245.53\" cy=\"-773.76\" rx=\"1\" ry=\"1\"/>\n<text text-anchor=\"middle\" x=\"225.5\" y=\"-648\" font-family=\"Times,serif\" font-size=\"10.00\">1</text>\n</g>\n<!-- uv_G25 -->\n<g id=\"node18\" class=\"node\">\n<title>uv_G25</title>\n<text text-anchor=\"middle\" x=\"274.5\" y=\"-716.3\" font-family=\"Times,serif\" font-size=\"14.00\">uv</text>\n</g>\n<!-- PrepareFirstQuantization&#45;&gt;uv_G25 -->\n<g id=\"edge17\" class=\"edge\">\n<title>PrepareFirstQuantization:e-&gt;uv_G25:w</title>\n<path fill=\"none\" stroke=\"black\" d=\"M207,-523C228.63,-523 224.47,-707.88 244.49,-719.43\"/>\n<ellipse fill=\"black\" stroke=\"black\" cx=\"245.54\" cy=\"-719.73\" rx=\"1\" ry=\"1\"/>\n<text text-anchor=\"middle\" x=\"225.5\" y=\"-612\" font-family=\"Times,serif\" font-size=\"10.00\">1</text>\n</g>\n<!-- i_G3 -->\n<g id=\"node19\" class=\"node\">\n<title>i_G3</title>\n<text text-anchor=\"middle\" x=\"274.5\" y=\"-662.3\" font-family=\"Times,serif\" font-size=\"14.00\">i</text>\n</g>\n<!-- PrepareFirstQuantization&#45;&gt;i_G3 -->\n<g id=\"edge18\" class=\"edge\">\n<title>PrepareFirstQuantization:e-&gt;i_G3:w</title>\n<path fill=\"none\" stroke=\"black\" d=\"M207,-502C225.01,-502 227.57,-653.44 244.38,-665.27\"/>\n<ellipse fill=\"black\" stroke=\"black\" cx=\"245.55\" cy=\"-665.67\" rx=\"1\" ry=\"1\"/>\n<text text-anchor=\"middle\" x=\"225.5\" y=\"-577\" font-family=\"Times,serif\" font-size=\"10.00\">4</text>\n</g>\n<!-- j_G7 -->\n<g id=\"node20\" class=\"node\">\n<title>j_G7</title>\n<text text-anchor=\"middle\" x=\"274.5\" y=\"-608.3\" font-family=\"Times,serif\" font-size=\"14.00\">j</text>\n</g>\n<!-- PrepareFirstQuantization&#45;&gt;j_G7 -->\n<g id=\"edge19\" class=\"edge\">\n<title>PrepareFirstQuantization:e-&gt;j_G7:w</title>\n<path fill=\"none\" stroke=\"black\" d=\"M207,-481C214.13,-481 235.93,-596.14 244.89,-610.53\"/>\n<ellipse fill=\"black\" stroke=\"black\" cx=\"245.76\" cy=\"-611.33\" rx=\"1\" ry=\"1\"/>\n<text text-anchor=\"middle\" x=\"225.5\" y=\"-545\" font-family=\"Times,serif\" font-size=\"10.00\">4</text>\n</g>\n<!-- w_G38 -->\n<g id=\"node21\" class=\"node\">\n<title>w_G38</title>\n<text text-anchor=\"middle\" x=\"274.5\" y=\"-554.3\" font-family=\"Times,serif\" font-size=\"14.00\">w</text>\n</g>\n<!-- PrepareFirstQuantization&#45;&gt;w_G38 -->\n<g id=\"edge20\" class=\"edge\">\n<title>PrepareFirstQuantization:e-&gt;w_G38:w</title>\n<path fill=\"none\" stroke=\"black\" d=\"M207,-460C253.23,-460 201.22,-554.96 244.37,-557.93\"/>\n<ellipse fill=\"black\" stroke=\"black\" cx=\"245.5\" cy=\"-557.97\" rx=\"1\" ry=\"1\"/>\n<text text-anchor=\"middle\" x=\"225.5\" y=\"-537\" font-family=\"Times,serif\" font-size=\"10.00\">2</text>\n</g>\n<!-- r_G26 -->\n<g id=\"node22\" class=\"node\">\n<title>r_G26</title>\n<text text-anchor=\"middle\" x=\"274.5\" y=\"-500.3\" font-family=\"Times,serif\" font-size=\"14.00\">r</text>\n</g>\n<!-- PrepareFirstQuantization&#45;&gt;r_G26 -->\n<g id=\"edge21\" class=\"edge\">\n<title>PrepareFirstQuantization:e-&gt;r_G26:w</title>\n<path fill=\"none\" stroke=\"black\" d=\"M207,-439C240.01,-439 213.98,-500.99 244.22,-503.89\"/>\n<ellipse fill=\"black\" stroke=\"black\" cx=\"245.5\" cy=\"-503.95\" rx=\"1\" ry=\"1\"/>\n<text text-anchor=\"middle\" x=\"225.5\" y=\"-464\" font-family=\"Times,serif\" font-size=\"10.00\">6</text>\n</g>\n<!-- s_G8 -->\n<g id=\"node23\" class=\"node\">\n<title>s_G8</title>\n<text text-anchor=\"middle\" x=\"274.5\" y=\"-446.3\" font-family=\"Times,serif\" font-size=\"14.00\">s</text>\n</g>\n<!-- PrepareFirstQuantization&#45;&gt;s_G8 -->\n<g id=\"edge22\" class=\"edge\">\n<title>PrepareFirstQuantization:e-&gt;s_G8:w</title>\n<path fill=\"none\" stroke=\"black\" d=\"M207,-418C228.89,-418 224.23,-448.03 244.46,-449.91\"/>\n<ellipse fill=\"black\" stroke=\"black\" cx=\"245.5\" cy=\"-449.95\" rx=\"1\" ry=\"1\"/>\n<text text-anchor=\"middle\" x=\"225.5\" y=\"-435\" font-family=\"Times,serif\" font-size=\"10.00\">6</text>\n</g>\n<!-- mu_G30 -->\n<g id=\"node24\" class=\"node\">\n<title>mu_G30</title>\n<text text-anchor=\"middle\" x=\"274.5\" y=\"-392.3\" font-family=\"Times,serif\" font-size=\"14.00\">mu</text>\n</g>\n<!-- PrepareFirstQuantization&#45;&gt;mu_G30 -->\n<g id=\"edge23\" class=\"edge\">\n<title>PrepareFirstQuantization:e-&gt;mu_G30:w</title>\n<path fill=\"none\" stroke=\"black\" d=\"M207,-396C223.73,-396 228.5,-396 244.12,-396\"/>\n<ellipse fill=\"black\" stroke=\"black\" cx=\"245.5\" cy=\"-396\" rx=\"1\" ry=\"1\"/>\n<text text-anchor=\"middle\" x=\"225.5\" y=\"-399\" font-family=\"Times,serif\" font-size=\"10.00\">6</text>\n</g>\n<!-- nu_x_G28 -->\n<g id=\"node25\" class=\"node\">\n<title>nu_x_G28</title>\n<text text-anchor=\"middle\" x=\"274.5\" y=\"-338.3\" font-family=\"Times,serif\" font-size=\"14.00\">nu_x</text>\n</g>\n<!-- PrepareFirstQuantization&#45;&gt;nu_x_G28 -->\n<g id=\"edge24\" class=\"edge\">\n<title>PrepareFirstQuantization:e-&gt;nu_x_G28:w</title>\n<path fill=\"none\" stroke=\"black\" d=\"M207,-375C229.16,-375 223.99,-344.03 244.44,-342.09\"/>\n<ellipse fill=\"black\" stroke=\"black\" cx=\"245.5\" cy=\"-342.05\" rx=\"1\" ry=\"1\"/>\n<text text-anchor=\"middle\" x=\"225.5\" y=\"-364\" font-family=\"Times,serif\" font-size=\"10.00\">7</text>\n</g>\n<!-- nu_y_G4 -->\n<g id=\"node26\" class=\"node\">\n<title>nu_y_G4</title>\n<text text-anchor=\"middle\" x=\"274.5\" y=\"-284.3\" font-family=\"Times,serif\" font-size=\"14.00\">nu_y</text>\n</g>\n<!-- PrepareFirstQuantization&#45;&gt;nu_y_G4 -->\n<g id=\"edge25\" class=\"edge\">\n<title>PrepareFirstQuantization:e-&gt;nu_y_G4:w</title>\n<path fill=\"none\" stroke=\"black\" d=\"M207,-354C240.38,-354 213.63,-291.06 244.2,-288.11\"/>\n<ellipse fill=\"black\" stroke=\"black\" cx=\"245.5\" cy=\"-288.05\" rx=\"1\" ry=\"1\"/>\n<text text-anchor=\"middle\" x=\"225.5\" y=\"-337\" font-family=\"Times,serif\" font-size=\"10.00\">7</text>\n</g>\n<!-- nu_z_G11 -->\n<g id=\"node27\" class=\"node\">\n<title>nu_z_G11</title>\n<text text-anchor=\"middle\" x=\"274.5\" y=\"-230.3\" font-family=\"Times,serif\" font-size=\"14.00\">nu_z</text>\n</g>\n<!-- PrepareFirstQuantization&#45;&gt;nu_z_G11 -->\n<g id=\"edge26\" class=\"edge\">\n<title>PrepareFirstQuantization:e-&gt;nu_z_G11:w</title>\n<path fill=\"none\" stroke=\"black\" d=\"M207,-333C253.63,-333 200.83,-237.07 244.35,-234.07\"/>\n<ellipse fill=\"black\" stroke=\"black\" cx=\"245.5\" cy=\"-234.03\" rx=\"1\" ry=\"1\"/>\n<text text-anchor=\"middle\" x=\"225.5\" y=\"-323\" font-family=\"Times,serif\" font-size=\"10.00\">7</text>\n</g>\n<!-- m_G29 -->\n<g id=\"node28\" class=\"node\">\n<title>m_G29</title>\n<text text-anchor=\"middle\" x=\"274.5\" y=\"-176.3\" font-family=\"Times,serif\" font-size=\"14.00\">m</text>\n</g>\n<!-- PrepareFirstQuantization&#45;&gt;m_G29 -->\n<g id=\"edge27\" class=\"edge\">\n<title>PrepareFirstQuantization:e-&gt;m_G29:w</title>\n<path fill=\"none\" stroke=\"black\" d=\"M207,-312C207.88,-312 239.89,-199.82 245.64,-182.29\"/>\n<ellipse fill=\"black\" stroke=\"black\" cx=\"246.15\" cy=\"-180.94\" rx=\"1\" ry=\"1\"/>\n<text text-anchor=\"middle\" x=\"225.5\" y=\"-252\" font-family=\"Times,serif\" font-size=\"10.00\">8</text>\n</g>\n<!-- l_G42 -->\n<g id=\"node29\" class=\"node\">\n<title>l_G42</title>\n<text text-anchor=\"middle\" x=\"274.5\" y=\"-122.3\" font-family=\"Times,serif\" font-size=\"14.00\">l</text>\n</g>\n<!-- PrepareFirstQuantization&#45;&gt;l_G42 -->\n<g id=\"edge28\" class=\"edge\">\n<title>PrepareFirstQuantization:e-&gt;l_G42:w</title>\n<path fill=\"none\" stroke=\"black\" d=\"M207,-291C225.11,-291 227.48,-138.64 244.37,-126.74\"/>\n<ellipse fill=\"black\" stroke=\"black\" cx=\"245.55\" cy=\"-126.33\" rx=\"1\" ry=\"1\"/>\n<text text-anchor=\"middle\" x=\"225.5\" y=\"-221\" font-family=\"Times,serif\" font-size=\"10.00\">4</text>\n</g>\n<!-- succ_nu_G27 -->\n<g id=\"node30\" class=\"node\">\n<title>succ_nu_G27</title>\n<text text-anchor=\"middle\" x=\"274.5\" y=\"-68.3\" font-family=\"Times,serif\" font-size=\"14.00\">succ_nu</text>\n</g>\n<!-- PrepareFirstQuantization&#45;&gt;succ_nu_G27 -->\n<g id=\"edge29\" class=\"edge\">\n<title>PrepareFirstQuantization:e-&gt;succ_nu_G27:w</title>\n<path fill=\"none\" stroke=\"black\" d=\"M207,-270C228.68,-270 222.07,-84.18 241.99,-72.57\"/>\n<ellipse fill=\"black\" stroke=\"black\" cx=\"243.04\" cy=\"-72.27\" rx=\"1\" ry=\"1\"/>\n<text text-anchor=\"middle\" x=\"225.5\" y=\"-179\" font-family=\"Times,serif\" font-size=\"10.00\">1</text>\n</g>\n<!-- plus_t_G24 -->\n<g id=\"node31\" class=\"node\">\n<title>plus_t_G24</title>\n<text text-anchor=\"middle\" x=\"274.5\" y=\"-14.3\" font-family=\"Times,serif\" font-size=\"14.00\">plus_t</text>\n</g>\n<!-- PrepareFirstQuantization&#45;&gt;plus_t_G24 -->\n<g id=\"edge30\" class=\"edge\">\n<title>PrepareFirstQuantization:e-&gt;plus_t_G24:w</title>\n<path fill=\"none\" stroke=\"black\" d=\"M207,-249C219.41,-249 232.22,-39.15 244.67,-19.48\"/>\n<ellipse fill=\"black\" stroke=\"black\" cx=\"245.72\" cy=\"-18.63\" rx=\"1\" ry=\"1\"/>\n<text text-anchor=\"middle\" x=\"225.5\" y=\"-151\" font-family=\"Times,serif\" font-size=\"10.00\">1</text>\n</g>\n</g>\n</svg>",
          "text/plain": "<IPython.core.display.SVG object>"
         },
         "metadata": {},
         "output_type": "display_data"
        }
       ],
       "tabbable": null,
       "tooltip": null
      }
     },
     "ae2047a3078b45ffb2ca45e89ce72f47": {
      "model_module": "@jupyter-widgets/output",
      "model_module_version": "1.0.0",
      "model_name": "OutputModel",
      "state": {
       "_dom_classes": [],
       "_model_module": "@jupyter-widgets/output",
       "_model_module_version": "1.0.0",
       "_model_name": "OutputModel",
       "_view_count": null,
       "_view_module": "@jupyter-widgets/output",
       "_view_module_version": "1.0.0",
       "_view_name": "OutputView",
       "layout": "IPY_MODEL_c17a90d26be14af2a1851430294b0970",
       "msg_id": "",
       "outputs": [
        {
         "data": {
          "text/markdown": "`select_t`",
          "text/plain": "<IPython.core.display.Markdown object>"
         },
         "metadata": {},
         "output_type": "display_data"
        },
        {
         "data": {
          "image/svg+xml": "<svg xmlns=\"http://www.w3.org/2000/svg\" xmlns:xlink=\"http://www.w3.org/1999/xlink\" width=\"299pt\" height=\"422pt\" viewBox=\"0.00 0.00 299.00 422.00\">\n<g id=\"graph0\" class=\"graph\" transform=\"scale(1 1) rotate(0) translate(4 418)\">\n<title>my_graph</title>\n<polygon fill=\"white\" stroke=\"transparent\" points=\"-4,4 -4,-418 295,-418 295,4 -4,4\"/>\n<!-- flag_T_G4 -->\n<g id=\"node1\" class=\"node\">\n<title>flag_T_G4</title>\n<text text-anchor=\"middle\" x=\"27\" y=\"-392.3\" font-family=\"Times,serif\" font-size=\"14.00\">flag_T</text>\n</g>\n<!-- SelectTFirstQuantization -->\n<g id=\"node9\" class=\"node\">\n<title>SelectTFirstQuantization</title>\n<polygon fill=\"none\" stroke=\"black\" points=\"91.5,-291 91.5,-308 200.5,-308 200.5,-291 91.5,-291\"/>\n<text text-anchor=\"start\" x=\"94.5\" y=\"-297\" font-family=\"Times,serif\" font-size=\"10.00\">SelectTFirstQuantization</text>\n<polygon fill=\"none\" stroke=\"black\" points=\"91.5,-270 91.5,-291 200.5,-291 200.5,-270 91.5,-270\"/>\n<text text-anchor=\"start\" x=\"127.5\" y=\"-276.8\" font-family=\"Times,serif\" font-size=\"14.00\">flag_T</text>\n<polygon fill=\"none\" stroke=\"black\" points=\"91.5,-249 91.5,-270 200.5,-270 200.5,-249 91.5,-249\"/>\n<text text-anchor=\"start\" x=\"134.5\" y=\"-255.8\" font-family=\"Times,serif\" font-size=\"14.00\">plus</text>\n<polygon fill=\"none\" stroke=\"black\" points=\"91.5,-228 91.5,-249 200.5,-249 200.5,-228 91.5,-228\"/>\n<text text-anchor=\"start\" x=\"141\" y=\"-234.8\" font-family=\"Times,serif\" font-size=\"14.00\">w</text>\n<polygon fill=\"none\" stroke=\"black\" points=\"91.5,-207 91.5,-228 200.5,-228 200.5,-207 91.5,-207\"/>\n<text text-anchor=\"start\" x=\"143.5\" y=\"-213.8\" font-family=\"Times,serif\" font-size=\"14.00\">r</text>\n<polygon fill=\"none\" stroke=\"black\" points=\"91.5,-186 91.5,-207 200.5,-207 200.5,-186 91.5,-186\"/>\n<text text-anchor=\"start\" x=\"143\" y=\"-192.8\" font-family=\"Times,serif\" font-size=\"14.00\">s</text>\n<polygon fill=\"none\" stroke=\"black\" points=\"91.5,-165 91.5,-186 200.5,-186 200.5,-165 91.5,-165\"/>\n<text text-anchor=\"start\" x=\"134.5\" y=\"-171.8\" font-family=\"Times,serif\" font-size=\"14.00\">p[0]</text>\n<polygon fill=\"none\" stroke=\"black\" points=\"91.5,-144 91.5,-165 200.5,-165 200.5,-144 91.5,-144\"/>\n<text text-anchor=\"start\" x=\"134.5\" y=\"-150.8\" font-family=\"Times,serif\" font-size=\"14.00\">p[1]</text>\n<polygon fill=\"none\" stroke=\"black\" points=\"91.5,-123 91.5,-144 200.5,-144 200.5,-123 91.5,-123\"/>\n<text text-anchor=\"start\" x=\"134.5\" y=\"-129.8\" font-family=\"Times,serif\" font-size=\"14.00\">p[2]</text>\n</g>\n<!-- flag_T_G4&#45;&gt;SelectTFirstQuantization -->\n<g id=\"edge1\" class=\"edge\">\n<title>flag_T_G4:e-&gt;SelectTFirstQuantization:w</title>\n<path fill=\"none\" stroke=\"black\" d=\"M54,-396C80.11,-396 65.03,-287.2 88.89,-281.25\"/>\n<ellipse fill=\"black\" stroke=\"black\" cx=\"90.01\" cy=\"-281.12\" rx=\"1\" ry=\"1\"/>\n<text text-anchor=\"middle\" x=\"72.5\" y=\"-344\" font-family=\"Times,serif\" font-size=\"10.00\">1</text>\n</g>\n<!-- plus_G2 -->\n<g id=\"node2\" class=\"node\">\n<title>plus_G2</title>\n<text text-anchor=\"middle\" x=\"27\" y=\"-338.3\" font-family=\"Times,serif\" font-size=\"14.00\">plus</text>\n</g>\n<!-- plus_G2&#45;&gt;SelectTFirstQuantization -->\n<g id=\"edge2\" class=\"edge\">\n<title>plus_G2:e-&gt;SelectTFirstQuantization:w</title>\n<path fill=\"none\" stroke=\"black\" d=\"M54,-342C93.2,-342 52.66,-263.17 88.75,-260.09\"/>\n<ellipse fill=\"black\" stroke=\"black\" cx=\"90\" cy=\"-260.04\" rx=\"1\" ry=\"1\"/>\n<text text-anchor=\"middle\" x=\"72.5\" y=\"-327\" font-family=\"Times,serif\" font-size=\"10.00\">1</text>\n</g>\n<!-- w_G21 -->\n<g id=\"node3\" class=\"node\">\n<title>w_G21</title>\n<text text-anchor=\"middle\" x=\"27\" y=\"-284.3\" font-family=\"Times,serif\" font-size=\"14.00\">w</text>\n</g>\n<!-- w_G21&#45;&gt;SelectTFirstQuantization -->\n<g id=\"edge3\" class=\"edge\">\n<title>w_G21:e-&gt;SelectTFirstQuantization:w</title>\n<path fill=\"none\" stroke=\"black\" d=\"M54,-288C80.54,-288 64.64,-241.64 88.86,-239.11\"/>\n<ellipse fill=\"black\" stroke=\"black\" cx=\"90\" cy=\"-239.05\" rx=\"1\" ry=\"1\"/>\n<text text-anchor=\"middle\" x=\"72.5\" y=\"-267\" font-family=\"Times,serif\" font-size=\"10.00\">3</text>\n</g>\n<!-- r_G10 -->\n<g id=\"node4\" class=\"node\">\n<title>r_G10</title>\n<text text-anchor=\"middle\" x=\"27\" y=\"-230.3\" font-family=\"Times,serif\" font-size=\"14.00\">r</text>\n</g>\n<!-- r_G10&#45;&gt;SelectTFirstQuantization -->\n<g id=\"edge4\" class=\"edge\">\n<title>r_G10:e-&gt;SelectTFirstQuantization:w</title>\n<path fill=\"none\" stroke=\"black\" d=\"M54,-234C71.22,-234 72.97,-219.23 88.98,-218.07\"/>\n<ellipse fill=\"black\" stroke=\"black\" cx=\"90\" cy=\"-218.04\" rx=\"1\" ry=\"1\"/>\n<text text-anchor=\"middle\" x=\"72.5\" y=\"-229\" font-family=\"Times,serif\" font-size=\"10.00\">5</text>\n</g>\n<!-- s_G22 -->\n<g id=\"node5\" class=\"node\">\n<title>s_G22</title>\n<text text-anchor=\"middle\" x=\"27\" y=\"-176.3\" font-family=\"Times,serif\" font-size=\"14.00\">s</text>\n</g>\n<!-- s_G22&#45;&gt;SelectTFirstQuantization -->\n<g id=\"edge5\" class=\"edge\">\n<title>s_G22:e-&gt;SelectTFirstQuantization:w</title>\n<path fill=\"none\" stroke=\"black\" d=\"M54,-180C71.22,-180 72.97,-194.77 88.98,-195.93\"/>\n<ellipse fill=\"black\" stroke=\"black\" cx=\"90\" cy=\"-195.96\" rx=\"1\" ry=\"1\"/>\n<text text-anchor=\"middle\" x=\"72.5\" y=\"-191\" font-family=\"Times,serif\" font-size=\"10.00\">5</text>\n</g>\n<!-- p_G3 -->\n<g id=\"node6\" class=\"node\">\n<title>p_G3</title>\n<text text-anchor=\"middle\" x=\"27\" y=\"-122.3\" font-family=\"Times,serif\" font-size=\"14.00\">p[0]</text>\n</g>\n<!-- p_G3&#45;&gt;SelectTFirstQuantization -->\n<g id=\"edge6\" class=\"edge\">\n<title>p_G3:e-&gt;SelectTFirstQuantization:w</title>\n<path fill=\"none\" stroke=\"black\" d=\"M54,-126C80.54,-126 64.64,-172.36 88.86,-174.89\"/>\n<ellipse fill=\"black\" stroke=\"black\" cx=\"90\" cy=\"-174.95\" rx=\"1\" ry=\"1\"/>\n<text text-anchor=\"middle\" x=\"72.5\" y=\"-154\" font-family=\"Times,serif\" font-size=\"10.00\">5</text>\n</g>\n<!-- p_G0 -->\n<g id=\"node7\" class=\"node\">\n<title>p_G0</title>\n<text text-anchor=\"middle\" x=\"27\" y=\"-68.3\" font-family=\"Times,serif\" font-size=\"14.00\">p[1]</text>\n</g>\n<!-- p_G0&#45;&gt;SelectTFirstQuantization -->\n<g id=\"edge7\" class=\"edge\">\n<title>p_G0:e-&gt;SelectTFirstQuantization:w</title>\n<path fill=\"none\" stroke=\"black\" d=\"M54,-72C93.2,-72 52.66,-150.83 88.75,-153.91\"/>\n<ellipse fill=\"black\" stroke=\"black\" cx=\"90\" cy=\"-153.96\" rx=\"1\" ry=\"1\"/>\n<text text-anchor=\"middle\" x=\"72.5\" y=\"-139\" font-family=\"Times,serif\" font-size=\"10.00\">5</text>\n</g>\n<!-- p_G5 -->\n<g id=\"node8\" class=\"node\">\n<title>p_G5</title>\n<text text-anchor=\"middle\" x=\"27\" y=\"-14.3\" font-family=\"Times,serif\" font-size=\"14.00\">p[2]</text>\n</g>\n<!-- p_G5&#45;&gt;SelectTFirstQuantization -->\n<g id=\"edge8\" class=\"edge\">\n<title>p_G5:e-&gt;SelectTFirstQuantization:w</title>\n<path fill=\"none\" stroke=\"black\" d=\"M54,-18C80.11,-18 65.03,-126.8 88.89,-132.75\"/>\n<ellipse fill=\"black\" stroke=\"black\" cx=\"90.01\" cy=\"-132.88\" rx=\"1\" ry=\"1\"/>\n<text text-anchor=\"middle\" x=\"72.5\" y=\"-82\" font-family=\"Times,serif\" font-size=\"10.00\">5</text>\n</g>\n<!-- flag_T_G20 -->\n<g id=\"node10\" class=\"node\">\n<title>flag_T_G20</title>\n<text text-anchor=\"middle\" x=\"264\" y=\"-392.3\" font-family=\"Times,serif\" font-size=\"14.00\">flag_T</text>\n</g>\n<!-- SelectTFirstQuantization&#45;&gt;flag_T_G20 -->\n<g id=\"edge9\" class=\"edge\">\n<title>SelectTFirstQuantization:e-&gt;flag_T_G20:w</title>\n<path fill=\"none\" stroke=\"black\" d=\"M200,-281C226.11,-281 211.03,-389.8 234.89,-395.75\"/>\n<ellipse fill=\"black\" stroke=\"black\" cx=\"236.01\" cy=\"-395.88\" rx=\"1\" ry=\"1\"/>\n<text text-anchor=\"middle\" x=\"218.5\" y=\"-344\" font-family=\"Times,serif\" font-size=\"10.00\">1</text>\n</g>\n<!-- plus_G19 -->\n<g id=\"node11\" class=\"node\">\n<title>plus_G19</title>\n<text text-anchor=\"middle\" x=\"264\" y=\"-338.3\" font-family=\"Times,serif\" font-size=\"14.00\">plus</text>\n</g>\n<!-- SelectTFirstQuantization&#45;&gt;plus_G19 -->\n<g id=\"edge10\" class=\"edge\">\n<title>SelectTFirstQuantization:e-&gt;plus_G19:w</title>\n<path fill=\"none\" stroke=\"black\" d=\"M200,-260C239.2,-260 198.66,-338.83 234.75,-341.91\"/>\n<ellipse fill=\"black\" stroke=\"black\" cx=\"236\" cy=\"-341.96\" rx=\"1\" ry=\"1\"/>\n<text text-anchor=\"middle\" x=\"218.5\" y=\"-327\" font-family=\"Times,serif\" font-size=\"10.00\">1</text>\n</g>\n<!-- w_G7 -->\n<g id=\"node12\" class=\"node\">\n<title>w_G7</title>\n<text text-anchor=\"middle\" x=\"264\" y=\"-284.3\" font-family=\"Times,serif\" font-size=\"14.00\">w</text>\n</g>\n<!-- SelectTFirstQuantization&#45;&gt;w_G7 -->\n<g id=\"edge11\" class=\"edge\">\n<title>SelectTFirstQuantization:e-&gt;w_G7:w</title>\n<path fill=\"none\" stroke=\"black\" d=\"M200,-239C226.54,-239 210.64,-285.36 234.86,-287.89\"/>\n<ellipse fill=\"black\" stroke=\"black\" cx=\"236\" cy=\"-287.95\" rx=\"1\" ry=\"1\"/>\n<text text-anchor=\"middle\" x=\"218.5\" y=\"-267\" font-family=\"Times,serif\" font-size=\"10.00\">3</text>\n</g>\n<!-- r_G1 -->\n<g id=\"node13\" class=\"node\">\n<title>r_G1</title>\n<text text-anchor=\"middle\" x=\"264\" y=\"-230.3\" font-family=\"Times,serif\" font-size=\"14.00\">r</text>\n</g>\n<!-- SelectTFirstQuantization&#45;&gt;r_G1 -->\n<g id=\"edge12\" class=\"edge\">\n<title>SelectTFirstQuantization:e-&gt;r_G1:w</title>\n<path fill=\"none\" stroke=\"black\" d=\"M200,-218C217.22,-218 218.97,-232.77 234.98,-233.93\"/>\n<ellipse fill=\"black\" stroke=\"black\" cx=\"236\" cy=\"-233.96\" rx=\"1\" ry=\"1\"/>\n<text text-anchor=\"middle\" x=\"218.5\" y=\"-229\" font-family=\"Times,serif\" font-size=\"10.00\">5</text>\n</g>\n<!-- s_G17 -->\n<g id=\"node14\" class=\"node\">\n<title>s_G17</title>\n<text text-anchor=\"middle\" x=\"264\" y=\"-176.3\" font-family=\"Times,serif\" font-size=\"14.00\">s</text>\n</g>\n<!-- SelectTFirstQuantization&#45;&gt;s_G17 -->\n<g id=\"edge13\" class=\"edge\">\n<title>SelectTFirstQuantization:e-&gt;s_G17:w</title>\n<path fill=\"none\" stroke=\"black\" d=\"M200,-196C217.22,-196 218.97,-181.23 234.98,-180.07\"/>\n<ellipse fill=\"black\" stroke=\"black\" cx=\"236\" cy=\"-180.04\" rx=\"1\" ry=\"1\"/>\n<text text-anchor=\"middle\" x=\"218.5\" y=\"-191\" font-family=\"Times,serif\" font-size=\"10.00\">5</text>\n</g>\n<!-- p_G13 -->\n<g id=\"node15\" class=\"node\">\n<title>p_G13</title>\n<text text-anchor=\"middle\" x=\"264\" y=\"-122.3\" font-family=\"Times,serif\" font-size=\"14.00\">p[0]</text>\n</g>\n<!-- SelectTFirstQuantization&#45;&gt;p_G13 -->\n<g id=\"edge14\" class=\"edge\">\n<title>SelectTFirstQuantization:e-&gt;p_G13:w</title>\n<path fill=\"none\" stroke=\"black\" d=\"M200,-175C226.54,-175 210.64,-128.64 234.86,-126.11\"/>\n<ellipse fill=\"black\" stroke=\"black\" cx=\"236\" cy=\"-126.05\" rx=\"1\" ry=\"1\"/>\n<text text-anchor=\"middle\" x=\"218.5\" y=\"-154\" font-family=\"Times,serif\" font-size=\"10.00\">5</text>\n</g>\n<!-- p_G9 -->\n<g id=\"node16\" class=\"node\">\n<title>p_G9</title>\n<text text-anchor=\"middle\" x=\"264\" y=\"-68.3\" font-family=\"Times,serif\" font-size=\"14.00\">p[1]</text>\n</g>\n<!-- SelectTFirstQuantization&#45;&gt;p_G9 -->\n<g id=\"edge15\" class=\"edge\">\n<title>SelectTFirstQuantization:e-&gt;p_G9:w</title>\n<path fill=\"none\" stroke=\"black\" d=\"M200,-154C239.2,-154 198.66,-75.17 234.75,-72.09\"/>\n<ellipse fill=\"black\" stroke=\"black\" cx=\"236\" cy=\"-72.04\" rx=\"1\" ry=\"1\"/>\n<text text-anchor=\"middle\" x=\"218.5\" y=\"-139\" font-family=\"Times,serif\" font-size=\"10.00\">5</text>\n</g>\n<!-- p_G15 -->\n<g id=\"node17\" class=\"node\">\n<title>p_G15</title>\n<text text-anchor=\"middle\" x=\"264\" y=\"-14.3\" font-family=\"Times,serif\" font-size=\"14.00\">p[2]</text>\n</g>\n<!-- SelectTFirstQuantization&#45;&gt;p_G15 -->\n<g id=\"edge16\" class=\"edge\">\n<title>SelectTFirstQuantization:e-&gt;p_G15:w</title>\n<path fill=\"none\" stroke=\"black\" d=\"M200,-133C226.11,-133 211.03,-24.2 234.89,-18.25\"/>\n<ellipse fill=\"black\" stroke=\"black\" cx=\"236.01\" cy=\"-18.12\" rx=\"1\" ry=\"1\"/>\n<text text-anchor=\"middle\" x=\"218.5\" y=\"-82\" font-family=\"Times,serif\" font-size=\"10.00\">5</text>\n</g>\n</g>\n</svg>",
          "text/plain": "<IPython.core.display.SVG object>"
         },
         "metadata": {},
         "output_type": "display_data"
        }
       ],
       "tabbable": null,
       "tooltip": null
      }
     },
     "c17a90d26be14af2a1851430294b0970": {
      "model_module": "@jupyter-widgets/base",
      "model_module_version": "2.0.0",
      "model_name": "LayoutModel",
      "state": {
       "_model_module": "@jupyter-widgets/base",
       "_model_module_version": "2.0.0",
       "_model_name": "LayoutModel",
       "_view_count": null,
       "_view_module": "@jupyter-widgets/base",
       "_view_module_version": "2.0.0",
       "_view_name": "LayoutView",
       "align_content": null,
       "align_items": null,
       "align_self": null,
       "border_bottom": null,
       "border_left": null,
       "border_right": null,
       "border_top": null,
       "bottom": null,
       "display": null,
       "flex": null,
       "flex_flow": null,
       "grid_area": null,
       "grid_auto_columns": null,
       "grid_auto_flow": null,
       "grid_auto_rows": null,
       "grid_column": null,
       "grid_gap": null,
       "grid_row": null,
       "grid_template_areas": null,
       "grid_template_columns": null,
       "grid_template_rows": null,
       "height": null,
       "justify_content": null,
       "justify_items": null,
       "left": null,
       "margin": null,
       "max_height": null,
       "max_width": null,
       "min_height": null,
       "min_width": null,
       "object_fit": null,
       "object_position": null,
       "order": null,
       "overflow": null,
       "padding": null,
       "right": null,
       "top": null,
       "visibility": null,
       "width": null
      }
     },
     "c9108c0abe954dda9d9b178867f34d5d": {
      "model_module": "@jupyter-widgets/base",
      "model_module_version": "2.0.0",
      "model_name": "LayoutModel",
      "state": {
       "_model_module": "@jupyter-widgets/base",
       "_model_module_version": "2.0.0",
       "_model_name": "LayoutModel",
       "_view_count": null,
       "_view_module": "@jupyter-widgets/base",
       "_view_module_version": "2.0.0",
       "_view_name": "LayoutView",
       "align_content": null,
       "align_items": null,
       "align_self": null,
       "border_bottom": null,
       "border_left": null,
       "border_right": null,
       "border_top": null,
       "bottom": null,
       "display": null,
       "flex": null,
       "flex_flow": null,
       "grid_area": null,
       "grid_auto_columns": null,
       "grid_auto_flow": null,
       "grid_auto_rows": null,
       "grid_column": null,
       "grid_gap": null,
       "grid_row": null,
       "grid_template_areas": null,
       "grid_template_columns": null,
       "grid_template_rows": null,
       "height": null,
       "justify_content": null,
       "justify_items": null,
       "left": null,
       "margin": null,
       "max_height": null,
       "max_width": null,
       "min_height": null,
       "min_width": null,
       "object_fit": null,
       "object_position": null,
       "order": null,
       "overflow": null,
       "padding": null,
       "right": null,
       "top": null,
       "visibility": null,
       "width": null
      }
     },
     "c9d1ed45d35845dc8557eceb77bbc990": {
      "model_module": "@jupyter-widgets/base",
      "model_module_version": "2.0.0",
      "model_name": "LayoutModel",
      "state": {
       "_model_module": "@jupyter-widgets/base",
       "_model_module_version": "2.0.0",
       "_model_name": "LayoutModel",
       "_view_count": null,
       "_view_module": "@jupyter-widgets/base",
       "_view_module_version": "2.0.0",
       "_view_name": "LayoutView",
       "align_content": null,
       "align_items": null,
       "align_self": null,
       "border_bottom": null,
       "border_left": null,
       "border_right": null,
       "border_top": null,
       "bottom": null,
       "display": null,
       "flex": null,
       "flex_flow": null,
       "grid_area": null,
       "grid_auto_columns": null,
       "grid_auto_flow": null,
       "grid_auto_rows": null,
       "grid_column": null,
       "grid_gap": null,
       "grid_row": null,
       "grid_template_areas": null,
       "grid_template_columns": null,
       "grid_template_rows": null,
       "height": null,
       "justify_content": null,
       "justify_items": null,
       "left": null,
       "margin": null,
       "max_height": null,
       "max_width": null,
       "min_height": null,
       "min_width": null,
       "object_fit": null,
       "object_position": null,
       "order": null,
       "overflow": null,
       "padding": null,
       "right": null,
       "top": null,
       "visibility": null,
       "width": null
      }
     },
     "cade74e53c824fe185359a90f32d2376": {
      "model_module": "@jupyter-widgets/output",
      "model_module_version": "1.0.0",
      "model_name": "OutputModel",
      "state": {
       "_dom_classes": [],
       "_model_module": "@jupyter-widgets/output",
       "_model_module_version": "1.0.0",
       "_model_name": "OutputModel",
       "_view_count": null,
       "_view_module": "@jupyter-widgets/output",
       "_view_module_version": "1.0.0",
       "_view_name": "OutputView",
       "layout": "IPY_MODEL_78e858535d5d4f4098f6d017928d069b",
       "msg_id": "",
       "outputs": [
        {
         "data": {
          "text/markdown": "`select_uv`",
          "text/plain": "<IPython.core.display.Markdown object>"
         },
         "metadata": {},
         "output_type": "display_data"
        },
        {
         "data": {
          "image/svg+xml": "<svg xmlns=\"http://www.w3.org/2000/svg\" xmlns:xlink=\"http://www.w3.org/1999/xlink\" width=\"324pt\" height=\"692pt\" viewBox=\"0.00 0.00 324.00 692.00\">\n<g id=\"graph0\" class=\"graph\" transform=\"scale(1 1) rotate(0) translate(4 688)\">\n<title>my_graph</title>\n<polygon fill=\"white\" stroke=\"transparent\" points=\"-4,4 -4,-688 320,-688 320,4 -4,4\"/>\n<!-- flag_tuv_G21 -->\n<g id=\"node1\" class=\"node\">\n<title>flag_tuv_G21</title>\n<text text-anchor=\"middle\" x=\"31\" y=\"-662.3\" font-family=\"Times,serif\" font-size=\"14.00\">flag_tuv</text>\n</g>\n<!-- SelectUVFirstQuantization -->\n<g id=\"node14\" class=\"node\">\n<title>SelectUVFirstQuantization</title>\n<polygon fill=\"none\" stroke=\"black\" points=\"99,-479 99,-496 217,-496 217,-479 99,-479\"/>\n<text text-anchor=\"start\" x=\"102\" y=\"-485\" font-family=\"Times,serif\" font-size=\"10.00\">SelectUVFirstQuantization</text>\n<polygon fill=\"none\" stroke=\"black\" points=\"99,-458 99,-479 217,-479 217,-458 99,-458\"/>\n<text text-anchor=\"start\" x=\"135\" y=\"-464.8\" font-family=\"Times,serif\" font-size=\"14.00\">flag_tuv</text>\n<polygon fill=\"none\" stroke=\"black\" points=\"99,-437 99,-458 217,-458 217,-437 99,-437\"/>\n<text text-anchor=\"start\" x=\"137\" y=\"-443.8\" font-family=\"Times,serif\" font-size=\"14.00\">flag_uv</text>\n<polygon fill=\"none\" stroke=\"black\" points=\"99,-416 99,-437 217,-437 217,-416 99,-416\"/>\n<text text-anchor=\"start\" x=\"156\" y=\"-422.8\" font-family=\"Times,serif\" font-size=\"14.00\">l</text>\n<polygon fill=\"none\" stroke=\"black\" points=\"99,-395 99,-416 217,-416 217,-395 99,-395\"/>\n<text text-anchor=\"start\" x=\"153.5\" y=\"-401.8\" font-family=\"Times,serif\" font-size=\"14.00\">rl</text>\n<polygon fill=\"none\" stroke=\"black\" points=\"99,-374 99,-395 217,-395 217,-374 99,-374\"/>\n<text text-anchor=\"start\" x=\"143\" y=\"-380.8\" font-family=\"Times,serif\" font-size=\"14.00\">nu[0]</text>\n<polygon fill=\"none\" stroke=\"black\" points=\"99,-353 99,-374 217,-374 217,-353 99,-353\"/>\n<text text-anchor=\"start\" x=\"143\" y=\"-359.8\" font-family=\"Times,serif\" font-size=\"14.00\">nu[1]</text>\n<polygon fill=\"none\" stroke=\"black\" points=\"99,-332 99,-353 217,-353 217,-332 99,-332\"/>\n<text text-anchor=\"start\" x=\"143\" y=\"-338.8\" font-family=\"Times,serif\" font-size=\"14.00\">nu[2]</text>\n<polygon fill=\"none\" stroke=\"black\" points=\"99,-311 99,-332 217,-332 217,-311 99,-311\"/>\n<text text-anchor=\"start\" x=\"146.5\" y=\"-317.8\" font-family=\"Times,serif\" font-size=\"14.00\">p[0]</text>\n<polygon fill=\"none\" stroke=\"black\" points=\"99,-290 99,-311 217,-311 217,-290 99,-290\"/>\n<text text-anchor=\"start\" x=\"146.5\" y=\"-296.8\" font-family=\"Times,serif\" font-size=\"14.00\">p[1]</text>\n<polygon fill=\"none\" stroke=\"black\" points=\"99,-269 99,-290 217,-290 217,-269 99,-269\"/>\n<text text-anchor=\"start\" x=\"146.5\" y=\"-275.8\" font-family=\"Times,serif\" font-size=\"14.00\">p[2]</text>\n<polygon fill=\"none\" stroke=\"black\" points=\"99,-248 99,-269 217,-269 217,-248 99,-248\"/>\n<text text-anchor=\"start\" x=\"146.5\" y=\"-254.8\" font-family=\"Times,serif\" font-size=\"14.00\">q[0]</text>\n<polygon fill=\"none\" stroke=\"black\" points=\"99,-227 99,-248 217,-248 217,-227 99,-227\"/>\n<text text-anchor=\"start\" x=\"146.5\" y=\"-233.8\" font-family=\"Times,serif\" font-size=\"14.00\">q[1]</text>\n<polygon fill=\"none\" stroke=\"black\" points=\"99,-206 99,-227 217,-227 217,-206 99,-206\"/>\n<text text-anchor=\"start\" x=\"146.5\" y=\"-212.8\" font-family=\"Times,serif\" font-size=\"14.00\">q[2]</text>\n</g>\n<!-- flag_tuv_G21&#45;&gt;SelectUVFirstQuantization -->\n<g id=\"edge1\" class=\"edge\">\n<title>flag_tuv_G21:e-&gt;SelectUVFirstQuantization:w</title>\n<path fill=\"none\" stroke=\"black\" d=\"M62,-666C83.58,-666 77.17,-481.12 97,-469.57\"/>\n<ellipse fill=\"black\" stroke=\"black\" cx=\"98.04\" cy=\"-469.27\" rx=\"1\" ry=\"1\"/>\n<text text-anchor=\"middle\" x=\"80.5\" y=\"-576\" font-family=\"Times,serif\" font-size=\"10.00\">1</text>\n</g>\n<!-- flag_uv_G0 -->\n<g id=\"node2\" class=\"node\">\n<title>flag_uv_G0</title>\n<text text-anchor=\"middle\" x=\"31\" y=\"-608.3\" font-family=\"Times,serif\" font-size=\"14.00\">flag_uv</text>\n</g>\n<!-- flag_uv_G0&#45;&gt;SelectUVFirstQuantization -->\n<g id=\"edge2\" class=\"edge\">\n<title>flag_uv_G0:e-&gt;SelectUVFirstQuantization:w</title>\n<path fill=\"none\" stroke=\"black\" d=\"M61,-612C90.38,-612 73.96,-577.52 81,-549 86.29,-527.56 76.83,-452.87 96.96,-448.23\"/>\n<ellipse fill=\"black\" stroke=\"black\" cx=\"98.01\" cy=\"-448.11\" rx=\"1\" ry=\"1\"/>\n<text text-anchor=\"middle\" x=\"80.5\" y=\"-555\" font-family=\"Times,serif\" font-size=\"10.00\">1</text>\n</g>\n<!-- l_G3 -->\n<g id=\"node3\" class=\"node\">\n<title>l_G3</title>\n<text text-anchor=\"middle\" x=\"31\" y=\"-554.3\" font-family=\"Times,serif\" font-size=\"14.00\">l</text>\n</g>\n<!-- l_G3&#45;&gt;SelectUVFirstQuantization -->\n<g id=\"edge3\" class=\"edge\">\n<title>l_G3:e-&gt;SelectUVFirstQuantization:w</title>\n<path fill=\"none\" stroke=\"black\" d=\"M59,-558C119.16,-558 40.02,-430.05 96.92,-427.05\"/>\n<ellipse fill=\"black\" stroke=\"black\" cx=\"98\" cy=\"-427.03\" rx=\"1\" ry=\"1\"/>\n<text text-anchor=\"middle\" x=\"80.5\" y=\"-547\" font-family=\"Times,serif\" font-size=\"10.00\">4</text>\n</g>\n<!-- rl_G14 -->\n<g id=\"node4\" class=\"node\">\n<title>rl_G14</title>\n<text text-anchor=\"middle\" x=\"31\" y=\"-500.3\" font-family=\"Times,serif\" font-size=\"14.00\">rl</text>\n</g>\n<!-- rl_G14&#45;&gt;SelectUVFirstQuantization -->\n<g id=\"edge4\" class=\"edge\">\n<title>rl_G14:e-&gt;SelectUVFirstQuantization:w</title>\n<path fill=\"none\" stroke=\"black\" d=\"M59,-504C105.31,-504 53.62,-409.04 96.87,-406.07\"/>\n<ellipse fill=\"black\" stroke=\"black\" cx=\"98\" cy=\"-406.03\" rx=\"1\" ry=\"1\"/>\n<text text-anchor=\"middle\" x=\"80.5\" y=\"-421\" font-family=\"Times,serif\" font-size=\"10.00\">16</text>\n</g>\n<!-- nu_G16 -->\n<g id=\"node5\" class=\"node\">\n<title>nu_G16</title>\n<text text-anchor=\"middle\" x=\"31\" y=\"-446.3\" font-family=\"Times,serif\" font-size=\"14.00\">nu[0]</text>\n</g>\n<!-- nu_G16&#45;&gt;SelectUVFirstQuantization -->\n<g id=\"edge5\" class=\"edge\">\n<title>nu_G16:e-&gt;SelectUVFirstQuantization:w</title>\n<path fill=\"none\" stroke=\"black\" d=\"M59,-450C92.13,-450 66.35,-388.01 96.72,-385.11\"/>\n<ellipse fill=\"black\" stroke=\"black\" cx=\"98\" cy=\"-385.05\" rx=\"1\" ry=\"1\"/>\n<text text-anchor=\"middle\" x=\"80.5\" y=\"-410\" font-family=\"Times,serif\" font-size=\"10.00\">6</text>\n</g>\n<!-- nu_G33 -->\n<g id=\"node6\" class=\"node\">\n<title>nu_G33</title>\n<text text-anchor=\"middle\" x=\"31\" y=\"-392.3\" font-family=\"Times,serif\" font-size=\"14.00\">nu[1]</text>\n</g>\n<!-- nu_G33&#45;&gt;SelectUVFirstQuantization -->\n<g id=\"edge6\" class=\"edge\">\n<title>nu_G33:e-&gt;SelectUVFirstQuantization:w</title>\n<path fill=\"none\" stroke=\"black\" d=\"M59,-396C81.06,-396 76.55,-365.97 96.95,-364.09\"/>\n<ellipse fill=\"black\" stroke=\"black\" cx=\"98\" cy=\"-364.04\" rx=\"1\" ry=\"1\"/>\n<text text-anchor=\"middle\" x=\"80.5\" y=\"-381\" font-family=\"Times,serif\" font-size=\"10.00\">6</text>\n</g>\n<!-- nu_G37 -->\n<g id=\"node7\" class=\"node\">\n<title>nu_G37</title>\n<text text-anchor=\"middle\" x=\"31\" y=\"-338.3\" font-family=\"Times,serif\" font-size=\"14.00\">nu[2]</text>\n</g>\n<!-- nu_G37&#45;&gt;SelectUVFirstQuantization -->\n<g id=\"edge7\" class=\"edge\">\n<title>nu_G37:e-&gt;SelectUVFirstQuantization:w</title>\n<path fill=\"none\" stroke=\"black\" d=\"M59,-342C76.08,-342 80.85,-342 96.98,-342\"/>\n<ellipse fill=\"black\" stroke=\"black\" cx=\"98\" cy=\"-342\" rx=\"1\" ry=\"1\"/>\n<text text-anchor=\"middle\" x=\"80.5\" y=\"-345\" font-family=\"Times,serif\" font-size=\"10.00\">6</text>\n</g>\n<!-- p_G2 -->\n<g id=\"node8\" class=\"node\">\n<title>p_G2</title>\n<text text-anchor=\"middle\" x=\"31\" y=\"-284.3\" font-family=\"Times,serif\" font-size=\"14.00\">p[0]</text>\n</g>\n<!-- p_G2&#45;&gt;SelectUVFirstQuantization -->\n<g id=\"edge8\" class=\"edge\">\n<title>p_G2:e-&gt;SelectUVFirstQuantization:w</title>\n<path fill=\"none\" stroke=\"black\" d=\"M59,-288C81.33,-288 76.31,-318.97 96.92,-320.91\"/>\n<ellipse fill=\"black\" stroke=\"black\" cx=\"98\" cy=\"-320.95\" rx=\"1\" ry=\"1\"/>\n<text text-anchor=\"middle\" x=\"80.5\" y=\"-310\" font-family=\"Times,serif\" font-size=\"10.00\">5</text>\n</g>\n<!-- p_G20 -->\n<g id=\"node9\" class=\"node\">\n<title>p_G20</title>\n<text text-anchor=\"middle\" x=\"31\" y=\"-230.3\" font-family=\"Times,serif\" font-size=\"14.00\">p[1]</text>\n</g>\n<!-- p_G20&#45;&gt;SelectUVFirstQuantization -->\n<g id=\"edge9\" class=\"edge\">\n<title>p_G20:e-&gt;SelectUVFirstQuantization:w</title>\n<path fill=\"none\" stroke=\"black\" d=\"M59,-234C92.5,-234 66.01,-296.94 96.69,-299.89\"/>\n<ellipse fill=\"black\" stroke=\"black\" cx=\"98\" cy=\"-299.95\" rx=\"1\" ry=\"1\"/>\n<text text-anchor=\"middle\" x=\"80.5\" y=\"-285\" font-family=\"Times,serif\" font-size=\"10.00\">5</text>\n</g>\n<!-- p_G24 -->\n<g id=\"node10\" class=\"node\">\n<title>p_G24</title>\n<text text-anchor=\"middle\" x=\"31\" y=\"-176.3\" font-family=\"Times,serif\" font-size=\"14.00\">p[2]</text>\n</g>\n<!-- p_G24&#45;&gt;SelectUVFirstQuantization -->\n<g id=\"edge10\" class=\"edge\">\n<title>p_G24:e-&gt;SelectUVFirstQuantization:w</title>\n<path fill=\"none\" stroke=\"black\" d=\"M59,-180C105.71,-180 53.24,-275.93 96.85,-278.93\"/>\n<ellipse fill=\"black\" stroke=\"black\" cx=\"98\" cy=\"-278.97\" rx=\"1\" ry=\"1\"/>\n<text text-anchor=\"middle\" x=\"80.5\" y=\"-269\" font-family=\"Times,serif\" font-size=\"10.00\">5</text>\n</g>\n<!-- q_G19 -->\n<g id=\"node11\" class=\"node\">\n<title>q_G19</title>\n<text text-anchor=\"middle\" x=\"31\" y=\"-122.3\" font-family=\"Times,serif\" font-size=\"14.00\">q[0]</text>\n</g>\n<!-- q_G19&#45;&gt;SelectUVFirstQuantization -->\n<g id=\"edge11\" class=\"edge\">\n<title>q_G19:e-&gt;SelectUVFirstQuantization:w</title>\n<path fill=\"none\" stroke=\"black\" d=\"M59,-126C73.61,-126 82.79,-245.92 96.88,-257.16\"/>\n<ellipse fill=\"black\" stroke=\"black\" cx=\"98.07\" cy=\"-257.63\" rx=\"1\" ry=\"1\"/>\n<text text-anchor=\"middle\" x=\"80.5\" y=\"-202\" font-family=\"Times,serif\" font-size=\"10.00\">5</text>\n</g>\n<!-- q_G35 -->\n<g id=\"node12\" class=\"node\">\n<title>q_G35</title>\n<text text-anchor=\"middle\" x=\"31\" y=\"-68.3\" font-family=\"Times,serif\" font-size=\"14.00\">q[1]</text>\n</g>\n<!-- q_G35&#45;&gt;SelectUVFirstQuantization -->\n<g id=\"edge12\" class=\"edge\">\n<title>q_G35:e-&gt;SelectUVFirstQuantization:w</title>\n<path fill=\"none\" stroke=\"black\" d=\"M59,-72C77.13,-72 79.93,-224.36 96.86,-236.26\"/>\n<ellipse fill=\"black\" stroke=\"black\" cx=\"98.05\" cy=\"-236.67\" rx=\"1\" ry=\"1\"/>\n<text text-anchor=\"middle\" x=\"80.5\" y=\"-172\" font-family=\"Times,serif\" font-size=\"10.00\">5</text>\n</g>\n<!-- q_G1 -->\n<g id=\"node13\" class=\"node\">\n<title>q_G1</title>\n<text text-anchor=\"middle\" x=\"31\" y=\"-14.3\" font-family=\"Times,serif\" font-size=\"14.00\">q[2]</text>\n</g>\n<!-- q_G1&#45;&gt;SelectUVFirstQuantization -->\n<g id=\"edge13\" class=\"edge\">\n<title>q_G1:e-&gt;SelectUVFirstQuantization:w</title>\n<path fill=\"none\" stroke=\"black\" d=\"M59,-18C80.74,-18 76.83,-203.82 96.97,-215.43\"/>\n<ellipse fill=\"black\" stroke=\"black\" cx=\"98.04\" cy=\"-215.73\" rx=\"1\" ry=\"1\"/>\n<text text-anchor=\"middle\" x=\"80.5\" y=\"-138\" font-family=\"Times,serif\" font-size=\"10.00\">5</text>\n</g>\n<!-- flag_tuv_G18 -->\n<g id=\"node15\" class=\"node\">\n<title>flag_tuv_G18</title>\n<text text-anchor=\"middle\" x=\"285\" y=\"-662.3\" font-family=\"Times,serif\" font-size=\"14.00\">flag_tuv</text>\n</g>\n<!-- SelectUVFirstQuantization&#45;&gt;flag_tuv_G18 -->\n<g id=\"edge14\" class=\"edge\">\n<title>SelectUVFirstQuantization:e-&gt;flag_tuv_G18:w</title>\n<path fill=\"none\" stroke=\"black\" d=\"M217,-469C238.58,-469 232.17,-653.88 252,-665.43\"/>\n<ellipse fill=\"black\" stroke=\"black\" cx=\"253.04\" cy=\"-665.73\" rx=\"1\" ry=\"1\"/>\n<text text-anchor=\"middle\" x=\"235.5\" y=\"-576\" font-family=\"Times,serif\" font-size=\"10.00\">1</text>\n</g>\n<!-- flag_uv_G32 -->\n<g id=\"node16\" class=\"node\">\n<title>flag_uv_G32</title>\n<text text-anchor=\"middle\" x=\"285\" y=\"-608.3\" font-family=\"Times,serif\" font-size=\"14.00\">flag_uv</text>\n</g>\n<!-- SelectUVFirstQuantization&#45;&gt;flag_uv_G32 -->\n<g id=\"edge15\" class=\"edge\">\n<title>SelectUVFirstQuantization:e-&gt;flag_uv_G32:w</title>\n<path fill=\"none\" stroke=\"black\" d=\"M217,-448C239.8,-448 229.54,-526.87 235,-549 241.84,-576.74 226.5,-610.12 252.69,-611.92\"/>\n<ellipse fill=\"black\" stroke=\"black\" cx=\"254\" cy=\"-611.97\" rx=\"1\" ry=\"1\"/>\n<text text-anchor=\"middle\" x=\"235.5\" y=\"-555\" font-family=\"Times,serif\" font-size=\"10.00\">1</text>\n</g>\n<!-- l_G34 -->\n<g id=\"node17\" class=\"node\">\n<title>l_G34</title>\n<text text-anchor=\"middle\" x=\"285\" y=\"-554.3\" font-family=\"Times,serif\" font-size=\"14.00\">l</text>\n</g>\n<!-- SelectUVFirstQuantization&#45;&gt;l_G34 -->\n<g id=\"edge16\" class=\"edge\">\n<title>SelectUVFirstQuantization:e-&gt;l_G34:w</title>\n<path fill=\"none\" stroke=\"black\" d=\"M217,-427C277.16,-427 198.02,-554.95 254.92,-557.95\"/>\n<ellipse fill=\"black\" stroke=\"black\" cx=\"256\" cy=\"-557.97\" rx=\"1\" ry=\"1\"/>\n<text text-anchor=\"middle\" x=\"235.5\" y=\"-547\" font-family=\"Times,serif\" font-size=\"10.00\">4</text>\n</g>\n<!-- rl_G7 -->\n<g id=\"node18\" class=\"node\">\n<title>rl_G7</title>\n<text text-anchor=\"middle\" x=\"285\" y=\"-500.3\" font-family=\"Times,serif\" font-size=\"14.00\">rl</text>\n</g>\n<!-- SelectUVFirstQuantization&#45;&gt;rl_G7 -->\n<g id=\"edge17\" class=\"edge\">\n<title>SelectUVFirstQuantization:e-&gt;rl_G7:w</title>\n<path fill=\"none\" stroke=\"black\" d=\"M217,-406C263.31,-406 211.62,-500.96 254.87,-503.93\"/>\n<ellipse fill=\"black\" stroke=\"black\" cx=\"256\" cy=\"-503.97\" rx=\"1\" ry=\"1\"/>\n<text text-anchor=\"middle\" x=\"235.5\" y=\"-421\" font-family=\"Times,serif\" font-size=\"10.00\">16</text>\n</g>\n<!-- nu_G10 -->\n<g id=\"node19\" class=\"node\">\n<title>nu_G10</title>\n<text text-anchor=\"middle\" x=\"285\" y=\"-446.3\" font-family=\"Times,serif\" font-size=\"14.00\">nu[0]</text>\n</g>\n<!-- SelectUVFirstQuantization&#45;&gt;nu_G10 -->\n<g id=\"edge18\" class=\"edge\">\n<title>SelectUVFirstQuantization:e-&gt;nu_G10:w</title>\n<path fill=\"none\" stroke=\"black\" d=\"M217,-385C250.13,-385 224.35,-446.99 254.72,-449.89\"/>\n<ellipse fill=\"black\" stroke=\"black\" cx=\"256\" cy=\"-449.95\" rx=\"1\" ry=\"1\"/>\n<text text-anchor=\"middle\" x=\"235.5\" y=\"-410\" font-family=\"Times,serif\" font-size=\"10.00\">6</text>\n</g>\n<!-- nu_G23 -->\n<g id=\"node20\" class=\"node\">\n<title>nu_G23</title>\n<text text-anchor=\"middle\" x=\"285\" y=\"-392.3\" font-family=\"Times,serif\" font-size=\"14.00\">nu[1]</text>\n</g>\n<!-- SelectUVFirstQuantization&#45;&gt;nu_G23 -->\n<g id=\"edge19\" class=\"edge\">\n<title>SelectUVFirstQuantization:e-&gt;nu_G23:w</title>\n<path fill=\"none\" stroke=\"black\" d=\"M217,-364C239.06,-364 234.55,-394.03 254.95,-395.91\"/>\n<ellipse fill=\"black\" stroke=\"black\" cx=\"256\" cy=\"-395.96\" rx=\"1\" ry=\"1\"/>\n<text text-anchor=\"middle\" x=\"235.5\" y=\"-381\" font-family=\"Times,serif\" font-size=\"10.00\">6</text>\n</g>\n<!-- nu_G28 -->\n<g id=\"node21\" class=\"node\">\n<title>nu_G28</title>\n<text text-anchor=\"middle\" x=\"285\" y=\"-338.3\" font-family=\"Times,serif\" font-size=\"14.00\">nu[2]</text>\n</g>\n<!-- SelectUVFirstQuantization&#45;&gt;nu_G28 -->\n<g id=\"edge20\" class=\"edge\">\n<title>SelectUVFirstQuantization:e-&gt;nu_G28:w</title>\n<path fill=\"none\" stroke=\"black\" d=\"M217,-342C234.08,-342 238.85,-342 254.98,-342\"/>\n<ellipse fill=\"black\" stroke=\"black\" cx=\"256\" cy=\"-342\" rx=\"1\" ry=\"1\"/>\n<text text-anchor=\"middle\" x=\"235.5\" y=\"-345\" font-family=\"Times,serif\" font-size=\"10.00\">6</text>\n</g>\n<!-- p_G29 -->\n<g id=\"node22\" class=\"node\">\n<title>p_G29</title>\n<text text-anchor=\"middle\" x=\"285\" y=\"-284.3\" font-family=\"Times,serif\" font-size=\"14.00\">p[0]</text>\n</g>\n<!-- SelectUVFirstQuantization&#45;&gt;p_G29 -->\n<g id=\"edge21\" class=\"edge\">\n<title>SelectUVFirstQuantization:e-&gt;p_G29:w</title>\n<path fill=\"none\" stroke=\"black\" d=\"M217,-321C239.33,-321 234.31,-290.03 254.92,-288.09\"/>\n<ellipse fill=\"black\" stroke=\"black\" cx=\"256\" cy=\"-288.05\" rx=\"1\" ry=\"1\"/>\n<text text-anchor=\"middle\" x=\"235.5\" y=\"-310\" font-family=\"Times,serif\" font-size=\"10.00\">5</text>\n</g>\n<!-- p_G8 -->\n<g id=\"node23\" class=\"node\">\n<title>p_G8</title>\n<text text-anchor=\"middle\" x=\"285\" y=\"-230.3\" font-family=\"Times,serif\" font-size=\"14.00\">p[1]</text>\n</g>\n<!-- SelectUVFirstQuantization&#45;&gt;p_G8 -->\n<g id=\"edge22\" class=\"edge\">\n<title>SelectUVFirstQuantization:e-&gt;p_G8:w</title>\n<path fill=\"none\" stroke=\"black\" d=\"M217,-300C250.5,-300 224.01,-237.06 254.69,-234.11\"/>\n<ellipse fill=\"black\" stroke=\"black\" cx=\"256\" cy=\"-234.05\" rx=\"1\" ry=\"1\"/>\n<text text-anchor=\"middle\" x=\"235.5\" y=\"-285\" font-family=\"Times,serif\" font-size=\"10.00\">5</text>\n</g>\n<!-- p_G13 -->\n<g id=\"node24\" class=\"node\">\n<title>p_G13</title>\n<text text-anchor=\"middle\" x=\"285\" y=\"-176.3\" font-family=\"Times,serif\" font-size=\"14.00\">p[2]</text>\n</g>\n<!-- SelectUVFirstQuantization&#45;&gt;p_G13 -->\n<g id=\"edge23\" class=\"edge\">\n<title>SelectUVFirstQuantization:e-&gt;p_G13:w</title>\n<path fill=\"none\" stroke=\"black\" d=\"M217,-279C263.71,-279 211.24,-183.07 254.85,-180.07\"/>\n<ellipse fill=\"black\" stroke=\"black\" cx=\"256\" cy=\"-180.03\" rx=\"1\" ry=\"1\"/>\n<text text-anchor=\"middle\" x=\"235.5\" y=\"-269\" font-family=\"Times,serif\" font-size=\"10.00\">5</text>\n</g>\n<!-- q_G4 -->\n<g id=\"node25\" class=\"node\">\n<title>q_G4</title>\n<text text-anchor=\"middle\" x=\"285\" y=\"-122.3\" font-family=\"Times,serif\" font-size=\"14.00\">q[0]</text>\n</g>\n<!-- SelectUVFirstQuantization&#45;&gt;q_G4 -->\n<g id=\"edge24\" class=\"edge\">\n<title>SelectUVFirstQuantization:e-&gt;q_G4:w</title>\n<path fill=\"none\" stroke=\"black\" d=\"M217,-258C231.61,-258 240.79,-138.08 254.88,-126.84\"/>\n<ellipse fill=\"black\" stroke=\"black\" cx=\"256.07\" cy=\"-126.37\" rx=\"1\" ry=\"1\"/>\n<text text-anchor=\"middle\" x=\"235.5\" y=\"-202\" font-family=\"Times,serif\" font-size=\"10.00\">5</text>\n</g>\n<!-- q_G22 -->\n<g id=\"node26\" class=\"node\">\n<title>q_G22</title>\n<text text-anchor=\"middle\" x=\"285\" y=\"-68.3\" font-family=\"Times,serif\" font-size=\"14.00\">q[1]</text>\n</g>\n<!-- SelectUVFirstQuantization&#45;&gt;q_G22 -->\n<g id=\"edge25\" class=\"edge\">\n<title>SelectUVFirstQuantization:e-&gt;q_G22:w</title>\n<path fill=\"none\" stroke=\"black\" d=\"M217,-237C235.13,-237 237.93,-84.64 254.86,-72.74\"/>\n<ellipse fill=\"black\" stroke=\"black\" cx=\"256.05\" cy=\"-72.33\" rx=\"1\" ry=\"1\"/>\n<text text-anchor=\"middle\" x=\"235.5\" y=\"-172\" font-family=\"Times,serif\" font-size=\"10.00\">5</text>\n</g>\n<!-- q_G26 -->\n<g id=\"node27\" class=\"node\">\n<title>q_G26</title>\n<text text-anchor=\"middle\" x=\"285\" y=\"-14.3\" font-family=\"Times,serif\" font-size=\"14.00\">q[2]</text>\n</g>\n<!-- SelectUVFirstQuantization&#45;&gt;q_G26 -->\n<g id=\"edge26\" class=\"edge\">\n<title>SelectUVFirstQuantization:e-&gt;q_G26:w</title>\n<path fill=\"none\" stroke=\"black\" d=\"M217,-216C238.74,-216 234.83,-30.18 254.97,-18.57\"/>\n<ellipse fill=\"black\" stroke=\"black\" cx=\"256.04\" cy=\"-18.27\" rx=\"1\" ry=\"1\"/>\n<text text-anchor=\"middle\" x=\"235.5\" y=\"-138\" font-family=\"Times,serif\" font-size=\"10.00\">5</text>\n</g>\n</g>\n</svg>",
          "text/plain": "<IPython.core.display.SVG object>"
         },
         "metadata": {},
         "output_type": "display_data"
        }
       ],
       "tabbable": null,
       "tooltip": null
      }
     },
     "cccfc1381828474db3fd68b27c1e987c": {
      "model_module": "@jupyter-widgets/base",
      "model_module_version": "2.0.0",
      "model_name": "LayoutModel",
      "state": {
       "_model_module": "@jupyter-widgets/base",
       "_model_module_version": "2.0.0",
       "_model_name": "LayoutModel",
       "_view_count": null,
       "_view_module": "@jupyter-widgets/base",
       "_view_module_version": "2.0.0",
       "_view_name": "LayoutView",
       "align_content": null,
       "align_items": null,
       "align_self": null,
       "border_bottom": null,
       "border_left": null,
       "border_right": null,
       "border_top": null,
       "bottom": null,
       "display": null,
       "flex": null,
       "flex_flow": null,
       "grid_area": null,
       "grid_auto_columns": null,
       "grid_auto_flow": null,
       "grid_auto_rows": null,
       "grid_column": null,
       "grid_gap": null,
       "grid_row": null,
       "grid_template_areas": null,
       "grid_template_columns": null,
       "grid_template_rows": null,
       "height": null,
       "justify_content": null,
       "justify_items": null,
       "left": null,
       "margin": null,
       "max_height": null,
       "max_width": null,
       "min_height": null,
       "min_width": null,
       "object_fit": null,
       "object_position": null,
       "order": null,
       "overflow": null,
       "padding": null,
       "right": null,
       "top": null,
       "visibility": null,
       "width": null
      }
     },
     "d04617ef043542f18615f932d5650219": {
      "model_module": "@jupyter-widgets/base",
      "model_module_version": "2.0.0",
      "model_name": "LayoutModel",
      "state": {
       "_model_module": "@jupyter-widgets/base",
       "_model_module_version": "2.0.0",
       "_model_name": "LayoutModel",
       "_view_count": null,
       "_view_module": "@jupyter-widgets/base",
       "_view_module_version": "2.0.0",
       "_view_name": "LayoutView",
       "align_content": null,
       "align_items": null,
       "align_self": null,
       "border_bottom": null,
       "border_left": null,
       "border_right": null,
       "border_top": null,
       "bottom": null,
       "display": null,
       "flex": null,
       "flex_flow": null,
       "grid_area": null,
       "grid_auto_columns": null,
       "grid_auto_flow": null,
       "grid_auto_rows": null,
       "grid_column": null,
       "grid_gap": null,
       "grid_row": null,
       "grid_template_areas": null,
       "grid_template_columns": null,
       "grid_template_rows": null,
       "height": null,
       "justify_content": null,
       "justify_items": null,
       "left": null,
       "margin": null,
       "max_height": null,
       "max_width": null,
       "min_height": null,
       "min_width": null,
       "object_fit": null,
       "object_position": null,
       "order": null,
       "overflow": null,
       "padding": null,
       "right": null,
       "top": null,
       "visibility": null,
       "width": null
      }
     },
     "d04b33ab037d4a249d5b7c534b7b410e": {
      "model_module": "@jupyter-widgets/controls",
      "model_module_version": "2.0.0",
      "model_name": "HBoxModel",
      "state": {
       "_dom_classes": [],
       "_model_module": "@jupyter-widgets/controls",
       "_model_module_version": "2.0.0",
       "_model_name": "HBoxModel",
       "_view_count": null,
       "_view_module": "@jupyter-widgets/controls",
       "_view_module_version": "2.0.0",
       "_view_name": "HBoxView",
       "box_style": "",
       "children": [
        "IPY_MODEL_cade74e53c824fe185359a90f32d2376"
       ],
       "layout": "IPY_MODEL_1becbc7f43f94fc98ba5b84ffec1be09",
       "tabbable": null,
       "tooltip": null
      }
     },
     "ef8e1e8c337a455285d269b3b49f1251": {
      "model_module": "@jupyter-widgets/base",
      "model_module_version": "2.0.0",
      "model_name": "LayoutModel",
      "state": {
       "_model_module": "@jupyter-widgets/base",
       "_model_module_version": "2.0.0",
       "_model_name": "LayoutModel",
       "_view_count": null,
       "_view_module": "@jupyter-widgets/base",
       "_view_module_version": "2.0.0",
       "_view_name": "LayoutView",
       "align_content": null,
       "align_items": null,
       "align_self": null,
       "border_bottom": null,
       "border_left": null,
       "border_right": null,
       "border_top": null,
       "bottom": null,
       "display": null,
       "flex": null,
       "flex_flow": null,
       "grid_area": null,
       "grid_auto_columns": null,
       "grid_auto_flow": null,
       "grid_auto_rows": null,
       "grid_column": null,
       "grid_gap": null,
       "grid_row": null,
       "grid_template_areas": null,
       "grid_template_columns": null,
       "grid_template_rows": null,
       "height": null,
       "justify_content": null,
       "justify_items": null,
       "left": null,
       "margin": null,
       "max_height": null,
       "max_width": null,
       "min_height": null,
       "min_width": null,
       "object_fit": null,
       "object_position": null,
       "order": null,
       "overflow": null,
       "padding": null,
       "right": null,
       "top": null,
       "visibility": null,
       "width": null
      }
     },
     "f265fbbfa32a4f70b99afd81b42f210e": {
      "model_module": "@jupyter-widgets/controls",
      "model_module_version": "2.0.0",
      "model_name": "HBoxModel",
      "state": {
       "_dom_classes": [],
       "_model_module": "@jupyter-widgets/controls",
       "_model_module_version": "2.0.0",
       "_model_name": "HBoxModel",
       "_view_count": null,
       "_view_module": "@jupyter-widgets/controls",
       "_view_module_version": "2.0.0",
       "_view_name": "HBoxView",
       "box_style": "",
       "children": [
        "IPY_MODEL_ae2047a3078b45ffb2ca45e89ce72f47"
       ],
       "layout": "IPY_MODEL_c9d1ed45d35845dc8557eceb77bbc990",
       "tabbable": null,
       "tooltip": null
      }
     },
     "f616fb14ed6d474ba3c17e421d346b0b": {
      "model_module": "@jupyter-widgets/output",
      "model_module_version": "1.0.0",
      "model_name": "OutputModel",
      "state": {
       "_dom_classes": [],
       "_model_module": "@jupyter-widgets/output",
       "_model_module_version": "1.0.0",
       "_model_name": "OutputModel",
       "_view_count": null,
       "_view_module": "@jupyter-widgets/output",
       "_view_module_version": "1.0.0",
       "_view_name": "OutputView",
       "layout": "IPY_MODEL_385716bb5c044e8a9dfabcb1d7bf9455",
       "msg_id": "",
       "outputs": [
        {
         "data": {
          "text/markdown": "`prepare_zeta`",
          "text/plain": "<IPython.core.display.Markdown object>"
         },
         "metadata": {},
         "output_type": "display_data"
        },
        {
         "data": {
          "image/svg+xml": "<svg xmlns=\"http://www.w3.org/2000/svg\" xmlns:xlink=\"http://www.w3.org/1999/xlink\" width=\"265pt\" height=\"54pt\" viewBox=\"0.00 0.00 265.00 54.00\">\n<g id=\"graph0\" class=\"graph\" transform=\"scale(1 1) rotate(0) translate(4 50)\">\n<title>my_graph</title>\n<polygon fill=\"white\" stroke=\"transparent\" points=\"-4,4 -4,-50 261,-50 261,4 -4,4\"/>\n<!-- l_G0 -->\n<g id=\"node1\" class=\"node\">\n<title>l_G0</title>\n<text text-anchor=\"middle\" x=\"27\" y=\"-14.3\" font-family=\"Times,serif\" font-size=\"14.00\">l</text>\n</g>\n<!-- PrepareZetaState -->\n<g id=\"node2\" class=\"node\">\n<title>PrepareZetaState</title>\n<polygon fill=\"none\" stroke=\"black\" points=\"91.5,-29 91.5,-46 166.5,-46 166.5,-29 91.5,-29\"/>\n<text text-anchor=\"start\" x=\"94.5\" y=\"-35\" font-family=\"Times,serif\" font-size=\"10.00\">PrepareZetaState</text>\n<polygon fill=\"none\" stroke=\"black\" points=\"91.5,-8 91.5,-29 166.5,-29 166.5,-8 91.5,-8\"/>\n<text text-anchor=\"start\" x=\"127\" y=\"-14.8\" font-family=\"Times,serif\" font-size=\"14.00\">l</text>\n</g>\n<!-- l_G0&#45;&gt;PrepareZetaState -->\n<g id=\"edge1\" class=\"edge\">\n<title>l_G0:e-&gt;PrepareZetaState:w</title>\n<path fill=\"none\" stroke=\"black\" d=\"M54,-18C69.67,-18 74.14,-18 88.77,-18\"/>\n<ellipse fill=\"black\" stroke=\"black\" cx=\"90\" cy=\"-18\" rx=\"1\" ry=\"1\"/>\n<text text-anchor=\"middle\" x=\"72.5\" y=\"-21\" font-family=\"Times,serif\" font-size=\"10.00\">4</text>\n</g>\n<!-- l_G2 -->\n<g id=\"node3\" class=\"node\">\n<title>l_G2</title>\n<text text-anchor=\"middle\" x=\"230\" y=\"-14.3\" font-family=\"Times,serif\" font-size=\"14.00\">l</text>\n</g>\n<!-- PrepareZetaState&#45;&gt;l_G2 -->\n<g id=\"edge2\" class=\"edge\">\n<title>PrepareZetaState:e-&gt;l_G2:w</title>\n<path fill=\"none\" stroke=\"black\" d=\"M166,-18C181.67,-18 186.14,-18 200.77,-18\"/>\n<ellipse fill=\"black\" stroke=\"black\" cx=\"202\" cy=\"-18\" rx=\"1\" ry=\"1\"/>\n<text text-anchor=\"middle\" x=\"184.5\" y=\"-21\" font-family=\"Times,serif\" font-size=\"10.00\">4</text>\n</g>\n</g>\n</svg>",
          "text/plain": "<IPython.core.display.SVG object>"
         },
         "metadata": {},
         "output_type": "display_data"
        }
       ],
       "tabbable": null,
       "tooltip": null
      }
     },
     "f76f4a923a794412bbd7353f81fceade": {
      "model_module": "@jupyter-widgets/output",
      "model_module_version": "1.0.0",
      "model_name": "OutputModel",
      "state": {
       "_dom_classes": [],
       "_model_module": "@jupyter-widgets/output",
       "_model_module_version": "1.0.0",
       "_model_name": "OutputModel",
       "_view_count": null,
       "_view_module": "@jupyter-widgets/output",
       "_view_module_version": "1.0.0",
       "_view_name": "OutputView",
       "layout": "IPY_MODEL_cccfc1381828474db3fd68b27c1e987c",
       "msg_id": "",
       "outputs": [
        {
         "data": {
          "text/markdown": "`sel_first_quant`",
          "text/plain": "<IPython.core.display.Markdown object>"
         },
         "metadata": {},
         "output_type": "display_data"
        },
        {
         "data": {
          "image/svg+xml": "<svg xmlns=\"http://www.w3.org/2000/svg\" xmlns:xlink=\"http://www.w3.org/1999/xlink\" width=\"313pt\" height=\"2420pt\" viewBox=\"0.00 0.00 313.00 2420.00\">\n<g id=\"graph0\" class=\"graph\" transform=\"scale(1 1) rotate(0) translate(4 2416)\">\n<title>my_graph</title>\n<polygon fill=\"white\" stroke=\"transparent\" points=\"-4,4 -4,-2416 309,-2416 309,4 -4,4\"/>\n<!-- tuv_G118 -->\n<g id=\"node1\" class=\"node\">\n<title>tuv_G118</title>\n<text text-anchor=\"middle\" x=\"32\" y=\"-2390.3\" font-family=\"Times,serif\" font-size=\"14.00\">tuv</text>\n</g>\n<!-- SelectFirstQuantization -->\n<g id=\"node46\" class=\"node\">\n<title>SelectFirstQuantization</title>\n<polygon fill=\"none\" stroke=\"black\" points=\"101.5,-1679 101.5,-1696 204.5,-1696 204.5,-1679 101.5,-1679\"/>\n<text text-anchor=\"start\" x=\"104.5\" y=\"-1685\" font-family=\"Times,serif\" font-size=\"10.00\">SelectFirstQuantization</text>\n<polygon fill=\"none\" stroke=\"black\" points=\"101.5,-1658 101.5,-1679 204.5,-1679 204.5,-1658 101.5,-1658\"/>\n<text text-anchor=\"start\" x=\"144\" y=\"-1664.8\" font-family=\"Times,serif\" font-size=\"14.00\">tuv</text>\n<polygon fill=\"none\" stroke=\"black\" points=\"101.5,-1637 101.5,-1658 204.5,-1658 204.5,-1637 101.5,-1637\"/>\n<text text-anchor=\"start\" x=\"146\" y=\"-1643.8\" font-family=\"Times,serif\" font-size=\"14.00\">uv</text>\n<polygon fill=\"none\" stroke=\"black\" points=\"101.5,-1616 101.5,-1637 204.5,-1637 204.5,-1616 101.5,-1616\"/>\n<text text-anchor=\"start\" x=\"136\" y=\"-1622.8\" font-family=\"Times,serif\" font-size=\"14.00\">i_ne_j</text>\n<polygon fill=\"none\" stroke=\"black\" points=\"101.5,-1595 101.5,-1616 204.5,-1616 204.5,-1595 101.5,-1595\"/>\n<text text-anchor=\"start\" x=\"136\" y=\"-1601.8\" font-family=\"Times,serif\" font-size=\"14.00\">plus_t</text>\n<polygon fill=\"none\" stroke=\"black\" points=\"101.5,-1574 101.5,-1595 204.5,-1595 204.5,-1574 101.5,-1574\"/>\n<text text-anchor=\"start\" x=\"151\" y=\"-1580.8\" font-family=\"Times,serif\" font-size=\"14.00\">i</text>\n<polygon fill=\"none\" stroke=\"black\" points=\"101.5,-1553 101.5,-1574 204.5,-1574 204.5,-1553 101.5,-1553\"/>\n<text text-anchor=\"start\" x=\"151\" y=\"-1559.8\" font-family=\"Times,serif\" font-size=\"14.00\">j</text>\n<polygon fill=\"none\" stroke=\"black\" points=\"101.5,-1532 101.5,-1553 204.5,-1553 204.5,-1532 101.5,-1532\"/>\n<text text-anchor=\"start\" x=\"148\" y=\"-1538.8\" font-family=\"Times,serif\" font-size=\"14.00\">w</text>\n<polygon fill=\"none\" stroke=\"black\" points=\"101.5,-1511 101.5,-1532 204.5,-1532 204.5,-1511 101.5,-1511\"/>\n<text text-anchor=\"start\" x=\"150.5\" y=\"-1517.8\" font-family=\"Times,serif\" font-size=\"14.00\">r</text>\n<polygon fill=\"none\" stroke=\"black\" points=\"101.5,-1490 101.5,-1511 204.5,-1511 204.5,-1490 101.5,-1490\"/>\n<text text-anchor=\"start\" x=\"150\" y=\"-1496.8\" font-family=\"Times,serif\" font-size=\"14.00\">s</text>\n<polygon fill=\"none\" stroke=\"black\" points=\"101.5,-1469 101.5,-1490 204.5,-1490 204.5,-1469 101.5,-1469\"/>\n<text text-anchor=\"start\" x=\"143.5\" y=\"-1475.8\" font-family=\"Times,serif\" font-size=\"14.00\">mu</text>\n<polygon fill=\"none\" stroke=\"black\" points=\"101.5,-1448 101.5,-1469 204.5,-1469 204.5,-1448 101.5,-1448\"/>\n<text text-anchor=\"start\" x=\"139\" y=\"-1454.8\" font-family=\"Times,serif\" font-size=\"14.00\">nu_x</text>\n<polygon fill=\"none\" stroke=\"black\" points=\"101.5,-1427 101.5,-1448 204.5,-1448 204.5,-1427 101.5,-1427\"/>\n<text text-anchor=\"start\" x=\"139\" y=\"-1433.8\" font-family=\"Times,serif\" font-size=\"14.00\">nu_y</text>\n<polygon fill=\"none\" stroke=\"black\" points=\"101.5,-1406 101.5,-1427 204.5,-1427 204.5,-1406 101.5,-1406\"/>\n<text text-anchor=\"start\" x=\"139.5\" y=\"-1412.8\" font-family=\"Times,serif\" font-size=\"14.00\">nu_z</text>\n<polygon fill=\"none\" stroke=\"black\" points=\"101.5,-1385 101.5,-1406 204.5,-1406 204.5,-1385 101.5,-1385\"/>\n<text text-anchor=\"start\" x=\"147\" y=\"-1391.8\" font-family=\"Times,serif\" font-size=\"14.00\">m</text>\n<polygon fill=\"none\" stroke=\"black\" points=\"101.5,-1364 101.5,-1385 204.5,-1385 204.5,-1364 101.5,-1364\"/>\n<text text-anchor=\"start\" x=\"151\" y=\"-1370.8\" font-family=\"Times,serif\" font-size=\"14.00\">l</text>\n<polygon fill=\"none\" stroke=\"black\" points=\"101.5,-1343 101.5,-1364 204.5,-1364 204.5,-1343 101.5,-1343\"/>\n<text text-anchor=\"start\" x=\"129\" y=\"-1349.8\" font-family=\"Times,serif\" font-size=\"14.00\">sys[0, 0]</text>\n<polygon fill=\"none\" stroke=\"black\" points=\"101.5,-1322 101.5,-1343 204.5,-1343 204.5,-1322 101.5,-1322\"/>\n<text text-anchor=\"start\" x=\"129\" y=\"-1328.8\" font-family=\"Times,serif\" font-size=\"14.00\">sys[0, 1]</text>\n<polygon fill=\"none\" stroke=\"black\" points=\"101.5,-1301 101.5,-1322 204.5,-1322 204.5,-1301 101.5,-1301\"/>\n<text text-anchor=\"start\" x=\"129\" y=\"-1307.8\" font-family=\"Times,serif\" font-size=\"14.00\">sys[0, 2]</text>\n<polygon fill=\"none\" stroke=\"black\" points=\"101.5,-1280 101.5,-1301 204.5,-1301 204.5,-1280 101.5,-1280\"/>\n<text text-anchor=\"start\" x=\"129\" y=\"-1286.8\" font-family=\"Times,serif\" font-size=\"14.00\">sys[1, 0]</text>\n<polygon fill=\"none\" stroke=\"black\" points=\"101.5,-1259 101.5,-1280 204.5,-1280 204.5,-1259 101.5,-1259\"/>\n<text text-anchor=\"start\" x=\"129\" y=\"-1265.8\" font-family=\"Times,serif\" font-size=\"14.00\">sys[1, 1]</text>\n<polygon fill=\"none\" stroke=\"black\" points=\"101.5,-1238 101.5,-1259 204.5,-1259 204.5,-1238 101.5,-1238\"/>\n<text text-anchor=\"start\" x=\"129\" y=\"-1244.8\" font-family=\"Times,serif\" font-size=\"14.00\">sys[1, 2]</text>\n<polygon fill=\"none\" stroke=\"black\" points=\"101.5,-1217 101.5,-1238 204.5,-1238 204.5,-1217 101.5,-1217\"/>\n<text text-anchor=\"start\" x=\"129\" y=\"-1223.8\" font-family=\"Times,serif\" font-size=\"14.00\">sys[2, 0]</text>\n<polygon fill=\"none\" stroke=\"black\" points=\"101.5,-1196 101.5,-1217 204.5,-1217 204.5,-1196 101.5,-1196\"/>\n<text text-anchor=\"start\" x=\"129\" y=\"-1202.8\" font-family=\"Times,serif\" font-size=\"14.00\">sys[2, 1]</text>\n<polygon fill=\"none\" stroke=\"black\" points=\"101.5,-1175 101.5,-1196 204.5,-1196 204.5,-1175 101.5,-1175\"/>\n<text text-anchor=\"start\" x=\"129\" y=\"-1181.8\" font-family=\"Times,serif\" font-size=\"14.00\">sys[2, 2]</text>\n<polygon fill=\"none\" stroke=\"black\" points=\"101.5,-1154 101.5,-1175 204.5,-1175 204.5,-1154 101.5,-1154\"/>\n<text text-anchor=\"start\" x=\"129\" y=\"-1160.8\" font-family=\"Times,serif\" font-size=\"14.00\">sys[3, 0]</text>\n<polygon fill=\"none\" stroke=\"black\" points=\"101.5,-1133 101.5,-1154 204.5,-1154 204.5,-1133 101.5,-1133\"/>\n<text text-anchor=\"start\" x=\"129\" y=\"-1139.8\" font-family=\"Times,serif\" font-size=\"14.00\">sys[3, 1]</text>\n<polygon fill=\"none\" stroke=\"black\" points=\"101.5,-1112 101.5,-1133 204.5,-1133 204.5,-1112 101.5,-1112\"/>\n<text text-anchor=\"start\" x=\"129\" y=\"-1118.8\" font-family=\"Times,serif\" font-size=\"14.00\">sys[3, 2]</text>\n<polygon fill=\"none\" stroke=\"black\" points=\"101.5,-1091 101.5,-1112 204.5,-1112 204.5,-1091 101.5,-1091\"/>\n<text text-anchor=\"start\" x=\"129\" y=\"-1097.8\" font-family=\"Times,serif\" font-size=\"14.00\">sys[4, 0]</text>\n<polygon fill=\"none\" stroke=\"black\" points=\"101.5,-1070 101.5,-1091 204.5,-1091 204.5,-1070 101.5,-1070\"/>\n<text text-anchor=\"start\" x=\"129\" y=\"-1076.8\" font-family=\"Times,serif\" font-size=\"14.00\">sys[4, 1]</text>\n<polygon fill=\"none\" stroke=\"black\" points=\"101.5,-1049 101.5,-1070 204.5,-1070 204.5,-1049 101.5,-1049\"/>\n<text text-anchor=\"start\" x=\"129\" y=\"-1055.8\" font-family=\"Times,serif\" font-size=\"14.00\">sys[4, 2]</text>\n<polygon fill=\"none\" stroke=\"black\" points=\"101.5,-1028 101.5,-1049 204.5,-1049 204.5,-1028 101.5,-1028\"/>\n<text text-anchor=\"start\" x=\"129\" y=\"-1034.8\" font-family=\"Times,serif\" font-size=\"14.00\">sys[5, 0]</text>\n<polygon fill=\"none\" stroke=\"black\" points=\"101.5,-1007 101.5,-1028 204.5,-1028 204.5,-1007 101.5,-1007\"/>\n<text text-anchor=\"start\" x=\"129\" y=\"-1013.8\" font-family=\"Times,serif\" font-size=\"14.00\">sys[5, 1]</text>\n<polygon fill=\"none\" stroke=\"black\" points=\"101.5,-986 101.5,-1007 204.5,-1007 204.5,-986 101.5,-986\"/>\n<text text-anchor=\"start\" x=\"129\" y=\"-992.8\" font-family=\"Times,serif\" font-size=\"14.00\">sys[5, 2]</text>\n<polygon fill=\"none\" stroke=\"black\" points=\"101.5,-965 101.5,-986 204.5,-986 204.5,-965 101.5,-965\"/>\n<text text-anchor=\"start\" x=\"129\" y=\"-971.8\" font-family=\"Times,serif\" font-size=\"14.00\">sys[6, 0]</text>\n<polygon fill=\"none\" stroke=\"black\" points=\"101.5,-944 101.5,-965 204.5,-965 204.5,-944 101.5,-944\"/>\n<text text-anchor=\"start\" x=\"129\" y=\"-950.8\" font-family=\"Times,serif\" font-size=\"14.00\">sys[6, 1]</text>\n<polygon fill=\"none\" stroke=\"black\" points=\"101.5,-923 101.5,-944 204.5,-944 204.5,-923 101.5,-923\"/>\n<text text-anchor=\"start\" x=\"129\" y=\"-929.8\" font-family=\"Times,serif\" font-size=\"14.00\">sys[6, 2]</text>\n<polygon fill=\"none\" stroke=\"black\" points=\"101.5,-902 101.5,-923 204.5,-923 204.5,-902 101.5,-902\"/>\n<text text-anchor=\"start\" x=\"129\" y=\"-908.8\" font-family=\"Times,serif\" font-size=\"14.00\">sys[7, 0]</text>\n<polygon fill=\"none\" stroke=\"black\" points=\"101.5,-881 101.5,-902 204.5,-902 204.5,-881 101.5,-881\"/>\n<text text-anchor=\"start\" x=\"129\" y=\"-887.8\" font-family=\"Times,serif\" font-size=\"14.00\">sys[7, 1]</text>\n<polygon fill=\"none\" stroke=\"black\" points=\"101.5,-860 101.5,-881 204.5,-881 204.5,-860 101.5,-860\"/>\n<text text-anchor=\"start\" x=\"129\" y=\"-866.8\" font-family=\"Times,serif\" font-size=\"14.00\">sys[7, 2]</text>\n<polygon fill=\"none\" stroke=\"black\" points=\"101.5,-839 101.5,-860 204.5,-860 204.5,-839 101.5,-839\"/>\n<text text-anchor=\"start\" x=\"129\" y=\"-845.8\" font-family=\"Times,serif\" font-size=\"14.00\">sys[8, 0]</text>\n<polygon fill=\"none\" stroke=\"black\" points=\"101.5,-818 101.5,-839 204.5,-839 204.5,-818 101.5,-818\"/>\n<text text-anchor=\"start\" x=\"129\" y=\"-824.8\" font-family=\"Times,serif\" font-size=\"14.00\">sys[8, 1]</text>\n<polygon fill=\"none\" stroke=\"black\" points=\"101.5,-797 101.5,-818 204.5,-818 204.5,-797 101.5,-797\"/>\n<text text-anchor=\"start\" x=\"129\" y=\"-803.8\" font-family=\"Times,serif\" font-size=\"14.00\">sys[8, 2]</text>\n<polygon fill=\"none\" stroke=\"black\" points=\"101.5,-776 101.5,-797 204.5,-797 204.5,-776 101.5,-776\"/>\n<text text-anchor=\"start\" x=\"129\" y=\"-782.8\" font-family=\"Times,serif\" font-size=\"14.00\">sys[9, 0]</text>\n<polygon fill=\"none\" stroke=\"black\" points=\"101.5,-755 101.5,-776 204.5,-776 204.5,-755 101.5,-755\"/>\n<text text-anchor=\"start\" x=\"129\" y=\"-761.8\" font-family=\"Times,serif\" font-size=\"14.00\">sys[9, 1]</text>\n<polygon fill=\"none\" stroke=\"black\" points=\"101.5,-734 101.5,-755 204.5,-755 204.5,-734 101.5,-734\"/>\n<text text-anchor=\"start\" x=\"129\" y=\"-740.8\" font-family=\"Times,serif\" font-size=\"14.00\">sys[9, 2]</text>\n</g>\n<!-- tuv_G118&#45;&gt;SelectFirstQuantization -->\n<g id=\"edge1\" class=\"edge\">\n<title>tuv_G118:e-&gt;SelectFirstQuantization:w</title>\n<path fill=\"none\" stroke=\"black\" d=\"M60,-2394C79.62,-2394 80.78,-1708.11 99.39,-1670.6\"/>\n<ellipse fill=\"black\" stroke=\"black\" cx=\"100.29\" cy=\"-1669.7\" rx=\"1\" ry=\"1\"/>\n<text text-anchor=\"middle\" x=\"82.5\" y=\"-1969\" font-family=\"Times,serif\" font-size=\"10.00\">1</text>\n</g>\n<!-- uv_G127 -->\n<g id=\"node2\" class=\"node\">\n<title>uv_G127</title>\n<text text-anchor=\"middle\" x=\"32\" y=\"-2336.3\" font-family=\"Times,serif\" font-size=\"14.00\">uv</text>\n</g>\n<!-- uv_G127&#45;&gt;SelectFirstQuantization -->\n<g id=\"edge2\" class=\"edge\">\n<title>uv_G127:e-&gt;SelectFirstQuantization:w</title>\n<path fill=\"none\" stroke=\"black\" d=\"M60,-2340C78.73,-2340 81.6,-1685.33 99.46,-1649.52\"/>\n<ellipse fill=\"black\" stroke=\"black\" cx=\"100.29\" cy=\"-1648.7\" rx=\"1\" ry=\"1\"/>\n<text text-anchor=\"middle\" x=\"82.5\" y=\"-1935\" font-family=\"Times,serif\" font-size=\"10.00\">1</text>\n</g>\n<!-- i_ne_j_G116 -->\n<g id=\"node3\" class=\"node\">\n<title>i_ne_j_G116</title>\n<text text-anchor=\"middle\" x=\"32\" y=\"-2282.3\" font-family=\"Times,serif\" font-size=\"14.00\">i_ne_j</text>\n</g>\n<!-- i_ne_j_G116&#45;&gt;SelectFirstQuantization -->\n<g id=\"edge3\" class=\"edge\">\n<title>i_ne_j_G116:e-&gt;SelectFirstQuantization:w</title>\n<path fill=\"none\" stroke=\"black\" d=\"M60,-2286C77.84,-2286 82.41,-1662.55 99.53,-1628.45\"/>\n<ellipse fill=\"black\" stroke=\"black\" cx=\"100.29\" cy=\"-1627.7\" rx=\"1\" ry=\"1\"/>\n<text text-anchor=\"middle\" x=\"82.5\" y=\"-1900\" font-family=\"Times,serif\" font-size=\"10.00\">1</text>\n</g>\n<!-- plus_t_G57 -->\n<g id=\"node4\" class=\"node\">\n<title>plus_t_G57</title>\n<text text-anchor=\"middle\" x=\"32\" y=\"-2228.3\" font-family=\"Times,serif\" font-size=\"14.00\">plus_t</text>\n</g>\n<!-- plus_t_G57&#45;&gt;SelectFirstQuantization -->\n<g id=\"edge4\" class=\"edge\">\n<title>plus_t_G57:e-&gt;SelectFirstQuantization:w</title>\n<path fill=\"none\" stroke=\"black\" d=\"M60,-2232C76.88,-2232 83.18,-1644.51 99.4,-1607.8\"/>\n<ellipse fill=\"black\" stroke=\"black\" cx=\"100.33\" cy=\"-1606.75\" rx=\"1\" ry=\"1\"/>\n<text text-anchor=\"middle\" x=\"82.5\" y=\"-1865\" font-family=\"Times,serif\" font-size=\"10.00\">1</text>\n</g>\n<!-- i_G75 -->\n<g id=\"node5\" class=\"node\">\n<title>i_G75</title>\n<text text-anchor=\"middle\" x=\"32\" y=\"-2174.3\" font-family=\"Times,serif\" font-size=\"14.00\">i</text>\n</g>\n<!-- i_G75&#45;&gt;SelectFirstQuantization -->\n<g id=\"edge5\" class=\"edge\">\n<title>i_G75:e-&gt;SelectFirstQuantization:w</title>\n<path fill=\"none\" stroke=\"black\" d=\"M60,-2178C76,-2178 83.98,-1621.48 99.48,-1586.7\"/>\n<ellipse fill=\"black\" stroke=\"black\" cx=\"100.33\" cy=\"-1585.74\" rx=\"1\" ry=\"1\"/>\n<text text-anchor=\"middle\" x=\"82.5\" y=\"-1831\" font-family=\"Times,serif\" font-size=\"10.00\">4</text>\n</g>\n<!-- j_G109 -->\n<g id=\"node6\" class=\"node\">\n<title>j_G109</title>\n<text text-anchor=\"middle\" x=\"32\" y=\"-2120.3\" font-family=\"Times,serif\" font-size=\"14.00\">j</text>\n</g>\n<!-- j_G109&#45;&gt;SelectFirstQuantization -->\n<g id=\"edge6\" class=\"edge\">\n<title>j_G109:e-&gt;SelectFirstQuantization:w</title>\n<path fill=\"none\" stroke=\"black\" d=\"M60,-2124C75.11,-2124 84.78,-1598.45 99.55,-1565.61\"/>\n<ellipse fill=\"black\" stroke=\"black\" cx=\"100.33\" cy=\"-1564.74\" rx=\"1\" ry=\"1\"/>\n<text text-anchor=\"middle\" x=\"82.5\" y=\"-1813\" font-family=\"Times,serif\" font-size=\"10.00\">4</text>\n</g>\n<!-- w_G18 -->\n<g id=\"node7\" class=\"node\">\n<title>w_G18</title>\n<text text-anchor=\"middle\" x=\"32\" y=\"-2066.3\" font-family=\"Times,serif\" font-size=\"14.00\">w</text>\n</g>\n<!-- w_G18&#45;&gt;SelectFirstQuantization -->\n<g id=\"edge7\" class=\"edge\">\n<title>w_G18:e-&gt;SelectFirstQuantization:w</title>\n<path fill=\"none\" stroke=\"black\" d=\"M60,-2070C74.22,-2070 85.59,-1575.42 99.63,-1544.51\"/>\n<ellipse fill=\"black\" stroke=\"black\" cx=\"100.33\" cy=\"-1543.74\" rx=\"1\" ry=\"1\"/>\n<text text-anchor=\"middle\" x=\"82.5\" y=\"-1777\" font-family=\"Times,serif\" font-size=\"10.00\">3</text>\n</g>\n<!-- r_G92 -->\n<g id=\"node8\" class=\"node\">\n<title>r_G92</title>\n<text text-anchor=\"middle\" x=\"32\" y=\"-2012.3\" font-family=\"Times,serif\" font-size=\"14.00\">r</text>\n</g>\n<!-- r_G92&#45;&gt;SelectFirstQuantization -->\n<g id=\"edge8\" class=\"edge\">\n<title>r_G92:e-&gt;SelectFirstQuantization:w</title>\n<path fill=\"none\" stroke=\"black\" d=\"M60,-2016C73.29,-2016 86.28,-1556.12 99.55,-1523.79\"/>\n<ellipse fill=\"black\" stroke=\"black\" cx=\"100.37\" cy=\"-1522.78\" rx=\"1\" ry=\"1\"/>\n<text text-anchor=\"middle\" x=\"82.5\" y=\"-1742\" font-family=\"Times,serif\" font-size=\"10.00\">6</text>\n</g>\n<!-- s_G15 -->\n<g id=\"node9\" class=\"node\">\n<title>s_G15</title>\n<text text-anchor=\"middle\" x=\"32\" y=\"-1958.3\" font-family=\"Times,serif\" font-size=\"14.00\">s</text>\n</g>\n<!-- s_G15&#45;&gt;SelectFirstQuantization -->\n<g id=\"edge9\" class=\"edge\">\n<title>s_G15:e-&gt;SelectFirstQuantization:w</title>\n<path fill=\"none\" stroke=\"black\" d=\"M60,-1962C72.4,-1962 87.07,-1532.84 99.64,-1502.67\"/>\n<ellipse fill=\"black\" stroke=\"black\" cx=\"100.37\" cy=\"-1501.77\" rx=\"1\" ry=\"1\"/>\n<text text-anchor=\"middle\" x=\"82.5\" y=\"-1706\" font-family=\"Times,serif\" font-size=\"10.00\">6</text>\n</g>\n<!-- mu_G129 -->\n<g id=\"node10\" class=\"node\">\n<title>mu_G129</title>\n<text text-anchor=\"middle\" x=\"32\" y=\"-1904.3\" font-family=\"Times,serif\" font-size=\"14.00\">mu</text>\n</g>\n<!-- mu_G129&#45;&gt;SelectFirstQuantization -->\n<g id=\"edge10\" class=\"edge\">\n<title>mu_G129:e-&gt;SelectFirstQuantization:w</title>\n<path fill=\"none\" stroke=\"black\" d=\"M60,-1908C83.23,-1908 77.46,-1503.09 99.11,-1480.94\"/>\n<ellipse fill=\"black\" stroke=\"black\" cx=\"100.1\" cy=\"-1480.45\" rx=\"1\" ry=\"1\"/>\n<text text-anchor=\"middle\" x=\"82.5\" y=\"-1658\" font-family=\"Times,serif\" font-size=\"10.00\">6</text>\n</g>\n<!-- nu_x_G128 -->\n<g id=\"node11\" class=\"node\">\n<title>nu_x_G128</title>\n<text text-anchor=\"middle\" x=\"32\" y=\"-1850.3\" font-family=\"Times,serif\" font-size=\"14.00\">nu_x</text>\n</g>\n<!-- nu_x_G128&#45;&gt;SelectFirstQuantization -->\n<g id=\"edge11\" class=\"edge\">\n<title>nu_x_G128:e-&gt;SelectFirstQuantization:w</title>\n<path fill=\"none\" stroke=\"black\" d=\"M60,-1854C81.37,-1854 79.11,-1483.3 99,-1460.13\"/>\n<ellipse fill=\"black\" stroke=\"black\" cx=\"100.13\" cy=\"-1459.49\" rx=\"1\" ry=\"1\"/>\n<text text-anchor=\"middle\" x=\"82.5\" y=\"-1624\" font-family=\"Times,serif\" font-size=\"10.00\">7</text>\n</g>\n<!-- nu_y_G79 -->\n<g id=\"node12\" class=\"node\">\n<title>nu_y_G79</title>\n<text text-anchor=\"middle\" x=\"32\" y=\"-1796.3\" font-family=\"Times,serif\" font-size=\"14.00\">nu_y</text>\n</g>\n<!-- nu_y_G79&#45;&gt;SelectFirstQuantization -->\n<g id=\"edge12\" class=\"edge\">\n<title>nu_y_G79:e-&gt;SelectFirstQuantization:w</title>\n<path fill=\"none\" stroke=\"black\" d=\"M60,-1800C79.61,-1800 80.71,-1460.27 99.16,-1439.04\"/>\n<ellipse fill=\"black\" stroke=\"black\" cx=\"100.13\" cy=\"-1438.49\" rx=\"1\" ry=\"1\"/>\n<text text-anchor=\"middle\" x=\"82.5\" y=\"-1589\" font-family=\"Times,serif\" font-size=\"10.00\">7</text>\n</g>\n<!-- nu_z_G45 -->\n<g id=\"node13\" class=\"node\">\n<title>nu_z_G45</title>\n<text text-anchor=\"middle\" x=\"32\" y=\"-1742.3\" font-family=\"Times,serif\" font-size=\"14.00\">nu_z</text>\n</g>\n<!-- nu_z_G45&#45;&gt;SelectFirstQuantization -->\n<g id=\"edge13\" class=\"edge\">\n<title>nu_z_G45:e-&gt;SelectFirstQuantization:w</title>\n<path fill=\"none\" stroke=\"black\" d=\"M60,-1746C77.77,-1746 82.27,-1439.73 99.11,-1418.19\"/>\n<ellipse fill=\"black\" stroke=\"black\" cx=\"100.15\" cy=\"-1417.53\" rx=\"1\" ry=\"1\"/>\n<text text-anchor=\"middle\" x=\"82.5\" y=\"-1555\" font-family=\"Times,serif\" font-size=\"10.00\">7</text>\n</g>\n<!-- m_G100 -->\n<g id=\"node14\" class=\"node\">\n<title>m_G100</title>\n<text text-anchor=\"middle\" x=\"32\" y=\"-1688.3\" font-family=\"Times,serif\" font-size=\"14.00\">m</text>\n</g>\n<!-- m_G100&#45;&gt;SelectFirstQuantization -->\n<g id=\"edge14\" class=\"edge\">\n<title>m_G100:e-&gt;SelectFirstQuantization:w</title>\n<path fill=\"none\" stroke=\"black\" d=\"M60,-1692C76.02,-1692 83.84,-1416.45 99.28,-1397.07\"/>\n<ellipse fill=\"black\" stroke=\"black\" cx=\"100.15\" cy=\"-1396.53\" rx=\"1\" ry=\"1\"/>\n<text text-anchor=\"middle\" x=\"82.5\" y=\"-1520\" font-family=\"Times,serif\" font-size=\"10.00\">8</text>\n</g>\n<!-- l_G60 -->\n<g id=\"node15\" class=\"node\">\n<title>l_G60</title>\n<text text-anchor=\"middle\" x=\"32\" y=\"-1634.3\" font-family=\"Times,serif\" font-size=\"14.00\">l</text>\n</g>\n<!-- l_G60&#45;&gt;SelectFirstQuantization -->\n<g id=\"edge15\" class=\"edge\">\n<title>l_G60:e-&gt;SelectFirstQuantization:w</title>\n<path fill=\"none\" stroke=\"black\" d=\"M60,-1638C74.21,-1638 85.31,-1395.15 99.28,-1376.17\"/>\n<ellipse fill=\"black\" stroke=\"black\" cx=\"100.17\" cy=\"-1375.56\" rx=\"1\" ry=\"1\"/>\n<text text-anchor=\"middle\" x=\"82.5\" y=\"-1493\" font-family=\"Times,serif\" font-size=\"10.00\">4</text>\n</g>\n<!-- sys_G99 -->\n<g id=\"node16\" class=\"node\">\n<title>sys_G99</title>\n<text text-anchor=\"middle\" x=\"32\" y=\"-1580.3\" font-family=\"Times,serif\" font-size=\"14.00\">sys[0, 0]</text>\n</g>\n<!-- sys_G99&#45;&gt;SelectFirstQuantization -->\n<g id=\"edge16\" class=\"edge\">\n<title>sys_G99:e-&gt;SelectFirstQuantization:w</title>\n<path fill=\"none\" stroke=\"black\" d=\"M64,-1584C89.18,-1584 75.89,-1366.41 98.97,-1354.51\"/>\n<ellipse fill=\"black\" stroke=\"black\" cx=\"100.03\" cy=\"-1354.24\" rx=\"1\" ry=\"1\"/>\n<text text-anchor=\"middle\" x=\"82.5\" y=\"-1478\" font-family=\"Times,serif\" font-size=\"10.00\">6</text>\n</g>\n<!-- sys_G33 -->\n<g id=\"node17\" class=\"node\">\n<title>sys_G33</title>\n<text text-anchor=\"middle\" x=\"32\" y=\"-1526.3\" font-family=\"Times,serif\" font-size=\"14.00\">sys[0, 1]</text>\n</g>\n<!-- sys_G33&#45;&gt;SelectFirstQuantization -->\n<g id=\"edge17\" class=\"edge\">\n<title>sys_G33:e-&gt;SelectFirstQuantization:w</title>\n<path fill=\"none\" stroke=\"black\" d=\"M64,-1530C85.58,-1530 79.17,-1345.12 99,-1333.57\"/>\n<ellipse fill=\"black\" stroke=\"black\" cx=\"100.04\" cy=\"-1333.27\" rx=\"1\" ry=\"1\"/>\n<text text-anchor=\"middle\" x=\"82.5\" y=\"-1440\" font-family=\"Times,serif\" font-size=\"10.00\">6</text>\n</g>\n<!-- sys_G16 -->\n<g id=\"node18\" class=\"node\">\n<title>sys_G16</title>\n<text text-anchor=\"middle\" x=\"32\" y=\"-1472.3\" font-family=\"Times,serif\" font-size=\"14.00\">sys[0, 2]</text>\n</g>\n<!-- sys_G16&#45;&gt;SelectFirstQuantization -->\n<g id=\"edge18\" class=\"edge\">\n<title>sys_G16:e-&gt;SelectFirstQuantization:w</title>\n<path fill=\"none\" stroke=\"black\" d=\"M64,-1476C81.95,-1476 82.32,-1324.56 98.9,-1312.73\"/>\n<ellipse fill=\"black\" stroke=\"black\" cx=\"100.06\" cy=\"-1312.33\" rx=\"1\" ry=\"1\"/>\n<text text-anchor=\"middle\" x=\"82.5\" y=\"-1397\" font-family=\"Times,serif\" font-size=\"10.00\">6</text>\n</g>\n<!-- sys_G25 -->\n<g id=\"node19\" class=\"node\">\n<title>sys_G25</title>\n<text text-anchor=\"middle\" x=\"32\" y=\"-1418.3\" font-family=\"Times,serif\" font-size=\"14.00\">sys[1, 0]</text>\n</g>\n<!-- sys_G25&#45;&gt;SelectFirstQuantization -->\n<g id=\"edge19\" class=\"edge\">\n<title>sys_G25:e-&gt;SelectFirstQuantization:w</title>\n<path fill=\"none\" stroke=\"black\" d=\"M64,-1422C93.54,-1422 71.82,-1297.07 98.96,-1291.21\"/>\n<ellipse fill=\"black\" stroke=\"black\" cx=\"100.01\" cy=\"-1291.1\" rx=\"1\" ry=\"1\"/>\n<text text-anchor=\"middle\" x=\"82.5\" y=\"-1367\" font-family=\"Times,serif\" font-size=\"10.00\">6</text>\n</g>\n<!-- sys_G65 -->\n<g id=\"node20\" class=\"node\">\n<title>sys_G65</title>\n<text text-anchor=\"middle\" x=\"32\" y=\"-1364.3\" font-family=\"Times,serif\" font-size=\"14.00\">sys[1, 1]</text>\n</g>\n<!-- sys_G65&#45;&gt;SelectFirstQuantization -->\n<g id=\"edge20\" class=\"edge\">\n<title>sys_G65:e-&gt;SelectFirstQuantization:w</title>\n<path fill=\"none\" stroke=\"black\" d=\"M64,-1368C86.55,-1368 78.29,-1276.03 98.91,-1270.28\"/>\n<ellipse fill=\"black\" stroke=\"black\" cx=\"100.01\" cy=\"-1270.13\" rx=\"1\" ry=\"1\"/>\n<text text-anchor=\"middle\" x=\"82.5\" y=\"-1324\" font-family=\"Times,serif\" font-size=\"10.00\">6</text>\n</g>\n<!-- sys_G28 -->\n<g id=\"node21\" class=\"node\">\n<title>sys_G28</title>\n<text text-anchor=\"middle\" x=\"32\" y=\"-1310.3\" font-family=\"Times,serif\" font-size=\"14.00\">sys[1, 2]</text>\n</g>\n<!-- sys_G28&#45;&gt;SelectFirstQuantization -->\n<g id=\"edge21\" class=\"edge\">\n<title>sys_G28:e-&gt;SelectFirstQuantization:w</title>\n<path fill=\"none\" stroke=\"black\" d=\"M64,-1314C96.46,-1314 69.11,-1252.01 98.76,-1249.11\"/>\n<ellipse fill=\"black\" stroke=\"black\" cx=\"100\" cy=\"-1249.05\" rx=\"1\" ry=\"1\"/>\n<text text-anchor=\"middle\" x=\"82.5\" y=\"-1290\" font-family=\"Times,serif\" font-size=\"10.00\">6</text>\n</g>\n<!-- sys_G11 -->\n<g id=\"node22\" class=\"node\">\n<title>sys_G11</title>\n<text text-anchor=\"middle\" x=\"32\" y=\"-1256.3\" font-family=\"Times,serif\" font-size=\"14.00\">sys[2, 0]</text>\n</g>\n<!-- sys_G11&#45;&gt;SelectFirstQuantization -->\n<g id=\"edge22\" class=\"edge\">\n<title>sys_G11:e-&gt;SelectFirstQuantization:w</title>\n<path fill=\"none\" stroke=\"black\" d=\"M64,-1260C84.89,-1260 79.72,-1230.45 98.58,-1228.14\"/>\n<ellipse fill=\"black\" stroke=\"black\" cx=\"100\" cy=\"-1228.06\" rx=\"1\" ry=\"1\"/>\n<text text-anchor=\"middle\" x=\"82.5\" y=\"-1247\" font-family=\"Times,serif\" font-size=\"10.00\">6</text>\n</g>\n<!-- sys_G63 -->\n<g id=\"node23\" class=\"node\">\n<title>sys_G63</title>\n<text text-anchor=\"middle\" x=\"32\" y=\"-1202.3\" font-family=\"Times,serif\" font-size=\"14.00\">sys[2, 1]</text>\n</g>\n<!-- sys_G63&#45;&gt;SelectFirstQuantization -->\n<g id=\"edge23\" class=\"edge\">\n<title>sys_G63:e-&gt;SelectFirstQuantization:w</title>\n<path fill=\"none\" stroke=\"black\" d=\"M64,-1206C79.67,-1206 84.14,-1206 98.77,-1206\"/>\n<ellipse fill=\"black\" stroke=\"black\" cx=\"100\" cy=\"-1206\" rx=\"1\" ry=\"1\"/>\n<text text-anchor=\"middle\" x=\"82.5\" y=\"-1209\" font-family=\"Times,serif\" font-size=\"10.00\">6</text>\n</g>\n<!-- sys_G96 -->\n<g id=\"node24\" class=\"node\">\n<title>sys_G96</title>\n<text text-anchor=\"middle\" x=\"32\" y=\"-1148.3\" font-family=\"Times,serif\" font-size=\"14.00\">sys[2, 2]</text>\n</g>\n<!-- sys_G96&#45;&gt;SelectFirstQuantization -->\n<g id=\"edge24\" class=\"edge\">\n<title>sys_G96:e-&gt;SelectFirstQuantization:w</title>\n<path fill=\"none\" stroke=\"black\" d=\"M64,-1152C85.17,-1152 79.47,-1182.47 98.55,-1184.85\"/>\n<ellipse fill=\"black\" stroke=\"black\" cx=\"100\" cy=\"-1184.94\" rx=\"1\" ry=\"1\"/>\n<text text-anchor=\"middle\" x=\"82.5\" y=\"-1172\" font-family=\"Times,serif\" font-size=\"10.00\">6</text>\n</g>\n<!-- sys_G6 -->\n<g id=\"node25\" class=\"node\">\n<title>sys_G6</title>\n<text text-anchor=\"middle\" x=\"32\" y=\"-1094.3\" font-family=\"Times,serif\" font-size=\"14.00\">sys[3, 0]</text>\n</g>\n<!-- sys_G6&#45;&gt;SelectFirstQuantization -->\n<g id=\"edge25\" class=\"edge\">\n<title>sys_G6:e-&gt;SelectFirstQuantization:w</title>\n<path fill=\"none\" stroke=\"black\" d=\"M64,-1098C96.84,-1098 68.75,-1160.94 98.74,-1163.89\"/>\n<ellipse fill=\"black\" stroke=\"black\" cx=\"100\" cy=\"-1163.95\" rx=\"1\" ry=\"1\"/>\n<text text-anchor=\"middle\" x=\"82.5\" y=\"-1141\" font-family=\"Times,serif\" font-size=\"10.00\">6</text>\n</g>\n<!-- sys_G104 -->\n<g id=\"node26\" class=\"node\">\n<title>sys_G104</title>\n<text text-anchor=\"middle\" x=\"32\" y=\"-1040.3\" font-family=\"Times,serif\" font-size=\"14.00\">sys[3, 1]</text>\n</g>\n<!-- sys_G104&#45;&gt;SelectFirstQuantization -->\n<g id=\"edge26\" class=\"edge\">\n<title>sys_G104:e-&gt;SelectFirstQuantization:w</title>\n<path fill=\"none\" stroke=\"black\" d=\"M64,-1044C86.75,-1044 78.1,-1136.91 98.89,-1142.72\"/>\n<ellipse fill=\"black\" stroke=\"black\" cx=\"100.01\" cy=\"-1142.87\" rx=\"1\" ry=\"1\"/>\n<text text-anchor=\"middle\" x=\"82.5\" y=\"-1099\" font-family=\"Times,serif\" font-size=\"10.00\">6</text>\n</g>\n<!-- sys_G10 -->\n<g id=\"node27\" class=\"node\">\n<title>sys_G10</title>\n<text text-anchor=\"middle\" x=\"32\" y=\"-986.3\" font-family=\"Times,serif\" font-size=\"14.00\">sys[3, 2]</text>\n</g>\n<!-- sys_G10&#45;&gt;SelectFirstQuantization -->\n<g id=\"edge27\" class=\"edge\">\n<title>sys_G10:e-&gt;SelectFirstQuantization:w</title>\n<path fill=\"none\" stroke=\"black\" d=\"M64,-990C93.75,-990 71.63,-1115.89 98.95,-1121.79\"/>\n<ellipse fill=\"black\" stroke=\"black\" cx=\"100.01\" cy=\"-1121.9\" rx=\"1\" ry=\"1\"/>\n<text text-anchor=\"middle\" x=\"82.5\" y=\"-1066\" font-family=\"Times,serif\" font-size=\"10.00\">6</text>\n</g>\n<!-- sys_G122 -->\n<g id=\"node28\" class=\"node\">\n<title>sys_G122</title>\n<text text-anchor=\"middle\" x=\"32\" y=\"-932.3\" font-family=\"Times,serif\" font-size=\"14.00\">sys[4, 0]</text>\n</g>\n<!-- sys_G122&#45;&gt;SelectFirstQuantization -->\n<g id=\"edge28\" class=\"edge\">\n<title>sys_G122:e-&gt;SelectFirstQuantization:w</title>\n<path fill=\"none\" stroke=\"black\" d=\"M64,-936C82.05,-936 82.23,-1088.36 98.88,-1100.26\"/>\n<ellipse fill=\"black\" stroke=\"black\" cx=\"100.06\" cy=\"-1100.67\" rx=\"1\" ry=\"1\"/>\n<text text-anchor=\"middle\" x=\"82.5\" y=\"-1021\" font-family=\"Times,serif\" font-size=\"10.00\">6</text>\n</g>\n<!-- sys_G93 -->\n<g id=\"node29\" class=\"node\">\n<title>sys_G93</title>\n<text text-anchor=\"middle\" x=\"32\" y=\"-878.3\" font-family=\"Times,serif\" font-size=\"14.00\">sys[4, 1]</text>\n</g>\n<!-- sys_G93&#45;&gt;SelectFirstQuantization -->\n<g id=\"edge29\" class=\"edge\">\n<title>sys_G93:e-&gt;SelectFirstQuantization:w</title>\n<path fill=\"none\" stroke=\"black\" d=\"M64,-882C85.68,-882 79.07,-1067.82 98.99,-1079.43\"/>\n<ellipse fill=\"black\" stroke=\"black\" cx=\"100.04\" cy=\"-1079.73\" rx=\"1\" ry=\"1\"/>\n<text text-anchor=\"middle\" x=\"82.5\" y=\"-989\" font-family=\"Times,serif\" font-size=\"10.00\">6</text>\n</g>\n<!-- sys_G76 -->\n<g id=\"node30\" class=\"node\">\n<title>sys_G76</title>\n<text text-anchor=\"middle\" x=\"32\" y=\"-824.3\" font-family=\"Times,serif\" font-size=\"14.00\">sys[4, 2]</text>\n</g>\n<!-- sys_G76&#45;&gt;SelectFirstQuantization -->\n<g id=\"edge30\" class=\"edge\">\n<title>sys_G76:e-&gt;SelectFirstQuantization:w</title>\n<path fill=\"none\" stroke=\"black\" d=\"M64,-828C89.28,-828 75.8,-1046.54 98.96,-1058.49\"/>\n<ellipse fill=\"black\" stroke=\"black\" cx=\"100.03\" cy=\"-1058.76\" rx=\"1\" ry=\"1\"/>\n<text text-anchor=\"middle\" x=\"82.5\" y=\"-953\" font-family=\"Times,serif\" font-size=\"10.00\">6</text>\n</g>\n<!-- sys_G84 -->\n<g id=\"node31\" class=\"node\">\n<title>sys_G84</title>\n<text text-anchor=\"middle\" x=\"32\" y=\"-770.3\" font-family=\"Times,serif\" font-size=\"14.00\">sys[5, 0]</text>\n</g>\n<!-- sys_G84&#45;&gt;SelectFirstQuantization -->\n<g id=\"edge31\" class=\"edge\">\n<title>sys_G84:e-&gt;SelectFirstQuantization:w</title>\n<path fill=\"none\" stroke=\"black\" d=\"M64,-774C92.93,-774 72.39,-1025.77 99,-1037.57\"/>\n<ellipse fill=\"black\" stroke=\"black\" cx=\"100.02\" cy=\"-1037.79\" rx=\"1\" ry=\"1\"/>\n<text text-anchor=\"middle\" x=\"82.5\" y=\"-924\" font-family=\"Times,serif\" font-size=\"10.00\">6</text>\n</g>\n<!-- sys_G17 -->\n<g id=\"node32\" class=\"node\">\n<title>sys_G17</title>\n<text text-anchor=\"middle\" x=\"32\" y=\"-716.3\" font-family=\"Times,serif\" font-size=\"14.00\">sys[5, 1]</text>\n</g>\n<!-- sys_G17&#45;&gt;SelectFirstQuantization -->\n<g id=\"edge32\" class=\"edge\">\n<title>sys_G17:e-&gt;SelectFirstQuantization:w</title>\n<path fill=\"none\" stroke=\"black\" d=\"M64,-720C80.04,-720 84.09,-996.48 99.29,-1015.92\"/>\n<ellipse fill=\"black\" stroke=\"black\" cx=\"100.15\" cy=\"-1016.47\" rx=\"1\" ry=\"1\"/>\n<text text-anchor=\"middle\" x=\"82.5\" y=\"-871\" font-family=\"Times,serif\" font-size=\"10.00\">6</text>\n</g>\n<!-- sys_G0 -->\n<g id=\"node33\" class=\"node\">\n<title>sys_G0</title>\n<text text-anchor=\"middle\" x=\"32\" y=\"-662.3\" font-family=\"Times,serif\" font-size=\"14.00\">sys[5, 2]</text>\n</g>\n<!-- sys_G0&#45;&gt;SelectFirstQuantization -->\n<g id=\"edge33\" class=\"edge\">\n<title>sys_G0:e-&gt;SelectFirstQuantization:w</title>\n<path fill=\"none\" stroke=\"black\" d=\"M64,-666C81.8,-666 82.52,-973.2 99.12,-994.81\"/>\n<ellipse fill=\"black\" stroke=\"black\" cx=\"100.16\" cy=\"-995.46\" rx=\"1\" ry=\"1\"/>\n<text text-anchor=\"middle\" x=\"82.5\" y=\"-834\" font-family=\"Times,serif\" font-size=\"10.00\">6</text>\n</g>\n<!-- sys_G74 -->\n<g id=\"node34\" class=\"node\">\n<title>sys_G74</title>\n<text text-anchor=\"middle\" x=\"32\" y=\"-608.3\" font-family=\"Times,serif\" font-size=\"14.00\">sys[6, 0]</text>\n</g>\n<!-- sys_G74&#45;&gt;SelectFirstQuantization -->\n<g id=\"edge34\" class=\"edge\">\n<title>sys_G74:e-&gt;SelectFirstQuantization:w</title>\n<path fill=\"none\" stroke=\"black\" d=\"M64,-612C83.64,-612 80.93,-952.67 99.17,-973.96\"/>\n<ellipse fill=\"black\" stroke=\"black\" cx=\"100.13\" cy=\"-974.51\" rx=\"1\" ry=\"1\"/>\n<text text-anchor=\"middle\" x=\"82.5\" y=\"-796\" font-family=\"Times,serif\" font-size=\"10.00\">6</text>\n</g>\n<!-- sys_G110 -->\n<g id=\"node35\" class=\"node\">\n<title>sys_G110</title>\n<text text-anchor=\"middle\" x=\"32\" y=\"-554.3\" font-family=\"Times,serif\" font-size=\"14.00\">sys[6, 1]</text>\n</g>\n<!-- sys_G110&#45;&gt;SelectFirstQuantization -->\n<g id=\"edge35\" class=\"edge\">\n<title>sys_G110:e-&gt;SelectFirstQuantization:w</title>\n<path fill=\"none\" stroke=\"black\" d=\"M64,-558C85.41,-558 79.33,-929.64 99.01,-952.86\"/>\n<ellipse fill=\"black\" stroke=\"black\" cx=\"100.13\" cy=\"-953.5\" rx=\"1\" ry=\"1\"/>\n<text text-anchor=\"middle\" x=\"82.5\" y=\"-770\" font-family=\"Times,serif\" font-size=\"10.00\">6</text>\n</g>\n<!-- sys_G83 -->\n<g id=\"node36\" class=\"node\">\n<title>sys_G83</title>\n<text text-anchor=\"middle\" x=\"32\" y=\"-500.3\" font-family=\"Times,serif\" font-size=\"14.00\">sys[6, 2]</text>\n</g>\n<!-- sys_G83&#45;&gt;SelectFirstQuantization -->\n<g id=\"edge36\" class=\"edge\">\n<title>sys_G83:e-&gt;SelectFirstQuantization:w</title>\n<path fill=\"none\" stroke=\"black\" d=\"M64,-504C87.27,-504 77.65,-909.86 99.11,-932.06\"/>\n<ellipse fill=\"black\" stroke=\"black\" cx=\"100.11\" cy=\"-932.55\" rx=\"1\" ry=\"1\"/>\n<text text-anchor=\"middle\" x=\"82.5\" y=\"-734\" font-family=\"Times,serif\" font-size=\"10.00\">6</text>\n</g>\n<!-- sys_G61 -->\n<g id=\"node37\" class=\"node\">\n<title>sys_G61</title>\n<text text-anchor=\"middle\" x=\"32\" y=\"-446.3\" font-family=\"Times,serif\" font-size=\"14.00\">sys[7, 0]</text>\n</g>\n<!-- sys_G61&#45;&gt;SelectFirstQuantization -->\n<g id=\"edge37\" class=\"edge\">\n<title>sys_G61:e-&gt;SelectFirstQuantization:w</title>\n<path fill=\"none\" stroke=\"black\" d=\"M64,-450C76.42,-450 87.33,-880.09 99.65,-910.33\"/>\n<ellipse fill=\"black\" stroke=\"black\" cx=\"100.37\" cy=\"-911.22\" rx=\"1\" ry=\"1\"/>\n<text text-anchor=\"middle\" x=\"82.5\" y=\"-684\" font-family=\"Times,serif\" font-size=\"10.00\">6</text>\n</g>\n<!-- sys_G132 -->\n<g id=\"node38\" class=\"node\">\n<title>sys_G132</title>\n<text text-anchor=\"middle\" x=\"32\" y=\"-392.3\" font-family=\"Times,serif\" font-size=\"14.00\">sys[7, 1]</text>\n</g>\n<!-- sys_G132&#45;&gt;SelectFirstQuantization -->\n<g id=\"edge38\" class=\"edge\">\n<title>sys_G132:e-&gt;SelectFirstQuantization:w</title>\n<path fill=\"none\" stroke=\"black\" d=\"M64,-396C90.93,-396 74.25,-868.07 99.14,-890.2\"/>\n<ellipse fill=\"black\" stroke=\"black\" cx=\"100.08\" cy=\"-890.6\" rx=\"1\" ry=\"1\"/>\n<text text-anchor=\"middle\" x=\"82.5\" y=\"-661\" font-family=\"Times,serif\" font-size=\"10.00\">6</text>\n</g>\n<!-- sys_G27 -->\n<g id=\"node39\" class=\"node\">\n<title>sys_G27</title>\n<text text-anchor=\"middle\" x=\"32\" y=\"-338.3\" font-family=\"Times,serif\" font-size=\"14.00\">sys[7, 2]</text>\n</g>\n<!-- sys_G27&#45;&gt;SelectFirstQuantization -->\n<g id=\"edge39\" class=\"edge\">\n<title>sys_G27:e-&gt;SelectFirstQuantization:w</title>\n<path fill=\"none\" stroke=\"black\" d=\"M64,-342C78.24,-342 85.82,-837.52 99.64,-868.49\"/>\n<ellipse fill=\"black\" stroke=\"black\" cx=\"100.33\" cy=\"-869.26\" rx=\"1\" ry=\"1\"/>\n<text text-anchor=\"middle\" x=\"82.5\" y=\"-609\" font-family=\"Times,serif\" font-size=\"10.00\">6</text>\n</g>\n<!-- sys_G47 -->\n<g id=\"node40\" class=\"node\">\n<title>sys_G47</title>\n<text text-anchor=\"middle\" x=\"32\" y=\"-284.3\" font-family=\"Times,serif\" font-size=\"14.00\">sys[8, 0]</text>\n</g>\n<!-- sys_G47&#45;&gt;SelectFirstQuantization -->\n<g id=\"edge40\" class=\"edge\">\n<title>sys_G47:e-&gt;SelectFirstQuantization:w</title>\n<path fill=\"none\" stroke=\"black\" d=\"M64,-288C79.13,-288 85.01,-814.49 99.56,-847.39\"/>\n<ellipse fill=\"black\" stroke=\"black\" cx=\"100.33\" cy=\"-848.25\" rx=\"1\" ry=\"1\"/>\n<text text-anchor=\"middle\" x=\"82.5\" y=\"-571\" font-family=\"Times,serif\" font-size=\"10.00\">6</text>\n</g>\n<!-- sys_G23 -->\n<g id=\"node41\" class=\"node\">\n<title>sys_G23</title>\n<text text-anchor=\"middle\" x=\"32\" y=\"-230.3\" font-family=\"Times,serif\" font-size=\"14.00\">sys[8, 1]</text>\n</g>\n<!-- sys_G23&#45;&gt;SelectFirstQuantization -->\n<g id=\"edge41\" class=\"edge\">\n<title>sys_G23:e-&gt;SelectFirstQuantization:w</title>\n<path fill=\"none\" stroke=\"black\" d=\"M64,-234C80.02,-234 84.21,-791.46 99.49,-826.3\"/>\n<ellipse fill=\"black\" stroke=\"black\" cx=\"100.34\" cy=\"-827.25\" rx=\"1\" ry=\"1\"/>\n<text text-anchor=\"middle\" x=\"82.5\" y=\"-534\" font-family=\"Times,serif\" font-size=\"10.00\">6</text>\n</g>\n<!-- sys_G59 -->\n<g id=\"node42\" class=\"node\">\n<title>sys_G59</title>\n<text text-anchor=\"middle\" x=\"32\" y=\"-176.3\" font-family=\"Times,serif\" font-size=\"14.00\">sys[8, 2]</text>\n</g>\n<!-- sys_G59&#45;&gt;SelectFirstQuantization -->\n<g id=\"edge42\" class=\"edge\">\n<title>sys_G59:e-&gt;SelectFirstQuantization:w</title>\n<path fill=\"none\" stroke=\"black\" d=\"M64,-180C80.9,-180 83.41,-768.42 99.41,-805.2\"/>\n<ellipse fill=\"black\" stroke=\"black\" cx=\"100.34\" cy=\"-806.25\" rx=\"1\" ry=\"1\"/>\n<text text-anchor=\"middle\" x=\"82.5\" y=\"-496\" font-family=\"Times,serif\" font-size=\"10.00\">6</text>\n</g>\n<!-- sys_G34 -->\n<g id=\"node43\" class=\"node\">\n<title>sys_G34</title>\n<text text-anchor=\"middle\" x=\"32\" y=\"-122.3\" font-family=\"Times,serif\" font-size=\"14.00\">sys[9, 0]</text>\n</g>\n<!-- sys_G34&#45;&gt;SelectFirstQuantization -->\n<g id=\"edge43\" class=\"edge\">\n<title>sys_G34:e-&gt;SelectFirstQuantization:w</title>\n<path fill=\"none\" stroke=\"black\" d=\"M64,-126C81.86,-126 82.61,-750.4 99.53,-784.55\"/>\n<ellipse fill=\"black\" stroke=\"black\" cx=\"100.29\" cy=\"-785.3\" rx=\"1\" ry=\"1\"/>\n<text text-anchor=\"middle\" x=\"82.5\" y=\"-459\" font-family=\"Times,serif\" font-size=\"10.00\">6</text>\n</g>\n<!-- sys_G8 -->\n<g id=\"node44\" class=\"node\">\n<title>sys_G8</title>\n<text text-anchor=\"middle\" x=\"32\" y=\"-68.3\" font-family=\"Times,serif\" font-size=\"14.00\">sys[9, 1]</text>\n</g>\n<!-- sys_G8&#45;&gt;SelectFirstQuantization -->\n<g id=\"edge44\" class=\"edge\">\n<title>sys_G8:e-&gt;SelectFirstQuantization:w</title>\n<path fill=\"none\" stroke=\"black\" d=\"M64,-72C82.75,-72 81.79,-727.62 99.46,-763.47\"/>\n<ellipse fill=\"black\" stroke=\"black\" cx=\"100.29\" cy=\"-764.3\" rx=\"1\" ry=\"1\"/>\n<text text-anchor=\"middle\" x=\"82.5\" y=\"-422\" font-family=\"Times,serif\" font-size=\"10.00\">6</text>\n</g>\n<!-- sys_G40 -->\n<g id=\"node45\" class=\"node\">\n<title>sys_G40</title>\n<text text-anchor=\"middle\" x=\"32\" y=\"-14.3\" font-family=\"Times,serif\" font-size=\"14.00\">sys[9, 2]</text>\n</g>\n<!-- sys_G40&#45;&gt;SelectFirstQuantization -->\n<g id=\"edge45\" class=\"edge\">\n<title>sys_G40:e-&gt;SelectFirstQuantization:w</title>\n<path fill=\"none\" stroke=\"black\" d=\"M64,-18C83.64,-18 80.97,-704.84 99.4,-742.4\"/>\n<ellipse fill=\"black\" stroke=\"black\" cx=\"100.29\" cy=\"-743.29\" rx=\"1\" ry=\"1\"/>\n<text text-anchor=\"middle\" x=\"82.5\" y=\"-384\" font-family=\"Times,serif\" font-size=\"10.00\">6</text>\n</g>\n<!-- tuv_G46 -->\n<g id=\"node47\" class=\"node\">\n<title>tuv_G46</title>\n<text text-anchor=\"middle\" x=\"273\" y=\"-2390.3\" font-family=\"Times,serif\" font-size=\"14.00\">tuv</text>\n</g>\n<!-- SelectFirstQuantization&#45;&gt;tuv_G46 -->\n<g id=\"edge46\" class=\"edge\">\n<title>SelectFirstQuantization:e-&gt;tuv_G46:w</title>\n<path fill=\"none\" stroke=\"black\" d=\"M204,-1669C223.62,-1669 224.78,-2354.89 243.39,-2392.4\"/>\n<ellipse fill=\"black\" stroke=\"black\" cx=\"244.29\" cy=\"-2393.3\" rx=\"1\" ry=\"1\"/>\n<text text-anchor=\"middle\" x=\"222.5\" y=\"-1969\" font-family=\"Times,serif\" font-size=\"10.00\">1</text>\n</g>\n<!-- uv_G20 -->\n<g id=\"node48\" class=\"node\">\n<title>uv_G20</title>\n<text text-anchor=\"middle\" x=\"273\" y=\"-2336.3\" font-family=\"Times,serif\" font-size=\"14.00\">uv</text>\n</g>\n<!-- SelectFirstQuantization&#45;&gt;uv_G20 -->\n<g id=\"edge47\" class=\"edge\">\n<title>SelectFirstQuantization:e-&gt;uv_G20:w</title>\n<path fill=\"none\" stroke=\"black\" d=\"M204,-1648C222.73,-1648 225.6,-2302.67 243.46,-2338.48\"/>\n<ellipse fill=\"black\" stroke=\"black\" cx=\"244.29\" cy=\"-2339.3\" rx=\"1\" ry=\"1\"/>\n<text text-anchor=\"middle\" x=\"222.5\" y=\"-1935\" font-family=\"Times,serif\" font-size=\"10.00\">1</text>\n</g>\n<!-- i_ne_j_G42 -->\n<g id=\"node49\" class=\"node\">\n<title>i_ne_j_G42</title>\n<text text-anchor=\"middle\" x=\"273\" y=\"-2282.3\" font-family=\"Times,serif\" font-size=\"14.00\">i_ne_j</text>\n</g>\n<!-- SelectFirstQuantization&#45;&gt;i_ne_j_G42 -->\n<g id=\"edge48\" class=\"edge\">\n<title>SelectFirstQuantization:e-&gt;i_ne_j_G42:w</title>\n<path fill=\"none\" stroke=\"black\" d=\"M204,-1627C221.84,-1627 226.41,-2250.45 243.53,-2284.55\"/>\n<ellipse fill=\"black\" stroke=\"black\" cx=\"244.29\" cy=\"-2285.3\" rx=\"1\" ry=\"1\"/>\n<text text-anchor=\"middle\" x=\"222.5\" y=\"-1900\" font-family=\"Times,serif\" font-size=\"10.00\">1</text>\n</g>\n<!-- plus_t_G86 -->\n<g id=\"node50\" class=\"node\">\n<title>plus_t_G86</title>\n<text text-anchor=\"middle\" x=\"273\" y=\"-2228.3\" font-family=\"Times,serif\" font-size=\"14.00\">plus_t</text>\n</g>\n<!-- SelectFirstQuantization&#45;&gt;plus_t_G86 -->\n<g id=\"edge49\" class=\"edge\">\n<title>SelectFirstQuantization:e-&gt;plus_t_G86:w</title>\n<path fill=\"none\" stroke=\"black\" d=\"M204,-1606C220.88,-1606 227.18,-2193.49 243.4,-2230.2\"/>\n<ellipse fill=\"black\" stroke=\"black\" cx=\"244.33\" cy=\"-2231.25\" rx=\"1\" ry=\"1\"/>\n<text text-anchor=\"middle\" x=\"222.5\" y=\"-1865\" font-family=\"Times,serif\" font-size=\"10.00\">1</text>\n</g>\n<!-- i_G5 -->\n<g id=\"node51\" class=\"node\">\n<title>i_G5</title>\n<text text-anchor=\"middle\" x=\"273\" y=\"-2174.3\" font-family=\"Times,serif\" font-size=\"14.00\">i</text>\n</g>\n<!-- SelectFirstQuantization&#45;&gt;i_G5 -->\n<g id=\"edge50\" class=\"edge\">\n<title>SelectFirstQuantization:e-&gt;i_G5:w</title>\n<path fill=\"none\" stroke=\"black\" d=\"M204,-1585C220,-1585 227.98,-2141.52 243.48,-2176.3\"/>\n<ellipse fill=\"black\" stroke=\"black\" cx=\"244.33\" cy=\"-2177.26\" rx=\"1\" ry=\"1\"/>\n<text text-anchor=\"middle\" x=\"222.5\" y=\"-1831\" font-family=\"Times,serif\" font-size=\"10.00\">4</text>\n</g>\n<!-- j_G7 -->\n<g id=\"node52\" class=\"node\">\n<title>j_G7</title>\n<text text-anchor=\"middle\" x=\"273\" y=\"-2120.3\" font-family=\"Times,serif\" font-size=\"14.00\">j</text>\n</g>\n<!-- SelectFirstQuantization&#45;&gt;j_G7 -->\n<g id=\"edge51\" class=\"edge\">\n<title>SelectFirstQuantization:e-&gt;j_G7:w</title>\n<path fill=\"none\" stroke=\"black\" d=\"M204,-1564C219.11,-1564 228.78,-2089.55 243.55,-2122.39\"/>\n<ellipse fill=\"black\" stroke=\"black\" cx=\"244.33\" cy=\"-2123.26\" rx=\"1\" ry=\"1\"/>\n<text text-anchor=\"middle\" x=\"222.5\" y=\"-1813\" font-family=\"Times,serif\" font-size=\"10.00\">4</text>\n</g>\n<!-- w_G41 -->\n<g id=\"node53\" class=\"node\">\n<title>w_G41</title>\n<text text-anchor=\"middle\" x=\"273\" y=\"-2066.3\" font-family=\"Times,serif\" font-size=\"14.00\">w</text>\n</g>\n<!-- SelectFirstQuantization&#45;&gt;w_G41 -->\n<g id=\"edge52\" class=\"edge\">\n<title>SelectFirstQuantization:e-&gt;w_G41:w</title>\n<path fill=\"none\" stroke=\"black\" d=\"M204,-1543C218.22,-1543 229.59,-2037.58 243.63,-2068.49\"/>\n<ellipse fill=\"black\" stroke=\"black\" cx=\"244.33\" cy=\"-2069.26\" rx=\"1\" ry=\"1\"/>\n<text text-anchor=\"middle\" x=\"222.5\" y=\"-1777\" font-family=\"Times,serif\" font-size=\"10.00\">3</text>\n</g>\n<!-- r_G21 -->\n<g id=\"node54\" class=\"node\">\n<title>r_G21</title>\n<text text-anchor=\"middle\" x=\"273\" y=\"-2012.3\" font-family=\"Times,serif\" font-size=\"14.00\">r</text>\n</g>\n<!-- SelectFirstQuantization&#45;&gt;r_G21 -->\n<g id=\"edge53\" class=\"edge\">\n<title>SelectFirstQuantization:e-&gt;r_G21:w</title>\n<path fill=\"none\" stroke=\"black\" d=\"M204,-1522C217.29,-1522 230.28,-1981.88 243.55,-2014.21\"/>\n<ellipse fill=\"black\" stroke=\"black\" cx=\"244.37\" cy=\"-2015.22\" rx=\"1\" ry=\"1\"/>\n<text text-anchor=\"middle\" x=\"222.5\" y=\"-1742\" font-family=\"Times,serif\" font-size=\"10.00\">6</text>\n</g>\n<!-- s_G72 -->\n<g id=\"node55\" class=\"node\">\n<title>s_G72</title>\n<text text-anchor=\"middle\" x=\"273\" y=\"-1958.3\" font-family=\"Times,serif\" font-size=\"14.00\">s</text>\n</g>\n<!-- SelectFirstQuantization&#45;&gt;s_G72 -->\n<g id=\"edge54\" class=\"edge\">\n<title>SelectFirstQuantization:e-&gt;s_G72:w</title>\n<path fill=\"none\" stroke=\"black\" d=\"M204,-1501C216.4,-1501 231.07,-1930.16 243.64,-1960.33\"/>\n<ellipse fill=\"black\" stroke=\"black\" cx=\"244.37\" cy=\"-1961.23\" rx=\"1\" ry=\"1\"/>\n<text text-anchor=\"middle\" x=\"222.5\" y=\"-1706\" font-family=\"Times,serif\" font-size=\"10.00\">6</text>\n</g>\n<!-- mu_G54 -->\n<g id=\"node56\" class=\"node\">\n<title>mu_G54</title>\n<text text-anchor=\"middle\" x=\"273\" y=\"-1904.3\" font-family=\"Times,serif\" font-size=\"14.00\">mu</text>\n</g>\n<!-- SelectFirstQuantization&#45;&gt;mu_G54 -->\n<g id=\"edge55\" class=\"edge\">\n<title>SelectFirstQuantization:e-&gt;mu_G54:w</title>\n<path fill=\"none\" stroke=\"black\" d=\"M204,-1480C227.23,-1480 221.46,-1884.91 243.11,-1907.06\"/>\n<ellipse fill=\"black\" stroke=\"black\" cx=\"244.1\" cy=\"-1907.55\" rx=\"1\" ry=\"1\"/>\n<text text-anchor=\"middle\" x=\"222.5\" y=\"-1658\" font-family=\"Times,serif\" font-size=\"10.00\">6</text>\n</g>\n<!-- nu_x_G52 -->\n<g id=\"node57\" class=\"node\">\n<title>nu_x_G52</title>\n<text text-anchor=\"middle\" x=\"273\" y=\"-1850.3\" font-family=\"Times,serif\" font-size=\"14.00\">nu_x</text>\n</g>\n<!-- SelectFirstQuantization&#45;&gt;nu_x_G52 -->\n<g id=\"edge56\" class=\"edge\">\n<title>SelectFirstQuantization:e-&gt;nu_x_G52:w</title>\n<path fill=\"none\" stroke=\"black\" d=\"M204,-1459C225.37,-1459 223.11,-1829.7 243,-1852.87\"/>\n<ellipse fill=\"black\" stroke=\"black\" cx=\"244.13\" cy=\"-1853.51\" rx=\"1\" ry=\"1\"/>\n<text text-anchor=\"middle\" x=\"222.5\" y=\"-1624\" font-family=\"Times,serif\" font-size=\"10.00\">7</text>\n</g>\n<!-- nu_y_G102 -->\n<g id=\"node58\" class=\"node\">\n<title>nu_y_G102</title>\n<text text-anchor=\"middle\" x=\"273\" y=\"-1796.3\" font-family=\"Times,serif\" font-size=\"14.00\">nu_y</text>\n</g>\n<!-- SelectFirstQuantization&#45;&gt;nu_y_G102 -->\n<g id=\"edge57\" class=\"edge\">\n<title>SelectFirstQuantization:e-&gt;nu_y_G102:w</title>\n<path fill=\"none\" stroke=\"black\" d=\"M204,-1438C223.61,-1438 224.71,-1777.73 243.16,-1798.96\"/>\n<ellipse fill=\"black\" stroke=\"black\" cx=\"244.13\" cy=\"-1799.51\" rx=\"1\" ry=\"1\"/>\n<text text-anchor=\"middle\" x=\"222.5\" y=\"-1589\" font-family=\"Times,serif\" font-size=\"10.00\">7</text>\n</g>\n<!-- nu_z_G78 -->\n<g id=\"node59\" class=\"node\">\n<title>nu_z_G78</title>\n<text text-anchor=\"middle\" x=\"273\" y=\"-1742.3\" font-family=\"Times,serif\" font-size=\"14.00\">nu_z</text>\n</g>\n<!-- SelectFirstQuantization&#45;&gt;nu_z_G78 -->\n<g id=\"edge58\" class=\"edge\">\n<title>SelectFirstQuantization:e-&gt;nu_z_G78:w</title>\n<path fill=\"none\" stroke=\"black\" d=\"M204,-1417C221.77,-1417 226.27,-1723.27 243.11,-1744.81\"/>\n<ellipse fill=\"black\" stroke=\"black\" cx=\"244.15\" cy=\"-1745.47\" rx=\"1\" ry=\"1\"/>\n<text text-anchor=\"middle\" x=\"222.5\" y=\"-1555\" font-family=\"Times,serif\" font-size=\"10.00\">7</text>\n</g>\n<!-- m_G24 -->\n<g id=\"node60\" class=\"node\">\n<title>m_G24</title>\n<text text-anchor=\"middle\" x=\"273\" y=\"-1688.3\" font-family=\"Times,serif\" font-size=\"14.00\">m</text>\n</g>\n<!-- SelectFirstQuantization&#45;&gt;m_G24 -->\n<g id=\"edge59\" class=\"edge\">\n<title>SelectFirstQuantization:e-&gt;m_G24:w</title>\n<path fill=\"none\" stroke=\"black\" d=\"M204,-1396C220.02,-1396 227.84,-1671.55 243.28,-1690.93\"/>\n<ellipse fill=\"black\" stroke=\"black\" cx=\"244.15\" cy=\"-1691.47\" rx=\"1\" ry=\"1\"/>\n<text text-anchor=\"middle\" x=\"222.5\" y=\"-1520\" font-family=\"Times,serif\" font-size=\"10.00\">8</text>\n</g>\n<!-- l_G89 -->\n<g id=\"node61\" class=\"node\">\n<title>l_G89</title>\n<text text-anchor=\"middle\" x=\"273\" y=\"-1634.3\" font-family=\"Times,serif\" font-size=\"14.00\">l</text>\n</g>\n<!-- SelectFirstQuantization&#45;&gt;l_G89 -->\n<g id=\"edge60\" class=\"edge\">\n<title>SelectFirstQuantization:e-&gt;l_G89:w</title>\n<path fill=\"none\" stroke=\"black\" d=\"M204,-1375C218.21,-1375 229.31,-1617.85 243.28,-1636.83\"/>\n<ellipse fill=\"black\" stroke=\"black\" cx=\"244.17\" cy=\"-1637.44\" rx=\"1\" ry=\"1\"/>\n<text text-anchor=\"middle\" x=\"222.5\" y=\"-1493\" font-family=\"Times,serif\" font-size=\"10.00\">4</text>\n</g>\n<!-- sys_G126 -->\n<g id=\"node62\" class=\"node\">\n<title>sys_G126</title>\n<text text-anchor=\"middle\" x=\"273\" y=\"-1580.3\" font-family=\"Times,serif\" font-size=\"14.00\">sys[0, 0]</text>\n</g>\n<!-- SelectFirstQuantization&#45;&gt;sys_G126 -->\n<g id=\"edge61\" class=\"edge\">\n<title>SelectFirstQuantization:e-&gt;sys_G126:w</title>\n<path fill=\"none\" stroke=\"black\" d=\"M204,-1354C229.18,-1354 215.89,-1571.59 238.97,-1583.49\"/>\n<ellipse fill=\"black\" stroke=\"black\" cx=\"240.03\" cy=\"-1583.76\" rx=\"1\" ry=\"1\"/>\n<text text-anchor=\"middle\" x=\"222.5\" y=\"-1478\" font-family=\"Times,serif\" font-size=\"10.00\">6</text>\n</g>\n<!-- sys_G97 -->\n<g id=\"node63\" class=\"node\">\n<title>sys_G97</title>\n<text text-anchor=\"middle\" x=\"273\" y=\"-1526.3\" font-family=\"Times,serif\" font-size=\"14.00\">sys[0, 1]</text>\n</g>\n<!-- SelectFirstQuantization&#45;&gt;sys_G97 -->\n<g id=\"edge62\" class=\"edge\">\n<title>SelectFirstQuantization:e-&gt;sys_G97:w</title>\n<path fill=\"none\" stroke=\"black\" d=\"M204,-1333C225.58,-1333 219.17,-1517.88 239,-1529.43\"/>\n<ellipse fill=\"black\" stroke=\"black\" cx=\"240.04\" cy=\"-1529.73\" rx=\"1\" ry=\"1\"/>\n<text text-anchor=\"middle\" x=\"222.5\" y=\"-1440\" font-family=\"Times,serif\" font-size=\"10.00\">6</text>\n</g>\n<!-- sys_G81 -->\n<g id=\"node64\" class=\"node\">\n<title>sys_G81</title>\n<text text-anchor=\"middle\" x=\"273\" y=\"-1472.3\" font-family=\"Times,serif\" font-size=\"14.00\">sys[0, 2]</text>\n</g>\n<!-- SelectFirstQuantization&#45;&gt;sys_G81 -->\n<g id=\"edge63\" class=\"edge\">\n<title>SelectFirstQuantization:e-&gt;sys_G81:w</title>\n<path fill=\"none\" stroke=\"black\" d=\"M204,-1312C221.95,-1312 222.32,-1463.44 238.9,-1475.27\"/>\n<ellipse fill=\"black\" stroke=\"black\" cx=\"240.06\" cy=\"-1475.67\" rx=\"1\" ry=\"1\"/>\n<text text-anchor=\"middle\" x=\"222.5\" y=\"-1397\" font-family=\"Times,serif\" font-size=\"10.00\">6</text>\n</g>\n<!-- sys_G90 -->\n<g id=\"node65\" class=\"node\">\n<title>sys_G90</title>\n<text text-anchor=\"middle\" x=\"273\" y=\"-1418.3\" font-family=\"Times,serif\" font-size=\"14.00\">sys[1, 0]</text>\n</g>\n<!-- SelectFirstQuantization&#45;&gt;sys_G90 -->\n<g id=\"edge64\" class=\"edge\">\n<title>SelectFirstQuantization:e-&gt;sys_G90:w</title>\n<path fill=\"none\" stroke=\"black\" d=\"M204,-1291C233.54,-1291 211.82,-1415.93 238.96,-1421.79\"/>\n<ellipse fill=\"black\" stroke=\"black\" cx=\"240.01\" cy=\"-1421.9\" rx=\"1\" ry=\"1\"/>\n<text text-anchor=\"middle\" x=\"222.5\" y=\"-1367\" font-family=\"Times,serif\" font-size=\"10.00\">6</text>\n</g>\n<!-- sys_G123 -->\n<g id=\"node66\" class=\"node\">\n<title>sys_G123</title>\n<text text-anchor=\"middle\" x=\"273\" y=\"-1364.3\" font-family=\"Times,serif\" font-size=\"14.00\">sys[1, 1]</text>\n</g>\n<!-- SelectFirstQuantization&#45;&gt;sys_G123 -->\n<g id=\"edge65\" class=\"edge\">\n<title>SelectFirstQuantization:e-&gt;sys_G123:w</title>\n<path fill=\"none\" stroke=\"black\" d=\"M204,-1270C226.55,-1270 218.29,-1361.97 238.91,-1367.72\"/>\n<ellipse fill=\"black\" stroke=\"black\" cx=\"240.01\" cy=\"-1367.87\" rx=\"1\" ry=\"1\"/>\n<text text-anchor=\"middle\" x=\"222.5\" y=\"-1324\" font-family=\"Times,serif\" font-size=\"10.00\">6</text>\n</g>\n<!-- sys_G62 -->\n<g id=\"node67\" class=\"node\">\n<title>sys_G62</title>\n<text text-anchor=\"middle\" x=\"273\" y=\"-1310.3\" font-family=\"Times,serif\" font-size=\"14.00\">sys[1, 2]</text>\n</g>\n<!-- SelectFirstQuantization&#45;&gt;sys_G62 -->\n<g id=\"edge66\" class=\"edge\">\n<title>SelectFirstQuantization:e-&gt;sys_G62:w</title>\n<path fill=\"none\" stroke=\"black\" d=\"M204,-1249C236.46,-1249 209.11,-1310.99 238.76,-1313.89\"/>\n<ellipse fill=\"black\" stroke=\"black\" cx=\"240\" cy=\"-1313.95\" rx=\"1\" ry=\"1\"/>\n<text text-anchor=\"middle\" x=\"222.5\" y=\"-1290\" font-family=\"Times,serif\" font-size=\"10.00\">6</text>\n</g>\n<!-- sys_G39 -->\n<g id=\"node68\" class=\"node\">\n<title>sys_G39</title>\n<text text-anchor=\"middle\" x=\"273\" y=\"-1256.3\" font-family=\"Times,serif\" font-size=\"14.00\">sys[2, 0]</text>\n</g>\n<!-- SelectFirstQuantization&#45;&gt;sys_G39 -->\n<g id=\"edge67\" class=\"edge\">\n<title>SelectFirstQuantization:e-&gt;sys_G39:w</title>\n<path fill=\"none\" stroke=\"black\" d=\"M204,-1228C224.89,-1228 219.72,-1257.55 238.58,-1259.86\"/>\n<ellipse fill=\"black\" stroke=\"black\" cx=\"240\" cy=\"-1259.94\" rx=\"1\" ry=\"1\"/>\n<text text-anchor=\"middle\" x=\"222.5\" y=\"-1247\" font-family=\"Times,serif\" font-size=\"10.00\">6</text>\n</g>\n<!-- sys_G91 -->\n<g id=\"node69\" class=\"node\">\n<title>sys_G91</title>\n<text text-anchor=\"middle\" x=\"273\" y=\"-1202.3\" font-family=\"Times,serif\" font-size=\"14.00\">sys[2, 1]</text>\n</g>\n<!-- SelectFirstQuantization&#45;&gt;sys_G91 -->\n<g id=\"edge68\" class=\"edge\">\n<title>SelectFirstQuantization:e-&gt;sys_G91:w</title>\n<path fill=\"none\" stroke=\"black\" d=\"M204,-1206C219.67,-1206 224.14,-1206 238.77,-1206\"/>\n<ellipse fill=\"black\" stroke=\"black\" cx=\"240\" cy=\"-1206\" rx=\"1\" ry=\"1\"/>\n<text text-anchor=\"middle\" x=\"222.5\" y=\"-1209\" font-family=\"Times,serif\" font-size=\"10.00\">6</text>\n</g>\n<!-- sys_G124 -->\n<g id=\"node70\" class=\"node\">\n<title>sys_G124</title>\n<text text-anchor=\"middle\" x=\"273\" y=\"-1148.3\" font-family=\"Times,serif\" font-size=\"14.00\">sys[2, 2]</text>\n</g>\n<!-- SelectFirstQuantization&#45;&gt;sys_G124 -->\n<g id=\"edge69\" class=\"edge\">\n<title>SelectFirstQuantization:e-&gt;sys_G124:w</title>\n<path fill=\"none\" stroke=\"black\" d=\"M204,-1185C225.17,-1185 219.47,-1154.53 238.55,-1152.15\"/>\n<ellipse fill=\"black\" stroke=\"black\" cx=\"240\" cy=\"-1152.06\" rx=\"1\" ry=\"1\"/>\n<text text-anchor=\"middle\" x=\"222.5\" y=\"-1172\" font-family=\"Times,serif\" font-size=\"10.00\">6</text>\n</g>\n<!-- sys_G66 -->\n<g id=\"node71\" class=\"node\">\n<title>sys_G66</title>\n<text text-anchor=\"middle\" x=\"273\" y=\"-1094.3\" font-family=\"Times,serif\" font-size=\"14.00\">sys[3, 0]</text>\n</g>\n<!-- SelectFirstQuantization&#45;&gt;sys_G66 -->\n<g id=\"edge70\" class=\"edge\">\n<title>SelectFirstQuantization:e-&gt;sys_G66:w</title>\n<path fill=\"none\" stroke=\"black\" d=\"M204,-1164C236.84,-1164 208.75,-1101.06 238.74,-1098.11\"/>\n<ellipse fill=\"black\" stroke=\"black\" cx=\"240\" cy=\"-1098.05\" rx=\"1\" ry=\"1\"/>\n<text text-anchor=\"middle\" x=\"222.5\" y=\"-1141\" font-family=\"Times,serif\" font-size=\"10.00\">6</text>\n</g>\n<!-- sys_G3 -->\n<g id=\"node72\" class=\"node\">\n<title>sys_G3</title>\n<text text-anchor=\"middle\" x=\"273\" y=\"-1040.3\" font-family=\"Times,serif\" font-size=\"14.00\">sys[3, 1]</text>\n</g>\n<!-- SelectFirstQuantization&#45;&gt;sys_G3 -->\n<g id=\"edge71\" class=\"edge\">\n<title>SelectFirstQuantization:e-&gt;sys_G3:w</title>\n<path fill=\"none\" stroke=\"black\" d=\"M204,-1143C226.75,-1143 218.1,-1050.09 238.89,-1044.28\"/>\n<ellipse fill=\"black\" stroke=\"black\" cx=\"240.01\" cy=\"-1044.13\" rx=\"1\" ry=\"1\"/>\n<text text-anchor=\"middle\" x=\"222.5\" y=\"-1099\" font-family=\"Times,serif\" font-size=\"10.00\">6</text>\n</g>\n<!-- sys_G36 -->\n<g id=\"node73\" class=\"node\">\n<title>sys_G36</title>\n<text text-anchor=\"middle\" x=\"273\" y=\"-986.3\" font-family=\"Times,serif\" font-size=\"14.00\">sys[3, 2]</text>\n</g>\n<!-- SelectFirstQuantization&#45;&gt;sys_G36 -->\n<g id=\"edge72\" class=\"edge\">\n<title>SelectFirstQuantization:e-&gt;sys_G36:w</title>\n<path fill=\"none\" stroke=\"black\" d=\"M204,-1122C233.75,-1122 211.63,-996.11 238.95,-990.21\"/>\n<ellipse fill=\"black\" stroke=\"black\" cx=\"240.01\" cy=\"-990.1\" rx=\"1\" ry=\"1\"/>\n<text text-anchor=\"middle\" x=\"222.5\" y=\"-1066\" font-family=\"Times,serif\" font-size=\"10.00\">6</text>\n</g>\n<!-- sys_G50 -->\n<g id=\"node74\" class=\"node\">\n<title>sys_G50</title>\n<text text-anchor=\"middle\" x=\"273\" y=\"-932.3\" font-family=\"Times,serif\" font-size=\"14.00\">sys[4, 0]</text>\n</g>\n<!-- SelectFirstQuantization&#45;&gt;sys_G50 -->\n<g id=\"edge73\" class=\"edge\">\n<title>SelectFirstQuantization:e-&gt;sys_G50:w</title>\n<path fill=\"none\" stroke=\"black\" d=\"M204,-1101C222.05,-1101 222.23,-948.64 238.88,-936.74\"/>\n<ellipse fill=\"black\" stroke=\"black\" cx=\"240.06\" cy=\"-936.33\" rx=\"1\" ry=\"1\"/>\n<text text-anchor=\"middle\" x=\"222.5\" y=\"-1021\" font-family=\"Times,serif\" font-size=\"10.00\">6</text>\n</g>\n<!-- sys_G120 -->\n<g id=\"node75\" class=\"node\">\n<title>sys_G120</title>\n<text text-anchor=\"middle\" x=\"273\" y=\"-878.3\" font-family=\"Times,serif\" font-size=\"14.00\">sys[4, 1]</text>\n</g>\n<!-- SelectFirstQuantization&#45;&gt;sys_G120 -->\n<g id=\"edge74\" class=\"edge\">\n<title>SelectFirstQuantization:e-&gt;sys_G120:w</title>\n<path fill=\"none\" stroke=\"black\" d=\"M204,-1080C225.68,-1080 219.07,-894.18 238.99,-882.57\"/>\n<ellipse fill=\"black\" stroke=\"black\" cx=\"240.04\" cy=\"-882.27\" rx=\"1\" ry=\"1\"/>\n<text text-anchor=\"middle\" x=\"222.5\" y=\"-989\" font-family=\"Times,serif\" font-size=\"10.00\">6</text>\n</g>\n<!-- sys_G101 -->\n<g id=\"node76\" class=\"node\">\n<title>sys_G101</title>\n<text text-anchor=\"middle\" x=\"273\" y=\"-824.3\" font-family=\"Times,serif\" font-size=\"14.00\">sys[4, 2]</text>\n</g>\n<!-- SelectFirstQuantization&#45;&gt;sys_G101 -->\n<g id=\"edge75\" class=\"edge\">\n<title>SelectFirstQuantization:e-&gt;sys_G101:w</title>\n<path fill=\"none\" stroke=\"black\" d=\"M204,-1059C229.28,-1059 215.8,-840.46 238.96,-828.51\"/>\n<ellipse fill=\"black\" stroke=\"black\" cx=\"240.03\" cy=\"-828.24\" rx=\"1\" ry=\"1\"/>\n<text text-anchor=\"middle\" x=\"222.5\" y=\"-953\" font-family=\"Times,serif\" font-size=\"10.00\">6</text>\n</g>\n<!-- sys_G108 -->\n<g id=\"node77\" class=\"node\">\n<title>sys_G108</title>\n<text text-anchor=\"middle\" x=\"273\" y=\"-770.3\" font-family=\"Times,serif\" font-size=\"14.00\">sys[5, 0]</text>\n</g>\n<!-- SelectFirstQuantization&#45;&gt;sys_G108 -->\n<g id=\"edge76\" class=\"edge\">\n<title>SelectFirstQuantization:e-&gt;sys_G108:w</title>\n<path fill=\"none\" stroke=\"black\" d=\"M204,-1038C232.93,-1038 212.39,-786.23 239,-774.43\"/>\n<ellipse fill=\"black\" stroke=\"black\" cx=\"240.02\" cy=\"-774.21\" rx=\"1\" ry=\"1\"/>\n<text text-anchor=\"middle\" x=\"222.5\" y=\"-924\" font-family=\"Times,serif\" font-size=\"10.00\">6</text>\n</g>\n<!-- sys_G82 -->\n<g id=\"node78\" class=\"node\">\n<title>sys_G82</title>\n<text text-anchor=\"middle\" x=\"273\" y=\"-716.3\" font-family=\"Times,serif\" font-size=\"14.00\">sys[5, 1]</text>\n</g>\n<!-- SelectFirstQuantization&#45;&gt;sys_G82 -->\n<g id=\"edge77\" class=\"edge\">\n<title>SelectFirstQuantization:e-&gt;sys_G82:w</title>\n<path fill=\"none\" stroke=\"black\" d=\"M204,-1017C220.04,-1017 224.09,-740.52 239.29,-721.08\"/>\n<ellipse fill=\"black\" stroke=\"black\" cx=\"240.15\" cy=\"-720.53\" rx=\"1\" ry=\"1\"/>\n<text text-anchor=\"middle\" x=\"222.5\" y=\"-871\" font-family=\"Times,serif\" font-size=\"10.00\">6</text>\n</g>\n<!-- sys_G64 -->\n<g id=\"node79\" class=\"node\">\n<title>sys_G64</title>\n<text text-anchor=\"middle\" x=\"273\" y=\"-662.3\" font-family=\"Times,serif\" font-size=\"14.00\">sys[5, 2]</text>\n</g>\n<!-- SelectFirstQuantization&#45;&gt;sys_G64 -->\n<g id=\"edge78\" class=\"edge\">\n<title>SelectFirstQuantization:e-&gt;sys_G64:w</title>\n<path fill=\"none\" stroke=\"black\" d=\"M204,-996C221.8,-996 222.52,-688.8 239.12,-667.19\"/>\n<ellipse fill=\"black\" stroke=\"black\" cx=\"240.16\" cy=\"-666.54\" rx=\"1\" ry=\"1\"/>\n<text text-anchor=\"middle\" x=\"222.5\" y=\"-834\" font-family=\"Times,serif\" font-size=\"10.00\">6</text>\n</g>\n<!-- sys_G4 -->\n<g id=\"node80\" class=\"node\">\n<title>sys_G4</title>\n<text text-anchor=\"middle\" x=\"273\" y=\"-608.3\" font-family=\"Times,serif\" font-size=\"14.00\">sys[6, 0]</text>\n</g>\n<!-- SelectFirstQuantization&#45;&gt;sys_G4 -->\n<g id=\"edge79\" class=\"edge\">\n<title>SelectFirstQuantization:e-&gt;sys_G4:w</title>\n<path fill=\"none\" stroke=\"black\" d=\"M204,-975C223.64,-975 220.93,-634.33 239.17,-613.04\"/>\n<ellipse fill=\"black\" stroke=\"black\" cx=\"240.13\" cy=\"-612.49\" rx=\"1\" ry=\"1\"/>\n<text text-anchor=\"middle\" x=\"222.5\" y=\"-796\" font-family=\"Times,serif\" font-size=\"10.00\">6</text>\n</g>\n<!-- sys_G38 -->\n<g id=\"node81\" class=\"node\">\n<title>sys_G38</title>\n<text text-anchor=\"middle\" x=\"273\" y=\"-554.3\" font-family=\"Times,serif\" font-size=\"14.00\">sys[6, 1]</text>\n</g>\n<!-- SelectFirstQuantization&#45;&gt;sys_G38 -->\n<g id=\"edge80\" class=\"edge\">\n<title>SelectFirstQuantization:e-&gt;sys_G38:w</title>\n<path fill=\"none\" stroke=\"black\" d=\"M204,-954C225.41,-954 219.33,-582.36 239.01,-559.14\"/>\n<ellipse fill=\"black\" stroke=\"black\" cx=\"240.13\" cy=\"-558.5\" rx=\"1\" ry=\"1\"/>\n<text text-anchor=\"middle\" x=\"222.5\" y=\"-770\" font-family=\"Times,serif\" font-size=\"10.00\">6</text>\n</g>\n<!-- sys_G106 -->\n<g id=\"node82\" class=\"node\">\n<title>sys_G106</title>\n<text text-anchor=\"middle\" x=\"273\" y=\"-500.3\" font-family=\"Times,serif\" font-size=\"14.00\">sys[6, 2]</text>\n</g>\n<!-- SelectFirstQuantization&#45;&gt;sys_G106 -->\n<g id=\"edge81\" class=\"edge\">\n<title>SelectFirstQuantization:e-&gt;sys_G106:w</title>\n<path fill=\"none\" stroke=\"black\" d=\"M204,-933C227.27,-933 217.65,-527.14 239.11,-504.94\"/>\n<ellipse fill=\"black\" stroke=\"black\" cx=\"240.11\" cy=\"-504.45\" rx=\"1\" ry=\"1\"/>\n<text text-anchor=\"middle\" x=\"222.5\" y=\"-734\" font-family=\"Times,serif\" font-size=\"10.00\">6</text>\n</g>\n<!-- sys_G121 -->\n<g id=\"node83\" class=\"node\">\n<title>sys_G121</title>\n<text text-anchor=\"middle\" x=\"273\" y=\"-446.3\" font-family=\"Times,serif\" font-size=\"14.00\">sys[7, 0]</text>\n</g>\n<!-- SelectFirstQuantization&#45;&gt;sys_G121 -->\n<g id=\"edge82\" class=\"edge\">\n<title>SelectFirstQuantization:e-&gt;sys_G121:w</title>\n<path fill=\"none\" stroke=\"black\" d=\"M204,-912C216.42,-912 227.33,-481.91 239.65,-451.67\"/>\n<ellipse fill=\"black\" stroke=\"black\" cx=\"240.37\" cy=\"-450.78\" rx=\"1\" ry=\"1\"/>\n<text text-anchor=\"middle\" x=\"222.5\" y=\"-684\" font-family=\"Times,serif\" font-size=\"10.00\">6</text>\n</g>\n<!-- sys_G58 -->\n<g id=\"node84\" class=\"node\">\n<title>sys_G58</title>\n<text text-anchor=\"middle\" x=\"273\" y=\"-392.3\" font-family=\"Times,serif\" font-size=\"14.00\">sys[7, 1]</text>\n</g>\n<!-- SelectFirstQuantization&#45;&gt;sys_G58 -->\n<g id=\"edge83\" class=\"edge\">\n<title>SelectFirstQuantization:e-&gt;sys_G58:w</title>\n<path fill=\"none\" stroke=\"black\" d=\"M204,-891C230.93,-891 214.25,-418.93 239.14,-396.8\"/>\n<ellipse fill=\"black\" stroke=\"black\" cx=\"240.08\" cy=\"-396.4\" rx=\"1\" ry=\"1\"/>\n<text text-anchor=\"middle\" x=\"222.5\" y=\"-661\" font-family=\"Times,serif\" font-size=\"10.00\">6</text>\n</g>\n<!-- sys_G94 -->\n<g id=\"node85\" class=\"node\">\n<title>sys_G94</title>\n<text text-anchor=\"middle\" x=\"273\" y=\"-338.3\" font-family=\"Times,serif\" font-size=\"14.00\">sys[7, 2]</text>\n</g>\n<!-- SelectFirstQuantization&#45;&gt;sys_G94 -->\n<g id=\"edge84\" class=\"edge\">\n<title>SelectFirstQuantization:e-&gt;sys_G94:w</title>\n<path fill=\"none\" stroke=\"black\" d=\"M204,-870C218.24,-870 225.82,-374.48 239.64,-343.51\"/>\n<ellipse fill=\"black\" stroke=\"black\" cx=\"240.33\" cy=\"-342.74\" rx=\"1\" ry=\"1\"/>\n<text text-anchor=\"middle\" x=\"222.5\" y=\"-609\" font-family=\"Times,serif\" font-size=\"10.00\">6</text>\n</g>\n<!-- sys_G113 -->\n<g id=\"node86\" class=\"node\">\n<title>sys_G113</title>\n<text text-anchor=\"middle\" x=\"273\" y=\"-284.3\" font-family=\"Times,serif\" font-size=\"14.00\">sys[8, 0]</text>\n</g>\n<!-- SelectFirstQuantization&#45;&gt;sys_G113 -->\n<g id=\"edge85\" class=\"edge\">\n<title>SelectFirstQuantization:e-&gt;sys_G113:w</title>\n<path fill=\"none\" stroke=\"black\" d=\"M204,-849C219.13,-849 225.01,-322.51 239.56,-289.61\"/>\n<ellipse fill=\"black\" stroke=\"black\" cx=\"240.33\" cy=\"-288.75\" rx=\"1\" ry=\"1\"/>\n<text text-anchor=\"middle\" x=\"222.5\" y=\"-571\" font-family=\"Times,serif\" font-size=\"10.00\">6</text>\n</g>\n<!-- sys_G44 -->\n<g id=\"node87\" class=\"node\">\n<title>sys_G44</title>\n<text text-anchor=\"middle\" x=\"273\" y=\"-230.3\" font-family=\"Times,serif\" font-size=\"14.00\">sys[8, 1]</text>\n</g>\n<!-- SelectFirstQuantization&#45;&gt;sys_G44 -->\n<g id=\"edge86\" class=\"edge\">\n<title>SelectFirstQuantization:e-&gt;sys_G44:w</title>\n<path fill=\"none\" stroke=\"black\" d=\"M204,-828C220.02,-828 224.21,-270.54 239.49,-235.7\"/>\n<ellipse fill=\"black\" stroke=\"black\" cx=\"240.34\" cy=\"-234.75\" rx=\"1\" ry=\"1\"/>\n<text text-anchor=\"middle\" x=\"222.5\" y=\"-534\" font-family=\"Times,serif\" font-size=\"10.00\">6</text>\n</g>\n<!-- sys_G88 -->\n<g id=\"node88\" class=\"node\">\n<title>sys_G88</title>\n<text text-anchor=\"middle\" x=\"273\" y=\"-176.3\" font-family=\"Times,serif\" font-size=\"14.00\">sys[8, 2]</text>\n</g>\n<!-- SelectFirstQuantization&#45;&gt;sys_G88 -->\n<g id=\"edge87\" class=\"edge\">\n<title>SelectFirstQuantization:e-&gt;sys_G88:w</title>\n<path fill=\"none\" stroke=\"black\" d=\"M204,-807C220.9,-807 223.41,-218.58 239.41,-181.8\"/>\n<ellipse fill=\"black\" stroke=\"black\" cx=\"240.34\" cy=\"-180.75\" rx=\"1\" ry=\"1\"/>\n<text text-anchor=\"middle\" x=\"222.5\" y=\"-496\" font-family=\"Times,serif\" font-size=\"10.00\">6</text>\n</g>\n<!-- sys_G98 -->\n<g id=\"node89\" class=\"node\">\n<title>sys_G98</title>\n<text text-anchor=\"middle\" x=\"273\" y=\"-122.3\" font-family=\"Times,serif\" font-size=\"14.00\">sys[9, 0]</text>\n</g>\n<!-- SelectFirstQuantization&#45;&gt;sys_G98 -->\n<g id=\"edge88\" class=\"edge\">\n<title>SelectFirstQuantization:e-&gt;sys_G98:w</title>\n<path fill=\"none\" stroke=\"black\" d=\"M204,-786C221.86,-786 222.61,-161.6 239.53,-127.45\"/>\n<ellipse fill=\"black\" stroke=\"black\" cx=\"240.29\" cy=\"-126.7\" rx=\"1\" ry=\"1\"/>\n<text text-anchor=\"middle\" x=\"222.5\" y=\"-459\" font-family=\"Times,serif\" font-size=\"10.00\">6</text>\n</g>\n<!-- sys_G31 -->\n<g id=\"node90\" class=\"node\">\n<title>sys_G31</title>\n<text text-anchor=\"middle\" x=\"273\" y=\"-68.3\" font-family=\"Times,serif\" font-size=\"14.00\">sys[9, 1]</text>\n</g>\n<!-- SelectFirstQuantization&#45;&gt;sys_G31 -->\n<g id=\"edge89\" class=\"edge\">\n<title>SelectFirstQuantization:e-&gt;sys_G31:w</title>\n<path fill=\"none\" stroke=\"black\" d=\"M204,-765C222.75,-765 221.79,-109.38 239.46,-73.53\"/>\n<ellipse fill=\"black\" stroke=\"black\" cx=\"240.29\" cy=\"-72.7\" rx=\"1\" ry=\"1\"/>\n<text text-anchor=\"middle\" x=\"222.5\" y=\"-422\" font-family=\"Times,serif\" font-size=\"10.00\">6</text>\n</g>\n<!-- sys_G73 -->\n<g id=\"node91\" class=\"node\">\n<title>sys_G73</title>\n<text text-anchor=\"middle\" x=\"273\" y=\"-14.3\" font-family=\"Times,serif\" font-size=\"14.00\">sys[9, 2]</text>\n</g>\n<!-- SelectFirstQuantization&#45;&gt;sys_G73 -->\n<g id=\"edge90\" class=\"edge\">\n<title>SelectFirstQuantization:e-&gt;sys_G73:w</title>\n<path fill=\"none\" stroke=\"black\" d=\"M204,-744C223.64,-744 220.97,-57.16 239.4,-19.6\"/>\n<ellipse fill=\"black\" stroke=\"black\" cx=\"240.29\" cy=\"-18.71\" rx=\"1\" ry=\"1\"/>\n<text text-anchor=\"middle\" x=\"222.5\" y=\"-384\" font-family=\"Times,serif\" font-size=\"10.00\">6</text>\n</g>\n</g>\n</svg>",
          "text/plain": "<IPython.core.display.SVG object>"
         },
         "metadata": {},
         "output_type": "display_data"
        }
       ],
       "tabbable": null,
       "tooltip": null
      }
     }
    },
    "version_major": 2,
    "version_minor": 0
   }
  }
 },
 "nbformat": 4,
 "nbformat_minor": 5
}
