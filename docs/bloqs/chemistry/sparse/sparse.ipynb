{
 "cells": [
  {
   "cell_type": "markdown",
   "id": "6ce87bae",
   "metadata": {
    "cq.autogen": "title_cell"
   },
   "source": [
    "# Sparse\n",
    "\n",
    "SELECT and PREPARE for the second quantized sparse chemistry Hamiltonian.\n",
    "\n",
    "Starting from the traditional second quantized chemistry Hamiltonian\n",
    "$$\n",
    "H = \\sum_\\sigma \\sum_{pq} T_{pq} a_{p\\sigma}^\\dagger a_{q\\sigma}\n",
    "+\n",
    "\\frac{1}{2}\\sum_{\\alpha\\beta}\n",
    "\\sum_{pqrs}\n",
    "V_{pqrs} a_{p\\sigma}^\\dagger a_{r\\beta}^\\dagger a_{s\\beta} a_{q\\alpha},\n",
    "$$\n",
    "where $a_{p\\sigma}$ ($a_{q\\sigma}^\\dagger$) annihilate (create) an electron in the\n",
    "$p$-th orbital of spin $\\sigma$.\n",
    "We can rewrite this expression using the Jordan-Wigner transformation as\n",
    "$$\n",
    "H = T' + V',\n",
    "$$\n",
    "where\n",
    "$$\n",
    "T' = \\frac{1}{2} \\sum_\\sigma \\sum_{pq} T_{pq}'Q_{pq\\sigma},\n",
    "$$\n",
    "$$\n",
    "V' = \\sum_{\\alpha\\beta}\\sum_{pqrs}V_{pqrs}Q_{pq\\alpha}Q_{rs\\beta},\n",
    "$$\n",
    "and $V = (pq|rs)$ are the usual two-electron integrals in chemist's notation,\n",
    "$$\n",
    "T'_{pq} = T_{pq} - \\sum_r V_{pqrr},\n",
    "$$\n",
    "and\n",
    "$$\n",
    "Q_{pq\\sigma} =\n",
    "\\begin{cases}\n",
    "X_{p\\sigma}\\vec{Z}X_{q\\sigma} & p < q \\\\\n",
    "Y_{p\\sigma}\\vec{Z}Y_{q\\sigma} & p > q \\\\\n",
    "-Z_{p\\sigma} & p = q\n",
    "\\end{cases}.\n",
    "$$\n",
    "The sparse Hamiltonian simply sets to zero any term in the Hamiltonian where\n",
    "$|V_{pqrs}|$ is less than some threshold. This reduces the\n",
    "amount of data that is required to be loaded during state preparation as only\n",
    "non-zero symmetry inequivalent terms are required (the two electron integrals\n",
    "exhibit 8-fold permutational symmetry). Symmetries are restored by initially\n",
    "appropriately weighting these non-zero terms and then using $|+\\rangle$ states\n",
    "to perform control swaps between the $pqrs$ registers."
   ]
  },
  {
   "cell_type": "code",
   "execution_count": 1,
   "id": "d176a9ce",
   "metadata": {
    "cq.autogen": "top_imports"
   },
   "outputs": [],
   "source": [
    "from qualtran import Bloq, CompositeBloq, BloqBuilder, Signature, Register\n",
    "from qualtran import QBit, QInt, QUInt, QAny\n",
    "from qualtran.drawing import show_bloq, show_call_graph, show_counts_sigma\n",
    "from typing import *\n",
    "import numpy as np\n",
    "import sympy\n",
    "import cirq"
   ]
  },
  {
   "cell_type": "markdown",
   "id": "aede18a0",
   "metadata": {
    "cq.autogen": "PrepareSparse.bloq_doc.md"
   },
   "source": [
    "## `PrepareSparse`\n",
    "Prepare oracle for the sparse chemistry Hamiltonian\n",
    "\n",
    "Prepare the state:\n",
    "\n",
    "$$\n",
    "    |0\\rangle|+\\rangle|0\\rangle|0\\rangle\n",
    "    \\sum_{\\sigma}\\sum_{pq}\n",
    "    \\sqrt{\\frac{T_{pq}'}{2\\lambda}}\n",
    "    |\\theta_{pq}^T\\rangle|pq\\sigma\\rangle|000\\rangle\n",
    "    +|1\\rangle|+\\rangle|+\\rangle|+\\rangle\n",
    "    \\sum_{\\alpha\\beta}\n",
    "    \\sum_{pqrs}\n",
    "    \\sqrt{\\frac{\\tilde{V}_{pqrs}'}{2\\lambda}}\n",
    "    |\\theta_{pqrs}^V\\rangle|pq\\alpha\\rangle|rs\\beta\\rangle\n",
    "$$\n",
    "\n",
    "#### Parameters\n",
    " - `num_spin_orb`: The number of spin orbitals.\n",
    " - `num_non_zero`: The number of non-zero matrix elements.\n",
    " - `num_bits_state_prep`: the number of bits of precision for state preparation. This will control the size of the keep register.\n",
    " - `num_bits_rot_aa`: The number of bits of precision for the single-qubit rotation for amplitude amplification during the uniform state preparation. Default 8.\n",
    " - `is_adjoint`: Whether we are apply PREPARE or PREPARE^dag\n",
    " - `log_block_size`: qroam (log) block size. \n",
    "\n",
    "#### Registers\n",
    " - `d`: the register indexing non-zero matrix elements.\n",
    " - `pqrs`: the register to store the spatial orbital index.\n",
    " - `sigma`: the register prepared for alias sampling.\n",
    " - `alpha`: spin for (pq) indicies.\n",
    " - `beta`: spin for (rs) indicies.\n",
    " - `rot_aa`: the qubit rotated for amplitude amplification.\n",
    " - `swap_pq`: a |+> state to restore the symmetries of the p and q indices.\n",
    " - `swap_rs`: a |+> state to restore the symmetries of the r and s indices.\n",
    " - `swap_pqrs`: a |+> state to restore the symmetries of between (pq) and (rs).\n",
    " - `theta`: sign qubit.\n",
    " - `alt_pqrs`: the register to store the alternate values for the spatial orbital indices.\n",
    " - `theta`: A two qubit register for the sign bit and it's alternate value.\n",
    " - `keep`: The register containing the keep values for alias sampling.\n",
    " - `less_than`: A single qubit for the result of the inequality test during alias sampling.\n",
    " - `flag_1b`: a single qubit register indicating whether to apply only the one-body SELECT.\n",
    " - `alt_flag_1b`: alternate value for flag_1b \n",
    "\n",
    "Refererences:\n",
    "    [Even More Efficient Quantum Computations of Chemistry Through Tensor\n",
    "        hypercontraction](https://arxiv.org/abs/2011.03494) Eq. A11."
   ]
  },
  {
   "cell_type": "code",
   "execution_count": 2,
   "id": "7bf1a246",
   "metadata": {
    "cq.autogen": "PrepareSparse.bloq_doc.py"
   },
   "outputs": [],
   "source": [
    "from qualtran.bloqs.chemistry.sparse import PrepareSparse"
   ]
  },
  {
   "cell_type": "markdown",
   "id": "65741ad4",
   "metadata": {
    "cq.autogen": "PrepareSparse.example_instances.md"
   },
   "source": [
    "### Example Instances"
   ]
  },
  {
   "cell_type": "code",
   "execution_count": 3,
   "id": "31ff8735",
   "metadata": {
    "cq.autogen": "PrepareSparse.prep_sparse"
   },
   "outputs": [],
   "source": [
    "from qualtran.bloqs.chemistry.sparse.prepare_test import build_random_test_integrals\n",
    "\n",
    "num_spin_orb = 6\n",
    "tpq, eris = build_random_test_integrals(num_spin_orb // 2)\n",
    "prep_sparse = PrepareSparse.from_hamiltonian_coeffs(\n",
    "    num_spin_orb, tpq, eris, num_bits_state_prep=4\n",
    ")"
   ]
  },
  {
   "cell_type": "markdown",
   "id": "60980ea8",
   "metadata": {
    "cq.autogen": "PrepareSparse.graphical_signature.md"
   },
   "source": [
    "#### Graphical Signature"
   ]
  },
  {
   "cell_type": "code",
   "execution_count": 4,
   "id": "b3182720",
   "metadata": {
    "cq.autogen": "PrepareSparse.graphical_signature.py"
   },
   "outputs": [
    {
     "data": {
      "application/vnd.jupyter.widget-view+json": {
       "model_id": "858f07f4bd6f456bb4d9cf5307f1585d",
       "version_major": 2,
       "version_minor": 0
      },
      "text/plain": [
       "HBox(children=(Output(outputs=({'output_type': 'display_data', 'data': {'text/plain': '<IPython.core.display.M…"
      ]
     },
     "metadata": {},
     "output_type": "display_data"
    }
   ],
   "source": [
    "from qualtran.drawing import show_bloqs\n",
    "show_bloqs([prep_sparse],\n",
    "           ['`prep_sparse`'])"
   ]
  },
  {
   "cell_type": "markdown",
   "id": "e69da753",
   "metadata": {
    "cq.autogen": "PrepareSparse.call_graph.md"
   },
   "source": [
    "### Call Graph"
   ]
  },
  {
   "cell_type": "code",
   "execution_count": 5,
   "id": "64a63e15",
   "metadata": {
    "cq.autogen": "PrepareSparse.call_graph.py"
   },
   "outputs": [
    {
     "data": {
      "image/svg+xml": [
       "<svg xmlns=\"http://www.w3.org/2000/svg\" xmlns:xlink=\"http://www.w3.org/1999/xlink\" width=\"832pt\" height=\"131pt\" viewBox=\"0.00 0.00 832.00 131.00\">\n",
       "<g id=\"graph0\" class=\"graph\" transform=\"scale(1 1) rotate(0) translate(4 127)\">\n",
       "<title>counts</title>\n",
       "<polygon fill=\"white\" stroke=\"transparent\" points=\"-4,4 -4,-127 828,-127 828,4 -4,4\"/>\n",
       "<!-- b0 -->\n",
       "<g id=\"node1\" class=\"node\">\n",
       "<title>b0</title>\n",
       "<polygon fill=\"none\" stroke=\"black\" points=\"421,-93 421,-116 491,-116 491,-93 421,-93\"/>\n",
       "<text text-anchor=\"start\" x=\"427.5\" y=\"-102\" font-family=\"Times,serif\" font-size=\"10.00\">PrepareSparse</text>\n",
       "</g>\n",
       "<!-- b1 -->\n",
       "<g id=\"node2\" class=\"node\">\n",
       "<title>b1</title>\n",
       "<polygon fill=\"none\" stroke=\"black\" points=\"8,-6 8,-29 142,-29 142,-6 8,-6\"/>\n",
       "<text text-anchor=\"start\" x=\"14\" y=\"-15\" font-family=\"Times,serif\" font-size=\"10.00\">PrepareUniformSuperposition</text>\n",
       "</g>\n",
       "<!-- b0&#45;&gt;b1 -->\n",
       "<g id=\"edge1\" class=\"edge\">\n",
       "<title>b0-&gt;b1</title>\n",
       "<path fill=\"none\" stroke=\"black\" d=\"M412.67,-94.33C351.41,-80.67 238.25,-55.42 159.91,-37.94\"/>\n",
       "<polygon fill=\"black\" stroke=\"black\" points=\"160.58,-34.51 150.06,-35.75 159.05,-41.34 160.58,-34.51\"/>\n",
       "<text text-anchor=\"middle\" x=\"292.5\" y=\"-57.8\" font-family=\"Times,serif\" font-size=\"14.00\">1</text>\n",
       "</g>\n",
       "<!-- b2 -->\n",
       "<g id=\"node3\" class=\"node\">\n",
       "<title>b2</title>\n",
       "<polygon fill=\"none\" stroke=\"black\" points=\"176,-6 176,-29 252,-29 252,-6 176,-6\"/>\n",
       "<text text-anchor=\"start\" x=\"182.5\" y=\"-15\" font-family=\"Times,serif\" font-size=\"10.00\">QROAMClean</text>\n",
       "</g>\n",
       "<!-- b0&#45;&gt;b2 -->\n",
       "<g id=\"edge2\" class=\"edge\">\n",
       "<title>b0-&gt;b2</title>\n",
       "<path fill=\"none\" stroke=\"black\" d=\"M412.74,-88.8C372.79,-74.78 313.26,-53.86 269.76,-38.59\"/>\n",
       "<polygon fill=\"black\" stroke=\"black\" points=\"270.78,-35.23 260.19,-35.22 268.46,-41.84 270.78,-35.23\"/>\n",
       "<text text-anchor=\"middle\" x=\"353.5\" y=\"-57.8\" font-family=\"Times,serif\" font-size=\"14.00\">1</text>\n",
       "</g>\n",
       "<!-- b3 -->\n",
       "<g id=\"node4\" class=\"node\">\n",
       "<title>b3</title>\n",
       "<polygon fill=\"none\" stroke=\"black\" points=\"287,-6 287,-29 323,-29 323,-6 287,-6\"/>\n",
       "<text text-anchor=\"start\" x=\"293\" y=\"-15\" font-family=\"Times,serif\" font-size=\"10.00\">H⨂4</text>\n",
       "</g>\n",
       "<!-- b0&#45;&gt;b3 -->\n",
       "<g id=\"edge3\" class=\"edge\">\n",
       "<title>b0-&gt;b3</title>\n",
       "<path fill=\"none\" stroke=\"black\" d=\"M425.44,-86.8C401.08,-73.09 366.91,-53.85 341.18,-39.37\"/>\n",
       "<polygon fill=\"black\" stroke=\"black\" points=\"342.9,-36.32 332.47,-34.46 339.46,-42.42 342.9,-36.32\"/>\n",
       "<text text-anchor=\"middle\" x=\"393.5\" y=\"-57.8\" font-family=\"Times,serif\" font-size=\"14.00\">1</text>\n",
       "</g>\n",
       "<!-- b4 -->\n",
       "<g id=\"node5\" class=\"node\">\n",
       "<title>b4</title>\n",
       "<polygon fill=\"none\" stroke=\"black\" points=\"367,-6 367,-29 387,-29 387,-6 367,-6\"/>\n",
       "<text text-anchor=\"start\" x=\"373\" y=\"-15\" font-family=\"Times,serif\" font-size=\"10.00\">H</text>\n",
       "</g>\n",
       "<!-- b0&#45;&gt;b4 -->\n",
       "<g id=\"edge4\" class=\"edge\">\n",
       "<title>b0-&gt;b4</title>\n",
       "<path fill=\"none\" stroke=\"black\" d=\"M440.01,-86.8C428.45,-74.36 412.66,-57.36 399.77,-43.5\"/>\n",
       "<polygon fill=\"black\" stroke=\"black\" points=\"402.33,-41.12 392.96,-36.18 397.21,-45.88 402.33,-41.12\"/>\n",
       "<text text-anchor=\"middle\" x=\"425.5\" y=\"-57.8\" font-family=\"Times,serif\" font-size=\"14.00\">3</text>\n",
       "</g>\n",
       "<!-- b5 -->\n",
       "<g id=\"node6\" class=\"node\">\n",
       "<title>b5</title>\n",
       "<polygon fill=\"none\" stroke=\"black\" points=\"430,-6 430,-29 482,-29 482,-6 430,-6\"/>\n",
       "<text text-anchor=\"start\" x=\"436.5\" y=\"-15\" font-family=\"Times,serif\" font-size=\"10.00\">C[ZGate]</text>\n",
       "</g>\n",
       "<!-- b0&#45;&gt;b5 -->\n",
       "<g id=\"edge5\" class=\"edge\">\n",
       "<title>b0-&gt;b5</title>\n",
       "<path fill=\"none\" stroke=\"black\" d=\"M456,-86.8C456,-75.16 456,-59.55 456,-46.24\"/>\n",
       "<polygon fill=\"black\" stroke=\"black\" points=\"459.5,-46.18 456,-36.18 452.5,-46.18 459.5,-46.18\"/>\n",
       "<text text-anchor=\"middle\" x=\"459.5\" y=\"-57.8\" font-family=\"Times,serif\" font-size=\"14.00\">1</text>\n",
       "</g>\n",
       "<!-- b6 -->\n",
       "<g id=\"node7\" class=\"node\">\n",
       "<title>b6</title>\n",
       "<polygon fill=\"none\" stroke=\"black\" points=\"522,-6 522,-29 548,-29 548,-6 522,-6\"/>\n",
       "<text text-anchor=\"start\" x=\"528.5\" y=\"-15\" font-family=\"Times,serif\" font-size=\"10.00\">CZ</text>\n",
       "</g>\n",
       "<!-- b0&#45;&gt;b6 -->\n",
       "<g id=\"edge6\" class=\"edge\">\n",
       "<title>b0-&gt;b6</title>\n",
       "<path fill=\"none\" stroke=\"black\" d=\"M471.99,-86.8C483.55,-74.36 499.34,-57.36 512.23,-43.5\"/>\n",
       "<polygon fill=\"black\" stroke=\"black\" points=\"514.79,-45.88 519.04,-36.18 509.67,-41.12 514.79,-45.88\"/>\n",
       "<text text-anchor=\"middle\" x=\"504.5\" y=\"-57.8\" font-family=\"Times,serif\" font-size=\"14.00\">1</text>\n",
       "</g>\n",
       "<!-- b7 -->\n",
       "<g id=\"node8\" class=\"node\">\n",
       "<title>b7</title>\n",
       "<polygon fill=\"none\" stroke=\"black\" points=\"588,-6 588,-29 630,-29 630,-6 588,-6\"/>\n",
       "<text text-anchor=\"start\" x=\"594\" y=\"-15\" font-family=\"Times,serif\" font-size=\"10.00\">CSwap</text>\n",
       "</g>\n",
       "<!-- b0&#45;&gt;b7 -->\n",
       "<g id=\"edge7\" class=\"edge\">\n",
       "<title>b0-&gt;b7</title>\n",
       "<path fill=\"none\" stroke=\"black\" d=\"M486.96,-86.8C511.25,-73.3 545.18,-54.46 571.09,-40.06\"/>\n",
       "<polygon fill=\"black\" stroke=\"black\" points=\"572.86,-43.08 579.9,-35.17 569.46,-36.96 572.86,-43.08\"/>\n",
       "<text text-anchor=\"middle\" x=\"544.5\" y=\"-57.8\" font-family=\"Times,serif\" font-size=\"14.00\">1</text>\n",
       "</g>\n",
       "<!-- b8 -->\n",
       "<g id=\"node9\" class=\"node\">\n",
       "<title>b8</title>\n",
       "<polygon fill=\"none\" stroke=\"black\" points=\"664,-6 664,-29 706,-29 706,-6 664,-6\"/>\n",
       "<text text-anchor=\"start\" x=\"670\" y=\"-15\" font-family=\"Times,serif\" font-size=\"10.00\">CSwap</text>\n",
       "</g>\n",
       "<!-- b0&#45;&gt;b8 -->\n",
       "<g id=\"edge8\" class=\"edge\">\n",
       "<title>b0-&gt;b8</title>\n",
       "<path fill=\"none\" stroke=\"black\" d=\"M499.22,-89.7C536.12,-77.24 590.72,-58.24 646.34,-36.13\"/>\n",
       "<polygon fill=\"black\" stroke=\"black\" points=\"647.66,-39.37 655.64,-32.41 645.05,-32.88 647.66,-39.37\"/>\n",
       "<text text-anchor=\"middle\" x=\"598.5\" y=\"-57.8\" font-family=\"Times,serif\" font-size=\"14.00\">8</text>\n",
       "</g>\n",
       "<!-- b9 -->\n",
       "<g id=\"node10\" class=\"node\">\n",
       "<title>b9</title>\n",
       "<polygon fill=\"none\" stroke=\"black\" points=\"740,-6 740,-29 816,-29 816,-6 740,-6\"/>\n",
       "<text text-anchor=\"start\" x=\"746\" y=\"-15\" font-family=\"Times,serif\" font-size=\"10.00\">LessThanEqual</text>\n",
       "</g>\n",
       "<!-- b0&#45;&gt;b9 -->\n",
       "<g id=\"edge9\" class=\"edge\">\n",
       "<title>b0-&gt;b9</title>\n",
       "<path fill=\"none\" stroke=\"black\" d=\"M499.12,-94.49C529.17,-87.72 570.13,-78.24 606,-69 655.36,-56.29 669.6,-51.82 721.95,-36.29\"/>\n",
       "<polygon fill=\"black\" stroke=\"black\" points=\"723.22,-39.56 731.81,-33.37 721.23,-32.85 723.22,-39.56\"/>\n",
       "<text text-anchor=\"middle\" x=\"663.5\" y=\"-57.8\" font-family=\"Times,serif\" font-size=\"14.00\">1</text>\n",
       "</g>\n",
       "</g>\n",
       "</svg>"
      ],
      "text/plain": [
       "<IPython.core.display.SVG object>"
      ]
     },
     "metadata": {},
     "output_type": "display_data"
    },
    {
     "data": {
      "text/markdown": [
       "#### Counts totals:\n",
       " - `CSwap`: 1\n",
       " - `CSwap`: 8\n",
       " - `CZ`: 1\n",
       " - `C[ZGate]`: 1\n",
       " - `H`: 3\n",
       " - `H⨂4`: 1\n",
       " - `LessThanEqual`: 1\n",
       " - `PrepareUniformSuperposition`: 1\n",
       " - `QROAMClean`: 1"
      ],
      "text/plain": [
       "<IPython.core.display.Markdown object>"
      ]
     },
     "metadata": {},
     "output_type": "display_data"
    }
   ],
   "source": [
    "from qualtran.resource_counting.generalizers import ignore_split_join\n",
    "prep_sparse_g, prep_sparse_sigma = prep_sparse.call_graph(max_depth=1, generalizer=ignore_split_join)\n",
    "show_call_graph(prep_sparse_g)\n",
    "show_counts_sigma(prep_sparse_sigma)"
   ]
  },
  {
   "cell_type": "markdown",
   "id": "e9458750",
   "metadata": {
    "cq.autogen": "SelectSparse.bloq_doc.md"
   },
   "source": [
    "## `SelectSparse`\n",
    "SELECT oracle for the sparse Hamiltonian.\n",
    "\n",
    "Implements the two applications of Fig. 13.\n",
    "\n",
    "#### Parameters\n",
    " - `num_spin_orb`: The number of spin orbitals. Typically called N.\n",
    " - `control_val`: The control value. If None, then the bloq is not controlled. \n",
    "\n",
    "#### Registers\n",
    " - `flag_1b`: a single qubit to flag whether the one-body Hamiltonian is to be applied or not during SELECT.\n",
    " - `swap_pq`: a |+> state to restore the symmetries of the p and q indices.\n",
    " - `swap_rs`: a |+> state to restore the symmetries of the r and s indices.\n",
    " - `swap_pqrs`: a |+> state to restore the symmetries of between (pq) and (rs).\n",
    " - `theta`: sign qubit.\n",
    " - `pqrs`: the register to store the spatial orbital index.\n",
    " - `alpha`: spin for (pq) indicies.\n",
    " - `beta`: spin for (rs) indicies. \n",
    "\n",
    "Refererences:\n",
    "    [Even More Efficient Quantum Computations of Chemistry Through Tensor\n",
    "        hypercontraction](https://arxiv.org/abs/2011.03494) Fig 13."
   ]
  },
  {
   "cell_type": "code",
   "execution_count": 6,
   "id": "51d1ee6f",
   "metadata": {
    "cq.autogen": "SelectSparse.bloq_doc.py"
   },
   "outputs": [],
   "source": [
    "from qualtran.bloqs.chemistry.sparse import SelectSparse"
   ]
  },
  {
   "cell_type": "markdown",
   "id": "678e33e3",
   "metadata": {
    "cq.autogen": "SelectSparse.example_instances.md"
   },
   "source": [
    "### Example Instances"
   ]
  },
  {
   "cell_type": "code",
   "execution_count": 7,
   "id": "3855993c",
   "metadata": {
    "cq.autogen": "SelectSparse.sel_sparse"
   },
   "outputs": [],
   "source": [
    "num_spin_orb = 4\n",
    "sel_sparse = SelectSparse(num_spin_orb)"
   ]
  },
  {
   "cell_type": "markdown",
   "id": "98285824",
   "metadata": {
    "cq.autogen": "SelectSparse.graphical_signature.md"
   },
   "source": [
    "#### Graphical Signature"
   ]
  },
  {
   "cell_type": "code",
   "execution_count": 8,
   "id": "d004038c",
   "metadata": {
    "cq.autogen": "SelectSparse.graphical_signature.py"
   },
   "outputs": [
    {
     "data": {
      "application/vnd.jupyter.widget-view+json": {
       "model_id": "6497e6db90c34da89104f09fa5ad655e",
       "version_major": 2,
       "version_minor": 0
      },
      "text/plain": [
       "HBox(children=(Output(outputs=({'output_type': 'display_data', 'data': {'text/plain': '<IPython.core.display.M…"
      ]
     },
     "metadata": {},
     "output_type": "display_data"
    }
   ],
   "source": [
    "from qualtran.drawing import show_bloqs\n",
    "show_bloqs([sel_sparse],\n",
    "           ['`sel_sparse`'])"
   ]
  },
  {
   "cell_type": "markdown",
   "id": "e424340b",
   "metadata": {
    "cq.autogen": "SelectSparse.call_graph.md"
   },
   "source": [
    "### Call Graph"
   ]
  },
  {
   "cell_type": "code",
   "execution_count": 9,
   "id": "7039385b",
   "metadata": {
    "cq.autogen": "SelectSparse.call_graph.py"
   },
   "outputs": [
    {
     "data": {
      "image/svg+xml": [
       "<svg xmlns=\"http://www.w3.org/2000/svg\" xmlns:xlink=\"http://www.w3.org/1999/xlink\" width=\"734pt\" height=\"131pt\" viewBox=\"0.00 0.00 734.00 131.00\">\n",
       "<g id=\"graph0\" class=\"graph\" transform=\"scale(1 1) rotate(0) translate(4 127)\">\n",
       "<title>counts</title>\n",
       "<polygon fill=\"white\" stroke=\"transparent\" points=\"-4,4 -4,-127 730,-127 730,4 -4,4\"/>\n",
       "<!-- b0 -->\n",
       "<g id=\"node1\" class=\"node\">\n",
       "<title>b0</title>\n",
       "<polygon fill=\"none\" stroke=\"black\" points=\"283,-93 283,-116 347,-116 347,-93 283,-93\"/>\n",
       "<text text-anchor=\"start\" x=\"289\" y=\"-102\" font-family=\"Times,serif\" font-size=\"10.00\">SelectSparse</text>\n",
       "</g>\n",
       "<!-- b1 -->\n",
       "<g id=\"node2\" class=\"node\">\n",
       "<title>b1</title>\n",
       "<polygon fill=\"none\" stroke=\"black\" points=\"18,-6 18,-29 36,-29 36,-6 18,-6\"/>\n",
       "<text text-anchor=\"start\" x=\"24\" y=\"-15\" font-family=\"Times,serif\" font-size=\"10.00\">S</text>\n",
       "</g>\n",
       "<!-- b0&#45;&gt;b1 -->\n",
       "<g id=\"edge1\" class=\"edge\">\n",
       "<title>b0-&gt;b1</title>\n",
       "<path fill=\"none\" stroke=\"black\" d=\"M274.6,-95.43C226.21,-84.66 142.78,-64.48 63.9,-36.02\"/>\n",
       "<polygon fill=\"black\" stroke=\"black\" points=\"64.9,-32.66 54.3,-32.51 62.49,-39.23 64.9,-32.66\"/>\n",
       "<text text-anchor=\"middle\" x=\"169.5\" y=\"-57.8\" font-family=\"Times,serif\" font-size=\"14.00\">1</text>\n",
       "</g>\n",
       "<!-- b2 -->\n",
       "<g id=\"node3\" class=\"node\">\n",
       "<title>b2</title>\n",
       "<polygon fill=\"none\" stroke=\"black\" points=\"80,-6 80,-29 214,-29 214,-6 80,-6\"/>\n",
       "<text text-anchor=\"start\" x=\"86.5\" y=\"-15\" font-family=\"Times,serif\" font-size=\"10.00\">SelectedMajoranaFermion(X)</text>\n",
       "</g>\n",
       "<!-- b0&#45;&gt;b2 -->\n",
       "<g id=\"edge2\" class=\"edge\">\n",
       "<title>b0-&gt;b2</title>\n",
       "<path fill=\"none\" stroke=\"black\" d=\"M281,-86.8C254.73,-73.51 218.2,-55.02 189.91,-40.71\"/>\n",
       "<polygon fill=\"black\" stroke=\"black\" points=\"191.16,-37.42 180.66,-36.03 188,-43.67 191.16,-37.42\"/>\n",
       "<text text-anchor=\"middle\" x=\"245.5\" y=\"-57.8\" font-family=\"Times,serif\" font-size=\"14.00\">1</text>\n",
       "</g>\n",
       "<!-- b3 -->\n",
       "<g id=\"node4\" class=\"node\">\n",
       "<title>b3</title>\n",
       "<polygon fill=\"none\" stroke=\"black\" points=\"248,-6 248,-29 382,-29 382,-6 248,-6\"/>\n",
       "<text text-anchor=\"start\" x=\"254.5\" y=\"-15\" font-family=\"Times,serif\" font-size=\"10.00\">SelectedMajoranaFermion(X)</text>\n",
       "</g>\n",
       "<!-- b0&#45;&gt;b3 -->\n",
       "<g id=\"edge3\" class=\"edge\">\n",
       "<title>b0-&gt;b3</title>\n",
       "<path fill=\"none\" stroke=\"black\" d=\"M315,-86.8C315,-75.16 315,-59.55 315,-46.24\"/>\n",
       "<polygon fill=\"black\" stroke=\"black\" points=\"318.5,-46.18 315,-36.18 311.5,-46.18 318.5,-46.18\"/>\n",
       "<text text-anchor=\"middle\" x=\"318.5\" y=\"-57.8\" font-family=\"Times,serif\" font-size=\"14.00\">1</text>\n",
       "</g>\n",
       "<!-- b4 -->\n",
       "<g id=\"node5\" class=\"node\">\n",
       "<title>b4</title>\n",
       "<polygon fill=\"none\" stroke=\"black\" points=\"416,-6 416,-29 550,-29 550,-6 416,-6\"/>\n",
       "<text text-anchor=\"start\" x=\"422.5\" y=\"-15\" font-family=\"Times,serif\" font-size=\"10.00\">SelectedMajoranaFermion(Y)</text>\n",
       "</g>\n",
       "<!-- b0&#45;&gt;b4 -->\n",
       "<g id=\"edge4\" class=\"edge\">\n",
       "<title>b0-&gt;b4</title>\n",
       "<path fill=\"none\" stroke=\"black\" d=\"M349,-86.8C375.27,-73.51 411.8,-55.02 440.09,-40.71\"/>\n",
       "<polygon fill=\"black\" stroke=\"black\" points=\"442,-43.67 449.34,-36.03 438.84,-37.42 442,-43.67\"/>\n",
       "<text text-anchor=\"middle\" x=\"413.5\" y=\"-57.8\" font-family=\"Times,serif\" font-size=\"14.00\">1</text>\n",
       "</g>\n",
       "<!-- b5 -->\n",
       "<g id=\"node6\" class=\"node\">\n",
       "<title>b5</title>\n",
       "<polygon fill=\"none\" stroke=\"black\" points=\"584,-6 584,-29 718,-29 718,-6 584,-6\"/>\n",
       "<text text-anchor=\"start\" x=\"590.5\" y=\"-15\" font-family=\"Times,serif\" font-size=\"10.00\">SelectedMajoranaFermion(Y)</text>\n",
       "</g>\n",
       "<!-- b0&#45;&gt;b5 -->\n",
       "<g id=\"edge5\" class=\"edge\">\n",
       "<title>b0-&gt;b5</title>\n",
       "<path fill=\"none\" stroke=\"black\" d=\"M355.2,-93.83C409.07,-80.2 505.8,-55.73 573.95,-38.49\"/>\n",
       "<polygon fill=\"black\" stroke=\"black\" points=\"574.95,-41.85 583.79,-36 573.23,-35.06 574.95,-41.85\"/>\n",
       "<text text-anchor=\"middle\" x=\"507.5\" y=\"-57.8\" font-family=\"Times,serif\" font-size=\"14.00\">1</text>\n",
       "</g>\n",
       "</g>\n",
       "</svg>"
      ],
      "text/plain": [
       "<IPython.core.display.SVG object>"
      ]
     },
     "metadata": {},
     "output_type": "display_data"
    },
    {
     "data": {
      "text/markdown": [
       "#### Counts totals:\n",
       " - `S`: 1\n",
       " - `SelectedMajoranaFermion(X)`: 1\n",
       " - `SelectedMajoranaFermion(X)`: 1\n",
       " - `SelectedMajoranaFermion(Y)`: 1\n",
       " - `SelectedMajoranaFermion(Y)`: 1"
      ],
      "text/plain": [
       "<IPython.core.display.Markdown object>"
      ]
     },
     "metadata": {},
     "output_type": "display_data"
    }
   ],
   "source": [
    "from qualtran.resource_counting.generalizers import ignore_split_join\n",
    "sel_sparse_g, sel_sparse_sigma = sel_sparse.call_graph(max_depth=1, generalizer=ignore_split_join)\n",
    "show_call_graph(sel_sparse_g)\n",
    "show_counts_sigma(sel_sparse_sigma)"
   ]
  }
 ],
 "metadata": {
  "kernelspec": {
   "display_name": "Python 3",
   "language": "python",
   "name": "python3"
  },
  "language_info": {
   "codemirror_mode": {
    "name": "ipython",
    "version": 3
   },
   "file_extension": ".py",
   "mimetype": "text/x-python",
   "name": "python",
   "nbconvert_exporter": "python",
   "pygments_lexer": "ipython3",
   "version": "3.11.8"
  },
  "widgets": {
   "application/vnd.jupyter.widget-state+json": {
    "state": {
     "07a860cbbfa84c4d8001f879471dcac2": {
      "model_module": "@jupyter-widgets/base",
      "model_module_version": "2.0.0",
      "model_name": "LayoutModel",
      "state": {
       "_model_module": "@jupyter-widgets/base",
       "_model_module_version": "2.0.0",
       "_model_name": "LayoutModel",
       "_view_count": null,
       "_view_module": "@jupyter-widgets/base",
       "_view_module_version": "2.0.0",
       "_view_name": "LayoutView",
       "align_content": null,
       "align_items": null,
       "align_self": null,
       "border_bottom": null,
       "border_left": null,
       "border_right": null,
       "border_top": null,
       "bottom": null,
       "display": null,
       "flex": null,
       "flex_flow": null,
       "grid_area": null,
       "grid_auto_columns": null,
       "grid_auto_flow": null,
       "grid_auto_rows": null,
       "grid_column": null,
       "grid_gap": null,
       "grid_row": null,
       "grid_template_areas": null,
       "grid_template_columns": null,
       "grid_template_rows": null,
       "height": null,
       "justify_content": null,
       "justify_items": null,
       "left": null,
       "margin": null,
       "max_height": null,
       "max_width": null,
       "min_height": null,
       "min_width": null,
       "object_fit": null,
       "object_position": null,
       "order": null,
       "overflow": null,
       "padding": null,
       "right": null,
       "top": null,
       "visibility": null,
       "width": null
      }
     },
     "151d7ebabb2a463b9264d4e93fe97303": {
      "model_module": "@jupyter-widgets/output",
      "model_module_version": "1.0.0",
      "model_name": "OutputModel",
      "state": {
       "_dom_classes": [],
       "_model_module": "@jupyter-widgets/output",
       "_model_module_version": "1.0.0",
       "_model_name": "OutputModel",
       "_view_count": null,
       "_view_module": "@jupyter-widgets/output",
       "_view_module_version": "1.0.0",
       "_view_name": "OutputView",
       "layout": "IPY_MODEL_566a2139ca974917acbfd9e7ad45015c",
       "msg_id": "",
       "outputs": [
        {
         "data": {
          "text/markdown": "`prep_sparse`",
          "text/plain": "<IPython.core.display.Markdown object>"
         },
         "metadata": {},
         "output_type": "display_data"
        },
        {
         "data": {
          "image/svg+xml": "<svg xmlns=\"http://www.w3.org/2000/svg\" xmlns:xlink=\"http://www.w3.org/1999/xlink\" width=\"308pt\" height=\"1178pt\" viewBox=\"0.00 0.00 308.00 1178.00\">\n<g id=\"graph0\" class=\"graph\" transform=\"scale(1 1) rotate(0) translate(4 1174)\">\n<title>my_graph</title>\n<polygon fill=\"white\" stroke=\"transparent\" points=\"-4,4 -4,-1174 304,-1174 304,4 -4,4\"/>\n<!-- d_G13 -->\n<g id=\"node1\" class=\"node\">\n<title>d_G13</title>\n<text text-anchor=\"middle\" x=\"37\" y=\"-934.3\" font-family=\"Times,serif\" font-size=\"14.00\">d</text>\n</g>\n<!-- PrepareSparse -->\n<g id=\"node10\" class=\"node\">\n<title>PrepareSparse</title>\n<polygon fill=\"none\" stroke=\"black\" points=\"111,-816 111,-833 185,-833 185,-816 111,-816\"/>\n<text text-anchor=\"start\" x=\"119.5\" y=\"-822\" font-family=\"Times,serif\" font-size=\"10.00\">PrepareSparse</text>\n<polygon fill=\"none\" stroke=\"black\" points=\"111,-795 111,-816 185,-816 185,-795 111,-795\"/>\n<text text-anchor=\"start\" x=\"144.5\" y=\"-801.8\" font-family=\"Times,serif\" font-size=\"14.00\">d</text>\n<polygon fill=\"none\" stroke=\"black\" points=\"111,-774 111,-795 185,-795 185,-774 111,-774\"/>\n<text text-anchor=\"start\" x=\"131\" y=\"-780.8\" font-family=\"Times,serif\" font-size=\"14.00\">sigma</text>\n<polygon fill=\"none\" stroke=\"black\" points=\"111,-753 111,-774 185,-774 185,-753 111,-753\"/>\n<text text-anchor=\"start\" x=\"133\" y=\"-759.8\" font-family=\"Times,serif\" font-size=\"14.00\">alpha</text>\n<polygon fill=\"none\" stroke=\"black\" points=\"111,-732 111,-753 185,-753 185,-732 111,-732\"/>\n<text text-anchor=\"start\" x=\"136.5\" y=\"-738.8\" font-family=\"Times,serif\" font-size=\"14.00\">beta</text>\n<polygon fill=\"none\" stroke=\"black\" points=\"111,-711 111,-732 185,-732 185,-711 111,-711\"/>\n<text text-anchor=\"start\" x=\"131\" y=\"-717.8\" font-family=\"Times,serif\" font-size=\"14.00\">rot_aa</text>\n<polygon fill=\"none\" stroke=\"black\" points=\"111,-690 111,-711 185,-711 185,-690 111,-690\"/>\n<text text-anchor=\"start\" x=\"123.5\" y=\"-696.8\" font-family=\"Times,serif\" font-size=\"14.00\">swap_pq</text>\n<polygon fill=\"none\" stroke=\"black\" points=\"111,-669 111,-690 185,-690 185,-669 111,-669\"/>\n<text text-anchor=\"start\" x=\"125.5\" y=\"-675.8\" font-family=\"Times,serif\" font-size=\"14.00\">swap_rs</text>\n<polygon fill=\"none\" stroke=\"black\" points=\"111,-648 111,-669 185,-669 185,-648 111,-648\"/>\n<text text-anchor=\"start\" x=\"119\" y=\"-654.8\" font-family=\"Times,serif\" font-size=\"14.00\">swap_pqrs</text>\n<polygon fill=\"none\" stroke=\"black\" points=\"111,-627 111,-648 185,-648 185,-627 111,-627\"/>\n<text text-anchor=\"start\" x=\"122.5\" y=\"-633.8\" font-family=\"Times,serif\" font-size=\"14.00\">less_than</text>\n<polygon fill=\"none\" stroke=\"black\" points=\"111,-606 111,-627 117,-627 117,-606 111,-606\"/>\n<polygon fill=\"none\" stroke=\"black\" points=\"117,-606 117,-627 185,-627 185,-606 117,-606\"/>\n<text text-anchor=\"start\" x=\"147.5\" y=\"-612.8\" font-family=\"Times,serif\" font-size=\"14.00\">p</text>\n<polygon fill=\"none\" stroke=\"black\" points=\"111,-585 111,-606 117,-606 117,-585 111,-585\"/>\n<polygon fill=\"none\" stroke=\"black\" points=\"117,-585 117,-606 185,-606 185,-585 117,-585\"/>\n<text text-anchor=\"start\" x=\"147.5\" y=\"-591.8\" font-family=\"Times,serif\" font-size=\"14.00\">q</text>\n<polygon fill=\"none\" stroke=\"black\" points=\"111,-564 111,-585 117,-585 117,-564 111,-564\"/>\n<polygon fill=\"none\" stroke=\"black\" points=\"117,-564 117,-585 185,-585 185,-564 117,-564\"/>\n<text text-anchor=\"start\" x=\"148.5\" y=\"-570.8\" font-family=\"Times,serif\" font-size=\"14.00\">r</text>\n<polygon fill=\"none\" stroke=\"black\" points=\"111,-543 111,-564 117,-564 117,-543 111,-543\"/>\n<polygon fill=\"none\" stroke=\"black\" points=\"117,-543 117,-564 185,-564 185,-543 117,-543\"/>\n<text text-anchor=\"start\" x=\"148\" y=\"-549.8\" font-family=\"Times,serif\" font-size=\"14.00\">s</text>\n<polygon fill=\"none\" stroke=\"black\" points=\"111,-522 111,-543 117,-543 117,-522 111,-522\"/>\n<polygon fill=\"none\" stroke=\"black\" points=\"117,-522 117,-543 185,-543 185,-522 117,-522\"/>\n<text text-anchor=\"start\" x=\"137.5\" y=\"-528.8\" font-family=\"Times,serif\" font-size=\"14.00\">theta</text>\n<polygon fill=\"none\" stroke=\"black\" points=\"111,-501 111,-522 117,-522 117,-501 111,-501\"/>\n<polygon fill=\"none\" stroke=\"black\" points=\"117,-501 117,-522 185,-522 185,-501 117,-501\"/>\n<text text-anchor=\"start\" x=\"130\" y=\"-507.8\" font-family=\"Times,serif\" font-size=\"14.00\">flag_1b</text>\n<polygon fill=\"none\" stroke=\"black\" points=\"111,-480 111,-501 117,-501 117,-480 111,-480\"/>\n<polygon fill=\"none\" stroke=\"black\" points=\"117,-480 117,-501 185,-501 185,-480 117,-480\"/>\n<text text-anchor=\"start\" x=\"137\" y=\"-486.8\" font-family=\"Times,serif\" font-size=\"14.00\">alt_p</text>\n<polygon fill=\"none\" stroke=\"black\" points=\"111,-459 111,-480 117,-480 117,-459 111,-459\"/>\n<polygon fill=\"none\" stroke=\"black\" points=\"117,-459 117,-480 185,-480 185,-459 117,-459\"/>\n<text text-anchor=\"start\" x=\"137\" y=\"-465.8\" font-family=\"Times,serif\" font-size=\"14.00\">alt_q</text>\n<polygon fill=\"none\" stroke=\"black\" points=\"111,-438 111,-459 117,-459 117,-438 111,-438\"/>\n<polygon fill=\"none\" stroke=\"black\" points=\"117,-438 117,-459 185,-459 185,-438 117,-438\"/>\n<text text-anchor=\"start\" x=\"138.5\" y=\"-444.8\" font-family=\"Times,serif\" font-size=\"14.00\">alt_r</text>\n<polygon fill=\"none\" stroke=\"black\" points=\"111,-417 111,-438 117,-438 117,-417 111,-417\"/>\n<polygon fill=\"none\" stroke=\"black\" points=\"117,-417 117,-438 185,-438 185,-417 117,-417\"/>\n<text text-anchor=\"start\" x=\"138\" y=\"-423.8\" font-family=\"Times,serif\" font-size=\"14.00\">alt_s</text>\n<polygon fill=\"none\" stroke=\"black\" points=\"111,-396 111,-417 117,-417 117,-396 111,-396\"/>\n<polygon fill=\"none\" stroke=\"black\" points=\"117,-396 117,-417 185,-417 185,-396 117,-396\"/>\n<text text-anchor=\"start\" x=\"127.5\" y=\"-402.8\" font-family=\"Times,serif\" font-size=\"14.00\">alt_theta</text>\n<polygon fill=\"none\" stroke=\"black\" points=\"111,-375 111,-396 117,-396 117,-375 111,-375\"/>\n<polygon fill=\"none\" stroke=\"black\" points=\"117,-375 117,-396 185,-396 185,-375 117,-375\"/>\n<text text-anchor=\"start\" x=\"120\" y=\"-381.8\" font-family=\"Times,serif\" font-size=\"14.00\">alt_flag_1b</text>\n<polygon fill=\"none\" stroke=\"black\" points=\"111,-354 111,-375 117,-375 117,-354 111,-354\"/>\n<polygon fill=\"none\" stroke=\"black\" points=\"117,-354 117,-375 185,-375 185,-354 117,-354\"/>\n<text text-anchor=\"start\" x=\"138\" y=\"-360.8\" font-family=\"Times,serif\" font-size=\"14.00\">keep</text>\n</g>\n<!-- d_G13&#45;&gt;PrepareSparse -->\n<g id=\"edge1\" class=\"edge\">\n<title>d_G13:e-&gt;PrepareSparse:w</title>\n<path fill=\"none\" stroke=\"black\" d=\"M65,-938C126.4,-938 50.69,-809.08 108.87,-806.05\"/>\n<ellipse fill=\"black\" stroke=\"black\" cx=\"110\" cy=\"-806.03\" rx=\"1\" ry=\"1\"/>\n<text text-anchor=\"middle\" x=\"92.5\" y=\"-816\" font-family=\"Times,serif\" font-size=\"10.00\">5</text>\n</g>\n<!-- sigma_G8 -->\n<g id=\"node2\" class=\"node\">\n<title>sigma_G8</title>\n<text text-anchor=\"middle\" x=\"37\" y=\"-880.3\" font-family=\"Times,serif\" font-size=\"14.00\">sigma</text>\n</g>\n<!-- sigma_G8&#45;&gt;PrepareSparse -->\n<g id=\"edge2\" class=\"edge\">\n<title>sigma_G8:e-&gt;PrepareSparse:w</title>\n<path fill=\"none\" stroke=\"black\" d=\"M65,-884C112.76,-884 64.05,-788.07 108.8,-785.07\"/>\n<ellipse fill=\"black\" stroke=\"black\" cx=\"110\" cy=\"-785.03\" rx=\"1\" ry=\"1\"/>\n<text text-anchor=\"middle\" x=\"92.5\" y=\"-798\" font-family=\"Times,serif\" font-size=\"10.00\">4</text>\n</g>\n<!-- alpha_G45 -->\n<g id=\"node3\" class=\"node\">\n<title>alpha_G45</title>\n<text text-anchor=\"middle\" x=\"37\" y=\"-826.3\" font-family=\"Times,serif\" font-size=\"14.00\">alpha</text>\n</g>\n<!-- alpha_G45&#45;&gt;PrepareSparse -->\n<g id=\"edge3\" class=\"edge\">\n<title>alpha_G45:e-&gt;PrepareSparse:w</title>\n<path fill=\"none\" stroke=\"black\" d=\"M65,-830C100.06,-830 76.22,-766.55 108.97,-764.07\"/>\n<ellipse fill=\"black\" stroke=\"black\" cx=\"110\" cy=\"-764.04\" rx=\"1\" ry=\"1\"/>\n<text text-anchor=\"middle\" x=\"92.5\" y=\"-781\" font-family=\"Times,serif\" font-size=\"10.00\">1</text>\n</g>\n<!-- beta_G17 -->\n<g id=\"node4\" class=\"node\">\n<title>beta_G17</title>\n<text text-anchor=\"middle\" x=\"37\" y=\"-772.3\" font-family=\"Times,serif\" font-size=\"14.00\">beta</text>\n</g>\n<!-- beta_G17&#45;&gt;PrepareSparse -->\n<g id=\"edge4\" class=\"edge\">\n<title>beta_G17:e-&gt;PrepareSparse:w</title>\n<path fill=\"none\" stroke=\"black\" d=\"M65,-776C89.47,-776 86.05,-744.78 109,-743.07\"/>\n<ellipse fill=\"black\" stroke=\"black\" cx=\"110\" cy=\"-743.04\" rx=\"1\" ry=\"1\"/>\n<text text-anchor=\"middle\" x=\"92.5\" y=\"-755\" font-family=\"Times,serif\" font-size=\"10.00\">1</text>\n</g>\n<!-- rot_aa_G44 -->\n<g id=\"node5\" class=\"node\">\n<title>rot_aa_G44</title>\n<text text-anchor=\"middle\" x=\"37\" y=\"-718.3\" font-family=\"Times,serif\" font-size=\"14.00\">rot_aa</text>\n</g>\n<!-- rot_aa_G44&#45;&gt;PrepareSparse -->\n<g id=\"edge5\" class=\"edge\">\n<title>rot_aa_G44:e-&gt;PrepareSparse:w</title>\n<path fill=\"none\" stroke=\"black\" d=\"M65,-722C84.65,-722 90.13,-722 108.67,-722\"/>\n<ellipse fill=\"black\" stroke=\"black\" cx=\"110\" cy=\"-722\" rx=\"1\" ry=\"1\"/>\n<text text-anchor=\"middle\" x=\"92.5\" y=\"-725\" font-family=\"Times,serif\" font-size=\"10.00\">1</text>\n</g>\n<!-- swap_pq_G41 -->\n<g id=\"node6\" class=\"node\">\n<title>swap_pq_G41</title>\n<text text-anchor=\"middle\" x=\"37\" y=\"-664.3\" font-family=\"Times,serif\" font-size=\"14.00\">swap_pq</text>\n</g>\n<!-- swap_pq_G41&#45;&gt;PrepareSparse -->\n<g id=\"edge6\" class=\"edge\">\n<title>swap_pq_G41:e-&gt;PrepareSparse:w</title>\n<path fill=\"none\" stroke=\"black\" d=\"M71,-668C93.33,-668 88.31,-698.97 108.92,-700.91\"/>\n<ellipse fill=\"black\" stroke=\"black\" cx=\"110\" cy=\"-700.95\" rx=\"1\" ry=\"1\"/>\n<text text-anchor=\"middle\" x=\"92.5\" y=\"-690\" font-family=\"Times,serif\" font-size=\"10.00\">1</text>\n</g>\n<!-- swap_rs_G26 -->\n<g id=\"node7\" class=\"node\">\n<title>swap_rs_G26</title>\n<text text-anchor=\"middle\" x=\"37\" y=\"-610.3\" font-family=\"Times,serif\" font-size=\"14.00\">swap_rs</text>\n</g>\n<!-- swap_rs_G26&#45;&gt;PrepareSparse -->\n<g id=\"edge7\" class=\"edge\">\n<title>swap_rs_G26:e-&gt;PrepareSparse:w</title>\n<path fill=\"none\" stroke=\"black\" d=\"M69,-614C86.42,-614 83.64,-630.3 93,-645 101.95,-659.06 94.3,-678.11 108.71,-679.87\"/>\n<ellipse fill=\"black\" stroke=\"black\" cx=\"110\" cy=\"-679.94\" rx=\"1\" ry=\"1\"/>\n<text text-anchor=\"middle\" x=\"92.5\" y=\"-648\" font-family=\"Times,serif\" font-size=\"10.00\">1</text>\n</g>\n<!-- swap_pqrs_G20 -->\n<g id=\"node8\" class=\"node\">\n<title>swap_pqrs_G20</title>\n<text text-anchor=\"middle\" x=\"37\" y=\"-556.3\" font-family=\"Times,serif\" font-size=\"14.00\">swap_pqrs</text>\n</g>\n<!-- swap_pqrs_G20&#45;&gt;PrepareSparse -->\n<g id=\"edge8\" class=\"edge\">\n<title>swap_pqrs_G20:e-&gt;PrepareSparse:w</title>\n<path fill=\"none\" stroke=\"black\" d=\"M74,-560C96.75,-560 88.1,-652.91 108.89,-658.72\"/>\n<ellipse fill=\"black\" stroke=\"black\" cx=\"110.01\" cy=\"-658.87\" rx=\"1\" ry=\"1\"/>\n<text text-anchor=\"middle\" x=\"92.5\" y=\"-615\" font-family=\"Times,serif\" font-size=\"10.00\">1</text>\n</g>\n<!-- less_than_G31 -->\n<g id=\"node9\" class=\"node\">\n<title>less_than_G31</title>\n<text text-anchor=\"middle\" x=\"37\" y=\"-502.3\" font-family=\"Times,serif\" font-size=\"14.00\">less_than</text>\n</g>\n<!-- less_than_G31&#45;&gt;PrepareSparse -->\n<g id=\"edge9\" class=\"edge\">\n<title>less_than_G31:e-&gt;PrepareSparse:w</title>\n<path fill=\"none\" stroke=\"black\" d=\"M72,-506C101.87,-506 81.42,-631.89 108.93,-637.79\"/>\n<ellipse fill=\"black\" stroke=\"black\" cx=\"110.01\" cy=\"-637.9\" rx=\"1\" ry=\"1\"/>\n<text text-anchor=\"middle\" x=\"92.5\" y=\"-594\" font-family=\"Times,serif\" font-size=\"10.00\">1</text>\n</g>\n<!-- d_G7 -->\n<g id=\"node11\" class=\"node\">\n<title>d_G7</title>\n<text text-anchor=\"middle\" x=\"261\" y=\"-1148.3\" font-family=\"Times,serif\" font-size=\"14.00\">d</text>\n</g>\n<!-- PrepareSparse&#45;&gt;d_G7 -->\n<g id=\"edge10\" class=\"edge\">\n<title>PrepareSparse:e-&gt;d_G7:w</title>\n<path fill=\"none\" stroke=\"black\" d=\"M185,-806C223.05,-806 195.32,-1138.62 230.8,-1151.61\"/>\n<ellipse fill=\"black\" stroke=\"black\" cx=\"232.02\" cy=\"-1151.82\" rx=\"1\" ry=\"1\"/>\n<text text-anchor=\"middle\" x=\"203.5\" y=\"-867\" font-family=\"Times,serif\" font-size=\"10.00\">5</text>\n</g>\n<!-- sigma_G51 -->\n<g id=\"node12\" class=\"node\">\n<title>sigma_G51</title>\n<text text-anchor=\"middle\" x=\"261\" y=\"-1094.3\" font-family=\"Times,serif\" font-size=\"14.00\">sigma</text>\n</g>\n<!-- PrepareSparse&#45;&gt;sigma_G51 -->\n<g id=\"edge11\" class=\"edge\">\n<title>PrepareSparse:e-&gt;sigma_G51:w</title>\n<path fill=\"none\" stroke=\"black\" d=\"M185,-785C219.5,-785 198.67,-1085.89 231,-1097.65\"/>\n<ellipse fill=\"black\" stroke=\"black\" cx=\"232.02\" cy=\"-1097.83\" rx=\"1\" ry=\"1\"/>\n<text text-anchor=\"middle\" x=\"203.5\" y=\"-847\" font-family=\"Times,serif\" font-size=\"10.00\">4</text>\n</g>\n<!-- alpha_G35 -->\n<g id=\"node13\" class=\"node\">\n<title>alpha_G35</title>\n<text text-anchor=\"middle\" x=\"261\" y=\"-1040.3\" font-family=\"Times,serif\" font-size=\"14.00\">alpha</text>\n</g>\n<!-- PrepareSparse&#45;&gt;alpha_G35 -->\n<g id=\"edge12\" class=\"edge\">\n<title>PrepareSparse:e-&gt;alpha_G35:w</title>\n<path fill=\"none\" stroke=\"black\" d=\"M185,-764C215.83,-764 202.12,-1031.03 230.86,-1043.55\"/>\n<ellipse fill=\"black\" stroke=\"black\" cx=\"232.02\" cy=\"-1043.79\" rx=\"1\" ry=\"1\"/>\n<text text-anchor=\"middle\" x=\"203.5\" y=\"-827\" font-family=\"Times,serif\" font-size=\"10.00\">1</text>\n</g>\n<!-- beta_G5 -->\n<g id=\"node14\" class=\"node\">\n<title>beta_G5</title>\n<text text-anchor=\"middle\" x=\"261\" y=\"-986.3\" font-family=\"Times,serif\" font-size=\"14.00\">beta</text>\n</g>\n<!-- PrepareSparse&#45;&gt;beta_G5 -->\n<g id=\"edge13\" class=\"edge\">\n<title>PrepareSparse:e-&gt;beta_G5:w</title>\n<path fill=\"none\" stroke=\"black\" d=\"M185,-743C212.19,-743 205.45,-976.68 230.79,-989.46\"/>\n<ellipse fill=\"black\" stroke=\"black\" cx=\"232.03\" cy=\"-989.76\" rx=\"1\" ry=\"1\"/>\n<text text-anchor=\"middle\" x=\"203.5\" y=\"-812\" font-family=\"Times,serif\" font-size=\"10.00\">1</text>\n</g>\n<!-- rot_aa_G34 -->\n<g id=\"node15\" class=\"node\">\n<title>rot_aa_G34</title>\n<text text-anchor=\"middle\" x=\"261\" y=\"-932.3\" font-family=\"Times,serif\" font-size=\"14.00\">rot_aa</text>\n</g>\n<!-- PrepareSparse&#45;&gt;rot_aa_G34 -->\n<g id=\"edge14\" class=\"edge\">\n<title>PrepareSparse:e-&gt;rot_aa_G34:w</title>\n<path fill=\"none\" stroke=\"black\" d=\"M185,-722C195.59,-722 218.96,-898.86 222,-909 225.49,-920.64 220.72,-934.19 230.78,-935.83\"/>\n<ellipse fill=\"black\" stroke=\"black\" cx=\"232\" cy=\"-935.92\" rx=\"1\" ry=\"1\"/>\n<text text-anchor=\"middle\" x=\"203.5\" y=\"-798\" font-family=\"Times,serif\" font-size=\"10.00\">1</text>\n</g>\n<!-- swap_pq_G30 -->\n<g id=\"node16\" class=\"node\">\n<title>swap_pq_G30</title>\n<text text-anchor=\"middle\" x=\"261\" y=\"-878.3\" font-family=\"Times,serif\" font-size=\"14.00\">swap_pq</text>\n</g>\n<!-- PrepareSparse&#45;&gt;swap_pq_G30 -->\n<g id=\"edge15\" class=\"edge\">\n<title>PrepareSparse:e-&gt;swap_pq_G30:w</title>\n<path fill=\"none\" stroke=\"black\" d=\"M185,-701C189.84,-701 217.98,-860.08 225.73,-879.97\"/>\n<ellipse fill=\"black\" stroke=\"black\" cx=\"226.47\" cy=\"-881.15\" rx=\"1\" ry=\"1\"/>\n<text text-anchor=\"middle\" x=\"203.5\" y=\"-783\" font-family=\"Times,serif\" font-size=\"10.00\">1</text>\n</g>\n<!-- swap_rs_G18 -->\n<g id=\"node17\" class=\"node\">\n<title>swap_rs_G18</title>\n<text text-anchor=\"middle\" x=\"261\" y=\"-824.3\" font-family=\"Times,serif\" font-size=\"14.00\">swap_rs</text>\n</g>\n<!-- PrepareSparse&#45;&gt;swap_rs_G18 -->\n<g id=\"edge16\" class=\"edge\">\n<title>PrepareSparse:e-&gt;swap_rs_G18:w</title>\n<path fill=\"none\" stroke=\"black\" d=\"M185,-680C204.74,-680 197.1,-748.16 203,-767 211.6,-794.47 200.09,-826.46 227,-827.95\"/>\n<ellipse fill=\"black\" stroke=\"black\" cx=\"228\" cy=\"-827.97\" rx=\"1\" ry=\"1\"/>\n<text text-anchor=\"middle\" x=\"203.5\" y=\"-773\" font-family=\"Times,serif\" font-size=\"10.00\">1</text>\n</g>\n<!-- swap_pqrs_G0 -->\n<g id=\"node18\" class=\"node\">\n<title>swap_pqrs_G0</title>\n<text text-anchor=\"middle\" x=\"261\" y=\"-770.3\" font-family=\"Times,serif\" font-size=\"14.00\">swap_pqrs</text>\n</g>\n<!-- PrepareSparse&#45;&gt;swap_pqrs_G0 -->\n<g id=\"edge17\" class=\"edge\">\n<title>PrepareSparse:e-&gt;swap_pqrs_G0:w</title>\n<path fill=\"none\" stroke=\"black\" d=\"M185,-659C238.09,-659 171.05,-770.88 220.86,-773.94\"/>\n<ellipse fill=\"black\" stroke=\"black\" cx=\"222\" cy=\"-773.97\" rx=\"1\" ry=\"1\"/>\n<text text-anchor=\"middle\" x=\"203.5\" y=\"-765\" font-family=\"Times,serif\" font-size=\"10.00\">1</text>\n</g>\n<!-- less_than_G19 -->\n<g id=\"node19\" class=\"node\">\n<title>less_than_G19</title>\n<text text-anchor=\"middle\" x=\"261\" y=\"-716.3\" font-family=\"Times,serif\" font-size=\"14.00\">less_than</text>\n</g>\n<!-- PrepareSparse&#45;&gt;less_than_G19 -->\n<g id=\"edge18\" class=\"edge\">\n<title>PrepareSparse:e-&gt;less_than_G19:w</title>\n<path fill=\"none\" stroke=\"black\" d=\"M185,-638C224.95,-638 186.8,-716.83 223.7,-719.91\"/>\n<ellipse fill=\"black\" stroke=\"black\" cx=\"225\" cy=\"-719.96\" rx=\"1\" ry=\"1\"/>\n<text text-anchor=\"middle\" x=\"203.5\" y=\"-656\" font-family=\"Times,serif\" font-size=\"10.00\">1</text>\n</g>\n<!-- p_G42 -->\n<g id=\"node20\" class=\"node\">\n<title>p_G42</title>\n<text text-anchor=\"middle\" x=\"261\" y=\"-662.3\" font-family=\"Times,serif\" font-size=\"14.00\">p</text>\n</g>\n<!-- PrepareSparse&#45;&gt;p_G42 -->\n<g id=\"edge19\" class=\"edge\">\n<title>PrepareSparse:e-&gt;p_G42:w</title>\n<path fill=\"none\" stroke=\"black\" d=\"M185,-617C214.77,-617 203.1,-663.73 230.93,-665.92\"/>\n<ellipse fill=\"black\" stroke=\"black\" cx=\"232\" cy=\"-665.96\" rx=\"1\" ry=\"1\"/>\n<text text-anchor=\"middle\" x=\"203.5\" y=\"-631\" font-family=\"Times,serif\" font-size=\"10.00\">2</text>\n</g>\n<!-- q_G22 -->\n<g id=\"node21\" class=\"node\">\n<title>q_G22</title>\n<text text-anchor=\"middle\" x=\"261\" y=\"-608.3\" font-family=\"Times,serif\" font-size=\"14.00\">q</text>\n</g>\n<!-- PrepareSparse&#45;&gt;q_G22 -->\n<g id=\"edge20\" class=\"edge\">\n<title>PrepareSparse:e-&gt;q_G22:w</title>\n<path fill=\"none\" stroke=\"black\" d=\"M185,-596C206.78,-596 210.3,-611.02 230.95,-611.95\"/>\n<ellipse fill=\"black\" stroke=\"black\" cx=\"232\" cy=\"-611.98\" rx=\"1\" ry=\"1\"/>\n<text text-anchor=\"middle\" x=\"203.5\" y=\"-603\" font-family=\"Times,serif\" font-size=\"10.00\">2</text>\n</g>\n<!-- r_G48 -->\n<g id=\"node22\" class=\"node\">\n<title>r_G48</title>\n<text text-anchor=\"middle\" x=\"261\" y=\"-554.3\" font-family=\"Times,serif\" font-size=\"14.00\">r</text>\n</g>\n<!-- PrepareSparse&#45;&gt;r_G48 -->\n<g id=\"edge21\" class=\"edge\">\n<title>PrepareSparse:e-&gt;r_G48:w</title>\n<path fill=\"none\" stroke=\"black\" d=\"M185,-574C206.78,-574 210.3,-558.98 230.95,-558.05\"/>\n<ellipse fill=\"black\" stroke=\"black\" cx=\"232\" cy=\"-558.02\" rx=\"1\" ry=\"1\"/>\n<text text-anchor=\"middle\" x=\"203.5\" y=\"-572\" font-family=\"Times,serif\" font-size=\"10.00\">2</text>\n</g>\n<!-- s_G12 -->\n<g id=\"node23\" class=\"node\">\n<title>s_G12</title>\n<text text-anchor=\"middle\" x=\"261\" y=\"-500.3\" font-family=\"Times,serif\" font-size=\"14.00\">s</text>\n</g>\n<!-- PrepareSparse&#45;&gt;s_G12 -->\n<g id=\"edge22\" class=\"edge\">\n<title>PrepareSparse:e-&gt;s_G12:w</title>\n<path fill=\"none\" stroke=\"black\" d=\"M185,-553C214.77,-553 203.1,-506.27 230.93,-504.08\"/>\n<ellipse fill=\"black\" stroke=\"black\" cx=\"232\" cy=\"-504.04\" rx=\"1\" ry=\"1\"/>\n<text text-anchor=\"middle\" x=\"203.5\" y=\"-545\" font-family=\"Times,serif\" font-size=\"10.00\">2</text>\n</g>\n<!-- theta_G10 -->\n<g id=\"node24\" class=\"node\">\n<title>theta_G10</title>\n<text text-anchor=\"middle\" x=\"261\" y=\"-446.3\" font-family=\"Times,serif\" font-size=\"14.00\">theta</text>\n</g>\n<!-- PrepareSparse&#45;&gt;theta_G10 -->\n<g id=\"edge23\" class=\"edge\">\n<title>PrepareSparse:e-&gt;theta_G10:w</title>\n<path fill=\"none\" stroke=\"black\" d=\"M185,-532C226.4,-532 192.16,-453.17 230.61,-450.09\"/>\n<ellipse fill=\"black\" stroke=\"black\" cx=\"232\" cy=\"-450.04\" rx=\"1\" ry=\"1\"/>\n<text text-anchor=\"middle\" x=\"203.5\" y=\"-524\" font-family=\"Times,serif\" font-size=\"10.00\">1</text>\n</g>\n<!-- flag_1b_G9 -->\n<g id=\"node25\" class=\"node\">\n<title>flag_1b_G9</title>\n<text text-anchor=\"middle\" x=\"261\" y=\"-392.3\" font-family=\"Times,serif\" font-size=\"14.00\">flag_1b</text>\n</g>\n<!-- PrepareSparse&#45;&gt;flag_1b_G9 -->\n<g id=\"edge24\" class=\"edge\">\n<title>PrepareSparse:e-&gt;flag_1b_G9:w</title>\n<path fill=\"none\" stroke=\"black\" d=\"M185,-511C239.3,-511 177.68,-399.12 228.81,-396.06\"/>\n<ellipse fill=\"black\" stroke=\"black\" cx=\"230\" cy=\"-396.03\" rx=\"1\" ry=\"1\"/>\n<text text-anchor=\"middle\" x=\"203.5\" y=\"-506\" font-family=\"Times,serif\" font-size=\"10.00\">1</text>\n</g>\n<!-- alt_p_G1 -->\n<g id=\"node26\" class=\"node\">\n<title>alt_p_G1</title>\n<text text-anchor=\"middle\" x=\"261\" y=\"-338.3\" font-family=\"Times,serif\" font-size=\"14.00\">alt_p</text>\n</g>\n<!-- PrepareSparse&#45;&gt;alt_p_G1 -->\n<g id=\"edge25\" class=\"edge\">\n<title>PrepareSparse:e-&gt;alt_p_G1:w</title>\n<path fill=\"none\" stroke=\"black\" d=\"M185,-490C253.34,-490 165.94,-345.45 230.63,-342.06\"/>\n<ellipse fill=\"black\" stroke=\"black\" cx=\"232\" cy=\"-342.03\" rx=\"1\" ry=\"1\"/>\n<text text-anchor=\"middle\" x=\"203.5\" y=\"-487\" font-family=\"Times,serif\" font-size=\"10.00\">2</text>\n</g>\n<!-- alt_q_G4 -->\n<g id=\"node27\" class=\"node\">\n<title>alt_q_G4</title>\n<text text-anchor=\"middle\" x=\"261\" y=\"-284.3\" font-family=\"Times,serif\" font-size=\"14.00\">alt_q</text>\n</g>\n<!-- PrepareSparse&#45;&gt;alt_q_G4 -->\n<g id=\"edge26\" class=\"edge\">\n<title>PrepareSparse:e-&gt;alt_q_G4:w</title>\n<path fill=\"none\" stroke=\"black\" d=\"M185,-469C267.41,-469 152.07,-291.52 230.62,-288.05\"/>\n<ellipse fill=\"black\" stroke=\"black\" cx=\"232\" cy=\"-288.02\" rx=\"1\" ry=\"1\"/>\n<text text-anchor=\"middle\" x=\"203.5\" y=\"-349\" font-family=\"Times,serif\" font-size=\"10.00\">2</text>\n</g>\n<!-- alt_r_G37 -->\n<g id=\"node28\" class=\"node\">\n<title>alt_r_G37</title>\n<text text-anchor=\"middle\" x=\"261\" y=\"-230.3\" font-family=\"Times,serif\" font-size=\"14.00\">alt_r</text>\n</g>\n<!-- PrepareSparse&#45;&gt;alt_r_G37 -->\n<g id=\"edge27\" class=\"edge\">\n<title>PrepareSparse:e-&gt;alt_r_G37:w</title>\n<path fill=\"none\" stroke=\"black\" d=\"M185,-448C217.03,-448 194.69,-335.93 203,-305 211.68,-272.69 199.35,-235.77 230.67,-234.06\"/>\n<ellipse fill=\"black\" stroke=\"black\" cx=\"232\" cy=\"-234.03\" rx=\"1\" ry=\"1\"/>\n<text text-anchor=\"middle\" x=\"203.5\" y=\"-308\" font-family=\"Times,serif\" font-size=\"10.00\">2</text>\n</g>\n<!-- alt_s_G38 -->\n<g id=\"node29\" class=\"node\">\n<title>alt_s_G38</title>\n<text text-anchor=\"middle\" x=\"261\" y=\"-176.3\" font-family=\"Times,serif\" font-size=\"14.00\">alt_s</text>\n</g>\n<!-- PrepareSparse&#45;&gt;alt_s_G38 -->\n<g id=\"edge28\" class=\"edge\">\n<title>PrepareSparse:e-&gt;alt_s_G38:w</title>\n<path fill=\"none\" stroke=\"black\" d=\"M185,-427C199.69,-427 200.46,-310.47 203,-296 209.98,-256.16 210.1,-245.66 222,-207 225.57,-195.39 220.73,-181.82 230.78,-180.17\"/>\n<ellipse fill=\"black\" stroke=\"black\" cx=\"232\" cy=\"-180.08\" rx=\"1\" ry=\"1\"/>\n<text text-anchor=\"middle\" x=\"203.5\" y=\"-299\" font-family=\"Times,serif\" font-size=\"10.00\">2</text>\n</g>\n<!-- alt_theta_G6 -->\n<g id=\"node30\" class=\"node\">\n<title>alt_theta_G6</title>\n<text text-anchor=\"middle\" x=\"261\" y=\"-122.3\" font-family=\"Times,serif\" font-size=\"14.00\">alt_theta</text>\n</g>\n<!-- PrepareSparse&#45;&gt;alt_theta_G6 -->\n<g id=\"edge29\" class=\"edge\">\n<title>PrepareSparse:e-&gt;alt_theta_G6:w</title>\n<path fill=\"none\" stroke=\"black\" d=\"M185,-406C185.89,-406 221.84,-153.87 222,-153 224.09,-141.67 216.73,-127.85 225.93,-126.17\"/>\n<ellipse fill=\"black\" stroke=\"black\" cx=\"227\" cy=\"-126.08\" rx=\"1\" ry=\"1\"/>\n<text text-anchor=\"middle\" x=\"203.5\" y=\"-282\" font-family=\"Times,serif\" font-size=\"10.00\">1</text>\n</g>\n<!-- alt_flag_1b_G29 -->\n<g id=\"node31\" class=\"node\">\n<title>alt_flag_1b_G29</title>\n<text text-anchor=\"middle\" x=\"261\" y=\"-68.3\" font-family=\"Times,serif\" font-size=\"14.00\">alt_flag_1b</text>\n</g>\n<!-- PrepareSparse&#45;&gt;alt_flag_1b_G29 -->\n<g id=\"edge30\" class=\"edge\">\n<title>PrepareSparse:e-&gt;alt_flag_1b_G29:w</title>\n<path fill=\"none\" stroke=\"black\" d=\"M185,-385C201.89,-385 204.33,-93.62 220.21,-73.13\"/>\n<ellipse fill=\"black\" stroke=\"black\" cx=\"221.16\" cy=\"-72.53\" rx=\"1\" ry=\"1\"/>\n<text text-anchor=\"middle\" x=\"203.5\" y=\"-232\" font-family=\"Times,serif\" font-size=\"10.00\">1</text>\n</g>\n<!-- keep_G36 -->\n<g id=\"node32\" class=\"node\">\n<title>keep_G36</title>\n<text text-anchor=\"middle\" x=\"261\" y=\"-14.3\" font-family=\"Times,serif\" font-size=\"14.00\">keep</text>\n</g>\n<!-- PrepareSparse&#45;&gt;keep_G36 -->\n<g id=\"edge31\" class=\"edge\">\n<title>PrepareSparse:e-&gt;keep_G36:w</title>\n<path fill=\"none\" stroke=\"black\" d=\"M185,-364C189.46,-364 220.89,-49.32 222,-45 225.02,-33.23 220.66,-19.8 230.78,-18.17\"/>\n<ellipse fill=\"black\" stroke=\"black\" cx=\"232\" cy=\"-18.07\" rx=\"1\" ry=\"1\"/>\n<text text-anchor=\"middle\" x=\"203.5\" y=\"-219\" font-family=\"Times,serif\" font-size=\"10.00\">4</text>\n</g>\n</g>\n</svg>",
          "text/plain": "<IPython.core.display.SVG object>"
         },
         "metadata": {},
         "output_type": "display_data"
        }
       ],
       "tabbable": null,
       "tooltip": null
      }
     },
     "413b0360a00c4306be8f14611ef93a2a": {
      "model_module": "@jupyter-widgets/base",
      "model_module_version": "2.0.0",
      "model_name": "LayoutModel",
      "state": {
       "_model_module": "@jupyter-widgets/base",
       "_model_module_version": "2.0.0",
       "_model_name": "LayoutModel",
       "_view_count": null,
       "_view_module": "@jupyter-widgets/base",
       "_view_module_version": "2.0.0",
       "_view_name": "LayoutView",
       "align_content": null,
       "align_items": null,
       "align_self": null,
       "border_bottom": null,
       "border_left": null,
       "border_right": null,
       "border_top": null,
       "bottom": null,
       "display": null,
       "flex": null,
       "flex_flow": null,
       "grid_area": null,
       "grid_auto_columns": null,
       "grid_auto_flow": null,
       "grid_auto_rows": null,
       "grid_column": null,
       "grid_gap": null,
       "grid_row": null,
       "grid_template_areas": null,
       "grid_template_columns": null,
       "grid_template_rows": null,
       "height": null,
       "justify_content": null,
       "justify_items": null,
       "left": null,
       "margin": null,
       "max_height": null,
       "max_width": null,
       "min_height": null,
       "min_width": null,
       "object_fit": null,
       "object_position": null,
       "order": null,
       "overflow": null,
       "padding": null,
       "right": null,
       "top": null,
       "visibility": null,
       "width": null
      }
     },
     "537bb85ebebd4f2e8c7d094a6275db7b": {
      "model_module": "@jupyter-widgets/output",
      "model_module_version": "1.0.0",
      "model_name": "OutputModel",
      "state": {
       "_dom_classes": [],
       "_model_module": "@jupyter-widgets/output",
       "_model_module_version": "1.0.0",
       "_model_name": "OutputModel",
       "_view_count": null,
       "_view_module": "@jupyter-widgets/output",
       "_view_module_version": "1.0.0",
       "_view_name": "OutputView",
       "layout": "IPY_MODEL_5fcbaae0a5ab40eeb4c651dfe2351deb",
       "msg_id": "",
       "outputs": [
        {
         "data": {
          "text/markdown": "`sel_sparse`",
          "text/plain": "<IPython.core.display.Markdown object>"
         },
         "metadata": {},
         "output_type": "display_data"
        },
        {
         "data": {
          "image/svg+xml": "<svg xmlns=\"http://www.w3.org/2000/svg\" xmlns:xlink=\"http://www.w3.org/1999/xlink\" width=\"256pt\" height=\"422pt\" viewBox=\"0.00 0.00 256.00 422.00\">\n<g id=\"graph0\" class=\"graph\" transform=\"scale(1 1) rotate(0) translate(4 418)\">\n<title>my_graph</title>\n<polygon fill=\"white\" stroke=\"transparent\" points=\"-4,4 -4,-418 252,-418 252,4 -4,4\"/>\n<!-- p_G12 -->\n<g id=\"node1\" class=\"node\">\n<title>p_G12</title>\n<text text-anchor=\"middle\" x=\"29\" y=\"-392.3\" font-family=\"Times,serif\" font-size=\"14.00\">p</text>\n</g>\n<!-- SelectSparse -->\n<g id=\"node9\" class=\"node\">\n<title>SelectSparse</title>\n<polygon fill=\"none\" stroke=\"black\" points=\"95,-291 95,-308 153,-308 153,-291 95,-291\"/>\n<text text-anchor=\"start\" x=\"98\" y=\"-297\" font-family=\"Times,serif\" font-size=\"10.00\">SelectSparse</text>\n<polygon fill=\"none\" stroke=\"black\" points=\"95,-270 95,-291 153,-291 153,-270 95,-270\"/>\n<text text-anchor=\"start\" x=\"120.5\" y=\"-276.8\" font-family=\"Times,serif\" font-size=\"14.00\">p</text>\n<polygon fill=\"none\" stroke=\"black\" points=\"95,-249 95,-270 153,-270 153,-249 95,-249\"/>\n<text text-anchor=\"start\" x=\"120.5\" y=\"-255.8\" font-family=\"Times,serif\" font-size=\"14.00\">q</text>\n<polygon fill=\"none\" stroke=\"black\" points=\"95,-228 95,-249 153,-249 153,-228 95,-228\"/>\n<text text-anchor=\"start\" x=\"121.5\" y=\"-234.8\" font-family=\"Times,serif\" font-size=\"14.00\">r</text>\n<polygon fill=\"none\" stroke=\"black\" points=\"95,-207 95,-228 153,-228 153,-207 95,-207\"/>\n<text text-anchor=\"start\" x=\"121\" y=\"-213.8\" font-family=\"Times,serif\" font-size=\"14.00\">s</text>\n<polygon fill=\"none\" stroke=\"black\" points=\"95,-186 95,-207 153,-207 153,-186 95,-186\"/>\n<text text-anchor=\"start\" x=\"109\" y=\"-192.8\" font-family=\"Times,serif\" font-size=\"14.00\">alpha</text>\n<polygon fill=\"none\" stroke=\"black\" points=\"95,-165 95,-186 153,-186 153,-165 95,-165\"/>\n<text text-anchor=\"start\" x=\"112.5\" y=\"-171.8\" font-family=\"Times,serif\" font-size=\"14.00\">beta</text>\n<polygon fill=\"none\" stroke=\"black\" points=\"95,-144 95,-165 153,-165 153,-144 95,-144\"/>\n<text text-anchor=\"start\" x=\"103\" y=\"-150.8\" font-family=\"Times,serif\" font-size=\"14.00\">flag_1b</text>\n<polygon fill=\"none\" stroke=\"black\" points=\"95,-123 95,-144 153,-144 153,-123 95,-123\"/>\n<text text-anchor=\"start\" x=\"115\" y=\"-129.8\" font-family=\"Times,serif\" font-size=\"14.00\">sys</text>\n</g>\n<!-- p_G12&#45;&gt;SelectSparse -->\n<g id=\"edge1\" class=\"edge\">\n<title>p_G12:e-&gt;SelectSparse:w</title>\n<path fill=\"none\" stroke=\"black\" d=\"M57,-396C83.18,-396 68.92,-287.2 92.89,-281.25\"/>\n<ellipse fill=\"black\" stroke=\"black\" cx=\"94.01\" cy=\"-281.12\" rx=\"1\" ry=\"1\"/>\n<text text-anchor=\"middle\" x=\"76.5\" y=\"-341\" font-family=\"Times,serif\" font-size=\"10.00\">1</text>\n</g>\n<!-- q_G1 -->\n<g id=\"node2\" class=\"node\">\n<title>q_G1</title>\n<text text-anchor=\"middle\" x=\"29\" y=\"-338.3\" font-family=\"Times,serif\" font-size=\"14.00\">q</text>\n</g>\n<!-- q_G1&#45;&gt;SelectSparse -->\n<g id=\"edge2\" class=\"edge\">\n<title>q_G1:e-&gt;SelectSparse:w</title>\n<path fill=\"none\" stroke=\"black\" d=\"M57,-342C96.38,-342 56.45,-263.17 92.74,-260.09\"/>\n<ellipse fill=\"black\" stroke=\"black\" cx=\"94\" cy=\"-260.04\" rx=\"1\" ry=\"1\"/>\n<text text-anchor=\"middle\" x=\"76.5\" y=\"-320\" font-family=\"Times,serif\" font-size=\"10.00\">1</text>\n</g>\n<!-- r_G0 -->\n<g id=\"node3\" class=\"node\">\n<title>r_G0</title>\n<text text-anchor=\"middle\" x=\"29\" y=\"-284.3\" font-family=\"Times,serif\" font-size=\"14.00\">r</text>\n</g>\n<!-- r_G0&#45;&gt;SelectSparse -->\n<g id=\"edge3\" class=\"edge\">\n<title>r_G0:e-&gt;SelectSparse:w</title>\n<path fill=\"none\" stroke=\"black\" d=\"M57,-288C83.81,-288 68.34,-241.64 92.84,-239.11\"/>\n<ellipse fill=\"black\" stroke=\"black\" cx=\"94\" cy=\"-239.05\" rx=\"1\" ry=\"1\"/>\n<text text-anchor=\"middle\" x=\"76.5\" y=\"-266\" font-family=\"Times,serif\" font-size=\"10.00\">1</text>\n</g>\n<!-- s_G17 -->\n<g id=\"node4\" class=\"node\">\n<title>s_G17</title>\n<text text-anchor=\"middle\" x=\"29\" y=\"-230.3\" font-family=\"Times,serif\" font-size=\"14.00\">s</text>\n</g>\n<!-- s_G17&#45;&gt;SelectSparse -->\n<g id=\"edge4\" class=\"edge\">\n<title>s_G17:e-&gt;SelectSparse:w</title>\n<path fill=\"none\" stroke=\"black\" d=\"M57,-234C74.61,-234 76.54,-219.23 92.93,-218.07\"/>\n<ellipse fill=\"black\" stroke=\"black\" cx=\"94\" cy=\"-218.03\" rx=\"1\" ry=\"1\"/>\n<text text-anchor=\"middle\" x=\"76.5\" y=\"-229\" font-family=\"Times,serif\" font-size=\"10.00\">1</text>\n</g>\n<!-- alpha_G15 -->\n<g id=\"node5\" class=\"node\">\n<title>alpha_G15</title>\n<text text-anchor=\"middle\" x=\"29\" y=\"-176.3\" font-family=\"Times,serif\" font-size=\"14.00\">alpha</text>\n</g>\n<!-- alpha_G15&#45;&gt;SelectSparse -->\n<g id=\"edge5\" class=\"edge\">\n<title>alpha_G15:e-&gt;SelectSparse:w</title>\n<path fill=\"none\" stroke=\"black\" d=\"M57,-180C74.61,-180 76.54,-194.77 92.93,-195.93\"/>\n<ellipse fill=\"black\" stroke=\"black\" cx=\"94\" cy=\"-195.97\" rx=\"1\" ry=\"1\"/>\n<text text-anchor=\"middle\" x=\"76.5\" y=\"-191\" font-family=\"Times,serif\" font-size=\"10.00\">1</text>\n</g>\n<!-- beta_G14 -->\n<g id=\"node6\" class=\"node\">\n<title>beta_G14</title>\n<text text-anchor=\"middle\" x=\"29\" y=\"-122.3\" font-family=\"Times,serif\" font-size=\"14.00\">beta</text>\n</g>\n<!-- beta_G14&#45;&gt;SelectSparse -->\n<g id=\"edge6\" class=\"edge\">\n<title>beta_G14:e-&gt;SelectSparse:w</title>\n<path fill=\"none\" stroke=\"black\" d=\"M57,-126C83.81,-126 68.34,-172.36 92.84,-174.89\"/>\n<ellipse fill=\"black\" stroke=\"black\" cx=\"94\" cy=\"-174.95\" rx=\"1\" ry=\"1\"/>\n<text text-anchor=\"middle\" x=\"76.5\" y=\"-157\" font-family=\"Times,serif\" font-size=\"10.00\">1</text>\n</g>\n<!-- flag_1b_G20 -->\n<g id=\"node7\" class=\"node\">\n<title>flag_1b_G20</title>\n<text text-anchor=\"middle\" x=\"29\" y=\"-68.3\" font-family=\"Times,serif\" font-size=\"14.00\">flag_1b</text>\n</g>\n<!-- flag_1b_G20&#45;&gt;SelectSparse -->\n<g id=\"edge7\" class=\"edge\">\n<title>flag_1b_G20:e-&gt;SelectSparse:w</title>\n<path fill=\"none\" stroke=\"black\" d=\"M58,-72C97.2,-72 56.66,-150.83 92.75,-153.91\"/>\n<ellipse fill=\"black\" stroke=\"black\" cx=\"94\" cy=\"-153.96\" rx=\"1\" ry=\"1\"/>\n<text text-anchor=\"middle\" x=\"76.5\" y=\"-139\" font-family=\"Times,serif\" font-size=\"10.00\">1</text>\n</g>\n<!-- sys_G11 -->\n<g id=\"node8\" class=\"node\">\n<title>sys_G11</title>\n<text text-anchor=\"middle\" x=\"29\" y=\"-14.3\" font-family=\"Times,serif\" font-size=\"14.00\">sys</text>\n</g>\n<!-- sys_G11&#45;&gt;SelectSparse -->\n<g id=\"edge8\" class=\"edge\">\n<title>sys_G11:e-&gt;SelectSparse:w</title>\n<path fill=\"none\" stroke=\"black\" d=\"M57,-18C69.83,-18 80.5,-122.47 93.12,-132.27\"/>\n<ellipse fill=\"black\" stroke=\"black\" cx=\"94.07\" cy=\"-132.64\" rx=\"1\" ry=\"1\"/>\n<text text-anchor=\"middle\" x=\"76.5\" y=\"-82\" font-family=\"Times,serif\" font-size=\"10.00\">4</text>\n</g>\n<!-- p_G4 -->\n<g id=\"node10\" class=\"node\">\n<title>p_G4</title>\n<text text-anchor=\"middle\" x=\"219\" y=\"-392.3\" font-family=\"Times,serif\" font-size=\"14.00\">p</text>\n</g>\n<!-- SelectSparse&#45;&gt;p_G4 -->\n<g id=\"edge9\" class=\"edge\">\n<title>SelectSparse:e-&gt;p_G4:w</title>\n<path fill=\"none\" stroke=\"black\" d=\"M153,-281C179.18,-281 164.92,-389.8 188.89,-395.75\"/>\n<ellipse fill=\"black\" stroke=\"black\" cx=\"190.01\" cy=\"-395.88\" rx=\"1\" ry=\"1\"/>\n<text text-anchor=\"middle\" x=\"171.5\" y=\"-341\" font-family=\"Times,serif\" font-size=\"10.00\">1</text>\n</g>\n<!-- q_G9 -->\n<g id=\"node11\" class=\"node\">\n<title>q_G9</title>\n<text text-anchor=\"middle\" x=\"219\" y=\"-338.3\" font-family=\"Times,serif\" font-size=\"14.00\">q</text>\n</g>\n<!-- SelectSparse&#45;&gt;q_G9 -->\n<g id=\"edge10\" class=\"edge\">\n<title>SelectSparse:e-&gt;q_G9:w</title>\n<path fill=\"none\" stroke=\"black\" d=\"M153,-260C192.38,-260 152.45,-338.83 188.74,-341.91\"/>\n<ellipse fill=\"black\" stroke=\"black\" cx=\"190\" cy=\"-341.96\" rx=\"1\" ry=\"1\"/>\n<text text-anchor=\"middle\" x=\"171.5\" y=\"-320\" font-family=\"Times,serif\" font-size=\"10.00\">1</text>\n</g>\n<!-- r_G16 -->\n<g id=\"node12\" class=\"node\">\n<title>r_G16</title>\n<text text-anchor=\"middle\" x=\"219\" y=\"-284.3\" font-family=\"Times,serif\" font-size=\"14.00\">r</text>\n</g>\n<!-- SelectSparse&#45;&gt;r_G16 -->\n<g id=\"edge11\" class=\"edge\">\n<title>SelectSparse:e-&gt;r_G16:w</title>\n<path fill=\"none\" stroke=\"black\" d=\"M153,-239C179.81,-239 164.34,-285.36 188.84,-287.89\"/>\n<ellipse fill=\"black\" stroke=\"black\" cx=\"190\" cy=\"-287.95\" rx=\"1\" ry=\"1\"/>\n<text text-anchor=\"middle\" x=\"171.5\" y=\"-266\" font-family=\"Times,serif\" font-size=\"10.00\">1</text>\n</g>\n<!-- s_G8 -->\n<g id=\"node13\" class=\"node\">\n<title>s_G8</title>\n<text text-anchor=\"middle\" x=\"219\" y=\"-230.3\" font-family=\"Times,serif\" font-size=\"14.00\">s</text>\n</g>\n<!-- SelectSparse&#45;&gt;s_G8 -->\n<g id=\"edge12\" class=\"edge\">\n<title>SelectSparse:e-&gt;s_G8:w</title>\n<path fill=\"none\" stroke=\"black\" d=\"M153,-218C170.61,-218 172.54,-232.77 188.93,-233.93\"/>\n<ellipse fill=\"black\" stroke=\"black\" cx=\"190\" cy=\"-233.97\" rx=\"1\" ry=\"1\"/>\n<text text-anchor=\"middle\" x=\"171.5\" y=\"-229\" font-family=\"Times,serif\" font-size=\"10.00\">1</text>\n</g>\n<!-- alpha_G7 -->\n<g id=\"node14\" class=\"node\">\n<title>alpha_G7</title>\n<text text-anchor=\"middle\" x=\"219\" y=\"-176.3\" font-family=\"Times,serif\" font-size=\"14.00\">alpha</text>\n</g>\n<!-- SelectSparse&#45;&gt;alpha_G7 -->\n<g id=\"edge13\" class=\"edge\">\n<title>SelectSparse:e-&gt;alpha_G7:w</title>\n<path fill=\"none\" stroke=\"black\" d=\"M153,-196C170.61,-196 172.54,-181.23 188.93,-180.07\"/>\n<ellipse fill=\"black\" stroke=\"black\" cx=\"190\" cy=\"-180.03\" rx=\"1\" ry=\"1\"/>\n<text text-anchor=\"middle\" x=\"171.5\" y=\"-191\" font-family=\"Times,serif\" font-size=\"10.00\">1</text>\n</g>\n<!-- beta_G2 -->\n<g id=\"node15\" class=\"node\">\n<title>beta_G2</title>\n<text text-anchor=\"middle\" x=\"219\" y=\"-122.3\" font-family=\"Times,serif\" font-size=\"14.00\">beta</text>\n</g>\n<!-- SelectSparse&#45;&gt;beta_G2 -->\n<g id=\"edge14\" class=\"edge\">\n<title>SelectSparse:e-&gt;beta_G2:w</title>\n<path fill=\"none\" stroke=\"black\" d=\"M153,-175C179.81,-175 164.34,-128.64 188.84,-126.11\"/>\n<ellipse fill=\"black\" stroke=\"black\" cx=\"190\" cy=\"-126.05\" rx=\"1\" ry=\"1\"/>\n<text text-anchor=\"middle\" x=\"171.5\" y=\"-157\" font-family=\"Times,serif\" font-size=\"10.00\">1</text>\n</g>\n<!-- flag_1b_G6 -->\n<g id=\"node16\" class=\"node\">\n<title>flag_1b_G6</title>\n<text text-anchor=\"middle\" x=\"219\" y=\"-68.3\" font-family=\"Times,serif\" font-size=\"14.00\">flag_1b</text>\n</g>\n<!-- SelectSparse&#45;&gt;flag_1b_G6 -->\n<g id=\"edge15\" class=\"edge\">\n<title>SelectSparse:e-&gt;flag_1b_G6:w</title>\n<path fill=\"none\" stroke=\"black\" d=\"M153,-154C192.2,-154 151.66,-75.17 187.75,-72.09\"/>\n<ellipse fill=\"black\" stroke=\"black\" cx=\"189\" cy=\"-72.04\" rx=\"1\" ry=\"1\"/>\n<text text-anchor=\"middle\" x=\"171.5\" y=\"-139\" font-family=\"Times,serif\" font-size=\"10.00\">1</text>\n</g>\n<!-- sys_G5 -->\n<g id=\"node17\" class=\"node\">\n<title>sys_G5</title>\n<text text-anchor=\"middle\" x=\"219\" y=\"-14.3\" font-family=\"Times,serif\" font-size=\"14.00\">sys</text>\n</g>\n<!-- SelectSparse&#45;&gt;sys_G5 -->\n<g id=\"edge16\" class=\"edge\">\n<title>SelectSparse:e-&gt;sys_G5:w</title>\n<path fill=\"none\" stroke=\"black\" d=\"M153,-133C165.83,-133 176.5,-28.53 189.12,-18.73\"/>\n<ellipse fill=\"black\" stroke=\"black\" cx=\"190.07\" cy=\"-18.36\" rx=\"1\" ry=\"1\"/>\n<text text-anchor=\"middle\" x=\"171.5\" y=\"-82\" font-family=\"Times,serif\" font-size=\"10.00\">4</text>\n</g>\n</g>\n</svg>",
          "text/plain": "<IPython.core.display.SVG object>"
         },
         "metadata": {},
         "output_type": "display_data"
        }
       ],
       "tabbable": null,
       "tooltip": null
      }
     },
     "566a2139ca974917acbfd9e7ad45015c": {
      "model_module": "@jupyter-widgets/base",
      "model_module_version": "2.0.0",
      "model_name": "LayoutModel",
      "state": {
       "_model_module": "@jupyter-widgets/base",
       "_model_module_version": "2.0.0",
       "_model_name": "LayoutModel",
       "_view_count": null,
       "_view_module": "@jupyter-widgets/base",
       "_view_module_version": "2.0.0",
       "_view_name": "LayoutView",
       "align_content": null,
       "align_items": null,
       "align_self": null,
       "border_bottom": null,
       "border_left": null,
       "border_right": null,
       "border_top": null,
       "bottom": null,
       "display": null,
       "flex": null,
       "flex_flow": null,
       "grid_area": null,
       "grid_auto_columns": null,
       "grid_auto_flow": null,
       "grid_auto_rows": null,
       "grid_column": null,
       "grid_gap": null,
       "grid_row": null,
       "grid_template_areas": null,
       "grid_template_columns": null,
       "grid_template_rows": null,
       "height": null,
       "justify_content": null,
       "justify_items": null,
       "left": null,
       "margin": null,
       "max_height": null,
       "max_width": null,
       "min_height": null,
       "min_width": null,
       "object_fit": null,
       "object_position": null,
       "order": null,
       "overflow": null,
       "padding": null,
       "right": null,
       "top": null,
       "visibility": null,
       "width": null
      }
     },
     "5fcbaae0a5ab40eeb4c651dfe2351deb": {
      "model_module": "@jupyter-widgets/base",
      "model_module_version": "2.0.0",
      "model_name": "LayoutModel",
      "state": {
       "_model_module": "@jupyter-widgets/base",
       "_model_module_version": "2.0.0",
       "_model_name": "LayoutModel",
       "_view_count": null,
       "_view_module": "@jupyter-widgets/base",
       "_view_module_version": "2.0.0",
       "_view_name": "LayoutView",
       "align_content": null,
       "align_items": null,
       "align_self": null,
       "border_bottom": null,
       "border_left": null,
       "border_right": null,
       "border_top": null,
       "bottom": null,
       "display": null,
       "flex": null,
       "flex_flow": null,
       "grid_area": null,
       "grid_auto_columns": null,
       "grid_auto_flow": null,
       "grid_auto_rows": null,
       "grid_column": null,
       "grid_gap": null,
       "grid_row": null,
       "grid_template_areas": null,
       "grid_template_columns": null,
       "grid_template_rows": null,
       "height": null,
       "justify_content": null,
       "justify_items": null,
       "left": null,
       "margin": null,
       "max_height": null,
       "max_width": null,
       "min_height": null,
       "min_width": null,
       "object_fit": null,
       "object_position": null,
       "order": null,
       "overflow": null,
       "padding": null,
       "right": null,
       "top": null,
       "visibility": null,
       "width": null
      }
     },
     "6497e6db90c34da89104f09fa5ad655e": {
      "model_module": "@jupyter-widgets/controls",
      "model_module_version": "2.0.0",
      "model_name": "HBoxModel",
      "state": {
       "_dom_classes": [],
       "_model_module": "@jupyter-widgets/controls",
       "_model_module_version": "2.0.0",
       "_model_name": "HBoxModel",
       "_view_count": null,
       "_view_module": "@jupyter-widgets/controls",
       "_view_module_version": "2.0.0",
       "_view_name": "HBoxView",
       "box_style": "",
       "children": [
        "IPY_MODEL_537bb85ebebd4f2e8c7d094a6275db7b"
       ],
       "layout": "IPY_MODEL_413b0360a00c4306be8f14611ef93a2a",
       "tabbable": null,
       "tooltip": null
      }
     },
     "858f07f4bd6f456bb4d9cf5307f1585d": {
      "model_module": "@jupyter-widgets/controls",
      "model_module_version": "2.0.0",
      "model_name": "HBoxModel",
      "state": {
       "_dom_classes": [],
       "_model_module": "@jupyter-widgets/controls",
       "_model_module_version": "2.0.0",
       "_model_name": "HBoxModel",
       "_view_count": null,
       "_view_module": "@jupyter-widgets/controls",
       "_view_module_version": "2.0.0",
       "_view_name": "HBoxView",
       "box_style": "",
       "children": [
        "IPY_MODEL_151d7ebabb2a463b9264d4e93fe97303"
       ],
       "layout": "IPY_MODEL_07a860cbbfa84c4d8001f879471dcac2",
       "tabbable": null,
       "tooltip": null
      }
     }
    },
    "version_major": 2,
    "version_minor": 0
   }
  }
 },
 "nbformat": 4,
 "nbformat_minor": 5
}
