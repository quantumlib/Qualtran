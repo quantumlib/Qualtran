{
 "cells": [
  {
   "cell_type": "markdown",
   "id": "69133d73",
   "metadata": {
    "cq.autogen": "title_cell"
   },
   "source": [
    "# Qubitized Hubbard Model\n",
    "\n",
    "Simulating the Hubbard model Hamiltonian using qubitization.\n",
    "\n",
    "This module follows section V. of Encoding Electronic Spectra in Quantum Circuits with Linear T\n",
    "Complexity. Babbush et al. 2018. [arxiv:1805.03662](https://arxiv.org/abs/1805.03662).\n",
    "\n",
    "The 2D Hubbard model is a special case of the electronic structure Hamiltonian\n",
    "restricted to spins on a planar grid.\n",
    "\n",
    "$$\n",
    "H = -t \\sum_{\\langle p,q \\rangle, \\sigma} a_{p,\\sigma}^\\dagger a_{q,\\sigma}\n",
    "    + \\frac{u}{2} \\sum_{p,\\alpha\\ne\\beta} n_{p, \\alpha} n_{p, \\beta}\n",
    "$$\n",
    "\n",
    "Under the Jordan-Wigner transformation to Pauli operators, this is\n",
    "\n",
    "$$\n",
    "\\def\\Zvec{\\overrightarrow{Z}}\n",
    "\\def\\hop#1{#1_{p,\\sigma} \\Zvec #1_{q,\\sigma}}\n",
    "H = -\\frac{t}{2} \\sum_{\\langle p,q \\rangle, \\sigma} (\\hop{X} + \\hop{Y})\n",
    "  + \\frac{u}{8} \\sum_{p,\\alpha\\ne\\beta} Z_{p,\\alpha}Z_{p,\\beta}\n",
    "  - \\frac{u}{4} \\sum_{p,\\sigma} Z_{p,\\sigma} + \\frac{uN}{4}\\mathbb{1}\n",
    "$$\n",
    "\n",
    "This can be simulated using a qubitization circuit, which consists of PREPARE and SELECT\n",
    "operations. This module contains `SelectHubbard` and `PrepareHubbard`, with particular\n",
    "compilation optimizations for the Hubbard model. For more insight into how Select and Prepare\n",
    "operations can be combined into a quantum walk, please see\n",
    "[Qubitization Walk Operator](./qubitization_walk_operator.ipynb).\n",
    "\n",
    "With these operators, our selection register has indices\n",
    "for $p$, $\\alpha$, $q$, and $\\beta$ as well as two indicator bits $U$ and $V$. There are four cases\n",
    "considered in both the PREPARE and SELECT operations corresponding to the terms in the Hamiltonian:\n",
    "\n",
    " - $U=1$, single-body Z\n",
    " - $V=1$, spin-spin ZZ term\n",
    " - $p<q$, XZX term\n",
    " - $p>q$, YZY term."
   ]
  },
  {
   "cell_type": "code",
   "execution_count": 1,
   "id": "1159189f",
   "metadata": {
    "cq.autogen": "top_imports"
   },
   "outputs": [],
   "source": [
    "from qualtran import Bloq, CompositeBloq, BloqBuilder, Signature, Register\n",
    "from qualtran import QBit, QInt, QUInt, QAny\n",
    "from qualtran.drawing import show_bloq, show_call_graph, show_counts_sigma\n",
    "from typing import *\n",
    "import numpy as np\n",
    "import sympy\n",
    "import cirq"
   ]
  },
  {
   "cell_type": "markdown",
   "id": "b715659d",
   "metadata": {
    "cq.autogen": "SelectHubbard.bloq_doc.md"
   },
   "source": [
    "## `SelectHubbard`\n",
    "The SELECT operation optimized for the 2D Hubbard model.\n",
    "\n",
    "In contrast to SELECT for an arbitrary chemistry Hamiltonian, we:\n",
    " - explicitly consider the two dimensions of indices to permit optimization of the circuits.\n",
    " - dispense with the `theta` index for phases.\n",
    "\n",
    "If neither $U$ nor $V$ is set we apply the kinetic terms of the Hamiltonian:\n",
    "\n",
    "$$\n",
    "-\\hop{X} \\quad p < q \\\\\n",
    "-\\hop{Y} \\quad p > q\n",
    "$$\n",
    "\n",
    "If $U$ is set we know $(p,\\alpha)=(q,\\beta)$ and apply the single-body term: $-Z_{p,\\alpha}$.\n",
    "If $V$ is set we know $p=q, \\alpha=0$, and $\\beta=1$ and apply the spin term:\n",
    "$Z_{p,\\alpha}Z_{p,\\beta}$\n",
    "\n",
    "`SelectHubbard`'s construction uses $10 * N + log(N)$ T-gates.\n",
    "\n",
    "#### Parameters\n",
    " - `x_dim`: the number of sites along the x axis.\n",
    " - `y_dim`: the number of sites along the y axis.\n",
    " - `control_val`: Optional bit specifying the control value for constructing a controlled version of this gate. Defaults to None, which means un-controlled. \n",
    "\n",
    "#### Registers\n",
    " - `control`: A control bit for the entire gate.\n",
    " - `U`: Whether we're applying the single-site part of the potential.\n",
    " - `V`: Whether we're applying the pairwise part of the potential.\n",
    " - `p_x`: First set of site indices, x component.\n",
    " - `p_y`: First set of site indices, y component.\n",
    " - `alpha`: First set of sites' spin indicator.\n",
    " - `q_x`: Second set of site indices, x component.\n",
    " - `q_y`: Second set of site indices, y component.\n",
    " - `beta`: Second set of sites' spin indicator.\n",
    " - `target`: The system register to apply the select operation. \n",
    "\n",
    "#### References\n",
    " - [Encoding Electronic Spectra in Quantum Circuits with Linear T Complexity](https://arxiv.org/abs/1805.03662). Section V. and Fig. 19.\n"
   ]
  },
  {
   "cell_type": "code",
   "execution_count": 2,
   "id": "24845fa2",
   "metadata": {
    "cq.autogen": "SelectHubbard.bloq_doc.py"
   },
   "outputs": [],
   "source": [
    "from qualtran.bloqs.chemistry.hubbard_model.qubitization import SelectHubbard"
   ]
  },
  {
   "cell_type": "markdown",
   "id": "1fc9d9ec",
   "metadata": {
    "cq.autogen": "SelectHubbard.example_instances.md"
   },
   "source": [
    "### Example Instances"
   ]
  },
  {
   "cell_type": "code",
   "execution_count": 3,
   "id": "f8513a4b",
   "metadata": {
    "cq.autogen": "SelectHubbard.sel_hubb"
   },
   "outputs": [],
   "source": [
    "x_dim = 4\n",
    "y_dim = 4\n",
    "sel_hubb = SelectHubbard(x_dim, y_dim)"
   ]
  },
  {
   "cell_type": "markdown",
   "id": "084571f0",
   "metadata": {
    "cq.autogen": "SelectHubbard.graphical_signature.md"
   },
   "source": [
    "#### Graphical Signature"
   ]
  },
  {
   "cell_type": "code",
   "execution_count": 4,
   "id": "564970cd",
   "metadata": {
    "cq.autogen": "SelectHubbard.graphical_signature.py"
   },
   "outputs": [
    {
     "data": {
      "application/vnd.jupyter.widget-view+json": {
       "model_id": "e4bc53d8554748a69e993a8645764378",
       "version_major": 2,
       "version_minor": 0
      },
      "text/plain": [
       "HBox(children=(Output(outputs=({'output_type': 'display_data', 'data': {'text/plain': '<IPython.core.display.M…"
      ]
     },
     "metadata": {},
     "output_type": "display_data"
    }
   ],
   "source": [
    "from qualtran.drawing import show_bloqs\n",
    "show_bloqs([sel_hubb],\n",
    "           ['`sel_hubb`'])"
   ]
  },
  {
   "cell_type": "markdown",
   "id": "541a6b1b",
   "metadata": {
    "cq.autogen": "SelectHubbard.call_graph.md"
   },
   "source": [
    "### Call Graph"
   ]
  },
  {
   "cell_type": "code",
   "execution_count": 5,
   "id": "49bcec57",
   "metadata": {
    "cq.autogen": "SelectHubbard.call_graph.py"
   },
   "outputs": [
    {
     "data": {
      "image/svg+xml": [
       "<svg xmlns=\"http://www.w3.org/2000/svg\" xmlns:xlink=\"http://www.w3.org/1999/xlink\" width=\"898pt\" height=\"131pt\" viewBox=\"0.00 0.00 898.00 131.00\">\n",
       "<g id=\"graph0\" class=\"graph\" transform=\"scale(1 1) rotate(0) translate(4 127)\">\n",
       "<title>counts</title>\n",
       "<polygon fill=\"white\" stroke=\"transparent\" points=\"-4,4 -4,-127 894,-127 894,4 -4,4\"/>\n",
       "<!-- b0 -->\n",
       "<g id=\"node1\" class=\"node\">\n",
       "<title>b0</title>\n",
       "<polygon fill=\"none\" stroke=\"black\" points=\"366,-93 366,-116 460,-116 460,-93 366,-93\"/>\n",
       "<text text-anchor=\"start\" x=\"372\" y=\"-102\" font-family=\"Times,serif\" font-size=\"10.00\">SelectHubbard(4, 4)</text>\n",
       "</g>\n",
       "<!-- b1 -->\n",
       "<g id=\"node2\" class=\"node\">\n",
       "<title>b1</title>\n",
       "<polygon fill=\"none\" stroke=\"black\" points=\"8,-6 8,-29 50,-29 50,-6 8,-6\"/>\n",
       "<text text-anchor=\"start\" x=\"14\" y=\"-15\" font-family=\"Times,serif\" font-size=\"10.00\">CSwap</text>\n",
       "</g>\n",
       "<!-- b0&#45;&gt;b1 -->\n",
       "<g id=\"edge1\" class=\"edge\">\n",
       "<title>b0-&gt;b1</title>\n",
       "<path fill=\"none\" stroke=\"black\" d=\"M357.8,-97.09C290.72,-87.82 174.29,-68.96 67.81,-35.89\"/>\n",
       "<polygon fill=\"black\" stroke=\"black\" points=\"68.79,-32.52 58.2,-32.85 66.68,-39.2 68.79,-32.52\"/>\n",
       "<text text-anchor=\"middle\" x=\"192.5\" y=\"-57.8\" font-family=\"Times,serif\" font-size=\"14.00\">4</text>\n",
       "</g>\n",
       "<!-- b2 -->\n",
       "<g id=\"node3\" class=\"node\">\n",
       "<title>b2</title>\n",
       "<polygon fill=\"none\" stroke=\"black\" points=\"84,-6 84,-29 192,-29 192,-6 84,-6\"/>\n",
       "<text text-anchor=\"start\" x=\"90.5\" y=\"-15\" font-family=\"Times,serif\" font-size=\"10.00\">ApplyGateToLthQubit</text>\n",
       "</g>\n",
       "<!-- b0&#45;&gt;b2 -->\n",
       "<g id=\"edge2\" class=\"edge\">\n",
       "<title>b0-&gt;b2</title>\n",
       "<path fill=\"none\" stroke=\"black\" d=\"M357.68,-86.9C313.02,-73.1 250.09,-53.65 203.02,-39.1\"/>\n",
       "<polygon fill=\"black\" stroke=\"black\" points=\"203.82,-35.68 193.23,-36.07 201.75,-42.37 203.82,-35.68\"/>\n",
       "<text text-anchor=\"middle\" x=\"295.5\" y=\"-57.8\" font-family=\"Times,serif\" font-size=\"14.00\">1</text>\n",
       "</g>\n",
       "<!-- b3 -->\n",
       "<g id=\"node4\" class=\"node\">\n",
       "<title>b3</title>\n",
       "<polygon fill=\"none\" stroke=\"black\" points=\"226,-6 226,-29 360,-29 360,-6 226,-6\"/>\n",
       "<text text-anchor=\"start\" x=\"232.5\" y=\"-15\" font-family=\"Times,serif\" font-size=\"10.00\">SelectedMajoranaFermion(Y)</text>\n",
       "</g>\n",
       "<!-- b0&#45;&gt;b3 -->\n",
       "<g id=\"edge3\" class=\"edge\">\n",
       "<title>b0-&gt;b3</title>\n",
       "<path fill=\"none\" stroke=\"black\" d=\"M388.72,-86.8C370.5,-73.9 345.38,-56.1 325.44,-41.98\"/>\n",
       "<polygon fill=\"black\" stroke=\"black\" points=\"327.43,-39.1 317.25,-36.18 323.38,-44.81 327.43,-39.1\"/>\n",
       "<text text-anchor=\"middle\" x=\"364.5\" y=\"-57.8\" font-family=\"Times,serif\" font-size=\"14.00\">1</text>\n",
       "</g>\n",
       "<!-- b4 -->\n",
       "<g id=\"node5\" class=\"node\">\n",
       "<title>b4</title>\n",
       "<polygon fill=\"none\" stroke=\"black\" points=\"394,-6 394,-29 432,-29 432,-6 394,-6\"/>\n",
       "<text text-anchor=\"start\" x=\"400\" y=\"-15\" font-family=\"Times,serif\" font-size=\"10.00\">ZGate</text>\n",
       "</g>\n",
       "<!-- b0&#45;&gt;b4 -->\n",
       "<g id=\"edge4\" class=\"edge\">\n",
       "<title>b0-&gt;b4</title>\n",
       "<path fill=\"none\" stroke=\"black\" d=\"M413,-86.8C413,-75.16 413,-59.55 413,-46.24\"/>\n",
       "<polygon fill=\"black\" stroke=\"black\" points=\"416.5,-46.18 413,-36.18 409.5,-46.18 416.5,-46.18\"/>\n",
       "<text text-anchor=\"middle\" x=\"416.5\" y=\"-57.8\" font-family=\"Times,serif\" font-size=\"14.00\">1</text>\n",
       "</g>\n",
       "<!-- b5 -->\n",
       "<g id=\"node6\" class=\"node\">\n",
       "<title>b5</title>\n",
       "<polygon fill=\"none\" stroke=\"black\" points=\"466,-6 466,-29 508,-29 508,-6 466,-6\"/>\n",
       "<text text-anchor=\"start\" x=\"472\" y=\"-15\" font-family=\"Times,serif\" font-size=\"10.00\">CSwap</text>\n",
       "</g>\n",
       "<!-- b0&#45;&gt;b5 -->\n",
       "<g id=\"edge5\" class=\"edge\">\n",
       "<title>b0-&gt;b5</title>\n",
       "<path fill=\"none\" stroke=\"black\" d=\"M427.98,-86.8C438.71,-74.47 453.33,-57.68 465.33,-43.89\"/>\n",
       "<polygon fill=\"black\" stroke=\"black\" points=\"468.12,-46.02 472.05,-36.18 462.84,-41.42 468.12,-46.02\"/>\n",
       "<text text-anchor=\"middle\" x=\"458.5\" y=\"-57.8\" font-family=\"Times,serif\" font-size=\"14.00\">2</text>\n",
       "</g>\n",
       "<!-- b6 -->\n",
       "<g id=\"node7\" class=\"node\">\n",
       "<title>b6</title>\n",
       "<polygon fill=\"none\" stroke=\"black\" points=\"542,-6 542,-29 714,-29 714,-6 542,-6\"/>\n",
       "<text text-anchor=\"start\" x=\"548.5\" y=\"-15\" font-family=\"Times,serif\" font-size=\"10.00\">GPhase((6.123233995736766e-17-1j))</text>\n",
       "</g>\n",
       "<!-- b0&#45;&gt;b6 -->\n",
       "<g id=\"edge6\" class=\"edge\">\n",
       "<title>b0-&gt;b6</title>\n",
       "<path fill=\"none\" stroke=\"black\" d=\"M456.25,-86.9C490.58,-73.33 538.72,-54.29 575.31,-39.83\"/>\n",
       "<polygon fill=\"black\" stroke=\"black\" points=\"576.81,-43 584.82,-36.07 574.23,-36.49 576.81,-43\"/>\n",
       "<text text-anchor=\"middle\" x=\"537.5\" y=\"-57.8\" font-family=\"Times,serif\" font-size=\"14.00\">1</text>\n",
       "</g>\n",
       "<!-- b7 -->\n",
       "<g id=\"node8\" class=\"node\">\n",
       "<title>b7</title>\n",
       "<polygon fill=\"none\" stroke=\"black\" points=\"748,-6 748,-29 882,-29 882,-6 748,-6\"/>\n",
       "<text text-anchor=\"start\" x=\"754.5\" y=\"-15\" font-family=\"Times,serif\" font-size=\"10.00\">SelectedMajoranaFermion(X)</text>\n",
       "</g>\n",
       "<!-- b0&#45;&gt;b7 -->\n",
       "<g id=\"edge7\" class=\"edge\">\n",
       "<title>b0-&gt;b7</title>\n",
       "<path fill=\"none\" stroke=\"black\" d=\"M468.05,-92.36C535.59,-78.08 650.82,-53.72 729.82,-37.01\"/>\n",
       "<polygon fill=\"black\" stroke=\"black\" points=\"730.69,-40.4 739.75,-34.91 729.24,-33.56 730.69,-40.4\"/>\n",
       "<text text-anchor=\"middle\" x=\"641.5\" y=\"-57.8\" font-family=\"Times,serif\" font-size=\"14.00\">1</text>\n",
       "</g>\n",
       "</g>\n",
       "</svg>"
      ],
      "text/plain": [
       "<IPython.core.display.SVG object>"
      ]
     },
     "metadata": {},
     "output_type": "display_data"
    },
    {
     "data": {
      "text/markdown": [
       "#### Counts totals:\n",
       " - `ApplyGateToLthQubit`: 1\n",
       " - `CSwap`: 2\n",
       " - `CSwap`: 4\n",
       " - `GPhase((6.123233995736766e-17-1j))`: 1\n",
       " - `SelectedMajoranaFermion(X)`: 1\n",
       " - `SelectedMajoranaFermion(Y)`: 1\n",
       " - `ZGate`: 1"
      ],
      "text/plain": [
       "<IPython.core.display.Markdown object>"
      ]
     },
     "metadata": {},
     "output_type": "display_data"
    }
   ],
   "source": [
    "from qualtran.resource_counting.generalizers import ignore_split_join\n",
    "sel_hubb_g, sel_hubb_sigma = sel_hubb.call_graph(max_depth=1, generalizer=ignore_split_join)\n",
    "show_call_graph(sel_hubb_g)\n",
    "show_counts_sigma(sel_hubb_sigma)"
   ]
  },
  {
   "cell_type": "markdown",
   "id": "61d5efd1",
   "metadata": {
    "cq.autogen": "PrepareHubbard.bloq_doc.md"
   },
   "source": [
    "## `PrepareHubbard`\n",
    "The PREPARE operation optimized for the 2D Hubbard model.\n",
    "\n",
    "In contrast to PREPARE for an arbitrary chemistry Hamiltonian, we:\n",
    " - explicitly consider the two dimensions of indices to permit optimization of the circuits.\n",
    " - dispense with the `theta` index for phases.\n",
    "\n",
    "`PrepareHubbard` uses $O(\\log(N))$ T gates and $O(1)$ single-qubit rotations.\n",
    "\n",
    "#### Parameters\n",
    " - `x_dim`: the number of sites along the x axis.\n",
    " - `y_dim`: the number of sites along the y axis.\n",
    " - `t`: coefficient for hopping terms in the Hubbard model hamiltonian.\n",
    " - `u`: coefficient for single body Z term and two-body ZZ terms in the Hubbard model hamiltonian. \n",
    "\n",
    "#### Registers\n",
    " - `control`: A control bit for the entire gate.\n",
    " - `U`: Whether we're applying the single-site part of the potential.\n",
    " - `V`: Whether we're applying the pairwise part of the potential.\n",
    " - `p_x`: First set of site indices, x component.\n",
    " - `p_y`: First set of site indices, y component.\n",
    " - `alpha`: First set of sites' spin indicator.\n",
    " - `q_x`: Second set of site indices, x component.\n",
    " - `q_y`: Second set of site indices, y component.\n",
    " - `beta`: Second set of sites' spin indicator.\n",
    " - `target`: The system register to apply the select operation.\n",
    " - `junk`: Temporary Work space. \n",
    "\n",
    "#### References\n",
    " - [Encoding Electronic Spectra in Quantum Circuits with Linear T Complexity](https://arxiv.org/abs/1805.03662). Section V. and Fig. 20.\n"
   ]
  },
  {
   "cell_type": "code",
   "execution_count": 6,
   "id": "df46d758",
   "metadata": {
    "cq.autogen": "PrepareHubbard.bloq_doc.py"
   },
   "outputs": [],
   "source": [
    "from qualtran.bloqs.chemistry.hubbard_model.qubitization import PrepareHubbard"
   ]
  },
  {
   "cell_type": "markdown",
   "id": "480bd24c",
   "metadata": {
    "cq.autogen": "PrepareHubbard.example_instances.md"
   },
   "source": [
    "### Example Instances"
   ]
  },
  {
   "cell_type": "code",
   "execution_count": 7,
   "id": "48bb8a87",
   "metadata": {
    "cq.autogen": "PrepareHubbard.prep_hubb"
   },
   "outputs": [],
   "source": [
    "x_dim = 4\n",
    "y_dim = 4\n",
    "t = 1.0\n",
    "u = 4.0 / t\n",
    "prep_hubb = PrepareHubbard(x_dim, y_dim, t=t, u=u)"
   ]
  },
  {
   "cell_type": "markdown",
   "id": "32fcb935",
   "metadata": {
    "cq.autogen": "PrepareHubbard.graphical_signature.md"
   },
   "source": [
    "#### Graphical Signature"
   ]
  },
  {
   "cell_type": "code",
   "execution_count": 8,
   "id": "305f3934",
   "metadata": {
    "cq.autogen": "PrepareHubbard.graphical_signature.py"
   },
   "outputs": [
    {
     "data": {
      "application/vnd.jupyter.widget-view+json": {
       "model_id": "ceed341e4ab146ab8ae45b4970d34b56",
       "version_major": 2,
       "version_minor": 0
      },
      "text/plain": [
       "HBox(children=(Output(outputs=({'output_type': 'display_data', 'data': {'text/plain': '<IPython.core.display.M…"
      ]
     },
     "metadata": {},
     "output_type": "display_data"
    }
   ],
   "source": [
    "from qualtran.drawing import show_bloqs\n",
    "show_bloqs([prep_hubb],\n",
    "           ['`prep_hubb`'])"
   ]
  },
  {
   "cell_type": "markdown",
   "id": "8325e95d",
   "metadata": {
    "cq.autogen": "PrepareHubbard.call_graph.md"
   },
   "source": [
    "### Call Graph"
   ]
  },
  {
   "cell_type": "code",
   "execution_count": 9,
   "id": "89bb04df",
   "metadata": {
    "cq.autogen": "PrepareHubbard.call_graph.py"
   },
   "outputs": [
    {
     "data": {
      "image/svg+xml": [
       "<svg xmlns=\"http://www.w3.org/2000/svg\" xmlns:xlink=\"http://www.w3.org/1999/xlink\" width=\"1262pt\" height=\"131pt\" viewBox=\"0.00 0.00 1262.00 131.00\">\n",
       "<g id=\"graph0\" class=\"graph\" transform=\"scale(1 1) rotate(0) translate(4 127)\">\n",
       "<title>counts</title>\n",
       "<polygon fill=\"white\" stroke=\"transparent\" points=\"-4,4 -4,-127 1258,-127 1258,4 -4,4\"/>\n",
       "<!-- b0 -->\n",
       "<g id=\"node1\" class=\"node\">\n",
       "<title>b0</title>\n",
       "<polygon fill=\"none\" stroke=\"black\" points=\"596,-93 596,-116 676,-116 676,-93 596,-93\"/>\n",
       "<text text-anchor=\"start\" x=\"602.5\" y=\"-102\" font-family=\"Times,serif\" font-size=\"10.00\">PrepareHubbard</text>\n",
       "</g>\n",
       "<!-- b1 -->\n",
       "<g id=\"node2\" class=\"node\">\n",
       "<title>b1</title>\n",
       "<polygon fill=\"none\" stroke=\"black\" points=\"8,-6 8,-29 138,-29 138,-6 8,-6\"/>\n",
       "<text text-anchor=\"start\" x=\"14.5\" y=\"-15\" font-family=\"Times,serif\" font-size=\"10.00\">C[Ry(2.214297435588181)]</text>\n",
       "</g>\n",
       "<!-- b0&#45;&gt;b1 -->\n",
       "<g id=\"edge1\" class=\"edge\">\n",
       "<title>b0-&gt;b1</title>\n",
       "<path fill=\"none\" stroke=\"black\" d=\"M587.84,-101.64C518.03,-97.71 384.84,-88.26 273,-69 228.8,-61.39 179.96,-49.25 141.6,-38.84\"/>\n",
       "<polygon fill=\"black\" stroke=\"black\" points=\"142.15,-35.36 131.58,-36.09 140.3,-42.11 142.15,-35.36\"/>\n",
       "<text text-anchor=\"middle\" x=\"276.5\" y=\"-57.8\" font-family=\"Times,serif\" font-size=\"14.00\">1</text>\n",
       "</g>\n",
       "<!-- b2 -->\n",
       "<g id=\"node3\" class=\"node\">\n",
       "<title>b2</title>\n",
       "<polygon fill=\"none\" stroke=\"black\" points=\"172,-6 172,-29 212,-29 212,-6 172,-6\"/>\n",
       "<text text-anchor=\"start\" x=\"178\" y=\"-15\" font-family=\"Times,serif\" font-size=\"10.00\">CNOT</text>\n",
       "</g>\n",
       "<!-- b0&#45;&gt;b2 -->\n",
       "<g id=\"edge2\" class=\"edge\">\n",
       "<title>b0-&gt;b2</title>\n",
       "<path fill=\"none\" stroke=\"black\" d=\"M587.87,-100.07C531.3,-94.99 434.77,-84.86 353,-69 299.97,-58.71 284.29,-55.63 229.59,-35.95\"/>\n",
       "<polygon fill=\"black\" stroke=\"black\" points=\"230.67,-32.61 220.08,-32.5 228.29,-39.2 230.67,-32.61\"/>\n",
       "<text text-anchor=\"middle\" x=\"356.5\" y=\"-57.8\" font-family=\"Times,serif\" font-size=\"14.00\">7</text>\n",
       "</g>\n",
       "<!-- b3 -->\n",
       "<g id=\"node4\" class=\"node\">\n",
       "<title>b3</title>\n",
       "<polygon fill=\"none\" stroke=\"black\" points=\"255,-6 255,-29 275,-29 275,-6 255,-6\"/>\n",
       "<text text-anchor=\"start\" x=\"261\" y=\"-15\" font-family=\"Times,serif\" font-size=\"10.00\">H</text>\n",
       "</g>\n",
       "<!-- b0&#45;&gt;b3 -->\n",
       "<g id=\"edge3\" class=\"edge\">\n",
       "<title>b0-&gt;b3</title>\n",
       "<path fill=\"none\" stroke=\"black\" d=\"M587.89,-97.98C523.89,-89.16 407.45,-70.27 301.78,-35.85\"/>\n",
       "<polygon fill=\"black\" stroke=\"black\" points=\"302.83,-32.51 292.24,-32.69 300.63,-39.15 302.83,-32.51\"/>\n",
       "<text text-anchor=\"middle\" x=\"422.5\" y=\"-57.8\" font-family=\"Times,serif\" font-size=\"14.00\">2</text>\n",
       "</g>\n",
       "<!-- b4 -->\n",
       "<g id=\"node5\" class=\"node\">\n",
       "<title>b4</title>\n",
       "<polygon fill=\"none\" stroke=\"black\" points=\"318,-6 318,-29 394,-29 394,-6 318,-6\"/>\n",
       "<text text-anchor=\"start\" x=\"324\" y=\"-15\" font-family=\"Times,serif\" font-size=\"10.00\">MultiAnd(n=3)</text>\n",
       "</g>\n",
       "<!-- b0&#45;&gt;b4 -->\n",
       "<g id=\"edge4\" class=\"edge\">\n",
       "<title>b0-&gt;b4</title>\n",
       "<path fill=\"none\" stroke=\"black\" d=\"M587.69,-89.5C544.25,-76.43 478.41,-56.58 412.01,-36.3\"/>\n",
       "<polygon fill=\"black\" stroke=\"black\" points=\"412.79,-32.88 402.21,-33.31 410.75,-39.57 412.79,-32.88\"/>\n",
       "<text text-anchor=\"middle\" x=\"519.5\" y=\"-57.8\" font-family=\"Times,serif\" font-size=\"14.00\">1</text>\n",
       "</g>\n",
       "<!-- b5 -->\n",
       "<g id=\"node6\" class=\"node\">\n",
       "<title>b5</title>\n",
       "<polygon fill=\"none\" stroke=\"black\" points=\"428,-6 428,-29 470,-29 470,-6 428,-6\"/>\n",
       "<text text-anchor=\"start\" x=\"434\" y=\"-15\" font-family=\"Times,serif\" font-size=\"10.00\">CSwap</text>\n",
       "</g>\n",
       "<!-- b0&#45;&gt;b5 -->\n",
       "<g id=\"edge5\" class=\"edge\">\n",
       "<title>b0-&gt;b5</title>\n",
       "<path fill=\"none\" stroke=\"black\" d=\"M598.16,-86.8C565.91,-72.14 519.77,-51.17 487.37,-36.44\"/>\n",
       "<polygon fill=\"black\" stroke=\"black\" points=\"488.76,-33.23 478.21,-32.28 485.86,-39.6 488.76,-33.23\"/>\n",
       "<text text-anchor=\"middle\" x=\"557.5\" y=\"-57.8\" font-family=\"Times,serif\" font-size=\"14.00\">2</text>\n",
       "</g>\n",
       "<!-- b6 -->\n",
       "<g id=\"node7\" class=\"node\">\n",
       "<title>b6</title>\n",
       "<polygon fill=\"none\" stroke=\"black\" points=\"504,-6 504,-29 638,-29 638,-6 504,-6\"/>\n",
       "<text text-anchor=\"start\" x=\"510\" y=\"-15\" font-family=\"Times,serif\" font-size=\"10.00\">PrepareUniformSuperposition</text>\n",
       "</g>\n",
       "<!-- b0&#45;&gt;b6 -->\n",
       "<g id=\"edge6\" class=\"edge\">\n",
       "<title>b0-&gt;b6</title>\n",
       "<path fill=\"none\" stroke=\"black\" d=\"M622.85,-86.8C613.51,-74.59 600.82,-57.99 590.33,-44.28\"/>\n",
       "<polygon fill=\"black\" stroke=\"black\" points=\"592.99,-41.99 584.13,-36.18 587.43,-46.25 592.99,-41.99\"/>\n",
       "<text text-anchor=\"middle\" x=\"611.5\" y=\"-57.8\" font-family=\"Times,serif\" font-size=\"14.00\">2</text>\n",
       "</g>\n",
       "<!-- b7 -->\n",
       "<g id=\"node8\" class=\"node\">\n",
       "<title>b7</title>\n",
       "<polygon fill=\"none\" stroke=\"black\" points=\"672,-6 672,-29 730,-29 730,-6 672,-6\"/>\n",
       "<text text-anchor=\"start\" x=\"678\" y=\"-15\" font-family=\"Times,serif\" font-size=\"10.00\">ModAddK</text>\n",
       "</g>\n",
       "<!-- b0&#45;&gt;b7 -->\n",
       "<g id=\"edge7\" class=\"edge\">\n",
       "<title>b0-&gt;b7</title>\n",
       "<path fill=\"none\" stroke=\"black\" d=\"M649.15,-86.8C658.49,-74.59 671.18,-57.99 681.67,-44.28\"/>\n",
       "<polygon fill=\"black\" stroke=\"black\" points=\"684.57,-46.25 687.87,-36.18 679.01,-41.99 684.57,-46.25\"/>\n",
       "<text text-anchor=\"middle\" x=\"676.5\" y=\"-57.8\" font-family=\"Times,serif\" font-size=\"14.00\">1</text>\n",
       "</g>\n",
       "<!-- b8 -->\n",
       "<g id=\"node9\" class=\"node\">\n",
       "<title>b8</title>\n",
       "<polygon fill=\"none\" stroke=\"black\" points=\"764,-6 764,-29 806,-29 806,-6 764,-6\"/>\n",
       "<text text-anchor=\"start\" x=\"770\" y=\"-15\" font-family=\"Times,serif\" font-size=\"10.00\">CSwap</text>\n",
       "</g>\n",
       "<!-- b0&#45;&gt;b8 -->\n",
       "<g id=\"edge8\" class=\"edge\">\n",
       "<title>b0-&gt;b8</title>\n",
       "<path fill=\"none\" stroke=\"black\" d=\"M666.15,-86.8C689.48,-73.49 721.92,-54.98 747.02,-40.66\"/>\n",
       "<polygon fill=\"black\" stroke=\"black\" points=\"748.95,-43.59 755.91,-35.6 745.49,-37.51 748.95,-43.59\"/>\n",
       "<text text-anchor=\"middle\" x=\"723.5\" y=\"-57.8\" font-family=\"Times,serif\" font-size=\"14.00\">1</text>\n",
       "</g>\n",
       "<!-- b9 -->\n",
       "<g id=\"node10\" class=\"node\">\n",
       "<title>b9</title>\n",
       "<polygon fill=\"none\" stroke=\"black\" points=\"840,-6 840,-29 922,-29 922,-6 840,-6\"/>\n",
       "<text text-anchor=\"start\" x=\"846\" y=\"-15\" font-family=\"Times,serif\" font-size=\"10.00\">MultiAnd(n=3)†</text>\n",
       "</g>\n",
       "<!-- b0&#45;&gt;b9 -->\n",
       "<g id=\"edge9\" class=\"edge\">\n",
       "<title>b0-&gt;b9</title>\n",
       "<path fill=\"none\" stroke=\"black\" d=\"M684.11,-87.31C723.67,-73.58 779.89,-54.08 822.14,-39.42\"/>\n",
       "<polygon fill=\"black\" stroke=\"black\" points=\"823.44,-42.67 831.74,-36.09 821.14,-36.06 823.44,-42.67\"/>\n",
       "<text text-anchor=\"middle\" x=\"777.5\" y=\"-57.8\" font-family=\"Times,serif\" font-size=\"14.00\">1</text>\n",
       "</g>\n",
       "<!-- b10 -->\n",
       "<g id=\"node11\" class=\"node\">\n",
       "<title>b10</title>\n",
       "<polygon fill=\"none\" stroke=\"black\" points=\"965,-6 965,-29 985,-29 985,-6 965,-6\"/>\n",
       "<text text-anchor=\"start\" x=\"971\" y=\"-15\" font-family=\"Times,serif\" font-size=\"10.00\">X</text>\n",
       "</g>\n",
       "<!-- b0&#45;&gt;b10 -->\n",
       "<g id=\"edge10\" class=\"edge\">\n",
       "<title>b0-&gt;b10</title>\n",
       "<path fill=\"none\" stroke=\"black\" d=\"M684.13,-96.57C742.66,-86.81 844.27,-67.47 938.1,-35.93\"/>\n",
       "<polygon fill=\"black\" stroke=\"black\" points=\"939.41,-39.18 947.74,-32.63 937.15,-32.55 939.41,-39.18\"/>\n",
       "<text text-anchor=\"middle\" x=\"878.5\" y=\"-57.8\" font-family=\"Times,serif\" font-size=\"14.00\">3</text>\n",
       "</g>\n",
       "<!-- b11 -->\n",
       "<g id=\"node12\" class=\"node\">\n",
       "<title>b11</title>\n",
       "<polygon fill=\"none\" stroke=\"black\" points=\"1028,-6 1028,-29 1150,-29 1150,-6 1028,-6\"/>\n",
       "<text text-anchor=\"start\" x=\"1034.5\" y=\"-15\" font-family=\"Times,serif\" font-size=\"10.00\">Ry(2.0943951023931957)</text>\n",
       "</g>\n",
       "<!-- b0&#45;&gt;b11 -->\n",
       "<g id=\"edge11\" class=\"edge\">\n",
       "<title>b0-&gt;b11</title>\n",
       "<path fill=\"none\" stroke=\"black\" d=\"M684.17,-98.74C734.69,-92.88 816.28,-82.43 886,-69 929.68,-60.59 978.06,-48.77 1016.63,-38.74\"/>\n",
       "<polygon fill=\"black\" stroke=\"black\" points=\"1017.94,-42.01 1026.72,-36.09 1016.16,-35.24 1017.94,-42.01\"/>\n",
       "<text text-anchor=\"middle\" x=\"956.5\" y=\"-57.8\" font-family=\"Times,serif\" font-size=\"14.00\">1</text>\n",
       "</g>\n",
       "<!-- b12 -->\n",
       "<g id=\"node13\" class=\"node\">\n",
       "<title>b12</title>\n",
       "<polygon fill=\"none\" stroke=\"black\" points=\"1184,-6 1184,-29 1246,-29 1246,-6 1184,-6\"/>\n",
       "<text text-anchor=\"start\" x=\"1190.5\" y=\"-15\" font-family=\"Times,serif\" font-size=\"10.00\">CHadamard</text>\n",
       "</g>\n",
       "<!-- b0&#45;&gt;b12 -->\n",
       "<g id=\"edge12\" class=\"edge\">\n",
       "<title>b0-&gt;b12</title>\n",
       "<path fill=\"none\" stroke=\"black\" d=\"M684.34,-101.8C776.86,-96.73 985.08,-81.2 1165.93,-36.02\"/>\n",
       "<polygon fill=\"black\" stroke=\"black\" points=\"1167.05,-39.35 1175.88,-33.5 1165.33,-32.56 1167.05,-39.35\"/>\n",
       "<text text-anchor=\"middle\" x=\"1084.5\" y=\"-57.8\" font-family=\"Times,serif\" font-size=\"14.00\">1</text>\n",
       "</g>\n",
       "</g>\n",
       "</svg>"
      ],
      "text/plain": [
       "<IPython.core.display.SVG object>"
      ]
     },
     "metadata": {},
     "output_type": "display_data"
    },
    {
     "data": {
      "text/markdown": [
       "#### Counts totals:\n",
       " - `CHadamard`: 1\n",
       " - `CNOT`: 7\n",
       " - `CSwap`: 1\n",
       " - `CSwap`: 2\n",
       " - `C[Ry(2.214297435588181)]`: 1\n",
       " - `H`: 2\n",
       " - `ModAddK`: 1\n",
       " - `MultiAnd(n=3)`: 1\n",
       " - `MultiAnd(n=3)†`: 1\n",
       " - `PrepareUniformSuperposition`: 2\n",
       " - `Ry(2.0943951023931957)`: 1\n",
       " - `X`: 3"
      ],
      "text/plain": [
       "<IPython.core.display.Markdown object>"
      ]
     },
     "metadata": {},
     "output_type": "display_data"
    }
   ],
   "source": [
    "from qualtran.resource_counting.generalizers import ignore_split_join\n",
    "prep_hubb_g, prep_hubb_sigma = prep_hubb.call_graph(max_depth=1, generalizer=ignore_split_join)\n",
    "show_call_graph(prep_hubb_g)\n",
    "show_counts_sigma(prep_hubb_sigma)"
   ]
  }
 ],
 "metadata": {
  "kernelspec": {
   "display_name": "Python 3",
   "language": "python",
   "name": "python3"
  },
  "language_info": {
   "codemirror_mode": {
    "name": "ipython",
    "version": 3
   },
   "file_extension": ".py",
   "mimetype": "text/x-python",
   "name": "python",
   "nbconvert_exporter": "python",
   "pygments_lexer": "ipython3",
   "version": "3.11.8"
  },
  "widgets": {
   "application/vnd.jupyter.widget-state+json": {
    "state": {
     "034e8556e9f34aa69c0d49209719177b": {
      "model_module": "@jupyter-widgets/base",
      "model_module_version": "2.0.0",
      "model_name": "LayoutModel",
      "state": {
       "_model_module": "@jupyter-widgets/base",
       "_model_module_version": "2.0.0",
       "_model_name": "LayoutModel",
       "_view_count": null,
       "_view_module": "@jupyter-widgets/base",
       "_view_module_version": "2.0.0",
       "_view_name": "LayoutView",
       "align_content": null,
       "align_items": null,
       "align_self": null,
       "border_bottom": null,
       "border_left": null,
       "border_right": null,
       "border_top": null,
       "bottom": null,
       "display": null,
       "flex": null,
       "flex_flow": null,
       "grid_area": null,
       "grid_auto_columns": null,
       "grid_auto_flow": null,
       "grid_auto_rows": null,
       "grid_column": null,
       "grid_gap": null,
       "grid_row": null,
       "grid_template_areas": null,
       "grid_template_columns": null,
       "grid_template_rows": null,
       "height": null,
       "justify_content": null,
       "justify_items": null,
       "left": null,
       "margin": null,
       "max_height": null,
       "max_width": null,
       "min_height": null,
       "min_width": null,
       "object_fit": null,
       "object_position": null,
       "order": null,
       "overflow": null,
       "padding": null,
       "right": null,
       "top": null,
       "visibility": null,
       "width": null
      }
     },
     "2ef481a9fa5142139f9b76b4ea07c382": {
      "model_module": "@jupyter-widgets/base",
      "model_module_version": "2.0.0",
      "model_name": "LayoutModel",
      "state": {
       "_model_module": "@jupyter-widgets/base",
       "_model_module_version": "2.0.0",
       "_model_name": "LayoutModel",
       "_view_count": null,
       "_view_module": "@jupyter-widgets/base",
       "_view_module_version": "2.0.0",
       "_view_name": "LayoutView",
       "align_content": null,
       "align_items": null,
       "align_self": null,
       "border_bottom": null,
       "border_left": null,
       "border_right": null,
       "border_top": null,
       "bottom": null,
       "display": null,
       "flex": null,
       "flex_flow": null,
       "grid_area": null,
       "grid_auto_columns": null,
       "grid_auto_flow": null,
       "grid_auto_rows": null,
       "grid_column": null,
       "grid_gap": null,
       "grid_row": null,
       "grid_template_areas": null,
       "grid_template_columns": null,
       "grid_template_rows": null,
       "height": null,
       "justify_content": null,
       "justify_items": null,
       "left": null,
       "margin": null,
       "max_height": null,
       "max_width": null,
       "min_height": null,
       "min_width": null,
       "object_fit": null,
       "object_position": null,
       "order": null,
       "overflow": null,
       "padding": null,
       "right": null,
       "top": null,
       "visibility": null,
       "width": null
      }
     },
     "3c509cb6b7fd4d1ebcf8b3e6f55a2f49": {
      "model_module": "@jupyter-widgets/base",
      "model_module_version": "2.0.0",
      "model_name": "LayoutModel",
      "state": {
       "_model_module": "@jupyter-widgets/base",
       "_model_module_version": "2.0.0",
       "_model_name": "LayoutModel",
       "_view_count": null,
       "_view_module": "@jupyter-widgets/base",
       "_view_module_version": "2.0.0",
       "_view_name": "LayoutView",
       "align_content": null,
       "align_items": null,
       "align_self": null,
       "border_bottom": null,
       "border_left": null,
       "border_right": null,
       "border_top": null,
       "bottom": null,
       "display": null,
       "flex": null,
       "flex_flow": null,
       "grid_area": null,
       "grid_auto_columns": null,
       "grid_auto_flow": null,
       "grid_auto_rows": null,
       "grid_column": null,
       "grid_gap": null,
       "grid_row": null,
       "grid_template_areas": null,
       "grid_template_columns": null,
       "grid_template_rows": null,
       "height": null,
       "justify_content": null,
       "justify_items": null,
       "left": null,
       "margin": null,
       "max_height": null,
       "max_width": null,
       "min_height": null,
       "min_width": null,
       "object_fit": null,
       "object_position": null,
       "order": null,
       "overflow": null,
       "padding": null,
       "right": null,
       "top": null,
       "visibility": null,
       "width": null
      }
     },
     "985aca1907e44394983a69ec67e7bc80": {
      "model_module": "@jupyter-widgets/output",
      "model_module_version": "1.0.0",
      "model_name": "OutputModel",
      "state": {
       "_dom_classes": [],
       "_model_module": "@jupyter-widgets/output",
       "_model_module_version": "1.0.0",
       "_model_name": "OutputModel",
       "_view_count": null,
       "_view_module": "@jupyter-widgets/output",
       "_view_module_version": "1.0.0",
       "_view_name": "OutputView",
       "layout": "IPY_MODEL_2ef481a9fa5142139f9b76b4ea07c382",
       "msg_id": "",
       "outputs": [
        {
         "data": {
          "text/markdown": "`prep_hubb`",
          "text/plain": "<IPython.core.display.Markdown object>"
         },
         "metadata": {},
         "output_type": "display_data"
        },
        {
         "data": {
          "image/svg+xml": "<svg xmlns=\"http://www.w3.org/2000/svg\" xmlns:xlink=\"http://www.w3.org/1999/xlink\" width=\"263pt\" height=\"476pt\" viewBox=\"0.00 0.00 263.00 476.00\">\n<g id=\"graph0\" class=\"graph\" transform=\"scale(1 1) rotate(0) translate(4 472)\">\n<title>my_graph</title>\n<polygon fill=\"white\" stroke=\"transparent\" points=\"-4,4 -4,-472 259,-472 259,4 -4,4\"/>\n<!-- U_G9 -->\n<g id=\"node1\" class=\"node\">\n<title>U_G9</title>\n<text text-anchor=\"middle\" x=\"27\" y=\"-446.3\" font-family=\"Times,serif\" font-size=\"14.00\">U</text>\n</g>\n<!-- PrepareHubbard -->\n<g id=\"node10\" class=\"node\">\n<title>PrepareHubbard</title>\n<polygon fill=\"none\" stroke=\"black\" points=\"91.5,-329 91.5,-346 164.5,-346 164.5,-329 91.5,-329\"/>\n<text text-anchor=\"start\" x=\"94.5\" y=\"-335\" font-family=\"Times,serif\" font-size=\"10.00\">PrepareHubbard</text>\n<polygon fill=\"none\" stroke=\"black\" points=\"91.5,-308 91.5,-329 164.5,-329 164.5,-308 91.5,-308\"/>\n<text text-anchor=\"start\" x=\"123\" y=\"-314.8\" font-family=\"Times,serif\" font-size=\"14.00\">U</text>\n<polygon fill=\"none\" stroke=\"black\" points=\"91.5,-287 91.5,-308 164.5,-308 164.5,-287 91.5,-287\"/>\n<text text-anchor=\"start\" x=\"123\" y=\"-293.8\" font-family=\"Times,serif\" font-size=\"14.00\">V</text>\n<polygon fill=\"none\" stroke=\"black\" points=\"91.5,-266 91.5,-287 164.5,-287 164.5,-266 91.5,-266\"/>\n<text text-anchor=\"start\" x=\"117.5\" y=\"-272.8\" font-family=\"Times,serif\" font-size=\"14.00\">p_x</text>\n<polygon fill=\"none\" stroke=\"black\" points=\"91.5,-245 91.5,-266 164.5,-266 164.5,-245 91.5,-245\"/>\n<text text-anchor=\"start\" x=\"117.5\" y=\"-251.8\" font-family=\"Times,serif\" font-size=\"14.00\">p_y</text>\n<polygon fill=\"none\" stroke=\"black\" points=\"91.5,-224 91.5,-245 164.5,-245 164.5,-224 91.5,-224\"/>\n<text text-anchor=\"start\" x=\"113\" y=\"-230.8\" font-family=\"Times,serif\" font-size=\"14.00\">alpha</text>\n<polygon fill=\"none\" stroke=\"black\" points=\"91.5,-203 91.5,-224 164.5,-224 164.5,-203 91.5,-203\"/>\n<text text-anchor=\"start\" x=\"117.5\" y=\"-209.8\" font-family=\"Times,serif\" font-size=\"14.00\">q_x</text>\n<polygon fill=\"none\" stroke=\"black\" points=\"91.5,-182 91.5,-203 164.5,-203 164.5,-182 91.5,-182\"/>\n<text text-anchor=\"start\" x=\"117.5\" y=\"-188.8\" font-family=\"Times,serif\" font-size=\"14.00\">q_y</text>\n<polygon fill=\"none\" stroke=\"black\" points=\"91.5,-161 91.5,-182 164.5,-182 164.5,-161 91.5,-161\"/>\n<text text-anchor=\"start\" x=\"116.5\" y=\"-167.8\" font-family=\"Times,serif\" font-size=\"14.00\">beta</text>\n<polygon fill=\"none\" stroke=\"black\" points=\"91.5,-140 91.5,-161 164.5,-161 164.5,-140 91.5,-140\"/>\n<text text-anchor=\"start\" x=\"114\" y=\"-146.8\" font-family=\"Times,serif\" font-size=\"14.00\">temp</text>\n</g>\n<!-- U_G9&#45;&gt;PrepareHubbard -->\n<g id=\"edge1\" class=\"edge\">\n<title>U_G9:e-&gt;PrepareHubbard:w</title>\n<path fill=\"none\" stroke=\"black\" d=\"M54,-450C83.54,-450 61.82,-325.07 88.96,-319.21\"/>\n<ellipse fill=\"black\" stroke=\"black\" cx=\"90.01\" cy=\"-319.1\" rx=\"1\" ry=\"1\"/>\n<text text-anchor=\"middle\" x=\"72.5\" y=\"-395\" font-family=\"Times,serif\" font-size=\"10.00\">1</text>\n</g>\n<!-- V_G18 -->\n<g id=\"node2\" class=\"node\">\n<title>V_G18</title>\n<text text-anchor=\"middle\" x=\"27\" y=\"-392.3\" font-family=\"Times,serif\" font-size=\"14.00\">V</text>\n</g>\n<!-- V_G18&#45;&gt;PrepareHubbard -->\n<g id=\"edge2\" class=\"edge\">\n<title>V_G18:e-&gt;PrepareHubbard:w</title>\n<path fill=\"none\" stroke=\"black\" d=\"M54,-396C76.55,-396 68.29,-304.03 88.91,-298.28\"/>\n<ellipse fill=\"black\" stroke=\"black\" cx=\"90.01\" cy=\"-298.13\" rx=\"1\" ry=\"1\"/>\n<text text-anchor=\"middle\" x=\"72.5\" y=\"-352\" font-family=\"Times,serif\" font-size=\"10.00\">1</text>\n</g>\n<!-- p_x_G15 -->\n<g id=\"node3\" class=\"node\">\n<title>p_x_G15</title>\n<text text-anchor=\"middle\" x=\"27\" y=\"-338.3\" font-family=\"Times,serif\" font-size=\"14.00\">p_x</text>\n</g>\n<!-- p_x_G15&#45;&gt;PrepareHubbard -->\n<g id=\"edge3\" class=\"edge\">\n<title>p_x_G15:e-&gt;PrepareHubbard:w</title>\n<path fill=\"none\" stroke=\"black\" d=\"M54,-342C86.46,-342 59.11,-280.01 88.76,-277.11\"/>\n<ellipse fill=\"black\" stroke=\"black\" cx=\"90\" cy=\"-277.05\" rx=\"1\" ry=\"1\"/>\n<text text-anchor=\"middle\" x=\"72.5\" y=\"-318\" font-family=\"Times,serif\" font-size=\"10.00\">2</text>\n</g>\n<!-- p_y_G20 -->\n<g id=\"node4\" class=\"node\">\n<title>p_y_G20</title>\n<text text-anchor=\"middle\" x=\"27\" y=\"-284.3\" font-family=\"Times,serif\" font-size=\"14.00\">p_y</text>\n</g>\n<!-- p_y_G20&#45;&gt;PrepareHubbard -->\n<g id=\"edge4\" class=\"edge\">\n<title>p_y_G20:e-&gt;PrepareHubbard:w</title>\n<path fill=\"none\" stroke=\"black\" d=\"M54,-288C74.89,-288 69.72,-258.45 88.58,-256.14\"/>\n<ellipse fill=\"black\" stroke=\"black\" cx=\"90\" cy=\"-256.06\" rx=\"1\" ry=\"1\"/>\n<text text-anchor=\"middle\" x=\"72.5\" y=\"-275\" font-family=\"Times,serif\" font-size=\"10.00\">2</text>\n</g>\n<!-- alpha_G2 -->\n<g id=\"node5\" class=\"node\">\n<title>alpha_G2</title>\n<text text-anchor=\"middle\" x=\"27\" y=\"-230.3\" font-family=\"Times,serif\" font-size=\"14.00\">alpha</text>\n</g>\n<!-- alpha_G2&#45;&gt;PrepareHubbard -->\n<g id=\"edge5\" class=\"edge\">\n<title>alpha_G2:e-&gt;PrepareHubbard:w</title>\n<path fill=\"none\" stroke=\"black\" d=\"M54,-234C69.67,-234 74.14,-234 88.77,-234\"/>\n<ellipse fill=\"black\" stroke=\"black\" cx=\"90\" cy=\"-234\" rx=\"1\" ry=\"1\"/>\n<text text-anchor=\"middle\" x=\"72.5\" y=\"-237\" font-family=\"Times,serif\" font-size=\"10.00\">1</text>\n</g>\n<!-- q_x_G12 -->\n<g id=\"node6\" class=\"node\">\n<title>q_x_G12</title>\n<text text-anchor=\"middle\" x=\"27\" y=\"-176.3\" font-family=\"Times,serif\" font-size=\"14.00\">q_x</text>\n</g>\n<!-- q_x_G12&#45;&gt;PrepareHubbard -->\n<g id=\"edge6\" class=\"edge\">\n<title>q_x_G12:e-&gt;PrepareHubbard:w</title>\n<path fill=\"none\" stroke=\"black\" d=\"M54,-180C75.17,-180 69.47,-210.47 88.55,-212.85\"/>\n<ellipse fill=\"black\" stroke=\"black\" cx=\"90\" cy=\"-212.94\" rx=\"1\" ry=\"1\"/>\n<text text-anchor=\"middle\" x=\"72.5\" y=\"-200\" font-family=\"Times,serif\" font-size=\"10.00\">2</text>\n</g>\n<!-- q_y_G3 -->\n<g id=\"node7\" class=\"node\">\n<title>q_y_G3</title>\n<text text-anchor=\"middle\" x=\"27\" y=\"-122.3\" font-family=\"Times,serif\" font-size=\"14.00\">q_y</text>\n</g>\n<!-- q_y_G3&#45;&gt;PrepareHubbard -->\n<g id=\"edge7\" class=\"edge\">\n<title>q_y_G3:e-&gt;PrepareHubbard:w</title>\n<path fill=\"none\" stroke=\"black\" d=\"M54,-126C86.84,-126 58.75,-188.94 88.74,-191.89\"/>\n<ellipse fill=\"black\" stroke=\"black\" cx=\"90\" cy=\"-191.95\" rx=\"1\" ry=\"1\"/>\n<text text-anchor=\"middle\" x=\"72.5\" y=\"-169\" font-family=\"Times,serif\" font-size=\"10.00\">2</text>\n</g>\n<!-- beta_G6 -->\n<g id=\"node8\" class=\"node\">\n<title>beta_G6</title>\n<text text-anchor=\"middle\" x=\"27\" y=\"-68.3\" font-family=\"Times,serif\" font-size=\"14.00\">beta</text>\n</g>\n<!-- beta_G6&#45;&gt;PrepareHubbard -->\n<g id=\"edge8\" class=\"edge\">\n<title>beta_G6:e-&gt;PrepareHubbard:w</title>\n<path fill=\"none\" stroke=\"black\" d=\"M54,-72C76.75,-72 68.1,-164.91 88.89,-170.72\"/>\n<ellipse fill=\"black\" stroke=\"black\" cx=\"90.01\" cy=\"-170.87\" rx=\"1\" ry=\"1\"/>\n<text text-anchor=\"middle\" x=\"72.5\" y=\"-127\" font-family=\"Times,serif\" font-size=\"10.00\">1</text>\n</g>\n<!-- temp_G19 -->\n<g id=\"node9\" class=\"node\">\n<title>temp_G19</title>\n<text text-anchor=\"middle\" x=\"27\" y=\"-14.3\" font-family=\"Times,serif\" font-size=\"14.00\">temp</text>\n</g>\n<!-- temp_G19&#45;&gt;PrepareHubbard -->\n<g id=\"edge9\" class=\"edge\">\n<title>temp_G19:e-&gt;PrepareHubbard:w</title>\n<path fill=\"none\" stroke=\"black\" d=\"M54,-18C83.75,-18 61.63,-143.89 88.95,-149.79\"/>\n<ellipse fill=\"black\" stroke=\"black\" cx=\"90.01\" cy=\"-149.9\" rx=\"1\" ry=\"1\"/>\n<text text-anchor=\"middle\" x=\"72.5\" y=\"-95\" font-family=\"Times,serif\" font-size=\"10.00\">2</text>\n</g>\n<!-- U_G26 -->\n<g id=\"node11\" class=\"node\">\n<title>U_G26</title>\n<text text-anchor=\"middle\" x=\"228\" y=\"-446.3\" font-family=\"Times,serif\" font-size=\"14.00\">U</text>\n</g>\n<!-- PrepareHubbard&#45;&gt;U_G26 -->\n<g id=\"edge10\" class=\"edge\">\n<title>PrepareHubbard:e-&gt;U_G26:w</title>\n<path fill=\"none\" stroke=\"black\" d=\"M164,-319C193.54,-319 171.82,-443.93 198.96,-449.79\"/>\n<ellipse fill=\"black\" stroke=\"black\" cx=\"200.01\" cy=\"-449.9\" rx=\"1\" ry=\"1\"/>\n<text text-anchor=\"middle\" x=\"182.5\" y=\"-395\" font-family=\"Times,serif\" font-size=\"10.00\">1</text>\n</g>\n<!-- V_G17 -->\n<g id=\"node12\" class=\"node\">\n<title>V_G17</title>\n<text text-anchor=\"middle\" x=\"228\" y=\"-392.3\" font-family=\"Times,serif\" font-size=\"14.00\">V</text>\n</g>\n<!-- PrepareHubbard&#45;&gt;V_G17 -->\n<g id=\"edge11\" class=\"edge\">\n<title>PrepareHubbard:e-&gt;V_G17:w</title>\n<path fill=\"none\" stroke=\"black\" d=\"M164,-298C186.55,-298 178.29,-389.97 198.91,-395.72\"/>\n<ellipse fill=\"black\" stroke=\"black\" cx=\"200.01\" cy=\"-395.87\" rx=\"1\" ry=\"1\"/>\n<text text-anchor=\"middle\" x=\"182.5\" y=\"-352\" font-family=\"Times,serif\" font-size=\"10.00\">1</text>\n</g>\n<!-- p_x_G23 -->\n<g id=\"node13\" class=\"node\">\n<title>p_x_G23</title>\n<text text-anchor=\"middle\" x=\"228\" y=\"-338.3\" font-family=\"Times,serif\" font-size=\"14.00\">p_x</text>\n</g>\n<!-- PrepareHubbard&#45;&gt;p_x_G23 -->\n<g id=\"edge12\" class=\"edge\">\n<title>PrepareHubbard:e-&gt;p_x_G23:w</title>\n<path fill=\"none\" stroke=\"black\" d=\"M164,-277C196.46,-277 169.11,-338.99 198.76,-341.89\"/>\n<ellipse fill=\"black\" stroke=\"black\" cx=\"200\" cy=\"-341.95\" rx=\"1\" ry=\"1\"/>\n<text text-anchor=\"middle\" x=\"182.5\" y=\"-318\" font-family=\"Times,serif\" font-size=\"10.00\">2</text>\n</g>\n<!-- p_y_G21 -->\n<g id=\"node14\" class=\"node\">\n<title>p_y_G21</title>\n<text text-anchor=\"middle\" x=\"228\" y=\"-284.3\" font-family=\"Times,serif\" font-size=\"14.00\">p_y</text>\n</g>\n<!-- PrepareHubbard&#45;&gt;p_y_G21 -->\n<g id=\"edge13\" class=\"edge\">\n<title>PrepareHubbard:e-&gt;p_y_G21:w</title>\n<path fill=\"none\" stroke=\"black\" d=\"M164,-256C184.89,-256 179.72,-285.55 198.58,-287.86\"/>\n<ellipse fill=\"black\" stroke=\"black\" cx=\"200\" cy=\"-287.94\" rx=\"1\" ry=\"1\"/>\n<text text-anchor=\"middle\" x=\"182.5\" y=\"-275\" font-family=\"Times,serif\" font-size=\"10.00\">2</text>\n</g>\n<!-- alpha_G8 -->\n<g id=\"node15\" class=\"node\">\n<title>alpha_G8</title>\n<text text-anchor=\"middle\" x=\"228\" y=\"-230.3\" font-family=\"Times,serif\" font-size=\"14.00\">alpha</text>\n</g>\n<!-- PrepareHubbard&#45;&gt;alpha_G8 -->\n<g id=\"edge14\" class=\"edge\">\n<title>PrepareHubbard:e-&gt;alpha_G8:w</title>\n<path fill=\"none\" stroke=\"black\" d=\"M164,-234C179.67,-234 184.14,-234 198.77,-234\"/>\n<ellipse fill=\"black\" stroke=\"black\" cx=\"200\" cy=\"-234\" rx=\"1\" ry=\"1\"/>\n<text text-anchor=\"middle\" x=\"182.5\" y=\"-237\" font-family=\"Times,serif\" font-size=\"10.00\">1</text>\n</g>\n<!-- q_x_G5 -->\n<g id=\"node16\" class=\"node\">\n<title>q_x_G5</title>\n<text text-anchor=\"middle\" x=\"228\" y=\"-176.3\" font-family=\"Times,serif\" font-size=\"14.00\">q_x</text>\n</g>\n<!-- PrepareHubbard&#45;&gt;q_x_G5 -->\n<g id=\"edge15\" class=\"edge\">\n<title>PrepareHubbard:e-&gt;q_x_G5:w</title>\n<path fill=\"none\" stroke=\"black\" d=\"M164,-213C185.17,-213 179.47,-182.53 198.55,-180.15\"/>\n<ellipse fill=\"black\" stroke=\"black\" cx=\"200\" cy=\"-180.06\" rx=\"1\" ry=\"1\"/>\n<text text-anchor=\"middle\" x=\"182.5\" y=\"-200\" font-family=\"Times,serif\" font-size=\"10.00\">2</text>\n</g>\n<!-- q_y_G10 -->\n<g id=\"node17\" class=\"node\">\n<title>q_y_G10</title>\n<text text-anchor=\"middle\" x=\"228\" y=\"-122.3\" font-family=\"Times,serif\" font-size=\"14.00\">q_y</text>\n</g>\n<!-- PrepareHubbard&#45;&gt;q_y_G10 -->\n<g id=\"edge16\" class=\"edge\">\n<title>PrepareHubbard:e-&gt;q_y_G10:w</title>\n<path fill=\"none\" stroke=\"black\" d=\"M164,-192C196.84,-192 168.75,-129.06 198.74,-126.11\"/>\n<ellipse fill=\"black\" stroke=\"black\" cx=\"200\" cy=\"-126.05\" rx=\"1\" ry=\"1\"/>\n<text text-anchor=\"middle\" x=\"182.5\" y=\"-169\" font-family=\"Times,serif\" font-size=\"10.00\">2</text>\n</g>\n<!-- beta_G11 -->\n<g id=\"node18\" class=\"node\">\n<title>beta_G11</title>\n<text text-anchor=\"middle\" x=\"228\" y=\"-68.3\" font-family=\"Times,serif\" font-size=\"14.00\">beta</text>\n</g>\n<!-- PrepareHubbard&#45;&gt;beta_G11 -->\n<g id=\"edge17\" class=\"edge\">\n<title>PrepareHubbard:e-&gt;beta_G11:w</title>\n<path fill=\"none\" stroke=\"black\" d=\"M164,-171C186.75,-171 178.1,-78.09 198.89,-72.28\"/>\n<ellipse fill=\"black\" stroke=\"black\" cx=\"200.01\" cy=\"-72.13\" rx=\"1\" ry=\"1\"/>\n<text text-anchor=\"middle\" x=\"182.5\" y=\"-127\" font-family=\"Times,serif\" font-size=\"10.00\">1</text>\n</g>\n<!-- temp_G14 -->\n<g id=\"node19\" class=\"node\">\n<title>temp_G14</title>\n<text text-anchor=\"middle\" x=\"228\" y=\"-14.3\" font-family=\"Times,serif\" font-size=\"14.00\">temp</text>\n</g>\n<!-- PrepareHubbard&#45;&gt;temp_G14 -->\n<g id=\"edge18\" class=\"edge\">\n<title>PrepareHubbard:e-&gt;temp_G14:w</title>\n<path fill=\"none\" stroke=\"black\" d=\"M164,-150C193.75,-150 171.63,-24.11 198.95,-18.21\"/>\n<ellipse fill=\"black\" stroke=\"black\" cx=\"200.01\" cy=\"-18.1\" rx=\"1\" ry=\"1\"/>\n<text text-anchor=\"middle\" x=\"182.5\" y=\"-95\" font-family=\"Times,serif\" font-size=\"10.00\">2</text>\n</g>\n</g>\n</svg>",
          "text/plain": "<IPython.core.display.SVG object>"
         },
         "metadata": {},
         "output_type": "display_data"
        }
       ],
       "tabbable": null,
       "tooltip": null
      }
     },
     "afcfee5790c9475d8b105d6cdd855258": {
      "model_module": "@jupyter-widgets/output",
      "model_module_version": "1.0.0",
      "model_name": "OutputModel",
      "state": {
       "_dom_classes": [],
       "_model_module": "@jupyter-widgets/output",
       "_model_module_version": "1.0.0",
       "_model_name": "OutputModel",
       "_view_count": null,
       "_view_module": "@jupyter-widgets/output",
       "_view_module_version": "1.0.0",
       "_view_name": "OutputView",
       "layout": "IPY_MODEL_034e8556e9f34aa69c0d49209719177b",
       "msg_id": "",
       "outputs": [
        {
         "data": {
          "text/markdown": "`sel_hubb`",
          "text/plain": "<IPython.core.display.Markdown object>"
         },
         "metadata": {},
         "output_type": "display_data"
        },
        {
         "data": {
          "image/svg+xml": "<svg xmlns=\"http://www.w3.org/2000/svg\" xmlns:xlink=\"http://www.w3.org/1999/xlink\" width=\"278pt\" height=\"476pt\" viewBox=\"0.00 0.00 278.00 476.00\">\n<g id=\"graph0\" class=\"graph\" transform=\"scale(1 1) rotate(0) translate(4 472)\">\n<title>my_graph</title>\n<polygon fill=\"white\" stroke=\"transparent\" points=\"-4,4 -4,-472 274,-472 274,4 -4,4\"/>\n<!-- U_G7 -->\n<g id=\"node1\" class=\"node\">\n<title>U_G7</title>\n<text text-anchor=\"middle\" x=\"27\" y=\"-446.3\" font-family=\"Times,serif\" font-size=\"14.00\">U</text>\n</g>\n<!-- SelectHubbard -->\n<g id=\"node10\" class=\"node\">\n<title>SelectHubbard</title>\n<polygon fill=\"none\" stroke=\"black\" points=\"91,-329 91,-346 179,-346 179,-329 91,-329\"/>\n<text text-anchor=\"start\" x=\"94\" y=\"-335\" font-family=\"Times,serif\" font-size=\"10.00\">SelectHubbard(4, 4)</text>\n<polygon fill=\"none\" stroke=\"black\" points=\"91,-308 91,-329 179,-329 179,-308 91,-308\"/>\n<text text-anchor=\"start\" x=\"130\" y=\"-314.8\" font-family=\"Times,serif\" font-size=\"14.00\">U</text>\n<polygon fill=\"none\" stroke=\"black\" points=\"91,-287 91,-308 179,-308 179,-287 91,-287\"/>\n<text text-anchor=\"start\" x=\"130\" y=\"-293.8\" font-family=\"Times,serif\" font-size=\"14.00\">V</text>\n<polygon fill=\"none\" stroke=\"black\" points=\"91,-266 91,-287 179,-287 179,-266 91,-266\"/>\n<text text-anchor=\"start\" x=\"124.5\" y=\"-272.8\" font-family=\"Times,serif\" font-size=\"14.00\">p_x</text>\n<polygon fill=\"none\" stroke=\"black\" points=\"91,-245 91,-266 179,-266 179,-245 91,-245\"/>\n<text text-anchor=\"start\" x=\"124.5\" y=\"-251.8\" font-family=\"Times,serif\" font-size=\"14.00\">p_y</text>\n<polygon fill=\"none\" stroke=\"black\" points=\"91,-224 91,-245 179,-245 179,-224 91,-224\"/>\n<text text-anchor=\"start\" x=\"120\" y=\"-230.8\" font-family=\"Times,serif\" font-size=\"14.00\">alpha</text>\n<polygon fill=\"none\" stroke=\"black\" points=\"91,-203 91,-224 179,-224 179,-203 91,-203\"/>\n<text text-anchor=\"start\" x=\"124.5\" y=\"-209.8\" font-family=\"Times,serif\" font-size=\"14.00\">q_x</text>\n<polygon fill=\"none\" stroke=\"black\" points=\"91,-182 91,-203 179,-203 179,-182 91,-182\"/>\n<text text-anchor=\"start\" x=\"124.5\" y=\"-188.8\" font-family=\"Times,serif\" font-size=\"14.00\">q_y</text>\n<polygon fill=\"none\" stroke=\"black\" points=\"91,-161 91,-182 179,-182 179,-161 91,-161\"/>\n<text text-anchor=\"start\" x=\"123.5\" y=\"-167.8\" font-family=\"Times,serif\" font-size=\"14.00\">beta</text>\n<polygon fill=\"none\" stroke=\"black\" points=\"91,-140 91,-161 179,-161 179,-140 91,-140\"/>\n<text text-anchor=\"start\" x=\"119.5\" y=\"-146.8\" font-family=\"Times,serif\" font-size=\"14.00\">target</text>\n</g>\n<!-- U_G7&#45;&gt;SelectHubbard -->\n<g id=\"edge1\" class=\"edge\">\n<title>U_G7:e-&gt;SelectHubbard:w</title>\n<path fill=\"none\" stroke=\"black\" d=\"M54,-450C83.54,-450 61.82,-325.07 88.96,-319.21\"/>\n<ellipse fill=\"black\" stroke=\"black\" cx=\"90.01\" cy=\"-319.1\" rx=\"1\" ry=\"1\"/>\n<text text-anchor=\"middle\" x=\"72.5\" y=\"-395\" font-family=\"Times,serif\" font-size=\"10.00\">1</text>\n</g>\n<!-- V_G17 -->\n<g id=\"node2\" class=\"node\">\n<title>V_G17</title>\n<text text-anchor=\"middle\" x=\"27\" y=\"-392.3\" font-family=\"Times,serif\" font-size=\"14.00\">V</text>\n</g>\n<!-- V_G17&#45;&gt;SelectHubbard -->\n<g id=\"edge2\" class=\"edge\">\n<title>V_G17:e-&gt;SelectHubbard:w</title>\n<path fill=\"none\" stroke=\"black\" d=\"M54,-396C76.55,-396 68.29,-304.03 88.91,-298.28\"/>\n<ellipse fill=\"black\" stroke=\"black\" cx=\"90.01\" cy=\"-298.13\" rx=\"1\" ry=\"1\"/>\n<text text-anchor=\"middle\" x=\"72.5\" y=\"-352\" font-family=\"Times,serif\" font-size=\"10.00\">1</text>\n</g>\n<!-- p_x_G13 -->\n<g id=\"node3\" class=\"node\">\n<title>p_x_G13</title>\n<text text-anchor=\"middle\" x=\"27\" y=\"-338.3\" font-family=\"Times,serif\" font-size=\"14.00\">p_x</text>\n</g>\n<!-- p_x_G13&#45;&gt;SelectHubbard -->\n<g id=\"edge3\" class=\"edge\">\n<title>p_x_G13:e-&gt;SelectHubbard:w</title>\n<path fill=\"none\" stroke=\"black\" d=\"M54,-342C86.46,-342 59.11,-280.01 88.76,-277.11\"/>\n<ellipse fill=\"black\" stroke=\"black\" cx=\"90\" cy=\"-277.05\" rx=\"1\" ry=\"1\"/>\n<text text-anchor=\"middle\" x=\"72.5\" y=\"-318\" font-family=\"Times,serif\" font-size=\"10.00\">2</text>\n</g>\n<!-- p_y_G18 -->\n<g id=\"node4\" class=\"node\">\n<title>p_y_G18</title>\n<text text-anchor=\"middle\" x=\"27\" y=\"-284.3\" font-family=\"Times,serif\" font-size=\"14.00\">p_y</text>\n</g>\n<!-- p_y_G18&#45;&gt;SelectHubbard -->\n<g id=\"edge4\" class=\"edge\">\n<title>p_y_G18:e-&gt;SelectHubbard:w</title>\n<path fill=\"none\" stroke=\"black\" d=\"M54,-288C74.89,-288 69.72,-258.45 88.58,-256.14\"/>\n<ellipse fill=\"black\" stroke=\"black\" cx=\"90\" cy=\"-256.06\" rx=\"1\" ry=\"1\"/>\n<text text-anchor=\"middle\" x=\"72.5\" y=\"-275\" font-family=\"Times,serif\" font-size=\"10.00\">2</text>\n</g>\n<!-- alpha_G2 -->\n<g id=\"node5\" class=\"node\">\n<title>alpha_G2</title>\n<text text-anchor=\"middle\" x=\"27\" y=\"-230.3\" font-family=\"Times,serif\" font-size=\"14.00\">alpha</text>\n</g>\n<!-- alpha_G2&#45;&gt;SelectHubbard -->\n<g id=\"edge5\" class=\"edge\">\n<title>alpha_G2:e-&gt;SelectHubbard:w</title>\n<path fill=\"none\" stroke=\"black\" d=\"M54,-234C69.67,-234 74.14,-234 88.77,-234\"/>\n<ellipse fill=\"black\" stroke=\"black\" cx=\"90\" cy=\"-234\" rx=\"1\" ry=\"1\"/>\n<text text-anchor=\"middle\" x=\"72.5\" y=\"-237\" font-family=\"Times,serif\" font-size=\"10.00\">1</text>\n</g>\n<!-- q_x_G12 -->\n<g id=\"node6\" class=\"node\">\n<title>q_x_G12</title>\n<text text-anchor=\"middle\" x=\"27\" y=\"-176.3\" font-family=\"Times,serif\" font-size=\"14.00\">q_x</text>\n</g>\n<!-- q_x_G12&#45;&gt;SelectHubbard -->\n<g id=\"edge6\" class=\"edge\">\n<title>q_x_G12:e-&gt;SelectHubbard:w</title>\n<path fill=\"none\" stroke=\"black\" d=\"M54,-180C75.17,-180 69.47,-210.47 88.55,-212.85\"/>\n<ellipse fill=\"black\" stroke=\"black\" cx=\"90\" cy=\"-212.94\" rx=\"1\" ry=\"1\"/>\n<text text-anchor=\"middle\" x=\"72.5\" y=\"-200\" font-family=\"Times,serif\" font-size=\"10.00\">2</text>\n</g>\n<!-- q_y_G3 -->\n<g id=\"node7\" class=\"node\">\n<title>q_y_G3</title>\n<text text-anchor=\"middle\" x=\"27\" y=\"-122.3\" font-family=\"Times,serif\" font-size=\"14.00\">q_y</text>\n</g>\n<!-- q_y_G3&#45;&gt;SelectHubbard -->\n<g id=\"edge7\" class=\"edge\">\n<title>q_y_G3:e-&gt;SelectHubbard:w</title>\n<path fill=\"none\" stroke=\"black\" d=\"M54,-126C86.84,-126 58.75,-188.94 88.74,-191.89\"/>\n<ellipse fill=\"black\" stroke=\"black\" cx=\"90\" cy=\"-191.95\" rx=\"1\" ry=\"1\"/>\n<text text-anchor=\"middle\" x=\"72.5\" y=\"-169\" font-family=\"Times,serif\" font-size=\"10.00\">2</text>\n</g>\n<!-- beta_G5 -->\n<g id=\"node8\" class=\"node\">\n<title>beta_G5</title>\n<text text-anchor=\"middle\" x=\"27\" y=\"-68.3\" font-family=\"Times,serif\" font-size=\"14.00\">beta</text>\n</g>\n<!-- beta_G5&#45;&gt;SelectHubbard -->\n<g id=\"edge8\" class=\"edge\">\n<title>beta_G5:e-&gt;SelectHubbard:w</title>\n<path fill=\"none\" stroke=\"black\" d=\"M54,-72C76.75,-72 68.1,-164.91 88.89,-170.72\"/>\n<ellipse fill=\"black\" stroke=\"black\" cx=\"90.01\" cy=\"-170.87\" rx=\"1\" ry=\"1\"/>\n<text text-anchor=\"middle\" x=\"72.5\" y=\"-127\" font-family=\"Times,serif\" font-size=\"10.00\">1</text>\n</g>\n<!-- target_G9 -->\n<g id=\"node9\" class=\"node\">\n<title>target_G9</title>\n<text text-anchor=\"middle\" x=\"27\" y=\"-14.3\" font-family=\"Times,serif\" font-size=\"14.00\">target</text>\n</g>\n<!-- target_G9&#45;&gt;SelectHubbard -->\n<g id=\"edge9\" class=\"edge\">\n<title>target_G9:e-&gt;SelectHubbard:w</title>\n<path fill=\"none\" stroke=\"black\" d=\"M54,-18C83.75,-18 61.63,-143.89 88.95,-149.79\"/>\n<ellipse fill=\"black\" stroke=\"black\" cx=\"90.01\" cy=\"-149.9\" rx=\"1\" ry=\"1\"/>\n<text text-anchor=\"middle\" x=\"72.5\" y=\"-95\" font-family=\"Times,serif\" font-size=\"10.00\">32</text>\n</g>\n<!-- U_G25 -->\n<g id=\"node11\" class=\"node\">\n<title>U_G25</title>\n<text text-anchor=\"middle\" x=\"243\" y=\"-446.3\" font-family=\"Times,serif\" font-size=\"14.00\">U</text>\n</g>\n<!-- SelectHubbard&#45;&gt;U_G25 -->\n<g id=\"edge10\" class=\"edge\">\n<title>SelectHubbard:e-&gt;U_G25:w</title>\n<path fill=\"none\" stroke=\"black\" d=\"M179,-319C208.54,-319 186.82,-443.93 213.96,-449.79\"/>\n<ellipse fill=\"black\" stroke=\"black\" cx=\"215.01\" cy=\"-449.9\" rx=\"1\" ry=\"1\"/>\n<text text-anchor=\"middle\" x=\"197.5\" y=\"-395\" font-family=\"Times,serif\" font-size=\"10.00\">1</text>\n</g>\n<!-- V_G16 -->\n<g id=\"node12\" class=\"node\">\n<title>V_G16</title>\n<text text-anchor=\"middle\" x=\"243\" y=\"-392.3\" font-family=\"Times,serif\" font-size=\"14.00\">V</text>\n</g>\n<!-- SelectHubbard&#45;&gt;V_G16 -->\n<g id=\"edge11\" class=\"edge\">\n<title>SelectHubbard:e-&gt;V_G16:w</title>\n<path fill=\"none\" stroke=\"black\" d=\"M179,-298C201.55,-298 193.29,-389.97 213.91,-395.72\"/>\n<ellipse fill=\"black\" stroke=\"black\" cx=\"215.01\" cy=\"-395.87\" rx=\"1\" ry=\"1\"/>\n<text text-anchor=\"middle\" x=\"197.5\" y=\"-352\" font-family=\"Times,serif\" font-size=\"10.00\">1</text>\n</g>\n<!-- p_x_G22 -->\n<g id=\"node13\" class=\"node\">\n<title>p_x_G22</title>\n<text text-anchor=\"middle\" x=\"243\" y=\"-338.3\" font-family=\"Times,serif\" font-size=\"14.00\">p_x</text>\n</g>\n<!-- SelectHubbard&#45;&gt;p_x_G22 -->\n<g id=\"edge12\" class=\"edge\">\n<title>SelectHubbard:e-&gt;p_x_G22:w</title>\n<path fill=\"none\" stroke=\"black\" d=\"M179,-277C211.46,-277 184.11,-338.99 213.76,-341.89\"/>\n<ellipse fill=\"black\" stroke=\"black\" cx=\"215\" cy=\"-341.95\" rx=\"1\" ry=\"1\"/>\n<text text-anchor=\"middle\" x=\"197.5\" y=\"-318\" font-family=\"Times,serif\" font-size=\"10.00\">2</text>\n</g>\n<!-- p_y_G19 -->\n<g id=\"node14\" class=\"node\">\n<title>p_y_G19</title>\n<text text-anchor=\"middle\" x=\"243\" y=\"-284.3\" font-family=\"Times,serif\" font-size=\"14.00\">p_y</text>\n</g>\n<!-- SelectHubbard&#45;&gt;p_y_G19 -->\n<g id=\"edge13\" class=\"edge\">\n<title>SelectHubbard:e-&gt;p_y_G19:w</title>\n<path fill=\"none\" stroke=\"black\" d=\"M179,-256C199.89,-256 194.72,-285.55 213.58,-287.86\"/>\n<ellipse fill=\"black\" stroke=\"black\" cx=\"215\" cy=\"-287.94\" rx=\"1\" ry=\"1\"/>\n<text text-anchor=\"middle\" x=\"197.5\" y=\"-275\" font-family=\"Times,serif\" font-size=\"10.00\">2</text>\n</g>\n<!-- alpha_G4 -->\n<g id=\"node15\" class=\"node\">\n<title>alpha_G4</title>\n<text text-anchor=\"middle\" x=\"243\" y=\"-230.3\" font-family=\"Times,serif\" font-size=\"14.00\">alpha</text>\n</g>\n<!-- SelectHubbard&#45;&gt;alpha_G4 -->\n<g id=\"edge14\" class=\"edge\">\n<title>SelectHubbard:e-&gt;alpha_G4:w</title>\n<path fill=\"none\" stroke=\"black\" d=\"M179,-234C194.67,-234 199.14,-234 213.77,-234\"/>\n<ellipse fill=\"black\" stroke=\"black\" cx=\"215\" cy=\"-234\" rx=\"1\" ry=\"1\"/>\n<text text-anchor=\"middle\" x=\"197.5\" y=\"-237\" font-family=\"Times,serif\" font-size=\"10.00\">1</text>\n</g>\n<!-- q_x_G6 -->\n<g id=\"node16\" class=\"node\">\n<title>q_x_G6</title>\n<text text-anchor=\"middle\" x=\"243\" y=\"-176.3\" font-family=\"Times,serif\" font-size=\"14.00\">q_x</text>\n</g>\n<!-- SelectHubbard&#45;&gt;q_x_G6 -->\n<g id=\"edge15\" class=\"edge\">\n<title>SelectHubbard:e-&gt;q_x_G6:w</title>\n<path fill=\"none\" stroke=\"black\" d=\"M179,-213C200.17,-213 194.47,-182.53 213.55,-180.15\"/>\n<ellipse fill=\"black\" stroke=\"black\" cx=\"215\" cy=\"-180.06\" rx=\"1\" ry=\"1\"/>\n<text text-anchor=\"middle\" x=\"197.5\" y=\"-200\" font-family=\"Times,serif\" font-size=\"10.00\">2</text>\n</g>\n<!-- q_y_G10 -->\n<g id=\"node17\" class=\"node\">\n<title>q_y_G10</title>\n<text text-anchor=\"middle\" x=\"243\" y=\"-122.3\" font-family=\"Times,serif\" font-size=\"14.00\">q_y</text>\n</g>\n<!-- SelectHubbard&#45;&gt;q_y_G10 -->\n<g id=\"edge16\" class=\"edge\">\n<title>SelectHubbard:e-&gt;q_y_G10:w</title>\n<path fill=\"none\" stroke=\"black\" d=\"M179,-192C211.84,-192 183.75,-129.06 213.74,-126.11\"/>\n<ellipse fill=\"black\" stroke=\"black\" cx=\"215\" cy=\"-126.05\" rx=\"1\" ry=\"1\"/>\n<text text-anchor=\"middle\" x=\"197.5\" y=\"-169\" font-family=\"Times,serif\" font-size=\"10.00\">2</text>\n</g>\n<!-- beta_G11 -->\n<g id=\"node18\" class=\"node\">\n<title>beta_G11</title>\n<text text-anchor=\"middle\" x=\"243\" y=\"-68.3\" font-family=\"Times,serif\" font-size=\"14.00\">beta</text>\n</g>\n<!-- SelectHubbard&#45;&gt;beta_G11 -->\n<g id=\"edge17\" class=\"edge\">\n<title>SelectHubbard:e-&gt;beta_G11:w</title>\n<path fill=\"none\" stroke=\"black\" d=\"M179,-171C201.75,-171 193.1,-78.09 213.89,-72.28\"/>\n<ellipse fill=\"black\" stroke=\"black\" cx=\"215.01\" cy=\"-72.13\" rx=\"1\" ry=\"1\"/>\n<text text-anchor=\"middle\" x=\"197.5\" y=\"-127\" font-family=\"Times,serif\" font-size=\"10.00\">1</text>\n</g>\n<!-- target_G0 -->\n<g id=\"node19\" class=\"node\">\n<title>target_G0</title>\n<text text-anchor=\"middle\" x=\"243\" y=\"-14.3\" font-family=\"Times,serif\" font-size=\"14.00\">target</text>\n</g>\n<!-- SelectHubbard&#45;&gt;target_G0 -->\n<g id=\"edge18\" class=\"edge\">\n<title>SelectHubbard:e-&gt;target_G0:w</title>\n<path fill=\"none\" stroke=\"black\" d=\"M179,-150C208.75,-150 186.63,-24.11 213.95,-18.21\"/>\n<ellipse fill=\"black\" stroke=\"black\" cx=\"215.01\" cy=\"-18.1\" rx=\"1\" ry=\"1\"/>\n<text text-anchor=\"middle\" x=\"197.5\" y=\"-95\" font-family=\"Times,serif\" font-size=\"10.00\">32</text>\n</g>\n</g>\n</svg>",
          "text/plain": "<IPython.core.display.SVG object>"
         },
         "metadata": {},
         "output_type": "display_data"
        }
       ],
       "tabbable": null,
       "tooltip": null
      }
     },
     "ceed341e4ab146ab8ae45b4970d34b56": {
      "model_module": "@jupyter-widgets/controls",
      "model_module_version": "2.0.0",
      "model_name": "HBoxModel",
      "state": {
       "_dom_classes": [],
       "_model_module": "@jupyter-widgets/controls",
       "_model_module_version": "2.0.0",
       "_model_name": "HBoxModel",
       "_view_count": null,
       "_view_module": "@jupyter-widgets/controls",
       "_view_module_version": "2.0.0",
       "_view_name": "HBoxView",
       "box_style": "",
       "children": [
        "IPY_MODEL_985aca1907e44394983a69ec67e7bc80"
       ],
       "layout": "IPY_MODEL_df4a08601db04f3ca1da12ececb71ed7",
       "tabbable": null,
       "tooltip": null
      }
     },
     "df4a08601db04f3ca1da12ececb71ed7": {
      "model_module": "@jupyter-widgets/base",
      "model_module_version": "2.0.0",
      "model_name": "LayoutModel",
      "state": {
       "_model_module": "@jupyter-widgets/base",
       "_model_module_version": "2.0.0",
       "_model_name": "LayoutModel",
       "_view_count": null,
       "_view_module": "@jupyter-widgets/base",
       "_view_module_version": "2.0.0",
       "_view_name": "LayoutView",
       "align_content": null,
       "align_items": null,
       "align_self": null,
       "border_bottom": null,
       "border_left": null,
       "border_right": null,
       "border_top": null,
       "bottom": null,
       "display": null,
       "flex": null,
       "flex_flow": null,
       "grid_area": null,
       "grid_auto_columns": null,
       "grid_auto_flow": null,
       "grid_auto_rows": null,
       "grid_column": null,
       "grid_gap": null,
       "grid_row": null,
       "grid_template_areas": null,
       "grid_template_columns": null,
       "grid_template_rows": null,
       "height": null,
       "justify_content": null,
       "justify_items": null,
       "left": null,
       "margin": null,
       "max_height": null,
       "max_width": null,
       "min_height": null,
       "min_width": null,
       "object_fit": null,
       "object_position": null,
       "order": null,
       "overflow": null,
       "padding": null,
       "right": null,
       "top": null,
       "visibility": null,
       "width": null
      }
     },
     "e4bc53d8554748a69e993a8645764378": {
      "model_module": "@jupyter-widgets/controls",
      "model_module_version": "2.0.0",
      "model_name": "HBoxModel",
      "state": {
       "_dom_classes": [],
       "_model_module": "@jupyter-widgets/controls",
       "_model_module_version": "2.0.0",
       "_model_name": "HBoxModel",
       "_view_count": null,
       "_view_module": "@jupyter-widgets/controls",
       "_view_module_version": "2.0.0",
       "_view_name": "HBoxView",
       "box_style": "",
       "children": [
        "IPY_MODEL_afcfee5790c9475d8b105d6cdd855258"
       ],
       "layout": "IPY_MODEL_3c509cb6b7fd4d1ebcf8b3e6f55a2f49",
       "tabbable": null,
       "tooltip": null
      }
     }
    },
    "version_major": 2,
    "version_minor": 0
   }
  }
 },
 "nbformat": 4,
 "nbformat_minor": 5
}
