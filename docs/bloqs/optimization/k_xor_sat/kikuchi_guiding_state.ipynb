{
 "cells": [
  {
   "cell_type": "markdown",
   "id": "7d1e1d47",
   "metadata": {
    "cq.autogen": "title_cell"
   },
   "source": [
    "# Planted Noisy kXOR - Kikuchi Guiding State\n",
    "\n",
    "Prepare the guiding state for a kXOR instance $\\mathcal{I}$ with\n",
    "Kikuchi parameter $\\ell$.\n",
    "\n",
    "References:\n",
    "    [Quartic quantum speedups for planted inference](https://arxiv.org/abs/2406.19378v1)\n",
    "    Section 4.4.1, Theorem 4.15."
   ]
  },
  {
   "cell_type": "code",
   "execution_count": 1,
   "id": "a512234f",
   "metadata": {
    "cq.autogen": "top_imports"
   },
   "outputs": [],
   "source": [
    "from qualtran import Bloq, CompositeBloq, BloqBuilder, Signature, Register\n",
    "from qualtran import QBit, QInt, QUInt, QAny\n",
    "from qualtran.drawing import show_bloq, show_call_graph, show_counts_sigma\n",
    "from typing import *\n",
    "import numpy as np\n",
    "import sympy\n",
    "import cirq"
   ]
  },
  {
   "cell_type": "markdown",
   "id": "a2f5b939",
   "metadata": {
    "cq.autogen": "SimpleGuidingState.bloq_doc.md"
   },
   "source": [
    "## `SimpleGuidingState`\n",
    "Prepare the guiding state for $\\ell = k$.\n",
    "\n",
    "Given an kXOR instance $\\mathcal{I}$, prepare the guiding state for\n",
    "parameter $\\ell = k$ (i.e. $c = 1$), defined in Eq 134:\n",
    "    $$\n",
    "    |\\phi\\rangle\n",
    "    \\propto\n",
    "    |\\Gamma^k(\\mathcal{A})\\rangle\n",
    "    =\n",
    "    \\frac{1}{\\sqrt{\\tilde{m}}}\n",
    "    \\sum_{S \\in {[n] \\choose k}} B_\\mathcal{I}(S) |S\\rangle\n",
    "    $$\n",
    "\n",
    "Here, $\\tilde{m}$ is the number of constraints in the input instance $\\mathcal{I}$,\n",
    "and $\\mathcal{A} = \\sqrt{\\frac{{n\\choose k}}{\\tilde{m}}} \\mathcal{I}$.\n",
    "\n",
    "This bloq has a gate cost of $O(\\tilde{m} \\log n)$ (see Eq 142 and paragraph below).\n",
    "\n",
    "#### Parameters\n",
    " - `inst`: the kXOR instance $\\mathcal{I}$.\n",
    " - `eps`: Precision of the prepared state (defaults to 1e-6). \n",
    "\n",
    "#### Registers\n",
    " - `S`: a scope of $k$ variables, each in $[n]$. \n",
    "\n",
    "#### References\n",
    " - [Quartic quantum speedups for planted inference](https://arxiv.org/abs/2406.19378v1). Equation 134.\n"
   ]
  },
  {
   "cell_type": "code",
   "execution_count": 2,
   "id": "90222153",
   "metadata": {
    "cq.autogen": "SimpleGuidingState.bloq_doc.py"
   },
   "outputs": [],
   "source": [
    "from qualtran.bloqs.optimization.k_xor_sat import SimpleGuidingState"
   ]
  },
  {
   "cell_type": "markdown",
   "id": "0a234e2c",
   "metadata": {
    "cq.autogen": "SimpleGuidingState.example_instances.md"
   },
   "source": [
    "### Example Instances"
   ]
  },
  {
   "cell_type": "code",
   "execution_count": 3,
   "id": "1cc6e639",
   "metadata": {
    "cq.autogen": "SimpleGuidingState.simple_guiding_state_symb"
   },
   "outputs": [],
   "source": [
    "import sympy\n",
    "\n",
    "from qualtran.bloqs.optimization.k_xor_sat import KXorInstance\n",
    "\n",
    "n, m, k = sympy.symbols(\"n m k\", positive=True, integer=True)\n",
    "inst = KXorInstance.symbolic(n=n, m=m, k=k)\n",
    "simple_guiding_state_symb = SimpleGuidingState(inst)"
   ]
  },
  {
   "cell_type": "code",
   "execution_count": 4,
   "id": "dc206f50",
   "metadata": {
    "cq.autogen": "SimpleGuidingState.simple_guiding_state"
   },
   "outputs": [],
   "source": [
    "from qualtran.bloqs.optimization.k_xor_sat import Constraint, KXorInstance\n",
    "\n",
    "inst = KXorInstance(\n",
    "    n=4,\n",
    "    k=2,\n",
    "    constraints=(\n",
    "        Constraint(S=(0, 1), b=1),\n",
    "        Constraint(S=(2, 3), b=-1),\n",
    "        Constraint(S=(1, 2), b=1),\n",
    "    ),\n",
    ")\n",
    "simple_guiding_state = SimpleGuidingState(inst)"
   ]
  },
  {
   "cell_type": "markdown",
   "id": "079db1ee",
   "metadata": {
    "cq.autogen": "SimpleGuidingState.graphical_signature.md"
   },
   "source": [
    "#### Graphical Signature"
   ]
  },
  {
   "cell_type": "code",
   "execution_count": 5,
   "id": "818d3518",
   "metadata": {
    "cq.autogen": "SimpleGuidingState.graphical_signature.py"
   },
   "outputs": [
    {
     "data": {
      "application/vnd.jupyter.widget-view+json": {
       "model_id": "8150afb922cf4b0eb7a84482a220c006",
       "version_major": 2,
       "version_minor": 0
      },
      "text/plain": [
       "HBox(children=(Output(outputs=({'output_type': 'display_data', 'data': {'text/plain': '<IPython.core.display.M…"
      ]
     },
     "metadata": {},
     "output_type": "display_data"
    }
   ],
   "source": [
    "from qualtran.drawing import show_bloqs\n",
    "show_bloqs([simple_guiding_state_symb, simple_guiding_state],\n",
    "           ['`simple_guiding_state_symb`', '`simple_guiding_state`'])"
   ]
  },
  {
   "cell_type": "markdown",
   "id": "b1455ca0",
   "metadata": {
    "cq.autogen": "SimpleGuidingState.call_graph.md"
   },
   "source": [
    "### Call Graph"
   ]
  },
  {
   "cell_type": "code",
   "execution_count": 6,
   "id": "2a289ffd",
   "metadata": {
    "cq.autogen": "SimpleGuidingState.call_graph.py"
   },
   "outputs": [
    {
     "data": {
      "image/svg+xml": [
       "<svg xmlns=\"http://www.w3.org/2000/svg\" xmlns:xlink=\"http://www.w3.org/1999/xlink\" width=\"184pt\" height=\"131pt\" viewBox=\"0.00 0.00 184.00 131.00\">\n",
       "<g id=\"graph0\" class=\"graph\" transform=\"scale(1 1) rotate(0) translate(4 127)\">\n",
       "<title>counts</title>\n",
       "<polygon fill=\"white\" stroke=\"transparent\" points=\"-4,4 -4,-127 180,-127 180,4 -4,4\"/>\n",
       "<!-- b0 -->\n",
       "<g id=\"node1\" class=\"node\">\n",
       "<title>b0</title>\n",
       "<polygon fill=\"none\" stroke=\"black\" points=\"40,-93 40,-116 136,-116 136,-93 40,-93\"/>\n",
       "<text text-anchor=\"start\" x=\"46\" y=\"-102\" font-family=\"Times,serif\" font-size=\"10.00\">SimpleGuidingState</text>\n",
       "</g>\n",
       "<!-- b1 -->\n",
       "<g id=\"node2\" class=\"node\">\n",
       "<title>b1</title>\n",
       "<polygon fill=\"none\" stroke=\"black\" points=\"8,-6 8,-29 168,-29 168,-6 8,-6\"/>\n",
       "<text text-anchor=\"start\" x=\"14.5\" y=\"-15\" font-family=\"Times,serif\" font-size=\"10.00\">SparseStatePreparationViaRotations</text>\n",
       "</g>\n",
       "<!-- b0&#45;&gt;b1 -->\n",
       "<g id=\"edge1\" class=\"edge\">\n",
       "<title>b0-&gt;b1</title>\n",
       "<path fill=\"none\" stroke=\"black\" d=\"M88,-86.8C88,-75.16 88,-59.55 88,-46.24\"/>\n",
       "<polygon fill=\"black\" stroke=\"black\" points=\"91.5,-46.18 88,-36.18 84.5,-46.18 91.5,-46.18\"/>\n",
       "<text text-anchor=\"middle\" x=\"91.5\" y=\"-57.8\" font-family=\"Times,serif\" font-size=\"14.00\">1</text>\n",
       "</g>\n",
       "</g>\n",
       "</svg>"
      ],
      "text/plain": [
       "<IPython.core.display.SVG object>"
      ]
     },
     "metadata": {},
     "output_type": "display_data"
    },
    {
     "data": {
      "text/markdown": [
       "#### Counts totals:\n",
       " - `SparseStatePreparationViaRotations`: 1"
      ],
      "text/plain": [
       "<IPython.core.display.Markdown object>"
      ]
     },
     "metadata": {},
     "output_type": "display_data"
    }
   ],
   "source": [
    "from qualtran.resource_counting.generalizers import ignore_split_join\n",
    "simple_guiding_state_symb_g, simple_guiding_state_symb_sigma = simple_guiding_state_symb.call_graph(max_depth=1, generalizer=ignore_split_join)\n",
    "show_call_graph(simple_guiding_state_symb_g)\n",
    "show_counts_sigma(simple_guiding_state_symb_sigma)"
   ]
  },
  {
   "cell_type": "markdown",
   "id": "ff5356ef",
   "metadata": {
    "cq.autogen": "GuidingState.bloq_doc.md"
   },
   "source": [
    "## `GuidingState`\n",
    "Prepare a guiding state for a kXOR instance with parameter $\\ell$.\n",
    "\n",
    "Given an kXOR instance $\\mathcal{I}$, and parameter $\\ell$ (a multiple of $k$),\n",
    "we want to prepare the unit-length guiding state $|\\mathbb{\\Psi}\\rangle$ (Eq 135):\n",
    "\n",
    "    $$\n",
    "    |\\mathbb{\\Psi}\\rangle\n",
    "    \\propto\n",
    "    |\\Gamma^\\ell(\\mathcal{A})\\rangle\n",
    "    \\propto\n",
    "    \\sum_{T \\in {[n] \\choose \\ell}}\n",
    "    \\sum_{\\{S_1, \\ldots, S_c\\} \\in \\text{Part}_k(T)}\n",
    "    \\left(\n",
    "    \\prod_{j = 1}^c B_{\\mathcal{I}}(S)\n",
    "    \\right)\n",
    "    |T\\rangle\n",
    "    $$\n",
    "\n",
    "This bloq prepares the state (Eq 136):\n",
    "    $$ \\beta |\\mathbb{\\Psi}\\rangle |0^{\\ell \\log \\ell + 3}\\rangle\n",
    "       + |\\perp\\rangle |1\\rangle\n",
    "    $$\n",
    "where $\\beta \\ge \\Omega(1 / \\ell^{\\ell/2})$,\n",
    "and $\\tilde{m}$ is the number of constraints in $\\mathcal{I}$.\n",
    "\n",
    "This has a gate cost of $O(\\ell \\tilde{m} \\log n)$.\n",
    "\n",
    "#### Parameters\n",
    " - `inst`: the kXOR instance $\\mathcal{I}$.\n",
    " - `ell`: the Kikuchi parameter $\\ell$.\n",
    " - `amplitude_good_part`: (optional) the amplitude $\\beta$ of the guiding state $|\\Psi\\rangle$ Defaults to $\\beta = 0.99 / \\ell^{\\ell/2}$.\n",
    " - `eps`: Precision of the prepared state (defaults to 1e-6). \n",
    "\n",
    "#### Registers\n",
    " - `T`: $\\ell$ indices each in $[n]$.\n",
    " - `ancilla`: (entangled) $\\ell\\log\\ell+3$ ancilla qubits used for state preparation. The all zeros state of the ancilla is the good subspace. \n",
    "\n",
    "#### References\n",
    " - [Quartic quantum speedups for planted inference](https://arxiv.org/abs/2406.19378v1). Section 4.4.1 \"Preparing the guiding state\", Theorem 4.15. Eq 136.\n"
   ]
  },
  {
   "cell_type": "code",
   "execution_count": 7,
   "id": "e0cc9892",
   "metadata": {
    "cq.autogen": "GuidingState.bloq_doc.py"
   },
   "outputs": [],
   "source": [
    "from qualtran.bloqs.optimization.k_xor_sat import GuidingState"
   ]
  },
  {
   "cell_type": "markdown",
   "id": "72832b7b",
   "metadata": {
    "cq.autogen": "GuidingState.example_instances.md"
   },
   "source": [
    "### Example Instances"
   ]
  },
  {
   "cell_type": "code",
   "execution_count": 8,
   "id": "5be4da60",
   "metadata": {
    "cq.autogen": "GuidingState.guiding_state_symb_c"
   },
   "outputs": [],
   "source": [
    "import sympy\n",
    "\n",
    "from qualtran.bloqs.optimization.k_xor_sat import KXorInstance\n",
    "\n",
    "n, m, c = sympy.symbols(\"n m c\", positive=True, integer=True)\n",
    "k = sympy.symbols(\"k\", positive=True, integer=True, even=True)\n",
    "inst = KXorInstance.symbolic(n=n, m=m, k=k)\n",
    "guiding_state_symb_c = GuidingState(inst, ell=c * k)"
   ]
  },
  {
   "cell_type": "code",
   "execution_count": 9,
   "id": "716440ae",
   "metadata": {
    "cq.autogen": "GuidingState.guiding_state_symb"
   },
   "outputs": [],
   "source": [
    "import sympy\n",
    "\n",
    "from qualtran.bloqs.optimization.k_xor_sat import KXorInstance\n",
    "\n",
    "n, m, k = sympy.symbols(\"n m k\", positive=True, integer=True)\n",
    "inst = KXorInstance.symbolic(n=n, m=m, k=k)\n",
    "c = 2\n",
    "guiding_state_symb = GuidingState(inst, ell=c * inst.k)"
   ]
  },
  {
   "cell_type": "code",
   "execution_count": 10,
   "id": "4268c839",
   "metadata": {
    "cq.autogen": "GuidingState.guiding_state"
   },
   "outputs": [],
   "source": [
    "from qualtran.bloqs.optimization.k_xor_sat import Constraint, KXorInstance\n",
    "\n",
    "inst = KXorInstance(\n",
    "    n=4,\n",
    "    k=2,\n",
    "    constraints=(\n",
    "        Constraint(S=(0, 1), b=1),\n",
    "        Constraint(S=(2, 3), b=-1),\n",
    "        Constraint(S=(1, 2), b=1),\n",
    "    ),\n",
    ")\n",
    "guiding_state = GuidingState(inst, ell=4)"
   ]
  },
  {
   "cell_type": "markdown",
   "id": "1ac65a7c",
   "metadata": {
    "cq.autogen": "GuidingState.graphical_signature.md"
   },
   "source": [
    "#### Graphical Signature"
   ]
  },
  {
   "cell_type": "code",
   "execution_count": 11,
   "id": "95513b51",
   "metadata": {
    "cq.autogen": "GuidingState.graphical_signature.py"
   },
   "outputs": [
    {
     "data": {
      "application/vnd.jupyter.widget-view+json": {
       "model_id": "45e586b8261e4829905b3635fa729b4f",
       "version_major": 2,
       "version_minor": 0
      },
      "text/plain": [
       "HBox(children=(Output(outputs=({'output_type': 'display_data', 'data': {'text/plain': '<IPython.core.display.M…"
      ]
     },
     "metadata": {},
     "output_type": "display_data"
    }
   ],
   "source": [
    "from qualtran.drawing import show_bloqs\n",
    "show_bloqs([guiding_state_symb_c, guiding_state_symb, guiding_state],\n",
    "           ['`guiding_state_symb_c`', '`guiding_state_symb`', '`guiding_state`'])"
   ]
  },
  {
   "cell_type": "markdown",
   "id": "53f2e5f6",
   "metadata": {
    "cq.autogen": "GuidingState.call_graph.md"
   },
   "source": [
    "### Call Graph"
   ]
  },
  {
   "cell_type": "code",
   "execution_count": 12,
   "id": "6c00e9e4",
   "metadata": {
    "cq.autogen": "GuidingState.call_graph.py"
   },
   "outputs": [
    {
     "data": {
      "image/svg+xml": [
       "<svg xmlns=\"http://www.w3.org/2000/svg\" xmlns:xlink=\"http://www.w3.org/1999/xlink\" width=\"612pt\" height=\"131pt\" viewBox=\"0.00 0.00 612.00 131.00\">\n",
       "<g id=\"graph0\" class=\"graph\" transform=\"scale(1 1) rotate(0) translate(4 127)\">\n",
       "<title>counts</title>\n",
       "<polygon fill=\"white\" stroke=\"transparent\" points=\"-4,4 -4,-127 608,-127 608,4 -4,4\"/>\n",
       "<!-- b0 -->\n",
       "<g id=\"node1\" class=\"node\">\n",
       "<title>b0</title>\n",
       "<polygon fill=\"none\" stroke=\"black\" points=\"298,-93 298,-116 366,-116 366,-93 298,-93\"/>\n",
       "<text text-anchor=\"start\" x=\"304.5\" y=\"-102\" font-family=\"Times,serif\" font-size=\"10.00\">GuidingState</text>\n",
       "</g>\n",
       "<!-- b1 -->\n",
       "<g id=\"node2\" class=\"node\">\n",
       "<title>b1</title>\n",
       "<polygon fill=\"none\" stroke=\"black\" points=\"8,-6 8,-29 104,-29 104,-6 8,-6\"/>\n",
       "<text text-anchor=\"start\" x=\"14\" y=\"-15\" font-family=\"Times,serif\" font-size=\"10.00\">SimpleGuidingState</text>\n",
       "</g>\n",
       "<!-- b0&#45;&gt;b1 -->\n",
       "<g id=\"edge1\" class=\"edge\">\n",
       "<title>b0-&gt;b1</title>\n",
       "<path fill=\"none\" stroke=\"black\" d=\"M289.78,-91C244.95,-77.19 173.51,-55.19 121.39,-39.14\"/>\n",
       "<polygon fill=\"black\" stroke=\"black\" points=\"122.16,-35.71 111.57,-36.11 120.1,-42.4 122.16,-35.71\"/>\n",
       "<text text-anchor=\"middle\" x=\"214.5\" y=\"-57.8\" font-family=\"Times,serif\" font-size=\"14.00\">c</text>\n",
       "</g>\n",
       "<!-- b2 -->\n",
       "<g id=\"node3\" class=\"node\">\n",
       "<title>b2</title>\n",
       "<polygon fill=\"none\" stroke=\"black\" points=\"138,-6 138,-29 198,-29 198,-6 138,-6\"/>\n",
       "<text text-anchor=\"start\" x=\"144.5\" y=\"-15\" font-family=\"Times,serif\" font-size=\"10.00\">SortInPlace</text>\n",
       "</g>\n",
       "<!-- b0&#45;&gt;b2 -->\n",
       "<g id=\"edge2\" class=\"edge\">\n",
       "<title>b0-&gt;b2</title>\n",
       "<path fill=\"none\" stroke=\"black\" d=\"M298.81,-86.8C273.16,-73.51 237.5,-55.02 209.89,-40.71\"/>\n",
       "<polygon fill=\"black\" stroke=\"black\" points=\"211.35,-37.52 200.86,-36.03 208.13,-43.74 211.35,-37.52\"/>\n",
       "<text text-anchor=\"middle\" x=\"263.5\" y=\"-57.8\" font-family=\"Times,serif\" font-size=\"14.00\">1</text>\n",
       "</g>\n",
       "<!-- b3 -->\n",
       "<g id=\"node4\" class=\"node\">\n",
       "<title>b3</title>\n",
       "<polygon fill=\"none\" stroke=\"black\" points=\"232,-6 232,-29 306,-29 306,-6 232,-6\"/>\n",
       "<text text-anchor=\"start\" x=\"238.5\" y=\"-15\" font-family=\"Times,serif\" font-size=\"10.00\">HasDuplicates</text>\n",
       "</g>\n",
       "<!-- b0&#45;&gt;b3 -->\n",
       "<g id=\"edge3\" class=\"edge\">\n",
       "<title>b0-&gt;b3</title>\n",
       "<path fill=\"none\" stroke=\"black\" d=\"M319.25,-86.8C310.2,-74.59 297.9,-57.99 287.74,-44.28\"/>\n",
       "<polygon fill=\"black\" stroke=\"black\" points=\"290.5,-42.13 281.73,-36.18 284.87,-46.29 290.5,-42.13\"/>\n",
       "<text text-anchor=\"middle\" x=\"308.5\" y=\"-57.8\" font-family=\"Times,serif\" font-size=\"14.00\">1</text>\n",
       "</g>\n",
       "<!-- b4 -->\n",
       "<g id=\"node5\" class=\"node\">\n",
       "<title>b4</title>\n",
       "<polygon fill=\"none\" stroke=\"black\" points=\"340,-6 340,-29 452,-29 452,-6 340,-6\"/>\n",
       "<text text-anchor=\"start\" x=\"346\" y=\"-15\" font-family=\"Times,serif\" font-size=\"10.00\">ProbabilisticUncompute</text>\n",
       "</g>\n",
       "<!-- b0&#45;&gt;b4 -->\n",
       "<g id=\"edge4\" class=\"edge\">\n",
       "<title>b0-&gt;b4</title>\n",
       "<path fill=\"none\" stroke=\"black\" d=\"M344.95,-86.8C354.15,-74.59 366.64,-57.99 376.97,-44.28\"/>\n",
       "<polygon fill=\"black\" stroke=\"black\" points=\"379.85,-46.27 383.07,-36.18 374.26,-42.06 379.85,-46.27\"/>\n",
       "<text text-anchor=\"middle\" x=\"371.5\" y=\"-57.8\" font-family=\"Times,serif\" font-size=\"14.00\">1</text>\n",
       "</g>\n",
       "<!-- b5 -->\n",
       "<g id=\"node6\" class=\"node\">\n",
       "<title>b5</title>\n",
       "<polygon fill=\"none\" stroke=\"black\" points=\"488,-6 488,-29 522,-29 522,-6 488,-6\"/>\n",
       "<text text-anchor=\"start\" x=\"494\" y=\"-15\" font-family=\"Times,serif\" font-size=\"10.00\">CCX</text>\n",
       "</g>\n",
       "<!-- b0&#45;&gt;b5 -->\n",
       "<g id=\"edge5\" class=\"edge\">\n",
       "<title>b0-&gt;b5</title>\n",
       "<path fill=\"none\" stroke=\"black\" d=\"M367.01,-86.8C396.59,-72.27 438.79,-51.53 468.73,-36.82\"/>\n",
       "<polygon fill=\"black\" stroke=\"black\" points=\"470.55,-39.83 477.98,-32.28 467.46,-33.54 470.55,-39.83\"/>\n",
       "<text text-anchor=\"middle\" x=\"431.5\" y=\"-57.8\" font-family=\"Times,serif\" font-size=\"14.00\">1</text>\n",
       "</g>\n",
       "<!-- b6 -->\n",
       "<g id=\"node7\" class=\"node\">\n",
       "<title>b6</title>\n",
       "<polygon fill=\"none\" stroke=\"black\" points=\"567,-6 567,-29 587,-29 587,-6 567,-6\"/>\n",
       "<text text-anchor=\"start\" x=\"573\" y=\"-15\" font-family=\"Times,serif\" font-size=\"10.00\">X</text>\n",
       "</g>\n",
       "<!-- b0&#45;&gt;b6 -->\n",
       "<g id=\"edge6\" class=\"edge\">\n",
       "<title>b0-&gt;b6</title>\n",
       "<path fill=\"none\" stroke=\"black\" d=\"M374.19,-91.99C414.72,-80.07 477.73,-60.55 540.05,-36.15\"/>\n",
       "<polygon fill=\"black\" stroke=\"black\" points=\"541.63,-39.29 549.64,-32.36 539.05,-32.78 541.63,-39.29\"/>\n",
       "<text text-anchor=\"middle\" x=\"493.5\" y=\"-57.8\" font-family=\"Times,serif\" font-size=\"14.00\">1</text>\n",
       "</g>\n",
       "</g>\n",
       "</svg>"
      ],
      "text/plain": [
       "<IPython.core.display.SVG object>"
      ]
     },
     "metadata": {},
     "output_type": "display_data"
    },
    {
     "data": {
      "text/markdown": [
       "#### Counts totals:\n",
       " - `CCX`: 1\n",
       " - `HasDuplicates`: 1\n",
       " - `ProbabilisticUncompute`: 1\n",
       " - `SimpleGuidingState`: $\\displaystyle c$\n",
       " - `SortInPlace`: 1\n",
       " - `X`: 1"
      ],
      "text/plain": [
       "<IPython.core.display.Markdown object>"
      ]
     },
     "metadata": {},
     "output_type": "display_data"
    }
   ],
   "source": [
    "from qualtran.resource_counting.generalizers import ignore_split_join\n",
    "guiding_state_symb_c_g, guiding_state_symb_c_sigma = guiding_state_symb_c.call_graph(max_depth=1, generalizer=ignore_split_join)\n",
    "show_call_graph(guiding_state_symb_c_g)\n",
    "show_counts_sigma(guiding_state_symb_c_sigma)"
   ]
  }
 ],
 "metadata": {
  "kernelspec": {
   "display_name": "Python 3",
   "language": "python",
   "name": "python3"
  },
  "language_info": {
   "codemirror_mode": {
    "name": "ipython",
    "version": 3
   },
   "file_extension": ".py",
   "mimetype": "text/x-python",
   "name": "python",
   "nbconvert_exporter": "python",
   "pygments_lexer": "ipython3",
   "version": "3.11.8"
  },
  "widgets": {
   "application/vnd.jupyter.widget-state+json": {
    "state": {
     "244dfa0b44914571b05ec7c07954cbfe": {
      "model_module": "@jupyter-widgets/base",
      "model_module_version": "2.0.0",
      "model_name": "LayoutModel",
      "state": {
       "_model_module": "@jupyter-widgets/base",
       "_model_module_version": "2.0.0",
       "_model_name": "LayoutModel",
       "_view_count": null,
       "_view_module": "@jupyter-widgets/base",
       "_view_module_version": "2.0.0",
       "_view_name": "LayoutView",
       "align_content": null,
       "align_items": null,
       "align_self": null,
       "border_bottom": null,
       "border_left": null,
       "border_right": null,
       "border_top": null,
       "bottom": null,
       "display": null,
       "flex": null,
       "flex_flow": null,
       "grid_area": null,
       "grid_auto_columns": null,
       "grid_auto_flow": null,
       "grid_auto_rows": null,
       "grid_column": null,
       "grid_gap": null,
       "grid_row": null,
       "grid_template_areas": null,
       "grid_template_columns": null,
       "grid_template_rows": null,
       "height": null,
       "justify_content": null,
       "justify_items": null,
       "left": null,
       "margin": null,
       "max_height": null,
       "max_width": null,
       "min_height": null,
       "min_width": null,
       "object_fit": null,
       "object_position": null,
       "order": null,
       "overflow": null,
       "padding": null,
       "right": null,
       "top": null,
       "visibility": null,
       "width": null
      }
     },
     "2aa82c21d9c24e798179ff7a28483aa8": {
      "model_module": "@jupyter-widgets/base",
      "model_module_version": "2.0.0",
      "model_name": "LayoutModel",
      "state": {
       "_model_module": "@jupyter-widgets/base",
       "_model_module_version": "2.0.0",
       "_model_name": "LayoutModel",
       "_view_count": null,
       "_view_module": "@jupyter-widgets/base",
       "_view_module_version": "2.0.0",
       "_view_name": "LayoutView",
       "align_content": null,
       "align_items": null,
       "align_self": null,
       "border_bottom": null,
       "border_left": null,
       "border_right": null,
       "border_top": null,
       "bottom": null,
       "display": null,
       "flex": null,
       "flex_flow": null,
       "grid_area": null,
       "grid_auto_columns": null,
       "grid_auto_flow": null,
       "grid_auto_rows": null,
       "grid_column": null,
       "grid_gap": null,
       "grid_row": null,
       "grid_template_areas": null,
       "grid_template_columns": null,
       "grid_template_rows": null,
       "height": null,
       "justify_content": null,
       "justify_items": null,
       "left": null,
       "margin": null,
       "max_height": null,
       "max_width": null,
       "min_height": null,
       "min_width": null,
       "object_fit": null,
       "object_position": null,
       "order": null,
       "overflow": null,
       "padding": null,
       "right": null,
       "top": null,
       "visibility": null,
       "width": null
      }
     },
     "2d6feae207fa4ea289a9ac47f009acce": {
      "model_module": "@jupyter-widgets/output",
      "model_module_version": "1.0.0",
      "model_name": "OutputModel",
      "state": {
       "_dom_classes": [],
       "_model_module": "@jupyter-widgets/output",
       "_model_module_version": "1.0.0",
       "_model_name": "OutputModel",
       "_view_count": null,
       "_view_module": "@jupyter-widgets/output",
       "_view_module_version": "1.0.0",
       "_view_name": "OutputView",
       "layout": "IPY_MODEL_e607f2aae22d43479aec7156890cbdcd",
       "msg_id": "",
       "outputs": [
        {
         "data": {
          "text/markdown": "`guiding_state_symb`",
          "text/plain": "<IPython.core.display.Markdown object>"
         },
         "metadata": {},
         "output_type": "display_data"
        },
        {
         "data": {
          "image/svg+xml": "<svg xmlns=\"http://www.w3.org/2000/svg\" xmlns:xlink=\"http://www.w3.org/1999/xlink\" width=\"251pt\" height=\"98pt\" viewBox=\"0.00 0.00 251.00 98.00\">\n<g id=\"graph0\" class=\"graph\" transform=\"scale(1 1) rotate(0) translate(4 94)\">\n<title>my_graph</title>\n<polygon fill=\"white\" stroke=\"transparent\" points=\"-4,4 -4,-94 247,-94 247,4 -4,4\"/>\n<!-- T_G3 -->\n<g id=\"node1\" class=\"node\">\n<title>T_G3</title>\n<text text-anchor=\"middle\" x=\"27\" y=\"-68.3\" font-family=\"Times,serif\" font-size=\"14.00\">T</text>\n</g>\n<!-- GuidingState -->\n<g id=\"node3\" class=\"node\">\n<title>GuidingState</title>\n<polygon fill=\"none\" stroke=\"black\" points=\"91.5,-66 91.5,-83 152.5,-83 152.5,-66 91.5,-66\"/>\n<text text-anchor=\"start\" x=\"94.5\" y=\"-72\" font-family=\"Times,serif\" font-size=\"10.00\">GuidingState</text>\n<polygon fill=\"none\" stroke=\"black\" points=\"91.5,-45 91.5,-66 152.5,-66 152.5,-45 91.5,-45\"/>\n<text text-anchor=\"start\" x=\"117.5\" y=\"-51.8\" font-family=\"Times,serif\" font-size=\"14.00\">T</text>\n<polygon fill=\"none\" stroke=\"black\" points=\"91.5,-24 91.5,-45 152.5,-45 152.5,-24 91.5,-24\"/>\n<text text-anchor=\"start\" x=\"103.5\" y=\"-30.8\" font-family=\"Times,serif\" font-size=\"14.00\">ancilla</text>\n</g>\n<!-- T_G3&#45;&gt;GuidingState -->\n<g id=\"edge1\" class=\"edge\">\n<title>T_G3:e-&gt;GuidingState:w</title>\n<path fill=\"none\" stroke=\"black\" d=\"M54,-72C71.22,-72 72.97,-57.23 88.98,-56.07\"/>\n<ellipse fill=\"black\" stroke=\"black\" cx=\"90\" cy=\"-56.04\" rx=\"1\" ry=\"1\"/>\n<text text-anchor=\"middle\" x=\"72.5\" y=\"-67\" font-family=\"Times,serif\" font-size=\"10.00\">2*k*ceiling(log2(n))</text>\n</g>\n<!-- ancilla_G4 -->\n<g id=\"node2\" class=\"node\">\n<title>ancilla_G4</title>\n<text text-anchor=\"middle\" x=\"27\" y=\"-14.3\" font-family=\"Times,serif\" font-size=\"14.00\">ancilla</text>\n</g>\n<!-- ancilla_G4&#45;&gt;GuidingState -->\n<g id=\"edge2\" class=\"edge\">\n<title>ancilla_G4:e-&gt;GuidingState:w</title>\n<path fill=\"none\" stroke=\"black\" d=\"M54,-18C71.22,-18 72.97,-32.77 88.98,-33.93\"/>\n<ellipse fill=\"black\" stroke=\"black\" cx=\"90\" cy=\"-33.96\" rx=\"1\" ry=\"1\"/>\n<text text-anchor=\"middle\" x=\"72.5\" y=\"-29\" font-family=\"Times,serif\" font-size=\"10.00\">2*k*ceiling(log2(2*k)) + 3</text>\n</g>\n<!-- T_G0 -->\n<g id=\"node4\" class=\"node\">\n<title>T_G0</title>\n<text text-anchor=\"middle\" x=\"216\" y=\"-68.3\" font-family=\"Times,serif\" font-size=\"14.00\">T</text>\n</g>\n<!-- GuidingState&#45;&gt;T_G0 -->\n<g id=\"edge3\" class=\"edge\">\n<title>GuidingState:e-&gt;T_G0:w</title>\n<path fill=\"none\" stroke=\"black\" d=\"M152,-56C169.22,-56 170.97,-70.77 186.98,-71.93\"/>\n<ellipse fill=\"black\" stroke=\"black\" cx=\"188\" cy=\"-71.96\" rx=\"1\" ry=\"1\"/>\n<text text-anchor=\"middle\" x=\"170.5\" y=\"-67\" font-family=\"Times,serif\" font-size=\"10.00\">2*k*ceiling(log2(n))</text>\n</g>\n<!-- ancilla_G1 -->\n<g id=\"node5\" class=\"node\">\n<title>ancilla_G1</title>\n<text text-anchor=\"middle\" x=\"216\" y=\"-14.3\" font-family=\"Times,serif\" font-size=\"14.00\">ancilla</text>\n</g>\n<!-- GuidingState&#45;&gt;ancilla_G1 -->\n<g id=\"edge4\" class=\"edge\">\n<title>GuidingState:e-&gt;ancilla_G1:w</title>\n<path fill=\"none\" stroke=\"black\" d=\"M152,-34C169.22,-34 170.97,-19.23 186.98,-18.07\"/>\n<ellipse fill=\"black\" stroke=\"black\" cx=\"188\" cy=\"-18.04\" rx=\"1\" ry=\"1\"/>\n<text text-anchor=\"middle\" x=\"170.5\" y=\"-29\" font-family=\"Times,serif\" font-size=\"10.00\">2*k*ceiling(log2(2*k)) + 3</text>\n</g>\n</g>\n</svg>",
          "text/plain": "<IPython.core.display.SVG object>"
         },
         "metadata": {},
         "output_type": "display_data"
        }
       ],
       "tabbable": null,
       "tooltip": null
      }
     },
     "45e586b8261e4829905b3635fa729b4f": {
      "model_module": "@jupyter-widgets/controls",
      "model_module_version": "2.0.0",
      "model_name": "HBoxModel",
      "state": {
       "_dom_classes": [],
       "_model_module": "@jupyter-widgets/controls",
       "_model_module_version": "2.0.0",
       "_model_name": "HBoxModel",
       "_view_count": null,
       "_view_module": "@jupyter-widgets/controls",
       "_view_module_version": "2.0.0",
       "_view_name": "HBoxView",
       "box_style": "",
       "children": [
        "IPY_MODEL_d1ac13bcb43443cb8e37347ba3ca7590",
        "IPY_MODEL_2d6feae207fa4ea289a9ac47f009acce",
        "IPY_MODEL_e85b70e5147e43cd970398988628bfd5"
       ],
       "layout": "IPY_MODEL_244dfa0b44914571b05ec7c07954cbfe",
       "tabbable": null,
       "tooltip": null
      }
     },
     "48ea4071433d481b96ee428b4206d56c": {
      "model_module": "@jupyter-widgets/base",
      "model_module_version": "2.0.0",
      "model_name": "LayoutModel",
      "state": {
       "_model_module": "@jupyter-widgets/base",
       "_model_module_version": "2.0.0",
       "_model_name": "LayoutModel",
       "_view_count": null,
       "_view_module": "@jupyter-widgets/base",
       "_view_module_version": "2.0.0",
       "_view_name": "LayoutView",
       "align_content": null,
       "align_items": null,
       "align_self": null,
       "border_bottom": null,
       "border_left": null,
       "border_right": null,
       "border_top": null,
       "bottom": null,
       "display": null,
       "flex": null,
       "flex_flow": null,
       "grid_area": null,
       "grid_auto_columns": null,
       "grid_auto_flow": null,
       "grid_auto_rows": null,
       "grid_column": null,
       "grid_gap": null,
       "grid_row": null,
       "grid_template_areas": null,
       "grid_template_columns": null,
       "grid_template_rows": null,
       "height": null,
       "justify_content": null,
       "justify_items": null,
       "left": null,
       "margin": null,
       "max_height": null,
       "max_width": null,
       "min_height": null,
       "min_width": null,
       "object_fit": null,
       "object_position": null,
       "order": null,
       "overflow": null,
       "padding": null,
       "right": null,
       "top": null,
       "visibility": null,
       "width": null
      }
     },
     "7d7fb8e6d8494362bb6ba1adec740f78": {
      "model_module": "@jupyter-widgets/output",
      "model_module_version": "1.0.0",
      "model_name": "OutputModel",
      "state": {
       "_dom_classes": [],
       "_model_module": "@jupyter-widgets/output",
       "_model_module_version": "1.0.0",
       "_model_name": "OutputModel",
       "_view_count": null,
       "_view_module": "@jupyter-widgets/output",
       "_view_module_version": "1.0.0",
       "_view_name": "OutputView",
       "layout": "IPY_MODEL_c01c500be477436ebd2dbebd8e0ad45e",
       "msg_id": "",
       "outputs": [
        {
         "data": {
          "text/markdown": "`simple_guiding_state_symb`",
          "text/plain": "<IPython.core.display.Markdown object>"
         },
         "metadata": {},
         "output_type": "display_data"
        },
        {
         "data": {
          "image/svg+xml": "<svg xmlns=\"http://www.w3.org/2000/svg\" xmlns:xlink=\"http://www.w3.org/1999/xlink\" width=\"280pt\" height=\"54pt\" viewBox=\"0.00 0.00 280.00 54.00\">\n<g id=\"graph0\" class=\"graph\" transform=\"scale(1 1) rotate(0) translate(4 50)\">\n<title>my_graph</title>\n<polygon fill=\"white\" stroke=\"transparent\" points=\"-4,4 -4,-50 276,-50 276,4 -4,4\"/>\n<!-- S_G1 -->\n<g id=\"node1\" class=\"node\">\n<title>S_G1</title>\n<text text-anchor=\"middle\" x=\"27\" y=\"-14.3\" font-family=\"Times,serif\" font-size=\"14.00\">S</text>\n</g>\n<!-- SimpleGuidingState -->\n<g id=\"node2\" class=\"node\">\n<title>SimpleGuidingState</title>\n<polygon fill=\"none\" stroke=\"black\" points=\"91,-29 91,-46 181,-46 181,-29 91,-29\"/>\n<text text-anchor=\"start\" x=\"94\" y=\"-35\" font-family=\"Times,serif\" font-size=\"10.00\">SimpleGuidingState</text>\n<polygon fill=\"none\" stroke=\"black\" points=\"91,-8 91,-29 181,-29 181,-8 91,-8\"/>\n<text text-anchor=\"start\" x=\"132\" y=\"-14.8\" font-family=\"Times,serif\" font-size=\"14.00\">S</text>\n</g>\n<!-- S_G1&#45;&gt;SimpleGuidingState -->\n<g id=\"edge1\" class=\"edge\">\n<title>S_G1:e-&gt;SimpleGuidingState:w</title>\n<path fill=\"none\" stroke=\"black\" d=\"M54,-18C69.67,-18 74.14,-18 88.77,-18\"/>\n<ellipse fill=\"black\" stroke=\"black\" cx=\"90\" cy=\"-18\" rx=\"1\" ry=\"1\"/>\n<text text-anchor=\"middle\" x=\"72.5\" y=\"-21\" font-family=\"Times,serif\" font-size=\"10.00\">k*ceiling(log2(n))</text>\n</g>\n<!-- S_G0 -->\n<g id=\"node3\" class=\"node\">\n<title>S_G0</title>\n<text text-anchor=\"middle\" x=\"245\" y=\"-14.3\" font-family=\"Times,serif\" font-size=\"14.00\">S</text>\n</g>\n<!-- SimpleGuidingState&#45;&gt;S_G0 -->\n<g id=\"edge2\" class=\"edge\">\n<title>SimpleGuidingState:e-&gt;S_G0:w</title>\n<path fill=\"none\" stroke=\"black\" d=\"M181,-18C196.67,-18 201.14,-18 215.77,-18\"/>\n<ellipse fill=\"black\" stroke=\"black\" cx=\"217\" cy=\"-18\" rx=\"1\" ry=\"1\"/>\n<text text-anchor=\"middle\" x=\"199.5\" y=\"-21\" font-family=\"Times,serif\" font-size=\"10.00\">k*ceiling(log2(n))</text>\n</g>\n</g>\n</svg>",
          "text/plain": "<IPython.core.display.SVG object>"
         },
         "metadata": {},
         "output_type": "display_data"
        }
       ],
       "tabbable": null,
       "tooltip": null
      }
     },
     "8150afb922cf4b0eb7a84482a220c006": {
      "model_module": "@jupyter-widgets/controls",
      "model_module_version": "2.0.0",
      "model_name": "HBoxModel",
      "state": {
       "_dom_classes": [],
       "_model_module": "@jupyter-widgets/controls",
       "_model_module_version": "2.0.0",
       "_model_name": "HBoxModel",
       "_view_count": null,
       "_view_module": "@jupyter-widgets/controls",
       "_view_module_version": "2.0.0",
       "_view_name": "HBoxView",
       "box_style": "",
       "children": [
        "IPY_MODEL_7d7fb8e6d8494362bb6ba1adec740f78",
        "IPY_MODEL_c978e004f3684ca1ba804db86970abd9"
       ],
       "layout": "IPY_MODEL_8c69cfedf3d141be92d54507d5f8f257",
       "tabbable": null,
       "tooltip": null
      }
     },
     "8c69cfedf3d141be92d54507d5f8f257": {
      "model_module": "@jupyter-widgets/base",
      "model_module_version": "2.0.0",
      "model_name": "LayoutModel",
      "state": {
       "_model_module": "@jupyter-widgets/base",
       "_model_module_version": "2.0.0",
       "_model_name": "LayoutModel",
       "_view_count": null,
       "_view_module": "@jupyter-widgets/base",
       "_view_module_version": "2.0.0",
       "_view_name": "LayoutView",
       "align_content": null,
       "align_items": null,
       "align_self": null,
       "border_bottom": null,
       "border_left": null,
       "border_right": null,
       "border_top": null,
       "bottom": null,
       "display": null,
       "flex": null,
       "flex_flow": null,
       "grid_area": null,
       "grid_auto_columns": null,
       "grid_auto_flow": null,
       "grid_auto_rows": null,
       "grid_column": null,
       "grid_gap": null,
       "grid_row": null,
       "grid_template_areas": null,
       "grid_template_columns": null,
       "grid_template_rows": null,
       "height": null,
       "justify_content": null,
       "justify_items": null,
       "left": null,
       "margin": null,
       "max_height": null,
       "max_width": null,
       "min_height": null,
       "min_width": null,
       "object_fit": null,
       "object_position": null,
       "order": null,
       "overflow": null,
       "padding": null,
       "right": null,
       "top": null,
       "visibility": null,
       "width": null
      }
     },
     "c01c500be477436ebd2dbebd8e0ad45e": {
      "model_module": "@jupyter-widgets/base",
      "model_module_version": "2.0.0",
      "model_name": "LayoutModel",
      "state": {
       "_model_module": "@jupyter-widgets/base",
       "_model_module_version": "2.0.0",
       "_model_name": "LayoutModel",
       "_view_count": null,
       "_view_module": "@jupyter-widgets/base",
       "_view_module_version": "2.0.0",
       "_view_name": "LayoutView",
       "align_content": null,
       "align_items": null,
       "align_self": null,
       "border_bottom": null,
       "border_left": null,
       "border_right": null,
       "border_top": null,
       "bottom": null,
       "display": null,
       "flex": null,
       "flex_flow": null,
       "grid_area": null,
       "grid_auto_columns": null,
       "grid_auto_flow": null,
       "grid_auto_rows": null,
       "grid_column": null,
       "grid_gap": null,
       "grid_row": null,
       "grid_template_areas": null,
       "grid_template_columns": null,
       "grid_template_rows": null,
       "height": null,
       "justify_content": null,
       "justify_items": null,
       "left": null,
       "margin": null,
       "max_height": null,
       "max_width": null,
       "min_height": null,
       "min_width": null,
       "object_fit": null,
       "object_position": null,
       "order": null,
       "overflow": null,
       "padding": null,
       "right": null,
       "top": null,
       "visibility": null,
       "width": null
      }
     },
     "c978e004f3684ca1ba804db86970abd9": {
      "model_module": "@jupyter-widgets/output",
      "model_module_version": "1.0.0",
      "model_name": "OutputModel",
      "state": {
       "_dom_classes": [],
       "_model_module": "@jupyter-widgets/output",
       "_model_module_version": "1.0.0",
       "_model_name": "OutputModel",
       "_view_count": null,
       "_view_module": "@jupyter-widgets/output",
       "_view_module_version": "1.0.0",
       "_view_name": "OutputView",
       "layout": "IPY_MODEL_2aa82c21d9c24e798179ff7a28483aa8",
       "msg_id": "",
       "outputs": [
        {
         "data": {
          "text/markdown": "`simple_guiding_state`",
          "text/plain": "<IPython.core.display.Markdown object>"
         },
         "metadata": {},
         "output_type": "display_data"
        },
        {
         "data": {
          "image/svg+xml": "<svg xmlns=\"http://www.w3.org/2000/svg\" xmlns:xlink=\"http://www.w3.org/1999/xlink\" width=\"280pt\" height=\"54pt\" viewBox=\"0.00 0.00 280.00 54.00\">\n<g id=\"graph0\" class=\"graph\" transform=\"scale(1 1) rotate(0) translate(4 50)\">\n<title>my_graph</title>\n<polygon fill=\"white\" stroke=\"transparent\" points=\"-4,4 -4,-50 276,-50 276,4 -4,4\"/>\n<!-- S_G1 -->\n<g id=\"node1\" class=\"node\">\n<title>S_G1</title>\n<text text-anchor=\"middle\" x=\"27\" y=\"-14.3\" font-family=\"Times,serif\" font-size=\"14.00\">S</text>\n</g>\n<!-- SimpleGuidingState -->\n<g id=\"node2\" class=\"node\">\n<title>SimpleGuidingState</title>\n<polygon fill=\"none\" stroke=\"black\" points=\"91,-29 91,-46 181,-46 181,-29 91,-29\"/>\n<text text-anchor=\"start\" x=\"94\" y=\"-35\" font-family=\"Times,serif\" font-size=\"10.00\">SimpleGuidingState</text>\n<polygon fill=\"none\" stroke=\"black\" points=\"91,-8 91,-29 181,-29 181,-8 91,-8\"/>\n<text text-anchor=\"start\" x=\"132\" y=\"-14.8\" font-family=\"Times,serif\" font-size=\"14.00\">S</text>\n</g>\n<!-- S_G1&#45;&gt;SimpleGuidingState -->\n<g id=\"edge1\" class=\"edge\">\n<title>S_G1:e-&gt;SimpleGuidingState:w</title>\n<path fill=\"none\" stroke=\"black\" d=\"M54,-18C69.67,-18 74.14,-18 88.77,-18\"/>\n<ellipse fill=\"black\" stroke=\"black\" cx=\"90\" cy=\"-18\" rx=\"1\" ry=\"1\"/>\n<text text-anchor=\"middle\" x=\"72.5\" y=\"-21\" font-family=\"Times,serif\" font-size=\"10.00\">4</text>\n</g>\n<!-- S_G0 -->\n<g id=\"node3\" class=\"node\">\n<title>S_G0</title>\n<text text-anchor=\"middle\" x=\"245\" y=\"-14.3\" font-family=\"Times,serif\" font-size=\"14.00\">S</text>\n</g>\n<!-- SimpleGuidingState&#45;&gt;S_G0 -->\n<g id=\"edge2\" class=\"edge\">\n<title>SimpleGuidingState:e-&gt;S_G0:w</title>\n<path fill=\"none\" stroke=\"black\" d=\"M181,-18C196.67,-18 201.14,-18 215.77,-18\"/>\n<ellipse fill=\"black\" stroke=\"black\" cx=\"217\" cy=\"-18\" rx=\"1\" ry=\"1\"/>\n<text text-anchor=\"middle\" x=\"199.5\" y=\"-21\" font-family=\"Times,serif\" font-size=\"10.00\">4</text>\n</g>\n</g>\n</svg>",
          "text/plain": "<IPython.core.display.SVG object>"
         },
         "metadata": {},
         "output_type": "display_data"
        }
       ],
       "tabbable": null,
       "tooltip": null
      }
     },
     "d1ac13bcb43443cb8e37347ba3ca7590": {
      "model_module": "@jupyter-widgets/output",
      "model_module_version": "1.0.0",
      "model_name": "OutputModel",
      "state": {
       "_dom_classes": [],
       "_model_module": "@jupyter-widgets/output",
       "_model_module_version": "1.0.0",
       "_model_name": "OutputModel",
       "_view_count": null,
       "_view_module": "@jupyter-widgets/output",
       "_view_module_version": "1.0.0",
       "_view_name": "OutputView",
       "layout": "IPY_MODEL_eedcad6803364f34a49910c780453c78",
       "msg_id": "",
       "outputs": [
        {
         "data": {
          "text/markdown": "`guiding_state_symb_c`",
          "text/plain": "<IPython.core.display.Markdown object>"
         },
         "metadata": {},
         "output_type": "display_data"
        },
        {
         "data": {
          "image/svg+xml": "<svg xmlns=\"http://www.w3.org/2000/svg\" xmlns:xlink=\"http://www.w3.org/1999/xlink\" width=\"251pt\" height=\"98pt\" viewBox=\"0.00 0.00 251.00 98.00\">\n<g id=\"graph0\" class=\"graph\" transform=\"scale(1 1) rotate(0) translate(4 94)\">\n<title>my_graph</title>\n<polygon fill=\"white\" stroke=\"transparent\" points=\"-4,4 -4,-94 247,-94 247,4 -4,4\"/>\n<!-- T_G0 -->\n<g id=\"node1\" class=\"node\">\n<title>T_G0</title>\n<text text-anchor=\"middle\" x=\"27\" y=\"-68.3\" font-family=\"Times,serif\" font-size=\"14.00\">T</text>\n</g>\n<!-- GuidingState -->\n<g id=\"node3\" class=\"node\">\n<title>GuidingState</title>\n<polygon fill=\"none\" stroke=\"black\" points=\"91.5,-66 91.5,-83 152.5,-83 152.5,-66 91.5,-66\"/>\n<text text-anchor=\"start\" x=\"94.5\" y=\"-72\" font-family=\"Times,serif\" font-size=\"10.00\">GuidingState</text>\n<polygon fill=\"none\" stroke=\"black\" points=\"91.5,-45 91.5,-66 152.5,-66 152.5,-45 91.5,-45\"/>\n<text text-anchor=\"start\" x=\"117.5\" y=\"-51.8\" font-family=\"Times,serif\" font-size=\"14.00\">T</text>\n<polygon fill=\"none\" stroke=\"black\" points=\"91.5,-24 91.5,-45 152.5,-45 152.5,-24 91.5,-24\"/>\n<text text-anchor=\"start\" x=\"103.5\" y=\"-30.8\" font-family=\"Times,serif\" font-size=\"14.00\">ancilla</text>\n</g>\n<!-- T_G0&#45;&gt;GuidingState -->\n<g id=\"edge1\" class=\"edge\">\n<title>T_G0:e-&gt;GuidingState:w</title>\n<path fill=\"none\" stroke=\"black\" d=\"M54,-72C71.22,-72 72.97,-57.23 88.98,-56.07\"/>\n<ellipse fill=\"black\" stroke=\"black\" cx=\"90\" cy=\"-56.04\" rx=\"1\" ry=\"1\"/>\n<text text-anchor=\"middle\" x=\"72.5\" y=\"-67\" font-family=\"Times,serif\" font-size=\"10.00\">c*k*ceiling(log2(n))</text>\n</g>\n<!-- ancilla_G4 -->\n<g id=\"node2\" class=\"node\">\n<title>ancilla_G4</title>\n<text text-anchor=\"middle\" x=\"27\" y=\"-14.3\" font-family=\"Times,serif\" font-size=\"14.00\">ancilla</text>\n</g>\n<!-- ancilla_G4&#45;&gt;GuidingState -->\n<g id=\"edge2\" class=\"edge\">\n<title>ancilla_G4:e-&gt;GuidingState:w</title>\n<path fill=\"none\" stroke=\"black\" d=\"M54,-18C71.22,-18 72.97,-32.77 88.98,-33.93\"/>\n<ellipse fill=\"black\" stroke=\"black\" cx=\"90\" cy=\"-33.96\" rx=\"1\" ry=\"1\"/>\n<text text-anchor=\"middle\" x=\"72.5\" y=\"-29\" font-family=\"Times,serif\" font-size=\"10.00\">c*k*ceiling(log2(c*k)) + 3</text>\n</g>\n<!-- T_G3 -->\n<g id=\"node4\" class=\"node\">\n<title>T_G3</title>\n<text text-anchor=\"middle\" x=\"216\" y=\"-68.3\" font-family=\"Times,serif\" font-size=\"14.00\">T</text>\n</g>\n<!-- GuidingState&#45;&gt;T_G3 -->\n<g id=\"edge3\" class=\"edge\">\n<title>GuidingState:e-&gt;T_G3:w</title>\n<path fill=\"none\" stroke=\"black\" d=\"M152,-56C169.22,-56 170.97,-70.77 186.98,-71.93\"/>\n<ellipse fill=\"black\" stroke=\"black\" cx=\"188\" cy=\"-71.96\" rx=\"1\" ry=\"1\"/>\n<text text-anchor=\"middle\" x=\"170.5\" y=\"-67\" font-family=\"Times,serif\" font-size=\"10.00\">c*k*ceiling(log2(n))</text>\n</g>\n<!-- ancilla_G2 -->\n<g id=\"node5\" class=\"node\">\n<title>ancilla_G2</title>\n<text text-anchor=\"middle\" x=\"216\" y=\"-14.3\" font-family=\"Times,serif\" font-size=\"14.00\">ancilla</text>\n</g>\n<!-- GuidingState&#45;&gt;ancilla_G2 -->\n<g id=\"edge4\" class=\"edge\">\n<title>GuidingState:e-&gt;ancilla_G2:w</title>\n<path fill=\"none\" stroke=\"black\" d=\"M152,-34C169.22,-34 170.97,-19.23 186.98,-18.07\"/>\n<ellipse fill=\"black\" stroke=\"black\" cx=\"188\" cy=\"-18.04\" rx=\"1\" ry=\"1\"/>\n<text text-anchor=\"middle\" x=\"170.5\" y=\"-29\" font-family=\"Times,serif\" font-size=\"10.00\">c*k*ceiling(log2(c*k)) + 3</text>\n</g>\n</g>\n</svg>",
          "text/plain": "<IPython.core.display.SVG object>"
         },
         "metadata": {},
         "output_type": "display_data"
        }
       ],
       "tabbable": null,
       "tooltip": null
      }
     },
     "e607f2aae22d43479aec7156890cbdcd": {
      "model_module": "@jupyter-widgets/base",
      "model_module_version": "2.0.0",
      "model_name": "LayoutModel",
      "state": {
       "_model_module": "@jupyter-widgets/base",
       "_model_module_version": "2.0.0",
       "_model_name": "LayoutModel",
       "_view_count": null,
       "_view_module": "@jupyter-widgets/base",
       "_view_module_version": "2.0.0",
       "_view_name": "LayoutView",
       "align_content": null,
       "align_items": null,
       "align_self": null,
       "border_bottom": null,
       "border_left": null,
       "border_right": null,
       "border_top": null,
       "bottom": null,
       "display": null,
       "flex": null,
       "flex_flow": null,
       "grid_area": null,
       "grid_auto_columns": null,
       "grid_auto_flow": null,
       "grid_auto_rows": null,
       "grid_column": null,
       "grid_gap": null,
       "grid_row": null,
       "grid_template_areas": null,
       "grid_template_columns": null,
       "grid_template_rows": null,
       "height": null,
       "justify_content": null,
       "justify_items": null,
       "left": null,
       "margin": null,
       "max_height": null,
       "max_width": null,
       "min_height": null,
       "min_width": null,
       "object_fit": null,
       "object_position": null,
       "order": null,
       "overflow": null,
       "padding": null,
       "right": null,
       "top": null,
       "visibility": null,
       "width": null
      }
     },
     "e85b70e5147e43cd970398988628bfd5": {
      "model_module": "@jupyter-widgets/output",
      "model_module_version": "1.0.0",
      "model_name": "OutputModel",
      "state": {
       "_dom_classes": [],
       "_model_module": "@jupyter-widgets/output",
       "_model_module_version": "1.0.0",
       "_model_name": "OutputModel",
       "_view_count": null,
       "_view_module": "@jupyter-widgets/output",
       "_view_module_version": "1.0.0",
       "_view_name": "OutputView",
       "layout": "IPY_MODEL_48ea4071433d481b96ee428b4206d56c",
       "msg_id": "",
       "outputs": [
        {
         "data": {
          "text/markdown": "`guiding_state`",
          "text/plain": "<IPython.core.display.Markdown object>"
         },
         "metadata": {},
         "output_type": "display_data"
        },
        {
         "data": {
          "image/svg+xml": "<svg xmlns=\"http://www.w3.org/2000/svg\" xmlns:xlink=\"http://www.w3.org/1999/xlink\" width=\"251pt\" height=\"98pt\" viewBox=\"0.00 0.00 251.00 98.00\">\n<g id=\"graph0\" class=\"graph\" transform=\"scale(1 1) rotate(0) translate(4 94)\">\n<title>my_graph</title>\n<polygon fill=\"white\" stroke=\"transparent\" points=\"-4,4 -4,-94 247,-94 247,4 -4,4\"/>\n<!-- T_G3 -->\n<g id=\"node1\" class=\"node\">\n<title>T_G3</title>\n<text text-anchor=\"middle\" x=\"27\" y=\"-68.3\" font-family=\"Times,serif\" font-size=\"14.00\">T</text>\n</g>\n<!-- GuidingState -->\n<g id=\"node3\" class=\"node\">\n<title>GuidingState</title>\n<polygon fill=\"none\" stroke=\"black\" points=\"91.5,-66 91.5,-83 152.5,-83 152.5,-66 91.5,-66\"/>\n<text text-anchor=\"start\" x=\"94.5\" y=\"-72\" font-family=\"Times,serif\" font-size=\"10.00\">GuidingState</text>\n<polygon fill=\"none\" stroke=\"black\" points=\"91.5,-45 91.5,-66 152.5,-66 152.5,-45 91.5,-45\"/>\n<text text-anchor=\"start\" x=\"117.5\" y=\"-51.8\" font-family=\"Times,serif\" font-size=\"14.00\">T</text>\n<polygon fill=\"none\" stroke=\"black\" points=\"91.5,-24 91.5,-45 152.5,-45 152.5,-24 91.5,-24\"/>\n<text text-anchor=\"start\" x=\"103.5\" y=\"-30.8\" font-family=\"Times,serif\" font-size=\"14.00\">ancilla</text>\n</g>\n<!-- T_G3&#45;&gt;GuidingState -->\n<g id=\"edge1\" class=\"edge\">\n<title>T_G3:e-&gt;GuidingState:w</title>\n<path fill=\"none\" stroke=\"black\" d=\"M54,-72C71.22,-72 72.97,-57.23 88.98,-56.07\"/>\n<ellipse fill=\"black\" stroke=\"black\" cx=\"90\" cy=\"-56.04\" rx=\"1\" ry=\"1\"/>\n<text text-anchor=\"middle\" x=\"72.5\" y=\"-67\" font-family=\"Times,serif\" font-size=\"10.00\">8</text>\n</g>\n<!-- ancilla_G4 -->\n<g id=\"node2\" class=\"node\">\n<title>ancilla_G4</title>\n<text text-anchor=\"middle\" x=\"27\" y=\"-14.3\" font-family=\"Times,serif\" font-size=\"14.00\">ancilla</text>\n</g>\n<!-- ancilla_G4&#45;&gt;GuidingState -->\n<g id=\"edge2\" class=\"edge\">\n<title>ancilla_G4:e-&gt;GuidingState:w</title>\n<path fill=\"none\" stroke=\"black\" d=\"M54,-18C71.22,-18 72.97,-32.77 88.98,-33.93\"/>\n<ellipse fill=\"black\" stroke=\"black\" cx=\"90\" cy=\"-33.96\" rx=\"1\" ry=\"1\"/>\n<text text-anchor=\"middle\" x=\"72.5\" y=\"-29\" font-family=\"Times,serif\" font-size=\"10.00\">11</text>\n</g>\n<!-- T_G1 -->\n<g id=\"node4\" class=\"node\">\n<title>T_G1</title>\n<text text-anchor=\"middle\" x=\"216\" y=\"-68.3\" font-family=\"Times,serif\" font-size=\"14.00\">T</text>\n</g>\n<!-- GuidingState&#45;&gt;T_G1 -->\n<g id=\"edge3\" class=\"edge\">\n<title>GuidingState:e-&gt;T_G1:w</title>\n<path fill=\"none\" stroke=\"black\" d=\"M152,-56C169.22,-56 170.97,-70.77 186.98,-71.93\"/>\n<ellipse fill=\"black\" stroke=\"black\" cx=\"188\" cy=\"-71.96\" rx=\"1\" ry=\"1\"/>\n<text text-anchor=\"middle\" x=\"170.5\" y=\"-67\" font-family=\"Times,serif\" font-size=\"10.00\">8</text>\n</g>\n<!-- ancilla_G2 -->\n<g id=\"node5\" class=\"node\">\n<title>ancilla_G2</title>\n<text text-anchor=\"middle\" x=\"216\" y=\"-14.3\" font-family=\"Times,serif\" font-size=\"14.00\">ancilla</text>\n</g>\n<!-- GuidingState&#45;&gt;ancilla_G2 -->\n<g id=\"edge4\" class=\"edge\">\n<title>GuidingState:e-&gt;ancilla_G2:w</title>\n<path fill=\"none\" stroke=\"black\" d=\"M152,-34C169.22,-34 170.97,-19.23 186.98,-18.07\"/>\n<ellipse fill=\"black\" stroke=\"black\" cx=\"188\" cy=\"-18.04\" rx=\"1\" ry=\"1\"/>\n<text text-anchor=\"middle\" x=\"170.5\" y=\"-29\" font-family=\"Times,serif\" font-size=\"10.00\">11</text>\n</g>\n</g>\n</svg>",
          "text/plain": "<IPython.core.display.SVG object>"
         },
         "metadata": {},
         "output_type": "display_data"
        }
       ],
       "tabbable": null,
       "tooltip": null
      }
     },
     "eedcad6803364f34a49910c780453c78": {
      "model_module": "@jupyter-widgets/base",
      "model_module_version": "2.0.0",
      "model_name": "LayoutModel",
      "state": {
       "_model_module": "@jupyter-widgets/base",
       "_model_module_version": "2.0.0",
       "_model_name": "LayoutModel",
       "_view_count": null,
       "_view_module": "@jupyter-widgets/base",
       "_view_module_version": "2.0.0",
       "_view_name": "LayoutView",
       "align_content": null,
       "align_items": null,
       "align_self": null,
       "border_bottom": null,
       "border_left": null,
       "border_right": null,
       "border_top": null,
       "bottom": null,
       "display": null,
       "flex": null,
       "flex_flow": null,
       "grid_area": null,
       "grid_auto_columns": null,
       "grid_auto_flow": null,
       "grid_auto_rows": null,
       "grid_column": null,
       "grid_gap": null,
       "grid_row": null,
       "grid_template_areas": null,
       "grid_template_columns": null,
       "grid_template_rows": null,
       "height": null,
       "justify_content": null,
       "justify_items": null,
       "left": null,
       "margin": null,
       "max_height": null,
       "max_width": null,
       "min_height": null,
       "min_width": null,
       "object_fit": null,
       "object_position": null,
       "order": null,
       "overflow": null,
       "padding": null,
       "right": null,
       "top": null,
       "visibility": null,
       "width": null
      }
     }
    },
    "version_major": 2,
    "version_minor": 0
   }
  }
 },
 "nbformat": 4,
 "nbformat_minor": 5
}
