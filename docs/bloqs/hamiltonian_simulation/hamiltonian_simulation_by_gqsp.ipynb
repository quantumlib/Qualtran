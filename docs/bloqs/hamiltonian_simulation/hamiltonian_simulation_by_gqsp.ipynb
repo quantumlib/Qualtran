{
 "cells": [
  {
   "cell_type": "markdown",
   "id": "337f7001",
   "metadata": {
    "cq.autogen": "title_cell"
   },
   "source": [
    "# Hamiltonian Simulation by Generalized Quantum Signal Processing"
   ]
  },
  {
   "cell_type": "code",
   "execution_count": 1,
   "id": "19a28d60",
   "metadata": {
    "cq.autogen": "top_imports"
   },
   "outputs": [],
   "source": [
    "from qualtran import Bloq, CompositeBloq, BloqBuilder, Signature, Register\n",
    "from qualtran import QBit, QInt, QUInt, QAny\n",
    "from qualtran.drawing import show_bloq, show_call_graph, show_counts_sigma\n",
    "from typing import *\n",
    "import numpy as np\n",
    "import sympy\n",
    "import cirq"
   ]
  },
  {
   "cell_type": "markdown",
   "id": "c4a2b917",
   "metadata": {
    "cq.autogen": "HamiltonianSimulationByGQSP.bloq_doc.md"
   },
   "source": [
    "## `HamiltonianSimulationByGQSP`\n",
    "Hamiltonian simulation using Generalized QSP given a qubitized quantum walk operator.\n",
    "\n",
    "Given the Szegedy Quantum Walk Operator for a Hamiltonian $H$ constructed from SELECT and PREPARE oracles,\n",
    "one can construct a block-encoding of $e^{-iHt}$ using GQSP (Corollary 8).\n",
    "\n",
    "### Recap: Qubitization Walk Operator\n",
    "\n",
    "For a Hamiltonian $H = \\sum_j \\alpha_j U_j$ where $U_j$ are unitaries and $\\alpha_j \\ge 0$,\n",
    "we are given the SELECT and PREPARE oracles:\n",
    "$$ \\text{SELECT} = \\sum_j |j\\rangle\\langle j| \\otimes U_j $$\n",
    "$$ \\text{PREPARE} |0\\rangle = \\sum_j \\frac{\\sqrt{\\alpha_j}}{\\|\\alpha\\|_1} |j\\rangle $$\n",
    "\n",
    "We can then implement the [QubitizationWalkOperator](../qubitization_walk_operator.ipynb) that encodes the spectrum of $H$ in the eigenphases of the walk operator $W$.\n",
    "\n",
    "### Approximating the function $e^{i\\theta} \\mapsto e^{it\\cos\\theta}$\n",
    "\n",
    "We can use the [Jacobi-Anger expansion](https://en.wikipedia.org/wiki/Jacobi%E2%80%93Anger_expansion) to obtain low-degree polynomial approximations for the $\\cos$ function:\n",
    "\n",
    "$$\n",
    "    e^{it\\cos\\theta} = \\sum_{n = -\\infty}^{\\infty} i^n J_n(t) (e^{i\\theta})^n\n",
    "$$\n",
    "where $J_n$ is the $n$-th [Bessel function of the first kind](https://en.wikipedia.org/wiki/Bessel_function#Bessel_functions_of_the_first_kind).\n",
    "\n",
    "If we cut-off the above to terms upto degree $d$, we get\n",
    "\n",
    "$$\n",
    "    P[t](z) = \\sum_{n = -d}^d i^n J_n(t) z^n\n",
    "$$\n",
    "\n",
    "Polynomial approximations of the above are provided in the [`qualtran.linalg.jacobi_anger_approximations`](../../linalg/jacobi_anger_approximations.py) module.\n",
    "\n",
    "### Simulation: Block-encoding $e^{-iHt}$\n",
    "\n",
    "As the eigenphases of the walk operator above are $e^{-i\\arccos(E_k / \\|\\alpha\\|_1)}$,\n",
    "we can use the GQSP polynomial with $P = P[-\\|\\alpha\\|_1 t]$ to obtain $P(U) = e^{-iHt}$.\n",
    "The obtained GQSP operator $G$ can then be used with two calls to the PREPARE oracle to simulate the hamiltonian:\n",
    "\n",
    "$$\n",
    "    (I \\otimes \\text{PREPARE}^\\dagger \\otimes I) G (I \\otimes \\text{PREPARE} \\otimes I) |0\\rangle|0\\rangle|\\psi\\rangle = |0\\rangle|0\\rangle e^{-iHt}|\\psi\\rangle\n",
    "$$\n",
    "\n",
    "This therefore block-encodes $e^{-iHt}$ in the block where the signal qubit and selection registers are all $|0\\rangle$.\n",
    "\n",
    "#### References\n",
    " - [Generalized Quantum Signal Processing](https://arxiv.org/abs/2308.01501). Motlagh and Wiebe. (2023). Theorem 7, Corollary 8. \n",
    "\n",
    "#### Parameters\n",
    " - `walk_operator`: qubitization walk operator of $H$ constructed from SELECT and PREPARE oracles.\n",
    " - `t`: time to simulate the Hamiltonian, i.e. $e^{-iHt}$\n",
    " - `precision`: the precision $\\epsilon$ of the final block encoded $e^{-iHt}$. Split into two: half to approximate $e^{it\\cos\\theta}$ to a polynomial, and half to synthesize the underlying GQSP rotations.\n"
   ]
  },
  {
   "cell_type": "code",
   "execution_count": 2,
   "id": "ddf29316",
   "metadata": {
    "cq.autogen": "HamiltonianSimulationByGQSP.bloq_doc.py"
   },
   "outputs": [],
   "source": [
    "from qualtran.bloqs.hamiltonian_simulation.hamiltonian_simulation_by_gqsp import HamiltonianSimulationByGQSP"
   ]
  },
  {
   "cell_type": "markdown",
   "id": "63c77206",
   "metadata": {
    "cq.autogen": "HamiltonianSimulationByGQSP.example_instances.md"
   },
   "source": [
    "### Example Instances"
   ]
  },
  {
   "cell_type": "code",
   "execution_count": 3,
   "id": "7757dd77",
   "metadata": {
    "cq.autogen": "HamiltonianSimulationByGQSP.hubbard_time_evolution_by_gqsp"
   },
   "outputs": [],
   "source": [
    "from qualtran.bloqs.chemistry.hubbard_model.qubitization import (\n",
    "    get_walk_operator_for_hubbard_model,\n",
    ")\n",
    "\n",
    "walk_op = get_walk_operator_for_hubbard_model(2, 2, 1, 1)\n",
    "hubbard_time_evolution_by_gqsp = HamiltonianSimulationByGQSP(walk_op, t=5, precision=1e-7)"
   ]
  },
  {
   "cell_type": "code",
   "execution_count": 4,
   "id": "11baa846",
   "metadata": {
    "cq.autogen": "HamiltonianSimulationByGQSP.symbolic_hamsim_by_gqsp"
   },
   "outputs": [],
   "source": [
    "import sympy\n",
    "\n",
    "from qualtran.bloqs.chemistry.hubbard_model.qubitization import (\n",
    "    get_walk_operator_for_hubbard_model,\n",
    ")\n",
    "\n",
    "tau, t, inv_eps = sympy.symbols(r\"\\tau t \\epsilon^{-1}\", positive=True)\n",
    "walk_op = get_walk_operator_for_hubbard_model(2, 2, tau, 4 * tau)\n",
    "symbolic_hamsim_by_gqsp = HamiltonianSimulationByGQSP(walk_op, t=t, precision=1 / inv_eps)"
   ]
  },
  {
   "cell_type": "markdown",
   "id": "a6e29295",
   "metadata": {
    "cq.autogen": "HamiltonianSimulationByGQSP.graphical_signature.md"
   },
   "source": [
    "#### Graphical Signature"
   ]
  },
  {
   "cell_type": "code",
   "execution_count": 5,
   "id": "68558d61",
   "metadata": {
    "cq.autogen": "HamiltonianSimulationByGQSP.graphical_signature.py"
   },
   "outputs": [
    {
     "data": {
      "application/vnd.jupyter.widget-view+json": {
       "model_id": "130c00acdcc642469f108aa8ec5cf487",
       "version_major": 2,
       "version_minor": 0
      },
      "text/plain": [
       "HBox(children=(Output(outputs=({'output_type': 'display_data', 'data': {'text/plain': '<IPython.core.display.M…"
      ]
     },
     "metadata": {},
     "output_type": "display_data"
    }
   ],
   "source": [
    "from qualtran.drawing import show_bloqs\n",
    "show_bloqs([hubbard_time_evolution_by_gqsp, symbolic_hamsim_by_gqsp],\n",
    "           ['`hubbard_time_evolution_by_gqsp`', '`symbolic_hamsim_by_gqsp`'])"
   ]
  },
  {
   "cell_type": "markdown",
   "id": "4e6e9fc9",
   "metadata": {
    "cq.autogen": "HamiltonianSimulationByGQSP.call_graph.md"
   },
   "source": [
    "### Call Graph"
   ]
  },
  {
   "cell_type": "code",
   "execution_count": 6,
   "id": "22c2e259",
   "metadata": {
    "cq.autogen": "HamiltonianSimulationByGQSP.call_graph.py"
   },
   "outputs": [
    {
     "data": {
      "image/svg+xml": [
       "<svg xmlns=\"http://www.w3.org/2000/svg\" xmlns:xlink=\"http://www.w3.org/1999/xlink\" width=\"778pt\" height=\"131pt\" viewBox=\"0.00 0.00 778.00 131.00\">\n",
       "<g id=\"graph0\" class=\"graph\" transform=\"scale(1 1) rotate(0) translate(4 127)\">\n",
       "<title>counts</title>\n",
       "<polygon fill=\"white\" stroke=\"transparent\" points=\"-4,4 -4,-127 774,-127 774,4 -4,4\"/>\n",
       "<!-- b0 -->\n",
       "<g id=\"node1\" class=\"node\">\n",
       "<title>b0</title>\n",
       "<polygon fill=\"none\" stroke=\"black\" points=\"234,-93 234,-116 382,-116 382,-93 234,-93\"/>\n",
       "<text text-anchor=\"start\" x=\"240.5\" y=\"-102\" font-family=\"Times,serif\" font-size=\"10.00\">HamiltonianSimulationByGQSP</text>\n",
       "</g>\n",
       "<!-- b1 -->\n",
       "<g id=\"node2\" class=\"node\">\n",
       "<title>b1</title>\n",
       "<polygon fill=\"none\" stroke=\"black\" points=\"8,-6 8,-29 88,-29 88,-6 8,-6\"/>\n",
       "<text text-anchor=\"start\" x=\"14.5\" y=\"-15\" font-family=\"Times,serif\" font-size=\"10.00\">PrepareHubbard</text>\n",
       "</g>\n",
       "<!-- b0&#45;&gt;b1 -->\n",
       "<g id=\"edge1\" class=\"edge\">\n",
       "<title>b0-&gt;b1</title>\n",
       "<path fill=\"none\" stroke=\"black\" d=\"M255.7,-86.9C212.32,-72.72 150.71,-52.58 105.86,-37.91\"/>\n",
       "<polygon fill=\"black\" stroke=\"black\" points=\"106.86,-34.56 96.27,-34.78 104.69,-41.21 106.86,-34.56\"/>\n",
       "<text text-anchor=\"middle\" x=\"197.5\" y=\"-57.8\" font-family=\"Times,serif\" font-size=\"14.00\">1</text>\n",
       "</g>\n",
       "<!-- b2 -->\n",
       "<g id=\"node3\" class=\"node\">\n",
       "<title>b2</title>\n",
       "<polygon fill=\"none\" stroke=\"black\" points=\"122,-6 122,-29 206,-29 206,-6 122,-6\"/>\n",
       "<text text-anchor=\"start\" x=\"128\" y=\"-15\" font-family=\"Times,serif\" font-size=\"10.00\">PrepareHubbard†</text>\n",
       "</g>\n",
       "<!-- b0&#45;&gt;b2 -->\n",
       "<g id=\"edge2\" class=\"edge\">\n",
       "<title>b0-&gt;b2</title>\n",
       "<path fill=\"none\" stroke=\"black\" d=\"M278.86,-86.8C256.71,-73.72 226.04,-55.62 201.97,-41.41\"/>\n",
       "<polygon fill=\"black\" stroke=\"black\" points=\"203.49,-38.24 193.1,-36.18 199.93,-44.27 203.49,-38.24\"/>\n",
       "<text text-anchor=\"middle\" x=\"248.5\" y=\"-57.8\" font-family=\"Times,serif\" font-size=\"14.00\">1</text>\n",
       "</g>\n",
       "<!-- b3 -->\n",
       "<g id=\"node4\" class=\"node\">\n",
       "<title>b3</title>\n",
       "<polygon fill=\"none\" stroke=\"black\" points=\"240,-6 240,-29 376,-29 376,-6 240,-6\"/>\n",
       "<text text-anchor=\"start\" x=\"246.5\" y=\"-15\" font-family=\"Times,serif\" font-size=\"10.00\">C[QubitizationWalkOperator]</text>\n",
       "</g>\n",
       "<!-- b0&#45;&gt;b3 -->\n",
       "<g id=\"edge3\" class=\"edge\">\n",
       "<title>b0-&gt;b3</title>\n",
       "<path fill=\"none\" stroke=\"black\" d=\"M308,-86.8C308,-75.16 308,-59.55 308,-46.24\"/>\n",
       "<polygon fill=\"black\" stroke=\"black\" points=\"311.5,-46.18 308,-36.18 304.5,-46.18 311.5,-46.18\"/>\n",
       "<text text-anchor=\"middle\" x=\"318.5\" y=\"-57.8\" font-family=\"Times,serif\" font-size=\"14.00\">127</text>\n",
       "</g>\n",
       "<!-- b4 -->\n",
       "<g id=\"node5\" class=\"node\">\n",
       "<title>b4</title>\n",
       "<polygon fill=\"none\" stroke=\"black\" points=\"410,-6 410,-29 550,-29 550,-6 410,-6\"/>\n",
       "<text text-anchor=\"start\" x=\"416\" y=\"-15\" font-family=\"Times,serif\" font-size=\"10.00\">C[QubitizationWalkOperator†]</text>\n",
       "</g>\n",
       "<!-- b0&#45;&gt;b4 -->\n",
       "<g id=\"edge4\" class=\"edge\">\n",
       "<title>b0-&gt;b4</title>\n",
       "<path fill=\"none\" stroke=\"black\" d=\"M342.81,-86.8C369.82,-73.45 407.43,-54.86 436.45,-40.52\"/>\n",
       "<polygon fill=\"black\" stroke=\"black\" points=\"438.12,-43.6 445.54,-36.03 435.02,-37.32 438.12,-43.6\"/>\n",
       "<text text-anchor=\"middle\" x=\"415.5\" y=\"-57.8\" font-family=\"Times,serif\" font-size=\"14.00\">127</text>\n",
       "</g>\n",
       "<!-- b5 -->\n",
       "<g id=\"node6\" class=\"node\">\n",
       "<title>b5</title>\n",
       "<polygon fill=\"none\" stroke=\"black\" points=\"584,-6 584,-29 762,-29 762,-6 584,-6\"/>\n",
       "<text text-anchor=\"start\" x=\"590.5\" y=\"-15\" font-family=\"Times,serif\" font-size=\"10.00\">SU_2(_theta0,_phi0,_lambda0,_alpha0)</text>\n",
       "</g>\n",
       "<!-- b0&#45;&gt;b5 -->\n",
       "<g id=\"edge5\" class=\"edge\">\n",
       "<title>b0-&gt;b5</title>\n",
       "<path fill=\"none\" stroke=\"black\" d=\"M381.42,-86.9C441.69,-72.87 527.03,-52.99 589.82,-38.37\"/>\n",
       "<polygon fill=\"black\" stroke=\"black\" points=\"590.75,-41.75 599.69,-36.07 589.16,-34.93 590.75,-41.75\"/>\n",
       "<text text-anchor=\"middle\" x=\"523.5\" y=\"-57.8\" font-family=\"Times,serif\" font-size=\"14.00\">255</text>\n",
       "</g>\n",
       "</g>\n",
       "</svg>"
      ],
      "text/plain": [
       "<IPython.core.display.SVG object>"
      ]
     },
     "metadata": {},
     "output_type": "display_data"
    },
    {
     "data": {
      "text/markdown": [
       "#### Counts totals:\n",
       " - `C[QubitizationWalkOperator]`: 127\n",
       " - `C[QubitizationWalkOperator†]`: 127\n",
       " - `PrepareHubbard`: 1\n",
       " - `PrepareHubbard†`: 1\n",
       " - `SU_2(_theta0,_phi0,_lambda0,_alpha0)`: 255"
      ],
      "text/plain": [
       "<IPython.core.display.Markdown object>"
      ]
     },
     "metadata": {},
     "output_type": "display_data"
    }
   ],
   "source": [
    "from qualtran.resource_counting.generalizers import ignore_split_join\n",
    "hubbard_time_evolution_by_gqsp_g, hubbard_time_evolution_by_gqsp_sigma = hubbard_time_evolution_by_gqsp.call_graph(max_depth=1, generalizer=ignore_split_join)\n",
    "show_call_graph(hubbard_time_evolution_by_gqsp_g)\n",
    "show_counts_sigma(hubbard_time_evolution_by_gqsp_sigma)"
   ]
  },
  {
   "cell_type": "code",
   "execution_count": 7,
   "id": "7045d204b9fcd6f1",
   "metadata": {},
   "outputs": [
    {
     "data": {
      "text/markdown": [
       "#### Counts totals:\n",
       " - `C[B[H]†]`: $\\displaystyle C_{JA} \\left(t \\left(16 \\tau + \\left\\lfloor{16 \\tau}\\right\\rfloor\\right) + \\frac{\\log{\\left(2 \\epsilon^{-1} \\right)}}{\\log{\\left(\\log{\\left(2 \\epsilon^{-1} \\right)} \\right)}}\\right)$\n",
       " - `C[QubitizationWalkOperator]`: $\\displaystyle C_{JA} \\left(t \\left(16 \\tau + \\left\\lfloor{16 \\tau}\\right\\rfloor\\right) + \\frac{\\log{\\left(2 \\epsilon^{-1} \\right)}}{\\log{\\left(\\log{\\left(2 \\epsilon^{-1} \\right)} \\right)}}\\right)$\n",
       " - `GPhase(exp(1.0*I*pi*(_alpha0/pi + _lambda0/(2*pi) + _phi0/(2*pi) + 0.5)))`: $\\displaystyle 2 C_{JA} \\left(t \\left(16 \\tau + \\left\\lfloor{16 \\tau}\\right\\rfloor\\right) + \\frac{\\log{\\left(2 \\epsilon^{-1} \\right)}}{\\log{\\left(\\log{\\left(2 \\epsilon^{-1} \\right)} \\right)}}\\right) + 1$\n",
       " - `PrepareHubbard`: 1\n",
       " - `PrepareHubbard†`: 1\n",
       " - `ReflectionUsingPrepare`: $\\displaystyle C_{JA} \\left(t \\left(16 \\tau + \\left\\lfloor{16 \\tau}\\right\\rfloor\\right) + \\frac{\\log{\\left(2 \\epsilon^{-1} \\right)}}{\\log{\\left(\\log{\\left(2 \\epsilon^{-1} \\right)} \\right)}}\\right)$\n",
       " - `Rx(\\phi)`: $\\displaystyle 2 C_{JA} \\left(t \\left(16 \\tau + \\left\\lfloor{16 \\tau}\\right\\rfloor\\right) + \\frac{\\log{\\left(2 \\epsilon^{-1} \\right)}}{\\log{\\left(\\log{\\left(2 \\epsilon^{-1} \\right)} \\right)}}\\right) + 1$\n",
       " - `Rz(\\phi)`: $\\displaystyle 4 C_{JA} \\left(t \\left(16 \\tau + \\left\\lfloor{16 \\tau}\\right\\rfloor\\right) + \\frac{\\log{\\left(2 \\epsilon^{-1} \\right)}}{\\log{\\left(\\log{\\left(2 \\epsilon^{-1} \\right)} \\right)}}\\right) + 2$\n",
       " - `X`: $\\displaystyle 2 C_{JA} \\left(t \\left(16 \\tau + \\left\\lfloor{16 \\tau}\\right\\rfloor\\right) + \\frac{\\log{\\left(2 \\epsilon^{-1} \\right)}}{\\log{\\left(\\log{\\left(2 \\epsilon^{-1} \\right)} \\right)}}\\right)$"
      ],
      "text/plain": [
       "<IPython.core.display.Markdown object>"
      ]
     },
     "metadata": {},
     "output_type": "display_data"
    }
   ],
   "source": [
    "from qualtran.resource_counting.generalizers import generalize_rotation_angle, ignore_split_join, ignore_alloc_free\n",
    "_, symbolic_hamsim_by_gqsp_sigma = symbolic_hamsim_by_gqsp.call_graph(max_depth=2, generalizer=[ignore_split_join, ignore_alloc_free, generalize_rotation_angle])\n",
    "show_counts_sigma(symbolic_hamsim_by_gqsp_sigma)"
   ]
  }
 ],
 "metadata": {
  "kernelspec": {
   "display_name": "Python 3 (ipykernel)",
   "language": "python",
   "name": "python3"
  },
  "language_info": {
   "codemirror_mode": {
    "name": "ipython",
    "version": 3
   },
   "file_extension": ".py",
   "mimetype": "text/x-python",
   "name": "python",
   "nbconvert_exporter": "python",
   "pygments_lexer": "ipython3",
   "version": "3.11.8"
  },
  "widgets": {
   "application/vnd.jupyter.widget-state+json": {
    "state": {
     "130c00acdcc642469f108aa8ec5cf487": {
      "model_module": "@jupyter-widgets/controls",
      "model_module_version": "2.0.0",
      "model_name": "HBoxModel",
      "state": {
       "_dom_classes": [],
       "_model_module": "@jupyter-widgets/controls",
       "_model_module_version": "2.0.0",
       "_model_name": "HBoxModel",
       "_view_count": null,
       "_view_module": "@jupyter-widgets/controls",
       "_view_module_version": "2.0.0",
       "_view_name": "HBoxView",
       "box_style": "",
       "children": [
        "IPY_MODEL_815f20ab6d3d49d5b180014761243e7f",
        "IPY_MODEL_1e594e95136740afa492e7ccda9c7321"
       ],
       "layout": "IPY_MODEL_b355fedefd9648f5af04e3da1ccb3f06",
       "tabbable": null,
       "tooltip": null
      }
     },
     "1e594e95136740afa492e7ccda9c7321": {
      "model_module": "@jupyter-widgets/output",
      "model_module_version": "1.0.0",
      "model_name": "OutputModel",
      "state": {
       "_dom_classes": [],
       "_model_module": "@jupyter-widgets/output",
       "_model_module_version": "1.0.0",
       "_model_name": "OutputModel",
       "_view_count": null,
       "_view_module": "@jupyter-widgets/output",
       "_view_module_version": "1.0.0",
       "_view_name": "OutputView",
       "layout": "IPY_MODEL_8425a396876449f395443dd0f6627103",
       "msg_id": "",
       "outputs": [
        {
         "data": {
          "text/markdown": "`symbolic_hamsim_by_gqsp`",
          "text/plain": "<IPython.core.display.Markdown object>"
         },
         "metadata": {},
         "output_type": "display_data"
        },
        {
         "data": {
          "image/svg+xml": "<svg xmlns=\"http://www.w3.org/2000/svg\" xmlns:xlink=\"http://www.w3.org/1999/xlink\" width=\"331pt\" height=\"530pt\" viewBox=\"0.00 0.00 331.00 530.00\">\n<g id=\"graph0\" class=\"graph\" transform=\"scale(1 1) rotate(0) translate(4 526)\">\n<title>my_graph</title>\n<polygon fill=\"white\" stroke=\"transparent\" points=\"-4,4 -4,-526 327,-526 327,4 -4,4\"/>\n<!-- signal_G23 -->\n<g id=\"node1\" class=\"node\">\n<title>signal_G23</title>\n<text text-anchor=\"middle\" x=\"27\" y=\"-500.3\" font-family=\"Times,serif\" font-size=\"14.00\">signal</text>\n</g>\n<!-- HamiltonianSimulationByGQSP -->\n<g id=\"node11\" class=\"node\">\n<title>HamiltonianSimulationByGQSP</title>\n<polygon fill=\"none\" stroke=\"black\" points=\"91.5,-366 91.5,-383 232.5,-383 232.5,-366 91.5,-366\"/>\n<text text-anchor=\"start\" x=\"94.5\" y=\"-372\" font-family=\"Times,serif\" font-size=\"10.00\">HamiltonianSimulationByGQSP</text>\n<polygon fill=\"none\" stroke=\"black\" points=\"91.5,-345 91.5,-366 232.5,-366 232.5,-345 91.5,-345\"/>\n<text text-anchor=\"start\" x=\"145.5\" y=\"-351.8\" font-family=\"Times,serif\" font-size=\"14.00\">signal</text>\n<polygon fill=\"none\" stroke=\"black\" points=\"91.5,-324 91.5,-345 232.5,-345 232.5,-324 91.5,-324\"/>\n<text text-anchor=\"start\" x=\"147\" y=\"-330.8\" font-family=\"Times,serif\" font-size=\"14.00\">alpha</text>\n<polygon fill=\"none\" stroke=\"black\" points=\"91.5,-303 91.5,-324 232.5,-324 232.5,-303 91.5,-303\"/>\n<text text-anchor=\"start\" x=\"150.5\" y=\"-309.8\" font-family=\"Times,serif\" font-size=\"14.00\">beta</text>\n<polygon fill=\"none\" stroke=\"black\" points=\"91.5,-282 91.5,-303 232.5,-303 232.5,-282 91.5,-282\"/>\n<text text-anchor=\"start\" x=\"151.5\" y=\"-288.8\" font-family=\"Times,serif\" font-size=\"14.00\">p_x</text>\n<polygon fill=\"none\" stroke=\"black\" points=\"91.5,-261 91.5,-282 232.5,-282 232.5,-261 91.5,-261\"/>\n<text text-anchor=\"start\" x=\"151.5\" y=\"-267.8\" font-family=\"Times,serif\" font-size=\"14.00\">p_y</text>\n<polygon fill=\"none\" stroke=\"black\" points=\"91.5,-240 91.5,-261 232.5,-261 232.5,-240 91.5,-240\"/>\n<text text-anchor=\"start\" x=\"151.5\" y=\"-246.8\" font-family=\"Times,serif\" font-size=\"14.00\">q_x</text>\n<polygon fill=\"none\" stroke=\"black\" points=\"91.5,-219 91.5,-240 232.5,-240 232.5,-219 91.5,-219\"/>\n<text text-anchor=\"start\" x=\"157\" y=\"-225.8\" font-family=\"Times,serif\" font-size=\"14.00\">U</text>\n<polygon fill=\"none\" stroke=\"black\" points=\"91.5,-198 91.5,-219 232.5,-219 232.5,-198 91.5,-198\"/>\n<text text-anchor=\"start\" x=\"151.5\" y=\"-204.8\" font-family=\"Times,serif\" font-size=\"14.00\">q_y</text>\n<polygon fill=\"none\" stroke=\"black\" points=\"91.5,-177 91.5,-198 232.5,-198 232.5,-177 91.5,-177\"/>\n<text text-anchor=\"start\" x=\"157\" y=\"-183.8\" font-family=\"Times,serif\" font-size=\"14.00\">V</text>\n<polygon fill=\"none\" stroke=\"black\" points=\"91.5,-156 91.5,-177 232.5,-177 232.5,-156 91.5,-156\"/>\n<text text-anchor=\"start\" x=\"146.5\" y=\"-162.8\" font-family=\"Times,serif\" font-size=\"14.00\">target</text>\n</g>\n<!-- signal_G23&#45;&gt;HamiltonianSimulationByGQSP -->\n<g id=\"edge1\" class=\"edge\">\n<title>signal_G23:e-&gt;HamiltonianSimulationByGQSP:w</title>\n<path fill=\"none\" stroke=\"black\" d=\"M54,-504C87.11,-504 58.51,-362.86 88.72,-356.24\"/>\n<ellipse fill=\"black\" stroke=\"black\" cx=\"90.01\" cy=\"-356.1\" rx=\"1\" ry=\"1\"/>\n<text text-anchor=\"middle\" x=\"72.5\" y=\"-450\" font-family=\"Times,serif\" font-size=\"10.00\">1</text>\n</g>\n<!-- alpha_G20 -->\n<g id=\"node2\" class=\"node\">\n<title>alpha_G20</title>\n<text text-anchor=\"middle\" x=\"27\" y=\"-446.3\" font-family=\"Times,serif\" font-size=\"14.00\">alpha</text>\n</g>\n<!-- alpha_G20&#45;&gt;HamiltonianSimulationByGQSP -->\n<g id=\"edge2\" class=\"edge\">\n<title>alpha_G20:e-&gt;HamiltonianSimulationByGQSP:w</title>\n<path fill=\"none\" stroke=\"black\" d=\"M54,-450C80.11,-450 65.03,-341.2 88.89,-335.25\"/>\n<ellipse fill=\"black\" stroke=\"black\" cx=\"90.01\" cy=\"-335.12\" rx=\"1\" ry=\"1\"/>\n<text text-anchor=\"middle\" x=\"72.5\" y=\"-398\" font-family=\"Times,serif\" font-size=\"10.00\">1</text>\n</g>\n<!-- beta_G15 -->\n<g id=\"node3\" class=\"node\">\n<title>beta_G15</title>\n<text text-anchor=\"middle\" x=\"27\" y=\"-392.3\" font-family=\"Times,serif\" font-size=\"14.00\">beta</text>\n</g>\n<!-- beta_G15&#45;&gt;HamiltonianSimulationByGQSP -->\n<g id=\"edge3\" class=\"edge\">\n<title>beta_G15:e-&gt;HamiltonianSimulationByGQSP:w</title>\n<path fill=\"none\" stroke=\"black\" d=\"M54,-396C93.2,-396 52.66,-317.17 88.75,-314.09\"/>\n<ellipse fill=\"black\" stroke=\"black\" cx=\"90\" cy=\"-314.04\" rx=\"1\" ry=\"1\"/>\n<text text-anchor=\"middle\" x=\"72.5\" y=\"-381\" font-family=\"Times,serif\" font-size=\"10.00\">1</text>\n</g>\n<!-- p_x_G12 -->\n<g id=\"node4\" class=\"node\">\n<title>p_x_G12</title>\n<text text-anchor=\"middle\" x=\"27\" y=\"-338.3\" font-family=\"Times,serif\" font-size=\"14.00\">p_x</text>\n</g>\n<!-- p_x_G12&#45;&gt;HamiltonianSimulationByGQSP -->\n<g id=\"edge4\" class=\"edge\">\n<title>p_x_G12:e-&gt;HamiltonianSimulationByGQSP:w</title>\n<path fill=\"none\" stroke=\"black\" d=\"M54,-342C80.54,-342 64.64,-295.64 88.86,-293.11\"/>\n<ellipse fill=\"black\" stroke=\"black\" cx=\"90\" cy=\"-293.05\" rx=\"1\" ry=\"1\"/>\n<text text-anchor=\"middle\" x=\"72.5\" y=\"-321\" font-family=\"Times,serif\" font-size=\"10.00\">1</text>\n</g>\n<!-- p_y_G17 -->\n<g id=\"node5\" class=\"node\">\n<title>p_y_G17</title>\n<text text-anchor=\"middle\" x=\"27\" y=\"-284.3\" font-family=\"Times,serif\" font-size=\"14.00\">p_y</text>\n</g>\n<!-- p_y_G17&#45;&gt;HamiltonianSimulationByGQSP -->\n<g id=\"edge5\" class=\"edge\">\n<title>p_y_G17:e-&gt;HamiltonianSimulationByGQSP:w</title>\n<path fill=\"none\" stroke=\"black\" d=\"M54,-288C71.22,-288 72.97,-273.23 88.98,-272.07\"/>\n<ellipse fill=\"black\" stroke=\"black\" cx=\"90\" cy=\"-272.04\" rx=\"1\" ry=\"1\"/>\n<text text-anchor=\"middle\" x=\"72.5\" y=\"-283\" font-family=\"Times,serif\" font-size=\"10.00\">1</text>\n</g>\n<!-- q_x_G3 -->\n<g id=\"node6\" class=\"node\">\n<title>q_x_G3</title>\n<text text-anchor=\"middle\" x=\"27\" y=\"-230.3\" font-family=\"Times,serif\" font-size=\"14.00\">q_x</text>\n</g>\n<!-- q_x_G3&#45;&gt;HamiltonianSimulationByGQSP -->\n<g id=\"edge6\" class=\"edge\">\n<title>q_x_G3:e-&gt;HamiltonianSimulationByGQSP:w</title>\n<path fill=\"none\" stroke=\"black\" d=\"M54,-234C71.22,-234 72.97,-248.77 88.98,-249.93\"/>\n<ellipse fill=\"black\" stroke=\"black\" cx=\"90\" cy=\"-249.96\" rx=\"1\" ry=\"1\"/>\n<text text-anchor=\"middle\" x=\"72.5\" y=\"-245\" font-family=\"Times,serif\" font-size=\"10.00\">1</text>\n</g>\n<!-- U_G26 -->\n<g id=\"node7\" class=\"node\">\n<title>U_G26</title>\n<text text-anchor=\"middle\" x=\"27\" y=\"-176.3\" font-family=\"Times,serif\" font-size=\"14.00\">U</text>\n</g>\n<!-- U_G26&#45;&gt;HamiltonianSimulationByGQSP -->\n<g id=\"edge7\" class=\"edge\">\n<title>U_G26:e-&gt;HamiltonianSimulationByGQSP:w</title>\n<path fill=\"none\" stroke=\"black\" d=\"M54,-180C80.54,-180 64.64,-226.36 88.86,-228.89\"/>\n<ellipse fill=\"black\" stroke=\"black\" cx=\"90\" cy=\"-228.95\" rx=\"1\" ry=\"1\"/>\n<text text-anchor=\"middle\" x=\"72.5\" y=\"-208\" font-family=\"Times,serif\" font-size=\"10.00\">1</text>\n</g>\n<!-- q_y_G11 -->\n<g id=\"node8\" class=\"node\">\n<title>q_y_G11</title>\n<text text-anchor=\"middle\" x=\"27\" y=\"-122.3\" font-family=\"Times,serif\" font-size=\"14.00\">q_y</text>\n</g>\n<!-- q_y_G11&#45;&gt;HamiltonianSimulationByGQSP -->\n<g id=\"edge8\" class=\"edge\">\n<title>q_y_G11:e-&gt;HamiltonianSimulationByGQSP:w</title>\n<path fill=\"none\" stroke=\"black\" d=\"M54,-126C93.2,-126 52.66,-204.83 88.75,-207.91\"/>\n<ellipse fill=\"black\" stroke=\"black\" cx=\"90\" cy=\"-207.96\" rx=\"1\" ry=\"1\"/>\n<text text-anchor=\"middle\" x=\"72.5\" y=\"-193\" font-family=\"Times,serif\" font-size=\"10.00\">1</text>\n</g>\n<!-- V_G7 -->\n<g id=\"node9\" class=\"node\">\n<title>V_G7</title>\n<text text-anchor=\"middle\" x=\"27\" y=\"-68.3\" font-family=\"Times,serif\" font-size=\"14.00\">V</text>\n</g>\n<!-- V_G7&#45;&gt;HamiltonianSimulationByGQSP -->\n<g id=\"edge9\" class=\"edge\">\n<title>V_G7:e-&gt;HamiltonianSimulationByGQSP:w</title>\n<path fill=\"none\" stroke=\"black\" d=\"M54,-72C80.11,-72 65.03,-180.8 88.89,-186.75\"/>\n<ellipse fill=\"black\" stroke=\"black\" cx=\"90.01\" cy=\"-186.88\" rx=\"1\" ry=\"1\"/>\n<text text-anchor=\"middle\" x=\"72.5\" y=\"-135\" font-family=\"Times,serif\" font-size=\"10.00\">1</text>\n</g>\n<!-- target_G2 -->\n<g id=\"node10\" class=\"node\">\n<title>target_G2</title>\n<text text-anchor=\"middle\" x=\"27\" y=\"-14.3\" font-family=\"Times,serif\" font-size=\"14.00\">target</text>\n</g>\n<!-- target_G2&#45;&gt;HamiltonianSimulationByGQSP -->\n<g id=\"edge10\" class=\"edge\">\n<title>target_G2:e-&gt;HamiltonianSimulationByGQSP:w</title>\n<path fill=\"none\" stroke=\"black\" d=\"M54,-18C87.11,-18 58.51,-159.14 88.72,-165.76\"/>\n<ellipse fill=\"black\" stroke=\"black\" cx=\"90.01\" cy=\"-165.9\" rx=\"1\" ry=\"1\"/>\n<text text-anchor=\"middle\" x=\"72.5\" y=\"-113\" font-family=\"Times,serif\" font-size=\"10.00\">8</text>\n</g>\n<!-- signal_G10 -->\n<g id=\"node12\" class=\"node\">\n<title>signal_G10</title>\n<text text-anchor=\"middle\" x=\"296\" y=\"-500.3\" font-family=\"Times,serif\" font-size=\"14.00\">signal</text>\n</g>\n<!-- HamiltonianSimulationByGQSP&#45;&gt;signal_G10 -->\n<g id=\"edge11\" class=\"edge\">\n<title>HamiltonianSimulationByGQSP:e-&gt;signal_G10:w</title>\n<path fill=\"none\" stroke=\"black\" d=\"M232,-356C265.11,-356 236.51,-497.14 266.72,-503.76\"/>\n<ellipse fill=\"black\" stroke=\"black\" cx=\"268.01\" cy=\"-503.9\" rx=\"1\" ry=\"1\"/>\n<text text-anchor=\"middle\" x=\"250.5\" y=\"-450\" font-family=\"Times,serif\" font-size=\"10.00\">1</text>\n</g>\n<!-- alpha_G6 -->\n<g id=\"node13\" class=\"node\">\n<title>alpha_G6</title>\n<text text-anchor=\"middle\" x=\"296\" y=\"-446.3\" font-family=\"Times,serif\" font-size=\"14.00\">alpha</text>\n</g>\n<!-- HamiltonianSimulationByGQSP&#45;&gt;alpha_G6 -->\n<g id=\"edge12\" class=\"edge\">\n<title>HamiltonianSimulationByGQSP:e-&gt;alpha_G6:w</title>\n<path fill=\"none\" stroke=\"black\" d=\"M232,-335C258.11,-335 243.03,-443.8 266.89,-449.75\"/>\n<ellipse fill=\"black\" stroke=\"black\" cx=\"268.01\" cy=\"-449.88\" rx=\"1\" ry=\"1\"/>\n<text text-anchor=\"middle\" x=\"250.5\" y=\"-398\" font-family=\"Times,serif\" font-size=\"10.00\">1</text>\n</g>\n<!-- beta_G24 -->\n<g id=\"node14\" class=\"node\">\n<title>beta_G24</title>\n<text text-anchor=\"middle\" x=\"296\" y=\"-392.3\" font-family=\"Times,serif\" font-size=\"14.00\">beta</text>\n</g>\n<!-- HamiltonianSimulationByGQSP&#45;&gt;beta_G24 -->\n<g id=\"edge13\" class=\"edge\">\n<title>HamiltonianSimulationByGQSP:e-&gt;beta_G24:w</title>\n<path fill=\"none\" stroke=\"black\" d=\"M232,-314C271.2,-314 230.66,-392.83 266.75,-395.91\"/>\n<ellipse fill=\"black\" stroke=\"black\" cx=\"268\" cy=\"-395.96\" rx=\"1\" ry=\"1\"/>\n<text text-anchor=\"middle\" x=\"250.5\" y=\"-381\" font-family=\"Times,serif\" font-size=\"10.00\">1</text>\n</g>\n<!-- p_x_G0 -->\n<g id=\"node15\" class=\"node\">\n<title>p_x_G0</title>\n<text text-anchor=\"middle\" x=\"296\" y=\"-338.3\" font-family=\"Times,serif\" font-size=\"14.00\">p_x</text>\n</g>\n<!-- HamiltonianSimulationByGQSP&#45;&gt;p_x_G0 -->\n<g id=\"edge14\" class=\"edge\">\n<title>HamiltonianSimulationByGQSP:e-&gt;p_x_G0:w</title>\n<path fill=\"none\" stroke=\"black\" d=\"M232,-293C258.54,-293 242.64,-339.36 266.86,-341.89\"/>\n<ellipse fill=\"black\" stroke=\"black\" cx=\"268\" cy=\"-341.95\" rx=\"1\" ry=\"1\"/>\n<text text-anchor=\"middle\" x=\"250.5\" y=\"-321\" font-family=\"Times,serif\" font-size=\"10.00\">1</text>\n</g>\n<!-- p_y_G8 -->\n<g id=\"node16\" class=\"node\">\n<title>p_y_G8</title>\n<text text-anchor=\"middle\" x=\"296\" y=\"-284.3\" font-family=\"Times,serif\" font-size=\"14.00\">p_y</text>\n</g>\n<!-- HamiltonianSimulationByGQSP&#45;&gt;p_y_G8 -->\n<g id=\"edge15\" class=\"edge\">\n<title>HamiltonianSimulationByGQSP:e-&gt;p_y_G8:w</title>\n<path fill=\"none\" stroke=\"black\" d=\"M232,-272C249.22,-272 250.97,-286.77 266.98,-287.93\"/>\n<ellipse fill=\"black\" stroke=\"black\" cx=\"268\" cy=\"-287.96\" rx=\"1\" ry=\"1\"/>\n<text text-anchor=\"middle\" x=\"250.5\" y=\"-283\" font-family=\"Times,serif\" font-size=\"10.00\">1</text>\n</g>\n<!-- q_x_G25 -->\n<g id=\"node17\" class=\"node\">\n<title>q_x_G25</title>\n<text text-anchor=\"middle\" x=\"296\" y=\"-230.3\" font-family=\"Times,serif\" font-size=\"14.00\">q_x</text>\n</g>\n<!-- HamiltonianSimulationByGQSP&#45;&gt;q_x_G25 -->\n<g id=\"edge16\" class=\"edge\">\n<title>HamiltonianSimulationByGQSP:e-&gt;q_x_G25:w</title>\n<path fill=\"none\" stroke=\"black\" d=\"M232,-250C249.22,-250 250.97,-235.23 266.98,-234.07\"/>\n<ellipse fill=\"black\" stroke=\"black\" cx=\"268\" cy=\"-234.04\" rx=\"1\" ry=\"1\"/>\n<text text-anchor=\"middle\" x=\"250.5\" y=\"-245\" font-family=\"Times,serif\" font-size=\"10.00\">1</text>\n</g>\n<!-- U_G4 -->\n<g id=\"node18\" class=\"node\">\n<title>U_G4</title>\n<text text-anchor=\"middle\" x=\"296\" y=\"-176.3\" font-family=\"Times,serif\" font-size=\"14.00\">U</text>\n</g>\n<!-- HamiltonianSimulationByGQSP&#45;&gt;U_G4 -->\n<g id=\"edge17\" class=\"edge\">\n<title>HamiltonianSimulationByGQSP:e-&gt;U_G4:w</title>\n<path fill=\"none\" stroke=\"black\" d=\"M232,-229C258.54,-229 242.64,-182.64 266.86,-180.11\"/>\n<ellipse fill=\"black\" stroke=\"black\" cx=\"268\" cy=\"-180.05\" rx=\"1\" ry=\"1\"/>\n<text text-anchor=\"middle\" x=\"250.5\" y=\"-208\" font-family=\"Times,serif\" font-size=\"10.00\">1</text>\n</g>\n<!-- q_y_G19 -->\n<g id=\"node19\" class=\"node\">\n<title>q_y_G19</title>\n<text text-anchor=\"middle\" x=\"296\" y=\"-122.3\" font-family=\"Times,serif\" font-size=\"14.00\">q_y</text>\n</g>\n<!-- HamiltonianSimulationByGQSP&#45;&gt;q_y_G19 -->\n<g id=\"edge18\" class=\"edge\">\n<title>HamiltonianSimulationByGQSP:e-&gt;q_y_G19:w</title>\n<path fill=\"none\" stroke=\"black\" d=\"M232,-208C271.2,-208 230.66,-129.17 266.75,-126.09\"/>\n<ellipse fill=\"black\" stroke=\"black\" cx=\"268\" cy=\"-126.04\" rx=\"1\" ry=\"1\"/>\n<text text-anchor=\"middle\" x=\"250.5\" y=\"-193\" font-family=\"Times,serif\" font-size=\"10.00\">1</text>\n</g>\n<!-- V_G28 -->\n<g id=\"node20\" class=\"node\">\n<title>V_G28</title>\n<text text-anchor=\"middle\" x=\"296\" y=\"-68.3\" font-family=\"Times,serif\" font-size=\"14.00\">V</text>\n</g>\n<!-- HamiltonianSimulationByGQSP&#45;&gt;V_G28 -->\n<g id=\"edge19\" class=\"edge\">\n<title>HamiltonianSimulationByGQSP:e-&gt;V_G28:w</title>\n<path fill=\"none\" stroke=\"black\" d=\"M232,-187C258.11,-187 243.03,-78.2 266.89,-72.25\"/>\n<ellipse fill=\"black\" stroke=\"black\" cx=\"268.01\" cy=\"-72.12\" rx=\"1\" ry=\"1\"/>\n<text text-anchor=\"middle\" x=\"250.5\" y=\"-135\" font-family=\"Times,serif\" font-size=\"10.00\">1</text>\n</g>\n<!-- target_G27 -->\n<g id=\"node21\" class=\"node\">\n<title>target_G27</title>\n<text text-anchor=\"middle\" x=\"296\" y=\"-14.3\" font-family=\"Times,serif\" font-size=\"14.00\">target</text>\n</g>\n<!-- HamiltonianSimulationByGQSP&#45;&gt;target_G27 -->\n<g id=\"edge20\" class=\"edge\">\n<title>HamiltonianSimulationByGQSP:e-&gt;target_G27:w</title>\n<path fill=\"none\" stroke=\"black\" d=\"M232,-166C265.11,-166 236.51,-24.86 266.72,-18.24\"/>\n<ellipse fill=\"black\" stroke=\"black\" cx=\"268.01\" cy=\"-18.1\" rx=\"1\" ry=\"1\"/>\n<text text-anchor=\"middle\" x=\"250.5\" y=\"-113\" font-family=\"Times,serif\" font-size=\"10.00\">8</text>\n</g>\n</g>\n</svg>",
          "text/plain": "<IPython.core.display.SVG object>"
         },
         "metadata": {},
         "output_type": "display_data"
        }
       ],
       "tabbable": null,
       "tooltip": null
      }
     },
     "2738870a4f2c45b08af674ec5f7a4347": {
      "model_module": "@jupyter-widgets/base",
      "model_module_version": "2.0.0",
      "model_name": "LayoutModel",
      "state": {
       "_model_module": "@jupyter-widgets/base",
       "_model_module_version": "2.0.0",
       "_model_name": "LayoutModel",
       "_view_count": null,
       "_view_module": "@jupyter-widgets/base",
       "_view_module_version": "2.0.0",
       "_view_name": "LayoutView",
       "align_content": null,
       "align_items": null,
       "align_self": null,
       "border_bottom": null,
       "border_left": null,
       "border_right": null,
       "border_top": null,
       "bottom": null,
       "display": null,
       "flex": null,
       "flex_flow": null,
       "grid_area": null,
       "grid_auto_columns": null,
       "grid_auto_flow": null,
       "grid_auto_rows": null,
       "grid_column": null,
       "grid_gap": null,
       "grid_row": null,
       "grid_template_areas": null,
       "grid_template_columns": null,
       "grid_template_rows": null,
       "height": null,
       "justify_content": null,
       "justify_items": null,
       "left": null,
       "margin": null,
       "max_height": null,
       "max_width": null,
       "min_height": null,
       "min_width": null,
       "object_fit": null,
       "object_position": null,
       "order": null,
       "overflow": null,
       "padding": null,
       "right": null,
       "top": null,
       "visibility": null,
       "width": null
      }
     },
     "815f20ab6d3d49d5b180014761243e7f": {
      "model_module": "@jupyter-widgets/output",
      "model_module_version": "1.0.0",
      "model_name": "OutputModel",
      "state": {
       "_dom_classes": [],
       "_model_module": "@jupyter-widgets/output",
       "_model_module_version": "1.0.0",
       "_model_name": "OutputModel",
       "_view_count": null,
       "_view_module": "@jupyter-widgets/output",
       "_view_module_version": "1.0.0",
       "_view_name": "OutputView",
       "layout": "IPY_MODEL_2738870a4f2c45b08af674ec5f7a4347",
       "msg_id": "",
       "outputs": [
        {
         "data": {
          "text/markdown": "`hubbard_time_evolution_by_gqsp`",
          "text/plain": "<IPython.core.display.Markdown object>"
         },
         "metadata": {},
         "output_type": "display_data"
        },
        {
         "data": {
          "image/svg+xml": "<svg xmlns=\"http://www.w3.org/2000/svg\" xmlns:xlink=\"http://www.w3.org/1999/xlink\" width=\"331pt\" height=\"530pt\" viewBox=\"0.00 0.00 331.00 530.00\">\n<g id=\"graph0\" class=\"graph\" transform=\"scale(1 1) rotate(0) translate(4 526)\">\n<title>my_graph</title>\n<polygon fill=\"white\" stroke=\"transparent\" points=\"-4,4 -4,-526 327,-526 327,4 -4,4\"/>\n<!-- signal_G20 -->\n<g id=\"node1\" class=\"node\">\n<title>signal_G20</title>\n<text text-anchor=\"middle\" x=\"27\" y=\"-500.3\" font-family=\"Times,serif\" font-size=\"14.00\">signal</text>\n</g>\n<!-- HamiltonianSimulationByGQSP -->\n<g id=\"node11\" class=\"node\">\n<title>HamiltonianSimulationByGQSP</title>\n<polygon fill=\"none\" stroke=\"black\" points=\"91.5,-366 91.5,-383 232.5,-383 232.5,-366 91.5,-366\"/>\n<text text-anchor=\"start\" x=\"94.5\" y=\"-372\" font-family=\"Times,serif\" font-size=\"10.00\">HamiltonianSimulationByGQSP</text>\n<polygon fill=\"none\" stroke=\"black\" points=\"91.5,-345 91.5,-366 232.5,-366 232.5,-345 91.5,-345\"/>\n<text text-anchor=\"start\" x=\"145.5\" y=\"-351.8\" font-family=\"Times,serif\" font-size=\"14.00\">signal</text>\n<polygon fill=\"none\" stroke=\"black\" points=\"91.5,-324 91.5,-345 232.5,-345 232.5,-324 91.5,-324\"/>\n<text text-anchor=\"start\" x=\"147\" y=\"-330.8\" font-family=\"Times,serif\" font-size=\"14.00\">alpha</text>\n<polygon fill=\"none\" stroke=\"black\" points=\"91.5,-303 91.5,-324 232.5,-324 232.5,-303 91.5,-303\"/>\n<text text-anchor=\"start\" x=\"150.5\" y=\"-309.8\" font-family=\"Times,serif\" font-size=\"14.00\">beta</text>\n<polygon fill=\"none\" stroke=\"black\" points=\"91.5,-282 91.5,-303 232.5,-303 232.5,-282 91.5,-282\"/>\n<text text-anchor=\"start\" x=\"151.5\" y=\"-288.8\" font-family=\"Times,serif\" font-size=\"14.00\">p_x</text>\n<polygon fill=\"none\" stroke=\"black\" points=\"91.5,-261 91.5,-282 232.5,-282 232.5,-261 91.5,-261\"/>\n<text text-anchor=\"start\" x=\"151.5\" y=\"-267.8\" font-family=\"Times,serif\" font-size=\"14.00\">p_y</text>\n<polygon fill=\"none\" stroke=\"black\" points=\"91.5,-240 91.5,-261 232.5,-261 232.5,-240 91.5,-240\"/>\n<text text-anchor=\"start\" x=\"151.5\" y=\"-246.8\" font-family=\"Times,serif\" font-size=\"14.00\">q_x</text>\n<polygon fill=\"none\" stroke=\"black\" points=\"91.5,-219 91.5,-240 232.5,-240 232.5,-219 91.5,-219\"/>\n<text text-anchor=\"start\" x=\"157\" y=\"-225.8\" font-family=\"Times,serif\" font-size=\"14.00\">U</text>\n<polygon fill=\"none\" stroke=\"black\" points=\"91.5,-198 91.5,-219 232.5,-219 232.5,-198 91.5,-198\"/>\n<text text-anchor=\"start\" x=\"151.5\" y=\"-204.8\" font-family=\"Times,serif\" font-size=\"14.00\">q_y</text>\n<polygon fill=\"none\" stroke=\"black\" points=\"91.5,-177 91.5,-198 232.5,-198 232.5,-177 91.5,-177\"/>\n<text text-anchor=\"start\" x=\"157\" y=\"-183.8\" font-family=\"Times,serif\" font-size=\"14.00\">V</text>\n<polygon fill=\"none\" stroke=\"black\" points=\"91.5,-156 91.5,-177 232.5,-177 232.5,-156 91.5,-156\"/>\n<text text-anchor=\"start\" x=\"146.5\" y=\"-162.8\" font-family=\"Times,serif\" font-size=\"14.00\">target</text>\n</g>\n<!-- signal_G20&#45;&gt;HamiltonianSimulationByGQSP -->\n<g id=\"edge1\" class=\"edge\">\n<title>signal_G20:e-&gt;HamiltonianSimulationByGQSP:w</title>\n<path fill=\"none\" stroke=\"black\" d=\"M54,-504C87.11,-504 58.51,-362.86 88.72,-356.24\"/>\n<ellipse fill=\"black\" stroke=\"black\" cx=\"90.01\" cy=\"-356.1\" rx=\"1\" ry=\"1\"/>\n<text text-anchor=\"middle\" x=\"72.5\" y=\"-450\" font-family=\"Times,serif\" font-size=\"10.00\">1</text>\n</g>\n<!-- alpha_G19 -->\n<g id=\"node2\" class=\"node\">\n<title>alpha_G19</title>\n<text text-anchor=\"middle\" x=\"27\" y=\"-446.3\" font-family=\"Times,serif\" font-size=\"14.00\">alpha</text>\n</g>\n<!-- alpha_G19&#45;&gt;HamiltonianSimulationByGQSP -->\n<g id=\"edge2\" class=\"edge\">\n<title>alpha_G19:e-&gt;HamiltonianSimulationByGQSP:w</title>\n<path fill=\"none\" stroke=\"black\" d=\"M54,-450C80.11,-450 65.03,-341.2 88.89,-335.25\"/>\n<ellipse fill=\"black\" stroke=\"black\" cx=\"90.01\" cy=\"-335.12\" rx=\"1\" ry=\"1\"/>\n<text text-anchor=\"middle\" x=\"72.5\" y=\"-398\" font-family=\"Times,serif\" font-size=\"10.00\">1</text>\n</g>\n<!-- beta_G15 -->\n<g id=\"node3\" class=\"node\">\n<title>beta_G15</title>\n<text text-anchor=\"middle\" x=\"27\" y=\"-392.3\" font-family=\"Times,serif\" font-size=\"14.00\">beta</text>\n</g>\n<!-- beta_G15&#45;&gt;HamiltonianSimulationByGQSP -->\n<g id=\"edge3\" class=\"edge\">\n<title>beta_G15:e-&gt;HamiltonianSimulationByGQSP:w</title>\n<path fill=\"none\" stroke=\"black\" d=\"M54,-396C93.2,-396 52.66,-317.17 88.75,-314.09\"/>\n<ellipse fill=\"black\" stroke=\"black\" cx=\"90\" cy=\"-314.04\" rx=\"1\" ry=\"1\"/>\n<text text-anchor=\"middle\" x=\"72.5\" y=\"-381\" font-family=\"Times,serif\" font-size=\"10.00\">1</text>\n</g>\n<!-- p_x_G14 -->\n<g id=\"node4\" class=\"node\">\n<title>p_x_G14</title>\n<text text-anchor=\"middle\" x=\"27\" y=\"-338.3\" font-family=\"Times,serif\" font-size=\"14.00\">p_x</text>\n</g>\n<!-- p_x_G14&#45;&gt;HamiltonianSimulationByGQSP -->\n<g id=\"edge4\" class=\"edge\">\n<title>p_x_G14:e-&gt;HamiltonianSimulationByGQSP:w</title>\n<path fill=\"none\" stroke=\"black\" d=\"M54,-342C80.54,-342 64.64,-295.64 88.86,-293.11\"/>\n<ellipse fill=\"black\" stroke=\"black\" cx=\"90\" cy=\"-293.05\" rx=\"1\" ry=\"1\"/>\n<text text-anchor=\"middle\" x=\"72.5\" y=\"-321\" font-family=\"Times,serif\" font-size=\"10.00\">1</text>\n</g>\n<!-- p_y_G17 -->\n<g id=\"node5\" class=\"node\">\n<title>p_y_G17</title>\n<text text-anchor=\"middle\" x=\"27\" y=\"-284.3\" font-family=\"Times,serif\" font-size=\"14.00\">p_y</text>\n</g>\n<!-- p_y_G17&#45;&gt;HamiltonianSimulationByGQSP -->\n<g id=\"edge5\" class=\"edge\">\n<title>p_y_G17:e-&gt;HamiltonianSimulationByGQSP:w</title>\n<path fill=\"none\" stroke=\"black\" d=\"M54,-288C71.22,-288 72.97,-273.23 88.98,-272.07\"/>\n<ellipse fill=\"black\" stroke=\"black\" cx=\"90\" cy=\"-272.04\" rx=\"1\" ry=\"1\"/>\n<text text-anchor=\"middle\" x=\"72.5\" y=\"-283\" font-family=\"Times,serif\" font-size=\"10.00\">1</text>\n</g>\n<!-- q_x_G2 -->\n<g id=\"node6\" class=\"node\">\n<title>q_x_G2</title>\n<text text-anchor=\"middle\" x=\"27\" y=\"-230.3\" font-family=\"Times,serif\" font-size=\"14.00\">q_x</text>\n</g>\n<!-- q_x_G2&#45;&gt;HamiltonianSimulationByGQSP -->\n<g id=\"edge6\" class=\"edge\">\n<title>q_x_G2:e-&gt;HamiltonianSimulationByGQSP:w</title>\n<path fill=\"none\" stroke=\"black\" d=\"M54,-234C71.22,-234 72.97,-248.77 88.98,-249.93\"/>\n<ellipse fill=\"black\" stroke=\"black\" cx=\"90\" cy=\"-249.96\" rx=\"1\" ry=\"1\"/>\n<text text-anchor=\"middle\" x=\"72.5\" y=\"-245\" font-family=\"Times,serif\" font-size=\"10.00\">1</text>\n</g>\n<!-- U_G24 -->\n<g id=\"node7\" class=\"node\">\n<title>U_G24</title>\n<text text-anchor=\"middle\" x=\"27\" y=\"-176.3\" font-family=\"Times,serif\" font-size=\"14.00\">U</text>\n</g>\n<!-- U_G24&#45;&gt;HamiltonianSimulationByGQSP -->\n<g id=\"edge7\" class=\"edge\">\n<title>U_G24:e-&gt;HamiltonianSimulationByGQSP:w</title>\n<path fill=\"none\" stroke=\"black\" d=\"M54,-180C80.54,-180 64.64,-226.36 88.86,-228.89\"/>\n<ellipse fill=\"black\" stroke=\"black\" cx=\"90\" cy=\"-228.95\" rx=\"1\" ry=\"1\"/>\n<text text-anchor=\"middle\" x=\"72.5\" y=\"-208\" font-family=\"Times,serif\" font-size=\"10.00\">1</text>\n</g>\n<!-- q_y_G11 -->\n<g id=\"node8\" class=\"node\">\n<title>q_y_G11</title>\n<text text-anchor=\"middle\" x=\"27\" y=\"-122.3\" font-family=\"Times,serif\" font-size=\"14.00\">q_y</text>\n</g>\n<!-- q_y_G11&#45;&gt;HamiltonianSimulationByGQSP -->\n<g id=\"edge8\" class=\"edge\">\n<title>q_y_G11:e-&gt;HamiltonianSimulationByGQSP:w</title>\n<path fill=\"none\" stroke=\"black\" d=\"M54,-126C93.2,-126 52.66,-204.83 88.75,-207.91\"/>\n<ellipse fill=\"black\" stroke=\"black\" cx=\"90\" cy=\"-207.96\" rx=\"1\" ry=\"1\"/>\n<text text-anchor=\"middle\" x=\"72.5\" y=\"-193\" font-family=\"Times,serif\" font-size=\"10.00\">1</text>\n</g>\n<!-- V_G6 -->\n<g id=\"node9\" class=\"node\">\n<title>V_G6</title>\n<text text-anchor=\"middle\" x=\"27\" y=\"-68.3\" font-family=\"Times,serif\" font-size=\"14.00\">V</text>\n</g>\n<!-- V_G6&#45;&gt;HamiltonianSimulationByGQSP -->\n<g id=\"edge9\" class=\"edge\">\n<title>V_G6:e-&gt;HamiltonianSimulationByGQSP:w</title>\n<path fill=\"none\" stroke=\"black\" d=\"M54,-72C80.11,-72 65.03,-180.8 88.89,-186.75\"/>\n<ellipse fill=\"black\" stroke=\"black\" cx=\"90.01\" cy=\"-186.88\" rx=\"1\" ry=\"1\"/>\n<text text-anchor=\"middle\" x=\"72.5\" y=\"-135\" font-family=\"Times,serif\" font-size=\"10.00\">1</text>\n</g>\n<!-- target_G1 -->\n<g id=\"node10\" class=\"node\">\n<title>target_G1</title>\n<text text-anchor=\"middle\" x=\"27\" y=\"-14.3\" font-family=\"Times,serif\" font-size=\"14.00\">target</text>\n</g>\n<!-- target_G1&#45;&gt;HamiltonianSimulationByGQSP -->\n<g id=\"edge10\" class=\"edge\">\n<title>target_G1:e-&gt;HamiltonianSimulationByGQSP:w</title>\n<path fill=\"none\" stroke=\"black\" d=\"M54,-18C87.11,-18 58.51,-159.14 88.72,-165.76\"/>\n<ellipse fill=\"black\" stroke=\"black\" cx=\"90.01\" cy=\"-165.9\" rx=\"1\" ry=\"1\"/>\n<text text-anchor=\"middle\" x=\"72.5\" y=\"-113\" font-family=\"Times,serif\" font-size=\"10.00\">8</text>\n</g>\n<!-- signal_G12 -->\n<g id=\"node12\" class=\"node\">\n<title>signal_G12</title>\n<text text-anchor=\"middle\" x=\"296\" y=\"-500.3\" font-family=\"Times,serif\" font-size=\"14.00\">signal</text>\n</g>\n<!-- HamiltonianSimulationByGQSP&#45;&gt;signal_G12 -->\n<g id=\"edge11\" class=\"edge\">\n<title>HamiltonianSimulationByGQSP:e-&gt;signal_G12:w</title>\n<path fill=\"none\" stroke=\"black\" d=\"M232,-356C265.11,-356 236.51,-497.14 266.72,-503.76\"/>\n<ellipse fill=\"black\" stroke=\"black\" cx=\"268.01\" cy=\"-503.9\" rx=\"1\" ry=\"1\"/>\n<text text-anchor=\"middle\" x=\"250.5\" y=\"-450\" font-family=\"Times,serif\" font-size=\"10.00\">1</text>\n</g>\n<!-- alpha_G5 -->\n<g id=\"node13\" class=\"node\">\n<title>alpha_G5</title>\n<text text-anchor=\"middle\" x=\"296\" y=\"-446.3\" font-family=\"Times,serif\" font-size=\"14.00\">alpha</text>\n</g>\n<!-- HamiltonianSimulationByGQSP&#45;&gt;alpha_G5 -->\n<g id=\"edge12\" class=\"edge\">\n<title>HamiltonianSimulationByGQSP:e-&gt;alpha_G5:w</title>\n<path fill=\"none\" stroke=\"black\" d=\"M232,-335C258.11,-335 243.03,-443.8 266.89,-449.75\"/>\n<ellipse fill=\"black\" stroke=\"black\" cx=\"268.01\" cy=\"-449.88\" rx=\"1\" ry=\"1\"/>\n<text text-anchor=\"middle\" x=\"250.5\" y=\"-398\" font-family=\"Times,serif\" font-size=\"10.00\">1</text>\n</g>\n<!-- beta_G21 -->\n<g id=\"node14\" class=\"node\">\n<title>beta_G21</title>\n<text text-anchor=\"middle\" x=\"296\" y=\"-392.3\" font-family=\"Times,serif\" font-size=\"14.00\">beta</text>\n</g>\n<!-- HamiltonianSimulationByGQSP&#45;&gt;beta_G21 -->\n<g id=\"edge13\" class=\"edge\">\n<title>HamiltonianSimulationByGQSP:e-&gt;beta_G21:w</title>\n<path fill=\"none\" stroke=\"black\" d=\"M232,-314C271.2,-314 230.66,-392.83 266.75,-395.91\"/>\n<ellipse fill=\"black\" stroke=\"black\" cx=\"268\" cy=\"-395.96\" rx=\"1\" ry=\"1\"/>\n<text text-anchor=\"middle\" x=\"250.5\" y=\"-381\" font-family=\"Times,serif\" font-size=\"10.00\">1</text>\n</g>\n<!-- p_x_G0 -->\n<g id=\"node15\" class=\"node\">\n<title>p_x_G0</title>\n<text text-anchor=\"middle\" x=\"296\" y=\"-338.3\" font-family=\"Times,serif\" font-size=\"14.00\">p_x</text>\n</g>\n<!-- HamiltonianSimulationByGQSP&#45;&gt;p_x_G0 -->\n<g id=\"edge14\" class=\"edge\">\n<title>HamiltonianSimulationByGQSP:e-&gt;p_x_G0:w</title>\n<path fill=\"none\" stroke=\"black\" d=\"M232,-293C258.54,-293 242.64,-339.36 266.86,-341.89\"/>\n<ellipse fill=\"black\" stroke=\"black\" cx=\"268\" cy=\"-341.95\" rx=\"1\" ry=\"1\"/>\n<text text-anchor=\"middle\" x=\"250.5\" y=\"-321\" font-family=\"Times,serif\" font-size=\"10.00\">1</text>\n</g>\n<!-- p_y_G8 -->\n<g id=\"node16\" class=\"node\">\n<title>p_y_G8</title>\n<text text-anchor=\"middle\" x=\"296\" y=\"-284.3\" font-family=\"Times,serif\" font-size=\"14.00\">p_y</text>\n</g>\n<!-- HamiltonianSimulationByGQSP&#45;&gt;p_y_G8 -->\n<g id=\"edge15\" class=\"edge\">\n<title>HamiltonianSimulationByGQSP:e-&gt;p_y_G8:w</title>\n<path fill=\"none\" stroke=\"black\" d=\"M232,-272C249.22,-272 250.97,-286.77 266.98,-287.93\"/>\n<ellipse fill=\"black\" stroke=\"black\" cx=\"268\" cy=\"-287.96\" rx=\"1\" ry=\"1\"/>\n<text text-anchor=\"middle\" x=\"250.5\" y=\"-283\" font-family=\"Times,serif\" font-size=\"10.00\">1</text>\n</g>\n<!-- q_x_G22 -->\n<g id=\"node17\" class=\"node\">\n<title>q_x_G22</title>\n<text text-anchor=\"middle\" x=\"296\" y=\"-230.3\" font-family=\"Times,serif\" font-size=\"14.00\">q_x</text>\n</g>\n<!-- HamiltonianSimulationByGQSP&#45;&gt;q_x_G22 -->\n<g id=\"edge16\" class=\"edge\">\n<title>HamiltonianSimulationByGQSP:e-&gt;q_x_G22:w</title>\n<path fill=\"none\" stroke=\"black\" d=\"M232,-250C249.22,-250 250.97,-235.23 266.98,-234.07\"/>\n<ellipse fill=\"black\" stroke=\"black\" cx=\"268\" cy=\"-234.04\" rx=\"1\" ry=\"1\"/>\n<text text-anchor=\"middle\" x=\"250.5\" y=\"-245\" font-family=\"Times,serif\" font-size=\"10.00\">1</text>\n</g>\n<!-- U_G4 -->\n<g id=\"node18\" class=\"node\">\n<title>U_G4</title>\n<text text-anchor=\"middle\" x=\"296\" y=\"-176.3\" font-family=\"Times,serif\" font-size=\"14.00\">U</text>\n</g>\n<!-- HamiltonianSimulationByGQSP&#45;&gt;U_G4 -->\n<g id=\"edge17\" class=\"edge\">\n<title>HamiltonianSimulationByGQSP:e-&gt;U_G4:w</title>\n<path fill=\"none\" stroke=\"black\" d=\"M232,-229C258.54,-229 242.64,-182.64 266.86,-180.11\"/>\n<ellipse fill=\"black\" stroke=\"black\" cx=\"268\" cy=\"-180.05\" rx=\"1\" ry=\"1\"/>\n<text text-anchor=\"middle\" x=\"250.5\" y=\"-208\" font-family=\"Times,serif\" font-size=\"10.00\">1</text>\n</g>\n<!-- q_y_G18 -->\n<g id=\"node19\" class=\"node\">\n<title>q_y_G18</title>\n<text text-anchor=\"middle\" x=\"296\" y=\"-122.3\" font-family=\"Times,serif\" font-size=\"14.00\">q_y</text>\n</g>\n<!-- HamiltonianSimulationByGQSP&#45;&gt;q_y_G18 -->\n<g id=\"edge18\" class=\"edge\">\n<title>HamiltonianSimulationByGQSP:e-&gt;q_y_G18:w</title>\n<path fill=\"none\" stroke=\"black\" d=\"M232,-208C271.2,-208 230.66,-129.17 266.75,-126.09\"/>\n<ellipse fill=\"black\" stroke=\"black\" cx=\"268\" cy=\"-126.04\" rx=\"1\" ry=\"1\"/>\n<text text-anchor=\"middle\" x=\"250.5\" y=\"-193\" font-family=\"Times,serif\" font-size=\"10.00\">1</text>\n</g>\n<!-- V_G27 -->\n<g id=\"node20\" class=\"node\">\n<title>V_G27</title>\n<text text-anchor=\"middle\" x=\"296\" y=\"-68.3\" font-family=\"Times,serif\" font-size=\"14.00\">V</text>\n</g>\n<!-- HamiltonianSimulationByGQSP&#45;&gt;V_G27 -->\n<g id=\"edge19\" class=\"edge\">\n<title>HamiltonianSimulationByGQSP:e-&gt;V_G27:w</title>\n<path fill=\"none\" stroke=\"black\" d=\"M232,-187C258.11,-187 243.03,-78.2 266.89,-72.25\"/>\n<ellipse fill=\"black\" stroke=\"black\" cx=\"268.01\" cy=\"-72.12\" rx=\"1\" ry=\"1\"/>\n<text text-anchor=\"middle\" x=\"250.5\" y=\"-135\" font-family=\"Times,serif\" font-size=\"10.00\">1</text>\n</g>\n<!-- target_G26 -->\n<g id=\"node21\" class=\"node\">\n<title>target_G26</title>\n<text text-anchor=\"middle\" x=\"296\" y=\"-14.3\" font-family=\"Times,serif\" font-size=\"14.00\">target</text>\n</g>\n<!-- HamiltonianSimulationByGQSP&#45;&gt;target_G26 -->\n<g id=\"edge20\" class=\"edge\">\n<title>HamiltonianSimulationByGQSP:e-&gt;target_G26:w</title>\n<path fill=\"none\" stroke=\"black\" d=\"M232,-166C265.11,-166 236.51,-24.86 266.72,-18.24\"/>\n<ellipse fill=\"black\" stroke=\"black\" cx=\"268.01\" cy=\"-18.1\" rx=\"1\" ry=\"1\"/>\n<text text-anchor=\"middle\" x=\"250.5\" y=\"-113\" font-family=\"Times,serif\" font-size=\"10.00\">8</text>\n</g>\n</g>\n</svg>",
          "text/plain": "<IPython.core.display.SVG object>"
         },
         "metadata": {},
         "output_type": "display_data"
        }
       ],
       "tabbable": null,
       "tooltip": null
      }
     },
     "8425a396876449f395443dd0f6627103": {
      "model_module": "@jupyter-widgets/base",
      "model_module_version": "2.0.0",
      "model_name": "LayoutModel",
      "state": {
       "_model_module": "@jupyter-widgets/base",
       "_model_module_version": "2.0.0",
       "_model_name": "LayoutModel",
       "_view_count": null,
       "_view_module": "@jupyter-widgets/base",
       "_view_module_version": "2.0.0",
       "_view_name": "LayoutView",
       "align_content": null,
       "align_items": null,
       "align_self": null,
       "border_bottom": null,
       "border_left": null,
       "border_right": null,
       "border_top": null,
       "bottom": null,
       "display": null,
       "flex": null,
       "flex_flow": null,
       "grid_area": null,
       "grid_auto_columns": null,
       "grid_auto_flow": null,
       "grid_auto_rows": null,
       "grid_column": null,
       "grid_gap": null,
       "grid_row": null,
       "grid_template_areas": null,
       "grid_template_columns": null,
       "grid_template_rows": null,
       "height": null,
       "justify_content": null,
       "justify_items": null,
       "left": null,
       "margin": null,
       "max_height": null,
       "max_width": null,
       "min_height": null,
       "min_width": null,
       "object_fit": null,
       "object_position": null,
       "order": null,
       "overflow": null,
       "padding": null,
       "right": null,
       "top": null,
       "visibility": null,
       "width": null
      }
     },
     "b355fedefd9648f5af04e3da1ccb3f06": {
      "model_module": "@jupyter-widgets/base",
      "model_module_version": "2.0.0",
      "model_name": "LayoutModel",
      "state": {
       "_model_module": "@jupyter-widgets/base",
       "_model_module_version": "2.0.0",
       "_model_name": "LayoutModel",
       "_view_count": null,
       "_view_module": "@jupyter-widgets/base",
       "_view_module_version": "2.0.0",
       "_view_name": "LayoutView",
       "align_content": null,
       "align_items": null,
       "align_self": null,
       "border_bottom": null,
       "border_left": null,
       "border_right": null,
       "border_top": null,
       "bottom": null,
       "display": null,
       "flex": null,
       "flex_flow": null,
       "grid_area": null,
       "grid_auto_columns": null,
       "grid_auto_flow": null,
       "grid_auto_rows": null,
       "grid_column": null,
       "grid_gap": null,
       "grid_row": null,
       "grid_template_areas": null,
       "grid_template_columns": null,
       "grid_template_rows": null,
       "height": null,
       "justify_content": null,
       "justify_items": null,
       "left": null,
       "margin": null,
       "max_height": null,
       "max_width": null,
       "min_height": null,
       "min_width": null,
       "object_fit": null,
       "object_position": null,
       "order": null,
       "overflow": null,
       "padding": null,
       "right": null,
       "top": null,
       "visibility": null,
       "width": null
      }
     }
    },
    "version_major": 2,
    "version_minor": 0
   }
  }
 },
 "nbformat": 4,
 "nbformat_minor": 5
}
