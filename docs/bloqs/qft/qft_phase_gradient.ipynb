{
 "cells": [
  {
   "cell_type": "markdown",
   "id": "f5f7b6eb",
   "metadata": {
    "cq.autogen": "title_cell"
   },
   "source": [
    "# Phase Gradient QFT"
   ]
  },
  {
   "cell_type": "code",
   "execution_count": 1,
   "id": "e59e16a4",
   "metadata": {
    "cq.autogen": "top_imports"
   },
   "outputs": [],
   "source": [
    "from qualtran import Bloq, CompositeBloq, BloqBuilder, Signature, Register\n",
    "from qualtran import QBit, QInt, QUInt, QAny\n",
    "from qualtran.drawing import show_bloq, show_call_graph, show_counts_sigma\n",
    "from typing import *\n",
    "import numpy as np\n",
    "import sympy\n",
    "import cirq"
   ]
  },
  {
   "cell_type": "markdown",
   "id": "a576d89e",
   "metadata": {
    "cq.autogen": "QFTPhaseGradient.bloq_doc.md"
   },
   "source": [
    "## `QFTPhaseGradient`\n",
    "QFT implemented using coherent addition into a phase gradient register\n",
    "\n",
    " A variant of the Quantum Fourier Transform (QFT) that utilizes an additional register provided\n",
    " in a phase gradient state to switch controlled rotations to coherent additions. Given an\n",
    " ancilla register prepared in the state\n",
    "$$\n",
    "    \\frac{1}{\\sqrt{2^{n}}} \\sum_{k=0}^{2^{n} - 1} \\omega_{n}^{-k} |k\\rangle,\n",
    "$$\n",
    "then coherent addition from the system into the ancilla applies the same phase that the\n",
    "controlled rotation in textbook QFT does. This reduces the number of T-gates to $O(n^2)$\n",
    "and requires no additional arbitrary rotations beyond the one time ancilla preparation cost.\n",
    "\n",
    "The size of the ancilla register is important, if the ancilla has less\n",
    "qubits than the system register then the accuracy of the QFT applied will be\n",
    "reduced. This implementation assumes an ancilla with `bitsize` qubits. See `ApproximateQFT` for\n",
    "an implementation or the linked reference for details.\n",
    "\n",
    "#### Parameters\n",
    " - `bitsize`: Size of input register to apply QFT on.\n",
    " - `with_reverse`: Whether or not to include the swaps at the end of the circuit decomposition that reverse the order of the qubits. If True, the swaps are inserted. Defaults to True. These are technically necessary in order to perform the correct effect, but can almost always be optimized away by just performing later operations on different qubits. \n",
    "\n",
    "#### Registers\n",
    " - `q`: The register to perform the QFT on.\n",
    " - `phase_grad`: An ancilla register assumed to be prepared in a phase gradient state. See `qualtran/bloqs/rotations/phase_gradient` for more information on how to prepare these states. \n",
    "\n",
    "Costs:\n",
    "    Qubits: Requires $2n$ qubits, $n$ for the register the QFT is performed on and $n$ for the\n",
    "        phase gradient ancilla. No additional qubits are allocated.\n",
    "    T gates: $O(n^2)$, based on the approximation for `PlusEqualsProduct`\n",
    "\n",
    "#### References\n",
    " - [Turning Gradients into Additions into QFTs](https://algassert.com/post/1620). \n"
   ]
  },
  {
   "cell_type": "code",
   "execution_count": 2,
   "id": "ac366e73",
   "metadata": {
    "cq.autogen": "QFTPhaseGradient.bloq_doc.py"
   },
   "outputs": [],
   "source": [
    "from qualtran.bloqs.qft import QFTPhaseGradient"
   ]
  },
  {
   "cell_type": "markdown",
   "id": "a263029e",
   "metadata": {
    "cq.autogen": "QFTPhaseGradient.example_instances.md"
   },
   "source": [
    "### Example Instances"
   ]
  },
  {
   "cell_type": "code",
   "execution_count": 3,
   "id": "4fbea763",
   "metadata": {
    "cq.autogen": "QFTPhaseGradient.qft_phase_gradient_small"
   },
   "outputs": [],
   "source": [
    "qft_phase_gradient_small = QFTPhaseGradient(3)"
   ]
  },
  {
   "cell_type": "markdown",
   "id": "7771a2aa",
   "metadata": {
    "cq.autogen": "QFTPhaseGradient.graphical_signature.md"
   },
   "source": [
    "#### Graphical Signature"
   ]
  },
  {
   "cell_type": "code",
   "execution_count": 4,
   "id": "eff00465",
   "metadata": {
    "cq.autogen": "QFTPhaseGradient.graphical_signature.py"
   },
   "outputs": [
    {
     "data": {
      "application/vnd.jupyter.widget-view+json": {
       "model_id": "d976d1a744e942e9835d3df47bb4b331",
       "version_major": 2,
       "version_minor": 0
      },
      "text/plain": [
       "HBox(children=(Output(outputs=({'output_type': 'display_data', 'data': {'text/plain': '<IPython.core.display.M…"
      ]
     },
     "metadata": {},
     "output_type": "display_data"
    }
   ],
   "source": [
    "from qualtran.drawing import show_bloqs\n",
    "show_bloqs([qft_phase_gradient_small],\n",
    "           ['`qft_phase_gradient_small`'])"
   ]
  },
  {
   "cell_type": "markdown",
   "id": "3b2f69c8",
   "metadata": {
    "cq.autogen": "QFTPhaseGradient.call_graph.md"
   },
   "source": [
    "### Call Graph"
   ]
  },
  {
   "cell_type": "code",
   "execution_count": 5,
   "id": "cad50d97",
   "metadata": {
    "cq.autogen": "QFTPhaseGradient.call_graph.py"
   },
   "outputs": [
    {
     "data": {
      "image/svg+xml": [
       "<svg xmlns=\"http://www.w3.org/2000/svg\" xmlns:xlink=\"http://www.w3.org/1999/xlink\" width=\"434pt\" height=\"131pt\" viewBox=\"0.00 0.00 434.00 131.00\">\n",
       "<g id=\"graph0\" class=\"graph\" transform=\"scale(1 1) rotate(0) translate(4 127)\">\n",
       "<title>counts</title>\n",
       "<polygon fill=\"white\" stroke=\"transparent\" points=\"-4,4 -4,-127 430,-127 430,4 -4,4\"/>\n",
       "<!-- b0 -->\n",
       "<g id=\"node1\" class=\"node\">\n",
       "<title>b0</title>\n",
       "<polygon fill=\"none\" stroke=\"black\" points=\"195,-93 195,-116 287,-116 287,-93 195,-93\"/>\n",
       "<text text-anchor=\"start\" x=\"201.5\" y=\"-102\" font-family=\"Times,serif\" font-size=\"10.00\">QFTPhaseGradient</text>\n",
       "</g>\n",
       "<!-- b1 -->\n",
       "<g id=\"node2\" class=\"node\">\n",
       "<title>b1</title>\n",
       "<polygon fill=\"none\" stroke=\"black\" points=\"8,-6 8,-29 100,-29 100,-6 8,-6\"/>\n",
       "<text text-anchor=\"start\" x=\"14.5\" y=\"-15\" font-family=\"Times,serif\" font-size=\"10.00\">QFTPhaseGradient</text>\n",
       "</g>\n",
       "<!-- b0&#45;&gt;b1 -->\n",
       "<g id=\"edge1\" class=\"edge\">\n",
       "<title>b0-&gt;b1</title>\n",
       "<path fill=\"none\" stroke=\"black\" d=\"M203.16,-86.8C173.66,-73.39 132.54,-54.7 100.94,-40.34\"/>\n",
       "<polygon fill=\"black\" stroke=\"black\" points=\"102.02,-36.98 91.47,-36.03 99.12,-43.35 102.02,-36.98\"/>\n",
       "<text text-anchor=\"middle\" x=\"162.5\" y=\"-57.8\" font-family=\"Times,serif\" font-size=\"14.00\">1</text>\n",
       "</g>\n",
       "<!-- b2 -->\n",
       "<g id=\"node3\" class=\"node\">\n",
       "<title>b2</title>\n",
       "<polygon fill=\"none\" stroke=\"black\" points=\"134,-6 134,-29 226,-29 226,-6 134,-6\"/>\n",
       "<text text-anchor=\"start\" x=\"140.5\" y=\"-15\" font-family=\"Times,serif\" font-size=\"10.00\">QFTPhaseGradient</text>\n",
       "</g>\n",
       "<!-- b0&#45;&gt;b2 -->\n",
       "<g id=\"edge2\" class=\"edge\">\n",
       "<title>b0-&gt;b2</title>\n",
       "<path fill=\"none\" stroke=\"black\" d=\"M228.66,-86.8C219.97,-74.7 208.21,-58.3 198.42,-44.67\"/>\n",
       "<polygon fill=\"black\" stroke=\"black\" points=\"201,-42.26 192.33,-36.18 195.31,-46.34 201,-42.26\"/>\n",
       "<text text-anchor=\"middle\" x=\"218.5\" y=\"-57.8\" font-family=\"Times,serif\" font-size=\"14.00\">1</text>\n",
       "</g>\n",
       "<!-- b3 -->\n",
       "<g id=\"node4\" class=\"node\">\n",
       "<title>b3</title>\n",
       "<polygon fill=\"none\" stroke=\"black\" points=\"260,-6 260,-29 346,-29 346,-6 260,-6\"/>\n",
       "<text text-anchor=\"start\" x=\"266.5\" y=\"-15\" font-family=\"Times,serif\" font-size=\"10.00\">PlusEqualProduct</text>\n",
       "</g>\n",
       "<!-- b0&#45;&gt;b3 -->\n",
       "<g id=\"edge3\" class=\"edge\">\n",
       "<title>b0-&gt;b3</title>\n",
       "<path fill=\"none\" stroke=\"black\" d=\"M253.55,-86.8C262.45,-74.59 274.56,-57.99 284.56,-44.28\"/>\n",
       "<polygon fill=\"black\" stroke=\"black\" points=\"287.41,-46.32 290.47,-36.18 281.75,-42.19 287.41,-46.32\"/>\n",
       "<text text-anchor=\"middle\" x=\"279.5\" y=\"-57.8\" font-family=\"Times,serif\" font-size=\"14.00\">1</text>\n",
       "</g>\n",
       "<!-- b4 -->\n",
       "<g id=\"node5\" class=\"node\">\n",
       "<title>b4</title>\n",
       "<polygon fill=\"none\" stroke=\"black\" points=\"381,-6 381,-29 417,-29 417,-6 381,-6\"/>\n",
       "<text text-anchor=\"start\" x=\"387.5\" y=\"-15\" font-family=\"Times,serif\" font-size=\"10.00\">Swap</text>\n",
       "</g>\n",
       "<!-- b0&#45;&gt;b4 -->\n",
       "<g id=\"edge4\" class=\"edge\">\n",
       "<title>b0-&gt;b4</title>\n",
       "<path fill=\"none\" stroke=\"black\" d=\"M272.97,-86.8C298.95,-72.83 335.58,-53.12 362.66,-38.55\"/>\n",
       "<polygon fill=\"black\" stroke=\"black\" points=\"364.66,-41.45 371.81,-33.63 361.35,-35.28 364.66,-41.45\"/>\n",
       "<text text-anchor=\"middle\" x=\"332.5\" y=\"-57.8\" font-family=\"Times,serif\" font-size=\"14.00\">1</text>\n",
       "</g>\n",
       "</g>\n",
       "</svg>"
      ],
      "text/plain": [
       "<IPython.core.display.SVG object>"
      ]
     },
     "metadata": {},
     "output_type": "display_data"
    },
    {
     "data": {
      "text/markdown": [
       "#### Counts totals:\n",
       " - `PlusEqualProduct`: 1\n",
       " - `QFTPhaseGradient`: 1\n",
       " - `QFTPhaseGradient`: 1\n",
       " - `Swap`: 1"
      ],
      "text/plain": [
       "<IPython.core.display.Markdown object>"
      ]
     },
     "metadata": {},
     "output_type": "display_data"
    }
   ],
   "source": [
    "from qualtran.resource_counting.generalizers import ignore_split_join\n",
    "qft_phase_gradient_small_g, qft_phase_gradient_small_sigma = qft_phase_gradient_small.call_graph(max_depth=1, generalizer=ignore_split_join)\n",
    "show_call_graph(qft_phase_gradient_small_g)\n",
    "show_counts_sigma(qft_phase_gradient_small_sigma)"
   ]
  }
 ],
 "metadata": {
  "kernelspec": {
   "display_name": "Python 3",
   "language": "python",
   "name": "python3"
  },
  "language_info": {
   "codemirror_mode": {
    "name": "ipython",
    "version": 3
   },
   "file_extension": ".py",
   "mimetype": "text/x-python",
   "name": "python",
   "nbconvert_exporter": "python",
   "pygments_lexer": "ipython3",
   "version": "3.11.8"
  },
  "widgets": {
   "application/vnd.jupyter.widget-state+json": {
    "state": {
     "80c6ce91d5be46759095adc4396cf052": {
      "model_module": "@jupyter-widgets/base",
      "model_module_version": "2.0.0",
      "model_name": "LayoutModel",
      "state": {
       "_model_module": "@jupyter-widgets/base",
       "_model_module_version": "2.0.0",
       "_model_name": "LayoutModel",
       "_view_count": null,
       "_view_module": "@jupyter-widgets/base",
       "_view_module_version": "2.0.0",
       "_view_name": "LayoutView",
       "align_content": null,
       "align_items": null,
       "align_self": null,
       "border_bottom": null,
       "border_left": null,
       "border_right": null,
       "border_top": null,
       "bottom": null,
       "display": null,
       "flex": null,
       "flex_flow": null,
       "grid_area": null,
       "grid_auto_columns": null,
       "grid_auto_flow": null,
       "grid_auto_rows": null,
       "grid_column": null,
       "grid_gap": null,
       "grid_row": null,
       "grid_template_areas": null,
       "grid_template_columns": null,
       "grid_template_rows": null,
       "height": null,
       "justify_content": null,
       "justify_items": null,
       "left": null,
       "margin": null,
       "max_height": null,
       "max_width": null,
       "min_height": null,
       "min_width": null,
       "object_fit": null,
       "object_position": null,
       "order": null,
       "overflow": null,
       "padding": null,
       "right": null,
       "top": null,
       "visibility": null,
       "width": null
      }
     },
     "b56d83379ce148f19958a1eacb19d0dd": {
      "model_module": "@jupyter-widgets/output",
      "model_module_version": "1.0.0",
      "model_name": "OutputModel",
      "state": {
       "_dom_classes": [],
       "_model_module": "@jupyter-widgets/output",
       "_model_module_version": "1.0.0",
       "_model_name": "OutputModel",
       "_view_count": null,
       "_view_module": "@jupyter-widgets/output",
       "_view_module_version": "1.0.0",
       "_view_name": "OutputView",
       "layout": "IPY_MODEL_c76402a3824641008dbb3e6ae58c6d23",
       "msg_id": "",
       "outputs": [
        {
         "data": {
          "text/markdown": "`qft_phase_gradient_small`",
          "text/plain": "<IPython.core.display.Markdown object>"
         },
         "metadata": {},
         "output_type": "display_data"
        },
        {
         "data": {
          "image/svg+xml": "<svg xmlns=\"http://www.w3.org/2000/svg\" xmlns:xlink=\"http://www.w3.org/1999/xlink\" width=\"323pt\" height=\"98pt\" viewBox=\"0.00 0.00 323.00 98.00\">\n<g id=\"graph0\" class=\"graph\" transform=\"scale(1 1) rotate(0) translate(4 94)\">\n<title>my_graph</title>\n<polygon fill=\"white\" stroke=\"transparent\" points=\"-4,4 -4,-94 319,-94 319,4 -4,4\"/>\n<!-- q_G4 -->\n<g id=\"node1\" class=\"node\">\n<title>q_G4</title>\n<text text-anchor=\"middle\" x=\"39\" y=\"-68.3\" font-family=\"Times,serif\" font-size=\"14.00\">q</text>\n</g>\n<!-- QFTPhaseGradient -->\n<g id=\"node3\" class=\"node\">\n<title>QFTPhaseGradient</title>\n<polygon fill=\"none\" stroke=\"black\" points=\"115.5,-66 115.5,-83 200.5,-83 200.5,-66 115.5,-66\"/>\n<text text-anchor=\"start\" x=\"118.5\" y=\"-72\" font-family=\"Times,serif\" font-size=\"10.00\">QFTPhaseGradient</text>\n<polygon fill=\"none\" stroke=\"black\" points=\"115.5,-45 115.5,-66 200.5,-66 200.5,-45 115.5,-45\"/>\n<text text-anchor=\"start\" x=\"154.5\" y=\"-51.8\" font-family=\"Times,serif\" font-size=\"14.00\">q</text>\n<polygon fill=\"none\" stroke=\"black\" points=\"115.5,-24 115.5,-45 200.5,-45 200.5,-24 115.5,-24\"/>\n<text text-anchor=\"start\" x=\"127\" y=\"-30.8\" font-family=\"Times,serif\" font-size=\"14.00\">phase_grad</text>\n</g>\n<!-- q_G4&#45;&gt;QFTPhaseGradient -->\n<g id=\"edge1\" class=\"edge\">\n<title>q_G4:e-&gt;QFTPhaseGradient:w</title>\n<path fill=\"none\" stroke=\"black\" d=\"M67,-72C88.78,-72 92.3,-56.98 112.95,-56.05\"/>\n<ellipse fill=\"black\" stroke=\"black\" cx=\"114\" cy=\"-56.02\" rx=\"1\" ry=\"1\"/>\n<text text-anchor=\"middle\" x=\"96.5\" y=\"-63\" font-family=\"Times,serif\" font-size=\"10.00\">3</text>\n</g>\n<!-- phase_grad_G5 -->\n<g id=\"node2\" class=\"node\">\n<title>phase_grad_G5</title>\n<text text-anchor=\"middle\" x=\"39\" y=\"-14.3\" font-family=\"Times,serif\" font-size=\"14.00\">phase_grad</text>\n</g>\n<!-- phase_grad_G5&#45;&gt;QFTPhaseGradient -->\n<g id=\"edge2\" class=\"edge\">\n<title>phase_grad_G5:e-&gt;QFTPhaseGradient:w</title>\n<path fill=\"none\" stroke=\"black\" d=\"M78,-18C95.22,-18 96.97,-32.77 112.98,-33.93\"/>\n<ellipse fill=\"black\" stroke=\"black\" cx=\"114\" cy=\"-33.96\" rx=\"1\" ry=\"1\"/>\n<text text-anchor=\"middle\" x=\"96.5\" y=\"-29\" font-family=\"Times,serif\" font-size=\"10.00\">3</text>\n</g>\n<!-- q_G2 -->\n<g id=\"node4\" class=\"node\">\n<title>q_G2</title>\n<text text-anchor=\"middle\" x=\"276\" y=\"-68.3\" font-family=\"Times,serif\" font-size=\"14.00\">q</text>\n</g>\n<!-- QFTPhaseGradient&#45;&gt;q_G2 -->\n<g id=\"edge3\" class=\"edge\">\n<title>QFTPhaseGradient:e-&gt;q_G2:w</title>\n<path fill=\"none\" stroke=\"black\" d=\"M200,-56C221.78,-56 225.3,-71.02 245.95,-71.95\"/>\n<ellipse fill=\"black\" stroke=\"black\" cx=\"247\" cy=\"-71.98\" rx=\"1\" ry=\"1\"/>\n<text text-anchor=\"middle\" x=\"218.5\" y=\"-63\" font-family=\"Times,serif\" font-size=\"10.00\">3</text>\n</g>\n<!-- phase_grad_G0 -->\n<g id=\"node5\" class=\"node\">\n<title>phase_grad_G0</title>\n<text text-anchor=\"middle\" x=\"276\" y=\"-14.3\" font-family=\"Times,serif\" font-size=\"14.00\">phase_grad</text>\n</g>\n<!-- QFTPhaseGradient&#45;&gt;phase_grad_G0 -->\n<g id=\"edge4\" class=\"edge\">\n<title>QFTPhaseGradient:e-&gt;phase_grad_G0:w</title>\n<path fill=\"none\" stroke=\"black\" d=\"M200,-34C217.22,-34 218.97,-19.23 234.98,-18.07\"/>\n<ellipse fill=\"black\" stroke=\"black\" cx=\"236\" cy=\"-18.04\" rx=\"1\" ry=\"1\"/>\n<text text-anchor=\"middle\" x=\"218.5\" y=\"-29\" font-family=\"Times,serif\" font-size=\"10.00\">3</text>\n</g>\n</g>\n</svg>",
          "text/plain": "<IPython.core.display.SVG object>"
         },
         "metadata": {},
         "output_type": "display_data"
        }
       ],
       "tabbable": null,
       "tooltip": null
      }
     },
     "c76402a3824641008dbb3e6ae58c6d23": {
      "model_module": "@jupyter-widgets/base",
      "model_module_version": "2.0.0",
      "model_name": "LayoutModel",
      "state": {
       "_model_module": "@jupyter-widgets/base",
       "_model_module_version": "2.0.0",
       "_model_name": "LayoutModel",
       "_view_count": null,
       "_view_module": "@jupyter-widgets/base",
       "_view_module_version": "2.0.0",
       "_view_name": "LayoutView",
       "align_content": null,
       "align_items": null,
       "align_self": null,
       "border_bottom": null,
       "border_left": null,
       "border_right": null,
       "border_top": null,
       "bottom": null,
       "display": null,
       "flex": null,
       "flex_flow": null,
       "grid_area": null,
       "grid_auto_columns": null,
       "grid_auto_flow": null,
       "grid_auto_rows": null,
       "grid_column": null,
       "grid_gap": null,
       "grid_row": null,
       "grid_template_areas": null,
       "grid_template_columns": null,
       "grid_template_rows": null,
       "height": null,
       "justify_content": null,
       "justify_items": null,
       "left": null,
       "margin": null,
       "max_height": null,
       "max_width": null,
       "min_height": null,
       "min_width": null,
       "object_fit": null,
       "object_position": null,
       "order": null,
       "overflow": null,
       "padding": null,
       "right": null,
       "top": null,
       "visibility": null,
       "width": null
      }
     },
     "d976d1a744e942e9835d3df47bb4b331": {
      "model_module": "@jupyter-widgets/controls",
      "model_module_version": "2.0.0",
      "model_name": "HBoxModel",
      "state": {
       "_dom_classes": [],
       "_model_module": "@jupyter-widgets/controls",
       "_model_module_version": "2.0.0",
       "_model_name": "HBoxModel",
       "_view_count": null,
       "_view_module": "@jupyter-widgets/controls",
       "_view_module_version": "2.0.0",
       "_view_name": "HBoxView",
       "box_style": "",
       "children": [
        "IPY_MODEL_b56d83379ce148f19958a1eacb19d0dd"
       ],
       "layout": "IPY_MODEL_80c6ce91d5be46759095adc4396cf052",
       "tabbable": null,
       "tooltip": null
      }
     }
    },
    "version_major": 2,
    "version_minor": 0
   }
  }
 },
 "nbformat": 4,
 "nbformat_minor": 5
}
