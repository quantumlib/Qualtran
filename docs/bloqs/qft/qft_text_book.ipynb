{
 "cells": [
  {
   "cell_type": "markdown",
   "id": "ca81e938",
   "metadata": {
    "cq.autogen": "title_cell"
   },
   "source": [
    "# Textbook QFT"
   ]
  },
  {
   "cell_type": "code",
   "execution_count": 1,
   "id": "576f7316",
   "metadata": {
    "cq.autogen": "top_imports"
   },
   "outputs": [],
   "source": [
    "from qualtran import Bloq, CompositeBloq, BloqBuilder, Signature, Register\n",
    "from qualtran import QBit, QInt, QUInt, QAny\n",
    "from qualtran.drawing import show_bloq, show_call_graph, show_counts_sigma\n",
    "from typing import *\n",
    "import numpy as np\n",
    "import sympy\n",
    "import cirq"
   ]
  },
  {
   "cell_type": "markdown",
   "id": "b40ca3c4",
   "metadata": {
    "cq.autogen": "QFTTextBook.bloq_doc.md"
   },
   "source": [
    "## `QFTTextBook`\n",
    "Standard Quantum Fourier Transform from Nielsen and Chuang\n",
    "\n",
    "Performs the QFT on a register of `bitsize` qubits utilizing\n",
    "$n$ Hadamards and $n * (n - 1) / 2$ controlled Z\n",
    "rotations, along with a reversal of qubit ordering specified via\n",
    "`with_reverse` which defaults to `True`. `bitsize` can be provided numerically or symbolically.\n",
    "More specific QFT implementations can be found:\n",
    "- `ApproximateQFT` A less accurate QFT which ignores small phase rotations.\n",
    "- `QFTPhaseGradient` requires an additional input phase gradient register\n",
    "to be provided but utilizes controlled addition instead of rotations, which leads to reduced\n",
    "T-gate complexity.\n",
    "- `TwoBitFFFT` if you need to implement a two-qubit fermionic Fourier transform.\n",
    "\n",
    "#### Registers\n",
    " - `q`: A `QUInt` of `bitsize` qubits on which the QFT is performed. \n",
    "\n",
    "#### References\n",
    " - [Quantum Computation and Quantum Information: 10th Anniversary Edition,     Nielsen & Chuang](https://www.cambridge.org/highereducation/books/quantum-computation-and-quantum-information/01E10196D0A682A6AEFFEA52D53BE9AE#overview).     Chapter 5.1\n",
    "\n",
    "#### Parameters\n",
    " - `bitsize`: Size of the input register to apply QFT on.\n",
    " - `with_reverse`: Whether or not to include the swaps at the end of the circuit decomposition that reverse the order of the qubits. If True, the swaps are inserted. Defaults to True. These are technically necessary in order to perform the correct effect, but can almost always be optimized away by just performing later operations on different qubits. \n",
    "\n",
    "Costs:\n",
    "    Qubits: $n$ qubits, no additional ancilla required.\n",
    "    Gates: $n * (n - 1) / 2$ controlled-rotation gates and $n$ Hadamard gates."
   ]
  },
  {
   "cell_type": "code",
   "execution_count": 2,
   "id": "111ceb10",
   "metadata": {
    "cq.autogen": "QFTTextBook.bloq_doc.py"
   },
   "outputs": [],
   "source": [
    "from qualtran.bloqs.qft import QFTTextBook"
   ]
  },
  {
   "cell_type": "markdown",
   "id": "ae6650d0",
   "metadata": {
    "cq.autogen": "QFTTextBook.example_instances.md"
   },
   "source": [
    "### Example Instances"
   ]
  },
  {
   "cell_type": "code",
   "execution_count": 3,
   "id": "2e4cc5c5",
   "metadata": {
    "cq.autogen": "QFTTextBook.qft_text_book"
   },
   "outputs": [],
   "source": [
    "qft_text_book = QFTTextBook(3)"
   ]
  },
  {
   "cell_type": "code",
   "execution_count": 4,
   "id": "6a23173e",
   "metadata": {
    "cq.autogen": "QFTTextBook.symbolic_qft"
   },
   "outputs": [],
   "source": [
    "n = sympy.symbols('n')\n",
    "symbolic_qft = QFTTextBook(bitsize=n)"
   ]
  },
  {
   "cell_type": "markdown",
   "id": "24a006a9",
   "metadata": {
    "cq.autogen": "QFTTextBook.graphical_signature.md"
   },
   "source": [
    "#### Graphical Signature"
   ]
  },
  {
   "cell_type": "code",
   "execution_count": 5,
   "id": "02da1293",
   "metadata": {
    "cq.autogen": "QFTTextBook.graphical_signature.py"
   },
   "outputs": [
    {
     "data": {
      "application/vnd.jupyter.widget-view+json": {
       "model_id": "b9a8b425a20b4c34b26259a7f126d6d2",
       "version_major": 2,
       "version_minor": 0
      },
      "text/plain": [
       "HBox(children=(Output(outputs=({'output_type': 'display_data', 'data': {'text/plain': '<IPython.core.display.M…"
      ]
     },
     "metadata": {},
     "output_type": "display_data"
    }
   ],
   "source": [
    "from qualtran.drawing import show_bloqs\n",
    "show_bloqs([qft_text_book, symbolic_qft],\n",
    "           ['`qft_text_book`', '`symbolic_qft`'])"
   ]
  },
  {
   "cell_type": "markdown",
   "id": "543e0b24",
   "metadata": {
    "cq.autogen": "QFTTextBook.call_graph.md"
   },
   "source": [
    "### Call Graph"
   ]
  },
  {
   "cell_type": "code",
   "execution_count": 6,
   "id": "de677a93",
   "metadata": {
    "cq.autogen": "QFTTextBook.call_graph.py"
   },
   "outputs": [
    {
     "data": {
      "image/svg+xml": [
       "<svg xmlns=\"http://www.w3.org/2000/svg\" xmlns:xlink=\"http://www.w3.org/1999/xlink\" width=\"438pt\" height=\"131pt\" viewBox=\"0.00 0.00 438.00 131.00\">\n",
       "<g id=\"graph0\" class=\"graph\" transform=\"scale(1 1) rotate(0) translate(4 127)\">\n",
       "<title>counts</title>\n",
       "<polygon fill=\"white\" stroke=\"transparent\" points=\"-4,4 -4,-127 434,-127 434,4 -4,4\"/>\n",
       "<!-- b0 -->\n",
       "<g id=\"node1\" class=\"node\">\n",
       "<title>b0</title>\n",
       "<polygon fill=\"none\" stroke=\"black\" points=\"165,-93 165,-116 237,-116 237,-93 165,-93\"/>\n",
       "<text text-anchor=\"start\" x=\"171\" y=\"-102\" font-family=\"Times,serif\" font-size=\"10.00\">QFTTextBook</text>\n",
       "</g>\n",
       "<!-- b1 -->\n",
       "<g id=\"node2\" class=\"node\">\n",
       "<title>b1</title>\n",
       "<polygon fill=\"none\" stroke=\"black\" points=\"17,-6 17,-29 37,-29 37,-6 17,-6\"/>\n",
       "<text text-anchor=\"start\" x=\"23\" y=\"-15\" font-family=\"Times,serif\" font-size=\"10.00\">H</text>\n",
       "</g>\n",
       "<!-- b0&#45;&gt;b1 -->\n",
       "<g id=\"edge1\" class=\"edge\">\n",
       "<title>b0-&gt;b1</title>\n",
       "<path fill=\"none\" stroke=\"black\" d=\"M165.79,-86.8C136.04,-72.27 93.59,-51.53 63.48,-36.82\"/>\n",
       "<polygon fill=\"black\" stroke=\"black\" points=\"64.7,-33.52 54.18,-32.28 61.62,-39.81 64.7,-33.52\"/>\n",
       "<text text-anchor=\"middle\" x=\"128.5\" y=\"-57.8\" font-family=\"Times,serif\" font-size=\"14.00\">3</text>\n",
       "</g>\n",
       "<!-- b2 -->\n",
       "<g id=\"node3\" class=\"node\">\n",
       "<title>b2</title>\n",
       "<polygon fill=\"none\" stroke=\"black\" points=\"80,-6 80,-29 184,-29 184,-6 80,-6\"/>\n",
       "<text text-anchor=\"start\" x=\"86.5\" y=\"-15\" font-family=\"Times,serif\" font-size=\"10.00\">PhaseGradientUnitary</text>\n",
       "</g>\n",
       "<!-- b0&#45;&gt;b2 -->\n",
       "<g id=\"edge2\" class=\"edge\">\n",
       "<title>b0-&gt;b2</title>\n",
       "<path fill=\"none\" stroke=\"black\" d=\"M187.04,-86.8C177.12,-74.59 163.65,-57.99 152.52,-44.28\"/>\n",
       "<polygon fill=\"black\" stroke=\"black\" points=\"154.96,-41.73 145.94,-36.18 149.53,-46.15 154.96,-41.73\"/>\n",
       "<text text-anchor=\"middle\" x=\"174.5\" y=\"-57.8\" font-family=\"Times,serif\" font-size=\"14.00\">1</text>\n",
       "</g>\n",
       "<!-- b3 -->\n",
       "<g id=\"node4\" class=\"node\">\n",
       "<title>b3</title>\n",
       "<polygon fill=\"none\" stroke=\"black\" points=\"218,-6 218,-29 322,-29 322,-6 218,-6\"/>\n",
       "<text text-anchor=\"start\" x=\"224.5\" y=\"-15\" font-family=\"Times,serif\" font-size=\"10.00\">PhaseGradientUnitary</text>\n",
       "</g>\n",
       "<!-- b0&#45;&gt;b3 -->\n",
       "<g id=\"edge3\" class=\"edge\">\n",
       "<title>b0-&gt;b3</title>\n",
       "<path fill=\"none\" stroke=\"black\" d=\"M214.96,-86.8C224.88,-74.59 238.35,-57.99 249.48,-44.28\"/>\n",
       "<polygon fill=\"black\" stroke=\"black\" points=\"252.47,-46.15 256.06,-36.18 247.04,-41.73 252.47,-46.15\"/>\n",
       "<text text-anchor=\"middle\" x=\"243.5\" y=\"-57.8\" font-family=\"Times,serif\" font-size=\"14.00\">1</text>\n",
       "</g>\n",
       "<!-- b4 -->\n",
       "<g id=\"node5\" class=\"node\">\n",
       "<title>b4</title>\n",
       "<polygon fill=\"none\" stroke=\"black\" points=\"356,-6 356,-29 422,-29 422,-6 356,-6\"/>\n",
       "<text text-anchor=\"start\" x=\"362\" y=\"-15\" font-family=\"Times,serif\" font-size=\"10.00\">TwoBitSwap</text>\n",
       "</g>\n",
       "<!-- b0&#45;&gt;b4 -->\n",
       "<g id=\"edge4\" class=\"edge\">\n",
       "<title>b0-&gt;b4</title>\n",
       "<path fill=\"none\" stroke=\"black\" d=\"M239.04,-86.8C268.83,-73.33 310.4,-54.54 342.22,-40.15\"/>\n",
       "<polygon fill=\"black\" stroke=\"black\" points=\"343.66,-43.34 351.33,-36.03 340.78,-36.96 343.66,-43.34\"/>\n",
       "<text text-anchor=\"middle\" x=\"309.5\" y=\"-57.8\" font-family=\"Times,serif\" font-size=\"14.00\">1</text>\n",
       "</g>\n",
       "</g>\n",
       "</svg>"
      ],
      "text/plain": [
       "<IPython.core.display.SVG object>"
      ]
     },
     "metadata": {},
     "output_type": "display_data"
    },
    {
     "data": {
      "text/markdown": [
       "#### Counts totals:\n",
       " - `H`: 3\n",
       " - `PhaseGradientUnitary`: 1\n",
       " - `PhaseGradientUnitary`: 1\n",
       " - `TwoBitSwap`: 1"
      ],
      "text/plain": [
       "<IPython.core.display.Markdown object>"
      ]
     },
     "metadata": {},
     "output_type": "display_data"
    }
   ],
   "source": [
    "from qualtran.resource_counting.generalizers import ignore_split_join\n",
    "qft_text_book_g, qft_text_book_sigma = qft_text_book.call_graph(max_depth=1, generalizer=ignore_split_join)\n",
    "show_call_graph(qft_text_book_g)\n",
    "show_counts_sigma(qft_text_book_sigma)"
   ]
  }
 ],
 "metadata": {
  "kernelspec": {
   "display_name": "Python 3",
   "language": "python",
   "name": "python3"
  },
  "language_info": {
   "codemirror_mode": {
    "name": "ipython",
    "version": 3
   },
   "file_extension": ".py",
   "mimetype": "text/x-python",
   "name": "python",
   "nbconvert_exporter": "python",
   "pygments_lexer": "ipython3",
   "version": "3.11.8"
  },
  "widgets": {
   "application/vnd.jupyter.widget-state+json": {
    "state": {
     "00e12b8ea96245da98c9fa06797bdb65": {
      "model_module": "@jupyter-widgets/output",
      "model_module_version": "1.0.0",
      "model_name": "OutputModel",
      "state": {
       "_dom_classes": [],
       "_model_module": "@jupyter-widgets/output",
       "_model_module_version": "1.0.0",
       "_model_name": "OutputModel",
       "_view_count": null,
       "_view_module": "@jupyter-widgets/output",
       "_view_module_version": "1.0.0",
       "_view_name": "OutputView",
       "layout": "IPY_MODEL_6e7a1ff0fa2f4b3e96f3d46fa6005147",
       "msg_id": "",
       "outputs": [
        {
         "data": {
          "text/markdown": "`symbolic_qft`",
          "text/plain": "<IPython.core.display.Markdown object>"
         },
         "metadata": {},
         "output_type": "display_data"
        },
        {
         "data": {
          "image/svg+xml": "<svg xmlns=\"http://www.w3.org/2000/svg\" xmlns:xlink=\"http://www.w3.org/1999/xlink\" width=\"256pt\" height=\"54pt\" viewBox=\"0.00 0.00 256.00 54.00\">\n<g id=\"graph0\" class=\"graph\" transform=\"scale(1 1) rotate(0) translate(4 50)\">\n<title>my_graph</title>\n<polygon fill=\"white\" stroke=\"transparent\" points=\"-4,4 -4,-50 252,-50 252,4 -4,4\"/>\n<!-- q_G2 -->\n<g id=\"node1\" class=\"node\">\n<title>q_G2</title>\n<text text-anchor=\"middle\" x=\"27\" y=\"-14.3\" font-family=\"Times,serif\" font-size=\"14.00\">q</text>\n</g>\n<!-- QFTTextBook -->\n<g id=\"node2\" class=\"node\">\n<title>QFTTextBook</title>\n<polygon fill=\"none\" stroke=\"black\" points=\"91,-29 91,-46 157,-46 157,-29 91,-29\"/>\n<text text-anchor=\"start\" x=\"94\" y=\"-35\" font-family=\"Times,serif\" font-size=\"10.00\">QFTTextBook</text>\n<polygon fill=\"none\" stroke=\"black\" points=\"91,-8 91,-29 157,-29 157,-8 91,-8\"/>\n<text text-anchor=\"start\" x=\"120.5\" y=\"-14.8\" font-family=\"Times,serif\" font-size=\"14.00\">q</text>\n</g>\n<!-- q_G2&#45;&gt;QFTTextBook -->\n<g id=\"edge1\" class=\"edge\">\n<title>q_G2:e-&gt;QFTTextBook:w</title>\n<path fill=\"none\" stroke=\"black\" d=\"M54,-18C69.67,-18 74.14,-18 88.77,-18\"/>\n<ellipse fill=\"black\" stroke=\"black\" cx=\"90\" cy=\"-18\" rx=\"1\" ry=\"1\"/>\n<text text-anchor=\"middle\" x=\"72.5\" y=\"-21\" font-family=\"Times,serif\" font-size=\"10.00\">n</text>\n</g>\n<!-- q_G1 -->\n<g id=\"node3\" class=\"node\">\n<title>q_G1</title>\n<text text-anchor=\"middle\" x=\"221\" y=\"-14.3\" font-family=\"Times,serif\" font-size=\"14.00\">q</text>\n</g>\n<!-- QFTTextBook&#45;&gt;q_G1 -->\n<g id=\"edge2\" class=\"edge\">\n<title>QFTTextBook:e-&gt;q_G1:w</title>\n<path fill=\"none\" stroke=\"black\" d=\"M157,-18C172.67,-18 177.14,-18 191.77,-18\"/>\n<ellipse fill=\"black\" stroke=\"black\" cx=\"193\" cy=\"-18\" rx=\"1\" ry=\"1\"/>\n<text text-anchor=\"middle\" x=\"175.5\" y=\"-21\" font-family=\"Times,serif\" font-size=\"10.00\">n</text>\n</g>\n</g>\n</svg>",
          "text/plain": "<IPython.core.display.SVG object>"
         },
         "metadata": {},
         "output_type": "display_data"
        }
       ],
       "tabbable": null,
       "tooltip": null
      }
     },
     "51d880a3f6b84ae2839bf53dd9ffc582": {
      "model_module": "@jupyter-widgets/base",
      "model_module_version": "2.0.0",
      "model_name": "LayoutModel",
      "state": {
       "_model_module": "@jupyter-widgets/base",
       "_model_module_version": "2.0.0",
       "_model_name": "LayoutModel",
       "_view_count": null,
       "_view_module": "@jupyter-widgets/base",
       "_view_module_version": "2.0.0",
       "_view_name": "LayoutView",
       "align_content": null,
       "align_items": null,
       "align_self": null,
       "border_bottom": null,
       "border_left": null,
       "border_right": null,
       "border_top": null,
       "bottom": null,
       "display": null,
       "flex": null,
       "flex_flow": null,
       "grid_area": null,
       "grid_auto_columns": null,
       "grid_auto_flow": null,
       "grid_auto_rows": null,
       "grid_column": null,
       "grid_gap": null,
       "grid_row": null,
       "grid_template_areas": null,
       "grid_template_columns": null,
       "grid_template_rows": null,
       "height": null,
       "justify_content": null,
       "justify_items": null,
       "left": null,
       "margin": null,
       "max_height": null,
       "max_width": null,
       "min_height": null,
       "min_width": null,
       "object_fit": null,
       "object_position": null,
       "order": null,
       "overflow": null,
       "padding": null,
       "right": null,
       "top": null,
       "visibility": null,
       "width": null
      }
     },
     "6e7a1ff0fa2f4b3e96f3d46fa6005147": {
      "model_module": "@jupyter-widgets/base",
      "model_module_version": "2.0.0",
      "model_name": "LayoutModel",
      "state": {
       "_model_module": "@jupyter-widgets/base",
       "_model_module_version": "2.0.0",
       "_model_name": "LayoutModel",
       "_view_count": null,
       "_view_module": "@jupyter-widgets/base",
       "_view_module_version": "2.0.0",
       "_view_name": "LayoutView",
       "align_content": null,
       "align_items": null,
       "align_self": null,
       "border_bottom": null,
       "border_left": null,
       "border_right": null,
       "border_top": null,
       "bottom": null,
       "display": null,
       "flex": null,
       "flex_flow": null,
       "grid_area": null,
       "grid_auto_columns": null,
       "grid_auto_flow": null,
       "grid_auto_rows": null,
       "grid_column": null,
       "grid_gap": null,
       "grid_row": null,
       "grid_template_areas": null,
       "grid_template_columns": null,
       "grid_template_rows": null,
       "height": null,
       "justify_content": null,
       "justify_items": null,
       "left": null,
       "margin": null,
       "max_height": null,
       "max_width": null,
       "min_height": null,
       "min_width": null,
       "object_fit": null,
       "object_position": null,
       "order": null,
       "overflow": null,
       "padding": null,
       "right": null,
       "top": null,
       "visibility": null,
       "width": null
      }
     },
     "b9a8b425a20b4c34b26259a7f126d6d2": {
      "model_module": "@jupyter-widgets/controls",
      "model_module_version": "2.0.0",
      "model_name": "HBoxModel",
      "state": {
       "_dom_classes": [],
       "_model_module": "@jupyter-widgets/controls",
       "_model_module_version": "2.0.0",
       "_model_name": "HBoxModel",
       "_view_count": null,
       "_view_module": "@jupyter-widgets/controls",
       "_view_module_version": "2.0.0",
       "_view_name": "HBoxView",
       "box_style": "",
       "children": [
        "IPY_MODEL_dd188f6d20f547898c33744955612abf",
        "IPY_MODEL_00e12b8ea96245da98c9fa06797bdb65"
       ],
       "layout": "IPY_MODEL_d5a861000d5f4e66a0984999ba8ab54d",
       "tabbable": null,
       "tooltip": null
      }
     },
     "d5a861000d5f4e66a0984999ba8ab54d": {
      "model_module": "@jupyter-widgets/base",
      "model_module_version": "2.0.0",
      "model_name": "LayoutModel",
      "state": {
       "_model_module": "@jupyter-widgets/base",
       "_model_module_version": "2.0.0",
       "_model_name": "LayoutModel",
       "_view_count": null,
       "_view_module": "@jupyter-widgets/base",
       "_view_module_version": "2.0.0",
       "_view_name": "LayoutView",
       "align_content": null,
       "align_items": null,
       "align_self": null,
       "border_bottom": null,
       "border_left": null,
       "border_right": null,
       "border_top": null,
       "bottom": null,
       "display": null,
       "flex": null,
       "flex_flow": null,
       "grid_area": null,
       "grid_auto_columns": null,
       "grid_auto_flow": null,
       "grid_auto_rows": null,
       "grid_column": null,
       "grid_gap": null,
       "grid_row": null,
       "grid_template_areas": null,
       "grid_template_columns": null,
       "grid_template_rows": null,
       "height": null,
       "justify_content": null,
       "justify_items": null,
       "left": null,
       "margin": null,
       "max_height": null,
       "max_width": null,
       "min_height": null,
       "min_width": null,
       "object_fit": null,
       "object_position": null,
       "order": null,
       "overflow": null,
       "padding": null,
       "right": null,
       "top": null,
       "visibility": null,
       "width": null
      }
     },
     "dd188f6d20f547898c33744955612abf": {
      "model_module": "@jupyter-widgets/output",
      "model_module_version": "1.0.0",
      "model_name": "OutputModel",
      "state": {
       "_dom_classes": [],
       "_model_module": "@jupyter-widgets/output",
       "_model_module_version": "1.0.0",
       "_model_name": "OutputModel",
       "_view_count": null,
       "_view_module": "@jupyter-widgets/output",
       "_view_module_version": "1.0.0",
       "_view_name": "OutputView",
       "layout": "IPY_MODEL_51d880a3f6b84ae2839bf53dd9ffc582",
       "msg_id": "",
       "outputs": [
        {
         "data": {
          "text/markdown": "`qft_text_book`",
          "text/plain": "<IPython.core.display.Markdown object>"
         },
         "metadata": {},
         "output_type": "display_data"
        },
        {
         "data": {
          "image/svg+xml": "<svg xmlns=\"http://www.w3.org/2000/svg\" xmlns:xlink=\"http://www.w3.org/1999/xlink\" width=\"256pt\" height=\"54pt\" viewBox=\"0.00 0.00 256.00 54.00\">\n<g id=\"graph0\" class=\"graph\" transform=\"scale(1 1) rotate(0) translate(4 50)\">\n<title>my_graph</title>\n<polygon fill=\"white\" stroke=\"transparent\" points=\"-4,4 -4,-50 252,-50 252,4 -4,4\"/>\n<!-- q_G2 -->\n<g id=\"node1\" class=\"node\">\n<title>q_G2</title>\n<text text-anchor=\"middle\" x=\"27\" y=\"-14.3\" font-family=\"Times,serif\" font-size=\"14.00\">q</text>\n</g>\n<!-- QFTTextBook -->\n<g id=\"node2\" class=\"node\">\n<title>QFTTextBook</title>\n<polygon fill=\"none\" stroke=\"black\" points=\"91,-29 91,-46 157,-46 157,-29 91,-29\"/>\n<text text-anchor=\"start\" x=\"94\" y=\"-35\" font-family=\"Times,serif\" font-size=\"10.00\">QFTTextBook</text>\n<polygon fill=\"none\" stroke=\"black\" points=\"91,-8 91,-29 157,-29 157,-8 91,-8\"/>\n<text text-anchor=\"start\" x=\"120.5\" y=\"-14.8\" font-family=\"Times,serif\" font-size=\"14.00\">q</text>\n</g>\n<!-- q_G2&#45;&gt;QFTTextBook -->\n<g id=\"edge1\" class=\"edge\">\n<title>q_G2:e-&gt;QFTTextBook:w</title>\n<path fill=\"none\" stroke=\"black\" d=\"M54,-18C69.67,-18 74.14,-18 88.77,-18\"/>\n<ellipse fill=\"black\" stroke=\"black\" cx=\"90\" cy=\"-18\" rx=\"1\" ry=\"1\"/>\n<text text-anchor=\"middle\" x=\"72.5\" y=\"-21\" font-family=\"Times,serif\" font-size=\"10.00\">3</text>\n</g>\n<!-- q_G0 -->\n<g id=\"node3\" class=\"node\">\n<title>q_G0</title>\n<text text-anchor=\"middle\" x=\"221\" y=\"-14.3\" font-family=\"Times,serif\" font-size=\"14.00\">q</text>\n</g>\n<!-- QFTTextBook&#45;&gt;q_G0 -->\n<g id=\"edge2\" class=\"edge\">\n<title>QFTTextBook:e-&gt;q_G0:w</title>\n<path fill=\"none\" stroke=\"black\" d=\"M157,-18C172.67,-18 177.14,-18 191.77,-18\"/>\n<ellipse fill=\"black\" stroke=\"black\" cx=\"193\" cy=\"-18\" rx=\"1\" ry=\"1\"/>\n<text text-anchor=\"middle\" x=\"175.5\" y=\"-21\" font-family=\"Times,serif\" font-size=\"10.00\">3</text>\n</g>\n</g>\n</svg>",
          "text/plain": "<IPython.core.display.SVG object>"
         },
         "metadata": {},
         "output_type": "display_data"
        }
       ],
       "tabbable": null,
       "tooltip": null
      }
     }
    },
    "version_major": 2,
    "version_minor": 0
   }
  }
 },
 "nbformat": 4,
 "nbformat_minor": 5
}
