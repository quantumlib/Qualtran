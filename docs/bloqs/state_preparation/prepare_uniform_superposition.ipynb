{
 "cells": [
  {
   "cell_type": "markdown",
   "id": "9a9d3252",
   "metadata": {
    "cq.autogen": "title_cell"
   },
   "source": [
    "# Prepare Uniform Superposition"
   ]
  },
  {
   "cell_type": "code",
   "execution_count": 1,
   "id": "7c8d8ac9",
   "metadata": {
    "cq.autogen": "top_imports"
   },
   "outputs": [],
   "source": [
    "from qualtran import Bloq, CompositeBloq, BloqBuilder, Signature, Register\n",
    "from qualtran import QBit, QInt, QUInt, QAny\n",
    "from qualtran.drawing import show_bloq, show_call_graph, show_counts_sigma\n",
    "from typing import *\n",
    "import numpy as np\n",
    "import sympy\n",
    "import cirq"
   ]
  },
  {
   "cell_type": "markdown",
   "id": "def95de5",
   "metadata": {
    "cq.autogen": "PrepareUniformSuperposition.bloq_doc.md"
   },
   "source": [
    "## `PrepareUniformSuperposition`\n",
    "Prepares a uniform superposition over first $n$ basis states using $O(log(n))$ T-gates.\n",
    "\n",
    "Performs a single round of amplitude amplification and prepares a uniform superposition over\n",
    "the first $n$ basis states $|0>, |1>, ..., |n - 1>$. The expected T-complexity should be\n",
    "$10 * log(L) + 2 * K$ T-gates and $2$ single qubit rotation gates, where $n = L * 2^K$.\n",
    "\n",
    "However, the current T-complexity is $12 * log(L)$ T-gates and $2 + 2 * (K + log(L))$ rotations\n",
    "because of two open issues:\n",
    " - https://github.com/quantumlib/Qualtran/issues/233 and\n",
    " - https://github.com/quantumlib/Qualtran/issues/235\n",
    "\n",
    "#### Parameters\n",
    " - `n`: The gate prepares a uniform superposition over first $n$ basis states.\n",
    " - `cvs`: Control values for each control qubit. If specified, a controlled version of the gate is constructed. \n",
    "\n",
    "#### References\n",
    " - [Encoding Electronic Spectra in Quantum Circuits with Linear T Complexity](https://arxiv.org/abs/1805.03662). Fig 12.\n"
   ]
  },
  {
   "cell_type": "code",
   "execution_count": 2,
   "id": "310d03d9",
   "metadata": {
    "cq.autogen": "PrepareUniformSuperposition.bloq_doc.py"
   },
   "outputs": [],
   "source": [
    "from qualtran.bloqs.state_preparation import PrepareUniformSuperposition"
   ]
  },
  {
   "cell_type": "markdown",
   "id": "5b29f5e7",
   "metadata": {
    "cq.autogen": "PrepareUniformSuperposition.example_instances.md"
   },
   "source": [
    "### Example Instances"
   ]
  },
  {
   "cell_type": "code",
   "execution_count": 3,
   "id": "8ce0c967",
   "metadata": {
    "cq.autogen": "PrepareUniformSuperposition.prep_uniform"
   },
   "outputs": [],
   "source": [
    "prep_uniform = PrepareUniformSuperposition(n=5)"
   ]
  },
  {
   "cell_type": "code",
   "execution_count": 4,
   "id": "cbd8e75c",
   "metadata": {
    "cq.autogen": "PrepareUniformSuperposition.c_prep_uniform"
   },
   "outputs": [],
   "source": [
    "c_prep_uniform = PrepareUniformSuperposition(n=5, cvs=[1])"
   ]
  },
  {
   "cell_type": "markdown",
   "id": "1adad413",
   "metadata": {
    "cq.autogen": "PrepareUniformSuperposition.graphical_signature.md"
   },
   "source": [
    "#### Graphical Signature"
   ]
  },
  {
   "cell_type": "code",
   "execution_count": 5,
   "id": "40adbbcc",
   "metadata": {
    "cq.autogen": "PrepareUniformSuperposition.graphical_signature.py"
   },
   "outputs": [
    {
     "data": {
      "application/vnd.jupyter.widget-view+json": {
       "model_id": "d05cebd626f24c7a8ded733ca3bceef1",
       "version_major": 2,
       "version_minor": 0
      },
      "text/plain": [
       "HBox(children=(Output(outputs=({'output_type': 'display_data', 'data': {'text/plain': '<IPython.core.display.M…"
      ]
     },
     "metadata": {},
     "output_type": "display_data"
    }
   ],
   "source": [
    "from qualtran.drawing import show_bloqs\n",
    "show_bloqs([prep_uniform, c_prep_uniform],\n",
    "           ['`prep_uniform`', '`c_prep_uniform`'])"
   ]
  },
  {
   "cell_type": "markdown",
   "id": "d5b67f42",
   "metadata": {
    "cq.autogen": "PrepareUniformSuperposition.call_graph.md"
   },
   "source": [
    "### Call Graph"
   ]
  },
  {
   "cell_type": "code",
   "execution_count": 6,
   "id": "2fbbacaf",
   "metadata": {
    "cq.autogen": "PrepareUniformSuperposition.call_graph.py"
   },
   "outputs": [
    {
     "data": {
      "image/svg+xml": [
       "<svg xmlns=\"http://www.w3.org/2000/svg\" xmlns:xlink=\"http://www.w3.org/1999/xlink\" width=\"714pt\" height=\"131pt\" viewBox=\"0.00 0.00 714.00 131.00\">\n",
       "<g id=\"graph0\" class=\"graph\" transform=\"scale(1 1) rotate(0) translate(4 127)\">\n",
       "<title>counts</title>\n",
       "<polygon fill=\"white\" stroke=\"transparent\" points=\"-4,4 -4,-127 710,-127 710,4 -4,4\"/>\n",
       "<!-- b0 -->\n",
       "<g id=\"node1\" class=\"node\">\n",
       "<title>b0</title>\n",
       "<polygon fill=\"none\" stroke=\"black\" points=\"317,-93 317,-116 451,-116 451,-93 317,-93\"/>\n",
       "<text text-anchor=\"start\" x=\"323\" y=\"-102\" font-family=\"Times,serif\" font-size=\"10.00\">PrepareUniformSuperposition</text>\n",
       "</g>\n",
       "<!-- b1 -->\n",
       "<g id=\"node2\" class=\"node\">\n",
       "<title>b1</title>\n",
       "<polygon fill=\"none\" stroke=\"black\" points=\"17,-6 17,-29 37,-29 37,-6 17,-6\"/>\n",
       "<text text-anchor=\"start\" x=\"23\" y=\"-15\" font-family=\"Times,serif\" font-size=\"10.00\">H</text>\n",
       "</g>\n",
       "<!-- b0&#45;&gt;b1 -->\n",
       "<g id=\"edge1\" class=\"edge\">\n",
       "<title>b0-&gt;b1</title>\n",
       "<path fill=\"none\" stroke=\"black\" d=\"M308.74,-93.14C245.15,-82.81 151.89,-64.96 63.85,-35.89\"/>\n",
       "<polygon fill=\"black\" stroke=\"black\" points=\"64.84,-32.53 54.25,-32.67 62.61,-39.17 64.84,-32.53\"/>\n",
       "<text text-anchor=\"middle\" x=\"179.5\" y=\"-57.8\" font-family=\"Times,serif\" font-size=\"14.00\">9</text>\n",
       "</g>\n",
       "<!-- b2 -->\n",
       "<g id=\"node3\" class=\"node\">\n",
       "<title>b2</title>\n",
       "<polygon fill=\"none\" stroke=\"black\" points=\"80,-6 80,-29 156,-29 156,-6 80,-6\"/>\n",
       "<text text-anchor=\"start\" x=\"86\" y=\"-15\" font-family=\"Times,serif\" font-size=\"10.00\">MultiAnd(n=3)</text>\n",
       "</g>\n",
       "<!-- b0&#45;&gt;b2 -->\n",
       "<g id=\"edge2\" class=\"edge\">\n",
       "<title>b0-&gt;b2</title>\n",
       "<path fill=\"none\" stroke=\"black\" d=\"M330.49,-86.9C285.03,-72.37 219.98,-51.59 173.86,-36.85\"/>\n",
       "<polygon fill=\"black\" stroke=\"black\" points=\"174.91,-33.51 164.32,-33.8 172.78,-40.18 174.91,-33.51\"/>\n",
       "<text text-anchor=\"middle\" x=\"270.5\" y=\"-57.8\" font-family=\"Times,serif\" font-size=\"14.00\">1</text>\n",
       "</g>\n",
       "<!-- b3 -->\n",
       "<g id=\"node4\" class=\"node\">\n",
       "<title>b3</title>\n",
       "<polygon fill=\"none\" stroke=\"black\" points=\"190,-6 190,-29 306,-29 306,-6 190,-6\"/>\n",
       "<text text-anchor=\"start\" x=\"196\" y=\"-15\" font-family=\"Times,serif\" font-size=\"10.00\">Rz(1.369438406004566)</text>\n",
       "</g>\n",
       "<!-- b0&#45;&gt;b3 -->\n",
       "<g id=\"edge3\" class=\"edge\">\n",
       "<title>b0-&gt;b3</title>\n",
       "<path fill=\"none\" stroke=\"black\" d=\"M356.48,-86.8C335.65,-73.78 306.85,-55.78 284.16,-41.6\"/>\n",
       "<polygon fill=\"black\" stroke=\"black\" points=\"285.82,-38.51 275.48,-36.18 282.11,-44.44 285.82,-38.51\"/>\n",
       "<text text-anchor=\"middle\" x=\"328.5\" y=\"-57.8\" font-family=\"Times,serif\" font-size=\"14.00\">2</text>\n",
       "</g>\n",
       "<!-- b4 -->\n",
       "<g id=\"node5\" class=\"node\">\n",
       "<title>b4</title>\n",
       "<polygon fill=\"none\" stroke=\"black\" points=\"340,-6 340,-29 428,-29 428,-6 340,-6\"/>\n",
       "<text text-anchor=\"start\" x=\"346\" y=\"-15\" font-family=\"Times,serif\" font-size=\"10.00\">LessThanConstant</text>\n",
       "</g>\n",
       "<!-- b0&#45;&gt;b4 -->\n",
       "<g id=\"edge4\" class=\"edge\">\n",
       "<title>b0-&gt;b4</title>\n",
       "<path fill=\"none\" stroke=\"black\" d=\"M384,-86.8C384,-75.16 384,-59.55 384,-46.24\"/>\n",
       "<polygon fill=\"black\" stroke=\"black\" points=\"387.5,-46.18 384,-36.18 380.5,-46.18 387.5,-46.18\"/>\n",
       "<text text-anchor=\"middle\" x=\"387.5\" y=\"-57.8\" font-family=\"Times,serif\" font-size=\"14.00\">2</text>\n",
       "</g>\n",
       "<!-- b5 -->\n",
       "<g id=\"node6\" class=\"node\">\n",
       "<title>b5</title>\n",
       "<polygon fill=\"none\" stroke=\"black\" points=\"462,-6 462,-29 544,-29 544,-6 462,-6\"/>\n",
       "<text text-anchor=\"start\" x=\"468\" y=\"-15\" font-family=\"Times,serif\" font-size=\"10.00\">MultiAnd(n=3)†</text>\n",
       "</g>\n",
       "<!-- b0&#45;&gt;b5 -->\n",
       "<g id=\"edge5\" class=\"edge\">\n",
       "<title>b0-&gt;b5</title>\n",
       "<path fill=\"none\" stroke=\"black\" d=\"M408.08,-86.8C426.07,-73.95 450.84,-56.26 470.57,-42.17\"/>\n",
       "<polygon fill=\"black\" stroke=\"black\" points=\"472.85,-44.84 478.95,-36.18 468.78,-39.14 472.85,-44.84\"/>\n",
       "<text text-anchor=\"middle\" x=\"454.5\" y=\"-57.8\" font-family=\"Times,serif\" font-size=\"14.00\">1</text>\n",
       "</g>\n",
       "<!-- b6 -->\n",
       "<g id=\"node7\" class=\"node\">\n",
       "<title>b6</title>\n",
       "<polygon fill=\"none\" stroke=\"black\" points=\"578,-6 578,-29 626,-29 626,-6 578,-6\"/>\n",
       "<text text-anchor=\"start\" x=\"584\" y=\"-15\" font-family=\"Times,serif\" font-size=\"10.00\">Allocate</text>\n",
       "</g>\n",
       "<!-- b0&#45;&gt;b6 -->\n",
       "<g id=\"edge6\" class=\"edge\">\n",
       "<title>b0-&gt;b6</title>\n",
       "<path fill=\"none\" stroke=\"black\" d=\"M429.23,-87C462.97,-74.23 510.41,-56.1 560.44,-36.18\"/>\n",
       "<polygon fill=\"black\" stroke=\"black\" points=\"561.81,-39.4 569.8,-32.44 559.22,-32.9 561.81,-39.4\"/>\n",
       "<text text-anchor=\"middle\" x=\"515.5\" y=\"-57.8\" font-family=\"Times,serif\" font-size=\"14.00\">1</text>\n",
       "</g>\n",
       "<!-- b7 -->\n",
       "<g id=\"node8\" class=\"node\">\n",
       "<title>b7</title>\n",
       "<polygon fill=\"none\" stroke=\"black\" points=\"664,-6 664,-29 694,-29 694,-6 664,-6\"/>\n",
       "<text text-anchor=\"start\" x=\"670\" y=\"-15\" font-family=\"Times,serif\" font-size=\"10.00\">Free</text>\n",
       "</g>\n",
       "<!-- b0&#45;&gt;b7 -->\n",
       "<g id=\"edge7\" class=\"edge\">\n",
       "<title>b0-&gt;b7</title>\n",
       "<path fill=\"none\" stroke=\"black\" d=\"M459.16,-88.37C509.06,-77.06 575.9,-60.09 641.95,-36.09\"/>\n",
       "<polygon fill=\"black\" stroke=\"black\" points=\"643.52,-39.24 651.69,-32.49 641.1,-32.67 643.52,-39.24\"/>\n",
       "<text text-anchor=\"middle\" x=\"590.5\" y=\"-57.8\" font-family=\"Times,serif\" font-size=\"14.00\">1</text>\n",
       "</g>\n",
       "</g>\n",
       "</svg>"
      ],
      "text/plain": [
       "<IPython.core.display.SVG object>"
      ]
     },
     "metadata": {},
     "output_type": "display_data"
    },
    {
     "data": {
      "text/markdown": [
       "#### Counts totals:\n",
       " - `Allocate`: 1\n",
       " - `Free`: 1\n",
       " - `H`: 9\n",
       " - `LessThanConstant`: 2\n",
       " - `MultiAnd(n=3)`: 1\n",
       " - `MultiAnd(n=3)†`: 1\n",
       " - `Rz(1.369438406004566)`: 2"
      ],
      "text/plain": [
       "<IPython.core.display.Markdown object>"
      ]
     },
     "metadata": {},
     "output_type": "display_data"
    }
   ],
   "source": [
    "from qualtran.resource_counting.generalizers import ignore_split_join\n",
    "prep_uniform_g, prep_uniform_sigma = prep_uniform.call_graph(max_depth=1, generalizer=ignore_split_join)\n",
    "show_call_graph(prep_uniform_g)\n",
    "show_counts_sigma(prep_uniform_sigma)"
   ]
  }
 ],
 "metadata": {
  "kernelspec": {
   "display_name": "Python 3 (ipykernel)",
   "language": "python",
   "name": "python3"
  },
  "language_info": {
   "codemirror_mode": {
    "name": "ipython",
    "version": 3
   },
   "file_extension": ".py",
   "mimetype": "text/x-python",
   "name": "python",
   "nbconvert_exporter": "python",
   "pygments_lexer": "ipython3",
   "version": "3.11.8"
  },
  "widgets": {
   "application/vnd.jupyter.widget-state+json": {
    "state": {
     "24f768ccc50845e299b5f6e6490cb150": {
      "model_module": "@jupyter-widgets/output",
      "model_module_version": "1.0.0",
      "model_name": "OutputModel",
      "state": {
       "_dom_classes": [],
       "_model_module": "@jupyter-widgets/output",
       "_model_module_version": "1.0.0",
       "_model_name": "OutputModel",
       "_view_count": null,
       "_view_module": "@jupyter-widgets/output",
       "_view_module_version": "1.0.0",
       "_view_name": "OutputView",
       "layout": "IPY_MODEL_5b60deefecc24a63b50cb27b437af541",
       "msg_id": "",
       "outputs": [
        {
         "data": {
          "text/markdown": "`prep_uniform`",
          "text/plain": "<IPython.core.display.Markdown object>"
         },
         "metadata": {},
         "output_type": "display_data"
        },
        {
         "data": {
          "image/svg+xml": "<svg xmlns=\"http://www.w3.org/2000/svg\" xmlns:xlink=\"http://www.w3.org/1999/xlink\" width=\"318pt\" height=\"54pt\" viewBox=\"0.00 0.00 318.00 54.00\">\n<g id=\"graph0\" class=\"graph\" transform=\"scale(1 1) rotate(0) translate(4 50)\">\n<title>my_graph</title>\n<polygon fill=\"white\" stroke=\"transparent\" points=\"-4,4 -4,-50 314,-50 314,4 -4,4\"/>\n<!-- target_G1 -->\n<g id=\"node1\" class=\"node\">\n<title>target_G1</title>\n<text text-anchor=\"middle\" x=\"27\" y=\"-14.3\" font-family=\"Times,serif\" font-size=\"14.00\">target</text>\n</g>\n<!-- PrepareUniformSuperposition -->\n<g id=\"node2\" class=\"node\">\n<title>PrepareUniformSuperposition</title>\n<polygon fill=\"none\" stroke=\"black\" points=\"91,-29 91,-46 219,-46 219,-29 91,-29\"/>\n<text text-anchor=\"start\" x=\"94\" y=\"-35\" font-family=\"Times,serif\" font-size=\"10.00\">PrepareUniformSuperposition</text>\n<polygon fill=\"none\" stroke=\"black\" points=\"91,-8 91,-29 219,-29 219,-8 91,-8\"/>\n<text text-anchor=\"start\" x=\"139.5\" y=\"-14.8\" font-family=\"Times,serif\" font-size=\"14.00\">target</text>\n</g>\n<!-- target_G1&#45;&gt;PrepareUniformSuperposition -->\n<g id=\"edge1\" class=\"edge\">\n<title>target_G1:e-&gt;PrepareUniformSuperposition:w</title>\n<path fill=\"none\" stroke=\"black\" d=\"M54,-18C69.67,-18 74.14,-18 88.77,-18\"/>\n<ellipse fill=\"black\" stroke=\"black\" cx=\"90\" cy=\"-18\" rx=\"1\" ry=\"1\"/>\n<text text-anchor=\"middle\" x=\"72.5\" y=\"-21\" font-family=\"Times,serif\" font-size=\"10.00\">3</text>\n</g>\n<!-- target_G0 -->\n<g id=\"node3\" class=\"node\">\n<title>target_G0</title>\n<text text-anchor=\"middle\" x=\"283\" y=\"-14.3\" font-family=\"Times,serif\" font-size=\"14.00\">target</text>\n</g>\n<!-- PrepareUniformSuperposition&#45;&gt;target_G0 -->\n<g id=\"edge2\" class=\"edge\">\n<title>PrepareUniformSuperposition:e-&gt;target_G0:w</title>\n<path fill=\"none\" stroke=\"black\" d=\"M219,-18C234.67,-18 239.14,-18 253.77,-18\"/>\n<ellipse fill=\"black\" stroke=\"black\" cx=\"255\" cy=\"-18\" rx=\"1\" ry=\"1\"/>\n<text text-anchor=\"middle\" x=\"237.5\" y=\"-21\" font-family=\"Times,serif\" font-size=\"10.00\">3</text>\n</g>\n</g>\n</svg>",
          "text/plain": "<IPython.core.display.SVG object>"
         },
         "metadata": {},
         "output_type": "display_data"
        }
       ],
       "tabbable": null,
       "tooltip": null
      }
     },
     "4c814a9b89204ac78afb09fe6bd46a5e": {
      "model_module": "@jupyter-widgets/base",
      "model_module_version": "2.0.0",
      "model_name": "LayoutModel",
      "state": {
       "_model_module": "@jupyter-widgets/base",
       "_model_module_version": "2.0.0",
       "_model_name": "LayoutModel",
       "_view_count": null,
       "_view_module": "@jupyter-widgets/base",
       "_view_module_version": "2.0.0",
       "_view_name": "LayoutView",
       "align_content": null,
       "align_items": null,
       "align_self": null,
       "border_bottom": null,
       "border_left": null,
       "border_right": null,
       "border_top": null,
       "bottom": null,
       "display": null,
       "flex": null,
       "flex_flow": null,
       "grid_area": null,
       "grid_auto_columns": null,
       "grid_auto_flow": null,
       "grid_auto_rows": null,
       "grid_column": null,
       "grid_gap": null,
       "grid_row": null,
       "grid_template_areas": null,
       "grid_template_columns": null,
       "grid_template_rows": null,
       "height": null,
       "justify_content": null,
       "justify_items": null,
       "left": null,
       "margin": null,
       "max_height": null,
       "max_width": null,
       "min_height": null,
       "min_width": null,
       "object_fit": null,
       "object_position": null,
       "order": null,
       "overflow": null,
       "padding": null,
       "right": null,
       "top": null,
       "visibility": null,
       "width": null
      }
     },
     "564fce7f434a4765af3fe0f2a9a7cc16": {
      "model_module": "@jupyter-widgets/output",
      "model_module_version": "1.0.0",
      "model_name": "OutputModel",
      "state": {
       "_dom_classes": [],
       "_model_module": "@jupyter-widgets/output",
       "_model_module_version": "1.0.0",
       "_model_name": "OutputModel",
       "_view_count": null,
       "_view_module": "@jupyter-widgets/output",
       "_view_module_version": "1.0.0",
       "_view_name": "OutputView",
       "layout": "IPY_MODEL_bf4d8272c6d4470f80a5261fd9314727",
       "msg_id": "",
       "outputs": [
        {
         "data": {
          "text/markdown": "`c_prep_uniform`",
          "text/plain": "<IPython.core.display.Markdown object>"
         },
         "metadata": {},
         "output_type": "display_data"
        },
        {
         "data": {
          "image/svg+xml": "<svg xmlns=\"http://www.w3.org/2000/svg\" xmlns:xlink=\"http://www.w3.org/1999/xlink\" width=\"318pt\" height=\"98pt\" viewBox=\"0.00 0.00 318.00 98.00\">\n<g id=\"graph0\" class=\"graph\" transform=\"scale(1 1) rotate(0) translate(4 94)\">\n<title>my_graph</title>\n<polygon fill=\"white\" stroke=\"transparent\" points=\"-4,4 -4,-94 314,-94 314,4 -4,4\"/>\n<!-- ctrl_G2 -->\n<g id=\"node1\" class=\"node\">\n<title>ctrl_G2</title>\n<text text-anchor=\"middle\" x=\"27\" y=\"-68.3\" font-family=\"Times,serif\" font-size=\"14.00\">ctrl</text>\n</g>\n<!-- PrepareUniformSuperposition -->\n<g id=\"node3\" class=\"node\">\n<title>PrepareUniformSuperposition</title>\n<polygon fill=\"none\" stroke=\"black\" points=\"91,-66 91,-83 219,-83 219,-66 91,-66\"/>\n<text text-anchor=\"start\" x=\"94\" y=\"-72\" font-family=\"Times,serif\" font-size=\"10.00\">PrepareUniformSuperposition</text>\n<polygon fill=\"none\" stroke=\"black\" points=\"91,-45 91,-66 219,-66 219,-45 91,-45\"/>\n<text text-anchor=\"start\" x=\"145.5\" y=\"-51.8\" font-family=\"Times,serif\" font-size=\"14.00\">ctrl</text>\n<polygon fill=\"none\" stroke=\"black\" points=\"91,-24 91,-45 219,-45 219,-24 91,-24\"/>\n<text text-anchor=\"start\" x=\"139.5\" y=\"-30.8\" font-family=\"Times,serif\" font-size=\"14.00\">target</text>\n</g>\n<!-- ctrl_G2&#45;&gt;PrepareUniformSuperposition -->\n<g id=\"edge1\" class=\"edge\">\n<title>ctrl_G2:e-&gt;PrepareUniformSuperposition:w</title>\n<path fill=\"none\" stroke=\"black\" d=\"M54,-72C71.22,-72 72.97,-57.23 88.98,-56.07\"/>\n<ellipse fill=\"black\" stroke=\"black\" cx=\"90\" cy=\"-56.04\" rx=\"1\" ry=\"1\"/>\n<text text-anchor=\"middle\" x=\"72.5\" y=\"-67\" font-family=\"Times,serif\" font-size=\"10.00\">1</text>\n</g>\n<!-- target_G0 -->\n<g id=\"node2\" class=\"node\">\n<title>target_G0</title>\n<text text-anchor=\"middle\" x=\"27\" y=\"-14.3\" font-family=\"Times,serif\" font-size=\"14.00\">target</text>\n</g>\n<!-- target_G0&#45;&gt;PrepareUniformSuperposition -->\n<g id=\"edge2\" class=\"edge\">\n<title>target_G0:e-&gt;PrepareUniformSuperposition:w</title>\n<path fill=\"none\" stroke=\"black\" d=\"M54,-18C71.22,-18 72.97,-32.77 88.98,-33.93\"/>\n<ellipse fill=\"black\" stroke=\"black\" cx=\"90\" cy=\"-33.96\" rx=\"1\" ry=\"1\"/>\n<text text-anchor=\"middle\" x=\"72.5\" y=\"-29\" font-family=\"Times,serif\" font-size=\"10.00\">3</text>\n</g>\n<!-- ctrl_G5 -->\n<g id=\"node4\" class=\"node\">\n<title>ctrl_G5</title>\n<text text-anchor=\"middle\" x=\"283\" y=\"-68.3\" font-family=\"Times,serif\" font-size=\"14.00\">ctrl</text>\n</g>\n<!-- PrepareUniformSuperposition&#45;&gt;ctrl_G5 -->\n<g id=\"edge3\" class=\"edge\">\n<title>PrepareUniformSuperposition:e-&gt;ctrl_G5:w</title>\n<path fill=\"none\" stroke=\"black\" d=\"M219,-56C236.22,-56 237.97,-70.77 253.98,-71.93\"/>\n<ellipse fill=\"black\" stroke=\"black\" cx=\"255\" cy=\"-71.96\" rx=\"1\" ry=\"1\"/>\n<text text-anchor=\"middle\" x=\"237.5\" y=\"-67\" font-family=\"Times,serif\" font-size=\"10.00\">1</text>\n</g>\n<!-- target_G3 -->\n<g id=\"node5\" class=\"node\">\n<title>target_G3</title>\n<text text-anchor=\"middle\" x=\"283\" y=\"-14.3\" font-family=\"Times,serif\" font-size=\"14.00\">target</text>\n</g>\n<!-- PrepareUniformSuperposition&#45;&gt;target_G3 -->\n<g id=\"edge4\" class=\"edge\">\n<title>PrepareUniformSuperposition:e-&gt;target_G3:w</title>\n<path fill=\"none\" stroke=\"black\" d=\"M219,-34C236.22,-34 237.97,-19.23 253.98,-18.07\"/>\n<ellipse fill=\"black\" stroke=\"black\" cx=\"255\" cy=\"-18.04\" rx=\"1\" ry=\"1\"/>\n<text text-anchor=\"middle\" x=\"237.5\" y=\"-29\" font-family=\"Times,serif\" font-size=\"10.00\">3</text>\n</g>\n</g>\n</svg>",
          "text/plain": "<IPython.core.display.SVG object>"
         },
         "metadata": {},
         "output_type": "display_data"
        }
       ],
       "tabbable": null,
       "tooltip": null
      }
     },
     "5b60deefecc24a63b50cb27b437af541": {
      "model_module": "@jupyter-widgets/base",
      "model_module_version": "2.0.0",
      "model_name": "LayoutModel",
      "state": {
       "_model_module": "@jupyter-widgets/base",
       "_model_module_version": "2.0.0",
       "_model_name": "LayoutModel",
       "_view_count": null,
       "_view_module": "@jupyter-widgets/base",
       "_view_module_version": "2.0.0",
       "_view_name": "LayoutView",
       "align_content": null,
       "align_items": null,
       "align_self": null,
       "border_bottom": null,
       "border_left": null,
       "border_right": null,
       "border_top": null,
       "bottom": null,
       "display": null,
       "flex": null,
       "flex_flow": null,
       "grid_area": null,
       "grid_auto_columns": null,
       "grid_auto_flow": null,
       "grid_auto_rows": null,
       "grid_column": null,
       "grid_gap": null,
       "grid_row": null,
       "grid_template_areas": null,
       "grid_template_columns": null,
       "grid_template_rows": null,
       "height": null,
       "justify_content": null,
       "justify_items": null,
       "left": null,
       "margin": null,
       "max_height": null,
       "max_width": null,
       "min_height": null,
       "min_width": null,
       "object_fit": null,
       "object_position": null,
       "order": null,
       "overflow": null,
       "padding": null,
       "right": null,
       "top": null,
       "visibility": null,
       "width": null
      }
     },
     "bf4d8272c6d4470f80a5261fd9314727": {
      "model_module": "@jupyter-widgets/base",
      "model_module_version": "2.0.0",
      "model_name": "LayoutModel",
      "state": {
       "_model_module": "@jupyter-widgets/base",
       "_model_module_version": "2.0.0",
       "_model_name": "LayoutModel",
       "_view_count": null,
       "_view_module": "@jupyter-widgets/base",
       "_view_module_version": "2.0.0",
       "_view_name": "LayoutView",
       "align_content": null,
       "align_items": null,
       "align_self": null,
       "border_bottom": null,
       "border_left": null,
       "border_right": null,
       "border_top": null,
       "bottom": null,
       "display": null,
       "flex": null,
       "flex_flow": null,
       "grid_area": null,
       "grid_auto_columns": null,
       "grid_auto_flow": null,
       "grid_auto_rows": null,
       "grid_column": null,
       "grid_gap": null,
       "grid_row": null,
       "grid_template_areas": null,
       "grid_template_columns": null,
       "grid_template_rows": null,
       "height": null,
       "justify_content": null,
       "justify_items": null,
       "left": null,
       "margin": null,
       "max_height": null,
       "max_width": null,
       "min_height": null,
       "min_width": null,
       "object_fit": null,
       "object_position": null,
       "order": null,
       "overflow": null,
       "padding": null,
       "right": null,
       "top": null,
       "visibility": null,
       "width": null
      }
     },
     "d05cebd626f24c7a8ded733ca3bceef1": {
      "model_module": "@jupyter-widgets/controls",
      "model_module_version": "2.0.0",
      "model_name": "HBoxModel",
      "state": {
       "_dom_classes": [],
       "_model_module": "@jupyter-widgets/controls",
       "_model_module_version": "2.0.0",
       "_model_name": "HBoxModel",
       "_view_count": null,
       "_view_module": "@jupyter-widgets/controls",
       "_view_module_version": "2.0.0",
       "_view_name": "HBoxView",
       "box_style": "",
       "children": [
        "IPY_MODEL_24f768ccc50845e299b5f6e6490cb150",
        "IPY_MODEL_564fce7f434a4765af3fe0f2a9a7cc16"
       ],
       "layout": "IPY_MODEL_4c814a9b89204ac78afb09fe6bd46a5e",
       "tabbable": null,
       "tooltip": null
      }
     }
    },
    "version_major": 2,
    "version_minor": 0
   }
  }
 },
 "nbformat": 4,
 "nbformat_minor": 5
}
