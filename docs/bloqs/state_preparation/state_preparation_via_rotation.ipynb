{
 "cells": [
  {
   "cell_type": "markdown",
   "id": "2568299e",
   "metadata": {
    "cq.autogen": "title_cell"
   },
   "source": [
    "# State Preparation Using Rotations\n",
    "\n",
    "Controlled State preparation.\n",
    "\n",
    "This algorithm prepares a state $|\\psi\\rangle$ in a register initially at $|0\\rangle$ by using\n",
    "rotations $R_y$ for encoding amplitudes and $R_z$ for encoding phases.\n",
    "\n",
    "Assume one wants to prepare the amplitude of a one qubit state\n",
    "\n",
    "$$\n",
    "\\sqrt{p_0} |0\\rangle + \\sqrt{p_1} |1\\rangle.\n",
    "$$\n",
    "\n",
    "This can be achieved by a rotation $R_y(\\theta)$ where $\\theta = \\cos^{-1}(\\sqrt{p_0})$.\n",
    "For encoding the amplitude of a n-qubit quantum state one could use a similar approach to this, but\n",
    "chaining conditional probabilities: first rotate qubit 1 by $\\theta = \\cos^{-1}(\\sqrt{p_0})$, then\n",
    "the second qubit by $\\theta_0 = \\cos^{-1}(\\sqrt{p_{00}/p_{0}})$, conditioned on the first one being\n",
    "in $|0\\rangle$ and $\\theta_1 = \\cos^{-1}(\\sqrt{p_{10}/p_{1}})$ conditioned by the first being in\n",
    "$|1\\rangle$, and so on. Here $p_y$ means the probability that the first len(y) qubits of the\n",
    "original state are in the state $y$. Refer to equation (8) of [1] for the details.\n",
    "\n",
    "This general scheme is handled by StatePreparationViaRotations. This class also uses\n",
    "RotationTree to get the angles of rotation needed (which are converted to the value to be loaded\n",
    "to the ROM to achieve such a rotation). RotationTree is a tree data structure which holds the\n",
    "accumulated probability of each substring, i.e., the root holds the probability of measuring the\n",
    "first qubit at 0, the branch1 node the probability of measuring the second qubit at 0 if the first\n",
    "was measured at 1 and so on. The $2^i$ rotations needed to prepare the ith qubit are performed by\n",
    "PRGAViaPhaseGradient. This essentially is a rotation gate array, that is, given a list of\n",
    "angles it performs the kth rotation when the selection register is on state $|k\\rangle$. This\n",
    "rotation is done in the Z axis, but for encoding amplitude a rotation around Ry is needed, thus the\n",
    "need of a $R_x(\\pm \\pi/2)$ gate before and after encoding the amplitudes of each qubit.\n",
    "\n",
    "In order to perform the rotations as efficiently as possible, the angles are loaded into a register\n",
    "(rot\\_reg) which is added into a phase gradient. Then phase kickback causes an overall offset of\n",
    "$e^{i2\\pi x/2^b}$, where $x$ is the angle value loaded and $b$ the size of the rot\\_reg. Below is an\n",
    "example for rot\\_reg\\_size=2.\n",
    "\n",
    "First there is the rot\\_reg register with the value to be rotated (3 in this case) and the phase\n",
    "gradient\n",
    "\n",
    "$$\n",
    "|3\\rangle(e^{2\\pi i 0/4}|0\\rangle + e^{2\\pi i 1/4}|1\\rangle +\n",
    "          e^{2\\pi i 2/4}|2\\rangle + e^{2\\pi i 3/4}|3\\rangle).\n",
    "$$\n",
    "\n",
    "Then the rot\\_reg $|3\\rangle$ register is added to the phase gradient and store the result in the\n",
    "phase gradient register\n",
    "\n",
    "$$\n",
    "|3\\rangle(e^{2\\pi i 0/4}|3\\rangle + e^{2\\pi i 1/4}|0\\rangle +\n",
    "          e^{2\\pi i 2/4}|1\\rangle + e^{2\\pi i 3/4}|2\\rangle),\n",
    "$$\n",
    "\n",
    "but this is equivalent to the original state with a phase offset of $e^{2\\pi i 1/4}$.\n",
    "\n",
    "\n",
    "References:\n",
    "    [Trading T-gates for dirty qubits in state preparation and unitary synthesis]\n",
    "    (https://arxiv.org/abs/1812.00954).\n",
    "        Low, Kliuchnikov, Schaeffer. 2018."
   ]
  },
  {
   "cell_type": "code",
   "execution_count": 1,
   "id": "4f761ae7",
   "metadata": {
    "cq.autogen": "top_imports"
   },
   "outputs": [],
   "source": [
    "from qualtran import Bloq, CompositeBloq, BloqBuilder, Signature, Register\n",
    "from qualtran import QBit, QInt, QUInt, QAny\n",
    "from qualtran.drawing import show_bloq, show_call_graph, show_counts_sigma\n",
    "from typing import *\n",
    "import numpy as np\n",
    "import sympy\n",
    "import cirq"
   ]
  },
  {
   "cell_type": "markdown",
   "id": "17790c77",
   "metadata": {
    "cq.autogen": "StatePreparationViaRotations.bloq_doc.md"
   },
   "source": [
    "## `StatePreparationViaRotations`\n",
    "Controlled state preparation without entangled residual using Ry and Rz rotations from [1].\n",
    "\n",
    "Given a quantum state of which the list of coefficients $c_i$ is known\n",
    "$$\n",
    "    |\\psi \\rangle = \\sum_{i=0}^{N-1}c_{i}|i\\rangle\n",
    "$$\n",
    "this gate prepares $|\\psi\\rangle$ from $|0\\rangle$ conditioned by a control qubit\n",
    "$$\n",
    "    U((|0\\rangle + |1\\rangle)|0\\rangle) = |0\\rangle |0\\rangle + |1\\rangle |\\psi\\rangle.\n",
    "$$\n",
    "\n",
    "#### Parameters\n",
    " - `phase_bitsize`: size of the register that is used to store the rotation angles. Bigger values increase the accuracy of the results.\n",
    " - `state_coefficients`: tuple of length 2^state_bitsizes that contains the complex coefficients of the state.\n",
    " - `control_bitsize`: number of qubits of the control register. Set to zero for an uncontrolled gate. \n",
    "\n",
    "#### References\n",
    " - [Trading T-gates for dirty qubits in state preparation and unitary synthesis](https://arxiv.org/abs/1812.00954). Low, Kliuchnikov, Schaeffer. 2018.\n"
   ]
  },
  {
   "cell_type": "code",
   "execution_count": 2,
   "id": "55c81370",
   "metadata": {
    "cq.autogen": "StatePreparationViaRotations.bloq_doc.py"
   },
   "outputs": [],
   "source": [
    "from qualtran.bloqs.state_preparation import StatePreparationViaRotations"
   ]
  },
  {
   "cell_type": "markdown",
   "id": "d8c2407c",
   "metadata": {
    "cq.autogen": "StatePreparationViaRotations.example_instances.md"
   },
   "source": [
    "### Example Instances"
   ]
  },
  {
   "cell_type": "code",
   "execution_count": 3,
   "id": "cd0552db",
   "metadata": {
    "cq.autogen": "StatePreparationViaRotations.state_prep_via_rotation"
   },
   "outputs": [],
   "source": [
    "state_coefs = (\n",
    "    (-0.42677669529663675 - 0.1767766952966366j),\n",
    "    (0.17677669529663664 - 0.4267766952966367j),\n",
    "    (0.17677669529663675 - 0.1767766952966368j),\n",
    "    (0.07322330470336305 - 0.07322330470336309j),\n",
    "    (0.4267766952966366 - 0.17677669529663692j),\n",
    "    (0.42677669529663664 + 0.17677669529663675j),\n",
    "    (0.0732233047033631 + 0.17677669529663678j),\n",
    "    (-0.07322330470336308 - 0.17677669529663678j),\n",
    ")\n",
    "state_prep_via_rotation = StatePreparationViaRotations(\n",
    "    phase_bitsize=2, state_coefficients=state_coefs\n",
    ")"
   ]
  },
  {
   "cell_type": "code",
   "execution_count": 4,
   "id": "a52e9cf3",
   "metadata": {
    "cq.autogen": "StatePreparationViaRotations.state_prep_via_rotation_symb"
   },
   "outputs": [],
   "source": [
    "from qualtran.symbolics import HasLength\n",
    "\n",
    "n_state_coeff = sympy.Symbol(\"L\")\n",
    "phase_bitsize = sympy.Symbol(r\"\\text{phase_bitsize}\")\n",
    "state_prep_via_rotation_symb = StatePreparationViaRotations(\n",
    "    state_coefficients=HasLength(n_state_coeff), phase_bitsize=phase_bitsize\n",
    ")"
   ]
  },
  {
   "cell_type": "code",
   "execution_count": 5,
   "id": "5446822b",
   "metadata": {
    "cq.autogen": "StatePreparationViaRotations.state_prep_via_rotation_symb_phasegrad"
   },
   "outputs": [],
   "source": [
    "state_coefs = (\n",
    "    (-0.42677669529663675 - 0.1767766952966366j),\n",
    "    (0.17677669529663664 - 0.4267766952966367j),\n",
    "    (0.17677669529663675 - 0.1767766952966368j),\n",
    "    (0.07322330470336305 - 0.07322330470336309j),\n",
    "    (0.4267766952966366 - 0.17677669529663692j),\n",
    "    (0.42677669529663664 + 0.17677669529663675j),\n",
    "    (0.0732233047033631 + 0.17677669529663678j),\n",
    "    (-0.07322330470336308 - 0.17677669529663678j),\n",
    ")\n",
    "\n",
    "phase_bitsize = sympy.Symbol(r\"b_\\text{grad}\")\n",
    "state_prep_via_rotation_symb_phasegrad = StatePreparationViaRotations(\n",
    "    state_coefficients=state_coefs, phase_bitsize=phase_bitsize\n",
    ")"
   ]
  },
  {
   "cell_type": "markdown",
   "id": "facf9536",
   "metadata": {
    "cq.autogen": "StatePreparationViaRotations.graphical_signature.md"
   },
   "source": [
    "#### Graphical Signature"
   ]
  },
  {
   "cell_type": "code",
   "execution_count": 6,
   "id": "2d801788",
   "metadata": {
    "cq.autogen": "StatePreparationViaRotations.graphical_signature.py"
   },
   "outputs": [
    {
     "data": {
      "application/vnd.jupyter.widget-view+json": {
       "model_id": "515725b0a7504bb790e8ccbc2a2760b4",
       "version_major": 2,
       "version_minor": 0
      },
      "text/plain": [
       "HBox(children=(Output(outputs=({'output_type': 'display_data', 'data': {'text/plain': '<IPython.core.display.M…"
      ]
     },
     "metadata": {},
     "output_type": "display_data"
    }
   ],
   "source": [
    "from qualtran.drawing import show_bloqs\n",
    "show_bloqs([state_prep_via_rotation, state_prep_via_rotation_symb, state_prep_via_rotation_symb_phasegrad],\n",
    "           ['`state_prep_via_rotation`', '`state_prep_via_rotation_symb`', '`state_prep_via_rotation_symb_phasegrad`'])"
   ]
  },
  {
   "cell_type": "markdown",
   "id": "c1aeb064",
   "metadata": {
    "cq.autogen": "StatePreparationViaRotations.call_graph.md"
   },
   "source": [
    "### Call Graph"
   ]
  },
  {
   "cell_type": "code",
   "execution_count": 7,
   "id": "a6fee1d3",
   "metadata": {
    "cq.autogen": "StatePreparationViaRotations.call_graph.py"
   },
   "outputs": [
    {
     "data": {
      "image/svg+xml": [
       "<svg xmlns=\"http://www.w3.org/2000/svg\" xmlns:xlink=\"http://www.w3.org/1999/xlink\" width=\"962pt\" height=\"131pt\" viewBox=\"0.00 0.00 962.00 131.00\">\n",
       "<g id=\"graph0\" class=\"graph\" transform=\"scale(1 1) rotate(0) translate(4 127)\">\n",
       "<title>counts</title>\n",
       "<polygon fill=\"white\" stroke=\"transparent\" points=\"-4,4 -4,-127 958,-127 958,4 -4,4\"/>\n",
       "<!-- b0 -->\n",
       "<g id=\"node1\" class=\"node\">\n",
       "<title>b0</title>\n",
       "<polygon fill=\"none\" stroke=\"black\" points=\"385,-93 385,-116 519,-116 519,-93 385,-93\"/>\n",
       "<text text-anchor=\"start\" x=\"391.5\" y=\"-102\" font-family=\"Times,serif\" font-size=\"10.00\">StatePreparationViaRotations</text>\n",
       "</g>\n",
       "<!-- b1 -->\n",
       "<g id=\"node2\" class=\"node\">\n",
       "<title>b1</title>\n",
       "<polygon fill=\"none\" stroke=\"black\" points=\"8,-6 8,-29 134,-29 134,-6 8,-6\"/>\n",
       "<text text-anchor=\"start\" x=\"14.5\" y=\"-15\" font-family=\"Times,serif\" font-size=\"10.00\">Rx(-1.5707963267948966)</text>\n",
       "</g>\n",
       "<!-- b0&#45;&gt;b1 -->\n",
       "<g id=\"edge1\" class=\"edge\">\n",
       "<title>b0-&gt;b1</title>\n",
       "<path fill=\"none\" stroke=\"black\" d=\"M376.73,-87.21C311.96,-72.76 218.72,-51.96 152.27,-37.13\"/>\n",
       "<polygon fill=\"black\" stroke=\"black\" points=\"152.77,-33.66 142.25,-34.9 151.25,-40.49 152.77,-33.66\"/>\n",
       "<text text-anchor=\"middle\" x=\"288.5\" y=\"-57.8\" font-family=\"Times,serif\" font-size=\"14.00\">3</text>\n",
       "</g>\n",
       "<!-- b2 -->\n",
       "<g id=\"node3\" class=\"node\">\n",
       "<title>b2</title>\n",
       "<polygon fill=\"none\" stroke=\"black\" points=\"168,-6 168,-29 290,-29 290,-6 168,-6\"/>\n",
       "<text text-anchor=\"start\" x=\"174\" y=\"-15\" font-family=\"Times,serif\" font-size=\"10.00\">Rx(1.5707963267948966)</text>\n",
       "</g>\n",
       "<!-- b0&#45;&gt;b2 -->\n",
       "<g id=\"edge2\" class=\"edge\">\n",
       "<title>b0-&gt;b2</title>\n",
       "<path fill=\"none\" stroke=\"black\" d=\"M407.14,-86.9C371.38,-73.27 321.17,-54.13 283.17,-39.65\"/>\n",
       "<polygon fill=\"black\" stroke=\"black\" points=\"284.38,-36.36 273.79,-36.07 281.89,-42.9 284.38,-36.36\"/>\n",
       "<text text-anchor=\"middle\" x=\"357.5\" y=\"-57.8\" font-family=\"Times,serif\" font-size=\"14.00\">3</text>\n",
       "</g>\n",
       "<!-- b3 -->\n",
       "<g id=\"node4\" class=\"node\">\n",
       "<title>b3</title>\n",
       "<polygon fill=\"none\" stroke=\"black\" points=\"333,-6 333,-29 353,-29 353,-6 333,-6\"/>\n",
       "<text text-anchor=\"start\" x=\"339\" y=\"-15\" font-family=\"Times,serif\" font-size=\"10.00\">X</text>\n",
       "</g>\n",
       "<!-- b0&#45;&gt;b3 -->\n",
       "<g id=\"edge3\" class=\"edge\">\n",
       "<title>b0-&gt;b3</title>\n",
       "<path fill=\"none\" stroke=\"black\" d=\"M429.94,-86.8C413.54,-74.01 390.98,-56.42 372.95,-42.36\"/>\n",
       "<polygon fill=\"black\" stroke=\"black\" points=\"375.06,-39.56 365.02,-36.18 370.76,-45.08 375.06,-39.56\"/>\n",
       "<text text-anchor=\"middle\" x=\"408.5\" y=\"-57.8\" font-family=\"Times,serif\" font-size=\"14.00\">2</text>\n",
       "</g>\n",
       "<!-- b4 -->\n",
       "<g id=\"node5\" class=\"node\">\n",
       "<title>b4</title>\n",
       "<polygon fill=\"none\" stroke=\"black\" points=\"396,-6 396,-29 508,-29 508,-6 396,-6\"/>\n",
       "<text text-anchor=\"start\" x=\"402.5\" y=\"-15\" font-family=\"Times,serif\" font-size=\"10.00\">PRGAViaPhaseGradient</text>\n",
       "</g>\n",
       "<!-- b0&#45;&gt;b4 -->\n",
       "<g id=\"edge4\" class=\"edge\">\n",
       "<title>b0-&gt;b4</title>\n",
       "<path fill=\"none\" stroke=\"black\" d=\"M452,-86.8C452,-75.16 452,-59.55 452,-46.24\"/>\n",
       "<polygon fill=\"black\" stroke=\"black\" points=\"455.5,-46.18 452,-36.18 448.5,-46.18 455.5,-46.18\"/>\n",
       "<text text-anchor=\"middle\" x=\"455.5\" y=\"-57.8\" font-family=\"Times,serif\" font-size=\"14.00\">1</text>\n",
       "</g>\n",
       "<!-- b5 -->\n",
       "<g id=\"node6\" class=\"node\">\n",
       "<title>b5</title>\n",
       "<polygon fill=\"none\" stroke=\"black\" points=\"542,-6 542,-29 654,-29 654,-6 542,-6\"/>\n",
       "<text text-anchor=\"start\" x=\"548.5\" y=\"-15\" font-family=\"Times,serif\" font-size=\"10.00\">PRGAViaPhaseGradient</text>\n",
       "</g>\n",
       "<!-- b0&#45;&gt;b5 -->\n",
       "<g id=\"edge5\" class=\"edge\">\n",
       "<title>b0-&gt;b5</title>\n",
       "<path fill=\"none\" stroke=\"black\" d=\"M481.55,-86.8C504.11,-73.66 535.37,-55.46 559.83,-41.22\"/>\n",
       "<polygon fill=\"black\" stroke=\"black\" points=\"561.62,-44.23 568.5,-36.18 558.1,-38.18 561.62,-44.23\"/>\n",
       "<text text-anchor=\"middle\" x=\"537.5\" y=\"-57.8\" font-family=\"Times,serif\" font-size=\"14.00\">1</text>\n",
       "</g>\n",
       "<!-- b6 -->\n",
       "<g id=\"node7\" class=\"node\">\n",
       "<title>b6</title>\n",
       "<polygon fill=\"none\" stroke=\"black\" points=\"688,-6 688,-29 800,-29 800,-6 688,-6\"/>\n",
       "<text text-anchor=\"start\" x=\"694.5\" y=\"-15\" font-family=\"Times,serif\" font-size=\"10.00\">PRGAViaPhaseGradient</text>\n",
       "</g>\n",
       "<!-- b0&#45;&gt;b6 -->\n",
       "<g id=\"edge6\" class=\"edge\">\n",
       "<title>b0-&gt;b6</title>\n",
       "<path fill=\"none\" stroke=\"black\" d=\"M510.74,-86.9C558.36,-73.04 625.54,-53.48 675.59,-38.92\"/>\n",
       "<polygon fill=\"black\" stroke=\"black\" points=\"676.73,-42.23 685.35,-36.07 674.77,-35.51 676.73,-42.23\"/>\n",
       "<text text-anchor=\"middle\" x=\"619.5\" y=\"-57.8\" font-family=\"Times,serif\" font-size=\"14.00\">1</text>\n",
       "</g>\n",
       "<!-- b7 -->\n",
       "<g id=\"node8\" class=\"node\">\n",
       "<title>b7</title>\n",
       "<polygon fill=\"none\" stroke=\"black\" points=\"834,-6 834,-29 946,-29 946,-6 834,-6\"/>\n",
       "<text text-anchor=\"start\" x=\"840.5\" y=\"-15\" font-family=\"Times,serif\" font-size=\"10.00\">PRGAViaPhaseGradient</text>\n",
       "</g>\n",
       "<!-- b0&#45;&gt;b7 -->\n",
       "<g id=\"edge7\" class=\"edge\">\n",
       "<title>b0-&gt;b7</title>\n",
       "<path fill=\"none\" stroke=\"black\" d=\"M527.34,-90.98C599.04,-78.35 710.18,-58.18 816.04,-36.16\"/>\n",
       "<polygon fill=\"black\" stroke=\"black\" points=\"816.87,-39.56 825.94,-34.09 815.44,-32.71 816.87,-39.56\"/>\n",
       "<text text-anchor=\"middle\" x=\"730.5\" y=\"-57.8\" font-family=\"Times,serif\" font-size=\"14.00\">1</text>\n",
       "</g>\n",
       "</g>\n",
       "</svg>"
      ],
      "text/plain": [
       "<IPython.core.display.SVG object>"
      ]
     },
     "metadata": {},
     "output_type": "display_data"
    },
    {
     "data": {
      "text/markdown": [
       "#### Counts totals:\n",
       " - `PRGAViaPhaseGradient`: 1\n",
       " - `PRGAViaPhaseGradient`: 1\n",
       " - `PRGAViaPhaseGradient`: 1\n",
       " - `PRGAViaPhaseGradient`: 1\n",
       " - `Rx(-1.5707963267948966)`: 3\n",
       " - `Rx(1.5707963267948966)`: 3\n",
       " - `X`: 2"
      ],
      "text/plain": [
       "<IPython.core.display.Markdown object>"
      ]
     },
     "metadata": {},
     "output_type": "display_data"
    }
   ],
   "source": [
    "from qualtran.resource_counting.generalizers import ignore_split_join\n",
    "state_prep_via_rotation_g, state_prep_via_rotation_sigma = state_prep_via_rotation.call_graph(max_depth=1, generalizer=ignore_split_join)\n",
    "show_call_graph(state_prep_via_rotation_g)\n",
    "show_counts_sigma(state_prep_via_rotation_sigma)"
   ]
  }
 ],
 "metadata": {
  "kernelspec": {
   "display_name": "Python 3",
   "language": "python",
   "name": "python3"
  },
  "language_info": {
   "codemirror_mode": {
    "name": "ipython",
    "version": 3
   },
   "file_extension": ".py",
   "mimetype": "text/x-python",
   "name": "python",
   "nbconvert_exporter": "python",
   "pygments_lexer": "ipython3",
   "version": "3.11.8"
  },
  "widgets": {
   "application/vnd.jupyter.widget-state+json": {
    "state": {
     "0d611f5b22e544e29fc20ae4144f4389": {
      "model_module": "@jupyter-widgets/base",
      "model_module_version": "2.0.0",
      "model_name": "LayoutModel",
      "state": {
       "_model_module": "@jupyter-widgets/base",
       "_model_module_version": "2.0.0",
       "_model_name": "LayoutModel",
       "_view_count": null,
       "_view_module": "@jupyter-widgets/base",
       "_view_module_version": "2.0.0",
       "_view_name": "LayoutView",
       "align_content": null,
       "align_items": null,
       "align_self": null,
       "border_bottom": null,
       "border_left": null,
       "border_right": null,
       "border_top": null,
       "bottom": null,
       "display": null,
       "flex": null,
       "flex_flow": null,
       "grid_area": null,
       "grid_auto_columns": null,
       "grid_auto_flow": null,
       "grid_auto_rows": null,
       "grid_column": null,
       "grid_gap": null,
       "grid_row": null,
       "grid_template_areas": null,
       "grid_template_columns": null,
       "grid_template_rows": null,
       "height": null,
       "justify_content": null,
       "justify_items": null,
       "left": null,
       "margin": null,
       "max_height": null,
       "max_width": null,
       "min_height": null,
       "min_width": null,
       "object_fit": null,
       "object_position": null,
       "order": null,
       "overflow": null,
       "padding": null,
       "right": null,
       "top": null,
       "visibility": null,
       "width": null
      }
     },
     "25b0fa84f0ec477b93fa054f7d616319": {
      "model_module": "@jupyter-widgets/output",
      "model_module_version": "1.0.0",
      "model_name": "OutputModel",
      "state": {
       "_dom_classes": [],
       "_model_module": "@jupyter-widgets/output",
       "_model_module_version": "1.0.0",
       "_model_name": "OutputModel",
       "_view_count": null,
       "_view_module": "@jupyter-widgets/output",
       "_view_module_version": "1.0.0",
       "_view_name": "OutputView",
       "layout": "IPY_MODEL_650ea13cbcdf418a8ce7f4860d76f5bf",
       "msg_id": "",
       "outputs": [
        {
         "data": {
          "text/markdown": "`state_prep_via_rotation`",
          "text/plain": "<IPython.core.display.Markdown object>"
         },
         "metadata": {},
         "output_type": "display_data"
        },
        {
         "data": {
          "image/svg+xml": "<svg xmlns=\"http://www.w3.org/2000/svg\" xmlns:xlink=\"http://www.w3.org/1999/xlink\" width=\"405pt\" height=\"98pt\" viewBox=\"0.00 0.00 405.00 98.00\">\n<g id=\"graph0\" class=\"graph\" transform=\"scale(1 1) rotate(0) translate(4 94)\">\n<title>my_graph</title>\n<polygon fill=\"white\" stroke=\"transparent\" points=\"-4,4 -4,-94 401,-94 401,4 -4,4\"/>\n<!-- target_state_G2 -->\n<g id=\"node1\" class=\"node\">\n<title>target_state_G2</title>\n<text text-anchor=\"middle\" x=\"49\" y=\"-68.3\" font-family=\"Times,serif\" font-size=\"14.00\">target_state</text>\n</g>\n<!-- StatePreparationViaRotations -->\n<g id=\"node3\" class=\"node\">\n<title>StatePreparationViaRotations</title>\n<polygon fill=\"none\" stroke=\"black\" points=\"135.5,-66 135.5,-83 262.5,-83 262.5,-66 135.5,-66\"/>\n<text text-anchor=\"start\" x=\"138.5\" y=\"-72\" font-family=\"Times,serif\" font-size=\"10.00\">StatePreparationViaRotations</text>\n<polygon fill=\"none\" stroke=\"black\" points=\"135.5,-45 135.5,-66 262.5,-66 262.5,-45 135.5,-45\"/>\n<text text-anchor=\"start\" x=\"167.5\" y=\"-51.8\" font-family=\"Times,serif\" font-size=\"14.00\">target_state</text>\n<polygon fill=\"none\" stroke=\"black\" points=\"135.5,-24 135.5,-45 262.5,-45 262.5,-24 135.5,-24\"/>\n<text text-anchor=\"start\" x=\"158\" y=\"-30.8\" font-family=\"Times,serif\" font-size=\"14.00\">phase_gradient</text>\n</g>\n<!-- target_state_G2&#45;&gt;StatePreparationViaRotations -->\n<g id=\"edge1\" class=\"edge\">\n<title>target_state_G2:e-&gt;StatePreparationViaRotations:w</title>\n<path fill=\"none\" stroke=\"black\" d=\"M90,-72C110.4,-72 113.55,-57.23 132.6,-56.07\"/>\n<ellipse fill=\"black\" stroke=\"black\" cx=\"134\" cy=\"-56.03\" rx=\"1\" ry=\"1\"/>\n<text text-anchor=\"middle\" x=\"116.5\" y=\"-64\" font-family=\"Times,serif\" font-size=\"10.00\">3</text>\n</g>\n<!-- phase_gradient_G3 -->\n<g id=\"node2\" class=\"node\">\n<title>phase_gradient_G3</title>\n<text text-anchor=\"middle\" x=\"49\" y=\"-14.3\" font-family=\"Times,serif\" font-size=\"14.00\">phase_gradient</text>\n</g>\n<!-- phase_gradient_G3&#45;&gt;StatePreparationViaRotations -->\n<g id=\"edge2\" class=\"edge\">\n<title>phase_gradient_G3:e-&gt;StatePreparationViaRotations:w</title>\n<path fill=\"none\" stroke=\"black\" d=\"M98,-18C115.22,-18 116.97,-32.77 132.98,-33.93\"/>\n<ellipse fill=\"black\" stroke=\"black\" cx=\"134\" cy=\"-33.96\" rx=\"1\" ry=\"1\"/>\n<text text-anchor=\"middle\" x=\"116.5\" y=\"-29\" font-family=\"Times,serif\" font-size=\"10.00\">2</text>\n</g>\n<!-- target_state_G0 -->\n<g id=\"node4\" class=\"node\">\n<title>target_state_G0</title>\n<text text-anchor=\"middle\" x=\"348\" y=\"-68.3\" font-family=\"Times,serif\" font-size=\"14.00\">target_state</text>\n</g>\n<!-- StatePreparationViaRotations&#45;&gt;target_state_G0 -->\n<g id=\"edge3\" class=\"edge\">\n<title>StatePreparationViaRotations:e-&gt;target_state_G0:w</title>\n<path fill=\"none\" stroke=\"black\" d=\"M262,-56C282.4,-56 285.55,-70.77 304.6,-71.93\"/>\n<ellipse fill=\"black\" stroke=\"black\" cx=\"306\" cy=\"-71.97\" rx=\"1\" ry=\"1\"/>\n<text text-anchor=\"middle\" x=\"280.5\" y=\"-64\" font-family=\"Times,serif\" font-size=\"10.00\">3</text>\n</g>\n<!-- phase_gradient_G1 -->\n<g id=\"node5\" class=\"node\">\n<title>phase_gradient_G1</title>\n<text text-anchor=\"middle\" x=\"348\" y=\"-14.3\" font-family=\"Times,serif\" font-size=\"14.00\">phase_gradient</text>\n</g>\n<!-- StatePreparationViaRotations&#45;&gt;phase_gradient_G1 -->\n<g id=\"edge4\" class=\"edge\">\n<title>StatePreparationViaRotations:e-&gt;phase_gradient_G1:w</title>\n<path fill=\"none\" stroke=\"black\" d=\"M262,-34C279.22,-34 280.97,-19.23 296.98,-18.07\"/>\n<ellipse fill=\"black\" stroke=\"black\" cx=\"298\" cy=\"-18.04\" rx=\"1\" ry=\"1\"/>\n<text text-anchor=\"middle\" x=\"280.5\" y=\"-29\" font-family=\"Times,serif\" font-size=\"10.00\">2</text>\n</g>\n</g>\n</svg>",
          "text/plain": "<IPython.core.display.SVG object>"
         },
         "metadata": {},
         "output_type": "display_data"
        }
       ],
       "tabbable": null,
       "tooltip": null
      }
     },
     "387be3179f404d0aa7a351df135288c2": {
      "model_module": "@jupyter-widgets/base",
      "model_module_version": "2.0.0",
      "model_name": "LayoutModel",
      "state": {
       "_model_module": "@jupyter-widgets/base",
       "_model_module_version": "2.0.0",
       "_model_name": "LayoutModel",
       "_view_count": null,
       "_view_module": "@jupyter-widgets/base",
       "_view_module_version": "2.0.0",
       "_view_name": "LayoutView",
       "align_content": null,
       "align_items": null,
       "align_self": null,
       "border_bottom": null,
       "border_left": null,
       "border_right": null,
       "border_top": null,
       "bottom": null,
       "display": null,
       "flex": null,
       "flex_flow": null,
       "grid_area": null,
       "grid_auto_columns": null,
       "grid_auto_flow": null,
       "grid_auto_rows": null,
       "grid_column": null,
       "grid_gap": null,
       "grid_row": null,
       "grid_template_areas": null,
       "grid_template_columns": null,
       "grid_template_rows": null,
       "height": null,
       "justify_content": null,
       "justify_items": null,
       "left": null,
       "margin": null,
       "max_height": null,
       "max_width": null,
       "min_height": null,
       "min_width": null,
       "object_fit": null,
       "object_position": null,
       "order": null,
       "overflow": null,
       "padding": null,
       "right": null,
       "top": null,
       "visibility": null,
       "width": null
      }
     },
     "515725b0a7504bb790e8ccbc2a2760b4": {
      "model_module": "@jupyter-widgets/controls",
      "model_module_version": "2.0.0",
      "model_name": "HBoxModel",
      "state": {
       "_dom_classes": [],
       "_model_module": "@jupyter-widgets/controls",
       "_model_module_version": "2.0.0",
       "_model_name": "HBoxModel",
       "_view_count": null,
       "_view_module": "@jupyter-widgets/controls",
       "_view_module_version": "2.0.0",
       "_view_name": "HBoxView",
       "box_style": "",
       "children": [
        "IPY_MODEL_25b0fa84f0ec477b93fa054f7d616319",
        "IPY_MODEL_a26da48a4b16406e8bd75abc85324574",
        "IPY_MODEL_7720f95c2a324511ac5b601a984d1144"
       ],
       "layout": "IPY_MODEL_387be3179f404d0aa7a351df135288c2",
       "tabbable": null,
       "tooltip": null
      }
     },
     "650ea13cbcdf418a8ce7f4860d76f5bf": {
      "model_module": "@jupyter-widgets/base",
      "model_module_version": "2.0.0",
      "model_name": "LayoutModel",
      "state": {
       "_model_module": "@jupyter-widgets/base",
       "_model_module_version": "2.0.0",
       "_model_name": "LayoutModel",
       "_view_count": null,
       "_view_module": "@jupyter-widgets/base",
       "_view_module_version": "2.0.0",
       "_view_name": "LayoutView",
       "align_content": null,
       "align_items": null,
       "align_self": null,
       "border_bottom": null,
       "border_left": null,
       "border_right": null,
       "border_top": null,
       "bottom": null,
       "display": null,
       "flex": null,
       "flex_flow": null,
       "grid_area": null,
       "grid_auto_columns": null,
       "grid_auto_flow": null,
       "grid_auto_rows": null,
       "grid_column": null,
       "grid_gap": null,
       "grid_row": null,
       "grid_template_areas": null,
       "grid_template_columns": null,
       "grid_template_rows": null,
       "height": null,
       "justify_content": null,
       "justify_items": null,
       "left": null,
       "margin": null,
       "max_height": null,
       "max_width": null,
       "min_height": null,
       "min_width": null,
       "object_fit": null,
       "object_position": null,
       "order": null,
       "overflow": null,
       "padding": null,
       "right": null,
       "top": null,
       "visibility": null,
       "width": null
      }
     },
     "7720f95c2a324511ac5b601a984d1144": {
      "model_module": "@jupyter-widgets/output",
      "model_module_version": "1.0.0",
      "model_name": "OutputModel",
      "state": {
       "_dom_classes": [],
       "_model_module": "@jupyter-widgets/output",
       "_model_module_version": "1.0.0",
       "_model_name": "OutputModel",
       "_view_count": null,
       "_view_module": "@jupyter-widgets/output",
       "_view_module_version": "1.0.0",
       "_view_name": "OutputView",
       "layout": "IPY_MODEL_ada636332afa49138c751cab9359eecb",
       "msg_id": "",
       "outputs": [
        {
         "data": {
          "text/markdown": "`state_prep_via_rotation_symb_phasegrad`",
          "text/plain": "<IPython.core.display.Markdown object>"
         },
         "metadata": {},
         "output_type": "display_data"
        },
        {
         "data": {
          "image/svg+xml": "<svg xmlns=\"http://www.w3.org/2000/svg\" xmlns:xlink=\"http://www.w3.org/1999/xlink\" width=\"405pt\" height=\"98pt\" viewBox=\"0.00 0.00 405.00 98.00\">\n<g id=\"graph0\" class=\"graph\" transform=\"scale(1 1) rotate(0) translate(4 94)\">\n<title>my_graph</title>\n<polygon fill=\"white\" stroke=\"transparent\" points=\"-4,4 -4,-94 401,-94 401,4 -4,4\"/>\n<!-- target_state_G1 -->\n<g id=\"node1\" class=\"node\">\n<title>target_state_G1</title>\n<text text-anchor=\"middle\" x=\"49\" y=\"-68.3\" font-family=\"Times,serif\" font-size=\"14.00\">target_state</text>\n</g>\n<!-- StatePreparationViaRotations -->\n<g id=\"node3\" class=\"node\">\n<title>StatePreparationViaRotations</title>\n<polygon fill=\"none\" stroke=\"black\" points=\"135.5,-66 135.5,-83 262.5,-83 262.5,-66 135.5,-66\"/>\n<text text-anchor=\"start\" x=\"138.5\" y=\"-72\" font-family=\"Times,serif\" font-size=\"10.00\">StatePreparationViaRotations</text>\n<polygon fill=\"none\" stroke=\"black\" points=\"135.5,-45 135.5,-66 262.5,-66 262.5,-45 135.5,-45\"/>\n<text text-anchor=\"start\" x=\"167.5\" y=\"-51.8\" font-family=\"Times,serif\" font-size=\"14.00\">target_state</text>\n<polygon fill=\"none\" stroke=\"black\" points=\"135.5,-24 135.5,-45 262.5,-45 262.5,-24 135.5,-24\"/>\n<text text-anchor=\"start\" x=\"158\" y=\"-30.8\" font-family=\"Times,serif\" font-size=\"14.00\">phase_gradient</text>\n</g>\n<!-- target_state_G1&#45;&gt;StatePreparationViaRotations -->\n<g id=\"edge1\" class=\"edge\">\n<title>target_state_G1:e-&gt;StatePreparationViaRotations:w</title>\n<path fill=\"none\" stroke=\"black\" d=\"M90,-72C110.4,-72 113.55,-57.23 132.6,-56.07\"/>\n<ellipse fill=\"black\" stroke=\"black\" cx=\"134\" cy=\"-56.03\" rx=\"1\" ry=\"1\"/>\n<text text-anchor=\"middle\" x=\"116.5\" y=\"-64\" font-family=\"Times,serif\" font-size=\"10.00\">3</text>\n</g>\n<!-- phase_gradient_G2 -->\n<g id=\"node2\" class=\"node\">\n<title>phase_gradient_G2</title>\n<text text-anchor=\"middle\" x=\"49\" y=\"-14.3\" font-family=\"Times,serif\" font-size=\"14.00\">phase_gradient</text>\n</g>\n<!-- phase_gradient_G2&#45;&gt;StatePreparationViaRotations -->\n<g id=\"edge2\" class=\"edge\">\n<title>phase_gradient_G2:e-&gt;StatePreparationViaRotations:w</title>\n<path fill=\"none\" stroke=\"black\" d=\"M98,-18C115.22,-18 116.97,-32.77 132.98,-33.93\"/>\n<ellipse fill=\"black\" stroke=\"black\" cx=\"134\" cy=\"-33.96\" rx=\"1\" ry=\"1\"/>\n<text text-anchor=\"middle\" x=\"116.5\" y=\"-29\" font-family=\"Times,serif\" font-size=\"10.00\">b_text{grad}</text>\n</g>\n<!-- target_state_G0 -->\n<g id=\"node4\" class=\"node\">\n<title>target_state_G0</title>\n<text text-anchor=\"middle\" x=\"348\" y=\"-68.3\" font-family=\"Times,serif\" font-size=\"14.00\">target_state</text>\n</g>\n<!-- StatePreparationViaRotations&#45;&gt;target_state_G0 -->\n<g id=\"edge3\" class=\"edge\">\n<title>StatePreparationViaRotations:e-&gt;target_state_G0:w</title>\n<path fill=\"none\" stroke=\"black\" d=\"M262,-56C282.4,-56 285.55,-70.77 304.6,-71.93\"/>\n<ellipse fill=\"black\" stroke=\"black\" cx=\"306\" cy=\"-71.97\" rx=\"1\" ry=\"1\"/>\n<text text-anchor=\"middle\" x=\"280.5\" y=\"-64\" font-family=\"Times,serif\" font-size=\"10.00\">3</text>\n</g>\n<!-- phase_gradient_G3 -->\n<g id=\"node5\" class=\"node\">\n<title>phase_gradient_G3</title>\n<text text-anchor=\"middle\" x=\"348\" y=\"-14.3\" font-family=\"Times,serif\" font-size=\"14.00\">phase_gradient</text>\n</g>\n<!-- StatePreparationViaRotations&#45;&gt;phase_gradient_G3 -->\n<g id=\"edge4\" class=\"edge\">\n<title>StatePreparationViaRotations:e-&gt;phase_gradient_G3:w</title>\n<path fill=\"none\" stroke=\"black\" d=\"M262,-34C279.22,-34 280.97,-19.23 296.98,-18.07\"/>\n<ellipse fill=\"black\" stroke=\"black\" cx=\"298\" cy=\"-18.04\" rx=\"1\" ry=\"1\"/>\n<text text-anchor=\"middle\" x=\"280.5\" y=\"-29\" font-family=\"Times,serif\" font-size=\"10.00\">b_text{grad}</text>\n</g>\n</g>\n</svg>",
          "text/plain": "<IPython.core.display.SVG object>"
         },
         "metadata": {},
         "output_type": "display_data"
        }
       ],
       "tabbable": null,
       "tooltip": null
      }
     },
     "a26da48a4b16406e8bd75abc85324574": {
      "model_module": "@jupyter-widgets/output",
      "model_module_version": "1.0.0",
      "model_name": "OutputModel",
      "state": {
       "_dom_classes": [],
       "_model_module": "@jupyter-widgets/output",
       "_model_module_version": "1.0.0",
       "_model_name": "OutputModel",
       "_view_count": null,
       "_view_module": "@jupyter-widgets/output",
       "_view_module_version": "1.0.0",
       "_view_name": "OutputView",
       "layout": "IPY_MODEL_0d611f5b22e544e29fc20ae4144f4389",
       "msg_id": "",
       "outputs": [
        {
         "data": {
          "text/markdown": "`state_prep_via_rotation_symb`",
          "text/plain": "<IPython.core.display.Markdown object>"
         },
         "metadata": {},
         "output_type": "display_data"
        },
        {
         "data": {
          "image/svg+xml": "<svg xmlns=\"http://www.w3.org/2000/svg\" xmlns:xlink=\"http://www.w3.org/1999/xlink\" width=\"405pt\" height=\"98pt\" viewBox=\"0.00 0.00 405.00 98.00\">\n<g id=\"graph0\" class=\"graph\" transform=\"scale(1 1) rotate(0) translate(4 94)\">\n<title>my_graph</title>\n<polygon fill=\"white\" stroke=\"transparent\" points=\"-4,4 -4,-94 401,-94 401,4 -4,4\"/>\n<!-- target_state_G0 -->\n<g id=\"node1\" class=\"node\">\n<title>target_state_G0</title>\n<text text-anchor=\"middle\" x=\"49\" y=\"-68.3\" font-family=\"Times,serif\" font-size=\"14.00\">target_state</text>\n</g>\n<!-- StatePreparationViaRotations -->\n<g id=\"node3\" class=\"node\">\n<title>StatePreparationViaRotations</title>\n<polygon fill=\"none\" stroke=\"black\" points=\"135.5,-66 135.5,-83 262.5,-83 262.5,-66 135.5,-66\"/>\n<text text-anchor=\"start\" x=\"138.5\" y=\"-72\" font-family=\"Times,serif\" font-size=\"10.00\">StatePreparationViaRotations</text>\n<polygon fill=\"none\" stroke=\"black\" points=\"135.5,-45 135.5,-66 262.5,-66 262.5,-45 135.5,-45\"/>\n<text text-anchor=\"start\" x=\"167.5\" y=\"-51.8\" font-family=\"Times,serif\" font-size=\"14.00\">target_state</text>\n<polygon fill=\"none\" stroke=\"black\" points=\"135.5,-24 135.5,-45 262.5,-45 262.5,-24 135.5,-24\"/>\n<text text-anchor=\"start\" x=\"158\" y=\"-30.8\" font-family=\"Times,serif\" font-size=\"14.00\">phase_gradient</text>\n</g>\n<!-- target_state_G0&#45;&gt;StatePreparationViaRotations -->\n<g id=\"edge1\" class=\"edge\">\n<title>target_state_G0:e-&gt;StatePreparationViaRotations:w</title>\n<path fill=\"none\" stroke=\"black\" d=\"M90,-72C110.4,-72 113.55,-57.23 132.6,-56.07\"/>\n<ellipse fill=\"black\" stroke=\"black\" cx=\"134\" cy=\"-56.03\" rx=\"1\" ry=\"1\"/>\n<text text-anchor=\"middle\" x=\"116.5\" y=\"-64\" font-family=\"Times,serif\" font-size=\"10.00\">ceiling(log2(floor(L)))</text>\n</g>\n<!-- phase_gradient_G3 -->\n<g id=\"node2\" class=\"node\">\n<title>phase_gradient_G3</title>\n<text text-anchor=\"middle\" x=\"49\" y=\"-14.3\" font-family=\"Times,serif\" font-size=\"14.00\">phase_gradient</text>\n</g>\n<!-- phase_gradient_G3&#45;&gt;StatePreparationViaRotations -->\n<g id=\"edge2\" class=\"edge\">\n<title>phase_gradient_G3:e-&gt;StatePreparationViaRotations:w</title>\n<path fill=\"none\" stroke=\"black\" d=\"M98,-18C115.22,-18 116.97,-32.77 132.98,-33.93\"/>\n<ellipse fill=\"black\" stroke=\"black\" cx=\"134\" cy=\"-33.96\" rx=\"1\" ry=\"1\"/>\n<text text-anchor=\"middle\" x=\"116.5\" y=\"-29\" font-family=\"Times,serif\" font-size=\"10.00\">text{phase_bitsize}</text>\n</g>\n<!-- target_state_G1 -->\n<g id=\"node4\" class=\"node\">\n<title>target_state_G1</title>\n<text text-anchor=\"middle\" x=\"348\" y=\"-68.3\" font-family=\"Times,serif\" font-size=\"14.00\">target_state</text>\n</g>\n<!-- StatePreparationViaRotations&#45;&gt;target_state_G1 -->\n<g id=\"edge3\" class=\"edge\">\n<title>StatePreparationViaRotations:e-&gt;target_state_G1:w</title>\n<path fill=\"none\" stroke=\"black\" d=\"M262,-56C282.4,-56 285.55,-70.77 304.6,-71.93\"/>\n<ellipse fill=\"black\" stroke=\"black\" cx=\"306\" cy=\"-71.97\" rx=\"1\" ry=\"1\"/>\n<text text-anchor=\"middle\" x=\"280.5\" y=\"-64\" font-family=\"Times,serif\" font-size=\"10.00\">ceiling(log2(floor(L)))</text>\n</g>\n<!-- phase_gradient_G4 -->\n<g id=\"node5\" class=\"node\">\n<title>phase_gradient_G4</title>\n<text text-anchor=\"middle\" x=\"348\" y=\"-14.3\" font-family=\"Times,serif\" font-size=\"14.00\">phase_gradient</text>\n</g>\n<!-- StatePreparationViaRotations&#45;&gt;phase_gradient_G4 -->\n<g id=\"edge4\" class=\"edge\">\n<title>StatePreparationViaRotations:e-&gt;phase_gradient_G4:w</title>\n<path fill=\"none\" stroke=\"black\" d=\"M262,-34C279.22,-34 280.97,-19.23 296.98,-18.07\"/>\n<ellipse fill=\"black\" stroke=\"black\" cx=\"298\" cy=\"-18.04\" rx=\"1\" ry=\"1\"/>\n<text text-anchor=\"middle\" x=\"280.5\" y=\"-29\" font-family=\"Times,serif\" font-size=\"10.00\">text{phase_bitsize}</text>\n</g>\n</g>\n</svg>",
          "text/plain": "<IPython.core.display.SVG object>"
         },
         "metadata": {},
         "output_type": "display_data"
        }
       ],
       "tabbable": null,
       "tooltip": null
      }
     },
     "ada636332afa49138c751cab9359eecb": {
      "model_module": "@jupyter-widgets/base",
      "model_module_version": "2.0.0",
      "model_name": "LayoutModel",
      "state": {
       "_model_module": "@jupyter-widgets/base",
       "_model_module_version": "2.0.0",
       "_model_name": "LayoutModel",
       "_view_count": null,
       "_view_module": "@jupyter-widgets/base",
       "_view_module_version": "2.0.0",
       "_view_name": "LayoutView",
       "align_content": null,
       "align_items": null,
       "align_self": null,
       "border_bottom": null,
       "border_left": null,
       "border_right": null,
       "border_top": null,
       "bottom": null,
       "display": null,
       "flex": null,
       "flex_flow": null,
       "grid_area": null,
       "grid_auto_columns": null,
       "grid_auto_flow": null,
       "grid_auto_rows": null,
       "grid_column": null,
       "grid_gap": null,
       "grid_row": null,
       "grid_template_areas": null,
       "grid_template_columns": null,
       "grid_template_rows": null,
       "height": null,
       "justify_content": null,
       "justify_items": null,
       "left": null,
       "margin": null,
       "max_height": null,
       "max_width": null,
       "min_height": null,
       "min_width": null,
       "object_fit": null,
       "object_position": null,
       "order": null,
       "overflow": null,
       "padding": null,
       "right": null,
       "top": null,
       "visibility": null,
       "width": null
      }
     }
    },
    "version_major": 2,
    "version_minor": 0
   }
  }
 },
 "nbformat": 4,
 "nbformat_minor": 5
}
