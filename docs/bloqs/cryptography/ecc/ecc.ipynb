{
 "cells": [
  {
   "cell_type": "markdown",
   "id": "ed4630ba",
   "metadata": {
    "cq.autogen": "title_cell"
   },
   "source": [
    "# Elliptic Curve Cryptography\n",
    "\n",
    "Bloqs for breaking elliptic curve cryptography systems via the discrete log.\n",
    "\n",
    "Elliptic curve cryptography is a form of public key cryptography based on the finite\n",
    "field of elliptic curves. For our purposes, we will denote the group operation as addition\n",
    "(whose definition we will explore later) $A + B$. We will denote repeated addition\n",
    " as $[k] A = A + \\dots + A$ ($k$ times).\n",
    "\n",
    "Within this algebra, the cryptographic scheme relates the public and private keys via\n",
    "$$\n",
    "Q = [k] P\n",
    "$$\n",
    "for private key $k$, public key $Q$, and a choice of base point $P$. The cryptographic\n",
    "security comes from the difficulty of inverting the multiplication. I.e. it is difficult\n",
    "to do a discrete logarithm in this field.\n",
    "\n",
    "Using Shor's algorithm for the discrete logarithm, we can find $k$ in polynomial time\n",
    "with a quantum algorithm."
   ]
  },
  {
   "cell_type": "code",
   "execution_count": 1,
   "id": "82580882",
   "metadata": {
    "cq.autogen": "top_imports"
   },
   "outputs": [],
   "source": [
    "from qualtran import Bloq, CompositeBloq, BloqBuilder, Signature, Register\n",
    "from qualtran import QBit, QInt, QUInt, QAny\n",
    "from qualtran.drawing import show_bloq, show_call_graph, show_counts_sigma\n",
    "from typing import *\n",
    "import numpy as np\n",
    "import sympy\n",
    "import cirq"
   ]
  },
  {
   "cell_type": "markdown",
   "id": "60163c9f",
   "metadata": {
    "cq.autogen": "FindECCPrivateKey.bloq_doc.md"
   },
   "source": [
    "## `FindECCPrivateKey`\n",
    "Perform two phase estimations to break elliptic curve cryptography.\n",
    "\n",
    "This follows the strategy in Litinski 2023. We perform two phase estimations corresponding\n",
    "to `ECCAddR(R=P)` and `ECCAddR(R=Q)` for base point $P$ and public key $Q$.\n",
    "\n",
    "The first phase estimation projects us into a random eigenstate of the ECCAddR(R=P) operator\n",
    "which we index by the integer $c$. Per eq. 5 in the reference, these eigenstates take the form\n",
    "$$\n",
    "|\\psi_c \\rangle = \\sum_j^{r-1} \\omega^{cj}\\ | [j]P \\rangle  \\\\\n",
    "\\omega = e^{2\\pi i / r} \\\\\n",
    "[r] P = P\n",
    "$$\n",
    "\n",
    "This state is a simultaneous eigenstate of the second operator, `ECCAddR(R=Q)`. By\n",
    "the definition of the operator, acting it upon $|\\psi_c\\rangle$ gives:\n",
    "$$\n",
    "|\\psi_c \\rangle \\rightarrow \\sum_j w^{cj} | [j]P + Q \\rangle\\rangle\n",
    "$$\n",
    "\n",
    "The private key $k$ that we wish to recover relates the public key to the base point\n",
    "$$\n",
    "Q = [k] P\n",
    "$$\n",
    "so our simultaneous eigenstate can be equivalently written as\n",
    "$$\n",
    "\\sum_j^{r-1} \\omega^{cj} | [j+k] P \\rangle \\\\\n",
    "= \\omega^{-ck} |\\psi_c \\rangle\n",
    "$$\n",
    "\n",
    "Therefore, the measured result of the second phase estimation is $ck$. Since we have\n",
    "already measured the random index $c$, we can divide it out to recover the private key $k$.\n",
    "\n",
    "#### Parameters\n",
    " - `n`: The bitsize of the elliptic curve points' x and y registers.\n",
    " - `base_point`: The base point $P$ with unknown order $r$ such that $P = [r] P$.\n",
    " - `public_key`: The public key $Q$ such that $Q = [k] P$ for private key $k$.\n",
    " - `add_window_size`: The number of bits in the ECAdd window.\n",
    " - `mul_window_size`: The number of bits in the modular multiplication window. \n",
    "\n",
    "#### References\n",
    " - [How to compute a 256-bit elliptic curve private key with only 50 million Toffoli gates](https://arxiv.org/abs/2306.08585). Litinski. 2023. Figure 4 (a).\n"
   ]
  },
  {
   "cell_type": "code",
   "execution_count": 2,
   "id": "92003a1f",
   "metadata": {
    "cq.autogen": "FindECCPrivateKey.bloq_doc.py"
   },
   "outputs": [],
   "source": [
    "from qualtran.bloqs.cryptography.ecc import FindECCPrivateKey"
   ]
  },
  {
   "cell_type": "code",
   "execution_count": 3,
   "id": "6cb48b0a-44c8-40e5-ba1e-d0b3a0745046",
   "metadata": {},
   "outputs": [],
   "source": [
    "from qualtran.bloqs.cryptography.ecc import ECPoint"
   ]
  },
  {
   "cell_type": "markdown",
   "id": "e7c573eb",
   "metadata": {
    "cq.autogen": "FindECCPrivateKey.example_instances.md"
   },
   "source": [
    "### Example Instances"
   ]
  },
  {
   "cell_type": "code",
   "execution_count": 4,
   "id": "51f1d2bf",
   "metadata": {
    "cq.autogen": "FindECCPrivateKey.ecc"
   },
   "outputs": [],
   "source": [
    "n, p = sympy.symbols('n p')\n",
    "Px, Py, Qx, Qy = sympy.symbols('P_x P_y Q_x Q_y')\n",
    "P = ECPoint(Px, Py, mod=p)\n",
    "Q = ECPoint(Qx, Qy, mod=p)\n",
    "ecc = FindECCPrivateKey(n=n, base_point=P, public_key=Q)"
   ]
  },
  {
   "cell_type": "markdown",
   "id": "921c0ce8",
   "metadata": {
    "cq.autogen": "FindECCPrivateKey.graphical_signature.md"
   },
   "source": [
    "#### Graphical Signature"
   ]
  },
  {
   "cell_type": "code",
   "execution_count": 5,
   "id": "d231c54e",
   "metadata": {
    "cq.autogen": "FindECCPrivateKey.graphical_signature.py"
   },
   "outputs": [
    {
     "data": {
      "application/vnd.jupyter.widget-view+json": {
       "model_id": "1cc52dd232454217abafffb38eb6ed59",
       "version_major": 2,
       "version_minor": 0
      },
      "text/plain": [
       "HBox(children=(Output(outputs=({'output_type': 'display_data', 'data': {'text/plain': '<IPython.core.display.M…"
      ]
     },
     "metadata": {},
     "output_type": "display_data"
    }
   ],
   "source": [
    "from qualtran.drawing import show_bloqs\n",
    "show_bloqs([ecc],\n",
    "           ['`ecc`'])"
   ]
  },
  {
   "cell_type": "markdown",
   "id": "73f68a55",
   "metadata": {
    "cq.autogen": "FindECCPrivateKey.call_graph.md"
   },
   "source": [
    "### Call Graph"
   ]
  },
  {
   "cell_type": "code",
   "execution_count": 6,
   "id": "ff6e72fa",
   "metadata": {
    "cq.autogen": "FindECCPrivateKey.call_graph.py"
   },
   "outputs": [
    {
     "data": {
      "image/svg+xml": [
       "<svg xmlns=\"http://www.w3.org/2000/svg\" xmlns:xlink=\"http://www.w3.org/1999/xlink\" width=\"122pt\" height=\"131pt\" viewBox=\"0.00 0.00 122.00 131.00\">\n",
       "<g id=\"graph0\" class=\"graph\" transform=\"scale(1 1) rotate(0) translate(4 127)\">\n",
       "<title>counts</title>\n",
       "<polygon fill=\"white\" stroke=\"transparent\" points=\"-4,4 -4,-127 118,-127 118,4 -4,4\"/>\n",
       "<!-- b0 -->\n",
       "<g id=\"node1\" class=\"node\">\n",
       "<title>b0</title>\n",
       "<polygon fill=\"none\" stroke=\"black\" points=\"8,-93 8,-116 106,-116 106,-93 8,-93\"/>\n",
       "<text text-anchor=\"start\" x=\"14.5\" y=\"-102\" font-family=\"Times,serif\" font-size=\"10.00\">FindECCPrivateKey</text>\n",
       "</g>\n",
       "<!-- b1 -->\n",
       "<g id=\"node2\" class=\"node\">\n",
       "<title>b1</title>\n",
       "<polygon fill=\"none\" stroke=\"black\" points=\"12,-6 12,-29 102,-29 102,-6 12,-6\"/>\n",
       "<text text-anchor=\"start\" x=\"18.5\" y=\"-15\" font-family=\"Times,serif\" font-size=\"10.00\">PE$(_Rx0, _Ry0)$</text>\n",
       "</g>\n",
       "<!-- b0&#45;&gt;b1 -->\n",
       "<g id=\"edge1\" class=\"edge\">\n",
       "<title>b0-&gt;b1</title>\n",
       "<path fill=\"none\" stroke=\"black\" d=\"M57,-86.8C57,-75.16 57,-59.55 57,-46.24\"/>\n",
       "<polygon fill=\"black\" stroke=\"black\" points=\"60.5,-46.18 57,-36.18 53.5,-46.18 60.5,-46.18\"/>\n",
       "<text text-anchor=\"middle\" x=\"60.5\" y=\"-57.8\" font-family=\"Times,serif\" font-size=\"14.00\">2</text>\n",
       "</g>\n",
       "</g>\n",
       "</svg>"
      ],
      "text/plain": [
       "<IPython.core.display.SVG object>"
      ]
     },
     "metadata": {},
     "output_type": "display_data"
    },
    {
     "data": {
      "text/markdown": [
       "#### Counts totals:\n",
       " - `PE$(_Rx0, _Ry0)$`: 2"
      ],
      "text/plain": [
       "<IPython.core.display.Markdown object>"
      ]
     },
     "metadata": {},
     "output_type": "display_data"
    }
   ],
   "source": [
    "from qualtran.resource_counting.generalizers import ignore_split_join\n",
    "ecc_g, ecc_sigma = ecc.call_graph(max_depth=1, generalizer=ignore_split_join)\n",
    "show_call_graph(ecc_g)\n",
    "show_counts_sigma(ecc_sigma)"
   ]
  },
  {
   "cell_type": "code",
   "execution_count": 7,
   "id": "510c3f43-5a16-4113-95e4-74e4c1618a68",
   "metadata": {},
   "outputs": [
    {
     "data": {
      "image/svg+xml": [
       "<svg xmlns=\"http://www.w3.org/2000/svg\" xmlns:xlink=\"http://www.w3.org/1999/xlink\" width=\"325pt\" height=\"102pt\" viewBox=\"0.00 0.00 325.00 102.00\">\n",
       "<g id=\"graph0\" class=\"graph\" transform=\"scale(1 1) rotate(0) translate(4 98)\">\n",
       "<title>my_graph</title>\n",
       "<polygon fill=\"white\" stroke=\"transparent\" points=\"-4,4 -4,-98 321,-98 321,4 -4,4\"/>\n",
       "<!-- ECPhaseEstimateR -->\n",
       "<g id=\"node1\" class=\"node\">\n",
       "<title>ECPhaseEstimateR</title>\n",
       "<polygon fill=\"none\" stroke=\"black\" points=\"175.5,-59 175.5,-76 250.5,-76 250.5,-59 175.5,-59\"/>\n",
       "<text text-anchor=\"start\" x=\"178.5\" y=\"-65\" font-family=\"Times,serif\" font-size=\"10.00\">PE$(Q_x, Q_y)$</text>\n",
       "<polygon fill=\"none\" stroke=\"black\" points=\"175.5,-38 175.5,-59 250.5,-59 250.5,-38 175.5,-38\"/>\n",
       "<text text-anchor=\"start\" x=\"209.5\" y=\"-44.8\" font-family=\"Times,serif\" font-size=\"14.00\">x</text>\n",
       "<polygon fill=\"none\" stroke=\"black\" points=\"175.5,-17 175.5,-38 250.5,-38 250.5,-17 175.5,-17\"/>\n",
       "<text text-anchor=\"start\" x=\"209.5\" y=\"-23.8\" font-family=\"Times,serif\" font-size=\"14.00\">y</text>\n",
       "</g>\n",
       "<!-- Free -->\n",
       "<g id=\"node3\" class=\"node\">\n",
       "<title>Free</title>\n",
       "<polygon fill=\"none\" stroke=\"black\" points=\"287,-21 287,-38 317,-38 317,-21 287,-21\"/>\n",
       "<text text-anchor=\"start\" x=\"293\" y=\"-27\" font-family=\"Times,serif\" font-size=\"10.00\">Free</text>\n",
       "<polygon fill=\"none\" stroke=\"black\" points=\"287,0 287,-21 311,-21 311,0 287,0\"/>\n",
       "<text text-anchor=\"start\" x=\"290\" y=\"-6.8\" font-family=\"Times,serif\" font-size=\"14.00\">reg</text>\n",
       "<polygon fill=\"none\" stroke=\"black\" points=\"311,0 311,-21 317,-21 317,0 311,0\"/>\n",
       "</g>\n",
       "<!-- ECPhaseEstimateR&#45;&gt;Free -->\n",
       "<g id=\"edge6\" class=\"edge\">\n",
       "<title>ECPhaseEstimateR:e-&gt;Free:w</title>\n",
       "<path fill=\"none\" stroke=\"black\" d=\"M250,-27C267.39,-27 268.81,-11.3 284.96,-10.08\"/>\n",
       "<ellipse fill=\"black\" stroke=\"black\" cx=\"286\" cy=\"-10.04\" rx=\"1\" ry=\"1\"/>\n",
       "<text text-anchor=\"middle\" x=\"268.5\" y=\"-21\" font-family=\"Times,serif\" font-size=\"10.00\">n</text>\n",
       "</g>\n",
       "<!-- Free_G3 -->\n",
       "<g id=\"node5\" class=\"node\">\n",
       "<title>Free_G3</title>\n",
       "<polygon fill=\"none\" stroke=\"black\" points=\"287,-77 287,-94 317,-94 317,-77 287,-77\"/>\n",
       "<text text-anchor=\"start\" x=\"293\" y=\"-83\" font-family=\"Times,serif\" font-size=\"10.00\">Free</text>\n",
       "<polygon fill=\"none\" stroke=\"black\" points=\"287,-56 287,-77 311,-77 311,-56 287,-56\"/>\n",
       "<text text-anchor=\"start\" x=\"290\" y=\"-62.8\" font-family=\"Times,serif\" font-size=\"14.00\">reg</text>\n",
       "<polygon fill=\"none\" stroke=\"black\" points=\"311,-56 311,-77 317,-77 317,-56 311,-56\"/>\n",
       "</g>\n",
       "<!-- ECPhaseEstimateR&#45;&gt;Free_G3 -->\n",
       "<g id=\"edge5\" class=\"edge\">\n",
       "<title>ECPhaseEstimateR:e-&gt;Free_G3:w</title>\n",
       "<path fill=\"none\" stroke=\"black\" d=\"M250,-49C267.39,-49 268.81,-64.7 284.96,-65.92\"/>\n",
       "<ellipse fill=\"black\" stroke=\"black\" cx=\"286\" cy=\"-65.96\" rx=\"1\" ry=\"1\"/>\n",
       "<text text-anchor=\"middle\" x=\"268.5\" y=\"-60\" font-family=\"Times,serif\" font-size=\"10.00\">n</text>\n",
       "</g>\n",
       "<!-- ECPhaseEstimateR_G0 -->\n",
       "<g id=\"node2\" class=\"node\">\n",
       "<title>ECPhaseEstimateR_G0</title>\n",
       "<polygon fill=\"none\" stroke=\"black\" points=\"68,-59 68,-76 138,-76 138,-59 68,-59\"/>\n",
       "<text text-anchor=\"start\" x=\"71\" y=\"-65\" font-family=\"Times,serif\" font-size=\"10.00\">PE$(P_x, P_y)$</text>\n",
       "<polygon fill=\"none\" stroke=\"black\" points=\"68,-38 68,-59 138,-59 138,-38 68,-38\"/>\n",
       "<text text-anchor=\"start\" x=\"99.5\" y=\"-44.8\" font-family=\"Times,serif\" font-size=\"14.00\">x</text>\n",
       "<polygon fill=\"none\" stroke=\"black\" points=\"68,-17 68,-38 138,-38 138,-17 68,-17\"/>\n",
       "<text text-anchor=\"start\" x=\"99.5\" y=\"-23.8\" font-family=\"Times,serif\" font-size=\"14.00\">y</text>\n",
       "</g>\n",
       "<!-- ECPhaseEstimateR_G0&#45;&gt;ECPhaseEstimateR -->\n",
       "<g id=\"edge3\" class=\"edge\">\n",
       "<title>ECPhaseEstimateR_G0:e-&gt;ECPhaseEstimateR:w</title>\n",
       "<path fill=\"none\" stroke=\"black\" d=\"M138,-49C153.67,-49 158.14,-49 172.77,-49\"/>\n",
       "<ellipse fill=\"black\" stroke=\"black\" cx=\"174\" cy=\"-49\" rx=\"1\" ry=\"1\"/>\n",
       "<text text-anchor=\"middle\" x=\"156.5\" y=\"-52\" font-family=\"Times,serif\" font-size=\"10.00\">n</text>\n",
       "</g>\n",
       "<!-- ECPhaseEstimateR_G0&#45;&gt;ECPhaseEstimateR -->\n",
       "<g id=\"edge4\" class=\"edge\">\n",
       "<title>ECPhaseEstimateR_G0:e-&gt;ECPhaseEstimateR:w</title>\n",
       "<path fill=\"none\" stroke=\"black\" d=\"M138,-27C153.67,-27 158.14,-27 172.77,-27\"/>\n",
       "<ellipse fill=\"black\" stroke=\"black\" cx=\"174\" cy=\"-27\" rx=\"1\" ry=\"1\"/>\n",
       "<text text-anchor=\"middle\" x=\"156.5\" y=\"-30\" font-family=\"Times,serif\" font-size=\"10.00\">n</text>\n",
       "</g>\n",
       "<!-- IntState -->\n",
       "<g id=\"node4\" class=\"node\">\n",
       "<title>IntState</title>\n",
       "<polygon fill=\"none\" stroke=\"black\" points=\"0.5,-77 0.5,-94 31.5,-94 31.5,-77 0.5,-77\"/>\n",
       "<text text-anchor=\"start\" x=\"3.5\" y=\"-83\" font-family=\"Times,serif\" font-size=\"10.00\">|P_x&gt;</text>\n",
       "<polygon fill=\"none\" stroke=\"black\" points=\"0.5,-56 0.5,-77 7.5,-77 7.5,-56 0.5,-56\"/>\n",
       "<polygon fill=\"none\" stroke=\"black\" points=\"7.5,-56 7.5,-77 31.5,-77 31.5,-56 7.5,-56\"/>\n",
       "<text text-anchor=\"start\" x=\"11\" y=\"-62.8\" font-family=\"Times,serif\" font-size=\"14.00\">val</text>\n",
       "</g>\n",
       "<!-- IntState&#45;&gt;ECPhaseEstimateR_G0 -->\n",
       "<g id=\"edge1\" class=\"edge\">\n",
       "<title>IntState:e-&gt;ECPhaseEstimateR_G0:w</title>\n",
       "<path fill=\"none\" stroke=\"black\" d=\"M31,-66C48.39,-66 49.81,-50.3 65.96,-49.08\"/>\n",
       "<ellipse fill=\"black\" stroke=\"black\" cx=\"67\" cy=\"-49.04\" rx=\"1\" ry=\"1\"/>\n",
       "<text text-anchor=\"middle\" x=\"49.5\" y=\"-60\" font-family=\"Times,serif\" font-size=\"10.00\">n</text>\n",
       "</g>\n",
       "<!-- IntState_G5 -->\n",
       "<g id=\"node6\" class=\"node\">\n",
       "<title>IntState_G5</title>\n",
       "<polygon fill=\"none\" stroke=\"black\" points=\"0.5,-21 0.5,-38 31.5,-38 31.5,-21 0.5,-21\"/>\n",
       "<text text-anchor=\"start\" x=\"3.5\" y=\"-27\" font-family=\"Times,serif\" font-size=\"10.00\">|P_y&gt;</text>\n",
       "<polygon fill=\"none\" stroke=\"black\" points=\"0.5,0 0.5,-21 7.5,-21 7.5,0 0.5,0\"/>\n",
       "<polygon fill=\"none\" stroke=\"black\" points=\"7.5,0 7.5,-21 31.5,-21 31.5,0 7.5,0\"/>\n",
       "<text text-anchor=\"start\" x=\"11\" y=\"-6.8\" font-family=\"Times,serif\" font-size=\"14.00\">val</text>\n",
       "</g>\n",
       "<!-- IntState_G5&#45;&gt;ECPhaseEstimateR_G0 -->\n",
       "<g id=\"edge2\" class=\"edge\">\n",
       "<title>IntState_G5:e-&gt;ECPhaseEstimateR_G0:w</title>\n",
       "<path fill=\"none\" stroke=\"black\" d=\"M31,-10C48.39,-10 49.81,-25.7 65.96,-26.92\"/>\n",
       "<ellipse fill=\"black\" stroke=\"black\" cx=\"67\" cy=\"-26.96\" rx=\"1\" ry=\"1\"/>\n",
       "<text text-anchor=\"middle\" x=\"49.5\" y=\"-21\" font-family=\"Times,serif\" font-size=\"10.00\">n</text>\n",
       "</g>\n",
       "</g>\n",
       "</svg>"
      ],
      "text/plain": [
       "<IPython.core.display.SVG object>"
      ]
     },
     "metadata": {},
     "output_type": "display_data"
    }
   ],
   "source": [
    "show_bloq(ecc.decompose_bloq())"
   ]
  },
  {
   "cell_type": "markdown",
   "id": "fff25268",
   "metadata": {
    "cq.autogen": "ECPhaseEstimateR.bloq_doc.md"
   },
   "source": [
    "## `ECPhaseEstimateR`\n",
    "Perform a single phase estimation of ECAddR for a given point.\n",
    "\n",
    "This is used as a subroutine in `FindECCPrivateKey`. First, we phase-estimate the\n",
    "addition of the base point $P$, then of the public key $Q$.\n",
    "\n",
    "When the ellptic curve point addition window size is 1 we use the ECAddR bloq which has it's\n",
    "own bespoke circuit; when it is greater than 1 we use the windowed circuit which uses\n",
    "pre-computed classical additions loaded into the circuit.\n",
    "\n",
    "#### Parameters\n",
    " - `n`: The bitsize of the elliptic curve points' x and y registers.\n",
    " - `point`: The elliptic curve point to phase estimate against.\n",
    " - `add_window_size`: The number of bits in the ECAdd window.\n",
    " - `mul_window_size`: The number of bits in the modular multiplication window.\n"
   ]
  },
  {
   "cell_type": "code",
   "execution_count": 8,
   "id": "5220a4ad",
   "metadata": {
    "cq.autogen": "ECPhaseEstimateR.bloq_doc.py"
   },
   "outputs": [],
   "source": [
    "from qualtran.bloqs.cryptography.ecc import ECPhaseEstimateR"
   ]
  },
  {
   "cell_type": "markdown",
   "id": "f3421d38",
   "metadata": {
    "cq.autogen": "ECPhaseEstimateR.example_instances.md"
   },
   "source": [
    "### Example Instances"
   ]
  },
  {
   "cell_type": "code",
   "execution_count": 9,
   "id": "17642453",
   "metadata": {
    "cq.autogen": "ECPhaseEstimateR.ec_pe"
   },
   "outputs": [],
   "source": [
    "n, p = sympy.symbols('n p')\n",
    "Rx, Ry = sympy.symbols('R_x R_y')\n",
    "ec_pe = ECPhaseEstimateR(n=n, point=ECPoint(Rx, Ry, mod=p))"
   ]
  },
  {
   "cell_type": "code",
   "execution_count": 10,
   "id": "4616d33a",
   "metadata": {
    "cq.autogen": "ECPhaseEstimateR.ec_pe_small"
   },
   "outputs": [],
   "source": [
    "n = 3\n",
    "Rx, Ry, p = sympy.symbols('R_x R_y p')\n",
    "ec_pe_small = ECPhaseEstimateR(n=n, point=ECPoint(Rx, Ry, mod=p))"
   ]
  },
  {
   "cell_type": "markdown",
   "id": "33824ce4",
   "metadata": {
    "cq.autogen": "ECPhaseEstimateR.graphical_signature.md"
   },
   "source": [
    "#### Graphical Signature"
   ]
  },
  {
   "cell_type": "code",
   "execution_count": 11,
   "id": "528b7d0e",
   "metadata": {
    "cq.autogen": "ECPhaseEstimateR.graphical_signature.py"
   },
   "outputs": [
    {
     "data": {
      "application/vnd.jupyter.widget-view+json": {
       "model_id": "8df2c5520d5c4107938a7c8254770c55",
       "version_major": 2,
       "version_minor": 0
      },
      "text/plain": [
       "HBox(children=(Output(outputs=({'output_type': 'display_data', 'data': {'text/plain': '<IPython.core.display.M…"
      ]
     },
     "metadata": {},
     "output_type": "display_data"
    }
   ],
   "source": [
    "from qualtran.drawing import show_bloqs\n",
    "show_bloqs([ec_pe, ec_pe_small],\n",
    "           ['`ec_pe`', '`ec_pe_small`'])"
   ]
  },
  {
   "cell_type": "markdown",
   "id": "38b665f4",
   "metadata": {
    "cq.autogen": "ECPhaseEstimateR.call_graph.md"
   },
   "source": [
    "### Call Graph"
   ]
  },
  {
   "cell_type": "code",
   "execution_count": 12,
   "id": "9ce3d4df",
   "metadata": {
    "cq.autogen": "ECPhaseEstimateR.call_graph.py"
   },
   "outputs": [
    {
     "data": {
      "image/svg+xml": [
       "<svg xmlns=\"http://www.w3.org/2000/svg\" xmlns:xlink=\"http://www.w3.org/1999/xlink\" width=\"174pt\" height=\"131pt\" viewBox=\"0.00 0.00 174.00 131.00\">\n",
       "<g id=\"graph0\" class=\"graph\" transform=\"scale(1 1) rotate(0) translate(4 127)\">\n",
       "<title>counts</title>\n",
       "<polygon fill=\"white\" stroke=\"transparent\" points=\"-4,4 -4,-127 170,-127 170,4 -4,4\"/>\n",
       "<!-- b0 -->\n",
       "<g id=\"node1\" class=\"node\">\n",
       "<title>b0</title>\n",
       "<polygon fill=\"none\" stroke=\"black\" points=\"39,-93 39,-116 119,-116 119,-93 39,-93\"/>\n",
       "<text text-anchor=\"start\" x=\"45.5\" y=\"-102\" font-family=\"Times,serif\" font-size=\"10.00\">PE$(R_x, R_y)$</text>\n",
       "</g>\n",
       "<!-- b1 -->\n",
       "<g id=\"node2\" class=\"node\">\n",
       "<title>b1</title>\n",
       "<polygon fill=\"none\" stroke=\"black\" points=\"8,-6 8,-29 58,-29 58,-6 8,-6\"/>\n",
       "<text text-anchor=\"start\" x=\"14\" y=\"-15\" font-family=\"Times,serif\" font-size=\"10.00\">ECAddR</text>\n",
       "</g>\n",
       "<!-- b0&#45;&gt;b1 -->\n",
       "<g id=\"edge1\" class=\"edge\">\n",
       "<title>b0-&gt;b1</title>\n",
       "<path fill=\"none\" stroke=\"black\" d=\"M69.69,-86.8C63.21,-74.82 54.44,-58.62 47.1,-45.06\"/>\n",
       "<polygon fill=\"black\" stroke=\"black\" points=\"50.13,-43.3 42.29,-36.18 43.98,-46.64 50.13,-43.3\"/>\n",
       "<text text-anchor=\"middle\" x=\"68\" y=\"-57.8\" font-family=\"Times,serif\" font-size=\"14.00\">⌊n⌋</text>\n",
       "</g>\n",
       "<!-- b2 -->\n",
       "<g id=\"node3\" class=\"node\">\n",
       "<title>b2</title>\n",
       "<polygon fill=\"none\" stroke=\"black\" points=\"92,-6 92,-29 158,-29 158,-6 92,-6\"/>\n",
       "<text text-anchor=\"start\" x=\"98\" y=\"-15\" font-family=\"Times,serif\" font-size=\"10.00\">MeasureQFT</text>\n",
       "</g>\n",
       "<!-- b0&#45;&gt;b2 -->\n",
       "<g id=\"edge2\" class=\"edge\">\n",
       "<title>b0-&gt;b2</title>\n",
       "<path fill=\"none\" stroke=\"black\" d=\"M88.31,-86.8C94.79,-74.82 103.56,-58.62 110.9,-45.06\"/>\n",
       "<polygon fill=\"black\" stroke=\"black\" points=\"114.02,-46.64 115.71,-36.18 107.87,-43.3 114.02,-46.64\"/>\n",
       "<text text-anchor=\"middle\" x=\"107.5\" y=\"-57.8\" font-family=\"Times,serif\" font-size=\"14.00\">1</text>\n",
       "</g>\n",
       "</g>\n",
       "</svg>"
      ],
      "text/plain": [
       "<IPython.core.display.SVG object>"
      ]
     },
     "metadata": {},
     "output_type": "display_data"
    },
    {
     "data": {
      "text/markdown": [
       "#### Counts totals:\n",
       " - `ECAddR`: $\\displaystyle \\left\\lfloor{n}\\right\\rfloor$\n",
       " - `MeasureQFT`: 1"
      ],
      "text/plain": [
       "<IPython.core.display.Markdown object>"
      ]
     },
     "metadata": {},
     "output_type": "display_data"
    }
   ],
   "source": [
    "from qualtran.resource_counting.generalizers import ignore_split_join\n",
    "ec_pe_g, ec_pe_sigma = ec_pe.call_graph(max_depth=1, generalizer=ignore_split_join)\n",
    "show_call_graph(ec_pe_g)\n",
    "show_counts_sigma(ec_pe_sigma)"
   ]
  },
  {
   "cell_type": "markdown",
   "id": "fe222fde",
   "metadata": {
    "cq.autogen": "ECAddR.bloq_doc.md"
   },
   "source": [
    "## `ECAddR`\n",
    "Perform elliptic curve addition of constant `R`.\n",
    "\n",
    "Given the constant elliptic curve point $R$ and an input point $A$\n",
    "factored into the `x` and `y` registers such that $|A\\rangle = |(a_x,a_y)\\rangle$,\n",
    "this bloq takes\n",
    "\n",
    "$$\n",
    "|A\\rangle \\rightarrow |A+R\\rangle\n",
    "$$\n",
    "\n",
    "#### Parameters\n",
    " - `n`: The bitsize of the two registers storing the elliptic curve point.\n",
    " - `R`: The elliptic curve point to add. \n",
    "\n",
    "#### Registers\n",
    " - `ctrl`: A control bit.\n",
    " - `x`: The x component of the input elliptic curve point of bitsize `n`.\n",
    " - `y`: The y component of the input elliptic curve point of bitsize `n`. \n",
    "\n",
    "#### References\n",
    " - [How to compute a 256-bit elliptic curve private key with only 50 million Toffoli gates](https://arxiv.org/abs/2306.08585). Litinski. 2023. Section 1, eq. (3) and (4).\n",
    " - [Quantum resource estimates for computing elliptic curve discrete logarithms](https://arxiv.org/abs/1706.06752). Roetteler et al. 2017. Algorithm 1 and Figure 10.\n",
    " - [Microsoft Quantum Crypto (GitHub)](https://github.com/microsoft/QuantumEllipticCurves/blob/dbf4836afaf7a9fab813cbc0970e65af85a6f93a/MicrosoftQuantumCrypto/EllipticCurves.qs#L456). Jaques et al. 2020. `DistinctEllipticCurveClassicalPointAddition`.\n"
   ]
  },
  {
   "cell_type": "code",
   "execution_count": 13,
   "id": "757bfce9",
   "metadata": {
    "cq.autogen": "ECAddR.bloq_doc.py"
   },
   "outputs": [],
   "source": [
    "from qualtran.bloqs.cryptography.ecc import ECAddR"
   ]
  },
  {
   "cell_type": "markdown",
   "id": "999b9be2",
   "metadata": {
    "cq.autogen": "ECAddR.example_instances.md"
   },
   "source": [
    "### Example Instances"
   ]
  },
  {
   "cell_type": "code",
   "execution_count": 14,
   "id": "2336e803",
   "metadata": {
    "cq.autogen": "ECAddR.ec_add_r"
   },
   "outputs": [],
   "source": [
    "n, p, Rx, Ry = sympy.symbols('n p R_x R_y')\n",
    "ec_add_r = ECAddR(n=n, R=ECPoint(Rx, Ry, mod=p))"
   ]
  },
  {
   "cell_type": "code",
   "execution_count": 15,
   "id": "322c447d",
   "metadata": {
    "cq.autogen": "ECAddR.ec_add_r_small"
   },
   "outputs": [],
   "source": [
    "n = 5  # fits our mod = 17\n",
    "P = ECPoint(15, 13, mod=17, curve_a=0)\n",
    "ec_add_r_small = ECAddR(n=n, R=P)"
   ]
  },
  {
   "cell_type": "markdown",
   "id": "abe24e4e",
   "metadata": {
    "cq.autogen": "ECAddR.graphical_signature.md"
   },
   "source": [
    "#### Graphical Signature"
   ]
  },
  {
   "cell_type": "code",
   "execution_count": 16,
   "id": "5422be2d",
   "metadata": {
    "cq.autogen": "ECAddR.graphical_signature.py"
   },
   "outputs": [
    {
     "data": {
      "application/vnd.jupyter.widget-view+json": {
       "model_id": "b05d9f14de2a43c48cf01e87c7f72abe",
       "version_major": 2,
       "version_minor": 0
      },
      "text/plain": [
       "HBox(children=(Output(outputs=({'output_type': 'display_data', 'data': {'text/plain': '<IPython.core.display.M…"
      ]
     },
     "metadata": {},
     "output_type": "display_data"
    }
   ],
   "source": [
    "from qualtran.drawing import show_bloqs\n",
    "show_bloqs([ec_add_r, ec_add_r_small],\n",
    "           ['`ec_add_r`', '`ec_add_r_small`'])"
   ]
  },
  {
   "cell_type": "markdown",
   "id": "c4db715e",
   "metadata": {
    "cq.autogen": "ECAddR.call_graph.md"
   },
   "source": [
    "### Call Graph"
   ]
  },
  {
   "cell_type": "code",
   "execution_count": 17,
   "id": "bd38ad5f",
   "metadata": {
    "cq.autogen": "ECAddR.call_graph.py"
   },
   "outputs": [
    {
     "data": {
      "image/svg+xml": [
       "<svg xmlns=\"http://www.w3.org/2000/svg\" xmlns:xlink=\"http://www.w3.org/1999/xlink\" width=\"74pt\" height=\"44pt\" viewBox=\"0.00 0.00 74.00 44.00\">\n",
       "<g id=\"graph0\" class=\"graph\" transform=\"scale(1 1) rotate(0) translate(4 40)\">\n",
       "<title>counts</title>\n",
       "<polygon fill=\"white\" stroke=\"transparent\" points=\"-4,4 -4,-40 70,-40 70,4 -4,4\"/>\n",
       "<!-- b0 -->\n",
       "<g id=\"node1\" class=\"node\">\n",
       "<title>b0</title>\n",
       "<polygon fill=\"none\" stroke=\"black\" points=\"8,-6 8,-29 58,-29 58,-6 8,-6\"/>\n",
       "<text text-anchor=\"start\" x=\"14\" y=\"-15\" font-family=\"Times,serif\" font-size=\"10.00\">ECAddR</text>\n",
       "</g>\n",
       "</g>\n",
       "</svg>"
      ],
      "text/plain": [
       "<IPython.core.display.SVG object>"
      ]
     },
     "metadata": {},
     "output_type": "display_data"
    },
    {
     "data": {
      "text/markdown": [
       "#### Counts totals:\n",
       " - `ECAddR`: 1"
      ],
      "text/plain": [
       "<IPython.core.display.Markdown object>"
      ]
     },
     "metadata": {},
     "output_type": "display_data"
    }
   ],
   "source": [
    "from qualtran.resource_counting.generalizers import ignore_split_join\n",
    "ec_add_r_g, ec_add_r_sigma = ec_add_r.call_graph(max_depth=1, generalizer=ignore_split_join)\n",
    "show_call_graph(ec_add_r_g)\n",
    "show_counts_sigma(ec_add_r_sigma)"
   ]
  },
  {
   "cell_type": "code",
   "execution_count": 18,
   "id": "35d9dc15-7a16-4aeb-9f1a-a5e7a14461ba",
   "metadata": {},
   "outputs": [
    {
     "name": "stdout",
     "output_type": "stream",
     "text": [
      "+[ 1] P  ->  ( 2, 10)\n",
      "+[ 2] P  ->  ( 8,  3)\n",
      "+[ 3] P  ->  (12,  1)\n",
      "+[ 4] P  ->  ( 6,  6)\n",
      "+[ 5] P  ->  ( 5,  8)\n",
      "+[ 6] P  ->  (10, 15)\n",
      "+[ 7] P  ->  ( 1, 12)\n",
      "+[ 8] P  ->  ( 3,  0)\n",
      "+[ 9] P  ->  ( 1,  5)\n",
      "+[10] P  ->  (10,  2)\n",
      "+[11] P  ->  ( 5,  9)\n",
      "+[12] P  ->  ( 6, 11)\n",
      "+[13] P  ->  (12, 16)\n",
      "+[14] P  ->  ( 8, 14)\n",
      "+[15] P  ->  ( 2,  7)\n",
      "+[16] P  ->  (15,  4)\n",
      "+[17] P  ->  ( 0,  0)\n",
      "+[18] P  ->  (15, 13)\n",
      "+[19] P  ->  ( 2, 10)\n",
      "+[20] P  ->  ( 8,  3)\n"
     ]
    }
   ],
   "source": [
    "for j in range(1, 20+1):\n",
    "    bloq = ECAddR(n=5, R=j*P)\n",
    "    ctrl, x, y = bloq.call_classically(ctrl=1, x=P.x, y=P.y)\n",
    "    print(f'+[{j:2d}] P  ->  ({x:2d}, {y:2d})')"
   ]
  },
  {
   "cell_type": "markdown",
   "id": "72c1ad66",
   "metadata": {
    "cq.autogen": "ECWindowAddR.bloq_doc.md"
   },
   "source": [
    "## `ECWindowAddR`\n",
    "Perform elliptic curve addition of many multiples of constant `R`.\n",
    "\n",
    "This adds R, 2R, ... 2^window_size into the register.\n",
    "\n",
    "#### Parameters\n",
    " - `n`: The bitsize of the two registers storing the elliptic curve point\n",
    " - `R`: The elliptic curve point to add (NOT in montgomery form).\n",
    " - `add_window_size`: The number of bits in the ECAdd window.\n",
    " - `mul_window_size`: The number of bits in the modular multiplication window. \n",
    "\n",
    "#### Registers\n",
    " - `ctrl`: `window_size` control bits.\n",
    " - `x`: The x component of the input elliptic curve point of bitsize `n` in montgomery form.\n",
    " - `y`: The y component of the input elliptic curve point of bitsize `n` in montgomery form. \n",
    "\n",
    "#### References\n",
    " - [How to compute a 256-bit elliptic curve private key with only 50 million Toffoli gates](https://arxiv.org/abs/2306.08585). Litinski. 2013. Section 1, eq. (3) and (4).\n"
   ]
  },
  {
   "cell_type": "code",
   "execution_count": 19,
   "id": "289623e8",
   "metadata": {
    "cq.autogen": "ECWindowAddR.bloq_doc.py"
   },
   "outputs": [],
   "source": [
    "from qualtran.bloqs.cryptography.ecc import ECWindowAddR"
   ]
  },
  {
   "cell_type": "markdown",
   "id": "dd6c7d57",
   "metadata": {
    "cq.autogen": "ECWindowAddR.example_instances.md"
   },
   "source": [
    "### Example Instances"
   ]
  },
  {
   "cell_type": "code",
   "execution_count": 20,
   "id": "2ab0c101",
   "metadata": {
    "cq.autogen": "ECWindowAddR.ec_window_add_r_small"
   },
   "outputs": [],
   "source": [
    "n = 16\n",
    "P = ECPoint(2, 2, mod=7, curve_a=3)\n",
    "ec_window_add_r_small = ECWindowAddR(n=n, R=P, add_window_size=4)"
   ]
  },
  {
   "cell_type": "markdown",
   "id": "dafa7d88",
   "metadata": {
    "cq.autogen": "ECWindowAddR.graphical_signature.md"
   },
   "source": [
    "#### Graphical Signature"
   ]
  },
  {
   "cell_type": "code",
   "execution_count": 21,
   "id": "39be6000",
   "metadata": {
    "cq.autogen": "ECWindowAddR.graphical_signature.py"
   },
   "outputs": [
    {
     "data": {
      "application/vnd.jupyter.widget-view+json": {
       "model_id": "d40d8a9768e14fedaebe0e151f590ed0",
       "version_major": 2,
       "version_minor": 0
      },
      "text/plain": [
       "HBox(children=(Output(outputs=({'output_type': 'display_data', 'data': {'text/plain': '<IPython.core.display.M…"
      ]
     },
     "metadata": {},
     "output_type": "display_data"
    }
   ],
   "source": [
    "from qualtran.drawing import show_bloqs\n",
    "show_bloqs([ec_window_add_r_small],\n",
    "           ['`ec_window_add_r_small`'])"
   ]
  },
  {
   "cell_type": "markdown",
   "id": "a923ec58",
   "metadata": {
    "cq.autogen": "ECWindowAddR.call_graph.md"
   },
   "source": [
    "### Call Graph"
   ]
  },
  {
   "cell_type": "code",
   "execution_count": 22,
   "id": "eea0704c",
   "metadata": {
    "cq.autogen": "ECWindowAddR.call_graph.py"
   },
   "outputs": [
    {
     "data": {
      "image/svg+xml": [
       "<svg xmlns=\"http://www.w3.org/2000/svg\" xmlns:xlink=\"http://www.w3.org/1999/xlink\" width=\"320pt\" height=\"131pt\" viewBox=\"0.00 0.00 320.00 131.00\">\n",
       "<g id=\"graph0\" class=\"graph\" transform=\"scale(1 1) rotate(0) translate(4 127)\">\n",
       "<title>counts</title>\n",
       "<polygon fill=\"white\" stroke=\"transparent\" points=\"-4,4 -4,-127 316,-127 316,4 -4,4\"/>\n",
       "<!-- b0 -->\n",
       "<g id=\"node1\" class=\"node\">\n",
       "<title>b0</title>\n",
       "<polygon fill=\"none\" stroke=\"black\" points=\"97,-93 97,-116 183,-116 183,-93 97,-93\"/>\n",
       "<text text-anchor=\"start\" x=\"103.5\" y=\"-102\" font-family=\"Times,serif\" font-size=\"10.00\">ECWindowAddR</text>\n",
       "</g>\n",
       "<!-- b1 -->\n",
       "<g id=\"node2\" class=\"node\">\n",
       "<title>b1</title>\n",
       "<polygon fill=\"none\" stroke=\"black\" points=\"8,-6 8,-29 84,-29 84,-6 8,-6\"/>\n",
       "<text text-anchor=\"start\" x=\"14.5\" y=\"-15\" font-family=\"Times,serif\" font-size=\"10.00\">QROAMClean</text>\n",
       "</g>\n",
       "<!-- b0&#45;&gt;b1 -->\n",
       "<g id=\"edge1\" class=\"edge\">\n",
       "<title>b0-&gt;b1</title>\n",
       "<path fill=\"none\" stroke=\"black\" d=\"M120.98,-86.8C107.09,-74.24 88.08,-57.05 72.67,-43.12\"/>\n",
       "<polygon fill=\"black\" stroke=\"black\" points=\"74.76,-40.29 64.99,-36.18 70.06,-45.48 74.76,-40.29\"/>\n",
       "<text text-anchor=\"middle\" x=\"102.5\" y=\"-57.8\" font-family=\"Times,serif\" font-size=\"14.00\">1</text>\n",
       "</g>\n",
       "<!-- b2 -->\n",
       "<g id=\"node3\" class=\"node\">\n",
       "<title>b2</title>\n",
       "<polygon fill=\"none\" stroke=\"black\" points=\"118,-6 118,-29 162,-29 162,-6 118,-6\"/>\n",
       "<text text-anchor=\"start\" x=\"124.5\" y=\"-15\" font-family=\"Times,serif\" font-size=\"10.00\">ECAdd</text>\n",
       "</g>\n",
       "<!-- b0&#45;&gt;b2 -->\n",
       "<g id=\"edge2\" class=\"edge\">\n",
       "<title>b0-&gt;b2</title>\n",
       "<path fill=\"none\" stroke=\"black\" d=\"M140,-86.8C140,-75.16 140,-59.55 140,-46.24\"/>\n",
       "<polygon fill=\"black\" stroke=\"black\" points=\"143.5,-46.18 140,-36.18 136.5,-46.18 143.5,-46.18\"/>\n",
       "<text text-anchor=\"middle\" x=\"143.5\" y=\"-57.8\" font-family=\"Times,serif\" font-size=\"14.00\">1</text>\n",
       "</g>\n",
       "<!-- b3 -->\n",
       "<g id=\"node4\" class=\"node\">\n",
       "<title>b3</title>\n",
       "<polygon fill=\"none\" stroke=\"black\" points=\"196,-6 196,-29 304,-29 304,-6 196,-6\"/>\n",
       "<text text-anchor=\"start\" x=\"202.5\" y=\"-15\" font-family=\"Times,serif\" font-size=\"10.00\">QROAMCleanAdjoint</text>\n",
       "</g>\n",
       "<!-- b0&#45;&gt;b3 -->\n",
       "<g id=\"edge3\" class=\"edge\">\n",
       "<title>b0-&gt;b3</title>\n",
       "<path fill=\"none\" stroke=\"black\" d=\"M162.26,-86.8C178.81,-74.01 201.58,-56.42 219.77,-42.36\"/>\n",
       "<polygon fill=\"black\" stroke=\"black\" points=\"222,-45.06 227.77,-36.18 217.72,-39.52 222,-45.06\"/>\n",
       "<text text-anchor=\"middle\" x=\"204.5\" y=\"-57.8\" font-family=\"Times,serif\" font-size=\"14.00\">1</text>\n",
       "</g>\n",
       "</g>\n",
       "</svg>"
      ],
      "text/plain": [
       "<IPython.core.display.SVG object>"
      ]
     },
     "metadata": {},
     "output_type": "display_data"
    },
    {
     "data": {
      "text/markdown": [
       "#### Counts totals:\n",
       " - `ECAdd`: 1\n",
       " - `QROAMCleanAdjoint`: 1\n",
       " - `QROAMClean`: 1"
      ],
      "text/plain": [
       "<IPython.core.display.Markdown object>"
      ]
     },
     "metadata": {},
     "output_type": "display_data"
    }
   ],
   "source": [
    "from qualtran.resource_counting.generalizers import ignore_split_join\n",
    "ec_window_add_r_small_g, ec_window_add_r_small_sigma = ec_window_add_r_small.call_graph(max_depth=1, generalizer=ignore_split_join)\n",
    "show_call_graph(ec_window_add_r_small_g)\n",
    "show_counts_sigma(ec_window_add_r_small_sigma)"
   ]
  }
 ],
 "metadata": {
  "kernelspec": {
   "display_name": "Python 3 (ipykernel)",
   "language": "python",
   "name": "python3"
  },
  "language_info": {
   "codemirror_mode": {
    "name": "ipython",
    "version": 3
   },
   "file_extension": ".py",
   "mimetype": "text/x-python",
   "name": "python",
   "nbconvert_exporter": "python",
   "pygments_lexer": "ipython3",
   "version": "3.11.8"
  },
  "widgets": {
   "application/vnd.jupyter.widget-state+json": {
    "state": {
     "075c4e07a7714f0ead9acb487c447604": {
      "model_module": "@jupyter-widgets/base",
      "model_module_version": "2.0.0",
      "model_name": "LayoutModel",
      "state": {
       "_model_module": "@jupyter-widgets/base",
       "_model_module_version": "2.0.0",
       "_model_name": "LayoutModel",
       "_view_count": null,
       "_view_module": "@jupyter-widgets/base",
       "_view_module_version": "2.0.0",
       "_view_name": "LayoutView",
       "align_content": null,
       "align_items": null,
       "align_self": null,
       "border_bottom": null,
       "border_left": null,
       "border_right": null,
       "border_top": null,
       "bottom": null,
       "display": null,
       "flex": null,
       "flex_flow": null,
       "grid_area": null,
       "grid_auto_columns": null,
       "grid_auto_flow": null,
       "grid_auto_rows": null,
       "grid_column": null,
       "grid_gap": null,
       "grid_row": null,
       "grid_template_areas": null,
       "grid_template_columns": null,
       "grid_template_rows": null,
       "height": null,
       "justify_content": null,
       "justify_items": null,
       "left": null,
       "margin": null,
       "max_height": null,
       "max_width": null,
       "min_height": null,
       "min_width": null,
       "object_fit": null,
       "object_position": null,
       "order": null,
       "overflow": null,
       "padding": null,
       "right": null,
       "top": null,
       "visibility": null,
       "width": null
      }
     },
     "0c795e6d126f4b6780839020ebb81162": {
      "model_module": "@jupyter-widgets/base",
      "model_module_version": "2.0.0",
      "model_name": "LayoutModel",
      "state": {
       "_model_module": "@jupyter-widgets/base",
       "_model_module_version": "2.0.0",
       "_model_name": "LayoutModel",
       "_view_count": null,
       "_view_module": "@jupyter-widgets/base",
       "_view_module_version": "2.0.0",
       "_view_name": "LayoutView",
       "align_content": null,
       "align_items": null,
       "align_self": null,
       "border_bottom": null,
       "border_left": null,
       "border_right": null,
       "border_top": null,
       "bottom": null,
       "display": null,
       "flex": null,
       "flex_flow": null,
       "grid_area": null,
       "grid_auto_columns": null,
       "grid_auto_flow": null,
       "grid_auto_rows": null,
       "grid_column": null,
       "grid_gap": null,
       "grid_row": null,
       "grid_template_areas": null,
       "grid_template_columns": null,
       "grid_template_rows": null,
       "height": null,
       "justify_content": null,
       "justify_items": null,
       "left": null,
       "margin": null,
       "max_height": null,
       "max_width": null,
       "min_height": null,
       "min_width": null,
       "object_fit": null,
       "object_position": null,
       "order": null,
       "overflow": null,
       "padding": null,
       "right": null,
       "top": null,
       "visibility": null,
       "width": null
      }
     },
     "10f33e42e96946489f6ea56a4f02e0c0": {
      "model_module": "@jupyter-widgets/base",
      "model_module_version": "2.0.0",
      "model_name": "LayoutModel",
      "state": {
       "_model_module": "@jupyter-widgets/base",
       "_model_module_version": "2.0.0",
       "_model_name": "LayoutModel",
       "_view_count": null,
       "_view_module": "@jupyter-widgets/base",
       "_view_module_version": "2.0.0",
       "_view_name": "LayoutView",
       "align_content": null,
       "align_items": null,
       "align_self": null,
       "border_bottom": null,
       "border_left": null,
       "border_right": null,
       "border_top": null,
       "bottom": null,
       "display": null,
       "flex": null,
       "flex_flow": null,
       "grid_area": null,
       "grid_auto_columns": null,
       "grid_auto_flow": null,
       "grid_auto_rows": null,
       "grid_column": null,
       "grid_gap": null,
       "grid_row": null,
       "grid_template_areas": null,
       "grid_template_columns": null,
       "grid_template_rows": null,
       "height": null,
       "justify_content": null,
       "justify_items": null,
       "left": null,
       "margin": null,
       "max_height": null,
       "max_width": null,
       "min_height": null,
       "min_width": null,
       "object_fit": null,
       "object_position": null,
       "order": null,
       "overflow": null,
       "padding": null,
       "right": null,
       "top": null,
       "visibility": null,
       "width": null
      }
     },
     "1cc52dd232454217abafffb38eb6ed59": {
      "model_module": "@jupyter-widgets/controls",
      "model_module_version": "2.0.0",
      "model_name": "HBoxModel",
      "state": {
       "_dom_classes": [],
       "_model_module": "@jupyter-widgets/controls",
       "_model_module_version": "2.0.0",
       "_model_name": "HBoxModel",
       "_view_count": null,
       "_view_module": "@jupyter-widgets/controls",
       "_view_module_version": "2.0.0",
       "_view_name": "HBoxView",
       "box_style": "",
       "children": [
        "IPY_MODEL_6f16ef5af58949bdb819dc0ec1644756"
       ],
       "layout": "IPY_MODEL_0c795e6d126f4b6780839020ebb81162",
       "tabbable": null,
       "tooltip": null
      }
     },
     "28d4d999a72841e9ba4dedc023105d29": {
      "model_module": "@jupyter-widgets/base",
      "model_module_version": "2.0.0",
      "model_name": "LayoutModel",
      "state": {
       "_model_module": "@jupyter-widgets/base",
       "_model_module_version": "2.0.0",
       "_model_name": "LayoutModel",
       "_view_count": null,
       "_view_module": "@jupyter-widgets/base",
       "_view_module_version": "2.0.0",
       "_view_name": "LayoutView",
       "align_content": null,
       "align_items": null,
       "align_self": null,
       "border_bottom": null,
       "border_left": null,
       "border_right": null,
       "border_top": null,
       "bottom": null,
       "display": null,
       "flex": null,
       "flex_flow": null,
       "grid_area": null,
       "grid_auto_columns": null,
       "grid_auto_flow": null,
       "grid_auto_rows": null,
       "grid_column": null,
       "grid_gap": null,
       "grid_row": null,
       "grid_template_areas": null,
       "grid_template_columns": null,
       "grid_template_rows": null,
       "height": null,
       "justify_content": null,
       "justify_items": null,
       "left": null,
       "margin": null,
       "max_height": null,
       "max_width": null,
       "min_height": null,
       "min_width": null,
       "object_fit": null,
       "object_position": null,
       "order": null,
       "overflow": null,
       "padding": null,
       "right": null,
       "top": null,
       "visibility": null,
       "width": null
      }
     },
     "63755a4e82d84efa828b62ad90912d35": {
      "model_module": "@jupyter-widgets/output",
      "model_module_version": "1.0.0",
      "model_name": "OutputModel",
      "state": {
       "_dom_classes": [],
       "_model_module": "@jupyter-widgets/output",
       "_model_module_version": "1.0.0",
       "_model_name": "OutputModel",
       "_view_count": null,
       "_view_module": "@jupyter-widgets/output",
       "_view_module_version": "1.0.0",
       "_view_name": "OutputView",
       "layout": "IPY_MODEL_10f33e42e96946489f6ea56a4f02e0c0",
       "msg_id": "",
       "outputs": [
        {
         "data": {
          "text/markdown": "`ec_pe_small`",
          "text/plain": "<IPython.core.display.Markdown object>"
         },
         "metadata": {},
         "output_type": "display_data"
        },
        {
         "data": {
          "image/svg+xml": "<svg xmlns=\"http://www.w3.org/2000/svg\" xmlns:xlink=\"http://www.w3.org/1999/xlink\" width=\"263pt\" height=\"98pt\" viewBox=\"0.00 0.00 263.00 98.00\">\n<g id=\"graph0\" class=\"graph\" transform=\"scale(1 1) rotate(0) translate(4 94)\">\n<title>my_graph</title>\n<polygon fill=\"white\" stroke=\"transparent\" points=\"-4,4 -4,-94 259,-94 259,4 -4,4\"/>\n<!-- x_G4 -->\n<g id=\"node1\" class=\"node\">\n<title>x_G4</title>\n<text text-anchor=\"middle\" x=\"27\" y=\"-68.3\" font-family=\"Times,serif\" font-size=\"14.00\">x</text>\n</g>\n<!-- ECPhaseEstimateR -->\n<g id=\"node3\" class=\"node\">\n<title>ECPhaseEstimateR</title>\n<polygon fill=\"none\" stroke=\"black\" points=\"91.5,-66 91.5,-83 164.5,-83 164.5,-66 91.5,-66\"/>\n<text text-anchor=\"start\" x=\"94.5\" y=\"-72\" font-family=\"Times,serif\" font-size=\"10.00\">PE$(R_x, R_y)$</text>\n<polygon fill=\"none\" stroke=\"black\" points=\"91.5,-45 91.5,-66 164.5,-66 164.5,-45 91.5,-45\"/>\n<text text-anchor=\"start\" x=\"124.5\" y=\"-51.8\" font-family=\"Times,serif\" font-size=\"14.00\">x</text>\n<polygon fill=\"none\" stroke=\"black\" points=\"91.5,-24 91.5,-45 164.5,-45 164.5,-24 91.5,-24\"/>\n<text text-anchor=\"start\" x=\"124.5\" y=\"-30.8\" font-family=\"Times,serif\" font-size=\"14.00\">y</text>\n</g>\n<!-- x_G4&#45;&gt;ECPhaseEstimateR -->\n<g id=\"edge1\" class=\"edge\">\n<title>x_G4:e-&gt;ECPhaseEstimateR:w</title>\n<path fill=\"none\" stroke=\"black\" d=\"M54,-72C71.22,-72 72.97,-57.23 88.98,-56.07\"/>\n<ellipse fill=\"black\" stroke=\"black\" cx=\"90\" cy=\"-56.04\" rx=\"1\" ry=\"1\"/>\n<text text-anchor=\"middle\" x=\"72.5\" y=\"-67\" font-family=\"Times,serif\" font-size=\"10.00\">3</text>\n</g>\n<!-- y_G2 -->\n<g id=\"node2\" class=\"node\">\n<title>y_G2</title>\n<text text-anchor=\"middle\" x=\"27\" y=\"-14.3\" font-family=\"Times,serif\" font-size=\"14.00\">y</text>\n</g>\n<!-- y_G2&#45;&gt;ECPhaseEstimateR -->\n<g id=\"edge2\" class=\"edge\">\n<title>y_G2:e-&gt;ECPhaseEstimateR:w</title>\n<path fill=\"none\" stroke=\"black\" d=\"M54,-18C71.22,-18 72.97,-32.77 88.98,-33.93\"/>\n<ellipse fill=\"black\" stroke=\"black\" cx=\"90\" cy=\"-33.96\" rx=\"1\" ry=\"1\"/>\n<text text-anchor=\"middle\" x=\"72.5\" y=\"-29\" font-family=\"Times,serif\" font-size=\"10.00\">3</text>\n</g>\n<!-- x_G1 -->\n<g id=\"node4\" class=\"node\">\n<title>x_G1</title>\n<text text-anchor=\"middle\" x=\"228\" y=\"-68.3\" font-family=\"Times,serif\" font-size=\"14.00\">x</text>\n</g>\n<!-- ECPhaseEstimateR&#45;&gt;x_G1 -->\n<g id=\"edge3\" class=\"edge\">\n<title>ECPhaseEstimateR:e-&gt;x_G1:w</title>\n<path fill=\"none\" stroke=\"black\" d=\"M164,-56C181.22,-56 182.97,-70.77 198.98,-71.93\"/>\n<ellipse fill=\"black\" stroke=\"black\" cx=\"200\" cy=\"-71.96\" rx=\"1\" ry=\"1\"/>\n<text text-anchor=\"middle\" x=\"182.5\" y=\"-67\" font-family=\"Times,serif\" font-size=\"10.00\">3</text>\n</g>\n<!-- y_G3 -->\n<g id=\"node5\" class=\"node\">\n<title>y_G3</title>\n<text text-anchor=\"middle\" x=\"228\" y=\"-14.3\" font-family=\"Times,serif\" font-size=\"14.00\">y</text>\n</g>\n<!-- ECPhaseEstimateR&#45;&gt;y_G3 -->\n<g id=\"edge4\" class=\"edge\">\n<title>ECPhaseEstimateR:e-&gt;y_G3:w</title>\n<path fill=\"none\" stroke=\"black\" d=\"M164,-34C181.22,-34 182.97,-19.23 198.98,-18.07\"/>\n<ellipse fill=\"black\" stroke=\"black\" cx=\"200\" cy=\"-18.04\" rx=\"1\" ry=\"1\"/>\n<text text-anchor=\"middle\" x=\"182.5\" y=\"-29\" font-family=\"Times,serif\" font-size=\"10.00\">3</text>\n</g>\n</g>\n</svg>",
          "text/plain": "<IPython.core.display.SVG object>"
         },
         "metadata": {},
         "output_type": "display_data"
        }
       ],
       "tabbable": null,
       "tooltip": null
      }
     },
     "656d782ee9854dc1b9efcbd28deb3a6d": {
      "model_module": "@jupyter-widgets/base",
      "model_module_version": "2.0.0",
      "model_name": "LayoutModel",
      "state": {
       "_model_module": "@jupyter-widgets/base",
       "_model_module_version": "2.0.0",
       "_model_name": "LayoutModel",
       "_view_count": null,
       "_view_module": "@jupyter-widgets/base",
       "_view_module_version": "2.0.0",
       "_view_name": "LayoutView",
       "align_content": null,
       "align_items": null,
       "align_self": null,
       "border_bottom": null,
       "border_left": null,
       "border_right": null,
       "border_top": null,
       "bottom": null,
       "display": null,
       "flex": null,
       "flex_flow": null,
       "grid_area": null,
       "grid_auto_columns": null,
       "grid_auto_flow": null,
       "grid_auto_rows": null,
       "grid_column": null,
       "grid_gap": null,
       "grid_row": null,
       "grid_template_areas": null,
       "grid_template_columns": null,
       "grid_template_rows": null,
       "height": null,
       "justify_content": null,
       "justify_items": null,
       "left": null,
       "margin": null,
       "max_height": null,
       "max_width": null,
       "min_height": null,
       "min_width": null,
       "object_fit": null,
       "object_position": null,
       "order": null,
       "overflow": null,
       "padding": null,
       "right": null,
       "top": null,
       "visibility": null,
       "width": null
      }
     },
     "6f16ef5af58949bdb819dc0ec1644756": {
      "model_module": "@jupyter-widgets/output",
      "model_module_version": "1.0.0",
      "model_name": "OutputModel",
      "state": {
       "_dom_classes": [],
       "_model_module": "@jupyter-widgets/output",
       "_model_module_version": "1.0.0",
       "_model_name": "OutputModel",
       "_view_count": null,
       "_view_module": "@jupyter-widgets/output",
       "_view_module_version": "1.0.0",
       "_view_name": "OutputView",
       "layout": "IPY_MODEL_c5557f179a9e468bad138cfb8626d5c6",
       "msg_id": "",
       "outputs": [
        {
         "data": {
          "text/markdown": "`ecc`",
          "text/plain": "<IPython.core.display.Markdown object>"
         },
         "metadata": {},
         "output_type": "display_data"
        },
        {
         "data": {
          "image/svg+xml": "<svg xmlns=\"http://www.w3.org/2000/svg\" xmlns:xlink=\"http://www.w3.org/1999/xlink\" width=\"100pt\" height=\"25pt\" viewBox=\"0.00 0.00 100.00 25.00\">\n<g id=\"graph0\" class=\"graph\" transform=\"scale(1 1) rotate(0) translate(4 21)\">\n<title>my_graph</title>\n<polygon fill=\"white\" stroke=\"transparent\" points=\"-4,4 -4,-21 96,-21 96,4 -4,4\"/>\n<!-- FindECCPrivateKey -->\n<g id=\"node1\" class=\"node\">\n<title>FindECCPrivateKey</title>\n<polygon fill=\"none\" stroke=\"black\" points=\"0,0.5 0,-16.5 92,-16.5 92,0.5 0,0.5\"/>\n<text text-anchor=\"start\" x=\"3.5\" y=\"-5.5\" font-family=\"Times,serif\" font-size=\"10.00\">FindECCPrivateKey</text>\n</g>\n</g>\n</svg>",
          "text/plain": "<IPython.core.display.SVG object>"
         },
         "metadata": {},
         "output_type": "display_data"
        }
       ],
       "tabbable": null,
       "tooltip": null
      }
     },
     "8df2c5520d5c4107938a7c8254770c55": {
      "model_module": "@jupyter-widgets/controls",
      "model_module_version": "2.0.0",
      "model_name": "HBoxModel",
      "state": {
       "_dom_classes": [],
       "_model_module": "@jupyter-widgets/controls",
       "_model_module_version": "2.0.0",
       "_model_name": "HBoxModel",
       "_view_count": null,
       "_view_module": "@jupyter-widgets/controls",
       "_view_module_version": "2.0.0",
       "_view_name": "HBoxView",
       "box_style": "",
       "children": [
        "IPY_MODEL_e26234685f184706a4161fc6bdb09477",
        "IPY_MODEL_63755a4e82d84efa828b62ad90912d35"
       ],
       "layout": "IPY_MODEL_075c4e07a7714f0ead9acb487c447604",
       "tabbable": null,
       "tooltip": null
      }
     },
     "9aa56e97bd7441babed3a5511141841c": {
      "model_module": "@jupyter-widgets/base",
      "model_module_version": "2.0.0",
      "model_name": "LayoutModel",
      "state": {
       "_model_module": "@jupyter-widgets/base",
       "_model_module_version": "2.0.0",
       "_model_name": "LayoutModel",
       "_view_count": null,
       "_view_module": "@jupyter-widgets/base",
       "_view_module_version": "2.0.0",
       "_view_name": "LayoutView",
       "align_content": null,
       "align_items": null,
       "align_self": null,
       "border_bottom": null,
       "border_left": null,
       "border_right": null,
       "border_top": null,
       "bottom": null,
       "display": null,
       "flex": null,
       "flex_flow": null,
       "grid_area": null,
       "grid_auto_columns": null,
       "grid_auto_flow": null,
       "grid_auto_rows": null,
       "grid_column": null,
       "grid_gap": null,
       "grid_row": null,
       "grid_template_areas": null,
       "grid_template_columns": null,
       "grid_template_rows": null,
       "height": null,
       "justify_content": null,
       "justify_items": null,
       "left": null,
       "margin": null,
       "max_height": null,
       "max_width": null,
       "min_height": null,
       "min_width": null,
       "object_fit": null,
       "object_position": null,
       "order": null,
       "overflow": null,
       "padding": null,
       "right": null,
       "top": null,
       "visibility": null,
       "width": null
      }
     },
     "9cc3c057651541dd84a52fc34ec14cd9": {
      "model_module": "@jupyter-widgets/output",
      "model_module_version": "1.0.0",
      "model_name": "OutputModel",
      "state": {
       "_dom_classes": [],
       "_model_module": "@jupyter-widgets/output",
       "_model_module_version": "1.0.0",
       "_model_name": "OutputModel",
       "_view_count": null,
       "_view_module": "@jupyter-widgets/output",
       "_view_module_version": "1.0.0",
       "_view_name": "OutputView",
       "layout": "IPY_MODEL_9fd6baf9e3814bb8b33dc935d45b7986",
       "msg_id": "",
       "outputs": [
        {
         "data": {
          "text/markdown": "`ec_window_add_r_small`",
          "text/plain": "<IPython.core.display.Markdown object>"
         },
         "metadata": {},
         "output_type": "display_data"
        },
        {
         "data": {
          "image/svg+xml": "<svg xmlns=\"http://www.w3.org/2000/svg\" xmlns:xlink=\"http://www.w3.org/1999/xlink\" width=\"269pt\" height=\"314pt\" viewBox=\"0.00 0.00 269.00 314.00\">\n<g id=\"graph0\" class=\"graph\" transform=\"scale(1 1) rotate(0) translate(4 310)\">\n<title>my_graph</title>\n<polygon fill=\"white\" stroke=\"transparent\" points=\"-4,4 -4,-310 265,-310 265,4 -4,4\"/>\n<!-- ctrl_G13 -->\n<g id=\"node1\" class=\"node\">\n<title>ctrl_G13</title>\n<text text-anchor=\"middle\" x=\"27\" y=\"-284.3\" font-family=\"Times,serif\" font-size=\"14.00\">ctrl[0]</text>\n</g>\n<!-- ECWindowAddR -->\n<g id=\"node7\" class=\"node\">\n<title>ECWindowAddR</title>\n<polygon fill=\"none\" stroke=\"black\" points=\"91.5,-216 91.5,-233 170.5,-233 170.5,-216 91.5,-216\"/>\n<text text-anchor=\"start\" x=\"94.5\" y=\"-222\" font-family=\"Times,serif\" font-size=\"10.00\">ECWindowAddR</text>\n<polygon fill=\"none\" stroke=\"black\" points=\"91.5,-195 91.5,-216 170.5,-216 170.5,-195 91.5,-195\"/>\n<text text-anchor=\"start\" x=\"114\" y=\"-201.8\" font-family=\"Times,serif\" font-size=\"14.00\">ctrl[0]</text>\n<polygon fill=\"none\" stroke=\"black\" points=\"91.5,-174 91.5,-195 170.5,-195 170.5,-174 91.5,-174\"/>\n<text text-anchor=\"start\" x=\"114\" y=\"-180.8\" font-family=\"Times,serif\" font-size=\"14.00\">ctrl[1]</text>\n<polygon fill=\"none\" stroke=\"black\" points=\"91.5,-153 91.5,-174 170.5,-174 170.5,-153 91.5,-153\"/>\n<text text-anchor=\"start\" x=\"114\" y=\"-159.8\" font-family=\"Times,serif\" font-size=\"14.00\">ctrl[2]</text>\n<polygon fill=\"none\" stroke=\"black\" points=\"91.5,-132 91.5,-153 170.5,-153 170.5,-132 91.5,-132\"/>\n<text text-anchor=\"start\" x=\"114\" y=\"-138.8\" font-family=\"Times,serif\" font-size=\"14.00\">ctrl[3]</text>\n<polygon fill=\"none\" stroke=\"black\" points=\"91.5,-111 91.5,-132 170.5,-132 170.5,-111 91.5,-111\"/>\n<text text-anchor=\"start\" x=\"127.5\" y=\"-117.8\" font-family=\"Times,serif\" font-size=\"14.00\">x</text>\n<polygon fill=\"none\" stroke=\"black\" points=\"91.5,-90 91.5,-111 170.5,-111 170.5,-90 91.5,-90\"/>\n<text text-anchor=\"start\" x=\"127.5\" y=\"-96.8\" font-family=\"Times,serif\" font-size=\"14.00\">y</text>\n</g>\n<!-- ctrl_G13&#45;&gt;ECWindowAddR -->\n<g id=\"edge1\" class=\"edge\">\n<title>ctrl_G13:e-&gt;ECWindowAddR:w</title>\n<path fill=\"none\" stroke=\"black\" d=\"M54,-288C93.2,-288 52.66,-209.17 88.75,-206.09\"/>\n<ellipse fill=\"black\" stroke=\"black\" cx=\"90\" cy=\"-206.04\" rx=\"1\" ry=\"1\"/>\n<text text-anchor=\"middle\" x=\"72.5\" y=\"-273\" font-family=\"Times,serif\" font-size=\"10.00\">1</text>\n</g>\n<!-- ctrl_G10 -->\n<g id=\"node2\" class=\"node\">\n<title>ctrl_G10</title>\n<text text-anchor=\"middle\" x=\"27\" y=\"-230.3\" font-family=\"Times,serif\" font-size=\"14.00\">ctrl[1]</text>\n</g>\n<!-- ctrl_G10&#45;&gt;ECWindowAddR -->\n<g id=\"edge2\" class=\"edge\">\n<title>ctrl_G10:e-&gt;ECWindowAddR:w</title>\n<path fill=\"none\" stroke=\"black\" d=\"M54,-234C80.54,-234 64.64,-187.64 88.86,-185.11\"/>\n<ellipse fill=\"black\" stroke=\"black\" cx=\"90\" cy=\"-185.05\" rx=\"1\" ry=\"1\"/>\n<text text-anchor=\"middle\" x=\"72.5\" y=\"-213\" font-family=\"Times,serif\" font-size=\"10.00\">1</text>\n</g>\n<!-- ctrl_G16 -->\n<g id=\"node3\" class=\"node\">\n<title>ctrl_G16</title>\n<text text-anchor=\"middle\" x=\"27\" y=\"-176.3\" font-family=\"Times,serif\" font-size=\"14.00\">ctrl[2]</text>\n</g>\n<!-- ctrl_G16&#45;&gt;ECWindowAddR -->\n<g id=\"edge3\" class=\"edge\">\n<title>ctrl_G16:e-&gt;ECWindowAddR:w</title>\n<path fill=\"none\" stroke=\"black\" d=\"M54,-180C71.22,-180 72.97,-165.23 88.98,-164.07\"/>\n<ellipse fill=\"black\" stroke=\"black\" cx=\"90\" cy=\"-164.04\" rx=\"1\" ry=\"1\"/>\n<text text-anchor=\"middle\" x=\"72.5\" y=\"-175\" font-family=\"Times,serif\" font-size=\"10.00\">1</text>\n</g>\n<!-- ctrl_G2 -->\n<g id=\"node4\" class=\"node\">\n<title>ctrl_G2</title>\n<text text-anchor=\"middle\" x=\"27\" y=\"-122.3\" font-family=\"Times,serif\" font-size=\"14.00\">ctrl[3]</text>\n</g>\n<!-- ctrl_G2&#45;&gt;ECWindowAddR -->\n<g id=\"edge4\" class=\"edge\">\n<title>ctrl_G2:e-&gt;ECWindowAddR:w</title>\n<path fill=\"none\" stroke=\"black\" d=\"M54,-126C71.22,-126 72.97,-140.77 88.98,-141.93\"/>\n<ellipse fill=\"black\" stroke=\"black\" cx=\"90\" cy=\"-141.96\" rx=\"1\" ry=\"1\"/>\n<text text-anchor=\"middle\" x=\"72.5\" y=\"-137\" font-family=\"Times,serif\" font-size=\"10.00\">1</text>\n</g>\n<!-- x_G4 -->\n<g id=\"node5\" class=\"node\">\n<title>x_G4</title>\n<text text-anchor=\"middle\" x=\"27\" y=\"-68.3\" font-family=\"Times,serif\" font-size=\"14.00\">x</text>\n</g>\n<!-- x_G4&#45;&gt;ECWindowAddR -->\n<g id=\"edge5\" class=\"edge\">\n<title>x_G4:e-&gt;ECWindowAddR:w</title>\n<path fill=\"none\" stroke=\"black\" d=\"M54,-72C80.54,-72 64.64,-118.36 88.86,-120.89\"/>\n<ellipse fill=\"black\" stroke=\"black\" cx=\"90\" cy=\"-120.95\" rx=\"1\" ry=\"1\"/>\n<text text-anchor=\"middle\" x=\"72.5\" y=\"-100\" font-family=\"Times,serif\" font-size=\"10.00\">16</text>\n</g>\n<!-- y_G3 -->\n<g id=\"node6\" class=\"node\">\n<title>y_G3</title>\n<text text-anchor=\"middle\" x=\"27\" y=\"-14.3\" font-family=\"Times,serif\" font-size=\"14.00\">y</text>\n</g>\n<!-- y_G3&#45;&gt;ECWindowAddR -->\n<g id=\"edge6\" class=\"edge\">\n<title>y_G3:e-&gt;ECWindowAddR:w</title>\n<path fill=\"none\" stroke=\"black\" d=\"M54,-18C93.2,-18 52.66,-96.83 88.75,-99.91\"/>\n<ellipse fill=\"black\" stroke=\"black\" cx=\"90\" cy=\"-99.96\" rx=\"1\" ry=\"1\"/>\n<text text-anchor=\"middle\" x=\"72.5\" y=\"-85\" font-family=\"Times,serif\" font-size=\"10.00\">16</text>\n</g>\n<!-- ctrl_G14 -->\n<g id=\"node8\" class=\"node\">\n<title>ctrl_G14</title>\n<text text-anchor=\"middle\" x=\"234\" y=\"-284.3\" font-family=\"Times,serif\" font-size=\"14.00\">ctrl[0]</text>\n</g>\n<!-- ECWindowAddR&#45;&gt;ctrl_G14 -->\n<g id=\"edge7\" class=\"edge\">\n<title>ECWindowAddR:e-&gt;ctrl_G14:w</title>\n<path fill=\"none\" stroke=\"black\" d=\"M170,-206C209.2,-206 168.66,-284.83 204.75,-287.91\"/>\n<ellipse fill=\"black\" stroke=\"black\" cx=\"206\" cy=\"-287.96\" rx=\"1\" ry=\"1\"/>\n<text text-anchor=\"middle\" x=\"188.5\" y=\"-273\" font-family=\"Times,serif\" font-size=\"10.00\">1</text>\n</g>\n<!-- ctrl_G12 -->\n<g id=\"node9\" class=\"node\">\n<title>ctrl_G12</title>\n<text text-anchor=\"middle\" x=\"234\" y=\"-230.3\" font-family=\"Times,serif\" font-size=\"14.00\">ctrl[1]</text>\n</g>\n<!-- ECWindowAddR&#45;&gt;ctrl_G12 -->\n<g id=\"edge8\" class=\"edge\">\n<title>ECWindowAddR:e-&gt;ctrl_G12:w</title>\n<path fill=\"none\" stroke=\"black\" d=\"M170,-185C196.54,-185 180.64,-231.36 204.86,-233.89\"/>\n<ellipse fill=\"black\" stroke=\"black\" cx=\"206\" cy=\"-233.95\" rx=\"1\" ry=\"1\"/>\n<text text-anchor=\"middle\" x=\"188.5\" y=\"-213\" font-family=\"Times,serif\" font-size=\"10.00\">1</text>\n</g>\n<!-- ctrl_G17 -->\n<g id=\"node10\" class=\"node\">\n<title>ctrl_G17</title>\n<text text-anchor=\"middle\" x=\"234\" y=\"-176.3\" font-family=\"Times,serif\" font-size=\"14.00\">ctrl[2]</text>\n</g>\n<!-- ECWindowAddR&#45;&gt;ctrl_G17 -->\n<g id=\"edge9\" class=\"edge\">\n<title>ECWindowAddR:e-&gt;ctrl_G17:w</title>\n<path fill=\"none\" stroke=\"black\" d=\"M170,-164C187.22,-164 188.97,-178.77 204.98,-179.93\"/>\n<ellipse fill=\"black\" stroke=\"black\" cx=\"206\" cy=\"-179.96\" rx=\"1\" ry=\"1\"/>\n<text text-anchor=\"middle\" x=\"188.5\" y=\"-175\" font-family=\"Times,serif\" font-size=\"10.00\">1</text>\n</g>\n<!-- ctrl_G5 -->\n<g id=\"node11\" class=\"node\">\n<title>ctrl_G5</title>\n<text text-anchor=\"middle\" x=\"234\" y=\"-122.3\" font-family=\"Times,serif\" font-size=\"14.00\">ctrl[3]</text>\n</g>\n<!-- ECWindowAddR&#45;&gt;ctrl_G5 -->\n<g id=\"edge10\" class=\"edge\">\n<title>ECWindowAddR:e-&gt;ctrl_G5:w</title>\n<path fill=\"none\" stroke=\"black\" d=\"M170,-142C187.22,-142 188.97,-127.23 204.98,-126.07\"/>\n<ellipse fill=\"black\" stroke=\"black\" cx=\"206\" cy=\"-126.04\" rx=\"1\" ry=\"1\"/>\n<text text-anchor=\"middle\" x=\"188.5\" y=\"-137\" font-family=\"Times,serif\" font-size=\"10.00\">1</text>\n</g>\n<!-- x_G15 -->\n<g id=\"node12\" class=\"node\">\n<title>x_G15</title>\n<text text-anchor=\"middle\" x=\"234\" y=\"-68.3\" font-family=\"Times,serif\" font-size=\"14.00\">x</text>\n</g>\n<!-- ECWindowAddR&#45;&gt;x_G15 -->\n<g id=\"edge11\" class=\"edge\">\n<title>ECWindowAddR:e-&gt;x_G15:w</title>\n<path fill=\"none\" stroke=\"black\" d=\"M170,-121C196.54,-121 180.64,-74.64 204.86,-72.11\"/>\n<ellipse fill=\"black\" stroke=\"black\" cx=\"206\" cy=\"-72.05\" rx=\"1\" ry=\"1\"/>\n<text text-anchor=\"middle\" x=\"188.5\" y=\"-100\" font-family=\"Times,serif\" font-size=\"10.00\">16</text>\n</g>\n<!-- y_G8 -->\n<g id=\"node13\" class=\"node\">\n<title>y_G8</title>\n<text text-anchor=\"middle\" x=\"234\" y=\"-14.3\" font-family=\"Times,serif\" font-size=\"14.00\">y</text>\n</g>\n<!-- ECWindowAddR&#45;&gt;y_G8 -->\n<g id=\"edge12\" class=\"edge\">\n<title>ECWindowAddR:e-&gt;y_G8:w</title>\n<path fill=\"none\" stroke=\"black\" d=\"M170,-100C209.2,-100 168.66,-21.17 204.75,-18.09\"/>\n<ellipse fill=\"black\" stroke=\"black\" cx=\"206\" cy=\"-18.04\" rx=\"1\" ry=\"1\"/>\n<text text-anchor=\"middle\" x=\"188.5\" y=\"-85\" font-family=\"Times,serif\" font-size=\"10.00\">16</text>\n</g>\n</g>\n</svg>",
          "text/plain": "<IPython.core.display.SVG object>"
         },
         "metadata": {},
         "output_type": "display_data"
        }
       ],
       "tabbable": null,
       "tooltip": null
      }
     },
     "9fd6baf9e3814bb8b33dc935d45b7986": {
      "model_module": "@jupyter-widgets/base",
      "model_module_version": "2.0.0",
      "model_name": "LayoutModel",
      "state": {
       "_model_module": "@jupyter-widgets/base",
       "_model_module_version": "2.0.0",
       "_model_name": "LayoutModel",
       "_view_count": null,
       "_view_module": "@jupyter-widgets/base",
       "_view_module_version": "2.0.0",
       "_view_name": "LayoutView",
       "align_content": null,
       "align_items": null,
       "align_self": null,
       "border_bottom": null,
       "border_left": null,
       "border_right": null,
       "border_top": null,
       "bottom": null,
       "display": null,
       "flex": null,
       "flex_flow": null,
       "grid_area": null,
       "grid_auto_columns": null,
       "grid_auto_flow": null,
       "grid_auto_rows": null,
       "grid_column": null,
       "grid_gap": null,
       "grid_row": null,
       "grid_template_areas": null,
       "grid_template_columns": null,
       "grid_template_rows": null,
       "height": null,
       "justify_content": null,
       "justify_items": null,
       "left": null,
       "margin": null,
       "max_height": null,
       "max_width": null,
       "min_height": null,
       "min_width": null,
       "object_fit": null,
       "object_position": null,
       "order": null,
       "overflow": null,
       "padding": null,
       "right": null,
       "top": null,
       "visibility": null,
       "width": null
      }
     },
     "ace23fdba2f84964971a8d5ad3f3b3d1": {
      "model_module": "@jupyter-widgets/output",
      "model_module_version": "1.0.0",
      "model_name": "OutputModel",
      "state": {
       "_dom_classes": [],
       "_model_module": "@jupyter-widgets/output",
       "_model_module_version": "1.0.0",
       "_model_name": "OutputModel",
       "_view_count": null,
       "_view_module": "@jupyter-widgets/output",
       "_view_module_version": "1.0.0",
       "_view_name": "OutputView",
       "layout": "IPY_MODEL_e760fe6de4a64a33897357aa75640c0a",
       "msg_id": "",
       "outputs": [
        {
         "data": {
          "text/markdown": "`ec_add_r_small`",
          "text/plain": "<IPython.core.display.Markdown object>"
         },
         "metadata": {},
         "output_type": "display_data"
        },
        {
         "data": {
          "image/svg+xml": "<svg xmlns=\"http://www.w3.org/2000/svg\" xmlns:xlink=\"http://www.w3.org/1999/xlink\" width=\"234pt\" height=\"152pt\" viewBox=\"0.00 0.00 234.00 152.00\">\n<g id=\"graph0\" class=\"graph\" transform=\"scale(1 1) rotate(0) translate(4 148)\">\n<title>my_graph</title>\n<polygon fill=\"white\" stroke=\"transparent\" points=\"-4,4 -4,-148 230,-148 230,4 -4,4\"/>\n<!-- ctrl_G0 -->\n<g id=\"node1\" class=\"node\">\n<title>ctrl_G0</title>\n<text text-anchor=\"middle\" x=\"27\" y=\"-122.3\" font-family=\"Times,serif\" font-size=\"14.00\">ctrl</text>\n</g>\n<!-- ECAddR -->\n<g id=\"node4\" class=\"node\">\n<title>ECAddR</title>\n<polygon fill=\"none\" stroke=\"black\" points=\"91,-104 91,-121 135,-121 135,-104 91,-104\"/>\n<text text-anchor=\"start\" x=\"94\" y=\"-110\" font-family=\"Times,serif\" font-size=\"10.00\">ECAddR</text>\n<polygon fill=\"none\" stroke=\"black\" points=\"91,-83 91,-104 135,-104 135,-83 91,-83\"/>\n<text text-anchor=\"start\" x=\"103.5\" y=\"-89.8\" font-family=\"Times,serif\" font-size=\"14.00\">ctrl</text>\n<polygon fill=\"none\" stroke=\"black\" points=\"91,-62 91,-83 135,-83 135,-62 91,-62\"/>\n<text text-anchor=\"start\" x=\"109.5\" y=\"-68.8\" font-family=\"Times,serif\" font-size=\"14.00\">x</text>\n<polygon fill=\"none\" stroke=\"black\" points=\"91,-41 91,-62 135,-62 135,-41 91,-41\"/>\n<text text-anchor=\"start\" x=\"109.5\" y=\"-47.8\" font-family=\"Times,serif\" font-size=\"14.00\">y</text>\n</g>\n<!-- ctrl_G0&#45;&gt;ECAddR -->\n<g id=\"edge1\" class=\"edge\">\n<title>ctrl_G0:e-&gt;ECAddR:w</title>\n<path fill=\"none\" stroke=\"black\" d=\"M54,-126C74.89,-126 69.72,-96.45 88.58,-94.14\"/>\n<ellipse fill=\"black\" stroke=\"black\" cx=\"90\" cy=\"-94.06\" rx=\"1\" ry=\"1\"/>\n<text text-anchor=\"middle\" x=\"72.5\" y=\"-113\" font-family=\"Times,serif\" font-size=\"10.00\">1</text>\n</g>\n<!-- x_G5 -->\n<g id=\"node2\" class=\"node\">\n<title>x_G5</title>\n<text text-anchor=\"middle\" x=\"27\" y=\"-68.3\" font-family=\"Times,serif\" font-size=\"14.00\">x</text>\n</g>\n<!-- x_G5&#45;&gt;ECAddR -->\n<g id=\"edge2\" class=\"edge\">\n<title>x_G5:e-&gt;ECAddR:w</title>\n<path fill=\"none\" stroke=\"black\" d=\"M54,-72C69.67,-72 74.14,-72 88.77,-72\"/>\n<ellipse fill=\"black\" stroke=\"black\" cx=\"90\" cy=\"-72\" rx=\"1\" ry=\"1\"/>\n<text text-anchor=\"middle\" x=\"72.5\" y=\"-75\" font-family=\"Times,serif\" font-size=\"10.00\">5</text>\n</g>\n<!-- y_G6 -->\n<g id=\"node3\" class=\"node\">\n<title>y_G6</title>\n<text text-anchor=\"middle\" x=\"27\" y=\"-14.3\" font-family=\"Times,serif\" font-size=\"14.00\">y</text>\n</g>\n<!-- y_G6&#45;&gt;ECAddR -->\n<g id=\"edge3\" class=\"edge\">\n<title>y_G6:e-&gt;ECAddR:w</title>\n<path fill=\"none\" stroke=\"black\" d=\"M54,-18C75.17,-18 69.47,-48.47 88.55,-50.85\"/>\n<ellipse fill=\"black\" stroke=\"black\" cx=\"90\" cy=\"-50.94\" rx=\"1\" ry=\"1\"/>\n<text text-anchor=\"middle\" x=\"72.5\" y=\"-39\" font-family=\"Times,serif\" font-size=\"10.00\">5</text>\n</g>\n<!-- ctrl_G2 -->\n<g id=\"node5\" class=\"node\">\n<title>ctrl_G2</title>\n<text text-anchor=\"middle\" x=\"199\" y=\"-122.3\" font-family=\"Times,serif\" font-size=\"14.00\">ctrl</text>\n</g>\n<!-- ECAddR&#45;&gt;ctrl_G2 -->\n<g id=\"edge4\" class=\"edge\">\n<title>ECAddR:e-&gt;ctrl_G2:w</title>\n<path fill=\"none\" stroke=\"black\" d=\"M135,-94C155.89,-94 150.72,-123.55 169.58,-125.86\"/>\n<ellipse fill=\"black\" stroke=\"black\" cx=\"171\" cy=\"-125.94\" rx=\"1\" ry=\"1\"/>\n<text text-anchor=\"middle\" x=\"153.5\" y=\"-113\" font-family=\"Times,serif\" font-size=\"10.00\">1</text>\n</g>\n<!-- x_G4 -->\n<g id=\"node6\" class=\"node\">\n<title>x_G4</title>\n<text text-anchor=\"middle\" x=\"199\" y=\"-68.3\" font-family=\"Times,serif\" font-size=\"14.00\">x</text>\n</g>\n<!-- ECAddR&#45;&gt;x_G4 -->\n<g id=\"edge5\" class=\"edge\">\n<title>ECAddR:e-&gt;x_G4:w</title>\n<path fill=\"none\" stroke=\"black\" d=\"M135,-72C150.67,-72 155.14,-72 169.77,-72\"/>\n<ellipse fill=\"black\" stroke=\"black\" cx=\"171\" cy=\"-72\" rx=\"1\" ry=\"1\"/>\n<text text-anchor=\"middle\" x=\"153.5\" y=\"-75\" font-family=\"Times,serif\" font-size=\"10.00\">5</text>\n</g>\n<!-- y_G3 -->\n<g id=\"node7\" class=\"node\">\n<title>y_G3</title>\n<text text-anchor=\"middle\" x=\"199\" y=\"-14.3\" font-family=\"Times,serif\" font-size=\"14.00\">y</text>\n</g>\n<!-- ECAddR&#45;&gt;y_G3 -->\n<g id=\"edge6\" class=\"edge\">\n<title>ECAddR:e-&gt;y_G3:w</title>\n<path fill=\"none\" stroke=\"black\" d=\"M135,-51C156.17,-51 150.47,-20.53 169.55,-18.15\"/>\n<ellipse fill=\"black\" stroke=\"black\" cx=\"171\" cy=\"-18.06\" rx=\"1\" ry=\"1\"/>\n<text text-anchor=\"middle\" x=\"153.5\" y=\"-39\" font-family=\"Times,serif\" font-size=\"10.00\">5</text>\n</g>\n</g>\n</svg>",
          "text/plain": "<IPython.core.display.SVG object>"
         },
         "metadata": {},
         "output_type": "display_data"
        }
       ],
       "tabbable": null,
       "tooltip": null
      }
     },
     "b05d9f14de2a43c48cf01e87c7f72abe": {
      "model_module": "@jupyter-widgets/controls",
      "model_module_version": "2.0.0",
      "model_name": "HBoxModel",
      "state": {
       "_dom_classes": [],
       "_model_module": "@jupyter-widgets/controls",
       "_model_module_version": "2.0.0",
       "_model_name": "HBoxModel",
       "_view_count": null,
       "_view_module": "@jupyter-widgets/controls",
       "_view_module_version": "2.0.0",
       "_view_name": "HBoxView",
       "box_style": "",
       "children": [
        "IPY_MODEL_f791b5a6a1454c3dac60f14a879060dd",
        "IPY_MODEL_ace23fdba2f84964971a8d5ad3f3b3d1"
       ],
       "layout": "IPY_MODEL_656d782ee9854dc1b9efcbd28deb3a6d",
       "tabbable": null,
       "tooltip": null
      }
     },
     "c0741653c4ce4aecb93498cf633f2662": {
      "model_module": "@jupyter-widgets/base",
      "model_module_version": "2.0.0",
      "model_name": "LayoutModel",
      "state": {
       "_model_module": "@jupyter-widgets/base",
       "_model_module_version": "2.0.0",
       "_model_name": "LayoutModel",
       "_view_count": null,
       "_view_module": "@jupyter-widgets/base",
       "_view_module_version": "2.0.0",
       "_view_name": "LayoutView",
       "align_content": null,
       "align_items": null,
       "align_self": null,
       "border_bottom": null,
       "border_left": null,
       "border_right": null,
       "border_top": null,
       "bottom": null,
       "display": null,
       "flex": null,
       "flex_flow": null,
       "grid_area": null,
       "grid_auto_columns": null,
       "grid_auto_flow": null,
       "grid_auto_rows": null,
       "grid_column": null,
       "grid_gap": null,
       "grid_row": null,
       "grid_template_areas": null,
       "grid_template_columns": null,
       "grid_template_rows": null,
       "height": null,
       "justify_content": null,
       "justify_items": null,
       "left": null,
       "margin": null,
       "max_height": null,
       "max_width": null,
       "min_height": null,
       "min_width": null,
       "object_fit": null,
       "object_position": null,
       "order": null,
       "overflow": null,
       "padding": null,
       "right": null,
       "top": null,
       "visibility": null,
       "width": null
      }
     },
     "c5557f179a9e468bad138cfb8626d5c6": {
      "model_module": "@jupyter-widgets/base",
      "model_module_version": "2.0.0",
      "model_name": "LayoutModel",
      "state": {
       "_model_module": "@jupyter-widgets/base",
       "_model_module_version": "2.0.0",
       "_model_name": "LayoutModel",
       "_view_count": null,
       "_view_module": "@jupyter-widgets/base",
       "_view_module_version": "2.0.0",
       "_view_name": "LayoutView",
       "align_content": null,
       "align_items": null,
       "align_self": null,
       "border_bottom": null,
       "border_left": null,
       "border_right": null,
       "border_top": null,
       "bottom": null,
       "display": null,
       "flex": null,
       "flex_flow": null,
       "grid_area": null,
       "grid_auto_columns": null,
       "grid_auto_flow": null,
       "grid_auto_rows": null,
       "grid_column": null,
       "grid_gap": null,
       "grid_row": null,
       "grid_template_areas": null,
       "grid_template_columns": null,
       "grid_template_rows": null,
       "height": null,
       "justify_content": null,
       "justify_items": null,
       "left": null,
       "margin": null,
       "max_height": null,
       "max_width": null,
       "min_height": null,
       "min_width": null,
       "object_fit": null,
       "object_position": null,
       "order": null,
       "overflow": null,
       "padding": null,
       "right": null,
       "top": null,
       "visibility": null,
       "width": null
      }
     },
     "d40d8a9768e14fedaebe0e151f590ed0": {
      "model_module": "@jupyter-widgets/controls",
      "model_module_version": "2.0.0",
      "model_name": "HBoxModel",
      "state": {
       "_dom_classes": [],
       "_model_module": "@jupyter-widgets/controls",
       "_model_module_version": "2.0.0",
       "_model_name": "HBoxModel",
       "_view_count": null,
       "_view_module": "@jupyter-widgets/controls",
       "_view_module_version": "2.0.0",
       "_view_name": "HBoxView",
       "box_style": "",
       "children": [
        "IPY_MODEL_9cc3c057651541dd84a52fc34ec14cd9"
       ],
       "layout": "IPY_MODEL_28d4d999a72841e9ba4dedc023105d29",
       "tabbable": null,
       "tooltip": null
      }
     },
     "e26234685f184706a4161fc6bdb09477": {
      "model_module": "@jupyter-widgets/output",
      "model_module_version": "1.0.0",
      "model_name": "OutputModel",
      "state": {
       "_dom_classes": [],
       "_model_module": "@jupyter-widgets/output",
       "_model_module_version": "1.0.0",
       "_model_name": "OutputModel",
       "_view_count": null,
       "_view_module": "@jupyter-widgets/output",
       "_view_module_version": "1.0.0",
       "_view_name": "OutputView",
       "layout": "IPY_MODEL_9aa56e97bd7441babed3a5511141841c",
       "msg_id": "",
       "outputs": [
        {
         "data": {
          "text/markdown": "`ec_pe`",
          "text/plain": "<IPython.core.display.Markdown object>"
         },
         "metadata": {},
         "output_type": "display_data"
        },
        {
         "data": {
          "image/svg+xml": "<svg xmlns=\"http://www.w3.org/2000/svg\" xmlns:xlink=\"http://www.w3.org/1999/xlink\" width=\"263pt\" height=\"98pt\" viewBox=\"0.00 0.00 263.00 98.00\">\n<g id=\"graph0\" class=\"graph\" transform=\"scale(1 1) rotate(0) translate(4 94)\">\n<title>my_graph</title>\n<polygon fill=\"white\" stroke=\"transparent\" points=\"-4,4 -4,-94 259,-94 259,4 -4,4\"/>\n<!-- x_G0 -->\n<g id=\"node1\" class=\"node\">\n<title>x_G0</title>\n<text text-anchor=\"middle\" x=\"27\" y=\"-68.3\" font-family=\"Times,serif\" font-size=\"14.00\">x</text>\n</g>\n<!-- ECPhaseEstimateR -->\n<g id=\"node3\" class=\"node\">\n<title>ECPhaseEstimateR</title>\n<polygon fill=\"none\" stroke=\"black\" points=\"91.5,-66 91.5,-83 164.5,-83 164.5,-66 91.5,-66\"/>\n<text text-anchor=\"start\" x=\"94.5\" y=\"-72\" font-family=\"Times,serif\" font-size=\"10.00\">PE$(R_x, R_y)$</text>\n<polygon fill=\"none\" stroke=\"black\" points=\"91.5,-45 91.5,-66 164.5,-66 164.5,-45 91.5,-45\"/>\n<text text-anchor=\"start\" x=\"124.5\" y=\"-51.8\" font-family=\"Times,serif\" font-size=\"14.00\">x</text>\n<polygon fill=\"none\" stroke=\"black\" points=\"91.5,-24 91.5,-45 164.5,-45 164.5,-24 91.5,-24\"/>\n<text text-anchor=\"start\" x=\"124.5\" y=\"-30.8\" font-family=\"Times,serif\" font-size=\"14.00\">y</text>\n</g>\n<!-- x_G0&#45;&gt;ECPhaseEstimateR -->\n<g id=\"edge1\" class=\"edge\">\n<title>x_G0:e-&gt;ECPhaseEstimateR:w</title>\n<path fill=\"none\" stroke=\"black\" d=\"M54,-72C71.22,-72 72.97,-57.23 88.98,-56.07\"/>\n<ellipse fill=\"black\" stroke=\"black\" cx=\"90\" cy=\"-56.04\" rx=\"1\" ry=\"1\"/>\n<text text-anchor=\"middle\" x=\"72.5\" y=\"-67\" font-family=\"Times,serif\" font-size=\"10.00\">n</text>\n</g>\n<!-- y_G5 -->\n<g id=\"node2\" class=\"node\">\n<title>y_G5</title>\n<text text-anchor=\"middle\" x=\"27\" y=\"-14.3\" font-family=\"Times,serif\" font-size=\"14.00\">y</text>\n</g>\n<!-- y_G5&#45;&gt;ECPhaseEstimateR -->\n<g id=\"edge2\" class=\"edge\">\n<title>y_G5:e-&gt;ECPhaseEstimateR:w</title>\n<path fill=\"none\" stroke=\"black\" d=\"M54,-18C71.22,-18 72.97,-32.77 88.98,-33.93\"/>\n<ellipse fill=\"black\" stroke=\"black\" cx=\"90\" cy=\"-33.96\" rx=\"1\" ry=\"1\"/>\n<text text-anchor=\"middle\" x=\"72.5\" y=\"-29\" font-family=\"Times,serif\" font-size=\"10.00\">n</text>\n</g>\n<!-- x_G1 -->\n<g id=\"node4\" class=\"node\">\n<title>x_G1</title>\n<text text-anchor=\"middle\" x=\"228\" y=\"-68.3\" font-family=\"Times,serif\" font-size=\"14.00\">x</text>\n</g>\n<!-- ECPhaseEstimateR&#45;&gt;x_G1 -->\n<g id=\"edge3\" class=\"edge\">\n<title>ECPhaseEstimateR:e-&gt;x_G1:w</title>\n<path fill=\"none\" stroke=\"black\" d=\"M164,-56C181.22,-56 182.97,-70.77 198.98,-71.93\"/>\n<ellipse fill=\"black\" stroke=\"black\" cx=\"200\" cy=\"-71.96\" rx=\"1\" ry=\"1\"/>\n<text text-anchor=\"middle\" x=\"182.5\" y=\"-67\" font-family=\"Times,serif\" font-size=\"10.00\">n</text>\n</g>\n<!-- y_G2 -->\n<g id=\"node5\" class=\"node\">\n<title>y_G2</title>\n<text text-anchor=\"middle\" x=\"228\" y=\"-14.3\" font-family=\"Times,serif\" font-size=\"14.00\">y</text>\n</g>\n<!-- ECPhaseEstimateR&#45;&gt;y_G2 -->\n<g id=\"edge4\" class=\"edge\">\n<title>ECPhaseEstimateR:e-&gt;y_G2:w</title>\n<path fill=\"none\" stroke=\"black\" d=\"M164,-34C181.22,-34 182.97,-19.23 198.98,-18.07\"/>\n<ellipse fill=\"black\" stroke=\"black\" cx=\"200\" cy=\"-18.04\" rx=\"1\" ry=\"1\"/>\n<text text-anchor=\"middle\" x=\"182.5\" y=\"-29\" font-family=\"Times,serif\" font-size=\"10.00\">n</text>\n</g>\n</g>\n</svg>",
          "text/plain": "<IPython.core.display.SVG object>"
         },
         "metadata": {},
         "output_type": "display_data"
        }
       ],
       "tabbable": null,
       "tooltip": null
      }
     },
     "e760fe6de4a64a33897357aa75640c0a": {
      "model_module": "@jupyter-widgets/base",
      "model_module_version": "2.0.0",
      "model_name": "LayoutModel",
      "state": {
       "_model_module": "@jupyter-widgets/base",
       "_model_module_version": "2.0.0",
       "_model_name": "LayoutModel",
       "_view_count": null,
       "_view_module": "@jupyter-widgets/base",
       "_view_module_version": "2.0.0",
       "_view_name": "LayoutView",
       "align_content": null,
       "align_items": null,
       "align_self": null,
       "border_bottom": null,
       "border_left": null,
       "border_right": null,
       "border_top": null,
       "bottom": null,
       "display": null,
       "flex": null,
       "flex_flow": null,
       "grid_area": null,
       "grid_auto_columns": null,
       "grid_auto_flow": null,
       "grid_auto_rows": null,
       "grid_column": null,
       "grid_gap": null,
       "grid_row": null,
       "grid_template_areas": null,
       "grid_template_columns": null,
       "grid_template_rows": null,
       "height": null,
       "justify_content": null,
       "justify_items": null,
       "left": null,
       "margin": null,
       "max_height": null,
       "max_width": null,
       "min_height": null,
       "min_width": null,
       "object_fit": null,
       "object_position": null,
       "order": null,
       "overflow": null,
       "padding": null,
       "right": null,
       "top": null,
       "visibility": null,
       "width": null
      }
     },
     "f791b5a6a1454c3dac60f14a879060dd": {
      "model_module": "@jupyter-widgets/output",
      "model_module_version": "1.0.0",
      "model_name": "OutputModel",
      "state": {
       "_dom_classes": [],
       "_model_module": "@jupyter-widgets/output",
       "_model_module_version": "1.0.0",
       "_model_name": "OutputModel",
       "_view_count": null,
       "_view_module": "@jupyter-widgets/output",
       "_view_module_version": "1.0.0",
       "_view_name": "OutputView",
       "layout": "IPY_MODEL_c0741653c4ce4aecb93498cf633f2662",
       "msg_id": "",
       "outputs": [
        {
         "data": {
          "text/markdown": "`ec_add_r`",
          "text/plain": "<IPython.core.display.Markdown object>"
         },
         "metadata": {},
         "output_type": "display_data"
        },
        {
         "data": {
          "image/svg+xml": "<svg xmlns=\"http://www.w3.org/2000/svg\" xmlns:xlink=\"http://www.w3.org/1999/xlink\" width=\"234pt\" height=\"152pt\" viewBox=\"0.00 0.00 234.00 152.00\">\n<g id=\"graph0\" class=\"graph\" transform=\"scale(1 1) rotate(0) translate(4 148)\">\n<title>my_graph</title>\n<polygon fill=\"white\" stroke=\"transparent\" points=\"-4,4 -4,-148 230,-148 230,4 -4,4\"/>\n<!-- ctrl_G0 -->\n<g id=\"node1\" class=\"node\">\n<title>ctrl_G0</title>\n<text text-anchor=\"middle\" x=\"27\" y=\"-122.3\" font-family=\"Times,serif\" font-size=\"14.00\">ctrl</text>\n</g>\n<!-- ECAddR -->\n<g id=\"node4\" class=\"node\">\n<title>ECAddR</title>\n<polygon fill=\"none\" stroke=\"black\" points=\"91,-104 91,-121 135,-121 135,-104 91,-104\"/>\n<text text-anchor=\"start\" x=\"94\" y=\"-110\" font-family=\"Times,serif\" font-size=\"10.00\">ECAddR</text>\n<polygon fill=\"none\" stroke=\"black\" points=\"91,-83 91,-104 135,-104 135,-83 91,-83\"/>\n<text text-anchor=\"start\" x=\"103.5\" y=\"-89.8\" font-family=\"Times,serif\" font-size=\"14.00\">ctrl</text>\n<polygon fill=\"none\" stroke=\"black\" points=\"91,-62 91,-83 135,-83 135,-62 91,-62\"/>\n<text text-anchor=\"start\" x=\"109.5\" y=\"-68.8\" font-family=\"Times,serif\" font-size=\"14.00\">x</text>\n<polygon fill=\"none\" stroke=\"black\" points=\"91,-41 91,-62 135,-62 135,-41 91,-41\"/>\n<text text-anchor=\"start\" x=\"109.5\" y=\"-47.8\" font-family=\"Times,serif\" font-size=\"14.00\">y</text>\n</g>\n<!-- ctrl_G0&#45;&gt;ECAddR -->\n<g id=\"edge1\" class=\"edge\">\n<title>ctrl_G0:e-&gt;ECAddR:w</title>\n<path fill=\"none\" stroke=\"black\" d=\"M54,-126C74.89,-126 69.72,-96.45 88.58,-94.14\"/>\n<ellipse fill=\"black\" stroke=\"black\" cx=\"90\" cy=\"-94.06\" rx=\"1\" ry=\"1\"/>\n<text text-anchor=\"middle\" x=\"72.5\" y=\"-113\" font-family=\"Times,serif\" font-size=\"10.00\">1</text>\n</g>\n<!-- x_G7 -->\n<g id=\"node2\" class=\"node\">\n<title>x_G7</title>\n<text text-anchor=\"middle\" x=\"27\" y=\"-68.3\" font-family=\"Times,serif\" font-size=\"14.00\">x</text>\n</g>\n<!-- x_G7&#45;&gt;ECAddR -->\n<g id=\"edge2\" class=\"edge\">\n<title>x_G7:e-&gt;ECAddR:w</title>\n<path fill=\"none\" stroke=\"black\" d=\"M54,-72C69.67,-72 74.14,-72 88.77,-72\"/>\n<ellipse fill=\"black\" stroke=\"black\" cx=\"90\" cy=\"-72\" rx=\"1\" ry=\"1\"/>\n<text text-anchor=\"middle\" x=\"72.5\" y=\"-75\" font-family=\"Times,serif\" font-size=\"10.00\">n</text>\n</g>\n<!-- y_G6 -->\n<g id=\"node3\" class=\"node\">\n<title>y_G6</title>\n<text text-anchor=\"middle\" x=\"27\" y=\"-14.3\" font-family=\"Times,serif\" font-size=\"14.00\">y</text>\n</g>\n<!-- y_G6&#45;&gt;ECAddR -->\n<g id=\"edge3\" class=\"edge\">\n<title>y_G6:e-&gt;ECAddR:w</title>\n<path fill=\"none\" stroke=\"black\" d=\"M54,-18C75.17,-18 69.47,-48.47 88.55,-50.85\"/>\n<ellipse fill=\"black\" stroke=\"black\" cx=\"90\" cy=\"-50.94\" rx=\"1\" ry=\"1\"/>\n<text text-anchor=\"middle\" x=\"72.5\" y=\"-39\" font-family=\"Times,serif\" font-size=\"10.00\">n</text>\n</g>\n<!-- ctrl_G2 -->\n<g id=\"node5\" class=\"node\">\n<title>ctrl_G2</title>\n<text text-anchor=\"middle\" x=\"199\" y=\"-122.3\" font-family=\"Times,serif\" font-size=\"14.00\">ctrl</text>\n</g>\n<!-- ECAddR&#45;&gt;ctrl_G2 -->\n<g id=\"edge4\" class=\"edge\">\n<title>ECAddR:e-&gt;ctrl_G2:w</title>\n<path fill=\"none\" stroke=\"black\" d=\"M135,-94C155.89,-94 150.72,-123.55 169.58,-125.86\"/>\n<ellipse fill=\"black\" stroke=\"black\" cx=\"171\" cy=\"-125.94\" rx=\"1\" ry=\"1\"/>\n<text text-anchor=\"middle\" x=\"153.5\" y=\"-113\" font-family=\"Times,serif\" font-size=\"10.00\">1</text>\n</g>\n<!-- x_G4 -->\n<g id=\"node6\" class=\"node\">\n<title>x_G4</title>\n<text text-anchor=\"middle\" x=\"199\" y=\"-68.3\" font-family=\"Times,serif\" font-size=\"14.00\">x</text>\n</g>\n<!-- ECAddR&#45;&gt;x_G4 -->\n<g id=\"edge5\" class=\"edge\">\n<title>ECAddR:e-&gt;x_G4:w</title>\n<path fill=\"none\" stroke=\"black\" d=\"M135,-72C150.67,-72 155.14,-72 169.77,-72\"/>\n<ellipse fill=\"black\" stroke=\"black\" cx=\"171\" cy=\"-72\" rx=\"1\" ry=\"1\"/>\n<text text-anchor=\"middle\" x=\"153.5\" y=\"-75\" font-family=\"Times,serif\" font-size=\"10.00\">n</text>\n</g>\n<!-- y_G8 -->\n<g id=\"node7\" class=\"node\">\n<title>y_G8</title>\n<text text-anchor=\"middle\" x=\"199\" y=\"-14.3\" font-family=\"Times,serif\" font-size=\"14.00\">y</text>\n</g>\n<!-- ECAddR&#45;&gt;y_G8 -->\n<g id=\"edge6\" class=\"edge\">\n<title>ECAddR:e-&gt;y_G8:w</title>\n<path fill=\"none\" stroke=\"black\" d=\"M135,-51C156.17,-51 150.47,-20.53 169.55,-18.15\"/>\n<ellipse fill=\"black\" stroke=\"black\" cx=\"171\" cy=\"-18.06\" rx=\"1\" ry=\"1\"/>\n<text text-anchor=\"middle\" x=\"153.5\" y=\"-39\" font-family=\"Times,serif\" font-size=\"10.00\">n</text>\n</g>\n</g>\n</svg>",
          "text/plain": "<IPython.core.display.SVG object>"
         },
         "metadata": {},
         "output_type": "display_data"
        }
       ],
       "tabbable": null,
       "tooltip": null
      }
     }
    },
    "version_major": 2,
    "version_minor": 0
   }
  }
 },
 "nbformat": 4,
 "nbformat_minor": 5
}
