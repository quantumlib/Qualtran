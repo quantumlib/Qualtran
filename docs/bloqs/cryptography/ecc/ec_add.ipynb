{
 "cells": [
  {
   "cell_type": "markdown",
   "id": "e29a137f",
   "metadata": {
    "cq.autogen": "title_cell"
   },
   "source": [
    "# Elliptic Curve Addition"
   ]
  },
  {
   "cell_type": "code",
   "execution_count": 1,
   "id": "06da449a",
   "metadata": {
    "cq.autogen": "top_imports"
   },
   "outputs": [],
   "source": [
    "from qualtran import Bloq, CompositeBloq, BloqBuilder, Signature, Register\n",
    "from qualtran import QBit, QInt, QUInt, QAny\n",
    "from qualtran.drawing import show_bloq, show_call_graph, show_counts_sigma\n",
    "from typing import *\n",
    "import numpy as np\n",
    "import sympy\n",
    "import cirq"
   ]
  },
  {
   "cell_type": "markdown",
   "id": "dc1d3b04",
   "metadata": {
    "cq.autogen": "ECAdd.bloq_doc.md"
   },
   "source": [
    "## `ECAdd`\n",
    "Add two elliptic curve points.\n",
    "\n",
    "This takes elliptic curve points given by (a, b) and (x, y)\n",
    "and outputs the sum (x_r, y_r) in the second pair of registers.\n",
    "\n",
    "Because the decomposition of this Bloq is complex, we split it into six separate parts\n",
    "corresponding to the parts described in figure 10 of the Litinski paper cited below. We follow\n",
    "the signature from figure 5 and break down the further decompositions based on the steps in\n",
    "figure 10.\n",
    "\n",
    "#### Parameters\n",
    " - `n`: The bitsize of the two registers storing the elliptic curve point\n",
    " - `mod`: The modulus of the field in which we do the addition.\n",
    " - `window_size`: The number of bits in the ModMult window. \n",
    "\n",
    "#### Registers\n",
    " - `a`: The x component of the first input elliptic curve point of bitsize `n` in montgomery form.\n",
    " - `b`: The y component of the first input elliptic curve point of bitsize `n` in montgomery form.\n",
    " - `x`: The x component of the second input elliptic curve point of bitsize `n` in montgomery form, which will contain the x component of the resultant curve point.\n",
    " - `y`: The y component of the second input elliptic curve point of bitsize `n` in montgomery form, which will contain the y component of the resultant curve point.\n",
    " - `lam_r`: The precomputed lambda slope used in the addition operation if (a, b) = (x, y) in montgomery form. \n",
    "\n",
    "#### References\n",
    " - [How to compute a 256-bit elliptic curve private key with only 50 million Toffoli gates](https://arxiv.org/abs/2306.08585). Litinski. 2023. Fig 5.\n"
   ]
  },
  {
   "cell_type": "code",
   "execution_count": 2,
   "id": "68605201",
   "metadata": {
    "cq.autogen": "ECAdd.bloq_doc.py"
   },
   "outputs": [],
   "source": [
    "from qualtran.bloqs.cryptography.ecc import ECAdd"
   ]
  },
  {
   "cell_type": "markdown",
   "id": "bba2f42d",
   "metadata": {
    "cq.autogen": "ECAdd.example_instances.md"
   },
   "source": [
    "### Example Instances"
   ]
  },
  {
   "cell_type": "code",
   "execution_count": 3,
   "id": "0d051c3b",
   "metadata": {
    "cq.autogen": "ECAdd.ec_add"
   },
   "outputs": [],
   "source": [
    "n, p = sympy.symbols('n p')\n",
    "ec_add = ECAdd(n, mod=p)"
   ]
  },
  {
   "cell_type": "code",
   "execution_count": 4,
   "id": "170da165",
   "metadata": {
    "cq.autogen": "ECAdd.ec_add_small"
   },
   "outputs": [],
   "source": [
    "ec_add_small = ECAdd(5, mod=7)"
   ]
  },
  {
   "cell_type": "markdown",
   "id": "39210af4",
   "metadata": {
    "cq.autogen": "ECAdd.graphical_signature.md"
   },
   "source": [
    "#### Graphical Signature"
   ]
  },
  {
   "cell_type": "code",
   "execution_count": 5,
   "id": "d353f0ec",
   "metadata": {
    "cq.autogen": "ECAdd.graphical_signature.py"
   },
   "outputs": [
    {
     "data": {
      "application/vnd.jupyter.widget-view+json": {
       "model_id": "9bebea376f4a438a8b0cfd25c476d503",
       "version_major": 2,
       "version_minor": 0
      },
      "text/plain": [
       "HBox(children=(Output(outputs=({'output_type': 'display_data', 'data': {'text/plain': '<IPython.core.display.M…"
      ]
     },
     "metadata": {},
     "output_type": "display_data"
    }
   ],
   "source": [
    "from qualtran.drawing import show_bloqs\n",
    "show_bloqs([ec_add, ec_add_small],\n",
    "           ['`ec_add`', '`ec_add_small`'])"
   ]
  },
  {
   "cell_type": "markdown",
   "id": "d7fcd725",
   "metadata": {
    "cq.autogen": "ECAdd.call_graph.md"
   },
   "source": [
    "### Call Graph"
   ]
  },
  {
   "cell_type": "code",
   "execution_count": 6,
   "id": "976398e1",
   "metadata": {
    "cq.autogen": "ECAdd.call_graph.py"
   },
   "outputs": [
    {
     "data": {
      "image/svg+xml": [
       "<svg xmlns=\"http://www.w3.org/2000/svg\" xmlns:xlink=\"http://www.w3.org/1999/xlink\" width=\"706pt\" height=\"131pt\" viewBox=\"0.00 0.00 706.00 131.00\">\n",
       "<g id=\"graph0\" class=\"graph\" transform=\"scale(1 1) rotate(0) translate(4 127)\">\n",
       "<title>counts</title>\n",
       "<polygon fill=\"white\" stroke=\"transparent\" points=\"-4,4 -4,-127 702,-127 702,4 -4,4\"/>\n",
       "<!-- b0 -->\n",
       "<g id=\"node1\" class=\"node\">\n",
       "<title>b0</title>\n",
       "<polygon fill=\"none\" stroke=\"black\" points=\"330,-93 330,-116 374,-116 374,-93 330,-93\"/>\n",
       "<text text-anchor=\"start\" x=\"336.5\" y=\"-102\" font-family=\"Times,serif\" font-size=\"10.00\">ECAdd</text>\n",
       "</g>\n",
       "<!-- b1 -->\n",
       "<g id=\"node2\" class=\"node\">\n",
       "<title>b1</title>\n",
       "<polygon fill=\"none\" stroke=\"black\" points=\"8,-6 8,-29 92,-29 92,-6 8,-6\"/>\n",
       "<text text-anchor=\"start\" x=\"14\" y=\"-15\" font-family=\"Times,serif\" font-size=\"10.00\">_ECAddStepOne</text>\n",
       "</g>\n",
       "<!-- b0&#45;&gt;b1 -->\n",
       "<g id=\"edge1\" class=\"edge\">\n",
       "<title>b0-&gt;b1</title>\n",
       "<path fill=\"none\" stroke=\"black\" d=\"M321.67,-95.59C277.42,-83.31 192.29,-59.62 109.97,-36.27\"/>\n",
       "<polygon fill=\"black\" stroke=\"black\" points=\"110.78,-32.86 100.2,-33.49 108.87,-39.59 110.78,-32.86\"/>\n",
       "<text text-anchor=\"middle\" x=\"226.5\" y=\"-57.8\" font-family=\"Times,serif\" font-size=\"14.00\">1</text>\n",
       "</g>\n",
       "<!-- b2 -->\n",
       "<g id=\"node3\" class=\"node\">\n",
       "<title>b2</title>\n",
       "<polygon fill=\"none\" stroke=\"black\" points=\"126,-6 126,-29 212,-29 212,-6 126,-6\"/>\n",
       "<text text-anchor=\"start\" x=\"132.5\" y=\"-15\" font-family=\"Times,serif\" font-size=\"10.00\">_ECAddStepTwo</text>\n",
       "</g>\n",
       "<!-- b0&#45;&gt;b2 -->\n",
       "<g id=\"edge2\" class=\"edge\">\n",
       "<title>b0-&gt;b2</title>\n",
       "<path fill=\"none\" stroke=\"black\" d=\"M321.78,-89.96C292.74,-76.47 248.45,-55.9 215.02,-40.37\"/>\n",
       "<polygon fill=\"black\" stroke=\"black\" points=\"216.44,-37.18 205.9,-36.14 213.49,-43.53 216.44,-37.18\"/>\n",
       "<text text-anchor=\"middle\" x=\"275.5\" y=\"-57.8\" font-family=\"Times,serif\" font-size=\"14.00\">1</text>\n",
       "</g>\n",
       "<!-- b3 -->\n",
       "<g id=\"node4\" class=\"node\">\n",
       "<title>b3</title>\n",
       "<polygon fill=\"none\" stroke=\"black\" points=\"246,-6 246,-29 336,-29 336,-6 246,-6\"/>\n",
       "<text text-anchor=\"start\" x=\"252\" y=\"-15\" font-family=\"Times,serif\" font-size=\"10.00\">_ECAddStepThree</text>\n",
       "</g>\n",
       "<!-- b0&#45;&gt;b3 -->\n",
       "<g id=\"edge3\" class=\"edge\">\n",
       "<title>b0-&gt;b3</title>\n",
       "<path fill=\"none\" stroke=\"black\" d=\"M339.66,-86.8C330.97,-74.7 319.21,-58.3 309.42,-44.67\"/>\n",
       "<polygon fill=\"black\" stroke=\"black\" points=\"312,-42.26 303.33,-36.18 306.31,-46.34 312,-42.26\"/>\n",
       "<text text-anchor=\"middle\" x=\"329.5\" y=\"-57.8\" font-family=\"Times,serif\" font-size=\"14.00\">1</text>\n",
       "</g>\n",
       "<!-- b4 -->\n",
       "<g id=\"node5\" class=\"node\">\n",
       "<title>b4</title>\n",
       "<polygon fill=\"none\" stroke=\"black\" points=\"370,-6 370,-29 456,-29 456,-6 370,-6\"/>\n",
       "<text text-anchor=\"start\" x=\"376.5\" y=\"-15\" font-family=\"Times,serif\" font-size=\"10.00\">_ECAddStepFour</text>\n",
       "</g>\n",
       "<!-- b0&#45;&gt;b4 -->\n",
       "<g id=\"edge4\" class=\"edge\">\n",
       "<title>b0-&gt;b4</title>\n",
       "<path fill=\"none\" stroke=\"black\" d=\"M364.34,-86.8C373.03,-74.7 384.79,-58.3 394.58,-44.67\"/>\n",
       "<polygon fill=\"black\" stroke=\"black\" points=\"397.69,-46.34 400.67,-36.18 392,-42.26 397.69,-46.34\"/>\n",
       "<text text-anchor=\"middle\" x=\"390.5\" y=\"-57.8\" font-family=\"Times,serif\" font-size=\"14.00\">1</text>\n",
       "</g>\n",
       "<!-- b5 -->\n",
       "<g id=\"node6\" class=\"node\">\n",
       "<title>b5</title>\n",
       "<polygon fill=\"none\" stroke=\"black\" points=\"490,-6 490,-29 576,-29 576,-6 490,-6\"/>\n",
       "<text text-anchor=\"start\" x=\"496.5\" y=\"-15\" font-family=\"Times,serif\" font-size=\"10.00\">_ECAddStepFive</text>\n",
       "</g>\n",
       "<!-- b0&#45;&gt;b5 -->\n",
       "<g id=\"edge5\" class=\"edge\">\n",
       "<title>b0-&gt;b5</title>\n",
       "<path fill=\"none\" stroke=\"black\" d=\"M382.3,-89.77C410.96,-76.31 454.39,-55.92 487.27,-40.48\"/>\n",
       "<polygon fill=\"black\" stroke=\"black\" points=\"489.11,-43.48 496.67,-36.06 486.13,-37.14 489.11,-43.48\"/>\n",
       "<text text-anchor=\"middle\" x=\"457.5\" y=\"-57.8\" font-family=\"Times,serif\" font-size=\"14.00\">1</text>\n",
       "</g>\n",
       "<!-- b6 -->\n",
       "<g id=\"node7\" class=\"node\">\n",
       "<title>b6</title>\n",
       "<polygon fill=\"none\" stroke=\"black\" points=\"610,-6 610,-29 690,-29 690,-6 610,-6\"/>\n",
       "<text text-anchor=\"start\" x=\"616\" y=\"-15\" font-family=\"Times,serif\" font-size=\"10.00\">_ECAddStepSix</text>\n",
       "</g>\n",
       "<!-- b0&#45;&gt;b6 -->\n",
       "<g id=\"edge6\" class=\"edge\">\n",
       "<title>b0-&gt;b6</title>\n",
       "<path fill=\"none\" stroke=\"black\" d=\"M382.1,-95.66C425.97,-83.48 510.3,-59.92 591.88,-36.31\"/>\n",
       "<polygon fill=\"black\" stroke=\"black\" points=\"593.18,-39.57 601.81,-33.43 591.23,-32.85 593.18,-39.57\"/>\n",
       "<text text-anchor=\"middle\" x=\"529.5\" y=\"-57.8\" font-family=\"Times,serif\" font-size=\"14.00\">1</text>\n",
       "</g>\n",
       "</g>\n",
       "</svg>"
      ],
      "text/plain": [
       "<IPython.core.display.SVG object>"
      ]
     },
     "metadata": {},
     "output_type": "display_data"
    },
    {
     "data": {
      "text/markdown": [
       "#### Counts totals:\n",
       " - `_ECAddStepFive`: 1\n",
       " - `_ECAddStepFour`: 1\n",
       " - `_ECAddStepOne`: 1\n",
       " - `_ECAddStepSix`: 1\n",
       " - `_ECAddStepThree`: 1\n",
       " - `_ECAddStepTwo`: 1"
      ],
      "text/plain": [
       "<IPython.core.display.Markdown object>"
      ]
     },
     "metadata": {},
     "output_type": "display_data"
    }
   ],
   "source": [
    "from qualtran.resource_counting.generalizers import ignore_split_join\n",
    "ec_add_g, ec_add_sigma = ec_add.call_graph(max_depth=1, generalizer=ignore_split_join)\n",
    "show_call_graph(ec_add_g)\n",
    "show_counts_sigma(ec_add_sigma)"
   ]
  }
 ],
 "metadata": {
  "kernelspec": {
   "display_name": "Python 3 (ipykernel)",
   "language": "python",
   "name": "python3"
  },
  "language_info": {
   "codemirror_mode": {
    "name": "ipython",
    "version": 3
   },
   "file_extension": ".py",
   "mimetype": "text/x-python",
   "name": "python",
   "nbconvert_exporter": "python",
   "pygments_lexer": "ipython3",
   "version": "3.11.8"
  },
  "widgets": {
   "application/vnd.jupyter.widget-state+json": {
    "state": {
     "1e7db0a3a9134a50acdfc6a37ee7481e": {
      "model_module": "@jupyter-widgets/base",
      "model_module_version": "2.0.0",
      "model_name": "LayoutModel",
      "state": {
       "_model_module": "@jupyter-widgets/base",
       "_model_module_version": "2.0.0",
       "_model_name": "LayoutModel",
       "_view_count": null,
       "_view_module": "@jupyter-widgets/base",
       "_view_module_version": "2.0.0",
       "_view_name": "LayoutView",
       "align_content": null,
       "align_items": null,
       "align_self": null,
       "border_bottom": null,
       "border_left": null,
       "border_right": null,
       "border_top": null,
       "bottom": null,
       "display": null,
       "flex": null,
       "flex_flow": null,
       "grid_area": null,
       "grid_auto_columns": null,
       "grid_auto_flow": null,
       "grid_auto_rows": null,
       "grid_column": null,
       "grid_gap": null,
       "grid_row": null,
       "grid_template_areas": null,
       "grid_template_columns": null,
       "grid_template_rows": null,
       "height": null,
       "justify_content": null,
       "justify_items": null,
       "left": null,
       "margin": null,
       "max_height": null,
       "max_width": null,
       "min_height": null,
       "min_width": null,
       "object_fit": null,
       "object_position": null,
       "order": null,
       "overflow": null,
       "padding": null,
       "right": null,
       "top": null,
       "visibility": null,
       "width": null
      }
     },
     "55d4076d59294156a544b0fd4d2beccd": {
      "model_module": "@jupyter-widgets/output",
      "model_module_version": "1.0.0",
      "model_name": "OutputModel",
      "state": {
       "_dom_classes": [],
       "_model_module": "@jupyter-widgets/output",
       "_model_module_version": "1.0.0",
       "_model_name": "OutputModel",
       "_view_count": null,
       "_view_module": "@jupyter-widgets/output",
       "_view_module_version": "1.0.0",
       "_view_name": "OutputView",
       "layout": "IPY_MODEL_88c0109a6aab489baaa012f0888f4f78",
       "msg_id": "",
       "outputs": [
        {
         "data": {
          "text/markdown": "`ec_add_small`",
          "text/plain": "<IPython.core.display.Markdown object>"
         },
         "metadata": {},
         "output_type": "display_data"
        },
        {
         "data": {
          "image/svg+xml": "<svg xmlns=\"http://www.w3.org/2000/svg\" xmlns:xlink=\"http://www.w3.org/1999/xlink\" width=\"229pt\" height=\"260pt\" viewBox=\"0.00 0.00 229.00 260.00\">\n<g id=\"graph0\" class=\"graph\" transform=\"scale(1 1) rotate(0) translate(4 256)\">\n<title>my_graph</title>\n<polygon fill=\"white\" stroke=\"transparent\" points=\"-4,4 -4,-256 225,-256 225,4 -4,4\"/>\n<!-- a_G5 -->\n<g id=\"node1\" class=\"node\">\n<title>a_G5</title>\n<text text-anchor=\"middle\" x=\"27\" y=\"-230.3\" font-family=\"Times,serif\" font-size=\"14.00\">a</text>\n</g>\n<!-- ECAdd -->\n<g id=\"node6\" class=\"node\">\n<title>ECAdd</title>\n<polygon fill=\"none\" stroke=\"black\" points=\"91.5,-179 91.5,-196 130.5,-196 130.5,-179 91.5,-179\"/>\n<text text-anchor=\"start\" x=\"95.5\" y=\"-185\" font-family=\"Times,serif\" font-size=\"10.00\">ECAdd</text>\n<polygon fill=\"none\" stroke=\"black\" points=\"91.5,-158 91.5,-179 130.5,-179 130.5,-158 91.5,-158\"/>\n<text text-anchor=\"start\" x=\"107.5\" y=\"-164.8\" font-family=\"Times,serif\" font-size=\"14.00\">a</text>\n<polygon fill=\"none\" stroke=\"black\" points=\"91.5,-137 91.5,-158 130.5,-158 130.5,-137 91.5,-137\"/>\n<text text-anchor=\"start\" x=\"107.5\" y=\"-143.8\" font-family=\"Times,serif\" font-size=\"14.00\">b</text>\n<polygon fill=\"none\" stroke=\"black\" points=\"91.5,-116 91.5,-137 130.5,-137 130.5,-116 91.5,-116\"/>\n<text text-anchor=\"start\" x=\"107.5\" y=\"-122.8\" font-family=\"Times,serif\" font-size=\"14.00\">x</text>\n<polygon fill=\"none\" stroke=\"black\" points=\"91.5,-95 91.5,-116 130.5,-116 130.5,-95 91.5,-95\"/>\n<text text-anchor=\"start\" x=\"107.5\" y=\"-101.8\" font-family=\"Times,serif\" font-size=\"14.00\">y</text>\n<polygon fill=\"none\" stroke=\"black\" points=\"91.5,-74 91.5,-95 130.5,-95 130.5,-74 91.5,-74\"/>\n<text text-anchor=\"start\" x=\"94.5\" y=\"-80.8\" font-family=\"Times,serif\" font-size=\"14.00\">lam_r</text>\n</g>\n<!-- a_G5&#45;&gt;ECAdd -->\n<g id=\"edge1\" class=\"edge\">\n<title>a_G5:e-&gt;ECAdd:w</title>\n<path fill=\"none\" stroke=\"black\" d=\"M54,-234C86.46,-234 59.11,-172.01 88.76,-169.11\"/>\n<ellipse fill=\"black\" stroke=\"black\" cx=\"90\" cy=\"-169.05\" rx=\"1\" ry=\"1\"/>\n<text text-anchor=\"middle\" x=\"72.5\" y=\"-210\" font-family=\"Times,serif\" font-size=\"10.00\">5</text>\n</g>\n<!-- b_G1 -->\n<g id=\"node2\" class=\"node\">\n<title>b_G1</title>\n<text text-anchor=\"middle\" x=\"27\" y=\"-176.3\" font-family=\"Times,serif\" font-size=\"14.00\">b</text>\n</g>\n<!-- b_G1&#45;&gt;ECAdd -->\n<g id=\"edge2\" class=\"edge\">\n<title>b_G1:e-&gt;ECAdd:w</title>\n<path fill=\"none\" stroke=\"black\" d=\"M54,-180C74.89,-180 69.72,-150.45 88.58,-148.14\"/>\n<ellipse fill=\"black\" stroke=\"black\" cx=\"90\" cy=\"-148.06\" rx=\"1\" ry=\"1\"/>\n<text text-anchor=\"middle\" x=\"72.5\" y=\"-167\" font-family=\"Times,serif\" font-size=\"10.00\">5</text>\n</g>\n<!-- x_G0 -->\n<g id=\"node3\" class=\"node\">\n<title>x_G0</title>\n<text text-anchor=\"middle\" x=\"27\" y=\"-122.3\" font-family=\"Times,serif\" font-size=\"14.00\">x</text>\n</g>\n<!-- x_G0&#45;&gt;ECAdd -->\n<g id=\"edge3\" class=\"edge\">\n<title>x_G0:e-&gt;ECAdd:w</title>\n<path fill=\"none\" stroke=\"black\" d=\"M54,-126C69.67,-126 74.14,-126 88.77,-126\"/>\n<ellipse fill=\"black\" stroke=\"black\" cx=\"90\" cy=\"-126\" rx=\"1\" ry=\"1\"/>\n<text text-anchor=\"middle\" x=\"72.5\" y=\"-129\" font-family=\"Times,serif\" font-size=\"10.00\">5</text>\n</g>\n<!-- y_G6 -->\n<g id=\"node4\" class=\"node\">\n<title>y_G6</title>\n<text text-anchor=\"middle\" x=\"27\" y=\"-68.3\" font-family=\"Times,serif\" font-size=\"14.00\">y</text>\n</g>\n<!-- y_G6&#45;&gt;ECAdd -->\n<g id=\"edge4\" class=\"edge\">\n<title>y_G6:e-&gt;ECAdd:w</title>\n<path fill=\"none\" stroke=\"black\" d=\"M54,-72C75.17,-72 69.47,-102.47 88.55,-104.85\"/>\n<ellipse fill=\"black\" stroke=\"black\" cx=\"90\" cy=\"-104.94\" rx=\"1\" ry=\"1\"/>\n<text text-anchor=\"middle\" x=\"72.5\" y=\"-92\" font-family=\"Times,serif\" font-size=\"10.00\">5</text>\n</g>\n<!-- lam_r_G2 -->\n<g id=\"node5\" class=\"node\">\n<title>lam_r_G2</title>\n<text text-anchor=\"middle\" x=\"27\" y=\"-14.3\" font-family=\"Times,serif\" font-size=\"14.00\">lam_r</text>\n</g>\n<!-- lam_r_G2&#45;&gt;ECAdd -->\n<g id=\"edge5\" class=\"edge\">\n<title>lam_r_G2:e-&gt;ECAdd:w</title>\n<path fill=\"none\" stroke=\"black\" d=\"M54,-18C86.84,-18 58.75,-80.94 88.74,-83.89\"/>\n<ellipse fill=\"black\" stroke=\"black\" cx=\"90\" cy=\"-83.95\" rx=\"1\" ry=\"1\"/>\n<text text-anchor=\"middle\" x=\"72.5\" y=\"-62\" font-family=\"Times,serif\" font-size=\"10.00\">5</text>\n</g>\n<!-- a_G12 -->\n<g id=\"node7\" class=\"node\">\n<title>a_G12</title>\n<text text-anchor=\"middle\" x=\"194\" y=\"-230.3\" font-family=\"Times,serif\" font-size=\"14.00\">a</text>\n</g>\n<!-- ECAdd&#45;&gt;a_G12 -->\n<g id=\"edge6\" class=\"edge\">\n<title>ECAdd:e-&gt;a_G12:w</title>\n<path fill=\"none\" stroke=\"black\" d=\"M130,-169C162.46,-169 135.11,-230.99 164.76,-233.89\"/>\n<ellipse fill=\"black\" stroke=\"black\" cx=\"166\" cy=\"-233.95\" rx=\"1\" ry=\"1\"/>\n<text text-anchor=\"middle\" x=\"148.5\" y=\"-210\" font-family=\"Times,serif\" font-size=\"10.00\">5</text>\n</g>\n<!-- b_G9 -->\n<g id=\"node8\" class=\"node\">\n<title>b_G9</title>\n<text text-anchor=\"middle\" x=\"194\" y=\"-176.3\" font-family=\"Times,serif\" font-size=\"14.00\">b</text>\n</g>\n<!-- ECAdd&#45;&gt;b_G9 -->\n<g id=\"edge7\" class=\"edge\">\n<title>ECAdd:e-&gt;b_G9:w</title>\n<path fill=\"none\" stroke=\"black\" d=\"M130,-148C150.89,-148 145.72,-177.55 164.58,-179.86\"/>\n<ellipse fill=\"black\" stroke=\"black\" cx=\"166\" cy=\"-179.94\" rx=\"1\" ry=\"1\"/>\n<text text-anchor=\"middle\" x=\"148.5\" y=\"-167\" font-family=\"Times,serif\" font-size=\"10.00\">5</text>\n</g>\n<!-- x_G11 -->\n<g id=\"node9\" class=\"node\">\n<title>x_G11</title>\n<text text-anchor=\"middle\" x=\"194\" y=\"-122.3\" font-family=\"Times,serif\" font-size=\"14.00\">x</text>\n</g>\n<!-- ECAdd&#45;&gt;x_G11 -->\n<g id=\"edge8\" class=\"edge\">\n<title>ECAdd:e-&gt;x_G11:w</title>\n<path fill=\"none\" stroke=\"black\" d=\"M130,-126C145.67,-126 150.14,-126 164.77,-126\"/>\n<ellipse fill=\"black\" stroke=\"black\" cx=\"166\" cy=\"-126\" rx=\"1\" ry=\"1\"/>\n<text text-anchor=\"middle\" x=\"148.5\" y=\"-129\" font-family=\"Times,serif\" font-size=\"10.00\">5</text>\n</g>\n<!-- y_G8 -->\n<g id=\"node10\" class=\"node\">\n<title>y_G8</title>\n<text text-anchor=\"middle\" x=\"194\" y=\"-68.3\" font-family=\"Times,serif\" font-size=\"14.00\">y</text>\n</g>\n<!-- ECAdd&#45;&gt;y_G8 -->\n<g id=\"edge9\" class=\"edge\">\n<title>ECAdd:e-&gt;y_G8:w</title>\n<path fill=\"none\" stroke=\"black\" d=\"M130,-105C151.17,-105 145.47,-74.53 164.55,-72.15\"/>\n<ellipse fill=\"black\" stroke=\"black\" cx=\"166\" cy=\"-72.06\" rx=\"1\" ry=\"1\"/>\n<text text-anchor=\"middle\" x=\"148.5\" y=\"-92\" font-family=\"Times,serif\" font-size=\"10.00\">5</text>\n</g>\n<!-- lam_r_G4 -->\n<g id=\"node11\" class=\"node\">\n<title>lam_r_G4</title>\n<text text-anchor=\"middle\" x=\"194\" y=\"-14.3\" font-family=\"Times,serif\" font-size=\"14.00\">lam_r</text>\n</g>\n<!-- ECAdd&#45;&gt;lam_r_G4 -->\n<g id=\"edge10\" class=\"edge\">\n<title>ECAdd:e-&gt;lam_r_G4:w</title>\n<path fill=\"none\" stroke=\"black\" d=\"M130,-84C162.84,-84 134.75,-21.06 164.74,-18.11\"/>\n<ellipse fill=\"black\" stroke=\"black\" cx=\"166\" cy=\"-18.05\" rx=\"1\" ry=\"1\"/>\n<text text-anchor=\"middle\" x=\"148.5\" y=\"-62\" font-family=\"Times,serif\" font-size=\"10.00\">5</text>\n</g>\n</g>\n</svg>",
          "text/plain": "<IPython.core.display.SVG object>"
         },
         "metadata": {},
         "output_type": "display_data"
        }
       ],
       "tabbable": null,
       "tooltip": null
      }
     },
     "63ce81e43bd54c17af396adcf026f47c": {
      "model_module": "@jupyter-widgets/output",
      "model_module_version": "1.0.0",
      "model_name": "OutputModel",
      "state": {
       "_dom_classes": [],
       "_model_module": "@jupyter-widgets/output",
       "_model_module_version": "1.0.0",
       "_model_name": "OutputModel",
       "_view_count": null,
       "_view_module": "@jupyter-widgets/output",
       "_view_module_version": "1.0.0",
       "_view_name": "OutputView",
       "layout": "IPY_MODEL_7ceff33feeac4bd68a74bea514afea8a",
       "msg_id": "",
       "outputs": [
        {
         "data": {
          "text/markdown": "`ec_add`",
          "text/plain": "<IPython.core.display.Markdown object>"
         },
         "metadata": {},
         "output_type": "display_data"
        },
        {
         "data": {
          "image/svg+xml": "<svg xmlns=\"http://www.w3.org/2000/svg\" xmlns:xlink=\"http://www.w3.org/1999/xlink\" width=\"229pt\" height=\"260pt\" viewBox=\"0.00 0.00 229.00 260.00\">\n<g id=\"graph0\" class=\"graph\" transform=\"scale(1 1) rotate(0) translate(4 256)\">\n<title>my_graph</title>\n<polygon fill=\"white\" stroke=\"transparent\" points=\"-4,4 -4,-256 225,-256 225,4 -4,4\"/>\n<!-- a_G2 -->\n<g id=\"node1\" class=\"node\">\n<title>a_G2</title>\n<text text-anchor=\"middle\" x=\"27\" y=\"-230.3\" font-family=\"Times,serif\" font-size=\"14.00\">a</text>\n</g>\n<!-- ECAdd -->\n<g id=\"node6\" class=\"node\">\n<title>ECAdd</title>\n<polygon fill=\"none\" stroke=\"black\" points=\"91.5,-179 91.5,-196 130.5,-196 130.5,-179 91.5,-179\"/>\n<text text-anchor=\"start\" x=\"95.5\" y=\"-185\" font-family=\"Times,serif\" font-size=\"10.00\">ECAdd</text>\n<polygon fill=\"none\" stroke=\"black\" points=\"91.5,-158 91.5,-179 130.5,-179 130.5,-158 91.5,-158\"/>\n<text text-anchor=\"start\" x=\"107.5\" y=\"-164.8\" font-family=\"Times,serif\" font-size=\"14.00\">a</text>\n<polygon fill=\"none\" stroke=\"black\" points=\"91.5,-137 91.5,-158 130.5,-158 130.5,-137 91.5,-137\"/>\n<text text-anchor=\"start\" x=\"107.5\" y=\"-143.8\" font-family=\"Times,serif\" font-size=\"14.00\">b</text>\n<polygon fill=\"none\" stroke=\"black\" points=\"91.5,-116 91.5,-137 130.5,-137 130.5,-116 91.5,-116\"/>\n<text text-anchor=\"start\" x=\"107.5\" y=\"-122.8\" font-family=\"Times,serif\" font-size=\"14.00\">x</text>\n<polygon fill=\"none\" stroke=\"black\" points=\"91.5,-95 91.5,-116 130.5,-116 130.5,-95 91.5,-95\"/>\n<text text-anchor=\"start\" x=\"107.5\" y=\"-101.8\" font-family=\"Times,serif\" font-size=\"14.00\">y</text>\n<polygon fill=\"none\" stroke=\"black\" points=\"91.5,-74 91.5,-95 130.5,-95 130.5,-74 91.5,-74\"/>\n<text text-anchor=\"start\" x=\"94.5\" y=\"-80.8\" font-family=\"Times,serif\" font-size=\"14.00\">lam_r</text>\n</g>\n<!-- a_G2&#45;&gt;ECAdd -->\n<g id=\"edge1\" class=\"edge\">\n<title>a_G2:e-&gt;ECAdd:w</title>\n<path fill=\"none\" stroke=\"black\" d=\"M54,-234C86.46,-234 59.11,-172.01 88.76,-169.11\"/>\n<ellipse fill=\"black\" stroke=\"black\" cx=\"90\" cy=\"-169.05\" rx=\"1\" ry=\"1\"/>\n<text text-anchor=\"middle\" x=\"72.5\" y=\"-210\" font-family=\"Times,serif\" font-size=\"10.00\">n</text>\n</g>\n<!-- b_G7 -->\n<g id=\"node2\" class=\"node\">\n<title>b_G7</title>\n<text text-anchor=\"middle\" x=\"27\" y=\"-176.3\" font-family=\"Times,serif\" font-size=\"14.00\">b</text>\n</g>\n<!-- b_G7&#45;&gt;ECAdd -->\n<g id=\"edge2\" class=\"edge\">\n<title>b_G7:e-&gt;ECAdd:w</title>\n<path fill=\"none\" stroke=\"black\" d=\"M54,-180C74.89,-180 69.72,-150.45 88.58,-148.14\"/>\n<ellipse fill=\"black\" stroke=\"black\" cx=\"90\" cy=\"-148.06\" rx=\"1\" ry=\"1\"/>\n<text text-anchor=\"middle\" x=\"72.5\" y=\"-167\" font-family=\"Times,serif\" font-size=\"10.00\">n</text>\n</g>\n<!-- x_G5 -->\n<g id=\"node3\" class=\"node\">\n<title>x_G5</title>\n<text text-anchor=\"middle\" x=\"27\" y=\"-122.3\" font-family=\"Times,serif\" font-size=\"14.00\">x</text>\n</g>\n<!-- x_G5&#45;&gt;ECAdd -->\n<g id=\"edge3\" class=\"edge\">\n<title>x_G5:e-&gt;ECAdd:w</title>\n<path fill=\"none\" stroke=\"black\" d=\"M54,-126C69.67,-126 74.14,-126 88.77,-126\"/>\n<ellipse fill=\"black\" stroke=\"black\" cx=\"90\" cy=\"-126\" rx=\"1\" ry=\"1\"/>\n<text text-anchor=\"middle\" x=\"72.5\" y=\"-129\" font-family=\"Times,serif\" font-size=\"10.00\">n</text>\n</g>\n<!-- y_G1 -->\n<g id=\"node4\" class=\"node\">\n<title>y_G1</title>\n<text text-anchor=\"middle\" x=\"27\" y=\"-68.3\" font-family=\"Times,serif\" font-size=\"14.00\">y</text>\n</g>\n<!-- y_G1&#45;&gt;ECAdd -->\n<g id=\"edge4\" class=\"edge\">\n<title>y_G1:e-&gt;ECAdd:w</title>\n<path fill=\"none\" stroke=\"black\" d=\"M54,-72C75.17,-72 69.47,-102.47 88.55,-104.85\"/>\n<ellipse fill=\"black\" stroke=\"black\" cx=\"90\" cy=\"-104.94\" rx=\"1\" ry=\"1\"/>\n<text text-anchor=\"middle\" x=\"72.5\" y=\"-92\" font-family=\"Times,serif\" font-size=\"10.00\">n</text>\n</g>\n<!-- lam_r_G0 -->\n<g id=\"node5\" class=\"node\">\n<title>lam_r_G0</title>\n<text text-anchor=\"middle\" x=\"27\" y=\"-14.3\" font-family=\"Times,serif\" font-size=\"14.00\">lam_r</text>\n</g>\n<!-- lam_r_G0&#45;&gt;ECAdd -->\n<g id=\"edge5\" class=\"edge\">\n<title>lam_r_G0:e-&gt;ECAdd:w</title>\n<path fill=\"none\" stroke=\"black\" d=\"M54,-18C86.84,-18 58.75,-80.94 88.74,-83.89\"/>\n<ellipse fill=\"black\" stroke=\"black\" cx=\"90\" cy=\"-83.95\" rx=\"1\" ry=\"1\"/>\n<text text-anchor=\"middle\" x=\"72.5\" y=\"-62\" font-family=\"Times,serif\" font-size=\"10.00\">n</text>\n</g>\n<!-- a_G14 -->\n<g id=\"node7\" class=\"node\">\n<title>a_G14</title>\n<text text-anchor=\"middle\" x=\"194\" y=\"-230.3\" font-family=\"Times,serif\" font-size=\"14.00\">a</text>\n</g>\n<!-- ECAdd&#45;&gt;a_G14 -->\n<g id=\"edge6\" class=\"edge\">\n<title>ECAdd:e-&gt;a_G14:w</title>\n<path fill=\"none\" stroke=\"black\" d=\"M130,-169C162.46,-169 135.11,-230.99 164.76,-233.89\"/>\n<ellipse fill=\"black\" stroke=\"black\" cx=\"166\" cy=\"-233.95\" rx=\"1\" ry=\"1\"/>\n<text text-anchor=\"middle\" x=\"148.5\" y=\"-210\" font-family=\"Times,serif\" font-size=\"10.00\">n</text>\n</g>\n<!-- b_G9 -->\n<g id=\"node8\" class=\"node\">\n<title>b_G9</title>\n<text text-anchor=\"middle\" x=\"194\" y=\"-176.3\" font-family=\"Times,serif\" font-size=\"14.00\">b</text>\n</g>\n<!-- ECAdd&#45;&gt;b_G9 -->\n<g id=\"edge7\" class=\"edge\">\n<title>ECAdd:e-&gt;b_G9:w</title>\n<path fill=\"none\" stroke=\"black\" d=\"M130,-148C150.89,-148 145.72,-177.55 164.58,-179.86\"/>\n<ellipse fill=\"black\" stroke=\"black\" cx=\"166\" cy=\"-179.94\" rx=\"1\" ry=\"1\"/>\n<text text-anchor=\"middle\" x=\"148.5\" y=\"-167\" font-family=\"Times,serif\" font-size=\"10.00\">n</text>\n</g>\n<!-- x_G6 -->\n<g id=\"node9\" class=\"node\">\n<title>x_G6</title>\n<text text-anchor=\"middle\" x=\"194\" y=\"-122.3\" font-family=\"Times,serif\" font-size=\"14.00\">x</text>\n</g>\n<!-- ECAdd&#45;&gt;x_G6 -->\n<g id=\"edge8\" class=\"edge\">\n<title>ECAdd:e-&gt;x_G6:w</title>\n<path fill=\"none\" stroke=\"black\" d=\"M130,-126C145.67,-126 150.14,-126 164.77,-126\"/>\n<ellipse fill=\"black\" stroke=\"black\" cx=\"166\" cy=\"-126\" rx=\"1\" ry=\"1\"/>\n<text text-anchor=\"middle\" x=\"148.5\" y=\"-129\" font-family=\"Times,serif\" font-size=\"10.00\">n</text>\n</g>\n<!-- y_G3 -->\n<g id=\"node10\" class=\"node\">\n<title>y_G3</title>\n<text text-anchor=\"middle\" x=\"194\" y=\"-68.3\" font-family=\"Times,serif\" font-size=\"14.00\">y</text>\n</g>\n<!-- ECAdd&#45;&gt;y_G3 -->\n<g id=\"edge9\" class=\"edge\">\n<title>ECAdd:e-&gt;y_G3:w</title>\n<path fill=\"none\" stroke=\"black\" d=\"M130,-105C151.17,-105 145.47,-74.53 164.55,-72.15\"/>\n<ellipse fill=\"black\" stroke=\"black\" cx=\"166\" cy=\"-72.06\" rx=\"1\" ry=\"1\"/>\n<text text-anchor=\"middle\" x=\"148.5\" y=\"-92\" font-family=\"Times,serif\" font-size=\"10.00\">n</text>\n</g>\n<!-- lam_r_G12 -->\n<g id=\"node11\" class=\"node\">\n<title>lam_r_G12</title>\n<text text-anchor=\"middle\" x=\"194\" y=\"-14.3\" font-family=\"Times,serif\" font-size=\"14.00\">lam_r</text>\n</g>\n<!-- ECAdd&#45;&gt;lam_r_G12 -->\n<g id=\"edge10\" class=\"edge\">\n<title>ECAdd:e-&gt;lam_r_G12:w</title>\n<path fill=\"none\" stroke=\"black\" d=\"M130,-84C162.84,-84 134.75,-21.06 164.74,-18.11\"/>\n<ellipse fill=\"black\" stroke=\"black\" cx=\"166\" cy=\"-18.05\" rx=\"1\" ry=\"1\"/>\n<text text-anchor=\"middle\" x=\"148.5\" y=\"-62\" font-family=\"Times,serif\" font-size=\"10.00\">n</text>\n</g>\n</g>\n</svg>",
          "text/plain": "<IPython.core.display.SVG object>"
         },
         "metadata": {},
         "output_type": "display_data"
        }
       ],
       "tabbable": null,
       "tooltip": null
      }
     },
     "7ceff33feeac4bd68a74bea514afea8a": {
      "model_module": "@jupyter-widgets/base",
      "model_module_version": "2.0.0",
      "model_name": "LayoutModel",
      "state": {
       "_model_module": "@jupyter-widgets/base",
       "_model_module_version": "2.0.0",
       "_model_name": "LayoutModel",
       "_view_count": null,
       "_view_module": "@jupyter-widgets/base",
       "_view_module_version": "2.0.0",
       "_view_name": "LayoutView",
       "align_content": null,
       "align_items": null,
       "align_self": null,
       "border_bottom": null,
       "border_left": null,
       "border_right": null,
       "border_top": null,
       "bottom": null,
       "display": null,
       "flex": null,
       "flex_flow": null,
       "grid_area": null,
       "grid_auto_columns": null,
       "grid_auto_flow": null,
       "grid_auto_rows": null,
       "grid_column": null,
       "grid_gap": null,
       "grid_row": null,
       "grid_template_areas": null,
       "grid_template_columns": null,
       "grid_template_rows": null,
       "height": null,
       "justify_content": null,
       "justify_items": null,
       "left": null,
       "margin": null,
       "max_height": null,
       "max_width": null,
       "min_height": null,
       "min_width": null,
       "object_fit": null,
       "object_position": null,
       "order": null,
       "overflow": null,
       "padding": null,
       "right": null,
       "top": null,
       "visibility": null,
       "width": null
      }
     },
     "88c0109a6aab489baaa012f0888f4f78": {
      "model_module": "@jupyter-widgets/base",
      "model_module_version": "2.0.0",
      "model_name": "LayoutModel",
      "state": {
       "_model_module": "@jupyter-widgets/base",
       "_model_module_version": "2.0.0",
       "_model_name": "LayoutModel",
       "_view_count": null,
       "_view_module": "@jupyter-widgets/base",
       "_view_module_version": "2.0.0",
       "_view_name": "LayoutView",
       "align_content": null,
       "align_items": null,
       "align_self": null,
       "border_bottom": null,
       "border_left": null,
       "border_right": null,
       "border_top": null,
       "bottom": null,
       "display": null,
       "flex": null,
       "flex_flow": null,
       "grid_area": null,
       "grid_auto_columns": null,
       "grid_auto_flow": null,
       "grid_auto_rows": null,
       "grid_column": null,
       "grid_gap": null,
       "grid_row": null,
       "grid_template_areas": null,
       "grid_template_columns": null,
       "grid_template_rows": null,
       "height": null,
       "justify_content": null,
       "justify_items": null,
       "left": null,
       "margin": null,
       "max_height": null,
       "max_width": null,
       "min_height": null,
       "min_width": null,
       "object_fit": null,
       "object_position": null,
       "order": null,
       "overflow": null,
       "padding": null,
       "right": null,
       "top": null,
       "visibility": null,
       "width": null
      }
     },
     "9bebea376f4a438a8b0cfd25c476d503": {
      "model_module": "@jupyter-widgets/controls",
      "model_module_version": "2.0.0",
      "model_name": "HBoxModel",
      "state": {
       "_dom_classes": [],
       "_model_module": "@jupyter-widgets/controls",
       "_model_module_version": "2.0.0",
       "_model_name": "HBoxModel",
       "_view_count": null,
       "_view_module": "@jupyter-widgets/controls",
       "_view_module_version": "2.0.0",
       "_view_name": "HBoxView",
       "box_style": "",
       "children": [
        "IPY_MODEL_63ce81e43bd54c17af396adcf026f47c",
        "IPY_MODEL_55d4076d59294156a544b0fd4d2beccd"
       ],
       "layout": "IPY_MODEL_1e7db0a3a9134a50acdfc6a37ee7481e",
       "tabbable": null,
       "tooltip": null
      }
     }
    },
    "version_major": 2,
    "version_minor": 0
   }
  }
 },
 "nbformat": 4,
 "nbformat_minor": 5
}
