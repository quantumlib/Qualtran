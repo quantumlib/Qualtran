{
 "cells": [
  {
   "cell_type": "markdown",
   "id": "8a9351ad",
   "metadata": {
    "cq.autogen": "title_cell"
   },
   "source": [
    "# Qubitization Phase Estimation"
   ]
  },
  {
   "cell_type": "code",
   "execution_count": 1,
   "id": "5edd9118",
   "metadata": {
    "cq.autogen": "top_imports"
   },
   "outputs": [],
   "source": [
    "from qualtran import Bloq, CompositeBloq, BloqBuilder, Signature, Register\n",
    "from qualtran import QBit, QInt, QUInt, QAny\n",
    "from qualtran.drawing import show_bloq, show_call_graph, show_counts_sigma\n",
    "from typing import *\n",
    "import numpy as np\n",
    "import sympy\n",
    "import cirq"
   ]
  },
  {
   "cell_type": "markdown",
   "id": "6d311772",
   "metadata": {
    "cq.autogen": "QubitizationQPE.bloq_doc.md"
   },
   "source": [
    "## `QubitizationQPE`\n",
    "Heisenberg limited phase estimation circuit for learning eigenphase of `walk`.\n",
    "\n",
    "The Bloq yields an OPTREE to construct Heisenberg limited phase estimation circuit\n",
    "for learning eigenphases of the `walk` operator with `m` bits of accuracy. The\n",
    "circuit is implemented as given in Fig.2 of Ref-1.\n",
    "\n",
    "```\n",
    "       ┌─────────┐                                     ┌─────────┐\n",
    "  |0> -│         │-------------------------(0)---(0)---│         │---M--- [m1]:highest bit\n",
    "       │         │                          |     |    │         │\n",
    "  |0> -│         │----------------(0)---(0)-+-----+----│         │---M--- [m2]\n",
    "       │CtrlState│                 |     |  |     |    │ QFT_inv │\n",
    "  |0> -│  Prep   │-------(0)---(0)-+-----+--+-----+----│         │---M--- [m3]\n",
    "       │         │        |     |  |     |  |     |    │         │\n",
    "  |0> -│         │---@----+-----+--+-----+--+-----+----│         │---M--- [m4]:lowest bit\n",
    "       └─────────┘   |    |     |  |     |  |     |    └─────────┘\n",
    "|Psi> ---------------W----R-W^2-R--R-W^4-R--R-W^8-R---------------------- |Psi>\n",
    "\n",
    "```\n",
    "\n",
    "TODO: Note that there are slight differences between the Fig2 of the Ref[1] and the circuit\n",
    "      implemented here. Further investigation is required to reconcile the difference.\n",
    "\n",
    "#### Parameters\n",
    " - `walk`: Bloq representing the Qubitization walk operator to run the phase estimation protocol on.\n",
    " - `ctrl_state_prep`: Bloq to prepare the control state on the phase register. Defaults to `OnEach(self.m_bits, Hadamard())`.\n",
    " - `qft_inv`: Bloq to apply inverse QFT on the phase register. Defaults to `QFTTextBook(self.m_bits).adjoint()`  \n",
    "\n",
    "#### Registers\n",
    " - `qpe_reg`: Control register of type `QFxp(self.m_bits, self.m_bits)` for phase estimation.\n",
    " - `target registers`: All registers used in `self.unitary.signature` \n",
    "\n",
    "#### References\n",
    " - [Encoding Electronic Spectra in Quantum Circuits with Linear T Complexity](https://arxiv.org/abs/1805.03662). Fig. 2\n"
   ]
  },
  {
   "cell_type": "code",
   "execution_count": 2,
   "id": "64641b14",
   "metadata": {
    "cq.autogen": "QubitizationQPE.bloq_doc.py"
   },
   "outputs": [],
   "source": [
    "from qualtran.bloqs.phase_estimation import QubitizationQPE"
   ]
  },
  {
   "cell_type": "markdown",
   "id": "1521d292",
   "metadata": {
    "cq.autogen": "QubitizationQPE.example_instances.md"
   },
   "source": [
    "### Example Instances"
   ]
  },
  {
   "cell_type": "code",
   "execution_count": 3,
   "id": "3521613b",
   "metadata": {
    "cq.autogen": "QubitizationQPE.qubitization_qpe_hubbard_model_small"
   },
   "outputs": [],
   "source": [
    "import numpy as np\n",
    "\n",
    "from qualtran.bloqs.chemistry.hubbard_model.qubitization import (\n",
    "    get_walk_operator_for_hubbard_model,\n",
    ")\n",
    "from qualtran.bloqs.phase_estimation import LPResourceState, QubitizationQPE\n",
    "\n",
    "x_dim, y_dim, t = 2, 2, 2\n",
    "u = 4 * t\n",
    "walk = get_walk_operator_for_hubbard_model(x_dim, y_dim, t, u)\n",
    "\n",
    "algo_eps = t / 100\n",
    "N = x_dim * y_dim * 2\n",
    "qlambda = 2 * N * t + (N * u) // 2\n",
    "qpe_eps = algo_eps / (qlambda * np.sqrt(2))\n",
    "qubitization_qpe_hubbard_model_small = QubitizationQPE(\n",
    "    walk, LPResourceState.from_standard_deviation_eps(qpe_eps)\n",
    ")"
   ]
  },
  {
   "cell_type": "code",
   "execution_count": 4,
   "id": "f6a6e748",
   "metadata": {
    "cq.autogen": "QubitizationQPE.qubitization_qpe_sparse_chem"
   },
   "outputs": [],
   "source": [
    "import numpy as np\n",
    "\n",
    "from qualtran.bloqs.chemistry.sparse.prepare_test import build_random_test_integrals\n",
    "from qualtran.bloqs.chemistry.sparse.walk_operator import get_walk_operator_for_sparse_chem_ham\n",
    "from qualtran.bloqs.phase_estimation import LPResourceState, QubitizationQPE\n",
    "\n",
    "num_spatial = 6\n",
    "tpq, eris = build_random_test_integrals(num_spatial // 2, seed=7)\n",
    "walk = get_walk_operator_for_sparse_chem_ham(\n",
    "    tpq, eris, num_bits_rot_aa=8, num_bits_state_prep=16\n",
    ")\n",
    "\n",
    "algo_eps = 0.0016\n",
    "qlambda = np.sum(np.abs(tpq)) + 0.5 * np.sum(np.abs(eris))\n",
    "qpe_eps = algo_eps / (qlambda * np.sqrt(2))\n",
    "qubitization_qpe_sparse_chem = QubitizationQPE(\n",
    "    walk, LPResourceState.from_standard_deviation_eps(qpe_eps)\n",
    ")"
   ]
  },
  {
   "cell_type": "code",
   "execution_count": 5,
   "id": "8879e3e4",
   "metadata": {
    "cq.autogen": "QubitizationQPE.qubitization_qpe_chem_thc"
   },
   "outputs": [],
   "source": [
    "from openfermion.resource_estimates.utils import QI\n",
    "\n",
    "from qualtran.bloqs.chemistry.thc.prepare_test import build_random_test_integrals\n",
    "from qualtran.bloqs.chemistry.thc.walk_operator import get_walk_operator_for_thc_ham\n",
    "from qualtran.bloqs.phase_estimation import LPResourceState, QubitizationQPE\n",
    "\n",
    "# Li et al parameters from openfermion.resource_estimates.thc.compute_cost_thc_test\n",
    "num_spinorb = 152\n",
    "num_bits_state_prep = 10\n",
    "num_bits_rot = 20\n",
    "thc_dim = 450\n",
    "num_spat = num_spinorb // 2\n",
    "qroam_blocking_factor = np.power(2, QI(thc_dim + num_spat)[0])\n",
    "t_l, eta, zeta = build_random_test_integrals(thc_dim, num_spinorb // 2, seed=7)\n",
    "walk = get_walk_operator_for_thc_ham(\n",
    "    t_l,\n",
    "    eta,\n",
    "    zeta,\n",
    "    num_bits_state_prep=num_bits_state_prep,\n",
    "    num_bits_theta=num_bits_rot,\n",
    "    kr1=qroam_blocking_factor,\n",
    "    kr2=qroam_blocking_factor,\n",
    ")\n",
    "\n",
    "algo_eps = 0.0016\n",
    "qpe_eps = algo_eps / (walk.block_encoding.alpha * 2**0.5)\n",
    "qubitization_qpe_chem_thc = QubitizationQPE(\n",
    "    walk, LPResourceState.from_standard_deviation_eps(qpe_eps)\n",
    ")"
   ]
  },
  {
   "cell_type": "code",
   "execution_count": 6,
   "id": "49743657",
   "metadata": {
    "cq.autogen": "QubitizationQPE.qubitization_qpe_ising"
   },
   "outputs": [],
   "source": [
    "from qualtran.bloqs.chemistry.ising.walk_operator import get_walk_operator_for_1d_ising_model\n",
    "from qualtran.bloqs.phase_estimation import RectangularWindowState\n",
    "\n",
    "walk, _ = get_walk_operator_for_1d_ising_model(4, 0.1)\n",
    "qubitization_qpe_ising = QubitizationQPE(walk, RectangularWindowState(4))"
   ]
  },
  {
   "cell_type": "markdown",
   "id": "b19f9365",
   "metadata": {
    "cq.autogen": "QubitizationQPE.graphical_signature.md"
   },
   "source": [
    "#### Graphical Signature"
   ]
  },
  {
   "cell_type": "code",
   "execution_count": 7,
   "id": "82261d0a",
   "metadata": {
    "cq.autogen": "QubitizationQPE.graphical_signature.py"
   },
   "outputs": [
    {
     "data": {
      "application/vnd.jupyter.widget-view+json": {
       "model_id": "8cda0c3cd5e94a96ae9c73f9ed217c7d",
       "version_major": 2,
       "version_minor": 0
      },
      "text/plain": [
       "HBox(children=(Output(outputs=({'output_type': 'display_data', 'data': {'text/plain': '<IPython.core.display.M…"
      ]
     },
     "metadata": {},
     "output_type": "display_data"
    }
   ],
   "source": [
    "from qualtran.drawing import show_bloqs\n",
    "show_bloqs([qubitization_qpe_hubbard_model_small, qubitization_qpe_sparse_chem, qubitization_qpe_chem_thc, qubitization_qpe_ising],\n",
    "           ['`qubitization_qpe_hubbard_model_small`', '`qubitization_qpe_sparse_chem`', '`qubitization_qpe_chem_thc`', '`qubitization_qpe_ising`'])"
   ]
  },
  {
   "cell_type": "markdown",
   "id": "a3597eeb",
   "metadata": {
    "cq.autogen": "QubitizationQPE.call_graph.md"
   },
   "source": [
    "### Call Graph"
   ]
  },
  {
   "cell_type": "code",
   "execution_count": 8,
   "id": "27176312",
   "metadata": {
    "cq.autogen": "QubitizationQPE.call_graph.py"
   },
   "outputs": [
    {
     "data": {
      "image/svg+xml": [
       "<svg xmlns=\"http://www.w3.org/2000/svg\" xmlns:xlink=\"http://www.w3.org/1999/xlink\" width=\"688pt\" height=\"131pt\" viewBox=\"0.00 0.00 688.00 131.00\">\n",
       "<g id=\"graph0\" class=\"graph\" transform=\"scale(1 1) rotate(0) translate(4 127)\">\n",
       "<title>counts</title>\n",
       "<polygon fill=\"white\" stroke=\"transparent\" points=\"-4,4 -4,-127 684,-127 684,4 -4,4\"/>\n",
       "<!-- b0 -->\n",
       "<g id=\"node1\" class=\"node\">\n",
       "<title>b0</title>\n",
       "<polygon fill=\"none\" stroke=\"black\" points=\"299,-93 299,-116 399,-116 399,-93 299,-93\"/>\n",
       "<text text-anchor=\"start\" x=\"305\" y=\"-102\" font-family=\"Times,serif\" font-size=\"10.00\">QubitizationQPE[14]</text>\n",
       "</g>\n",
       "<!-- b1 -->\n",
       "<g id=\"node2\" class=\"node\">\n",
       "<title>b1</title>\n",
       "<polygon fill=\"none\" stroke=\"black\" points=\"8,-6 8,-29 90,-29 90,-6 8,-6\"/>\n",
       "<text text-anchor=\"start\" x=\"14\" y=\"-15\" font-family=\"Times,serif\" font-size=\"10.00\">LPResourceState</text>\n",
       "</g>\n",
       "<!-- b0&#45;&gt;b1 -->\n",
       "<g id=\"edge1\" class=\"edge\">\n",
       "<title>b0-&gt;b1</title>\n",
       "<path fill=\"none\" stroke=\"black\" d=\"M290.76,-87.83C243.91,-74.78 176.13,-55.8 107.7,-36.19\"/>\n",
       "<polygon fill=\"black\" stroke=\"black\" points=\"108.61,-32.81 98.04,-33.41 106.68,-39.54 108.61,-32.81\"/>\n",
       "<text text-anchor=\"middle\" x=\"223.5\" y=\"-57.8\" font-family=\"Times,serif\" font-size=\"14.00\">1</text>\n",
       "</g>\n",
       "<!-- b2 -->\n",
       "<g id=\"node3\" class=\"node\">\n",
       "<title>b2</title>\n",
       "<polygon fill=\"none\" stroke=\"black\" points=\"124,-6 124,-29 260,-29 260,-6 124,-6\"/>\n",
       "<text text-anchor=\"start\" x=\"130.5\" y=\"-15\" font-family=\"Times,serif\" font-size=\"10.00\">C[QubitizationWalkOperator]</text>\n",
       "</g>\n",
       "<!-- b0&#45;&gt;b2 -->\n",
       "<g id=\"edge2\" class=\"edge\">\n",
       "<title>b0-&gt;b2</title>\n",
       "<path fill=\"none\" stroke=\"black\" d=\"M317.23,-86.8C292.78,-73.56 258.83,-55.18 232.45,-40.9\"/>\n",
       "<polygon fill=\"black\" stroke=\"black\" points=\"233.92,-37.71 223.46,-36.03 230.58,-43.87 233.92,-37.71\"/>\n",
       "<text text-anchor=\"middle\" x=\"283.5\" y=\"-57.8\" font-family=\"Times,serif\" font-size=\"14.00\">1</text>\n",
       "</g>\n",
       "<!-- b3 -->\n",
       "<g id=\"node4\" class=\"node\">\n",
       "<title>b3</title>\n",
       "<polygon fill=\"none\" stroke=\"black\" points=\"294,-6 294,-29 404,-29 404,-6 294,-6\"/>\n",
       "<text text-anchor=\"start\" x=\"300\" y=\"-15\" font-family=\"Times,serif\" font-size=\"10.00\">ReflectionUsingPrepare</text>\n",
       "</g>\n",
       "<!-- b0&#45;&gt;b3 -->\n",
       "<g id=\"edge3\" class=\"edge\">\n",
       "<title>b0-&gt;b3</title>\n",
       "<path fill=\"none\" stroke=\"black\" d=\"M349,-86.8C349,-75.16 349,-59.55 349,-46.24\"/>\n",
       "<polygon fill=\"black\" stroke=\"black\" points=\"352.5,-46.18 349,-36.18 345.5,-46.18 352.5,-46.18\"/>\n",
       "<text text-anchor=\"middle\" x=\"356\" y=\"-57.8\" font-family=\"Times,serif\" font-size=\"14.00\">26</text>\n",
       "</g>\n",
       "<!-- b4 -->\n",
       "<g id=\"node5\" class=\"node\">\n",
       "<title>b4</title>\n",
       "<polygon fill=\"none\" stroke=\"black\" points=\"438,-6 438,-29 560,-29 560,-6 438,-6\"/>\n",
       "<text text-anchor=\"start\" x=\"444\" y=\"-15\" font-family=\"Times,serif\" font-size=\"10.00\">QubitizationWalkOperator</text>\n",
       "</g>\n",
       "<!-- b0&#45;&gt;b4 -->\n",
       "<g id=\"edge4\" class=\"edge\">\n",
       "<title>b0-&gt;b4</title>\n",
       "<path fill=\"none\" stroke=\"black\" d=\"M379.35,-86.8C402.61,-73.62 434.87,-55.34 460.03,-41.08\"/>\n",
       "<polygon fill=\"black\" stroke=\"black\" points=\"461.97,-44.01 468.95,-36.03 458.52,-37.92 461.97,-44.01\"/>\n",
       "<text text-anchor=\"middle\" x=\"450\" y=\"-57.8\" font-family=\"Times,serif\" font-size=\"14.00\">16382</text>\n",
       "</g>\n",
       "<!-- b5 -->\n",
       "<g id=\"node6\" class=\"node\">\n",
       "<title>b5</title>\n",
       "<polygon fill=\"none\" stroke=\"black\" points=\"594,-6 594,-29 672,-29 672,-6 594,-6\"/>\n",
       "<text text-anchor=\"start\" x=\"600.5\" y=\"-15\" font-family=\"Times,serif\" font-size=\"10.00\">QFTTextBook†</text>\n",
       "</g>\n",
       "<!-- b0&#45;&gt;b5 -->\n",
       "<g id=\"edge5\" class=\"edge\">\n",
       "<title>b0-&gt;b5</title>\n",
       "<path fill=\"none\" stroke=\"black\" d=\"M407.09,-87.59C427.34,-81.8 450.2,-75.19 471,-69 506,-58.58 545.13,-46.51 576.16,-36.85\"/>\n",
       "<polygon fill=\"black\" stroke=\"black\" points=\"577.43,-40.12 585.93,-33.8 575.35,-33.44 577.43,-40.12\"/>\n",
       "<text text-anchor=\"middle\" x=\"523.5\" y=\"-57.8\" font-family=\"Times,serif\" font-size=\"14.00\">1</text>\n",
       "</g>\n",
       "</g>\n",
       "</svg>"
      ],
      "text/plain": [
       "<IPython.core.display.SVG object>"
      ]
     },
     "metadata": {},
     "output_type": "display_data"
    },
    {
     "data": {
      "text/markdown": [
       "#### Counts totals:\n",
       " - `C[QubitizationWalkOperator]`: 1\n",
       " - `LPResourceState`: 1\n",
       " - `QFTTextBook†`: 1\n",
       " - `QubitizationWalkOperator`: 16382\n",
       " - `ReflectionUsingPrepare`: 26"
      ],
      "text/plain": [
       "<IPython.core.display.Markdown object>"
      ]
     },
     "metadata": {},
     "output_type": "display_data"
    }
   ],
   "source": [
    "from qualtran.resource_counting.generalizers import ignore_split_join\n",
    "qubitization_qpe_hubbard_model_small_g, qubitization_qpe_hubbard_model_small_sigma = qubitization_qpe_hubbard_model_small.call_graph(max_depth=1, generalizer=ignore_split_join)\n",
    "show_call_graph(qubitization_qpe_hubbard_model_small_g)\n",
    "show_counts_sigma(qubitization_qpe_hubbard_model_small_sigma)"
   ]
  }
 ],
 "metadata": {
  "kernelspec": {
   "display_name": "Python 3 (ipykernel)",
   "language": "python",
   "name": "python3"
  },
  "language_info": {
   "codemirror_mode": {
    "name": "ipython",
    "version": 3
   },
   "file_extension": ".py",
   "mimetype": "text/x-python",
   "name": "python",
   "nbconvert_exporter": "python",
   "pygments_lexer": "ipython3",
   "version": "3.11.8"
  },
  "widgets": {
   "application/vnd.jupyter.widget-state+json": {
    "state": {
     "15c26742e480400f84cecfd4fed112d6": {
      "model_module": "@jupyter-widgets/output",
      "model_module_version": "1.0.0",
      "model_name": "OutputModel",
      "state": {
       "_dom_classes": [],
       "_model_module": "@jupyter-widgets/output",
       "_model_module_version": "1.0.0",
       "_model_name": "OutputModel",
       "_view_count": null,
       "_view_module": "@jupyter-widgets/output",
       "_view_module_version": "1.0.0",
       "_view_name": "OutputView",
       "layout": "IPY_MODEL_8918b946e7504621b4e9fa32d7d15351",
       "msg_id": "",
       "outputs": [
        {
         "data": {
          "text/markdown": "`qubitization_qpe_chem_thc`",
          "text/plain": "<IPython.core.display.Markdown object>"
         },
         "metadata": {},
         "output_type": "display_data"
        },
        {
         "data": {
          "image/svg+xml": "<svg xmlns=\"http://www.w3.org/2000/svg\" xmlns:xlink=\"http://www.w3.org/1999/xlink\" width=\"338pt\" height=\"638pt\" viewBox=\"0.00 0.00 338.00 638.00\">\n<g id=\"graph0\" class=\"graph\" transform=\"scale(1 1) rotate(0) translate(4 634)\">\n<title>my_graph</title>\n<polygon fill=\"white\" stroke=\"transparent\" points=\"-4,4 -4,-634 334,-634 334,4 -4,4\"/>\n<!-- plus_mn_G23 -->\n<g id=\"node1\" class=\"node\">\n<title>plus_mn_G23</title>\n<text text-anchor=\"middle\" x=\"40.5\" y=\"-570.3\" font-family=\"Times,serif\" font-size=\"14.00\">plus_mn</text>\n</g>\n<!-- QubitizationQPE -->\n<g id=\"node12\" class=\"node\">\n<title>QubitizationQPE</title>\n<polygon fill=\"none\" stroke=\"black\" points=\"118,-441 118,-458 212,-458 212,-441 118,-441\"/>\n<text text-anchor=\"start\" x=\"121\" y=\"-447\" font-family=\"Times,serif\" font-size=\"10.00\">QubitizationQPE[40]</text>\n<polygon fill=\"none\" stroke=\"black\" points=\"118,-420 118,-441 143,-441 143,-420 118,-420\"/>\n<polygon fill=\"none\" stroke=\"black\" points=\"143,-420 143,-441 212,-441 212,-420 143,-420\"/>\n<text text-anchor=\"start\" x=\"155.5\" y=\"-426.8\" font-family=\"Times,serif\" font-size=\"14.00\">qpe_reg</text>\n<polygon fill=\"none\" stroke=\"black\" points=\"118,-399 118,-420 212,-420 212,-399 118,-399\"/>\n<text text-anchor=\"start\" x=\"141\" y=\"-405.8\" font-family=\"Times,serif\" font-size=\"14.00\">plus_mn</text>\n<polygon fill=\"none\" stroke=\"black\" points=\"118,-378 118,-399 212,-399 212,-378 118,-378\"/>\n<text text-anchor=\"start\" x=\"147\" y=\"-384.8\" font-family=\"Times,serif\" font-size=\"14.00\">plus_a</text>\n<polygon fill=\"none\" stroke=\"black\" points=\"118,-357 118,-378 212,-378 212,-357 118,-357\"/>\n<text text-anchor=\"start\" x=\"146.5\" y=\"-363.8\" font-family=\"Times,serif\" font-size=\"14.00\">plus_b</text>\n<polygon fill=\"none\" stroke=\"black\" points=\"118,-336 118,-357 212,-357 212,-336 118,-336\"/>\n<text text-anchor=\"start\" x=\"132.5\" y=\"-342.8\" font-family=\"Times,serif\" font-size=\"14.00\">nu_eq_mp1</text>\n<polygon fill=\"none\" stroke=\"black\" points=\"118,-315 118,-336 212,-336 212,-315 118,-315\"/>\n<text text-anchor=\"start\" x=\"152.5\" y=\"-321.8\" font-family=\"Times,serif\" font-size=\"14.00\">succ</text>\n<polygon fill=\"none\" stroke=\"black\" points=\"118,-294 118,-315 212,-315 212,-294 118,-294\"/>\n<text text-anchor=\"start\" x=\"157\" y=\"-300.8\" font-family=\"Times,serif\" font-size=\"14.00\">rot</text>\n<polygon fill=\"none\" stroke=\"black\" points=\"118,-273 118,-294 212,-294 212,-273 118,-273\"/>\n<text text-anchor=\"start\" x=\"148\" y=\"-279.8\" font-family=\"Times,serif\" font-size=\"14.00\">sigma</text>\n<polygon fill=\"none\" stroke=\"black\" points=\"118,-252 118,-273 212,-273 212,-252 118,-252\"/>\n<text text-anchor=\"start\" x=\"158\" y=\"-258.8\" font-family=\"Times,serif\" font-size=\"14.00\">nu</text>\n<polygon fill=\"none\" stroke=\"black\" points=\"118,-231 118,-252 212,-252 212,-231 118,-231\"/>\n<text text-anchor=\"start\" x=\"155.5\" y=\"-237.8\" font-family=\"Times,serif\" font-size=\"14.00\">mu</text>\n<polygon fill=\"none\" stroke=\"black\" points=\"118,-210 118,-231 212,-231 212,-210 118,-210\"/>\n<text text-anchor=\"start\" x=\"149.5\" y=\"-216.8\" font-family=\"Times,serif\" font-size=\"14.00\">sys_a</text>\n<polygon fill=\"none\" stroke=\"black\" points=\"118,-189 118,-210 212,-210 212,-189 118,-189\"/>\n<text text-anchor=\"start\" x=\"149.5\" y=\"-195.8\" font-family=\"Times,serif\" font-size=\"14.00\">sys_b</text>\n</g>\n<!-- plus_mn_G23&#45;&gt;QubitizationQPE -->\n<g id=\"edge1\" class=\"edge\">\n<title>plus_mn_G23:e-&gt;QubitizationQPE:w</title>\n<path fill=\"none\" stroke=\"black\" d=\"M73.5,-574C110.52,-574 81.42,-416.34 115.87,-410.19\"/>\n<ellipse fill=\"black\" stroke=\"black\" cx=\"117\" cy=\"-410.09\" rx=\"1\" ry=\"1\"/>\n<text text-anchor=\"middle\" x=\"99.5\" y=\"-444\" font-family=\"Times,serif\" font-size=\"10.00\">1</text>\n</g>\n<!-- plus_a_G29 -->\n<g id=\"node2\" class=\"node\">\n<title>plus_a_G29</title>\n<text text-anchor=\"middle\" x=\"40.5\" y=\"-516.3\" font-family=\"Times,serif\" font-size=\"14.00\">plus_a</text>\n</g>\n<!-- plus_a_G29&#45;&gt;QubitizationQPE -->\n<g id=\"edge2\" class=\"edge\">\n<title>plus_a_G29:e-&gt;QubitizationQPE:w</title>\n<path fill=\"none\" stroke=\"black\" d=\"M68.5,-520C98.89,-520 87.45,-395.07 115.88,-389.21\"/>\n<ellipse fill=\"black\" stroke=\"black\" cx=\"117.01\" cy=\"-389.1\" rx=\"1\" ry=\"1\"/>\n<text text-anchor=\"middle\" x=\"99.5\" y=\"-420\" font-family=\"Times,serif\" font-size=\"10.00\">1</text>\n</g>\n<!-- plus_b_G17 -->\n<g id=\"node3\" class=\"node\">\n<title>plus_b_G17</title>\n<text text-anchor=\"middle\" x=\"40.5\" y=\"-462.3\" font-family=\"Times,serif\" font-size=\"14.00\">plus_b</text>\n</g>\n<!-- plus_b_G17&#45;&gt;QubitizationQPE -->\n<g id=\"edge3\" class=\"edge\">\n<title>plus_b_G17:e-&gt;QubitizationQPE:w</title>\n<path fill=\"none\" stroke=\"black\" d=\"M68.5,-466C92.14,-466 93.53,-374.03 115.78,-368.28\"/>\n<ellipse fill=\"black\" stroke=\"black\" cx=\"117.01\" cy=\"-368.13\" rx=\"1\" ry=\"1\"/>\n<text text-anchor=\"middle\" x=\"99.5\" y=\"-397\" font-family=\"Times,serif\" font-size=\"10.00\">1</text>\n</g>\n<!-- nu_eq_mp1_G31 -->\n<g id=\"node4\" class=\"node\">\n<title>nu_eq_mp1_G31</title>\n<text text-anchor=\"middle\" x=\"40.5\" y=\"-408.3\" font-family=\"Times,serif\" font-size=\"14.00\">nu_eq_mp1</text>\n</g>\n<!-- nu_eq_mp1_G31&#45;&gt;QubitizationQPE -->\n<g id=\"edge4\" class=\"edge\">\n<title>nu_eq_mp1_G31:e-&gt;QubitizationQPE:w</title>\n<path fill=\"none\" stroke=\"black\" d=\"M81,-412C113.46,-412 86.11,-350.01 115.76,-347.11\"/>\n<ellipse fill=\"black\" stroke=\"black\" cx=\"117\" cy=\"-347.05\" rx=\"1\" ry=\"1\"/>\n<text text-anchor=\"middle\" x=\"99.5\" y=\"-388\" font-family=\"Times,serif\" font-size=\"10.00\">1</text>\n</g>\n<!-- succ_G19 -->\n<g id=\"node5\" class=\"node\">\n<title>succ_G19</title>\n<text text-anchor=\"middle\" x=\"40.5\" y=\"-354.3\" font-family=\"Times,serif\" font-size=\"14.00\">succ</text>\n</g>\n<!-- succ_G19&#45;&gt;QubitizationQPE -->\n<g id=\"edge5\" class=\"edge\">\n<title>succ_G19:e-&gt;QubitizationQPE:w</title>\n<path fill=\"none\" stroke=\"black\" d=\"M68.5,-358C93.98,-358 91.94,-327.73 115.92,-326.07\"/>\n<ellipse fill=\"black\" stroke=\"black\" cx=\"117\" cy=\"-326.03\" rx=\"1\" ry=\"1\"/>\n<text text-anchor=\"middle\" x=\"99.5\" y=\"-337\" font-family=\"Times,serif\" font-size=\"10.00\">1</text>\n</g>\n<!-- rot_G6 -->\n<g id=\"node6\" class=\"node\">\n<title>rot_G6</title>\n<text text-anchor=\"middle\" x=\"40.5\" y=\"-300.3\" font-family=\"Times,serif\" font-size=\"14.00\">rot</text>\n</g>\n<!-- rot_G6&#45;&gt;QubitizationQPE -->\n<g id=\"edge6\" class=\"edge\">\n<title>rot_G6:e-&gt;QubitizationQPE:w</title>\n<path fill=\"none\" stroke=\"black\" d=\"M68.5,-304C89.81,-304 95.64,-304 115.98,-304\"/>\n<ellipse fill=\"black\" stroke=\"black\" cx=\"117\" cy=\"-304\" rx=\"1\" ry=\"1\"/>\n<text text-anchor=\"middle\" x=\"99.5\" y=\"-307\" font-family=\"Times,serif\" font-size=\"10.00\">1</text>\n</g>\n<!-- sigma_G33 -->\n<g id=\"node7\" class=\"node\">\n<title>sigma_G33</title>\n<text text-anchor=\"middle\" x=\"40.5\" y=\"-246.3\" font-family=\"Times,serif\" font-size=\"14.00\">sigma</text>\n</g>\n<!-- sigma_G33&#45;&gt;QubitizationQPE -->\n<g id=\"edge7\" class=\"edge\">\n<title>sigma_G33:e-&gt;QubitizationQPE:w</title>\n<path fill=\"none\" stroke=\"black\" d=\"M68.5,-250C94.22,-250 91.72,-281.22 115.9,-282.93\"/>\n<ellipse fill=\"black\" stroke=\"black\" cx=\"117\" cy=\"-282.97\" rx=\"1\" ry=\"1\"/>\n<text text-anchor=\"middle\" x=\"99.5\" y=\"-278\" font-family=\"Times,serif\" font-size=\"10.00\">10</text>\n</g>\n<!-- nu_G4 -->\n<g id=\"node8\" class=\"node\">\n<title>nu_G4</title>\n<text text-anchor=\"middle\" x=\"40.5\" y=\"-192.3\" font-family=\"Times,serif\" font-size=\"14.00\">nu</text>\n</g>\n<!-- nu_G4&#45;&gt;QubitizationQPE -->\n<g id=\"edge8\" class=\"edge\">\n<title>nu_G4:e-&gt;QubitizationQPE:w</title>\n<path fill=\"none\" stroke=\"black\" d=\"M68.5,-196C104.45,-196 82.24,-259.45 115.92,-261.93\"/>\n<ellipse fill=\"black\" stroke=\"black\" cx=\"117\" cy=\"-261.96\" rx=\"1\" ry=\"1\"/>\n<text text-anchor=\"middle\" x=\"99.5\" y=\"-253\" font-family=\"Times,serif\" font-size=\"10.00\">9</text>\n</g>\n<!-- mu_G28 -->\n<g id=\"node9\" class=\"node\">\n<title>mu_G28</title>\n<text text-anchor=\"middle\" x=\"40.5\" y=\"-138.3\" font-family=\"Times,serif\" font-size=\"14.00\">mu</text>\n</g>\n<!-- mu_G28&#45;&gt;QubitizationQPE -->\n<g id=\"edge9\" class=\"edge\">\n<title>mu_G28:e-&gt;QubitizationQPE:w</title>\n<path fill=\"none\" stroke=\"black\" d=\"M68.5,-142C116.92,-142 70.31,-237.93 115.77,-240.93\"/>\n<ellipse fill=\"black\" stroke=\"black\" cx=\"117\" cy=\"-240.97\" rx=\"1\" ry=\"1\"/>\n<text text-anchor=\"middle\" x=\"99.5\" y=\"-235\" font-family=\"Times,serif\" font-size=\"10.00\">9</text>\n</g>\n<!-- sys_a_G34 -->\n<g id=\"node10\" class=\"node\">\n<title>sys_a_G34</title>\n<text text-anchor=\"middle\" x=\"40.5\" y=\"-84.3\" font-family=\"Times,serif\" font-size=\"14.00\">sys_a</text>\n</g>\n<!-- sys_a_G34&#45;&gt;QubitizationQPE -->\n<g id=\"edge10\" class=\"edge\">\n<title>sys_a_G34:e-&gt;QubitizationQPE:w</title>\n<path fill=\"none\" stroke=\"black\" d=\"M68.5,-88C130.42,-88 57.1,-216.92 115.85,-219.95\"/>\n<ellipse fill=\"black\" stroke=\"black\" cx=\"117\" cy=\"-219.97\" rx=\"1\" ry=\"1\"/>\n<text text-anchor=\"middle\" x=\"99.5\" y=\"-215\" font-family=\"Times,serif\" font-size=\"10.00\">76</text>\n</g>\n<!-- sys_b_G12 -->\n<g id=\"node11\" class=\"node\">\n<title>sys_b_G12</title>\n<text text-anchor=\"middle\" x=\"40.5\" y=\"-30.3\" font-family=\"Times,serif\" font-size=\"14.00\">sys_b</text>\n</g>\n<!-- sys_b_G12&#45;&gt;QubitizationQPE -->\n<g id=\"edge11\" class=\"edge\">\n<title>sys_b_G12:e-&gt;QubitizationQPE:w</title>\n<path fill=\"none\" stroke=\"black\" d=\"M68.5,-34C144.31,-34 43.44,-195.79 115.81,-198.95\"/>\n<ellipse fill=\"black\" stroke=\"black\" cx=\"117\" cy=\"-198.98\" rx=\"1\" ry=\"1\"/>\n<text text-anchor=\"middle\" x=\"99.5\" y=\"-196\" font-family=\"Times,serif\" font-size=\"10.00\">76</text>\n</g>\n<!-- qpe_reg_G21 -->\n<g id=\"node13\" class=\"node\">\n<title>qpe_reg_G21</title>\n<text text-anchor=\"middle\" x=\"289.5\" y=\"-608.3\" font-family=\"Times,serif\" font-size=\"14.00\">qpe_reg</text>\n</g>\n<!-- QubitizationQPE&#45;&gt;qpe_reg_G21 -->\n<g id=\"edge12\" class=\"edge\">\n<title>QubitizationQPE:e-&gt;qpe_reg_G21:w</title>\n<path fill=\"none\" stroke=\"black\" d=\"M212,-431C236.77,-431 223.35,-517.14 230,-541 238.92,-572.99 225.17,-610.21 256.19,-611.94\"/>\n<ellipse fill=\"black\" stroke=\"black\" cx=\"257.5\" cy=\"-611.97\" rx=\"1\" ry=\"1\"/>\n<text text-anchor=\"middle\" x=\"230.5\" y=\"-547\" font-family=\"Times,serif\" font-size=\"10.00\">40</text>\n</g>\n<!-- plus_mn_G7 -->\n<g id=\"node14\" class=\"node\">\n<title>plus_mn_G7</title>\n<text text-anchor=\"middle\" x=\"289.5\" y=\"-554.3\" font-family=\"Times,serif\" font-size=\"14.00\">plus_mn</text>\n</g>\n<!-- QubitizationQPE&#45;&gt;plus_mn_G7 -->\n<g id=\"edge13\" class=\"edge\">\n<title>QubitizationQPE:e-&gt;plus_mn_G7:w</title>\n<path fill=\"none\" stroke=\"black\" d=\"M212,-410C279.88,-410 189.97,-554.55 254.15,-557.94\"/>\n<ellipse fill=\"black\" stroke=\"black\" cx=\"255.5\" cy=\"-557.97\" rx=\"1\" ry=\"1\"/>\n<text text-anchor=\"middle\" x=\"230.5\" y=\"-539\" font-family=\"Times,serif\" font-size=\"10.00\">1</text>\n</g>\n<!-- plus_a_G15 -->\n<g id=\"node15\" class=\"node\">\n<title>plus_a_G15</title>\n<text text-anchor=\"middle\" x=\"289.5\" y=\"-500.3\" font-family=\"Times,serif\" font-size=\"14.00\">plus_a</text>\n</g>\n<!-- QubitizationQPE&#45;&gt;plus_a_G15 -->\n<g id=\"edge14\" class=\"edge\">\n<title>QubitizationQPE:e-&gt;plus_a_G15:w</title>\n<path fill=\"none\" stroke=\"black\" d=\"M212,-389C266.88,-389 207.52,-500.88 259.28,-503.94\"/>\n<ellipse fill=\"black\" stroke=\"black\" cx=\"260.5\" cy=\"-503.97\" rx=\"1\" ry=\"1\"/>\n<text text-anchor=\"middle\" x=\"230.5\" y=\"-399\" font-family=\"Times,serif\" font-size=\"10.00\">1</text>\n</g>\n<!-- plus_b_G0 -->\n<g id=\"node16\" class=\"node\">\n<title>plus_b_G0</title>\n<text text-anchor=\"middle\" x=\"289.5\" y=\"-446.3\" font-family=\"Times,serif\" font-size=\"14.00\">plus_b</text>\n</g>\n<!-- QubitizationQPE&#45;&gt;plus_b_G0 -->\n<g id=\"edge15\" class=\"edge\">\n<title>QubitizationQPE:e-&gt;plus_b_G0:w</title>\n<path fill=\"none\" stroke=\"black\" d=\"M212,-368C253.74,-368 220.29,-446.83 259.09,-449.91\"/>\n<ellipse fill=\"black\" stroke=\"black\" cx=\"260.5\" cy=\"-449.96\" rx=\"1\" ry=\"1\"/>\n<text text-anchor=\"middle\" x=\"230.5\" y=\"-381\" font-family=\"Times,serif\" font-size=\"10.00\">1</text>\n</g>\n<!-- nu_eq_mp1_G13 -->\n<g id=\"node17\" class=\"node\">\n<title>nu_eq_mp1_G13</title>\n<text text-anchor=\"middle\" x=\"289.5\" y=\"-392.3\" font-family=\"Times,serif\" font-size=\"14.00\">nu_eq_mp1</text>\n</g>\n<!-- QubitizationQPE&#45;&gt;nu_eq_mp1_G13 -->\n<g id=\"edge16\" class=\"edge\">\n<title>QubitizationQPE:e-&gt;nu_eq_mp1_G13:w</title>\n<path fill=\"none\" stroke=\"black\" d=\"M212,-347C238.54,-347 222.64,-393.36 246.86,-395.89\"/>\n<ellipse fill=\"black\" stroke=\"black\" cx=\"248\" cy=\"-395.95\" rx=\"1\" ry=\"1\"/>\n<text text-anchor=\"middle\" x=\"230.5\" y=\"-375\" font-family=\"Times,serif\" font-size=\"10.00\">1</text>\n</g>\n<!-- succ_G5 -->\n<g id=\"node18\" class=\"node\">\n<title>succ_G5</title>\n<text text-anchor=\"middle\" x=\"289.5\" y=\"-338.3\" font-family=\"Times,serif\" font-size=\"14.00\">succ</text>\n</g>\n<!-- QubitizationQPE&#45;&gt;succ_G5 -->\n<g id=\"edge17\" class=\"edge\">\n<title>QubitizationQPE:e-&gt;succ_G5:w</title>\n<path fill=\"none\" stroke=\"black\" d=\"M212,-326C234.4,-326 238.16,-341.02 259.39,-341.95\"/>\n<ellipse fill=\"black\" stroke=\"black\" cx=\"260.5\" cy=\"-341.98\" rx=\"1\" ry=\"1\"/>\n<text text-anchor=\"middle\" x=\"230.5\" y=\"-333\" font-family=\"Times,serif\" font-size=\"10.00\">1</text>\n</g>\n<!-- rot_G24 -->\n<g id=\"node19\" class=\"node\">\n<title>rot_G24</title>\n<text text-anchor=\"middle\" x=\"289.5\" y=\"-284.3\" font-family=\"Times,serif\" font-size=\"14.00\">rot</text>\n</g>\n<!-- QubitizationQPE&#45;&gt;rot_G24 -->\n<g id=\"edge18\" class=\"edge\">\n<title>QubitizationQPE:e-&gt;rot_G24:w</title>\n<path fill=\"none\" stroke=\"black\" d=\"M212,-304C234.4,-304 238.16,-288.98 259.39,-288.05\"/>\n<ellipse fill=\"black\" stroke=\"black\" cx=\"260.5\" cy=\"-288.02\" rx=\"1\" ry=\"1\"/>\n<text text-anchor=\"middle\" x=\"230.5\" y=\"-302\" font-family=\"Times,serif\" font-size=\"10.00\">1</text>\n</g>\n<!-- sigma_G22 -->\n<g id=\"node20\" class=\"node\">\n<title>sigma_G22</title>\n<text text-anchor=\"middle\" x=\"289.5\" y=\"-230.3\" font-family=\"Times,serif\" font-size=\"14.00\">sigma</text>\n</g>\n<!-- QubitizationQPE&#45;&gt;sigma_G22 -->\n<g id=\"edge19\" class=\"edge\">\n<title>QubitizationQPE:e-&gt;sigma_G22:w</title>\n<path fill=\"none\" stroke=\"black\" d=\"M212,-283C242.23,-283 231.1,-236.27 259.39,-234.08\"/>\n<ellipse fill=\"black\" stroke=\"black\" cx=\"260.5\" cy=\"-234.04\" rx=\"1\" ry=\"1\"/>\n<text text-anchor=\"middle\" x=\"230.5\" y=\"-275\" font-family=\"Times,serif\" font-size=\"10.00\">10</text>\n</g>\n<!-- nu_G26 -->\n<g id=\"node21\" class=\"node\">\n<title>nu_G26</title>\n<text text-anchor=\"middle\" x=\"289.5\" y=\"-176.3\" font-family=\"Times,serif\" font-size=\"14.00\">nu</text>\n</g>\n<!-- QubitizationQPE&#45;&gt;nu_G26 -->\n<g id=\"edge20\" class=\"edge\">\n<title>QubitizationQPE:e-&gt;nu_G26:w</title>\n<path fill=\"none\" stroke=\"black\" d=\"M212,-262C253.74,-262 220.29,-183.17 259.09,-180.09\"/>\n<ellipse fill=\"black\" stroke=\"black\" cx=\"260.5\" cy=\"-180.04\" rx=\"1\" ry=\"1\"/>\n<text text-anchor=\"middle\" x=\"230.5\" y=\"-254\" font-family=\"Times,serif\" font-size=\"10.00\">9</text>\n</g>\n<!-- mu_G10 -->\n<g id=\"node22\" class=\"node\">\n<title>mu_G10</title>\n<text text-anchor=\"middle\" x=\"289.5\" y=\"-122.3\" font-family=\"Times,serif\" font-size=\"14.00\">mu</text>\n</g>\n<!-- QubitizationQPE&#45;&gt;mu_G10 -->\n<g id=\"edge21\" class=\"edge\">\n<title>QubitizationQPE:e-&gt;mu_G10:w</title>\n<path fill=\"none\" stroke=\"black\" d=\"M212,-241C266.88,-241 207.52,-129.12 259.28,-126.06\"/>\n<ellipse fill=\"black\" stroke=\"black\" cx=\"260.5\" cy=\"-126.03\" rx=\"1\" ry=\"1\"/>\n<text text-anchor=\"middle\" x=\"230.5\" y=\"-236\" font-family=\"Times,serif\" font-size=\"10.00\">9</text>\n</g>\n<!-- sys_a_G20 -->\n<g id=\"node23\" class=\"node\">\n<title>sys_a_G20</title>\n<text text-anchor=\"middle\" x=\"289.5\" y=\"-68.3\" font-family=\"Times,serif\" font-size=\"14.00\">sys_a</text>\n</g>\n<!-- QubitizationQPE&#45;&gt;sys_a_G20 -->\n<g id=\"edge22\" class=\"edge\">\n<title>QubitizationQPE:e-&gt;sys_a_G20:w</title>\n<path fill=\"none\" stroke=\"black\" d=\"M212,-220C280.55,-220 194.21,-75.45 259.13,-72.06\"/>\n<ellipse fill=\"black\" stroke=\"black\" cx=\"260.5\" cy=\"-72.03\" rx=\"1\" ry=\"1\"/>\n<text text-anchor=\"middle\" x=\"230.5\" y=\"-217\" font-family=\"Times,serif\" font-size=\"10.00\">76</text>\n</g>\n<!-- sys_b_G32 -->\n<g id=\"node24\" class=\"node\">\n<title>sys_b_G32</title>\n<text text-anchor=\"middle\" x=\"289.5\" y=\"-14.3\" font-family=\"Times,serif\" font-size=\"14.00\">sys_b</text>\n</g>\n<!-- QubitizationQPE&#45;&gt;sys_b_G32 -->\n<g id=\"edge23\" class=\"edge\">\n<title>QubitizationQPE:e-&gt;sys_b_G32:w</title>\n<path fill=\"none\" stroke=\"black\" d=\"M212,-199C294.58,-199 180.37,-21.52 259.11,-18.05\"/>\n<ellipse fill=\"black\" stroke=\"black\" cx=\"260.5\" cy=\"-18.02\" rx=\"1\" ry=\"1\"/>\n<text text-anchor=\"middle\" x=\"230.5\" y=\"-75\" font-family=\"Times,serif\" font-size=\"10.00\">76</text>\n</g>\n</g>\n</svg>",
          "text/plain": "<IPython.core.display.SVG object>"
         },
         "metadata": {},
         "output_type": "display_data"
        }
       ],
       "tabbable": null,
       "tooltip": null
      }
     },
     "179c6d12d2be47e7b6e979013a592965": {
      "model_module": "@jupyter-widgets/output",
      "model_module_version": "1.0.0",
      "model_name": "OutputModel",
      "state": {
       "_dom_classes": [],
       "_model_module": "@jupyter-widgets/output",
       "_model_module_version": "1.0.0",
       "_model_name": "OutputModel",
       "_view_count": null,
       "_view_module": "@jupyter-widgets/output",
       "_view_module_version": "1.0.0",
       "_view_name": "OutputView",
       "layout": "IPY_MODEL_ff8bf7e3f8674a8b829fe179954337c5",
       "msg_id": "",
       "outputs": [
        {
         "data": {
          "text/markdown": "`qubitization_qpe_hubbard_model_small`",
          "text/plain": "<IPython.core.display.Markdown object>"
         },
         "metadata": {},
         "output_type": "display_data"
        },
        {
         "data": {
          "image/svg+xml": "<svg xmlns=\"http://www.w3.org/2000/svg\" xmlns:xlink=\"http://www.w3.org/1999/xlink\" width=\"290pt\" height=\"530pt\" viewBox=\"0.00 0.00 290.00 530.00\">\n<g id=\"graph0\" class=\"graph\" transform=\"scale(1 1) rotate(0) translate(4 526)\">\n<title>my_graph</title>\n<polygon fill=\"white\" stroke=\"transparent\" points=\"-4,4 -4,-526 286,-526 286,4 -4,4\"/>\n<!-- alpha_G17 -->\n<g id=\"node1\" class=\"node\">\n<title>alpha_G17</title>\n<text text-anchor=\"middle\" x=\"27\" y=\"-462.3\" font-family=\"Times,serif\" font-size=\"14.00\">alpha</text>\n</g>\n<!-- QubitizationQPE -->\n<g id=\"node10\" class=\"node\">\n<title>QubitizationQPE</title>\n<polygon fill=\"none\" stroke=\"black\" points=\"91,-366 91,-383 185,-383 185,-366 91,-366\"/>\n<text text-anchor=\"start\" x=\"94\" y=\"-372\" font-family=\"Times,serif\" font-size=\"10.00\">QubitizationQPE[14]</text>\n<polygon fill=\"none\" stroke=\"black\" points=\"91,-345 91,-366 116,-366 116,-345 91,-345\"/>\n<polygon fill=\"none\" stroke=\"black\" points=\"116,-345 116,-366 185,-366 185,-345 116,-345\"/>\n<text text-anchor=\"start\" x=\"128.5\" y=\"-351.8\" font-family=\"Times,serif\" font-size=\"14.00\">qpe_reg</text>\n<polygon fill=\"none\" stroke=\"black\" points=\"91,-324 91,-345 185,-345 185,-324 91,-324\"/>\n<text text-anchor=\"start\" x=\"123\" y=\"-330.8\" font-family=\"Times,serif\" font-size=\"14.00\">alpha</text>\n<polygon fill=\"none\" stroke=\"black\" points=\"91,-303 91,-324 185,-324 185,-303 91,-303\"/>\n<text text-anchor=\"start\" x=\"127.5\" y=\"-309.8\" font-family=\"Times,serif\" font-size=\"14.00\">q_y</text>\n<polygon fill=\"none\" stroke=\"black\" points=\"91,-282 91,-303 185,-303 185,-282 91,-282\"/>\n<text text-anchor=\"start\" x=\"127.5\" y=\"-288.8\" font-family=\"Times,serif\" font-size=\"14.00\">p_x</text>\n<polygon fill=\"none\" stroke=\"black\" points=\"91,-261 91,-282 185,-282 185,-261 91,-261\"/>\n<text text-anchor=\"start\" x=\"133\" y=\"-267.8\" font-family=\"Times,serif\" font-size=\"14.00\">V</text>\n<polygon fill=\"none\" stroke=\"black\" points=\"91,-240 91,-261 185,-261 185,-240 91,-240\"/>\n<text text-anchor=\"start\" x=\"127.5\" y=\"-246.8\" font-family=\"Times,serif\" font-size=\"14.00\">q_x</text>\n<polygon fill=\"none\" stroke=\"black\" points=\"91,-219 91,-240 185,-240 185,-219 91,-219\"/>\n<text text-anchor=\"start\" x=\"133\" y=\"-225.8\" font-family=\"Times,serif\" font-size=\"14.00\">U</text>\n<polygon fill=\"none\" stroke=\"black\" points=\"91,-198 91,-219 185,-219 185,-198 91,-198\"/>\n<text text-anchor=\"start\" x=\"126.5\" y=\"-204.8\" font-family=\"Times,serif\" font-size=\"14.00\">beta</text>\n<polygon fill=\"none\" stroke=\"black\" points=\"91,-177 91,-198 185,-198 185,-177 91,-177\"/>\n<text text-anchor=\"start\" x=\"127.5\" y=\"-183.8\" font-family=\"Times,serif\" font-size=\"14.00\">p_y</text>\n<polygon fill=\"none\" stroke=\"black\" points=\"91,-156 91,-177 185,-177 185,-156 91,-156\"/>\n<text text-anchor=\"start\" x=\"122.5\" y=\"-162.8\" font-family=\"Times,serif\" font-size=\"14.00\">target</text>\n</g>\n<!-- alpha_G17&#45;&gt;QubitizationQPE -->\n<g id=\"edge1\" class=\"edge\">\n<title>alpha_G17:e-&gt;QubitizationQPE:w</title>\n<path fill=\"none\" stroke=\"black\" d=\"M54,-466C83.54,-466 61.82,-341.07 88.96,-335.21\"/>\n<ellipse fill=\"black\" stroke=\"black\" cx=\"90.01\" cy=\"-335.1\" rx=\"1\" ry=\"1\"/>\n<text text-anchor=\"middle\" x=\"72.5\" y=\"-411\" font-family=\"Times,serif\" font-size=\"10.00\">1</text>\n</g>\n<!-- q_y_G18 -->\n<g id=\"node2\" class=\"node\">\n<title>q_y_G18</title>\n<text text-anchor=\"middle\" x=\"27\" y=\"-408.3\" font-family=\"Times,serif\" font-size=\"14.00\">q_y</text>\n</g>\n<!-- q_y_G18&#45;&gt;QubitizationQPE -->\n<g id=\"edge2\" class=\"edge\">\n<title>q_y_G18:e-&gt;QubitizationQPE:w</title>\n<path fill=\"none\" stroke=\"black\" d=\"M54,-412C76.55,-412 68.29,-320.03 88.91,-314.28\"/>\n<ellipse fill=\"black\" stroke=\"black\" cx=\"90.01\" cy=\"-314.13\" rx=\"1\" ry=\"1\"/>\n<text text-anchor=\"middle\" x=\"72.5\" y=\"-368\" font-family=\"Times,serif\" font-size=\"10.00\">1</text>\n</g>\n<!-- p_x_G8 -->\n<g id=\"node3\" class=\"node\">\n<title>p_x_G8</title>\n<text text-anchor=\"middle\" x=\"27\" y=\"-354.3\" font-family=\"Times,serif\" font-size=\"14.00\">p_x</text>\n</g>\n<!-- p_x_G8&#45;&gt;QubitizationQPE -->\n<g id=\"edge3\" class=\"edge\">\n<title>p_x_G8:e-&gt;QubitizationQPE:w</title>\n<path fill=\"none\" stroke=\"black\" d=\"M54,-358C86.46,-358 59.11,-296.01 88.76,-293.11\"/>\n<ellipse fill=\"black\" stroke=\"black\" cx=\"90\" cy=\"-293.05\" rx=\"1\" ry=\"1\"/>\n<text text-anchor=\"middle\" x=\"72.5\" y=\"-334\" font-family=\"Times,serif\" font-size=\"10.00\">1</text>\n</g>\n<!-- V_G14 -->\n<g id=\"node4\" class=\"node\">\n<title>V_G14</title>\n<text text-anchor=\"middle\" x=\"27\" y=\"-300.3\" font-family=\"Times,serif\" font-size=\"14.00\">V</text>\n</g>\n<!-- V_G14&#45;&gt;QubitizationQPE -->\n<g id=\"edge4\" class=\"edge\">\n<title>V_G14:e-&gt;QubitizationQPE:w</title>\n<path fill=\"none\" stroke=\"black\" d=\"M54,-304C74.89,-304 69.72,-274.45 88.58,-272.14\"/>\n<ellipse fill=\"black\" stroke=\"black\" cx=\"90\" cy=\"-272.06\" rx=\"1\" ry=\"1\"/>\n<text text-anchor=\"middle\" x=\"72.5\" y=\"-291\" font-family=\"Times,serif\" font-size=\"10.00\">1</text>\n</g>\n<!-- q_x_G25 -->\n<g id=\"node5\" class=\"node\">\n<title>q_x_G25</title>\n<text text-anchor=\"middle\" x=\"27\" y=\"-246.3\" font-family=\"Times,serif\" font-size=\"14.00\">q_x</text>\n</g>\n<!-- q_x_G25&#45;&gt;QubitizationQPE -->\n<g id=\"edge5\" class=\"edge\">\n<title>q_x_G25:e-&gt;QubitizationQPE:w</title>\n<path fill=\"none\" stroke=\"black\" d=\"M54,-250C69.67,-250 74.14,-250 88.77,-250\"/>\n<ellipse fill=\"black\" stroke=\"black\" cx=\"90\" cy=\"-250\" rx=\"1\" ry=\"1\"/>\n<text text-anchor=\"middle\" x=\"72.5\" y=\"-253\" font-family=\"Times,serif\" font-size=\"10.00\">1</text>\n</g>\n<!-- U_G12 -->\n<g id=\"node6\" class=\"node\">\n<title>U_G12</title>\n<text text-anchor=\"middle\" x=\"27\" y=\"-192.3\" font-family=\"Times,serif\" font-size=\"14.00\">U</text>\n</g>\n<!-- U_G12&#45;&gt;QubitizationQPE -->\n<g id=\"edge6\" class=\"edge\">\n<title>U_G12:e-&gt;QubitizationQPE:w</title>\n<path fill=\"none\" stroke=\"black\" d=\"M54,-196C75.17,-196 69.47,-226.47 88.55,-228.85\"/>\n<ellipse fill=\"black\" stroke=\"black\" cx=\"90\" cy=\"-228.94\" rx=\"1\" ry=\"1\"/>\n<text text-anchor=\"middle\" x=\"72.5\" y=\"-216\" font-family=\"Times,serif\" font-size=\"10.00\">1</text>\n</g>\n<!-- beta_G11 -->\n<g id=\"node7\" class=\"node\">\n<title>beta_G11</title>\n<text text-anchor=\"middle\" x=\"27\" y=\"-138.3\" font-family=\"Times,serif\" font-size=\"14.00\">beta</text>\n</g>\n<!-- beta_G11&#45;&gt;QubitizationQPE -->\n<g id=\"edge7\" class=\"edge\">\n<title>beta_G11:e-&gt;QubitizationQPE:w</title>\n<path fill=\"none\" stroke=\"black\" d=\"M54,-142C86.84,-142 58.75,-204.94 88.74,-207.89\"/>\n<ellipse fill=\"black\" stroke=\"black\" cx=\"90\" cy=\"-207.95\" rx=\"1\" ry=\"1\"/>\n<text text-anchor=\"middle\" x=\"72.5\" y=\"-185\" font-family=\"Times,serif\" font-size=\"10.00\">1</text>\n</g>\n<!-- p_y_G28 -->\n<g id=\"node8\" class=\"node\">\n<title>p_y_G28</title>\n<text text-anchor=\"middle\" x=\"27\" y=\"-84.3\" font-family=\"Times,serif\" font-size=\"14.00\">p_y</text>\n</g>\n<!-- p_y_G28&#45;&gt;QubitizationQPE -->\n<g id=\"edge8\" class=\"edge\">\n<title>p_y_G28:e-&gt;QubitizationQPE:w</title>\n<path fill=\"none\" stroke=\"black\" d=\"M54,-88C76.75,-88 68.1,-180.91 88.89,-186.72\"/>\n<ellipse fill=\"black\" stroke=\"black\" cx=\"90.01\" cy=\"-186.87\" rx=\"1\" ry=\"1\"/>\n<text text-anchor=\"middle\" x=\"72.5\" y=\"-143\" font-family=\"Times,serif\" font-size=\"10.00\">1</text>\n</g>\n<!-- target_G0 -->\n<g id=\"node9\" class=\"node\">\n<title>target_G0</title>\n<text text-anchor=\"middle\" x=\"27\" y=\"-30.3\" font-family=\"Times,serif\" font-size=\"14.00\">target</text>\n</g>\n<!-- target_G0&#45;&gt;QubitizationQPE -->\n<g id=\"edge9\" class=\"edge\">\n<title>target_G0:e-&gt;QubitizationQPE:w</title>\n<path fill=\"none\" stroke=\"black\" d=\"M54,-34C83.75,-34 61.63,-159.89 88.95,-165.79\"/>\n<ellipse fill=\"black\" stroke=\"black\" cx=\"90.01\" cy=\"-165.9\" rx=\"1\" ry=\"1\"/>\n<text text-anchor=\"middle\" x=\"72.5\" y=\"-111\" font-family=\"Times,serif\" font-size=\"10.00\">8</text>\n</g>\n<!-- qpe_reg_G15 -->\n<g id=\"node11\" class=\"node\">\n<title>qpe_reg_G15</title>\n<text text-anchor=\"middle\" x=\"252\" y=\"-500.3\" font-family=\"Times,serif\" font-size=\"14.00\">qpe_reg</text>\n</g>\n<!-- QubitizationQPE&#45;&gt;qpe_reg_G15 -->\n<g id=\"edge10\" class=\"edge\">\n<title>QubitizationQPE:e-&gt;qpe_reg_G15:w</title>\n<path fill=\"none\" stroke=\"black\" d=\"M185,-356C204.09,-356 198.28,-421.5 203,-440 210.16,-468.08 193.16,-502.35 219.99,-503.94\"/>\n<ellipse fill=\"black\" stroke=\"black\" cx=\"221\" cy=\"-503.97\" rx=\"1\" ry=\"1\"/>\n<text text-anchor=\"middle\" x=\"203.5\" y=\"-446\" font-family=\"Times,serif\" font-size=\"10.00\">14</text>\n</g>\n<!-- alpha_G27 -->\n<g id=\"node12\" class=\"node\">\n<title>alpha_G27</title>\n<text text-anchor=\"middle\" x=\"252\" y=\"-446.3\" font-family=\"Times,serif\" font-size=\"14.00\">alpha</text>\n</g>\n<!-- QubitizationQPE&#45;&gt;alpha_G27 -->\n<g id=\"edge11\" class=\"edge\">\n<title>QubitizationQPE:e-&gt;alpha_G27:w</title>\n<path fill=\"none\" stroke=\"black\" d=\"M185,-335C238.23,-335 171.89,-446.88 221.85,-449.94\"/>\n<ellipse fill=\"black\" stroke=\"black\" cx=\"223\" cy=\"-449.97\" rx=\"1\" ry=\"1\"/>\n<text text-anchor=\"middle\" x=\"203.5\" y=\"-438\" font-family=\"Times,serif\" font-size=\"10.00\">1</text>\n</g>\n<!-- q_y_G21 -->\n<g id=\"node13\" class=\"node\">\n<title>q_y_G21</title>\n<text text-anchor=\"middle\" x=\"252\" y=\"-392.3\" font-family=\"Times,serif\" font-size=\"14.00\">q_y</text>\n</g>\n<!-- QubitizationQPE&#45;&gt;q_y_G21 -->\n<g id=\"edge12\" class=\"edge\">\n<title>QubitizationQPE:e-&gt;q_y_G21:w</title>\n<path fill=\"none\" stroke=\"black\" d=\"M185,-314C224.57,-314 185.24,-392.83 221.73,-395.91\"/>\n<ellipse fill=\"black\" stroke=\"black\" cx=\"223\" cy=\"-395.96\" rx=\"1\" ry=\"1\"/>\n<text text-anchor=\"middle\" x=\"203.5\" y=\"-336\" font-family=\"Times,serif\" font-size=\"10.00\">1</text>\n</g>\n<!-- p_x_G13 -->\n<g id=\"node14\" class=\"node\">\n<title>p_x_G13</title>\n<text text-anchor=\"middle\" x=\"252\" y=\"-338.3\" font-family=\"Times,serif\" font-size=\"14.00\">p_x</text>\n</g>\n<!-- QubitizationQPE&#45;&gt;p_x_G13 -->\n<g id=\"edge13\" class=\"edge\">\n<title>QubitizationQPE:e-&gt;p_x_G13:w</title>\n<path fill=\"none\" stroke=\"black\" d=\"M185,-293C212.07,-293 197.04,-339.36 221.81,-341.89\"/>\n<ellipse fill=\"black\" stroke=\"black\" cx=\"223\" cy=\"-341.95\" rx=\"1\" ry=\"1\"/>\n<text text-anchor=\"middle\" x=\"203.5\" y=\"-317\" font-family=\"Times,serif\" font-size=\"10.00\">1</text>\n</g>\n<!-- V_G24 -->\n<g id=\"node15\" class=\"node\">\n<title>V_G24</title>\n<text text-anchor=\"middle\" x=\"252\" y=\"-284.3\" font-family=\"Times,serif\" font-size=\"14.00\">V</text>\n</g>\n<!-- QubitizationQPE&#45;&gt;V_G24 -->\n<g id=\"edge14\" class=\"edge\">\n<title>QubitizationQPE:e-&gt;V_G24:w</title>\n<path fill=\"none\" stroke=\"black\" d=\"M185,-272C203,-272 205.12,-286.77 221.88,-287.93\"/>\n<ellipse fill=\"black\" stroke=\"black\" cx=\"223\" cy=\"-287.97\" rx=\"1\" ry=\"1\"/>\n<text text-anchor=\"middle\" x=\"203.5\" y=\"-282\" font-family=\"Times,serif\" font-size=\"10.00\">1</text>\n</g>\n<!-- q_x_G1 -->\n<g id=\"node16\" class=\"node\">\n<title>q_x_G1</title>\n<text text-anchor=\"middle\" x=\"252\" y=\"-230.3\" font-family=\"Times,serif\" font-size=\"14.00\">q_x</text>\n</g>\n<!-- QubitizationQPE&#45;&gt;q_x_G1 -->\n<g id=\"edge15\" class=\"edge\">\n<title>QubitizationQPE:e-&gt;q_x_G1:w</title>\n<path fill=\"none\" stroke=\"black\" d=\"M185,-250C203,-250 205.12,-235.23 221.88,-234.07\"/>\n<ellipse fill=\"black\" stroke=\"black\" cx=\"223\" cy=\"-234.03\" rx=\"1\" ry=\"1\"/>\n<text text-anchor=\"middle\" x=\"203.5\" y=\"-245\" font-family=\"Times,serif\" font-size=\"10.00\">1</text>\n</g>\n<!-- U_G23 -->\n<g id=\"node17\" class=\"node\">\n<title>U_G23</title>\n<text text-anchor=\"middle\" x=\"252\" y=\"-176.3\" font-family=\"Times,serif\" font-size=\"14.00\">U</text>\n</g>\n<!-- QubitizationQPE&#45;&gt;U_G23 -->\n<g id=\"edge16\" class=\"edge\">\n<title>QubitizationQPE:e-&gt;U_G23:w</title>\n<path fill=\"none\" stroke=\"black\" d=\"M185,-229C212.07,-229 197.04,-182.64 221.81,-180.11\"/>\n<ellipse fill=\"black\" stroke=\"black\" cx=\"223\" cy=\"-180.05\" rx=\"1\" ry=\"1\"/>\n<text text-anchor=\"middle\" x=\"203.5\" y=\"-213\" font-family=\"Times,serif\" font-size=\"10.00\">1</text>\n</g>\n<!-- beta_G19 -->\n<g id=\"node18\" class=\"node\">\n<title>beta_G19</title>\n<text text-anchor=\"middle\" x=\"252\" y=\"-122.3\" font-family=\"Times,serif\" font-size=\"14.00\">beta</text>\n</g>\n<!-- QubitizationQPE&#45;&gt;beta_G19 -->\n<g id=\"edge17\" class=\"edge\">\n<title>QubitizationQPE:e-&gt;beta_G19:w</title>\n<path fill=\"none\" stroke=\"black\" d=\"M185,-208C224.57,-208 185.24,-129.17 221.73,-126.09\"/>\n<ellipse fill=\"black\" stroke=\"black\" cx=\"223\" cy=\"-126.04\" rx=\"1\" ry=\"1\"/>\n<text text-anchor=\"middle\" x=\"203.5\" y=\"-195\" font-family=\"Times,serif\" font-size=\"10.00\">1</text>\n</g>\n<!-- p_y_G4 -->\n<g id=\"node19\" class=\"node\">\n<title>p_y_G4</title>\n<text text-anchor=\"middle\" x=\"252\" y=\"-68.3\" font-family=\"Times,serif\" font-size=\"14.00\">p_y</text>\n</g>\n<!-- QubitizationQPE&#45;&gt;p_y_G4 -->\n<g id=\"edge18\" class=\"edge\">\n<title>QubitizationQPE:e-&gt;p_y_G4:w</title>\n<path fill=\"none\" stroke=\"black\" d=\"M185,-187C238.23,-187 171.89,-75.12 221.85,-72.06\"/>\n<ellipse fill=\"black\" stroke=\"black\" cx=\"223\" cy=\"-72.03\" rx=\"1\" ry=\"1\"/>\n<text text-anchor=\"middle\" x=\"203.5\" y=\"-180\" font-family=\"Times,serif\" font-size=\"10.00\">1</text>\n</g>\n<!-- target_G6 -->\n<g id=\"node20\" class=\"node\">\n<title>target_G6</title>\n<text text-anchor=\"middle\" x=\"252\" y=\"-14.3\" font-family=\"Times,serif\" font-size=\"14.00\">target</text>\n</g>\n<!-- QubitizationQPE&#45;&gt;target_G6 -->\n<g id=\"edge19\" class=\"edge\">\n<title>QubitizationQPE:e-&gt;target_G6:w</title>\n<path fill=\"none\" stroke=\"black\" d=\"M185,-166C204.09,-166 198.02,-100.43 203,-82 210.63,-53.78 194.84,-19.64 221.97,-18.06\"/>\n<ellipse fill=\"black\" stroke=\"black\" cx=\"223\" cy=\"-18.03\" rx=\"1\" ry=\"1\"/>\n<text text-anchor=\"middle\" x=\"203.5\" y=\"-85\" font-family=\"Times,serif\" font-size=\"10.00\">8</text>\n</g>\n</g>\n</svg>",
          "text/plain": "<IPython.core.display.SVG object>"
         },
         "metadata": {},
         "output_type": "display_data"
        }
       ],
       "tabbable": null,
       "tooltip": null
      }
     },
     "2fe64fcba80a4518b6ef263085540a4b": {
      "model_module": "@jupyter-widgets/base",
      "model_module_version": "2.0.0",
      "model_name": "LayoutModel",
      "state": {
       "_model_module": "@jupyter-widgets/base",
       "_model_module_version": "2.0.0",
       "_model_name": "LayoutModel",
       "_view_count": null,
       "_view_module": "@jupyter-widgets/base",
       "_view_module_version": "2.0.0",
       "_view_name": "LayoutView",
       "align_content": null,
       "align_items": null,
       "align_self": null,
       "border_bottom": null,
       "border_left": null,
       "border_right": null,
       "border_top": null,
       "bottom": null,
       "display": null,
       "flex": null,
       "flex_flow": null,
       "grid_area": null,
       "grid_auto_columns": null,
       "grid_auto_flow": null,
       "grid_auto_rows": null,
       "grid_column": null,
       "grid_gap": null,
       "grid_row": null,
       "grid_template_areas": null,
       "grid_template_columns": null,
       "grid_template_rows": null,
       "height": null,
       "justify_content": null,
       "justify_items": null,
       "left": null,
       "margin": null,
       "max_height": null,
       "max_width": null,
       "min_height": null,
       "min_width": null,
       "object_fit": null,
       "object_position": null,
       "order": null,
       "overflow": null,
       "padding": null,
       "right": null,
       "top": null,
       "visibility": null,
       "width": null
      }
     },
     "53ec2431433944748e456d163766dd9b": {
      "model_module": "@jupyter-widgets/output",
      "model_module_version": "1.0.0",
      "model_name": "OutputModel",
      "state": {
       "_dom_classes": [],
       "_model_module": "@jupyter-widgets/output",
       "_model_module_version": "1.0.0",
       "_model_name": "OutputModel",
       "_view_count": null,
       "_view_module": "@jupyter-widgets/output",
       "_view_module_version": "1.0.0",
       "_view_name": "OutputView",
       "layout": "IPY_MODEL_83e61f3a37884df69bcc10dfaa7eaee1",
       "msg_id": "",
       "outputs": [
        {
         "data": {
          "text/markdown": "`qubitization_qpe_sparse_chem`",
          "text/plain": "<IPython.core.display.Markdown object>"
         },
         "metadata": {},
         "output_type": "display_data"
        },
        {
         "data": {
          "image/svg+xml": "<svg xmlns=\"http://www.w3.org/2000/svg\" xmlns:xlink=\"http://www.w3.org/1999/xlink\" width=\"324pt\" height=\"800pt\" viewBox=\"0.00 0.00 324.00 800.00\">\n<g id=\"graph0\" class=\"graph\" transform=\"scale(1 1) rotate(0) translate(4 796)\">\n<title>my_graph</title>\n<polygon fill=\"white\" stroke=\"transparent\" points=\"-4,4 -4,-796 320,-796 320,4 -4,4\"/>\n<!-- alpha_G36 -->\n<g id=\"node1\" class=\"node\">\n<title>alpha_G36</title>\n<text text-anchor=\"middle\" x=\"37\" y=\"-733.3\" font-family=\"Times,serif\" font-size=\"14.00\">alpha</text>\n</g>\n<!-- QubitizationQPE -->\n<g id=\"node15\" class=\"node\">\n<title>QubitizationQPE</title>\n<polygon fill=\"none\" stroke=\"black\" points=\"111,-554 111,-571 205,-571 205,-554 111,-554\"/>\n<text text-anchor=\"start\" x=\"114\" y=\"-560\" font-family=\"Times,serif\" font-size=\"10.00\">QubitizationQPE[21]</text>\n<polygon fill=\"none\" stroke=\"black\" points=\"111,-533 111,-554 136,-554 136,-533 111,-533\"/>\n<polygon fill=\"none\" stroke=\"black\" points=\"136,-533 136,-554 205,-554 205,-533 136,-533\"/>\n<text text-anchor=\"start\" x=\"148.5\" y=\"-539.8\" font-family=\"Times,serif\" font-size=\"14.00\">qpe_reg</text>\n<polygon fill=\"none\" stroke=\"black\" points=\"111,-512 111,-533 205,-533 205,-512 111,-512\"/>\n<text text-anchor=\"start\" x=\"143\" y=\"-518.8\" font-family=\"Times,serif\" font-size=\"14.00\">alpha</text>\n<polygon fill=\"none\" stroke=\"black\" points=\"111,-491 111,-512 205,-512 205,-491 111,-491\"/>\n<text text-anchor=\"start\" x=\"137\" y=\"-497.8\" font-family=\"Times,serif\" font-size=\"14.00\">flag_1b</text>\n<polygon fill=\"none\" stroke=\"black\" points=\"111,-470 111,-491 205,-491 205,-470 111,-470\"/>\n<text text-anchor=\"start\" x=\"133.5\" y=\"-476.8\" font-family=\"Times,serif\" font-size=\"14.00\">swap_pq</text>\n<polygon fill=\"none\" stroke=\"black\" points=\"111,-449 111,-470 205,-470 205,-449 111,-449\"/>\n<text text-anchor=\"start\" x=\"129\" y=\"-455.8\" font-family=\"Times,serif\" font-size=\"14.00\">swap_pqrs</text>\n<polygon fill=\"none\" stroke=\"black\" points=\"111,-428 111,-449 205,-449 205,-428 111,-428\"/>\n<text text-anchor=\"start\" x=\"154.5\" y=\"-434.8\" font-family=\"Times,serif\" font-size=\"14.00\">p</text>\n<polygon fill=\"none\" stroke=\"black\" points=\"111,-407 111,-428 205,-428 205,-407 111,-407\"/>\n<text text-anchor=\"start\" x=\"154.5\" y=\"-413.8\" font-family=\"Times,serif\" font-size=\"14.00\">d</text>\n<polygon fill=\"none\" stroke=\"black\" points=\"111,-386 111,-407 205,-407 205,-386 111,-386\"/>\n<text text-anchor=\"start\" x=\"135.5\" y=\"-392.8\" font-family=\"Times,serif\" font-size=\"14.00\">swap_rs</text>\n<polygon fill=\"none\" stroke=\"black\" points=\"111,-365 111,-386 205,-386 205,-365 111,-365\"/>\n<text text-anchor=\"start\" x=\"155\" y=\"-371.8\" font-family=\"Times,serif\" font-size=\"14.00\">s</text>\n<polygon fill=\"none\" stroke=\"black\" points=\"111,-344 111,-365 205,-365 205,-344 111,-344\"/>\n<text text-anchor=\"start\" x=\"141\" y=\"-350.8\" font-family=\"Times,serif\" font-size=\"14.00\">sigma</text>\n<polygon fill=\"none\" stroke=\"black\" points=\"111,-323 111,-344 205,-344 205,-323 111,-323\"/>\n<text text-anchor=\"start\" x=\"155.5\" y=\"-329.8\" font-family=\"Times,serif\" font-size=\"14.00\">r</text>\n<polygon fill=\"none\" stroke=\"black\" points=\"111,-302 111,-323 205,-323 205,-302 111,-302\"/>\n<text text-anchor=\"start\" x=\"141\" y=\"-308.8\" font-family=\"Times,serif\" font-size=\"14.00\">rot_aa</text>\n<polygon fill=\"none\" stroke=\"black\" points=\"111,-281 111,-302 205,-302 205,-281 111,-281\"/>\n<text text-anchor=\"start\" x=\"154.5\" y=\"-287.8\" font-family=\"Times,serif\" font-size=\"14.00\">q</text>\n<polygon fill=\"none\" stroke=\"black\" points=\"111,-260 111,-281 205,-281 205,-260 111,-260\"/>\n<text text-anchor=\"start\" x=\"146.5\" y=\"-266.8\" font-family=\"Times,serif\" font-size=\"14.00\">beta</text>\n<polygon fill=\"none\" stroke=\"black\" points=\"111,-239 111,-260 205,-260 205,-239 111,-239\"/>\n<text text-anchor=\"start\" x=\"149\" y=\"-245.8\" font-family=\"Times,serif\" font-size=\"14.00\">sys</text>\n</g>\n<!-- alpha_G36&#45;&gt;QubitizationQPE -->\n<g id=\"edge1\" class=\"edge\">\n<title>alpha_G36:e-&gt;QubitizationQPE:w</title>\n<path fill=\"none\" stroke=\"black\" d=\"M65,-737C76.59,-737 96.83,-542.59 109.23,-524.37\"/>\n<ellipse fill=\"black\" stroke=\"black\" cx=\"110.21\" cy=\"-523.61\" rx=\"1\" ry=\"1\"/>\n<text text-anchor=\"middle\" x=\"92.5\" y=\"-607\" font-family=\"Times,serif\" font-size=\"10.00\">1</text>\n</g>\n<!-- flag_1b_G0 -->\n<g id=\"node2\" class=\"node\">\n<title>flag_1b_G0</title>\n<text text-anchor=\"middle\" x=\"37\" y=\"-679.3\" font-family=\"Times,serif\" font-size=\"14.00\">flag_1b</text>\n</g>\n<!-- flag_1b_G0&#45;&gt;QubitizationQPE -->\n<g id=\"edge2\" class=\"edge\">\n<title>flag_1b_G0:e-&gt;QubitizationQPE:w</title>\n<path fill=\"none\" stroke=\"black\" d=\"M67,-683C79.4,-683 70.98,-668.02 74,-656 82.7,-621.4 84.67,-612.69 93,-578 96.86,-561.92 93.95,-507.45 108.69,-502.38\"/>\n<ellipse fill=\"black\" stroke=\"black\" cx=\"110.01\" cy=\"-502.16\" rx=\"1\" ry=\"1\"/>\n<text text-anchor=\"middle\" x=\"92.5\" y=\"-585\" font-family=\"Times,serif\" font-size=\"10.00\">1</text>\n</g>\n<!-- swap_pq_G33 -->\n<g id=\"node3\" class=\"node\">\n<title>swap_pq_G33</title>\n<text text-anchor=\"middle\" x=\"37\" y=\"-625.3\" font-family=\"Times,serif\" font-size=\"14.00\">swap_pq</text>\n</g>\n<!-- swap_pq_G33&#45;&gt;QubitizationQPE -->\n<g id=\"edge3\" class=\"edge\">\n<title>swap_pq_G33:e-&gt;QubitizationQPE:w</title>\n<path fill=\"none\" stroke=\"black\" d=\"M71,-629C98.99,-629 85.31,-596.91 93,-570 98.33,-551.36 91.4,-486.36 108.76,-481.31\"/>\n<ellipse fill=\"black\" stroke=\"black\" cx=\"110.01\" cy=\"-481.14\" rx=\"1\" ry=\"1\"/>\n<text text-anchor=\"middle\" x=\"92.5\" y=\"-576\" font-family=\"Times,serif\" font-size=\"10.00\">1</text>\n</g>\n<!-- swap_pqrs_G15 -->\n<g id=\"node4\" class=\"node\">\n<title>swap_pqrs_G15</title>\n<text text-anchor=\"middle\" x=\"37\" y=\"-571.3\" font-family=\"Times,serif\" font-size=\"14.00\">swap_pqrs</text>\n</g>\n<!-- swap_pqrs_G15&#45;&gt;QubitizationQPE -->\n<g id=\"edge4\" class=\"edge\">\n<title>swap_pqrs_G15:e-&gt;QubitizationQPE:w</title>\n<path fill=\"none\" stroke=\"black\" d=\"M74,-575C126.96,-575 59.21,-463.12 108.87,-460.06\"/>\n<ellipse fill=\"black\" stroke=\"black\" cx=\"110\" cy=\"-460.03\" rx=\"1\" ry=\"1\"/>\n<text text-anchor=\"middle\" x=\"92.5\" y=\"-568\" font-family=\"Times,serif\" font-size=\"10.00\">1</text>\n</g>\n<!-- p_G3 -->\n<g id=\"node5\" class=\"node\">\n<title>p_G3</title>\n<text text-anchor=\"middle\" x=\"37\" y=\"-517.3\" font-family=\"Times,serif\" font-size=\"14.00\">p</text>\n</g>\n<!-- p_G3&#45;&gt;QubitizationQPE -->\n<g id=\"edge5\" class=\"edge\">\n<title>p_G3:e-&gt;QubitizationQPE:w</title>\n<path fill=\"none\" stroke=\"black\" d=\"M65,-521C105.97,-521 70.65,-442.17 108.64,-439.09\"/>\n<ellipse fill=\"black\" stroke=\"black\" cx=\"110\" cy=\"-439.04\" rx=\"1\" ry=\"1\"/>\n<text text-anchor=\"middle\" x=\"92.5\" y=\"-453\" font-family=\"Times,serif\" font-size=\"10.00\">2</text>\n</g>\n<!-- d_G34 -->\n<g id=\"node6\" class=\"node\">\n<title>d_G34</title>\n<text text-anchor=\"middle\" x=\"37\" y=\"-463.3\" font-family=\"Times,serif\" font-size=\"14.00\">d</text>\n</g>\n<!-- d_G34&#45;&gt;QubitizationQPE -->\n<g id=\"edge6\" class=\"edge\">\n<title>d_G34:e-&gt;QubitizationQPE:w</title>\n<path fill=\"none\" stroke=\"black\" d=\"M65,-467C94.17,-467 81.75,-420.27 108.97,-418.08\"/>\n<ellipse fill=\"black\" stroke=\"black\" cx=\"110\" cy=\"-418.04\" rx=\"1\" ry=\"1\"/>\n<text text-anchor=\"middle\" x=\"92.5\" y=\"-434\" font-family=\"Times,serif\" font-size=\"10.00\">5</text>\n</g>\n<!-- swap_rs_G38 -->\n<g id=\"node7\" class=\"node\">\n<title>swap_rs_G38</title>\n<text text-anchor=\"middle\" x=\"37\" y=\"-409.3\" font-family=\"Times,serif\" font-size=\"14.00\">swap_rs</text>\n</g>\n<!-- swap_rs_G38&#45;&gt;QubitizationQPE -->\n<g id=\"edge7\" class=\"edge\">\n<title>swap_rs_G38:e-&gt;QubitizationQPE:w</title>\n<path fill=\"none\" stroke=\"black\" d=\"M69,-413C88.35,-413 90.7,-397.3 108.72,-396.08\"/>\n<ellipse fill=\"black\" stroke=\"black\" cx=\"110\" cy=\"-396.03\" rx=\"1\" ry=\"1\"/>\n<text text-anchor=\"middle\" x=\"92.5\" y=\"-405\" font-family=\"Times,serif\" font-size=\"10.00\">1</text>\n</g>\n<!-- s_G37 -->\n<g id=\"node8\" class=\"node\">\n<title>s_G37</title>\n<text text-anchor=\"middle\" x=\"37\" y=\"-355.3\" font-family=\"Times,serif\" font-size=\"14.00\">s</text>\n</g>\n<!-- s_G37&#45;&gt;QubitizationQPE -->\n<g id=\"edge8\" class=\"edge\">\n<title>s_G37:e-&gt;QubitizationQPE:w</title>\n<path fill=\"none\" stroke=\"black\" d=\"M65,-359C85.8,-359 89.11,-373.77 108.55,-374.93\"/>\n<ellipse fill=\"black\" stroke=\"black\" cx=\"110\" cy=\"-374.97\" rx=\"1\" ry=\"1\"/>\n<text text-anchor=\"middle\" x=\"92.5\" y=\"-372\" font-family=\"Times,serif\" font-size=\"10.00\">2</text>\n</g>\n<!-- sigma_G25 -->\n<g id=\"node9\" class=\"node\">\n<title>sigma_G25</title>\n<text text-anchor=\"middle\" x=\"37\" y=\"-301.3\" font-family=\"Times,serif\" font-size=\"14.00\">sigma</text>\n</g>\n<!-- sigma_G25&#45;&gt;QubitizationQPE -->\n<g id=\"edge9\" class=\"edge\">\n<title>sigma_G25:e-&gt;QubitizationQPE:w</title>\n<path fill=\"none\" stroke=\"black\" d=\"M65,-305C94.17,-305 81.75,-351.73 108.97,-353.92\"/>\n<ellipse fill=\"black\" stroke=\"black\" cx=\"110\" cy=\"-353.96\" rx=\"1\" ry=\"1\"/>\n<text text-anchor=\"middle\" x=\"92.5\" y=\"-345\" font-family=\"Times,serif\" font-size=\"10.00\">16</text>\n</g>\n<!-- r_G22 -->\n<g id=\"node10\" class=\"node\">\n<title>r_G22</title>\n<text text-anchor=\"middle\" x=\"37\" y=\"-247.3\" font-family=\"Times,serif\" font-size=\"14.00\">r</text>\n</g>\n<!-- r_G22&#45;&gt;QubitizationQPE -->\n<g id=\"edge10\" class=\"edge\">\n<title>r_G22:e-&gt;QubitizationQPE:w</title>\n<path fill=\"none\" stroke=\"black\" d=\"M65,-251C105.97,-251 70.65,-329.83 108.64,-332.91\"/>\n<ellipse fill=\"black\" stroke=\"black\" cx=\"110\" cy=\"-332.96\" rx=\"1\" ry=\"1\"/>\n<text text-anchor=\"middle\" x=\"92.5\" y=\"-324\" font-family=\"Times,serif\" font-size=\"10.00\">2</text>\n</g>\n<!-- rot_aa_G14 -->\n<g id=\"node11\" class=\"node\">\n<title>rot_aa_G14</title>\n<text text-anchor=\"middle\" x=\"37\" y=\"-193.3\" font-family=\"Times,serif\" font-size=\"14.00\">rot_aa</text>\n</g>\n<!-- rot_aa_G14&#45;&gt;QubitizationQPE -->\n<g id=\"edge11\" class=\"edge\">\n<title>rot_aa_G14:e-&gt;QubitizationQPE:w</title>\n<path fill=\"none\" stroke=\"black\" d=\"M65,-197C119.3,-197 57.68,-308.88 108.81,-311.94\"/>\n<ellipse fill=\"black\" stroke=\"black\" cx=\"110\" cy=\"-311.97\" rx=\"1\" ry=\"1\"/>\n<text text-anchor=\"middle\" x=\"92.5\" y=\"-307\" font-family=\"Times,serif\" font-size=\"10.00\">1</text>\n</g>\n<!-- q_G42 -->\n<g id=\"node12\" class=\"node\">\n<title>q_G42</title>\n<text text-anchor=\"middle\" x=\"37\" y=\"-139.3\" font-family=\"Times,serif\" font-size=\"14.00\">q</text>\n</g>\n<!-- q_G42&#45;&gt;QubitizationQPE -->\n<g id=\"edge12\" class=\"edge\">\n<title>q_G42:e-&gt;QubitizationQPE:w</title>\n<path fill=\"none\" stroke=\"black\" d=\"M65,-143C133.07,-143 44.25,-287.55 108.64,-290.94\"/>\n<ellipse fill=\"black\" stroke=\"black\" cx=\"110\" cy=\"-290.97\" rx=\"1\" ry=\"1\"/>\n<text text-anchor=\"middle\" x=\"92.5\" y=\"-288\" font-family=\"Times,serif\" font-size=\"10.00\">2</text>\n</g>\n<!-- beta_G30 -->\n<g id=\"node13\" class=\"node\">\n<title>beta_G30</title>\n<text text-anchor=\"middle\" x=\"37\" y=\"-85.3\" font-family=\"Times,serif\" font-size=\"14.00\">beta</text>\n</g>\n<!-- beta_G30&#45;&gt;QubitizationQPE -->\n<g id=\"edge13\" class=\"edge\">\n<title>beta_G30:e-&gt;QubitizationQPE:w</title>\n<path fill=\"none\" stroke=\"black\" d=\"M65,-89C101.83,-89 83.57,-131.39 93,-167 98.76,-188.76 88.45,-265.02 108.92,-269.77\"/>\n<ellipse fill=\"black\" stroke=\"black\" cx=\"110.01\" cy=\"-269.89\" rx=\"1\" ry=\"1\"/>\n<text text-anchor=\"middle\" x=\"92.5\" y=\"-170\" font-family=\"Times,serif\" font-size=\"10.00\">1</text>\n</g>\n<!-- sys_G39 -->\n<g id=\"node14\" class=\"node\">\n<title>sys_G39</title>\n<text text-anchor=\"middle\" x=\"37\" y=\"-31.3\" font-family=\"Times,serif\" font-size=\"14.00\">sys</text>\n</g>\n<!-- sys_G39&#45;&gt;QubitizationQPE -->\n<g id=\"edge14\" class=\"edge\">\n<title>sys_G39:e-&gt;QubitizationQPE:w</title>\n<path fill=\"none\" stroke=\"black\" d=\"M65,-35C77.65,-35 70.77,-49.77 74,-62 74.16,-62.6 105.96,-226.43 110.48,-246.91\"/>\n<ellipse fill=\"black\" stroke=\"black\" cx=\"110.76\" cy=\"-248.03\" rx=\"1\" ry=\"1\"/>\n<text text-anchor=\"middle\" x=\"92.5\" y=\"-159\" font-family=\"Times,serif\" font-size=\"10.00\">6</text>\n</g>\n<!-- qpe_reg_G31 -->\n<g id=\"node16\" class=\"node\">\n<title>qpe_reg_G31</title>\n<text text-anchor=\"middle\" x=\"279\" y=\"-770.3\" font-family=\"Times,serif\" font-size=\"14.00\">qpe_reg</text>\n</g>\n<!-- QubitizationQPE&#45;&gt;qpe_reg_G31 -->\n<g id=\"edge15\" class=\"edge\">\n<title>QubitizationQPE:e-&gt;qpe_reg_G31:w</title>\n<path fill=\"none\" stroke=\"black\" d=\"M205,-544C230.29,-544 222.47,-761.59 245.94,-773.49\"/>\n<ellipse fill=\"black\" stroke=\"black\" cx=\"247.03\" cy=\"-773.76\" rx=\"1\" ry=\"1\"/>\n<text text-anchor=\"middle\" x=\"223.5\" y=\"-627\" font-family=\"Times,serif\" font-size=\"10.00\">21</text>\n</g>\n<!-- alpha_G16 -->\n<g id=\"node17\" class=\"node\">\n<title>alpha_G16</title>\n<text text-anchor=\"middle\" x=\"279\" y=\"-716.3\" font-family=\"Times,serif\" font-size=\"14.00\">alpha</text>\n</g>\n<!-- QubitizationQPE&#45;&gt;alpha_G16 -->\n<g id=\"edge16\" class=\"edge\">\n<title>QubitizationQPE:e-&gt;alpha_G16:w</title>\n<path fill=\"none\" stroke=\"black\" d=\"M205,-523C226.78,-523 228.44,-707.88 248.95,-719.43\"/>\n<ellipse fill=\"black\" stroke=\"black\" cx=\"250.04\" cy=\"-719.73\" rx=\"1\" ry=\"1\"/>\n<text text-anchor=\"middle\" x=\"223.5\" y=\"-589\" font-family=\"Times,serif\" font-size=\"10.00\">1</text>\n</g>\n<!-- flag_1b_G13 -->\n<g id=\"node18\" class=\"node\">\n<title>flag_1b_G13</title>\n<text text-anchor=\"middle\" x=\"279\" y=\"-662.3\" font-family=\"Times,serif\" font-size=\"14.00\">flag_1b</text>\n</g>\n<!-- QubitizationQPE&#45;&gt;flag_1b_G13 -->\n<g id=\"edge17\" class=\"edge\">\n<title>QubitizationQPE:e-&gt;flag_1b_G13:w</title>\n<path fill=\"none\" stroke=\"black\" d=\"M205,-502C223.13,-502 229.62,-653.44 246.85,-665.27\"/>\n<ellipse fill=\"black\" stroke=\"black\" cx=\"248.05\" cy=\"-665.68\" rx=\"1\" ry=\"1\"/>\n<text text-anchor=\"middle\" x=\"223.5\" y=\"-567\" font-family=\"Times,serif\" font-size=\"10.00\">1</text>\n</g>\n<!-- swap_pq_G11 -->\n<g id=\"node19\" class=\"node\">\n<title>swap_pq_G11</title>\n<text text-anchor=\"middle\" x=\"279\" y=\"-608.3\" font-family=\"Times,serif\" font-size=\"14.00\">swap_pq</text>\n</g>\n<!-- QubitizationQPE&#45;&gt;swap_pq_G11 -->\n<g id=\"edge18\" class=\"edge\">\n<title>QubitizationQPE:e-&gt;swap_pq_G11:w</title>\n<path fill=\"none\" stroke=\"black\" d=\"M205,-481C236.69,-481 213.69,-519.7 223,-550 231.35,-577.19 216.61,-610.14 242.7,-611.92\"/>\n<ellipse fill=\"black\" stroke=\"black\" cx=\"244\" cy=\"-611.97\" rx=\"1\" ry=\"1\"/>\n<text text-anchor=\"middle\" x=\"223.5\" y=\"-556\" font-family=\"Times,serif\" font-size=\"10.00\">1</text>\n</g>\n<!-- swap_pqrs_G35 -->\n<g id=\"node20\" class=\"node\">\n<title>swap_pqrs_G35</title>\n<text text-anchor=\"middle\" x=\"279\" y=\"-554.3\" font-family=\"Times,serif\" font-size=\"14.00\">swap_pqrs</text>\n</g>\n<!-- QubitizationQPE&#45;&gt;swap_pqrs_G35 -->\n<g id=\"edge19\" class=\"edge\">\n<title>QubitizationQPE:e-&gt;swap_pqrs_G35:w</title>\n<path fill=\"none\" stroke=\"black\" d=\"M205,-460C250.83,-460 197.17,-554.96 239.89,-557.93\"/>\n<ellipse fill=\"black\" stroke=\"black\" cx=\"241\" cy=\"-557.97\" rx=\"1\" ry=\"1\"/>\n<text text-anchor=\"middle\" x=\"223.5\" y=\"-548\" font-family=\"Times,serif\" font-size=\"10.00\">1</text>\n</g>\n<!-- p_G29 -->\n<g id=\"node21\" class=\"node\">\n<title>p_G29</title>\n<text text-anchor=\"middle\" x=\"279\" y=\"-500.3\" font-family=\"Times,serif\" font-size=\"14.00\">p</text>\n</g>\n<!-- QubitizationQPE&#45;&gt;p_G29 -->\n<g id=\"edge20\" class=\"edge\">\n<title>QubitizationQPE:e-&gt;p_G29:w</title>\n<path fill=\"none\" stroke=\"black\" d=\"M205,-439C239.7,-439 216.55,-501.49 248.99,-503.93\"/>\n<ellipse fill=\"black\" stroke=\"black\" cx=\"250\" cy=\"-503.96\" rx=\"1\" ry=\"1\"/>\n<text text-anchor=\"middle\" x=\"223.5\" y=\"-456\" font-family=\"Times,serif\" font-size=\"10.00\">2</text>\n</g>\n<!-- d_G6 -->\n<g id=\"node22\" class=\"node\">\n<title>d_G6</title>\n<text text-anchor=\"middle\" x=\"279\" y=\"-446.3\" font-family=\"Times,serif\" font-size=\"14.00\">d</text>\n</g>\n<!-- QubitizationQPE&#45;&gt;d_G6 -->\n<g id=\"edge21\" class=\"edge\">\n<title>QubitizationQPE:e-&gt;d_G6:w</title>\n<path fill=\"none\" stroke=\"black\" d=\"M205,-418C229.13,-418 226.31,-448.03 248.75,-449.91\"/>\n<ellipse fill=\"black\" stroke=\"black\" cx=\"250\" cy=\"-449.96\" rx=\"1\" ry=\"1\"/>\n<text text-anchor=\"middle\" x=\"223.5\" y=\"-430\" font-family=\"Times,serif\" font-size=\"10.00\">5</text>\n</g>\n<!-- swap_rs_G5 -->\n<g id=\"node23\" class=\"node\">\n<title>swap_rs_G5</title>\n<text text-anchor=\"middle\" x=\"279\" y=\"-392.3\" font-family=\"Times,serif\" font-size=\"14.00\">swap_rs</text>\n</g>\n<!-- QubitizationQPE&#45;&gt;swap_rs_G5 -->\n<g id=\"edge22\" class=\"edge\">\n<title>QubitizationQPE:e-&gt;swap_rs_G5:w</title>\n<path fill=\"none\" stroke=\"black\" d=\"M205,-396C222.94,-396 227.95,-396 244.87,-396\"/>\n<ellipse fill=\"black\" stroke=\"black\" cx=\"246\" cy=\"-396\" rx=\"1\" ry=\"1\"/>\n<text text-anchor=\"middle\" x=\"223.5\" y=\"-399\" font-family=\"Times,serif\" font-size=\"10.00\">1</text>\n</g>\n<!-- s_G18 -->\n<g id=\"node24\" class=\"node\">\n<title>s_G18</title>\n<text text-anchor=\"middle\" x=\"279\" y=\"-338.3\" font-family=\"Times,serif\" font-size=\"14.00\">s</text>\n</g>\n<!-- QubitizationQPE&#45;&gt;s_G18 -->\n<g id=\"edge23\" class=\"edge\">\n<title>QubitizationQPE:e-&gt;s_G18:w</title>\n<path fill=\"none\" stroke=\"black\" d=\"M205,-375C229.47,-375 226.05,-343.78 249,-342.07\"/>\n<ellipse fill=\"black\" stroke=\"black\" cx=\"250\" cy=\"-342.04\" rx=\"1\" ry=\"1\"/>\n<text text-anchor=\"middle\" x=\"223.5\" y=\"-368\" font-family=\"Times,serif\" font-size=\"10.00\">2</text>\n</g>\n<!-- sigma_G7 -->\n<g id=\"node25\" class=\"node\">\n<title>sigma_G7</title>\n<text text-anchor=\"middle\" x=\"279\" y=\"-284.3\" font-family=\"Times,serif\" font-size=\"14.00\">sigma</text>\n</g>\n<!-- QubitizationQPE&#45;&gt;sigma_G7 -->\n<g id=\"edge24\" class=\"edge\">\n<title>QubitizationQPE:e-&gt;sigma_G7:w</title>\n<path fill=\"none\" stroke=\"black\" d=\"M205,-354C240.06,-354 216.22,-290.55 248.97,-288.07\"/>\n<ellipse fill=\"black\" stroke=\"black\" cx=\"250\" cy=\"-288.04\" rx=\"1\" ry=\"1\"/>\n<text text-anchor=\"middle\" x=\"223.5\" y=\"-344\" font-family=\"Times,serif\" font-size=\"10.00\">16</text>\n</g>\n<!-- r_G4 -->\n<g id=\"node26\" class=\"node\">\n<title>r_G4</title>\n<text text-anchor=\"middle\" x=\"279\" y=\"-230.3\" font-family=\"Times,serif\" font-size=\"14.00\">r</text>\n</g>\n<!-- QubitizationQPE&#45;&gt;r_G4 -->\n<g id=\"edge25\" class=\"edge\">\n<title>QubitizationQPE:e-&gt;r_G4:w</title>\n<path fill=\"none\" stroke=\"black\" d=\"M205,-333C252.76,-333 204.05,-237.07 248.8,-234.07\"/>\n<ellipse fill=\"black\" stroke=\"black\" cx=\"250\" cy=\"-234.03\" rx=\"1\" ry=\"1\"/>\n<text text-anchor=\"middle\" x=\"223.5\" y=\"-325\" font-family=\"Times,serif\" font-size=\"10.00\">2</text>\n</g>\n<!-- rot_aa_G40 -->\n<g id=\"node27\" class=\"node\">\n<title>rot_aa_G40</title>\n<text text-anchor=\"middle\" x=\"279\" y=\"-176.3\" font-family=\"Times,serif\" font-size=\"14.00\">rot_aa</text>\n</g>\n<!-- QubitizationQPE&#45;&gt;rot_aa_G40 -->\n<g id=\"edge26\" class=\"edge\">\n<title>QubitizationQPE:e-&gt;rot_aa_G40:w</title>\n<path fill=\"none\" stroke=\"black\" d=\"M205,-312C266.4,-312 190.69,-183.08 248.87,-180.05\"/>\n<ellipse fill=\"black\" stroke=\"black\" cx=\"250\" cy=\"-180.03\" rx=\"1\" ry=\"1\"/>\n<text text-anchor=\"middle\" x=\"223.5\" y=\"-307\" font-family=\"Times,serif\" font-size=\"10.00\">1</text>\n</g>\n<!-- q_G21 -->\n<g id=\"node28\" class=\"node\">\n<title>q_G21</title>\n<text text-anchor=\"middle\" x=\"279\" y=\"-122.3\" font-family=\"Times,serif\" font-size=\"14.00\">q</text>\n</g>\n<!-- QubitizationQPE&#45;&gt;q_G21 -->\n<g id=\"edge27\" class=\"edge\">\n<title>QubitizationQPE:e-&gt;q_G21:w</title>\n<path fill=\"none\" stroke=\"black\" d=\"M205,-291C280.39,-291 176.93,-129.21 248.82,-126.05\"/>\n<ellipse fill=\"black\" stroke=\"black\" cx=\"250\" cy=\"-126.02\" rx=\"1\" ry=\"1\"/>\n<text text-anchor=\"middle\" x=\"223.5\" y=\"-188\" font-family=\"Times,serif\" font-size=\"10.00\">2</text>\n</g>\n<!-- beta_G8 -->\n<g id=\"node29\" class=\"node\">\n<title>beta_G8</title>\n<text text-anchor=\"middle\" x=\"279\" y=\"-68.3\" font-family=\"Times,serif\" font-size=\"14.00\">beta</text>\n</g>\n<!-- QubitizationQPE&#45;&gt;beta_G8 -->\n<g id=\"edge28\" class=\"edge\">\n<title>QubitizationQPE:e-&gt;beta_G8:w</title>\n<path fill=\"none\" stroke=\"black\" d=\"M205,-270C233.72,-270 215.61,-169.76 223,-142 231.42,-110.38 218.14,-73.76 248.72,-72.06\"/>\n<ellipse fill=\"black\" stroke=\"black\" cx=\"250\" cy=\"-72.03\" rx=\"1\" ry=\"1\"/>\n<text text-anchor=\"middle\" x=\"223.5\" y=\"-145\" font-family=\"Times,serif\" font-size=\"10.00\">1</text>\n</g>\n<!-- sys_G12 -->\n<g id=\"node30\" class=\"node\">\n<title>sys_G12</title>\n<text text-anchor=\"middle\" x=\"279\" y=\"-14.3\" font-family=\"Times,serif\" font-size=\"14.00\">sys</text>\n</g>\n<!-- QubitizationQPE&#45;&gt;sys_G12 -->\n<g id=\"edge29\" class=\"edge\">\n<title>QubitizationQPE:e-&gt;sys_G12:w</title>\n<path fill=\"none\" stroke=\"black\" d=\"M205,-249C230.87,-249 218.3,-159.44 223,-134 230.35,-94.23 231.37,-84.02 242,-45 245.12,-33.56 239.18,-19.84 248.85,-18.17\"/>\n<ellipse fill=\"black\" stroke=\"black\" cx=\"250\" cy=\"-18.08\" rx=\"1\" ry=\"1\"/>\n<text text-anchor=\"middle\" x=\"223.5\" y=\"-137\" font-family=\"Times,serif\" font-size=\"10.00\">6</text>\n</g>\n</g>\n</svg>",
          "text/plain": "<IPython.core.display.SVG object>"
         },
         "metadata": {},
         "output_type": "display_data"
        }
       ],
       "tabbable": null,
       "tooltip": null
      }
     },
     "7db83f938fa64825ab96a46ee6abf195": {
      "model_module": "@jupyter-widgets/base",
      "model_module_version": "2.0.0",
      "model_name": "LayoutModel",
      "state": {
       "_model_module": "@jupyter-widgets/base",
       "_model_module_version": "2.0.0",
       "_model_name": "LayoutModel",
       "_view_count": null,
       "_view_module": "@jupyter-widgets/base",
       "_view_module_version": "2.0.0",
       "_view_name": "LayoutView",
       "align_content": null,
       "align_items": null,
       "align_self": null,
       "border_bottom": null,
       "border_left": null,
       "border_right": null,
       "border_top": null,
       "bottom": null,
       "display": null,
       "flex": null,
       "flex_flow": null,
       "grid_area": null,
       "grid_auto_columns": null,
       "grid_auto_flow": null,
       "grid_auto_rows": null,
       "grid_column": null,
       "grid_gap": null,
       "grid_row": null,
       "grid_template_areas": null,
       "grid_template_columns": null,
       "grid_template_rows": null,
       "height": null,
       "justify_content": null,
       "justify_items": null,
       "left": null,
       "margin": null,
       "max_height": null,
       "max_width": null,
       "min_height": null,
       "min_width": null,
       "object_fit": null,
       "object_position": null,
       "order": null,
       "overflow": null,
       "padding": null,
       "right": null,
       "top": null,
       "visibility": null,
       "width": null
      }
     },
     "83e61f3a37884df69bcc10dfaa7eaee1": {
      "model_module": "@jupyter-widgets/base",
      "model_module_version": "2.0.0",
      "model_name": "LayoutModel",
      "state": {
       "_model_module": "@jupyter-widgets/base",
       "_model_module_version": "2.0.0",
       "_model_name": "LayoutModel",
       "_view_count": null,
       "_view_module": "@jupyter-widgets/base",
       "_view_module_version": "2.0.0",
       "_view_name": "LayoutView",
       "align_content": null,
       "align_items": null,
       "align_self": null,
       "border_bottom": null,
       "border_left": null,
       "border_right": null,
       "border_top": null,
       "bottom": null,
       "display": null,
       "flex": null,
       "flex_flow": null,
       "grid_area": null,
       "grid_auto_columns": null,
       "grid_auto_flow": null,
       "grid_auto_rows": null,
       "grid_column": null,
       "grid_gap": null,
       "grid_row": null,
       "grid_template_areas": null,
       "grid_template_columns": null,
       "grid_template_rows": null,
       "height": null,
       "justify_content": null,
       "justify_items": null,
       "left": null,
       "margin": null,
       "max_height": null,
       "max_width": null,
       "min_height": null,
       "min_width": null,
       "object_fit": null,
       "object_position": null,
       "order": null,
       "overflow": null,
       "padding": null,
       "right": null,
       "top": null,
       "visibility": null,
       "width": null
      }
     },
     "8918b946e7504621b4e9fa32d7d15351": {
      "model_module": "@jupyter-widgets/base",
      "model_module_version": "2.0.0",
      "model_name": "LayoutModel",
      "state": {
       "_model_module": "@jupyter-widgets/base",
       "_model_module_version": "2.0.0",
       "_model_name": "LayoutModel",
       "_view_count": null,
       "_view_module": "@jupyter-widgets/base",
       "_view_module_version": "2.0.0",
       "_view_name": "LayoutView",
       "align_content": null,
       "align_items": null,
       "align_self": null,
       "border_bottom": null,
       "border_left": null,
       "border_right": null,
       "border_top": null,
       "bottom": null,
       "display": null,
       "flex": null,
       "flex_flow": null,
       "grid_area": null,
       "grid_auto_columns": null,
       "grid_auto_flow": null,
       "grid_auto_rows": null,
       "grid_column": null,
       "grid_gap": null,
       "grid_row": null,
       "grid_template_areas": null,
       "grid_template_columns": null,
       "grid_template_rows": null,
       "height": null,
       "justify_content": null,
       "justify_items": null,
       "left": null,
       "margin": null,
       "max_height": null,
       "max_width": null,
       "min_height": null,
       "min_width": null,
       "object_fit": null,
       "object_position": null,
       "order": null,
       "overflow": null,
       "padding": null,
       "right": null,
       "top": null,
       "visibility": null,
       "width": null
      }
     },
     "8cda0c3cd5e94a96ae9c73f9ed217c7d": {
      "model_module": "@jupyter-widgets/controls",
      "model_module_version": "2.0.0",
      "model_name": "HBoxModel",
      "state": {
       "_dom_classes": [],
       "_model_module": "@jupyter-widgets/controls",
       "_model_module_version": "2.0.0",
       "_model_name": "HBoxModel",
       "_view_count": null,
       "_view_module": "@jupyter-widgets/controls",
       "_view_module_version": "2.0.0",
       "_view_name": "HBoxView",
       "box_style": "",
       "children": [
        "IPY_MODEL_179c6d12d2be47e7b6e979013a592965",
        "IPY_MODEL_53ec2431433944748e456d163766dd9b",
        "IPY_MODEL_15c26742e480400f84cecfd4fed112d6",
        "IPY_MODEL_9dab69adfd3a4401b95879826a38dd7c"
       ],
       "layout": "IPY_MODEL_7db83f938fa64825ab96a46ee6abf195",
       "tabbable": null,
       "tooltip": null
      }
     },
     "9dab69adfd3a4401b95879826a38dd7c": {
      "model_module": "@jupyter-widgets/output",
      "model_module_version": "1.0.0",
      "model_name": "OutputModel",
      "state": {
       "_dom_classes": [],
       "_model_module": "@jupyter-widgets/output",
       "_model_module_version": "1.0.0",
       "_model_name": "OutputModel",
       "_view_count": null,
       "_view_module": "@jupyter-widgets/output",
       "_view_module_version": "1.0.0",
       "_view_name": "OutputView",
       "layout": "IPY_MODEL_2fe64fcba80a4518b6ef263085540a4b",
       "msg_id": "",
       "outputs": [
        {
         "data": {
          "text/markdown": "`qubitization_qpe_ising`",
          "text/plain": "<IPython.core.display.Markdown object>"
         },
         "metadata": {},
         "output_type": "display_data"
        },
        {
         "data": {
          "image/svg+xml": "<svg xmlns=\"http://www.w3.org/2000/svg\" xmlns:xlink=\"http://www.w3.org/1999/xlink\" width=\"301pt\" height=\"152pt\" viewBox=\"0.00 0.00 301.00 152.00\">\n<g id=\"graph0\" class=\"graph\" transform=\"scale(1 1) rotate(0) translate(4 148)\">\n<title>my_graph</title>\n<polygon fill=\"white\" stroke=\"transparent\" points=\"-4,4 -4,-148 297,-148 297,4 -4,4\"/>\n<!-- selection_G0 -->\n<g id=\"node1\" class=\"node\">\n<title>selection_G0</title>\n<text text-anchor=\"middle\" x=\"32.5\" y=\"-85.3\" font-family=\"Times,serif\" font-size=\"14.00\">selection</text>\n</g>\n<!-- QubitizationQPE -->\n<g id=\"node3\" class=\"node\">\n<title>QubitizationQPE</title>\n<polygon fill=\"none\" stroke=\"black\" points=\"102.5,-104 102.5,-121 191.5,-121 191.5,-104 102.5,-104\"/>\n<text text-anchor=\"start\" x=\"105.5\" y=\"-110\" font-family=\"Times,serif\" font-size=\"10.00\">QubitizationQPE[4]</text>\n<polygon fill=\"none\" stroke=\"black\" points=\"102.5,-83 102.5,-104 124.5,-104 124.5,-83 102.5,-83\"/>\n<polygon fill=\"none\" stroke=\"black\" points=\"124.5,-83 124.5,-104 191.5,-104 191.5,-83 124.5,-83\"/>\n<text text-anchor=\"start\" x=\"136\" y=\"-89.8\" font-family=\"Times,serif\" font-size=\"14.00\">qpe_reg</text>\n<polygon fill=\"none\" stroke=\"black\" points=\"102.5,-62 102.5,-83 191.5,-83 191.5,-62 102.5,-62\"/>\n<text text-anchor=\"start\" x=\"122.5\" y=\"-68.8\" font-family=\"Times,serif\" font-size=\"14.00\">selection</text>\n<polygon fill=\"none\" stroke=\"black\" points=\"102.5,-41 102.5,-62 191.5,-62 191.5,-41 102.5,-41\"/>\n<text text-anchor=\"start\" x=\"131.5\" y=\"-47.8\" font-family=\"Times,serif\" font-size=\"14.00\">target</text>\n</g>\n<!-- selection_G0&#45;&gt;QubitizationQPE -->\n<g id=\"edge1\" class=\"edge\">\n<title>selection_G0:e-&gt;QubitizationQPE:w</title>\n<path fill=\"none\" stroke=\"black\" d=\"M65,-89C82.39,-89 83.81,-73.3 99.96,-72.08\"/>\n<ellipse fill=\"black\" stroke=\"black\" cx=\"101\" cy=\"-72.04\" rx=\"1\" ry=\"1\"/>\n<text text-anchor=\"middle\" x=\"83.5\" y=\"-83\" font-family=\"Times,serif\" font-size=\"10.00\">3</text>\n</g>\n<!-- target_G7 -->\n<g id=\"node2\" class=\"node\">\n<title>target_G7</title>\n<text text-anchor=\"middle\" x=\"32.5\" y=\"-31.3\" font-family=\"Times,serif\" font-size=\"14.00\">target</text>\n</g>\n<!-- target_G7&#45;&gt;QubitizationQPE -->\n<g id=\"edge2\" class=\"edge\">\n<title>target_G7:e-&gt;QubitizationQPE:w</title>\n<path fill=\"none\" stroke=\"black\" d=\"M60.5,-35C79.5,-35 82.05,-49.77 99.76,-50.93\"/>\n<ellipse fill=\"black\" stroke=\"black\" cx=\"101\" cy=\"-50.97\" rx=\"1\" ry=\"1\"/>\n<text text-anchor=\"middle\" x=\"83.5\" y=\"-48\" font-family=\"Times,serif\" font-size=\"10.00\">4</text>\n</g>\n<!-- qpe_reg_G1 -->\n<g id=\"node4\" class=\"node\">\n<title>qpe_reg_G1</title>\n<text text-anchor=\"middle\" x=\"260.5\" y=\"-122.3\" font-family=\"Times,serif\" font-size=\"14.00\">qpe_reg</text>\n</g>\n<!-- QubitizationQPE&#45;&gt;qpe_reg_G1 -->\n<g id=\"edge3\" class=\"edge\">\n<title>QubitizationQPE:e-&gt;qpe_reg_G1:w</title>\n<path fill=\"none\" stroke=\"black\" d=\"M191,-94C212.55,-94 207.6,-124.03 227.5,-125.91\"/>\n<ellipse fill=\"black\" stroke=\"black\" cx=\"228.5\" cy=\"-125.95\" rx=\"1\" ry=\"1\"/>\n<text text-anchor=\"middle\" x=\"209.5\" y=\"-112\" font-family=\"Times,serif\" font-size=\"10.00\">4</text>\n</g>\n<!-- selection_G5 -->\n<g id=\"node5\" class=\"node\">\n<title>selection_G5</title>\n<text text-anchor=\"middle\" x=\"260.5\" y=\"-68.3\" font-family=\"Times,serif\" font-size=\"14.00\">selection</text>\n</g>\n<!-- QubitizationQPE&#45;&gt;selection_G5 -->\n<g id=\"edge4\" class=\"edge\">\n<title>QubitizationQPE:e-&gt;selection_G5:w</title>\n<path fill=\"none\" stroke=\"black\" d=\"M191,-72C206.67,-72 211.14,-72 225.77,-72\"/>\n<ellipse fill=\"black\" stroke=\"black\" cx=\"227\" cy=\"-72\" rx=\"1\" ry=\"1\"/>\n<text text-anchor=\"middle\" x=\"209.5\" y=\"-75\" font-family=\"Times,serif\" font-size=\"10.00\">3</text>\n</g>\n<!-- target_G4 -->\n<g id=\"node6\" class=\"node\">\n<title>target_G4</title>\n<text text-anchor=\"middle\" x=\"260.5\" y=\"-14.3\" font-family=\"Times,serif\" font-size=\"14.00\">target</text>\n</g>\n<!-- QubitizationQPE&#45;&gt;target_G4 -->\n<g id=\"edge5\" class=\"edge\">\n<title>QubitizationQPE:e-&gt;target_G4:w</title>\n<path fill=\"none\" stroke=\"black\" d=\"M191,-51C213.83,-51 209.26,-20.03 230.37,-18.09\"/>\n<ellipse fill=\"black\" stroke=\"black\" cx=\"231.5\" cy=\"-18.04\" rx=\"1\" ry=\"1\"/>\n<text text-anchor=\"middle\" x=\"209.5\" y=\"-43\" font-family=\"Times,serif\" font-size=\"10.00\">4</text>\n</g>\n</g>\n</svg>",
          "text/plain": "<IPython.core.display.SVG object>"
         },
         "metadata": {},
         "output_type": "display_data"
        }
       ],
       "tabbable": null,
       "tooltip": null
      }
     },
     "ff8bf7e3f8674a8b829fe179954337c5": {
      "model_module": "@jupyter-widgets/base",
      "model_module_version": "2.0.0",
      "model_name": "LayoutModel",
      "state": {
       "_model_module": "@jupyter-widgets/base",
       "_model_module_version": "2.0.0",
       "_model_name": "LayoutModel",
       "_view_count": null,
       "_view_module": "@jupyter-widgets/base",
       "_view_module_version": "2.0.0",
       "_view_name": "LayoutView",
       "align_content": null,
       "align_items": null,
       "align_self": null,
       "border_bottom": null,
       "border_left": null,
       "border_right": null,
       "border_top": null,
       "bottom": null,
       "display": null,
       "flex": null,
       "flex_flow": null,
       "grid_area": null,
       "grid_auto_columns": null,
       "grid_auto_flow": null,
       "grid_auto_rows": null,
       "grid_column": null,
       "grid_gap": null,
       "grid_row": null,
       "grid_template_areas": null,
       "grid_template_columns": null,
       "grid_template_rows": null,
       "height": null,
       "justify_content": null,
       "justify_items": null,
       "left": null,
       "margin": null,
       "max_height": null,
       "max_width": null,
       "min_height": null,
       "min_width": null,
       "object_fit": null,
       "object_position": null,
       "order": null,
       "overflow": null,
       "padding": null,
       "right": null,
       "top": null,
       "visibility": null,
       "width": null
      }
     }
    },
    "version_major": 2,
    "version_minor": 0
   }
  }
 },
 "nbformat": 4,
 "nbformat_minor": 5
}
