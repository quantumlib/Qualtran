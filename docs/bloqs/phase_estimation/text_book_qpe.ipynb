{
 "cells": [
  {
   "cell_type": "markdown",
   "id": "69261832",
   "metadata": {
    "cq.autogen": "title_cell"
   },
   "source": [
    "# Textbook Quantum Phase Estimation"
   ]
  },
  {
   "cell_type": "code",
   "execution_count": 1,
   "id": "71898ded",
   "metadata": {
    "cq.autogen": "top_imports"
   },
   "outputs": [],
   "source": [
    "from qualtran import Bloq, CompositeBloq, BloqBuilder, Signature, Register\n",
    "from qualtran import QBit, QInt, QUInt, QAny\n",
    "from qualtran.drawing import show_bloq, show_call_graph, show_counts_sigma\n",
    "from typing import *\n",
    "import numpy as np\n",
    "import sympy\n",
    "import cirq"
   ]
  },
  {
   "cell_type": "markdown",
   "id": "d9c794e6",
   "metadata": {
    "cq.autogen": "TextbookQPE.bloq_doc.md"
   },
   "source": [
    "## `TextbookQPE`\n",
    "Phase Estimation algorithm as presented in Chapter 5.2 of Neilson & Chuang\n",
    "\n",
    "The bloq implements the following phase estimation circuit, where `ctrl_state_prep` and\n",
    "`qft_inv` are configurable parameters.\n",
    "\n",
    "```\n",
    "       ┌─────────┐                              ┌─────────┐\n",
    "  |0> -│         │-----------------------@------│         │---M--- [m1]:highest bit\n",
    "       │         │                       |      │         │\n",
    "  |0> -│         │-----------------@-----+------│         │---M--- [m2]\n",
    "       │CtrlState│                 |     |      │ QFT_inv │\n",
    "  |0> -│  Prep   │-----------@-----+-----+------│         │---M--- [m3]\n",
    "       │         │           |     |     |      │         │\n",
    "  |0> -│         │-----@-----+-----+-----+------│         │---M--- [m4]:lowest bit\n",
    "       └─────────┘     |     |     |     |      └─────────┘\n",
    "|Psi> -----------------U-----U^2---U^4---U^8---------------------- |Psi>\n",
    "```\n",
    "\n",
    "Note that the circuit measures $\\varphi$ (in fixed point representation,\n",
    "so $0 \\leq \\varphi \\leq 1$) s.t. $e^{i\\phi}$ is an eigenvalue of $U$ where $\\phi = 2\\pi\\varphi$\n",
    "is the estimated phase.\n",
    "\n",
    "The standard textbook version, as described in Ref[1], uses\n",
    "\n",
    "1. A uniform state preparation via hadamard on all control qubits for `CtrlStatePrep`\n",
    "2. A textbook QFT inverse algorithm, implemented in `QFTTextBook`, for `QFT_inv`\n",
    "\n",
    "Some useful properties of the phase estimation algorithm are given as follows -\n",
    "\n",
    "## Cost of TextbookQPE\n",
    "The cost of textbook QPE on `m` control qubits is a sum of costs of\n",
    "\n",
    "1. **CtrlStatePrep** - This typically scales as $\\mathcal{O}(m)$. For uniform state preparation,\n",
    "        the cost is simply $m$ clifford gates.\n",
    "2. **Controlled-Us** - There are two cases:\n",
    "    1. If the unitary is fast forwardable; i.e. cost of $U^n$ is independent of $n$, the cost\n",
    "        of this step is simply $\\mathcal{O}(m \\text{ cost(C-U)})$\n",
    "    2. If the unitary is not fast forwardable; the cost of this step is\n",
    "        $\\mathcal{O}((2 ^ {m} - 1) \\text{cost(C-U)})$.\n",
    "4. **QFT_inv** - The textbook version of QFT uses $\\mathcal{O}(m^2)$ rotations but this can be\n",
    "        improved to $\\mathcal{O}(m \\log{m})$ using approximate QFT constructions.\n",
    "\n",
    "As seen above, in most cases the dominant cost of phase estimation comes from step 2.B, which\n",
    "depends exponentially on the number of control bits $m$.\n",
    "\n",
    "## Choosing number of control bits - $m$.\n",
    "In the analysis below, we assume the textbook version of phase estimation where `CtrlStatePrep`\n",
    "is a uniform state preparation. One can obtain smaller values for $m$ when using different\n",
    "initial states for the control register, like then `LPResourceState` implemented in Qualtran.\n",
    "\n",
    "### Dependence of $m$ using precision $n$ and success probability $\\delta$ as the measure of uncertainty\n",
    "One way to think about the uncertainty in the obtained phase is to consider the problem where\n",
    "you wish to estimate the phase $\\varphi$ upto $n$ bits of precision (i.e. with accuracy\n",
    "$2^{-n}$) with probability of success $1 - \\delta$. In this setup, the expression of $m$ can be\n",
    "written as (following Eq 5.35 of Ref[1])\n",
    "\n",
    "$$\n",
    "    m = n + \\left\\lceil\\log_2\\left({2 + \\frac{2}{\\delta}}\\right)\\right\\rceil\n",
    "$$\n",
    "\n",
    "Setting the number of bits $m$ as per the expression above, we get\n",
    "\n",
    "$$\n",
    "    Pr\\left[|\\tilde{\\varphi} - \\varphi| < \\frac{1}{2^n}\\right] \\geq 1 - \\delta\n",
    "$$\n",
    "\n",
    "Here $\\varphi$ is the true phase and $\\tilde{\\varphi}$ is the estimated phase.\n",
    "\n",
    "`TextbookQPE(unitary, RectangularWindow.from_precision_and_delta(precision, delta))` method\n",
    "can be used to instantiate the Bloq with parameters $m$ and $\\delta$ as described above.\n",
    "\n",
    "### Dependence of $m$ using standard deviation $\\epsilon$ as the measure of uncertainty\n",
    "A stronger way to bound the uncertainty in the obtained phase is to bound the variance of the\n",
    "estimator $\\tilde{\\varphi}$ by a given parameter $\\epsilon$. Following the analysis in Ref[1,2],\n",
    "we can show that the variance for textbook phase estimation follows the Standard Quantum\n",
    "Limit(SQL) of\n",
    "\n",
    "$$\n",
    "    \\sigma[\\phi] = 2\\pi \\sigma[\\tilde{\\varphi}] = 2\\pi\\sqrt{\\text{Var}[\\tilde{\\varphi}]}\n",
    "                                                \\leq\\frac{\\pi}{\\sqrt{M}}=\\frac{\\pi}{\\sqrt{2^m}}\n",
    "$$\n",
    "\n",
    "Therefore, to bound the standard deviation of the phase estimator $\\tilde{\\phi}$ by given parameter\n",
    "$\\epsilon$, we set\n",
    "\n",
    "$$\n",
    "    m = \\left\\lceil2\\log_2 \\left(\\frac{\\pi}{\\epsilon}\\right)\\right\\rceil\n",
    "$$\n",
    "\n",
    "`TextbookQPE(unitary, RectangularWindow.from_standard_deviation_eps(eps))` method can be\n",
    "used to instantiate the Bloq with parameter $\\epsilon$ as described above.\n",
    "\n",
    "\n",
    "#### Parameters\n",
    " - `unitary`: Bloq representing the unitary to run the phase estimation protocol on.\n",
    " - `ctrl_state_prep`: Bloq to prepare the control state on the phase register.\n",
    " - `qft_inv`: Bloq to apply inverse QFT on the phase register. Defaults to `QFTTextBook(self.m_bits).adjoint()`  \n",
    "\n",
    "#### Registers\n",
    " - `qpe_reg`: Control register of type `QFxp(self.m_bits, self.m_bits)` for phase estimation.\n",
    " - `target registers`: All registers used in `self.unitary.signature`  \n",
    "\n",
    "#### References\n",
    " - [Quantum Computation and Quantum Information: 10th Anniversary Edition, Nielsen & Chuang](https://www.cambridge.org/highereducation/books/quantum-computation-and-quantum-information/01E10196D0A682A6AEFFEA52D53BE9AE#overview). Chapter 5.2\n",
    " - [Entanglement-free Heisenberg-limited phase estimation](https://arxiv.org/abs/0709.2996). \n"
   ]
  },
  {
   "cell_type": "code",
   "execution_count": 2,
   "id": "5f77b8d6",
   "metadata": {
    "cq.autogen": "TextbookQPE.bloq_doc.py"
   },
   "outputs": [],
   "source": [
    "from qualtran.bloqs.phase_estimation import TextbookQPE"
   ]
  },
  {
   "cell_type": "markdown",
   "id": "b266e23f",
   "metadata": {
    "cq.autogen": "TextbookQPE.example_instances.md"
   },
   "source": [
    "### Example Instances"
   ]
  },
  {
   "cell_type": "code",
   "execution_count": 3,
   "id": "7b407070",
   "metadata": {
    "cq.autogen": "TextbookQPE.textbook_qpe_small"
   },
   "outputs": [],
   "source": [
    "from qualtran.bloqs.basic_gates import ZPowGate\n",
    "from qualtran.bloqs.phase_estimation import RectangularWindowState, TextbookQPE\n",
    "\n",
    "textbook_qpe_small = TextbookQPE(ZPowGate(exponent=2 * 0.234), RectangularWindowState(3))"
   ]
  },
  {
   "cell_type": "code",
   "execution_count": 4,
   "id": "4f338289",
   "metadata": {
    "cq.autogen": "TextbookQPE.textbook_qpe_using_m_bits"
   },
   "outputs": [],
   "source": [
    "import sympy\n",
    "\n",
    "from qualtran.bloqs.basic_gates import ZPowGate\n",
    "from qualtran.bloqs.phase_estimation import RectangularWindowState, TextbookQPE\n",
    "\n",
    "theta = sympy.Symbol('theta')\n",
    "m_bits = sympy.Symbol('m')\n",
    "textbook_qpe_using_m_bits = TextbookQPE(\n",
    "    ZPowGate(exponent=2 * theta), RectangularWindowState(m_bits)\n",
    ")"
   ]
  },
  {
   "cell_type": "code",
   "execution_count": 5,
   "id": "da75b058",
   "metadata": {
    "cq.autogen": "TextbookQPE.textbook_qpe_from_standard_deviation_eps"
   },
   "outputs": [],
   "source": [
    "import sympy\n",
    "\n",
    "from qualtran.bloqs.basic_gates import ZPowGate\n",
    "from qualtran.bloqs.phase_estimation import RectangularWindowState, TextbookQPE\n",
    "\n",
    "theta = sympy.Symbol('theta')\n",
    "epsilon = sympy.symbols('epsilon')\n",
    "textbook_qpe_from_standard_deviation_eps = TextbookQPE(\n",
    "    ZPowGate(exponent=2 * theta), RectangularWindowState.from_standard_deviation_eps(epsilon)\n",
    ")"
   ]
  },
  {
   "cell_type": "code",
   "execution_count": 6,
   "id": "09232258",
   "metadata": {
    "cq.autogen": "TextbookQPE.textbook_qpe_from_precision_and_delta"
   },
   "outputs": [],
   "source": [
    "import sympy\n",
    "\n",
    "from qualtran.bloqs.basic_gates import ZPowGate\n",
    "from qualtran.bloqs.phase_estimation import RectangularWindowState, TextbookQPE\n",
    "\n",
    "theta = sympy.Symbol('theta')\n",
    "precision, delta = sympy.symbols('n, delta')\n",
    "textbook_qpe_from_precision_and_delta = TextbookQPE(\n",
    "    ZPowGate(exponent=2 * theta),\n",
    "    RectangularWindowState.from_precision_and_delta(precision, delta),\n",
    ")"
   ]
  },
  {
   "cell_type": "markdown",
   "id": "709aee73",
   "metadata": {
    "cq.autogen": "TextbookQPE.graphical_signature.md"
   },
   "source": [
    "#### Graphical Signature"
   ]
  },
  {
   "cell_type": "code",
   "execution_count": 7,
   "id": "4492b3eb",
   "metadata": {
    "cq.autogen": "TextbookQPE.graphical_signature.py"
   },
   "outputs": [
    {
     "data": {
      "application/vnd.jupyter.widget-view+json": {
       "model_id": "076a80d61bf54b36a539ace2811225cc",
       "version_major": 2,
       "version_minor": 0
      },
      "text/plain": [
       "HBox(children=(Output(outputs=({'output_type': 'display_data', 'data': {'text/plain': '<IPython.core.display.M…"
      ]
     },
     "metadata": {},
     "output_type": "display_data"
    }
   ],
   "source": [
    "from qualtran.drawing import show_bloqs\n",
    "show_bloqs([textbook_qpe_small, textbook_qpe_using_m_bits, textbook_qpe_from_standard_deviation_eps, textbook_qpe_from_precision_and_delta],\n",
    "           ['`textbook_qpe_small`', '`textbook_qpe_using_m_bits`', '`textbook_qpe_from_standard_deviation_eps`', '`textbook_qpe_from_precision_and_delta`'])"
   ]
  },
  {
   "cell_type": "markdown",
   "id": "03a8c0ed",
   "metadata": {
    "cq.autogen": "TextbookQPE.call_graph.md"
   },
   "source": [
    "### Call Graph"
   ]
  },
  {
   "cell_type": "code",
   "execution_count": 8,
   "id": "acd6b4cc",
   "metadata": {
    "cq.autogen": "TextbookQPE.call_graph.py"
   },
   "outputs": [
    {
     "data": {
      "image/svg+xml": [
       "<svg xmlns=\"http://www.w3.org/2000/svg\" xmlns:xlink=\"http://www.w3.org/1999/xlink\" width=\"348pt\" height=\"131pt\" viewBox=\"0.00 0.00 348.00 131.00\">\n",
       "<g id=\"graph0\" class=\"graph\" transform=\"scale(1 1) rotate(0) translate(4 127)\">\n",
       "<title>counts</title>\n",
       "<polygon fill=\"white\" stroke=\"transparent\" points=\"-4,4 -4,-127 344,-127 344,4 -4,4\"/>\n",
       "<!-- b0 -->\n",
       "<g id=\"node1\" class=\"node\">\n",
       "<title>b0</title>\n",
       "<polygon fill=\"none\" stroke=\"black\" points=\"155,-93 155,-116 225,-116 225,-93 155,-93\"/>\n",
       "<text text-anchor=\"start\" x=\"161\" y=\"-102\" font-family=\"Times,serif\" font-size=\"10.00\">TextbookQPE</text>\n",
       "</g>\n",
       "<!-- b1 -->\n",
       "<g id=\"node2\" class=\"node\">\n",
       "<title>b1</title>\n",
       "<polygon fill=\"none\" stroke=\"black\" points=\"8,-6 8,-29 126,-29 126,-6 8,-6\"/>\n",
       "<text text-anchor=\"start\" x=\"14.5\" y=\"-15\" font-family=\"Times,serif\" font-size=\"10.00\">RectangularWindowState</text>\n",
       "</g>\n",
       "<!-- b0&#45;&gt;b1 -->\n",
       "<g id=\"edge1\" class=\"edge\">\n",
       "<title>b0-&gt;b1</title>\n",
       "<path fill=\"none\" stroke=\"black\" d=\"M165.11,-86.8C146.44,-73.9 120.69,-56.1 100.25,-41.98\"/>\n",
       "<polygon fill=\"black\" stroke=\"black\" points=\"102.07,-38.98 91.85,-36.18 98.09,-44.74 102.07,-38.98\"/>\n",
       "<text text-anchor=\"middle\" x=\"139.5\" y=\"-57.8\" font-family=\"Times,serif\" font-size=\"14.00\">1</text>\n",
       "</g>\n",
       "<!-- b2 -->\n",
       "<g id=\"node3\" class=\"node\">\n",
       "<title>b2</title>\n",
       "<polygon fill=\"none\" stroke=\"black\" points=\"160,-6 160,-29 220,-29 220,-6 160,-6\"/>\n",
       "<text text-anchor=\"start\" x=\"166.5\" y=\"-15\" font-family=\"Times,serif\" font-size=\"10.00\">CZ**0.468</text>\n",
       "</g>\n",
       "<!-- b0&#45;&gt;b2 -->\n",
       "<g id=\"edge2\" class=\"edge\">\n",
       "<title>b0-&gt;b2</title>\n",
       "<path fill=\"none\" stroke=\"black\" d=\"M190,-86.8C190,-75.16 190,-59.55 190,-46.24\"/>\n",
       "<polygon fill=\"black\" stroke=\"black\" points=\"193.5,-46.18 190,-36.18 186.5,-46.18 193.5,-46.18\"/>\n",
       "<text text-anchor=\"middle\" x=\"193.5\" y=\"-57.8\" font-family=\"Times,serif\" font-size=\"14.00\">7</text>\n",
       "</g>\n",
       "<!-- b3 -->\n",
       "<g id=\"node4\" class=\"node\">\n",
       "<title>b3</title>\n",
       "<polygon fill=\"none\" stroke=\"black\" points=\"254,-6 254,-29 332,-29 332,-6 254,-6\"/>\n",
       "<text text-anchor=\"start\" x=\"260.5\" y=\"-15\" font-family=\"Times,serif\" font-size=\"10.00\">QFTTextBook†</text>\n",
       "</g>\n",
       "<!-- b0&#45;&gt;b3 -->\n",
       "<g id=\"edge3\" class=\"edge\">\n",
       "<title>b0-&gt;b3</title>\n",
       "<path fill=\"none\" stroke=\"black\" d=\"M210.84,-86.8C226.2,-74.13 247.28,-56.73 264.24,-42.74\"/>\n",
       "<polygon fill=\"black\" stroke=\"black\" points=\"266.7,-45.24 272.19,-36.18 262.25,-39.84 266.7,-45.24\"/>\n",
       "<text text-anchor=\"middle\" x=\"250.5\" y=\"-57.8\" font-family=\"Times,serif\" font-size=\"14.00\">1</text>\n",
       "</g>\n",
       "</g>\n",
       "</svg>"
      ],
      "text/plain": [
       "<IPython.core.display.SVG object>"
      ]
     },
     "metadata": {},
     "output_type": "display_data"
    },
    {
     "data": {
      "text/markdown": [
       "#### Counts totals:\n",
       " - `CZ**0.468`: 7\n",
       " - `QFTTextBook†`: 1\n",
       " - `RectangularWindowState`: 1"
      ],
      "text/plain": [
       "<IPython.core.display.Markdown object>"
      ]
     },
     "metadata": {},
     "output_type": "display_data"
    }
   ],
   "source": [
    "from qualtran.resource_counting.generalizers import ignore_split_join\n",
    "textbook_qpe_small_g, textbook_qpe_small_sigma = textbook_qpe_small.call_graph(max_depth=1, generalizer=ignore_split_join)\n",
    "show_call_graph(textbook_qpe_small_g)\n",
    "show_counts_sigma(textbook_qpe_small_sigma)"
   ]
  },
  {
   "cell_type": "markdown",
   "id": "36d9d884-ccd3-45cd-9be8-0db809ea74f8",
   "metadata": {},
   "source": [
    "## Appendix\n",
    "\n",
    "### Derivation of variance for textbook phase estimation \n",
    "\n",
    "When using a phase register of size  $m$ and uniform superposition state as the initial state, textbook phase estimation ends with a state\n",
    "\n",
    "$$\n",
    "    \\frac{1}{2^m}\\sum_{k, l=0}^{2^m-1}e^\\frac{-2\\pi i k l}{2^m} e^{2 \\pi i \\varphi k} |l\\rangle\n",
    "$$\n",
    "\n",
    "Let $b$ be an integer in the range $[0, 2^m)$ that represents the best $m$-bit estimate of the phase $\\varphi$ s.t. $\\varphi = b / 2^m + \\delta$ where $0 \\leq \\delta \\leq 2^{-m}$. \n",
    "\n",
    "Let $\\alpha_l$ be the amplitude of state $|(b + l) \\text{ mod } 2^m\\rangle$, then $\\alpha_{l}$ can be written as \n",
    "\n",
    "$$\n",
    "    \\alpha_l = \\frac{1}{2^m} \\left( \\frac{1 - e^{2\\pi i \\left(2^m \\delta - l\\right)}}\n",
    "                                         {1 - e^{2\\pi i \\left(\\delta - l/2^m \\right)}} \\right)\n",
    "$$\n",
    "\n",
    "For any real $\\theta$, $|1 - e^{i \\theta}| \\leq 2$, so\n",
    "\n",
    "$$\n",
    "    |\\alpha_l| \\leq \\frac{2}{2^m | 1 - e^{2\\pi i \\left(\\delta - l/2^m \\right)} | }\n",
    "$$\n",
    "\n",
    "Whenever $-\\pi \\leq \\theta \\leq \\pi$, we have $|1 - e^{i \\theta}| \\geq \\frac{2 |\\theta|}{\\pi}$ and when $−2^{m−1} \\lt l \\leq 2^{m−1}$ we have $-\\pi \\leq 2\\pi \\left(\\delta - l/2^m \\right) \\leq \\pi$. Therefore, we have\n",
    "\n",
    "$$\n",
    "    |\\alpha_l| \\leq \\frac{1}{2^{m + 1} |\\left(\\delta - l/2^m \\right)| }\n",
    "$$\n",
    "\n",
    "Let $\\tilde{\\varphi}$ be a random variable that represents the estimated phase. We have\n",
    "\n",
    "$$\n",
    "\\begin{align}\n",
    "Var[\\tilde{\\varphi}]&\\leq \\sum_{l=-2^{m-1} + 1}^{2^{m-1}} |\\alpha_l|^2 \\left(\\frac{b + l}{2^m} - \\varphi\\right)^2 \\\\\n",
    "                    &= \\sum_{l=-2^{m-1} + 1}^{2^{m-1}} |\\alpha_l|^2 \\left(\\delta - l/2^m \\right)^2 \\\\ \n",
    "                    &= \\sum_{l=-2^{m-1} + 1}^{2^{m-1}} \\frac{1}{2^{2(m + 1)} |\\left(\\delta - l/2^m \\right)|}\\left(\\delta - l/2^m \\right)^2 \\\\\n",
    "                    &= \\sum_{l=-2^{m-1} + 1}^{2^{m-1}} \\frac{1}{2^{2(m + 1)}} \\\\\n",
    "                    &= \\frac{2^m}{2^{2(m + 1)}} = \\frac{1}{4 2^{m}} = \\frac{1}{4 M}\\\\\n",
    "\\end{align}\n",
    "$$\n",
    "\n",
    "Therefore, we get\n",
    "\n",
    "$$\n",
    "    \\sigma[\\tilde{\\phi}] = 2\\pi\\sigma[\\tilde{\\varphi}] = \\frac{\\pi}{\\sqrt{M}}\n",
    "$$"
   ]
  },
  {
   "cell_type": "markdown",
   "id": "1733fdc0",
   "metadata": {
    "cq.autogen": "RectangularWindowState.bloq_doc.md"
   },
   "source": [
    "## `RectangularWindowState`\n",
    "Window state used in Textbook version of QPE. Applies Hadamard on all qubits.\n",
    "\n",
    "#### Parameters\n",
    " - `bitsize`: Size of the control register to prepare window state on. \n",
    "\n",
    "#### Registers\n",
    " - `qpe_reg`: A `bitsize` sized RIGHT register.\n"
   ]
  },
  {
   "cell_type": "code",
   "execution_count": 9,
   "id": "8375feb8",
   "metadata": {
    "cq.autogen": "RectangularWindowState.bloq_doc.py"
   },
   "outputs": [],
   "source": [
    "from qualtran.bloqs.phase_estimation.qpe_window_state import RectangularWindowState"
   ]
  },
  {
   "cell_type": "markdown",
   "id": "61c031c5",
   "metadata": {
    "cq.autogen": "RectangularWindowState.example_instances.md"
   },
   "source": [
    "### Example Instances"
   ]
  },
  {
   "cell_type": "code",
   "execution_count": 10,
   "id": "e2e67e09",
   "metadata": {
    "cq.autogen": "RectangularWindowState.rectangular_window_state_small"
   },
   "outputs": [],
   "source": [
    "rectangular_window_state_small = RectangularWindowState(5)"
   ]
  },
  {
   "cell_type": "code",
   "execution_count": 11,
   "id": "d10555a9",
   "metadata": {
    "cq.autogen": "RectangularWindowState.rectangular_window_state_symbolic_symbolic"
   },
   "outputs": [],
   "source": [
    "import sympy\n",
    "\n",
    "rectangular_window_state_symbolic = RectangularWindowState(sympy.Symbol('n'))"
   ]
  },
  {
   "cell_type": "markdown",
   "id": "a9704923",
   "metadata": {
    "cq.autogen": "RectangularWindowState.graphical_signature.md"
   },
   "source": [
    "#### Graphical Signature"
   ]
  },
  {
   "cell_type": "code",
   "execution_count": 12,
   "id": "3f7f46cf",
   "metadata": {
    "cq.autogen": "RectangularWindowState.graphical_signature.py"
   },
   "outputs": [
    {
     "data": {
      "application/vnd.jupyter.widget-view+json": {
       "model_id": "b5dc12e73cb146e6961645186c5305a3",
       "version_major": 2,
       "version_minor": 0
      },
      "text/plain": [
       "HBox(children=(Output(outputs=({'output_type': 'display_data', 'data': {'text/plain': '<IPython.core.display.M…"
      ]
     },
     "metadata": {},
     "output_type": "display_data"
    }
   ],
   "source": [
    "from qualtran.drawing import show_bloqs\n",
    "show_bloqs([rectangular_window_state_small, rectangular_window_state_symbolic],\n",
    "           ['`rectangular_window_state_small`', '`rectangular_window_state_symbolic`'])"
   ]
  },
  {
   "cell_type": "markdown",
   "id": "f5a38462",
   "metadata": {
    "cq.autogen": "RectangularWindowState.call_graph.md"
   },
   "source": [
    "### Call Graph"
   ]
  },
  {
   "cell_type": "code",
   "execution_count": 13,
   "id": "8d153d32",
   "metadata": {
    "cq.autogen": "RectangularWindowState.call_graph.py"
   },
   "outputs": [
    {
     "data": {
      "image/svg+xml": [
       "<svg xmlns=\"http://www.w3.org/2000/svg\" xmlns:xlink=\"http://www.w3.org/1999/xlink\" width=\"146pt\" height=\"131pt\" viewBox=\"0.00 0.00 146.00 131.00\">\n",
       "<g id=\"graph0\" class=\"graph\" transform=\"scale(1 1) rotate(0) translate(4 127)\">\n",
       "<title>counts</title>\n",
       "<polygon fill=\"white\" stroke=\"transparent\" points=\"-4,4 -4,-127 142,-127 142,4 -4,4\"/>\n",
       "<!-- b0 -->\n",
       "<g id=\"node1\" class=\"node\">\n",
       "<title>b0</title>\n",
       "<polygon fill=\"none\" stroke=\"black\" points=\"8,-93 8,-116 126,-116 126,-93 8,-93\"/>\n",
       "<text text-anchor=\"start\" x=\"14.5\" y=\"-102\" font-family=\"Times,serif\" font-size=\"10.00\">RectangularWindowState</text>\n",
       "</g>\n",
       "<!-- b1 -->\n",
       "<g id=\"node2\" class=\"node\">\n",
       "<title>b1</title>\n",
       "<polygon fill=\"none\" stroke=\"black\" points=\"11,-6 11,-29 47,-29 47,-6 11,-6\"/>\n",
       "<text text-anchor=\"start\" x=\"17\" y=\"-15\" font-family=\"Times,serif\" font-size=\"10.00\">H⨂5</text>\n",
       "</g>\n",
       "<!-- b0&#45;&gt;b1 -->\n",
       "<g id=\"edge1\" class=\"edge\">\n",
       "<title>b0-&gt;b1</title>\n",
       "<path fill=\"none\" stroke=\"black\" d=\"M59.31,-86.8C54,-74.93 46.85,-58.93 40.82,-45.45\"/>\n",
       "<polygon fill=\"black\" stroke=\"black\" points=\"43.96,-43.88 36.68,-36.18 37.56,-46.73 43.96,-43.88\"/>\n",
       "<text text-anchor=\"middle\" x=\"54.5\" y=\"-57.8\" font-family=\"Times,serif\" font-size=\"14.00\">1</text>\n",
       "</g>\n",
       "<!-- b2 -->\n",
       "<g id=\"node3\" class=\"node\">\n",
       "<title>b2</title>\n",
       "<polygon fill=\"none\" stroke=\"black\" points=\"82,-6 82,-29 130,-29 130,-6 82,-6\"/>\n",
       "<text text-anchor=\"start\" x=\"88\" y=\"-15\" font-family=\"Times,serif\" font-size=\"10.00\">Allocate</text>\n",
       "</g>\n",
       "<!-- b0&#45;&gt;b2 -->\n",
       "<g id=\"edge2\" class=\"edge\">\n",
       "<title>b0-&gt;b2</title>\n",
       "<path fill=\"none\" stroke=\"black\" d=\"M74.89,-86.8C80.34,-74.93 87.68,-58.93 93.86,-45.45\"/>\n",
       "<polygon fill=\"black\" stroke=\"black\" points=\"97.13,-46.72 98.12,-36.18 90.77,-43.8 97.13,-46.72\"/>\n",
       "<text text-anchor=\"middle\" x=\"91.5\" y=\"-57.8\" font-family=\"Times,serif\" font-size=\"14.00\">1</text>\n",
       "</g>\n",
       "</g>\n",
       "</svg>"
      ],
      "text/plain": [
       "<IPython.core.display.SVG object>"
      ]
     },
     "metadata": {},
     "output_type": "display_data"
    },
    {
     "data": {
      "text/markdown": [
       "#### Counts totals:\n",
       " - `Allocate`: 1\n",
       " - `H⨂5`: 1"
      ],
      "text/plain": [
       "<IPython.core.display.Markdown object>"
      ]
     },
     "metadata": {},
     "output_type": "display_data"
    }
   ],
   "source": [
    "from qualtran.resource_counting.generalizers import ignore_split_join\n",
    "rectangular_window_state_small_g, rectangular_window_state_small_sigma = rectangular_window_state_small.call_graph(max_depth=1, generalizer=ignore_split_join)\n",
    "show_call_graph(rectangular_window_state_small_g)\n",
    "show_counts_sigma(rectangular_window_state_small_sigma)"
   ]
  },
  {
   "cell_type": "code",
   "execution_count": 14,
   "id": "a6c78a90",
   "metadata": {
    "cq.autogen": "RectangularWindowState.rectangular_window_state_symbolic"
   },
   "outputs": [],
   "source": [
    "import sympy\n",
    "\n",
    "rectangular_window_state_symbolic = RectangularWindowState(sympy.Symbol('n'))"
   ]
  }
 ],
 "metadata": {
  "kernelspec": {
   "display_name": "Python 3 (ipykernel)",
   "language": "python",
   "name": "python3"
  },
  "language_info": {
   "codemirror_mode": {
    "name": "ipython",
    "version": 3
   },
   "file_extension": ".py",
   "mimetype": "text/x-python",
   "name": "python",
   "nbconvert_exporter": "python",
   "pygments_lexer": "ipython3",
   "version": "3.11.8"
  },
  "widgets": {
   "application/vnd.jupyter.widget-state+json": {
    "state": {
     "076a80d61bf54b36a539ace2811225cc": {
      "model_module": "@jupyter-widgets/controls",
      "model_module_version": "2.0.0",
      "model_name": "HBoxModel",
      "state": {
       "_dom_classes": [],
       "_model_module": "@jupyter-widgets/controls",
       "_model_module_version": "2.0.0",
       "_model_name": "HBoxModel",
       "_view_count": null,
       "_view_module": "@jupyter-widgets/controls",
       "_view_module_version": "2.0.0",
       "_view_name": "HBoxView",
       "box_style": "",
       "children": [
        "IPY_MODEL_0b9090f07ad74002916766c60d2824a3",
        "IPY_MODEL_dc47522051824251862949f41dd695e3",
        "IPY_MODEL_e1758bdd4dae45dc81c3bfbdf553c8d7",
        "IPY_MODEL_1ce82b1dbfcf4856bbd04bf4a3aaf22b"
       ],
       "layout": "IPY_MODEL_9293462d296e447892ecab6ced0d2042",
       "tabbable": null,
       "tooltip": null
      }
     },
     "0b9090f07ad74002916766c60d2824a3": {
      "model_module": "@jupyter-widgets/output",
      "model_module_version": "1.0.0",
      "model_name": "OutputModel",
      "state": {
       "_dom_classes": [],
       "_model_module": "@jupyter-widgets/output",
       "_model_module_version": "1.0.0",
       "_model_name": "OutputModel",
       "_view_count": null,
       "_view_module": "@jupyter-widgets/output",
       "_view_module_version": "1.0.0",
       "_view_name": "OutputView",
       "layout": "IPY_MODEL_a4961d797fc34a89a893d7518c717bd8",
       "msg_id": "",
       "outputs": [
        {
         "data": {
          "text/markdown": "`textbook_qpe_small`",
          "text/plain": "<IPython.core.display.Markdown object>"
         },
         "metadata": {},
         "output_type": "display_data"
        },
        {
         "data": {
          "image/svg+xml": "<svg xmlns=\"http://www.w3.org/2000/svg\" xmlns:xlink=\"http://www.w3.org/1999/xlink\" width=\"260pt\" height=\"98pt\" viewBox=\"0.00 0.00 260.00 98.00\">\n<g id=\"graph0\" class=\"graph\" transform=\"scale(1 1) rotate(0) translate(4 94)\">\n<title>my_graph</title>\n<polygon fill=\"white\" stroke=\"transparent\" points=\"-4,4 -4,-94 256,-94 256,4 -4,4\"/>\n<!-- q_G3 -->\n<g id=\"node1\" class=\"node\">\n<title>q_G3</title>\n<text text-anchor=\"middle\" x=\"27\" y=\"-30.3\" font-family=\"Times,serif\" font-size=\"14.00\">q</text>\n</g>\n<!-- TextbookQPE -->\n<g id=\"node2\" class=\"node\">\n<title>TextbookQPE</title>\n<polygon fill=\"none\" stroke=\"black\" points=\"91,-66 91,-83 155,-83 155,-66 91,-66\"/>\n<text text-anchor=\"start\" x=\"94\" y=\"-72\" font-family=\"Times,serif\" font-size=\"10.00\">TextbookQPE</text>\n<polygon fill=\"none\" stroke=\"black\" points=\"91,-45 91,-66 101,-66 101,-45 91,-45\"/>\n<polygon fill=\"none\" stroke=\"black\" points=\"101,-45 101,-66 155,-66 155,-45 101,-45\"/>\n<text text-anchor=\"start\" x=\"106\" y=\"-51.8\" font-family=\"Times,serif\" font-size=\"14.00\">qpe_reg</text>\n<polygon fill=\"none\" stroke=\"black\" points=\"91,-24 91,-45 155,-45 155,-24 91,-24\"/>\n<text text-anchor=\"start\" x=\"119.5\" y=\"-30.8\" font-family=\"Times,serif\" font-size=\"14.00\">q</text>\n</g>\n<!-- q_G3&#45;&gt;TextbookQPE -->\n<g id=\"edge1\" class=\"edge\">\n<title>q_G3:e-&gt;TextbookQPE:w</title>\n<path fill=\"none\" stroke=\"black\" d=\"M54,-34C69.67,-34 74.14,-34 88.77,-34\"/>\n<ellipse fill=\"black\" stroke=\"black\" cx=\"90\" cy=\"-34\" rx=\"1\" ry=\"1\"/>\n<text text-anchor=\"middle\" x=\"72.5\" y=\"-38\" font-family=\"Times,serif\" font-size=\"10.00\">1</text>\n</g>\n<!-- qpe_reg_G2 -->\n<g id=\"node3\" class=\"node\">\n<title>qpe_reg_G2</title>\n<text text-anchor=\"middle\" x=\"222\" y=\"-68.3\" font-family=\"Times,serif\" font-size=\"14.00\">qpe_reg</text>\n</g>\n<!-- TextbookQPE&#45;&gt;qpe_reg_G2 -->\n<g id=\"edge2\" class=\"edge\">\n<title>TextbookQPE:e-&gt;qpe_reg_G2:w</title>\n<path fill=\"none\" stroke=\"black\" d=\"M155,-56C172.22,-56 173.97,-70.77 189.98,-71.93\"/>\n<ellipse fill=\"black\" stroke=\"black\" cx=\"191\" cy=\"-71.96\" rx=\"1\" ry=\"1\"/>\n<text text-anchor=\"middle\" x=\"173.5\" y=\"-67\" font-family=\"Times,serif\" font-size=\"10.00\">3</text>\n</g>\n<!-- q_G4 -->\n<g id=\"node4\" class=\"node\">\n<title>q_G4</title>\n<text text-anchor=\"middle\" x=\"222\" y=\"-14.3\" font-family=\"Times,serif\" font-size=\"14.00\">q</text>\n</g>\n<!-- TextbookQPE&#45;&gt;q_G4 -->\n<g id=\"edge3\" class=\"edge\">\n<title>TextbookQPE:e-&gt;q_G4:w</title>\n<path fill=\"none\" stroke=\"black\" d=\"M155,-34C173,-34 175.12,-19.23 191.88,-18.07\"/>\n<ellipse fill=\"black\" stroke=\"black\" cx=\"193\" cy=\"-18.03\" rx=\"1\" ry=\"1\"/>\n<text text-anchor=\"middle\" x=\"173.5\" y=\"-30\" font-family=\"Times,serif\" font-size=\"10.00\">1</text>\n</g>\n</g>\n</svg>",
          "text/plain": "<IPython.core.display.SVG object>"
         },
         "metadata": {},
         "output_type": "display_data"
        }
       ],
       "tabbable": null,
       "tooltip": null
      }
     },
     "1ce82b1dbfcf4856bbd04bf4a3aaf22b": {
      "model_module": "@jupyter-widgets/output",
      "model_module_version": "1.0.0",
      "model_name": "OutputModel",
      "state": {
       "_dom_classes": [],
       "_model_module": "@jupyter-widgets/output",
       "_model_module_version": "1.0.0",
       "_model_name": "OutputModel",
       "_view_count": null,
       "_view_module": "@jupyter-widgets/output",
       "_view_module_version": "1.0.0",
       "_view_name": "OutputView",
       "layout": "IPY_MODEL_9009b540778a48e79c4aadd47a31e947",
       "msg_id": "",
       "outputs": [
        {
         "data": {
          "text/markdown": "`textbook_qpe_from_precision_and_delta`",
          "text/plain": "<IPython.core.display.Markdown object>"
         },
         "metadata": {},
         "output_type": "display_data"
        },
        {
         "data": {
          "image/svg+xml": "<svg xmlns=\"http://www.w3.org/2000/svg\" xmlns:xlink=\"http://www.w3.org/1999/xlink\" width=\"260pt\" height=\"98pt\" viewBox=\"0.00 0.00 260.00 98.00\">\n<g id=\"graph0\" class=\"graph\" transform=\"scale(1 1) rotate(0) translate(4 94)\">\n<title>my_graph</title>\n<polygon fill=\"white\" stroke=\"transparent\" points=\"-4,4 -4,-94 256,-94 256,4 -4,4\"/>\n<!-- q_G1 -->\n<g id=\"node1\" class=\"node\">\n<title>q_G1</title>\n<text text-anchor=\"middle\" x=\"27\" y=\"-30.3\" font-family=\"Times,serif\" font-size=\"14.00\">q</text>\n</g>\n<!-- TextbookQPE -->\n<g id=\"node2\" class=\"node\">\n<title>TextbookQPE</title>\n<polygon fill=\"none\" stroke=\"black\" points=\"91,-66 91,-83 155,-83 155,-66 91,-66\"/>\n<text text-anchor=\"start\" x=\"94\" y=\"-72\" font-family=\"Times,serif\" font-size=\"10.00\">TextbookQPE</text>\n<polygon fill=\"none\" stroke=\"black\" points=\"91,-45 91,-66 101,-66 101,-45 91,-45\"/>\n<polygon fill=\"none\" stroke=\"black\" points=\"101,-45 101,-66 155,-66 155,-45 101,-45\"/>\n<text text-anchor=\"start\" x=\"106\" y=\"-51.8\" font-family=\"Times,serif\" font-size=\"14.00\">qpe_reg</text>\n<polygon fill=\"none\" stroke=\"black\" points=\"91,-24 91,-45 155,-45 155,-24 91,-24\"/>\n<text text-anchor=\"start\" x=\"119.5\" y=\"-30.8\" font-family=\"Times,serif\" font-size=\"14.00\">q</text>\n</g>\n<!-- q_G1&#45;&gt;TextbookQPE -->\n<g id=\"edge1\" class=\"edge\">\n<title>q_G1:e-&gt;TextbookQPE:w</title>\n<path fill=\"none\" stroke=\"black\" d=\"M54,-34C69.67,-34 74.14,-34 88.77,-34\"/>\n<ellipse fill=\"black\" stroke=\"black\" cx=\"90\" cy=\"-34\" rx=\"1\" ry=\"1\"/>\n<text text-anchor=\"middle\" x=\"72.5\" y=\"-38\" font-family=\"Times,serif\" font-size=\"10.00\">1</text>\n</g>\n<!-- qpe_reg_G0 -->\n<g id=\"node3\" class=\"node\">\n<title>qpe_reg_G0</title>\n<text text-anchor=\"middle\" x=\"222\" y=\"-68.3\" font-family=\"Times,serif\" font-size=\"14.00\">qpe_reg</text>\n</g>\n<!-- TextbookQPE&#45;&gt;qpe_reg_G0 -->\n<g id=\"edge2\" class=\"edge\">\n<title>TextbookQPE:e-&gt;qpe_reg_G0:w</title>\n<path fill=\"none\" stroke=\"black\" d=\"M155,-56C172.22,-56 173.97,-70.77 189.98,-71.93\"/>\n<ellipse fill=\"black\" stroke=\"black\" cx=\"191\" cy=\"-71.96\" rx=\"1\" ry=\"1\"/>\n<text text-anchor=\"middle\" x=\"173.5\" y=\"-67\" font-family=\"Times,serif\" font-size=\"10.00\">n + ceiling(log2(2 + 1/(2*delta)))</text>\n</g>\n<!-- q_G4 -->\n<g id=\"node4\" class=\"node\">\n<title>q_G4</title>\n<text text-anchor=\"middle\" x=\"222\" y=\"-14.3\" font-family=\"Times,serif\" font-size=\"14.00\">q</text>\n</g>\n<!-- TextbookQPE&#45;&gt;q_G4 -->\n<g id=\"edge3\" class=\"edge\">\n<title>TextbookQPE:e-&gt;q_G4:w</title>\n<path fill=\"none\" stroke=\"black\" d=\"M155,-34C173,-34 175.12,-19.23 191.88,-18.07\"/>\n<ellipse fill=\"black\" stroke=\"black\" cx=\"193\" cy=\"-18.03\" rx=\"1\" ry=\"1\"/>\n<text text-anchor=\"middle\" x=\"173.5\" y=\"-30\" font-family=\"Times,serif\" font-size=\"10.00\">1</text>\n</g>\n</g>\n</svg>",
          "text/plain": "<IPython.core.display.SVG object>"
         },
         "metadata": {},
         "output_type": "display_data"
        }
       ],
       "tabbable": null,
       "tooltip": null
      }
     },
     "2bc1639f534145d1a7b3edd8f1ac66b0": {
      "model_module": "@jupyter-widgets/base",
      "model_module_version": "2.0.0",
      "model_name": "LayoutModel",
      "state": {
       "_model_module": "@jupyter-widgets/base",
       "_model_module_version": "2.0.0",
       "_model_name": "LayoutModel",
       "_view_count": null,
       "_view_module": "@jupyter-widgets/base",
       "_view_module_version": "2.0.0",
       "_view_name": "LayoutView",
       "align_content": null,
       "align_items": null,
       "align_self": null,
       "border_bottom": null,
       "border_left": null,
       "border_right": null,
       "border_top": null,
       "bottom": null,
       "display": null,
       "flex": null,
       "flex_flow": null,
       "grid_area": null,
       "grid_auto_columns": null,
       "grid_auto_flow": null,
       "grid_auto_rows": null,
       "grid_column": null,
       "grid_gap": null,
       "grid_row": null,
       "grid_template_areas": null,
       "grid_template_columns": null,
       "grid_template_rows": null,
       "height": null,
       "justify_content": null,
       "justify_items": null,
       "left": null,
       "margin": null,
       "max_height": null,
       "max_width": null,
       "min_height": null,
       "min_width": null,
       "object_fit": null,
       "object_position": null,
       "order": null,
       "overflow": null,
       "padding": null,
       "right": null,
       "top": null,
       "visibility": null,
       "width": null
      }
     },
     "2f3eeb184edc4204ae7d1aa65ddd1a43": {
      "model_module": "@jupyter-widgets/base",
      "model_module_version": "2.0.0",
      "model_name": "LayoutModel",
      "state": {
       "_model_module": "@jupyter-widgets/base",
       "_model_module_version": "2.0.0",
       "_model_name": "LayoutModel",
       "_view_count": null,
       "_view_module": "@jupyter-widgets/base",
       "_view_module_version": "2.0.0",
       "_view_name": "LayoutView",
       "align_content": null,
       "align_items": null,
       "align_self": null,
       "border_bottom": null,
       "border_left": null,
       "border_right": null,
       "border_top": null,
       "bottom": null,
       "display": null,
       "flex": null,
       "flex_flow": null,
       "grid_area": null,
       "grid_auto_columns": null,
       "grid_auto_flow": null,
       "grid_auto_rows": null,
       "grid_column": null,
       "grid_gap": null,
       "grid_row": null,
       "grid_template_areas": null,
       "grid_template_columns": null,
       "grid_template_rows": null,
       "height": null,
       "justify_content": null,
       "justify_items": null,
       "left": null,
       "margin": null,
       "max_height": null,
       "max_width": null,
       "min_height": null,
       "min_width": null,
       "object_fit": null,
       "object_position": null,
       "order": null,
       "overflow": null,
       "padding": null,
       "right": null,
       "top": null,
       "visibility": null,
       "width": null
      }
     },
     "6097c958d3e44585a73474b753ece3c9": {
      "model_module": "@jupyter-widgets/base",
      "model_module_version": "2.0.0",
      "model_name": "LayoutModel",
      "state": {
       "_model_module": "@jupyter-widgets/base",
       "_model_module_version": "2.0.0",
       "_model_name": "LayoutModel",
       "_view_count": null,
       "_view_module": "@jupyter-widgets/base",
       "_view_module_version": "2.0.0",
       "_view_name": "LayoutView",
       "align_content": null,
       "align_items": null,
       "align_self": null,
       "border_bottom": null,
       "border_left": null,
       "border_right": null,
       "border_top": null,
       "bottom": null,
       "display": null,
       "flex": null,
       "flex_flow": null,
       "grid_area": null,
       "grid_auto_columns": null,
       "grid_auto_flow": null,
       "grid_auto_rows": null,
       "grid_column": null,
       "grid_gap": null,
       "grid_row": null,
       "grid_template_areas": null,
       "grid_template_columns": null,
       "grid_template_rows": null,
       "height": null,
       "justify_content": null,
       "justify_items": null,
       "left": null,
       "margin": null,
       "max_height": null,
       "max_width": null,
       "min_height": null,
       "min_width": null,
       "object_fit": null,
       "object_position": null,
       "order": null,
       "overflow": null,
       "padding": null,
       "right": null,
       "top": null,
       "visibility": null,
       "width": null
      }
     },
     "64342b5cc8024668a3d882d1c1c64dcc": {
      "model_module": "@jupyter-widgets/output",
      "model_module_version": "1.0.0",
      "model_name": "OutputModel",
      "state": {
       "_dom_classes": [],
       "_model_module": "@jupyter-widgets/output",
       "_model_module_version": "1.0.0",
       "_model_name": "OutputModel",
       "_view_count": null,
       "_view_module": "@jupyter-widgets/output",
       "_view_module_version": "1.0.0",
       "_view_name": "OutputView",
       "layout": "IPY_MODEL_2f3eeb184edc4204ae7d1aa65ddd1a43",
       "msg_id": "",
       "outputs": [
        {
         "data": {
          "text/markdown": "`rectangular_window_state_symbolic`",
          "text/plain": "<IPython.core.display.Markdown object>"
         },
         "metadata": {},
         "output_type": "display_data"
        },
        {
         "data": {
          "image/svg+xml": "<svg xmlns=\"http://www.w3.org/2000/svg\" xmlns:xlink=\"http://www.w3.org/1999/xlink\" width=\"216pt\" height=\"54pt\" viewBox=\"0.00 0.00 216.00 54.00\">\n<g id=\"graph0\" class=\"graph\" transform=\"scale(1 1) rotate(0) translate(4 50)\">\n<title>my_graph</title>\n<polygon fill=\"white\" stroke=\"transparent\" points=\"-4,4 -4,-50 212,-50 212,4 -4,4\"/>\n<!-- RectangularWindowState -->\n<g id=\"node1\" class=\"node\">\n<title>RectangularWindowState</title>\n<polygon fill=\"none\" stroke=\"black\" points=\"0.5,-29 0.5,-46 111.5,-46 111.5,-29 0.5,-29\"/>\n<text text-anchor=\"start\" x=\"3.5\" y=\"-35\" font-family=\"Times,serif\" font-size=\"10.00\">RectangularWindowState</text>\n<polygon fill=\"none\" stroke=\"black\" points=\"0.5,-8 0.5,-29 33.5,-29 33.5,-8 0.5,-8\"/>\n<polygon fill=\"none\" stroke=\"black\" points=\"33.5,-8 33.5,-29 111.5,-29 111.5,-8 33.5,-8\"/>\n<text text-anchor=\"start\" x=\"50.5\" y=\"-14.8\" font-family=\"Times,serif\" font-size=\"14.00\">qpe_reg</text>\n</g>\n<!-- qpe_reg_G0 -->\n<g id=\"node2\" class=\"node\">\n<title>qpe_reg_G0</title>\n<text text-anchor=\"middle\" x=\"178\" y=\"-14.3\" font-family=\"Times,serif\" font-size=\"14.00\">qpe_reg</text>\n</g>\n<!-- RectangularWindowState&#45;&gt;qpe_reg_G0 -->\n<g id=\"edge1\" class=\"edge\">\n<title>RectangularWindowState:e-&gt;qpe_reg_G0:w</title>\n<path fill=\"none\" stroke=\"black\" d=\"M111,-18C126.67,-18 131.14,-18 145.77,-18\"/>\n<ellipse fill=\"black\" stroke=\"black\" cx=\"147\" cy=\"-18\" rx=\"1\" ry=\"1\"/>\n<text text-anchor=\"middle\" x=\"129.5\" y=\"-21\" font-family=\"Times,serif\" font-size=\"10.00\">n</text>\n</g>\n</g>\n</svg>",
          "text/plain": "<IPython.core.display.SVG object>"
         },
         "metadata": {},
         "output_type": "display_data"
        }
       ],
       "tabbable": null,
       "tooltip": null
      }
     },
     "67b3e6a8fae94cb3b45738c14f3f17dd": {
      "model_module": "@jupyter-widgets/base",
      "model_module_version": "2.0.0",
      "model_name": "LayoutModel",
      "state": {
       "_model_module": "@jupyter-widgets/base",
       "_model_module_version": "2.0.0",
       "_model_name": "LayoutModel",
       "_view_count": null,
       "_view_module": "@jupyter-widgets/base",
       "_view_module_version": "2.0.0",
       "_view_name": "LayoutView",
       "align_content": null,
       "align_items": null,
       "align_self": null,
       "border_bottom": null,
       "border_left": null,
       "border_right": null,
       "border_top": null,
       "bottom": null,
       "display": null,
       "flex": null,
       "flex_flow": null,
       "grid_area": null,
       "grid_auto_columns": null,
       "grid_auto_flow": null,
       "grid_auto_rows": null,
       "grid_column": null,
       "grid_gap": null,
       "grid_row": null,
       "grid_template_areas": null,
       "grid_template_columns": null,
       "grid_template_rows": null,
       "height": null,
       "justify_content": null,
       "justify_items": null,
       "left": null,
       "margin": null,
       "max_height": null,
       "max_width": null,
       "min_height": null,
       "min_width": null,
       "object_fit": null,
       "object_position": null,
       "order": null,
       "overflow": null,
       "padding": null,
       "right": null,
       "top": null,
       "visibility": null,
       "width": null
      }
     },
     "7cfc32f74c984673b2059ad9453e8aca": {
      "model_module": "@jupyter-widgets/base",
      "model_module_version": "2.0.0",
      "model_name": "LayoutModel",
      "state": {
       "_model_module": "@jupyter-widgets/base",
       "_model_module_version": "2.0.0",
       "_model_name": "LayoutModel",
       "_view_count": null,
       "_view_module": "@jupyter-widgets/base",
       "_view_module_version": "2.0.0",
       "_view_name": "LayoutView",
       "align_content": null,
       "align_items": null,
       "align_self": null,
       "border_bottom": null,
       "border_left": null,
       "border_right": null,
       "border_top": null,
       "bottom": null,
       "display": null,
       "flex": null,
       "flex_flow": null,
       "grid_area": null,
       "grid_auto_columns": null,
       "grid_auto_flow": null,
       "grid_auto_rows": null,
       "grid_column": null,
       "grid_gap": null,
       "grid_row": null,
       "grid_template_areas": null,
       "grid_template_columns": null,
       "grid_template_rows": null,
       "height": null,
       "justify_content": null,
       "justify_items": null,
       "left": null,
       "margin": null,
       "max_height": null,
       "max_width": null,
       "min_height": null,
       "min_width": null,
       "object_fit": null,
       "object_position": null,
       "order": null,
       "overflow": null,
       "padding": null,
       "right": null,
       "top": null,
       "visibility": null,
       "width": null
      }
     },
     "9009b540778a48e79c4aadd47a31e947": {
      "model_module": "@jupyter-widgets/base",
      "model_module_version": "2.0.0",
      "model_name": "LayoutModel",
      "state": {
       "_model_module": "@jupyter-widgets/base",
       "_model_module_version": "2.0.0",
       "_model_name": "LayoutModel",
       "_view_count": null,
       "_view_module": "@jupyter-widgets/base",
       "_view_module_version": "2.0.0",
       "_view_name": "LayoutView",
       "align_content": null,
       "align_items": null,
       "align_self": null,
       "border_bottom": null,
       "border_left": null,
       "border_right": null,
       "border_top": null,
       "bottom": null,
       "display": null,
       "flex": null,
       "flex_flow": null,
       "grid_area": null,
       "grid_auto_columns": null,
       "grid_auto_flow": null,
       "grid_auto_rows": null,
       "grid_column": null,
       "grid_gap": null,
       "grid_row": null,
       "grid_template_areas": null,
       "grid_template_columns": null,
       "grid_template_rows": null,
       "height": null,
       "justify_content": null,
       "justify_items": null,
       "left": null,
       "margin": null,
       "max_height": null,
       "max_width": null,
       "min_height": null,
       "min_width": null,
       "object_fit": null,
       "object_position": null,
       "order": null,
       "overflow": null,
       "padding": null,
       "right": null,
       "top": null,
       "visibility": null,
       "width": null
      }
     },
     "9293462d296e447892ecab6ced0d2042": {
      "model_module": "@jupyter-widgets/base",
      "model_module_version": "2.0.0",
      "model_name": "LayoutModel",
      "state": {
       "_model_module": "@jupyter-widgets/base",
       "_model_module_version": "2.0.0",
       "_model_name": "LayoutModel",
       "_view_count": null,
       "_view_module": "@jupyter-widgets/base",
       "_view_module_version": "2.0.0",
       "_view_name": "LayoutView",
       "align_content": null,
       "align_items": null,
       "align_self": null,
       "border_bottom": null,
       "border_left": null,
       "border_right": null,
       "border_top": null,
       "bottom": null,
       "display": null,
       "flex": null,
       "flex_flow": null,
       "grid_area": null,
       "grid_auto_columns": null,
       "grid_auto_flow": null,
       "grid_auto_rows": null,
       "grid_column": null,
       "grid_gap": null,
       "grid_row": null,
       "grid_template_areas": null,
       "grid_template_columns": null,
       "grid_template_rows": null,
       "height": null,
       "justify_content": null,
       "justify_items": null,
       "left": null,
       "margin": null,
       "max_height": null,
       "max_width": null,
       "min_height": null,
       "min_width": null,
       "object_fit": null,
       "object_position": null,
       "order": null,
       "overflow": null,
       "padding": null,
       "right": null,
       "top": null,
       "visibility": null,
       "width": null
      }
     },
     "a4961d797fc34a89a893d7518c717bd8": {
      "model_module": "@jupyter-widgets/base",
      "model_module_version": "2.0.0",
      "model_name": "LayoutModel",
      "state": {
       "_model_module": "@jupyter-widgets/base",
       "_model_module_version": "2.0.0",
       "_model_name": "LayoutModel",
       "_view_count": null,
       "_view_module": "@jupyter-widgets/base",
       "_view_module_version": "2.0.0",
       "_view_name": "LayoutView",
       "align_content": null,
       "align_items": null,
       "align_self": null,
       "border_bottom": null,
       "border_left": null,
       "border_right": null,
       "border_top": null,
       "bottom": null,
       "display": null,
       "flex": null,
       "flex_flow": null,
       "grid_area": null,
       "grid_auto_columns": null,
       "grid_auto_flow": null,
       "grid_auto_rows": null,
       "grid_column": null,
       "grid_gap": null,
       "grid_row": null,
       "grid_template_areas": null,
       "grid_template_columns": null,
       "grid_template_rows": null,
       "height": null,
       "justify_content": null,
       "justify_items": null,
       "left": null,
       "margin": null,
       "max_height": null,
       "max_width": null,
       "min_height": null,
       "min_width": null,
       "object_fit": null,
       "object_position": null,
       "order": null,
       "overflow": null,
       "padding": null,
       "right": null,
       "top": null,
       "visibility": null,
       "width": null
      }
     },
     "b5dc12e73cb146e6961645186c5305a3": {
      "model_module": "@jupyter-widgets/controls",
      "model_module_version": "2.0.0",
      "model_name": "HBoxModel",
      "state": {
       "_dom_classes": [],
       "_model_module": "@jupyter-widgets/controls",
       "_model_module_version": "2.0.0",
       "_model_name": "HBoxModel",
       "_view_count": null,
       "_view_module": "@jupyter-widgets/controls",
       "_view_module_version": "2.0.0",
       "_view_name": "HBoxView",
       "box_style": "",
       "children": [
        "IPY_MODEL_c66e94ded6c74630974060e81111496e",
        "IPY_MODEL_64342b5cc8024668a3d882d1c1c64dcc"
       ],
       "layout": "IPY_MODEL_7cfc32f74c984673b2059ad9453e8aca",
       "tabbable": null,
       "tooltip": null
      }
     },
     "c66e94ded6c74630974060e81111496e": {
      "model_module": "@jupyter-widgets/output",
      "model_module_version": "1.0.0",
      "model_name": "OutputModel",
      "state": {
       "_dom_classes": [],
       "_model_module": "@jupyter-widgets/output",
       "_model_module_version": "1.0.0",
       "_model_name": "OutputModel",
       "_view_count": null,
       "_view_module": "@jupyter-widgets/output",
       "_view_module_version": "1.0.0",
       "_view_name": "OutputView",
       "layout": "IPY_MODEL_2bc1639f534145d1a7b3edd8f1ac66b0",
       "msg_id": "",
       "outputs": [
        {
         "data": {
          "text/markdown": "`rectangular_window_state_small`",
          "text/plain": "<IPython.core.display.Markdown object>"
         },
         "metadata": {},
         "output_type": "display_data"
        },
        {
         "data": {
          "image/svg+xml": "<svg xmlns=\"http://www.w3.org/2000/svg\" xmlns:xlink=\"http://www.w3.org/1999/xlink\" width=\"216pt\" height=\"54pt\" viewBox=\"0.00 0.00 216.00 54.00\">\n<g id=\"graph0\" class=\"graph\" transform=\"scale(1 1) rotate(0) translate(4 50)\">\n<title>my_graph</title>\n<polygon fill=\"white\" stroke=\"transparent\" points=\"-4,4 -4,-50 212,-50 212,4 -4,4\"/>\n<!-- RectangularWindowState -->\n<g id=\"node1\" class=\"node\">\n<title>RectangularWindowState</title>\n<polygon fill=\"none\" stroke=\"black\" points=\"0.5,-29 0.5,-46 111.5,-46 111.5,-29 0.5,-29\"/>\n<text text-anchor=\"start\" x=\"3.5\" y=\"-35\" font-family=\"Times,serif\" font-size=\"10.00\">RectangularWindowState</text>\n<polygon fill=\"none\" stroke=\"black\" points=\"0.5,-8 0.5,-29 33.5,-29 33.5,-8 0.5,-8\"/>\n<polygon fill=\"none\" stroke=\"black\" points=\"33.5,-8 33.5,-29 111.5,-29 111.5,-8 33.5,-8\"/>\n<text text-anchor=\"start\" x=\"50.5\" y=\"-14.8\" font-family=\"Times,serif\" font-size=\"14.00\">qpe_reg</text>\n</g>\n<!-- qpe_reg_G1 -->\n<g id=\"node2\" class=\"node\">\n<title>qpe_reg_G1</title>\n<text text-anchor=\"middle\" x=\"178\" y=\"-14.3\" font-family=\"Times,serif\" font-size=\"14.00\">qpe_reg</text>\n</g>\n<!-- RectangularWindowState&#45;&gt;qpe_reg_G1 -->\n<g id=\"edge1\" class=\"edge\">\n<title>RectangularWindowState:e-&gt;qpe_reg_G1:w</title>\n<path fill=\"none\" stroke=\"black\" d=\"M111,-18C126.67,-18 131.14,-18 145.77,-18\"/>\n<ellipse fill=\"black\" stroke=\"black\" cx=\"147\" cy=\"-18\" rx=\"1\" ry=\"1\"/>\n<text text-anchor=\"middle\" x=\"129.5\" y=\"-21\" font-family=\"Times,serif\" font-size=\"10.00\">5</text>\n</g>\n</g>\n</svg>",
          "text/plain": "<IPython.core.display.SVG object>"
         },
         "metadata": {},
         "output_type": "display_data"
        }
       ],
       "tabbable": null,
       "tooltip": null
      }
     },
     "dc47522051824251862949f41dd695e3": {
      "model_module": "@jupyter-widgets/output",
      "model_module_version": "1.0.0",
      "model_name": "OutputModel",
      "state": {
       "_dom_classes": [],
       "_model_module": "@jupyter-widgets/output",
       "_model_module_version": "1.0.0",
       "_model_name": "OutputModel",
       "_view_count": null,
       "_view_module": "@jupyter-widgets/output",
       "_view_module_version": "1.0.0",
       "_view_name": "OutputView",
       "layout": "IPY_MODEL_67b3e6a8fae94cb3b45738c14f3f17dd",
       "msg_id": "",
       "outputs": [
        {
         "data": {
          "text/markdown": "`textbook_qpe_using_m_bits`",
          "text/plain": "<IPython.core.display.Markdown object>"
         },
         "metadata": {},
         "output_type": "display_data"
        },
        {
         "data": {
          "image/svg+xml": "<svg xmlns=\"http://www.w3.org/2000/svg\" xmlns:xlink=\"http://www.w3.org/1999/xlink\" width=\"260pt\" height=\"98pt\" viewBox=\"0.00 0.00 260.00 98.00\">\n<g id=\"graph0\" class=\"graph\" transform=\"scale(1 1) rotate(0) translate(4 94)\">\n<title>my_graph</title>\n<polygon fill=\"white\" stroke=\"transparent\" points=\"-4,4 -4,-94 256,-94 256,4 -4,4\"/>\n<!-- q_G3 -->\n<g id=\"node1\" class=\"node\">\n<title>q_G3</title>\n<text text-anchor=\"middle\" x=\"27\" y=\"-30.3\" font-family=\"Times,serif\" font-size=\"14.00\">q</text>\n</g>\n<!-- TextbookQPE -->\n<g id=\"node2\" class=\"node\">\n<title>TextbookQPE</title>\n<polygon fill=\"none\" stroke=\"black\" points=\"91,-66 91,-83 155,-83 155,-66 91,-66\"/>\n<text text-anchor=\"start\" x=\"94\" y=\"-72\" font-family=\"Times,serif\" font-size=\"10.00\">TextbookQPE</text>\n<polygon fill=\"none\" stroke=\"black\" points=\"91,-45 91,-66 101,-66 101,-45 91,-45\"/>\n<polygon fill=\"none\" stroke=\"black\" points=\"101,-45 101,-66 155,-66 155,-45 101,-45\"/>\n<text text-anchor=\"start\" x=\"106\" y=\"-51.8\" font-family=\"Times,serif\" font-size=\"14.00\">qpe_reg</text>\n<polygon fill=\"none\" stroke=\"black\" points=\"91,-24 91,-45 155,-45 155,-24 91,-24\"/>\n<text text-anchor=\"start\" x=\"119.5\" y=\"-30.8\" font-family=\"Times,serif\" font-size=\"14.00\">q</text>\n</g>\n<!-- q_G3&#45;&gt;TextbookQPE -->\n<g id=\"edge1\" class=\"edge\">\n<title>q_G3:e-&gt;TextbookQPE:w</title>\n<path fill=\"none\" stroke=\"black\" d=\"M54,-34C69.67,-34 74.14,-34 88.77,-34\"/>\n<ellipse fill=\"black\" stroke=\"black\" cx=\"90\" cy=\"-34\" rx=\"1\" ry=\"1\"/>\n<text text-anchor=\"middle\" x=\"72.5\" y=\"-38\" font-family=\"Times,serif\" font-size=\"10.00\">1</text>\n</g>\n<!-- qpe_reg_G0 -->\n<g id=\"node3\" class=\"node\">\n<title>qpe_reg_G0</title>\n<text text-anchor=\"middle\" x=\"222\" y=\"-68.3\" font-family=\"Times,serif\" font-size=\"14.00\">qpe_reg</text>\n</g>\n<!-- TextbookQPE&#45;&gt;qpe_reg_G0 -->\n<g id=\"edge2\" class=\"edge\">\n<title>TextbookQPE:e-&gt;qpe_reg_G0:w</title>\n<path fill=\"none\" stroke=\"black\" d=\"M155,-56C172.22,-56 173.97,-70.77 189.98,-71.93\"/>\n<ellipse fill=\"black\" stroke=\"black\" cx=\"191\" cy=\"-71.96\" rx=\"1\" ry=\"1\"/>\n<text text-anchor=\"middle\" x=\"173.5\" y=\"-67\" font-family=\"Times,serif\" font-size=\"10.00\">m</text>\n</g>\n<!-- q_G2 -->\n<g id=\"node4\" class=\"node\">\n<title>q_G2</title>\n<text text-anchor=\"middle\" x=\"222\" y=\"-14.3\" font-family=\"Times,serif\" font-size=\"14.00\">q</text>\n</g>\n<!-- TextbookQPE&#45;&gt;q_G2 -->\n<g id=\"edge3\" class=\"edge\">\n<title>TextbookQPE:e-&gt;q_G2:w</title>\n<path fill=\"none\" stroke=\"black\" d=\"M155,-34C173,-34 175.12,-19.23 191.88,-18.07\"/>\n<ellipse fill=\"black\" stroke=\"black\" cx=\"193\" cy=\"-18.03\" rx=\"1\" ry=\"1\"/>\n<text text-anchor=\"middle\" x=\"173.5\" y=\"-30\" font-family=\"Times,serif\" font-size=\"10.00\">1</text>\n</g>\n</g>\n</svg>",
          "text/plain": "<IPython.core.display.SVG object>"
         },
         "metadata": {},
         "output_type": "display_data"
        }
       ],
       "tabbable": null,
       "tooltip": null
      }
     },
     "e1758bdd4dae45dc81c3bfbdf553c8d7": {
      "model_module": "@jupyter-widgets/output",
      "model_module_version": "1.0.0",
      "model_name": "OutputModel",
      "state": {
       "_dom_classes": [],
       "_model_module": "@jupyter-widgets/output",
       "_model_module_version": "1.0.0",
       "_model_name": "OutputModel",
       "_view_count": null,
       "_view_module": "@jupyter-widgets/output",
       "_view_module_version": "1.0.0",
       "_view_name": "OutputView",
       "layout": "IPY_MODEL_6097c958d3e44585a73474b753ece3c9",
       "msg_id": "",
       "outputs": [
        {
         "data": {
          "text/markdown": "`textbook_qpe_from_standard_deviation_eps`",
          "text/plain": "<IPython.core.display.Markdown object>"
         },
         "metadata": {},
         "output_type": "display_data"
        },
        {
         "data": {
          "image/svg+xml": "<svg xmlns=\"http://www.w3.org/2000/svg\" xmlns:xlink=\"http://www.w3.org/1999/xlink\" width=\"260pt\" height=\"98pt\" viewBox=\"0.00 0.00 260.00 98.00\">\n<g id=\"graph0\" class=\"graph\" transform=\"scale(1 1) rotate(0) translate(4 94)\">\n<title>my_graph</title>\n<polygon fill=\"white\" stroke=\"transparent\" points=\"-4,4 -4,-94 256,-94 256,4 -4,4\"/>\n<!-- q_G3 -->\n<g id=\"node1\" class=\"node\">\n<title>q_G3</title>\n<text text-anchor=\"middle\" x=\"27\" y=\"-30.3\" font-family=\"Times,serif\" font-size=\"14.00\">q</text>\n</g>\n<!-- TextbookQPE -->\n<g id=\"node2\" class=\"node\">\n<title>TextbookQPE</title>\n<polygon fill=\"none\" stroke=\"black\" points=\"91,-66 91,-83 155,-83 155,-66 91,-66\"/>\n<text text-anchor=\"start\" x=\"94\" y=\"-72\" font-family=\"Times,serif\" font-size=\"10.00\">TextbookQPE</text>\n<polygon fill=\"none\" stroke=\"black\" points=\"91,-45 91,-66 101,-66 101,-45 91,-45\"/>\n<polygon fill=\"none\" stroke=\"black\" points=\"101,-45 101,-66 155,-66 155,-45 101,-45\"/>\n<text text-anchor=\"start\" x=\"106\" y=\"-51.8\" font-family=\"Times,serif\" font-size=\"14.00\">qpe_reg</text>\n<polygon fill=\"none\" stroke=\"black\" points=\"91,-24 91,-45 155,-45 155,-24 91,-24\"/>\n<text text-anchor=\"start\" x=\"119.5\" y=\"-30.8\" font-family=\"Times,serif\" font-size=\"14.00\">q</text>\n</g>\n<!-- q_G3&#45;&gt;TextbookQPE -->\n<g id=\"edge1\" class=\"edge\">\n<title>q_G3:e-&gt;TextbookQPE:w</title>\n<path fill=\"none\" stroke=\"black\" d=\"M54,-34C69.67,-34 74.14,-34 88.77,-34\"/>\n<ellipse fill=\"black\" stroke=\"black\" cx=\"90\" cy=\"-34\" rx=\"1\" ry=\"1\"/>\n<text text-anchor=\"middle\" x=\"72.5\" y=\"-38\" font-family=\"Times,serif\" font-size=\"10.00\">1</text>\n</g>\n<!-- qpe_reg_G2 -->\n<g id=\"node3\" class=\"node\">\n<title>qpe_reg_G2</title>\n<text text-anchor=\"middle\" x=\"222\" y=\"-68.3\" font-family=\"Times,serif\" font-size=\"14.00\">qpe_reg</text>\n</g>\n<!-- TextbookQPE&#45;&gt;qpe_reg_G2 -->\n<g id=\"edge2\" class=\"edge\">\n<title>TextbookQPE:e-&gt;qpe_reg_G2:w</title>\n<path fill=\"none\" stroke=\"black\" d=\"M155,-56C172.22,-56 173.97,-70.77 189.98,-71.93\"/>\n<ellipse fill=\"black\" stroke=\"black\" cx=\"191\" cy=\"-71.96\" rx=\"1\" ry=\"1\"/>\n<text text-anchor=\"middle\" x=\"173.5\" y=\"-67\" font-family=\"Times,serif\" font-size=\"10.00\">ceiling(2*log2(pi/epsilon))</text>\n</g>\n<!-- q_G4 -->\n<g id=\"node4\" class=\"node\">\n<title>q_G4</title>\n<text text-anchor=\"middle\" x=\"222\" y=\"-14.3\" font-family=\"Times,serif\" font-size=\"14.00\">q</text>\n</g>\n<!-- TextbookQPE&#45;&gt;q_G4 -->\n<g id=\"edge3\" class=\"edge\">\n<title>TextbookQPE:e-&gt;q_G4:w</title>\n<path fill=\"none\" stroke=\"black\" d=\"M155,-34C173,-34 175.12,-19.23 191.88,-18.07\"/>\n<ellipse fill=\"black\" stroke=\"black\" cx=\"193\" cy=\"-18.03\" rx=\"1\" ry=\"1\"/>\n<text text-anchor=\"middle\" x=\"173.5\" y=\"-30\" font-family=\"Times,serif\" font-size=\"10.00\">1</text>\n</g>\n</g>\n</svg>",
          "text/plain": "<IPython.core.display.SVG object>"
         },
         "metadata": {},
         "output_type": "display_data"
        }
       ],
       "tabbable": null,
       "tooltip": null
      }
     }
    },
    "version_major": 2,
    "version_minor": 0
   }
  }
 },
 "nbformat": 4,
 "nbformat_minor": 5
}
