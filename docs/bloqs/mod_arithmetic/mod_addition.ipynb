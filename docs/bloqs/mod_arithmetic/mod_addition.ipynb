{
 "cells": [
  {
   "cell_type": "markdown",
   "id": "b574ea6d",
   "metadata": {
    "cq.autogen": "title_cell"
   },
   "source": [
    "# Modular Addition"
   ]
  },
  {
   "cell_type": "code",
   "execution_count": 1,
   "id": "0df46c1a",
   "metadata": {
    "cq.autogen": "top_imports"
   },
   "outputs": [],
   "source": [
    "from qualtran import Bloq, CompositeBloq, BloqBuilder, Signature, Register\n",
    "from qualtran import QBit, QInt, QUInt, QAny\n",
    "from qualtran.drawing import show_bloq, show_call_graph, show_counts_sigma\n",
    "from typing import *\n",
    "import numpy as np\n",
    "import sympy\n",
    "import cirq"
   ]
  },
  {
   "cell_type": "markdown",
   "id": "8267bb39",
   "metadata": {
    "cq.autogen": "ModAdd.bloq_doc.md"
   },
   "source": [
    "## `ModAdd`\n",
    "An n-bit modular addition gate.\n",
    "\n",
    "Implements |x>|y> => |x>|y + x % p> using $4n$ Toffoli\n",
    "gates.\n",
    "\n",
    "This gate can also operate on integers in the Montgomery form.\n",
    "\n",
    "#### Parameters\n",
    " - `bitsize`: Number of bits used to represent each integer.\n",
    " - `mod`: The modulus for the addition. \n",
    "\n",
    "#### Registers\n",
    " - `x`: A bitsize-sized input register (register x above).\n",
    " - `y`: A bitsize-sized input/output register (register y above). \n",
    "\n",
    "#### References\n",
    " - [How to compute a 256-bit elliptic curve private key with only 50 million Toffoli gates](https://arxiv.org/abs/2306.08585). Construction from Figure 6a and cost summary in Figure 8.\n"
   ]
  },
  {
   "cell_type": "code",
   "execution_count": 2,
   "id": "5bda7415",
   "metadata": {
    "cq.autogen": "ModAdd.bloq_doc.py"
   },
   "outputs": [],
   "source": [
    "from qualtran.bloqs.mod_arithmetic import ModAdd"
   ]
  },
  {
   "cell_type": "markdown",
   "id": "a8456099",
   "metadata": {
    "cq.autogen": "ModAdd.example_instances.md"
   },
   "source": [
    "### Example Instances"
   ]
  },
  {
   "cell_type": "code",
   "execution_count": 3,
   "id": "986e25fe",
   "metadata": {
    "cq.autogen": "ModAdd.mod_add"
   },
   "outputs": [],
   "source": [
    "n, p = sympy.symbols('n p')\n",
    "mod_add = ModAdd(n, mod=p)"
   ]
  },
  {
   "cell_type": "markdown",
   "id": "85546a13",
   "metadata": {
    "cq.autogen": "ModAdd.graphical_signature.md"
   },
   "source": [
    "#### Graphical Signature"
   ]
  },
  {
   "cell_type": "code",
   "execution_count": 4,
   "id": "9cf51501",
   "metadata": {
    "cq.autogen": "ModAdd.graphical_signature.py"
   },
   "outputs": [
    {
     "data": {
      "application/vnd.jupyter.widget-view+json": {
       "model_id": "44a7446911f74be6b4c19d12a24bc2ca",
       "version_major": 2,
       "version_minor": 0
      },
      "text/plain": [
       "HBox(children=(Output(outputs=({'output_type': 'display_data', 'data': {'text/plain': '<IPython.core.display.M…"
      ]
     },
     "metadata": {},
     "output_type": "display_data"
    }
   ],
   "source": [
    "from qualtran.drawing import show_bloqs\n",
    "show_bloqs([mod_add],\n",
    "           ['`mod_add`'])"
   ]
  },
  {
   "cell_type": "markdown",
   "id": "00d0734f",
   "metadata": {
    "cq.autogen": "ModAdd.call_graph.md"
   },
   "source": [
    "### Call Graph"
   ]
  },
  {
   "cell_type": "code",
   "execution_count": 5,
   "id": "6541781e",
   "metadata": {
    "cq.autogen": "ModAdd.call_graph.py"
   },
   "outputs": [
    {
     "data": {
      "image/svg+xml": [
       "<svg xmlns=\"http://www.w3.org/2000/svg\" xmlns:xlink=\"http://www.w3.org/1999/xlink\" width=\"442pt\" height=\"131pt\" viewBox=\"0.00 0.00 442.00 131.00\">\n",
       "<g id=\"graph0\" class=\"graph\" transform=\"scale(1 1) rotate(0) translate(4 127)\">\n",
       "<title>counts</title>\n",
       "<polygon fill=\"white\" stroke=\"transparent\" points=\"-4,4 -4,-127 438,-127 438,4 -4,4\"/>\n",
       "<!-- b0 -->\n",
       "<g id=\"node1\" class=\"node\">\n",
       "<title>b0</title>\n",
       "<polygon fill=\"none\" stroke=\"black\" points=\"153,-93 153,-116 203,-116 203,-93 153,-93\"/>\n",
       "<text text-anchor=\"start\" x=\"159\" y=\"-102\" font-family=\"Times,serif\" font-size=\"10.00\">ModAdd</text>\n",
       "</g>\n",
       "<!-- b1 -->\n",
       "<g id=\"node2\" class=\"node\">\n",
       "<title>b1</title>\n",
       "<polygon fill=\"none\" stroke=\"black\" points=\"11,-6 11,-29 43,-29 43,-6 11,-6\"/>\n",
       "<text text-anchor=\"start\" x=\"17.5\" y=\"-15\" font-family=\"Times,serif\" font-size=\"10.00\">Add</text>\n",
       "</g>\n",
       "<!-- b0&#45;&gt;b1 -->\n",
       "<g id=\"edge1\" class=\"edge\">\n",
       "<title>b0-&gt;b1</title>\n",
       "<path fill=\"none\" stroke=\"black\" d=\"M147.44,-86.8C123.08,-73.09 88.91,-53.85 63.18,-39.37\"/>\n",
       "<polygon fill=\"black\" stroke=\"black\" points=\"64.9,-36.32 54.47,-34.46 61.46,-42.42 64.9,-36.32\"/>\n",
       "<text text-anchor=\"middle\" x=\"115.5\" y=\"-57.8\" font-family=\"Times,serif\" font-size=\"14.00\">1</text>\n",
       "</g>\n",
       "<!-- b2 -->\n",
       "<g id=\"node3\" class=\"node\">\n",
       "<title>b2</title>\n",
       "<polygon fill=\"none\" stroke=\"black\" points=\"80,-6 80,-29 118,-29 118,-6 80,-6\"/>\n",
       "<text text-anchor=\"start\" x=\"86\" y=\"-15\" font-family=\"Times,serif\" font-size=\"10.00\">AddK</text>\n",
       "</g>\n",
       "<!-- b0&#45;&gt;b2 -->\n",
       "<g id=\"edge2\" class=\"edge\">\n",
       "<title>b0-&gt;b2</title>\n",
       "<path fill=\"none\" stroke=\"black\" d=\"M162.01,-86.8C150.45,-74.36 134.66,-57.36 121.77,-43.5\"/>\n",
       "<polygon fill=\"black\" stroke=\"black\" points=\"124.33,-41.12 114.96,-36.18 119.21,-45.88 124.33,-41.12\"/>\n",
       "<text text-anchor=\"middle\" x=\"147.5\" y=\"-57.8\" font-family=\"Times,serif\" font-size=\"14.00\">1</text>\n",
       "</g>\n",
       "<!-- b3 -->\n",
       "<g id=\"node4\" class=\"node\">\n",
       "<title>b3</title>\n",
       "<polygon fill=\"none\" stroke=\"black\" points=\"152,-6 152,-29 204,-29 204,-6 152,-6\"/>\n",
       "<text text-anchor=\"start\" x=\"158.5\" y=\"-15\" font-family=\"Times,serif\" font-size=\"10.00\">C[AddK]</text>\n",
       "</g>\n",
       "<!-- b0&#45;&gt;b3 -->\n",
       "<g id=\"edge3\" class=\"edge\">\n",
       "<title>b0-&gt;b3</title>\n",
       "<path fill=\"none\" stroke=\"black\" d=\"M178,-86.8C178,-75.16 178,-59.55 178,-46.24\"/>\n",
       "<polygon fill=\"black\" stroke=\"black\" points=\"181.5,-46.18 178,-36.18 174.5,-46.18 181.5,-46.18\"/>\n",
       "<text text-anchor=\"middle\" x=\"181.5\" y=\"-57.8\" font-family=\"Times,serif\" font-size=\"14.00\">1</text>\n",
       "</g>\n",
       "<!-- b4 -->\n",
       "<g id=\"node5\" class=\"node\">\n",
       "<title>b4</title>\n",
       "<polygon fill=\"none\" stroke=\"black\" points=\"238,-6 238,-29 354,-29 354,-6 238,-6\"/>\n",
       "<text text-anchor=\"start\" x=\"244.5\" y=\"-15\" font-family=\"Times,serif\" font-size=\"10.00\">LinearDepthGreaterThan</text>\n",
       "</g>\n",
       "<!-- b0&#45;&gt;b4 -->\n",
       "<g id=\"edge4\" class=\"edge\">\n",
       "<title>b0-&gt;b4</title>\n",
       "<path fill=\"none\" stroke=\"black\" d=\"M201.88,-86.8C219.71,-73.95 244.28,-56.26 263.84,-42.17\"/>\n",
       "<polygon fill=\"black\" stroke=\"black\" points=\"266.09,-44.86 272.16,-36.18 262,-39.18 266.09,-44.86\"/>\n",
       "<text text-anchor=\"middle\" x=\"248.5\" y=\"-57.8\" font-family=\"Times,serif\" font-size=\"14.00\">1</text>\n",
       "</g>\n",
       "<!-- b5 -->\n",
       "<g id=\"node6\" class=\"node\">\n",
       "<title>b5</title>\n",
       "<polygon fill=\"none\" stroke=\"black\" points=\"397,-6 397,-29 417,-29 417,-6 397,-6\"/>\n",
       "<text text-anchor=\"start\" x=\"403\" y=\"-15\" font-family=\"Times,serif\" font-size=\"10.00\">X</text>\n",
       "</g>\n",
       "<!-- b0&#45;&gt;b5 -->\n",
       "<g id=\"edge5\" class=\"edge\">\n",
       "<title>b0-&gt;b5</title>\n",
       "<path fill=\"none\" stroke=\"black\" d=\"M211.17,-93.46C248.04,-81.5 309.43,-60.83 370.25,-36.12\"/>\n",
       "<polygon fill=\"black\" stroke=\"black\" points=\"371.69,-39.32 379.61,-32.29 369.03,-32.84 371.69,-39.32\"/>\n",
       "<text text-anchor=\"middle\" x=\"326.5\" y=\"-57.8\" font-family=\"Times,serif\" font-size=\"14.00\">1</text>\n",
       "</g>\n",
       "</g>\n",
       "</svg>"
      ],
      "text/plain": [
       "<IPython.core.display.SVG object>"
      ]
     },
     "metadata": {},
     "output_type": "display_data"
    },
    {
     "data": {
      "text/markdown": [
       "#### Counts totals:\n",
       " - `AddK`: 1\n",
       " - `Add`: 1\n",
       " - `C[AddK]`: 1\n",
       " - `LinearDepthGreaterThan`: 1\n",
       " - `X`: 1"
      ],
      "text/plain": [
       "<IPython.core.display.Markdown object>"
      ]
     },
     "metadata": {},
     "output_type": "display_data"
    }
   ],
   "source": [
    "from qualtran.resource_counting.generalizers import ignore_split_join\n",
    "mod_add_g, mod_add_sigma = mod_add.call_graph(max_depth=1, generalizer=ignore_split_join)\n",
    "show_call_graph(mod_add_g)\n",
    "show_counts_sigma(mod_add_sigma)"
   ]
  },
  {
   "cell_type": "markdown",
   "id": "8e79d0cc",
   "metadata": {
    "cq.autogen": "ModAddK.bloq_doc.md"
   },
   "source": [
    "## `ModAddK`\n",
    "Applies U(add, M)|x> = |(x + add) % M> if x < M else |x>.\n",
    "\n",
    "Applies modular addition to input register `|x>` given parameters `mod` and `add_val` s.t.\n",
    " 1. If integer `x` < `mod`: output is `|(x + add) % M>`\n",
    " 2. If integer `x` >= `mod`: output is `|x>`.\n",
    "\n",
    "This condition is needed to ensure that the mapping of all input basis states (i.e. input\n",
    "states |0>, |1>, ..., |2 ** bitsize - 1) to corresponding output states is bijective and thus\n",
    "the gate is reversible.\n",
    "\n",
    "Also supports controlled version of the gate by specifying a per qubit control value as a tuple\n",
    "of integers passed as `cvs`."
   ]
  },
  {
   "cell_type": "code",
   "execution_count": 6,
   "id": "3bba4e72",
   "metadata": {
    "cq.autogen": "ModAddK.bloq_doc.py"
   },
   "outputs": [],
   "source": [
    "from qualtran.bloqs.mod_arithmetic import ModAddK"
   ]
  },
  {
   "cell_type": "markdown",
   "id": "5163fde5",
   "metadata": {
    "cq.autogen": "ModAddK.example_instances.md"
   },
   "source": [
    "### Example Instances"
   ]
  },
  {
   "cell_type": "code",
   "execution_count": 7,
   "id": "bd5727de",
   "metadata": {
    "cq.autogen": "ModAddK.mod_add_k"
   },
   "outputs": [],
   "source": [
    "n, m, k = sympy.symbols('n m k')\n",
    "mod_add_k = ModAddK(bitsize=n, mod=m, add_val=k)"
   ]
  },
  {
   "cell_type": "code",
   "execution_count": 8,
   "id": "63edc731",
   "metadata": {
    "cq.autogen": "ModAddK.mod_add_k_small"
   },
   "outputs": [],
   "source": [
    "mod_add_k_small = ModAddK(bitsize=4, mod=7, add_val=1)"
   ]
  },
  {
   "cell_type": "code",
   "execution_count": 9,
   "id": "c970ab8b",
   "metadata": {
    "cq.autogen": "ModAddK.mod_add_k_large"
   },
   "outputs": [],
   "source": [
    "mod_add_k_large = ModAddK(bitsize=64, mod=500, add_val=23)"
   ]
  },
  {
   "cell_type": "markdown",
   "id": "f5d2924e",
   "metadata": {
    "cq.autogen": "ModAddK.graphical_signature.md"
   },
   "source": [
    "#### Graphical Signature"
   ]
  },
  {
   "cell_type": "code",
   "execution_count": 10,
   "id": "a844f606",
   "metadata": {
    "cq.autogen": "ModAddK.graphical_signature.py"
   },
   "outputs": [
    {
     "data": {
      "application/vnd.jupyter.widget-view+json": {
       "model_id": "d7ef02fc28c243ac8abcdca3aef9f5a2",
       "version_major": 2,
       "version_minor": 0
      },
      "text/plain": [
       "HBox(children=(Output(outputs=({'output_type': 'display_data', 'data': {'text/plain': '<IPython.core.display.M…"
      ]
     },
     "metadata": {},
     "output_type": "display_data"
    }
   ],
   "source": [
    "from qualtran.drawing import show_bloqs\n",
    "show_bloqs([mod_add_k, mod_add_k_small, mod_add_k_large],\n",
    "           ['`mod_add_k`', '`mod_add_k_small`', '`mod_add_k_large`'])"
   ]
  },
  {
   "cell_type": "markdown",
   "id": "1de9b870",
   "metadata": {
    "cq.autogen": "ModAddK.call_graph.md"
   },
   "source": [
    "### Call Graph"
   ]
  },
  {
   "cell_type": "code",
   "execution_count": 11,
   "id": "c148ea99",
   "metadata": {
    "cq.autogen": "ModAddK.call_graph.py"
   },
   "outputs": [
    {
     "data": {
      "image/svg+xml": [
       "<svg xmlns=\"http://www.w3.org/2000/svg\" xmlns:xlink=\"http://www.w3.org/1999/xlink\" width=\"82pt\" height=\"131pt\" viewBox=\"0.00 0.00 82.00 131.00\">\n",
       "<g id=\"graph0\" class=\"graph\" transform=\"scale(1 1) rotate(0) translate(4 127)\">\n",
       "<title>counts</title>\n",
       "<polygon fill=\"white\" stroke=\"transparent\" points=\"-4,4 -4,-127 78,-127 78,4 -4,4\"/>\n",
       "<!-- b0 -->\n",
       "<g id=\"node1\" class=\"node\">\n",
       "<title>b0</title>\n",
       "<polygon fill=\"none\" stroke=\"black\" points=\"8,-93 8,-116 66,-116 66,-93 8,-93\"/>\n",
       "<text text-anchor=\"start\" x=\"14\" y=\"-102\" font-family=\"Times,serif\" font-size=\"10.00\">ModAddK</text>\n",
       "</g>\n",
       "<!-- b1 -->\n",
       "<g id=\"node2\" class=\"node\">\n",
       "<title>b1</title>\n",
       "<polygon fill=\"none\" stroke=\"black\" points=\"21,-6 21,-29 53,-29 53,-6 21,-6\"/>\n",
       "<text text-anchor=\"start\" x=\"27.5\" y=\"-15\" font-family=\"Times,serif\" font-size=\"10.00\">Add</text>\n",
       "</g>\n",
       "<!-- b0&#45;&gt;b1 -->\n",
       "<g id=\"edge1\" class=\"edge\">\n",
       "<title>b0-&gt;b1</title>\n",
       "<path fill=\"none\" stroke=\"black\" d=\"M37,-86.8C37,-75.16 37,-59.55 37,-46.24\"/>\n",
       "<polygon fill=\"black\" stroke=\"black\" points=\"40.5,-46.18 37,-36.18 33.5,-46.18 40.5,-46.18\"/>\n",
       "<text text-anchor=\"middle\" x=\"40.5\" y=\"-57.8\" font-family=\"Times,serif\" font-size=\"14.00\">5</text>\n",
       "</g>\n",
       "</g>\n",
       "</svg>"
      ],
      "text/plain": [
       "<IPython.core.display.SVG object>"
      ]
     },
     "metadata": {},
     "output_type": "display_data"
    },
    {
     "data": {
      "text/markdown": [
       "#### Counts totals:\n",
       " - `Add`: 5"
      ],
      "text/plain": [
       "<IPython.core.display.Markdown object>"
      ]
     },
     "metadata": {},
     "output_type": "display_data"
    }
   ],
   "source": [
    "from qualtran.resource_counting.generalizers import ignore_split_join\n",
    "mod_add_k_g, mod_add_k_sigma = mod_add_k.call_graph(max_depth=1, generalizer=ignore_split_join)\n",
    "show_call_graph(mod_add_k_g)\n",
    "show_counts_sigma(mod_add_k_sigma)"
   ]
  },
  {
   "cell_type": "markdown",
   "id": "d281d1eb",
   "metadata": {
    "cq.autogen": "CModAdd.bloq_doc.md"
   },
   "source": [
    "## `CModAdd`\n",
    "Controlled Modular Addition.\n",
    "\n",
    "Implements $\\ket{c}\\ket{x}\\ket{y} \\rightarrow \\ket{c}\\ket{x}\\ket{(cx+y)\\%p}$\n",
    "using $5n+1$ Toffoli gates.\n",
    "\n",
    "Note: The reference reports $5n$ toffolis. Our construction has an extra toffoli gate due\n",
    "to the current implementaiton of `OutOfPlaceAdder`.\n",
    "\n",
    "#### Parameters\n",
    " - `dtype`: Type of the input registers.\n",
    " - `mod`: The modulus for the addition.\n",
    " - `cv`: Control value for which the gate is active. \n",
    "\n",
    "#### Registers\n",
    " - `ctrl`: The control qubit.\n",
    " - `x`: A dtype register.\n",
    " - `y`: A dtype register. \n",
    "\n",
    "#### References\n",
    " - [How to compute a 256-bit elliptic curve private key with only 50 million Toffoli gates](https://arxiv.org/abs/2306.08585). Construction from Figure 6a and cost summary in Figure 8.\n"
   ]
  },
  {
   "cell_type": "code",
   "execution_count": 12,
   "id": "bfad2d98",
   "metadata": {
    "cq.autogen": "CModAdd.bloq_doc.py"
   },
   "outputs": [],
   "source": [
    "from qualtran.bloqs.mod_arithmetic import CModAdd"
   ]
  },
  {
   "cell_type": "markdown",
   "id": "51c55dd1",
   "metadata": {
    "cq.autogen": "CModAdd.example_instances.md"
   },
   "source": [
    "### Example Instances"
   ]
  },
  {
   "cell_type": "code",
   "execution_count": 13,
   "id": "17ab6599",
   "metadata": {
    "cq.autogen": "CModAdd.cmodadd_example"
   },
   "outputs": [],
   "source": [
    "cmodadd_example = CModAdd(QUInt(32), 10**9 + 7)"
   ]
  },
  {
   "cell_type": "code",
   "execution_count": 14,
   "id": "83b24868",
   "metadata": {
    "cq.autogen": "CModAdd.cmodadd_symbolic"
   },
   "outputs": [],
   "source": [
    "n, p = sympy.symbols('n p')\n",
    "cmodadd_symbolic = CModAdd(QUInt(n), p)"
   ]
  },
  {
   "cell_type": "markdown",
   "id": "0341ea39",
   "metadata": {
    "cq.autogen": "CModAdd.graphical_signature.md"
   },
   "source": [
    "#### Graphical Signature"
   ]
  },
  {
   "cell_type": "code",
   "execution_count": 15,
   "id": "28706338",
   "metadata": {
    "cq.autogen": "CModAdd.graphical_signature.py"
   },
   "outputs": [
    {
     "data": {
      "application/vnd.jupyter.widget-view+json": {
       "model_id": "ad7789e258cb460282c0755c01292d8f",
       "version_major": 2,
       "version_minor": 0
      },
      "text/plain": [
       "HBox(children=(Output(outputs=({'output_type': 'display_data', 'data': {'text/plain': '<IPython.core.display.M…"
      ]
     },
     "metadata": {},
     "output_type": "display_data"
    }
   ],
   "source": [
    "from qualtran.drawing import show_bloqs\n",
    "show_bloqs([cmodadd_example, cmodadd_symbolic],\n",
    "           ['`cmodadd_example`', '`cmodadd_symbolic`'])"
   ]
  },
  {
   "cell_type": "markdown",
   "id": "e71a6f5f",
   "metadata": {
    "cq.autogen": "CModAdd.call_graph.md"
   },
   "source": [
    "### Call Graph"
   ]
  },
  {
   "cell_type": "code",
   "execution_count": 16,
   "id": "d278edee",
   "metadata": {
    "cq.autogen": "CModAdd.call_graph.py"
   },
   "outputs": [
    {
     "data": {
      "image/svg+xml": [
       "<svg xmlns=\"http://www.w3.org/2000/svg\" xmlns:xlink=\"http://www.w3.org/1999/xlink\" width=\"448pt\" height=\"131pt\" viewBox=\"0.00 0.00 448.00 131.00\">\n",
       "<g id=\"graph0\" class=\"graph\" transform=\"scale(1 1) rotate(0) translate(4 127)\">\n",
       "<title>counts</title>\n",
       "<polygon fill=\"white\" stroke=\"transparent\" points=\"-4,4 -4,-127 444,-127 444,4 -4,4\"/>\n",
       "<!-- b0 -->\n",
       "<g id=\"node1\" class=\"node\">\n",
       "<title>b0</title>\n",
       "<polygon fill=\"none\" stroke=\"black\" points=\"149,-93 149,-116 207,-116 207,-93 149,-93\"/>\n",
       "<text text-anchor=\"start\" x=\"155.5\" y=\"-102\" font-family=\"Times,serif\" font-size=\"10.00\">CModAdd</text>\n",
       "</g>\n",
       "<!-- b1 -->\n",
       "<g id=\"node2\" class=\"node\">\n",
       "<title>b1</title>\n",
       "<polygon fill=\"none\" stroke=\"black\" points=\"8,-6 8,-29 46,-29 46,-6 8,-6\"/>\n",
       "<text text-anchor=\"start\" x=\"14.5\" y=\"-15\" font-family=\"Times,serif\" font-size=\"10.00\">CAdd</text>\n",
       "</g>\n",
       "<!-- b0&#45;&gt;b1 -->\n",
       "<g id=\"edge1\" class=\"edge\">\n",
       "<title>b0-&gt;b1</title>\n",
       "<path fill=\"none\" stroke=\"black\" d=\"M147.44,-86.8C123.08,-73.09 88.91,-53.85 63.18,-39.37\"/>\n",
       "<polygon fill=\"black\" stroke=\"black\" points=\"64.9,-36.32 54.47,-34.46 61.46,-42.42 64.9,-36.32\"/>\n",
       "<text text-anchor=\"middle\" x=\"115.5\" y=\"-57.8\" font-family=\"Times,serif\" font-size=\"14.00\">1</text>\n",
       "</g>\n",
       "<!-- b2 -->\n",
       "<g id=\"node3\" class=\"node\">\n",
       "<title>b2</title>\n",
       "<polygon fill=\"none\" stroke=\"black\" points=\"80,-6 80,-29 118,-29 118,-6 80,-6\"/>\n",
       "<text text-anchor=\"start\" x=\"86\" y=\"-15\" font-family=\"Times,serif\" font-size=\"10.00\">AddK</text>\n",
       "</g>\n",
       "<!-- b0&#45;&gt;b2 -->\n",
       "<g id=\"edge2\" class=\"edge\">\n",
       "<title>b0-&gt;b2</title>\n",
       "<path fill=\"none\" stroke=\"black\" d=\"M162.01,-86.8C150.45,-74.36 134.66,-57.36 121.77,-43.5\"/>\n",
       "<polygon fill=\"black\" stroke=\"black\" points=\"124.33,-41.12 114.96,-36.18 119.21,-45.88 124.33,-41.12\"/>\n",
       "<text text-anchor=\"middle\" x=\"147.5\" y=\"-57.8\" font-family=\"Times,serif\" font-size=\"14.00\">1</text>\n",
       "</g>\n",
       "<!-- b3 -->\n",
       "<g id=\"node4\" class=\"node\">\n",
       "<title>b3</title>\n",
       "<polygon fill=\"none\" stroke=\"black\" points=\"152,-6 152,-29 204,-29 204,-6 152,-6\"/>\n",
       "<text text-anchor=\"start\" x=\"158.5\" y=\"-15\" font-family=\"Times,serif\" font-size=\"10.00\">C[AddK]</text>\n",
       "</g>\n",
       "<!-- b0&#45;&gt;b3 -->\n",
       "<g id=\"edge3\" class=\"edge\">\n",
       "<title>b0-&gt;b3</title>\n",
       "<path fill=\"none\" stroke=\"black\" d=\"M178,-86.8C178,-75.16 178,-59.55 178,-46.24\"/>\n",
       "<polygon fill=\"black\" stroke=\"black\" points=\"181.5,-46.18 178,-36.18 174.5,-46.18 181.5,-46.18\"/>\n",
       "<text text-anchor=\"middle\" x=\"181.5\" y=\"-57.8\" font-family=\"Times,serif\" font-size=\"14.00\">1</text>\n",
       "</g>\n",
       "<!-- b4 -->\n",
       "<g id=\"node5\" class=\"node\">\n",
       "<title>b4</title>\n",
       "<polygon fill=\"none\" stroke=\"black\" points=\"238,-6 238,-29 360,-29 360,-6 238,-6\"/>\n",
       "<text text-anchor=\"start\" x=\"244\" y=\"-15\" font-family=\"Times,serif\" font-size=\"10.00\">CLinearDepthGreaterThan</text>\n",
       "</g>\n",
       "<!-- b0&#45;&gt;b4 -->\n",
       "<g id=\"edge4\" class=\"edge\">\n",
       "<title>b0-&gt;b4</title>\n",
       "<path fill=\"none\" stroke=\"black\" d=\"M202.49,-86.8C220.85,-73.9 246.19,-56.1 266.29,-41.98\"/>\n",
       "<polygon fill=\"black\" stroke=\"black\" points=\"268.38,-44.79 274.55,-36.18 264.36,-39.06 268.38,-44.79\"/>\n",
       "<text text-anchor=\"middle\" x=\"249.5\" y=\"-57.8\" font-family=\"Times,serif\" font-size=\"14.00\">1</text>\n",
       "</g>\n",
       "<!-- b5 -->\n",
       "<g id=\"node6\" class=\"node\">\n",
       "<title>b5</title>\n",
       "<polygon fill=\"none\" stroke=\"black\" points=\"403,-6 403,-29 423,-29 423,-6 403,-6\"/>\n",
       "<text text-anchor=\"start\" x=\"409\" y=\"-15\" font-family=\"Times,serif\" font-size=\"10.00\">X</text>\n",
       "</g>\n",
       "<!-- b0&#45;&gt;b5 -->\n",
       "<g id=\"edge5\" class=\"edge\">\n",
       "<title>b0-&gt;b5</title>\n",
       "<path fill=\"none\" stroke=\"black\" d=\"M215.13,-92.68C253.48,-80.69 315.12,-60.59 376.22,-36.12\"/>\n",
       "<polygon fill=\"black\" stroke=\"black\" points=\"377.66,-39.31 385.62,-32.31 375.04,-32.82 377.66,-39.31\"/>\n",
       "<text text-anchor=\"middle\" x=\"331.5\" y=\"-57.8\" font-family=\"Times,serif\" font-size=\"14.00\">1</text>\n",
       "</g>\n",
       "</g>\n",
       "</svg>"
      ],
      "text/plain": [
       "<IPython.core.display.SVG object>"
      ]
     },
     "metadata": {},
     "output_type": "display_data"
    },
    {
     "data": {
      "text/markdown": [
       "#### Counts totals:\n",
       " - `AddK`: 1\n",
       " - `CAdd`: 1\n",
       " - `CLinearDepthGreaterThan`: 1\n",
       " - `C[AddK]`: 1\n",
       " - `X`: 1"
      ],
      "text/plain": [
       "<IPython.core.display.Markdown object>"
      ]
     },
     "metadata": {},
     "output_type": "display_data"
    }
   ],
   "source": [
    "from qualtran.resource_counting.generalizers import ignore_split_join\n",
    "cmodadd_example_g, cmodadd_example_sigma = cmodadd_example.call_graph(max_depth=1, generalizer=ignore_split_join)\n",
    "show_call_graph(cmodadd_example_g)\n",
    "show_counts_sigma(cmodadd_example_sigma)"
   ]
  },
  {
   "cell_type": "markdown",
   "id": "0523961e",
   "metadata": {
    "cq.autogen": "CModAddK.bloq_doc.md"
   },
   "source": [
    "## `CModAddK`\n",
    "Perform x += k mod m for constant k, m and quantum x.\n",
    "\n",
    "#### Parameters\n",
    " - `k`: The integer to add to `x`.\n",
    " - `mod`: The modulus for the addition.\n",
    " - `bitsize`: The bitsize of the `x` register. \n",
    "\n",
    "#### Registers\n",
    " - `ctrl`: The control bit\n",
    " - `x`: The register to perform the in-place modular addition. \n",
    "\n",
    "#### References\n",
    " - [How to factor 2048 bit RSA integers in 8 hours using 20 million noisy qubits](https://arxiv.org/abs/1905.09749). Gidney and Ekerå 2019. The reference implementation in section 2.2 uses CModAddK, but the circuit that it points to is just ModAdd (not ModAddK). This ModAdd is less efficient than the circuit later introduced in the Litinski paper so we choose to use that since it is more efficient and already implemented in Qualtran.\n",
    " - [How to compute a 256-bit elliptic curve private key with only 50 million Toffoli gates](https://arxiv.org/abs/2306.08585). Litinski et al. 2023. This CModAdd circuit uses 2 fewer additions than the implementation referenced in the paper above. Because of this we choose to use this CModAdd bloq instead.\n"
   ]
  },
  {
   "cell_type": "code",
   "execution_count": 17,
   "id": "341211fa",
   "metadata": {
    "cq.autogen": "CModAddK.bloq_doc.py"
   },
   "outputs": [],
   "source": [
    "from qualtran.bloqs.mod_arithmetic import CModAddK"
   ]
  },
  {
   "cell_type": "markdown",
   "id": "6b00aef7",
   "metadata": {
    "cq.autogen": "CModAddK.example_instances.md"
   },
   "source": [
    "### Example Instances"
   ]
  },
  {
   "cell_type": "code",
   "execution_count": 18,
   "id": "b8877f17",
   "metadata": {
    "cq.autogen": "CModAddK.cmod_add_k"
   },
   "outputs": [],
   "source": [
    "n, m, k = sympy.symbols('n m k')\n",
    "cmod_add_k = CModAddK(bitsize=n, mod=m, k=k)"
   ]
  },
  {
   "cell_type": "code",
   "execution_count": 19,
   "id": "87fe8b8f",
   "metadata": {
    "cq.autogen": "CModAddK.cmod_add_k_small"
   },
   "outputs": [],
   "source": [
    "cmod_add_k_small = CModAddK(bitsize=4, mod=7, k=1)"
   ]
  },
  {
   "cell_type": "markdown",
   "id": "f44f0268",
   "metadata": {
    "cq.autogen": "CModAddK.graphical_signature.md"
   },
   "source": [
    "#### Graphical Signature"
   ]
  },
  {
   "cell_type": "code",
   "execution_count": 20,
   "id": "b7a02d6e",
   "metadata": {
    "cq.autogen": "CModAddK.graphical_signature.py"
   },
   "outputs": [
    {
     "data": {
      "application/vnd.jupyter.widget-view+json": {
       "model_id": "0ec04c0ceb664e12a41cbdcc72524b88",
       "version_major": 2,
       "version_minor": 0
      },
      "text/plain": [
       "HBox(children=(Output(outputs=({'output_type': 'display_data', 'data': {'text/plain': '<IPython.core.display.M…"
      ]
     },
     "metadata": {},
     "output_type": "display_data"
    }
   ],
   "source": [
    "from qualtran.drawing import show_bloqs\n",
    "show_bloqs([cmod_add_k, cmod_add_k_small],\n",
    "           ['`cmod_add_k`', '`cmod_add_k_small`'])"
   ]
  },
  {
   "cell_type": "markdown",
   "id": "48b87ff2",
   "metadata": {
    "cq.autogen": "CModAddK.call_graph.md"
   },
   "source": [
    "### Call Graph"
   ]
  },
  {
   "cell_type": "code",
   "execution_count": 21,
   "id": "f6e6770b",
   "metadata": {
    "cq.autogen": "CModAddK.call_graph.py"
   },
   "outputs": [
    {
     "data": {
      "image/svg+xml": [
       "<svg xmlns=\"http://www.w3.org/2000/svg\" xmlns:xlink=\"http://www.w3.org/1999/xlink\" width=\"88pt\" height=\"131pt\" viewBox=\"0.00 0.00 88.00 131.00\">\n",
       "<g id=\"graph0\" class=\"graph\" transform=\"scale(1 1) rotate(0) translate(4 127)\">\n",
       "<title>counts</title>\n",
       "<polygon fill=\"white\" stroke=\"transparent\" points=\"-4,4 -4,-127 84,-127 84,4 -4,4\"/>\n",
       "<!-- b0 -->\n",
       "<g id=\"node1\" class=\"node\">\n",
       "<title>b0</title>\n",
       "<polygon fill=\"none\" stroke=\"black\" points=\"8,-93 8,-116 72,-116 72,-93 8,-93\"/>\n",
       "<text text-anchor=\"start\" x=\"14\" y=\"-102\" font-family=\"Times,serif\" font-size=\"10.00\">CModAddK</text>\n",
       "</g>\n",
       "<!-- b1 -->\n",
       "<g id=\"node2\" class=\"node\">\n",
       "<title>b1</title>\n",
       "<polygon fill=\"none\" stroke=\"black\" points=\"11,-6 11,-29 69,-29 69,-6 11,-6\"/>\n",
       "<text text-anchor=\"start\" x=\"17.5\" y=\"-15\" font-family=\"Times,serif\" font-size=\"10.00\">CModAdd</text>\n",
       "</g>\n",
       "<!-- b0&#45;&gt;b1 -->\n",
       "<g id=\"edge1\" class=\"edge\">\n",
       "<title>b0-&gt;b1</title>\n",
       "<path fill=\"none\" stroke=\"black\" d=\"M40,-86.8C40,-75.16 40,-59.55 40,-46.24\"/>\n",
       "<polygon fill=\"black\" stroke=\"black\" points=\"43.5,-46.18 40,-36.18 36.5,-46.18 43.5,-46.18\"/>\n",
       "<text text-anchor=\"middle\" x=\"43.5\" y=\"-57.8\" font-family=\"Times,serif\" font-size=\"14.00\">1</text>\n",
       "</g>\n",
       "</g>\n",
       "</svg>"
      ],
      "text/plain": [
       "<IPython.core.display.SVG object>"
      ]
     },
     "metadata": {},
     "output_type": "display_data"
    },
    {
     "data": {
      "text/markdown": [
       "#### Counts totals:\n",
       " - `CModAdd`: 1"
      ],
      "text/plain": [
       "<IPython.core.display.Markdown object>"
      ]
     },
     "metadata": {},
     "output_type": "display_data"
    }
   ],
   "source": [
    "from qualtran.resource_counting.generalizers import ignore_split_join\n",
    "cmod_add_k_g, cmod_add_k_sigma = cmod_add_k.call_graph(max_depth=1, generalizer=ignore_split_join)\n",
    "show_call_graph(cmod_add_k_g)\n",
    "show_counts_sigma(cmod_add_k_sigma)"
   ]
  },
  {
   "cell_type": "markdown",
   "id": "21f93349",
   "metadata": {
    "cq.autogen": "CtrlScaleModAdd.bloq_doc.md"
   },
   "source": [
    "## `CtrlScaleModAdd`\n",
    "Perform y += x*k mod m for constant k, m and quantum x, y.\n",
    "\n",
    "#### Parameters\n",
    " - `k`: The constant integer to scale `x` before adding into `y`.\n",
    " - `mod`: The modulus of the addition\n",
    " - `bitsize`: The size of the two registers. \n",
    "\n",
    "#### Registers\n",
    " - `ctrl`: The control bit\n",
    " - `x`: The 'source' quantum register containing the integer to be scaled and added to `y`.\n",
    " - `y`: The 'destination' quantum register to which the addition will apply. \n",
    "\n",
    "#### References\n",
    " - [How to factor 2048 bit RSA integers in 8 hours using 20 million noisy qubits](https://arxiv.org/abs/1905.09749). Construction based on description in section 2.2 paragraph 4. We add n And/And† bloqs because the bloq is controlled, but the construction also involves modular addition controlled on the qubits comprising register x.\n"
   ]
  },
  {
   "cell_type": "code",
   "execution_count": 22,
   "id": "4ac170e5",
   "metadata": {
    "cq.autogen": "CtrlScaleModAdd.bloq_doc.py"
   },
   "outputs": [],
   "source": [
    "from qualtran.bloqs.mod_arithmetic import CtrlScaleModAdd"
   ]
  },
  {
   "cell_type": "markdown",
   "id": "58ee7de2",
   "metadata": {
    "cq.autogen": "CtrlScaleModAdd.example_instances.md"
   },
   "source": [
    "### Example Instances"
   ]
  },
  {
   "cell_type": "code",
   "execution_count": 23,
   "id": "73c2c6f7",
   "metadata": {
    "cq.autogen": "CtrlScaleModAdd.ctrl_scale_mod_add"
   },
   "outputs": [],
   "source": [
    "n, m, k = sympy.symbols('n m k')\n",
    "ctrl_scale_mod_add = CtrlScaleModAdd(bitsize=n, mod=m, k=k)"
   ]
  },
  {
   "cell_type": "code",
   "execution_count": 24,
   "id": "e822d5eb",
   "metadata": {
    "cq.autogen": "CtrlScaleModAdd.ctrl_scale_mod_add_small"
   },
   "outputs": [],
   "source": [
    "ctrl_scale_mod_add_small = CtrlScaleModAdd(bitsize=4, mod=7, k=1)"
   ]
  },
  {
   "cell_type": "markdown",
   "id": "fe4c8957",
   "metadata": {
    "cq.autogen": "CtrlScaleModAdd.graphical_signature.md"
   },
   "source": [
    "#### Graphical Signature"
   ]
  },
  {
   "cell_type": "code",
   "execution_count": 25,
   "id": "e4dc8923",
   "metadata": {
    "cq.autogen": "CtrlScaleModAdd.graphical_signature.py"
   },
   "outputs": [
    {
     "data": {
      "application/vnd.jupyter.widget-view+json": {
       "model_id": "da7d2ff5bae8413db942a1e745a86a77",
       "version_major": 2,
       "version_minor": 0
      },
      "text/plain": [
       "HBox(children=(Output(outputs=({'output_type': 'display_data', 'data': {'text/plain': '<IPython.core.display.M…"
      ]
     },
     "metadata": {},
     "output_type": "display_data"
    }
   ],
   "source": [
    "from qualtran.drawing import show_bloqs\n",
    "show_bloqs([ctrl_scale_mod_add, ctrl_scale_mod_add_small],\n",
    "           ['`ctrl_scale_mod_add`', '`ctrl_scale_mod_add_small`'])"
   ]
  },
  {
   "cell_type": "markdown",
   "id": "97d6888d",
   "metadata": {
    "cq.autogen": "CtrlScaleModAdd.call_graph.md"
   },
   "source": [
    "### Call Graph"
   ]
  },
  {
   "cell_type": "code",
   "execution_count": 26,
   "id": "bd734f6b",
   "metadata": {
    "cq.autogen": "CtrlScaleModAdd.call_graph.py"
   },
   "outputs": [
    {
     "data": {
      "image/svg+xml": [
       "<svg xmlns=\"http://www.w3.org/2000/svg\" xmlns:xlink=\"http://www.w3.org/1999/xlink\" width=\"232pt\" height=\"131pt\" viewBox=\"0.00 0.00 232.00 131.00\">\n",
       "<g id=\"graph0\" class=\"graph\" transform=\"scale(1 1) rotate(0) translate(4 127)\">\n",
       "<title>counts</title>\n",
       "<polygon fill=\"white\" stroke=\"transparent\" points=\"-4,4 -4,-127 228,-127 228,4 -4,4\"/>\n",
       "<!-- b0 -->\n",
       "<g id=\"node1\" class=\"node\">\n",
       "<title>b0</title>\n",
       "<polygon fill=\"none\" stroke=\"black\" points=\"81,-93 81,-116 169,-116 169,-93 81,-93\"/>\n",
       "<text text-anchor=\"start\" x=\"87\" y=\"-102\" font-family=\"Times,serif\" font-size=\"10.00\">CtrlScaleModAdd</text>\n",
       "</g>\n",
       "<!-- b1 -->\n",
       "<g id=\"node2\" class=\"node\">\n",
       "<title>b1</title>\n",
       "<polygon fill=\"none\" stroke=\"black\" points=\"8,-6 8,-29 72,-29 72,-6 8,-6\"/>\n",
       "<text text-anchor=\"start\" x=\"14\" y=\"-15\" font-family=\"Times,serif\" font-size=\"10.00\">CModAddK</text>\n",
       "</g>\n",
       "<!-- b0&#45;&gt;b1 -->\n",
       "<g id=\"edge1\" class=\"edge\">\n",
       "<title>b0-&gt;b1</title>\n",
       "<path fill=\"none\" stroke=\"black\" d=\"M107.8,-86.8C95.36,-74.36 78.36,-57.36 64.5,-43.5\"/>\n",
       "<polygon fill=\"black\" stroke=\"black\" points=\"66.72,-40.77 57.18,-36.18 61.77,-45.72 66.72,-40.77\"/>\n",
       "<text text-anchor=\"middle\" x=\"91.5\" y=\"-57.8\" font-family=\"Times,serif\" font-size=\"14.00\">n</text>\n",
       "</g>\n",
       "<!-- b2 -->\n",
       "<g id=\"node3\" class=\"node\">\n",
       "<title>b2</title>\n",
       "<polygon fill=\"none\" stroke=\"black\" points=\"109,-6 109,-29 141,-29 141,-6 109,-6\"/>\n",
       "<text text-anchor=\"start\" x=\"115.5\" y=\"-15\" font-family=\"Times,serif\" font-size=\"10.00\">And</text>\n",
       "</g>\n",
       "<!-- b0&#45;&gt;b2 -->\n",
       "<g id=\"edge2\" class=\"edge\">\n",
       "<title>b0-&gt;b2</title>\n",
       "<path fill=\"none\" stroke=\"black\" d=\"M125,-86.8C125,-75.16 125,-59.55 125,-46.24\"/>\n",
       "<polygon fill=\"black\" stroke=\"black\" points=\"128.5,-46.18 125,-36.18 121.5,-46.18 128.5,-46.18\"/>\n",
       "<text text-anchor=\"middle\" x=\"128.5\" y=\"-57.8\" font-family=\"Times,serif\" font-size=\"14.00\">n</text>\n",
       "</g>\n",
       "<!-- b3 -->\n",
       "<g id=\"node4\" class=\"node\">\n",
       "<title>b3</title>\n",
       "<polygon fill=\"none\" stroke=\"black\" points=\"179,-6 179,-29 215,-29 215,-6 179,-6\"/>\n",
       "<text text-anchor=\"start\" x=\"185\" y=\"-15\" font-family=\"Times,serif\" font-size=\"10.00\">And†</text>\n",
       "</g>\n",
       "<!-- b0&#45;&gt;b3 -->\n",
       "<g id=\"edge3\" class=\"edge\">\n",
       "<title>b0-&gt;b3</title>\n",
       "<path fill=\"none\" stroke=\"black\" d=\"M139.57,-86.8C150.01,-74.47 164.24,-57.68 175.92,-43.89\"/>\n",
       "<polygon fill=\"black\" stroke=\"black\" points=\"178.66,-46.07 182.45,-36.18 173.32,-41.54 178.66,-46.07\"/>\n",
       "<text text-anchor=\"middle\" x=\"168.5\" y=\"-57.8\" font-family=\"Times,serif\" font-size=\"14.00\">n</text>\n",
       "</g>\n",
       "</g>\n",
       "</svg>"
      ],
      "text/plain": [
       "<IPython.core.display.SVG object>"
      ]
     },
     "metadata": {},
     "output_type": "display_data"
    },
    {
     "data": {
      "text/markdown": [
       "#### Counts totals:\n",
       " - `And`: $\\displaystyle n$\n",
       " - `And†`: $\\displaystyle n$\n",
       " - `CModAddK`: $\\displaystyle n$"
      ],
      "text/plain": [
       "<IPython.core.display.Markdown object>"
      ]
     },
     "metadata": {},
     "output_type": "display_data"
    }
   ],
   "source": [
    "from qualtran.resource_counting.generalizers import ignore_split_join\n",
    "ctrl_scale_mod_add_g, ctrl_scale_mod_add_sigma = ctrl_scale_mod_add.call_graph(max_depth=1, generalizer=ignore_split_join)\n",
    "show_call_graph(ctrl_scale_mod_add_g)\n",
    "show_counts_sigma(ctrl_scale_mod_add_sigma)"
   ]
  }
 ],
 "metadata": {
  "kernelspec": {
   "display_name": "Python 3",
   "language": "python",
   "name": "python3"
  },
  "language_info": {
   "codemirror_mode": {
    "name": "ipython",
    "version": 3
   },
   "file_extension": ".py",
   "mimetype": "text/x-python",
   "name": "python",
   "nbconvert_exporter": "python",
   "pygments_lexer": "ipython3",
   "version": "3.11.8"
  },
  "widgets": {
   "application/vnd.jupyter.widget-state+json": {
    "state": {
     "0db7daf9bb1a474e8340ac743b89ed04": {
      "model_module": "@jupyter-widgets/output",
      "model_module_version": "1.0.0",
      "model_name": "OutputModel",
      "state": {
       "_dom_classes": [],
       "_model_module": "@jupyter-widgets/output",
       "_model_module_version": "1.0.0",
       "_model_name": "OutputModel",
       "_view_count": null,
       "_view_module": "@jupyter-widgets/output",
       "_view_module_version": "1.0.0",
       "_view_name": "OutputView",
       "layout": "IPY_MODEL_7a636f174e4643e2a5ad6956568f4928",
       "msg_id": "",
       "outputs": [
        {
         "data": {
          "text/markdown": "`cmodadd_example`",
          "text/plain": "<IPython.core.display.Markdown object>"
         },
         "metadata": {},
         "output_type": "display_data"
        },
        {
         "data": {
          "image/svg+xml": "<svg xmlns=\"http://www.w3.org/2000/svg\" xmlns:xlink=\"http://www.w3.org/1999/xlink\" width=\"241pt\" height=\"152pt\" viewBox=\"0.00 0.00 241.00 152.00\">\n<g id=\"graph0\" class=\"graph\" transform=\"scale(1 1) rotate(0) translate(4 148)\">\n<title>my_graph</title>\n<polygon fill=\"white\" stroke=\"transparent\" points=\"-4,4 -4,-148 237,-148 237,4 -4,4\"/>\n<!-- ctrl_G1 -->\n<g id=\"node1\" class=\"node\">\n<title>ctrl_G1</title>\n<text text-anchor=\"middle\" x=\"27\" y=\"-122.3\" font-family=\"Times,serif\" font-size=\"14.00\">ctrl</text>\n</g>\n<!-- CModAdd -->\n<g id=\"node4\" class=\"node\">\n<title>CModAdd</title>\n<polygon fill=\"none\" stroke=\"black\" points=\"91.5,-104 91.5,-121 142.5,-121 142.5,-104 91.5,-104\"/>\n<text text-anchor=\"start\" x=\"94.5\" y=\"-110\" font-family=\"Times,serif\" font-size=\"10.00\">CModAdd</text>\n<polygon fill=\"none\" stroke=\"black\" points=\"91.5,-83 91.5,-104 142.5,-104 142.5,-83 91.5,-83\"/>\n<text text-anchor=\"start\" x=\"107.5\" y=\"-89.8\" font-family=\"Times,serif\" font-size=\"14.00\">ctrl</text>\n<polygon fill=\"none\" stroke=\"black\" points=\"91.5,-62 91.5,-83 142.5,-83 142.5,-62 91.5,-62\"/>\n<text text-anchor=\"start\" x=\"113.5\" y=\"-68.8\" font-family=\"Times,serif\" font-size=\"14.00\">x</text>\n<polygon fill=\"none\" stroke=\"black\" points=\"91.5,-41 91.5,-62 142.5,-62 142.5,-41 91.5,-41\"/>\n<text text-anchor=\"start\" x=\"113.5\" y=\"-47.8\" font-family=\"Times,serif\" font-size=\"14.00\">y</text>\n</g>\n<!-- ctrl_G1&#45;&gt;CModAdd -->\n<g id=\"edge1\" class=\"edge\">\n<title>ctrl_G1:e-&gt;CModAdd:w</title>\n<path fill=\"none\" stroke=\"black\" d=\"M54,-126C74.89,-126 69.72,-96.45 88.58,-94.14\"/>\n<ellipse fill=\"black\" stroke=\"black\" cx=\"90\" cy=\"-94.06\" rx=\"1\" ry=\"1\"/>\n<text text-anchor=\"middle\" x=\"72.5\" y=\"-113\" font-family=\"Times,serif\" font-size=\"10.00\">1</text>\n</g>\n<!-- x_G4 -->\n<g id=\"node2\" class=\"node\">\n<title>x_G4</title>\n<text text-anchor=\"middle\" x=\"27\" y=\"-68.3\" font-family=\"Times,serif\" font-size=\"14.00\">x</text>\n</g>\n<!-- x_G4&#45;&gt;CModAdd -->\n<g id=\"edge2\" class=\"edge\">\n<title>x_G4:e-&gt;CModAdd:w</title>\n<path fill=\"none\" stroke=\"black\" d=\"M54,-72C69.67,-72 74.14,-72 88.77,-72\"/>\n<ellipse fill=\"black\" stroke=\"black\" cx=\"90\" cy=\"-72\" rx=\"1\" ry=\"1\"/>\n<text text-anchor=\"middle\" x=\"72.5\" y=\"-75\" font-family=\"Times,serif\" font-size=\"10.00\">32</text>\n</g>\n<!-- y_G5 -->\n<g id=\"node3\" class=\"node\">\n<title>y_G5</title>\n<text text-anchor=\"middle\" x=\"27\" y=\"-14.3\" font-family=\"Times,serif\" font-size=\"14.00\">y</text>\n</g>\n<!-- y_G5&#45;&gt;CModAdd -->\n<g id=\"edge3\" class=\"edge\">\n<title>y_G5:e-&gt;CModAdd:w</title>\n<path fill=\"none\" stroke=\"black\" d=\"M54,-18C75.17,-18 69.47,-48.47 88.55,-50.85\"/>\n<ellipse fill=\"black\" stroke=\"black\" cx=\"90\" cy=\"-50.94\" rx=\"1\" ry=\"1\"/>\n<text text-anchor=\"middle\" x=\"72.5\" y=\"-39\" font-family=\"Times,serif\" font-size=\"10.00\">32</text>\n</g>\n<!-- ctrl_G2 -->\n<g id=\"node5\" class=\"node\">\n<title>ctrl_G2</title>\n<text text-anchor=\"middle\" x=\"206\" y=\"-122.3\" font-family=\"Times,serif\" font-size=\"14.00\">ctrl</text>\n</g>\n<!-- CModAdd&#45;&gt;ctrl_G2 -->\n<g id=\"edge4\" class=\"edge\">\n<title>CModAdd:e-&gt;ctrl_G2:w</title>\n<path fill=\"none\" stroke=\"black\" d=\"M142,-94C162.89,-94 157.72,-123.55 176.58,-125.86\"/>\n<ellipse fill=\"black\" stroke=\"black\" cx=\"178\" cy=\"-125.94\" rx=\"1\" ry=\"1\"/>\n<text text-anchor=\"middle\" x=\"160.5\" y=\"-113\" font-family=\"Times,serif\" font-size=\"10.00\">1</text>\n</g>\n<!-- x_G6 -->\n<g id=\"node6\" class=\"node\">\n<title>x_G6</title>\n<text text-anchor=\"middle\" x=\"206\" y=\"-68.3\" font-family=\"Times,serif\" font-size=\"14.00\">x</text>\n</g>\n<!-- CModAdd&#45;&gt;x_G6 -->\n<g id=\"edge5\" class=\"edge\">\n<title>CModAdd:e-&gt;x_G6:w</title>\n<path fill=\"none\" stroke=\"black\" d=\"M142,-72C157.67,-72 162.14,-72 176.77,-72\"/>\n<ellipse fill=\"black\" stroke=\"black\" cx=\"178\" cy=\"-72\" rx=\"1\" ry=\"1\"/>\n<text text-anchor=\"middle\" x=\"160.5\" y=\"-75\" font-family=\"Times,serif\" font-size=\"10.00\">32</text>\n</g>\n<!-- y_G0 -->\n<g id=\"node7\" class=\"node\">\n<title>y_G0</title>\n<text text-anchor=\"middle\" x=\"206\" y=\"-14.3\" font-family=\"Times,serif\" font-size=\"14.00\">y</text>\n</g>\n<!-- CModAdd&#45;&gt;y_G0 -->\n<g id=\"edge6\" class=\"edge\">\n<title>CModAdd:e-&gt;y_G0:w</title>\n<path fill=\"none\" stroke=\"black\" d=\"M142,-51C163.17,-51 157.47,-20.53 176.55,-18.15\"/>\n<ellipse fill=\"black\" stroke=\"black\" cx=\"178\" cy=\"-18.06\" rx=\"1\" ry=\"1\"/>\n<text text-anchor=\"middle\" x=\"160.5\" y=\"-39\" font-family=\"Times,serif\" font-size=\"10.00\">32</text>\n</g>\n</g>\n</svg>",
          "text/plain": "<IPython.core.display.SVG object>"
         },
         "metadata": {},
         "output_type": "display_data"
        }
       ],
       "tabbable": null,
       "tooltip": null
      }
     },
     "0ec04c0ceb664e12a41cbdcc72524b88": {
      "model_module": "@jupyter-widgets/controls",
      "model_module_version": "2.0.0",
      "model_name": "HBoxModel",
      "state": {
       "_dom_classes": [],
       "_model_module": "@jupyter-widgets/controls",
       "_model_module_version": "2.0.0",
       "_model_name": "HBoxModel",
       "_view_count": null,
       "_view_module": "@jupyter-widgets/controls",
       "_view_module_version": "2.0.0",
       "_view_name": "HBoxView",
       "box_style": "",
       "children": [
        "IPY_MODEL_921fb95c7b3a454c8cbf3044197e1456",
        "IPY_MODEL_9ce724d08bdc4b6884d3558a2c8828cf"
       ],
       "layout": "IPY_MODEL_59f72f38608042fea21dd847f2dad10b",
       "tabbable": null,
       "tooltip": null
      }
     },
     "19d0ebb3e07948d8824e93c2f4ad9155": {
      "model_module": "@jupyter-widgets/base",
      "model_module_version": "2.0.0",
      "model_name": "LayoutModel",
      "state": {
       "_model_module": "@jupyter-widgets/base",
       "_model_module_version": "2.0.0",
       "_model_name": "LayoutModel",
       "_view_count": null,
       "_view_module": "@jupyter-widgets/base",
       "_view_module_version": "2.0.0",
       "_view_name": "LayoutView",
       "align_content": null,
       "align_items": null,
       "align_self": null,
       "border_bottom": null,
       "border_left": null,
       "border_right": null,
       "border_top": null,
       "bottom": null,
       "display": null,
       "flex": null,
       "flex_flow": null,
       "grid_area": null,
       "grid_auto_columns": null,
       "grid_auto_flow": null,
       "grid_auto_rows": null,
       "grid_column": null,
       "grid_gap": null,
       "grid_row": null,
       "grid_template_areas": null,
       "grid_template_columns": null,
       "grid_template_rows": null,
       "height": null,
       "justify_content": null,
       "justify_items": null,
       "left": null,
       "margin": null,
       "max_height": null,
       "max_width": null,
       "min_height": null,
       "min_width": null,
       "object_fit": null,
       "object_position": null,
       "order": null,
       "overflow": null,
       "padding": null,
       "right": null,
       "top": null,
       "visibility": null,
       "width": null
      }
     },
     "207594fc91574dd980be7d8132566fc2": {
      "model_module": "@jupyter-widgets/base",
      "model_module_version": "2.0.0",
      "model_name": "LayoutModel",
      "state": {
       "_model_module": "@jupyter-widgets/base",
       "_model_module_version": "2.0.0",
       "_model_name": "LayoutModel",
       "_view_count": null,
       "_view_module": "@jupyter-widgets/base",
       "_view_module_version": "2.0.0",
       "_view_name": "LayoutView",
       "align_content": null,
       "align_items": null,
       "align_self": null,
       "border_bottom": null,
       "border_left": null,
       "border_right": null,
       "border_top": null,
       "bottom": null,
       "display": null,
       "flex": null,
       "flex_flow": null,
       "grid_area": null,
       "grid_auto_columns": null,
       "grid_auto_flow": null,
       "grid_auto_rows": null,
       "grid_column": null,
       "grid_gap": null,
       "grid_row": null,
       "grid_template_areas": null,
       "grid_template_columns": null,
       "grid_template_rows": null,
       "height": null,
       "justify_content": null,
       "justify_items": null,
       "left": null,
       "margin": null,
       "max_height": null,
       "max_width": null,
       "min_height": null,
       "min_width": null,
       "object_fit": null,
       "object_position": null,
       "order": null,
       "overflow": null,
       "padding": null,
       "right": null,
       "top": null,
       "visibility": null,
       "width": null
      }
     },
     "271a945162504fd0aed899e57a4a254e": {
      "model_module": "@jupyter-widgets/base",
      "model_module_version": "2.0.0",
      "model_name": "LayoutModel",
      "state": {
       "_model_module": "@jupyter-widgets/base",
       "_model_module_version": "2.0.0",
       "_model_name": "LayoutModel",
       "_view_count": null,
       "_view_module": "@jupyter-widgets/base",
       "_view_module_version": "2.0.0",
       "_view_name": "LayoutView",
       "align_content": null,
       "align_items": null,
       "align_self": null,
       "border_bottom": null,
       "border_left": null,
       "border_right": null,
       "border_top": null,
       "bottom": null,
       "display": null,
       "flex": null,
       "flex_flow": null,
       "grid_area": null,
       "grid_auto_columns": null,
       "grid_auto_flow": null,
       "grid_auto_rows": null,
       "grid_column": null,
       "grid_gap": null,
       "grid_row": null,
       "grid_template_areas": null,
       "grid_template_columns": null,
       "grid_template_rows": null,
       "height": null,
       "justify_content": null,
       "justify_items": null,
       "left": null,
       "margin": null,
       "max_height": null,
       "max_width": null,
       "min_height": null,
       "min_width": null,
       "object_fit": null,
       "object_position": null,
       "order": null,
       "overflow": null,
       "padding": null,
       "right": null,
       "top": null,
       "visibility": null,
       "width": null
      }
     },
     "422724e2784a4cd78e3d46ff9f331b81": {
      "model_module": "@jupyter-widgets/base",
      "model_module_version": "2.0.0",
      "model_name": "LayoutModel",
      "state": {
       "_model_module": "@jupyter-widgets/base",
       "_model_module_version": "2.0.0",
       "_model_name": "LayoutModel",
       "_view_count": null,
       "_view_module": "@jupyter-widgets/base",
       "_view_module_version": "2.0.0",
       "_view_name": "LayoutView",
       "align_content": null,
       "align_items": null,
       "align_self": null,
       "border_bottom": null,
       "border_left": null,
       "border_right": null,
       "border_top": null,
       "bottom": null,
       "display": null,
       "flex": null,
       "flex_flow": null,
       "grid_area": null,
       "grid_auto_columns": null,
       "grid_auto_flow": null,
       "grid_auto_rows": null,
       "grid_column": null,
       "grid_gap": null,
       "grid_row": null,
       "grid_template_areas": null,
       "grid_template_columns": null,
       "grid_template_rows": null,
       "height": null,
       "justify_content": null,
       "justify_items": null,
       "left": null,
       "margin": null,
       "max_height": null,
       "max_width": null,
       "min_height": null,
       "min_width": null,
       "object_fit": null,
       "object_position": null,
       "order": null,
       "overflow": null,
       "padding": null,
       "right": null,
       "top": null,
       "visibility": null,
       "width": null
      }
     },
     "44a7446911f74be6b4c19d12a24bc2ca": {
      "model_module": "@jupyter-widgets/controls",
      "model_module_version": "2.0.0",
      "model_name": "HBoxModel",
      "state": {
       "_dom_classes": [],
       "_model_module": "@jupyter-widgets/controls",
       "_model_module_version": "2.0.0",
       "_model_name": "HBoxModel",
       "_view_count": null,
       "_view_module": "@jupyter-widgets/controls",
       "_view_module_version": "2.0.0",
       "_view_name": "HBoxView",
       "box_style": "",
       "children": [
        "IPY_MODEL_9bfa3d385e904f63b492d482b479840c"
       ],
       "layout": "IPY_MODEL_6671cd5150c5484989085cc64ebac262",
       "tabbable": null,
       "tooltip": null
      }
     },
     "4e4c19d98fd3478b8686f28a093c96a7": {
      "model_module": "@jupyter-widgets/base",
      "model_module_version": "2.0.0",
      "model_name": "LayoutModel",
      "state": {
       "_model_module": "@jupyter-widgets/base",
       "_model_module_version": "2.0.0",
       "_model_name": "LayoutModel",
       "_view_count": null,
       "_view_module": "@jupyter-widgets/base",
       "_view_module_version": "2.0.0",
       "_view_name": "LayoutView",
       "align_content": null,
       "align_items": null,
       "align_self": null,
       "border_bottom": null,
       "border_left": null,
       "border_right": null,
       "border_top": null,
       "bottom": null,
       "display": null,
       "flex": null,
       "flex_flow": null,
       "grid_area": null,
       "grid_auto_columns": null,
       "grid_auto_flow": null,
       "grid_auto_rows": null,
       "grid_column": null,
       "grid_gap": null,
       "grid_row": null,
       "grid_template_areas": null,
       "grid_template_columns": null,
       "grid_template_rows": null,
       "height": null,
       "justify_content": null,
       "justify_items": null,
       "left": null,
       "margin": null,
       "max_height": null,
       "max_width": null,
       "min_height": null,
       "min_width": null,
       "object_fit": null,
       "object_position": null,
       "order": null,
       "overflow": null,
       "padding": null,
       "right": null,
       "top": null,
       "visibility": null,
       "width": null
      }
     },
     "528382cb5fe64b6dbfbe095bfbfa7a31": {
      "model_module": "@jupyter-widgets/output",
      "model_module_version": "1.0.0",
      "model_name": "OutputModel",
      "state": {
       "_dom_classes": [],
       "_model_module": "@jupyter-widgets/output",
       "_model_module_version": "1.0.0",
       "_model_name": "OutputModel",
       "_view_count": null,
       "_view_module": "@jupyter-widgets/output",
       "_view_module_version": "1.0.0",
       "_view_name": "OutputView",
       "layout": "IPY_MODEL_9c0f6cca479d41c68000822f9b9f2334",
       "msg_id": "",
       "outputs": [
        {
         "data": {
          "text/markdown": "`mod_add_k`",
          "text/plain": "<IPython.core.display.Markdown object>"
         },
         "metadata": {},
         "output_type": "display_data"
        },
        {
         "data": {
          "image/svg+xml": "<svg xmlns=\"http://www.w3.org/2000/svg\" xmlns:xlink=\"http://www.w3.org/1999/xlink\" width=\"242pt\" height=\"54pt\" viewBox=\"0.00 0.00 242.00 54.00\">\n<g id=\"graph0\" class=\"graph\" transform=\"scale(1 1) rotate(0) translate(4 50)\">\n<title>my_graph</title>\n<polygon fill=\"white\" stroke=\"transparent\" points=\"-4,4 -4,-50 238,-50 238,4 -4,4\"/>\n<!-- x_G0 -->\n<g id=\"node1\" class=\"node\">\n<title>x_G0</title>\n<text text-anchor=\"middle\" x=\"27\" y=\"-14.3\" font-family=\"Times,serif\" font-size=\"14.00\">x</text>\n</g>\n<!-- ModAddK -->\n<g id=\"node2\" class=\"node\">\n<title>ModAddK</title>\n<polygon fill=\"none\" stroke=\"black\" points=\"91,-29 91,-46 143,-46 143,-29 91,-29\"/>\n<text text-anchor=\"start\" x=\"94\" y=\"-35\" font-family=\"Times,serif\" font-size=\"10.00\">ModAddK</text>\n<polygon fill=\"none\" stroke=\"black\" points=\"91,-8 91,-29 143,-29 143,-8 91,-8\"/>\n<text text-anchor=\"start\" x=\"113.5\" y=\"-14.8\" font-family=\"Times,serif\" font-size=\"14.00\">x</text>\n</g>\n<!-- x_G0&#45;&gt;ModAddK -->\n<g id=\"edge1\" class=\"edge\">\n<title>x_G0:e-&gt;ModAddK:w</title>\n<path fill=\"none\" stroke=\"black\" d=\"M54,-18C69.67,-18 74.14,-18 88.77,-18\"/>\n<ellipse fill=\"black\" stroke=\"black\" cx=\"90\" cy=\"-18\" rx=\"1\" ry=\"1\"/>\n<text text-anchor=\"middle\" x=\"72.5\" y=\"-21\" font-family=\"Times,serif\" font-size=\"10.00\">n</text>\n</g>\n<!-- x_G2 -->\n<g id=\"node3\" class=\"node\">\n<title>x_G2</title>\n<text text-anchor=\"middle\" x=\"207\" y=\"-14.3\" font-family=\"Times,serif\" font-size=\"14.00\">x</text>\n</g>\n<!-- ModAddK&#45;&gt;x_G2 -->\n<g id=\"edge2\" class=\"edge\">\n<title>ModAddK:e-&gt;x_G2:w</title>\n<path fill=\"none\" stroke=\"black\" d=\"M143,-18C158.67,-18 163.14,-18 177.77,-18\"/>\n<ellipse fill=\"black\" stroke=\"black\" cx=\"179\" cy=\"-18\" rx=\"1\" ry=\"1\"/>\n<text text-anchor=\"middle\" x=\"161.5\" y=\"-21\" font-family=\"Times,serif\" font-size=\"10.00\">n</text>\n</g>\n</g>\n</svg>",
          "text/plain": "<IPython.core.display.SVG object>"
         },
         "metadata": {},
         "output_type": "display_data"
        }
       ],
       "tabbable": null,
       "tooltip": null
      }
     },
     "56be9933b2c4443a83d375fa84326517": {
      "model_module": "@jupyter-widgets/base",
      "model_module_version": "2.0.0",
      "model_name": "LayoutModel",
      "state": {
       "_model_module": "@jupyter-widgets/base",
       "_model_module_version": "2.0.0",
       "_model_name": "LayoutModel",
       "_view_count": null,
       "_view_module": "@jupyter-widgets/base",
       "_view_module_version": "2.0.0",
       "_view_name": "LayoutView",
       "align_content": null,
       "align_items": null,
       "align_self": null,
       "border_bottom": null,
       "border_left": null,
       "border_right": null,
       "border_top": null,
       "bottom": null,
       "display": null,
       "flex": null,
       "flex_flow": null,
       "grid_area": null,
       "grid_auto_columns": null,
       "grid_auto_flow": null,
       "grid_auto_rows": null,
       "grid_column": null,
       "grid_gap": null,
       "grid_row": null,
       "grid_template_areas": null,
       "grid_template_columns": null,
       "grid_template_rows": null,
       "height": null,
       "justify_content": null,
       "justify_items": null,
       "left": null,
       "margin": null,
       "max_height": null,
       "max_width": null,
       "min_height": null,
       "min_width": null,
       "object_fit": null,
       "object_position": null,
       "order": null,
       "overflow": null,
       "padding": null,
       "right": null,
       "top": null,
       "visibility": null,
       "width": null
      }
     },
     "59f72f38608042fea21dd847f2dad10b": {
      "model_module": "@jupyter-widgets/base",
      "model_module_version": "2.0.0",
      "model_name": "LayoutModel",
      "state": {
       "_model_module": "@jupyter-widgets/base",
       "_model_module_version": "2.0.0",
       "_model_name": "LayoutModel",
       "_view_count": null,
       "_view_module": "@jupyter-widgets/base",
       "_view_module_version": "2.0.0",
       "_view_name": "LayoutView",
       "align_content": null,
       "align_items": null,
       "align_self": null,
       "border_bottom": null,
       "border_left": null,
       "border_right": null,
       "border_top": null,
       "bottom": null,
       "display": null,
       "flex": null,
       "flex_flow": null,
       "grid_area": null,
       "grid_auto_columns": null,
       "grid_auto_flow": null,
       "grid_auto_rows": null,
       "grid_column": null,
       "grid_gap": null,
       "grid_row": null,
       "grid_template_areas": null,
       "grid_template_columns": null,
       "grid_template_rows": null,
       "height": null,
       "justify_content": null,
       "justify_items": null,
       "left": null,
       "margin": null,
       "max_height": null,
       "max_width": null,
       "min_height": null,
       "min_width": null,
       "object_fit": null,
       "object_position": null,
       "order": null,
       "overflow": null,
       "padding": null,
       "right": null,
       "top": null,
       "visibility": null,
       "width": null
      }
     },
     "6389909ac0c641009a19afb19932d1c7": {
      "model_module": "@jupyter-widgets/base",
      "model_module_version": "2.0.0",
      "model_name": "LayoutModel",
      "state": {
       "_model_module": "@jupyter-widgets/base",
       "_model_module_version": "2.0.0",
       "_model_name": "LayoutModel",
       "_view_count": null,
       "_view_module": "@jupyter-widgets/base",
       "_view_module_version": "2.0.0",
       "_view_name": "LayoutView",
       "align_content": null,
       "align_items": null,
       "align_self": null,
       "border_bottom": null,
       "border_left": null,
       "border_right": null,
       "border_top": null,
       "bottom": null,
       "display": null,
       "flex": null,
       "flex_flow": null,
       "grid_area": null,
       "grid_auto_columns": null,
       "grid_auto_flow": null,
       "grid_auto_rows": null,
       "grid_column": null,
       "grid_gap": null,
       "grid_row": null,
       "grid_template_areas": null,
       "grid_template_columns": null,
       "grid_template_rows": null,
       "height": null,
       "justify_content": null,
       "justify_items": null,
       "left": null,
       "margin": null,
       "max_height": null,
       "max_width": null,
       "min_height": null,
       "min_width": null,
       "object_fit": null,
       "object_position": null,
       "order": null,
       "overflow": null,
       "padding": null,
       "right": null,
       "top": null,
       "visibility": null,
       "width": null
      }
     },
     "6671cd5150c5484989085cc64ebac262": {
      "model_module": "@jupyter-widgets/base",
      "model_module_version": "2.0.0",
      "model_name": "LayoutModel",
      "state": {
       "_model_module": "@jupyter-widgets/base",
       "_model_module_version": "2.0.0",
       "_model_name": "LayoutModel",
       "_view_count": null,
       "_view_module": "@jupyter-widgets/base",
       "_view_module_version": "2.0.0",
       "_view_name": "LayoutView",
       "align_content": null,
       "align_items": null,
       "align_self": null,
       "border_bottom": null,
       "border_left": null,
       "border_right": null,
       "border_top": null,
       "bottom": null,
       "display": null,
       "flex": null,
       "flex_flow": null,
       "grid_area": null,
       "grid_auto_columns": null,
       "grid_auto_flow": null,
       "grid_auto_rows": null,
       "grid_column": null,
       "grid_gap": null,
       "grid_row": null,
       "grid_template_areas": null,
       "grid_template_columns": null,
       "grid_template_rows": null,
       "height": null,
       "justify_content": null,
       "justify_items": null,
       "left": null,
       "margin": null,
       "max_height": null,
       "max_width": null,
       "min_height": null,
       "min_width": null,
       "object_fit": null,
       "object_position": null,
       "order": null,
       "overflow": null,
       "padding": null,
       "right": null,
       "top": null,
       "visibility": null,
       "width": null
      }
     },
     "7a636f174e4643e2a5ad6956568f4928": {
      "model_module": "@jupyter-widgets/base",
      "model_module_version": "2.0.0",
      "model_name": "LayoutModel",
      "state": {
       "_model_module": "@jupyter-widgets/base",
       "_model_module_version": "2.0.0",
       "_model_name": "LayoutModel",
       "_view_count": null,
       "_view_module": "@jupyter-widgets/base",
       "_view_module_version": "2.0.0",
       "_view_name": "LayoutView",
       "align_content": null,
       "align_items": null,
       "align_self": null,
       "border_bottom": null,
       "border_left": null,
       "border_right": null,
       "border_top": null,
       "bottom": null,
       "display": null,
       "flex": null,
       "flex_flow": null,
       "grid_area": null,
       "grid_auto_columns": null,
       "grid_auto_flow": null,
       "grid_auto_rows": null,
       "grid_column": null,
       "grid_gap": null,
       "grid_row": null,
       "grid_template_areas": null,
       "grid_template_columns": null,
       "grid_template_rows": null,
       "height": null,
       "justify_content": null,
       "justify_items": null,
       "left": null,
       "margin": null,
       "max_height": null,
       "max_width": null,
       "min_height": null,
       "min_width": null,
       "object_fit": null,
       "object_position": null,
       "order": null,
       "overflow": null,
       "padding": null,
       "right": null,
       "top": null,
       "visibility": null,
       "width": null
      }
     },
     "7d84964b18414f6e857897e3e4b97c49": {
      "model_module": "@jupyter-widgets/output",
      "model_module_version": "1.0.0",
      "model_name": "OutputModel",
      "state": {
       "_dom_classes": [],
       "_model_module": "@jupyter-widgets/output",
       "_model_module_version": "1.0.0",
       "_model_name": "OutputModel",
       "_view_count": null,
       "_view_module": "@jupyter-widgets/output",
       "_view_module_version": "1.0.0",
       "_view_name": "OutputView",
       "layout": "IPY_MODEL_422724e2784a4cd78e3d46ff9f331b81",
       "msg_id": "",
       "outputs": [
        {
         "data": {
          "text/markdown": "`mod_add_k_large`",
          "text/plain": "<IPython.core.display.Markdown object>"
         },
         "metadata": {},
         "output_type": "display_data"
        },
        {
         "data": {
          "image/svg+xml": "<svg xmlns=\"http://www.w3.org/2000/svg\" xmlns:xlink=\"http://www.w3.org/1999/xlink\" width=\"242pt\" height=\"54pt\" viewBox=\"0.00 0.00 242.00 54.00\">\n<g id=\"graph0\" class=\"graph\" transform=\"scale(1 1) rotate(0) translate(4 50)\">\n<title>my_graph</title>\n<polygon fill=\"white\" stroke=\"transparent\" points=\"-4,4 -4,-50 238,-50 238,4 -4,4\"/>\n<!-- x_G0 -->\n<g id=\"node1\" class=\"node\">\n<title>x_G0</title>\n<text text-anchor=\"middle\" x=\"27\" y=\"-14.3\" font-family=\"Times,serif\" font-size=\"14.00\">x</text>\n</g>\n<!-- ModAddK -->\n<g id=\"node2\" class=\"node\">\n<title>ModAddK</title>\n<polygon fill=\"none\" stroke=\"black\" points=\"91,-29 91,-46 143,-46 143,-29 91,-29\"/>\n<text text-anchor=\"start\" x=\"94\" y=\"-35\" font-family=\"Times,serif\" font-size=\"10.00\">ModAddK</text>\n<polygon fill=\"none\" stroke=\"black\" points=\"91,-8 91,-29 143,-29 143,-8 91,-8\"/>\n<text text-anchor=\"start\" x=\"113.5\" y=\"-14.8\" font-family=\"Times,serif\" font-size=\"14.00\">x</text>\n</g>\n<!-- x_G0&#45;&gt;ModAddK -->\n<g id=\"edge1\" class=\"edge\">\n<title>x_G0:e-&gt;ModAddK:w</title>\n<path fill=\"none\" stroke=\"black\" d=\"M54,-18C69.67,-18 74.14,-18 88.77,-18\"/>\n<ellipse fill=\"black\" stroke=\"black\" cx=\"90\" cy=\"-18\" rx=\"1\" ry=\"1\"/>\n<text text-anchor=\"middle\" x=\"72.5\" y=\"-21\" font-family=\"Times,serif\" font-size=\"10.00\">64</text>\n</g>\n<!-- x_G1 -->\n<g id=\"node3\" class=\"node\">\n<title>x_G1</title>\n<text text-anchor=\"middle\" x=\"207\" y=\"-14.3\" font-family=\"Times,serif\" font-size=\"14.00\">x</text>\n</g>\n<!-- ModAddK&#45;&gt;x_G1 -->\n<g id=\"edge2\" class=\"edge\">\n<title>ModAddK:e-&gt;x_G1:w</title>\n<path fill=\"none\" stroke=\"black\" d=\"M143,-18C158.67,-18 163.14,-18 177.77,-18\"/>\n<ellipse fill=\"black\" stroke=\"black\" cx=\"179\" cy=\"-18\" rx=\"1\" ry=\"1\"/>\n<text text-anchor=\"middle\" x=\"161.5\" y=\"-21\" font-family=\"Times,serif\" font-size=\"10.00\">64</text>\n</g>\n</g>\n</svg>",
          "text/plain": "<IPython.core.display.SVG object>"
         },
         "metadata": {},
         "output_type": "display_data"
        }
       ],
       "tabbable": null,
       "tooltip": null
      }
     },
     "90cab8c557e246debb3f7658de969d42": {
      "model_module": "@jupyter-widgets/base",
      "model_module_version": "2.0.0",
      "model_name": "LayoutModel",
      "state": {
       "_model_module": "@jupyter-widgets/base",
       "_model_module_version": "2.0.0",
       "_model_name": "LayoutModel",
       "_view_count": null,
       "_view_module": "@jupyter-widgets/base",
       "_view_module_version": "2.0.0",
       "_view_name": "LayoutView",
       "align_content": null,
       "align_items": null,
       "align_self": null,
       "border_bottom": null,
       "border_left": null,
       "border_right": null,
       "border_top": null,
       "bottom": null,
       "display": null,
       "flex": null,
       "flex_flow": null,
       "grid_area": null,
       "grid_auto_columns": null,
       "grid_auto_flow": null,
       "grid_auto_rows": null,
       "grid_column": null,
       "grid_gap": null,
       "grid_row": null,
       "grid_template_areas": null,
       "grid_template_columns": null,
       "grid_template_rows": null,
       "height": null,
       "justify_content": null,
       "justify_items": null,
       "left": null,
       "margin": null,
       "max_height": null,
       "max_width": null,
       "min_height": null,
       "min_width": null,
       "object_fit": null,
       "object_position": null,
       "order": null,
       "overflow": null,
       "padding": null,
       "right": null,
       "top": null,
       "visibility": null,
       "width": null
      }
     },
     "921fb95c7b3a454c8cbf3044197e1456": {
      "model_module": "@jupyter-widgets/output",
      "model_module_version": "1.0.0",
      "model_name": "OutputModel",
      "state": {
       "_dom_classes": [],
       "_model_module": "@jupyter-widgets/output",
       "_model_module_version": "1.0.0",
       "_model_name": "OutputModel",
       "_view_count": null,
       "_view_module": "@jupyter-widgets/output",
       "_view_module_version": "1.0.0",
       "_view_name": "OutputView",
       "layout": "IPY_MODEL_6389909ac0c641009a19afb19932d1c7",
       "msg_id": "",
       "outputs": [
        {
         "data": {
          "text/markdown": "`cmod_add_k`",
          "text/plain": "<IPython.core.display.Markdown object>"
         },
         "metadata": {},
         "output_type": "display_data"
        },
        {
         "data": {
          "image/svg+xml": "<svg xmlns=\"http://www.w3.org/2000/svg\" xmlns:xlink=\"http://www.w3.org/1999/xlink\" width=\"248pt\" height=\"98pt\" viewBox=\"0.00 0.00 248.00 98.00\">\n<g id=\"graph0\" class=\"graph\" transform=\"scale(1 1) rotate(0) translate(4 94)\">\n<title>my_graph</title>\n<polygon fill=\"white\" stroke=\"transparent\" points=\"-4,4 -4,-94 244,-94 244,4 -4,4\"/>\n<!-- ctrl_G2 -->\n<g id=\"node1\" class=\"node\">\n<title>ctrl_G2</title>\n<text text-anchor=\"middle\" x=\"27\" y=\"-68.3\" font-family=\"Times,serif\" font-size=\"14.00\">ctrl</text>\n</g>\n<!-- CModAddK -->\n<g id=\"node3\" class=\"node\">\n<title>CModAddK</title>\n<polygon fill=\"none\" stroke=\"black\" points=\"91,-66 91,-83 149,-83 149,-66 91,-66\"/>\n<text text-anchor=\"start\" x=\"94\" y=\"-72\" font-family=\"Times,serif\" font-size=\"10.00\">CModAddK</text>\n<polygon fill=\"none\" stroke=\"black\" points=\"91,-45 91,-66 149,-66 149,-45 91,-45\"/>\n<text text-anchor=\"start\" x=\"110.5\" y=\"-51.8\" font-family=\"Times,serif\" font-size=\"14.00\">ctrl</text>\n<polygon fill=\"none\" stroke=\"black\" points=\"91,-24 91,-45 149,-45 149,-24 91,-24\"/>\n<text text-anchor=\"start\" x=\"116.5\" y=\"-30.8\" font-family=\"Times,serif\" font-size=\"14.00\">x</text>\n</g>\n<!-- ctrl_G2&#45;&gt;CModAddK -->\n<g id=\"edge1\" class=\"edge\">\n<title>ctrl_G2:e-&gt;CModAddK:w</title>\n<path fill=\"none\" stroke=\"black\" d=\"M54,-72C71.22,-72 72.97,-57.23 88.98,-56.07\"/>\n<ellipse fill=\"black\" stroke=\"black\" cx=\"90\" cy=\"-56.04\" rx=\"1\" ry=\"1\"/>\n<text text-anchor=\"middle\" x=\"72.5\" y=\"-67\" font-family=\"Times,serif\" font-size=\"10.00\">1</text>\n</g>\n<!-- x_G0 -->\n<g id=\"node2\" class=\"node\">\n<title>x_G0</title>\n<text text-anchor=\"middle\" x=\"27\" y=\"-14.3\" font-family=\"Times,serif\" font-size=\"14.00\">x</text>\n</g>\n<!-- x_G0&#45;&gt;CModAddK -->\n<g id=\"edge2\" class=\"edge\">\n<title>x_G0:e-&gt;CModAddK:w</title>\n<path fill=\"none\" stroke=\"black\" d=\"M54,-18C71.22,-18 72.97,-32.77 88.98,-33.93\"/>\n<ellipse fill=\"black\" stroke=\"black\" cx=\"90\" cy=\"-33.96\" rx=\"1\" ry=\"1\"/>\n<text text-anchor=\"middle\" x=\"72.5\" y=\"-29\" font-family=\"Times,serif\" font-size=\"10.00\">n</text>\n</g>\n<!-- ctrl_G4 -->\n<g id=\"node4\" class=\"node\">\n<title>ctrl_G4</title>\n<text text-anchor=\"middle\" x=\"213\" y=\"-68.3\" font-family=\"Times,serif\" font-size=\"14.00\">ctrl</text>\n</g>\n<!-- CModAddK&#45;&gt;ctrl_G4 -->\n<g id=\"edge3\" class=\"edge\">\n<title>CModAddK:e-&gt;ctrl_G4:w</title>\n<path fill=\"none\" stroke=\"black\" d=\"M149,-56C166.22,-56 167.97,-70.77 183.98,-71.93\"/>\n<ellipse fill=\"black\" stroke=\"black\" cx=\"185\" cy=\"-71.96\" rx=\"1\" ry=\"1\"/>\n<text text-anchor=\"middle\" x=\"167.5\" y=\"-67\" font-family=\"Times,serif\" font-size=\"10.00\">1</text>\n</g>\n<!-- x_G1 -->\n<g id=\"node5\" class=\"node\">\n<title>x_G1</title>\n<text text-anchor=\"middle\" x=\"213\" y=\"-14.3\" font-family=\"Times,serif\" font-size=\"14.00\">x</text>\n</g>\n<!-- CModAddK&#45;&gt;x_G1 -->\n<g id=\"edge4\" class=\"edge\">\n<title>CModAddK:e-&gt;x_G1:w</title>\n<path fill=\"none\" stroke=\"black\" d=\"M149,-34C166.22,-34 167.97,-19.23 183.98,-18.07\"/>\n<ellipse fill=\"black\" stroke=\"black\" cx=\"185\" cy=\"-18.04\" rx=\"1\" ry=\"1\"/>\n<text text-anchor=\"middle\" x=\"167.5\" y=\"-29\" font-family=\"Times,serif\" font-size=\"10.00\">n</text>\n</g>\n</g>\n</svg>",
          "text/plain": "<IPython.core.display.SVG object>"
         },
         "metadata": {},
         "output_type": "display_data"
        }
       ],
       "tabbable": null,
       "tooltip": null
      }
     },
     "9bfa3d385e904f63b492d482b479840c": {
      "model_module": "@jupyter-widgets/output",
      "model_module_version": "1.0.0",
      "model_name": "OutputModel",
      "state": {
       "_dom_classes": [],
       "_model_module": "@jupyter-widgets/output",
       "_model_module_version": "1.0.0",
       "_model_name": "OutputModel",
       "_view_count": null,
       "_view_module": "@jupyter-widgets/output",
       "_view_module_version": "1.0.0",
       "_view_name": "OutputView",
       "layout": "IPY_MODEL_b036ffb1698e496ba1e2a2443ba5da8d",
       "msg_id": "",
       "outputs": [
        {
         "data": {
          "text/markdown": "`mod_add`",
          "text/plain": "<IPython.core.display.Markdown object>"
         },
         "metadata": {},
         "output_type": "display_data"
        },
        {
         "data": {
          "image/svg+xml": "<svg xmlns=\"http://www.w3.org/2000/svg\" xmlns:xlink=\"http://www.w3.org/1999/xlink\" width=\"234pt\" height=\"98pt\" viewBox=\"0.00 0.00 234.00 98.00\">\n<g id=\"graph0\" class=\"graph\" transform=\"scale(1 1) rotate(0) translate(4 94)\">\n<title>my_graph</title>\n<polygon fill=\"white\" stroke=\"transparent\" points=\"-4,4 -4,-94 230,-94 230,4 -4,4\"/>\n<!-- x_G5 -->\n<g id=\"node1\" class=\"node\">\n<title>x_G5</title>\n<text text-anchor=\"middle\" x=\"27\" y=\"-68.3\" font-family=\"Times,serif\" font-size=\"14.00\">x</text>\n</g>\n<!-- ModAdd -->\n<g id=\"node3\" class=\"node\">\n<title>ModAdd</title>\n<polygon fill=\"none\" stroke=\"black\" points=\"91,-66 91,-83 135,-83 135,-66 91,-66\"/>\n<text text-anchor=\"start\" x=\"94\" y=\"-72\" font-family=\"Times,serif\" font-size=\"10.00\">ModAdd</text>\n<polygon fill=\"none\" stroke=\"black\" points=\"91,-45 91,-66 135,-66 135,-45 91,-45\"/>\n<text text-anchor=\"start\" x=\"109.5\" y=\"-51.8\" font-family=\"Times,serif\" font-size=\"14.00\">x</text>\n<polygon fill=\"none\" stroke=\"black\" points=\"91,-24 91,-45 135,-45 135,-24 91,-24\"/>\n<text text-anchor=\"start\" x=\"109.5\" y=\"-30.8\" font-family=\"Times,serif\" font-size=\"14.00\">y</text>\n</g>\n<!-- x_G5&#45;&gt;ModAdd -->\n<g id=\"edge1\" class=\"edge\">\n<title>x_G5:e-&gt;ModAdd:w</title>\n<path fill=\"none\" stroke=\"black\" d=\"M54,-72C71.22,-72 72.97,-57.23 88.98,-56.07\"/>\n<ellipse fill=\"black\" stroke=\"black\" cx=\"90\" cy=\"-56.04\" rx=\"1\" ry=\"1\"/>\n<text text-anchor=\"middle\" x=\"72.5\" y=\"-67\" font-family=\"Times,serif\" font-size=\"10.00\">n</text>\n</g>\n<!-- y_G4 -->\n<g id=\"node2\" class=\"node\">\n<title>y_G4</title>\n<text text-anchor=\"middle\" x=\"27\" y=\"-14.3\" font-family=\"Times,serif\" font-size=\"14.00\">y</text>\n</g>\n<!-- y_G4&#45;&gt;ModAdd -->\n<g id=\"edge2\" class=\"edge\">\n<title>y_G4:e-&gt;ModAdd:w</title>\n<path fill=\"none\" stroke=\"black\" d=\"M54,-18C71.22,-18 72.97,-32.77 88.98,-33.93\"/>\n<ellipse fill=\"black\" stroke=\"black\" cx=\"90\" cy=\"-33.96\" rx=\"1\" ry=\"1\"/>\n<text text-anchor=\"middle\" x=\"72.5\" y=\"-29\" font-family=\"Times,serif\" font-size=\"10.00\">n</text>\n</g>\n<!-- x_G2 -->\n<g id=\"node4\" class=\"node\">\n<title>x_G2</title>\n<text text-anchor=\"middle\" x=\"199\" y=\"-68.3\" font-family=\"Times,serif\" font-size=\"14.00\">x</text>\n</g>\n<!-- ModAdd&#45;&gt;x_G2 -->\n<g id=\"edge3\" class=\"edge\">\n<title>ModAdd:e-&gt;x_G2:w</title>\n<path fill=\"none\" stroke=\"black\" d=\"M135,-56C152.22,-56 153.97,-70.77 169.98,-71.93\"/>\n<ellipse fill=\"black\" stroke=\"black\" cx=\"171\" cy=\"-71.96\" rx=\"1\" ry=\"1\"/>\n<text text-anchor=\"middle\" x=\"153.5\" y=\"-67\" font-family=\"Times,serif\" font-size=\"10.00\">n</text>\n</g>\n<!-- y_G3 -->\n<g id=\"node5\" class=\"node\">\n<title>y_G3</title>\n<text text-anchor=\"middle\" x=\"199\" y=\"-14.3\" font-family=\"Times,serif\" font-size=\"14.00\">y</text>\n</g>\n<!-- ModAdd&#45;&gt;y_G3 -->\n<g id=\"edge4\" class=\"edge\">\n<title>ModAdd:e-&gt;y_G3:w</title>\n<path fill=\"none\" stroke=\"black\" d=\"M135,-34C152.22,-34 153.97,-19.23 169.98,-18.07\"/>\n<ellipse fill=\"black\" stroke=\"black\" cx=\"171\" cy=\"-18.04\" rx=\"1\" ry=\"1\"/>\n<text text-anchor=\"middle\" x=\"153.5\" y=\"-29\" font-family=\"Times,serif\" font-size=\"10.00\">n</text>\n</g>\n</g>\n</svg>",
          "text/plain": "<IPython.core.display.SVG object>"
         },
         "metadata": {},
         "output_type": "display_data"
        }
       ],
       "tabbable": null,
       "tooltip": null
      }
     },
     "9c0f6cca479d41c68000822f9b9f2334": {
      "model_module": "@jupyter-widgets/base",
      "model_module_version": "2.0.0",
      "model_name": "LayoutModel",
      "state": {
       "_model_module": "@jupyter-widgets/base",
       "_model_module_version": "2.0.0",
       "_model_name": "LayoutModel",
       "_view_count": null,
       "_view_module": "@jupyter-widgets/base",
       "_view_module_version": "2.0.0",
       "_view_name": "LayoutView",
       "align_content": null,
       "align_items": null,
       "align_self": null,
       "border_bottom": null,
       "border_left": null,
       "border_right": null,
       "border_top": null,
       "bottom": null,
       "display": null,
       "flex": null,
       "flex_flow": null,
       "grid_area": null,
       "grid_auto_columns": null,
       "grid_auto_flow": null,
       "grid_auto_rows": null,
       "grid_column": null,
       "grid_gap": null,
       "grid_row": null,
       "grid_template_areas": null,
       "grid_template_columns": null,
       "grid_template_rows": null,
       "height": null,
       "justify_content": null,
       "justify_items": null,
       "left": null,
       "margin": null,
       "max_height": null,
       "max_width": null,
       "min_height": null,
       "min_width": null,
       "object_fit": null,
       "object_position": null,
       "order": null,
       "overflow": null,
       "padding": null,
       "right": null,
       "top": null,
       "visibility": null,
       "width": null
      }
     },
     "9ce724d08bdc4b6884d3558a2c8828cf": {
      "model_module": "@jupyter-widgets/output",
      "model_module_version": "1.0.0",
      "model_name": "OutputModel",
      "state": {
       "_dom_classes": [],
       "_model_module": "@jupyter-widgets/output",
       "_model_module_version": "1.0.0",
       "_model_name": "OutputModel",
       "_view_count": null,
       "_view_module": "@jupyter-widgets/output",
       "_view_module_version": "1.0.0",
       "_view_name": "OutputView",
       "layout": "IPY_MODEL_d9f7c345627e4ecd89a915b9363eaa6c",
       "msg_id": "",
       "outputs": [
        {
         "data": {
          "text/markdown": "`cmod_add_k_small`",
          "text/plain": "<IPython.core.display.Markdown object>"
         },
         "metadata": {},
         "output_type": "display_data"
        },
        {
         "data": {
          "image/svg+xml": "<svg xmlns=\"http://www.w3.org/2000/svg\" xmlns:xlink=\"http://www.w3.org/1999/xlink\" width=\"248pt\" height=\"98pt\" viewBox=\"0.00 0.00 248.00 98.00\">\n<g id=\"graph0\" class=\"graph\" transform=\"scale(1 1) rotate(0) translate(4 94)\">\n<title>my_graph</title>\n<polygon fill=\"white\" stroke=\"transparent\" points=\"-4,4 -4,-94 244,-94 244,4 -4,4\"/>\n<!-- ctrl_G2 -->\n<g id=\"node1\" class=\"node\">\n<title>ctrl_G2</title>\n<text text-anchor=\"middle\" x=\"27\" y=\"-68.3\" font-family=\"Times,serif\" font-size=\"14.00\">ctrl</text>\n</g>\n<!-- CModAddK -->\n<g id=\"node3\" class=\"node\">\n<title>CModAddK</title>\n<polygon fill=\"none\" stroke=\"black\" points=\"91,-66 91,-83 149,-83 149,-66 91,-66\"/>\n<text text-anchor=\"start\" x=\"94\" y=\"-72\" font-family=\"Times,serif\" font-size=\"10.00\">CModAddK</text>\n<polygon fill=\"none\" stroke=\"black\" points=\"91,-45 91,-66 149,-66 149,-45 91,-45\"/>\n<text text-anchor=\"start\" x=\"110.5\" y=\"-51.8\" font-family=\"Times,serif\" font-size=\"14.00\">ctrl</text>\n<polygon fill=\"none\" stroke=\"black\" points=\"91,-24 91,-45 149,-45 149,-24 91,-24\"/>\n<text text-anchor=\"start\" x=\"116.5\" y=\"-30.8\" font-family=\"Times,serif\" font-size=\"14.00\">x</text>\n</g>\n<!-- ctrl_G2&#45;&gt;CModAddK -->\n<g id=\"edge1\" class=\"edge\">\n<title>ctrl_G2:e-&gt;CModAddK:w</title>\n<path fill=\"none\" stroke=\"black\" d=\"M54,-72C71.22,-72 72.97,-57.23 88.98,-56.07\"/>\n<ellipse fill=\"black\" stroke=\"black\" cx=\"90\" cy=\"-56.04\" rx=\"1\" ry=\"1\"/>\n<text text-anchor=\"middle\" x=\"72.5\" y=\"-67\" font-family=\"Times,serif\" font-size=\"10.00\">1</text>\n</g>\n<!-- x_G4 -->\n<g id=\"node2\" class=\"node\">\n<title>x_G4</title>\n<text text-anchor=\"middle\" x=\"27\" y=\"-14.3\" font-family=\"Times,serif\" font-size=\"14.00\">x</text>\n</g>\n<!-- x_G4&#45;&gt;CModAddK -->\n<g id=\"edge2\" class=\"edge\">\n<title>x_G4:e-&gt;CModAddK:w</title>\n<path fill=\"none\" stroke=\"black\" d=\"M54,-18C71.22,-18 72.97,-32.77 88.98,-33.93\"/>\n<ellipse fill=\"black\" stroke=\"black\" cx=\"90\" cy=\"-33.96\" rx=\"1\" ry=\"1\"/>\n<text text-anchor=\"middle\" x=\"72.5\" y=\"-29\" font-family=\"Times,serif\" font-size=\"10.00\">4</text>\n</g>\n<!-- ctrl_G3 -->\n<g id=\"node4\" class=\"node\">\n<title>ctrl_G3</title>\n<text text-anchor=\"middle\" x=\"213\" y=\"-68.3\" font-family=\"Times,serif\" font-size=\"14.00\">ctrl</text>\n</g>\n<!-- CModAddK&#45;&gt;ctrl_G3 -->\n<g id=\"edge3\" class=\"edge\">\n<title>CModAddK:e-&gt;ctrl_G3:w</title>\n<path fill=\"none\" stroke=\"black\" d=\"M149,-56C166.22,-56 167.97,-70.77 183.98,-71.93\"/>\n<ellipse fill=\"black\" stroke=\"black\" cx=\"185\" cy=\"-71.96\" rx=\"1\" ry=\"1\"/>\n<text text-anchor=\"middle\" x=\"167.5\" y=\"-67\" font-family=\"Times,serif\" font-size=\"10.00\">1</text>\n</g>\n<!-- x_G1 -->\n<g id=\"node5\" class=\"node\">\n<title>x_G1</title>\n<text text-anchor=\"middle\" x=\"213\" y=\"-14.3\" font-family=\"Times,serif\" font-size=\"14.00\">x</text>\n</g>\n<!-- CModAddK&#45;&gt;x_G1 -->\n<g id=\"edge4\" class=\"edge\">\n<title>CModAddK:e-&gt;x_G1:w</title>\n<path fill=\"none\" stroke=\"black\" d=\"M149,-34C166.22,-34 167.97,-19.23 183.98,-18.07\"/>\n<ellipse fill=\"black\" stroke=\"black\" cx=\"185\" cy=\"-18.04\" rx=\"1\" ry=\"1\"/>\n<text text-anchor=\"middle\" x=\"167.5\" y=\"-29\" font-family=\"Times,serif\" font-size=\"10.00\">4</text>\n</g>\n</g>\n</svg>",
          "text/plain": "<IPython.core.display.SVG object>"
         },
         "metadata": {},
         "output_type": "display_data"
        }
       ],
       "tabbable": null,
       "tooltip": null
      }
     },
     "ad7789e258cb460282c0755c01292d8f": {
      "model_module": "@jupyter-widgets/controls",
      "model_module_version": "2.0.0",
      "model_name": "HBoxModel",
      "state": {
       "_dom_classes": [],
       "_model_module": "@jupyter-widgets/controls",
       "_model_module_version": "2.0.0",
       "_model_name": "HBoxModel",
       "_view_count": null,
       "_view_module": "@jupyter-widgets/controls",
       "_view_module_version": "2.0.0",
       "_view_name": "HBoxView",
       "box_style": "",
       "children": [
        "IPY_MODEL_0db7daf9bb1a474e8340ac743b89ed04",
        "IPY_MODEL_ae3f15d6f11d4f91a3274009af6c8ebd"
       ],
       "layout": "IPY_MODEL_4e4c19d98fd3478b8686f28a093c96a7",
       "tabbable": null,
       "tooltip": null
      }
     },
     "ae3f15d6f11d4f91a3274009af6c8ebd": {
      "model_module": "@jupyter-widgets/output",
      "model_module_version": "1.0.0",
      "model_name": "OutputModel",
      "state": {
       "_dom_classes": [],
       "_model_module": "@jupyter-widgets/output",
       "_model_module_version": "1.0.0",
       "_model_name": "OutputModel",
       "_view_count": null,
       "_view_module": "@jupyter-widgets/output",
       "_view_module_version": "1.0.0",
       "_view_name": "OutputView",
       "layout": "IPY_MODEL_d497d44e2e91452c931f57e7dac471b6",
       "msg_id": "",
       "outputs": [
        {
         "data": {
          "text/markdown": "`cmodadd_symbolic`",
          "text/plain": "<IPython.core.display.Markdown object>"
         },
         "metadata": {},
         "output_type": "display_data"
        },
        {
         "data": {
          "image/svg+xml": "<svg xmlns=\"http://www.w3.org/2000/svg\" xmlns:xlink=\"http://www.w3.org/1999/xlink\" width=\"241pt\" height=\"152pt\" viewBox=\"0.00 0.00 241.00 152.00\">\n<g id=\"graph0\" class=\"graph\" transform=\"scale(1 1) rotate(0) translate(4 148)\">\n<title>my_graph</title>\n<polygon fill=\"white\" stroke=\"transparent\" points=\"-4,4 -4,-148 237,-148 237,4 -4,4\"/>\n<!-- ctrl_G2 -->\n<g id=\"node1\" class=\"node\">\n<title>ctrl_G2</title>\n<text text-anchor=\"middle\" x=\"27\" y=\"-122.3\" font-family=\"Times,serif\" font-size=\"14.00\">ctrl</text>\n</g>\n<!-- CModAdd -->\n<g id=\"node4\" class=\"node\">\n<title>CModAdd</title>\n<polygon fill=\"none\" stroke=\"black\" points=\"91.5,-104 91.5,-121 142.5,-121 142.5,-104 91.5,-104\"/>\n<text text-anchor=\"start\" x=\"94.5\" y=\"-110\" font-family=\"Times,serif\" font-size=\"10.00\">CModAdd</text>\n<polygon fill=\"none\" stroke=\"black\" points=\"91.5,-83 91.5,-104 142.5,-104 142.5,-83 91.5,-83\"/>\n<text text-anchor=\"start\" x=\"107.5\" y=\"-89.8\" font-family=\"Times,serif\" font-size=\"14.00\">ctrl</text>\n<polygon fill=\"none\" stroke=\"black\" points=\"91.5,-62 91.5,-83 142.5,-83 142.5,-62 91.5,-62\"/>\n<text text-anchor=\"start\" x=\"113.5\" y=\"-68.8\" font-family=\"Times,serif\" font-size=\"14.00\">x</text>\n<polygon fill=\"none\" stroke=\"black\" points=\"91.5,-41 91.5,-62 142.5,-62 142.5,-41 91.5,-41\"/>\n<text text-anchor=\"start\" x=\"113.5\" y=\"-47.8\" font-family=\"Times,serif\" font-size=\"14.00\">y</text>\n</g>\n<!-- ctrl_G2&#45;&gt;CModAdd -->\n<g id=\"edge1\" class=\"edge\">\n<title>ctrl_G2:e-&gt;CModAdd:w</title>\n<path fill=\"none\" stroke=\"black\" d=\"M54,-126C74.89,-126 69.72,-96.45 88.58,-94.14\"/>\n<ellipse fill=\"black\" stroke=\"black\" cx=\"90\" cy=\"-94.06\" rx=\"1\" ry=\"1\"/>\n<text text-anchor=\"middle\" x=\"72.5\" y=\"-113\" font-family=\"Times,serif\" font-size=\"10.00\">1</text>\n</g>\n<!-- x_G0 -->\n<g id=\"node2\" class=\"node\">\n<title>x_G0</title>\n<text text-anchor=\"middle\" x=\"27\" y=\"-68.3\" font-family=\"Times,serif\" font-size=\"14.00\">x</text>\n</g>\n<!-- x_G0&#45;&gt;CModAdd -->\n<g id=\"edge2\" class=\"edge\">\n<title>x_G0:e-&gt;CModAdd:w</title>\n<path fill=\"none\" stroke=\"black\" d=\"M54,-72C69.67,-72 74.14,-72 88.77,-72\"/>\n<ellipse fill=\"black\" stroke=\"black\" cx=\"90\" cy=\"-72\" rx=\"1\" ry=\"1\"/>\n<text text-anchor=\"middle\" x=\"72.5\" y=\"-75\" font-family=\"Times,serif\" font-size=\"10.00\">n</text>\n</g>\n<!-- y_G4 -->\n<g id=\"node3\" class=\"node\">\n<title>y_G4</title>\n<text text-anchor=\"middle\" x=\"27\" y=\"-14.3\" font-family=\"Times,serif\" font-size=\"14.00\">y</text>\n</g>\n<!-- y_G4&#45;&gt;CModAdd -->\n<g id=\"edge3\" class=\"edge\">\n<title>y_G4:e-&gt;CModAdd:w</title>\n<path fill=\"none\" stroke=\"black\" d=\"M54,-18C75.17,-18 69.47,-48.47 88.55,-50.85\"/>\n<ellipse fill=\"black\" stroke=\"black\" cx=\"90\" cy=\"-50.94\" rx=\"1\" ry=\"1\"/>\n<text text-anchor=\"middle\" x=\"72.5\" y=\"-39\" font-family=\"Times,serif\" font-size=\"10.00\">n</text>\n</g>\n<!-- ctrl_G3 -->\n<g id=\"node5\" class=\"node\">\n<title>ctrl_G3</title>\n<text text-anchor=\"middle\" x=\"206\" y=\"-122.3\" font-family=\"Times,serif\" font-size=\"14.00\">ctrl</text>\n</g>\n<!-- CModAdd&#45;&gt;ctrl_G3 -->\n<g id=\"edge4\" class=\"edge\">\n<title>CModAdd:e-&gt;ctrl_G3:w</title>\n<path fill=\"none\" stroke=\"black\" d=\"M142,-94C162.89,-94 157.72,-123.55 176.58,-125.86\"/>\n<ellipse fill=\"black\" stroke=\"black\" cx=\"178\" cy=\"-125.94\" rx=\"1\" ry=\"1\"/>\n<text text-anchor=\"middle\" x=\"160.5\" y=\"-113\" font-family=\"Times,serif\" font-size=\"10.00\">1</text>\n</g>\n<!-- x_G1 -->\n<g id=\"node6\" class=\"node\">\n<title>x_G1</title>\n<text text-anchor=\"middle\" x=\"206\" y=\"-68.3\" font-family=\"Times,serif\" font-size=\"14.00\">x</text>\n</g>\n<!-- CModAdd&#45;&gt;x_G1 -->\n<g id=\"edge5\" class=\"edge\">\n<title>CModAdd:e-&gt;x_G1:w</title>\n<path fill=\"none\" stroke=\"black\" d=\"M142,-72C157.67,-72 162.14,-72 176.77,-72\"/>\n<ellipse fill=\"black\" stroke=\"black\" cx=\"178\" cy=\"-72\" rx=\"1\" ry=\"1\"/>\n<text text-anchor=\"middle\" x=\"160.5\" y=\"-75\" font-family=\"Times,serif\" font-size=\"10.00\">n</text>\n</g>\n<!-- y_G8 -->\n<g id=\"node7\" class=\"node\">\n<title>y_G8</title>\n<text text-anchor=\"middle\" x=\"206\" y=\"-14.3\" font-family=\"Times,serif\" font-size=\"14.00\">y</text>\n</g>\n<!-- CModAdd&#45;&gt;y_G8 -->\n<g id=\"edge6\" class=\"edge\">\n<title>CModAdd:e-&gt;y_G8:w</title>\n<path fill=\"none\" stroke=\"black\" d=\"M142,-51C163.17,-51 157.47,-20.53 176.55,-18.15\"/>\n<ellipse fill=\"black\" stroke=\"black\" cx=\"178\" cy=\"-18.06\" rx=\"1\" ry=\"1\"/>\n<text text-anchor=\"middle\" x=\"160.5\" y=\"-39\" font-family=\"Times,serif\" font-size=\"10.00\">n</text>\n</g>\n</g>\n</svg>",
          "text/plain": "<IPython.core.display.SVG object>"
         },
         "metadata": {},
         "output_type": "display_data"
        }
       ],
       "tabbable": null,
       "tooltip": null
      }
     },
     "b036ffb1698e496ba1e2a2443ba5da8d": {
      "model_module": "@jupyter-widgets/base",
      "model_module_version": "2.0.0",
      "model_name": "LayoutModel",
      "state": {
       "_model_module": "@jupyter-widgets/base",
       "_model_module_version": "2.0.0",
       "_model_name": "LayoutModel",
       "_view_count": null,
       "_view_module": "@jupyter-widgets/base",
       "_view_module_version": "2.0.0",
       "_view_name": "LayoutView",
       "align_content": null,
       "align_items": null,
       "align_self": null,
       "border_bottom": null,
       "border_left": null,
       "border_right": null,
       "border_top": null,
       "bottom": null,
       "display": null,
       "flex": null,
       "flex_flow": null,
       "grid_area": null,
       "grid_auto_columns": null,
       "grid_auto_flow": null,
       "grid_auto_rows": null,
       "grid_column": null,
       "grid_gap": null,
       "grid_row": null,
       "grid_template_areas": null,
       "grid_template_columns": null,
       "grid_template_rows": null,
       "height": null,
       "justify_content": null,
       "justify_items": null,
       "left": null,
       "margin": null,
       "max_height": null,
       "max_width": null,
       "min_height": null,
       "min_width": null,
       "object_fit": null,
       "object_position": null,
       "order": null,
       "overflow": null,
       "padding": null,
       "right": null,
       "top": null,
       "visibility": null,
       "width": null
      }
     },
     "b11f6550904c401ba954fb517b5a36bb": {
      "model_module": "@jupyter-widgets/output",
      "model_module_version": "1.0.0",
      "model_name": "OutputModel",
      "state": {
       "_dom_classes": [],
       "_model_module": "@jupyter-widgets/output",
       "_model_module_version": "1.0.0",
       "_model_name": "OutputModel",
       "_view_count": null,
       "_view_module": "@jupyter-widgets/output",
       "_view_module_version": "1.0.0",
       "_view_name": "OutputView",
       "layout": "IPY_MODEL_19d0ebb3e07948d8824e93c2f4ad9155",
       "msg_id": "",
       "outputs": [
        {
         "data": {
          "text/markdown": "`ctrl_scale_mod_add`",
          "text/plain": "<IPython.core.display.Markdown object>"
         },
         "metadata": {},
         "output_type": "display_data"
        },
        {
         "data": {
          "image/svg+xml": "<svg xmlns=\"http://www.w3.org/2000/svg\" xmlns:xlink=\"http://www.w3.org/1999/xlink\" width=\"272pt\" height=\"152pt\" viewBox=\"0.00 0.00 272.00 152.00\">\n<g id=\"graph0\" class=\"graph\" transform=\"scale(1 1) rotate(0) translate(4 148)\">\n<title>my_graph</title>\n<polygon fill=\"white\" stroke=\"transparent\" points=\"-4,4 -4,-148 268,-148 268,4 -4,4\"/>\n<!-- ctrl_G2 -->\n<g id=\"node1\" class=\"node\">\n<title>ctrl_G2</title>\n<text text-anchor=\"middle\" x=\"27\" y=\"-122.3\" font-family=\"Times,serif\" font-size=\"14.00\">ctrl</text>\n</g>\n<!-- CtrlScaleModAdd -->\n<g id=\"node4\" class=\"node\">\n<title>CtrlScaleModAdd</title>\n<polygon fill=\"none\" stroke=\"black\" points=\"91,-104 91,-121 173,-121 173,-104 91,-104\"/>\n<text text-anchor=\"start\" x=\"94\" y=\"-110\" font-family=\"Times,serif\" font-size=\"10.00\">CtrlScaleModAdd</text>\n<polygon fill=\"none\" stroke=\"black\" points=\"91,-83 91,-104 173,-104 173,-83 91,-83\"/>\n<text text-anchor=\"start\" x=\"122.5\" y=\"-89.8\" font-family=\"Times,serif\" font-size=\"14.00\">ctrl</text>\n<polygon fill=\"none\" stroke=\"black\" points=\"91,-62 91,-83 173,-83 173,-62 91,-62\"/>\n<text text-anchor=\"start\" x=\"128.5\" y=\"-68.8\" font-family=\"Times,serif\" font-size=\"14.00\">x</text>\n<polygon fill=\"none\" stroke=\"black\" points=\"91,-41 91,-62 173,-62 173,-41 91,-41\"/>\n<text text-anchor=\"start\" x=\"128.5\" y=\"-47.8\" font-family=\"Times,serif\" font-size=\"14.00\">y</text>\n</g>\n<!-- ctrl_G2&#45;&gt;CtrlScaleModAdd -->\n<g id=\"edge1\" class=\"edge\">\n<title>ctrl_G2:e-&gt;CtrlScaleModAdd:w</title>\n<path fill=\"none\" stroke=\"black\" d=\"M54,-126C74.89,-126 69.72,-96.45 88.58,-94.14\"/>\n<ellipse fill=\"black\" stroke=\"black\" cx=\"90\" cy=\"-94.06\" rx=\"1\" ry=\"1\"/>\n<text text-anchor=\"middle\" x=\"72.5\" y=\"-113\" font-family=\"Times,serif\" font-size=\"10.00\">1</text>\n</g>\n<!-- x_G1 -->\n<g id=\"node2\" class=\"node\">\n<title>x_G1</title>\n<text text-anchor=\"middle\" x=\"27\" y=\"-68.3\" font-family=\"Times,serif\" font-size=\"14.00\">x</text>\n</g>\n<!-- x_G1&#45;&gt;CtrlScaleModAdd -->\n<g id=\"edge2\" class=\"edge\">\n<title>x_G1:e-&gt;CtrlScaleModAdd:w</title>\n<path fill=\"none\" stroke=\"black\" d=\"M54,-72C69.67,-72 74.14,-72 88.77,-72\"/>\n<ellipse fill=\"black\" stroke=\"black\" cx=\"90\" cy=\"-72\" rx=\"1\" ry=\"1\"/>\n<text text-anchor=\"middle\" x=\"72.5\" y=\"-75\" font-family=\"Times,serif\" font-size=\"10.00\">n</text>\n</g>\n<!-- y_G6 -->\n<g id=\"node3\" class=\"node\">\n<title>y_G6</title>\n<text text-anchor=\"middle\" x=\"27\" y=\"-14.3\" font-family=\"Times,serif\" font-size=\"14.00\">y</text>\n</g>\n<!-- y_G6&#45;&gt;CtrlScaleModAdd -->\n<g id=\"edge3\" class=\"edge\">\n<title>y_G6:e-&gt;CtrlScaleModAdd:w</title>\n<path fill=\"none\" stroke=\"black\" d=\"M54,-18C75.17,-18 69.47,-48.47 88.55,-50.85\"/>\n<ellipse fill=\"black\" stroke=\"black\" cx=\"90\" cy=\"-50.94\" rx=\"1\" ry=\"1\"/>\n<text text-anchor=\"middle\" x=\"72.5\" y=\"-39\" font-family=\"Times,serif\" font-size=\"10.00\">n</text>\n</g>\n<!-- ctrl_G4 -->\n<g id=\"node5\" class=\"node\">\n<title>ctrl_G4</title>\n<text text-anchor=\"middle\" x=\"237\" y=\"-122.3\" font-family=\"Times,serif\" font-size=\"14.00\">ctrl</text>\n</g>\n<!-- CtrlScaleModAdd&#45;&gt;ctrl_G4 -->\n<g id=\"edge4\" class=\"edge\">\n<title>CtrlScaleModAdd:e-&gt;ctrl_G4:w</title>\n<path fill=\"none\" stroke=\"black\" d=\"M173,-94C193.89,-94 188.72,-123.55 207.58,-125.86\"/>\n<ellipse fill=\"black\" stroke=\"black\" cx=\"209\" cy=\"-125.94\" rx=\"1\" ry=\"1\"/>\n<text text-anchor=\"middle\" x=\"191.5\" y=\"-113\" font-family=\"Times,serif\" font-size=\"10.00\">1</text>\n</g>\n<!-- x_G3 -->\n<g id=\"node6\" class=\"node\">\n<title>x_G3</title>\n<text text-anchor=\"middle\" x=\"237\" y=\"-68.3\" font-family=\"Times,serif\" font-size=\"14.00\">x</text>\n</g>\n<!-- CtrlScaleModAdd&#45;&gt;x_G3 -->\n<g id=\"edge5\" class=\"edge\">\n<title>CtrlScaleModAdd:e-&gt;x_G3:w</title>\n<path fill=\"none\" stroke=\"black\" d=\"M173,-72C188.67,-72 193.14,-72 207.77,-72\"/>\n<ellipse fill=\"black\" stroke=\"black\" cx=\"209\" cy=\"-72\" rx=\"1\" ry=\"1\"/>\n<text text-anchor=\"middle\" x=\"191.5\" y=\"-75\" font-family=\"Times,serif\" font-size=\"10.00\">n</text>\n</g>\n<!-- y_G8 -->\n<g id=\"node7\" class=\"node\">\n<title>y_G8</title>\n<text text-anchor=\"middle\" x=\"237\" y=\"-14.3\" font-family=\"Times,serif\" font-size=\"14.00\">y</text>\n</g>\n<!-- CtrlScaleModAdd&#45;&gt;y_G8 -->\n<g id=\"edge6\" class=\"edge\">\n<title>CtrlScaleModAdd:e-&gt;y_G8:w</title>\n<path fill=\"none\" stroke=\"black\" d=\"M173,-51C194.17,-51 188.47,-20.53 207.55,-18.15\"/>\n<ellipse fill=\"black\" stroke=\"black\" cx=\"209\" cy=\"-18.06\" rx=\"1\" ry=\"1\"/>\n<text text-anchor=\"middle\" x=\"191.5\" y=\"-39\" font-family=\"Times,serif\" font-size=\"10.00\">n</text>\n</g>\n</g>\n</svg>",
          "text/plain": "<IPython.core.display.SVG object>"
         },
         "metadata": {},
         "output_type": "display_data"
        }
       ],
       "tabbable": null,
       "tooltip": null
      }
     },
     "d497d44e2e91452c931f57e7dac471b6": {
      "model_module": "@jupyter-widgets/base",
      "model_module_version": "2.0.0",
      "model_name": "LayoutModel",
      "state": {
       "_model_module": "@jupyter-widgets/base",
       "_model_module_version": "2.0.0",
       "_model_name": "LayoutModel",
       "_view_count": null,
       "_view_module": "@jupyter-widgets/base",
       "_view_module_version": "2.0.0",
       "_view_name": "LayoutView",
       "align_content": null,
       "align_items": null,
       "align_self": null,
       "border_bottom": null,
       "border_left": null,
       "border_right": null,
       "border_top": null,
       "bottom": null,
       "display": null,
       "flex": null,
       "flex_flow": null,
       "grid_area": null,
       "grid_auto_columns": null,
       "grid_auto_flow": null,
       "grid_auto_rows": null,
       "grid_column": null,
       "grid_gap": null,
       "grid_row": null,
       "grid_template_areas": null,
       "grid_template_columns": null,
       "grid_template_rows": null,
       "height": null,
       "justify_content": null,
       "justify_items": null,
       "left": null,
       "margin": null,
       "max_height": null,
       "max_width": null,
       "min_height": null,
       "min_width": null,
       "object_fit": null,
       "object_position": null,
       "order": null,
       "overflow": null,
       "padding": null,
       "right": null,
       "top": null,
       "visibility": null,
       "width": null
      }
     },
     "d7584ad359664c969c053e904cf4d630": {
      "model_module": "@jupyter-widgets/output",
      "model_module_version": "1.0.0",
      "model_name": "OutputModel",
      "state": {
       "_dom_classes": [],
       "_model_module": "@jupyter-widgets/output",
       "_model_module_version": "1.0.0",
       "_model_name": "OutputModel",
       "_view_count": null,
       "_view_module": "@jupyter-widgets/output",
       "_view_module_version": "1.0.0",
       "_view_name": "OutputView",
       "layout": "IPY_MODEL_207594fc91574dd980be7d8132566fc2",
       "msg_id": "",
       "outputs": [
        {
         "data": {
          "text/markdown": "`mod_add_k_small`",
          "text/plain": "<IPython.core.display.Markdown object>"
         },
         "metadata": {},
         "output_type": "display_data"
        },
        {
         "data": {
          "image/svg+xml": "<svg xmlns=\"http://www.w3.org/2000/svg\" xmlns:xlink=\"http://www.w3.org/1999/xlink\" width=\"242pt\" height=\"54pt\" viewBox=\"0.00 0.00 242.00 54.00\">\n<g id=\"graph0\" class=\"graph\" transform=\"scale(1 1) rotate(0) translate(4 50)\">\n<title>my_graph</title>\n<polygon fill=\"white\" stroke=\"transparent\" points=\"-4,4 -4,-50 238,-50 238,4 -4,4\"/>\n<!-- x_G1 -->\n<g id=\"node1\" class=\"node\">\n<title>x_G1</title>\n<text text-anchor=\"middle\" x=\"27\" y=\"-14.3\" font-family=\"Times,serif\" font-size=\"14.00\">x</text>\n</g>\n<!-- ModAddK -->\n<g id=\"node2\" class=\"node\">\n<title>ModAddK</title>\n<polygon fill=\"none\" stroke=\"black\" points=\"91,-29 91,-46 143,-46 143,-29 91,-29\"/>\n<text text-anchor=\"start\" x=\"94\" y=\"-35\" font-family=\"Times,serif\" font-size=\"10.00\">ModAddK</text>\n<polygon fill=\"none\" stroke=\"black\" points=\"91,-8 91,-29 143,-29 143,-8 91,-8\"/>\n<text text-anchor=\"start\" x=\"113.5\" y=\"-14.8\" font-family=\"Times,serif\" font-size=\"14.00\">x</text>\n</g>\n<!-- x_G1&#45;&gt;ModAddK -->\n<g id=\"edge1\" class=\"edge\">\n<title>x_G1:e-&gt;ModAddK:w</title>\n<path fill=\"none\" stroke=\"black\" d=\"M54,-18C69.67,-18 74.14,-18 88.77,-18\"/>\n<ellipse fill=\"black\" stroke=\"black\" cx=\"90\" cy=\"-18\" rx=\"1\" ry=\"1\"/>\n<text text-anchor=\"middle\" x=\"72.5\" y=\"-21\" font-family=\"Times,serif\" font-size=\"10.00\">4</text>\n</g>\n<!-- x_G0 -->\n<g id=\"node3\" class=\"node\">\n<title>x_G0</title>\n<text text-anchor=\"middle\" x=\"207\" y=\"-14.3\" font-family=\"Times,serif\" font-size=\"14.00\">x</text>\n</g>\n<!-- ModAddK&#45;&gt;x_G0 -->\n<g id=\"edge2\" class=\"edge\">\n<title>ModAddK:e-&gt;x_G0:w</title>\n<path fill=\"none\" stroke=\"black\" d=\"M143,-18C158.67,-18 163.14,-18 177.77,-18\"/>\n<ellipse fill=\"black\" stroke=\"black\" cx=\"179\" cy=\"-18\" rx=\"1\" ry=\"1\"/>\n<text text-anchor=\"middle\" x=\"161.5\" y=\"-21\" font-family=\"Times,serif\" font-size=\"10.00\">4</text>\n</g>\n</g>\n</svg>",
          "text/plain": "<IPython.core.display.SVG object>"
         },
         "metadata": {},
         "output_type": "display_data"
        }
       ],
       "tabbable": null,
       "tooltip": null
      }
     },
     "d7ef02fc28c243ac8abcdca3aef9f5a2": {
      "model_module": "@jupyter-widgets/controls",
      "model_module_version": "2.0.0",
      "model_name": "HBoxModel",
      "state": {
       "_dom_classes": [],
       "_model_module": "@jupyter-widgets/controls",
       "_model_module_version": "2.0.0",
       "_model_name": "HBoxModel",
       "_view_count": null,
       "_view_module": "@jupyter-widgets/controls",
       "_view_module_version": "2.0.0",
       "_view_name": "HBoxView",
       "box_style": "",
       "children": [
        "IPY_MODEL_528382cb5fe64b6dbfbe095bfbfa7a31",
        "IPY_MODEL_d7584ad359664c969c053e904cf4d630",
        "IPY_MODEL_7d84964b18414f6e857897e3e4b97c49"
       ],
       "layout": "IPY_MODEL_90cab8c557e246debb3f7658de969d42",
       "tabbable": null,
       "tooltip": null
      }
     },
     "d9f7c345627e4ecd89a915b9363eaa6c": {
      "model_module": "@jupyter-widgets/base",
      "model_module_version": "2.0.0",
      "model_name": "LayoutModel",
      "state": {
       "_model_module": "@jupyter-widgets/base",
       "_model_module_version": "2.0.0",
       "_model_name": "LayoutModel",
       "_view_count": null,
       "_view_module": "@jupyter-widgets/base",
       "_view_module_version": "2.0.0",
       "_view_name": "LayoutView",
       "align_content": null,
       "align_items": null,
       "align_self": null,
       "border_bottom": null,
       "border_left": null,
       "border_right": null,
       "border_top": null,
       "bottom": null,
       "display": null,
       "flex": null,
       "flex_flow": null,
       "grid_area": null,
       "grid_auto_columns": null,
       "grid_auto_flow": null,
       "grid_auto_rows": null,
       "grid_column": null,
       "grid_gap": null,
       "grid_row": null,
       "grid_template_areas": null,
       "grid_template_columns": null,
       "grid_template_rows": null,
       "height": null,
       "justify_content": null,
       "justify_items": null,
       "left": null,
       "margin": null,
       "max_height": null,
       "max_width": null,
       "min_height": null,
       "min_width": null,
       "object_fit": null,
       "object_position": null,
       "order": null,
       "overflow": null,
       "padding": null,
       "right": null,
       "top": null,
       "visibility": null,
       "width": null
      }
     },
     "da7d2ff5bae8413db942a1e745a86a77": {
      "model_module": "@jupyter-widgets/controls",
      "model_module_version": "2.0.0",
      "model_name": "HBoxModel",
      "state": {
       "_dom_classes": [],
       "_model_module": "@jupyter-widgets/controls",
       "_model_module_version": "2.0.0",
       "_model_name": "HBoxModel",
       "_view_count": null,
       "_view_module": "@jupyter-widgets/controls",
       "_view_module_version": "2.0.0",
       "_view_name": "HBoxView",
       "box_style": "",
       "children": [
        "IPY_MODEL_b11f6550904c401ba954fb517b5a36bb",
        "IPY_MODEL_da8c255877874e99bd825be353822acb"
       ],
       "layout": "IPY_MODEL_56be9933b2c4443a83d375fa84326517",
       "tabbable": null,
       "tooltip": null
      }
     },
     "da8c255877874e99bd825be353822acb": {
      "model_module": "@jupyter-widgets/output",
      "model_module_version": "1.0.0",
      "model_name": "OutputModel",
      "state": {
       "_dom_classes": [],
       "_model_module": "@jupyter-widgets/output",
       "_model_module_version": "1.0.0",
       "_model_name": "OutputModel",
       "_view_count": null,
       "_view_module": "@jupyter-widgets/output",
       "_view_module_version": "1.0.0",
       "_view_name": "OutputView",
       "layout": "IPY_MODEL_271a945162504fd0aed899e57a4a254e",
       "msg_id": "",
       "outputs": [
        {
         "data": {
          "text/markdown": "`ctrl_scale_mod_add_small`",
          "text/plain": "<IPython.core.display.Markdown object>"
         },
         "metadata": {},
         "output_type": "display_data"
        },
        {
         "data": {
          "image/svg+xml": "<svg xmlns=\"http://www.w3.org/2000/svg\" xmlns:xlink=\"http://www.w3.org/1999/xlink\" width=\"272pt\" height=\"152pt\" viewBox=\"0.00 0.00 272.00 152.00\">\n<g id=\"graph0\" class=\"graph\" transform=\"scale(1 1) rotate(0) translate(4 148)\">\n<title>my_graph</title>\n<polygon fill=\"white\" stroke=\"transparent\" points=\"-4,4 -4,-148 268,-148 268,4 -4,4\"/>\n<!-- ctrl_G1 -->\n<g id=\"node1\" class=\"node\">\n<title>ctrl_G1</title>\n<text text-anchor=\"middle\" x=\"27\" y=\"-122.3\" font-family=\"Times,serif\" font-size=\"14.00\">ctrl</text>\n</g>\n<!-- CtrlScaleModAdd -->\n<g id=\"node4\" class=\"node\">\n<title>CtrlScaleModAdd</title>\n<polygon fill=\"none\" stroke=\"black\" points=\"91,-104 91,-121 173,-121 173,-104 91,-104\"/>\n<text text-anchor=\"start\" x=\"94\" y=\"-110\" font-family=\"Times,serif\" font-size=\"10.00\">CtrlScaleModAdd</text>\n<polygon fill=\"none\" stroke=\"black\" points=\"91,-83 91,-104 173,-104 173,-83 91,-83\"/>\n<text text-anchor=\"start\" x=\"122.5\" y=\"-89.8\" font-family=\"Times,serif\" font-size=\"14.00\">ctrl</text>\n<polygon fill=\"none\" stroke=\"black\" points=\"91,-62 91,-83 173,-83 173,-62 91,-62\"/>\n<text text-anchor=\"start\" x=\"128.5\" y=\"-68.8\" font-family=\"Times,serif\" font-size=\"14.00\">x</text>\n<polygon fill=\"none\" stroke=\"black\" points=\"91,-41 91,-62 173,-62 173,-41 91,-41\"/>\n<text text-anchor=\"start\" x=\"128.5\" y=\"-47.8\" font-family=\"Times,serif\" font-size=\"14.00\">y</text>\n</g>\n<!-- ctrl_G1&#45;&gt;CtrlScaleModAdd -->\n<g id=\"edge1\" class=\"edge\">\n<title>ctrl_G1:e-&gt;CtrlScaleModAdd:w</title>\n<path fill=\"none\" stroke=\"black\" d=\"M54,-126C74.89,-126 69.72,-96.45 88.58,-94.14\"/>\n<ellipse fill=\"black\" stroke=\"black\" cx=\"90\" cy=\"-94.06\" rx=\"1\" ry=\"1\"/>\n<text text-anchor=\"middle\" x=\"72.5\" y=\"-113\" font-family=\"Times,serif\" font-size=\"10.00\">1</text>\n</g>\n<!-- x_G7 -->\n<g id=\"node2\" class=\"node\">\n<title>x_G7</title>\n<text text-anchor=\"middle\" x=\"27\" y=\"-68.3\" font-family=\"Times,serif\" font-size=\"14.00\">x</text>\n</g>\n<!-- x_G7&#45;&gt;CtrlScaleModAdd -->\n<g id=\"edge2\" class=\"edge\">\n<title>x_G7:e-&gt;CtrlScaleModAdd:w</title>\n<path fill=\"none\" stroke=\"black\" d=\"M54,-72C69.67,-72 74.14,-72 88.77,-72\"/>\n<ellipse fill=\"black\" stroke=\"black\" cx=\"90\" cy=\"-72\" rx=\"1\" ry=\"1\"/>\n<text text-anchor=\"middle\" x=\"72.5\" y=\"-75\" font-family=\"Times,serif\" font-size=\"10.00\">4</text>\n</g>\n<!-- y_G4 -->\n<g id=\"node3\" class=\"node\">\n<title>y_G4</title>\n<text text-anchor=\"middle\" x=\"27\" y=\"-14.3\" font-family=\"Times,serif\" font-size=\"14.00\">y</text>\n</g>\n<!-- y_G4&#45;&gt;CtrlScaleModAdd -->\n<g id=\"edge3\" class=\"edge\">\n<title>y_G4:e-&gt;CtrlScaleModAdd:w</title>\n<path fill=\"none\" stroke=\"black\" d=\"M54,-18C75.17,-18 69.47,-48.47 88.55,-50.85\"/>\n<ellipse fill=\"black\" stroke=\"black\" cx=\"90\" cy=\"-50.94\" rx=\"1\" ry=\"1\"/>\n<text text-anchor=\"middle\" x=\"72.5\" y=\"-39\" font-family=\"Times,serif\" font-size=\"10.00\">4</text>\n</g>\n<!-- ctrl_G2 -->\n<g id=\"node5\" class=\"node\">\n<title>ctrl_G2</title>\n<text text-anchor=\"middle\" x=\"237\" y=\"-122.3\" font-family=\"Times,serif\" font-size=\"14.00\">ctrl</text>\n</g>\n<!-- CtrlScaleModAdd&#45;&gt;ctrl_G2 -->\n<g id=\"edge4\" class=\"edge\">\n<title>CtrlScaleModAdd:e-&gt;ctrl_G2:w</title>\n<path fill=\"none\" stroke=\"black\" d=\"M173,-94C193.89,-94 188.72,-123.55 207.58,-125.86\"/>\n<ellipse fill=\"black\" stroke=\"black\" cx=\"209\" cy=\"-125.94\" rx=\"1\" ry=\"1\"/>\n<text text-anchor=\"middle\" x=\"191.5\" y=\"-113\" font-family=\"Times,serif\" font-size=\"10.00\">1</text>\n</g>\n<!-- x_G0 -->\n<g id=\"node6\" class=\"node\">\n<title>x_G0</title>\n<text text-anchor=\"middle\" x=\"237\" y=\"-68.3\" font-family=\"Times,serif\" font-size=\"14.00\">x</text>\n</g>\n<!-- CtrlScaleModAdd&#45;&gt;x_G0 -->\n<g id=\"edge5\" class=\"edge\">\n<title>CtrlScaleModAdd:e-&gt;x_G0:w</title>\n<path fill=\"none\" stroke=\"black\" d=\"M173,-72C188.67,-72 193.14,-72 207.77,-72\"/>\n<ellipse fill=\"black\" stroke=\"black\" cx=\"209\" cy=\"-72\" rx=\"1\" ry=\"1\"/>\n<text text-anchor=\"middle\" x=\"191.5\" y=\"-75\" font-family=\"Times,serif\" font-size=\"10.00\">4</text>\n</g>\n<!-- y_G6 -->\n<g id=\"node7\" class=\"node\">\n<title>y_G6</title>\n<text text-anchor=\"middle\" x=\"237\" y=\"-14.3\" font-family=\"Times,serif\" font-size=\"14.00\">y</text>\n</g>\n<!-- CtrlScaleModAdd&#45;&gt;y_G6 -->\n<g id=\"edge6\" class=\"edge\">\n<title>CtrlScaleModAdd:e-&gt;y_G6:w</title>\n<path fill=\"none\" stroke=\"black\" d=\"M173,-51C194.17,-51 188.47,-20.53 207.55,-18.15\"/>\n<ellipse fill=\"black\" stroke=\"black\" cx=\"209\" cy=\"-18.06\" rx=\"1\" ry=\"1\"/>\n<text text-anchor=\"middle\" x=\"191.5\" y=\"-39\" font-family=\"Times,serif\" font-size=\"10.00\">4</text>\n</g>\n</g>\n</svg>",
          "text/plain": "<IPython.core.display.SVG object>"
         },
         "metadata": {},
         "output_type": "display_data"
        }
       ],
       "tabbable": null,
       "tooltip": null
      }
     }
    },
    "version_major": 2,
    "version_minor": 0
   }
  }
 },
 "nbformat": 4,
 "nbformat_minor": 5
}
