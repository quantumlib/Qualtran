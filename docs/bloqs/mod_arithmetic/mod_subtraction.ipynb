{
 "cells": [
  {
   "cell_type": "markdown",
   "id": "20aaa8c7",
   "metadata": {
    "cq.autogen": "title_cell"
   },
   "source": [
    "# Modular Subtraction"
   ]
  },
  {
   "cell_type": "code",
   "execution_count": 1,
   "id": "968c2b06",
   "metadata": {
    "cq.autogen": "top_imports"
   },
   "outputs": [],
   "source": [
    "from qualtran import Bloq, CompositeBloq, BloqBuilder, Signature, Register\n",
    "from qualtran import QBit, QInt, QUInt, QAny\n",
    "from qualtran.drawing import show_bloq, show_call_graph, show_counts_sigma\n",
    "from typing import *\n",
    "import numpy as np\n",
    "import sympy\n",
    "import cirq"
   ]
  },
  {
   "cell_type": "markdown",
   "id": "6ed3d20c",
   "metadata": {
    "cq.autogen": "ModNeg.bloq_doc.md"
   },
   "source": [
    "## `ModNeg`\n",
    "Performs modular negation.\n",
    "\n",
    "Applies the operation $\\ket{x} \\rightarrow \\ket{-x \\% p}$\n",
    "\n",
    "Note: This implements the decomposition from Fig 6 in but doesn't match table 8\n",
    "since we don't use measurement based uncompution because that introduces random phase flips.\n",
    "\n",
    "#### Parameters\n",
    " - `dtype`: Datatype of the register.\n",
    " - `p`: The modulus for the negation. \n",
    "\n",
    "#### Registers\n",
    " - `x`: The register contraining the integer we negate. \n",
    "\n",
    "#### References\n",
    " - [How to compute a 256-bit elliptic curve private key with only 50 million Toffoli gates](https://arxiv.org/abs/2306.08585). Fig 6b\n"
   ]
  },
  {
   "cell_type": "code",
   "execution_count": 2,
   "id": "24d9ba35",
   "metadata": {
    "cq.autogen": "ModNeg.bloq_doc.py"
   },
   "outputs": [],
   "source": [
    "from qualtran.bloqs.mod_arithmetic import ModNeg"
   ]
  },
  {
   "cell_type": "markdown",
   "id": "8d97be2c",
   "metadata": {
    "cq.autogen": "ModNeg.example_instances.md"
   },
   "source": [
    "### Example Instances"
   ]
  },
  {
   "cell_type": "code",
   "execution_count": 3,
   "id": "f1c17cde",
   "metadata": {
    "cq.autogen": "ModNeg.mod_neg"
   },
   "outputs": [],
   "source": [
    "n = 32\n",
    "prime = sympy.Symbol('p')\n",
    "mod_neg = ModNeg(QUInt(n), mod=prime)"
   ]
  },
  {
   "cell_type": "markdown",
   "id": "0801878d",
   "metadata": {
    "cq.autogen": "ModNeg.graphical_signature.md"
   },
   "source": [
    "#### Graphical Signature"
   ]
  },
  {
   "cell_type": "code",
   "execution_count": 4,
   "id": "2dfc00e4",
   "metadata": {
    "cq.autogen": "ModNeg.graphical_signature.py"
   },
   "outputs": [
    {
     "data": {
      "application/vnd.jupyter.widget-view+json": {
       "model_id": "88dea7a784344287a2d07c585df72c92",
       "version_major": 2,
       "version_minor": 0
      },
      "text/plain": [
       "HBox(children=(Output(outputs=({'output_type': 'display_data', 'data': {'text/plain': '<IPython.core.display.M…"
      ]
     },
     "metadata": {},
     "output_type": "display_data"
    }
   ],
   "source": [
    "from qualtran.drawing import show_bloqs\n",
    "show_bloqs([mod_neg],\n",
    "           ['`mod_neg`'])"
   ]
  },
  {
   "cell_type": "markdown",
   "id": "dfdb9be7",
   "metadata": {
    "cq.autogen": "ModNeg.call_graph.md"
   },
   "source": [
    "### Call Graph"
   ]
  },
  {
   "cell_type": "code",
   "execution_count": 5,
   "id": "0f9ac01b",
   "metadata": {
    "cq.autogen": "ModNeg.call_graph.py"
   },
   "outputs": [
    {
     "data": {
      "image/svg+xml": [
       "<svg xmlns=\"http://www.w3.org/2000/svg\" xmlns:xlink=\"http://www.w3.org/1999/xlink\" width=\"356pt\" height=\"131pt\" viewBox=\"0.00 0.00 356.00 131.00\">\n",
       "<g id=\"graph0\" class=\"graph\" transform=\"scale(1 1) rotate(0) translate(4 127)\">\n",
       "<title>counts</title>\n",
       "<polygon fill=\"white\" stroke=\"transparent\" points=\"-4,4 -4,-127 352,-127 352,4 -4,4\"/>\n",
       "<!-- b0 -->\n",
       "<g id=\"node1\" class=\"node\">\n",
       "<title>b0</title>\n",
       "<polygon fill=\"none\" stroke=\"black\" points=\"164,-93 164,-116 214,-116 214,-93 164,-93\"/>\n",
       "<text text-anchor=\"start\" x=\"170.5\" y=\"-102\" font-family=\"Times,serif\" font-size=\"10.00\">ModNeg</text>\n",
       "</g>\n",
       "<!-- b1 -->\n",
       "<g id=\"node2\" class=\"node\">\n",
       "<title>b1</title>\n",
       "<polygon fill=\"none\" stroke=\"black\" points=\"8,-6 8,-29 58,-29 58,-6 8,-6\"/>\n",
       "<text text-anchor=\"start\" x=\"14.5\" y=\"-15\" font-family=\"Times,serif\" font-size=\"10.00\">C[32][X]</text>\n",
       "</g>\n",
       "<!-- b0&#45;&gt;b1 -->\n",
       "<g id=\"edge1\" class=\"edge\">\n",
       "<title>b0-&gt;b1</title>\n",
       "<path fill=\"none\" stroke=\"black\" d=\"M157.43,-86.8C133.14,-73.56 99.4,-55.18 73.19,-40.9\"/>\n",
       "<polygon fill=\"black\" stroke=\"black\" points=\"74.71,-37.74 64.26,-36.03 71.36,-43.89 74.71,-37.74\"/>\n",
       "<text text-anchor=\"middle\" x=\"124.5\" y=\"-57.8\" font-family=\"Times,serif\" font-size=\"14.00\">2</text>\n",
       "</g>\n",
       "<!-- b2 -->\n",
       "<g id=\"node3\" class=\"node\">\n",
       "<title>b2</title>\n",
       "<polygon fill=\"none\" stroke=\"black\" points=\"92,-6 92,-29 182,-29 182,-6 92,-6\"/>\n",
       "<text text-anchor=\"start\" x=\"98.5\" y=\"-15\" font-family=\"Times,serif\" font-size=\"10.00\">MultiTargetCNOT</text>\n",
       "</g>\n",
       "<!-- b0&#45;&gt;b2 -->\n",
       "<g id=\"edge2\" class=\"edge\">\n",
       "<title>b0-&gt;b2</title>\n",
       "<path fill=\"none\" stroke=\"black\" d=\"M178.48,-86.8C171.15,-74.82 161.24,-58.62 152.94,-45.06\"/>\n",
       "<polygon fill=\"black\" stroke=\"black\" points=\"155.71,-42.88 147.51,-36.18 149.74,-46.53 155.71,-42.88\"/>\n",
       "<text text-anchor=\"middle\" x=\"170.5\" y=\"-57.8\" font-family=\"Times,serif\" font-size=\"14.00\">1</text>\n",
       "</g>\n",
       "<!-- b3 -->\n",
       "<g id=\"node4\" class=\"node\">\n",
       "<title>b3</title>\n",
       "<polygon fill=\"none\" stroke=\"black\" points=\"216,-6 216,-29 268,-29 268,-6 216,-6\"/>\n",
       "<text text-anchor=\"start\" x=\"222.5\" y=\"-15\" font-family=\"Times,serif\" font-size=\"10.00\">C[AddK]</text>\n",
       "</g>\n",
       "<!-- b0&#45;&gt;b3 -->\n",
       "<g id=\"edge3\" class=\"edge\">\n",
       "<title>b0-&gt;b3</title>\n",
       "<path fill=\"none\" stroke=\"black\" d=\"M199.73,-86.8C207.27,-74.7 217.49,-58.3 226,-44.67\"/>\n",
       "<polygon fill=\"black\" stroke=\"black\" points=\"228.97,-46.51 231.29,-36.18 223.03,-42.81 228.97,-46.51\"/>\n",
       "<text text-anchor=\"middle\" x=\"222.5\" y=\"-57.8\" font-family=\"Times,serif\" font-size=\"14.00\">1</text>\n",
       "</g>\n",
       "<!-- b4 -->\n",
       "<g id=\"node5\" class=\"node\">\n",
       "<title>b4</title>\n",
       "<polygon fill=\"none\" stroke=\"black\" points=\"311,-6 311,-29 331,-29 331,-6 311,-6\"/>\n",
       "<text text-anchor=\"start\" x=\"317\" y=\"-15\" font-family=\"Times,serif\" font-size=\"10.00\">X</text>\n",
       "</g>\n",
       "<!-- b0&#45;&gt;b4 -->\n",
       "<g id=\"edge4\" class=\"edge\">\n",
       "<title>b0-&gt;b4</title>\n",
       "<path fill=\"none\" stroke=\"black\" d=\"M215.71,-86.8C235.93,-73.78 263.88,-55.78 285.9,-41.6\"/>\n",
       "<polygon fill=\"black\" stroke=\"black\" points=\"287.81,-44.53 294.33,-36.18 284.02,-38.65 287.81,-44.53\"/>\n",
       "<text text-anchor=\"middle\" x=\"265.5\" y=\"-57.8\" font-family=\"Times,serif\" font-size=\"14.00\">2</text>\n",
       "</g>\n",
       "</g>\n",
       "</svg>"
      ],
      "text/plain": [
       "<IPython.core.display.SVG object>"
      ]
     },
     "metadata": {},
     "output_type": "display_data"
    },
    {
     "data": {
      "text/markdown": [
       "#### Counts totals:\n",
       " - `C[32][X]`: 2\n",
       " - `C[AddK]`: 1\n",
       " - `MultiTargetCNOT`: 1\n",
       " - `X`: 2"
      ],
      "text/plain": [
       "<IPython.core.display.Markdown object>"
      ]
     },
     "metadata": {},
     "output_type": "display_data"
    }
   ],
   "source": [
    "from qualtran.resource_counting.generalizers import ignore_split_join\n",
    "mod_neg_g, mod_neg_sigma = mod_neg.call_graph(max_depth=1, generalizer=ignore_split_join)\n",
    "show_call_graph(mod_neg_g)\n",
    "show_counts_sigma(mod_neg_sigma)"
   ]
  },
  {
   "cell_type": "markdown",
   "id": "4dded926",
   "metadata": {
    "cq.autogen": "CModNeg.bloq_doc.md"
   },
   "source": [
    "## `CModNeg`\n",
    "Performs controlled modular negation.\n",
    "\n",
    "Applies the operation $\\ket{c}\\ket{x} \\rightarrow \\ket{c}\\ket{(-1)^c x\\%p}$\n",
    "\n",
    "Note: while this matches the count from Fig 8, it's a different decomposition that controls\n",
    "only the Add operation instead of turning the CNOTs into toffolis.\n",
    "\n",
    "#### Parameters\n",
    " - `dtype`: Datatype of the register.\n",
    " - `p`: The modulus for the negation.\n",
    " - `cv`: value at which the gate is active. \n",
    "\n",
    "#### Registers\n",
    " - `ctrl`: Control bit.\n",
    " - `x`: The register contraining the integer we negate. \n",
    "\n",
    "#### References\n",
    " - [How to compute a 256-bit elliptic curve private key with only 50 million Toffoli gates](https://arxiv.org/abs/2306.08585). Fig 6b and 8\n"
   ]
  },
  {
   "cell_type": "code",
   "execution_count": 6,
   "id": "5dd057d2",
   "metadata": {
    "cq.autogen": "CModNeg.bloq_doc.py"
   },
   "outputs": [],
   "source": [
    "from qualtran.bloqs.mod_arithmetic import CModNeg"
   ]
  },
  {
   "cell_type": "markdown",
   "id": "0f082f26",
   "metadata": {
    "cq.autogen": "CModNeg.example_instances.md"
   },
   "source": [
    "### Example Instances"
   ]
  },
  {
   "cell_type": "code",
   "execution_count": 7,
   "id": "a5c3fb4f",
   "metadata": {
    "cq.autogen": "CModNeg.cmod_neg"
   },
   "outputs": [],
   "source": [
    "n = 32\n",
    "prime = sympy.Symbol('p')\n",
    "cmod_neg = CModNeg(QUInt(n), mod=prime)"
   ]
  },
  {
   "cell_type": "markdown",
   "id": "211a2fc0",
   "metadata": {
    "cq.autogen": "CModNeg.graphical_signature.md"
   },
   "source": [
    "#### Graphical Signature"
   ]
  },
  {
   "cell_type": "code",
   "execution_count": 8,
   "id": "ccd14293",
   "metadata": {
    "cq.autogen": "CModNeg.graphical_signature.py"
   },
   "outputs": [
    {
     "data": {
      "application/vnd.jupyter.widget-view+json": {
       "model_id": "e1b12a574bdb44a1aa16a8f88a9e70bc",
       "version_major": 2,
       "version_minor": 0
      },
      "text/plain": [
       "HBox(children=(Output(outputs=({'output_type': 'display_data', 'data': {'text/plain': '<IPython.core.display.M…"
      ]
     },
     "metadata": {},
     "output_type": "display_data"
    }
   ],
   "source": [
    "from qualtran.drawing import show_bloqs\n",
    "show_bloqs([cmod_neg],\n",
    "           ['`cmod_neg`'])"
   ]
  },
  {
   "cell_type": "markdown",
   "id": "29fa3263",
   "metadata": {
    "cq.autogen": "CModNeg.call_graph.md"
   },
   "source": [
    "### Call Graph"
   ]
  },
  {
   "cell_type": "code",
   "execution_count": 9,
   "id": "b0f0b7ea",
   "metadata": {
    "cq.autogen": "CModNeg.call_graph.py"
   },
   "outputs": [
    {
     "data": {
      "image/svg+xml": [
       "<svg xmlns=\"http://www.w3.org/2000/svg\" xmlns:xlink=\"http://www.w3.org/1999/xlink\" width=\"492pt\" height=\"131pt\" viewBox=\"0.00 0.00 492.00 131.00\">\n",
       "<g id=\"graph0\" class=\"graph\" transform=\"scale(1 1) rotate(0) translate(4 127)\">\n",
       "<title>counts</title>\n",
       "<polygon fill=\"white\" stroke=\"transparent\" points=\"-4,4 -4,-127 488,-127 488,4 -4,4\"/>\n",
       "<!-- b0 -->\n",
       "<g id=\"node1\" class=\"node\">\n",
       "<title>b0</title>\n",
       "<polygon fill=\"none\" stroke=\"black\" points=\"196,-93 196,-116 252,-116 252,-93 196,-93\"/>\n",
       "<text text-anchor=\"start\" x=\"202\" y=\"-102\" font-family=\"Times,serif\" font-size=\"10.00\">CModNeg</text>\n",
       "</g>\n",
       "<!-- b1 -->\n",
       "<g id=\"node2\" class=\"node\">\n",
       "<title>b1</title>\n",
       "<polygon fill=\"none\" stroke=\"black\" points=\"8,-6 8,-29 50,-29 50,-6 8,-6\"/>\n",
       "<text text-anchor=\"start\" x=\"14\" y=\"-15\" font-family=\"Times,serif\" font-size=\"10.00\">C^32X</text>\n",
       "</g>\n",
       "<!-- b0&#45;&gt;b1 -->\n",
       "<g id=\"edge1\" class=\"edge\">\n",
       "<title>b0-&gt;b1</title>\n",
       "<path fill=\"none\" stroke=\"black\" d=\"M187.78,-88.46C157.91,-75.61 114.21,-56.73 67.43,-36.17\"/>\n",
       "<polygon fill=\"black\" stroke=\"black\" points=\"68.59,-32.86 58.03,-32.03 65.77,-39.26 68.59,-32.86\"/>\n",
       "<text text-anchor=\"middle\" x=\"144.5\" y=\"-57.8\" font-family=\"Times,serif\" font-size=\"14.00\">2</text>\n",
       "</g>\n",
       "<!-- b2 -->\n",
       "<g id=\"node3\" class=\"node\">\n",
       "<title>b2</title>\n",
       "<polygon fill=\"none\" stroke=\"black\" points=\"87,-6 87,-29 119,-29 119,-6 87,-6\"/>\n",
       "<text text-anchor=\"start\" x=\"93.5\" y=\"-15\" font-family=\"Times,serif\" font-size=\"10.00\">And</text>\n",
       "</g>\n",
       "<!-- b0&#45;&gt;b2 -->\n",
       "<g id=\"edge2\" class=\"edge\">\n",
       "<title>b0-&gt;b2</title>\n",
       "<path fill=\"none\" stroke=\"black\" d=\"M199.51,-86.8C181.15,-73.9 155.81,-56.1 135.71,-41.98\"/>\n",
       "<polygon fill=\"black\" stroke=\"black\" points=\"137.64,-39.06 127.45,-36.18 133.62,-44.79 137.64,-39.06\"/>\n",
       "<text text-anchor=\"middle\" x=\"174.5\" y=\"-57.8\" font-family=\"Times,serif\" font-size=\"14.00\">1</text>\n",
       "</g>\n",
       "<!-- b3 -->\n",
       "<g id=\"node4\" class=\"node\">\n",
       "<title>b3</title>\n",
       "<polygon fill=\"none\" stroke=\"black\" points=\"157,-6 157,-29 193,-29 193,-6 157,-6\"/>\n",
       "<text text-anchor=\"start\" x=\"163\" y=\"-15\" font-family=\"Times,serif\" font-size=\"10.00\">And†</text>\n",
       "</g>\n",
       "<!-- b0&#45;&gt;b3 -->\n",
       "<g id=\"edge3\" class=\"edge\">\n",
       "<title>b0-&gt;b3</title>\n",
       "<path fill=\"none\" stroke=\"black\" d=\"M214.08,-86.8C207.18,-74.82 197.84,-58.62 190.02,-45.06\"/>\n",
       "<polygon fill=\"black\" stroke=\"black\" points=\"192.93,-43.09 184.9,-36.18 186.86,-46.59 192.93,-43.09\"/>\n",
       "<text text-anchor=\"middle\" x=\"206.5\" y=\"-57.8\" font-family=\"Times,serif\" font-size=\"14.00\">1</text>\n",
       "</g>\n",
       "<!-- b4 -->\n",
       "<g id=\"node5\" class=\"node\">\n",
       "<title>b4</title>\n",
       "<polygon fill=\"none\" stroke=\"black\" points=\"228,-6 228,-29 318,-29 318,-6 228,-6\"/>\n",
       "<text text-anchor=\"start\" x=\"234.5\" y=\"-15\" font-family=\"Times,serif\" font-size=\"10.00\">MultiTargetCNOT</text>\n",
       "</g>\n",
       "<!-- b0&#45;&gt;b4 -->\n",
       "<g id=\"edge4\" class=\"edge\">\n",
       "<title>b0-&gt;b4</title>\n",
       "<path fill=\"none\" stroke=\"black\" d=\"M233.92,-86.8C240.82,-74.82 250.16,-58.62 257.98,-45.06\"/>\n",
       "<polygon fill=\"black\" stroke=\"black\" points=\"261.14,-46.59 263.1,-36.18 255.07,-43.09 261.14,-46.59\"/>\n",
       "<text text-anchor=\"middle\" x=\"255.5\" y=\"-57.8\" font-family=\"Times,serif\" font-size=\"14.00\">1</text>\n",
       "</g>\n",
       "<!-- b5 -->\n",
       "<g id=\"node6\" class=\"node\">\n",
       "<title>b5</title>\n",
       "<polygon fill=\"none\" stroke=\"black\" points=\"352,-6 352,-29 404,-29 404,-6 352,-6\"/>\n",
       "<text text-anchor=\"start\" x=\"358.5\" y=\"-15\" font-family=\"Times,serif\" font-size=\"10.00\">C[AddK]</text>\n",
       "</g>\n",
       "<!-- b0&#45;&gt;b5 -->\n",
       "<g id=\"edge5\" class=\"edge\">\n",
       "<title>b0-&gt;b5</title>\n",
       "<path fill=\"none\" stroke=\"black\" d=\"M255.16,-86.8C279.14,-73.56 312.45,-55.18 338.33,-40.9\"/>\n",
       "<polygon fill=\"black\" stroke=\"black\" points=\"340.08,-43.93 347.15,-36.03 336.7,-37.8 340.08,-43.93\"/>\n",
       "<text text-anchor=\"middle\" x=\"313.5\" y=\"-57.8\" font-family=\"Times,serif\" font-size=\"14.00\">1</text>\n",
       "</g>\n",
       "<!-- b6 -->\n",
       "<g id=\"node7\" class=\"node\">\n",
       "<title>b6</title>\n",
       "<polygon fill=\"none\" stroke=\"black\" points=\"447,-6 447,-29 467,-29 467,-6 447,-6\"/>\n",
       "<text text-anchor=\"start\" x=\"453\" y=\"-15\" font-family=\"Times,serif\" font-size=\"10.00\">X</text>\n",
       "</g>\n",
       "<!-- b0&#45;&gt;b6 -->\n",
       "<g id=\"edge6\" class=\"edge\">\n",
       "<title>b0-&gt;b6</title>\n",
       "<path fill=\"none\" stroke=\"black\" d=\"M260.02,-92.87C297.91,-80.87 359.34,-60.62 420.25,-36.11\"/>\n",
       "<polygon fill=\"black\" stroke=\"black\" points=\"421.67,-39.31 429.62,-32.31 419.04,-32.83 421.67,-39.31\"/>\n",
       "<text text-anchor=\"middle\" x=\"376.5\" y=\"-57.8\" font-family=\"Times,serif\" font-size=\"14.00\">2</text>\n",
       "</g>\n",
       "</g>\n",
       "</svg>"
      ],
      "text/plain": [
       "<IPython.core.display.SVG object>"
      ]
     },
     "metadata": {},
     "output_type": "display_data"
    },
    {
     "data": {
      "text/markdown": [
       "#### Counts totals:\n",
       " - `And`: 1\n",
       " - `And†`: 1\n",
       " - `C[AddK]`: 1\n",
       " - `C^32X`: 2\n",
       " - `MultiTargetCNOT`: 1\n",
       " - `X`: 2"
      ],
      "text/plain": [
       "<IPython.core.display.Markdown object>"
      ]
     },
     "metadata": {},
     "output_type": "display_data"
    }
   ],
   "source": [
    "from qualtran.resource_counting.generalizers import ignore_split_join\n",
    "cmod_neg_g, cmod_neg_sigma = cmod_neg.call_graph(max_depth=1, generalizer=ignore_split_join)\n",
    "show_call_graph(cmod_neg_g)\n",
    "show_counts_sigma(cmod_neg_sigma)"
   ]
  },
  {
   "cell_type": "markdown",
   "id": "14a3fbc6",
   "metadata": {
    "cq.autogen": "ModSub.bloq_doc.md"
   },
   "source": [
    "## `ModSub`\n",
    "Performs modular subtraction.\n",
    "\n",
    "Applies the operation $\\ket{x} \\ket{y} \\rightarrow \\ket{x} \\ket{y-x \\% p}$\n",
    "\n",
    "#### Parameters\n",
    " - `dtype`: Datatype of the register.\n",
    " - `p`: The modulus for the negation. \n",
    "\n",
    "#### Registers\n",
    " - `x`: The register contraining the first integer.\n",
    " - `y`: The register contraining the second integer. \n",
    "\n",
    "#### References\n",
    " - [How to compute a 256-bit elliptic curve private key with only 50 million Toffoli gates](https://arxiv.org/abs/2306.08585). Fig 6c and 8\n"
   ]
  },
  {
   "cell_type": "code",
   "execution_count": 10,
   "id": "a073f504",
   "metadata": {
    "cq.autogen": "ModSub.bloq_doc.py"
   },
   "outputs": [],
   "source": [
    "from qualtran.bloqs.mod_arithmetic import ModSub"
   ]
  },
  {
   "cell_type": "markdown",
   "id": "1820700b",
   "metadata": {
    "cq.autogen": "ModSub.example_instances.md"
   },
   "source": [
    "### Example Instances"
   ]
  },
  {
   "cell_type": "code",
   "execution_count": 11,
   "id": "0e42061f",
   "metadata": {
    "cq.autogen": "ModSub.modsub_symb"
   },
   "outputs": [],
   "source": [
    "n, p = sympy.symbols('n p')\n",
    "modsub_symb = ModSub(QUInt(n), p)"
   ]
  },
  {
   "cell_type": "markdown",
   "id": "e61d3cf3",
   "metadata": {
    "cq.autogen": "ModSub.graphical_signature.md"
   },
   "source": [
    "#### Graphical Signature"
   ]
  },
  {
   "cell_type": "code",
   "execution_count": 12,
   "id": "d5f8d669",
   "metadata": {
    "cq.autogen": "ModSub.graphical_signature.py"
   },
   "outputs": [
    {
     "data": {
      "application/vnd.jupyter.widget-view+json": {
       "model_id": "69c7b91cb8c14a79a54edd67d7a63a06",
       "version_major": 2,
       "version_minor": 0
      },
      "text/plain": [
       "HBox(children=(Output(outputs=({'output_type': 'display_data', 'data': {'text/plain': '<IPython.core.display.M…"
      ]
     },
     "metadata": {},
     "output_type": "display_data"
    }
   ],
   "source": [
    "from qualtran.drawing import show_bloqs\n",
    "show_bloqs([modsub_symb],\n",
    "           ['`modsub_symb`'])"
   ]
  },
  {
   "cell_type": "markdown",
   "id": "ac2ff24b",
   "metadata": {
    "cq.autogen": "ModSub.call_graph.md"
   },
   "source": [
    "### Call Graph"
   ]
  },
  {
   "cell_type": "code",
   "execution_count": 13,
   "id": "17efb6be",
   "metadata": {
    "cq.autogen": "ModSub.call_graph.py"
   },
   "outputs": [
    {
     "data": {
      "image/svg+xml": [
       "<svg xmlns=\"http://www.w3.org/2000/svg\" xmlns:xlink=\"http://www.w3.org/1999/xlink\" width=\"318pt\" height=\"131pt\" viewBox=\"0.00 0.00 318.00 131.00\">\n",
       "<g id=\"graph0\" class=\"graph\" transform=\"scale(1 1) rotate(0) translate(4 127)\">\n",
       "<title>counts</title>\n",
       "<polygon fill=\"white\" stroke=\"transparent\" points=\"-4,4 -4,-127 314,-127 314,4 -4,4\"/>\n",
       "<!-- b0 -->\n",
       "<g id=\"node1\" class=\"node\">\n",
       "<title>b0</title>\n",
       "<polygon fill=\"none\" stroke=\"black\" points=\"134,-93 134,-116 182,-116 182,-93 134,-93\"/>\n",
       "<text text-anchor=\"start\" x=\"140\" y=\"-102\" font-family=\"Times,serif\" font-size=\"10.00\">ModSub</text>\n",
       "</g>\n",
       "<!-- b1 -->\n",
       "<g id=\"node2\" class=\"node\">\n",
       "<title>b1</title>\n",
       "<polygon fill=\"none\" stroke=\"black\" points=\"8,-6 8,-29 68,-29 68,-6 8,-6\"/>\n",
       "<text text-anchor=\"start\" x=\"14\" y=\"-15\" font-family=\"Times,serif\" font-size=\"10.00\">BitwiseNot</text>\n",
       "</g>\n",
       "<!-- b0&#45;&gt;b1 -->\n",
       "<g id=\"edge1\" class=\"edge\">\n",
       "<title>b0-&gt;b1</title>\n",
       "<path fill=\"none\" stroke=\"black\" d=\"M133.72,-86.8C115.5,-73.9 90.38,-56.1 70.44,-41.98\"/>\n",
       "<polygon fill=\"black\" stroke=\"black\" points=\"72.43,-39.1 62.25,-36.18 68.38,-44.81 72.43,-39.1\"/>\n",
       "<text text-anchor=\"middle\" x=\"109.5\" y=\"-57.8\" font-family=\"Times,serif\" font-size=\"14.00\">2</text>\n",
       "</g>\n",
       "<!-- b2 -->\n",
       "<g id=\"node3\" class=\"node\">\n",
       "<title>b2</title>\n",
       "<polygon fill=\"none\" stroke=\"black\" points=\"102,-6 102,-29 140,-29 140,-6 102,-6\"/>\n",
       "<text text-anchor=\"start\" x=\"108\" y=\"-15\" font-family=\"Times,serif\" font-size=\"10.00\">AddK</text>\n",
       "</g>\n",
       "<!-- b0&#45;&gt;b2 -->\n",
       "<g id=\"edge2\" class=\"edge\">\n",
       "<title>b0-&gt;b2</title>\n",
       "<path fill=\"none\" stroke=\"black\" d=\"M150.51,-86.8C145.35,-74.93 138.38,-58.93 132.51,-45.45\"/>\n",
       "<polygon fill=\"black\" stroke=\"black\" points=\"135.68,-43.95 128.48,-36.18 129.26,-46.74 135.68,-43.95\"/>\n",
       "<text text-anchor=\"middle\" x=\"145.5\" y=\"-57.8\" font-family=\"Times,serif\" font-size=\"14.00\">1</text>\n",
       "</g>\n",
       "<!-- b3 -->\n",
       "<g id=\"node4\" class=\"node\">\n",
       "<title>b3</title>\n",
       "<polygon fill=\"none\" stroke=\"black\" points=\"174,-6 174,-29 218,-29 218,-6 174,-6\"/>\n",
       "<text text-anchor=\"start\" x=\"180.5\" y=\"-15\" font-family=\"Times,serif\" font-size=\"10.00\">AddK†</text>\n",
       "</g>\n",
       "<!-- b0&#45;&gt;b3 -->\n",
       "<g id=\"edge3\" class=\"edge\">\n",
       "<title>b0-&gt;b3</title>\n",
       "<path fill=\"none\" stroke=\"black\" d=\"M165.69,-86.8C171,-74.93 178.15,-58.93 184.18,-45.45\"/>\n",
       "<polygon fill=\"black\" stroke=\"black\" points=\"187.44,-46.73 188.32,-36.18 181.04,-43.88 187.44,-46.73\"/>\n",
       "<text text-anchor=\"middle\" x=\"183.5\" y=\"-57.8\" font-family=\"Times,serif\" font-size=\"14.00\">1</text>\n",
       "</g>\n",
       "<!-- b4 -->\n",
       "<g id=\"node5\" class=\"node\">\n",
       "<title>b4</title>\n",
       "<polygon fill=\"none\" stroke=\"black\" points=\"252,-6 252,-29 302,-29 302,-6 252,-6\"/>\n",
       "<text text-anchor=\"start\" x=\"258\" y=\"-15\" font-family=\"Times,serif\" font-size=\"10.00\">ModAdd</text>\n",
       "</g>\n",
       "<!-- b0&#45;&gt;b4 -->\n",
       "<g id=\"edge4\" class=\"edge\">\n",
       "<title>b0-&gt;b4</title>\n",
       "<path fill=\"none\" stroke=\"black\" d=\"M182.08,-86.8C200.07,-73.95 224.84,-56.26 244.57,-42.17\"/>\n",
       "<polygon fill=\"black\" stroke=\"black\" points=\"246.85,-44.84 252.95,-36.18 242.78,-39.14 246.85,-44.84\"/>\n",
       "<text text-anchor=\"middle\" x=\"227.5\" y=\"-57.8\" font-family=\"Times,serif\" font-size=\"14.00\">1</text>\n",
       "</g>\n",
       "</g>\n",
       "</svg>"
      ],
      "text/plain": [
       "<IPython.core.display.SVG object>"
      ]
     },
     "metadata": {},
     "output_type": "display_data"
    },
    {
     "data": {
      "text/markdown": [
       "#### Counts totals:\n",
       " - `AddK`: 1\n",
       " - `AddK†`: 1\n",
       " - `BitwiseNot`: 2\n",
       " - `ModAdd`: 1"
      ],
      "text/plain": [
       "<IPython.core.display.Markdown object>"
      ]
     },
     "metadata": {},
     "output_type": "display_data"
    }
   ],
   "source": [
    "from qualtran.resource_counting.generalizers import ignore_split_join\n",
    "modsub_symb_g, modsub_symb_sigma = modsub_symb.call_graph(max_depth=1, generalizer=ignore_split_join)\n",
    "show_call_graph(modsub_symb_g)\n",
    "show_counts_sigma(modsub_symb_sigma)"
   ]
  },
  {
   "cell_type": "markdown",
   "id": "e2ca65c8",
   "metadata": {
    "cq.autogen": "CModSub.bloq_doc.md"
   },
   "source": [
    "## `CModSub`\n",
    "Performs controlled modular subtraction.\n",
    "\n",
    "Applies the operation $\\ket{c}\\ket{x} \\ket{y} \\rightarrow \\ket{c}\\ket{x} \\ket{y-cx \\% p}$\n",
    "\n",
    "#### Parameters\n",
    " - `dtype`: Datatype of the register.\n",
    " - `p`: The modulus for the negation.\n",
    " - `cv`: value at which the bloq is active. \n",
    "\n",
    "#### Registers\n",
    " - `ctrl`: control register.\n",
    " - `x`: The register contraining the first integer.\n",
    " - `y`: The register contraining the second integer. \n",
    "\n",
    "#### References\n",
    " - [How to compute a 256-bit elliptic curve private key with only 50 million Toffoli gates](https://arxiv.org/abs/2306.08585). Fig 6c and 8\n"
   ]
  },
  {
   "cell_type": "code",
   "execution_count": 14,
   "id": "f3075f45",
   "metadata": {
    "cq.autogen": "CModSub.bloq_doc.py"
   },
   "outputs": [],
   "source": [
    "from qualtran.bloqs.mod_arithmetic import CModSub"
   ]
  },
  {
   "cell_type": "markdown",
   "id": "5413f37d",
   "metadata": {
    "cq.autogen": "CModSub.example_instances.md"
   },
   "source": [
    "### Example Instances"
   ]
  },
  {
   "cell_type": "code",
   "execution_count": 15,
   "id": "1d257167",
   "metadata": {
    "cq.autogen": "CModSub.cmodsub_symb"
   },
   "outputs": [],
   "source": [
    "n, p = sympy.symbols('n p')\n",
    "cmodsub_symb = CModSub(QUInt(n), p)"
   ]
  },
  {
   "cell_type": "markdown",
   "id": "83c7dc30",
   "metadata": {
    "cq.autogen": "CModSub.graphical_signature.md"
   },
   "source": [
    "#### Graphical Signature"
   ]
  },
  {
   "cell_type": "code",
   "execution_count": 16,
   "id": "d08073ac",
   "metadata": {
    "cq.autogen": "CModSub.graphical_signature.py"
   },
   "outputs": [
    {
     "data": {
      "application/vnd.jupyter.widget-view+json": {
       "model_id": "ce1bd5afc606400dba2ef02c65512bdd",
       "version_major": 2,
       "version_minor": 0
      },
      "text/plain": [
       "HBox(children=(Output(outputs=({'output_type': 'display_data', 'data': {'text/plain': '<IPython.core.display.M…"
      ]
     },
     "metadata": {},
     "output_type": "display_data"
    }
   ],
   "source": [
    "from qualtran.drawing import show_bloqs\n",
    "show_bloqs([cmodsub_symb],\n",
    "           ['`cmodsub_symb`'])"
   ]
  },
  {
   "cell_type": "markdown",
   "id": "b4e6b051",
   "metadata": {
    "cq.autogen": "CModSub.call_graph.md"
   },
   "source": [
    "### Call Graph"
   ]
  },
  {
   "cell_type": "code",
   "execution_count": 17,
   "id": "53f671dd",
   "metadata": {
    "cq.autogen": "CModSub.call_graph.py"
   },
   "outputs": [
    {
     "data": {
      "image/svg+xml": [
       "<svg xmlns=\"http://www.w3.org/2000/svg\" xmlns:xlink=\"http://www.w3.org/1999/xlink\" width=\"326pt\" height=\"131pt\" viewBox=\"0.00 0.00 326.00 131.00\">\n",
       "<g id=\"graph0\" class=\"graph\" transform=\"scale(1 1) rotate(0) translate(4 127)\">\n",
       "<title>counts</title>\n",
       "<polygon fill=\"white\" stroke=\"transparent\" points=\"-4,4 -4,-127 322,-127 322,4 -4,4\"/>\n",
       "<!-- b0 -->\n",
       "<g id=\"node1\" class=\"node\">\n",
       "<title>b0</title>\n",
       "<polygon fill=\"none\" stroke=\"black\" points=\"130,-93 130,-116 186,-116 186,-93 130,-93\"/>\n",
       "<text text-anchor=\"start\" x=\"136.5\" y=\"-102\" font-family=\"Times,serif\" font-size=\"10.00\">CModSub</text>\n",
       "</g>\n",
       "<!-- b1 -->\n",
       "<g id=\"node2\" class=\"node\">\n",
       "<title>b1</title>\n",
       "<polygon fill=\"none\" stroke=\"black\" points=\"8,-6 8,-29 68,-29 68,-6 8,-6\"/>\n",
       "<text text-anchor=\"start\" x=\"14\" y=\"-15\" font-family=\"Times,serif\" font-size=\"10.00\">BitwiseNot</text>\n",
       "</g>\n",
       "<!-- b0&#45;&gt;b1 -->\n",
       "<g id=\"edge1\" class=\"edge\">\n",
       "<title>b0-&gt;b1</title>\n",
       "<path fill=\"none\" stroke=\"black\" d=\"M133.72,-86.8C115.5,-73.9 90.38,-56.1 70.44,-41.98\"/>\n",
       "<polygon fill=\"black\" stroke=\"black\" points=\"72.43,-39.1 62.25,-36.18 68.38,-44.81 72.43,-39.1\"/>\n",
       "<text text-anchor=\"middle\" x=\"109.5\" y=\"-57.8\" font-family=\"Times,serif\" font-size=\"14.00\">2</text>\n",
       "</g>\n",
       "<!-- b2 -->\n",
       "<g id=\"node3\" class=\"node\">\n",
       "<title>b2</title>\n",
       "<polygon fill=\"none\" stroke=\"black\" points=\"102,-6 102,-29 140,-29 140,-6 102,-6\"/>\n",
       "<text text-anchor=\"start\" x=\"108\" y=\"-15\" font-family=\"Times,serif\" font-size=\"10.00\">AddK</text>\n",
       "</g>\n",
       "<!-- b0&#45;&gt;b2 -->\n",
       "<g id=\"edge2\" class=\"edge\">\n",
       "<title>b0-&gt;b2</title>\n",
       "<path fill=\"none\" stroke=\"black\" d=\"M150.51,-86.8C145.35,-74.93 138.38,-58.93 132.51,-45.45\"/>\n",
       "<polygon fill=\"black\" stroke=\"black\" points=\"135.68,-43.95 128.48,-36.18 129.26,-46.74 135.68,-43.95\"/>\n",
       "<text text-anchor=\"middle\" x=\"145.5\" y=\"-57.8\" font-family=\"Times,serif\" font-size=\"14.00\">1</text>\n",
       "</g>\n",
       "<!-- b3 -->\n",
       "<g id=\"node4\" class=\"node\">\n",
       "<title>b3</title>\n",
       "<polygon fill=\"none\" stroke=\"black\" points=\"174,-6 174,-29 218,-29 218,-6 174,-6\"/>\n",
       "<text text-anchor=\"start\" x=\"180.5\" y=\"-15\" font-family=\"Times,serif\" font-size=\"10.00\">AddK†</text>\n",
       "</g>\n",
       "<!-- b0&#45;&gt;b3 -->\n",
       "<g id=\"edge3\" class=\"edge\">\n",
       "<title>b0-&gt;b3</title>\n",
       "<path fill=\"none\" stroke=\"black\" d=\"M165.69,-86.8C171,-74.93 178.15,-58.93 184.18,-45.45\"/>\n",
       "<polygon fill=\"black\" stroke=\"black\" points=\"187.44,-46.73 188.32,-36.18 181.04,-43.88 187.44,-46.73\"/>\n",
       "<text text-anchor=\"middle\" x=\"183.5\" y=\"-57.8\" font-family=\"Times,serif\" font-size=\"14.00\">1</text>\n",
       "</g>\n",
       "<!-- b4 -->\n",
       "<g id=\"node5\" class=\"node\">\n",
       "<title>b4</title>\n",
       "<polygon fill=\"none\" stroke=\"black\" points=\"252,-6 252,-29 310,-29 310,-6 252,-6\"/>\n",
       "<text text-anchor=\"start\" x=\"258.5\" y=\"-15\" font-family=\"Times,serif\" font-size=\"10.00\">CModAdd</text>\n",
       "</g>\n",
       "<!-- b0&#45;&gt;b4 -->\n",
       "<g id=\"edge4\" class=\"edge\">\n",
       "<title>b0-&gt;b4</title>\n",
       "<path fill=\"none\" stroke=\"black\" d=\"M182.89,-86.8C201.56,-73.9 227.31,-56.1 247.75,-41.98\"/>\n",
       "<polygon fill=\"black\" stroke=\"black\" points=\"249.91,-44.74 256.15,-36.18 245.93,-38.98 249.91,-44.74\"/>\n",
       "<text text-anchor=\"middle\" x=\"229.5\" y=\"-57.8\" font-family=\"Times,serif\" font-size=\"14.00\">1</text>\n",
       "</g>\n",
       "</g>\n",
       "</svg>"
      ],
      "text/plain": [
       "<IPython.core.display.SVG object>"
      ]
     },
     "metadata": {},
     "output_type": "display_data"
    },
    {
     "data": {
      "text/markdown": [
       "#### Counts totals:\n",
       " - `AddK`: 1\n",
       " - `AddK†`: 1\n",
       " - `BitwiseNot`: 2\n",
       " - `CModAdd`: 1"
      ],
      "text/plain": [
       "<IPython.core.display.Markdown object>"
      ]
     },
     "metadata": {},
     "output_type": "display_data"
    }
   ],
   "source": [
    "from qualtran.resource_counting.generalizers import ignore_split_join\n",
    "cmodsub_symb_g, cmodsub_symb_sigma = cmodsub_symb.call_graph(max_depth=1, generalizer=ignore_split_join)\n",
    "show_call_graph(cmodsub_symb_g)\n",
    "show_counts_sigma(cmodsub_symb_sigma)"
   ]
  }
 ],
 "metadata": {
  "kernelspec": {
   "display_name": "Python 3",
   "language": "python",
   "name": "python3"
  },
  "language_info": {
   "codemirror_mode": {
    "name": "ipython",
    "version": 3
   },
   "file_extension": ".py",
   "mimetype": "text/x-python",
   "name": "python",
   "nbconvert_exporter": "python",
   "pygments_lexer": "ipython3",
   "version": "3.11.8"
  },
  "widgets": {
   "application/vnd.jupyter.widget-state+json": {
    "state": {
     "03ec0e63b6084098abce364fcbf11e1a": {
      "model_module": "@jupyter-widgets/base",
      "model_module_version": "2.0.0",
      "model_name": "LayoutModel",
      "state": {
       "_model_module": "@jupyter-widgets/base",
       "_model_module_version": "2.0.0",
       "_model_name": "LayoutModel",
       "_view_count": null,
       "_view_module": "@jupyter-widgets/base",
       "_view_module_version": "2.0.0",
       "_view_name": "LayoutView",
       "align_content": null,
       "align_items": null,
       "align_self": null,
       "border_bottom": null,
       "border_left": null,
       "border_right": null,
       "border_top": null,
       "bottom": null,
       "display": null,
       "flex": null,
       "flex_flow": null,
       "grid_area": null,
       "grid_auto_columns": null,
       "grid_auto_flow": null,
       "grid_auto_rows": null,
       "grid_column": null,
       "grid_gap": null,
       "grid_row": null,
       "grid_template_areas": null,
       "grid_template_columns": null,
       "grid_template_rows": null,
       "height": null,
       "justify_content": null,
       "justify_items": null,
       "left": null,
       "margin": null,
       "max_height": null,
       "max_width": null,
       "min_height": null,
       "min_width": null,
       "object_fit": null,
       "object_position": null,
       "order": null,
       "overflow": null,
       "padding": null,
       "right": null,
       "top": null,
       "visibility": null,
       "width": null
      }
     },
     "11bb17b251204c6f829d82198e206ba7": {
      "model_module": "@jupyter-widgets/base",
      "model_module_version": "2.0.0",
      "model_name": "LayoutModel",
      "state": {
       "_model_module": "@jupyter-widgets/base",
       "_model_module_version": "2.0.0",
       "_model_name": "LayoutModel",
       "_view_count": null,
       "_view_module": "@jupyter-widgets/base",
       "_view_module_version": "2.0.0",
       "_view_name": "LayoutView",
       "align_content": null,
       "align_items": null,
       "align_self": null,
       "border_bottom": null,
       "border_left": null,
       "border_right": null,
       "border_top": null,
       "bottom": null,
       "display": null,
       "flex": null,
       "flex_flow": null,
       "grid_area": null,
       "grid_auto_columns": null,
       "grid_auto_flow": null,
       "grid_auto_rows": null,
       "grid_column": null,
       "grid_gap": null,
       "grid_row": null,
       "grid_template_areas": null,
       "grid_template_columns": null,
       "grid_template_rows": null,
       "height": null,
       "justify_content": null,
       "justify_items": null,
       "left": null,
       "margin": null,
       "max_height": null,
       "max_width": null,
       "min_height": null,
       "min_width": null,
       "object_fit": null,
       "object_position": null,
       "order": null,
       "overflow": null,
       "padding": null,
       "right": null,
       "top": null,
       "visibility": null,
       "width": null
      }
     },
     "15c29925d5004e5db7a114c9c5e2ac40": {
      "model_module": "@jupyter-widgets/base",
      "model_module_version": "2.0.0",
      "model_name": "LayoutModel",
      "state": {
       "_model_module": "@jupyter-widgets/base",
       "_model_module_version": "2.0.0",
       "_model_name": "LayoutModel",
       "_view_count": null,
       "_view_module": "@jupyter-widgets/base",
       "_view_module_version": "2.0.0",
       "_view_name": "LayoutView",
       "align_content": null,
       "align_items": null,
       "align_self": null,
       "border_bottom": null,
       "border_left": null,
       "border_right": null,
       "border_top": null,
       "bottom": null,
       "display": null,
       "flex": null,
       "flex_flow": null,
       "grid_area": null,
       "grid_auto_columns": null,
       "grid_auto_flow": null,
       "grid_auto_rows": null,
       "grid_column": null,
       "grid_gap": null,
       "grid_row": null,
       "grid_template_areas": null,
       "grid_template_columns": null,
       "grid_template_rows": null,
       "height": null,
       "justify_content": null,
       "justify_items": null,
       "left": null,
       "margin": null,
       "max_height": null,
       "max_width": null,
       "min_height": null,
       "min_width": null,
       "object_fit": null,
       "object_position": null,
       "order": null,
       "overflow": null,
       "padding": null,
       "right": null,
       "top": null,
       "visibility": null,
       "width": null
      }
     },
     "197617b4a57741259a8823d02f564339": {
      "model_module": "@jupyter-widgets/base",
      "model_module_version": "2.0.0",
      "model_name": "LayoutModel",
      "state": {
       "_model_module": "@jupyter-widgets/base",
       "_model_module_version": "2.0.0",
       "_model_name": "LayoutModel",
       "_view_count": null,
       "_view_module": "@jupyter-widgets/base",
       "_view_module_version": "2.0.0",
       "_view_name": "LayoutView",
       "align_content": null,
       "align_items": null,
       "align_self": null,
       "border_bottom": null,
       "border_left": null,
       "border_right": null,
       "border_top": null,
       "bottom": null,
       "display": null,
       "flex": null,
       "flex_flow": null,
       "grid_area": null,
       "grid_auto_columns": null,
       "grid_auto_flow": null,
       "grid_auto_rows": null,
       "grid_column": null,
       "grid_gap": null,
       "grid_row": null,
       "grid_template_areas": null,
       "grid_template_columns": null,
       "grid_template_rows": null,
       "height": null,
       "justify_content": null,
       "justify_items": null,
       "left": null,
       "margin": null,
       "max_height": null,
       "max_width": null,
       "min_height": null,
       "min_width": null,
       "object_fit": null,
       "object_position": null,
       "order": null,
       "overflow": null,
       "padding": null,
       "right": null,
       "top": null,
       "visibility": null,
       "width": null
      }
     },
     "1c0556e5541d42048010ab906cdaa698": {
      "model_module": "@jupyter-widgets/output",
      "model_module_version": "1.0.0",
      "model_name": "OutputModel",
      "state": {
       "_dom_classes": [],
       "_model_module": "@jupyter-widgets/output",
       "_model_module_version": "1.0.0",
       "_model_name": "OutputModel",
       "_view_count": null,
       "_view_module": "@jupyter-widgets/output",
       "_view_module_version": "1.0.0",
       "_view_name": "OutputView",
       "layout": "IPY_MODEL_c27439768feb4384a7f558d8724ed521",
       "msg_id": "",
       "outputs": [
        {
         "data": {
          "text/markdown": "`cmodsub_symb`",
          "text/plain": "<IPython.core.display.Markdown object>"
         },
         "metadata": {},
         "output_type": "display_data"
        },
        {
         "data": {
          "image/svg+xml": "<svg xmlns=\"http://www.w3.org/2000/svg\" xmlns:xlink=\"http://www.w3.org/1999/xlink\" width=\"239pt\" height=\"152pt\" viewBox=\"0.00 0.00 239.00 152.00\">\n<g id=\"graph0\" class=\"graph\" transform=\"scale(1 1) rotate(0) translate(4 148)\">\n<title>my_graph</title>\n<polygon fill=\"white\" stroke=\"transparent\" points=\"-4,4 -4,-148 235,-148 235,4 -4,4\"/>\n<!-- ctrl_G0 -->\n<g id=\"node1\" class=\"node\">\n<title>ctrl_G0</title>\n<text text-anchor=\"middle\" x=\"27\" y=\"-122.3\" font-family=\"Times,serif\" font-size=\"14.00\">ctrl</text>\n</g>\n<!-- CModSub -->\n<g id=\"node4\" class=\"node\">\n<title>CModSub</title>\n<polygon fill=\"none\" stroke=\"black\" points=\"91.5,-104 91.5,-121 140.5,-121 140.5,-104 91.5,-104\"/>\n<text text-anchor=\"start\" x=\"94.5\" y=\"-110\" font-family=\"Times,serif\" font-size=\"10.00\">CModSub</text>\n<polygon fill=\"none\" stroke=\"black\" points=\"91.5,-83 91.5,-104 140.5,-104 140.5,-83 91.5,-83\"/>\n<text text-anchor=\"start\" x=\"106.5\" y=\"-89.8\" font-family=\"Times,serif\" font-size=\"14.00\">ctrl</text>\n<polygon fill=\"none\" stroke=\"black\" points=\"91.5,-62 91.5,-83 140.5,-83 140.5,-62 91.5,-62\"/>\n<text text-anchor=\"start\" x=\"112.5\" y=\"-68.8\" font-family=\"Times,serif\" font-size=\"14.00\">x</text>\n<polygon fill=\"none\" stroke=\"black\" points=\"91.5,-41 91.5,-62 140.5,-62 140.5,-41 91.5,-41\"/>\n<text text-anchor=\"start\" x=\"112.5\" y=\"-47.8\" font-family=\"Times,serif\" font-size=\"14.00\">y</text>\n</g>\n<!-- ctrl_G0&#45;&gt;CModSub -->\n<g id=\"edge1\" class=\"edge\">\n<title>ctrl_G0:e-&gt;CModSub:w</title>\n<path fill=\"none\" stroke=\"black\" d=\"M54,-126C74.89,-126 69.72,-96.45 88.58,-94.14\"/>\n<ellipse fill=\"black\" stroke=\"black\" cx=\"90\" cy=\"-94.06\" rx=\"1\" ry=\"1\"/>\n<text text-anchor=\"middle\" x=\"72.5\" y=\"-113\" font-family=\"Times,serif\" font-size=\"10.00\">1</text>\n</g>\n<!-- x_G6 -->\n<g id=\"node2\" class=\"node\">\n<title>x_G6</title>\n<text text-anchor=\"middle\" x=\"27\" y=\"-68.3\" font-family=\"Times,serif\" font-size=\"14.00\">x</text>\n</g>\n<!-- x_G6&#45;&gt;CModSub -->\n<g id=\"edge2\" class=\"edge\">\n<title>x_G6:e-&gt;CModSub:w</title>\n<path fill=\"none\" stroke=\"black\" d=\"M54,-72C69.67,-72 74.14,-72 88.77,-72\"/>\n<ellipse fill=\"black\" stroke=\"black\" cx=\"90\" cy=\"-72\" rx=\"1\" ry=\"1\"/>\n<text text-anchor=\"middle\" x=\"72.5\" y=\"-75\" font-family=\"Times,serif\" font-size=\"10.00\">n</text>\n</g>\n<!-- y_G1 -->\n<g id=\"node3\" class=\"node\">\n<title>y_G1</title>\n<text text-anchor=\"middle\" x=\"27\" y=\"-14.3\" font-family=\"Times,serif\" font-size=\"14.00\">y</text>\n</g>\n<!-- y_G1&#45;&gt;CModSub -->\n<g id=\"edge3\" class=\"edge\">\n<title>y_G1:e-&gt;CModSub:w</title>\n<path fill=\"none\" stroke=\"black\" d=\"M54,-18C75.17,-18 69.47,-48.47 88.55,-50.85\"/>\n<ellipse fill=\"black\" stroke=\"black\" cx=\"90\" cy=\"-50.94\" rx=\"1\" ry=\"1\"/>\n<text text-anchor=\"middle\" x=\"72.5\" y=\"-39\" font-family=\"Times,serif\" font-size=\"10.00\">n</text>\n</g>\n<!-- ctrl_G4 -->\n<g id=\"node5\" class=\"node\">\n<title>ctrl_G4</title>\n<text text-anchor=\"middle\" x=\"204\" y=\"-122.3\" font-family=\"Times,serif\" font-size=\"14.00\">ctrl</text>\n</g>\n<!-- CModSub&#45;&gt;ctrl_G4 -->\n<g id=\"edge4\" class=\"edge\">\n<title>CModSub:e-&gt;ctrl_G4:w</title>\n<path fill=\"none\" stroke=\"black\" d=\"M140,-94C160.89,-94 155.72,-123.55 174.58,-125.86\"/>\n<ellipse fill=\"black\" stroke=\"black\" cx=\"176\" cy=\"-125.94\" rx=\"1\" ry=\"1\"/>\n<text text-anchor=\"middle\" x=\"158.5\" y=\"-113\" font-family=\"Times,serif\" font-size=\"10.00\">1</text>\n</g>\n<!-- x_G8 -->\n<g id=\"node6\" class=\"node\">\n<title>x_G8</title>\n<text text-anchor=\"middle\" x=\"204\" y=\"-68.3\" font-family=\"Times,serif\" font-size=\"14.00\">x</text>\n</g>\n<!-- CModSub&#45;&gt;x_G8 -->\n<g id=\"edge5\" class=\"edge\">\n<title>CModSub:e-&gt;x_G8:w</title>\n<path fill=\"none\" stroke=\"black\" d=\"M140,-72C155.67,-72 160.14,-72 174.77,-72\"/>\n<ellipse fill=\"black\" stroke=\"black\" cx=\"176\" cy=\"-72\" rx=\"1\" ry=\"1\"/>\n<text text-anchor=\"middle\" x=\"158.5\" y=\"-75\" font-family=\"Times,serif\" font-size=\"10.00\">n</text>\n</g>\n<!-- y_G5 -->\n<g id=\"node7\" class=\"node\">\n<title>y_G5</title>\n<text text-anchor=\"middle\" x=\"204\" y=\"-14.3\" font-family=\"Times,serif\" font-size=\"14.00\">y</text>\n</g>\n<!-- CModSub&#45;&gt;y_G5 -->\n<g id=\"edge6\" class=\"edge\">\n<title>CModSub:e-&gt;y_G5:w</title>\n<path fill=\"none\" stroke=\"black\" d=\"M140,-51C161.17,-51 155.47,-20.53 174.55,-18.15\"/>\n<ellipse fill=\"black\" stroke=\"black\" cx=\"176\" cy=\"-18.06\" rx=\"1\" ry=\"1\"/>\n<text text-anchor=\"middle\" x=\"158.5\" y=\"-39\" font-family=\"Times,serif\" font-size=\"10.00\">n</text>\n</g>\n</g>\n</svg>",
          "text/plain": "<IPython.core.display.SVG object>"
         },
         "metadata": {},
         "output_type": "display_data"
        }
       ],
       "tabbable": null,
       "tooltip": null
      }
     },
     "2f156a85c70b457b80b3c1ac8d86379c": {
      "model_module": "@jupyter-widgets/base",
      "model_module_version": "2.0.0",
      "model_name": "LayoutModel",
      "state": {
       "_model_module": "@jupyter-widgets/base",
       "_model_module_version": "2.0.0",
       "_model_name": "LayoutModel",
       "_view_count": null,
       "_view_module": "@jupyter-widgets/base",
       "_view_module_version": "2.0.0",
       "_view_name": "LayoutView",
       "align_content": null,
       "align_items": null,
       "align_self": null,
       "border_bottom": null,
       "border_left": null,
       "border_right": null,
       "border_top": null,
       "bottom": null,
       "display": null,
       "flex": null,
       "flex_flow": null,
       "grid_area": null,
       "grid_auto_columns": null,
       "grid_auto_flow": null,
       "grid_auto_rows": null,
       "grid_column": null,
       "grid_gap": null,
       "grid_row": null,
       "grid_template_areas": null,
       "grid_template_columns": null,
       "grid_template_rows": null,
       "height": null,
       "justify_content": null,
       "justify_items": null,
       "left": null,
       "margin": null,
       "max_height": null,
       "max_width": null,
       "min_height": null,
       "min_width": null,
       "object_fit": null,
       "object_position": null,
       "order": null,
       "overflow": null,
       "padding": null,
       "right": null,
       "top": null,
       "visibility": null,
       "width": null
      }
     },
     "315a8db576d14700b7b2d3db6c7efbfe": {
      "model_module": "@jupyter-widgets/output",
      "model_module_version": "1.0.0",
      "model_name": "OutputModel",
      "state": {
       "_dom_classes": [],
       "_model_module": "@jupyter-widgets/output",
       "_model_module_version": "1.0.0",
       "_model_name": "OutputModel",
       "_view_count": null,
       "_view_module": "@jupyter-widgets/output",
       "_view_module_version": "1.0.0",
       "_view_name": "OutputView",
       "layout": "IPY_MODEL_716fe77784d24977b476a7647493a75e",
       "msg_id": "",
       "outputs": [
        {
         "data": {
          "text/markdown": "`mod_neg`",
          "text/plain": "<IPython.core.display.Markdown object>"
         },
         "metadata": {},
         "output_type": "display_data"
        },
        {
         "data": {
          "image/svg+xml": "<svg xmlns=\"http://www.w3.org/2000/svg\" xmlns:xlink=\"http://www.w3.org/1999/xlink\" width=\"233pt\" height=\"54pt\" viewBox=\"0.00 0.00 233.00 54.00\">\n<g id=\"graph0\" class=\"graph\" transform=\"scale(1 1) rotate(0) translate(4 50)\">\n<title>my_graph</title>\n<polygon fill=\"white\" stroke=\"transparent\" points=\"-4,4 -4,-50 229,-50 229,4 -4,4\"/>\n<!-- x_G2 -->\n<g id=\"node1\" class=\"node\">\n<title>x_G2</title>\n<text text-anchor=\"middle\" x=\"27\" y=\"-14.3\" font-family=\"Times,serif\" font-size=\"14.00\">x</text>\n</g>\n<!-- ModNeg -->\n<g id=\"node2\" class=\"node\">\n<title>ModNeg</title>\n<polygon fill=\"none\" stroke=\"black\" points=\"91.5,-29 91.5,-46 134.5,-46 134.5,-29 91.5,-29\"/>\n<text text-anchor=\"start\" x=\"94.5\" y=\"-35\" font-family=\"Times,serif\" font-size=\"10.00\">ModNeg</text>\n<polygon fill=\"none\" stroke=\"black\" points=\"91.5,-8 91.5,-29 134.5,-29 134.5,-8 91.5,-8\"/>\n<text text-anchor=\"start\" x=\"109.5\" y=\"-14.8\" font-family=\"Times,serif\" font-size=\"14.00\">x</text>\n</g>\n<!-- x_G2&#45;&gt;ModNeg -->\n<g id=\"edge1\" class=\"edge\">\n<title>x_G2:e-&gt;ModNeg:w</title>\n<path fill=\"none\" stroke=\"black\" d=\"M54,-18C69.67,-18 74.14,-18 88.77,-18\"/>\n<ellipse fill=\"black\" stroke=\"black\" cx=\"90\" cy=\"-18\" rx=\"1\" ry=\"1\"/>\n<text text-anchor=\"middle\" x=\"72.5\" y=\"-21\" font-family=\"Times,serif\" font-size=\"10.00\">32</text>\n</g>\n<!-- x_G0 -->\n<g id=\"node3\" class=\"node\">\n<title>x_G0</title>\n<text text-anchor=\"middle\" x=\"198\" y=\"-14.3\" font-family=\"Times,serif\" font-size=\"14.00\">x</text>\n</g>\n<!-- ModNeg&#45;&gt;x_G0 -->\n<g id=\"edge2\" class=\"edge\">\n<title>ModNeg:e-&gt;x_G0:w</title>\n<path fill=\"none\" stroke=\"black\" d=\"M134,-18C149.67,-18 154.14,-18 168.77,-18\"/>\n<ellipse fill=\"black\" stroke=\"black\" cx=\"170\" cy=\"-18\" rx=\"1\" ry=\"1\"/>\n<text text-anchor=\"middle\" x=\"152.5\" y=\"-21\" font-family=\"Times,serif\" font-size=\"10.00\">32</text>\n</g>\n</g>\n</svg>",
          "text/plain": "<IPython.core.display.SVG object>"
         },
         "metadata": {},
         "output_type": "display_data"
        }
       ],
       "tabbable": null,
       "tooltip": null
      }
     },
     "69c7b91cb8c14a79a54edd67d7a63a06": {
      "model_module": "@jupyter-widgets/controls",
      "model_module_version": "2.0.0",
      "model_name": "HBoxModel",
      "state": {
       "_dom_classes": [],
       "_model_module": "@jupyter-widgets/controls",
       "_model_module_version": "2.0.0",
       "_model_name": "HBoxModel",
       "_view_count": null,
       "_view_module": "@jupyter-widgets/controls",
       "_view_module_version": "2.0.0",
       "_view_name": "HBoxView",
       "box_style": "",
       "children": [
        "IPY_MODEL_84429960dfd9462c8a2eee1bcdff120e"
       ],
       "layout": "IPY_MODEL_e11246e05eb24494b3106a199ac01fb9",
       "tabbable": null,
       "tooltip": null
      }
     },
     "716fe77784d24977b476a7647493a75e": {
      "model_module": "@jupyter-widgets/base",
      "model_module_version": "2.0.0",
      "model_name": "LayoutModel",
      "state": {
       "_model_module": "@jupyter-widgets/base",
       "_model_module_version": "2.0.0",
       "_model_name": "LayoutModel",
       "_view_count": null,
       "_view_module": "@jupyter-widgets/base",
       "_view_module_version": "2.0.0",
       "_view_name": "LayoutView",
       "align_content": null,
       "align_items": null,
       "align_self": null,
       "border_bottom": null,
       "border_left": null,
       "border_right": null,
       "border_top": null,
       "bottom": null,
       "display": null,
       "flex": null,
       "flex_flow": null,
       "grid_area": null,
       "grid_auto_columns": null,
       "grid_auto_flow": null,
       "grid_auto_rows": null,
       "grid_column": null,
       "grid_gap": null,
       "grid_row": null,
       "grid_template_areas": null,
       "grid_template_columns": null,
       "grid_template_rows": null,
       "height": null,
       "justify_content": null,
       "justify_items": null,
       "left": null,
       "margin": null,
       "max_height": null,
       "max_width": null,
       "min_height": null,
       "min_width": null,
       "object_fit": null,
       "object_position": null,
       "order": null,
       "overflow": null,
       "padding": null,
       "right": null,
       "top": null,
       "visibility": null,
       "width": null
      }
     },
     "77a4d077464d4f859264b3ed75086e3e": {
      "model_module": "@jupyter-widgets/output",
      "model_module_version": "1.0.0",
      "model_name": "OutputModel",
      "state": {
       "_dom_classes": [],
       "_model_module": "@jupyter-widgets/output",
       "_model_module_version": "1.0.0",
       "_model_name": "OutputModel",
       "_view_count": null,
       "_view_module": "@jupyter-widgets/output",
       "_view_module_version": "1.0.0",
       "_view_name": "OutputView",
       "layout": "IPY_MODEL_197617b4a57741259a8823d02f564339",
       "msg_id": "",
       "outputs": [
        {
         "data": {
          "text/markdown": "`cmod_neg`",
          "text/plain": "<IPython.core.display.Markdown object>"
         },
         "metadata": {},
         "output_type": "display_data"
        },
        {
         "data": {
          "image/svg+xml": "<svg xmlns=\"http://www.w3.org/2000/svg\" xmlns:xlink=\"http://www.w3.org/1999/xlink\" width=\"240pt\" height=\"98pt\" viewBox=\"0.00 0.00 240.00 98.00\">\n<g id=\"graph0\" class=\"graph\" transform=\"scale(1 1) rotate(0) translate(4 94)\">\n<title>my_graph</title>\n<polygon fill=\"white\" stroke=\"transparent\" points=\"-4,4 -4,-94 236,-94 236,4 -4,4\"/>\n<!-- ctrl_G0 -->\n<g id=\"node1\" class=\"node\">\n<title>ctrl_G0</title>\n<text text-anchor=\"middle\" x=\"27\" y=\"-68.3\" font-family=\"Times,serif\" font-size=\"14.00\">ctrl</text>\n</g>\n<!-- CModNeg -->\n<g id=\"node3\" class=\"node\">\n<title>CModNeg</title>\n<polygon fill=\"none\" stroke=\"black\" points=\"91,-66 91,-83 141,-83 141,-66 91,-66\"/>\n<text text-anchor=\"start\" x=\"94\" y=\"-72\" font-family=\"Times,serif\" font-size=\"10.00\">CModNeg</text>\n<polygon fill=\"none\" stroke=\"black\" points=\"91,-45 91,-66 141,-66 141,-45 91,-45\"/>\n<text text-anchor=\"start\" x=\"106.5\" y=\"-51.8\" font-family=\"Times,serif\" font-size=\"14.00\">ctrl</text>\n<polygon fill=\"none\" stroke=\"black\" points=\"91,-24 91,-45 141,-45 141,-24 91,-24\"/>\n<text text-anchor=\"start\" x=\"112.5\" y=\"-30.8\" font-family=\"Times,serif\" font-size=\"14.00\">x</text>\n</g>\n<!-- ctrl_G0&#45;&gt;CModNeg -->\n<g id=\"edge1\" class=\"edge\">\n<title>ctrl_G0:e-&gt;CModNeg:w</title>\n<path fill=\"none\" stroke=\"black\" d=\"M54,-72C71.22,-72 72.97,-57.23 88.98,-56.07\"/>\n<ellipse fill=\"black\" stroke=\"black\" cx=\"90\" cy=\"-56.04\" rx=\"1\" ry=\"1\"/>\n<text text-anchor=\"middle\" x=\"72.5\" y=\"-67\" font-family=\"Times,serif\" font-size=\"10.00\">1</text>\n</g>\n<!-- x_G3 -->\n<g id=\"node2\" class=\"node\">\n<title>x_G3</title>\n<text text-anchor=\"middle\" x=\"27\" y=\"-14.3\" font-family=\"Times,serif\" font-size=\"14.00\">x</text>\n</g>\n<!-- x_G3&#45;&gt;CModNeg -->\n<g id=\"edge2\" class=\"edge\">\n<title>x_G3:e-&gt;CModNeg:w</title>\n<path fill=\"none\" stroke=\"black\" d=\"M54,-18C71.22,-18 72.97,-32.77 88.98,-33.93\"/>\n<ellipse fill=\"black\" stroke=\"black\" cx=\"90\" cy=\"-33.96\" rx=\"1\" ry=\"1\"/>\n<text text-anchor=\"middle\" x=\"72.5\" y=\"-29\" font-family=\"Times,serif\" font-size=\"10.00\">32</text>\n</g>\n<!-- ctrl_G2 -->\n<g id=\"node4\" class=\"node\">\n<title>ctrl_G2</title>\n<text text-anchor=\"middle\" x=\"205\" y=\"-68.3\" font-family=\"Times,serif\" font-size=\"14.00\">ctrl</text>\n</g>\n<!-- CModNeg&#45;&gt;ctrl_G2 -->\n<g id=\"edge3\" class=\"edge\">\n<title>CModNeg:e-&gt;ctrl_G2:w</title>\n<path fill=\"none\" stroke=\"black\" d=\"M141,-56C158.22,-56 159.97,-70.77 175.98,-71.93\"/>\n<ellipse fill=\"black\" stroke=\"black\" cx=\"177\" cy=\"-71.96\" rx=\"1\" ry=\"1\"/>\n<text text-anchor=\"middle\" x=\"159.5\" y=\"-67\" font-family=\"Times,serif\" font-size=\"10.00\">1</text>\n</g>\n<!-- x_G1 -->\n<g id=\"node5\" class=\"node\">\n<title>x_G1</title>\n<text text-anchor=\"middle\" x=\"205\" y=\"-14.3\" font-family=\"Times,serif\" font-size=\"14.00\">x</text>\n</g>\n<!-- CModNeg&#45;&gt;x_G1 -->\n<g id=\"edge4\" class=\"edge\">\n<title>CModNeg:e-&gt;x_G1:w</title>\n<path fill=\"none\" stroke=\"black\" d=\"M141,-34C158.22,-34 159.97,-19.23 175.98,-18.07\"/>\n<ellipse fill=\"black\" stroke=\"black\" cx=\"177\" cy=\"-18.04\" rx=\"1\" ry=\"1\"/>\n<text text-anchor=\"middle\" x=\"159.5\" y=\"-29\" font-family=\"Times,serif\" font-size=\"10.00\">32</text>\n</g>\n</g>\n</svg>",
          "text/plain": "<IPython.core.display.SVG object>"
         },
         "metadata": {},
         "output_type": "display_data"
        }
       ],
       "tabbable": null,
       "tooltip": null
      }
     },
     "84429960dfd9462c8a2eee1bcdff120e": {
      "model_module": "@jupyter-widgets/output",
      "model_module_version": "1.0.0",
      "model_name": "OutputModel",
      "state": {
       "_dom_classes": [],
       "_model_module": "@jupyter-widgets/output",
       "_model_module_version": "1.0.0",
       "_model_name": "OutputModel",
       "_view_count": null,
       "_view_module": "@jupyter-widgets/output",
       "_view_module_version": "1.0.0",
       "_view_name": "OutputView",
       "layout": "IPY_MODEL_03ec0e63b6084098abce364fcbf11e1a",
       "msg_id": "",
       "outputs": [
        {
         "data": {
          "text/markdown": "`modsub_symb`",
          "text/plain": "<IPython.core.display.Markdown object>"
         },
         "metadata": {},
         "output_type": "display_data"
        },
        {
         "data": {
          "image/svg+xml": "<svg xmlns=\"http://www.w3.org/2000/svg\" xmlns:xlink=\"http://www.w3.org/1999/xlink\" width=\"232pt\" height=\"98pt\" viewBox=\"0.00 0.00 232.00 98.00\">\n<g id=\"graph0\" class=\"graph\" transform=\"scale(1 1) rotate(0) translate(4 94)\">\n<title>my_graph</title>\n<polygon fill=\"white\" stroke=\"transparent\" points=\"-4,4 -4,-94 228,-94 228,4 -4,4\"/>\n<!-- x_G3 -->\n<g id=\"node1\" class=\"node\">\n<title>x_G3</title>\n<text text-anchor=\"middle\" x=\"27\" y=\"-68.3\" font-family=\"Times,serif\" font-size=\"14.00\">x</text>\n</g>\n<!-- ModSub -->\n<g id=\"node3\" class=\"node\">\n<title>ModSub</title>\n<polygon fill=\"none\" stroke=\"black\" points=\"91,-66 91,-83 133,-83 133,-66 91,-66\"/>\n<text text-anchor=\"start\" x=\"94\" y=\"-72\" font-family=\"Times,serif\" font-size=\"10.00\">ModSub</text>\n<polygon fill=\"none\" stroke=\"black\" points=\"91,-45 91,-66 133,-66 133,-45 91,-45\"/>\n<text text-anchor=\"start\" x=\"108.5\" y=\"-51.8\" font-family=\"Times,serif\" font-size=\"14.00\">x</text>\n<polygon fill=\"none\" stroke=\"black\" points=\"91,-24 91,-45 133,-45 133,-24 91,-24\"/>\n<text text-anchor=\"start\" x=\"108.5\" y=\"-30.8\" font-family=\"Times,serif\" font-size=\"14.00\">y</text>\n</g>\n<!-- x_G3&#45;&gt;ModSub -->\n<g id=\"edge1\" class=\"edge\">\n<title>x_G3:e-&gt;ModSub:w</title>\n<path fill=\"none\" stroke=\"black\" d=\"M54,-72C71.22,-72 72.97,-57.23 88.98,-56.07\"/>\n<ellipse fill=\"black\" stroke=\"black\" cx=\"90\" cy=\"-56.04\" rx=\"1\" ry=\"1\"/>\n<text text-anchor=\"middle\" x=\"72.5\" y=\"-67\" font-family=\"Times,serif\" font-size=\"10.00\">n</text>\n</g>\n<!-- y_G0 -->\n<g id=\"node2\" class=\"node\">\n<title>y_G0</title>\n<text text-anchor=\"middle\" x=\"27\" y=\"-14.3\" font-family=\"Times,serif\" font-size=\"14.00\">y</text>\n</g>\n<!-- y_G0&#45;&gt;ModSub -->\n<g id=\"edge2\" class=\"edge\">\n<title>y_G0:e-&gt;ModSub:w</title>\n<path fill=\"none\" stroke=\"black\" d=\"M54,-18C71.22,-18 72.97,-32.77 88.98,-33.93\"/>\n<ellipse fill=\"black\" stroke=\"black\" cx=\"90\" cy=\"-33.96\" rx=\"1\" ry=\"1\"/>\n<text text-anchor=\"middle\" x=\"72.5\" y=\"-29\" font-family=\"Times,serif\" font-size=\"10.00\">n</text>\n</g>\n<!-- x_G5 -->\n<g id=\"node4\" class=\"node\">\n<title>x_G5</title>\n<text text-anchor=\"middle\" x=\"197\" y=\"-68.3\" font-family=\"Times,serif\" font-size=\"14.00\">x</text>\n</g>\n<!-- ModSub&#45;&gt;x_G5 -->\n<g id=\"edge3\" class=\"edge\">\n<title>ModSub:e-&gt;x_G5:w</title>\n<path fill=\"none\" stroke=\"black\" d=\"M133,-56C150.22,-56 151.97,-70.77 167.98,-71.93\"/>\n<ellipse fill=\"black\" stroke=\"black\" cx=\"169\" cy=\"-71.96\" rx=\"1\" ry=\"1\"/>\n<text text-anchor=\"middle\" x=\"151.5\" y=\"-67\" font-family=\"Times,serif\" font-size=\"10.00\">n</text>\n</g>\n<!-- y_G2 -->\n<g id=\"node5\" class=\"node\">\n<title>y_G2</title>\n<text text-anchor=\"middle\" x=\"197\" y=\"-14.3\" font-family=\"Times,serif\" font-size=\"14.00\">y</text>\n</g>\n<!-- ModSub&#45;&gt;y_G2 -->\n<g id=\"edge4\" class=\"edge\">\n<title>ModSub:e-&gt;y_G2:w</title>\n<path fill=\"none\" stroke=\"black\" d=\"M133,-34C150.22,-34 151.97,-19.23 167.98,-18.07\"/>\n<ellipse fill=\"black\" stroke=\"black\" cx=\"169\" cy=\"-18.04\" rx=\"1\" ry=\"1\"/>\n<text text-anchor=\"middle\" x=\"151.5\" y=\"-29\" font-family=\"Times,serif\" font-size=\"10.00\">n</text>\n</g>\n</g>\n</svg>",
          "text/plain": "<IPython.core.display.SVG object>"
         },
         "metadata": {},
         "output_type": "display_data"
        }
       ],
       "tabbable": null,
       "tooltip": null
      }
     },
     "88dea7a784344287a2d07c585df72c92": {
      "model_module": "@jupyter-widgets/controls",
      "model_module_version": "2.0.0",
      "model_name": "HBoxModel",
      "state": {
       "_dom_classes": [],
       "_model_module": "@jupyter-widgets/controls",
       "_model_module_version": "2.0.0",
       "_model_name": "HBoxModel",
       "_view_count": null,
       "_view_module": "@jupyter-widgets/controls",
       "_view_module_version": "2.0.0",
       "_view_name": "HBoxView",
       "box_style": "",
       "children": [
        "IPY_MODEL_315a8db576d14700b7b2d3db6c7efbfe"
       ],
       "layout": "IPY_MODEL_2f156a85c70b457b80b3c1ac8d86379c",
       "tabbable": null,
       "tooltip": null
      }
     },
     "c27439768feb4384a7f558d8724ed521": {
      "model_module": "@jupyter-widgets/base",
      "model_module_version": "2.0.0",
      "model_name": "LayoutModel",
      "state": {
       "_model_module": "@jupyter-widgets/base",
       "_model_module_version": "2.0.0",
       "_model_name": "LayoutModel",
       "_view_count": null,
       "_view_module": "@jupyter-widgets/base",
       "_view_module_version": "2.0.0",
       "_view_name": "LayoutView",
       "align_content": null,
       "align_items": null,
       "align_self": null,
       "border_bottom": null,
       "border_left": null,
       "border_right": null,
       "border_top": null,
       "bottom": null,
       "display": null,
       "flex": null,
       "flex_flow": null,
       "grid_area": null,
       "grid_auto_columns": null,
       "grid_auto_flow": null,
       "grid_auto_rows": null,
       "grid_column": null,
       "grid_gap": null,
       "grid_row": null,
       "grid_template_areas": null,
       "grid_template_columns": null,
       "grid_template_rows": null,
       "height": null,
       "justify_content": null,
       "justify_items": null,
       "left": null,
       "margin": null,
       "max_height": null,
       "max_width": null,
       "min_height": null,
       "min_width": null,
       "object_fit": null,
       "object_position": null,
       "order": null,
       "overflow": null,
       "padding": null,
       "right": null,
       "top": null,
       "visibility": null,
       "width": null
      }
     },
     "ce1bd5afc606400dba2ef02c65512bdd": {
      "model_module": "@jupyter-widgets/controls",
      "model_module_version": "2.0.0",
      "model_name": "HBoxModel",
      "state": {
       "_dom_classes": [],
       "_model_module": "@jupyter-widgets/controls",
       "_model_module_version": "2.0.0",
       "_model_name": "HBoxModel",
       "_view_count": null,
       "_view_module": "@jupyter-widgets/controls",
       "_view_module_version": "2.0.0",
       "_view_name": "HBoxView",
       "box_style": "",
       "children": [
        "IPY_MODEL_1c0556e5541d42048010ab906cdaa698"
       ],
       "layout": "IPY_MODEL_11bb17b251204c6f829d82198e206ba7",
       "tabbable": null,
       "tooltip": null
      }
     },
     "e11246e05eb24494b3106a199ac01fb9": {
      "model_module": "@jupyter-widgets/base",
      "model_module_version": "2.0.0",
      "model_name": "LayoutModel",
      "state": {
       "_model_module": "@jupyter-widgets/base",
       "_model_module_version": "2.0.0",
       "_model_name": "LayoutModel",
       "_view_count": null,
       "_view_module": "@jupyter-widgets/base",
       "_view_module_version": "2.0.0",
       "_view_name": "LayoutView",
       "align_content": null,
       "align_items": null,
       "align_self": null,
       "border_bottom": null,
       "border_left": null,
       "border_right": null,
       "border_top": null,
       "bottom": null,
       "display": null,
       "flex": null,
       "flex_flow": null,
       "grid_area": null,
       "grid_auto_columns": null,
       "grid_auto_flow": null,
       "grid_auto_rows": null,
       "grid_column": null,
       "grid_gap": null,
       "grid_row": null,
       "grid_template_areas": null,
       "grid_template_columns": null,
       "grid_template_rows": null,
       "height": null,
       "justify_content": null,
       "justify_items": null,
       "left": null,
       "margin": null,
       "max_height": null,
       "max_width": null,
       "min_height": null,
       "min_width": null,
       "object_fit": null,
       "object_position": null,
       "order": null,
       "overflow": null,
       "padding": null,
       "right": null,
       "top": null,
       "visibility": null,
       "width": null
      }
     },
     "e1b12a574bdb44a1aa16a8f88a9e70bc": {
      "model_module": "@jupyter-widgets/controls",
      "model_module_version": "2.0.0",
      "model_name": "HBoxModel",
      "state": {
       "_dom_classes": [],
       "_model_module": "@jupyter-widgets/controls",
       "_model_module_version": "2.0.0",
       "_model_name": "HBoxModel",
       "_view_count": null,
       "_view_module": "@jupyter-widgets/controls",
       "_view_module_version": "2.0.0",
       "_view_name": "HBoxView",
       "box_style": "",
       "children": [
        "IPY_MODEL_77a4d077464d4f859264b3ed75086e3e"
       ],
       "layout": "IPY_MODEL_15c29925d5004e5db7a114c9c5e2ac40",
       "tabbable": null,
       "tooltip": null
      }
     }
    },
    "version_major": 2,
    "version_minor": 0
   }
  }
 },
 "nbformat": 4,
 "nbformat_minor": 5
}
