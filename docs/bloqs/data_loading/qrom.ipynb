{
 "cells": [
  {
   "cell_type": "markdown",
   "id": "6a30c548",
   "metadata": {
    "cq.autogen": "title_cell"
   },
   "source": [
    "# QROM\n",
    "\n",
    "Quantum read-only memory."
   ]
  },
  {
   "cell_type": "code",
   "execution_count": 1,
   "id": "20c4cf8d",
   "metadata": {
    "cq.autogen": "top_imports"
   },
   "outputs": [],
   "source": [
    "from qualtran import Bloq, CompositeBloq, BloqBuilder, Signature, Register\n",
    "from qualtran import QBit, QInt, QUInt, QAny\n",
    "from qualtran.drawing import show_bloq, show_call_graph, show_counts_sigma\n",
    "from typing import *\n",
    "import numpy as np\n",
    "import sympy\n",
    "import cirq"
   ]
  },
  {
   "cell_type": "markdown",
   "id": "ee1b29d3",
   "metadata": {
    "cq.autogen": "QROMBase.bloq_doc.md"
   },
   "source": [
    "## `QROMBase`\n",
    "Interface for Bloqs to load `data[l]` when the selection register stores index `l`.\n",
    "\n",
    "## Overview\n",
    "The action of a QROM can be described as\n",
    "$$\n",
    "        \\text{QROM}_{s_1, s_2, \\dots, s_K}^{d_1, d_2, \\dots, d_L}\n",
    "        |s_1\\rangle |s_2\\rangle \\dots |s_K\\rangle\n",
    "        |0\\rangle^{\\otimes b_1} |0\\rangle^{\\otimes b_2} \\dots |0\\rangle^{\\otimes b_L}\n",
    "        \\rightarrow\n",
    "        |s_1\\rangle |s_2\\rangle \\dots |s_K\\rangle\n",
    "        |d_1[s_1, s_2, \\dots, s_k]\\rangle\n",
    "        |d_2[s_1, s_2, \\dots, s_k]\\rangle \\dots\n",
    "        |d_L[s_1, s_2, \\dots, s_k]\\rangle\n",
    "$$\n",
    "\n",
    "A behavior of a QROM can be understood in terms of its classical analogue, where a for-loop\n",
    "over one or more (selection) indices can be used to load one or more classical datasets, where\n",
    "each of the classical dataset can be multidimensional.\n",
    "\n",
    "```\n",
    ">>> # N, M, P, Q, R, S, T are pre-initialized integer parameters.\n",
    ">>> output = [np.zeros((P, Q)), np.zeros((R, S, T))]\n",
    ">>> # Load two different classical datasets; each of different shape.\n",
    ">>> data = [np.random.rand(N, M, P, Q), np.random.rand(N, M, R, S, T)]\n",
    ">>> for i in range(N): # For loop over two selection indices i and j.\n",
    ">>>     for j in range(M):\n",
    ">>>        # Load two multidimensional classical datasets data[0] and data[1] s.t.\n",
    ">>>        # |i, j⟩|0⟩  -> |i, j⟩|data[0][i, j, :]⟩|data[1][i, j, :]⟩\n",
    ">>>        output[0] = data[0][i, j, :]\n",
    ">>>        output[1] = data[1][i, j, :]\n",
    "```\n",
    "\n",
    "The parameters that control the behavior and costs of a QROM are -\n",
    "\n",
    "1. Number of selection registers (eg: $i$, $j$) and their iteration lengths (eg: $N$, $M$).\n",
    "2. Number of target registers, their quantum datatype and shape.\n",
    "    - Number of target registers: One for each classical dataset to load (eg: $\\text{data}[0]$\n",
    "        and $\\text{data}[1]$)\n",
    "    - QDType of target registers: Depends on `dtype` of the $i$'th classical dataset\n",
    "    - Shape of target registers: Depends on shape of classical data (eg: $(P, Q)$ and\n",
    "        $(R, S, T)$ above)\n",
    "\n",
    "### Specification of classical data via `data_or_shape`\n",
    "Users can specify the classical data to load via QROM by passing in an appropriate value\n",
    "for `data_or_shape` attribute. This is a list of numpy arrays or `Shaped` objects, where\n",
    "each item of the list corresponds to a classical dataset to load.\n",
    "\n",
    "Each classical dataset to load can be specified as a numpy array (or a `Shaped` object for\n",
    "symbolic bloqs). The shape of the dataset is a union of the selection shape and target shape,\n",
    "s.t.\n",
    "$$\n",
    "    \\text{data[i].shape} = \\text{selection\\_shape} + \\text{target\\_shape[i]}\n",
    "$$\n",
    "\n",
    "Note that the $\\text{selection\\_shape}$ should be same across all classical datasets to be\n",
    "loaded and correspond to a tuple of iteration lengths of selection indices (i.e. $(N, M)$\n",
    "in the example above).\n",
    "\n",
    "The target shape of each classical dataset can be different and parameterizes the size of\n",
    "the desired output that should be loaded in a target register.\n",
    "\n",
    "### Number of selection registers and their iteration lengths\n",
    "As describe in the previous section, the number of selection registers and their iteration\n",
    "lengths can be inferred from the shape of the classical dataset. All classical datasets\n",
    "to be loaded must have the same $\\text{selection\\_shape}$, which is a tuple of iteration\n",
    "lengths over each dimension of the dataset (i.e. the range for each nested for-loop).\n",
    "\n",
    "In order to load a data set with $\\text{selection\\_shape} == (P, Q, R, S)$ the QROM bloq\n",
    "needs four selection registers with bitsizes $(p, q, r, s)$ where each of\n",
    "$p,q,r,s \\geq \\log_2{P}, \\log_2{Q}, \\log_2{R}, \\log_2{S}$.\n",
    "\n",
    "In general, to load $K$ dimensional data, we use $K$ named selection registers\n",
    "$(\\text{selection}_0, \\text{selection}_1, ..., \\text{selection}_k)$ to index and\n",
    "load the data. For the $i$'th selection register, its size is configured using\n",
    "attribute $\\text{selection\\_bitsizes[i]}$ and the iteration range is configued\n",
    "using $\\text{data\\_or\\_shape[0].shape[i]}$.\n",
    "\n",
    "### Number of target registers, their quantum datatype and shape\n",
    "QROM bloq uses one target register for each entry corresponding to classical dataset in the\n",
    "tuple `data_or_shape`. Thus, to load $L$ classical datsets, we use $L$ names target registers\n",
    "$(\\text{target}_0, \\text{target}_1, ..., \\text{target}_L)$\n",
    "\n",
    "Each named target register has a bitsize $b_{i}=\\text{target\\_bitsizes[i]}$ that represents\n",
    "the size of the register and depends upon the maximum value of individual elements in the\n",
    "$i$'th classical dataset.\n",
    "\n",
    "Each named target register has a shape that can be configured using attribute\n",
    "$\\text{target\\_shape[i]}$ that represents the number of target registers if the output to load\n",
    "is multidimensional.\n",
    "\n",
    "#### Parameters\n",
    " - `data_or_shape`: List of numpy ndarrays specifying the data to load. If the length of this list ($L$) is greater than one then we use the same selection indices to load each dataset. The shape of a classical dataset is a concatenation of selection_shape and target_shape[i]; i.e. `data_or_shape[i].shape = selection_shape + target_shape[i]`. Thus, each data set is required to have the same selection shape $(S_1, S_2, ..., S_K)$ and can have a different target shape given by `target_shapes[i]`. For symbolic QROMs, pass a list of `Shaped` objects instead with shape $(S_1, S_2, ..., S_K) + target_shape[i]$.\n",
    " - `selection_bitsizes`: The number of bits used to represent each selection register corresponding to the size of each dimension of the selection_shape $(S_1, S_2, ..., S_K)$. Should be the same length as the selection shape of each of the datasets and $2**\\text{selection\\_bitsizes[i]} >= S_i$\n",
    " - `target_shapes`: Shape of target registers for each classical dataset to be loaded. Must be consistent with `data_or_shape` s.t. `len(data_or_shape) == len(target_shapes)` and `data_or_shape[-len(target_shapes[i]):] == target_shapes[i]`.\n",
    " - `target_bitsizes`: Bitsize (or qdtype) of the target registers for each classical dataset to be loaded. This can be deduced from the maximum element of each of the datasets. Must be consistent with `data_or_shape` s.t. `len(data_or_shape) == len(target_bitsizes)` and `target_bitsizes[i] >= max(data[i]).bitsize`.\n",
    " - `num_controls`: The number of controls to instanstiate a controlled version of this bloq.\n"
   ]
  },
  {
   "cell_type": "markdown",
   "id": "9d6450ad",
   "metadata": {
    "cq.autogen": "QROM.bloq_doc.md"
   },
   "source": [
    "## `QROM`\n",
    "Bloq to load `data[l]` in the target register when the selection stores an index `l`.\n",
    "\n",
    "See docstrings of `QROMBase` for an overview of the QROM primitive and the various attributes.\n",
    "\n",
    "This bloq is an implementation of the `QROMBase` interface that uses the unary iteration based\n",
    "approach described in Ref [1].\n",
    "\n",
    "## Cost of this (unary iteration based) QROM\n",
    "\n",
    "### T / Toffoli cost\n",
    "The T/Toffoli cost of this QROM scales linearly with the product of iteration lengths over\n",
    "all dimensions (i.e. $\\mathcal{O}(\\mathrm{np.prod(\\text{selection\\_shape})}$).\n",
    "\n",
    "### Clifford Cost\n",
    "To load a classical dataset into a target register of bitsize $b$ and shape\n",
    "$\\text{target\\_shape}$, the clifford cost of this QROM scales as\n",
    "$\\mathcal{O}(b \\cdot \\text{np.prod(selection\\_shape+target\\_shape)})\n",
    "=\\mathcal{O}(b \\cdot \\text{np.prod(data.shape)})$. This is because we need $\\mathcal{O}(b)$\n",
    "CNOT gates to load 1 classical data element in the target register and for each of the\n",
    "$\\text{np.prod(selection\\_shape)}$ selection indices, we have $\\text{np.prod(target\\_shape)}$\n",
    "such data elements to load.\n",
    "\n",
    "### Ancilla cost\n",
    "The number of clean ancilla required by this QROM scales linearly with the size of the\n",
    "selection registers + number of controls.\n",
    "\n",
    "## Variable spaced QROM\n",
    "When the input classical data contains consecutive entries of identical data elements to\n",
    "load, the QROM also implements the \"variable-spaced\" QROM optimization described in Ref [2].\n",
    "\n",
    "#### References\n",
    " - [Encoding Electronic Spectra in Quantum Circuits with Linear T Complexity](https://arxiv.org/abs/1805.03662). Babbush et al. 2018. Figure 1.\n",
    " - [Compilation of Fault-Tolerant Quantum Heuristics for Combinatorial Optimization](https://arxiv.org/abs/2007.07391). Babbush et al. 2020. Figure 3.\n"
   ]
  },
  {
   "cell_type": "code",
   "execution_count": 2,
   "id": "2c3d471e",
   "metadata": {
    "cq.autogen": "QROM.bloq_doc.py"
   },
   "outputs": [],
   "source": [
    "from qualtran.bloqs.data_loading.qrom import QROM"
   ]
  },
  {
   "cell_type": "markdown",
   "id": "0b256e78",
   "metadata": {
    "cq.autogen": "QROM.example_instances.md"
   },
   "source": [
    "### Example Instances"
   ]
  },
  {
   "cell_type": "code",
   "execution_count": 3,
   "id": "c457f9f9",
   "metadata": {
    "cq.autogen": "QROM.qrom_small"
   },
   "outputs": [],
   "source": [
    "data = np.arange(5)\n",
    "qrom_small = QROM([data], selection_bitsizes=(3,), target_bitsizes=(3,))"
   ]
  },
  {
   "cell_type": "code",
   "execution_count": 4,
   "id": "2b97c379",
   "metadata": {
    "cq.autogen": "QROM.qrom_multi_data"
   },
   "outputs": [],
   "source": [
    "data1 = np.arange(5)\n",
    "data2 = np.arange(5) + 1\n",
    "qrom_multi_data = QROM([data1, data2], selection_bitsizes=(3,), target_bitsizes=(3, 4))"
   ]
  },
  {
   "cell_type": "code",
   "execution_count": 5,
   "id": "fc65e4e0",
   "metadata": {
    "cq.autogen": "QROM.qrom_multi_dim"
   },
   "outputs": [],
   "source": [
    "data1 = np.arange(9).reshape((3, 3))\n",
    "data2 = (np.arange(9) + 1).reshape((3, 3))\n",
    "qrom_multi_dim = QROM([data1, data2], selection_bitsizes=(2, 2), target_bitsizes=(8, 8))"
   ]
  },
  {
   "cell_type": "code",
   "execution_count": 6,
   "id": "01c89177",
   "metadata": {
    "cq.autogen": "QROM.qrom_symb"
   },
   "outputs": [],
   "source": [
    "N, M, b1, b2, c = sympy.symbols('N M b1 b2 c')\n",
    "qrom_symb = QROM.build_from_bitsize((N, M), (b1, b2), num_controls=c)"
   ]
  },
  {
   "cell_type": "markdown",
   "id": "d063ce85",
   "metadata": {
    "cq.autogen": "QROM.graphical_signature.md"
   },
   "source": [
    "#### Graphical Signature"
   ]
  },
  {
   "cell_type": "code",
   "execution_count": 7,
   "id": "8a3ea28a",
   "metadata": {
    "cq.autogen": "QROM.graphical_signature.py"
   },
   "outputs": [
    {
     "data": {
      "application/vnd.jupyter.widget-view+json": {
       "model_id": "c8c4547e5bf5486ab4aa6270347fc663",
       "version_major": 2,
       "version_minor": 0
      },
      "text/plain": [
       "HBox(children=(Output(outputs=({'output_type': 'display_data', 'data': {'text/plain': '<IPython.core.display.M…"
      ]
     },
     "metadata": {},
     "output_type": "display_data"
    }
   ],
   "source": [
    "from qualtran.drawing import show_bloqs\n",
    "show_bloqs([qrom_small, qrom_multi_data, qrom_multi_dim, qrom_symb],\n",
    "           ['`qrom_small`', '`qrom_multi_data`', '`qrom_multi_dim`', '`qrom_symb`'])"
   ]
  },
  {
   "cell_type": "markdown",
   "id": "b63db87f",
   "metadata": {
    "cq.autogen": "QROM.call_graph.md"
   },
   "source": [
    "### Call Graph"
   ]
  },
  {
   "cell_type": "code",
   "execution_count": 8,
   "id": "65639e51",
   "metadata": {
    "cq.autogen": "QROM.call_graph.py"
   },
   "outputs": [
    {
     "data": {
      "image/svg+xml": [
       "<svg xmlns=\"http://www.w3.org/2000/svg\" xmlns:xlink=\"http://www.w3.org/1999/xlink\" width=\"280pt\" height=\"131pt\" viewBox=\"0.00 0.00 280.00 131.00\">\n",
       "<g id=\"graph0\" class=\"graph\" transform=\"scale(1 1) rotate(0) translate(4 127)\">\n",
       "<title>counts</title>\n",
       "<polygon fill=\"white\" stroke=\"transparent\" points=\"-4,4 -4,-127 276,-127 276,4 -4,4\"/>\n",
       "<!-- b0 -->\n",
       "<g id=\"node1\" class=\"node\">\n",
       "<title>b0</title>\n",
       "<polygon fill=\"none\" stroke=\"black\" points=\"85,-93 85,-116 185,-116 185,-93 85,-93\"/>\n",
       "<text text-anchor=\"start\" x=\"91\" y=\"-102\" font-family=\"Times,serif\" font-size=\"10.00\">QROM((5,), ((),), (3,))</text>\n",
       "</g>\n",
       "<!-- b1 -->\n",
       "<g id=\"node2\" class=\"node\">\n",
       "<title>b1</title>\n",
       "<polygon fill=\"none\" stroke=\"black\" points=\"17,-6 17,-29 37,-29 37,-6 17,-6\"/>\n",
       "<text text-anchor=\"start\" x=\"23\" y=\"-15\" font-family=\"Times,serif\" font-size=\"10.00\">X</text>\n",
       "</g>\n",
       "<!-- b0&#45;&gt;b1 -->\n",
       "<g id=\"edge1\" class=\"edge\">\n",
       "<title>b0-&gt;b1</title>\n",
       "<path fill=\"none\" stroke=\"black\" d=\"M113.14,-86.8C97.04,-74.13 74.94,-56.73 57.16,-42.74\"/>\n",
       "<polygon fill=\"black\" stroke=\"black\" points=\"58.85,-39.61 48.82,-36.18 54.52,-45.11 58.85,-39.61\"/>\n",
       "<text text-anchor=\"middle\" x=\"91.5\" y=\"-57.8\" font-family=\"Times,serif\" font-size=\"14.00\">2</text>\n",
       "</g>\n",
       "<!-- b2 -->\n",
       "<g id=\"node3\" class=\"node\">\n",
       "<title>b2</title>\n",
       "<polygon fill=\"none\" stroke=\"black\" points=\"83,-6 83,-29 115,-29 115,-6 83,-6\"/>\n",
       "<text text-anchor=\"start\" x=\"89.5\" y=\"-15\" font-family=\"Times,serif\" font-size=\"10.00\">And</text>\n",
       "</g>\n",
       "<!-- b0&#45;&gt;b2 -->\n",
       "<g id=\"edge2\" class=\"edge\">\n",
       "<title>b0-&gt;b2</title>\n",
       "<path fill=\"none\" stroke=\"black\" d=\"M127.71,-86.8C122.69,-74.93 115.91,-58.93 110.2,-45.45\"/>\n",
       "<polygon fill=\"black\" stroke=\"black\" points=\"113.4,-44.02 106.27,-36.18 106.95,-46.75 113.4,-44.02\"/>\n",
       "<text text-anchor=\"middle\" x=\"123.5\" y=\"-57.8\" font-family=\"Times,serif\" font-size=\"14.00\">3</text>\n",
       "</g>\n",
       "<!-- b3 -->\n",
       "<g id=\"node4\" class=\"node\">\n",
       "<title>b3</title>\n",
       "<polygon fill=\"none\" stroke=\"black\" points=\"152,-6 152,-29 192,-29 192,-6 152,-6\"/>\n",
       "<text text-anchor=\"start\" x=\"158\" y=\"-15\" font-family=\"Times,serif\" font-size=\"10.00\">CNOT</text>\n",
       "</g>\n",
       "<!-- b0&#45;&gt;b3 -->\n",
       "<g id=\"edge3\" class=\"edge\">\n",
       "<title>b0-&gt;b3</title>\n",
       "<path fill=\"none\" stroke=\"black\" d=\"M142.49,-86.8C147.65,-74.93 154.62,-58.93 160.49,-45.45\"/>\n",
       "<polygon fill=\"black\" stroke=\"black\" points=\"163.74,-46.74 164.52,-36.18 157.32,-43.95 163.74,-46.74\"/>\n",
       "<text text-anchor=\"middle\" x=\"158.5\" y=\"-57.8\" font-family=\"Times,serif\" font-size=\"14.00\">8</text>\n",
       "</g>\n",
       "<!-- b4 -->\n",
       "<g id=\"node5\" class=\"node\">\n",
       "<title>b4</title>\n",
       "<polygon fill=\"none\" stroke=\"black\" points=\"227,-6 227,-29 263,-29 263,-6 227,-6\"/>\n",
       "<text text-anchor=\"start\" x=\"233\" y=\"-15\" font-family=\"Times,serif\" font-size=\"10.00\">And†</text>\n",
       "</g>\n",
       "<!-- b0&#45;&gt;b4 -->\n",
       "<g id=\"edge4\" class=\"edge\">\n",
       "<title>b0-&gt;b4</title>\n",
       "<path fill=\"none\" stroke=\"black\" d=\"M157.26,-86.8C173.81,-74.01 196.58,-56.42 214.77,-42.36\"/>\n",
       "<polygon fill=\"black\" stroke=\"black\" points=\"217,-45.06 222.77,-36.18 212.72,-39.52 217,-45.06\"/>\n",
       "<text text-anchor=\"middle\" x=\"199.5\" y=\"-57.8\" font-family=\"Times,serif\" font-size=\"14.00\">3</text>\n",
       "</g>\n",
       "</g>\n",
       "</svg>"
      ],
      "text/plain": [
       "<IPython.core.display.SVG object>"
      ]
     },
     "metadata": {},
     "output_type": "display_data"
    },
    {
     "data": {
      "text/markdown": [
       "#### Counts totals:\n",
       " - `And`: 3\n",
       " - `And†`: 3\n",
       " - `CNOT`: 8\n",
       " - `X`: 2"
      ],
      "text/plain": [
       "<IPython.core.display.Markdown object>"
      ]
     },
     "metadata": {},
     "output_type": "display_data"
    }
   ],
   "source": [
    "from qualtran.resource_counting.generalizers import ignore_split_join\n",
    "qrom_small_g, qrom_small_sigma = qrom_small.call_graph(max_depth=1, generalizer=ignore_split_join)\n",
    "show_call_graph(qrom_small_g)\n",
    "show_counts_sigma(qrom_small_sigma)"
   ]
  },
  {
   "cell_type": "code",
   "execution_count": null,
   "id": "dc767f91",
   "metadata": {
    "cq.autogen": "QROMBase.bloq_doc.py"
   },
   "outputs": [],
   "source": []
  }
 ],
 "metadata": {
  "kernelspec": {
   "display_name": "Python 3 (ipykernel)",
   "language": "python",
   "name": "python3"
  },
  "language_info": {
   "codemirror_mode": {
    "name": "ipython",
    "version": 3
   },
   "file_extension": ".py",
   "mimetype": "text/x-python",
   "name": "python",
   "nbconvert_exporter": "python",
   "pygments_lexer": "ipython3",
   "version": "3.11.8"
  },
  "widgets": {
   "application/vnd.jupyter.widget-state+json": {
    "state": {
     "167f5380aabc4bf39bb1a5885b0ffa75": {
      "model_module": "@jupyter-widgets/base",
      "model_module_version": "2.0.0",
      "model_name": "LayoutModel",
      "state": {
       "_model_module": "@jupyter-widgets/base",
       "_model_module_version": "2.0.0",
       "_model_name": "LayoutModel",
       "_view_count": null,
       "_view_module": "@jupyter-widgets/base",
       "_view_module_version": "2.0.0",
       "_view_name": "LayoutView",
       "align_content": null,
       "align_items": null,
       "align_self": null,
       "border_bottom": null,
       "border_left": null,
       "border_right": null,
       "border_top": null,
       "bottom": null,
       "display": null,
       "flex": null,
       "flex_flow": null,
       "grid_area": null,
       "grid_auto_columns": null,
       "grid_auto_flow": null,
       "grid_auto_rows": null,
       "grid_column": null,
       "grid_gap": null,
       "grid_row": null,
       "grid_template_areas": null,
       "grid_template_columns": null,
       "grid_template_rows": null,
       "height": null,
       "justify_content": null,
       "justify_items": null,
       "left": null,
       "margin": null,
       "max_height": null,
       "max_width": null,
       "min_height": null,
       "min_width": null,
       "object_fit": null,
       "object_position": null,
       "order": null,
       "overflow": null,
       "padding": null,
       "right": null,
       "top": null,
       "visibility": null,
       "width": null
      }
     },
     "16a55e740d124ad89a5c5cc2d0e62586": {
      "model_module": "@jupyter-widgets/base",
      "model_module_version": "2.0.0",
      "model_name": "LayoutModel",
      "state": {
       "_model_module": "@jupyter-widgets/base",
       "_model_module_version": "2.0.0",
       "_model_name": "LayoutModel",
       "_view_count": null,
       "_view_module": "@jupyter-widgets/base",
       "_view_module_version": "2.0.0",
       "_view_name": "LayoutView",
       "align_content": null,
       "align_items": null,
       "align_self": null,
       "border_bottom": null,
       "border_left": null,
       "border_right": null,
       "border_top": null,
       "bottom": null,
       "display": null,
       "flex": null,
       "flex_flow": null,
       "grid_area": null,
       "grid_auto_columns": null,
       "grid_auto_flow": null,
       "grid_auto_rows": null,
       "grid_column": null,
       "grid_gap": null,
       "grid_row": null,
       "grid_template_areas": null,
       "grid_template_columns": null,
       "grid_template_rows": null,
       "height": null,
       "justify_content": null,
       "justify_items": null,
       "left": null,
       "margin": null,
       "max_height": null,
       "max_width": null,
       "min_height": null,
       "min_width": null,
       "object_fit": null,
       "object_position": null,
       "order": null,
       "overflow": null,
       "padding": null,
       "right": null,
       "top": null,
       "visibility": null,
       "width": null
      }
     },
     "18e77500c96c4902b615497210f80aaa": {
      "model_module": "@jupyter-widgets/output",
      "model_module_version": "1.0.0",
      "model_name": "OutputModel",
      "state": {
       "_dom_classes": [],
       "_model_module": "@jupyter-widgets/output",
       "_model_module_version": "1.0.0",
       "_model_name": "OutputModel",
       "_view_count": null,
       "_view_module": "@jupyter-widgets/output",
       "_view_module_version": "1.0.0",
       "_view_name": "OutputView",
       "layout": "IPY_MODEL_167f5380aabc4bf39bb1a5885b0ffa75",
       "msg_id": "",
       "outputs": [
        {
         "data": {
          "text/markdown": "`qrom_multi_dim`",
          "text/plain": "<IPython.core.display.Markdown object>"
         },
         "metadata": {},
         "output_type": "display_data"
        },
        {
         "data": {
          "image/svg+xml": "<svg xmlns=\"http://www.w3.org/2000/svg\" xmlns:xlink=\"http://www.w3.org/1999/xlink\" width=\"341pt\" height=\"206pt\" viewBox=\"0.00 0.00 341.00 206.00\">\n<g id=\"graph0\" class=\"graph\" transform=\"scale(1 1) rotate(0) translate(4 202)\">\n<title>my_graph</title>\n<polygon fill=\"white\" stroke=\"transparent\" points=\"-4,4 -4,-202 337,-202 337,4 -4,4\"/>\n<!-- selection0_G3 -->\n<g id=\"node1\" class=\"node\">\n<title>selection0_G3</title>\n<text text-anchor=\"middle\" x=\"35.5\" y=\"-176.3\" font-family=\"Times,serif\" font-size=\"14.00\">selection0</text>\n</g>\n<!-- QROM -->\n<g id=\"node5\" class=\"node\">\n<title>QROM</title>\n<polygon fill=\"none\" stroke=\"black\" points=\"108.5,-141 108.5,-158 225.5,-158 225.5,-141 108.5,-141\"/>\n<text text-anchor=\"start\" x=\"111.5\" y=\"-147\" font-family=\"Times,serif\" font-size=\"10.00\">QROM((3, 3), ((), ()), (8, 8))</text>\n<polygon fill=\"none\" stroke=\"black\" points=\"108.5,-120 108.5,-141 225.5,-141 225.5,-120 108.5,-120\"/>\n<text text-anchor=\"start\" x=\"139.5\" y=\"-126.8\" font-family=\"Times,serif\" font-size=\"14.00\">selection0</text>\n<polygon fill=\"none\" stroke=\"black\" points=\"108.5,-99 108.5,-120 225.5,-120 225.5,-99 108.5,-99\"/>\n<text text-anchor=\"start\" x=\"139.5\" y=\"-105.8\" font-family=\"Times,serif\" font-size=\"14.00\">selection1</text>\n<polygon fill=\"none\" stroke=\"black\" points=\"108.5,-78 108.5,-99 225.5,-99 225.5,-78 108.5,-78\"/>\n<text text-anchor=\"start\" x=\"144.5\" y=\"-84.8\" font-family=\"Times,serif\" font-size=\"14.00\">target0_</text>\n<polygon fill=\"none\" stroke=\"black\" points=\"108.5,-57 108.5,-78 225.5,-78 225.5,-57 108.5,-57\"/>\n<text text-anchor=\"start\" x=\"144.5\" y=\"-63.8\" font-family=\"Times,serif\" font-size=\"14.00\">target1_</text>\n</g>\n<!-- selection0_G3&#45;&gt;QROM -->\n<g id=\"edge1\" class=\"edge\">\n<title>selection0_G3:e-&gt;QROM:w</title>\n<path fill=\"none\" stroke=\"black\" d=\"M71,-180C97.54,-180 81.64,-133.64 105.86,-131.11\"/>\n<ellipse fill=\"black\" stroke=\"black\" cx=\"107\" cy=\"-131.05\" rx=\"1\" ry=\"1\"/>\n<text text-anchor=\"middle\" x=\"89.5\" y=\"-159\" font-family=\"Times,serif\" font-size=\"10.00\">2</text>\n</g>\n<!-- selection1_G8 -->\n<g id=\"node2\" class=\"node\">\n<title>selection1_G8</title>\n<text text-anchor=\"middle\" x=\"35.5\" y=\"-122.3\" font-family=\"Times,serif\" font-size=\"14.00\">selection1</text>\n</g>\n<!-- selection1_G8&#45;&gt;QROM -->\n<g id=\"edge2\" class=\"edge\">\n<title>selection1_G8:e-&gt;QROM:w</title>\n<path fill=\"none\" stroke=\"black\" d=\"M71,-126C88.22,-126 89.97,-111.23 105.98,-110.07\"/>\n<ellipse fill=\"black\" stroke=\"black\" cx=\"107\" cy=\"-110.04\" rx=\"1\" ry=\"1\"/>\n<text text-anchor=\"middle\" x=\"89.5\" y=\"-121\" font-family=\"Times,serif\" font-size=\"10.00\">2</text>\n</g>\n<!-- target0__G0 -->\n<g id=\"node3\" class=\"node\">\n<title>target0__G0</title>\n<text text-anchor=\"middle\" x=\"35.5\" y=\"-68.3\" font-family=\"Times,serif\" font-size=\"14.00\">target0_</text>\n</g>\n<!-- target0__G0&#45;&gt;QROM -->\n<g id=\"edge3\" class=\"edge\">\n<title>target0__G0:e-&gt;QROM:w</title>\n<path fill=\"none\" stroke=\"black\" d=\"M67.5,-72C86.1,-72 88.48,-86.77 105.81,-87.93\"/>\n<ellipse fill=\"black\" stroke=\"black\" cx=\"107\" cy=\"-87.97\" rx=\"1\" ry=\"1\"/>\n<text text-anchor=\"middle\" x=\"89.5\" y=\"-84\" font-family=\"Times,serif\" font-size=\"10.00\">8</text>\n</g>\n<!-- target1__G11 -->\n<g id=\"node4\" class=\"node\">\n<title>target1__G11</title>\n<text text-anchor=\"middle\" x=\"35.5\" y=\"-14.3\" font-family=\"Times,serif\" font-size=\"14.00\">target1_</text>\n</g>\n<!-- target1__G11&#45;&gt;QROM -->\n<g id=\"edge4\" class=\"edge\">\n<title>target1__G11:e-&gt;QROM:w</title>\n<path fill=\"none\" stroke=\"black\" d=\"M67.5,-18C94.98,-18 80.59,-64.36 105.78,-66.89\"/>\n<ellipse fill=\"black\" stroke=\"black\" cx=\"107\" cy=\"-66.95\" rx=\"1\" ry=\"1\"/>\n<text text-anchor=\"middle\" x=\"89.5\" y=\"-53\" font-family=\"Times,serif\" font-size=\"10.00\">8</text>\n</g>\n<!-- selection0_G6 -->\n<g id=\"node6\" class=\"node\">\n<title>selection0_G6</title>\n<text text-anchor=\"middle\" x=\"297.5\" y=\"-176.3\" font-family=\"Times,serif\" font-size=\"14.00\">selection0</text>\n</g>\n<!-- QROM&#45;&gt;selection0_G6 -->\n<g id=\"edge5\" class=\"edge\">\n<title>QROM:e-&gt;selection0_G6:w</title>\n<path fill=\"none\" stroke=\"black\" d=\"M225,-131C251.54,-131 235.64,-177.36 259.86,-179.89\"/>\n<ellipse fill=\"black\" stroke=\"black\" cx=\"261\" cy=\"-179.95\" rx=\"1\" ry=\"1\"/>\n<text text-anchor=\"middle\" x=\"243.5\" y=\"-159\" font-family=\"Times,serif\" font-size=\"10.00\">2</text>\n</g>\n<!-- selection1_G9 -->\n<g id=\"node7\" class=\"node\">\n<title>selection1_G9</title>\n<text text-anchor=\"middle\" x=\"297.5\" y=\"-122.3\" font-family=\"Times,serif\" font-size=\"14.00\">selection1</text>\n</g>\n<!-- QROM&#45;&gt;selection1_G9 -->\n<g id=\"edge6\" class=\"edge\">\n<title>QROM:e-&gt;selection1_G9:w</title>\n<path fill=\"none\" stroke=\"black\" d=\"M225,-110C242.22,-110 243.97,-124.77 259.98,-125.93\"/>\n<ellipse fill=\"black\" stroke=\"black\" cx=\"261\" cy=\"-125.96\" rx=\"1\" ry=\"1\"/>\n<text text-anchor=\"middle\" x=\"243.5\" y=\"-121\" font-family=\"Times,serif\" font-size=\"10.00\">2</text>\n</g>\n<!-- target0__G1 -->\n<g id=\"node8\" class=\"node\">\n<title>target0__G1</title>\n<text text-anchor=\"middle\" x=\"297.5\" y=\"-68.3\" font-family=\"Times,serif\" font-size=\"14.00\">target0_</text>\n</g>\n<!-- QROM&#45;&gt;target0__G1 -->\n<g id=\"edge7\" class=\"edge\">\n<title>QROM:e-&gt;target0__G1:w</title>\n<path fill=\"none\" stroke=\"black\" d=\"M225,-88C243.6,-88 245.98,-73.23 263.31,-72.07\"/>\n<ellipse fill=\"black\" stroke=\"black\" cx=\"264.5\" cy=\"-72.03\" rx=\"1\" ry=\"1\"/>\n<text text-anchor=\"middle\" x=\"243.5\" y=\"-84\" font-family=\"Times,serif\" font-size=\"10.00\">8</text>\n</g>\n<!-- target1__G10 -->\n<g id=\"node9\" class=\"node\">\n<title>target1__G10</title>\n<text text-anchor=\"middle\" x=\"297.5\" y=\"-14.3\" font-family=\"Times,serif\" font-size=\"14.00\">target1_</text>\n</g>\n<!-- QROM&#45;&gt;target1__G10 -->\n<g id=\"edge8\" class=\"edge\">\n<title>QROM:e-&gt;target1__G10:w</title>\n<path fill=\"none\" stroke=\"black\" d=\"M225,-67C252.48,-67 238.09,-20.64 263.28,-18.11\"/>\n<ellipse fill=\"black\" stroke=\"black\" cx=\"264.5\" cy=\"-18.05\" rx=\"1\" ry=\"1\"/>\n<text text-anchor=\"middle\" x=\"243.5\" y=\"-53\" font-family=\"Times,serif\" font-size=\"10.00\">8</text>\n</g>\n</g>\n</svg>",
          "text/plain": "<IPython.core.display.SVG object>"
         },
         "metadata": {},
         "output_type": "display_data"
        }
       ],
       "tabbable": null,
       "tooltip": null
      }
     },
     "21785d77db18476aaf24246e4a6f4924": {
      "model_module": "@jupyter-widgets/output",
      "model_module_version": "1.0.0",
      "model_name": "OutputModel",
      "state": {
       "_dom_classes": [],
       "_model_module": "@jupyter-widgets/output",
       "_model_module_version": "1.0.0",
       "_model_name": "OutputModel",
       "_view_count": null,
       "_view_module": "@jupyter-widgets/output",
       "_view_module_version": "1.0.0",
       "_view_name": "OutputView",
       "layout": "IPY_MODEL_d0d3b8c4c218404e8bfdc753561de3cf",
       "msg_id": "",
       "outputs": [
        {
         "data": {
          "text/markdown": "`qrom_multi_data`",
          "text/plain": "<IPython.core.display.Markdown object>"
         },
         "metadata": {},
         "output_type": "display_data"
        },
        {
         "data": {
          "image/svg+xml": "<svg xmlns=\"http://www.w3.org/2000/svg\" xmlns:xlink=\"http://www.w3.org/1999/xlink\" width=\"321pt\" height=\"152pt\" viewBox=\"0.00 0.00 321.00 152.00\">\n<g id=\"graph0\" class=\"graph\" transform=\"scale(1 1) rotate(0) translate(4 148)\">\n<title>my_graph</title>\n<polygon fill=\"white\" stroke=\"transparent\" points=\"-4,4 -4,-148 317,-148 317,4 -4,4\"/>\n<!-- selection_G3 -->\n<g id=\"node1\" class=\"node\">\n<title>selection_G3</title>\n<text text-anchor=\"middle\" x=\"32.5\" y=\"-122.3\" font-family=\"Times,serif\" font-size=\"14.00\">selection</text>\n</g>\n<!-- QROM -->\n<g id=\"node4\" class=\"node\">\n<title>QROM</title>\n<polygon fill=\"none\" stroke=\"black\" points=\"102.5,-104 102.5,-121 211.5,-121 211.5,-104 102.5,-104\"/>\n<text text-anchor=\"start\" x=\"105.5\" y=\"-110\" font-family=\"Times,serif\" font-size=\"10.00\">QROM((5,), ((), ()), (3, 4))</text>\n<polygon fill=\"none\" stroke=\"black\" points=\"102.5,-83 102.5,-104 211.5,-104 211.5,-83 102.5,-83\"/>\n<text text-anchor=\"start\" x=\"132.5\" y=\"-89.8\" font-family=\"Times,serif\" font-size=\"14.00\">selection</text>\n<polygon fill=\"none\" stroke=\"black\" points=\"102.5,-62 102.5,-83 211.5,-83 211.5,-62 102.5,-62\"/>\n<text text-anchor=\"start\" x=\"134.5\" y=\"-68.8\" font-family=\"Times,serif\" font-size=\"14.00\">target0_</text>\n<polygon fill=\"none\" stroke=\"black\" points=\"102.5,-41 102.5,-62 211.5,-62 211.5,-41 102.5,-41\"/>\n<text text-anchor=\"start\" x=\"134.5\" y=\"-47.8\" font-family=\"Times,serif\" font-size=\"14.00\">target1_</text>\n</g>\n<!-- selection_G3&#45;&gt;QROM -->\n<g id=\"edge1\" class=\"edge\">\n<title>selection_G3:e-&gt;QROM:w</title>\n<path fill=\"none\" stroke=\"black\" d=\"M65,-126C85.89,-126 80.72,-96.45 99.58,-94.14\"/>\n<ellipse fill=\"black\" stroke=\"black\" cx=\"101\" cy=\"-94.06\" rx=\"1\" ry=\"1\"/>\n<text text-anchor=\"middle\" x=\"83.5\" y=\"-113\" font-family=\"Times,serif\" font-size=\"10.00\">3</text>\n</g>\n<!-- target0__G8 -->\n<g id=\"node2\" class=\"node\">\n<title>target0__G8</title>\n<text text-anchor=\"middle\" x=\"32.5\" y=\"-68.3\" font-family=\"Times,serif\" font-size=\"14.00\">target0_</text>\n</g>\n<!-- target0__G8&#45;&gt;QROM -->\n<g id=\"edge2\" class=\"edge\">\n<title>target0__G8:e-&gt;QROM:w</title>\n<path fill=\"none\" stroke=\"black\" d=\"M64.5,-72C80.39,-72 84.92,-72 99.74,-72\"/>\n<ellipse fill=\"black\" stroke=\"black\" cx=\"101\" cy=\"-72\" rx=\"1\" ry=\"1\"/>\n<text text-anchor=\"middle\" x=\"83.5\" y=\"-75\" font-family=\"Times,serif\" font-size=\"10.00\">3</text>\n</g>\n<!-- target1__G0 -->\n<g id=\"node3\" class=\"node\">\n<title>target1__G0</title>\n<text text-anchor=\"middle\" x=\"32.5\" y=\"-14.3\" font-family=\"Times,serif\" font-size=\"14.00\">target1_</text>\n</g>\n<!-- target1__G0&#45;&gt;QROM -->\n<g id=\"edge3\" class=\"edge\">\n<title>target1__G0:e-&gt;QROM:w</title>\n<path fill=\"none\" stroke=\"black\" d=\"M64.5,-18C86.01,-18 80.2,-48.97 100,-50.91\"/>\n<ellipse fill=\"black\" stroke=\"black\" cx=\"101\" cy=\"-50.95\" rx=\"1\" ry=\"1\"/>\n<text text-anchor=\"middle\" x=\"83.5\" y=\"-39\" font-family=\"Times,serif\" font-size=\"10.00\">4</text>\n</g>\n<!-- selection_G4 -->\n<g id=\"node5\" class=\"node\">\n<title>selection_G4</title>\n<text text-anchor=\"middle\" x=\"280.5\" y=\"-122.3\" font-family=\"Times,serif\" font-size=\"14.00\">selection</text>\n</g>\n<!-- QROM&#45;&gt;selection_G4 -->\n<g id=\"edge4\" class=\"edge\">\n<title>QROM:e-&gt;selection_G4:w</title>\n<path fill=\"none\" stroke=\"black\" d=\"M211,-94C231.89,-94 226.72,-123.55 245.58,-125.86\"/>\n<ellipse fill=\"black\" stroke=\"black\" cx=\"247\" cy=\"-125.94\" rx=\"1\" ry=\"1\"/>\n<text text-anchor=\"middle\" x=\"229.5\" y=\"-113\" font-family=\"Times,serif\" font-size=\"10.00\">3</text>\n</g>\n<!-- target0__G2 -->\n<g id=\"node6\" class=\"node\">\n<title>target0__G2</title>\n<text text-anchor=\"middle\" x=\"280.5\" y=\"-68.3\" font-family=\"Times,serif\" font-size=\"14.00\">target0_</text>\n</g>\n<!-- QROM&#45;&gt;target0__G2 -->\n<g id=\"edge5\" class=\"edge\">\n<title>QROM:e-&gt;target0__G2:w</title>\n<path fill=\"none\" stroke=\"black\" d=\"M211,-72C226.89,-72 231.42,-72 246.24,-72\"/>\n<ellipse fill=\"black\" stroke=\"black\" cx=\"247.5\" cy=\"-72\" rx=\"1\" ry=\"1\"/>\n<text text-anchor=\"middle\" x=\"229.5\" y=\"-75\" font-family=\"Times,serif\" font-size=\"10.00\">3</text>\n</g>\n<!-- target1__G1 -->\n<g id=\"node7\" class=\"node\">\n<title>target1__G1</title>\n<text text-anchor=\"middle\" x=\"280.5\" y=\"-14.3\" font-family=\"Times,serif\" font-size=\"14.00\">target1_</text>\n</g>\n<!-- QROM&#45;&gt;target1__G1 -->\n<g id=\"edge6\" class=\"edge\">\n<title>QROM:e-&gt;target1__G1:w</title>\n<path fill=\"none\" stroke=\"black\" d=\"M211,-51C232.51,-51 226.7,-20.03 246.5,-18.09\"/>\n<ellipse fill=\"black\" stroke=\"black\" cx=\"247.5\" cy=\"-18.05\" rx=\"1\" ry=\"1\"/>\n<text text-anchor=\"middle\" x=\"229.5\" y=\"-39\" font-family=\"Times,serif\" font-size=\"10.00\">4</text>\n</g>\n</g>\n</svg>",
          "text/plain": "<IPython.core.display.SVG object>"
         },
         "metadata": {},
         "output_type": "display_data"
        }
       ],
       "tabbable": null,
       "tooltip": null
      }
     },
     "33d19763ae744629a712a5f354b5ebf7": {
      "model_module": "@jupyter-widgets/base",
      "model_module_version": "2.0.0",
      "model_name": "LayoutModel",
      "state": {
       "_model_module": "@jupyter-widgets/base",
       "_model_module_version": "2.0.0",
       "_model_name": "LayoutModel",
       "_view_count": null,
       "_view_module": "@jupyter-widgets/base",
       "_view_module_version": "2.0.0",
       "_view_name": "LayoutView",
       "align_content": null,
       "align_items": null,
       "align_self": null,
       "border_bottom": null,
       "border_left": null,
       "border_right": null,
       "border_top": null,
       "bottom": null,
       "display": null,
       "flex": null,
       "flex_flow": null,
       "grid_area": null,
       "grid_auto_columns": null,
       "grid_auto_flow": null,
       "grid_auto_rows": null,
       "grid_column": null,
       "grid_gap": null,
       "grid_row": null,
       "grid_template_areas": null,
       "grid_template_columns": null,
       "grid_template_rows": null,
       "height": null,
       "justify_content": null,
       "justify_items": null,
       "left": null,
       "margin": null,
       "max_height": null,
       "max_width": null,
       "min_height": null,
       "min_width": null,
       "object_fit": null,
       "object_position": null,
       "order": null,
       "overflow": null,
       "padding": null,
       "right": null,
       "top": null,
       "visibility": null,
       "width": null
      }
     },
     "a6d4a9a3f0d94f4fab79e7dfebde1304": {
      "model_module": "@jupyter-widgets/base",
      "model_module_version": "2.0.0",
      "model_name": "LayoutModel",
      "state": {
       "_model_module": "@jupyter-widgets/base",
       "_model_module_version": "2.0.0",
       "_model_name": "LayoutModel",
       "_view_count": null,
       "_view_module": "@jupyter-widgets/base",
       "_view_module_version": "2.0.0",
       "_view_name": "LayoutView",
       "align_content": null,
       "align_items": null,
       "align_self": null,
       "border_bottom": null,
       "border_left": null,
       "border_right": null,
       "border_top": null,
       "bottom": null,
       "display": null,
       "flex": null,
       "flex_flow": null,
       "grid_area": null,
       "grid_auto_columns": null,
       "grid_auto_flow": null,
       "grid_auto_rows": null,
       "grid_column": null,
       "grid_gap": null,
       "grid_row": null,
       "grid_template_areas": null,
       "grid_template_columns": null,
       "grid_template_rows": null,
       "height": null,
       "justify_content": null,
       "justify_items": null,
       "left": null,
       "margin": null,
       "max_height": null,
       "max_width": null,
       "min_height": null,
       "min_width": null,
       "object_fit": null,
       "object_position": null,
       "order": null,
       "overflow": null,
       "padding": null,
       "right": null,
       "top": null,
       "visibility": null,
       "width": null
      }
     },
     "a8ad115e721f415e92385ea304e85466": {
      "model_module": "@jupyter-widgets/output",
      "model_module_version": "1.0.0",
      "model_name": "OutputModel",
      "state": {
       "_dom_classes": [],
       "_model_module": "@jupyter-widgets/output",
       "_model_module_version": "1.0.0",
       "_model_name": "OutputModel",
       "_view_count": null,
       "_view_module": "@jupyter-widgets/output",
       "_view_module_version": "1.0.0",
       "_view_name": "OutputView",
       "layout": "IPY_MODEL_16a55e740d124ad89a5c5cc2d0e62586",
       "msg_id": "",
       "outputs": [
        {
         "data": {
          "text/markdown": "`qrom_small`",
          "text/plain": "<IPython.core.display.Markdown object>"
         },
         "metadata": {},
         "output_type": "display_data"
        },
        {
         "data": {
          "image/svg+xml": "<svg xmlns=\"http://www.w3.org/2000/svg\" xmlns:xlink=\"http://www.w3.org/1999/xlink\" width=\"306pt\" height=\"98pt\" viewBox=\"0.00 0.00 306.00 98.00\">\n<g id=\"graph0\" class=\"graph\" transform=\"scale(1 1) rotate(0) translate(4 94)\">\n<title>my_graph</title>\n<polygon fill=\"white\" stroke=\"transparent\" points=\"-4,4 -4,-94 302,-94 302,4 -4,4\"/>\n<!-- selection_G5 -->\n<g id=\"node1\" class=\"node\">\n<title>selection_G5</title>\n<text text-anchor=\"middle\" x=\"32.5\" y=\"-68.3\" font-family=\"Times,serif\" font-size=\"14.00\">selection</text>\n</g>\n<!-- QROM -->\n<g id=\"node3\" class=\"node\">\n<title>QROM</title>\n<polygon fill=\"none\" stroke=\"black\" points=\"102,-66 102,-83 196,-83 196,-66 102,-66\"/>\n<text text-anchor=\"start\" x=\"105\" y=\"-72\" font-family=\"Times,serif\" font-size=\"10.00\">QROM((5,), ((),), (3,))</text>\n<polygon fill=\"none\" stroke=\"black\" points=\"102,-45 102,-66 196,-66 196,-45 102,-45\"/>\n<text text-anchor=\"start\" x=\"124.5\" y=\"-51.8\" font-family=\"Times,serif\" font-size=\"14.00\">selection</text>\n<polygon fill=\"none\" stroke=\"black\" points=\"102,-24 102,-45 196,-45 196,-24 102,-24\"/>\n<text text-anchor=\"start\" x=\"126.5\" y=\"-30.8\" font-family=\"Times,serif\" font-size=\"14.00\">target0_</text>\n</g>\n<!-- selection_G5&#45;&gt;QROM -->\n<g id=\"edge1\" class=\"edge\">\n<title>selection_G5:e-&gt;QROM:w</title>\n<path fill=\"none\" stroke=\"black\" d=\"M65,-72C82.22,-72 83.97,-57.23 99.98,-56.07\"/>\n<ellipse fill=\"black\" stroke=\"black\" cx=\"101\" cy=\"-56.04\" rx=\"1\" ry=\"1\"/>\n<text text-anchor=\"middle\" x=\"83.5\" y=\"-67\" font-family=\"Times,serif\" font-size=\"10.00\">3</text>\n</g>\n<!-- target0__G3 -->\n<g id=\"node2\" class=\"node\">\n<title>target0__G3</title>\n<text text-anchor=\"middle\" x=\"32.5\" y=\"-14.3\" font-family=\"Times,serif\" font-size=\"14.00\">target0_</text>\n</g>\n<!-- target0__G3&#45;&gt;QROM -->\n<g id=\"edge2\" class=\"edge\">\n<title>target0__G3:e-&gt;QROM:w</title>\n<path fill=\"none\" stroke=\"black\" d=\"M64.5,-18C81.91,-18 83.76,-32.77 99.95,-33.93\"/>\n<ellipse fill=\"black\" stroke=\"black\" cx=\"101\" cy=\"-33.97\" rx=\"1\" ry=\"1\"/>\n<text text-anchor=\"middle\" x=\"83.5\" y=\"-30\" font-family=\"Times,serif\" font-size=\"10.00\">3</text>\n</g>\n<!-- selection_G0 -->\n<g id=\"node4\" class=\"node\">\n<title>selection_G0</title>\n<text text-anchor=\"middle\" x=\"265.5\" y=\"-68.3\" font-family=\"Times,serif\" font-size=\"14.00\">selection</text>\n</g>\n<!-- QROM&#45;&gt;selection_G0 -->\n<g id=\"edge3\" class=\"edge\">\n<title>QROM:e-&gt;selection_G0:w</title>\n<path fill=\"none\" stroke=\"black\" d=\"M196,-56C213.22,-56 214.97,-70.77 230.98,-71.93\"/>\n<ellipse fill=\"black\" stroke=\"black\" cx=\"232\" cy=\"-71.96\" rx=\"1\" ry=\"1\"/>\n<text text-anchor=\"middle\" x=\"214.5\" y=\"-67\" font-family=\"Times,serif\" font-size=\"10.00\">3</text>\n</g>\n<!-- target0__G4 -->\n<g id=\"node5\" class=\"node\">\n<title>target0__G4</title>\n<text text-anchor=\"middle\" x=\"265.5\" y=\"-14.3\" font-family=\"Times,serif\" font-size=\"14.00\">target0_</text>\n</g>\n<!-- QROM&#45;&gt;target0__G4 -->\n<g id=\"edge4\" class=\"edge\">\n<title>QROM:e-&gt;target0__G4:w</title>\n<path fill=\"none\" stroke=\"black\" d=\"M196,-34C213.41,-34 215.26,-19.23 231.45,-18.07\"/>\n<ellipse fill=\"black\" stroke=\"black\" cx=\"232.5\" cy=\"-18.03\" rx=\"1\" ry=\"1\"/>\n<text text-anchor=\"middle\" x=\"214.5\" y=\"-30\" font-family=\"Times,serif\" font-size=\"10.00\">3</text>\n</g>\n</g>\n</svg>",
          "text/plain": "<IPython.core.display.SVG object>"
         },
         "metadata": {},
         "output_type": "display_data"
        }
       ],
       "tabbable": null,
       "tooltip": null
      }
     },
     "b6e607098925455f98863a691f7a5f26": {
      "model_module": "@jupyter-widgets/output",
      "model_module_version": "1.0.0",
      "model_name": "OutputModel",
      "state": {
       "_dom_classes": [],
       "_model_module": "@jupyter-widgets/output",
       "_model_module_version": "1.0.0",
       "_model_name": "OutputModel",
       "_view_count": null,
       "_view_module": "@jupyter-widgets/output",
       "_view_module_version": "1.0.0",
       "_view_name": "OutputView",
       "layout": "IPY_MODEL_33d19763ae744629a712a5f354b5ebf7",
       "msg_id": "",
       "outputs": [
        {
         "data": {
          "text/markdown": "`qrom_symb`",
          "text/plain": "<IPython.core.display.Markdown object>"
         },
         "metadata": {},
         "output_type": "display_data"
        },
        {
         "data": {
          "image/svg+xml": "<svg xmlns=\"http://www.w3.org/2000/svg\" xmlns:xlink=\"http://www.w3.org/1999/xlink\" width=\"357pt\" height=\"260pt\" viewBox=\"0.00 0.00 357.00 260.00\">\n<g id=\"graph0\" class=\"graph\" transform=\"scale(1 1) rotate(0) translate(4 256)\">\n<title>my_graph</title>\n<polygon fill=\"white\" stroke=\"transparent\" points=\"-4,4 -4,-256 353,-256 353,4 -4,4\"/>\n<!-- control_G3 -->\n<g id=\"node1\" class=\"node\">\n<title>control_G3</title>\n<text text-anchor=\"middle\" x=\"35.5\" y=\"-230.3\" font-family=\"Times,serif\" font-size=\"14.00\">control</text>\n</g>\n<!-- QROM -->\n<g id=\"node6\" class=\"node\">\n<title>QROM</title>\n<polygon fill=\"none\" stroke=\"black\" points=\"108.5,-179 108.5,-196 241.5,-196 241.5,-179 108.5,-179\"/>\n<text text-anchor=\"start\" x=\"111.5\" y=\"-185\" font-family=\"Times,serif\" font-size=\"10.00\">QROM((N, M), ((), ()), (b1, b2))</text>\n<polygon fill=\"none\" stroke=\"black\" points=\"108.5,-158 108.5,-179 241.5,-179 241.5,-158 108.5,-158\"/>\n<text text-anchor=\"start\" x=\"155.5\" y=\"-164.8\" font-family=\"Times,serif\" font-size=\"14.00\">control</text>\n<polygon fill=\"none\" stroke=\"black\" points=\"108.5,-137 108.5,-158 241.5,-158 241.5,-137 108.5,-137\"/>\n<text text-anchor=\"start\" x=\"147.5\" y=\"-143.8\" font-family=\"Times,serif\" font-size=\"14.00\">selection0</text>\n<polygon fill=\"none\" stroke=\"black\" points=\"108.5,-116 108.5,-137 241.5,-137 241.5,-116 108.5,-116\"/>\n<text text-anchor=\"start\" x=\"147.5\" y=\"-122.8\" font-family=\"Times,serif\" font-size=\"14.00\">selection1</text>\n<polygon fill=\"none\" stroke=\"black\" points=\"108.5,-95 108.5,-116 241.5,-116 241.5,-95 108.5,-95\"/>\n<text text-anchor=\"start\" x=\"152.5\" y=\"-101.8\" font-family=\"Times,serif\" font-size=\"14.00\">target0_</text>\n<polygon fill=\"none\" stroke=\"black\" points=\"108.5,-74 108.5,-95 241.5,-95 241.5,-74 108.5,-74\"/>\n<text text-anchor=\"start\" x=\"152.5\" y=\"-80.8\" font-family=\"Times,serif\" font-size=\"14.00\">target1_</text>\n</g>\n<!-- control_G3&#45;&gt;QROM -->\n<g id=\"edge1\" class=\"edge\">\n<title>control_G3:e-&gt;QROM:w</title>\n<path fill=\"none\" stroke=\"black\" d=\"M64.5,-234C98.45,-234 74.43,-172.01 105.65,-169.11\"/>\n<ellipse fill=\"black\" stroke=\"black\" cx=\"107\" cy=\"-169.04\" rx=\"1\" ry=\"1\"/>\n<text text-anchor=\"middle\" x=\"89.5\" y=\"-187\" font-family=\"Times,serif\" font-size=\"10.00\">c</text>\n</g>\n<!-- selection0_G9 -->\n<g id=\"node2\" class=\"node\">\n<title>selection0_G9</title>\n<text text-anchor=\"middle\" x=\"35.5\" y=\"-176.3\" font-family=\"Times,serif\" font-size=\"14.00\">selection0</text>\n</g>\n<!-- selection0_G9&#45;&gt;QROM -->\n<g id=\"edge2\" class=\"edge\">\n<title>selection0_G9:e-&gt;QROM:w</title>\n<path fill=\"none\" stroke=\"black\" d=\"M71,-180C91.89,-180 86.72,-150.45 105.58,-148.14\"/>\n<ellipse fill=\"black\" stroke=\"black\" cx=\"107\" cy=\"-148.06\" rx=\"1\" ry=\"1\"/>\n<text text-anchor=\"middle\" x=\"89.5\" y=\"-167\" font-family=\"Times,serif\" font-size=\"10.00\">ceiling(log2(floor(N)))</text>\n</g>\n<!-- selection1_G10 -->\n<g id=\"node3\" class=\"node\">\n<title>selection1_G10</title>\n<text text-anchor=\"middle\" x=\"35.5\" y=\"-122.3\" font-family=\"Times,serif\" font-size=\"14.00\">selection1</text>\n</g>\n<!-- selection1_G10&#45;&gt;QROM -->\n<g id=\"edge3\" class=\"edge\">\n<title>selection1_G10:e-&gt;QROM:w</title>\n<path fill=\"none\" stroke=\"black\" d=\"M71,-126C86.67,-126 91.14,-126 105.77,-126\"/>\n<ellipse fill=\"black\" stroke=\"black\" cx=\"107\" cy=\"-126\" rx=\"1\" ry=\"1\"/>\n<text text-anchor=\"middle\" x=\"89.5\" y=\"-129\" font-family=\"Times,serif\" font-size=\"10.00\">ceiling(log2(floor(M)))</text>\n</g>\n<!-- target0__G14 -->\n<g id=\"node4\" class=\"node\">\n<title>target0__G14</title>\n<text text-anchor=\"middle\" x=\"35.5\" y=\"-68.3\" font-family=\"Times,serif\" font-size=\"14.00\">target0_</text>\n</g>\n<!-- target0__G14&#45;&gt;QROM -->\n<g id=\"edge4\" class=\"edge\">\n<title>target0__G14:e-&gt;QROM:w</title>\n<path fill=\"none\" stroke=\"black\" d=\"M67.5,-72C89.99,-72 85.12,-102.97 105.91,-104.91\"/>\n<ellipse fill=\"black\" stroke=\"black\" cx=\"107\" cy=\"-104.95\" rx=\"1\" ry=\"1\"/>\n<text text-anchor=\"middle\" x=\"89.5\" y=\"-95\" font-family=\"Times,serif\" font-size=\"10.00\">b1</text>\n</g>\n<!-- target1__G11 -->\n<g id=\"node5\" class=\"node\">\n<title>target1__G11</title>\n<text text-anchor=\"middle\" x=\"35.5\" y=\"-14.3\" font-family=\"Times,serif\" font-size=\"14.00\">target1_</text>\n</g>\n<!-- target1__G11&#45;&gt;QROM -->\n<g id=\"edge5\" class=\"edge\">\n<title>target1__G11:e-&gt;QROM:w</title>\n<path fill=\"none\" stroke=\"black\" d=\"M67.5,-18C101.11,-18 74.88,-80.94 105.68,-83.89\"/>\n<ellipse fill=\"black\" stroke=\"black\" cx=\"107\" cy=\"-83.95\" rx=\"1\" ry=\"1\"/>\n<text text-anchor=\"middle\" x=\"89.5\" y=\"-70\" font-family=\"Times,serif\" font-size=\"10.00\">b2</text>\n</g>\n<!-- control_G4 -->\n<g id=\"node7\" class=\"node\">\n<title>control_G4</title>\n<text text-anchor=\"middle\" x=\"313.5\" y=\"-230.3\" font-family=\"Times,serif\" font-size=\"14.00\">control</text>\n</g>\n<!-- QROM&#45;&gt;control_G4 -->\n<g id=\"edge6\" class=\"edge\">\n<title>QROM:e-&gt;control_G4:w</title>\n<path fill=\"none\" stroke=\"black\" d=\"M241,-169C274.95,-169 250.93,-230.99 282.15,-233.89\"/>\n<ellipse fill=\"black\" stroke=\"black\" cx=\"283.5\" cy=\"-233.96\" rx=\"1\" ry=\"1\"/>\n<text text-anchor=\"middle\" x=\"259.5\" y=\"-187\" font-family=\"Times,serif\" font-size=\"10.00\">c</text>\n</g>\n<!-- selection0_G13 -->\n<g id=\"node8\" class=\"node\">\n<title>selection0_G13</title>\n<text text-anchor=\"middle\" x=\"313.5\" y=\"-176.3\" font-family=\"Times,serif\" font-size=\"14.00\">selection0</text>\n</g>\n<!-- QROM&#45;&gt;selection0_G13 -->\n<g id=\"edge7\" class=\"edge\">\n<title>QROM:e-&gt;selection0_G13:w</title>\n<path fill=\"none\" stroke=\"black\" d=\"M241,-148C261.89,-148 256.72,-177.55 275.58,-179.86\"/>\n<ellipse fill=\"black\" stroke=\"black\" cx=\"277\" cy=\"-179.94\" rx=\"1\" ry=\"1\"/>\n<text text-anchor=\"middle\" x=\"259.5\" y=\"-167\" font-family=\"Times,serif\" font-size=\"10.00\">ceiling(log2(floor(N)))</text>\n</g>\n<!-- selection1_G12 -->\n<g id=\"node9\" class=\"node\">\n<title>selection1_G12</title>\n<text text-anchor=\"middle\" x=\"313.5\" y=\"-122.3\" font-family=\"Times,serif\" font-size=\"14.00\">selection1</text>\n</g>\n<!-- QROM&#45;&gt;selection1_G12 -->\n<g id=\"edge8\" class=\"edge\">\n<title>QROM:e-&gt;selection1_G12:w</title>\n<path fill=\"none\" stroke=\"black\" d=\"M241,-126C256.67,-126 261.14,-126 275.77,-126\"/>\n<ellipse fill=\"black\" stroke=\"black\" cx=\"277\" cy=\"-126\" rx=\"1\" ry=\"1\"/>\n<text text-anchor=\"middle\" x=\"259.5\" y=\"-129\" font-family=\"Times,serif\" font-size=\"10.00\">ceiling(log2(floor(M)))</text>\n</g>\n<!-- target0__G2 -->\n<g id=\"node10\" class=\"node\">\n<title>target0__G2</title>\n<text text-anchor=\"middle\" x=\"313.5\" y=\"-68.3\" font-family=\"Times,serif\" font-size=\"14.00\">target0_</text>\n</g>\n<!-- QROM&#45;&gt;target0__G2 -->\n<g id=\"edge9\" class=\"edge\">\n<title>QROM:e-&gt;target0__G2:w</title>\n<path fill=\"none\" stroke=\"black\" d=\"M241,-105C263.49,-105 258.62,-74.03 279.41,-72.09\"/>\n<ellipse fill=\"black\" stroke=\"black\" cx=\"280.5\" cy=\"-72.05\" rx=\"1\" ry=\"1\"/>\n<text text-anchor=\"middle\" x=\"259.5\" y=\"-95\" font-family=\"Times,serif\" font-size=\"10.00\">b1</text>\n</g>\n<!-- target1__G1 -->\n<g id=\"node11\" class=\"node\">\n<title>target1__G1</title>\n<text text-anchor=\"middle\" x=\"313.5\" y=\"-14.3\" font-family=\"Times,serif\" font-size=\"14.00\">target1_</text>\n</g>\n<!-- QROM&#45;&gt;target1__G1 -->\n<g id=\"edge10\" class=\"edge\">\n<title>QROM:e-&gt;target1__G1:w</title>\n<path fill=\"none\" stroke=\"black\" d=\"M241,-84C274.61,-84 248.38,-21.06 279.18,-18.11\"/>\n<ellipse fill=\"black\" stroke=\"black\" cx=\"280.5\" cy=\"-18.05\" rx=\"1\" ry=\"1\"/>\n<text text-anchor=\"middle\" x=\"259.5\" y=\"-70\" font-family=\"Times,serif\" font-size=\"10.00\">b2</text>\n</g>\n</g>\n</svg>",
          "text/plain": "<IPython.core.display.SVG object>"
         },
         "metadata": {},
         "output_type": "display_data"
        }
       ],
       "tabbable": null,
       "tooltip": null
      }
     },
     "c8c4547e5bf5486ab4aa6270347fc663": {
      "model_module": "@jupyter-widgets/controls",
      "model_module_version": "2.0.0",
      "model_name": "HBoxModel",
      "state": {
       "_dom_classes": [],
       "_model_module": "@jupyter-widgets/controls",
       "_model_module_version": "2.0.0",
       "_model_name": "HBoxModel",
       "_view_count": null,
       "_view_module": "@jupyter-widgets/controls",
       "_view_module_version": "2.0.0",
       "_view_name": "HBoxView",
       "box_style": "",
       "children": [
        "IPY_MODEL_a8ad115e721f415e92385ea304e85466",
        "IPY_MODEL_21785d77db18476aaf24246e4a6f4924",
        "IPY_MODEL_18e77500c96c4902b615497210f80aaa",
        "IPY_MODEL_b6e607098925455f98863a691f7a5f26"
       ],
       "layout": "IPY_MODEL_a6d4a9a3f0d94f4fab79e7dfebde1304",
       "tabbable": null,
       "tooltip": null
      }
     },
     "d0d3b8c4c218404e8bfdc753561de3cf": {
      "model_module": "@jupyter-widgets/base",
      "model_module_version": "2.0.0",
      "model_name": "LayoutModel",
      "state": {
       "_model_module": "@jupyter-widgets/base",
       "_model_module_version": "2.0.0",
       "_model_name": "LayoutModel",
       "_view_count": null,
       "_view_module": "@jupyter-widgets/base",
       "_view_module_version": "2.0.0",
       "_view_name": "LayoutView",
       "align_content": null,
       "align_items": null,
       "align_self": null,
       "border_bottom": null,
       "border_left": null,
       "border_right": null,
       "border_top": null,
       "bottom": null,
       "display": null,
       "flex": null,
       "flex_flow": null,
       "grid_area": null,
       "grid_auto_columns": null,
       "grid_auto_flow": null,
       "grid_auto_rows": null,
       "grid_column": null,
       "grid_gap": null,
       "grid_row": null,
       "grid_template_areas": null,
       "grid_template_columns": null,
       "grid_template_rows": null,
       "height": null,
       "justify_content": null,
       "justify_items": null,
       "left": null,
       "margin": null,
       "max_height": null,
       "max_width": null,
       "min_height": null,
       "min_width": null,
       "object_fit": null,
       "object_position": null,
       "order": null,
       "overflow": null,
       "padding": null,
       "right": null,
       "top": null,
       "visibility": null,
       "width": null
      }
     }
    },
    "version_major": 2,
    "version_minor": 0
   }
  }
 },
 "nbformat": 4,
 "nbformat_minor": 5
}
