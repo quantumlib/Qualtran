{
 "cells": [
  {
   "cell_type": "markdown",
   "id": "8f717aa7",
   "metadata": {
    "cq.autogen": "title_cell"
   },
   "source": [
    "# SelectSwapQROM"
   ]
  },
  {
   "cell_type": "code",
   "execution_count": 1,
   "id": "d0e99ddc",
   "metadata": {
    "cq.autogen": "top_imports"
   },
   "outputs": [],
   "source": [
    "from qualtran import Bloq, CompositeBloq, BloqBuilder, Signature, Register\n",
    "from qualtran import QBit, QInt, QUInt, QAny\n",
    "from qualtran.drawing import show_bloq, show_call_graph, show_counts_sigma\n",
    "from typing import *\n",
    "import numpy as np\n",
    "import sympy\n",
    "import cirq"
   ]
  },
  {
   "cell_type": "markdown",
   "id": "fc5770d6",
   "metadata": {
    "cq.autogen": "QROMBase.bloq_doc.md"
   },
   "source": [
    "## `QROMBase`\n",
    "Interface for Bloqs to load `data[l]` when the selection register stores index `l`.\n",
    "\n",
    "## Overview\n",
    "The action of a QROM can be described as\n",
    "$$\n",
    "        \\text{QROM}_{s_1, s_2, \\dots, s_K}^{d_1, d_2, \\dots, d_L}\n",
    "        |s_1\\rangle |s_2\\rangle \\dots |s_K\\rangle\n",
    "        |0\\rangle^{\\otimes b_1} |0\\rangle^{\\otimes b_2} \\dots |0\\rangle^{\\otimes b_L}\n",
    "        \\rightarrow\n",
    "        |s_1\\rangle |s_2\\rangle \\dots |s_K\\rangle\n",
    "        |d_1[s_1, s_2, \\dots, s_k]\\rangle\n",
    "        |d_2[s_1, s_2, \\dots, s_k]\\rangle \\dots\n",
    "        |d_L[s_1, s_2, \\dots, s_k]\\rangle\n",
    "$$\n",
    "\n",
    "A behavior of a QROM can be understood in terms of its classical analogue, where a for-loop\n",
    "over one or more (selection) indices can be used to load one or more classical datasets, where\n",
    "each of the classical dataset can be multidimensional.\n",
    "\n",
    "```\n",
    ">>> # N, M, P, Q, R, S, T are pre-initialized integer parameters.\n",
    ">>> output = [np.zeros((P, Q)), np.zeros((R, S, T))]\n",
    ">>> # Load two different classical datasets; each of different shape.\n",
    ">>> data = [np.random.rand(N, M, P, Q), np.random.rand(N, M, R, S, T)]\n",
    ">>> for i in range(N): # For loop over two selection indices i and j.\n",
    ">>>     for j in range(M):\n",
    ">>>        # Load two multidimensional classical datasets data[0] and data[1] s.t.\n",
    ">>>        # |i, j⟩|0⟩  -> |i, j⟩|data[0][i, j, :]⟩|data[1][i, j, :]⟩\n",
    ">>>        output[0] = data[0][i, j, :]\n",
    ">>>        output[1] = data[1][i, j, :]\n",
    "```\n",
    "\n",
    "The parameters that control the behavior and costs of a QROM are -\n",
    "\n",
    "1. Number of selection registers (eg: $i$, $j$) and their iteration lengths (eg: $N$, $M$).\n",
    "2. Number of target registers, their quantum datatype and shape.\n",
    "    - Number of target registers: One for each classical dataset to load (eg: $\\text{data}[0]$\n",
    "        and $\\text{data}[1]$)\n",
    "    - QDType of target registers: Depends on `dtype` of the $i$'th classical dataset\n",
    "    - Shape of target registers: Depends on shape of classical data (eg: $(P, Q)$ and\n",
    "        $(R, S, T)$ above)\n",
    "\n",
    "### Specification of classical data via `data_or_shape`\n",
    "Users can specify the classical data to load via QROM by passing in an appropriate value\n",
    "for `data_or_shape` attribute. This is a list of numpy arrays or `Shaped` objects, where\n",
    "each item of the list corresponds to a classical dataset to load.\n",
    "\n",
    "Each classical dataset to load can be specified as a numpy array (or a `Shaped` object for\n",
    "symbolic bloqs). The shape of the dataset is a union of the selection shape and target shape,\n",
    "s.t.\n",
    "$$\n",
    "    \\text{data[i].shape} = \\text{selection\\_shape} + \\text{target\\_shape[i]}\n",
    "$$\n",
    "\n",
    "Note that the $\\text{selection\\_shape}$ should be same across all classical datasets to be\n",
    "loaded and correspond to a tuple of iteration lengths of selection indices (i.e. $(N, M)$\n",
    "in the example above).\n",
    "\n",
    "The target shape of each classical dataset can be different and parameterizes the size of\n",
    "the desired output that should be loaded in a target register.\n",
    "\n",
    "### Number of selection registers and their iteration lengths\n",
    "As describe in the previous section, the number of selection registers and their iteration\n",
    "lengths can be inferred from the shape of the classical dataset. All classical datasets\n",
    "to be loaded must have the same $\\text{selection\\_shape}$, which is a tuple of iteration\n",
    "lengths over each dimension of the dataset (i.e. the range for each nested for-loop).\n",
    "\n",
    "In order to load a data set with $\\text{selection\\_shape} == (P, Q, R, S)$ the QROM bloq\n",
    "needs four selection registers with bitsizes $(p, q, r, s)$ where each of\n",
    "$p,q,r,s \\geq \\log_2{P}, \\log_2{Q}, \\log_2{R}, \\log_2{S}$.\n",
    "\n",
    "In general, to load $K$ dimensional data, we use $K$ named selection registers\n",
    "$(\\text{selection}_0, \\text{selection}_1, ..., \\text{selection}_k)$ to index and\n",
    "load the data. For the $i$'th selection register, its size is configured using\n",
    "attribute $\\text{selection\\_bitsizes[i]}$ and the iteration range is configued\n",
    "using $\\text{data\\_or\\_shape[0].shape[i]}$.\n",
    "\n",
    "### Number of target registers, their quantum datatype and shape\n",
    "QROM bloq uses one target register for each entry corresponding to classical dataset in the\n",
    "tuple `data_or_shape`. Thus, to load $L$ classical datsets, we use $L$ names target registers\n",
    "$(\\text{target}_0, \\text{target}_1, ..., \\text{target}_L)$\n",
    "\n",
    "Each named target register has a bitsize $b_{i}=\\text{target\\_bitsizes[i]}$ that represents\n",
    "the size of the register and depends upon the maximum value of individual elements in the\n",
    "$i$'th classical dataset.\n",
    "\n",
    "Each named target register has a shape that can be configured using attribute\n",
    "$\\text{target\\_shape[i]}$ that represents the number of target registers if the output to load\n",
    "is multidimensional.\n",
    "\n",
    "#### Parameters\n",
    " - `data_or_shape`: List of numpy ndarrays specifying the data to load. If the length of this list ($L$) is greater than one then we use the same selection indices to load each dataset. The shape of a classical dataset is a concatenation of selection_shape and target_shape[i]; i.e. `data_or_shape[i].shape = selection_shape + target_shape[i]`. Thus, each data set is required to have the same selection shape $(S_1, S_2, ..., S_K)$ and can have a different target shape given by `target_shapes[i]`. For symbolic QROMs, pass a list of `Shaped` objects instead with shape $(S_1, S_2, ..., S_K) + target_shape[i]$.\n",
    " - `selection_bitsizes`: The number of bits used to represent each selection register corresponding to the size of each dimension of the selection_shape $(S_1, S_2, ..., S_K)$. Should be the same length as the selection shape of each of the datasets and $2**\\text{selection\\_bitsizes[i]} >= S_i$\n",
    " - `target_shapes`: Shape of target registers for each classical dataset to be loaded. Must be consistent with `data_or_shape` s.t. `len(data_or_shape) == len(target_shapes)` and `data_or_shape[-len(target_shapes[i]):] == target_shapes[i]`.\n",
    " - `target_bitsizes`: Bitsize (or qdtype) of the target registers for each classical dataset to be loaded. This can be deduced from the maximum element of each of the datasets. Must be consistent with `data_or_shape` s.t. `len(data_or_shape) == len(target_bitsizes)` and `target_bitsizes[i] >= max(data[i]).bitsize`.\n",
    " - `num_controls`: The number of controls to instanstiate a controlled version of this bloq.\n"
   ]
  },
  {
   "cell_type": "markdown",
   "id": "818551d0",
   "metadata": {
    "cq.autogen": "SelectSwapQROM.bloq_doc.md"
   },
   "source": [
    "## `SelectSwapQROM`\n",
    "Gate to load data[l] in the target register when the selection register stores integer l.\n",
    "\n",
    "Let\n",
    "    N:= Number of data elements to load.\n",
    "    b:= Bit-length of the target register in which data elements should be loaded.\n",
    "\n",
    "The `SelectSwapQROM` is a hybrid of the following two existing primitives:\n",
    "\n",
    "- Unary Iteration based `QROM` requires O(N) T-gates to load `N` data\n",
    "elements into a b-bit target register. Note that the T-complexity is independent of `b`.\n",
    "- `SwapWithZeroGate` can swap a `b` bit register indexed `x` with a `b`\n",
    "bit register at index `0` using O(b) T-gates, if the selection register stores integer `x`.\n",
    "Note that the swap complexity is independent of the iteration length `N`.\n",
    "\n",
    "The `SelectSwapQROM` uses square root decomposition by combining the above two approaches to\n",
    "further optimize the T-gate complexity of loading `N` data elements, each into a `b` bit\n",
    "target register as follows:\n",
    "\n",
    "- Divide the `N` data elements into batches of size `B` (a variable) and\n",
    "load each batch simultaneously into `B` distinct target signature using the conventional\n",
    "QROM. This has T-complexity `O(N / B)`.\n",
    "- Use `SwapWithZeroGate` to swap the `i % B`'th target register in batch number `i / B`\n",
    "to load `data[i]` in the 0'th target register. This has T-complexity `O(B * b)`.\n",
    "\n",
    "This, the final T-complexity of `SelectSwapQROM` is `O(B * b + N / B)` T-gates; where `B` is\n",
    "the block-size with an optimal value of `O(sqrt(N / b))`.\n",
    "\n",
    "This improvement in T-complexity is achieved at the cost of using an additional `O(B * b)`\n",
    "ancilla qubits, with a nice property that these additional ancillas can be `dirty`; i.e.\n",
    "they don't need to start in the |0> state and thus can be borrowed from other parts of the\n",
    "algorithm. The state of these dirty ancillas would be unaffected after the operation has\n",
    "finished.\n",
    "\n",
    "For more details, see the reference below:\n",
    "\n",
    "#### References\n",
    " - [Trading T-gates for dirty qubits in state preparation and unitary synthesis](https://arxiv.org/abs/1812.00954). Low, Kliuchnikov, Schaeffer. 2018.\n",
    " - [Qubitization of Arbitrary Basis Quantum Chemistry Leveraging Sparsity and Low Rank Factorization](https://arxiv.org/abs/1902.02134). Berry et al. 2019. Appendix A. and B.\n"
   ]
  },
  {
   "cell_type": "code",
   "execution_count": 2,
   "id": "b91df7f9",
   "metadata": {
    "cq.autogen": "SelectSwapQROM.bloq_doc.py"
   },
   "outputs": [],
   "source": [
    "from qualtran.bloqs.data_loading.select_swap_qrom import SelectSwapQROM"
   ]
  },
  {
   "cell_type": "markdown",
   "id": "514bbe62",
   "metadata": {
    "cq.autogen": "SelectSwapQROM.example_instances.md"
   },
   "source": [
    "### Example Instances"
   ]
  },
  {
   "cell_type": "code",
   "execution_count": 3,
   "id": "17f62143",
   "metadata": {
    "cq.autogen": "SelectSwapQROM.qroam_multi_data"
   },
   "outputs": [],
   "source": [
    "data1 = np.arange(5)\n",
    "data2 = np.arange(5) + 1\n",
    "qroam_multi_data = SelectSwapQROM.build_from_data(data1, data2)"
   ]
  },
  {
   "cell_type": "code",
   "execution_count": 4,
   "id": "757edd48",
   "metadata": {
    "cq.autogen": "SelectSwapQROM.qroam_multi_dim"
   },
   "outputs": [],
   "source": [
    "data1 = np.arange(25).reshape((5, 5))\n",
    "data2 = (np.arange(25) + 1).reshape((5, 5))\n",
    "qroam_multi_dim = SelectSwapQROM.build_from_data(data1, data2)"
   ]
  },
  {
   "cell_type": "code",
   "execution_count": 5,
   "id": "655da4ad",
   "metadata": {
    "cq.autogen": "SelectSwapQROM.qroam_symb_dirty_1d"
   },
   "outputs": [],
   "source": [
    "N, b, k, c = sympy.symbols('N b k c', positive=True, integers=True)\n",
    "qroam_symb_dirty_1d = SelectSwapQROM.build_from_bitsize(\n",
    "    (N,), (b,), log_block_sizes=(k,), num_controls=c\n",
    ")"
   ]
  },
  {
   "cell_type": "code",
   "execution_count": 6,
   "id": "2ebd4b95",
   "metadata": {
    "cq.autogen": "SelectSwapQROM.qroam_symb_dirty_2d"
   },
   "outputs": [],
   "source": [
    "N, M, b1, b2, k1, k2, c = sympy.symbols('N M b1 b2 k1 k2 c', positive=True, integers=True)\n",
    "log_block_sizes = (k1, k2)\n",
    "qroam_symb_dirty_2d = SelectSwapQROM.build_from_bitsize(\n",
    "    (N, M), (b1, b2), log_block_sizes=log_block_sizes, num_controls=c\n",
    ")"
   ]
  },
  {
   "cell_type": "code",
   "execution_count": 7,
   "id": "792cda31",
   "metadata": {
    "cq.autogen": "SelectSwapQROM.qroam_symb_clean_1d"
   },
   "outputs": [],
   "source": [
    "N, b, k, c = sympy.symbols('N b k c', positive=True, integers=True)\n",
    "qroam_symb_clean_1d = SelectSwapQROM.build_from_bitsize(\n",
    "    (N,), (b,), log_block_sizes=(k,), num_controls=c, use_dirty_ancilla=False\n",
    ")"
   ]
  },
  {
   "cell_type": "code",
   "execution_count": 8,
   "id": "05eac1c8",
   "metadata": {
    "cq.autogen": "SelectSwapQROM.qroam_symb_clean_2d"
   },
   "outputs": [],
   "source": [
    "N, M, b1, b2, k1, k2, c = sympy.symbols('N M b1 b2 k1 k2 c', positive=True, integers=True)\n",
    "log_block_sizes = (k1, k2)\n",
    "qroam_symb_clean_2d = SelectSwapQROM.build_from_bitsize(\n",
    "    (N, M), (b1, b2), log_block_sizes=log_block_sizes, num_controls=c, use_dirty_ancilla=False\n",
    ")"
   ]
  },
  {
   "cell_type": "markdown",
   "id": "21aac4da",
   "metadata": {
    "cq.autogen": "SelectSwapQROM.graphical_signature.md"
   },
   "source": [
    "#### Graphical Signature"
   ]
  },
  {
   "cell_type": "code",
   "execution_count": 9,
   "id": "e86e1c78",
   "metadata": {
    "cq.autogen": "SelectSwapQROM.graphical_signature.py"
   },
   "outputs": [
    {
     "data": {
      "application/vnd.jupyter.widget-view+json": {
       "model_id": "efc3e9910157480391489f618a11640f",
       "version_major": 2,
       "version_minor": 0
      },
      "text/plain": [
       "HBox(children=(Output(outputs=({'output_type': 'display_data', 'data': {'text/plain': '<IPython.core.display.M…"
      ]
     },
     "metadata": {},
     "output_type": "display_data"
    }
   ],
   "source": [
    "from qualtran.drawing import show_bloqs\n",
    "show_bloqs([qroam_multi_data, qroam_multi_dim, qroam_symb_dirty_1d, qroam_symb_dirty_2d, qroam_symb_clean_1d, qroam_symb_clean_2d],\n",
    "           ['`qroam_multi_data`', '`qroam_multi_dim`', '`qroam_symb_dirty_1d`', '`qroam_symb_dirty_2d`', '`qroam_symb_clean_1d`', '`qroam_symb_clean_2d`'])"
   ]
  },
  {
   "cell_type": "markdown",
   "id": "3f1de46e",
   "metadata": {
    "cq.autogen": "SelectSwapQROM.call_graph.md"
   },
   "source": [
    "### Call Graph"
   ]
  },
  {
   "cell_type": "code",
   "execution_count": 10,
   "id": "66358a0c",
   "metadata": {
    "cq.autogen": "SelectSwapQROM.call_graph.py"
   },
   "outputs": [
    {
     "data": {
      "image/svg+xml": [
       "<svg xmlns=\"http://www.w3.org/2000/svg\" xmlns:xlink=\"http://www.w3.org/1999/xlink\" width=\"226pt\" height=\"131pt\" viewBox=\"0.00 0.00 226.00 131.00\">\n",
       "<g id=\"graph0\" class=\"graph\" transform=\"scale(1 1) rotate(0) translate(4 127)\">\n",
       "<title>counts</title>\n",
       "<polygon fill=\"white\" stroke=\"transparent\" points=\"-4,4 -4,-127 222,-127 222,4 -4,4\"/>\n",
       "<!-- b0 -->\n",
       "<g id=\"node1\" class=\"node\">\n",
       "<title>b0</title>\n",
       "<polygon fill=\"none\" stroke=\"black\" points=\"86,-93 86,-116 178,-116 178,-93 86,-93\"/>\n",
       "<text text-anchor=\"start\" x=\"92.5\" y=\"-102\" font-family=\"Times,serif\" font-size=\"10.00\">SelectSwapQROM</text>\n",
       "</g>\n",
       "<!-- b1 -->\n",
       "<g id=\"node2\" class=\"node\">\n",
       "<title>b1</title>\n",
       "<polygon fill=\"none\" stroke=\"black\" points=\"8,-6 8,-29 138,-29 138,-6 8,-6\"/>\n",
       "<text text-anchor=\"start\" x=\"14\" y=\"-15\" font-family=\"Times,serif\" font-size=\"10.00\">QROM((5,), ((1,), (1,)), (3, 3))</text>\n",
       "</g>\n",
       "<!-- b0&#45;&gt;b1 -->\n",
       "<g id=\"edge1\" class=\"edge\">\n",
       "<title>b0-&gt;b1</title>\n",
       "<path fill=\"none\" stroke=\"black\" d=\"M120.06,-86.8C111.66,-74.7 100.28,-58.3 90.82,-44.67\"/>\n",
       "<polygon fill=\"black\" stroke=\"black\" points=\"93.5,-42.39 84.92,-36.18 87.75,-46.39 93.5,-42.39\"/>\n",
       "<text text-anchor=\"middle\" x=\"110.5\" y=\"-57.8\" font-family=\"Times,serif\" font-size=\"14.00\">2</text>\n",
       "</g>\n",
       "<!-- b2 -->\n",
       "<g id=\"node3\" class=\"node\">\n",
       "<title>b2</title>\n",
       "<polygon fill=\"none\" stroke=\"black\" points=\"177,-6 177,-29 205,-29 205,-6 177,-6\"/>\n",
       "<text text-anchor=\"start\" x=\"183\" y=\"-15\" font-family=\"Times,serif\" font-size=\"10.00\">Xor</text>\n",
       "</g>\n",
       "<!-- b0&#45;&gt;b2 -->\n",
       "<g id=\"edge2\" class=\"edge\">\n",
       "<title>b0-&gt;b2</title>\n",
       "<path fill=\"none\" stroke=\"black\" d=\"M143.94,-86.8C152.34,-74.7 163.72,-58.3 173.18,-44.67\"/>\n",
       "<polygon fill=\"black\" stroke=\"black\" points=\"176.25,-46.39 179.08,-36.18 170.5,-42.39 176.25,-46.39\"/>\n",
       "<text text-anchor=\"middle\" x=\"168.5\" y=\"-57.8\" font-family=\"Times,serif\" font-size=\"14.00\">4</text>\n",
       "</g>\n",
       "</g>\n",
       "</svg>"
      ],
      "text/plain": [
       "<IPython.core.display.SVG object>"
      ]
     },
     "metadata": {},
     "output_type": "display_data"
    },
    {
     "data": {
      "text/markdown": [
       "#### Counts totals:\n",
       " - `QROM((5,), ((1,), (1,)), (3, 3))`: 2\n",
       " - `Xor`: 4"
      ],
      "text/plain": [
       "<IPython.core.display.Markdown object>"
      ]
     },
     "metadata": {},
     "output_type": "display_data"
    }
   ],
   "source": [
    "from qualtran.resource_counting.generalizers import ignore_split_join\n",
    "qroam_multi_data_g, qroam_multi_data_sigma = qroam_multi_data.call_graph(max_depth=1, generalizer=ignore_split_join)\n",
    "show_call_graph(qroam_multi_data_g)\n",
    "show_counts_sigma(qroam_multi_data_sigma)"
   ]
  },
  {
   "cell_type": "code",
   "execution_count": null,
   "id": "db0f8242",
   "metadata": {
    "cq.autogen": "QROMBase.bloq_doc.py"
   },
   "outputs": [],
   "source": []
  }
 ],
 "metadata": {
  "kernelspec": {
   "display_name": "Python 3 (ipykernel)",
   "language": "python",
   "name": "python3"
  },
  "language_info": {
   "codemirror_mode": {
    "name": "ipython",
    "version": 3
   },
   "file_extension": ".py",
   "mimetype": "text/x-python",
   "name": "python",
   "nbconvert_exporter": "python",
   "pygments_lexer": "ipython3",
   "version": "3.11.8"
  },
  "widgets": {
   "application/vnd.jupyter.widget-state+json": {
    "state": {
     "3cb77ace2cf54d75b3e1c3a8ec73123d": {
      "model_module": "@jupyter-widgets/base",
      "model_module_version": "2.0.0",
      "model_name": "LayoutModel",
      "state": {
       "_model_module": "@jupyter-widgets/base",
       "_model_module_version": "2.0.0",
       "_model_name": "LayoutModel",
       "_view_count": null,
       "_view_module": "@jupyter-widgets/base",
       "_view_module_version": "2.0.0",
       "_view_name": "LayoutView",
       "align_content": null,
       "align_items": null,
       "align_self": null,
       "border_bottom": null,
       "border_left": null,
       "border_right": null,
       "border_top": null,
       "bottom": null,
       "display": null,
       "flex": null,
       "flex_flow": null,
       "grid_area": null,
       "grid_auto_columns": null,
       "grid_auto_flow": null,
       "grid_auto_rows": null,
       "grid_column": null,
       "grid_gap": null,
       "grid_row": null,
       "grid_template_areas": null,
       "grid_template_columns": null,
       "grid_template_rows": null,
       "height": null,
       "justify_content": null,
       "justify_items": null,
       "left": null,
       "margin": null,
       "max_height": null,
       "max_width": null,
       "min_height": null,
       "min_width": null,
       "object_fit": null,
       "object_position": null,
       "order": null,
       "overflow": null,
       "padding": null,
       "right": null,
       "top": null,
       "visibility": null,
       "width": null
      }
     },
     "3edd1c4006014367853ea5d0cb3f1b4e": {
      "model_module": "@jupyter-widgets/base",
      "model_module_version": "2.0.0",
      "model_name": "LayoutModel",
      "state": {
       "_model_module": "@jupyter-widgets/base",
       "_model_module_version": "2.0.0",
       "_model_name": "LayoutModel",
       "_view_count": null,
       "_view_module": "@jupyter-widgets/base",
       "_view_module_version": "2.0.0",
       "_view_name": "LayoutView",
       "align_content": null,
       "align_items": null,
       "align_self": null,
       "border_bottom": null,
       "border_left": null,
       "border_right": null,
       "border_top": null,
       "bottom": null,
       "display": null,
       "flex": null,
       "flex_flow": null,
       "grid_area": null,
       "grid_auto_columns": null,
       "grid_auto_flow": null,
       "grid_auto_rows": null,
       "grid_column": null,
       "grid_gap": null,
       "grid_row": null,
       "grid_template_areas": null,
       "grid_template_columns": null,
       "grid_template_rows": null,
       "height": null,
       "justify_content": null,
       "justify_items": null,
       "left": null,
       "margin": null,
       "max_height": null,
       "max_width": null,
       "min_height": null,
       "min_width": null,
       "object_fit": null,
       "object_position": null,
       "order": null,
       "overflow": null,
       "padding": null,
       "right": null,
       "top": null,
       "visibility": null,
       "width": null
      }
     },
     "43420ff0ecb540f0975fc7961bc77819": {
      "model_module": "@jupyter-widgets/output",
      "model_module_version": "1.0.0",
      "model_name": "OutputModel",
      "state": {
       "_dom_classes": [],
       "_model_module": "@jupyter-widgets/output",
       "_model_module_version": "1.0.0",
       "_model_name": "OutputModel",
       "_view_count": null,
       "_view_module": "@jupyter-widgets/output",
       "_view_module_version": "1.0.0",
       "_view_name": "OutputView",
       "layout": "IPY_MODEL_8bc07a2dd4cd46cd936bf7c8756a9a9e",
       "msg_id": "",
       "outputs": [
        {
         "data": {
          "text/markdown": "`qroam_multi_dim`",
          "text/plain": "<IPython.core.display.Markdown object>"
         },
         "metadata": {},
         "output_type": "display_data"
        },
        {
         "data": {
          "image/svg+xml": "<svg xmlns=\"http://www.w3.org/2000/svg\" xmlns:xlink=\"http://www.w3.org/1999/xlink\" width=\"309pt\" height=\"206pt\" viewBox=\"0.00 0.00 309.00 206.00\">\n<g id=\"graph0\" class=\"graph\" transform=\"scale(1 1) rotate(0) translate(4 202)\">\n<title>my_graph</title>\n<polygon fill=\"white\" stroke=\"transparent\" points=\"-4,4 -4,-202 305,-202 305,4 -4,4\"/>\n<!-- selection0_G0 -->\n<g id=\"node1\" class=\"node\">\n<title>selection0_G0</title>\n<text text-anchor=\"middle\" x=\"35.5\" y=\"-176.3\" font-family=\"Times,serif\" font-size=\"14.00\">selection0</text>\n</g>\n<!-- SelectSwapQROM -->\n<g id=\"node5\" class=\"node\">\n<title>SelectSwapQROM</title>\n<polygon fill=\"none\" stroke=\"black\" points=\"108.5,-141 108.5,-158 193.5,-158 193.5,-141 108.5,-141\"/>\n<text text-anchor=\"start\" x=\"111.5\" y=\"-147\" font-family=\"Times,serif\" font-size=\"10.00\">SelectSwapQROM</text>\n<polygon fill=\"none\" stroke=\"black\" points=\"108.5,-120 108.5,-141 193.5,-141 193.5,-120 108.5,-120\"/>\n<text text-anchor=\"start\" x=\"123.5\" y=\"-126.8\" font-family=\"Times,serif\" font-size=\"14.00\">selection0</text>\n<polygon fill=\"none\" stroke=\"black\" points=\"108.5,-99 108.5,-120 193.5,-120 193.5,-99 108.5,-99\"/>\n<text text-anchor=\"start\" x=\"123.5\" y=\"-105.8\" font-family=\"Times,serif\" font-size=\"14.00\">selection1</text>\n<polygon fill=\"none\" stroke=\"black\" points=\"108.5,-78 108.5,-99 193.5,-99 193.5,-78 108.5,-78\"/>\n<text text-anchor=\"start\" x=\"128.5\" y=\"-84.8\" font-family=\"Times,serif\" font-size=\"14.00\">target0_</text>\n<polygon fill=\"none\" stroke=\"black\" points=\"108.5,-57 108.5,-78 193.5,-78 193.5,-57 108.5,-57\"/>\n<text text-anchor=\"start\" x=\"128.5\" y=\"-63.8\" font-family=\"Times,serif\" font-size=\"14.00\">target1_</text>\n</g>\n<!-- selection0_G0&#45;&gt;SelectSwapQROM -->\n<g id=\"edge1\" class=\"edge\">\n<title>selection0_G0:e-&gt;SelectSwapQROM:w</title>\n<path fill=\"none\" stroke=\"black\" d=\"M71,-180C97.54,-180 81.64,-133.64 105.86,-131.11\"/>\n<ellipse fill=\"black\" stroke=\"black\" cx=\"107\" cy=\"-131.05\" rx=\"1\" ry=\"1\"/>\n<text text-anchor=\"middle\" x=\"89.5\" y=\"-159\" font-family=\"Times,serif\" font-size=\"10.00\">3</text>\n</g>\n<!-- selection1_G10 -->\n<g id=\"node2\" class=\"node\">\n<title>selection1_G10</title>\n<text text-anchor=\"middle\" x=\"35.5\" y=\"-122.3\" font-family=\"Times,serif\" font-size=\"14.00\">selection1</text>\n</g>\n<!-- selection1_G10&#45;&gt;SelectSwapQROM -->\n<g id=\"edge2\" class=\"edge\">\n<title>selection1_G10:e-&gt;SelectSwapQROM:w</title>\n<path fill=\"none\" stroke=\"black\" d=\"M71,-126C88.22,-126 89.97,-111.23 105.98,-110.07\"/>\n<ellipse fill=\"black\" stroke=\"black\" cx=\"107\" cy=\"-110.04\" rx=\"1\" ry=\"1\"/>\n<text text-anchor=\"middle\" x=\"89.5\" y=\"-121\" font-family=\"Times,serif\" font-size=\"10.00\">3</text>\n</g>\n<!-- target0__G6 -->\n<g id=\"node3\" class=\"node\">\n<title>target0__G6</title>\n<text text-anchor=\"middle\" x=\"35.5\" y=\"-68.3\" font-family=\"Times,serif\" font-size=\"14.00\">target0_</text>\n</g>\n<!-- target0__G6&#45;&gt;SelectSwapQROM -->\n<g id=\"edge3\" class=\"edge\">\n<title>target0__G6:e-&gt;SelectSwapQROM:w</title>\n<path fill=\"none\" stroke=\"black\" d=\"M67.5,-72C86.1,-72 88.48,-86.77 105.81,-87.93\"/>\n<ellipse fill=\"black\" stroke=\"black\" cx=\"107\" cy=\"-87.97\" rx=\"1\" ry=\"1\"/>\n<text text-anchor=\"middle\" x=\"89.5\" y=\"-84\" font-family=\"Times,serif\" font-size=\"10.00\">5</text>\n</g>\n<!-- target1__G3 -->\n<g id=\"node4\" class=\"node\">\n<title>target1__G3</title>\n<text text-anchor=\"middle\" x=\"35.5\" y=\"-14.3\" font-family=\"Times,serif\" font-size=\"14.00\">target1_</text>\n</g>\n<!-- target1__G3&#45;&gt;SelectSwapQROM -->\n<g id=\"edge4\" class=\"edge\">\n<title>target1__G3:e-&gt;SelectSwapQROM:w</title>\n<path fill=\"none\" stroke=\"black\" d=\"M67.5,-18C94.98,-18 80.59,-64.36 105.78,-66.89\"/>\n<ellipse fill=\"black\" stroke=\"black\" cx=\"107\" cy=\"-66.95\" rx=\"1\" ry=\"1\"/>\n<text text-anchor=\"middle\" x=\"89.5\" y=\"-53\" font-family=\"Times,serif\" font-size=\"10.00\">5</text>\n</g>\n<!-- selection0_G11 -->\n<g id=\"node6\" class=\"node\">\n<title>selection0_G11</title>\n<text text-anchor=\"middle\" x=\"265.5\" y=\"-176.3\" font-family=\"Times,serif\" font-size=\"14.00\">selection0</text>\n</g>\n<!-- SelectSwapQROM&#45;&gt;selection0_G11 -->\n<g id=\"edge5\" class=\"edge\">\n<title>SelectSwapQROM:e-&gt;selection0_G11:w</title>\n<path fill=\"none\" stroke=\"black\" d=\"M193,-131C219.54,-131 203.64,-177.36 227.86,-179.89\"/>\n<ellipse fill=\"black\" stroke=\"black\" cx=\"229\" cy=\"-179.95\" rx=\"1\" ry=\"1\"/>\n<text text-anchor=\"middle\" x=\"211.5\" y=\"-159\" font-family=\"Times,serif\" font-size=\"10.00\">3</text>\n</g>\n<!-- selection1_G9 -->\n<g id=\"node7\" class=\"node\">\n<title>selection1_G9</title>\n<text text-anchor=\"middle\" x=\"265.5\" y=\"-122.3\" font-family=\"Times,serif\" font-size=\"14.00\">selection1</text>\n</g>\n<!-- SelectSwapQROM&#45;&gt;selection1_G9 -->\n<g id=\"edge6\" class=\"edge\">\n<title>SelectSwapQROM:e-&gt;selection1_G9:w</title>\n<path fill=\"none\" stroke=\"black\" d=\"M193,-110C210.22,-110 211.97,-124.77 227.98,-125.93\"/>\n<ellipse fill=\"black\" stroke=\"black\" cx=\"229\" cy=\"-125.96\" rx=\"1\" ry=\"1\"/>\n<text text-anchor=\"middle\" x=\"211.5\" y=\"-121\" font-family=\"Times,serif\" font-size=\"10.00\">3</text>\n</g>\n<!-- target0__G7 -->\n<g id=\"node8\" class=\"node\">\n<title>target0__G7</title>\n<text text-anchor=\"middle\" x=\"265.5\" y=\"-68.3\" font-family=\"Times,serif\" font-size=\"14.00\">target0_</text>\n</g>\n<!-- SelectSwapQROM&#45;&gt;target0__G7 -->\n<g id=\"edge7\" class=\"edge\">\n<title>SelectSwapQROM:e-&gt;target0__G7:w</title>\n<path fill=\"none\" stroke=\"black\" d=\"M193,-88C211.6,-88 213.98,-73.23 231.31,-72.07\"/>\n<ellipse fill=\"black\" stroke=\"black\" cx=\"232.5\" cy=\"-72.03\" rx=\"1\" ry=\"1\"/>\n<text text-anchor=\"middle\" x=\"211.5\" y=\"-84\" font-family=\"Times,serif\" font-size=\"10.00\">5</text>\n</g>\n<!-- target1__G2 -->\n<g id=\"node9\" class=\"node\">\n<title>target1__G2</title>\n<text text-anchor=\"middle\" x=\"265.5\" y=\"-14.3\" font-family=\"Times,serif\" font-size=\"14.00\">target1_</text>\n</g>\n<!-- SelectSwapQROM&#45;&gt;target1__G2 -->\n<g id=\"edge8\" class=\"edge\">\n<title>SelectSwapQROM:e-&gt;target1__G2:w</title>\n<path fill=\"none\" stroke=\"black\" d=\"M193,-67C220.48,-67 206.09,-20.64 231.28,-18.11\"/>\n<ellipse fill=\"black\" stroke=\"black\" cx=\"232.5\" cy=\"-18.05\" rx=\"1\" ry=\"1\"/>\n<text text-anchor=\"middle\" x=\"211.5\" y=\"-53\" font-family=\"Times,serif\" font-size=\"10.00\">5</text>\n</g>\n</g>\n</svg>",
          "text/plain": "<IPython.core.display.SVG object>"
         },
         "metadata": {},
         "output_type": "display_data"
        }
       ],
       "tabbable": null,
       "tooltip": null
      }
     },
     "4bf209d4c9304d4e969c50d9fc720da3": {
      "model_module": "@jupyter-widgets/base",
      "model_module_version": "2.0.0",
      "model_name": "LayoutModel",
      "state": {
       "_model_module": "@jupyter-widgets/base",
       "_model_module_version": "2.0.0",
       "_model_name": "LayoutModel",
       "_view_count": null,
       "_view_module": "@jupyter-widgets/base",
       "_view_module_version": "2.0.0",
       "_view_name": "LayoutView",
       "align_content": null,
       "align_items": null,
       "align_self": null,
       "border_bottom": null,
       "border_left": null,
       "border_right": null,
       "border_top": null,
       "bottom": null,
       "display": null,
       "flex": null,
       "flex_flow": null,
       "grid_area": null,
       "grid_auto_columns": null,
       "grid_auto_flow": null,
       "grid_auto_rows": null,
       "grid_column": null,
       "grid_gap": null,
       "grid_row": null,
       "grid_template_areas": null,
       "grid_template_columns": null,
       "grid_template_rows": null,
       "height": null,
       "justify_content": null,
       "justify_items": null,
       "left": null,
       "margin": null,
       "max_height": null,
       "max_width": null,
       "min_height": null,
       "min_width": null,
       "object_fit": null,
       "object_position": null,
       "order": null,
       "overflow": null,
       "padding": null,
       "right": null,
       "top": null,
       "visibility": null,
       "width": null
      }
     },
     "4f4fa522b22448b2acb09bb046916f4f": {
      "model_module": "@jupyter-widgets/output",
      "model_module_version": "1.0.0",
      "model_name": "OutputModel",
      "state": {
       "_dom_classes": [],
       "_model_module": "@jupyter-widgets/output",
       "_model_module_version": "1.0.0",
       "_model_name": "OutputModel",
       "_view_count": null,
       "_view_module": "@jupyter-widgets/output",
       "_view_module_version": "1.0.0",
       "_view_name": "OutputView",
       "layout": "IPY_MODEL_3edd1c4006014367853ea5d0cb3f1b4e",
       "msg_id": "",
       "outputs": [
        {
         "data": {
          "text/markdown": "`qroam_multi_data`",
          "text/plain": "<IPython.core.display.Markdown object>"
         },
         "metadata": {},
         "output_type": "display_data"
        },
        {
         "data": {
          "image/svg+xml": "<svg xmlns=\"http://www.w3.org/2000/svg\" xmlns:xlink=\"http://www.w3.org/1999/xlink\" width=\"297pt\" height=\"152pt\" viewBox=\"0.00 0.00 297.00 152.00\">\n<g id=\"graph0\" class=\"graph\" transform=\"scale(1 1) rotate(0) translate(4 148)\">\n<title>my_graph</title>\n<polygon fill=\"white\" stroke=\"transparent\" points=\"-4,4 -4,-148 293,-148 293,4 -4,4\"/>\n<!-- selection_G5 -->\n<g id=\"node1\" class=\"node\">\n<title>selection_G5</title>\n<text text-anchor=\"middle\" x=\"32.5\" y=\"-122.3\" font-family=\"Times,serif\" font-size=\"14.00\">selection</text>\n</g>\n<!-- SelectSwapQROM -->\n<g id=\"node4\" class=\"node\">\n<title>SelectSwapQROM</title>\n<polygon fill=\"none\" stroke=\"black\" points=\"102.5,-104 102.5,-121 187.5,-121 187.5,-104 102.5,-104\"/>\n<text text-anchor=\"start\" x=\"105.5\" y=\"-110\" font-family=\"Times,serif\" font-size=\"10.00\">SelectSwapQROM</text>\n<polygon fill=\"none\" stroke=\"black\" points=\"102.5,-83 102.5,-104 187.5,-104 187.5,-83 102.5,-83\"/>\n<text text-anchor=\"start\" x=\"120.5\" y=\"-89.8\" font-family=\"Times,serif\" font-size=\"14.00\">selection</text>\n<polygon fill=\"none\" stroke=\"black\" points=\"102.5,-62 102.5,-83 187.5,-83 187.5,-62 102.5,-62\"/>\n<text text-anchor=\"start\" x=\"122.5\" y=\"-68.8\" font-family=\"Times,serif\" font-size=\"14.00\">target0_</text>\n<polygon fill=\"none\" stroke=\"black\" points=\"102.5,-41 102.5,-62 187.5,-62 187.5,-41 102.5,-41\"/>\n<text text-anchor=\"start\" x=\"122.5\" y=\"-47.8\" font-family=\"Times,serif\" font-size=\"14.00\">target1_</text>\n</g>\n<!-- selection_G5&#45;&gt;SelectSwapQROM -->\n<g id=\"edge1\" class=\"edge\">\n<title>selection_G5:e-&gt;SelectSwapQROM:w</title>\n<path fill=\"none\" stroke=\"black\" d=\"M65,-126C85.89,-126 80.72,-96.45 99.58,-94.14\"/>\n<ellipse fill=\"black\" stroke=\"black\" cx=\"101\" cy=\"-94.06\" rx=\"1\" ry=\"1\"/>\n<text text-anchor=\"middle\" x=\"83.5\" y=\"-113\" font-family=\"Times,serif\" font-size=\"10.00\">3</text>\n</g>\n<!-- target0__G3 -->\n<g id=\"node2\" class=\"node\">\n<title>target0__G3</title>\n<text text-anchor=\"middle\" x=\"32.5\" y=\"-68.3\" font-family=\"Times,serif\" font-size=\"14.00\">target0_</text>\n</g>\n<!-- target0__G3&#45;&gt;SelectSwapQROM -->\n<g id=\"edge2\" class=\"edge\">\n<title>target0__G3:e-&gt;SelectSwapQROM:w</title>\n<path fill=\"none\" stroke=\"black\" d=\"M64.5,-72C80.39,-72 84.92,-72 99.74,-72\"/>\n<ellipse fill=\"black\" stroke=\"black\" cx=\"101\" cy=\"-72\" rx=\"1\" ry=\"1\"/>\n<text text-anchor=\"middle\" x=\"83.5\" y=\"-75\" font-family=\"Times,serif\" font-size=\"10.00\">3</text>\n</g>\n<!-- target1__G8 -->\n<g id=\"node3\" class=\"node\">\n<title>target1__G8</title>\n<text text-anchor=\"middle\" x=\"32.5\" y=\"-14.3\" font-family=\"Times,serif\" font-size=\"14.00\">target1_</text>\n</g>\n<!-- target1__G8&#45;&gt;SelectSwapQROM -->\n<g id=\"edge3\" class=\"edge\">\n<title>target1__G8:e-&gt;SelectSwapQROM:w</title>\n<path fill=\"none\" stroke=\"black\" d=\"M64.5,-18C86.01,-18 80.2,-48.97 100,-50.91\"/>\n<ellipse fill=\"black\" stroke=\"black\" cx=\"101\" cy=\"-50.95\" rx=\"1\" ry=\"1\"/>\n<text text-anchor=\"middle\" x=\"83.5\" y=\"-39\" font-family=\"Times,serif\" font-size=\"10.00\">3</text>\n</g>\n<!-- selection_G0 -->\n<g id=\"node5\" class=\"node\">\n<title>selection_G0</title>\n<text text-anchor=\"middle\" x=\"256.5\" y=\"-122.3\" font-family=\"Times,serif\" font-size=\"14.00\">selection</text>\n</g>\n<!-- SelectSwapQROM&#45;&gt;selection_G0 -->\n<g id=\"edge4\" class=\"edge\">\n<title>SelectSwapQROM:e-&gt;selection_G0:w</title>\n<path fill=\"none\" stroke=\"black\" d=\"M187,-94C207.89,-94 202.72,-123.55 221.58,-125.86\"/>\n<ellipse fill=\"black\" stroke=\"black\" cx=\"223\" cy=\"-125.94\" rx=\"1\" ry=\"1\"/>\n<text text-anchor=\"middle\" x=\"205.5\" y=\"-113\" font-family=\"Times,serif\" font-size=\"10.00\">3</text>\n</g>\n<!-- target0__G4 -->\n<g id=\"node6\" class=\"node\">\n<title>target0__G4</title>\n<text text-anchor=\"middle\" x=\"256.5\" y=\"-68.3\" font-family=\"Times,serif\" font-size=\"14.00\">target0_</text>\n</g>\n<!-- SelectSwapQROM&#45;&gt;target0__G4 -->\n<g id=\"edge5\" class=\"edge\">\n<title>SelectSwapQROM:e-&gt;target0__G4:w</title>\n<path fill=\"none\" stroke=\"black\" d=\"M187,-72C202.89,-72 207.42,-72 222.24,-72\"/>\n<ellipse fill=\"black\" stroke=\"black\" cx=\"223.5\" cy=\"-72\" rx=\"1\" ry=\"1\"/>\n<text text-anchor=\"middle\" x=\"205.5\" y=\"-75\" font-family=\"Times,serif\" font-size=\"10.00\">3</text>\n</g>\n<!-- target1__G2 -->\n<g id=\"node7\" class=\"node\">\n<title>target1__G2</title>\n<text text-anchor=\"middle\" x=\"256.5\" y=\"-14.3\" font-family=\"Times,serif\" font-size=\"14.00\">target1_</text>\n</g>\n<!-- SelectSwapQROM&#45;&gt;target1__G2 -->\n<g id=\"edge6\" class=\"edge\">\n<title>SelectSwapQROM:e-&gt;target1__G2:w</title>\n<path fill=\"none\" stroke=\"black\" d=\"M187,-51C208.51,-51 202.7,-20.03 222.5,-18.09\"/>\n<ellipse fill=\"black\" stroke=\"black\" cx=\"223.5\" cy=\"-18.05\" rx=\"1\" ry=\"1\"/>\n<text text-anchor=\"middle\" x=\"205.5\" y=\"-39\" font-family=\"Times,serif\" font-size=\"10.00\">3</text>\n</g>\n</g>\n</svg>",
          "text/plain": "<IPython.core.display.SVG object>"
         },
         "metadata": {},
         "output_type": "display_data"
        }
       ],
       "tabbable": null,
       "tooltip": null
      }
     },
     "5ef04e5e8c904850aa59cc955231b815": {
      "model_module": "@jupyter-widgets/base",
      "model_module_version": "2.0.0",
      "model_name": "LayoutModel",
      "state": {
       "_model_module": "@jupyter-widgets/base",
       "_model_module_version": "2.0.0",
       "_model_name": "LayoutModel",
       "_view_count": null,
       "_view_module": "@jupyter-widgets/base",
       "_view_module_version": "2.0.0",
       "_view_name": "LayoutView",
       "align_content": null,
       "align_items": null,
       "align_self": null,
       "border_bottom": null,
       "border_left": null,
       "border_right": null,
       "border_top": null,
       "bottom": null,
       "display": null,
       "flex": null,
       "flex_flow": null,
       "grid_area": null,
       "grid_auto_columns": null,
       "grid_auto_flow": null,
       "grid_auto_rows": null,
       "grid_column": null,
       "grid_gap": null,
       "grid_row": null,
       "grid_template_areas": null,
       "grid_template_columns": null,
       "grid_template_rows": null,
       "height": null,
       "justify_content": null,
       "justify_items": null,
       "left": null,
       "margin": null,
       "max_height": null,
       "max_width": null,
       "min_height": null,
       "min_width": null,
       "object_fit": null,
       "object_position": null,
       "order": null,
       "overflow": null,
       "padding": null,
       "right": null,
       "top": null,
       "visibility": null,
       "width": null
      }
     },
     "6d5431270ef24f5eb197c76c72318c83": {
      "model_module": "@jupyter-widgets/base",
      "model_module_version": "2.0.0",
      "model_name": "LayoutModel",
      "state": {
       "_model_module": "@jupyter-widgets/base",
       "_model_module_version": "2.0.0",
       "_model_name": "LayoutModel",
       "_view_count": null,
       "_view_module": "@jupyter-widgets/base",
       "_view_module_version": "2.0.0",
       "_view_name": "LayoutView",
       "align_content": null,
       "align_items": null,
       "align_self": null,
       "border_bottom": null,
       "border_left": null,
       "border_right": null,
       "border_top": null,
       "bottom": null,
       "display": null,
       "flex": null,
       "flex_flow": null,
       "grid_area": null,
       "grid_auto_columns": null,
       "grid_auto_flow": null,
       "grid_auto_rows": null,
       "grid_column": null,
       "grid_gap": null,
       "grid_row": null,
       "grid_template_areas": null,
       "grid_template_columns": null,
       "grid_template_rows": null,
       "height": null,
       "justify_content": null,
       "justify_items": null,
       "left": null,
       "margin": null,
       "max_height": null,
       "max_width": null,
       "min_height": null,
       "min_width": null,
       "object_fit": null,
       "object_position": null,
       "order": null,
       "overflow": null,
       "padding": null,
       "right": null,
       "top": null,
       "visibility": null,
       "width": null
      }
     },
     "8529d273b83d4a3ab0b32347e33a4393": {
      "model_module": "@jupyter-widgets/output",
      "model_module_version": "1.0.0",
      "model_name": "OutputModel",
      "state": {
       "_dom_classes": [],
       "_model_module": "@jupyter-widgets/output",
       "_model_module_version": "1.0.0",
       "_model_name": "OutputModel",
       "_view_count": null,
       "_view_module": "@jupyter-widgets/output",
       "_view_module_version": "1.0.0",
       "_view_name": "OutputView",
       "layout": "IPY_MODEL_6d5431270ef24f5eb197c76c72318c83",
       "msg_id": "",
       "outputs": [
        {
         "data": {
          "text/markdown": "`qroam_symb_clean_1d`",
          "text/plain": "<IPython.core.display.Markdown object>"
         },
         "metadata": {},
         "output_type": "display_data"
        },
        {
         "data": {
          "image/svg+xml": "<svg xmlns=\"http://www.w3.org/2000/svg\" xmlns:xlink=\"http://www.w3.org/1999/xlink\" width=\"297pt\" height=\"152pt\" viewBox=\"0.00 0.00 297.00 152.00\">\n<g id=\"graph0\" class=\"graph\" transform=\"scale(1 1) rotate(0) translate(4 148)\">\n<title>my_graph</title>\n<polygon fill=\"white\" stroke=\"transparent\" points=\"-4,4 -4,-148 293,-148 293,4 -4,4\"/>\n<!-- control_G5 -->\n<g id=\"node1\" class=\"node\">\n<title>control_G5</title>\n<text text-anchor=\"middle\" x=\"32.5\" y=\"-122.3\" font-family=\"Times,serif\" font-size=\"14.00\">control</text>\n</g>\n<!-- SelectSwapQROM -->\n<g id=\"node4\" class=\"node\">\n<title>SelectSwapQROM</title>\n<polygon fill=\"none\" stroke=\"black\" points=\"102.5,-104 102.5,-121 187.5,-121 187.5,-104 102.5,-104\"/>\n<text text-anchor=\"start\" x=\"105.5\" y=\"-110\" font-family=\"Times,serif\" font-size=\"10.00\">SelectSwapQROM</text>\n<polygon fill=\"none\" stroke=\"black\" points=\"102.5,-83 102.5,-104 187.5,-104 187.5,-83 102.5,-83\"/>\n<text text-anchor=\"start\" x=\"125.5\" y=\"-89.8\" font-family=\"Times,serif\" font-size=\"14.00\">control</text>\n<polygon fill=\"none\" stroke=\"black\" points=\"102.5,-62 102.5,-83 187.5,-83 187.5,-62 102.5,-62\"/>\n<text text-anchor=\"start\" x=\"120.5\" y=\"-68.8\" font-family=\"Times,serif\" font-size=\"14.00\">selection</text>\n<polygon fill=\"none\" stroke=\"black\" points=\"102.5,-41 102.5,-62 187.5,-62 187.5,-41 102.5,-41\"/>\n<text text-anchor=\"start\" x=\"122.5\" y=\"-47.8\" font-family=\"Times,serif\" font-size=\"14.00\">target0_</text>\n</g>\n<!-- control_G5&#45;&gt;SelectSwapQROM -->\n<g id=\"edge1\" class=\"edge\">\n<title>control_G5:e-&gt;SelectSwapQROM:w</title>\n<path fill=\"none\" stroke=\"black\" d=\"M61.5,-126C83.72,-126 79.37,-95.97 99.93,-94.09\"/>\n<ellipse fill=\"black\" stroke=\"black\" cx=\"101\" cy=\"-94.04\" rx=\"1\" ry=\"1\"/>\n<text text-anchor=\"middle\" x=\"83.5\" y=\"-110\" font-family=\"Times,serif\" font-size=\"10.00\">c</text>\n</g>\n<!-- selection_G1 -->\n<g id=\"node2\" class=\"node\">\n<title>selection_G1</title>\n<text text-anchor=\"middle\" x=\"32.5\" y=\"-68.3\" font-family=\"Times,serif\" font-size=\"14.00\">selection</text>\n</g>\n<!-- selection_G1&#45;&gt;SelectSwapQROM -->\n<g id=\"edge2\" class=\"edge\">\n<title>selection_G1:e-&gt;SelectSwapQROM:w</title>\n<path fill=\"none\" stroke=\"black\" d=\"M65,-72C80.67,-72 85.14,-72 99.77,-72\"/>\n<ellipse fill=\"black\" stroke=\"black\" cx=\"101\" cy=\"-72\" rx=\"1\" ry=\"1\"/>\n<text text-anchor=\"middle\" x=\"83.5\" y=\"-75\" font-family=\"Times,serif\" font-size=\"10.00\">ceiling(log2(floor(N)))</text>\n</g>\n<!-- target0__G8 -->\n<g id=\"node3\" class=\"node\">\n<title>target0__G8</title>\n<text text-anchor=\"middle\" x=\"32.5\" y=\"-14.3\" font-family=\"Times,serif\" font-size=\"14.00\">target0_</text>\n</g>\n<!-- target0__G8&#45;&gt;SelectSwapQROM -->\n<g id=\"edge3\" class=\"edge\">\n<title>target0__G8:e-&gt;SelectSwapQROM:w</title>\n<path fill=\"none\" stroke=\"black\" d=\"M64.5,-18C86.01,-18 80.2,-48.97 100,-50.91\"/>\n<ellipse fill=\"black\" stroke=\"black\" cx=\"101\" cy=\"-50.95\" rx=\"1\" ry=\"1\"/>\n<text text-anchor=\"middle\" x=\"83.5\" y=\"-39\" font-family=\"Times,serif\" font-size=\"10.00\">b</text>\n</g>\n<!-- control_G0 -->\n<g id=\"node5\" class=\"node\">\n<title>control_G0</title>\n<text text-anchor=\"middle\" x=\"256.5\" y=\"-122.3\" font-family=\"Times,serif\" font-size=\"14.00\">control</text>\n</g>\n<!-- SelectSwapQROM&#45;&gt;control_G0 -->\n<g id=\"edge4\" class=\"edge\">\n<title>SelectSwapQROM:e-&gt;control_G0:w</title>\n<path fill=\"none\" stroke=\"black\" d=\"M187,-94C209.22,-94 204.87,-124.03 225.43,-125.91\"/>\n<ellipse fill=\"black\" stroke=\"black\" cx=\"226.5\" cy=\"-125.96\" rx=\"1\" ry=\"1\"/>\n<text text-anchor=\"middle\" x=\"205.5\" y=\"-110\" font-family=\"Times,serif\" font-size=\"10.00\">c</text>\n</g>\n<!-- selection_G3 -->\n<g id=\"node6\" class=\"node\">\n<title>selection_G3</title>\n<text text-anchor=\"middle\" x=\"256.5\" y=\"-68.3\" font-family=\"Times,serif\" font-size=\"14.00\">selection</text>\n</g>\n<!-- SelectSwapQROM&#45;&gt;selection_G3 -->\n<g id=\"edge5\" class=\"edge\">\n<title>SelectSwapQROM:e-&gt;selection_G3:w</title>\n<path fill=\"none\" stroke=\"black\" d=\"M187,-72C202.67,-72 207.14,-72 221.77,-72\"/>\n<ellipse fill=\"black\" stroke=\"black\" cx=\"223\" cy=\"-72\" rx=\"1\" ry=\"1\"/>\n<text text-anchor=\"middle\" x=\"205.5\" y=\"-75\" font-family=\"Times,serif\" font-size=\"10.00\">ceiling(log2(floor(N)))</text>\n</g>\n<!-- target0__G2 -->\n<g id=\"node7\" class=\"node\">\n<title>target0__G2</title>\n<text text-anchor=\"middle\" x=\"256.5\" y=\"-14.3\" font-family=\"Times,serif\" font-size=\"14.00\">target0_</text>\n</g>\n<!-- SelectSwapQROM&#45;&gt;target0__G2 -->\n<g id=\"edge6\" class=\"edge\">\n<title>SelectSwapQROM:e-&gt;target0__G2:w</title>\n<path fill=\"none\" stroke=\"black\" d=\"M187,-51C208.51,-51 202.7,-20.03 222.5,-18.09\"/>\n<ellipse fill=\"black\" stroke=\"black\" cx=\"223.5\" cy=\"-18.05\" rx=\"1\" ry=\"1\"/>\n<text text-anchor=\"middle\" x=\"205.5\" y=\"-39\" font-family=\"Times,serif\" font-size=\"10.00\">b</text>\n</g>\n</g>\n</svg>",
          "text/plain": "<IPython.core.display.SVG object>"
         },
         "metadata": {},
         "output_type": "display_data"
        }
       ],
       "tabbable": null,
       "tooltip": null
      }
     },
     "87580450baa94d4a8b974ad43bafd2f3": {
      "model_module": "@jupyter-widgets/output",
      "model_module_version": "1.0.0",
      "model_name": "OutputModel",
      "state": {
       "_dom_classes": [],
       "_model_module": "@jupyter-widgets/output",
       "_model_module_version": "1.0.0",
       "_model_name": "OutputModel",
       "_view_count": null,
       "_view_module": "@jupyter-widgets/output",
       "_view_module_version": "1.0.0",
       "_view_name": "OutputView",
       "layout": "IPY_MODEL_a9c6d875cc7643a5ac49afa8107985c9",
       "msg_id": "",
       "outputs": [
        {
         "data": {
          "text/markdown": "`qroam_symb_dirty_1d`",
          "text/plain": "<IPython.core.display.Markdown object>"
         },
         "metadata": {},
         "output_type": "display_data"
        },
        {
         "data": {
          "image/svg+xml": "<svg xmlns=\"http://www.w3.org/2000/svg\" xmlns:xlink=\"http://www.w3.org/1999/xlink\" width=\"297pt\" height=\"152pt\" viewBox=\"0.00 0.00 297.00 152.00\">\n<g id=\"graph0\" class=\"graph\" transform=\"scale(1 1) rotate(0) translate(4 148)\">\n<title>my_graph</title>\n<polygon fill=\"white\" stroke=\"transparent\" points=\"-4,4 -4,-148 293,-148 293,4 -4,4\"/>\n<!-- control_G7 -->\n<g id=\"node1\" class=\"node\">\n<title>control_G7</title>\n<text text-anchor=\"middle\" x=\"32.5\" y=\"-122.3\" font-family=\"Times,serif\" font-size=\"14.00\">control</text>\n</g>\n<!-- SelectSwapQROM -->\n<g id=\"node4\" class=\"node\">\n<title>SelectSwapQROM</title>\n<polygon fill=\"none\" stroke=\"black\" points=\"102.5,-104 102.5,-121 187.5,-121 187.5,-104 102.5,-104\"/>\n<text text-anchor=\"start\" x=\"105.5\" y=\"-110\" font-family=\"Times,serif\" font-size=\"10.00\">SelectSwapQROM</text>\n<polygon fill=\"none\" stroke=\"black\" points=\"102.5,-83 102.5,-104 187.5,-104 187.5,-83 102.5,-83\"/>\n<text text-anchor=\"start\" x=\"125.5\" y=\"-89.8\" font-family=\"Times,serif\" font-size=\"14.00\">control</text>\n<polygon fill=\"none\" stroke=\"black\" points=\"102.5,-62 102.5,-83 187.5,-83 187.5,-62 102.5,-62\"/>\n<text text-anchor=\"start\" x=\"120.5\" y=\"-68.8\" font-family=\"Times,serif\" font-size=\"14.00\">selection</text>\n<polygon fill=\"none\" stroke=\"black\" points=\"102.5,-41 102.5,-62 187.5,-62 187.5,-41 102.5,-41\"/>\n<text text-anchor=\"start\" x=\"122.5\" y=\"-47.8\" font-family=\"Times,serif\" font-size=\"14.00\">target0_</text>\n</g>\n<!-- control_G7&#45;&gt;SelectSwapQROM -->\n<g id=\"edge1\" class=\"edge\">\n<title>control_G7:e-&gt;SelectSwapQROM:w</title>\n<path fill=\"none\" stroke=\"black\" d=\"M61.5,-126C83.72,-126 79.37,-95.97 99.93,-94.09\"/>\n<ellipse fill=\"black\" stroke=\"black\" cx=\"101\" cy=\"-94.04\" rx=\"1\" ry=\"1\"/>\n<text text-anchor=\"middle\" x=\"83.5\" y=\"-110\" font-family=\"Times,serif\" font-size=\"10.00\">c</text>\n</g>\n<!-- selection_G1 -->\n<g id=\"node2\" class=\"node\">\n<title>selection_G1</title>\n<text text-anchor=\"middle\" x=\"32.5\" y=\"-68.3\" font-family=\"Times,serif\" font-size=\"14.00\">selection</text>\n</g>\n<!-- selection_G1&#45;&gt;SelectSwapQROM -->\n<g id=\"edge2\" class=\"edge\">\n<title>selection_G1:e-&gt;SelectSwapQROM:w</title>\n<path fill=\"none\" stroke=\"black\" d=\"M65,-72C80.67,-72 85.14,-72 99.77,-72\"/>\n<ellipse fill=\"black\" stroke=\"black\" cx=\"101\" cy=\"-72\" rx=\"1\" ry=\"1\"/>\n<text text-anchor=\"middle\" x=\"83.5\" y=\"-75\" font-family=\"Times,serif\" font-size=\"10.00\">ceiling(log2(floor(N)))</text>\n</g>\n<!-- target0__G8 -->\n<g id=\"node3\" class=\"node\">\n<title>target0__G8</title>\n<text text-anchor=\"middle\" x=\"32.5\" y=\"-14.3\" font-family=\"Times,serif\" font-size=\"14.00\">target0_</text>\n</g>\n<!-- target0__G8&#45;&gt;SelectSwapQROM -->\n<g id=\"edge3\" class=\"edge\">\n<title>target0__G8:e-&gt;SelectSwapQROM:w</title>\n<path fill=\"none\" stroke=\"black\" d=\"M64.5,-18C86.01,-18 80.2,-48.97 100,-50.91\"/>\n<ellipse fill=\"black\" stroke=\"black\" cx=\"101\" cy=\"-50.95\" rx=\"1\" ry=\"1\"/>\n<text text-anchor=\"middle\" x=\"83.5\" y=\"-39\" font-family=\"Times,serif\" font-size=\"10.00\">b</text>\n</g>\n<!-- control_G0 -->\n<g id=\"node5\" class=\"node\">\n<title>control_G0</title>\n<text text-anchor=\"middle\" x=\"256.5\" y=\"-122.3\" font-family=\"Times,serif\" font-size=\"14.00\">control</text>\n</g>\n<!-- SelectSwapQROM&#45;&gt;control_G0 -->\n<g id=\"edge4\" class=\"edge\">\n<title>SelectSwapQROM:e-&gt;control_G0:w</title>\n<path fill=\"none\" stroke=\"black\" d=\"M187,-94C209.22,-94 204.87,-124.03 225.43,-125.91\"/>\n<ellipse fill=\"black\" stroke=\"black\" cx=\"226.5\" cy=\"-125.96\" rx=\"1\" ry=\"1\"/>\n<text text-anchor=\"middle\" x=\"205.5\" y=\"-110\" font-family=\"Times,serif\" font-size=\"10.00\">c</text>\n</g>\n<!-- selection_G3 -->\n<g id=\"node6\" class=\"node\">\n<title>selection_G3</title>\n<text text-anchor=\"middle\" x=\"256.5\" y=\"-68.3\" font-family=\"Times,serif\" font-size=\"14.00\">selection</text>\n</g>\n<!-- SelectSwapQROM&#45;&gt;selection_G3 -->\n<g id=\"edge5\" class=\"edge\">\n<title>SelectSwapQROM:e-&gt;selection_G3:w</title>\n<path fill=\"none\" stroke=\"black\" d=\"M187,-72C202.67,-72 207.14,-72 221.77,-72\"/>\n<ellipse fill=\"black\" stroke=\"black\" cx=\"223\" cy=\"-72\" rx=\"1\" ry=\"1\"/>\n<text text-anchor=\"middle\" x=\"205.5\" y=\"-75\" font-family=\"Times,serif\" font-size=\"10.00\">ceiling(log2(floor(N)))</text>\n</g>\n<!-- target0__G2 -->\n<g id=\"node7\" class=\"node\">\n<title>target0__G2</title>\n<text text-anchor=\"middle\" x=\"256.5\" y=\"-14.3\" font-family=\"Times,serif\" font-size=\"14.00\">target0_</text>\n</g>\n<!-- SelectSwapQROM&#45;&gt;target0__G2 -->\n<g id=\"edge6\" class=\"edge\">\n<title>SelectSwapQROM:e-&gt;target0__G2:w</title>\n<path fill=\"none\" stroke=\"black\" d=\"M187,-51C208.51,-51 202.7,-20.03 222.5,-18.09\"/>\n<ellipse fill=\"black\" stroke=\"black\" cx=\"223.5\" cy=\"-18.05\" rx=\"1\" ry=\"1\"/>\n<text text-anchor=\"middle\" x=\"205.5\" y=\"-39\" font-family=\"Times,serif\" font-size=\"10.00\">b</text>\n</g>\n</g>\n</svg>",
          "text/plain": "<IPython.core.display.SVG object>"
         },
         "metadata": {},
         "output_type": "display_data"
        }
       ],
       "tabbable": null,
       "tooltip": null
      }
     },
     "8bc07a2dd4cd46cd936bf7c8756a9a9e": {
      "model_module": "@jupyter-widgets/base",
      "model_module_version": "2.0.0",
      "model_name": "LayoutModel",
      "state": {
       "_model_module": "@jupyter-widgets/base",
       "_model_module_version": "2.0.0",
       "_model_name": "LayoutModel",
       "_view_count": null,
       "_view_module": "@jupyter-widgets/base",
       "_view_module_version": "2.0.0",
       "_view_name": "LayoutView",
       "align_content": null,
       "align_items": null,
       "align_self": null,
       "border_bottom": null,
       "border_left": null,
       "border_right": null,
       "border_top": null,
       "bottom": null,
       "display": null,
       "flex": null,
       "flex_flow": null,
       "grid_area": null,
       "grid_auto_columns": null,
       "grid_auto_flow": null,
       "grid_auto_rows": null,
       "grid_column": null,
       "grid_gap": null,
       "grid_row": null,
       "grid_template_areas": null,
       "grid_template_columns": null,
       "grid_template_rows": null,
       "height": null,
       "justify_content": null,
       "justify_items": null,
       "left": null,
       "margin": null,
       "max_height": null,
       "max_width": null,
       "min_height": null,
       "min_width": null,
       "object_fit": null,
       "object_position": null,
       "order": null,
       "overflow": null,
       "padding": null,
       "right": null,
       "top": null,
       "visibility": null,
       "width": null
      }
     },
     "a9c6d875cc7643a5ac49afa8107985c9": {
      "model_module": "@jupyter-widgets/base",
      "model_module_version": "2.0.0",
      "model_name": "LayoutModel",
      "state": {
       "_model_module": "@jupyter-widgets/base",
       "_model_module_version": "2.0.0",
       "_model_name": "LayoutModel",
       "_view_count": null,
       "_view_module": "@jupyter-widgets/base",
       "_view_module_version": "2.0.0",
       "_view_name": "LayoutView",
       "align_content": null,
       "align_items": null,
       "align_self": null,
       "border_bottom": null,
       "border_left": null,
       "border_right": null,
       "border_top": null,
       "bottom": null,
       "display": null,
       "flex": null,
       "flex_flow": null,
       "grid_area": null,
       "grid_auto_columns": null,
       "grid_auto_flow": null,
       "grid_auto_rows": null,
       "grid_column": null,
       "grid_gap": null,
       "grid_row": null,
       "grid_template_areas": null,
       "grid_template_columns": null,
       "grid_template_rows": null,
       "height": null,
       "justify_content": null,
       "justify_items": null,
       "left": null,
       "margin": null,
       "max_height": null,
       "max_width": null,
       "min_height": null,
       "min_width": null,
       "object_fit": null,
       "object_position": null,
       "order": null,
       "overflow": null,
       "padding": null,
       "right": null,
       "top": null,
       "visibility": null,
       "width": null
      }
     },
     "eb12cac11266488db7ea18478b3aa22c": {
      "model_module": "@jupyter-widgets/output",
      "model_module_version": "1.0.0",
      "model_name": "OutputModel",
      "state": {
       "_dom_classes": [],
       "_model_module": "@jupyter-widgets/output",
       "_model_module_version": "1.0.0",
       "_model_name": "OutputModel",
       "_view_count": null,
       "_view_module": "@jupyter-widgets/output",
       "_view_module_version": "1.0.0",
       "_view_name": "OutputView",
       "layout": "IPY_MODEL_4bf209d4c9304d4e969c50d9fc720da3",
       "msg_id": "",
       "outputs": [
        {
         "data": {
          "text/markdown": "`qroam_symb_dirty_2d`",
          "text/plain": "<IPython.core.display.Markdown object>"
         },
         "metadata": {},
         "output_type": "display_data"
        },
        {
         "data": {
          "image/svg+xml": "<svg xmlns=\"http://www.w3.org/2000/svg\" xmlns:xlink=\"http://www.w3.org/1999/xlink\" width=\"309pt\" height=\"260pt\" viewBox=\"0.00 0.00 309.00 260.00\">\n<g id=\"graph0\" class=\"graph\" transform=\"scale(1 1) rotate(0) translate(4 256)\">\n<title>my_graph</title>\n<polygon fill=\"white\" stroke=\"transparent\" points=\"-4,4 -4,-256 305,-256 305,4 -4,4\"/>\n<!-- control_G13 -->\n<g id=\"node1\" class=\"node\">\n<title>control_G13</title>\n<text text-anchor=\"middle\" x=\"35.5\" y=\"-230.3\" font-family=\"Times,serif\" font-size=\"14.00\">control</text>\n</g>\n<!-- SelectSwapQROM -->\n<g id=\"node6\" class=\"node\">\n<title>SelectSwapQROM</title>\n<polygon fill=\"none\" stroke=\"black\" points=\"108.5,-179 108.5,-196 193.5,-196 193.5,-179 108.5,-179\"/>\n<text text-anchor=\"start\" x=\"111.5\" y=\"-185\" font-family=\"Times,serif\" font-size=\"10.00\">SelectSwapQROM</text>\n<polygon fill=\"none\" stroke=\"black\" points=\"108.5,-158 108.5,-179 193.5,-179 193.5,-158 108.5,-158\"/>\n<text text-anchor=\"start\" x=\"131.5\" y=\"-164.8\" font-family=\"Times,serif\" font-size=\"14.00\">control</text>\n<polygon fill=\"none\" stroke=\"black\" points=\"108.5,-137 108.5,-158 193.5,-158 193.5,-137 108.5,-137\"/>\n<text text-anchor=\"start\" x=\"123.5\" y=\"-143.8\" font-family=\"Times,serif\" font-size=\"14.00\">selection0</text>\n<polygon fill=\"none\" stroke=\"black\" points=\"108.5,-116 108.5,-137 193.5,-137 193.5,-116 108.5,-116\"/>\n<text text-anchor=\"start\" x=\"123.5\" y=\"-122.8\" font-family=\"Times,serif\" font-size=\"14.00\">selection1</text>\n<polygon fill=\"none\" stroke=\"black\" points=\"108.5,-95 108.5,-116 193.5,-116 193.5,-95 108.5,-95\"/>\n<text text-anchor=\"start\" x=\"128.5\" y=\"-101.8\" font-family=\"Times,serif\" font-size=\"14.00\">target0_</text>\n<polygon fill=\"none\" stroke=\"black\" points=\"108.5,-74 108.5,-95 193.5,-95 193.5,-74 108.5,-74\"/>\n<text text-anchor=\"start\" x=\"128.5\" y=\"-80.8\" font-family=\"Times,serif\" font-size=\"14.00\">target1_</text>\n</g>\n<!-- control_G13&#45;&gt;SelectSwapQROM -->\n<g id=\"edge1\" class=\"edge\">\n<title>control_G13:e-&gt;SelectSwapQROM:w</title>\n<path fill=\"none\" stroke=\"black\" d=\"M64.5,-234C98.45,-234 74.43,-172.01 105.65,-169.11\"/>\n<ellipse fill=\"black\" stroke=\"black\" cx=\"107\" cy=\"-169.04\" rx=\"1\" ry=\"1\"/>\n<text text-anchor=\"middle\" x=\"89.5\" y=\"-187\" font-family=\"Times,serif\" font-size=\"10.00\">c</text>\n</g>\n<!-- selection0_G11 -->\n<g id=\"node2\" class=\"node\">\n<title>selection0_G11</title>\n<text text-anchor=\"middle\" x=\"35.5\" y=\"-176.3\" font-family=\"Times,serif\" font-size=\"14.00\">selection0</text>\n</g>\n<!-- selection0_G11&#45;&gt;SelectSwapQROM -->\n<g id=\"edge2\" class=\"edge\">\n<title>selection0_G11:e-&gt;SelectSwapQROM:w</title>\n<path fill=\"none\" stroke=\"black\" d=\"M71,-180C91.89,-180 86.72,-150.45 105.58,-148.14\"/>\n<ellipse fill=\"black\" stroke=\"black\" cx=\"107\" cy=\"-148.06\" rx=\"1\" ry=\"1\"/>\n<text text-anchor=\"middle\" x=\"89.5\" y=\"-167\" font-family=\"Times,serif\" font-size=\"10.00\">ceiling(log2(floor(N)))</text>\n</g>\n<!-- selection1_G6 -->\n<g id=\"node3\" class=\"node\">\n<title>selection1_G6</title>\n<text text-anchor=\"middle\" x=\"35.5\" y=\"-122.3\" font-family=\"Times,serif\" font-size=\"14.00\">selection1</text>\n</g>\n<!-- selection1_G6&#45;&gt;SelectSwapQROM -->\n<g id=\"edge3\" class=\"edge\">\n<title>selection1_G6:e-&gt;SelectSwapQROM:w</title>\n<path fill=\"none\" stroke=\"black\" d=\"M71,-126C86.67,-126 91.14,-126 105.77,-126\"/>\n<ellipse fill=\"black\" stroke=\"black\" cx=\"107\" cy=\"-126\" rx=\"1\" ry=\"1\"/>\n<text text-anchor=\"middle\" x=\"89.5\" y=\"-129\" font-family=\"Times,serif\" font-size=\"10.00\">ceiling(log2(floor(M)))</text>\n</g>\n<!-- target0__G7 -->\n<g id=\"node4\" class=\"node\">\n<title>target0__G7</title>\n<text text-anchor=\"middle\" x=\"35.5\" y=\"-68.3\" font-family=\"Times,serif\" font-size=\"14.00\">target0_</text>\n</g>\n<!-- target0__G7&#45;&gt;SelectSwapQROM -->\n<g id=\"edge4\" class=\"edge\">\n<title>target0__G7:e-&gt;SelectSwapQROM:w</title>\n<path fill=\"none\" stroke=\"black\" d=\"M67.5,-72C89.99,-72 85.12,-102.97 105.91,-104.91\"/>\n<ellipse fill=\"black\" stroke=\"black\" cx=\"107\" cy=\"-104.95\" rx=\"1\" ry=\"1\"/>\n<text text-anchor=\"middle\" x=\"89.5\" y=\"-95\" font-family=\"Times,serif\" font-size=\"10.00\">b1</text>\n</g>\n<!-- target1__G12 -->\n<g id=\"node5\" class=\"node\">\n<title>target1__G12</title>\n<text text-anchor=\"middle\" x=\"35.5\" y=\"-14.3\" font-family=\"Times,serif\" font-size=\"14.00\">target1_</text>\n</g>\n<!-- target1__G12&#45;&gt;SelectSwapQROM -->\n<g id=\"edge5\" class=\"edge\">\n<title>target1__G12:e-&gt;SelectSwapQROM:w</title>\n<path fill=\"none\" stroke=\"black\" d=\"M67.5,-18C101.11,-18 74.88,-80.94 105.68,-83.89\"/>\n<ellipse fill=\"black\" stroke=\"black\" cx=\"107\" cy=\"-83.95\" rx=\"1\" ry=\"1\"/>\n<text text-anchor=\"middle\" x=\"89.5\" y=\"-70\" font-family=\"Times,serif\" font-size=\"10.00\">b2</text>\n</g>\n<!-- control_G0 -->\n<g id=\"node7\" class=\"node\">\n<title>control_G0</title>\n<text text-anchor=\"middle\" x=\"265.5\" y=\"-230.3\" font-family=\"Times,serif\" font-size=\"14.00\">control</text>\n</g>\n<!-- SelectSwapQROM&#45;&gt;control_G0 -->\n<g id=\"edge6\" class=\"edge\">\n<title>SelectSwapQROM:e-&gt;control_G0:w</title>\n<path fill=\"none\" stroke=\"black\" d=\"M193,-169C226.95,-169 202.93,-230.99 234.15,-233.89\"/>\n<ellipse fill=\"black\" stroke=\"black\" cx=\"235.5\" cy=\"-233.96\" rx=\"1\" ry=\"1\"/>\n<text text-anchor=\"middle\" x=\"211.5\" y=\"-187\" font-family=\"Times,serif\" font-size=\"10.00\">c</text>\n</g>\n<!-- selection0_G14 -->\n<g id=\"node8\" class=\"node\">\n<title>selection0_G14</title>\n<text text-anchor=\"middle\" x=\"265.5\" y=\"-176.3\" font-family=\"Times,serif\" font-size=\"14.00\">selection0</text>\n</g>\n<!-- SelectSwapQROM&#45;&gt;selection0_G14 -->\n<g id=\"edge7\" class=\"edge\">\n<title>SelectSwapQROM:e-&gt;selection0_G14:w</title>\n<path fill=\"none\" stroke=\"black\" d=\"M193,-148C213.89,-148 208.72,-177.55 227.58,-179.86\"/>\n<ellipse fill=\"black\" stroke=\"black\" cx=\"229\" cy=\"-179.94\" rx=\"1\" ry=\"1\"/>\n<text text-anchor=\"middle\" x=\"211.5\" y=\"-167\" font-family=\"Times,serif\" font-size=\"10.00\">ceiling(log2(floor(N)))</text>\n</g>\n<!-- selection1_G10 -->\n<g id=\"node9\" class=\"node\">\n<title>selection1_G10</title>\n<text text-anchor=\"middle\" x=\"265.5\" y=\"-122.3\" font-family=\"Times,serif\" font-size=\"14.00\">selection1</text>\n</g>\n<!-- SelectSwapQROM&#45;&gt;selection1_G10 -->\n<g id=\"edge8\" class=\"edge\">\n<title>SelectSwapQROM:e-&gt;selection1_G10:w</title>\n<path fill=\"none\" stroke=\"black\" d=\"M193,-126C208.67,-126 213.14,-126 227.77,-126\"/>\n<ellipse fill=\"black\" stroke=\"black\" cx=\"229\" cy=\"-126\" rx=\"1\" ry=\"1\"/>\n<text text-anchor=\"middle\" x=\"211.5\" y=\"-129\" font-family=\"Times,serif\" font-size=\"10.00\">ceiling(log2(floor(M)))</text>\n</g>\n<!-- target0__G3 -->\n<g id=\"node10\" class=\"node\">\n<title>target0__G3</title>\n<text text-anchor=\"middle\" x=\"265.5\" y=\"-68.3\" font-family=\"Times,serif\" font-size=\"14.00\">target0_</text>\n</g>\n<!-- SelectSwapQROM&#45;&gt;target0__G3 -->\n<g id=\"edge9\" class=\"edge\">\n<title>SelectSwapQROM:e-&gt;target0__G3:w</title>\n<path fill=\"none\" stroke=\"black\" d=\"M193,-105C215.49,-105 210.62,-74.03 231.41,-72.09\"/>\n<ellipse fill=\"black\" stroke=\"black\" cx=\"232.5\" cy=\"-72.05\" rx=\"1\" ry=\"1\"/>\n<text text-anchor=\"middle\" x=\"211.5\" y=\"-95\" font-family=\"Times,serif\" font-size=\"10.00\">b1</text>\n</g>\n<!-- target1__G4 -->\n<g id=\"node11\" class=\"node\">\n<title>target1__G4</title>\n<text text-anchor=\"middle\" x=\"265.5\" y=\"-14.3\" font-family=\"Times,serif\" font-size=\"14.00\">target1_</text>\n</g>\n<!-- SelectSwapQROM&#45;&gt;target1__G4 -->\n<g id=\"edge10\" class=\"edge\">\n<title>SelectSwapQROM:e-&gt;target1__G4:w</title>\n<path fill=\"none\" stroke=\"black\" d=\"M193,-84C226.61,-84 200.38,-21.06 231.18,-18.11\"/>\n<ellipse fill=\"black\" stroke=\"black\" cx=\"232.5\" cy=\"-18.05\" rx=\"1\" ry=\"1\"/>\n<text text-anchor=\"middle\" x=\"211.5\" y=\"-70\" font-family=\"Times,serif\" font-size=\"10.00\">b2</text>\n</g>\n</g>\n</svg>",
          "text/plain": "<IPython.core.display.SVG object>"
         },
         "metadata": {},
         "output_type": "display_data"
        }
       ],
       "tabbable": null,
       "tooltip": null
      }
     },
     "efc3e9910157480391489f618a11640f": {
      "model_module": "@jupyter-widgets/controls",
      "model_module_version": "2.0.0",
      "model_name": "HBoxModel",
      "state": {
       "_dom_classes": [],
       "_model_module": "@jupyter-widgets/controls",
       "_model_module_version": "2.0.0",
       "_model_name": "HBoxModel",
       "_view_count": null,
       "_view_module": "@jupyter-widgets/controls",
       "_view_module_version": "2.0.0",
       "_view_name": "HBoxView",
       "box_style": "",
       "children": [
        "IPY_MODEL_4f4fa522b22448b2acb09bb046916f4f",
        "IPY_MODEL_43420ff0ecb540f0975fc7961bc77819",
        "IPY_MODEL_87580450baa94d4a8b974ad43bafd2f3",
        "IPY_MODEL_eb12cac11266488db7ea18478b3aa22c",
        "IPY_MODEL_8529d273b83d4a3ab0b32347e33a4393",
        "IPY_MODEL_fcbca76296cd4818bd9d18a08ccec774"
       ],
       "layout": "IPY_MODEL_3cb77ace2cf54d75b3e1c3a8ec73123d",
       "tabbable": null,
       "tooltip": null
      }
     },
     "fcbca76296cd4818bd9d18a08ccec774": {
      "model_module": "@jupyter-widgets/output",
      "model_module_version": "1.0.0",
      "model_name": "OutputModel",
      "state": {
       "_dom_classes": [],
       "_model_module": "@jupyter-widgets/output",
       "_model_module_version": "1.0.0",
       "_model_name": "OutputModel",
       "_view_count": null,
       "_view_module": "@jupyter-widgets/output",
       "_view_module_version": "1.0.0",
       "_view_name": "OutputView",
       "layout": "IPY_MODEL_5ef04e5e8c904850aa59cc955231b815",
       "msg_id": "",
       "outputs": [
        {
         "data": {
          "text/markdown": "`qroam_symb_clean_2d`",
          "text/plain": "<IPython.core.display.Markdown object>"
         },
         "metadata": {},
         "output_type": "display_data"
        },
        {
         "data": {
          "image/svg+xml": "<svg xmlns=\"http://www.w3.org/2000/svg\" xmlns:xlink=\"http://www.w3.org/1999/xlink\" width=\"309pt\" height=\"260pt\" viewBox=\"0.00 0.00 309.00 260.00\">\n<g id=\"graph0\" class=\"graph\" transform=\"scale(1 1) rotate(0) translate(4 256)\">\n<title>my_graph</title>\n<polygon fill=\"white\" stroke=\"transparent\" points=\"-4,4 -4,-256 305,-256 305,4 -4,4\"/>\n<!-- control_G12 -->\n<g id=\"node1\" class=\"node\">\n<title>control_G12</title>\n<text text-anchor=\"middle\" x=\"35.5\" y=\"-230.3\" font-family=\"Times,serif\" font-size=\"14.00\">control</text>\n</g>\n<!-- SelectSwapQROM -->\n<g id=\"node6\" class=\"node\">\n<title>SelectSwapQROM</title>\n<polygon fill=\"none\" stroke=\"black\" points=\"108.5,-179 108.5,-196 193.5,-196 193.5,-179 108.5,-179\"/>\n<text text-anchor=\"start\" x=\"111.5\" y=\"-185\" font-family=\"Times,serif\" font-size=\"10.00\">SelectSwapQROM</text>\n<polygon fill=\"none\" stroke=\"black\" points=\"108.5,-158 108.5,-179 193.5,-179 193.5,-158 108.5,-158\"/>\n<text text-anchor=\"start\" x=\"131.5\" y=\"-164.8\" font-family=\"Times,serif\" font-size=\"14.00\">control</text>\n<polygon fill=\"none\" stroke=\"black\" points=\"108.5,-137 108.5,-158 193.5,-158 193.5,-137 108.5,-137\"/>\n<text text-anchor=\"start\" x=\"123.5\" y=\"-143.8\" font-family=\"Times,serif\" font-size=\"14.00\">selection0</text>\n<polygon fill=\"none\" stroke=\"black\" points=\"108.5,-116 108.5,-137 193.5,-137 193.5,-116 108.5,-116\"/>\n<text text-anchor=\"start\" x=\"123.5\" y=\"-122.8\" font-family=\"Times,serif\" font-size=\"14.00\">selection1</text>\n<polygon fill=\"none\" stroke=\"black\" points=\"108.5,-95 108.5,-116 193.5,-116 193.5,-95 108.5,-95\"/>\n<text text-anchor=\"start\" x=\"128.5\" y=\"-101.8\" font-family=\"Times,serif\" font-size=\"14.00\">target0_</text>\n<polygon fill=\"none\" stroke=\"black\" points=\"108.5,-74 108.5,-95 193.5,-95 193.5,-74 108.5,-74\"/>\n<text text-anchor=\"start\" x=\"128.5\" y=\"-80.8\" font-family=\"Times,serif\" font-size=\"14.00\">target1_</text>\n</g>\n<!-- control_G12&#45;&gt;SelectSwapQROM -->\n<g id=\"edge1\" class=\"edge\">\n<title>control_G12:e-&gt;SelectSwapQROM:w</title>\n<path fill=\"none\" stroke=\"black\" d=\"M64.5,-234C98.45,-234 74.43,-172.01 105.65,-169.11\"/>\n<ellipse fill=\"black\" stroke=\"black\" cx=\"107\" cy=\"-169.04\" rx=\"1\" ry=\"1\"/>\n<text text-anchor=\"middle\" x=\"89.5\" y=\"-187\" font-family=\"Times,serif\" font-size=\"10.00\">c</text>\n</g>\n<!-- selection0_G8 -->\n<g id=\"node2\" class=\"node\">\n<title>selection0_G8</title>\n<text text-anchor=\"middle\" x=\"35.5\" y=\"-176.3\" font-family=\"Times,serif\" font-size=\"14.00\">selection0</text>\n</g>\n<!-- selection0_G8&#45;&gt;SelectSwapQROM -->\n<g id=\"edge2\" class=\"edge\">\n<title>selection0_G8:e-&gt;SelectSwapQROM:w</title>\n<path fill=\"none\" stroke=\"black\" d=\"M71,-180C91.89,-180 86.72,-150.45 105.58,-148.14\"/>\n<ellipse fill=\"black\" stroke=\"black\" cx=\"107\" cy=\"-148.06\" rx=\"1\" ry=\"1\"/>\n<text text-anchor=\"middle\" x=\"89.5\" y=\"-167\" font-family=\"Times,serif\" font-size=\"10.00\">ceiling(log2(floor(N)))</text>\n</g>\n<!-- selection1_G4 -->\n<g id=\"node3\" class=\"node\">\n<title>selection1_G4</title>\n<text text-anchor=\"middle\" x=\"35.5\" y=\"-122.3\" font-family=\"Times,serif\" font-size=\"14.00\">selection1</text>\n</g>\n<!-- selection1_G4&#45;&gt;SelectSwapQROM -->\n<g id=\"edge3\" class=\"edge\">\n<title>selection1_G4:e-&gt;SelectSwapQROM:w</title>\n<path fill=\"none\" stroke=\"black\" d=\"M71,-126C86.67,-126 91.14,-126 105.77,-126\"/>\n<ellipse fill=\"black\" stroke=\"black\" cx=\"107\" cy=\"-126\" rx=\"1\" ry=\"1\"/>\n<text text-anchor=\"middle\" x=\"89.5\" y=\"-129\" font-family=\"Times,serif\" font-size=\"10.00\">ceiling(log2(floor(M)))</text>\n</g>\n<!-- target0__G5 -->\n<g id=\"node4\" class=\"node\">\n<title>target0__G5</title>\n<text text-anchor=\"middle\" x=\"35.5\" y=\"-68.3\" font-family=\"Times,serif\" font-size=\"14.00\">target0_</text>\n</g>\n<!-- target0__G5&#45;&gt;SelectSwapQROM -->\n<g id=\"edge4\" class=\"edge\">\n<title>target0__G5:e-&gt;SelectSwapQROM:w</title>\n<path fill=\"none\" stroke=\"black\" d=\"M67.5,-72C89.99,-72 85.12,-102.97 105.91,-104.91\"/>\n<ellipse fill=\"black\" stroke=\"black\" cx=\"107\" cy=\"-104.95\" rx=\"1\" ry=\"1\"/>\n<text text-anchor=\"middle\" x=\"89.5\" y=\"-95\" font-family=\"Times,serif\" font-size=\"10.00\">b1</text>\n</g>\n<!-- target1__G9 -->\n<g id=\"node5\" class=\"node\">\n<title>target1__G9</title>\n<text text-anchor=\"middle\" x=\"35.5\" y=\"-14.3\" font-family=\"Times,serif\" font-size=\"14.00\">target1_</text>\n</g>\n<!-- target1__G9&#45;&gt;SelectSwapQROM -->\n<g id=\"edge5\" class=\"edge\">\n<title>target1__G9:e-&gt;SelectSwapQROM:w</title>\n<path fill=\"none\" stroke=\"black\" d=\"M67.5,-18C101.11,-18 74.88,-80.94 105.68,-83.89\"/>\n<ellipse fill=\"black\" stroke=\"black\" cx=\"107\" cy=\"-83.95\" rx=\"1\" ry=\"1\"/>\n<text text-anchor=\"middle\" x=\"89.5\" y=\"-70\" font-family=\"Times,serif\" font-size=\"10.00\">b2</text>\n</g>\n<!-- control_G0 -->\n<g id=\"node7\" class=\"node\">\n<title>control_G0</title>\n<text text-anchor=\"middle\" x=\"265.5\" y=\"-230.3\" font-family=\"Times,serif\" font-size=\"14.00\">control</text>\n</g>\n<!-- SelectSwapQROM&#45;&gt;control_G0 -->\n<g id=\"edge6\" class=\"edge\">\n<title>SelectSwapQROM:e-&gt;control_G0:w</title>\n<path fill=\"none\" stroke=\"black\" d=\"M193,-169C226.95,-169 202.93,-230.99 234.15,-233.89\"/>\n<ellipse fill=\"black\" stroke=\"black\" cx=\"235.5\" cy=\"-233.96\" rx=\"1\" ry=\"1\"/>\n<text text-anchor=\"middle\" x=\"211.5\" y=\"-187\" font-family=\"Times,serif\" font-size=\"10.00\">c</text>\n</g>\n<!-- selection0_G13 -->\n<g id=\"node8\" class=\"node\">\n<title>selection0_G13</title>\n<text text-anchor=\"middle\" x=\"265.5\" y=\"-176.3\" font-family=\"Times,serif\" font-size=\"14.00\">selection0</text>\n</g>\n<!-- SelectSwapQROM&#45;&gt;selection0_G13 -->\n<g id=\"edge7\" class=\"edge\">\n<title>SelectSwapQROM:e-&gt;selection0_G13:w</title>\n<path fill=\"none\" stroke=\"black\" d=\"M193,-148C213.89,-148 208.72,-177.55 227.58,-179.86\"/>\n<ellipse fill=\"black\" stroke=\"black\" cx=\"229\" cy=\"-179.94\" rx=\"1\" ry=\"1\"/>\n<text text-anchor=\"middle\" x=\"211.5\" y=\"-167\" font-family=\"Times,serif\" font-size=\"10.00\">ceiling(log2(floor(N)))</text>\n</g>\n<!-- selection1_G7 -->\n<g id=\"node9\" class=\"node\">\n<title>selection1_G7</title>\n<text text-anchor=\"middle\" x=\"265.5\" y=\"-122.3\" font-family=\"Times,serif\" font-size=\"14.00\">selection1</text>\n</g>\n<!-- SelectSwapQROM&#45;&gt;selection1_G7 -->\n<g id=\"edge8\" class=\"edge\">\n<title>SelectSwapQROM:e-&gt;selection1_G7:w</title>\n<path fill=\"none\" stroke=\"black\" d=\"M193,-126C208.67,-126 213.14,-126 227.77,-126\"/>\n<ellipse fill=\"black\" stroke=\"black\" cx=\"229\" cy=\"-126\" rx=\"1\" ry=\"1\"/>\n<text text-anchor=\"middle\" x=\"211.5\" y=\"-129\" font-family=\"Times,serif\" font-size=\"10.00\">ceiling(log2(floor(M)))</text>\n</g>\n<!-- target0__G2 -->\n<g id=\"node10\" class=\"node\">\n<title>target0__G2</title>\n<text text-anchor=\"middle\" x=\"265.5\" y=\"-68.3\" font-family=\"Times,serif\" font-size=\"14.00\">target0_</text>\n</g>\n<!-- SelectSwapQROM&#45;&gt;target0__G2 -->\n<g id=\"edge9\" class=\"edge\">\n<title>SelectSwapQROM:e-&gt;target0__G2:w</title>\n<path fill=\"none\" stroke=\"black\" d=\"M193,-105C215.49,-105 210.62,-74.03 231.41,-72.09\"/>\n<ellipse fill=\"black\" stroke=\"black\" cx=\"232.5\" cy=\"-72.05\" rx=\"1\" ry=\"1\"/>\n<text text-anchor=\"middle\" x=\"211.5\" y=\"-95\" font-family=\"Times,serif\" font-size=\"10.00\">b1</text>\n</g>\n<!-- target1__G1 -->\n<g id=\"node11\" class=\"node\">\n<title>target1__G1</title>\n<text text-anchor=\"middle\" x=\"265.5\" y=\"-14.3\" font-family=\"Times,serif\" font-size=\"14.00\">target1_</text>\n</g>\n<!-- SelectSwapQROM&#45;&gt;target1__G1 -->\n<g id=\"edge10\" class=\"edge\">\n<title>SelectSwapQROM:e-&gt;target1__G1:w</title>\n<path fill=\"none\" stroke=\"black\" d=\"M193,-84C226.61,-84 200.38,-21.06 231.18,-18.11\"/>\n<ellipse fill=\"black\" stroke=\"black\" cx=\"232.5\" cy=\"-18.05\" rx=\"1\" ry=\"1\"/>\n<text text-anchor=\"middle\" x=\"211.5\" y=\"-70\" font-family=\"Times,serif\" font-size=\"10.00\">b2</text>\n</g>\n</g>\n</svg>",
          "text/plain": "<IPython.core.display.SVG object>"
         },
         "metadata": {},
         "output_type": "display_data"
        }
       ],
       "tabbable": null,
       "tooltip": null
      }
     }
    },
    "version_major": 2,
    "version_minor": 0
   }
  }
 },
 "nbformat": 4,
 "nbformat_minor": 5
}
