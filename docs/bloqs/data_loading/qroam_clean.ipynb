{
 "cells": [
  {
   "cell_type": "markdown",
   "id": "f81ea157",
   "metadata": {
    "cq.autogen": "title_cell"
   },
   "source": [
    "# Advanced QROM (aka QROAM) using clean ancilla"
   ]
  },
  {
   "cell_type": "code",
   "execution_count": 1,
   "id": "65f7e061",
   "metadata": {
    "cq.autogen": "top_imports"
   },
   "outputs": [],
   "source": [
    "from qualtran import Bloq, CompositeBloq, BloqBuilder, Signature, Register\n",
    "from qualtran import QBit, QInt, QUInt, QAny\n",
    "from qualtran.drawing import show_bloq, show_call_graph, show_counts_sigma\n",
    "from typing import *\n",
    "import numpy as np\n",
    "import sympy\n",
    "import cirq"
   ]
  },
  {
   "cell_type": "markdown",
   "id": "de80d822",
   "metadata": {
    "cq.autogen": "QROMBase.bloq_doc.md"
   },
   "source": [
    "## `QROMBase`\n",
    "Interface for Bloqs to load `data[l]` when the selection register stores index `l`.\n",
    "\n",
    "## Overview\n",
    "The action of a QROM can be described as\n",
    "$$\n",
    "        \\text{QROM}_{s_1, s_2, \\dots, s_K}^{d_1, d_2, \\dots, d_L}\n",
    "        |s_1\\rangle |s_2\\rangle \\dots |s_K\\rangle\n",
    "        |0\\rangle^{\\otimes b_1} |0\\rangle^{\\otimes b_2} \\dots |0\\rangle^{\\otimes b_L}\n",
    "        \\rightarrow\n",
    "        |s_1\\rangle |s_2\\rangle \\dots |s_K\\rangle\n",
    "        |d_1[s_1, s_2, \\dots, s_k]\\rangle\n",
    "        |d_2[s_1, s_2, \\dots, s_k]\\rangle \\dots\n",
    "        |d_L[s_1, s_2, \\dots, s_k]\\rangle\n",
    "$$\n",
    "\n",
    "A behavior of a QROM can be understood in terms of its classical analogue, where a for-loop\n",
    "over one or more (selection) indices can be used to load one or more classical datasets, where\n",
    "each of the classical dataset can be multidimensional.\n",
    "\n",
    "```\n",
    ">>> # N, M, P, Q, R, S, T are pre-initialized integer parameters.\n",
    ">>> output = [np.zeros((P, Q)), np.zeros((R, S, T))]\n",
    ">>> # Load two different classical datasets; each of different shape.\n",
    ">>> data = [np.random.rand(N, M, P, Q), np.random.rand(N, M, R, S, T)]\n",
    ">>> for i in range(N): # For loop over two selection indices i and j.\n",
    ">>>     for j in range(M):\n",
    ">>>        # Load two multidimensional classical datasets data[0] and data[1] s.t.\n",
    ">>>        # |i, j⟩|0⟩  -> |i, j⟩|data[0][i, j, :]⟩|data[1][i, j, :]⟩\n",
    ">>>        output[0] = data[0][i, j, :]\n",
    ">>>        output[1] = data[1][i, j, :]\n",
    "```\n",
    "\n",
    "The parameters that control the behavior and costs of a QROM are -\n",
    "\n",
    "1. Number of selection registers (eg: $i$, $j$) and their iteration lengths (eg: $N$, $M$).\n",
    "2. Number of target registers, their quantum datatype and shape.\n",
    "    - Number of target registers: One for each classical dataset to load (eg: $\\text{data}[0]$\n",
    "        and $\\text{data}[1]$)\n",
    "    - QDType of target registers: Depends on `dtype` of the $i$'th classical dataset\n",
    "    - Shape of target registers: Depends on shape of classical data (eg: $(P, Q)$ and\n",
    "        $(R, S, T)$ above)\n",
    "\n",
    "### Specification of classical data via `data_or_shape`\n",
    "Users can specify the classical data to load via QROM by passing in an appropriate value\n",
    "for `data_or_shape` attribute. This is a list of numpy arrays or `Shaped` objects, where\n",
    "each item of the list corresponds to a classical dataset to load.\n",
    "\n",
    "Each classical dataset to load can be specified as a numpy array (or a `Shaped` object for\n",
    "symbolic bloqs). The shape of the dataset is a union of the selection shape and target shape,\n",
    "s.t.\n",
    "$$\n",
    "    \\text{data[i].shape} = \\text{selection\\_shape} + \\text{target\\_shape[i]}\n",
    "$$\n",
    "\n",
    "Note that the $\\text{selection\\_shape}$ should be same across all classical datasets to be\n",
    "loaded and correspond to a tuple of iteration lengths of selection indices (i.e. $(N, M)$\n",
    "in the example above).\n",
    "\n",
    "The target shape of each classical dataset can be different and parameterizes the size of\n",
    "the desired output that should be loaded in a target register.\n",
    "\n",
    "### Number of selection registers and their iteration lengths\n",
    "As describe in the previous section, the number of selection registers and their iteration\n",
    "lengths can be inferred from the shape of the classical dataset. All classical datasets\n",
    "to be loaded must have the same $\\text{selection\\_shape}$, which is a tuple of iteration\n",
    "lengths over each dimension of the dataset (i.e. the range for each nested for-loop).\n",
    "\n",
    "In order to load a data set with $\\text{selection\\_shape} == (P, Q, R, S)$ the QROM bloq\n",
    "needs four selection registers with bitsizes $(p, q, r, s)$ where each of\n",
    "$p,q,r,s \\geq \\log_2{P}, \\log_2{Q}, \\log_2{R}, \\log_2{S}$.\n",
    "\n",
    "In general, to load $K$ dimensional data, we use $K$ named selection registers\n",
    "$(\\text{selection}_0, \\text{selection}_1, ..., \\text{selection}_k)$ to index and\n",
    "load the data. For the $i$'th selection register, its size is configured using\n",
    "attribute $\\text{selection\\_bitsizes[i]}$ and the iteration range is configued\n",
    "using $\\text{data\\_or\\_shape[0].shape[i]}$.\n",
    "\n",
    "### Number of target registers, their quantum datatype and shape\n",
    "QROM bloq uses one target register for each entry corresponding to classical dataset in the\n",
    "tuple `data_or_shape`. Thus, to load $L$ classical datsets, we use $L$ names target registers\n",
    "$(\\text{target}_0, \\text{target}_1, ..., \\text{target}_L)$\n",
    "\n",
    "Each named target register has a bitsize $b_{i}=\\text{target\\_bitsizes[i]}$ that represents\n",
    "the size of the register and depends upon the maximum value of individual elements in the\n",
    "$i$'th classical dataset.\n",
    "\n",
    "Each named target register has a shape that can be configured using attribute\n",
    "$\\text{target\\_shape[i]}$ that represents the number of target registers if the output to load\n",
    "is multidimensional.\n",
    "\n",
    "#### Parameters\n",
    " - `data_or_shape`: List of numpy ndarrays specifying the data to load. If the length of this list ($L$) is greater than one then we use the same selection indices to load each dataset. The shape of a classical dataset is a concatenation of selection_shape and target_shape[i]; i.e. `data_or_shape[i].shape = selection_shape + target_shape[i]`. Thus, each data set is required to have the same selection shape $(S_1, S_2, ..., S_K)$ and can have a different target shape given by `target_shapes[i]`. For symbolic QROMs, pass a list of `Shaped` objects instead with shape $(S_1, S_2, ..., S_K) + target_shape[i]$.\n",
    " - `selection_bitsizes`: The number of bits used to represent each selection register corresponding to the size of each dimension of the selection_shape $(S_1, S_2, ..., S_K)$. Should be the same length as the selection shape of each of the datasets and $2**\\text{selection\\_bitsizes[i]} >= S_i$\n",
    " - `target_shapes`: Shape of target registers for each classical dataset to be loaded. Must be consistent with `data_or_shape` s.t. `len(data_or_shape) == len(target_shapes)` and `data_or_shape[-len(target_shapes[i]):] == target_shapes[i]`.\n",
    " - `target_bitsizes`: Bitsize (or qdtype) of the target registers for each classical dataset to be loaded. This can be deduced from the maximum element of each of the datasets. Must be consistent with `data_or_shape` s.t. `len(data_or_shape) == len(target_bitsizes)` and `target_bitsizes[i] >= max(data[i]).bitsize`.\n",
    " - `num_controls`: The number of controls to instanstiate a controlled version of this bloq.\n"
   ]
  },
  {
   "cell_type": "code",
   "execution_count": null,
   "id": "7853bb2e",
   "metadata": {
    "cq.autogen": "QROMBase.bloq_doc.py"
   },
   "outputs": [],
   "source": []
  },
  {
   "cell_type": "markdown",
   "id": "5d91b534",
   "metadata": {
    "cq.autogen": "QROAMClean.bloq_doc.md"
   },
   "source": [
    "## `QROAMClean`\n",
    "Lower cost variant of SelectSwapQROM. Assumes target register is initially in |0> state.\n",
    "\n",
    "To load a classical dataset of $N$ elements, each of bitsize $b$, into a target register initialized\n",
    "in the $|0\\rangle$ state, this construction uses:\n",
    "    - $\\frac{N}{K} + (K - 1) \\times b$ Toffoli gates.\n",
    "    - $(K - 1)$ ancilla registers, each of bitsize $b$, left in a junk state and should be kept\n",
    "     around to get uncomputed by the adjoint bloq - `QROAMCleanAdjoint`.\n",
    "\n",
    "Here $K=2^k$ is a configurable constant and should be set to $\\sqrt{\\frac{N}{b}}$ for optimal cost.\n",
    "\n",
    "Similar to SelectSwapQROM, this bloq also supports loading multiple classical datasets,\n",
    "each of which can be multidimensional. Factory methods `QROAMClean.build_from_data` and\n",
    "`QROAMClean.build_from_bitsize` should be used to construct the bloq.\n",
    "\n",
    "The adjoint of the bloq is performed via `QROAMCleanAdjoint`, and reduces to a problem of\n",
    "uncomputing a table lookup with $N$ elements, each of target bitsize $K \\times b$. The data to\n",
    "be loaded for uncomputation is computed by this bloq in the `self.batched_data_permuted`\n",
    "property.\n",
    "\n",
    "`QROAMCleanAdjoint` uses measurement based uncomputation to uncompute a table lookup of $N$\n",
    "elements and target bitsize $b$ using only $\\frac{N}{K} + (K - 1)$ Toffoli gates\n",
    "(instead of $\\frac{N}{K} + (K - 1) \\times b$ used by the original lookup). Thus, increasing the\n",
    "target bitsize for uncomputation is preferred since complexity of uncomputation does not depend\n",
    "upon the target bitsize of elements to be loaded.\n",
    "\n",
    "#### Registers\n",
    " - `control_registers`: If control is specified, a THRU register to denote the control qubits. Empty by default for uncontrolled version of the Bloq.\n",
    " - `selection_registers`: $N$ THRU registers, each with shape (), to load $N$ dimensional classical datasets.\n",
    " - `target_registers`: $M$ RIGHT registers to load $M$ different classical datasets. Each target register is of bitsize $b$ and shape described by a tuple of length $N$.\n",
    " - `junk_registers`: $K - 1$ RIGHT registers, each of bitsize $b$ used to load batches of size $K$ \n",
    "\n",
    "#### References\n",
    " - [Qubitization of Arbitrary Basis Quantum Chemistry Leveraging Sparsity and Low Rank Factorization](https://arxiv.org/abs/1902.02134). Berry et al. (2019). Appendix A. and B.\n"
   ]
  },
  {
   "cell_type": "code",
   "execution_count": 2,
   "id": "b781be03",
   "metadata": {
    "cq.autogen": "QROAMClean.bloq_doc.py"
   },
   "outputs": [],
   "source": [
    "from qualtran.bloqs.data_loading.qroam_clean import QROAMClean"
   ]
  },
  {
   "cell_type": "markdown",
   "id": "78f192d4",
   "metadata": {
    "cq.autogen": "QROAMClean.example_instances.md"
   },
   "source": [
    "### Example Instances"
   ]
  },
  {
   "cell_type": "code",
   "execution_count": 3,
   "id": "a4fa5027",
   "metadata": {
    "cq.autogen": "QROAMClean.qroam_clean_multi_data"
   },
   "outputs": [],
   "source": [
    "data1 = np.arange(5, dtype=int)\n",
    "data2 = np.arange(5, dtype=int) + 1\n",
    "qroam_clean_multi_data = QROAMClean.build_from_data(data1, data2, log_block_sizes=(1,))"
   ]
  },
  {
   "cell_type": "code",
   "execution_count": 4,
   "id": "6f19e239",
   "metadata": {
    "cq.autogen": "QROAMClean.qroam_clean_multi_dim"
   },
   "outputs": [],
   "source": [
    "data1 = np.arange(25, dtype=int).reshape((5, 5))\n",
    "data2 = (np.arange(25, dtype=int) + 1).reshape((5, 5))\n",
    "qroam_clean_multi_dim = QROAMClean.build_from_data(data1, data2, log_block_sizes=(1, 1))"
   ]
  },
  {
   "cell_type": "code",
   "execution_count": 5,
   "id": "0ab833fb",
   "metadata": {
    "cq.autogen": "QROAMClean.qroam_clean_symb_1d"
   },
   "outputs": [],
   "source": [
    "N, b, k, c = sympy.symbols('N b k c')\n",
    "qroam_clean_symb_1d = QROAMClean.build_from_bitsize(\n",
    "    (N,), (b,), log_block_sizes=(k,), num_controls=c\n",
    ")"
   ]
  },
  {
   "cell_type": "code",
   "execution_count": 6,
   "id": "4e97cfe8",
   "metadata": {
    "cq.autogen": "QROAMClean.qroam_clean_symb_2d"
   },
   "outputs": [],
   "source": [
    "N, M, b1, b2, k1, k2, c = sympy.symbols('N M b1 b2 k1 k2 c')\n",
    "log_block_sizes = (k1, k2)\n",
    "qroam_clean_symb_2d = QROAMClean.build_from_bitsize(\n",
    "    (N, M), (b1, b2), log_block_sizes=log_block_sizes, num_controls=c\n",
    ")"
   ]
  },
  {
   "cell_type": "markdown",
   "id": "eefaa8d8",
   "metadata": {
    "cq.autogen": "QROAMClean.graphical_signature.md"
   },
   "source": [
    "#### Graphical Signature"
   ]
  },
  {
   "cell_type": "code",
   "execution_count": 7,
   "id": "bbaa7ea7",
   "metadata": {
    "cq.autogen": "QROAMClean.graphical_signature.py"
   },
   "outputs": [
    {
     "data": {
      "application/vnd.jupyter.widget-view+json": {
       "model_id": "430b2ef802974b64939c4ede9409e3a9",
       "version_major": 2,
       "version_minor": 0
      },
      "text/plain": [
       "HBox(children=(Output(outputs=({'output_type': 'display_data', 'data': {'text/plain': '<IPython.core.display.M…"
      ]
     },
     "metadata": {},
     "output_type": "display_data"
    }
   ],
   "source": [
    "from qualtran.drawing import show_bloqs\n",
    "show_bloqs([qroam_clean_multi_data, qroam_clean_multi_dim],\n",
    "           ['`qroam_clean_multi_data`', '`qroam_clean_multi_dim`'])"
   ]
  },
  {
   "cell_type": "markdown",
   "id": "d9f0a049",
   "metadata": {
    "cq.autogen": "QROAMClean.call_graph.md"
   },
   "source": [
    "### Call Graph"
   ]
  },
  {
   "cell_type": "code",
   "execution_count": 8,
   "id": "7ddfc52d",
   "metadata": {
    "cq.autogen": "QROAMClean.call_graph.py"
   },
   "outputs": [
    {
     "data": {
      "image/svg+xml": [
       "<svg xmlns=\"http://www.w3.org/2000/svg\" xmlns:xlink=\"http://www.w3.org/1999/xlink\" width=\"262pt\" height=\"131pt\" viewBox=\"0.00 0.00 262.00 131.00\">\n",
       "<g id=\"graph0\" class=\"graph\" transform=\"scale(1 1) rotate(0) translate(4 127)\">\n",
       "<title>counts</title>\n",
       "<polygon fill=\"white\" stroke=\"transparent\" points=\"-4,4 -4,-127 258,-127 258,4 -4,4\"/>\n",
       "<!-- b0 -->\n",
       "<g id=\"node1\" class=\"node\">\n",
       "<title>b0</title>\n",
       "<polygon fill=\"none\" stroke=\"black\" points=\"103,-93 103,-116 179,-116 179,-93 103,-93\"/>\n",
       "<text text-anchor=\"start\" x=\"109.5\" y=\"-102\" font-family=\"Times,serif\" font-size=\"10.00\">QROAMClean</text>\n",
       "</g>\n",
       "<!-- b1 -->\n",
       "<g id=\"node2\" class=\"node\">\n",
       "<title>b1</title>\n",
       "<polygon fill=\"none\" stroke=\"black\" points=\"8,-6 8,-29 138,-29 138,-6 8,-6\"/>\n",
       "<text text-anchor=\"start\" x=\"14\" y=\"-15\" font-family=\"Times,serif\" font-size=\"10.00\">QROM((3,), ((2,), (2,)), (3, 3))</text>\n",
       "</g>\n",
       "<!-- b0&#45;&gt;b1 -->\n",
       "<g id=\"edge1\" class=\"edge\">\n",
       "<title>b0-&gt;b1</title>\n",
       "<path fill=\"none\" stroke=\"black\" d=\"M127.24,-86.8C117.47,-74.59 104.19,-57.99 93.22,-44.28\"/>\n",
       "<polygon fill=\"black\" stroke=\"black\" points=\"95.72,-41.8 86.74,-36.18 90.25,-46.17 95.72,-41.8\"/>\n",
       "<text text-anchor=\"middle\" x=\"115.5\" y=\"-57.8\" font-family=\"Times,serif\" font-size=\"14.00\">1</text>\n",
       "</g>\n",
       "<!-- b2 -->\n",
       "<g id=\"node3\" class=\"node\">\n",
       "<title>b2</title>\n",
       "<polygon fill=\"none\" stroke=\"black\" points=\"172,-6 172,-29 246,-29 246,-6 172,-6\"/>\n",
       "<text text-anchor=\"start\" x=\"178.5\" y=\"-15\" font-family=\"Times,serif\" font-size=\"10.00\">SwapWithZero</text>\n",
       "</g>\n",
       "<!-- b0&#45;&gt;b2 -->\n",
       "<g id=\"edge2\" class=\"edge\">\n",
       "<title>b0-&gt;b2</title>\n",
       "<path fill=\"none\" stroke=\"black\" d=\"M154.76,-86.8C164.53,-74.59 177.81,-57.99 188.78,-44.28\"/>\n",
       "<polygon fill=\"black\" stroke=\"black\" points=\"191.75,-46.17 195.26,-36.18 186.28,-41.8 191.75,-46.17\"/>\n",
       "<text text-anchor=\"middle\" x=\"182.5\" y=\"-57.8\" font-family=\"Times,serif\" font-size=\"14.00\">2</text>\n",
       "</g>\n",
       "</g>\n",
       "</svg>"
      ],
      "text/plain": [
       "<IPython.core.display.SVG object>"
      ]
     },
     "metadata": {},
     "output_type": "display_data"
    },
    {
     "data": {
      "text/markdown": [
       "#### Counts totals:\n",
       " - `QROM((3,), ((2,), (2,)), (3, 3))`: 1\n",
       " - `SwapWithZero`: 2"
      ],
      "text/plain": [
       "<IPython.core.display.Markdown object>"
      ]
     },
     "metadata": {},
     "output_type": "display_data"
    }
   ],
   "source": [
    "from qualtran.resource_counting.generalizers import ignore_split_join\n",
    "qroam_clean_multi_data_g, qroam_clean_multi_data_sigma = qroam_clean_multi_data.call_graph(max_depth=1, generalizer=ignore_split_join)\n",
    "show_call_graph(qroam_clean_multi_data_g)\n",
    "show_counts_sigma(qroam_clean_multi_data_sigma)"
   ]
  }
 ],
 "metadata": {
  "kernelspec": {
   "display_name": "Python 3 (ipykernel)",
   "language": "python",
   "name": "python3"
  },
  "language_info": {
   "codemirror_mode": {
    "name": "ipython",
    "version": 3
   },
   "file_extension": ".py",
   "mimetype": "text/x-python",
   "name": "python",
   "nbconvert_exporter": "python",
   "pygments_lexer": "ipython3",
   "version": "3.11.8"
  },
  "widgets": {
   "application/vnd.jupyter.widget-state+json": {
    "state": {
     "3c57cecb5bdd4e99aaa92fb1747c1516": {
      "model_module": "@jupyter-widgets/output",
      "model_module_version": "1.0.0",
      "model_name": "OutputModel",
      "state": {
       "_dom_classes": [],
       "_model_module": "@jupyter-widgets/output",
       "_model_module_version": "1.0.0",
       "_model_name": "OutputModel",
       "_view_count": null,
       "_view_module": "@jupyter-widgets/output",
       "_view_module_version": "1.0.0",
       "_view_name": "OutputView",
       "layout": "IPY_MODEL_ba4eb26a2bf04d88a450e6da870ae15f",
       "msg_id": "",
       "outputs": [
        {
         "data": {
          "text/markdown": "`qroam_clean_multi_dim`",
          "text/plain": "<IPython.core.display.Markdown object>"
         },
         "metadata": {},
         "output_type": "display_data"
        },
        {
         "data": {
          "image/svg+xml": "<svg xmlns=\"http://www.w3.org/2000/svg\" xmlns:xlink=\"http://www.w3.org/1999/xlink\" width=\"363pt\" height=\"530pt\" viewBox=\"0.00 0.00 363.00 530.00\">\n<g id=\"graph0\" class=\"graph\" transform=\"scale(1 1) rotate(0) translate(4 526)\">\n<title>my_graph</title>\n<polygon fill=\"white\" stroke=\"transparent\" points=\"-4,4 -4,-526 359,-526 359,4 -4,4\"/>\n<!-- selection0_G2 -->\n<g id=\"node1\" class=\"node\">\n<title>selection0_G2</title>\n<text text-anchor=\"middle\" x=\"35.5\" y=\"-368.3\" font-family=\"Times,serif\" font-size=\"14.00\">selection0</text>\n</g>\n<!-- QROAMClean -->\n<g id=\"node3\" class=\"node\">\n<title>QROAMClean</title>\n<polygon fill=\"none\" stroke=\"black\" points=\"108.5,-366 108.5,-383 211.5,-383 211.5,-366 108.5,-366\"/>\n<text text-anchor=\"start\" x=\"128.5\" y=\"-372\" font-family=\"Times,serif\" font-size=\"10.00\">QROAMClean</text>\n<polygon fill=\"none\" stroke=\"black\" points=\"108.5,-345 108.5,-366 211.5,-366 211.5,-345 108.5,-345\"/>\n<text text-anchor=\"start\" x=\"132.5\" y=\"-351.8\" font-family=\"Times,serif\" font-size=\"14.00\">selection0</text>\n<polygon fill=\"none\" stroke=\"black\" points=\"108.5,-324 108.5,-345 211.5,-345 211.5,-324 108.5,-324\"/>\n<text text-anchor=\"start\" x=\"132.5\" y=\"-330.8\" font-family=\"Times,serif\" font-size=\"14.00\">selection1</text>\n<polygon fill=\"none\" stroke=\"black\" points=\"108.5,-303 108.5,-324 114.5,-324 114.5,-303 108.5,-303\"/>\n<polygon fill=\"none\" stroke=\"black\" points=\"114.5,-303 114.5,-324 211.5,-324 211.5,-303 114.5,-303\"/>\n<text text-anchor=\"start\" x=\"140.5\" y=\"-309.8\" font-family=\"Times,serif\" font-size=\"14.00\">target0_</text>\n<polygon fill=\"none\" stroke=\"black\" points=\"108.5,-282 108.5,-303 114.5,-303 114.5,-282 108.5,-282\"/>\n<polygon fill=\"none\" stroke=\"black\" points=\"114.5,-282 114.5,-303 211.5,-303 211.5,-282 114.5,-282\"/>\n<text text-anchor=\"start\" x=\"140.5\" y=\"-288.8\" font-family=\"Times,serif\" font-size=\"14.00\">target1_</text>\n<polygon fill=\"none\" stroke=\"black\" points=\"108.5,-261 108.5,-282 114.5,-282 114.5,-261 108.5,-261\"/>\n<polygon fill=\"none\" stroke=\"black\" points=\"114.5,-261 114.5,-282 211.5,-282 211.5,-261 114.5,-261\"/>\n<text text-anchor=\"start\" x=\"117.5\" y=\"-267.8\" font-family=\"Times,serif\" font-size=\"14.00\">junk_target0_[0]</text>\n<polygon fill=\"none\" stroke=\"black\" points=\"108.5,-240 108.5,-261 114.5,-261 114.5,-240 108.5,-240\"/>\n<polygon fill=\"none\" stroke=\"black\" points=\"114.5,-240 114.5,-261 211.5,-261 211.5,-240 114.5,-240\"/>\n<text text-anchor=\"start\" x=\"117.5\" y=\"-246.8\" font-family=\"Times,serif\" font-size=\"14.00\">junk_target0_[1]</text>\n<polygon fill=\"none\" stroke=\"black\" points=\"108.5,-219 108.5,-240 114.5,-240 114.5,-219 108.5,-219\"/>\n<polygon fill=\"none\" stroke=\"black\" points=\"114.5,-219 114.5,-240 211.5,-240 211.5,-219 114.5,-219\"/>\n<text text-anchor=\"start\" x=\"117.5\" y=\"-225.8\" font-family=\"Times,serif\" font-size=\"14.00\">junk_target0_[2]</text>\n<polygon fill=\"none\" stroke=\"black\" points=\"108.5,-198 108.5,-219 114.5,-219 114.5,-198 108.5,-198\"/>\n<polygon fill=\"none\" stroke=\"black\" points=\"114.5,-198 114.5,-219 211.5,-219 211.5,-198 114.5,-198\"/>\n<text text-anchor=\"start\" x=\"117.5\" y=\"-204.8\" font-family=\"Times,serif\" font-size=\"14.00\">junk_target1_[0]</text>\n<polygon fill=\"none\" stroke=\"black\" points=\"108.5,-177 108.5,-198 114.5,-198 114.5,-177 108.5,-177\"/>\n<polygon fill=\"none\" stroke=\"black\" points=\"114.5,-177 114.5,-198 211.5,-198 211.5,-177 114.5,-177\"/>\n<text text-anchor=\"start\" x=\"117.5\" y=\"-183.8\" font-family=\"Times,serif\" font-size=\"14.00\">junk_target1_[1]</text>\n<polygon fill=\"none\" stroke=\"black\" points=\"108.5,-156 108.5,-177 114.5,-177 114.5,-156 108.5,-156\"/>\n<polygon fill=\"none\" stroke=\"black\" points=\"114.5,-156 114.5,-177 211.5,-177 211.5,-156 114.5,-156\"/>\n<text text-anchor=\"start\" x=\"117.5\" y=\"-162.8\" font-family=\"Times,serif\" font-size=\"14.00\">junk_target1_[2]</text>\n</g>\n<!-- selection0_G2&#45;&gt;QROAMClean -->\n<g id=\"edge1\" class=\"edge\">\n<title>selection0_G2:e-&gt;QROAMClean:w</title>\n<path fill=\"none\" stroke=\"black\" d=\"M71,-372C88.22,-372 89.97,-357.23 105.98,-356.07\"/>\n<ellipse fill=\"black\" stroke=\"black\" cx=\"107\" cy=\"-356.04\" rx=\"1\" ry=\"1\"/>\n<text text-anchor=\"middle\" x=\"89.5\" y=\"-367\" font-family=\"Times,serif\" font-size=\"10.00\">3</text>\n</g>\n<!-- selection1_G13 -->\n<g id=\"node2\" class=\"node\">\n<title>selection1_G13</title>\n<text text-anchor=\"middle\" x=\"35.5\" y=\"-314.3\" font-family=\"Times,serif\" font-size=\"14.00\">selection1</text>\n</g>\n<!-- selection1_G13&#45;&gt;QROAMClean -->\n<g id=\"edge2\" class=\"edge\">\n<title>selection1_G13:e-&gt;QROAMClean:w</title>\n<path fill=\"none\" stroke=\"black\" d=\"M71,-318C88.39,-318 89.81,-333.7 105.96,-334.92\"/>\n<ellipse fill=\"black\" stroke=\"black\" cx=\"107\" cy=\"-334.96\" rx=\"1\" ry=\"1\"/>\n<text text-anchor=\"middle\" x=\"89.5\" y=\"-329\" font-family=\"Times,serif\" font-size=\"10.00\">3</text>\n</g>\n<!-- selection0_G17 -->\n<g id=\"node4\" class=\"node\">\n<title>selection0_G17</title>\n<text text-anchor=\"middle\" x=\"301.5\" y=\"-500.3\" font-family=\"Times,serif\" font-size=\"14.00\">selection0</text>\n</g>\n<!-- QROAMClean&#45;&gt;selection0_G17 -->\n<g id=\"edge3\" class=\"edge\">\n<title>QROAMClean:e-&gt;selection0_G17:w</title>\n<path fill=\"none\" stroke=\"black\" d=\"M211,-356C280.26,-356 196.23,-501.12 262.5,-503.96\"/>\n<ellipse fill=\"black\" stroke=\"black\" cx=\"263.5\" cy=\"-503.98\" rx=\"1\" ry=\"1\"/>\n<text text-anchor=\"middle\" x=\"229.5\" y=\"-364\" font-family=\"Times,serif\" font-size=\"10.00\">3</text>\n</g>\n<!-- selection1_G6 -->\n<g id=\"node5\" class=\"node\">\n<title>selection1_G6</title>\n<text text-anchor=\"middle\" x=\"301.5\" y=\"-446.3\" font-family=\"Times,serif\" font-size=\"14.00\">selection1</text>\n</g>\n<!-- QROAMClean&#45;&gt;selection1_G6 -->\n<g id=\"edge4\" class=\"edge\">\n<title>QROAMClean:e-&gt;selection1_G6:w</title>\n<path fill=\"none\" stroke=\"black\" d=\"M211,-335C266.6,-335 209.73,-446.88 262.25,-449.94\"/>\n<ellipse fill=\"black\" stroke=\"black\" cx=\"263.5\" cy=\"-449.97\" rx=\"1\" ry=\"1\"/>\n<text text-anchor=\"middle\" x=\"229.5\" y=\"-344\" font-family=\"Times,serif\" font-size=\"10.00\">3</text>\n</g>\n<!-- target0__G19 -->\n<g id=\"node6\" class=\"node\">\n<title>target0__G19</title>\n<text text-anchor=\"middle\" x=\"301.5\" y=\"-392.3\" font-family=\"Times,serif\" font-size=\"14.00\">target0_</text>\n</g>\n<!-- QROAMClean&#45;&gt;target0__G19 -->\n<g id=\"edge5\" class=\"edge\">\n<title>QROAMClean:e-&gt;target0__G19:w</title>\n<path fill=\"none\" stroke=\"black\" d=\"M211,-314C255.07,-314 225.68,-393.46 267.46,-395.94\"/>\n<ellipse fill=\"black\" stroke=\"black\" cx=\"268.5\" cy=\"-395.97\" rx=\"1\" ry=\"1\"/>\n<text text-anchor=\"middle\" x=\"229.5\" y=\"-325\" font-family=\"Times,serif\" font-size=\"10.00\">5</text>\n</g>\n<!-- target1__G16 -->\n<g id=\"node7\" class=\"node\">\n<title>target1__G16</title>\n<text text-anchor=\"middle\" x=\"301.5\" y=\"-338.3\" font-family=\"Times,serif\" font-size=\"14.00\">target1_</text>\n</g>\n<!-- QROAMClean&#45;&gt;target1__G16 -->\n<g id=\"edge6\" class=\"edge\">\n<title>QROAMClean:e-&gt;target1__G16:w</title>\n<path fill=\"none\" stroke=\"black\" d=\"M211,-293C244.12,-293 236,-339.73 267.19,-341.92\"/>\n<ellipse fill=\"black\" stroke=\"black\" cx=\"268.5\" cy=\"-341.97\" rx=\"1\" ry=\"1\"/>\n<text text-anchor=\"middle\" x=\"229.5\" y=\"-303\" font-family=\"Times,serif\" font-size=\"10.00\">5</text>\n</g>\n<!-- junk_target0__G1 -->\n<g id=\"node8\" class=\"node\">\n<title>junk_target0__G1</title>\n<text text-anchor=\"middle\" x=\"301.5\" y=\"-284.3\" font-family=\"Times,serif\" font-size=\"14.00\">junk_target0_[0]</text>\n</g>\n<!-- QROAMClean&#45;&gt;junk_target0__G1 -->\n<g id=\"edge7\" class=\"edge\">\n<title>QROAMClean:e-&gt;junk_target0__G1:w</title>\n<path fill=\"none\" stroke=\"black\" d=\"M211,-272C228.22,-272 229.97,-286.77 245.98,-287.93\"/>\n<ellipse fill=\"black\" stroke=\"black\" cx=\"247\" cy=\"-287.96\" rx=\"1\" ry=\"1\"/>\n<text text-anchor=\"middle\" x=\"229.5\" y=\"-283\" font-family=\"Times,serif\" font-size=\"10.00\">5</text>\n</g>\n<!-- junk_target0__G21 -->\n<g id=\"node9\" class=\"node\">\n<title>junk_target0__G21</title>\n<text text-anchor=\"middle\" x=\"301.5\" y=\"-230.3\" font-family=\"Times,serif\" font-size=\"14.00\">junk_target0_[1]</text>\n</g>\n<!-- QROAMClean&#45;&gt;junk_target0__G21 -->\n<g id=\"edge8\" class=\"edge\">\n<title>QROAMClean:e-&gt;junk_target0__G21:w</title>\n<path fill=\"none\" stroke=\"black\" d=\"M211,-250C228.22,-250 229.97,-235.23 245.98,-234.07\"/>\n<ellipse fill=\"black\" stroke=\"black\" cx=\"247\" cy=\"-234.04\" rx=\"1\" ry=\"1\"/>\n<text text-anchor=\"middle\" x=\"229.5\" y=\"-245\" font-family=\"Times,serif\" font-size=\"10.00\">5</text>\n</g>\n<!-- junk_target0__G3 -->\n<g id=\"node10\" class=\"node\">\n<title>junk_target0__G3</title>\n<text text-anchor=\"middle\" x=\"301.5\" y=\"-176.3\" font-family=\"Times,serif\" font-size=\"14.00\">junk_target0_[2]</text>\n</g>\n<!-- QROAMClean&#45;&gt;junk_target0__G3 -->\n<g id=\"edge9\" class=\"edge\">\n<title>QROAMClean:e-&gt;junk_target0__G3:w</title>\n<path fill=\"none\" stroke=\"black\" d=\"M211,-229C237.54,-229 221.64,-182.64 245.86,-180.11\"/>\n<ellipse fill=\"black\" stroke=\"black\" cx=\"247\" cy=\"-180.05\" rx=\"1\" ry=\"1\"/>\n<text text-anchor=\"middle\" x=\"229.5\" y=\"-208\" font-family=\"Times,serif\" font-size=\"10.00\">5</text>\n</g>\n<!-- junk_target1__G9 -->\n<g id=\"node11\" class=\"node\">\n<title>junk_target1__G9</title>\n<text text-anchor=\"middle\" x=\"301.5\" y=\"-122.3\" font-family=\"Times,serif\" font-size=\"14.00\">junk_target1_[0]</text>\n</g>\n<!-- QROAMClean&#45;&gt;junk_target1__G9 -->\n<g id=\"edge10\" class=\"edge\">\n<title>QROAMClean:e-&gt;junk_target1__G9:w</title>\n<path fill=\"none\" stroke=\"black\" d=\"M211,-208C250.2,-208 209.66,-129.17 245.75,-126.09\"/>\n<ellipse fill=\"black\" stroke=\"black\" cx=\"247\" cy=\"-126.04\" rx=\"1\" ry=\"1\"/>\n<text text-anchor=\"middle\" x=\"229.5\" y=\"-193\" font-family=\"Times,serif\" font-size=\"10.00\">5</text>\n</g>\n<!-- junk_target1__G8 -->\n<g id=\"node12\" class=\"node\">\n<title>junk_target1__G8</title>\n<text text-anchor=\"middle\" x=\"301.5\" y=\"-68.3\" font-family=\"Times,serif\" font-size=\"14.00\">junk_target1_[1]</text>\n</g>\n<!-- QROAMClean&#45;&gt;junk_target1__G8 -->\n<g id=\"edge11\" class=\"edge\">\n<title>QROAMClean:e-&gt;junk_target1__G8:w</title>\n<path fill=\"none\" stroke=\"black\" d=\"M211,-187C237.11,-187 222.03,-78.2 245.89,-72.25\"/>\n<ellipse fill=\"black\" stroke=\"black\" cx=\"247.01\" cy=\"-72.12\" rx=\"1\" ry=\"1\"/>\n<text text-anchor=\"middle\" x=\"229.5\" y=\"-136\" font-family=\"Times,serif\" font-size=\"10.00\">5</text>\n</g>\n<!-- junk_target1__G12 -->\n<g id=\"node13\" class=\"node\">\n<title>junk_target1__G12</title>\n<text text-anchor=\"middle\" x=\"301.5\" y=\"-14.3\" font-family=\"Times,serif\" font-size=\"14.00\">junk_target1_[2]</text>\n</g>\n<!-- QROAMClean&#45;&gt;junk_target1__G12 -->\n<g id=\"edge12\" class=\"edge\">\n<title>QROAMClean:e-&gt;junk_target1__G12:w</title>\n<path fill=\"none\" stroke=\"black\" d=\"M211,-166C244.11,-166 215.51,-24.86 245.72,-18.24\"/>\n<ellipse fill=\"black\" stroke=\"black\" cx=\"247.01\" cy=\"-18.1\" rx=\"1\" ry=\"1\"/>\n<text text-anchor=\"middle\" x=\"229.5\" y=\"-113\" font-family=\"Times,serif\" font-size=\"10.00\">5</text>\n</g>\n</g>\n</svg>",
          "text/plain": "<IPython.core.display.SVG object>"
         },
         "metadata": {},
         "output_type": "display_data"
        }
       ],
       "tabbable": null,
       "tooltip": null
      }
     },
     "430b2ef802974b64939c4ede9409e3a9": {
      "model_module": "@jupyter-widgets/controls",
      "model_module_version": "2.0.0",
      "model_name": "HBoxModel",
      "state": {
       "_dom_classes": [],
       "_model_module": "@jupyter-widgets/controls",
       "_model_module_version": "2.0.0",
       "_model_name": "HBoxModel",
       "_view_count": null,
       "_view_module": "@jupyter-widgets/controls",
       "_view_module_version": "2.0.0",
       "_view_name": "HBoxView",
       "box_style": "",
       "children": [
        "IPY_MODEL_8c9b740f75d441eebada8568878843cb",
        "IPY_MODEL_3c57cecb5bdd4e99aaa92fb1747c1516"
       ],
       "layout": "IPY_MODEL_535e5842a4264092b3ef7e117b4b3a1e",
       "tabbable": null,
       "tooltip": null
      }
     },
     "535e5842a4264092b3ef7e117b4b3a1e": {
      "model_module": "@jupyter-widgets/base",
      "model_module_version": "2.0.0",
      "model_name": "LayoutModel",
      "state": {
       "_model_module": "@jupyter-widgets/base",
       "_model_module_version": "2.0.0",
       "_model_name": "LayoutModel",
       "_view_count": null,
       "_view_module": "@jupyter-widgets/base",
       "_view_module_version": "2.0.0",
       "_view_name": "LayoutView",
       "align_content": null,
       "align_items": null,
       "align_self": null,
       "border_bottom": null,
       "border_left": null,
       "border_right": null,
       "border_top": null,
       "bottom": null,
       "display": null,
       "flex": null,
       "flex_flow": null,
       "grid_area": null,
       "grid_auto_columns": null,
       "grid_auto_flow": null,
       "grid_auto_rows": null,
       "grid_column": null,
       "grid_gap": null,
       "grid_row": null,
       "grid_template_areas": null,
       "grid_template_columns": null,
       "grid_template_rows": null,
       "height": null,
       "justify_content": null,
       "justify_items": null,
       "left": null,
       "margin": null,
       "max_height": null,
       "max_width": null,
       "min_height": null,
       "min_width": null,
       "object_fit": null,
       "object_position": null,
       "order": null,
       "overflow": null,
       "padding": null,
       "right": null,
       "top": null,
       "visibility": null,
       "width": null
      }
     },
     "72cf220bb02d44c881266acc52e5f3fd": {
      "model_module": "@jupyter-widgets/base",
      "model_module_version": "2.0.0",
      "model_name": "LayoutModel",
      "state": {
       "_model_module": "@jupyter-widgets/base",
       "_model_module_version": "2.0.0",
       "_model_name": "LayoutModel",
       "_view_count": null,
       "_view_module": "@jupyter-widgets/base",
       "_view_module_version": "2.0.0",
       "_view_name": "LayoutView",
       "align_content": null,
       "align_items": null,
       "align_self": null,
       "border_bottom": null,
       "border_left": null,
       "border_right": null,
       "border_top": null,
       "bottom": null,
       "display": null,
       "flex": null,
       "flex_flow": null,
       "grid_area": null,
       "grid_auto_columns": null,
       "grid_auto_flow": null,
       "grid_auto_rows": null,
       "grid_column": null,
       "grid_gap": null,
       "grid_row": null,
       "grid_template_areas": null,
       "grid_template_columns": null,
       "grid_template_rows": null,
       "height": null,
       "justify_content": null,
       "justify_items": null,
       "left": null,
       "margin": null,
       "max_height": null,
       "max_width": null,
       "min_height": null,
       "min_width": null,
       "object_fit": null,
       "object_position": null,
       "order": null,
       "overflow": null,
       "padding": null,
       "right": null,
       "top": null,
       "visibility": null,
       "width": null
      }
     },
     "8c9b740f75d441eebada8568878843cb": {
      "model_module": "@jupyter-widgets/output",
      "model_module_version": "1.0.0",
      "model_name": "OutputModel",
      "state": {
       "_dom_classes": [],
       "_model_module": "@jupyter-widgets/output",
       "_model_module_version": "1.0.0",
       "_model_name": "OutputModel",
       "_view_count": null,
       "_view_module": "@jupyter-widgets/output",
       "_view_module_version": "1.0.0",
       "_view_name": "OutputView",
       "layout": "IPY_MODEL_72cf220bb02d44c881266acc52e5f3fd",
       "msg_id": "",
       "outputs": [
        {
         "data": {
          "text/markdown": "`qroam_clean_multi_data`",
          "text/plain": "<IPython.core.display.Markdown object>"
         },
         "metadata": {},
         "output_type": "display_data"
        },
        {
         "data": {
          "image/svg+xml": "<svg xmlns=\"http://www.w3.org/2000/svg\" xmlns:xlink=\"http://www.w3.org/1999/xlink\" width=\"357pt\" height=\"260pt\" viewBox=\"0.00 0.00 357.00 260.00\">\n<g id=\"graph0\" class=\"graph\" transform=\"scale(1 1) rotate(0) translate(4 256)\">\n<title>my_graph</title>\n<polygon fill=\"white\" stroke=\"transparent\" points=\"-4,4 -4,-256 353,-256 353,4 -4,4\"/>\n<!-- selection_G5 -->\n<g id=\"node1\" class=\"node\">\n<title>selection_G5</title>\n<text text-anchor=\"middle\" x=\"32.5\" y=\"-165.3\" font-family=\"Times,serif\" font-size=\"14.00\">selection</text>\n</g>\n<!-- QROAMClean -->\n<g id=\"node2\" class=\"node\">\n<title>QROAMClean</title>\n<polygon fill=\"none\" stroke=\"black\" points=\"102.5,-179 102.5,-196 205.5,-196 205.5,-179 102.5,-179\"/>\n<text text-anchor=\"start\" x=\"122.5\" y=\"-185\" font-family=\"Times,serif\" font-size=\"10.00\">QROAMClean</text>\n<polygon fill=\"none\" stroke=\"black\" points=\"102.5,-158 102.5,-179 205.5,-179 205.5,-158 102.5,-158\"/>\n<text text-anchor=\"start\" x=\"129.5\" y=\"-164.8\" font-family=\"Times,serif\" font-size=\"14.00\">selection</text>\n<polygon fill=\"none\" stroke=\"black\" points=\"102.5,-137 102.5,-158 108.5,-158 108.5,-137 102.5,-137\"/>\n<polygon fill=\"none\" stroke=\"black\" points=\"108.5,-137 108.5,-158 205.5,-158 205.5,-137 108.5,-137\"/>\n<text text-anchor=\"start\" x=\"134.5\" y=\"-143.8\" font-family=\"Times,serif\" font-size=\"14.00\">target0_</text>\n<polygon fill=\"none\" stroke=\"black\" points=\"102.5,-116 102.5,-137 108.5,-137 108.5,-116 102.5,-116\"/>\n<polygon fill=\"none\" stroke=\"black\" points=\"108.5,-116 108.5,-137 205.5,-137 205.5,-116 108.5,-116\"/>\n<text text-anchor=\"start\" x=\"134.5\" y=\"-122.8\" font-family=\"Times,serif\" font-size=\"14.00\">target1_</text>\n<polygon fill=\"none\" stroke=\"black\" points=\"102.5,-95 102.5,-116 108.5,-116 108.5,-95 102.5,-95\"/>\n<polygon fill=\"none\" stroke=\"black\" points=\"108.5,-95 108.5,-116 205.5,-116 205.5,-95 108.5,-95\"/>\n<text text-anchor=\"start\" x=\"111.5\" y=\"-101.8\" font-family=\"Times,serif\" font-size=\"14.00\">junk_target0_[0]</text>\n<polygon fill=\"none\" stroke=\"black\" points=\"102.5,-74 102.5,-95 108.5,-95 108.5,-74 102.5,-74\"/>\n<polygon fill=\"none\" stroke=\"black\" points=\"108.5,-74 108.5,-95 205.5,-95 205.5,-74 108.5,-74\"/>\n<text text-anchor=\"start\" x=\"111.5\" y=\"-80.8\" font-family=\"Times,serif\" font-size=\"14.00\">junk_target1_[0]</text>\n</g>\n<!-- selection_G5&#45;&gt;QROAMClean -->\n<g id=\"edge1\" class=\"edge\">\n<title>selection_G5:e-&gt;QROAMClean:w</title>\n<path fill=\"none\" stroke=\"black\" d=\"M65,-169C80.67,-169 85.14,-169 99.77,-169\"/>\n<ellipse fill=\"black\" stroke=\"black\" cx=\"101\" cy=\"-169\" rx=\"1\" ry=\"1\"/>\n<text text-anchor=\"middle\" x=\"83.5\" y=\"-172\" font-family=\"Times,serif\" font-size=\"10.00\">3</text>\n</g>\n<!-- selection_G4 -->\n<g id=\"node3\" class=\"node\">\n<title>selection_G4</title>\n<text text-anchor=\"middle\" x=\"295.5\" y=\"-230.3\" font-family=\"Times,serif\" font-size=\"14.00\">selection</text>\n</g>\n<!-- QROAMClean&#45;&gt;selection_G4 -->\n<g id=\"edge2\" class=\"edge\">\n<title>QROAMClean:e-&gt;selection_G4:w</title>\n<path fill=\"none\" stroke=\"black\" d=\"M205,-169C242.53,-169 223.98,-231.49 259.32,-233.93\"/>\n<ellipse fill=\"black\" stroke=\"black\" cx=\"260.5\" cy=\"-233.97\" rx=\"1\" ry=\"1\"/>\n<text text-anchor=\"middle\" x=\"223.5\" y=\"-180\" font-family=\"Times,serif\" font-size=\"10.00\">3</text>\n</g>\n<!-- target0__G0 -->\n<g id=\"node4\" class=\"node\">\n<title>target0__G0</title>\n<text text-anchor=\"middle\" x=\"295.5\" y=\"-176.3\" font-family=\"Times,serif\" font-size=\"14.00\">target0_</text>\n</g>\n<!-- QROAMClean&#45;&gt;target0__G0 -->\n<g id=\"edge3\" class=\"edge\">\n<title>QROAMClean:e-&gt;target0__G0:w</title>\n<path fill=\"none\" stroke=\"black\" d=\"M205,-148C233.94,-148 233.88,-178.52 261.47,-179.95\"/>\n<ellipse fill=\"black\" stroke=\"black\" cx=\"262.5\" cy=\"-179.97\" rx=\"1\" ry=\"1\"/>\n<text text-anchor=\"middle\" x=\"223.5\" y=\"-156\" font-family=\"Times,serif\" font-size=\"10.00\">3</text>\n</g>\n<!-- target1__G6 -->\n<g id=\"node5\" class=\"node\">\n<title>target1__G6</title>\n<text text-anchor=\"middle\" x=\"295.5\" y=\"-122.3\" font-family=\"Times,serif\" font-size=\"14.00\">target1_</text>\n</g>\n<!-- QROAMClean&#45;&gt;target1__G6 -->\n<g id=\"edge4\" class=\"edge\">\n<title>QROAMClean:e-&gt;target1__G6:w</title>\n<path fill=\"none\" stroke=\"black\" d=\"M205,-126C230.29,-126 237.13,-126 261.41,-126\"/>\n<ellipse fill=\"black\" stroke=\"black\" cx=\"262.5\" cy=\"-126\" rx=\"1\" ry=\"1\"/>\n<text text-anchor=\"middle\" x=\"223.5\" y=\"-129\" font-family=\"Times,serif\" font-size=\"10.00\">3</text>\n</g>\n<!-- junk_target0__G2 -->\n<g id=\"node6\" class=\"node\">\n<title>junk_target0__G2</title>\n<text text-anchor=\"middle\" x=\"295.5\" y=\"-68.3\" font-family=\"Times,serif\" font-size=\"14.00\">junk_target0_[0]</text>\n</g>\n<!-- QROAMClean&#45;&gt;junk_target0__G2 -->\n<g id=\"edge5\" class=\"edge\">\n<title>QROAMClean:e-&gt;junk_target0__G2:w</title>\n<path fill=\"none\" stroke=\"black\" d=\"M205,-105C226.17,-105 220.47,-74.53 239.55,-72.15\"/>\n<ellipse fill=\"black\" stroke=\"black\" cx=\"241\" cy=\"-72.06\" rx=\"1\" ry=\"1\"/>\n<text text-anchor=\"middle\" x=\"223.5\" y=\"-92\" font-family=\"Times,serif\" font-size=\"10.00\">3</text>\n</g>\n<!-- junk_target1__G9 -->\n<g id=\"node7\" class=\"node\">\n<title>junk_target1__G9</title>\n<text text-anchor=\"middle\" x=\"295.5\" y=\"-14.3\" font-family=\"Times,serif\" font-size=\"14.00\">junk_target1_[0]</text>\n</g>\n<!-- QROAMClean&#45;&gt;junk_target1__G9 -->\n<g id=\"edge6\" class=\"edge\">\n<title>QROAMClean:e-&gt;junk_target1__G9:w</title>\n<path fill=\"none\" stroke=\"black\" d=\"M205,-84C237.84,-84 209.75,-21.06 239.74,-18.11\"/>\n<ellipse fill=\"black\" stroke=\"black\" cx=\"241\" cy=\"-18.05\" rx=\"1\" ry=\"1\"/>\n<text text-anchor=\"middle\" x=\"223.5\" y=\"-62\" font-family=\"Times,serif\" font-size=\"10.00\">3</text>\n</g>\n</g>\n</svg>",
          "text/plain": "<IPython.core.display.SVG object>"
         },
         "metadata": {},
         "output_type": "display_data"
        }
       ],
       "tabbable": null,
       "tooltip": null
      }
     },
     "ba4eb26a2bf04d88a450e6da870ae15f": {
      "model_module": "@jupyter-widgets/base",
      "model_module_version": "2.0.0",
      "model_name": "LayoutModel",
      "state": {
       "_model_module": "@jupyter-widgets/base",
       "_model_module_version": "2.0.0",
       "_model_name": "LayoutModel",
       "_view_count": null,
       "_view_module": "@jupyter-widgets/base",
       "_view_module_version": "2.0.0",
       "_view_name": "LayoutView",
       "align_content": null,
       "align_items": null,
       "align_self": null,
       "border_bottom": null,
       "border_left": null,
       "border_right": null,
       "border_top": null,
       "bottom": null,
       "display": null,
       "flex": null,
       "flex_flow": null,
       "grid_area": null,
       "grid_auto_columns": null,
       "grid_auto_flow": null,
       "grid_auto_rows": null,
       "grid_column": null,
       "grid_gap": null,
       "grid_row": null,
       "grid_template_areas": null,
       "grid_template_columns": null,
       "grid_template_rows": null,
       "height": null,
       "justify_content": null,
       "justify_items": null,
       "left": null,
       "margin": null,
       "max_height": null,
       "max_width": null,
       "min_height": null,
       "min_width": null,
       "object_fit": null,
       "object_position": null,
       "order": null,
       "overflow": null,
       "padding": null,
       "right": null,
       "top": null,
       "visibility": null,
       "width": null
      }
     }
    },
    "version_major": 2,
    "version_minor": 0
   }
  }
 },
 "nbformat": 4,
 "nbformat_minor": 5
}
