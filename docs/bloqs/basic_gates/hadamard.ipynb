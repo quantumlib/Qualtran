{
 "cells": [
  {
   "cell_type": "markdown",
   "id": "269cd713",
   "metadata": {
    "cq.autogen": "title_cell"
   },
   "source": [
    "# Hadamard"
   ]
  },
  {
   "cell_type": "code",
   "execution_count": 1,
   "id": "a181241c",
   "metadata": {
    "cq.autogen": "top_imports"
   },
   "outputs": [],
   "source": [
    "from qualtran import Bloq, CompositeBloq, BloqBuilder, Signature, Register\n",
    "from qualtran import QBit, QInt, QUInt, QAny\n",
    "from qualtran.drawing import show_bloq, show_call_graph, show_counts_sigma\n",
    "from typing import *\n",
    "import numpy as np\n",
    "import sympy\n",
    "import cirq"
   ]
  },
  {
   "cell_type": "markdown",
   "id": "51e3fa62",
   "metadata": {
    "cq.autogen": "Hadamard.bloq_doc.md"
   },
   "source": [
    "## `Hadamard`\n",
    "The Hadamard gate\n",
    "\n",
    "This converts between the X and Z basis.\n",
    "\n",
    "$$\n",
    "\\begin{aligned}\n",
    "H |0\\rangle = |+\\rangle \\\\\n",
    "H |-\\rangle = |1\\rangle\n",
    "\\end{aligned}\n",
    "$$\n",
    "\n",
    "#### Registers\n",
    " - `q`: The qubit\n"
   ]
  },
  {
   "cell_type": "code",
   "execution_count": 2,
   "id": "d05cfd73",
   "metadata": {
    "cq.autogen": "Hadamard.bloq_doc.py"
   },
   "outputs": [],
   "source": [
    "from qualtran.bloqs.basic_gates import Hadamard"
   ]
  },
  {
   "cell_type": "markdown",
   "id": "35b53a72",
   "metadata": {
    "cq.autogen": "Hadamard.example_instances.md"
   },
   "source": [
    "### Example Instances"
   ]
  },
  {
   "cell_type": "code",
   "execution_count": 3,
   "id": "39ebe976",
   "metadata": {
    "cq.autogen": "Hadamard.hadamard"
   },
   "outputs": [],
   "source": [
    "hadamard = Hadamard()"
   ]
  },
  {
   "cell_type": "markdown",
   "id": "f19223de",
   "metadata": {
    "cq.autogen": "Hadamard.graphical_signature.md"
   },
   "source": [
    "#### Graphical Signature"
   ]
  },
  {
   "cell_type": "code",
   "execution_count": 4,
   "id": "92b60b87",
   "metadata": {
    "cq.autogen": "Hadamard.graphical_signature.py"
   },
   "outputs": [
    {
     "data": {
      "application/vnd.jupyter.widget-view+json": {
       "model_id": "d7fd8a3ccd814168848ca60bfa6a2500",
       "version_major": 2,
       "version_minor": 0
      },
      "text/plain": [
       "HBox(children=(Output(outputs=({'output_type': 'display_data', 'data': {'text/plain': '<IPython.core.display.M…"
      ]
     },
     "metadata": {},
     "output_type": "display_data"
    }
   ],
   "source": [
    "from qualtran.drawing import show_bloqs\n",
    "show_bloqs([hadamard],\n",
    "           ['`hadamard`'])"
   ]
  },
  {
   "cell_type": "markdown",
   "id": "fbc791ac",
   "metadata": {
    "cq.autogen": "CHadamard.bloq_doc.md"
   },
   "source": [
    "## `CHadamard`\n",
    "The controlled Hadamard gate\n",
    "\n",
    "#### Registers\n",
    " - `ctrl`: The control qubit.\n",
    " - `target`: The target qubit.\n"
   ]
  },
  {
   "cell_type": "code",
   "execution_count": 5,
   "id": "ce21798b",
   "metadata": {
    "cq.autogen": "CHadamard.bloq_doc.py"
   },
   "outputs": [],
   "source": [
    "from qualtran.bloqs.basic_gates import CHadamard"
   ]
  },
  {
   "cell_type": "markdown",
   "id": "01eb9903",
   "metadata": {
    "cq.autogen": "CHadamard.example_instances.md"
   },
   "source": [
    "### Example Instances"
   ]
  },
  {
   "cell_type": "code",
   "execution_count": 6,
   "id": "6e79299e",
   "metadata": {
    "cq.autogen": "CHadamard.chadamard"
   },
   "outputs": [],
   "source": [
    "chadamard = Hadamard().controlled()\n",
    "assert isinstance(chadamard, CHadamard)"
   ]
  },
  {
   "cell_type": "markdown",
   "id": "47b363a1",
   "metadata": {
    "cq.autogen": "CHadamard.graphical_signature.md"
   },
   "source": [
    "#### Graphical Signature"
   ]
  },
  {
   "cell_type": "code",
   "execution_count": 7,
   "id": "01cc88a3",
   "metadata": {
    "cq.autogen": "CHadamard.graphical_signature.py"
   },
   "outputs": [
    {
     "data": {
      "application/vnd.jupyter.widget-view+json": {
       "model_id": "4b126701c5784745aaf2ad62a36e060a",
       "version_major": 2,
       "version_minor": 0
      },
      "text/plain": [
       "HBox(children=(Output(outputs=({'output_type': 'display_data', 'data': {'text/plain': '<IPython.core.display.M…"
      ]
     },
     "metadata": {},
     "output_type": "display_data"
    }
   ],
   "source": [
    "from qualtran.drawing import show_bloqs\n",
    "show_bloqs([chadamard],\n",
    "           ['`chadamard`'])"
   ]
  },
  {
   "cell_type": "code",
   "execution_count": 8,
   "id": "cf5fe532-b44b-4570-a52c-cd915fb8bf3d",
   "metadata": {},
   "outputs": [
    {
     "data": {
      "image/png": "[encoded data removed]",
      "text/plain": [
       "<Figure size 320x200 with 1 Axes>"
      ]
     },
     "metadata": {},
     "output_type": "display_data"
    }
   ],
   "source": [
    "show_bloq(chadamard, 'musical_score')"
   ]
  },
  {
   "cell_type": "markdown",
   "id": "bd22a519-40bd-4275-8fb1-e4981e6ac4d9",
   "metadata": {},
   "source": [
    "### Specialty circuits\n",
    "\n",
    "The `CHadamard` bloq is atomic and cannot be decomposed with `.decompose_bloq()`. An actual implementation on an error-corrected quantum computer will likely be architecture-dependent. A naive circuit for CHadamard can be found using Cirq."
   ]
  },
  {
   "cell_type": "code",
   "execution_count": 9,
   "id": "5608b887-c3c8-49db-858a-d06df9005078",
   "metadata": {},
   "outputs": [
    {
     "data": {
      "text/html": [
       "<pre style=\"overflow: auto; white-space: pre;\">ctrl: ───S─────────────────────────────@───────────────────────────────────@───────────────────────────\n",
       "                                       │                                   │\n",
       "         ┌                         ┐   │   ┌                           ┐   │   ┌                   ┐\n",
       "q: ──────│0.707+0.707j 0.   +0.j   │───X───│ 0.653+0.653j -0.271+0.271j│───X───│0.-0.924j 0.-0.383j│───\n",
       "         │0.   +0.j    0.707-0.707j│       │ 0.271+0.271j  0.653-0.653j│       │0.-0.383j 0.+0.924j│\n",
       "         └                         ┘       └                           ┘       └                   ┘</pre>"
      ],
      "text/plain": [
       "ctrl: ───S─────────────────────────────@───────────────────────────────────@───────────────────────────\n",
       "                                       │                                   │\n",
       "         ┌                         ┐   │   ┌                           ┐   │   ┌                   ┐\n",
       "q: ──────│0.707+0.707j 0.   +0.j   │───X───│ 0.653+0.653j -0.271+0.271j│───X───│0.-0.924j 0.-0.383j│───\n",
       "         │0.   +0.j    0.707-0.707j│       │ 0.271+0.271j  0.653-0.653j│       │0.-0.383j 0.+0.924j│\n",
       "         └                         ┘       └                           ┘       └                   ┘"
      ]
     },
     "execution_count": 9,
     "metadata": {},
     "output_type": "execute_result"
    }
   ],
   "source": [
    "circuit = cirq.Circuit(cirq.decompose_multi_controlled_rotation(\n",
    "    cirq.unitary(cirq.H),\n",
    "    controls=[cirq.NamedQubit('ctrl')],\n",
    "    target=cirq.NamedQubit('q'),\n",
    "))\n",
    "circuit"
   ]
  }
 ],
 "metadata": {
  "kernelspec": {
   "display_name": "Python 3 (ipykernel)",
   "language": "python",
   "name": "python3"
  },
  "language_info": {
   "codemirror_mode": {
    "name": "ipython",
    "version": 3
   },
   "file_extension": ".py",
   "mimetype": "text/x-python",
   "name": "python",
   "nbconvert_exporter": "python",
   "pygments_lexer": "ipython3",
   "version": "3.11.8"
  },
  "widgets": {
   "application/vnd.jupyter.widget-state+json": {
    "state": {
     "3ae3f634fc1d4e009413e0624cd90490": {
      "model_module": "@jupyter-widgets/base",
      "model_module_version": "2.0.0",
      "model_name": "LayoutModel",
      "state": {
       "_model_module": "@jupyter-widgets/base",
       "_model_module_version": "2.0.0",
       "_model_name": "LayoutModel",
       "_view_count": null,
       "_view_module": "@jupyter-widgets/base",
       "_view_module_version": "2.0.0",
       "_view_name": "LayoutView",
       "align_content": null,
       "align_items": null,
       "align_self": null,
       "border_bottom": null,
       "border_left": null,
       "border_right": null,
       "border_top": null,
       "bottom": null,
       "display": null,
       "flex": null,
       "flex_flow": null,
       "grid_area": null,
       "grid_auto_columns": null,
       "grid_auto_flow": null,
       "grid_auto_rows": null,
       "grid_column": null,
       "grid_gap": null,
       "grid_row": null,
       "grid_template_areas": null,
       "grid_template_columns": null,
       "grid_template_rows": null,
       "height": null,
       "justify_content": null,
       "justify_items": null,
       "left": null,
       "margin": null,
       "max_height": null,
       "max_width": null,
       "min_height": null,
       "min_width": null,
       "object_fit": null,
       "object_position": null,
       "order": null,
       "overflow": null,
       "padding": null,
       "right": null,
       "top": null,
       "visibility": null,
       "width": null
      }
     },
     "4b126701c5784745aaf2ad62a36e060a": {
      "model_module": "@jupyter-widgets/controls",
      "model_module_version": "2.0.0",
      "model_name": "HBoxModel",
      "state": {
       "_dom_classes": [],
       "_model_module": "@jupyter-widgets/controls",
       "_model_module_version": "2.0.0",
       "_model_name": "HBoxModel",
       "_view_count": null,
       "_view_module": "@jupyter-widgets/controls",
       "_view_module_version": "2.0.0",
       "_view_name": "HBoxView",
       "box_style": "",
       "children": [
        "IPY_MODEL_c445360f12c74c31a352ade91097162a"
       ],
       "layout": "IPY_MODEL_57ac52eb02694c30ab115ad037bc9aeb",
       "tabbable": null,
       "tooltip": null
      }
     },
     "4da587733a3b4a87a8b27f3d7ffa26b8": {
      "model_module": "@jupyter-widgets/output",
      "model_module_version": "1.0.0",
      "model_name": "OutputModel",
      "state": {
       "_dom_classes": [],
       "_model_module": "@jupyter-widgets/output",
       "_model_module_version": "1.0.0",
       "_model_name": "OutputModel",
       "_view_count": null,
       "_view_module": "@jupyter-widgets/output",
       "_view_module_version": "1.0.0",
       "_view_name": "OutputView",
       "layout": "IPY_MODEL_d581a09865ce4bba953cf683be4ff774",
       "msg_id": "",
       "outputs": [
        {
         "data": {
          "text/markdown": "`hadamard`",
          "text/plain": "<IPython.core.display.Markdown object>"
         },
         "metadata": {},
         "output_type": "display_data"
        },
        {
         "data": {
          "image/svg+xml": "<svg xmlns=\"http://www.w3.org/2000/svg\" xmlns:xlink=\"http://www.w3.org/1999/xlink\" width=\"204pt\" height=\"54pt\" viewBox=\"0.00 0.00 204.00 54.00\">\n<g id=\"graph0\" class=\"graph\" transform=\"scale(1 1) rotate(0) translate(4 50)\">\n<title>my_graph</title>\n<polygon fill=\"white\" stroke=\"transparent\" points=\"-4,4 -4,-50 200,-50 200,4 -4,4\"/>\n<!-- q_G0 -->\n<g id=\"node1\" class=\"node\">\n<title>q_G0</title>\n<text text-anchor=\"middle\" x=\"27\" y=\"-14.3\" font-family=\"Times,serif\" font-size=\"14.00\">q</text>\n</g>\n<!-- Hadamard -->\n<g id=\"node2\" class=\"node\">\n<title>Hadamard</title>\n<polygon fill=\"none\" stroke=\"black\" points=\"91,-29 91,-46 105,-46 105,-29 91,-29\"/>\n<text text-anchor=\"start\" x=\"94\" y=\"-35\" font-family=\"Times,serif\" font-size=\"10.00\">H</text>\n<polygon fill=\"none\" stroke=\"black\" points=\"91,-8 91,-29 105,-29 105,-8 91,-8\"/>\n<text text-anchor=\"start\" x=\"94.5\" y=\"-14.8\" font-family=\"Times,serif\" font-size=\"14.00\">q</text>\n</g>\n<!-- q_G0&#45;&gt;Hadamard -->\n<g id=\"edge1\" class=\"edge\">\n<title>q_G0:e-&gt;Hadamard:w</title>\n<path fill=\"none\" stroke=\"black\" d=\"M54,-18C69.67,-18 74.14,-18 88.77,-18\"/>\n<ellipse fill=\"black\" stroke=\"black\" cx=\"90\" cy=\"-18\" rx=\"1\" ry=\"1\"/>\n<text text-anchor=\"middle\" x=\"72.5\" y=\"-21\" font-family=\"Times,serif\" font-size=\"10.00\">1</text>\n</g>\n<!-- q_G1 -->\n<g id=\"node3\" class=\"node\">\n<title>q_G1</title>\n<text text-anchor=\"middle\" x=\"169\" y=\"-14.3\" font-family=\"Times,serif\" font-size=\"14.00\">q</text>\n</g>\n<!-- Hadamard&#45;&gt;q_G1 -->\n<g id=\"edge2\" class=\"edge\">\n<title>Hadamard:e-&gt;q_G1:w</title>\n<path fill=\"none\" stroke=\"black\" d=\"M105,-18C120.67,-18 125.14,-18 139.77,-18\"/>\n<ellipse fill=\"black\" stroke=\"black\" cx=\"141\" cy=\"-18\" rx=\"1\" ry=\"1\"/>\n<text text-anchor=\"middle\" x=\"123.5\" y=\"-21\" font-family=\"Times,serif\" font-size=\"10.00\">1</text>\n</g>\n</g>\n</svg>",
          "text/plain": "<IPython.core.display.SVG object>"
         },
         "metadata": {},
         "output_type": "display_data"
        }
       ],
       "tabbable": null,
       "tooltip": null
      }
     },
     "57ac52eb02694c30ab115ad037bc9aeb": {
      "model_module": "@jupyter-widgets/base",
      "model_module_version": "2.0.0",
      "model_name": "LayoutModel",
      "state": {
       "_model_module": "@jupyter-widgets/base",
       "_model_module_version": "2.0.0",
       "_model_name": "LayoutModel",
       "_view_count": null,
       "_view_module": "@jupyter-widgets/base",
       "_view_module_version": "2.0.0",
       "_view_name": "LayoutView",
       "align_content": null,
       "align_items": null,
       "align_self": null,
       "border_bottom": null,
       "border_left": null,
       "border_right": null,
       "border_top": null,
       "bottom": null,
       "display": null,
       "flex": null,
       "flex_flow": null,
       "grid_area": null,
       "grid_auto_columns": null,
       "grid_auto_flow": null,
       "grid_auto_rows": null,
       "grid_column": null,
       "grid_gap": null,
       "grid_row": null,
       "grid_template_areas": null,
       "grid_template_columns": null,
       "grid_template_rows": null,
       "height": null,
       "justify_content": null,
       "justify_items": null,
       "left": null,
       "margin": null,
       "max_height": null,
       "max_width": null,
       "min_height": null,
       "min_width": null,
       "object_fit": null,
       "object_position": null,
       "order": null,
       "overflow": null,
       "padding": null,
       "right": null,
       "top": null,
       "visibility": null,
       "width": null
      }
     },
     "c445360f12c74c31a352ade91097162a": {
      "model_module": "@jupyter-widgets/output",
      "model_module_version": "1.0.0",
      "model_name": "OutputModel",
      "state": {
       "_dom_classes": [],
       "_model_module": "@jupyter-widgets/output",
       "_model_module_version": "1.0.0",
       "_model_name": "OutputModel",
       "_view_count": null,
       "_view_module": "@jupyter-widgets/output",
       "_view_module_version": "1.0.0",
       "_view_name": "OutputView",
       "layout": "IPY_MODEL_f5c1206550834b9eb8f376ef18f52a6a",
       "msg_id": "",
       "outputs": [
        {
         "data": {
          "text/markdown": "`chadamard`",
          "text/plain": "<IPython.core.display.Markdown object>"
         },
         "metadata": {},
         "output_type": "display_data"
        },
        {
         "data": {
          "image/svg+xml": "<svg xmlns=\"http://www.w3.org/2000/svg\" xmlns:xlink=\"http://www.w3.org/1999/xlink\" width=\"245pt\" height=\"98pt\" viewBox=\"0.00 0.00 245.00 98.00\">\n<g id=\"graph0\" class=\"graph\" transform=\"scale(1 1) rotate(0) translate(4 94)\">\n<title>my_graph</title>\n<polygon fill=\"white\" stroke=\"transparent\" points=\"-4,4 -4,-94 241,-94 241,4 -4,4\"/>\n<!-- ctrl_G1 -->\n<g id=\"node1\" class=\"node\">\n<title>ctrl_G1</title>\n<text text-anchor=\"middle\" x=\"27\" y=\"-68.3\" font-family=\"Times,serif\" font-size=\"14.00\">ctrl</text>\n</g>\n<!-- CHadamard -->\n<g id=\"node3\" class=\"node\">\n<title>CHadamard</title>\n<polygon fill=\"none\" stroke=\"black\" points=\"91.5,-66 91.5,-83 146.5,-83 146.5,-66 91.5,-66\"/>\n<text text-anchor=\"start\" x=\"94.5\" y=\"-72\" font-family=\"Times,serif\" font-size=\"10.00\">CHadamard</text>\n<polygon fill=\"none\" stroke=\"black\" points=\"91.5,-45 91.5,-66 146.5,-66 146.5,-45 91.5,-45\"/>\n<text text-anchor=\"start\" x=\"109.5\" y=\"-51.8\" font-family=\"Times,serif\" font-size=\"14.00\">ctrl</text>\n<polygon fill=\"none\" stroke=\"black\" points=\"91.5,-24 91.5,-45 146.5,-45 146.5,-24 91.5,-24\"/>\n<text text-anchor=\"start\" x=\"103.5\" y=\"-30.8\" font-family=\"Times,serif\" font-size=\"14.00\">target</text>\n</g>\n<!-- ctrl_G1&#45;&gt;CHadamard -->\n<g id=\"edge1\" class=\"edge\">\n<title>ctrl_G1:e-&gt;CHadamard:w</title>\n<path fill=\"none\" stroke=\"black\" d=\"M54,-72C71.22,-72 72.97,-57.23 88.98,-56.07\"/>\n<ellipse fill=\"black\" stroke=\"black\" cx=\"90\" cy=\"-56.04\" rx=\"1\" ry=\"1\"/>\n<text text-anchor=\"middle\" x=\"72.5\" y=\"-67\" font-family=\"Times,serif\" font-size=\"10.00\">1</text>\n</g>\n<!-- target_G0 -->\n<g id=\"node2\" class=\"node\">\n<title>target_G0</title>\n<text text-anchor=\"middle\" x=\"27\" y=\"-14.3\" font-family=\"Times,serif\" font-size=\"14.00\">target</text>\n</g>\n<!-- target_G0&#45;&gt;CHadamard -->\n<g id=\"edge2\" class=\"edge\">\n<title>target_G0:e-&gt;CHadamard:w</title>\n<path fill=\"none\" stroke=\"black\" d=\"M54,-18C71.22,-18 72.97,-32.77 88.98,-33.93\"/>\n<ellipse fill=\"black\" stroke=\"black\" cx=\"90\" cy=\"-33.96\" rx=\"1\" ry=\"1\"/>\n<text text-anchor=\"middle\" x=\"72.5\" y=\"-29\" font-family=\"Times,serif\" font-size=\"10.00\">1</text>\n</g>\n<!-- ctrl_G2 -->\n<g id=\"node4\" class=\"node\">\n<title>ctrl_G2</title>\n<text text-anchor=\"middle\" x=\"210\" y=\"-68.3\" font-family=\"Times,serif\" font-size=\"14.00\">ctrl</text>\n</g>\n<!-- CHadamard&#45;&gt;ctrl_G2 -->\n<g id=\"edge3\" class=\"edge\">\n<title>CHadamard:e-&gt;ctrl_G2:w</title>\n<path fill=\"none\" stroke=\"black\" d=\"M146,-56C163.22,-56 164.97,-70.77 180.98,-71.93\"/>\n<ellipse fill=\"black\" stroke=\"black\" cx=\"182\" cy=\"-71.96\" rx=\"1\" ry=\"1\"/>\n<text text-anchor=\"middle\" x=\"164.5\" y=\"-67\" font-family=\"Times,serif\" font-size=\"10.00\">1</text>\n</g>\n<!-- target_G5 -->\n<g id=\"node5\" class=\"node\">\n<title>target_G5</title>\n<text text-anchor=\"middle\" x=\"210\" y=\"-14.3\" font-family=\"Times,serif\" font-size=\"14.00\">target</text>\n</g>\n<!-- CHadamard&#45;&gt;target_G5 -->\n<g id=\"edge4\" class=\"edge\">\n<title>CHadamard:e-&gt;target_G5:w</title>\n<path fill=\"none\" stroke=\"black\" d=\"M146,-34C163.22,-34 164.97,-19.23 180.98,-18.07\"/>\n<ellipse fill=\"black\" stroke=\"black\" cx=\"182\" cy=\"-18.04\" rx=\"1\" ry=\"1\"/>\n<text text-anchor=\"middle\" x=\"164.5\" y=\"-29\" font-family=\"Times,serif\" font-size=\"10.00\">1</text>\n</g>\n</g>\n</svg>",
          "text/plain": "<IPython.core.display.SVG object>"
         },
         "metadata": {},
         "output_type": "display_data"
        }
       ],
       "tabbable": null,
       "tooltip": null
      }
     },
     "d581a09865ce4bba953cf683be4ff774": {
      "model_module": "@jupyter-widgets/base",
      "model_module_version": "2.0.0",
      "model_name": "LayoutModel",
      "state": {
       "_model_module": "@jupyter-widgets/base",
       "_model_module_version": "2.0.0",
       "_model_name": "LayoutModel",
       "_view_count": null,
       "_view_module": "@jupyter-widgets/base",
       "_view_module_version": "2.0.0",
       "_view_name": "LayoutView",
       "align_content": null,
       "align_items": null,
       "align_self": null,
       "border_bottom": null,
       "border_left": null,
       "border_right": null,
       "border_top": null,
       "bottom": null,
       "display": null,
       "flex": null,
       "flex_flow": null,
       "grid_area": null,
       "grid_auto_columns": null,
       "grid_auto_flow": null,
       "grid_auto_rows": null,
       "grid_column": null,
       "grid_gap": null,
       "grid_row": null,
       "grid_template_areas": null,
       "grid_template_columns": null,
       "grid_template_rows": null,
       "height": null,
       "justify_content": null,
       "justify_items": null,
       "left": null,
       "margin": null,
       "max_height": null,
       "max_width": null,
       "min_height": null,
       "min_width": null,
       "object_fit": null,
       "object_position": null,
       "order": null,
       "overflow": null,
       "padding": null,
       "right": null,
       "top": null,
       "visibility": null,
       "width": null
      }
     },
     "d7fd8a3ccd814168848ca60bfa6a2500": {
      "model_module": "@jupyter-widgets/controls",
      "model_module_version": "2.0.0",
      "model_name": "HBoxModel",
      "state": {
       "_dom_classes": [],
       "_model_module": "@jupyter-widgets/controls",
       "_model_module_version": "2.0.0",
       "_model_name": "HBoxModel",
       "_view_count": null,
       "_view_module": "@jupyter-widgets/controls",
       "_view_module_version": "2.0.0",
       "_view_name": "HBoxView",
       "box_style": "",
       "children": [
        "IPY_MODEL_4da587733a3b4a87a8b27f3d7ffa26b8"
       ],
       "layout": "IPY_MODEL_3ae3f634fc1d4e009413e0624cd90490",
       "tabbable": null,
       "tooltip": null
      }
     },
     "f5c1206550834b9eb8f376ef18f52a6a": {
      "model_module": "@jupyter-widgets/base",
      "model_module_version": "2.0.0",
      "model_name": "LayoutModel",
      "state": {
       "_model_module": "@jupyter-widgets/base",
       "_model_module_version": "2.0.0",
       "_model_name": "LayoutModel",
       "_view_count": null,
       "_view_module": "@jupyter-widgets/base",
       "_view_module_version": "2.0.0",
       "_view_name": "LayoutView",
       "align_content": null,
       "align_items": null,
       "align_self": null,
       "border_bottom": null,
       "border_left": null,
       "border_right": null,
       "border_top": null,
       "bottom": null,
       "display": null,
       "flex": null,
       "flex_flow": null,
       "grid_area": null,
       "grid_auto_columns": null,
       "grid_auto_flow": null,
       "grid_auto_rows": null,
       "grid_column": null,
       "grid_gap": null,
       "grid_row": null,
       "grid_template_areas": null,
       "grid_template_columns": null,
       "grid_template_rows": null,
       "height": null,
       "justify_content": null,
       "justify_items": null,
       "left": null,
       "margin": null,
       "max_height": null,
       "max_width": null,
       "min_height": null,
       "min_width": null,
       "object_fit": null,
       "object_position": null,
       "order": null,
       "overflow": null,
       "padding": null,
       "right": null,
       "top": null,
       "visibility": null,
       "width": null
      }
     }
    },
    "version_major": 2,
    "version_minor": 0
   }
  }
 },
 "nbformat": 4,
 "nbformat_minor": 5
}
