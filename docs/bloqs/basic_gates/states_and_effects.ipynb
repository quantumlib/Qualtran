{
 "cells": [
  {
   "cell_type": "markdown",
   "id": "6d0f2201",
   "metadata": {
    "cq.autogen": "title_cell"
   },
   "source": [
    "# States and Effects"
   ]
  },
  {
   "cell_type": "code",
   "execution_count": 1,
   "id": "db7ec1e7",
   "metadata": {
    "cq.autogen": "top_imports"
   },
   "outputs": [],
   "source": [
    "from qualtran import Bloq, CompositeBloq, BloqBuilder, Signature, Register\n",
    "from qualtran import QBit, QInt, QUInt, QAny\n",
    "from qualtran.drawing import show_bloq, show_call_graph, show_counts_sigma\n",
    "from typing import *\n",
    "import numpy as np\n",
    "import sympy\n",
    "import cirq"
   ]
  },
  {
   "cell_type": "markdown",
   "id": "4dee16ba",
   "metadata": {
    "cq.autogen": "ZeroState.bloq_doc.md"
   },
   "source": [
    "## `ZeroState`\n",
    "The state |0>"
   ]
  },
  {
   "cell_type": "code",
   "execution_count": 2,
   "id": "36865033",
   "metadata": {
    "cq.autogen": "ZeroState.bloq_doc.py"
   },
   "outputs": [],
   "source": [
    "from qualtran.bloqs.basic_gates import ZeroState"
   ]
  },
  {
   "cell_type": "markdown",
   "id": "9131bf1b",
   "metadata": {
    "cq.autogen": "ZeroState.example_instances.md"
   },
   "source": [
    "### Example Instances"
   ]
  },
  {
   "cell_type": "code",
   "execution_count": 3,
   "id": "aaed87fa",
   "metadata": {
    "cq.autogen": "ZeroState.zero_state"
   },
   "outputs": [],
   "source": [
    "zero_state = ZeroState()"
   ]
  },
  {
   "cell_type": "markdown",
   "id": "3f1e3fa2",
   "metadata": {
    "cq.autogen": "ZeroState.graphical_signature.md"
   },
   "source": [
    "#### Graphical Signature"
   ]
  },
  {
   "cell_type": "code",
   "execution_count": 4,
   "id": "9dcfbfb2",
   "metadata": {
    "cq.autogen": "ZeroState.graphical_signature.py"
   },
   "outputs": [
    {
     "data": {
      "application/vnd.jupyter.widget-view+json": {
       "model_id": "5a6d1d3cb3ae466d9bd00e7ac88d8011",
       "version_major": 2,
       "version_minor": 0
      },
      "text/plain": [
       "HBox(children=(Output(outputs=({'output_type': 'display_data', 'data': {'text/plain': '<IPython.core.display.M…"
      ]
     },
     "metadata": {},
     "output_type": "display_data"
    }
   ],
   "source": [
    "from qualtran.drawing import show_bloqs\n",
    "show_bloqs([zero_state],\n",
    "           ['`zero_state`'])"
   ]
  },
  {
   "cell_type": "markdown",
   "id": "93f6f6ec",
   "metadata": {
    "cq.autogen": "ZeroState.call_graph.md"
   },
   "source": [
    "### Call Graph"
   ]
  },
  {
   "cell_type": "code",
   "execution_count": 5,
   "id": "4668b9f8",
   "metadata": {
    "cq.autogen": "ZeroState.call_graph.py"
   },
   "outputs": [
    {
     "data": {
      "image/svg+xml": [
       "<svg xmlns=\"http://www.w3.org/2000/svg\" xmlns:xlink=\"http://www.w3.org/1999/xlink\" width=\"62pt\" height=\"44pt\" viewBox=\"0.00 0.00 62.00 44.00\">\n",
       "<g id=\"graph0\" class=\"graph\" transform=\"scale(1 1) rotate(0) translate(4 40)\">\n",
       "<title>counts</title>\n",
       "<polygon fill=\"white\" stroke=\"transparent\" points=\"-4,4 -4,-40 58,-40 58,4 -4,4\"/>\n",
       "<!-- b0 -->\n",
       "<g id=\"node1\" class=\"node\">\n",
       "<title>b0</title>\n",
       "<polygon fill=\"none\" stroke=\"black\" points=\"14,-6 14,-29 40,-29 40,-6 14,-6\"/>\n",
       "<text text-anchor=\"start\" x=\"20\" y=\"-15\" font-family=\"Times,serif\" font-size=\"10.00\">|0&gt;</text>\n",
       "</g>\n",
       "</g>\n",
       "</svg>"
      ],
      "text/plain": [
       "<IPython.core.display.SVG object>"
      ]
     },
     "metadata": {},
     "output_type": "display_data"
    },
    {
     "data": {
      "text/markdown": [
       "#### Counts totals:\n",
       " - `|0>`: 1"
      ],
      "text/plain": [
       "<IPython.core.display.Markdown object>"
      ]
     },
     "metadata": {},
     "output_type": "display_data"
    }
   ],
   "source": [
    "from qualtran.resource_counting.generalizers import ignore_split_join\n",
    "zero_state_g, zero_state_sigma = zero_state.call_graph(max_depth=1, generalizer=ignore_split_join)\n",
    "show_call_graph(zero_state_g)\n",
    "show_counts_sigma(zero_state_sigma)"
   ]
  },
  {
   "cell_type": "markdown",
   "id": "ccc0c092",
   "metadata": {
    "cq.autogen": "ZeroEffect.bloq_doc.md"
   },
   "source": [
    "## `ZeroEffect`\n",
    "The effect <0|"
   ]
  },
  {
   "cell_type": "code",
   "execution_count": 6,
   "id": "72678f90",
   "metadata": {
    "cq.autogen": "ZeroEffect.bloq_doc.py"
   },
   "outputs": [],
   "source": [
    "from qualtran.bloqs.basic_gates import ZeroEffect"
   ]
  },
  {
   "cell_type": "markdown",
   "id": "a7598e23",
   "metadata": {
    "cq.autogen": "ZeroEffect.example_instances.md"
   },
   "source": [
    "### Example Instances"
   ]
  },
  {
   "cell_type": "code",
   "execution_count": 7,
   "id": "569bdccb",
   "metadata": {
    "cq.autogen": "ZeroEffect.zero_effect"
   },
   "outputs": [],
   "source": [
    "zero_effect = ZeroEffect()"
   ]
  },
  {
   "cell_type": "markdown",
   "id": "92d0e1ef",
   "metadata": {
    "cq.autogen": "ZeroEffect.graphical_signature.md"
   },
   "source": [
    "#### Graphical Signature"
   ]
  },
  {
   "cell_type": "code",
   "execution_count": 8,
   "id": "7eb749fc",
   "metadata": {
    "cq.autogen": "ZeroEffect.graphical_signature.py"
   },
   "outputs": [
    {
     "data": {
      "application/vnd.jupyter.widget-view+json": {
       "model_id": "fb85b3ef91cf4e738e58df4c5adbb7c3",
       "version_major": 2,
       "version_minor": 0
      },
      "text/plain": [
       "HBox(children=(Output(outputs=({'output_type': 'display_data', 'data': {'text/plain': '<IPython.core.display.M…"
      ]
     },
     "metadata": {},
     "output_type": "display_data"
    }
   ],
   "source": [
    "from qualtran.drawing import show_bloqs\n",
    "show_bloqs([zero_effect],\n",
    "           ['`zero_effect`'])"
   ]
  },
  {
   "cell_type": "markdown",
   "id": "11703907",
   "metadata": {
    "cq.autogen": "ZeroEffect.call_graph.md"
   },
   "source": [
    "### Call Graph"
   ]
  },
  {
   "cell_type": "code",
   "execution_count": 9,
   "id": "53d49c0e",
   "metadata": {
    "cq.autogen": "ZeroEffect.call_graph.py"
   },
   "outputs": [
    {
     "data": {
      "image/svg+xml": [
       "<svg xmlns=\"http://www.w3.org/2000/svg\" xmlns:xlink=\"http://www.w3.org/1999/xlink\" width=\"62pt\" height=\"44pt\" viewBox=\"0.00 0.00 62.00 44.00\">\n",
       "<g id=\"graph0\" class=\"graph\" transform=\"scale(1 1) rotate(0) translate(4 40)\">\n",
       "<title>counts</title>\n",
       "<polygon fill=\"white\" stroke=\"transparent\" points=\"-4,4 -4,-40 58,-40 58,4 -4,4\"/>\n",
       "<!-- b0 -->\n",
       "<g id=\"node1\" class=\"node\">\n",
       "<title>b0</title>\n",
       "<polygon fill=\"none\" stroke=\"black\" points=\"14,-6 14,-29 40,-29 40,-6 14,-6\"/>\n",
       "<text text-anchor=\"start\" x=\"20\" y=\"-15\" font-family=\"Times,serif\" font-size=\"10.00\">&lt;0|</text>\n",
       "</g>\n",
       "</g>\n",
       "</svg>"
      ],
      "text/plain": [
       "<IPython.core.display.SVG object>"
      ]
     },
     "metadata": {},
     "output_type": "display_data"
    },
    {
     "data": {
      "text/markdown": [
       "#### Counts totals:\n",
       " - `<0|`: 1"
      ],
      "text/plain": [
       "<IPython.core.display.Markdown object>"
      ]
     },
     "metadata": {},
     "output_type": "display_data"
    }
   ],
   "source": [
    "from qualtran.resource_counting.generalizers import ignore_split_join\n",
    "zero_effect_g, zero_effect_sigma = zero_effect.call_graph(max_depth=1, generalizer=ignore_split_join)\n",
    "show_call_graph(zero_effect_g)\n",
    "show_counts_sigma(zero_effect_sigma)"
   ]
  },
  {
   "cell_type": "markdown",
   "id": "ffac197a",
   "metadata": {
    "cq.autogen": "OneState.bloq_doc.md"
   },
   "source": [
    "## `OneState`\n",
    "The state |1>"
   ]
  },
  {
   "cell_type": "code",
   "execution_count": 10,
   "id": "0fed83fa",
   "metadata": {
    "cq.autogen": "OneState.bloq_doc.py"
   },
   "outputs": [],
   "source": [
    "from qualtran.bloqs.basic_gates import OneState"
   ]
  },
  {
   "cell_type": "markdown",
   "id": "a5bd8ee1",
   "metadata": {
    "cq.autogen": "OneState.example_instances.md"
   },
   "source": [
    "### Example Instances"
   ]
  },
  {
   "cell_type": "code",
   "execution_count": 11,
   "id": "2a1b9387",
   "metadata": {
    "cq.autogen": "OneState.one_state"
   },
   "outputs": [],
   "source": [
    "one_state = OneState()"
   ]
  },
  {
   "cell_type": "markdown",
   "id": "dba14a26",
   "metadata": {
    "cq.autogen": "OneState.graphical_signature.md"
   },
   "source": [
    "#### Graphical Signature"
   ]
  },
  {
   "cell_type": "code",
   "execution_count": 12,
   "id": "60a73137",
   "metadata": {
    "cq.autogen": "OneState.graphical_signature.py"
   },
   "outputs": [
    {
     "data": {
      "application/vnd.jupyter.widget-view+json": {
       "model_id": "95904a6a9203427fa699356ccf27ab52",
       "version_major": 2,
       "version_minor": 0
      },
      "text/plain": [
       "HBox(children=(Output(outputs=({'output_type': 'display_data', 'data': {'text/plain': '<IPython.core.display.M…"
      ]
     },
     "metadata": {},
     "output_type": "display_data"
    }
   ],
   "source": [
    "from qualtran.drawing import show_bloqs\n",
    "show_bloqs([one_state],\n",
    "           ['`one_state`'])"
   ]
  },
  {
   "cell_type": "markdown",
   "id": "1aa80735",
   "metadata": {
    "cq.autogen": "OneState.call_graph.md"
   },
   "source": [
    "### Call Graph"
   ]
  },
  {
   "cell_type": "code",
   "execution_count": 13,
   "id": "f10e900d",
   "metadata": {
    "cq.autogen": "OneState.call_graph.py"
   },
   "outputs": [
    {
     "data": {
      "image/svg+xml": [
       "<svg xmlns=\"http://www.w3.org/2000/svg\" xmlns:xlink=\"http://www.w3.org/1999/xlink\" width=\"62pt\" height=\"44pt\" viewBox=\"0.00 0.00 62.00 44.00\">\n",
       "<g id=\"graph0\" class=\"graph\" transform=\"scale(1 1) rotate(0) translate(4 40)\">\n",
       "<title>counts</title>\n",
       "<polygon fill=\"white\" stroke=\"transparent\" points=\"-4,4 -4,-40 58,-40 58,4 -4,4\"/>\n",
       "<!-- b0 -->\n",
       "<g id=\"node1\" class=\"node\">\n",
       "<title>b0</title>\n",
       "<polygon fill=\"none\" stroke=\"black\" points=\"14,-6 14,-29 40,-29 40,-6 14,-6\"/>\n",
       "<text text-anchor=\"start\" x=\"20\" y=\"-15\" font-family=\"Times,serif\" font-size=\"10.00\">|1&gt;</text>\n",
       "</g>\n",
       "</g>\n",
       "</svg>"
      ],
      "text/plain": [
       "<IPython.core.display.SVG object>"
      ]
     },
     "metadata": {},
     "output_type": "display_data"
    },
    {
     "data": {
      "text/markdown": [
       "#### Counts totals:\n",
       " - `|1>`: 1"
      ],
      "text/plain": [
       "<IPython.core.display.Markdown object>"
      ]
     },
     "metadata": {},
     "output_type": "display_data"
    }
   ],
   "source": [
    "from qualtran.resource_counting.generalizers import ignore_split_join\n",
    "one_state_g, one_state_sigma = one_state.call_graph(max_depth=1, generalizer=ignore_split_join)\n",
    "show_call_graph(one_state_g)\n",
    "show_counts_sigma(one_state_sigma)"
   ]
  },
  {
   "cell_type": "markdown",
   "id": "a844b23f",
   "metadata": {
    "cq.autogen": "OneEffect.bloq_doc.md"
   },
   "source": [
    "## `OneEffect`\n",
    "The effect <1|"
   ]
  },
  {
   "cell_type": "code",
   "execution_count": 14,
   "id": "a73b8207",
   "metadata": {
    "cq.autogen": "OneEffect.bloq_doc.py"
   },
   "outputs": [],
   "source": [
    "from qualtran.bloqs.basic_gates import OneEffect"
   ]
  },
  {
   "cell_type": "markdown",
   "id": "511d61ae",
   "metadata": {
    "cq.autogen": "OneEffect.example_instances.md"
   },
   "source": [
    "### Example Instances"
   ]
  },
  {
   "cell_type": "code",
   "execution_count": 15,
   "id": "1e5c4f26",
   "metadata": {
    "cq.autogen": "OneEffect.one_effect"
   },
   "outputs": [],
   "source": [
    "one_effect = OneEffect()"
   ]
  },
  {
   "cell_type": "markdown",
   "id": "1aebe8aa",
   "metadata": {
    "cq.autogen": "OneEffect.graphical_signature.md"
   },
   "source": [
    "#### Graphical Signature"
   ]
  },
  {
   "cell_type": "code",
   "execution_count": 16,
   "id": "7e492bb6",
   "metadata": {
    "cq.autogen": "OneEffect.graphical_signature.py"
   },
   "outputs": [
    {
     "data": {
      "application/vnd.jupyter.widget-view+json": {
       "model_id": "86099df3646d4d1abc72655d5a911874",
       "version_major": 2,
       "version_minor": 0
      },
      "text/plain": [
       "HBox(children=(Output(outputs=({'output_type': 'display_data', 'data': {'text/plain': '<IPython.core.display.M…"
      ]
     },
     "metadata": {},
     "output_type": "display_data"
    }
   ],
   "source": [
    "from qualtran.drawing import show_bloqs\n",
    "show_bloqs([one_effect],\n",
    "           ['`one_effect`'])"
   ]
  },
  {
   "cell_type": "markdown",
   "id": "423fea39",
   "metadata": {
    "cq.autogen": "OneEffect.call_graph.md"
   },
   "source": [
    "### Call Graph"
   ]
  },
  {
   "cell_type": "code",
   "execution_count": 17,
   "id": "b6ccdfc9",
   "metadata": {
    "cq.autogen": "OneEffect.call_graph.py"
   },
   "outputs": [
    {
     "data": {
      "image/svg+xml": [
       "<svg xmlns=\"http://www.w3.org/2000/svg\" xmlns:xlink=\"http://www.w3.org/1999/xlink\" width=\"62pt\" height=\"44pt\" viewBox=\"0.00 0.00 62.00 44.00\">\n",
       "<g id=\"graph0\" class=\"graph\" transform=\"scale(1 1) rotate(0) translate(4 40)\">\n",
       "<title>counts</title>\n",
       "<polygon fill=\"white\" stroke=\"transparent\" points=\"-4,4 -4,-40 58,-40 58,4 -4,4\"/>\n",
       "<!-- b0 -->\n",
       "<g id=\"node1\" class=\"node\">\n",
       "<title>b0</title>\n",
       "<polygon fill=\"none\" stroke=\"black\" points=\"14,-6 14,-29 40,-29 40,-6 14,-6\"/>\n",
       "<text text-anchor=\"start\" x=\"20\" y=\"-15\" font-family=\"Times,serif\" font-size=\"10.00\">&lt;1|</text>\n",
       "</g>\n",
       "</g>\n",
       "</svg>"
      ],
      "text/plain": [
       "<IPython.core.display.SVG object>"
      ]
     },
     "metadata": {},
     "output_type": "display_data"
    },
    {
     "data": {
      "text/markdown": [
       "#### Counts totals:\n",
       " - `<1|`: 1"
      ],
      "text/plain": [
       "<IPython.core.display.Markdown object>"
      ]
     },
     "metadata": {},
     "output_type": "display_data"
    }
   ],
   "source": [
    "from qualtran.resource_counting.generalizers import ignore_split_join\n",
    "one_effect_g, one_effect_sigma = one_effect.call_graph(max_depth=1, generalizer=ignore_split_join)\n",
    "show_call_graph(one_effect_g)\n",
    "show_counts_sigma(one_effect_sigma)"
   ]
  },
  {
   "cell_type": "markdown",
   "id": "265284e0",
   "metadata": {
    "cq.autogen": "IntState.bloq_doc.md"
   },
   "source": [
    "## `IntState`\n",
    "The state |val> for non-negative integer val\n",
    "\n",
    "#### Parameters\n",
    " - `val`: the classical value\n",
    " - `bitsize`: The bitsize of the register \n",
    "\n",
    "#### Registers\n",
    " - `val`: The register of size `bitsize` which initializes the value `val`.\n"
   ]
  },
  {
   "cell_type": "code",
   "execution_count": 18,
   "id": "5b8e22fe",
   "metadata": {
    "cq.autogen": "IntState.bloq_doc.py"
   },
   "outputs": [],
   "source": [
    "from qualtran.bloqs.basic_gates import IntState"
   ]
  },
  {
   "cell_type": "markdown",
   "id": "4c13bd35",
   "metadata": {
    "cq.autogen": "IntState.example_instances.md"
   },
   "source": [
    "### Example Instances"
   ]
  },
  {
   "cell_type": "code",
   "execution_count": 19,
   "id": "780e697d",
   "metadata": {
    "cq.autogen": "IntState.int_state"
   },
   "outputs": [],
   "source": [
    "int_state = IntState(55, bitsize=8)"
   ]
  },
  {
   "cell_type": "markdown",
   "id": "abf1cf71",
   "metadata": {
    "cq.autogen": "IntState.graphical_signature.md"
   },
   "source": [
    "#### Graphical Signature"
   ]
  },
  {
   "cell_type": "code",
   "execution_count": 20,
   "id": "0f359756",
   "metadata": {
    "cq.autogen": "IntState.graphical_signature.py"
   },
   "outputs": [
    {
     "data": {
      "application/vnd.jupyter.widget-view+json": {
       "model_id": "f4321127ff1044678068b409aaffac2d",
       "version_major": 2,
       "version_minor": 0
      },
      "text/plain": [
       "HBox(children=(Output(outputs=({'output_type': 'display_data', 'data': {'text/plain': '<IPython.core.display.M…"
      ]
     },
     "metadata": {},
     "output_type": "display_data"
    }
   ],
   "source": [
    "from qualtran.drawing import show_bloqs\n",
    "show_bloqs([int_state],\n",
    "           ['`int_state`'])"
   ]
  },
  {
   "cell_type": "markdown",
   "id": "a2e439f2",
   "metadata": {
    "cq.autogen": "IntState.call_graph.md"
   },
   "source": [
    "### Call Graph"
   ]
  },
  {
   "cell_type": "code",
   "execution_count": 21,
   "id": "9d09b2f0",
   "metadata": {
    "cq.autogen": "IntState.call_graph.py"
   },
   "outputs": [
    {
     "data": {
      "image/svg+xml": [
       "<svg xmlns=\"http://www.w3.org/2000/svg\" xmlns:xlink=\"http://www.w3.org/1999/xlink\" width=\"130pt\" height=\"131pt\" viewBox=\"0.00 0.00 130.00 131.00\">\n",
       "<g id=\"graph0\" class=\"graph\" transform=\"scale(1 1) rotate(0) translate(4 127)\">\n",
       "<title>counts</title>\n",
       "<polygon fill=\"white\" stroke=\"transparent\" points=\"-4,4 -4,-127 126,-127 126,4 -4,4\"/>\n",
       "<!-- b0 -->\n",
       "<g id=\"node1\" class=\"node\">\n",
       "<title>b0</title>\n",
       "<polygon fill=\"none\" stroke=\"black\" points=\"45,-93 45,-116 77,-116 77,-93 45,-93\"/>\n",
       "<text text-anchor=\"start\" x=\"51.5\" y=\"-102\" font-family=\"Times,serif\" font-size=\"10.00\">|55&gt;</text>\n",
       "</g>\n",
       "<!-- b1 -->\n",
       "<g id=\"node2\" class=\"node\">\n",
       "<title>b1</title>\n",
       "<polygon fill=\"none\" stroke=\"black\" points=\"8,-6 8,-29 114,-29 114,-6 8,-6\"/>\n",
       "<text text-anchor=\"start\" x=\"14.5\" y=\"-15\" font-family=\"Times,serif\" font-size=\"10.00\">ArbitraryClifford(n=8)</text>\n",
       "</g>\n",
       "<!-- b0&#45;&gt;b1 -->\n",
       "<g id=\"edge1\" class=\"edge\">\n",
       "<title>b0-&gt;b1</title>\n",
       "<path fill=\"none\" stroke=\"black\" d=\"M61,-86.8C61,-75.16 61,-59.55 61,-46.24\"/>\n",
       "<polygon fill=\"black\" stroke=\"black\" points=\"64.5,-46.18 61,-36.18 57.5,-46.18 64.5,-46.18\"/>\n",
       "<text text-anchor=\"middle\" x=\"64.5\" y=\"-57.8\" font-family=\"Times,serif\" font-size=\"14.00\">1</text>\n",
       "</g>\n",
       "</g>\n",
       "</svg>"
      ],
      "text/plain": [
       "<IPython.core.display.SVG object>"
      ]
     },
     "metadata": {},
     "output_type": "display_data"
    },
    {
     "data": {
      "text/markdown": [
       "#### Counts totals:\n",
       " - `ArbitraryClifford(n=8)`: 1"
      ],
      "text/plain": [
       "<IPython.core.display.Markdown object>"
      ]
     },
     "metadata": {},
     "output_type": "display_data"
    }
   ],
   "source": [
    "from qualtran.resource_counting.generalizers import ignore_split_join\n",
    "int_state_g, int_state_sigma = int_state.call_graph(max_depth=1, generalizer=ignore_split_join)\n",
    "show_call_graph(int_state_g)\n",
    "show_counts_sigma(int_state_sigma)"
   ]
  },
  {
   "cell_type": "markdown",
   "id": "24987094",
   "metadata": {
    "cq.autogen": "IntEffect.bloq_doc.md"
   },
   "source": [
    "## `IntEffect`\n",
    "The effect <val| for non-negative integer val\n",
    "\n",
    "#### Parameters\n",
    " - `val`: the classical value\n",
    " - `bitsize`: The bitsize of the register \n",
    "\n",
    "#### Registers\n",
    " - `val`: The register of size `bitsize` which de-allocates the value `val`.\n"
   ]
  },
  {
   "cell_type": "code",
   "execution_count": 22,
   "id": "7281a61e",
   "metadata": {
    "cq.autogen": "IntEffect.bloq_doc.py"
   },
   "outputs": [],
   "source": [
    "from qualtran.bloqs.basic_gates import IntEffect"
   ]
  },
  {
   "cell_type": "markdown",
   "id": "a9d594a4",
   "metadata": {
    "cq.autogen": "IntEffect.example_instances.md"
   },
   "source": [
    "### Example Instances"
   ]
  },
  {
   "cell_type": "code",
   "execution_count": 23,
   "id": "46fa8456",
   "metadata": {
    "cq.autogen": "IntEffect.int_effect"
   },
   "outputs": [],
   "source": [
    "int_effect = IntEffect(55, bitsize=8)"
   ]
  },
  {
   "cell_type": "markdown",
   "id": "5581465d",
   "metadata": {
    "cq.autogen": "IntEffect.graphical_signature.md"
   },
   "source": [
    "#### Graphical Signature"
   ]
  },
  {
   "cell_type": "code",
   "execution_count": 24,
   "id": "bf1426a0",
   "metadata": {
    "cq.autogen": "IntEffect.graphical_signature.py"
   },
   "outputs": [
    {
     "data": {
      "application/vnd.jupyter.widget-view+json": {
       "model_id": "7c23789e146e4968be6fa406e202247f",
       "version_major": 2,
       "version_minor": 0
      },
      "text/plain": [
       "HBox(children=(Output(outputs=({'output_type': 'display_data', 'data': {'text/plain': '<IPython.core.display.M…"
      ]
     },
     "metadata": {},
     "output_type": "display_data"
    }
   ],
   "source": [
    "from qualtran.drawing import show_bloqs\n",
    "show_bloqs([int_effect],\n",
    "           ['`int_effect`'])"
   ]
  },
  {
   "cell_type": "markdown",
   "id": "19821a22",
   "metadata": {
    "cq.autogen": "IntEffect.call_graph.md"
   },
   "source": [
    "### Call Graph"
   ]
  },
  {
   "cell_type": "code",
   "execution_count": 25,
   "id": "de2f05d0",
   "metadata": {
    "cq.autogen": "IntEffect.call_graph.py"
   },
   "outputs": [
    {
     "data": {
      "image/svg+xml": [
       "<svg xmlns=\"http://www.w3.org/2000/svg\" xmlns:xlink=\"http://www.w3.org/1999/xlink\" width=\"130pt\" height=\"131pt\" viewBox=\"0.00 0.00 130.00 131.00\">\n",
       "<g id=\"graph0\" class=\"graph\" transform=\"scale(1 1) rotate(0) translate(4 127)\">\n",
       "<title>counts</title>\n",
       "<polygon fill=\"white\" stroke=\"transparent\" points=\"-4,4 -4,-127 126,-127 126,4 -4,4\"/>\n",
       "<!-- b0 -->\n",
       "<g id=\"node1\" class=\"node\">\n",
       "<title>b0</title>\n",
       "<polygon fill=\"none\" stroke=\"black\" points=\"45,-93 45,-116 77,-116 77,-93 45,-93\"/>\n",
       "<text text-anchor=\"start\" x=\"51.5\" y=\"-102\" font-family=\"Times,serif\" font-size=\"10.00\">&lt;55|</text>\n",
       "</g>\n",
       "<!-- b1 -->\n",
       "<g id=\"node2\" class=\"node\">\n",
       "<title>b1</title>\n",
       "<polygon fill=\"none\" stroke=\"black\" points=\"8,-6 8,-29 114,-29 114,-6 8,-6\"/>\n",
       "<text text-anchor=\"start\" x=\"14.5\" y=\"-15\" font-family=\"Times,serif\" font-size=\"10.00\">ArbitraryClifford(n=8)</text>\n",
       "</g>\n",
       "<!-- b0&#45;&gt;b1 -->\n",
       "<g id=\"edge1\" class=\"edge\">\n",
       "<title>b0-&gt;b1</title>\n",
       "<path fill=\"none\" stroke=\"black\" d=\"M61,-86.8C61,-75.16 61,-59.55 61,-46.24\"/>\n",
       "<polygon fill=\"black\" stroke=\"black\" points=\"64.5,-46.18 61,-36.18 57.5,-46.18 64.5,-46.18\"/>\n",
       "<text text-anchor=\"middle\" x=\"64.5\" y=\"-57.8\" font-family=\"Times,serif\" font-size=\"14.00\">1</text>\n",
       "</g>\n",
       "</g>\n",
       "</svg>"
      ],
      "text/plain": [
       "<IPython.core.display.SVG object>"
      ]
     },
     "metadata": {},
     "output_type": "display_data"
    },
    {
     "data": {
      "text/markdown": [
       "#### Counts totals:\n",
       " - `ArbitraryClifford(n=8)`: 1"
      ],
      "text/plain": [
       "<IPython.core.display.Markdown object>"
      ]
     },
     "metadata": {},
     "output_type": "display_data"
    }
   ],
   "source": [
    "from qualtran.resource_counting.generalizers import ignore_split_join\n",
    "int_effect_g, int_effect_sigma = int_effect.call_graph(max_depth=1, generalizer=ignore_split_join)\n",
    "show_call_graph(int_effect_g)\n",
    "show_counts_sigma(int_effect_sigma)"
   ]
  },
  {
   "cell_type": "markdown",
   "id": "6ecc5e6f",
   "metadata": {
    "cq.autogen": "PlusState.bloq_doc.md"
   },
   "source": [
    "## `PlusState`\n",
    "The state |+>"
   ]
  },
  {
   "cell_type": "code",
   "execution_count": 26,
   "id": "3e300a86",
   "metadata": {
    "cq.autogen": "PlusState.bloq_doc.py"
   },
   "outputs": [],
   "source": [
    "from qualtran.bloqs.basic_gates import PlusState"
   ]
  },
  {
   "cell_type": "markdown",
   "id": "bcfe31e5",
   "metadata": {
    "cq.autogen": "PlusState.example_instances.md"
   },
   "source": [
    "### Example Instances"
   ]
  },
  {
   "cell_type": "code",
   "execution_count": 27,
   "id": "6a957583",
   "metadata": {
    "cq.autogen": "PlusState.plus_state"
   },
   "outputs": [],
   "source": [
    "plus_state = PlusState()"
   ]
  },
  {
   "cell_type": "markdown",
   "id": "b80ec3e7",
   "metadata": {
    "cq.autogen": "PlusState.graphical_signature.md"
   },
   "source": [
    "#### Graphical Signature"
   ]
  },
  {
   "cell_type": "code",
   "execution_count": 28,
   "id": "c4d0c580",
   "metadata": {
    "cq.autogen": "PlusState.graphical_signature.py"
   },
   "outputs": [
    {
     "data": {
      "application/vnd.jupyter.widget-view+json": {
       "model_id": "29512678ba1949f487b7e954289ab79b",
       "version_major": 2,
       "version_minor": 0
      },
      "text/plain": [
       "HBox(children=(Output(outputs=({'output_type': 'display_data', 'data': {'text/plain': '<IPython.core.display.M…"
      ]
     },
     "metadata": {},
     "output_type": "display_data"
    }
   ],
   "source": [
    "from qualtran.drawing import show_bloqs\n",
    "show_bloqs([plus_state],\n",
    "           ['`plus_state`'])"
   ]
  },
  {
   "cell_type": "markdown",
   "id": "6d9a4075",
   "metadata": {
    "cq.autogen": "PlusState.call_graph.md"
   },
   "source": [
    "### Call Graph"
   ]
  },
  {
   "cell_type": "code",
   "execution_count": 29,
   "id": "49aa154d",
   "metadata": {
    "cq.autogen": "PlusState.call_graph.py"
   },
   "outputs": [
    {
     "data": {
      "image/svg+xml": [
       "<svg xmlns=\"http://www.w3.org/2000/svg\" xmlns:xlink=\"http://www.w3.org/1999/xlink\" width=\"62pt\" height=\"44pt\" viewBox=\"0.00 0.00 62.00 44.00\">\n",
       "<g id=\"graph0\" class=\"graph\" transform=\"scale(1 1) rotate(0) translate(4 40)\">\n",
       "<title>counts</title>\n",
       "<polygon fill=\"white\" stroke=\"transparent\" points=\"-4,4 -4,-40 58,-40 58,4 -4,4\"/>\n",
       "<!-- b0 -->\n",
       "<g id=\"node1\" class=\"node\">\n",
       "<title>b0</title>\n",
       "<polygon fill=\"none\" stroke=\"black\" points=\"13,-6 13,-29 41,-29 41,-6 13,-6\"/>\n",
       "<text text-anchor=\"start\" x=\"19.5\" y=\"-15\" font-family=\"Times,serif\" font-size=\"10.00\">|+&gt;</text>\n",
       "</g>\n",
       "</g>\n",
       "</svg>"
      ],
      "text/plain": [
       "<IPython.core.display.SVG object>"
      ]
     },
     "metadata": {},
     "output_type": "display_data"
    },
    {
     "data": {
      "text/markdown": [
       "#### Counts totals:\n",
       " - `|+>`: 1"
      ],
      "text/plain": [
       "<IPython.core.display.Markdown object>"
      ]
     },
     "metadata": {},
     "output_type": "display_data"
    }
   ],
   "source": [
    "from qualtran.resource_counting.generalizers import ignore_split_join\n",
    "plus_state_g, plus_state_sigma = plus_state.call_graph(max_depth=1, generalizer=ignore_split_join)\n",
    "show_call_graph(plus_state_g)\n",
    "show_counts_sigma(plus_state_sigma)"
   ]
  },
  {
   "cell_type": "markdown",
   "id": "285d0f64",
   "metadata": {
    "cq.autogen": "PlusEffect.bloq_doc.md"
   },
   "source": [
    "## `PlusEffect`\n",
    "The effect <+|"
   ]
  },
  {
   "cell_type": "code",
   "execution_count": 30,
   "id": "06c673cb",
   "metadata": {
    "cq.autogen": "PlusEffect.bloq_doc.py"
   },
   "outputs": [],
   "source": [
    "from qualtran.bloqs.basic_gates import PlusEffect"
   ]
  },
  {
   "cell_type": "markdown",
   "id": "b28bca45",
   "metadata": {
    "cq.autogen": "PlusEffect.example_instances.md"
   },
   "source": [
    "### Example Instances"
   ]
  },
  {
   "cell_type": "code",
   "execution_count": 31,
   "id": "59511109",
   "metadata": {
    "cq.autogen": "PlusEffect.plus_effect"
   },
   "outputs": [],
   "source": [
    "plus_effect = PlusEffect()"
   ]
  },
  {
   "cell_type": "markdown",
   "id": "5eaaabb7",
   "metadata": {
    "cq.autogen": "PlusEffect.graphical_signature.md"
   },
   "source": [
    "#### Graphical Signature"
   ]
  },
  {
   "cell_type": "code",
   "execution_count": 32,
   "id": "8c0f7cf1",
   "metadata": {
    "cq.autogen": "PlusEffect.graphical_signature.py"
   },
   "outputs": [
    {
     "data": {
      "application/vnd.jupyter.widget-view+json": {
       "model_id": "b1962198aa5a40af95b7d31a0fb6b4b1",
       "version_major": 2,
       "version_minor": 0
      },
      "text/plain": [
       "HBox(children=(Output(outputs=({'output_type': 'display_data', 'data': {'text/plain': '<IPython.core.display.M…"
      ]
     },
     "metadata": {},
     "output_type": "display_data"
    }
   ],
   "source": [
    "from qualtran.drawing import show_bloqs\n",
    "show_bloqs([plus_effect],\n",
    "           ['`plus_effect`'])"
   ]
  },
  {
   "cell_type": "markdown",
   "id": "591e79f3",
   "metadata": {
    "cq.autogen": "PlusEffect.call_graph.md"
   },
   "source": [
    "### Call Graph"
   ]
  },
  {
   "cell_type": "code",
   "execution_count": 33,
   "id": "28401875",
   "metadata": {
    "cq.autogen": "PlusEffect.call_graph.py"
   },
   "outputs": [
    {
     "data": {
      "image/svg+xml": [
       "<svg xmlns=\"http://www.w3.org/2000/svg\" xmlns:xlink=\"http://www.w3.org/1999/xlink\" width=\"62pt\" height=\"44pt\" viewBox=\"0.00 0.00 62.00 44.00\">\n",
       "<g id=\"graph0\" class=\"graph\" transform=\"scale(1 1) rotate(0) translate(4 40)\">\n",
       "<title>counts</title>\n",
       "<polygon fill=\"white\" stroke=\"transparent\" points=\"-4,4 -4,-40 58,-40 58,4 -4,4\"/>\n",
       "<!-- b0 -->\n",
       "<g id=\"node1\" class=\"node\">\n",
       "<title>b0</title>\n",
       "<polygon fill=\"none\" stroke=\"black\" points=\"13,-6 13,-29 41,-29 41,-6 13,-6\"/>\n",
       "<text text-anchor=\"start\" x=\"19.5\" y=\"-15\" font-family=\"Times,serif\" font-size=\"10.00\">&lt;+|</text>\n",
       "</g>\n",
       "</g>\n",
       "</svg>"
      ],
      "text/plain": [
       "<IPython.core.display.SVG object>"
      ]
     },
     "metadata": {},
     "output_type": "display_data"
    },
    {
     "data": {
      "text/markdown": [
       "#### Counts totals:\n",
       " - `<+|`: 1"
      ],
      "text/plain": [
       "<IPython.core.display.Markdown object>"
      ]
     },
     "metadata": {},
     "output_type": "display_data"
    }
   ],
   "source": [
    "from qualtran.resource_counting.generalizers import ignore_split_join\n",
    "plus_effect_g, plus_effect_sigma = plus_effect.call_graph(max_depth=1, generalizer=ignore_split_join)\n",
    "show_call_graph(plus_effect_g)\n",
    "show_counts_sigma(plus_effect_sigma)"
   ]
  },
  {
   "cell_type": "markdown",
   "id": "172f565a",
   "metadata": {
    "cq.autogen": "MinusState.bloq_doc.md"
   },
   "source": [
    "## `MinusState`\n",
    "The state |->"
   ]
  },
  {
   "cell_type": "code",
   "execution_count": 34,
   "id": "46838c6f",
   "metadata": {
    "cq.autogen": "MinusState.bloq_doc.py"
   },
   "outputs": [],
   "source": [
    "from qualtran.bloqs.basic_gates import MinusState"
   ]
  },
  {
   "cell_type": "markdown",
   "id": "2c4b9224",
   "metadata": {
    "cq.autogen": "MinusState.example_instances.md"
   },
   "source": [
    "### Example Instances"
   ]
  },
  {
   "cell_type": "code",
   "execution_count": 35,
   "id": "98838314",
   "metadata": {
    "cq.autogen": "MinusState.minus_state"
   },
   "outputs": [],
   "source": [
    "minus_state = MinusState()"
   ]
  },
  {
   "cell_type": "markdown",
   "id": "947e657c",
   "metadata": {
    "cq.autogen": "MinusState.graphical_signature.md"
   },
   "source": [
    "#### Graphical Signature"
   ]
  },
  {
   "cell_type": "code",
   "execution_count": 36,
   "id": "2e4279bc",
   "metadata": {
    "cq.autogen": "MinusState.graphical_signature.py"
   },
   "outputs": [
    {
     "data": {
      "application/vnd.jupyter.widget-view+json": {
       "model_id": "7661b15941b44f549b6e3fbc7229f9cf",
       "version_major": 2,
       "version_minor": 0
      },
      "text/plain": [
       "HBox(children=(Output(outputs=({'output_type': 'display_data', 'data': {'text/plain': '<IPython.core.display.M…"
      ]
     },
     "metadata": {},
     "output_type": "display_data"
    }
   ],
   "source": [
    "from qualtran.drawing import show_bloqs\n",
    "show_bloqs([minus_state],\n",
    "           ['`minus_state`'])"
   ]
  },
  {
   "cell_type": "markdown",
   "id": "e9653d97",
   "metadata": {
    "cq.autogen": "MinusState.call_graph.md"
   },
   "source": [
    "### Call Graph"
   ]
  },
  {
   "cell_type": "code",
   "execution_count": 37,
   "id": "6b97f8ac",
   "metadata": {
    "cq.autogen": "MinusState.call_graph.py"
   },
   "outputs": [
    {
     "data": {
      "image/svg+xml": [
       "<svg xmlns=\"http://www.w3.org/2000/svg\" xmlns:xlink=\"http://www.w3.org/1999/xlink\" width=\"62pt\" height=\"44pt\" viewBox=\"0.00 0.00 62.00 44.00\">\n",
       "<g id=\"graph0\" class=\"graph\" transform=\"scale(1 1) rotate(0) translate(4 40)\">\n",
       "<title>counts</title>\n",
       "<polygon fill=\"white\" stroke=\"transparent\" points=\"-4,4 -4,-40 58,-40 58,4 -4,4\"/>\n",
       "<!-- b0 -->\n",
       "<g id=\"node1\" class=\"node\">\n",
       "<title>b0</title>\n",
       "<polygon fill=\"none\" stroke=\"black\" points=\"15,-6 15,-29 39,-29 39,-6 15,-6\"/>\n",
       "<text text-anchor=\"start\" x=\"21\" y=\"-15\" font-family=\"Times,serif\" font-size=\"10.00\">|-&gt;</text>\n",
       "</g>\n",
       "</g>\n",
       "</svg>"
      ],
      "text/plain": [
       "<IPython.core.display.SVG object>"
      ]
     },
     "metadata": {},
     "output_type": "display_data"
    },
    {
     "data": {
      "text/markdown": [
       "#### Counts totals:\n",
       " - `|->`: 1"
      ],
      "text/plain": [
       "<IPython.core.display.Markdown object>"
      ]
     },
     "metadata": {},
     "output_type": "display_data"
    }
   ],
   "source": [
    "from qualtran.resource_counting.generalizers import ignore_split_join\n",
    "minus_state_g, minus_state_sigma = minus_state.call_graph(max_depth=1, generalizer=ignore_split_join)\n",
    "show_call_graph(minus_state_g)\n",
    "show_counts_sigma(minus_state_sigma)"
   ]
  },
  {
   "cell_type": "markdown",
   "id": "7cb29dfb",
   "metadata": {
    "cq.autogen": "MinusEffect.bloq_doc.md"
   },
   "source": [
    "## `MinusEffect`\n",
    "The effect <-|"
   ]
  },
  {
   "cell_type": "code",
   "execution_count": 38,
   "id": "bf1a296c",
   "metadata": {
    "cq.autogen": "MinusEffect.bloq_doc.py"
   },
   "outputs": [],
   "source": [
    "from qualtran.bloqs.basic_gates import MinusEffect"
   ]
  },
  {
   "cell_type": "markdown",
   "id": "2fd33f98",
   "metadata": {
    "cq.autogen": "MinusEffect.example_instances.md"
   },
   "source": [
    "### Example Instances"
   ]
  },
  {
   "cell_type": "code",
   "execution_count": 39,
   "id": "8772b615",
   "metadata": {
    "cq.autogen": "MinusEffect.minus_effect"
   },
   "outputs": [],
   "source": [
    "minus_effect = MinusEffect()"
   ]
  },
  {
   "cell_type": "markdown",
   "id": "d8ad4018",
   "metadata": {
    "cq.autogen": "MinusEffect.graphical_signature.md"
   },
   "source": [
    "#### Graphical Signature"
   ]
  },
  {
   "cell_type": "code",
   "execution_count": 40,
   "id": "03b42d54",
   "metadata": {
    "cq.autogen": "MinusEffect.graphical_signature.py"
   },
   "outputs": [
    {
     "data": {
      "application/vnd.jupyter.widget-view+json": {
       "model_id": "0df220f857e148daba94681764486e4e",
       "version_major": 2,
       "version_minor": 0
      },
      "text/plain": [
       "HBox(children=(Output(outputs=({'output_type': 'display_data', 'data': {'text/plain': '<IPython.core.display.M…"
      ]
     },
     "metadata": {},
     "output_type": "display_data"
    }
   ],
   "source": [
    "from qualtran.drawing import show_bloqs\n",
    "show_bloqs([minus_effect],\n",
    "           ['`minus_effect`'])"
   ]
  },
  {
   "cell_type": "markdown",
   "id": "b0a65b9a",
   "metadata": {
    "cq.autogen": "MinusEffect.call_graph.md"
   },
   "source": [
    "### Call Graph"
   ]
  },
  {
   "cell_type": "code",
   "execution_count": 41,
   "id": "3a6473de",
   "metadata": {
    "cq.autogen": "MinusEffect.call_graph.py"
   },
   "outputs": [
    {
     "data": {
      "image/svg+xml": [
       "<svg xmlns=\"http://www.w3.org/2000/svg\" xmlns:xlink=\"http://www.w3.org/1999/xlink\" width=\"62pt\" height=\"44pt\" viewBox=\"0.00 0.00 62.00 44.00\">\n",
       "<g id=\"graph0\" class=\"graph\" transform=\"scale(1 1) rotate(0) translate(4 40)\">\n",
       "<title>counts</title>\n",
       "<polygon fill=\"white\" stroke=\"transparent\" points=\"-4,4 -4,-40 58,-40 58,4 -4,4\"/>\n",
       "<!-- b0 -->\n",
       "<g id=\"node1\" class=\"node\">\n",
       "<title>b0</title>\n",
       "<polygon fill=\"none\" stroke=\"black\" points=\"15,-6 15,-29 39,-29 39,-6 15,-6\"/>\n",
       "<text text-anchor=\"start\" x=\"21\" y=\"-15\" font-family=\"Times,serif\" font-size=\"10.00\">&lt;-|</text>\n",
       "</g>\n",
       "</g>\n",
       "</svg>"
      ],
      "text/plain": [
       "<IPython.core.display.SVG object>"
      ]
     },
     "metadata": {},
     "output_type": "display_data"
    },
    {
     "data": {
      "text/markdown": [
       "#### Counts totals:\n",
       " - `<-|`: 1"
      ],
      "text/plain": [
       "<IPython.core.display.Markdown object>"
      ]
     },
     "metadata": {},
     "output_type": "display_data"
    }
   ],
   "source": [
    "from qualtran.resource_counting.generalizers import ignore_split_join\n",
    "minus_effect_g, minus_effect_sigma = minus_effect.call_graph(max_depth=1, generalizer=ignore_split_join)\n",
    "show_call_graph(minus_effect_g)\n",
    "show_counts_sigma(minus_effect_sigma)"
   ]
  },
  {
   "cell_type": "markdown",
   "id": "191c9e35-a2e2-4c9a-852d-22e04b51cb45",
   "metadata": {},
   "source": [
    "## Properties and Relations"
   ]
  },
  {
   "cell_type": "markdown",
   "id": "a50cd3ac-849a-4ecf-aa49-e95bdbc67746",
   "metadata": {},
   "source": [
    "### Creating a Bell state\n",
    "\n",
    "We can create a bell state ($|00\\rangle + |11\\rangle$) by cnotting a $|+\\rangle$ state into a $|0\\rangle$ state."
   ]
  },
  {
   "cell_type": "code",
   "execution_count": 42,
   "id": "760442e4-882b-4d63-8211-725a28ea4dfa",
   "metadata": {},
   "outputs": [
    {
     "data": {
      "image/svg+xml": [
       "<svg xmlns=\"http://www.w3.org/2000/svg\" xmlns:xlink=\"http://www.w3.org/1999/xlink\" width=\"194pt\" height=\"109pt\" viewBox=\"0.00 0.00 194.00 109.00\">\n",
       "<g id=\"graph0\" class=\"graph\" transform=\"scale(1 1) rotate(0) translate(4 105)\">\n",
       "<title>my_graph</title>\n",
       "<polygon fill=\"white\" stroke=\"transparent\" points=\"-4,4 -4,-105 190,-105 190,4 -4,4\"/>\n",
       "<!-- ZeroState -->\n",
       "<g id=\"node1\" class=\"node\">\n",
       "<title>ZeroState</title>\n",
       "<polygon fill=\"none\" stroke=\"black\" points=\"0.5,-28 0.5,-45 20.5,-45 20.5,-28 0.5,-28\"/>\n",
       "<text text-anchor=\"start\" x=\"3.5\" y=\"-34\" font-family=\"Times,serif\" font-size=\"10.00\">|0&gt;</text>\n",
       "<polygon fill=\"none\" stroke=\"black\" points=\"0.5,-7 0.5,-28 6.5,-28 6.5,-7 0.5,-7\"/>\n",
       "<polygon fill=\"none\" stroke=\"black\" points=\"6.5,-7 6.5,-28 20.5,-28 20.5,-7 6.5,-7\"/>\n",
       "<text text-anchor=\"start\" x=\"10\" y=\"-13.8\" font-family=\"Times,serif\" font-size=\"14.00\">q</text>\n",
       "</g>\n",
       "<!-- CNOT -->\n",
       "<g id=\"node3\" class=\"node\">\n",
       "<title>CNOT</title>\n",
       "<polygon fill=\"none\" stroke=\"black\" points=\"58.5,-66 58.5,-83 95.5,-83 95.5,-66 58.5,-66\"/>\n",
       "<text text-anchor=\"start\" x=\"63\" y=\"-72\" font-family=\"Times,serif\" font-size=\"10.00\">CNOT</text>\n",
       "<polygon fill=\"none\" stroke=\"black\" points=\"58.5,-45 58.5,-66 95.5,-66 95.5,-45 58.5,-45\"/>\n",
       "<text text-anchor=\"start\" x=\"67.5\" y=\"-51.8\" font-family=\"Times,serif\" font-size=\"14.00\">ctrl</text>\n",
       "<polygon fill=\"none\" stroke=\"black\" points=\"58.5,-24 58.5,-45 95.5,-45 95.5,-24 58.5,-24\"/>\n",
       "<text text-anchor=\"start\" x=\"61.5\" y=\"-30.8\" font-family=\"Times,serif\" font-size=\"14.00\">target</text>\n",
       "</g>\n",
       "<!-- ZeroState&#45;&gt;CNOT -->\n",
       "<g id=\"edge2\" class=\"edge\">\n",
       "<title>ZeroState:e-&gt;CNOT:w</title>\n",
       "<path fill=\"none\" stroke=\"black\" d=\"M21,-17C38.39,-17 39.81,-32.7 55.96,-33.92\"/>\n",
       "<ellipse fill=\"black\" stroke=\"black\" cx=\"57\" cy=\"-33.96\" rx=\"1\" ry=\"1\"/>\n",
       "<text text-anchor=\"middle\" x=\"39.5\" y=\"-29\" font-family=\"Times,serif\" font-size=\"10.00\">1</text>\n",
       "</g>\n",
       "<!-- PlusState -->\n",
       "<g id=\"node2\" class=\"node\">\n",
       "<title>PlusState</title>\n",
       "<polygon fill=\"none\" stroke=\"black\" points=\"0.5,-84 0.5,-101 21.5,-101 21.5,-84 0.5,-84\"/>\n",
       "<text text-anchor=\"start\" x=\"3.5\" y=\"-90\" font-family=\"Times,serif\" font-size=\"10.00\">|+&gt;</text>\n",
       "<polygon fill=\"none\" stroke=\"black\" points=\"0.5,-63 0.5,-84 7.5,-84 7.5,-63 0.5,-63\"/>\n",
       "<polygon fill=\"none\" stroke=\"black\" points=\"7.5,-63 7.5,-84 21.5,-84 21.5,-63 7.5,-63\"/>\n",
       "<text text-anchor=\"start\" x=\"11\" y=\"-69.8\" font-family=\"Times,serif\" font-size=\"14.00\">q</text>\n",
       "</g>\n",
       "<!-- PlusState&#45;&gt;CNOT -->\n",
       "<g id=\"edge1\" class=\"edge\">\n",
       "<title>PlusState:e-&gt;CNOT:w</title>\n",
       "<path fill=\"none\" stroke=\"black\" d=\"M21,-73C38.39,-73 39.81,-57.3 55.96,-56.08\"/>\n",
       "<ellipse fill=\"black\" stroke=\"black\" cx=\"57\" cy=\"-56.04\" rx=\"1\" ry=\"1\"/>\n",
       "<text text-anchor=\"middle\" x=\"39.5\" y=\"-68\" font-family=\"Times,serif\" font-size=\"10.00\">1</text>\n",
       "</g>\n",
       "<!-- q0 -->\n",
       "<g id=\"node4\" class=\"node\">\n",
       "<title>q0</title>\n",
       "<text text-anchor=\"middle\" x=\"159\" y=\"-68.3\" font-family=\"Times,serif\" font-size=\"14.00\">q0</text>\n",
       "</g>\n",
       "<!-- CNOT&#45;&gt;q0 -->\n",
       "<g id=\"edge3\" class=\"edge\">\n",
       "<title>CNOT:e-&gt;q0:w</title>\n",
       "<path fill=\"none\" stroke=\"black\" d=\"M95,-56C112.22,-56 113.97,-70.77 129.98,-71.93\"/>\n",
       "<ellipse fill=\"black\" stroke=\"black\" cx=\"131\" cy=\"-71.96\" rx=\"1\" ry=\"1\"/>\n",
       "<text text-anchor=\"middle\" x=\"113.5\" y=\"-67\" font-family=\"Times,serif\" font-size=\"10.00\">1</text>\n",
       "</g>\n",
       "<!-- q1 -->\n",
       "<g id=\"node5\" class=\"node\">\n",
       "<title>q1</title>\n",
       "<text text-anchor=\"middle\" x=\"159\" y=\"-14.3\" font-family=\"Times,serif\" font-size=\"14.00\">q1</text>\n",
       "</g>\n",
       "<!-- CNOT&#45;&gt;q1 -->\n",
       "<g id=\"edge4\" class=\"edge\">\n",
       "<title>CNOT:e-&gt;q1:w</title>\n",
       "<path fill=\"none\" stroke=\"black\" d=\"M95,-34C112.22,-34 113.97,-19.23 129.98,-18.07\"/>\n",
       "<ellipse fill=\"black\" stroke=\"black\" cx=\"131\" cy=\"-18.04\" rx=\"1\" ry=\"1\"/>\n",
       "<text text-anchor=\"middle\" x=\"113.5\" y=\"-29\" font-family=\"Times,serif\" font-size=\"10.00\">1</text>\n",
       "</g>\n",
       "</g>\n",
       "</svg>"
      ],
      "text/plain": [
       "<IPython.core.display.SVG object>"
      ]
     },
     "metadata": {},
     "output_type": "display_data"
    },
    {
     "name": "stdout",
     "output_type": "stream",
     "text": [
      "[0.70710678+0.j 0.        +0.j 0.        +0.j 0.70710678+0.j]\n"
     ]
    }
   ],
   "source": [
    "from qualtran.bloqs.basic_gates import CNOT\n",
    "\n",
    "bb = BloqBuilder()\n",
    "\n",
    "q0 = bb.add(PlusState())\n",
    "q1 = bb.add(ZeroState())\n",
    "\n",
    "q0, q1 = bb.add(CNOT(), ctrl=q0, target=q1)\n",
    "\n",
    "cbloq = bb.finalize(q0=q0, q1=q1)\n",
    "show_bloq(cbloq)\n",
    "print(cbloq.tensor_contract())"
   ]
  },
  {
   "cell_type": "markdown",
   "id": "084cc54f-7fa5-43dd-bc96-5eab0934b543",
   "metadata": {},
   "source": [
    "`PlusState` and `ZeroState` provide `as_cirq_op` methods for Cirq interoperability, resulting in the familiar `cirq.Circuit` for constructing a Bell state."
   ]
  },
  {
   "cell_type": "code",
   "execution_count": 43,
   "id": "4983b2f1-edc8-4f51-a276-a3ddb7ad37fe",
   "metadata": {},
   "outputs": [
    {
     "data": {
      "image/svg+xml": [
       "<svg xmlns=\"http://www.w3.org/2000/svg\" width=\"227.7483203125\" height=\"100.0\"><line x1=\"33.87416015625\" x2=\"197.7483203125\" y1=\"25.0\" y2=\"25.0\" stroke=\"#1967d2\" stroke-width=\"1\" /><line x1=\"33.87416015625\" x2=\"197.7483203125\" y1=\"75.0\" y2=\"75.0\" stroke=\"#1967d2\" stroke-width=\"1\" /><line x1=\"157.7483203125\" x2=\"157.7483203125\" y1=\"25.0\" y2=\"75.0\" stroke=\"black\" stroke-width=\"3\" /><rect x=\"10.0\" y=\"5.0\" width=\"47.7483203125\" height=\"40\" stroke=\"black\" fill=\"white\" stroke-width=\"0\" /><text x=\"33.87416015625\" y=\"25.0\" dominant-baseline=\"middle\" text-anchor=\"middle\" font-size=\"14px\" font-family=\"sans\\-serif:style=normal:variant=normal:weight=normal:stretch=normal:size=10.0\">_c(0): </text><rect x=\"10.0\" y=\"55.0\" width=\"47.7483203125\" height=\"40\" stroke=\"black\" fill=\"white\" stroke-width=\"0\" /><text x=\"33.87416015625\" y=\"75.0\" dominant-baseline=\"middle\" text-anchor=\"middle\" font-size=\"14px\" font-family=\"sans\\-serif:style=normal:variant=normal:weight=normal:stretch=normal:size=10.0\">_c(1): </text><rect x=\"77.7483203125\" y=\"5.0\" width=\"40\" height=\"40\" stroke=\"black\" fill=\"white\" stroke-width=\"1\" /><text x=\"97.7483203125\" y=\"25.0\" dominant-baseline=\"middle\" text-anchor=\"middle\" font-size=\"18px\" font-family=\"sans\\-serif:style=normal:variant=normal:weight=normal:stretch=normal:size=10.0\">H</text><circle cx=\"157.7483203125\" cy=\"25.0\" r=\"10.0\" /><rect x=\"137.7483203125\" y=\"55.0\" width=\"40\" height=\"40\" stroke=\"black\" fill=\"white\" stroke-width=\"1\" /><text x=\"157.7483203125\" y=\"75.0\" dominant-baseline=\"middle\" text-anchor=\"middle\" font-size=\"18px\" font-family=\"sans\\-serif:style=normal:variant=normal:weight=normal:stretch=normal:size=10.0\">X</text></svg>"
      ],
      "text/plain": [
       "<cirq.contrib.svg.svg.SVGCircuit at 0x7f91301bc890>"
      ]
     },
     "execution_count": 43,
     "metadata": {},
     "output_type": "execute_result"
    }
   ],
   "source": [
    "from cirq.contrib.svg import SVGCircuit\n",
    "circuit = cbloq.to_cirq_circuit()\n",
    "SVGCircuit(circuit)"
   ]
  }
 ],
 "metadata": {
  "kernelspec": {
   "display_name": "Python 3 (ipykernel)",
   "language": "python",
   "name": "python3"
  },
  "language_info": {
   "codemirror_mode": {
    "name": "ipython",
    "version": 3
   },
   "file_extension": ".py",
   "mimetype": "text/x-python",
   "name": "python",
   "nbconvert_exporter": "python",
   "pygments_lexer": "ipython3",
   "version": "3.11.8"
  },
  "widgets": {
   "application/vnd.jupyter.widget-state+json": {
    "state": {
     "0065a8ffb88245a4932419238f193336": {
      "model_module": "@jupyter-widgets/base",
      "model_module_version": "2.0.0",
      "model_name": "LayoutModel",
      "state": {
       "_model_module": "@jupyter-widgets/base",
       "_model_module_version": "2.0.0",
       "_model_name": "LayoutModel",
       "_view_count": null,
       "_view_module": "@jupyter-widgets/base",
       "_view_module_version": "2.0.0",
       "_view_name": "LayoutView",
       "align_content": null,
       "align_items": null,
       "align_self": null,
       "border_bottom": null,
       "border_left": null,
       "border_right": null,
       "border_top": null,
       "bottom": null,
       "display": null,
       "flex": null,
       "flex_flow": null,
       "grid_area": null,
       "grid_auto_columns": null,
       "grid_auto_flow": null,
       "grid_auto_rows": null,
       "grid_column": null,
       "grid_gap": null,
       "grid_row": null,
       "grid_template_areas": null,
       "grid_template_columns": null,
       "grid_template_rows": null,
       "height": null,
       "justify_content": null,
       "justify_items": null,
       "left": null,
       "margin": null,
       "max_height": null,
       "max_width": null,
       "min_height": null,
       "min_width": null,
       "object_fit": null,
       "object_position": null,
       "order": null,
       "overflow": null,
       "padding": null,
       "right": null,
       "top": null,
       "visibility": null,
       "width": null
      }
     },
     "019f0d19a08c4330a68a0f3831b68431": {
      "model_module": "@jupyter-widgets/base",
      "model_module_version": "2.0.0",
      "model_name": "LayoutModel",
      "state": {
       "_model_module": "@jupyter-widgets/base",
       "_model_module_version": "2.0.0",
       "_model_name": "LayoutModel",
       "_view_count": null,
       "_view_module": "@jupyter-widgets/base",
       "_view_module_version": "2.0.0",
       "_view_name": "LayoutView",
       "align_content": null,
       "align_items": null,
       "align_self": null,
       "border_bottom": null,
       "border_left": null,
       "border_right": null,
       "border_top": null,
       "bottom": null,
       "display": null,
       "flex": null,
       "flex_flow": null,
       "grid_area": null,
       "grid_auto_columns": null,
       "grid_auto_flow": null,
       "grid_auto_rows": null,
       "grid_column": null,
       "grid_gap": null,
       "grid_row": null,
       "grid_template_areas": null,
       "grid_template_columns": null,
       "grid_template_rows": null,
       "height": null,
       "justify_content": null,
       "justify_items": null,
       "left": null,
       "margin": null,
       "max_height": null,
       "max_width": null,
       "min_height": null,
       "min_width": null,
       "object_fit": null,
       "object_position": null,
       "order": null,
       "overflow": null,
       "padding": null,
       "right": null,
       "top": null,
       "visibility": null,
       "width": null
      }
     },
     "0df220f857e148daba94681764486e4e": {
      "model_module": "@jupyter-widgets/controls",
      "model_module_version": "2.0.0",
      "model_name": "HBoxModel",
      "state": {
       "_dom_classes": [],
       "_model_module": "@jupyter-widgets/controls",
       "_model_module_version": "2.0.0",
       "_model_name": "HBoxModel",
       "_view_count": null,
       "_view_module": "@jupyter-widgets/controls",
       "_view_module_version": "2.0.0",
       "_view_name": "HBoxView",
       "box_style": "",
       "children": [
        "IPY_MODEL_2f1069609d744c269ccb23e4c7ee411a"
       ],
       "layout": "IPY_MODEL_0065a8ffb88245a4932419238f193336",
       "tabbable": null,
       "tooltip": null
      }
     },
     "0f5687ef661245f1b0964baf5bfd4908": {
      "model_module": "@jupyter-widgets/output",
      "model_module_version": "1.0.0",
      "model_name": "OutputModel",
      "state": {
       "_dom_classes": [],
       "_model_module": "@jupyter-widgets/output",
       "_model_module_version": "1.0.0",
       "_model_name": "OutputModel",
       "_view_count": null,
       "_view_module": "@jupyter-widgets/output",
       "_view_module_version": "1.0.0",
       "_view_name": "OutputView",
       "layout": "IPY_MODEL_50e9957c6bf34c7bafe43564dc9333a7",
       "msg_id": "",
       "outputs": [
        {
         "data": {
          "text/markdown": "`plus_effect`",
          "text/plain": "<IPython.core.display.Markdown object>"
         },
         "metadata": {},
         "output_type": "display_data"
        },
        {
         "data": {
          "image/svg+xml": "<svg xmlns=\"http://www.w3.org/2000/svg\" xmlns:xlink=\"http://www.w3.org/1999/xlink\" width=\"120pt\" height=\"54pt\" viewBox=\"0.00 0.00 120.00 54.00\">\n<g id=\"graph0\" class=\"graph\" transform=\"scale(1 1) rotate(0) translate(4 50)\">\n<title>my_graph</title>\n<polygon fill=\"white\" stroke=\"transparent\" points=\"-4,4 -4,-50 116,-50 116,4 -4,4\"/>\n<!-- q_G0 -->\n<g id=\"node1\" class=\"node\">\n<title>q_G0</title>\n<text text-anchor=\"middle\" x=\"27\" y=\"-14.3\" font-family=\"Times,serif\" font-size=\"14.00\">q</text>\n</g>\n<!-- PlusEffect -->\n<g id=\"node2\" class=\"node\">\n<title>PlusEffect</title>\n<polygon fill=\"none\" stroke=\"black\" points=\"91.5,-29 91.5,-46 112.5,-46 112.5,-29 91.5,-29\"/>\n<text text-anchor=\"start\" x=\"94.5\" y=\"-35\" font-family=\"Times,serif\" font-size=\"10.00\">&lt;+|</text>\n<polygon fill=\"none\" stroke=\"black\" points=\"91.5,-8 91.5,-29 105.5,-29 105.5,-8 91.5,-8\"/>\n<text text-anchor=\"start\" x=\"95\" y=\"-14.8\" font-family=\"Times,serif\" font-size=\"14.00\">q</text>\n<polygon fill=\"none\" stroke=\"black\" points=\"105.5,-8 105.5,-29 112.5,-29 112.5,-8 105.5,-8\"/>\n</g>\n<!-- q_G0&#45;&gt;PlusEffect -->\n<g id=\"edge1\" class=\"edge\">\n<title>q_G0:e-&gt;PlusEffect:w</title>\n<path fill=\"none\" stroke=\"black\" d=\"M54,-18C69.67,-18 74.14,-18 88.77,-18\"/>\n<ellipse fill=\"black\" stroke=\"black\" cx=\"90\" cy=\"-18\" rx=\"1\" ry=\"1\"/>\n<text text-anchor=\"middle\" x=\"72.5\" y=\"-21\" font-family=\"Times,serif\" font-size=\"10.00\">1</text>\n</g>\n</g>\n</svg>",
          "text/plain": "<IPython.core.display.SVG object>"
         },
         "metadata": {},
         "output_type": "display_data"
        }
       ],
       "tabbable": null,
       "tooltip": null
      }
     },
     "1bc81ba16b0c44d4b31b1097e8188959": {
      "model_module": "@jupyter-widgets/base",
      "model_module_version": "2.0.0",
      "model_name": "LayoutModel",
      "state": {
       "_model_module": "@jupyter-widgets/base",
       "_model_module_version": "2.0.0",
       "_model_name": "LayoutModel",
       "_view_count": null,
       "_view_module": "@jupyter-widgets/base",
       "_view_module_version": "2.0.0",
       "_view_name": "LayoutView",
       "align_content": null,
       "align_items": null,
       "align_self": null,
       "border_bottom": null,
       "border_left": null,
       "border_right": null,
       "border_top": null,
       "bottom": null,
       "display": null,
       "flex": null,
       "flex_flow": null,
       "grid_area": null,
       "grid_auto_columns": null,
       "grid_auto_flow": null,
       "grid_auto_rows": null,
       "grid_column": null,
       "grid_gap": null,
       "grid_row": null,
       "grid_template_areas": null,
       "grid_template_columns": null,
       "grid_template_rows": null,
       "height": null,
       "justify_content": null,
       "justify_items": null,
       "left": null,
       "margin": null,
       "max_height": null,
       "max_width": null,
       "min_height": null,
       "min_width": null,
       "object_fit": null,
       "object_position": null,
       "order": null,
       "overflow": null,
       "padding": null,
       "right": null,
       "top": null,
       "visibility": null,
       "width": null
      }
     },
     "2046e0b733a940c0b24eb77dd28a8789": {
      "model_module": "@jupyter-widgets/base",
      "model_module_version": "2.0.0",
      "model_name": "LayoutModel",
      "state": {
       "_model_module": "@jupyter-widgets/base",
       "_model_module_version": "2.0.0",
       "_model_name": "LayoutModel",
       "_view_count": null,
       "_view_module": "@jupyter-widgets/base",
       "_view_module_version": "2.0.0",
       "_view_name": "LayoutView",
       "align_content": null,
       "align_items": null,
       "align_self": null,
       "border_bottom": null,
       "border_left": null,
       "border_right": null,
       "border_top": null,
       "bottom": null,
       "display": null,
       "flex": null,
       "flex_flow": null,
       "grid_area": null,
       "grid_auto_columns": null,
       "grid_auto_flow": null,
       "grid_auto_rows": null,
       "grid_column": null,
       "grid_gap": null,
       "grid_row": null,
       "grid_template_areas": null,
       "grid_template_columns": null,
       "grid_template_rows": null,
       "height": null,
       "justify_content": null,
       "justify_items": null,
       "left": null,
       "margin": null,
       "max_height": null,
       "max_width": null,
       "min_height": null,
       "min_width": null,
       "object_fit": null,
       "object_position": null,
       "order": null,
       "overflow": null,
       "padding": null,
       "right": null,
       "top": null,
       "visibility": null,
       "width": null
      }
     },
     "29512678ba1949f487b7e954289ab79b": {
      "model_module": "@jupyter-widgets/controls",
      "model_module_version": "2.0.0",
      "model_name": "HBoxModel",
      "state": {
       "_dom_classes": [],
       "_model_module": "@jupyter-widgets/controls",
       "_model_module_version": "2.0.0",
       "_model_name": "HBoxModel",
       "_view_count": null,
       "_view_module": "@jupyter-widgets/controls",
       "_view_module_version": "2.0.0",
       "_view_name": "HBoxView",
       "box_style": "",
       "children": [
        "IPY_MODEL_d846774cb6984371ada9acb124d4d5ce"
       ],
       "layout": "IPY_MODEL_c758539ef560487db7882900d948a387",
       "tabbable": null,
       "tooltip": null
      }
     },
     "29cd6f7352e548719485ae9639884033": {
      "model_module": "@jupyter-widgets/base",
      "model_module_version": "2.0.0",
      "model_name": "LayoutModel",
      "state": {
       "_model_module": "@jupyter-widgets/base",
       "_model_module_version": "2.0.0",
       "_model_name": "LayoutModel",
       "_view_count": null,
       "_view_module": "@jupyter-widgets/base",
       "_view_module_version": "2.0.0",
       "_view_name": "LayoutView",
       "align_content": null,
       "align_items": null,
       "align_self": null,
       "border_bottom": null,
       "border_left": null,
       "border_right": null,
       "border_top": null,
       "bottom": null,
       "display": null,
       "flex": null,
       "flex_flow": null,
       "grid_area": null,
       "grid_auto_columns": null,
       "grid_auto_flow": null,
       "grid_auto_rows": null,
       "grid_column": null,
       "grid_gap": null,
       "grid_row": null,
       "grid_template_areas": null,
       "grid_template_columns": null,
       "grid_template_rows": null,
       "height": null,
       "justify_content": null,
       "justify_items": null,
       "left": null,
       "margin": null,
       "max_height": null,
       "max_width": null,
       "min_height": null,
       "min_width": null,
       "object_fit": null,
       "object_position": null,
       "order": null,
       "overflow": null,
       "padding": null,
       "right": null,
       "top": null,
       "visibility": null,
       "width": null
      }
     },
     "2c14a69ebb6649569dd5bf4b11554c52": {
      "model_module": "@jupyter-widgets/output",
      "model_module_version": "1.0.0",
      "model_name": "OutputModel",
      "state": {
       "_dom_classes": [],
       "_model_module": "@jupyter-widgets/output",
       "_model_module_version": "1.0.0",
       "_model_name": "OutputModel",
       "_view_count": null,
       "_view_module": "@jupyter-widgets/output",
       "_view_module_version": "1.0.0",
       "_view_name": "OutputView",
       "layout": "IPY_MODEL_29cd6f7352e548719485ae9639884033",
       "msg_id": "",
       "outputs": [
        {
         "data": {
          "text/markdown": "`int_state`",
          "text/plain": "<IPython.core.display.Markdown object>"
         },
         "metadata": {},
         "output_type": "display_data"
        },
        {
         "data": {
          "image/svg+xml": "<svg xmlns=\"http://www.w3.org/2000/svg\" xmlns:xlink=\"http://www.w3.org/1999/xlink\" width=\"128pt\" height=\"54pt\" viewBox=\"0.00 0.00 128.00 54.00\">\n<g id=\"graph0\" class=\"graph\" transform=\"scale(1 1) rotate(0) translate(4 50)\">\n<title>my_graph</title>\n<polygon fill=\"white\" stroke=\"transparent\" points=\"-4,4 -4,-50 124,-50 124,4 -4,4\"/>\n<!-- IntState -->\n<g id=\"node1\" class=\"node\">\n<title>IntState</title>\n<polygon fill=\"none\" stroke=\"black\" points=\"0.5,-29 0.5,-46 29.5,-46 29.5,-29 0.5,-29\"/>\n<text text-anchor=\"start\" x=\"5.5\" y=\"-35\" font-family=\"Times,serif\" font-size=\"10.00\">|55&gt;</text>\n<polygon fill=\"none\" stroke=\"black\" points=\"0.5,-8 0.5,-29 6.5,-29 6.5,-8 0.5,-8\"/>\n<polygon fill=\"none\" stroke=\"black\" points=\"6.5,-8 6.5,-29 29.5,-29 29.5,-8 6.5,-8\"/>\n<text text-anchor=\"start\" x=\"9.5\" y=\"-14.8\" font-family=\"Times,serif\" font-size=\"14.00\">val</text>\n</g>\n<!-- val_G1 -->\n<g id=\"node2\" class=\"node\">\n<title>val_G1</title>\n<text text-anchor=\"middle\" x=\"93\" y=\"-14.3\" font-family=\"Times,serif\" font-size=\"14.00\">val</text>\n</g>\n<!-- IntState&#45;&gt;val_G1 -->\n<g id=\"edge1\" class=\"edge\">\n<title>IntState:e-&gt;val_G1:w</title>\n<path fill=\"none\" stroke=\"black\" d=\"M29,-18C44.67,-18 49.14,-18 63.77,-18\"/>\n<ellipse fill=\"black\" stroke=\"black\" cx=\"65\" cy=\"-18\" rx=\"1\" ry=\"1\"/>\n<text text-anchor=\"middle\" x=\"47.5\" y=\"-21\" font-family=\"Times,serif\" font-size=\"10.00\">8</text>\n</g>\n</g>\n</svg>",
          "text/plain": "<IPython.core.display.SVG object>"
         },
         "metadata": {},
         "output_type": "display_data"
        }
       ],
       "tabbable": null,
       "tooltip": null
      }
     },
     "2e31f939827e47ce96d52a17296c1e42": {
      "model_module": "@jupyter-widgets/base",
      "model_module_version": "2.0.0",
      "model_name": "LayoutModel",
      "state": {
       "_model_module": "@jupyter-widgets/base",
       "_model_module_version": "2.0.0",
       "_model_name": "LayoutModel",
       "_view_count": null,
       "_view_module": "@jupyter-widgets/base",
       "_view_module_version": "2.0.0",
       "_view_name": "LayoutView",
       "align_content": null,
       "align_items": null,
       "align_self": null,
       "border_bottom": null,
       "border_left": null,
       "border_right": null,
       "border_top": null,
       "bottom": null,
       "display": null,
       "flex": null,
       "flex_flow": null,
       "grid_area": null,
       "grid_auto_columns": null,
       "grid_auto_flow": null,
       "grid_auto_rows": null,
       "grid_column": null,
       "grid_gap": null,
       "grid_row": null,
       "grid_template_areas": null,
       "grid_template_columns": null,
       "grid_template_rows": null,
       "height": null,
       "justify_content": null,
       "justify_items": null,
       "left": null,
       "margin": null,
       "max_height": null,
       "max_width": null,
       "min_height": null,
       "min_width": null,
       "object_fit": null,
       "object_position": null,
       "order": null,
       "overflow": null,
       "padding": null,
       "right": null,
       "top": null,
       "visibility": null,
       "width": null
      }
     },
     "2f1069609d744c269ccb23e4c7ee411a": {
      "model_module": "@jupyter-widgets/output",
      "model_module_version": "1.0.0",
      "model_name": "OutputModel",
      "state": {
       "_dom_classes": [],
       "_model_module": "@jupyter-widgets/output",
       "_model_module_version": "1.0.0",
       "_model_name": "OutputModel",
       "_view_count": null,
       "_view_module": "@jupyter-widgets/output",
       "_view_module_version": "1.0.0",
       "_view_name": "OutputView",
       "layout": "IPY_MODEL_2046e0b733a940c0b24eb77dd28a8789",
       "msg_id": "",
       "outputs": [
        {
         "data": {
          "text/markdown": "`minus_effect`",
          "text/plain": "<IPython.core.display.Markdown object>"
         },
         "metadata": {},
         "output_type": "display_data"
        },
        {
         "data": {
          "image/svg+xml": "<svg xmlns=\"http://www.w3.org/2000/svg\" xmlns:xlink=\"http://www.w3.org/1999/xlink\" width=\"118pt\" height=\"54pt\" viewBox=\"0.00 0.00 118.00 54.00\">\n<g id=\"graph0\" class=\"graph\" transform=\"scale(1 1) rotate(0) translate(4 50)\">\n<title>my_graph</title>\n<polygon fill=\"white\" stroke=\"transparent\" points=\"-4,4 -4,-50 114,-50 114,4 -4,4\"/>\n<!-- q_G0 -->\n<g id=\"node1\" class=\"node\">\n<title>q_G0</title>\n<text text-anchor=\"middle\" x=\"27\" y=\"-14.3\" font-family=\"Times,serif\" font-size=\"14.00\">q</text>\n</g>\n<!-- MinusEffect -->\n<g id=\"node2\" class=\"node\">\n<title>MinusEffect</title>\n<polygon fill=\"none\" stroke=\"black\" points=\"91.5,-29 91.5,-46 110.5,-46 110.5,-29 91.5,-29\"/>\n<text text-anchor=\"start\" x=\"95\" y=\"-35\" font-family=\"Times,serif\" font-size=\"10.00\">&lt;-|</text>\n<polygon fill=\"none\" stroke=\"black\" points=\"91.5,-8 91.5,-29 104.5,-29 104.5,-8 91.5,-8\"/>\n<text text-anchor=\"start\" x=\"94.5\" y=\"-14.8\" font-family=\"Times,serif\" font-size=\"14.00\">q</text>\n<polygon fill=\"none\" stroke=\"black\" points=\"104.5,-8 104.5,-29 110.5,-29 110.5,-8 104.5,-8\"/>\n</g>\n<!-- q_G0&#45;&gt;MinusEffect -->\n<g id=\"edge1\" class=\"edge\">\n<title>q_G0:e-&gt;MinusEffect:w</title>\n<path fill=\"none\" stroke=\"black\" d=\"M54,-18C69.67,-18 74.14,-18 88.77,-18\"/>\n<ellipse fill=\"black\" stroke=\"black\" cx=\"90\" cy=\"-18\" rx=\"1\" ry=\"1\"/>\n<text text-anchor=\"middle\" x=\"72.5\" y=\"-21\" font-family=\"Times,serif\" font-size=\"10.00\">1</text>\n</g>\n</g>\n</svg>",
          "text/plain": "<IPython.core.display.SVG object>"
         },
         "metadata": {},
         "output_type": "display_data"
        }
       ],
       "tabbable": null,
       "tooltip": null
      }
     },
     "3318af5b7d254e5baf881963f9aa7375": {
      "model_module": "@jupyter-widgets/base",
      "model_module_version": "2.0.0",
      "model_name": "LayoutModel",
      "state": {
       "_model_module": "@jupyter-widgets/base",
       "_model_module_version": "2.0.0",
       "_model_name": "LayoutModel",
       "_view_count": null,
       "_view_module": "@jupyter-widgets/base",
       "_view_module_version": "2.0.0",
       "_view_name": "LayoutView",
       "align_content": null,
       "align_items": null,
       "align_self": null,
       "border_bottom": null,
       "border_left": null,
       "border_right": null,
       "border_top": null,
       "bottom": null,
       "display": null,
       "flex": null,
       "flex_flow": null,
       "grid_area": null,
       "grid_auto_columns": null,
       "grid_auto_flow": null,
       "grid_auto_rows": null,
       "grid_column": null,
       "grid_gap": null,
       "grid_row": null,
       "grid_template_areas": null,
       "grid_template_columns": null,
       "grid_template_rows": null,
       "height": null,
       "justify_content": null,
       "justify_items": null,
       "left": null,
       "margin": null,
       "max_height": null,
       "max_width": null,
       "min_height": null,
       "min_width": null,
       "object_fit": null,
       "object_position": null,
       "order": null,
       "overflow": null,
       "padding": null,
       "right": null,
       "top": null,
       "visibility": null,
       "width": null
      }
     },
     "358b9d8688db43c0bb3e5fb65ca4af4a": {
      "model_module": "@jupyter-widgets/base",
      "model_module_version": "2.0.0",
      "model_name": "LayoutModel",
      "state": {
       "_model_module": "@jupyter-widgets/base",
       "_model_module_version": "2.0.0",
       "_model_name": "LayoutModel",
       "_view_count": null,
       "_view_module": "@jupyter-widgets/base",
       "_view_module_version": "2.0.0",
       "_view_name": "LayoutView",
       "align_content": null,
       "align_items": null,
       "align_self": null,
       "border_bottom": null,
       "border_left": null,
       "border_right": null,
       "border_top": null,
       "bottom": null,
       "display": null,
       "flex": null,
       "flex_flow": null,
       "grid_area": null,
       "grid_auto_columns": null,
       "grid_auto_flow": null,
       "grid_auto_rows": null,
       "grid_column": null,
       "grid_gap": null,
       "grid_row": null,
       "grid_template_areas": null,
       "grid_template_columns": null,
       "grid_template_rows": null,
       "height": null,
       "justify_content": null,
       "justify_items": null,
       "left": null,
       "margin": null,
       "max_height": null,
       "max_width": null,
       "min_height": null,
       "min_width": null,
       "object_fit": null,
       "object_position": null,
       "order": null,
       "overflow": null,
       "padding": null,
       "right": null,
       "top": null,
       "visibility": null,
       "width": null
      }
     },
     "3e6fc2f79e154c1f90e152d44e4e7593": {
      "model_module": "@jupyter-widgets/output",
      "model_module_version": "1.0.0",
      "model_name": "OutputModel",
      "state": {
       "_dom_classes": [],
       "_model_module": "@jupyter-widgets/output",
       "_model_module_version": "1.0.0",
       "_model_name": "OutputModel",
       "_view_count": null,
       "_view_module": "@jupyter-widgets/output",
       "_view_module_version": "1.0.0",
       "_view_name": "OutputView",
       "layout": "IPY_MODEL_358b9d8688db43c0bb3e5fb65ca4af4a",
       "msg_id": "",
       "outputs": [
        {
         "data": {
          "text/markdown": "`zero_effect`",
          "text/plain": "<IPython.core.display.Markdown object>"
         },
         "metadata": {},
         "output_type": "display_data"
        },
        {
         "data": {
          "image/svg+xml": "<svg xmlns=\"http://www.w3.org/2000/svg\" xmlns:xlink=\"http://www.w3.org/1999/xlink\" width=\"119pt\" height=\"54pt\" viewBox=\"0.00 0.00 119.00 54.00\">\n<g id=\"graph0\" class=\"graph\" transform=\"scale(1 1) rotate(0) translate(4 50)\">\n<title>my_graph</title>\n<polygon fill=\"white\" stroke=\"transparent\" points=\"-4,4 -4,-50 115,-50 115,4 -4,4\"/>\n<!-- q_G0 -->\n<g id=\"node1\" class=\"node\">\n<title>q_G0</title>\n<text text-anchor=\"middle\" x=\"27\" y=\"-14.3\" font-family=\"Times,serif\" font-size=\"14.00\">q</text>\n</g>\n<!-- ZeroEffect -->\n<g id=\"node2\" class=\"node\">\n<title>ZeroEffect</title>\n<polygon fill=\"none\" stroke=\"black\" points=\"91,-29 91,-46 111,-46 111,-29 91,-29\"/>\n<text text-anchor=\"start\" x=\"94\" y=\"-35\" font-family=\"Times,serif\" font-size=\"10.00\">&lt;0|</text>\n<polygon fill=\"none\" stroke=\"black\" points=\"91,-8 91,-29 104,-29 104,-8 91,-8\"/>\n<text text-anchor=\"start\" x=\"94\" y=\"-14.8\" font-family=\"Times,serif\" font-size=\"14.00\">q</text>\n<polygon fill=\"none\" stroke=\"black\" points=\"104,-8 104,-29 111,-29 111,-8 104,-8\"/>\n</g>\n<!-- q_G0&#45;&gt;ZeroEffect -->\n<g id=\"edge1\" class=\"edge\">\n<title>q_G0:e-&gt;ZeroEffect:w</title>\n<path fill=\"none\" stroke=\"black\" d=\"M54,-18C69.67,-18 74.14,-18 88.77,-18\"/>\n<ellipse fill=\"black\" stroke=\"black\" cx=\"90\" cy=\"-18\" rx=\"1\" ry=\"1\"/>\n<text text-anchor=\"middle\" x=\"72.5\" y=\"-21\" font-family=\"Times,serif\" font-size=\"10.00\">1</text>\n</g>\n</g>\n</svg>",
          "text/plain": "<IPython.core.display.SVG object>"
         },
         "metadata": {},
         "output_type": "display_data"
        }
       ],
       "tabbable": null,
       "tooltip": null
      }
     },
     "40c43997b73d4298bb4150f54230fe9c": {
      "model_module": "@jupyter-widgets/base",
      "model_module_version": "2.0.0",
      "model_name": "LayoutModel",
      "state": {
       "_model_module": "@jupyter-widgets/base",
       "_model_module_version": "2.0.0",
       "_model_name": "LayoutModel",
       "_view_count": null,
       "_view_module": "@jupyter-widgets/base",
       "_view_module_version": "2.0.0",
       "_view_name": "LayoutView",
       "align_content": null,
       "align_items": null,
       "align_self": null,
       "border_bottom": null,
       "border_left": null,
       "border_right": null,
       "border_top": null,
       "bottom": null,
       "display": null,
       "flex": null,
       "flex_flow": null,
       "grid_area": null,
       "grid_auto_columns": null,
       "grid_auto_flow": null,
       "grid_auto_rows": null,
       "grid_column": null,
       "grid_gap": null,
       "grid_row": null,
       "grid_template_areas": null,
       "grid_template_columns": null,
       "grid_template_rows": null,
       "height": null,
       "justify_content": null,
       "justify_items": null,
       "left": null,
       "margin": null,
       "max_height": null,
       "max_width": null,
       "min_height": null,
       "min_width": null,
       "object_fit": null,
       "object_position": null,
       "order": null,
       "overflow": null,
       "padding": null,
       "right": null,
       "top": null,
       "visibility": null,
       "width": null
      }
     },
     "41d9a67f5a65468cbf9a72e8b021aa45": {
      "model_module": "@jupyter-widgets/output",
      "model_module_version": "1.0.0",
      "model_name": "OutputModel",
      "state": {
       "_dom_classes": [],
       "_model_module": "@jupyter-widgets/output",
       "_model_module_version": "1.0.0",
       "_model_name": "OutputModel",
       "_view_count": null,
       "_view_module": "@jupyter-widgets/output",
       "_view_module_version": "1.0.0",
       "_view_name": "OutputView",
       "layout": "IPY_MODEL_5f2feb6da0ec41fa8aa1a11f0a96c634",
       "msg_id": "",
       "outputs": [
        {
         "data": {
          "text/markdown": "`one_state`",
          "text/plain": "<IPython.core.display.Markdown object>"
         },
         "metadata": {},
         "output_type": "display_data"
        },
        {
         "data": {
          "image/svg+xml": "<svg xmlns=\"http://www.w3.org/2000/svg\" xmlns:xlink=\"http://www.w3.org/1999/xlink\" width=\"119pt\" height=\"54pt\" viewBox=\"0.00 0.00 119.00 54.00\">\n<g id=\"graph0\" class=\"graph\" transform=\"scale(1 1) rotate(0) translate(4 50)\">\n<title>my_graph</title>\n<polygon fill=\"white\" stroke=\"transparent\" points=\"-4,4 -4,-50 115,-50 115,4 -4,4\"/>\n<!-- OneState -->\n<g id=\"node1\" class=\"node\">\n<title>OneState</title>\n<polygon fill=\"none\" stroke=\"black\" points=\"0,-29 0,-46 20,-46 20,-29 0,-29\"/>\n<text text-anchor=\"start\" x=\"3\" y=\"-35\" font-family=\"Times,serif\" font-size=\"10.00\">|1&gt;</text>\n<polygon fill=\"none\" stroke=\"black\" points=\"0,-8 0,-29 6,-29 6,-8 0,-8\"/>\n<polygon fill=\"none\" stroke=\"black\" points=\"6,-8 6,-29 20,-29 20,-8 6,-8\"/>\n<text text-anchor=\"start\" x=\"9.5\" y=\"-14.8\" font-family=\"Times,serif\" font-size=\"14.00\">q</text>\n</g>\n<!-- q_G0 -->\n<g id=\"node2\" class=\"node\">\n<title>q_G0</title>\n<text text-anchor=\"middle\" x=\"84\" y=\"-14.3\" font-family=\"Times,serif\" font-size=\"14.00\">q</text>\n</g>\n<!-- OneState&#45;&gt;q_G0 -->\n<g id=\"edge1\" class=\"edge\">\n<title>OneState:e-&gt;q_G0:w</title>\n<path fill=\"none\" stroke=\"black\" d=\"M20,-18C35.67,-18 40.14,-18 54.77,-18\"/>\n<ellipse fill=\"black\" stroke=\"black\" cx=\"56\" cy=\"-18\" rx=\"1\" ry=\"1\"/>\n<text text-anchor=\"middle\" x=\"38.5\" y=\"-21\" font-family=\"Times,serif\" font-size=\"10.00\">1</text>\n</g>\n</g>\n</svg>",
          "text/plain": "<IPython.core.display.SVG object>"
         },
         "metadata": {},
         "output_type": "display_data"
        }
       ],
       "tabbable": null,
       "tooltip": null
      }
     },
     "452cec643bdf411dac00de92224c2d1c": {
      "model_module": "@jupyter-widgets/base",
      "model_module_version": "2.0.0",
      "model_name": "LayoutModel",
      "state": {
       "_model_module": "@jupyter-widgets/base",
       "_model_module_version": "2.0.0",
       "_model_name": "LayoutModel",
       "_view_count": null,
       "_view_module": "@jupyter-widgets/base",
       "_view_module_version": "2.0.0",
       "_view_name": "LayoutView",
       "align_content": null,
       "align_items": null,
       "align_self": null,
       "border_bottom": null,
       "border_left": null,
       "border_right": null,
       "border_top": null,
       "bottom": null,
       "display": null,
       "flex": null,
       "flex_flow": null,
       "grid_area": null,
       "grid_auto_columns": null,
       "grid_auto_flow": null,
       "grid_auto_rows": null,
       "grid_column": null,
       "grid_gap": null,
       "grid_row": null,
       "grid_template_areas": null,
       "grid_template_columns": null,
       "grid_template_rows": null,
       "height": null,
       "justify_content": null,
       "justify_items": null,
       "left": null,
       "margin": null,
       "max_height": null,
       "max_width": null,
       "min_height": null,
       "min_width": null,
       "object_fit": null,
       "object_position": null,
       "order": null,
       "overflow": null,
       "padding": null,
       "right": null,
       "top": null,
       "visibility": null,
       "width": null
      }
     },
     "50e9957c6bf34c7bafe43564dc9333a7": {
      "model_module": "@jupyter-widgets/base",
      "model_module_version": "2.0.0",
      "model_name": "LayoutModel",
      "state": {
       "_model_module": "@jupyter-widgets/base",
       "_model_module_version": "2.0.0",
       "_model_name": "LayoutModel",
       "_view_count": null,
       "_view_module": "@jupyter-widgets/base",
       "_view_module_version": "2.0.0",
       "_view_name": "LayoutView",
       "align_content": null,
       "align_items": null,
       "align_self": null,
       "border_bottom": null,
       "border_left": null,
       "border_right": null,
       "border_top": null,
       "bottom": null,
       "display": null,
       "flex": null,
       "flex_flow": null,
       "grid_area": null,
       "grid_auto_columns": null,
       "grid_auto_flow": null,
       "grid_auto_rows": null,
       "grid_column": null,
       "grid_gap": null,
       "grid_row": null,
       "grid_template_areas": null,
       "grid_template_columns": null,
       "grid_template_rows": null,
       "height": null,
       "justify_content": null,
       "justify_items": null,
       "left": null,
       "margin": null,
       "max_height": null,
       "max_width": null,
       "min_height": null,
       "min_width": null,
       "object_fit": null,
       "object_position": null,
       "order": null,
       "overflow": null,
       "padding": null,
       "right": null,
       "top": null,
       "visibility": null,
       "width": null
      }
     },
     "527f17c5d70b4cac87cb6a76dfc628cc": {
      "model_module": "@jupyter-widgets/base",
      "model_module_version": "2.0.0",
      "model_name": "LayoutModel",
      "state": {
       "_model_module": "@jupyter-widgets/base",
       "_model_module_version": "2.0.0",
       "_model_name": "LayoutModel",
       "_view_count": null,
       "_view_module": "@jupyter-widgets/base",
       "_view_module_version": "2.0.0",
       "_view_name": "LayoutView",
       "align_content": null,
       "align_items": null,
       "align_self": null,
       "border_bottom": null,
       "border_left": null,
       "border_right": null,
       "border_top": null,
       "bottom": null,
       "display": null,
       "flex": null,
       "flex_flow": null,
       "grid_area": null,
       "grid_auto_columns": null,
       "grid_auto_flow": null,
       "grid_auto_rows": null,
       "grid_column": null,
       "grid_gap": null,
       "grid_row": null,
       "grid_template_areas": null,
       "grid_template_columns": null,
       "grid_template_rows": null,
       "height": null,
       "justify_content": null,
       "justify_items": null,
       "left": null,
       "margin": null,
       "max_height": null,
       "max_width": null,
       "min_height": null,
       "min_width": null,
       "object_fit": null,
       "object_position": null,
       "order": null,
       "overflow": null,
       "padding": null,
       "right": null,
       "top": null,
       "visibility": null,
       "width": null
      }
     },
     "5a6d1d3cb3ae466d9bd00e7ac88d8011": {
      "model_module": "@jupyter-widgets/controls",
      "model_module_version": "2.0.0",
      "model_name": "HBoxModel",
      "state": {
       "_dom_classes": [],
       "_model_module": "@jupyter-widgets/controls",
       "_model_module_version": "2.0.0",
       "_model_name": "HBoxModel",
       "_view_count": null,
       "_view_module": "@jupyter-widgets/controls",
       "_view_module_version": "2.0.0",
       "_view_name": "HBoxView",
       "box_style": "",
       "children": [
        "IPY_MODEL_f9f6fe4726da4037a8092d17a7a868f9"
       ],
       "layout": "IPY_MODEL_a3c01389e4a847e4ba70fcb39d44ea0b",
       "tabbable": null,
       "tooltip": null
      }
     },
     "5f2feb6da0ec41fa8aa1a11f0a96c634": {
      "model_module": "@jupyter-widgets/base",
      "model_module_version": "2.0.0",
      "model_name": "LayoutModel",
      "state": {
       "_model_module": "@jupyter-widgets/base",
       "_model_module_version": "2.0.0",
       "_model_name": "LayoutModel",
       "_view_count": null,
       "_view_module": "@jupyter-widgets/base",
       "_view_module_version": "2.0.0",
       "_view_name": "LayoutView",
       "align_content": null,
       "align_items": null,
       "align_self": null,
       "border_bottom": null,
       "border_left": null,
       "border_right": null,
       "border_top": null,
       "bottom": null,
       "display": null,
       "flex": null,
       "flex_flow": null,
       "grid_area": null,
       "grid_auto_columns": null,
       "grid_auto_flow": null,
       "grid_auto_rows": null,
       "grid_column": null,
       "grid_gap": null,
       "grid_row": null,
       "grid_template_areas": null,
       "grid_template_columns": null,
       "grid_template_rows": null,
       "height": null,
       "justify_content": null,
       "justify_items": null,
       "left": null,
       "margin": null,
       "max_height": null,
       "max_width": null,
       "min_height": null,
       "min_width": null,
       "object_fit": null,
       "object_position": null,
       "order": null,
       "overflow": null,
       "padding": null,
       "right": null,
       "top": null,
       "visibility": null,
       "width": null
      }
     },
     "71534acf84334725be77e15f090c0572": {
      "model_module": "@jupyter-widgets/base",
      "model_module_version": "2.0.0",
      "model_name": "LayoutModel",
      "state": {
       "_model_module": "@jupyter-widgets/base",
       "_model_module_version": "2.0.0",
       "_model_name": "LayoutModel",
       "_view_count": null,
       "_view_module": "@jupyter-widgets/base",
       "_view_module_version": "2.0.0",
       "_view_name": "LayoutView",
       "align_content": null,
       "align_items": null,
       "align_self": null,
       "border_bottom": null,
       "border_left": null,
       "border_right": null,
       "border_top": null,
       "bottom": null,
       "display": null,
       "flex": null,
       "flex_flow": null,
       "grid_area": null,
       "grid_auto_columns": null,
       "grid_auto_flow": null,
       "grid_auto_rows": null,
       "grid_column": null,
       "grid_gap": null,
       "grid_row": null,
       "grid_template_areas": null,
       "grid_template_columns": null,
       "grid_template_rows": null,
       "height": null,
       "justify_content": null,
       "justify_items": null,
       "left": null,
       "margin": null,
       "max_height": null,
       "max_width": null,
       "min_height": null,
       "min_width": null,
       "object_fit": null,
       "object_position": null,
       "order": null,
       "overflow": null,
       "padding": null,
       "right": null,
       "top": null,
       "visibility": null,
       "width": null
      }
     },
     "7661b15941b44f549b6e3fbc7229f9cf": {
      "model_module": "@jupyter-widgets/controls",
      "model_module_version": "2.0.0",
      "model_name": "HBoxModel",
      "state": {
       "_dom_classes": [],
       "_model_module": "@jupyter-widgets/controls",
       "_model_module_version": "2.0.0",
       "_model_name": "HBoxModel",
       "_view_count": null,
       "_view_module": "@jupyter-widgets/controls",
       "_view_module_version": "2.0.0",
       "_view_name": "HBoxView",
       "box_style": "",
       "children": [
        "IPY_MODEL_e4b3d347bfa04d8a9cede54674340aac"
       ],
       "layout": "IPY_MODEL_527f17c5d70b4cac87cb6a76dfc628cc",
       "tabbable": null,
       "tooltip": null
      }
     },
     "7c23789e146e4968be6fa406e202247f": {
      "model_module": "@jupyter-widgets/controls",
      "model_module_version": "2.0.0",
      "model_name": "HBoxModel",
      "state": {
       "_dom_classes": [],
       "_model_module": "@jupyter-widgets/controls",
       "_model_module_version": "2.0.0",
       "_model_name": "HBoxModel",
       "_view_count": null,
       "_view_module": "@jupyter-widgets/controls",
       "_view_module_version": "2.0.0",
       "_view_name": "HBoxView",
       "box_style": "",
       "children": [
        "IPY_MODEL_9171814d3e3145dfa1c9dd50e229054c"
       ],
       "layout": "IPY_MODEL_2e31f939827e47ce96d52a17296c1e42",
       "tabbable": null,
       "tooltip": null
      }
     },
     "7d000278ab7149d59ef7486d8a3f265c": {
      "model_module": "@jupyter-widgets/output",
      "model_module_version": "1.0.0",
      "model_name": "OutputModel",
      "state": {
       "_dom_classes": [],
       "_model_module": "@jupyter-widgets/output",
       "_model_module_version": "1.0.0",
       "_model_name": "OutputModel",
       "_view_count": null,
       "_view_module": "@jupyter-widgets/output",
       "_view_module_version": "1.0.0",
       "_view_name": "OutputView",
       "layout": "IPY_MODEL_eff1d994abb34f2e93033b9d0e5f99b9",
       "msg_id": "",
       "outputs": [
        {
         "data": {
          "text/markdown": "`one_effect`",
          "text/plain": "<IPython.core.display.Markdown object>"
         },
         "metadata": {},
         "output_type": "display_data"
        },
        {
         "data": {
          "image/svg+xml": "<svg xmlns=\"http://www.w3.org/2000/svg\" xmlns:xlink=\"http://www.w3.org/1999/xlink\" width=\"119pt\" height=\"54pt\" viewBox=\"0.00 0.00 119.00 54.00\">\n<g id=\"graph0\" class=\"graph\" transform=\"scale(1 1) rotate(0) translate(4 50)\">\n<title>my_graph</title>\n<polygon fill=\"white\" stroke=\"transparent\" points=\"-4,4 -4,-50 115,-50 115,4 -4,4\"/>\n<!-- q_G0 -->\n<g id=\"node1\" class=\"node\">\n<title>q_G0</title>\n<text text-anchor=\"middle\" x=\"27\" y=\"-14.3\" font-family=\"Times,serif\" font-size=\"14.00\">q</text>\n</g>\n<!-- OneEffect -->\n<g id=\"node2\" class=\"node\">\n<title>OneEffect</title>\n<polygon fill=\"none\" stroke=\"black\" points=\"91,-29 91,-46 111,-46 111,-29 91,-29\"/>\n<text text-anchor=\"start\" x=\"94\" y=\"-35\" font-family=\"Times,serif\" font-size=\"10.00\">&lt;1|</text>\n<polygon fill=\"none\" stroke=\"black\" points=\"91,-8 91,-29 104,-29 104,-8 91,-8\"/>\n<text text-anchor=\"start\" x=\"94\" y=\"-14.8\" font-family=\"Times,serif\" font-size=\"14.00\">q</text>\n<polygon fill=\"none\" stroke=\"black\" points=\"104,-8 104,-29 111,-29 111,-8 104,-8\"/>\n</g>\n<!-- q_G0&#45;&gt;OneEffect -->\n<g id=\"edge1\" class=\"edge\">\n<title>q_G0:e-&gt;OneEffect:w</title>\n<path fill=\"none\" stroke=\"black\" d=\"M54,-18C69.67,-18 74.14,-18 88.77,-18\"/>\n<ellipse fill=\"black\" stroke=\"black\" cx=\"90\" cy=\"-18\" rx=\"1\" ry=\"1\"/>\n<text text-anchor=\"middle\" x=\"72.5\" y=\"-21\" font-family=\"Times,serif\" font-size=\"10.00\">1</text>\n</g>\n</g>\n</svg>",
          "text/plain": "<IPython.core.display.SVG object>"
         },
         "metadata": {},
         "output_type": "display_data"
        }
       ],
       "tabbable": null,
       "tooltip": null
      }
     },
     "86099df3646d4d1abc72655d5a911874": {
      "model_module": "@jupyter-widgets/controls",
      "model_module_version": "2.0.0",
      "model_name": "HBoxModel",
      "state": {
       "_dom_classes": [],
       "_model_module": "@jupyter-widgets/controls",
       "_model_module_version": "2.0.0",
       "_model_name": "HBoxModel",
       "_view_count": null,
       "_view_module": "@jupyter-widgets/controls",
       "_view_module_version": "2.0.0",
       "_view_name": "HBoxView",
       "box_style": "",
       "children": [
        "IPY_MODEL_7d000278ab7149d59ef7486d8a3f265c"
       ],
       "layout": "IPY_MODEL_adabf4914cba43719e9b772b867a0a33",
       "tabbable": null,
       "tooltip": null
      }
     },
     "8e97e6b741fe40179c958a4de88535d8": {
      "model_module": "@jupyter-widgets/base",
      "model_module_version": "2.0.0",
      "model_name": "LayoutModel",
      "state": {
       "_model_module": "@jupyter-widgets/base",
       "_model_module_version": "2.0.0",
       "_model_name": "LayoutModel",
       "_view_count": null,
       "_view_module": "@jupyter-widgets/base",
       "_view_module_version": "2.0.0",
       "_view_name": "LayoutView",
       "align_content": null,
       "align_items": null,
       "align_self": null,
       "border_bottom": null,
       "border_left": null,
       "border_right": null,
       "border_top": null,
       "bottom": null,
       "display": null,
       "flex": null,
       "flex_flow": null,
       "grid_area": null,
       "grid_auto_columns": null,
       "grid_auto_flow": null,
       "grid_auto_rows": null,
       "grid_column": null,
       "grid_gap": null,
       "grid_row": null,
       "grid_template_areas": null,
       "grid_template_columns": null,
       "grid_template_rows": null,
       "height": null,
       "justify_content": null,
       "justify_items": null,
       "left": null,
       "margin": null,
       "max_height": null,
       "max_width": null,
       "min_height": null,
       "min_width": null,
       "object_fit": null,
       "object_position": null,
       "order": null,
       "overflow": null,
       "padding": null,
       "right": null,
       "top": null,
       "visibility": null,
       "width": null
      }
     },
     "9171814d3e3145dfa1c9dd50e229054c": {
      "model_module": "@jupyter-widgets/output",
      "model_module_version": "1.0.0",
      "model_name": "OutputModel",
      "state": {
       "_dom_classes": [],
       "_model_module": "@jupyter-widgets/output",
       "_model_module_version": "1.0.0",
       "_model_name": "OutputModel",
       "_view_count": null,
       "_view_module": "@jupyter-widgets/output",
       "_view_module_version": "1.0.0",
       "_view_name": "OutputView",
       "layout": "IPY_MODEL_3318af5b7d254e5baf881963f9aa7375",
       "msg_id": "",
       "outputs": [
        {
         "data": {
          "text/markdown": "`int_effect`",
          "text/plain": "<IPython.core.display.Markdown object>"
         },
         "metadata": {},
         "output_type": "display_data"
        },
        {
         "data": {
          "image/svg+xml": "<svg xmlns=\"http://www.w3.org/2000/svg\" xmlns:xlink=\"http://www.w3.org/1999/xlink\" width=\"128pt\" height=\"54pt\" viewBox=\"0.00 0.00 128.00 54.00\">\n<g id=\"graph0\" class=\"graph\" transform=\"scale(1 1) rotate(0) translate(4 50)\">\n<title>my_graph</title>\n<polygon fill=\"white\" stroke=\"transparent\" points=\"-4,4 -4,-50 124,-50 124,4 -4,4\"/>\n<!-- val_G0 -->\n<g id=\"node1\" class=\"node\">\n<title>val_G0</title>\n<text text-anchor=\"middle\" x=\"27\" y=\"-14.3\" font-family=\"Times,serif\" font-size=\"14.00\">val</text>\n</g>\n<!-- IntEffect -->\n<g id=\"node2\" class=\"node\">\n<title>IntEffect</title>\n<polygon fill=\"none\" stroke=\"black\" points=\"91.5,-29 91.5,-46 120.5,-46 120.5,-29 91.5,-29\"/>\n<text text-anchor=\"start\" x=\"96.5\" y=\"-35\" font-family=\"Times,serif\" font-size=\"10.00\">&lt;55|</text>\n<polygon fill=\"none\" stroke=\"black\" points=\"91.5,-8 91.5,-29 114.5,-29 114.5,-8 91.5,-8\"/>\n<text text-anchor=\"start\" x=\"94.5\" y=\"-14.8\" font-family=\"Times,serif\" font-size=\"14.00\">val</text>\n<polygon fill=\"none\" stroke=\"black\" points=\"114.5,-8 114.5,-29 120.5,-29 120.5,-8 114.5,-8\"/>\n</g>\n<!-- val_G0&#45;&gt;IntEffect -->\n<g id=\"edge1\" class=\"edge\">\n<title>val_G0:e-&gt;IntEffect:w</title>\n<path fill=\"none\" stroke=\"black\" d=\"M54,-18C69.67,-18 74.14,-18 88.77,-18\"/>\n<ellipse fill=\"black\" stroke=\"black\" cx=\"90\" cy=\"-18\" rx=\"1\" ry=\"1\"/>\n<text text-anchor=\"middle\" x=\"72.5\" y=\"-21\" font-family=\"Times,serif\" font-size=\"10.00\">8</text>\n</g>\n</g>\n</svg>",
          "text/plain": "<IPython.core.display.SVG object>"
         },
         "metadata": {},
         "output_type": "display_data"
        }
       ],
       "tabbable": null,
       "tooltip": null
      }
     },
     "95904a6a9203427fa699356ccf27ab52": {
      "model_module": "@jupyter-widgets/controls",
      "model_module_version": "2.0.0",
      "model_name": "HBoxModel",
      "state": {
       "_dom_classes": [],
       "_model_module": "@jupyter-widgets/controls",
       "_model_module_version": "2.0.0",
       "_model_name": "HBoxModel",
       "_view_count": null,
       "_view_module": "@jupyter-widgets/controls",
       "_view_module_version": "2.0.0",
       "_view_name": "HBoxView",
       "box_style": "",
       "children": [
        "IPY_MODEL_41d9a67f5a65468cbf9a72e8b021aa45"
       ],
       "layout": "IPY_MODEL_1bc81ba16b0c44d4b31b1097e8188959",
       "tabbable": null,
       "tooltip": null
      }
     },
     "a3c01389e4a847e4ba70fcb39d44ea0b": {
      "model_module": "@jupyter-widgets/base",
      "model_module_version": "2.0.0",
      "model_name": "LayoutModel",
      "state": {
       "_model_module": "@jupyter-widgets/base",
       "_model_module_version": "2.0.0",
       "_model_name": "LayoutModel",
       "_view_count": null,
       "_view_module": "@jupyter-widgets/base",
       "_view_module_version": "2.0.0",
       "_view_name": "LayoutView",
       "align_content": null,
       "align_items": null,
       "align_self": null,
       "border_bottom": null,
       "border_left": null,
       "border_right": null,
       "border_top": null,
       "bottom": null,
       "display": null,
       "flex": null,
       "flex_flow": null,
       "grid_area": null,
       "grid_auto_columns": null,
       "grid_auto_flow": null,
       "grid_auto_rows": null,
       "grid_column": null,
       "grid_gap": null,
       "grid_row": null,
       "grid_template_areas": null,
       "grid_template_columns": null,
       "grid_template_rows": null,
       "height": null,
       "justify_content": null,
       "justify_items": null,
       "left": null,
       "margin": null,
       "max_height": null,
       "max_width": null,
       "min_height": null,
       "min_width": null,
       "object_fit": null,
       "object_position": null,
       "order": null,
       "overflow": null,
       "padding": null,
       "right": null,
       "top": null,
       "visibility": null,
       "width": null
      }
     },
     "adabf4914cba43719e9b772b867a0a33": {
      "model_module": "@jupyter-widgets/base",
      "model_module_version": "2.0.0",
      "model_name": "LayoutModel",
      "state": {
       "_model_module": "@jupyter-widgets/base",
       "_model_module_version": "2.0.0",
       "_model_name": "LayoutModel",
       "_view_count": null,
       "_view_module": "@jupyter-widgets/base",
       "_view_module_version": "2.0.0",
       "_view_name": "LayoutView",
       "align_content": null,
       "align_items": null,
       "align_self": null,
       "border_bottom": null,
       "border_left": null,
       "border_right": null,
       "border_top": null,
       "bottom": null,
       "display": null,
       "flex": null,
       "flex_flow": null,
       "grid_area": null,
       "grid_auto_columns": null,
       "grid_auto_flow": null,
       "grid_auto_rows": null,
       "grid_column": null,
       "grid_gap": null,
       "grid_row": null,
       "grid_template_areas": null,
       "grid_template_columns": null,
       "grid_template_rows": null,
       "height": null,
       "justify_content": null,
       "justify_items": null,
       "left": null,
       "margin": null,
       "max_height": null,
       "max_width": null,
       "min_height": null,
       "min_width": null,
       "object_fit": null,
       "object_position": null,
       "order": null,
       "overflow": null,
       "padding": null,
       "right": null,
       "top": null,
       "visibility": null,
       "width": null
      }
     },
     "b1962198aa5a40af95b7d31a0fb6b4b1": {
      "model_module": "@jupyter-widgets/controls",
      "model_module_version": "2.0.0",
      "model_name": "HBoxModel",
      "state": {
       "_dom_classes": [],
       "_model_module": "@jupyter-widgets/controls",
       "_model_module_version": "2.0.0",
       "_model_name": "HBoxModel",
       "_view_count": null,
       "_view_module": "@jupyter-widgets/controls",
       "_view_module_version": "2.0.0",
       "_view_name": "HBoxView",
       "box_style": "",
       "children": [
        "IPY_MODEL_0f5687ef661245f1b0964baf5bfd4908"
       ],
       "layout": "IPY_MODEL_71534acf84334725be77e15f090c0572",
       "tabbable": null,
       "tooltip": null
      }
     },
     "b7c7ce12e1c24e7194356aeecb9488e9": {
      "model_module": "@jupyter-widgets/base",
      "model_module_version": "2.0.0",
      "model_name": "LayoutModel",
      "state": {
       "_model_module": "@jupyter-widgets/base",
       "_model_module_version": "2.0.0",
       "_model_name": "LayoutModel",
       "_view_count": null,
       "_view_module": "@jupyter-widgets/base",
       "_view_module_version": "2.0.0",
       "_view_name": "LayoutView",
       "align_content": null,
       "align_items": null,
       "align_self": null,
       "border_bottom": null,
       "border_left": null,
       "border_right": null,
       "border_top": null,
       "bottom": null,
       "display": null,
       "flex": null,
       "flex_flow": null,
       "grid_area": null,
       "grid_auto_columns": null,
       "grid_auto_flow": null,
       "grid_auto_rows": null,
       "grid_column": null,
       "grid_gap": null,
       "grid_row": null,
       "grid_template_areas": null,
       "grid_template_columns": null,
       "grid_template_rows": null,
       "height": null,
       "justify_content": null,
       "justify_items": null,
       "left": null,
       "margin": null,
       "max_height": null,
       "max_width": null,
       "min_height": null,
       "min_width": null,
       "object_fit": null,
       "object_position": null,
       "order": null,
       "overflow": null,
       "padding": null,
       "right": null,
       "top": null,
       "visibility": null,
       "width": null
      }
     },
     "c758539ef560487db7882900d948a387": {
      "model_module": "@jupyter-widgets/base",
      "model_module_version": "2.0.0",
      "model_name": "LayoutModel",
      "state": {
       "_model_module": "@jupyter-widgets/base",
       "_model_module_version": "2.0.0",
       "_model_name": "LayoutModel",
       "_view_count": null,
       "_view_module": "@jupyter-widgets/base",
       "_view_module_version": "2.0.0",
       "_view_name": "LayoutView",
       "align_content": null,
       "align_items": null,
       "align_self": null,
       "border_bottom": null,
       "border_left": null,
       "border_right": null,
       "border_top": null,
       "bottom": null,
       "display": null,
       "flex": null,
       "flex_flow": null,
       "grid_area": null,
       "grid_auto_columns": null,
       "grid_auto_flow": null,
       "grid_auto_rows": null,
       "grid_column": null,
       "grid_gap": null,
       "grid_row": null,
       "grid_template_areas": null,
       "grid_template_columns": null,
       "grid_template_rows": null,
       "height": null,
       "justify_content": null,
       "justify_items": null,
       "left": null,
       "margin": null,
       "max_height": null,
       "max_width": null,
       "min_height": null,
       "min_width": null,
       "object_fit": null,
       "object_position": null,
       "order": null,
       "overflow": null,
       "padding": null,
       "right": null,
       "top": null,
       "visibility": null,
       "width": null
      }
     },
     "d846774cb6984371ada9acb124d4d5ce": {
      "model_module": "@jupyter-widgets/output",
      "model_module_version": "1.0.0",
      "model_name": "OutputModel",
      "state": {
       "_dom_classes": [],
       "_model_module": "@jupyter-widgets/output",
       "_model_module_version": "1.0.0",
       "_model_name": "OutputModel",
       "_view_count": null,
       "_view_module": "@jupyter-widgets/output",
       "_view_module_version": "1.0.0",
       "_view_name": "OutputView",
       "layout": "IPY_MODEL_40c43997b73d4298bb4150f54230fe9c",
       "msg_id": "",
       "outputs": [
        {
         "data": {
          "text/markdown": "`plus_state`",
          "text/plain": "<IPython.core.display.Markdown object>"
         },
         "metadata": {},
         "output_type": "display_data"
        },
        {
         "data": {
          "image/svg+xml": "<svg xmlns=\"http://www.w3.org/2000/svg\" xmlns:xlink=\"http://www.w3.org/1999/xlink\" width=\"120pt\" height=\"54pt\" viewBox=\"0.00 0.00 120.00 54.00\">\n<g id=\"graph0\" class=\"graph\" transform=\"scale(1 1) rotate(0) translate(4 50)\">\n<title>my_graph</title>\n<polygon fill=\"white\" stroke=\"transparent\" points=\"-4,4 -4,-50 116,-50 116,4 -4,4\"/>\n<!-- PlusState -->\n<g id=\"node1\" class=\"node\">\n<title>PlusState</title>\n<polygon fill=\"none\" stroke=\"black\" points=\"0.5,-29 0.5,-46 21.5,-46 21.5,-29 0.5,-29\"/>\n<text text-anchor=\"start\" x=\"3.5\" y=\"-35\" font-family=\"Times,serif\" font-size=\"10.00\">|+&gt;</text>\n<polygon fill=\"none\" stroke=\"black\" points=\"0.5,-8 0.5,-29 7.5,-29 7.5,-8 0.5,-8\"/>\n<polygon fill=\"none\" stroke=\"black\" points=\"7.5,-8 7.5,-29 21.5,-29 21.5,-8 7.5,-8\"/>\n<text text-anchor=\"start\" x=\"11\" y=\"-14.8\" font-family=\"Times,serif\" font-size=\"14.00\">q</text>\n</g>\n<!-- q_G0 -->\n<g id=\"node2\" class=\"node\">\n<title>q_G0</title>\n<text text-anchor=\"middle\" x=\"85\" y=\"-14.3\" font-family=\"Times,serif\" font-size=\"14.00\">q</text>\n</g>\n<!-- PlusState&#45;&gt;q_G0 -->\n<g id=\"edge1\" class=\"edge\">\n<title>PlusState:e-&gt;q_G0:w</title>\n<path fill=\"none\" stroke=\"black\" d=\"M21,-18C36.67,-18 41.14,-18 55.77,-18\"/>\n<ellipse fill=\"black\" stroke=\"black\" cx=\"57\" cy=\"-18\" rx=\"1\" ry=\"1\"/>\n<text text-anchor=\"middle\" x=\"39.5\" y=\"-21\" font-family=\"Times,serif\" font-size=\"10.00\">1</text>\n</g>\n</g>\n</svg>",
          "text/plain": "<IPython.core.display.SVG object>"
         },
         "metadata": {},
         "output_type": "display_data"
        }
       ],
       "tabbable": null,
       "tooltip": null
      }
     },
     "e4b3d347bfa04d8a9cede54674340aac": {
      "model_module": "@jupyter-widgets/output",
      "model_module_version": "1.0.0",
      "model_name": "OutputModel",
      "state": {
       "_dom_classes": [],
       "_model_module": "@jupyter-widgets/output",
       "_model_module_version": "1.0.0",
       "_model_name": "OutputModel",
       "_view_count": null,
       "_view_module": "@jupyter-widgets/output",
       "_view_module_version": "1.0.0",
       "_view_name": "OutputView",
       "layout": "IPY_MODEL_452cec643bdf411dac00de92224c2d1c",
       "msg_id": "",
       "outputs": [
        {
         "data": {
          "text/markdown": "`minus_state`",
          "text/plain": "<IPython.core.display.Markdown object>"
         },
         "metadata": {},
         "output_type": "display_data"
        },
        {
         "data": {
          "image/svg+xml": "<svg xmlns=\"http://www.w3.org/2000/svg\" xmlns:xlink=\"http://www.w3.org/1999/xlink\" width=\"118pt\" height=\"54pt\" viewBox=\"0.00 0.00 118.00 54.00\">\n<g id=\"graph0\" class=\"graph\" transform=\"scale(1 1) rotate(0) translate(4 50)\">\n<title>my_graph</title>\n<polygon fill=\"white\" stroke=\"transparent\" points=\"-4,4 -4,-50 114,-50 114,4 -4,4\"/>\n<!-- MinusState -->\n<g id=\"node1\" class=\"node\">\n<title>MinusState</title>\n<polygon fill=\"none\" stroke=\"black\" points=\"0.5,-29 0.5,-46 19.5,-46 19.5,-29 0.5,-29\"/>\n<text text-anchor=\"start\" x=\"4\" y=\"-35\" font-family=\"Times,serif\" font-size=\"10.00\">|-&gt;</text>\n<polygon fill=\"none\" stroke=\"black\" points=\"0.5,-8 0.5,-29 6.5,-29 6.5,-8 0.5,-8\"/>\n<polygon fill=\"none\" stroke=\"black\" points=\"6.5,-8 6.5,-29 19.5,-29 19.5,-8 6.5,-8\"/>\n<text text-anchor=\"start\" x=\"9.5\" y=\"-14.8\" font-family=\"Times,serif\" font-size=\"14.00\">q</text>\n</g>\n<!-- q_G0 -->\n<g id=\"node2\" class=\"node\">\n<title>q_G0</title>\n<text text-anchor=\"middle\" x=\"83\" y=\"-14.3\" font-family=\"Times,serif\" font-size=\"14.00\">q</text>\n</g>\n<!-- MinusState&#45;&gt;q_G0 -->\n<g id=\"edge1\" class=\"edge\">\n<title>MinusState:e-&gt;q_G0:w</title>\n<path fill=\"none\" stroke=\"black\" d=\"M19,-18C34.67,-18 39.14,-18 53.77,-18\"/>\n<ellipse fill=\"black\" stroke=\"black\" cx=\"55\" cy=\"-18\" rx=\"1\" ry=\"1\"/>\n<text text-anchor=\"middle\" x=\"37.5\" y=\"-21\" font-family=\"Times,serif\" font-size=\"10.00\">1</text>\n</g>\n</g>\n</svg>",
          "text/plain": "<IPython.core.display.SVG object>"
         },
         "metadata": {},
         "output_type": "display_data"
        }
       ],
       "tabbable": null,
       "tooltip": null
      }
     },
     "eff1d994abb34f2e93033b9d0e5f99b9": {
      "model_module": "@jupyter-widgets/base",
      "model_module_version": "2.0.0",
      "model_name": "LayoutModel",
      "state": {
       "_model_module": "@jupyter-widgets/base",
       "_model_module_version": "2.0.0",
       "_model_name": "LayoutModel",
       "_view_count": null,
       "_view_module": "@jupyter-widgets/base",
       "_view_module_version": "2.0.0",
       "_view_name": "LayoutView",
       "align_content": null,
       "align_items": null,
       "align_self": null,
       "border_bottom": null,
       "border_left": null,
       "border_right": null,
       "border_top": null,
       "bottom": null,
       "display": null,
       "flex": null,
       "flex_flow": null,
       "grid_area": null,
       "grid_auto_columns": null,
       "grid_auto_flow": null,
       "grid_auto_rows": null,
       "grid_column": null,
       "grid_gap": null,
       "grid_row": null,
       "grid_template_areas": null,
       "grid_template_columns": null,
       "grid_template_rows": null,
       "height": null,
       "justify_content": null,
       "justify_items": null,
       "left": null,
       "margin": null,
       "max_height": null,
       "max_width": null,
       "min_height": null,
       "min_width": null,
       "object_fit": null,
       "object_position": null,
       "order": null,
       "overflow": null,
       "padding": null,
       "right": null,
       "top": null,
       "visibility": null,
       "width": null
      }
     },
     "f4321127ff1044678068b409aaffac2d": {
      "model_module": "@jupyter-widgets/controls",
      "model_module_version": "2.0.0",
      "model_name": "HBoxModel",
      "state": {
       "_dom_classes": [],
       "_model_module": "@jupyter-widgets/controls",
       "_model_module_version": "2.0.0",
       "_model_name": "HBoxModel",
       "_view_count": null,
       "_view_module": "@jupyter-widgets/controls",
       "_view_module_version": "2.0.0",
       "_view_name": "HBoxView",
       "box_style": "",
       "children": [
        "IPY_MODEL_2c14a69ebb6649569dd5bf4b11554c52"
       ],
       "layout": "IPY_MODEL_b7c7ce12e1c24e7194356aeecb9488e9",
       "tabbable": null,
       "tooltip": null
      }
     },
     "f9f6fe4726da4037a8092d17a7a868f9": {
      "model_module": "@jupyter-widgets/output",
      "model_module_version": "1.0.0",
      "model_name": "OutputModel",
      "state": {
       "_dom_classes": [],
       "_model_module": "@jupyter-widgets/output",
       "_model_module_version": "1.0.0",
       "_model_name": "OutputModel",
       "_view_count": null,
       "_view_module": "@jupyter-widgets/output",
       "_view_module_version": "1.0.0",
       "_view_name": "OutputView",
       "layout": "IPY_MODEL_019f0d19a08c4330a68a0f3831b68431",
       "msg_id": "",
       "outputs": [
        {
         "data": {
          "text/markdown": "`zero_state`",
          "text/plain": "<IPython.core.display.Markdown object>"
         },
         "metadata": {},
         "output_type": "display_data"
        },
        {
         "data": {
          "image/svg+xml": "<svg xmlns=\"http://www.w3.org/2000/svg\" xmlns:xlink=\"http://www.w3.org/1999/xlink\" width=\"119pt\" height=\"54pt\" viewBox=\"0.00 0.00 119.00 54.00\">\n<g id=\"graph0\" class=\"graph\" transform=\"scale(1 1) rotate(0) translate(4 50)\">\n<title>my_graph</title>\n<polygon fill=\"white\" stroke=\"transparent\" points=\"-4,4 -4,-50 115,-50 115,4 -4,4\"/>\n<!-- ZeroState -->\n<g id=\"node1\" class=\"node\">\n<title>ZeroState</title>\n<polygon fill=\"none\" stroke=\"black\" points=\"0,-29 0,-46 20,-46 20,-29 0,-29\"/>\n<text text-anchor=\"start\" x=\"3\" y=\"-35\" font-family=\"Times,serif\" font-size=\"10.00\">|0&gt;</text>\n<polygon fill=\"none\" stroke=\"black\" points=\"0,-8 0,-29 6,-29 6,-8 0,-8\"/>\n<polygon fill=\"none\" stroke=\"black\" points=\"6,-8 6,-29 20,-29 20,-8 6,-8\"/>\n<text text-anchor=\"start\" x=\"9.5\" y=\"-14.8\" font-family=\"Times,serif\" font-size=\"14.00\">q</text>\n</g>\n<!-- q_G0 -->\n<g id=\"node2\" class=\"node\">\n<title>q_G0</title>\n<text text-anchor=\"middle\" x=\"84\" y=\"-14.3\" font-family=\"Times,serif\" font-size=\"14.00\">q</text>\n</g>\n<!-- ZeroState&#45;&gt;q_G0 -->\n<g id=\"edge1\" class=\"edge\">\n<title>ZeroState:e-&gt;q_G0:w</title>\n<path fill=\"none\" stroke=\"black\" d=\"M20,-18C35.67,-18 40.14,-18 54.77,-18\"/>\n<ellipse fill=\"black\" stroke=\"black\" cx=\"56\" cy=\"-18\" rx=\"1\" ry=\"1\"/>\n<text text-anchor=\"middle\" x=\"38.5\" y=\"-21\" font-family=\"Times,serif\" font-size=\"10.00\">1</text>\n</g>\n</g>\n</svg>",
          "text/plain": "<IPython.core.display.SVG object>"
         },
         "metadata": {},
         "output_type": "display_data"
        }
       ],
       "tabbable": null,
       "tooltip": null
      }
     },
     "fb85b3ef91cf4e738e58df4c5adbb7c3": {
      "model_module": "@jupyter-widgets/controls",
      "model_module_version": "2.0.0",
      "model_name": "HBoxModel",
      "state": {
       "_dom_classes": [],
       "_model_module": "@jupyter-widgets/controls",
       "_model_module_version": "2.0.0",
       "_model_name": "HBoxModel",
       "_view_count": null,
       "_view_module": "@jupyter-widgets/controls",
       "_view_module_version": "2.0.0",
       "_view_name": "HBoxView",
       "box_style": "",
       "children": [
        "IPY_MODEL_3e6fc2f79e154c1f90e152d44e4e7593"
       ],
       "layout": "IPY_MODEL_8e97e6b741fe40179c958a4de88535d8",
       "tabbable": null,
       "tooltip": null
      }
     }
    },
    "version_major": 2,
    "version_minor": 0
   }
  }
 },
 "nbformat": 4,
 "nbformat_minor": 5
}
