{
 "cells": [
  {
   "cell_type": "markdown",
   "id": "14e2b0ae",
   "metadata": {
    "cq.autogen": "title_cell"
   },
   "source": [
    "# Basic Swaps"
   ]
  },
  {
   "cell_type": "code",
   "execution_count": 1,
   "id": "9f05e9c2",
   "metadata": {
    "cq.autogen": "top_imports"
   },
   "outputs": [],
   "source": [
    "from qualtran import Bloq, CompositeBloq, BloqBuilder, Signature, Register\n",
    "from qualtran import QBit, QInt, QUInt, QAny\n",
    "from qualtran.drawing import show_bloq, show_call_graph, show_counts_sigma\n",
    "from typing import *\n",
    "import numpy as np\n",
    "import sympy\n",
    "import cirq"
   ]
  },
  {
   "cell_type": "markdown",
   "id": "e2cbcfe8",
   "metadata": {
    "cq.autogen": "TwoBitSwap.bloq_doc.md"
   },
   "source": [
    "## `TwoBitSwap`\n",
    "Swap two bits.\n",
    "\n",
    "This is a Clifford operation.\n",
    "\n",
    "#### Registers\n",
    " - `x`: the first bit\n",
    " - `y`: the second bit\n"
   ]
  },
  {
   "cell_type": "code",
   "execution_count": 2,
   "id": "daf1d7ba",
   "metadata": {
    "cq.autogen": "TwoBitSwap.bloq_doc.py"
   },
   "outputs": [],
   "source": [
    "from qualtran.bloqs.basic_gates import TwoBitSwap"
   ]
  },
  {
   "cell_type": "markdown",
   "id": "358f64f0",
   "metadata": {
    "cq.autogen": "TwoBitSwap.example_instances.md"
   },
   "source": [
    "### Example Instances"
   ]
  },
  {
   "cell_type": "code",
   "execution_count": 3,
   "id": "bff96ba3",
   "metadata": {
    "cq.autogen": "TwoBitSwap.swap_bit"
   },
   "outputs": [],
   "source": [
    "swap_bit = TwoBitSwap()"
   ]
  },
  {
   "cell_type": "markdown",
   "id": "c9889dd6",
   "metadata": {
    "cq.autogen": "TwoBitSwap.graphical_signature.md"
   },
   "source": [
    "#### Graphical Signature"
   ]
  },
  {
   "cell_type": "code",
   "execution_count": 4,
   "id": "ae8b94b4",
   "metadata": {
    "cq.autogen": "TwoBitSwap.graphical_signature.py"
   },
   "outputs": [
    {
     "data": {
      "application/vnd.jupyter.widget-view+json": {
       "model_id": "b4833bbefb4345edbd1fad65bff03e0a",
       "version_major": 2,
       "version_minor": 0
      },
      "text/plain": [
       "HBox(children=(Output(outputs=({'output_type': 'display_data', 'data': {'text/plain': '<IPython.core.display.M…"
      ]
     },
     "metadata": {},
     "output_type": "display_data"
    }
   ],
   "source": [
    "from qualtran.drawing import show_bloqs\n",
    "show_bloqs([swap_bit],\n",
    "           ['`swap_bit`'])"
   ]
  },
  {
   "cell_type": "markdown",
   "id": "1b73e8f3",
   "metadata": {
    "cq.autogen": "TwoBitCSwap.bloq_doc.md"
   },
   "source": [
    "## `TwoBitCSwap`\n",
    "Swap two bits controlled on a control bit.\n",
    "\n",
    "This is sometimes known as the [Fredkin Gate](https://en.wikipedia.org/wiki/Fredkin_gate).\n",
    "\n",
    "#### Registers\n",
    " - `ctrl`: the control bit\n",
    " - `x`: the first bit\n",
    " - `y`: the second bit \n",
    "\n",
    "#### References\n",
    " - [An algorithm for the T-count](https://arxiv.org/abs/1308.4134). Gosset et al. 2013. Figure 5.2.\n"
   ]
  },
  {
   "cell_type": "code",
   "execution_count": 5,
   "id": "16bea751",
   "metadata": {
    "cq.autogen": "TwoBitCSwap.bloq_doc.py"
   },
   "outputs": [],
   "source": [
    "from qualtran.bloqs.basic_gates import TwoBitCSwap"
   ]
  },
  {
   "cell_type": "markdown",
   "id": "86e8d4e0",
   "metadata": {
    "cq.autogen": "TwoBitCSwap.example_instances.md"
   },
   "source": [
    "### Example Instances"
   ]
  },
  {
   "cell_type": "code",
   "execution_count": 6,
   "id": "cd0cd0f4",
   "metadata": {
    "cq.autogen": "TwoBitCSwap.cswap_bit"
   },
   "outputs": [],
   "source": [
    "cswap_bit = TwoBitCSwap()"
   ]
  },
  {
   "cell_type": "markdown",
   "id": "883806ba",
   "metadata": {
    "cq.autogen": "TwoBitCSwap.graphical_signature.md"
   },
   "source": [
    "#### Graphical Signature"
   ]
  },
  {
   "cell_type": "code",
   "execution_count": 7,
   "id": "191155bc",
   "metadata": {
    "cq.autogen": "TwoBitCSwap.graphical_signature.py"
   },
   "outputs": [
    {
     "data": {
      "application/vnd.jupyter.widget-view+json": {
       "model_id": "0ffe06bc707a4427884060c2f67ba380",
       "version_major": 2,
       "version_minor": 0
      },
      "text/plain": [
       "HBox(children=(Output(outputs=({'output_type': 'display_data', 'data': {'text/plain': '<IPython.core.display.M…"
      ]
     },
     "metadata": {},
     "output_type": "display_data"
    }
   ],
   "source": [
    "from qualtran.drawing import show_bloqs\n",
    "show_bloqs([cswap_bit],\n",
    "           ['`cswap_bit`'])"
   ]
  },
  {
   "cell_type": "markdown",
   "id": "2e20fd3d-54fb-4762-a4e2-9498553a3f74",
   "metadata": {},
   "source": [
    "### Clifford+T circuit"
   ]
  },
  {
   "cell_type": "markdown",
   "id": "892102fa-8192-48a6-a5d9-51e47f1fa3c5",
   "metadata": {},
   "source": [
    "In Qualtran, this bloq is treated as atomic because its implementation is architecture-dependent. A clifford+T compilation is provided via a Cirq circuit on the `to_clifford_t_circuit()` method"
   ]
  },
  {
   "cell_type": "code",
   "execution_count": 8,
   "id": "aa390bfc-816b-4623-b341-614a6dd30dbf",
   "metadata": {},
   "outputs": [
    {
     "data": {
      "text/html": [
       "<pre style=\"overflow: auto; white-space: pre;\">                            ┌──┐          ┌─────┐\n",
       "ctrl: ───────@───T───────────@─────@───────────@────────────────\n",
       "             │               │     │           │\n",
       "x: ──────X───X───T^-1───X────┼T────X───────T^-1┼────X───T───X───\n",
       "         │              │    │                 │    │       │\n",
       "y: ──────@───H───T──────@────X─────T^-1────────X────@───H───@───\n",
       "                            └──┘          └─────┘</pre>"
      ],
      "text/plain": [
       "                            ┌──┐          ┌─────┐\n",
       "ctrl: ───────@───T───────────@─────@───────────@────────────────\n",
       "             │               │     │           │\n",
       "x: ──────X───X───T^-1───X────┼T────X───────T^-1┼────X───T───X───\n",
       "         │              │    │                 │    │       │\n",
       "y: ──────@───H───T──────@────X─────T^-1────────X────@───H───@───\n",
       "                            └──┘          └─────┘"
      ]
     },
     "execution_count": 8,
     "metadata": {},
     "output_type": "execute_result"
    }
   ],
   "source": [
    "cswap_bit.to_clifford_t_circuit()"
   ]
  },
  {
   "cell_type": "markdown",
   "id": "883ca296",
   "metadata": {
    "cq.autogen": "Swap.bloq_doc.md"
   },
   "source": [
    "## `Swap`\n",
    "Swap two registers\n",
    "\n",
    "This corresponds to a qubitwise `TwoBitSwap` on the two registers.\n",
    "\n",
    "#### Parameters\n",
    " - `bitsize`: The bitsize of each of the two registers being swapped. \n",
    "\n",
    "#### Registers\n",
    " - `x`: the first register\n",
    " - `y`: the second register\n"
   ]
  },
  {
   "cell_type": "code",
   "execution_count": 9,
   "id": "fba2eaf0",
   "metadata": {
    "cq.autogen": "Swap.bloq_doc.py"
   },
   "outputs": [],
   "source": [
    "from qualtran.bloqs.basic_gates import Swap"
   ]
  },
  {
   "cell_type": "markdown",
   "id": "37b0df8c",
   "metadata": {
    "cq.autogen": "Swap.example_instances.md"
   },
   "source": [
    "### Example Instances"
   ]
  },
  {
   "cell_type": "code",
   "execution_count": 10,
   "id": "bbfa7691",
   "metadata": {
    "cq.autogen": "Swap.swap"
   },
   "outputs": [],
   "source": [
    "n = sympy.Symbol('n', positive=True, integer=True)\n",
    "swap = Swap(bitsize=n)"
   ]
  },
  {
   "cell_type": "code",
   "execution_count": 11,
   "id": "6fc3b608",
   "metadata": {
    "cq.autogen": "Swap.swap_small"
   },
   "outputs": [],
   "source": [
    "swap_small = Swap(bitsize=4)"
   ]
  },
  {
   "cell_type": "code",
   "execution_count": 12,
   "id": "b16f9c34",
   "metadata": {
    "cq.autogen": "Swap.swap_large"
   },
   "outputs": [],
   "source": [
    "swap_large = Swap(bitsize=64)"
   ]
  },
  {
   "cell_type": "markdown",
   "id": "ec258365",
   "metadata": {
    "cq.autogen": "Swap.graphical_signature.md"
   },
   "source": [
    "#### Graphical Signature"
   ]
  },
  {
   "cell_type": "code",
   "execution_count": 13,
   "id": "b327687f",
   "metadata": {
    "cq.autogen": "Swap.graphical_signature.py"
   },
   "outputs": [
    {
     "data": {
      "application/vnd.jupyter.widget-view+json": {
       "model_id": "999ff25823e04dcd9e75d36c6c78e6b7",
       "version_major": 2,
       "version_minor": 0
      },
      "text/plain": [
       "HBox(children=(Output(outputs=({'output_type': 'display_data', 'data': {'text/plain': '<IPython.core.display.M…"
      ]
     },
     "metadata": {},
     "output_type": "display_data"
    }
   ],
   "source": [
    "from qualtran.drawing import show_bloqs\n",
    "show_bloqs([swap, swap_small, swap_large],\n",
    "           ['`swap`', '`swap_small`', '`swap_large`'])"
   ]
  },
  {
   "cell_type": "markdown",
   "id": "fe3030df",
   "metadata": {
    "cq.autogen": "Swap.call_graph.md"
   },
   "source": [
    "### Call Graph"
   ]
  },
  {
   "cell_type": "code",
   "execution_count": 14,
   "id": "6c773542",
   "metadata": {
    "cq.autogen": "Swap.call_graph.py"
   },
   "outputs": [
    {
     "data": {
      "image/svg+xml": [
       "<svg xmlns=\"http://www.w3.org/2000/svg\" xmlns:xlink=\"http://www.w3.org/1999/xlink\" width=\"90pt\" height=\"131pt\" viewBox=\"0.00 0.00 90.00 131.00\">\n",
       "<g id=\"graph0\" class=\"graph\" transform=\"scale(1 1) rotate(0) translate(4 127)\">\n",
       "<title>counts</title>\n",
       "<polygon fill=\"white\" stroke=\"transparent\" points=\"-4,4 -4,-127 86,-127 86,4 -4,4\"/>\n",
       "<!-- b0 -->\n",
       "<g id=\"node1\" class=\"node\">\n",
       "<title>b0</title>\n",
       "<polygon fill=\"none\" stroke=\"black\" points=\"23,-93 23,-116 59,-116 59,-93 23,-93\"/>\n",
       "<text text-anchor=\"start\" x=\"29.5\" y=\"-102\" font-family=\"Times,serif\" font-size=\"10.00\">Swap</text>\n",
       "</g>\n",
       "<!-- b1 -->\n",
       "<g id=\"node2\" class=\"node\">\n",
       "<title>b1</title>\n",
       "<polygon fill=\"none\" stroke=\"black\" points=\"8,-6 8,-29 74,-29 74,-6 8,-6\"/>\n",
       "<text text-anchor=\"start\" x=\"14\" y=\"-15\" font-family=\"Times,serif\" font-size=\"10.00\">TwoBitSwap</text>\n",
       "</g>\n",
       "<!-- b0&#45;&gt;b1 -->\n",
       "<g id=\"edge1\" class=\"edge\">\n",
       "<title>b0-&gt;b1</title>\n",
       "<path fill=\"none\" stroke=\"black\" d=\"M41,-86.8C41,-75.16 41,-59.55 41,-46.24\"/>\n",
       "<polygon fill=\"black\" stroke=\"black\" points=\"44.5,-46.18 41,-36.18 37.5,-46.18 44.5,-46.18\"/>\n",
       "<text text-anchor=\"middle\" x=\"44.5\" y=\"-57.8\" font-family=\"Times,serif\" font-size=\"14.00\">n</text>\n",
       "</g>\n",
       "</g>\n",
       "</svg>"
      ],
      "text/plain": [
       "<IPython.core.display.SVG object>"
      ]
     },
     "metadata": {},
     "output_type": "display_data"
    },
    {
     "data": {
      "text/markdown": [
       "#### Counts totals:\n",
       " - `TwoBitSwap`: $\\displaystyle n$"
      ],
      "text/plain": [
       "<IPython.core.display.Markdown object>"
      ]
     },
     "metadata": {},
     "output_type": "display_data"
    }
   ],
   "source": [
    "from qualtran.resource_counting.generalizers import ignore_split_join\n",
    "swap_g, swap_sigma = swap.call_graph(max_depth=1, generalizer=ignore_split_join)\n",
    "show_call_graph(swap_g)\n",
    "show_counts_sigma(swap_sigma)"
   ]
  },
  {
   "cell_type": "markdown",
   "id": "b893cfae",
   "metadata": {
    "cq.autogen": "CSwap.bloq_doc.md"
   },
   "source": [
    "## `CSwap`\n",
    "Swap two registers controlled on a control bit.\n",
    "\n",
    "This decomposes into a qubitwise `TwoBitCSwap` on the two target registers,\n",
    "and takes $n$ TwoBitCSwap gates.\n",
    "\n",
    "#### Parameters\n",
    " - `bitsize`: The bitsize of each of the two registers being swapped. \n",
    "\n",
    "#### Registers\n",
    " - `ctrl`: the control bit\n",
    " - `x`: the first register\n",
    " - `y`: the second register\n"
   ]
  },
  {
   "cell_type": "code",
   "execution_count": 15,
   "id": "3282a474",
   "metadata": {
    "cq.autogen": "CSwap.bloq_doc.py"
   },
   "outputs": [],
   "source": [
    "from qualtran.bloqs.basic_gates import CSwap"
   ]
  },
  {
   "cell_type": "markdown",
   "id": "2b72b8d4",
   "metadata": {
    "cq.autogen": "CSwap.example_instances.md"
   },
   "source": [
    "### Example Instances"
   ]
  },
  {
   "cell_type": "code",
   "execution_count": 16,
   "id": "5a532894",
   "metadata": {
    "cq.autogen": "CSwap.cswap"
   },
   "outputs": [],
   "source": [
    "n = sympy.Symbol('n', positive=True, integer=True)\n",
    "cswap = CSwap(bitsize=n)"
   ]
  },
  {
   "cell_type": "code",
   "execution_count": 17,
   "id": "d1a9b594",
   "metadata": {
    "cq.autogen": "CSwap.cswap_small"
   },
   "outputs": [],
   "source": [
    "# A small version on four bits.\n",
    "cswap_small = CSwap(bitsize=4)"
   ]
  },
  {
   "cell_type": "code",
   "execution_count": 18,
   "id": "6045b697",
   "metadata": {
    "cq.autogen": "CSwap.cswap_large"
   },
   "outputs": [],
   "source": [
    "# A large version that swaps 64-bit registers.\n",
    "cswap_large = CSwap(bitsize=64)"
   ]
  },
  {
   "cell_type": "markdown",
   "id": "d5265723",
   "metadata": {
    "cq.autogen": "CSwap.graphical_signature.md"
   },
   "source": [
    "#### Graphical Signature"
   ]
  },
  {
   "cell_type": "code",
   "execution_count": 19,
   "id": "4bf1115f",
   "metadata": {
    "cq.autogen": "CSwap.graphical_signature.py"
   },
   "outputs": [
    {
     "data": {
      "application/vnd.jupyter.widget-view+json": {
       "model_id": "e7cebad7ccb54a02b800905135228020",
       "version_major": 2,
       "version_minor": 0
      },
      "text/plain": [
       "HBox(children=(Output(outputs=({'output_type': 'display_data', 'data': {'text/plain': '<IPython.core.display.M…"
      ]
     },
     "metadata": {},
     "output_type": "display_data"
    }
   ],
   "source": [
    "from qualtran.drawing import show_bloqs\n",
    "show_bloqs([cswap, cswap_small, cswap_large],\n",
    "           ['`cswap`', '`cswap_small`', '`cswap_large`'])"
   ]
  },
  {
   "cell_type": "markdown",
   "id": "34028742",
   "metadata": {
    "cq.autogen": "CSwap.call_graph.md"
   },
   "source": [
    "### Call Graph"
   ]
  },
  {
   "cell_type": "code",
   "execution_count": 20,
   "id": "5cf02307",
   "metadata": {
    "cq.autogen": "CSwap.call_graph.py"
   },
   "outputs": [
    {
     "data": {
      "image/svg+xml": [
       "<svg xmlns=\"http://www.w3.org/2000/svg\" xmlns:xlink=\"http://www.w3.org/1999/xlink\" width=\"98pt\" height=\"131pt\" viewBox=\"0.00 0.00 98.00 131.00\">\n",
       "<g id=\"graph0\" class=\"graph\" transform=\"scale(1 1) rotate(0) translate(4 127)\">\n",
       "<title>counts</title>\n",
       "<polygon fill=\"white\" stroke=\"transparent\" points=\"-4,4 -4,-127 94,-127 94,4 -4,4\"/>\n",
       "<!-- b0 -->\n",
       "<g id=\"node1\" class=\"node\">\n",
       "<title>b0</title>\n",
       "<polygon fill=\"none\" stroke=\"black\" points=\"24,-93 24,-116 66,-116 66,-93 24,-93\"/>\n",
       "<text text-anchor=\"start\" x=\"30\" y=\"-102\" font-family=\"Times,serif\" font-size=\"10.00\">CSwap</text>\n",
       "</g>\n",
       "<!-- b1 -->\n",
       "<g id=\"node2\" class=\"node\">\n",
       "<title>b1</title>\n",
       "<polygon fill=\"none\" stroke=\"black\" points=\"8,-6 8,-29 82,-29 82,-6 8,-6\"/>\n",
       "<text text-anchor=\"start\" x=\"14.5\" y=\"-15\" font-family=\"Times,serif\" font-size=\"10.00\">TwoBitCSwap</text>\n",
       "</g>\n",
       "<!-- b0&#45;&gt;b1 -->\n",
       "<g id=\"edge1\" class=\"edge\">\n",
       "<title>b0-&gt;b1</title>\n",
       "<path fill=\"none\" stroke=\"black\" d=\"M45,-86.8C45,-75.16 45,-59.55 45,-46.24\"/>\n",
       "<polygon fill=\"black\" stroke=\"black\" points=\"48.5,-46.18 45,-36.18 41.5,-46.18 48.5,-46.18\"/>\n",
       "<text text-anchor=\"middle\" x=\"48.5\" y=\"-57.8\" font-family=\"Times,serif\" font-size=\"14.00\">n</text>\n",
       "</g>\n",
       "</g>\n",
       "</svg>"
      ],
      "text/plain": [
       "<IPython.core.display.SVG object>"
      ]
     },
     "metadata": {},
     "output_type": "display_data"
    },
    {
     "data": {
      "text/markdown": [
       "#### Counts totals:\n",
       " - `TwoBitCSwap`: $\\displaystyle n$"
      ],
      "text/plain": [
       "<IPython.core.display.Markdown object>"
      ]
     },
     "metadata": {},
     "output_type": "display_data"
    }
   ],
   "source": [
    "from qualtran.resource_counting.generalizers import ignore_split_join\n",
    "cswap_g, cswap_sigma = cswap.call_graph(max_depth=1, generalizer=ignore_split_join)\n",
    "show_call_graph(cswap_g)\n",
    "show_counts_sigma(cswap_sigma)"
   ]
  }
 ],
 "metadata": {
  "kernelspec": {
   "display_name": "Python 3 (ipykernel)",
   "language": "python",
   "name": "python3"
  },
  "language_info": {
   "codemirror_mode": {
    "name": "ipython",
    "version": 3
   },
   "file_extension": ".py",
   "mimetype": "text/x-python",
   "name": "python",
   "nbconvert_exporter": "python",
   "pygments_lexer": "ipython3",
   "version": "3.11.8"
  },
  "widgets": {
   "application/vnd.jupyter.widget-state+json": {
    "state": {
     "00628eadaaa04336b8f5dad65683d472": {
      "model_module": "@jupyter-widgets/output",
      "model_module_version": "1.0.0",
      "model_name": "OutputModel",
      "state": {
       "_dom_classes": [],
       "_model_module": "@jupyter-widgets/output",
       "_model_module_version": "1.0.0",
       "_model_name": "OutputModel",
       "_view_count": null,
       "_view_module": "@jupyter-widgets/output",
       "_view_module_version": "1.0.0",
       "_view_name": "OutputView",
       "layout": "IPY_MODEL_2d6ec5a2adbf49778f052335d1c08789",
       "msg_id": "",
       "outputs": [
        {
         "data": {
          "text/markdown": "`cswap_large`",
          "text/plain": "<IPython.core.display.Markdown object>"
         },
         "metadata": {},
         "output_type": "display_data"
        },
        {
         "data": {
          "image/svg+xml": "<svg xmlns=\"http://www.w3.org/2000/svg\" xmlns:xlink=\"http://www.w3.org/1999/xlink\" width=\"226pt\" height=\"152pt\" viewBox=\"0.00 0.00 226.00 152.00\">\n<g id=\"graph0\" class=\"graph\" transform=\"scale(1 1) rotate(0) translate(4 148)\">\n<title>my_graph</title>\n<polygon fill=\"white\" stroke=\"transparent\" points=\"-4,4 -4,-148 222,-148 222,4 -4,4\"/>\n<!-- ctrl_G7 -->\n<g id=\"node1\" class=\"node\">\n<title>ctrl_G7</title>\n<text text-anchor=\"middle\" x=\"27\" y=\"-122.3\" font-family=\"Times,serif\" font-size=\"14.00\">ctrl</text>\n</g>\n<!-- CSwap -->\n<g id=\"node4\" class=\"node\">\n<title>CSwap</title>\n<polygon fill=\"none\" stroke=\"black\" points=\"91,-104 91,-121 127,-121 127,-104 91,-104\"/>\n<text text-anchor=\"start\" x=\"94\" y=\"-110\" font-family=\"Times,serif\" font-size=\"10.00\">CSwap</text>\n<polygon fill=\"none\" stroke=\"black\" points=\"91,-83 91,-104 127,-104 127,-83 91,-83\"/>\n<text text-anchor=\"start\" x=\"99.5\" y=\"-89.8\" font-family=\"Times,serif\" font-size=\"14.00\">ctrl</text>\n<polygon fill=\"none\" stroke=\"black\" points=\"91,-62 91,-83 127,-83 127,-62 91,-62\"/>\n<text text-anchor=\"start\" x=\"105.5\" y=\"-68.8\" font-family=\"Times,serif\" font-size=\"14.00\">x</text>\n<polygon fill=\"none\" stroke=\"black\" points=\"91,-41 91,-62 127,-62 127,-41 91,-41\"/>\n<text text-anchor=\"start\" x=\"105.5\" y=\"-47.8\" font-family=\"Times,serif\" font-size=\"14.00\">y</text>\n</g>\n<!-- ctrl_G7&#45;&gt;CSwap -->\n<g id=\"edge1\" class=\"edge\">\n<title>ctrl_G7:e-&gt;CSwap:w</title>\n<path fill=\"none\" stroke=\"black\" d=\"M54,-126C74.89,-126 69.72,-96.45 88.58,-94.14\"/>\n<ellipse fill=\"black\" stroke=\"black\" cx=\"90\" cy=\"-94.06\" rx=\"1\" ry=\"1\"/>\n<text text-anchor=\"middle\" x=\"72.5\" y=\"-113\" font-family=\"Times,serif\" font-size=\"10.00\">1</text>\n</g>\n<!-- x_G8 -->\n<g id=\"node2\" class=\"node\">\n<title>x_G8</title>\n<text text-anchor=\"middle\" x=\"27\" y=\"-68.3\" font-family=\"Times,serif\" font-size=\"14.00\">x</text>\n</g>\n<!-- x_G8&#45;&gt;CSwap -->\n<g id=\"edge2\" class=\"edge\">\n<title>x_G8:e-&gt;CSwap:w</title>\n<path fill=\"none\" stroke=\"black\" d=\"M54,-72C69.67,-72 74.14,-72 88.77,-72\"/>\n<ellipse fill=\"black\" stroke=\"black\" cx=\"90\" cy=\"-72\" rx=\"1\" ry=\"1\"/>\n<text text-anchor=\"middle\" x=\"72.5\" y=\"-75\" font-family=\"Times,serif\" font-size=\"10.00\">64</text>\n</g>\n<!-- y_G5 -->\n<g id=\"node3\" class=\"node\">\n<title>y_G5</title>\n<text text-anchor=\"middle\" x=\"27\" y=\"-14.3\" font-family=\"Times,serif\" font-size=\"14.00\">y</text>\n</g>\n<!-- y_G5&#45;&gt;CSwap -->\n<g id=\"edge3\" class=\"edge\">\n<title>y_G5:e-&gt;CSwap:w</title>\n<path fill=\"none\" stroke=\"black\" d=\"M54,-18C75.17,-18 69.47,-48.47 88.55,-50.85\"/>\n<ellipse fill=\"black\" stroke=\"black\" cx=\"90\" cy=\"-50.94\" rx=\"1\" ry=\"1\"/>\n<text text-anchor=\"middle\" x=\"72.5\" y=\"-39\" font-family=\"Times,serif\" font-size=\"10.00\">64</text>\n</g>\n<!-- ctrl_G0 -->\n<g id=\"node5\" class=\"node\">\n<title>ctrl_G0</title>\n<text text-anchor=\"middle\" x=\"191\" y=\"-122.3\" font-family=\"Times,serif\" font-size=\"14.00\">ctrl</text>\n</g>\n<!-- CSwap&#45;&gt;ctrl_G0 -->\n<g id=\"edge4\" class=\"edge\">\n<title>CSwap:e-&gt;ctrl_G0:w</title>\n<path fill=\"none\" stroke=\"black\" d=\"M127,-94C147.89,-94 142.72,-123.55 161.58,-125.86\"/>\n<ellipse fill=\"black\" stroke=\"black\" cx=\"163\" cy=\"-125.94\" rx=\"1\" ry=\"1\"/>\n<text text-anchor=\"middle\" x=\"145.5\" y=\"-113\" font-family=\"Times,serif\" font-size=\"10.00\">1</text>\n</g>\n<!-- x_G1 -->\n<g id=\"node6\" class=\"node\">\n<title>x_G1</title>\n<text text-anchor=\"middle\" x=\"191\" y=\"-68.3\" font-family=\"Times,serif\" font-size=\"14.00\">x</text>\n</g>\n<!-- CSwap&#45;&gt;x_G1 -->\n<g id=\"edge5\" class=\"edge\">\n<title>CSwap:e-&gt;x_G1:w</title>\n<path fill=\"none\" stroke=\"black\" d=\"M127,-72C142.67,-72 147.14,-72 161.77,-72\"/>\n<ellipse fill=\"black\" stroke=\"black\" cx=\"163\" cy=\"-72\" rx=\"1\" ry=\"1\"/>\n<text text-anchor=\"middle\" x=\"145.5\" y=\"-75\" font-family=\"Times,serif\" font-size=\"10.00\">64</text>\n</g>\n<!-- y_G4 -->\n<g id=\"node7\" class=\"node\">\n<title>y_G4</title>\n<text text-anchor=\"middle\" x=\"191\" y=\"-14.3\" font-family=\"Times,serif\" font-size=\"14.00\">y</text>\n</g>\n<!-- CSwap&#45;&gt;y_G4 -->\n<g id=\"edge6\" class=\"edge\">\n<title>CSwap:e-&gt;y_G4:w</title>\n<path fill=\"none\" stroke=\"black\" d=\"M127,-51C148.17,-51 142.47,-20.53 161.55,-18.15\"/>\n<ellipse fill=\"black\" stroke=\"black\" cx=\"163\" cy=\"-18.06\" rx=\"1\" ry=\"1\"/>\n<text text-anchor=\"middle\" x=\"145.5\" y=\"-39\" font-family=\"Times,serif\" font-size=\"10.00\">64</text>\n</g>\n</g>\n</svg>",
          "text/plain": "<IPython.core.display.SVG object>"
         },
         "metadata": {},
         "output_type": "display_data"
        }
       ],
       "tabbable": null,
       "tooltip": null
      }
     },
     "0b4caa1dd7cd4a628f243ec55f8565cf": {
      "model_module": "@jupyter-widgets/base",
      "model_module_version": "2.0.0",
      "model_name": "LayoutModel",
      "state": {
       "_model_module": "@jupyter-widgets/base",
       "_model_module_version": "2.0.0",
       "_model_name": "LayoutModel",
       "_view_count": null,
       "_view_module": "@jupyter-widgets/base",
       "_view_module_version": "2.0.0",
       "_view_name": "LayoutView",
       "align_content": null,
       "align_items": null,
       "align_self": null,
       "border_bottom": null,
       "border_left": null,
       "border_right": null,
       "border_top": null,
       "bottom": null,
       "display": null,
       "flex": null,
       "flex_flow": null,
       "grid_area": null,
       "grid_auto_columns": null,
       "grid_auto_flow": null,
       "grid_auto_rows": null,
       "grid_column": null,
       "grid_gap": null,
       "grid_row": null,
       "grid_template_areas": null,
       "grid_template_columns": null,
       "grid_template_rows": null,
       "height": null,
       "justify_content": null,
       "justify_items": null,
       "left": null,
       "margin": null,
       "max_height": null,
       "max_width": null,
       "min_height": null,
       "min_width": null,
       "object_fit": null,
       "object_position": null,
       "order": null,
       "overflow": null,
       "padding": null,
       "right": null,
       "top": null,
       "visibility": null,
       "width": null
      }
     },
     "0f5211c684274025aa23cbc4cf3c23f5": {
      "model_module": "@jupyter-widgets/base",
      "model_module_version": "2.0.0",
      "model_name": "LayoutModel",
      "state": {
       "_model_module": "@jupyter-widgets/base",
       "_model_module_version": "2.0.0",
       "_model_name": "LayoutModel",
       "_view_count": null,
       "_view_module": "@jupyter-widgets/base",
       "_view_module_version": "2.0.0",
       "_view_name": "LayoutView",
       "align_content": null,
       "align_items": null,
       "align_self": null,
       "border_bottom": null,
       "border_left": null,
       "border_right": null,
       "border_top": null,
       "bottom": null,
       "display": null,
       "flex": null,
       "flex_flow": null,
       "grid_area": null,
       "grid_auto_columns": null,
       "grid_auto_flow": null,
       "grid_auto_rows": null,
       "grid_column": null,
       "grid_gap": null,
       "grid_row": null,
       "grid_template_areas": null,
       "grid_template_columns": null,
       "grid_template_rows": null,
       "height": null,
       "justify_content": null,
       "justify_items": null,
       "left": null,
       "margin": null,
       "max_height": null,
       "max_width": null,
       "min_height": null,
       "min_width": null,
       "object_fit": null,
       "object_position": null,
       "order": null,
       "overflow": null,
       "padding": null,
       "right": null,
       "top": null,
       "visibility": null,
       "width": null
      }
     },
     "0ffe06bc707a4427884060c2f67ba380": {
      "model_module": "@jupyter-widgets/controls",
      "model_module_version": "2.0.0",
      "model_name": "HBoxModel",
      "state": {
       "_dom_classes": [],
       "_model_module": "@jupyter-widgets/controls",
       "_model_module_version": "2.0.0",
       "_model_name": "HBoxModel",
       "_view_count": null,
       "_view_module": "@jupyter-widgets/controls",
       "_view_module_version": "2.0.0",
       "_view_name": "HBoxView",
       "box_style": "",
       "children": [
        "IPY_MODEL_8a90d5b523ed45cfab7da9aa434a0f3c"
       ],
       "layout": "IPY_MODEL_0f5211c684274025aa23cbc4cf3c23f5",
       "tabbable": null,
       "tooltip": null
      }
     },
     "232227ec92da4ffeb7bd39acef079d0f": {
      "model_module": "@jupyter-widgets/base",
      "model_module_version": "2.0.0",
      "model_name": "LayoutModel",
      "state": {
       "_model_module": "@jupyter-widgets/base",
       "_model_module_version": "2.0.0",
       "_model_name": "LayoutModel",
       "_view_count": null,
       "_view_module": "@jupyter-widgets/base",
       "_view_module_version": "2.0.0",
       "_view_name": "LayoutView",
       "align_content": null,
       "align_items": null,
       "align_self": null,
       "border_bottom": null,
       "border_left": null,
       "border_right": null,
       "border_top": null,
       "bottom": null,
       "display": null,
       "flex": null,
       "flex_flow": null,
       "grid_area": null,
       "grid_auto_columns": null,
       "grid_auto_flow": null,
       "grid_auto_rows": null,
       "grid_column": null,
       "grid_gap": null,
       "grid_row": null,
       "grid_template_areas": null,
       "grid_template_columns": null,
       "grid_template_rows": null,
       "height": null,
       "justify_content": null,
       "justify_items": null,
       "left": null,
       "margin": null,
       "max_height": null,
       "max_width": null,
       "min_height": null,
       "min_width": null,
       "object_fit": null,
       "object_position": null,
       "order": null,
       "overflow": null,
       "padding": null,
       "right": null,
       "top": null,
       "visibility": null,
       "width": null
      }
     },
     "2d6ec5a2adbf49778f052335d1c08789": {
      "model_module": "@jupyter-widgets/base",
      "model_module_version": "2.0.0",
      "model_name": "LayoutModel",
      "state": {
       "_model_module": "@jupyter-widgets/base",
       "_model_module_version": "2.0.0",
       "_model_name": "LayoutModel",
       "_view_count": null,
       "_view_module": "@jupyter-widgets/base",
       "_view_module_version": "2.0.0",
       "_view_name": "LayoutView",
       "align_content": null,
       "align_items": null,
       "align_self": null,
       "border_bottom": null,
       "border_left": null,
       "border_right": null,
       "border_top": null,
       "bottom": null,
       "display": null,
       "flex": null,
       "flex_flow": null,
       "grid_area": null,
       "grid_auto_columns": null,
       "grid_auto_flow": null,
       "grid_auto_rows": null,
       "grid_column": null,
       "grid_gap": null,
       "grid_row": null,
       "grid_template_areas": null,
       "grid_template_columns": null,
       "grid_template_rows": null,
       "height": null,
       "justify_content": null,
       "justify_items": null,
       "left": null,
       "margin": null,
       "max_height": null,
       "max_width": null,
       "min_height": null,
       "min_width": null,
       "object_fit": null,
       "object_position": null,
       "order": null,
       "overflow": null,
       "padding": null,
       "right": null,
       "top": null,
       "visibility": null,
       "width": null
      }
     },
     "42b3bd10399b4f1d8b2433e25ee55016": {
      "model_module": "@jupyter-widgets/output",
      "model_module_version": "1.0.0",
      "model_name": "OutputModel",
      "state": {
       "_dom_classes": [],
       "_model_module": "@jupyter-widgets/output",
       "_model_module_version": "1.0.0",
       "_model_name": "OutputModel",
       "_view_count": null,
       "_view_module": "@jupyter-widgets/output",
       "_view_module_version": "1.0.0",
       "_view_name": "OutputView",
       "layout": "IPY_MODEL_5788d12046644fc0915d47303e945bb8",
       "msg_id": "",
       "outputs": [
        {
         "data": {
          "text/markdown": "`swap`",
          "text/plain": "<IPython.core.display.Markdown object>"
         },
         "metadata": {},
         "output_type": "display_data"
        },
        {
         "data": {
          "image/svg+xml": "<svg xmlns=\"http://www.w3.org/2000/svg\" xmlns:xlink=\"http://www.w3.org/1999/xlink\" width=\"219pt\" height=\"98pt\" viewBox=\"0.00 0.00 219.00 98.00\">\n<g id=\"graph0\" class=\"graph\" transform=\"scale(1 1) rotate(0) translate(4 94)\">\n<title>my_graph</title>\n<polygon fill=\"white\" stroke=\"transparent\" points=\"-4,4 -4,-94 215,-94 215,4 -4,4\"/>\n<!-- x_G1 -->\n<g id=\"node1\" class=\"node\">\n<title>x_G1</title>\n<text text-anchor=\"middle\" x=\"27\" y=\"-68.3\" font-family=\"Times,serif\" font-size=\"14.00\">x</text>\n</g>\n<!-- Swap -->\n<g id=\"node3\" class=\"node\">\n<title>Swap</title>\n<polygon fill=\"none\" stroke=\"black\" points=\"91.5,-66 91.5,-83 120.5,-83 120.5,-66 91.5,-66\"/>\n<text text-anchor=\"start\" x=\"94.5\" y=\"-72\" font-family=\"Times,serif\" font-size=\"10.00\">Swap</text>\n<polygon fill=\"none\" stroke=\"black\" points=\"91.5,-45 91.5,-66 120.5,-66 120.5,-45 91.5,-45\"/>\n<text text-anchor=\"start\" x=\"102.5\" y=\"-51.8\" font-family=\"Times,serif\" font-size=\"14.00\">x</text>\n<polygon fill=\"none\" stroke=\"black\" points=\"91.5,-24 91.5,-45 120.5,-45 120.5,-24 91.5,-24\"/>\n<text text-anchor=\"start\" x=\"102.5\" y=\"-30.8\" font-family=\"Times,serif\" font-size=\"14.00\">y</text>\n</g>\n<!-- x_G1&#45;&gt;Swap -->\n<g id=\"edge1\" class=\"edge\">\n<title>x_G1:e-&gt;Swap:w</title>\n<path fill=\"none\" stroke=\"black\" d=\"M54,-72C71.22,-72 72.97,-57.23 88.98,-56.07\"/>\n<ellipse fill=\"black\" stroke=\"black\" cx=\"90\" cy=\"-56.04\" rx=\"1\" ry=\"1\"/>\n<text text-anchor=\"middle\" x=\"72.5\" y=\"-67\" font-family=\"Times,serif\" font-size=\"10.00\">n</text>\n</g>\n<!-- y_G2 -->\n<g id=\"node2\" class=\"node\">\n<title>y_G2</title>\n<text text-anchor=\"middle\" x=\"27\" y=\"-14.3\" font-family=\"Times,serif\" font-size=\"14.00\">y</text>\n</g>\n<!-- y_G2&#45;&gt;Swap -->\n<g id=\"edge2\" class=\"edge\">\n<title>y_G2:e-&gt;Swap:w</title>\n<path fill=\"none\" stroke=\"black\" d=\"M54,-18C71.22,-18 72.97,-32.77 88.98,-33.93\"/>\n<ellipse fill=\"black\" stroke=\"black\" cx=\"90\" cy=\"-33.96\" rx=\"1\" ry=\"1\"/>\n<text text-anchor=\"middle\" x=\"72.5\" y=\"-29\" font-family=\"Times,serif\" font-size=\"10.00\">n</text>\n</g>\n<!-- x_G5 -->\n<g id=\"node4\" class=\"node\">\n<title>x_G5</title>\n<text text-anchor=\"middle\" x=\"184\" y=\"-68.3\" font-family=\"Times,serif\" font-size=\"14.00\">x</text>\n</g>\n<!-- Swap&#45;&gt;x_G5 -->\n<g id=\"edge3\" class=\"edge\">\n<title>Swap:e-&gt;x_G5:w</title>\n<path fill=\"none\" stroke=\"black\" d=\"M120,-56C137.22,-56 138.97,-70.77 154.98,-71.93\"/>\n<ellipse fill=\"black\" stroke=\"black\" cx=\"156\" cy=\"-71.96\" rx=\"1\" ry=\"1\"/>\n<text text-anchor=\"middle\" x=\"138.5\" y=\"-67\" font-family=\"Times,serif\" font-size=\"10.00\">n</text>\n</g>\n<!-- y_G4 -->\n<g id=\"node5\" class=\"node\">\n<title>y_G4</title>\n<text text-anchor=\"middle\" x=\"184\" y=\"-14.3\" font-family=\"Times,serif\" font-size=\"14.00\">y</text>\n</g>\n<!-- Swap&#45;&gt;y_G4 -->\n<g id=\"edge4\" class=\"edge\">\n<title>Swap:e-&gt;y_G4:w</title>\n<path fill=\"none\" stroke=\"black\" d=\"M120,-34C137.22,-34 138.97,-19.23 154.98,-18.07\"/>\n<ellipse fill=\"black\" stroke=\"black\" cx=\"156\" cy=\"-18.04\" rx=\"1\" ry=\"1\"/>\n<text text-anchor=\"middle\" x=\"138.5\" y=\"-29\" font-family=\"Times,serif\" font-size=\"10.00\">n</text>\n</g>\n</g>\n</svg>",
          "text/plain": "<IPython.core.display.SVG object>"
         },
         "metadata": {},
         "output_type": "display_data"
        }
       ],
       "tabbable": null,
       "tooltip": null
      }
     },
     "5788d12046644fc0915d47303e945bb8": {
      "model_module": "@jupyter-widgets/base",
      "model_module_version": "2.0.0",
      "model_name": "LayoutModel",
      "state": {
       "_model_module": "@jupyter-widgets/base",
       "_model_module_version": "2.0.0",
       "_model_name": "LayoutModel",
       "_view_count": null,
       "_view_module": "@jupyter-widgets/base",
       "_view_module_version": "2.0.0",
       "_view_name": "LayoutView",
       "align_content": null,
       "align_items": null,
       "align_self": null,
       "border_bottom": null,
       "border_left": null,
       "border_right": null,
       "border_top": null,
       "bottom": null,
       "display": null,
       "flex": null,
       "flex_flow": null,
       "grid_area": null,
       "grid_auto_columns": null,
       "grid_auto_flow": null,
       "grid_auto_rows": null,
       "grid_column": null,
       "grid_gap": null,
       "grid_row": null,
       "grid_template_areas": null,
       "grid_template_columns": null,
       "grid_template_rows": null,
       "height": null,
       "justify_content": null,
       "justify_items": null,
       "left": null,
       "margin": null,
       "max_height": null,
       "max_width": null,
       "min_height": null,
       "min_width": null,
       "object_fit": null,
       "object_position": null,
       "order": null,
       "overflow": null,
       "padding": null,
       "right": null,
       "top": null,
       "visibility": null,
       "width": null
      }
     },
     "5c26a68efb044ffabd279e095659502f": {
      "model_module": "@jupyter-widgets/base",
      "model_module_version": "2.0.0",
      "model_name": "LayoutModel",
      "state": {
       "_model_module": "@jupyter-widgets/base",
       "_model_module_version": "2.0.0",
       "_model_name": "LayoutModel",
       "_view_count": null,
       "_view_module": "@jupyter-widgets/base",
       "_view_module_version": "2.0.0",
       "_view_name": "LayoutView",
       "align_content": null,
       "align_items": null,
       "align_self": null,
       "border_bottom": null,
       "border_left": null,
       "border_right": null,
       "border_top": null,
       "bottom": null,
       "display": null,
       "flex": null,
       "flex_flow": null,
       "grid_area": null,
       "grid_auto_columns": null,
       "grid_auto_flow": null,
       "grid_auto_rows": null,
       "grid_column": null,
       "grid_gap": null,
       "grid_row": null,
       "grid_template_areas": null,
       "grid_template_columns": null,
       "grid_template_rows": null,
       "height": null,
       "justify_content": null,
       "justify_items": null,
       "left": null,
       "margin": null,
       "max_height": null,
       "max_width": null,
       "min_height": null,
       "min_width": null,
       "object_fit": null,
       "object_position": null,
       "order": null,
       "overflow": null,
       "padding": null,
       "right": null,
       "top": null,
       "visibility": null,
       "width": null
      }
     },
     "77a0b6dba18e4873a26382ca4efa06ca": {
      "model_module": "@jupyter-widgets/output",
      "model_module_version": "1.0.0",
      "model_name": "OutputModel",
      "state": {
       "_dom_classes": [],
       "_model_module": "@jupyter-widgets/output",
       "_model_module_version": "1.0.0",
       "_model_name": "OutputModel",
       "_view_count": null,
       "_view_module": "@jupyter-widgets/output",
       "_view_module_version": "1.0.0",
       "_view_name": "OutputView",
       "layout": "IPY_MODEL_fb0d3108df6f4f2685576cc29d622bda",
       "msg_id": "",
       "outputs": [
        {
         "data": {
          "text/markdown": "`cswap`",
          "text/plain": "<IPython.core.display.Markdown object>"
         },
         "metadata": {},
         "output_type": "display_data"
        },
        {
         "data": {
          "image/svg+xml": "<svg xmlns=\"http://www.w3.org/2000/svg\" xmlns:xlink=\"http://www.w3.org/1999/xlink\" width=\"226pt\" height=\"152pt\" viewBox=\"0.00 0.00 226.00 152.00\">\n<g id=\"graph0\" class=\"graph\" transform=\"scale(1 1) rotate(0) translate(4 148)\">\n<title>my_graph</title>\n<polygon fill=\"white\" stroke=\"transparent\" points=\"-4,4 -4,-148 222,-148 222,4 -4,4\"/>\n<!-- ctrl_G7 -->\n<g id=\"node1\" class=\"node\">\n<title>ctrl_G7</title>\n<text text-anchor=\"middle\" x=\"27\" y=\"-122.3\" font-family=\"Times,serif\" font-size=\"14.00\">ctrl</text>\n</g>\n<!-- CSwap -->\n<g id=\"node4\" class=\"node\">\n<title>CSwap</title>\n<polygon fill=\"none\" stroke=\"black\" points=\"91,-104 91,-121 127,-121 127,-104 91,-104\"/>\n<text text-anchor=\"start\" x=\"94\" y=\"-110\" font-family=\"Times,serif\" font-size=\"10.00\">CSwap</text>\n<polygon fill=\"none\" stroke=\"black\" points=\"91,-83 91,-104 127,-104 127,-83 91,-83\"/>\n<text text-anchor=\"start\" x=\"99.5\" y=\"-89.8\" font-family=\"Times,serif\" font-size=\"14.00\">ctrl</text>\n<polygon fill=\"none\" stroke=\"black\" points=\"91,-62 91,-83 127,-83 127,-62 91,-62\"/>\n<text text-anchor=\"start\" x=\"105.5\" y=\"-68.8\" font-family=\"Times,serif\" font-size=\"14.00\">x</text>\n<polygon fill=\"none\" stroke=\"black\" points=\"91,-41 91,-62 127,-62 127,-41 91,-41\"/>\n<text text-anchor=\"start\" x=\"105.5\" y=\"-47.8\" font-family=\"Times,serif\" font-size=\"14.00\">y</text>\n</g>\n<!-- ctrl_G7&#45;&gt;CSwap -->\n<g id=\"edge1\" class=\"edge\">\n<title>ctrl_G7:e-&gt;CSwap:w</title>\n<path fill=\"none\" stroke=\"black\" d=\"M54,-126C74.89,-126 69.72,-96.45 88.58,-94.14\"/>\n<ellipse fill=\"black\" stroke=\"black\" cx=\"90\" cy=\"-94.06\" rx=\"1\" ry=\"1\"/>\n<text text-anchor=\"middle\" x=\"72.5\" y=\"-113\" font-family=\"Times,serif\" font-size=\"10.00\">1</text>\n</g>\n<!-- x_G1 -->\n<g id=\"node2\" class=\"node\">\n<title>x_G1</title>\n<text text-anchor=\"middle\" x=\"27\" y=\"-68.3\" font-family=\"Times,serif\" font-size=\"14.00\">x</text>\n</g>\n<!-- x_G1&#45;&gt;CSwap -->\n<g id=\"edge2\" class=\"edge\">\n<title>x_G1:e-&gt;CSwap:w</title>\n<path fill=\"none\" stroke=\"black\" d=\"M54,-72C69.67,-72 74.14,-72 88.77,-72\"/>\n<ellipse fill=\"black\" stroke=\"black\" cx=\"90\" cy=\"-72\" rx=\"1\" ry=\"1\"/>\n<text text-anchor=\"middle\" x=\"72.5\" y=\"-75\" font-family=\"Times,serif\" font-size=\"10.00\">n</text>\n</g>\n<!-- y_G6 -->\n<g id=\"node3\" class=\"node\">\n<title>y_G6</title>\n<text text-anchor=\"middle\" x=\"27\" y=\"-14.3\" font-family=\"Times,serif\" font-size=\"14.00\">y</text>\n</g>\n<!-- y_G6&#45;&gt;CSwap -->\n<g id=\"edge3\" class=\"edge\">\n<title>y_G6:e-&gt;CSwap:w</title>\n<path fill=\"none\" stroke=\"black\" d=\"M54,-18C75.17,-18 69.47,-48.47 88.55,-50.85\"/>\n<ellipse fill=\"black\" stroke=\"black\" cx=\"90\" cy=\"-50.94\" rx=\"1\" ry=\"1\"/>\n<text text-anchor=\"middle\" x=\"72.5\" y=\"-39\" font-family=\"Times,serif\" font-size=\"10.00\">n</text>\n</g>\n<!-- ctrl_G2 -->\n<g id=\"node5\" class=\"node\">\n<title>ctrl_G2</title>\n<text text-anchor=\"middle\" x=\"191\" y=\"-122.3\" font-family=\"Times,serif\" font-size=\"14.00\">ctrl</text>\n</g>\n<!-- CSwap&#45;&gt;ctrl_G2 -->\n<g id=\"edge4\" class=\"edge\">\n<title>CSwap:e-&gt;ctrl_G2:w</title>\n<path fill=\"none\" stroke=\"black\" d=\"M127,-94C147.89,-94 142.72,-123.55 161.58,-125.86\"/>\n<ellipse fill=\"black\" stroke=\"black\" cx=\"163\" cy=\"-125.94\" rx=\"1\" ry=\"1\"/>\n<text text-anchor=\"middle\" x=\"145.5\" y=\"-113\" font-family=\"Times,serif\" font-size=\"10.00\">1</text>\n</g>\n<!-- x_G4 -->\n<g id=\"node6\" class=\"node\">\n<title>x_G4</title>\n<text text-anchor=\"middle\" x=\"191\" y=\"-68.3\" font-family=\"Times,serif\" font-size=\"14.00\">x</text>\n</g>\n<!-- CSwap&#45;&gt;x_G4 -->\n<g id=\"edge5\" class=\"edge\">\n<title>CSwap:e-&gt;x_G4:w</title>\n<path fill=\"none\" stroke=\"black\" d=\"M127,-72C142.67,-72 147.14,-72 161.77,-72\"/>\n<ellipse fill=\"black\" stroke=\"black\" cx=\"163\" cy=\"-72\" rx=\"1\" ry=\"1\"/>\n<text text-anchor=\"middle\" x=\"145.5\" y=\"-75\" font-family=\"Times,serif\" font-size=\"10.00\">n</text>\n</g>\n<!-- y_G8 -->\n<g id=\"node7\" class=\"node\">\n<title>y_G8</title>\n<text text-anchor=\"middle\" x=\"191\" y=\"-14.3\" font-family=\"Times,serif\" font-size=\"14.00\">y</text>\n</g>\n<!-- CSwap&#45;&gt;y_G8 -->\n<g id=\"edge6\" class=\"edge\">\n<title>CSwap:e-&gt;y_G8:w</title>\n<path fill=\"none\" stroke=\"black\" d=\"M127,-51C148.17,-51 142.47,-20.53 161.55,-18.15\"/>\n<ellipse fill=\"black\" stroke=\"black\" cx=\"163\" cy=\"-18.06\" rx=\"1\" ry=\"1\"/>\n<text text-anchor=\"middle\" x=\"145.5\" y=\"-39\" font-family=\"Times,serif\" font-size=\"10.00\">n</text>\n</g>\n</g>\n</svg>",
          "text/plain": "<IPython.core.display.SVG object>"
         },
         "metadata": {},
         "output_type": "display_data"
        }
       ],
       "tabbable": null,
       "tooltip": null
      }
     },
     "7e199f43260c44b4843fe2e89b65dfa0": {
      "model_module": "@jupyter-widgets/base",
      "model_module_version": "2.0.0",
      "model_name": "LayoutModel",
      "state": {
       "_model_module": "@jupyter-widgets/base",
       "_model_module_version": "2.0.0",
       "_model_name": "LayoutModel",
       "_view_count": null,
       "_view_module": "@jupyter-widgets/base",
       "_view_module_version": "2.0.0",
       "_view_name": "LayoutView",
       "align_content": null,
       "align_items": null,
       "align_self": null,
       "border_bottom": null,
       "border_left": null,
       "border_right": null,
       "border_top": null,
       "bottom": null,
       "display": null,
       "flex": null,
       "flex_flow": null,
       "grid_area": null,
       "grid_auto_columns": null,
       "grid_auto_flow": null,
       "grid_auto_rows": null,
       "grid_column": null,
       "grid_gap": null,
       "grid_row": null,
       "grid_template_areas": null,
       "grid_template_columns": null,
       "grid_template_rows": null,
       "height": null,
       "justify_content": null,
       "justify_items": null,
       "left": null,
       "margin": null,
       "max_height": null,
       "max_width": null,
       "min_height": null,
       "min_width": null,
       "object_fit": null,
       "object_position": null,
       "order": null,
       "overflow": null,
       "padding": null,
       "right": null,
       "top": null,
       "visibility": null,
       "width": null
      }
     },
     "8a90d5b523ed45cfab7da9aa434a0f3c": {
      "model_module": "@jupyter-widgets/output",
      "model_module_version": "1.0.0",
      "model_name": "OutputModel",
      "state": {
       "_dom_classes": [],
       "_model_module": "@jupyter-widgets/output",
       "_model_module_version": "1.0.0",
       "_model_name": "OutputModel",
       "_view_count": null,
       "_view_module": "@jupyter-widgets/output",
       "_view_module_version": "1.0.0",
       "_view_name": "OutputView",
       "layout": "IPY_MODEL_fb5803d73bb8456cb81d619ce5f82ceb",
       "msg_id": "",
       "outputs": [
        {
         "data": {
          "text/markdown": "`cswap_bit`",
          "text/plain": "<IPython.core.display.Markdown object>"
         },
         "metadata": {},
         "output_type": "display_data"
        },
        {
         "data": {
          "image/svg+xml": "<svg xmlns=\"http://www.w3.org/2000/svg\" xmlns:xlink=\"http://www.w3.org/1999/xlink\" width=\"257pt\" height=\"152pt\" viewBox=\"0.00 0.00 257.00 152.00\">\n<g id=\"graph0\" class=\"graph\" transform=\"scale(1 1) rotate(0) translate(4 148)\">\n<title>my_graph</title>\n<polygon fill=\"white\" stroke=\"transparent\" points=\"-4,4 -4,-148 253,-148 253,4 -4,4\"/>\n<!-- ctrl_G8 -->\n<g id=\"node1\" class=\"node\">\n<title>ctrl_G8</title>\n<text text-anchor=\"middle\" x=\"27\" y=\"-122.3\" font-family=\"Times,serif\" font-size=\"14.00\">ctrl</text>\n</g>\n<!-- TwoBitCSwap -->\n<g id=\"node4\" class=\"node\">\n<title>TwoBitCSwap</title>\n<polygon fill=\"none\" stroke=\"black\" points=\"91.5,-104 91.5,-121 158.5,-121 158.5,-104 91.5,-104\"/>\n<text text-anchor=\"start\" x=\"94.5\" y=\"-110\" font-family=\"Times,serif\" font-size=\"10.00\">TwoBitCSwap</text>\n<polygon fill=\"none\" stroke=\"black\" points=\"91.5,-83 91.5,-104 158.5,-104 158.5,-83 91.5,-83\"/>\n<text text-anchor=\"start\" x=\"115.5\" y=\"-89.8\" font-family=\"Times,serif\" font-size=\"14.00\">ctrl</text>\n<polygon fill=\"none\" stroke=\"black\" points=\"91.5,-62 91.5,-83 158.5,-83 158.5,-62 91.5,-62\"/>\n<text text-anchor=\"start\" x=\"121.5\" y=\"-68.8\" font-family=\"Times,serif\" font-size=\"14.00\">x</text>\n<polygon fill=\"none\" stroke=\"black\" points=\"91.5,-41 91.5,-62 158.5,-62 158.5,-41 91.5,-41\"/>\n<text text-anchor=\"start\" x=\"121.5\" y=\"-47.8\" font-family=\"Times,serif\" font-size=\"14.00\">y</text>\n</g>\n<!-- ctrl_G8&#45;&gt;TwoBitCSwap -->\n<g id=\"edge1\" class=\"edge\">\n<title>ctrl_G8:e-&gt;TwoBitCSwap:w</title>\n<path fill=\"none\" stroke=\"black\" d=\"M54,-126C74.89,-126 69.72,-96.45 88.58,-94.14\"/>\n<ellipse fill=\"black\" stroke=\"black\" cx=\"90\" cy=\"-94.06\" rx=\"1\" ry=\"1\"/>\n<text text-anchor=\"middle\" x=\"72.5\" y=\"-113\" font-family=\"Times,serif\" font-size=\"10.00\">1</text>\n</g>\n<!-- x_G0 -->\n<g id=\"node2\" class=\"node\">\n<title>x_G0</title>\n<text text-anchor=\"middle\" x=\"27\" y=\"-68.3\" font-family=\"Times,serif\" font-size=\"14.00\">x</text>\n</g>\n<!-- x_G0&#45;&gt;TwoBitCSwap -->\n<g id=\"edge2\" class=\"edge\">\n<title>x_G0:e-&gt;TwoBitCSwap:w</title>\n<path fill=\"none\" stroke=\"black\" d=\"M54,-72C69.67,-72 74.14,-72 88.77,-72\"/>\n<ellipse fill=\"black\" stroke=\"black\" cx=\"90\" cy=\"-72\" rx=\"1\" ry=\"1\"/>\n<text text-anchor=\"middle\" x=\"72.5\" y=\"-75\" font-family=\"Times,serif\" font-size=\"10.00\">1</text>\n</g>\n<!-- y_G1 -->\n<g id=\"node3\" class=\"node\">\n<title>y_G1</title>\n<text text-anchor=\"middle\" x=\"27\" y=\"-14.3\" font-family=\"Times,serif\" font-size=\"14.00\">y</text>\n</g>\n<!-- y_G1&#45;&gt;TwoBitCSwap -->\n<g id=\"edge3\" class=\"edge\">\n<title>y_G1:e-&gt;TwoBitCSwap:w</title>\n<path fill=\"none\" stroke=\"black\" d=\"M54,-18C75.17,-18 69.47,-48.47 88.55,-50.85\"/>\n<ellipse fill=\"black\" stroke=\"black\" cx=\"90\" cy=\"-50.94\" rx=\"1\" ry=\"1\"/>\n<text text-anchor=\"middle\" x=\"72.5\" y=\"-39\" font-family=\"Times,serif\" font-size=\"10.00\">1</text>\n</g>\n<!-- ctrl_G2 -->\n<g id=\"node5\" class=\"node\">\n<title>ctrl_G2</title>\n<text text-anchor=\"middle\" x=\"222\" y=\"-122.3\" font-family=\"Times,serif\" font-size=\"14.00\">ctrl</text>\n</g>\n<!-- TwoBitCSwap&#45;&gt;ctrl_G2 -->\n<g id=\"edge4\" class=\"edge\">\n<title>TwoBitCSwap:e-&gt;ctrl_G2:w</title>\n<path fill=\"none\" stroke=\"black\" d=\"M158,-94C178.89,-94 173.72,-123.55 192.58,-125.86\"/>\n<ellipse fill=\"black\" stroke=\"black\" cx=\"194\" cy=\"-125.94\" rx=\"1\" ry=\"1\"/>\n<text text-anchor=\"middle\" x=\"176.5\" y=\"-113\" font-family=\"Times,serif\" font-size=\"10.00\">1</text>\n</g>\n<!-- x_G6 -->\n<g id=\"node6\" class=\"node\">\n<title>x_G6</title>\n<text text-anchor=\"middle\" x=\"222\" y=\"-68.3\" font-family=\"Times,serif\" font-size=\"14.00\">x</text>\n</g>\n<!-- TwoBitCSwap&#45;&gt;x_G6 -->\n<g id=\"edge5\" class=\"edge\">\n<title>TwoBitCSwap:e-&gt;x_G6:w</title>\n<path fill=\"none\" stroke=\"black\" d=\"M158,-72C173.67,-72 178.14,-72 192.77,-72\"/>\n<ellipse fill=\"black\" stroke=\"black\" cx=\"194\" cy=\"-72\" rx=\"1\" ry=\"1\"/>\n<text text-anchor=\"middle\" x=\"176.5\" y=\"-75\" font-family=\"Times,serif\" font-size=\"10.00\">1</text>\n</g>\n<!-- y_G4 -->\n<g id=\"node7\" class=\"node\">\n<title>y_G4</title>\n<text text-anchor=\"middle\" x=\"222\" y=\"-14.3\" font-family=\"Times,serif\" font-size=\"14.00\">y</text>\n</g>\n<!-- TwoBitCSwap&#45;&gt;y_G4 -->\n<g id=\"edge6\" class=\"edge\">\n<title>TwoBitCSwap:e-&gt;y_G4:w</title>\n<path fill=\"none\" stroke=\"black\" d=\"M158,-51C179.17,-51 173.47,-20.53 192.55,-18.15\"/>\n<ellipse fill=\"black\" stroke=\"black\" cx=\"194\" cy=\"-18.06\" rx=\"1\" ry=\"1\"/>\n<text text-anchor=\"middle\" x=\"176.5\" y=\"-39\" font-family=\"Times,serif\" font-size=\"10.00\">1</text>\n</g>\n</g>\n</svg>",
          "text/plain": "<IPython.core.display.SVG object>"
         },
         "metadata": {},
         "output_type": "display_data"
        }
       ],
       "tabbable": null,
       "tooltip": null
      }
     },
     "999ff25823e04dcd9e75d36c6c78e6b7": {
      "model_module": "@jupyter-widgets/controls",
      "model_module_version": "2.0.0",
      "model_name": "HBoxModel",
      "state": {
       "_dom_classes": [],
       "_model_module": "@jupyter-widgets/controls",
       "_model_module_version": "2.0.0",
       "_model_name": "HBoxModel",
       "_view_count": null,
       "_view_module": "@jupyter-widgets/controls",
       "_view_module_version": "2.0.0",
       "_view_name": "HBoxView",
       "box_style": "",
       "children": [
        "IPY_MODEL_42b3bd10399b4f1d8b2433e25ee55016",
        "IPY_MODEL_d66c911dfcf14ab49428e8d58c7ae7eb",
        "IPY_MODEL_e3554e57eb054a0cb43cd9ace60ccaca"
       ],
       "layout": "IPY_MODEL_0b4caa1dd7cd4a628f243ec55f8565cf",
       "tabbable": null,
       "tooltip": null
      }
     },
     "aef935e963404a0a9e2d0aa78dbf2b78": {
      "model_module": "@jupyter-widgets/output",
      "model_module_version": "1.0.0",
      "model_name": "OutputModel",
      "state": {
       "_dom_classes": [],
       "_model_module": "@jupyter-widgets/output",
       "_model_module_version": "1.0.0",
       "_model_name": "OutputModel",
       "_view_count": null,
       "_view_module": "@jupyter-widgets/output",
       "_view_module_version": "1.0.0",
       "_view_name": "OutputView",
       "layout": "IPY_MODEL_232227ec92da4ffeb7bd39acef079d0f",
       "msg_id": "",
       "outputs": [
        {
         "data": {
          "text/markdown": "`cswap_small`",
          "text/plain": "<IPython.core.display.Markdown object>"
         },
         "metadata": {},
         "output_type": "display_data"
        },
        {
         "data": {
          "image/svg+xml": "<svg xmlns=\"http://www.w3.org/2000/svg\" xmlns:xlink=\"http://www.w3.org/1999/xlink\" width=\"226pt\" height=\"152pt\" viewBox=\"0.00 0.00 226.00 152.00\">\n<g id=\"graph0\" class=\"graph\" transform=\"scale(1 1) rotate(0) translate(4 148)\">\n<title>my_graph</title>\n<polygon fill=\"white\" stroke=\"transparent\" points=\"-4,4 -4,-148 222,-148 222,4 -4,4\"/>\n<!-- ctrl_G7 -->\n<g id=\"node1\" class=\"node\">\n<title>ctrl_G7</title>\n<text text-anchor=\"middle\" x=\"27\" y=\"-122.3\" font-family=\"Times,serif\" font-size=\"14.00\">ctrl</text>\n</g>\n<!-- CSwap -->\n<g id=\"node4\" class=\"node\">\n<title>CSwap</title>\n<polygon fill=\"none\" stroke=\"black\" points=\"91,-104 91,-121 127,-121 127,-104 91,-104\"/>\n<text text-anchor=\"start\" x=\"94\" y=\"-110\" font-family=\"Times,serif\" font-size=\"10.00\">CSwap</text>\n<polygon fill=\"none\" stroke=\"black\" points=\"91,-83 91,-104 127,-104 127,-83 91,-83\"/>\n<text text-anchor=\"start\" x=\"99.5\" y=\"-89.8\" font-family=\"Times,serif\" font-size=\"14.00\">ctrl</text>\n<polygon fill=\"none\" stroke=\"black\" points=\"91,-62 91,-83 127,-83 127,-62 91,-62\"/>\n<text text-anchor=\"start\" x=\"105.5\" y=\"-68.8\" font-family=\"Times,serif\" font-size=\"14.00\">x</text>\n<polygon fill=\"none\" stroke=\"black\" points=\"91,-41 91,-62 127,-62 127,-41 91,-41\"/>\n<text text-anchor=\"start\" x=\"105.5\" y=\"-47.8\" font-family=\"Times,serif\" font-size=\"14.00\">y</text>\n</g>\n<!-- ctrl_G7&#45;&gt;CSwap -->\n<g id=\"edge1\" class=\"edge\">\n<title>ctrl_G7:e-&gt;CSwap:w</title>\n<path fill=\"none\" stroke=\"black\" d=\"M54,-126C74.89,-126 69.72,-96.45 88.58,-94.14\"/>\n<ellipse fill=\"black\" stroke=\"black\" cx=\"90\" cy=\"-94.06\" rx=\"1\" ry=\"1\"/>\n<text text-anchor=\"middle\" x=\"72.5\" y=\"-113\" font-family=\"Times,serif\" font-size=\"10.00\">1</text>\n</g>\n<!-- x_G4 -->\n<g id=\"node2\" class=\"node\">\n<title>x_G4</title>\n<text text-anchor=\"middle\" x=\"27\" y=\"-68.3\" font-family=\"Times,serif\" font-size=\"14.00\">x</text>\n</g>\n<!-- x_G4&#45;&gt;CSwap -->\n<g id=\"edge2\" class=\"edge\">\n<title>x_G4:e-&gt;CSwap:w</title>\n<path fill=\"none\" stroke=\"black\" d=\"M54,-72C69.67,-72 74.14,-72 88.77,-72\"/>\n<ellipse fill=\"black\" stroke=\"black\" cx=\"90\" cy=\"-72\" rx=\"1\" ry=\"1\"/>\n<text text-anchor=\"middle\" x=\"72.5\" y=\"-75\" font-family=\"Times,serif\" font-size=\"10.00\">4</text>\n</g>\n<!-- y_G1 -->\n<g id=\"node3\" class=\"node\">\n<title>y_G1</title>\n<text text-anchor=\"middle\" x=\"27\" y=\"-14.3\" font-family=\"Times,serif\" font-size=\"14.00\">y</text>\n</g>\n<!-- y_G1&#45;&gt;CSwap -->\n<g id=\"edge3\" class=\"edge\">\n<title>y_G1:e-&gt;CSwap:w</title>\n<path fill=\"none\" stroke=\"black\" d=\"M54,-18C75.17,-18 69.47,-48.47 88.55,-50.85\"/>\n<ellipse fill=\"black\" stroke=\"black\" cx=\"90\" cy=\"-50.94\" rx=\"1\" ry=\"1\"/>\n<text text-anchor=\"middle\" x=\"72.5\" y=\"-39\" font-family=\"Times,serif\" font-size=\"10.00\">4</text>\n</g>\n<!-- ctrl_G3 -->\n<g id=\"node5\" class=\"node\">\n<title>ctrl_G3</title>\n<text text-anchor=\"middle\" x=\"191\" y=\"-122.3\" font-family=\"Times,serif\" font-size=\"14.00\">ctrl</text>\n</g>\n<!-- CSwap&#45;&gt;ctrl_G3 -->\n<g id=\"edge4\" class=\"edge\">\n<title>CSwap:e-&gt;ctrl_G3:w</title>\n<path fill=\"none\" stroke=\"black\" d=\"M127,-94C147.89,-94 142.72,-123.55 161.58,-125.86\"/>\n<ellipse fill=\"black\" stroke=\"black\" cx=\"163\" cy=\"-125.94\" rx=\"1\" ry=\"1\"/>\n<text text-anchor=\"middle\" x=\"145.5\" y=\"-113\" font-family=\"Times,serif\" font-size=\"10.00\">1</text>\n</g>\n<!-- x_G8 -->\n<g id=\"node6\" class=\"node\">\n<title>x_G8</title>\n<text text-anchor=\"middle\" x=\"191\" y=\"-68.3\" font-family=\"Times,serif\" font-size=\"14.00\">x</text>\n</g>\n<!-- CSwap&#45;&gt;x_G8 -->\n<g id=\"edge5\" class=\"edge\">\n<title>CSwap:e-&gt;x_G8:w</title>\n<path fill=\"none\" stroke=\"black\" d=\"M127,-72C142.67,-72 147.14,-72 161.77,-72\"/>\n<ellipse fill=\"black\" stroke=\"black\" cx=\"163\" cy=\"-72\" rx=\"1\" ry=\"1\"/>\n<text text-anchor=\"middle\" x=\"145.5\" y=\"-75\" font-family=\"Times,serif\" font-size=\"10.00\">4</text>\n</g>\n<!-- y_G5 -->\n<g id=\"node7\" class=\"node\">\n<title>y_G5</title>\n<text text-anchor=\"middle\" x=\"191\" y=\"-14.3\" font-family=\"Times,serif\" font-size=\"14.00\">y</text>\n</g>\n<!-- CSwap&#45;&gt;y_G5 -->\n<g id=\"edge6\" class=\"edge\">\n<title>CSwap:e-&gt;y_G5:w</title>\n<path fill=\"none\" stroke=\"black\" d=\"M127,-51C148.17,-51 142.47,-20.53 161.55,-18.15\"/>\n<ellipse fill=\"black\" stroke=\"black\" cx=\"163\" cy=\"-18.06\" rx=\"1\" ry=\"1\"/>\n<text text-anchor=\"middle\" x=\"145.5\" y=\"-39\" font-family=\"Times,serif\" font-size=\"10.00\">4</text>\n</g>\n</g>\n</svg>",
          "text/plain": "<IPython.core.display.SVG object>"
         },
         "metadata": {},
         "output_type": "display_data"
        }
       ],
       "tabbable": null,
       "tooltip": null
      }
     },
     "b4833bbefb4345edbd1fad65bff03e0a": {
      "model_module": "@jupyter-widgets/controls",
      "model_module_version": "2.0.0",
      "model_name": "HBoxModel",
      "state": {
       "_dom_classes": [],
       "_model_module": "@jupyter-widgets/controls",
       "_model_module_version": "2.0.0",
       "_model_name": "HBoxModel",
       "_view_count": null,
       "_view_module": "@jupyter-widgets/controls",
       "_view_module_version": "2.0.0",
       "_view_name": "HBoxView",
       "box_style": "",
       "children": [
        "IPY_MODEL_b5a5380ee75045ca81a1f46214b4dbaf"
       ],
       "layout": "IPY_MODEL_eb08ba63f7ec4ca5b623b18fed63f63d",
       "tabbable": null,
       "tooltip": null
      }
     },
     "b5a5380ee75045ca81a1f46214b4dbaf": {
      "model_module": "@jupyter-widgets/output",
      "model_module_version": "1.0.0",
      "model_name": "OutputModel",
      "state": {
       "_dom_classes": [],
       "_model_module": "@jupyter-widgets/output",
       "_model_module_version": "1.0.0",
       "_model_name": "OutputModel",
       "_view_count": null,
       "_view_module": "@jupyter-widgets/output",
       "_view_module_version": "1.0.0",
       "_view_name": "OutputView",
       "layout": "IPY_MODEL_c9946e039347401a99511f7b4f0002b2",
       "msg_id": "",
       "outputs": [
        {
         "data": {
          "text/markdown": "`swap_bit`",
          "text/plain": "<IPython.core.display.Markdown object>"
         },
         "metadata": {},
         "output_type": "display_data"
        },
        {
         "data": {
          "image/svg+xml": "<svg xmlns=\"http://www.w3.org/2000/svg\" xmlns:xlink=\"http://www.w3.org/1999/xlink\" width=\"250pt\" height=\"98pt\" viewBox=\"0.00 0.00 250.00 98.00\">\n<g id=\"graph0\" class=\"graph\" transform=\"scale(1 1) rotate(0) translate(4 94)\">\n<title>my_graph</title>\n<polygon fill=\"white\" stroke=\"transparent\" points=\"-4,4 -4,-94 246,-94 246,4 -4,4\"/>\n<!-- x_G0 -->\n<g id=\"node1\" class=\"node\">\n<title>x_G0</title>\n<text text-anchor=\"middle\" x=\"27\" y=\"-68.3\" font-family=\"Times,serif\" font-size=\"14.00\">x</text>\n</g>\n<!-- TwoBitSwap -->\n<g id=\"node3\" class=\"node\">\n<title>TwoBitSwap</title>\n<polygon fill=\"none\" stroke=\"black\" points=\"91,-66 91,-83 151,-83 151,-66 91,-66\"/>\n<text text-anchor=\"start\" x=\"94\" y=\"-72\" font-family=\"Times,serif\" font-size=\"10.00\">TwoBitSwap</text>\n<polygon fill=\"none\" stroke=\"black\" points=\"91,-45 91,-66 151,-66 151,-45 91,-45\"/>\n<text text-anchor=\"start\" x=\"117.5\" y=\"-51.8\" font-family=\"Times,serif\" font-size=\"14.00\">x</text>\n<polygon fill=\"none\" stroke=\"black\" points=\"91,-24 91,-45 151,-45 151,-24 91,-24\"/>\n<text text-anchor=\"start\" x=\"117.5\" y=\"-30.8\" font-family=\"Times,serif\" font-size=\"14.00\">y</text>\n</g>\n<!-- x_G0&#45;&gt;TwoBitSwap -->\n<g id=\"edge1\" class=\"edge\">\n<title>x_G0:e-&gt;TwoBitSwap:w</title>\n<path fill=\"none\" stroke=\"black\" d=\"M54,-72C71.22,-72 72.97,-57.23 88.98,-56.07\"/>\n<ellipse fill=\"black\" stroke=\"black\" cx=\"90\" cy=\"-56.04\" rx=\"1\" ry=\"1\"/>\n<text text-anchor=\"middle\" x=\"72.5\" y=\"-67\" font-family=\"Times,serif\" font-size=\"10.00\">1</text>\n</g>\n<!-- y_G1 -->\n<g id=\"node2\" class=\"node\">\n<title>y_G1</title>\n<text text-anchor=\"middle\" x=\"27\" y=\"-14.3\" font-family=\"Times,serif\" font-size=\"14.00\">y</text>\n</g>\n<!-- y_G1&#45;&gt;TwoBitSwap -->\n<g id=\"edge2\" class=\"edge\">\n<title>y_G1:e-&gt;TwoBitSwap:w</title>\n<path fill=\"none\" stroke=\"black\" d=\"M54,-18C71.22,-18 72.97,-32.77 88.98,-33.93\"/>\n<ellipse fill=\"black\" stroke=\"black\" cx=\"90\" cy=\"-33.96\" rx=\"1\" ry=\"1\"/>\n<text text-anchor=\"middle\" x=\"72.5\" y=\"-29\" font-family=\"Times,serif\" font-size=\"10.00\">1</text>\n</g>\n<!-- x_G2 -->\n<g id=\"node4\" class=\"node\">\n<title>x_G2</title>\n<text text-anchor=\"middle\" x=\"215\" y=\"-68.3\" font-family=\"Times,serif\" font-size=\"14.00\">x</text>\n</g>\n<!-- TwoBitSwap&#45;&gt;x_G2 -->\n<g id=\"edge3\" class=\"edge\">\n<title>TwoBitSwap:e-&gt;x_G2:w</title>\n<path fill=\"none\" stroke=\"black\" d=\"M151,-56C168.22,-56 169.97,-70.77 185.98,-71.93\"/>\n<ellipse fill=\"black\" stroke=\"black\" cx=\"187\" cy=\"-71.96\" rx=\"1\" ry=\"1\"/>\n<text text-anchor=\"middle\" x=\"169.5\" y=\"-67\" font-family=\"Times,serif\" font-size=\"10.00\">1</text>\n</g>\n<!-- y_G4 -->\n<g id=\"node5\" class=\"node\">\n<title>y_G4</title>\n<text text-anchor=\"middle\" x=\"215\" y=\"-14.3\" font-family=\"Times,serif\" font-size=\"14.00\">y</text>\n</g>\n<!-- TwoBitSwap&#45;&gt;y_G4 -->\n<g id=\"edge4\" class=\"edge\">\n<title>TwoBitSwap:e-&gt;y_G4:w</title>\n<path fill=\"none\" stroke=\"black\" d=\"M151,-34C168.22,-34 169.97,-19.23 185.98,-18.07\"/>\n<ellipse fill=\"black\" stroke=\"black\" cx=\"187\" cy=\"-18.04\" rx=\"1\" ry=\"1\"/>\n<text text-anchor=\"middle\" x=\"169.5\" y=\"-29\" font-family=\"Times,serif\" font-size=\"10.00\">1</text>\n</g>\n</g>\n</svg>",
          "text/plain": "<IPython.core.display.SVG object>"
         },
         "metadata": {},
         "output_type": "display_data"
        }
       ],
       "tabbable": null,
       "tooltip": null
      }
     },
     "c9946e039347401a99511f7b4f0002b2": {
      "model_module": "@jupyter-widgets/base",
      "model_module_version": "2.0.0",
      "model_name": "LayoutModel",
      "state": {
       "_model_module": "@jupyter-widgets/base",
       "_model_module_version": "2.0.0",
       "_model_name": "LayoutModel",
       "_view_count": null,
       "_view_module": "@jupyter-widgets/base",
       "_view_module_version": "2.0.0",
       "_view_name": "LayoutView",
       "align_content": null,
       "align_items": null,
       "align_self": null,
       "border_bottom": null,
       "border_left": null,
       "border_right": null,
       "border_top": null,
       "bottom": null,
       "display": null,
       "flex": null,
       "flex_flow": null,
       "grid_area": null,
       "grid_auto_columns": null,
       "grid_auto_flow": null,
       "grid_auto_rows": null,
       "grid_column": null,
       "grid_gap": null,
       "grid_row": null,
       "grid_template_areas": null,
       "grid_template_columns": null,
       "grid_template_rows": null,
       "height": null,
       "justify_content": null,
       "justify_items": null,
       "left": null,
       "margin": null,
       "max_height": null,
       "max_width": null,
       "min_height": null,
       "min_width": null,
       "object_fit": null,
       "object_position": null,
       "order": null,
       "overflow": null,
       "padding": null,
       "right": null,
       "top": null,
       "visibility": null,
       "width": null
      }
     },
     "d4c7d33da21f474b8ba0c59dcbc2a447": {
      "model_module": "@jupyter-widgets/base",
      "model_module_version": "2.0.0",
      "model_name": "LayoutModel",
      "state": {
       "_model_module": "@jupyter-widgets/base",
       "_model_module_version": "2.0.0",
       "_model_name": "LayoutModel",
       "_view_count": null,
       "_view_module": "@jupyter-widgets/base",
       "_view_module_version": "2.0.0",
       "_view_name": "LayoutView",
       "align_content": null,
       "align_items": null,
       "align_self": null,
       "border_bottom": null,
       "border_left": null,
       "border_right": null,
       "border_top": null,
       "bottom": null,
       "display": null,
       "flex": null,
       "flex_flow": null,
       "grid_area": null,
       "grid_auto_columns": null,
       "grid_auto_flow": null,
       "grid_auto_rows": null,
       "grid_column": null,
       "grid_gap": null,
       "grid_row": null,
       "grid_template_areas": null,
       "grid_template_columns": null,
       "grid_template_rows": null,
       "height": null,
       "justify_content": null,
       "justify_items": null,
       "left": null,
       "margin": null,
       "max_height": null,
       "max_width": null,
       "min_height": null,
       "min_width": null,
       "object_fit": null,
       "object_position": null,
       "order": null,
       "overflow": null,
       "padding": null,
       "right": null,
       "top": null,
       "visibility": null,
       "width": null
      }
     },
     "d66c911dfcf14ab49428e8d58c7ae7eb": {
      "model_module": "@jupyter-widgets/output",
      "model_module_version": "1.0.0",
      "model_name": "OutputModel",
      "state": {
       "_dom_classes": [],
       "_model_module": "@jupyter-widgets/output",
       "_model_module_version": "1.0.0",
       "_model_name": "OutputModel",
       "_view_count": null,
       "_view_module": "@jupyter-widgets/output",
       "_view_module_version": "1.0.0",
       "_view_name": "OutputView",
       "layout": "IPY_MODEL_d4c7d33da21f474b8ba0c59dcbc2a447",
       "msg_id": "",
       "outputs": [
        {
         "data": {
          "text/markdown": "`swap_small`",
          "text/plain": "<IPython.core.display.Markdown object>"
         },
         "metadata": {},
         "output_type": "display_data"
        },
        {
         "data": {
          "image/svg+xml": "<svg xmlns=\"http://www.w3.org/2000/svg\" xmlns:xlink=\"http://www.w3.org/1999/xlink\" width=\"219pt\" height=\"98pt\" viewBox=\"0.00 0.00 219.00 98.00\">\n<g id=\"graph0\" class=\"graph\" transform=\"scale(1 1) rotate(0) translate(4 94)\">\n<title>my_graph</title>\n<polygon fill=\"white\" stroke=\"transparent\" points=\"-4,4 -4,-94 215,-94 215,4 -4,4\"/>\n<!-- x_G5 -->\n<g id=\"node1\" class=\"node\">\n<title>x_G5</title>\n<text text-anchor=\"middle\" x=\"27\" y=\"-68.3\" font-family=\"Times,serif\" font-size=\"14.00\">x</text>\n</g>\n<!-- Swap -->\n<g id=\"node3\" class=\"node\">\n<title>Swap</title>\n<polygon fill=\"none\" stroke=\"black\" points=\"91.5,-66 91.5,-83 120.5,-83 120.5,-66 91.5,-66\"/>\n<text text-anchor=\"start\" x=\"94.5\" y=\"-72\" font-family=\"Times,serif\" font-size=\"10.00\">Swap</text>\n<polygon fill=\"none\" stroke=\"black\" points=\"91.5,-45 91.5,-66 120.5,-66 120.5,-45 91.5,-45\"/>\n<text text-anchor=\"start\" x=\"102.5\" y=\"-51.8\" font-family=\"Times,serif\" font-size=\"14.00\">x</text>\n<polygon fill=\"none\" stroke=\"black\" points=\"91.5,-24 91.5,-45 120.5,-45 120.5,-24 91.5,-24\"/>\n<text text-anchor=\"start\" x=\"102.5\" y=\"-30.8\" font-family=\"Times,serif\" font-size=\"14.00\">y</text>\n</g>\n<!-- x_G5&#45;&gt;Swap -->\n<g id=\"edge1\" class=\"edge\">\n<title>x_G5:e-&gt;Swap:w</title>\n<path fill=\"none\" stroke=\"black\" d=\"M54,-72C71.22,-72 72.97,-57.23 88.98,-56.07\"/>\n<ellipse fill=\"black\" stroke=\"black\" cx=\"90\" cy=\"-56.04\" rx=\"1\" ry=\"1\"/>\n<text text-anchor=\"middle\" x=\"72.5\" y=\"-67\" font-family=\"Times,serif\" font-size=\"10.00\">4</text>\n</g>\n<!-- y_G1 -->\n<g id=\"node2\" class=\"node\">\n<title>y_G1</title>\n<text text-anchor=\"middle\" x=\"27\" y=\"-14.3\" font-family=\"Times,serif\" font-size=\"14.00\">y</text>\n</g>\n<!-- y_G1&#45;&gt;Swap -->\n<g id=\"edge2\" class=\"edge\">\n<title>y_G1:e-&gt;Swap:w</title>\n<path fill=\"none\" stroke=\"black\" d=\"M54,-18C71.22,-18 72.97,-32.77 88.98,-33.93\"/>\n<ellipse fill=\"black\" stroke=\"black\" cx=\"90\" cy=\"-33.96\" rx=\"1\" ry=\"1\"/>\n<text text-anchor=\"middle\" x=\"72.5\" y=\"-29\" font-family=\"Times,serif\" font-size=\"10.00\">4</text>\n</g>\n<!-- x_G3 -->\n<g id=\"node4\" class=\"node\">\n<title>x_G3</title>\n<text text-anchor=\"middle\" x=\"184\" y=\"-68.3\" font-family=\"Times,serif\" font-size=\"14.00\">x</text>\n</g>\n<!-- Swap&#45;&gt;x_G3 -->\n<g id=\"edge3\" class=\"edge\">\n<title>Swap:e-&gt;x_G3:w</title>\n<path fill=\"none\" stroke=\"black\" d=\"M120,-56C137.22,-56 138.97,-70.77 154.98,-71.93\"/>\n<ellipse fill=\"black\" stroke=\"black\" cx=\"156\" cy=\"-71.96\" rx=\"1\" ry=\"1\"/>\n<text text-anchor=\"middle\" x=\"138.5\" y=\"-67\" font-family=\"Times,serif\" font-size=\"10.00\">4</text>\n</g>\n<!-- y_G0 -->\n<g id=\"node5\" class=\"node\">\n<title>y_G0</title>\n<text text-anchor=\"middle\" x=\"184\" y=\"-14.3\" font-family=\"Times,serif\" font-size=\"14.00\">y</text>\n</g>\n<!-- Swap&#45;&gt;y_G0 -->\n<g id=\"edge4\" class=\"edge\">\n<title>Swap:e-&gt;y_G0:w</title>\n<path fill=\"none\" stroke=\"black\" d=\"M120,-34C137.22,-34 138.97,-19.23 154.98,-18.07\"/>\n<ellipse fill=\"black\" stroke=\"black\" cx=\"156\" cy=\"-18.04\" rx=\"1\" ry=\"1\"/>\n<text text-anchor=\"middle\" x=\"138.5\" y=\"-29\" font-family=\"Times,serif\" font-size=\"10.00\">4</text>\n</g>\n</g>\n</svg>",
          "text/plain": "<IPython.core.display.SVG object>"
         },
         "metadata": {},
         "output_type": "display_data"
        }
       ],
       "tabbable": null,
       "tooltip": null
      }
     },
     "e3554e57eb054a0cb43cd9ace60ccaca": {
      "model_module": "@jupyter-widgets/output",
      "model_module_version": "1.0.0",
      "model_name": "OutputModel",
      "state": {
       "_dom_classes": [],
       "_model_module": "@jupyter-widgets/output",
       "_model_module_version": "1.0.0",
       "_model_name": "OutputModel",
       "_view_count": null,
       "_view_module": "@jupyter-widgets/output",
       "_view_module_version": "1.0.0",
       "_view_name": "OutputView",
       "layout": "IPY_MODEL_5c26a68efb044ffabd279e095659502f",
       "msg_id": "",
       "outputs": [
        {
         "data": {
          "text/markdown": "`swap_large`",
          "text/plain": "<IPython.core.display.Markdown object>"
         },
         "metadata": {},
         "output_type": "display_data"
        },
        {
         "data": {
          "image/svg+xml": "<svg xmlns=\"http://www.w3.org/2000/svg\" xmlns:xlink=\"http://www.w3.org/1999/xlink\" width=\"219pt\" height=\"98pt\" viewBox=\"0.00 0.00 219.00 98.00\">\n<g id=\"graph0\" class=\"graph\" transform=\"scale(1 1) rotate(0) translate(4 94)\">\n<title>my_graph</title>\n<polygon fill=\"white\" stroke=\"transparent\" points=\"-4,4 -4,-94 215,-94 215,4 -4,4\"/>\n<!-- x_G5 -->\n<g id=\"node1\" class=\"node\">\n<title>x_G5</title>\n<text text-anchor=\"middle\" x=\"27\" y=\"-68.3\" font-family=\"Times,serif\" font-size=\"14.00\">x</text>\n</g>\n<!-- Swap -->\n<g id=\"node3\" class=\"node\">\n<title>Swap</title>\n<polygon fill=\"none\" stroke=\"black\" points=\"91.5,-66 91.5,-83 120.5,-83 120.5,-66 91.5,-66\"/>\n<text text-anchor=\"start\" x=\"94.5\" y=\"-72\" font-family=\"Times,serif\" font-size=\"10.00\">Swap</text>\n<polygon fill=\"none\" stroke=\"black\" points=\"91.5,-45 91.5,-66 120.5,-66 120.5,-45 91.5,-45\"/>\n<text text-anchor=\"start\" x=\"102.5\" y=\"-51.8\" font-family=\"Times,serif\" font-size=\"14.00\">x</text>\n<polygon fill=\"none\" stroke=\"black\" points=\"91.5,-24 91.5,-45 120.5,-45 120.5,-24 91.5,-24\"/>\n<text text-anchor=\"start\" x=\"102.5\" y=\"-30.8\" font-family=\"Times,serif\" font-size=\"14.00\">y</text>\n</g>\n<!-- x_G5&#45;&gt;Swap -->\n<g id=\"edge1\" class=\"edge\">\n<title>x_G5:e-&gt;Swap:w</title>\n<path fill=\"none\" stroke=\"black\" d=\"M54,-72C71.22,-72 72.97,-57.23 88.98,-56.07\"/>\n<ellipse fill=\"black\" stroke=\"black\" cx=\"90\" cy=\"-56.04\" rx=\"1\" ry=\"1\"/>\n<text text-anchor=\"middle\" x=\"72.5\" y=\"-67\" font-family=\"Times,serif\" font-size=\"10.00\">64</text>\n</g>\n<!-- y_G1 -->\n<g id=\"node2\" class=\"node\">\n<title>y_G1</title>\n<text text-anchor=\"middle\" x=\"27\" y=\"-14.3\" font-family=\"Times,serif\" font-size=\"14.00\">y</text>\n</g>\n<!-- y_G1&#45;&gt;Swap -->\n<g id=\"edge2\" class=\"edge\">\n<title>y_G1:e-&gt;Swap:w</title>\n<path fill=\"none\" stroke=\"black\" d=\"M54,-18C71.22,-18 72.97,-32.77 88.98,-33.93\"/>\n<ellipse fill=\"black\" stroke=\"black\" cx=\"90\" cy=\"-33.96\" rx=\"1\" ry=\"1\"/>\n<text text-anchor=\"middle\" x=\"72.5\" y=\"-29\" font-family=\"Times,serif\" font-size=\"10.00\">64</text>\n</g>\n<!-- x_G3 -->\n<g id=\"node4\" class=\"node\">\n<title>x_G3</title>\n<text text-anchor=\"middle\" x=\"184\" y=\"-68.3\" font-family=\"Times,serif\" font-size=\"14.00\">x</text>\n</g>\n<!-- Swap&#45;&gt;x_G3 -->\n<g id=\"edge3\" class=\"edge\">\n<title>Swap:e-&gt;x_G3:w</title>\n<path fill=\"none\" stroke=\"black\" d=\"M120,-56C137.22,-56 138.97,-70.77 154.98,-71.93\"/>\n<ellipse fill=\"black\" stroke=\"black\" cx=\"156\" cy=\"-71.96\" rx=\"1\" ry=\"1\"/>\n<text text-anchor=\"middle\" x=\"138.5\" y=\"-67\" font-family=\"Times,serif\" font-size=\"10.00\">64</text>\n</g>\n<!-- y_G4 -->\n<g id=\"node5\" class=\"node\">\n<title>y_G4</title>\n<text text-anchor=\"middle\" x=\"184\" y=\"-14.3\" font-family=\"Times,serif\" font-size=\"14.00\">y</text>\n</g>\n<!-- Swap&#45;&gt;y_G4 -->\n<g id=\"edge4\" class=\"edge\">\n<title>Swap:e-&gt;y_G4:w</title>\n<path fill=\"none\" stroke=\"black\" d=\"M120,-34C137.22,-34 138.97,-19.23 154.98,-18.07\"/>\n<ellipse fill=\"black\" stroke=\"black\" cx=\"156\" cy=\"-18.04\" rx=\"1\" ry=\"1\"/>\n<text text-anchor=\"middle\" x=\"138.5\" y=\"-29\" font-family=\"Times,serif\" font-size=\"10.00\">64</text>\n</g>\n</g>\n</svg>",
          "text/plain": "<IPython.core.display.SVG object>"
         },
         "metadata": {},
         "output_type": "display_data"
        }
       ],
       "tabbable": null,
       "tooltip": null
      }
     },
     "e7cebad7ccb54a02b800905135228020": {
      "model_module": "@jupyter-widgets/controls",
      "model_module_version": "2.0.0",
      "model_name": "HBoxModel",
      "state": {
       "_dom_classes": [],
       "_model_module": "@jupyter-widgets/controls",
       "_model_module_version": "2.0.0",
       "_model_name": "HBoxModel",
       "_view_count": null,
       "_view_module": "@jupyter-widgets/controls",
       "_view_module_version": "2.0.0",
       "_view_name": "HBoxView",
       "box_style": "",
       "children": [
        "IPY_MODEL_77a0b6dba18e4873a26382ca4efa06ca",
        "IPY_MODEL_aef935e963404a0a9e2d0aa78dbf2b78",
        "IPY_MODEL_00628eadaaa04336b8f5dad65683d472"
       ],
       "layout": "IPY_MODEL_7e199f43260c44b4843fe2e89b65dfa0",
       "tabbable": null,
       "tooltip": null
      }
     },
     "eb08ba63f7ec4ca5b623b18fed63f63d": {
      "model_module": "@jupyter-widgets/base",
      "model_module_version": "2.0.0",
      "model_name": "LayoutModel",
      "state": {
       "_model_module": "@jupyter-widgets/base",
       "_model_module_version": "2.0.0",
       "_model_name": "LayoutModel",
       "_view_count": null,
       "_view_module": "@jupyter-widgets/base",
       "_view_module_version": "2.0.0",
       "_view_name": "LayoutView",
       "align_content": null,
       "align_items": null,
       "align_self": null,
       "border_bottom": null,
       "border_left": null,
       "border_right": null,
       "border_top": null,
       "bottom": null,
       "display": null,
       "flex": null,
       "flex_flow": null,
       "grid_area": null,
       "grid_auto_columns": null,
       "grid_auto_flow": null,
       "grid_auto_rows": null,
       "grid_column": null,
       "grid_gap": null,
       "grid_row": null,
       "grid_template_areas": null,
       "grid_template_columns": null,
       "grid_template_rows": null,
       "height": null,
       "justify_content": null,
       "justify_items": null,
       "left": null,
       "margin": null,
       "max_height": null,
       "max_width": null,
       "min_height": null,
       "min_width": null,
       "object_fit": null,
       "object_position": null,
       "order": null,
       "overflow": null,
       "padding": null,
       "right": null,
       "top": null,
       "visibility": null,
       "width": null
      }
     },
     "fb0d3108df6f4f2685576cc29d622bda": {
      "model_module": "@jupyter-widgets/base",
      "model_module_version": "2.0.0",
      "model_name": "LayoutModel",
      "state": {
       "_model_module": "@jupyter-widgets/base",
       "_model_module_version": "2.0.0",
       "_model_name": "LayoutModel",
       "_view_count": null,
       "_view_module": "@jupyter-widgets/base",
       "_view_module_version": "2.0.0",
       "_view_name": "LayoutView",
       "align_content": null,
       "align_items": null,
       "align_self": null,
       "border_bottom": null,
       "border_left": null,
       "border_right": null,
       "border_top": null,
       "bottom": null,
       "display": null,
       "flex": null,
       "flex_flow": null,
       "grid_area": null,
       "grid_auto_columns": null,
       "grid_auto_flow": null,
       "grid_auto_rows": null,
       "grid_column": null,
       "grid_gap": null,
       "grid_row": null,
       "grid_template_areas": null,
       "grid_template_columns": null,
       "grid_template_rows": null,
       "height": null,
       "justify_content": null,
       "justify_items": null,
       "left": null,
       "margin": null,
       "max_height": null,
       "max_width": null,
       "min_height": null,
       "min_width": null,
       "object_fit": null,
       "object_position": null,
       "order": null,
       "overflow": null,
       "padding": null,
       "right": null,
       "top": null,
       "visibility": null,
       "width": null
      }
     },
     "fb5803d73bb8456cb81d619ce5f82ceb": {
      "model_module": "@jupyter-widgets/base",
      "model_module_version": "2.0.0",
      "model_name": "LayoutModel",
      "state": {
       "_model_module": "@jupyter-widgets/base",
       "_model_module_version": "2.0.0",
       "_model_name": "LayoutModel",
       "_view_count": null,
       "_view_module": "@jupyter-widgets/base",
       "_view_module_version": "2.0.0",
       "_view_name": "LayoutView",
       "align_content": null,
       "align_items": null,
       "align_self": null,
       "border_bottom": null,
       "border_left": null,
       "border_right": null,
       "border_top": null,
       "bottom": null,
       "display": null,
       "flex": null,
       "flex_flow": null,
       "grid_area": null,
       "grid_auto_columns": null,
       "grid_auto_flow": null,
       "grid_auto_rows": null,
       "grid_column": null,
       "grid_gap": null,
       "grid_row": null,
       "grid_template_areas": null,
       "grid_template_columns": null,
       "grid_template_rows": null,
       "height": null,
       "justify_content": null,
       "justify_items": null,
       "left": null,
       "margin": null,
       "max_height": null,
       "max_width": null,
       "min_height": null,
       "min_width": null,
       "object_fit": null,
       "object_position": null,
       "order": null,
       "overflow": null,
       "padding": null,
       "right": null,
       "top": null,
       "visibility": null,
       "width": null
      }
     }
    },
    "version_major": 2,
    "version_minor": 0
   }
  }
 },
 "nbformat": 4,
 "nbformat_minor": 5
}
