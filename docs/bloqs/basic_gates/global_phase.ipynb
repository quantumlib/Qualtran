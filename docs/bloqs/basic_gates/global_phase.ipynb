{
 "cells": [
  {
   "cell_type": "markdown",
   "id": "34af6d4a",
   "metadata": {
    "cq.autogen": "title_cell"
   },
   "source": [
    "# Global Phase"
   ]
  },
  {
   "cell_type": "code",
   "execution_count": 1,
   "id": "f1de2e20",
   "metadata": {
    "cq.autogen": "top_imports"
   },
   "outputs": [],
   "source": [
    "from qualtran import Bloq, CompositeBloq, BloqBuilder, Signature, Register\n",
    "from qualtran import QBit, QInt, QUInt, QAny\n",
    "from qualtran.drawing import show_bloq, show_call_graph, show_counts_sigma\n",
    "from typing import *\n",
    "import numpy as np\n",
    "import sympy\n",
    "import cirq"
   ]
  },
  {
   "cell_type": "markdown",
   "id": "7293f4e4",
   "metadata": {
    "cq.autogen": "GlobalPhase.bloq_doc.md"
   },
   "source": [
    "## `GlobalPhase`\n",
    "Applies a global phase to the circuit as a whole.\n",
    "\n",
    "For an exponent $t$, the unitary effect is to multiply the state vector by the complex scalar\n",
    "$$\n",
    "(-1)^t = e^{i \\pi t}\n",
    "$$\n",
    "\n",
    "The global phase of a state or circuit does not affect any observable quantity, but\n",
    "keeping track of it can be a useful bookkeeping mechanism for testing circuit identities, and\n",
    "the global phase becomes important when controlling an operation.\n",
    "\n",
    "This is fundamentally an atomic operation and this bloq has no decomposition in Qualtran.\n",
    "\n",
    "The single-qubit controlled version of `GlobalPhase` is `ZPowGate`.\n",
    "\n",
    "#### Parameters\n",
    " - `exponent`: the exponent t of the global phase (-1)^t to apply.\n",
    " - `eps`: The precision of the rotation. This parameter is for bookkeeping and does not affect e.g. the tensor representation of this gate.\n"
   ]
  },
  {
   "cell_type": "code",
   "execution_count": 2,
   "id": "60d45fc7",
   "metadata": {
    "cq.autogen": "GlobalPhase.bloq_doc.py"
   },
   "outputs": [],
   "source": [
    "from qualtran.bloqs.basic_gates import GlobalPhase"
   ]
  },
  {
   "cell_type": "markdown",
   "id": "1608ddd1",
   "metadata": {
    "cq.autogen": "GlobalPhase.example_instances.md"
   },
   "source": [
    "### Example Instances"
   ]
  },
  {
   "cell_type": "code",
   "execution_count": 3,
   "id": "1ee2bf0e",
   "metadata": {
    "cq.autogen": "GlobalPhase.global_phase"
   },
   "outputs": [],
   "source": [
    "global_phase = GlobalPhase(exponent=0.5)"
   ]
  },
  {
   "cell_type": "markdown",
   "id": "a21e8a14",
   "metadata": {
    "cq.autogen": "GlobalPhase.graphical_signature.md"
   },
   "source": [
    "#### Graphical Signature"
   ]
  },
  {
   "cell_type": "code",
   "execution_count": 4,
   "id": "bd9c2dbb",
   "metadata": {
    "cq.autogen": "GlobalPhase.graphical_signature.py"
   },
   "outputs": [
    {
     "data": {
      "application/vnd.jupyter.widget-view+json": {
       "model_id": "e5a975cd644c403e9640cf535ffd6a60",
       "version_major": 2,
       "version_minor": 0
      },
      "text/plain": [
       "HBox(children=(Output(outputs=({'output_type': 'display_data', 'data': {'text/plain': '<IPython.core.display.M…"
      ]
     },
     "metadata": {},
     "output_type": "display_data"
    }
   ],
   "source": [
    "from qualtran.drawing import show_bloqs\n",
    "show_bloqs([global_phase],\n",
    "           ['`global_phase`'])"
   ]
  },
  {
   "cell_type": "markdown",
   "id": "c183275c-cc9c-477d-888c-d8b850f67a2e",
   "metadata": {},
   "source": [
    "### Tensors and Controlled\n",
    "\n",
    "The \"tensor\" of the global phase gate is just a number."
   ]
  },
  {
   "cell_type": "code",
   "execution_count": 5,
   "id": "d053b20b-3d61-487a-b962-e2368d834c40",
   "metadata": {},
   "outputs": [
    {
     "data": {
      "text/plain": [
       "(6.123233995736766e-17+1j)"
      ]
     },
     "execution_count": 5,
     "metadata": {},
     "output_type": "execute_result"
    }
   ],
   "source": [
    "global_phase.tensor_contract()"
   ]
  },
  {
   "cell_type": "markdown",
   "id": "b737b871-9c61-4d54-860a-d9928f18808b",
   "metadata": {},
   "source": [
    "When a global phase is controlled, it is equivalent to a `ZPowGate`"
   ]
  },
  {
   "cell_type": "code",
   "execution_count": 6,
   "id": "d873856e-a687-4b73-acdc-9188dd13a60e",
   "metadata": {},
   "outputs": [
    {
     "name": "stdout",
     "output_type": "stream",
     "text": [
      "ZPowGate(exponent=0.5, eps=1e-11)\n",
      "[[1.+0.j 0.+0.j]\n",
      " [0.+0.j 0.+1.j]]\n"
     ]
    }
   ],
   "source": [
    "cgp = global_phase.controlled()\n",
    "print(repr(cgp))\n",
    "print(cgp.tensor_contract())"
   ]
  }
 ],
 "metadata": {
  "kernelspec": {
   "display_name": "Python 3 (ipykernel)",
   "language": "python",
   "name": "python3"
  },
  "language_info": {
   "codemirror_mode": {
    "name": "ipython",
    "version": 3
   },
   "file_extension": ".py",
   "mimetype": "text/x-python",
   "name": "python",
   "nbconvert_exporter": "python",
   "pygments_lexer": "ipython3",
   "version": "3.11.8"
  },
  "widgets": {
   "application/vnd.jupyter.widget-state+json": {
    "state": {
     "2b108605389d408c90be8f423170647e": {
      "model_module": "@jupyter-widgets/base",
      "model_module_version": "2.0.0",
      "model_name": "LayoutModel",
      "state": {
       "_model_module": "@jupyter-widgets/base",
       "_model_module_version": "2.0.0",
       "_model_name": "LayoutModel",
       "_view_count": null,
       "_view_module": "@jupyter-widgets/base",
       "_view_module_version": "2.0.0",
       "_view_name": "LayoutView",
       "align_content": null,
       "align_items": null,
       "align_self": null,
       "border_bottom": null,
       "border_left": null,
       "border_right": null,
       "border_top": null,
       "bottom": null,
       "display": null,
       "flex": null,
       "flex_flow": null,
       "grid_area": null,
       "grid_auto_columns": null,
       "grid_auto_flow": null,
       "grid_auto_rows": null,
       "grid_column": null,
       "grid_gap": null,
       "grid_row": null,
       "grid_template_areas": null,
       "grid_template_columns": null,
       "grid_template_rows": null,
       "height": null,
       "justify_content": null,
       "justify_items": null,
       "left": null,
       "margin": null,
       "max_height": null,
       "max_width": null,
       "min_height": null,
       "min_width": null,
       "object_fit": null,
       "object_position": null,
       "order": null,
       "overflow": null,
       "padding": null,
       "right": null,
       "top": null,
       "visibility": null,
       "width": null
      }
     },
     "8e44461715d440f8884fe301f2b3546a": {
      "model_module": "@jupyter-widgets/base",
      "model_module_version": "2.0.0",
      "model_name": "LayoutModel",
      "state": {
       "_model_module": "@jupyter-widgets/base",
       "_model_module_version": "2.0.0",
       "_model_name": "LayoutModel",
       "_view_count": null,
       "_view_module": "@jupyter-widgets/base",
       "_view_module_version": "2.0.0",
       "_view_name": "LayoutView",
       "align_content": null,
       "align_items": null,
       "align_self": null,
       "border_bottom": null,
       "border_left": null,
       "border_right": null,
       "border_top": null,
       "bottom": null,
       "display": null,
       "flex": null,
       "flex_flow": null,
       "grid_area": null,
       "grid_auto_columns": null,
       "grid_auto_flow": null,
       "grid_auto_rows": null,
       "grid_column": null,
       "grid_gap": null,
       "grid_row": null,
       "grid_template_areas": null,
       "grid_template_columns": null,
       "grid_template_rows": null,
       "height": null,
       "justify_content": null,
       "justify_items": null,
       "left": null,
       "margin": null,
       "max_height": null,
       "max_width": null,
       "min_height": null,
       "min_width": null,
       "object_fit": null,
       "object_position": null,
       "order": null,
       "overflow": null,
       "padding": null,
       "right": null,
       "top": null,
       "visibility": null,
       "width": null
      }
     },
     "bda7812eea5045ad90f766401d9237e0": {
      "model_module": "@jupyter-widgets/output",
      "model_module_version": "1.0.0",
      "model_name": "OutputModel",
      "state": {
       "_dom_classes": [],
       "_model_module": "@jupyter-widgets/output",
       "_model_module_version": "1.0.0",
       "_model_name": "OutputModel",
       "_view_count": null,
       "_view_module": "@jupyter-widgets/output",
       "_view_module_version": "1.0.0",
       "_view_name": "OutputView",
       "layout": "IPY_MODEL_8e44461715d440f8884fe301f2b3546a",
       "msg_id": "",
       "outputs": [
        {
         "data": {
          "text/markdown": "`global_phase`",
          "text/plain": "<IPython.core.display.Markdown object>"
         },
         "metadata": {},
         "output_type": "display_data"
        },
        {
         "data": {
          "image/svg+xml": "<svg xmlns=\"http://www.w3.org/2000/svg\" xmlns:xlink=\"http://www.w3.org/1999/xlink\" width=\"176pt\" height=\"25pt\" viewBox=\"0.00 0.00 176.00 25.00\">\n<g id=\"graph0\" class=\"graph\" transform=\"scale(1 1) rotate(0) translate(4 21)\">\n<title>my_graph</title>\n<polygon fill=\"white\" stroke=\"transparent\" points=\"-4,4 -4,-21 172,-21 172,4 -4,4\"/>\n<!-- GlobalPhase -->\n<g id=\"node1\" class=\"node\">\n<title>GlobalPhase</title>\n<polygon fill=\"none\" stroke=\"black\" points=\"0,0.5 0,-16.5 168,-16.5 168,0.5 0,0.5\"/>\n<text text-anchor=\"start\" x=\"3\" y=\"-5.5\" font-family=\"Times,serif\" font-size=\"10.00\">GPhase((6.123233995736766e-17+1j))</text>\n</g>\n</g>\n</svg>",
          "text/plain": "<IPython.core.display.SVG object>"
         },
         "metadata": {},
         "output_type": "display_data"
        }
       ],
       "tabbable": null,
       "tooltip": null
      }
     },
     "e5a975cd644c403e9640cf535ffd6a60": {
      "model_module": "@jupyter-widgets/controls",
      "model_module_version": "2.0.0",
      "model_name": "HBoxModel",
      "state": {
       "_dom_classes": [],
       "_model_module": "@jupyter-widgets/controls",
       "_model_module_version": "2.0.0",
       "_model_name": "HBoxModel",
       "_view_count": null,
       "_view_module": "@jupyter-widgets/controls",
       "_view_module_version": "2.0.0",
       "_view_name": "HBoxView",
       "box_style": "",
       "children": [
        "IPY_MODEL_bda7812eea5045ad90f766401d9237e0"
       ],
       "layout": "IPY_MODEL_2b108605389d408c90be8f423170647e",
       "tabbable": null,
       "tooltip": null
      }
     }
    },
    "version_major": 2,
    "version_minor": 0
   }
  }
 },
 "nbformat": 4,
 "nbformat_minor": 5
}
