{
 "cells": [
  {
   "cell_type": "markdown",
   "id": "4bb9b4ff",
   "metadata": {
    "cq.autogen": "title_cell"
   },
   "source": [
    "# CNOT"
   ]
  },
  {
   "cell_type": "code",
   "execution_count": 1,
   "id": "441ab7c0",
   "metadata": {
    "cq.autogen": "top_imports"
   },
   "outputs": [],
   "source": [
    "from qualtran import Bloq, CompositeBloq, BloqBuilder, Signature, Register\n",
    "from qualtran import QBit, QInt, QUInt, QAny\n",
    "from qualtran.drawing import show_bloq, show_call_graph, show_counts_sigma\n",
    "from typing import *\n",
    "import numpy as np\n",
    "import sympy\n",
    "import cirq"
   ]
  },
  {
   "cell_type": "markdown",
   "id": "fcb7ce4a",
   "metadata": {
    "cq.autogen": "CNOT.bloq_doc.md"
   },
   "source": [
    "## `CNOT`\n",
    "Two-qubit controlled-NOT.\n",
    "\n",
    "#### Registers\n",
    " - `ctrl`: One-bit control register.\n",
    " - `target`: One-bit target register.\n"
   ]
  },
  {
   "cell_type": "code",
   "execution_count": 2,
   "id": "451b0fe6",
   "metadata": {
    "cq.autogen": "CNOT.bloq_doc.py"
   },
   "outputs": [],
   "source": [
    "from qualtran.bloqs.basic_gates import CNOT"
   ]
  },
  {
   "cell_type": "markdown",
   "id": "0028d226",
   "metadata": {
    "cq.autogen": "CNOT.example_instances.md"
   },
   "source": [
    "### Example Instances"
   ]
  },
  {
   "cell_type": "code",
   "execution_count": 3,
   "id": "395fbefa",
   "metadata": {
    "cq.autogen": "CNOT.cnot"
   },
   "outputs": [],
   "source": [
    "cnot = CNOT()"
   ]
  },
  {
   "cell_type": "markdown",
   "id": "04eb4958",
   "metadata": {
    "cq.autogen": "CNOT.graphical_signature.md"
   },
   "source": [
    "#### Graphical Signature"
   ]
  },
  {
   "cell_type": "code",
   "execution_count": 4,
   "id": "d927bff4",
   "metadata": {
    "cq.autogen": "CNOT.graphical_signature.py"
   },
   "outputs": [
    {
     "data": {
      "application/vnd.jupyter.widget-view+json": {
       "model_id": "36620ca8c7224a0e853d5aa5ab829d06",
       "version_major": 2,
       "version_minor": 0
      },
      "text/plain": [
       "HBox(children=(Output(outputs=({'output_type': 'display_data', 'data': {'text/plain': '<IPython.core.display.M…"
      ]
     },
     "metadata": {},
     "output_type": "display_data"
    }
   ],
   "source": [
    "from qualtran.drawing import show_bloqs\n",
    "show_bloqs([cnot],\n",
    "           ['`cnot`'])"
   ]
  },
  {
   "cell_type": "markdown",
   "id": "b3e33c75",
   "metadata": {
    "cq.autogen": "CNOT.call_graph.md"
   },
   "source": [
    "### Call Graph"
   ]
  },
  {
   "cell_type": "code",
   "execution_count": 5,
   "id": "7ba2a8c1",
   "metadata": {
    "cq.autogen": "CNOT.call_graph.py"
   },
   "outputs": [
    {
     "data": {
      "image/svg+xml": [
       "<svg xmlns=\"http://www.w3.org/2000/svg\" xmlns:xlink=\"http://www.w3.org/1999/xlink\" width=\"64pt\" height=\"44pt\" viewBox=\"0.00 0.00 64.00 44.00\">\n",
       "<g id=\"graph0\" class=\"graph\" transform=\"scale(1 1) rotate(0) translate(4 40)\">\n",
       "<title>counts</title>\n",
       "<polygon fill=\"white\" stroke=\"transparent\" points=\"-4,4 -4,-40 60,-40 60,4 -4,4\"/>\n",
       "<!-- b0 -->\n",
       "<g id=\"node1\" class=\"node\">\n",
       "<title>b0</title>\n",
       "<polygon fill=\"none\" stroke=\"black\" points=\"8,-6 8,-29 48,-29 48,-6 8,-6\"/>\n",
       "<text text-anchor=\"start\" x=\"14\" y=\"-15\" font-family=\"Times,serif\" font-size=\"10.00\">CNOT</text>\n",
       "</g>\n",
       "</g>\n",
       "</svg>"
      ],
      "text/plain": [
       "<IPython.core.display.SVG object>"
      ]
     },
     "metadata": {},
     "output_type": "display_data"
    },
    {
     "data": {
      "text/markdown": [
       "#### Counts totals:\n",
       " - `CNOT`: 1"
      ],
      "text/plain": [
       "<IPython.core.display.Markdown object>"
      ]
     },
     "metadata": {},
     "output_type": "display_data"
    }
   ],
   "source": [
    "from qualtran.resource_counting.generalizers import ignore_split_join\n",
    "cnot_g, cnot_sigma = cnot.call_graph(max_depth=1, generalizer=ignore_split_join)\n",
    "show_call_graph(cnot_g)\n",
    "show_counts_sigma(cnot_sigma)"
   ]
  }
 ],
 "metadata": {
  "kernelspec": {
   "display_name": "Python 3 (ipykernel)",
   "language": "python",
   "name": "python3"
  },
  "language_info": {
   "codemirror_mode": {
    "name": "ipython",
    "version": 3
   },
   "file_extension": ".py",
   "mimetype": "text/x-python",
   "name": "python",
   "nbconvert_exporter": "python",
   "pygments_lexer": "ipython3",
   "version": "3.11.8"
  },
  "widgets": {
   "application/vnd.jupyter.widget-state+json": {
    "state": {
     "19e11ca2152449db95537331da32153b": {
      "model_module": "@jupyter-widgets/output",
      "model_module_version": "1.0.0",
      "model_name": "OutputModel",
      "state": {
       "_dom_classes": [],
       "_model_module": "@jupyter-widgets/output",
       "_model_module_version": "1.0.0",
       "_model_name": "OutputModel",
       "_view_count": null,
       "_view_module": "@jupyter-widgets/output",
       "_view_module_version": "1.0.0",
       "_view_name": "OutputView",
       "layout": "IPY_MODEL_f233b073c67e42beab6e132746512491",
       "msg_id": "",
       "outputs": [
        {
         "data": {
          "text/markdown": "`cnot`",
          "text/plain": "<IPython.core.display.Markdown object>"
         },
         "metadata": {},
         "output_type": "display_data"
        },
        {
         "data": {
          "image/svg+xml": "<svg xmlns=\"http://www.w3.org/2000/svg\" xmlns:xlink=\"http://www.w3.org/1999/xlink\" width=\"227pt\" height=\"98pt\" viewBox=\"0.00 0.00 227.00 98.00\">\n<g id=\"graph0\" class=\"graph\" transform=\"scale(1 1) rotate(0) translate(4 94)\">\n<title>my_graph</title>\n<polygon fill=\"white\" stroke=\"transparent\" points=\"-4,4 -4,-94 223,-94 223,4 -4,4\"/>\n<!-- ctrl_G2 -->\n<g id=\"node1\" class=\"node\">\n<title>ctrl_G2</title>\n<text text-anchor=\"middle\" x=\"27\" y=\"-68.3\" font-family=\"Times,serif\" font-size=\"14.00\">ctrl</text>\n</g>\n<!-- CNOT -->\n<g id=\"node3\" class=\"node\">\n<title>CNOT</title>\n<polygon fill=\"none\" stroke=\"black\" points=\"91.5,-66 91.5,-83 128.5,-83 128.5,-66 91.5,-66\"/>\n<text text-anchor=\"start\" x=\"96\" y=\"-72\" font-family=\"Times,serif\" font-size=\"10.00\">CNOT</text>\n<polygon fill=\"none\" stroke=\"black\" points=\"91.5,-45 91.5,-66 128.5,-66 128.5,-45 91.5,-45\"/>\n<text text-anchor=\"start\" x=\"100.5\" y=\"-51.8\" font-family=\"Times,serif\" font-size=\"14.00\">ctrl</text>\n<polygon fill=\"none\" stroke=\"black\" points=\"91.5,-24 91.5,-45 128.5,-45 128.5,-24 91.5,-24\"/>\n<text text-anchor=\"start\" x=\"94.5\" y=\"-30.8\" font-family=\"Times,serif\" font-size=\"14.00\">target</text>\n</g>\n<!-- ctrl_G2&#45;&gt;CNOT -->\n<g id=\"edge1\" class=\"edge\">\n<title>ctrl_G2:e-&gt;CNOT:w</title>\n<path fill=\"none\" stroke=\"black\" d=\"M54,-72C71.22,-72 72.97,-57.23 88.98,-56.07\"/>\n<ellipse fill=\"black\" stroke=\"black\" cx=\"90\" cy=\"-56.04\" rx=\"1\" ry=\"1\"/>\n<text text-anchor=\"middle\" x=\"72.5\" y=\"-67\" font-family=\"Times,serif\" font-size=\"10.00\">1</text>\n</g>\n<!-- target_G4 -->\n<g id=\"node2\" class=\"node\">\n<title>target_G4</title>\n<text text-anchor=\"middle\" x=\"27\" y=\"-14.3\" font-family=\"Times,serif\" font-size=\"14.00\">target</text>\n</g>\n<!-- target_G4&#45;&gt;CNOT -->\n<g id=\"edge2\" class=\"edge\">\n<title>target_G4:e-&gt;CNOT:w</title>\n<path fill=\"none\" stroke=\"black\" d=\"M54,-18C71.22,-18 72.97,-32.77 88.98,-33.93\"/>\n<ellipse fill=\"black\" stroke=\"black\" cx=\"90\" cy=\"-33.96\" rx=\"1\" ry=\"1\"/>\n<text text-anchor=\"middle\" x=\"72.5\" y=\"-29\" font-family=\"Times,serif\" font-size=\"10.00\">1</text>\n</g>\n<!-- ctrl_G1 -->\n<g id=\"node4\" class=\"node\">\n<title>ctrl_G1</title>\n<text text-anchor=\"middle\" x=\"192\" y=\"-68.3\" font-family=\"Times,serif\" font-size=\"14.00\">ctrl</text>\n</g>\n<!-- CNOT&#45;&gt;ctrl_G1 -->\n<g id=\"edge3\" class=\"edge\">\n<title>CNOT:e-&gt;ctrl_G1:w</title>\n<path fill=\"none\" stroke=\"black\" d=\"M128,-56C145.22,-56 146.97,-70.77 162.98,-71.93\"/>\n<ellipse fill=\"black\" stroke=\"black\" cx=\"164\" cy=\"-71.96\" rx=\"1\" ry=\"1\"/>\n<text text-anchor=\"middle\" x=\"146.5\" y=\"-67\" font-family=\"Times,serif\" font-size=\"10.00\">1</text>\n</g>\n<!-- target_G5 -->\n<g id=\"node5\" class=\"node\">\n<title>target_G5</title>\n<text text-anchor=\"middle\" x=\"192\" y=\"-14.3\" font-family=\"Times,serif\" font-size=\"14.00\">target</text>\n</g>\n<!-- CNOT&#45;&gt;target_G5 -->\n<g id=\"edge4\" class=\"edge\">\n<title>CNOT:e-&gt;target_G5:w</title>\n<path fill=\"none\" stroke=\"black\" d=\"M128,-34C145.22,-34 146.97,-19.23 162.98,-18.07\"/>\n<ellipse fill=\"black\" stroke=\"black\" cx=\"164\" cy=\"-18.04\" rx=\"1\" ry=\"1\"/>\n<text text-anchor=\"middle\" x=\"146.5\" y=\"-29\" font-family=\"Times,serif\" font-size=\"10.00\">1</text>\n</g>\n</g>\n</svg>",
          "text/plain": "<IPython.core.display.SVG object>"
         },
         "metadata": {},
         "output_type": "display_data"
        }
       ],
       "tabbable": null,
       "tooltip": null
      }
     },
     "36620ca8c7224a0e853d5aa5ab829d06": {
      "model_module": "@jupyter-widgets/controls",
      "model_module_version": "2.0.0",
      "model_name": "HBoxModel",
      "state": {
       "_dom_classes": [],
       "_model_module": "@jupyter-widgets/controls",
       "_model_module_version": "2.0.0",
       "_model_name": "HBoxModel",
       "_view_count": null,
       "_view_module": "@jupyter-widgets/controls",
       "_view_module_version": "2.0.0",
       "_view_name": "HBoxView",
       "box_style": "",
       "children": [
        "IPY_MODEL_19e11ca2152449db95537331da32153b"
       ],
       "layout": "IPY_MODEL_47f2c857f42a4ea5b536a84d01276392",
       "tabbable": null,
       "tooltip": null
      }
     },
     "47f2c857f42a4ea5b536a84d01276392": {
      "model_module": "@jupyter-widgets/base",
      "model_module_version": "2.0.0",
      "model_name": "LayoutModel",
      "state": {
       "_model_module": "@jupyter-widgets/base",
       "_model_module_version": "2.0.0",
       "_model_name": "LayoutModel",
       "_view_count": null,
       "_view_module": "@jupyter-widgets/base",
       "_view_module_version": "2.0.0",
       "_view_name": "LayoutView",
       "align_content": null,
       "align_items": null,
       "align_self": null,
       "border_bottom": null,
       "border_left": null,
       "border_right": null,
       "border_top": null,
       "bottom": null,
       "display": null,
       "flex": null,
       "flex_flow": null,
       "grid_area": null,
       "grid_auto_columns": null,
       "grid_auto_flow": null,
       "grid_auto_rows": null,
       "grid_column": null,
       "grid_gap": null,
       "grid_row": null,
       "grid_template_areas": null,
       "grid_template_columns": null,
       "grid_template_rows": null,
       "height": null,
       "justify_content": null,
       "justify_items": null,
       "left": null,
       "margin": null,
       "max_height": null,
       "max_width": null,
       "min_height": null,
       "min_width": null,
       "object_fit": null,
       "object_position": null,
       "order": null,
       "overflow": null,
       "padding": null,
       "right": null,
       "top": null,
       "visibility": null,
       "width": null
      }
     },
     "f233b073c67e42beab6e132746512491": {
      "model_module": "@jupyter-widgets/base",
      "model_module_version": "2.0.0",
      "model_name": "LayoutModel",
      "state": {
       "_model_module": "@jupyter-widgets/base",
       "_model_module_version": "2.0.0",
       "_model_name": "LayoutModel",
       "_view_count": null,
       "_view_module": "@jupyter-widgets/base",
       "_view_module_version": "2.0.0",
       "_view_name": "LayoutView",
       "align_content": null,
       "align_items": null,
       "align_self": null,
       "border_bottom": null,
       "border_left": null,
       "border_right": null,
       "border_top": null,
       "bottom": null,
       "display": null,
       "flex": null,
       "flex_flow": null,
       "grid_area": null,
       "grid_auto_columns": null,
       "grid_auto_flow": null,
       "grid_auto_rows": null,
       "grid_column": null,
       "grid_gap": null,
       "grid_row": null,
       "grid_template_areas": null,
       "grid_template_columns": null,
       "grid_template_rows": null,
       "height": null,
       "justify_content": null,
       "justify_items": null,
       "left": null,
       "margin": null,
       "max_height": null,
       "max_width": null,
       "min_height": null,
       "min_width": null,
       "object_fit": null,
       "object_position": null,
       "order": null,
       "overflow": null,
       "padding": null,
       "right": null,
       "top": null,
       "visibility": null,
       "width": null
      }
     }
    },
    "version_major": 2,
    "version_minor": 0
   }
  }
 },
 "nbformat": 4,
 "nbformat_minor": 5
}
