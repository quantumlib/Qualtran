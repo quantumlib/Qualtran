{
 "cells": [
  {
   "cell_type": "markdown",
   "id": "150c4dfe",
   "metadata": {
    "cq.autogen": "title_cell"
   },
   "source": [
    "# Bookkeeping Bloqs\n",
    "\n",
    "Bloqs for virtual operations and register reshaping."
   ]
  },
  {
   "cell_type": "code",
   "execution_count": 1,
   "id": "9ae23b01",
   "metadata": {
    "cq.autogen": "top_imports"
   },
   "outputs": [],
   "source": [
    "from qualtran import Bloq, CompositeBloq, BloqBuilder, Signature, Register\n",
    "from qualtran import QBit, QInt, QUInt, QAny\n",
    "from qualtran.drawing import show_bloq, show_call_graph, show_counts_sigma\n",
    "from typing import *\n",
    "import numpy as np\n",
    "import sympy\n",
    "import cirq"
   ]
  },
  {
   "cell_type": "markdown",
   "id": "5abdd240",
   "metadata": {
    "cq.autogen": "Allocate.bloq_doc.md"
   },
   "source": [
    "## `Allocate`\n",
    "Allocate an `n` bit register.\n",
    "\n",
    "#### Parameters\n",
    " - `dtype`: the quantum data type of the allocated register.\n",
    " - `dirty`: If true, represents a borrowing operation where allocated qubits can be dirty. \n",
    "\n",
    "#### Registers\n",
    " - `reg [right]`: The allocated register.\n"
   ]
  },
  {
   "cell_type": "code",
   "execution_count": 2,
   "id": "07aac208",
   "metadata": {
    "cq.autogen": "Allocate.bloq_doc.py"
   },
   "outputs": [],
   "source": [
    "from qualtran.bloqs.bookkeeping import Allocate"
   ]
  },
  {
   "cell_type": "markdown",
   "id": "b10de857",
   "metadata": {
    "cq.autogen": "Allocate.example_instances.md"
   },
   "source": [
    "### Example Instances"
   ]
  },
  {
   "cell_type": "code",
   "execution_count": 3,
   "id": "68418ff9",
   "metadata": {
    "cq.autogen": "Allocate.alloc"
   },
   "outputs": [],
   "source": [
    "n = sympy.Symbol('n')\n",
    "alloc = Allocate(QUInt(n))"
   ]
  },
  {
   "cell_type": "markdown",
   "id": "edec0a3b",
   "metadata": {
    "cq.autogen": "Allocate.graphical_signature.md"
   },
   "source": [
    "#### Graphical Signature"
   ]
  },
  {
   "cell_type": "code",
   "execution_count": 4,
   "id": "34167337",
   "metadata": {
    "cq.autogen": "Allocate.graphical_signature.py"
   },
   "outputs": [
    {
     "data": {
      "application/vnd.jupyter.widget-view+json": {
       "model_id": "f1860f8d42cc4121996a655f5187822c",
       "version_major": 2,
       "version_minor": 0
      },
      "text/plain": [
       "HBox(children=(Output(outputs=({'output_type': 'display_data', 'data': {'text/plain': '<IPython.core.display.M…"
      ]
     },
     "metadata": {},
     "output_type": "display_data"
    }
   ],
   "source": [
    "from qualtran.drawing import show_bloqs\n",
    "show_bloqs([alloc],\n",
    "           ['`alloc`'])"
   ]
  },
  {
   "cell_type": "markdown",
   "id": "bd71c1ae",
   "metadata": {
    "cq.autogen": "Allocate.call_graph.md"
   },
   "source": [
    "### Call Graph"
   ]
  },
  {
   "cell_type": "code",
   "execution_count": 5,
   "id": "cf84a40d",
   "metadata": {
    "cq.autogen": "Allocate.call_graph.py"
   },
   "outputs": [
    {
     "data": {
      "image/svg+xml": [
       "<svg xmlns=\"http://www.w3.org/2000/svg\" xmlns:xlink=\"http://www.w3.org/1999/xlink\" width=\"72pt\" height=\"44pt\" viewBox=\"0.00 0.00 72.00 44.00\">\n",
       "<g id=\"graph0\" class=\"graph\" transform=\"scale(1 1) rotate(0) translate(4 40)\">\n",
       "<title>counts</title>\n",
       "<polygon fill=\"white\" stroke=\"transparent\" points=\"-4,4 -4,-40 68,-40 68,4 -4,4\"/>\n",
       "<!-- b0 -->\n",
       "<g id=\"node1\" class=\"node\">\n",
       "<title>b0</title>\n",
       "<polygon fill=\"none\" stroke=\"black\" points=\"8,-6 8,-29 56,-29 56,-6 8,-6\"/>\n",
       "<text text-anchor=\"start\" x=\"14\" y=\"-15\" font-family=\"Times,serif\" font-size=\"10.00\">Allocate</text>\n",
       "</g>\n",
       "</g>\n",
       "</svg>"
      ],
      "text/plain": [
       "<IPython.core.display.SVG object>"
      ]
     },
     "metadata": {},
     "output_type": "display_data"
    },
    {
     "data": {
      "text/markdown": [
       "#### Counts totals:\n",
       " - `Allocate`: 1"
      ],
      "text/plain": [
       "<IPython.core.display.Markdown object>"
      ]
     },
     "metadata": {},
     "output_type": "display_data"
    }
   ],
   "source": [
    "from qualtran.resource_counting.generalizers import ignore_split_join\n",
    "alloc_g, alloc_sigma = alloc.call_graph(max_depth=1, generalizer=ignore_split_join)\n",
    "show_call_graph(alloc_g)\n",
    "show_counts_sigma(alloc_sigma)"
   ]
  },
  {
   "cell_type": "markdown",
   "id": "13f15a31",
   "metadata": {
    "cq.autogen": "Free.bloq_doc.md"
   },
   "source": [
    "## `Free`\n",
    "Free (i.e. de-allocate) a register.\n",
    "\n",
    "The tensor decomposition assumes the register is uncomputed and is in the zero\n",
    "state before getting freed. To verify that is the case, one can compute the resulting state\n",
    "vector after freeing qubits and make sure it is normalized.\n",
    "\n",
    "#### Parameters\n",
    " - `dtype`: The quantum data type of the register to be freed.\n",
    " - `dirty`: If true, represents adjoint of a borrowing operation where deallocated qubits were borrowed dirty from another part of the algorithm and must be free'd in the same dirty state. \n",
    "\n",
    "#### Registers\n",
    " - `reg [left]`: The register to free.\n"
   ]
  },
  {
   "cell_type": "code",
   "execution_count": 6,
   "id": "53ace9c4",
   "metadata": {
    "cq.autogen": "Free.bloq_doc.py"
   },
   "outputs": [],
   "source": [
    "from qualtran.bloqs.bookkeeping import Free"
   ]
  },
  {
   "cell_type": "markdown",
   "id": "6375feb7",
   "metadata": {
    "cq.autogen": "Free.example_instances.md"
   },
   "source": [
    "### Example Instances"
   ]
  },
  {
   "cell_type": "code",
   "execution_count": 7,
   "id": "cb31f226",
   "metadata": {
    "cq.autogen": "Free.free"
   },
   "outputs": [],
   "source": [
    "n = sympy.Symbol('n')\n",
    "free = Free(QUInt(n))"
   ]
  },
  {
   "cell_type": "markdown",
   "id": "b4cc0aac",
   "metadata": {
    "cq.autogen": "Free.graphical_signature.md"
   },
   "source": [
    "#### Graphical Signature"
   ]
  },
  {
   "cell_type": "code",
   "execution_count": 8,
   "id": "dff1e1ff",
   "metadata": {
    "cq.autogen": "Free.graphical_signature.py"
   },
   "outputs": [
    {
     "data": {
      "application/vnd.jupyter.widget-view+json": {
       "model_id": "cba75ef0353249d6b46466aab28b07e3",
       "version_major": 2,
       "version_minor": 0
      },
      "text/plain": [
       "HBox(children=(Output(outputs=({'output_type': 'display_data', 'data': {'text/plain': '<IPython.core.display.M…"
      ]
     },
     "metadata": {},
     "output_type": "display_data"
    }
   ],
   "source": [
    "from qualtran.drawing import show_bloqs\n",
    "show_bloqs([free],\n",
    "           ['`free`'])"
   ]
  },
  {
   "cell_type": "markdown",
   "id": "38d79b30",
   "metadata": {
    "cq.autogen": "Free.call_graph.md"
   },
   "source": [
    "### Call Graph"
   ]
  },
  {
   "cell_type": "code",
   "execution_count": 9,
   "id": "768baaed",
   "metadata": {
    "cq.autogen": "Free.call_graph.py"
   },
   "outputs": [
    {
     "data": {
      "image/svg+xml": [
       "<svg xmlns=\"http://www.w3.org/2000/svg\" xmlns:xlink=\"http://www.w3.org/1999/xlink\" width=\"62pt\" height=\"44pt\" viewBox=\"0.00 0.00 62.00 44.00\">\n",
       "<g id=\"graph0\" class=\"graph\" transform=\"scale(1 1) rotate(0) translate(4 40)\">\n",
       "<title>counts</title>\n",
       "<polygon fill=\"white\" stroke=\"transparent\" points=\"-4,4 -4,-40 58,-40 58,4 -4,4\"/>\n",
       "<!-- b0 -->\n",
       "<g id=\"node1\" class=\"node\">\n",
       "<title>b0</title>\n",
       "<polygon fill=\"none\" stroke=\"black\" points=\"12,-6 12,-29 42,-29 42,-6 12,-6\"/>\n",
       "<text text-anchor=\"start\" x=\"18\" y=\"-15\" font-family=\"Times,serif\" font-size=\"10.00\">Free</text>\n",
       "</g>\n",
       "</g>\n",
       "</svg>"
      ],
      "text/plain": [
       "<IPython.core.display.SVG object>"
      ]
     },
     "metadata": {},
     "output_type": "display_data"
    },
    {
     "data": {
      "text/markdown": [
       "#### Counts totals:\n",
       " - `Free`: 1"
      ],
      "text/plain": [
       "<IPython.core.display.Markdown object>"
      ]
     },
     "metadata": {},
     "output_type": "display_data"
    }
   ],
   "source": [
    "from qualtran.resource_counting.generalizers import ignore_split_join\n",
    "free_g, free_sigma = free.call_graph(max_depth=1, generalizer=ignore_split_join)\n",
    "show_call_graph(free_g)\n",
    "show_counts_sigma(free_sigma)"
   ]
  },
  {
   "cell_type": "markdown",
   "id": "37f64a1b",
   "metadata": {
    "cq.autogen": "Split.bloq_doc.md"
   },
   "source": [
    "## `Split`\n",
    "Split a register of a given `dtype` into an array of `QBit`s.\n",
    "\n",
    "A logical operation may be defined on e.g. a quantum integer, but to define its decomposition\n",
    "we must operate on individual bits. `Split` can be used for this purpose. See `Join` for the\n",
    "inverse operation.\n",
    "\n",
    "#### Parameters\n",
    " - `dtype`: The quantum data type of the incoming data that will be split into an array of `QBit`s. \n",
    "\n",
    "#### Registers\n",
    " - `reg`: The register to be split. On its left, it is of the given data type. On the right, it is an array of `QBit()`s of shape `(dtype.num_qubits,)`.\n"
   ]
  },
  {
   "cell_type": "code",
   "execution_count": 10,
   "id": "989a32e4",
   "metadata": {
    "cq.autogen": "Split.bloq_doc.py"
   },
   "outputs": [],
   "source": [
    "from qualtran.bloqs.bookkeeping import Split"
   ]
  },
  {
   "cell_type": "markdown",
   "id": "b637603e",
   "metadata": {
    "cq.autogen": "Split.example_instances.md"
   },
   "source": [
    "### Example Instances"
   ]
  },
  {
   "cell_type": "code",
   "execution_count": 11,
   "id": "51b40d3a",
   "metadata": {
    "cq.autogen": "Split.split"
   },
   "outputs": [],
   "source": [
    "split = Split(QUInt(4))"
   ]
  },
  {
   "cell_type": "markdown",
   "id": "7fe4eb73",
   "metadata": {
    "cq.autogen": "Split.graphical_signature.md"
   },
   "source": [
    "#### Graphical Signature"
   ]
  },
  {
   "cell_type": "code",
   "execution_count": 12,
   "id": "06ab26d2",
   "metadata": {
    "cq.autogen": "Split.graphical_signature.py"
   },
   "outputs": [
    {
     "data": {
      "application/vnd.jupyter.widget-view+json": {
       "model_id": "396d78a8541549179e92d9c1df79a339",
       "version_major": 2,
       "version_minor": 0
      },
      "text/plain": [
       "HBox(children=(Output(outputs=({'output_type': 'display_data', 'data': {'text/plain': '<IPython.core.display.M…"
      ]
     },
     "metadata": {},
     "output_type": "display_data"
    }
   ],
   "source": [
    "from qualtran.drawing import show_bloqs\n",
    "show_bloqs([split],\n",
    "           ['`split`'])"
   ]
  },
  {
   "cell_type": "markdown",
   "id": "1de18159",
   "metadata": {
    "cq.autogen": "Join.bloq_doc.md"
   },
   "source": [
    "## `Join`\n",
    "Join an array of `QBit`s into one register of type `dtype`.\n",
    "\n",
    "#### Parameters\n",
    " - `dtype`: The quantum data type of the right (joined) register. \n",
    "\n",
    "#### Registers\n",
    " - `reg`: The register to be joined. On its left, it is an array of qubits. On the right, it is a register of the given data type.\n"
   ]
  },
  {
   "cell_type": "code",
   "execution_count": 13,
   "id": "2e4641c9",
   "metadata": {
    "cq.autogen": "Join.bloq_doc.py"
   },
   "outputs": [],
   "source": [
    "from qualtran.bloqs.bookkeeping import Join"
   ]
  },
  {
   "cell_type": "markdown",
   "id": "6a54320c",
   "metadata": {
    "cq.autogen": "Join.example_instances.md"
   },
   "source": [
    "### Example Instances"
   ]
  },
  {
   "cell_type": "code",
   "execution_count": 14,
   "id": "bc9df57b",
   "metadata": {
    "cq.autogen": "Join.join"
   },
   "outputs": [],
   "source": [
    "join = Join(dtype=QUInt(4))"
   ]
  },
  {
   "cell_type": "markdown",
   "id": "15b2c289",
   "metadata": {
    "cq.autogen": "Join.graphical_signature.md"
   },
   "source": [
    "#### Graphical Signature"
   ]
  },
  {
   "cell_type": "code",
   "execution_count": 15,
   "id": "a16522f5",
   "metadata": {
    "cq.autogen": "Join.graphical_signature.py"
   },
   "outputs": [
    {
     "data": {
      "application/vnd.jupyter.widget-view+json": {
       "model_id": "c66ddcebfae4429083ad0e6d54a9e42d",
       "version_major": 2,
       "version_minor": 0
      },
      "text/plain": [
       "HBox(children=(Output(outputs=({'output_type': 'display_data', 'data': {'text/plain': '<IPython.core.display.M…"
      ]
     },
     "metadata": {},
     "output_type": "display_data"
    }
   ],
   "source": [
    "from qualtran.drawing import show_bloqs\n",
    "show_bloqs([join],\n",
    "           ['`join`'])"
   ]
  },
  {
   "cell_type": "markdown",
   "id": "3eeceacd-10ef-471b-b476-6b4f527b0c49",
   "metadata": {},
   "source": [
    "### Combining Split and Join\n",
    "\n",
    "As a brief example, we compose split and join into an identity operation."
   ]
  },
  {
   "cell_type": "code",
   "execution_count": 16,
   "id": "ac2e083b-7a2e-48d0-8d91-dbf148822ea9",
   "metadata": {},
   "outputs": [
    {
     "data": {
      "image/svg+xml": [
       "<svg xmlns=\"http://www.w3.org/2000/svg\" xmlns:xlink=\"http://www.w3.org/1999/xlink\" width=\"251pt\" height=\"51pt\" viewBox=\"0.00 0.00 251.00 51.00\">\n",
       "<g id=\"graph0\" class=\"graph\" transform=\"scale(1 1) rotate(0) translate(4 47)\">\n",
       "<title>my_graph</title>\n",
       "<polygon fill=\"white\" stroke=\"transparent\" points=\"-4,4 -4,-47 247,-47 247,4 -4,4\"/>\n",
       "<!-- x -->\n",
       "<g id=\"node1\" class=\"node\">\n",
       "<title>x</title>\n",
       "<text text-anchor=\"middle\" x=\"27\" y=\"-14.3\" font-family=\"Times,serif\" font-size=\"14.00\">x</text>\n",
       "</g>\n",
       "<!-- Split -->\n",
       "<g id=\"node3\" class=\"node\">\n",
       "<title>Split</title>\n",
       "<polygon fill=\"none\" stroke=\"black\" points=\"91,-30 91,-36 103,-36 103,-30 91,-30\"/>\n",
       "<polygon fill=\"none\" stroke=\"black\" points=\"91,-6 91,-30 97,-30 97,-6 91,-6\"/>\n",
       "<polygon fill=\"none\" stroke=\"black\" points=\"97,-24 97,-30 103,-30 103,-24 97,-24\"/>\n",
       "<polygon fill=\"none\" stroke=\"black\" points=\"97,-18 97,-24 103,-24 103,-18 97,-18\"/>\n",
       "<polygon fill=\"none\" stroke=\"black\" points=\"97,-12 97,-18 103,-18 103,-12 97,-12\"/>\n",
       "<polygon fill=\"none\" stroke=\"black\" points=\"97,-6 97,-12 103,-12 103,-6 97,-6\"/>\n",
       "</g>\n",
       "<!-- x&#45;&gt;Split -->\n",
       "<g id=\"edge1\" class=\"edge\">\n",
       "<title>x:e-&gt;Split:w</title>\n",
       "<path fill=\"none\" stroke=\"black\" d=\"M54,-18C69.67,-18 74.14,-18 88.77,-18\"/>\n",
       "<ellipse fill=\"black\" stroke=\"black\" cx=\"90\" cy=\"-18\" rx=\"1\" ry=\"1\"/>\n",
       "<text text-anchor=\"middle\" x=\"72.5\" y=\"-21\" font-family=\"Times,serif\" font-size=\"10.00\">4</text>\n",
       "</g>\n",
       "<!-- Join -->\n",
       "<g id=\"node2\" class=\"node\">\n",
       "<title>Join</title>\n",
       "<polygon fill=\"none\" stroke=\"black\" points=\"140,-30 140,-36 152,-36 152,-30 140,-30\"/>\n",
       "<polygon fill=\"none\" stroke=\"black\" points=\"140,-24 140,-30 146,-30 146,-24 140,-24\"/>\n",
       "<polygon fill=\"none\" stroke=\"black\" points=\"146,-6 146,-30 152,-30 152,-6 146,-6\"/>\n",
       "<polygon fill=\"none\" stroke=\"black\" points=\"140,-18 140,-24 146,-24 146,-18 140,-18\"/>\n",
       "<polygon fill=\"none\" stroke=\"black\" points=\"140,-12 140,-18 146,-18 146,-12 140,-12\"/>\n",
       "<polygon fill=\"none\" stroke=\"black\" points=\"140,-6 140,-12 146,-12 146,-6 140,-6\"/>\n",
       "</g>\n",
       "<!-- x_G6 -->\n",
       "<g id=\"node4\" class=\"node\">\n",
       "<title>x_G6</title>\n",
       "<text text-anchor=\"middle\" x=\"216\" y=\"-14.3\" font-family=\"Times,serif\" font-size=\"14.00\">x</text>\n",
       "</g>\n",
       "<!-- Join&#45;&gt;x_G6 -->\n",
       "<g id=\"edge6\" class=\"edge\">\n",
       "<title>Join:e-&gt;x_G6:w</title>\n",
       "<path fill=\"none\" stroke=\"black\" d=\"M152,-18C167.67,-18 172.14,-18 186.77,-18\"/>\n",
       "<ellipse fill=\"black\" stroke=\"black\" cx=\"188\" cy=\"-18\" rx=\"1\" ry=\"1\"/>\n",
       "<text text-anchor=\"middle\" x=\"170.5\" y=\"-21\" font-family=\"Times,serif\" font-size=\"10.00\">4</text>\n",
       "</g>\n",
       "<!-- Split&#45;&gt;Join -->\n",
       "<g id=\"edge2\" class=\"edge\">\n",
       "<title>Split:e-&gt;Join:w</title>\n",
       "<path fill=\"none\" stroke=\"black\" d=\"M103,-27C111.3,-27 112.77,-30.88 121,-32 128.84,-33.07 130.9,-28.09 137.72,-27.15\"/>\n",
       "<ellipse fill=\"black\" stroke=\"black\" cx=\"139\" cy=\"-27.07\" rx=\"1\" ry=\"1\"/>\n",
       "<text text-anchor=\"middle\" x=\"121.5\" y=\"-35\" font-family=\"Times,serif\" font-size=\"10.00\">1</text>\n",
       "</g>\n",
       "<!-- Split&#45;&gt;Join -->\n",
       "<g id=\"edge3\" class=\"edge\">\n",
       "<title>Split:e-&gt;Join:w</title>\n",
       "<path fill=\"none\" stroke=\"black\" d=\"M103,-21C118.67,-21 123.14,-21 137.77,-21\"/>\n",
       "<ellipse fill=\"black\" stroke=\"black\" cx=\"139\" cy=\"-21\" rx=\"1\" ry=\"1\"/>\n",
       "<text text-anchor=\"middle\" x=\"121.5\" y=\"-24\" font-family=\"Times,serif\" font-size=\"10.00\">1</text>\n",
       "</g>\n",
       "<!-- Split&#45;&gt;Join -->\n",
       "<g id=\"edge4\" class=\"edge\">\n",
       "<title>Split:e-&gt;Join:w</title>\n",
       "<path fill=\"none\" stroke=\"black\" d=\"M103,-15C118.67,-15 123.14,-15 137.77,-15\"/>\n",
       "<ellipse fill=\"black\" stroke=\"black\" cx=\"139\" cy=\"-15\" rx=\"1\" ry=\"1\"/>\n",
       "<text text-anchor=\"middle\" x=\"121.5\" y=\"-18\" font-family=\"Times,serif\" font-size=\"10.00\">1</text>\n",
       "</g>\n",
       "<!-- Split&#45;&gt;Join -->\n",
       "<g id=\"edge5\" class=\"edge\">\n",
       "<title>Split:e-&gt;Join:w</title>\n",
       "<path fill=\"none\" stroke=\"black\" d=\"M103,-9C118.67,-9 123.14,-9 137.77,-9\"/>\n",
       "<ellipse fill=\"black\" stroke=\"black\" cx=\"139\" cy=\"-9\" rx=\"1\" ry=\"1\"/>\n",
       "<text text-anchor=\"middle\" x=\"121.5\" y=\"-12\" font-family=\"Times,serif\" font-size=\"10.00\">1</text>\n",
       "</g>\n",
       "</g>\n",
       "</svg>"
      ],
      "text/plain": [
       "<IPython.core.display.SVG object>"
      ]
     },
     "metadata": {},
     "output_type": "display_data"
    }
   ],
   "source": [
    "import attrs\n",
    "\n",
    "@attrs.frozen\n",
    "class SplitJoin(Bloq):\n",
    "    n: int\n",
    "\n",
    "    @property\n",
    "    def signature(self) -> Signature:\n",
    "        return Signature([Register('x', QAny(self.n))])\n",
    "\n",
    "    def build_composite_bloq(\n",
    "        self, bb: 'BloqBuilder', *, x: 'Soquet'\n",
    "    ) -> Dict[str, 'Soquet']:\n",
    "        xs = bb.split(x)\n",
    "        x = bb.join(xs)\n",
    "        return {'x': x}\n",
    "\n",
    "split_join = SplitJoin(n=4).decompose_bloq()\n",
    "show_bloq(split_join)"
   ]
  },
  {
   "cell_type": "markdown",
   "id": "e36f4ea3-d77e-43f0-9522-63f4295521a1",
   "metadata": {},
   "source": [
    "In the \"musical score\" diagrams, splits are drawn such that the `dtype` wire is terminated, and the array-of-bits wires are started; and vice-versa for join."
   ]
  },
  {
   "cell_type": "code",
   "execution_count": 17,
   "id": "5aab6f53-6be9-4e6a-946b-c23227cd5e13",
   "metadata": {},
   "outputs": [
    {
     "data": {
      "image/png": "[encoded data removed]",
      "text/plain": [
       "<Figure size 400x440 with 1 Axes>"
      ]
     },
     "metadata": {},
     "output_type": "display_data"
    }
   ],
   "source": [
    "show_bloq(split_join, 'musical_score')"
   ]
  },
  {
   "cell_type": "markdown",
   "id": "668a3eda",
   "metadata": {
    "cq.autogen": "Partition.bloq_doc.md"
   },
   "source": [
    "## `Partition`\n",
    "Partition a generic index into multiple registers.\n",
    "\n",
    "#### Parameters\n",
    " - `n`: The total bitsize of the un-partitioned register\n",
    " - `regs`: Registers to partition into. The `side` attribute is ignored.\n",
    " - `partition`: `False` means un-partition instead. \n",
    "\n",
    "#### Registers\n",
    " - `x`: the un-partitioned register. LEFT by default.\n",
    " - `[user spec]`: The registers provided by the `regs` argument. RIGHT by default.\n"
   ]
  },
  {
   "cell_type": "code",
   "execution_count": 18,
   "id": "f028e493",
   "metadata": {
    "cq.autogen": "Partition.bloq_doc.py"
   },
   "outputs": [],
   "source": [
    "from qualtran.bloqs.bookkeeping import Partition"
   ]
  },
  {
   "cell_type": "markdown",
   "id": "eeef3484",
   "metadata": {
    "cq.autogen": "Partition.example_instances.md"
   },
   "source": [
    "### Example Instances"
   ]
  },
  {
   "cell_type": "code",
   "execution_count": 19,
   "id": "f7a3737a",
   "metadata": {
    "cq.autogen": "Partition.partition"
   },
   "outputs": [],
   "source": [
    "regs = (Register('xx', QAny(2), shape=(2, 3)), Register('yy', QAny(37)))\n",
    "bitsize = sum(reg.total_bits() for reg in regs)\n",
    "partition = Partition(n=bitsize, regs=regs)"
   ]
  },
  {
   "cell_type": "markdown",
   "id": "379dc723",
   "metadata": {
    "cq.autogen": "Partition.graphical_signature.md"
   },
   "source": [
    "#### Graphical Signature"
   ]
  },
  {
   "cell_type": "code",
   "execution_count": 20,
   "id": "eb3b3494",
   "metadata": {
    "cq.autogen": "Partition.graphical_signature.py"
   },
   "outputs": [
    {
     "data": {
      "application/vnd.jupyter.widget-view+json": {
       "model_id": "a211a7f4fe204871933c020c34440a12",
       "version_major": 2,
       "version_minor": 0
      },
      "text/plain": [
       "HBox(children=(Output(outputs=({'output_type': 'display_data', 'data': {'text/plain': '<IPython.core.display.M…"
      ]
     },
     "metadata": {},
     "output_type": "display_data"
    }
   ],
   "source": [
    "from qualtran.drawing import show_bloqs\n",
    "show_bloqs([partition],\n",
    "           ['`partition`'])"
   ]
  },
  {
   "cell_type": "markdown",
   "id": "908912b4-865d-4cce-8e53-a0ac68554ecd",
   "metadata": {},
   "source": [
    "As an example of the utility of `Partition`, we'll use the generic `TestMultiRegister` bloq as an example sub-bloq with many registers. We can wrap it in the `BlackBoxBloq` adapter defined below to abstract away the complicated signature into one register named \"system\"."
   ]
  },
  {
   "cell_type": "code",
   "execution_count": 21,
   "id": "11e572d9-4ce8-42c3-be61-10b85fe41569",
   "metadata": {},
   "outputs": [
    {
     "data": {
      "image/svg+xml": [
       "<svg xmlns=\"http://www.w3.org/2000/svg\" xmlns:xlink=\"http://www.w3.org/1999/xlink\" width=\"252pt\" height=\"314pt\" viewBox=\"0.00 0.00 252.00 314.00\">\n",
       "<g id=\"graph0\" class=\"graph\" transform=\"scale(1 1) rotate(0) translate(4 310)\">\n",
       "<title>my_graph</title>\n",
       "<polygon fill=\"white\" stroke=\"transparent\" points=\"-4,4 -4,-310 248,-310 248,4 -4,4\"/>\n",
       "<!-- xx_G0 -->\n",
       "<g id=\"node1\" class=\"node\">\n",
       "<title>xx_G0</title>\n",
       "<text text-anchor=\"middle\" x=\"30\" y=\"-284.3\" font-family=\"Times,serif\" font-size=\"14.00\">xx</text>\n",
       "</g>\n",
       "<!-- TestMultiRegister -->\n",
       "<g id=\"node7\" class=\"node\">\n",
       "<title>TestMultiRegister</title>\n",
       "<polygon fill=\"none\" stroke=\"black\" points=\"97,-216 97,-233 147,-233 147,-216 97,-216\"/>\n",
       "<text text-anchor=\"start\" x=\"114\" y=\"-222\" font-family=\"Times,serif\" font-size=\"10.00\">xyz</text>\n",
       "<polygon fill=\"none\" stroke=\"black\" points=\"97,-195 97,-216 147,-216 147,-195 97,-195\"/>\n",
       "<text text-anchor=\"start\" x=\"115\" y=\"-201.8\" font-family=\"Times,serif\" font-size=\"14.00\">xx</text>\n",
       "<polygon fill=\"none\" stroke=\"black\" points=\"97,-174 97,-195 147,-195 147,-174 97,-174\"/>\n",
       "<text text-anchor=\"start\" x=\"100\" y=\"-180.8\" font-family=\"Times,serif\" font-size=\"14.00\">yy[0, 0]</text>\n",
       "<polygon fill=\"none\" stroke=\"black\" points=\"97,-153 97,-174 147,-174 147,-153 97,-153\"/>\n",
       "<text text-anchor=\"start\" x=\"100\" y=\"-159.8\" font-family=\"Times,serif\" font-size=\"14.00\">yy[0, 1]</text>\n",
       "<polygon fill=\"none\" stroke=\"black\" points=\"97,-132 97,-153 147,-153 147,-132 97,-132\"/>\n",
       "<text text-anchor=\"start\" x=\"100\" y=\"-138.8\" font-family=\"Times,serif\" font-size=\"14.00\">yy[1, 0]</text>\n",
       "<polygon fill=\"none\" stroke=\"black\" points=\"97,-111 97,-132 147,-132 147,-111 97,-111\"/>\n",
       "<text text-anchor=\"start\" x=\"100\" y=\"-117.8\" font-family=\"Times,serif\" font-size=\"14.00\">yy[1, 1]</text>\n",
       "<polygon fill=\"none\" stroke=\"black\" points=\"97,-90 97,-111 147,-111 147,-90 97,-90\"/>\n",
       "<text text-anchor=\"start\" x=\"115.5\" y=\"-96.8\" font-family=\"Times,serif\" font-size=\"14.00\">zz</text>\n",
       "</g>\n",
       "<!-- xx_G0&#45;&gt;TestMultiRegister -->\n",
       "<g id=\"edge1\" class=\"edge\">\n",
       "<title>xx_G0:e-&gt;TestMultiRegister:w</title>\n",
       "<path fill=\"none\" stroke=\"black\" d=\"M58,-288C97.57,-288 58.24,-209.17 94.73,-206.09\"/>\n",
       "<ellipse fill=\"black\" stroke=\"black\" cx=\"96\" cy=\"-206.04\" rx=\"1\" ry=\"1\"/>\n",
       "<text text-anchor=\"middle\" x=\"78.5\" y=\"-228\" font-family=\"Times,serif\" font-size=\"10.00\">1</text>\n",
       "</g>\n",
       "<!-- yy_G10 -->\n",
       "<g id=\"node2\" class=\"node\">\n",
       "<title>yy_G10</title>\n",
       "<text text-anchor=\"middle\" x=\"30\" y=\"-230.3\" font-family=\"Times,serif\" font-size=\"14.00\">yy[0, 0]</text>\n",
       "</g>\n",
       "<!-- yy_G10&#45;&gt;TestMultiRegister -->\n",
       "<g id=\"edge2\" class=\"edge\">\n",
       "<title>yy_G10:e-&gt;TestMultiRegister:w</title>\n",
       "<path fill=\"none\" stroke=\"black\" d=\"M60,-234C86.54,-234 70.64,-187.64 94.86,-185.11\"/>\n",
       "<ellipse fill=\"black\" stroke=\"black\" cx=\"96\" cy=\"-185.05\" rx=\"1\" ry=\"1\"/>\n",
       "<text text-anchor=\"middle\" x=\"78.5\" y=\"-213\" font-family=\"Times,serif\" font-size=\"10.00\">2</text>\n",
       "</g>\n",
       "<!-- yy_G2 -->\n",
       "<g id=\"node3\" class=\"node\">\n",
       "<title>yy_G2</title>\n",
       "<text text-anchor=\"middle\" x=\"30\" y=\"-176.3\" font-family=\"Times,serif\" font-size=\"14.00\">yy[0, 1]</text>\n",
       "</g>\n",
       "<!-- yy_G2&#45;&gt;TestMultiRegister -->\n",
       "<g id=\"edge3\" class=\"edge\">\n",
       "<title>yy_G2:e-&gt;TestMultiRegister:w</title>\n",
       "<path fill=\"none\" stroke=\"black\" d=\"M60,-180C77.22,-180 78.97,-165.23 94.98,-164.07\"/>\n",
       "<ellipse fill=\"black\" stroke=\"black\" cx=\"96\" cy=\"-164.04\" rx=\"1\" ry=\"1\"/>\n",
       "<text text-anchor=\"middle\" x=\"78.5\" y=\"-175\" font-family=\"Times,serif\" font-size=\"10.00\">2</text>\n",
       "</g>\n",
       "<!-- yy_G8 -->\n",
       "<g id=\"node4\" class=\"node\">\n",
       "<title>yy_G8</title>\n",
       "<text text-anchor=\"middle\" x=\"30\" y=\"-122.3\" font-family=\"Times,serif\" font-size=\"14.00\">yy[1, 0]</text>\n",
       "</g>\n",
       "<!-- yy_G8&#45;&gt;TestMultiRegister -->\n",
       "<g id=\"edge4\" class=\"edge\">\n",
       "<title>yy_G8:e-&gt;TestMultiRegister:w</title>\n",
       "<path fill=\"none\" stroke=\"black\" d=\"M60,-126C77.22,-126 78.97,-140.77 94.98,-141.93\"/>\n",
       "<ellipse fill=\"black\" stroke=\"black\" cx=\"96\" cy=\"-141.96\" rx=\"1\" ry=\"1\"/>\n",
       "<text text-anchor=\"middle\" x=\"78.5\" y=\"-137\" font-family=\"Times,serif\" font-size=\"10.00\">2</text>\n",
       "</g>\n",
       "<!-- yy_G13 -->\n",
       "<g id=\"node5\" class=\"node\">\n",
       "<title>yy_G13</title>\n",
       "<text text-anchor=\"middle\" x=\"30\" y=\"-68.3\" font-family=\"Times,serif\" font-size=\"14.00\">yy[1, 1]</text>\n",
       "</g>\n",
       "<!-- yy_G13&#45;&gt;TestMultiRegister -->\n",
       "<g id=\"edge5\" class=\"edge\">\n",
       "<title>yy_G13:e-&gt;TestMultiRegister:w</title>\n",
       "<path fill=\"none\" stroke=\"black\" d=\"M60,-72C86.54,-72 70.64,-118.36 94.86,-120.89\"/>\n",
       "<ellipse fill=\"black\" stroke=\"black\" cx=\"96\" cy=\"-120.95\" rx=\"1\" ry=\"1\"/>\n",
       "<text text-anchor=\"middle\" x=\"78.5\" y=\"-100\" font-family=\"Times,serif\" font-size=\"10.00\">2</text>\n",
       "</g>\n",
       "<!-- zz_G6 -->\n",
       "<g id=\"node6\" class=\"node\">\n",
       "<title>zz_G6</title>\n",
       "<text text-anchor=\"middle\" x=\"30\" y=\"-14.3\" font-family=\"Times,serif\" font-size=\"14.00\">zz</text>\n",
       "</g>\n",
       "<!-- zz_G6&#45;&gt;TestMultiRegister -->\n",
       "<g id=\"edge6\" class=\"edge\">\n",
       "<title>zz_G6:e-&gt;TestMultiRegister:w</title>\n",
       "<path fill=\"none\" stroke=\"black\" d=\"M58,-18C97.57,-18 58.24,-96.83 94.73,-99.91\"/>\n",
       "<ellipse fill=\"black\" stroke=\"black\" cx=\"96\" cy=\"-99.96\" rx=\"1\" ry=\"1\"/>\n",
       "<text text-anchor=\"middle\" x=\"78.5\" y=\"-87\" font-family=\"Times,serif\" font-size=\"10.00\">3</text>\n",
       "</g>\n",
       "<!-- xx_G7 -->\n",
       "<g id=\"node8\" class=\"node\">\n",
       "<title>xx_G7</title>\n",
       "<text text-anchor=\"middle\" x=\"214\" y=\"-284.3\" font-family=\"Times,serif\" font-size=\"14.00\">xx</text>\n",
       "</g>\n",
       "<!-- TestMultiRegister&#45;&gt;xx_G7 -->\n",
       "<g id=\"edge7\" class=\"edge\">\n",
       "<title>TestMultiRegister:e-&gt;xx_G7:w</title>\n",
       "<path fill=\"none\" stroke=\"black\" d=\"M147,-206C186.57,-206 147.24,-284.83 183.73,-287.91\"/>\n",
       "<ellipse fill=\"black\" stroke=\"black\" cx=\"185\" cy=\"-287.96\" rx=\"1\" ry=\"1\"/>\n",
       "<text text-anchor=\"middle\" x=\"165.5\" y=\"-228\" font-family=\"Times,serif\" font-size=\"10.00\">1</text>\n",
       "</g>\n",
       "<!-- yy_G15 -->\n",
       "<g id=\"node9\" class=\"node\">\n",
       "<title>yy_G15</title>\n",
       "<text text-anchor=\"middle\" x=\"214\" y=\"-230.3\" font-family=\"Times,serif\" font-size=\"14.00\">yy[0, 0]</text>\n",
       "</g>\n",
       "<!-- TestMultiRegister&#45;&gt;yy_G15 -->\n",
       "<g id=\"edge8\" class=\"edge\">\n",
       "<title>TestMultiRegister:e-&gt;yy_G15:w</title>\n",
       "<path fill=\"none\" stroke=\"black\" d=\"M147,-185C173.54,-185 157.64,-231.36 181.86,-233.89\"/>\n",
       "<ellipse fill=\"black\" stroke=\"black\" cx=\"183\" cy=\"-233.95\" rx=\"1\" ry=\"1\"/>\n",
       "<text text-anchor=\"middle\" x=\"165.5\" y=\"-213\" font-family=\"Times,serif\" font-size=\"10.00\">2</text>\n",
       "</g>\n",
       "<!-- yy_G17 -->\n",
       "<g id=\"node10\" class=\"node\">\n",
       "<title>yy_G17</title>\n",
       "<text text-anchor=\"middle\" x=\"214\" y=\"-176.3\" font-family=\"Times,serif\" font-size=\"14.00\">yy[0, 1]</text>\n",
       "</g>\n",
       "<!-- TestMultiRegister&#45;&gt;yy_G17 -->\n",
       "<g id=\"edge9\" class=\"edge\">\n",
       "<title>TestMultiRegister:e-&gt;yy_G17:w</title>\n",
       "<path fill=\"none\" stroke=\"black\" d=\"M147,-164C164.22,-164 165.97,-178.77 181.98,-179.93\"/>\n",
       "<ellipse fill=\"black\" stroke=\"black\" cx=\"183\" cy=\"-179.96\" rx=\"1\" ry=\"1\"/>\n",
       "<text text-anchor=\"middle\" x=\"165.5\" y=\"-175\" font-family=\"Times,serif\" font-size=\"10.00\">2</text>\n",
       "</g>\n",
       "<!-- yy_G3 -->\n",
       "<g id=\"node11\" class=\"node\">\n",
       "<title>yy_G3</title>\n",
       "<text text-anchor=\"middle\" x=\"214\" y=\"-122.3\" font-family=\"Times,serif\" font-size=\"14.00\">yy[1, 0]</text>\n",
       "</g>\n",
       "<!-- TestMultiRegister&#45;&gt;yy_G3 -->\n",
       "<g id=\"edge10\" class=\"edge\">\n",
       "<title>TestMultiRegister:e-&gt;yy_G3:w</title>\n",
       "<path fill=\"none\" stroke=\"black\" d=\"M147,-142C164.22,-142 165.97,-127.23 181.98,-126.07\"/>\n",
       "<ellipse fill=\"black\" stroke=\"black\" cx=\"183\" cy=\"-126.04\" rx=\"1\" ry=\"1\"/>\n",
       "<text text-anchor=\"middle\" x=\"165.5\" y=\"-137\" font-family=\"Times,serif\" font-size=\"10.00\">2</text>\n",
       "</g>\n",
       "<!-- yy_G9 -->\n",
       "<g id=\"node12\" class=\"node\">\n",
       "<title>yy_G9</title>\n",
       "<text text-anchor=\"middle\" x=\"214\" y=\"-68.3\" font-family=\"Times,serif\" font-size=\"14.00\">yy[1, 1]</text>\n",
       "</g>\n",
       "<!-- TestMultiRegister&#45;&gt;yy_G9 -->\n",
       "<g id=\"edge11\" class=\"edge\">\n",
       "<title>TestMultiRegister:e-&gt;yy_G9:w</title>\n",
       "<path fill=\"none\" stroke=\"black\" d=\"M147,-121C173.54,-121 157.64,-74.64 181.86,-72.11\"/>\n",
       "<ellipse fill=\"black\" stroke=\"black\" cx=\"183\" cy=\"-72.05\" rx=\"1\" ry=\"1\"/>\n",
       "<text text-anchor=\"middle\" x=\"165.5\" y=\"-100\" font-family=\"Times,serif\" font-size=\"10.00\">2</text>\n",
       "</g>\n",
       "<!-- zz_G12 -->\n",
       "<g id=\"node13\" class=\"node\">\n",
       "<title>zz_G12</title>\n",
       "<text text-anchor=\"middle\" x=\"214\" y=\"-14.3\" font-family=\"Times,serif\" font-size=\"14.00\">zz</text>\n",
       "</g>\n",
       "<!-- TestMultiRegister&#45;&gt;zz_G12 -->\n",
       "<g id=\"edge12\" class=\"edge\">\n",
       "<title>TestMultiRegister:e-&gt;zz_G12:w</title>\n",
       "<path fill=\"none\" stroke=\"black\" d=\"M147,-100C186.57,-100 147.24,-21.17 183.73,-18.09\"/>\n",
       "<ellipse fill=\"black\" stroke=\"black\" cx=\"185\" cy=\"-18.04\" rx=\"1\" ry=\"1\"/>\n",
       "<text text-anchor=\"middle\" x=\"165.5\" y=\"-87\" font-family=\"Times,serif\" font-size=\"10.00\">3</text>\n",
       "</g>\n",
       "</g>\n",
       "</svg>"
      ],
      "text/plain": [
       "<IPython.core.display.SVG object>"
      ]
     },
     "metadata": {},
     "output_type": "display_data"
    }
   ],
   "source": [
    "from qualtran.bloqs.for_testing.many_registers import TestMultiRegister\n",
    "\n",
    "subbloq = TestMultiRegister()\n",
    "show_bloq(subbloq)"
   ]
  },
  {
   "cell_type": "code",
   "execution_count": 22,
   "id": "bc0aeb16-791b-43ee-8877-0a060b8e45aa",
   "metadata": {},
   "outputs": [],
   "source": [
    "import attrs\n",
    "\n",
    "@attrs.frozen\n",
    "class BlackBoxBloq(Bloq):\n",
    "    subbloq: Bloq\n",
    "\n",
    "    @property\n",
    "    def signature(self) -> Signature:\n",
    "        return Signature.build(system=self.bitsize)\n",
    "\n",
    "    @property\n",
    "    def bitsize(self):\n",
    "        return sum(reg.total_bits() for reg in self.subbloq.signature)\n",
    "\n",
    "    def build_composite_bloq(self, bb: 'BloqBuilder', system: 'SoquetT') -> Dict[str, 'Soquet']:\n",
    "        bloq_regs = self.subbloq.signature\n",
    "        partition = Partition(self.bitsize, bloq_regs)\n",
    "        partitioned_vars = bb.add(partition, x=system)\n",
    "        partitioned_vars = bb.add(\n",
    "            self.subbloq, **{reg.name: sp for reg, sp in zip(bloq_regs, partitioned_vars)}\n",
    "        )\n",
    "        system = bb.add(\n",
    "            partition.adjoint(), **{reg.name: sp for reg, sp in zip(bloq_regs, partitioned_vars)}\n",
    "        )\n",
    "        return {'system': system}"
   ]
  },
  {
   "cell_type": "code",
   "execution_count": 23,
   "id": "e3f923a9-acc4-4ebb-a9ef-f160c3adc53b",
   "metadata": {},
   "outputs": [
    {
     "data": {
      "image/svg+xml": [
       "<svg xmlns=\"http://www.w3.org/2000/svg\" xmlns:xlink=\"http://www.w3.org/1999/xlink\" width=\"260pt\" height=\"54pt\" viewBox=\"0.00 0.00 260.00 54.00\">\n",
       "<g id=\"graph0\" class=\"graph\" transform=\"scale(1 1) rotate(0) translate(4 50)\">\n",
       "<title>my_graph</title>\n",
       "<polygon fill=\"white\" stroke=\"transparent\" points=\"-4,4 -4,-50 256,-50 256,4 -4,4\"/>\n",
       "<!-- system_G1 -->\n",
       "<g id=\"node1\" class=\"node\">\n",
       "<title>system_G1</title>\n",
       "<text text-anchor=\"middle\" x=\"27.5\" y=\"-14.3\" font-family=\"Times,serif\" font-size=\"14.00\">system</text>\n",
       "</g>\n",
       "<!-- BlackBoxBloq -->\n",
       "<g id=\"node2\" class=\"node\">\n",
       "<title>BlackBoxBloq</title>\n",
       "<polygon fill=\"none\" stroke=\"black\" points=\"92,-29 92,-46 160,-46 160,-29 92,-29\"/>\n",
       "<text text-anchor=\"start\" x=\"95\" y=\"-35\" font-family=\"Times,serif\" font-size=\"10.00\">BlackBoxBloq</text>\n",
       "<polygon fill=\"none\" stroke=\"black\" points=\"92,-8 92,-29 160,-29 160,-8 92,-8\"/>\n",
       "<text text-anchor=\"start\" x=\"106.5\" y=\"-14.8\" font-family=\"Times,serif\" font-size=\"14.00\">system</text>\n",
       "</g>\n",
       "<!-- system_G1&#45;&gt;BlackBoxBloq -->\n",
       "<g id=\"edge1\" class=\"edge\">\n",
       "<title>system_G1:e-&gt;BlackBoxBloq:w</title>\n",
       "<path fill=\"none\" stroke=\"black\" d=\"M55,-18C70.67,-18 75.14,-18 89.77,-18\"/>\n",
       "<ellipse fill=\"black\" stroke=\"black\" cx=\"91\" cy=\"-18\" rx=\"1\" ry=\"1\"/>\n",
       "<text text-anchor=\"middle\" x=\"73.5\" y=\"-21\" font-family=\"Times,serif\" font-size=\"10.00\">12</text>\n",
       "</g>\n",
       "<!-- system_G0 -->\n",
       "<g id=\"node3\" class=\"node\">\n",
       "<title>system_G0</title>\n",
       "<text text-anchor=\"middle\" x=\"224.5\" y=\"-14.3\" font-family=\"Times,serif\" font-size=\"14.00\">system</text>\n",
       "</g>\n",
       "<!-- BlackBoxBloq&#45;&gt;system_G0 -->\n",
       "<g id=\"edge2\" class=\"edge\">\n",
       "<title>BlackBoxBloq:e-&gt;system_G0:w</title>\n",
       "<path fill=\"none\" stroke=\"black\" d=\"M160,-18C175.67,-18 180.14,-18 194.77,-18\"/>\n",
       "<ellipse fill=\"black\" stroke=\"black\" cx=\"196\" cy=\"-18\" rx=\"1\" ry=\"1\"/>\n",
       "<text text-anchor=\"middle\" x=\"178.5\" y=\"-21\" font-family=\"Times,serif\" font-size=\"10.00\">12</text>\n",
       "</g>\n",
       "</g>\n",
       "</svg>"
      ],
      "text/plain": [
       "<IPython.core.display.SVG object>"
      ]
     },
     "metadata": {},
     "output_type": "display_data"
    }
   ],
   "source": [
    "# The signature is now just one register named \"system\"\n",
    "show_bloq(BlackBoxBloq(subbloq))"
   ]
  },
  {
   "cell_type": "code",
   "execution_count": 24,
   "id": "fb46a8bd-f498-40ba-b76b-27a20e667c2c",
   "metadata": {},
   "outputs": [
    {
     "data": {
      "image/svg+xml": [
       "<svg xmlns=\"http://www.w3.org/2000/svg\" xmlns:xlink=\"http://www.w3.org/1999/xlink\" width=\"442pt\" height=\"172pt\" viewBox=\"0.00 0.00 442.00 172.00\">\n",
       "<g id=\"graph0\" class=\"graph\" transform=\"scale(1 1) rotate(0) translate(4 168)\">\n",
       "<title>my_graph</title>\n",
       "<polygon fill=\"white\" stroke=\"transparent\" points=\"-4,4 -4,-168 438,-168 438,4 -4,4\"/>\n",
       "<!-- system -->\n",
       "<g id=\"node1\" class=\"node\">\n",
       "<title>system</title>\n",
       "<text text-anchor=\"middle\" x=\"27.5\" y=\"-133.3\" font-family=\"Times,serif\" font-size=\"14.00\">system</text>\n",
       "</g>\n",
       "<!-- Partition_G3 -->\n",
       "<g id=\"node4\" class=\"node\">\n",
       "<title>Partition_G3</title>\n",
       "<polygon fill=\"none\" stroke=\"black\" points=\"92.5,-147 92.5,-164 155.5,-164 155.5,-147 92.5,-147\"/>\n",
       "<text text-anchor=\"start\" x=\"106\" y=\"-153\" font-family=\"Times,serif\" font-size=\"10.00\">Partition</text>\n",
       "<polygon fill=\"none\" stroke=\"black\" points=\"92.5,-126 92.5,-147 105.5,-147 105.5,-126 92.5,-126\"/>\n",
       "<text text-anchor=\"start\" x=\"95.5\" y=\"-132.8\" font-family=\"Times,serif\" font-size=\"14.00\">x</text>\n",
       "<polygon fill=\"none\" stroke=\"black\" points=\"105.5,-126 105.5,-147 155.5,-147 155.5,-126 105.5,-126\"/>\n",
       "<polygon fill=\"none\" stroke=\"black\" points=\"92.5,-105 92.5,-126 105.5,-126 105.5,-105 92.5,-105\"/>\n",
       "<polygon fill=\"none\" stroke=\"black\" points=\"105.5,-105 105.5,-126 155.5,-126 155.5,-105 105.5,-105\"/>\n",
       "<text text-anchor=\"start\" x=\"123.5\" y=\"-111.8\" font-family=\"Times,serif\" font-size=\"14.00\">xx</text>\n",
       "<polygon fill=\"none\" stroke=\"black\" points=\"92.5,-84 92.5,-105 105.5,-105 105.5,-84 92.5,-84\"/>\n",
       "<polygon fill=\"none\" stroke=\"black\" points=\"105.5,-84 105.5,-105 155.5,-105 155.5,-84 105.5,-84\"/>\n",
       "<text text-anchor=\"start\" x=\"108.5\" y=\"-90.8\" font-family=\"Times,serif\" font-size=\"14.00\">yy[0, 0]</text>\n",
       "<polygon fill=\"none\" stroke=\"black\" points=\"92.5,-63 92.5,-84 105.5,-84 105.5,-63 92.5,-63\"/>\n",
       "<polygon fill=\"none\" stroke=\"black\" points=\"105.5,-63 105.5,-84 155.5,-84 155.5,-63 105.5,-63\"/>\n",
       "<text text-anchor=\"start\" x=\"108.5\" y=\"-69.8\" font-family=\"Times,serif\" font-size=\"14.00\">yy[0, 1]</text>\n",
       "<polygon fill=\"none\" stroke=\"black\" points=\"92.5,-42 92.5,-63 105.5,-63 105.5,-42 92.5,-42\"/>\n",
       "<polygon fill=\"none\" stroke=\"black\" points=\"105.5,-42 105.5,-63 155.5,-63 155.5,-42 105.5,-42\"/>\n",
       "<text text-anchor=\"start\" x=\"108.5\" y=\"-48.8\" font-family=\"Times,serif\" font-size=\"14.00\">yy[1, 0]</text>\n",
       "<polygon fill=\"none\" stroke=\"black\" points=\"92.5,-21 92.5,-42 105.5,-42 105.5,-21 92.5,-21\"/>\n",
       "<polygon fill=\"none\" stroke=\"black\" points=\"105.5,-21 105.5,-42 155.5,-42 155.5,-21 105.5,-21\"/>\n",
       "<text text-anchor=\"start\" x=\"108.5\" y=\"-27.8\" font-family=\"Times,serif\" font-size=\"14.00\">yy[1, 1]</text>\n",
       "<polygon fill=\"none\" stroke=\"black\" points=\"92.5,0 92.5,-21 105.5,-21 105.5,0 92.5,0\"/>\n",
       "<polygon fill=\"none\" stroke=\"black\" points=\"105.5,0 105.5,-21 155.5,-21 155.5,0 105.5,0\"/>\n",
       "<text text-anchor=\"start\" x=\"124\" y=\"-6.8\" font-family=\"Times,serif\" font-size=\"14.00\">zz</text>\n",
       "</g>\n",
       "<!-- system&#45;&gt;Partition_G3 -->\n",
       "<g id=\"edge1\" class=\"edge\">\n",
       "<title>system:e-&gt;Partition_G3:w</title>\n",
       "<path fill=\"none\" stroke=\"black\" d=\"M55,-137C70.67,-137 75.14,-137 89.77,-137\"/>\n",
       "<ellipse fill=\"black\" stroke=\"black\" cx=\"91\" cy=\"-137\" rx=\"1\" ry=\"1\"/>\n",
       "<text text-anchor=\"middle\" x=\"73.5\" y=\"-140\" font-family=\"Times,serif\" font-size=\"10.00\">12</text>\n",
       "</g>\n",
       "<!-- TestMultiRegister -->\n",
       "<g id=\"node2\" class=\"node\">\n",
       "<title>TestMultiRegister</title>\n",
       "<polygon fill=\"none\" stroke=\"black\" points=\"192,-126 192,-143 242,-143 242,-126 192,-126\"/>\n",
       "<text text-anchor=\"start\" x=\"209\" y=\"-132\" font-family=\"Times,serif\" font-size=\"10.00\">xyz</text>\n",
       "<polygon fill=\"none\" stroke=\"black\" points=\"192,-105 192,-126 242,-126 242,-105 192,-105\"/>\n",
       "<text text-anchor=\"start\" x=\"210\" y=\"-111.8\" font-family=\"Times,serif\" font-size=\"14.00\">xx</text>\n",
       "<polygon fill=\"none\" stroke=\"black\" points=\"192,-84 192,-105 242,-105 242,-84 192,-84\"/>\n",
       "<text text-anchor=\"start\" x=\"195\" y=\"-90.8\" font-family=\"Times,serif\" font-size=\"14.00\">yy[0, 0]</text>\n",
       "<polygon fill=\"none\" stroke=\"black\" points=\"192,-63 192,-84 242,-84 242,-63 192,-63\"/>\n",
       "<text text-anchor=\"start\" x=\"195\" y=\"-69.8\" font-family=\"Times,serif\" font-size=\"14.00\">yy[0, 1]</text>\n",
       "<polygon fill=\"none\" stroke=\"black\" points=\"192,-42 192,-63 242,-63 242,-42 192,-42\"/>\n",
       "<text text-anchor=\"start\" x=\"195\" y=\"-48.8\" font-family=\"Times,serif\" font-size=\"14.00\">yy[1, 0]</text>\n",
       "<polygon fill=\"none\" stroke=\"black\" points=\"192,-21 192,-42 242,-42 242,-21 192,-21\"/>\n",
       "<text text-anchor=\"start\" x=\"195\" y=\"-27.8\" font-family=\"Times,serif\" font-size=\"14.00\">yy[1, 1]</text>\n",
       "<polygon fill=\"none\" stroke=\"black\" points=\"192,0 192,-21 242,-21 242,0 192,0\"/>\n",
       "<text text-anchor=\"start\" x=\"210.5\" y=\"-6.8\" font-family=\"Times,serif\" font-size=\"14.00\">zz</text>\n",
       "</g>\n",
       "<!-- Partition -->\n",
       "<g id=\"node3\" class=\"node\">\n",
       "<title>Partition</title>\n",
       "<polygon fill=\"none\" stroke=\"black\" points=\"279.5,-147 279.5,-164 342.5,-164 342.5,-147 279.5,-147\"/>\n",
       "<text text-anchor=\"start\" x=\"293\" y=\"-153\" font-family=\"Times,serif\" font-size=\"10.00\">Partition</text>\n",
       "<polygon fill=\"none\" stroke=\"black\" points=\"279.5,-126 279.5,-147 329.5,-147 329.5,-126 279.5,-126\"/>\n",
       "<polygon fill=\"none\" stroke=\"black\" points=\"329.5,-126 329.5,-147 342.5,-147 342.5,-126 329.5,-126\"/>\n",
       "<text text-anchor=\"start\" x=\"332.5\" y=\"-132.8\" font-family=\"Times,serif\" font-size=\"14.00\">x</text>\n",
       "<polygon fill=\"none\" stroke=\"black\" points=\"279.5,-105 279.5,-126 329.5,-126 329.5,-105 279.5,-105\"/>\n",
       "<text text-anchor=\"start\" x=\"297.5\" y=\"-111.8\" font-family=\"Times,serif\" font-size=\"14.00\">xx</text>\n",
       "<polygon fill=\"none\" stroke=\"black\" points=\"329.5,-105 329.5,-126 342.5,-126 342.5,-105 329.5,-105\"/>\n",
       "<polygon fill=\"none\" stroke=\"black\" points=\"279.5,-84 279.5,-105 329.5,-105 329.5,-84 279.5,-84\"/>\n",
       "<text text-anchor=\"start\" x=\"282.5\" y=\"-90.8\" font-family=\"Times,serif\" font-size=\"14.00\">yy[0, 0]</text>\n",
       "<polygon fill=\"none\" stroke=\"black\" points=\"329.5,-84 329.5,-105 342.5,-105 342.5,-84 329.5,-84\"/>\n",
       "<polygon fill=\"none\" stroke=\"black\" points=\"279.5,-63 279.5,-84 329.5,-84 329.5,-63 279.5,-63\"/>\n",
       "<text text-anchor=\"start\" x=\"282.5\" y=\"-69.8\" font-family=\"Times,serif\" font-size=\"14.00\">yy[0, 1]</text>\n",
       "<polygon fill=\"none\" stroke=\"black\" points=\"329.5,-63 329.5,-84 342.5,-84 342.5,-63 329.5,-63\"/>\n",
       "<polygon fill=\"none\" stroke=\"black\" points=\"279.5,-42 279.5,-63 329.5,-63 329.5,-42 279.5,-42\"/>\n",
       "<text text-anchor=\"start\" x=\"282.5\" y=\"-48.8\" font-family=\"Times,serif\" font-size=\"14.00\">yy[1, 0]</text>\n",
       "<polygon fill=\"none\" stroke=\"black\" points=\"329.5,-42 329.5,-63 342.5,-63 342.5,-42 329.5,-42\"/>\n",
       "<polygon fill=\"none\" stroke=\"black\" points=\"279.5,-21 279.5,-42 329.5,-42 329.5,-21 279.5,-21\"/>\n",
       "<text text-anchor=\"start\" x=\"282.5\" y=\"-27.8\" font-family=\"Times,serif\" font-size=\"14.00\">yy[1, 1]</text>\n",
       "<polygon fill=\"none\" stroke=\"black\" points=\"329.5,-21 329.5,-42 342.5,-42 342.5,-21 329.5,-21\"/>\n",
       "<polygon fill=\"none\" stroke=\"black\" points=\"279.5,0 279.5,-21 329.5,-21 329.5,0 279.5,0\"/>\n",
       "<text text-anchor=\"start\" x=\"298\" y=\"-6.8\" font-family=\"Times,serif\" font-size=\"14.00\">zz</text>\n",
       "<polygon fill=\"none\" stroke=\"black\" points=\"329.5,0 329.5,-21 342.5,-21 342.5,0 329.5,0\"/>\n",
       "</g>\n",
       "<!-- TestMultiRegister&#45;&gt;Partition -->\n",
       "<g id=\"edge8\" class=\"edge\">\n",
       "<title>TestMultiRegister:e-&gt;Partition:w</title>\n",
       "<path fill=\"none\" stroke=\"black\" d=\"M242,-116C257.67,-116 262.14,-116 276.77,-116\"/>\n",
       "<ellipse fill=\"black\" stroke=\"black\" cx=\"278\" cy=\"-116\" rx=\"1\" ry=\"1\"/>\n",
       "<text text-anchor=\"middle\" x=\"260.5\" y=\"-119\" font-family=\"Times,serif\" font-size=\"10.00\">1</text>\n",
       "</g>\n",
       "<!-- TestMultiRegister&#45;&gt;Partition -->\n",
       "<g id=\"edge9\" class=\"edge\">\n",
       "<title>TestMultiRegister:e-&gt;Partition:w</title>\n",
       "<path fill=\"none\" stroke=\"black\" d=\"M242,-95C257.67,-95 262.14,-95 276.77,-95\"/>\n",
       "<ellipse fill=\"black\" stroke=\"black\" cx=\"278\" cy=\"-95\" rx=\"1\" ry=\"1\"/>\n",
       "<text text-anchor=\"middle\" x=\"260.5\" y=\"-98\" font-family=\"Times,serif\" font-size=\"10.00\">2</text>\n",
       "</g>\n",
       "<!-- TestMultiRegister&#45;&gt;Partition -->\n",
       "<g id=\"edge10\" class=\"edge\">\n",
       "<title>TestMultiRegister:e-&gt;Partition:w</title>\n",
       "<path fill=\"none\" stroke=\"black\" d=\"M242,-74C257.68,-74 262.14,-73.09 276.77,-73.01\"/>\n",
       "<ellipse fill=\"black\" stroke=\"black\" cx=\"278\" cy=\"-73\" rx=\"1\" ry=\"1\"/>\n",
       "<text text-anchor=\"middle\" x=\"260.5\" y=\"-77\" font-family=\"Times,serif\" font-size=\"10.00\">2</text>\n",
       "</g>\n",
       "<!-- TestMultiRegister&#45;&gt;Partition -->\n",
       "<g id=\"edge11\" class=\"edge\">\n",
       "<title>TestMultiRegister:e-&gt;Partition:w</title>\n",
       "<path fill=\"none\" stroke=\"black\" d=\"M242,-52C257.67,-52 262.14,-52 276.77,-52\"/>\n",
       "<ellipse fill=\"black\" stroke=\"black\" cx=\"278\" cy=\"-52\" rx=\"1\" ry=\"1\"/>\n",
       "<text text-anchor=\"middle\" x=\"260.5\" y=\"-55\" font-family=\"Times,serif\" font-size=\"10.00\">2</text>\n",
       "</g>\n",
       "<!-- TestMultiRegister&#45;&gt;Partition -->\n",
       "<g id=\"edge12\" class=\"edge\">\n",
       "<title>TestMultiRegister:e-&gt;Partition:w</title>\n",
       "<path fill=\"none\" stroke=\"black\" d=\"M242,-31C257.67,-31 262.14,-31 276.77,-31\"/>\n",
       "<ellipse fill=\"black\" stroke=\"black\" cx=\"278\" cy=\"-31\" rx=\"1\" ry=\"1\"/>\n",
       "<text text-anchor=\"middle\" x=\"260.5\" y=\"-34\" font-family=\"Times,serif\" font-size=\"10.00\">2</text>\n",
       "</g>\n",
       "<!-- TestMultiRegister&#45;&gt;Partition -->\n",
       "<g id=\"edge13\" class=\"edge\">\n",
       "<title>TestMultiRegister:e-&gt;Partition:w</title>\n",
       "<path fill=\"none\" stroke=\"black\" d=\"M242,-10C257.67,-10 262.14,-10 276.77,-10\"/>\n",
       "<ellipse fill=\"black\" stroke=\"black\" cx=\"278\" cy=\"-10\" rx=\"1\" ry=\"1\"/>\n",
       "<text text-anchor=\"middle\" x=\"260.5\" y=\"-13\" font-family=\"Times,serif\" font-size=\"10.00\">3</text>\n",
       "</g>\n",
       "<!-- system_G16 -->\n",
       "<g id=\"node5\" class=\"node\">\n",
       "<title>system_G16</title>\n",
       "<text text-anchor=\"middle\" x=\"406.5\" y=\"-133.3\" font-family=\"Times,serif\" font-size=\"14.00\">system</text>\n",
       "</g>\n",
       "<!-- Partition&#45;&gt;system_G16 -->\n",
       "<g id=\"edge14\" class=\"edge\">\n",
       "<title>Partition:e-&gt;system_G16:w</title>\n",
       "<path fill=\"none\" stroke=\"black\" d=\"M342,-137C357.67,-137 362.14,-137 376.77,-137\"/>\n",
       "<ellipse fill=\"black\" stroke=\"black\" cx=\"378\" cy=\"-137\" rx=\"1\" ry=\"1\"/>\n",
       "<text text-anchor=\"middle\" x=\"360.5\" y=\"-140\" font-family=\"Times,serif\" font-size=\"10.00\">12</text>\n",
       "</g>\n",
       "<!-- Partition_G3&#45;&gt;TestMultiRegister -->\n",
       "<g id=\"edge2\" class=\"edge\">\n",
       "<title>Partition_G3:e-&gt;TestMultiRegister:w</title>\n",
       "<path fill=\"none\" stroke=\"black\" d=\"M155,-116C170.67,-116 175.14,-116 189.77,-116\"/>\n",
       "<ellipse fill=\"black\" stroke=\"black\" cx=\"191\" cy=\"-116\" rx=\"1\" ry=\"1\"/>\n",
       "<text text-anchor=\"middle\" x=\"173.5\" y=\"-119\" font-family=\"Times,serif\" font-size=\"10.00\">1</text>\n",
       "</g>\n",
       "<!-- Partition_G3&#45;&gt;TestMultiRegister -->\n",
       "<g id=\"edge3\" class=\"edge\">\n",
       "<title>Partition_G3:e-&gt;TestMultiRegister:w</title>\n",
       "<path fill=\"none\" stroke=\"black\" d=\"M155,-95C170.67,-95 175.14,-95 189.77,-95\"/>\n",
       "<ellipse fill=\"black\" stroke=\"black\" cx=\"191\" cy=\"-95\" rx=\"1\" ry=\"1\"/>\n",
       "<text text-anchor=\"middle\" x=\"173.5\" y=\"-98\" font-family=\"Times,serif\" font-size=\"10.00\">2</text>\n",
       "</g>\n",
       "<!-- Partition_G3&#45;&gt;TestMultiRegister -->\n",
       "<g id=\"edge4\" class=\"edge\">\n",
       "<title>Partition_G3:e-&gt;TestMultiRegister:w</title>\n",
       "<path fill=\"none\" stroke=\"black\" d=\"M155,-73C170.68,-73 175.14,-73.91 189.77,-73.99\"/>\n",
       "<ellipse fill=\"black\" stroke=\"black\" cx=\"191\" cy=\"-74\" rx=\"1\" ry=\"1\"/>\n",
       "<text text-anchor=\"middle\" x=\"173.5\" y=\"-77\" font-family=\"Times,serif\" font-size=\"10.00\">2</text>\n",
       "</g>\n",
       "<!-- Partition_G3&#45;&gt;TestMultiRegister -->\n",
       "<g id=\"edge5\" class=\"edge\">\n",
       "<title>Partition_G3:e-&gt;TestMultiRegister:w</title>\n",
       "<path fill=\"none\" stroke=\"black\" d=\"M155,-52C170.67,-52 175.14,-52 189.77,-52\"/>\n",
       "<ellipse fill=\"black\" stroke=\"black\" cx=\"191\" cy=\"-52\" rx=\"1\" ry=\"1\"/>\n",
       "<text text-anchor=\"middle\" x=\"173.5\" y=\"-55\" font-family=\"Times,serif\" font-size=\"10.00\">2</text>\n",
       "</g>\n",
       "<!-- Partition_G3&#45;&gt;TestMultiRegister -->\n",
       "<g id=\"edge6\" class=\"edge\">\n",
       "<title>Partition_G3:e-&gt;TestMultiRegister:w</title>\n",
       "<path fill=\"none\" stroke=\"black\" d=\"M155,-31C170.67,-31 175.14,-31 189.77,-31\"/>\n",
       "<ellipse fill=\"black\" stroke=\"black\" cx=\"191\" cy=\"-31\" rx=\"1\" ry=\"1\"/>\n",
       "<text text-anchor=\"middle\" x=\"173.5\" y=\"-34\" font-family=\"Times,serif\" font-size=\"10.00\">2</text>\n",
       "</g>\n",
       "<!-- Partition_G3&#45;&gt;TestMultiRegister -->\n",
       "<g id=\"edge7\" class=\"edge\">\n",
       "<title>Partition_G3:e-&gt;TestMultiRegister:w</title>\n",
       "<path fill=\"none\" stroke=\"black\" d=\"M155,-10C170.67,-10 175.14,-10 189.77,-10\"/>\n",
       "<ellipse fill=\"black\" stroke=\"black\" cx=\"191\" cy=\"-10\" rx=\"1\" ry=\"1\"/>\n",
       "<text text-anchor=\"middle\" x=\"173.5\" y=\"-13\" font-family=\"Times,serif\" font-size=\"10.00\">3</text>\n",
       "</g>\n",
       "</g>\n",
       "</svg>"
      ],
      "text/plain": [
       "<IPython.core.display.SVG object>"
      ]
     },
     "metadata": {},
     "output_type": "display_data"
    }
   ],
   "source": [
    "# The `Partition` bloq partitions the one \"system\" register into the quantum interface\n",
    "# expected by the subbloq (and back again).\n",
    "show_bloq(BlackBoxBloq(subbloq).decompose_bloq())"
   ]
  },
  {
   "cell_type": "markdown",
   "id": "1c79689b",
   "metadata": {
    "cq.autogen": "Cast.bloq_doc.md"
   },
   "source": [
    "## `Cast`\n",
    "Cast a register from one n-bit QCDType to another QCDType.\n",
    "\n",
    "This simply re-interprets the register's data, and is a bookkeeping operation.\n",
    "\n",
    "#### Parameters\n",
    " - `inp_dtype`: Input QCDType to cast from.\n",
    " - `out_dtype`: Output QCDType to cast to.\n",
    " - `shape`: Optional multidimensional shape of the register to cast.\n",
    " - `allow_quantum_to_classical`: Whether to allow (potentially dangerous) casting a quantum value to a classical value and vice versa. If you cast a classical bit to a qubit that was originally obtained by casting a qubit to a classical bit, the program will model unphysical quantum coherences that can give you fundamentally incorrect resource estimates. Use a measurement operation to convert a qubit to a classical bit (and correctly model the decoherence that results). \n",
    "\n",
    "#### Registers\n",
    " - `reg`: The quantum variable to cast\n"
   ]
  },
  {
   "cell_type": "code",
   "execution_count": 25,
   "id": "918357d7",
   "metadata": {
    "cq.autogen": "Cast.bloq_doc.py"
   },
   "outputs": [],
   "source": [
    "from qualtran.bloqs.bookkeeping import Cast"
   ]
  },
  {
   "cell_type": "markdown",
   "id": "73d8af3b",
   "metadata": {
    "cq.autogen": "Cast.example_instances.md"
   },
   "source": [
    "### Example Instances"
   ]
  },
  {
   "cell_type": "code",
   "execution_count": 26,
   "id": "4b780e54",
   "metadata": {
    "cq.autogen": "Cast.cast"
   },
   "outputs": [],
   "source": [
    "from qualtran import QFxp, QInt\n",
    "\n",
    "cast = Cast(QInt(32), QFxp(32, 32))"
   ]
  },
  {
   "cell_type": "markdown",
   "id": "10c93d9d",
   "metadata": {
    "cq.autogen": "Cast.graphical_signature.md"
   },
   "source": [
    "#### Graphical Signature"
   ]
  },
  {
   "cell_type": "code",
   "execution_count": 27,
   "id": "e234de5c",
   "metadata": {
    "cq.autogen": "Cast.graphical_signature.py"
   },
   "outputs": [
    {
     "data": {
      "application/vnd.jupyter.widget-view+json": {
       "model_id": "ce2716b7f5644d4d94ed559538793524",
       "version_major": 2,
       "version_minor": 0
      },
      "text/plain": [
       "HBox(children=(Output(outputs=({'output_type': 'display_data', 'data': {'text/plain': '<IPython.core.display.M…"
      ]
     },
     "metadata": {},
     "output_type": "display_data"
    }
   ],
   "source": [
    "from qualtran.drawing import show_bloqs\n",
    "show_bloqs([cast],\n",
    "           ['`cast`'])"
   ]
  },
  {
   "cell_type": "markdown",
   "id": "fad4fc6e-5e44-4c9c-9da5-38d935466ad4",
   "metadata": {},
   "source": [
    "### Annotating diagrams with DTypes\n",
    "\n",
    "Here, we see an example where the `Cast` re-interprets the input `QFxp` register as a `QUInt` so an addition can be performed. We annotate the compute graph wires with their quantum data types by using `type='dtype'` in the call to `show_bloq`."
   ]
  },
  {
   "cell_type": "code",
   "execution_count": 28,
   "id": "acd11981-60bb-4c7d-804f-6972c4e36263",
   "metadata": {},
   "outputs": [
    {
     "data": {
      "image/svg+xml": [
       "<svg xmlns=\"http://www.w3.org/2000/svg\" xmlns:xlink=\"http://www.w3.org/1999/xlink\" width=\"547pt\" height=\"108pt\" viewBox=\"0.00 0.00 547.00 108.00\">\n",
       "<g id=\"graph0\" class=\"graph\" transform=\"scale(1 1) rotate(0) translate(4 104)\">\n",
       "<title>my_graph</title>\n",
       "<polygon fill=\"white\" stroke=\"transparent\" points=\"-4,4 -4,-104 543,-104 543,4 -4,4\"/>\n",
       "<!-- a_G7 -->\n",
       "<g id=\"node1\" class=\"node\">\n",
       "<title>a_G7</title>\n",
       "<text text-anchor=\"middle\" x=\"27\" y=\"-78.3\" font-family=\"Times,serif\" font-size=\"14.00\">a</text>\n",
       "</g>\n",
       "<!-- Add -->\n",
       "<g id=\"node5\" class=\"node\">\n",
       "<title>Add</title>\n",
       "<polygon fill=\"none\" stroke=\"black\" points=\"257.5,-81 257.5,-98 282.5,-98 282.5,-81 257.5,-81\"/>\n",
       "<text text-anchor=\"start\" x=\"260.5\" y=\"-87\" font-family=\"Times,serif\" font-size=\"10.00\">Add</text>\n",
       "<polygon fill=\"none\" stroke=\"black\" points=\"257.5,-60 257.5,-81 282.5,-81 282.5,-60 257.5,-60\"/>\n",
       "<text text-anchor=\"start\" x=\"266.5\" y=\"-66.8\" font-family=\"Times,serif\" font-size=\"14.00\">a</text>\n",
       "<polygon fill=\"none\" stroke=\"black\" points=\"257.5,-39 257.5,-60 282.5,-60 282.5,-39 257.5,-39\"/>\n",
       "<text text-anchor=\"start\" x=\"266.5\" y=\"-45.8\" font-family=\"Times,serif\" font-size=\"14.00\">b</text>\n",
       "</g>\n",
       "<!-- a_G7&#45;&gt;Add -->\n",
       "<g id=\"edge2\" class=\"edge\">\n",
       "<title>a_G7:e-&gt;Add:w</title>\n",
       "<path fill=\"none\" stroke=\"black\" d=\"M54,-82C143.65,-82 166.29,-71.17 254.89,-71\"/>\n",
       "<ellipse fill=\"black\" stroke=\"black\" cx=\"256\" cy=\"-71\" rx=\"1\" ry=\"1\"/>\n",
       "<text text-anchor=\"middle\" x=\"159\" y=\"-81\" font-family=\"Times,serif\" font-size=\"10.00\">QUInt(4)</text>\n",
       "</g>\n",
       "<!-- b_G6 -->\n",
       "<g id=\"node2\" class=\"node\">\n",
       "<title>b_G6</title>\n",
       "<text text-anchor=\"middle\" x=\"27\" y=\"-14.3\" font-family=\"Times,serif\" font-size=\"14.00\">b</text>\n",
       "</g>\n",
       "<!-- Cast -->\n",
       "<g id=\"node3\" class=\"node\">\n",
       "<title>Cast</title>\n",
       "<polygon fill=\"none\" stroke=\"black\" points=\"135,-29 135,-46 183,-46 183,-29 135,-29\"/>\n",
       "<text text-anchor=\"start\" x=\"149.5\" y=\"-35\" font-family=\"Times,serif\" font-size=\"10.00\">Cast</text>\n",
       "<polygon fill=\"none\" stroke=\"black\" points=\"135,-8 135,-29 159,-29 159,-8 135,-8\"/>\n",
       "<text text-anchor=\"start\" x=\"138\" y=\"-14.8\" font-family=\"Times,serif\" font-size=\"14.00\">reg</text>\n",
       "<polygon fill=\"none\" stroke=\"black\" points=\"159,-8 159,-29 183,-29 183,-8 159,-8\"/>\n",
       "<text text-anchor=\"start\" x=\"162\" y=\"-14.8\" font-family=\"Times,serif\" font-size=\"14.00\">reg</text>\n",
       "</g>\n",
       "<!-- b_G6&#45;&gt;Cast -->\n",
       "<g id=\"edge1\" class=\"edge\">\n",
       "<title>b_G6:e-&gt;Cast:w</title>\n",
       "<path fill=\"none\" stroke=\"black\" d=\"M54,-18C89.3,-18 98.64,-18 132.92,-18\"/>\n",
       "<ellipse fill=\"black\" stroke=\"black\" cx=\"134\" cy=\"-18\" rx=\"1\" ry=\"1\"/>\n",
       "<text text-anchor=\"middle\" x=\"94.5\" y=\"-21\" font-family=\"Times,serif\" font-size=\"10.00\">QFxp(4, 4)</text>\n",
       "</g>\n",
       "<!-- Cast&#45;&gt;Add -->\n",
       "<g id=\"edge3\" class=\"edge\">\n",
       "<title>Cast:e-&gt;Add:w</title>\n",
       "<path fill=\"none\" stroke=\"black\" d=\"M183,-18C217.96,-18 221.22,-47.8 254.95,-48.96\"/>\n",
       "<ellipse fill=\"black\" stroke=\"black\" cx=\"256\" cy=\"-48.98\" rx=\"1\" ry=\"1\"/>\n",
       "<text text-anchor=\"middle\" x=\"220\" y=\"-48\" font-family=\"Times,serif\" font-size=\"10.00\">QUInt(4)</text>\n",
       "</g>\n",
       "<!-- Cast_G0 -->\n",
       "<g id=\"node4\" class=\"node\">\n",
       "<title>Cast_G0</title>\n",
       "<polygon fill=\"none\" stroke=\"black\" points=\"356,-29 356,-46 404,-46 404,-29 356,-29\"/>\n",
       "<text text-anchor=\"start\" x=\"370.5\" y=\"-35\" font-family=\"Times,serif\" font-size=\"10.00\">Cast</text>\n",
       "<polygon fill=\"none\" stroke=\"black\" points=\"356,-8 356,-29 380,-29 380,-8 356,-8\"/>\n",
       "<text text-anchor=\"start\" x=\"359\" y=\"-14.8\" font-family=\"Times,serif\" font-size=\"14.00\">reg</text>\n",
       "<polygon fill=\"none\" stroke=\"black\" points=\"380,-8 380,-29 404,-29 404,-8 380,-8\"/>\n",
       "<text text-anchor=\"start\" x=\"383\" y=\"-14.8\" font-family=\"Times,serif\" font-size=\"14.00\">reg</text>\n",
       "</g>\n",
       "<!-- b_G2 -->\n",
       "<g id=\"node7\" class=\"node\">\n",
       "<title>b_G2</title>\n",
       "<text text-anchor=\"middle\" x=\"512\" y=\"-14.3\" font-family=\"Times,serif\" font-size=\"14.00\">b</text>\n",
       "</g>\n",
       "<!-- Cast_G0&#45;&gt;b_G2 -->\n",
       "<g id=\"edge6\" class=\"edge\">\n",
       "<title>Cast_G0:e-&gt;b_G2:w</title>\n",
       "<path fill=\"none\" stroke=\"black\" d=\"M404,-18C439.3,-18 448.64,-18 482.92,-18\"/>\n",
       "<ellipse fill=\"black\" stroke=\"black\" cx=\"484\" cy=\"-18\" rx=\"1\" ry=\"1\"/>\n",
       "<text text-anchor=\"middle\" x=\"444.5\" y=\"-21\" font-family=\"Times,serif\" font-size=\"10.00\">QFxp(4, 4)</text>\n",
       "</g>\n",
       "<!-- Add&#45;&gt;Cast_G0 -->\n",
       "<g id=\"edge4\" class=\"edge\">\n",
       "<title>Add:e-&gt;Cast_G0:w</title>\n",
       "<path fill=\"none\" stroke=\"black\" d=\"M282,-49C316.96,-49 320.22,-19.2 353.95,-18.04\"/>\n",
       "<ellipse fill=\"black\" stroke=\"black\" cx=\"355\" cy=\"-18.02\" rx=\"1\" ry=\"1\"/>\n",
       "<text text-anchor=\"middle\" x=\"319\" y=\"-48\" font-family=\"Times,serif\" font-size=\"10.00\">QUInt(4)</text>\n",
       "</g>\n",
       "<!-- a_G4 -->\n",
       "<g id=\"node6\" class=\"node\">\n",
       "<title>a_G4</title>\n",
       "<text text-anchor=\"middle\" x=\"512\" y=\"-78.3\" font-family=\"Times,serif\" font-size=\"14.00\">a</text>\n",
       "</g>\n",
       "<!-- Add&#45;&gt;a_G4 -->\n",
       "<g id=\"edge5\" class=\"edge\">\n",
       "<title>Add:e-&gt;a_G4:w</title>\n",
       "<path fill=\"none\" stroke=\"black\" d=\"M282,-71C371.65,-71 394.29,-81.83 482.89,-82\"/>\n",
       "<ellipse fill=\"black\" stroke=\"black\" cx=\"484\" cy=\"-82\" rx=\"1\" ry=\"1\"/>\n",
       "<text text-anchor=\"middle\" x=\"380\" y=\"-81\" font-family=\"Times,serif\" font-size=\"10.00\">QUInt(4)</text>\n",
       "</g>\n",
       "</g>\n",
       "</svg>"
      ],
      "text/plain": [
       "<IPython.core.display.SVG object>"
      ]
     },
     "metadata": {},
     "output_type": "display_data"
    }
   ],
   "source": [
    "from qualtran.bloqs.for_testing import TestCastToFrom\n",
    "show_bloq(TestCastToFrom().decompose_bloq(), type='dtype')"
   ]
  },
  {
   "cell_type": "markdown",
   "id": "b6e0f882",
   "metadata": {
    "cq.autogen": "AutoPartition.bloq_doc.md"
   },
   "source": [
    "## `AutoPartition`\n",
    "Automatically adds and undoes `Partition` of registers to match the signature of a sub-bloq.\n",
    "\n",
    "This tool enables using a bloq in a context expecting an alternative signature that combines\n",
    "registers in the bloq's signature or operates over more registers than the bloq does.\n",
    "For example, it can adapt a bloq exposing multiple selection registers to a quantum interface\n",
    "that expects only one unified selection register.\n",
    "\n",
    "Wrapping in `AutoPartition` also hides splits and joins behind a level of decomposition, which\n",
    "can produce more helpful circuit diagrams compared to manually splitting and joining.\n",
    "\n",
    "#### Parameters\n",
    " - `bloq`: The sub-bloq to wrap. Its register names are used within the second items in each pair in the `partitions` argument below.\n",
    " - `partitions`: A sequence of pairs specifying each register that is exposed in the external signature of the `AutoPartition` and its relationship to the registers of `bloq`. The first element of each pair is a [`Register`](/reference/qualtran/Register.md) exposed externally. The second is a list of register names of `bloq` that concatenate to form the externally exposed register. If `bloq` does not operate on some portion (of `n` bits) of the externally exposed register, the sentinel value `Unused(n)` can be used in place of a register name.\n",
    " - `left_only`: If False, the output registers will also follow `partition`. Otherwise, the output registers will follow `bloq.signature.rights()`. This flag must be set to True if `bloq` does not have the same LEFT and RIGHT registers, as is required for the bloq to be fully wrapped on the left and right. \n",
    "\n",
    "#### Registers\n",
    " - `[user_spec]`: The output registers of the wrapped bloq.\n"
   ]
  },
  {
   "cell_type": "code",
   "execution_count": 29,
   "id": "1c0a8e98",
   "metadata": {
    "cq.autogen": "AutoPartition.bloq_doc.py"
   },
   "outputs": [],
   "source": [
    "from qualtran.bloqs.bookkeeping import AutoPartition"
   ]
  },
  {
   "cell_type": "markdown",
   "id": "77223022",
   "metadata": {
    "cq.autogen": "AutoPartition.example_instances.md"
   },
   "source": [
    "### Example Instances"
   ]
  },
  {
   "cell_type": "code",
   "execution_count": 30,
   "id": "3759b4fa",
   "metadata": {
    "cq.autogen": "AutoPartition.auto_partition"
   },
   "outputs": [],
   "source": [
    "from qualtran import Controlled, CtrlSpec\n",
    "from qualtran.bloqs.basic_gates import Swap\n",
    "\n",
    "bloq = Controlled(Swap(1), CtrlSpec())\n",
    "auto_partition = AutoPartition(\n",
    "    bloq, [(Register('x', QAny(2)), ['ctrl', 'x']), (Register('y', QAny(1)), ['y'])]\n",
    ")"
   ]
  },
  {
   "cell_type": "code",
   "execution_count": 31,
   "id": "fcc40270",
   "metadata": {
    "cq.autogen": "AutoPartition.auto_partition_unused"
   },
   "outputs": [],
   "source": [
    "from qualtran import Controlled, CtrlSpec\n",
    "from qualtran.bloqs.basic_gates import Swap\n",
    "from qualtran.bloqs.bookkeeping.auto_partition import Unused\n",
    "\n",
    "bloq = Controlled(Swap(1), CtrlSpec())\n",
    "auto_partition_unused = AutoPartition(\n",
    "    bloq,\n",
    "    [\n",
    "        (Register('x', QAny(3)), ['ctrl', 'x', Unused(1)]),\n",
    "        (Register('y', QAny(1)), ['y']),\n",
    "        (Register('z', QAny(2)), [Unused(2)]),\n",
    "    ],\n",
    ")"
   ]
  },
  {
   "cell_type": "markdown",
   "id": "06481dca",
   "metadata": {
    "cq.autogen": "AutoPartition.graphical_signature.md"
   },
   "source": [
    "#### Graphical Signature"
   ]
  },
  {
   "cell_type": "code",
   "execution_count": 32,
   "id": "49cd2fe3",
   "metadata": {
    "cq.autogen": "AutoPartition.graphical_signature.py"
   },
   "outputs": [
    {
     "data": {
      "application/vnd.jupyter.widget-view+json": {
       "model_id": "efcc433bbfe94dcd8d713b6ffa3468ae",
       "version_major": 2,
       "version_minor": 0
      },
      "text/plain": [
       "HBox(children=(Output(outputs=({'output_type': 'display_data', 'data': {'text/plain': '<IPython.core.display.M…"
      ]
     },
     "metadata": {},
     "output_type": "display_data"
    }
   ],
   "source": [
    "from qualtran.drawing import show_bloqs\n",
    "show_bloqs([auto_partition, auto_partition_unused],\n",
    "           ['`auto_partition`', '`auto_partition_unused`'])"
   ]
  },
  {
   "cell_type": "markdown",
   "id": "9735ebbc",
   "metadata": {
    "cq.autogen": "AutoPartition.call_graph.md"
   },
   "source": [
    "### Call Graph"
   ]
  },
  {
   "cell_type": "code",
   "execution_count": 33,
   "id": "c4ac66db",
   "metadata": {
    "cq.autogen": "AutoPartition.call_graph.py"
   },
   "outputs": [
    {
     "data": {
      "image/svg+xml": [
       "<svg xmlns=\"http://www.w3.org/2000/svg\" xmlns:xlink=\"http://www.w3.org/1999/xlink\" width=\"98pt\" height=\"131pt\" viewBox=\"0.00 0.00 98.00 131.00\">\n",
       "<g id=\"graph0\" class=\"graph\" transform=\"scale(1 1) rotate(0) translate(4 127)\">\n",
       "<title>counts</title>\n",
       "<polygon fill=\"white\" stroke=\"transparent\" points=\"-4,4 -4,-127 94,-127 94,4 -4,4\"/>\n",
       "<!-- b0 -->\n",
       "<g id=\"node1\" class=\"node\">\n",
       "<title>b0</title>\n",
       "<polygon fill=\"none\" stroke=\"black\" points=\"21,-93 21,-116 69,-116 69,-93 21,-93\"/>\n",
       "<text text-anchor=\"start\" x=\"27\" y=\"-102\" font-family=\"Times,serif\" font-size=\"10.00\">C[Swap]</text>\n",
       "</g>\n",
       "<!-- b1 -->\n",
       "<g id=\"node2\" class=\"node\">\n",
       "<title>b1</title>\n",
       "<polygon fill=\"none\" stroke=\"black\" points=\"8,-6 8,-29 82,-29 82,-6 8,-6\"/>\n",
       "<text text-anchor=\"start\" x=\"14.5\" y=\"-15\" font-family=\"Times,serif\" font-size=\"10.00\">TwoBitCSwap</text>\n",
       "</g>\n",
       "<!-- b0&#45;&gt;b1 -->\n",
       "<g id=\"edge1\" class=\"edge\">\n",
       "<title>b0-&gt;b1</title>\n",
       "<path fill=\"none\" stroke=\"black\" d=\"M45,-86.8C45,-75.16 45,-59.55 45,-46.24\"/>\n",
       "<polygon fill=\"black\" stroke=\"black\" points=\"48.5,-46.18 45,-36.18 41.5,-46.18 48.5,-46.18\"/>\n",
       "<text text-anchor=\"middle\" x=\"48.5\" y=\"-57.8\" font-family=\"Times,serif\" font-size=\"14.00\">1</text>\n",
       "</g>\n",
       "</g>\n",
       "</svg>"
      ],
      "text/plain": [
       "<IPython.core.display.SVG object>"
      ]
     },
     "metadata": {},
     "output_type": "display_data"
    },
    {
     "data": {
      "text/markdown": [
       "#### Counts totals:\n",
       " - `TwoBitCSwap`: 1"
      ],
      "text/plain": [
       "<IPython.core.display.Markdown object>"
      ]
     },
     "metadata": {},
     "output_type": "display_data"
    }
   ],
   "source": [
    "from qualtran.resource_counting.generalizers import ignore_split_join\n",
    "auto_partition_g, auto_partition_sigma = auto_partition.call_graph(max_depth=1, generalizer=ignore_split_join)\n",
    "show_call_graph(auto_partition_g)\n",
    "show_counts_sigma(auto_partition_sigma)"
   ]
  },
  {
   "cell_type": "markdown",
   "id": "a1b2e826",
   "metadata": {},
   "source": [
    "### Using `AutoPartition` to simplify diagrams"
   ]
  },
  {
   "cell_type": "markdown",
   "id": "31946e00",
   "metadata": {},
   "source": [
    "Sometimes, we want to use bloqs whose signatures don't quite match up with the signature of a bigger bloq we want to build. For example, the bloq might have a flat list of qubits whereas we have a big register, or vice versa. \n",
    "\n",
    "Normally, we can just split / join / partition during the decomposition and go on our way, but this leads to unsightly diagrams like this:"
   ]
  },
  {
   "cell_type": "code",
   "execution_count": 34,
   "id": "d9737eea",
   "metadata": {},
   "outputs": [
    {
     "data": {
      "text/plain": [
       "(<Figure size 533.333x800 with 1 Axes>, <Axes: >)"
      ]
     },
     "execution_count": 34,
     "metadata": {},
     "output_type": "execute_result"
    },
    {
     "data": {
      "image/png": "[encoded data removed]",
      "text/plain": [
       "<Figure size 533.333x800 with 1 Axes>"
      ]
     },
     "metadata": {},
     "output_type": "display_data"
    }
   ],
   "source": [
    "from functools import cached_property\n",
    "\n",
    "from qualtran.bloqs.rotations.hamming_weight_phasing import HammingWeightPhasing\n",
    "from qualtran.drawing import draw_musical_score\n",
    "from qualtran.drawing.musical_score import get_musical_score_data\n",
    "\n",
    "\n",
    "@attrs.frozen\n",
    "class ManyBit(Bloq):\n",
    "    @cached_property\n",
    "    def signature(self) -> Signature:\n",
    "        return Signature((Register('xs', QBit(), shape=(20,)),))\n",
    "\n",
    "\n",
    "@attrs.frozen\n",
    "class NotWrapped(Bloq):\n",
    "    bitsize: int = 10\n",
    "\n",
    "    @cached_property\n",
    "    def signature(self) -> Signature:\n",
    "        return Signature((Register('x', QBit(), shape=(self.bitsize,)), Register('y', QAny(20))))\n",
    "\n",
    "    def build_composite_bloq(\n",
    "        self, bb: BloqBuilder, x: 'SoquetT', y: 'SoquetT'\n",
    "    ) -> Dict[str, 'SoquetT']:\n",
    "        for i in range(5):\n",
    "            two_bit = bb.join(x[i * 2 : i * 2 + 2], QUInt(2))\n",
    "            two_bit = bb.add(HammingWeightPhasing(2, 0.11), x=two_bit)\n",
    "            x[i * 2 : i * 2 + 2] = bb.split(two_bit)\n",
    "        many_bit = bb.split(y)\n",
    "        many_bit = bb.add(ManyBit(), xs=many_bit)\n",
    "        return {'x': x, 'y': bb.join(many_bit)}\n",
    "\n",
    "\n",
    "bloq = NotWrapped()\n",
    "draw_musical_score(get_musical_score_data(bloq.decompose_bloq()))"
   ]
  },
  {
   "cell_type": "markdown",
   "id": "e6bfd5c7",
   "metadata": {},
   "source": [
    "Using the `AutoPartition` bloq, we can hide the partition/unpartition pairs behind a level of decomposition, thereby cleaning up the diagram:"
   ]
  },
  {
   "cell_type": "code",
   "execution_count": 35,
   "id": "72cfb27f",
   "metadata": {},
   "outputs": [
    {
     "data": {
      "text/plain": [
       "(<Figure size 626.087x800 with 1 Axes>, <Axes: >)"
      ]
     },
     "execution_count": 35,
     "metadata": {},
     "output_type": "execute_result"
    },
    {
     "data": {
      "image/png": "[encoded data removed]",
      "text/plain": [
       "<Figure size 626.087x800 with 1 Axes>"
      ]
     },
     "metadata": {},
     "output_type": "display_data"
    }
   ],
   "source": [
    "@attrs.frozen\n",
    "class Wrapped(Bloq):\n",
    "    bitsize: int = 10\n",
    "\n",
    "    @cached_property\n",
    "    def signature(self) -> Signature:\n",
    "        return Signature((Register('x', QBit(), shape=(self.bitsize,)), Register('y', QAny(20))))\n",
    "\n",
    "    def build_composite_bloq(\n",
    "        self, bb: BloqBuilder, x: 'SoquetT', y: 'SoquetT'\n",
    "    ) -> Dict[str, 'SoquetT']:\n",
    "        for i in range(5):\n",
    "            hwp = HammingWeightPhasing(2, i * 0.11)\n",
    "            x[i * 2 : i * 2 + 2] = bb.add(\n",
    "                AutoPartition(hwp, [(Register('reg_1', QBit(), shape=(2,)), ('x',))]),\n",
    "                reg_1=x[i * 2 : i * 2 + 2],\n",
    "            )\n",
    "        many = ManyBit()\n",
    "        b = AutoPartition(many, [(Register('y', QAny(20)), ('xs',))])\n",
    "        y = bb.add(b, y=y)\n",
    "        return {'x': x, 'y': y}\n",
    "\n",
    "\n",
    "bloq = Wrapped()\n",
    "draw_musical_score(get_musical_score_data(bloq.decompose_bloq()))"
   ]
  },
  {
   "cell_type": "markdown",
   "id": "310a67d5",
   "metadata": {},
   "source": [
    "Instead of explicitly instantiating a `AutoPartition`, we can also use the utility function `BloqBuilder.add_and_partition`:"
   ]
  },
  {
   "cell_type": "code",
   "execution_count": 36,
   "id": "8e3be77e",
   "metadata": {},
   "outputs": [
    {
     "data": {
      "text/plain": [
       "(<Figure size 626.087x800 with 1 Axes>, <Axes: >)"
      ]
     },
     "execution_count": 36,
     "metadata": {},
     "output_type": "execute_result"
    },
    {
     "data": {
      "image/png": "[encoded data removed]",
      "text/plain": [
       "<Figure size 626.087x800 with 1 Axes>"
      ]
     },
     "metadata": {},
     "output_type": "display_data"
    }
   ],
   "source": [
    "@attrs.frozen\n",
    "class Wrapped(Bloq):\n",
    "    bitsize: int = 10\n",
    "\n",
    "    @cached_property\n",
    "    def signature(self) -> Signature:\n",
    "        return Signature((Register('x', QBit(), shape=(self.bitsize,)), Register('y', QAny(20))))\n",
    "\n",
    "    def build_composite_bloq(\n",
    "        self, bb: BloqBuilder, x: 'SoquetT', y: 'SoquetT'\n",
    "    ) -> Dict[str, 'SoquetT']:\n",
    "        for i in range(5):\n",
    "            hwp = HammingWeightPhasing(2, i * 0.11)\n",
    "            x[i * 2 : i * 2 + 2] = bb.add_and_partition(\n",
    "                hwp, [(Register('reg_1', QBit(), shape=(2,)), ('x',))], reg_1=x[i * 2 : i * 2 + 2]\n",
    "            )\n",
    "        many = ManyBit()\n",
    "        y = bb.add_and_partition(many, [(Register('y', QAny(20)), ('xs',))], y=y)\n",
    "        return {'x': x, 'y': y}\n",
    "\n",
    "\n",
    "bloq = Wrapped()\n",
    "draw_musical_score(get_musical_score_data(bloq.decompose_bloq()))"
   ]
  },
  {
   "cell_type": "markdown",
   "id": "4cf8e458",
   "metadata": {
    "cq.autogen": "Always.bloq_doc.md"
   },
   "source": [
    "## `Always`\n",
    "Always execute the wrapped bloq, even when a controlled version is requested\n",
    "\n",
    "A controlled version of a composite bloq in turn controls each subbloq in the decomposition.\n",
    "Wrapping a particular subbloq with `Always` lets it bypass the controls,\n",
    "i.e. it is \"always\" executed, irrespective of what the controls are.\n",
    "\n",
    "This is useful when writing decompositions for two known patterns:\n",
    "\n",
    "1. Compute-uncompute pairs: If a decomposition contains a compute-uncompute pair,\n",
    "then for a controlled version, we only need to control the rest of the bloqs.\n",
    "Wrapping both the compute and uncompute bloqs in `Always` lets them bypass the controls.\n",
    "\n",
    "2. Controlled data-loading: For example, in the `AddK` bloq which adds a constant `k` to the\n",
    "register, we (controlled) load the value `k` into a quantum register, and \"always\" perform an\n",
    "quantum-quantum addition using `Add`, and unload `k`. Here wrapping the middle `Add` with\n",
    "`Always` lets it bypass controls, e.g. when using `AddK.controlled()`.\n",
    "\n",
    "This simplifies the decompositions by avoiding the need to explicitly define the decomposition\n",
    "for the controlled version of bloq.\n",
    "\n",
    "**Caution:** This wrapper should be used with care. It is up to the bloq author to ensure that\n",
    "the controlled version of a decomposition containing `Always` bloqs still respects the\n",
    "controlled protocol. That is, ignoring controls on these subbloqs wrapped in `Always` should not\n",
    "change the action of the overall bloq with respect to the reference controlled implementation.\n",
    "\n",
    "#### Parameters\n",
    " - `subbloq`: The bloq to always apply, irrespective of any controls.\n"
   ]
  },
  {
   "cell_type": "code",
   "execution_count": 37,
   "id": "d75b25a3",
   "metadata": {
    "cq.autogen": "Always.bloq_doc.py"
   },
   "outputs": [],
   "source": [
    "from qualtran.bloqs.bookkeeping import Always"
   ]
  },
  {
   "cell_type": "markdown",
   "id": "7da6d0ce",
   "metadata": {
    "cq.autogen": "Always.example_instances.md"
   },
   "source": [
    "### Example Instances"
   ]
  },
  {
   "cell_type": "code",
   "execution_count": 38,
   "id": "29c77e98",
   "metadata": {
    "cq.autogen": "Always.always_and"
   },
   "outputs": [],
   "source": [
    "from qualtran.bloqs.mcmt.and_bloq import And\n",
    "\n",
    "always_and = Always(And())\n"
   ]
  },
  {
   "cell_type": "markdown",
   "id": "8d9a8247",
   "metadata": {
    "cq.autogen": "Always.graphical_signature.md"
   },
   "source": [
    "#### Graphical Signature"
   ]
  },
  {
   "cell_type": "code",
   "execution_count": 39,
   "id": "c5314f65",
   "metadata": {
    "cq.autogen": "Always.graphical_signature.py"
   },
   "outputs": [
    {
     "data": {
      "application/vnd.jupyter.widget-view+json": {
       "model_id": "790c8e41e7fe4019ba90802eaf0a3246",
       "version_major": 2,
       "version_minor": 0
      },
      "text/plain": [
       "HBox(children=(Output(outputs=({'output_type': 'display_data', 'data': {'text/plain': '<IPython.core.display.M…"
      ]
     },
     "metadata": {},
     "output_type": "display_data"
    }
   ],
   "source": [
    "from qualtran.drawing import show_bloqs\n",
    "show_bloqs([always_and],\n",
    "           ['`always_and`'])"
   ]
  },
  {
   "cell_type": "markdown",
   "id": "d6b6ce71",
   "metadata": {
    "cq.autogen": "Always.call_graph.md"
   },
   "source": [
    "### Call Graph"
   ]
  },
  {
   "cell_type": "code",
   "execution_count": 40,
   "id": "ced450f9",
   "metadata": {
    "cq.autogen": "Always.call_graph.py"
   },
   "outputs": [
    {
     "data": {
      "image/svg+xml": [
       "<svg xmlns=\"http://www.w3.org/2000/svg\" xmlns:xlink=\"http://www.w3.org/1999/xlink\" width=\"62pt\" height=\"131pt\" viewBox=\"0.00 0.00 62.00 131.00\">\n",
       "<g id=\"graph0\" class=\"graph\" transform=\"scale(1 1) rotate(0) translate(4 127)\">\n",
       "<title>counts</title>\n",
       "<polygon fill=\"white\" stroke=\"transparent\" points=\"-4,4 -4,-127 58,-127 58,4 -4,4\"/>\n",
       "<!-- b0 -->\n",
       "<g id=\"node1\" class=\"node\">\n",
       "<title>b0</title>\n",
       "<polygon fill=\"none\" stroke=\"black\" points=\"11,-93 11,-116 43,-116 43,-93 11,-93\"/>\n",
       "<text text-anchor=\"start\" x=\"17.5\" y=\"-102\" font-family=\"Times,serif\" font-size=\"10.00\">And</text>\n",
       "</g>\n",
       "<!-- b1 -->\n",
       "<g id=\"node2\" class=\"node\">\n",
       "<title>b1</title>\n",
       "<polygon fill=\"none\" stroke=\"black\" points=\"11,-6 11,-29 43,-29 43,-6 11,-6\"/>\n",
       "<text text-anchor=\"start\" x=\"17.5\" y=\"-15\" font-family=\"Times,serif\" font-size=\"10.00\">And</text>\n",
       "</g>\n",
       "<!-- b0&#45;&gt;b1 -->\n",
       "<g id=\"edge1\" class=\"edge\">\n",
       "<title>b0-&gt;b1</title>\n",
       "<path fill=\"none\" stroke=\"black\" d=\"M27,-86.8C27,-75.16 27,-59.55 27,-46.24\"/>\n",
       "<polygon fill=\"black\" stroke=\"black\" points=\"30.5,-46.18 27,-36.18 23.5,-46.18 30.5,-46.18\"/>\n",
       "<text text-anchor=\"middle\" x=\"30.5\" y=\"-57.8\" font-family=\"Times,serif\" font-size=\"14.00\">1</text>\n",
       "</g>\n",
       "</g>\n",
       "</svg>"
      ],
      "text/plain": [
       "<IPython.core.display.SVG object>"
      ]
     },
     "metadata": {},
     "output_type": "display_data"
    },
    {
     "data": {
      "text/markdown": [
       "#### Counts totals:\n",
       " - `And`: 1"
      ],
      "text/plain": [
       "<IPython.core.display.Markdown object>"
      ]
     },
     "metadata": {},
     "output_type": "display_data"
    }
   ],
   "source": [
    "from qualtran.resource_counting.generalizers import ignore_split_join\n",
    "always_and_g, always_and_sigma = always_and.call_graph(max_depth=1, generalizer=ignore_split_join)\n",
    "show_call_graph(always_and_g)\n",
    "show_counts_sigma(always_and_sigma)"
   ]
  },
  {
   "cell_type": "markdown",
   "id": "77962135-cf97-4e54-bc9a-fa6b2625670b",
   "metadata": {},
   "source": [
    "### Using Always for a compute-uncompute pair\n",
    "Say we want to implement a doubly-controlled-Hadamard gate using an `And` and a `CH`.\n",
    "We can wrap the `And`s in `Always`, so that they ignore any controls, and only the `CH` gets controlled."
   ]
  },
  {
   "cell_type": "code",
   "execution_count": 41,
   "id": "ebf47b10-7c1d-4032-a48c-681facfdcb74",
   "metadata": {},
   "outputs": [
    {
     "data": {
      "image/svg+xml": [
       "<svg xmlns=\"http://www.w3.org/2000/svg\" xmlns:xlink=\"http://www.w3.org/1999/xlink\" width=\"405pt\" height=\"168pt\" viewBox=\"0.00 0.00 405.00 168.00\">\n",
       "<g id=\"graph0\" class=\"graph\" transform=\"scale(1 1) rotate(0) translate(4 164)\">\n",
       "<title>my_graph</title>\n",
       "<polygon fill=\"white\" stroke=\"transparent\" points=\"-4,4 -4,-164 401,-164 401,4 -4,4\"/>\n",
       "<!-- a_G12 -->\n",
       "<g id=\"node1\" class=\"node\">\n",
       "<title>a_G12</title>\n",
       "<text text-anchor=\"middle\" x=\"27\" y=\"-138.3\" font-family=\"Times,serif\" font-size=\"14.00\">a</text>\n",
       "</g>\n",
       "<!-- Always -->\n",
       "<g id=\"node5\" class=\"node\">\n",
       "<title>Always</title>\n",
       "<polygon fill=\"none\" stroke=\"black\" points=\"91.5,-136 91.5,-153 134.5,-153 134.5,-136 91.5,-136\"/>\n",
       "<text text-anchor=\"start\" x=\"103.5\" y=\"-142\" font-family=\"Times,serif\" font-size=\"10.00\">And</text>\n",
       "<polygon fill=\"none\" stroke=\"black\" points=\"91.5,-115 91.5,-136 134.5,-136 134.5,-115 91.5,-115\"/>\n",
       "<text text-anchor=\"start\" x=\"96\" y=\"-121.8\" font-family=\"Times,serif\" font-size=\"14.00\">ctrl[0]</text>\n",
       "<polygon fill=\"none\" stroke=\"black\" points=\"91.5,-94 91.5,-115 134.5,-115 134.5,-94 91.5,-94\"/>\n",
       "<text text-anchor=\"start\" x=\"96\" y=\"-100.8\" font-family=\"Times,serif\" font-size=\"14.00\">ctrl[1]</text>\n",
       "<polygon fill=\"none\" stroke=\"black\" points=\"91.5,-73 91.5,-94 97.5,-94 97.5,-73 91.5,-73\"/>\n",
       "<polygon fill=\"none\" stroke=\"black\" points=\"97.5,-73 97.5,-94 134.5,-94 134.5,-73 97.5,-73\"/>\n",
       "<text text-anchor=\"start\" x=\"100.5\" y=\"-79.8\" font-family=\"Times,serif\" font-size=\"14.00\">target</text>\n",
       "</g>\n",
       "<!-- a_G12&#45;&gt;Always -->\n",
       "<g id=\"edge1\" class=\"edge\">\n",
       "<title>a_G12:e-&gt;Always:w</title>\n",
       "<path fill=\"none\" stroke=\"black\" d=\"M54,-142C71.22,-142 72.97,-127.23 88.98,-126.07\"/>\n",
       "<ellipse fill=\"black\" stroke=\"black\" cx=\"90\" cy=\"-126.04\" rx=\"1\" ry=\"1\"/>\n",
       "<text text-anchor=\"middle\" x=\"72.5\" y=\"-137\" font-family=\"Times,serif\" font-size=\"10.00\">1</text>\n",
       "</g>\n",
       "<!-- b_G8 -->\n",
       "<g id=\"node2\" class=\"node\">\n",
       "<title>b_G8</title>\n",
       "<text text-anchor=\"middle\" x=\"27\" y=\"-84.3\" font-family=\"Times,serif\" font-size=\"14.00\">b</text>\n",
       "</g>\n",
       "<!-- b_G8&#45;&gt;Always -->\n",
       "<g id=\"edge2\" class=\"edge\">\n",
       "<title>b_G8:e-&gt;Always:w</title>\n",
       "<path fill=\"none\" stroke=\"black\" d=\"M54,-88C71.22,-88 72.97,-102.77 88.98,-103.93\"/>\n",
       "<ellipse fill=\"black\" stroke=\"black\" cx=\"90\" cy=\"-103.96\" rx=\"1\" ry=\"1\"/>\n",
       "<text text-anchor=\"middle\" x=\"72.5\" y=\"-99\" font-family=\"Times,serif\" font-size=\"10.00\">1</text>\n",
       "</g>\n",
       "<!-- q -->\n",
       "<g id=\"node3\" class=\"node\">\n",
       "<title>q</title>\n",
       "<text text-anchor=\"middle\" x=\"27\" y=\"-14.3\" font-family=\"Times,serif\" font-size=\"14.00\">q</text>\n",
       "</g>\n",
       "<!-- CHadamard -->\n",
       "<g id=\"node4\" class=\"node\">\n",
       "<title>CHadamard</title>\n",
       "<polygon fill=\"none\" stroke=\"black\" points=\"171.5,-50 171.5,-67 226.5,-67 226.5,-50 171.5,-50\"/>\n",
       "<text text-anchor=\"start\" x=\"174.5\" y=\"-56\" font-family=\"Times,serif\" font-size=\"10.00\">CHadamard</text>\n",
       "<polygon fill=\"none\" stroke=\"black\" points=\"171.5,-29 171.5,-50 226.5,-50 226.5,-29 171.5,-29\"/>\n",
       "<text text-anchor=\"start\" x=\"189.5\" y=\"-35.8\" font-family=\"Times,serif\" font-size=\"14.00\">ctrl</text>\n",
       "<polygon fill=\"none\" stroke=\"black\" points=\"171.5,-8 171.5,-29 226.5,-29 226.5,-8 171.5,-8\"/>\n",
       "<text text-anchor=\"start\" x=\"183.5\" y=\"-14.8\" font-family=\"Times,serif\" font-size=\"14.00\">target</text>\n",
       "</g>\n",
       "<!-- q&#45;&gt;CHadamard -->\n",
       "<g id=\"edge4\" class=\"edge\">\n",
       "<title>q:e-&gt;CHadamard:w</title>\n",
       "<path fill=\"none\" stroke=\"black\" d=\"M54,-18C105.29,-18 118.64,-18 168.89,-18\"/>\n",
       "<ellipse fill=\"black\" stroke=\"black\" cx=\"170\" cy=\"-18\" rx=\"1\" ry=\"1\"/>\n",
       "<text text-anchor=\"middle\" x=\"112.5\" y=\"-21\" font-family=\"Times,serif\" font-size=\"10.00\">1</text>\n",
       "</g>\n",
       "<!-- Always_G2 -->\n",
       "<g id=\"node6\" class=\"node\">\n",
       "<title>Always_G2</title>\n",
       "<polygon fill=\"none\" stroke=\"black\" points=\"263.5,-136 263.5,-153 306.5,-153 306.5,-136 263.5,-136\"/>\n",
       "<text text-anchor=\"start\" x=\"273\" y=\"-142\" font-family=\"Times,serif\" font-size=\"10.00\">And†</text>\n",
       "<polygon fill=\"none\" stroke=\"black\" points=\"263.5,-115 263.5,-136 306.5,-136 306.5,-115 263.5,-115\"/>\n",
       "<text text-anchor=\"start\" x=\"268\" y=\"-121.8\" font-family=\"Times,serif\" font-size=\"14.00\">ctrl[0]</text>\n",
       "<polygon fill=\"none\" stroke=\"black\" points=\"263.5,-94 263.5,-115 306.5,-115 306.5,-94 263.5,-94\"/>\n",
       "<text text-anchor=\"start\" x=\"268\" y=\"-100.8\" font-family=\"Times,serif\" font-size=\"14.00\">ctrl[1]</text>\n",
       "<polygon fill=\"none\" stroke=\"black\" points=\"263.5,-73 263.5,-94 300.5,-94 300.5,-73 263.5,-73\"/>\n",
       "<text text-anchor=\"start\" x=\"266.5\" y=\"-79.8\" font-family=\"Times,serif\" font-size=\"14.00\">target</text>\n",
       "<polygon fill=\"none\" stroke=\"black\" points=\"300.5,-73 300.5,-94 306.5,-94 306.5,-73 300.5,-73\"/>\n",
       "</g>\n",
       "<!-- CHadamard&#45;&gt;Always_G2 -->\n",
       "<g id=\"edge7\" class=\"edge\">\n",
       "<title>CHadamard:e-&gt;Always_G2:w</title>\n",
       "<path fill=\"none\" stroke=\"black\" d=\"M226,-40C250.42,-40 238.59,-80.35 260.75,-82.88\"/>\n",
       "<ellipse fill=\"black\" stroke=\"black\" cx=\"262\" cy=\"-82.95\" rx=\"1\" ry=\"1\"/>\n",
       "<text text-anchor=\"middle\" x=\"244.5\" y=\"-66\" font-family=\"Times,serif\" font-size=\"10.00\">1</text>\n",
       "</g>\n",
       "<!-- q_G9 -->\n",
       "<g id=\"node9\" class=\"node\">\n",
       "<title>q_G9</title>\n",
       "<text text-anchor=\"middle\" x=\"370\" y=\"-14.3\" font-family=\"Times,serif\" font-size=\"14.00\">q</text>\n",
       "</g>\n",
       "<!-- CHadamard&#45;&gt;q_G9 -->\n",
       "<g id=\"edge10\" class=\"edge\">\n",
       "<title>CHadamard:e-&gt;q_G9:w</title>\n",
       "<path fill=\"none\" stroke=\"black\" d=\"M226,-18C277.29,-18 290.64,-18 340.89,-18\"/>\n",
       "<ellipse fill=\"black\" stroke=\"black\" cx=\"342\" cy=\"-18\" rx=\"1\" ry=\"1\"/>\n",
       "<text text-anchor=\"middle\" x=\"284.5\" y=\"-21\" font-family=\"Times,serif\" font-size=\"10.00\">1</text>\n",
       "</g>\n",
       "<!-- Always&#45;&gt;CHadamard -->\n",
       "<g id=\"edge3\" class=\"edge\">\n",
       "<title>Always:e-&gt;CHadamard:w</title>\n",
       "<path fill=\"none\" stroke=\"black\" d=\"M134,-83C158.42,-83 146.59,-42.65 168.75,-40.12\"/>\n",
       "<ellipse fill=\"black\" stroke=\"black\" cx=\"170\" cy=\"-40.05\" rx=\"1\" ry=\"1\"/>\n",
       "<text text-anchor=\"middle\" x=\"152.5\" y=\"-66\" font-family=\"Times,serif\" font-size=\"10.00\">1</text>\n",
       "</g>\n",
       "<!-- Always&#45;&gt;Always_G2 -->\n",
       "<g id=\"edge5\" class=\"edge\">\n",
       "<title>Always:e-&gt;Always_G2:w</title>\n",
       "<path fill=\"none\" stroke=\"black\" d=\"M134,-126C190.55,-126 205.27,-126 260.67,-126\"/>\n",
       "<ellipse fill=\"black\" stroke=\"black\" cx=\"262\" cy=\"-126\" rx=\"1\" ry=\"1\"/>\n",
       "<text text-anchor=\"middle\" x=\"198.5\" y=\"-129\" font-family=\"Times,serif\" font-size=\"10.00\">1</text>\n",
       "</g>\n",
       "<!-- Always&#45;&gt;Always_G2 -->\n",
       "<g id=\"edge6\" class=\"edge\">\n",
       "<title>Always:e-&gt;Always_G2:w</title>\n",
       "<path fill=\"none\" stroke=\"black\" d=\"M134,-104C190.55,-104 205.27,-104 260.67,-104\"/>\n",
       "<ellipse fill=\"black\" stroke=\"black\" cx=\"262\" cy=\"-104\" rx=\"1\" ry=\"1\"/>\n",
       "<text text-anchor=\"middle\" x=\"198.5\" y=\"-107\" font-family=\"Times,serif\" font-size=\"10.00\">1</text>\n",
       "</g>\n",
       "<!-- a -->\n",
       "<g id=\"node7\" class=\"node\">\n",
       "<title>a</title>\n",
       "<text text-anchor=\"middle\" x=\"370\" y=\"-138.3\" font-family=\"Times,serif\" font-size=\"14.00\">a</text>\n",
       "</g>\n",
       "<!-- Always_G2&#45;&gt;a -->\n",
       "<g id=\"edge8\" class=\"edge\">\n",
       "<title>Always_G2:e-&gt;a:w</title>\n",
       "<path fill=\"none\" stroke=\"black\" d=\"M306,-126C323.22,-126 324.97,-140.77 340.98,-141.93\"/>\n",
       "<ellipse fill=\"black\" stroke=\"black\" cx=\"342\" cy=\"-141.96\" rx=\"1\" ry=\"1\"/>\n",
       "<text text-anchor=\"middle\" x=\"324.5\" y=\"-137\" font-family=\"Times,serif\" font-size=\"10.00\">1</text>\n",
       "</g>\n",
       "<!-- b -->\n",
       "<g id=\"node8\" class=\"node\">\n",
       "<title>b</title>\n",
       "<text text-anchor=\"middle\" x=\"370\" y=\"-84.3\" font-family=\"Times,serif\" font-size=\"14.00\">b</text>\n",
       "</g>\n",
       "<!-- Always_G2&#45;&gt;b -->\n",
       "<g id=\"edge9\" class=\"edge\">\n",
       "<title>Always_G2:e-&gt;b:w</title>\n",
       "<path fill=\"none\" stroke=\"black\" d=\"M306,-104C323.22,-104 324.97,-89.23 340.98,-88.07\"/>\n",
       "<ellipse fill=\"black\" stroke=\"black\" cx=\"342\" cy=\"-88.04\" rx=\"1\" ry=\"1\"/>\n",
       "<text text-anchor=\"middle\" x=\"324.5\" y=\"-99\" font-family=\"Times,serif\" font-size=\"10.00\">1</text>\n",
       "</g>\n",
       "</g>\n",
       "</svg>"
      ],
      "text/plain": [
       "<IPython.core.display.SVG object>"
      ]
     },
     "metadata": {},
     "output_type": "display_data"
    },
    {
     "data": {
      "image/svg+xml": [
       "<svg xmlns=\"http://www.w3.org/2000/svg\" xmlns:xlink=\"http://www.w3.org/1999/xlink\" width=\"418pt\" height=\"210pt\" viewBox=\"0.00 0.00 418.00 210.00\">\n",
       "<g id=\"graph0\" class=\"graph\" transform=\"scale(1 1) rotate(0) translate(4 206)\">\n",
       "<title>my_graph</title>\n",
       "<polygon fill=\"white\" stroke=\"transparent\" points=\"-4,4 -4,-206 414,-206 414,4 -4,4\"/>\n",
       "<!-- ctrl_G10 -->\n",
       "<g id=\"node1\" class=\"node\">\n",
       "<title>ctrl_G10</title>\n",
       "<text text-anchor=\"middle\" x=\"27\" y=\"-68.3\" font-family=\"Times,serif\" font-size=\"14.00\">ctrl</text>\n",
       "</g>\n",
       "<!-- Controlled -->\n",
       "<g id=\"node5\" class=\"node\">\n",
       "<title>Controlled</title>\n",
       "<polygon fill=\"none\" stroke=\"black\" points=\"171,-79 171,-96 239,-96 239,-79 171,-79\"/>\n",
       "<text text-anchor=\"start\" x=\"174\" y=\"-85\" font-family=\"Times,serif\" font-size=\"10.00\">C[CHadamard]</text>\n",
       "<polygon fill=\"none\" stroke=\"black\" points=\"171,-58 171,-79 239,-79 239,-58 171,-58\"/>\n",
       "<text text-anchor=\"start\" x=\"192.5\" y=\"-64.8\" font-family=\"Times,serif\" font-size=\"14.00\">ctrl2</text>\n",
       "<polygon fill=\"none\" stroke=\"black\" points=\"171,-37 171,-58 239,-58 239,-37 171,-37\"/>\n",
       "<text text-anchor=\"start\" x=\"195.5\" y=\"-43.8\" font-family=\"Times,serif\" font-size=\"14.00\">ctrl</text>\n",
       "<polygon fill=\"none\" stroke=\"black\" points=\"171,-16 171,-37 239,-37 239,-16 171,-16\"/>\n",
       "<text text-anchor=\"start\" x=\"189.5\" y=\"-22.8\" font-family=\"Times,serif\" font-size=\"14.00\">target</text>\n",
       "</g>\n",
       "<!-- ctrl_G10&#45;&gt;Controlled -->\n",
       "<g id=\"edge3\" class=\"edge\">\n",
       "<title>ctrl_G10:e-&gt;Controlled:w</title>\n",
       "<path fill=\"none\" stroke=\"black\" d=\"M54,-72C105.31,-72 118.62,-69.08 168.89,-69\"/>\n",
       "<ellipse fill=\"black\" stroke=\"black\" cx=\"170\" cy=\"-69\" rx=\"1\" ry=\"1\"/>\n",
       "<text text-anchor=\"middle\" x=\"112.5\" y=\"-74\" font-family=\"Times,serif\" font-size=\"10.00\">1</text>\n",
       "</g>\n",
       "<!-- a_G15 -->\n",
       "<g id=\"node2\" class=\"node\">\n",
       "<title>a_G15</title>\n",
       "<text text-anchor=\"middle\" x=\"27\" y=\"-180.3\" font-family=\"Times,serif\" font-size=\"14.00\">a</text>\n",
       "</g>\n",
       "<!-- Always -->\n",
       "<g id=\"node6\" class=\"node\">\n",
       "<title>Always</title>\n",
       "<polygon fill=\"none\" stroke=\"black\" points=\"91.5,-164 91.5,-181 134.5,-181 134.5,-164 91.5,-164\"/>\n",
       "<text text-anchor=\"start\" x=\"103.5\" y=\"-170\" font-family=\"Times,serif\" font-size=\"10.00\">And</text>\n",
       "<polygon fill=\"none\" stroke=\"black\" points=\"91.5,-143 91.5,-164 134.5,-164 134.5,-143 91.5,-143\"/>\n",
       "<text text-anchor=\"start\" x=\"96\" y=\"-149.8\" font-family=\"Times,serif\" font-size=\"14.00\">ctrl[0]</text>\n",
       "<polygon fill=\"none\" stroke=\"black\" points=\"91.5,-122 91.5,-143 134.5,-143 134.5,-122 91.5,-122\"/>\n",
       "<text text-anchor=\"start\" x=\"96\" y=\"-128.8\" font-family=\"Times,serif\" font-size=\"14.00\">ctrl[1]</text>\n",
       "<polygon fill=\"none\" stroke=\"black\" points=\"91.5,-101 91.5,-122 97.5,-122 97.5,-101 91.5,-101\"/>\n",
       "<polygon fill=\"none\" stroke=\"black\" points=\"97.5,-101 97.5,-122 134.5,-122 134.5,-101 97.5,-101\"/>\n",
       "<text text-anchor=\"start\" x=\"100.5\" y=\"-107.8\" font-family=\"Times,serif\" font-size=\"14.00\">target</text>\n",
       "</g>\n",
       "<!-- a_G15&#45;&gt;Always -->\n",
       "<g id=\"edge1\" class=\"edge\">\n",
       "<title>a_G15:e-&gt;Always:w</title>\n",
       "<path fill=\"none\" stroke=\"black\" d=\"M54,-184C74.34,-184 70.21,-156.3 88.64,-154.13\"/>\n",
       "<ellipse fill=\"black\" stroke=\"black\" cx=\"90\" cy=\"-154.06\" rx=\"1\" ry=\"1\"/>\n",
       "<text text-anchor=\"middle\" x=\"72.5\" y=\"-172\" font-family=\"Times,serif\" font-size=\"10.00\">1</text>\n",
       "</g>\n",
       "<!-- b_G13 -->\n",
       "<g id=\"node3\" class=\"node\">\n",
       "<title>b_G13</title>\n",
       "<text text-anchor=\"middle\" x=\"27\" y=\"-126.3\" font-family=\"Times,serif\" font-size=\"14.00\">b</text>\n",
       "</g>\n",
       "<!-- b_G13&#45;&gt;Always -->\n",
       "<g id=\"edge2\" class=\"edge\">\n",
       "<title>b_G13:e-&gt;Always:w</title>\n",
       "<path fill=\"none\" stroke=\"black\" d=\"M54,-130C69.7,-130 74.12,-131.82 88.76,-131.99\"/>\n",
       "<ellipse fill=\"black\" stroke=\"black\" cx=\"90\" cy=\"-131.99\" rx=\"1\" ry=\"1\"/>\n",
       "<text text-anchor=\"middle\" x=\"72.5\" y=\"-134\" font-family=\"Times,serif\" font-size=\"10.00\">1</text>\n",
       "</g>\n",
       "<!-- q -->\n",
       "<g id=\"node4\" class=\"node\">\n",
       "<title>q</title>\n",
       "<text text-anchor=\"middle\" x=\"27\" y=\"-14.3\" font-family=\"Times,serif\" font-size=\"14.00\">q</text>\n",
       "</g>\n",
       "<!-- q&#45;&gt;Controlled -->\n",
       "<g id=\"edge5\" class=\"edge\">\n",
       "<title>q:e-&gt;Controlled:w</title>\n",
       "<path fill=\"none\" stroke=\"black\" d=\"M54,-18C105.41,-18 118.52,-25.78 168.88,-26\"/>\n",
       "<ellipse fill=\"black\" stroke=\"black\" cx=\"170\" cy=\"-26\" rx=\"1\" ry=\"1\"/>\n",
       "<text text-anchor=\"middle\" x=\"112.5\" y=\"-27\" font-family=\"Times,serif\" font-size=\"10.00\">1</text>\n",
       "</g>\n",
       "<!-- Always_G2 -->\n",
       "<g id=\"node7\" class=\"node\">\n",
       "<title>Always_G2</title>\n",
       "<polygon fill=\"none\" stroke=\"black\" points=\"276.5,-164 276.5,-181 319.5,-181 319.5,-164 276.5,-164\"/>\n",
       "<text text-anchor=\"start\" x=\"286\" y=\"-170\" font-family=\"Times,serif\" font-size=\"10.00\">And†</text>\n",
       "<polygon fill=\"none\" stroke=\"black\" points=\"276.5,-143 276.5,-164 319.5,-164 319.5,-143 276.5,-143\"/>\n",
       "<text text-anchor=\"start\" x=\"281\" y=\"-149.8\" font-family=\"Times,serif\" font-size=\"14.00\">ctrl[0]</text>\n",
       "<polygon fill=\"none\" stroke=\"black\" points=\"276.5,-122 276.5,-143 319.5,-143 319.5,-122 276.5,-122\"/>\n",
       "<text text-anchor=\"start\" x=\"281\" y=\"-128.8\" font-family=\"Times,serif\" font-size=\"14.00\">ctrl[1]</text>\n",
       "<polygon fill=\"none\" stroke=\"black\" points=\"276.5,-101 276.5,-122 313.5,-122 313.5,-101 276.5,-101\"/>\n",
       "<text text-anchor=\"start\" x=\"279.5\" y=\"-107.8\" font-family=\"Times,serif\" font-size=\"14.00\">target</text>\n",
       "<polygon fill=\"none\" stroke=\"black\" points=\"313.5,-101 313.5,-122 319.5,-122 319.5,-101 313.5,-101\"/>\n",
       "</g>\n",
       "<!-- Controlled&#45;&gt;Always_G2 -->\n",
       "<g id=\"edge8\" class=\"edge\">\n",
       "<title>Controlled:e-&gt;Always_G2:w</title>\n",
       "<path fill=\"none\" stroke=\"black\" d=\"M239,-47C271.09,-47 244.46,-108.04 273.79,-110.9\"/>\n",
       "<ellipse fill=\"black\" stroke=\"black\" cx=\"275\" cy=\"-110.95\" rx=\"1\" ry=\"1\"/>\n",
       "<text text-anchor=\"middle\" x=\"257.5\" y=\"-87\" font-family=\"Times,serif\" font-size=\"10.00\">1</text>\n",
       "</g>\n",
       "<!-- ctrl_G12 -->\n",
       "<g id=\"node8\" class=\"node\">\n",
       "<title>ctrl_G12</title>\n",
       "<text text-anchor=\"middle\" x=\"383\" y=\"-69.3\" font-family=\"Times,serif\" font-size=\"14.00\">ctrl</text>\n",
       "</g>\n",
       "<!-- Controlled&#45;&gt;ctrl_G12 -->\n",
       "<g id=\"edge9\" class=\"edge\">\n",
       "<title>Controlled:e-&gt;ctrl_G12:w</title>\n",
       "<path fill=\"none\" stroke=\"black\" d=\"M239,-69C290.32,-69 303.61,-72.89 353.89,-73\"/>\n",
       "<ellipse fill=\"black\" stroke=\"black\" cx=\"355\" cy=\"-73\" rx=\"1\" ry=\"1\"/>\n",
       "<text text-anchor=\"middle\" x=\"297.5\" y=\"-75\" font-family=\"Times,serif\" font-size=\"10.00\">1</text>\n",
       "</g>\n",
       "<!-- q_G14 -->\n",
       "<g id=\"node11\" class=\"node\">\n",
       "<title>q_G14</title>\n",
       "<text text-anchor=\"middle\" x=\"383\" y=\"-15.3\" font-family=\"Times,serif\" font-size=\"14.00\">q</text>\n",
       "</g>\n",
       "<!-- Controlled&#45;&gt;q_G14 -->\n",
       "<g id=\"edge12\" class=\"edge\">\n",
       "<title>Controlled:e-&gt;q_G14:w</title>\n",
       "<path fill=\"none\" stroke=\"black\" d=\"M239,-26C290.38,-26 303.55,-19.19 353.89,-19\"/>\n",
       "<ellipse fill=\"black\" stroke=\"black\" cx=\"355\" cy=\"-19\" rx=\"1\" ry=\"1\"/>\n",
       "<text text-anchor=\"middle\" x=\"297.5\" y=\"-27\" font-family=\"Times,serif\" font-size=\"10.00\">1</text>\n",
       "</g>\n",
       "<!-- Always&#45;&gt;Controlled -->\n",
       "<g id=\"edge4\" class=\"edge\">\n",
       "<title>Always:e-&gt;Controlled:w</title>\n",
       "<path fill=\"none\" stroke=\"black\" d=\"M134,-111C166.09,-111 139.46,-49.96 168.79,-47.1\"/>\n",
       "<ellipse fill=\"black\" stroke=\"black\" cx=\"170\" cy=\"-47.05\" rx=\"1\" ry=\"1\"/>\n",
       "<text text-anchor=\"middle\" x=\"152.5\" y=\"-87\" font-family=\"Times,serif\" font-size=\"10.00\">1</text>\n",
       "</g>\n",
       "<!-- Always&#45;&gt;Always_G2 -->\n",
       "<g id=\"edge6\" class=\"edge\">\n",
       "<title>Always:e-&gt;Always_G2:w</title>\n",
       "<path fill=\"none\" stroke=\"black\" d=\"M134,-154C196.37,-154 212.51,-154 273.8,-154\"/>\n",
       "<ellipse fill=\"black\" stroke=\"black\" cx=\"275\" cy=\"-154\" rx=\"1\" ry=\"1\"/>\n",
       "<text text-anchor=\"middle\" x=\"205\" y=\"-157\" font-family=\"Times,serif\" font-size=\"10.00\">1</text>\n",
       "</g>\n",
       "<!-- Always&#45;&gt;Always_G2 -->\n",
       "<g id=\"edge7\" class=\"edge\">\n",
       "<title>Always:e-&gt;Always_G2:w</title>\n",
       "<path fill=\"none\" stroke=\"black\" d=\"M134,-132C196.37,-132 212.51,-132 273.8,-132\"/>\n",
       "<ellipse fill=\"black\" stroke=\"black\" cx=\"275\" cy=\"-132\" rx=\"1\" ry=\"1\"/>\n",
       "<text text-anchor=\"middle\" x=\"205\" y=\"-135\" font-family=\"Times,serif\" font-size=\"10.00\">1</text>\n",
       "</g>\n",
       "<!-- a -->\n",
       "<g id=\"node9\" class=\"node\">\n",
       "<title>a</title>\n",
       "<text text-anchor=\"middle\" x=\"383\" y=\"-179.3\" font-family=\"Times,serif\" font-size=\"14.00\">a</text>\n",
       "</g>\n",
       "<!-- Always_G2&#45;&gt;a -->\n",
       "<g id=\"edge10\" class=\"edge\">\n",
       "<title>Always_G2:e-&gt;a:w</title>\n",
       "<path fill=\"none\" stroke=\"black\" d=\"M319,-154C339.08,-154 335.44,-180.78 353.67,-182.87\"/>\n",
       "<ellipse fill=\"black\" stroke=\"black\" cx=\"355\" cy=\"-182.94\" rx=\"1\" ry=\"1\"/>\n",
       "<text text-anchor=\"middle\" x=\"337.5\" y=\"-172\" font-family=\"Times,serif\" font-size=\"10.00\">1</text>\n",
       "</g>\n",
       "<!-- b -->\n",
       "<g id=\"node10\" class=\"node\">\n",
       "<title>b</title>\n",
       "<text text-anchor=\"middle\" x=\"383\" y=\"-125.3\" font-family=\"Times,serif\" font-size=\"14.00\">b</text>\n",
       "</g>\n",
       "<!-- Always_G2&#45;&gt;b -->\n",
       "<g id=\"edge11\" class=\"edge\">\n",
       "<title>Always_G2:e-&gt;b:w</title>\n",
       "<path fill=\"none\" stroke=\"black\" d=\"M319,-132C334.73,-132 339.1,-129.27 353.76,-129.02\"/>\n",
       "<ellipse fill=\"black\" stroke=\"black\" cx=\"355\" cy=\"-129.01\" rx=\"1\" ry=\"1\"/>\n",
       "<text text-anchor=\"middle\" x=\"337.5\" y=\"-133\" font-family=\"Times,serif\" font-size=\"10.00\">1</text>\n",
       "</g>\n",
       "</g>\n",
       "</svg>"
      ],
      "text/plain": [
       "<IPython.core.display.SVG object>"
      ]
     },
     "metadata": {},
     "output_type": "display_data"
    }
   ],
   "source": [
    "@attrs.frozen\n",
    "class BloqWithComputeUncomputePair(Bloq):\n",
    "    @property\n",
    "    def signature(self):\n",
    "        return Signature.build(a=1, b=1, q=1)\n",
    "\n",
    "    def build_composite_bloq(self, bb, a, b, q):\n",
    "        from qualtran.bloqs.basic_gates import CHadamard\n",
    "\n",
    "        (a, b), c = bb.add(Always(And()), ctrl=[a, b])\n",
    "        c, q = bb.add(CHadamard(), ctrl=c, target=q)\n",
    "        (a, b) = bb.add(Always(And().adjoint()), ctrl=[a, b], target=c)\n",
    "        return {'a': a, 'b': b, 'q': q}\n",
    "\n",
    "show_bloq(BloqWithComputeUncomputePair().decompose_bloq())\n",
    "show_bloq(BloqWithComputeUncomputePair().controlled().decompose_bloq())"
   ]
  }
 ],
 "metadata": {
  "kernelspec": {
   "display_name": "Python 3 (ipykernel)",
   "language": "python",
   "name": "python3"
  },
  "language_info": {
   "codemirror_mode": {
    "name": "ipython",
    "version": 3
   },
   "file_extension": ".py",
   "mimetype": "text/x-python",
   "name": "python",
   "nbconvert_exporter": "python",
   "pygments_lexer": "ipython3",
   "version": "3.11.8"
  },
  "widgets": {
   "application/vnd.jupyter.widget-state+json": {
    "state": {
     "2781d17013704ba68c6def25986e95e3": {
      "model_module": "@jupyter-widgets/base",
      "model_module_version": "2.0.0",
      "model_name": "LayoutModel",
      "state": {
       "_model_module": "@jupyter-widgets/base",
       "_model_module_version": "2.0.0",
       "_model_name": "LayoutModel",
       "_view_count": null,
       "_view_module": "@jupyter-widgets/base",
       "_view_module_version": "2.0.0",
       "_view_name": "LayoutView",
       "align_content": null,
       "align_items": null,
       "align_self": null,
       "border_bottom": null,
       "border_left": null,
       "border_right": null,
       "border_top": null,
       "bottom": null,
       "display": null,
       "flex": null,
       "flex_flow": null,
       "grid_area": null,
       "grid_auto_columns": null,
       "grid_auto_flow": null,
       "grid_auto_rows": null,
       "grid_column": null,
       "grid_gap": null,
       "grid_row": null,
       "grid_template_areas": null,
       "grid_template_columns": null,
       "grid_template_rows": null,
       "height": null,
       "justify_content": null,
       "justify_items": null,
       "left": null,
       "margin": null,
       "max_height": null,
       "max_width": null,
       "min_height": null,
       "min_width": null,
       "object_fit": null,
       "object_position": null,
       "order": null,
       "overflow": null,
       "padding": null,
       "right": null,
       "top": null,
       "visibility": null,
       "width": null
      }
     },
     "2b222965b1b741a2b3523f4203aa2ecc": {
      "model_module": "@jupyter-widgets/base",
      "model_module_version": "2.0.0",
      "model_name": "LayoutModel",
      "state": {
       "_model_module": "@jupyter-widgets/base",
       "_model_module_version": "2.0.0",
       "_model_name": "LayoutModel",
       "_view_count": null,
       "_view_module": "@jupyter-widgets/base",
       "_view_module_version": "2.0.0",
       "_view_name": "LayoutView",
       "align_content": null,
       "align_items": null,
       "align_self": null,
       "border_bottom": null,
       "border_left": null,
       "border_right": null,
       "border_top": null,
       "bottom": null,
       "display": null,
       "flex": null,
       "flex_flow": null,
       "grid_area": null,
       "grid_auto_columns": null,
       "grid_auto_flow": null,
       "grid_auto_rows": null,
       "grid_column": null,
       "grid_gap": null,
       "grid_row": null,
       "grid_template_areas": null,
       "grid_template_columns": null,
       "grid_template_rows": null,
       "height": null,
       "justify_content": null,
       "justify_items": null,
       "left": null,
       "margin": null,
       "max_height": null,
       "max_width": null,
       "min_height": null,
       "min_width": null,
       "object_fit": null,
       "object_position": null,
       "order": null,
       "overflow": null,
       "padding": null,
       "right": null,
       "top": null,
       "visibility": null,
       "width": null
      }
     },
     "2cff57dfc94545a2903994d5213e4f0b": {
      "model_module": "@jupyter-widgets/base",
      "model_module_version": "2.0.0",
      "model_name": "LayoutModel",
      "state": {
       "_model_module": "@jupyter-widgets/base",
       "_model_module_version": "2.0.0",
       "_model_name": "LayoutModel",
       "_view_count": null,
       "_view_module": "@jupyter-widgets/base",
       "_view_module_version": "2.0.0",
       "_view_name": "LayoutView",
       "align_content": null,
       "align_items": null,
       "align_self": null,
       "border_bottom": null,
       "border_left": null,
       "border_right": null,
       "border_top": null,
       "bottom": null,
       "display": null,
       "flex": null,
       "flex_flow": null,
       "grid_area": null,
       "grid_auto_columns": null,
       "grid_auto_flow": null,
       "grid_auto_rows": null,
       "grid_column": null,
       "grid_gap": null,
       "grid_row": null,
       "grid_template_areas": null,
       "grid_template_columns": null,
       "grid_template_rows": null,
       "height": null,
       "justify_content": null,
       "justify_items": null,
       "left": null,
       "margin": null,
       "max_height": null,
       "max_width": null,
       "min_height": null,
       "min_width": null,
       "object_fit": null,
       "object_position": null,
       "order": null,
       "overflow": null,
       "padding": null,
       "right": null,
       "top": null,
       "visibility": null,
       "width": null
      }
     },
     "33e2efda24034379991ae754f726fa27": {
      "model_module": "@jupyter-widgets/base",
      "model_module_version": "2.0.0",
      "model_name": "LayoutModel",
      "state": {
       "_model_module": "@jupyter-widgets/base",
       "_model_module_version": "2.0.0",
       "_model_name": "LayoutModel",
       "_view_count": null,
       "_view_module": "@jupyter-widgets/base",
       "_view_module_version": "2.0.0",
       "_view_name": "LayoutView",
       "align_content": null,
       "align_items": null,
       "align_self": null,
       "border_bottom": null,
       "border_left": null,
       "border_right": null,
       "border_top": null,
       "bottom": null,
       "display": null,
       "flex": null,
       "flex_flow": null,
       "grid_area": null,
       "grid_auto_columns": null,
       "grid_auto_flow": null,
       "grid_auto_rows": null,
       "grid_column": null,
       "grid_gap": null,
       "grid_row": null,
       "grid_template_areas": null,
       "grid_template_columns": null,
       "grid_template_rows": null,
       "height": null,
       "justify_content": null,
       "justify_items": null,
       "left": null,
       "margin": null,
       "max_height": null,
       "max_width": null,
       "min_height": null,
       "min_width": null,
       "object_fit": null,
       "object_position": null,
       "order": null,
       "overflow": null,
       "padding": null,
       "right": null,
       "top": null,
       "visibility": null,
       "width": null
      }
     },
     "396d78a8541549179e92d9c1df79a339": {
      "model_module": "@jupyter-widgets/controls",
      "model_module_version": "2.0.0",
      "model_name": "HBoxModel",
      "state": {
       "_dom_classes": [],
       "_model_module": "@jupyter-widgets/controls",
       "_model_module_version": "2.0.0",
       "_model_name": "HBoxModel",
       "_view_count": null,
       "_view_module": "@jupyter-widgets/controls",
       "_view_module_version": "2.0.0",
       "_view_name": "HBoxView",
       "box_style": "",
       "children": [
        "IPY_MODEL_a77435a9480245d29004fd80ec3c8a0f"
       ],
       "layout": "IPY_MODEL_b369c63aeb3b4c178510765885024ded",
       "tabbable": null,
       "tooltip": null
      }
     },
     "3df04bb03e5045d2975ba984760b30c4": {
      "model_module": "@jupyter-widgets/output",
      "model_module_version": "1.0.0",
      "model_name": "OutputModel",
      "state": {
       "_dom_classes": [],
       "_model_module": "@jupyter-widgets/output",
       "_model_module_version": "1.0.0",
       "_model_name": "OutputModel",
       "_view_count": null,
       "_view_module": "@jupyter-widgets/output",
       "_view_module_version": "1.0.0",
       "_view_name": "OutputView",
       "layout": "IPY_MODEL_76fe74f167c24a71b3b6b9ab40a7c008",
       "msg_id": "",
       "outputs": [
        {
         "data": {
          "text/markdown": "`auto_partition`",
          "text/plain": "<IPython.core.display.Markdown object>"
         },
         "metadata": {},
         "output_type": "display_data"
        },
        {
         "data": {
          "image/svg+xml": "<svg xmlns=\"http://www.w3.org/2000/svg\" xmlns:xlink=\"http://www.w3.org/1999/xlink\" width=\"232pt\" height=\"98pt\" viewBox=\"0.00 0.00 232.00 98.00\">\n<g id=\"graph0\" class=\"graph\" transform=\"scale(1 1) rotate(0) translate(4 94)\">\n<title>my_graph</title>\n<polygon fill=\"white\" stroke=\"transparent\" points=\"-4,4 -4,-94 228,-94 228,4 -4,4\"/>\n<!-- x_G3 -->\n<g id=\"node1\" class=\"node\">\n<title>x_G3</title>\n<text text-anchor=\"middle\" x=\"27\" y=\"-68.3\" font-family=\"Times,serif\" font-size=\"14.00\">x</text>\n</g>\n<!-- AutoPartition -->\n<g id=\"node3\" class=\"node\">\n<title>AutoPartition</title>\n<polygon fill=\"none\" stroke=\"black\" points=\"91,-66 91,-83 133,-83 133,-66 91,-66\"/>\n<text text-anchor=\"start\" x=\"94\" y=\"-72\" font-family=\"Times,serif\" font-size=\"10.00\">C[Swap]</text>\n<polygon fill=\"none\" stroke=\"black\" points=\"91,-45 91,-66 133,-66 133,-45 91,-45\"/>\n<text text-anchor=\"start\" x=\"108.5\" y=\"-51.8\" font-family=\"Times,serif\" font-size=\"14.00\">x</text>\n<polygon fill=\"none\" stroke=\"black\" points=\"91,-24 91,-45 133,-45 133,-24 91,-24\"/>\n<text text-anchor=\"start\" x=\"108.5\" y=\"-30.8\" font-family=\"Times,serif\" font-size=\"14.00\">y</text>\n</g>\n<!-- x_G3&#45;&gt;AutoPartition -->\n<g id=\"edge1\" class=\"edge\">\n<title>x_G3:e-&gt;AutoPartition:w</title>\n<path fill=\"none\" stroke=\"black\" d=\"M54,-72C71.22,-72 72.97,-57.23 88.98,-56.07\"/>\n<ellipse fill=\"black\" stroke=\"black\" cx=\"90\" cy=\"-56.04\" rx=\"1\" ry=\"1\"/>\n<text text-anchor=\"middle\" x=\"72.5\" y=\"-67\" font-family=\"Times,serif\" font-size=\"10.00\">2</text>\n</g>\n<!-- y_G2 -->\n<g id=\"node2\" class=\"node\">\n<title>y_G2</title>\n<text text-anchor=\"middle\" x=\"27\" y=\"-14.3\" font-family=\"Times,serif\" font-size=\"14.00\">y</text>\n</g>\n<!-- y_G2&#45;&gt;AutoPartition -->\n<g id=\"edge2\" class=\"edge\">\n<title>y_G2:e-&gt;AutoPartition:w</title>\n<path fill=\"none\" stroke=\"black\" d=\"M54,-18C71.22,-18 72.97,-32.77 88.98,-33.93\"/>\n<ellipse fill=\"black\" stroke=\"black\" cx=\"90\" cy=\"-33.96\" rx=\"1\" ry=\"1\"/>\n<text text-anchor=\"middle\" x=\"72.5\" y=\"-29\" font-family=\"Times,serif\" font-size=\"10.00\">1</text>\n</g>\n<!-- x_G0 -->\n<g id=\"node4\" class=\"node\">\n<title>x_G0</title>\n<text text-anchor=\"middle\" x=\"197\" y=\"-68.3\" font-family=\"Times,serif\" font-size=\"14.00\">x</text>\n</g>\n<!-- AutoPartition&#45;&gt;x_G0 -->\n<g id=\"edge3\" class=\"edge\">\n<title>AutoPartition:e-&gt;x_G0:w</title>\n<path fill=\"none\" stroke=\"black\" d=\"M133,-56C150.22,-56 151.97,-70.77 167.98,-71.93\"/>\n<ellipse fill=\"black\" stroke=\"black\" cx=\"169\" cy=\"-71.96\" rx=\"1\" ry=\"1\"/>\n<text text-anchor=\"middle\" x=\"151.5\" y=\"-67\" font-family=\"Times,serif\" font-size=\"10.00\">2</text>\n</g>\n<!-- y_G4 -->\n<g id=\"node5\" class=\"node\">\n<title>y_G4</title>\n<text text-anchor=\"middle\" x=\"197\" y=\"-14.3\" font-family=\"Times,serif\" font-size=\"14.00\">y</text>\n</g>\n<!-- AutoPartition&#45;&gt;y_G4 -->\n<g id=\"edge4\" class=\"edge\">\n<title>AutoPartition:e-&gt;y_G4:w</title>\n<path fill=\"none\" stroke=\"black\" d=\"M133,-34C150.22,-34 151.97,-19.23 167.98,-18.07\"/>\n<ellipse fill=\"black\" stroke=\"black\" cx=\"169\" cy=\"-18.04\" rx=\"1\" ry=\"1\"/>\n<text text-anchor=\"middle\" x=\"151.5\" y=\"-29\" font-family=\"Times,serif\" font-size=\"10.00\">1</text>\n</g>\n</g>\n</svg>",
          "text/plain": "<IPython.core.display.SVG object>"
         },
         "metadata": {},
         "output_type": "display_data"
        }
       ],
       "tabbable": null,
       "tooltip": null
      }
     },
     "49dbb372b0724b24b1bcfe2b365b491a": {
      "model_module": "@jupyter-widgets/base",
      "model_module_version": "2.0.0",
      "model_name": "LayoutModel",
      "state": {
       "_model_module": "@jupyter-widgets/base",
       "_model_module_version": "2.0.0",
       "_model_name": "LayoutModel",
       "_view_count": null,
       "_view_module": "@jupyter-widgets/base",
       "_view_module_version": "2.0.0",
       "_view_name": "LayoutView",
       "align_content": null,
       "align_items": null,
       "align_self": null,
       "border_bottom": null,
       "border_left": null,
       "border_right": null,
       "border_top": null,
       "bottom": null,
       "display": null,
       "flex": null,
       "flex_flow": null,
       "grid_area": null,
       "grid_auto_columns": null,
       "grid_auto_flow": null,
       "grid_auto_rows": null,
       "grid_column": null,
       "grid_gap": null,
       "grid_row": null,
       "grid_template_areas": null,
       "grid_template_columns": null,
       "grid_template_rows": null,
       "height": null,
       "justify_content": null,
       "justify_items": null,
       "left": null,
       "margin": null,
       "max_height": null,
       "max_width": null,
       "min_height": null,
       "min_width": null,
       "object_fit": null,
       "object_position": null,
       "order": null,
       "overflow": null,
       "padding": null,
       "right": null,
       "top": null,
       "visibility": null,
       "width": null
      }
     },
     "4a1f730394d041b6be14791541361250": {
      "model_module": "@jupyter-widgets/base",
      "model_module_version": "2.0.0",
      "model_name": "LayoutModel",
      "state": {
       "_model_module": "@jupyter-widgets/base",
       "_model_module_version": "2.0.0",
       "_model_name": "LayoutModel",
       "_view_count": null,
       "_view_module": "@jupyter-widgets/base",
       "_view_module_version": "2.0.0",
       "_view_name": "LayoutView",
       "align_content": null,
       "align_items": null,
       "align_self": null,
       "border_bottom": null,
       "border_left": null,
       "border_right": null,
       "border_top": null,
       "bottom": null,
       "display": null,
       "flex": null,
       "flex_flow": null,
       "grid_area": null,
       "grid_auto_columns": null,
       "grid_auto_flow": null,
       "grid_auto_rows": null,
       "grid_column": null,
       "grid_gap": null,
       "grid_row": null,
       "grid_template_areas": null,
       "grid_template_columns": null,
       "grid_template_rows": null,
       "height": null,
       "justify_content": null,
       "justify_items": null,
       "left": null,
       "margin": null,
       "max_height": null,
       "max_width": null,
       "min_height": null,
       "min_width": null,
       "object_fit": null,
       "object_position": null,
       "order": null,
       "overflow": null,
       "padding": null,
       "right": null,
       "top": null,
       "visibility": null,
       "width": null
      }
     },
     "524122c6f5c14c588fc014422e97a82b": {
      "model_module": "@jupyter-widgets/output",
      "model_module_version": "1.0.0",
      "model_name": "OutputModel",
      "state": {
       "_dom_classes": [],
       "_model_module": "@jupyter-widgets/output",
       "_model_module_version": "1.0.0",
       "_model_name": "OutputModel",
       "_view_count": null,
       "_view_module": "@jupyter-widgets/output",
       "_view_module_version": "1.0.0",
       "_view_name": "OutputView",
       "layout": "IPY_MODEL_49dbb372b0724b24b1bcfe2b365b491a",
       "msg_id": "",
       "outputs": [
        {
         "data": {
          "text/markdown": "`auto_partition_unused`",
          "text/plain": "<IPython.core.display.Markdown object>"
         },
         "metadata": {},
         "output_type": "display_data"
        },
        {
         "data": {
          "image/svg+xml": "<svg xmlns=\"http://www.w3.org/2000/svg\" xmlns:xlink=\"http://www.w3.org/1999/xlink\" width=\"232pt\" height=\"152pt\" viewBox=\"0.00 0.00 232.00 152.00\">\n<g id=\"graph0\" class=\"graph\" transform=\"scale(1 1) rotate(0) translate(4 148)\">\n<title>my_graph</title>\n<polygon fill=\"white\" stroke=\"transparent\" points=\"-4,4 -4,-148 228,-148 228,4 -4,4\"/>\n<!-- x_G2 -->\n<g id=\"node1\" class=\"node\">\n<title>x_G2</title>\n<text text-anchor=\"middle\" x=\"27\" y=\"-122.3\" font-family=\"Times,serif\" font-size=\"14.00\">x</text>\n</g>\n<!-- AutoPartition -->\n<g id=\"node4\" class=\"node\">\n<title>AutoPartition</title>\n<polygon fill=\"none\" stroke=\"black\" points=\"91,-104 91,-121 133,-121 133,-104 91,-104\"/>\n<text text-anchor=\"start\" x=\"94\" y=\"-110\" font-family=\"Times,serif\" font-size=\"10.00\">C[Swap]</text>\n<polygon fill=\"none\" stroke=\"black\" points=\"91,-83 91,-104 133,-104 133,-83 91,-83\"/>\n<text text-anchor=\"start\" x=\"108.5\" y=\"-89.8\" font-family=\"Times,serif\" font-size=\"14.00\">x</text>\n<polygon fill=\"none\" stroke=\"black\" points=\"91,-62 91,-83 133,-83 133,-62 91,-62\"/>\n<text text-anchor=\"start\" x=\"108.5\" y=\"-68.8\" font-family=\"Times,serif\" font-size=\"14.00\">y</text>\n<polygon fill=\"none\" stroke=\"black\" points=\"91,-41 91,-62 133,-62 133,-41 91,-41\"/>\n<text text-anchor=\"start\" x=\"108.5\" y=\"-47.8\" font-family=\"Times,serif\" font-size=\"14.00\">z</text>\n</g>\n<!-- x_G2&#45;&gt;AutoPartition -->\n<g id=\"edge1\" class=\"edge\">\n<title>x_G2:e-&gt;AutoPartition:w</title>\n<path fill=\"none\" stroke=\"black\" d=\"M54,-126C74.89,-126 69.72,-96.45 88.58,-94.14\"/>\n<ellipse fill=\"black\" stroke=\"black\" cx=\"90\" cy=\"-94.06\" rx=\"1\" ry=\"1\"/>\n<text text-anchor=\"middle\" x=\"72.5\" y=\"-113\" font-family=\"Times,serif\" font-size=\"10.00\">3</text>\n</g>\n<!-- y_G5 -->\n<g id=\"node2\" class=\"node\">\n<title>y_G5</title>\n<text text-anchor=\"middle\" x=\"27\" y=\"-68.3\" font-family=\"Times,serif\" font-size=\"14.00\">y</text>\n</g>\n<!-- y_G5&#45;&gt;AutoPartition -->\n<g id=\"edge2\" class=\"edge\">\n<title>y_G5:e-&gt;AutoPartition:w</title>\n<path fill=\"none\" stroke=\"black\" d=\"M54,-72C69.67,-72 74.14,-72 88.77,-72\"/>\n<ellipse fill=\"black\" stroke=\"black\" cx=\"90\" cy=\"-72\" rx=\"1\" ry=\"1\"/>\n<text text-anchor=\"middle\" x=\"72.5\" y=\"-75\" font-family=\"Times,serif\" font-size=\"10.00\">1</text>\n</g>\n<!-- z_G4 -->\n<g id=\"node3\" class=\"node\">\n<title>z_G4</title>\n<text text-anchor=\"middle\" x=\"27\" y=\"-14.3\" font-family=\"Times,serif\" font-size=\"14.00\">z</text>\n</g>\n<!-- z_G4&#45;&gt;AutoPartition -->\n<g id=\"edge3\" class=\"edge\">\n<title>z_G4:e-&gt;AutoPartition:w</title>\n<path fill=\"none\" stroke=\"black\" d=\"M54,-18C75.17,-18 69.47,-48.47 88.55,-50.85\"/>\n<ellipse fill=\"black\" stroke=\"black\" cx=\"90\" cy=\"-50.94\" rx=\"1\" ry=\"1\"/>\n<text text-anchor=\"middle\" x=\"72.5\" y=\"-39\" font-family=\"Times,serif\" font-size=\"10.00\">2</text>\n</g>\n<!-- x_G3 -->\n<g id=\"node5\" class=\"node\">\n<title>x_G3</title>\n<text text-anchor=\"middle\" x=\"197\" y=\"-122.3\" font-family=\"Times,serif\" font-size=\"14.00\">x</text>\n</g>\n<!-- AutoPartition&#45;&gt;x_G3 -->\n<g id=\"edge4\" class=\"edge\">\n<title>AutoPartition:e-&gt;x_G3:w</title>\n<path fill=\"none\" stroke=\"black\" d=\"M133,-94C153.89,-94 148.72,-123.55 167.58,-125.86\"/>\n<ellipse fill=\"black\" stroke=\"black\" cx=\"169\" cy=\"-125.94\" rx=\"1\" ry=\"1\"/>\n<text text-anchor=\"middle\" x=\"151.5\" y=\"-113\" font-family=\"Times,serif\" font-size=\"10.00\">3</text>\n</g>\n<!-- y_G8 -->\n<g id=\"node6\" class=\"node\">\n<title>y_G8</title>\n<text text-anchor=\"middle\" x=\"197\" y=\"-68.3\" font-family=\"Times,serif\" font-size=\"14.00\">y</text>\n</g>\n<!-- AutoPartition&#45;&gt;y_G8 -->\n<g id=\"edge5\" class=\"edge\">\n<title>AutoPartition:e-&gt;y_G8:w</title>\n<path fill=\"none\" stroke=\"black\" d=\"M133,-72C148.67,-72 153.14,-72 167.77,-72\"/>\n<ellipse fill=\"black\" stroke=\"black\" cx=\"169\" cy=\"-72\" rx=\"1\" ry=\"1\"/>\n<text text-anchor=\"middle\" x=\"151.5\" y=\"-75\" font-family=\"Times,serif\" font-size=\"10.00\">1</text>\n</g>\n<!-- z_G1 -->\n<g id=\"node7\" class=\"node\">\n<title>z_G1</title>\n<text text-anchor=\"middle\" x=\"197\" y=\"-14.3\" font-family=\"Times,serif\" font-size=\"14.00\">z</text>\n</g>\n<!-- AutoPartition&#45;&gt;z_G1 -->\n<g id=\"edge6\" class=\"edge\">\n<title>AutoPartition:e-&gt;z_G1:w</title>\n<path fill=\"none\" stroke=\"black\" d=\"M133,-51C154.17,-51 148.47,-20.53 167.55,-18.15\"/>\n<ellipse fill=\"black\" stroke=\"black\" cx=\"169\" cy=\"-18.06\" rx=\"1\" ry=\"1\"/>\n<text text-anchor=\"middle\" x=\"151.5\" y=\"-39\" font-family=\"Times,serif\" font-size=\"10.00\">2</text>\n</g>\n</g>\n</svg>",
          "text/plain": "<IPython.core.display.SVG object>"
         },
         "metadata": {},
         "output_type": "display_data"
        }
       ],
       "tabbable": null,
       "tooltip": null
      }
     },
     "72727b1bf45744808829f52f73b111f1": {
      "model_module": "@jupyter-widgets/output",
      "model_module_version": "1.0.0",
      "model_name": "OutputModel",
      "state": {
       "_dom_classes": [],
       "_model_module": "@jupyter-widgets/output",
       "_model_module_version": "1.0.0",
       "_model_name": "OutputModel",
       "_view_count": null,
       "_view_module": "@jupyter-widgets/output",
       "_view_module_version": "1.0.0",
       "_view_name": "OutputView",
       "layout": "IPY_MODEL_f0b9370ec23242cd9f1d3819e8b65584",
       "msg_id": "",
       "outputs": [
        {
         "data": {
          "text/markdown": "`alloc`",
          "text/plain": "<IPython.core.display.Markdown object>"
         },
         "metadata": {},
         "output_type": "display_data"
        },
        {
         "data": {
          "image/svg+xml": "<svg xmlns=\"http://www.w3.org/2000/svg\" xmlns:xlink=\"http://www.w3.org/1999/xlink\" width=\"141pt\" height=\"54pt\" viewBox=\"0.00 0.00 141.00 54.00\">\n<g id=\"graph0\" class=\"graph\" transform=\"scale(1 1) rotate(0) translate(4 50)\">\n<title>my_graph</title>\n<polygon fill=\"white\" stroke=\"transparent\" points=\"-4,4 -4,-50 137,-50 137,4 -4,4\"/>\n<!-- Allocate -->\n<g id=\"node1\" class=\"node\">\n<title>Allocate</title>\n<polygon fill=\"none\" stroke=\"black\" points=\"0,-29 0,-46 42,-46 42,-29 0,-29\"/>\n<text text-anchor=\"start\" x=\"3\" y=\"-35\" font-family=\"Times,serif\" font-size=\"10.00\">Allocate</text>\n<polygon fill=\"none\" stroke=\"black\" points=\"0,-8 0,-29 12,-29 12,-8 0,-8\"/>\n<polygon fill=\"none\" stroke=\"black\" points=\"12,-8 12,-29 42,-29 42,-8 12,-8\"/>\n<text text-anchor=\"start\" x=\"18\" y=\"-14.8\" font-family=\"Times,serif\" font-size=\"14.00\">reg</text>\n</g>\n<!-- reg_G1 -->\n<g id=\"node2\" class=\"node\">\n<title>reg_G1</title>\n<text text-anchor=\"middle\" x=\"106\" y=\"-14.3\" font-family=\"Times,serif\" font-size=\"14.00\">reg</text>\n</g>\n<!-- Allocate&#45;&gt;reg_G1 -->\n<g id=\"edge1\" class=\"edge\">\n<title>Allocate:e-&gt;reg_G1:w</title>\n<path fill=\"none\" stroke=\"black\" d=\"M42,-18C57.67,-18 62.14,-18 76.77,-18\"/>\n<ellipse fill=\"black\" stroke=\"black\" cx=\"78\" cy=\"-18\" rx=\"1\" ry=\"1\"/>\n<text text-anchor=\"middle\" x=\"60.5\" y=\"-21\" font-family=\"Times,serif\" font-size=\"10.00\">n</text>\n</g>\n</g>\n</svg>",
          "text/plain": "<IPython.core.display.SVG object>"
         },
         "metadata": {},
         "output_type": "display_data"
        }
       ],
       "tabbable": null,
       "tooltip": null
      }
     },
     "73b53389f6a44374945b72a0ea870f92": {
      "model_module": "@jupyter-widgets/base",
      "model_module_version": "2.0.0",
      "model_name": "LayoutModel",
      "state": {
       "_model_module": "@jupyter-widgets/base",
       "_model_module_version": "2.0.0",
       "_model_name": "LayoutModel",
       "_view_count": null,
       "_view_module": "@jupyter-widgets/base",
       "_view_module_version": "2.0.0",
       "_view_name": "LayoutView",
       "align_content": null,
       "align_items": null,
       "align_self": null,
       "border_bottom": null,
       "border_left": null,
       "border_right": null,
       "border_top": null,
       "bottom": null,
       "display": null,
       "flex": null,
       "flex_flow": null,
       "grid_area": null,
       "grid_auto_columns": null,
       "grid_auto_flow": null,
       "grid_auto_rows": null,
       "grid_column": null,
       "grid_gap": null,
       "grid_row": null,
       "grid_template_areas": null,
       "grid_template_columns": null,
       "grid_template_rows": null,
       "height": null,
       "justify_content": null,
       "justify_items": null,
       "left": null,
       "margin": null,
       "max_height": null,
       "max_width": null,
       "min_height": null,
       "min_width": null,
       "object_fit": null,
       "object_position": null,
       "order": null,
       "overflow": null,
       "padding": null,
       "right": null,
       "top": null,
       "visibility": null,
       "width": null
      }
     },
     "76fe74f167c24a71b3b6b9ab40a7c008": {
      "model_module": "@jupyter-widgets/base",
      "model_module_version": "2.0.0",
      "model_name": "LayoutModel",
      "state": {
       "_model_module": "@jupyter-widgets/base",
       "_model_module_version": "2.0.0",
       "_model_name": "LayoutModel",
       "_view_count": null,
       "_view_module": "@jupyter-widgets/base",
       "_view_module_version": "2.0.0",
       "_view_name": "LayoutView",
       "align_content": null,
       "align_items": null,
       "align_self": null,
       "border_bottom": null,
       "border_left": null,
       "border_right": null,
       "border_top": null,
       "bottom": null,
       "display": null,
       "flex": null,
       "flex_flow": null,
       "grid_area": null,
       "grid_auto_columns": null,
       "grid_auto_flow": null,
       "grid_auto_rows": null,
       "grid_column": null,
       "grid_gap": null,
       "grid_row": null,
       "grid_template_areas": null,
       "grid_template_columns": null,
       "grid_template_rows": null,
       "height": null,
       "justify_content": null,
       "justify_items": null,
       "left": null,
       "margin": null,
       "max_height": null,
       "max_width": null,
       "min_height": null,
       "min_width": null,
       "object_fit": null,
       "object_position": null,
       "order": null,
       "overflow": null,
       "padding": null,
       "right": null,
       "top": null,
       "visibility": null,
       "width": null
      }
     },
     "790c8e41e7fe4019ba90802eaf0a3246": {
      "model_module": "@jupyter-widgets/controls",
      "model_module_version": "2.0.0",
      "model_name": "HBoxModel",
      "state": {
       "_dom_classes": [],
       "_model_module": "@jupyter-widgets/controls",
       "_model_module_version": "2.0.0",
       "_model_name": "HBoxModel",
       "_view_count": null,
       "_view_module": "@jupyter-widgets/controls",
       "_view_module_version": "2.0.0",
       "_view_name": "HBoxView",
       "box_style": "",
       "children": [
        "IPY_MODEL_f54aea55e39a410da50f2d1fe8289085"
       ],
       "layout": "IPY_MODEL_a89881eb81c942c18df2e9af81e228c4",
       "tabbable": null,
       "tooltip": null
      }
     },
     "7957745385d54af68f1d47d8da935b21": {
      "model_module": "@jupyter-widgets/base",
      "model_module_version": "2.0.0",
      "model_name": "LayoutModel",
      "state": {
       "_model_module": "@jupyter-widgets/base",
       "_model_module_version": "2.0.0",
       "_model_name": "LayoutModel",
       "_view_count": null,
       "_view_module": "@jupyter-widgets/base",
       "_view_module_version": "2.0.0",
       "_view_name": "LayoutView",
       "align_content": null,
       "align_items": null,
       "align_self": null,
       "border_bottom": null,
       "border_left": null,
       "border_right": null,
       "border_top": null,
       "bottom": null,
       "display": null,
       "flex": null,
       "flex_flow": null,
       "grid_area": null,
       "grid_auto_columns": null,
       "grid_auto_flow": null,
       "grid_auto_rows": null,
       "grid_column": null,
       "grid_gap": null,
       "grid_row": null,
       "grid_template_areas": null,
       "grid_template_columns": null,
       "grid_template_rows": null,
       "height": null,
       "justify_content": null,
       "justify_items": null,
       "left": null,
       "margin": null,
       "max_height": null,
       "max_width": null,
       "min_height": null,
       "min_width": null,
       "object_fit": null,
       "object_position": null,
       "order": null,
       "overflow": null,
       "padding": null,
       "right": null,
       "top": null,
       "visibility": null,
       "width": null
      }
     },
     "83c24527d69144a4b284d6dde186b42e": {
      "model_module": "@jupyter-widgets/base",
      "model_module_version": "2.0.0",
      "model_name": "LayoutModel",
      "state": {
       "_model_module": "@jupyter-widgets/base",
       "_model_module_version": "2.0.0",
       "_model_name": "LayoutModel",
       "_view_count": null,
       "_view_module": "@jupyter-widgets/base",
       "_view_module_version": "2.0.0",
       "_view_name": "LayoutView",
       "align_content": null,
       "align_items": null,
       "align_self": null,
       "border_bottom": null,
       "border_left": null,
       "border_right": null,
       "border_top": null,
       "bottom": null,
       "display": null,
       "flex": null,
       "flex_flow": null,
       "grid_area": null,
       "grid_auto_columns": null,
       "grid_auto_flow": null,
       "grid_auto_rows": null,
       "grid_column": null,
       "grid_gap": null,
       "grid_row": null,
       "grid_template_areas": null,
       "grid_template_columns": null,
       "grid_template_rows": null,
       "height": null,
       "justify_content": null,
       "justify_items": null,
       "left": null,
       "margin": null,
       "max_height": null,
       "max_width": null,
       "min_height": null,
       "min_width": null,
       "object_fit": null,
       "object_position": null,
       "order": null,
       "overflow": null,
       "padding": null,
       "right": null,
       "top": null,
       "visibility": null,
       "width": null
      }
     },
     "863a519abd8343a3bdb8fb2b822c462b": {
      "model_module": "@jupyter-widgets/base",
      "model_module_version": "2.0.0",
      "model_name": "LayoutModel",
      "state": {
       "_model_module": "@jupyter-widgets/base",
       "_model_module_version": "2.0.0",
       "_model_name": "LayoutModel",
       "_view_count": null,
       "_view_module": "@jupyter-widgets/base",
       "_view_module_version": "2.0.0",
       "_view_name": "LayoutView",
       "align_content": null,
       "align_items": null,
       "align_self": null,
       "border_bottom": null,
       "border_left": null,
       "border_right": null,
       "border_top": null,
       "bottom": null,
       "display": null,
       "flex": null,
       "flex_flow": null,
       "grid_area": null,
       "grid_auto_columns": null,
       "grid_auto_flow": null,
       "grid_auto_rows": null,
       "grid_column": null,
       "grid_gap": null,
       "grid_row": null,
       "grid_template_areas": null,
       "grid_template_columns": null,
       "grid_template_rows": null,
       "height": null,
       "justify_content": null,
       "justify_items": null,
       "left": null,
       "margin": null,
       "max_height": null,
       "max_width": null,
       "min_height": null,
       "min_width": null,
       "object_fit": null,
       "object_position": null,
       "order": null,
       "overflow": null,
       "padding": null,
       "right": null,
       "top": null,
       "visibility": null,
       "width": null
      }
     },
     "881b3dc3924f415e95bf48148533bab8": {
      "model_module": "@jupyter-widgets/output",
      "model_module_version": "1.0.0",
      "model_name": "OutputModel",
      "state": {
       "_dom_classes": [],
       "_model_module": "@jupyter-widgets/output",
       "_model_module_version": "1.0.0",
       "_model_name": "OutputModel",
       "_view_count": null,
       "_view_module": "@jupyter-widgets/output",
       "_view_module_version": "1.0.0",
       "_view_name": "OutputView",
       "layout": "IPY_MODEL_863a519abd8343a3bdb8fb2b822c462b",
       "msg_id": "",
       "outputs": [
        {
         "data": {
          "text/markdown": "`join`",
          "text/plain": "<IPython.core.display.Markdown object>"
         },
         "metadata": {},
         "output_type": "display_data"
        },
        {
         "data": {
          "image/svg+xml": "<svg xmlns=\"http://www.w3.org/2000/svg\" xmlns:xlink=\"http://www.w3.org/1999/xlink\" width=\"202pt\" height=\"206pt\" viewBox=\"0.00 0.00 202.00 206.00\">\n<g id=\"graph0\" class=\"graph\" transform=\"scale(1 1) rotate(0) translate(4 202)\">\n<title>my_graph</title>\n<polygon fill=\"white\" stroke=\"transparent\" points=\"-4,4 -4,-202 198,-202 198,4 -4,4\"/>\n<!-- reg_G5 -->\n<g id=\"node1\" class=\"node\">\n<title>reg_G5</title>\n<text text-anchor=\"middle\" x=\"27\" y=\"-176.3\" font-family=\"Times,serif\" font-size=\"14.00\">reg[0]</text>\n</g>\n<!-- Join -->\n<g id=\"node5\" class=\"node\">\n<title>Join</title>\n<polygon fill=\"none\" stroke=\"black\" points=\"91,-111 91,-117 103,-117 103,-111 91,-111\"/>\n<polygon fill=\"none\" stroke=\"black\" points=\"91,-105 91,-111 97,-111 97,-105 91,-105\"/>\n<polygon fill=\"none\" stroke=\"black\" points=\"97,-87 97,-111 103,-111 103,-87 97,-87\"/>\n<polygon fill=\"none\" stroke=\"black\" points=\"91,-99 91,-105 97,-105 97,-99 91,-99\"/>\n<polygon fill=\"none\" stroke=\"black\" points=\"91,-93 91,-99 97,-99 97,-93 91,-93\"/>\n<polygon fill=\"none\" stroke=\"black\" points=\"91,-87 91,-93 97,-93 97,-87 91,-87\"/>\n</g>\n<!-- reg_G5&#45;&gt;Join -->\n<g id=\"edge1\" class=\"edge\">\n<title>reg_G5:e-&gt;Join:w</title>\n<path fill=\"none\" stroke=\"black\" d=\"M54,-180C89.28,-180 56.36,-110.79 88.97,-108.08\"/>\n<ellipse fill=\"black\" stroke=\"black\" cx=\"90\" cy=\"-108.04\" rx=\"1\" ry=\"1\"/>\n<text text-anchor=\"middle\" x=\"72.5\" y=\"-159\" font-family=\"Times,serif\" font-size=\"10.00\">1</text>\n</g>\n<!-- reg_G2 -->\n<g id=\"node2\" class=\"node\">\n<title>reg_G2</title>\n<text text-anchor=\"middle\" x=\"27\" y=\"-122.3\" font-family=\"Times,serif\" font-size=\"14.00\">reg[1]</text>\n</g>\n<!-- reg_G2&#45;&gt;Join -->\n<g id=\"edge2\" class=\"edge\">\n<title>reg_G2:e-&gt;Join:w</title>\n<path fill=\"none\" stroke=\"black\" d=\"M54,-126C72.84,-126 71.54,-103.84 88.8,-102.11\"/>\n<ellipse fill=\"black\" stroke=\"black\" cx=\"90\" cy=\"-102.05\" rx=\"1\" ry=\"1\"/>\n<text text-anchor=\"middle\" x=\"72.5\" y=\"-117\" font-family=\"Times,serif\" font-size=\"10.00\">1</text>\n</g>\n<!-- reg_G7 -->\n<g id=\"node3\" class=\"node\">\n<title>reg_G7</title>\n<text text-anchor=\"middle\" x=\"27\" y=\"-68.3\" font-family=\"Times,serif\" font-size=\"14.00\">reg[2]</text>\n</g>\n<!-- reg_G7&#45;&gt;Join -->\n<g id=\"edge3\" class=\"edge\">\n<title>reg_G7:e-&gt;Join:w</title>\n<path fill=\"none\" stroke=\"black\" d=\"M54,-72C72.84,-72 71.54,-94.16 88.8,-95.89\"/>\n<ellipse fill=\"black\" stroke=\"black\" cx=\"90\" cy=\"-95.95\" rx=\"1\" ry=\"1\"/>\n<text text-anchor=\"middle\" x=\"72.5\" y=\"-87\" font-family=\"Times,serif\" font-size=\"10.00\">1</text>\n</g>\n<!-- reg_G0 -->\n<g id=\"node4\" class=\"node\">\n<title>reg_G0</title>\n<text text-anchor=\"middle\" x=\"27\" y=\"-14.3\" font-family=\"Times,serif\" font-size=\"14.00\">reg[3]</text>\n</g>\n<!-- reg_G0&#45;&gt;Join -->\n<g id=\"edge4\" class=\"edge\">\n<title>reg_G0:e-&gt;Join:w</title>\n<path fill=\"none\" stroke=\"black\" d=\"M54,-18C89.28,-18 56.36,-87.21 88.97,-89.92\"/>\n<ellipse fill=\"black\" stroke=\"black\" cx=\"90\" cy=\"-89.96\" rx=\"1\" ry=\"1\"/>\n<text text-anchor=\"middle\" x=\"72.5\" y=\"-69\" font-family=\"Times,serif\" font-size=\"10.00\">1</text>\n</g>\n<!-- reg_G1 -->\n<g id=\"node6\" class=\"node\">\n<title>reg_G1</title>\n<text text-anchor=\"middle\" x=\"167\" y=\"-95.3\" font-family=\"Times,serif\" font-size=\"14.00\">reg</text>\n</g>\n<!-- Join&#45;&gt;reg_G1 -->\n<g id=\"edge5\" class=\"edge\">\n<title>Join:e-&gt;reg_G1:w</title>\n<path fill=\"none\" stroke=\"black\" d=\"M103,-99C118.67,-99 123.14,-99 137.77,-99\"/>\n<ellipse fill=\"black\" stroke=\"black\" cx=\"139\" cy=\"-99\" rx=\"1\" ry=\"1\"/>\n<text text-anchor=\"middle\" x=\"121.5\" y=\"-102\" font-family=\"Times,serif\" font-size=\"10.00\">4</text>\n</g>\n</g>\n</svg>",
          "text/plain": "<IPython.core.display.SVG object>"
         },
         "metadata": {},
         "output_type": "display_data"
        }
       ],
       "tabbable": null,
       "tooltip": null
      }
     },
     "8aed5ed37900472a9a350d9012a58da4": {
      "model_module": "@jupyter-widgets/base",
      "model_module_version": "2.0.0",
      "model_name": "LayoutModel",
      "state": {
       "_model_module": "@jupyter-widgets/base",
       "_model_module_version": "2.0.0",
       "_model_name": "LayoutModel",
       "_view_count": null,
       "_view_module": "@jupyter-widgets/base",
       "_view_module_version": "2.0.0",
       "_view_name": "LayoutView",
       "align_content": null,
       "align_items": null,
       "align_self": null,
       "border_bottom": null,
       "border_left": null,
       "border_right": null,
       "border_top": null,
       "bottom": null,
       "display": null,
       "flex": null,
       "flex_flow": null,
       "grid_area": null,
       "grid_auto_columns": null,
       "grid_auto_flow": null,
       "grid_auto_rows": null,
       "grid_column": null,
       "grid_gap": null,
       "grid_row": null,
       "grid_template_areas": null,
       "grid_template_columns": null,
       "grid_template_rows": null,
       "height": null,
       "justify_content": null,
       "justify_items": null,
       "left": null,
       "margin": null,
       "max_height": null,
       "max_width": null,
       "min_height": null,
       "min_width": null,
       "object_fit": null,
       "object_position": null,
       "order": null,
       "overflow": null,
       "padding": null,
       "right": null,
       "top": null,
       "visibility": null,
       "width": null
      }
     },
     "9b93c0501c6c4671aa44224b5e5b2bd5": {
      "model_module": "@jupyter-widgets/base",
      "model_module_version": "2.0.0",
      "model_name": "LayoutModel",
      "state": {
       "_model_module": "@jupyter-widgets/base",
       "_model_module_version": "2.0.0",
       "_model_name": "LayoutModel",
       "_view_count": null,
       "_view_module": "@jupyter-widgets/base",
       "_view_module_version": "2.0.0",
       "_view_name": "LayoutView",
       "align_content": null,
       "align_items": null,
       "align_self": null,
       "border_bottom": null,
       "border_left": null,
       "border_right": null,
       "border_top": null,
       "bottom": null,
       "display": null,
       "flex": null,
       "flex_flow": null,
       "grid_area": null,
       "grid_auto_columns": null,
       "grid_auto_flow": null,
       "grid_auto_rows": null,
       "grid_column": null,
       "grid_gap": null,
       "grid_row": null,
       "grid_template_areas": null,
       "grid_template_columns": null,
       "grid_template_rows": null,
       "height": null,
       "justify_content": null,
       "justify_items": null,
       "left": null,
       "margin": null,
       "max_height": null,
       "max_width": null,
       "min_height": null,
       "min_width": null,
       "object_fit": null,
       "object_position": null,
       "order": null,
       "overflow": null,
       "padding": null,
       "right": null,
       "top": null,
       "visibility": null,
       "width": null
      }
     },
     "a211a7f4fe204871933c020c34440a12": {
      "model_module": "@jupyter-widgets/controls",
      "model_module_version": "2.0.0",
      "model_name": "HBoxModel",
      "state": {
       "_dom_classes": [],
       "_model_module": "@jupyter-widgets/controls",
       "_model_module_version": "2.0.0",
       "_model_name": "HBoxModel",
       "_view_count": null,
       "_view_module": "@jupyter-widgets/controls",
       "_view_module_version": "2.0.0",
       "_view_name": "HBoxView",
       "box_style": "",
       "children": [
        "IPY_MODEL_e48c3306aaf44238bba8ac9779bc3cba"
       ],
       "layout": "IPY_MODEL_73b53389f6a44374945b72a0ea870f92",
       "tabbable": null,
       "tooltip": null
      }
     },
     "a77435a9480245d29004fd80ec3c8a0f": {
      "model_module": "@jupyter-widgets/output",
      "model_module_version": "1.0.0",
      "model_name": "OutputModel",
      "state": {
       "_dom_classes": [],
       "_model_module": "@jupyter-widgets/output",
       "_model_module_version": "1.0.0",
       "_model_name": "OutputModel",
       "_view_count": null,
       "_view_module": "@jupyter-widgets/output",
       "_view_module_version": "1.0.0",
       "_view_name": "OutputView",
       "layout": "IPY_MODEL_ff10bc38296549b38f2dbc8563bde09c",
       "msg_id": "",
       "outputs": [
        {
         "data": {
          "text/markdown": "`split`",
          "text/plain": "<IPython.core.display.Markdown object>"
         },
         "metadata": {},
         "output_type": "display_data"
        },
        {
         "data": {
          "image/svg+xml": "<svg xmlns=\"http://www.w3.org/2000/svg\" xmlns:xlink=\"http://www.w3.org/1999/xlink\" width=\"202pt\" height=\"206pt\" viewBox=\"0.00 0.00 202.00 206.00\">\n<g id=\"graph0\" class=\"graph\" transform=\"scale(1 1) rotate(0) translate(4 202)\">\n<title>my_graph</title>\n<polygon fill=\"white\" stroke=\"transparent\" points=\"-4,4 -4,-202 198,-202 198,4 -4,4\"/>\n<!-- reg_G3 -->\n<g id=\"node1\" class=\"node\">\n<title>reg_G3</title>\n<text text-anchor=\"middle\" x=\"27\" y=\"-95.3\" font-family=\"Times,serif\" font-size=\"14.00\">reg</text>\n</g>\n<!-- Split -->\n<g id=\"node2\" class=\"node\">\n<title>Split</title>\n<polygon fill=\"none\" stroke=\"black\" points=\"91,-111 91,-117 103,-117 103,-111 91,-111\"/>\n<polygon fill=\"none\" stroke=\"black\" points=\"91,-87 91,-111 97,-111 97,-87 91,-87\"/>\n<polygon fill=\"none\" stroke=\"black\" points=\"97,-105 97,-111 103,-111 103,-105 97,-105\"/>\n<polygon fill=\"none\" stroke=\"black\" points=\"97,-99 97,-105 103,-105 103,-99 97,-99\"/>\n<polygon fill=\"none\" stroke=\"black\" points=\"97,-93 97,-99 103,-99 103,-93 97,-93\"/>\n<polygon fill=\"none\" stroke=\"black\" points=\"97,-87 97,-93 103,-93 103,-87 97,-87\"/>\n</g>\n<!-- reg_G3&#45;&gt;Split -->\n<g id=\"edge1\" class=\"edge\">\n<title>reg_G3:e-&gt;Split:w</title>\n<path fill=\"none\" stroke=\"black\" d=\"M54,-99C69.67,-99 74.14,-99 88.77,-99\"/>\n<ellipse fill=\"black\" stroke=\"black\" cx=\"90\" cy=\"-99\" rx=\"1\" ry=\"1\"/>\n<text text-anchor=\"middle\" x=\"72.5\" y=\"-102\" font-family=\"Times,serif\" font-size=\"10.00\">4</text>\n</g>\n<!-- reg_G9 -->\n<g id=\"node3\" class=\"node\">\n<title>reg_G9</title>\n<text text-anchor=\"middle\" x=\"167\" y=\"-176.3\" font-family=\"Times,serif\" font-size=\"14.00\">reg[0]</text>\n</g>\n<!-- Split&#45;&gt;reg_G9 -->\n<g id=\"edge2\" class=\"edge\">\n<title>Split:e-&gt;reg_G9:w</title>\n<path fill=\"none\" stroke=\"black\" d=\"M103,-108C138.28,-108 105.36,-177.21 137.97,-179.92\"/>\n<ellipse fill=\"black\" stroke=\"black\" cx=\"139\" cy=\"-179.96\" rx=\"1\" ry=\"1\"/>\n<text text-anchor=\"middle\" x=\"121.5\" y=\"-159\" font-family=\"Times,serif\" font-size=\"10.00\">1</text>\n</g>\n<!-- reg_G6 -->\n<g id=\"node4\" class=\"node\">\n<title>reg_G6</title>\n<text text-anchor=\"middle\" x=\"167\" y=\"-122.3\" font-family=\"Times,serif\" font-size=\"14.00\">reg[1]</text>\n</g>\n<!-- Split&#45;&gt;reg_G6 -->\n<g id=\"edge3\" class=\"edge\">\n<title>Split:e-&gt;reg_G6:w</title>\n<path fill=\"none\" stroke=\"black\" d=\"M103,-102C121.84,-102 120.54,-124.16 137.8,-125.89\"/>\n<ellipse fill=\"black\" stroke=\"black\" cx=\"139\" cy=\"-125.95\" rx=\"1\" ry=\"1\"/>\n<text text-anchor=\"middle\" x=\"121.5\" y=\"-117\" font-family=\"Times,serif\" font-size=\"10.00\">1</text>\n</g>\n<!-- reg_G0 -->\n<g id=\"node5\" class=\"node\">\n<title>reg_G0</title>\n<text text-anchor=\"middle\" x=\"167\" y=\"-68.3\" font-family=\"Times,serif\" font-size=\"14.00\">reg[2]</text>\n</g>\n<!-- Split&#45;&gt;reg_G0 -->\n<g id=\"edge4\" class=\"edge\">\n<title>Split:e-&gt;reg_G0:w</title>\n<path fill=\"none\" stroke=\"black\" d=\"M103,-96C121.84,-96 120.54,-73.84 137.8,-72.11\"/>\n<ellipse fill=\"black\" stroke=\"black\" cx=\"139\" cy=\"-72.05\" rx=\"1\" ry=\"1\"/>\n<text text-anchor=\"middle\" x=\"121.5\" y=\"-87\" font-family=\"Times,serif\" font-size=\"10.00\">1</text>\n</g>\n<!-- reg_G8 -->\n<g id=\"node6\" class=\"node\">\n<title>reg_G8</title>\n<text text-anchor=\"middle\" x=\"167\" y=\"-14.3\" font-family=\"Times,serif\" font-size=\"14.00\">reg[3]</text>\n</g>\n<!-- Split&#45;&gt;reg_G8 -->\n<g id=\"edge5\" class=\"edge\">\n<title>Split:e-&gt;reg_G8:w</title>\n<path fill=\"none\" stroke=\"black\" d=\"M103,-90C138.28,-90 105.36,-20.79 137.97,-18.08\"/>\n<ellipse fill=\"black\" stroke=\"black\" cx=\"139\" cy=\"-18.04\" rx=\"1\" ry=\"1\"/>\n<text text-anchor=\"middle\" x=\"121.5\" y=\"-69\" font-family=\"Times,serif\" font-size=\"10.00\">1</text>\n</g>\n</g>\n</svg>",
          "text/plain": "<IPython.core.display.SVG object>"
         },
         "metadata": {},
         "output_type": "display_data"
        }
       ],
       "tabbable": null,
       "tooltip": null
      }
     },
     "a89881eb81c942c18df2e9af81e228c4": {
      "model_module": "@jupyter-widgets/base",
      "model_module_version": "2.0.0",
      "model_name": "LayoutModel",
      "state": {
       "_model_module": "@jupyter-widgets/base",
       "_model_module_version": "2.0.0",
       "_model_name": "LayoutModel",
       "_view_count": null,
       "_view_module": "@jupyter-widgets/base",
       "_view_module_version": "2.0.0",
       "_view_name": "LayoutView",
       "align_content": null,
       "align_items": null,
       "align_self": null,
       "border_bottom": null,
       "border_left": null,
       "border_right": null,
       "border_top": null,
       "bottom": null,
       "display": null,
       "flex": null,
       "flex_flow": null,
       "grid_area": null,
       "grid_auto_columns": null,
       "grid_auto_flow": null,
       "grid_auto_rows": null,
       "grid_column": null,
       "grid_gap": null,
       "grid_row": null,
       "grid_template_areas": null,
       "grid_template_columns": null,
       "grid_template_rows": null,
       "height": null,
       "justify_content": null,
       "justify_items": null,
       "left": null,
       "margin": null,
       "max_height": null,
       "max_width": null,
       "min_height": null,
       "min_width": null,
       "object_fit": null,
       "object_position": null,
       "order": null,
       "overflow": null,
       "padding": null,
       "right": null,
       "top": null,
       "visibility": null,
       "width": null
      }
     },
     "b369c63aeb3b4c178510765885024ded": {
      "model_module": "@jupyter-widgets/base",
      "model_module_version": "2.0.0",
      "model_name": "LayoutModel",
      "state": {
       "_model_module": "@jupyter-widgets/base",
       "_model_module_version": "2.0.0",
       "_model_name": "LayoutModel",
       "_view_count": null,
       "_view_module": "@jupyter-widgets/base",
       "_view_module_version": "2.0.0",
       "_view_name": "LayoutView",
       "align_content": null,
       "align_items": null,
       "align_self": null,
       "border_bottom": null,
       "border_left": null,
       "border_right": null,
       "border_top": null,
       "bottom": null,
       "display": null,
       "flex": null,
       "flex_flow": null,
       "grid_area": null,
       "grid_auto_columns": null,
       "grid_auto_flow": null,
       "grid_auto_rows": null,
       "grid_column": null,
       "grid_gap": null,
       "grid_row": null,
       "grid_template_areas": null,
       "grid_template_columns": null,
       "grid_template_rows": null,
       "height": null,
       "justify_content": null,
       "justify_items": null,
       "left": null,
       "margin": null,
       "max_height": null,
       "max_width": null,
       "min_height": null,
       "min_width": null,
       "object_fit": null,
       "object_position": null,
       "order": null,
       "overflow": null,
       "padding": null,
       "right": null,
       "top": null,
       "visibility": null,
       "width": null
      }
     },
     "c66ddcebfae4429083ad0e6d54a9e42d": {
      "model_module": "@jupyter-widgets/controls",
      "model_module_version": "2.0.0",
      "model_name": "HBoxModel",
      "state": {
       "_dom_classes": [],
       "_model_module": "@jupyter-widgets/controls",
       "_model_module_version": "2.0.0",
       "_model_name": "HBoxModel",
       "_view_count": null,
       "_view_module": "@jupyter-widgets/controls",
       "_view_module_version": "2.0.0",
       "_view_name": "HBoxView",
       "box_style": "",
       "children": [
        "IPY_MODEL_881b3dc3924f415e95bf48148533bab8"
       ],
       "layout": "IPY_MODEL_4a1f730394d041b6be14791541361250",
       "tabbable": null,
       "tooltip": null
      }
     },
     "cba75ef0353249d6b46466aab28b07e3": {
      "model_module": "@jupyter-widgets/controls",
      "model_module_version": "2.0.0",
      "model_name": "HBoxModel",
      "state": {
       "_dom_classes": [],
       "_model_module": "@jupyter-widgets/controls",
       "_model_module_version": "2.0.0",
       "_model_name": "HBoxModel",
       "_view_count": null,
       "_view_module": "@jupyter-widgets/controls",
       "_view_module_version": "2.0.0",
       "_view_name": "HBoxView",
       "box_style": "",
       "children": [
        "IPY_MODEL_da06b77f534c4420ac889db90e35124a"
       ],
       "layout": "IPY_MODEL_7957745385d54af68f1d47d8da935b21",
       "tabbable": null,
       "tooltip": null
      }
     },
     "ce2716b7f5644d4d94ed559538793524": {
      "model_module": "@jupyter-widgets/controls",
      "model_module_version": "2.0.0",
      "model_name": "HBoxModel",
      "state": {
       "_dom_classes": [],
       "_model_module": "@jupyter-widgets/controls",
       "_model_module_version": "2.0.0",
       "_model_name": "HBoxModel",
       "_view_count": null,
       "_view_module": "@jupyter-widgets/controls",
       "_view_module_version": "2.0.0",
       "_view_name": "HBoxView",
       "box_style": "",
       "children": [
        "IPY_MODEL_d56323ebc9ee469485d3aa4113bc5757"
       ],
       "layout": "IPY_MODEL_8aed5ed37900472a9a350d9012a58da4",
       "tabbable": null,
       "tooltip": null
      }
     },
     "d56323ebc9ee469485d3aa4113bc5757": {
      "model_module": "@jupyter-widgets/output",
      "model_module_version": "1.0.0",
      "model_name": "OutputModel",
      "state": {
       "_dom_classes": [],
       "_model_module": "@jupyter-widgets/output",
       "_model_module_version": "1.0.0",
       "_model_name": "OutputModel",
       "_view_count": null,
       "_view_module": "@jupyter-widgets/output",
       "_view_module_version": "1.0.0",
       "_view_name": "OutputView",
       "layout": "IPY_MODEL_2b222965b1b741a2b3523f4203aa2ecc",
       "msg_id": "",
       "outputs": [
        {
         "data": {
          "text/markdown": "`cast`",
          "text/plain": "<IPython.core.display.Markdown object>"
         },
         "metadata": {},
         "output_type": "display_data"
        },
        {
         "data": {
          "image/svg+xml": "<svg xmlns=\"http://www.w3.org/2000/svg\" xmlns:xlink=\"http://www.w3.org/1999/xlink\" width=\"238pt\" height=\"54pt\" viewBox=\"0.00 0.00 238.00 54.00\">\n<g id=\"graph0\" class=\"graph\" transform=\"scale(1 1) rotate(0) translate(4 50)\">\n<title>my_graph</title>\n<polygon fill=\"white\" stroke=\"transparent\" points=\"-4,4 -4,-50 234,-50 234,4 -4,4\"/>\n<!-- reg_G3 -->\n<g id=\"node1\" class=\"node\">\n<title>reg_G3</title>\n<text text-anchor=\"middle\" x=\"27\" y=\"-14.3\" font-family=\"Times,serif\" font-size=\"14.00\">reg</text>\n</g>\n<!-- Cast -->\n<g id=\"node2\" class=\"node\">\n<title>Cast</title>\n<polygon fill=\"none\" stroke=\"black\" points=\"91,-29 91,-46 139,-46 139,-29 91,-29\"/>\n<text text-anchor=\"start\" x=\"105.5\" y=\"-35\" font-family=\"Times,serif\" font-size=\"10.00\">Cast</text>\n<polygon fill=\"none\" stroke=\"black\" points=\"91,-8 91,-29 115,-29 115,-8 91,-8\"/>\n<text text-anchor=\"start\" x=\"94\" y=\"-14.8\" font-family=\"Times,serif\" font-size=\"14.00\">reg</text>\n<polygon fill=\"none\" stroke=\"black\" points=\"115,-8 115,-29 139,-29 139,-8 115,-8\"/>\n<text text-anchor=\"start\" x=\"118\" y=\"-14.8\" font-family=\"Times,serif\" font-size=\"14.00\">reg</text>\n</g>\n<!-- reg_G3&#45;&gt;Cast -->\n<g id=\"edge1\" class=\"edge\">\n<title>reg_G3:e-&gt;Cast:w</title>\n<path fill=\"none\" stroke=\"black\" d=\"M54,-18C69.67,-18 74.14,-18 88.77,-18\"/>\n<ellipse fill=\"black\" stroke=\"black\" cx=\"90\" cy=\"-18\" rx=\"1\" ry=\"1\"/>\n<text text-anchor=\"middle\" x=\"72.5\" y=\"-21\" font-family=\"Times,serif\" font-size=\"10.00\">32</text>\n</g>\n<!-- reg_G1 -->\n<g id=\"node3\" class=\"node\">\n<title>reg_G1</title>\n<text text-anchor=\"middle\" x=\"203\" y=\"-14.3\" font-family=\"Times,serif\" font-size=\"14.00\">reg</text>\n</g>\n<!-- Cast&#45;&gt;reg_G1 -->\n<g id=\"edge2\" class=\"edge\">\n<title>Cast:e-&gt;reg_G1:w</title>\n<path fill=\"none\" stroke=\"black\" d=\"M139,-18C154.67,-18 159.14,-18 173.77,-18\"/>\n<ellipse fill=\"black\" stroke=\"black\" cx=\"175\" cy=\"-18\" rx=\"1\" ry=\"1\"/>\n<text text-anchor=\"middle\" x=\"157.5\" y=\"-21\" font-family=\"Times,serif\" font-size=\"10.00\">32</text>\n</g>\n</g>\n</svg>",
          "text/plain": "<IPython.core.display.SVG object>"
         },
         "metadata": {},
         "output_type": "display_data"
        }
       ],
       "tabbable": null,
       "tooltip": null
      }
     },
     "da06b77f534c4420ac889db90e35124a": {
      "model_module": "@jupyter-widgets/output",
      "model_module_version": "1.0.0",
      "model_name": "OutputModel",
      "state": {
       "_dom_classes": [],
       "_model_module": "@jupyter-widgets/output",
       "_model_module_version": "1.0.0",
       "_model_name": "OutputModel",
       "_view_count": null,
       "_view_module": "@jupyter-widgets/output",
       "_view_module_version": "1.0.0",
       "_view_name": "OutputView",
       "layout": "IPY_MODEL_33e2efda24034379991ae754f726fa27",
       "msg_id": "",
       "outputs": [
        {
         "data": {
          "text/markdown": "`free`",
          "text/plain": "<IPython.core.display.Markdown object>"
         },
         "metadata": {},
         "output_type": "display_data"
        },
        {
         "data": {
          "image/svg+xml": "<svg xmlns=\"http://www.w3.org/2000/svg\" xmlns:xlink=\"http://www.w3.org/1999/xlink\" width=\"129pt\" height=\"54pt\" viewBox=\"0.00 0.00 129.00 54.00\">\n<g id=\"graph0\" class=\"graph\" transform=\"scale(1 1) rotate(0) translate(4 50)\">\n<title>my_graph</title>\n<polygon fill=\"white\" stroke=\"transparent\" points=\"-4,4 -4,-50 125,-50 125,4 -4,4\"/>\n<!-- reg_G1 -->\n<g id=\"node1\" class=\"node\">\n<title>reg_G1</title>\n<text text-anchor=\"middle\" x=\"27\" y=\"-14.3\" font-family=\"Times,serif\" font-size=\"14.00\">reg</text>\n</g>\n<!-- Free -->\n<g id=\"node2\" class=\"node\">\n<title>Free</title>\n<polygon fill=\"none\" stroke=\"black\" points=\"91,-29 91,-46 121,-46 121,-29 91,-29\"/>\n<text text-anchor=\"start\" x=\"97\" y=\"-35\" font-family=\"Times,serif\" font-size=\"10.00\">Free</text>\n<polygon fill=\"none\" stroke=\"black\" points=\"91,-8 91,-29 115,-29 115,-8 91,-8\"/>\n<text text-anchor=\"start\" x=\"94\" y=\"-14.8\" font-family=\"Times,serif\" font-size=\"14.00\">reg</text>\n<polygon fill=\"none\" stroke=\"black\" points=\"115,-8 115,-29 121,-29 121,-8 115,-8\"/>\n</g>\n<!-- reg_G1&#45;&gt;Free -->\n<g id=\"edge1\" class=\"edge\">\n<title>reg_G1:e-&gt;Free:w</title>\n<path fill=\"none\" stroke=\"black\" d=\"M54,-18C69.67,-18 74.14,-18 88.77,-18\"/>\n<ellipse fill=\"black\" stroke=\"black\" cx=\"90\" cy=\"-18\" rx=\"1\" ry=\"1\"/>\n<text text-anchor=\"middle\" x=\"72.5\" y=\"-21\" font-family=\"Times,serif\" font-size=\"10.00\">n</text>\n</g>\n</g>\n</svg>",
          "text/plain": "<IPython.core.display.SVG object>"
         },
         "metadata": {},
         "output_type": "display_data"
        }
       ],
       "tabbable": null,
       "tooltip": null
      }
     },
     "e48c3306aaf44238bba8ac9779bc3cba": {
      "model_module": "@jupyter-widgets/output",
      "model_module_version": "1.0.0",
      "model_name": "OutputModel",
      "state": {
       "_dom_classes": [],
       "_model_module": "@jupyter-widgets/output",
       "_model_module_version": "1.0.0",
       "_model_name": "OutputModel",
       "_view_count": null,
       "_view_module": "@jupyter-widgets/output",
       "_view_module_version": "1.0.0",
       "_view_name": "OutputView",
       "layout": "IPY_MODEL_2781d17013704ba68c6def25986e95e3",
       "msg_id": "",
       "outputs": [
        {
         "data": {
          "text/markdown": "`partition`",
          "text/plain": "<IPython.core.display.Markdown object>"
         },
         "metadata": {},
         "output_type": "display_data"
        },
        {
         "data": {
          "image/svg+xml": "<svg xmlns=\"http://www.w3.org/2000/svg\" xmlns:xlink=\"http://www.w3.org/1999/xlink\" width=\"259pt\" height=\"368pt\" viewBox=\"0.00 0.00 259.00 368.00\">\n<g id=\"graph0\" class=\"graph\" transform=\"scale(1 1) rotate(0) translate(4 364)\">\n<title>my_graph</title>\n<polygon fill=\"white\" stroke=\"transparent\" points=\"-4,4 -4,-364 255,-364 255,4 -4,4\"/>\n<!-- x_G11 -->\n<g id=\"node1\" class=\"node\">\n<title>x_G11</title>\n<text text-anchor=\"middle\" x=\"27\" y=\"-261.3\" font-family=\"Times,serif\" font-size=\"14.00\">x</text>\n</g>\n<!-- Partition -->\n<g id=\"node2\" class=\"node\">\n<title>Partition</title>\n<polygon fill=\"none\" stroke=\"black\" points=\"91.5,-275 91.5,-292 154.5,-292 154.5,-275 91.5,-275\"/>\n<text text-anchor=\"start\" x=\"105\" y=\"-281\" font-family=\"Times,serif\" font-size=\"10.00\">Partition</text>\n<polygon fill=\"none\" stroke=\"black\" points=\"91.5,-254 91.5,-275 104.5,-275 104.5,-254 91.5,-254\"/>\n<text text-anchor=\"start\" x=\"94.5\" y=\"-260.8\" font-family=\"Times,serif\" font-size=\"14.00\">x</text>\n<polygon fill=\"none\" stroke=\"black\" points=\"104.5,-254 104.5,-275 154.5,-275 154.5,-254 104.5,-254\"/>\n<polygon fill=\"none\" stroke=\"black\" points=\"91.5,-233 91.5,-254 104.5,-254 104.5,-233 91.5,-233\"/>\n<polygon fill=\"none\" stroke=\"black\" points=\"104.5,-233 104.5,-254 154.5,-254 154.5,-233 104.5,-233\"/>\n<text text-anchor=\"start\" x=\"107.5\" y=\"-239.8\" font-family=\"Times,serif\" font-size=\"14.00\">xx[0, 0]</text>\n<polygon fill=\"none\" stroke=\"black\" points=\"91.5,-212 91.5,-233 104.5,-233 104.5,-212 91.5,-212\"/>\n<polygon fill=\"none\" stroke=\"black\" points=\"104.5,-212 104.5,-233 154.5,-233 154.5,-212 104.5,-212\"/>\n<text text-anchor=\"start\" x=\"107.5\" y=\"-218.8\" font-family=\"Times,serif\" font-size=\"14.00\">xx[0, 1]</text>\n<polygon fill=\"none\" stroke=\"black\" points=\"91.5,-191 91.5,-212 104.5,-212 104.5,-191 91.5,-191\"/>\n<polygon fill=\"none\" stroke=\"black\" points=\"104.5,-191 104.5,-212 154.5,-212 154.5,-191 104.5,-191\"/>\n<text text-anchor=\"start\" x=\"107.5\" y=\"-197.8\" font-family=\"Times,serif\" font-size=\"14.00\">xx[0, 2]</text>\n<polygon fill=\"none\" stroke=\"black\" points=\"91.5,-170 91.5,-191 104.5,-191 104.5,-170 91.5,-170\"/>\n<polygon fill=\"none\" stroke=\"black\" points=\"104.5,-170 104.5,-191 154.5,-191 154.5,-170 104.5,-170\"/>\n<text text-anchor=\"start\" x=\"107.5\" y=\"-176.8\" font-family=\"Times,serif\" font-size=\"14.00\">xx[1, 0]</text>\n<polygon fill=\"none\" stroke=\"black\" points=\"91.5,-149 91.5,-170 104.5,-170 104.5,-149 91.5,-149\"/>\n<polygon fill=\"none\" stroke=\"black\" points=\"104.5,-149 104.5,-170 154.5,-170 154.5,-149 104.5,-149\"/>\n<text text-anchor=\"start\" x=\"107.5\" y=\"-155.8\" font-family=\"Times,serif\" font-size=\"14.00\">xx[1, 1]</text>\n<polygon fill=\"none\" stroke=\"black\" points=\"91.5,-128 91.5,-149 104.5,-149 104.5,-128 91.5,-128\"/>\n<polygon fill=\"none\" stroke=\"black\" points=\"104.5,-128 104.5,-149 154.5,-149 154.5,-128 104.5,-128\"/>\n<text text-anchor=\"start\" x=\"107.5\" y=\"-134.8\" font-family=\"Times,serif\" font-size=\"14.00\">xx[1, 2]</text>\n<polygon fill=\"none\" stroke=\"black\" points=\"91.5,-107 91.5,-128 104.5,-128 104.5,-107 91.5,-107\"/>\n<polygon fill=\"none\" stroke=\"black\" points=\"104.5,-107 104.5,-128 154.5,-128 154.5,-107 104.5,-107\"/>\n<text text-anchor=\"start\" x=\"122.5\" y=\"-113.8\" font-family=\"Times,serif\" font-size=\"14.00\">yy</text>\n</g>\n<!-- x_G11&#45;&gt;Partition -->\n<g id=\"edge1\" class=\"edge\">\n<title>x_G11:e-&gt;Partition:w</title>\n<path fill=\"none\" stroke=\"black\" d=\"M54,-265C69.67,-265 74.14,-265 88.77,-265\"/>\n<ellipse fill=\"black\" stroke=\"black\" cx=\"90\" cy=\"-265\" rx=\"1\" ry=\"1\"/>\n<text text-anchor=\"middle\" x=\"72.5\" y=\"-268\" font-family=\"Times,serif\" font-size=\"10.00\">49</text>\n</g>\n<!-- xx_G14 -->\n<g id=\"node3\" class=\"node\">\n<title>xx_G14</title>\n<text text-anchor=\"middle\" x=\"221\" y=\"-338.3\" font-family=\"Times,serif\" font-size=\"14.00\">xx[0, 0]</text>\n</g>\n<!-- Partition&#45;&gt;xx_G14 -->\n<g id=\"edge2\" class=\"edge\">\n<title>Partition:e-&gt;xx_G14:w</title>\n<path fill=\"none\" stroke=\"black\" d=\"M154,-244C176.55,-244 168.29,-335.97 188.91,-341.72\"/>\n<ellipse fill=\"black\" stroke=\"black\" cx=\"190.01\" cy=\"-341.87\" rx=\"1\" ry=\"1\"/>\n<text text-anchor=\"middle\" x=\"172.5\" y=\"-298\" font-family=\"Times,serif\" font-size=\"10.00\">2</text>\n</g>\n<!-- xx_G3 -->\n<g id=\"node4\" class=\"node\">\n<title>xx_G3</title>\n<text text-anchor=\"middle\" x=\"221\" y=\"-284.3\" font-family=\"Times,serif\" font-size=\"14.00\">xx[0, 1]</text>\n</g>\n<!-- Partition&#45;&gt;xx_G3 -->\n<g id=\"edge3\" class=\"edge\">\n<title>Partition:e-&gt;xx_G3:w</title>\n<path fill=\"none\" stroke=\"black\" d=\"M154,-223C186.46,-223 159.11,-284.99 188.76,-287.89\"/>\n<ellipse fill=\"black\" stroke=\"black\" cx=\"190\" cy=\"-287.95\" rx=\"1\" ry=\"1\"/>\n<text text-anchor=\"middle\" x=\"172.5\" y=\"-264\" font-family=\"Times,serif\" font-size=\"10.00\">2</text>\n</g>\n<!-- xx_G0 -->\n<g id=\"node5\" class=\"node\">\n<title>xx_G0</title>\n<text text-anchor=\"middle\" x=\"221\" y=\"-230.3\" font-family=\"Times,serif\" font-size=\"14.00\">xx[0, 2]</text>\n</g>\n<!-- Partition&#45;&gt;xx_G0 -->\n<g id=\"edge4\" class=\"edge\">\n<title>Partition:e-&gt;xx_G0:w</title>\n<path fill=\"none\" stroke=\"black\" d=\"M154,-202C174.89,-202 169.72,-231.55 188.58,-233.86\"/>\n<ellipse fill=\"black\" stroke=\"black\" cx=\"190\" cy=\"-233.94\" rx=\"1\" ry=\"1\"/>\n<text text-anchor=\"middle\" x=\"172.5\" y=\"-221\" font-family=\"Times,serif\" font-size=\"10.00\">2</text>\n</g>\n<!-- xx_G7 -->\n<g id=\"node6\" class=\"node\">\n<title>xx_G7</title>\n<text text-anchor=\"middle\" x=\"221\" y=\"-176.3\" font-family=\"Times,serif\" font-size=\"14.00\">xx[1, 0]</text>\n</g>\n<!-- Partition&#45;&gt;xx_G7 -->\n<g id=\"edge5\" class=\"edge\">\n<title>Partition:e-&gt;xx_G7:w</title>\n<path fill=\"none\" stroke=\"black\" d=\"M154,-180C169.67,-180 174.14,-180 188.77,-180\"/>\n<ellipse fill=\"black\" stroke=\"black\" cx=\"190\" cy=\"-180\" rx=\"1\" ry=\"1\"/>\n<text text-anchor=\"middle\" x=\"172.5\" y=\"-183\" font-family=\"Times,serif\" font-size=\"10.00\">2</text>\n</g>\n<!-- xx_G12 -->\n<g id=\"node7\" class=\"node\">\n<title>xx_G12</title>\n<text text-anchor=\"middle\" x=\"221\" y=\"-122.3\" font-family=\"Times,serif\" font-size=\"14.00\">xx[1, 1]</text>\n</g>\n<!-- Partition&#45;&gt;xx_G12 -->\n<g id=\"edge6\" class=\"edge\">\n<title>Partition:e-&gt;xx_G12:w</title>\n<path fill=\"none\" stroke=\"black\" d=\"M154,-159C175.17,-159 169.47,-128.53 188.55,-126.15\"/>\n<ellipse fill=\"black\" stroke=\"black\" cx=\"190\" cy=\"-126.06\" rx=\"1\" ry=\"1\"/>\n<text text-anchor=\"middle\" x=\"172.5\" y=\"-146\" font-family=\"Times,serif\" font-size=\"10.00\">2</text>\n</g>\n<!-- xx_G15 -->\n<g id=\"node8\" class=\"node\">\n<title>xx_G15</title>\n<text text-anchor=\"middle\" x=\"221\" y=\"-68.3\" font-family=\"Times,serif\" font-size=\"14.00\">xx[1, 2]</text>\n</g>\n<!-- Partition&#45;&gt;xx_G15 -->\n<g id=\"edge7\" class=\"edge\">\n<title>Partition:e-&gt;xx_G15:w</title>\n<path fill=\"none\" stroke=\"black\" d=\"M154,-138C186.84,-138 158.75,-75.06 188.74,-72.11\"/>\n<ellipse fill=\"black\" stroke=\"black\" cx=\"190\" cy=\"-72.05\" rx=\"1\" ry=\"1\"/>\n<text text-anchor=\"middle\" x=\"172.5\" y=\"-115\" font-family=\"Times,serif\" font-size=\"10.00\">2</text>\n</g>\n<!-- yy_G8 -->\n<g id=\"node9\" class=\"node\">\n<title>yy_G8</title>\n<text text-anchor=\"middle\" x=\"221\" y=\"-14.3\" font-family=\"Times,serif\" font-size=\"14.00\">yy</text>\n</g>\n<!-- Partition&#45;&gt;yy_G8 -->\n<g id=\"edge8\" class=\"edge\">\n<title>Partition:e-&gt;yy_G8:w</title>\n<path fill=\"none\" stroke=\"black\" d=\"M154,-117C176.91,-117 169.84,-24.09 190.87,-18.28\"/>\n<ellipse fill=\"black\" stroke=\"black\" cx=\"192.01\" cy=\"-18.13\" rx=\"1\" ry=\"1\"/>\n<text text-anchor=\"middle\" x=\"172.5\" y=\"-80\" font-family=\"Times,serif\" font-size=\"10.00\">37</text>\n</g>\n</g>\n</svg>",
          "text/plain": "<IPython.core.display.SVG object>"
         },
         "metadata": {},
         "output_type": "display_data"
        }
       ],
       "tabbable": null,
       "tooltip": null
      }
     },
     "efcc433bbfe94dcd8d713b6ffa3468ae": {
      "model_module": "@jupyter-widgets/controls",
      "model_module_version": "2.0.0",
      "model_name": "HBoxModel",
      "state": {
       "_dom_classes": [],
       "_model_module": "@jupyter-widgets/controls",
       "_model_module_version": "2.0.0",
       "_model_name": "HBoxModel",
       "_view_count": null,
       "_view_module": "@jupyter-widgets/controls",
       "_view_module_version": "2.0.0",
       "_view_name": "HBoxView",
       "box_style": "",
       "children": [
        "IPY_MODEL_3df04bb03e5045d2975ba984760b30c4",
        "IPY_MODEL_524122c6f5c14c588fc014422e97a82b"
       ],
       "layout": "IPY_MODEL_83c24527d69144a4b284d6dde186b42e",
       "tabbable": null,
       "tooltip": null
      }
     },
     "f0b9370ec23242cd9f1d3819e8b65584": {
      "model_module": "@jupyter-widgets/base",
      "model_module_version": "2.0.0",
      "model_name": "LayoutModel",
      "state": {
       "_model_module": "@jupyter-widgets/base",
       "_model_module_version": "2.0.0",
       "_model_name": "LayoutModel",
       "_view_count": null,
       "_view_module": "@jupyter-widgets/base",
       "_view_module_version": "2.0.0",
       "_view_name": "LayoutView",
       "align_content": null,
       "align_items": null,
       "align_self": null,
       "border_bottom": null,
       "border_left": null,
       "border_right": null,
       "border_top": null,
       "bottom": null,
       "display": null,
       "flex": null,
       "flex_flow": null,
       "grid_area": null,
       "grid_auto_columns": null,
       "grid_auto_flow": null,
       "grid_auto_rows": null,
       "grid_column": null,
       "grid_gap": null,
       "grid_row": null,
       "grid_template_areas": null,
       "grid_template_columns": null,
       "grid_template_rows": null,
       "height": null,
       "justify_content": null,
       "justify_items": null,
       "left": null,
       "margin": null,
       "max_height": null,
       "max_width": null,
       "min_height": null,
       "min_width": null,
       "object_fit": null,
       "object_position": null,
       "order": null,
       "overflow": null,
       "padding": null,
       "right": null,
       "top": null,
       "visibility": null,
       "width": null
      }
     },
     "f1860f8d42cc4121996a655f5187822c": {
      "model_module": "@jupyter-widgets/controls",
      "model_module_version": "2.0.0",
      "model_name": "HBoxModel",
      "state": {
       "_dom_classes": [],
       "_model_module": "@jupyter-widgets/controls",
       "_model_module_version": "2.0.0",
       "_model_name": "HBoxModel",
       "_view_count": null,
       "_view_module": "@jupyter-widgets/controls",
       "_view_module_version": "2.0.0",
       "_view_name": "HBoxView",
       "box_style": "",
       "children": [
        "IPY_MODEL_72727b1bf45744808829f52f73b111f1"
       ],
       "layout": "IPY_MODEL_9b93c0501c6c4671aa44224b5e5b2bd5",
       "tabbable": null,
       "tooltip": null
      }
     },
     "f54aea55e39a410da50f2d1fe8289085": {
      "model_module": "@jupyter-widgets/output",
      "model_module_version": "1.0.0",
      "model_name": "OutputModel",
      "state": {
       "_dom_classes": [],
       "_model_module": "@jupyter-widgets/output",
       "_model_module_version": "1.0.0",
       "_model_name": "OutputModel",
       "_view_count": null,
       "_view_module": "@jupyter-widgets/output",
       "_view_module_version": "1.0.0",
       "_view_name": "OutputView",
       "layout": "IPY_MODEL_2cff57dfc94545a2903994d5213e4f0b",
       "msg_id": "",
       "outputs": [
        {
         "data": {
          "text/markdown": "`always_and`",
          "text/plain": "<IPython.core.display.Markdown object>"
         },
         "metadata": {},
         "output_type": "display_data"
        },
        {
         "data": {
          "image/svg+xml": "<svg xmlns=\"http://www.w3.org/2000/svg\" xmlns:xlink=\"http://www.w3.org/1999/xlink\" width=\"233pt\" height=\"152pt\" viewBox=\"0.00 0.00 233.00 152.00\">\n<g id=\"graph0\" class=\"graph\" transform=\"scale(1 1) rotate(0) translate(4 148)\">\n<title>my_graph</title>\n<polygon fill=\"white\" stroke=\"transparent\" points=\"-4,4 -4,-148 229,-148 229,4 -4,4\"/>\n<!-- ctrl_G0 -->\n<g id=\"node1\" class=\"node\">\n<title>ctrl_G0</title>\n<text text-anchor=\"middle\" x=\"27\" y=\"-106.3\" font-family=\"Times,serif\" font-size=\"14.00\">ctrl[0]</text>\n</g>\n<!-- Always -->\n<g id=\"node3\" class=\"node\">\n<title>Always</title>\n<polygon fill=\"none\" stroke=\"black\" points=\"91.5,-104 91.5,-121 134.5,-121 134.5,-104 91.5,-104\"/>\n<text text-anchor=\"start\" x=\"103.5\" y=\"-110\" font-family=\"Times,serif\" font-size=\"10.00\">And</text>\n<polygon fill=\"none\" stroke=\"black\" points=\"91.5,-83 91.5,-104 134.5,-104 134.5,-83 91.5,-83\"/>\n<text text-anchor=\"start\" x=\"96\" y=\"-89.8\" font-family=\"Times,serif\" font-size=\"14.00\">ctrl[0]</text>\n<polygon fill=\"none\" stroke=\"black\" points=\"91.5,-62 91.5,-83 134.5,-83 134.5,-62 91.5,-62\"/>\n<text text-anchor=\"start\" x=\"96\" y=\"-68.8\" font-family=\"Times,serif\" font-size=\"14.00\">ctrl[1]</text>\n<polygon fill=\"none\" stroke=\"black\" points=\"91.5,-41 91.5,-62 97.5,-62 97.5,-41 91.5,-41\"/>\n<polygon fill=\"none\" stroke=\"black\" points=\"97.5,-41 97.5,-62 134.5,-62 134.5,-41 97.5,-41\"/>\n<text text-anchor=\"start\" x=\"100.5\" y=\"-47.8\" font-family=\"Times,serif\" font-size=\"14.00\">target</text>\n</g>\n<!-- ctrl_G0&#45;&gt;Always -->\n<g id=\"edge1\" class=\"edge\">\n<title>ctrl_G0:e-&gt;Always:w</title>\n<path fill=\"none\" stroke=\"black\" d=\"M54,-110C71.22,-110 72.97,-95.23 88.98,-94.07\"/>\n<ellipse fill=\"black\" stroke=\"black\" cx=\"90\" cy=\"-94.04\" rx=\"1\" ry=\"1\"/>\n<text text-anchor=\"middle\" x=\"72.5\" y=\"-105\" font-family=\"Times,serif\" font-size=\"10.00\">1</text>\n</g>\n<!-- ctrl_G4 -->\n<g id=\"node2\" class=\"node\">\n<title>ctrl_G4</title>\n<text text-anchor=\"middle\" x=\"27\" y=\"-52.3\" font-family=\"Times,serif\" font-size=\"14.00\">ctrl[1]</text>\n</g>\n<!-- ctrl_G4&#45;&gt;Always -->\n<g id=\"edge2\" class=\"edge\">\n<title>ctrl_G4:e-&gt;Always:w</title>\n<path fill=\"none\" stroke=\"black\" d=\"M54,-56C71.22,-56 72.97,-70.77 88.98,-71.93\"/>\n<ellipse fill=\"black\" stroke=\"black\" cx=\"90\" cy=\"-71.96\" rx=\"1\" ry=\"1\"/>\n<text text-anchor=\"middle\" x=\"72.5\" y=\"-68\" font-family=\"Times,serif\" font-size=\"10.00\">1</text>\n</g>\n<!-- ctrl_G6 -->\n<g id=\"node4\" class=\"node\">\n<title>ctrl_G6</title>\n<text text-anchor=\"middle\" x=\"198\" y=\"-122.3\" font-family=\"Times,serif\" font-size=\"14.00\">ctrl[0]</text>\n</g>\n<!-- Always&#45;&gt;ctrl_G6 -->\n<g id=\"edge3\" class=\"edge\">\n<title>Always:e-&gt;ctrl_G6:w</title>\n<path fill=\"none\" stroke=\"black\" d=\"M134,-94C154.89,-94 149.72,-123.55 168.58,-125.86\"/>\n<ellipse fill=\"black\" stroke=\"black\" cx=\"170\" cy=\"-125.94\" rx=\"1\" ry=\"1\"/>\n<text text-anchor=\"middle\" x=\"152.5\" y=\"-113\" font-family=\"Times,serif\" font-size=\"10.00\">1</text>\n</g>\n<!-- ctrl_G3 -->\n<g id=\"node5\" class=\"node\">\n<title>ctrl_G3</title>\n<text text-anchor=\"middle\" x=\"198\" y=\"-68.3\" font-family=\"Times,serif\" font-size=\"14.00\">ctrl[1]</text>\n</g>\n<!-- Always&#45;&gt;ctrl_G3 -->\n<g id=\"edge4\" class=\"edge\">\n<title>Always:e-&gt;ctrl_G3:w</title>\n<path fill=\"none\" stroke=\"black\" d=\"M134,-72C149.67,-72 154.14,-72 168.77,-72\"/>\n<ellipse fill=\"black\" stroke=\"black\" cx=\"170\" cy=\"-72\" rx=\"1\" ry=\"1\"/>\n<text text-anchor=\"middle\" x=\"152.5\" y=\"-75\" font-family=\"Times,serif\" font-size=\"10.00\">1</text>\n</g>\n<!-- target_G2 -->\n<g id=\"node6\" class=\"node\">\n<title>target_G2</title>\n<text text-anchor=\"middle\" x=\"198\" y=\"-14.3\" font-family=\"Times,serif\" font-size=\"14.00\">target</text>\n</g>\n<!-- Always&#45;&gt;target_G2 -->\n<g id=\"edge5\" class=\"edge\">\n<title>Always:e-&gt;target_G2:w</title>\n<path fill=\"none\" stroke=\"black\" d=\"M134,-51C155.17,-51 149.47,-20.53 168.55,-18.15\"/>\n<ellipse fill=\"black\" stroke=\"black\" cx=\"170\" cy=\"-18.06\" rx=\"1\" ry=\"1\"/>\n<text text-anchor=\"middle\" x=\"152.5\" y=\"-39\" font-family=\"Times,serif\" font-size=\"10.00\">1</text>\n</g>\n</g>\n</svg>",
          "text/plain": "<IPython.core.display.SVG object>"
         },
         "metadata": {},
         "output_type": "display_data"
        }
       ],
       "tabbable": null,
       "tooltip": null
      }
     },
     "ff10bc38296549b38f2dbc8563bde09c": {
      "model_module": "@jupyter-widgets/base",
      "model_module_version": "2.0.0",
      "model_name": "LayoutModel",
      "state": {
       "_model_module": "@jupyter-widgets/base",
       "_model_module_version": "2.0.0",
       "_model_name": "LayoutModel",
       "_view_count": null,
       "_view_module": "@jupyter-widgets/base",
       "_view_module_version": "2.0.0",
       "_view_name": "LayoutView",
       "align_content": null,
       "align_items": null,
       "align_self": null,
       "border_bottom": null,
       "border_left": null,
       "border_right": null,
       "border_top": null,
       "bottom": null,
       "display": null,
       "flex": null,
       "flex_flow": null,
       "grid_area": null,
       "grid_auto_columns": null,
       "grid_auto_flow": null,
       "grid_auto_rows": null,
       "grid_column": null,
       "grid_gap": null,
       "grid_row": null,
       "grid_template_areas": null,
       "grid_template_columns": null,
       "grid_template_rows": null,
       "height": null,
       "justify_content": null,
       "justify_items": null,
       "left": null,
       "margin": null,
       "max_height": null,
       "max_width": null,
       "min_height": null,
       "min_width": null,
       "object_fit": null,
       "object_position": null,
       "order": null,
       "overflow": null,
       "padding": null,
       "right": null,
       "top": null,
       "visibility": null,
       "width": null
      }
     }
    },
    "version_major": 2,
    "version_minor": 0
   }
  }
 },
 "nbformat": 4,
 "nbformat_minor": 5
}
