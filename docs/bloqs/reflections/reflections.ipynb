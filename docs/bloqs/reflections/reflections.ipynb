{
 "cells": [
  {
   "cell_type": "markdown",
   "id": "626303de",
   "metadata": {
    "cq.autogen": "title_cell"
   },
   "source": [
    "# Reflections"
   ]
  },
  {
   "cell_type": "code",
   "execution_count": 1,
   "id": "d8e42988",
   "metadata": {
    "cq.autogen": "top_imports"
   },
   "outputs": [],
   "source": [
    "from qualtran import Bloq, CompositeBloq, BloqBuilder, Signature, Register\n",
    "from qualtran import QBit, QInt, QUInt, QAny\n",
    "from qualtran.drawing import show_bloq, show_call_graph, show_counts_sigma\n",
    "from typing import *\n",
    "import numpy as np\n",
    "import sympy\n",
    "import cirq"
   ]
  },
  {
   "cell_type": "markdown",
   "id": "64018b78",
   "metadata": {
    "cq.autogen": "ReflectionUsingPrepare.bloq_doc.md"
   },
   "source": [
    "## `ReflectionUsingPrepare`\n",
    "Applies reflection around a state prepared by `prepare_gate`\n",
    "\n",
    "Applies $R_{s, g=1} = g (I - 2|s\\rangle\\langle s|)$ using $R_{s} =\n",
    "P(I - 2|0\\rangle\\langle0|)P^{\\dagger}$ s.t. $P|0\\rangle = |s\\rangle$.\n",
    "\n",
    "Here:\n",
    "- $|s\\rangle$: The state along which we want to reflect.\n",
    "- $P$: Unitary that prepares that state $|s\\rangle $ from the zero state $|0\\rangle$\n",
    "- $R_{s}$: Reflection operator that adds a `-1` phase to all states in the subspace\n",
    "    spanned by $|s\\rangle$.\n",
    "- $g$: The global phase to control the behavior of the reflection. For example:\n",
    "    We often use $g=-1$ in literature to denote the reflection operator as\n",
    "    $R_{s} = -1 (I - 2|s\\rangle\\langle s|) = 2|s\\rangle\\langle s| - I$\n",
    "\n",
    "The composite gate corresponds to implementing the following circuit:\n",
    "\n",
    "```\n",
    "|control> ------------------ Z -------------------\n",
    "                             |\n",
    "|L>       ---- PREPARE^† --- o --- PREPARE -------\n",
    "```\n",
    "\n",
    "\n",
    "#### Parameters\n",
    " - `prepare_gate`: An implementation of `PREPARE` for state preparation.\n",
    " - `control_val`: If 0/1, a controlled version of the reflection operator is constructed. Defaults to None, in which case the resulting reflection operator is not controlled.\n",
    " - `global_phase`: The global phase to apply in front of the reflection operator. When building a controlled reflection operator, the global phase translates into a relative phase.\n",
    " - `eps`: precision for implementation of rotation. Only relevant if global_phase is arbitrary angle and gate is not controlled. \n",
    "\n",
    "#### References\n",
    " - [Encoding Electronic Spectra in Quantum Circuits with Linear T Complexity](https://arxiv.org/abs/1805.03662). Babbush et al. 2018. Figure 1.\n"
   ]
  },
  {
   "cell_type": "code",
   "execution_count": 2,
   "id": "64332586",
   "metadata": {
    "cq.autogen": "ReflectionUsingPrepare.bloq_doc.py"
   },
   "outputs": [],
   "source": [
    "from qualtran.bloqs.reflections.reflection_using_prepare import ReflectionUsingPrepare"
   ]
  },
  {
   "cell_type": "markdown",
   "id": "76a1a775",
   "metadata": {
    "cq.autogen": "ReflectionUsingPrepare.example_instances.md"
   },
   "source": [
    "### Example Instances"
   ]
  },
  {
   "cell_type": "code",
   "execution_count": 3,
   "id": "efa91894",
   "metadata": {
    "cq.autogen": "ReflectionUsingPrepare.refl_using_prep"
   },
   "outputs": [],
   "source": [
    "from qualtran.bloqs.state_preparation import StatePreparationAliasSampling\n",
    "\n",
    "data = [1] * 5\n",
    "eps = 1e-2\n",
    "prepare_gate = StatePreparationAliasSampling.from_probabilities(data, precision=eps)\n",
    "\n",
    "refl_using_prep = ReflectionUsingPrepare(prepare_gate)"
   ]
  },
  {
   "cell_type": "code",
   "execution_count": 4,
   "id": "47450235",
   "metadata": {
    "cq.autogen": "ReflectionUsingPrepare.refl_around_zero"
   },
   "outputs": [],
   "source": [
    "refl_around_zero = ReflectionUsingPrepare.reflection_around_zero(\n",
    "    bitsizes=(1, 2, 3), global_phase=-1, control_val=1\n",
    ")"
   ]
  },
  {
   "cell_type": "markdown",
   "id": "a7b42338",
   "metadata": {
    "cq.autogen": "ReflectionUsingPrepare.graphical_signature.md"
   },
   "source": [
    "#### Graphical Signature"
   ]
  },
  {
   "cell_type": "code",
   "execution_count": 5,
   "id": "1e41f871",
   "metadata": {
    "cq.autogen": "ReflectionUsingPrepare.graphical_signature.py"
   },
   "outputs": [
    {
     "data": {
      "application/vnd.jupyter.widget-view+json": {
       "model_id": "dcd37c317d4742f9bf47fce7bc867a8d",
       "version_major": 2,
       "version_minor": 0
      },
      "text/plain": [
       "HBox(children=(Output(outputs=({'output_type': 'display_data', 'data': {'text/plain': '<IPython.core.display.M…"
      ]
     },
     "metadata": {},
     "output_type": "display_data"
    }
   ],
   "source": [
    "from qualtran.drawing import show_bloqs\n",
    "show_bloqs([refl_using_prep, refl_around_zero],\n",
    "           ['`refl_using_prep`', '`refl_around_zero`'])"
   ]
  },
  {
   "cell_type": "markdown",
   "id": "9d1f93e7",
   "metadata": {
    "cq.autogen": "ReflectionUsingPrepare.call_graph.md"
   },
   "source": [
    "### Call Graph"
   ]
  },
  {
   "cell_type": "code",
   "execution_count": 6,
   "id": "ff1f0683",
   "metadata": {
    "cq.autogen": "ReflectionUsingPrepare.call_graph.py"
   },
   "outputs": [
    {
     "data": {
      "image/svg+xml": [
       "<svg xmlns=\"http://www.w3.org/2000/svg\" xmlns:xlink=\"http://www.w3.org/1999/xlink\" width=\"506pt\" height=\"131pt\" viewBox=\"0.00 0.00 506.00 131.00\">\n",
       "<g id=\"graph0\" class=\"graph\" transform=\"scale(1 1) rotate(0) translate(4 127)\">\n",
       "<title>counts</title>\n",
       "<polygon fill=\"white\" stroke=\"transparent\" points=\"-4,4 -4,-127 502,-127 502,4 -4,4\"/>\n",
       "<!-- b0 -->\n",
       "<g id=\"node1\" class=\"node\">\n",
       "<title>b0</title>\n",
       "<polygon fill=\"none\" stroke=\"black\" points=\"267,-93 267,-116 377,-116 377,-93 267,-93\"/>\n",
       "<text text-anchor=\"start\" x=\"273\" y=\"-102\" font-family=\"Times,serif\" font-size=\"10.00\">ReflectionUsingPrepare</text>\n",
       "</g>\n",
       "<!-- b1 -->\n",
       "<g id=\"node2\" class=\"node\">\n",
       "<title>b1</title>\n",
       "<polygon fill=\"none\" stroke=\"black\" points=\"8,-6 8,-29 148,-29 148,-6 8,-6\"/>\n",
       "<text text-anchor=\"start\" x=\"14\" y=\"-15\" font-family=\"Times,serif\" font-size=\"10.00\">StatePreparationAliasSampling</text>\n",
       "</g>\n",
       "<!-- b0&#45;&gt;b1 -->\n",
       "<g id=\"edge1\" class=\"edge\">\n",
       "<title>b0-&gt;b1</title>\n",
       "<path fill=\"none\" stroke=\"black\" d=\"M272.92,-86.9C233.54,-73.18 178.15,-53.89 136.48,-39.37\"/>\n",
       "<polygon fill=\"black\" stroke=\"black\" points=\"137.6,-36.06 127.01,-36.07 135.3,-42.67 137.6,-36.06\"/>\n",
       "<text text-anchor=\"middle\" x=\"218.5\" y=\"-57.8\" font-family=\"Times,serif\" font-size=\"14.00\">1</text>\n",
       "</g>\n",
       "<!-- b2 -->\n",
       "<g id=\"node3\" class=\"node\">\n",
       "<title>b2</title>\n",
       "<polygon fill=\"none\" stroke=\"black\" points=\"182,-6 182,-29 328,-29 328,-6 182,-6\"/>\n",
       "<text text-anchor=\"start\" x=\"188.5\" y=\"-15\" font-family=\"Times,serif\" font-size=\"10.00\">StatePreparationAliasSampling†</text>\n",
       "</g>\n",
       "<!-- b0&#45;&gt;b2 -->\n",
       "<g id=\"edge2\" class=\"edge\">\n",
       "<title>b0-&gt;b2</title>\n",
       "<path fill=\"none\" stroke=\"black\" d=\"M308.44,-86.8C298.82,-74.59 285.73,-57.99 274.92,-44.28\"/>\n",
       "<polygon fill=\"black\" stroke=\"black\" points=\"277.48,-41.86 268.54,-36.18 271.98,-46.2 277.48,-41.86\"/>\n",
       "<text text-anchor=\"middle\" x=\"296.5\" y=\"-57.8\" font-family=\"Times,serif\" font-size=\"14.00\">1</text>\n",
       "</g>\n",
       "<!-- b3 -->\n",
       "<g id=\"node4\" class=\"node\">\n",
       "<title>b3</title>\n",
       "<polygon fill=\"none\" stroke=\"black\" points=\"362,-6 362,-29 418,-29 418,-6 362,-6\"/>\n",
       "<text text-anchor=\"start\" x=\"368.5\" y=\"-15\" font-family=\"Times,serif\" font-size=\"10.00\">C^3ZGate</text>\n",
       "</g>\n",
       "<!-- b0&#45;&gt;b3 -->\n",
       "<g id=\"edge3\" class=\"edge\">\n",
       "<title>b0-&gt;b3</title>\n",
       "<path fill=\"none\" stroke=\"black\" d=\"M335.76,-86.8C345.53,-74.59 358.81,-57.99 369.78,-44.28\"/>\n",
       "<polygon fill=\"black\" stroke=\"black\" points=\"372.75,-46.17 376.26,-36.18 367.28,-41.8 372.75,-46.17\"/>\n",
       "<text text-anchor=\"middle\" x=\"364.5\" y=\"-57.8\" font-family=\"Times,serif\" font-size=\"14.00\">1</text>\n",
       "</g>\n",
       "<!-- b4 -->\n",
       "<g id=\"node5\" class=\"node\">\n",
       "<title>b4</title>\n",
       "<polygon fill=\"none\" stroke=\"black\" points=\"461,-6 461,-29 481,-29 481,-6 461,-6\"/>\n",
       "<text text-anchor=\"start\" x=\"467\" y=\"-15\" font-family=\"Times,serif\" font-size=\"10.00\">X</text>\n",
       "</g>\n",
       "<!-- b0&#45;&gt;b4 -->\n",
       "<g id=\"edge4\" class=\"edge\">\n",
       "<title>b0-&gt;b4</title>\n",
       "<path fill=\"none\" stroke=\"black\" d=\"M352.15,-86.8C376.08,-73.15 409.62,-54.02 434.96,-39.56\"/>\n",
       "<polygon fill=\"black\" stroke=\"black\" points=\"436.95,-42.46 443.9,-34.46 433.48,-36.38 436.95,-42.46\"/>\n",
       "<text text-anchor=\"middle\" x=\"408.5\" y=\"-57.8\" font-family=\"Times,serif\" font-size=\"14.00\">2</text>\n",
       "</g>\n",
       "</g>\n",
       "</svg>"
      ],
      "text/plain": [
       "<IPython.core.display.SVG object>"
      ]
     },
     "metadata": {},
     "output_type": "display_data"
    },
    {
     "data": {
      "text/markdown": [
       "#### Counts totals:\n",
       " - `C^3ZGate`: 1\n",
       " - `StatePreparationAliasSampling`: 1\n",
       " - `StatePreparationAliasSampling†`: 1\n",
       " - `X`: 2"
      ],
      "text/plain": [
       "<IPython.core.display.Markdown object>"
      ]
     },
     "metadata": {},
     "output_type": "display_data"
    }
   ],
   "source": [
    "from qualtran.resource_counting.generalizers import ignore_split_join\n",
    "refl_using_prep_g, refl_using_prep_sigma = refl_using_prep.call_graph(max_depth=1, generalizer=ignore_split_join)\n",
    "show_call_graph(refl_using_prep_g)\n",
    "show_counts_sigma(refl_using_prep_sigma)"
   ]
  },
  {
   "cell_type": "markdown",
   "id": "46581aef",
   "metadata": {
    "cq.autogen": "PrepareIdentity.bloq_doc.md"
   },
   "source": [
    "## `PrepareIdentity`\n",
    "An identity PrepareOracle.\n",
    "\n",
    "This is helpful for creating a reflection about zero and as a signal state for block encodings.\n",
    "\n",
    "#### Parameters\n",
    " - `selection_regs`: The selection registers for state prepareation. These are the incilla the state will be prepared over. \n",
    "\n",
    "#### Registers\n",
    " - `selection_registers`: The selection registers.\n"
   ]
  },
  {
   "cell_type": "code",
   "execution_count": 7,
   "id": "ceea0c46",
   "metadata": {
    "cq.autogen": "PrepareIdentity.bloq_doc.py"
   },
   "outputs": [],
   "source": [
    "from qualtran.bloqs.reflections.prepare_identity import PrepareIdentity"
   ]
  },
  {
   "cell_type": "markdown",
   "id": "db68969e",
   "metadata": {
    "cq.autogen": "PrepareIdentity.example_instances.md"
   },
   "source": [
    "### Example Instances"
   ]
  },
  {
   "cell_type": "code",
   "execution_count": 8,
   "id": "a1a1b4cf",
   "metadata": {
    "cq.autogen": "PrepareIdentity.prepare_identity"
   },
   "outputs": [],
   "source": [
    "prepare_identity = PrepareIdentity.from_bitsizes((10, 4, 1))"
   ]
  },
  {
   "cell_type": "markdown",
   "id": "673ce8f5",
   "metadata": {
    "cq.autogen": "PrepareIdentity.graphical_signature.md"
   },
   "source": [
    "#### Graphical Signature"
   ]
  },
  {
   "cell_type": "code",
   "execution_count": 9,
   "id": "dbb512be",
   "metadata": {
    "cq.autogen": "PrepareIdentity.graphical_signature.py"
   },
   "outputs": [
    {
     "data": {
      "application/vnd.jupyter.widget-view+json": {
       "model_id": "57c30bd60c434d8c932dc8d0ffda1870",
       "version_major": 2,
       "version_minor": 0
      },
      "text/plain": [
       "HBox(children=(Output(outputs=({'output_type': 'display_data', 'data': {'text/plain': '<IPython.core.display.M…"
      ]
     },
     "metadata": {},
     "output_type": "display_data"
    }
   ],
   "source": [
    "from qualtran.drawing import show_bloqs\n",
    "show_bloqs([prepare_identity],\n",
    "           ['`prepare_identity`'])"
   ]
  },
  {
   "cell_type": "markdown",
   "id": "496e6c70",
   "metadata": {
    "cq.autogen": "PrepareIdentity.call_graph.md"
   },
   "source": [
    "### Call Graph"
   ]
  },
  {
   "cell_type": "code",
   "execution_count": 10,
   "id": "8c272034",
   "metadata": {
    "cq.autogen": "PrepareIdentity.call_graph.py"
   },
   "outputs": [
    {
     "data": {
      "image/svg+xml": [
       "<svg xmlns=\"http://www.w3.org/2000/svg\" xmlns:xlink=\"http://www.w3.org/1999/xlink\" width=\"206pt\" height=\"131pt\" viewBox=\"0.00 0.00 206.00 131.00\">\n",
       "<g id=\"graph0\" class=\"graph\" transform=\"scale(1 1) rotate(0) translate(4 127)\">\n",
       "<title>counts</title>\n",
       "<polygon fill=\"white\" stroke=\"transparent\" points=\"-4,4 -4,-127 202,-127 202,4 -4,4\"/>\n",
       "<!-- b0 -->\n",
       "<g id=\"node1\" class=\"node\">\n",
       "<title>b0</title>\n",
       "<polygon fill=\"none\" stroke=\"black\" points=\"61,-93 61,-116 137,-116 137,-93 61,-93\"/>\n",
       "<text text-anchor=\"start\" x=\"67.5\" y=\"-102\" font-family=\"Times,serif\" font-size=\"10.00\">PrepareIdentity</text>\n",
       "</g>\n",
       "<!-- b1 -->\n",
       "<g id=\"node2\" class=\"node\">\n",
       "<title>b1</title>\n",
       "<polygon fill=\"none\" stroke=\"black\" points=\"19,-6 19,-29 35,-29 35,-6 19,-6\"/>\n",
       "<text text-anchor=\"start\" x=\"25\" y=\"-15\" font-family=\"Times,serif\" font-size=\"10.00\">I</text>\n",
       "</g>\n",
       "<!-- b0&#45;&gt;b1 -->\n",
       "<g id=\"edge1\" class=\"edge\">\n",
       "<title>b0-&gt;b1</title>\n",
       "<path fill=\"none\" stroke=\"black\" d=\"M84.43,-86.8C73.99,-74.47 59.76,-57.68 48.08,-43.89\"/>\n",
       "<polygon fill=\"black\" stroke=\"black\" points=\"50.68,-41.54 41.55,-36.18 45.34,-46.07 50.68,-41.54\"/>\n",
       "<text text-anchor=\"middle\" x=\"71.5\" y=\"-57.8\" font-family=\"Times,serif\" font-size=\"14.00\">1</text>\n",
       "</g>\n",
       "<!-- b2 -->\n",
       "<g id=\"node3\" class=\"node\">\n",
       "<title>b2</title>\n",
       "<polygon fill=\"none\" stroke=\"black\" points=\"91,-6 91,-29 107,-29 107,-6 91,-6\"/>\n",
       "<text text-anchor=\"start\" x=\"97\" y=\"-15\" font-family=\"Times,serif\" font-size=\"10.00\">I</text>\n",
       "</g>\n",
       "<!-- b0&#45;&gt;b2 -->\n",
       "<g id=\"edge2\" class=\"edge\">\n",
       "<title>b0-&gt;b2</title>\n",
       "<path fill=\"none\" stroke=\"black\" d=\"M99,-86.8C99,-75.16 99,-59.55 99,-46.24\"/>\n",
       "<polygon fill=\"black\" stroke=\"black\" points=\"102.5,-46.18 99,-36.18 95.5,-46.18 102.5,-46.18\"/>\n",
       "<text text-anchor=\"middle\" x=\"102.5\" y=\"-57.8\" font-family=\"Times,serif\" font-size=\"14.00\">1</text>\n",
       "</g>\n",
       "<!-- b3 -->\n",
       "<g id=\"node4\" class=\"node\">\n",
       "<title>b3</title>\n",
       "<polygon fill=\"none\" stroke=\"black\" points=\"163,-6 163,-29 179,-29 179,-6 163,-6\"/>\n",
       "<text text-anchor=\"start\" x=\"169\" y=\"-15\" font-family=\"Times,serif\" font-size=\"10.00\">I</text>\n",
       "</g>\n",
       "<!-- b0&#45;&gt;b3 -->\n",
       "<g id=\"edge3\" class=\"edge\">\n",
       "<title>b0-&gt;b3</title>\n",
       "<path fill=\"none\" stroke=\"black\" d=\"M113.57,-86.8C124.01,-74.47 138.24,-57.68 149.92,-43.89\"/>\n",
       "<polygon fill=\"black\" stroke=\"black\" points=\"152.66,-46.07 156.45,-36.18 147.32,-41.54 152.66,-46.07\"/>\n",
       "<text text-anchor=\"middle\" x=\"142.5\" y=\"-57.8\" font-family=\"Times,serif\" font-size=\"14.00\">1</text>\n",
       "</g>\n",
       "</g>\n",
       "</svg>"
      ],
      "text/plain": [
       "<IPython.core.display.SVG object>"
      ]
     },
     "metadata": {},
     "output_type": "display_data"
    },
    {
     "data": {
      "text/markdown": [
       "#### Counts totals:\n",
       " - `I`: 1\n",
       " - `I`: 1\n",
       " - `I`: 1"
      ],
      "text/plain": [
       "<IPython.core.display.Markdown object>"
      ]
     },
     "metadata": {},
     "output_type": "display_data"
    }
   ],
   "source": [
    "from qualtran.resource_counting.generalizers import ignore_split_join\n",
    "prepare_identity_g, prepare_identity_sigma = prepare_identity.call_graph(max_depth=1, generalizer=ignore_split_join)\n",
    "show_call_graph(prepare_identity_g)\n",
    "show_counts_sigma(prepare_identity_sigma)"
   ]
  }
 ],
 "metadata": {
  "kernelspec": {
   "display_name": "Python 3",
   "language": "python",
   "name": "python3"
  },
  "language_info": {
   "codemirror_mode": {
    "name": "ipython",
    "version": 3
   },
   "file_extension": ".py",
   "mimetype": "text/x-python",
   "name": "python",
   "nbconvert_exporter": "python",
   "pygments_lexer": "ipython3",
   "version": "3.11.8"
  },
  "widgets": {
   "application/vnd.jupyter.widget-state+json": {
    "state": {
     "012f692475eb4dada5589ff962e96862": {
      "model_module": "@jupyter-widgets/output",
      "model_module_version": "1.0.0",
      "model_name": "OutputModel",
      "state": {
       "_dom_classes": [],
       "_model_module": "@jupyter-widgets/output",
       "_model_module_version": "1.0.0",
       "_model_name": "OutputModel",
       "_view_count": null,
       "_view_module": "@jupyter-widgets/output",
       "_view_module_version": "1.0.0",
       "_view_name": "OutputView",
       "layout": "IPY_MODEL_ba21837847d04586ab254ecb4b1c591b",
       "msg_id": "",
       "outputs": [
        {
         "data": {
          "text/markdown": "`prepare_identity`",
          "text/plain": "<IPython.core.display.Markdown object>"
         },
         "metadata": {},
         "output_type": "display_data"
        },
        {
         "data": {
          "image/svg+xml": "<svg xmlns=\"http://www.w3.org/2000/svg\" xmlns:xlink=\"http://www.w3.org/1999/xlink\" width=\"259pt\" height=\"152pt\" viewBox=\"0.00 0.00 259.00 152.00\">\n<g id=\"graph0\" class=\"graph\" transform=\"scale(1 1) rotate(0) translate(4 148)\">\n<title>my_graph</title>\n<polygon fill=\"white\" stroke=\"transparent\" points=\"-4,4 -4,-148 255,-148 255,4 -4,4\"/>\n<!-- reg0__G7 -->\n<g id=\"node1\" class=\"node\">\n<title>reg0__G7</title>\n<text text-anchor=\"middle\" x=\"27\" y=\"-122.3\" font-family=\"Times,serif\" font-size=\"14.00\">reg0_</text>\n</g>\n<!-- PrepareIdentity -->\n<g id=\"node4\" class=\"node\">\n<title>PrepareIdentity</title>\n<polygon fill=\"none\" stroke=\"black\" points=\"91.5,-104 91.5,-121 160.5,-121 160.5,-104 91.5,-104\"/>\n<text text-anchor=\"start\" x=\"94.5\" y=\"-110\" font-family=\"Times,serif\" font-size=\"10.00\">PrepareIdentity</text>\n<polygon fill=\"none\" stroke=\"black\" points=\"91.5,-83 91.5,-104 160.5,-104 160.5,-83 91.5,-83\"/>\n<text text-anchor=\"start\" x=\"110.5\" y=\"-89.8\" font-family=\"Times,serif\" font-size=\"14.00\">reg0_</text>\n<polygon fill=\"none\" stroke=\"black\" points=\"91.5,-62 91.5,-83 160.5,-83 160.5,-62 91.5,-62\"/>\n<text text-anchor=\"start\" x=\"110.5\" y=\"-68.8\" font-family=\"Times,serif\" font-size=\"14.00\">reg1_</text>\n<polygon fill=\"none\" stroke=\"black\" points=\"91.5,-41 91.5,-62 160.5,-62 160.5,-41 91.5,-41\"/>\n<text text-anchor=\"start\" x=\"110.5\" y=\"-47.8\" font-family=\"Times,serif\" font-size=\"14.00\">reg2_</text>\n</g>\n<!-- reg0__G7&#45;&gt;PrepareIdentity -->\n<g id=\"edge1\" class=\"edge\">\n<title>reg0__G7:e-&gt;PrepareIdentity:w</title>\n<path fill=\"none\" stroke=\"black\" d=\"M54,-126C74.89,-126 69.72,-96.45 88.58,-94.14\"/>\n<ellipse fill=\"black\" stroke=\"black\" cx=\"90\" cy=\"-94.06\" rx=\"1\" ry=\"1\"/>\n<text text-anchor=\"middle\" x=\"72.5\" y=\"-113\" font-family=\"Times,serif\" font-size=\"10.00\">10</text>\n</g>\n<!-- reg1__G3 -->\n<g id=\"node2\" class=\"node\">\n<title>reg1__G3</title>\n<text text-anchor=\"middle\" x=\"27\" y=\"-68.3\" font-family=\"Times,serif\" font-size=\"14.00\">reg1_</text>\n</g>\n<!-- reg1__G3&#45;&gt;PrepareIdentity -->\n<g id=\"edge2\" class=\"edge\">\n<title>reg1__G3:e-&gt;PrepareIdentity:w</title>\n<path fill=\"none\" stroke=\"black\" d=\"M54,-72C69.67,-72 74.14,-72 88.77,-72\"/>\n<ellipse fill=\"black\" stroke=\"black\" cx=\"90\" cy=\"-72\" rx=\"1\" ry=\"1\"/>\n<text text-anchor=\"middle\" x=\"72.5\" y=\"-75\" font-family=\"Times,serif\" font-size=\"10.00\">4</text>\n</g>\n<!-- reg2__G6 -->\n<g id=\"node3\" class=\"node\">\n<title>reg2__G6</title>\n<text text-anchor=\"middle\" x=\"27\" y=\"-14.3\" font-family=\"Times,serif\" font-size=\"14.00\">reg2_</text>\n</g>\n<!-- reg2__G6&#45;&gt;PrepareIdentity -->\n<g id=\"edge3\" class=\"edge\">\n<title>reg2__G6:e-&gt;PrepareIdentity:w</title>\n<path fill=\"none\" stroke=\"black\" d=\"M54,-18C75.17,-18 69.47,-48.47 88.55,-50.85\"/>\n<ellipse fill=\"black\" stroke=\"black\" cx=\"90\" cy=\"-50.94\" rx=\"1\" ry=\"1\"/>\n<text text-anchor=\"middle\" x=\"72.5\" y=\"-39\" font-family=\"Times,serif\" font-size=\"10.00\">1</text>\n</g>\n<!-- reg0__G8 -->\n<g id=\"node5\" class=\"node\">\n<title>reg0__G8</title>\n<text text-anchor=\"middle\" x=\"224\" y=\"-122.3\" font-family=\"Times,serif\" font-size=\"14.00\">reg0_</text>\n</g>\n<!-- PrepareIdentity&#45;&gt;reg0__G8 -->\n<g id=\"edge4\" class=\"edge\">\n<title>PrepareIdentity:e-&gt;reg0__G8:w</title>\n<path fill=\"none\" stroke=\"black\" d=\"M160,-94C180.89,-94 175.72,-123.55 194.58,-125.86\"/>\n<ellipse fill=\"black\" stroke=\"black\" cx=\"196\" cy=\"-125.94\" rx=\"1\" ry=\"1\"/>\n<text text-anchor=\"middle\" x=\"178.5\" y=\"-113\" font-family=\"Times,serif\" font-size=\"10.00\">10</text>\n</g>\n<!-- reg1__G5 -->\n<g id=\"node6\" class=\"node\">\n<title>reg1__G5</title>\n<text text-anchor=\"middle\" x=\"224\" y=\"-68.3\" font-family=\"Times,serif\" font-size=\"14.00\">reg1_</text>\n</g>\n<!-- PrepareIdentity&#45;&gt;reg1__G5 -->\n<g id=\"edge5\" class=\"edge\">\n<title>PrepareIdentity:e-&gt;reg1__G5:w</title>\n<path fill=\"none\" stroke=\"black\" d=\"M160,-72C175.67,-72 180.14,-72 194.77,-72\"/>\n<ellipse fill=\"black\" stroke=\"black\" cx=\"196\" cy=\"-72\" rx=\"1\" ry=\"1\"/>\n<text text-anchor=\"middle\" x=\"178.5\" y=\"-75\" font-family=\"Times,serif\" font-size=\"10.00\">4</text>\n</g>\n<!-- reg2__G1 -->\n<g id=\"node7\" class=\"node\">\n<title>reg2__G1</title>\n<text text-anchor=\"middle\" x=\"224\" y=\"-14.3\" font-family=\"Times,serif\" font-size=\"14.00\">reg2_</text>\n</g>\n<!-- PrepareIdentity&#45;&gt;reg2__G1 -->\n<g id=\"edge6\" class=\"edge\">\n<title>PrepareIdentity:e-&gt;reg2__G1:w</title>\n<path fill=\"none\" stroke=\"black\" d=\"M160,-51C181.17,-51 175.47,-20.53 194.55,-18.15\"/>\n<ellipse fill=\"black\" stroke=\"black\" cx=\"196\" cy=\"-18.06\" rx=\"1\" ry=\"1\"/>\n<text text-anchor=\"middle\" x=\"178.5\" y=\"-39\" font-family=\"Times,serif\" font-size=\"10.00\">1</text>\n</g>\n</g>\n</svg>",
          "text/plain": "<IPython.core.display.SVG object>"
         },
         "metadata": {},
         "output_type": "display_data"
        }
       ],
       "tabbable": null,
       "tooltip": null
      }
     },
     "3bd1d385e7c64b029b1ce0a1784f1c88": {
      "model_module": "@jupyter-widgets/base",
      "model_module_version": "2.0.0",
      "model_name": "LayoutModel",
      "state": {
       "_model_module": "@jupyter-widgets/base",
       "_model_module_version": "2.0.0",
       "_model_name": "LayoutModel",
       "_view_count": null,
       "_view_module": "@jupyter-widgets/base",
       "_view_module_version": "2.0.0",
       "_view_name": "LayoutView",
       "align_content": null,
       "align_items": null,
       "align_self": null,
       "border_bottom": null,
       "border_left": null,
       "border_right": null,
       "border_top": null,
       "bottom": null,
       "display": null,
       "flex": null,
       "flex_flow": null,
       "grid_area": null,
       "grid_auto_columns": null,
       "grid_auto_flow": null,
       "grid_auto_rows": null,
       "grid_column": null,
       "grid_gap": null,
       "grid_row": null,
       "grid_template_areas": null,
       "grid_template_columns": null,
       "grid_template_rows": null,
       "height": null,
       "justify_content": null,
       "justify_items": null,
       "left": null,
       "margin": null,
       "max_height": null,
       "max_width": null,
       "min_height": null,
       "min_width": null,
       "object_fit": null,
       "object_position": null,
       "order": null,
       "overflow": null,
       "padding": null,
       "right": null,
       "top": null,
       "visibility": null,
       "width": null
      }
     },
     "57c30bd60c434d8c932dc8d0ffda1870": {
      "model_module": "@jupyter-widgets/controls",
      "model_module_version": "2.0.0",
      "model_name": "HBoxModel",
      "state": {
       "_dom_classes": [],
       "_model_module": "@jupyter-widgets/controls",
       "_model_module_version": "2.0.0",
       "_model_name": "HBoxModel",
       "_view_count": null,
       "_view_module": "@jupyter-widgets/controls",
       "_view_module_version": "2.0.0",
       "_view_name": "HBoxView",
       "box_style": "",
       "children": [
        "IPY_MODEL_012f692475eb4dada5589ff962e96862"
       ],
       "layout": "IPY_MODEL_d9fdca26f35e4adda4005645cd1e6219",
       "tabbable": null,
       "tooltip": null
      }
     },
     "736b648e70ec48a196d7ad6f3ef19380": {
      "model_module": "@jupyter-widgets/output",
      "model_module_version": "1.0.0",
      "model_name": "OutputModel",
      "state": {
       "_dom_classes": [],
       "_model_module": "@jupyter-widgets/output",
       "_model_module_version": "1.0.0",
       "_model_name": "OutputModel",
       "_view_count": null,
       "_view_module": "@jupyter-widgets/output",
       "_view_module_version": "1.0.0",
       "_view_name": "OutputView",
       "layout": "IPY_MODEL_ca973d1d36264a6fa5be139965cdb484",
       "msg_id": "",
       "outputs": [
        {
         "data": {
          "text/markdown": "`refl_using_prep`",
          "text/plain": "<IPython.core.display.Markdown object>"
         },
         "metadata": {},
         "output_type": "display_data"
        },
        {
         "data": {
          "image/svg+xml": "<svg xmlns=\"http://www.w3.org/2000/svg\" xmlns:xlink=\"http://www.w3.org/1999/xlink\" width=\"316pt\" height=\"54pt\" viewBox=\"0.00 0.00 316.00 54.00\">\n<g id=\"graph0\" class=\"graph\" transform=\"scale(1 1) rotate(0) translate(4 50)\">\n<title>my_graph</title>\n<polygon fill=\"white\" stroke=\"transparent\" points=\"-4,4 -4,-50 312,-50 312,4 -4,4\"/>\n<!-- selection_G0 -->\n<g id=\"node1\" class=\"node\">\n<title>selection_G0</title>\n<text text-anchor=\"middle\" x=\"32.5\" y=\"-14.3\" font-family=\"Times,serif\" font-size=\"14.00\">selection</text>\n</g>\n<!-- ReflectionUsingPrepare -->\n<g id=\"node2\" class=\"node\">\n<title>ReflectionUsingPrepare</title>\n<polygon fill=\"none\" stroke=\"black\" points=\"102,-29 102,-46 206,-46 206,-29 102,-29\"/>\n<text text-anchor=\"start\" x=\"105\" y=\"-35\" font-family=\"Times,serif\" font-size=\"10.00\">ReflectionUsingPrepare</text>\n<polygon fill=\"none\" stroke=\"black\" points=\"102,-8 102,-29 206,-29 206,-8 102,-8\"/>\n<text text-anchor=\"start\" x=\"129.5\" y=\"-14.8\" font-family=\"Times,serif\" font-size=\"14.00\">selection</text>\n</g>\n<!-- selection_G0&#45;&gt;ReflectionUsingPrepare -->\n<g id=\"edge1\" class=\"edge\">\n<title>selection_G0:e-&gt;ReflectionUsingPrepare:w</title>\n<path fill=\"none\" stroke=\"black\" d=\"M65,-18C80.67,-18 85.14,-18 99.77,-18\"/>\n<ellipse fill=\"black\" stroke=\"black\" cx=\"101\" cy=\"-18\" rx=\"1\" ry=\"1\"/>\n<text text-anchor=\"middle\" x=\"83.5\" y=\"-21\" font-family=\"Times,serif\" font-size=\"10.00\">3</text>\n</g>\n<!-- selection_G1 -->\n<g id=\"node3\" class=\"node\">\n<title>selection_G1</title>\n<text text-anchor=\"middle\" x=\"275.5\" y=\"-14.3\" font-family=\"Times,serif\" font-size=\"14.00\">selection</text>\n</g>\n<!-- ReflectionUsingPrepare&#45;&gt;selection_G1 -->\n<g id=\"edge2\" class=\"edge\">\n<title>ReflectionUsingPrepare:e-&gt;selection_G1:w</title>\n<path fill=\"none\" stroke=\"black\" d=\"M206,-18C221.67,-18 226.14,-18 240.77,-18\"/>\n<ellipse fill=\"black\" stroke=\"black\" cx=\"242\" cy=\"-18\" rx=\"1\" ry=\"1\"/>\n<text text-anchor=\"middle\" x=\"224.5\" y=\"-21\" font-family=\"Times,serif\" font-size=\"10.00\">3</text>\n</g>\n</g>\n</svg>",
          "text/plain": "<IPython.core.display.SVG object>"
         },
         "metadata": {},
         "output_type": "display_data"
        }
       ],
       "tabbable": null,
       "tooltip": null
      }
     },
     "9c68256f65b94639a5075984c60ace48": {
      "model_module": "@jupyter-widgets/output",
      "model_module_version": "1.0.0",
      "model_name": "OutputModel",
      "state": {
       "_dom_classes": [],
       "_model_module": "@jupyter-widgets/output",
       "_model_module_version": "1.0.0",
       "_model_name": "OutputModel",
       "_view_count": null,
       "_view_module": "@jupyter-widgets/output",
       "_view_module_version": "1.0.0",
       "_view_name": "OutputView",
       "layout": "IPY_MODEL_3bd1d385e7c64b029b1ce0a1784f1c88",
       "msg_id": "",
       "outputs": [
        {
         "data": {
          "text/markdown": "`refl_around_zero`",
          "text/plain": "<IPython.core.display.Markdown object>"
         },
         "metadata": {},
         "output_type": "display_data"
        },
        {
         "data": {
          "image/svg+xml": "<svg xmlns=\"http://www.w3.org/2000/svg\" xmlns:xlink=\"http://www.w3.org/1999/xlink\" width=\"296pt\" height=\"206pt\" viewBox=\"0.00 0.00 296.00 206.00\">\n<g id=\"graph0\" class=\"graph\" transform=\"scale(1 1) rotate(0) translate(4 202)\">\n<title>my_graph</title>\n<polygon fill=\"white\" stroke=\"transparent\" points=\"-4,4 -4,-202 292,-202 292,4 -4,4\"/>\n<!-- control_G2 -->\n<g id=\"node1\" class=\"node\">\n<title>control_G2</title>\n<text text-anchor=\"middle\" x=\"27.5\" y=\"-176.3\" font-family=\"Times,serif\" font-size=\"14.00\">control</text>\n</g>\n<!-- ReflectionUsingPrepare -->\n<g id=\"node5\" class=\"node\">\n<title>ReflectionUsingPrepare</title>\n<polygon fill=\"none\" stroke=\"black\" points=\"92,-141 92,-158 196,-158 196,-141 92,-141\"/>\n<text text-anchor=\"start\" x=\"95\" y=\"-147\" font-family=\"Times,serif\" font-size=\"10.00\">ReflectionUsingPrepare</text>\n<polygon fill=\"none\" stroke=\"black\" points=\"92,-120 92,-141 196,-141 196,-120 92,-120\"/>\n<text text-anchor=\"start\" x=\"124.5\" y=\"-126.8\" font-family=\"Times,serif\" font-size=\"14.00\">control</text>\n<polygon fill=\"none\" stroke=\"black\" points=\"92,-99 92,-120 196,-120 196,-99 92,-99\"/>\n<text text-anchor=\"start\" x=\"128.5\" y=\"-105.8\" font-family=\"Times,serif\" font-size=\"14.00\">reg0_</text>\n<polygon fill=\"none\" stroke=\"black\" points=\"92,-78 92,-99 196,-99 196,-78 92,-78\"/>\n<text text-anchor=\"start\" x=\"128.5\" y=\"-84.8\" font-family=\"Times,serif\" font-size=\"14.00\">reg1_</text>\n<polygon fill=\"none\" stroke=\"black\" points=\"92,-57 92,-78 196,-78 196,-57 92,-57\"/>\n<text text-anchor=\"start\" x=\"128.5\" y=\"-63.8\" font-family=\"Times,serif\" font-size=\"14.00\">reg2_</text>\n</g>\n<!-- control_G2&#45;&gt;ReflectionUsingPrepare -->\n<g id=\"edge1\" class=\"edge\">\n<title>control_G2:e-&gt;ReflectionUsingPrepare:w</title>\n<path fill=\"none\" stroke=\"black\" d=\"M55,-180C81.54,-180 65.64,-133.64 89.86,-131.11\"/>\n<ellipse fill=\"black\" stroke=\"black\" cx=\"91\" cy=\"-131.05\" rx=\"1\" ry=\"1\"/>\n<text text-anchor=\"middle\" x=\"73.5\" y=\"-159\" font-family=\"Times,serif\" font-size=\"10.00\">1</text>\n</g>\n<!-- reg0__G11 -->\n<g id=\"node2\" class=\"node\">\n<title>reg0__G11</title>\n<text text-anchor=\"middle\" x=\"27.5\" y=\"-122.3\" font-family=\"Times,serif\" font-size=\"14.00\">reg0_</text>\n</g>\n<!-- reg0__G11&#45;&gt;ReflectionUsingPrepare -->\n<g id=\"edge2\" class=\"edge\">\n<title>reg0__G11:e-&gt;ReflectionUsingPrepare:w</title>\n<path fill=\"none\" stroke=\"black\" d=\"M55,-126C72.22,-126 73.97,-111.23 89.98,-110.07\"/>\n<ellipse fill=\"black\" stroke=\"black\" cx=\"91\" cy=\"-110.04\" rx=\"1\" ry=\"1\"/>\n<text text-anchor=\"middle\" x=\"73.5\" y=\"-121\" font-family=\"Times,serif\" font-size=\"10.00\">1</text>\n</g>\n<!-- reg1__G5 -->\n<g id=\"node3\" class=\"node\">\n<title>reg1__G5</title>\n<text text-anchor=\"middle\" x=\"27.5\" y=\"-68.3\" font-family=\"Times,serif\" font-size=\"14.00\">reg1_</text>\n</g>\n<!-- reg1__G5&#45;&gt;ReflectionUsingPrepare -->\n<g id=\"edge3\" class=\"edge\">\n<title>reg1__G5:e-&gt;ReflectionUsingPrepare:w</title>\n<path fill=\"none\" stroke=\"black\" d=\"M55,-72C72.22,-72 73.97,-86.77 89.98,-87.93\"/>\n<ellipse fill=\"black\" stroke=\"black\" cx=\"91\" cy=\"-87.96\" rx=\"1\" ry=\"1\"/>\n<text text-anchor=\"middle\" x=\"73.5\" y=\"-83\" font-family=\"Times,serif\" font-size=\"10.00\">2</text>\n</g>\n<!-- reg2__G1 -->\n<g id=\"node4\" class=\"node\">\n<title>reg2__G1</title>\n<text text-anchor=\"middle\" x=\"27.5\" y=\"-14.3\" font-family=\"Times,serif\" font-size=\"14.00\">reg2_</text>\n</g>\n<!-- reg2__G1&#45;&gt;ReflectionUsingPrepare -->\n<g id=\"edge4\" class=\"edge\">\n<title>reg2__G1:e-&gt;ReflectionUsingPrepare:w</title>\n<path fill=\"none\" stroke=\"black\" d=\"M55,-18C81.54,-18 65.64,-64.36 89.86,-66.89\"/>\n<ellipse fill=\"black\" stroke=\"black\" cx=\"91\" cy=\"-66.95\" rx=\"1\" ry=\"1\"/>\n<text text-anchor=\"middle\" x=\"73.5\" y=\"-47\" font-family=\"Times,serif\" font-size=\"10.00\">3</text>\n</g>\n<!-- control_G8 -->\n<g id=\"node6\" class=\"node\">\n<title>control_G8</title>\n<text text-anchor=\"middle\" x=\"260.5\" y=\"-176.3\" font-family=\"Times,serif\" font-size=\"14.00\">control</text>\n</g>\n<!-- ReflectionUsingPrepare&#45;&gt;control_G8 -->\n<g id=\"edge5\" class=\"edge\">\n<title>ReflectionUsingPrepare:e-&gt;control_G8:w</title>\n<path fill=\"none\" stroke=\"black\" d=\"M196,-131C222.54,-131 206.64,-177.36 230.86,-179.89\"/>\n<ellipse fill=\"black\" stroke=\"black\" cx=\"232\" cy=\"-179.95\" rx=\"1\" ry=\"1\"/>\n<text text-anchor=\"middle\" x=\"214.5\" y=\"-159\" font-family=\"Times,serif\" font-size=\"10.00\">1</text>\n</g>\n<!-- reg0__G3 -->\n<g id=\"node7\" class=\"node\">\n<title>reg0__G3</title>\n<text text-anchor=\"middle\" x=\"260.5\" y=\"-122.3\" font-family=\"Times,serif\" font-size=\"14.00\">reg0_</text>\n</g>\n<!-- ReflectionUsingPrepare&#45;&gt;reg0__G3 -->\n<g id=\"edge6\" class=\"edge\">\n<title>ReflectionUsingPrepare:e-&gt;reg0__G3:w</title>\n<path fill=\"none\" stroke=\"black\" d=\"M196,-110C213.22,-110 214.97,-124.77 230.98,-125.93\"/>\n<ellipse fill=\"black\" stroke=\"black\" cx=\"232\" cy=\"-125.96\" rx=\"1\" ry=\"1\"/>\n<text text-anchor=\"middle\" x=\"214.5\" y=\"-121\" font-family=\"Times,serif\" font-size=\"10.00\">1</text>\n</g>\n<!-- reg1__G0 -->\n<g id=\"node8\" class=\"node\">\n<title>reg1__G0</title>\n<text text-anchor=\"middle\" x=\"260.5\" y=\"-68.3\" font-family=\"Times,serif\" font-size=\"14.00\">reg1_</text>\n</g>\n<!-- ReflectionUsingPrepare&#45;&gt;reg1__G0 -->\n<g id=\"edge7\" class=\"edge\">\n<title>ReflectionUsingPrepare:e-&gt;reg1__G0:w</title>\n<path fill=\"none\" stroke=\"black\" d=\"M196,-88C213.22,-88 214.97,-73.23 230.98,-72.07\"/>\n<ellipse fill=\"black\" stroke=\"black\" cx=\"232\" cy=\"-72.04\" rx=\"1\" ry=\"1\"/>\n<text text-anchor=\"middle\" x=\"214.5\" y=\"-83\" font-family=\"Times,serif\" font-size=\"10.00\">2</text>\n</g>\n<!-- reg2__G4 -->\n<g id=\"node9\" class=\"node\">\n<title>reg2__G4</title>\n<text text-anchor=\"middle\" x=\"260.5\" y=\"-14.3\" font-family=\"Times,serif\" font-size=\"14.00\">reg2_</text>\n</g>\n<!-- ReflectionUsingPrepare&#45;&gt;reg2__G4 -->\n<g id=\"edge8\" class=\"edge\">\n<title>ReflectionUsingPrepare:e-&gt;reg2__G4:w</title>\n<path fill=\"none\" stroke=\"black\" d=\"M196,-67C222.54,-67 206.64,-20.64 230.86,-18.11\"/>\n<ellipse fill=\"black\" stroke=\"black\" cx=\"232\" cy=\"-18.05\" rx=\"1\" ry=\"1\"/>\n<text text-anchor=\"middle\" x=\"214.5\" y=\"-47\" font-family=\"Times,serif\" font-size=\"10.00\">3</text>\n</g>\n</g>\n</svg>",
          "text/plain": "<IPython.core.display.SVG object>"
         },
         "metadata": {},
         "output_type": "display_data"
        }
       ],
       "tabbable": null,
       "tooltip": null
      }
     },
     "ba21837847d04586ab254ecb4b1c591b": {
      "model_module": "@jupyter-widgets/base",
      "model_module_version": "2.0.0",
      "model_name": "LayoutModel",
      "state": {
       "_model_module": "@jupyter-widgets/base",
       "_model_module_version": "2.0.0",
       "_model_name": "LayoutModel",
       "_view_count": null,
       "_view_module": "@jupyter-widgets/base",
       "_view_module_version": "2.0.0",
       "_view_name": "LayoutView",
       "align_content": null,
       "align_items": null,
       "align_self": null,
       "border_bottom": null,
       "border_left": null,
       "border_right": null,
       "border_top": null,
       "bottom": null,
       "display": null,
       "flex": null,
       "flex_flow": null,
       "grid_area": null,
       "grid_auto_columns": null,
       "grid_auto_flow": null,
       "grid_auto_rows": null,
       "grid_column": null,
       "grid_gap": null,
       "grid_row": null,
       "grid_template_areas": null,
       "grid_template_columns": null,
       "grid_template_rows": null,
       "height": null,
       "justify_content": null,
       "justify_items": null,
       "left": null,
       "margin": null,
       "max_height": null,
       "max_width": null,
       "min_height": null,
       "min_width": null,
       "object_fit": null,
       "object_position": null,
       "order": null,
       "overflow": null,
       "padding": null,
       "right": null,
       "top": null,
       "visibility": null,
       "width": null
      }
     },
     "ca973d1d36264a6fa5be139965cdb484": {
      "model_module": "@jupyter-widgets/base",
      "model_module_version": "2.0.0",
      "model_name": "LayoutModel",
      "state": {
       "_model_module": "@jupyter-widgets/base",
       "_model_module_version": "2.0.0",
       "_model_name": "LayoutModel",
       "_view_count": null,
       "_view_module": "@jupyter-widgets/base",
       "_view_module_version": "2.0.0",
       "_view_name": "LayoutView",
       "align_content": null,
       "align_items": null,
       "align_self": null,
       "border_bottom": null,
       "border_left": null,
       "border_right": null,
       "border_top": null,
       "bottom": null,
       "display": null,
       "flex": null,
       "flex_flow": null,
       "grid_area": null,
       "grid_auto_columns": null,
       "grid_auto_flow": null,
       "grid_auto_rows": null,
       "grid_column": null,
       "grid_gap": null,
       "grid_row": null,
       "grid_template_areas": null,
       "grid_template_columns": null,
       "grid_template_rows": null,
       "height": null,
       "justify_content": null,
       "justify_items": null,
       "left": null,
       "margin": null,
       "max_height": null,
       "max_width": null,
       "min_height": null,
       "min_width": null,
       "object_fit": null,
       "object_position": null,
       "order": null,
       "overflow": null,
       "padding": null,
       "right": null,
       "top": null,
       "visibility": null,
       "width": null
      }
     },
     "d9fdca26f35e4adda4005645cd1e6219": {
      "model_module": "@jupyter-widgets/base",
      "model_module_version": "2.0.0",
      "model_name": "LayoutModel",
      "state": {
       "_model_module": "@jupyter-widgets/base",
       "_model_module_version": "2.0.0",
       "_model_name": "LayoutModel",
       "_view_count": null,
       "_view_module": "@jupyter-widgets/base",
       "_view_module_version": "2.0.0",
       "_view_name": "LayoutView",
       "align_content": null,
       "align_items": null,
       "align_self": null,
       "border_bottom": null,
       "border_left": null,
       "border_right": null,
       "border_top": null,
       "bottom": null,
       "display": null,
       "flex": null,
       "flex_flow": null,
       "grid_area": null,
       "grid_auto_columns": null,
       "grid_auto_flow": null,
       "grid_auto_rows": null,
       "grid_column": null,
       "grid_gap": null,
       "grid_row": null,
       "grid_template_areas": null,
       "grid_template_columns": null,
       "grid_template_rows": null,
       "height": null,
       "justify_content": null,
       "justify_items": null,
       "left": null,
       "margin": null,
       "max_height": null,
       "max_width": null,
       "min_height": null,
       "min_width": null,
       "object_fit": null,
       "object_position": null,
       "order": null,
       "overflow": null,
       "padding": null,
       "right": null,
       "top": null,
       "visibility": null,
       "width": null
      }
     },
     "dcd37c317d4742f9bf47fce7bc867a8d": {
      "model_module": "@jupyter-widgets/controls",
      "model_module_version": "2.0.0",
      "model_name": "HBoxModel",
      "state": {
       "_dom_classes": [],
       "_model_module": "@jupyter-widgets/controls",
       "_model_module_version": "2.0.0",
       "_model_name": "HBoxModel",
       "_view_count": null,
       "_view_module": "@jupyter-widgets/controls",
       "_view_module_version": "2.0.0",
       "_view_name": "HBoxView",
       "box_style": "",
       "children": [
        "IPY_MODEL_736b648e70ec48a196d7ad6f3ef19380",
        "IPY_MODEL_9c68256f65b94639a5075984c60ace48"
       ],
       "layout": "IPY_MODEL_fd41e8610c2f42b4a1afeb113c771331",
       "tabbable": null,
       "tooltip": null
      }
     },
     "fd41e8610c2f42b4a1afeb113c771331": {
      "model_module": "@jupyter-widgets/base",
      "model_module_version": "2.0.0",
      "model_name": "LayoutModel",
      "state": {
       "_model_module": "@jupyter-widgets/base",
       "_model_module_version": "2.0.0",
       "_model_name": "LayoutModel",
       "_view_count": null,
       "_view_module": "@jupyter-widgets/base",
       "_view_module_version": "2.0.0",
       "_view_name": "LayoutView",
       "align_content": null,
       "align_items": null,
       "align_self": null,
       "border_bottom": null,
       "border_left": null,
       "border_right": null,
       "border_top": null,
       "bottom": null,
       "display": null,
       "flex": null,
       "flex_flow": null,
       "grid_area": null,
       "grid_auto_columns": null,
       "grid_auto_flow": null,
       "grid_auto_rows": null,
       "grid_column": null,
       "grid_gap": null,
       "grid_row": null,
       "grid_template_areas": null,
       "grid_template_columns": null,
       "grid_template_rows": null,
       "height": null,
       "justify_content": null,
       "justify_items": null,
       "left": null,
       "margin": null,
       "max_height": null,
       "max_width": null,
       "min_height": null,
       "min_width": null,
       "object_fit": null,
       "object_position": null,
       "order": null,
       "overflow": null,
       "padding": null,
       "right": null,
       "top": null,
       "visibility": null,
       "width": null
      }
     }
    },
    "version_major": 2,
    "version_minor": 0
   }
  }
 },
 "nbformat": 4,
 "nbformat_minor": 5
}
