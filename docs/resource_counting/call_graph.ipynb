{
 "cells": [
  {
   "cell_type": "markdown",
   "id": "1fd2bad2",
   "metadata": {},
   "source": [
    "# The Call Graph Protocol\n",
    "\n",
    "The call graph protocol lets you query which subbloq are called in a bloq's decomposition. Proper accounting of the quantity of subroutine calls is a crucial tool in estimating resource requirements for an algorithm. For example, the number of 'expensive' gates like `TGate` or `Toffoli` required by a bloq is the sum of the number of those gates used by the bloq's callees."
   ]
  },
  {
   "cell_type": "code",
   "execution_count": 1,
   "id": "2482bd7e",
   "metadata": {},
   "outputs": [
    {
     "data": {
      "image/svg+xml": [
       "<svg xmlns=\"http://www.w3.org/2000/svg\" xmlns:xlink=\"http://www.w3.org/1999/xlink\" width=\"100pt\" height=\"213pt\" viewBox=\"0.00 0.00 100.00 213.00\">\n",
       "<g id=\"graph0\" class=\"graph\" transform=\"scale(1 1) rotate(0) translate(4 209)\">\n",
       "<title>counts</title>\n",
       "<polygon fill=\"white\" stroke=\"transparent\" points=\"-4,4 -4,-209 96,-209 96,4 -4,4\"/>\n",
       "<!-- b0 -->\n",
       "<g id=\"node1\" class=\"node\">\n",
       "<title>b0</title>\n",
       "<polygon fill=\"none\" stroke=\"black\" points=\"8,-177.5 8,-200.5 84,-200.5 84,-177.5 8,-177.5\"/>\n",
       "<text text-anchor=\"start\" x=\"14\" y=\"-186.5\" font-family=\"Times,serif\" font-size=\"10.00\">MultiAnd(n=6)</text>\n",
       "<polygon fill=\"none\" stroke=\"black\" points=\"8,-154.5 8,-177.5 55,-177.5 55,-154.5 8,-154.5\"/>\n",
       "<text text-anchor=\"start\" x=\"17.5\" y=\"-163.5\" font-family=\"Times,serif\" font-size=\"10.00\">Qubits</text>\n",
       "<polygon fill=\"none\" stroke=\"black\" points=\"55,-154.5 55,-177.5 84,-177.5 84,-154.5 55,-154.5\"/>\n",
       "<text text-anchor=\"start\" x=\"64.5\" y=\"-163.5\" font-family=\"Times,serif\" font-size=\"10.00\">11</text>\n",
       "<polygon fill=\"none\" stroke=\"black\" points=\"8,-131.5 8,-154.5 55,-154.5 55,-131.5 8,-131.5\"/>\n",
       "<text text-anchor=\"start\" x=\"20.5\" y=\"-140.5\" font-family=\"Times,serif\" font-size=\"10.00\">Ands</text>\n",
       "<polygon fill=\"none\" stroke=\"black\" points=\"55,-131.5 55,-154.5 84,-154.5 84,-131.5 55,-131.5\"/>\n",
       "<text text-anchor=\"start\" x=\"66.5\" y=\"-140.5\" font-family=\"Times,serif\" font-size=\"10.00\">5</text>\n",
       "</g>\n",
       "<!-- b1 -->\n",
       "<g id=\"node2\" class=\"node\">\n",
       "<title>b1</title>\n",
       "<polygon fill=\"none\" stroke=\"black\" points=\"17,-49.5 17,-72.5 75,-72.5 75,-49.5 17,-49.5\"/>\n",
       "<text text-anchor=\"start\" x=\"36.5\" y=\"-58.5\" font-family=\"Times,serif\" font-size=\"10.00\">And</text>\n",
       "<polygon fill=\"none\" stroke=\"black\" points=\"17,-26.5 17,-49.5 57,-49.5 57,-26.5 17,-26.5\"/>\n",
       "<text text-anchor=\"start\" x=\"23\" y=\"-35.5\" font-family=\"Times,serif\" font-size=\"10.00\">Qubits</text>\n",
       "<polygon fill=\"none\" stroke=\"black\" points=\"57,-26.5 57,-49.5 75,-49.5 75,-26.5 57,-26.5\"/>\n",
       "<text text-anchor=\"start\" x=\"63\" y=\"-35.5\" font-family=\"Times,serif\" font-size=\"10.00\">3</text>\n",
       "<polygon fill=\"none\" stroke=\"black\" points=\"17,-3.5 17,-26.5 57,-26.5 57,-3.5 17,-3.5\"/>\n",
       "<text text-anchor=\"start\" x=\"26\" y=\"-12.5\" font-family=\"Times,serif\" font-size=\"10.00\">Ands</text>\n",
       "<polygon fill=\"none\" stroke=\"black\" points=\"57,-3.5 57,-26.5 75,-26.5 75,-3.5 57,-3.5\"/>\n",
       "<text text-anchor=\"start\" x=\"63\" y=\"-12.5\" font-family=\"Times,serif\" font-size=\"10.00\">1</text>\n",
       "</g>\n",
       "<!-- b0&#45;&gt;b1 -->\n",
       "<g id=\"edge1\" class=\"edge\">\n",
       "<title>b0-&gt;b1</title>\n",
       "<path fill=\"none\" stroke=\"black\" d=\"M46,-127.7C46,-115.11 46,-100.92 46,-87.66\"/>\n",
       "<polygon fill=\"black\" stroke=\"black\" points=\"49.5,-87.28 46,-77.28 42.5,-87.28 49.5,-87.28\"/>\n",
       "<text text-anchor=\"middle\" x=\"49.5\" y=\"-98.8\" font-family=\"Times,serif\" font-size=\"14.00\">5</text>\n",
       "</g>\n",
       "</g>\n",
       "</svg>"
      ],
      "text/plain": [
       "<IPython.core.display.SVG object>"
      ]
     },
     "metadata": {},
     "output_type": "display_data"
    }
   ],
   "source": [
    "from qualtran.drawing import show_call_graph, show_counts_sigma\n",
    "from qualtran.bloqs.mcmt import MultiAnd, And\n",
    "\n",
    "bloq = MultiAnd(cvs=(1,)*6)\n",
    "show_call_graph(bloq)"
   ]
  },
  {
   "cell_type": "markdown",
   "id": "ae6d16de",
   "metadata": {},
   "source": [
    "## Interface\n",
    "\n",
    "The primary method for accessing the call graph of a bloq is `Bloq.call_graph()`. It returns a networkx graph as well as an accounting of total bloq counts for \"leaf\" bloqs. "
   ]
  },
  {
   "cell_type": "code",
   "execution_count": 2,
   "id": "d95b9366-cdd2-4c79-be40-10944720b586",
   "metadata": {},
   "outputs": [
    {
     "name": "stdout",
     "output_type": "stream",
     "text": [
      "DiGraph with 2 nodes and 1 edges\n"
     ]
    }
   ],
   "source": [
    "graph, sigma = bloq.call_graph()\n",
    "print(graph)"
   ]
  },
  {
   "cell_type": "markdown",
   "id": "4b44715e-2cbe-4076-b91b-22f6f36c8d48",
   "metadata": {},
   "source": [
    "Another method is `Bloq.bloq_counts`, which will return a dictionary of immediate children."
   ]
  },
  {
   "cell_type": "code",
   "execution_count": 3,
   "id": "22557f46",
   "metadata": {},
   "outputs": [
    {
     "data": {
      "text/plain": [
       "{}"
      ]
     },
     "execution_count": 3,
     "metadata": {},
     "output_type": "execute_result"
    }
   ],
   "source": [
    "And().bloq_counts()"
   ]
  },
  {
   "cell_type": "markdown",
   "id": "2e4aa56b",
   "metadata": {},
   "source": [
    "These methods both take a `generalizer` argument.\n",
    "\n",
    "Often, bloqs have attributes that are important for describing their specific action but don't affect the bloq's resource cost. For example, `Rx(0.12)` and `Rx(0.13)` should probably be considered equal when counting the number of operations. Another example is given below where we group all two-bit `And` operations no matter their control values. \n",
    "\n",
    "The `generalizer` argument is an optional callable that takes specific bloqs to general bloqs. In the next cell, we build a call graph with non-homogenous control values for `MultiAnd` which results in two different nodes for two-bit `And` showing up in the call-graph."
   ]
  },
  {
   "cell_type": "code",
   "execution_count": 4,
   "id": "3c9f2b05",
   "metadata": {},
   "outputs": [
    {
     "data": {
      "image/svg+xml": [
       "<svg xmlns=\"http://www.w3.org/2000/svg\" xmlns:xlink=\"http://www.w3.org/1999/xlink\" width=\"134pt\" height=\"131pt\" viewBox=\"0.00 0.00 134.00 131.00\">\n",
       "<g id=\"graph0\" class=\"graph\" transform=\"scale(1 1) rotate(0) translate(4 127)\">\n",
       "<title>counts</title>\n",
       "<polygon fill=\"white\" stroke=\"transparent\" points=\"-4,4 -4,-127 130,-127 130,4 -4,4\"/>\n",
       "<!-- b0 -->\n",
       "<g id=\"node1\" class=\"node\">\n",
       "<title>b0</title>\n",
       "<polygon fill=\"none\" stroke=\"black\" points=\"25,-93 25,-116 101,-116 101,-93 25,-93\"/>\n",
       "<text text-anchor=\"start\" x=\"31\" y=\"-102\" font-family=\"Times,serif\" font-size=\"10.00\">MultiAnd(n=6)</text>\n",
       "</g>\n",
       "<!-- b1 -->\n",
       "<g id=\"node2\" class=\"node\">\n",
       "<title>b1</title>\n",
       "<polygon fill=\"none\" stroke=\"black\" points=\"11,-6 11,-29 43,-29 43,-6 11,-6\"/>\n",
       "<text text-anchor=\"start\" x=\"17.5\" y=\"-15\" font-family=\"Times,serif\" font-size=\"10.00\">And</text>\n",
       "</g>\n",
       "<!-- b0&#45;&gt;b1 -->\n",
       "<g id=\"edge1\" class=\"edge\">\n",
       "<title>b0-&gt;b1</title>\n",
       "<path fill=\"none\" stroke=\"black\" d=\"M55.71,-86.8C50.69,-74.93 43.91,-58.93 38.2,-45.45\"/>\n",
       "<polygon fill=\"black\" stroke=\"black\" points=\"41.4,-44.02 34.27,-36.18 34.95,-46.75 41.4,-44.02\"/>\n",
       "<text text-anchor=\"middle\" x=\"51.5\" y=\"-57.8\" font-family=\"Times,serif\" font-size=\"14.00\">5</text>\n",
       "</g>\n",
       "<!-- b2 -->\n",
       "<g id=\"node3\" class=\"node\">\n",
       "<title>b2</title>\n",
       "<polygon fill=\"none\" stroke=\"black\" points=\"89,-6 89,-29 109,-29 109,-6 89,-6\"/>\n",
       "<text text-anchor=\"start\" x=\"95\" y=\"-15\" font-family=\"Times,serif\" font-size=\"10.00\">X</text>\n",
       "</g>\n",
       "<!-- b0&#45;&gt;b2 -->\n",
       "<g id=\"edge2\" class=\"edge\">\n",
       "<title>b0-&gt;b2</title>\n",
       "<path fill=\"none\" stroke=\"black\" d=\"M70.29,-86.8C75.31,-74.93 82.09,-58.93 87.8,-45.45\"/>\n",
       "<polygon fill=\"black\" stroke=\"black\" points=\"91.05,-46.75 91.73,-36.18 84.6,-44.02 91.05,-46.75\"/>\n",
       "<text text-anchor=\"middle\" x=\"86.5\" y=\"-57.8\" font-family=\"Times,serif\" font-size=\"14.00\">6</text>\n",
       "</g>\n",
       "</g>\n",
       "</svg>"
      ],
      "text/plain": [
       "<IPython.core.display.SVG object>"
      ]
     },
     "metadata": {},
     "output_type": "display_data"
    },
    {
     "data": {
      "text/markdown": [
       "#### Counts totals:\n",
       " - `And`: 5\n",
       " - `X`: 6"
      ],
      "text/plain": [
       "<IPython.core.display.Markdown object>"
      ]
     },
     "metadata": {},
     "output_type": "display_data"
    }
   ],
   "source": [
    "graph, sigma = MultiAnd(cvs=(1,0)*3).call_graph()\n",
    "show_call_graph(graph)\n",
    "show_counts_sigma(sigma)"
   ]
  },
  {
   "cell_type": "markdown",
   "id": "8ae5743b",
   "metadata": {},
   "source": [
    "This level of detail might not be relevant for your particular research. Below, we define a `generalize` function that replaces all control values with placeholder symbol values."
   ]
  },
  {
   "cell_type": "code",
   "execution_count": 5,
   "id": "f5e33995",
   "metadata": {},
   "outputs": [
    {
     "data": {
      "image/svg+xml": [
       "<svg xmlns=\"http://www.w3.org/2000/svg\" xmlns:xlink=\"http://www.w3.org/1999/xlink\" width=\"134pt\" height=\"131pt\" viewBox=\"0.00 0.00 134.00 131.00\">\n",
       "<g id=\"graph0\" class=\"graph\" transform=\"scale(1 1) rotate(0) translate(4 127)\">\n",
       "<title>counts</title>\n",
       "<polygon fill=\"white\" stroke=\"transparent\" points=\"-4,4 -4,-127 130,-127 130,4 -4,4\"/>\n",
       "<!-- b0 -->\n",
       "<g id=\"node1\" class=\"node\">\n",
       "<title>b0</title>\n",
       "<polygon fill=\"none\" stroke=\"black\" points=\"25,-93 25,-116 101,-116 101,-93 25,-93\"/>\n",
       "<text text-anchor=\"start\" x=\"31\" y=\"-102\" font-family=\"Times,serif\" font-size=\"10.00\">MultiAnd(n=6)</text>\n",
       "</g>\n",
       "<!-- b1 -->\n",
       "<g id=\"node2\" class=\"node\">\n",
       "<title>b1</title>\n",
       "<polygon fill=\"none\" stroke=\"black\" points=\"11,-6 11,-29 43,-29 43,-6 11,-6\"/>\n",
       "<text text-anchor=\"start\" x=\"17.5\" y=\"-15\" font-family=\"Times,serif\" font-size=\"10.00\">And</text>\n",
       "</g>\n",
       "<!-- b0&#45;&gt;b1 -->\n",
       "<g id=\"edge1\" class=\"edge\">\n",
       "<title>b0-&gt;b1</title>\n",
       "<path fill=\"none\" stroke=\"black\" d=\"M55.71,-86.8C50.69,-74.93 43.91,-58.93 38.2,-45.45\"/>\n",
       "<polygon fill=\"black\" stroke=\"black\" points=\"41.4,-44.02 34.27,-36.18 34.95,-46.75 41.4,-44.02\"/>\n",
       "<text text-anchor=\"middle\" x=\"51.5\" y=\"-57.8\" font-family=\"Times,serif\" font-size=\"14.00\">5</text>\n",
       "</g>\n",
       "<!-- b2 -->\n",
       "<g id=\"node3\" class=\"node\">\n",
       "<title>b2</title>\n",
       "<polygon fill=\"none\" stroke=\"black\" points=\"89,-6 89,-29 109,-29 109,-6 89,-6\"/>\n",
       "<text text-anchor=\"start\" x=\"95\" y=\"-15\" font-family=\"Times,serif\" font-size=\"10.00\">X</text>\n",
       "</g>\n",
       "<!-- b0&#45;&gt;b2 -->\n",
       "<g id=\"edge2\" class=\"edge\">\n",
       "<title>b0-&gt;b2</title>\n",
       "<path fill=\"none\" stroke=\"black\" d=\"M70.29,-86.8C75.31,-74.93 82.09,-58.93 87.8,-45.45\"/>\n",
       "<polygon fill=\"black\" stroke=\"black\" points=\"91.05,-46.75 91.73,-36.18 84.6,-44.02 91.05,-46.75\"/>\n",
       "<text text-anchor=\"middle\" x=\"86.5\" y=\"-57.8\" font-family=\"Times,serif\" font-size=\"14.00\">6</text>\n",
       "</g>\n",
       "</g>\n",
       "</svg>"
      ],
      "text/plain": [
       "<IPython.core.display.SVG object>"
      ]
     },
     "metadata": {},
     "output_type": "display_data"
    },
    {
     "data": {
      "text/markdown": [
       "#### Counts totals:\n",
       " - `And`: 5\n",
       " - `X`: 6"
      ],
      "text/plain": [
       "<IPython.core.display.Markdown object>"
      ]
     },
     "metadata": {},
     "output_type": "display_data"
    }
   ],
   "source": [
    "from qualtran.resource_counting import SympySymbolAllocator\n",
    "import attrs\n",
    "\n",
    "ssa = SympySymbolAllocator()\n",
    "cv1 = ssa.new_symbol('cv1')\n",
    "cv2 = ssa.new_symbol('cv2')\n",
    "\n",
    "def ignore_cv(bloq):\n",
    "    if isinstance(bloq, And):\n",
    "        return attrs.evolve(bloq, cv1=cv1, cv2=cv2)\n",
    "    \n",
    "    return bloq\n",
    "\n",
    "graph, sigma = MultiAnd(cvs=(1,0)*3).call_graph(generalizer=ignore_cv)\n",
    "show_call_graph(graph)\n",
    "show_counts_sigma(sigma)"
   ]
  },
  {
   "cell_type": "markdown",
   "id": "0f649914",
   "metadata": {},
   "source": [
    "We no longer have a specific clifford count (it has been replaced with `O(1)`), but we have a much simpler graph topology."
   ]
  },
  {
   "cell_type": "markdown",
   "id": "efcaaac7",
   "metadata": {},
   "source": [
    "## Additional functionality"
   ]
  },
  {
   "cell_type": "markdown",
   "id": "3c02f2e1",
   "metadata": {},
   "source": [
    "The `qualtran.resource_counting` module provides the functionality for building and manipulating call graphs."
   ]
  },
  {
   "cell_type": "markdown",
   "id": "d9cc2b96",
   "metadata": {},
   "source": [
    "## Implementation"
   ]
  },
  {
   "cell_type": "markdown",
   "id": "7ea0cb33",
   "metadata": {},
   "source": [
    "The call graph functionality relies on the `Bloq.build_call_graph(...)` method to implement the protocol. This is where a given bloq's callees is actually encoded.\n",
    "\n",
    "Bloq authors may want to override this method. The system will provide a `SympySymbolAllocator` when calling this method to assist with symbolic resource estimates. Below, we sketch out a bloq with custom bloq counts."
   ]
  },
  {
   "cell_type": "code",
   "execution_count": 6,
   "id": "7211add4",
   "metadata": {},
   "outputs": [],
   "source": [
    "from functools import cached_property\n",
    "from typing import Dict, Optional, Set, Union\n",
    "\n",
    "from attrs import frozen\n",
    "\n",
    "from qualtran import Bloq, BloqBuilder, Register, Side, Signature, SoquetT\n",
    "from qualtran.resource_counting import BloqCountT, SympySymbolAllocator\n",
    "\n",
    "import sympy\n",
    "\n",
    "from qualtran.bloqs.basic_gates import CNOT\n",
    "\n",
    "@frozen\n",
    "class MyFunc(Bloq):\n",
    "    n: Union[int, sympy.Expr]\n",
    "\n",
    "    @cached_property\n",
    "    def signature(self) -> 'Signature':\n",
    "        return Signature.build(x=self.n)\n",
    "\n",
    "    def build_call_graph(self, ssa: 'SympySymbolAllocator') -> Set['BloqCountT']:\n",
    "        return {\n",
    "            (And(), 2*self.n),\n",
    "            (CNOT(), 5),\n",
    "        }"
   ]
  },
  {
   "cell_type": "code",
   "execution_count": 7,
   "id": "ef5d73b6",
   "metadata": {},
   "outputs": [
    {
     "data": {
      "image/svg+xml": [
       "<svg xmlns=\"http://www.w3.org/2000/svg\" xmlns:xlink=\"http://www.w3.org/1999/xlink\" width=\"136pt\" height=\"131pt\" viewBox=\"0.00 0.00 136.00 131.00\">\n",
       "<g id=\"graph0\" class=\"graph\" transform=\"scale(1 1) rotate(0) translate(4 127)\">\n",
       "<title>counts</title>\n",
       "<polygon fill=\"white\" stroke=\"transparent\" points=\"-4,4 -4,-127 132,-127 132,4 -4,4\"/>\n",
       "<!-- b0 -->\n",
       "<g id=\"node1\" class=\"node\">\n",
       "<title>b0</title>\n",
       "<polygon fill=\"none\" stroke=\"black\" points=\"40,-93 40,-116 88,-116 88,-93 40,-93\"/>\n",
       "<text text-anchor=\"start\" x=\"46.5\" y=\"-102\" font-family=\"Times,serif\" font-size=\"10.00\">MyFunc</text>\n",
       "</g>\n",
       "<!-- b1 -->\n",
       "<g id=\"node2\" class=\"node\">\n",
       "<title>b1</title>\n",
       "<polygon fill=\"none\" stroke=\"black\" points=\"8,-6 8,-29 48,-29 48,-6 8,-6\"/>\n",
       "<text text-anchor=\"start\" x=\"14\" y=\"-15\" font-family=\"Times,serif\" font-size=\"10.00\">CNOT</text>\n",
       "</g>\n",
       "<!-- b0&#45;&gt;b1 -->\n",
       "<g id=\"edge1\" class=\"edge\">\n",
       "<title>b0-&gt;b1</title>\n",
       "<path fill=\"none\" stroke=\"black\" d=\"M56.71,-86.8C51.69,-74.93 44.91,-58.93 39.2,-45.45\"/>\n",
       "<polygon fill=\"black\" stroke=\"black\" points=\"42.4,-44.02 35.27,-36.18 35.95,-46.75 42.4,-44.02\"/>\n",
       "<text text-anchor=\"middle\" x=\"52.5\" y=\"-57.8\" font-family=\"Times,serif\" font-size=\"14.00\">5</text>\n",
       "</g>\n",
       "<!-- b2 -->\n",
       "<g id=\"node3\" class=\"node\">\n",
       "<title>b2</title>\n",
       "<polygon fill=\"none\" stroke=\"black\" points=\"85,-6 85,-29 117,-29 117,-6 85,-6\"/>\n",
       "<text text-anchor=\"start\" x=\"91.5\" y=\"-15\" font-family=\"Times,serif\" font-size=\"10.00\">And</text>\n",
       "</g>\n",
       "<!-- b0&#45;&gt;b2 -->\n",
       "<g id=\"edge2\" class=\"edge\">\n",
       "<title>b0-&gt;b2</title>\n",
       "<path fill=\"none\" stroke=\"black\" d=\"M71.49,-86.8C76.65,-74.93 83.62,-58.93 89.49,-45.45\"/>\n",
       "<polygon fill=\"black\" stroke=\"black\" points=\"92.74,-46.74 93.52,-36.18 86.32,-43.95 92.74,-46.74\"/>\n",
       "<text text-anchor=\"middle\" x=\"93.5\" y=\"-57.8\" font-family=\"Times,serif\" font-size=\"14.00\">2⋅n</text>\n",
       "</g>\n",
       "</g>\n",
       "</svg>"
      ],
      "text/plain": [
       "<IPython.core.display.SVG object>"
      ]
     },
     "metadata": {},
     "output_type": "display_data"
    }
   ],
   "source": [
    "myfunc = MyFunc(n=sympy.sympify('n'))\n",
    "graph, sigma = myfunc.call_graph()\n",
    "show_call_graph(graph)"
   ]
  },
  {
   "cell_type": "markdown",
   "id": "df53c923",
   "metadata": {},
   "source": [
    "## Default Fallback\n",
    "\n",
    "If a bloq does not override `build_call_graph(...)`, the default fallback will be used by Qualtran to support the call graph protocol.\n",
    "\n",
    "By default, Qualtran will extract the call graph from the full decomposition. For example, below we author a `SWAP` bloq. We define a decomposition but do not explicitly override `build_call_graph`."
   ]
  },
  {
   "cell_type": "code",
   "execution_count": 8,
   "id": "2621b1eb",
   "metadata": {},
   "outputs": [],
   "source": [
    "@frozen\n",
    "class MySwap(Bloq):\n",
    "\n",
    "    @cached_property\n",
    "    def signature(self) -> 'Signature':\n",
    "        return Signature.build(q0=1, q1=1)\n",
    "    \n",
    "    def build_composite_bloq(self, bb, q0, q1):\n",
    "        q0, q1 = bb.add(CNOT(), ctrl=q0, target=q1)\n",
    "        q1, q0 = bb.add(CNOT(), ctrl=q1, target=q0)\n",
    "        q0, q1 = bb.add(CNOT(), ctrl=q0, target=q1)\n",
    "        return {'q0': q0, 'q1': q1}"
   ]
  },
  {
   "cell_type": "markdown",
   "id": "c66f0fd2",
   "metadata": {},
   "source": [
    "The system will simply decompose the bloq and count up the children."
   ]
  },
  {
   "cell_type": "code",
   "execution_count": 9,
   "id": "a6226763",
   "metadata": {},
   "outputs": [
    {
     "data": {
      "image/svg+xml": [
       "<svg xmlns=\"http://www.w3.org/2000/svg\" xmlns:xlink=\"http://www.w3.org/1999/xlink\" width=\"74pt\" height=\"131pt\" viewBox=\"0.00 0.00 74.00 131.00\">\n",
       "<g id=\"graph0\" class=\"graph\" transform=\"scale(1 1) rotate(0) translate(4 127)\">\n",
       "<title>counts</title>\n",
       "<polygon fill=\"white\" stroke=\"transparent\" points=\"-4,4 -4,-127 70,-127 70,4 -4,4\"/>\n",
       "<!-- b0 -->\n",
       "<g id=\"node1\" class=\"node\">\n",
       "<title>b0</title>\n",
       "<polygon fill=\"none\" stroke=\"black\" points=\"8,-93 8,-116 58,-116 58,-93 8,-93\"/>\n",
       "<text text-anchor=\"start\" x=\"14.5\" y=\"-102\" font-family=\"Times,serif\" font-size=\"10.00\">MySwap</text>\n",
       "</g>\n",
       "<!-- b1 -->\n",
       "<g id=\"node2\" class=\"node\">\n",
       "<title>b1</title>\n",
       "<polygon fill=\"none\" stroke=\"black\" points=\"13,-6 13,-29 53,-29 53,-6 13,-6\"/>\n",
       "<text text-anchor=\"start\" x=\"19\" y=\"-15\" font-family=\"Times,serif\" font-size=\"10.00\">CNOT</text>\n",
       "</g>\n",
       "<!-- b0&#45;&gt;b1 -->\n",
       "<g id=\"edge1\" class=\"edge\">\n",
       "<title>b0-&gt;b1</title>\n",
       "<path fill=\"none\" stroke=\"black\" d=\"M33,-86.8C33,-75.16 33,-59.55 33,-46.24\"/>\n",
       "<polygon fill=\"black\" stroke=\"black\" points=\"36.5,-46.18 33,-36.18 29.5,-46.18 36.5,-46.18\"/>\n",
       "<text text-anchor=\"middle\" x=\"36.5\" y=\"-57.8\" font-family=\"Times,serif\" font-size=\"14.00\">3</text>\n",
       "</g>\n",
       "</g>\n",
       "</svg>"
      ],
      "text/plain": [
       "<IPython.core.display.SVG object>"
      ]
     },
     "metadata": {},
     "output_type": "display_data"
    },
    {
     "data": {
      "text/markdown": [
       "#### Counts totals:\n",
       " - `CNOT`: 3"
      ],
      "text/plain": [
       "<IPython.core.display.Markdown object>"
      ]
     },
     "metadata": {},
     "output_type": "display_data"
    }
   ],
   "source": [
    "graph, sigma = MySwap().call_graph()\n",
    "show_call_graph(graph)\n",
    "show_counts_sigma(sigma)"
   ]
  },
  {
   "cell_type": "markdown",
   "id": "250474d1",
   "metadata": {},
   "source": [
    "## Testing\n",
    "\n",
    "`qlt_testing.check_equivalent_bloq_example_counts` is used to automatically compare manually-annotated counts against those derived from the bloq's decomposition. If they match, the check returns `PASS`. If there is only one source of bloq counts, the check returns `UNVERIFIED`. If there are no bloq counts (either via annotation or decomposition), the check returns `MISSING`. If the bloq counts do not match, the check returns `FAIL` with more information about the mismatch. \n",
    "\n",
    "`BloqExample`s have an optional `generalizer` attribute that this check will use during the comparison."
   ]
  },
  {
   "cell_type": "code",
   "execution_count": 10,
   "id": "6c88072d",
   "metadata": {},
   "outputs": [
    {
     "data": {
      "text/plain": [
       "(<BloqCheckResult.PASS: 0>, '')"
      ]
     },
     "execution_count": 10,
     "metadata": {},
     "output_type": "execute_result"
    }
   ],
   "source": [
    "import qualtran.testing as qlt_testing\n",
    "from qualtran.bloqs.mcmt.and_bloq import _multi_and as MULTI_AND_BLOQ_EXAMPLE\n",
    "\n",
    "qlt_testing.check_equivalent_bloq_example_counts(MULTI_AND_BLOQ_EXAMPLE)"
   ]
  }
 ],
 "metadata": {
  "kernelspec": {
   "display_name": "Python 3 (ipykernel)",
   "language": "python",
   "name": "python3"
  },
  "language_info": {
   "codemirror_mode": {
    "name": "ipython",
    "version": 3
   },
   "file_extension": ".py",
   "mimetype": "text/x-python",
   "name": "python",
   "nbconvert_exporter": "python",
   "pygments_lexer": "ipython3",
   "version": "3.11.8"
  }
 },
 "nbformat": 4,
 "nbformat_minor": 5
}
