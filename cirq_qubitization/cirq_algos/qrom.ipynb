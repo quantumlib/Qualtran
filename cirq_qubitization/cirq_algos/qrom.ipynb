{
 "cells": [
  {
   "attachments": {},
   "cell_type": "markdown",
   "id": "ffe91e97",
   "metadata": {
    "cq.autogen": "title_cell"
   },
   "source": [
    "# QROM"
   ]
  },
  {
   "cell_type": "code",
   "execution_count": null,
   "id": "2737c79f",
   "metadata": {
    "cq.autogen": "top_imports"
   },
   "outputs": [],
   "source": [
    "import cirq\n",
    "import numpy as np\n",
    "import cirq_qubitization\n",
    "import cirq_qubitization.cirq_infra.testing as cq_testing\n",
    "from cirq_qubitization.jupyter_tools import display_gate_and_compilation, show_bloq\n",
    "from typing import *"
   ]
  },
  {
   "attachments": {},
   "cell_type": "markdown",
   "id": "5d6a18ce",
   "metadata": {
    "cq.autogen": "_make_QROM.md"
   },
   "source": [
    "## `QROM`\n",
    "Gate to load data[l] in the target register when the selection stores an index l.\n",
    "\n",
    "In the case of multi-dimensional data[p,q,r,...] we use of multple name\n",
    "selection registers [p, q, r, ...] to index and load the data.\n",
    "\n",
    "#### Parameters\n",
    " - `data`: List of numpy ndarrays specifying the data to load. If the length of this list is greater than one then we use the same selection indices to load each dataset (for example, to load alt and keep data for state preparation). Each data set is required to have the same shape and to be of integer type.\n",
    " - `selection_bitsizes`: The number of bits used to represent each selection register corresponding to the size of each dimension of the array. Should be the same length as the shape of each of the datasets.\n",
    " - `target_bitsizes`: The number of bits used to represent the data registers. This can be deduced from the maximum element of each of the datasets. Should be of length len(data), i.e. the number of datasets.\n",
    " - `num_controls`: The number of control registers.\n"
   ]
  },
  {
   "cell_type": "code",
   "execution_count": null,
   "id": "7a91a2db",
   "metadata": {
    "cq.autogen": "_make_QROM.py"
   },
   "outputs": [],
   "source": [
    "from cirq_qubitization.cirq_algos import QROM\n",
    "\n",
    "g = cq_testing.GateHelper(\n",
    "    QROM([np.array([1, 2, 3, 4, 5])], selection_bitsizes=(3,), target_bitsizes=(3,))\n",
    ")\n",
    "\n",
    "display_gate_and_compilation(g)"
   ]
  }
 ],
 "metadata": {
  "kernelspec": {
   "display_name": "Python 3 (ipykernel)",
   "language": "python",
   "name": "python3"
  },
  "language_info": {
   "codemirror_mode": {
    "name": "ipython",
    "version": 3
   },
   "file_extension": ".py",
   "mimetype": "text/x-python",
   "name": "python",
   "nbconvert_exporter": "python",
   "pygments_lexer": "ipython3",
   "version": "3.10.9"
  }
 },
 "nbformat": 4,
 "nbformat_minor": 5
}
