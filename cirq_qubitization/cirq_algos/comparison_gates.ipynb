{
 "cells": [
  {
   "attachments": {},
   "cell_type": "markdown",
   "metadata": {
    "id": "cXYDgQH3jnNQ"
   },
   "source": [
    "# T Complexity Comparison Gates\n",
    "\n",
    "<p style=\"text-align: center;\"><a href=\"mailto:noureldinyosri@gmail.com\">Noureldin Yosri</a></p>\n",
    "<p style=\"text-align: center;\">May 2023</p>"
   ]
  },
  {
   "attachments": {},
   "cell_type": "markdown",
   "metadata": {
    "id": "FS_qGUVPouBf"
   },
   "source": [
    "## Abstract\n",
    "Quantum comparison gates can be split into two categories: quantum-classical when comparing a quantum number to a classical number and quantum-quantum when comparing two quantum numbers.\n",
    "\n",
    "Comparison gates are important building block for quantum algorithms, yet they are always relegated to the appendicies usually with figures showing how they work on a small number of qubits. This leads to cases where researchers potentially waste time reinvents on already existing methods.\n",
    "\n",
    "The intention of this notebook is to serve as documentary of the current state of the art for comparison gates while expalining how they work both algorithmically and programmatically.\n",
    "\n",
    "**note:** Most of the ideas explained here are built into [cirq-ft](https://github.com/quantumlib/Cirq/tree/master/cirq-ft). [Cirq](https://github.com/quantumlib/Cirq/)'s fault tolerant sublibrary."
   ]
  },
  {
   "attachments": {},
   "cell_type": "markdown",
   "metadata": {
    "id": "_-GG5ry9o6RI"
   },
   "source": [
    "## Introduction\n",
    "The current optimal implementation of a reversible oracle for comparing two quantum numbers of $n$ qubits each is $8n + \\mathcal{O}(1)$ and is given in the supplementary materials of [Berry et al., 2018](https://doi.org/10.1038/s41534-018-0071-5). Their implementation uses divide and conquer technique to create a binary tree of depth $\\log_2{(n)}$ whose leafs are the qubits of the numbers with intermediate values stored in $\\mathcal{O}(n)$ ancillas. Each non leaf node uses two CSWAP operations and the value of the comparison is computed from the root node using one Toffoli. \n",
    "\n",
    "When this decomposition is applied to the case where one input is a list of qubits and the the other is a classical number (i.e. a string of bits) this decomposition gives a $6n + \\mathcal{O}(1)$ T complexity since at the level right above the leafs half of the CSWAP operations collapse to either identity or SWAP, thus the number of CSWAPs becomes $\\approx \\frac{n}{2} + 2 \\times \\frac{n}{2} = \\frac{3n}{2}$, leadining to $4 \\times \\frac{3n}{2} = 6n$ T operations.\n",
    "\n",
    "However this is not the optimal way -in terms of T count- to compare a quantum number to a classical number which is $4n + \\mathcal{O}(1)$ T operations. The way to do can be found in appendix H of [Berry et al., 2019](\n",
    "https://doi.org/10.48550/arXiv.1902.02134) and is based on reducing the problem to subtraction. The reduction in T count comes at the cost of linear depth as opposed to the logarithmic depth from the $6n$ decomposition.\n",
    "\n",
    "In what follows I explain the T optimal ways for comparison in different cases."
   ]
  },
  {
   "attachments": {},
   "cell_type": "markdown",
   "metadata": {
    "id": "JxeFr2ClqHn9"
   },
   "source": [
    "## Equality as a special case\n",
    "Before we proceed to the comparison oracle we take a look at the equality oracle actually as a special case with a T complexity of only $4n + \\mathcal{O}(1)$, as it can be implemented as a qubit-wise And operation. This qubit wise And operation itself can be done using only $4n + \\mathcal{O}(1)$ as per [Babbush et al., 2018](https://doi.org/10.1103%2Fphysrevx.8.041015) and [Craig Gidney](https://algassert.com/post/1903).\n",
    "\n",
    "### Quantum-Classical Case\n",
    "In the quantum classical case all we need to do is to compute qubit/bit wise equality\n",
    "$$(q_0 = b_0) \\wedge \\cdots \\wedge (q_{n-1} = b_{n-1})$$\n",
    "\n",
    "In `cirq-ft` this is can be accomplished using the `And` gate as `And(cv=bits)` where `bits` are the bits of the classical number.\n",
    "\n",
    "### Quantum-Quantum Case\n",
    "In the quantum-quantum case the equality is still bitwise $$(q_0 = p_0) \\wedge \\cdots \\wedge (q_{n-1} = p_{n-1})$$\n",
    "\n",
    "This is the same as the and $$(q_0 \\oplus p_0 = 0) \\wedge \\cdots \\wedge (q_{n-1}\\oplus p_{n-1} = 0)$$\n",
    "\n",
    "Where $\\oplus$ is the binary xor operation. This allows us to use `cirq_ft`'s `And` on the result of the xor."
   ]
  },
  {
   "cell_type": "code",
   "execution_count": 1,
   "metadata": {},
   "outputs": [],
   "source": [
    "from typing import Sequence\n",
    "\n",
    "try:\n",
    "    import cirq\n",
    "    import cirq_ft\n",
    "except:\n",
    "    !pip install --pre cirq\n",
    "    !pip install --pre cirq-ft\n",
    "    import cirq\n",
    "    import cirq_ft"
   ]
  },
  {
   "cell_type": "code",
   "execution_count": 2,
   "metadata": {
    "id": "AAKDUijqrmEG"
   },
   "outputs": [],
   "source": [
    "def equality_oracle_quantum_classical(B: int, A: Sequence[cirq.Qid], z: cirq.Qid) -> cirq.OP_TREE:\n",
    "    # Returns a decomposition of the oracle O_B |A>z> = |A>|z^(A == B)> in only 4n T operations.\n",
    "    bits = list(reversed([(B >> i) & 1 for i in range(len(A))]))\n",
    "\n",
    "    ancilla = cirq.NamedQubit.range(len(bits) - 1, prefix='ancilla')\n",
    "    yield cirq_ft.And(cv=bits).on(\n",
    "        *A, *ancilla\n",
    "    )  # `ancilla[-1]` now has the result of equality. uses 4n T operations.\n",
    "\n",
    "    yield cirq.CNOT(ancilla[-1], z)  # update result qubit.\n",
    "\n",
    "    yield cirq_ft.And(cv=bits, adjoint=True).on(\n",
    "        *A, *ancilla\n",
    "    )  # Restore the qubits to their original states."
   ]
  },
  {
   "attachments": {},
   "cell_type": "markdown",
   "metadata": {},
   "source": [
    "As an example we construct the equality gate for checking if a 3 registers are equal to 5. First we print the decomposition of the gate followed by the result of running the gate on each of 8 possiblities individually and finally the result of running the gate on the uniform superposition of all 8 possibilities."
   ]
  },
  {
   "cell_type": "code",
   "execution_count": 3,
   "metadata": {},
   "outputs": [
    {
     "data": {
      "text/html": [
       "<pre style=\"overflow: auto; white-space: pre;\">ancilla0: ───Anc───────Anc────\n",
       "             │         │\n",
       "ancilla1: ───And───@───And†───\n",
       "             │     │   │\n",
       "qn0: ────────@─────┼───@──────\n",
       "             │     │   │\n",
       "qn1: ────────(0)───┼───(0)────\n",
       "             │     │   │\n",
       "qn2: ────────@─────┼───@──────\n",
       "                   │\n",
       "z: ────────────────X──────────</pre>"
      ],
      "text/plain": [
       "ancilla0: ───Anc───────Anc────\n",
       "             │         │\n",
       "ancilla1: ───And───@───And†───\n",
       "             │     │   │\n",
       "qn0: ────────@─────┼───@──────\n",
       "             │     │   │\n",
       "qn1: ────────(0)───┼───(0)────\n",
       "             │     │   │\n",
       "qn2: ────────@─────┼───@──────\n",
       "                   │\n",
       "z: ────────────────X──────────"
      ]
     },
     "execution_count": 3,
     "metadata": {},
     "output_type": "execute_result"
    }
   ],
   "source": [
    "classical_number = 5  # Classical Number to compare with.\n",
    "quantum_number = cirq.NamedQubit.range(3, prefix='qn')  # The qubit that will hold quantum numbers.\n",
    "z = cirq.NamedQubit('z')  # The qubit that will hold comparison result.\n",
    "equality_circuit = cirq.Circuit(equality_oracle_quantum_classical(classical_number, quantum_number, z))\n",
    "equality_circuit"
   ]
  },
  {
   "cell_type": "code",
   "execution_count": 18,
   "metadata": {},
   "outputs": [
    {
     "name": "stdout",
     "output_type": "stream",
     "text": [
      "final state vector of 0 compared to 5 |000|00|0⟩\n",
      "final state vector of 1 compared to 5 |001|00|0⟩\n",
      "final state vector of 2 compared to 5 |010|00|0⟩\n",
      "final state vector of 3 compared to 5 |011|00|0⟩\n",
      "final state vector of 4 compared to 5 |100|00|0⟩\n",
      "final state vector of 5 compared to 5 |101|00|1⟩\n",
      "final state vector of 6 compared to 5 |110|00|0⟩\n",
      "final state vector of 7 compared to 5 |111|00|0⟩\n"
     ]
    }
   ],
   "source": [
    "def format_dirac(s: str, n: int, quantum_classical: bool = False) -> str:\n",
    "    \"\"\"Reformats a dirac vector on as |input qubits|ancilla qubits|result qubit>\"\"\"\n",
    "    if quantum_classical:\n",
    "        return s[: n + 1] + '|' + s[n + 1 : -2] + '|' + s[-2:]\n",
    "    return s[: n + 1] + '|' + s[n + 1 : 2*n+1] + '|' + s[2*n+1:-2] + '|' + s[-2:]\n",
    "\n",
    "def check_each_possibility(c, quantum_classical: bool = True):\n",
    "    sim = cirq.Simulator()\n",
    "    if quantum_classical:\n",
    "        data_qubits = quantum_number\n",
    "        n_qubits = len(quantum_number)\n",
    "    else:\n",
    "        data_qubits = first_quantum_number + second_quantum_number\n",
    "        n_qubits = len(first_quantum_number)\n",
    "    qubit_order = list(data_qubits)\n",
    "    qubit_order += [q for q in c.all_qubits() if q not in qubit_order + [z]]\n",
    "    qubit_order += [z]\n",
    "    for v in range(1 << len(data_qubits)):\n",
    "        bits = [(v >> i) & 1 for i in range(len(data_qubits) - 1, -1, -1)]\n",
    "        bits += (len(qubit_order) - len(data_qubits)) * [0]\n",
    "        result = sim.simulate(c, qubit_order=qubit_order, initial_state=bits)\n",
    "        print(\n",
    "            f'final state vector of {v} compared to {classical_number}',\n",
    "            format_dirac(result.dirac_notation(), n_qubits, quantum_classical),\n",
    "        )\n",
    "\n",
    "\n",
    "check_each_possibility(equality_circuit)"
   ]
  },
  {
   "attachments": {},
   "cell_type": "markdown",
   "metadata": {},
   "source": [
    "As this is a quantum circuit, it's important to check that it works with superpositions as well. This is why we will check the uniform superposition."
   ]
  },
  {
   "cell_type": "code",
   "execution_count": 26,
   "metadata": {},
   "outputs": [
    {
     "name": "stdout",
     "output_type": "stream",
     "text": [
      "Acting on the uniform superposition of all states we get:\n",
      "\t 0.35|000|00|0⟩ + 0.35|001|00|0⟩ + 0.35|010|00|0⟩ + 0.35|011|00|0⟩ + 0.35|100|00|0⟩ + 0.35|101|00|1⟩ + 0.35|110|00|0⟩ + 0.35|111|00|0⟩\n"
     ]
    }
   ],
   "source": [
    "def check_uniform_superposition(c, quantum_classical: bool = True):\n",
    "    if quantum_classical:\n",
    "        data_qubits = quantum_number\n",
    "        n_qubits = len(quantum_number)\n",
    "    else:\n",
    "        data_qubits = first_quantum_number + second_quantum_number\n",
    "        n_qubits = len(first_quantum_number)\n",
    "    c = cirq.Circuit(cirq.H.on_each(data_qubits) + [c])\n",
    "    sim = cirq.Simulator()\n",
    "    qubit_order = list(data_qubits)\n",
    "    qubit_order += [q for q in c.all_qubits() if q not in qubit_order + [z]]\n",
    "    qubit_order += [z]\n",
    "    result = sim.simulate(c, qubit_order=qubit_order)\n",
    "    result = result.dirac_notation()\n",
    "    final = []\n",
    "    for s in result.split('|'):\n",
    "        if '⟩' not in s:\n",
    "            final.append(s)\n",
    "            continue\n",
    "        parts = s.split('⟩')\n",
    "        parts[0] = format_dirac('|' + parts[0] + '⟩', n_qubits, quantum_classical)\n",
    "        final.append(''.join(parts))\n",
    "    print('Acting on the uniform superposition of all states we get:')\n",
    "    print('\\t', ''.join(final))\n",
    "\n",
    "\n",
    "check_uniform_superposition(equality_circuit)"
   ]
  },
  {
   "attachments": {},
   "cell_type": "markdown",
   "metadata": {},
   "source": [
    "And for the quantum-quantum case we have."
   ]
  },
  {
   "cell_type": "code",
   "execution_count": 14,
   "metadata": {},
   "outputs": [],
   "source": [
    "def equality_oracle_quantum_quantum(A: Sequence[cirq.Qid], B: Sequence[cirq.Qid], z: cirq.Qid) -> cirq.OP_TREE:\n",
    "    # Returns a decomposition of the oracle O |A>|B>|z> = |A>|B>|z^(A == B)> in only 4n T operations.\n",
    "\n",
    "    ancilla = cirq.NamedQubit.range(len(A) - 1, prefix='ancilla')\n",
    "    yield cirq.CNOT.on_each(zip(A, B))  # Store the bitwise xor in B.\n",
    "    yield cirq_ft.And(cv=(0,)*len(B)).on(\n",
    "        *B, *ancilla\n",
    "    )  # `ancilla[-1]` now has the result of equality. uses 4n T operations.\n",
    "\n",
    "    yield cirq.CNOT(ancilla[-1], z)  # update result qubit.\n",
    "\n",
    "    yield cirq_ft.And(cv=(0,)*len(B), adjoint=True).on(\n",
    "        *B, *ancilla\n",
    "    )  # Reverse the And operation.\n",
    "\n",
    "    yield cirq.CNOT.on_each(zip(A, B))  # Restore the qubits to their original states.\n"
   ]
  },
  {
   "attachments": {},
   "cell_type": "markdown",
   "metadata": {},
   "source": [
    "As we did before we construct the gate to compare two 2-qubit numbers. First we print the decomposition of the gate followed by the result of running the gate on each of 16 possiblities individually and finally the result of running the gate on the uniform superposition of all 16 possibilities."
   ]
  },
  {
   "cell_type": "code",
   "execution_count": 19,
   "metadata": {},
   "outputs": [
    {
     "data": {
      "text/html": [
       "<pre style=\"overflow: auto; white-space: pre;\">             ┌──┐                    ┌──┐\n",
       "P0: ──────────@───────────────────────@─────\n",
       "              │                       │\n",
       "P1: ──────────┼@──────────────────────┼@────\n",
       "              ││                      ││\n",
       "Q0: ──────────X┼────(0)───────(0)─────X┼────\n",
       "               │    │         │        │\n",
       "Q1: ───────────X────(0)───────(0)──────X────\n",
       "                    │         │\n",
       "ancilla0: ──────────And───@───And†──────────\n",
       "                          │\n",
       "z: ───────────────────────X─────────────────\n",
       "             └──┘                    └──┘</pre>"
      ],
      "text/plain": [
       "             ┌──┐                    ┌──┐\n",
       "P0: ──────────@───────────────────────@─────\n",
       "              │                       │\n",
       "P1: ──────────┼@──────────────────────┼@────\n",
       "              ││                      ││\n",
       "Q0: ──────────X┼────(0)───────(0)─────X┼────\n",
       "               │    │         │        │\n",
       "Q1: ───────────X────(0)───────(0)──────X────\n",
       "                    │         │\n",
       "ancilla0: ──────────And───@───And†──────────\n",
       "                          │\n",
       "z: ───────────────────────X─────────────────\n",
       "             └──┘                    └──┘"
      ]
     },
     "execution_count": 19,
     "metadata": {},
     "output_type": "execute_result"
    }
   ],
   "source": [
    "first_quantum_number = cirq.NamedQubit.range(2, prefix='P')  # The qubit that will hold quantum numbers.\n",
    "second_quantum_number = cirq.NamedQubit.range(2, prefix='Q')  # The qubit that will hold quantum numbers.\n",
    "quantum_quantum_equality = cirq.Circuit(equality_oracle_quantum_quantum(first_quantum_number, second_quantum_number, z))\n",
    "quantum_quantum_equality"
   ]
  },
  {
   "cell_type": "code",
   "execution_count": 23,
   "metadata": {},
   "outputs": [
    {
     "name": "stdout",
     "output_type": "stream",
     "text": [
      "final state vector of 0 compared to 5 |00|00|0|1⟩\n",
      "final state vector of 1 compared to 5 |00|01|0|0⟩\n",
      "final state vector of 2 compared to 5 |00|10|0|0⟩\n",
      "final state vector of 3 compared to 5 |00|11|0|0⟩\n",
      "final state vector of 4 compared to 5 |01|00|0|0⟩\n",
      "final state vector of 5 compared to 5 |01|01|0|1⟩\n",
      "final state vector of 6 compared to 5 |01|10|0|0⟩\n",
      "final state vector of 7 compared to 5 |01|11|0|0⟩\n",
      "final state vector of 8 compared to 5 |10|00|0|0⟩\n",
      "final state vector of 9 compared to 5 |10|01|0|0⟩\n",
      "final state vector of 10 compared to 5 |10|10|0|1⟩\n",
      "final state vector of 11 compared to 5 |10|11|0|0⟩\n",
      "final state vector of 12 compared to 5 |11|00|0|0⟩\n",
      "final state vector of 13 compared to 5 |11|01|0|0⟩\n",
      "final state vector of 14 compared to 5 |11|10|0|0⟩\n",
      "final state vector of 15 compared to 5 |11|11|0|1⟩\n"
     ]
    }
   ],
   "source": [
    "# Now we check individual possiblities.\n",
    "check_each_possibility(quantum_quantum_equality, quantum_classical=False)"
   ]
  },
  {
   "cell_type": "code",
   "execution_count": 27,
   "metadata": {},
   "outputs": [
    {
     "name": "stdout",
     "output_type": "stream",
     "text": [
      "Acting on the uniform superposition of all states we get:\n",
      "\t 0.25|00|00|0|1⟩ + 0.25|00|01|0|0⟩ + 0.25|00|10|0|0⟩ + 0.25|00|11|0|0⟩ + 0.25|01|00|0|0⟩ + 0.25|01|01|0|1⟩ + 0.25|01|10|0|0⟩ + 0.25|01|11|0|0⟩ + 0.25|10|00|0|0⟩ + 0.25|10|01|0|0⟩ + 0.25|10|10|0|1⟩ + 0.25|10|11|0|0⟩ + 0.25|11|00|0|0⟩ + 0.25|11|01|0|0⟩ + 0.25|11|10|0|0⟩ + 0.25|11|11|0|1⟩\n"
     ]
    }
   ],
   "source": [
    "# Finally we check the uniform super position.\n",
    "check_uniform_superposition(quantum_quantum_equality, quantum_classical=False)"
   ]
  },
  {
   "attachments": {},
   "cell_type": "markdown",
   "metadata": {},
   "source": [
    "**Notice that the ancilla qubit are always clean at the end of execution and that the input qubits are not affected**"
   ]
  },
  {
   "attachments": {},
   "cell_type": "markdown",
   "metadata": {
    "id": "q8Zyy7SVtnxo"
   },
   "source": [
    "## The quantum-classical comparator with $4n + \\mathcal{O}(1)$ T gates\n",
    "\n",
    "### Inspiration\n",
    "We will only consider the comparison oracles for less than since the $\\leq$ oracle has one extra clifford operation (a CNOT) and the greater than oracle has exactly 2 extra clifford operations, the same CNOT and an X.\n",
    "\n",
    "While [Berry et al., 2019](https://doi.org/10.48550/arXiv.1902.02134) reduced the problem to subtraction, we take a different path and noting that comparing two numbers of equal size is the same finding which of them is lexicographically smaller, this problem is usually solved sequentially and is essentially a finite state machine of $n + 3$ states each having two transitions. The result is an almost identical decomposition (up to clifford operations) with the same T complexity.\n",
    "\n",
    "More concretely, consider how C/C++ [std::strcmp](https://en.cppreference.com/w/cpp/string/byte/strcmp) compares two sequences $A$ and $B$ of equal length $n$. The function scans the sequences from left to right until it the first index $i^*$ where they differ and returns $A_{i^*} < B_{i^*}$.\n",
    "\n",
    "Implicitly this algorithm has $n + 3$ states $\\{e_0, \\ldots, e_n\\} \\cup \\{L, R\\}$ where being in the $e_k$ state means the prefixes of length $k$ are equal. with transitions being the states governed by:\n",
    "\n",
    "\\begin{equation}\n",
    "\\begin{split}\n",
    "    e_k \\rightarrow e_{k+1} \\textit{ if } u_k = v_k \\\\\n",
    "    e_k \\rightarrow L \\textit{ if } u_k < v_k \\\\\n",
    "    e_k \\rightarrow R \\textit{ if } u_k > v_k \\\\\n",
    "\\end{split}\n",
    "\\end{equation}\n",
    "\n",
    "When the result of comparison between individual indicies becomes probabilistic these states form a Markov decision process with three terminal states $\\{L, e_n, R\\}$. This gives us an inspiration for a new implementation.\n",
    "\n",
    "### Algorithm\n",
    "We start by allocating $n+1$ qubits representing the $e_0, \\ldots, e_n$ states and then scan the qubit register and number from left to right.\n",
    "\n",
    "if the current bit is zero then we only need to compute the $e_k \\rightarrow e_{k+1}$ transition since the qubit can't be less than zero. otherwise we need to compute the transition as well as the $e_k → L$ transition."
   ]
  },
  {
   "cell_type": "code",
   "execution_count": 28,
   "metadata": {
    "id": "XCdnBGwzwqK7"
   },
   "outputs": [],
   "source": [
    "def less_than(B: int, A: Sequence[cirq.Qid], z: cirq.Qid) -> cirq.OP_TREE:\n",
    "    # Returns a decomposition of the oracle O_B |A>z> = |A>|z^(A < B)> in only 4n T operations.\n",
    "    bits = [(B >> i) & 1 for i in range(len(A) - 1, -1, -1)]\n",
    "\n",
    "    adjoint = []\n",
    "\n",
    "    es = cirq.LineQid.range(len(A) + 1, dimension=2)\n",
    "    ek = es.pop(0)\n",
    "\n",
    "    # Initially our belief is that the numbers are equal.\n",
    "    yield cirq.X(ek)\n",
    "    adjoint.append(cirq.X(ek))\n",
    "\n",
    "    for q, b, ekp1 in zip(A, bits, es):\n",
    "        if b:\n",
    "            yield cirq.X(q)\n",
    "            adjoint.append(cirq.X(q))\n",
    "\n",
    "            # Temporarily hold e_k and not q\n",
    "            yield cirq_ft.And().on(q, ek, ekp1)\n",
    "            adjoint.append(cirq_ft.And(adjoint=True).on(q, ek, ekp1))\n",
    "\n",
    "            # e_{k+1} currently has are_equal so far and (q != b)\n",
    "            # which is equivalent to: Is the current prefix of the qubits < the prefix of B and the previous prefix equal?\n",
    "            yield cirq.CNOT(ekp1, z)\n",
    "\n",
    "            yield cirq.CNOT(ek, ekp1)  # Now e_{k+1} has the prefix equality.\n",
    "            adjoint.append(cirq.CNOT(ek, ekp1))\n",
    "        else:\n",
    "            # e_{k+1} = e_k and not q\n",
    "            yield cirq_ft.And(cv=[1, 0]).on(ek, q, ekp1)\n",
    "            adjoint.append(cirq_ft.And(cv=[1, 0], adjoint=True).on(ek, q, ekp1))\n",
    "\n",
    "        ek = ekp1\n",
    "\n",
    "    yield from reversed(adjoint)"
   ]
  },
  {
   "attachments": {},
   "cell_type": "markdown",
   "metadata": {},
   "source": [
    "As we did before we construct the less than gate for checking if a 3 registers are less than 5. First we print the decomposition of the gate followed by the result of running the gate on each of 8 possiblities individually and finally the result of running the gate on the uniform superposition of all 8 possibilities."
   ]
  },
  {
   "cell_type": "code",
   "execution_count": 29,
   "metadata": {},
   "outputs": [
    {
     "data": {
      "text/html": [
       "<pre style=\"overflow: auto; white-space: pre;\">0 (d=2): ───X───@─────────@─────────────────────────────────────────@───@──────X───\n",
       "                │         │                                         │   │\n",
       "1 (d=2): ───────And───@───X───@──────────────────────────────@──────X───And†───────\n",
       "                │     │       │                              │          │\n",
       "2 (d=2): ───────┼─────┼───────And───@─────────@───@───@──────And†───────┼──────────\n",
       "                │     │       │     │         │   │   │      │          │\n",
       "3 (d=2): ───────┼─────┼───────┼─────And───@───X───X───And†───┼──────────┼──────────\n",
       "                │     │       │     │     │           │      │          │\n",
       "qn0: ───────X───@─────┼───────┼─────┼─────┼───────────┼──────┼──────────@──────X───\n",
       "                      │       │     │     │           │      │\n",
       "qn1: ─────────────────┼───────(0)───┼─────┼───────────┼──────(0)───────────────────\n",
       "                      │             │     │           │\n",
       "qn2: ───────X─────────┼─────────────@─────┼───────────@──────X─────────────────────\n",
       "                      │                   │\n",
       "z: ───────────────────X───────────────────X────────────────────────────────────────</pre>"
      ],
      "text/plain": [
       "0 (d=2): ───X───@─────────@─────────────────────────────────────────@───@──────X───\n",
       "                │         │                                         │   │\n",
       "1 (d=2): ───────And───@───X───@──────────────────────────────@──────X───And†───────\n",
       "                │     │       │                              │          │\n",
       "2 (d=2): ───────┼─────┼───────And───@─────────@───@───@──────And†───────┼──────────\n",
       "                │     │       │     │         │   │   │      │          │\n",
       "3 (d=2): ───────┼─────┼───────┼─────And───@───X───X───And†───┼──────────┼──────────\n",
       "                │     │       │     │     │           │      │          │\n",
       "qn0: ───────X───@─────┼───────┼─────┼─────┼───────────┼──────┼──────────@──────X───\n",
       "                      │       │     │     │           │      │\n",
       "qn1: ─────────────────┼───────(0)───┼─────┼───────────┼──────(0)───────────────────\n",
       "                      │             │     │           │\n",
       "qn2: ───────X─────────┼─────────────@─────┼───────────@──────X─────────────────────\n",
       "                      │                   │\n",
       "z: ───────────────────X───────────────────X────────────────────────────────────────"
      ]
     },
     "execution_count": 29,
     "metadata": {},
     "output_type": "execute_result"
    }
   ],
   "source": [
    "less_than_circuit = cirq.Circuit(less_than(classical_number, quantum_number, z))\n",
    "less_than_circuit"
   ]
  },
  {
   "cell_type": "code",
   "execution_count": 30,
   "metadata": {},
   "outputs": [
    {
     "name": "stdout",
     "output_type": "stream",
     "text": [
      "final state vector of 0 compared to 5 |000|0000|1⟩\n",
      "final state vector of 1 compared to 5 |001|0000|1⟩\n",
      "final state vector of 2 compared to 5 |010|0000|1⟩\n",
      "final state vector of 3 compared to 5 |011|0000|1⟩\n",
      "final state vector of 4 compared to 5 |100|0000|1⟩\n",
      "final state vector of 5 compared to 5 |101|0000|0⟩\n",
      "final state vector of 6 compared to 5 |110|0000|0⟩\n",
      "final state vector of 7 compared to 5 |111|0000|0⟩\n"
     ]
    }
   ],
   "source": [
    "# Now we check individual possiblities.\n",
    "check_each_possibility(less_than_circuit)"
   ]
  },
  {
   "cell_type": "code",
   "execution_count": 31,
   "metadata": {},
   "outputs": [
    {
     "name": "stdout",
     "output_type": "stream",
     "text": [
      "Acting on the uniform superposition of all states we get:\n",
      "\t 0.35|000|0000|1⟩ + 0.35|001|0000|1⟩ + 0.35|010|0000|1⟩ + 0.35|011|0000|1⟩ + 0.35|100|0000|1⟩ + 0.35|101|0000|0⟩ + 0.35|110|0000|0⟩ + 0.35|111|0000|0⟩\n"
     ]
    }
   ],
   "source": [
    "# Finally we check the uniform super position.\n",
    "check_uniform_superposition(less_than_circuit)"
   ]
  },
  {
   "attachments": {},
   "cell_type": "markdown",
   "metadata": {},
   "source": [
    "**And as before notice that the ancilla qubit are always clean at the end of execution and that the input qubits are not affected**"
   ]
  },
  {
   "attachments": {},
   "cell_type": "markdown",
   "metadata": {
    "id": "qa-90pTK0Spu"
   },
   "source": [
    "## Improving the constant\n",
    "The implementation above has T complexity of exactly $4n$ since there are exactly $n$ And gates each uses $4$ Ts. Note however that the first of them is not actually needed since one of its inputs is in the $|1\\rangle$ state so it collapses to either identity or `cirq.X` depending on the most significant bit of $B$. This gives a T complexity of $4(n-1) = 4n - 4$."
   ]
  },
  {
   "attachments": {},
   "cell_type": "markdown",
   "metadata": {
    "id": "MDysRmBd1LFw"
   },
   "source": [
    "## Drawback\n",
    "This decomposition has the currently optimal T complexity for the quantum-classical case however it has linear depth. We will see later a way that has logarithmic depth but with $6n + \\mathcal{O}(1)$ T complexity."
   ]
  },
  {
   "attachments": {},
   "cell_type": "markdown",
   "metadata": {},
   "source": [
    "## The Quantum-Quantum Comparator $8n + \\mathcal{O}(1)$ T gates\n",
    "\n",
    "For the quantum-classical case we scanned the numbers sequentially from left to right to compute the comparison result, a similar strategy can be use to create a decomposition that has $12n - 8$ T complexity and linear depth. We won't go in depth into that way but refer the reader to  my incomplete [PR](https://github.com/quantumlib/Qualtran/pull/205). Instead we discuss the superior decomposition propsed by [Berry et al., 2018](https://doi.org/10.1038/s41534-018-0071-5) which has $8n + \\mathcal{O}(1)$ T complexiy and logarithmic depth.\n",
    "\n",
    "\n",
    "Before we got into the details of this decomposition we discuss the case when each of the quantum numbers has 2 qubits, in other words:\n",
    "$$\n",
    "P = 2*P_{\\textit{msb}} + P_{\\textit{lsb}}\n",
    "Q = 2*Q_{\\textit{msb}} + Q_{\\textit{lsb}}\n",
    "$$\n",
    "\n",
    "Where msb stands for most significant bit and lsb stand for least significant bit."
   ]
  }
 ],
 "metadata": {
  "colab": {
   "provenance": []
  },
  "kernelspec": {
   "display_name": "Python 3",
   "name": "python3"
  },
  "language_info": {
   "codemirror_mode": {
    "name": "ipython",
    "version": 3
   },
   "file_extension": ".py",
   "mimetype": "text/x-python",
   "name": "python",
   "nbconvert_exporter": "python",
   "pygments_lexer": "ipython3",
   "version": "3.10.12"
  }
 },
 "nbformat": 4,
 "nbformat_minor": 0
}
