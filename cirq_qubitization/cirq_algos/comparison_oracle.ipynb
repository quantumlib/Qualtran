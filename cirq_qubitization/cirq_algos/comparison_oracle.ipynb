{
 "cells": [
  {
   "attachments": {},
   "cell_type": "markdown",
   "metadata": {
    "id": "cXYDgQH3jnNQ"
   },
   "source": [
    "# $4n + \\mathcal{O}(1)$ T Complexity Quantum-Classical Comparison Oracle\n",
    "\n",
    "<p style=\"text-align: center;\"><a href=\"mailto: noureldinyosri@gmail.com\">Noureldin Yosri</a></p>\n",
    "<p style=\"text-align: center;\">May 2023</p>"
   ]
  },
  {
   "attachments": {},
   "cell_type": "markdown",
   "metadata": {
    "id": "FS_qGUVPouBf"
   },
   "source": [
    "## Abstract\n",
    "This short note reports an improved T gate complexity of $4n + \\mathcal{O}(1)$ for the quantum oracle for comparing a quantum number to a classical number.  "
   ]
  },
  {
   "attachments": {},
   "cell_type": "markdown",
   "metadata": {
    "id": "_-GG5ry9o6RI"
   },
   "source": [
    "## Introduction\n",
    "The current optimal implementation of a reversible oracle for comparing two quantum numbers of $n$ qubits each is $8n + \\mathcal{O}(1)$ and is given in the supplementary materials of [Berry et al., 2018](https://doi.org/10.1038/s41534-018-0071-5). Their implementation uses divide and conquer technique to create a binary tree of depth $\\log_2{(n)}$ whose leafs are the qubits of then numbers with intermediate values stored in $\\mathcal{O}(n)$ ancillas. Each non leaf node uses two CSWAP operations and the value of the comparison is computed from the root node using one Toffoli. \n",
    "\n",
    "When this decomposition is applied to the case where one input is a list of qubits and the the other is a classical number (i.e. a string of bits) this decomposition gives a $6n + \\mathcal{O}(1)$ T complexity since at the level right above the leafs half of the CSWAP operations collapse to either identity or SWAP, thus the number of CSWAPs becomes $\\approx \\frac{n}{2} + 2 \\times \\frac{n}{2} = \\frac{3n}{2}$, leadining to $4 \\times \\frac{3n}{2} = 6n$ T operations.\n",
    "\n",
    "In this paper we provide a different implementation with $4n + \\mathcal{O}(1)$ T operations count based on modeling the problem as a finite state machine of $n + 3$ states each having two transitions.\n"
   ]
  },
  {
   "attachments": {},
   "cell_type": "markdown",
   "metadata": {
    "id": "JxeFr2ClqHn9"
   },
   "source": [
    "## Equality as a special case\n",
    "Before we proceed to the comparison oracle we take a look at the equality oracle actually as a special case with a lower T complexity of only $4n + \\mathcal{O}(1)$, as it can be implemented as a qubit-wise And operation. This qubit wise And operation itself can be done using only $4n + \\mathcal{O}(1)$ as per [Babbush et al., 2018](https://doi.org/10.1103%2Fphysrevx.8.041015) and [Craig Gidney](https://algassert.com/post/1903)."
   ]
  },
  {
   "cell_type": "code",
   "execution_count": 1,
   "metadata": {},
   "outputs": [
    {
     "ename": "AttributeError",
     "evalue": "module 'cirq' has no attribute 'DecompositionContext'",
     "output_type": "error",
     "traceback": [
      "\u001b[0;31m---------------------------------------------------------------------------\u001b[0m",
      "\u001b[0;31mAttributeError\u001b[0m                            Traceback (most recent call last)",
      "Cell \u001b[0;32mIn[1], line 3\u001b[0m\n\u001b[1;32m      1\u001b[0m \u001b[39mfrom\u001b[39;00m \u001b[39mtyping\u001b[39;00m \u001b[39mimport\u001b[39;00m Sequence\n\u001b[1;32m      2\u001b[0m \u001b[39mimport\u001b[39;00m \u001b[39mcirq\u001b[39;00m\n\u001b[0;32m----> 3\u001b[0m \u001b[39mfrom\u001b[39;00m \u001b[39mcirq_qubitization\u001b[39;00m \u001b[39mimport\u001b[39;00m And\n\u001b[1;32m      4\u001b[0m \u001b[39mfrom\u001b[39;00m \u001b[39mcirq_qubitization\u001b[39;00m\u001b[39m.\u001b[39;00m\u001b[39mjupyter_tools\u001b[39;00m \u001b[39mimport\u001b[39;00m check_oracle\n",
      "File \u001b[0;32m~/Desktop/workspace/cirq-qubitization/cirq_qubitization/__init__.py:1\u001b[0m\n\u001b[0;32m----> 1\u001b[0m \u001b[39mfrom\u001b[39;00m \u001b[39mcirq_qubitization\u001b[39;00m\u001b[39m.\u001b[39;00m\u001b[39malt_keep_qrom\u001b[39;00m \u001b[39mimport\u001b[39;00m construct_alt_keep_qrom\n\u001b[1;32m      2\u001b[0m \u001b[39mfrom\u001b[39;00m \u001b[39mcirq_qubitization\u001b[39;00m\u001b[39m.\u001b[39;00m\u001b[39mcirq_algos\u001b[39;00m \u001b[39mimport\u001b[39;00m (\n\u001b[1;32m      3\u001b[0m     AddMod,\n\u001b[1;32m      4\u001b[0m     And,\n\u001b[0;32m   (...)\u001b[0m\n\u001b[1;32m     24\u001b[0m     UnaryIterationGate,\n\u001b[1;32m     25\u001b[0m )\n\u001b[1;32m     26\u001b[0m \u001b[39mfrom\u001b[39;00m \u001b[39mcirq_qubitization\u001b[39;00m\u001b[39m.\u001b[39;00m\u001b[39mcirq_infra\u001b[39;00m \u001b[39mimport\u001b[39;00m (\n\u001b[1;32m     27\u001b[0m     GateWithRegisters,\n\u001b[1;32m     28\u001b[0m     GreedyQubitManager,\n\u001b[0;32m   (...)\u001b[0m\n\u001b[1;32m     32\u001b[0m     SelectionRegisters,\n\u001b[1;32m     33\u001b[0m )\n",
      "File \u001b[0;32m~/Desktop/workspace/cirq-qubitization/cirq_qubitization/alt_keep_qrom.py:9\u001b[0m\n\u001b[1;32m      6\u001b[0m \u001b[39mimport\u001b[39;00m \u001b[39mnumpy\u001b[39;00m \u001b[39mas\u001b[39;00m \u001b[39mnp\u001b[39;00m\n\u001b[1;32m      7\u001b[0m \u001b[39mfrom\u001b[39;00m \u001b[39mopenfermion\u001b[39;00m\u001b[39m.\u001b[39;00m\u001b[39mcircuits\u001b[39;00m\u001b[39m.\u001b[39;00m\u001b[39mlcu_util\u001b[39;00m \u001b[39mimport\u001b[39;00m preprocess_lcu_coefficients_for_reversible_sampling\n\u001b[0;32m----> 9\u001b[0m \u001b[39mfrom\u001b[39;00m \u001b[39mcirq_qubitization\u001b[39;00m\u001b[39m.\u001b[39;00m\u001b[39mcirq_algos\u001b[39;00m\u001b[39m.\u001b[39;00m\u001b[39mqrom\u001b[39;00m \u001b[39mimport\u001b[39;00m QROM\n\u001b[1;32m     12\u001b[0m \u001b[39mdef\u001b[39;00m \u001b[39mconstruct_alt_keep_qrom\u001b[39m(lcu_coefficients: List[\u001b[39mfloat\u001b[39m], probability_epsilon: \u001b[39mfloat\u001b[39m) \u001b[39m-\u001b[39m\u001b[39m>\u001b[39m QROM:\n\u001b[1;32m     13\u001b[0m \u001b[39m    \u001b[39m\u001b[39m\"\"\"Construct the QROM that outputs alt and keep values in the SUBPREPARE routine\u001b[39;00m\n\u001b[1;32m     14\u001b[0m \n\u001b[1;32m     15\u001b[0m \u001b[39m    Args:\u001b[39;00m\n\u001b[0;32m   (...)\u001b[0m\n\u001b[1;32m     20\u001b[0m \u001b[39m        A QROM instance\u001b[39;00m\n\u001b[1;32m     21\u001b[0m \u001b[39m    \"\"\"\u001b[39;00m\n",
      "File \u001b[0;32m~/Desktop/workspace/cirq-qubitization/cirq_qubitization/cirq_algos/__init__.py:1\u001b[0m\n\u001b[0;32m----> 1\u001b[0m \u001b[39mfrom\u001b[39;00m \u001b[39mcirq_qubitization\u001b[39;00m\u001b[39m.\u001b[39;00m\u001b[39mcirq_algos\u001b[39;00m\u001b[39m.\u001b[39;00m\u001b[39mand_gate\u001b[39;00m \u001b[39mimport\u001b[39;00m And\n\u001b[1;32m      2\u001b[0m \u001b[39mfrom\u001b[39;00m \u001b[39mcirq_qubitization\u001b[39;00m\u001b[39m.\u001b[39;00m\u001b[39mcirq_algos\u001b[39;00m\u001b[39m.\u001b[39;00m\u001b[39mapply_gate_to_lth_target\u001b[39;00m \u001b[39mimport\u001b[39;00m ApplyGateToLthQubit\n\u001b[1;32m      3\u001b[0m \u001b[39mfrom\u001b[39;00m \u001b[39mcirq_qubitization\u001b[39;00m\u001b[39m.\u001b[39;00m\u001b[39mcirq_algos\u001b[39;00m\u001b[39m.\u001b[39;00m\u001b[39marithmetic_gates\u001b[39;00m \u001b[39mimport\u001b[39;00m (\n\u001b[1;32m      4\u001b[0m     AddMod,\n\u001b[1;32m      5\u001b[0m     ContiguousRegisterGate,\n\u001b[1;32m      6\u001b[0m     LessThanEqualGate,\n\u001b[1;32m      7\u001b[0m     LessThanGate,\n\u001b[1;32m      8\u001b[0m )\n",
      "File \u001b[0;32m~/Desktop/workspace/cirq-qubitization/cirq_qubitization/cirq_algos/and_gate.py:6\u001b[0m\n\u001b[1;32m      2\u001b[0m \u001b[39mfrom\u001b[39;00m \u001b[39mtyping\u001b[39;00m \u001b[39mimport\u001b[39;00m Any, Sequence\n\u001b[1;32m      4\u001b[0m \u001b[39mimport\u001b[39;00m \u001b[39mcirq\u001b[39;00m\n\u001b[0;32m----> 6\u001b[0m \u001b[39mfrom\u001b[39;00m \u001b[39mcirq_qubitization\u001b[39;00m\u001b[39m.\u001b[39;00m\u001b[39mcirq_infra\u001b[39;00m\u001b[39m.\u001b[39;00m\u001b[39mgate_with_registers\u001b[39;00m \u001b[39mimport\u001b[39;00m GateWithRegisters, Registers\n\u001b[1;32m      7\u001b[0m \u001b[39mfrom\u001b[39;00m \u001b[39mcirq_qubitization\u001b[39;00m\u001b[39m.\u001b[39;00m\u001b[39mt_complexity_protocol\u001b[39;00m \u001b[39mimport\u001b[39;00m TComplexity\n\u001b[1;32m     10\u001b[0m \u001b[39m@cirq\u001b[39m\u001b[39m.\u001b[39mvalue_equality\n\u001b[1;32m     11\u001b[0m \u001b[39mclass\u001b[39;00m \u001b[39mAnd\u001b[39;00m(GateWithRegisters):\n",
      "File \u001b[0;32m~/Desktop/workspace/cirq-qubitization/cirq_qubitization/cirq_infra/__init__.py:1\u001b[0m\n\u001b[0;32m----> 1\u001b[0m \u001b[39mfrom\u001b[39;00m \u001b[39mcirq_qubitization\u001b[39;00m\u001b[39m.\u001b[39;00m\u001b[39mcirq_infra\u001b[39;00m\u001b[39m.\u001b[39;00m\u001b[39mgate_with_registers\u001b[39;00m \u001b[39mimport\u001b[39;00m (\n\u001b[1;32m      2\u001b[0m     GateWithRegisters,\n\u001b[1;32m      3\u001b[0m     Register,\n\u001b[1;32m      4\u001b[0m     Registers,\n\u001b[1;32m      5\u001b[0m     SelectionRegisters,\n\u001b[1;32m      6\u001b[0m )\n\u001b[1;32m      7\u001b[0m \u001b[39mfrom\u001b[39;00m \u001b[39mcirq_qubitization\u001b[39;00m\u001b[39m.\u001b[39;00m\u001b[39mcirq_infra\u001b[39;00m\u001b[39m.\u001b[39;00m\u001b[39mqubit_management_transformers\u001b[39;00m \u001b[39mimport\u001b[39;00m (\n\u001b[1;32m      8\u001b[0m     map_clean_and_borrowable_qubits,\n\u001b[1;32m      9\u001b[0m )\n\u001b[1;32m     10\u001b[0m \u001b[39mfrom\u001b[39;00m \u001b[39mcirq_qubitization\u001b[39;00m\u001b[39m.\u001b[39;00m\u001b[39mcirq_infra\u001b[39;00m\u001b[39m.\u001b[39;00m\u001b[39mqubit_manager\u001b[39;00m \u001b[39mimport\u001b[39;00m GreedyQubitManager\n",
      "File \u001b[0;32m~/Desktop/workspace/cirq-qubitization/cirq_qubitization/cirq_infra/gate_with_registers.py:214\u001b[0m\n\u001b[1;32m    210\u001b[0m             \u001b[39mraise\u001b[39;00m \u001b[39mIndexError\u001b[39;00m(\u001b[39mf\u001b[39m\u001b[39m\"\u001b[39m\u001b[39mkey \u001b[39m\u001b[39m{\u001b[39;00mkey\u001b[39m}\u001b[39;00m\u001b[39m must be of the type str/int/slice.\u001b[39m\u001b[39m\"\u001b[39m)\n\u001b[1;32m    213\u001b[0m \u001b[39m# type: ignore[override]\u001b[39;00m\n\u001b[0;32m--> 214\u001b[0m \u001b[39mclass\u001b[39;00m \u001b[39mGateWithRegisters\u001b[39;00m(cirq\u001b[39m.\u001b[39mGate, metaclass\u001b[39m=\u001b[39mabc\u001b[39m.\u001b[39mABCMeta):\n\u001b[1;32m    215\u001b[0m     \u001b[39m@property\u001b[39m\n\u001b[1;32m    216\u001b[0m     \u001b[39m@abc\u001b[39m\u001b[39m.\u001b[39mabstractmethod\n\u001b[1;32m    217\u001b[0m     \u001b[39mdef\u001b[39;00m \u001b[39mregisters\u001b[39m(\u001b[39mself\u001b[39m) \u001b[39m-\u001b[39m\u001b[39m>\u001b[39m Registers:\n\u001b[1;32m    218\u001b[0m         \u001b[39m.\u001b[39m\u001b[39m.\u001b[39m\u001b[39m.\u001b[39m\n",
      "File \u001b[0;32m~/Desktop/workspace/cirq-qubitization/cirq_qubitization/cirq_infra/gate_with_registers.py:224\u001b[0m, in \u001b[0;36mGateWithRegisters\u001b[0;34m()\u001b[0m\n\u001b[1;32m    220\u001b[0m \u001b[39mdef\u001b[39;00m \u001b[39m_num_qubits_\u001b[39m(\u001b[39mself\u001b[39m) \u001b[39m-\u001b[39m\u001b[39m>\u001b[39m \u001b[39mint\u001b[39m:\n\u001b[1;32m    221\u001b[0m     \u001b[39mreturn\u001b[39;00m \u001b[39mself\u001b[39m\u001b[39m.\u001b[39mregisters\u001b[39m.\u001b[39mbitsize\n\u001b[1;32m    223\u001b[0m \u001b[39mdef\u001b[39;00m \u001b[39mdecompose_from_registers\u001b[39m(\n\u001b[0;32m--> 224\u001b[0m     \u001b[39mself\u001b[39m, \u001b[39m*\u001b[39m, context: cirq\u001b[39m.\u001b[39;49mDecompositionContext, \u001b[39m*\u001b[39m\u001b[39m*\u001b[39mquregs: Sequence[cirq\u001b[39m.\u001b[39mQid]\n\u001b[1;32m    225\u001b[0m ) \u001b[39m-\u001b[39m\u001b[39m>\u001b[39m cirq\u001b[39m.\u001b[39mOP_TREE:\n\u001b[1;32m    226\u001b[0m     \u001b[39mreturn\u001b[39;00m \u001b[39mNotImplemented\u001b[39m\n\u001b[1;32m    228\u001b[0m \u001b[39mdef\u001b[39;00m \u001b[39m_decompose_with_context_\u001b[39m(\n\u001b[1;32m    229\u001b[0m     \u001b[39mself\u001b[39m, qubits: Sequence[cirq\u001b[39m.\u001b[39mQid], context: Optional[cirq\u001b[39m.\u001b[39mDecompositionContext] \u001b[39m=\u001b[39m \u001b[39mNone\u001b[39;00m\n\u001b[1;32m    230\u001b[0m ) \u001b[39m-\u001b[39m\u001b[39m>\u001b[39m cirq\u001b[39m.\u001b[39mOP_TREE:\n",
      "\u001b[0;31mAttributeError\u001b[0m: module 'cirq' has no attribute 'DecompositionContext'"
     ]
    }
   ],
   "source": [
    "from typing import Sequence\n",
    "import cirq\n",
    "from cirq_qubitization import And\n",
    "from cirq_qubitization.jupyter_tools import check_oracle"
   ]
  },
  {
   "cell_type": "code",
   "execution_count": null,
   "metadata": {
    "id": "AAKDUijqrmEG"
   },
   "outputs": [],
   "source": [
    "def equality_oracle(B: int, A: Sequence[cirq.Qid], z: cirq.Qid) -> cirq.OP_TREE:\n",
    "    # Returns a decomposition of the oracle O_B |A>z> = |A>|z^(A == B)> in only 4n T operations.\n",
    "    bits = list(reversed([(B >> i) & 1 for i in range(len(A))]))\n",
    "\n",
    "    ancilla = cirq.SimpleQubitManager().qalloc(len(bits) - 1)\n",
    "    yield And(cv=bits).on(\n",
    "        *A, *ancilla\n",
    "    )  # `ancilla[-1]` now has the result of equality. uses 4n T operations.\n",
    "\n",
    "    yield cirq.CNOT(ancilla[-1], z)  # update result qubit.\n",
    "\n",
    "    yield And(cv=bits, adjoint=True).on(\n",
    "        *A, *ancilla\n",
    "    )  # `ancilla` now has the result of equality. uses only cliffords and measurements."
   ]
  },
  {
   "attachments": {},
   "cell_type": "markdown",
   "metadata": {},
   "source": [
    "As an example we construct the equality gate for checking if a 3 registers are equal to 5. First we print the decomposition of the gate followed by the result of running the gate on each of 8 possiblities individually and finally the result of running the gate on the uniform superposition of all 8 possibilities."
   ]
  },
  {
   "cell_type": "code",
   "execution_count": null,
   "metadata": {},
   "outputs": [],
   "source": [
    "check_oracle(\n",
    "    n_qubits=3, \n",
    "    oracle_func=lambda qubits, z: equality_oracle(B=5, A=qubits, z=z), \n",
    "    oracle_name='Equality Oracle with 4n T count',\n",
    "    oracle_desc='= 5')"
   ]
  },
  {
   "attachments": {},
   "cell_type": "markdown",
   "metadata": {
    "id": "q8Zyy7SVtnxo"
   },
   "source": [
    "## The comparison oracle with $4n + \\mathcal{O}(1)$ T gates\n",
    "\n",
    "### Inspiration\n",
    "We will only consider the comparison oracles for less than since the $\\leq$ oracle has one extra clifford operation (a CNOT) and the greater than oracle has exactly 2 extra clifford operations, the same CNOT and an X.\n",
    "\n",
    "Consider a classical algorithm for comparing two numbers $A \\textit{ and } B$ of equal length $n$. The algorithm scans the numbers from left to right until it a index $i^*$ where they differ and returns $A_{i^*} < B_{i^*}$. This is how C/C++ [std::strcmp](https://en.cppreference.com/w/cpp/string/byte/strcmp) works. \n",
    "\n",
    "Implicitly this algorithm has $n + 3$ states $\\{e_0, \\ldots, e_n\\} \\cup \\{L, R\\}$ where being in the $e_k$ state means the prefixes of length $k$ are equal. with transitions being the states governed by:\n",
    "\n",
    "\\begin{equation}\n",
    "\\begin{split}\n",
    "    e_k \\rightarrow e_{k+1} \\textit{ if } u_k = v_k \\\\\n",
    "    e_k \\rightarrow L \\textit{ if } u_k < v_k \\\\\n",
    "    e_k \\rightarrow R \\textit{ if } u_k > v_k \\\\\n",
    "\\end{split}\n",
    "\\end{equation}\n",
    "\n",
    "When the result of comparison between individual indicies becomes probabilistic these states form a Markov decision process with three terminal states $\\{L, e_n, R\\}$. This gives us an inspiration for a new implementation.\n",
    "\n",
    "### Algorithm\n",
    "We start by allocating $n+1$ qubits representing the $e_0, \\ldots, e_n$ states and then scan the qubit register and number from left to right.\n",
    "\n",
    "if the current bit is zero then we only need to compute the $e_k \\rightarrow e_{k+1}$ transition since the qubit can't be less than zero. otherwise we need to compute the transition as well as the $e_k → L$ transition."
   ]
  },
  {
   "cell_type": "code",
   "execution_count": null,
   "metadata": {
    "id": "XCdnBGwzwqK7"
   },
   "outputs": [],
   "source": [
    "def less_than(B: int, A: Sequence[cirq.Qid], z: cirq.Qid) -> cirq.OP_TREE:\n",
    "    # Returns a decomposition of the oracle O_B |A>z> = |A>|z^(A < B)> in only 4n T operations.\n",
    "    bits = [(B >> i) & 1 for i in range(len(A) - 1, -1, -1)]\n",
    "\n",
    "    adjoint = []\n",
    "\n",
    "    es = cirq.LineQid.range(len(A) + 1, dimension=2)\n",
    "    ek = es.pop(0)\n",
    "\n",
    "    # Initially our belief is that the numbers are equal.\n",
    "    yield cirq.X(ek)\n",
    "    adjoint.append(cirq.X(ek))\n",
    "\n",
    "    for q, b, ekp1 in zip(A, bits, es):\n",
    "        if b:\n",
    "            yield cirq.X(q)\n",
    "            adjoint.append(cirq.X(q))\n",
    "\n",
    "            # Temporarily hold e_k and not q\n",
    "            yield And().on(q, ek, ekp1)\n",
    "            adjoint.append(And(adjoint=True).on(q, ek, ekp1))\n",
    "\n",
    "            # e_{k+1} currently has are_equal so far and (q != b)\n",
    "            # which is equivalent to: Is the current prefix of the qubits < the prefix of B and the previous prefix equal?\n",
    "            yield cirq.CNOT(ekp1, z)\n",
    "\n",
    "            yield cirq.CNOT(ek, ekp1)  # Now e_{k+1} has the prefix equality.\n",
    "            adjoint.append(cirq.CNOT(ek, ekp1))\n",
    "        else:\n",
    "            # e_{k+1} = e_k and not q\n",
    "            yield And(cv=[1, 0]).on(ek, q, ekp1)\n",
    "            adjoint.append(And(cv=[1, 0], adjoint=True).on(ek, q, ekp1))\n",
    "\n",
    "        ek = ekp1\n",
    "\n",
    "    yield from reversed(adjoint)"
   ]
  },
  {
   "attachments": {},
   "cell_type": "markdown",
   "metadata": {},
   "source": [
    "As we did before we construct the less than gate for checking if a 3 registers are less than 5. First we print the decomposition of the gate followed by the result of running the gate on each of 8 possiblities individually and finally the result of running the gate on the uniform superposition of all 8 possibilities."
   ]
  },
  {
   "cell_type": "code",
   "execution_count": null,
   "metadata": {},
   "outputs": [],
   "source": [
    "check_oracle(\n",
    "    n_qubits=3,\n",
    "    oracle_func=lambda A, z: less_than(B=5, A=A, z=z),\n",
    "    oracle_name='LessThan Oracle with 4n T count',\n",
    "    oracle_desc='< 5',\n",
    ")"
   ]
  },
  {
   "attachments": {},
   "cell_type": "markdown",
   "metadata": {
    "id": "qa-90pTK0Spu"
   },
   "source": [
    "## Improving the constant\n",
    "The implementation above has T complexity of exactly $4n$ since there are exactly $n$ And gates each uses $4$ Ts. Note however that the first of them is not actually needed since one of its inputs is in the $ |1> $ state so it collapses to either identity or `cirq.X` depending on the most $(n-1)\\textit{th}$ bit of $B$. This gives a T complexity of $4(n-1) = 4n - 4$."
   ]
  },
  {
   "attachments": {},
   "cell_type": "markdown",
   "metadata": {
    "id": "MDysRmBd1LFw"
   },
   "source": [
    "## Drawback\n",
    "The new decomposition improves the T complexity from $6n + \\mathcal{O}(1)$ to $4n + \\mathcal{O}(1)$ however it has linear depth rather than logarithmic depth and both circuits will have linear width."
   ]
  }
 ],
 "metadata": {
  "colab": {
   "provenance": []
  },
  "kernelspec": {
   "display_name": "Python 3",
   "name": "python3"
  },
  "language_info": {
   "codemirror_mode": {
    "name": "ipython",
    "version": 3
   },
   "file_extension": ".py",
   "mimetype": "text/x-python",
   "name": "python",
   "nbconvert_exporter": "python",
   "pygments_lexer": "ipython3",
   "version": "3.10.8"
  }
 },
 "nbformat": 4,
 "nbformat_minor": 0
}
