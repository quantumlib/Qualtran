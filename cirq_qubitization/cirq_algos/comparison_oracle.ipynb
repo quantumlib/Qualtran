{
  "cells": [
    {
      "attachments": {},
      "cell_type": "markdown",
      "metadata": {
        "id": "cXYDgQH3jnNQ"
      },
      "source": [
        "# $4n + \\mathcal{O}(1)$ T Complexity Quantum-Classical Comparison Oracle\n",
        "\n",
        "<p style=\"text-align: center;\"><a href=\"mailto: noureldinyosri@gmail.com\">Noureldin Yosri</a></p>\n",
        "<p style=\"text-align: center;\">May 2023</p>"
      ]
    },
    {
      "attachments": {},
      "cell_type": "markdown",
      "metadata": {
        "id": "FS_qGUVPouBf"
      },
      "source": [
        "## Abstract\n",
        "This short note reports an improved T gate complexity of $4n + \\mathcal{O}(1)$ for the quantum oracle for comparing a quantum number to a classical number.  "
      ]
    },
    {
      "attachments": {},
      "cell_type": "markdown",
      "metadata": {
        "id": "_-GG5ry9o6RI"
      },
      "source": [
        "## Introduction\n",
        "The current optimal implementation of a reversible oracle for comparing two quantum numbers of $n$ qubits each is $8n + \\mathcal{O}(1)$ and is given in the supplementary materials of [Berry et al., 2018](https://doi.org/10.1038/s41534-018-0071-5). Their implementation uses divide and conquer technique to create a binary tree of depth $\\log_2{(n)}$ whose leafs are the qubits of then numbers with intermediate values stored in $\\mathcal{O}(n)$ ancillas. Each non leaf node uses two CSWAP operations and the value of the comparison is computed from the root node using one Toffoli. \n",
        "\n",
        "When this decomposition is applied to the case where one input is a list of qubits and the the other is a classical number (i.e. a string of bits) this decomposition gives a $6n + \\mathcal{O}(1)$ T complexity since at the level right above the leafs half of the CSWAP operations collapse to either identity or SWAP, thus the number of CSWAPs becomes $\\approx \\frac{n}{2} + 2 \\times \\frac{n}{2} = \\frac{3n}{2}$, leadining to $4 \\times \\frac{3n}{2} = 6n$ T operations.\n",
        "\n",
        "In this paper we provide a different implementation with $4n + \\mathcal{O}(1)$ T operations count based on modeling the problem as a finite state machine of $n + 3$ states each having two transitions.\n"
      ]
    },
    {
      "attachments": {},
      "cell_type": "markdown",
      "metadata": {
        "id": "JxeFr2ClqHn9"
      },
      "source": [
        "## Equality as a special case\n",
        "Before we proceed to the comparison oracle we take a look at the equality oracle actually as a special case with a lower T complexity of only $4n + \\mathcal{O}(1)$, as it can be implemented as an And operation. The And operation itself can be done using only $4n + \\mathcal{O}(1)$ as per [Babbush et al., 2018](https://doi.org/10.1103%2Fphysrevx.8.041015) and [Craig Gidney](https://algassert.com/post/1903)."
      ]
    },
    {
      "cell_type": "code",
      "execution_count": null,
      "metadata": {},
      "outputs": [],
      "source": [
        "from typing import Sequence\n",
        "import cirq\n",
        "from cirq_qubitization import And, cirq_infra\n",
        "from IPython.display import display, Latex"
      ]
    },
    {
      "cell_type": "code",
      "execution_count": null,
      "metadata": {},
      "outputs": [],
      "source": [
        "def format_dirac(s: str, n: int) -> str:\n",
        "    return s[:n+1] + '|' + s[n+1:-2] + '|' + s[-2:]\n",
        "\n",
        "def check_oracle(n: int, B: int, oracle_func, oracle_name: str, op: str):\n",
        "    A = cirq.NamedQubit.range(n, prefix='A')\n",
        "    z = cirq.NamedQubit('z')\n",
        "    c = cirq.Circuit(oracle_func(A, B, z))\n",
        "    s = cirq.Simulator()\n",
        "    print(oracle_name)\n",
        "    print(c)\n",
        "    print()\n",
        "    print('-'*50)\n",
        "    print()\n",
        "    print(f'simulation result for {op} oracle')\n",
        "    print('state vector form is |qubit registers | ancillas |z⟩')\n",
        "    qubit_order = [q for q in A]\n",
        "    qubit_order += [q for q in c.all_qubits() if q not in A + [z]]\n",
        "    qubit_order += [z]\n",
        "    for v in range(1 << n):\n",
        "        bits = [(v >> i)&1 for i in range(n-1, -1, -1)]\n",
        "        bits += (len(qubit_order) - n) * [0]\n",
        "        result = s.simulate(c, qubit_order=qubit_order, initial_state=bits)\n",
        "        display(Latex(rf'z = $\\mathbb{1}({v} {op} {B})$ = {result.dirac_notation()[-2]}'))\n",
        "        print('\\tfinal state vector', format_dirac(result.dirac_notation(), n))\n",
        "    \n",
        "    c = cirq.Circuit([cirq.H(q) for q in A] + [c])\n",
        "    result = s.simulate(c, qubit_order=qubit_order)\n",
        "    result = result.dirac_notation()\n",
        "    final = []\n",
        "    for s in result.split('|'):\n",
        "        if '⟩' not in s:\n",
        "            final.append(s)\n",
        "            continue\n",
        "        parts = s.split('⟩')\n",
        "        parts[0] = format_dirac('|' + parts[0] + '⟩', n)\n",
        "        final.append(''.join(parts))\n",
        "    print('Acting on the uniform superposition of all states we get:')\n",
        "    print('\\t', ''.join(final))"
      ]
    },
    {
      "cell_type": "code",
      "execution_count": null,
      "metadata": {
        "id": "AAKDUijqrmEG"
      },
      "outputs": [],
      "source": [
        "def equality_oracle(A: Sequence[cirq.Qid], B: int, z: cirq.Qid) -> cirq.OP_TREE:\n",
        "  # Returns a decomposition of the oracle O_B |A>z> = |A>|z^(A == B)> in only 4n T operations.\n",
        "  bits = list(reversed([(B >> i)&1 for i in range(len(A))]))\n",
        "  \n",
        "  ancilla = cirq_infra.qalloc(len(bits) - 1)\n",
        "  yield And(cv=bits).on(*A, *ancilla)  # `ancilla[-1]` now has the result of equality. uses 4n T operations.\n",
        "  \n",
        "  yield cirq.CNOT(ancilla[-1], z)  # update result qubit.\n",
        "  \n",
        "  yield And(cv=bits, adjoint=True).on(*A, *ancilla)  # `ancilla` now has the result of equality. uses only cliffords and measurements."
      ]
    },
    {
      "cell_type": "code",
      "execution_count": null,
      "metadata": {},
      "outputs": [],
      "source": [
        "check_oracle(3, 5, equality_oracle, 'Equality Oracle with 4n T count', '=')"
      ]
    },
    {
      "attachments": {},
      "cell_type": "markdown",
      "metadata": {
        "id": "q8Zyy7SVtnxo"
      },
      "source": [
        "## The comparison oracle with $4n + \\mathcal{O}(1)$ T gates\n",
        "\n",
        "### Inspiration\n",
        "We will only consider the comparison oracles for less than since the $\\leq$ oracle has one extra clifford operation (a CNOT) and the greater than oracle has exactly 2 extra clifford operations, the same CNOT and an X.\n",
        "\n",
        "Consider a classical algorithm for comparing two numbers $A \\textit{ and } B$ of equal length $n$. The algorithm scans the numbers from left to right until it a index $i^*$ where they differ and returns $A_{i^*} < B_{i^*}$. This is how C/C++ [std::strcmp](https://en.cppreference.com/w/cpp/string/byte/strcmp) works. \n",
        "\n",
        "Implicitly this algorithm has $n + 3$ states $\\{e_0, \\ldots, e_n\\} \\cup \\{L, R\\}$ where being in the $e_k$ state means the prefixes of length $k$ are equal. with transitions being the states governed by:\n",
        "\n",
        "\\begin{equation}\n",
        "\\begin{split}\n",
        "    e_k \\rightarrow e_{k+1} \\textit{ if } u_k = v_k \\\\\n",
        "    e_k \\rightarrow L \\textit{ if } u_k < v_k \\\\\n",
        "    e_k \\rightarrow R \\textit{ if } u_k > v_k \\\\\n",
        "\\end{split}\n",
        "\\end{equation}\n",
        "\n",
        "When the result of comparison between individual indicies becomes probabilistic these states form a Markov decision process with three terminal states $\\{L, e_n, R\\}$. This gives us an inspiration for a new implementation.\n",
        "\n",
        "### Algorithm\n",
        "We start by allocating $n+1$ qubits representing the $e_0, \\ldots, e_n$ states and then scan the qubit register and number from left to right.\n",
        "\n",
        "if the current bit is zero then we only need to compute the $e_k \\rightarrow e_{k+1}$ transition since the qubit can't be less than zero. otherwise we need to compute the transition as well as the $e_k → L$ transition."
      ]
    },
    {
      "cell_type": "code",
      "execution_count": null,
      "metadata": {
        "id": "XCdnBGwzwqK7"
      },
      "outputs": [],
      "source": [
        "def comparison_oracle(A: Sequence[cirq.Qid], B: int, z: cirq.Qid, target: str) -> cirq.OP_TREE:\n",
        "  # Returns a decomposition of the oracle O_B |A>z> = |A>|z^(A < B)> in only 4n T operations.\n",
        "  bits = [(B >> i)&1 for i in range(len(A)-1, -1, -1)]\n",
        "\n",
        "  adjoint = []\n",
        "\n",
        "  es = cirq.LineQid.range(len(A) + 1, dimension=2)\n",
        "  ek = es.pop(0)\n",
        "\n",
        "  # Initially our belief is that the numbers are equal.\n",
        "  yield cirq.X(ek)\n",
        "  adjoint.append(cirq.X(ek))\n",
        "\n",
        "  for q, b, ekp1 in zip(A, bits, es):\n",
        "    if b:\n",
        "      yield cirq.X(q)\n",
        "      adjoint.append(cirq.X(q))\n",
        "\n",
        "      # Temporarily hold e_k and not q\n",
        "      yield And().on(q, ek, ekp1)\n",
        "      adjoint.append(And(adjoint=True).on(q, ek, ekp1))\n",
        "\n",
        "      # e_{k+1} currently has are_equal so far and (q != b)\n",
        "      # which is equivalent to: Is the current prefix of the qubits < the prefix of B and the previous prefix equal?\n",
        "      yield cirq.CNOT(ekp1, z)\n",
        "\n",
        "      yield cirq.CNOT(ek, ekp1)  # Now e_{k+1} has the prefix equality.\n",
        "      adjoint.append(cirq.CNOT(ek, ekp1))\n",
        "    else:\n",
        "      # e_{k+1} = e_k and not q\n",
        "      yield And(cv=[1, 0]).on(ek, q, ekp1)\n",
        "      adjoint.append(And(cv=[1, 0], adjoint=True).on(ek, q, ekp1))\n",
        "    \n",
        "    ek = ekp1\n",
        "\n",
        "  # For the <= oracle we need one extra clifford operation\n",
        "  if target == '<=':\n",
        "    yield cirq.CNOT(ek, z)\n",
        "\n",
        "  # For the > oracle we need 2 extra clifford operations\n",
        "  if target == '>':\n",
        "    yield cirq.CNOT(ek, z)\n",
        "    yield cirq.X(z)\n",
        "\n",
        "  yield from reversed(adjoint)\n"
      ]
    },
    {
      "cell_type": "code",
      "execution_count": null,
      "metadata": {},
      "outputs": [],
      "source": [
        "check_oracle(3, 5, lambda A, B, z: comparison_oracle(A, B, z, '<'), 4*'\\t' + 'LessThan Oracle with 4n T count', '<')"
      ]
    },
    {
      "cell_type": "code",
      "execution_count": null,
      "metadata": {},
      "outputs": [],
      "source": [
        "check_oracle(3, 5, lambda A, B, z: comparison_oracle(A, B, z, '<='), 4*'\\t' + 'LessThanOrEqual Oracle with 4n T count', '\\leq')"
      ]
    },
    {
      "cell_type": "code",
      "execution_count": null,
      "metadata": {},
      "outputs": [],
      "source": [
        "check_oracle(3, 5, lambda A, B, z: comparison_oracle(A, B, z, '>'), 4*'\\t' + 'GreaterThan Oracle with 4n T count', '>')"
      ]
    },
    {
      "attachments": {},
      "cell_type": "markdown",
      "metadata": {
        "id": "qa-90pTK0Spu"
      },
      "source": [
        "## Improving the constant\n",
        "The implementation above has T complexity of exactly $4n$ since there are exactly $n$ And gates each uses $4$ Ts. Note however that the first of them is not actually needed since one of its inputs is in the $ |1> $ state so it collapses to either identity or `cirq.X` depending on the most $(n-1)\\textit{th}$ bit of $B$. This gives a T complexity of $4(n-1) = 4n - 4$."
      ]
    },
    {
      "attachments": {},
      "cell_type": "markdown",
      "metadata": {
        "id": "MDysRmBd1LFw"
      },
      "source": [
        "## Drawback\n",
        "The new decomposition improves the T complexity from $6n + \\mathcal{O}(1)$ to $4n + \\mathcal{O}(1)$ however it has linear depth rather than logarithmic depth and both circuits will have linear width."
      ]
    }
  ],
  "metadata": {
    "colab": {
      "provenance": []
    },
    "kernelspec": {
      "display_name": "Python 3",
      "name": "python3"
    },
    "language_info": {
      "codemirror_mode": {
        "name": "ipython",
        "version": 3
      },
      "file_extension": ".py",
      "mimetype": "text/x-python",
      "name": "python",
      "nbconvert_exporter": "python",
      "pygments_lexer": "ipython3",
      "version": "3.10.8"
    }
  },
  "nbformat": 4,
  "nbformat_minor": 0
}
