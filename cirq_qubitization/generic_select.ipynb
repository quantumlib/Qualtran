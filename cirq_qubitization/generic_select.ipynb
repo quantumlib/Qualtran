{
 "cells": [
  {
   "cell_type": "markdown",
   "id": "ae4c107e",
   "metadata": {
    "cq.autogen": "title_cell"
   },
   "source": [
    "# Generic Select"
   ]
  },
  {
   "cell_type": "code",
   "execution_count": null,
   "id": "c5e21402",
   "metadata": {
    "cq.autogen": "top_imports"
   },
   "outputs": [],
   "source": [
    "import cirq\n",
    "import numpy as np\n",
    "import cirq_qubitization\n",
    "import cirq_qubitization.testing as cq_testing\n",
    "from cirq_qubitization.jupyter_tools import display_gate_and_compilation\n",
    "from typing import *"
   ]
  },
  {
   "cell_type": "markdown",
   "id": "f217ffaf",
   "metadata": {
    "cq.autogen": "_make_GenericSelect.md"
   },
   "source": [
    "## `GenericSelect`\n",
    "Gate that implements SELECT for a Hamiltonian expressed as an LCU.\n",
    "\n",
    "Recall: SELECT = \\sum_{l}|l><l| \\otimes U_{l}\n",
    "\n",
    "The first log(L) qubits is the index register and the last M qubits are the system\n",
    "register U_{l} is applied to"
   ]
  },
  {
   "cell_type": "code",
   "execution_count": null,
   "id": "488c76f9",
   "metadata": {
    "cq.autogen": "_make_GenericSelect.py"
   },
   "outputs": [],
   "source": [
    "from cirq_qubitization.generic_select import GenericSelect\n",
    "from cirq_qubitization.generic_select_test import get_1d_ising_hamiltonian\n",
    "\n",
    "num_sites = 4\n",
    "target_bitsize = num_sites\n",
    "num_select_unitaries = 2 * num_sites\n",
    "\n",
    "# PBC Ising in 1-D has num_sites ZZ operations and num_sites X operations.\n",
    "# Thus, 2 * num_sites Pauli ops\n",
    "selection_bitsize = int(np.ceil(np.log(num_select_unitaries)))\n",
    "\n",
    "target = cirq.LineQubit.range(target_bitsize)  # placeholder\n",
    "ham = get_1d_ising_hamiltonian(target, 1, 1)\n",
    "dense_ham = [tt.dense(target) for tt in ham]\n",
    "g = cq_testing.GateHelper(\n",
    "    GenericSelect(selection_bitsize, target_bitsize, select_unitaries=dense_ham)\n",
    ")\n",
    "\n",
    "display_gate_and_compilation(g, vertical=True)"
   ]
  }
 ],
 "metadata": {
  "kernelspec": {
   "display_name": "Python 3 (ipykernel)",
   "language": "python",
   "name": "python3"
  },
  "language_info": {
   "codemirror_mode": {
    "name": "ipython",
    "version": 3
   },
   "file_extension": ".py",
   "mimetype": "text/x-python",
   "name": "python",
   "nbconvert_exporter": "python",
   "pygments_lexer": "ipython3",
   "version": "3.10.6"
  }
 },
 "nbformat": 4,
 "nbformat_minor": 5
}
