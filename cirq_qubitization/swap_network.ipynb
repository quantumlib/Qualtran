{
 "cells": [
  {
   "cell_type": "markdown",
   "id": "f31db18a",
   "metadata": {
    "cq.autogen": "title_cell"
   },
   "source": [
    "# Swap Network"
   ]
  },
  {
   "cell_type": "code",
   "execution_count": null,
   "id": "9354e0b6",
   "metadata": {
    "cq.autogen": "top_imports"
   },
   "outputs": [],
   "source": [
    "import cirq\n",
    "import numpy as np\n",
    "import cirq_qubitization\n",
    "import cirq_qubitization.testing as cq_testing\n",
    "from cirq_qubitization.jupyter_tools import display_gate_and_compilation\n",
    "from typing import *"
   ]
  },
  {
   "cell_type": "markdown",
   "id": "f0727311",
   "metadata": {
    "cq.autogen": "_make_MultiTargetCSwap.md"
   },
   "source": [
    "## `MultiTargetCSwap`\n",
    "Implements a multi-target controlled swap unitary $CSWAP_n = |0><0| I + |1><1| SWAP_n$.\n",
    "\n",
    "This decomposes into a qubitwise SWAP on the two target registers, and takes 14*n T-gates.\n",
    "\n",
    "#### References\n",
    "[Trading T-gates for dirty qubits in state preparation and unitary synthesis](https://arxiv.org/abs/1812.00954). Low et. al. 2018. See Appendix B.2.c.\n"
   ]
  },
  {
   "cell_type": "code",
   "execution_count": null,
   "id": "253b1d6a",
   "metadata": {
    "cq.autogen": "_make_MultiTargetCSwap.py"
   },
   "outputs": [],
   "source": [
    "from cirq_qubitization.swap_network import MultiTargetCSwap\n",
    "\n",
    "g = cq_testing.GateHelper(\n",
    "    MultiTargetCSwap(3)\n",
    ")\n",
    "\n",
    "display_gate_and_compilation(g)"
   ]
  },
  {
   "cell_type": "markdown",
   "id": "4a5975fd",
   "metadata": {
    "cq.autogen": "_make_MultiTargetCSwapApprox.md"
   },
   "source": [
    "## `MultiTargetCSwapApprox`\n",
    "Approximately implements a multi-target controlled swap unitary using only 4 * n T-gates.\n",
    "\n",
    "Implements the unitary $CSWAP_n = |0><0| I + |1><1| SWAP_n$ such that the output state is\n",
    "correct up to a global phase factor of +1 / -1.\n",
    "\n",
    "This is useful when the incorrect phase can be absorbed in a garbage state of an algorithm; and\n",
    "thus ignored, see the reference for more details.\n",
    "\n",
    "#### References\n",
    "[Trading T-gates for dirty qubits in state preparation and unitary synthesis](https://arxiv.org/abs/1812.00954). Low et. al. 2018. See Appendix B.2.c.\n"
   ]
  },
  {
   "cell_type": "code",
   "execution_count": null,
   "id": "972e5895",
   "metadata": {
    "cq.autogen": "_make_MultiTargetCSwapApprox.py"
   },
   "outputs": [],
   "source": [
    "from cirq_qubitization.swap_network import MultiTargetCSwapApprox\n",
    "\n",
    "g = cq_testing.GateHelper(\n",
    "    MultiTargetCSwapApprox(2)\n",
    ")\n",
    "\n",
    "display_gate_and_compilation(g)"
   ]
  }
 ],
 "metadata": {
  "kernelspec": {
   "display_name": "Python 3 (ipykernel)",
   "language": "python",
   "name": "python3"
  },
  "language_info": {
   "codemirror_mode": {
    "name": "ipython",
    "version": 3
   },
   "file_extension": ".py",
   "mimetype": "text/x-python",
   "name": "python",
   "nbconvert_exporter": "python",
   "pygments_lexer": "ipython3",
   "version": "3.10.6"
  }
 },
 "nbformat": 4,
 "nbformat_minor": 5
}
