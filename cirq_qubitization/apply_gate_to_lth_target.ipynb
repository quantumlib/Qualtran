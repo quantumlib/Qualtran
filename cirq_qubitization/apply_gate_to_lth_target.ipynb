{
 "cells": [
  {
   "cell_type": "markdown",
   "id": "ac3bfb05",
   "metadata": {
    "cq.autogen": "title_cell"
   },
   "source": [
    "# Apply to L-th Target"
   ]
  },
  {
   "cell_type": "code",
   "execution_count": null,
   "id": "4e214a27",
   "metadata": {
    "cq.autogen": "top_imports"
   },
   "outputs": [],
   "source": [
    "import cirq\n",
    "import numpy as np\n",
    "import cirq_qubitization\n",
    "import cirq_qubitization.testing as cq_testing\n",
    "from cirq_qubitization.jupyter_tools import display_gate_and_compilation\n",
    "from typing import *"
   ]
  },
  {
   "cell_type": "markdown",
   "id": "249829b0",
   "metadata": {
    "cq.autogen": "_make_ApplyGateToLthQubit.md"
   },
   "source": [
    "## `ApplyGateToLthQubit`"
   ]
  },
  {
   "cell_type": "code",
   "execution_count": null,
   "id": "b8d2a7bf",
   "metadata": {
    "cq.autogen": "_make_ApplyGateToLthQubit.py"
   },
   "outputs": [],
   "source": [
    "from cirq_qubitization.apply_gate_to_lth_target import ApplyGateToLthQubit\n",
    "\n",
    "def _z_to_odd(n: int):\n",
    "    if n & 1:\n",
    "        return cirq.Z\n",
    "    return cirq.I\n",
    "\n",
    "apply_z_to_odd = ApplyGateToLthQubit(\n",
    "    selection_bitsize=3, target_bitsize=4, nth_gate=_z_to_odd, control_bitsize=2\n",
    ")\n",
    "\n",
    "g = cq_testing.GateHelper(\n",
    "    apply_z_to_odd\n",
    ")\n",
    "\n",
    "display_gate_and_compilation(g)"
   ]
  }
 ],
 "metadata": {
  "kernelspec": {
   "display_name": "Python 3 (ipykernel)",
   "language": "python",
   "name": "python3"
  },
  "language_info": {
   "codemirror_mode": {
    "name": "ipython",
    "version": 3
   },
   "file_extension": ".py",
   "mimetype": "text/x-python",
   "name": "python",
   "nbconvert_exporter": "python",
   "pygments_lexer": "ipython3",
   "version": "3.10.6"
  }
 },
 "nbformat": 4,
 "nbformat_minor": 5
}
