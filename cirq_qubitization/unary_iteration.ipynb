{
 "cells": [
  {
   "cell_type": "markdown",
   "id": "49b5e1e6",
   "metadata": {},
   "source": [
    "# Unary Iteration"
   ]
  },
  {
   "cell_type": "markdown",
   "id": "fcdb39f2",
   "metadata": {},
   "source": [
    "Given an array of potential operations, for example:\n",
    "\n",
    "    ops = [X(i) for i in range(5)]\n",
    "    \n",
    "we would like to select an operation to apply:\n",
    "\n",
    "    n = 4 --> apply ops[4]\n",
    "    \n",
    "If $n$ is a quantum integer, we need to apply the transformation\n",
    "\n",
    "$$\n",
    "    |n \\rangle |\\psi\\rangle \\rightarrow |n\\rangle \\, \\mathrm{ops}_n \\cdot |\\psi\\rangle\n",
    "$$\n",
    "\n",
    "The simplest conceptual way to do this is to use a \"total control\" quantum circuit where you introduce a multi-controlled operation for each of the `len(ops)` possible `n` values."
   ]
  },
  {
   "cell_type": "code",
   "execution_count": null,
   "id": "0148f529",
   "metadata": {},
   "outputs": [],
   "source": [
    "import cirq\n",
    "from cirq.contrib.svg import SVGCircuit\n",
    "import numpy as np\n",
    "from cirq_qubitization.unary_iteration import *\n",
    "from typing import *"
   ]
  },
  {
   "cell_type": "code",
   "execution_count": null,
   "id": "32e90969",
   "metadata": {},
   "outputs": [],
   "source": [
    "import operator\n",
    "import functools\n",
    "import itertools"
   ]
  },
  {
   "cell_type": "markdown",
   "id": "a6d947da",
   "metadata": {},
   "source": [
    "## Total Control\n",
    "\n",
    "Here, we'll use Sympy's boolean logic to show how total control works. We perform an `And( ... )` for each possible bit pattern. We use an `Xnor` on each selection bit to toggle whether it's a positive or negative control (filled or open circle in quantum circuit diagrams).\n",
    "\n",
    "In this example, we indeed consider $X_n$ as our potential operations and toggle bits in the `target` register according to the total control."
   ]
  },
  {
   "cell_type": "code",
   "execution_count": null,
   "id": "8e61bf03",
   "metadata": {
    "scrolled": false
   },
   "outputs": [],
   "source": [
    "import sympy as S\n",
    "import sympy.logic.boolalg as slb\n",
    "\n",
    "def total_control(selection, target):\n",
    "    \"\"\"Toggle bits in `target` depending on `selection`.\"\"\"\n",
    "    print(f\"Selection is {selection}\")\n",
    "    \n",
    "    for n, trial in enumerate(itertools.product((0, 1), repeat=len(selection))):\n",
    "        print(f\"Step {n}, apply total control: {trial}\")\n",
    "        target[n] = slb.And(*[slb.Xnor(s, t) for s, t in zip(selection, trial)])\n",
    "          \n",
    "        if target[n] == S.true:\n",
    "            print(f\"  -> At this stage, {n}= and our output bit is set\")\n",
    "\n",
    "        \n",
    "selection = [0, 1, 0]\n",
    "target = [False]*8\n",
    "total_control(selection, target)    \n",
    "print()\n",
    "print(\"Target:\")\n",
    "print(target)"
   ]
  },
  {
   "cell_type": "markdown",
   "id": "e572a31d",
   "metadata": {},
   "source": [
    "Note that our target register shows we have indeed applied $X_\\mathrm{0b010}$. Try changing `selection` to other bit patterns and notice how it changes."
   ]
  },
  {
   "cell_type": "markdown",
   "id": "a4a75f61",
   "metadata": {},
   "source": [
    "Of course, we don't know what state the selection register will be in. We can use sympy's support for symbolic boolean logic to verify our gadget for all possible selection inputs."
   ]
  },
  {
   "cell_type": "code",
   "execution_count": null,
   "id": "5df67d45",
   "metadata": {},
   "outputs": [],
   "source": [
    "selection = [S.Symbol(f's{i}') for i in range(3)]\n",
    "target = [False for i in range(2**len(selection)) ]\n",
    "total_control(selection, target)\n",
    "\n",
    "print()\n",
    "print(\"Target:\")\n",
    "for n, t in enumerate(target):\n",
    "    print(f'{n}= {t}')\n",
    "    \n",
    "tc_target = target.copy()"
   ]
  },
  {
   "cell_type": "markdown",
   "id": "deab0553",
   "metadata": {},
   "source": [
    "As expected, the \"not pattern\" (where `~` is boolean not) matches the binary representations of `n`."
   ]
  },
  {
   "cell_type": "markdown",
   "id": "81b69e70",
   "metadata": {},
   "source": [
    "## Unary Iteration with segment trees\n",
    "\n",
    "A [segment tree](https://en.wikipedia.org/wiki/Segment_tree) is a data structure thatallows logrithmic-time querying of intervals. We use a segment tree where each interval is length 1 and comprises all the `n` integers we may select.\n",
    "\n",
    "It is defined recursively by dividing the input interval into two half-size intervals until the left limit meets the right limit."
   ]
  },
  {
   "cell_type": "code",
   "execution_count": null,
   "id": "ab998aa4",
   "metadata": {},
   "outputs": [],
   "source": [
    "def segtree(ctrl, selection, target, depth, left, right):\n",
    "    \"\"\"Toggle bits in `target` depending on `selection` using a recursive segment tree.\"\"\"\n",
    "    print(f'{depth=} {left=} {right=}', end=' ')\n",
    "    \n",
    "    if left == (right - 1):\n",
    "        # Leaf of the recusion.\n",
    "        print(f'{n}= {ctrl=}')\n",
    "        target[left] = ctrl\n",
    "        return \n",
    "    print()\n",
    "    \n",
    "    assert depth < len(selection)\n",
    "    mid = (left + right) >> 1\n",
    "    \n",
    "    # Recurse left interval\n",
    "    new_ctrl = slb.And(ctrl, slb.Not(selection[depth]))\n",
    "    segtree(ctrl=new_ctrl, selection=selection, target=target, depth=depth+1, left=left, right=mid)\n",
    "    \n",
    "    # Recurse right interval\n",
    "    new_ctrl = slb.And(ctrl, selection[depth])\n",
    "    segtree(ctrl=new_ctrl, selection=selection, target=target, depth=depth+1, left=mid, right=right)\n",
    "    \n",
    "    # Quantum note:\n",
    "    # instead of throwing away the first value of `new_ctrl` and re-anding\n",
    "    # with selection, we can just invert the first one (but only if `ctrl` is active)\n",
    "    # new_ctrl ^= ctrl"
   ]
  },
  {
   "cell_type": "code",
   "execution_count": null,
   "id": "6a514ee6",
   "metadata": {},
   "outputs": [],
   "source": [
    "selection = [S.Symbol(f's{i}') for i in range(3)]\n",
    "target = [False for i in range(2**len(selection)) ]\n",
    "segtree(S.true, selection, target, 0, 0, 2**len(selection))\n",
    "\n",
    "print()\n",
    "print(\"Target:\")\n",
    "for n, t in enumerate(target):\n",
    "    print(f'{n}= {slb.simplify_logic(t)}')\n"
   ]
  },
  {
   "cell_type": "code",
   "execution_count": null,
   "id": "23d91438",
   "metadata": {},
   "outputs": [],
   "source": [
    "print(f\"{'n':3s} | {'segtree':18s} | {'total control':18s} | same?\")\n",
    "for n, (t1, t2) in enumerate(zip(target, tc_target)):\n",
    "    t1 = slb.simplify_logic(t1)\n",
    "    print(f'{n:3d} | {str(t1):18s} | {str(t2):18s} | {str(t1==t2)}')"
   ]
  },
  {
   "cell_type": "markdown",
   "id": "e39448e6",
   "metadata": {},
   "source": [
    "## Quantum Circuit\n",
    "\n",
    "We can translate the boolean logic to reversible, quantum logic."
   ]
  },
  {
   "cell_type": "code",
   "execution_count": null,
   "id": "018fdd40",
   "metadata": {},
   "outputs": [],
   "source": [
    "control = cirq.LineQubit(-1)\n",
    "selection = np.array(cirq.LineQubit.range(3))+100\n",
    "ancilla = np.array(cirq.LineQubit.range(len(selection))) + 200\n",
    "target = np.array(cirq.LineQubit.range(5)) + 300"
   ]
  },
  {
   "cell_type": "code",
   "execution_count": null,
   "id": "3da989fa",
   "metadata": {
    "pycharm": {
     "name": "#%%\n"
    }
   },
   "outputs": [],
   "source": [
    "# TODO: mpharrigan thinks that UnaryIterationGate should have-a operation rather\n",
    "# than be subclassed each time.\n",
    "\n",
    "class ApplyXToLthQubit(UnaryIterationGate):\n",
    "    def __init__(self, selection_bitsize: int, target_bitsize: int, control_bitsize: int = 1):\n",
    "        self._selection_bitsize = selection_bitsize\n",
    "        self._target_bitsize = target_bitsize\n",
    "        self._control_bitsize = control_bitsize\n",
    "\n",
    "    @cached_property\n",
    "    def control_registers(self) -> Registers:\n",
    "        return Registers.build(control=self._control_bitsize)\n",
    "\n",
    "    @cached_property\n",
    "    def selection_registers(self) -> Registers:\n",
    "        return Registers.build(selection=self._selection_bitsize)\n",
    "\n",
    "    @cached_property\n",
    "    def target_registers(self) -> Registers:\n",
    "        return Registers.build(target=self._target_bitsize)\n",
    "\n",
    "    @cached_property\n",
    "    def iteration_lengths(self) -> Tuple[int, ...]:\n",
    "        return (self._target_bitsize,)\n",
    "\n",
    "    def nth_operation(\n",
    "        self, control: cirq.Qid, selection: int, target: Sequence[cirq.Qid]\n",
    "    ) -> cirq.OP_TREE:\n",
    "        return cirq.CNOT(control, target[-(selection + 1)])"
   ]
  },
  {
   "cell_type": "code",
   "execution_count": null,
   "id": "945b316d",
   "metadata": {},
   "outputs": [],
   "source": [
    "ui = ApplyXToLthQubit(selection_bitsize=len(selection), target_bitsize=len(target))\n",
    "circuit = cirq.Circuit(ui.decompose_single_control(\n",
    "    control=control,\n",
    "    selection=selection,\n",
    "    ancilla=ancilla,\n",
    "    target=target,\n",
    "))\n",
    "SVGCircuit(circuit)"
   ]
  },
  {
   "cell_type": "markdown",
   "id": "13773620",
   "metadata": {},
   "source": [
    "## Tests for Correctness\n",
    "\n",
    "We can use a full statevector simulation to compare the desired statevector to the one generated by the unary iteration circuit for each basis state."
   ]
  },
  {
   "cell_type": "code",
   "execution_count": null,
   "id": "1ea1cc84",
   "metadata": {},
   "outputs": [],
   "source": [
    "sim = cirq.Simulator()\n",
    "all_qubits = np.concatenate(([control], selection, ancilla, target))\n",
    "\n",
    "for n in range(len(target)):\n",
    "    svals = [int(x) for x in format(n, f\"0{len(selection)}b\")]\n",
    "    # turn on control bit to activate circuit:\n",
    "    qubit_vals = {x: int(x == control) for x in all_qubits} \n",
    "    # Initialize selection bits appropriately:\n",
    "    \n",
    "    qubit_vals.update({s: sval for s, sval in zip(selection, svals)})  \n",
    "\n",
    "    initial_state = [qubit_vals[x] for x in all_qubits]\n",
    "    result = sim.simulate(circuit, initial_state=initial_state)\n",
    "    # Build correct statevector with selection_integer bit flipped in the target register:\n",
    "    initial_state[-(n + 1)] = 1  \n",
    "    expected_output = \"\".join(str(x) for x in initial_state)\n",
    "    assert result.dirac_notation()[1:-1] == expected_output\n",
    "    print(f'{n}= checked!')"
   ]
  }
 ],
 "metadata": {
  "kernelspec": {
   "display_name": "Python 3",
   "language": "python",
   "name": "python3"
  },
  "language_info": {
   "codemirror_mode": {
    "name": "ipython",
    "version": 3
   },
   "file_extension": ".py",
   "mimetype": "text/x-python",
   "name": "python",
   "nbconvert_exporter": "python",
   "pygments_lexer": "ipython3",
   "version": "3.9.12"
  }
 },
 "nbformat": 4,
 "nbformat_minor": 5
}
