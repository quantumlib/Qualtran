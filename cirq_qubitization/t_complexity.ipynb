{
 "cells": [
  {
   "cell_type": "code",
   "execution_count": 1,
   "id": "abed0743",
   "metadata": {},
   "outputs": [],
   "source": [
    "import matplotlib.pyplot as plt\n",
    "import numpy as np\n",
    "try:\n",
    "    from cirq_qubitization.and_gate import And\n",
    "    from cirq_qubitization.t_complexity_protocol import t_complexity\n",
    "except:\n",
    "    import os\n",
    "    os.chdir('..')\n",
    "    from cirq_qubitization.and_gate import And\n",
    "    from cirq_qubitization.t_complexity_protocol import t_complexity"
   ]
  },
  {
   "cell_type": "markdown",
   "id": "7069cab4",
   "metadata": {},
   "source": [
    "## Two Qubit And Gate"
   ]
  },
  {
   "cell_type": "code",
   "execution_count": 2,
   "id": "635a411e",
   "metadata": {},
   "outputs": [
    {
     "name": "stdout",
     "output_type": "stream",
     "text": [
      "TComplexity(t=4, clifford=9, rotations=0)\n"
     ]
    }
   ],
   "source": [
    "# And of two qubits\n",
    "gate = And() # create an And gate\n",
    "# create an operation\n",
    "operation = gate.on_registers(**gate.registers.get_named_qubits()) \n",
    "# this operation doesn't directly support TComplexity but it's decomposable and its components are simple.\n",
    "print(t_complexity(operation))"
   ]
  },
  {
   "cell_type": "markdown",
   "id": "4e47f1f2",
   "metadata": {},
   "source": [
    "## Adjoint of two qubit And gate"
   ]
  },
  {
   "cell_type": "code",
   "execution_count": 3,
   "id": "583a2e71",
   "metadata": {},
   "outputs": [
    {
     "name": "stdout",
     "output_type": "stream",
     "text": [
      "TComplexity(t=0, clifford=4, rotations=0)\n"
     ]
    }
   ],
   "source": [
    "gate = And() ** -1 # adjoint of And\n",
    "operation = gate.on_registers(**gate.registers.get_named_qubits()) \n",
    "# the deomposition is H, measure, CZ, and Reset\n",
    "print(t_complexity(operation))"
   ]
  },
  {
   "cell_type": "markdown",
   "id": "f2d9fd4b",
   "metadata": {},
   "source": [
    "## And gate on n qubits"
   ]
  },
  {
   "cell_type": "code",
   "execution_count": 4,
   "id": "be774c97",
   "metadata": {},
   "outputs": [
    {
     "name": "stdout",
     "output_type": "stream",
     "text": [
      "TComplexity(t=16, clifford=36, rotations=0)\n"
     ]
    }
   ],
   "source": [
    "n = 5\n",
    "gate = And((1, )*n)\n",
    "operation = gate.on_registers(**gate.registers.get_named_qubits()) \n",
    "print(t_complexity(operation))"
   ]
  },
  {
   "cell_type": "code",
   "execution_count": null,
   "id": "716497b6",
   "metadata": {},
   "outputs": [],
   "source": []
  },
  {
   "cell_type": "code",
   "execution_count": 9,
   "id": "42654b12",
   "metadata": {},
   "outputs": [],
   "source": [
    "def Generate(n_max: int = 10):\n",
    "    \"\"\"Returns the #T when the number of qubits is between 2 and n_max inclusive\"\"\"\n",
    "    n_controls = []\n",
    "    t_count = []\n",
    "    for n in range(2, n_max + 2):\n",
    "        n_controls.append(n)\n",
    "        gate = And(cv=(1, )*n)\n",
    "        op = gate.on_registers(**gate.registers.get_named_qubits()) \n",
    "        c = t_complexity(op)\n",
    "        t_count.append(c.t)\n",
    "    return n_controls, t_count"
   ]
  },
  {
   "cell_type": "code",
   "execution_count": 10,
   "id": "b834437b",
   "metadata": {},
   "outputs": [
    {
     "data": {
      "text/plain": [
       "[<matplotlib.lines.Line2D at 0x7fc96007edf0>]"
      ]
     },
     "execution_count": 10,
     "metadata": {},
     "output_type": "execute_result"
    }
   ],
   "source": [
    "n_controls, t_count = Generate()\n",
    "plt.plot(n_controls, t_count, label='T')"
   ]
  },
  {
   "cell_type": "code",
   "execution_count": 11,
   "id": "bba6825c",
   "metadata": {},
   "outputs": [
    {
     "data": {
      "text/plain": [
       "<matplotlib.legend.Legend at 0x7fc960030280>"
      ]
     },
     "execution_count": 11,
     "metadata": {},
     "output_type": "execute_result"
    }
   ],
   "source": [
    "plt.ylabel('count')\n",
    "plt.xlabel('number of qubits')\n",
    "plt.title('And gate')\n",
    "plt.legend()"
   ]
  },
  {
   "cell_type": "code",
   "execution_count": 12,
   "id": "79f3d38c",
   "metadata": {},
   "outputs": [
    {
     "data": {
      "image/png": "[encoded data removed]",
      "text/plain": [
       "<Figure size 640x480 with 1 Axes>"
      ]
     },
     "metadata": {},
     "output_type": "display_data"
    }
   ],
   "source": [
    "plt.show()"
   ]
  },
  {
   "cell_type": "code",
   "execution_count": null,
   "id": "34977278",
   "metadata": {},
   "outputs": [],
   "source": []
  },
  {
   "cell_type": "code",
   "execution_count": null,
   "id": "664a0390",
   "metadata": {},
   "outputs": [],
   "source": []
  }
 ],
 "metadata": {
  "kernelspec": {
   "display_name": "Python 3",
   "language": "python",
   "name": "python3"
  },
  "language_info": {
   "codemirror_mode": {
    "name": "ipython",
    "version": 3
   },
   "file_extension": ".py",
   "mimetype": "text/x-python",
   "name": "python",
   "nbconvert_exporter": "python",
   "pygments_lexer": "ipython3",
   "version": "3.9.12"
  }
 },
 "nbformat": 4,
 "nbformat_minor": 5
}
