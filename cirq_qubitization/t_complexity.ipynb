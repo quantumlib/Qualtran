{
 "cells": [
  {
   "cell_type": "code",
   "execution_count": null,
   "id": "abed0743",
   "metadata": {},
   "outputs": [],
   "source": [
    "import matplotlib.pyplot as plt\n",
    "import numpy as np\n",
    "try:\n",
    "    from cirq_qubitization.and_gate import And\n",
    "    from cirq_qubitization.t_complexity_protocol import t_complexity\n",
    "except:\n",
    "    import os\n",
    "    os.chdir('..')\n",
    "    from cirq_qubitization.and_gate import And\n",
    "    from cirq_qubitization.t_complexity_protocol import t_complexity"
   ]
  },
  {
   "cell_type": "markdown",
   "id": "29f4c77d",
   "metadata": {},
   "source": [
    "## Two Qubit And Gate"
   ]
  },
  {
   "cell_type": "code",
   "execution_count": null,
   "id": "635a411e",
   "metadata": {},
   "outputs": [],
   "source": [
    "# And of two qubits\n",
    "gate = And() # create an And gate\n",
    "# create an operation\n",
    "operation = gate.on_registers(**gate.registers.get_named_qubits()) \n",
    "# this operation doesn't directly support TComplexity but it's decomposable and its components are simple.\n",
    "print(t_complexity(operation))"
   ]
  },
  {
   "cell_type": "markdown",
   "id": "88cfc5f4",
   "metadata": {},
   "source": [
    "## Adjoint of two qubit And gate"
   ]
  },
  {
   "cell_type": "code",
   "execution_count": null,
   "id": "3c0301d9",
   "metadata": {},
   "outputs": [],
   "source": [
    "gate = And() ** -1 # adjoint of And\n",
    "operation = gate.on_registers(**gate.registers.get_named_qubits()) \n",
    "# the deomposition is H, measure, CZ, and Reset\n",
    "print(t_complexity(operation))"
   ]
  },
  {
   "cell_type": "markdown",
   "id": "8e585436",
   "metadata": {},
   "source": [
    "## And gate on n qubits"
   ]
  },
  {
   "cell_type": "code",
   "execution_count": null,
   "id": "a207ea1a",
   "metadata": {},
   "outputs": [],
   "source": [
    "n = 5\n",
    "gate = And((1, )*n)\n",
    "operation = gate.on_registers(**gate.registers.get_named_qubits()) \n",
    "print(t_complexity(operation))"
   ]
  },
  {
   "cell_type": "code",
   "execution_count": null,
   "id": "cf48444e",
   "metadata": {},
   "outputs": [],
   "source": []
  },
  {
   "cell_type": "code",
   "execution_count": null,
   "id": "394032a5",
   "metadata": {},
   "outputs": [],
   "source": [
    "def Generate(n_max: int = 10):\n",
    "    \"\"\"Returns the #T when the number of qubits is between 2 and n_max inclusive\"\"\"\n",
    "    n_controls = []\n",
    "    t_count = []\n",
    "    for n in range(2, n_max + 2):\n",
    "        n_controls.append(n)\n",
    "        gate = And(cv=(1, )*n)\n",
    "        op = gate.on_registers(**gate.registers.get_named_qubits()) \n",
    "        c = t_complexity(op)\n",
    "        t_count.append(c.t)\n",
    "    return n_controls, t_count"
   ]
  },
  {
   "cell_type": "code",
   "execution_count": null,
   "id": "919ca418",
   "metadata": {},
   "outputs": [],
   "source": [
    "n_controls, t_count = Generate()\n",
    "plt.plot(n_controls, t_count, label='T')"
   ]
  },
  {
   "cell_type": "code",
   "execution_count": null,
   "id": "5bf6a684",
   "metadata": {},
   "outputs": [],
   "source": [
    "plt.ylabel('count')\n",
    "plt.xlabel('number of qubits')\n",
    "plt.title('And gate')\n",
    "plt.legend()"
   ]
  },
  {
   "cell_type": "code",
   "execution_count": null,
   "id": "97bcbbf6",
   "metadata": {},
   "outputs": [],
   "source": [
    "plt.show()"
   ]
  },
  {
   "cell_type": "code",
   "execution_count": null,
   "id": "ce08ab4f",
   "metadata": {},
   "outputs": [],
   "source": []
  },
  {
   "cell_type": "code",
   "execution_count": null,
   "id": "da2a92e9",
   "metadata": {},
   "outputs": [],
   "source": []
  }
 ],
 "metadata": {
  "kernelspec": {
   "display_name": "Python 3.9.12 ('mycirq')",
   "language": "python",
   "name": "python3"
  },
  "language_info": {
   "codemirror_mode": {
    "name": "ipython",
    "version": 3
   },
   "file_extension": ".py",
   "mimetype": "text/x-python",
   "name": "python",
   "nbconvert_exporter": "python",
   "pygments_lexer": "ipython3",
   "version": "3.9.12"
  },
  "vscode": {
   "interpreter": {
    "hash": "1882f3b63550a2f9350e6532bf63174910df57e92f62a2be07440f9e606398c8"
   }
  }
 },
 "nbformat": 4,
 "nbformat_minor": 5
}
