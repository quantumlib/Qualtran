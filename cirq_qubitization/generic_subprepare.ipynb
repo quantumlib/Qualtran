{
 "cells": [
  {
   "cell_type": "markdown",
   "id": "478971d2",
   "metadata": {
    "cq.autogen": "title_cell"
   },
   "source": [
    "# Sub-Prepare"
   ]
  },
  {
   "cell_type": "code",
   "execution_count": null,
   "id": "a8cd5e7d",
   "metadata": {
    "cq.autogen": "top_imports"
   },
   "outputs": [],
   "source": [
    "import cirq\n",
    "import numpy as np\n",
    "import cirq_qubitization\n",
    "import cirq_qubitization.testing as cq_testing\n",
    "from cirq_qubitization.jupyter_tools import display_gate_and_compilation\n",
    "from typing import *"
   ]
  },
  {
   "cell_type": "markdown",
   "id": "92c2f05f",
   "metadata": {},
   "source": [
    "## Demo LCU Coefficients\n",
    "\n",
    "We get some LCU coefficients for a 1D ising model to demonstrate subprepare.\n",
    "\n",
    "$$\n",
    "H = -J\\sum_{k=0}^{L-1}\\sigma_{k}^{Z}\\sigma_{(k+1)\\%L}^{Z} + -\\Gamma \\sum_{k=0}^{L-1}\\sigma_{k}^{X}\n",
    "$$"
   ]
  },
  {
   "cell_type": "code",
   "execution_count": null,
   "id": "9e0b8d7f",
   "metadata": {},
   "outputs": [],
   "source": [
    "def get_1d_ising_hamiltonian(\n",
    "    qubits: Sequence[cirq.Qid], j_zz_strength: float = 1.0, gamma_x_strength: float = -1\n",
    ") -> cirq.PauliSum:\n",
    "    \"\"\"A one dimensional ising model with periodic boundaries.\n",
    "\n",
    "    $$\n",
    "    H = -J\\sum_{k=0}^{L-1}\\sigma_{k}^{Z}\\sigma_{(k+1)\\%L}^{Z} + -\\Gamma \\sum_{k=0}^{L-1}\\sigma_{k}^{X}\n",
    "    $$\n",
    "\n",
    "    Args:\n",
    "        qubits: One qubit for each spin site.\n",
    "        j_zz_strength: The two-body ZZ potential strength, $J$.\n",
    "        gamma_x_strength: The one-body X potential strength, $\\Gamma$.\n",
    "\n",
    "    Returns:\n",
    "        cirq.PauliSum representing the Hamiltonian\n",
    "    \"\"\"\n",
    "    n_sites = len(qubits)\n",
    "    terms = [\n",
    "        cirq.PauliString(\n",
    "            {qubits[k]: cirq.Z, qubits[(k + 1) % n_sites]: cirq.Z}, coefficient=j_zz_strength\n",
    "        )\n",
    "        for k in range(n_sites)\n",
    "    ]\n",
    "    terms.extend([cirq.PauliString({q: cirq.X}, coefficient=gamma_x_strength) for q in qubits])\n",
    "    return cirq.PauliSum.from_pauli_strings(terms)"
   ]
  },
  {
   "cell_type": "code",
   "execution_count": null,
   "id": "1832ad62",
   "metadata": {},
   "outputs": [],
   "source": [
    "spins = cirq.LineQubit.range(3)\n",
    "ham = get_1d_ising_hamiltonian(spins, np.pi/3, np.pi/7)\n",
    "coeffs = np.array([term.coefficient.real for term in ham])\n",
    "coeffs"
   ]
  },
  {
   "cell_type": "code",
   "execution_count": null,
   "id": "c1e903be",
   "metadata": {},
   "outputs": [],
   "source": [
    "lcu_coeffs = coeffs / np.sum(coeffs)\n",
    "lcu_coeffs"
   ]
  },
  {
   "cell_type": "markdown",
   "id": "f2b68385",
   "metadata": {
    "cq.autogen": "_make_GenericSubPrepare.md"
   },
   "source": [
    "## `GenericSubPrepare`\n",
    "Implements generic sub-prepare defined in Fig 11 of https://arxiv.org/abs/1805.03662.\n",
    "\n",
    "This corresponds to the following operations:\n",
    " - UNIFORM_L on first selection register\n",
    " - H^{mu} on mu-sigma-register\n",
    " - QROM-alt-keep selection is on first selection alt-keep are on next mu and logL registers\n",
    " - LessThanEqualGate\n",
    " - Coherent swap\n",
    "\n",
    "Total space will be (2 * log(L) + 2 mu + 1) work qubits + log(L) ancillas for QROM.\n",
    "The 1 ancilla in work qubits is for the `LessThanEqualGate` followed by coherent swap.\n",
    "\n",
    "#### Parameters\n",
    " - `lcu_probabilities`: The LCU coefficients.\n",
    " - `probability_epsilon`: The desired accuracy to represent each probability (which sets mu size and keep/alt integers).\n"
   ]
  },
  {
   "cell_type": "code",
   "execution_count": null,
   "id": "fc3fb4c1",
   "metadata": {
    "cq.autogen": "_make_GenericSubPrepare.py"
   },
   "outputs": [],
   "source": [
    "from cirq_qubitization.generic_subprepare import GenericSubPrepare\n",
    "\n",
    "def get_1d_ising_hamiltonian(\n",
    "    qubits: Sequence[cirq.Qid], j_zz_strength: float = 1.0, gamma_x_strength: float = -1\n",
    ") -> cirq.PauliSum:\n",
    "    n_sites = len(qubits)\n",
    "    terms = [\n",
    "        cirq.PauliString(\n",
    "            {qubits[k]: cirq.Z, qubits[(k + 1) % n_sites]: cirq.Z}, coefficient=j_zz_strength\n",
    "        )\n",
    "        for k in range(n_sites)\n",
    "    ]\n",
    "    terms.extend([cirq.PauliString({q: cirq.X}, coefficient=gamma_x_strength) for q in qubits])\n",
    "    return cirq.PauliSum.from_pauli_strings(terms)\n",
    "\n",
    "spins = cirq.LineQubit.range(3)\n",
    "ham = get_1d_ising_hamiltonian(spins, np.pi / 3, np.pi / 7)\n",
    "coeffs = np.array([term.coefficient.real for term in ham])\n",
    "\n",
    "lcu_coeffs = coeffs / np.sum(coeffs)\n",
    "\n",
    "g = cq_testing.GateHelper(\n",
    "    GenericSubPrepare(lcu_coeffs, probability_epsilon=1e-2)\n",
    ")\n",
    "\n",
    "display_gate_and_compilation(g)"
   ]
  }
 ],
 "metadata": {
  "kernelspec": {
   "display_name": "Python 3 (ipykernel)",
   "language": "python",
   "name": "python3"
  },
  "language_info": {
   "codemirror_mode": {
    "name": "ipython",
    "version": 3
   },
   "file_extension": ".py",
   "mimetype": "text/x-python",
   "name": "python",
   "nbconvert_exporter": "python",
   "pygments_lexer": "ipython3",
   "version": "3.10.6"
  }
 },
 "nbformat": 4,
 "nbformat_minor": 5
}
