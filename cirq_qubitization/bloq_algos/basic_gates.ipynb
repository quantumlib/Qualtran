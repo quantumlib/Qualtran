{
 "cells": [
  {
   "cell_type": "markdown",
   "id": "4881cd25",
   "metadata": {
    "cq.autogen": "title_cell"
   },
   "source": [
    "# Basic Gates"
   ]
  },
  {
   "cell_type": "code",
   "execution_count": null,
   "id": "0ab859e3",
   "metadata": {
    "cq.autogen": "top_imports"
   },
   "outputs": [],
   "source": [
    "import cirq\n",
    "import numpy as np\n",
    "import cirq_qubitization\n",
    "import cirq_ft\n",
    "import cirq_ft.infra.testing as cq_testing\n",
    "from cirq_qubitization.jupyter_tools import display_gate_and_compilation, show_bloq\n",
    "from typing import *"
   ]
  },
  {
   "cell_type": "code",
   "execution_count": null,
   "id": "735cad83",
   "metadata": {},
   "outputs": [],
   "source": [
    "from cirq_qubitization.quantum_graph.quimb_sim import \\\n",
    "    cbloq_to_quimb, get_right_and_left_inds, _get_dangling_soquets\n",
    "\n",
    "import numpy as np\n",
    "import networkx as nx\n",
    "\n",
    "import quimb\n",
    "import quimb.tensor as qtn"
   ]
  },
  {
   "cell_type": "markdown",
   "id": "eaa7fa6e",
   "metadata": {
    "cq.autogen": "_make_CNOT.md"
   },
   "source": [
    "## `CNOT`\n",
    "Two-qubit controlled-NOT.\n",
    "\n",
    "Registers:\n",
    " - ctrl: One-bit control register.\n",
    " - target: One-bit target register."
   ]
  },
  {
   "cell_type": "code",
   "execution_count": null,
   "id": "9515f273",
   "metadata": {
    "cq.autogen": "_make_CNOT.py"
   },
   "outputs": [],
   "source": [
    "from cirq_qubitization.bloq_algos.basic_gates import CNOT\n",
    "\n",
    "bloq = CNOT()\n",
    "show_bloq(bloq)"
   ]
  },
  {
   "cell_type": "code",
   "execution_count": null,
   "id": "f30a59a7",
   "metadata": {},
   "outputs": [],
   "source": [
    "cbloq = bloq.as_composite_bloq()\n",
    "tn, _ = cbloq_to_quimb(cbloq)\n",
    "lsoqs = _get_dangling_soquets(cbloq.registers, right=False)\n",
    "rsoqs = _get_dangling_soquets(cbloq.registers, right=True)\n",
    "\n",
    "# Note: the following only works for non-wireshape soquets.\n",
    "rename = {lsoqs[k]: f'{k}_in' for k in lsoqs.keys()}\n",
    "rename |= {rsoqs[k]: f'{k}_out' for k in rsoqs.keys()}\n",
    "tn = tn.reindex(rename)\n",
    "\n",
    "tn.draw(color=['COPY', 'XOR'], show_tags=False, initial_layout='spectral')"
   ]
  },
  {
   "cell_type": "code",
   "execution_count": null,
   "id": "128b65b3",
   "metadata": {},
   "outputs": [],
   "source": [
    "bloq.tensor_contract()"
   ]
  },
  {
   "cell_type": "markdown",
   "id": "931869ce",
   "metadata": {
    "cq.autogen": "_make_plus_state.md"
   },
   "source": [
    "## `PlusState`\n",
    "The state |+>"
   ]
  },
  {
   "cell_type": "code",
   "execution_count": null,
   "id": "9fc15a60",
   "metadata": {
    "cq.autogen": "_make_plus_state.py"
   },
   "outputs": [],
   "source": [
    "from cirq_qubitization.bloq_algos.basic_gates import PlusState\n",
    "\n",
    "bloq = PlusState()\n",
    "show_bloq(bloq)"
   ]
  },
  {
   "cell_type": "code",
   "execution_count": null,
   "id": "ca77ccab",
   "metadata": {},
   "outputs": [],
   "source": [
    "bloq.tensor_contract()"
   ]
  },
  {
   "cell_type": "markdown",
   "id": "bd188cd5",
   "metadata": {},
   "source": [
    "## Bell State\n",
    "\n",
    "We can create a bell state (|00> + |11>) by cnotting a |+> state into a |0> state."
   ]
  },
  {
   "cell_type": "code",
   "execution_count": null,
   "id": "e2758826",
   "metadata": {},
   "outputs": [],
   "source": [
    "from cirq_qubitization.bloq_algos.basic_gates import ZeroState\n",
    "from cirq_qubitization.quantum_graph.composite_bloq import CompositeBloqBuilder\n",
    "\n",
    "bb = CompositeBloqBuilder()\n",
    "\n",
    "(q0,) = bb.add(PlusState())\n",
    "(q1,) = bb.add(ZeroState())\n",
    "\n",
    "q0, q1 = bb.add(CNOT(), ctrl=q0, target=q1)\n",
    "\n",
    "cbloq = bb.finalize(q0=q0, q1=q1)\n",
    "show_bloq(cbloq)"
   ]
  },
  {
   "cell_type": "code",
   "execution_count": null,
   "id": "61dcdfaf",
   "metadata": {},
   "outputs": [],
   "source": [
    "cbloq.tensor_contract()"
   ]
  },
  {
   "cell_type": "code",
   "execution_count": null,
   "id": "36c5bb1d",
   "metadata": {},
   "outputs": [],
   "source": [
    "tn, _ = cbloq_to_quimb(cbloq)\n",
    "lsoqs = _get_dangling_soquets(cbloq.registers, right=False)\n",
    "rsoqs = _get_dangling_soquets(cbloq.registers, right=True)\n",
    "\n",
    "# Note: the following only works for non-wireshape soquets.\n",
    "rename = {lsoqs[k]: f'{k}_in' for k in lsoqs.keys()}\n",
    "rename |= {rsoqs[k]: f'{k}_out' for k in rsoqs.keys()}\n",
    "tn = tn.reindex(rename)\n",
    "\n",
    "tn.draw(color=['COPY', 'XOR', '0', '+'], show_tags=False, initial_layout='spectral')"
   ]
  },
  {
   "cell_type": "markdown",
   "id": "8846fb21",
   "metadata": {
    "cq.autogen": "_make_Rz.md"
   },
   "source": [
    "## `Rz`\n",
    "Single-qubit Rz gate.\n",
    "\n",
    "#### Parameters\n",
    " - `angle`: Rotation angle.\n",
    " - `eps`: precision for implementation of rotation. \n",
    "\n",
    "Registers:\n",
    "    - q: One-bit register.\n",
    "\n",
    "#### References\n",
    "[Efficient synthesis of universal Repeat-Until-Success circuits](https://arxiv.org/abs/1404.5320), which offers a small improvement [Optimal ancilla-free Clifford+T approximation of z-rotations](https://arxiv.org/pdf/1403.2975.pdf).\n"
   ]
  },
  {
   "cell_type": "code",
   "execution_count": null,
   "id": "82f2d005",
   "metadata": {
    "cq.autogen": "_make_Rz.py"
   },
   "outputs": [],
   "source": [
    "from cirq_qubitization.bloq_algos.basic_gates import Rz\n",
    "\n",
    "bloq = Rz(angle=np.pi / 4.0)\n",
    "show_bloq(bloq)"
   ]
  }
 ],
 "metadata": {
  "kernelspec": {
   "display_name": "Python 3 (ipykernel)",
   "language": "python",
   "name": "python3"
  },
  "language_info": {
   "codemirror_mode": {
    "name": "ipython",
    "version": 3
   },
   "file_extension": ".py",
   "mimetype": "text/x-python",
   "name": "python",
   "nbconvert_exporter": "python",
   "pygments_lexer": "ipython3",
   "version": "3.10.9"
  }
 },
 "nbformat": 4,
 "nbformat_minor": 5
}
