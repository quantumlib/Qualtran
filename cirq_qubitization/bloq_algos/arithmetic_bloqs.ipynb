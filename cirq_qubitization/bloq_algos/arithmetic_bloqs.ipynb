{
 "cells": [
  {
   "cell_type": "markdown",
   "id": "651cece6",
   "metadata": {
    "cq.autogen": "title_cell"
   },
   "source": [
    "# Arithmetic"
   ]
  },
  {
   "cell_type": "code",
   "execution_count": 2,
   "id": "783220f5",
   "metadata": {
    "cq.autogen": "top_imports"
   },
   "outputs": [],
   "source": [
    "import cirq\n",
    "import numpy as np\n",
    "import cirq_qubitization\n",
    "import cirq_qubitization.cirq_infra.testing as cq_testing\n",
    "from cirq_qubitization.jupyter_tools import display_gate_and_compilation, show_bloq\n",
    "from typing import *"
   ]
  },
  {
   "cell_type": "markdown",
   "id": "f8b8b9c2",
   "metadata": {
    "cq.autogen": "_make_add.md"
   },
   "source": [
    "## `Add`\n",
    "An n-bit addition gate.\n",
    "\n",
    "Implements $U|a\\rangle|b\\rangle \\rightarrow |a\\rangle|a+b\\rangle$ using $4n - 4 T$ gates.\n",
    "\n",
    "#### Parameters\n",
    " - `nbits`: Number of bits used to represent each integer. Must be large enough to hold the result in the output register of a + b. \n",
    "\n",
    "Registers:\n",
    " - a: A nbit-sized input register (register a above).\n",
    " - b: A nbit-sized input/ouput register (register b above).\n",
    "\n",
    "References:"
   ]
  },
  {
   "cell_type": "code",
   "execution_count": null,
   "id": "b91000e9",
   "metadata": {
    "cq.autogen": "_make_add.py"
   },
   "outputs": [],
   "source": [
    "from cirq_qubitization.bloq_algos.arithmetic_bloqs import Add\n",
    "\n",
    "bloq = Add(nbits=4)\n",
    "show_bloq(bloq)"
   ]
  },
  {
   "cell_type": "code",
   "execution_count": 27,
   "id": "26372db3",
   "metadata": {},
   "outputs": [],
   "source": [
    "from cirq_qubitization.quantum_graph.composite_bloq import CompositeBloqBuilder\n",
    "bb = CompositeBloqBuilder()\n",
    "nbits = 4\n",
    "q0 = bb.add_register('a', nbits)\n",
    "q1 = bb.add_register('b', nbits)\n",
    "a_s, b_s = bb.add(bloq, a=q0, b=q1)\n",
    "c_s, d_s = bb.add(bloq, a=a_s, b=b_s)\n",
    "cbloq = bb.finalize(a=c_s, b=d_s)\n",
    "show_bloq(bloq)"
   ]
  },
  {
   "cell_type": "code",
   "execution_count": null,
   "id": "ca1fc2c0",
   "metadata": {},
   "outputs": [],
   "source": []
  },
  {
   "cell_type": "markdown",
   "id": "2e673d74",
   "metadata": {
    "cq.autogen": "_make_product.md"
   },
   "source": [
    "## `Product`\n",
    "Compute the product of an `n` an `m` bit integer.\n",
    "\n",
    "Implements $U|a\\rangle|b\\rangle|0\\rangle -\\rightarrow |a\\rangle|b\\rangle|a*b\\rangle$ using $2nm-n Toffolis$.\n",
    "\n",
    "#### Parameters\n",
    " - `nbits`: Number of bits used to represent the first integer.\n",
    " - `mbits`: Number of bits used to represent the second integer. \n",
    "\n",
    "Registers:\n",
    " - a: bit-sized input registers.\n",
    " - b: bit-sized input registers.\n",
    " - result: A nbit-sized ouput register (register b above).\n",
    "\n",
    "#### References\n",
    "[Fault-Tolerant Quantum Simulations of Chemistry in First Quantization](https://arxiv.org/abs/2105.12767) pg 81 give a Toffoli complexity for squaring.\n"
   ]
  },
  {
   "cell_type": "code",
   "execution_count": null,
   "id": "eb8d5306",
   "metadata": {
    "cq.autogen": "_make_product.py"
   },
   "outputs": [],
   "source": [
    "from cirq_qubitization.bloq_algos.arithmetic_bloqs import Product\n",
    "\n",
    "bloq = Product(nbits=4, mbits=6)\n",
    "show_bloq(bloq)"
   ]
  },
  {
   "cell_type": "markdown",
   "id": "9be2d628",
   "metadata": {
    "cq.autogen": "_make_square.md"
   },
   "source": [
    "## `Square`\n",
    "Square an n-bit number.\n",
    "\n",
    "Implements $U|a\\rangle|0\\rangle -\\rightarrow |a\\rangle|a^2\\rangle$ using 4n - 4 T gates.\n",
    "\n",
    "#### Parameters\n",
    " - `nbits`: Number of bits used to represent the integer and . \n",
    "\n",
    "Registers:\n",
    " - a: A nbit-sized input register (register a above).\n",
    " - result: A 2-nbit-sized input/ouput register (register b above).\n",
    "\n",
    "#### References\n",
    "[Fault-Tolerant Quantum Simulations of Chemistry in First Quantization](https://arxiv.org/abs/2105.12767) pg 76 give a Toffoli complexity for squaring.\n"
   ]
  },
  {
   "cell_type": "code",
   "execution_count": null,
   "id": "8b3867c7",
   "metadata": {
    "cq.autogen": "_make_square.py"
   },
   "outputs": [],
   "source": [
    "from cirq_qubitization.bloq_algos.arithmetic_bloqs import Square\n",
    "\n",
    "bloq = Square(nbits=8)\n",
    "show_bloq(bloq)"
   ]
  },
  {
   "cell_type": "markdown",
   "id": "77bbcf8c",
   "metadata": {
    "cq.autogen": "_make_sum_of_squares.md"
   },
   "source": [
    "## `SumOfSquares`\n",
    "Compute the sum of squares of k n-bit numbers.\n",
    "\n",
    "Implements $U|a\\rangle|b\\rangle...|k\\rangle|0\\rangle \\rightarrow |a\\rangle|b\\rangle..|k\\rangle|a^2+b^2+..k^2\\rangle$ using $4 k n^2$ Ts.\n",
    "\n",
    "#### Parameters\n",
    " - `nbits`: Number of bits used to represent each integer. Must be large enough to hold the result in the output register of sum_i i^2. \n",
    "\n",
    "Registers:\n",
    " - inputs: (kn)-bit-sized input registers.\n",
    " - result: A 2*nbit-sized ouput register.\n",
    "\n",
    "#### References\n",
    "[Fault-Tolerant Quantum Simulations of Chemistry in First Quantization](https://arxiv.org/abs/2105.12767) pg 80 give a Toffoli complexity for squaring.\n"
   ]
  },
  {
   "cell_type": "code",
   "execution_count": 4,
   "id": "01fb2a92",
   "metadata": {
    "cq.autogen": "_make_sum_of_squares.py"
   },
   "outputs": [
    {
     "data": {
      "text/plain": [
       "TComplexity(t=992, clifford=0, rotations=0)"
      ]
     },
     "execution_count": 4,
     "metadata": {},
     "output_type": "execute_result"
    }
   ],
   "source": [
    "from cirq_qubitization.bloq_algos.arithmetic_bloqs import SumOfSquares\n",
    "\n",
    "bloq = SumOfSquares(nbits=8, k=4)\n",
    "show_bloq(bloq)"
   ]
  },
  {
   "cell_type": "code",
   "execution_count": null,
   "id": "957b4108",
   "metadata": {},
   "outputs": [],
   "source": []
  }
 ],
 "metadata": {
  "kernelspec": {
   "display_name": "Python 3",
   "language": "python",
   "name": "python3"
  },
  "language_info": {
   "codemirror_mode": {
    "name": "ipython",
    "version": 3
   },
   "file_extension": ".py",
   "mimetype": "text/x-python",
   "name": "python",
   "nbconvert_exporter": "python",
   "pygments_lexer": "ipython3",
   "version": "3.10.9"
  }
 },
 "nbformat": 4,
 "nbformat_minor": 5
}
