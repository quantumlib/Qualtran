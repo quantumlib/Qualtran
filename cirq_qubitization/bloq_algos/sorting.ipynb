{
 "cells": [
  {
   "cell_type": "markdown",
   "id": "60a1531e",
   "metadata": {
    "cq.autogen": "title_cell"
   },
   "source": [
    "# Sorting"
   ]
  },
  {
   "cell_type": "code",
   "execution_count": 1,
   "id": "cf61ba01",
   "metadata": {
    "cq.autogen": "top_imports"
   },
   "outputs": [],
   "source": [
    "import cirq\n",
    "import numpy as np\n",
    "import cirq_qubitization\n",
    "import cirq_qubitization.cirq_infra.testing as cq_testing\n",
    "from cirq_qubitization.jupyter_tools import display_gate_and_compilation, show_bloq\n",
    "from typing import *"
   ]
  },
  {
   "cell_type": "markdown",
   "id": "6a182ade",
   "metadata": {
    "cq.autogen": "_make_comparator.md"
   },
   "source": [
    "## `Comparator`\n",
    "Compare and potentially swaps two n-bit numbers.\n",
    "\n",
    "Implements $U|a\\rangle|b\\rangle|0\\rangle \\rightarrow |\\min(a,b)\\rangle|\\max(a,b)\\rangle|a>b\\rangle$,\n",
    "\n",
    "where $a$ and $b$ are n-qubit quantum registers. On output a and b are\n",
    "potentially swapped if a > b. Forms the base primitive for sorting.\n",
    "\n",
    "#### Parameters\n",
    " - `nbits`: Number of bits used to represent each integer. \n",
    "\n",
    "Registers:\n",
    " - a: A nbit-sized input register (register a above).\n",
    " - b: A nbit-sized input register (register b above).\n",
    " - anc: A nbit-sized input register (register anc above).\n",
    "\n",
    "#### References\n",
    "[Improved techniques for preparing eigenstates of fermionic Hamiltonians](https://www.nature.com/articles/s41534-018-0071-5), Fig. 1 in main text.\n"
   ]
  },
  {
   "cell_type": "code",
   "execution_count": 2,
   "id": "e191ccfe",
   "metadata": {
    "cq.autogen": "_make_comparator.py"
   },
   "outputs": [
    {
     "ename": "NameError",
     "evalue": "name 'Side' is not defined",
     "output_type": "error",
     "traceback": [
      "\u001b[0;31m---------------------------------------------------------------------------\u001b[0m",
      "\u001b[0;31mNameError\u001b[0m                                 Traceback (most recent call last)",
      "Cell \u001b[0;32mIn[2], line 4\u001b[0m\n\u001b[1;32m      1\u001b[0m \u001b[39mfrom\u001b[39;00m \u001b[39mcirq_qubitization\u001b[39;00m\u001b[39m.\u001b[39;00m\u001b[39mbloq_algos\u001b[39;00m\u001b[39m.\u001b[39;00m\u001b[39msorting\u001b[39;00m \u001b[39mimport\u001b[39;00m Comparator\n\u001b[1;32m      3\u001b[0m bloq \u001b[39m=\u001b[39m Comparator(nbits\u001b[39m=\u001b[39m\u001b[39m4\u001b[39m)\n\u001b[0;32m----> 4\u001b[0m show_bloq(bloq)\n",
      "File \u001b[0;32m~/projects/cirq-qubitization/cirq_qubitization/jupyter_tools.py:62\u001b[0m, in \u001b[0;36mshow_bloq\u001b[0;34m(bloq)\u001b[0m\n\u001b[1;32m     61\u001b[0m \u001b[39mdef\u001b[39;00m \u001b[39mshow_bloq\u001b[39m(bloq: Bloq):\n\u001b[0;32m---> 62\u001b[0m     \u001b[39mreturn\u001b[39;00m PrettyGraphDrawer(bloq)\u001b[39m.\u001b[39mget_svg()\n",
      "File \u001b[0;32m~/projects/cirq-qubitization/cirq_qubitization/quantum_graph/graphviz.py:128\u001b[0m, in \u001b[0;36mGraphDrawer.__init__\u001b[0;34m(self, bloq)\u001b[0m\n\u001b[1;32m    127\u001b[0m \u001b[39mdef\u001b[39;00m \u001b[39m__init__\u001b[39m(\u001b[39mself\u001b[39m, bloq: Bloq):\n\u001b[0;32m--> 128\u001b[0m     cbloq \u001b[39m=\u001b[39m bloq\u001b[39m.\u001b[39;49mas_composite_bloq()\n\u001b[1;32m    129\u001b[0m     \u001b[39mself\u001b[39m\u001b[39m.\u001b[39m_cbloq \u001b[39m=\u001b[39m cbloq\n\u001b[1;32m    130\u001b[0m     \u001b[39mself\u001b[39m\u001b[39m.\u001b[39m_binsts \u001b[39m=\u001b[39m cbloq\u001b[39m.\u001b[39mbloq_instances\n",
      "File \u001b[0;32m~/projects/cirq-qubitization/cirq_qubitization/quantum_graph/bloq.py:98\u001b[0m, in \u001b[0;36mBloq.as_composite_bloq\u001b[0;34m(self)\u001b[0m\n\u001b[1;32m     90\u001b[0m \u001b[39m\u001b[39m\u001b[39m\"\"\"Wrap this Bloq into a size-1 CompositeBloq.\u001b[39;00m\n\u001b[1;32m     91\u001b[0m \n\u001b[1;32m     92\u001b[0m \u001b[39mThis method is overriden so if this Bloq is already a CompositeBloq, it will\u001b[39;00m\n\u001b[1;32m     93\u001b[0m \u001b[39mbe returned.\u001b[39;00m\n\u001b[1;32m     94\u001b[0m \u001b[39m\"\"\"\u001b[39;00m\n\u001b[1;32m     95\u001b[0m \u001b[39mfrom\u001b[39;00m \u001b[39mcirq_qubitization\u001b[39;00m\u001b[39m.\u001b[39;00m\u001b[39mquantum_graph\u001b[39;00m\u001b[39m.\u001b[39;00m\u001b[39mcomposite_bloq\u001b[39;00m \u001b[39mimport\u001b[39;00m CompositeBloqBuilder\n\u001b[1;32m     97\u001b[0m bb, initial_soqs \u001b[39m=\u001b[39m CompositeBloqBuilder\u001b[39m.\u001b[39mfrom_registers(\n\u001b[0;32m---> 98\u001b[0m     \u001b[39mself\u001b[39;49m\u001b[39m.\u001b[39;49mregisters, add_registers_allowed\u001b[39m=\u001b[39m\u001b[39mFalse\u001b[39;00m\n\u001b[1;32m     99\u001b[0m )\n\u001b[1;32m    100\u001b[0m ret_soqs_tuple \u001b[39m=\u001b[39m bb\u001b[39m.\u001b[39madd(\u001b[39mself\u001b[39m, \u001b[39m*\u001b[39m\u001b[39m*\u001b[39minitial_soqs)\n\u001b[1;32m    101\u001b[0m \u001b[39massert\u001b[39;00m \u001b[39mlen\u001b[39m(\u001b[39mlist\u001b[39m(\u001b[39mself\u001b[39m\u001b[39m.\u001b[39mregisters\u001b[39m.\u001b[39mrights())) \u001b[39m==\u001b[39m \u001b[39mlen\u001b[39m(ret_soqs_tuple)\n",
      "File \u001b[0;32m~/projects/cirq-qubitization/cirq_qubitization/bloq_algos/sorting.py:41\u001b[0m, in \u001b[0;36mComparator.registers\u001b[0;34m(self)\u001b[0m\n\u001b[1;32m     35\u001b[0m \u001b[39m@property\u001b[39m\n\u001b[1;32m     36\u001b[0m \u001b[39mdef\u001b[39;00m \u001b[39mregisters\u001b[39m(\u001b[39mself\u001b[39m):\n\u001b[1;32m     37\u001b[0m     \u001b[39mreturn\u001b[39;00m FancyRegisters(\n\u001b[1;32m     38\u001b[0m         [\n\u001b[1;32m     39\u001b[0m             FancyRegister(\u001b[39m'\u001b[39m\u001b[39ma\u001b[39m\u001b[39m'\u001b[39m, \u001b[39m1\u001b[39m, wireshape\u001b[39m=\u001b[39m(\u001b[39mself\u001b[39m\u001b[39m.\u001b[39mnbits,)),\n\u001b[1;32m     40\u001b[0m             FancyRegister(\u001b[39m'\u001b[39m\u001b[39mb\u001b[39m\u001b[39m'\u001b[39m, \u001b[39m1\u001b[39m, wireshape\u001b[39m=\u001b[39m(\u001b[39mself\u001b[39m\u001b[39m.\u001b[39mnbits,)),\n\u001b[0;32m---> 41\u001b[0m             FancyRegister(\u001b[39m'\u001b[39m\u001b[39mout\u001b[39m\u001b[39m'\u001b[39m, \u001b[39m1\u001b[39m, side\u001b[39m=\u001b[39mSide\u001b[39m.\u001b[39mRIGHT),\n\u001b[1;32m     42\u001b[0m         ]\n\u001b[1;32m     43\u001b[0m     )\n",
      "\u001b[0;31mNameError\u001b[0m: name 'Side' is not defined"
     ]
    }
   ],
   "source": [
    "from cirq_qubitization.bloq_algos.sorting import Comparator\n",
    "\n",
    "bloq = Comparator(nbits=4)\n",
    "show_bloq(bloq)"
   ]
  },
  {
   "cell_type": "markdown",
   "id": "1e4ba443",
   "metadata": {
    "cq.autogen": "_make_bitonic_sort.md"
   },
   "source": [
    "## `BitonicSort`\n",
    "Sort k n-bit numbers.\n",
    "\n",
    "TODO: actually implement the algorithm using comapritor Hiding ancilla cost\n",
    "    for the moment.\n",
    "\n",
    "#### Parameters\n",
    " - `nbits`: Number of bits used to represent each integer.\n",
    " - `k`: Number of integers to sort. \n",
    "\n",
    "Registers:\n",
    " - input: A nbit-sized input register (register a above).\n",
    " - output: A nbit-sized input register (register a above).\n",
    "\n",
    "References:"
   ]
  },
  {
   "cell_type": "code",
   "execution_count": null,
   "id": "8b54ab12",
   "metadata": {
    "cq.autogen": "_make_bitonic_sort.py"
   },
   "outputs": [],
   "source": [
    "from cirq_qubitization.bloq_algos.sorting import BitonicSort\n",
    "\n",
    "bloq = BitonicSort(nbits=8, k=8)\n",
    "show_bloq(bloq)"
   ]
  }
 ],
 "metadata": {
  "kernelspec": {
   "display_name": "Python 3",
   "language": "python",
   "name": "python3"
  },
  "language_info": {
   "codemirror_mode": {
    "name": "ipython",
    "version": 3
   },
   "file_extension": ".py",
   "mimetype": "text/x-python",
   "name": "python",
   "nbconvert_exporter": "python",
   "pygments_lexer": "ipython3",
   "version": "3.9.16"
  }
 },
 "nbformat": 4,
 "nbformat_minor": 5
}
