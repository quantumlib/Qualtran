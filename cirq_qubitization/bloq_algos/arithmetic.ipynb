{
 "cells": [
  {
   "cell_type": "markdown",
   "id": "40368a5b",
   "metadata": {
    "cq.autogen": "title_cell"
   },
   "source": [
    "# Arithmetic"
   ]
  },
  {
   "cell_type": "code",
   "execution_count": null,
   "id": "410926b9",
   "metadata": {
    "cq.autogen": "top_imports"
   },
   "outputs": [],
   "source": [
    "import cirq\n",
    "import numpy as np\n",
    "import cirq_qubitization\n",
    "import cirq_qubitization.cirq_infra.testing as cq_testing\n",
    "from cirq_qubitization.jupyter_tools import display_gate_and_compilation, show_bloq\n",
    "from typing import *"
   ]
  },
  {
   "cell_type": "markdown",
   "id": "b92171ba",
   "metadata": {
    "cq.autogen": "_make_add.md"
   },
   "source": [
    "## `Add`\n",
    "An n-bit addition gate.\n",
    "\n",
    "Implements $U|a\\rangle|b\\rangle \\rightarrow |a\\rangle|a+b\\rangle$ using $4n - 4 T$ gates.\n",
    "\n",
    "#### Parameters\n",
    " - `nbits`: Number of bits used to represent each integer. Must be large enough to hold the result in the output register of a + b. \n",
    "\n",
    "Registers:\n",
    " - a: A nbit-sized input register (register a above).\n",
    " - b: A nbit-sized input/ouput register (register b above).\n",
    "\n",
    "References:"
   ]
  },
  {
   "cell_type": "code",
   "execution_count": null,
   "id": "f930d4ff",
   "metadata": {
    "cq.autogen": "_make_add.py"
   },
   "outputs": [],
   "source": [
    "from cirq_qubitization.bloq_algos.arithmetic import Add\n",
    "\n",
    "bloq = Add(nbits=4)\n",
    "show_bloq(bloq)"
   ]
  },
  {
   "cell_type": "markdown",
   "id": "3b20c805",
   "metadata": {
    "cq.autogen": "_make_product.md"
   },
   "source": [
    "## `Product`\n",
    "Compute the product of an `n` an `m` bit integer.\n",
    "\n",
    "Implements $U|a\\rangle|b\\rangle|0\\rangle -\\rightarrow\n",
    "|a\\rangle|b\\rangle|ab\\rangle$ using $2nm-n$ Toffolis.\n",
    "\n",
    "#### Parameters\n",
    " - `nbits`: Number of bits used to represent the first integer.\n",
    " - `mbits`: Number of bits used to represent the second integer. \n",
    "\n",
    "Registers:\n",
    " - a: nbit-sized input registers.\n",
    " - b: mbit-sized input registers.\n",
    " - result: A 2nbit-sized ouput register (register b above).\n",
    "\n",
    "#### References\n",
    "[Fault-Tolerant Quantum Simulations of Chemistry in First Quantization](https://arxiv.org/abs/2105.12767) pg 81 give a Toffoli complexity for squaring.\n"
   ]
  },
  {
   "cell_type": "code",
   "execution_count": null,
   "id": "877b583b",
   "metadata": {
    "cq.autogen": "_make_product.py"
   },
   "outputs": [],
   "source": [
    "from cirq_qubitization.bloq_algos.arithmetic import Product\n",
    "\n",
    "bloq = Product(nbits=4, mbits=6)\n",
    "show_bloq(bloq)"
   ]
  },
  {
   "cell_type": "markdown",
   "id": "f50caf16",
   "metadata": {
    "cq.autogen": "_make_square.md"
   },
   "source": [
    "## `Square`\n",
    "Square an n-bit number.\n",
    "\n",
    "Implements $U|a\\rangle|0\\rangle -\\rightarrow |a\\rangle|a^2\\rangle$ using $4n - 4 T$ gates.\n",
    "\n",
    "#### Parameters\n",
    " - `nbits`: Number of bits used to represent the integer and . \n",
    "\n",
    "Registers:\n",
    " - a: A nbit-sized input register (register a above).\n",
    " - result: A 2-nbit-sized input/ouput register.\n",
    "\n",
    "#### References\n",
    "[Fault-Tolerant Quantum Simulations of Chemistry in First Quantization](https://arxiv.org/abs/2105.12767) pg 76 give a Toffoli complexity for squaring.\n"
   ]
  },
  {
   "cell_type": "code",
   "execution_count": null,
   "id": "633eb3ba",
   "metadata": {
    "cq.autogen": "_make_square.py"
   },
   "outputs": [],
   "source": [
    "from cirq_qubitization.bloq_algos.arithmetic import Square\n",
    "\n",
    "bloq = Square(nbits=8)\n",
    "show_bloq(bloq)"
   ]
  },
  {
   "cell_type": "markdown",
   "id": "18e2cca7",
   "metadata": {
    "cq.autogen": "_make_sum_of_squares.md"
   },
   "source": [
    "## `SumOfSquares`\n",
    "Compute the sum of squares of k n-bit numbers.\n",
    "\n",
    "Implements $U|a\\rangle|b\\rangle...|k\\rangle|0\\rangle \\rightarrow |a\\rangle|b\\rangle..|k\\rangle|a^2+b^2+..k^2\\rangle$ using $4 k n^2$ Ts.\n",
    "\n",
    "#### Parameters\n",
    " - `nbits`: Number of bits used to represent each of the k integers. \n",
    "\n",
    "Registers:\n",
    " - a_k: k n-bit registers.\n",
    " - result: 2 * nbits + 1 sized output register.\n",
    "\n",
    "#### References\n",
    "[Fault-Tolerant Quantum Simulations of Chemistry in First Quantization](https://arxiv.org/abs/2105.12767) pg 80 give a Toffoli complexity for squaring.\n"
   ]
  },
  {
   "cell_type": "code",
   "execution_count": null,
   "id": "95d0069d",
   "metadata": {
    "cq.autogen": "_make_sum_of_squares.py"
   },
   "outputs": [],
   "source": [
    "from cirq_qubitization.bloq_algos.arithmetic import SumOfSquares\n",
    "\n",
    "bloq = SumOfSquares(nbits=8, k=4)\n",
    "show_bloq(bloq)"
   ]
  }
 ],
 "metadata": {
  "kernelspec": {
   "display_name": "Python 3",
   "language": "python",
   "name": "python3"
  },
  "language_info": {
   "name": "python"
  }
 },
 "nbformat": 4,
 "nbformat_minor": 5
}
