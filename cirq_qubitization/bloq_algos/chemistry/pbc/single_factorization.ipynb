{
 "cells": [
  {
   "attachments": {},
   "cell_type": "markdown",
   "id": "563277de",
   "metadata": {
    "cq.autogen": "title_cell"
   },
   "source": [
    "# Bloch-orbital Single Factorization "
   ]
  },
  {
   "cell_type": "code",
   "execution_count": null,
   "id": "508d1cfb",
   "metadata": {},
   "outputs": [],
   "source": [
    "from cirq_qubitization.quantum_graph.bloq_counts import get_bloq_counts_graph, print_counts_graph, \\\n",
    "    GraphvizCounts, markdown_bloq_expr, markdown_counts_graph, SympySymbolAllocator\n",
    "\n",
    "from cirq_qubitization.bloq_algos.chemistry.pbc import SingleFactorization\n",
    "\n",
    "\n",
    "bloq = SingleFactorization(l_bitsize=4, k_bitsize=2, p_bitsize=2, target_bitsize=3)\n",
    "graph, sigma = get_bloq_counts_graph(bloq, generalizer=bloq.canon)\n",
    "GraphvizCounts(graph).get_svg()"
   ]
  },
  {
   "cell_type": "code",
   "execution_count": null,
   "id": "de35c32a",
   "metadata": {},
   "outputs": [],
   "source": [
    "from cirq_qubitization.jupyter_tools import show_bloq\n",
    "from cirq_qubitization.bloq_algos.chemistry.pbc import SingleFactorization\n",
    "show_bloq(SingleFactorization(l_bitsize=4, k_bitsize=2, p_bitsize=2, target_bitsize=3).decompose_bloq())"
   ]
  }
 ],
 "metadata": {
  "kernelspec": {
   "display_name": "Python 3",
   "language": "python",
   "name": "python3"
  },
  "language_info": {
   "codemirror_mode": {
    "name": "ipython",
    "version": 3
   },
   "file_extension": ".py",
   "mimetype": "text/x-python",
   "name": "python",
   "nbconvert_exporter": "python",
   "pygments_lexer": "ipython3",
   "version": "3.11.2"
  }
 },
 "nbformat": 4,
 "nbformat_minor": 5
}
