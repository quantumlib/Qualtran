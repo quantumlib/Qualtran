{
 "cells": [
  {
   "cell_type": "markdown",
   "id": "5dd2cc96",
   "metadata": {},
   "source": [
    "# Cirq Conversion\n",
    "\n",
    "We provide `CirqGate` and `cirq_circuit_to_cbloq` to support translating Cirq gates and circuits into bloqs and composite bloqs. `CirqGate` uses the cirq \"calling convention\" of one thru-register composted of a 1d array of qubits."
   ]
  },
  {
   "cell_type": "code",
   "execution_count": null,
   "id": "02cb4281",
   "metadata": {},
   "outputs": [],
   "source": [
    "import cirq\n",
    "\n",
    "from cirq_qubitization.jupyter_tools import show_bloq\n",
    "from cirq_qubitization.quantum_graph.cirq_conversion import CirqGate\n",
    "\n",
    "cg = CirqGate(cirq.CNOT)\n",
    "cg"
   ]
  },
  {
   "cell_type": "code",
   "execution_count": null,
   "id": "8ba385b0",
   "metadata": {},
   "outputs": [],
   "source": [
    "show_bloq(cg)"
   ]
  },
  {
   "cell_type": "markdown",
   "id": "847b01e7",
   "metadata": {},
   "source": [
    "### `cirq_circuit_to_cbloq`\n",
    "\n",
    "A Cirq circuit can be converted to a composite bloq by wrapping each operation with `CirqGate`. "
   ]
  },
  {
   "cell_type": "code",
   "execution_count": null,
   "id": "3fa0b8e9",
   "metadata": {},
   "outputs": [],
   "source": [
    "from cirq_qubitization.quantum_graph.cirq_conversion import cirq_circuit_to_cbloq\n",
    "\n",
    "qubits = cirq.LineQubit.range(4)\n",
    "circuit = cirq.testing.random_circuit(qubits, n_moments=5, op_density=1.0, random_state=52)\n",
    "cbloq = cirq_circuit_to_cbloq(circuit)\n",
    "\n",
    "print(circuit)\n",
    "show_bloq(cbloq)"
   ]
  },
  {
   "cell_type": "markdown",
   "id": "5d9997f4",
   "metadata": {},
   "source": [
    "### Unitaries\n",
    "\n",
    "Both containers support numerical contraction to a dense unitary matrix. Cirq contracts operations into a large identity matrix \"in order\". Bloqs use `quimb` to find a good contraction ordering and perform the contraction. "
   ]
  },
  {
   "cell_type": "code",
   "execution_count": null,
   "id": "85a40f2a",
   "metadata": {},
   "outputs": [],
   "source": [
    "import numpy as np\n",
    "\n",
    "bloq_unitary = cbloq.tensor_contract()\n",
    "cirq_unitary = circuit.unitary(qubits)\n",
    "np.testing.assert_allclose(cirq_unitary, bloq_unitary, atol=1e-8)"
   ]
  },
  {
   "cell_type": "markdown",
   "id": "2fe60767",
   "metadata": {},
   "source": [
    "### Back to `cirq.Circuit`"
   ]
  },
  {
   "cell_type": "code",
   "execution_count": null,
   "id": "97be35a3",
   "metadata": {},
   "outputs": [],
   "source": [
    "# Note: a 1d `wireshape` bloq register is actually two-dimensional in cirq-world\n",
    "# because of the implicit `bitsize` dimension (which must be explicit in cirq-world).\n",
    "# CirqGate has registers of bitsize=1 and wireshape=(n,); hence the list transpose below.\n",
    "circuit2 = cbloq.to_cirq_circuit(qubits=[[q] for q in qubits])\n",
    "circuit2"
   ]
  },
  {
   "cell_type": "code",
   "execution_count": null,
   "id": "f95dbe1d",
   "metadata": {},
   "outputs": [],
   "source": [
    "# We lose the moment structure during the roundtrip.\n",
    "circuit == circuit2"
   ]
  },
  {
   "cell_type": "code",
   "execution_count": null,
   "id": "ce93a502",
   "metadata": {},
   "outputs": [],
   "source": [
    "# But the left-aligned `circuit` is recovered.\n",
    "cirq.Circuit(circuit.all_operations()) == circuit2"
   ]
  }
 ],
 "metadata": {
  "kernelspec": {
   "display_name": "Python 3 (ipykernel)",
   "language": "python",
   "name": "python3"
  },
  "language_info": {
   "codemirror_mode": {
    "name": "ipython",
    "version": 3
   },
   "file_extension": ".py",
   "mimetype": "text/x-python",
   "name": "python",
   "nbconvert_exporter": "python",
   "pygments_lexer": "ipython3",
   "version": "3.10.9"
  }
 },
 "nbformat": 4,
 "nbformat_minor": 5
}
