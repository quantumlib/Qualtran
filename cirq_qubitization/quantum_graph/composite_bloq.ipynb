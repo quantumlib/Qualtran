{
 "cells": [
  {
   "cell_type": "markdown",
   "id": "05449ec7",
   "metadata": {},
   "source": [
    "# Composite Bloq\n",
    "`CompositeBloq` is our primary container class for writing quantum programs. \n",
    "\n",
    "The `Bloq` interface describes a black-box quantum operation that guarantees certain input and output registers and can be annotated with known quantities (like resource counts). A special type of `Bloq` is `CompositeBloq`. Instead of having its own name, attributes, resource counts, and others, it is a container class that is simply a collection of sub-bloqs. Specifically, it encodes a graph where we not only include the sub-bloqs but which outputs are connected to which inputs. "
   ]
  },
  {
   "cell_type": "code",
   "execution_count": null,
   "id": "349bfe0b",
   "metadata": {},
   "outputs": [],
   "source": [
    "from typing import *\n",
    "import numpy as np"
   ]
  },
  {
   "cell_type": "markdown",
   "id": "8c45e8e7",
   "metadata": {},
   "source": [
    "## Bloq Builder\n",
    "Let's see how we can take an example `Bloq`, create two instances of them, and wire them up in two different ways."
   ]
  },
  {
   "cell_type": "code",
   "execution_count": null,
   "id": "e29954b1",
   "metadata": {},
   "outputs": [],
   "source": [
    "from cirq_qubitization.quantum_graph.bloq import Bloq\n",
    "from cirq_qubitization.quantum_graph.composite_bloq import CompositeBloqBuilder, SoquetT\n",
    "from cirq_qubitization.quantum_graph.fancy_registers import FancyRegisters\n",
    "from cirq_qubitization.jupyter_tools import show_bloq\n",
    "\n",
    "# An example Bloq:\n",
    "from cirq_qubitization.quantum_graph.bloq_test import TestCNOT\n",
    "bloq = TestCNOT()\n",
    "\n",
    "# Wire up (way 1)\n",
    "bb = CompositeBloqBuilder()\n",
    "q0 = bb.add_register('q0', 1)\n",
    "q1 = bb.add_register('q1', 1)\n",
    "q0, q1 = bb.add(bloq, control=q0, target=q1)\n",
    "q0, q1 = bb.add(bloq, control=q0, target=q1)\n",
    "cbloq = bb.finalize(q0=q0, q1=q1)\n",
    "show_bloq(cbloq)"
   ]
  },
  {
   "cell_type": "code",
   "execution_count": null,
   "id": "24f8a064",
   "metadata": {},
   "outputs": [],
   "source": [
    "# Wire up (way 2)\n",
    "bb = CompositeBloqBuilder()\n",
    "q0 = bb.add_register('q0', 1)\n",
    "q1 = bb.add_register('q1', 1)\n",
    "q0, q1 = bb.add(bloq, control=q0, target=q1)\n",
    "q0, q1 = bb.add(bloq, control=q1, target=q0) ## !!\n",
    "cbloq = bb.finalize(q0=q0, q1=q1)\n",
    "show_bloq(cbloq)"
   ]
  },
  {
   "cell_type": "markdown",
   "id": "d2ad60d8",
   "metadata": {},
   "source": [
    "We declare our external-facing registers to be named `q0` and `q1`. By choice, we likewise name our quantum variables `q0` and `q1` throughout, pass them as keyword arguments to `add`, and receive *new* quantum variables to which we re-assign the names `q0` and `q1`.\n",
    "\n",
    "In the highlighted line in \"way 2\", we use the control output from the first bloq instance as the `target` input to the second bloq instance (causing the crossing of lines in the diagram). We still bind the output of the second `control` register to the composite bloq's `q0` register."
   ]
  },
  {
   "cell_type": "markdown",
   "id": "e4799ca4",
   "metadata": {},
   "source": [
    "## Decompose Bloq\n",
    "\n",
    "You can direcly contruct composite bloqs using `CompositeBloqBuilder` per above. The other main use of composite bloqs is the return type of `Bloq.decompose_bloq()`. When defining a bloq, you can provide its decomposition by overriding the `build_composite_bloq` method. In this case, the bloq builder and registers are set up for you and you just need to add the operations."
   ]
  },
  {
   "cell_type": "code",
   "execution_count": null,
   "id": "dbb82c20",
   "metadata": {},
   "outputs": [],
   "source": [
    "class TestTwoCNOT(Bloq):\n",
    "    @property\n",
    "    def registers(self) -> FancyRegisters:\n",
    "        return FancyRegisters.build(q1=1, q2=1)\n",
    "\n",
    "    def build_composite_bloq(\n",
    "        self, bb: 'CompositeBloqBuilder', q1: 'Soquet', q2: 'Soquet'\n",
    "    ) -> Dict[str, SoquetT]:\n",
    "        q1, q2 = bb.add(TestCNOT(), control=q1, target=q2)\n",
    "        q1, q2 = bb.add(TestCNOT(), control=q2, target=q1)\n",
    "        return {'q1': q1, 'q2': q2}"
   ]
  },
  {
   "cell_type": "code",
   "execution_count": null,
   "id": "e42a9427",
   "metadata": {},
   "outputs": [],
   "source": [
    "show_bloq(TestTwoCNOT())"
   ]
  },
  {
   "cell_type": "code",
   "execution_count": null,
   "id": "1a0a27f7",
   "metadata": {},
   "outputs": [],
   "source": [
    "show_bloq(TestTwoCNOT().decompose_bloq())"
   ]
  },
  {
   "cell_type": "markdown",
   "id": "bc6aaee0",
   "metadata": {},
   "source": [
    "## Debug Text\n",
    "\n",
    "The graph structure is most easily viewed as a diagram, but composite bloqs also expose a textual description where each sub-bloq instance is printed in topologically-sorted order. Below each subbloq, the incoming (left) and outgoing (right) connections are printed."
   ]
  },
  {
   "cell_type": "code",
   "execution_count": null,
   "id": "a30d25cf",
   "metadata": {},
   "outputs": [],
   "source": [
    "print(cbloq.debug_text())"
   ]
  },
  {
   "cell_type": "markdown",
   "id": "f459c4c2",
   "metadata": {},
   "source": [
    "## Iter Bloqnections\n",
    "\n",
    "It can be useful to iterate over the graph in this form: namely bloq instances along with their predecessor and successor connections. Using `composite_bloq.iter_bloqnections()` we can quickly sketch a simple implementation of `debug_text()`. "
   ]
  },
  {
   "cell_type": "code",
   "execution_count": null,
   "id": "39fa2b6f",
   "metadata": {},
   "outputs": [],
   "source": [
    "for binst, pred_cxns, succ_cxns in cbloq.iter_bloqnections():\n",
    "    print(binst)\n",
    "    for pred in pred_cxns:\n",
    "        print('  ', pred.left, '->', pred.right)\n",
    "    for succ in succ_cxns:\n",
    "        print('  ', succ.left, '->', succ.right)"
   ]
  },
  {
   "cell_type": "markdown",
   "id": "89de30b3",
   "metadata": {},
   "source": [
    "## Copy\n",
    "\n",
    "We can perform a copy of a composite bloq, which will produce a new composite bloq whose bloq instances are different. This is an incredibly uninteresting operation in the abstract because CompositeBloqs are immutable. However, you can inspect the `copy` code to see how it forms the basis for more interesting copy-with-modification methods discussed later."
   ]
  },
  {
   "cell_type": "code",
   "execution_count": null,
   "id": "69e8f297",
   "metadata": {},
   "outputs": [],
   "source": [
    "from cirq_qubitization.quantum_graph.composite_bloq_test import Atom, TestSerialBloq, TestParallelBloq\n",
    "\n",
    "cbloq = TestParallelBloq().decompose_bloq()\n",
    "cbloq2 = cbloq.copy()\n",
    "\n",
    "# They're the same!\n",
    "display(show_bloq(cbloq))\n",
    "display(show_bloq(cbloq2))"
   ]
  },
  {
   "cell_type": "markdown",
   "id": "66eb76b2",
   "metadata": {},
   "source": [
    "To try to show that something is actually happening, we use the following monkey-patching code to override `BloqBuilder`'s internal counter for numbering bloq instances so the copied version has different indices."
   ]
  },
  {
   "cell_type": "code",
   "execution_count": null,
   "id": "5a6588c7",
   "metadata": {},
   "outputs": [],
   "source": [
    "from contextlib import contextmanager\n",
    "\n",
    "@contextmanager\n",
    "def hacked_bb_init():\n",
    "    # monkey-patch BloqBuilder to offset the bloq instance counter.\n",
    "    \n",
    "    old_bb_init_method = CompositeBloqBuilder.__init__\n",
    "    \n",
    "    def _new_init(self, *args, **kwargs):\n",
    "        old_bb_init_method(self, *args, **kwargs)\n",
    "        self._i = 100\n",
    "\n",
    "    try:\n",
    "        CompositeBloqBuilder.__init__ = _new_init\n",
    "        yield\n",
    "    finally:\n",
    "        CompositeBloqBuilder.__init__ = old_bb_init_method"
   ]
  },
  {
   "cell_type": "markdown",
   "id": "c173c59c",
   "metadata": {},
   "source": [
    "Now when we iterate through the original cbloq's connections and the copy's, we see that the connectivity is the same but the bloq instance indices are different."
   ]
  },
  {
   "cell_type": "code",
   "execution_count": null,
   "id": "f89bd793",
   "metadata": {},
   "outputs": [],
   "source": [
    "cbloq = TestParallelBloq().decompose_bloq()\n",
    "\n",
    "with hacked_bb_init():\n",
    "    cbloq2 = cbloq.copy()\n",
    "\n",
    "for cxn1, cxn2 in zip(cbloq.connections, cbloq2.connections):\n",
    "    print(cxn1)\n",
    "    print(cxn2)\n",
    "    print()"
   ]
  },
  {
   "cell_type": "markdown",
   "id": "9ea7f75c",
   "metadata": {},
   "source": [
    "## Iter Bloqsoqs\n",
    "\n",
    "Under the hood of `CompositeBloq.copy()` and many of the methods that follow use `CompositeBloq.iter_bloqsoqs()` in coordination with `map_soqs` to iterate over the contents of a composite bloq in a form suitable for making a copy (optionally with modification). We reproduce the code used to implement `copy`."
   ]
  },
  {
   "cell_type": "code",
   "execution_count": null,
   "id": "f0e239cc",
   "metadata": {},
   "outputs": [],
   "source": [
    "from cirq_qubitization.quantum_graph.composite_bloq import map_soqs\n",
    "\n",
    "# Start a new CompositeBloqBuilder to build up our copy\n",
    "bb, _ = CompositeBloqBuilder.from_registers(cbloq.registers)\n",
    "\n",
    "# We'll have to \"map\" the soquets from our template cbloq to our new one\n",
    "soq_map: List[Tuple[SoquetT, SoquetT]] = []\n",
    "    \n",
    "# Iteration yields each bloq instance as well as its input and output soquets.\n",
    "for binst, in_soqs, old_out_soqs in cbloq.iter_bloqsoqs():\n",
    "    # We perform the mapping\n",
    "    in_soqs = map_soqs(in_soqs, soq_map)\n",
    "    \n",
    "    # Optional modification can go here!\n",
    "    # We add a new bloq instance based on the template cbloq\n",
    "    new_out_soqs = bb.add(binst.bloq, **in_soqs)\n",
    "    \n",
    "    # We are responsible for updating the mapping from old soquets (provided\n",
    "    # to us) with our new soquets obtained from the bloq builder.\n",
    "    soq_map.extend(zip(old_out_soqs, new_out_soqs))\n",
    "\n",
    "# We finalize the new builder with a mapped version of the final,\n",
    "# right-dangling soquets.\n",
    "fsoqs = map_soqs(cbloq.final_soqs(), soq_map)\n",
    "copy = bb.finalize(**fsoqs)\n",
    "copy"
   ]
  },
  {
   "cell_type": "markdown",
   "id": "30f58a94",
   "metadata": {},
   "source": [
    "## Add from\n",
    "\n",
    "We can use `bb.add_from` to add all the contents of a composite bloq to the current bloq-under-construction. This has the effect of flattening one level of structure during bloq construction. In the following cells, we connect `TestParallelBloq`s serially but vary when we call `bb.add` vs `bb.add_from`."
   ]
  },
  {
   "cell_type": "code",
   "execution_count": null,
   "id": "1eb73c5a",
   "metadata": {},
   "outputs": [],
   "source": [
    "# Just call add\n",
    "bb = CompositeBloqBuilder()\n",
    "stuff = bb.add_register('stuff', 3)\n",
    "stuff, = bb.add(TestParallelBloq(), stuff=stuff)\n",
    "stuff, = bb.add(TestParallelBloq(), stuff=stuff)\n",
    "bloq = bb.finalize(stuff=stuff)\n",
    "show_bloq(bloq)"
   ]
  },
  {
   "cell_type": "code",
   "execution_count": null,
   "id": "e09081cb",
   "metadata": {},
   "outputs": [],
   "source": [
    "# `add_from` on second one\n",
    "bb = CompositeBloqBuilder()\n",
    "stuff = bb.add_register('stuff', 3)\n",
    "stuff, = bb.add(TestParallelBloq(), stuff=stuff)\n",
    "stuff, = bb.add_from(TestParallelBloq(), stuff=stuff)\n",
    "bloq = bb.finalize(stuff=stuff)\n",
    "\n",
    "show_bloq(bloq)"
   ]
  },
  {
   "cell_type": "code",
   "execution_count": null,
   "id": "7700066e",
   "metadata": {},
   "outputs": [],
   "source": [
    "# `add_from` on first one\n",
    "bb = CompositeBloqBuilder()\n",
    "stuff = bb.add_register('stuff', 3)\n",
    "stuff, = bb.add_from(TestParallelBloq(), stuff=stuff)\n",
    "stuff, = bb.add(TestParallelBloq(), stuff=stuff)\n",
    "bloq = bb.finalize(stuff=stuff)\n",
    "\n",
    "show_bloq(bloq)"
   ]
  },
  {
   "cell_type": "code",
   "execution_count": null,
   "id": "6ad6a5c0",
   "metadata": {},
   "outputs": [],
   "source": [
    "# `add_from` on middle one\n",
    "bb = CompositeBloqBuilder()\n",
    "stuff = bb.add_register('stuff', 3)\n",
    "stuff, = bb.add(TestParallelBloq(), stuff=stuff)\n",
    "stuff, = bb.add_from(TestParallelBloq().decompose_bloq(), stuff=stuff)\n",
    "stuff, = bb.add(TestParallelBloq(), stuff=stuff)\n",
    "\n",
    "bloq = bb.finalize(stuff=stuff)\n",
    "show_bloq(bloq)"
   ]
  },
  {
   "cell_type": "markdown",
   "id": "180029ee",
   "metadata": {},
   "source": [
    "## Controlled\n",
    "\n",
    "`ControlledBloq(subbloq)` represents a controlled version of `subbloq`. Its decompose method will call `subbloq`'s decompose and wrap each of the child bloqs in `ControlledBloq`."
   ]
  },
  {
   "cell_type": "code",
   "execution_count": null,
   "id": "6255dcc4",
   "metadata": {},
   "outputs": [],
   "source": [
    "from cirq_qubitization.quantum_graph.meta_bloq import ControlledBloq\n",
    "\n",
    "bloq = ControlledBloq(subbloq=Atom())\n",
    "show_bloq(bloq)"
   ]
  },
  {
   "cell_type": "markdown",
   "id": "823d4b6a",
   "metadata": {},
   "source": [
    "### Controlled Serial Bloq"
   ]
  },
  {
   "cell_type": "code",
   "execution_count": null,
   "id": "495fe2d4",
   "metadata": {},
   "outputs": [],
   "source": [
    "bloq = ControlledBloq(subbloq=TestSerialBloq())\n",
    "display(show_bloq(bloq))\n",
    "display(show_bloq(bloq.decompose_bloq()))\n"
   ]
  },
  {
   "cell_type": "markdown",
   "id": "74e0d0ab",
   "metadata": {},
   "source": [
    "### Controlled Parallel Bloq"
   ]
  },
  {
   "cell_type": "code",
   "execution_count": null,
   "id": "8fdcd64d",
   "metadata": {
    "scrolled": false
   },
   "outputs": [],
   "source": [
    "bloq = ControlledBloq(subbloq=TestParallelBloq())\n",
    "display(show_bloq(bloq))\n",
    "display(show_bloq(bloq.decompose_bloq()))"
   ]
  }
 ],
 "metadata": {
  "kernelspec": {
   "display_name": "Python 3 (ipykernel)",
   "language": "python",
   "name": "python3"
  },
  "language_info": {
   "codemirror_mode": {
    "name": "ipython",
    "version": 3
   },
   "file_extension": ".py",
   "mimetype": "text/x-python",
   "name": "python",
   "nbconvert_exporter": "python",
   "pygments_lexer": "ipython3",
   "version": "3.10.9"
  }
 },
 "nbformat": 4,
 "nbformat_minor": 5
}
