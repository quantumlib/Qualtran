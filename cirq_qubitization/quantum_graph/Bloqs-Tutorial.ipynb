{
 "cells": [
  {
   "cell_type": "markdown",
   "id": "9640a40f",
   "metadata": {},
   "source": [
    "# Bloqs\n",
    "\n",
    "Bloqs lets you represent high-level quantum programs and subroutines as a hierarchical\n",
    "collection of Python objects. The main interface is the `Bloq` abstract base class."
   ]
  },
  {
   "cell_type": "code",
   "execution_count": null,
   "id": "37c9b7ce",
   "metadata": {},
   "outputs": [],
   "source": [
    "import abc\n",
    "from typing import *\n",
    "\n",
    "\n",
    "class Bloq(metaclass=abc.ABCMeta):\n",
    "    ..."
   ]
  },
  {
   "cell_type": "markdown",
   "id": "7a3d76e5",
   "metadata": {},
   "source": [
    "## Basics\n",
    "\n",
    "There are two important flavors of implementations of the `Bloq` interface. The first flavor\n",
    "consists of bloqs implemented by you, the user-developer to express quantum operations of\n",
    "interest. For example:"
   ]
  },
  {
   "cell_type": "code",
   "execution_count": null,
   "id": "4aaf9451",
   "metadata": {},
   "outputs": [],
   "source": [
    "class ShorsAlgorithm(Bloq):\n",
    "    ..."
   ]
  },
  {
   "cell_type": "markdown",
   "id": "9b504f60",
   "metadata": {},
   "source": [
    "The other important `Bloq` subclass is `CompositeBloq`, which is a container type for a\n",
    "collection of sub-bloqs. We'll investigate this class more later. First, let's define a\n",
    "bloq for a simple quantum operation: the controlled-not (CNOT)."
   ]
  },
  {
   "cell_type": "code",
   "execution_count": null,
   "id": "114b1560",
   "metadata": {},
   "outputs": [],
   "source": [
    "class CNOT(Bloq):\n",
    "    ..."
   ]
  },
  {
   "cell_type": "markdown",
   "id": "c632807b",
   "metadata": {},
   "source": [
    "There is only one mandatory method we must implement to have a well-formed `Bloq`. There\n",
    "are many other methods we can optionally implement to encode more information about the\n",
    "bloq, which we will add as we go along.\n",
    "\n",
    "The mandatory method is the `Bloq.registers` property. This declares what the inputs and\n",
    "outputs are for our bloq. In particular, we declare a name and type information for each\n",
    "quantum \"register\" on which the bloq operates. This property can be thought of as analogous\n",
    "to the function signature in ordinary programming. For example, it is analogous to function\n",
    "declarations in a C header (`*.h`) file.\n",
    "\n",
    "Concretely, we return a list of `FancyRegister` objects, each of which corresponds to a named\n",
    "register."
   ]
  },
  {
   "cell_type": "code",
   "execution_count": null,
   "id": "22d8749d",
   "metadata": {},
   "outputs": [],
   "source": [
    "from cirq_qubitization.quantum_graph.fancy_registers import FancyRegister\n",
    "\n",
    "FancyRegister('control', bitsize=1)"
   ]
  },
  {
   "cell_type": "markdown",
   "id": "11e163ca",
   "metadata": {},
   "source": [
    "The above declares a register named \"control\" with a size of 1. We'll return this as well\n",
    "as a register for the \"target\" input/output of the CNOT bloq wrapped in the `FancyRegisters`\n",
    "container.\n",
    "\n",
    "<div class=\"alert alert-block alert-warning\">The two classes are named <code>FancyRegister</code> and\n",
    "    <code>FancyRegisters</code> (note the additional s). They are (temporarily) \"fancy\" to disambiguate\n",
    "    them from <code>cirq_qubitization.cirq_infra.registers.Register</code>. The additional wireshape and side\n",
    "    attributes will be covered later.\n",
    "</div>"
   ]
  },
  {
   "cell_type": "code",
   "execution_count": null,
   "id": "34a159c4",
   "metadata": {},
   "outputs": [],
   "source": [
    "import attrs\n",
    "from cirq_qubitization.quantum_graph.bloq import Bloq\n",
    "from cirq_qubitization.quantum_graph.fancy_registers import FancyRegisters\n",
    "\n",
    "@attrs.frozen\n",
    "class CNOT(Bloq):\n",
    "    @property\n",
    "    def registers(self):\n",
    "        return FancyRegisters([\n",
    "            FancyRegister('control', bitsize=1),\n",
    "            FancyRegister('target', bitsize=1),\n",
    "        ])"
   ]
  },
  {
   "cell_type": "markdown",
   "id": "8533a7f5",
   "metadata": {},
   "source": [
    "We now have a well-formed bloq. We can instantiate it and visualize it."
   ]
  },
  {
   "cell_type": "code",
   "execution_count": null,
   "id": "5cec9aff",
   "metadata": {},
   "outputs": [],
   "source": [
    "from cirq_qubitization.jupyter_tools import show_bloq\n",
    "\n",
    "cnot = CNOT()\n",
    "show_bloq(cnot)"
   ]
  },
  {
   "cell_type": "markdown",
   "id": "da9baea0",
   "metadata": {},
   "source": [
    "This is the absolute minimum amount of information needed to define a Bloq: a name (i.e.\n",
    "the class name) and a `registers` property.\n",
    "\n",
    "<div class=\"alert alert-block alert-warning\">If you're familiar with Cirq, you can consider\n",
    "a `cirq.Gate` to be analogous to a `Bloq` with one register named \"qubits\" of size `n`. In\n",
    "fact, `cirq_qubitization.quantum_graph.cirq_gate.CirqGate` lets you wrap any Cirq gate in\n",
    "this way.</div>"
   ]
  },
  {
   "cell_type": "markdown",
   "id": "9b36a23d",
   "metadata": {},
   "source": [
    "## Decomposing Bloqs\n",
    "\n",
    "As you can probably guess, such a simple block-box model of an operation has limited utility.\n",
    "We now turn our attention to a second bloq: SWAP -- which we will define in terms of its\n",
    "decomposition into three CNOTs."
   ]
  },
  {
   "cell_type": "code",
   "execution_count": null,
   "id": "c2bf35bf",
   "metadata": {},
   "outputs": [],
   "source": [
    "class SwapTwoBits(Bloq):\n",
    "    ..."
   ]
  },
  {
   "cell_type": "markdown",
   "id": "1bdf983c",
   "metadata": {},
   "source": [
    "As before, we must define the function signature by naming and sizing the registers on\n",
    "which it operates. We'll implement a bloq that swaps two (qu)bits. We'll name the arguments\n",
    "`x` and `y`, but you have some creative freedom with these choices.\n",
    "\n",
    "<div class=\"alert alert-block alert-info\">We've been filling in the `name` and `bitsize`\n",
    "attributes for our registers. The other two attributes are for more advanced usage and\n",
    "will be covered later. For these simple cases, we could use the convenience method\n",
    "`FancyRegisters.build(x=1, y=1)` for the same object.</div>"
   ]
  },
  {
   "cell_type": "code",
   "execution_count": null,
   "id": "9e548b5f",
   "metadata": {},
   "outputs": [],
   "source": [
    "class SwapTwoBits(Bloq):\n",
    "    @property\n",
    "    def registers(self):\n",
    "        return FancyRegisters([\n",
    "            FancyRegister('x', 1),\n",
    "            FancyRegister('y', 1),\n",
    "        ])"
   ]
  },
  {
   "cell_type": "markdown",
   "id": "54bf8781",
   "metadata": {},
   "source": [
    "Now, for the moment you've been waiting for. We can define the implementation of SWAP in terms\n",
    "of sub-operations. `Bloq.decompose_bloq()` will decompose a bloq into its component parts.\n",
    "The return type of this operation is `CompositeBloq` -- our bloq container type which itself\n",
    "follows the `Bloq` interface.\n",
    "\n",
    "Instead of overriding `decompose_bloq()` directly, we override `build_composite_bloq`, which\n",
    "makes it easier for you, the user-developer, to write decompositions."
   ]
  },
  {
   "cell_type": "code",
   "execution_count": null,
   "id": "305ad1ed",
   "metadata": {},
   "outputs": [],
   "source": [
    "from cirq_qubitization.quantum_graph.composite_bloq import CompositeBloqBuilder\n",
    "\n",
    "class SwapTwoBits(Bloq):\n",
    "    ...\n",
    "\n",
    "    def build_composite_bloq(self, bb: 'CompositeBloqBuilder', *, x, y):\n",
    "        ..."
   ]
  },
  {
   "cell_type": "markdown",
   "id": "dfdfc199",
   "metadata": {},
   "source": [
    "The bloqs infrastructure will pass in keyword arguments for each of the input registers,\n",
    "here `x` and `y`. I stress that these names must match the names of the registers declared\n",
    "in the `.registers` property. The infrastructure also passes in a `CompositeBloqBuilder`\n",
    "which is what you will use to add suboperations to the composite bloq storing your\n",
    "decomposition.\n",
    "\n",
    "We use `bb.add(...)` to add sub-operations. For our swap operation, we will need to call\n",
    "`add` three times for each of the CNOTs. The signature is: `bb.add(bloq, **bloq_args)` where\n",
    "the first argument is an instantiation of the bloq we want to add, and then keyword arguments\n",
    "providing the input quantum variables. This call will return quantum variables representing\n",
    "the outputs of the operation that are suitable for using as inputs to subsequent operations.\n",
    "\n",
    "The method returns a dictionary mapping (output) register names to the final quantum variables."
   ]
  },
  {
   "cell_type": "code",
   "execution_count": null,
   "id": "1b2af153",
   "metadata": {},
   "outputs": [],
   "source": [
    "class SwapTwoBits(Bloq):\n",
    "    @property\n",
    "    def registers(self):\n",
    "        return FancyRegisters([\n",
    "            FancyRegister('x', 1),\n",
    "            FancyRegister('y', 1),\n",
    "        ])\n",
    "\n",
    "    def build_composite_bloq(self, bb: 'CompositeBloqBuilder', *, x, y):\n",
    "        x, y = bb.add(CNOT(), control=x, target=y)\n",
    "        y, x = bb.add(CNOT(), control=y, target=x)\n",
    "        x, y = bb.add(CNOT(), control=x, target=y)\n",
    "        return {'x': x, 'y': y}"
   ]
  },
  {
   "cell_type": "markdown",
   "id": "9ade0bc3",
   "metadata": {},
   "source": [
    "Note that each CNOT operation takes two arguments named \"control\" and \"target\" and returns\n",
    "two quantum variables which are ordered according to the ordering of the registers\n",
    "in `CNOT.registers` (so in this case: control, target).\n",
    "\n",
    "Let's see what this looks like."
   ]
  },
  {
   "cell_type": "code",
   "execution_count": null,
   "id": "676dddd5",
   "metadata": {},
   "outputs": [],
   "source": [
    "swap = SwapTwoBits()\n",
    "show_bloq(swap)"
   ]
  },
  {
   "cell_type": "markdown",
   "id": "87172163",
   "metadata": {},
   "source": [
    "Wait! This is still just a two-bit black box! I thought we defined the bloq by its decomposition.\n",
    "The Bloq object always represents the atomic operation and `CompositeBloq` always represents\n",
    "a collection of sub-operations. We have to explicitly request the decomposition if that's\n",
    "what we want to visualize."
   ]
  },
  {
   "cell_type": "code",
   "execution_count": null,
   "id": "f08bb50b",
   "metadata": {},
   "outputs": [],
   "source": [
    "show_bloq(swap.decompose_bloq())"
   ]
  },
  {
   "cell_type": "markdown",
   "id": "5cf1a3d8",
   "metadata": {},
   "source": [
    "### Using `CompositeBloqBuilder` directly\n",
    "\n",
    "You can build a standalone `CompositeBloq` (i.e. not as part of the decomposition of\n",
    "another bloq) as well. This can come in handy for testing or prototyping. Simply\n",
    "instantiate a `CompositeBloqBuilder`. You need to manually\n",
    "manage your registers with `bb.add_register(...)` and you must finish your building session\n",
    "by calling `bb.finalize(...)` to freeze your composite-bloq-under-construction into an\n",
    "immutable `CompositeBloq`."
   ]
  },
  {
   "cell_type": "code",
   "execution_count": null,
   "id": "d23ab186",
   "metadata": {},
   "outputs": [],
   "source": [
    "bb = CompositeBloqBuilder()\n",
    "x = bb.add_register('x', 1)\n",
    "y = bb.add_register('y', 1)\n",
    "x, y = bb.add(CNOT(), control=x, target=y)\n",
    "y, x = bb.add(CNOT(), control=y, target=x)\n",
    "x, y = bb.add(CNOT(), control=x, target=y)\n",
    "cbloq = bb.finalize(x=x, y=y)\n",
    "show_bloq(cbloq)"
   ]
  },
  {
   "cell_type": "markdown",
   "id": "a63a9531",
   "metadata": {},
   "source": [
    "## Quantum variables and `Soquet`s.\n",
    "\n",
    "What are the types of `x` and `y`? They represent quantum variables used to \"wire up\" sub\n",
    "operations by providing them as inputs and receiving them as outputs during calls to `bb.add`.\n",
    "\n",
    "<div class=\"alert alert-block alert-warning\">If you're familiar with Cirq, you might think\n",
    "that they are equivalent to cirq.Qubits. Whereas a cirq.Circuit has a fixed pool of qubits\n",
    "on which many operations act, these quantum variables follow different rules &mdash; read on!</div>\n",
    "\n",
    "The rules of quantum mechanics makes these quantum variables behave very differently than\n",
    "normal variables. The most salient rules are the no-cloning theorem and its dual, the\n",
    "[no-deleting theorem](https://en.wikipedia.org/wiki/No-deleting_theorem). In the parlance\n",
    "of programming language research, our variables follow \"linear logic\". A linear variable\n",
    "must be used once and only once.\n",
    "\n",
    "The following snippets show improper use of our quantum variables. Luckily, the bloq builder will\n",
    "raise an error if the rules of quantum mechanics are not followed!"
   ]
  },
  {
   "cell_type": "code",
   "execution_count": null,
   "id": "85da3eb7",
   "metadata": {},
   "outputs": [],
   "source": [
    "from cirq_qubitization.quantum_graph.composite_bloq import BloqBuilderError\n",
    "\n",
    "bb = CompositeBloqBuilder()\n",
    "x = bb.add_register('x', 1)\n",
    "y = bb.add_register('y', 1)\n",
    "\n",
    "try:\n",
    "    _ = bb.add(CNOT(), control=x, target=x)\n",
    "except BloqBuilderError as e:\n",
    "    print(\"Can't use a variable as both control and target!\")\n",
    "    print(e)"
   ]
  },
  {
   "cell_type": "code",
   "execution_count": null,
   "id": "cfe23c3e",
   "metadata": {},
   "outputs": [],
   "source": [
    "bb = CompositeBloqBuilder()\n",
    "x = bb.add_register('x', 1)\n",
    "y = bb.add_register('y', 1)\n",
    "x2, y2 = bb.add(CNOT(), control=x, target=y)\n",
    "\n",
    "try:\n",
    "    x3, y3 = bb.add(CNOT(), control=x, target=y)\n",
    "except BloqBuilderError as e:\n",
    "    print(\"`x` and `y` were consumed by the first call to `add`.\")\n",
    "    print(\"Returned quantum variables are *new, immutable* variables that you use\")\n",
    "    print(\"in subsequent operations\")\n",
    "    print(e)"
   ]
  },
  {
   "cell_type": "code",
   "execution_count": null,
   "id": "3b07af73",
   "metadata": {},
   "outputs": [],
   "source": [
    "bb = CompositeBloqBuilder()\n",
    "x = bb.add_register('x', 1)\n",
    "y = bb.add_register('y', 1)\n",
    "\n",
    "# The following line turns on the additional checks needed to\n",
    "# raise an exception in this case:\n",
    "bb.add_register_allowed = False\n",
    "\n",
    "x2, y2 = bb.add(CNOT(), control=x, target=y)\n",
    "x3, y3 = bb.add(CNOT(), control=x2, target=y2)\n",
    "\n",
    "try:\n",
    "    bb.finalize(x=x3)\n",
    "except BloqBuilderError as e:\n",
    "    print(\"Any unused variables must be 'passed on' to `finalize` to be outputs.\")\n",
    "    print(e)"
   ]
  },
  {
   "cell_type": "markdown",
   "id": "432b4c75",
   "metadata": {},
   "source": [
    "The actual Python type of these objects is `Soquet`, which you will see in type annotations,\n",
    "but you should never instantiate a `Soquet` directly, nor should you use or set its attributes.\n",
    "Soquets should be constructed and managed by `CompositeBloqBuilder` and other infrastructure.\n",
    "\n",
    "<div class=\"alert alert-block alert-warning\">Another opaque, infrastructural class that\n",
    "    you may see but should not be manipulating directly is <code>BloqInstance</code>. This simple wrapper\n",
    "lets us distinguish between two *instances* of e.g. a CNOT bloq. Usually we want value\n",
    "equality semantics between bloqs.</div>"
   ]
  },
  {
   "cell_type": "markdown",
   "id": "4f44f287",
   "metadata": {},
   "source": [
    "## Larger registers\n",
    "\n",
    "Our two bloqs have still been operating at the level of individual bits. We now consider\n",
    "a general swap between two `n`-sized registers."
   ]
  },
  {
   "cell_type": "code",
   "execution_count": null,
   "id": "145c65b6",
   "metadata": {},
   "outputs": [],
   "source": [
    "@attrs.frozen\n",
    "class Swap(Bloq):\n",
    "    n: int\n",
    "\n",
    "    @property\n",
    "    def registers(self):\n",
    "        return FancyRegisters([\n",
    "            FancyRegister('x', bitsize=self.n),\n",
    "            FancyRegister('y', bitsize=self.n),\n",
    "        ])"
   ]
  },
  {
   "cell_type": "markdown",
   "id": "1513500c",
   "metadata": {},
   "source": [
    "Note that our bloq now has an attrs attribute `n` that lets us configure the exact parameters\n",
    "of the bloq without defining a new class. This is analogous to a template parameter in C++,\n",
    "for example. Bloqs should be immutable and hashable."
   ]
  },
  {
   "cell_type": "code",
   "execution_count": null,
   "id": "4bcc3e93",
   "metadata": {},
   "outputs": [],
   "source": [
    "assert Swap(5) == Swap(5)\n",
    "assert Swap(5) != Swap(6)"
   ]
  },
  {
   "cell_type": "code",
   "execution_count": null,
   "id": "2ebf0d70",
   "metadata": {},
   "outputs": [],
   "source": [
    "from cirq_qubitization.quantum_graph.composite_bloq import SoquetT\n",
    "\n",
    "\n",
    "@attrs.frozen\n",
    "class Swap(Bloq):\n",
    "    n: int\n",
    "\n",
    "    @property\n",
    "    def registers(self):\n",
    "        return FancyRegisters.build(x=self.n, y=self.n)\n",
    "\n",
    "    def build_composite_bloq(\n",
    "            self, bb: 'CompositeBloqBuilder', *, x: SoquetT, y: SoquetT\n",
    "    ) -> Dict[str, SoquetT]:\n",
    "        # THIS WON'T ACTUALLY WORK! Read on.\n",
    "        for i in range(self.n):\n",
    "            x[i], y[i] = bb.add(SwapTwoBits(), x=x[i], y=y[i])\n",
    "        return {'x': x, 'y': y}"
   ]
  },
  {
   "cell_type": "markdown",
   "id": "3db1bfa8",
   "metadata": {},
   "source": [
    "For our first attempt, we will straightforwardly decompose our swap between two n-bit registers\n",
    "into n swaps over each bit in the two registers. There's a note that this won't actually work.\n",
    "Let's see what happens."
   ]
  },
  {
   "cell_type": "code",
   "execution_count": null,
   "id": "b08436af",
   "metadata": {},
   "outputs": [],
   "source": [
    "show_bloq(Swap(n=5))"
   ]
  },
  {
   "cell_type": "markdown",
   "id": "fdc991f3",
   "metadata": {},
   "source": [
    "That looks fine... In fact: you can see a useful property of bloqs. Instead of representing\n",
    "each qubit as its own quantum variable, the size of our register is just a property annotated\n",
    "on the graph. We can make it arbitrarily large with no performance penalty"
   ]
  },
  {
   "cell_type": "code",
   "execution_count": null,
   "id": "fba876e0",
   "metadata": {},
   "outputs": [],
   "source": [
    "show_bloq(Swap(n=10_000))"
   ]
  },
  {
   "cell_type": "markdown",
   "id": "ec5150d2",
   "metadata": {},
   "source": [
    "The problem occurs when we decompose our bloq."
   ]
  },
  {
   "cell_type": "code",
   "execution_count": null,
   "id": "48648ac4",
   "metadata": {},
   "outputs": [],
   "source": [
    "import traceback\n",
    "\n",
    "try:\n",
    "    cbloq = Swap(n=5).decompose_bloq()\n",
    "except TypeError as e:\n",
    "    print(traceback.format_exc())"
   ]
  },
  {
   "cell_type": "markdown",
   "id": "d029bf65",
   "metadata": {},
   "source": [
    "Can you figure out what's happening? The very advantage alluded to above has come back\n",
    "to bite us! If we have one object representing an n-bit register, we can't index into it\n",
    "to do bit-twiddling in our decomposition. We'll take a second look at `FancyRegister` to see\n",
    "if we can modify our registers declaration to make this work.\n",
    "\n",
    "`FancyRegister` can represent an n-dimensional array of quantum bits. For example, I can\n",
    "declare a 3x3 matrix of 32-bit quantum variables:"
   ]
  },
  {
   "cell_type": "code",
   "execution_count": null,
   "id": "c98fa648",
   "metadata": {},
   "outputs": [],
   "source": [
    "arr_reg = FancyRegister('arr', bitsize=32, wireshape=(3, 3))\n",
    "print('total bits:', arr_reg.total_bits())"
   ]
  },
  {
   "cell_type": "markdown",
   "id": "91d649ca",
   "metadata": {},
   "source": [
    "<div class=\"alert alert-block alert-info\">`wireshape` is like `np.ndarray.shape`.</div>\n",
    "\n",
    "In computing, we can think of all data as an ndarray of bits or qubits, but -- analogous to\n",
    "classical data types -- it's preferable to treat a certain number of bits (or qubits) as\n",
    "our atomic datatype. For example, in C, an array of `int32 x[10];` does not let you index\n",
    "into individual bits like `x[3][31]`. Unlike in C, you are not limited by machine word size\n",
    "for atomic type sizes, which is why above we could define a register of `bitsize=5`.\n",
    "\n",
    "In the `SwapTwoBits` example everything was `bitsize=1` and we could write our decomposition\n",
    "without slicing into the registers. Let's write a version of `Swap` that uses an array\n",
    "of `bitsize=1` values."
   ]
  },
  {
   "cell_type": "code",
   "execution_count": null,
   "id": "7095d363",
   "metadata": {},
   "outputs": [],
   "source": [
    "@attrs.frozen\n",
    "class SwapManyBits(Bloq):\n",
    "    n: int\n",
    "\n",
    "    @property\n",
    "    def registers(self):\n",
    "        # Not ideal; read on.\n",
    "        return FancyRegisters([\n",
    "            FancyRegister('x', bitsize=1, wireshape=(self.n,)),\n",
    "            FancyRegister('y', bitsize=1, wireshape=(self.n,)),\n",
    "        ])\n",
    "\n",
    "    def build_composite_bloq(\n",
    "            self, bb: 'CompositeBloqBuilder', *, x: SoquetT, y: SoquetT\n",
    "    ) -> Dict[str, SoquetT]:\n",
    "        for i in range(self.n):\n",
    "            x[i], y[i] = bb.add(SwapTwoBits(), x=x[i], y=y[i])\n",
    "        return {'x': x, 'y': y}"
   ]
  },
  {
   "cell_type": "markdown",
   "id": "6a5649f3",
   "metadata": {},
   "source": [
    "Now since we've moved our `n` dimension of our inputs into the `wireshape` part of\n",
    "the register declaration, slicing should work:"
   ]
  },
  {
   "cell_type": "code",
   "execution_count": null,
   "id": "6db17a87",
   "metadata": {},
   "outputs": [],
   "source": [
    "cbloq = SwapManyBits(n=4).decompose_bloq()\n",
    "show_bloq(cbloq)"
   ]
  },
  {
   "cell_type": "markdown",
   "id": "41a1cb9a",
   "metadata": {},
   "source": [
    "The problem is now we (once again) have a Python object constructed for each bit:"
   ]
  },
  {
   "cell_type": "code",
   "execution_count": null,
   "id": "a301b582",
   "metadata": {},
   "outputs": [],
   "source": [
    "show_bloq(SwapManyBits(n=4))"
   ]
  },
  {
   "cell_type": "markdown",
   "id": "57f16270",
   "metadata": {},
   "source": [
    "<div class=\"alert alert-block alert-info\">Forget about trying to show `n=10_000`.</div>\n",
    "\n",
    "Can we have the best of both worlds? Yes: the general technique is to represent the Bloq\n",
    "definition in as high-level terms as practical and use `bb.split(...)` and `bb.join(...)`\n",
    "to break apart registers during decomposition. This way a user can use the Bloq as a black-box\n",
    "without incurring the performance overhead of representing each bit if they do not care about\n",
    "the decomposition. If they *are* interested in the decomposition, then the cost will only be\n",
    "paid when actually doing the decomposition."
   ]
  },
  {
   "cell_type": "code",
   "execution_count": null,
   "id": "99f9fd52",
   "metadata": {},
   "outputs": [],
   "source": [
    "@attrs.frozen\n",
    "class Swap(Bloq):\n",
    "    n: int\n",
    "\n",
    "    @property\n",
    "    def registers(self):\n",
    "        return FancyRegisters.build(x=self.n, y=self.n)\n",
    "\n",
    "    def build_composite_bloq(\n",
    "            self, bb: 'CompositeBloqBuilder', *, x: SoquetT, y: SoquetT\n",
    "    ) -> Dict[str, SoquetT]:\n",
    "        xs = bb.split(x)\n",
    "        ys = bb.split(y)\n",
    "\n",
    "        for i in range(self.n):\n",
    "            xs[i], ys[i] = bb.add(SwapTwoBits(), x=xs[i], y=ys[i])\n",
    "        return {\n",
    "            'x': bb.join(xs),\n",
    "            'y': bb.join(ys),\n",
    "        }"
   ]
  },
  {
   "cell_type": "code",
   "execution_count": null,
   "id": "c5932695",
   "metadata": {},
   "outputs": [],
   "source": [
    "cbloq = Swap(n=5).decompose_bloq()\n",
    "show_bloq(cbloq)"
   ]
  },
  {
   "cell_type": "markdown",
   "id": "e74ee2b3",
   "metadata": {},
   "source": [
    "## Bloq protocols\n",
    "\n",
    "Bloqs support a growing list of protocols that let you annotate a given `Bloq` with more\n",
    "definitions or known information. Other methods you can look into implementing include:\n",
    "- `add_my_tensors` for tensor-network simulation support.\n",
    "- `t_complexity` to annotate resource requirements\n",
    "- `on_registers` to support conversion to a Cirq circuit\n",
    "- `apply_classical` for simulating classical logic bloqs (coming soon)."
   ]
  }
 ],
 "metadata": {
  "kernelspec": {
   "display_name": "Python 3 (ipykernel)",
   "language": "python",
   "name": "python3"
  },
  "language_info": {
   "codemirror_mode": {
    "name": "ipython",
    "version": 3
   },
   "file_extension": ".py",
   "mimetype": "text/x-python",
   "name": "python",
   "nbconvert_exporter": "python",
   "pygments_lexer": "ipython3",
   "version": "3.10.9"
  }
 },
 "nbformat": 4,
 "nbformat_minor": 5
}
