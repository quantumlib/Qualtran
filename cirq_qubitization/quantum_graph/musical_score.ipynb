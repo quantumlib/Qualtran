{
 "cells": [
  {
   "cell_type": "markdown",
   "id": "5fa41bdb",
   "metadata": {},
   "source": [
    "# Musical Score\n",
    "\n",
    "The internal representation of a `CompositeBloq` is a directed acyclic graph. Here, we lay out that graph on a \"musical score\", which avoids the problems of edges crossing over each other and is more familiar to quantum computing practitioners.\n",
    "\n",
    "A musical score is one where time proceeds from left to right and each horizontal line\n",
    "represents a qubit or register of qubits."
   ]
  },
  {
   "cell_type": "code",
   "execution_count": null,
   "id": "2b1e3b16",
   "metadata": {},
   "outputs": [],
   "source": [
    "import matplotlib.pyplot as plt\n",
    "import numpy as np"
   ]
  },
  {
   "cell_type": "code",
   "execution_count": null,
   "id": "98aac04d",
   "metadata": {},
   "outputs": [],
   "source": [
    "from cirq_qubitization.bloq_algos.and_bloq import MultiAnd\n",
    "from cirq_qubitization.quantum_graph.bloq import Bloq\n",
    "from cirq_qubitization.quantum_graph.composite_bloq import CompositeBloq, CompositeBloqBuilder\n",
    "from cirq_qubitization.quantum_graph.fancy_registers import FancyRegisters, FancyRegister\n",
    "from cirq_qubitization.jupyter_tools import show_bloq"
   ]
  },
  {
   "cell_type": "markdown",
   "id": "664d4689",
   "metadata": {},
   "source": [
    "### Graph\n",
    "\n",
    "Below is a graphviz-rendered view of a 4-bit and's decomposition."
   ]
  },
  {
   "cell_type": "code",
   "execution_count": null,
   "id": "d642c664",
   "metadata": {},
   "outputs": [],
   "source": [
    "cb = MultiAnd((1,1,1, 1)).decompose_bloq()\n",
    "show_bloq(cb)"
   ]
  },
  {
   "cell_type": "markdown",
   "id": "b5c0f814",
   "metadata": {},
   "source": [
    "## Matplotlib musical score\n",
    "\n",
    "First, we call a function to assign each soquet to a position on the musical score; then we provide it to `draw_musical_score` which will use matplotlib to draw the symbols and lines according to the positions in `soq_assign`."
   ]
  },
  {
   "cell_type": "code",
   "execution_count": null,
   "id": "fcbbcc9b",
   "metadata": {},
   "outputs": [],
   "source": [
    "from cirq_qubitization.quantum_graph.musical_score import get_musical_score_data, draw_musical_score\n",
    "msd = get_musical_score_data(cb)\n",
    "fig, ax = draw_musical_score(msd)\n",
    "fig.tight_layout()"
   ]
  },
  {
   "cell_type": "markdown",
   "id": "b76e47bd",
   "metadata": {},
   "source": [
    "## Javascript musical score\n",
    "\n",
    "We can dump the salient visualization information to JSON so it can be loaded from javascript and displayed using the d3-based drawing utilities in `musical_score.js`. See `musical_score.html` where we load in this information."
   ]
  },
  {
   "cell_type": "code",
   "execution_count": null,
   "id": "38271e89",
   "metadata": {},
   "outputs": [],
   "source": [
    "from cirq_qubitization.quantum_graph.musical_score import dump_musical_score\n",
    "\n",
    "dump_musical_score(msd, name='musical_score_example')"
   ]
  }
 ],
 "metadata": {
  "kernelspec": {
   "display_name": "Python 3 (ipykernel)",
   "language": "python",
   "name": "python3"
  },
  "language_info": {
   "codemirror_mode": {
    "name": "ipython",
    "version": 3
   },
   "file_extension": ".py",
   "mimetype": "text/x-python",
   "name": "python",
   "nbconvert_exporter": "python",
   "pygments_lexer": "ipython3",
   "version": "3.10.9"
  }
 },
 "nbformat": 4,
 "nbformat_minor": 5
}
