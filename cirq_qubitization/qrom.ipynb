{
 "cells": [
  {
   "cell_type": "markdown",
   "id": "ffe91e97",
   "metadata": {
    "cq.autogen": "title_cell"
   },
   "source": [
    "# QROM"
   ]
  },
  {
   "cell_type": "code",
   "execution_count": null,
   "id": "2737c79f",
   "metadata": {
    "cq.autogen": "top_imports"
   },
   "outputs": [],
   "source": [
    "import cirq\n",
    "import numpy as np\n",
    "import cirq_qubitization\n",
    "import cirq_qubitization.testing as cq_testing\n",
    "from cirq_qubitization.jupyter_tools import display_gate_and_compilation\n",
    "from typing import *"
   ]
  },
  {
   "cell_type": "markdown",
   "id": "5d6a18ce",
   "metadata": {
    "cq.autogen": "_make_QROM.md"
   },
   "source": [
    "## `QROM`\n",
    "Gate to load data[l] in the target register when the selection register stores integer l."
   ]
  },
  {
   "cell_type": "code",
   "execution_count": null,
   "id": "7a91a2db",
   "metadata": {
    "cq.autogen": "_make_QROM.py"
   },
   "outputs": [],
   "source": [
    "from cirq_qubitization import QROM\n",
    "\n",
    "g = cq_testing.GateHelper(\n",
    "    QROM([1, 2, 3, 4, 5])\n",
    ")\n",
    "\n",
    "display_gate_and_compilation(g)"
   ]
  }
 ],
 "metadata": {
  "kernelspec": {
   "display_name": "Python 3 (ipykernel)",
   "language": "python",
   "name": "python3"
  },
  "language_info": {
   "codemirror_mode": {
    "name": "ipython",
    "version": 3
   },
   "file_extension": ".py",
   "mimetype": "text/x-python",
   "name": "python",
   "nbconvert_exporter": "python",
   "pygments_lexer": "ipython3",
   "version": "3.10.6"
  }
 },
 "nbformat": 4,
 "nbformat_minor": 5
}
