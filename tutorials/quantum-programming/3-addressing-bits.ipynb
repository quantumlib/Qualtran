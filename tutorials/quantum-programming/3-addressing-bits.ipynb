{
 "cells": [
  {
   "cell_type": "markdown",
   "id": "ace1aba9-d37b-4aaf-926d-bc1e6a99aadd",
   "metadata": {},
   "source": [
    "# Writing a quantum program 3: addressing bits\n",
    "\n",
    "Qualtran lets you write quantum programs and subroutines by composing lower-level subroutines, gates, and operations. We call these composable objects *bloqs* because they are the quantum building blocks of a complex algorithm. Composition is recursive: composing (lower-level) bloqs defines (higher-level) bloqs. \n",
    "\n",
    "In this tutorial, you will write a very simple quantum program by composing bloqs. The program will declare two input/output registers named 'x' and 'y' and swap the (quantum) integers stored within. In particular, we will swap each individual bit encoding the two integers. This tutorial will show you how `Split` and `Join` can be used to implement low-level routines."
   ]
  },
  {
   "cell_type": "markdown",
   "id": "c133b44d-05eb-40c5-9f93-d3b6317b36cf",
   "metadata": {},
   "source": [
    "## Writing the program\n",
    "\n",
    "Our subroutine inputs and outputs two quantum integers. Often, we try to operate on high-level data types like this to remove classes of (quantum) type errors. When writing low-level quantum subroutines, we have to peel back the details of the encoding to write decompositions that take us closer to a typical quantum gateset of one- and two-qubit gates.\n",
    "\n",
    "To swap two integers, we can swap each bit encoding the integers. In pseudocode, this is\n",
    "\n",
    "```pseudocode\n",
    "    input qint x, y\n",
    "    for each bit in x, y:\n",
    "        x[i], y[i] = bit_swap(x[i], y[i])\n",
    "    output qint x, y\n",
    "```\n",
    "\n",
    "We can translate this pseudocode into a well-formed Qualtran program relatively straightforwardly. We need to take particular care when iterating over \"each bit in x, y\". What does this actually mean? In Qualtran, we assume that data is encoded in qubits, and writing low-level operations requires temporarily removing the quantum data type abstraction to operate on the bits directly. The programmer must explicitly state their intent to do so by including *bookkeeping* operations in the program. Below, we use `split` and `join` to manipulate individual bits.\n",
    "\n",
    "`split` takes one `QInt` soquet (i.e. one handle to a quantum integer) and returns $n$ `QBit` soquets which can be individually manipulated."
   ]
  },
  {
   "cell_type": "code",
   "execution_count": null,
   "id": "8eefa5d2-6031-4b02-a3f7-bafb43cc4a72",
   "metadata": {},
   "outputs": [],
   "source": [
    "# Quantum program: QIntSwap\n",
    "# This program swaps two 4-bit integers, x <--> y.\n",
    "# \n",
    "# Registers:\n",
    "#   x: an 8-bit quantum integer\n",
    "#   y: an 8-bit quantum integer\n",
    "\n",
    "# Start writing our program.\n",
    "from qualtran import BloqBuilder\n",
    "from qualtran import QInt, QBit\n",
    "bb = BloqBuilder()\n",
    "\n",
    "# Add input/output registers named 'x' and 'y'.\n",
    "n = 4\n",
    "x = bb.add_register('x', QInt(n))\n",
    "y = bb.add_register('y', QInt(n))\n",
    "\n",
    "# Split integers into their individual bits\n",
    "xs = bb.split(x)\n",
    "ys = bb.split(y)\n",
    "\n",
    "from qualtran.bloqs.basic_gates import TwoBitSwap\n",
    "for i in range(n):\n",
    "    xs[i], ys[i] = bb.add(TwoBitSwap(), x=xs[i], y=ys[i])\n",
    "\n",
    "# Join bits back to a quantum integer\n",
    "x = bb.join(xs, QInt(n))\n",
    "y = bb.join(ys, QInt(n))\n",
    "\n",
    "# Finish up: map final soquets to output register names.\n",
    "swap_routine = bb.finalize(x=x, y=y)"
   ]
  },
  {
   "cell_type": "markdown",
   "id": "20f28ca8-c1e5-49ec-83cb-36fd8aa9e3aa",
   "metadata": {},
   "source": [
    "As always, we want to test that the program is indeed a valid construction."
   ]
  },
  {
   "cell_type": "code",
   "execution_count": null,
   "id": "2207e759-4f2f-4e77-8f89-28cc70b59419",
   "metadata": {},
   "outputs": [],
   "source": [
    "import qualtran.testing as qlt_testing\n",
    "qlt_testing.assert_valid_cbloq(swap_routine)"
   ]
  },
  {
   "cell_type": "markdown",
   "id": "69447a45-a6c8-4f14-9e38-6544bb2e795d",
   "metadata": {},
   "source": [
    "We can view the program's compute graph. Note that the `Split` and `Join` bookkeeping operations are nodes in the compute graph. You can see that `x` is *split* from a 4-bit 'wire' into four 1-bit wires. Since our program must return `x`, `y` as integers, we make sure to join the bits back up before concluding."
   ]
  },
  {
   "cell_type": "code",
   "execution_count": null,
   "id": "88c7e692-004e-4c82-ae81-cdb91ad6f840",
   "metadata": {},
   "outputs": [],
   "source": [
    "from qualtran.drawing import show_bloq\n",
    "show_bloq(swap_routine)"
   ]
  },
  {
   "cell_type": "markdown",
   "id": "d9cf3fb6-cbca-4459-8f6d-30ac85202bb5",
   "metadata": {},
   "source": [
    "Traditional quantum circuit diagrams (which we call *musical score style diagrams* for complete unambiguity) don't typically have a notion of splitting and joining wires; but in Qualtran, they will be depicted as one (e.g. 4-bit) wire ending tied to multiple (e.g. 4) one-bit wires starting."
   ]
  },
  {
   "cell_type": "code",
   "execution_count": null,
   "id": "daf3404a-5f0e-4662-b756-e6e955fce307",
   "metadata": {},
   "outputs": [],
   "source": [
    "show_bloq(swap_routine, 'musical_score')"
   ]
  },
  {
   "cell_type": "markdown",
   "id": "3b645c6b-86a4-46d0-bdbd-79bb163b0756",
   "metadata": {},
   "source": [
    "## Classical simulation\n",
    "\n",
    "The classical simulation routines handle splits and joins as expected; and we can verify that swapping the individual bits of an integer results in the integers being swapped."
   ]
  },
  {
   "cell_type": "code",
   "execution_count": null,
   "id": "8e5a00fe-e133-49c6-8611-7be7e4f75690",
   "metadata": {},
   "outputs": [],
   "source": [
    "swap_routine.call_classically(x=5, y=6)"
   ]
  }
 ],
 "metadata": {
  "kernelspec": {
   "display_name": "Python 3 (ipykernel)",
   "language": "python",
   "name": "python3"
  },
  "language_info": {
   "codemirror_mode": {
    "name": "ipython",
    "version": 3
   },
   "file_extension": ".py",
   "mimetype": "text/x-python",
   "name": "python",
   "nbconvert_exporter": "python",
   "pygments_lexer": "ipython3",
   "version": "3.11.8"
  }
 },
 "nbformat": 4,
 "nbformat_minor": 5
}
