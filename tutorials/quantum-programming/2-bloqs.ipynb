{
 "cells": [
  {
   "cell_type": "markdown",
   "id": "9b1df4c9-1d97-42b8-9602-db8c53f47a1c",
   "metadata": {},
   "source": [
    "# Writing a quantum program 2: bloq properties\n",
    "\n",
    "Qualtran lets you write quantum programs and subroutines by composing lower-level subroutines, gates, and operations. We call these composable objects *bloqs* because they are the quantum building blocks of a complex algorithm. Composition is recursive: composing (lower-level) bloqs defines (higher-level) bloqs. \n",
    "\n",
    "In this tutorial, you will write your own bloq defined by a composition of subbloqs. You will query properties of the bloq by calling methods on the bloq object."
   ]
  },
  {
   "cell_type": "markdown",
   "id": "544e6b6c-892a-49f1-bc6e-ef2e0cfa2dfa",
   "metadata": {},
   "source": [
    "## Negating an integer, again\n",
    "\n",
    "Recall from the first tutorial that we can negate a signed integer by performing a `BitwiseNot` and then adding the constant `k=1`.\n",
    "We will start with the code from the prior tutorial. "
   ]
  },
  {
   "cell_type": "code",
   "execution_count": null,
   "id": "3e888bf3-1af2-4021-8f79-5713f184d38e",
   "metadata": {},
   "outputs": [],
   "source": [
    "# Quantum program 2\n",
    "# Negate a quantum integer\n",
    "# \n",
    "# Registers:\n",
    "#   x: an 8-bit signed quantum integer\n",
    "\n",
    "from qualtran import BloqBuilder\n",
    "from qualtran import QInt\n",
    "\n",
    "from qualtran.bloqs.arithmetic import BitwiseNot, AddK\n",
    "\n",
    "# Set up input/output registers named 'x'\n",
    "bb = BloqBuilder()\n",
    "x = bb.add_register('x', QInt(8))\n",
    "\n",
    "# Do the sub-operations\n",
    "x = bb.add(BitwiseNot(QInt(8)), x=x)\n",
    "x = bb.add(AddK(QInt(8), k=1), x=x)\n",
    "\n",
    "# Finish up\n",
    "negate = bb.finalize(x=x)\n",
    "\n",
    "import qualtran.testing as qlt_testing\n",
    "qlt_testing.assert_valid_cbloq(negate)"
   ]
  },
  {
   "cell_type": "markdown",
   "id": "fd9eebfa-3c1b-4187-be9c-97e1393bb959",
   "metadata": {},
   "source": [
    "## Declaring a negation `Bloq`\n",
    "\n",
    "Each re-usable subroutine is defined by a *bloq class* that inherits from the `qualtran.Bloq` abstract base class. While this introduces a degree of boilerplate not present in our original program, it lets you annotate your bloq with additional information that can later be used in analysis. \n",
    "\n",
    "We start by stubbing out a bloq class for our negation operation, which we name `Negate`. In this code snippet:\n",
    "\n",
    " - We declare a new Python class named `Negate` that implements the `qualtran.Bloq` interface.\n",
    " - Here and throughout the Qualtran standard library we use the [attrs](https://www.attrs.org/en/stable/) package to simplify the definition of Python classes. We recommend this for your own bloq definitions, but it isn't strictly required. In this snippet, we just get a few niceties (readible string representation, hashability, ...) from `attrs`. We'll describe any additional functionality later, as we use it.\n",
    " - We implement the one stricly-required method: `signature`. This method returns a specification that describes the input/output names and types of the bloq."
   ]
  },
  {
   "cell_type": "code",
   "execution_count": null,
   "id": "ea6ac8fa-3cab-4fcf-b53b-bec08bdc713f",
   "metadata": {},
   "outputs": [],
   "source": [
    "import attrs\n",
    "from qualtran import Bloq, Signature, Register\n",
    "\n",
    "@attrs.frozen\n",
    "class Negate(Bloq):\n",
    "    \"\"\"Negate a quantum integer.\n",
    "\n",
    "    Registers:\n",
    "        x: an 8-bit signed quantum integer\n",
    "    \"\"\"\n",
    "\n",
    "    @property\n",
    "    def signature(self) -> Signature:\n",
    "        # The signature specifies input/output data types for the bloq.\n",
    "        # It is a list of `Register` objects; each describing an input, output,\n",
    "        # or input-output register.\n",
    "        return Signature([\n",
    "            # Our signature has one register named \"x\" with data type of QInt(8)\n",
    "            Register('x', QInt(8)),\n",
    "        ])"
   ]
  },
  {
   "cell_type": "markdown",
   "id": "2a18e87c-ec0e-471f-848a-343f7000b523",
   "metadata": {},
   "source": [
    "This is the minimum-viable bloq class. Note that we've just *declared* the quantum operation and its signature. Later we will *define* it by writing its decomposition into subbloqs. \n",
    "\n",
    "By instantiating the *bloq class* we can get a *bloq object*. These objects can be added to other quantum programs, and we can query their properties. Later, we'll see how a single bloq class can instantiate a variety of bloq objects by changing compile-time classical parameters; but for now, accept that you have to instantiate bloq classes into bloq objects."
   ]
  },
  {
   "cell_type": "code",
   "execution_count": null,
   "id": "f41587dc-d21b-4981-b072-bed48a276d2e",
   "metadata": {},
   "outputs": [],
   "source": [
    "negate = Negate()"
   ]
  },
  {
   "cell_type": "markdown",
   "id": "58710dd7-accc-4253-a440-a947d44e1f3e",
   "metadata": {},
   "source": [
    "We can already query some properties of the bloq. Of course we can inspect its signature."
   ]
  },
  {
   "cell_type": "code",
   "execution_count": null,
   "id": "20f621b3-c5d1-4a0e-942c-322794c03465",
   "metadata": {},
   "outputs": [],
   "source": [
    "print(\"Number of registers in `negate`:\", len(negate.signature))"
   ]
  },
  {
   "cell_type": "markdown",
   "id": "40365edd-caf2-4fb0-bef2-9185976270fe",
   "metadata": {},
   "source": [
    "We can also estimate the number of qubits. Since we haven't provided an implementation for the bloq, this estimate will just use the signature and may be an underestimate."
   ]
  },
  {
   "cell_type": "code",
   "execution_count": null,
   "id": "107d599f-6ccb-422e-a6fc-2278312c2bc4",
   "metadata": {},
   "outputs": [],
   "source": [
    "from qualtran.resource_counting import get_cost_value, QubitCount\n",
    "\n",
    "print(\"Number of qubits in `negate` (underestimate):\", get_cost_value(negate, QubitCount()))"
   ]
  },
  {
   "cell_type": "markdown",
   "id": "04c9909a-3f68-4924-a1d6-a46068cddbaa",
   "metadata": {},
   "source": [
    "## Implementing a negation `Bloq`\n",
    "\n",
    "To implement the decomposition (i.e. circuit) for our negation subroutine, we need to port the code from the prior tutorial (reproduced at the top of this page) into a method on the bloq class. In particular, we implement the `build_composite_bloq` method. In the following snippet:\n",
    "\n",
    " - We copy the code from before. The set-up is the same.\n",
    " - We implement a method called `build_composite_bloq`. Unlike our free-form program, here the Qualtran framework will configure our `bb: BloqBuilder` object according to the bloq's signature; and input quantum variables (soquets) will be passed in&mdash;again according to the bloq's signature."
   ]
  },
  {
   "cell_type": "code",
   "execution_count": null,
   "id": "56977093-dce8-42e0-8290-3339fec0ba52",
   "metadata": {},
   "outputs": [],
   "source": [
    "import attrs\n",
    "from qualtran import Bloq, Signature, Register\n",
    "\n",
    "@attrs.frozen\n",
    "class Negate(Bloq):\n",
    "    \"\"\"Negate a quantum integer.\n",
    "\n",
    "    Registers:\n",
    "        x: an 8-bit signed quantum integer\n",
    "    \"\"\"\n",
    "\n",
    "    @property\n",
    "    def signature(self) -> Signature:\n",
    "        return Signature([\n",
    "            Register('x', QInt(8)),\n",
    "        ])\n",
    "        \n",
    "    def build_composite_bloq(self, bb: BloqBuilder, x):\n",
    "        # The framework passes in a pre-configured BloqBuilder argument\n",
    "        # additional parameters to this method should be named according\n",
    "        # to the signature. For example, this method takes one additional\n",
    "        # argument named \"x\" which corresponds to the input quantum variable \"x\".\n",
    "\n",
    "        # The implementation of our subroutine wire up the subbloqs as before\n",
    "        x = bb.add(BitwiseNot(QInt(8)), x=x)\n",
    "        x = bb.add(AddK(QInt(8), k=1), x=x)\n",
    "\n",
    "        # At the end, we associate our output regesters with the final\n",
    "        # quantum variable.\n",
    "        return {'x': x}"
   ]
  },
  {
   "cell_type": "markdown",
   "id": "5959b711-8812-430a-97cb-1b866852a08a",
   "metadata": {},
   "source": [
    "## Inspecting a negation bloq\n",
    "\n",
    "Let's visualize our newly declared and defined bloq. First, we instantiate the bloq class into a bloq object."
   ]
  },
  {
   "cell_type": "code",
   "execution_count": null,
   "id": "3cc294bc-1a6d-4de4-90b3-38d89798f2bb",
   "metadata": {},
   "outputs": [],
   "source": [
    "negate = Negate()"
   ]
  },
  {
   "cell_type": "markdown",
   "id": "77d43b81-fe56-4ce4-921b-e449b4ca3e8c",
   "metadata": {},
   "source": [
    "Let's draw the directed acyclic graph representation of the subroutine like we did in tutorial 1."
   ]
  },
  {
   "cell_type": "code",
   "execution_count": null,
   "id": "21dc9ac4-64b6-49a6-ba06-3a199cd7d964",
   "metadata": {},
   "outputs": [],
   "source": [
    "from qualtran.drawing import show_bloq\n",
    "show_bloq(negate)"
   ]
  },
  {
   "cell_type": "markdown",
   "id": "68fb217d-3918-4e80-8a4f-f8be65bbd7cb",
   "metadata": {},
   "source": [
    "Is that what you expected to see? The `show_bloq` function draws a single box for our `Negate` bloq. **Qualtran will always keep programs in a modular, heirarchical form unless specifically asked.** This is essential to support reasoning about large quantum programs with billions of gates.\n",
    "\n",
    "We can get the expected implementation of the negation bloq by calling the `decompose_bloq` method. This will perform one level of decomposition; and is used extensivly during program analysis or visualization to recurse down the syntax tree."
   ]
  },
  {
   "cell_type": "code",
   "execution_count": null,
   "id": "d3af895f-6516-4182-8a22-0f676df5c89e",
   "metadata": {},
   "outputs": [],
   "source": [
    "show_bloq(negate.decompose_bloq())"
   ]
  },
  {
   "cell_type": "markdown",
   "id": "2e02a716-aadf-4563-b166-55eab9e294f4",
   "metadata": {},
   "source": [
    "How do you compile your program down to individual one- and two- qubit atomic gates? Again, you **usually shouldn't do this**, and should instead design your analysis routine to work in a modular, recursive fashion. That being said: there is a method called `flatten` which does multiple in-place decompositions."
   ]
  },
  {
   "cell_type": "markdown",
   "id": "b30a6b85-df6f-45a3-8731-b2f252f0b898",
   "metadata": {},
   "source": [
    "## Analyzing a negation bloq\n",
    "\n",
    "We can compute various resource costs on the bloq."
   ]
  },
  {
   "cell_type": "code",
   "execution_count": null,
   "id": "4f043bd3-a5ee-40f6-b665-a27378374cc5",
   "metadata": {},
   "outputs": [],
   "source": [
    "from qualtran.resource_counting import get_cost_value, QECGatesCost\n",
    "\n",
    "get_cost_value(negate, QECGatesCost())"
   ]
  },
  {
   "cell_type": "code",
   "execution_count": null,
   "id": "bd13a5d6-feca-4cfc-8f80-99a4f62a8a0b",
   "metadata": {},
   "outputs": [],
   "source": [
    "get_cost_value(negate, QubitCount())"
   ]
  },
  {
   "cell_type": "markdown",
   "id": "8aa07165-7fdf-4a00-8a96-c1a34c497e3a",
   "metadata": {},
   "source": [
    "`show_call_graph` will show the bloq's *call graph*: the quantity and types of subbloqs involved in the decomposition. Here, we limit it to a finite depth. By default, the call graph will include some salient resource costs."
   ]
  },
  {
   "cell_type": "code",
   "execution_count": null,
   "id": "0d29d280-7b32-460e-8e89-6b944cbbe0fe",
   "metadata": {},
   "outputs": [],
   "source": [
    "from qualtran.drawing import show_call_graph\n",
    "show_call_graph(negate, max_depth=2)"
   ]
  },
  {
   "cell_type": "markdown",
   "id": "f52a0d93-413e-4e48-b68e-a184a38ef837",
   "metadata": {},
   "source": [
    "We can simulate certain classical-reversible gates (like this one) by using the `call_classically` method."
   ]
  },
  {
   "cell_type": "code",
   "execution_count": null,
   "id": "b08a05fa-729f-4980-bde4-38c21c530895",
   "metadata": {},
   "outputs": [],
   "source": [
    "negate.call_classically(x=5)"
   ]
  },
  {
   "cell_type": "markdown",
   "id": "02f07218-1c5e-4b85-80fd-4238c1e37c38",
   "metadata": {},
   "source": [
    "We can do a full statevector-like quantum simulation by requesting the bloq's *tensors*. This should only be attempted for bloqs with easy tensor contraction paths, like those with small qubit counts or particular amplitudes in shallow circuits."
   ]
  },
  {
   "cell_type": "code",
   "execution_count": null,
   "id": "b9fe6da6-59aa-4842-8540-73f6b40a7ba5",
   "metadata": {},
   "outputs": [],
   "source": [
    "unitary = negate.tensor_contract()\n",
    "unitary.shape"
   ]
  },
  {
   "cell_type": "markdown",
   "id": "1a98521c-d96c-4074-9975-bae7328d2166",
   "metadata": {},
   "source": [
    "## Bloq classes define a family of bloq objects\n",
    "\n",
    "Often times, we want to use compile-time classical parameters to change the construction of a quantum subroutine. Here, we modify our `Negate` example to define a *family* of bloq objects with different bitsizes. In this code snippet we:\n",
    "\n",
    " - Add a class attribute called `n` which stores the number of bits that this bloq will process.\n",
    " - Modify the signature of the bloq to use the parameter `n` to declare which data types we will process, namely signed integers of bitsize `n`.\n",
    " - Modify the subbloqs we call to again use the parameter `n`"
   ]
  },
  {
   "cell_type": "code",
   "execution_count": null,
   "id": "c49d0fed-5b3b-4a02-bf5b-4e43467df390",
   "metadata": {},
   "outputs": [],
   "source": [
    "import attrs\n",
    "from qualtran import Bloq, Signature, Register\n",
    "\n",
    "@attrs.frozen\n",
    "class Negate(Bloq):\n",
    "    \"\"\"Negate a quantum integer.\n",
    "\n",
    "    Args:\n",
    "        n: the number of bits\n",
    "\n",
    "    Registers:\n",
    "        x: an n-bit signed quantum integer\n",
    "    \"\"\"\n",
    "\n",
    "    # the `attrs` decorator lets us define class attributes\n",
    "    # with this simple name: type syntax.\n",
    "    # This sets up one classical parameter \"n\", which should\n",
    "    # be an integer.\n",
    "    n: int\n",
    "\n",
    "    @property\n",
    "    def signature(self) -> Signature:\n",
    "        return Signature([\n",
    "            # Instead of hard-coding the value \"8\" for the number of bits,\n",
    "            # we use the class attribute `n`.\n",
    "            Register('x', QInt(bitsize=self.n)),\n",
    "        ])\n",
    "        \n",
    "    def build_composite_bloq(self, bb: BloqBuilder, x):\n",
    "        # Instead of hard-coding the value \"8\" for the number of bits\n",
    "        # in the subbloqs, we use the class attribute `n`.\n",
    "        x = bb.add(BitwiseNot(QInt(self.n)), x=x)\n",
    "        x = bb.add(AddK(QInt(self.n), k=1), x=x)\n",
    "        return {'x': x}"
   ]
  },
  {
   "cell_type": "markdown",
   "id": "a91d6195-3834-4dcf-801a-7415b52eb000",
   "metadata": {},
   "source": [
    "Throughout the standard library of bloqs, you will see many compile-time classical parameters making *generic* bloq classes that can generate bloq objects with different bitsizes and data types. The compile-time class attributes can also e.g. invert the control value of a controlled bloq. Finally, we support quantum metaprogramming by writing bloq classes that take a bloq object as a compile-time classical parameter. An example of this would be the phase estimation bloqs."
   ]
  },
  {
   "cell_type": "code",
   "execution_count": null,
   "id": "de699f93-b56e-47f5-ba58-b221257a6b0f",
   "metadata": {},
   "outputs": [],
   "source": [
    "# Now, we instantiate our bloq class into a bloq object\n",
    "# by specifying the bitsize\n",
    "negate = Negate(n=2048)\n",
    "show_bloq(negate)"
   ]
  },
  {
   "cell_type": "code",
   "execution_count": null,
   "id": "d2462724-b390-4149-86a7-2b058694885c",
   "metadata": {},
   "outputs": [],
   "source": [
    "# Even large registers can be supported performantly\n",
    "show_bloq(negate.decompose_bloq())"
   ]
  },
  {
   "cell_type": "markdown",
   "id": "fa0b1276-9ad6-4903-b9e7-6a9b72c77f1a",
   "metadata": {},
   "source": [
    "## Symbolics\n",
    "\n",
    "Sometimes, the bloq composition doesn't need a concrete value for its parameters. The `sympy` package is a Python library for doing symbolic computer algebra. Here and throughout the Qualtran standard library we can use `sympy.Symbol`s in place of concrete values."
   ]
  },
  {
   "cell_type": "code",
   "execution_count": null,
   "id": "4c57ae88-9134-400f-bfe4-d9c3244016ae",
   "metadata": {},
   "outputs": [],
   "source": [
    "import sympy\n",
    "n = sympy.Symbol('n')\n",
    "negate = Negate(n=n)\n",
    "show_bloq(negate.decompose_bloq())"
   ]
  },
  {
   "cell_type": "markdown",
   "id": "c34ce08d-581c-4ca5-bdb3-73feabdaab72",
   "metadata": {},
   "source": [
    "Since we can do arithmetic on sympy symbols, many analysis protocols work on symbolic parameters including the resource costing features."
   ]
  },
  {
   "cell_type": "code",
   "execution_count": null,
   "id": "b8e96d22-d801-4a1d-a748-b2c77268ce24",
   "metadata": {},
   "outputs": [],
   "source": [
    "get_cost_value(negate, QECGatesCost())"
   ]
  }
 ],
 "metadata": {
  "kernelspec": {
   "display_name": "Python 3 (ipykernel)",
   "language": "python",
   "name": "python3"
  },
  "language_info": {
   "codemirror_mode": {
    "name": "ipython",
    "version": 3
   },
   "file_extension": ".py",
   "mimetype": "text/x-python",
   "name": "python",
   "nbconvert_exporter": "python",
   "pygments_lexer": "ipython3",
   "version": "3.11.8"
  }
 },
 "nbformat": 4,
 "nbformat_minor": 5
}
