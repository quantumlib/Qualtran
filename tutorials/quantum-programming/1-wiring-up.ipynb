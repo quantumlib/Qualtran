{
 "cells": [
  {
   "cell_type": "markdown",
   "id": "9b1df4c9-1d97-42b8-9602-db8c53f47a1c",
   "metadata": {},
   "source": [
    "# Writing a quantum program 1: wiring up\n",
    "\n",
    "Qualtran lets you write quantum programs and subroutines by composing lower-level subroutines, gates, and operations. We call these composable objects *bloqs* because they are the quantum building blocks of a complex algorithm. Composition is recursive: composing (lower-level) bloqs defines (higher-level) bloqs. \n",
    "\n",
    "In this tutorial, you will write a very simple quantum program by composing bloqs. The program will declare an input/output integer register named 'x' and use subroutines to negate the integer."
   ]
  },
  {
   "cell_type": "markdown",
   "id": "fa37ebb1-08a8-4f04-9f16-4a7ae0d852a3",
   "metadata": {},
   "source": [
    "## Using `BloqBuilder`\n",
    "\n",
    "Before we write our simple `negate` program, we'll write the simplest possible program:\n",
    "let's create a program that takes an integer and does nothing to it. In this code snippet, we\n",
    "\n",
    " - import `BloqBuilder`. We'll use methods on this class to construct our program.\n",
    " - import some data types. Here, we import `QInt` which specifies a quantum integer. This is a quantum data type *class*. When writing a quantum program, we need to instantiate these into quantum data type *objects* by providing any *compile-time classical parameters* to the data type's constructor.\n",
    " - declare a *register* for our program. We use the `add_register` method. We provide a name for the register; and we provide the quantum data type. The method returns a handle to the declared register that we can use later. These handles are called *soquets*. They will always be instantiated and consumed by the framework&mdash;the quantum programmer should never concern themselves with the internals of a Python soquet object.\n",
    " - immediately finish the program. Since this first program does nothing, we immediately return. Our call to `bb.finalize` maps output register names to soquets.  "
   ]
  },
  {
   "cell_type": "code",
   "execution_count": null,
   "id": "fd3fee75-7a4f-4c62-90c7-e172f0b56cf1",
   "metadata": {},
   "outputs": [],
   "source": [
    "# Quantum program 1\n",
    "# This program does nothing\n",
    "# \n",
    "# Registers:\n",
    "#   x: an 8-bit signed quantum integer\n",
    "\n",
    "from qualtran import BloqBuilder\n",
    "from qualtran import QInt\n",
    "\n",
    "# Start program construction\n",
    "bb = BloqBuilder()\n",
    "\n",
    "# Add input/output registers named 'x'\n",
    "x = bb.add_register('x', QInt(8))\n",
    "\n",
    "do_nothing = bb.finalize(x=x)"
   ]
  },
  {
   "cell_type": "markdown",
   "id": "bc557f8e-cdfe-440b-8e29-8fb00697760a",
   "metadata": {},
   "source": [
    "At a very basic level, we want the structure of our program to be valid. We can use the following check to do some basic assertions about the structure of the program."
   ]
  },
  {
   "cell_type": "code",
   "execution_count": null,
   "id": "fe669b3b-f879-45ec-93b5-79eb85a72f06",
   "metadata": {},
   "outputs": [],
   "source": [
    "import qualtran.testing as qlt_testing\n",
    "qlt_testing.assert_valid_cbloq(do_nothing)"
   ]
  },
  {
   "cell_type": "markdown",
   "id": "928cbb84-c81e-4211-bbb3-9dbffe9f9ed6",
   "metadata": {},
   "source": [
    "We can also show a directed acyclic graph representation of the program, which is similarly simple."
   ]
  },
  {
   "cell_type": "code",
   "execution_count": null,
   "id": "bfbb4b9e-3ab4-4b4c-9104-0386b2c610f3",
   "metadata": {},
   "outputs": [],
   "source": [
    "from qualtran.drawing import show_bloq\n",
    "show_bloq(do_nothing)"
   ]
  },
  {
   "cell_type": "markdown",
   "id": "544e6b6c-892a-49f1-bc6e-ef2e0cfa2dfa",
   "metadata": {},
   "source": [
    "## Negating an integer: pseudocode\n",
    "\n",
    "In mathematics, there are infinitely many positive and negative integers. In engineering, we sadly must encode our integers into bits or qubits which have a finite range of values. In Qualtran, signed integers are encoded using twos-compliment"
   ]
  },
  {
   "cell_type": "code",
   "execution_count": null,
   "id": "893f416c-76b0-4746-973d-00ffd5a268ee",
   "metadata": {},
   "outputs": [],
   "source": [
    "print(QInt(8).to_bits( 1))\n",
    "print(QInt(8).to_bits(-1))"
   ]
  },
  {
   "cell_type": "markdown",
   "id": "8776cb54-a515-4c7e-927a-a9d5335279fe",
   "metadata": {},
   "source": [
    "It is beyond the scope of this tutorial, but take some time to convince yourself that the unary negation operation can be performed through\n",
    "\n",
    "    -x = ~x + 1\n",
    "\n",
    "where `(~x)` is the bitwise-not of each bit in the encoding of `x`.\n",
    "\n",
    "To write our negation program, we'll use `BitwiseNot` to take the bitwise-not of x, and then `AddK` to add the classical compile-time constant `1`. Let's check the reference docs for these two operations."
   ]
  },
  {
   "cell_type": "markdown",
   "id": "9a97a0fc-2115-4743-a2e9-f2c37e4e6c11",
   "metadata": {},
   "source": [
    "## Negating an integer: code"
   ]
  },
  {
   "cell_type": "markdown",
   "id": "64e4794f-01ff-424d-9c2f-cd5ae9c45e00",
   "metadata": {},
   "source": [
    "If we look up the [documentation for `BitwiseNot`]() we can see what compile-time classical parameters and quantum registers we're expected to provide. \n",
    "\n",
    "> `BitwiseNot` <br/>\n",
    "> **Parameters:** `dtype`: Data type of the input register `x`. <br/>\n",
    "> **Registers:** `x`: A quantum register of type `self.dtype`.\n",
    "\n",
    "\n",
    "Similarly, we can look up the documentation for `AddK`. It also takes a paremeter `dtype` and a register `x`. It additionally takes in the classical value we wish to add as parameter `k`.\n",
    "\n",
    "We'll add two statements to our prior \"do nothing\" program to call these quantum subroutines."
   ]
  },
  {
   "cell_type": "code",
   "execution_count": null,
   "id": "3e888bf3-1af2-4021-8f79-5713f184d38e",
   "metadata": {},
   "outputs": [],
   "source": [
    "# Quantum program 2\n",
    "# Negate a quantum integer\n",
    "# \n",
    "# Registers:\n",
    "#   x: an 8-bit signed quantum integer\n",
    "\n",
    "from qualtran import BloqBuilder\n",
    "from qualtran import QInt\n",
    "\n",
    "from qualtran.bloqs.arithmetic import BitwiseNot, AddK\n",
    "\n",
    "# Set up input/output registers named 'x'\n",
    "bb = BloqBuilder()\n",
    "x = bb.add_register('x', QInt(8))\n",
    "\n",
    "# Do the sub-operations\n",
    "x = bb.add(BitwiseNot(QInt(8)), x=x)\n",
    "x = bb.add(AddK(QInt(8), k=1), x=x)\n",
    "\n",
    "# Finish up\n",
    "negate = bb.finalize(x=x)"
   ]
  },
  {
   "cell_type": "markdown",
   "id": "1a45de24-5661-4339-99e3-cae54985d24d",
   "metadata": {},
   "source": [
    "We always start by checking basic assertions about the structure of the program. If this assertion runs without error, the program is valid (although further tests should be performed to convince yourself it is *correct*)."
   ]
  },
  {
   "cell_type": "code",
   "execution_count": null,
   "id": "61c93a70-f2ba-48d8-94d0-8c11a7a28389",
   "metadata": {},
   "outputs": [],
   "source": [
    "qlt_testing.assert_valid_cbloq(negate)"
   ]
  },
  {
   "cell_type": "markdown",
   "id": "a7e185de-7819-40c8-90f8-66500be421f1",
   "metadata": {},
   "source": [
    "We can inspect the directed acyclic graph representation of the program. This contains the same information as is found in a traditional quantum circuit diagram."
   ]
  },
  {
   "cell_type": "code",
   "execution_count": null,
   "id": "068ec821-3a65-46ef-a72b-f8ddd13f6186",
   "metadata": {},
   "outputs": [],
   "source": [
    "show_bloq(negate)"
   ]
  },
  {
   "cell_type": "markdown",
   "id": "efcdce5f-9201-4b49-ad68-ee9da85d4f4e",
   "metadata": {},
   "source": [
    "## Testing classical logic\n",
    "\n",
    "Testing quantum programs is challenging in general because of the potentially exponential number of 'paths' connecting inputs and outputs. Our program only performs classical logic: if given a classical input (also known as a *computaitonal basis state*) it will return one and only one classical output. Although clearly one cannot achieve *quantum advantage* with only classical logic, a surprising number of *subroutines* in full quantum programs involve reversible-classical logic. In this context, the classical-reversible subroutines are called on superpositions of quantum data; but by factoring these parts into subroutines, we can write unit tests involving individual classical input/output states.\n",
    "\n",
    "We exploit the simulability of bloqs that encode classical-reversible logic. Here, we call our program with `x=5` and note that the returned value is indeed negated. This can be extended to *fuzz test* a variety of input/output pairs for correctness."
   ]
  },
  {
   "cell_type": "code",
   "execution_count": null,
   "id": "f8f553a8-7115-4077-bafd-465f2653ab91",
   "metadata": {},
   "outputs": [],
   "source": [
    "negate.call_classically(x=5)"
   ]
  }
 ],
 "metadata": {
  "kernelspec": {
   "display_name": "Python 3 (ipykernel)",
   "language": "python",
   "name": "python3"
  },
  "language_info": {
   "codemirror_mode": {
    "name": "ipython",
    "version": 3
   },
   "file_extension": ".py",
   "mimetype": "text/x-python",
   "name": "python",
   "nbconvert_exporter": "python",
   "pygments_lexer": "ipython3",
   "version": "3.11.8"
  }
 },
 "nbformat": 4,
 "nbformat_minor": 5
}
